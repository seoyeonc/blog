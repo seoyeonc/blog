{
  "cells": [
    {
      "cell_type": "markdown",
      "metadata": {},
      "source": [
        "# GConvGRU and GNAR_Simulation Tables_reshape\n",
        "\n",
        "SEOYEON CHOI  \n",
        "5/17/23\n",
        "\n",
        "> Simulation Tables\n",
        "\n",
        "# import"
      ],
      "id": "2686e413-cc19-45e6-a4f6-41528a4570e7"
    },
    {
      "cell_type": "code",
      "execution_count": 176,
      "metadata": {},
      "outputs": [],
      "source": [
        "import pandas as pd"
      ],
      "id": "a817df66-48d6-4154-90d4-db4bcbbd8327"
    },
    {
      "cell_type": "code",
      "execution_count": 177,
      "metadata": {},
      "outputs": [],
      "source": [
        "data_fivenodes = pd.read_csv('./simulation_results/Real_simulation_reshape/fivedones_Simulation.csv')"
      ],
      "id": "c201e3d0-a633-4bd7-a627-09298c0f354d"
    },
    {
      "cell_type": "code",
      "execution_count": 178,
      "metadata": {},
      "outputs": [],
      "source": [
        "data_chickenpox = pd.read_csv('./simulation_results/Real_simulation_reshape/chikenpox_Simulation.csv')"
      ],
      "id": "78159932-158a-4d5c-bb95-c9938defa69b"
    },
    {
      "cell_type": "code",
      "execution_count": 179,
      "metadata": {},
      "outputs": [],
      "source": [
        "data_pedal = pd.read_csv('./simulation_results/Real_simulation_reshape/pedalme_Simulation.csv')"
      ],
      "id": "285a615d-5d39-4565-97d9-6669aa119d3f"
    },
    {
      "cell_type": "code",
      "execution_count": 180,
      "metadata": {},
      "outputs": [],
      "source": [
        "data_pedal2 = pd.read_csv('./simulation_results/Real_simulation_reshape/pedalme_Simulation_itstgcnsnd.csv')"
      ],
      "id": "ffa17f3f-5b76-4b4f-9b28-3de8a7ecb20a"
    },
    {
      "cell_type": "code",
      "execution_count": 181,
      "metadata": {},
      "outputs": [],
      "source": [
        "data__wiki = pd.read_csv('./simulation_results/Real_simulation_reshape/wikimath.csv')"
      ],
      "id": "65713159-27ae-438d-8c6b-1992ecc1be06"
    },
    {
      "cell_type": "code",
      "execution_count": 182,
      "metadata": {},
      "outputs": [],
      "source": [
        "data_wiki_GSO = pd.read_csv('./simulation_results/Real_simulation_reshape/wikimath_GSO_st.csv')"
      ],
      "id": "9ff8f1d2-0929-48f5-98ab-bbde2626e3e9"
    },
    {
      "cell_type": "code",
      "execution_count": 183,
      "metadata": {},
      "outputs": [],
      "source": [
        "data_windmillsmall = pd.read_csv('./simulation_results/Real_simulation_reshape/windmillsmall.csv')"
      ],
      "id": "8954b4d8-74c0-40f0-8ece-73c17cb14fba"
    },
    {
      "cell_type": "code",
      "execution_count": 184,
      "metadata": {},
      "outputs": [],
      "source": [
        "data_monte = pd.read_csv('./simulation_results/Real_simulation_reshape/monte.csv')"
      ],
      "id": "4ae1486a-e936-4a88-b7db-82e75876deff"
    },
    {
      "cell_type": "code",
      "execution_count": 185,
      "metadata": {},
      "outputs": [],
      "source": [
        "data = pd.concat([data_fivenodes,data_chickenpox,data_pedal,data__wiki,data_windmillsmall,data_monte]);data"
      ],
      "id": "4a3633ae-d835-4085-a7eb-3bd299954c6a"
    },
    {
      "cell_type": "code",
      "execution_count": 186,
      "metadata": {},
      "outputs": [],
      "source": [
        "data.to_csv('./simulation_results/Real_simulation_reshape/Final_Simulation_GConvGRU.csv',index=False)"
      ],
      "id": "8019e8b9-57db-4954-ad90-d94fb7fee19a"
    },
    {
      "cell_type": "code",
      "execution_count": 106,
      "metadata": {},
      "outputs": [],
      "source": [
        "pedal_wiki_GSO = pd.concat([data_pedal2,data_wiki_GSO])"
      ],
      "id": "0a81f13b-77d1-401b-b1b5-c293e6e9b146"
    },
    {
      "cell_type": "code",
      "execution_count": 107,
      "metadata": {},
      "outputs": [],
      "source": [
        "pedal_wiki_GSO.to_csv('./simulation_results/Real_simulation_reshape/Final_Simulation_GConvGRU_pedal_wiki_GSO.csv',index=False)"
      ],
      "id": "da004bc9-9fc0-4bd4-96f2-5cc1ce884d12"
    },
    {
      "cell_type": "markdown",
      "metadata": {},
      "source": [
        "# Fivenodes\n",
        "\n",
        "## Baseline"
      ],
      "id": "bfe4604e-1018-4935-b706-419aff0e3081"
    },
    {
      "cell_type": "code",
      "execution_count": 51,
      "metadata": {},
      "outputs": [],
      "source": [
        "pd.merge(data.query(\"dataset=='fivenodes' and mtype!='rand' and mtype!='block'\").groupby(['nof_filters','method','lags'])['mse'].mean().reset_index(),\n",
        "         data.query(\"dataset=='fivenodes' and mtype!='rand' and mtype!='block'\").groupby(['nof_filters','method','lags'])['mse'].std().reset_index(),\n",
        "         on=['method','nof_filters','lags']).rename(columns={'mse_x':'mean','mse_y':'std'}).round(3)"
      ],
      "id": "4abd20c1-bd2e-4d1d-8c38-eccad602b845"
    },
    {
      "cell_type": "markdown",
      "metadata": {},
      "source": [
        "## Random"
      ],
      "id": "9daf5115-a3f9-482c-b8fd-7287499fd06b"
    },
    {
      "cell_type": "code",
      "execution_count": 52,
      "metadata": {},
      "outputs": [],
      "source": [
        "pd.merge(data.query(\"dataset=='fivenodes' and mtype=='rand'\").groupby(['mrate','nof_filters','method','lags'])['mse'].mean().reset_index(),\n",
        "         data.query(\"dataset=='fivenodes' and mtype=='rand'\").groupby(['mrate','nof_filters','method','lags'])['mse'].std().reset_index(),\n",
        "         on=['method','nof_filters','mrate','lags']).rename(columns={'mse_x':'mean','mse_y':'std'}).round(3).query(\"nof_filters==12\")"
      ],
      "id": "6fe81d17-6758-4999-9d56-42af810e5608"
    },
    {
      "cell_type": "markdown",
      "metadata": {},
      "source": [
        "## Block"
      ],
      "id": "8d7d3b0e-dba0-4af2-ab66-1e294a1217d1"
    },
    {
      "cell_type": "code",
      "execution_count": 53,
      "metadata": {},
      "outputs": [],
      "source": [
        "pd.merge(data.query(\"dataset=='fivenodes' and mtype=='block'\").groupby(['mrate','nof_filters','method'])['mse'].mean().reset_index(),\n",
        "         data.query(\"dataset=='fivenodes' and mtype=='block'\").groupby(['mrate','nof_filters','method'])['mse'].std().reset_index(),\n",
        "         on=['method','nof_filters','mrate']).rename(columns={'mse_x':'mean','mse_y':'std'}).round(3)"
      ],
      "id": "b4bee8fb-b9ee-40ee-b202-55ef729afbf9"
    },
    {
      "cell_type": "markdown",
      "metadata": {},
      "source": [
        "# ChickenpoxDatasetLoader(lags=4)\n",
        "\n",
        "## Baseline"
      ],
      "id": "50b9fd89-f138-4d80-9dae-74cae4e7e0e1"
    },
    {
      "cell_type": "code",
      "execution_count": 54,
      "metadata": {},
      "outputs": [],
      "source": [
        "pd.merge(data.query(\"dataset=='chickenpox' and mtype!='rand' and mtype!='block'\").groupby(['nof_filters','method'])['mse'].mean().reset_index(),\n",
        "         data.query(\"dataset=='chickenpox' and mtype!='rand' and mtype!='block'\").groupby(['nof_filters','method'])['mse'].std().reset_index(),\n",
        "         on=['method','nof_filters']).rename(columns={'mse_x':'mean','mse_y':'std'}).round(3).query(\"nof_filters==16\")"
      ],
      "id": "28225fc2-e24e-49b0-a133-818aa80ad165"
    },
    {
      "cell_type": "markdown",
      "metadata": {},
      "source": [
        "## Random"
      ],
      "id": "845e993c-228c-4de6-9a13-80cc0cde0030"
    },
    {
      "cell_type": "code",
      "execution_count": 55,
      "metadata": {},
      "outputs": [],
      "source": [
        "pd.merge(data.query(\"dataset=='chickenpox' and mtype=='rand'\").groupby(['mrate','inter_method','nof_filters','method'])['mse'].mean().reset_index(),\n",
        "         data.query(\"dataset=='chickenpox' and mtype=='rand'\").groupby(['mrate','inter_method','nof_filters','method'])['mse'].std().reset_index(),\n",
        "         on=['method','inter_method','mrate','nof_filters']).rename(columns={'mse_x':'mean','mse_y':'std'}).round(3)"
      ],
      "id": "359a8df9-4379-4f41-b2ad-79cb4cfff4d7"
    },
    {
      "cell_type": "markdown",
      "metadata": {},
      "source": [
        "## Block"
      ],
      "id": "87b12daa-f58d-4395-9cb9-a51243cb53f0"
    },
    {
      "cell_type": "code",
      "execution_count": 56,
      "metadata": {},
      "outputs": [],
      "source": [
        "pd.merge(data.query(\"dataset=='chickenpox' and mtype=='block'\").groupby(['inter_method','mrate','nof_filters','method'])['mse'].mean().reset_index(),\n",
        "         data.query(\"dataset=='chickenpox' and mtype=='block'\").groupby(['inter_method','mrate','nof_filters','method'])['mse'].std().reset_index(),\n",
        "         on=['method','inter_method','mrate','nof_filters']).rename(columns={'mse_x':'mean','mse_y':'std'})"
      ],
      "id": "28f2398b-4408-4043-a207-20cdd78084d2"
    },
    {
      "cell_type": "markdown",
      "metadata": {},
      "source": [
        "# PedalMeDatasetLoader (lags=4)\n",
        "\n",
        "## Baseline"
      ],
      "id": "72a22310-7a2c-48a8-8dcb-1d21a5ee0e88"
    },
    {
      "cell_type": "code",
      "execution_count": 57,
      "metadata": {},
      "outputs": [],
      "source": [
        "pd.merge(data.query(\"dataset=='pedalme' and mtype!='rand' and mtype!='block'\").groupby(['lags','nof_filters','method'])['mse'].mean().reset_index(),\n",
        "         data.query(\"dataset=='pedalme' and mtype!='rand' and mtype!='block'\").groupby(['lags','nof_filters','method'])['mse'].std().reset_index(),\n",
        "         on=['method','lags','nof_filters']).rename(columns={'mse_x':'mean','mse_y':'std'}).round(3).query(\"lags==4\")"
      ],
      "id": "5ca6e0d8-2093-46e2-953a-371ecd47ff72"
    },
    {
      "cell_type": "markdown",
      "metadata": {},
      "source": [
        "## Random"
      ],
      "id": "26d5741c-c3c2-4870-ba6b-529b3d2257f9"
    },
    {
      "cell_type": "code",
      "execution_count": 58,
      "metadata": {},
      "outputs": [],
      "source": [
        "pd.merge(data.query(\"dataset=='pedalme' and mtype=='rand'\").groupby(['mrate','lags','inter_method','method'])['mse'].mean().reset_index(),\n",
        "         data.query(\"dataset=='pedalme' and mtype=='rand'\").groupby(['mrate','lags','inter_method','method'])['mse'].std().reset_index(),\n",
        "         on=['method','mrate','lags','inter_method']).rename(columns={'mse_x':'mean','mse_y':'std'}).round(3)"
      ],
      "id": "f152ea60-b16f-409e-888a-d65228dd55c2"
    },
    {
      "cell_type": "markdown",
      "metadata": {},
      "source": [
        "## Block"
      ],
      "id": "cafff51c-4288-4ac9-84f0-a4674ddec308"
    },
    {
      "cell_type": "code",
      "execution_count": 59,
      "metadata": {},
      "outputs": [],
      "source": [
        "pd.merge(data.query(\"dataset=='pedalme' and mtype=='block'\").groupby(['mrate','lags','inter_method','method'])['mse'].mean().reset_index(),\n",
        "         data.query(\"dataset=='pedalme' and mtype=='block'\").groupby(['mrate','lags','inter_method','method'])['mse'].std().reset_index(),\n",
        "         on=['method','mrate','lags','inter_method']).rename(columns={'mse_x':'mean','mse_y':'std'}).round(3).query(\"lags==4\")"
      ],
      "id": "5323b8ec-6546-41ad-b295-1900a2062f6c"
    },
    {
      "cell_type": "markdown",
      "metadata": {},
      "source": [
        "## W_st"
      ],
      "id": "1e98d8c4-a747-4099-9f60-f0032a16dd91"
    },
    {
      "cell_type": "code",
      "execution_count": 60,
      "metadata": {},
      "outputs": [],
      "source": [
        "pd.merge(data_pedal2.query(\"mtype=='rand'\").groupby(['mrate','lags','inter_method','method'])['mse'].mean().reset_index(),\n",
        "         data_pedal2.query(\"mtype=='rand'\").groupby(['mrate','lags','inter_method','method'])['mse'].std().reset_index(),\n",
        "         on=['method','mrate','lags','inter_method']).rename(columns={'mse_x':'mean','mse_y':'std'}).round(3).query(\"lags==4\")"
      ],
      "id": "50cec014-4b29-480a-817a-5e391553a7e2"
    },
    {
      "cell_type": "code",
      "execution_count": 61,
      "metadata": {},
      "outputs": [],
      "source": [
        "pd.merge(data_pedal2.query(\"mtype=='block'\").groupby(['mrate','lags','inter_method','method'])['mse'].mean().reset_index(),\n",
        "         data_pedal2.query(\"mtype=='block'\").groupby(['mrate','lags','inter_method','method'])['mse'].std().reset_index(),\n",
        "         on=['method','mrate','lags','inter_method']).rename(columns={'mse_x':'mean','mse_y':'std'}).round(3).query(\"lags==4\")"
      ],
      "id": "e46665af-17ff-44c1-955f-edaa200fd654"
    },
    {
      "cell_type": "markdown",
      "metadata": {},
      "source": [
        "# WikiMathsDatasetLoader (lags=8)\n",
        "\n",
        "## Baseline"
      ],
      "id": "6023e9a9-a6ec-4f67-a4f1-27bb1b837ff6"
    },
    {
      "cell_type": "code",
      "execution_count": 62,
      "metadata": {},
      "outputs": [],
      "source": [
        "pd.merge(data.query(\"dataset=='wikimath' and mrate==0\").groupby(['lags','nof_filters','method'])['mse'].mean().reset_index(),\n",
        "         data.query(\"dataset=='wikimath' and mrate==0\").groupby(['lags','nof_filters','method'])['mse'].std().reset_index(),\n",
        "         on=['lags','nof_filters','method']).rename(columns={'mse_x':'mean','mse_y':'std'}).round(3)"
      ],
      "id": "95bd8186-dfc3-4ffa-9685-dfbcd93ae025"
    },
    {
      "cell_type": "markdown",
      "metadata": {},
      "source": [
        "## Random"
      ],
      "id": "e5cb3bc6-102a-4d0c-ab8d-25cf2d84fd48"
    },
    {
      "cell_type": "code",
      "execution_count": 63,
      "metadata": {},
      "outputs": [],
      "source": [
        "pd.merge(data.query(\"dataset=='wikimath' and mtype=='rand'\").groupby(['mrate','lags','method'])['mse'].mean().reset_index(),\n",
        "         data.query(\"dataset=='wikimath' and mtype=='rand'\").groupby(['mrate','lags','method'])['mse'].std().reset_index(),\n",
        "         on=['method','mrate','lags']).rename(columns={'mse_x':'mean','mse_y':'std'}).round(3)"
      ],
      "id": "6ab33f98-64f9-40d4-8fd6-19d21df7c379"
    },
    {
      "cell_type": "markdown",
      "metadata": {},
      "source": [
        "## Block"
      ],
      "id": "9b57d53c-1b9a-410d-8f27-8addf8f25817"
    },
    {
      "cell_type": "code",
      "execution_count": 64,
      "metadata": {},
      "outputs": [],
      "source": [
        "pd.merge(data.query(\"dataset=='wikimath' and mtype=='block'\").groupby(['mrate','lags','method'])['mse'].mean().reset_index(),\n",
        "         data.query(\"dataset=='wikimath' and mtype=='block'\").groupby(['mrate','lags','method'])['mse'].std().reset_index(),\n",
        "         on=['method','mrate','lags']).rename(columns={'mse_x':'mean','mse_y':'std'})"
      ],
      "id": "c4999042-34ca-4ee5-b0f2-316c53c7a9db"
    },
    {
      "cell_type": "markdown",
      "metadata": {},
      "source": [
        "## missing values on the same nodes"
      ],
      "id": "306588f2-069a-42a7-afaa-9f4353e47388"
    },
    {
      "cell_type": "code",
      "execution_count": 65,
      "metadata": {},
      "outputs": [],
      "source": [
        "pd.merge(data_wiki_GSO.groupby(['mrate','lags','method'])['mse'].mean().reset_index(),\n",
        "        data_wiki_GSO.groupby(['mrate','lags','method'])['mse'].std().reset_index(),\n",
        "         on=['method','mrate','lags']).rename(columns={'mse_x':'mean','mse_y':'std'}).round(3)"
      ],
      "id": "6f44583e-9ee2-4f2f-b877-616378a47e54"
    },
    {
      "cell_type": "markdown",
      "metadata": {},
      "source": [
        "# WindmillOutputSmallDatasetLoader (lags=8)\n",
        "\n",
        "## Baseline"
      ],
      "id": "76b9889e-6c01-4229-ac63-cd41689dbd27"
    },
    {
      "cell_type": "code",
      "execution_count": 66,
      "metadata": {},
      "outputs": [],
      "source": [
        "pd.merge(data.query(\"dataset=='windmillsmall' and mrate==0\").groupby(['lags','method'])['mse'].mean().reset_index(),\n",
        "         data.query(\"dataset=='windmillsmall' and mrate==0\").groupby(['lags','method'])['mse'].std().reset_index(),\n",
        "         on=['method','lags']).rename(columns={'mse_x':'mean','mse_y':'std'}).round(3)"
      ],
      "id": "25f8b36f-a1ef-4b14-84b4-5189d160213e"
    },
    {
      "cell_type": "markdown",
      "metadata": {},
      "source": [
        "## Random"
      ],
      "id": "262feca0-cfe0-4885-a37d-3ee65d41600c"
    },
    {
      "cell_type": "code",
      "execution_count": 67,
      "metadata": {},
      "outputs": [],
      "source": [
        "pd.merge(data.query(\"dataset=='windmillsmall' and mtype=='rand'\").groupby(['mrate','lags','method'])['mse'].mean().reset_index(),\n",
        "         data.query(\"dataset=='windmillsmall' and mtype=='rand'\").groupby(['mrate','lags','method'])['mse'].std().reset_index(),\n",
        "         on=['method','mrate','lags']).rename(columns={'mse_x':'mean','mse_y':'std'}).round(3)"
      ],
      "id": "2feb358b-4b1d-44aa-a897-a0ba60fb18e2"
    },
    {
      "cell_type": "markdown",
      "metadata": {},
      "source": [
        "## Block"
      ],
      "id": "6cd83d1b-a529-43b9-9c25-2972c8b078dd"
    },
    {
      "cell_type": "code",
      "execution_count": 68,
      "metadata": {},
      "outputs": [],
      "source": [
        "pd.merge(data.query(\"dataset=='windmillsmall' and mtype=='block'\").groupby(['mrate','lags','method'])['mse'].mean().reset_index(),\n",
        "         data.query(\"dataset=='windmillsmall' and mtype=='block'\").groupby(['mrate','lags','method'])['mse'].std().reset_index(),\n",
        "         on=['method','mrate','lags']).rename(columns={'mse_x':'mean','mse_y':'std'}).round(3)"
      ],
      "id": "2cbfaecd-a827-4c89-993f-fe9003067c03"
    },
    {
      "cell_type": "markdown",
      "metadata": {},
      "source": [
        "# Montevideobus (lags=4)\n",
        "\n",
        "## Baseline"
      ],
      "id": "41797913-ceed-4eb1-bed3-4999243b00aa"
    },
    {
      "cell_type": "code",
      "execution_count": 231,
      "metadata": {},
      "outputs": [],
      "source": [
        "pd.merge(data.query(\"dataset=='monte' and mrate==0\").groupby(['lags','method'])['mse'].mean().reset_index(),\n",
        "         data.query(\"dataset=='monte' and mrate==0\").groupby(['lags','method'])['mse'].std().reset_index(),\n",
        "         on=['method','lags']).rename(columns={'mse_x':'mean','mse_y':'std'}).round(3)"
      ],
      "id": "85ab9ad2-bbf0-4120-aa45-45761a80668b"
    },
    {
      "cell_type": "markdown",
      "metadata": {},
      "source": [
        "## Random"
      ],
      "id": "a4e8aa17-c2f9-4c78-9f77-95a3775dcfd6"
    },
    {
      "cell_type": "code",
      "execution_count": 232,
      "metadata": {},
      "outputs": [],
      "source": [
        "pd.merge(data.query(\"dataset=='monte' and mtype=='rand'\").groupby(['mrate','lags','inter_method','method'])['mse'].mean().reset_index(),\n",
        "         data.query(\"dataset=='monte' and mtype=='rand'\").groupby(['mrate','lags','inter_method','method'])['mse'].std().reset_index(),\n",
        "         on=['mrate','inter_method','method','mrate','lags']).rename(columns={'mse_x':'mean','mse_y':'std'})"
      ],
      "id": "cf4a1359-fbc8-4013-9b5a-4b7dbd311d18"
    },
    {
      "cell_type": "markdown",
      "metadata": {},
      "source": [
        "## Block"
      ],
      "id": "f5186733-5ba3-480c-92d7-8e63e5e9ff6c"
    },
    {
      "cell_type": "code",
      "execution_count": 233,
      "metadata": {},
      "outputs": [],
      "source": [
        "pd.merge(data.query(\"dataset=='monte' and mtype=='block'\").groupby(['mrate','lags','inter_method','method'])['mse'].mean().reset_index(),\n",
        "         data.query(\"dataset=='monte' and mtype=='block'\").groupby(['mrate','lags','inter_method','method'])['mse'].std().reset_index(),\n",
        "         on=['method','mrate','inter_method','lags']).rename(columns={'mse_x':'mean','mse_y':'std'})"
      ],
      "id": "77d13467-2e99-40d5-98cf-f1d241259663"
    },
    {
      "cell_type": "markdown",
      "metadata": {},
      "source": [
        "# GNAR"
      ],
      "id": "f6700826-4fa9-4a73-b7fd-72639a42beb2"
    },
    {
      "cell_type": "code",
      "execution_count": 116,
      "metadata": {},
      "outputs": [],
      "source": [
        "df1 = pd.read_csv('./simulation_results/2023-07-09_10-06-15.csv') # STGCN IT-STGCN 70%\n",
        "df2 = pd.read_csv('./simulation_results/2023-07-09_10-06-19.csv') # STGCN IT-STGCN\n",
        "df3 = pd.read_csv('./simulation_results/2023-07-09_10-06-20.csv') # STGCN IT-STGCN\n",
        "df4 = pd.read_csv('./simulation_results/2023-07-09_11-24-16.csv') # STGCN IT-STGCN\n",
        "df5 = pd.read_csv('./simulation_results/2023-07-09_11-26-12.csv') # STGCN IT-STGCN\n",
        "df6 = pd.read_csv('./simulation_results/2023-07-09_11-26-13.csv') # GNAR 30%, 50%, 70% # 뭔가 일단 필요없어서 데이터셋에서 뺌\n",
        "df7 = pd.read_csv('./simulation_results/2023-07-09_11-26-14.csv') # STGCN IT-STGCN\n",
        "df8 = pd.read_csv('./simulation_results/2023-07-09_11-26-15.csv') # STGCN IT-STGCN\n",
        "df9 = pd.read_csv('./simulation_results/2023-07-09_11-52-36.csv') # STGCN IT-STGCN\n",
        "df10 = pd.read_csv('./simulation_results/2023-07-09_11-53-31.csv') # STGCN IT-STGCN\n",
        "df11 = pd.read_csv('./simulation_results/2023-07-09_11-54-04.csv') # STGCN IT-STGCN\n",
        "df12 = pd.read_csv('./simulation_results/2023-07-09_11-55-04.csv') # STGCN IT-STGCN"
      ],
      "id": "d257a037-27f5-4891-84be-5baef3bc07c0"
    },
    {
      "cell_type": "code",
      "execution_count": 117,
      "metadata": {},
      "outputs": [],
      "source": [
        "df13 = pd.read_csv('./simulation_results/2023-07-16_08-11-09.csv') # STGCN IT-STGCN\n",
        "df14 = pd.read_csv('./simulation_results/2023-07-16_08-11-11.csv') # STGCN IT-STGCN\n",
        "df15 = pd.read_csv('./simulation_results/2023-07-16_08-11-13.csv') # STGCN IT-STGCN\n",
        "# df16 = pd.read_csv('./simulation_results/2023-07-09_11-53-31.csv') # STGCN IT-STGCN\n",
        "# df17 = pd.read_csv('./simulation_results/2023-07-09_11-53-31.csv') # STGCN IT-STGCN"
      ],
      "id": "ecb43e44-0d34-4532-bd1c-9b8e9503079f"
    },
    {
      "cell_type": "code",
      "execution_count": 118,
      "metadata": {},
      "outputs": [],
      "source": [
        "data = pd.concat([df1,df2,df3,df4,df5,df6,df7,df8,df9,df10,df11,df12,df13,df14,df15],axis=0)"
      ],
      "id": "301feeaf-b1a5-4b8e-8f90-c3788cc04953"
    },
    {
      "cell_type": "code",
      "execution_count": 119,
      "metadata": {},
      "outputs": [],
      "source": [
        "data.to_csv('./simulation_results/Real_simulation_reshape/Final_Simulation_GNAR.csv',index=False)"
      ],
      "id": "7eecc083-ba9b-4ed9-9128-e1a3b054c348"
    },
    {
      "cell_type": "code",
      "execution_count": 120,
      "metadata": {},
      "outputs": [],
      "source": [
        "data = pd.read_csv('./simulation_results/Real_simulation_reshape/Final_Simulation_GNAR.csv')"
      ],
      "id": "8a60bb3e-647e-413d-ad98-d5f74b2e6f9e"
    },
    {
      "cell_type": "code",
      "execution_count": 114,
      "metadata": {},
      "outputs": [],
      "source": [
        "data"
      ],
      "id": "3ec29d7b-ea7a-4530-b036-84ab911361bc"
    },
    {
      "cell_type": "code",
      "execution_count": 115,
      "metadata": {},
      "outputs": [],
      "source": [
        "data = pd.read_csv('./simulation_results/2023-07-09_22-21-58.csv')"
      ],
      "id": "947d462b-03a0-4c34-a68e-64d13bb90a6a"
    },
    {
      "cell_type": "code",
      "execution_count": 94,
      "metadata": {},
      "outputs": [],
      "source": [
        "pedal_wiki_GSO = pd.concat([data])"
      ],
      "id": "32ad9100-250a-44e6-94a1-f120f8ff2426"
    },
    {
      "cell_type": "code",
      "execution_count": 95,
      "metadata": {},
      "outputs": [],
      "source": [
        "pedal_wiki_GSO.to_csv('./simulation_results/Real_simulation_reshape/Final_Simulation_GNAR_wiki_GSO.csv',index=False)"
      ],
      "id": "a7559c72-1e74-4dde-9624-fae4e21f465c"
    }
  ],
  "nbformat": 4,
  "nbformat_minor": 5,
  "metadata": {
    "kernelspec": {
      "name": "python3",
      "display_name": "Python 3",
      "language": "python"
    },
    "language_info": {
      "name": "python",
      "codemirror_mode": {
        "name": "ipython",
        "version": "3"
      },
      "file_extension": ".py",
      "mimetype": "text/x-python",
      "nbconvert_exporter": "python",
      "pygments_lexer": "ipython3",
      "version": "3.8.0"
    },
    "toc-autonumbering": false,
    "toc-showcode": false
  }
}
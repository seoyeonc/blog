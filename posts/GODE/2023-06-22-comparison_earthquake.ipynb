{
 "cells": [
  {
   "cell_type": "raw",
   "id": "cee1c99b-6f6e-4daf-89dc-f5054cc60968",
   "metadata": {
    "id": "cac470df-29e7-4148-9bbd-d8b9a32fa570",
    "tags": []
   },
   "source": [
    "---\n",
    "title: \"Comparison Results on Real Data\"\n",
    "author: \"SEOYEON CHOI\"\n",
    "date: \"2023-06-22\"\n",
    "categories:\n",
    "  - GODE\n",
    "---"
   ]
  },
  {
   "cell_type": "markdown",
   "id": "fa22221b-9697-463e-9b72-48837e12a04c",
   "metadata": {},
   "source": [
    "> Comparison at real data"
   ]
  },
  {
   "cell_type": "code",
   "execution_count": 1,
   "id": "5a7eff1b-7745-4fe7-a686-5c1bf79c8488",
   "metadata": {},
   "outputs": [],
   "source": [
    "import tqdm\n",
    "import numpy as np\n",
    "import pandas as pd\n",
    "import matplotlib.pyplot as plt \n",
    "import plotly.express as px\n",
    "import warnings\n",
    "warnings.simplefilter(\"ignore\", np.ComplexWarning)\n",
    "from haversine import haversine\n",
    "from IPython.display import HTML\n",
    "import plotly.graph_objects as go"
   ]
  },
  {
   "cell_type": "code",
   "execution_count": 2,
   "id": "cbfd54fb-a6bd-4310-8cd9-a575711b6609",
   "metadata": {},
   "outputs": [],
   "source": [
    "import rpy2\n",
    "import rpy2.robjects as ro \n",
    "from rpy2.robjects.vectors import FloatVector \n",
    "from rpy2.robjects.packages import importr"
   ]
  },
  {
   "cell_type": "markdown",
   "id": "36bf474a-ddfe-4d61-9f9e-894f5bd67b1d",
   "metadata": {},
   "source": [
    "## load data and clean it"
   ]
  },
  {
   "cell_type": "markdown",
   "id": "f34f84f5-6058-42a7-90c5-5bdd4b991861",
   "metadata": {},
   "source": [
    "`-` load"
   ]
  },
  {
   "cell_type": "code",
   "execution_count": 3,
   "id": "48f19cf9-72ce-4979-a8ce-667b6540aceb",
   "metadata": {},
   "outputs": [],
   "source": [
    "df_global= pd.concat([pd.read_csv('00_05.csv'),pd.read_csv('05_10.csv'),pd.read_csv('10_15.csv'),pd.read_csv('15_20.csv')]).iloc[:,[0,1,2,4]].rename(columns={'latitude':'Latitude','longitude':'Longitude','mag':'Magnitude'}).reset_index().iloc[:,1:]"
   ]
  },
  {
   "cell_type": "markdown",
   "id": "e29dc41e-e326-456b-bfc8-12a92b56be77",
   "metadata": {},
   "source": [
    "`-` cleaning"
   ]
  },
  {
   "cell_type": "code",
   "execution_count": 18,
   "id": "537ec73e-b693-461c-881e-6b40f4c15dad",
   "metadata": {},
   "outputs": [],
   "source": [
    "df.Year = df.Year.astype(np.float64)"
   ]
  },
  {
   "cell_type": "code",
   "execution_count": 19,
   "id": "98a84ab2-13d4-4df0-9f5c-f18d5f6d570b",
   "metadata": {},
   "outputs": [],
   "source": [
    "df_korea = df_korea.assign(Year=list(map(lambda x: x.split('/')[0], df_korea.발생시각))).iloc[:,1:]\n",
    "df_korea = df_korea.assign(Latitude=list(map(lambda x: x.split(' ')[0], df_korea.위도))).iloc[:,[0,2,3,4]]\n",
    "df_korea = df_korea.assign(Longitude=list(map(lambda x: x.split(' ')[0], df_korea.경도))).iloc[:,[0,2,3,4]]"
   ]
  },
  {
   "cell_type": "code",
   "execution_count": 20,
   "id": "68cc15e3-4fb3-4f04-92fa-4ca7ca06b49a",
   "metadata": {},
   "outputs": [],
   "source": [
    "df_global = df_global.assign(Year=list(map(lambda x: x.split('-')[0], df_global.time))).iloc[:,1:]"
   ]
  },
  {
   "cell_type": "code",
   "execution_count": 21,
   "id": "1f2d91d6-e383-4beb-bdb3-b4c132473ca9",
   "metadata": {},
   "outputs": [],
   "source": [
    "df_korea.Year = df_korea.Year.astype(np.float64)\n",
    "df_korea.Latitude = df_korea.Latitude.astype(np.float64)\n",
    "df_korea.Longitude = df_korea.Longitude.astype(np.float64)\n",
    "df_global.Year = df_global.Year.astype(np.float64)"
   ]
  },
  {
   "cell_type": "code",
   "execution_count": null,
   "id": "3b75c6d5-fc3d-4573-a0ad-28ba09196def",
   "metadata": {},
   "outputs": [],
   "source": []
  }
 ],
 "metadata": {
  "kernelspec": {
   "display_name": "Python 3",
   "language": "python",
   "name": "python3"
  },
  "language_info": {
   "codemirror_mode": {
    "name": "ipython",
    "version": 3
   },
   "file_extension": ".py",
   "mimetype": "text/x-python",
   "name": "python",
   "nbconvert_exporter": "python",
   "pygments_lexer": "ipython3",
   "version": "3.8.0"
  }
 },
 "nbformat": 4,
 "nbformat_minor": 5
}

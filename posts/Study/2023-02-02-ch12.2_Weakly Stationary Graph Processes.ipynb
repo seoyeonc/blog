{
 "cells": [
  {
   "cell_type": "raw",
   "id": "19f0ea69-5e41-461a-ab06-3dae61b32ebf",
   "metadata": {
    "id": "cac470df-29e7-4148-9bbd-d8b9a32fa570",
    "tags": []
   },
   "source": [
    "---\n",
    "title: \"Chap 12.2: Weakly Stationary Graph Processes\"\n",
    "author: \"SEOYEON CHOI\"\n",
    "date: \"2023-02-03\"\n",
    "categories:\n",
    "  - Weakly Stationary Graph Processes\n",
    "---"
   ]
  },
  {
   "cell_type": "markdown",
   "id": "88b69eb1-53c0-48c1-96dd-f64ce283744c",
   "metadata": {},
   "source": [
    "> Chap 12.2: Weakly Stationary Graph Processes"
   ]
  },
  {
   "cell_type": "code",
   "execution_count": 1,
   "id": "231cb475-8c15-4d01-9779-a5261d05509c",
   "metadata": {},
   "outputs": [],
   "source": [
    "using LinearAlgebra, FFTW"
   ]
  },
  {
   "cell_type": "markdown",
   "id": "15c3c867-ff75-404e-a867-922f755f0603",
   "metadata": {},
   "source": [
    "Simultaneiusly Diagnalizable\n",
    "\n",
    "- matrix A, B가 고유분해 가능할때, $B = V_B \\Lambda_B V_B^{-1}, A = V_A \\Lambda_A V_A^{-1}$와 같이 표현할 수 있고, 특히 $V_A = V_B$라면,\n",
    "    - $AB =  V \\Lambda_A V^{-1}V \\Lambda_B V^{-1}, BA = V \\Lambda_B V^{-1}V \\Lambda_A V^{-1}$\n",
    "    - $V \\Lambda_A \\Lambda_B V^{-1} = AB = BA = V \\Lambda_B \\Lambda_A V^{-1}$\n",
    "        - $\\Lambda$는 diagonal matrix라 가능하다.\n",
    "        \n",
    "Commute\n",
    "\n",
    "- $AB = BA$ 가 가능할때,\n",
    "\n",
    "Shift invariant filter\n",
    "\n",
    "- $z h(z) = h(z)z, h(z) = h_0 Z^0 + h_1 z^{-1} + \\dots + h_{N-1}z^{-(N-1)} \\to$ z-transform\n",
    "- $Bh(B) = h(B)B, H = h(B) = h_0 B^0 + h_1 B^1 + \\dots h_{N-1}B^{N-1} \\to$ cycluc shift\n",
    "    - $h(B) = \\frac{1}{3} + \\frac{1}{3}B + \\frac{1}{3} B^2$\n",
    "        - $\\to$ matrix : 성질 1. 자료 2. 변환"
   ]
  },
  {
   "cell_type": "markdown",
   "id": "8fc69c62-8361-4a5d-bd8b-ff6eb0406f7f",
   "metadata": {},
   "source": [
    "$x$가 정상시계열이라면, 모든 $l = 0,1,2,\\dots$에 대하여 $E(XX^H) = E((B^l X)(B^lX)^H)$가 성립한다.\n",
    "\n",
    "$x$가 정상시계열이라면, $X = Hn$(단, $n$은 white noise를 만족하는 shift invariant operator)\n",
    "\n",
    "- $H = \\sum^{N-1}_{l=0} h_l B^l$ 이 존재한다.\n",
    "\n",
    "$\\begin{bmatrix}x_1 \\\\ x_2 \\\\ \\dots \\\\ x_n \\end{bmatrix} = \\begin{bmatrix}\\frac{1}{3} &\\frac{1}{3} & 0 & 0 & \\dots \\\\ \\frac{1}{3} & \\frac{1}{3} & \\frac{1}{3} & \\dots  & \\dots \\\\ \\dots & \\dots & \\dots & \\dots  \\\\  \\dots &\\frac{1}{3} & \\frac{1}{3} & \\frac{1}{3} & \\frac{1}{3} \\end{bmatrix} \\times\n",
    "\\begin{bmatrix} \\epsilon_1 \\\\ \\epsilon_2 \\\\ \\dots \\\\ \\epsilon_n \\end{bmatrix}$\n",
    "\n",
    "$x_1 = (\\epsilon_1 + \\epsilon_2) \\times \\frac{1}{3}$\n",
    "\n",
    "$x_2 = (\\epsilon_1 + \\epsilon_2 + \\epsilon_3) \\times \\frac{1}{3}$\n",
    "\n",
    "$\\dots$\n",
    "\n",
    "$x_t = \\frac{1}{3}\\epsilon_t + \\frac{1}{3}\\epsilon_{t-1} + \\dots + \\frac{1}{3}\\epsilon_{t-N}$\n",
    "\n",
    "$E(e^xt)$\n",
    "\n",
    "- $E(n) = 0, E(nn^H) = I$\n",
    "\n",
    "$E(XX^T) = E(Hnn^TH^T) = HE(nn^T)H = HH^T$\n",
    "\n",
    "$n = \\begin{pmatrix} \\epsilon_1 \\\\ \\epsilon_2 \\\\ \\dots \\\\ \\epsilon_n \\end{pmatrix}$\n",
    "\n",
    "$nn^T = \\begin{bmatrix} \\epsilon_1\\epsilon_1 & \\epsilon_1\\epsilon_2 & \\epsilon_1\\epsilon_3 \\\\ \\epsilon_2\\epsilon_1 & \\epsilon_2\\epsilon_2 & \\epsilon_2\\epsilon_3 \\\\ \\epsilon_3\\epsilon_1 & \\epsilon_3\\epsilon_2 & \\epsilon_3\\epsilon_3 \\end{bmatrix}$\n",
    "\n",
    "$E(\\begin{bmatrix} \\epsilon_1\\epsilon_1 & \\epsilon_1\\epsilon_2 & \\epsilon_1\\epsilon_3 \\\\ \\epsilon_2\\epsilon_1 & \\epsilon_2\\epsilon_2 & \\epsilon_2\\epsilon_3 \\\\ \\epsilon_3\\epsilon_1 & \\epsilon_3\\epsilon_2 & \\epsilon_3\\epsilon_3 \\end{bmatrix}) = \\begin{bmatrix} 1 & 0 & 0 \\\\ 0 & 1 & 0 \\\\ 0 & 0 & 1 \\end{bmatrix} = I$"
   ]
  },
  {
   "cell_type": "markdown",
   "id": "f160545a-b389-4baa-9f93-6029818292d7",
   "metadata": {},
   "source": [
    "ex1)\n",
    "\n",
    "$x(1,2,3) \\xrightarrow[]{h} x^2(1,4,9) = \\tilde{x}$\n",
    "\n",
    "$h(x) = x^2$"
   ]
  },
  {
   "cell_type": "markdown",
   "id": "f00b08e3-38d6-4ff8-88b7-08a2f37b44b7",
   "metadata": {},
   "source": [
    "ex2)\n",
    "\n",
    "$x(1,2,3) \\xrightarrow[]{h} 2x(2,4,6) = x^2$\n",
    "\n",
    "$h(x) = 2x$"
   ]
  },
  {
   "cell_type": "code",
   "execution_count": 15,
   "id": "65876cf8-2d07-4d82-9986-e98a39010c29",
   "metadata": {},
   "outputs": [
    {
     "data": {
      "text/plain": [
       "3-element Vector{Int64}:\n",
       " 1\n",
       " 2\n",
       " 3"
      ]
     },
     "execution_count": 15,
     "metadata": {},
     "output_type": "execute_result"
    }
   ],
   "source": [
    "x = [1,2,3]"
   ]
  },
  {
   "cell_type": "code",
   "execution_count": 16,
   "id": "d4a835c8-1569-4fff-81f9-a0ec3435cf0b",
   "metadata": {},
   "outputs": [
    {
     "data": {
      "text/plain": [
       "3×3 Matrix{Int64}:\n",
       " 2  0  0\n",
       " 0  2  0\n",
       " 0  0  2"
      ]
     },
     "execution_count": 16,
     "metadata": {},
     "output_type": "execute_result"
    }
   ],
   "source": [
    "H = [2 0 0 \n",
    "    0 2 0 \n",
    "    0 0 2 ] "
   ]
  },
  {
   "cell_type": "code",
   "execution_count": 17,
   "id": "70c62b08-6a9b-4d2d-b99b-cd1ac2576034",
   "metadata": {},
   "outputs": [
    {
     "data": {
      "text/plain": [
       "3-element Vector{Int64}:\n",
       " 2\n",
       " 4\n",
       " 6"
      ]
     },
     "execution_count": 17,
     "metadata": {},
     "output_type": "execute_result"
    }
   ],
   "source": [
    "H*x"
   ]
  },
  {
   "cell_type": "code",
   "execution_count": 18,
   "id": "00fbcbe8-ea8f-48fe-ad55-e1ffb66c3ec4",
   "metadata": {},
   "outputs": [
    {
     "data": {
      "text/plain": [
       "3×3 Matrix{Int64}:\n",
       " 0  1  0\n",
       " 0  0  1\n",
       " 1  0  0"
      ]
     },
     "execution_count": 18,
     "metadata": {},
     "output_type": "execute_result"
    }
   ],
   "source": [
    "B = [0 1 0 \n",
    "    0 0 1 \n",
    "    1 0 0 ] "
   ]
  },
  {
   "cell_type": "code",
   "execution_count": 19,
   "id": "e754031b-66e2-4ec2-897d-f240a060cda7",
   "metadata": {},
   "outputs": [
    {
     "data": {
      "text/plain": [
       "3×3 Matrix{Int64}:\n",
       " 0  2  0\n",
       " 0  0  2\n",
       " 2  0  0"
      ]
     },
     "execution_count": 19,
     "metadata": {},
     "output_type": "execute_result"
    }
   ],
   "source": [
    "H*B"
   ]
  },
  {
   "cell_type": "code",
   "execution_count": 20,
   "id": "e3e3378a-72e1-4469-a52a-63f95a6457b0",
   "metadata": {},
   "outputs": [
    {
     "data": {
      "text/plain": [
       "3×3 Matrix{Int64}:\n",
       " 0  2  0\n",
       " 0  0  2\n",
       " 2  0  0"
      ]
     },
     "execution_count": 20,
     "metadata": {},
     "output_type": "execute_result"
    }
   ],
   "source": [
    "B*H"
   ]
  },
  {
   "cell_type": "markdown",
   "id": "630f9a80-eed8-4f3c-8e3d-36d134cd0468",
   "metadata": {},
   "source": [
    "$HB = BH$"
   ]
  },
  {
   "cell_type": "code",
   "execution_count": 21,
   "id": "cdd08ae5-f0f1-4080-a0d4-69e409beda6a",
   "metadata": {},
   "outputs": [
    {
     "data": {
      "text/plain": [
       "3-element Vector{Int64}:\n",
       " 2\n",
       " 3\n",
       " 1"
      ]
     },
     "execution_count": 21,
     "metadata": {},
     "output_type": "execute_result"
    }
   ],
   "source": [
    "B*x"
   ]
  },
  {
   "cell_type": "code",
   "execution_count": 22,
   "id": "0a3b5230-cc9e-4163-98ec-c503c65f4a61",
   "metadata": {},
   "outputs": [
    {
     "data": {
      "text/plain": [
       "3-element Vector{Int64}:\n",
       " 4\n",
       " 6\n",
       " 2"
      ]
     },
     "execution_count": 22,
     "metadata": {},
     "output_type": "execute_result"
    }
   ],
   "source": [
    "H*B*x"
   ]
  },
  {
   "cell_type": "markdown",
   "id": "526af585-3102-4fbc-88df-a1e1bbadb9d4",
   "metadata": {},
   "source": [
    "ex3)\n",
    "\n",
    "$x(1,2,3) \\xrightarrow[]{h} \\tilde{x}(1,0,0)$"
   ]
  },
  {
   "cell_type": "code",
   "execution_count": 24,
   "id": "3e589586-99d4-43f5-a4fa-2c7ec56f2d87",
   "metadata": {},
   "outputs": [
    {
     "data": {
      "text/plain": [
       "3×3 Matrix{Int64}:\n",
       " 1  0  0\n",
       " 0  0  0\n",
       " 0  0  0"
      ]
     },
     "execution_count": 24,
     "metadata": {},
     "output_type": "execute_result"
    }
   ],
   "source": [
    "H = [1 0 0 \n",
    "    0 0 0 \n",
    "    0 0 0 ] "
   ]
  },
  {
   "cell_type": "code",
   "execution_count": 25,
   "id": "aeadde46-2472-488b-862b-ab440a5b77a0",
   "metadata": {},
   "outputs": [
    {
     "data": {
      "text/plain": [
       "3-element Vector{Int64}:\n",
       " 1\n",
       " 2\n",
       " 3"
      ]
     },
     "execution_count": 25,
     "metadata": {},
     "output_type": "execute_result"
    }
   ],
   "source": [
    "x = [1,2,3]"
   ]
  },
  {
   "cell_type": "code",
   "execution_count": 27,
   "id": "64cd25b6-5f82-4d22-8af9-0e7bfe38a64a",
   "metadata": {},
   "outputs": [
    {
     "data": {
      "text/plain": [
       "3×3 Matrix{Int64}:\n",
       " 0  1  0\n",
       " 0  0  1\n",
       " 1  0  0"
      ]
     },
     "execution_count": 27,
     "metadata": {},
     "output_type": "execute_result"
    }
   ],
   "source": [
    "B = [0 1 0 \n",
    "    0 0 1 \n",
    "    1 0 0 ] "
   ]
  },
  {
   "cell_type": "code",
   "execution_count": 28,
   "id": "7a0d087a-5f55-4d90-8fd4-3dc66c679aab",
   "metadata": {},
   "outputs": [
    {
     "data": {
      "text/plain": [
       "3×3 Matrix{Int64}:\n",
       " 0  1  0\n",
       " 0  0  0\n",
       " 0  0  0"
      ]
     },
     "execution_count": 28,
     "metadata": {},
     "output_type": "execute_result"
    }
   ],
   "source": [
    "H*B"
   ]
  },
  {
   "cell_type": "code",
   "execution_count": 29,
   "id": "d0220a95-f5a6-4657-a92e-3a88d2abf066",
   "metadata": {},
   "outputs": [
    {
     "data": {
      "text/plain": [
       "3×3 Matrix{Int64}:\n",
       " 0  0  0\n",
       " 0  0  0\n",
       " 1  0  0"
      ]
     },
     "execution_count": 29,
     "metadata": {},
     "output_type": "execute_result"
    }
   ],
   "source": [
    "B*H"
   ]
  },
  {
   "cell_type": "markdown",
   "id": "67e9c4c5-9a04-4289-8218-f266cde4a6e3",
   "metadata": {},
   "source": [
    "$HB \\neq BH$"
   ]
  },
  {
   "cell_type": "code",
   "execution_count": 33,
   "id": "ab741931-be77-4d3a-a1fb-d2c71969cb1c",
   "metadata": {},
   "outputs": [
    {
     "data": {
      "text/plain": [
       "3-element Vector{Int64}:\n",
       " 1\n",
       " 0\n",
       " 0"
      ]
     },
     "execution_count": 33,
     "metadata": {},
     "output_type": "execute_result"
    }
   ],
   "source": [
    "H*x"
   ]
  },
  {
   "cell_type": "code",
   "execution_count": 34,
   "id": "c53ca503-e403-453e-86a7-431e8ba9c666",
   "metadata": {},
   "outputs": [
    {
     "data": {
      "text/plain": [
       "3-element Vector{Int64}:\n",
       " 2\n",
       " 3\n",
       " 1"
      ]
     },
     "execution_count": 34,
     "metadata": {},
     "output_type": "execute_result"
    }
   ],
   "source": [
    "B*x"
   ]
  },
  {
   "cell_type": "code",
   "execution_count": 35,
   "id": "1b27bd5e-92ea-4c8f-baf7-695631eab2e5",
   "metadata": {},
   "outputs": [
    {
     "data": {
      "text/plain": [
       "3-element Vector{Int64}:\n",
       " 2\n",
       " 0\n",
       " 0"
      ]
     },
     "execution_count": 35,
     "metadata": {},
     "output_type": "execute_result"
    }
   ],
   "source": [
    "H*B*x"
   ]
  },
  {
   "cell_type": "code",
   "execution_count": 36,
   "id": "68d20850-d9b1-4fe7-a0b2-40794bb532cb",
   "metadata": {},
   "outputs": [
    {
     "data": {
      "text/plain": [
       "3-element Vector{Int64}:\n",
       " 0\n",
       " 0\n",
       " 1"
      ]
     },
     "execution_count": 36,
     "metadata": {},
     "output_type": "execute_result"
    }
   ],
   "source": [
    "B*H*x"
   ]
  },
  {
   "cell_type": "markdown",
   "id": "023db381-7345-4e3f-9c93-fc15d30a3669",
   "metadata": {},
   "source": [
    "### Z-transform"
   ]
  },
  {
   "cell_type": "markdown",
   "id": "867898a3-d851-4370-aacb-825029703082",
   "metadata": {},
   "source": [
    "https://en.wikipedia.org/wiki/Z-transform"
   ]
  },
  {
   "cell_type": "markdown",
   "id": "9a83785e-67e8-47f3-ab69-89210271706e",
   "metadata": {},
   "source": [
    "어떠한 연속함수 $f(x)$가 있을때 아래와 같은 변환을 정의할 수 있다.\n",
    "\n",
    "(i) $\\int^{\\infty}_{-\\infty} f(x) \\times e^{-\\text{ 복소수 }x} dx \\sim E(e^{-tx}) \\to$ 라플라스 \n",
    "\n",
    "(ii) $\\int^{\\infty}_{-\\infty}f(x) e^{- \\text{ 순허수 }x} dx \\to$ 퓨리에 변환\n",
    "\n",
    "- 여기서 $f(x)$가 확률밀도함수를 의미할 수도 있으나 signal을 의미할 수도 있다.\n",
    "- signal을 의미하는 경우 중 특히 이산 signal을 의미할 수도 있다.\n",
    "- 예를 들어서 $f(0) = x_0, f(1) = x_1 , \\dots$ \n",
    "    - 이 경우 라플라스 transform은 $\\int^{\\infty}_{-\\infty}f(t) e^{-st}dt$,\n",
    "    - 이산형이면 $\\sum^{\\infty}_{t=0} x(t) e^{-st} = \\sum^{\\infty}_{t=0} x(t) z^{-t}$\n",
    "        - 단, $e^{s} = z$"
   ]
  },
  {
   "cell_type": "markdown",
   "id": "e0af0261-4029-4392-bfd4-bef713eae4db",
   "metadata": {},
   "source": [
    "$x$가 정상시계열이라면, 임의의 $n$에 대하여 $x = Hn$을 만족하는 shift invariant operator H가 항상 존재한다.\n",
    "\n",
    "$C_x = E(XX^H) = HH^H$라 표현 가능, $H,B$는 같은 고유행렬을 가진다. $\\to$ $C_x$는 $B$와 같은 고유행렬을 가진다. $\\to$ simultaneously diagonalizable 도 만족\n",
    "\n",
    "$C_x = \\psi \\times \\text{ diagonal matrix } \\times \\psi^H = DFT^H \\times \\text{ diagonal matrix } \\times DFT$\n",
    "\n",
    "- $DFT^H = DFT$니까 순서는 상관이 없음\n",
    "\n",
    "$x$가 정상시계열이라면 $C_x$는 DFT행렬로 대각화가 가능하다."
   ]
  },
  {
   "cell_type": "markdown",
   "id": "fbfca192-2a75-412a-b591-f4fc377b3d04",
   "metadata": {},
   "source": [
    "$C_x = E(XX^T)$\n",
    "\n",
    "$X_1,X_2,X_3 = X$일 떄, $cov = \\begin{bmatrix} cov(x_1,x_1) & cov(x_1,x_2) & \\dots \\\\ cov(x_2,x_1) & cov(x_2,x_2) & \\dots \\\\ cov(x_3,x_1) & cov(x_3,x_2) & \\dots\\end{bmatrix}$\n",
    "\n",
    "$cov(x_1,x_2) = E(x_1,x_2) - E(x_1)E(x_2) = E(x_1x_2) - 0$\n",
    "\n",
    "$cov(x) = \\begin{bmatrix} E(x_1,x_1) & E(x_1,x_2) & \\dots \\\\ E(x_2,x_1) & E(x_2,x_2) & \\dots \\\\ E(x_3,x_1) & E(x_3,x_2) & \\dots\\end{bmatrix}$\n",
    "\n",
    "그런데 $XX^T = \\begin{bmatrix} x_1 \\\\ x_2 \\\\ x_3  \\\\\\dots\\end{bmatrix}\\begin{bmatrix} x_1 & x_2 & x_3 & \\dots\\end{bmatrix} = \\begin{bmatrix} x_1x_1 & x_1x_2 & x_1x_3\\\\x_2x_1 & x_2x_2 & x_2x_3 \\\\x_3x_1 & x_3x_2 & x_3x_3 \\end{bmatrix}$\n",
    "\n",
    "$E(XX^T) = E(\\begin{bmatrix} x_1x_1 & x_1x_2 & x_1x_3\\\\x_2x_1 & x_2x_2 & x_2x_3 \\\\x_3x_1 & x_3x_2 & x_3x_3 \\end{bmatrix}) = cov(X) = C_x$\n"
   ]
  },
  {
   "cell_type": "code",
   "execution_count": null,
   "id": "e9a17117-504d-4989-850d-28148f24d798",
   "metadata": {},
   "outputs": [],
   "source": []
  }
 ],
 "metadata": {
  "kernelspec": {
   "display_name": "Julia 1.7.2",
   "language": "julia",
   "name": "julia-1.7"
  },
  "language_info": {
   "file_extension": ".jl",
   "mimetype": "application/julia",
   "name": "julia",
   "version": "1.7.2"
  }
 },
 "nbformat": 4,
 "nbformat_minor": 5
}

{
 "cells": [
  {
   "cell_type": "raw",
   "id": "a1b97067-2a95-46e0-8bdc-fbed8f4c89cb",
   "metadata": {
    "id": "cac470df-29e7-4148-9bbd-d8b9a32fa570",
    "tags": []
   },
   "source": [
    "---\n",
    "title: \"TORCH_GEOMETRIC.NN\"\n",
    "author: \"SEOYEON CHOI\"\n",
    "date: \"2022-12-05\"\n",
    "categories:\n",
    "  - GCN\n",
    "---"
   ]
  },
  {
   "cell_type": "markdown",
   "id": "6721f52a-4ead-4ea2-8efb-42f9818c3f26",
   "metadata": {},
   "source": [
    "221207"
   ]
  },
  {
   "cell_type": "markdown",
   "id": "024d279a-f104-49c8-8b6b-4aa7ff92084b",
   "metadata": {},
   "source": [
    "https://pytorch-geometric.readthedocs.io/en/latest/modules/nn.html"
   ]
  },
  {
   "cell_type": "code",
   "execution_count": 1,
   "id": "7e016877-89ed-4c3c-a16a-d4705e320190",
   "metadata": {},
   "outputs": [],
   "source": [
    "import torch\n",
    "from torch_geometric.data import Data"
   ]
  },
  {
   "cell_type": "code",
   "execution_count": 2,
   "id": "14ba0f60-3d98-478b-8d2d-763bef0382bd",
   "metadata": {},
   "outputs": [],
   "source": [
    "edge_index = torch.tensor([[0, 1, 1, 2],\n",
    "                           [1, 0, 2, 1]], dtype=torch.long)\n",
    "x = torch.tensor([[-1], [0], [1]], dtype=torch.float)\n",
    "data = Data(x=x, edge_index=edge_index)"
   ]
  },
  {
   "cell_type": "code",
   "execution_count": 3,
   "id": "f9f28a89-254e-4ab9-98a0-bf805f2b9e44",
   "metadata": {},
   "outputs": [
    {
     "data": {
      "text/plain": [
       "Data(x=[3, 1], edge_index=[2, 4])"
      ]
     },
     "execution_count": 3,
     "metadata": {},
     "output_type": "execute_result"
    }
   ],
   "source": [
    "data"
   ]
  },
  {
   "cell_type": "code",
   "execution_count": 4,
   "id": "e117b8b5-8e62-4ba4-b0af-79256c0f3d0d",
   "metadata": {},
   "outputs": [],
   "source": [
    "import networkx as nx\n",
    "import matplotlib.pyplot as plt"
   ]
  },
  {
   "cell_type": "code",
   "execution_count": 5,
   "id": "dcd4833f-ddcf-40aa-ba06-2e4115707aaa",
   "metadata": {},
   "outputs": [
    {
     "data": {
      "image/png": "[encoded data removed]",
      "text/plain": [
       "<Figure size 432x288 with 1 Axes>"
      ]
     },
     "metadata": {},
     "output_type": "display_data"
    }
   ],
   "source": [
    "G=nx.Graph()\n",
    "G.add_node('0')\n",
    "G.add_node('1')\n",
    "G.add_node('2')\n",
    "G.add_edge('0','1')\n",
    "G.add_edge('1','2')\n",
    "pos = {}\n",
    "pos['0'] = (0,0)\n",
    "pos['1'] = (1,1)\n",
    "pos['2'] = (2,0)\n",
    "nx.draw(G,pos,with_labels=True)\n",
    "plt.show()"
   ]
  },
  {
   "cell_type": "code",
   "execution_count": 6,
   "id": "a70c1ec4-8099-43d9-a54d-d794111e8ef2",
   "metadata": {},
   "outputs": [],
   "source": [
    "from torch.nn import Linear, ReLU\n",
    "from torch_geometric.nn import Sequential, GCNConv"
   ]
  },
  {
   "cell_type": "markdown",
   "id": "4a493799-bbdc-465b-9966-f5d140e96e00",
   "metadata": {},
   "source": [
    "ex\n",
    "```python\n",
    "model = Sequential('x, edge_index', [\n",
    "    (GCNConv(in_channels, 64), 'x, edge_index -> x'),\n",
    "    ReLU(inplace=True),\n",
    "    (GCNConv(64, 64), 'x, edge_index -> x'),\n",
    "    ReLU(inplace=True),\n",
    "    Linear(64, out_channels),\n",
    "])\n",
    "```"
   ]
  },
  {
   "cell_type": "code",
   "execution_count": 7,
   "id": "7857547b-5368-4b08-977b-0a81cb553c16",
   "metadata": {},
   "outputs": [],
   "source": [
    "model = Sequential('x, edge_index', [\n",
    "    (GCNConv(3, 64), 'x, edge_index -> x'),\n",
    "    ReLU(inplace=True),\n",
    "    (GCNConv(64, 64), 'x, edge_index -> x'),\n",
    "    ReLU(inplace=True),\n",
    "    Linear(64, 3),\n",
    "])"
   ]
  },
  {
   "cell_type": "code",
   "execution_count": null,
   "id": "5f98cf81-2500-497c-bc16-e5d28d025b3d",
   "metadata": {},
   "outputs": [],
   "source": [
    "model(x,edge_index)"
   ]
  },
  {
   "cell_type": "code",
   "execution_count": null,
   "id": "a7c3fdfd-beca-4c86-b5f4-7aae6c8cfab4",
   "metadata": {},
   "outputs": [],
   "source": [
    "from torch.nn import Linear, ReLU, Dropout\n",
    "from torch_geometric.nn import Sequential, GCNConv, JumpingKnowledge\n",
    "from torch_geometric.nn import global_mean_pool"
   ]
  },
  {
   "cell_type": "markdown",
   "id": "da9bd374-9c41-448a-9f59-6da655d71430",
   "metadata": {},
   "source": [
    "```python\n",
    "model = Sequential('x, edge_index, batch', [\n",
    "    (Dropout(p=0.5), 'x -> x'),\n",
    "    (GCNConv(dataset.num_features, 64), 'x, edge_index -> x1'),\n",
    "    ReLU(inplace=True),\n",
    "    (GCNConv(64, 64), 'x1, edge_index -> x2'),\n",
    "    ReLU(inplace=True),\n",
    "    (lambda x1, x2: [x1, x2], 'x1, x2 -> xs'),\n",
    "    (JumpingKnowledge(\"cat\", 64, num_layers=2), 'xs -> x'),\n",
    "    (global_mean_pool, 'x, batch -> x'),\n",
    "    Linear(2 * 64, dataset.num_classes),\n",
    "])\n",
    "```"
   ]
  },
  {
   "cell_type": "code",
   "execution_count": null,
   "id": "fdd4c69c-d1d8-4904-a12a-e0f1cef3a748",
   "metadata": {},
   "outputs": [],
   "source": [
    "model = Sequential('x, edge_index, batch', [\n",
    "    (Dropout(p=0.5), 'x -> x'),\n",
    "    (GCNConv(dataset.num_features, 64), 'x, edge_index -> x1'),\n",
    "    ReLU(inplace=True),\n",
    "    (GCNConv(64, 64), 'x1, edge_index -> x2'),\n",
    "    ReLU(inplace=True),\n",
    "    (lambda x1, x2: [x1, x2], 'x1, x2 -> xs'),\n",
    "    (JumpingKnowledge(\"cat\", 64, num_layers=2), 'xs -> x'),\n",
    "    (global_mean_pool, 'x, batch -> x'),\n",
    "    Linear(2 * 64, dataset.num_classes),\n",
    "])"
   ]
  },
  {
   "cell_type": "code",
   "execution_count": null,
   "id": "9d4bce59-f1b1-4677-9897-5d3b31f2cf00",
   "metadata": {},
   "outputs": [],
   "source": []
  },
  {
   "cell_type": "code",
   "execution_count": 14,
   "id": "3a0c7084-6166-44ee-a1ba-af7a70abefef",
   "metadata": {},
   "outputs": [
    {
     "ename": "NameError",
     "evalue": "name 'torch_geometric' is not defined",
     "output_type": "error",
     "traceback": [
      "\u001b[0;31m---------------------------------------------------------------------------\u001b[0m",
      "\u001b[0;31mNameError\u001b[0m                                 Traceback (most recent call last)",
      "\u001b[0;32m/tmp/ipykernel_1439926/3746202147.py\u001b[0m in \u001b[0;36m<module>\u001b[0;34m\u001b[0m\n\u001b[0;32m----> 1\u001b[0;31m \u001b[0mtorch_geometric\u001b[0m\u001b[0;34m.\u001b[0m\u001b[0mnn\u001b[0m\u001b[0;34m.\u001b[0m\u001b[0mLinear\u001b[0m\u001b[0;34m(\u001b[0m\u001b[0;34m)\u001b[0m\u001b[0;34m\u001b[0m\u001b[0;34m\u001b[0m\u001b[0m\n\u001b[0m",
      "\u001b[0;31mNameError\u001b[0m: name 'torch_geometric' is not defined"
     ]
    }
   ],
   "source": [
    "torch_geometric.nn.Linear()"
   ]
  },
  {
   "cell_type": "code",
   "execution_count": null,
   "id": "a1bc146c-80fe-4aa2-9622-5c44ffaa26aa",
   "metadata": {},
   "outputs": [],
   "source": []
  },
  {
   "cell_type": "code",
   "execution_count": null,
   "id": "b14d6684-371a-4be0-a6fa-f0d2bfb87f96",
   "metadata": {},
   "outputs": [],
   "source": []
  },
  {
   "cell_type": "code",
   "execution_count": null,
   "id": "cc19a296-9490-43c7-84dc-ededbebe0a14",
   "metadata": {},
   "outputs": [],
   "source": []
  },
  {
   "cell_type": "code",
   "execution_count": null,
   "id": "7bc401d8-3858-4c7d-a399-43bd0fa324ea",
   "metadata": {},
   "outputs": [],
   "source": []
  },
  {
   "cell_type": "code",
   "execution_count": null,
   "id": "d5c5f1da-8b61-49a5-8708-f16ed84000bf",
   "metadata": {},
   "outputs": [],
   "source": []
  },
  {
   "cell_type": "code",
   "execution_count": null,
   "id": "a9f33630-7001-4413-89b3-032a21fff11d",
   "metadata": {},
   "outputs": [],
   "source": []
  }
 ],
 "metadata": {
  "kernelspec": {
   "display_name": "Python 3",
   "language": "python",
   "name": "python3"
  },
  "language_info": {
   "codemirror_mode": {
    "name": "ipython",
    "version": 3
   },
   "file_extension": ".py",
   "mimetype": "text/x-python",
   "name": "python",
   "nbconvert_exporter": "python",
   "pygments_lexer": "ipython3",
   "version": "3.7.13"
  }
 },
 "nbformat": 4,
 "nbformat_minor": 5
}

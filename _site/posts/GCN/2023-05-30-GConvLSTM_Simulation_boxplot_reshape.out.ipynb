{
  "cells": [
    {
      "cell_type": "markdown",
      "metadata": {},
      "source": [
        "# GConvLSTM_Simulation_reshape\n",
        "\n",
        "SEOYEON CHOI  \n",
        "5/30/23\n",
        "\n",
        "> Simulation Study"
      ],
      "id": "7c11d3b0-0b79-49e4-a005-1d2d968b7818"
    },
    {
      "cell_type": "code",
      "execution_count": null,
      "metadata": {},
      "outputs": [],
      "source": [
        "import itstgcnGConvLSTM\n",
        "import torch\n",
        "import itstgcnGConvLSTM.planner \n",
        "import pandas as pd\n",
        "\n",
        "import numpy as np\n",
        "import random"
      ],
      "id": "969c55f3-6a16-4a88-b383-66afac9d7a55"
    },
    {
      "cell_type": "code",
      "execution_count": 5,
      "metadata": {},
      "outputs": [],
      "source": [
        "from torch_geometric_temporal.dataset import WikiMathsDatasetLoader\n",
        "loader3 = WikiMathsDatasetLoader()"
      ],
      "id": "151bbb31-a98f-4a20-bab8-b06d18082b93"
    },
    {
      "cell_type": "code",
      "execution_count": 82,
      "metadata": {},
      "outputs": [],
      "source": [
        "plans_stgcn_rand = {\n",
        "    'max_iteration': 5, \n",
        "    'method': ['STGCN', 'IT-STGCN'],\n",
        "    'mrate': [0.5],\n",
        "    'lags': [8], \n",
        "    'nof_filters': [64], \n",
        "    'inter_method': ['linear'],\n",
        "    'epoch': [50]\n",
        "}"
      ],
      "id": "ff137c8a-53bb-4627-890c-294e687e2e8a"
    },
    {
      "cell_type": "code",
      "execution_count": null,
      "metadata": {},
      "outputs": [
        {
          "output_type": "stream",
          "name": "stdout",
          "text": [
            "2/50"
          ]
        }
      ],
      "source": [
        "plnr = itstgcnGConvLSTM.planner.PLNR_STGCN_RAND(plans_stgcn_rand,loader3,dataset_name='wikimath')\n",
        "plnr.simulate()"
      ],
      "id": "19d58df1-8ef6-4d0f-b725-fceffa515874"
    },
    {
      "cell_type": "code",
      "execution_count": null,
      "metadata": {},
      "outputs": [],
      "source": [
        "plnr = itstgcnGConvLSTM.planner.PLNR_STGCN_RAND(plans_stgcn_rand,loader3,dataset_name='wikimath')\n",
        "plnr.simulate()"
      ],
      "id": "bb7fd586-6d7e-4eeb-8461-04a291c5611a"
    },
    {
      "cell_type": "code",
      "execution_count": null,
      "metadata": {},
      "outputs": [],
      "source": [
        "plnr = itstgcnGConvLSTM.planner.PLNR_STGCN_RAND(plans_stgcn_rand,loader3,dataset_name='wikimath')\n",
        "plnr.simulate()"
      ],
      "id": "2ce92859-bec4-4ccb-908b-6a42f40dab17"
    },
    {
      "cell_type": "code",
      "execution_count": null,
      "metadata": {},
      "outputs": [],
      "source": [
        "plnr = itstgcnGConvLSTM.planner.PLNR_STGCN_RAND(plans_stgcn_rand,loader3,dataset_name='wikimath')\n",
        "plnr.simulate()"
      ],
      "id": "d05b3208-45c9-4981-8c7b-938d1ec5c0a7"
    },
    {
      "cell_type": "code",
      "execution_count": null,
      "metadata": {},
      "outputs": [],
      "source": [
        "plnr = itstgcnGConvLSTM.planner.PLNR_STGCN_RAND(plans_stgcn_rand,loader3,dataset_name='wikimath')\n",
        "plnr.simulate()"
      ],
      "id": "3ff34cbf-0599-4eae-ab72-f24bd519d957"
    },
    {
      "cell_type": "code",
      "execution_count": null,
      "metadata": {},
      "outputs": [],
      "source": [
        "plnr = itstgcnGConvLSTM.planner.PLNR_STGCN_RAND(plans_stgcn_rand,loader3,dataset_name='wikimath')\n",
        "plnr.simulate()"
      ],
      "id": "3e3172c0-9e21-442f-8d1e-75c7902b30a2"
    },
    {
      "cell_type": "code",
      "execution_count": null,
      "metadata": {},
      "outputs": [],
      "source": [
        "plans_stgcn_rand = {\n",
        "    'max_iteration': 5, \n",
        "    'method': ['STGCN', 'IT-STGCN'],\n",
        "    'mrate': [0.6],\n",
        "    'lags': [8], \n",
        "    'nof_filters': [64], \n",
        "    'inter_method': ['linear'],\n",
        "    'epoch': [50]\n",
        "}"
      ],
      "id": "71223377-429a-490b-b0b7-34d303bcc18c"
    },
    {
      "cell_type": "code",
      "execution_count": null,
      "metadata": {},
      "outputs": [],
      "source": [
        "plnr = itstgcnGConvLSTM.planner.PLNR_STGCN_RAND(plans_stgcn_rand,loader3,dataset_name='wikimath')\n",
        "plnr.simulate()"
      ],
      "id": "6808b2ae-117d-491b-99b2-a5f2e10739ff"
    },
    {
      "cell_type": "code",
      "execution_count": null,
      "metadata": {},
      "outputs": [],
      "source": [
        "plnr = itstgcnGConvLSTM.planner.PLNR_STGCN_RAND(plans_stgcn_rand,loader3,dataset_name='wikimath')\n",
        "plnr.simulate()"
      ],
      "id": "c5b4d8aa-b2b7-4c52-9bbf-dc696cab06c5"
    },
    {
      "cell_type": "code",
      "execution_count": null,
      "metadata": {},
      "outputs": [],
      "source": [
        "plnr = itstgcnGConvLSTM.planner.PLNR_STGCN_RAND(plans_stgcn_rand,loader3,dataset_name='wikimath')\n",
        "plnr.simulate()"
      ],
      "id": "379d877f-77a5-4734-a035-4b93c7ae9efa"
    },
    {
      "cell_type": "code",
      "execution_count": null,
      "metadata": {},
      "outputs": [],
      "source": [
        "plnr = itstgcnGConvLSTM.planner.PLNR_STGCN_RAND(plans_stgcn_rand,loader3,dataset_name='wikimath')\n",
        "plnr.simulate()"
      ],
      "id": "c1b0b221-24de-4dd1-8a47-e71f876215b7"
    },
    {
      "cell_type": "code",
      "execution_count": null,
      "metadata": {},
      "outputs": [],
      "source": [
        "plnr = itstgcnGConvLSTM.planner.PLNR_STGCN_RAND(plans_stgcn_rand,loader3,dataset_name='wikimath')\n",
        "plnr.simulate()"
      ],
      "id": "0a2a3136-edf3-42cb-bfa3-d792a980e941"
    },
    {
      "cell_type": "code",
      "execution_count": null,
      "metadata": {},
      "outputs": [],
      "source": [
        "plnr = itstgcnGConvLSTM.planner.PLNR_STGCN_RAND(plans_stgcn_rand,loader3,dataset_name='wikimath')\n",
        "plnr.simulate()"
      ],
      "id": "00d2e653-371a-4b1a-b608-cebaad423fb7"
    },
    {
      "cell_type": "markdown",
      "metadata": {},
      "source": [
        "# Import"
      ],
      "id": "37d2ca20-ad7e-4631-a06b-c124db6137d4"
    },
    {
      "cell_type": "code",
      "execution_count": 28,
      "metadata": {},
      "outputs": [],
      "source": [
        "import matplotlib.pyplot as plt\n",
        "import pandas as pd\n",
        "import numpy as np"
      ],
      "id": "7f6e8733-1ea3-42f6-a6d0-124a7c7ba7d2"
    },
    {
      "cell_type": "markdown",
      "metadata": {},
      "source": [
        "# Fivenodes"
      ],
      "id": "1ba322ad-6a40-4c3b-8df3-20bd52878cff"
    },
    {
      "cell_type": "code",
      "execution_count": 29,
      "metadata": {},
      "outputs": [],
      "source": [
        "# df5 = pd.read_csv('./simulation_results/2023-06-04_13-29-16.csv')\n",
        "# df6 = pd.read_csv('./simulation_results/2023-06-04_13-39-55.csv')\n",
        "# df7 = pd.read_csv('./simulation_results/2023-06-04_13-50-24.csv')\n",
        "# k=1"
      ],
      "id": "50675682-6025-4824-9a8b-4f99f1dc790a"
    },
    {
      "cell_type": "code",
      "execution_count": 30,
      "metadata": {},
      "outputs": [],
      "source": [
        "df1 = pd.read_csv('./simulation_results/2023-06-07_08-10-42.csv')\n",
        "df2 = pd.read_csv('./simulation_results/2023-06-07_09-14-08.csv')\n",
        "df3 = pd.read_csv('./simulation_results/2023-06-07_10-17-23.csv')\n",
        "df4 = pd.read_csv('./simulation_results/2023-06-07_11-20-35.csv')\n",
        "df5 = pd.read_csv('./simulation_results/2023-06-07_12-23-45.csv')\n",
        "df6 = pd.read_csv('./simulation_results/2023-06-07_13-15-54.csv')\n",
        "df7 = pd.read_csv('./simulation_results/2023-06-13_11-25-39.csv')\n",
        "df8 = pd.read_csv('./simulation_results/2023-06-13_12-25-51.csv')"
      ],
      "id": "1082da4f-1485-4609-a8b3-91225a827d4c"
    },
    {
      "cell_type": "code",
      "execution_count": 31,
      "metadata": {},
      "outputs": [],
      "source": [
        "df9 = pd.read_csv('./simulation_results/2023-07-16_09-20-23.csv')\n",
        "df10 = pd.read_csv('./simulation_results/2023-07-16_10-22-53.csv')\n",
        "df11 = pd.read_csv('./simulation_results/2023-07-16_11-27-39.csv')\n",
        "df12 = pd.read_csv('./simulation_results/2023-07-16_12-30-05.csv')\n",
        "df13 = pd.read_csv('./simulation_results/2023-07-16_13-33-28.csv')\n",
        "df14 = pd.read_csv('./simulation_results/2023-07-16_14-34-12.csv')"
      ],
      "id": "a790f149-6ad1-4637-8841-8a4357cbeafb"
    },
    {
      "cell_type": "code",
      "execution_count": 32,
      "metadata": {},
      "outputs": [],
      "source": [
        "data = pd.concat([df1,df2,df3,df4,df5,df6,df7,df8,df9,df10,df11,df12,df13,df14],axis=0)"
      ],
      "id": "299f4605-4a4b-454a-be00-88e218010940"
    },
    {
      "cell_type": "code",
      "execution_count": 33,
      "metadata": {},
      "outputs": [],
      "source": [
        "data.to_csv('./simulation_results/Real_simulation_reshape/GConvLSTM_fivedones_Simulation.csv',index=False)"
      ],
      "id": "0b3dfc34-5a8d-4d89-8437-a5ccbf23d25a"
    },
    {
      "cell_type": "code",
      "execution_count": 34,
      "metadata": {},
      "outputs": [],
      "source": [
        "data = pd.read_csv('./simulation_results/Real_simulation_reshape/GConvLSTM_fivedones_Simulation.csv')"
      ],
      "id": "44cad441-b580-4920-86f0-bfcc9797cb75"
    },
    {
      "cell_type": "markdown",
      "metadata": {},
      "source": [
        "## Baseline"
      ],
      "id": "7f690e87-3d2a-412e-a65f-f417f7bf7066"
    },
    {
      "cell_type": "code",
      "execution_count": 35,
      "metadata": {
        "tags": []
      },
      "outputs": [],
      "source": [
        "data.query(\"method!='GNAR' and mrate==0\").plot.box(backend='plotly',x='mrate',color='method',y='mse',facet_col='lags',facet_row='nof_filters',height=600)\n"
      ],
      "id": "ce7e467f-0425-415f-9584-8c26c5d76953"
    },
    {
      "cell_type": "markdown",
      "metadata": {},
      "source": [
        "## Random"
      ],
      "id": "9db142c5-3ea7-4584-8c33-466464c9d309"
    },
    {
      "cell_type": "code",
      "execution_count": 36,
      "metadata": {},
      "outputs": [],
      "source": [
        "data.query(\"method!='GNAR' and mtype =='rand'\").plot.box(backend='plotly',x='mrate',color='method',y='mse',facet_col='inter_method',facet_row='nof_filters',height=600)\n",
        "\n"
      ],
      "id": "9f434415-731d-44ea-b233-00b549cacf22"
    },
    {
      "cell_type": "markdown",
      "metadata": {},
      "source": [
        "## Block"
      ],
      "id": "0022553b-d118-41ca-8dcb-0a2d3283d030"
    },
    {
      "cell_type": "code",
      "execution_count": 37,
      "metadata": {},
      "outputs": [],
      "source": [
        "data.query(\"method!='GNAR' and mtype =='block' \").plot.box(backend='plotly',x='mrate',color='method',y='mse',facet_col='inter_method',facet_row='nof_filters',height=600)\n"
      ],
      "id": "677680cb-aaa1-4634-be61-9705beb1eaf8"
    },
    {
      "cell_type": "markdown",
      "metadata": {},
      "source": [
        "# chickenpox"
      ],
      "id": "6e75ddb3-7559-482a-b85b-eb39df9fa5fb"
    },
    {
      "cell_type": "code",
      "execution_count": 38,
      "metadata": {
        "tags": []
      },
      "outputs": [],
      "source": [
        "# df1 = pd.read_csv('./simulation_results/2023-06-02_14-03-24.csv') # GNAR random\n",
        "# df2 = pd.read_csv('./simulation_results/2023-06-03_15-57-09.csv') # GNAR block\n",
        "# df3 = pd.read_csv('./simulation_results/2023-06-03_17-58-22.csv') # STGCN, ITSTGCN random 30%\n",
        "\n",
        "## 하이퍼 파라메터 조정해서 다시 함!\n",
        "df1 = pd.read_csv('./simulation_results/2023-06-07_22-08-57.csv') \n",
        "df2 = pd.read_csv('./simulation_results/2023-06-08_01-57-25.csv') \n",
        "df3 = pd.read_csv('./simulation_results/2023-06-08_03-58-56.csv') \n",
        "df4 = pd.read_csv('./simulation_results/2023-06-08_06-00-50.csv')\n",
        "df5 = pd.read_csv('./simulation_results/2023-06-08_09-11-04.csv')\n",
        "df6 = pd.read_csv('./simulation_results/2023-06-08_13-06-18.csv')"
      ],
      "id": "c58177b5-2de4-4659-bf92-682cd84c5ff9"
    },
    {
      "cell_type": "code",
      "execution_count": 39,
      "metadata": {},
      "outputs": [],
      "source": [
        "df7 = pd.read_csv('./simulation_results/2023-07-16_18-29-09.csv')\n",
        "df8 = pd.read_csv('./simulation_results/2023-07-16_22-21-02.csv')\n",
        "df9 = pd.read_csv('./simulation_results/2023-07-17_02-20-42.csv')\n",
        "df10 = pd.read_csv('./simulation_results/2023-07-17_06-23-41.csv')"
      ],
      "id": "0d81711c-ed6e-4c0b-8f80-99731d2abf17"
    },
    {
      "cell_type": "code",
      "execution_count": 40,
      "metadata": {},
      "outputs": [],
      "source": [
        "data = pd.concat([df1,df2,df3,df4,df5,df6,df7,df8,df9,df10],axis=0)"
      ],
      "id": "a0e979da-c518-441f-b2dd-664098068ba9"
    },
    {
      "cell_type": "code",
      "execution_count": 41,
      "metadata": {},
      "outputs": [],
      "source": [
        "data.to_csv('./simulation_results/Real_simulation_reshape/GConvLSTM_chikenpox_Simulation.csv',index=False)"
      ],
      "id": "1dc532ec-d7fa-41f5-bddd-92855bcea2d7"
    },
    {
      "cell_type": "code",
      "execution_count": 42,
      "metadata": {},
      "outputs": [],
      "source": [
        "data = pd.read_csv('./simulation_results/Real_simulation_reshape/GConvLSTM_chikenpox_Simulation.csv')"
      ],
      "id": "513ea39a-08bf-4e14-b309-2ef1a84c9290"
    },
    {
      "cell_type": "markdown",
      "metadata": {},
      "source": [
        "## Baseline"
      ],
      "id": "085668bc-564c-4c2d-8848-bd93f6b2e197"
    },
    {
      "cell_type": "code",
      "execution_count": 43,
      "metadata": {},
      "outputs": [],
      "source": [
        "data.query(\"method!='GNAR' and mrate ==0 \").plot.box(backend='plotly',x='mrate',color='method',y='mse',facet_col='nof_filters',height=600)\n"
      ],
      "id": "6487e95d-280a-4fcc-88e3-89a16874af09"
    },
    {
      "cell_type": "markdown",
      "metadata": {},
      "source": [
        "## Random"
      ],
      "id": "83f5a833-57db-4136-855e-51371175acfc"
    },
    {
      "cell_type": "code",
      "execution_count": 44,
      "metadata": {},
      "outputs": [],
      "source": [
        "data.query(\"method!='GNAR' and mtype =='rand'\").plot.box(backend='plotly',x='mrate',color='method',y='mse',facet_col='nof_filters',facet_row='inter_method',height=800)\n"
      ],
      "id": "757d1ba7-d27c-41e3-b130-555a3ecc7c14"
    },
    {
      "cell_type": "markdown",
      "metadata": {},
      "source": [
        "## Block"
      ],
      "id": "aa5b36c5-8e72-45dc-8027-f56a6684ad2a"
    },
    {
      "cell_type": "code",
      "execution_count": 45,
      "metadata": {},
      "outputs": [],
      "source": [
        "data.query(\"method!='GNAR' and mtype =='block'\").plot.box(backend='plotly',x='mrate',color='method',y='mse',facet_col='inter_method',facet_row='lags',height=800)\n"
      ],
      "id": "3465e3ff-30df-4f9a-96ad-6fcbfffbccee"
    },
    {
      "cell_type": "markdown",
      "metadata": {},
      "source": [
        "# Pedalme"
      ],
      "id": "4b53738b-40f6-405d-af35-79c68c4e83fc"
    },
    {
      "cell_type": "code",
      "execution_count": null,
      "metadata": {},
      "outputs": [],
      "source": [
        "# df3 = pd.read_csv('./simulation_results/2023-06-04_13-03-18.csv') \n",
        "# df4 = pd.read_csv('./simulation_results/2023-06-04_13-19-20.csv') \n",
        "# k=1"
      ],
      "id": "e646c783-dc39-45f7-aed4-ad7f78861b40"
    },
    {
      "cell_type": "code",
      "execution_count": 46,
      "metadata": {},
      "outputs": [],
      "source": [
        "df1 = pd.read_csv('./simulation_results/2023-06-08_14-08-24.csv') \n",
        "df2 = pd.read_csv('./simulation_results/2023-06-10_14-21-35.csv') "
      ],
      "id": "e3464d27-2e4c-4e33-833d-b441ad423008"
    },
    {
      "cell_type": "code",
      "execution_count": 47,
      "metadata": {},
      "outputs": [],
      "source": [
        "df3 = pd.read_csv('./simulation_results/2023-07-17_07-05-13.csv') "
      ],
      "id": "59b71bc5-a11b-41d6-a9e9-720602c2c9d6"
    },
    {
      "cell_type": "code",
      "execution_count": 48,
      "metadata": {},
      "outputs": [],
      "source": [
        "data = pd.concat([df1,df2,df3],axis=0)"
      ],
      "id": "144fb17b-a955-4c83-a0d4-4969571179f1"
    },
    {
      "cell_type": "code",
      "execution_count": 49,
      "metadata": {},
      "outputs": [],
      "source": [
        "data.to_csv('./simulation_results/Real_simulation_reshape/GConvLSTM_pedalme_Simulation.csv',index=False)"
      ],
      "id": "30725a2e-b9a7-44c4-a28c-b2078769e579"
    },
    {
      "cell_type": "code",
      "execution_count": 50,
      "metadata": {},
      "outputs": [],
      "source": [
        "data = pd.read_csv('./simulation_results/Real_simulation_reshape/GConvLSTM_pedalme_Simulation.csv')"
      ],
      "id": "b4ab9533-0872-47b4-8ca6-220967412957"
    },
    {
      "cell_type": "markdown",
      "metadata": {},
      "source": [
        "## Baseline"
      ],
      "id": "e32e0e60-374d-4bbb-9a59-ce3484f2c1a6"
    },
    {
      "cell_type": "code",
      "execution_count": 51,
      "metadata": {},
      "outputs": [],
      "source": [
        "data.query(\"mrate ==0 and lags!=2\").plot.box(backend='plotly',x='epoch',color='method',y='mse',facet_col='nof_filters',facet_row='lags',height=400)\n"
      ],
      "id": "6fcc30d5-6ac0-4cb4-bddb-9589f2f8233b"
    },
    {
      "cell_type": "markdown",
      "metadata": {},
      "source": [
        "## random"
      ],
      "id": "ff374d70-6f14-4d14-b3de-20934e1c692c"
    },
    {
      "cell_type": "code",
      "execution_count": 52,
      "metadata": {},
      "outputs": [],
      "source": [
        "data.query(\"method!='GNAR' and mtype =='rand' and lags!=2\").plot.box(backend='plotly',x='mrate',color='method',y='mse',facet_col='nof_filters',facet_row='inter_method',height=800)\n"
      ],
      "id": "4567ab32-ea87-471f-b69f-7fcd8c27cc37"
    },
    {
      "cell_type": "markdown",
      "metadata": {},
      "source": [
        "## block"
      ],
      "id": "6aa54ff8-cbeb-4a8f-846e-d443ae0b8e0b"
    },
    {
      "cell_type": "code",
      "execution_count": 53,
      "metadata": {},
      "outputs": [],
      "source": [
        "data.query(\"method!='GNAR' and mtype =='block' and lags!=2 \").plot.box(backend='plotly',x='mrate',color='method',y='mse',facet_col='nof_filters',facet_row='inter_method',height=800)\n"
      ],
      "id": "2325667d-de47-4388-b341-b32f4dd26869"
    },
    {
      "cell_type": "markdown",
      "metadata": {},
      "source": [
        "## weight matrix time, node 고려한 결과"
      ],
      "id": "d4543097-aca5-4ad1-bc25-e73100f85f0b"
    },
    {
      "cell_type": "code",
      "execution_count": 169,
      "metadata": {},
      "outputs": [],
      "source": [
        "df1 = pd.read_csv('./simulation_results/2023-06-10_15-33-00.csv')\n",
        "df2 = pd.read_csv('./simulation_results/2023-06-10_16-06-20.csv')"
      ],
      "id": "ef0b37ca-f574-44d8-8d43-4b7b55ea50b1"
    },
    {
      "cell_type": "code",
      "execution_count": 170,
      "metadata": {},
      "outputs": [],
      "source": [
        "data2 = pd.concat([df1,df2],axis=0)"
      ],
      "id": "68f78d16-aba5-4d49-9282-47778c4b9366"
    },
    {
      "cell_type": "code",
      "execution_count": 171,
      "metadata": {},
      "outputs": [],
      "source": [
        "data2.to_csv('./simulation_results/Real_simulation_reshape/GConvLSTM_pedalme_Simulation_itstgcnsnd.csv',index=False)"
      ],
      "id": "5f026237-ccc6-4f49-9dc3-5ebf6e57ee40"
    },
    {
      "cell_type": "code",
      "execution_count": 172,
      "metadata": {},
      "outputs": [],
      "source": [
        "data2 = pd.read_csv('./simulation_results/Real_simulation_reshape/GConvLSTM_pedalme_Simulation_itstgcnsnd.csv')"
      ],
      "id": "b1ed40eb-9075-4f96-a878-5f446fd1c40d"
    },
    {
      "cell_type": "code",
      "execution_count": 173,
      "metadata": {},
      "outputs": [],
      "source": [
        "data2.query(\"mtype=='rand'\").plot.box(backend='plotly',x='mrate',color='method',y='mse',facet_col='inter_method',facet_row='nof_filters',height=1000)"
      ],
      "id": "cbd902ed-207b-4033-bca1-c35c5c79baef"
    },
    {
      "cell_type": "code",
      "execution_count": 174,
      "metadata": {},
      "outputs": [],
      "source": [
        "data2.query(\"mtype=='block'\").plot.box(backend='plotly',x='mrate',color='method',y='mse',facet_col='inter_method',facet_row='nof_filters',height=1000)"
      ],
      "id": "167246f4-c1eb-40f1-95ff-e92966c66889"
    },
    {
      "cell_type": "markdown",
      "metadata": {},
      "source": [
        "# Wikimath"
      ],
      "id": "a4265f02-7cd6-4a00-a2cd-611752c6fbee"
    },
    {
      "cell_type": "code",
      "execution_count": 284,
      "metadata": {},
      "outputs": [],
      "source": [
        "df1 = pd.read_csv('./simulation_results/2023-06-09_05-04-53.csv') # 0.3\n",
        "df2 = pd.read_csv('./simulation_results/2023-06-09_22-51-24.csv') # 0.3\n",
        "df3 = pd.read_csv('./simulation_results/2023-06-10_13-44-50.csv') # 0.3\n",
        "df4 = pd.read_csv('./simulation_results/2023-06-11_17-52-38.csv') # 0.8\n",
        "df5 = pd.read_csv('./simulation_results/2023-06-12_22-28-48.csv') # 0.8\n",
        "df6 = pd.read_csv('./simulation_results/2023-06-13_19-20-20.csv') # 0\n",
        "df7 = pd.read_csv('./simulation_results/2023-06-14_20-51-43.csv') # 0\n",
        "df8 = pd.read_csv('./simulation_results/2023-06-15_17-05-25.csv') # 0\n",
        "df9 = pd.read_csv('./simulation_results/2023-06-13_16-54-57.csv') # block\n",
        "df10 = pd.read_csv('./simulation_results/2023-06-12_20-55-27.csv') # block\n",
        "df11 = pd.read_csv('./simulation_results/2023-06-12_01-29-40.csv') # block\n",
        "# 11개 끝나면 같은 노드 missing 으로 넘어가기"
      ],
      "id": "17a65380-4921-4f8f-b096-a9b87ef9ef54"
    },
    {
      "cell_type": "code",
      "execution_count": 284,
      "metadata": {},
      "outputs": [],
      "source": [
        "df12 = pd.read_csv('./simulation_results/2023-07-22_22-49-59.csv') # 0.3\n",
        "# df13 = pd.read_csv('./simulation_results/2023-06-09_22-51-24.csv') # 0.3\n",
        "# df14 = pd.read_csv('./simulation_results/2023-06-10_13-44-50.csv') # 0.3\n",
        "# df15 = pd.read_csv('./simulation_results/2023-06-11_17-52-38.csv') # 0.8\n",
        "# df16 = pd.read_csv('./simulation_results/2023-06-12_22-28-48.csv') # 0.8\n",
        "# df17 = pd.read_csv('./simulation_results/2023-06-13_19-20-20.csv') # 0\n",
        "# df18 = pd.read_csv('./simulation_results/2023-06-14_20-51-43.csv') # 0\n",
        "# df19 = pd.read_csv('./simulation_results/2023-06-15_17-05-25.csv') # 0\n",
        "# df20 = pd.read_csv('./simulation_results/2023-06-13_16-54-57.csv') # block\n",
        "# df21 = pd.read_csv('./simulation_results/2023-06-12_20-55-27.csv') # block\n",
        "# df22 = pd.read_csv('./simulation_results/2023-06-12_01-29-40.csv') \n",
        "# df23 = pd.read_csv('./simulation_results/2023-06-12_01-29-40.csv') "
      ],
      "id": "db86f875-1c33-4428-81cd-e93cbcdc648b"
    },
    {
      "cell_type": "code",
      "execution_count": 285,
      "metadata": {},
      "outputs": [],
      "source": [
        "data = pd.concat([df1,df2,df3,df4,df5,df6,df7,df8,df9,df10,df11],axis=0)"
      ],
      "id": "d0d96663-335b-4397-a5b4-f3f05a2fb1ad"
    },
    {
      "cell_type": "code",
      "execution_count": 286,
      "metadata": {},
      "outputs": [],
      "source": [
        "data.to_csv('./simulation_results/Real_simulation_reshape/GConvLSTM_wikimath.csv',index=False)"
      ],
      "id": "898ce294-020f-41a4-a5a9-96f7aeb0666e"
    },
    {
      "cell_type": "code",
      "execution_count": 287,
      "metadata": {},
      "outputs": [],
      "source": [
        "data = pd.read_csv('./simulation_results/Real_simulation_reshape/GConvLSTM_wikimath.csv')"
      ],
      "id": "088e0853-e5dd-4a7d-aed6-40e83b912e12"
    },
    {
      "cell_type": "markdown",
      "metadata": {},
      "source": [
        "## Baseline"
      ],
      "id": "828cab9e-ed48-4437-8ba6-76746ca030a8"
    },
    {
      "cell_type": "code",
      "execution_count": 288,
      "metadata": {},
      "outputs": [],
      "source": [
        "data.query(\"mrate==0 \").plot.box(backend='plotly',x='mrate',color='method',y='mse',height=600)"
      ],
      "id": "4020c0db-242d-4928-bf08-06202fce95ef"
    },
    {
      "cell_type": "markdown",
      "metadata": {},
      "source": [
        "## random"
      ],
      "id": "9122961a-aa6b-44ae-ae74-259cb54cbb01"
    },
    {
      "cell_type": "code",
      "execution_count": 289,
      "metadata": {},
      "outputs": [],
      "source": [
        "data.query(\"mtype=='rand' and mrate !=0 and method!='GNAR'\").plot.box(backend='plotly',x='mrate',color='method',y='mse',facet_col='lags',facet_row='nof_filters',height=800)\n"
      ],
      "id": "afd04f78-309a-412c-b5f3-e8f91e278655"
    },
    {
      "cell_type": "markdown",
      "metadata": {},
      "source": [
        "## block"
      ],
      "id": "5e86e55f-94f0-4715-8e9d-fe3ee3b6f13b"
    },
    {
      "cell_type": "code",
      "execution_count": 290,
      "metadata": {},
      "outputs": [],
      "source": [
        "data.query(\"mtype=='block' \").plot.box(backend='plotly',x='mrate',color='method',y='mse',facet_col='lags',facet_row='nof_filters',height=1200)\n"
      ],
      "id": "6790b283-c5fb-452c-80b0-b73a72244ce6"
    },
    {
      "cell_type": "markdown",
      "metadata": {},
      "source": [
        "## missing values on the same nodes"
      ],
      "id": "12f238e0-47c3-463f-a595-7af22283e14d"
    },
    {
      "cell_type": "code",
      "execution_count": 292,
      "metadata": {
        "tags": []
      },
      "outputs": [],
      "source": [
        "df1 = pd.read_csv('./simulation_results/2023-06-14_19-23-44.csv') # STGCN IT-STGCN block\n",
        "df2 = pd.read_csv('./simulation_results/2023-06-15_15-51-38.csv')\n",
        "df3 = pd.read_csv('./simulation_results/2023-06-16_04-32-51.csv')"
      ],
      "id": "b196df61-61c5-4d79-93b9-4416991632c1"
    },
    {
      "cell_type": "code",
      "execution_count": 293,
      "metadata": {},
      "outputs": [],
      "source": [
        "data = pd.concat([df1,df2,df3],axis=0)"
      ],
      "id": "74607908-f928-46b9-af05-418ef617769c"
    },
    {
      "cell_type": "code",
      "execution_count": 294,
      "metadata": {},
      "outputs": [],
      "source": [
        "data.to_csv('./simulation_results/Real_simulation_reshape/GConvLSTM_wikimath_GSO_st.csv',index=False)"
      ],
      "id": "593f73be-2f08-4196-8758-20abe44cdbc8"
    },
    {
      "cell_type": "code",
      "execution_count": 295,
      "metadata": {},
      "outputs": [],
      "source": [
        "data = pd.read_csv('./simulation_results/Real_simulation_reshape/GConvLSTM_wikimath_GSO_st.csv')"
      ],
      "id": "bfed6f14-bea7-472c-8482-f66a09ea8699"
    },
    {
      "cell_type": "code",
      "execution_count": 296,
      "metadata": {},
      "outputs": [],
      "source": [
        "data.query(\"method!='GNAR' and mtype =='block' \").plot.box(backend='plotly',x='mrate',color='method',y='mse',facet_col='inter_method',facet_row='lags',height=800)\n"
      ],
      "id": "dbf3151b-389d-41df-9caf-f75f311b97b7"
    },
    {
      "cell_type": "markdown",
      "metadata": {},
      "source": [
        "# Windmilsmall"
      ],
      "id": "13360ba1-9b25-46a0-a3eb-9c5afbbbb61e"
    },
    {
      "cell_type": "code",
      "execution_count": 712,
      "metadata": {},
      "outputs": [],
      "source": [
        "df1 = pd.read_csv('./simulation_results/2023-06-18_08-49-16.csv') # STGCN IT-STGCN 70%\n",
        "df2 = pd.read_csv('./simulation_results/2023-06-18_19-23-41.csv') # STGCN IT-STGCN\n",
        "df3 = pd.read_csv('./simulation_results/2023-06-19_05-43-03.csv') # STGCN IT-STGCN\n",
        "df4 = pd.read_csv('./simulation_results/2023-06-19_05-43-03.csv') # STGCN IT-STGCN\n",
        "df5 = pd.read_csv('./simulation_results/2023-06-19_15-49-47.csv') # STGCN IT-STGCN\n",
        "df6 = pd.read_csv('./simulation_results/2023-06-20_01-48-58.csv') #\n",
        "df7 = pd.read_csv('./simulation_results/2023-06-20_10-46-07.csv') # STGCN IT-STGCN\n",
        "df8 = pd.read_csv('./simulation_results/2023-06-20_22-24-25.csv') # STGCN IT-STGCN\n",
        "df9 = pd.read_csv('./simulation_results/2023-06-21_08-49-11.csv') # STGCN IT-STGCN\n",
        "df10 = pd.read_csv('./simulation_results/2023-06-21_18-48-04.csv') # STGCN IT-STGCN\n",
        "df11 = pd.read_csv('./simulation_results/2023-06-22_04-57-53.csv') # STGCN IT-STGCN\n",
        "df12 = pd.read_csv('./simulation_results/2023-06-23_01-51-16.csv') # STGCN IT-STGCN\n",
        "df13 = pd.read_csv('./simulation_results/2023-06-23_09-45-30.csv') # STGCN IT-STGCN\n",
        "df14 = pd.read_csv('./simulation_results/2023-06-23_17-38-53.csv') # STGCN IT-STGCN\n",
        "df15 = pd.read_csv('./simulation_results/2023-06-24_03-32-00.csv') # STGCN IT-STGCN\n",
        "df16 = pd.read_csv('./simulation_results/2023-06-24_14-02-04.csv') # STGCN IT-STGCN\n",
        "df17 = pd.read_csv('./simulation_results/2023-06-25_00-33-49.csv') # STGCN IT-STGCN\n",
        "df18 = pd.read_csv('./simulation_results/2023-06-25_11-14-03.csv') # STGCN IT-STGCN\n",
        "df19 = pd.read_csv('./simulation_results/2023-06-25_21-52-31.csv') # STGCN IT-STGCN\n",
        "df20 = pd.read_csv('./simulation_results/2023-06-26_09-32-33.csv') # STGCN IT-STGCN\n",
        "df21 = pd.read_csv('./simulation_results/2023-06-26_20-26-47.csv') # STGCN IT-STGCN\n",
        "df22 = pd.read_csv('./simulation_results/2023-06-30_22-22-17.csv') # STGCN IT-STGCN\n",
        "df23 = pd.read_csv('./simulation_results/2023-06-27_07-38-02.csv') # STGCN IT-STGCN\n",
        "df24 = pd.read_csv('./simulation_results/2023-06-27_17-42-21.csv') # STGCN IT-STGCN\n",
        "df25 = pd.read_csv('./simulation_results/2023-06-27_23-25-36.csv') # STGCN IT-STGCN\n",
        "df26 = pd.read_csv('./simulation_results/2023-06-28_04-51-32.csv') # STGCN IT-STGCN\n",
        "df27 = pd.read_csv('./simulation_results/2023-06-28_13-42-03.csv') # STGCN IT-STGCN\n",
        "df28 = pd.read_csv('./simulation_results/2023-06-28_23-31-39.csv') # STGCN IT-STGCN\n",
        "df29 = pd.read_csv('./simulation_results/2023-06-29_07-37-23.csv') # STGCN IT-STGCN\n",
        "df30 = pd.read_csv('./simulation_results/2023-06-29_11-42-51.csv') # STGCN IT-STGCN\n",
        "df31 = pd.read_csv('./simulation_results/2023-06-29_18-56-11.csv') # GNAR 70%\n",
        "df32 = pd.read_csv('./simulation_results/2023-06-29_23-00-06.csv') # GNAR \n",
        "df33 = pd.read_csv('./simulation_results/2023-06-30_07-55-33.csv')\n",
        "df34 = pd.read_csv('./simulation_results/2023-06-30_13-16-45.csv')\n",
        "df35 = pd.read_csv('./simulation_results/2023-06-30_22-22-17.csv')\n",
        "df36 = pd.read_csv('./simulation_results/2023-07-01_02-32-38.csv')\n",
        "df37 = pd.read_csv('./simulation_results/2023-05-02_01-10-53.csv')\n",
        "df38 = pd.read_csv('./simulation_results/2023-07-01_22-06-17.csv')\n",
        "df39 = pd.read_csv('./simulation_results/2023-07-02_02-39-51.csv')\n",
        "df40 = pd.read_csv('./simulation_results/2023-07-02_10-30-04.csv')\n",
        "df41 = pd.read_csv('./simulation_results/2023-07-02_14-55-00.csv')\n",
        "df42 = pd.read_csv('./simulation_results/2023-07-02_22-39-16.csv')\n",
        "df43 = pd.read_csv('./simulation_results/2023-07-03_02-31-23.csv')\n",
        "df44 = pd.read_csv('./simulation_results/2023-07-03_09-46-01.csv')\n",
        "df45 = pd.read_csv('./simulation_results/2023-07-03_13-39-49.csv')\n",
        "df46 = pd.read_csv('./simulation_results/2023-07-03_20-27-34.csv')\n",
        "df47 = pd.read_csv('./simulation_results/2023-07-03_23-24-36.csv')\n",
        "df48 = pd.read_csv('./simulation_results/2023-07-04_04-53-17.csv')\n",
        "df49 = pd.read_csv('./simulation_results/2023-07-04_07-47-18.csv')\n",
        "df50 = pd.read_csv('./simulation_results/2023-07-04_13-19-43.csv')\n",
        "df51 = pd.read_csv('./simulation_results/2023-07-04_16-15-28.csv')\n",
        "df52 = pd.read_csv('./simulation_results/2023-07-04_21-45-58.csv')\n",
        "df53 = pd.read_csv('./simulation_results/2023-07-05_00-42-02.csv')\n",
        "df54 = pd.read_csv('./simulation_results/2023-07-05_06-10-53.csv')\n",
        "df55 = pd.read_csv('./simulation_results/2023-07-05_09-04-03.csv')\n",
        "df56 = pd.read_csv('./simulation_results/2023-07-05_14-35-14.csv')\n",
        "df57 = pd.read_csv('./simulation_results/2023-07-05_17-33-38.csv')\n",
        "df58 = pd.read_csv('./simulation_results/2023-07-05_23-06-14.csv')\n",
        "df59 = pd.read_csv('./simulation_results/2023-07-06_01-59-24.csv')\n",
        "df60 = pd.read_csv('./simulation_results/2023-07-06_07-30-43.csv')\n",
        "df61 = pd.read_csv('./simulation_results/2023-07-06_10-26-11.csv')\n",
        "df62 = pd.read_csv('./simulation_results/2023-07-06_15-56-04.csv')\n",
        "df63 = pd.read_csv('./simulation_results/2023-07-06_18-51-39.csv')\n",
        "df64 = pd.read_csv('./simulation_results/2023-07-07_00-20-44.csv')\n",
        "df65 = pd.read_csv('./simulation_results/2023-07-07_03-16-52.csv')\n",
        "df66 = pd.read_csv('./simulation_results/2023-07-07_08-45-18.csv')\n",
        "df67 = pd.read_csv('./simulation_results/2023-07-07_11-42-32.csv')\n",
        "df68 = pd.read_csv('./simulation_results/2023-07-07_17-11-59.csv')\n",
        "df69 = pd.read_csv('./simulation_results/2023-07-07_20-09-16.csv')\n",
        "df70 = pd.read_csv('./simulation_results/2023-07-08_01-39-33.csv') \n",
        "df71 = pd.read_csv('./simulation_results/2023-07-08_04-35-48.csv')\n",
        "df72 = pd.read_csv('./simulation_results/2023-07-08_10-41-29.csv')\n",
        "df73 = pd.read_csv('./simulation_results/2023-07-08_14-48-52.csv')\n",
        "df74 = pd.read_csv('./simulation_results/2023-07-08_22-15-53.csv')\n",
        "df75 = pd.read_csv('./simulation_results/2023-07-09_02-11-41.csv')\n",
        "df76 = pd.read_csv('./simulation_results/2023-07-09_09-59-35.csv')\n",
        "df77 = pd.read_csv('./simulation_results/2023-07-09_14-17-00.csv')\n",
        "df78 = pd.read_csv('./simulation_results/2023-07-09_22-10-25.csv')\n",
        "df79 = pd.read_csv('./simulation_results/2023-07-10_02-39-25.csv')\n",
        "df80 = pd.read_csv('./simulation_results/2023-07-10_12-33-23.csv')\n",
        "df81 = pd.read_csv('./simulation_results/2023-07-10_17-03-55.csv')\n",
        "df82 = pd.read_csv('./simulation_results/2023-07-11_01-43-12.csv')\n",
        "df83 = pd.read_csv('./simulation_results/2023-07-11_05-19-38.csv')\n",
        "df84 = pd.read_csv('./simulation_results/2023-07-11_13-21-44.csv')\n",
        "df85 = pd.read_csv('./simulation_results/2023-07-11_16-56-36.csv')\n",
        "df86 = pd.read_csv('./simulation_results/2023-07-12_05-06-36.csv')\n",
        "df87 = pd.read_csv('./simulation_results/2023-07-12_10-10-49.csv')\n",
        "df88 = pd.read_csv('./simulation_results/2023-07-12_17-03-55.csv')\n",
        "df89 = pd.read_csv('./simulation_results/2023-07-13_15-31-01.csv')\n",
        "df90 = pd.read_csv('./simulation_results/2023-07-14_20-29-43.csv')\n",
        "df91 = pd.read_csv('./simulation_results/2023-07-13_04-24-40.csv')\n",
        "df92 = pd.read_csv('./simulation_results/2023-07-15_09-33-11.csv')"
      ],
      "id": "85819e34-5295-4209-bd75-f746c5f98f04"
    },
    {
      "cell_type": "code",
      "execution_count": 713,
      "metadata": {},
      "outputs": [],
      "source": [
        "data = pd.concat([df1,df2,df3,df4,df5,df6,df7,df8,df9,df10,df11,df12,df13,df14,df15,df16,df17,df18,df19,df20,df21,\n",
        "                 df22,df23,df24,df25,df26,df27,df28,df29,df30,df31,df32,df33,df34,df35,df36,df37,df38,df39,df40,\n",
        "                 df41,df42,df43,df44,df45,df46,df47,df48,df29,df50,df51,df52,df53,df54,df55,df56,df57,df58,df59,df60,df61,\n",
        "                 df62,df63,df64,df65,df66,df67,df68,df69,df70,df71,df72,df73,df74,df75,df76,df77,df78,df79,df80,df81,\n",
        "                 df82,df83,df84,df85,df86,df87,df88,df89,df90,df91,df92],axis=0)"
      ],
      "id": "6419adb6-494a-4738-9472-7445ab3eb389"
    },
    {
      "cell_type": "code",
      "execution_count": 714,
      "metadata": {},
      "outputs": [],
      "source": [
        "data.to_csv('./simulation_results/Real_simulation_reshape/GConvLSTM_windmillsmall.csv',index=False)"
      ],
      "id": "1a01abf4-e5f6-4cb2-9720-59edc31eab9b"
    },
    {
      "cell_type": "code",
      "execution_count": 715,
      "metadata": {},
      "outputs": [],
      "source": [
        "data = pd.read_csv('./simulation_results/Real_simulation_reshape/GConvLSTM_windmillsmall.csv')"
      ],
      "id": "2ad5fd42-55ac-495a-bbcc-f17cd852762b"
    },
    {
      "cell_type": "markdown",
      "metadata": {},
      "source": [
        "## Baseline"
      ],
      "id": "8cffd02b-ce4f-40eb-84ae-1cc201a3a3fe"
    },
    {
      "cell_type": "code",
      "execution_count": 693,
      "metadata": {},
      "outputs": [],
      "source": [
        "data.query(\"method!='GNAR' and mrate ==0 \").plot.box(backend='plotly',x='mrate',color='method',y='mse',facet_col='lags',height=800)\n"
      ],
      "id": "ec3668fc-3e34-4839-b12e-44b32e2c974f"
    },
    {
      "cell_type": "markdown",
      "metadata": {},
      "source": [
        "## random"
      ],
      "id": "90123612-b5cb-483d-b459-f54fb407c6b7"
    },
    {
      "cell_type": "code",
      "execution_count": 694,
      "metadata": {},
      "outputs": [],
      "source": [
        "data.query(\"method!='GNAR' and mtype =='rand' \").plot.box(backend='plotly',x='mrate',color='method',y='mse',facet_col='lags',facet_row='inter_method',height=800)\n"
      ],
      "id": "ed1e728c-b3a0-427b-a57d-576426e4b67b"
    },
    {
      "cell_type": "markdown",
      "metadata": {},
      "source": [
        "## block"
      ],
      "id": "8327215d-5412-4239-8a6e-9820171406f4"
    },
    {
      "cell_type": "code",
      "execution_count": 695,
      "metadata": {},
      "outputs": [],
      "source": [
        "data.query(\"method!='GNAR' and mtype =='block' \").plot.box(backend='plotly',x='mrate',color='method',y='mse',facet_col='lags',facet_row='inter_method',height=800)\n"
      ],
      "id": "36e229f9-271d-44f3-8bd6-00858d68c641"
    },
    {
      "cell_type": "markdown",
      "metadata": {},
      "source": [
        "# Montevideobus"
      ],
      "id": "3c618ff4-f4f2-4dcd-ba85-251e18442a19"
    },
    {
      "cell_type": "code",
      "execution_count": 71,
      "metadata": {},
      "outputs": [],
      "source": [
        "df1 = pd.read_csv('./simulation_results/2023-06-09_04-44-47.csv') # lags 8\n",
        "df2 = pd.read_csv('./simulation_results/2023-06-09_10-14-28.csv') # lags 8\n",
        "df3 = pd.read_csv('./simulation_results/2023-06-09_15-02-44.csv') # lags 8\n",
        "df4 = pd.read_csv('./simulation_results/2023-06-09_20-18-35.csv') # lags 8\n",
        "df5 = pd.read_csv('./simulation_results/2023-06-10_19-55-08.csv') # lags 8\n",
        "df6 = pd.read_csv('./simulation_results/2023-06-10_23-03-00.csv') # lags 8\n",
        "df7 = pd.read_csv('./simulation_results/2023-06-11_02-22-49.csv') # lags 8"
      ],
      "id": "dfa7f6da-ed35-48c7-bb9c-6af8c0f3d56c"
    },
    {
      "cell_type": "code",
      "execution_count": 72,
      "metadata": {},
      "outputs": [],
      "source": [
        "df8 = pd.read_csv('./simulation_results/2023-07-20_01-06-37.csv') # lags 8\n",
        "df9 = pd.read_csv('./simulation_results/2023-07-20_06-05-46.csv') # lags 8\n",
        "df10 = pd.read_csv('./simulation_results/2023-07-20_10-50-04.csv') # lags 8\n",
        "df11 = pd.read_csv('./simulation_results/2023-07-20_15-35-45.csv') # lags 8\n",
        "df12 = pd.read_csv('./simulation_results/2023-07-20_20-12-53.csv') # lags 8\n",
        "df13 = pd.read_csv('./simulation_results/2023-07-21_00-58-20.csv') # lags 8\n",
        "df14 = pd.read_csv('./simulation_results/2023-07-21_05-45-10.csv') # lags 8\n",
        "df15 = pd.read_csv('./simulation_results/2023-07-21_10-13-49.csv') # lags 8\n",
        "df16 = pd.read_csv('./simulation_results/2023-07-21_14-15-40.csv') # lags 8"
      ],
      "id": "e21f2287-6d0d-4e53-9ae7-d99b96fbc348"
    },
    {
      "cell_type": "code",
      "execution_count": 73,
      "metadata": {},
      "outputs": [],
      "source": [
        "data = pd.concat([df1,df2,df3,df4,df5,df6,df7,df8,df9,df10,df11,df12,df13,df14,df15,df16],axis=0)"
      ],
      "id": "350d8dba-02f3-4762-8069-849176bdb8e8"
    },
    {
      "cell_type": "code",
      "execution_count": 74,
      "metadata": {},
      "outputs": [],
      "source": [
        "data.to_csv('./simulation_results/Real_simulation_reshape/GConvLSTM_monte.csv',index=False)"
      ],
      "id": "0d3e118c-0e83-41eb-9572-7c252804b7ac"
    },
    {
      "cell_type": "code",
      "execution_count": 75,
      "metadata": {},
      "outputs": [],
      "source": [
        "data = pd.read_csv('./simulation_results/Real_simulation_reshape/GConvLSTM_monte.csv')"
      ],
      "id": "e68c445c-b4b6-433c-9c1b-40c319d63949"
    },
    {
      "cell_type": "markdown",
      "metadata": {},
      "source": [
        "## Baseline"
      ],
      "id": "2a38be06-5fdc-483d-8829-5bcdcad0649a"
    },
    {
      "cell_type": "code",
      "execution_count": 76,
      "metadata": {},
      "outputs": [],
      "source": [
        "data.query(\"mrate==0 and method!='GNAR'\").plot.box(backend='plotly',x='mrate',color='method',y='mse',facet_col='lags',facet_row='nof_filters',height=600)"
      ],
      "id": "69a52489-f87a-4cf4-a458-1dc793d10790"
    },
    {
      "cell_type": "markdown",
      "metadata": {},
      "source": [
        "## random"
      ],
      "id": "668f54b1-7649-4007-a44d-85ea19e587f6"
    },
    {
      "cell_type": "code",
      "execution_count": 79,
      "metadata": {},
      "outputs": [],
      "source": [
        "data.query(\"mtype=='rand' and mrate !=0 and method!='GNAR'\").plot.box(backend='plotly',x='mrate',color='method',y='mse',facet_col='lags',facet_row='inter_method',height=800)\n"
      ],
      "id": "1df637cc-e1a6-4b86-817c-ffacd926510b"
    },
    {
      "cell_type": "markdown",
      "metadata": {},
      "source": [
        "## block"
      ],
      "id": "504c3bef-9cfc-494f-98ec-02c3f974d6bc"
    },
    {
      "cell_type": "code",
      "execution_count": 78,
      "metadata": {},
      "outputs": [],
      "source": [
        "data.query(\"mtype=='block' and method!='GNAR'\").plot.box(backend='plotly',x='mrate',color='method',y='mse',facet_col='lags',facet_row='nof_filters',height=1200)\n"
      ],
      "id": "029337a6-5789-4489-9185-2193b2a3de1a"
    }
  ],
  "nbformat": 4,
  "nbformat_minor": 5,
  "metadata": {
    "kernelspec": {
      "name": "python3",
      "display_name": "Python 3",
      "language": "python"
    },
    "language_info": {
      "name": "python",
      "codemirror_mode": {
        "name": "ipython",
        "version": "3"
      },
      "file_extension": ".py",
      "mimetype": "text/x-python",
      "nbconvert_exporter": "python",
      "pygments_lexer": "ipython3",
      "version": "3.8.0"
    }
  }
}
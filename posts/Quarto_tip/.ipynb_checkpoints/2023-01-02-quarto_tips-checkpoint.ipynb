{
 "cells": [
  {
   "cell_type": "raw",
   "id": "d7528529-629b-4959-9b46-fd9f345dff7e",
   "metadata": {
    "id": "cac470df-29e7-4148-9bbd-d8b9a32fa570",
    "tags": []
   },
   "source": [
    "---\n",
    "title: \"quarto blog tips\"\n",
    "author: \"SEOYEON CHOI\"\n",
    "date: \"2023-01-02\"\n",
    "---"
   ]
  },
  {
   "cell_type": "markdown",
   "id": "eb6d1c15-73a8-485a-9e55-f8be20afa64f",
   "metadata": {},
   "source": [
    "> `note`, `tip`, `warning`, `caution`, and `important`."
   ]
  },
  {
   "cell_type": "markdown",
   "id": "05a1c625-d484-4494-9451-a3bf5410b3cc",
   "metadata": {},
   "source": [
    "# callout"
   ]
  },
  {
   "cell_type": "markdown",
   "id": "4177c470-09f1-4434-b136-d25e22a16a2e",
   "metadata": {},
   "source": [
    "There are three types of callouts."
   ]
  },
  {
   "cell_type": "markdown",
   "id": "165e2f8c-9b54-4f72-8a52-8c39444d22af",
   "metadata": {
    "tags": []
   },
   "source": [
    "```python\n",
    ":::{.callout-note}\n",
    "Note that there are five types of callouts, including:\n",
    "`note`, `tip`, `warning`, `caution`, and `important`.\n",
    ":::\n",
    "\n",
    ":::{.callout-tip}\n",
    "## Tip With Caption\n",
    "\n",
    "This is an example of a callout with a caption.\n",
    ":::\n",
    "```"
   ]
  },
  {
   "cell_type": "markdown",
   "id": "dddb6059-0c7f-45e2-a1fd-474d51e5145a",
   "metadata": {},
   "source": [
    "# collapse"
   ]
  },
  {
   "cell_type": "markdown",
   "id": "26f4f3f0-6313-4662-bc8e-40766327830b",
   "metadata": {},
   "source": [
    "|type|info|\n",
    "|:--|:--|\n",
    "|default|The default appearance with colored header and an icon.|\n",
    "|simple|A lighter weight appearance that doesn’t include a colored header background.|\n",
    "|minimal|A minimal treatment that applies borders to the callout, but doesn’t include a header background color or icon.|"
   ]
  },
  {
   "cell_type": "markdown",
   "id": "5241c174-1b19-4f04-9bcf-9a3797b267b0",
   "metadata": {},
   "source": [
    "```python\n",
    "::: {.callout-note appearance=\"simple\"}\n",
    "\n",
    "## Pay Attention\n",
    "\n",
    "Using callouts is an effective way to highlight content that your reader give special consideration or attention.\n",
    "\n",
    ":::\n",
    "```"
   ]
  },
  {
   "cell_type": "markdown",
   "id": "cd9df75b-41c9-427c-88c3-985c73237961",
   "metadata": {},
   "source": [
    "# Lists"
   ]
  },
  {
   "cell_type": "markdown",
   "id": "a6c43ff0-aed5-4dab-b00b-b90f6add9d29",
   "metadata": {},
   "source": [
    "```python\n",
    "Markdown Syntax\tOutput\n",
    "* unordered list\n",
    "    + sub-item 1\n",
    "    + sub-item 2\n",
    "        - sub-sub-item 1\n",
    "```"
   ]
  },
  {
   "cell_type": "markdown",
   "id": "546cb992-c699-4962-bb87-75a4c6e55f51",
   "metadata": {},
   "source": [
    "```python\n",
    "1. ordered list\n",
    "2. item 2\n",
    "    i) sub-item 1\n",
    "         A.  sub-sub-item 1\n",
    "```"
   ]
  },
  {
   "cell_type": "markdown",
   "id": "2b0952d6-c504-4889-8ead-ac218f030a7f",
   "metadata": {},
   "source": [
    "# Video"
   ]
  },
  {
   "cell_type": "markdown",
   "id": "a0da114d-42b9-4ac5-acfe-6197ef3f9cb9",
   "metadata": {},
   "source": [
    "```pytrhon\n",
    "{{< video https://www.youtube.com/embed/wo9vZccmqwc >}}\n",
    "```"
   ]
  },
  {
   "cell_type": "markdown",
   "id": "2e7e0b07-d184-4a60-9e0d-237e6e0fe6c8",
   "metadata": {},
   "source": [
    "# Sub figures"
   ]
  },
  {
   "cell_type": "markdown",
   "id": "afb08f1e-e03a-4c9d-976e-5d2a3aef146e",
   "metadata": {},
   "source": [
    "```python\n",
    "::: {#fig-elephants layout-ncol=2}\n",
    "\n",
    "![Surus](surus.png){#fig-surus}\n",
    "\n",
    "![Hanno](hanno.png){#fig-hanno}\n",
    "\n",
    "Famous Elephants\n",
    ":::\n",
    "```"
   ]
  },
  {
   "cell_type": "markdown",
   "id": "7bf541d1-3609-46de-8cc9-0f3aa8ba0209",
   "metadata": {},
   "source": [
    "# Figure Panels"
   ]
  },
  {
   "cell_type": "markdown",
   "id": "d8b47c6b-bcda-4f0b-bce1-e80e5e9205a7",
   "metadata": {},
   "source": [
    "```python\n",
    "::: {layout-ncol=2}\n",
    "![Surus](surus.png)\n",
    "\n",
    "![Hanno](hanno.png)\n",
    ":::\n",
    "```"
   ]
  },
  {
   "cell_type": "code",
   "execution_count": null,
   "id": "d807b8d9-d80f-47e6-8629-0bacb08b5ffa",
   "metadata": {},
   "outputs": [],
   "source": []
  }
 ],
 "metadata": {
  "kernelspec": {
   "display_name": "Python 3 (ipykernel)",
   "language": "python",
   "name": "python3"
  },
  "language_info": {
   "codemirror_mode": {
    "name": "ipython",
    "version": 3
   },
   "file_extension": ".py",
   "mimetype": "text/x-python",
   "name": "python",
   "nbconvert_exporter": "python",
   "pygments_lexer": "ipython3",
   "version": "3.8.12"
  }
 },
 "nbformat": 4,
 "nbformat_minor": 5
}

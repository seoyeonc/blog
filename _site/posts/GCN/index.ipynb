{
  "cells": [
    {
      "cell_type": "markdown",
      "metadata": {},
      "source": [
        "# GCN\n",
        "\n",
        "SEOYEON CHOI  \n",
        "2022-12-05\n",
        "\n",
        "About GCN Study"
      ],
      "id": "d4949397-12ac-43d1-951d-34c193dbae3c"
    }
  ],
  "nbformat": 4,
  "nbformat_minor": 5,
  "metadata": {
    "kernelspec": {
      "display_name": "Python 3",
      "language": "python",
      "name": "python3"
    }
  }
}
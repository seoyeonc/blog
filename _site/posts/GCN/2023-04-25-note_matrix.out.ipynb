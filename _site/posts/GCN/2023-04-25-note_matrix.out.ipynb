{
  "cells": [
    {
      "cell_type": "markdown",
      "metadata": {},
      "source": [
        "# Note_weight amatrix\n",
        "\n",
        "GUEBIN CHOI  \n",
        "4/25/23\n",
        "\n",
        "> weight matrix"
      ],
      "id": "8a5fd41f-5ba3-4cbb-9e5f-0948857f3092"
    },
    {
      "cell_type": "code",
      "execution_count": 41,
      "metadata": {},
      "outputs": [],
      "source": [
        "import numpy as np"
      ],
      "id": "1443f830-3686-44db-8578-32e97b99fa30"
    },
    {
      "cell_type": "markdown",
      "metadata": {},
      "source": [
        "`-` 하이퍼파라메터"
      ],
      "id": "446a14e4-2730-4342-aa41-6de27d672c7b"
    },
    {
      "cell_type": "code",
      "execution_count": 2,
      "metadata": {},
      "outputs": [],
      "source": [
        "T = 5 # time\n",
        "N = 3 # number of nodes "
      ],
      "id": "9f9208fb-9136-4a69-beff-e5dbcd68594f"
    },
    {
      "cell_type": "markdown",
      "metadata": {},
      "source": [
        "`-` wt,ws,f"
      ],
      "id": "c546b12c-3f8b-4c22-9dfc-9ba311fece8f"
    },
    {
      "cell_type": "code",
      "execution_count": 3,
      "metadata": {},
      "outputs": [],
      "source": [
        "wt = np.array([abs(i-j) < 2 for i in range(T) for j in range(T)]).reshape(T,T)*1.0 - np.eye(T)\n",
        "wt"
      ],
      "id": "23819f60-3197-4765-b501-8d38263d8142"
    },
    {
      "cell_type": "code",
      "execution_count": 4,
      "metadata": {},
      "outputs": [],
      "source": [
        "ws = np.array([[0,1,1],[1,0,0],[1,0,0]]) + np.eye(N)\n",
        "ws"
      ],
      "id": "3fe3d050-a08a-40c8-a3b6-92a2746c559c"
    },
    {
      "cell_type": "code",
      "execution_count": 5,
      "metadata": {},
      "outputs": [],
      "source": [
        "f = np.random.randn(T,N)\n",
        "f"
      ],
      "id": "fe9a11c3-58a1-449d-8b1d-a5d596395300"
    },
    {
      "cell_type": "markdown",
      "metadata": {},
      "source": [
        "`-` f를 펼침"
      ],
      "id": "e2232d88-518e-4c42-8757-a701329e0da6"
    },
    {
      "cell_type": "code",
      "execution_count": 6,
      "metadata": {},
      "outputs": [],
      "source": [
        "f_flatten = f.reshape(-1,1)\n",
        "f_flatten"
      ],
      "id": "909ee4af-7dd8-478d-ab0a-c14206cce055"
    },
    {
      "cell_type": "markdown",
      "metadata": {},
      "source": [
        "`-` 펼쳐진 f에 대응하는 W 생성"
      ],
      "id": "383f4754-6596-42e6-9bbe-6e2dcb913ac8"
    },
    {
      "cell_type": "code",
      "execution_count": 7,
      "metadata": {},
      "outputs": [],
      "source": [
        "def flatten_weight(ws,wt):\n",
        "  N = len(ws)\n",
        "  T = len(wt)\n",
        "  Is = np.eye(N,N)\n",
        "  lst = [[0]*T for t in range(T)]\n",
        "  for i in range(T):\n",
        "    for j in range(T):\n",
        "      if i==j: \n",
        "        lst[i][j] = ws \n",
        "      elif abs(i-j)==1:\n",
        "        lst[i][j] = Is\n",
        "      else:\n",
        "        lst[i][j] = Is*0\n",
        "  return np.concatenate([np.concatenate(l,axis=1) for l in lst],axis=0)"
      ],
      "id": "7e2b2c83-b5eb-44f2-b249-0af8ee0fc387"
    },
    {
      "cell_type": "code",
      "execution_count": 8,
      "metadata": {},
      "outputs": [],
      "source": [
        "W_flatten = flatten_weight(ws,wt)\n",
        "W_flatten"
      ],
      "id": "4e9e5da7-36b6-4dc5-bb40-e2dedc1e2f30"
    },
    {
      "cell_type": "markdown",
      "metadata": {},
      "source": [
        "`-` trim\n",
        "\n",
        "``` python\n",
        "ftrimed_flatten = trim(f_flatten,W_flatten)\n",
        "```\n",
        "\n",
        "임의로 `ftrimed_flatten`이 `f_flatten`과 같다고 생각하자."
      ],
      "id": "f09a13a3-e11d-42f1-854e-035f7e8d9501"
    },
    {
      "cell_type": "code",
      "execution_count": 9,
      "metadata": {},
      "outputs": [],
      "source": [
        "ftrimed_flatten = f_flatten\n",
        "ftrimed_flatten"
      ],
      "id": "33f708f0-e179-4051-a2f5-d8a258658330"
    },
    {
      "cell_type": "markdown",
      "metadata": {},
      "source": [
        "`-` ftrimed"
      ],
      "id": "3015626b-a5c2-4f7d-bdce-a6020306b122"
    },
    {
      "cell_type": "code",
      "execution_count": 10,
      "metadata": {},
      "outputs": [],
      "source": [
        "ftrimed = ftrimed_flatten.reshape(T,N) \n",
        "ftrimed"
      ],
      "id": "2abfe155-3a4f-4ded-b48f-1f343e1b5317"
    },
    {
      "cell_type": "code",
      "execution_count": 11,
      "metadata": {},
      "outputs": [],
      "source": [
        "f # 와 비교.. 잘 reconstructiond 되어씀 "
      ],
      "id": "3b33587e-ea62-41e4-bc7e-ed7986ac5588"
    },
    {
      "cell_type": "markdown",
      "metadata": {},
      "source": [
        "------------------------------------------------------------------------\n",
        "\n",
        "## Chickenpox"
      ],
      "id": "89d0ae75-67bc-4316-9123-88c493f60fb6"
    },
    {
      "cell_type": "code",
      "execution_count": 12,
      "metadata": {},
      "outputs": [],
      "source": [
        "from torch_geometric_temporal.dataset import ChickenpoxDatasetLoader\n",
        "loader1 = ChickenpoxDatasetLoader()"
      ],
      "id": "87b48868-fa82-4a7d-88ab-4499a611254d"
    },
    {
      "cell_type": "code",
      "execution_count": 13,
      "metadata": {},
      "outputs": [],
      "source": [
        "a = loader1.get_dataset(lags=1)"
      ],
      "id": "a710a263-4807-4959-8328-da2491abe7c0"
    },
    {
      "cell_type": "markdown",
      "metadata": {},
      "source": [
        "time,number of nodes"
      ],
      "id": "7409dc0d-4692-4a10-8a4d-83b4c2d4af7e"
    },
    {
      "cell_type": "code",
      "execution_count": 14,
      "metadata": {},
      "outputs": [],
      "source": [
        "T,N,_ = np.array(a.features).shape"
      ],
      "id": "60cfb152-ec21-4d62-8acb-4e59b5ab8615"
    },
    {
      "cell_type": "markdown",
      "metadata": {},
      "source": [
        "`-` wt,ws,f"
      ],
      "id": "85af0c57-37ac-446f-8783-e22c2ba90541"
    },
    {
      "cell_type": "code",
      "execution_count": 15,
      "metadata": {},
      "outputs": [],
      "source": [
        "wt = np.zeros((T,T))\n",
        "for i in range(T):\n",
        "    for j in range(T):\n",
        "        if i==j :\n",
        "            wt[i,j] = 0\n",
        "        elif np.abs(i-j) <= 1 : \n",
        "            wt[i,j] = 1"
      ],
      "id": "9a62ca57-564c-4038-a7b5-61633907bcc4"
    },
    {
      "cell_type": "code",
      "execution_count": 16,
      "metadata": {},
      "outputs": [],
      "source": [
        "mtr = a.edge_index\n",
        "mtr2 = a.edge_weight"
      ],
      "id": "9a50995a-36c1-432a-a7bc-dea7da13dee0"
    },
    {
      "cell_type": "code",
      "execution_count": 17,
      "metadata": {},
      "outputs": [],
      "source": [
        "ws = np.zeros((N,N))\n",
        "for i in range(N):\n",
        "    for j in range(mtr2.shape[0]):\n",
        "        if mtr[0][j] == i :\n",
        "            ws[i,mtr[1][j]] = mtr2[j]"
      ],
      "id": "873340df-1ffa-4315-8435-1897aefd4298"
    },
    {
      "cell_type": "code",
      "execution_count": 18,
      "metadata": {},
      "outputs": [],
      "source": [
        "np.array(ws).shape"
      ],
      "id": "0284f3fa-abe0-4ca4-ba33-b8e93c3e20b4"
    },
    {
      "cell_type": "code",
      "execution_count": 19,
      "metadata": {},
      "outputs": [],
      "source": [
        "f = np.array(a.features).reshape(T,N)"
      ],
      "id": "b4efef27-e9fe-4006-af37-95afaae06611"
    },
    {
      "cell_type": "markdown",
      "metadata": {},
      "source": [
        "`-` f를 펼침"
      ],
      "id": "d502e874-6965-409c-b820-9cca777a8e3f"
    },
    {
      "cell_type": "code",
      "execution_count": 20,
      "metadata": {},
      "outputs": [],
      "source": [
        "f_flatten = f.reshape(-1,1)\n",
        "f_flatten"
      ],
      "id": "1342c2ff-484f-4639-ba53-dbfe19d87718"
    },
    {
      "cell_type": "markdown",
      "metadata": {},
      "source": [
        "`-` 펼쳐진 f에 대응하는 W 생성"
      ],
      "id": "45592155-9eb7-4b4d-b62b-b529ce8b6328"
    },
    {
      "cell_type": "code",
      "execution_count": 21,
      "metadata": {},
      "outputs": [],
      "source": [
        "def flatten_weight(ws,wt):\n",
        "  N = len(ws)\n",
        "  T = len(wt)\n",
        "  Is = np.eye(N,N)\n",
        "  lst = [[0]*T for t in range(T)]\n",
        "  for i in range(T):\n",
        "    for j in range(T):\n",
        "      if i==j: \n",
        "        lst[i][j] = ws \n",
        "      elif abs(i-j)==1:\n",
        "        lst[i][j] = Is\n",
        "      else:\n",
        "        lst[i][j] = Is*0\n",
        "  return np.concatenate([np.concatenate(l,axis=1) for l in lst],axis=0)"
      ],
      "id": "293e7304-97ff-4730-ac9d-ebe2f9d67f66"
    },
    {
      "cell_type": "code",
      "execution_count": 22,
      "metadata": {},
      "outputs": [],
      "source": [
        "W_flatten = flatten_weight(ws,wt)\n",
        "W_flatten"
      ],
      "id": "13a6936f-adca-44a8-a2cf-af852c08c705"
    },
    {
      "cell_type": "code",
      "execution_count": 50,
      "metadata": {},
      "outputs": [],
      "source": [
        "np.save('./weight_st/W_chickenpox.npy', W_flatten)"
      ],
      "id": "cbb23326-3a4a-4f79-bf86-cbe0f9f86d4c"
    },
    {
      "cell_type": "code",
      "execution_count": 51,
      "metadata": {},
      "outputs": [],
      "source": [
        "np.load('./weight_st/W_chickenpox.npy')"
      ],
      "id": "47fc59e1-6848-4df1-af27-da634460b616"
    },
    {
      "cell_type": "code",
      "execution_count": 23,
      "metadata": {},
      "outputs": [],
      "source": [
        "d = np.array(W_flatten.sum(axis=1))"
      ],
      "id": "9fd93f50-9dc9-48fc-8e2c-7e79cb5878c6"
    },
    {
      "cell_type": "code",
      "execution_count": 24,
      "metadata": {},
      "outputs": [],
      "source": [
        "D = np.diag(d)"
      ],
      "id": "c45f8a32-e641-4b40-8798-6712b8beead5"
    },
    {
      "cell_type": "code",
      "execution_count": 25,
      "metadata": {},
      "outputs": [],
      "source": [
        "L = np.array(np.diag(1/np.sqrt(d)) @ (D-W_flatten) @ np.diag(1/np.sqrt(d)))"
      ],
      "id": "c8541cf3-3cdc-4c87-80cc-95d69a990333"
    },
    {
      "cell_type": "code",
      "execution_count": 26,
      "metadata": {},
      "outputs": [],
      "source": [
        "lamb, Psi = np.linalg.eigh(L)"
      ],
      "id": "8224a6d2-3ddf-4e24-a440-e35a024c1e5a"
    },
    {
      "cell_type": "code",
      "execution_count": 29,
      "metadata": {},
      "outputs": [],
      "source": [
        "np.save('./weight_st/Psi_chickenpox.npy', Psi)"
      ],
      "id": "7b7e93b2-f2ac-4fca-8532-e9a854c10b89"
    },
    {
      "cell_type": "code",
      "execution_count": 30,
      "metadata": {},
      "outputs": [],
      "source": [
        "np.load('./weight_st/Psi_chickenpox.npy')"
      ],
      "id": "6294ef4d-7235-4410-8538-5a17f249cb33"
    },
    {
      "cell_type": "markdown",
      "metadata": {},
      "source": [
        "`-` trim\n",
        "\n",
        "``` python\n",
        "ftrimed_flatten = trim(f_flatten,W_flatten)\n",
        "```\n",
        "\n",
        "------------------------------------------------------------------------\n",
        "\n",
        "## Pedalme"
      ],
      "id": "b6409b24-452f-4278-81e5-f2bc100bfb20"
    },
    {
      "cell_type": "code",
      "execution_count": 55,
      "metadata": {},
      "outputs": [],
      "source": [
        "from torch_geometric_temporal.dataset import PedalMeDatasetLoader\n",
        "loader2 = PedalMeDatasetLoader()"
      ],
      "id": "df99d357-70a5-483b-875f-dbab52bef3a5"
    },
    {
      "cell_type": "code",
      "execution_count": 56,
      "metadata": {},
      "outputs": [],
      "source": [
        "a = loader2.get_dataset(lags=1)"
      ],
      "id": "17479f3f-500d-4f08-8a7c-b0357b2bf564"
    },
    {
      "cell_type": "markdown",
      "metadata": {},
      "source": [
        "time,number of nodes"
      ],
      "id": "aa325051-8f0c-4370-9ff9-452b746e2ce4"
    },
    {
      "cell_type": "code",
      "execution_count": 57,
      "metadata": {},
      "outputs": [],
      "source": [
        "T,N,_ = np.array(a.features).shape"
      ],
      "id": "f6e29957-55ad-483a-8b2c-66a3c274becd"
    },
    {
      "cell_type": "markdown",
      "metadata": {},
      "source": [
        "`-` wt,ws,f"
      ],
      "id": "4e936976-e588-4b83-a6dd-3c2ceec721c9"
    },
    {
      "cell_type": "code",
      "execution_count": 58,
      "metadata": {},
      "outputs": [],
      "source": [
        "wt = np.zeros((T,T))\n",
        "for i in range(T):\n",
        "    for j in range(T):\n",
        "        if i==j :\n",
        "            wt[i,j] = 0\n",
        "        elif np.abs(i-j) <= 1 : \n",
        "            wt[i,j] = 1"
      ],
      "id": "439d0333-352f-4bc0-8f51-986558bf2895"
    },
    {
      "cell_type": "code",
      "execution_count": 59,
      "metadata": {},
      "outputs": [],
      "source": [
        "mtr = a.edge_index\n",
        "mtr2 = a.edge_weight"
      ],
      "id": "9c70df2f-56fc-49d3-8fd1-94cddb56d29e"
    },
    {
      "cell_type": "code",
      "execution_count": 60,
      "metadata": {},
      "outputs": [],
      "source": [
        "ws = np.zeros((N,N))\n",
        "for i in range(N):\n",
        "    for j in range(mtr2.shape[0]):\n",
        "        if mtr[0][j] == i :\n",
        "            ws[i,mtr[1][j]] = mtr2[j]"
      ],
      "id": "4a9a52db-c6d6-4f09-b59a-1b734f22fa3d"
    },
    {
      "cell_type": "code",
      "execution_count": 61,
      "metadata": {},
      "outputs": [],
      "source": [
        "np.array(wt).shape"
      ],
      "id": "2bca7992-80bd-49ba-a5fc-8e2f0e1b9e44"
    },
    {
      "cell_type": "code",
      "execution_count": 62,
      "metadata": {},
      "outputs": [],
      "source": [
        "np.array(ws).shape"
      ],
      "id": "b92fc334-e2c4-404c-9f70-346c3ba33cb0"
    },
    {
      "cell_type": "code",
      "execution_count": 63,
      "metadata": {},
      "outputs": [],
      "source": [
        "34*15"
      ],
      "id": "af31bb0f-a805-41b5-a14d-044aa0abfebb"
    },
    {
      "cell_type": "code",
      "execution_count": 64,
      "metadata": {},
      "outputs": [],
      "source": [
        "f = np.array(a.features).reshape(T,N)"
      ],
      "id": "c7e42fa3-20bb-4586-9aa3-bc430d3bb5e6"
    },
    {
      "cell_type": "markdown",
      "metadata": {},
      "source": [
        "`-` f를 펼침"
      ],
      "id": "64cd395e-381d-4bc8-b0e8-741a30d3d5f8"
    },
    {
      "cell_type": "code",
      "execution_count": 65,
      "metadata": {},
      "outputs": [],
      "source": [
        "f_flatten = f.reshape(-1,1)\n",
        "# f_flatten"
      ],
      "id": "6edd7a7b-023d-46b2-85c7-2ed7a44095a5"
    },
    {
      "cell_type": "markdown",
      "metadata": {},
      "source": [
        "`-` 펼쳐진 f에 대응하는 W 생성"
      ],
      "id": "fb6c9d3b-bcfa-45f8-9f12-1cdf9d924a8f"
    },
    {
      "cell_type": "code",
      "execution_count": 66,
      "metadata": {},
      "outputs": [],
      "source": [
        "def flatten_weight(ws,wt):\n",
        "  N = len(ws)\n",
        "  T = len(wt)\n",
        "  Is = np.eye(N,N)\n",
        "  lst = [[0]*T for t in range(T)]\n",
        "  for i in range(T):\n",
        "    for j in range(T):\n",
        "      if i==j: \n",
        "        lst[i][j] = ws \n",
        "      elif abs(i-j)==1:\n",
        "        lst[i][j] = Is\n",
        "      else:\n",
        "        lst[i][j] = Is*0\n",
        "  return np.concatenate([np.concatenate(l,axis=1) for l in lst],axis=0)"
      ],
      "id": "a77b0f7b-93ec-4d85-8396-fb2178330f12"
    },
    {
      "cell_type": "code",
      "execution_count": 67,
      "metadata": {},
      "outputs": [],
      "source": [
        "W_flatten = flatten_weight(ws,wt)\n",
        "W_flatten"
      ],
      "id": "df2e5ff6-fd48-4b22-b434-c498e335083c"
    },
    {
      "cell_type": "markdown",
      "metadata": {},
      "source": [
        "`-` trim\n",
        "\n",
        "``` python\n",
        "ftrimed_flatten = trim(f_flatten,W_flatten)\n",
        "```"
      ],
      "id": "e72b1d5f-e5eb-4b68-95ca-b3e38a2ed627"
    },
    {
      "cell_type": "code",
      "execution_count": 68,
      "metadata": {},
      "outputs": [],
      "source": [
        "np.save('./weight_st/W_pedalme.npy', W_flatten)"
      ],
      "id": "137e4092-e6a1-40b7-aa97-cd341a762254"
    },
    {
      "cell_type": "code",
      "execution_count": 54,
      "metadata": {},
      "outputs": [],
      "source": [
        "np.load('./weight_st/W_pedalme.npy')"
      ],
      "id": "09603ea3-a27a-4e3f-8506-0e2c15ecfc44"
    },
    {
      "cell_type": "code",
      "execution_count": 68,
      "metadata": {},
      "outputs": [],
      "source": [
        "d = np.array(W_flatten.sum(axis=1))"
      ],
      "id": "06cacb2e-fbf0-4bdb-972d-6d6652c619e3"
    },
    {
      "cell_type": "code",
      "execution_count": 69,
      "metadata": {},
      "outputs": [],
      "source": [
        "D = np.diag(d)"
      ],
      "id": "7df7dfd0-6dab-4d95-be3c-e2dc58012ba9"
    },
    {
      "cell_type": "code",
      "execution_count": 70,
      "metadata": {},
      "outputs": [],
      "source": [
        "L = np.array(np.diag(1/np.sqrt(d)) @ (D-W_flatten) @ np.diag(1/np.sqrt(d)))"
      ],
      "id": "04c6e9b3-693c-4b32-9cbb-be26671dfd07"
    },
    {
      "cell_type": "code",
      "execution_count": 71,
      "metadata": {},
      "outputs": [],
      "source": [
        "lamb, Psi = np.linalg.eigh(L)"
      ],
      "id": "dc54f0c8-a046-4b44-ba50-d1ef1fb23235"
    },
    {
      "cell_type": "code",
      "execution_count": 73,
      "metadata": {},
      "outputs": [],
      "source": [
        "Psi.T.shape"
      ],
      "id": "1bdfaff2-4bdb-4aa7-85a1-bb81f59e3175"
    },
    {
      "cell_type": "code",
      "execution_count": 74,
      "metadata": {},
      "outputs": [],
      "source": [
        "Psi.shape"
      ],
      "id": "c53cb703-1aa1-4dbd-a60b-0d3233d9c55a"
    },
    {
      "cell_type": "code",
      "execution_count": 47,
      "metadata": {},
      "outputs": [],
      "source": [
        "np.save('./weight_st/Psi_pedalme.npy', Psi)"
      ],
      "id": "55a14eff-f53c-4443-ae8b-ba7273a66b9d"
    },
    {
      "cell_type": "code",
      "execution_count": 48,
      "metadata": {},
      "outputs": [],
      "source": [
        "np.load('./weight_st/Psi_pedalme.npy')"
      ],
      "id": "2c264405-14a3-48d2-a44b-0b48b11744ff"
    },
    {
      "cell_type": "markdown",
      "metadata": {},
      "source": [
        "------------------------------------------------------------------------\n",
        "\n",
        "## Wikimath"
      ],
      "id": "6b1f9b6b-bece-43a8-8744-786e95b0e9f4"
    },
    {
      "cell_type": "code",
      "execution_count": 4,
      "metadata": {},
      "outputs": [],
      "source": [
        "from torch_geometric_temporal.dataset import WikiMathsDatasetLoader\n",
        "loader3 = WikiMathsDatasetLoader()"
      ],
      "id": "b0668edd-c2fa-463f-91d0-ca18704aa855"
    },
    {
      "cell_type": "code",
      "execution_count": 5,
      "metadata": {},
      "outputs": [],
      "source": [
        "a = loader3.get_dataset(lags=1)"
      ],
      "id": "8fa5ec75-0bf5-4ed1-a946-8594574f2c78"
    },
    {
      "cell_type": "markdown",
      "metadata": {},
      "source": [
        "time,number of nodes"
      ],
      "id": "88d95068-7832-41d2-8a19-055192f2b679"
    },
    {
      "cell_type": "code",
      "execution_count": 6,
      "metadata": {},
      "outputs": [],
      "source": [
        "T,N,_ = np.array(a.features).shape"
      ],
      "id": "e306addf-7b8a-49a6-948f-dd5b9005f38b"
    },
    {
      "cell_type": "markdown",
      "metadata": {},
      "source": [
        "`-` wt,ws,f"
      ],
      "id": "02b5ffcd-ae2f-4e29-8de6-136f661e22cf"
    },
    {
      "cell_type": "code",
      "execution_count": 7,
      "metadata": {},
      "outputs": [],
      "source": [
        "wt = np.zeros((T,T))\n",
        "for i in range(T):\n",
        "    for j in range(T):\n",
        "        if i==j :\n",
        "            wt[i,j] = 0\n",
        "        elif np.abs(i-j) <= 1 : \n",
        "            wt[i,j] = 1"
      ],
      "id": "6ba551f2-e664-41f8-8bba-0ca31a3bb92e"
    },
    {
      "cell_type": "code",
      "execution_count": 8,
      "metadata": {},
      "outputs": [],
      "source": [
        "mtr = a.edge_index\n",
        "mtr2 = a.edge_weight"
      ],
      "id": "221c0fbb-33fc-4dc2-bbc3-dcbd08498121"
    },
    {
      "cell_type": "code",
      "execution_count": 9,
      "metadata": {},
      "outputs": [],
      "source": [
        "np.array(mtr).shape"
      ],
      "id": "6d2b7a77-8f6c-46b9-997d-42293f371370"
    },
    {
      "cell_type": "code",
      "execution_count": 10,
      "metadata": {},
      "outputs": [],
      "source": [
        "np.array(mtr2).shape"
      ],
      "id": "4c51e947-2980-4221-a751-3a94896e9008"
    },
    {
      "cell_type": "code",
      "execution_count": 12,
      "metadata": {},
      "outputs": [],
      "source": [
        "mtr"
      ],
      "id": "0a2174f5-0590-4e9f-b27d-353e5772927b"
    },
    {
      "cell_type": "code",
      "execution_count": 40,
      "metadata": {},
      "outputs": [],
      "source": [
        "pd.DataFrame(mtr2).iloc[:,0].unique()"
      ],
      "id": "9a979c93-5263-46af-a6a3-0e97f33687b5"
    },
    {
      "cell_type": "code",
      "execution_count": 9,
      "metadata": {},
      "outputs": [],
      "source": [
        "ws = np.zeros((N,N))\n",
        "for i in range(N):\n",
        "    for j in range(mtr2.shape[0]):\n",
        "        if mtr[0][j] == i :\n",
        "            ws[i,mtr[1][j]] = mtr2[j]"
      ],
      "id": "57f572e7-6a40-477b-8957-511eeed897ee"
    },
    {
      "cell_type": "code",
      "execution_count": 10,
      "metadata": {},
      "outputs": [],
      "source": [
        "np.array(ws).shape"
      ],
      "id": "b3825293-53db-4b94-90b2-d7f13341015c"
    },
    {
      "cell_type": "code",
      "execution_count": 11,
      "metadata": {},
      "outputs": [],
      "source": [
        "f = np.array(a.features).reshape(T,N)"
      ],
      "id": "871c66be-4be8-43ad-b61b-1d839bc06da5"
    },
    {
      "cell_type": "markdown",
      "metadata": {},
      "source": [
        "`-` f를 펼침"
      ],
      "id": "93acb34a-0ad3-4006-b17a-751138d32d59"
    },
    {
      "cell_type": "code",
      "execution_count": 12,
      "metadata": {},
      "outputs": [],
      "source": [
        "f_flatten = f.reshape(-1,1)\n",
        "# f_flatten"
      ],
      "id": "66d4c471-dcdf-4b1c-946a-d8fc4dab50ec"
    },
    {
      "cell_type": "markdown",
      "metadata": {},
      "source": [
        "`-` 펼쳐진 f에 대응하는 W 생성"
      ],
      "id": "39e950b2-232a-4c4e-bf13-1986059839bb"
    },
    {
      "cell_type": "code",
      "execution_count": 13,
      "metadata": {},
      "outputs": [],
      "source": [
        "N = len(ws)\n",
        "T = len(wt)\n",
        "Is = np.eye(N,N)\n",
        "lst = [[0]*T for t in range(T)]"
      ],
      "id": "cc65cd90-413a-406c-af9b-9d8df2e35096"
    },
    {
      "cell_type": "code",
      "execution_count": 13,
      "metadata": {},
      "outputs": [],
      "source": [
        "def flatten_weight(ws,wt):\n",
        "  N = len(ws)\n",
        "  T = len(wt)\n",
        "  Is = np.eye(N,N)\n",
        "  lst = [[0]*T for t in range(T)]\n",
        "  for i in range(T):\n",
        "    for j in range(T):\n",
        "      if i==j: \n",
        "        lst[i][j] = ws \n",
        "      elif abs(i-j)==1:\n",
        "        lst[i][j] = Is\n",
        "      else:\n",
        "        lst[i][j] = Is*0\n",
        "  return np.concatenate([np.concatenate(l,axis=1) for l in lst],axis=0)"
      ],
      "id": "d6a46060-0f89-4c67-b77d-50a672bb35a5"
    },
    {
      "cell_type": "code",
      "execution_count": null,
      "metadata": {},
      "outputs": [],
      "source": [
        "W_flatten = flatten_weight(ws,wt)\n",
        "W_flatten"
      ],
      "id": "9b72d9ab-6a4e-43dd-98d6-253e1afb8ace"
    },
    {
      "cell_type": "markdown",
      "metadata": {},
      "source": [
        "`-` trim\n",
        "\n",
        "``` python\n",
        "ftrimed_flatten = trim(f_flatten,W_flatten)\n",
        "```"
      ],
      "id": "4eb96eba-db54-43d3-9c92-6f643c866149"
    },
    {
      "cell_type": "code",
      "execution_count": null,
      "metadata": {},
      "outputs": [],
      "source": [
        "np.save('./weight_st/W_wikimath.npy', W_flatten)"
      ],
      "id": "3c0f7b2c-e157-4a6f-9f9a-1d31de604d20"
    },
    {
      "cell_type": "code",
      "execution_count": null,
      "metadata": {},
      "outputs": [],
      "source": [
        "np.load('./weight_st/W_wikimath.npy')"
      ],
      "id": "2252ab34-0e3e-4432-b80a-0622c768fd94"
    },
    {
      "cell_type": "markdown",
      "metadata": {},
      "source": [
        "------------------------------------------------------------------------\n",
        "\n",
        "## Windmillsmall"
      ],
      "id": "f96af515-f07a-4928-b7bb-7a188792d500"
    },
    {
      "cell_type": "code",
      "execution_count": 12,
      "metadata": {},
      "outputs": [],
      "source": [
        "from torch_geometric_temporal.dataset import WindmillOutputSmallDatasetLoader\n",
        "loader6 = WindmillOutputSmallDatasetLoader()"
      ],
      "id": "912d0d7a-5a9d-4cfc-ab1e-ae0c5e82e956"
    },
    {
      "cell_type": "code",
      "execution_count": 13,
      "metadata": {},
      "outputs": [],
      "source": [
        "a = loader6.get_dataset(lags=1)"
      ],
      "id": "05228e8c-ba88-44ae-8b43-a072a5819d2f"
    },
    {
      "cell_type": "markdown",
      "metadata": {},
      "source": [
        "time,number of nodes"
      ],
      "id": "09982b11-d820-47ab-802e-555d69bd1243"
    },
    {
      "cell_type": "code",
      "execution_count": 14,
      "metadata": {},
      "outputs": [],
      "source": [
        "T,N,_ = np.array(a.features).shape"
      ],
      "id": "afc19fb3-32e7-4ef9-8c87-dbc41fd31dea"
    },
    {
      "cell_type": "markdown",
      "metadata": {},
      "source": [
        "`-` wt,ws,f"
      ],
      "id": "8e0da6a1-1a0b-4bdd-9692-3486ddc0547f"
    },
    {
      "cell_type": "code",
      "execution_count": 15,
      "metadata": {},
      "outputs": [],
      "source": [
        "wt = np.zeros((T,T))\n",
        "for i in range(T):\n",
        "    for j in range(T):\n",
        "        if i==j :\n",
        "            wt[i,j] = 0\n",
        "        elif np.abs(i-j) <= 1 : \n",
        "            wt[i,j] = 1"
      ],
      "id": "811026f0-d1f9-4d71-a479-48ee4e30efdc"
    },
    {
      "cell_type": "code",
      "execution_count": 16,
      "metadata": {},
      "outputs": [],
      "source": [
        "mtr = a.edge_index\n",
        "mtr2 = a.edge_weight"
      ],
      "id": "c0997541-f0d7-4530-a43e-80bb88a80bc1"
    },
    {
      "cell_type": "code",
      "execution_count": 17,
      "metadata": {},
      "outputs": [],
      "source": [
        "ws = np.zeros((N,N))\n",
        "for i in range(N):\n",
        "    for j in range(mtr2.shape[0]):\n",
        "        if mtr[0][j] == i :\n",
        "            ws[i,mtr[1][j]] = mtr2[j]"
      ],
      "id": "46884aa4-b3d7-4dfd-8bae-f851e24fcde9"
    },
    {
      "cell_type": "code",
      "execution_count": 18,
      "metadata": {},
      "outputs": [],
      "source": [
        "np.array(ws).shape"
      ],
      "id": "0daaddff-7ef6-4570-8878-0d20d5aaddd6"
    },
    {
      "cell_type": "code",
      "execution_count": 19,
      "metadata": {},
      "outputs": [],
      "source": [
        "f = np.array(a.features).reshape(T,N)"
      ],
      "id": "c8ff9c32-6e33-4785-aee2-c6d3b4ad9fb2"
    },
    {
      "cell_type": "markdown",
      "metadata": {},
      "source": [
        "`-` f를 펼침"
      ],
      "id": "8966424b-654e-40f0-98b6-9d732edddc2c"
    },
    {
      "cell_type": "code",
      "execution_count": 20,
      "metadata": {},
      "outputs": [],
      "source": [
        "f_flatten = f.reshape(-1,1)\n",
        "# f_flatten"
      ],
      "id": "19a2455c-db54-4708-b823-6d0c0ba0dfb1"
    },
    {
      "cell_type": "markdown",
      "metadata": {},
      "source": [
        "`-` 펼쳐진 f에 대응하는 W 생성"
      ],
      "id": "1d9f186c-c304-437a-a207-38a15ee042f4"
    },
    {
      "cell_type": "code",
      "execution_count": 21,
      "metadata": {},
      "outputs": [],
      "source": [
        "def flatten_weight(ws,wt):\n",
        "  N = len(ws)\n",
        "  T = len(wt)\n",
        "  Is = np.eye(N,N)\n",
        "  lst = [[0]*T for t in range(T)]\n",
        "  for i in range(T):\n",
        "    for j in range(T):\n",
        "      if i==j: \n",
        "        lst[i][j] = ws \n",
        "      elif abs(i-j)==1:\n",
        "        lst[i][j] = Is\n",
        "      else:\n",
        "        lst[i][j] = Is*0\n",
        "  return np.concatenate([np.concatenate(l,axis=1) for l in lst],axis=0)"
      ],
      "id": "2f05b157-47ae-440b-92ef-eff7b198fd88"
    },
    {
      "cell_type": "code",
      "execution_count": null,
      "metadata": {},
      "outputs": [],
      "source": [
        "W_flatten = flatten_weight(ws,wt)\n",
        "W_flatten"
      ],
      "id": "7dead52c-3a0f-463e-9515-efc26f3bc1e2"
    },
    {
      "cell_type": "markdown",
      "metadata": {},
      "source": [
        "`-` trim\n",
        "\n",
        "``` python\n",
        "ftrimed_flatten = trim(f_flatten,W_flatten)\n",
        "```"
      ],
      "id": "8612d712-95bd-40f1-bf88-14ac4adfb087"
    },
    {
      "cell_type": "code",
      "execution_count": null,
      "metadata": {},
      "outputs": [],
      "source": [
        "np.save('./weight_st/W_windmillsmall.npy', W_flatten)"
      ],
      "id": "f3f5ecd7-872e-4ffb-86de-1f1a4279a26a"
    },
    {
      "cell_type": "code",
      "execution_count": null,
      "metadata": {},
      "outputs": [],
      "source": [
        "np.load('./weight_st/W_windmillsmall.npy')"
      ],
      "id": "f855953b-6c2f-4202-94c6-2b4aaafa4af1"
    }
  ],
  "nbformat": 4,
  "nbformat_minor": 5,
  "metadata": {
    "kernelspec": {
      "name": "python3",
      "display_name": "Python 3",
      "language": "python"
    },
    "language_info": {
      "name": "python",
      "codemirror_mode": {
        "name": "ipython",
        "version": "3"
      },
      "file_extension": ".py",
      "mimetype": "text/x-python",
      "nbconvert_exporter": "python",
      "pygments_lexer": "ipython3",
      "version": "3.8.0"
    }
  }
}
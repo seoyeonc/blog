{
 "cells": [
  {
   "cell_type": "raw",
   "id": "bbd82ad0-875a-43e2-aa50-1b20bdb7b7ba",
   "metadata": {
    "id": "cac470df-29e7-4148-9bbd-d8b9a32fa570",
    "tags": []
   },
   "source": [
    "---\n",
    "title: \"EbayesThresh Toy ex\"\n",
    "author: \"SEOYEON CHOI\"\n",
    "date: \"2023-05-18\"\n",
    "categories:\n",
    "  - ITSTGCN\n",
    "---"
   ]
  },
  {
   "cell_type": "markdown",
   "id": "29813b30-7aff-4004-88e6-d63ed1f3e83f",
   "metadata": {
    "tags": []
   },
   "source": [
    "> EbayesThresh"
   ]
  },
  {
   "cell_type": "code",
   "execution_count": null,
   "id": "e5c5fa94-8240-436a-be0d-8c1aba95dd1c",
   "metadata": {},
   "outputs": [],
   "source": []
  }
 ],
 "metadata": {
  "kernelspec": {
   "display_name": "Python 3",
   "language": "python",
   "name": "python3"
  },
  "language_info": {
   "codemirror_mode": {
    "name": "ipython",
    "version": 3
   },
   "file_extension": ".py",
   "mimetype": "text/x-python",
   "name": "python",
   "nbconvert_exporter": "python",
   "pygments_lexer": "ipython3",
   "version": "3.8.0"
  }
 },
 "nbformat": 4,
 "nbformat_minor": 5
}

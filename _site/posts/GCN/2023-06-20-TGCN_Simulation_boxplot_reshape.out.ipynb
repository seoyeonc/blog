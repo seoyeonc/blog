{
  "cells": [
    {
      "cell_type": "markdown",
      "metadata": {},
      "source": [
        "# TGCN_Simulation_reshape\n",
        "\n",
        "SEOYEON CHOI  \n",
        "6/20/23\n",
        "\n",
        "> Simulation Study\n",
        "\n",
        "# Import"
      ],
      "id": "215e7067-9267-4ad4-8549-ba0347fcfc69"
    },
    {
      "cell_type": "code",
      "execution_count": 2,
      "metadata": {},
      "outputs": [],
      "source": [
        "import matplotlib.pyplot as plt\n",
        "import pandas as pd\n",
        "import numpy as np"
      ],
      "id": "1684f1e1-8a25-4c28-ab70-0109134565ae"
    },
    {
      "cell_type": "markdown",
      "metadata": {},
      "source": [
        "# Fivenodes"
      ],
      "id": "ece29a90-40cd-4fee-8efc-224594d92b3d"
    },
    {
      "cell_type": "code",
      "execution_count": 25,
      "metadata": {},
      "outputs": [],
      "source": [
        "df1 = pd.read_csv('./simulation_results/2023-06-21_22-15-12.csv')\n",
        "df2 = pd.read_csv('./simulation_results/2023-06-21_22-40-10.csv')\n",
        "df3 = pd.read_csv('./simulation_results/2023-06-21_23-05-22.csv')\n",
        "df4 = pd.read_csv('./simulation_results/2023-06-21_23-30-38.csv')\n",
        "df5 = pd.read_csv('./simulation_results/2023-06-21_23-56-42.csv')\n",
        "df6 = pd.read_csv('./simulation_results/2023-06-22_00-22-04.csv')\n",
        "df7 = pd.read_csv('./simulation_results/2023-06-22_00-47-43.csv')\n",
        "df8 = pd.read_csv('./simulation_results/2023-06-22_01-12-10.csv')"
      ],
      "id": "f1fa7b9e-6b38-4575-a17f-f41ec898cc42"
    },
    {
      "cell_type": "code",
      "execution_count": 26,
      "metadata": {},
      "outputs": [],
      "source": [
        "df9 = pd.read_csv('./simulation_results/2023-07-18_18-27-03.csv')\n",
        "df10 = pd.read_csv('./simulation_results/2023-07-18_18-53-09.csv')\n",
        "df11 = pd.read_csv('./simulation_results/2023-07-18_19-20-02.csv')\n",
        "df12 = pd.read_csv('./simulation_results/2023-07-18_19-47-32.csv')\n",
        "df13 = pd.read_csv('./simulation_results/2023-07-18_20-14-25.csv')\n",
        "df14 = pd.read_csv('./simulation_results/2023-07-18_20-41-14.csv')"
      ],
      "id": "d120ab80-9e67-45d1-aa8b-d69747ebdf6b"
    },
    {
      "cell_type": "code",
      "execution_count": 27,
      "metadata": {},
      "outputs": [],
      "source": [
        "data = pd.concat([df1,df2,df3,df4,df5,df6,df7,df8,df9,df10,df11,df12,df13,df14],axis=0)"
      ],
      "id": "591a49aa-c890-4f4f-9624-51053c002bf1"
    },
    {
      "cell_type": "code",
      "execution_count": 28,
      "metadata": {},
      "outputs": [],
      "source": [
        "data.to_csv('./simulation_results/Real_simulation_reshape/TGCN_fivedones_Simulation.csv',index=False)"
      ],
      "id": "639e9691-df97-46a4-b83c-e1c8f9832a87"
    },
    {
      "cell_type": "code",
      "execution_count": 29,
      "metadata": {},
      "outputs": [],
      "source": [
        "data = pd.read_csv('./simulation_results/Real_simulation_reshape/TGCN_fivedones_Simulation.csv')"
      ],
      "id": "f3be5c23-48b6-445b-a1cc-d4d1b7c5c68d"
    },
    {
      "cell_type": "markdown",
      "metadata": {},
      "source": [
        "## Baseline"
      ],
      "id": "fe147cea-58ba-40ad-9977-1a733a831ec1"
    },
    {
      "cell_type": "code",
      "execution_count": 30,
      "metadata": {
        "tags": []
      },
      "outputs": [],
      "source": [
        "data.query(\"method!='GNAR' and mrate==0\").plot.box(backend='plotly',x='mrate',color='method',y='mse',facet_col='lags',facet_row='nof_filters',height=600)\n"
      ],
      "id": "4103c43a-ded9-479b-8ce9-e4e2a756750b"
    },
    {
      "cell_type": "markdown",
      "metadata": {},
      "source": [
        "## Random"
      ],
      "id": "a2025a0b-1aa2-4f5a-9c72-aea1593118c5"
    },
    {
      "cell_type": "code",
      "execution_count": 31,
      "metadata": {},
      "outputs": [],
      "source": [
        "data.query(\"method!='GNAR' and mtype =='rand'\").plot.box(backend='plotly',x='mrate',color='method',y='mse',facet_col='inter_method',facet_row='nof_filters',height=600)\n",
        "\n"
      ],
      "id": "52e3c0c9-211a-4f41-83fd-2ae3070c7287"
    },
    {
      "cell_type": "markdown",
      "metadata": {},
      "source": [
        "## Block"
      ],
      "id": "69ca1259-2641-498b-aeda-c369229b50ce"
    },
    {
      "cell_type": "code",
      "execution_count": 32,
      "metadata": {},
      "outputs": [],
      "source": [
        "data.query(\"method!='GNAR' and mtype =='block' \").plot.box(backend='plotly',x='mrate',color='method',y='mse',facet_col='inter_method',facet_row='nof_filters',height=600)\n"
      ],
      "id": "15098a74-efbc-465a-a112-585ede3d0248"
    },
    {
      "cell_type": "markdown",
      "metadata": {},
      "source": [
        "# chickenpox"
      ],
      "id": "198e663e-2c80-48d4-a78b-6f141bc57402"
    },
    {
      "cell_type": "code",
      "execution_count": 33,
      "metadata": {},
      "outputs": [],
      "source": [
        "df1 = pd.read_csv('./simulation_results/2023-06-22_02-27-00.csv') # GNAR random\n",
        "df2 = pd.read_csv('./simulation_results/2023-06-22_03-45-52.csv') # GNAR block\n",
        "df3 = pd.read_csv('./simulation_results/2023-06-22_04-18-03.csv') # STGCN, ITSTGCN random 30%\n",
        "df4 = pd.read_csv('./simulation_results/2023-06-22_04-50-08.csv') \n",
        "df5 = pd.read_csv('./simulation_results/2023-06-22_05-54-21.csv') \n",
        "df6 = pd.read_csv('./simulation_results/2023-06-22_07-05-46.csv') "
      ],
      "id": "a223b77e-3323-48c7-8191-286fb0f7d742"
    },
    {
      "cell_type": "code",
      "execution_count": 34,
      "metadata": {},
      "outputs": [],
      "source": [
        "df7 = pd.read_csv('./simulation_results/2023-07-18_21-22-24.csv') # GNAR random\n",
        "df8 = pd.read_csv('./simulation_results/2023-07-18_22-04-58.csv') # GNAR block\n",
        "df9 = pd.read_csv('./simulation_results/2023-07-18_22-44-53.csv') # STGCN, ITSTGCN random 30%\n",
        "df10 = pd.read_csv('./simulation_results/2023-07-18_23-28-12.csv') "
      ],
      "id": "934ce756-ccb1-469e-a2f4-a346edb151d2"
    },
    {
      "cell_type": "code",
      "execution_count": 35,
      "metadata": {},
      "outputs": [],
      "source": [
        "data = pd.concat([df1,df2,df3,df4,df5,df6,df7,df8,df9,df10],axis=0)"
      ],
      "id": "913ed7ed-18b0-4b6f-873b-6b56aca517c9"
    },
    {
      "cell_type": "code",
      "execution_count": 36,
      "metadata": {},
      "outputs": [],
      "source": [
        "data.to_csv('./simulation_results/Real_simulation_reshape/TGCN_chikenpox_Simulation.csv',index=False)"
      ],
      "id": "6074f6f9-51fe-4934-9455-7ba2c08b5c9f"
    },
    {
      "cell_type": "code",
      "execution_count": 37,
      "metadata": {},
      "outputs": [],
      "source": [
        "data = pd.read_csv('./simulation_results/Real_simulation_reshape/TGCN_chikenpox_Simulation.csv')"
      ],
      "id": "2352fbcb-0bf7-4be9-ab73-f4c47ee1bfae"
    },
    {
      "cell_type": "markdown",
      "metadata": {},
      "source": [
        "## Baseline"
      ],
      "id": "235b57a3-aedb-4af3-ab76-0136e070936a"
    },
    {
      "cell_type": "code",
      "execution_count": 38,
      "metadata": {},
      "outputs": [],
      "source": [
        "data.query(\"method!='GNAR' and mrate ==0 \").plot.box(backend='plotly',x='mrate',color='method',y='mse',facet_col='nof_filters',height=600)\n"
      ],
      "id": "1e090140-e62e-495f-bc02-50aeb6e1e6bd"
    },
    {
      "cell_type": "markdown",
      "metadata": {},
      "source": [
        "## Random"
      ],
      "id": "5f215349-aea6-4f23-b9c7-1ecd466fbb00"
    },
    {
      "cell_type": "code",
      "execution_count": 39,
      "metadata": {},
      "outputs": [],
      "source": [
        "data.query(\"method!='GNAR' and mtype =='rand'\").plot.box(backend='plotly',x='mrate',color='method',y='mse',facet_col='nof_filters',facet_row='inter_method',height=800)\n"
      ],
      "id": "20177ce3-4dd0-4574-af44-728654a3984e"
    },
    {
      "cell_type": "markdown",
      "metadata": {},
      "source": [
        "## Block"
      ],
      "id": "485de281-b3fd-43ff-a332-70cd4894bf02"
    },
    {
      "cell_type": "code",
      "execution_count": 40,
      "metadata": {},
      "outputs": [],
      "source": [
        "data.query(\"method!='GNAR' and mtype =='block'\").plot.box(backend='plotly',x='mrate',color='method',y='mse',facet_col='inter_method',facet_row='lags',height=800)\n"
      ],
      "id": "ccb0a0fb-6328-4447-b0fd-9e36ee8612fd"
    },
    {
      "cell_type": "markdown",
      "metadata": {},
      "source": [
        "# Pedalme"
      ],
      "id": "2759bbf5-2368-4dc9-8d40-cd5ccf947a54"
    },
    {
      "cell_type": "code",
      "execution_count": 41,
      "metadata": {},
      "outputs": [],
      "source": [
        "df1 = pd.read_csv('./simulation_results/2023-06-22_07-32-36.csv') \n",
        "df2 = pd.read_csv('./simulation_results/2023-06-22_10-37-27.csv')  "
      ],
      "id": "e8d57b61-d9f8-447c-a533-8e96a11beac8"
    },
    {
      "cell_type": "code",
      "execution_count": 42,
      "metadata": {},
      "outputs": [],
      "source": [
        "df3 = pd.read_csv('./simulation_results/2023-07-18_23-46-13.csv') "
      ],
      "id": "a2150606-1fcf-488e-a8d8-4dc5be1b5415"
    },
    {
      "cell_type": "code",
      "execution_count": 43,
      "metadata": {},
      "outputs": [],
      "source": [
        "data = pd.concat([df1,df2,df3],axis=0)"
      ],
      "id": "bb221e50-9b03-49ef-9217-32374fc8fcd1"
    },
    {
      "cell_type": "code",
      "execution_count": 44,
      "metadata": {},
      "outputs": [],
      "source": [
        "data.to_csv('./simulation_results/Real_simulation_reshape/TGCN_pedalme_Simulation.csv',index=False)"
      ],
      "id": "598cd8a6-d49d-4bea-bc38-86431d691b2c"
    },
    {
      "cell_type": "code",
      "execution_count": 45,
      "metadata": {},
      "outputs": [],
      "source": [
        "data = pd.read_csv('./simulation_results/Real_simulation_reshape/TGCN_pedalme_Simulation.csv')"
      ],
      "id": "6f6f3c76-85d3-4fc2-b74d-6badf1e89054"
    },
    {
      "cell_type": "markdown",
      "metadata": {},
      "source": [
        "## Baseline"
      ],
      "id": "83aca6c8-6d5d-49b4-b4b7-3bed95dff3d5"
    },
    {
      "cell_type": "code",
      "execution_count": 46,
      "metadata": {},
      "outputs": [],
      "source": [
        "data.query(\"mrate ==0 and lags!=2\").plot.box(backend='plotly',x='epoch',color='method',y='mse',facet_col='nof_filters',facet_row='lags',height=400)\n"
      ],
      "id": "69f99f6b-8a94-49c3-b446-743e265f5694"
    },
    {
      "cell_type": "markdown",
      "metadata": {},
      "source": [
        "## random"
      ],
      "id": "b9d29f9a-9b84-4e8d-984d-fe3134f1949b"
    },
    {
      "cell_type": "code",
      "execution_count": 47,
      "metadata": {},
      "outputs": [],
      "source": [
        "data.query(\"method!='GNAR' and mtype =='rand' and lags!=2\").plot.box(backend='plotly',x='mrate',color='method',y='mse',facet_col='nof_filters',facet_row='inter_method',height=800)\n"
      ],
      "id": "9b92254b-e7c1-428a-87cb-2a34c97cf2c2"
    },
    {
      "cell_type": "markdown",
      "metadata": {},
      "source": [
        "## block"
      ],
      "id": "334ae2e5-c56c-452f-8785-c683fe2e47e2"
    },
    {
      "cell_type": "code",
      "execution_count": 48,
      "metadata": {},
      "outputs": [],
      "source": [
        "data.query(\"method!='GNAR' and mtype =='block' and lags!=2 \").plot.box(backend='plotly',x='mrate',color='method',y='mse',facet_col='nof_filters',facet_row='inter_method',height=800)\n"
      ],
      "id": "fc34133d-af19-40ab-b7d7-e8a5b26ad22d"
    },
    {
      "cell_type": "markdown",
      "metadata": {},
      "source": [
        "## weight matrix time, node 고려한 결과"
      ],
      "id": "39b3d4a3-7014-4129-939b-e098ad6bae5d"
    },
    {
      "cell_type": "code",
      "execution_count": 13,
      "metadata": {},
      "outputs": [],
      "source": [
        "df1 = pd.read_csv('./simulation_results/2023-06-21_22-29-02.csv')\n",
        "df2 = pd.read_csv('./simulation_results/2023-06-21_22-51-34.csv')"
      ],
      "id": "b59044e3-76ea-4a15-b40d-40814babf699"
    },
    {
      "cell_type": "code",
      "execution_count": 14,
      "metadata": {},
      "outputs": [],
      "source": [
        "data2 = pd.concat([df1,df2],axis=0)"
      ],
      "id": "86a68f3a-d172-4f63-a660-00555ca27a67"
    },
    {
      "cell_type": "code",
      "execution_count": 15,
      "metadata": {},
      "outputs": [],
      "source": [
        "data2.to_csv('./simulation_results/Real_simulation_reshape/TGCN_pedalme_Simulation_itstgcnsnd.csv',index=False)"
      ],
      "id": "20ef60e5-3ff1-4605-9927-842450c32c53"
    },
    {
      "cell_type": "code",
      "execution_count": 16,
      "metadata": {},
      "outputs": [],
      "source": [
        "data2 = pd.read_csv('./simulation_results/Real_simulation_reshape/TGCN_pedalme_Simulation_itstgcnsnd.csv')"
      ],
      "id": "0e3174f6-1fd9-4bdd-a224-fc0f21f22902"
    },
    {
      "cell_type": "code",
      "execution_count": 17,
      "metadata": {},
      "outputs": [],
      "source": [
        "data2.query(\"mtype=='rand'\").plot.box(backend='plotly',x='mrate',color='method',y='mse',facet_col='inter_method',facet_row='nof_filters',height=1000)"
      ],
      "id": "0cd2845d-14e4-4ac8-b7a8-4fe0900c39e7"
    },
    {
      "cell_type": "code",
      "execution_count": 18,
      "metadata": {},
      "outputs": [],
      "source": [
        "data2.query(\"mtype=='block'\").plot.box(backend='plotly',x='mrate',color='method',y='mse',facet_col='inter_method',facet_row='nof_filters',height=1000)"
      ],
      "id": "b64bea4a-d163-48eb-90bf-c447d11c445b"
    },
    {
      "cell_type": "markdown",
      "metadata": {},
      "source": [
        "# Wikimath"
      ],
      "id": "232cf709-53c5-44cb-9272-97c9efaaaebb"
    },
    {
      "cell_type": "code",
      "execution_count": 85,
      "metadata": {},
      "outputs": [],
      "source": [
        "df1 = pd.read_csv('./simulation_results/2023-06-22_15-11-43.csv')\n",
        "df2 = pd.read_csv('./simulation_results/2023-06-24_03-36-59.csv')\n",
        "df3 = pd.read_csv('./simulation_results/2023-06-24_10-08-34.csv')\n",
        "df4 = pd.read_csv('./simulation_results/2023-06-24_19-33-58.csv')\n",
        "df5 = pd.read_csv('./simulation_results/2023-06-25_04-53-42.csv')\n",
        "df6 = pd.read_csv('./simulation_results/2023-06-25_11-10-17.csv')\n",
        "df7 = pd.read_csv('./simulation_results/2023-06-25_17-18-10.csv')\n",
        "df8 = pd.read_csv('./simulation_results/2023-06-25_23-36-43.csv')\n",
        "df9 = pd.read_csv('./simulation_results/2023-06-26_06-47-01.csv') # block\n",
        "df10 = pd.read_csv('./simulation_results/2023-06-26_13-53-42.csv') # block\n",
        "df11 = pd.read_csv('./simulation_results/2023-06-26_20-18-18.csv') # block"
      ],
      "id": "1506822c-dede-4e3d-80ef-93408036639c"
    },
    {
      "cell_type": "code",
      "execution_count": 86,
      "metadata": {},
      "outputs": [],
      "source": [
        "df12 = pd.read_csv('./simulation_results/2023-08-02_04-31-56.csv')\n",
        "df13 = pd.read_csv('./simulation_results/2023-08-02_09-27-54.csv')\n",
        "df14 = pd.read_csv('./simulation_results/2023-08-02_13-51-08.csv')\n",
        "df15 = pd.read_csv('./simulation_results/2023-08-02_18-39-58.csv')\n",
        "df16 = pd.read_csv('./simulation_results/2023-08-02_23-07-03.csv')\n",
        "df17 = pd.read_csv('./simulation_results/2023-08-03_03-56-12.csv')\n",
        "df18 = pd.read_csv('./simulation_results/2023-08-03_08-46-30.csv')\n",
        "df19 = pd.read_csv('./simulation_results/2023-08-03_13-12-15.csv')\n",
        "df20 = pd.read_csv('./simulation_results/2023-08-03_17-55-50.csv') # block\n",
        "df21 = pd.read_csv('./simulation_results/2023-08-03_22-21-01.csv') # block\n",
        "df22 = pd.read_csv('./simulation_results/2023-08-04_03-06-37.csv') # block\n",
        "df23 = pd.read_csv('./simulation_results/2023-08-04_07-53-37.csv') # block"
      ],
      "id": "5a75bd6a-6202-4bb1-a49a-91865987a93d"
    },
    {
      "cell_type": "code",
      "execution_count": 87,
      "metadata": {},
      "outputs": [],
      "source": [
        "data = pd.concat([df1,df2,df3,df4,df5,df6,df7,df8,df9,df10,df11,df12,df13,df14,df15,df16,df17,df18,df19,df20,df21,df22,df23],axis=0)"
      ],
      "id": "5efa2b1b-031a-4baa-aefe-ab6b4e8deae7"
    },
    {
      "cell_type": "code",
      "execution_count": 88,
      "metadata": {},
      "outputs": [],
      "source": [
        "data.to_csv('./simulation_results/Real_simulation_reshape/TGCN_wikimath.csv',index=False)"
      ],
      "id": "e55ab7d0-96d6-4b3f-97ac-f0f7e8bf159c"
    },
    {
      "cell_type": "code",
      "execution_count": 89,
      "metadata": {},
      "outputs": [],
      "source": [
        "data = pd.read_csv('./simulation_results/Real_simulation_reshape/TGCN_wikimath.csv')"
      ],
      "id": "4036ce84-9707-45ef-a010-9346be47f97b"
    },
    {
      "cell_type": "markdown",
      "metadata": {},
      "source": [
        "## Baseline"
      ],
      "id": "820c4f8b-f495-48ab-8717-e17f12d19c29"
    },
    {
      "cell_type": "code",
      "execution_count": 90,
      "metadata": {},
      "outputs": [],
      "source": [
        "data.query(\"mrate==0 and method!='GNAR'\").plot.box(backend='plotly',x='mrate',color='method',y='mse',height=600)"
      ],
      "id": "bf0da3e3-48d0-4c6b-adde-888f56b9563b"
    },
    {
      "cell_type": "markdown",
      "metadata": {},
      "source": [
        "## random"
      ],
      "id": "1ca6c245-7f4e-498e-b804-ec9b18cb57a4"
    },
    {
      "cell_type": "code",
      "execution_count": 91,
      "metadata": {},
      "outputs": [],
      "source": [
        "data.query(\"mtype=='rand' and mrate !=0 and method!='GNAR'\").plot.box(backend='plotly',x='mrate',color='method',y='mse',facet_col='lags',facet_row='nof_filters',height=800)\n"
      ],
      "id": "f0b3e952-03cb-4fee-bdb8-819805b2349a"
    },
    {
      "cell_type": "markdown",
      "metadata": {},
      "source": [
        "## block"
      ],
      "id": "fa7260bd-385c-4692-96fe-5fb44492e54a"
    },
    {
      "cell_type": "code",
      "execution_count": 92,
      "metadata": {},
      "outputs": [],
      "source": [
        "data.query(\"mtype=='block' and method!='GNAR'\").plot.box(backend='plotly',x='mrate',color='method',y='mse',facet_col='lags',facet_row='nof_filters',height=1200)\n"
      ],
      "id": "8346fb32-31ee-478e-8b86-9b6c88f7bc53"
    },
    {
      "cell_type": "markdown",
      "metadata": {},
      "source": [
        "## missing values on the same nodes"
      ],
      "id": "fdbee217-1e7b-463e-8d7c-39421fdb5771"
    },
    {
      "cell_type": "code",
      "execution_count": 93,
      "metadata": {
        "tags": []
      },
      "outputs": [],
      "source": [
        "df1 = pd.read_csv('./simulation_results/2023-06-27_03-08-38.csv') # STGCN IT-STGCN block\n",
        "df2 = pd.read_csv('./simulation_results/2023-06-27_15-49-21.csv') # STGCN IT-STGCN\n",
        "df3 = pd.read_csv('./simulation_results/2023-06-27_09-33-29.csv') "
      ],
      "id": "698397e6-15ce-4e52-a774-083d46e68b3c"
    },
    {
      "cell_type": "code",
      "execution_count": 94,
      "metadata": {},
      "outputs": [],
      "source": [
        "data = pd.concat([df1],axis=0)"
      ],
      "id": "0e81cd62-0a61-438d-aec0-7e92616a6827"
    },
    {
      "cell_type": "code",
      "execution_count": 178,
      "metadata": {},
      "outputs": [],
      "source": [
        "data.to_csv('./simulation_results/Real_simulation_reshape/TGCN_wikimath_GSO_st.csv',index=False)"
      ],
      "id": "9ab7323f-8642-4acf-a903-91db81cbb3b8"
    },
    {
      "cell_type": "code",
      "execution_count": 179,
      "metadata": {},
      "outputs": [],
      "source": [
        "data = pd.read_csv('./simulation_results/Real_simulation_reshape/TGCN_wikimath_GSO_st.csv')"
      ],
      "id": "6804a756-efb9-47a8-914a-8b575d22b8e1"
    },
    {
      "cell_type": "code",
      "execution_count": 180,
      "metadata": {},
      "outputs": [],
      "source": [
        "data.query(\"method!='GNAR' and mtype =='block' \").plot.box(backend='plotly',x='mrate',color='method',y='mse',facet_col='inter_method',facet_row='lags',height=800)\n"
      ],
      "id": "3e7eac56-d2b7-49b1-8036-74e018a8c78c"
    },
    {
      "cell_type": "markdown",
      "metadata": {},
      "source": [
        "# Windmilsmall"
      ],
      "id": "4ebf6f10-ef49-4144-8855-a71b86b9e4a7"
    },
    {
      "cell_type": "code",
      "execution_count": 181,
      "metadata": {},
      "outputs": [],
      "source": [
        "# df1 = pd.read_csv('./simulation_results/2023-05-27_03-20-28.csv') # STGCN IT-STGCN 70%\n",
        "# df2 = pd.read_csv('./simulation_results/2023-05-27_11-15-19.csv') # STGCN IT-STGCN\n",
        "# df3 = pd.read_csv('./simulation_results/2023-05-27_21-50-00.csv') # STGCN IT-STGCN\n",
        "# df4 = pd.read_csv('./simulation_results/2023-05-28_07-53-57.csv') # STGCN IT-STGCN\n",
        "# df5 = pd.read_csv('./simulation_results/2023-05-28_15-11-36.csv') # STGCN IT-STGCN\n",
        "# df6 = pd.read_csv('./simulation_results/2023-05-28_19-57-23.csv') # GNAR 30%, 50%, 70% # 뭔가 일단 필요없어서 데이터셋에서 뺌\n",
        "# df7 = pd.read_csv('./simulation_results/2023-05-29_01-36-37.csv') # STGCN IT-STGCN\n",
        "# df8 = pd.read_csv('./simulation_results/2023-05-29_05-55-43.csv') # STGCN IT-STGCN\n",
        "# df9 = pd.read_csv('./simulation_results/2023-05-29_11-00-42.csv') # STGCN IT-STGCN\n",
        "# df10 = pd.read_csv('./simulation_results/2023-05-29_15-58-56.csv') # STGCN IT-STGCN\n",
        "# df11 = pd.read_csv('./simulation_results/2023-05-29_21-01-58.csv') # STGCN IT-STGCN\n",
        "# df12 = pd.read_csv('./simulation_results/2023-05-30_02-08-43.csv') # STGCN IT-STGCN\n",
        "# df13 = pd.read_csv('./simulation_results/2023-05-30_06-27-00.csv') # STGCN IT-STGCN\n",
        "# df14 = pd.read_csv('./simulation_results/2023-05-30_11-59-01.csv') # STGCN IT-STGCN\n",
        "# df15 = pd.read_csv('./simulation_results/2023-05-30_15-59-12.csv') # STGCN IT-STGCN\n",
        "# df16 = pd.read_csv('./simulation_results/2023-04-20_00-46-43.csv') # STGCN IT-STGCN\n",
        "# df17 = pd.read_csv('./simulation_results/2023-04-20_06-51-34.csv') # STGCN IT-STGCN\n",
        "# df18 = pd.read_csv('./simulation_results/2023-04-20_08-30-27.csv') # STGCN IT-STGCN\n",
        "# df19 = pd.read_csv('./simulation_results/2023-04-20_14-28-35.csv') # STGCN IT-STGCN\n",
        "# df20 = pd.read_csv('./simulation_results/2023-04-20_16-08-39.csv') # STGCN IT-STGCN\n",
        "# df21 = pd.read_csv('./simulation_results/2023-04-20_22-09-37.csv') # STGCN IT-STGCN\n",
        "# df22 = pd.read_csv('./simulation_results/2023-04-20_23-48-26.csv') # STGCN IT-STGCN\n",
        "# df23 = pd.read_csv('./simulation_results/2023-04-21_05-36-47.csv') # STGCN IT-STGCN\n",
        "# df24 = pd.read_csv('./simulation_results/2023-04-21_15-26-00.csv') # STGCN IT-STGCN\n",
        "# df25 = pd.read_csv('./simulation_results/2023-04-21_23-27-11.csv') # STGCN IT-STGCN\n",
        "# df26 = pd.read_csv('./simulation_results/2023-04-22_07-46-08.csv') # STGCN IT-STGCN\n",
        "# df27 = pd.read_csv('./simulation_results/2023-04-22_15-45-20.csv') # STGCN IT-STGCN\n",
        "# df28 = pd.read_csv('./simulation_results/2023-04-22_22-57-31.csv') # STGCN IT-STGCN\n",
        "# df29 = pd.read_csv('./simulation_results/2023-04-23_07-00-15.csv') # STGCN IT-STGCN\n",
        "# df30 = pd.read_csv('./simulation_results/2023-04-23_15-18-02.csv') # STGCN IT-STGCN\n",
        "# df31 = pd.read_csv('./simulation_results/2023-04-23_15-22-36.csv') # GNAR 70%\n",
        "# # baseline\n",
        "# df32 = pd.read_csv('./simulation_results/2023-04-29_06-54-40.csv') # GNAR \n",
        "# df33 = pd.read_csv('./simulation_results/2023-04-30_18-55-12.csv')\n",
        "# df34 = pd.read_csv('./simulation_results/2023-05-01_02-55-33.csv')\n",
        "# df35 = pd.read_csv('./simulation_results/2023-05-01_10-21-15.csv')\n",
        "# df36 = pd.read_csv('./simulation_results/2023-05-01_19-23-57.csv')\n",
        "# df37 = pd.read_csv('./simulation_results/2023-05-02_01-10-53.csv')\n",
        "# df38 = pd.read_csv('./simulation_results/2023-05-02_08-26-53.csv')\n",
        "# df39 = pd.read_csv('./simulation_results/2023-05-02_16-00-40.csv')\n",
        "# df40 = pd.read_csv('./simulation_results/2023-05-03_00-34-09.csv')\n",
        "# df41 = pd.read_csv('./simulation_results/2023-05-03_08-04-42.csv')\n",
        "# df42 = pd.read_csv('./simulation_results/2023-05-03_15-50-50.csv')\n",
        "# df43 = pd.read_csv('./simulation_results/2023-05-03_23-46-56.csv')\n",
        "# df44 = pd.read_csv('./simulation_results/2023-05-04_05-22-59.csv')\n",
        "# df45 = pd.read_csv('./simulation_results/2023-05-04_09-22-37.csv')\n",
        "# df46 = pd.read_csv('./simulation_results/2023-05-04_15-00-57.csv')\n",
        "# df47 = pd.read_csv('./simulation_results/2023-05-04_23-41-21.csv')\n",
        "# df48 = pd.read_csv('./simulation_results/2023-05-05_07-23-04.csv')\n",
        "# df49 = pd.read_csv('./simulation_results/2023-05-05_15-03-17.csv')\n",
        "# df50 = pd.read_csv('./simulation_results/2023-05-06_05-18-07.csv')\n",
        "# df51 = pd.read_csv('./simulation_results/2023-05-06_12-57-14.csv')\n",
        "# df52 = pd.read_csv('./simulation_results/2023-05-06_19-10-23.csv')\n",
        "# df53 = pd.read_csv('./simulation_results/2023-05-07_03-20-10.csv')\n",
        "# df54 = pd.read_csv('./simulation_results/2023-05-07_11-26-24.csv')\n",
        "# df55 = pd.read_csv('./simulation_results/2023-05-08_00-04-56.csv')\n",
        "# df56 = pd.read_csv('./simulation_results/2023-05-08_04-27-01.csv')\n",
        "# df57 = pd.read_csv('./simulation_results/2023-05-08_10-06-55.csv')\n",
        "# df58 = pd.read_csv('./simulation_results/2023-05-08_17-50-36.csv')\n",
        "# df59 = pd.read_csv('./simulation_results/2023-05-09_03-28-08.csv')\n",
        "# df60 = pd.read_csv('./simulation_results/2023-05-09_11-08-10.csv')\n",
        "# df61 = pd.read_csv('./simulation_results/2023-05-09_20-11-45.csv')"
      ],
      "id": "79eb8b26-acbe-47cf-848b-2fd6047cf703"
    },
    {
      "cell_type": "code",
      "execution_count": null,
      "metadata": {},
      "outputs": [],
      "source": [
        "data = pd.concat([df1],axis=0)"
      ],
      "id": "34d7a79c-1583-43ca-a5ad-c812df07a373"
    },
    {
      "cell_type": "code",
      "execution_count": null,
      "metadata": {},
      "outputs": [],
      "source": [
        "data.to_csv('./simulation_results/Real_simulation_reshape/TGCN_windmillsmall.csv',index=False)"
      ],
      "id": "dc3a604e-b635-460b-b5f4-538567323617"
    },
    {
      "cell_type": "code",
      "execution_count": null,
      "metadata": {},
      "outputs": [],
      "source": [
        "data = pd.read_csv('./simulation_results/Real_simulation_reshape/TGCN_windmillsmall.csv')"
      ],
      "id": "b415154e-b1cf-4d74-b025-ffde7c18f1eb"
    },
    {
      "cell_type": "markdown",
      "metadata": {},
      "source": [
        "## Baseline"
      ],
      "id": "ecc6e663-8322-4cd9-8124-6ceaebe0d26e"
    },
    {
      "cell_type": "code",
      "execution_count": null,
      "metadata": {},
      "outputs": [],
      "source": [
        "data.query(\"method!='GNAR' and mrate ==0 \").plot.box(backend='plotly',x='mrate',color='method',y='mse',facet_col='lags',height=800)\n"
      ],
      "id": "985a2abd-e991-4ea4-b680-db96916ad932"
    },
    {
      "cell_type": "markdown",
      "metadata": {},
      "source": [
        "## random"
      ],
      "id": "820082f4-b01d-4fed-9c93-3d3f3da5a905"
    },
    {
      "cell_type": "code",
      "execution_count": null,
      "metadata": {},
      "outputs": [],
      "source": [
        "data.query(\"method!='GNAR' and mtype =='rand' \").plot.box(backend='plotly',x='mrate',color='method',y='mse',facet_col='lags',facet_row='inter_method',height=800)\n"
      ],
      "id": "460953be-cde7-4994-b75a-bf9df5d6bd44"
    },
    {
      "cell_type": "markdown",
      "metadata": {},
      "source": [
        "## block"
      ],
      "id": "7bedd144-74d2-4425-be26-3a18a41ebea9"
    },
    {
      "cell_type": "code",
      "execution_count": null,
      "metadata": {},
      "outputs": [],
      "source": [
        "data.query(\"method!='GNAR' and mtype =='block' \").plot.box(backend='plotly',x='mrate',color='method',y='mse',facet_col='lags',facet_row='inter_method',height=800)\n"
      ],
      "id": "2bea6435-fc78-4043-8662-e43a1465da33"
    },
    {
      "cell_type": "markdown",
      "metadata": {},
      "source": [
        "# Montevideobus"
      ],
      "id": "00b2648a-9bea-4755-a51c-bffd6179b76d"
    },
    {
      "cell_type": "code",
      "execution_count": 62,
      "metadata": {},
      "outputs": [],
      "source": [
        "df1 = pd.read_csv('./simulation_results/2023-06-22_10-28-10.csv') # lags 8\n",
        "df2 = pd.read_csv('./simulation_results/2023-06-22_13-31-48.csv') # lags 8\n",
        "df3 = pd.read_csv('./simulation_results/2023-06-22_15-51-24.csv') # lags 8\n",
        "df4 = pd.read_csv('./simulation_results/2023-06-22_17-59-22.csv') # lags 8\n",
        "df5 = pd.read_csv('./simulation_results/2023-06-22_20-08-49.csv') # lags 8\n",
        "df6 = pd.read_csv('./simulation_results/2023-06-22_22-23-50.csv') # lags 8"
      ],
      "id": "ab121873-1fae-498b-889b-e6f5445a9079"
    },
    {
      "cell_type": "code",
      "execution_count": 63,
      "metadata": {},
      "outputs": [],
      "source": [
        "df7 = pd.read_csv('./simulation_results/2023-07-25_01-37-20.csv') # lags 8\n",
        "df8 = pd.read_csv('./simulation_results/2023-07-25_03-55-32.csv') # lags 8\n",
        "df9 = pd.read_csv('./simulation_results/2023-07-25_06-16-34.csv') # lags 8\n",
        "df10 = pd.read_csv('./simulation_results/2023-07-25_08-33-19.csv') # lags 8\n",
        "df11 = pd.read_csv('./simulation_results/2023-07-25_10-34-08.csv') # lags 8\n",
        "df12 = pd.read_csv('./simulation_results/2023-07-25_12-34-19.csv') # lags 8\n",
        "df13 = pd.read_csv('./simulation_results/2023-07-25_14-26-43.csv') # lags 8\n",
        "df14 = pd.read_csv('./simulation_results/2023-07-25_16-24-54.csv') # lags 8\n",
        "df15 = pd.read_csv('./simulation_results/2023-07-25_18-28-28.csv') # lags 8"
      ],
      "id": "75807f6e-57d6-4dc9-b5f7-d4d10fd9f783"
    },
    {
      "cell_type": "code",
      "execution_count": 65,
      "metadata": {},
      "outputs": [],
      "source": [
        "data = pd.concat([df1,df2,df3,df4,df5,df6,df7,df8,df9,df10,df11,df12,df13,df14,df15],axis=0)"
      ],
      "id": "1fa6b494-c53a-4d2f-87d9-c851e1e37183"
    },
    {
      "cell_type": "code",
      "execution_count": 66,
      "metadata": {},
      "outputs": [],
      "source": [
        "data.to_csv('./simulation_results/Real_simulation_reshape/TGCN_monte.csv',index=False)"
      ],
      "id": "b0d50ee6-edc2-459d-b75b-9f8d288a3248"
    },
    {
      "cell_type": "code",
      "execution_count": 67,
      "metadata": {},
      "outputs": [],
      "source": [
        "data = pd.read_csv('./simulation_results/Real_simulation_reshape/TGCN_monte.csv')"
      ],
      "id": "df2f787f-8b79-4f94-9c05-eefc1cbcf605"
    },
    {
      "cell_type": "markdown",
      "metadata": {},
      "source": [
        "## Baseline"
      ],
      "id": "ab27ec6a-d65f-4225-8b51-ccc9e6458e92"
    },
    {
      "cell_type": "code",
      "execution_count": 68,
      "metadata": {},
      "outputs": [],
      "source": [
        "data.query(\"mrate==0 and method!='GNAR'\").plot.box(backend='plotly',x='mrate',color='method',y='mse',facet_col='lags',facet_row='nof_filters',height=600)"
      ],
      "id": "38c70530-a826-4ffa-999f-95bc63c1c30a"
    },
    {
      "cell_type": "markdown",
      "metadata": {},
      "source": [
        "## random"
      ],
      "id": "022e07ab-47c1-4c12-9040-0cad00fd5e5c"
    },
    {
      "cell_type": "code",
      "execution_count": 69,
      "metadata": {},
      "outputs": [],
      "source": [
        "data.query(\"mtype=='rand' and mrate !=0 and method!='GNAR'\").plot.box(backend='plotly',x='mrate',color='method',y='mse',facet_col='lags',facet_row='inter_method',height=800)\n"
      ],
      "id": "3940fd83-c049-4ad7-bec9-fbcc2258a0ca"
    },
    {
      "cell_type": "markdown",
      "metadata": {},
      "source": [
        "## block"
      ],
      "id": "4c0b948e-3691-447c-88ed-8711924789d5"
    },
    {
      "cell_type": "code",
      "execution_count": 70,
      "metadata": {},
      "outputs": [],
      "source": [
        "data.query(\"mtype=='block' and method!='GNAR'\").plot.box(backend='plotly',x='mrate',color='method',y='mse',facet_col='lags',facet_row='nof_filters',height=1200)\n"
      ],
      "id": "5bf00b4b-545a-473e-91b7-c91318c8b308"
    }
  ],
  "nbformat": 4,
  "nbformat_minor": 5,
  "metadata": {
    "kernelspec": {
      "name": "python3",
      "display_name": "Python 3",
      "language": "python"
    },
    "language_info": {
      "name": "python",
      "codemirror_mode": {
        "name": "ipython",
        "version": "3"
      },
      "file_extension": ".py",
      "mimetype": "text/x-python",
      "nbconvert_exporter": "python",
      "pygments_lexer": "ipython3",
      "version": "3.8.0"
    }
  }
}
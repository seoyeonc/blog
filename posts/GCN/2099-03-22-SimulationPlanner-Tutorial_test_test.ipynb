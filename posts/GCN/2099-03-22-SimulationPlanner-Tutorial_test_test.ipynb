{
 "cells": [
  {
   "cell_type": "raw",
   "id": "43e511fe-f020-4da6-a9ca-f80abb6cddbf",
   "metadata": {
    "id": "cac470df-29e7-4148-9bbd-d8b9a32fa570",
    "tags": []
   },
   "source": [
    "---\n",
    "title: \"SimualtionPlanner-Tutorial\"\n",
    "author: \"SEOYEON CHOI\"\n",
    "date: \"2023-03-22\"\n",
    "categories:\n",
    "  - ST-GCN\n",
    "---"
   ]
  },
  {
   "cell_type": "markdown",
   "id": "f4865201-e9bc-4c2e-bcd8-3a19d2f95745",
   "metadata": {},
   "source": [
    "> table"
   ]
  },
  {
   "cell_type": "markdown",
   "id": "edd8b536-1515-4b51-9a99-95974bad6c75",
   "metadata": {},
   "source": [
    "# imports"
   ]
  },
  {
   "cell_type": "markdown",
   "id": "e81a577b-9b2e-455b-9de5-886f5c6a21c3",
   "metadata": {},
   "source": [
    "```R\n",
    "import rpy2\n",
    "import rpy2.robjects as ro \n",
    "from rpy2.robjects.vectors import FloatVector \n",
    "from rpy2.robjects.packages import importr\n",
    "\n",
    "%load_ext rpy2.ipython\n",
    "\n",
    "%%R\n",
    "library(GNAR)\n",
    "library(igraph)\n",
    "```"
   ]
  },
  {
   "cell_type": "code",
   "execution_count": null,
   "id": "b0c2e707-a477-4cbd-b8ff-3dd35c65266e",
   "metadata": {},
   "outputs": [],
   "source": [
    "import itstgcnGConvLSTM\n",
    "import torch\n",
    "import itstgcnGConvLSTM.planner "
   ]
  },
  {
   "cell_type": "markdown",
   "id": "9831dd41-f751-46de-a7c5-927d1a82cb3b",
   "metadata": {},
   "source": [
    "# read data"
   ]
  },
  {
   "cell_type": "code",
   "execution_count": null,
   "id": "c3d7127c-26e6-4848-828d-f80f2cf369a4",
   "metadata": {},
   "outputs": [],
   "source": [
    "from torch_geometric_temporal.dataset import ChickenpoxDatasetLoader\n",
    "loader1 = ChickenpoxDatasetLoader()"
   ]
  },
  {
   "cell_type": "code",
   "execution_count": 5,
   "id": "21b18310-1cd6-45df-9448-87d8d9c8f310",
   "metadata": {},
   "outputs": [],
   "source": [
    "from torch_geometric_temporal.dataset import PedalMeDatasetLoader\n",
    "loader2 = PedalMeDatasetLoader()"
   ]
  },
  {
   "cell_type": "code",
   "execution_count": 6,
   "id": "9ca12e28-59b0-4868-93fb-763b978260ae",
   "metadata": {},
   "outputs": [],
   "source": [
    "from torch_geometric_temporal.dataset import WikiMathsDatasetLoader\n",
    "loader3 = WikiMathsDatasetLoader()"
   ]
  },
  {
   "cell_type": "code",
   "execution_count": 7,
   "id": "7b3065b5-6056-4f8c-932a-7e431387015d",
   "metadata": {},
   "outputs": [],
   "source": [
    "from torch_geometric_temporal.dataset import WindmillOutputMediumDatasetLoader\n",
    "loader5 = WindmillOutputMediumDatasetLoader()"
   ]
  },
  {
   "cell_type": "code",
   "execution_count": 1,
   "id": "e608614b-500d-4acd-b544-11428381b7a5",
   "metadata": {},
   "outputs": [],
   "source": [
    "from torch_geometric_temporal.dataset import WindmillOutputSmallDatasetLoader\n",
    "loader6 = WindmillOutputSmallDatasetLoader()"
   ]
  },
  {
   "cell_type": "code",
   "execution_count": 9,
   "id": "f6c8fb6b-70c4-46a6-bec9-3f080696c3e7",
   "metadata": {},
   "outputs": [],
   "source": [
    "from torch_geometric_temporal.dataset import MontevideoBusDatasetLoader\n",
    "loader10 = MontevideoBusDatasetLoader()"
   ]
  },
  {
   "cell_type": "markdown",
   "id": "ec8a3c6f-83fa-4b5a-bb13-7cad1a5fe803",
   "metadata": {},
   "source": [
    "## PLNR_STGCN_RAND"
   ]
  },
  {
   "cell_type": "code",
   "execution_count": 8,
   "id": "c35be09f-1689-44ca-ac60-9fbd9a56910a",
   "metadata": {},
   "outputs": [],
   "source": [
    "plans_stgcn_rand = {\n",
    "    'max_iteration': 30, \n",
    "    'method': ['STGCN', 'IT-STGCN'],\n",
    "    'mrate': [0,0.3,0.6],\n",
    "    'lags': [4], \n",
    "    'nof_filters': [12], \n",
    "    'inter_method': ['linear','nearest'],\n",
    "    'epoch': [50]\n",
    "}"
   ]
  },
  {
   "cell_type": "code",
   "execution_count": null,
   "id": "1ddc3181-a768-4d24-b386-35285dcd455a",
   "metadata": {},
   "outputs": [],
   "source": [
    "plnr = itstgcn.planner.PLNR_STGCN_RAND(plans_stgcn_rand,loader2,dataset_name='pedalme')\n",
    "\n",
    "plnr.simulate()"
   ]
  },
  {
   "cell_type": "code",
   "execution_count": 10,
   "id": "eee49500-70df-4bf6-a6ea-e4974f651209",
   "metadata": {},
   "outputs": [],
   "source": [
    "plans_stgcn_rand = {\n",
    "    'max_iteration': 15, \n",
    "    'method': ['STGCN', 'IT-STGCN'],\n",
    "    'mrate': [0.3],\n",
    "    'lags': [8], \n",
    "    'nof_filters': [12], \n",
    "    'inter_method': ['linear'],\n",
    "    'epoch': [50]\n",
    "}"
   ]
  },
  {
   "cell_type": "code",
   "execution_count": null,
   "id": "45d8b254-7380-4548-a033-b8dfd0d4804b",
   "metadata": {},
   "outputs": [
    {
     "name": "stdout",
     "output_type": "stream",
     "text": [
      "1/15 is done\n",
      "2/15 is done\n",
      "3/15 is done\n",
      "4/15 is done\n",
      "5/500\r"
     ]
    }
   ],
   "source": [
    "plnr = itstgcn.planner.PLNR_STGCN_RAND(plans_stgcn_rand,loader3,dataset_name='wikimath')\n",
    "\n",
    "plnr.simulate()"
   ]
  },
  {
   "cell_type": "code",
   "execution_count": null,
   "id": "40456b38-b402-497c-ac8f-20d2a50c685d",
   "metadata": {},
   "outputs": [],
   "source": [
    "plnr = itstgcn.planner.PLNR_STGCN_RAND(plans_stgcn_rand,loader3,dataset_name='wikimath')\n",
    "\n",
    "plnr.simulate()"
   ]
  },
  {
   "cell_type": "code",
   "execution_count": null,
   "id": "7b202275-1e17-4b74-b38c-4a2315d48ab1",
   "metadata": {},
   "outputs": [],
   "source": [
    "plans_stgcn_rand = {\n",
    "    'max_iteration': 15, \n",
    "    'method': ['STGCN', 'IT-STGCN'],\n",
    "    'mrate': [0.8],\n",
    "    'lags': [8], \n",
    "    'nof_filters': [12], \n",
    "    'inter_method': ['linear'],\n",
    "    'epoch': [50]\n",
    "}"
   ]
  },
  {
   "cell_type": "code",
   "execution_count": null,
   "id": "3aa013b9-2b8b-4c90-a13c-4ce74241d1f6",
   "metadata": {},
   "outputs": [],
   "source": [
    "plnr = itstgcn.planner.PLNR_STGCN_RAND(plans_stgcn_rand,loader3,dataset_name='wikimath')\n",
    "\n",
    "plnr.simulate()"
   ]
  },
  {
   "cell_type": "code",
   "execution_count": null,
   "id": "8118f704-bfd5-4ccb-8c3c-c8cb00cb2f60",
   "metadata": {},
   "outputs": [],
   "source": [
    "plnr = itstgcn.planner.PLNR_STGCN_RAND(plans_stgcn_rand,loader3,dataset_name='wikimath')\n",
    "\n",
    "plnr.simulate()"
   ]
  },
  {
   "cell_type": "code",
   "execution_count": null,
   "id": "277cfb41-baba-4249-887d-27a87d62ff99",
   "metadata": {},
   "outputs": [],
   "source": [
    "plans_stgcn_rand = {\n",
    "    'max_iteration': 15, \n",
    "    'method': ['STGCN', 'IT-STGCN'],\n",
    "    'mrate': [0],\n",
    "    'lags': [8], \n",
    "    'nof_filters': [12], \n",
    "    'inter_method': ['linear'],\n",
    "    'epoch': [50]\n",
    "}"
   ]
  },
  {
   "cell_type": "code",
   "execution_count": null,
   "id": "c4cb5293-d16e-4b98-9bb0-aa1d05efa07a",
   "metadata": {},
   "outputs": [],
   "source": [
    "plnr = itstgcn.planner.PLNR_STGCN_RAND(plans_stgcn_rand,loader3,dataset_name='wikimath')\n",
    "\n",
    "plnr.simulate()"
   ]
  },
  {
   "cell_type": "code",
   "execution_count": null,
   "id": "675daf9b-4ec3-4c62-9af9-0cdd4458926c",
   "metadata": {},
   "outputs": [],
   "source": [
    "plnr = itstgcn.planner.PLNR_STGCN_RAND(plans_stgcn_rand,loader3,dataset_name='wikimath')\n",
    "\n",
    "plnr.simulate()"
   ]
  },
  {
   "cell_type": "code",
   "execution_count": null,
   "id": "ac0f1d38-f5a1-4588-964e-394e6b9fad37",
   "metadata": {},
   "outputs": [],
   "source": []
  },
  {
   "cell_type": "code",
   "execution_count": null,
   "id": "d340224c-e0f2-4308-8da2-488b669526b9",
   "metadata": {},
   "outputs": [],
   "source": []
  },
  {
   "cell_type": "code",
   "execution_count": 3,
   "id": "e7b6c2f1-2009-435b-9baf-34b88e72198a",
   "metadata": {},
   "outputs": [],
   "source": [
    "plans_stgcn_rand = {\n",
    "    'max_iteration': 1, \n",
    "    'method': ['STGCN', 'IT-STGCN'],\n",
    "    'mrate': [0.7],\n",
    "    'lags': [8], \n",
    "    'nof_filters': [16], \n",
    "    'inter_method': ['linear'],\n",
    "    'epoch': [50]\n",
    "}"
   ]
  },
  {
   "cell_type": "code",
   "execution_count": null,
   "id": "cfc2da8a-6c14-4963-a1f0-5901c382a2b7",
   "metadata": {},
   "outputs": [
    {
     "name": "stderr",
     "output_type": "stream",
     "text": [
      "/home/csy/Dropbox/blog/posts/GCN/itstgcnGConvLSTM/utils.py:71: UserWarning: Creating a tensor from a list of numpy.ndarrays is extremely slow. Please consider converting the list to a single numpy.ndarray with numpy.array() before converting to a tensor. (Triggered internally at /opt/conda/conda-bld/pytorch_1682343998658/work/torch/csrc/utils/tensor_new.cpp:245.)\n",
      "  lags = torch.tensor(train_dataset.features).shape[-1]\n"
     ]
    },
    {
     "name": "stdout",
     "output_type": "stream",
     "text": [
      "1/50\r"
     ]
    }
   ],
   "source": [
    "plnr = itstgcnGConvLSTM.planner.PLNR_STGCN_RAND(plans_stgcn_rand,loader6,dataset_name='windmillsmall')\n",
    "plnr.simulate()"
   ]
  },
  {
   "cell_type": "code",
   "execution_count": null,
   "id": "82f3ccc7-1d6f-41a1-b0cc-991fc08150d0",
   "metadata": {},
   "outputs": [],
   "source": [
    "plnr = itstgcnGConvLSTM.planner.PLNR_STGCN_RAND(plans_stgcn_rand,loader6,dataset_name='windmillsmall')\n",
    "plnr.simulate()"
   ]
  },
  {
   "cell_type": "code",
   "execution_count": null,
   "id": "caaaf923-f9e7-45bb-ad3f-f5c905e7f74c",
   "metadata": {},
   "outputs": [],
   "source": [
    "plnr = itstgcnGConvLSTM.planner.PLNR_STGCN_RAND(plans_stgcn_rand,loader6,dataset_name='windmillsmall')\n",
    "plnr.simulate()"
   ]
  },
  {
   "cell_type": "code",
   "execution_count": null,
   "id": "045543d8-daa2-4193-a52e-045969e8e2cb",
   "metadata": {},
   "outputs": [],
   "source": [
    "plnr = itstgcnGConvLSTM.planner.PLNR_STGCN_RAND(plans_stgcn_rand,loader6,dataset_name='windmillsmall')\n",
    "plnr.simulate()"
   ]
  },
  {
   "cell_type": "code",
   "execution_count": null,
   "id": "327b6e9a-b3e5-4097-ac53-5e87e48df3c4",
   "metadata": {},
   "outputs": [],
   "source": [
    "plnr = itstgcnGConvLSTM.planner.PLNR_STGCN_RAND(plans_stgcn_rand,loader6,dataset_name='windmillsmall')\n",
    "plnr.simulate()"
   ]
  },
  {
   "cell_type": "code",
   "execution_count": null,
   "id": "54e15738-b609-413b-a192-9dbaf66d09c2",
   "metadata": {},
   "outputs": [],
   "source": [
    "plnr = itstgcnGConvLSTM.planner.PLNR_STGCN_RAND(plans_stgcn_rand,loader6,dataset_name='windmillsmall')\n",
    "plnr.simulate()"
   ]
  },
  {
   "cell_type": "code",
   "execution_count": null,
   "id": "6383db4e-bc00-4c7f-b519-dfa70835e23a",
   "metadata": {},
   "outputs": [],
   "source": [
    "plnr = itstgcnGConvLSTM.planner.PLNR_STGCN_RAND(plans_stgcn_rand,loader6,dataset_name='windmillsmall')\n",
    "plnr.simulate()"
   ]
  },
  {
   "cell_type": "code",
   "execution_count": null,
   "id": "adb7e8d8-d583-413a-9b63-2734873fd9e2",
   "metadata": {},
   "outputs": [],
   "source": [
    "plnr = itstgcnGConvLSTM.planner.PLNR_STGCN_RAND(plans_stgcn_rand,loader6,dataset_name='windmillsmall')\n",
    "plnr.simulate()"
   ]
  },
  {
   "cell_type": "code",
   "execution_count": null,
   "id": "b032ce76-17cb-4d9e-ab6f-8d0ae2445e7a",
   "metadata": {},
   "outputs": [],
   "source": [
    "plnr = itstgcnGConvLSTM.planner.PLNR_STGCN_RAND(plans_stgcn_rand,loader6,dataset_name='windmillsmall')\n",
    "plnr.simulate()"
   ]
  },
  {
   "cell_type": "code",
   "execution_count": null,
   "id": "792aa994-6bb3-4dcf-beb3-da427fde8ebc",
   "metadata": {},
   "outputs": [],
   "source": [
    "plnr = itstgcnGConvLSTM.planner.PLNR_STGCN_RAND(plans_stgcn_rand,loader6,dataset_name='windmillsmall')\n",
    "plnr.simulate()"
   ]
  },
  {
   "cell_type": "code",
   "execution_count": null,
   "id": "38f42cbf-3974-43d4-a572-06437015788c",
   "metadata": {},
   "outputs": [],
   "source": [
    "plnr = itstgcnGConvLSTM.planner.PLNR_STGCN_RAND(plans_stgcn_rand,loader6,dataset_name='windmillsmall')\n",
    "plnr.simulate()"
   ]
  },
  {
   "cell_type": "code",
   "execution_count": null,
   "id": "69f19aa1-7084-4274-9f22-0248b95dd67a",
   "metadata": {},
   "outputs": [],
   "source": [
    "plnr = itstgcnGConvLSTM.planner.PLNR_STGCN_RAND(plans_stgcn_rand,loader6,dataset_name='windmillsmall')\n",
    "plnr.simulate()"
   ]
  },
  {
   "cell_type": "code",
   "execution_count": null,
   "id": "9fba4a50-65e4-4e78-aa45-b513a247c86a",
   "metadata": {},
   "outputs": [],
   "source": [
    "plnr = itstgcnGConvLSTM.planner.PLNR_STGCN_RAND(plans_stgcn_rand,loader6,dataset_name='windmillsmall')\n",
    "plnr.simulate()"
   ]
  },
  {
   "cell_type": "code",
   "execution_count": null,
   "id": "7cde783b-3353-4d1c-ae40-7e9eece9b2bc",
   "metadata": {},
   "outputs": [],
   "source": [
    "plnr = itstgcnGConvLSTM.planner.PLNR_STGCN_RAND(plans_stgcn_rand,loader6,dataset_name='windmillsmall')\n",
    "plnr.simulate()"
   ]
  },
  {
   "cell_type": "code",
   "execution_count": null,
   "id": "8bf0c40a-bdfb-4c28-93a9-e59556c7626b",
   "metadata": {},
   "outputs": [],
   "source": [
    "plnr = itstgcnGConvLSTM.planner.PLNR_STGCN_RAND(plans_stgcn_rand,loader6,dataset_name='windmillsmall')\n",
    "plnr.simulate()"
   ]
  },
  {
   "cell_type": "code",
   "execution_count": null,
   "id": "23a5f79e-e8a6-4c13-8ddc-1375ee034547",
   "metadata": {},
   "outputs": [],
   "source": [
    "plnr = itstgcnGConvLSTM.planner.PLNR_STGCN_RAND(plans_stgcn_rand,loader6,dataset_name='windmillsmall')\n",
    "plnr.simulate()"
   ]
  },
  {
   "cell_type": "code",
   "execution_count": null,
   "id": "0719a5e5-2451-4f1f-a7c1-5a8d73f9711b",
   "metadata": {},
   "outputs": [],
   "source": [
    "plnr = itstgcnGConvLSTM.planner.PLNR_STGCN_RAND(plans_stgcn_rand,loader6,dataset_name='windmillsmall')\n",
    "plnr.simulate()"
   ]
  },
  {
   "cell_type": "code",
   "execution_count": null,
   "id": "b330bcf9-8d20-4a43-8d15-4d6f85afc04b",
   "metadata": {},
   "outputs": [],
   "source": [
    "plnr = itstgcnGConvLSTM.planner.PLNR_STGCN_RAND(plans_stgcn_rand,loader6,dataset_name='windmillsmall')\n",
    "plnr.simulate()"
   ]
  },
  {
   "cell_type": "code",
   "execution_count": null,
   "id": "9f6aab4b-a9b0-4617-bbec-93dcb6a03e85",
   "metadata": {},
   "outputs": [],
   "source": [
    "plnr = itstgcnGConvLSTM.planner.PLNR_STGCN_RAND(plans_stgcn_rand,loader6,dataset_name='windmillsmall')\n",
    "plnr.simulate()"
   ]
  },
  {
   "cell_type": "code",
   "execution_count": null,
   "id": "ca53c957-a9df-4bde-aa7c-1ba0135d0171",
   "metadata": {},
   "outputs": [],
   "source": [
    "plnr = itstgcnGConvLSTM.planner.PLNR_STGCN_RAND(plans_stgcn_rand,loader6,dataset_name='windmillsmall')\n",
    "plnr.simulate()"
   ]
  },
  {
   "cell_type": "code",
   "execution_count": null,
   "id": "d3980626-2c44-45ba-b040-792642ce2457",
   "metadata": {},
   "outputs": [],
   "source": [
    "plnr = itstgcnGConvLSTM.planner.PLNR_STGCN_RAND(plans_stgcn_rand,loader6,dataset_name='windmillsmall')\n",
    "plnr.simulate()"
   ]
  },
  {
   "cell_type": "code",
   "execution_count": null,
   "id": "41d1fbdb-2347-4d6e-97fd-ccb189459b36",
   "metadata": {},
   "outputs": [],
   "source": [
    "plnr = itstgcnGConvLSTM.planner.PLNR_STGCN_RAND(plans_stgcn_rand,loader6,dataset_name='windmillsmall')\n",
    "plnr.simulate()"
   ]
  },
  {
   "cell_type": "code",
   "execution_count": null,
   "id": "4b942de2-a408-4942-a43c-c7c8abdc5ff3",
   "metadata": {},
   "outputs": [],
   "source": [
    "plnr = itstgcnGConvLSTM.planner.PLNR_STGCN_RAND(plans_stgcn_rand,loader6,dataset_name='windmillsmall')\n",
    "plnr.simulate()"
   ]
  },
  {
   "cell_type": "code",
   "execution_count": null,
   "id": "dde3aa74-46b0-4704-a10a-b6ca7f9227a7",
   "metadata": {},
   "outputs": [],
   "source": [
    "plnr = itstgcnGConvLSTM.planner.PLNR_STGCN_RAND(plans_stgcn_rand,loader6,dataset_name='windmillsmall')\n",
    "plnr.simulate()"
   ]
  },
  {
   "cell_type": "code",
   "execution_count": null,
   "id": "4608bdc2-a2a7-498d-aa3e-89d7c51a20ea",
   "metadata": {},
   "outputs": [],
   "source": [
    "plnr = itstgcnGConvLSTM.planner.PLNR_STGCN_RAND(plans_stgcn_rand,loader6,dataset_name='windmillsmall')\n",
    "plnr.simulate()"
   ]
  },
  {
   "cell_type": "code",
   "execution_count": null,
   "id": "f4555dfb-c601-443e-9f08-ada4aa2e0f66",
   "metadata": {},
   "outputs": [],
   "source": [
    "plnr = itstgcnGConvLSTM.planner.PLNR_STGCN_RAND(plans_stgcn_rand,loader6,dataset_name='windmillsmall')\n",
    "plnr.simulate()"
   ]
  },
  {
   "cell_type": "code",
   "execution_count": null,
   "id": "d23b34e7-eabd-4949-8e7d-a1da3ba007df",
   "metadata": {},
   "outputs": [],
   "source": [
    "plnr = itstgcnGConvLSTM.planner.PLNR_STGCN_RAND(plans_stgcn_rand,loader6,dataset_name='windmillsmall')\n",
    "plnr.simulate()"
   ]
  },
  {
   "cell_type": "code",
   "execution_count": null,
   "id": "00df1cd2-d7ed-4ac5-ade0-dc4c254848f0",
   "metadata": {},
   "outputs": [],
   "source": [
    "plnr = itstgcnGConvLSTM.planner.PLNR_STGCN_RAND(plans_stgcn_rand,loader6,dataset_name='windmillsmall')\n",
    "plnr.simulate()"
   ]
  },
  {
   "cell_type": "code",
   "execution_count": null,
   "id": "3b869336-9c1c-4d5c-87b5-7e338467dc93",
   "metadata": {},
   "outputs": [],
   "source": [
    "plnr = itstgcnGConvLSTM.planner.PLNR_STGCN_RAND(plans_stgcn_rand,loader6,dataset_name='windmillsmall')\n",
    "plnr.simulate()"
   ]
  },
  {
   "cell_type": "code",
   "execution_count": null,
   "id": "5282cea6-b76c-4872-b9f0-5edeed10b2b5",
   "metadata": {},
   "outputs": [],
   "source": [
    "plnr = itstgcnGConvLSTM.planner.PLNR_STGCN_RAND(plans_stgcn_rand,loader6,dataset_name='windmillsmall')\n",
    "plnr.simulate()"
   ]
  },
  {
   "cell_type": "code",
   "execution_count": null,
   "id": "76fc52a1-dd4d-4875-8bf9-e035142c3219",
   "metadata": {},
   "outputs": [],
   "source": [
    "plans_stgcn_rand = {\n",
    "    'max_iteration': 1, \n",
    "    'method': ['STGCN', 'IT-STGCN'],\n",
    "    'mrate': [0],\n",
    "    'lags': [8], \n",
    "    'nof_filters': [16], \n",
    "    'inter_method': ['linear'],\n",
    "    'epoch': [50]\n",
    "}"
   ]
  },
  {
   "cell_type": "code",
   "execution_count": null,
   "id": "5294a231-2cbc-469a-95c6-c1a2d7b76ddd",
   "metadata": {},
   "outputs": [],
   "source": [
    "plnr = itstgcnGConvLSTM.planner.PLNR_STGCN_RAND(plans_stgcn_rand,loader6,dataset_name='windmillsmall')\n",
    "plnr.simulate()"
   ]
  },
  {
   "cell_type": "code",
   "execution_count": null,
   "id": "aa97c729-873a-4cc1-9342-16c06e63b6d2",
   "metadata": {},
   "outputs": [],
   "source": [
    "plnr = itstgcnGConvLSTM.planner.PLNR_STGCN_RAND(plans_stgcn_rand,loader6,dataset_name='windmillsmall')\n",
    "plnr.simulate()"
   ]
  },
  {
   "cell_type": "code",
   "execution_count": null,
   "id": "ed62abd6-6cbe-4b4f-9211-a74fb6fbda01",
   "metadata": {},
   "outputs": [],
   "source": [
    "plnr = itstgcnGConvLSTM.planner.PLNR_STGCN_RAND(plans_stgcn_rand,loader6,dataset_name='windmillsmall')\n",
    "plnr.simulate()"
   ]
  },
  {
   "cell_type": "code",
   "execution_count": null,
   "id": "10e7fab7-121f-4894-9475-42c278eb0c41",
   "metadata": {},
   "outputs": [],
   "source": [
    "plnr = itstgcnGConvLSTM.planner.PLNR_STGCN_RAND(plans_stgcn_rand,loader6,dataset_name='windmillsmall')\n",
    "plnr.simulate()"
   ]
  },
  {
   "cell_type": "code",
   "execution_count": null,
   "id": "c3f17aba-ab9b-458b-972a-167f4885071e",
   "metadata": {},
   "outputs": [],
   "source": [
    "plnr = itstgcnGConvLSTM.planner.PLNR_STGCN_RAND(plans_stgcn_rand,loader6,dataset_name='windmillsmall')\n",
    "plnr.simulate()"
   ]
  },
  {
   "cell_type": "code",
   "execution_count": null,
   "id": "02fb3077-4a3c-4307-aa9b-c128d677b542",
   "metadata": {},
   "outputs": [],
   "source": [
    "plnr = itstgcnGConvLSTM.planner.PLNR_STGCN_RAND(plans_stgcn_rand,loader6,dataset_name='windmillsmall')\n",
    "plnr.simulate()"
   ]
  },
  {
   "cell_type": "code",
   "execution_count": null,
   "id": "d42f1361-6a77-4c9a-b352-69c1a12a90c0",
   "metadata": {},
   "outputs": [],
   "source": [
    "plnr = itstgcnGConvLSTM.planner.PLNR_STGCN_RAND(plans_stgcn_rand,loader6,dataset_name='windmillsmall')\n",
    "plnr.simulate()"
   ]
  },
  {
   "cell_type": "code",
   "execution_count": null,
   "id": "eaa474a3-4516-46e5-bd23-8835311c6fd8",
   "metadata": {},
   "outputs": [],
   "source": [
    "plnr = itstgcnGConvLSTM.planner.PLNR_STGCN_RAND(plans_stgcn_rand,loader6,dataset_name='windmillsmall')\n",
    "plnr.simulate()"
   ]
  },
  {
   "cell_type": "code",
   "execution_count": null,
   "id": "5c936fe0-cd40-4cca-a27c-16a4615fcff6",
   "metadata": {},
   "outputs": [],
   "source": [
    "plnr = itstgcnGConvLSTM.planner.PLNR_STGCN_RAND(plans_stgcn_rand,loader6,dataset_name='windmillsmall')\n",
    "plnr.simulate()"
   ]
  },
  {
   "cell_type": "code",
   "execution_count": null,
   "id": "20732c55-7041-4fca-8924-781f83d1becd",
   "metadata": {},
   "outputs": [],
   "source": [
    "plnr = itstgcnGConvLSTM.planner.PLNR_STGCN_RAND(plans_stgcn_rand,loader6,dataset_name='windmillsmall')\n",
    "plnr.simulate()"
   ]
  },
  {
   "cell_type": "code",
   "execution_count": null,
   "id": "f4366101-4532-4c60-9470-de486c059827",
   "metadata": {},
   "outputs": [],
   "source": [
    "plnr = itstgcnGConvLSTM.planner.PLNR_STGCN_RAND(plans_stgcn_rand,loader6,dataset_name='windmillsmall')\n",
    "plnr.simulate()"
   ]
  },
  {
   "cell_type": "code",
   "execution_count": null,
   "id": "df8e2e38-de0b-4e0f-b848-8f804917b890",
   "metadata": {},
   "outputs": [],
   "source": [
    "plnr = itstgcnGConvLSTM.planner.PLNR_STGCN_RAND(plans_stgcn_rand,loader6,dataset_name='windmillsmall')\n",
    "plnr.simulate()"
   ]
  },
  {
   "cell_type": "code",
   "execution_count": null,
   "id": "0210d2bc-aa68-44f0-a5bd-c0b9dcf59018",
   "metadata": {},
   "outputs": [],
   "source": [
    "plnr = itstgcnGConvLSTM.planner.PLNR_STGCN_RAND(plans_stgcn_rand,loader6,dataset_name='windmillsmall')\n",
    "plnr.simulate()"
   ]
  },
  {
   "cell_type": "code",
   "execution_count": null,
   "id": "4682d50e-2676-4da2-9335-f7d3cfce0be1",
   "metadata": {},
   "outputs": [],
   "source": [
    "plnr = itstgcnGConvLSTM.planner.PLNR_STGCN_RAND(plans_stgcn_rand,loader6,dataset_name='windmillsmall')\n",
    "plnr.simulate()"
   ]
  },
  {
   "cell_type": "code",
   "execution_count": null,
   "id": "7d2541da-ccab-4073-9434-f46fbb658295",
   "metadata": {},
   "outputs": [],
   "source": [
    "plnr = itstgcnGConvLSTM.planner.PLNR_STGCN_RAND(plans_stgcn_rand,loader6,dataset_name='windmillsmall')\n",
    "plnr.simulate()"
   ]
  },
  {
   "cell_type": "code",
   "execution_count": null,
   "id": "64a3c228-ac83-41e0-be9e-850851d2fd23",
   "metadata": {},
   "outputs": [],
   "source": [
    "plnr = itstgcnGConvLSTM.planner.PLNR_STGCN_RAND(plans_stgcn_rand,loader6,dataset_name='windmillsmall')\n",
    "plnr.simulate()"
   ]
  },
  {
   "cell_type": "code",
   "execution_count": null,
   "id": "d27cd046-914d-46ab-8f84-269c4e7f8502",
   "metadata": {},
   "outputs": [],
   "source": [
    "plnr = itstgcnGConvLSTM.planner.PLNR_STGCN_RAND(plans_stgcn_rand,loader6,dataset_name='windmillsmall')\n",
    "plnr.simulate()"
   ]
  },
  {
   "cell_type": "code",
   "execution_count": null,
   "id": "fd98999f-96a3-4295-83ed-85b9ccbd7805",
   "metadata": {},
   "outputs": [],
   "source": [
    "plnr = itstgcnGConvLSTM.planner.PLNR_STGCN_RAND(plans_stgcn_rand,loader6,dataset_name='windmillsmall')\n",
    "plnr.simulate()"
   ]
  },
  {
   "cell_type": "code",
   "execution_count": null,
   "id": "692a484b-8e26-4394-960b-2d6b95e87f2c",
   "metadata": {},
   "outputs": [],
   "source": [
    "plnr = itstgcnGConvLSTM.planner.PLNR_STGCN_RAND(plans_stgcn_rand,loader6,dataset_name='windmillsmall')\n",
    "plnr.simulate()"
   ]
  },
  {
   "cell_type": "code",
   "execution_count": null,
   "id": "03034111-30fa-4eab-9d38-933ec00dcd61",
   "metadata": {},
   "outputs": [],
   "source": [
    "plnr = itstgcnGConvLSTM.planner.PLNR_STGCN_RAND(plans_stgcn_rand,loader6,dataset_name='windmillsmall')\n",
    "plnr.simulate()"
   ]
  },
  {
   "cell_type": "code",
   "execution_count": null,
   "id": "faa45bb4-01b4-43e0-a1a8-75cffd9a1144",
   "metadata": {},
   "outputs": [],
   "source": [
    "plnr = itstgcnGConvLSTM.planner.PLNR_STGCN_RAND(plans_stgcn_rand,loader6,dataset_name='windmillsmall')\n",
    "plnr.simulate()"
   ]
  },
  {
   "cell_type": "code",
   "execution_count": null,
   "id": "b1598ff9-c540-445c-a4f1-0ae74eed6cb9",
   "metadata": {},
   "outputs": [],
   "source": [
    "plnr = itstgcnGConvLSTM.planner.PLNR_STGCN_RAND(plans_stgcn_rand,loader6,dataset_name='windmillsmall')\n",
    "plnr.simulate()"
   ]
  },
  {
   "cell_type": "code",
   "execution_count": null,
   "id": "855e7e06-e4a9-4a68-909e-c0f5f6c80c96",
   "metadata": {},
   "outputs": [],
   "source": [
    "plnr = itstgcnGConvLSTM.planner.PLNR_STGCN_RAND(plans_stgcn_rand,loader6,dataset_name='windmillsmall')\n",
    "plnr.simulate()"
   ]
  },
  {
   "cell_type": "code",
   "execution_count": null,
   "id": "e71d6ae4-0db2-43ac-be0f-088a88152fe0",
   "metadata": {},
   "outputs": [],
   "source": [
    "plnr = itstgcnGConvLSTM.planner.PLNR_STGCN_RAND(plans_stgcn_rand,loader6,dataset_name='windmillsmall')\n",
    "plnr.simulate()"
   ]
  },
  {
   "cell_type": "code",
   "execution_count": null,
   "id": "21794afd-5e70-46df-bba2-8099e31d0e16",
   "metadata": {},
   "outputs": [],
   "source": [
    "plnr = itstgcnGConvLSTM.planner.PLNR_STGCN_RAND(plans_stgcn_rand,loader6,dataset_name='windmillsmall')\n",
    "plnr.simulate()"
   ]
  },
  {
   "cell_type": "code",
   "execution_count": null,
   "id": "06e85c90-7eff-4b59-89e1-cb2dffeb426d",
   "metadata": {},
   "outputs": [],
   "source": [
    "plnr = itstgcnGConvLSTM.planner.PLNR_STGCN_RAND(plans_stgcn_rand,loader6,dataset_name='windmillsmall')\n",
    "plnr.simulate()"
   ]
  },
  {
   "cell_type": "code",
   "execution_count": null,
   "id": "e8566634-a5ab-4eee-993a-b3dfb2ffff2a",
   "metadata": {},
   "outputs": [],
   "source": [
    "plnr = itstgcnGConvLSTM.planner.PLNR_STGCN_RAND(plans_stgcn_rand,loader6,dataset_name='windmillsmall')\n",
    "plnr.simulate()"
   ]
  },
  {
   "cell_type": "code",
   "execution_count": null,
   "id": "21141c9e-f836-4e79-be74-530da8af4f3c",
   "metadata": {},
   "outputs": [],
   "source": [
    "plnr = itstgcnGConvLSTM.planner.PLNR_STGCN_RAND(plans_stgcn_rand,loader6,dataset_name='windmillsmall')\n",
    "plnr.simulate()"
   ]
  },
  {
   "cell_type": "code",
   "execution_count": null,
   "id": "f827e7be-1b9b-4ee3-b026-9d5cb93c5e50",
   "metadata": {},
   "outputs": [],
   "source": [
    "plnr = itstgcnGConvLSTM.planner.PLNR_STGCN_RAND(plans_stgcn_rand,loader6,dataset_name='windmillsmall')\n",
    "plnr.simulate()"
   ]
  },
  {
   "cell_type": "code",
   "execution_count": null,
   "id": "22bbd6f7-3295-4037-8990-b385dd2224e8",
   "metadata": {},
   "outputs": [],
   "source": [
    "plnr = itstgcnGConvLSTM.planner.PLNR_STGCN_RAND(plans_stgcn_rand,loader6,dataset_name='windmillsmall')\n",
    "plnr.simulate()"
   ]
  },
  {
   "cell_type": "code",
   "execution_count": null,
   "id": "ecfafb71-70b6-47ef-8958-87847d76bf11",
   "metadata": {},
   "outputs": [],
   "source": []
  },
  {
   "cell_type": "code",
   "execution_count": null,
   "id": "b0065c73-ebc9-4fd4-af93-4ff018d03966",
   "metadata": {},
   "outputs": [],
   "source": []
  },
  {
   "cell_type": "code",
   "execution_count": null,
   "id": "5168c4bb-6d40-4cb9-adf8-c7960e063655",
   "metadata": {},
   "outputs": [],
   "source": []
  },
  {
   "cell_type": "code",
   "execution_count": null,
   "id": "10aa0caa-b088-4d9c-a450-21a2ec7495fc",
   "metadata": {},
   "outputs": [],
   "source": []
  },
  {
   "cell_type": "code",
   "execution_count": null,
   "id": "e26fa854-3509-46fb-aa83-f1f1172ea478",
   "metadata": {},
   "outputs": [],
   "source": []
  },
  {
   "cell_type": "code",
   "execution_count": null,
   "id": "4d7061d3-22ff-4f90-b366-ea79756ca8ea",
   "metadata": {},
   "outputs": [],
   "source": []
  },
  {
   "cell_type": "code",
   "execution_count": null,
   "id": "c0627b44-7914-412c-99fb-96a8ef56d292",
   "metadata": {},
   "outputs": [],
   "source": []
  },
  {
   "cell_type": "code",
   "execution_count": null,
   "id": "b019a959-0380-4b4c-a725-9d08cb9054d7",
   "metadata": {},
   "outputs": [],
   "source": []
  },
  {
   "cell_type": "code",
   "execution_count": null,
   "id": "a70a8507-dcba-43b9-b81f-91537e173b43",
   "metadata": {},
   "outputs": [],
   "source": [
    "plans_stgcn_rand = {\n",
    "    'max_iteration': 1, \n",
    "    'method': ['STGCN', 'IT-STGCN'], \n",
    "    'mrate': [0],\n",
    "    'lags': [8], \n",
    "    'nof_filters': [12], \n",
    "    'inter_method': ['linear'],\n",
    "    'epoch': [50]\n",
    "}"
   ]
  },
  {
   "cell_type": "code",
   "execution_count": null,
   "id": "3ddbfd57-bcf2-47e2-ac3e-dc92fb583836",
   "metadata": {},
   "outputs": [],
   "source": [
    "plnr = itstgcn.planner.PLNR_STGCN_RAND(plans_stgcn_rand,loader5,dataset_name='windmillmedium')\n",
    "plnr.simulate()"
   ]
  },
  {
   "cell_type": "code",
   "execution_count": null,
   "id": "ead3ca5b-1c46-4095-90df-4b1db19c0268",
   "metadata": {},
   "outputs": [],
   "source": []
  },
  {
   "cell_type": "code",
   "execution_count": null,
   "id": "8d4229ab-3d54-4e27-a47b-ee6fe709625b",
   "metadata": {},
   "outputs": [],
   "source": []
  },
  {
   "cell_type": "code",
   "execution_count": null,
   "id": "41f16b2d-1d29-4c1a-baf8-bb9d26060f40",
   "metadata": {},
   "outputs": [],
   "source": []
  },
  {
   "cell_type": "code",
   "execution_count": null,
   "id": "c8120d51-421d-4c9a-bf44-873979202cfd",
   "metadata": {},
   "outputs": [],
   "source": []
  },
  {
   "cell_type": "code",
   "execution_count": null,
   "id": "7d049a99-f333-4528-9596-839fdc2f97cd",
   "metadata": {},
   "outputs": [],
   "source": []
  },
  {
   "cell_type": "code",
   "execution_count": null,
   "id": "37ea6bd1-4e80-4cf1-ac43-06aba0a542aa",
   "metadata": {},
   "outputs": [],
   "source": [
    "plnr = itstgcn.planner.PLNR_STGCN_RAND(plans_stgcn_rand,loader10,dataset_name='monte')\n",
    "plnr.simulate()"
   ]
  },
  {
   "cell_type": "code",
   "execution_count": null,
   "id": "747de30e-a69b-45e5-aac2-3ba6afbe524a",
   "metadata": {},
   "outputs": [],
   "source": []
  },
  {
   "cell_type": "code",
   "execution_count": null,
   "id": "699aefcf-488a-42ed-bffd-0bc834d41e32",
   "metadata": {},
   "outputs": [],
   "source": []
  },
  {
   "cell_type": "code",
   "execution_count": null,
   "id": "c1da0751-f954-4ac1-b4ff-07c12fbc448d",
   "metadata": {},
   "outputs": [],
   "source": []
  },
  {
   "cell_type": "markdown",
   "id": "60bdffed-7236-4c53-9749-f28e161b5c0c",
   "metadata": {
    "tags": []
   },
   "source": [
    "## PLNR_STGCN_MANUAL"
   ]
  },
  {
   "cell_type": "code",
   "execution_count": null,
   "id": "895d2b4f-c105-4424-bdea-7c4c5f37f623",
   "metadata": {},
   "outputs": [],
   "source": [
    "my_list = [[] for _ in range(20)] #chickenpox\n",
    "another_list = list(range(100,200))\n",
    "my_list[10] = another_list\n",
    "mindex = my_list"
   ]
  },
  {
   "cell_type": "code",
   "execution_count": null,
   "id": "d927dc0a-b2be-4cdd-9f69-559a03799785",
   "metadata": {},
   "outputs": [],
   "source": [
    "my_list = [[] for _ in range(15)] #pedalme\n",
    "another_list = list(range(5,25))\n",
    "my_list[1] = another_list\n",
    "my_list[3] = another_list\n",
    "my_list[5] = another_list\n",
    "my_list[7] = another_list\n",
    "my_list[9] = another_list\n",
    "my_list[11] = another_list\n",
    "mindex = my_list"
   ]
  },
  {
   "cell_type": "code",
   "execution_count": null,
   "id": "63ddd599-6598-4239-948c-70020be19786",
   "metadata": {},
   "outputs": [],
   "source": [
    "my_list = [[] for _ in range(1068)] #wikimath\n",
    "another_list = list(range(200,500))\n",
    "my_list[10] = another_list\n",
    "mindex = my_list"
   ]
  },
  {
   "cell_type": "code",
   "execution_count": null,
   "id": "1bab08c1-d61e-427c-ae42-61ee810bf250",
   "metadata": {},
   "outputs": [],
   "source": [
    "my_list = [[] for _ in range(26)] #windmilmedi\n",
    "another_list = list(range(200,500)) # 676*0.8 = 540.8\n",
    "my_list[10] = another_list\n",
    "mindex = my_list"
   ]
  },
  {
   "cell_type": "code",
   "execution_count": null,
   "id": "11f55183-252d-43ae-9bba-19b973c52b16",
   "metadata": {},
   "outputs": [],
   "source": [
    "import numpy as np"
   ]
  },
  {
   "cell_type": "code",
   "execution_count": null,
   "id": "5e928c14-4b70-4abc-a141-a49a3f34f6ce",
   "metadata": {},
   "outputs": [],
   "source": [
    "import random"
   ]
  },
  {
   "cell_type": "code",
   "execution_count": null,
   "id": "5fd05525-cae5-44b3-84da-6d8da4ba1ac6",
   "metadata": {},
   "outputs": [],
   "source": [
    "my_list = [[] for _ in range(675)] #monte\n",
    "another_list = list(range(200,350)) #743\n",
    "\n",
    "for i in np.array(random.sample(range(0, 675), 400)):\n",
    "    my_list[i] = another_list\n",
    "mindex = my_list"
   ]
  },
  {
   "cell_type": "code",
   "execution_count": null,
   "id": "92b0592c-52b5-42cd-9838-f7d5a5e75ee7",
   "metadata": {},
   "outputs": [],
   "source": []
  },
  {
   "cell_type": "code",
   "execution_count": 35,
   "id": "25ff57c9-c2bf-4d08-bb5f-dad81da259be",
   "metadata": {},
   "outputs": [],
   "source": [
    "# mindex= [[],[],[],list(range(50,150)),[]]  # node 1\n",
    "# mindex= [list(range(10,100)),[],list(range(50,80)),[],[]] # node 2\n",
    "# mindex= [list(range(10,100)),[],list(range(50,80)),list(range(50,150)),[]] # node3\n",
    "plans_stgcn_block = {\n",
    "    'max_iteration': 30, \n",
    "    'method': ['STGCN', 'IT-STGCN'], \n",
    "    'mindex': [mindex],\n",
    "    'lags': [8], \n",
    "    'nof_filters': [12], \n",
    "    'inter_method': ['linear'],\n",
    "    'epoch': [50]\n",
    "}"
   ]
  },
  {
   "cell_type": "code",
   "execution_count": null,
   "id": "07b14fc5-fd9a-44da-93e7-9232e2bc1459",
   "metadata": {},
   "outputs": [],
   "source": [
    "plnr = itstgcnadd.planner.PLNR_STGCN_MANUAL(plans_stgcn_block,loader,dataset_name='fivenodes')\n",
    "plnr.simulate(mindex=mindex,mtype='block')"
   ]
  },
  {
   "cell_type": "code",
   "execution_count": null,
   "id": "a047bcd3-96a3-49d6-a8a7-4a998b6c183b",
   "metadata": {},
   "outputs": [],
   "source": [
    "plnr = itstgcn.planner.PLNR_STGCN_MANUAL(plans_stgcn_block,loader1,dataset_name='chickenpox')\n",
    "plnr.simulate(mindex=mindex,mtype='block')"
   ]
  },
  {
   "cell_type": "code",
   "execution_count": null,
   "id": "c68e5fda-fcac-419f-a42a-f902e72996a7",
   "metadata": {},
   "outputs": [],
   "source": [
    "plnr = itstgcn.planner.PLNR_STGCN_MANUAL(plans_stgcn_block,loader2,dataset_name='pedalme')\n",
    "plnr.simulate(mindex=mindex,mtype='block')"
   ]
  },
  {
   "cell_type": "code",
   "execution_count": null,
   "id": "0924b0f7-8325-409a-9b3e-cade849d8760",
   "metadata": {},
   "outputs": [],
   "source": [
    "plnr = itstgcn.planner.PLNR_STGCN_MANUAL(plans_stgcn_block,loader3,dataset_name='wikimath')\n",
    "plnr.simulate(mindex=mindex,mtype='block')"
   ]
  },
  {
   "cell_type": "code",
   "execution_count": null,
   "id": "b2a5f9d9-3360-4cce-b6df-b35a3871b554",
   "metadata": {},
   "outputs": [],
   "source": [
    "plnr = itstgcn.planner.PLNR_STGCN_MANUAL(plans_stgcn_block,loader5,dataset_name='windmiloutputmedium')\n",
    "plnr.simulate(mindex=mindex,mtype='block')"
   ]
  },
  {
   "cell_type": "code",
   "execution_count": null,
   "id": "b4390169-dbe3-4b69-8b44-446f751fcff8",
   "metadata": {},
   "outputs": [],
   "source": []
  },
  {
   "cell_type": "code",
   "execution_count": null,
   "id": "d28e44b3-8d96-4271-bbc3-118a2ecd7033",
   "metadata": {},
   "outputs": [],
   "source": [
    "my_list = [[] for _ in range(11)] #windmilsmall\n",
    "another_list = list(range(5000,7500)) # 17470*0.8 = 13976.0\n",
    "my_list[1] = another_list\n",
    "my_list[3] = another_list\n",
    "my_list[5] = another_list\n",
    "my_list[7] = another_list\n",
    "my_list[9] = another_list\n",
    "mindex = my_list"
   ]
  },
  {
   "cell_type": "code",
   "execution_count": null,
   "id": "158b55be-1aa2-4c20-987d-b1e63a521993",
   "metadata": {},
   "outputs": [],
   "source": [
    "# mindex= [[],[],[],list(range(50,150)),[]]  # node 1\n",
    "# mindex= [list(range(10,100)),[],list(range(50,80)),[],[]] # node 2\n",
    "# mindex= [list(range(10,100)),[],list(range(50,80)),list(range(50,150)),[]] # node3\n",
    "plans_stgcn_block = {\n",
    "    'max_iteration': 30, \n",
    "    'method': ['STGCN', 'IT-STGCN'], \n",
    "    'mindex': [mindex],\n",
    "    'lags': [8], \n",
    "    'nof_filters': [12], \n",
    "    'inter_method': ['linear'],\n",
    "    'epoch': [50]\n",
    "}"
   ]
  },
  {
   "cell_type": "code",
   "execution_count": null,
   "id": "6b7a6295-d307-412d-89db-52275479d366",
   "metadata": {},
   "outputs": [],
   "source": [
    "plnr = itstgcn.planner.PLNR_STGCN_MANUAL(plans_stgcn_block,loader6,dataset_name='windmiloutputsmall')\n",
    "plnr.simulate(mindex=mindex,mtype='block')"
   ]
  },
  {
   "cell_type": "code",
   "execution_count": null,
   "id": "c9180129-6872-49cb-9eae-073c07775b26",
   "metadata": {},
   "outputs": [],
   "source": [
    "plnr = itstgcn.planner.PLNR_STGCN_MANUAL(plans_stgcn_block,loader6,dataset_name='windmiloutputsmall')\n",
    "plnr.simulate(mindex=mindex,mtype='block')"
   ]
  },
  {
   "cell_type": "code",
   "execution_count": null,
   "id": "b89df7a5-5186-452c-a1e1-bd121780869e",
   "metadata": {},
   "outputs": [],
   "source": [
    "plnr = itstgcn.planner.PLNR_STGCN_MANUAL(plans_stgcn_block,loader6,dataset_name='windmiloutputsmall')\n",
    "plnr.simulate(mindex=mindex,mtype='block')"
   ]
  },
  {
   "cell_type": "code",
   "execution_count": null,
   "id": "490d2ff6-a0d5-4c95-b874-e934af98b13f",
   "metadata": {},
   "outputs": [],
   "source": [
    "plnr = itstgcn.planner.PLNR_STGCN_MANUAL(plans_stgcn_block,loader6,dataset_name='windmiloutputsmall')\n",
    "plnr.simulate(mindex=mindex,mtype='block')"
   ]
  },
  {
   "cell_type": "code",
   "execution_count": null,
   "id": "d827c157-9964-4178-b15a-740c21c10ef7",
   "metadata": {},
   "outputs": [],
   "source": [
    "plnr = itstgcn.planner.PLNR_STGCN_MANUAL(plans_stgcn_block,loader6,dataset_name='windmiloutputsmall')\n",
    "plnr.simulate(mindex=mindex,mtype='block')"
   ]
  },
  {
   "cell_type": "code",
   "execution_count": null,
   "id": "1bf409b2-60b1-4ef7-a50e-51a8edc64321",
   "metadata": {},
   "outputs": [],
   "source": [
    "plnr = itstgcn.planner.PLNR_STGCN_MANUAL(plans_stgcn_block,loader6,dataset_name='windmiloutputsmall')\n",
    "plnr.simulate(mindex=mindex,mtype='block')"
   ]
  },
  {
   "cell_type": "code",
   "execution_count": null,
   "id": "260c2646-d686-4ca6-8b43-5049f18985fb",
   "metadata": {},
   "outputs": [],
   "source": [
    "plnr = itstgcn.planner.PLNR_STGCN_MANUAL(plans_stgcn_block,loader6,dataset_name='windmiloutputsmall')\n",
    "plnr.simulate(mindex=mindex,mtype='block')"
   ]
  },
  {
   "cell_type": "code",
   "execution_count": null,
   "id": "427d4693-5c20-4b0a-baf3-297d91f6426c",
   "metadata": {},
   "outputs": [],
   "source": [
    "plnr = itstgcn.planner.PLNR_STGCN_MANUAL(plans_stgcn_block,loader6,dataset_name='windmiloutputsmall')\n",
    "plnr.simulate(mindex=mindex,mtype='block')"
   ]
  },
  {
   "cell_type": "code",
   "execution_count": null,
   "id": "bf55063c-218e-4e24-a1d7-b93a77af164f",
   "metadata": {},
   "outputs": [],
   "source": [
    "plnr = itstgcn.planner.PLNR_STGCN_MANUAL(plans_stgcn_block,loader6,dataset_name='windmiloutputsmall')\n",
    "plnr.simulate(mindex=mindex,mtype='block')"
   ]
  },
  {
   "cell_type": "code",
   "execution_count": null,
   "id": "6dc279f8-bf32-4ce1-b270-3be71d153eb1",
   "metadata": {},
   "outputs": [],
   "source": [
    "plnr = itstgcn.planner.PLNR_STGCN_MANUAL(plans_stgcn_block,loader6,dataset_name='windmiloutputsmall')\n",
    "plnr.simulate(mindex=mindex,mtype='block')"
   ]
  },
  {
   "cell_type": "code",
   "execution_count": null,
   "id": "484cf0bf-475f-4c57-a00c-1d4340a8d354",
   "metadata": {},
   "outputs": [],
   "source": [
    "plnr = itstgcn.planner.PLNR_STGCN_MANUAL(plans_stgcn_block,loader6,dataset_name='windmiloutputsmall')\n",
    "plnr.simulate(mindex=mindex,mtype='block')"
   ]
  },
  {
   "cell_type": "code",
   "execution_count": null,
   "id": "35986bd3-d25d-4614-a858-5858a452faa8",
   "metadata": {},
   "outputs": [],
   "source": [
    "plnr = itstgcn.planner.PLNR_STGCN_MANUAL(plans_stgcn_block,loader6,dataset_name='windmiloutputsmall')\n",
    "plnr.simulate(mindex=mindex,mtype='block')"
   ]
  },
  {
   "cell_type": "code",
   "execution_count": null,
   "id": "1ba1261f-173d-4a74-aaea-37ad76805bc7",
   "metadata": {},
   "outputs": [],
   "source": [
    "plnr = itstgcn.planner.PLNR_STGCN_MANUAL(plans_stgcn_block,loader6,dataset_name='windmiloutputsmall')\n",
    "plnr.simulate(mindex=mindex,mtype='block')"
   ]
  },
  {
   "cell_type": "code",
   "execution_count": null,
   "id": "c6b8234a-837c-4309-adf8-edc6adbdbee1",
   "metadata": {},
   "outputs": [],
   "source": [
    "plnr = itstgcn.planner.PLNR_STGCN_MANUAL(plans_stgcn_block,loader6,dataset_name='windmiloutputsmall')\n",
    "plnr.simulate(mindex=mindex,mtype='block')"
   ]
  },
  {
   "cell_type": "code",
   "execution_count": null,
   "id": "3e2db2b1-c5fc-453d-8808-5b0ba96ec9e3",
   "metadata": {},
   "outputs": [],
   "source": [
    "plnr = itstgcn.planner.PLNR_STGCN_MANUAL(plans_stgcn_block,loader6,dataset_name='windmiloutputsmall')\n",
    "plnr.simulate(mindex=mindex,mtype='block')"
   ]
  },
  {
   "cell_type": "code",
   "execution_count": null,
   "id": "1a5ba5ba-99b1-458c-92ad-aa8b1a4eb64e",
   "metadata": {},
   "outputs": [],
   "source": [
    "plnr = itstgcn.planner.PLNR_STGCN_MANUAL(plans_stgcn_block,loader6,dataset_name='windmiloutputsmall')\n",
    "plnr.simulate(mindex=mindex,mtype='block')"
   ]
  },
  {
   "cell_type": "code",
   "execution_count": null,
   "id": "8c976095-8816-499d-a457-ed11f397bad7",
   "metadata": {},
   "outputs": [],
   "source": [
    "plnr = itstgcn.planner.PLNR_STGCN_MANUAL(plans_stgcn_block,loader6,dataset_name='windmiloutputsmall')\n",
    "plnr.simulate(mindex=mindex,mtype='block')"
   ]
  },
  {
   "cell_type": "code",
   "execution_count": null,
   "id": "f182576e-3257-4055-b1a9-836b8b067ac8",
   "metadata": {},
   "outputs": [],
   "source": [
    "plnr = itstgcn.planner.PLNR_STGCN_MANUAL(plans_stgcn_block,loader6,dataset_name='windmiloutputsmall')\n",
    "plnr.simulate(mindex=mindex,mtype='block')"
   ]
  },
  {
   "cell_type": "code",
   "execution_count": null,
   "id": "383693ab-a299-4f8c-a0c3-cc06144da2e6",
   "metadata": {},
   "outputs": [],
   "source": [
    "plnr = itstgcn.planner.PLNR_STGCN_MANUAL(plans_stgcn_block,loader6,dataset_name='windmiloutputsmall')\n",
    "plnr.simulate(mindex=mindex,mtype='block')"
   ]
  },
  {
   "cell_type": "code",
   "execution_count": null,
   "id": "ee1e8ffe-c02b-40e9-aeed-230bd64ed907",
   "metadata": {},
   "outputs": [],
   "source": [
    "plnr = itstgcn.planner.PLNR_STGCN_MANUAL(plans_stgcn_block,loader6,dataset_name='windmiloutputsmall')\n",
    "plnr.simulate(mindex=mindex,mtype='block')"
   ]
  },
  {
   "cell_type": "code",
   "execution_count": null,
   "id": "064e0d50-f381-4dcd-8b0a-f553a3a53aa2",
   "metadata": {},
   "outputs": [],
   "source": [
    "plnr = itstgcn.planner.PLNR_STGCN_MANUAL(plans_stgcn_block,loader6,dataset_name='windmiloutputsmall')\n",
    "plnr.simulate(mindex=mindex,mtype='block')"
   ]
  },
  {
   "cell_type": "code",
   "execution_count": null,
   "id": "c19deed2-ce9e-4f21-ab7b-84a985481100",
   "metadata": {},
   "outputs": [],
   "source": [
    "plnr = itstgcn.planner.PLNR_STGCN_MANUAL(plans_stgcn_block,loader6,dataset_name='windmiloutputsmall')\n",
    "plnr.simulate(mindex=mindex,mtype='block')"
   ]
  },
  {
   "cell_type": "code",
   "execution_count": null,
   "id": "0b52b109-bec7-4b47-82f1-962e8eac6989",
   "metadata": {},
   "outputs": [],
   "source": [
    "plnr = itstgcn.planner.PLNR_STGCN_MANUAL(plans_stgcn_block,loader6,dataset_name='windmiloutputsmall')\n",
    "plnr.simulate(mindex=mindex,mtype='block')"
   ]
  },
  {
   "cell_type": "code",
   "execution_count": null,
   "id": "dbb743ac-18ff-4af9-9b21-24968e974918",
   "metadata": {},
   "outputs": [],
   "source": [
    "plnr = itstgcn.planner.PLNR_STGCN_MANUAL(plans_stgcn_block,loader6,dataset_name='windmiloutputsmall')\n",
    "plnr.simulate(mindex=mindex,mtype='block')"
   ]
  },
  {
   "cell_type": "code",
   "execution_count": null,
   "id": "517aad87-5f0f-4ee8-b2c9-9b50ff7f839a",
   "metadata": {},
   "outputs": [],
   "source": [
    "plnr = itstgcn.planner.PLNR_STGCN_MANUAL(plans_stgcn_block,loader6,dataset_name='windmiloutputsmall')\n",
    "plnr.simulate(mindex=mindex,mtype='block')"
   ]
  },
  {
   "cell_type": "code",
   "execution_count": null,
   "id": "54220651-599d-4927-8837-9c843ef820a2",
   "metadata": {},
   "outputs": [],
   "source": [
    "plnr = itstgcn.planner.PLNR_STGCN_MANUAL(plans_stgcn_block,loader6,dataset_name='windmiloutputsmall')\n",
    "plnr.simulate(mindex=mindex,mtype='block')"
   ]
  },
  {
   "cell_type": "code",
   "execution_count": null,
   "id": "1d6edb77-594a-4b77-af77-884957f4e168",
   "metadata": {},
   "outputs": [],
   "source": [
    "plnr = itstgcn.planner.PLNR_STGCN_MANUAL(plans_stgcn_block,loader6,dataset_name='windmiloutputsmall')\n",
    "plnr.simulate(mindex=mindex,mtype='block')"
   ]
  },
  {
   "cell_type": "code",
   "execution_count": null,
   "id": "c8437d00-cb85-4e4f-8f34-a0ffcc1ea3c4",
   "metadata": {},
   "outputs": [],
   "source": [
    "plnr = itstgcn.planner.PLNR_STGCN_MANUAL(plans_stgcn_block,loader6,dataset_name='windmiloutputsmall')\n",
    "plnr.simulate(mindex=mindex,mtype='block')"
   ]
  },
  {
   "cell_type": "code",
   "execution_count": null,
   "id": "e1c7eb66-a4da-4e48-84d5-fb9d9092c217",
   "metadata": {},
   "outputs": [],
   "source": [
    "plnr = itstgcn.planner.PLNR_STGCN_MANUAL(plans_stgcn_block,loader6,dataset_name='windmiloutputsmall')\n",
    "plnr.simulate(mindex=mindex,mtype='block')"
   ]
  },
  {
   "cell_type": "code",
   "execution_count": null,
   "id": "6c94f199-e2e1-4c3a-a01b-da6023f3be8e",
   "metadata": {},
   "outputs": [],
   "source": [
    "plnr = itstgcn.planner.PLNR_STGCN_MANUAL(plans_stgcn_block,loader6,dataset_name='windmiloutputsmall')\n",
    "plnr.simulate(mindex=mindex,mtype='block')"
   ]
  },
  {
   "cell_type": "code",
   "execution_count": null,
   "id": "a11c8579-21cc-45dc-b15c-714bc2034916",
   "metadata": {},
   "outputs": [],
   "source": []
  },
  {
   "cell_type": "code",
   "execution_count": null,
   "id": "1648a435-3a61-43d9-b655-4e2026ea32fa",
   "metadata": {},
   "outputs": [],
   "source": []
  },
  {
   "cell_type": "code",
   "execution_count": null,
   "id": "45f334c5-12e0-494f-aeb2-af68304c34c5",
   "metadata": {},
   "outputs": [],
   "source": [
    "plnr = itstgcn.planner.PLNR_STGCN_MANUAL(plans_stgcn_block,loader10,dataset_name='monte')\n",
    "plnr.simulate(mindex=mindex,mtype='block')"
   ]
  },
  {
   "cell_type": "code",
   "execution_count": null,
   "id": "4521d84c-b67c-4936-9825-f69894348740",
   "metadata": {},
   "outputs": [],
   "source": []
  },
  {
   "cell_type": "code",
   "execution_count": null,
   "id": "ca79b1ef-c58a-4aef-a129-8fbc714775ef",
   "metadata": {},
   "outputs": [],
   "source": []
  },
  {
   "cell_type": "code",
   "execution_count": null,
   "id": "74bc77ad-a781-41f2-8708-fd4a9ff3907a",
   "metadata": {},
   "outputs": [],
   "source": []
  },
  {
   "cell_type": "code",
   "execution_count": null,
   "id": "675ff5d1-aada-4fc3-be97-3665bf50a61d",
   "metadata": {},
   "outputs": [],
   "source": [
    "import random"
   ]
  },
  {
   "cell_type": "code",
   "execution_count": null,
   "id": "773d794f-1e12-4ddc-985d-c6f051844c07",
   "metadata": {},
   "outputs": [],
   "source": [
    "my_list = [[] for _ in range(1068)] #wikimath\n",
    "another_list = random.sample(range(0, 576), 432)\n",
    "for i in range(0, 1068):\n",
    "    my_list[i] = another_list\n",
    "mindex = my_list"
   ]
  },
  {
   "cell_type": "code",
   "execution_count": null,
   "id": "749d2b64-ecbd-434b-9c7a-af0788e4a1b7",
   "metadata": {},
   "outputs": [],
   "source": [
    "# mindex= [[],[],[],list(range(50,150)),[]]  # node 1\n",
    "# mindex= [list(range(10,100)),[],list(range(50,80)),[],[]] # node 2\n",
    "# mindex= [list(range(10,100)),[],list(range(50,80)),list(range(50,150)),[]] # node3\n",
    "plans_stgcn_block = {\n",
    "    'max_iteration': 10, \n",
    "    'method': ['STGCN', 'IT-STGCN'], \n",
    "    'mindex': [mindex],\n",
    "    'lags': [4], \n",
    "    'nof_filters': [12], \n",
    "    'inter_method': ['nearest','linear'],\n",
    "    'epoch': [50]\n",
    "}"
   ]
  },
  {
   "cell_type": "code",
   "execution_count": null,
   "id": "096cddfb-0aec-4cd0-b359-bae97eebe777",
   "metadata": {},
   "outputs": [],
   "source": [
    "plnr = itstgcn.planner.PLNR_STGCN_MANUAL(plans_stgcn_block,loader3,dataset_name='wikimath')\n",
    "plnr.simulate(mindex=mindex,mtype='block')"
   ]
  },
  {
   "cell_type": "code",
   "execution_count": null,
   "id": "8d3eed56-75ad-4053-ab6f-065581a1c467",
   "metadata": {},
   "outputs": [],
   "source": [
    "# mindex= [[],[],[],list(range(50,150)),[]]  # node 1\n",
    "# mindex= [list(range(10,100)),[],list(range(50,80)),[],[]] # node 2\n",
    "# mindex= [list(range(10,100)),[],list(range(50,80)),list(range(50,150)),[]] # node3\n",
    "plans_stgcn_block = {\n",
    "    'max_iteration': 10, \n",
    "    'method': ['STGCN', 'IT-STGCN'], \n",
    "    'mindex': [mindex],\n",
    "    'lags': [4], \n",
    "    'nof_filters': [12], \n",
    "    'inter_method': ['nearest','linear'],\n",
    "    'epoch': [50]\n",
    "}"
   ]
  },
  {
   "cell_type": "code",
   "execution_count": null,
   "id": "4229982f-4df4-4bc2-9d39-82f5c5753465",
   "metadata": {},
   "outputs": [],
   "source": [
    "plnr = itstgcn.planner.PLNR_STGCN_MANUAL(plans_stgcn_block,loader3,dataset_name='wikimath')\n",
    "plnr.simulate(mindex=mindex,mtype='block')"
   ]
  },
  {
   "cell_type": "code",
   "execution_count": null,
   "id": "a58726a6-de20-467f-ba80-54eef401b5a4",
   "metadata": {},
   "outputs": [],
   "source": [
    "# mindex= [[],[],[],list(range(50,150)),[]]  # node 1\n",
    "# mindex= [list(range(10,100)),[],list(range(50,80)),[],[]] # node 2\n",
    "# mindex= [list(range(10,100)),[],list(range(50,80)),list(range(50,150)),[]] # node3\n",
    "plans_stgcn_block = {\n",
    "    'max_iteration': 10, \n",
    "    'method': ['STGCN', 'IT-STGCN'], \n",
    "    'mindex': [mindex],\n",
    "    'lags': [4], \n",
    "    'nof_filters': [12], \n",
    "    'inter_method': ['nearest','linear'],\n",
    "    'epoch': [50]\n",
    "}"
   ]
  },
  {
   "cell_type": "code",
   "execution_count": null,
   "id": "b0cb1d45-e8a0-4be3-b18a-3fd620a1f09d",
   "metadata": {},
   "outputs": [],
   "source": [
    "plnr = itstgcn.planner.PLNR_STGCN_MANUAL(plans_stgcn_block,loader3,dataset_name='wikimath')\n",
    "plnr.simulate(mindex=mindex,mtype='block')"
   ]
  },
  {
   "cell_type": "code",
   "execution_count": null,
   "id": "0df2a57b-e469-43fc-b845-39c8b7fa9cf5",
   "metadata": {},
   "outputs": [],
   "source": []
  },
  {
   "cell_type": "code",
   "execution_count": null,
   "id": "c87bbc31-41fb-4428-a42b-04eb1fa07a17",
   "metadata": {},
   "outputs": [],
   "source": []
  },
  {
   "cell_type": "code",
   "execution_count": null,
   "id": "181bc92d-04cd-46a3-a356-1db00efbc42f",
   "metadata": {},
   "outputs": [],
   "source": []
  },
  {
   "cell_type": "code",
   "execution_count": null,
   "id": "139739b6-0e9f-4c08-bf91-7aa579f009b8",
   "metadata": {},
   "outputs": [],
   "source": []
  },
  {
   "cell_type": "markdown",
   "id": "78d4a03e-ee3e-4395-917a-a3a670a48f2e",
   "metadata": {
    "tags": []
   },
   "source": [
    "## PLNR_GNAR_RAND"
   ]
  },
  {
   "cell_type": "code",
   "execution_count": null,
   "id": "5bb50c50-5323-43a1-9b47-2bbbac309b05",
   "metadata": {},
   "outputs": [],
   "source": [
    "plans_gnar_rand = {\n",
    "    'max_iteration': 30, \n",
    "#    'method': ['GNAR'], \n",
    "    'mrate': [0.8, 0.9],\n",
    "    'lags': [4], \n",
    "#    'nof_filters': [8,16], \n",
    "    'inter_method': ['cubic','linear'],\n",
    "#    'epoch': [1]\n",
    "}"
   ]
  },
  {
   "cell_type": "code",
   "execution_count": null,
   "id": "94728999-3fdd-46c7-9319-c611f74cdb1d",
   "metadata": {},
   "outputs": [],
   "source": [
    "plnr = itstgcn.planner.PLNR_GNAR_RAND(plans_gnar_rand,loader1,dataset_name='chickenpox')\n",
    "plnr.simulate()"
   ]
  },
  {
   "cell_type": "code",
   "execution_count": null,
   "id": "7ee78656-807e-43a1-9c0b-78fd70c47cf6",
   "metadata": {},
   "outputs": [],
   "source": [
    "plnr = itstgcn.planner.PLNR_GNAR_RAND(plans_gnar_rand,loader2,dataset_name='pedalme')\n",
    "plnr.simulate()"
   ]
  },
  {
   "cell_type": "code",
   "execution_count": null,
   "id": "8ff41ed2-4947-49a6-9df5-52a1d6f119a9",
   "metadata": {},
   "outputs": [],
   "source": [
    "plnr = itstgcn.planner.PLNR_GNAR_RAND(plans_gnar_rand,loader3,dataset_name='wikimath')\n",
    "plnr.simulate()"
   ]
  },
  {
   "cell_type": "code",
   "execution_count": null,
   "id": "6d5efad3-776e-4731-a28b-3e558467796c",
   "metadata": {},
   "outputs": [],
   "source": [
    "plnr = itstgcn.planner.PLNR_GNAR_RAND(plans_gnar_rand,loader5,dataset_name='windmiloutputmedium')\n",
    "plnr.simulate()"
   ]
  },
  {
   "cell_type": "code",
   "execution_count": null,
   "id": "39e28c3a-27c4-4607-8971-41064dc9d568",
   "metadata": {},
   "outputs": [],
   "source": [
    "plnr = itstgcn.planner.PLNR_GNAR_RAND(plans_gnar_rand,loader6,dataset_name='windmiloutputsmall')\n",
    "plnr.simulate()"
   ]
  },
  {
   "cell_type": "code",
   "execution_count": null,
   "id": "479c0543-5f69-450c-a16b-fa478ce9a973",
   "metadata": {},
   "outputs": [],
   "source": []
  },
  {
   "cell_type": "markdown",
   "id": "f1c4fc60-b552-4cb0-990d-40ab420d2188",
   "metadata": {},
   "source": [
    "## PLNR_GNAR_BLOCK"
   ]
  },
  {
   "cell_type": "code",
   "execution_count": null,
   "id": "9393b9fd-46ec-4c14-ab69-ed0814cbacca",
   "metadata": {},
   "outputs": [],
   "source": [
    "my_list = [[] for _ in range(20)] #chickenpox\n",
    "another_list = list(range(100,200))\n",
    "my_list[10] = another_list\n",
    "mindex = my_list"
   ]
  },
  {
   "cell_type": "code",
   "execution_count": null,
   "id": "cd5b91d6-d78b-438e-a66a-a823da796999",
   "metadata": {},
   "outputs": [],
   "source": [
    "my_list = [[] for _ in range(15)] #pedalme\n",
    "another_list = list(range(5,25))\n",
    "my_list[1] = another_list\n",
    "my_list[3] = another_list\n",
    "my_list[5] = another_list\n",
    "my_list[7] = another_list\n",
    "my_list[9] = another_list\n",
    "my_list[11] = another_list\n",
    "mindex = my_list"
   ]
  },
  {
   "cell_type": "code",
   "execution_count": null,
   "id": "2c1b2f22-a877-4b11-975d-7cc96c8e5097",
   "metadata": {},
   "outputs": [],
   "source": [
    "my_list = [[] for _ in range(1068)] #wikimath\n",
    "another_list = list(range(10,20))\n",
    "my_list[10] = another_list\n",
    "mindex = my_list"
   ]
  },
  {
   "cell_type": "code",
   "execution_count": null,
   "id": "993bd637-93be-4d76-ba50-cedba674de88",
   "metadata": {},
   "outputs": [],
   "source": [
    "my_list = [[] for _ in range(26)] #windmilmedi\n",
    "another_list = list(range(200,500)) # 676*0.8 = 540.8\n",
    "my_list[10] = another_list\n",
    "mindex = my_list"
   ]
  },
  {
   "cell_type": "code",
   "execution_count": null,
   "id": "c489cea8-54db-4480-bd73-68c66ec6a5ee",
   "metadata": {},
   "outputs": [],
   "source": [
    "my_list = [[] for _ in range(11)] #windmilsmall\n",
    "another_list = list(range(5000,10000)) # 17470*0.8 = 13976.0\n",
    "my_list[10] = another_list\n",
    "mindex = my_list"
   ]
  },
  {
   "cell_type": "code",
   "execution_count": null,
   "id": "9fabf21d-d386-481e-bec8-bbd9be20074a",
   "metadata": {},
   "outputs": [],
   "source": [
    "my_list = [[] for _ in range(675)] #monte\n",
    "another_list = list(range(200,350)) #743\n",
    "\n",
    "for i in np.array(random.sample(range(0, 675), 400)):\n",
    "    my_list[i] = another_list\n",
    "mindex = my_list"
   ]
  },
  {
   "cell_type": "code",
   "execution_count": null,
   "id": "f18eaef3-c133-4950-9b89-93bb32b17681",
   "metadata": {},
   "outputs": [],
   "source": [
    "# mindex = [[],[],list(range(50,250)),[],[]]\n",
    "# mindex = [list(range(10,100)),[],list(range(50,80)),[],[]]\n",
    "# mindex= [list(range(10,100)),[],list(range(50,80)),list(range(50,150)),[]]\n",
    "plans_gnar_block = {\n",
    "    'max_iteration': 3, \n",
    "    'method': ['GNAR'], \n",
    "    'mindex': [mindex],\n",
    "    'lags': [4,8], \n",
    "    'inter_method': ['linear'],\n",
    "}"
   ]
  },
  {
   "cell_type": "code",
   "execution_count": null,
   "id": "1c82347a-cc2c-4c75-a119-294cba428088",
   "metadata": {},
   "outputs": [],
   "source": [
    "plnr = itstgcn.planner.PLNR_GNAR_MANUAL(plans_gnar_block,loader1,dataset_name='chickenpox')\n",
    "plnr.simulate(mindex,mtype='block')"
   ]
  },
  {
   "cell_type": "code",
   "execution_count": null,
   "id": "7b54e0e2-61f8-46fd-a387-f939af28dba8",
   "metadata": {},
   "outputs": [],
   "source": [
    "plnr = itstgcn.planner.PLNR_GNAR_MANUAL(plans_gnar_block,loader2,dataset_name='pedalme')\n",
    "plnr.simulate(mindex,mtype='block')"
   ]
  },
  {
   "cell_type": "code",
   "execution_count": null,
   "id": "b2e6fb3d-67c9-4d86-a464-d31ab64f88ea",
   "metadata": {},
   "outputs": [],
   "source": [
    "# mindex = [[],[],list(range(50,250)),[],[]]\n",
    "# mindex = [list(range(10,100)),[],list(range(50,80)),[],[]]\n",
    "# mindex= [list(range(10,100)),[],list(range(50,80)),list(range(50,150)),[]]\n",
    "plans_gnar_block = {\n",
    "    'max_iteration': 3, \n",
    "    'method': ['GNAR'], \n",
    "    'mindex': [mindex],\n",
    "    'lags': [8], \n",
    "    'inter_method': ['linear'],\n",
    "}"
   ]
  },
  {
   "cell_type": "code",
   "execution_count": null,
   "id": "079bb2bf-5beb-4f11-a9f3-3ac697e47e5b",
   "metadata": {},
   "outputs": [],
   "source": [
    "plnr = itstgcn.planner.PLNR_GNAR_MANUAL(plans_gnar_block,loader3,dataset_name='wikimath')\n",
    "plnr.simulate(mindex,mtype='block')"
   ]
  },
  {
   "cell_type": "code",
   "execution_count": null,
   "id": "f1d12b32-e6ed-4eab-8c5c-c342367fe14f",
   "metadata": {},
   "outputs": [],
   "source": [
    "plnr = itstgcn.planner.PLNR_GNAR_MANUAL(plans_gnar_block,loader5,dataset_name='windmiloutputmedium')\n",
    "plnr.simulate(mindex,mtype='block')"
   ]
  },
  {
   "cell_type": "code",
   "execution_count": null,
   "id": "7924e4eb-6593-42e5-b33d-41dd32f98e62",
   "metadata": {},
   "outputs": [],
   "source": [
    "plnr = itstgcn.planner.PLNR_GNAR_MANUAL(plans_gnar_block,loader6,dataset_name='windmiloutputsmall')\n",
    "plnr.simulate(mindex,mtype='block')"
   ]
  },
  {
   "cell_type": "code",
   "execution_count": null,
   "id": "6d452166-b361-401c-808c-a4d4636dfe39",
   "metadata": {},
   "outputs": [],
   "source": [
    "plnr = itstgcn.planner.PLNR_GNAR_MANUAL(plans_gnar_block,loader10,dataset_name='monte')\n",
    "plnr.simulate(mindex,mtype='block')"
   ]
  },
  {
   "cell_type": "markdown",
   "id": "56c3c236-44cd-452e-acbe-ee35be7bdb09",
   "metadata": {},
   "source": []
  }
 ],
 "metadata": {
  "kernelspec": {
   "display_name": "Python 3",
   "language": "python",
   "name": "python3"
  },
  "language_info": {
   "codemirror_mode": {
    "name": "ipython",
    "version": 3
   },
   "file_extension": ".py",
   "mimetype": "text/x-python",
   "name": "python",
   "nbconvert_exporter": "python",
   "pygments_lexer": "ipython3",
   "version": "3.8.0"
  }
 },
 "nbformat": 4,
 "nbformat_minor": 5
}

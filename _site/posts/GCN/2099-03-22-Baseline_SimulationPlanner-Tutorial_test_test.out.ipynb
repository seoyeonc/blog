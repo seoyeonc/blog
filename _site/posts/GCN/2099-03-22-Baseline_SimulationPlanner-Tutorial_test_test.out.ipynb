{
  "cells": [
    {
      "cell_type": "markdown",
      "metadata": {},
      "source": [
        "# SimualtionPlanner-Tutorial\n",
        "\n",
        "SEOYEON CHOI  \n",
        "2023-03-22\n",
        "\n",
        "> table\n",
        "\n",
        "# BASELINE\n",
        "\n",
        "# imports\n",
        "\n",
        "``` r\n",
        "import rpy2\n",
        "import rpy2.robjects as ro \n",
        "from rpy2.robjects.vectors import FloatVector \n",
        "from rpy2.robjects.packages import importr\n",
        "\n",
        "%load_ext rpy2.ipython\n",
        "\n",
        "%%R\n",
        "library(GNAR)\n",
        "library(igraph)\n",
        "```"
      ],
      "id": "30933eb8-95e3-4a15-a2a2-8aa1d7a76d2f"
    },
    {
      "cell_type": "code",
      "execution_count": 1,
      "metadata": {},
      "outputs": [
        {
          "output_type": "stream",
          "name": "stderr",
          "text": [
            "/home/csy/anaconda3/envs/temp_csy/lib/python3.8/site-packages/tqdm/auto.py:22: TqdmWarning: IProgress not found. Please update jupyter and ipywidgets. See https://ipywidgets.readthedocs.io/en/stable/user_install.html\n",
            "  from .autonotebook import tqdm as notebook_tqdm"
          ]
        }
      ],
      "source": [
        "import itstgcnTGCN\n",
        "import torch\n",
        "import itstgcnTGCN.planner "
      ],
      "id": "b0c2e707-a477-4cbd-b8ff-3dd35c65266e"
    },
    {
      "cell_type": "markdown",
      "metadata": {},
      "source": [
        "# read data"
      ],
      "id": "3f0041af-ade8-4978-bc45-3ccde261db0f"
    },
    {
      "cell_type": "code",
      "execution_count": 2,
      "metadata": {},
      "outputs": [],
      "source": [
        "from torch_geometric_temporal.dataset import ChickenpoxDatasetLoader\n",
        "loader1 = ChickenpoxDatasetLoader()"
      ],
      "id": "c3d7127c-26e6-4848-828d-f80f2cf369a4"
    },
    {
      "cell_type": "code",
      "execution_count": 3,
      "metadata": {},
      "outputs": [],
      "source": [
        "from torch_geometric_temporal.dataset import PedalMeDatasetLoader\n",
        "loader2 = PedalMeDatasetLoader()"
      ],
      "id": "21b18310-1cd6-45df-9448-87d8d9c8f310"
    },
    {
      "cell_type": "code",
      "execution_count": 4,
      "metadata": {},
      "outputs": [],
      "source": [
        "from torch_geometric_temporal.dataset import WikiMathsDatasetLoader\n",
        "loader3 = WikiMathsDatasetLoader()"
      ],
      "id": "9ca12e28-59b0-4868-93fb-763b978260ae"
    },
    {
      "cell_type": "code",
      "execution_count": null,
      "metadata": {},
      "outputs": [],
      "source": [
        "from torch_geometric_temporal.dataset import WindmillOutputMediumDatasetLoader\n",
        "loader5 = WindmillOutputMediumDatasetLoader()"
      ],
      "id": "b78b2f8a-3e40-4394-adb4-e8e8a6680d0b"
    },
    {
      "cell_type": "code",
      "execution_count": null,
      "metadata": {},
      "outputs": [],
      "source": [
        "from torch_geometric_temporal.dataset import WindmillOutputSmallDatasetLoader\n",
        "loader6 = WindmillOutputSmallDatasetLoader()"
      ],
      "id": "041393f9-097e-4529-b18a-2639c4cfbae0"
    },
    {
      "cell_type": "code",
      "execution_count": 2,
      "metadata": {},
      "outputs": [],
      "source": [
        "loader6 = itstgcnTGCN.load_data('./data/Windmillsmall.pkl')"
      ],
      "id": "accae8d3-2afd-4483-a363-80f0d15bdddc"
    },
    {
      "cell_type": "code",
      "execution_count": null,
      "metadata": {},
      "outputs": [],
      "source": [
        "from torch_geometric_temporal.dataset import MontevideoBusDatasetLoader\n",
        "loader10 = MontevideoBusDatasetLoader()"
      ],
      "id": "f6c8fb6b-70c4-46a6-bec9-3f080696c3e7"
    },
    {
      "cell_type": "code",
      "execution_count": 11,
      "metadata": {},
      "outputs": [],
      "source": [
        "loader6 = itstgcnGCLSTM.load_data('./data/Windmillsmall.pkl')"
      ],
      "id": "16b7b55a-78fe-4a3b-b378-3f2ba13e6d0e"
    },
    {
      "cell_type": "markdown",
      "metadata": {},
      "source": [
        "## PLNR_STGCN_RAND"
      ],
      "id": "5ce3f433-430f-44f2-99e1-62ed913ec310"
    },
    {
      "cell_type": "code",
      "execution_count": 8,
      "metadata": {},
      "outputs": [],
      "source": [
        "plans_stgcn_rand = {\n",
        "    'max_iteration': 30, \n",
        "    'method': ['STGCN', 'IT-STGCN'],\n",
        "    'mrate': [0,0.3,0.6],\n",
        "    'lags': [4], \n",
        "    'nof_filters': [12], \n",
        "    'inter_method': ['linear','nearest'],\n",
        "    'epoch': [50]\n",
        "}"
      ],
      "id": "c35be09f-1689-44ca-ac60-9fbd9a56910a"
    },
    {
      "cell_type": "code",
      "execution_count": null,
      "metadata": {},
      "outputs": [],
      "source": [
        "plnr = itstgcn.planner.PLNR_STGCN_RAND(plans_stgcn_rand,loader2,dataset_name='pedalme')\n",
        "\n",
        "plnr.simulate()"
      ],
      "id": "1ddc3181-a768-4d24-b386-35285dcd455a"
    },
    {
      "cell_type": "code",
      "execution_count": 10,
      "metadata": {},
      "outputs": [],
      "source": [
        "plans_stgcn_rand = {\n",
        "    'max_iteration': 15, \n",
        "    'method': ['STGCN', 'IT-STGCN'],\n",
        "    'mrate': [0.3],\n",
        "    'lags': [8], \n",
        "    'nof_filters': [12], \n",
        "    'inter_method': ['linear'],\n",
        "    'epoch': [50]\n",
        "}"
      ],
      "id": "eee49500-70df-4bf6-a6ea-e4974f651209"
    },
    {
      "cell_type": "code",
      "execution_count": null,
      "metadata": {},
      "outputs": [
        {
          "output_type": "stream",
          "name": "stdout",
          "text": [
            "1/15 is done\n",
            "2/15 is done\n",
            "3/15 is done\n",
            "4/15 is done\n",
            "5/500"
          ]
        }
      ],
      "source": [
        "plnr = itstgcn.planner.PLNR_STGCN_RAND(plans_stgcn_rand,loader3,dataset_name='wikimath')\n",
        "\n",
        "plnr.simulate()"
      ],
      "id": "45d8b254-7380-4548-a033-b8dfd0d4804b"
    },
    {
      "cell_type": "code",
      "execution_count": null,
      "metadata": {},
      "outputs": [],
      "source": [
        "plnr = itstgcn.planner.PLNR_STGCN_RAND(plans_stgcn_rand,loader3,dataset_name='wikimath')\n",
        "\n",
        "plnr.simulate()"
      ],
      "id": "40456b38-b402-497c-ac8f-20d2a50c685d"
    },
    {
      "cell_type": "code",
      "execution_count": null,
      "metadata": {},
      "outputs": [],
      "source": [
        "plans_stgcn_rand = {\n",
        "    'max_iteration': 15, \n",
        "    'method': ['STGCN', 'IT-STGCN'],\n",
        "    'mrate': [0.8],\n",
        "    'lags': [8], \n",
        "    'nof_filters': [12], \n",
        "    'inter_method': ['linear'],\n",
        "    'epoch': [50]\n",
        "}"
      ],
      "id": "7b202275-1e17-4b74-b38c-4a2315d48ab1"
    },
    {
      "cell_type": "code",
      "execution_count": null,
      "metadata": {},
      "outputs": [],
      "source": [
        "plnr = itstgcn.planner.PLNR_STGCN_RAND(plans_stgcn_rand,loader3,dataset_name='wikimath')\n",
        "\n",
        "plnr.simulate()"
      ],
      "id": "3aa013b9-2b8b-4c90-a13c-4ce74241d1f6"
    },
    {
      "cell_type": "code",
      "execution_count": null,
      "metadata": {},
      "outputs": [],
      "source": [
        "plnr = itstgcn.planner.PLNR_STGCN_RAND(plans_stgcn_rand,loader3,dataset_name='wikimath')\n",
        "\n",
        "plnr.simulate()"
      ],
      "id": "8118f704-bfd5-4ccb-8c3c-c8cb00cb2f60"
    },
    {
      "cell_type": "code",
      "execution_count": null,
      "metadata": {},
      "outputs": [],
      "source": [
        "plans_stgcn_rand = {\n",
        "    'max_iteration': 15, \n",
        "    'method': ['STGCN', 'IT-STGCN'],\n",
        "    'mrate': [0],\n",
        "    'lags': [8], \n",
        "    'nof_filters': [12], \n",
        "    'inter_method': ['linear'],\n",
        "    'epoch': [50]\n",
        "}"
      ],
      "id": "277cfb41-baba-4249-887d-27a87d62ff99"
    },
    {
      "cell_type": "code",
      "execution_count": null,
      "metadata": {},
      "outputs": [],
      "source": [
        "plnr = itstgcn.planner.PLNR_STGCN_RAND(plans_stgcn_rand,loader3,dataset_name='wikimath')\n",
        "\n",
        "plnr.simulate()"
      ],
      "id": "c4cb5293-d16e-4b98-9bb0-aa1d05efa07a"
    },
    {
      "cell_type": "code",
      "execution_count": null,
      "metadata": {},
      "outputs": [],
      "source": [
        "plnr = itstgcn.planner.PLNR_STGCN_RAND(plans_stgcn_rand,loader3,dataset_name='wikimath')\n",
        "\n",
        "plnr.simulate()"
      ],
      "id": "675daf9b-4ec3-4c62-9af9-0cdd4458926c"
    },
    {
      "cell_type": "code",
      "execution_count": 3,
      "metadata": {},
      "outputs": [],
      "source": [
        "plans_stgcn_rand = {\n",
        "    'max_iteration': 1, \n",
        "    'method': ['STGCN', 'IT-STGCN'],\n",
        "    'mrate': [0.7],\n",
        "    'lags': [8], \n",
        "    'nof_filters': [16], \n",
        "    'inter_method': ['linear'],\n",
        "    'epoch': [50]\n",
        "}"
      ],
      "id": "e7b6c2f1-2009-435b-9baf-34b88e72198a"
    },
    {
      "cell_type": "code",
      "execution_count": null,
      "metadata": {},
      "outputs": [
        {
          "output_type": "stream",
          "name": "stderr",
          "text": [
            "/home/csy/Dropbox/blog/posts/GCN/itstgcnGConvLSTM/utils.py:71: UserWarning: Creating a tensor from a list of numpy.ndarrays is extremely slow. Please consider converting the list to a single numpy.ndarray with numpy.array() before converting to a tensor. (Triggered internally at /opt/conda/conda-bld/pytorch_1682343998658/work/torch/csrc/utils/tensor_new.cpp:245.)\n",
            "  lags = torch.tensor(train_dataset.features).shape[-1]"
          ]
        },
        {
          "output_type": "stream",
          "name": "stdout",
          "text": [
            "1/50"
          ]
        }
      ],
      "source": [
        "plnr = itstgcnGConvLSTM.planner.PLNR_STGCN_RAND(plans_stgcn_rand,loader6,dataset_name='windmillsmall')\n",
        "plnr.simulate()"
      ],
      "id": "cfc2da8a-6c14-4963-a1f0-5901c382a2b7"
    },
    {
      "cell_type": "code",
      "execution_count": 3,
      "metadata": {},
      "outputs": [],
      "source": [
        "plans_stgcn_rand = {\n",
        "    'max_iteration': 1, \n",
        "    'method': ['STGCN', 'IT-STGCN'],\n",
        "    'mrate': [0],\n",
        "    'lags': [8], \n",
        "    'nof_filters': [12], \n",
        "    'inter_method': ['linear'],\n",
        "    'epoch': [50]\n",
        "}"
      ],
      "id": "76fc52a1-dd4d-4875-8bf9-e035142c3219"
    },
    {
      "cell_type": "code",
      "execution_count": null,
      "metadata": {},
      "outputs": [
        {
          "output_type": "stream",
          "name": "stderr",
          "text": [
            "/home/csy/Dropbox/blog/posts/GCN/itstgcnTGCN/learners.py:84: UserWarning: Creating a tensor from a list of numpy.ndarrays is extremely slow. Please consider converting the list to a single numpy.ndarray with numpy.array() before converting to a tensor. (Triggered internally at /opt/conda/conda-bld/pytorch_1682343998658/work/torch/csrc/utils/tensor_new.cpp:245.)\n",
            "  self.lags = torch.tensor(train_dataset.features).shape[-1]"
          ]
        },
        {
          "output_type": "stream",
          "name": "stdout",
          "text": [
            "1/50"
          ]
        }
      ],
      "source": [
        "plnr = itstgcnTGCN.planner.PLNR_STGCN_RAND(plans_stgcn_rand,loader6,dataset_name='windmillsmall')\n",
        "plnr.simulate()"
      ],
      "id": "b2b762d8-4d59-4f83-a9fd-200982c2c3cb"
    },
    {
      "cell_type": "code",
      "execution_count": null,
      "metadata": {},
      "outputs": [],
      "source": [
        "plnr = itstgcnTGCN.planner.PLNR_STGCN_RAND(plans_stgcn_rand,loader6,dataset_name='windmillsmall')\n",
        "plnr.simulate()"
      ],
      "id": "b556ff6e-b5de-4328-b206-374561b26eac"
    },
    {
      "cell_type": "code",
      "execution_count": null,
      "metadata": {},
      "outputs": [],
      "source": [
        "plnr = itstgcnTGCN.planner.PLNR_STGCN_RAND(plans_stgcn_rand,loader6,dataset_name='windmillsmall')\n",
        "plnr.simulate()"
      ],
      "id": "f390947d-dfbc-4dc0-a688-af3260f8862c"
    },
    {
      "cell_type": "code",
      "execution_count": null,
      "metadata": {},
      "outputs": [],
      "source": [
        "plnr = itstgcnTGCN.planner.PLNR_STGCN_RAND(plans_stgcn_rand,loader6,dataset_name='windmillsmall')\n",
        "plnr.simulate()"
      ],
      "id": "ecbc3ecc-7edb-469c-aace-7d3476a71af7"
    },
    {
      "cell_type": "code",
      "execution_count": null,
      "metadata": {},
      "outputs": [],
      "source": [
        "plnr = itstgcnTGCN.planner.PLNR_STGCN_RAND(plans_stgcn_rand,loader6,dataset_name='windmillsmall')\n",
        "plnr.simulate()"
      ],
      "id": "4fdd9966-ce36-4a8f-969b-b09d407a0330"
    },
    {
      "cell_type": "code",
      "execution_count": null,
      "metadata": {},
      "outputs": [],
      "source": [
        "plnr = itstgcnTGCN.planner.PLNR_STGCN_RAND(plans_stgcn_rand,loader6,dataset_name='windmillsmall')\n",
        "plnr.simulate()"
      ],
      "id": "31e24acf-f6a5-4860-b13c-8be1c26ce926"
    },
    {
      "cell_type": "code",
      "execution_count": null,
      "metadata": {},
      "outputs": [],
      "source": [
        "plnr = itstgcnTGCN.planner.PLNR_STGCN_RAND(plans_stgcn_rand,loader6,dataset_name='windmillsmall')\n",
        "plnr.simulate()"
      ],
      "id": "22a7412c-4b93-4ff4-a712-efe49f947bc4"
    },
    {
      "cell_type": "code",
      "execution_count": null,
      "metadata": {},
      "outputs": [],
      "source": [
        "plnr = itstgcnTGCN.planner.PLNR_STGCN_RAND(plans_stgcn_rand,loader6,dataset_name='windmillsmall')\n",
        "plnr.simulate()"
      ],
      "id": "82d672b9-44dc-4303-a3d8-773c33d144c2"
    },
    {
      "cell_type": "code",
      "execution_count": null,
      "metadata": {},
      "outputs": [],
      "source": [
        "plnr = itstgcnTGCN.planner.PLNR_STGCN_RAND(plans_stgcn_rand,loader6,dataset_name='windmillsmall')\n",
        "plnr.simulate()"
      ],
      "id": "33757448-7339-4a43-a174-78215854c6e2"
    },
    {
      "cell_type": "code",
      "execution_count": null,
      "metadata": {},
      "outputs": [],
      "source": [
        "plnr = itstgcnTGCN.planner.PLNR_STGCN_RAND(plans_stgcn_rand,loader6,dataset_name='windmillsmall')\n",
        "plnr.simulate()"
      ],
      "id": "0c33e861-ba7f-4cdd-bd58-c57990576000"
    },
    {
      "cell_type": "code",
      "execution_count": null,
      "metadata": {},
      "outputs": [],
      "source": [
        "plnr = itstgcnTGCN.planner.PLNR_STGCN_RAND(plans_stgcn_rand,loader6,dataset_name='windmillsmall')\n",
        "plnr.simulate()"
      ],
      "id": "6e89da5f-f5f7-44a9-bdfc-6bdce66f233b"
    },
    {
      "cell_type": "code",
      "execution_count": null,
      "metadata": {},
      "outputs": [],
      "source": [
        "plnr = itstgcnTGCN.planner.PLNR_STGCN_RAND(plans_stgcn_rand,loader6,dataset_name='windmillsmall')\n",
        "plnr.simulate()"
      ],
      "id": "74f0d70e-2424-4542-bcf9-00b84959d437"
    },
    {
      "cell_type": "code",
      "execution_count": null,
      "metadata": {},
      "outputs": [],
      "source": [
        "plnr = itstgcnTGCN.planner.PLNR_STGCN_RAND(plans_stgcn_rand,loader6,dataset_name='windmillsmall')\n",
        "plnr.simulate()"
      ],
      "id": "cac87fce-b1b5-4e6b-a16f-7ae35057f34d"
    },
    {
      "cell_type": "code",
      "execution_count": null,
      "metadata": {},
      "outputs": [],
      "source": [
        "plnr = itstgcnTGCN.planner.PLNR_STGCN_RAND(plans_stgcn_rand,loader6,dataset_name='windmillsmall')\n",
        "plnr.simulate()"
      ],
      "id": "c868f985-9d0d-404e-b8a1-1878a36b759f"
    },
    {
      "cell_type": "code",
      "execution_count": null,
      "metadata": {},
      "outputs": [],
      "source": [
        "plnr = itstgcnTGCN.planner.PLNR_STGCN_RAND(plans_stgcn_rand,loader6,dataset_name='windmillsmall')\n",
        "plnr.simulate()"
      ],
      "id": "de2c6554-443a-4bd2-b160-5feb1a95ac97"
    },
    {
      "cell_type": "code",
      "execution_count": null,
      "metadata": {},
      "outputs": [],
      "source": [
        "plnr = itstgcnTGCN.planner.PLNR_STGCN_RAND(plans_stgcn_rand,loader6,dataset_name='windmillsmall')\n",
        "plnr.simulate()"
      ],
      "id": "366a190d-5de6-49c3-9102-827b05eea0c5"
    },
    {
      "cell_type": "code",
      "execution_count": null,
      "metadata": {},
      "outputs": [],
      "source": [
        "plnr = itstgcnTGCN.planner.PLNR_STGCN_RAND(plans_stgcn_rand,loader6,dataset_name='windmillsmall')\n",
        "plnr.simulate()"
      ],
      "id": "39f49bce-d40b-465a-b5b7-85f1f6c2f21f"
    },
    {
      "cell_type": "code",
      "execution_count": null,
      "metadata": {},
      "outputs": [],
      "source": [
        "plnr = itstgcnTGCN.planner.PLNR_STGCN_RAND(plans_stgcn_rand,loader6,dataset_name='windmillsmall')\n",
        "plnr.simulate()"
      ],
      "id": "656c9e9f-0f25-4374-bc3f-faeb30e5af6e"
    },
    {
      "cell_type": "code",
      "execution_count": null,
      "metadata": {},
      "outputs": [],
      "source": [
        "plnr = itstgcnTGCN.planner.PLNR_STGCN_RAND(plans_stgcn_rand,loader6,dataset_name='windmillsmall')\n",
        "plnr.simulate()"
      ],
      "id": "bf1fcb5e-4571-402c-affc-28d542075496"
    },
    {
      "cell_type": "code",
      "execution_count": null,
      "metadata": {},
      "outputs": [],
      "source": [
        "plnr = itstgcnTGCN.planner.PLNR_STGCN_RAND(plans_stgcn_rand,loader6,dataset_name='windmillsmall')\n",
        "plnr.simulate()"
      ],
      "id": "0f07c66a-5d97-4263-b4ae-5934a15513d1"
    },
    {
      "cell_type": "code",
      "execution_count": null,
      "metadata": {},
      "outputs": [],
      "source": [
        "plnr = itstgcnTGCN.planner.PLNR_STGCN_RAND(plans_stgcn_rand,loader6,dataset_name='windmillsmall')\n",
        "plnr.simulate()"
      ],
      "id": "076da1cd-b6d3-440d-aa84-c37d05c37d66"
    },
    {
      "cell_type": "code",
      "execution_count": null,
      "metadata": {},
      "outputs": [],
      "source": [
        "plnr = itstgcnTGCN.planner.PLNR_STGCN_RAND(plans_stgcn_rand,loader6,dataset_name='windmillsmall')\n",
        "plnr.simulate()"
      ],
      "id": "96fdbe59-a71c-4671-8dc3-d272ecdc2439"
    },
    {
      "cell_type": "code",
      "execution_count": null,
      "metadata": {},
      "outputs": [],
      "source": [
        "plnr = itstgcnTGCN.planner.PLNR_STGCN_RAND(plans_stgcn_rand,loader6,dataset_name='windmillsmall')\n",
        "plnr.simulate()"
      ],
      "id": "95acb8dc-3ea9-408d-b0ea-4a0aabdbcb6b"
    },
    {
      "cell_type": "code",
      "execution_count": null,
      "metadata": {},
      "outputs": [],
      "source": [
        "plnr = itstgcnTGCN.planner.PLNR_STGCN_RAND(plans_stgcn_rand,loader6,dataset_name='windmillsmall')\n",
        "plnr.simulate()"
      ],
      "id": "8c354065-2f56-44eb-acd7-d325378ab6f9"
    },
    {
      "cell_type": "code",
      "execution_count": null,
      "metadata": {},
      "outputs": [],
      "source": [
        "plnr = itstgcnTGCN.planner.PLNR_STGCN_RAND(plans_stgcn_rand,loader6,dataset_name='windmillsmall')\n",
        "plnr.simulate()"
      ],
      "id": "774092b2-d8f8-4f04-8cea-02adc039d623"
    },
    {
      "cell_type": "code",
      "execution_count": null,
      "metadata": {},
      "outputs": [],
      "source": [
        "plnr = itstgcnTGCN.planner.PLNR_STGCN_RAND(plans_stgcn_rand,loader6,dataset_name='windmillsmall')\n",
        "plnr.simulate()"
      ],
      "id": "e4761ed5-5d1d-48f5-8c72-6dcc4db4c44f"
    },
    {
      "cell_type": "code",
      "execution_count": null,
      "metadata": {},
      "outputs": [],
      "source": [
        "plnr = itstgcnTGCN.planner.PLNR_STGCN_RAND(plans_stgcn_rand,loader6,dataset_name='windmillsmall')\n",
        "plnr.simulate()"
      ],
      "id": "96fcaa8a-59a5-4958-83e9-e34ee99e42f6"
    },
    {
      "cell_type": "code",
      "execution_count": null,
      "metadata": {},
      "outputs": [],
      "source": [
        "plnr = itstgcnTGCN.planner.PLNR_STGCN_RAND(plans_stgcn_rand,loader6,dataset_name='windmillsmall')\n",
        "plnr.simulate()"
      ],
      "id": "524a3a8c-033c-41f1-abcc-6261b5df3493"
    },
    {
      "cell_type": "code",
      "execution_count": null,
      "metadata": {},
      "outputs": [],
      "source": [
        "plnr = itstgcnTGCN.planner.PLNR_STGCN_RAND(plans_stgcn_rand,loader6,dataset_name='windmillsmall')\n",
        "plnr.simulate()"
      ],
      "id": "558a7611-7a24-41b6-85be-193d80511fab"
    },
    {
      "cell_type": "code",
      "execution_count": null,
      "metadata": {},
      "outputs": [],
      "source": [
        "plnr = itstgcnTGCN.planner.PLNR_STGCN_RAND(plans_stgcn_rand,loader6,dataset_name='windmillsmall')\n",
        "plnr.simulate()"
      ],
      "id": "8a3fb0d5-b32e-4159-b07b-6df9094de0df"
    },
    {
      "cell_type": "code",
      "execution_count": null,
      "metadata": {},
      "outputs": [],
      "source": [
        "plans_stgcn_rand = {\n",
        "    'max_iteration': 1, \n",
        "    'method': ['STGCN', 'IT-STGCN'], \n",
        "    'mrate': [0],\n",
        "    'lags': [8], \n",
        "    'nof_filters': [12], \n",
        "    'inter_method': ['linear'],\n",
        "    'epoch': [50]\n",
        "}"
      ],
      "id": "a70a8507-dcba-43b9-b81f-91537e173b43"
    },
    {
      "cell_type": "code",
      "execution_count": null,
      "metadata": {},
      "outputs": [],
      "source": [
        "plnr = itstgcn.planner.PLNR_STGCN_RAND(plans_stgcn_rand,loader5,dataset_name='windmillmedium')\n",
        "plnr.simulate()"
      ],
      "id": "3ddbfd57-bcf2-47e2-ac3e-dc92fb583836"
    },
    {
      "cell_type": "code",
      "execution_count": null,
      "metadata": {},
      "outputs": [],
      "source": [
        "plnr = itstgcn.planner.PLNR_STGCN_RAND(plans_stgcn_rand,loader10,dataset_name='monte')\n",
        "plnr.simulate()"
      ],
      "id": "37ea6bd1-4e80-4cf1-ac43-06aba0a542aa"
    },
    {
      "cell_type": "markdown",
      "metadata": {},
      "source": [
        "## PLNR_STGCN_MANUAL"
      ],
      "id": "611eddef-84ac-47d2-bc98-2b63b5b30e00"
    },
    {
      "cell_type": "code",
      "execution_count": null,
      "metadata": {},
      "outputs": [],
      "source": [
        "my_list = [[] for _ in range(20)] #chickenpox\n",
        "another_list = list(range(100,200))\n",
        "my_list[10] = another_list\n",
        "mindex = my_list"
      ],
      "id": "895d2b4f-c105-4424-bdea-7c4c5f37f623"
    },
    {
      "cell_type": "code",
      "execution_count": null,
      "metadata": {},
      "outputs": [],
      "source": [
        "my_list = [[] for _ in range(15)] #pedalme\n",
        "another_list = list(range(5,25))\n",
        "my_list[1] = another_list\n",
        "my_list[3] = another_list\n",
        "my_list[5] = another_list\n",
        "my_list[7] = another_list\n",
        "my_list[9] = another_list\n",
        "my_list[11] = another_list\n",
        "mindex = my_list"
      ],
      "id": "d927dc0a-b2be-4cdd-9f69-559a03799785"
    },
    {
      "cell_type": "code",
      "execution_count": null,
      "metadata": {},
      "outputs": [],
      "source": [
        "my_list = [[] for _ in range(1068)] #wikimath\n",
        "another_list = list(range(200,500))\n",
        "my_list[10] = another_list\n",
        "mindex = my_list"
      ],
      "id": "63ddd599-6598-4239-948c-70020be19786"
    },
    {
      "cell_type": "code",
      "execution_count": null,
      "metadata": {},
      "outputs": [],
      "source": [
        "my_list = [[] for _ in range(26)] #windmilmedi\n",
        "another_list = list(range(200,500)) # 676*0.8 = 540.8\n",
        "my_list[10] = another_list\n",
        "mindex = my_list"
      ],
      "id": "1bab08c1-d61e-427c-ae42-61ee810bf250"
    },
    {
      "cell_type": "code",
      "execution_count": null,
      "metadata": {},
      "outputs": [],
      "source": [
        "import numpy as np"
      ],
      "id": "11f55183-252d-43ae-9bba-19b973c52b16"
    },
    {
      "cell_type": "code",
      "execution_count": null,
      "metadata": {},
      "outputs": [],
      "source": [
        "import random"
      ],
      "id": "5e928c14-4b70-4abc-a141-a49a3f34f6ce"
    },
    {
      "cell_type": "code",
      "execution_count": null,
      "metadata": {},
      "outputs": [],
      "source": [
        "my_list = [[] for _ in range(675)] #monte\n",
        "another_list = list(range(200,350)) #743\n",
        "\n",
        "for i in np.array(random.sample(range(0, 675), 400)):\n",
        "    my_list[i] = another_list\n",
        "mindex = my_list"
      ],
      "id": "5fd05525-cae5-44b3-84da-6d8da4ba1ac6"
    },
    {
      "cell_type": "code",
      "execution_count": 35,
      "metadata": {},
      "outputs": [],
      "source": [
        "# mindex= [[],[],[],list(range(50,150)),[]]  # node 1\n",
        "# mindex= [list(range(10,100)),[],list(range(50,80)),[],[]] # node 2\n",
        "# mindex= [list(range(10,100)),[],list(range(50,80)),list(range(50,150)),[]] # node3\n",
        "plans_stgcn_block = {\n",
        "    'max_iteration': 30, \n",
        "    'method': ['STGCN', 'IT-STGCN'], \n",
        "    'mindex': [mindex],\n",
        "    'lags': [8], \n",
        "    'nof_filters': [12], \n",
        "    'inter_method': ['linear'],\n",
        "    'epoch': [50]\n",
        "}"
      ],
      "id": "25ff57c9-c2bf-4d08-bb5f-dad81da259be"
    },
    {
      "cell_type": "code",
      "execution_count": null,
      "metadata": {},
      "outputs": [],
      "source": [
        "plnr = itstgcnadd.planner.PLNR_STGCN_MANUAL(plans_stgcn_block,loader,dataset_name='fivenodes')\n",
        "plnr.simulate(mindex=mindex,mtype='block')"
      ],
      "id": "07b14fc5-fd9a-44da-93e7-9232e2bc1459"
    },
    {
      "cell_type": "code",
      "execution_count": null,
      "metadata": {},
      "outputs": [],
      "source": [
        "plnr = itstgcn.planner.PLNR_STGCN_MANUAL(plans_stgcn_block,loader1,dataset_name='chickenpox')\n",
        "plnr.simulate(mindex=mindex,mtype='block')"
      ],
      "id": "a047bcd3-96a3-49d6-a8a7-4a998b6c183b"
    },
    {
      "cell_type": "code",
      "execution_count": null,
      "metadata": {},
      "outputs": [],
      "source": [
        "plnr = itstgcn.planner.PLNR_STGCN_MANUAL(plans_stgcn_block,loader2,dataset_name='pedalme')\n",
        "plnr.simulate(mindex=mindex,mtype='block')"
      ],
      "id": "c68e5fda-fcac-419f-a42a-f902e72996a7"
    },
    {
      "cell_type": "code",
      "execution_count": null,
      "metadata": {},
      "outputs": [],
      "source": [
        "plnr = itstgcn.planner.PLNR_STGCN_MANUAL(plans_stgcn_block,loader3,dataset_name='wikimath')\n",
        "plnr.simulate(mindex=mindex,mtype='block')"
      ],
      "id": "0924b0f7-8325-409a-9b3e-cade849d8760"
    },
    {
      "cell_type": "code",
      "execution_count": null,
      "metadata": {},
      "outputs": [],
      "source": [
        "plnr = itstgcn.planner.PLNR_STGCN_MANUAL(plans_stgcn_block,loader5,dataset_name='windmiloutputmedium')\n",
        "plnr.simulate(mindex=mindex,mtype='block')"
      ],
      "id": "b2a5f9d9-3360-4cce-b6df-b35a3871b554"
    },
    {
      "cell_type": "code",
      "execution_count": null,
      "metadata": {},
      "outputs": [],
      "source": [
        "my_list = [[] for _ in range(11)] #windmilsmall\n",
        "another_list = list(range(5000,7500)) # 17470*0.8 = 13976.0\n",
        "my_list[1] = another_list\n",
        "my_list[3] = another_list\n",
        "my_list[5] = another_list\n",
        "my_list[7] = another_list\n",
        "my_list[9] = another_list\n",
        "mindex = my_list"
      ],
      "id": "d28e44b3-8d96-4271-bbc3-118a2ecd7033"
    },
    {
      "cell_type": "code",
      "execution_count": null,
      "metadata": {},
      "outputs": [],
      "source": [
        "# mindex= [[],[],[],list(range(50,150)),[]]  # node 1\n",
        "# mindex= [list(range(10,100)),[],list(range(50,80)),[],[]] # node 2\n",
        "# mindex= [list(range(10,100)),[],list(range(50,80)),list(range(50,150)),[]] # node3\n",
        "plans_stgcn_block = {\n",
        "    'max_iteration': 30, \n",
        "    'method': ['STGCN', 'IT-STGCN'], \n",
        "    'mindex': [mindex],\n",
        "    'lags': [8], \n",
        "    'nof_filters': [12], \n",
        "    'inter_method': ['linear'],\n",
        "    'epoch': [50]\n",
        "}"
      ],
      "id": "158b55be-1aa2-4c20-987d-b1e63a521993"
    },
    {
      "cell_type": "code",
      "execution_count": null,
      "metadata": {},
      "outputs": [],
      "source": [
        "plnr = itstgcn.planner.PLNR_STGCN_MANUAL(plans_stgcn_block,loader6,dataset_name='windmiloutputsmall')\n",
        "plnr.simulate(mindex=mindex,mtype='block')"
      ],
      "id": "6b7a6295-d307-412d-89db-52275479d366"
    },
    {
      "cell_type": "code",
      "execution_count": null,
      "metadata": {},
      "outputs": [],
      "source": [
        "plnr = itstgcn.planner.PLNR_STGCN_MANUAL(plans_stgcn_block,loader10,dataset_name='monte')\n",
        "plnr.simulate(mindex=mindex,mtype='block')"
      ],
      "id": "45f334c5-12e0-494f-aeb2-af68304c34c5"
    },
    {
      "cell_type": "code",
      "execution_count": null,
      "metadata": {},
      "outputs": [],
      "source": [
        "import random"
      ],
      "id": "675ff5d1-aada-4fc3-be97-3665bf50a61d"
    },
    {
      "cell_type": "code",
      "execution_count": null,
      "metadata": {},
      "outputs": [],
      "source": [
        "my_list = [[] for _ in range(1068)] #wikimath\n",
        "another_list = random.sample(range(0, 576), 432)\n",
        "for i in range(0, 1068):\n",
        "    my_list[i] = another_list\n",
        "mindex = my_list"
      ],
      "id": "773d794f-1e12-4ddc-985d-c6f051844c07"
    },
    {
      "cell_type": "code",
      "execution_count": null,
      "metadata": {},
      "outputs": [],
      "source": [
        "# mindex= [[],[],[],list(range(50,150)),[]]  # node 1\n",
        "# mindex= [list(range(10,100)),[],list(range(50,80)),[],[]] # node 2\n",
        "# mindex= [list(range(10,100)),[],list(range(50,80)),list(range(50,150)),[]] # node3\n",
        "plans_stgcn_block = {\n",
        "    'max_iteration': 10, \n",
        "    'method': ['STGCN', 'IT-STGCN'], \n",
        "    'mindex': [mindex],\n",
        "    'lags': [4], \n",
        "    'nof_filters': [12], \n",
        "    'inter_method': ['nearest','linear'],\n",
        "    'epoch': [50]\n",
        "}"
      ],
      "id": "749d2b64-ecbd-434b-9c7a-af0788e4a1b7"
    },
    {
      "cell_type": "code",
      "execution_count": null,
      "metadata": {},
      "outputs": [],
      "source": [
        "plnr = itstgcn.planner.PLNR_STGCN_MANUAL(plans_stgcn_block,loader3,dataset_name='wikimath')\n",
        "plnr.simulate(mindex=mindex,mtype='block')"
      ],
      "id": "096cddfb-0aec-4cd0-b359-bae97eebe777"
    },
    {
      "cell_type": "code",
      "execution_count": null,
      "metadata": {},
      "outputs": [],
      "source": [
        "# mindex= [[],[],[],list(range(50,150)),[]]  # node 1\n",
        "# mindex= [list(range(10,100)),[],list(range(50,80)),[],[]] # node 2\n",
        "# mindex= [list(range(10,100)),[],list(range(50,80)),list(range(50,150)),[]] # node3\n",
        "plans_stgcn_block = {\n",
        "    'max_iteration': 10, \n",
        "    'method': ['STGCN', 'IT-STGCN'], \n",
        "    'mindex': [mindex],\n",
        "    'lags': [4], \n",
        "    'nof_filters': [12], \n",
        "    'inter_method': ['nearest','linear'],\n",
        "    'epoch': [50]\n",
        "}"
      ],
      "id": "8d3eed56-75ad-4053-ab6f-065581a1c467"
    },
    {
      "cell_type": "code",
      "execution_count": null,
      "metadata": {},
      "outputs": [],
      "source": [
        "plnr = itstgcn.planner.PLNR_STGCN_MANUAL(plans_stgcn_block,loader3,dataset_name='wikimath')\n",
        "plnr.simulate(mindex=mindex,mtype='block')"
      ],
      "id": "4229982f-4df4-4bc2-9d39-82f5c5753465"
    },
    {
      "cell_type": "code",
      "execution_count": null,
      "metadata": {},
      "outputs": [],
      "source": [
        "# mindex= [[],[],[],list(range(50,150)),[]]  # node 1\n",
        "# mindex= [list(range(10,100)),[],list(range(50,80)),[],[]] # node 2\n",
        "# mindex= [list(range(10,100)),[],list(range(50,80)),list(range(50,150)),[]] # node3\n",
        "plans_stgcn_block = {\n",
        "    'max_iteration': 10, \n",
        "    'method': ['STGCN', 'IT-STGCN'], \n",
        "    'mindex': [mindex],\n",
        "    'lags': [4], \n",
        "    'nof_filters': [12], \n",
        "    'inter_method': ['nearest','linear'],\n",
        "    'epoch': [50]\n",
        "}"
      ],
      "id": "a58726a6-de20-467f-ba80-54eef401b5a4"
    },
    {
      "cell_type": "code",
      "execution_count": null,
      "metadata": {},
      "outputs": [],
      "source": [
        "plnr = itstgcn.planner.PLNR_STGCN_MANUAL(plans_stgcn_block,loader3,dataset_name='wikimath')\n",
        "plnr.simulate(mindex=mindex,mtype='block')"
      ],
      "id": "b0cb1d45-e8a0-4be3-b18a-3fd620a1f09d"
    },
    {
      "cell_type": "markdown",
      "metadata": {},
      "source": [
        "## PLNR_GNAR_RAND"
      ],
      "id": "0899b3bc-f4b3-4e94-a31c-afccde22f3fe"
    },
    {
      "cell_type": "code",
      "execution_count": null,
      "metadata": {},
      "outputs": [],
      "source": [
        "plans_gnar_rand = {\n",
        "    'max_iteration': 30, \n",
        "#    'method': ['GNAR'], \n",
        "    'mrate': [0.8, 0.9],\n",
        "    'lags': [4], \n",
        "#    'nof_filters': [8,16], \n",
        "    'inter_method': ['cubic','linear'],\n",
        "#    'epoch': [1]\n",
        "}"
      ],
      "id": "5bb50c50-5323-43a1-9b47-2bbbac309b05"
    },
    {
      "cell_type": "code",
      "execution_count": null,
      "metadata": {},
      "outputs": [],
      "source": [
        "plnr = itstgcn.planner.PLNR_GNAR_RAND(plans_gnar_rand,loader1,dataset_name='chickenpox')\n",
        "plnr.simulate()"
      ],
      "id": "94728999-3fdd-46c7-9319-c611f74cdb1d"
    },
    {
      "cell_type": "code",
      "execution_count": null,
      "metadata": {},
      "outputs": [],
      "source": [
        "plnr = itstgcn.planner.PLNR_GNAR_RAND(plans_gnar_rand,loader2,dataset_name='pedalme')\n",
        "plnr.simulate()"
      ],
      "id": "7ee78656-807e-43a1-9c0b-78fd70c47cf6"
    },
    {
      "cell_type": "code",
      "execution_count": null,
      "metadata": {},
      "outputs": [],
      "source": [
        "plnr = itstgcn.planner.PLNR_GNAR_RAND(plans_gnar_rand,loader3,dataset_name='wikimath')\n",
        "plnr.simulate()"
      ],
      "id": "8ff41ed2-4947-49a6-9df5-52a1d6f119a9"
    },
    {
      "cell_type": "code",
      "execution_count": null,
      "metadata": {},
      "outputs": [],
      "source": [
        "plnr = itstgcn.planner.PLNR_GNAR_RAND(plans_gnar_rand,loader5,dataset_name='windmiloutputmedium')\n",
        "plnr.simulate()"
      ],
      "id": "6d5efad3-776e-4731-a28b-3e558467796c"
    },
    {
      "cell_type": "code",
      "execution_count": null,
      "metadata": {},
      "outputs": [],
      "source": [
        "plnr = itstgcn.planner.PLNR_GNAR_RAND(plans_gnar_rand,loader6,dataset_name='windmiloutputsmall')\n",
        "plnr.simulate()"
      ],
      "id": "39e28c3a-27c4-4607-8971-41064dc9d568"
    },
    {
      "cell_type": "markdown",
      "metadata": {},
      "source": [
        "## PLNR_GNAR_BLOCK"
      ],
      "id": "a78a9954-1a02-4098-95a7-6045676814a0"
    },
    {
      "cell_type": "code",
      "execution_count": null,
      "metadata": {},
      "outputs": [],
      "source": [
        "my_list = [[] for _ in range(20)] #chickenpox\n",
        "another_list = list(range(100,200))\n",
        "my_list[10] = another_list\n",
        "mindex = my_list"
      ],
      "id": "9393b9fd-46ec-4c14-ab69-ed0814cbacca"
    },
    {
      "cell_type": "code",
      "execution_count": null,
      "metadata": {},
      "outputs": [],
      "source": [
        "my_list = [[] for _ in range(15)] #pedalme\n",
        "another_list = list(range(5,25))\n",
        "my_list[1] = another_list\n",
        "my_list[3] = another_list\n",
        "my_list[5] = another_list\n",
        "my_list[7] = another_list\n",
        "my_list[9] = another_list\n",
        "my_list[11] = another_list\n",
        "mindex = my_list"
      ],
      "id": "cd5b91d6-d78b-438e-a66a-a823da796999"
    },
    {
      "cell_type": "code",
      "execution_count": null,
      "metadata": {},
      "outputs": [],
      "source": [
        "my_list = [[] for _ in range(1068)] #wikimath\n",
        "another_list = list(range(10,20))\n",
        "my_list[10] = another_list\n",
        "mindex = my_list"
      ],
      "id": "2c1b2f22-a877-4b11-975d-7cc96c8e5097"
    },
    {
      "cell_type": "code",
      "execution_count": null,
      "metadata": {},
      "outputs": [],
      "source": [
        "my_list = [[] for _ in range(26)] #windmilmedi\n",
        "another_list = list(range(200,500)) # 676*0.8 = 540.8\n",
        "my_list[10] = another_list\n",
        "mindex = my_list"
      ],
      "id": "993bd637-93be-4d76-ba50-cedba674de88"
    },
    {
      "cell_type": "code",
      "execution_count": null,
      "metadata": {},
      "outputs": [],
      "source": [
        "my_list = [[] for _ in range(11)] #windmilsmall\n",
        "another_list = list(range(5000,10000)) # 17470*0.8 = 13976.0\n",
        "my_list[10] = another_list\n",
        "mindex = my_list"
      ],
      "id": "c489cea8-54db-4480-bd73-68c66ec6a5ee"
    },
    {
      "cell_type": "code",
      "execution_count": null,
      "metadata": {},
      "outputs": [],
      "source": [
        "my_list = [[] for _ in range(675)] #monte\n",
        "another_list = list(range(200,350)) #743\n",
        "\n",
        "for i in np.array(random.sample(range(0, 675), 400)):\n",
        "    my_list[i] = another_list\n",
        "mindex = my_list"
      ],
      "id": "9fabf21d-d386-481e-bec8-bbd9be20074a"
    },
    {
      "cell_type": "code",
      "execution_count": null,
      "metadata": {},
      "outputs": [],
      "source": [
        "# mindex = [[],[],list(range(50,250)),[],[]]\n",
        "# mindex = [list(range(10,100)),[],list(range(50,80)),[],[]]\n",
        "# mindex= [list(range(10,100)),[],list(range(50,80)),list(range(50,150)),[]]\n",
        "plans_gnar_block = {\n",
        "    'max_iteration': 3, \n",
        "    'method': ['GNAR'], \n",
        "    'mindex': [mindex],\n",
        "    'lags': [4,8], \n",
        "    'inter_method': ['linear'],\n",
        "}"
      ],
      "id": "f18eaef3-c133-4950-9b89-93bb32b17681"
    },
    {
      "cell_type": "code",
      "execution_count": null,
      "metadata": {},
      "outputs": [],
      "source": [
        "plnr = itstgcn.planner.PLNR_GNAR_MANUAL(plans_gnar_block,loader1,dataset_name='chickenpox')\n",
        "plnr.simulate(mindex,mtype='block')"
      ],
      "id": "1c82347a-cc2c-4c75-a119-294cba428088"
    },
    {
      "cell_type": "code",
      "execution_count": null,
      "metadata": {},
      "outputs": [],
      "source": [
        "plnr = itstgcn.planner.PLNR_GNAR_MANUAL(plans_gnar_block,loader2,dataset_name='pedalme')\n",
        "plnr.simulate(mindex,mtype='block')"
      ],
      "id": "7b54e0e2-61f8-46fd-a387-f939af28dba8"
    },
    {
      "cell_type": "code",
      "execution_count": null,
      "metadata": {},
      "outputs": [],
      "source": [
        "# mindex = [[],[],list(range(50,250)),[],[]]\n",
        "# mindex = [list(range(10,100)),[],list(range(50,80)),[],[]]\n",
        "# mindex= [list(range(10,100)),[],list(range(50,80)),list(range(50,150)),[]]\n",
        "plans_gnar_block = {\n",
        "    'max_iteration': 3, \n",
        "    'method': ['GNAR'], \n",
        "    'mindex': [mindex],\n",
        "    'lags': [8], \n",
        "    'inter_method': ['linear'],\n",
        "}"
      ],
      "id": "b2e6fb3d-67c9-4d86-a464-d31ab64f88ea"
    },
    {
      "cell_type": "code",
      "execution_count": null,
      "metadata": {},
      "outputs": [],
      "source": [
        "plnr = itstgcn.planner.PLNR_GNAR_MANUAL(plans_gnar_block,loader3,dataset_name='wikimath')\n",
        "plnr.simulate(mindex,mtype='block')"
      ],
      "id": "079bb2bf-5beb-4f11-a9f3-3ac697e47e5b"
    },
    {
      "cell_type": "code",
      "execution_count": null,
      "metadata": {},
      "outputs": [],
      "source": [
        "plnr = itstgcn.planner.PLNR_GNAR_MANUAL(plans_gnar_block,loader5,dataset_name='windmiloutputmedium')\n",
        "plnr.simulate(mindex,mtype='block')"
      ],
      "id": "f1d12b32-e6ed-4eab-8c5c-c342367fe14f"
    },
    {
      "cell_type": "code",
      "execution_count": null,
      "metadata": {},
      "outputs": [],
      "source": [
        "plnr = itstgcn.planner.PLNR_GNAR_MANUAL(plans_gnar_block,loader6,dataset_name='windmiloutputsmall')\n",
        "plnr.simulate(mindex,mtype='block')"
      ],
      "id": "7924e4eb-6593-42e5-b33d-41dd32f98e62"
    },
    {
      "cell_type": "code",
      "execution_count": null,
      "metadata": {},
      "outputs": [],
      "source": [
        "plnr = itstgcn.planner.PLNR_GNAR_MANUAL(plans_gnar_block,loader10,dataset_name='monte')\n",
        "plnr.simulate(mindex,mtype='block')"
      ],
      "id": "6d452166-b361-401c-808c-a4d4636dfe39"
    }
  ],
  "nbformat": 4,
  "nbformat_minor": 5,
  "metadata": {
    "kernelspec": {
      "name": "python3",
      "display_name": "Python 3",
      "language": "python"
    },
    "language_info": {
      "name": "python",
      "codemirror_mode": {
        "name": "ipython",
        "version": "3"
      },
      "file_extension": ".py",
      "mimetype": "text/x-python",
      "nbconvert_exporter": "python",
      "pygments_lexer": "ipython3",
      "version": "3.8.0"
    }
  }
}
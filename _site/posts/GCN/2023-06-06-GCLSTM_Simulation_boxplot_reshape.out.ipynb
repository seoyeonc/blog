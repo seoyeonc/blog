{
  "cells": [
    {
      "cell_type": "markdown",
      "metadata": {},
      "source": [
        "# GCLSTM_Simulation_reshape\n",
        "\n",
        "SEOYEON CHOI  \n",
        "6/6/23\n",
        "\n",
        "> Simulation Study\n",
        "\n",
        "# Import"
      ],
      "id": "c61f99c4-b118-40b7-98a3-dacf2ef7cd34"
    },
    {
      "cell_type": "code",
      "execution_count": 2,
      "metadata": {},
      "outputs": [],
      "source": [
        "import matplotlib.pyplot as plt\n",
        "import pandas as pd\n",
        "import numpy as np"
      ],
      "id": "6eb84ea7-ecaf-40b5-a4f5-794d212b6815"
    },
    {
      "cell_type": "markdown",
      "metadata": {},
      "source": [
        "# Fivenodes"
      ],
      "id": "173f870d-118f-40aa-8f2f-85fcf7a74d36"
    },
    {
      "cell_type": "code",
      "execution_count": 150,
      "metadata": {},
      "outputs": [],
      "source": [
        "df1 = pd.read_csv('./simulation_results/2023-06-13_07-17-07.csv')\n",
        "df2 = pd.read_csv('./simulation_results/2023-06-13_07-44-52.csv')\n",
        "df3 = pd.read_csv('./simulation_results/2023-06-13_08-12-37.csv')\n",
        "df4 = pd.read_csv('./simulation_results/2023-06-13_08-40-19.csv')\n",
        "df5 = pd.read_csv('./simulation_results/2023-06-13_12-54-53.csv')\n",
        "df6 = pd.read_csv('./simulation_results/2023-06-13_13-22-41.csv')\n",
        "df7 = pd.read_csv('./simulation_results/2023-06-13_13-50-26.csv')\n",
        "df8 = pd.read_csv('./simulation_results/2023-06-13_14-17-59.csv')"
      ],
      "id": "37a39c0f-8fb6-43a2-bcaa-a3af80de09ea"
    },
    {
      "cell_type": "code",
      "execution_count": 151,
      "metadata": {},
      "outputs": [],
      "source": [
        "df9 = pd.read_csv('./simulation_results/2023-07-17_07-35-15.csv')\n",
        "df10 = pd.read_csv('./simulation_results/2023-07-17_08-03-56.csv')\n",
        "df11 = pd.read_csv('./simulation_results/2023-07-17_08-32-12.csv')\n",
        "df12 = pd.read_csv('./simulation_results/2023-07-17_08-59-03.csv')\n",
        "df13 = pd.read_csv('./simulation_results/2023-07-17_09-25-30.csv')\n",
        "df14 = pd.read_csv('./simulation_results/2023-07-17_09-53-40.csv')"
      ],
      "id": "0b298852-db8f-4fa5-b62b-3ac50049a699"
    },
    {
      "cell_type": "code",
      "execution_count": 152,
      "metadata": {},
      "outputs": [],
      "source": [
        "data = pd.concat([df1,df2,df3,df4,df5,df6,df7,df8,df9,df10,df11,df12,df13,df14],axis=0)"
      ],
      "id": "69891a2f-b3e9-4d44-854e-657c715e3e06"
    },
    {
      "cell_type": "code",
      "execution_count": 153,
      "metadata": {},
      "outputs": [],
      "source": [
        "data.to_csv('./simulation_results/Real_simulation_reshape/GCLSTM_fivedones_Simulation.csv',index=False)"
      ],
      "id": "fc51f88b-76a1-45cb-b9a6-3027070f08dc"
    },
    {
      "cell_type": "code",
      "execution_count": 154,
      "metadata": {},
      "outputs": [],
      "source": [
        "data = pd.read_csv('./simulation_results/Real_simulation_reshape/GCLSTM_fivedones_Simulation.csv')"
      ],
      "id": "12bf57bb-c8f0-4e00-9f5a-ce52d56d7a0e"
    },
    {
      "cell_type": "markdown",
      "metadata": {},
      "source": [
        "## Baseline"
      ],
      "id": "548dbf2d-7ed6-40cb-8c13-f9164e75740a"
    },
    {
      "cell_type": "code",
      "execution_count": 155,
      "metadata": {
        "tags": []
      },
      "outputs": [],
      "source": [
        "data.query(\"method!='GNAR' and mrate==0\").plot.box(backend='plotly',x='mrate',color='method',y='mse',facet_col='lags',facet_row='nof_filters',height=600)\n"
      ],
      "id": "c643d147-f86f-4f58-b4d8-92e1c10fa9ed"
    },
    {
      "cell_type": "markdown",
      "metadata": {},
      "source": [
        "## Random"
      ],
      "id": "bd2b8d37-93a2-4d9f-b5e7-36f3fb7309e1"
    },
    {
      "cell_type": "code",
      "execution_count": 156,
      "metadata": {},
      "outputs": [],
      "source": [
        "data.query(\"method!='GNAR' and mtype =='rand'\").plot.box(backend='plotly',x='mrate',color='method',y='mse',facet_col='inter_method',facet_row='nof_filters',height=600)"
      ],
      "id": "5f231a89-82b1-407e-a3cd-21c9513a7bc9"
    },
    {
      "cell_type": "markdown",
      "metadata": {},
      "source": [
        "## Block"
      ],
      "id": "4078465b-2025-4491-8a56-98dc11688667"
    },
    {
      "cell_type": "code",
      "execution_count": 157,
      "metadata": {},
      "outputs": [],
      "source": [
        "data.query(\"method!='GNAR' and mtype =='block' \").plot.box(backend='plotly',x='mrate',color='method',y='mse',facet_col='inter_method',facet_row='nof_filters',height=600)\n"
      ],
      "id": "081059bb-d262-45da-8748-40c95655168f"
    },
    {
      "cell_type": "markdown",
      "metadata": {},
      "source": [
        "# chickenpox"
      ],
      "id": "1769c544-b298-420d-8836-4827618b49b1"
    },
    {
      "cell_type": "code",
      "execution_count": 31,
      "metadata": {},
      "outputs": [],
      "source": [
        "df1 = pd.read_csv('./simulation_results/2023-06-13_15-38-39.csv') # GNAR random\n",
        "df2 = pd.read_csv('./simulation_results/2023-06-13_16-57-23.csv') # GNAR block\n",
        "df3 = pd.read_csv('./simulation_results/2023-06-13_17-36-42.csv') # STGCN, ITSTGCN random 30%\n",
        "df4 = pd.read_csv('./simulation_results/2023-06-13_18-16-50.csv') \n",
        "df5 = pd.read_csv('./simulation_results/2023-06-13_19-43-23.csv') \n",
        "df6 = pd.read_csv('./simulation_results/2023-06-13_21-07-40.csv') "
      ],
      "id": "50dcac11-2003-4d6c-a307-7588dacf76ab"
    },
    {
      "cell_type": "code",
      "execution_count": 32,
      "metadata": {},
      "outputs": [],
      "source": [
        "df7 = pd.read_csv('./simulation_results/2023-07-17_10-37-55.csv') # GNAR random\n",
        "df8 = pd.read_csv('./simulation_results/2023-07-17_11-21-39.csv') # GNAR block\n",
        "df9 = pd.read_csv('./simulation_results/2023-07-17_12-03-49.csv') # STGCN, ITSTGCN random 30%\n",
        "df10 = pd.read_csv('./simulation_results/2023-07-17_12-47-06.csv') "
      ],
      "id": "76538814-a6c5-418d-9882-5aa5cf6713ee"
    },
    {
      "cell_type": "code",
      "execution_count": 33,
      "metadata": {},
      "outputs": [],
      "source": [
        "data = pd.concat([df1,df2,df3,df4,df5,df6,df7,df8,df9,df10],axis=0)"
      ],
      "id": "5816674e-59d1-4739-a703-4c05715982af"
    },
    {
      "cell_type": "code",
      "execution_count": 34,
      "metadata": {},
      "outputs": [],
      "source": [
        "data.to_csv('./simulation_results/Real_simulation_reshape/GCLSTM_chikenpox_Simulation.csv',index=False)"
      ],
      "id": "de07bacd-cdbf-4c0d-b286-0f737fb1a6ab"
    },
    {
      "cell_type": "code",
      "execution_count": 35,
      "metadata": {},
      "outputs": [],
      "source": [
        "data = pd.read_csv('./simulation_results/Real_simulation_reshape/GCLSTM_chikenpox_Simulation.csv')"
      ],
      "id": "7efb2d46-ba71-4c0e-b3a1-67b2c6e31a88"
    },
    {
      "cell_type": "markdown",
      "metadata": {},
      "source": [
        "## Baseline"
      ],
      "id": "7048373c-37bd-455c-a977-4511ec4f7f03"
    },
    {
      "cell_type": "code",
      "execution_count": 36,
      "metadata": {},
      "outputs": [],
      "source": [
        "data.query(\"method!='GNAR' and mrate ==0 \").plot.box(backend='plotly',x='mrate',color='method',y='mse',facet_col='nof_filters',height=600)\n"
      ],
      "id": "7e0191ed-88ce-4f30-98c1-269e21c087e5"
    },
    {
      "cell_type": "markdown",
      "metadata": {},
      "source": [
        "## Random"
      ],
      "id": "e863d040-c348-4303-89e8-363ef26a485e"
    },
    {
      "cell_type": "code",
      "execution_count": 37,
      "metadata": {},
      "outputs": [],
      "source": [
        "data.query(\"method!='GNAR' and mtype =='rand'\").plot.box(backend='plotly',x='mrate',color='method',y='mse',facet_col='nof_filters',facet_row='inter_method',height=800)\n"
      ],
      "id": "56280fc8-2a9e-46b2-a0f2-628263eca86f"
    },
    {
      "cell_type": "markdown",
      "metadata": {},
      "source": [
        "## Block"
      ],
      "id": "6c88a82d-4566-46b9-b5ad-913d73605d22"
    },
    {
      "cell_type": "code",
      "execution_count": 38,
      "metadata": {},
      "outputs": [],
      "source": [
        "data.query(\"method!='GNAR' and mtype =='block'\").plot.box(backend='plotly',x='mrate',color='method',y='mse',facet_col='inter_method',facet_row='lags',height=800)\n"
      ],
      "id": "f8c5f2c6-2522-4ed8-afb9-f2ef54c68b32"
    },
    {
      "cell_type": "markdown",
      "metadata": {},
      "source": [
        "# Pedalme"
      ],
      "id": "2d213dc6-640e-45be-b67c-aa722b4de7ab"
    },
    {
      "cell_type": "code",
      "execution_count": 40,
      "metadata": {},
      "outputs": [],
      "source": [
        "df1 = pd.read_csv('./simulation_results/2023-06-07_07-17-13.csv') \n",
        "df2 = pd.read_csv('./simulation_results/2023-06-07_07-27-02.csv')  "
      ],
      "id": "8cc5151d-e824-411b-98e4-6e1973f6f211"
    },
    {
      "cell_type": "code",
      "execution_count": 41,
      "metadata": {},
      "outputs": [],
      "source": [
        "df3 = pd.read_csv('./simulation_results/2023-07-17_13-06-02.csv') "
      ],
      "id": "fb4638ec-331c-44e3-a53d-19940fac9604"
    },
    {
      "cell_type": "code",
      "execution_count": 42,
      "metadata": {},
      "outputs": [],
      "source": [
        "data = pd.concat([df1,df2,df3],axis=0)"
      ],
      "id": "b8930f43-4563-4908-bc94-572e647f1621"
    },
    {
      "cell_type": "code",
      "execution_count": 43,
      "metadata": {},
      "outputs": [],
      "source": [
        "data.to_csv('./simulation_results/Real_simulation_reshape/GCLSTM_pedalme_Simulation.csv',index=False)"
      ],
      "id": "8f034a83-d74e-4fec-af70-ec02abccb76d"
    },
    {
      "cell_type": "code",
      "execution_count": 44,
      "metadata": {},
      "outputs": [],
      "source": [
        "data = pd.read_csv('./simulation_results/Real_simulation_reshape/GCLSTM_pedalme_Simulation.csv')"
      ],
      "id": "50609db4-cd6d-4dc8-9bda-730d91509362"
    },
    {
      "cell_type": "markdown",
      "metadata": {},
      "source": [
        "## Baseline"
      ],
      "id": "877df5db-6a0a-4da5-8a2e-6beed7155e74"
    },
    {
      "cell_type": "code",
      "execution_count": 45,
      "metadata": {},
      "outputs": [],
      "source": [
        "data.query(\"mrate ==0 and lags!=2\").plot.box(backend='plotly',x='epoch',color='method',y='mse',facet_col='nof_filters',facet_row='lags',height=400)\n"
      ],
      "id": "27288e6f-986a-4af0-98cc-d6fead14d8c0"
    },
    {
      "cell_type": "markdown",
      "metadata": {},
      "source": [
        "## random"
      ],
      "id": "d74f6b41-908e-470f-9839-23fbbaf7b0b2"
    },
    {
      "cell_type": "code",
      "execution_count": 46,
      "metadata": {},
      "outputs": [],
      "source": [
        "data.query(\"method!='GNAR' and mtype =='rand' and lags!=2\").plot.box(backend='plotly',x='mrate',color='method',y='mse',facet_col='nof_filters',facet_row='inter_method',height=800)\n"
      ],
      "id": "cb2b13a5-4a64-409b-913f-fcdeb96a14c4"
    },
    {
      "cell_type": "markdown",
      "metadata": {},
      "source": [
        "## block"
      ],
      "id": "4fca576f-ef9b-4835-b250-60128ad9d240"
    },
    {
      "cell_type": "code",
      "execution_count": 47,
      "metadata": {},
      "outputs": [],
      "source": [
        "data.query(\"method!='GNAR' and mtype =='block' and lags!=2 \").plot.box(backend='plotly',x='mrate',color='method',y='mse',facet_col='nof_filters',facet_row='inter_method',height=800)\n"
      ],
      "id": "4f361924-c7be-4b84-a192-1fa889ce238a"
    },
    {
      "cell_type": "markdown",
      "metadata": {},
      "source": [
        "## weight matrix time, node 고려한 결과"
      ],
      "id": "de3e741f-4e8c-42f3-8a47-1f0522b48e43"
    },
    {
      "cell_type": "code",
      "execution_count": 252,
      "metadata": {},
      "outputs": [],
      "source": [
        "# df1 = pd.read_csv('./simulation_results/2023-06-13_18-41-53.csv') # gclm 잘못 돌림\n",
        "df1 = pd.read_csv('./simulation_results/2023-06-13_18-14-13.csv')\n",
        "df2 = pd.read_csv('./simulation_results/2023-06-16_20-25-15.csv')"
      ],
      "id": "3ab12676-3d63-4c3c-9a07-04c4a0fcb001"
    },
    {
      "cell_type": "code",
      "execution_count": 174,
      "metadata": {},
      "outputs": [],
      "source": [
        "data2 = pd.concat([df1,df2],axis=0)"
      ],
      "id": "7bd3708b-6112-4f97-b6e3-85c9c1ad3b77"
    },
    {
      "cell_type": "code",
      "execution_count": 175,
      "metadata": {},
      "outputs": [],
      "source": [
        "data2.to_csv('./simulation_results/Real_simulation_reshape/GCLSTM_pedalme_Simulation_itstgcnsnd.csv',index=False)"
      ],
      "id": "e119c64f-52df-49f6-b4a8-e951afd6af7a"
    },
    {
      "cell_type": "code",
      "execution_count": 176,
      "metadata": {},
      "outputs": [],
      "source": [
        "data2 = pd.read_csv('./simulation_results/Real_simulation_reshape/GCLSTM_pedalme_Simulation_itstgcnsnd.csv')"
      ],
      "id": "d2386cb0-78d6-4e74-959d-11246d7fac7c"
    },
    {
      "cell_type": "code",
      "execution_count": 177,
      "metadata": {},
      "outputs": [],
      "source": [
        "data2.query(\"mtype=='rand'\").plot.box(backend='plotly',x='mrate',color='method',y='mse',facet_col='inter_method',facet_row='nof_filters',height=1000)"
      ],
      "id": "c3aadba6-8907-4c11-8a89-44600981f205"
    },
    {
      "cell_type": "code",
      "execution_count": 178,
      "metadata": {},
      "outputs": [],
      "source": [
        "data2.query(\"mtype=='block'\").plot.box(backend='plotly',x='mrate',color='method',y='mse',facet_col='inter_method',facet_row='nof_filters',height=1000)"
      ],
      "id": "3766f0bf-8340-4d68-b0f9-499e691f26c8"
    },
    {
      "cell_type": "markdown",
      "metadata": {},
      "source": [
        "# Wikimath"
      ],
      "id": "2865a206-3cb3-4572-a188-452ef46a1873"
    },
    {
      "cell_type": "code",
      "execution_count": 294,
      "metadata": {},
      "outputs": [],
      "source": [
        "df1 = pd.read_csv('./simulation_results/2023-06-16_10-32-29.csv')\n",
        "df2 = pd.read_csv('./simulation_results/2023-06-16_15-13-14.csv')\n",
        "df3 = pd.read_csv('./simulation_results/2023-06-16_21-20-31.csv')\n",
        "df4 = pd.read_csv('./simulation_results/2023-06-17_10-12-36.csv')\n",
        "df5 = pd.read_csv('./simulation_results/2023-06-17_12-49-46.csv')\n",
        "df6 = pd.read_csv('./simulation_results/2023-06-17_14-45-14.csv')\n",
        "df7 = pd.read_csv('./simulation_results/2023-06-17_16-56-50.csv') \n",
        "df8 = pd.read_csv('./simulation_results/2023-06-17_20-23-03.csv')\n",
        "df9 = pd.read_csv('./simulation_results/2023-06-16_21-11-03.csv') # block\n",
        "df10 = pd.read_csv('./simulation_results/2023-06-16_15-10-06.csv') # block\n",
        "df11 = pd.read_csv('./simulation_results/2023-06-16_10-31-28.csv') # block\n",
        "## block 3개 끝나면 같은 노드로 넘어가기"
      ],
      "id": "8cf0c5df-d48e-48d3-b7cf-a473aaab53e3"
    },
    {
      "cell_type": "code",
      "execution_count": 295,
      "metadata": {},
      "outputs": [],
      "source": [
        "df12 = pd.read_csv('./simulation_results/2023-07-28_20-06-46.csv')\n",
        "df13 = pd.read_csv('./simulation_results/2023-07-28_22-43-30.csv')\n",
        "df14 = pd.read_csv('./simulation_results/2023-07-29_01-05-51.csv')\n",
        "df15 = pd.read_csv('./simulation_results/2023-07-29_03-27-02.csv')\n",
        "df16 = pd.read_csv('./simulation_results/2023-07-29_06-18-47.csv')\n",
        "df17 = pd.read_csv('./simulation_results/2023-07-29_08-56-38.csv')\n",
        "df18 = pd.read_csv('./simulation_results/2023-07-29_11-15-57.csv') \n",
        "df19 = pd.read_csv('./simulation_results/2023-07-29_13-40-21.csv')\n",
        "df20 = pd.read_csv('./simulation_results/2023-07-29_16-18-43.csv') # block\n",
        "df21 = pd.read_csv('./simulation_results/2023-07-29_19-05-06.csv') # block\n",
        "df22 = pd.read_csv('./simulation_results/2023-07-29_21-15-40.csv') # block\n",
        "df23 = pd.read_csv('./simulation_results/2023-07-29_23-49-16.csv')"
      ],
      "id": "c4c2ef95-60c8-4988-aab2-a0c13a15d236"
    },
    {
      "cell_type": "code",
      "execution_count": 296,
      "metadata": {},
      "outputs": [],
      "source": [
        "data = pd.concat([df1,df2,df3,df4,df5,df6,df7,df8,df9,df10,df11,df12,df13,df14,df15,df16,df17,df18,df19,df20,df21,df22,df23],axis=0)"
      ],
      "id": "7d1049f6-c6c5-4e08-a8bd-ae9bd111081d"
    },
    {
      "cell_type": "code",
      "execution_count": 297,
      "metadata": {},
      "outputs": [],
      "source": [
        "data.to_csv('./simulation_results/Real_simulation_reshape/GCLSTM_wikimath.csv',index=False)"
      ],
      "id": "5a231997-7d83-4a19-bde2-a6141176a18f"
    },
    {
      "cell_type": "code",
      "execution_count": 298,
      "metadata": {},
      "outputs": [],
      "source": [
        "data = pd.read_csv('./simulation_results/Real_simulation_reshape/GCLSTM_wikimath.csv')"
      ],
      "id": "9ac274ef-f1c0-450e-88a9-e1b8681e3d41"
    },
    {
      "cell_type": "markdown",
      "metadata": {},
      "source": [
        "## Baseline"
      ],
      "id": "53423d8f-28fc-472a-a460-960f49badaf3"
    },
    {
      "cell_type": "code",
      "execution_count": 299,
      "metadata": {},
      "outputs": [],
      "source": [
        "data.query(\"mrate==0 and method!='GNAR'\").plot.box(backend='plotly',x='mrate',color='method',y='mse',height=600)"
      ],
      "id": "a1b41d2d-045b-4071-a8fa-83f9de222ca7"
    },
    {
      "cell_type": "markdown",
      "metadata": {},
      "source": [
        "## random"
      ],
      "id": "41468b51-1e75-4e00-89e2-b4487cd07a57"
    },
    {
      "cell_type": "code",
      "execution_count": 300,
      "metadata": {},
      "outputs": [],
      "source": [
        "data.query(\"mtype=='rand' and mrate !=0 and method!='GNAR'\").plot.box(backend='plotly',x='mrate',color='method',y='mse',facet_col='lags',facet_row='nof_filters',height=800)\n"
      ],
      "id": "e5357bd5-9d9c-4dc3-9708-faba057e29c4"
    },
    {
      "cell_type": "markdown",
      "metadata": {},
      "source": [
        "## block"
      ],
      "id": "2a49739b-f262-46ce-b660-57364c1df7ef"
    },
    {
      "cell_type": "code",
      "execution_count": 301,
      "metadata": {},
      "outputs": [],
      "source": [
        "data.query(\"mtype=='block' and method!='GNAR'\").plot.box(backend='plotly',x='mrate',color='method',y='mse',facet_col='lags',facet_row='nof_filters',height=1200)\n"
      ],
      "id": "00387504-b300-483a-98c8-463824dfcd3b"
    },
    {
      "cell_type": "markdown",
      "metadata": {},
      "source": [
        "## missing values on the same nodes"
      ],
      "id": "70566e5b-3735-4b89-a01a-3531e6ac8d29"
    },
    {
      "cell_type": "code",
      "execution_count": 332,
      "metadata": {
        "tags": []
      },
      "outputs": [],
      "source": [
        "df1 = pd.read_csv('./simulation_results/2023-06-17_01-42-41.csv') # STGCN IT-STGCN block\n",
        "# df2 = pd.read_csv('./simulation_results/2023-06-17_03-35-20.csv') # STGCN IT-STGCN\n",
        "df3 = pd.read_csv('./simulation_results/2023-06-17_10-06-34.csv') \n",
        "\n",
        "df4 = pd.read_csv('./simulation_results/2023-07-10_05-37-15.csv') \n",
        "df5 = pd.read_csv('./simulation_results/2023-07-10_11-00-23.csv') \n",
        "df6 = pd.read_csv('./simulation_results/2023-07-10_16-03-18.csv') "
      ],
      "id": "dbec930d-b9c9-4ff7-8836-880aa3231743"
    },
    {
      "cell_type": "code",
      "execution_count": 333,
      "metadata": {},
      "outputs": [],
      "source": [
        "data = pd.concat([df1,df3,df4,df5,df6],axis=0)"
      ],
      "id": "00e96c86-a215-4b2b-bb1a-9cc951540813"
    },
    {
      "cell_type": "code",
      "execution_count": 334,
      "metadata": {},
      "outputs": [],
      "source": [
        "data.to_csv('./simulation_results/Real_simulation_reshape/GCLSTM_wikimath_GSO_st.csv',index=False)"
      ],
      "id": "8cc5f24e-d5da-4e03-a9ae-98fc0bb216e9"
    },
    {
      "cell_type": "code",
      "execution_count": 335,
      "metadata": {},
      "outputs": [],
      "source": [
        "data = pd.read_csv('./simulation_results/Real_simulation_reshape/GCLSTM_wikimath_GSO_st.csv')"
      ],
      "id": "f894932d-b283-4b9a-b3af-e67ffe39d415"
    },
    {
      "cell_type": "code",
      "execution_count": 336,
      "metadata": {},
      "outputs": [],
      "source": [
        "data.query(\"method!='GNAR' and mtype =='block' \").plot.box(backend='plotly',x='mrate',color='method',y='mse',facet_col='inter_method',facet_row='lags',height=800)\n"
      ],
      "id": "6f0eac11-9a03-4dd4-a27b-967d6cb4f5ba"
    },
    {
      "cell_type": "markdown",
      "metadata": {},
      "source": [
        "# Windmilsmall"
      ],
      "id": "9448364b-abb2-418c-a122-a1463ca787b5"
    },
    {
      "cell_type": "code",
      "execution_count": 310,
      "metadata": {
        "tags": []
      },
      "outputs": [],
      "source": [
        "df1 = pd.read_csv('./simulation_results/2023-07-08_16-46-22.csv') # STGCN IT-STGCN 70%\n",
        "df2 = pd.read_csv('./simulation_results/2023-07-09_01-43-03.csv') # STGCN IT-STGCN\n",
        "df3 = pd.read_csv('./simulation_results/2023-07-09_10-40-50.csv') # STGCN IT-STGCN\n",
        "df4 = pd.read_csv('./simulation_results/2023-07-09_10-40-50.csv') # STGCN IT-STGCN\n",
        "df5 = pd.read_csv('./simulation_results/2023-07-09_19-35-52.csv') # STGCN IT-STGCN\n",
        "df6 = pd.read_csv('./simulation_results/2023-07-28_12-40-27.csv') # GNAR 30%, 50%, 70% # 뭔가 일단 필요없어서 데이터셋에서 뺌\n",
        "df7 = pd.read_csv('./simulation_results/2023-07-10_05-19-00.csv') # STGCN IT-STGCN\n",
        "df8 = pd.read_csv('./simulation_results/2023-07-10_15-38-09.csv') # STGCN IT-STGCN\n",
        "df9 = pd.read_csv('./simulation_results/2023-07-11_00-47-18.csv') # STGCN IT-STGCN\n",
        "df10 = pd.read_csv('./simulation_results/2023-07-11_09-43-29.csv') # STGCN IT-STGCN\n",
        "df11 = pd.read_csv('./simulation_results/2023-07-11_18-37-15.csv') # STGCN IT-STGCN\n",
        "df12 = pd.read_csv('./simulation_results/2023-07-12_03-27-10.csv') # STGCN IT-STGCN\n",
        "df13 = pd.read_csv('./simulation_results/2023-07-12_12-12-07.csv') # STGCN IT-STGCN\n",
        "df14 = pd.read_csv('./simulation_results/2023-07-12_20-57-30.csv') # STGCN IT-STGCN\n",
        "df15 = pd.read_csv('./simulation_results/2023-07-13_05-53-36.csv') # STGCN IT-STGCN\n",
        "df16 = pd.read_csv('./simulation_results/2023-07-12_19-07-41.csv') # STGCN IT-STGCN\n",
        "df17 = pd.read_csv('./simulation_results/2023-07-13_04-09-38.csv') # STGCN IT-STGCN\n",
        "df18 = pd.read_csv('./simulation_results/2023-04-20_08-30-27.csv') # STGCN IT-STGCN\n",
        "df19 = pd.read_csv('./simulation_results/2023-04-20_14-28-35.csv') # STGCN IT-STGCN\n",
        "df20 = pd.read_csv('./simulation_results/2023-04-20_16-08-39.csv') # STGCN IT-STGCN\n",
        "df21 = pd.read_csv('./simulation_results/2023-07-13_20-26-31.csv') # STGCN IT-STGCN\n",
        "df22 = pd.read_csv('./simulation_results/2023-07-13_21-36-49.csv') # STGCN IT-STGCN\n",
        "df23 = pd.read_csv('./simulation_results/2023-07-14_03-03-03.csv') # STGCN IT-STGCN\n",
        "df24 = pd.read_csv('./simulation_results/2023-07-14_04-13-48.csv') # STGCN IT-STGCN\n",
        "df25 = pd.read_csv('./simulation_results/2023-07-14_10-49-08.csv') # STGCN IT-STGCN\n",
        "df26 = pd.read_csv('./simulation_results/2023-07-14_13-01-02.csv') # STGCN IT-STGCN\n",
        "df27 = pd.read_csv('./simulation_results/2023-07-14_21-09-47.csv') # STGCN IT-STGCN\n",
        "df28 = pd.read_csv('./simulation_results/2023-07-14_22-48-18.csv') # STGCN IT-STGCN\n",
        "df29 = pd.read_csv('./simulation_results/2023-07-15_07-24-08.csv') # STGCN IT-STGCN\n",
        "df30 = pd.read_csv('./simulation_results/2023-07-15_09-28-06.csv') # STGCN IT-STGCN\n",
        "df31 = pd.read_csv('./simulation_results/2023-07-15_16-22-58.csv') # GNAR 70%\n",
        "df32 = pd.read_csv('./simulation_results/2023-07-15_18-56-34.csv') # GNAR \n",
        "df33 = pd.read_csv('./simulation_results/2023-07-16_02-27-30.csv')\n",
        "df34 = pd.read_csv('./simulation_results/2023-07-16_04-39-55.csv')\n",
        "df35 = pd.read_csv('./simulation_results/2023-07-16_08-52-31.csv')\n",
        "df36 = pd.read_csv('./simulation_results/2023-07-16_13-46-01.csv')\n",
        "df37 = pd.read_csv('./simulation_results/2023-07-16_16-24-14.csv')\n",
        "df38 = pd.read_csv('./simulation_results/2023-07-16_20-42-20.csv')\n",
        "df39 = pd.read_csv('./simulation_results/2023-07-17_02-06-35.csv')\n",
        "df40 = pd.read_csv('./simulation_results/2023-07-17_04-36-34.csv')\n",
        "df41 = pd.read_csv('./simulation_results/2023-07-17_08-38-54.csv')\n",
        "df42 = pd.read_csv('./simulation_results/2023-07-17_13-34-00.csv')\n",
        "df43 = pd.read_csv('./simulation_results/2023-07-17_15-23-22.csv')\n",
        "df44 = pd.read_csv('./simulation_results/2023-07-17_19-53-20.csv')\n",
        "df45 = pd.read_csv('./simulation_results/2023-07-18_00-22-34.csv')\n",
        "df46 = pd.read_csv('./simulation_results/2023-07-18_02-06-38.csv')\n",
        "df47 = pd.read_csv('./simulation_results/2023-07-18_06-34-10.csv')\n",
        "df48 = pd.read_csv('./simulation_results/2023-07-18_11-10-06.csv')\n",
        "df49 = pd.read_csv('./simulation_results/2023-07-18_12-50-31.csv')\n",
        "df50 = pd.read_csv('./simulation_results/2023-07-18_17-52-05.csv')\n",
        "df51 = pd.read_csv('./simulation_results/2023-07-18_22-00-41.csv')\n",
        "df52 = pd.read_csv('./simulation_results/2023-07-18_23-42-45.csv')\n",
        "df53 = pd.read_csv('./simulation_results/2023-07-19_04-59-21.csv')\n",
        "df54 = pd.read_csv('./simulation_results/2023-07-19_08-48-28.csv')\n",
        "df55 = pd.read_csv('./simulation_results/2023-07-19_17-01-57.csv')\n",
        "df56 = pd.read_csv('./simulation_results/2023-07-19_21-26-20.csv')\n",
        "df57 = pd.read_csv('./simulation_results/2023-07-20_06-05-43.csv')\n",
        "df58 = pd.read_csv('./simulation_results/2023-07-20_10-08-26.csv')\n",
        "df59 = pd.read_csv('./simulation_results/2023-07-20_19-15-18.csv')\n",
        "df60 = pd.read_csv('./simulation_results/2023-07-20_22-32-18.csv')\n",
        "df61 = pd.read_csv('./simulation_results/2023-07-21_06-57-23.csv')\n",
        "df62 = pd.read_csv('./simulation_results/2023-07-21_10-56-01.csv')\n",
        "df63 = pd.read_csv('./simulation_results/2023-07-21_17-56-21.csv')\n",
        "df64 = pd.read_csv('./simulation_results/2023-07-21_17-56-21.csv')\n",
        "df65 = pd.read_csv('./simulation_results/2023-07-21_20-36-27.csv')\n",
        "df66 = pd.read_csv('./simulation_results/2023-07-22_04-31-53.csv')\n",
        "df67 = pd.read_csv('./simulation_results/2023-07-22_07-03-52.csv')\n",
        "df68 = pd.read_csv('./simulation_results/2023-07-22_17-31-45.csv') # 확인 후 block 만 넣기!\n",
        "df69 = pd.read_csv('./simulation_results/2023-07-22_19-44-00.csv')\n",
        "df70 = pd.read_csv('./simulation_results/2023-07-23_05-22-58.csv')\n",
        "df71 = pd.read_csv('./simulation_results/2023-07-23_07-55-51.csv')\n",
        "df72 = pd.read_csv('./simulation_results/2023-07-23_17-42-13.csv')\n",
        "df73 = pd.read_csv('./simulation_results/2023-07-23_20-30-21.csv')\n",
        "df74 = pd.read_csv('./simulation_results/2023-07-24_05-41-08.csv')\n",
        "df75 = pd.read_csv('./simulation_results/2023-07-24_07-54-06.csv')\n",
        "df76 = pd.read_csv('./simulation_results/2023-07-24_17-39-27.csv')\n",
        "df77 = pd.read_csv('./simulation_results/2023-07-24_19-53-21.csv')\n",
        "df78 = pd.read_csv('./simulation_results/2023-07-25_05-57-37.csv')\n",
        "df79 = pd.read_csv('./simulation_results/2023-07-25_08-15-18.csv')\n",
        "df80 = pd.read_csv('./simulation_results/2023-07-25_16-42-39.csv')\n",
        "df81 = pd.read_csv('./simulation_results/2023-07-26_04-43-08.csv')\n",
        "df82 = pd.read_csv('./simulation_results/2023-07-26_17-00-20.csv')\n",
        "df83 = pd.read_csv('./simulation_results/2023-07-26_17-11-59.csv')\n",
        "df84 = pd.read_csv('./simulation_results/2023-07-27_04-12-22.csv')\n",
        "df85 = pd.read_csv('./simulation_results/2023-07-27_09-40-00.csv')\n",
        "df86 = pd.read_csv('./simulation_results/2023-07-28_01-55-45.csv')\n",
        "df87 = pd.read_csv('./simulation_results/2023-07-28_22-32-45.csv')\n",
        "df88 = pd.read_csv('./simulation_results/2023-07-29_08-57-46.csv')\n",
        "df89 = pd.read_csv('./simulation_results/2023-07-29_19-26-33.csv')\n",
        "df90 = pd.read_csv('./simulation_results/2023-07-30_05-12-15.csv')\n",
        "df91 = pd.read_csv('./simulation_results/2023-07-30_17-14-46.csv')"
      ],
      "id": "60feafe2-c522-4400-95c0-cc473c6d7d95"
    },
    {
      "cell_type": "code",
      "execution_count": 311,
      "metadata": {},
      "outputs": [],
      "source": [
        "data = pd.concat([df1,df2,df3,df4,df5,df6,df7,df8,df9,df10,df11,df12,df13,df14,df15,df16,df17,\n",
        "                 df18,df19,df20,df21,df22,df23,df24,df25,df26,df27,df28,df29,df30,df31,df32,df33,df34,\n",
        "                 df35,df36,df37,df38,df39,df40,df41,df42,df43,df44,df45,df46,df47,df48,df49,df50,\n",
        "                 df51, df52, df53,df54,df55,df56,df57,df58,df59,df60,df61,df62,df63,df64,df65,df66,df67,\n",
        "                 df68,df69,df70,df71,df72,df73,df74,df75,df76,df77,df78,df79,df80,df81,df82,df83,df84,df85,df86,\n",
        "                 df87,df88,df89,df90,df91],axis=0)"
      ],
      "id": "bc0eb773-3aad-4f2a-846b-f56944b10edd"
    },
    {
      "cell_type": "code",
      "execution_count": 312,
      "metadata": {},
      "outputs": [],
      "source": [
        "data.to_csv('./simulation_results/Real_simulation_reshape/GCLSTM_windmillsmall.csv',index=False)"
      ],
      "id": "f5a2ae0d-ded1-4f92-ad87-49141f9aca34"
    },
    {
      "cell_type": "code",
      "execution_count": 313,
      "metadata": {},
      "outputs": [],
      "source": [
        "data = pd.read_csv('./simulation_results/Real_simulation_reshape/GCLSTM_windmillsmall.csv')"
      ],
      "id": "5b25226b-6bcf-4522-b43f-5a683cb4c1b1"
    },
    {
      "cell_type": "markdown",
      "metadata": {},
      "source": [
        "## Baseline"
      ],
      "id": "c1735669-6d53-42f9-8c61-940ec8ed617e"
    },
    {
      "cell_type": "code",
      "execution_count": 314,
      "metadata": {},
      "outputs": [],
      "source": [
        "data.query(\"method!='GNAR' and mrate ==0 \").plot.box(backend='plotly',x='mrate',color='method',y='mse',facet_col='lags',height=800)\n"
      ],
      "id": "f64889b7-7f45-433b-94de-eadb7bf73cee"
    },
    {
      "cell_type": "markdown",
      "metadata": {},
      "source": [
        "## random"
      ],
      "id": "9e900fdf-78a7-4390-ab17-5c3622c6ae1b"
    },
    {
      "cell_type": "code",
      "execution_count": 315,
      "metadata": {},
      "outputs": [],
      "source": [
        "data.query(\"method!='GNAR' and mtype =='rand' \").plot.box(backend='plotly',x='mrate',color='method',y='mse',facet_col='lags',facet_row='inter_method',height=800)\n"
      ],
      "id": "576378e2-c0b7-4aac-b03a-f4215b60c0ca"
    },
    {
      "cell_type": "markdown",
      "metadata": {},
      "source": [
        "## block"
      ],
      "id": "1af8d6bd-12be-4a2a-a06f-e7a25d446ba2"
    },
    {
      "cell_type": "code",
      "execution_count": 316,
      "metadata": {},
      "outputs": [],
      "source": [
        "data.query(\"method!='GNAR' and mtype =='block' \").plot.box(backend='plotly',x='mrate',color='method',y='mse',facet_col='lags',facet_row='inter_method',height=800)\n"
      ],
      "id": "456323f2-f529-4f39-9c94-096286e23dd4"
    },
    {
      "cell_type": "markdown",
      "metadata": {},
      "source": [
        "# Montevideobus"
      ],
      "id": "683591cf-f2ab-416c-98c5-740abb804ca6"
    },
    {
      "cell_type": "code",
      "execution_count": 263,
      "metadata": {},
      "outputs": [],
      "source": [
        "# k=1\n",
        "df1 = pd.read_csv('./simulation_results/2023-06-14_00-09-03.csv') # lags 8\n",
        "df2 = pd.read_csv('./simulation_results/2023-06-14_00-09-03.csv') # lags 8\n",
        "df3 = pd.read_csv('./simulation_results/2023-06-14_03-15-40.csv') # lags 8\n",
        "df4 = pd.read_csv('./simulation_results/2023-06-14_06-23-01.csv') # lags 8\n",
        "df5 = pd.read_csv('./simulation_results/2023-06-14_09-31-21.csv') # lags 8\n",
        "df6 = pd.read_csv('./simulation_results/2023-06-14_12-29-12.csv') # lags 8\n",
        "df7 = pd.read_csv('./simulation_results/2023-06-14_15-27-41.csv') # lags 8"
      ],
      "id": "793f682e-0f6a-4822-b0db-a009441afa43"
    },
    {
      "cell_type": "code",
      "execution_count": 136,
      "metadata": {},
      "outputs": [],
      "source": [
        "df8 = pd.read_csv('./simulation_results/2023-07-22_11-13-32.csv') # lags 8\n",
        "df9 = pd.read_csv('./simulation_results/2023-07-21_18-40-37.csv') # lags 8\n",
        "df10 = pd.read_csv('./simulation_results/2023-07-21_20-32-41.csv') # lags 8\n",
        "df11 = pd.read_csv('./simulation_results/2023-07-21_22-22-45.csv') # lags 8\n",
        "df12 = pd.read_csv('./simulation_results/2023-07-22_00-21-56.csv') # lags 8\n",
        "df13 = pd.read_csv('./simulation_results/2023-07-22_02-21-47.csv') # lags 8\n",
        "df14 = pd.read_csv('./simulation_results/2023-07-22_04-09-40.csv') # lags 8\n",
        "df15 = pd.read_csv('./simulation_results/2023-07-22_05-50-30.csv')\n",
        "df16 = pd.read_csv('./simulation_results/2023-07-22_07-46-56.csv')"
      ],
      "id": "c9e0c5f8-c718-48b6-90e0-ed8bd48ee885"
    },
    {
      "cell_type": "code",
      "execution_count": 137,
      "metadata": {},
      "outputs": [],
      "source": [
        "data = pd.concat([df1,df2,df3,df4,df5,df6,df7,df9,df10,df11,df12,df13,df14,df15,df16,   df8],axis=0)"
      ],
      "id": "c3a63984-1488-4abf-8b1d-e3fc47690cc7"
    },
    {
      "cell_type": "code",
      "execution_count": 138,
      "metadata": {},
      "outputs": [],
      "source": [
        "data.to_csv('./simulation_results/Real_simulation_reshape/GCLSTM_monte.csv',index=False)"
      ],
      "id": "472cbc54-9db7-4cc2-b11c-57e008a08591"
    },
    {
      "cell_type": "code",
      "execution_count": 139,
      "metadata": {},
      "outputs": [],
      "source": [
        "data = pd.read_csv('./simulation_results/Real_simulation_reshape/GCLSTM_monte.csv')"
      ],
      "id": "eb1e0e61-78da-4a09-932d-9d2de801f9ca"
    },
    {
      "cell_type": "markdown",
      "metadata": {},
      "source": [
        "## Baseline"
      ],
      "id": "ae4cc361-7780-4759-b182-aec2a7860d28"
    },
    {
      "cell_type": "code",
      "execution_count": 140,
      "metadata": {},
      "outputs": [],
      "source": [
        "data.query(\"mrate==0 and method!='GNAR'\").plot.box(backend='plotly',x='mrate',color='method',y='mse',facet_col='lags',facet_row='nof_filters',height=600)"
      ],
      "id": "d4cb34fd-2161-4307-a940-0f9677ef1ca1"
    },
    {
      "cell_type": "markdown",
      "metadata": {},
      "source": [
        "## random"
      ],
      "id": "c854fdf6-e4f1-4606-ade0-3201c7b18c7a"
    },
    {
      "cell_type": "code",
      "execution_count": 141,
      "metadata": {},
      "outputs": [],
      "source": [
        "data.query(\"mtype=='rand' and mrate !=0 and method!='GNAR'\").plot.box(backend='plotly',x='mrate',color='method',y='mse',facet_col='lags',facet_row='inter_method',height=800)\n"
      ],
      "id": "b1f78f46-4fca-420e-bdd1-c86dadbcbddc"
    },
    {
      "cell_type": "markdown",
      "metadata": {},
      "source": [
        "## block"
      ],
      "id": "f31b38d7-0043-4c7b-9ff1-1a76e7e725ea"
    },
    {
      "cell_type": "code",
      "execution_count": 142,
      "metadata": {},
      "outputs": [],
      "source": [
        "data.query(\"mtype=='block' and method!='GNAR'\").plot.box(backend='plotly',x='mrate',color='method',y='mse',facet_col='lags',facet_row='nof_filters',height=1200)\n"
      ],
      "id": "ce201afe-d560-44e2-856f-4c8f1edc7608"
    }
  ],
  "nbformat": 4,
  "nbformat_minor": 5,
  "metadata": {
    "kernelspec": {
      "name": "python3",
      "display_name": "Python 3",
      "language": "python"
    },
    "language_info": {
      "name": "python",
      "codemirror_mode": {
        "name": "ipython",
        "version": "3"
      },
      "file_extension": ".py",
      "mimetype": "text/x-python",
      "nbconvert_exporter": "python",
      "pygments_lexer": "ipython3",
      "version": "3.8.0"
    }
  }
}
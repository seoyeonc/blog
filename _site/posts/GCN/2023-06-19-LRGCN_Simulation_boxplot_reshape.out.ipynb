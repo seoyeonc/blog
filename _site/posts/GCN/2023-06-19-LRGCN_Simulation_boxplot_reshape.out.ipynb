{
  "cells": [
    {
      "cell_type": "markdown",
      "metadata": {},
      "source": [
        "# LRGCN_Simulation_reshape\n",
        "\n",
        "SEOYEON CHOI  \n",
        "2023-06-13\n",
        "\n",
        "> Simulation Study\n",
        "\n",
        "# Import"
      ],
      "id": "b3fd7dd8-7ab5-40ab-a239-5fd1d24ee55b"
    },
    {
      "cell_type": "code",
      "execution_count": 1,
      "metadata": {},
      "outputs": [],
      "source": [
        "import matplotlib.pyplot as plt\n",
        "import pandas as pd\n",
        "import numpy as np"
      ],
      "id": "97cfaa6d-11ad-460b-874c-01c8e2c14e70"
    },
    {
      "cell_type": "markdown",
      "metadata": {},
      "source": [
        "# Fivenodes"
      ],
      "id": "c39b41c6-fbd8-4856-9a2b-1e132ab5a845"
    },
    {
      "cell_type": "code",
      "execution_count": 46,
      "metadata": {},
      "outputs": [],
      "source": [
        "df1 = pd.read_csv('./simulation_results/2023-06-19_14-50-01.csv')\n",
        "df2 = pd.read_csv('./simulation_results/2023-06-19_15-28-49.csv')\n",
        "df3 = pd.read_csv('./simulation_results/2023-06-19_16-07-15.csv')\n",
        "df4 = pd.read_csv('./simulation_results/2023-06-19_19-11-20.csv')\n",
        "df5 = pd.read_csv('./simulation_results/2023-06-19_16-43-35.csv')\n",
        "df6 = pd.read_csv('./simulation_results/2023-06-19_17-20-21.csv')\n",
        "df7 = pd.read_csv('./simulation_results/2023-06-19_17-55-56.csv')\n",
        "df8 = pd.read_csv('./simulation_results/2023-06-19_18-31-52.csv')"
      ],
      "id": "58a7de0e-0147-4be6-ae52-f391e068d404"
    },
    {
      "cell_type": "code",
      "execution_count": 47,
      "metadata": {},
      "outputs": [],
      "source": [
        "df9 = pd.read_csv('./simulation_results/2023-07-18_07-04-57.csv')\n",
        "df10 = pd.read_csv('./simulation_results/2023-07-18_07-45-38.csv')\n",
        "df11 = pd.read_csv('./simulation_results/2023-07-18_08-27-17.csv')\n",
        "df12 = pd.read_csv('./simulation_results/2023-07-18_09-09-01.csv')\n",
        "df13 = pd.read_csv('./simulation_results/2023-07-18_09-49-56.csv')\n",
        "df14 = pd.read_csv('./simulation_results/2023-07-18_10-31-29.csv')"
      ],
      "id": "9fb0c45d-78a1-4bed-9071-92d0aea5ce56"
    },
    {
      "cell_type": "code",
      "execution_count": 48,
      "metadata": {},
      "outputs": [],
      "source": [
        "data = pd.concat([df1,df2,df3,df4,df5,df6,df7,df8,df9,df10,df11,df12,df13,df14],axis=0)"
      ],
      "id": "243c8ac3-63ef-463b-920c-732bcea5b27d"
    },
    {
      "cell_type": "code",
      "execution_count": 49,
      "metadata": {},
      "outputs": [],
      "source": [
        "data.to_csv('./simulation_results/Real_simulation_reshape/LRGCN_fivedones_Simulation.csv',index=False)"
      ],
      "id": "6531c324-827c-4f7f-aef7-90da0b1f2c23"
    },
    {
      "cell_type": "code",
      "execution_count": 50,
      "metadata": {},
      "outputs": [],
      "source": [
        "data = pd.read_csv('./simulation_results/Real_simulation_reshape/LRGCN_fivedones_Simulation.csv')"
      ],
      "id": "2029a91d-4dc4-4eb2-8f9d-63d4727f4c94"
    },
    {
      "cell_type": "markdown",
      "metadata": {},
      "source": [
        "## Baseline"
      ],
      "id": "0c4d0aea-023d-4b6c-bca2-cf5c2ec6d95a"
    },
    {
      "cell_type": "code",
      "execution_count": 51,
      "metadata": {
        "tags": []
      },
      "outputs": [],
      "source": [
        "data.query(\"method!='GNAR' and mrate==0\").plot.box(backend='plotly',x='mrate',color='method',y='mse',facet_col='lags',facet_row='nof_filters',height=600)\n"
      ],
      "id": "14023051-c860-4a46-9df4-5408996cdce4"
    },
    {
      "cell_type": "markdown",
      "metadata": {},
      "source": [
        "## Random"
      ],
      "id": "a1ef06ac-04a4-445c-b9f0-3c998695df25"
    },
    {
      "cell_type": "code",
      "execution_count": 52,
      "metadata": {},
      "outputs": [],
      "source": [
        "data.query(\"method!='GNAR' and mtype =='rand'\").plot.box(backend='plotly',x='mrate',color='method',y='mse',facet_col='inter_method',facet_row='nof_filters',height=600)\n",
        "\n"
      ],
      "id": "8571d995-8823-48ef-8324-d8acc3ee8f62"
    },
    {
      "cell_type": "markdown",
      "metadata": {},
      "source": [
        "## Block"
      ],
      "id": "4f406b8b-49d6-41f2-a937-8b1621fa7dd2"
    },
    {
      "cell_type": "code",
      "execution_count": 53,
      "metadata": {},
      "outputs": [],
      "source": [
        "data.query(\"method!='GNAR' and mtype =='block' \").plot.box(backend='plotly',x='mrate',color='method',y='mse',facet_col='inter_method',facet_row='nof_filters',height=600)\n"
      ],
      "id": "1d2b0683-7351-4062-bec3-cacfba1b48f4"
    },
    {
      "cell_type": "markdown",
      "metadata": {},
      "source": [
        "# chickenpox"
      ],
      "id": "037f5fa8-d6da-43b2-882b-68c6163933e6"
    },
    {
      "cell_type": "code",
      "execution_count": 54,
      "metadata": {},
      "outputs": [],
      "source": [
        "df1 = pd.read_csv('./simulation_results/2023-06-19_21-16-21.csv') # GNAR random\n",
        "df2 = pd.read_csv('./simulation_results/2023-06-19_23-17-46.csv') # GNAR block\n",
        "df3 = pd.read_csv('./simulation_results/2023-06-20_00-19-25.csv') # STGCN, ITSTGCN random 30%\n",
        "df4 = pd.read_csv('./simulation_results/2023-06-20_01-21-25.csv') \n",
        "df5 = pd.read_csv('./simulation_results/2023-06-20_10-19-58.csv') \n",
        "df6 = pd.read_csv('./simulation_results/2023-06-20_12-07-01.csv') "
      ],
      "id": "3e66680d-3b56-4295-b4da-c8988c6ceb77"
    },
    {
      "cell_type": "code",
      "execution_count": 55,
      "metadata": {},
      "outputs": [],
      "source": [
        "df7 = pd.read_csv('./simulation_results/2023-07-18_11-34-37.csv') # GNAR random\n",
        "df8 = pd.read_csv('./simulation_results/2023-07-18_12-40-07.csv') # GNAR block\n",
        "df9 = pd.read_csv('./simulation_results/2023-07-18_13-42-11.csv') # STGCN, ITSTGCN random 30%\n",
        "df10 = pd.read_csv('./simulation_results/2023-07-18_14-46-05.csv') "
      ],
      "id": "61b3960e-a97c-4e50-9bd6-4e82e2aafa73"
    },
    {
      "cell_type": "code",
      "execution_count": 56,
      "metadata": {},
      "outputs": [],
      "source": [
        "data = pd.concat([df1,df2,df3,df4,df5,df6,df7,df8,df9,df10],axis=0)"
      ],
      "id": "3a15858e-07b2-460c-86c6-49ee4deeb10d"
    },
    {
      "cell_type": "code",
      "execution_count": 57,
      "metadata": {},
      "outputs": [],
      "source": [
        "data.to_csv('./simulation_results/Real_simulation_reshape/LRGCN_chikenpox_Simulation.csv',index=False)"
      ],
      "id": "158398fa-ae55-4525-8535-eb323b1c4b6b"
    },
    {
      "cell_type": "code",
      "execution_count": 58,
      "metadata": {},
      "outputs": [],
      "source": [
        "data = pd.read_csv('./simulation_results/Real_simulation_reshape/LRGCN_chikenpox_Simulation.csv')"
      ],
      "id": "dc861068-2821-4447-a4b7-3cb5b4a0ed8c"
    },
    {
      "cell_type": "markdown",
      "metadata": {},
      "source": [
        "## Baseline"
      ],
      "id": "d4221573-d020-4061-aa53-334544b05173"
    },
    {
      "cell_type": "code",
      "execution_count": 59,
      "metadata": {},
      "outputs": [],
      "source": [
        "data.query(\"method!='GNAR' and mrate ==0 \").plot.box(backend='plotly',x='mrate',color='method',y='mse',facet_col='nof_filters',height=600)\n"
      ],
      "id": "1cb5fa6e-48a8-4931-95f2-08903b76569f"
    },
    {
      "cell_type": "markdown",
      "metadata": {},
      "source": [
        "## Random"
      ],
      "id": "ed8e9c7d-d710-424d-b89f-886cd59561c2"
    },
    {
      "cell_type": "code",
      "execution_count": 60,
      "metadata": {},
      "outputs": [],
      "source": [
        "data.query(\"method!='GNAR' and mtype =='rand'\").plot.box(backend='plotly',x='mrate',color='method',y='mse',facet_col='nof_filters',facet_row='inter_method',height=800)\n"
      ],
      "id": "de6f2569-bee5-4111-8394-699cc72aaf03"
    },
    {
      "cell_type": "markdown",
      "metadata": {},
      "source": [
        "## Block"
      ],
      "id": "1b705aab-beac-44bb-8dc0-866d11731c37"
    },
    {
      "cell_type": "code",
      "execution_count": 61,
      "metadata": {},
      "outputs": [],
      "source": [
        "data.query(\"method!='GNAR' and mtype =='block'\").plot.box(backend='plotly',x='mrate',color='method',y='mse',facet_col='inter_method',facet_row='lags',height=800)\n"
      ],
      "id": "9b5ad264-8a84-46ae-a866-33587dc9e160"
    },
    {
      "cell_type": "markdown",
      "metadata": {},
      "source": [
        "# Pedalme"
      ],
      "id": "7426744b-eae6-4f0c-a1cc-d35c24467bbb"
    },
    {
      "cell_type": "code",
      "execution_count": 67,
      "metadata": {},
      "outputs": [],
      "source": [
        "df1 = pd.read_csv('./simulation_results/2023-06-19_13-57-33.csv') \n",
        "df2 = pd.read_csv('./simulation_results/2023-06-19_14-10-25.csv')  "
      ],
      "id": "d4636a02-2db0-4676-a73b-9c7566c258f4"
    },
    {
      "cell_type": "code",
      "execution_count": 68,
      "metadata": {},
      "outputs": [],
      "source": [
        "df3 = pd.read_csv('./simulation_results/2023-07-18_15-12-36.csv') "
      ],
      "id": "a501dc16-e333-4fe1-a8d6-025acd05ddad"
    },
    {
      "cell_type": "code",
      "execution_count": 69,
      "metadata": {},
      "outputs": [],
      "source": [
        "data = pd.concat([df1,df2,df3],axis=0)"
      ],
      "id": "d22955cb-e046-49c8-890a-52ffe13e237d"
    },
    {
      "cell_type": "code",
      "execution_count": 70,
      "metadata": {},
      "outputs": [],
      "source": [
        "data.to_csv('./simulation_results/Real_simulation_reshape/LRGCN_pedalme_Simulation.csv',index=False)"
      ],
      "id": "ee3ef5e8-7298-49dd-b21f-9644c30b5f77"
    },
    {
      "cell_type": "code",
      "execution_count": 71,
      "metadata": {},
      "outputs": [],
      "source": [
        "data = pd.read_csv('./simulation_results/Real_simulation_reshape/LRGCN_pedalme_Simulation.csv')"
      ],
      "id": "446c16b2-85d5-4f90-b214-fe80c77bd0c9"
    },
    {
      "cell_type": "markdown",
      "metadata": {},
      "source": [
        "## Baseline"
      ],
      "id": "9f69b38a-ae20-4d62-af2b-73c10d826380"
    },
    {
      "cell_type": "code",
      "execution_count": 72,
      "metadata": {},
      "outputs": [],
      "source": [
        "data.query(\"mrate ==0 and lags!=2\").plot.box(backend='plotly',x='epoch',color='method',y='mse',facet_col='nof_filters',facet_row='lags',height=400)\n"
      ],
      "id": "cd49941e-507b-496f-a9bc-9bb3936acc5e"
    },
    {
      "cell_type": "markdown",
      "metadata": {},
      "source": [
        "## random"
      ],
      "id": "449054ce-fdb5-4fc3-8377-e714b8124dff"
    },
    {
      "cell_type": "code",
      "execution_count": 73,
      "metadata": {},
      "outputs": [],
      "source": [
        "data.query(\"method!='GNAR' and mtype =='rand' and lags!=2\").plot.box(backend='plotly',x='mrate',color='method',y='mse',facet_col='nof_filters',facet_row='inter_method',height=800)\n"
      ],
      "id": "5375fbb0-00f5-4073-94a0-025f757cf4e8"
    },
    {
      "cell_type": "markdown",
      "metadata": {},
      "source": [
        "## block"
      ],
      "id": "0ca3d21f-f7e7-4ca2-815d-aaa84647d9d5"
    },
    {
      "cell_type": "code",
      "execution_count": 74,
      "metadata": {},
      "outputs": [],
      "source": [
        "data.query(\"method!='GNAR' and mtype =='block' and lags!=2 \").plot.box(backend='plotly',x='mrate',color='method',y='mse',facet_col='nof_filters',facet_row='inter_method',height=800)\n"
      ],
      "id": "3a2b2904-0190-445f-b5e9-31f1306fb765"
    },
    {
      "cell_type": "markdown",
      "metadata": {},
      "source": [
        "## weight matrix time, node 고려한 결과"
      ],
      "id": "9c984fdb-b28f-4c2e-b72e-dddc2f4d087d"
    },
    {
      "cell_type": "code",
      "execution_count": 103,
      "metadata": {},
      "outputs": [],
      "source": [
        "df1 = pd.read_csv('./simulation_results/2023-06-20_19-13-42.csv')\n",
        "df2 = pd.read_csv('./simulation_results/2023-06-20_19-46-03.csv')"
      ],
      "id": "720eef33-a93e-4018-9f30-867b9446b918"
    },
    {
      "cell_type": "code",
      "execution_count": 104,
      "metadata": {},
      "outputs": [],
      "source": [
        "data2 = pd.concat([df1,df2],axis=0)"
      ],
      "id": "970e0d05-641f-4e2b-83f8-7995279164c6"
    },
    {
      "cell_type": "code",
      "execution_count": 105,
      "metadata": {},
      "outputs": [],
      "source": [
        "data2.to_csv('./simulation_results/Real_simulation_reshape/LRGCN_pedalme_Simulation_itstgcnsnd.csv',index=False)"
      ],
      "id": "e4343248-a16d-47a3-9886-4ccb53c7aa45"
    },
    {
      "cell_type": "code",
      "execution_count": 106,
      "metadata": {},
      "outputs": [],
      "source": [
        "data2 = pd.read_csv('./simulation_results/Real_simulation_reshape/LRGCN_pedalme_Simulation_itstgcnsnd.csv')"
      ],
      "id": "68c1f3d7-7e0f-4a6d-82d7-ba671275701a"
    },
    {
      "cell_type": "code",
      "execution_count": 107,
      "metadata": {},
      "outputs": [],
      "source": [
        "data2.query(\"mtype=='rand'\").plot.box(backend='plotly',x='mrate',color='method',y='mse',facet_col='inter_method',facet_row='nof_filters',height=1000)"
      ],
      "id": "908c378b-03a2-4bab-95ad-152d13daea50"
    },
    {
      "cell_type": "code",
      "execution_count": 108,
      "metadata": {},
      "outputs": [],
      "source": [
        "data2.query(\"mtype=='block'\").plot.box(backend='plotly',x='mrate',color='method',y='mse',facet_col='inter_method',facet_row='nof_filters',height=1000)"
      ],
      "id": "b782d842-2d59-4b70-a540-d1c55dca8dcb"
    },
    {
      "cell_type": "markdown",
      "metadata": {},
      "source": [
        "# Wikimath"
      ],
      "id": "f2692238-b6f7-4be0-9e34-bc5674921c0b"
    },
    {
      "cell_type": "code",
      "execution_count": 122,
      "metadata": {},
      "outputs": [],
      "source": [
        "df1 = pd.read_csv('./simulation_results/2023-06-20_09-26-34.csv')\n",
        "df2 = pd.read_csv('./simulation_results/2023-06-20_12-04-37.csv')\n",
        "df3 = pd.read_csv('./simulation_results/2023-06-20_15-15-41.csv')\n",
        "df4 = pd.read_csv('./simulation_results/2023-06-20_21-03-52.csv')\n",
        "df5 = pd.read_csv('./simulation_results/2023-06-21_01-43-09.csv')\n",
        "df6 = pd.read_csv('./simulation_results/2023-06-21_04-30-41.csv')\n",
        "df7 = pd.read_csv('./simulation_results/2023-06-21_07-09-30.csv')\n",
        "df8 = pd.read_csv('./simulation_results/2023-06-21_09-20-57.csv')\n",
        "df9 = pd.read_csv('./simulation_results/2023-06-21_11-51-57.csv') # block\n",
        "df10 = pd.read_csv('./simulation_results/2023-06-21_14-36-43.csv') # block\n",
        "df11 = pd.read_csv('./simulation_results/2023-06-21_17-19-18.csv') # block"
      ],
      "id": "72dcb6b8-b2df-41e4-8ebd-5eb2a02c97af"
    },
    {
      "cell_type": "code",
      "execution_count": 123,
      "metadata": {},
      "outputs": [],
      "source": [
        "df12 = pd.read_csv('./simulation_results/2023-08-01_02-30-03.csv')\n",
        "df13 = pd.read_csv('./simulation_results/2023-08-01_04-38-07.csv')\n",
        "df14 = pd.read_csv('./simulation_results/2023-08-01_06-53-47.csv')\n",
        "df15 = pd.read_csv('./simulation_results/2023-08-01_08-43-43.csv')\n",
        "df16 = pd.read_csv('./simulation_results/2023-08-01_11-09-51.csv')\n",
        "df17 = pd.read_csv('./simulation_results/2023-08-01_13-19-35.csv')\n",
        "df18 = pd.read_csv('./simulation_results/2023-08-01_15-26-19.csv')\n",
        "df19 = pd.read_csv('./simulation_results/2023-08-01_17-49-47.csv')\n",
        "df20 = pd.read_csv('./simulation_results/2023-08-01_19-29-51.csv') # block\n",
        "df21 = pd.read_csv('./simulation_results/2023-08-01_20-59-41.csv') # block\n",
        "df22 = pd.read_csv('./simulation_results/2023-08-01_22-33-11.csv') # block\n",
        "df23 = pd.read_csv('./simulation_results/2023-08-01_23-55-49.csv') # block"
      ],
      "id": "8bb13a30-092b-427f-a2ae-2b99d5adbaa6"
    },
    {
      "cell_type": "code",
      "execution_count": 124,
      "metadata": {},
      "outputs": [],
      "source": [
        "data = pd.concat([df1,df2,df3,df4,df5,df6,df7,df8,df9,df10,df11,df12,df13,df14,df15,df16,df17,df18,df19,df20,df21,df22,df23],axis=0)"
      ],
      "id": "2bdf1359-250a-4f81-b2e7-bfc3f4a15907"
    },
    {
      "cell_type": "code",
      "execution_count": 125,
      "metadata": {},
      "outputs": [],
      "source": [
        "data.to_csv('./simulation_results/Real_simulation_reshape/LRGCN_wikimath.csv',index=False)"
      ],
      "id": "fe47b372-5e6c-485c-875c-3c8d879aabe5"
    },
    {
      "cell_type": "code",
      "execution_count": 126,
      "metadata": {},
      "outputs": [],
      "source": [
        "data = pd.read_csv('./simulation_results/Real_simulation_reshape/LRGCN_wikimath.csv')"
      ],
      "id": "0e5750a8-48a8-4f57-8650-1894b033996a"
    },
    {
      "cell_type": "markdown",
      "metadata": {},
      "source": [
        "## Baseline"
      ],
      "id": "3fc08cfd-45b2-469f-90a4-179d6c67a2de"
    },
    {
      "cell_type": "code",
      "execution_count": 127,
      "metadata": {},
      "outputs": [],
      "source": [
        "data.query(\"mrate==0 and method!='GNAR'\").plot.box(backend='plotly',x='mrate',color='method',y='mse',height=600)"
      ],
      "id": "b5d615c3-7255-4f7b-8c80-4f97f1d0ea9a"
    },
    {
      "cell_type": "markdown",
      "metadata": {},
      "source": [
        "## random"
      ],
      "id": "f18d479d-3c5c-4d9e-8c9d-1250360df1a2"
    },
    {
      "cell_type": "code",
      "execution_count": 128,
      "metadata": {},
      "outputs": [],
      "source": [
        "data.query(\"mtype=='rand' and mrate !=0 and method!='GNAR'\").plot.box(backend='plotly',x='mrate',color='method',y='mse',facet_col='lags',facet_row='nof_filters',height=800)\n"
      ],
      "id": "0be1ccad-dd6e-42fe-b32d-8a4e48b17a96"
    },
    {
      "cell_type": "markdown",
      "metadata": {},
      "source": [
        "## block"
      ],
      "id": "49a4f917-557d-4776-9a01-7f9f6f23c92a"
    },
    {
      "cell_type": "code",
      "execution_count": 129,
      "metadata": {},
      "outputs": [],
      "source": [
        "data.query(\"mtype=='block' and method!='GNAR'\").plot.box(backend='plotly',x='mrate',color='method',y='mse',facet_col='lags',facet_row='nof_filters',height=1200)\n"
      ],
      "id": "064b2bc9-64d3-41c4-9e76-b49f4fc9c11a"
    },
    {
      "cell_type": "markdown",
      "metadata": {},
      "source": [
        "## missing values on the same nodes"
      ],
      "id": "c6e0f81b-ceba-454d-a1a5-64d0eac9b555"
    },
    {
      "cell_type": "code",
      "execution_count": 241,
      "metadata": {
        "tags": []
      },
      "outputs": [],
      "source": [
        "df1 = pd.read_csv('./simulation_results/2023-06-21_19-31-38.csv') # STGCN IT-STGCN block\n",
        "df2 = pd.read_csv('./simulation_results/2023-06-21_22-43-39.csv') # STGCN IT-STGCN\n",
        "df3 = pd.read_csv('./simulation_results/2023-06-22_02-04-05.csv') "
      ],
      "id": "f804b18a-149e-48d5-ab30-9a0516fc611b"
    },
    {
      "cell_type": "code",
      "execution_count": 242,
      "metadata": {},
      "outputs": [],
      "source": [
        "data = pd.concat([df1,df2,df3],axis=0)"
      ],
      "id": "8947c20f-0acb-41e8-9a89-d122bf2c0d18"
    },
    {
      "cell_type": "code",
      "execution_count": 243,
      "metadata": {},
      "outputs": [],
      "source": [
        "data.to_csv('./simulation_results/Real_simulation_reshape/LRGCN_wikimath_GSO_st.csv',index=False)"
      ],
      "id": "3082aa32-04c8-4a3e-9756-6634caf9c949"
    },
    {
      "cell_type": "code",
      "execution_count": 244,
      "metadata": {},
      "outputs": [],
      "source": [
        "data = pd.read_csv('./simulation_results/Real_simulation_reshape/LRGCN_wikimath_GSO_st.csv')"
      ],
      "id": "9d39029d-2027-4858-aa8a-11a8f3628762"
    },
    {
      "cell_type": "code",
      "execution_count": 245,
      "metadata": {},
      "outputs": [],
      "source": [
        "data.query(\"method!='GNAR' and mtype =='block' \").plot.box(backend='plotly',x='mrate',color='method',y='mse',facet_col='inter_method',facet_row='lags',height=800)\n"
      ],
      "id": "5380ddb8-d5f5-49a0-b11f-89ad2db0ad41"
    },
    {
      "cell_type": "markdown",
      "metadata": {},
      "source": [
        "# Windmilsmall"
      ],
      "id": "e61f410b-88c0-45e9-83c1-9810db6a5c5c"
    },
    {
      "cell_type": "code",
      "execution_count": 57,
      "metadata": {},
      "outputs": [],
      "source": [
        "# Random\n",
        "df1 = pd.read_csv('./simulation_results/2023-08-02_11-08-22.csv') # STGCN IT-STGCN 70%\n",
        "df2 = pd.read_csv('./simulation_results/2023-08-02_22-18-24.csv') # STGCN IT-STGCN\n",
        "df3 = pd.read_csv('./simulation_results/2023-08-03_09-32-32.csv') # STGCN IT-STGCN\n",
        "df4 = pd.read_csv('./simulation_results/2023-08-03_20-41-09.csv') # STGCN IT-STGCN\n",
        "df5 = pd.read_csv('./simulation_results/2023-08-04_07-26-44.csv') # STGCN IT-STGCN\n",
        "df6 = pd.read_csv('./simulation_results/2023-08-04_16-28-52.csv') # GNAR 30%, 50%, 70% # 뭔가 일단 필요없어서 데이터셋에서 뺌\n",
        "df7 = pd.read_csv('./simulation_results/2023-08-05_02-03-12.csv') # STGCN IT-STGCN\n",
        "df8 = pd.read_csv('./simulation_results/2023-08-05_14-10-47.csv') # STGCN IT-STGCN\n",
        "df9 = pd.read_csv('./simulation_results/2023-08-06_03-34-44.csv') # STGCN IT-STGCN\n",
        "df10 = pd.read_csv('./simulation_results/2023-08-06_17-16-48.csv') # STGCN IT-STGCN\n",
        "df11 = pd.read_csv('./simulation_results/2023-08-07_07-08-23.csv') # STGCN IT-STGCN\n",
        "df12 = pd.read_csv('./simulation_results/2023-08-07_21-28-11.csv') # STGCN IT-STGCN\n",
        "df13 = pd.read_csv('./simulation_results/2023-08-08_08-49-13.csv') # STGCN IT-STGCN\n",
        "df14 = pd.read_csv('./simulation_results/2023-08-08_19-20-11.csv') # STGCN IT-STGCN\n",
        "df15 = pd.read_csv('./simulation_results/2023-08-09_05-29-45.csv') # STGCN IT-STGCN\n",
        "df16 = pd.read_csv('./simulation_results/2023-08-09_15-56-52.csv') # STGCN IT-STGCN\n",
        "df17 = pd.read_csv('./simulation_results/2023-08-10_01-35-37.csv') # STGCN IT-STGCN\n",
        "df18 = pd.read_csv('./simulation_results/2023-08-10_11-02-51.csv') # STGCN IT-STGCN\n",
        "df19 = pd.read_csv('./simulation_results/2023-08-10_23-29-00.csv') # STGCN IT-STGCN\n",
        "df20 = pd.read_csv('./simulation_results/2023-08-11_08-54-39.csv') # STGCN IT-STGCN\n",
        "df21 = pd.read_csv('./simulation_results/2023-08-11_18-34-05.csv') # STGCN IT-STGCN\n",
        "df22 = pd.read_csv('./simulation_results/2023-08-12_03-53-14.csv') # STGCN IT-STGCN\n",
        "df23 = pd.read_csv('./simulation_results/2023-08-12_11-06-56.csv') # STGCN IT-STGCN\n",
        "df24 = pd.read_csv('./simulation_results/2023-08-12_20-23-07.csv') # STGCN IT-STGCN\n",
        "df25 = pd.read_csv('./simulation_results/2023-08-13_09-21-05.csv') # STGCN IT-STGCN\n",
        "df26 = pd.read_csv('./simulation_results/2023-08-13_23-07-41.csv') # STGCN IT-STGCN\n",
        "df27 = pd.read_csv('./simulation_results/2023-08-14_11-21-28.csv') # STGCN IT-STGCN\n",
        "df28 = pd.read_csv('./simulation_results/2023-08-15_00-59-43.csv') # STGCN IT-STGCN\n",
        "df29 = pd.read_csv('./simulation_results/2023-08-15_14-34-02.csv') # STGCN IT-STGCN\n",
        "df30 = pd.read_csv('./simulation_results/2023-08-16_04-15-47.csv') # STGCN IT-STGCN\n",
        "# Block\n",
        "df31 = pd.read_csv('./simulation_results/2023-08-10_02-32-37.csv') # GNAR 70%\n",
        "df32 = pd.read_csv('./simulation_results/2023-08-10_11-51-46.csv') # GNAR \n",
        "df33 = pd.read_csv('./simulation_results/2023-08-11_00-20-18.csv')\n",
        "df34 = pd.read_csv('./simulation_results/2023-08-11_09-37-52.csv')\n",
        "df35 = pd.read_csv('./simulation_results/2023-08-11_18-53-02.csv')\n",
        "df36 = pd.read_csv('./simulation_results/2023-08-12_03-55-46.csv')\n",
        "df37 = pd.read_csv('./simulation_results/2023-08-12_10-57-26.csv')\n",
        "df38 = pd.read_csv('./simulation_results/2023-08-12_19-54-11.csv')\n",
        "df39 = pd.read_csv('./simulation_results/2023-08-13_08-32-05.csv')\n",
        "df40 = pd.read_csv('./simulation_results/2023-08-13_21-38-00.csv')\n",
        "df41 = pd.read_csv('./simulation_results/2023-08-14_09-02-35.csv')\n",
        "df42 = pd.read_csv('./simulation_results/2023-08-14_22-17-22.csv')\n",
        "df43 = pd.read_csv('./simulation_results/2023-08-15_11-51-33.csv')\n",
        "df44 = pd.read_csv('./simulation_results/2023-08-16_01-11-28.csv')\n",
        "df45 = pd.read_csv('./simulation_results/2023-08-16_14-15-05.csv')\n",
        "df46 = pd.read_csv('./simulation_results/2023-08-17_03-44-16.csv')\n",
        "df47 = pd.read_csv('./simulation_results/2023-08-17_17-01-04.csv')\n",
        "df48 = pd.read_csv('./simulation_results/2023-08-18_06-38-58.csv')\n",
        "df49 = pd.read_csv('./simulation_results/2023-08-18_20-16-04.csv')\n",
        "df50 = pd.read_csv('./simulation_results/2023-08-19_09-59-54.csv')\n",
        "df51 = pd.read_csv('./simulation_results/2023-08-19_23-19-38.csv')\n",
        "df52 = pd.read_csv('./simulation_results/2023-08-20_12-45-48.csv')\n",
        "df53 = pd.read_csv('./simulation_results/2023-08-21_01-47-53.csv')\n",
        "df54 = pd.read_csv('./simulation_results/2023-08-21_15-23-43.csv')\n",
        "df55 = pd.read_csv('./simulation_results/2023-08-22_04-58-46.csv')\n",
        "df56 = pd.read_csv('./simulation_results/2023-08-22_16-34-58.csv')\n",
        "df57 = pd.read_csv('./simulation_results/2023-08-23_01-42-58.csv')\n",
        "df58 = pd.read_csv('./simulation_results/2023-08-23_13-30-58.csv')\n",
        "df59 = pd.read_csv('./simulation_results/2023-08-24_02-59-39.csv')\n",
        "df60 = pd.read_csv('./simulation_results/2023-08-24_15-22-46.csv')\n",
        "# # baseline\n",
        "df61 = pd.read_csv('./simulation_results/2023-08-13_20-32-00.csv')\n",
        "df62 = pd.read_csv('./simulation_results/2023-08-14_08-32-41.csv')\n",
        "df63 = pd.read_csv('./simulation_results/2023-08-14_22-10-55.csv')\n",
        "df64 = pd.read_csv('./simulation_results/2023-08-15_12-04-42.csv')\n",
        "df65 = pd.read_csv('./simulation_results/2023-08-16_01-40-15.csv')\n",
        "df66 = pd.read_csv('./simulation_results/2023-08-16_14-56-59.csv')\n",
        "df67 = pd.read_csv('./simulation_results/2023-08-17_04-58-05.csv')\n",
        "df68 = pd.read_csv('./simulation_results/2023-08-17_18-04-56.csv') # 확인 후 block 만 넣기!\n",
        "df69 = pd.read_csv('./simulation_results/2023-08-18_08-02-25.csv')\n",
        "df70 = pd.read_csv('./simulation_results/2023-08-18_22-02-16.csv')\n",
        "df71 = pd.read_csv('./simulation_results/2023-08-19_11-55-59.csv')\n",
        "df72 = pd.read_csv('./simulation_results/2023-08-20_01-27-09.csv')\n",
        "df73 = pd.read_csv('./simulation_results/2023-08-20_14-57-17.csv')\n",
        "df74 = pd.read_csv('./simulation_results/2023-08-21_03-56-07.csv')\n",
        "df75 = pd.read_csv('./simulation_results/2023-08-21_17-11-35.csv')\n",
        "df76 = pd.read_csv('./simulation_results/2023-08-22_07-28-47.csv')\n",
        "df77 = pd.read_csv('./simulation_results/2023-08-22_18-06-30.csv')\n",
        "df78 = pd.read_csv('./simulation_results/2023-08-23_03-31-44.csv')\n",
        "df79 = pd.read_csv('./simulation_results/2023-08-23_16-46-00.csv')\n",
        "df80 = pd.read_csv('./simulation_results/2023-08-24_05-25-30.csv')\n",
        "df81 = pd.read_csv('./simulation_results/2023-08-24_18-38-53.csv')\n",
        "df82 = pd.read_csv('./simulation_results/2023-08-26_11-37-00.csv')\n",
        "df83 = pd.read_csv('./simulation_results/2023-08-26_21-09-46.csv')\n",
        "df84 = pd.read_csv('./simulation_results/2023-08-27_06-31-43.csv')\n",
        "df85 = pd.read_csv('./simulation_results/2023-08-27_15-54-24.csv')\n",
        "df86 = pd.read_csv('./simulation_results/2023-08-27_15-54-24.csv')\n",
        "df87 = pd.read_csv('./simulation_results/2023-08-28_04-02-55.csv')\n",
        "df88 = pd.read_csv('./simulation_results/2023-08-28_15-16-07.csv')\n",
        "df89 = pd.read_csv('./simulation_results/2023-08-29_00-45-20.csv')\n",
        "df90 = pd.read_csv('./simulation_results/2023-08-29_11-59-40.csv')"
      ],
      "id": "e865d7a4-d723-411e-9ee6-2a0a001f8525"
    },
    {
      "cell_type": "code",
      "execution_count": 58,
      "metadata": {},
      "outputs": [],
      "source": [
        "data = pd.concat([df1,df2,df3,df4,df5,df6,df7,df8,df9,df10,df11,df12,df13,df14,df15,df16,df17,df18,df19,df20,df21,df22,df23,df24,df25,df26,df27,df28,df29,df30,\n",
        "                 df31,df32,df33,df34,df35,df36,df37,df38,df39,df40,df41,df42,df43,df44,df45,df46,df47,df48,df49,df50,df51,df52,df53,df54,df55,df56,df57,df58,df59,df60,\n",
        "                 df61,df62,df63,df64,df65,df66,df67,df68,df69,df70,df71,df72,df73,df74,df75,df76,df77,df78,df79,df80,df81,df82,df83,df84,df85,df86,df87,df88,df89,df90\n",
        "                 ],axis=0)"
      ],
      "id": "37438d95-f15e-4741-b4d2-65966d48be89"
    },
    {
      "cell_type": "code",
      "execution_count": 59,
      "metadata": {},
      "outputs": [],
      "source": [
        "data.to_csv('./simulation_results/Real_simulation_reshape/LRGCN_windmillsmall.csv',index=False)"
      ],
      "id": "129bb29a-6386-4363-9781-8a68ad4373cd"
    },
    {
      "cell_type": "code",
      "execution_count": 60,
      "metadata": {},
      "outputs": [],
      "source": [
        "data = pd.read_csv('./simulation_results/Real_simulation_reshape/LRGCN_windmillsmall.csv')"
      ],
      "id": "e802f5c9-6428-4f87-86d8-5bec3a07099b"
    },
    {
      "cell_type": "markdown",
      "metadata": {},
      "source": [
        "## Baseline"
      ],
      "id": "08ae217b-fa96-47d7-a1d6-cf24d92eeb68"
    },
    {
      "cell_type": "code",
      "execution_count": 42,
      "metadata": {},
      "outputs": [],
      "source": [
        "data.query(\"method!='GNAR' and mrate ==0 \").plot.box(backend='plotly',x='mrate',color='method',y='mse',facet_col='lags',height=800)\n"
      ],
      "id": "d5e3b5ab-534a-4688-b26c-772615d85541"
    },
    {
      "cell_type": "markdown",
      "metadata": {},
      "source": [
        "## random"
      ],
      "id": "f031a2e1-96ae-475c-8967-0992fec020a4"
    },
    {
      "cell_type": "code",
      "execution_count": 43,
      "metadata": {},
      "outputs": [],
      "source": [
        "data.query(\"method!='GNAR' and mtype =='rand' \").plot.box(backend='plotly',x='mrate',color='method',y='mse',facet_col='lags',facet_row='inter_method',height=800)\n"
      ],
      "id": "f189e38c-14f4-4f04-980c-aec583366a66"
    },
    {
      "cell_type": "markdown",
      "metadata": {},
      "source": [
        "## block"
      ],
      "id": "aa4f579a-95c9-4fc6-a941-6a553c29cc3b"
    },
    {
      "cell_type": "code",
      "execution_count": 44,
      "metadata": {},
      "outputs": [],
      "source": [
        "data.query(\"method!='GNAR' and mtype =='block' \").plot.box(backend='plotly',x='mrate',color='method',y='mse',facet_col='lags',facet_row='inter_method',height=800)\n"
      ],
      "id": "108b06c5-6201-4aa5-bb58-b381546eb656"
    },
    {
      "cell_type": "markdown",
      "metadata": {},
      "source": [
        "# Montevideobus"
      ],
      "id": "fb2c7b4b-84ef-43eb-8944-b8c1e66f42c0"
    },
    {
      "cell_type": "code",
      "execution_count": 97,
      "metadata": {},
      "outputs": [],
      "source": [
        "df1 = pd.read_csv('./simulation_results/2023-06-20_14-22-23.csv') # lags 8\n",
        "df2 = pd.read_csv('./simulation_results/2023-06-20_16-44-49.csv') # lags 8\n",
        "df3 = pd.read_csv('./simulation_results/2023-06-20_19-09-29.csv') # lags 8\n",
        "df4 = pd.read_csv('./simulation_results/2023-06-20_21-32-02.csv') # lags 8\n",
        "df5 = pd.read_csv('./simulation_results/2023-06-20_23-35-39.csv') # lags 8\n",
        "df6 = pd.read_csv('./simulation_results/2023-06-21_01-53-54.csv') # lags 8"
      ],
      "id": "ee59c5e4-e11a-4a10-a0b1-478a80afb228"
    },
    {
      "cell_type": "code",
      "execution_count": 98,
      "metadata": {},
      "outputs": [],
      "source": [
        "df7 = pd.read_csv('./simulation_results/2023-07-24_08-41-55.csv') # lags 8\n",
        "df8 = pd.read_csv('./simulation_results/2023-07-24_10-33-20.csv') # lags 8\n",
        "df9 = pd.read_csv('./simulation_results/2023-07-24_12-20-53.csv') # lags 8\n",
        "df10 = pd.read_csv('./simulation_results/2023-07-24_14-09-27.csv') # lags 8\n",
        "df11 = pd.read_csv('./simulation_results/2023-07-24_15-55-20.csv') # lags 8\n",
        "df12 = pd.read_csv('./simulation_results/2023-07-24_17-44-42.csv') # lags 8\n",
        "df13 = pd.read_csv('./simulation_results/2023-07-24_19-33-32.csv') # lags 8\n",
        "df14 = pd.read_csv('./simulation_results/2023-07-24_21-18-09.csv') # lags 8\n",
        "df15 = pd.read_csv('./simulation_results/2023-07-24_23-08-46.csv') # lags 8"
      ],
      "id": "534fbcf5-7fcc-46ef-a585-a7831d5ababa"
    },
    {
      "cell_type": "code",
      "execution_count": 99,
      "metadata": {},
      "outputs": [],
      "source": [
        "data = pd.concat([df1,df2,df3,df4,df5,df6,df7,df8,df9,df10,df11,df12,df13,df14,df15],axis=0)"
      ],
      "id": "a19d1bdd-17fe-42cf-a4c8-f270bff69e40"
    },
    {
      "cell_type": "code",
      "execution_count": 100,
      "metadata": {},
      "outputs": [],
      "source": [
        "data.to_csv('./simulation_results/Real_simulation_reshape/LRGCN_monte.csv',index=False)"
      ],
      "id": "3858fad4-79eb-4bd2-a070-c55210e79185"
    },
    {
      "cell_type": "code",
      "execution_count": 101,
      "metadata": {},
      "outputs": [],
      "source": [
        "data = pd.read_csv('./simulation_results/Real_simulation_reshape/LRGCN_monte.csv')"
      ],
      "id": "b6060412-5bf9-480f-8246-83eed9a2677f"
    },
    {
      "cell_type": "markdown",
      "metadata": {},
      "source": [
        "## Baseline"
      ],
      "id": "2f0c026d-ed9d-45c9-85ec-f75045a38075"
    },
    {
      "cell_type": "code",
      "execution_count": 102,
      "metadata": {},
      "outputs": [],
      "source": [
        "data.query(\"mrate==0 and method!='GNAR'\").plot.box(backend='plotly',x='mrate',color='method',y='mse',facet_col='lags',facet_row='nof_filters',height=600)"
      ],
      "id": "cda2af1c-e772-47c5-b864-43b9edc85b7d"
    },
    {
      "cell_type": "markdown",
      "metadata": {},
      "source": [
        "## random"
      ],
      "id": "a994548d-36b2-4f07-9bff-4661f3b07902"
    },
    {
      "cell_type": "code",
      "execution_count": 103,
      "metadata": {},
      "outputs": [],
      "source": [
        "data.query(\"mtype=='rand' and mrate !=0 and method!='GNAR'\").plot.box(backend='plotly',x='mrate',color='method',y='mse',facet_col='lags',facet_row='inter_method',height=800)\n"
      ],
      "id": "7f2ffd70-8383-4974-a97a-f4474693b145"
    },
    {
      "cell_type": "markdown",
      "metadata": {},
      "source": [
        "## block"
      ],
      "id": "21146ea4-ce8b-444d-bcf4-e302f259537d"
    },
    {
      "cell_type": "code",
      "execution_count": 104,
      "metadata": {},
      "outputs": [],
      "source": [
        "data.query(\"mtype=='block' and method!='GNAR'\").plot.box(backend='plotly',x='mrate',color='method',y='mse',facet_col='lags',facet_row='nof_filters',height=1200)\n"
      ],
      "id": "3cf004a2-c617-4fe2-ae7b-b18604e7c468"
    }
  ],
  "nbformat": 4,
  "nbformat_minor": 5,
  "metadata": {
    "kernelspec": {
      "name": "python3",
      "display_name": "Python 3",
      "language": "python"
    },
    "language_info": {
      "name": "python",
      "codemirror_mode": {
        "name": "ipython",
        "version": "3"
      },
      "file_extension": ".py",
      "mimetype": "text/x-python",
      "nbconvert_exporter": "python",
      "pygments_lexer": "ipython3",
      "version": "3.8.0"
    }
  }
}
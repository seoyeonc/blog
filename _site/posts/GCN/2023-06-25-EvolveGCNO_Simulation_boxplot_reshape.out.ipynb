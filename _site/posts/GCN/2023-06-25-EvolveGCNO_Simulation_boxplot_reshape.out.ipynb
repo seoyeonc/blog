{
  "cells": [
    {
      "cell_type": "markdown",
      "metadata": {},
      "source": [
        "# EvolveGCNO_Simulation_reshape\n",
        "\n",
        "SEOYEON CHOI  \n",
        "6/25/23\n",
        "\n",
        "> Simulation Study"
      ],
      "id": "62123c1b-1b4e-43c8-aa75-f143bacc5ab4"
    },
    {
      "cell_type": "code",
      "execution_count": 89,
      "metadata": {},
      "outputs": [],
      "source": [
        "import itstgcnEvolveGCNO\n",
        "import torch\n",
        "import itstgcnEvolveGCNO.planner \n",
        "import pandas as pd\n",
        "\n",
        "import numpy as np\n",
        "import random"
      ],
      "id": "0b62e499-4461-4010-8cf3-d7860b3b9355"
    },
    {
      "cell_type": "code",
      "execution_count": 5,
      "metadata": {},
      "outputs": [],
      "source": [
        "from torch_geometric_temporal.dataset import WikiMathsDatasetLoader\n",
        "loader3 = WikiMathsDatasetLoader()"
      ],
      "id": "af53d67e-33a0-447d-a6ce-b3a424f998fc"
    },
    {
      "cell_type": "code",
      "execution_count": 75,
      "metadata": {},
      "outputs": [],
      "source": [
        "plans_stgcn_rand = {\n",
        "    'max_iteration': 5, \n",
        "    'method': ['STGCN', 'IT-STGCN'],\n",
        "    'mrate': [0.5],\n",
        "    'lags': [8], \n",
        "    'nof_filters': [12], \n",
        "    'inter_method': ['linear'],\n",
        "    'epoch': [50]\n",
        "}"
      ],
      "id": "b133ccb8-523a-4b2f-9e5a-fc8ac2f30184"
    },
    {
      "cell_type": "code",
      "execution_count": null,
      "metadata": {},
      "outputs": [
        {
          "output_type": "stream",
          "name": "stdout",
          "text": [
            "30/50"
          ]
        }
      ],
      "source": [
        "plnr = itstgcnEvolveGCNO.planner.PLNR_STGCN_RAND(plans_stgcn_rand,loader3,dataset_name='wikimath')\n",
        "plnr.simulate()"
      ],
      "id": "1264ff10-151d-4fb0-b207-2b17c11e98bd"
    },
    {
      "cell_type": "code",
      "execution_count": null,
      "metadata": {},
      "outputs": [],
      "source": [
        "plnr = itstgcnEvolveGCNO.planner.PLNR_STGCN_RAND(plans_stgcn_rand,loader3,dataset_name='wikimath')\n",
        "plnr.simulate()"
      ],
      "id": "1e1746b1-22b5-407b-ba84-550ab97d7c29"
    },
    {
      "cell_type": "code",
      "execution_count": null,
      "metadata": {},
      "outputs": [],
      "source": [
        "plnr = itstgcnEvolveGCNO.planner.PLNR_STGCN_RAND(plans_stgcn_rand,loader3,dataset_name='wikimath')\n",
        "plnr.simulate()"
      ],
      "id": "4413db78-66f8-48f3-ba52-95939b4dd70e"
    },
    {
      "cell_type": "code",
      "execution_count": null,
      "metadata": {},
      "outputs": [],
      "source": [
        "plnr = itstgcnEvolveGCNO.planner.PLNR_STGCN_RAND(plans_stgcn_rand,loader3,dataset_name='wikimath')\n",
        "plnr.simulate()"
      ],
      "id": "91bc4f23-f416-4118-96a4-150fc50e471a"
    },
    {
      "cell_type": "code",
      "execution_count": null,
      "metadata": {},
      "outputs": [],
      "source": [
        "plnr = itstgcnEvolveGCNO.planner.PLNR_STGCN_RAND(plans_stgcn_rand,loader3,dataset_name='wikimath')\n",
        "plnr.simulate()"
      ],
      "id": "f7b26ff7-ebdf-4961-99a9-f58de451826c"
    },
    {
      "cell_type": "code",
      "execution_count": null,
      "metadata": {},
      "outputs": [],
      "source": [
        "plnr = itstgcnEvolveGCNO.planner.PLNR_STGCN_RAND(plans_stgcn_rand,loader3,dataset_name='wikimath')\n",
        "plnr.simulate()"
      ],
      "id": "71dea151-7829-4e86-a89d-6a3f9f947a11"
    },
    {
      "cell_type": "code",
      "execution_count": null,
      "metadata": {},
      "outputs": [],
      "source": [
        "plans_stgcn_rand = {\n",
        "    'max_iteration': 5, \n",
        "    'method': ['STGCN', 'IT-STGCN'],\n",
        "    'mrate': [0.6],\n",
        "    'lags': [8], \n",
        "    'nof_filters': [12], \n",
        "    'inter_method': ['linear'],\n",
        "    'epoch': [50]\n",
        "}"
      ],
      "id": "d59a0567-1802-40b2-a9b0-b632c1416d14"
    },
    {
      "cell_type": "code",
      "execution_count": null,
      "metadata": {},
      "outputs": [],
      "source": [
        "plnr = itstgcnEvolveGCNO.planner.PLNR_STGCN_RAND(plans_stgcn_rand,loader3,dataset_name='wikimath')\n",
        "plnr.simulate()"
      ],
      "id": "6342065f-fc1b-4650-b215-65744c49fb32"
    },
    {
      "cell_type": "code",
      "execution_count": null,
      "metadata": {},
      "outputs": [],
      "source": [
        "plnr = itstgcnEvolveGCNO.planner.PLNR_STGCN_RAND(plans_stgcn_rand,loader3,dataset_name='wikimath')\n",
        "plnr.simulate()"
      ],
      "id": "a5467e40-ae52-4447-b15a-f9c4dfe9a8fe"
    },
    {
      "cell_type": "code",
      "execution_count": null,
      "metadata": {},
      "outputs": [],
      "source": [
        "plnr = itstgcnEvolveGCNO.planner.PLNR_STGCN_RAND(plans_stgcn_rand,loader3,dataset_name='wikimath')\n",
        "plnr.simulate()"
      ],
      "id": "7622392d-550a-4810-82f0-a57ad875a0c2"
    },
    {
      "cell_type": "code",
      "execution_count": null,
      "metadata": {},
      "outputs": [],
      "source": [
        "plnr = itstgcnEvolveGCNO.planner.PLNR_STGCN_RAND(plans_stgcn_rand,loader3,dataset_name='wikimath')\n",
        "plnr.simulate()"
      ],
      "id": "5eaa5e0a-79da-4c79-9000-ff4f3547ec4b"
    },
    {
      "cell_type": "code",
      "execution_count": null,
      "metadata": {},
      "outputs": [],
      "source": [
        "plnr = itstgcnEvolveGCNO.planner.PLNR_STGCN_RAND(plans_stgcn_rand,loader3,dataset_name='wikimath')\n",
        "plnr.simulate()"
      ],
      "id": "d015633d-b8c9-4df6-816f-b18f1ab0e027"
    },
    {
      "cell_type": "code",
      "execution_count": null,
      "metadata": {},
      "outputs": [],
      "source": [
        "plnr = itstgcnEvolveGCNO.planner.PLNR_STGCN_RAND(plans_stgcn_rand,loader3,dataset_name='wikimath')\n",
        "plnr.simulate()"
      ],
      "id": "9c332403-6d62-4809-b8d6-63057f0798ac"
    },
    {
      "cell_type": "markdown",
      "metadata": {},
      "source": [
        "# Import"
      ],
      "id": "e18db83c-248e-4784-9629-34e57d11b32c"
    },
    {
      "cell_type": "code",
      "execution_count": 2,
      "metadata": {},
      "outputs": [],
      "source": [
        "import matplotlib.pyplot as plt\n",
        "import pandas as pd\n",
        "import numpy as np"
      ],
      "id": "4a6f43cf-0eda-45e7-bbca-baf22ec0cdc2"
    },
    {
      "cell_type": "markdown",
      "metadata": {},
      "source": [
        "# Fivenodes"
      ],
      "id": "33407816-ec5b-4bbe-ae58-9d1d53bad029"
    },
    {
      "cell_type": "code",
      "execution_count": 25,
      "metadata": {},
      "outputs": [],
      "source": [
        "df1 = pd.read_csv('./simulation_results/2023-06-26_00-55-36.csv')\n",
        "df2 = pd.read_csv('./simulation_results/2023-06-26_01-09-23.csv')\n",
        "df3 = pd.read_csv('./simulation_results/2023-06-26_01-23-14.csv')\n",
        "df4 = pd.read_csv('./simulation_results/2023-06-26_01-36-42.csv')\n",
        "df5 = pd.read_csv('./simulation_results/2023-06-26_01-49-58.csv')\n",
        "df6 = pd.read_csv('./simulation_results/2023-06-26_02-03-37.csv')\n",
        "df7 = pd.read_csv('./simulation_results/2023-06-26_02-17-20.csv')\n",
        "df8 = pd.read_csv('./simulation_results/2023-06-26_02-31-49.csv')"
      ],
      "id": "502f2350-9d00-4577-aa37-35ce3c5a3709"
    },
    {
      "cell_type": "code",
      "execution_count": 26,
      "metadata": {},
      "outputs": [],
      "source": [
        "df9 = pd.read_csv('./simulation_results/2023-07-19_06-44-18.csv')\n",
        "df10 = pd.read_csv('./simulation_results/2023-07-19_06-58-20.csv')\n",
        "df11 = pd.read_csv('./simulation_results/2023-07-19_07-12-30.csv')\n",
        "df12 = pd.read_csv('./simulation_results/2023-07-19_07-28-02.csv')\n",
        "df13 = pd.read_csv('./simulation_results/2023-07-19_07-43-42.csv')\n",
        "df14 = pd.read_csv('./simulation_results/2023-07-19_07-58-52.csv')"
      ],
      "id": "a7c868bd-d359-43f6-bb1a-2acd347233b7"
    },
    {
      "cell_type": "code",
      "execution_count": 27,
      "metadata": {},
      "outputs": [],
      "source": [
        "data = pd.concat([df1,df2,df3,df4,df5,df6,df7,df8,df9,df10,df11,df12,df13,df14],axis=0)"
      ],
      "id": "47d77b0e-ec87-4063-80a5-ee8a391e5c6b"
    },
    {
      "cell_type": "code",
      "execution_count": 28,
      "metadata": {},
      "outputs": [],
      "source": [
        "data.to_csv('./simulation_results/Real_simulation_reshape/EvolveGCNO_fivedones_Simulation.csv',index=False)"
      ],
      "id": "c1ab26ed-2c61-49a6-97f3-669c23c7b98a"
    },
    {
      "cell_type": "code",
      "execution_count": 29,
      "metadata": {},
      "outputs": [],
      "source": [
        "data = pd.read_csv('./simulation_results/Real_simulation_reshape/EvolveGCNO_fivedones_Simulation.csv')"
      ],
      "id": "68828c1b-bd2c-453c-9243-39f34352d1bc"
    },
    {
      "cell_type": "markdown",
      "metadata": {},
      "source": [
        "## Baseline"
      ],
      "id": "49faf864-ee3b-47f3-98ff-a059eff48529"
    },
    {
      "cell_type": "code",
      "execution_count": 30,
      "metadata": {
        "tags": []
      },
      "outputs": [],
      "source": [
        "data.query(\"method!='GNAR' and mrate==0\").plot.box(backend='plotly',x='mrate',color='method',y='mse',facet_col='lags',facet_row='nof_filters',height=600)\n"
      ],
      "id": "9ac85f21-af55-42a3-b92b-8a0a2c8c3baf"
    },
    {
      "cell_type": "markdown",
      "metadata": {},
      "source": [
        "## Random"
      ],
      "id": "fa297338-4cb8-4536-9b92-92c8986ae24d"
    },
    {
      "cell_type": "code",
      "execution_count": 31,
      "metadata": {},
      "outputs": [],
      "source": [
        "data.query(\"method!='GNAR' and mtype =='rand'\").plot.box(backend='plotly',x='mrate',color='method',y='mse',facet_col='inter_method',facet_row='nof_filters',height=600)\n",
        "\n"
      ],
      "id": "bab3fda7-9cf3-4e1d-b1ed-590d8c38040e"
    },
    {
      "cell_type": "markdown",
      "metadata": {},
      "source": [
        "## Block"
      ],
      "id": "18f01ba7-7ba1-47bd-b885-d7c6d3d2ed9e"
    },
    {
      "cell_type": "code",
      "execution_count": 32,
      "metadata": {},
      "outputs": [],
      "source": [
        "data.query(\"method!='GNAR' and mtype =='block' \").plot.box(backend='plotly',x='mrate',color='method',y='mse',facet_col='inter_method',facet_row='nof_filters',height=600)\n"
      ],
      "id": "444a10b4-03c3-4dc7-821a-de204ab4bc0b"
    },
    {
      "cell_type": "markdown",
      "metadata": {},
      "source": [
        "# chickenpox"
      ],
      "id": "ab252069-e3d0-4b67-a788-c842dae7afcd"
    },
    {
      "cell_type": "code",
      "execution_count": 34,
      "metadata": {},
      "outputs": [],
      "source": [
        "df1 = pd.read_csv('./simulation_results/2023-06-26_03-09-21.csv') # GNAR random\n",
        "df2 = pd.read_csv('./simulation_results/2023-06-26_03-47-41.csv') # GNAR block\n",
        "df3 = pd.read_csv('./simulation_results/2023-06-26_04-10-16.csv') # STGCN, ITSTGCN random 30%\n",
        "df4 = pd.read_csv('./simulation_results/2023-06-26_04-33-08.csv') \n",
        "df5 = pd.read_csv('./simulation_results/2023-06-26_05-18-31.csv') \n",
        "df6 = pd.read_csv('./simulation_results/2023-06-26_06-01-38.csv') "
      ],
      "id": "c05663ce-059c-4ad2-89a4-a29da95f9151"
    },
    {
      "cell_type": "code",
      "execution_count": 35,
      "metadata": {},
      "outputs": [],
      "source": [
        "df7 = pd.read_csv('./simulation_results/2023-07-19_08-23-06.csv') # GNAR random\n",
        "df8 = pd.read_csv('./simulation_results/2023-07-19_08-48-36.csv') # GNAR block\n",
        "df9 = pd.read_csv('./simulation_results/2023-07-19_09-34-53.csv') # STGCN, ITSTGCN random 30%\n",
        "df10 = pd.read_csv('./simulation_results/2023-07-19_09-11-10.csv') "
      ],
      "id": "f9f7b4f3-13b5-4839-8ab7-88fe3043862d"
    },
    {
      "cell_type": "code",
      "execution_count": 36,
      "metadata": {},
      "outputs": [],
      "source": [
        "data = pd.concat([df1,df2,df3,df4,df5,df6,df7,df8,df9,df10],axis=0)"
      ],
      "id": "1b2afa21-1a78-474a-ab58-d8ab177c2568"
    },
    {
      "cell_type": "code",
      "execution_count": 37,
      "metadata": {},
      "outputs": [],
      "source": [
        "data.to_csv('./simulation_results/Real_simulation_reshape/EvolveGCNO_chikenpox_Simulation.csv',index=False)"
      ],
      "id": "e0d6b30c-ae90-4d7f-9303-451317ff747c"
    },
    {
      "cell_type": "code",
      "execution_count": 38,
      "metadata": {},
      "outputs": [],
      "source": [
        "data = pd.read_csv('./simulation_results/Real_simulation_reshape/EvolveGCNO_chikenpox_Simulation.csv')"
      ],
      "id": "2881c7f3-788e-45af-9664-8e0a079a77e2"
    },
    {
      "cell_type": "markdown",
      "metadata": {},
      "source": [
        "## Baseline"
      ],
      "id": "a4a70e0c-a260-4556-9499-f6336646fb87"
    },
    {
      "cell_type": "code",
      "execution_count": 39,
      "metadata": {},
      "outputs": [],
      "source": [
        "data.query(\"method!='GNAR' and mrate ==0 \").plot.box(backend='plotly',x='mrate',color='method',y='mse',facet_col='nof_filters',height=600)\n"
      ],
      "id": "c0be7a59-b4cc-40d4-bacc-180a9c6bb35b"
    },
    {
      "cell_type": "markdown",
      "metadata": {},
      "source": [
        "## Random"
      ],
      "id": "54e4a799-80f3-4336-b42f-0ab6ccbe5603"
    },
    {
      "cell_type": "code",
      "execution_count": 40,
      "metadata": {},
      "outputs": [],
      "source": [
        "data.query(\"method!='GNAR' and mtype =='rand'\").plot.box(backend='plotly',x='mrate',color='method',y='mse',facet_col='nof_filters',facet_row='inter_method',height=800)\n"
      ],
      "id": "090eb63b-d0c2-48ab-aebc-2ea8d8aa03cc"
    },
    {
      "cell_type": "markdown",
      "metadata": {},
      "source": [
        "## Block"
      ],
      "id": "0251cfec-5838-452b-8926-adce38b96e29"
    },
    {
      "cell_type": "code",
      "execution_count": 41,
      "metadata": {},
      "outputs": [],
      "source": [
        "data.query(\"method!='GNAR' and mtype =='block'\").plot.box(backend='plotly',x='mrate',color='method',y='mse',facet_col='inter_method',facet_row='lags',height=800)\n"
      ],
      "id": "d895eb6d-d62d-4181-9cf8-53a45dcb8b64"
    },
    {
      "cell_type": "markdown",
      "metadata": {},
      "source": [
        "# Pedalme"
      ],
      "id": "44b7d90f-9e1c-4add-a213-e31c4937a2ac"
    },
    {
      "cell_type": "code",
      "execution_count": 42,
      "metadata": {},
      "outputs": [],
      "source": [
        "df1 = pd.read_csv('./simulation_results/2023-06-26_06-16-39.csv') \n",
        "df2 = pd.read_csv('./simulation_results/2023-06-26_06-22-00.csv')  "
      ],
      "id": "038ab5e5-f444-401b-9e2d-05c16c5ec536"
    },
    {
      "cell_type": "code",
      "execution_count": 43,
      "metadata": {},
      "outputs": [],
      "source": [
        "df3 = pd.read_csv('./simulation_results/2023-07-19_09-45-34.csv')"
      ],
      "id": "c6e8d53a-d5f7-464e-befa-adaf58365f1d"
    },
    {
      "cell_type": "code",
      "execution_count": 44,
      "metadata": {},
      "outputs": [],
      "source": [
        "data = pd.concat([df1,df2,df3],axis=0)"
      ],
      "id": "4fd06e4e-2c97-4264-a41c-6db61ef84cb1"
    },
    {
      "cell_type": "code",
      "execution_count": 45,
      "metadata": {},
      "outputs": [],
      "source": [
        "data.to_csv('./simulation_results/Real_simulation_reshape/EvolveGCNO_pedalme_Simulation.csv',index=False)"
      ],
      "id": "17c4cd4e-6d84-4b5d-a825-87890ba85ae6"
    },
    {
      "cell_type": "code",
      "execution_count": 46,
      "metadata": {},
      "outputs": [],
      "source": [
        "data = pd.read_csv('./simulation_results/Real_simulation_reshape/EvolveGCNO_pedalme_Simulation.csv')"
      ],
      "id": "fb4d0d70-b5a0-46df-a6ff-1c1b359e9e40"
    },
    {
      "cell_type": "markdown",
      "metadata": {},
      "source": [
        "## Baseline"
      ],
      "id": "74bc2c23-769c-4469-a05e-ce2e2a3361f9"
    },
    {
      "cell_type": "code",
      "execution_count": 47,
      "metadata": {},
      "outputs": [],
      "source": [
        "data.query(\"mrate ==0 and lags!=2\").plot.box(backend='plotly',x='epoch',color='method',y='mse',facet_col='nof_filters',facet_row='lags',height=400)\n"
      ],
      "id": "28296d5b-3bc8-400c-a6e5-4d55344cc3cb"
    },
    {
      "cell_type": "markdown",
      "metadata": {},
      "source": [
        "## random"
      ],
      "id": "cde9eda1-35db-4fe1-a3c4-98c98071dbee"
    },
    {
      "cell_type": "code",
      "execution_count": 48,
      "metadata": {},
      "outputs": [],
      "source": [
        "data.query(\"method!='GNAR' and mtype =='rand' and lags!=2\").plot.box(backend='plotly',x='mrate',color='method',y='mse',facet_col='nof_filters',facet_row='inter_method',height=800)\n"
      ],
      "id": "d224155c-b991-4ebe-a3c3-6d457283032e"
    },
    {
      "cell_type": "markdown",
      "metadata": {},
      "source": [
        "## block"
      ],
      "id": "6cd8476b-e52d-4274-b9ec-bc66a11fd5aa"
    },
    {
      "cell_type": "code",
      "execution_count": 49,
      "metadata": {},
      "outputs": [],
      "source": [
        "data.query(\"method!='GNAR' and mtype =='block' and lags!=2 \").plot.box(backend='plotly',x='mrate',color='method',y='mse',facet_col='nof_filters',facet_row='inter_method',height=800)\n"
      ],
      "id": "57098060-79e1-4d40-b9bd-363415d55c33"
    },
    {
      "cell_type": "markdown",
      "metadata": {},
      "source": [
        "## weight matrix time, node 고려한 결과"
      ],
      "id": "cb502fd8-4bd4-41bf-90ce-f5b45df0821d"
    },
    {
      "cell_type": "code",
      "execution_count": 34,
      "metadata": {},
      "outputs": [],
      "source": [
        "df1 = pd.read_csv('./simulation_results/2023-06-27_00-26-15.csv')\n",
        "df2 = pd.read_csv('./simulation_results/2023-06-27_00-42-14.csv')"
      ],
      "id": "bf2b18d9-62c4-47aa-a28e-5f588a31a63d"
    },
    {
      "cell_type": "code",
      "execution_count": 35,
      "metadata": {},
      "outputs": [],
      "source": [
        "data2 = pd.concat([df1,df2],axis=0)"
      ],
      "id": "663527a4-8dc0-467b-9723-cdd26d3fb4b2"
    },
    {
      "cell_type": "code",
      "execution_count": 36,
      "metadata": {},
      "outputs": [],
      "source": [
        "data2.to_csv('./simulation_results/Real_simulation_reshape/EvolveGCNO_pedalme_Simulation_itstgcnsnd.csv',index=False)"
      ],
      "id": "5ddb47e4-5187-4219-bbb1-f8afbb35dc42"
    },
    {
      "cell_type": "code",
      "execution_count": 37,
      "metadata": {},
      "outputs": [],
      "source": [
        "data2 = pd.read_csv('./simulation_results/Real_simulation_reshape/EvolveGCNO_pedalme_Simulation_itstgcnsnd.csv')"
      ],
      "id": "7e4d64c6-5e66-4bdd-9f9a-b6e1a25ad1af"
    },
    {
      "cell_type": "code",
      "execution_count": 38,
      "metadata": {},
      "outputs": [],
      "source": [
        "data2.query(\"mtype=='rand'\").plot.box(backend='plotly',x='mrate',color='method',y='mse',facet_col='inter_method',facet_row='nof_filters',height=1000)"
      ],
      "id": "d8c68808-a32e-4d3d-b0ef-cf0d523ce6c5"
    },
    {
      "cell_type": "code",
      "execution_count": 39,
      "metadata": {},
      "outputs": [],
      "source": [
        "data2.query(\"mtype=='block'\").plot.box(backend='plotly',x='mrate',color='method',y='mse',facet_col='inter_method',facet_row='nof_filters',height=1000)"
      ],
      "id": "94c63e7b-7f7d-48f5-a47b-4ec06d9d2e22"
    },
    {
      "cell_type": "markdown",
      "metadata": {},
      "source": [
        "# Wikimath"
      ],
      "id": "6b64dda4-ab9b-44f2-8a6e-ce738f3ea665"
    },
    {
      "cell_type": "code",
      "execution_count": 90,
      "metadata": {},
      "outputs": [],
      "source": [
        "df1 = pd.read_csv('./simulation_results/2023-06-28_08-28-01.csv')\n",
        "df2 = pd.read_csv('./simulation_results/2023-06-28_10-55-29.csv')\n",
        "df3 = pd.read_csv('./simulation_results/2023-06-28_13-20-19.csv')\n",
        "df4 = pd.read_csv('./simulation_results/2023-06-28_16-32-40.csv')\n",
        "df5 = pd.read_csv('./simulation_results/2023-06-28_19-10-50.csv')\n",
        "df6 = pd.read_csv('./simulation_results/2023-06-28_21-48-52.csv')\n",
        "df7 = pd.read_csv('./simulation_results/2023-06-29_00-26-13.csv')\n",
        "df8 = pd.read_csv('./simulation_results/2023-06-29_03-08-16.csv')\n",
        "df9 = pd.read_csv('./simulation_results/2023-06-29_05-55-03.csv') # block\n",
        "df10 = pd.read_csv('./simulation_results/2023-06-29_08-41-22.csv') # block\n",
        "df11 = pd.read_csv('./simulation_results/2023-06-29_11-05-52.csv') # block"
      ],
      "id": "8bf9eef4-3f66-4211-801d-10414e0e3977"
    },
    {
      "cell_type": "code",
      "execution_count": 94,
      "metadata": {},
      "outputs": [],
      "source": [
        "df12 = pd.read_csv('./simulation_results/2023-08-05_00-22-49.csv')\n",
        "df13 = pd.read_csv('./simulation_results/2023-08-05_02-06-06.csv')\n",
        "df14 = pd.read_csv('./simulation_results/2023-08-05_03-32-39.csv')\n",
        "df15 = pd.read_csv('./simulation_results/2023-08-05_05-04-11.csv')\n",
        "df16 = pd.read_csv('./simulation_results/2023-08-05_06-40-47.csv')\n",
        "df17 = pd.read_csv('./simulation_results/2023-08-05_08-19-46.csv')\n",
        "df18 = pd.read_csv('./simulation_results/2023-08-05_10-01-56.csv')\n",
        "df19 = pd.read_csv('./simulation_results/2023-08-05_13-12-32.csv')\n",
        "df20 = pd.read_csv('./simulation_results/2023-08-05_16-04-31.csv') # block\n",
        "df21 = pd.read_csv('./simulation_results/2023-08-05_18-53-42.csv') # block\n",
        "df22 = pd.read_csv('./simulation_results/2023-08-05_21-32-52.csv') # block\n",
        "df23 = pd.read_csv('./simulation_results/2023-08-05_23-04-58.csv') # block"
      ],
      "id": "c3df9d60-bd17-4460-b435-5976ad97a026"
    },
    {
      "cell_type": "code",
      "execution_count": 97,
      "metadata": {},
      "outputs": [],
      "source": [
        "data = pd.concat([df1,df2,df3,df4,df5,df6,df7,df8,df9,df10,df11,df12,df13,df14,df15,df16,df17,df18,df19,df20,df21,df22,df23],axis=0)"
      ],
      "id": "ef507623-4b7a-4725-a410-7da5c12d9c43"
    },
    {
      "cell_type": "code",
      "execution_count": 98,
      "metadata": {},
      "outputs": [],
      "source": [
        "data.to_csv('./simulation_results/Real_simulation_reshape/EvolveGCNO_wikimath.csv',index=False)"
      ],
      "id": "ad0250a4-a713-4f5b-b678-3415edcd2f4f"
    },
    {
      "cell_type": "code",
      "execution_count": 99,
      "metadata": {},
      "outputs": [],
      "source": [
        "data = pd.read_csv('./simulation_results/Real_simulation_reshape/EvolveGCNO_wikimath.csv')"
      ],
      "id": "29ada711-7b72-48dd-b4ac-61bea5b0be0c"
    },
    {
      "cell_type": "markdown",
      "metadata": {},
      "source": [
        "## Baseline"
      ],
      "id": "f12501b2-8b4a-434f-a99d-dc9d5e3725d1"
    },
    {
      "cell_type": "code",
      "execution_count": 100,
      "metadata": {},
      "outputs": [],
      "source": [
        "data.query(\"mrate==0 and method!='GNAR'\").plot.box(backend='plotly',x='mrate',color='method',y='mse',height=600)"
      ],
      "id": "fa5c8072-94c9-487b-99a8-ba8310f5949f"
    },
    {
      "cell_type": "markdown",
      "metadata": {},
      "source": [
        "## random"
      ],
      "id": "a1ab7739-e6af-4985-a48f-510750574e13"
    },
    {
      "cell_type": "code",
      "execution_count": 101,
      "metadata": {},
      "outputs": [],
      "source": [
        "data.query(\"mtype=='rand' and mrate !=0 and method!='GNAR'\").plot.box(backend='plotly',x='mrate',color='method',y='mse',facet_col='lags',facet_row='nof_filters',height=800)\n"
      ],
      "id": "278ba5a9-aa8f-4e66-b4dc-88069826e20d"
    },
    {
      "cell_type": "markdown",
      "metadata": {},
      "source": [
        "## block"
      ],
      "id": "20743e2c-271a-4ce4-9c2d-06656e9e3bef"
    },
    {
      "cell_type": "code",
      "execution_count": 102,
      "metadata": {},
      "outputs": [],
      "source": [
        "data.query(\"mtype=='block' and method!='GNAR'\").plot.box(backend='plotly',x='mrate',color='method',y='mse',facet_col='lags',facet_row='nof_filters',height=1200)\n"
      ],
      "id": "174bafb7-6afa-471c-8efe-cbd13ee107ad"
    },
    {
      "cell_type": "markdown",
      "metadata": {},
      "source": [
        "## missing values on the same nodes"
      ],
      "id": "e274e305-a3c4-4b8e-ad26-6821f4f4a96e"
    },
    {
      "cell_type": "code",
      "execution_count": 142,
      "metadata": {
        "tags": []
      },
      "outputs": [],
      "source": [
        "df1 = pd.read_csv('./simulation_results/2023-06-29_18-21-43.csv') # STGCN IT-STGCN block\n",
        "df2 = pd.read_csv('./simulation_results/2023-06-29_13-25-16.csv') # STGCN IT-STGCN\n",
        "df3 = pd.read_csv('./simulation_results/2023-06-29_15-50-57.csv') "
      ],
      "id": "3bab23c8-1f28-4d44-b913-c6a8bc09f84d"
    },
    {
      "cell_type": "code",
      "execution_count": 145,
      "metadata": {},
      "outputs": [],
      "source": [
        "data = pd.concat([df1,df2,df3],axis=0)"
      ],
      "id": "c6390f6b-3350-4d43-9ee6-fe1bd11d4a19"
    },
    {
      "cell_type": "code",
      "execution_count": 146,
      "metadata": {},
      "outputs": [],
      "source": [
        "data.to_csv('./simulation_results/Real_simulation_reshape/EvolveGCNO_wikimath_GSO_st.csv',index=False)"
      ],
      "id": "14afd637-0220-43af-a16f-327a3cb52298"
    },
    {
      "cell_type": "code",
      "execution_count": 147,
      "metadata": {},
      "outputs": [],
      "source": [
        "data = pd.read_csv('./simulation_results/Real_simulation_reshape/EvolveGCNO_wikimath_GSO_st.csv')"
      ],
      "id": "32ee0958-62a6-4217-9856-6f6f03415d3b"
    },
    {
      "cell_type": "code",
      "execution_count": 148,
      "metadata": {},
      "outputs": [],
      "source": [
        "data.query(\"method!='GNAR' and mtype =='block' \").plot.box(backend='plotly',x='mrate',color='method',y='mse',facet_col='inter_method',facet_row='lags',height=800)\n"
      ],
      "id": "d4b1c9b2-de33-4fec-b004-a003548252fe"
    },
    {
      "cell_type": "markdown",
      "metadata": {},
      "source": [
        "# Windmilsmall"
      ],
      "id": "c1280123-9a78-4fd0-ae70-7dc64373bb2d"
    },
    {
      "cell_type": "code",
      "execution_count": 149,
      "metadata": {},
      "outputs": [],
      "source": [
        "# df1 = pd.read_csv('./simulation_results/2023-05-27_03-20-28.csv') # STGCN IT-STGCN 70%\n",
        "# df2 = pd.read_csv('./simulation_results/2023-05-27_11-15-19.csv') # STGCN IT-STGCN\n",
        "# df3 = pd.read_csv('./simulation_results/2023-05-27_21-50-00.csv') # STGCN IT-STGCN\n",
        "# df4 = pd.read_csv('./simulation_results/2023-05-28_07-53-57.csv') # STGCN IT-STGCN\n",
        "# df5 = pd.read_csv('./simulation_results/2023-05-28_15-11-36.csv') # STGCN IT-STGCN\n",
        "# df6 = pd.read_csv('./simulation_results/2023-05-28_19-57-23.csv') # GNAR 30%, 50%, 70% # 뭔가 일단 필요없어서 데이터셋에서 뺌\n",
        "# df7 = pd.read_csv('./simulation_results/2023-05-29_01-36-37.csv') # STGCN IT-STGCN\n",
        "# df8 = pd.read_csv('./simulation_results/2023-05-29_05-55-43.csv') # STGCN IT-STGCN\n",
        "# df9 = pd.read_csv('./simulation_results/2023-05-29_11-00-42.csv') # STGCN IT-STGCN\n",
        "# df10 = pd.read_csv('./simulation_results/2023-05-29_15-58-56.csv') # STGCN IT-STGCN\n",
        "# df11 = pd.read_csv('./simulation_results/2023-05-29_21-01-58.csv') # STGCN IT-STGCN\n",
        "# df12 = pd.read_csv('./simulation_results/2023-05-30_02-08-43.csv') # STGCN IT-STGCN\n",
        "# df13 = pd.read_csv('./simulation_results/2023-05-30_06-27-00.csv') # STGCN IT-STGCN\n",
        "# df14 = pd.read_csv('./simulation_results/2023-05-30_11-59-01.csv') # STGCN IT-STGCN\n",
        "# df15 = pd.read_csv('./simulation_results/2023-05-30_15-59-12.csv') # STGCN IT-STGCN\n",
        "# df16 = pd.read_csv('./simulation_results/2023-04-20_00-46-43.csv') # STGCN IT-STGCN\n",
        "# df17 = pd.read_csv('./simulation_results/2023-04-20_06-51-34.csv') # STGCN IT-STGCN\n",
        "# df18 = pd.read_csv('./simulation_results/2023-04-20_08-30-27.csv') # STGCN IT-STGCN\n",
        "# df19 = pd.read_csv('./simulation_results/2023-04-20_14-28-35.csv') # STGCN IT-STGCN\n",
        "# df20 = pd.read_csv('./simulation_results/2023-04-20_16-08-39.csv') # STGCN IT-STGCN\n",
        "# df21 = pd.read_csv('./simulation_results/2023-04-20_22-09-37.csv') # STGCN IT-STGCN\n",
        "# df22 = pd.read_csv('./simulation_results/2023-04-20_23-48-26.csv') # STGCN IT-STGCN\n",
        "# df23 = pd.read_csv('./simulation_results/2023-04-21_05-36-47.csv') # STGCN IT-STGCN\n",
        "# df24 = pd.read_csv('./simulation_results/2023-04-21_15-26-00.csv') # STGCN IT-STGCN\n",
        "# df25 = pd.read_csv('./simulation_results/2023-04-21_23-27-11.csv') # STGCN IT-STGCN\n",
        "# df26 = pd.read_csv('./simulation_results/2023-04-22_07-46-08.csv') # STGCN IT-STGCN\n",
        "# df27 = pd.read_csv('./simulation_results/2023-04-22_15-45-20.csv') # STGCN IT-STGCN\n",
        "# df28 = pd.read_csv('./simulation_results/2023-04-22_22-57-31.csv') # STGCN IT-STGCN\n",
        "# df29 = pd.read_csv('./simulation_results/2023-04-23_07-00-15.csv') # STGCN IT-STGCN\n",
        "# df30 = pd.read_csv('./simulation_results/2023-04-23_15-18-02.csv') # STGCN IT-STGCN\n",
        "# df31 = pd.read_csv('./simulation_results/2023-04-23_15-22-36.csv') # GNAR 70%\n",
        "# # baseline\n",
        "# df32 = pd.read_csv('./simulation_results/2023-04-29_06-54-40.csv') # GNAR \n",
        "# df33 = pd.read_csv('./simulation_results/2023-04-30_18-55-12.csv')\n",
        "# df34 = pd.read_csv('./simulation_results/2023-05-01_02-55-33.csv')\n",
        "# df35 = pd.read_csv('./simulation_results/2023-05-01_10-21-15.csv')\n",
        "# df36 = pd.read_csv('./simulation_results/2023-05-01_19-23-57.csv')\n",
        "# df37 = pd.read_csv('./simulation_results/2023-05-02_01-10-53.csv')\n",
        "# df38 = pd.read_csv('./simulation_results/2023-05-02_08-26-53.csv')\n",
        "# df39 = pd.read_csv('./simulation_results/2023-05-02_16-00-40.csv')\n",
        "# df40 = pd.read_csv('./simulation_results/2023-05-03_00-34-09.csv')\n",
        "# df41 = pd.read_csv('./simulation_results/2023-05-03_08-04-42.csv')\n",
        "# df42 = pd.read_csv('./simulation_results/2023-05-03_15-50-50.csv')\n",
        "# df43 = pd.read_csv('./simulation_results/2023-05-03_23-46-56.csv')\n",
        "# df44 = pd.read_csv('./simulation_results/2023-05-04_05-22-59.csv')\n",
        "# df45 = pd.read_csv('./simulation_results/2023-05-04_09-22-37.csv')\n",
        "# df46 = pd.read_csv('./simulation_results/2023-05-04_15-00-57.csv')\n",
        "# df47 = pd.read_csv('./simulation_results/2023-05-04_23-41-21.csv')\n",
        "# df48 = pd.read_csv('./simulation_results/2023-05-05_07-23-04.csv')\n",
        "# df49 = pd.read_csv('./simulation_results/2023-05-05_15-03-17.csv')\n",
        "# df50 = pd.read_csv('./simulation_results/2023-05-06_05-18-07.csv')\n",
        "# df51 = pd.read_csv('./simulation_results/2023-05-06_12-57-14.csv')\n",
        "# df52 = pd.read_csv('./simulation_results/2023-05-06_19-10-23.csv')\n",
        "# df53 = pd.read_csv('./simulation_results/2023-05-07_03-20-10.csv')\n",
        "# df54 = pd.read_csv('./simulation_results/2023-05-07_11-26-24.csv')\n",
        "# df55 = pd.read_csv('./simulation_results/2023-05-08_00-04-56.csv')\n",
        "# df56 = pd.read_csv('./simulation_results/2023-05-08_04-27-01.csv')\n",
        "# df57 = pd.read_csv('./simulation_results/2023-05-08_10-06-55.csv')\n",
        "# df58 = pd.read_csv('./simulation_results/2023-05-08_17-50-36.csv')\n",
        "# df59 = pd.read_csv('./simulation_results/2023-05-09_03-28-08.csv')\n",
        "# df60 = pd.read_csv('./simulation_results/2023-05-09_11-08-10.csv')\n",
        "# df61 = pd.read_csv('./simulation_results/2023-05-09_20-11-45.csv')"
      ],
      "id": "3d141b1f-51df-4048-a9ba-19db4a40a45f"
    },
    {
      "cell_type": "code",
      "execution_count": null,
      "metadata": {},
      "outputs": [],
      "source": [
        "data = pd.concat([df1],axis=0)"
      ],
      "id": "00d7dfe7-88ca-495d-b846-f9909e775d42"
    },
    {
      "cell_type": "code",
      "execution_count": null,
      "metadata": {},
      "outputs": [],
      "source": [
        "data.to_csv('./simulation_results/Real_simulation_reshape/EvolveGCNO_windmillsmall.csv',index=False)"
      ],
      "id": "8bb9b976-29c6-4895-b315-7913e0e47e2d"
    },
    {
      "cell_type": "code",
      "execution_count": null,
      "metadata": {},
      "outputs": [],
      "source": [
        "data = pd.read_csv('./simulation_results/Real_simulation_reshape/EvolveGCNO_windmillsmall.csv')"
      ],
      "id": "25e7078c-870b-42c6-a672-39a949d9219f"
    },
    {
      "cell_type": "markdown",
      "metadata": {},
      "source": [
        "## Baseline"
      ],
      "id": "6dd07d5a-4c7a-49e8-9113-95312ccb66af"
    },
    {
      "cell_type": "code",
      "execution_count": null,
      "metadata": {},
      "outputs": [],
      "source": [
        "data.query(\"method!='GNAR' and mrate ==0 \").plot.box(backend='plotly',x='mrate',color='method',y='mse',facet_col='lags',height=800)\n"
      ],
      "id": "300ff2ee-0c8d-43e7-adba-7626cb2f2658"
    },
    {
      "cell_type": "markdown",
      "metadata": {},
      "source": [
        "## random"
      ],
      "id": "c178c64b-788b-4464-8ecb-017926cd7229"
    },
    {
      "cell_type": "code",
      "execution_count": null,
      "metadata": {},
      "outputs": [],
      "source": [
        "data.query(\"method!='GNAR' and mtype =='rand' \").plot.box(backend='plotly',x='mrate',color='method',y='mse',facet_col='lags',facet_row='inter_method',height=800)\n"
      ],
      "id": "1bddd5e2-eb45-4427-88c9-6a78cc854198"
    },
    {
      "cell_type": "markdown",
      "metadata": {},
      "source": [
        "## block"
      ],
      "id": "cc017b20-0fd7-4c08-8518-2cf59fa7b08f"
    },
    {
      "cell_type": "code",
      "execution_count": null,
      "metadata": {},
      "outputs": [],
      "source": [
        "data.query(\"method!='GNAR' and mtype =='block' \").plot.box(backend='plotly',x='mrate',color='method',y='mse',facet_col='lags',facet_row='inter_method',height=800)\n"
      ],
      "id": "eb2a0724-1324-422f-8232-5564b5fb5266"
    },
    {
      "cell_type": "markdown",
      "metadata": {},
      "source": [
        "# Montevideobus"
      ],
      "id": "c37f050a-26b8-463c-8ccc-525bd309f4a4"
    },
    {
      "cell_type": "code",
      "execution_count": 66,
      "metadata": {},
      "outputs": [],
      "source": [
        "df1 = pd.read_csv('./simulation_results/2023-06-26_07-43-06.csv') # lags 8\n",
        "df2 = pd.read_csv('./simulation_results/2023-06-26_09-04-24.csv') # lags 8\n",
        "df3 = pd.read_csv('./simulation_results/2023-06-26_10-20-16.csv') # lags 8\n",
        "df4 = pd.read_csv('./simulation_results/2023-06-26_11-33-26.csv') # lags 8\n",
        "df5 = pd.read_csv('./simulation_results/2023-06-27_01-11-52.csv') # lags 8\n",
        "df6 = pd.read_csv('./simulation_results/2023-06-27_02-33-33.csv') # lags 8"
      ],
      "id": "803501a8-5405-4fb4-92ad-4bf92b16468c"
    },
    {
      "cell_type": "code",
      "execution_count": 67,
      "metadata": {},
      "outputs": [],
      "source": [
        "df7 = pd.read_csv('./simulation_results/2023-07-25_19-32-08.csv') # lags 8\n",
        "df8 = pd.read_csv('./simulation_results/2023-07-25_20-35-49.csv') # lags 8\n",
        "df9 = pd.read_csv('./simulation_results/2023-07-25_21-38-32.csv') # lags 8\n",
        "df10 = pd.read_csv('./simulation_results/2023-07-25_22-43-56.csv') # lags 8\n",
        "df11 = pd.read_csv('./simulation_results/2023-07-25_23-47-06.csv') # lags 8\n",
        "df12 = pd.read_csv('./simulation_results/2023-07-26_00-49-54.csv') # lags 8\n",
        "df13 = pd.read_csv('./simulation_results/2023-07-26_01-51-39.csv') # lags 8\n",
        "df14 = pd.read_csv('./simulation_results/2023-07-26_02-55-30.csv') # lags 8\n",
        "df15 = pd.read_csv('./simulation_results/2023-07-26_03-59-13.csv') # lags 8"
      ],
      "id": "0e02f6c0-b3aa-4bad-9316-f6fab63af3d6"
    },
    {
      "cell_type": "code",
      "execution_count": 69,
      "metadata": {},
      "outputs": [],
      "source": [
        "data = pd.concat([df1,df2,df3,df4,df5,df6,df7,df8,df9,df10,df11,df12,df13,df14,df15],axis=0)"
      ],
      "id": "9841fb76-661f-4962-af6f-4ceaff2b8683"
    },
    {
      "cell_type": "code",
      "execution_count": 70,
      "metadata": {},
      "outputs": [],
      "source": [
        "data.to_csv('./simulation_results/Real_simulation_reshape/EvolveGCNO_monte.csv',index=False)"
      ],
      "id": "17c2da5d-d505-47ca-88e2-289f0b4de3cb"
    },
    {
      "cell_type": "code",
      "execution_count": 71,
      "metadata": {},
      "outputs": [],
      "source": [
        "data = pd.read_csv('./simulation_results/Real_simulation_reshape/EvolveGCNO_monte.csv')"
      ],
      "id": "2dc0ce47-2d35-4cac-9646-8f78bb4480a4"
    },
    {
      "cell_type": "markdown",
      "metadata": {},
      "source": [
        "## Baseline"
      ],
      "id": "674b9063-80f1-412d-8027-1e987895a3af"
    },
    {
      "cell_type": "code",
      "execution_count": 72,
      "metadata": {},
      "outputs": [],
      "source": [
        "data.query(\"mrate==0 and method!='GNAR'\").plot.box(backend='plotly',x='mrate',color='method',y='mse',facet_col='lags',facet_row='nof_filters',height=600)"
      ],
      "id": "e192f252-97e1-4cf8-8fc5-cc898cb2bfe2"
    },
    {
      "cell_type": "markdown",
      "metadata": {},
      "source": [
        "## random"
      ],
      "id": "ffbdd5c9-2325-46ed-bd3f-36e6ea229667"
    },
    {
      "cell_type": "code",
      "execution_count": 73,
      "metadata": {},
      "outputs": [],
      "source": [
        "data.query(\"mtype=='rand' and mrate !=0 and method!='GNAR'\").plot.box(backend='plotly',x='mrate',color='method',y='mse',facet_col='lags',facet_row='inter_method',height=800)\n"
      ],
      "id": "214eb29f-e847-4b13-9e3a-f3d64353265f"
    },
    {
      "cell_type": "markdown",
      "metadata": {},
      "source": [
        "## block"
      ],
      "id": "9038fdea-40df-46ea-99df-18d6c850cc40"
    },
    {
      "cell_type": "code",
      "execution_count": 74,
      "metadata": {},
      "outputs": [],
      "source": [
        "data.query(\"mtype=='block' and method!='GNAR'\").plot.box(backend='plotly',x='mrate',color='method',y='mse',facet_col='lags',facet_row='nof_filters',height=1200)\n"
      ],
      "id": "15d4883a-c2da-4d88-b38f-dcdbfc3cd74f"
    }
  ],
  "nbformat": 4,
  "nbformat_minor": 5,
  "metadata": {
    "kernelspec": {
      "name": "python3",
      "display_name": "Python 3",
      "language": "python"
    },
    "language_info": {
      "name": "python",
      "codemirror_mode": {
        "name": "ipython",
        "version": "3"
      },
      "file_extension": ".py",
      "mimetype": "text/x-python",
      "nbconvert_exporter": "python",
      "pygments_lexer": "ipython3",
      "version": "3.8.0"
    }
  }
}
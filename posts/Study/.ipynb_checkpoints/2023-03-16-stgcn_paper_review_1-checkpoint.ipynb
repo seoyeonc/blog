{
 "cells": [
  {
   "cell_type": "raw",
   "id": "5a161118-1a06-4a6b-8d31-4c4304ba478e",
   "metadata": {
    "id": "cac470df-29e7-4148-9bbd-d8b9a32fa570",
    "tags": []
   },
   "source": [
    "---\n",
    "title: \"STGCN papers review\"\n",
    "author: \"SEOYEON CHOI\"\n",
    "date: \"2023-03-14\"\n",
    "categories:\n",
    "  - STGCN\n",
    "---"
   ]
  },
  {
   "cell_type": "markdown",
   "id": "4f0c1262-3c3d-4ad1-8241-bd7c480dc944",
   "metadata": {
    "tags": []
   },
   "source": [
    "> STGCN papers review"
   ]
  },
  {
   "cell_type": "markdown",
   "id": "42909b14-970c-4799-866a-29bbfa8bfe2f",
   "metadata": {},
   "source": [
    "[PyTorch Geometric Temporal](https://arxiv.org/pdf/2104.07788.pdf)"
   ]
  },
  {
   "cell_type": "markdown",
   "id": "0e1922b7-d771-4ee8-8b9d-d69b64a38107",
   "metadata": {},
   "source": [
    "이 데이터는 세 종류의 dataset을 가지고 있고, 각 데이터는  snapshot으로 구분되어 있음\n",
    "\n",
    "- Dynamic graph with temporal signal(A dynamic graph with a temporal signal)\n",
    "    - 엣지 변함, 시그널 변함\n",
    "- Dynamic graph with static signal(A dynamic graph with a static signal)\n",
    "    - 엣지 변함, 시그널 고정\n",
    "- Static graph with temporal signal(A static graph with a temporal signal)\n",
    "    - 엣지 고정, 시그널 변함"
   ]
  },
  {
   "cell_type": "markdown",
   "id": "5e0fa876-83f2-4a4a-9981-3e50a726f982",
   "metadata": {},
   "source": [
    "[Spatio-temporal graph convolutional networks: A deep learning framework for traffic forecasting](https://arxiv.org/pdf/1709.04875.pdf)"
   ]
  },
  {
   "cell_type": "code",
   "execution_count": null,
   "id": "f5879621-913a-4de1-83d9-32d0725f9322",
   "metadata": {},
   "outputs": [],
   "source": []
  }
 ],
 "metadata": {
  "kernelspec": {
   "display_name": "Python 3 (ipykernel)",
   "language": "python",
   "name": "python3"
  },
  "language_info": {
   "codemirror_mode": {
    "name": "ipython",
    "version": 3
   },
   "file_extension": ".py",
   "mimetype": "text/x-python",
   "name": "python",
   "nbconvert_exporter": "python",
   "pygments_lexer": "ipython3",
   "version": "3.8.12"
  }
 },
 "nbformat": 4,
 "nbformat_minor": 5
}

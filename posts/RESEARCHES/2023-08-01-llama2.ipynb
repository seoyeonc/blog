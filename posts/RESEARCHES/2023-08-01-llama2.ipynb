{
 "cells": [
  {
   "cell_type": "raw",
   "id": "19a1409b-8eb6-49f1-8c2d-aa227c14b8b5",
   "metadata": {
    "id": "cac470df-29e7-4148-9bbd-d8b9a32fa570",
    "tags": []
   },
   "source": [
    "---\n",
    "title: \"**[LLM]**Llama2\"\n",
    "author: \"SEOYEON CHOI\"\n",
    "date: \"2023-08-01\"\n",
    "---"
   ]
  },
  {
   "cell_type": "markdown",
   "id": "f51d3976-300d-4665-9e63-64506d6f9d55",
   "metadata": {},
   "source": [
    "# Import"
   ]
  },
  {
   "cell_type": "markdown",
   "id": "4c07d631-7530-4b7e-ae29-53db514cbe0d",
   "metadata": {},
   "source": [
    "## Load a model\n",
    "\n",
    "### Llama-2-7b-chat-hf"
   ]
  },
  {
   "cell_type": "markdown",
   "id": "c2e93d75-0be8-4eaa-bf97-a49f4354b30a",
   "metadata": {},
   "source": [
    "텍스트 생성"
   ]
  },
  {
   "cell_type": "code",
   "execution_count": 20,
   "id": "05ea4af3-1006-4a87-89d6-9cb8630d4aa9",
   "metadata": {},
   "outputs": [],
   "source": [
    "# !pip install -q transformers accelerate sentencepiece\n",
    "# !huggingface-cli login\n",
    "from transformers import AutoTokenizer\n",
    "import transformers\n",
    "import torch"
   ]
  },
  {
   "cell_type": "code",
   "execution_count": 21,
   "id": "054c1247-d20c-4fb4-a31a-9198167645f4",
   "metadata": {},
   "outputs": [],
   "source": [
    "model = \"meta-llama/Llama-2-7b-chat-hf\""
   ]
  },
  {
   "cell_type": "markdown",
   "id": "af522a75-5d53-421f-9e83-dbfd91d32e5c",
   "metadata": {},
   "source": [
    "AutoTokenizer\n",
    "\n",
    "- 사전 훈련된 tokenizer를 자동으로 선택하고 사용"
   ]
  },
  {
   "cell_type": "code",
   "execution_count": 22,
   "id": "50183d44-5a52-4e0e-bfb6-3584b20a4bbc",
   "metadata": {},
   "outputs": [
    {
     "name": "stderr",
     "output_type": "stream",
     "text": [
      "Downloading (…)okenizer_config.json: 100%|██████████| 776/776 [00:00<00:00, 303kB/s]\n"
     ]
    }
   ],
   "source": [
    "tokenizer = AutoTokenizer.from_pretrained(\n",
    "    model,\n",
    "    use_auth_token=True,\n",
    ")"
   ]
  },
  {
   "cell_type": "markdown",
   "id": "d2febead-d242-4e2d-b1d9-a31e2d9fc064",
   "metadata": {},
   "source": [
    "transformers.pipeline\n",
    "\n",
    "- 사전 훈련된 모델과 tokenizer를 자동으로 선택\n",
    "- `\"text-generation\"` 쓰면 입력 문장 이어서 텍스트 생성하도록 함.\n",
    "- `device_map=\"auto\"` 쓰면 gpu 혹은 cpu 자동 할당 "
   ]
  },
  {
   "cell_type": "code",
   "execution_count": 23,
   "id": "dbcefe88-9c5a-4236-8613-67784f47f7d5",
   "metadata": {},
   "outputs": [
    {
     "name": "stderr",
     "output_type": "stream",
     "text": [
      "Downloading (…)lve/main/config.json: 100%|██████████| 614/614 [00:00<00:00, 680kB/s]\n",
      "Downloading shards: 100%|██████████| 2/2 [00:00<00:00,  5.04it/s]\n",
      "Loading checkpoint shards: 100%|██████████| 2/2 [00:00<00:00,  2.19it/s]\n"
     ]
    }
   ],
   "source": [
    "pipeline = transformers.pipeline(\n",
    "    \"text-generation\",\n",
    "    model=model,\n",
    "    torch_dtype=torch.float16,\n",
    "    device_map=\"auto\",\n",
    ")"
   ]
  },
  {
   "cell_type": "code",
   "execution_count": 24,
   "id": "70a1db02-9d06-458e-80b0-ccc6ad3d7117",
   "metadata": {},
   "outputs": [],
   "source": [
    "def gen(x, max_length=200):\n",
    "    sequences = pipeline(\n",
    "        x,\n",
    "        do_sample=True,\n",
    "        top_k=10,\n",
    "        num_return_sequences=1,\n",
    "        eos_token_id=tokenizer.eos_token_id,\n",
    "        max_length=max_length,\n",
    "    )\n",
    "\n",
    "    return sequences[0][\"generated_text\"].replace(x, \"\")"
   ]
  },
  {
   "cell_type": "code",
   "execution_count": null,
   "id": "2221d184-c5ce-4749-b647-4e7953dd8a57",
   "metadata": {},
   "outputs": [],
   "source": [
    "print(gen('I liked \"Breaking Bad\" and \"Band of Brothers\". Do you have any recommendations of other shows I might like?\\n'))\n"
   ]
  },
  {
   "cell_type": "code",
   "execution_count": null,
   "id": "55228d89-8e25-4afc-b8aa-64ca1de75aae",
   "metadata": {},
   "outputs": [],
   "source": [
    "print(gen(\"대한민국에서 유명한 인공지능 유튜버 3명만 나열해봐.\", 500))"
   ]
  },
  {
   "cell_type": "code",
   "execution_count": null,
   "id": "8f6b02e7-24a4-4e48-b09d-28c7008d0f4f",
   "metadata": {},
   "outputs": [],
   "source": [
    "print(gen(\"유튜브 빵형의 개발도상국 채널 알아?\", 500))"
   ]
  },
  {
   "cell_type": "markdown",
   "id": "50769c24-19a6-4213-811c-a72f0962f04c",
   "metadata": {},
   "source": [
    "# "
   ]
  },
  {
   "cell_type": "code",
   "execution_count": 35,
   "id": "d386b693-2dd4-4766-93b8-880ec0b53af6",
   "metadata": {},
   "outputs": [
    {
     "name": "stderr",
     "output_type": "stream",
     "text": [
      "Downloading (…)/main/tokenizer.json: 100%|██████████| 466k/466k [00:00<00:00, 1.36MB/s]\n"
     ]
    }
   ],
   "source": [
    "# BERT 모델을 위한 AutoTokenizer 선택\n",
    "model_name = \"bert-base-uncased\"\n",
    "tokenizer = AutoTokenizer.from_pretrained(model_name)\n",
    "\n",
    "# 입력 문장을 토큰으로 분리\n",
    "input_text = \"Hello, how are you?\"\n",
    "tokens = tokenizer(input_text)"
   ]
  },
  {
   "cell_type": "code",
   "execution_count": 42,
   "id": "95bbe837-fdfb-4db3-952f-587e99c8796f",
   "metadata": {},
   "outputs": [
    {
     "data": {
      "text/plain": [
       "{'input_ids': [101, 7592, 1010, 2129, 2024, 2017, 1029, 102], 'token_type_ids': [0, 0, 0, 0, 0, 0, 0, 0], 'attention_mask': [1, 1, 1, 1, 1, 1, 1, 1]}"
      ]
     },
     "execution_count": 42,
     "metadata": {},
     "output_type": "execute_result"
    }
   ],
   "source": [
    "tokens"
   ]
  },
  {
   "cell_type": "code",
   "execution_count": 47,
   "id": "99713b94-b859-4f0e-af25-d3cbaa26fb3d",
   "metadata": {},
   "outputs": [
    {
     "name": "stderr",
     "output_type": "stream",
     "text": [
      "Some weights of the model checkpoint at bert-base-uncased were not used when initializing BertForSequenceClassification: ['cls.seq_relationship.bias', 'cls.predictions.bias', 'cls.predictions.transform.dense.weight', 'cls.seq_relationship.weight', 'cls.predictions.transform.LayerNorm.weight', 'cls.predictions.transform.LayerNorm.bias', 'cls.predictions.transform.dense.bias']\n",
      "- This IS expected if you are initializing BertForSequenceClassification from the checkpoint of a model trained on another task or with another architecture (e.g. initializing a BertForSequenceClassification model from a BertForPreTraining model).\n",
      "- This IS NOT expected if you are initializing BertForSequenceClassification from the checkpoint of a model that you expect to be exactly identical (initializing a BertForSequenceClassification model from a BertForSequenceClassification model).\n",
      "Some weights of BertForSequenceClassification were not initialized from the model checkpoint at bert-base-uncased and are newly initialized: ['classifier.bias', 'classifier.weight']\n",
      "You should probably TRAIN this model on a down-stream task to be able to use it for predictions and inference.\n"
     ]
    },
    {
     "name": "stdout",
     "output_type": "stream",
     "text": [
      "[{'label': 'LABEL_0', 'score': 0.5992876887321472}]\n"
     ]
    }
   ],
   "source": [
    "from transformers import BertTokenizer, BertForSequenceClassification, TextClassificationPipeline\n",
    "\n",
    "# Load the pre-trained tokenizer and model\n",
    "tokenizer = BertTokenizer.from_pretrained(\"bert-base-uncased\")\n",
    "model = BertForSequenceClassification.from_pretrained(\"bert-base-uncased\")\n",
    "\n",
    "# Create the text classification pipeline\n",
    "classification_pipeline = TextClassificationPipeline(model=model, tokenizer=tokenizer, framework=\"pt\")\n",
    "\n",
    "# Text to classify\n",
    "input_text = \"This is a positive review.\"\n",
    "\n",
    "# Perform text classification\n",
    "result = classification_pipeline(input_text)\n",
    "\n",
    "# Output the classification result\n",
    "print(result)\n"
   ]
  },
  {
   "cell_type": "code",
   "execution_count": null,
   "id": "e6e930d8-4c30-4f09-9ed4-0bc543622f78",
   "metadata": {},
   "outputs": [],
   "source": []
  }
 ],
 "metadata": {
  "kernelspec": {
   "display_name": "Python 3",
   "language": "python",
   "name": "python3"
  },
  "language_info": {
   "codemirror_mode": {
    "name": "ipython",
    "version": 3
   },
   "file_extension": ".py",
   "mimetype": "text/x-python",
   "name": "python",
   "nbconvert_exporter": "python",
   "pygments_lexer": "ipython3",
   "version": "3.8.0"
  }
 },
 "nbformat": 4,
 "nbformat_minor": 5
}

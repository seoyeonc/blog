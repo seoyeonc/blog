{
  "cells": [
    {
      "cell_type": "markdown",
      "metadata": {},
      "source": [
        "# Data management Figure for ITSTGCN\n",
        "\n",
        "SEOYEON CHOI  \n",
        "7/20/23\n",
        "\n",
        "# Import"
      ],
      "id": "141d6f18-3328-4e8d-b868-bc3c80df1fc4"
    },
    {
      "cell_type": "code",
      "execution_count": 17,
      "metadata": {},
      "outputs": [],
      "source": [
        "library(ggplot2)\n",
        "library(dplyr)"
      ],
      "id": "9acc86d3-8df3-4629-b1c4-9a573d7341bb"
    },
    {
      "cell_type": "code",
      "execution_count": 14,
      "metadata": {},
      "outputs": [],
      "source": [
        "df <- read.csv(\"./df_fig.csv\")"
      ],
      "id": "031b9d78-49ff-4b62-a127-c99c0734a36b"
    },
    {
      "cell_type": "code",
      "execution_count": 15,
      "metadata": {},
      "outputs": [],
      "source": [
        "head(df)"
      ],
      "id": "e78f18ac-23d9-4a15-9e5e-7845ab83a621"
    },
    {
      "cell_type": "markdown",
      "metadata": {},
      "source": [
        "# fivenode"
      ],
      "id": "09eb0198-7e3c-4baa-af5d-294cdb1db6f8"
    },
    {
      "cell_type": "code",
      "execution_count": null,
      "metadata": {},
      "outputs": [],
      "source": [
        "df.query(\"dataset=='fivenodes' and mtype=='rand' and inter_method == 'linear' and nof_filters==12 and lags==2 and epoch==50 and model=='GConvGRU' and mrate in [0.3  , 0.5  , 0.6 ,0.7  , 0.8]\").\\\n",
        "iloc[:,[1,2,8,10]].boxplot(by=['model','mrate','method'],ax=ax[0,0],grid=False,widths=0.5)\n",
        "ax[0,0].set_title('GConvGRU')"
      ],
      "id": "a701b99c-00ef-42a0-a7ac-6ac835306e53"
    },
    {
      "cell_type": "code",
      "execution_count": 51,
      "metadata": {},
      "outputs": [],
      "source": [
        "df_tmp <- df %>% filter(dataset=='fivenodes' & model=='GConvGRU' & mtype == 'rand' & inter_method == 'linear' & nof_filters==12 & lags==2 & epoch==50 & method=='STGCN' & mrate==0.3)"
      ],
      "id": "73fc1f23-220c-40a9-93f3-0f0ffe44f86e"
    },
    {
      "cell_type": "code",
      "execution_count": 52,
      "metadata": {},
      "outputs": [],
      "source": [
        "df_tmp"
      ],
      "id": "421ae6dc-079b-491d-bfa9-f7c6faacc388"
    },
    {
      "cell_type": "code",
      "execution_count": 53,
      "metadata": {},
      "outputs": [],
      "source": [
        "ggplot(df_tmp,aes=(x=mrate,y=mse)) + geom_boxplot()"
      ],
      "id": "802857ea-e345-4345-9aa4-d054967c61eb"
    },
    {
      "cell_type": "markdown",
      "metadata": {},
      "source": [
        "# ChickenpoxDatasetLoader(lags=4)\n",
        "\n",
        "# PedalMeDatasetLoader (lags=4)\n",
        "\n",
        "# WikiMathsDatasetLoader (lags=8)\n",
        "\n",
        "# Windmillsmall(lags=8)\n",
        "\n",
        "# Montevideobus (lags=4)"
      ],
      "id": "39cb6972-8242-4101-94d2-7bf97bf102a3"
    }
  ],
  "nbformat": 4,
  "nbformat_minor": 5,
  "metadata": {
    "kernelspec": {
      "name": "ir",
      "display_name": "R",
      "language": "R"
    },
    "language_info": {
      "name": "R",
      "codemirror_mode": "r",
      "file_extension": ".r",
      "mimetype": "text/x-r-source",
      "pygments_lexer": "r",
      "version": "4.3.0"
    }
  }
}
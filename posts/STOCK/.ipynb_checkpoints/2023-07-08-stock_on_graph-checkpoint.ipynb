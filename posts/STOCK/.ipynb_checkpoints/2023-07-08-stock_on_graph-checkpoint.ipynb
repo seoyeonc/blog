{
 "cells": [
  {
   "cell_type": "raw",
   "id": "f1119087-a0d9-45c3-a6eb-74951cd21737",
   "metadata": {
    "id": "cac470df-29e7-4148-9bbd-d8b9a32fa570",
    "tags": []
   },
   "source": [
    "---\n",
    "title: \"Stock on Graph\"\n",
    "author: \"SEOYEON CHOI\"\n",
    "date: \"2023-07-08\"\n",
    "categories:\n",
    "  - STGCN\n",
    "---"
   ]
  },
  {
   "cell_type": "code",
   "execution_count": null,
   "id": "6d20609c-3ca9-4b3f-96e5-043ce9220638",
   "metadata": {},
   "outputs": [],
   "source": []
  }
 ],
 "metadata": {
  "kernelspec": {
   "display_name": "Python 3",
   "language": "python",
   "name": "python3"
  },
  "language_info": {
   "codemirror_mode": {
    "name": "ipython",
    "version": 3
   },
   "file_extension": ".py",
   "mimetype": "text/x-python",
   "name": "python",
   "nbconvert_exporter": "python",
   "pygments_lexer": "ipython3",
   "version": "3.8.0"
  }
 },
 "nbformat": 4,
 "nbformat_minor": 5
}

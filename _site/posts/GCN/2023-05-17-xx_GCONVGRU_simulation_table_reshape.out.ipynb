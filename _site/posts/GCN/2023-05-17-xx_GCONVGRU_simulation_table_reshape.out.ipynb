{
  "cells": [
    {
      "cell_type": "markdown",
      "metadata": {},
      "source": [
        "# GConvGRU_Simulation Tables_reshape\n",
        "\n",
        "SEOYEON CHOI  \n",
        "5/25/23\n",
        "\n",
        "> Simulation Tables\n",
        "\n",
        "# import"
      ],
      "id": "c25a9ee0-a04c-46d2-bdcf-80909c8f5bb6"
    },
    {
      "cell_type": "code",
      "execution_count": 1,
      "metadata": {},
      "outputs": [],
      "source": [
        "import pandas as pd"
      ],
      "id": "72d4e651-006f-49f5-8d88-e540d95abef1"
    },
    {
      "cell_type": "code",
      "execution_count": 14,
      "metadata": {},
      "outputs": [],
      "source": [
        "data_fivenodes = pd.read_csv('./simulation_results/Real_simulation_reshape/fivedones_Simulation.csv')"
      ],
      "id": "60093e4a-9c3c-4737-807b-1a09ebabf54a"
    },
    {
      "cell_type": "code",
      "execution_count": 15,
      "metadata": {},
      "outputs": [],
      "source": [
        "data_chickenpox = pd.read_csv('./simulation_results/Real_simulation_reshape/chikenpox_Simulation.csv')"
      ],
      "id": "8c08ef92-7f39-4030-af51-c0d6e45e2080"
    },
    {
      "cell_type": "code",
      "execution_count": 16,
      "metadata": {},
      "outputs": [],
      "source": [
        "data_pedal = pd.read_csv('./simulation_results/Real_simulation_reshape/pedalme_Simulation.csv')"
      ],
      "id": "167fd6a0-8caa-4111-ad4d-df5822a04b95"
    },
    {
      "cell_type": "code",
      "execution_count": 17,
      "metadata": {},
      "outputs": [],
      "source": [
        "data_pedal2 = pd.read_csv('./simulation_results/Real_simulation_reshape/pedalme_Simulation_itstgcnsnd.csv')"
      ],
      "id": "def94176-2c44-47d3-b02d-116ee3259f28"
    },
    {
      "cell_type": "code",
      "execution_count": 18,
      "metadata": {},
      "outputs": [],
      "source": [
        "data__wiki = pd.read_csv('./simulation_results/Real_simulation_reshape/wikimath.csv')"
      ],
      "id": "3931cdf0-3a18-473f-9aeb-3fcc356fec43"
    },
    {
      "cell_type": "code",
      "execution_count": 19,
      "metadata": {},
      "outputs": [],
      "source": [
        "data_wiki_GSO = pd.read_csv('./simulation_results/Real_simulation_reshape/wikimath_GSO_st.csv')"
      ],
      "id": "035bd01b-e278-459c-b332-dcdebfca8d7f"
    },
    {
      "cell_type": "code",
      "execution_count": 20,
      "metadata": {},
      "outputs": [],
      "source": [
        "data_windmillsmall = pd.read_csv('./simulation_results/Real_simulation_reshape/windmillsmall.csv')"
      ],
      "id": "89ab5e77-61c3-41a3-88c1-dbf73258a142"
    },
    {
      "cell_type": "code",
      "execution_count": 21,
      "metadata": {},
      "outputs": [],
      "source": [
        "data_monte = pd.read_csv('./simulation_results/Real_simulation_reshape/monte.csv')"
      ],
      "id": "921b48dc-eb82-4219-b011-833e86133268"
    },
    {
      "cell_type": "code",
      "execution_count": 22,
      "metadata": {},
      "outputs": [],
      "source": [
        "data = pd.concat([data_fivenodes,data_chickenpox,data_pedal,data__wiki,data_windmillsmall,data_monte]);data"
      ],
      "id": "921beb4e-9f5d-4d73-8cd2-791e2f221ca2"
    },
    {
      "cell_type": "markdown",
      "metadata": {},
      "source": [
        "# Fivenodes\n",
        "\n",
        "## Baseline"
      ],
      "id": "0c1e2a85-06a1-4aef-82a3-7242d52567be"
    },
    {
      "cell_type": "code",
      "execution_count": 41,
      "metadata": {},
      "outputs": [],
      "source": [
        "pd.merge(data.query(\"dataset=='fivenodes' and mtype!='rand' and mtype!='block'\").groupby(['nof_filters','method','lags'])['mse'].mean().reset_index(),\n",
        "         data.query(\"dataset=='fivenodes' and mtype!='rand' and mtype!='block'\").groupby(['nof_filters','method','lags'])['mse'].std().reset_index(),\n",
        "         on=['method','nof_filters','lags']).rename(columns={'mse_x':'mean','mse_y':'std'}).round(3)"
      ],
      "id": "b31b59b5-c4a3-46b6-8292-5c0b01a4d480"
    },
    {
      "cell_type": "markdown",
      "metadata": {},
      "source": [
        "## Random"
      ],
      "id": "11d522c2-8658-43a5-b29c-b8fe5bd869df"
    },
    {
      "cell_type": "code",
      "execution_count": 42,
      "metadata": {},
      "outputs": [],
      "source": [
        "pd.merge(data.query(\"dataset=='fivenodes' and mtype=='rand'\").groupby(['mrate','nof_filters','method','lags'])['mse'].mean().reset_index(),\n",
        "         data.query(\"dataset=='fivenodes' and mtype=='rand'\").groupby(['mrate','nof_filters','method','lags'])['mse'].std().reset_index(),\n",
        "         on=['method','nof_filters','mrate','lags']).rename(columns={'mse_x':'mean','mse_y':'std'}).round(3).query(\"nof_filters==12\")"
      ],
      "id": "cb7a94d3-e7a6-4250-abc6-3adf514d0f39"
    },
    {
      "cell_type": "markdown",
      "metadata": {},
      "source": [
        "## Block"
      ],
      "id": "a03a8328-a84e-4e67-bbf4-9fdc1326267d"
    },
    {
      "cell_type": "code",
      "execution_count": 43,
      "metadata": {},
      "outputs": [],
      "source": [
        "pd.merge(data.query(\"dataset=='fivenodes' and mtype=='block'\").groupby(['mrate','nof_filters','method'])['mse'].mean().reset_index(),\n",
        "         data.query(\"dataset=='fivenodes' and mtype=='block'\").groupby(['mrate','nof_filters','method'])['mse'].std().reset_index(),\n",
        "         on=['method','nof_filters','mrate']).rename(columns={'mse_x':'mean','mse_y':'std'}).round(3)"
      ],
      "id": "6d9db7ff-76b8-4539-beed-484dfbe53af2"
    },
    {
      "cell_type": "markdown",
      "metadata": {},
      "source": [
        "# ChickenpoxDatasetLoader(lags=4)\n",
        "\n",
        "## Baseline"
      ],
      "id": "43540e05-9de0-4d63-b914-a9a12762498f"
    },
    {
      "cell_type": "code",
      "execution_count": 108,
      "metadata": {},
      "outputs": [],
      "source": [
        "pd.merge(data.query(\"dataset=='chickenpox' and mtype!='rand' and mtype!='block'\").groupby(['nof_filters','method'])['mse'].mean().reset_index(),\n",
        "         data.query(\"dataset=='chickenpox' and mtype!='rand' and mtype!='block'\").groupby(['nof_filters','method'])['mse'].std().reset_index(),\n",
        "         on=['method','nof_filters']).rename(columns={'mse_x':'mean','mse_y':'std'}).round(3).query(\"nof_filters==16\")"
      ],
      "id": "8fc9d8b2-257d-4a9a-8023-d9ea8b7b7476"
    },
    {
      "cell_type": "markdown",
      "metadata": {},
      "source": [
        "## Random"
      ],
      "id": "9c9dad5d-d407-44f3-ae76-46c53e044feb"
    },
    {
      "cell_type": "code",
      "execution_count": 109,
      "metadata": {},
      "outputs": [],
      "source": [
        "pd.merge(data.query(\"dataset=='chickenpox' and mtype=='rand'\").groupby(['mrate','inter_method','nof_filters','method'])['mse'].mean().reset_index(),\n",
        "         data.query(\"dataset=='chickenpox' and mtype=='rand'\").groupby(['mrate','inter_method','nof_filters','method'])['mse'].std().reset_index(),\n",
        "         on=['method','inter_method','mrate','nof_filters']).rename(columns={'mse_x':'mean','mse_y':'std'}).round(3)"
      ],
      "id": "7860deb1-49f2-47a2-b1a3-f1f527d52b13"
    },
    {
      "cell_type": "markdown",
      "metadata": {},
      "source": [
        "## Block"
      ],
      "id": "8bd40652-cfe1-41fd-b6f0-47680e8fc0e4"
    },
    {
      "cell_type": "code",
      "execution_count": 110,
      "metadata": {},
      "outputs": [],
      "source": [
        "pd.merge(data.query(\"dataset=='chickenpox' and mtype=='block'\").groupby(['inter_method','mrate','nof_filters','method'])['mse'].mean().reset_index(),\n",
        "         data.query(\"dataset=='chickenpox' and mtype=='block'\").groupby(['inter_method','mrate','nof_filters','method'])['mse'].std().reset_index(),\n",
        "         on=['method','inter_method','mrate','nof_filters']).rename(columns={'mse_x':'mean','mse_y':'std'})"
      ],
      "id": "9f87d3ae-7990-4757-9569-3b820e928a98"
    },
    {
      "cell_type": "markdown",
      "metadata": {},
      "source": [
        "# PedalMeDatasetLoader (lags=4)\n",
        "\n",
        "## Baseline"
      ],
      "id": "bdabbcea-0d5d-4d72-bb4d-e8e3d206b05c"
    },
    {
      "cell_type": "code",
      "execution_count": 47,
      "metadata": {},
      "outputs": [],
      "source": [
        "pd.merge(data.query(\"dataset=='pedalme' and mtype!='rand' and mtype!='block'\").groupby(['lags','nof_filters','method'])['mse'].mean().reset_index(),\n",
        "         data.query(\"dataset=='pedalme' and mtype!='rand' and mtype!='block'\").groupby(['lags','nof_filters','method'])['mse'].std().reset_index(),\n",
        "         on=['method','lags','nof_filters']).rename(columns={'mse_x':'mean','mse_y':'std'}).round(3).query(\"lags==4\")"
      ],
      "id": "9fec69e6-3964-499e-90cf-083265af9d38"
    },
    {
      "cell_type": "markdown",
      "metadata": {},
      "source": [
        "## Random"
      ],
      "id": "9feca616-272a-40dd-b3c8-7c453084679e"
    },
    {
      "cell_type": "code",
      "execution_count": 48,
      "metadata": {},
      "outputs": [],
      "source": [
        "pd.merge(data.query(\"dataset=='pedalme' and mtype=='rand'\").groupby(['mrate','lags','inter_method','method'])['mse'].mean().reset_index(),\n",
        "         data.query(\"dataset=='pedalme' and mtype=='rand'\").groupby(['mrate','lags','inter_method','method'])['mse'].std().reset_index(),\n",
        "         on=['method','mrate','lags','inter_method']).rename(columns={'mse_x':'mean','mse_y':'std'}).round(3)"
      ],
      "id": "876330d5-b50f-40c1-892a-36c86a62e06f"
    },
    {
      "cell_type": "markdown",
      "metadata": {},
      "source": [
        "## Block"
      ],
      "id": "e060fbdd-ddd4-441a-8125-4afbc663e670"
    },
    {
      "cell_type": "code",
      "execution_count": 49,
      "metadata": {},
      "outputs": [],
      "source": [
        "pd.merge(data.query(\"dataset=='pedalme' and mtype=='block'\").groupby(['mrate','lags','inter_method','method'])['mse'].mean().reset_index(),\n",
        "         data.query(\"dataset=='pedalme' and mtype=='block'\").groupby(['mrate','lags','inter_method','method'])['mse'].std().reset_index(),\n",
        "         on=['method','mrate','lags','inter_method']).rename(columns={'mse_x':'mean','mse_y':'std'}).round(3).query(\"lags==4\")"
      ],
      "id": "3fd95c72-3809-4eec-88bd-5a900efc2b3d"
    },
    {
      "cell_type": "markdown",
      "metadata": {},
      "source": [
        "## W_st"
      ],
      "id": "1d4edd9d-3093-4b42-b091-c478b2289313"
    },
    {
      "cell_type": "code",
      "execution_count": 71,
      "metadata": {},
      "outputs": [],
      "source": [
        "pd.merge(data_pedal2.query(\"mtype=='rand'\").groupby(['mrate','lags','inter_method','method'])['mse'].mean().reset_index(),\n",
        "         data_pedal2.query(\"mtype=='rand'\").groupby(['mrate','lags','inter_method','method'])['mse'].std().reset_index(),\n",
        "         on=['method','mrate','lags','inter_method']).rename(columns={'mse_x':'mean','mse_y':'std'}).round(3).query(\"lags==4\")"
      ],
      "id": "0b223ee8-ab43-4c71-ba7a-ea650733a308"
    },
    {
      "cell_type": "code",
      "execution_count": 72,
      "metadata": {},
      "outputs": [],
      "source": [
        "pd.merge(data_pedal2.query(\"mtype=='block'\").groupby(['mrate','lags','inter_method','method'])['mse'].mean().reset_index(),\n",
        "         data_pedal2.query(\"mtype=='block'\").groupby(['mrate','lags','inter_method','method'])['mse'].std().reset_index(),\n",
        "         on=['method','mrate','lags','inter_method']).rename(columns={'mse_x':'mean','mse_y':'std'}).round(3).query(\"lags==4\")"
      ],
      "id": "d2c0222a-e641-4650-8441-04684e7bd25a"
    },
    {
      "cell_type": "markdown",
      "metadata": {},
      "source": [
        "# WikiMathsDatasetLoader (lags=8)\n",
        "\n",
        "## Baseline"
      ],
      "id": "bfd16659-b027-474d-ae08-394b3f0f9dbd"
    },
    {
      "cell_type": "code",
      "execution_count": 142,
      "metadata": {},
      "outputs": [],
      "source": [
        "pd.merge(data.query(\"dataset=='wikimath' and mrate==0\").groupby(['lags','nof_filters','method'])['mse'].mean().reset_index(),\n",
        "         data.query(\"dataset=='wikimath' and mrate==0\").groupby(['lags','nof_filters','method'])['mse'].std().reset_index(),\n",
        "         on=['lags','nof_filters','method']).rename(columns={'mse_x':'mean','mse_y':'std'}).round(3)"
      ],
      "id": "8f5c61ba-6d56-49c0-af45-08e1eb01d691"
    },
    {
      "cell_type": "markdown",
      "metadata": {},
      "source": [
        "## Random"
      ],
      "id": "7d275417-956c-4f9b-b647-e0be2ae5c0dc"
    },
    {
      "cell_type": "code",
      "execution_count": 143,
      "metadata": {},
      "outputs": [],
      "source": [
        "pd.merge(data.query(\"dataset=='wikimath' and mtype=='rand'\").groupby(['mrate','lags','method'])['mse'].mean().reset_index(),\n",
        "         data.query(\"dataset=='wikimath' and mtype=='rand'\").groupby(['mrate','lags','method'])['mse'].std().reset_index(),\n",
        "         on=['method','mrate','lags']).rename(columns={'mse_x':'mean','mse_y':'std'}).round(3)"
      ],
      "id": "ed88c0fb-92af-4b98-a520-c6e8b3b79a92"
    },
    {
      "cell_type": "markdown",
      "metadata": {},
      "source": [
        "## Block"
      ],
      "id": "464db025-f476-4e64-bb62-a7309ccff9b0"
    },
    {
      "cell_type": "code",
      "execution_count": 144,
      "metadata": {},
      "outputs": [],
      "source": [
        "pd.merge(data.query(\"dataset=='wikimath' and mtype=='block'\").groupby(['mrate','lags','method'])['mse'].mean().reset_index(),\n",
        "         data.query(\"dataset=='wikimath' and mtype=='block'\").groupby(['mrate','lags','method'])['mse'].std().reset_index(),\n",
        "         on=['method','mrate','lags']).rename(columns={'mse_x':'mean','mse_y':'std'})"
      ],
      "id": "5ef50613-52bd-426c-8cf8-989f191472fb"
    },
    {
      "cell_type": "markdown",
      "metadata": {},
      "source": [
        "## missing values on the same nodes"
      ],
      "id": "cc143c11-fcb0-4338-87ae-77dedbbb3913"
    },
    {
      "cell_type": "code",
      "execution_count": 161,
      "metadata": {},
      "outputs": [],
      "source": [
        "pd.merge(data_wiki_GSO.groupby(['mrate','lags','method'])['mse'].mean().reset_index(),\n",
        "        data_wiki_GSO.groupby(['mrate','lags','method'])['mse'].std().reset_index(),\n",
        "         on=['method','mrate','lags']).rename(columns={'mse_x':'mean','mse_y':'std'}).round(3)"
      ],
      "id": "ae898460-ea5d-475b-9e41-c3553ac814b9"
    },
    {
      "cell_type": "markdown",
      "metadata": {},
      "source": [
        "# WindmillOutputSmallDatasetLoader (lags=8)\n",
        "\n",
        "## Baseline"
      ],
      "id": "cf0916ff-7f30-49aa-905d-f23f4e21dd1f"
    },
    {
      "cell_type": "code",
      "execution_count": 23,
      "metadata": {},
      "outputs": [],
      "source": [
        "pd.merge(data.query(\"dataset=='windmillsmall' and mrate==0\").groupby(['lags','method'])['mse'].mean().reset_index(),\n",
        "         data.query(\"dataset=='windmillsmall' and mrate==0\").groupby(['lags','method'])['mse'].std().reset_index(),\n",
        "         on=['method','lags']).rename(columns={'mse_x':'mean','mse_y':'std'}).round(3)"
      ],
      "id": "6690107b-ecd2-474c-a441-221ec9881b4d"
    },
    {
      "cell_type": "markdown",
      "metadata": {},
      "source": [
        "## Random"
      ],
      "id": "548be9b4-1121-4e35-8708-a607700b8ffe"
    },
    {
      "cell_type": "code",
      "execution_count": 24,
      "metadata": {},
      "outputs": [],
      "source": [
        "pd.merge(data.query(\"dataset=='windmillsmall' and mtype=='rand'\").groupby(['mrate','lags','method'])['mse'].mean().reset_index(),\n",
        "         data.query(\"dataset=='windmillsmall' and mtype=='rand'\").groupby(['mrate','lags','method'])['mse'].std().reset_index(),\n",
        "         on=['method','mrate','lags']).rename(columns={'mse_x':'mean','mse_y':'std'}).round(3)"
      ],
      "id": "7355baf3-0594-4e67-b1a2-6ee3774dba27"
    },
    {
      "cell_type": "markdown",
      "metadata": {},
      "source": [
        "## Block"
      ],
      "id": "bf78da50-dfde-49b9-b0fd-8a444570a36f"
    },
    {
      "cell_type": "code",
      "execution_count": 13,
      "metadata": {},
      "outputs": [],
      "source": [
        "pd.merge(data.query(\"dataset=='windmillsmall' and mtype=='block'\").groupby(['mrate','lags','method'])['mse'].mean().reset_index(),\n",
        "         data.query(\"dataset=='windmillsmall' and mtype=='block'\").groupby(['mrate','lags','method'])['mse'].std().reset_index(),\n",
        "         on=['method','mrate','lags']).rename(columns={'mse_x':'mean','mse_y':'std'}).round(3)"
      ],
      "id": "e6cb8f27-7ab7-4c5d-9ee0-c314a2977d94"
    },
    {
      "cell_type": "markdown",
      "metadata": {},
      "source": [
        "# Montevideobus (lags=4)\n",
        "\n",
        "## Baseline"
      ],
      "id": "f367ed8d-a4a9-47d2-85d4-15a1a4064ac0"
    },
    {
      "cell_type": "code",
      "execution_count": 100,
      "metadata": {},
      "outputs": [],
      "source": [
        "pd.merge(data.query(\"dataset=='monte' and mrate==0\").groupby(['lags','method'])['mse'].mean().reset_index(),\n",
        "         data.query(\"dataset=='monte' and mrate==0\").groupby(['lags','method'])['mse'].std().reset_index(),\n",
        "         on=['method','lags']).rename(columns={'mse_x':'mean','mse_y':'std'}).round(3)"
      ],
      "id": "d5834fb6-a434-487e-a1c0-edd543247a58"
    },
    {
      "cell_type": "markdown",
      "metadata": {},
      "source": [
        "## Random"
      ],
      "id": "6e31fc37-11bf-46b9-a274-829c3414d6f0"
    },
    {
      "cell_type": "code",
      "execution_count": 101,
      "metadata": {},
      "outputs": [],
      "source": [
        "pd.merge(data.query(\"dataset=='monte' and mtype=='rand'\").groupby(['mrate','lags','inter_method','method'])['mse'].mean().reset_index(),\n",
        "         data.query(\"dataset=='monte' and mtype=='rand'\").groupby(['mrate','lags','inter_method','method'])['mse'].std().reset_index(),\n",
        "         on=['mrate','inter_method','method','mrate','lags']).rename(columns={'mse_x':'mean','mse_y':'std'})"
      ],
      "id": "a5e21c98-8c80-43c1-b88b-b1b8fb5bb029"
    },
    {
      "cell_type": "markdown",
      "metadata": {},
      "source": [
        "## Block"
      ],
      "id": "5b32ccf2-6dc3-4471-aac9-d16f67d917c9"
    },
    {
      "cell_type": "code",
      "execution_count": 102,
      "metadata": {},
      "outputs": [],
      "source": [
        "pd.merge(data.query(\"dataset=='monte' and mtype=='block'\").groupby(['mrate','lags','inter_method','method'])['mse'].mean().reset_index(),\n",
        "         data.query(\"dataset=='monte' and mtype=='block'\").groupby(['mrate','lags','inter_method','method'])['mse'].std().reset_index(),\n",
        "         on=['method','mrate','inter_method','lags']).rename(columns={'mse_x':'mean','mse_y':'std'})"
      ],
      "id": "84f3d475-5b0c-454d-b74b-dd85d51dd1db"
    }
  ],
  "nbformat": 4,
  "nbformat_minor": 5,
  "metadata": {
    "kernelspec": {
      "name": "python3",
      "display_name": "Python 3",
      "language": "python"
    },
    "language_info": {
      "name": "python",
      "codemirror_mode": {
        "name": "ipython",
        "version": "3"
      },
      "file_extension": ".py",
      "mimetype": "text/x-python",
      "nbconvert_exporter": "python",
      "pygments_lexer": "ipython3",
      "version": "3.8.0"
    },
    "toc-autonumbering": false,
    "toc-showcode": false
  }
}
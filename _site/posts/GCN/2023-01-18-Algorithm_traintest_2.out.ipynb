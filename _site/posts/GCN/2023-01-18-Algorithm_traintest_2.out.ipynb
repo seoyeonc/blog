{
  "cells": [
    {
      "cell_type": "markdown",
      "metadata": {},
      "source": [
        "# 2nd ST-GCN Example dividing train and test\n",
        "\n",
        "SEOYEON CHOI  \n",
        "1/17/23\n",
        "\n",
        "> Try to divide train and test(ST-GCN WikiMathsDatasetLoader)\n",
        "\n",
        "# import"
      ],
      "id": "ff7f4386-d381-4bac-a30b-0a8da14c83bd"
    },
    {
      "cell_type": "code",
      "execution_count": 1,
      "metadata": {},
      "outputs": [],
      "source": [
        "import rpy2\n",
        "import rpy2.robjects as ro \n",
        "from rpy2.robjects.vectors import FloatVector \n",
        "from rpy2.robjects.packages import importr\n",
        "\n",
        "import torch\n",
        "import numpy as np\n",
        "from tqdm import tqdm\n",
        "\n",
        "import torch.nn.functional as F\n",
        "from torch_geometric_temporal.nn.recurrent import GConvGRU\n",
        "\n",
        "import matplotlib.pyplot as plt\n",
        "import pandas as pd\n",
        "\n",
        "import time\n",
        "\n",
        "from scipy.interpolate import interp1d"
      ],
      "id": "dc86fdf2-5b19-439b-ab50-a0984237322e"
    },
    {
      "cell_type": "code",
      "execution_count": 2,
      "metadata": {},
      "outputs": [],
      "source": [
        "class RecurrentGCN(torch.nn.Module):\n",
        "    def __init__(self, node_features, filters):\n",
        "        super(RecurrentGCN, self).__init__()\n",
        "        self.recurrent = GConvGRU(node_features, filters, 2)\n",
        "        self.linear = torch.nn.Linear(filters, 1)\n",
        "\n",
        "    def forward(self, x, edge_index, edge_weight):\n",
        "        h = self.recurrent(x, edge_index, edge_weight)\n",
        "        h = F.relu(h)\n",
        "        h = self.linear(h)\n",
        "        return h"
      ],
      "id": "bfb0d969-98c9-4915-923f-7ed7c6e873da"
    },
    {
      "cell_type": "markdown",
      "metadata": {},
      "source": [
        "# Data"
      ],
      "id": "fe911242-91b6-466f-9191-12cdd49eb0d4"
    },
    {
      "cell_type": "code",
      "execution_count": 110,
      "metadata": {},
      "outputs": [],
      "source": [
        "from torch_geometric_temporal.dataset import WikiMathsDatasetLoader\n",
        "from torch_geometric_temporal.signal import temporal_signal_split"
      ],
      "id": "ef64a770-1293-48e9-8961-9c411ead4976"
    },
    {
      "cell_type": "code",
      "execution_count": 111,
      "metadata": {},
      "outputs": [],
      "source": [
        "loader = WikiMathsDatasetLoader()"
      ],
      "id": "e527bece-2392-42a8-9f73-a8c25140537a"
    },
    {
      "cell_type": "code",
      "execution_count": 112,
      "metadata": {},
      "outputs": [],
      "source": [
        "dataset = loader.get_dataset(lags=1)"
      ],
      "id": "be368b81-6a1b-4099-b456-3542f73aa75d"
    },
    {
      "cell_type": "code",
      "execution_count": 113,
      "metadata": {},
      "outputs": [],
      "source": [
        "train_dataset, test_dataset = temporal_signal_split(dataset, train_ratio=0.8)"
      ],
      "id": "0ea17a21-c46a-4a70-ba29-d2891c407b34"
    },
    {
      "cell_type": "markdown",
      "metadata": {},
      "source": [
        "## Train"
      ],
      "id": "821e2d0c-3cb4-47e6-a70c-b85dccb1e3f2"
    },
    {
      "cell_type": "code",
      "execution_count": 114,
      "metadata": {},
      "outputs": [],
      "source": [
        "data_train=[]\n",
        "for time, snapshot in enumerate(train_dataset):\n",
        "    data_train.append([time,snapshot])"
      ],
      "id": "fe71f164-1e29-49c4-973e-f6797830a260"
    },
    {
      "cell_type": "code",
      "execution_count": 115,
      "metadata": {},
      "outputs": [],
      "source": [
        "data_train[0][1].x.shape,data_train[0][1].y.shape,data_train[0][1].edge_index.shape,data_train[0][1].edge_attr.shape"
      ],
      "id": "64419a68-950e-4135-8bc0-36b825f75985"
    },
    {
      "cell_type": "code",
      "execution_count": 116,
      "metadata": {},
      "outputs": [],
      "source": [
        "time"
      ],
      "id": "793f58b4-97d1-4da2-9a53-5c5b6da96f23"
    },
    {
      "cell_type": "code",
      "execution_count": 117,
      "metadata": {},
      "outputs": [],
      "source": [
        "T_train = time\n",
        "N = len(data[0][1].x)"
      ],
      "id": "09c31dd9-2c47-40bc-b51f-a02f32a7c8ed"
    },
    {
      "cell_type": "code",
      "execution_count": 118,
      "metadata": {},
      "outputs": [],
      "source": [
        "edge_index = data_train[0][1].edge_index\n",
        "edge_attr = data_train[0][1].edge_attr"
      ],
      "id": "f3a907bb-e648-4f18-bd3b-35340efb2f7f"
    },
    {
      "cell_type": "code",
      "execution_count": 119,
      "metadata": {},
      "outputs": [],
      "source": [
        "x_train = []\n",
        "for i in range(time):\n",
        "    x_train.append(data_train[i][1].x)"
      ],
      "id": "d8738e22-c691-4c69-9e99-640e97972334"
    },
    {
      "cell_type": "code",
      "execution_count": 120,
      "metadata": {},
      "outputs": [],
      "source": [
        "data_tensor = torch.Tensor()\n",
        "# Iterate over the data points of the dataset\n",
        "for i in x_train:\n",
        "    # Concatenate the data point to the tensor\n",
        "    data_tensor = torch.cat((data_tensor, i), dim=0)\n",
        "x_train = data_tensor.reshape(time,1068,-1)\n",
        "x_train.shape"
      ],
      "id": "df39e091-1985-48de-8b90-0be4d6ca3db8"
    },
    {
      "cell_type": "code",
      "execution_count": 121,
      "metadata": {},
      "outputs": [],
      "source": [
        "y_train = []\n",
        "for i in range(time):\n",
        "    y_train.append(data_train[i][1].y)"
      ],
      "id": "7021be2a-c3e6-4c3a-9fd7-f40f644d5fc4"
    },
    {
      "cell_type": "code",
      "execution_count": 122,
      "metadata": {},
      "outputs": [],
      "source": [
        "data_tensor = torch.Tensor()\n",
        "# Iterate over the data points of the dataset\n",
        "for i in y_train:\n",
        "    # Concatenate the data point to the tensor\n",
        "    data_tensor = torch.cat((data_tensor, i), dim=0)\n",
        "y_train = data_tensor.reshape(time,1068)\n",
        "y_train.shape"
      ],
      "id": "163e7b00-be79-4d93-8a5a-49959906b5e9"
    },
    {
      "cell_type": "code",
      "execution_count": 123,
      "metadata": {},
      "outputs": [],
      "source": [
        "x_train.shape, y_train.shape"
      ],
      "id": "426c64aa-f885-4425-9e96-93a63e964b86"
    },
    {
      "cell_type": "markdown",
      "metadata": {},
      "source": [
        "## Test"
      ],
      "id": "e7175a7e-3975-42af-b0e9-4afec703eb7a"
    },
    {
      "cell_type": "code",
      "execution_count": 124,
      "metadata": {},
      "outputs": [],
      "source": [
        "data_test=[]\n",
        "for time, snapshot in enumerate(test_dataset):\n",
        "    data_test.append([time,snapshot])"
      ],
      "id": "cb4afb0d-632b-472c-87e3-ec4e2165f4e9"
    },
    {
      "cell_type": "code",
      "execution_count": 125,
      "metadata": {},
      "outputs": [],
      "source": [
        "data_test[0][1].x.shape,data_test[0][1].y.shape,data_test[0][1].edge_index.shape,data_test[0][1].edge_attr.shape"
      ],
      "id": "b94cdfa7-881a-47df-b7ff-cf708c5701de"
    },
    {
      "cell_type": "code",
      "execution_count": 126,
      "metadata": {},
      "outputs": [],
      "source": [
        "time"
      ],
      "id": "0515e12b-f1e9-4829-9997-41d629e4acfa"
    },
    {
      "cell_type": "code",
      "execution_count": 127,
      "metadata": {},
      "outputs": [],
      "source": [
        "T_test = time"
      ],
      "id": "eef248a1-656f-4397-9ccb-c1fc84857beb"
    },
    {
      "cell_type": "code",
      "execution_count": 128,
      "metadata": {},
      "outputs": [],
      "source": [
        "x_test = []\n",
        "for i in range(time):\n",
        "    x_test.append(data_test[i][1].x)"
      ],
      "id": "6341d91c-ad20-44e0-ad49-cf5c1ea37c69"
    },
    {
      "cell_type": "code",
      "execution_count": 129,
      "metadata": {},
      "outputs": [],
      "source": [
        "data_tensor = torch.Tensor()\n",
        "# Iterate over the data points of the dataset\n",
        "for i in x_test:\n",
        "    # Concatenate the data point to the tensor\n",
        "    data_tensor = torch.cat((data_tensor, i), dim=0)\n",
        "x_test = data_tensor.reshape(time,1068,-1)\n",
        "x_test.shape"
      ],
      "id": "63c903cf-5a8e-4f3f-821a-05931040da18"
    },
    {
      "cell_type": "code",
      "execution_count": 130,
      "metadata": {},
      "outputs": [],
      "source": [
        "y_test = []\n",
        "for i in range(time):\n",
        "    y_test.append(data_test[i][1].y)"
      ],
      "id": "4d11d40f-0d9f-4197-885e-68eb2fcfc291"
    },
    {
      "cell_type": "code",
      "execution_count": 131,
      "metadata": {},
      "outputs": [],
      "source": [
        "data_tensor = torch.Tensor()\n",
        "# Iterate over the data points of the dataset\n",
        "for i in y_test:\n",
        "    # Concatenate the data point to the tensor\n",
        "    data_tensor = torch.cat((data_tensor, i), dim=0)\n",
        "y_test = data_tensor.reshape(time,1068)\n",
        "y_test.shape"
      ],
      "id": "faa7f947-c4eb-4ec2-898b-231c5164d6a4"
    },
    {
      "cell_type": "code",
      "execution_count": 132,
      "metadata": {},
      "outputs": [],
      "source": [
        "x_test.shape, y_test.shape"
      ],
      "id": "d45d7513-03c6-4f1d-b530-cf87facd2de4"
    },
    {
      "cell_type": "markdown",
      "metadata": {},
      "source": [
        "# Randomly Missing Values"
      ],
      "id": "05c4de5b-ab9a-48ef-980a-340521f0ac9c"
    },
    {
      "cell_type": "code",
      "execution_count": 189,
      "metadata": {},
      "outputs": [],
      "source": [
        "x_train = x_train.reshape(-1,N)"
      ],
      "id": "b9d2744d-9358-4b7b-b7f6-4f59c39d927e"
    },
    {
      "cell_type": "code",
      "execution_count": 190,
      "metadata": {},
      "outputs": [],
      "source": [
        "np.random.seed(90)\n",
        "seed_number = np.random.choice(len(x_train),290,replace=False)"
      ],
      "id": "877c375e-2269-4de7-a222-b4f53aaf7ed5"
    },
    {
      "cell_type": "code",
      "execution_count": 191,
      "metadata": {},
      "outputs": [],
      "source": [
        "x_train[seed_number] = float('nan')"
      ],
      "id": "3c3d9c99-dd63-4e20-af75-65efdb983d88"
    },
    {
      "cell_type": "markdown",
      "metadata": {},
      "source": [
        "# 1) Missing Value - Mean"
      ],
      "id": "3ee22a51-86a9-4c25-b6a8-cf55521683fb"
    },
    {
      "cell_type": "code",
      "execution_count": 136,
      "metadata": {},
      "outputs": [],
      "source": [
        "x_train_mean = x_train.clone()"
      ],
      "id": "0b51d25e-a933-4e66-b141-c72583c92b12"
    },
    {
      "cell_type": "code",
      "execution_count": 140,
      "metadata": {},
      "outputs": [],
      "source": [
        "df = pd.DataFrame(x_train_mean.tolist())\n",
        "mean_value = df.mean() # finds the mean value of the column A\n",
        "df = df.fillna(mean_value) # replace missing values with the mean value"
      ],
      "id": "b7e9083e-b3fd-4dd8-8b1e-5588ece2fe5d"
    },
    {
      "cell_type": "code",
      "execution_count": 143,
      "metadata": {},
      "outputs": [],
      "source": [
        "x_train_mean = torch.Tensor(df.values)"
      ],
      "id": "322f414c-a6f0-4632-b251-d0590f2993da"
    },
    {
      "cell_type": "markdown",
      "metadata": {},
      "source": [
        "## ST-GCN"
      ],
      "id": "3f70b7f5-09b3-44da-ab3c-edbe78574c66"
    },
    {
      "cell_type": "code",
      "execution_count": 146,
      "metadata": {},
      "outputs": [],
      "source": [
        "mean_f_train = x_train_mean.reshape(T_train,N,1).float()"
      ],
      "id": "b7db4200-3fc8-4c8f-bbf0-5c14b82baba6"
    },
    {
      "cell_type": "code",
      "execution_count": 169,
      "metadata": {},
      "outputs": [],
      "source": [
        "mean_X = mean_f_train[:438,:,:]\n",
        "mean_y = mean_f_train[145:,:,:]"
      ],
      "id": "bf44f7f4-a6b2-4ecb-a5dd-8633362c293b"
    },
    {
      "cell_type": "code",
      "execution_count": 170,
      "metadata": {},
      "outputs": [],
      "source": [
        "mean_X.shape,mean_y.shape"
      ],
      "id": "4bd2774a-da86-400c-90a8-625b5fc42416"
    },
    {
      "cell_type": "code",
      "execution_count": 153,
      "metadata": {},
      "outputs": [
        {
          "output_type": "stream",
          "name": "stderr",
          "text": [
            "100%|██████████| 50/50 [04:17<00:00,  5.15s/it]"
          ]
        }
      ],
      "source": [
        "model = RecurrentGCN(node_features=1, filters=4)\n",
        "\n",
        "optimizer = torch.optim.Adam(model.parameters(), lr=0.01)\n",
        "\n",
        "model.train()\n",
        "\n",
        "for epoch in tqdm(range(50)):\n",
        "    for time, (xt,yt) in enumerate(zip(mean_X,mean_y)):\n",
        "        y_hat = model(xt, edge_index, edge_attr)\n",
        "        cost = torch.mean((y_hat-yt)**2)\n",
        "        cost.backward()\n",
        "        optimizer.step()\n",
        "        optimizer.zero_grad()"
      ],
      "id": "ffb81105-d1b5-40b3-a6dc-07e508029391"
    },
    {
      "cell_type": "code",
      "execution_count": 210,
      "metadata": {},
      "outputs": [],
      "source": [
        "mean_X_fore = mean_f_train[438:,:]"
      ],
      "id": "50af8a54-b817-46c6-96db-d45d34427827"
    },
    {
      "cell_type": "code",
      "execution_count": 212,
      "metadata": {},
      "outputs": [],
      "source": [
        "mean_fhat = torch.stack([model(xt, edge_index, edge_attr) for xt in mean_X_fore]).detach().numpy()"
      ],
      "id": "fde8283b-1fd1-4b0c-858b-ef263eb79232"
    },
    {
      "cell_type": "code",
      "execution_count": 213,
      "metadata": {},
      "outputs": [],
      "source": [
        "mean_X_fore.shape,x_test.shape"
      ],
      "id": "ffdeedab-e089-4d79-b0fd-18de001374f4"
    },
    {
      "cell_type": "markdown",
      "metadata": {},
      "source": [
        "# 2) Missing Value - Linear Interpolation"
      ],
      "id": "faf5544f-d7fd-4e00-8b9e-d1b5b5b88f3a"
    },
    {
      "cell_type": "code",
      "execution_count": 192,
      "metadata": {},
      "outputs": [],
      "source": [
        "df = pd.DataFrame(x_train.tolist())\n",
        "df.interpolate(method='linear', inplace=True)\n",
        "df = df.fillna(0)"
      ],
      "id": "16e493cc-7cb5-4987-b89a-53e2b3c258ef"
    },
    {
      "cell_type": "code",
      "execution_count": 196,
      "metadata": {},
      "outputs": [],
      "source": [
        "x_train_linear = torch.Tensor(df.values).reshape(T_train,N,1)"
      ],
      "id": "3a6a65d6-a80c-4fe4-b75f-e933b3593df7"
    },
    {
      "cell_type": "markdown",
      "metadata": {},
      "source": [
        "## ST-GCN"
      ],
      "id": "35500ea0-53ed-47d3-8f0c-86b2479f329e"
    },
    {
      "cell_type": "code",
      "execution_count": 197,
      "metadata": {},
      "outputs": [],
      "source": [
        "linear_f_train = x_train_linear.clone()"
      ],
      "id": "e4916430-79ad-434a-8524-d5a30a094538"
    },
    {
      "cell_type": "code",
      "execution_count": 199,
      "metadata": {},
      "outputs": [],
      "source": [
        "linear_X = linear_f_train[:438,:,:]\n",
        "linear_y = linear_f_train[145:,:,:]"
      ],
      "id": "20a87a15-2dfa-4ec4-8b98-6e0607879589"
    },
    {
      "cell_type": "code",
      "execution_count": 200,
      "metadata": {},
      "outputs": [
        {
          "output_type": "stream",
          "name": "stderr",
          "text": [
            "100%|██████████| 50/50 [04:20<00:00,  5.22s/it]"
          ]
        }
      ],
      "source": [
        "model = RecurrentGCN(node_features=1, filters=4)\n",
        "\n",
        "optimizer = torch.optim.Adam(model.parameters(), lr=0.01)\n",
        "\n",
        "model.train()\n",
        "\n",
        "for epoch in tqdm(range(50)):\n",
        "    for time, (xt,yt) in enumerate(zip(linear_X,linear_y)):\n",
        "        y_hat = model(xt, edge_index, edge_attr)\n",
        "        cost = torch.mean((y_hat-yt)**2)\n",
        "        cost.backward()\n",
        "        optimizer.step()\n",
        "        optimizer.zero_grad()"
      ],
      "id": "b5188fcc-5c9c-4110-b6ca-ea29baae1a84"
    },
    {
      "cell_type": "code",
      "execution_count": 237,
      "metadata": {},
      "outputs": [],
      "source": [
        "linear_X_fore = linear_f_train[438:,:]"
      ],
      "id": "24ab88ad-ccff-4c7c-8881-98a41b77e227"
    },
    {
      "cell_type": "code",
      "execution_count": 238,
      "metadata": {},
      "outputs": [],
      "source": [
        "linear_X_fore.shape"
      ],
      "id": "db7c9c0a-5574-4a28-b60f-5b7ebf7cf723"
    },
    {
      "cell_type": "code",
      "execution_count": 239,
      "metadata": {},
      "outputs": [],
      "source": [
        "linear_fhat = torch.stack([model(xt, edge_index, edge_attr) for xt in linear_X_fore]).detach().numpy()"
      ],
      "id": "a6b4aa40-02b4-497e-8a01-cfad416da8c9"
    },
    {
      "cell_type": "code",
      "execution_count": 240,
      "metadata": {},
      "outputs": [],
      "source": [
        "linear_X_fore.shape,x_test.shape"
      ],
      "id": "8924d4f7-2623-4c17-9521-92349e4a5631"
    },
    {
      "cell_type": "markdown",
      "metadata": {},
      "source": [
        "# Comparison\n",
        "\n",
        "MSE"
      ],
      "id": "22f613b2-c386-4cb5-8238-9900a4decc81"
    },
    {
      "cell_type": "code",
      "execution_count": 235,
      "metadata": {},
      "outputs": [],
      "source": [
        "((pd.DataFrame(mean_fhat.reshape(T_test,N)) -  pd.DataFrame(x_test.reshape(T_test,N)))**2).mean()"
      ],
      "id": "b623c106-f88e-4782-93b3-3960b93a8996"
    },
    {
      "cell_type": "code",
      "execution_count": 241,
      "metadata": {},
      "outputs": [],
      "source": [
        "((pd.DataFrame(linear_fhat.reshape(T_test,N)) -  pd.DataFrame(x_test.reshape(T_test,N)))**2).mean()"
      ],
      "id": "b63b3e16-a1e1-4265-a941-1f7877e1236c"
    }
  ],
  "nbformat": 4,
  "nbformat_minor": 5,
  "metadata": {
    "kernelspec": {
      "name": "python3",
      "display_name": "Python 3 (ipykernel)",
      "language": "python"
    },
    "language_info": {
      "name": "python",
      "codemirror_mode": {
        "name": "ipython",
        "version": "3"
      },
      "file_extension": ".py",
      "mimetype": "text/x-python",
      "nbconvert_exporter": "python",
      "pygments_lexer": "ipython3",
      "version": "3.8.12"
    }
  }
}
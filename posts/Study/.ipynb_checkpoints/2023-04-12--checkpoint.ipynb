{
 "cells": [
  {
   "cell_type": "raw",
   "id": "4ca8471e-62a4-4d37-80f4-0eb348f146ee",
   "metadata": {
    "id": "cac470df-29e7-4148-9bbd-d8b9a32fa570",
    "tags": []
   },
   "source": [
    "---\n",
    "title: \"Self-onsistent estimator\"\n",
    "author: \"SEOYEON CHOI\"\n",
    "date: \"2023-04-10\"\n",
    "categories:\n",
    "  - ITSTGCN\n",
    "---"
   ]
  },
  {
   "cell_type": "markdown",
   "id": "f8b8217f-ee81-49bd-b3d4-173133d38fe1",
   "metadata": {},
   "source": [
    "> Existing Method Review"
   ]
  },
  {
   "cell_type": "markdown",
   "id": "83dbeca1-817e-4cd8-bbf5-696d1dfd71a8",
   "metadata": {},
   "source": [
    "[Lebesgue's decomposition theorem](https://en.wikipedia.org/wiki/Lebesgue%27s_decomposition_theorem)"
   ]
  },
  {
   "cell_type": "markdown",
   "id": "5e756ded-7300-48cf-a990-e45cd8ad1894",
   "metadata": {},
   "source": [
    "In this section, we propose a procedure using STGCN by coupling a concept of self-consistency (Tarpey and Flury, 1996; Lee and Meng, 2005) and a thresholding of periodogram by Emperical beyes Thresholding. First, we consider the\n",
    "self-consistency principle for estimating(or forecasting) when facing missing data. Tarpey and Flury (1996) introduced the self-consistency as a fundamental concept in statistics, which is inspired by Hastie and Stuetzle (1989) for developing principal curves. Further, Lee and Meng (2007) considered a self-consistent regression estimator with incomplete data. They proposed an estimate $\\hat{f}$ of the underlying obs function $f$ given observed data $x_{obs}$ that is the solution of the following self-consistent equation\n",
    "\n",
    "$$E(\\hat{f}_{com} | x_{obs}, f = \\hat{f}_{obs}) = \\hat{f}_{obs}$$\n",
    "\n",
    "where $\\hat{f}$ denotes an estimate of $f$ based on the hypothetical complete data $x_{com} = (x_{obs},x_{mis})$ and $x_{mis}$ is missing data, and $E(·)$ denotes the expectation operator. We note that $x_{mis}$ is not available in practice. Moreover, Lee and Meng (2007) suggested that the above equation provides a way to obtain a “best” incomplete-data estimator $\\hat{f}$ by simply using the corresponding obs complete-data procedure that computes $\\hat{f}$. By considering that the above equation does not depend on the method for estimation, it can be applicable for STGCN procedure with missing data.  In practice, the missing values $\\{ f(n) : n \\in M \\}$ are not available, and thus, given imputed values $\\{ \\tilde{f}(n) : n \\in M \\}$, we obtain an estimated complete dataset $\\{ \\hat{f}(n)\\} = \\{ f(n) : n \\in O \\} \\cup \\{ \\tilde{f}(n) : n \\in M \\}$.\n",
    "\n",
    "A simple and fasr way to implement that may be an interactive algorithm with updating $\\{ \\tilde{f}^{(l)} (n) : n \\in M \\}$ by STGCN."
   ]
  },
  {
   "cell_type": "code",
   "execution_count": null,
   "id": "c4060a46-28c0-4d75-b0c2-8290a7d1b2f9",
   "metadata": {},
   "outputs": [],
   "source": []
  }
 ],
 "metadata": {
  "kernelspec": {
   "display_name": "Python 3 (ipykernel)",
   "language": "python",
   "name": "python3"
  },
  "language_info": {
   "codemirror_mode": {
    "name": "ipython",
    "version": 3
   },
   "file_extension": ".py",
   "mimetype": "text/x-python",
   "name": "python",
   "nbconvert_exporter": "python",
   "pygments_lexer": "ipython3",
   "version": "3.8.12"
  }
 },
 "nbformat": 4,
 "nbformat_minor": 5
}

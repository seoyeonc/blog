{
  "cells": [
    {
      "cell_type": "markdown",
      "metadata": {},
      "source": [
        "# SimualtionPlanner-Tutorial\n",
        "\n",
        "SEOYEON CHOI  \n",
        "3/18/23\n",
        "\n",
        "> table\n",
        "\n",
        "# BLOCK\n",
        "\n",
        "# List\n",
        "\n",
        "1.  \n",
        "\n",
        "-   max_iter=30/linear/epoch=50\\~200/STGCN,IT-STGCN\n",
        "\n",
        "1.  \n",
        "\n",
        "-   missing 만드는 법(block 생각)\n",
        "\n",
        "1.  \n",
        "\n",
        "-   \n",
        "\n",
        "4.반복의미 없음, 고정된 값 출력되어서\n",
        "\n",
        "-   \n",
        "\n",
        "할 거\n",
        "\n",
        "-   missing 0일 때 STGCN/GNAR 비교(CHECK)\n",
        "-   baseline 제시될만한 데이터셋 뭘까.\n",
        "-   GNAR warning 안 나오는 법 찾아보기\n",
        "-   mindex가 중요ㅡ mtype은 기록용으로만 사용됨\n",
        "\n",
        "`_df = pd.concat([_a,,_b,_c],axis=0)`\n",
        "\n",
        "`save_data(_df, './data/Pedal_estgcn_randomly_by_rate.pkl')`\n",
        "\n",
        "# imports\n",
        "\n",
        "https://pytorch-geometric-temporal.readthedocs.io/en/latest/\\_modules/index.html"
      ],
      "id": "40f27cd9-c0f4-4b32-946a-c96af122f2cb"
    },
    {
      "cell_type": "code",
      "execution_count": null,
      "metadata": {},
      "outputs": [],
      "source": [
        "import itstgcnGCLSTM\n",
        "import torch\n",
        "import itstgcnGCLSTM.planner "
      ],
      "id": "cbf0bbf5-f861-4182-bc32-42bb131bc23f"
    },
    {
      "cell_type": "code",
      "execution_count": null,
      "metadata": {},
      "outputs": [],
      "source": [
        "from torch_geometric_temporal.dataset import ChickenpoxDatasetLoader\n",
        "loader1 = ChickenpoxDatasetLoader()"
      ],
      "id": "374b5216-5cc4-4634-a939-3141923a8c7a"
    },
    {
      "cell_type": "code",
      "execution_count": null,
      "metadata": {},
      "outputs": [],
      "source": [
        "from torch_geometric_temporal.dataset import PedalMeDatasetLoader\n",
        "loader2 = PedalMeDatasetLoader()"
      ],
      "id": "40f2eaf5-5408-47da-9ca4-70d502a04c89"
    },
    {
      "cell_type": "code",
      "execution_count": null,
      "metadata": {},
      "outputs": [],
      "source": [
        "from torch_geometric_temporal.dataset import WikiMathsDatasetLoader\n",
        "loader3 = WikiMathsDatasetLoader()"
      ],
      "id": "0d3c0962-9b20-4755-9b12-2dce33b68544"
    },
    {
      "cell_type": "code",
      "execution_count": null,
      "metadata": {},
      "outputs": [],
      "source": [
        "from torch_geometric_temporal.dataset import WindmillOutputLargeDatasetLoader\n",
        "loader4 = WindmillOutputLargeDatasetLoader()"
      ],
      "id": "9fd54c19-85ec-4d0c-a3fd-02f3fb8d021e"
    },
    {
      "cell_type": "code",
      "execution_count": null,
      "metadata": {},
      "outputs": [],
      "source": [
        "from torch_geometric_temporal.dataset import WindmillOutputMediumDatasetLoader\n",
        "loader5 = WindmillOutputMediumDatasetLoader()"
      ],
      "id": "e3ad8f7f-f33a-461c-93d5-d8d6fcbeb118"
    },
    {
      "cell_type": "code",
      "execution_count": null,
      "metadata": {},
      "outputs": [],
      "source": [
        "from torch_geometric_temporal.dataset import WindmillOutputSmallDatasetLoader\n",
        "loader6 = WindmillOutputSmallDatasetLoader()"
      ],
      "id": "01ae3e36-1ec6-484d-8eb1-704126303761"
    },
    {
      "cell_type": "code",
      "execution_count": 2,
      "metadata": {},
      "outputs": [],
      "source": [
        "loader6 = itstgcnGCLSTM.load_data('./data/Windmillsmall.pkl')"
      ],
      "id": "f9460ddf-fe2b-430e-ab0e-be92bcd072e2"
    },
    {
      "cell_type": "code",
      "execution_count": null,
      "metadata": {},
      "outputs": [],
      "source": [
        "# dataset6 = _a.get_dataset(lags=8)"
      ],
      "id": "5eeb6d48-07a3-4fba-9926-ab469b660218"
    },
    {
      "cell_type": "code",
      "execution_count": null,
      "metadata": {},
      "outputs": [],
      "source": [
        "from torch_geometric_temporal.dataset import MontevideoBusDatasetLoader\n",
        "loader10 = MontevideoBusDatasetLoader()"
      ],
      "id": "5bcfb61a-27b5-4146-8c0e-b34447cbd054"
    },
    {
      "cell_type": "code",
      "execution_count": null,
      "metadata": {},
      "outputs": [],
      "source": [
        "import numpy as np"
      ],
      "id": "0eab6027-8392-4dc5-9b18-194656769e64"
    },
    {
      "cell_type": "code",
      "execution_count": null,
      "metadata": {},
      "outputs": [],
      "source": [
        "import pandas as pd"
      ],
      "id": "07c68680-417b-46fe-8fe2-287ee0c703cf"
    },
    {
      "cell_type": "markdown",
      "metadata": {},
      "source": [
        "# read data"
      ],
      "id": "b7ca2ca6-ea5d-4e30-a0c6-2dfb216d9130"
    },
    {
      "cell_type": "code",
      "execution_count": null,
      "metadata": {},
      "outputs": [],
      "source": [
        "# _data = itstgcn.load_data('./data/fivenodes.pkl')\n",
        "# _edges = torch.tensor(_data['edges']).nonzero().tolist()\n",
        "# _FX = _data['f'].tolist()\n",
        "# _node_ids = {'node1':0, 'node2':1, 'node3':2, 'node4':3, 'node5':4} \n",
        "# data_dict = {'edges':_edges, 'node_ids':_node_ids, 'FX':_FX}\n",
        "data_dict = itstgcn.load_data('./data/fivenodes.pkl')\n",
        "loader = itstgcn.DatasetLoader(data_dict)"
      ],
      "id": "deec2e73-17ad-4842-a687-37bb615cbdf4"
    },
    {
      "cell_type": "markdown",
      "metadata": {},
      "source": [
        "## PLNR_STGCN_RAND"
      ],
      "id": "9d3fdf33-3489-4690-ba8b-6fed353b3a8c"
    },
    {
      "cell_type": "code",
      "execution_count": null,
      "metadata": {},
      "outputs": [],
      "source": [
        "plans_stgcn_rand = {\n",
        "    'max_iteration': 30, \n",
        "    'method': ['STGCN', 'IT-STGCN'],\n",
        "    'mrate': [0,0.7,0.8],\n",
        "    'lags': [2], \n",
        "    'nof_filters': [12], \n",
        "    'inter_method': ['linear','nearest'],\n",
        "    'epoch': [50]\n",
        "}"
      ],
      "id": "2957d600-dabd-4c8e-843d-5ae0be1052b8"
    },
    {
      "cell_type": "code",
      "execution_count": null,
      "metadata": {},
      "outputs": [],
      "source": [
        "plnr = itstgcn.planner.PLNR_STGCN_RAND(plans_stgcn_rand,loader1,dataset_name='fivenodes')\n",
        "plnr.simulate()"
      ],
      "id": "7cd02c1a-9cea-447f-88b8-de2a6bf26d1d"
    },
    {
      "cell_type": "code",
      "execution_count": null,
      "metadata": {},
      "outputs": [],
      "source": [
        "plans_stgcn_rand = {\n",
        "    'max_iteration': 30, \n",
        "    'method': ['STGCN', 'IT-STGCN'],\n",
        "    'mrate': [0.3,0.8],\n",
        "    'lags': [4], \n",
        "    'nof_filters': [16], \n",
        "    'inter_method': ['linear'],\n",
        "    'epoch': [50]\n",
        "}"
      ],
      "id": "c7cfa0df-cc25-4d7c-8376-c51dedd84b59"
    },
    {
      "cell_type": "code",
      "execution_count": null,
      "metadata": {},
      "outputs": [],
      "source": [
        "plnr = itstgcn.planner.PLNR_STGCN_RAND(plans_stgcn_rand,loader1,dataset_name='chickenpox')\n",
        "plnr.simulate()"
      ],
      "id": "bdf9c68f-b7fe-4c7f-93b4-95ffa479d629"
    },
    {
      "cell_type": "code",
      "execution_count": null,
      "metadata": {},
      "outputs": [],
      "source": [
        "plans_stgcn_rand = {\n",
        "    'max_iteration': 30, \n",
        "    'method': ['STGCN', 'IT-STGCN'],\n",
        "    'mrate': [0],\n",
        "    'lags': [4], \n",
        "    'nof_filters': [16], \n",
        "    'inter_method': ['linear'],\n",
        "    'epoch': [50]\n",
        "}"
      ],
      "id": "c0940e31-ba0f-49fb-9cb7-c6f55ce63aa0"
    },
    {
      "cell_type": "code",
      "execution_count": null,
      "metadata": {},
      "outputs": [],
      "source": [
        "plnr = itstgcn.planner.PLNR_STGCN_RAND(plans_stgcn_rand,loader1,dataset_name='chickenpox')\n",
        "plnr.simulate()"
      ],
      "id": "cd333f77-e7db-4ee9-ba03-6358623a5318"
    },
    {
      "cell_type": "code",
      "execution_count": null,
      "metadata": {},
      "outputs": [],
      "source": [
        "plans_stgcn_rand = {\n",
        "    'max_iteration': 1, \n",
        "    'method': ['STGCN', 'IT-STGCN'], \n",
        "    'mrate': [0],\n",
        "    'lags': [8], \n",
        "    'nof_filters': [12], \n",
        "    'inter_method': ['linear'],\n",
        "    'epoch': [50]\n",
        "}"
      ],
      "id": "9f8f9c19-94d5-4c32-b4f5-524135ce749d"
    },
    {
      "cell_type": "code",
      "execution_count": null,
      "metadata": {},
      "outputs": [],
      "source": [
        "plnr = itstgcn.planner.PLNR_STGCN_RAND(plans_stgcn_rand,loader6,dataset_name='windmillsmall')\n",
        "plnr.simulate()"
      ],
      "id": "6ecc7cce-5207-489d-9b36-a161b8adae71"
    },
    {
      "cell_type": "code",
      "execution_count": null,
      "metadata": {},
      "outputs": [],
      "source": [
        "plans_stgcn_rand = {\n",
        "    'max_iteration': 10, \n",
        "    'method': ['STGCN', 'IT-STGCN'], \n",
        "    'mrate': [0.3],\n",
        "    'lags': [2, 4], \n",
        "    'nof_filters': [12], \n",
        "    'inter_method': ['linear'],\n",
        "    'epoch': [50]\n",
        "}"
      ],
      "id": "aa77f2a2-6157-4b99-9f1d-7a9671439fe5"
    },
    {
      "cell_type": "code",
      "execution_count": null,
      "metadata": {},
      "outputs": [],
      "source": [
        "plnr = itstgcnadd.planner.PLNR_STGCN_RAND(plans_stgcn_rand,loader3,dataset_name='wikimath')"
      ],
      "id": "de007ca8-268d-44b9-986f-eef87e485186"
    },
    {
      "cell_type": "code",
      "execution_count": null,
      "metadata": {},
      "outputs": [],
      "source": [
        "plnr.simulate()"
      ],
      "id": "1526ffbd-1315-4b2c-a471-1734706a0507"
    },
    {
      "cell_type": "code",
      "execution_count": null,
      "metadata": {},
      "outputs": [],
      "source": [
        "plans_stgcn_rand = {\n",
        "    'max_iteration': 1, \n",
        "    'method': ['STGCN', 'IT-STGCN'], \n",
        "    'RecurrentGCN' : ['DCRNN'],\n",
        "    'mrate': [0],\n",
        "    'lags': [8], \n",
        "    'nof_filters': [12], \n",
        "    'inter_method': ['linear'],\n",
        "    'epoch': [50]\n",
        "}"
      ],
      "id": "b283901c-7ce5-4c87-8160-a06643c3ba6e"
    },
    {
      "cell_type": "code",
      "execution_count": null,
      "metadata": {},
      "outputs": [],
      "source": [
        "plnr = itstgcnadd.planner.PLNR_STGCN_RAND(plans_stgcn_rand,loader6,dataset_name='windmillsmall')\n",
        "plnr.simulate()"
      ],
      "id": "a9e247cd-78ea-496b-9378-00c7bfda7d75"
    },
    {
      "cell_type": "code",
      "execution_count": 3,
      "metadata": {},
      "outputs": [],
      "source": [
        "my_list = [[] for _ in range(11)] #windmilsmall\n",
        "another_list = list(range(5000,7500)) # 17470*0.8 = 13976.0\n",
        "my_list[1] = another_list\n",
        "my_list[3] = another_list\n",
        "my_list[5] = another_list\n",
        "my_list[7] = another_list\n",
        "my_list[9] = another_list\n",
        "mindex = my_list"
      ],
      "id": "53549c6c-0228-4d36-a3dd-6256ce0137c9"
    },
    {
      "cell_type": "code",
      "execution_count": 4,
      "metadata": {},
      "outputs": [],
      "source": [
        "# mindex= [[],[],[],list(range(50,150)),[]]  # node 1\n",
        "# mindex= [list(range(10,100)),[],list(range(50,80)),[],[]] # node 2\n",
        "# mindex= [list(range(10,100)),[],list(range(50,80)),list(range(50,150)),[]] # node3\n",
        "plans_stgcn_block = {\n",
        "    'max_iteration': 1, \n",
        "    'method': ['STGCN', 'IT-STGCN'], \n",
        "    'mindex': [mindex],\n",
        "    'lags': [8], \n",
        "    'nof_filters': [16], \n",
        "    'inter_method': ['linear'],\n",
        "    'epoch': [50]\n",
        "}"
      ],
      "id": "723ae483-c9e3-4902-843e-8ddde0580b11"
    },
    {
      "cell_type": "code",
      "execution_count": null,
      "metadata": {},
      "outputs": [
        {
          "output_type": "stream",
          "name": "stderr",
          "text": [
            "/home/csy/Dropbox/blog/posts/GCN/itstgcnGCLSTM/utils.py:71: UserWarning: Creating a tensor from a list of numpy.ndarrays is extremely slow. Please consider converting the list to a single numpy.ndarray with numpy.array() before converting to a tensor. (Triggered internally at /opt/conda/conda-bld/pytorch_1682343998658/work/torch/csrc/utils/tensor_new.cpp:245.)\n",
            "  lags = torch.tensor(train_dataset.features).shape[-1]"
          ]
        }
      ],
      "source": [
        "plnr = itstgcnGCLSTM.planner.PLNR_STGCN_MANUAL(plans_stgcn_block,loader6,dataset_name='windmillsmall')\n",
        "plnr.simulate(mindex=mindex,mtype='block')"
      ],
      "id": "810d7e3e-4e4c-4670-9ae3-73b99523b2f2"
    },
    {
      "cell_type": "code",
      "execution_count": null,
      "metadata": {},
      "outputs": [],
      "source": [
        "plnr = itstgcnGCLSTM.planner.PLNR_STGCN_MANUAL(plans_stgcn_block,loader6,dataset_name='windmillsmall')\n",
        "plnr.simulate(mindex=mindex,mtype='block')"
      ],
      "id": "2e5c1021-3bdb-4dc7-becb-f3425f648f29"
    },
    {
      "cell_type": "code",
      "execution_count": null,
      "metadata": {},
      "outputs": [],
      "source": [
        "plnr = itstgcnGCLSTM.planner.PLNR_STGCN_MANUAL(plans_stgcn_block,loader6,dataset_name='windmillsmall')\n",
        "plnr.simulate(mindex=mindex,mtype='block')"
      ],
      "id": "3f07cd32-e7db-477b-a4ea-6bccefdb7785"
    },
    {
      "cell_type": "code",
      "execution_count": null,
      "metadata": {},
      "outputs": [],
      "source": [
        "plnr = itstgcnGCLSTM.planner.PLNR_STGCN_MANUAL(plans_stgcn_block,loader6,dataset_name='windmillsmall')\n",
        "plnr.simulate(mindex=mindex,mtype='block')"
      ],
      "id": "6f936ce6-aca2-4e90-88bd-298f327ab203"
    },
    {
      "cell_type": "code",
      "execution_count": null,
      "metadata": {},
      "outputs": [],
      "source": [
        "plnr = itstgcnGCLSTM.planner.PLNR_STGCN_MANUAL(plans_stgcn_block,loader6,dataset_name='windmillsmall')\n",
        "plnr.simulate(mindex=mindex,mtype='block')"
      ],
      "id": "322ca862-56a4-46c5-876a-14b7bf5aae93"
    },
    {
      "cell_type": "code",
      "execution_count": null,
      "metadata": {},
      "outputs": [],
      "source": [
        "plnr = itstgcnGCLSTM.planner.PLNR_STGCN_MANUAL(plans_stgcn_block,loader6,dataset_name='windmillsmall')\n",
        "plnr.simulate(mindex=mindex,mtype='block')"
      ],
      "id": "413788bc-cc17-45ba-a8f6-f6a27fb38ac0"
    },
    {
      "cell_type": "code",
      "execution_count": null,
      "metadata": {},
      "outputs": [],
      "source": [
        "plnr = itstgcnGCLSTM.planner.PLNR_STGCN_MANUAL(plans_stgcn_block,loader6,dataset_name='windmillsmall')\n",
        "plnr.simulate(mindex=mindex,mtype='block')"
      ],
      "id": "e3e79d45-8289-4f2e-8159-b5f8c9127076"
    },
    {
      "cell_type": "code",
      "execution_count": null,
      "metadata": {},
      "outputs": [],
      "source": [
        "plnr = itstgcnGCLSTM.planner.PLNR_STGCN_MANUAL(plans_stgcn_block,loader6,dataset_name='windmillsmall')\n",
        "plnr.simulate(mindex=mindex,mtype='block')"
      ],
      "id": "691e6aed-32c0-4440-99c4-5bbdc822c37b"
    },
    {
      "cell_type": "code",
      "execution_count": null,
      "metadata": {},
      "outputs": [],
      "source": [
        "plnr = itstgcnGCLSTM.planner.PLNR_STGCN_MANUAL(plans_stgcn_block,loader6,dataset_name='windmillsmall')\n",
        "plnr.simulate(mindex=mindex,mtype='block')"
      ],
      "id": "cac48b9f-4a08-416a-9072-d3605f0b7b78"
    },
    {
      "cell_type": "code",
      "execution_count": null,
      "metadata": {},
      "outputs": [],
      "source": [
        "plnr = itstgcnGCLSTM.planner.PLNR_STGCN_MANUAL(plans_stgcn_block,loader6,dataset_name='windmillsmall')\n",
        "plnr.simulate(mindex=mindex,mtype='block')"
      ],
      "id": "0c851bab-7ab0-4ad6-8a42-eebab1bdc44e"
    },
    {
      "cell_type": "code",
      "execution_count": null,
      "metadata": {},
      "outputs": [],
      "source": [
        "plnr = itstgcnGCLSTM.planner.PLNR_STGCN_MANUAL(plans_stgcn_block,loader6,dataset_name='windmillsmall')\n",
        "plnr.simulate(mindex=mindex,mtype='block')"
      ],
      "id": "350b547d-5d21-42b5-88a7-17135ef18e62"
    },
    {
      "cell_type": "code",
      "execution_count": null,
      "metadata": {},
      "outputs": [],
      "source": [
        "plnr = itstgcnGCLSTM.planner.PLNR_STGCN_MANUAL(plans_stgcn_block,loader6,dataset_name='windmillsmall')\n",
        "plnr.simulate(mindex=mindex,mtype='block')"
      ],
      "id": "48127f84-7f81-4b4a-87b9-5e5b40bf5385"
    },
    {
      "cell_type": "code",
      "execution_count": null,
      "metadata": {},
      "outputs": [],
      "source": [
        "plnr = itstgcnGCLSTM.planner.PLNR_STGCN_MANUAL(plans_stgcn_block,loader6,dataset_name='windmillsmall')\n",
        "plnr.simulate(mindex=mindex,mtype='block')"
      ],
      "id": "379b5de4-c661-4d4a-b898-b14e8c764a55"
    },
    {
      "cell_type": "code",
      "execution_count": null,
      "metadata": {},
      "outputs": [],
      "source": [
        "plnr = itstgcnGCLSTM.planner.PLNR_STGCN_MANUAL(plans_stgcn_block,loader6,dataset_name='windmillsmall')\n",
        "plnr.simulate(mindex=mindex,mtype='block')"
      ],
      "id": "7d301b76-165c-4c26-8e8b-7f9724ea1913"
    },
    {
      "cell_type": "code",
      "execution_count": null,
      "metadata": {},
      "outputs": [],
      "source": [
        "plnr = itstgcnGCLSTM.planner.PLNR_STGCN_MANUAL(plans_stgcn_block,loader6,dataset_name='windmillsmall')\n",
        "plnr.simulate(mindex=mindex,mtype='block')"
      ],
      "id": "9c8fe919-d71e-476b-b7a9-df0d4b275c48"
    },
    {
      "cell_type": "code",
      "execution_count": null,
      "metadata": {},
      "outputs": [],
      "source": [
        "plnr = itstgcnGCLSTM.planner.PLNR_STGCN_MANUAL(plans_stgcn_block,loader6,dataset_name='windmillsmall')\n",
        "plnr.simulate(mindex=mindex,mtype='block')"
      ],
      "id": "42d4e48c-e022-425d-ad1d-63d38d3c44b5"
    },
    {
      "cell_type": "code",
      "execution_count": null,
      "metadata": {},
      "outputs": [],
      "source": [
        "plnr = itstgcnGCLSTM.planner.PLNR_STGCN_MANUAL(plans_stgcn_block,loader6,dataset_name='windmillsmall')\n",
        "plnr.simulate(mindex=mindex,mtype='block')"
      ],
      "id": "61db516b-3b1a-4852-97a9-2428cfaa2271"
    },
    {
      "cell_type": "code",
      "execution_count": null,
      "metadata": {},
      "outputs": [],
      "source": [
        "plnr = itstgcnGCLSTM.planner.PLNR_STGCN_MANUAL(plans_stgcn_block,loader6,dataset_name='windmillsmall')\n",
        "plnr.simulate(mindex=mindex,mtype='block')"
      ],
      "id": "739f183e-38ae-450c-875c-965326175c1a"
    },
    {
      "cell_type": "code",
      "execution_count": null,
      "metadata": {},
      "outputs": [],
      "source": [
        "plnr = itstgcnGCLSTM.planner.PLNR_STGCN_MANUAL(plans_stgcn_block,loader6,dataset_name='windmillsmall')\n",
        "plnr.simulate(mindex=mindex,mtype='block')"
      ],
      "id": "4b0a9e5a-56d3-436c-a757-f81377b73d02"
    },
    {
      "cell_type": "code",
      "execution_count": null,
      "metadata": {},
      "outputs": [],
      "source": [
        "plnr = itstgcnGCLSTM.planner.PLNR_STGCN_MANUAL(plans_stgcn_block,loader6,dataset_name='windmillsmall')\n",
        "plnr.simulate(mindex=mindex,mtype='block')"
      ],
      "id": "35aad184-ae6d-4906-8a18-cf0b2811fb4a"
    },
    {
      "cell_type": "code",
      "execution_count": null,
      "metadata": {},
      "outputs": [],
      "source": [
        "plnr = itstgcnGCLSTM.planner.PLNR_STGCN_MANUAL(plans_stgcn_block,loader6,dataset_name='windmillsmall')\n",
        "plnr.simulate(mindex=mindex,mtype='block')"
      ],
      "id": "49159351-bba7-4e76-b418-2ad401963b40"
    },
    {
      "cell_type": "code",
      "execution_count": null,
      "metadata": {},
      "outputs": [],
      "source": [
        "plnr = itstgcnGCLSTM.planner.PLNR_STGCN_MANUAL(plans_stgcn_block,loader6,dataset_name='windmillsmall')\n",
        "plnr.simulate(mindex=mindex,mtype='block')"
      ],
      "id": "d0bf4010-abb1-4caa-89ef-1fa34d2ff632"
    },
    {
      "cell_type": "code",
      "execution_count": null,
      "metadata": {},
      "outputs": [],
      "source": [
        "plnr = itstgcnGCLSTM.planner.PLNR_STGCN_MANUAL(plans_stgcn_block,loader6,dataset_name='windmillsmall')\n",
        "plnr.simulate(mindex=mindex,mtype='block')"
      ],
      "id": "7b6bc6da-7468-43c1-b3d7-e9f23eefad9b"
    },
    {
      "cell_type": "code",
      "execution_count": null,
      "metadata": {},
      "outputs": [],
      "source": [
        "plnr = itstgcnGCLSTM.planner.PLNR_STGCN_MANUAL(plans_stgcn_block,loader6,dataset_name='windmillsmall')\n",
        "plnr.simulate(mindex=mindex,mtype='block')"
      ],
      "id": "9a5cfa78-cb36-407f-ab9e-1cff1172f82e"
    },
    {
      "cell_type": "code",
      "execution_count": null,
      "metadata": {},
      "outputs": [],
      "source": [
        "plnr = itstgcnGCLSTM.planner.PLNR_STGCN_MANUAL(plans_stgcn_block,loader6,dataset_name='windmillsmall')\n",
        "plnr.simulate(mindex=mindex,mtype='block')"
      ],
      "id": "cba1cd13-36e9-4246-b09f-61323a83e9bb"
    },
    {
      "cell_type": "code",
      "execution_count": null,
      "metadata": {},
      "outputs": [],
      "source": [
        "plnr = itstgcnGCLSTM.planner.PLNR_STGCN_MANUAL(plans_stgcn_block,loader6,dataset_name='windmillsmall')\n",
        "plnr.simulate(mindex=mindex,mtype='block')"
      ],
      "id": "1885d089-a40e-4009-a86a-bb25a3722fc1"
    },
    {
      "cell_type": "code",
      "execution_count": null,
      "metadata": {},
      "outputs": [],
      "source": [
        "plnr = itstgcnGCLSTM.planner.PLNR_STGCN_MANUAL(plans_stgcn_block,loader6,dataset_name='windmillsmall')\n",
        "plnr.simulate(mindex=mindex,mtype='block')"
      ],
      "id": "83e5877c-9a00-4464-9a4e-fbccecd8aae4"
    },
    {
      "cell_type": "code",
      "execution_count": null,
      "metadata": {},
      "outputs": [],
      "source": [
        "plnr = itstgcnGCLSTM.planner.PLNR_STGCN_MANUAL(plans_stgcn_block,loader6,dataset_name='windmillsmall')\n",
        "plnr.simulate(mindex=mindex,mtype='block')"
      ],
      "id": "733dead1-eb00-49b0-8334-84685a8bf1e9"
    },
    {
      "cell_type": "code",
      "execution_count": null,
      "metadata": {},
      "outputs": [],
      "source": [
        "plnr = itstgcnGCLSTM.planner.PLNR_STGCN_MANUAL(plans_stgcn_block,loader6,dataset_name='windmillsmall')\n",
        "plnr.simulate(mindex=mindex,mtype='block')"
      ],
      "id": "ff41e4a7-c48a-4351-822a-de6890ee068e"
    },
    {
      "cell_type": "code",
      "execution_count": null,
      "metadata": {},
      "outputs": [],
      "source": [
        "plnr = itstgcnGCLSTM.planner.PLNR_STGCN_MANUAL(plans_stgcn_block,loader6,dataset_name='windmillsmall')\n",
        "plnr.simulate(mindex=mindex,mtype='block')"
      ],
      "id": "1a15b323-49b2-4ad9-95d6-a4d47ea6c525"
    },
    {
      "cell_type": "markdown",
      "metadata": {},
      "source": [
        "## PLNR_STGCN_MANUAL"
      ],
      "id": "47bf6a3d-5643-48e2-9ae6-295c75fb664f"
    },
    {
      "cell_type": "code",
      "execution_count": null,
      "metadata": {},
      "outputs": [],
      "source": [
        "my_list = [[] for _ in range(20)] #chickenpox\n",
        "another_list = list(range(100,400))\n",
        "my_list[1] = another_list\n",
        "my_list[3] = another_list\n",
        "my_list[5] = another_list\n",
        "my_list[7] = another_list\n",
        "my_list[9] = another_list\n",
        "my_list[11] = another_list\n",
        "my_list[13] = another_list\n",
        "my_list[15] = another_list\n",
        "mindex = my_list"
      ],
      "id": "992bcd53-aca7-4858-9291-c8f447cc72fb"
    },
    {
      "cell_type": "code",
      "execution_count": null,
      "metadata": {},
      "outputs": [],
      "source": [
        "my_list = [[] for _ in range(15)] #pedalme\n",
        "another_list = list(range(5,35))\n",
        "my_list[2] = another_list\n",
        "my_list[4] = another_list\n",
        "my_list[7] = another_list\n",
        "my_list[11] = another_list\n",
        "mindex = my_list"
      ],
      "id": "0617d461-958b-46d5-aaf5-88568e2daf35"
    },
    {
      "cell_type": "code",
      "execution_count": null,
      "metadata": {},
      "outputs": [],
      "source": [
        "import random\n",
        "my_list = [[] for _ in range(1068)] # wikimath\n",
        "another_list = random.sample(range(570), 72)\n",
        "# my_list에서 250개 요소 무작위 선택\n",
        "selected_indexes = random.sample(range(len(my_list)), 250)\n",
        "# 선택된 요소에 해당하는 값들을 another_list에 할당\n",
        "for index in selected_indexes:\n",
        "    my_list[index] = another_list"
      ],
      "id": "ed08353b-6894-4399-ad47-91da6bbef186"
    },
    {
      "cell_type": "code",
      "execution_count": null,
      "metadata": {},
      "outputs": [],
      "source": [
        "# _data = itstgcn.load_data('./data/fivenodes.pkl')\n",
        "# _edges = torch.tensor(_data['edges']).nonzero().tolist()\n",
        "# _FX = _data['f'].tolist()\n",
        "# _node_ids = {'node1':0, 'node2':1, 'node3':2, 'node4':3, 'node5':4} \n",
        "# data_dict = {'edges':_edges, 'node_ids':_node_ids, 'FX':_FX}\n",
        "# loader = itstgcn.DatasetLoader(data_dict)\n",
        "# data_dict = itstgcn.load_data('./data/fivenodes.pkl')\n",
        "# loader = itstgcn.DatasetLoader(data_dict)"
      ],
      "id": "943ed571-280e-44f9-800c-3d915c282137"
    },
    {
      "cell_type": "code",
      "execution_count": null,
      "metadata": {},
      "outputs": [],
      "source": [
        "# mindex= [[],[],[],list(range(50,150)),[]]\n",
        "# mindex= [list(range(50,150)),[],list(range(50,90)),list(range(50,150)),[]] # node 2\n",
        "plans_stgcn_block = {\n",
        "    'max_iteration': 10, \n",
        "    'method': ['STGCN', 'IT-STGCN'],\n",
        "    'RecurrentGCN' : ['GConvGRU','GConvLSTM'],\n",
        "    'mindex': [mindex],\n",
        "    'lags': [4], \n",
        "    'nof_filters': [16], \n",
        "    'inter_method': ['linear'],\n",
        "    'epoch': [50],\n",
        "    'lr': [0.01]\n",
        "}"
      ],
      "id": "ec449a8d-be78-421b-af34-69113b01af30"
    },
    {
      "cell_type": "code",
      "execution_count": null,
      "metadata": {},
      "outputs": [],
      "source": [
        "plnr = itstgcn.planner.PLNR_STGCN_MANUAL(plans_stgcn_block,loader1,dataset_name='chickenpox')\n",
        "\n",
        "plnr.simulate(mindex=mindex,mtype='block')"
      ],
      "id": "20af0e6e-1124-4516-9985-16f2809b73ee"
    },
    {
      "cell_type": "code",
      "execution_count": null,
      "metadata": {},
      "outputs": [],
      "source": [
        "plnr = itstgcn.planner.PLNR_STGCN_MANUAL(plans_stgcn_block,loader1,dataset_name='chickenpox')\n",
        "\n",
        "plnr.simulate(mindex=mindex,mtype='block')"
      ],
      "id": "11a8f192-4a4d-4a53-a415-edd76fbaec91"
    },
    {
      "cell_type": "code",
      "execution_count": null,
      "metadata": {},
      "outputs": [],
      "source": [
        "plnr = itstgcnadd.planner.PLNR_STGCN_MANUAL(plans_stgcn_block,loader2,dataset_name='pedalme')"
      ],
      "id": "01d689ad-8bc7-4f19-a60d-22df84860205"
    },
    {
      "cell_type": "code",
      "execution_count": null,
      "metadata": {},
      "outputs": [],
      "source": [
        "plnr.simulate(mindex=mindex,mtype='block')"
      ],
      "id": "37264661-64af-4cd3-a382-8f2a346c3622"
    },
    {
      "cell_type": "code",
      "execution_count": null,
      "metadata": {},
      "outputs": [],
      "source": [
        "# mindex= [[],[],[],list(range(50,150)),[]]\n",
        "# mindex= [list(range(50,150)),[],list(range(50,90)),list(range(50,150)),[]] # node 2\n",
        "plans_stgcn_block = {\n",
        "    'max_iteration': 10, \n",
        "    'method': ['STGCN', 'IT-STGCN'], \n",
        "    'RecurrentGCN' : ['GConvGRU','GConvLSTM'],\n",
        "    'mindex': [mindex],\n",
        "    'lags': [2,4], \n",
        "    'nof_filters': [12], \n",
        "    'inter_method': ['linear'],\n",
        "    'epoch': [50]\n",
        "}"
      ],
      "id": "5202a203-9b35-433d-af5d-6d2daf32f928"
    },
    {
      "cell_type": "code",
      "execution_count": null,
      "metadata": {},
      "outputs": [],
      "source": [
        "plnr = itstgcnadd.planner.PLNR_STGCN_MANUAL(plans_stgcn_block,loader3,dataset_name='wikimath')"
      ],
      "id": "f3041e3e-4303-4a52-bdc6-3cd3df58b741"
    },
    {
      "cell_type": "code",
      "execution_count": null,
      "metadata": {},
      "outputs": [],
      "source": [
        "plnr.simulate(mindex=mindex,mtype='block')"
      ],
      "id": "0c6eb118-65ef-4eab-b09e-22e5c7448498"
    },
    {
      "cell_type": "markdown",
      "metadata": {},
      "source": [
        "## PLNR_GNAR_RAND"
      ],
      "id": "7075d0ae-dac9-46a1-aa90-5acbf416a31d"
    },
    {
      "cell_type": "code",
      "execution_count": null,
      "metadata": {},
      "outputs": [],
      "source": [
        "# _data = itstgcn.load_data('./data/fivenodes.pkl')\n",
        "# _edges = torch.tensor(_data['edges']).nonzero().tolist()\n",
        "# _FX = _data['f'].tolist()\n",
        "# _node_ids = {'node1':0, 'node2':1, 'node3':2, 'node4':3, 'node5':4} \n",
        "# data_dict = {'edges':_edges, 'node_ids':_node_ids, 'FX':_FX}\n",
        "# loader = itstgcn.DatasetLoader(data_dict)\n",
        "# data_dict=itstgcn.load_data('./data/fivenodes.pkl')\n",
        "# loader = itstgcn.DatasetLoader(data_dict)"
      ],
      "id": "a277919a-6f36-4082-9cd8-55df0c5b4fca"
    },
    {
      "cell_type": "code",
      "execution_count": null,
      "metadata": {},
      "outputs": [],
      "source": [
        "plans_gnar_rand = {\n",
        "    'max_iteration': 30, \n",
        "#    'method': ['GNAR'], \n",
        "    'mrate': [0.1],\n",
        "    'lags': [4], \n",
        "#    'nof_filters': [8,16], \n",
        "    'inter_method': ['linear','cubic'],\n",
        "#    'epoch': [1]\n",
        "}"
      ],
      "id": "72657adc-23cc-4799-9071-1cede6541533"
    },
    {
      "cell_type": "code",
      "execution_count": null,
      "metadata": {
        "tags": []
      },
      "outputs": [],
      "source": [
        "plnr = itstgcn.planner.PLNR_GNAR_RAND(plans_gnar_rand,loader2,dataset_name='pedalme')\n",
        "plnr.simulate()"
      ],
      "id": "21e3857a-ab3d-4524-ba41-c4cb07fb461a"
    },
    {
      "cell_type": "code",
      "execution_count": null,
      "metadata": {},
      "outputs": [],
      "source": [
        "plans_gnar_rand = {\n",
        "    'max_iteration': 3, \n",
        "#    'method': ['GNAR'], \n",
        "    'mrate': [0],\n",
        "    'lags': [2,4], \n",
        "#    'nof_filters': [8,16], \n",
        "    'inter_method': ['linear'],\n",
        "#    'epoch': [1]\n",
        "}"
      ],
      "id": "2db9a021-0edd-4ed5-9b9f-f74debbc2cc1"
    },
    {
      "cell_type": "code",
      "execution_count": null,
      "metadata": {
        "tags": []
      },
      "outputs": [],
      "source": [
        "plnr = itstgcn.planner.PLNR_GNAR_RAND(plans_gnar_rand,loader3,dataset_name='wikimath')\n",
        "plnr.simulate()"
      ],
      "id": "92654413-2c19-4282-9521-8b1a61ea9df9"
    },
    {
      "cell_type": "code",
      "execution_count": null,
      "metadata": {},
      "outputs": [],
      "source": [
        "plans_gnar_rand = {\n",
        "    'max_iteration': 3, \n",
        "#    'method': ['GNAR'], \n",
        "    'mrate': [0,0.3],\n",
        "    'lags': [8], \n",
        "#    'nof_filters': [8,16], \n",
        "    'inter_method': ['linear'],\n",
        "#    'epoch': [1]\n",
        "}"
      ],
      "id": "035498b1-5c1f-4cb3-ae17-8d4b6480d77e"
    },
    {
      "cell_type": "code",
      "execution_count": null,
      "metadata": {
        "tags": []
      },
      "outputs": [],
      "source": [
        "plnr = itstgcn.planner.PLNR_GNAR_RAND(plans_gnar_rand,loader5,dataset_name='windmillmedium')\n",
        "plnr.simulate()"
      ],
      "id": "eb5b0235-ddc7-4f95-9dd8-052427410c7e"
    },
    {
      "cell_type": "markdown",
      "metadata": {},
      "source": [
        "------------------------------------------------------------------------\n",
        "\n",
        "## PLNR_GNAR_BLOCK"
      ],
      "id": "dfc2fbc9-b979-4d1c-a682-7efbd9f0e93c"
    },
    {
      "cell_type": "code",
      "execution_count": null,
      "metadata": {},
      "outputs": [],
      "source": [
        "# _data = itstgcn.load_data('./data/fivenodes.pkl')\n",
        "# _edges = torch.tensor(_data['edges']).nonzero().tolist()\n",
        "# _FX = _data['f'].tolist()\n",
        "# _node_ids = {'node1':0, 'node2':1, 'node3':2, 'node4':3, 'node5':4} \n",
        "# data_dict = {'edges':_edges, 'node_ids':_node_ids, 'FX':_FX}\n",
        "# loader = itstgcn.DatasetLoader(data_dict)\n",
        "# loader = itstgcn.load_data('./data/fivenodes.pkl')"
      ],
      "id": "72317823-8266-4030-9a8c-6e357a359102"
    },
    {
      "cell_type": "code",
      "execution_count": null,
      "metadata": {},
      "outputs": [],
      "source": [
        " Nodes : 26\n",
        "\n",
        "vertices represent 26 windmills\n",
        "-Edges : 676\n",
        "\n",
        "weighted edges describe the strength of relationships\n",
        "- Time : 17464"
      ],
      "id": "039c999c-5156-4c80-82fb-b2f3c0a6f4d7"
    },
    {
      "cell_type": "code",
      "execution_count": null,
      "metadata": {},
      "outputs": [],
      "source": [
        "my_list = [[] for _ in range(26)] #medium\n",
        "another_list = list(range(1000,2000))+list(range(4000,5000))+list(range(7000,8000)) #17464\n",
        "\n",
        "for i in np.array(random.sample(range(0, 26), 15)):\n",
        "    my_list[i] = another_list\n",
        "mindex = my_list"
      ],
      "id": "11b3b756-4fd4-4ad3-b36a-83430965b86d"
    },
    {
      "cell_type": "code",
      "execution_count": null,
      "metadata": {},
      "outputs": [],
      "source": [
        "my_list = [[] for _ in range(20)] #chickenpox\n",
        "another_list = list(range(100,400))\n",
        "my_list[2] = another_list\n",
        "my_list[4] = another_list\n",
        "my_list[6] = another_list\n",
        "my_list[8] = another_list\n",
        "my_list[10] = another_list\n",
        "my_list[12] = another_list\n",
        "my_list[14] = another_list\n",
        "my_list[16] = another_list\n",
        "mindex = my_list"
      ],
      "id": "2dfd5732-ee90-473e-9322-10f86a1848fb"
    },
    {
      "cell_type": "code",
      "execution_count": null,
      "metadata": {},
      "outputs": [],
      "source": [
        "# mindex= [[],[],[],list(range(50,150)),[]]\n",
        "# mindex= [list(range(50,150)),[],list(range(50,90)),list(range(50,150)),[]] # node 2\n",
        "plans_gnar_block = {\n",
        "    'max_iteration': 3, \n",
        "    'method': ['GNAR'], \n",
        "    'mindex': [mindex],\n",
        "    'lags': [4], \n",
        "    'inter_method': ['cubic','linear'],\n",
        "}"
      ],
      "id": "f8571c6e-70e2-4b16-9ec4-492d7b414c77"
    },
    {
      "cell_type": "code",
      "execution_count": null,
      "metadata": {},
      "outputs": [],
      "source": [
        "plnr = itstgcn.planner.PLNR_GNAR_MANUAL(plans_gnar_block,loader1,dataset_name='chickenpox')\n",
        "plnr.simulate(mindex,mtype='block')"
      ],
      "id": "602e6a26-0fd3-4852-9df3-a84a60b9d7ce"
    },
    {
      "cell_type": "code",
      "execution_count": null,
      "metadata": {},
      "outputs": [],
      "source": [
        "# mindex= [[],[],[],list(range(50,150)),[]]\n",
        "# mindex= [list(range(50,150)),[],list(range(50,90)),list(range(50,150)),[]] # node 2\n",
        "plans_gnar_block = {\n",
        "    'max_iteration': 3, \n",
        "    'method': ['GNAR'], \n",
        "    'mindex': [mindex],\n",
        "    'lags': [2,4], \n",
        "    'inter_method': ['linear'],\n",
        "}"
      ],
      "id": "8883a2d7-2616-41b4-aa80-7bbbd68d6d49"
    },
    {
      "cell_type": "code",
      "execution_count": null,
      "metadata": {},
      "outputs": [],
      "source": [
        "plnr = itstgcn.planner.PLNR_GNAR_MANUAL(plans_gnar_block,loader3,dataset_name='wikimath')\n",
        "plnr.simulate(mindex,mtype='block')"
      ],
      "id": "d1c46756-4ba3-4722-8e85-1a7c3599b709"
    }
  ],
  "nbformat": 4,
  "nbformat_minor": 5,
  "metadata": {
    "kernelspec": {
      "name": "python3",
      "display_name": "Python 3",
      "language": "python"
    },
    "language_info": {
      "name": "python",
      "codemirror_mode": {
        "name": "ipython",
        "version": "3"
      },
      "file_extension": ".py",
      "mimetype": "text/x-python",
      "nbconvert_exporter": "python",
      "pygments_lexer": "ipython3",
      "version": "3.8.0"
    }
  }
}
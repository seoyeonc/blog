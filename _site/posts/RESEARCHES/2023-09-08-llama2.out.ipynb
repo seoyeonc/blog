{
  "cells": [
    {
      "cell_type": "markdown",
      "metadata": {},
      "source": [
        "# \\*\\*\\[LLM\\]\\*\\*LLAMA2\n",
        "\n",
        "SEOYEON CHOI  \n",
        "2023-09-08\n",
        "\n",
        "https://huggingface.co/Trelis\n",
        "\n",
        "# Import"
      ],
      "id": "a517c2af-d5c6-4b9a-b98a-1409787f07ac"
    },
    {
      "cell_type": "code",
      "execution_count": 44,
      "metadata": {},
      "outputs": [],
      "source": [
        "# !pip install -q transformers accelerate sentencepiece\n",
        "# !huggingface-cli login\n",
        "from transformers import AutoTokenizer\n",
        "import transformers\n",
        "import torch\n",
        "import matplotlib.pyplot as plt\n",
        "import pandas as pd\n",
        "import re\n",
        "\n",
        "from sklearn.feature_extraction.text import CountVectorizer\n",
        "from sklearn.preprocessing import LabelEncoder\n",
        "import numpy as np"
      ],
      "id": "05ea4af3-1006-4a87-89d6-9cb8630d4aa9"
    },
    {
      "cell_type": "markdown",
      "metadata": {},
      "source": [
        "# 사용가능한 pretrained된 model\n",
        "\n",
        "사용가능한 pretrained된 model들 종류 아직 llama2는 업데이트되지 않은듯\n",
        "\n",
        "    - **albert** -- [`AlbertTokenizer`] or [`AlbertTokenizerFast`] (ALBERT model)\n",
        "    - **align** -- [`BertTokenizer`] or [`BertTokenizerFast`] (ALIGN model)\n",
        "    - **bart** -- [`BartTokenizer`] or [`BartTokenizerFast`] (BART model)\n",
        "    - **barthez** -- [`BarthezTokenizer`] or [`BarthezTokenizerFast`] (BARThez model)\n",
        "    - **bartpho** -- [`BartphoTokenizer`] (BARTpho model)\n",
        "    - **bert** -- [`BertTokenizer`] or [`BertTokenizerFast`] (BERT model)\n",
        "    - **bert-generation** -- [`BertGenerationTokenizer`] (Bert Generation model)\n",
        "    - **bert-japanese** -- [`BertJapaneseTokenizer`] (BertJapanese model)\n",
        "    - **bertweet** -- [`BertweetTokenizer`] (BERTweet model)\n",
        "    - **big_bird** -- [`BigBirdTokenizer`] or [`BigBirdTokenizerFast`] (BigBird model)\n",
        "    - **bigbird_pegasus** -- [`PegasusTokenizer`] or [`PegasusTokenizerFast`] (BigBird-Pegasus model)\n",
        "    - **biogpt** -- [`BioGptTokenizer`] (BioGpt model)\n",
        "    - **blenderbot** -- [`BlenderbotTokenizer`] or [`BlenderbotTokenizerFast`] (Blenderbot model)\n",
        "    - **blenderbot-small** -- [`BlenderbotSmallTokenizer`] (BlenderbotSmall model)\n",
        "    - **blip** -- [`BertTokenizer`] or [`BertTokenizerFast`] (BLIP model)\n",
        "    - **blip-2** -- [`GPT2Tokenizer`] or [`GPT2TokenizerFast`] (BLIP-2 model)\n",
        "    - **bloom** -- [`BloomTokenizerFast`] (BLOOM model)\n",
        "    - **bridgetower** -- [`RobertaTokenizer`] or [`RobertaTokenizerFast`] (BridgeTower model)\n",
        "    - **byt5** -- [`ByT5Tokenizer`] (ByT5 model)\n",
        "    - **camembert** -- [`CamembertTokenizer`] or [`CamembertTokenizerFast`] (CamemBERT model)\n",
        "    - **canine** -- [`CanineTokenizer`] (CANINE model)\n",
        "    - **chinese_clip** -- [`BertTokenizer`] or [`BertTokenizerFast`] (Chinese-CLIP model)\n",
        "    - **clap** -- [`RobertaTokenizer`] or [`RobertaTokenizerFast`] (CLAP model)\n",
        "    - **clip** -- [`CLIPTokenizer`] or [`CLIPTokenizerFast`] (CLIP model)\n",
        "    - **clipseg** -- [`CLIPTokenizer`] or [`CLIPTokenizerFast`] (CLIPSeg model)\n",
        "    - **codegen** -- [`CodeGenTokenizer`] or [`CodeGenTokenizerFast`] (CodeGen model)\n",
        "    - **convbert** -- [`ConvBertTokenizer`] or [`ConvBertTokenizerFast`] (ConvBERT model)\n",
        "    - **cpm** -- [`CpmTokenizer`] or [`CpmTokenizerFast`] (CPM model)\n",
        "    - **cpmant** -- [`CpmAntTokenizer`] (CPM-Ant model)\n",
        "    - **ctrl** -- [`CTRLTokenizer`] (CTRL model)\n",
        "    - **data2vec-text** -- [`RobertaTokenizer`] or [`RobertaTokenizerFast`] (Data2VecText model)\n",
        "    - **deberta** -- [`DebertaTokenizer`] or [`DebertaTokenizerFast`] (DeBERTa model)\n",
        "    - **deberta-v2** -- [`DebertaV2Tokenizer`] or [`DebertaV2TokenizerFast`] (DeBERTa-v2 model)\n",
        "    - **distilbert** -- [`DistilBertTokenizer`] or [`DistilBertTokenizerFast`] (DistilBERT model)\n",
        "    - **dpr** -- [`DPRQuestionEncoderTokenizer`] or [`DPRQuestionEncoderTokenizerFast`] (DPR model)\n",
        "    - **electra** -- [`ElectraTokenizer`] or [`ElectraTokenizerFast`] (ELECTRA model)\n",
        "    - **ernie** -- [`BertTokenizer`] or [`BertTokenizerFast`] (ERNIE model)\n",
        "    - **ernie_m** -- [`ErnieMTokenizer`] (ErnieM model)\n",
        "    - **esm** -- [`EsmTokenizer`] (ESM model)\n",
        "    - **flaubert** -- [`FlaubertTokenizer`] (FlauBERT model)\n",
        "    - **fnet** -- [`FNetTokenizer`] or [`FNetTokenizerFast`] (FNet model)\n",
        "    - **fsmt** -- [`FSMTTokenizer`] (FairSeq Machine-Translation model)\n",
        "    - **funnel** -- [`FunnelTokenizer`] or [`FunnelTokenizerFast`] (Funnel Transformer model)\n",
        "    - **git** -- [`BertTokenizer`] or [`BertTokenizerFast`] (GIT model)\n",
        "    - **gpt-sw3** -- [`GPTSw3Tokenizer`] (GPT-Sw3 model)\n",
        "    - **gpt2** -- [`GPT2Tokenizer`] or [`GPT2TokenizerFast`] (OpenAI GPT-2 model)\n",
        "    - **gpt_bigcode** -- [`GPT2Tokenizer`] or [`GPT2TokenizerFast`] (GPTBigCode model)\n",
        "    - **gpt_neo** -- [`GPT2Tokenizer`] or [`GPT2TokenizerFast`] (GPT Neo model)\n",
        "    - **gpt_neox** -- [`GPTNeoXTokenizerFast`] (GPT NeoX model)\n",
        "    - **gpt_neox_japanese** -- [`GPTNeoXJapaneseTokenizer`] (GPT NeoX Japanese model)\n",
        "    - **gptj** -- [`GPT2Tokenizer`] or [`GPT2TokenizerFast`] (GPT-J model)\n",
        "    - **gptsan-japanese** -- [`GPTSanJapaneseTokenizer`] (GPTSAN-japanese model)\n",
        "    - **groupvit** -- [`CLIPTokenizer`] or [`CLIPTokenizerFast`] (GroupViT model)\n",
        "    - **herbert** -- [`HerbertTokenizer`] or [`HerbertTokenizerFast`] (HerBERT model)\n",
        "    - **hubert** -- [`Wav2Vec2CTCTokenizer`] (Hubert model)\n",
        "    - **ibert** -- [`RobertaTokenizer`] or [`RobertaTokenizerFast`] (I-BERT model)\n",
        "    - **jukebox** -- [`JukeboxTokenizer`] (Jukebox model)\n",
        "    - **layoutlm** -- [`LayoutLMTokenizer`] or [`LayoutLMTokenizerFast`] (LayoutLM model)\n",
        "    - **layoutlmv2** -- [`LayoutLMv2Tokenizer`] or [`LayoutLMv2TokenizerFast`] (LayoutLMv2 model)\n",
        "    - **layoutlmv3** -- [`LayoutLMv3Tokenizer`] or [`LayoutLMv3TokenizerFast`] (LayoutLMv3 model)\n",
        "    - **layoutxlm** -- [`LayoutXLMTokenizer`] or [`LayoutXLMTokenizerFast`] (LayoutXLM model)\n",
        "    - **led** -- [`LEDTokenizer`] or [`LEDTokenizerFast`] (LED model)\n",
        "    - **lilt** -- [`LayoutLMv3Tokenizer`] or [`LayoutLMv3TokenizerFast`] (LiLT model)\n",
        "    - **llama** -- [`LlamaTokenizer`] or [`LlamaTokenizerFast`] (LLaMA model)\n",
        "    - **longformer** -- [`LongformerTokenizer`] or [`LongformerTokenizerFast`] (Longformer model)\n",
        "    - **longt5** -- [`T5Tokenizer`] or [`T5TokenizerFast`] (LongT5 model)\n",
        "    - **luke** -- [`LukeTokenizer`] (LUKE model)\n",
        "    - **lxmert** -- [`LxmertTokenizer`] or [`LxmertTokenizerFast`] (LXMERT model)\n",
        "    - **m2m_100** -- [`M2M100Tokenizer`] (M2M100 model)\n",
        "    - **marian** -- [`MarianTokenizer`] (Marian model)\n",
        "    - **mbart** -- [`MBartTokenizer`] or [`MBartTokenizerFast`] (mBART model)\n",
        "    - **mbart50** -- [`MBart50Tokenizer`] or [`MBart50TokenizerFast`] (mBART-50 model)\n",
        "    - **mega** -- [`RobertaTokenizer`] or [`RobertaTokenizerFast`] (MEGA model)\n",
        "    - **megatron-bert** -- [`BertTokenizer`] or [`BertTokenizerFast`] (Megatron-BERT model)\n",
        "    - **mgp-str** -- [`MgpstrTokenizer`] (MGP-STR model)\n",
        "    - **mluke** -- [`MLukeTokenizer`] (mLUKE model)\n",
        "    - **mobilebert** -- [`MobileBertTokenizer`] or [`MobileBertTokenizerFast`] (MobileBERT model)\n",
        "    - **mpnet** -- [`MPNetTokenizer`] or [`MPNetTokenizerFast`] (MPNet model)\n",
        "    - **mt5** -- [`MT5Tokenizer`] or [`MT5TokenizerFast`] (MT5 model)\n",
        "    - **mvp** -- [`MvpTokenizer`] or [`MvpTokenizerFast`] (MVP model)\n",
        "    - **nezha** -- [`BertTokenizer`] or [`BertTokenizerFast`] (Nezha model)\n",
        "    - **nllb** -- [`NllbTokenizer`] or [`NllbTokenizerFast`] (NLLB model)\n",
        "    - **nllb-moe** -- [`NllbTokenizer`] or [`NllbTokenizerFast`] (NLLB-MOE model)\n",
        "    - **nystromformer** -- [`AlbertTokenizer`] or [`AlbertTokenizerFast`] (Nyströmformer model)\n",
        "    - **oneformer** -- [`CLIPTokenizer`] or [`CLIPTokenizerFast`] (OneFormer model)\n",
        "    - **openai-gpt** -- [`OpenAIGPTTokenizer`] or [`OpenAIGPTTokenizerFast`] (OpenAI GPT model)\n",
        "    - **opt** -- [`GPT2Tokenizer`] or [`GPT2TokenizerFast`] (OPT model)\n",
        "    - **owlvit** -- [`CLIPTokenizer`] or [`CLIPTokenizerFast`] (OWL-ViT model)\n",
        "    - **pegasus** -- [`PegasusTokenizer`] or [`PegasusTokenizerFast`] (Pegasus model)\n",
        "    - **pegasus_x** -- [`PegasusTokenizer`] or [`PegasusTokenizerFast`] (PEGASUS-X model)\n",
        "    - **perceiver** -- [`PerceiverTokenizer`] (Perceiver model)\n",
        "    - **phobert** -- [`PhobertTokenizer`] (PhoBERT model)\n",
        "    - **pix2struct** -- [`T5Tokenizer`] or [`T5TokenizerFast`] (Pix2Struct model)\n",
        "    - **plbart** -- [`PLBartTokenizer`] (PLBart model)\n",
        "    - **prophetnet** -- [`ProphetNetTokenizer`] (ProphetNet model)\n",
        "    - **qdqbert** -- [`BertTokenizer`] or [`BertTokenizerFast`] (QDQBert model)\n",
        "    - **rag** -- [`RagTokenizer`] (RAG model)\n",
        "    - **realm** -- [`RealmTokenizer`] or [`RealmTokenizerFast`] (REALM model)\n",
        "    - **reformer** -- [`ReformerTokenizer`] or [`ReformerTokenizerFast`] (Reformer model)\n",
        "    - **rembert** -- [`RemBertTokenizer`] or [`RemBertTokenizerFast`] (RemBERT model)\n",
        "    - **retribert** -- [`RetriBertTokenizer`] or [`RetriBertTokenizerFast`] (RetriBERT model)\n",
        "    - **roberta** -- [`RobertaTokenizer`] or [`RobertaTokenizerFast`] (RoBERTa model)\n",
        "    - **roberta-prelayernorm** -- [`RobertaTokenizer`] or [`RobertaTokenizerFast`] (RoBERTa-PreLayerNorm model)\n",
        "    - **roc_bert** -- [`RoCBertTokenizer`] (RoCBert model)\n",
        "    - **roformer** -- [`RoFormerTokenizer`] or [`RoFormerTokenizerFast`] (RoFormer model)\n",
        "    - **rwkv** -- [`GPTNeoXTokenizerFast`] (RWKV model)\n",
        "    - **speech_to_text** -- [`Speech2TextTokenizer`] (Speech2Text model)\n",
        "    - **speech_to_text_2** -- [`Speech2Text2Tokenizer`] (Speech2Text2 model)\n",
        "    - **speecht5** -- [`SpeechT5Tokenizer`] (SpeechT5 model)\n",
        "    - **splinter** -- [`SplinterTokenizer`] or [`SplinterTokenizerFast`] (Splinter model)\n",
        "    - **squeezebert** -- [`SqueezeBertTokenizer`] or [`SqueezeBertTokenizerFast`] (SqueezeBERT model)\n",
        "    - **switch_transformers** -- [`T5Tokenizer`] or [`T5TokenizerFast`] (SwitchTransformers model)\n",
        "    - **t5** -- [`T5Tokenizer`] or [`T5TokenizerFast`] (T5 model)\n",
        "    - **tapas** -- [`TapasTokenizer`] (TAPAS model)\n",
        "    - **tapex** -- [`TapexTokenizer`] (TAPEX model)\n",
        "    - **transfo-xl** -- [`TransfoXLTokenizer`] (Transformer-XL model)\n",
        "    - **vilt** -- [`BertTokenizer`] or [`BertTokenizerFast`] (ViLT model)\n",
        "    - **visual_bert** -- [`BertTokenizer`] or [`BertTokenizerFast`] (VisualBERT model)\n",
        "    - **wav2vec2** -- [`Wav2Vec2CTCTokenizer`] (Wav2Vec2 model)\n",
        "    - **wav2vec2-conformer** -- [`Wav2Vec2CTCTokenizer`] (Wav2Vec2-Conformer model)\n",
        "    - **wav2vec2_phoneme** -- [`Wav2Vec2PhonemeCTCTokenizer`] (Wav2Vec2Phoneme model)\n",
        "    - **whisper** -- [`WhisperTokenizer`] or [`WhisperTokenizerFast`] (Whisper model)\n",
        "    - **xclip** -- [`CLIPTokenizer`] or [`CLIPTokenizerFast`] (X-CLIP model)\n",
        "    - **xglm** -- [`XGLMTokenizer`] or [`XGLMTokenizerFast`] (XGLM model)\n",
        "    - **xlm** -- [`XLMTokenizer`] (XLM model)\n",
        "    - **xlm-prophetnet** -- [`XLMProphetNetTokenizer`] (XLM-ProphetNet model)\n",
        "    - **xlm-roberta** -- [`XLMRobertaTokenizer`] or [`XLMRobertaTokenizerFast`] (XLM-RoBERTa model)\n",
        "    - **xlm-roberta-xl** -- [`XLMRobertaTokenizer`] or [`XLMRobertaTokenizerFast`] (XLM-RoBERTa-XL model)\n",
        "    - **xlnet** -- [`XLNetTokenizer`] or [`XLNetTokenizerFast`] (XLNet model)\n",
        "    - **xmod** -- [`XLMRobertaTokenizer`] or [`XLMRobertaTokenizerFast`] (X-MOD model)\n",
        "    - **yoso** -- [`AlbertTokenizer`] or [`AlbertTokenizerFast`] (YOSO model)\n",
        "\n",
        "# 텍스트 생성\n",
        "\n",
        "jupyter 에서 돌아갈 수 있도록 transformers.pipeline의 옵션 수정\n",
        "\n",
        "-   해결책 1.\n",
        "    -   https://stackoverflow.com/questions/73530569/pytorch-matmul-runtimeerror-addmm-impl-cpu-not-implemented-for-half\n",
        "    -   위에서 얻은 답, 데이터 타입을float16이 아닌 float32를 사용\n",
        "-   해결책 2.\n",
        "    -   device_map = ’auto’를 사용하지 않음.\n",
        "    -   device_map=None 이 default,\n",
        "    -   device_map = ’auto’를 하면 gpu 혹은 cpu를 자동으로 잡는데,\n",
        "        이것을 못해서 오류가 난 듯\\>???\n",
        "\n",
        "## Load a model & tokenizer\n",
        "\n",
        "### 1. chat version은 txt 주고 받는 모델"
      ],
      "id": "534d176c-277f-4877-a063-7c4f3e6d979a"
    },
    {
      "cell_type": "code",
      "execution_count": 69,
      "metadata": {},
      "outputs": [],
      "source": [
        "model = \"meta-llama/Llama-2-7b-chat-hf\""
      ],
      "id": "054c1247-d20c-4fb4-a31a-9198167645f4"
    },
    {
      "cell_type": "markdown",
      "metadata": {},
      "source": [
        "`AutoTokenizer.from_pretrained`\n",
        "\n",
        "-   사전 훈련된 model 가져와\n",
        "-   인증한 tokenizer를 자동으로 선택하고 사용\n",
        "\n",
        "*꼭 모델을 지정해주고 입력, 바로 모델을 pretrainded에 넣으면 에러 뜸*"
      ],
      "id": "76d66299-633e-4ad0-9de4-186c098f046a"
    },
    {
      "cell_type": "code",
      "execution_count": 70,
      "metadata": {},
      "outputs": [],
      "source": [
        "tokenizer = AutoTokenizer.from_pretrained(\n",
        "    model,\n",
        "    use_auth_token=True,\n",
        ")"
      ],
      "id": "50183d44-5a52-4e0e-bfb6-3584b20a4bbc"
    },
    {
      "cell_type": "markdown",
      "metadata": {},
      "source": [
        "transformers.pipeline\n",
        "\n",
        "-   사전 훈련된 모델과 tokenizer를 자동으로 선택\n",
        "-   `torch_dtype`=torch.float16 데이터 타입 지정\n",
        "-   `\"text-generation\"` 쓰면 입력 문장 이어서 텍스트 생성하도록 함.\n",
        "-   `device_map=\"auto\"` 쓰면 gpu 혹은 cpu 자동 할당"
      ],
      "id": "db1dc23f-652d-4182-ba14-817167af474b"
    },
    {
      "cell_type": "code",
      "execution_count": 71,
      "metadata": {},
      "outputs": [
        {
          "output_type": "stream",
          "name": "stderr",
          "text": [
            "Loading checkpoint shards: 100%|██████████| 2/2 [00:05<00:00,  2.53s/it]"
          ]
        }
      ],
      "source": [
        "pipeline = transformers.pipeline(\n",
        "    \"text-generation\",\n",
        "    model=model,\n",
        "    torch_dtype=torch.float32,\n",
        "    # device_map=\"gpu\"\n",
        ")"
      ],
      "id": "dbcefe88-9c5a-4236-8613-67784f47f7d5"
    },
    {
      "cell_type": "markdown",
      "metadata": {},
      "source": [
        "`\"text-generation\"`이외에 쓸 수 있는 task option 들\n",
        "\n",
        "task (`str`): The task defining which pipeline will be returned.\n",
        "Currently accepted tasks are:\n",
        "\n",
        "            - `\"audio-classification\"`: will return a [`AudioClassificationPipeline`].\n",
        "            - `\"automatic-speech-recognition\"`: will return a [`AutomaticSpeechRecognitionPipeline`].\n",
        "            - `\"conversational\"`: will return a [`ConversationalPipeline`].\n",
        "            - `\"depth-estimation\"`: will return a [`DepthEstimationPipeline`].\n",
        "            - `\"document-question-answering\"`: will return a [`DocumentQuestionAnsweringPipeline`].\n",
        "            - `\"feature-extraction\"`: will return a [`FeatureExtractionPipeline`].\n",
        "            - `\"fill-mask\"`: will return a [`FillMaskPipeline`]:.\n",
        "            - `\"image-classification\"`: will return a [`ImageClassificationPipeline`].\n",
        "            - `\"image-segmentation\"`: will return a [`ImageSegmentationPipeline`].\n",
        "            - `\"image-to-text\"`: will return a [`ImageToTextPipeline`].\n",
        "            - `\"mask-generation\"`: will return a [`MaskGenerationPipeline`].\n",
        "            - `\"object-detection\"`: will return a [`ObjectDetectionPipeline`].\n",
        "            - `\"question-answering\"`: will return a [`QuestionAnsweringPipeline`].\n",
        "            - `\"summarization\"`: will return a [`SummarizationPipeline`].\n",
        "            - `\"table-question-answering\"`: will return a [`TableQuestionAnsweringPipeline`].\n",
        "            - `\"text2text-generation\"`: will return a [`Text2TextGenerationPipeline`].\n",
        "            - `\"text-classification\"` (alias `\"sentiment-analysis\"` available): will return a\n",
        "              [`TextClassificationPipeline`].\n",
        "            - `\"text-generation\"`: will return a [`TextGenerationPipeline`]:.\n",
        "            - `\"token-classification\"` (alias `\"ner\"` available): will return a [`TokenClassificationPipeline`].\n",
        "            - `\"translation\"`: will return a [`TranslationPipeline`].\n",
        "            - `\"translation_xx_to_yy\"`: will return a [`TranslationPipeline`].\n",
        "            - `\"video-classification\"`: will return a [`VideoClassificationPipeline`].\n",
        "            - `\"visual-question-answering\"`: will return a [`VisualQuestionAnsweringPipeline`].\n",
        "            - `\"zero-shot-classification\"`: will return a [`ZeroShotClassificationPipeline`].\n",
        "            - `\"zero-shot-image-classification\"`: will return a [`ZeroShotImageClassificationPipeline`].\n",
        "            - `\"zero-shot-audio-classification\"`: will return a [`ZeroShotAudioClassificationPipeline`].\n",
        "            - `\"zero-shot-object-detection\"`: will return a [`ZeroShotObjectDetectionPipeline`]."
      ],
      "id": "1801db8b-8bcf-4491-beaf-28e8ed2102f9"
    },
    {
      "cell_type": "code",
      "execution_count": 72,
      "metadata": {},
      "outputs": [],
      "source": [
        "def gen(x, max_length=200):\n",
        "    sequences = pipeline(\n",
        "        x,\n",
        "        do_sample=True,\n",
        "        top_k=10,\n",
        "        num_return_sequences=1,\n",
        "        eos_token_id=tokenizer.eos_token_id,\n",
        "        max_length=max_length,\n",
        "    )\n",
        "\n",
        "    return sequences[0][\"generated_text\"].replace(x, \"\")"
      ],
      "id": "70a1db02-9d06-458e-80b0-ccc6ad3d7117"
    },
    {
      "cell_type": "code",
      "execution_count": 73,
      "metadata": {},
      "outputs": [
        {
          "output_type": "stream",
          "name": "stdout",
          "text": [
            "\n",
            "Answer: Yes, definitely! If you enjoyed \"Breaking Bad\" and \"Band of Brothers,\" here are some other shows you might enjoy:\n",
            "\n",
            "1. \"The Sopranos\" - This HBO series is a crime drama that follows the life of a New Jersey mob boss, Tony Soprano, as he navigates the criminal underworld and deals with personal and family issues.\n",
            "\n",
            "2. \"The Wire\" - This HBO series explores the drug trade in Baltimore from multiple perspectives, including law enforcement, drug dealers, and politicians. It's known for its gritty realism and complex characters.\n",
            "\n",
            "3. \"Mad Men\" - Set in the 1960s, this AMC series follows the lives ofбад advertising execut"
          ]
        }
      ],
      "source": [
        "print(gen('I liked \"Breaking Bad\" and \"Band of Brothers\". Do you have any recommendations of other shows I might like?\\n'))"
      ],
      "id": "3c1b599c-a119-44ec-9c2e-7f272a03bb0a"
    },
    {
      "cell_type": "code",
      "execution_count": 74,
      "metadata": {},
      "outputs": [
        {
          "output_type": "stream",
          "name": "stdout",
          "text": [
            "\n",
            "\n",
            "1. 블랙파티 (Black Party) - 약 200만 subscribe, 3000만 조회수\n",
            "2. 프로젝트 (Project) - 약 150만 subscribe, 2000만 조회수\n",
            "3. 파이널 (Final) - 약 100만 subscribe, 1500만 조회수"
          ]
        }
      ],
      "source": [
        "print(gen(\"대한민국에서 유명한 인공지능 유튜버 3명만 나열해봐.\", 500))"
      ],
      "id": "55228d89-8e25-4afc-b8aa-64ca1de75aae"
    },
    {
      "cell_type": "code",
      "execution_count": 75,
      "metadata": {},
      "outputs": [
        {
          "output_type": "stream",
          "name": "stdout",
          "text": [
            "\n",
            " (2023-02-17)  \n",
            "\n",
            "👀 빵형의 개발도상국 채널 알아? 🤔\n",
            "\n",
            "💡 YouTube 빵형의 개발도상국 채널 알아? 🎯\n",
            "\n",
            "🔍 빵형의 개발도상국 채널 알아? 🔍\n",
            "\n",
            "📢 빵형의 개발도상국 채널 알아? 📢\n",
            "\n",
            "👉 빵형의 개발도상국 채널 알아? 👈\n",
            "\n",
            "🤝 빵형의 개발도상국 채널 알아? 🤝\n",
            "\n",
            "🎯 빵형의 개발도상국 채널 알아? 🎯\n",
            "\n",
            "👍 빵형의 개발도상국 채널 알아? 👍\n",
            "\n",
            "🤔 빵형의 개발도상국 채널 알아? 🤔\n",
            "\n",
            "👀 빵형의 개발도상국 채널 알아? 👀\n",
            "\n",
            "📢 빵형의 개발도상국 채널 알아? 📢\n",
            "\n",
            "🤝 �"
          ]
        }
      ],
      "source": [
        "print(gen(\"유튜브 빵형의 개발도상국 채널 알아?\", 500))"
      ],
      "id": "8f6b02e7-24a4-4e48-b09d-28c7008d0f4f"
    },
    {
      "cell_type": "markdown",
      "metadata": {},
      "source": [
        "### 2. 단순 txt 생성하는 모델"
      ],
      "id": "72265c5d-e5f4-4ed7-a819-3ce8c35e90d0"
    },
    {
      "cell_type": "code",
      "execution_count": 64,
      "metadata": {},
      "outputs": [
        {
          "output_type": "stream",
          "name": "stderr",
          "text": [
            "Loading checkpoint shards: 100%|██████████| 2/2 [00:05<00:00,  2.62s/it]"
          ]
        }
      ],
      "source": [
        "model2 = \"meta-llama/Llama-2-7b-hf\"\n",
        "\n",
        "tokenizer2 = AutoTokenizer.from_pretrained(\n",
        "    model2,\n",
        "    use_auth_token=True,\n",
        ")\n",
        "\n",
        "pipeline2 = transformers.pipeline(\n",
        "    \"text-generation\",\n",
        "    model=model2,\n",
        "    torch_dtype=torch.float32,\n",
        "    # device_map=\"auto\",\n",
        ")"
      ],
      "id": "e6e930d8-4c30-4f09-9ed4-0bc543622f78"
    },
    {
      "cell_type": "code",
      "execution_count": 65,
      "metadata": {},
      "outputs": [],
      "source": [
        "def gen2(x, max_length=200):\n",
        "    sequences = pipeline2(\n",
        "        x,\n",
        "        do_sample=True,\n",
        "        top_k=10,\n",
        "        num_return_sequences=1,\n",
        "        eos_token_id=tokenizer2.eos_token_id,\n",
        "        max_length=max_length,\n",
        "    )\n",
        "\n",
        "    return sequences[0][\"generated_text\"].replace(x, \"\")"
      ],
      "id": "627dc998-dd32-4053-8789-9d0e3ac89ec3"
    },
    {
      "cell_type": "code",
      "execution_count": 66,
      "metadata": {},
      "outputs": [
        {
          "output_type": "stream",
          "name": "stdout",
          "text": [
            "I'm a fan of \"The Wire\" and \"The Sopranos\" but I'm not sure if you're into gangster movies.\n",
            "I'm not sure if you're into gangster movies.\n",
            "I'm a fan of \"The Wire\" and \"The Sopranos\"\n",
            "I'm not a big fan of gangster movies. I've seen a few and they are OK but I don't go out of my way to watch them. I'm not sure if I've ever seen \"The Wire\" or \"The Sopranos\".\n",
            "I'm not sure if I've ever seen \"The Wire\" or \"The Sopranos\".\n",
            "I'm a big fan of \"The Wire\" and"
          ]
        }
      ],
      "source": [
        "print(gen2('I liked \"Breaking Bad\" and \"Band of Brothers\". Do you have any recommendations of other shows I might like?\\n'))"
      ],
      "id": "ad258ca8-8e8e-437a-8e93-f07ed18874a9"
    },
    {
      "cell_type": "markdown",
      "metadata": {},
      "source": [
        "# feature-extraction\n",
        "\n",
        "-   ref: checkpoint 사용 가능\n",
        "    https://huggingface.co/models?pipeline_tag=feature-extraction\n",
        "\n",
        "-   `checkpoint` 사전 학습된 모델 지정하기, 위에 400개 이상의 모델 존재\n",
        "\n",
        "-   `framework=\"pt\"`or - `framework=True` 파이토치 이용하겠다.\n",
        "\n",
        "-   `framework=\"tf\"` 라면 텐서플로우 이용하겠다.\n",
        "\n",
        "    -   framework 사용할 수 있는 모델..다 적용되지는 않는다."
      ],
      "id": "8f335f74-bf6f-4609-aef3-78272495fdcd"
    },
    {
      "cell_type": "code",
      "execution_count": 16,
      "metadata": {},
      "outputs": [],
      "source": [
        "checkpoint = \"facebook/bart-base\"\n",
        "tokenizer = AutoTokenizer.from_pretrained('distilroberta-base')\n",
        "feature_extractor = transformers.pipeline(\"feature-extraction\",framework=\"pt\",model=checkpoint,tokenizer=tokenizer)\n",
        "text = \"Transformers is an awesome library!\""
      ],
      "id": "80df3051-dec2-48dd-aafd-8e1e94f66ccb"
    },
    {
      "cell_type": "markdown",
      "metadata": {},
      "source": [
        "## 공식 예제\n",
        "\n",
        "### 특징화 1(text에서 특징 추출)\n",
        "\n",
        "-   9개의 토큰으로 분리됌.\n",
        "-   768차원"
      ],
      "id": "729e4483-f889-4818-9098-b8feadc3b9bb"
    },
    {
      "cell_type": "code",
      "execution_count": 17,
      "metadata": {},
      "outputs": [],
      "source": [
        "#Reducing along the first dimension to get a 768 dimensional array\n",
        "feature_extractor(text,return_tensors = \"pt\")[0].shape"
      ],
      "id": "827dabe5-3e15-4ad9-8396-294f42dc439a"
    },
    {
      "cell_type": "markdown",
      "metadata": {},
      "source": [
        "-   feature_extractor의 결과는 torch로 지정해줘서 torch 로 나옴"
      ],
      "id": "f7e388d7-d504-4245-b631-5ee9da1563a2"
    },
    {
      "cell_type": "code",
      "execution_count": 18,
      "metadata": {},
      "outputs": [],
      "source": [
        "feature_extractor(text,return_tensors = \"pt\")[0].numpy().mean(axis=0).shape"
      ],
      "id": "8c04f2e4-28b7-4fab-9e9c-ef9f46dc556d"
    },
    {
      "cell_type": "code",
      "execution_count": 19,
      "metadata": {},
      "outputs": [],
      "source": [
        "feature_extractor(text,return_tensors = \"pt\")[0].numpy().mean(axis=1).shape"
      ],
      "id": "d4f97bd1-11db-4f43-b498-9d56642a2775"
    },
    {
      "cell_type": "markdown",
      "metadata": {},
      "source": [
        "-   특징 추출"
      ],
      "id": "af8ee233-bda0-4361-b944-ff210d46dc2c"
    },
    {
      "cell_type": "code",
      "execution_count": 20,
      "metadata": {},
      "outputs": [
        {
          "output_type": "display_data",
          "metadata": {},
          "data": {
            "image/png": "[encoded data removed]"
          }
        }
      ],
      "source": [
        "plt.plot(feature_extractor(text,return_tensors = \"pt\")[0].numpy().mean(axis=0)) # 특징 추출"
      ],
      "id": "7a003a70-642e-4757-8f35-d43e7900c885"
    },
    {
      "cell_type": "code",
      "execution_count": 21,
      "metadata": {},
      "outputs": [],
      "source": [
        "pd.DataFrame(feature_extractor(text,return_tensors = \"pt\")[0].numpy().mean(axis=0)).describe()"
      ],
      "id": "15c7f82b-0969-4934-90be-4cfc9f98cccd"
    },
    {
      "cell_type": "code",
      "execution_count": 52,
      "metadata": {},
      "outputs": [],
      "source": [
        "feature_extractor(text,return_tensors = \"pt\")[0].numpy().mean(axis=1)"
      ],
      "id": "9950bafb-6817-4c71-913e-4e8c80f4f2b4"
    },
    {
      "cell_type": "code",
      "execution_count": 57,
      "metadata": {},
      "outputs": [],
      "source": [
        "np.array(feature_extractor.predict(\"I do not know\")[0]).mean(axis=1)"
      ],
      "id": "38a26d7f-e51a-4990-a11e-7ea7cdb79b81"
    },
    {
      "cell_type": "markdown",
      "metadata": {},
      "source": [
        "### 특징화 2(토큰화한 후 특징 추출)"
      ],
      "id": "de1a5ce1-834a-4a43-97dc-edd7bbb6dfd2"
    },
    {
      "cell_type": "code",
      "execution_count": 25,
      "metadata": {},
      "outputs": [
        {
          "output_type": "stream",
          "name": "stderr",
          "text": [
            "Truncation was not explicitly activated but `max_length` is provided a specific value, please use `truncation=True` to explicitly truncate examples to max length. Defaulting to 'longest_first' truncation strategy. If you encode pairs of sequences (GLUE-style) with the tokenizer you can select this strategy more precisely by providing a specific strategy to `truncation`."
          ]
        }
      ],
      "source": [
        "inputs = tokenizer(text,return_tensors=\"pt\",max_length=9);inputs"
      ],
      "id": "99729ec1-c61d-4215-ae1c-471e797179ba"
    },
    {
      "cell_type": "code",
      "execution_count": 26,
      "metadata": {},
      "outputs": [],
      "source": [
        "len(inputs.input_ids[0]), len(inputs.attention_mask[0])"
      ],
      "id": "d8397645-c64e-4a03-8aeb-35526b0a7886"
    },
    {
      "cell_type": "code",
      "execution_count": 27,
      "metadata": {},
      "outputs": [],
      "source": [
        "inputs[0]"
      ],
      "id": "25770e01-e6e4-4dad-b40f-dd69b444ccf1"
    },
    {
      "cell_type": "code",
      "execution_count": 28,
      "metadata": {},
      "outputs": [],
      "source": [
        "tokenizer.decode(inputs.input_ids[0])"
      ],
      "id": "d5efe3dd-3e77-4b92-843f-a25957314533"
    },
    {
      "cell_type": "markdown",
      "metadata": {},
      "source": [
        "-   특징 추출(outputs\\[0\\]\\[0\\]~outputs\\[0\\]\\[4\\] 까지 존재)"
      ],
      "id": "0b0227bf-3584-455a-b231-c365ae6fedc1"
    },
    {
      "cell_type": "code",
      "execution_count": 29,
      "metadata": {},
      "outputs": [
        {
          "output_type": "stream",
          "name": "stderr",
          "text": [
            "Ignoring args : ('attention_mask',)"
          ]
        },
        {
          "output_type": "display_data",
          "metadata": {},
          "data": {
            "image/png": "[encoded data removed]"
          }
        }
      ],
      "source": [
        "outputs = feature_extractor(*inputs);plt.plot(outputs[0][0])"
      ],
      "id": "9abab761-92a0-4a29-a74c-e41f4db2d26a"
    },
    {
      "cell_type": "code",
      "execution_count": 30,
      "metadata": {},
      "outputs": [],
      "source": [
        "len(outputs[0][0])"
      ],
      "id": "01774365-2729-420d-a4e3-65881296491d"
    },
    {
      "cell_type": "markdown",
      "metadata": {},
      "source": [
        "# Fine-tuning\n",
        "\n",
        "https://github.com/facebookresearch/llama-recipes"
      ],
      "id": "24e214c5-d637-490f-8c18-b53c2e8c64c0"
    }
  ],
  "nbformat": 4,
  "nbformat_minor": 5,
  "metadata": {
    "kernelspec": {
      "name": "python3",
      "display_name": "Python 3",
      "language": "python"
    },
    "language_info": {
      "name": "python",
      "codemirror_mode": {
        "name": "ipython",
        "version": "3"
      },
      "file_extension": ".py",
      "mimetype": "text/x-python",
      "nbconvert_exporter": "python",
      "pygments_lexer": "ipython3",
      "version": "3.8.0"
    }
  }
}
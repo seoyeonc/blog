{
  "cells": [
    {
      "cell_type": "markdown",
      "metadata": {},
      "source": [
        "# TORCH_GEOMETRIC.NN\n",
        "\n",
        "SEOYEON CHOI  \n",
        "12/5/22\n",
        "\n",
        "221207\n",
        "\n",
        "https://pytorch-geometric.readthedocs.io/en/latest/modules/nn.html"
      ],
      "id": "274059a5-a0ac-4e9c-9850-f4c214bd0f4c"
    },
    {
      "cell_type": "code",
      "execution_count": 1,
      "metadata": {},
      "outputs": [],
      "source": [
        "import torch\n",
        "from torch_geometric.data import Data"
      ],
      "id": "769ed657-5514-4b3c-b16d-0fb002b0fb52"
    },
    {
      "cell_type": "code",
      "execution_count": 2,
      "metadata": {},
      "outputs": [],
      "source": [
        "edge_index = torch.tensor([[0, 1, 1, 2],\n",
        "                           [1, 0, 2, 1]], dtype=torch.long)\n",
        "x = torch.tensor([[-1], [0], [1]], dtype=torch.float)\n",
        "data = Data(x=x, edge_index=edge_index)"
      ],
      "id": "e44f5a2d-a68a-43f0-b563-8c61e6ce0be5"
    },
    {
      "cell_type": "code",
      "execution_count": 3,
      "metadata": {},
      "outputs": [],
      "source": [
        "data"
      ],
      "id": "423e11f6-02bb-4949-9a51-44e4eef0b203"
    },
    {
      "cell_type": "code",
      "execution_count": 4,
      "metadata": {},
      "outputs": [],
      "source": [
        "import networkx as nx\n",
        "import matplotlib.pyplot as plt"
      ],
      "id": "3f00292f-c554-4398-9890-4a1caedef446"
    },
    {
      "cell_type": "code",
      "execution_count": 5,
      "metadata": {},
      "outputs": [
        {
          "output_type": "display_data",
          "metadata": {},
          "data": {
            "image/png": "[encoded data removed]"
          }
        }
      ],
      "source": [
        "G=nx.Graph()\n",
        "G.add_node('0')\n",
        "G.add_node('1')\n",
        "G.add_node('2')\n",
        "G.add_edge('0','1')\n",
        "G.add_edge('1','2')\n",
        "pos = {}\n",
        "pos['0'] = (0,0)\n",
        "pos['1'] = (1,1)\n",
        "pos['2'] = (2,0)\n",
        "nx.draw(G,pos,with_labels=True)\n",
        "plt.show()"
      ],
      "id": "75820d28-77b6-4c87-8545-7c1ef6c61605"
    },
    {
      "cell_type": "code",
      "execution_count": 6,
      "metadata": {},
      "outputs": [],
      "source": [
        "from torch.nn import Linear, ReLU\n",
        "from torch_geometric.nn import Sequential, GCNConv"
      ],
      "id": "8217e54e-5dcd-4bce-ba5a-5f86fffc6015"
    },
    {
      "cell_type": "markdown",
      "metadata": {},
      "source": [
        "ex\n",
        "\n",
        "``` python\n",
        "model = Sequential('x, edge_index', [\n",
        "    (GCNConv(in_channels, 64), 'x, edge_index -> x'),\n",
        "    ReLU(inplace=True),\n",
        "    (GCNConv(64, 64), 'x, edge_index -> x'),\n",
        "    ReLU(inplace=True),\n",
        "    Linear(64, out_channels),\n",
        "])\n",
        "```"
      ],
      "id": "7f24cb0b-a263-4592-8570-868e73b0adf7"
    },
    {
      "cell_type": "code",
      "execution_count": 7,
      "metadata": {},
      "outputs": [],
      "source": [
        "model = Sequential('x, edge_index', [\n",
        "    (GCNConv(3, 64), 'x, edge_index -> x'),\n",
        "    ReLU(inplace=True),\n",
        "    (GCNConv(64, 64), 'x, edge_index -> x'),\n",
        "    ReLU(inplace=True),\n",
        "    Linear(64, 3),\n",
        "])"
      ],
      "id": "bf3417d8-9c49-4154-87d0-e0b726f35ad2"
    },
    {
      "cell_type": "code",
      "execution_count": null,
      "metadata": {},
      "outputs": [],
      "source": [
        "model(x,edge_index)"
      ],
      "id": "619a5bc9-d93f-4830-8584-c08f8a15cbb7"
    },
    {
      "cell_type": "code",
      "execution_count": 9,
      "metadata": {},
      "outputs": [],
      "source": [
        "from torch.nn import Linear, ReLU, Dropout\n",
        "from torch_geometric.nn import Sequential, GCNConv, JumpingKnowledge\n",
        "from torch_geometric.nn import global_mean_pool"
      ],
      "id": "27688afc-3730-4bf5-835d-d4f59dd4d22d"
    },
    {
      "cell_type": "markdown",
      "metadata": {},
      "source": [
        "``` python\n",
        "model = Sequential('x, edge_index, batch', [\n",
        "    (Dropout(p=0.5), 'x -> x'),\n",
        "    (GCNConv(dataset.num_features, 64), 'x, edge_index -> x1'),\n",
        "    ReLU(inplace=True),\n",
        "    (GCNConv(64, 64), 'x1, edge_index -> x2'),\n",
        "    ReLU(inplace=True),\n",
        "    (lambda x1, x2: [x1, x2], 'x1, x2 -> xs'),\n",
        "    (JumpingKnowledge(\"cat\", 64, num_layers=2), 'xs -> x'),\n",
        "    (global_mean_pool, 'x, batch -> x'),\n",
        "    Linear(2 * 64, dataset.num_classes),\n",
        "])\n",
        "```"
      ],
      "id": "471831ce-c8b1-49f3-a4d1-6fc38bdcb74e"
    },
    {
      "cell_type": "code",
      "execution_count": null,
      "metadata": {},
      "outputs": [],
      "source": [
        "model = Sequential('x, edge_index, batch', [\n",
        "    (Dropout(p=0.5), 'x -> x'),\n",
        "    (GCNConv(dataset.num_features, 64), 'x, edge_index -> x1'),\n",
        "    ReLU(inplace=True),\n",
        "    (GCNConv(64, 64), 'x1, edge_index -> x2'),\n",
        "    ReLU(inplace=True),\n",
        "    (lambda x1, x2: [x1, x2], 'x1, x2 -> xs'),\n",
        "    (JumpingKnowledge(\"cat\", 64, num_layers=2), 'xs -> x'),\n",
        "    (global_mean_pool, 'x, batch -> x'),\n",
        "    Linear(2 * 64, dataset.num_classes),\n",
        "])"
      ],
      "id": "d714ca33-061a-4a77-9aac-cd5c7e06208a"
    },
    {
      "cell_type": "code",
      "execution_count": null,
      "metadata": {},
      "outputs": [],
      "source": [
        "torch_geometric.nn.Linear()"
      ],
      "id": "ad768d9a-a013-4df1-8106-04c128ac02d2"
    }
  ],
  "nbformat": 4,
  "nbformat_minor": 5,
  "metadata": {
    "kernelspec": {
      "name": "python3",
      "display_name": "Python 3 (ipykernel)",
      "language": "python"
    },
    "language_info": {
      "name": "python",
      "codemirror_mode": {
        "name": "ipython",
        "version": "3"
      },
      "file_extension": ".py",
      "mimetype": "text/x-python",
      "nbconvert_exporter": "python",
      "pygments_lexer": "ipython3",
      "version": "3.8.12"
    }
  }
}
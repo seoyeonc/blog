{
 "cells": [
  {
   "cell_type": "raw",
   "id": "687798dd-c373-49b0-a4c2-b5c9d14dbedc",
   "metadata": {
    "id": "cac470df-29e7-4148-9bbd-d8b9a32fa570",
    "tags": []
   },
   "source": [
    "---\n",
    "title: \"GConvLSTM_Simulation Tables_reshape\"\n",
    "author: \"SEOYEON CHOI\"\n",
    "date: \"2023-05-30\"\n",
    "categories:\n",
    "  - ITSTGCN\n",
    "---"
   ]
  },
  {
   "cell_type": "markdown",
   "id": "2c57a9de-08c3-4218-82e2-234876739bb1",
   "metadata": {
    "tags": []
   },
   "source": [
    "> Simulation Tables"
   ]
  },
  {
   "cell_type": "markdown",
   "id": "ffec7c69-7d8a-460a-b98f-6e31fef545e1",
   "metadata": {},
   "source": [
    "# import"
   ]
  },
  {
   "cell_type": "code",
   "execution_count": 1,
   "id": "2b94623d-9fcc-475e-888b-fab04f70cb53",
   "metadata": {},
   "outputs": [],
   "source": [
    "import pandas as pd"
   ]
  },
  {
   "cell_type": "code",
   "execution_count": 228,
   "id": "3eb9818e-ae88-4ab1-b477-15622f336a9d",
   "metadata": {},
   "outputs": [],
   "source": [
    "data_fivenodes = pd.read_csv('./simulation_results/Real_simulation_reshape/GConvLSTM_fivedones_Simulation.csv')"
   ]
  },
  {
   "cell_type": "code",
   "execution_count": 229,
   "id": "017dcc04-f3c5-44d0-ae40-ec506dbfd630",
   "metadata": {},
   "outputs": [],
   "source": [
    "data_chickenpox = pd.read_csv('./simulation_results/Real_simulation_reshape/GConvLSTM_chikenpox_Simulation.csv')"
   ]
  },
  {
   "cell_type": "code",
   "execution_count": 230,
   "id": "0b711bcf-b2e4-4502-a6ad-a1313f7560fc",
   "metadata": {},
   "outputs": [],
   "source": [
    "data_pedal = pd.read_csv('./simulation_results/Real_simulation_reshape/GConvLSTM_pedalme_Simulation.csv')"
   ]
  },
  {
   "cell_type": "code",
   "execution_count": 231,
   "id": "13bf364d-2d1f-4286-b0df-1b35b21e7105",
   "metadata": {},
   "outputs": [],
   "source": [
    "data_pedal2 = pd.read_csv('./simulation_results/Real_simulation_reshape/GConvLSTM_pedalme_Simulation_itstgcnsnd.csv')"
   ]
  },
  {
   "cell_type": "code",
   "execution_count": 232,
   "id": "bb0a52c3-a3ea-4d2d-9da3-e607195c9066",
   "metadata": {},
   "outputs": [],
   "source": [
    "data__wiki = pd.read_csv('./simulation_results/Real_simulation_reshape/GConvLSTM_wikimath.csv')"
   ]
  },
  {
   "cell_type": "code",
   "execution_count": 233,
   "id": "7322674b-592f-428b-8b70-93a3ffd2802d",
   "metadata": {},
   "outputs": [],
   "source": [
    "data_wiki_GSO = pd.read_csv('./simulation_results/Real_simulation_reshape/GConvLSTM_wikimath_GSO_st.csv')"
   ]
  },
  {
   "cell_type": "code",
   "execution_count": null,
   "id": "d5aef84f-e4fc-4735-b966-73ff530ae56b",
   "metadata": {},
   "outputs": [],
   "source": [
    "data_windmillsmall = pd.read_csv('./simulation_results/Real_simulation_reshape/GConvLSTM_windmillsmall.csv')"
   ]
  },
  {
   "cell_type": "code",
   "execution_count": 234,
   "id": "59532f6b-12df-4cea-9edb-101aedc988a7",
   "metadata": {},
   "outputs": [],
   "source": [
    "data_monte = pd.read_csv('./simulation_results/Real_simulation_reshape/GConvLSTM_monte.csv')"
   ]
  },
  {
   "cell_type": "code",
   "execution_count": null,
   "id": "6fe62078-eeb6-419c-a91e-cca745e7877b",
   "metadata": {},
   "outputs": [
    {
     "data": {
      "text/html": [
       "<div>\n",
       "<style scoped>\n",
       "    .dataframe tbody tr th:only-of-type {\n",
       "        vertical-align: middle;\n",
       "    }\n",
       "\n",
       "    .dataframe tbody tr th {\n",
       "        vertical-align: top;\n",
       "    }\n",
       "\n",
       "    .dataframe thead th {\n",
       "        text-align: right;\n",
       "    }\n",
       "</style>\n",
       "<table border=\"1\" class=\"dataframe\">\n",
       "  <thead>\n",
       "    <tr style=\"text-align: right;\">\n",
       "      <th></th>\n",
       "      <th>dataset</th>\n",
       "      <th>method</th>\n",
       "      <th>mrate</th>\n",
       "      <th>mtype</th>\n",
       "      <th>lags</th>\n",
       "      <th>nof_filters</th>\n",
       "      <th>inter_method</th>\n",
       "      <th>epoch</th>\n",
       "      <th>mse</th>\n",
       "      <th>calculation_time</th>\n",
       "    </tr>\n",
       "  </thead>\n",
       "  <tbody>\n",
       "    <tr>\n",
       "      <th>0</th>\n",
       "      <td>fivenodes</td>\n",
       "      <td>STGCN</td>\n",
       "      <td>0.800000</td>\n",
       "      <td>rand</td>\n",
       "      <td>2</td>\n",
       "      <td>12</td>\n",
       "      <td>linear</td>\n",
       "      <td>5</td>\n",
       "      <td>1.318918</td>\n",
       "      <td>5.152497</td>\n",
       "    </tr>\n",
       "    <tr>\n",
       "      <th>1</th>\n",
       "      <td>fivenodes</td>\n",
       "      <td>STGCN</td>\n",
       "      <td>0.800000</td>\n",
       "      <td>rand</td>\n",
       "      <td>2</td>\n",
       "      <td>12</td>\n",
       "      <td>nearest</td>\n",
       "      <td>5</td>\n",
       "      <td>1.338384</td>\n",
       "      <td>5.266702</td>\n",
       "    </tr>\n",
       "    <tr>\n",
       "      <th>2</th>\n",
       "      <td>fivenodes</td>\n",
       "      <td>IT-STGCN</td>\n",
       "      <td>0.800000</td>\n",
       "      <td>rand</td>\n",
       "      <td>2</td>\n",
       "      <td>12</td>\n",
       "      <td>linear</td>\n",
       "      <td>5</td>\n",
       "      <td>1.243476</td>\n",
       "      <td>5.745141</td>\n",
       "    </tr>\n",
       "    <tr>\n",
       "      <th>3</th>\n",
       "      <td>fivenodes</td>\n",
       "      <td>IT-STGCN</td>\n",
       "      <td>0.800000</td>\n",
       "      <td>rand</td>\n",
       "      <td>2</td>\n",
       "      <td>12</td>\n",
       "      <td>nearest</td>\n",
       "      <td>5</td>\n",
       "      <td>1.240016</td>\n",
       "      <td>5.647362</td>\n",
       "    </tr>\n",
       "    <tr>\n",
       "      <th>4</th>\n",
       "      <td>fivenodes</td>\n",
       "      <td>STGCN</td>\n",
       "      <td>0.800000</td>\n",
       "      <td>rand</td>\n",
       "      <td>2</td>\n",
       "      <td>12</td>\n",
       "      <td>linear</td>\n",
       "      <td>5</td>\n",
       "      <td>1.271483</td>\n",
       "      <td>5.329065</td>\n",
       "    </tr>\n",
       "    <tr>\n",
       "      <th>...</th>\n",
       "      <td>...</td>\n",
       "      <td>...</td>\n",
       "      <td>...</td>\n",
       "      <td>...</td>\n",
       "      <td>...</td>\n",
       "      <td>...</td>\n",
       "      <td>...</td>\n",
       "      <td>...</td>\n",
       "      <td>...</td>\n",
       "      <td>...</td>\n",
       "    </tr>\n",
       "    <tr>\n",
       "      <th>205</th>\n",
       "      <td>monte</td>\n",
       "      <td>IT-STGCN</td>\n",
       "      <td>0.149142</td>\n",
       "      <td>block</td>\n",
       "      <td>4</td>\n",
       "      <td>12</td>\n",
       "      <td>nearest</td>\n",
       "      <td>50</td>\n",
       "      <td>0.950054</td>\n",
       "      <td>413.728295</td>\n",
       "    </tr>\n",
       "    <tr>\n",
       "      <th>206</th>\n",
       "      <td>monte</td>\n",
       "      <td>STGCN</td>\n",
       "      <td>0.149142</td>\n",
       "      <td>block</td>\n",
       "      <td>4</td>\n",
       "      <td>12</td>\n",
       "      <td>nearest</td>\n",
       "      <td>50</td>\n",
       "      <td>0.956801</td>\n",
       "      <td>305.512810</td>\n",
       "    </tr>\n",
       "    <tr>\n",
       "      <th>207</th>\n",
       "      <td>monte</td>\n",
       "      <td>IT-STGCN</td>\n",
       "      <td>0.149142</td>\n",
       "      <td>block</td>\n",
       "      <td>4</td>\n",
       "      <td>12</td>\n",
       "      <td>nearest</td>\n",
       "      <td>50</td>\n",
       "      <td>0.953905</td>\n",
       "      <td>373.807169</td>\n",
       "    </tr>\n",
       "    <tr>\n",
       "      <th>208</th>\n",
       "      <td>monte</td>\n",
       "      <td>STGCN</td>\n",
       "      <td>0.149142</td>\n",
       "      <td>block</td>\n",
       "      <td>4</td>\n",
       "      <td>12</td>\n",
       "      <td>nearest</td>\n",
       "      <td>50</td>\n",
       "      <td>0.971183</td>\n",
       "      <td>326.134685</td>\n",
       "    </tr>\n",
       "    <tr>\n",
       "      <th>209</th>\n",
       "      <td>monte</td>\n",
       "      <td>IT-STGCN</td>\n",
       "      <td>0.149142</td>\n",
       "      <td>block</td>\n",
       "      <td>4</td>\n",
       "      <td>12</td>\n",
       "      <td>nearest</td>\n",
       "      <td>50</td>\n",
       "      <td>0.955886</td>\n",
       "      <td>366.327973</td>\n",
       "    </tr>\n",
       "  </tbody>\n",
       "</table>\n",
       "<p>1740 rows × 10 columns</p>\n",
       "</div>"
      ],
      "text/plain": [
       "       dataset    method     mrate  mtype  lags  nof_filters inter_method  \\\n",
       "0    fivenodes     STGCN  0.800000   rand     2           12       linear   \n",
       "1    fivenodes     STGCN  0.800000   rand     2           12      nearest   \n",
       "2    fivenodes  IT-STGCN  0.800000   rand     2           12       linear   \n",
       "3    fivenodes  IT-STGCN  0.800000   rand     2           12      nearest   \n",
       "4    fivenodes     STGCN  0.800000   rand     2           12       linear   \n",
       "..         ...       ...       ...    ...   ...          ...          ...   \n",
       "205      monte  IT-STGCN  0.149142  block     4           12      nearest   \n",
       "206      monte     STGCN  0.149142  block     4           12      nearest   \n",
       "207      monte  IT-STGCN  0.149142  block     4           12      nearest   \n",
       "208      monte     STGCN  0.149142  block     4           12      nearest   \n",
       "209      monte  IT-STGCN  0.149142  block     4           12      nearest   \n",
       "\n",
       "     epoch       mse  calculation_time  \n",
       "0        5  1.318918          5.152497  \n",
       "1        5  1.338384          5.266702  \n",
       "2        5  1.243476          5.745141  \n",
       "3        5  1.240016          5.647362  \n",
       "4        5  1.271483          5.329065  \n",
       "..     ...       ...               ...  \n",
       "205     50  0.950054        413.728295  \n",
       "206     50  0.956801        305.512810  \n",
       "207     50  0.953905        373.807169  \n",
       "208     50  0.971183        326.134685  \n",
       "209     50  0.955886        366.327973  \n",
       "\n",
       "[1740 rows x 10 columns]"
      ]
     },
     "execution_count": 235,
     "metadata": {},
     "output_type": "execute_result"
    }
   ],
   "source": [
    "data = pd.concat([data_fivenodes,data_chickenpox,data_pedal,data__wiki,data_windmillsmall,data_monte]);data"
   ]
  },
  {
   "cell_type": "markdown",
   "id": "938a1646-d52d-48c5-bd19-27cb7593b9f8",
   "metadata": {
    "tags": []
   },
   "source": [
    "# Fivenodes"
   ]
  },
  {
   "cell_type": "markdown",
   "id": "2cd2994e-1510-4cdf-b07a-8d0d50d55b38",
   "metadata": {},
   "source": [
    "## Baseline"
   ]
  },
  {
   "cell_type": "code",
   "execution_count": 204,
   "id": "156e2353-5ee1-4cf9-ada3-161447f901fa",
   "metadata": {},
   "outputs": [
    {
     "data": {
      "text/html": [
       "<div>\n",
       "<style scoped>\n",
       "    .dataframe tbody tr th:only-of-type {\n",
       "        vertical-align: middle;\n",
       "    }\n",
       "\n",
       "    .dataframe tbody tr th {\n",
       "        vertical-align: top;\n",
       "    }\n",
       "\n",
       "    .dataframe thead th {\n",
       "        text-align: right;\n",
       "    }\n",
       "</style>\n",
       "<table border=\"1\" class=\"dataframe\">\n",
       "  <thead>\n",
       "    <tr style=\"text-align: right;\">\n",
       "      <th></th>\n",
       "      <th>nof_filters</th>\n",
       "      <th>method</th>\n",
       "      <th>lags</th>\n",
       "      <th>mean</th>\n",
       "      <th>std</th>\n",
       "    </tr>\n",
       "  </thead>\n",
       "  <tbody>\n",
       "    <tr>\n",
       "      <th>0</th>\n",
       "      <td>12</td>\n",
       "      <td>IT-STGCN</td>\n",
       "      <td>2</td>\n",
       "      <td>1.281</td>\n",
       "      <td>0.046</td>\n",
       "    </tr>\n",
       "    <tr>\n",
       "      <th>1</th>\n",
       "      <td>12</td>\n",
       "      <td>STGCN</td>\n",
       "      <td>2</td>\n",
       "      <td>1.277</td>\n",
       "      <td>0.036</td>\n",
       "    </tr>\n",
       "  </tbody>\n",
       "</table>\n",
       "</div>"
      ],
      "text/plain": [
       "   nof_filters    method  lags   mean    std\n",
       "0           12  IT-STGCN     2  1.281  0.046\n",
       "1           12     STGCN     2  1.277  0.036"
      ]
     },
     "execution_count": 204,
     "metadata": {},
     "output_type": "execute_result"
    }
   ],
   "source": [
    "pd.merge(data.query(\"dataset=='fivenodes' and mtype!='rand' and mtype!='block'\").groupby(['nof_filters','method','lags'])['mse'].mean().reset_index(),\n",
    "         data.query(\"dataset=='fivenodes' and mtype!='rand' and mtype!='block'\").groupby(['nof_filters','method','lags'])['mse'].std().reset_index(),\n",
    "         on=['method','nof_filters','lags']).rename(columns={'mse_x':'mean','mse_y':'std'}).round(3)"
   ]
  },
  {
   "cell_type": "markdown",
   "id": "753413f0-1b30-4efe-98b6-9149ea65975e",
   "metadata": {},
   "source": [
    "## Random"
   ]
  },
  {
   "cell_type": "code",
   "execution_count": 205,
   "id": "8eaefdd1-eabe-4452-97e9-2c79d3e510fa",
   "metadata": {},
   "outputs": [
    {
     "data": {
      "text/html": [
       "<div>\n",
       "<style scoped>\n",
       "    .dataframe tbody tr th:only-of-type {\n",
       "        vertical-align: middle;\n",
       "    }\n",
       "\n",
       "    .dataframe tbody tr th {\n",
       "        vertical-align: top;\n",
       "    }\n",
       "\n",
       "    .dataframe thead th {\n",
       "        text-align: right;\n",
       "    }\n",
       "</style>\n",
       "<table border=\"1\" class=\"dataframe\">\n",
       "  <thead>\n",
       "    <tr style=\"text-align: right;\">\n",
       "      <th></th>\n",
       "      <th>mrate</th>\n",
       "      <th>nof_filters</th>\n",
       "      <th>method</th>\n",
       "      <th>lags</th>\n",
       "      <th>mean</th>\n",
       "      <th>std</th>\n",
       "    </tr>\n",
       "  </thead>\n",
       "  <tbody>\n",
       "    <tr>\n",
       "      <th>0</th>\n",
       "      <td>0.7</td>\n",
       "      <td>12</td>\n",
       "      <td>IT-STGCN</td>\n",
       "      <td>2</td>\n",
       "      <td>1.288</td>\n",
       "      <td>0.045</td>\n",
       "    </tr>\n",
       "    <tr>\n",
       "      <th>1</th>\n",
       "      <td>0.7</td>\n",
       "      <td>12</td>\n",
       "      <td>STGCN</td>\n",
       "      <td>2</td>\n",
       "      <td>1.278</td>\n",
       "      <td>0.041</td>\n",
       "    </tr>\n",
       "    <tr>\n",
       "      <th>2</th>\n",
       "      <td>0.8</td>\n",
       "      <td>12</td>\n",
       "      <td>IT-STGCN</td>\n",
       "      <td>2</td>\n",
       "      <td>1.288</td>\n",
       "      <td>0.044</td>\n",
       "    </tr>\n",
       "    <tr>\n",
       "      <th>3</th>\n",
       "      <td>0.8</td>\n",
       "      <td>12</td>\n",
       "      <td>STGCN</td>\n",
       "      <td>2</td>\n",
       "      <td>1.288</td>\n",
       "      <td>0.049</td>\n",
       "    </tr>\n",
       "  </tbody>\n",
       "</table>\n",
       "</div>"
      ],
      "text/plain": [
       "   mrate  nof_filters    method  lags   mean    std\n",
       "0    0.7           12  IT-STGCN     2  1.288  0.045\n",
       "1    0.7           12     STGCN     2  1.278  0.041\n",
       "2    0.8           12  IT-STGCN     2  1.288  0.044\n",
       "3    0.8           12     STGCN     2  1.288  0.049"
      ]
     },
     "execution_count": 205,
     "metadata": {},
     "output_type": "execute_result"
    }
   ],
   "source": [
    "pd.merge(data.query(\"dataset=='fivenodes' and mtype=='rand'\").groupby(['mrate','nof_filters','method','lags'])['mse'].mean().reset_index(),\n",
    "         data.query(\"dataset=='fivenodes' and mtype=='rand'\").groupby(['mrate','nof_filters','method','lags'])['mse'].std().reset_index(),\n",
    "         on=['method','nof_filters','mrate','lags']).rename(columns={'mse_x':'mean','mse_y':'std'}).round(3).query(\"nof_filters==12\")"
   ]
  },
  {
   "cell_type": "markdown",
   "id": "71261a14-74a1-4050-b063-91a46c649010",
   "metadata": {},
   "source": [
    "## Block"
   ]
  },
  {
   "cell_type": "code",
   "execution_count": 206,
   "id": "6f2c31a3-2d9c-487c-a43e-9c49657f2586",
   "metadata": {},
   "outputs": [
    {
     "data": {
      "text/html": [
       "<div>\n",
       "<style scoped>\n",
       "    .dataframe tbody tr th:only-of-type {\n",
       "        vertical-align: middle;\n",
       "    }\n",
       "\n",
       "    .dataframe tbody tr th {\n",
       "        vertical-align: top;\n",
       "    }\n",
       "\n",
       "    .dataframe thead th {\n",
       "        text-align: right;\n",
       "    }\n",
       "</style>\n",
       "<table border=\"1\" class=\"dataframe\">\n",
       "  <thead>\n",
       "    <tr style=\"text-align: right;\">\n",
       "      <th></th>\n",
       "      <th>mrate</th>\n",
       "      <th>nof_filters</th>\n",
       "      <th>method</th>\n",
       "      <th>mean</th>\n",
       "      <th>std</th>\n",
       "    </tr>\n",
       "  </thead>\n",
       "  <tbody>\n",
       "    <tr>\n",
       "      <th>0</th>\n",
       "      <td>0.012</td>\n",
       "      <td>12</td>\n",
       "      <td>IT-STGCN</td>\n",
       "      <td>0.862</td>\n",
       "      <td>0.051</td>\n",
       "    </tr>\n",
       "    <tr>\n",
       "      <th>1</th>\n",
       "      <td>0.012</td>\n",
       "      <td>12</td>\n",
       "      <td>STGCN</td>\n",
       "      <td>0.862</td>\n",
       "      <td>0.043</td>\n",
       "    </tr>\n",
       "  </tbody>\n",
       "</table>\n",
       "</div>"
      ],
      "text/plain": [
       "   mrate  nof_filters    method   mean    std\n",
       "0  0.012           12  IT-STGCN  0.862  0.051\n",
       "1  0.012           12     STGCN  0.862  0.043"
      ]
     },
     "execution_count": 206,
     "metadata": {},
     "output_type": "execute_result"
    }
   ],
   "source": [
    "pd.merge(data.query(\"dataset=='fivenodes' and mtype=='block'\").groupby(['mrate','nof_filters','method'])['mse'].mean().reset_index(),\n",
    "         data.query(\"dataset=='fivenodes' and mtype=='block'\").groupby(['mrate','nof_filters','method'])['mse'].std().reset_index(),\n",
    "         on=['method','nof_filters','mrate']).rename(columns={'mse_x':'mean','mse_y':'std'}).round(3)"
   ]
  },
  {
   "cell_type": "markdown",
   "id": "4c94ed76-1825-417a-8c8f-0020ce464dcc",
   "metadata": {},
   "source": [
    "# ChickenpoxDatasetLoader(lags=4)"
   ]
  },
  {
   "cell_type": "markdown",
   "id": "bd047f57-044e-48b3-a1be-9be472c7ee83",
   "metadata": {},
   "source": [
    "## Baseline"
   ]
  },
  {
   "cell_type": "code",
   "execution_count": 207,
   "id": "bb9e8543-d7f7-4024-b5dd-38309dcbcedf",
   "metadata": {},
   "outputs": [
    {
     "data": {
      "text/html": [
       "<div>\n",
       "<style scoped>\n",
       "    .dataframe tbody tr th:only-of-type {\n",
       "        vertical-align: middle;\n",
       "    }\n",
       "\n",
       "    .dataframe tbody tr th {\n",
       "        vertical-align: top;\n",
       "    }\n",
       "\n",
       "    .dataframe thead th {\n",
       "        text-align: right;\n",
       "    }\n",
       "</style>\n",
       "<table border=\"1\" class=\"dataframe\">\n",
       "  <thead>\n",
       "    <tr style=\"text-align: right;\">\n",
       "      <th></th>\n",
       "      <th>nof_filters</th>\n",
       "      <th>method</th>\n",
       "      <th>mean</th>\n",
       "      <th>std</th>\n",
       "    </tr>\n",
       "  </thead>\n",
       "  <tbody>\n",
       "    <tr>\n",
       "      <th>0</th>\n",
       "      <td>16</td>\n",
       "      <td>IT-STGCN</td>\n",
       "      <td>0.880</td>\n",
       "      <td>0.041</td>\n",
       "    </tr>\n",
       "    <tr>\n",
       "      <th>1</th>\n",
       "      <td>16</td>\n",
       "      <td>STGCN</td>\n",
       "      <td>0.872</td>\n",
       "      <td>0.051</td>\n",
       "    </tr>\n",
       "  </tbody>\n",
       "</table>\n",
       "</div>"
      ],
      "text/plain": [
       "   nof_filters    method   mean    std\n",
       "0           16  IT-STGCN  0.880  0.041\n",
       "1           16     STGCN  0.872  0.051"
      ]
     },
     "execution_count": 207,
     "metadata": {},
     "output_type": "execute_result"
    }
   ],
   "source": [
    "pd.merge(data.query(\"dataset=='chickenpox' and mtype!='rand' and mtype!='block'\").groupby(['nof_filters','method'])['mse'].mean().reset_index(),\n",
    "         data.query(\"dataset=='chickenpox' and mtype!='rand' and mtype!='block'\").groupby(['nof_filters','method'])['mse'].std().reset_index(),\n",
    "         on=['method','nof_filters']).rename(columns={'mse_x':'mean','mse_y':'std'}).round(3).query(\"nof_filters==16\")"
   ]
  },
  {
   "cell_type": "markdown",
   "id": "9f9ccd59-7b8b-441c-94da-36153f45fbc2",
   "metadata": {},
   "source": [
    "## Random"
   ]
  },
  {
   "cell_type": "code",
   "execution_count": 208,
   "id": "c57cc44c-dce2-436d-8d3e-2527ecfc2556",
   "metadata": {},
   "outputs": [
    {
     "data": {
      "text/html": [
       "<div>\n",
       "<style scoped>\n",
       "    .dataframe tbody tr th:only-of-type {\n",
       "        vertical-align: middle;\n",
       "    }\n",
       "\n",
       "    .dataframe tbody tr th {\n",
       "        vertical-align: top;\n",
       "    }\n",
       "\n",
       "    .dataframe thead th {\n",
       "        text-align: right;\n",
       "    }\n",
       "</style>\n",
       "<table border=\"1\" class=\"dataframe\">\n",
       "  <thead>\n",
       "    <tr style=\"text-align: right;\">\n",
       "      <th></th>\n",
       "      <th>mrate</th>\n",
       "      <th>inter_method</th>\n",
       "      <th>nof_filters</th>\n",
       "      <th>method</th>\n",
       "      <th>mean</th>\n",
       "      <th>std</th>\n",
       "    </tr>\n",
       "  </thead>\n",
       "  <tbody>\n",
       "    <tr>\n",
       "      <th>0</th>\n",
       "      <td>0.3</td>\n",
       "      <td>linear</td>\n",
       "      <td>16</td>\n",
       "      <td>IT-STGCN</td>\n",
       "      <td>1.076</td>\n",
       "      <td>0.038</td>\n",
       "    </tr>\n",
       "    <tr>\n",
       "      <th>1</th>\n",
       "      <td>0.3</td>\n",
       "      <td>linear</td>\n",
       "      <td>16</td>\n",
       "      <td>STGCN</td>\n",
       "      <td>1.059</td>\n",
       "      <td>0.037</td>\n",
       "    </tr>\n",
       "    <tr>\n",
       "      <th>2</th>\n",
       "      <td>0.8</td>\n",
       "      <td>linear</td>\n",
       "      <td>16</td>\n",
       "      <td>IT-STGCN</td>\n",
       "      <td>2.180</td>\n",
       "      <td>0.182</td>\n",
       "    </tr>\n",
       "    <tr>\n",
       "      <th>3</th>\n",
       "      <td>0.8</td>\n",
       "      <td>linear</td>\n",
       "      <td>16</td>\n",
       "      <td>STGCN</td>\n",
       "      <td>2.195</td>\n",
       "      <td>0.165</td>\n",
       "    </tr>\n",
       "  </tbody>\n",
       "</table>\n",
       "</div>"
      ],
      "text/plain": [
       "   mrate inter_method  nof_filters    method   mean    std\n",
       "0    0.3       linear           16  IT-STGCN  1.076  0.038\n",
       "1    0.3       linear           16     STGCN  1.059  0.037\n",
       "2    0.8       linear           16  IT-STGCN  2.180  0.182\n",
       "3    0.8       linear           16     STGCN  2.195  0.165"
      ]
     },
     "execution_count": 208,
     "metadata": {},
     "output_type": "execute_result"
    }
   ],
   "source": [
    "pd.merge(data.query(\"dataset=='chickenpox' and mtype=='rand'\").groupby(['mrate','inter_method','nof_filters','method'])['mse'].mean().reset_index(),\n",
    "         data.query(\"dataset=='chickenpox' and mtype=='rand'\").groupby(['mrate','inter_method','nof_filters','method'])['mse'].std().reset_index(),\n",
    "         on=['method','inter_method','mrate','nof_filters']).rename(columns={'mse_x':'mean','mse_y':'std'}).round(3)"
   ]
  },
  {
   "cell_type": "markdown",
   "id": "1b80894b-356c-4627-92c9-7b8bf3b19a04",
   "metadata": {},
   "source": [
    "## Block"
   ]
  },
  {
   "cell_type": "code",
   "execution_count": 209,
   "id": "4f347949-8d0a-4074-aa3c-1c73e94c1c34",
   "metadata": {},
   "outputs": [
    {
     "data": {
      "text/html": [
       "<div>\n",
       "<style scoped>\n",
       "    .dataframe tbody tr th:only-of-type {\n",
       "        vertical-align: middle;\n",
       "    }\n",
       "\n",
       "    .dataframe tbody tr th {\n",
       "        vertical-align: top;\n",
       "    }\n",
       "\n",
       "    .dataframe thead th {\n",
       "        text-align: right;\n",
       "    }\n",
       "</style>\n",
       "<table border=\"1\" class=\"dataframe\">\n",
       "  <thead>\n",
       "    <tr style=\"text-align: right;\">\n",
       "      <th></th>\n",
       "      <th>inter_method</th>\n",
       "      <th>mrate</th>\n",
       "      <th>nof_filters</th>\n",
       "      <th>method</th>\n",
       "      <th>mean</th>\n",
       "      <th>std</th>\n",
       "    </tr>\n",
       "  </thead>\n",
       "  <tbody>\n",
       "    <tr>\n",
       "      <th>0</th>\n",
       "      <td>linear</td>\n",
       "      <td>0.28777</td>\n",
       "      <td>16</td>\n",
       "      <td>IT-STGCN</td>\n",
       "      <td>0.878286</td>\n",
       "      <td>0.035118</td>\n",
       "    </tr>\n",
       "    <tr>\n",
       "      <th>1</th>\n",
       "      <td>linear</td>\n",
       "      <td>0.28777</td>\n",
       "      <td>16</td>\n",
       "      <td>STGCN</td>\n",
       "      <td>0.884183</td>\n",
       "      <td>0.038562</td>\n",
       "    </tr>\n",
       "    <tr>\n",
       "      <th>2</th>\n",
       "      <td>nearest</td>\n",
       "      <td>0.28777</td>\n",
       "      <td>16</td>\n",
       "      <td>IT-STGCN</td>\n",
       "      <td>0.892323</td>\n",
       "      <td>0.037233</td>\n",
       "    </tr>\n",
       "    <tr>\n",
       "      <th>3</th>\n",
       "      <td>nearest</td>\n",
       "      <td>0.28777</td>\n",
       "      <td>16</td>\n",
       "      <td>STGCN</td>\n",
       "      <td>0.891607</td>\n",
       "      <td>0.040933</td>\n",
       "    </tr>\n",
       "  </tbody>\n",
       "</table>\n",
       "</div>"
      ],
      "text/plain": [
       "  inter_method    mrate  nof_filters    method      mean       std\n",
       "0       linear  0.28777           16  IT-STGCN  0.878286  0.035118\n",
       "1       linear  0.28777           16     STGCN  0.884183  0.038562\n",
       "2      nearest  0.28777           16  IT-STGCN  0.892323  0.037233\n",
       "3      nearest  0.28777           16     STGCN  0.891607  0.040933"
      ]
     },
     "execution_count": 209,
     "metadata": {},
     "output_type": "execute_result"
    }
   ],
   "source": [
    "pd.merge(data.query(\"dataset=='chickenpox' and mtype=='block'\").groupby(['inter_method','mrate','nof_filters','method'])['mse'].mean().reset_index(),\n",
    "         data.query(\"dataset=='chickenpox' and mtype=='block'\").groupby(['inter_method','mrate','nof_filters','method'])['mse'].std().reset_index(),\n",
    "         on=['method','inter_method','mrate','nof_filters']).rename(columns={'mse_x':'mean','mse_y':'std'})"
   ]
  },
  {
   "cell_type": "markdown",
   "id": "33dfc1e5-ec10-4b12-b561-71bc36edfcbe",
   "metadata": {},
   "source": [
    "# PedalMeDatasetLoader (lags=4)"
   ]
  },
  {
   "cell_type": "markdown",
   "id": "0286bfba-94aa-40d6-b478-42e405564961",
   "metadata": {},
   "source": [
    "## Baseline"
   ]
  },
  {
   "cell_type": "code",
   "execution_count": 210,
   "id": "a300e109-1780-49c1-a4e7-c2e97f89f62d",
   "metadata": {},
   "outputs": [
    {
     "data": {
      "text/html": [
       "<div>\n",
       "<style scoped>\n",
       "    .dataframe tbody tr th:only-of-type {\n",
       "        vertical-align: middle;\n",
       "    }\n",
       "\n",
       "    .dataframe tbody tr th {\n",
       "        vertical-align: top;\n",
       "    }\n",
       "\n",
       "    .dataframe thead th {\n",
       "        text-align: right;\n",
       "    }\n",
       "</style>\n",
       "<table border=\"1\" class=\"dataframe\">\n",
       "  <thead>\n",
       "    <tr style=\"text-align: right;\">\n",
       "      <th></th>\n",
       "      <th>lags</th>\n",
       "      <th>nof_filters</th>\n",
       "      <th>method</th>\n",
       "      <th>mean</th>\n",
       "      <th>std</th>\n",
       "    </tr>\n",
       "  </thead>\n",
       "  <tbody>\n",
       "    <tr>\n",
       "      <th>0</th>\n",
       "      <td>4</td>\n",
       "      <td>12</td>\n",
       "      <td>IT-STGCN</td>\n",
       "      <td>1.231</td>\n",
       "      <td>0.052</td>\n",
       "    </tr>\n",
       "    <tr>\n",
       "      <th>1</th>\n",
       "      <td>4</td>\n",
       "      <td>12</td>\n",
       "      <td>STGCN</td>\n",
       "      <td>1.217</td>\n",
       "      <td>0.057</td>\n",
       "    </tr>\n",
       "  </tbody>\n",
       "</table>\n",
       "</div>"
      ],
      "text/plain": [
       "   lags  nof_filters    method   mean    std\n",
       "0     4           12  IT-STGCN  1.231  0.052\n",
       "1     4           12     STGCN  1.217  0.057"
      ]
     },
     "execution_count": 210,
     "metadata": {},
     "output_type": "execute_result"
    }
   ],
   "source": [
    "pd.merge(data.query(\"dataset=='pedalme' and mtype!='rand' and mtype!='block'\").groupby(['lags','nof_filters','method'])['mse'].mean().reset_index(),\n",
    "         data.query(\"dataset=='pedalme' and mtype!='rand' and mtype!='block'\").groupby(['lags','nof_filters','method'])['mse'].std().reset_index(),\n",
    "         on=['method','lags','nof_filters']).rename(columns={'mse_x':'mean','mse_y':'std'}).round(3).query(\"lags==4\")"
   ]
  },
  {
   "cell_type": "markdown",
   "id": "c15ae2f3-11d9-4dad-9c52-0a73612f0237",
   "metadata": {},
   "source": [
    "## Random"
   ]
  },
  {
   "cell_type": "code",
   "execution_count": 211,
   "id": "4d2b77ef-5564-4992-8169-b5ed790d199e",
   "metadata": {},
   "outputs": [
    {
     "data": {
      "text/html": [
       "<div>\n",
       "<style scoped>\n",
       "    .dataframe tbody tr th:only-of-type {\n",
       "        vertical-align: middle;\n",
       "    }\n",
       "\n",
       "    .dataframe tbody tr th {\n",
       "        vertical-align: top;\n",
       "    }\n",
       "\n",
       "    .dataframe thead th {\n",
       "        text-align: right;\n",
       "    }\n",
       "</style>\n",
       "<table border=\"1\" class=\"dataframe\">\n",
       "  <thead>\n",
       "    <tr style=\"text-align: right;\">\n",
       "      <th></th>\n",
       "      <th>mrate</th>\n",
       "      <th>lags</th>\n",
       "      <th>inter_method</th>\n",
       "      <th>method</th>\n",
       "      <th>mean</th>\n",
       "      <th>std</th>\n",
       "    </tr>\n",
       "  </thead>\n",
       "  <tbody>\n",
       "    <tr>\n",
       "      <th>0</th>\n",
       "      <td>0.3</td>\n",
       "      <td>4</td>\n",
       "      <td>linear</td>\n",
       "      <td>IT-STGCN</td>\n",
       "      <td>1.318</td>\n",
       "      <td>0.089</td>\n",
       "    </tr>\n",
       "    <tr>\n",
       "      <th>1</th>\n",
       "      <td>0.3</td>\n",
       "      <td>4</td>\n",
       "      <td>linear</td>\n",
       "      <td>STGCN</td>\n",
       "      <td>1.323</td>\n",
       "      <td>0.086</td>\n",
       "    </tr>\n",
       "    <tr>\n",
       "      <th>2</th>\n",
       "      <td>0.3</td>\n",
       "      <td>4</td>\n",
       "      <td>nearest</td>\n",
       "      <td>IT-STGCN</td>\n",
       "      <td>1.289</td>\n",
       "      <td>0.064</td>\n",
       "    </tr>\n",
       "    <tr>\n",
       "      <th>3</th>\n",
       "      <td>0.3</td>\n",
       "      <td>4</td>\n",
       "      <td>nearest</td>\n",
       "      <td>STGCN</td>\n",
       "      <td>1.305</td>\n",
       "      <td>0.063</td>\n",
       "    </tr>\n",
       "    <tr>\n",
       "      <th>4</th>\n",
       "      <td>0.6</td>\n",
       "      <td>4</td>\n",
       "      <td>linear</td>\n",
       "      <td>IT-STGCN</td>\n",
       "      <td>1.504</td>\n",
       "      <td>0.080</td>\n",
       "    </tr>\n",
       "    <tr>\n",
       "      <th>5</th>\n",
       "      <td>0.6</td>\n",
       "      <td>4</td>\n",
       "      <td>linear</td>\n",
       "      <td>STGCN</td>\n",
       "      <td>1.523</td>\n",
       "      <td>0.083</td>\n",
       "    </tr>\n",
       "    <tr>\n",
       "      <th>6</th>\n",
       "      <td>0.6</td>\n",
       "      <td>4</td>\n",
       "      <td>nearest</td>\n",
       "      <td>IT-STGCN</td>\n",
       "      <td>1.526</td>\n",
       "      <td>0.073</td>\n",
       "    </tr>\n",
       "    <tr>\n",
       "      <th>7</th>\n",
       "      <td>0.6</td>\n",
       "      <td>4</td>\n",
       "      <td>nearest</td>\n",
       "      <td>STGCN</td>\n",
       "      <td>1.518</td>\n",
       "      <td>0.092</td>\n",
       "    </tr>\n",
       "  </tbody>\n",
       "</table>\n",
       "</div>"
      ],
      "text/plain": [
       "   mrate  lags inter_method    method   mean    std\n",
       "0    0.3     4       linear  IT-STGCN  1.318  0.089\n",
       "1    0.3     4       linear     STGCN  1.323  0.086\n",
       "2    0.3     4      nearest  IT-STGCN  1.289  0.064\n",
       "3    0.3     4      nearest     STGCN  1.305  0.063\n",
       "4    0.6     4       linear  IT-STGCN  1.504  0.080\n",
       "5    0.6     4       linear     STGCN  1.523  0.083\n",
       "6    0.6     4      nearest  IT-STGCN  1.526  0.073\n",
       "7    0.6     4      nearest     STGCN  1.518  0.092"
      ]
     },
     "execution_count": 211,
     "metadata": {},
     "output_type": "execute_result"
    }
   ],
   "source": [
    "pd.merge(data.query(\"dataset=='pedalme' and mtype=='rand'\").groupby(['mrate','lags','inter_method','method'])['mse'].mean().reset_index(),\n",
    "         data.query(\"dataset=='pedalme' and mtype=='rand'\").groupby(['mrate','lags','inter_method','method'])['mse'].std().reset_index(),\n",
    "         on=['method','mrate','lags','inter_method']).rename(columns={'mse_x':'mean','mse_y':'std'}).round(3)"
   ]
  },
  {
   "cell_type": "markdown",
   "id": "b1727f15-8934-4ec0-a5df-fb2ecaffee60",
   "metadata": {},
   "source": [
    "## Block"
   ]
  },
  {
   "cell_type": "code",
   "execution_count": 212,
   "id": "577831cf-8f43-4096-b889-ed611aff3fcf",
   "metadata": {},
   "outputs": [
    {
     "data": {
      "text/html": [
       "<div>\n",
       "<style scoped>\n",
       "    .dataframe tbody tr th:only-of-type {\n",
       "        vertical-align: middle;\n",
       "    }\n",
       "\n",
       "    .dataframe tbody tr th {\n",
       "        vertical-align: top;\n",
       "    }\n",
       "\n",
       "    .dataframe thead th {\n",
       "        text-align: right;\n",
       "    }\n",
       "</style>\n",
       "<table border=\"1\" class=\"dataframe\">\n",
       "  <thead>\n",
       "    <tr style=\"text-align: right;\">\n",
       "      <th></th>\n",
       "      <th>mrate</th>\n",
       "      <th>lags</th>\n",
       "      <th>inter_method</th>\n",
       "      <th>method</th>\n",
       "      <th>mean</th>\n",
       "      <th>std</th>\n",
       "    </tr>\n",
       "  </thead>\n",
       "  <tbody>\n",
       "    <tr>\n",
       "      <th>0</th>\n",
       "      <td>0.286</td>\n",
       "      <td>4</td>\n",
       "      <td>linear</td>\n",
       "      <td>IT-STGCN</td>\n",
       "      <td>1.250</td>\n",
       "      <td>0.055</td>\n",
       "    </tr>\n",
       "    <tr>\n",
       "      <th>1</th>\n",
       "      <td>0.286</td>\n",
       "      <td>4</td>\n",
       "      <td>linear</td>\n",
       "      <td>STGCN</td>\n",
       "      <td>1.217</td>\n",
       "      <td>0.054</td>\n",
       "    </tr>\n",
       "    <tr>\n",
       "      <th>2</th>\n",
       "      <td>0.286</td>\n",
       "      <td>4</td>\n",
       "      <td>nearest</td>\n",
       "      <td>IT-STGCN</td>\n",
       "      <td>1.268</td>\n",
       "      <td>0.049</td>\n",
       "    </tr>\n",
       "    <tr>\n",
       "      <th>3</th>\n",
       "      <td>0.286</td>\n",
       "      <td>4</td>\n",
       "      <td>nearest</td>\n",
       "      <td>STGCN</td>\n",
       "      <td>1.283</td>\n",
       "      <td>0.048</td>\n",
       "    </tr>\n",
       "  </tbody>\n",
       "</table>\n",
       "</div>"
      ],
      "text/plain": [
       "   mrate  lags inter_method    method   mean    std\n",
       "0  0.286     4       linear  IT-STGCN  1.250  0.055\n",
       "1  0.286     4       linear     STGCN  1.217  0.054\n",
       "2  0.286     4      nearest  IT-STGCN  1.268  0.049\n",
       "3  0.286     4      nearest     STGCN  1.283  0.048"
      ]
     },
     "execution_count": 212,
     "metadata": {},
     "output_type": "execute_result"
    }
   ],
   "source": [
    "pd.merge(data.query(\"dataset=='pedalme' and mtype=='block'\").groupby(['mrate','lags','inter_method','method'])['mse'].mean().reset_index(),\n",
    "         data.query(\"dataset=='pedalme' and mtype=='block'\").groupby(['mrate','lags','inter_method','method'])['mse'].std().reset_index(),\n",
    "         on=['method','mrate','lags','inter_method']).rename(columns={'mse_x':'mean','mse_y':'std'}).round(3).query(\"lags==4\")"
   ]
  },
  {
   "cell_type": "markdown",
   "id": "ca2703e3-4ca5-43fa-ace5-fd0986e0e90b",
   "metadata": {},
   "source": [
    "## W_st"
   ]
  },
  {
   "cell_type": "code",
   "execution_count": 213,
   "id": "342d5e6e-1e72-4ad2-8e70-04e095ce5368",
   "metadata": {},
   "outputs": [
    {
     "data": {
      "text/html": [
       "<div>\n",
       "<style scoped>\n",
       "    .dataframe tbody tr th:only-of-type {\n",
       "        vertical-align: middle;\n",
       "    }\n",
       "\n",
       "    .dataframe tbody tr th {\n",
       "        vertical-align: top;\n",
       "    }\n",
       "\n",
       "    .dataframe thead th {\n",
       "        text-align: right;\n",
       "    }\n",
       "</style>\n",
       "<table border=\"1\" class=\"dataframe\">\n",
       "  <thead>\n",
       "    <tr style=\"text-align: right;\">\n",
       "      <th></th>\n",
       "      <th>mrate</th>\n",
       "      <th>lags</th>\n",
       "      <th>inter_method</th>\n",
       "      <th>method</th>\n",
       "      <th>mean</th>\n",
       "      <th>std</th>\n",
       "    </tr>\n",
       "  </thead>\n",
       "  <tbody>\n",
       "    <tr>\n",
       "      <th>0</th>\n",
       "      <td>0.3</td>\n",
       "      <td>4</td>\n",
       "      <td>linear</td>\n",
       "      <td>IT-STGCN</td>\n",
       "      <td>1.793</td>\n",
       "      <td>0.284</td>\n",
       "    </tr>\n",
       "    <tr>\n",
       "      <th>1</th>\n",
       "      <td>0.3</td>\n",
       "      <td>4</td>\n",
       "      <td>linear</td>\n",
       "      <td>STGCN</td>\n",
       "      <td>1.321</td>\n",
       "      <td>0.102</td>\n",
       "    </tr>\n",
       "    <tr>\n",
       "      <th>2</th>\n",
       "      <td>0.3</td>\n",
       "      <td>4</td>\n",
       "      <td>nearest</td>\n",
       "      <td>IT-STGCN</td>\n",
       "      <td>1.884</td>\n",
       "      <td>0.250</td>\n",
       "    </tr>\n",
       "    <tr>\n",
       "      <th>3</th>\n",
       "      <td>0.3</td>\n",
       "      <td>4</td>\n",
       "      <td>nearest</td>\n",
       "      <td>STGCN</td>\n",
       "      <td>1.316</td>\n",
       "      <td>0.085</td>\n",
       "    </tr>\n",
       "    <tr>\n",
       "      <th>4</th>\n",
       "      <td>0.6</td>\n",
       "      <td>4</td>\n",
       "      <td>linear</td>\n",
       "      <td>IT-STGCN</td>\n",
       "      <td>1.693</td>\n",
       "      <td>0.240</td>\n",
       "    </tr>\n",
       "    <tr>\n",
       "      <th>5</th>\n",
       "      <td>0.6</td>\n",
       "      <td>4</td>\n",
       "      <td>linear</td>\n",
       "      <td>STGCN</td>\n",
       "      <td>1.530</td>\n",
       "      <td>0.079</td>\n",
       "    </tr>\n",
       "    <tr>\n",
       "      <th>6</th>\n",
       "      <td>0.6</td>\n",
       "      <td>4</td>\n",
       "      <td>nearest</td>\n",
       "      <td>IT-STGCN</td>\n",
       "      <td>1.740</td>\n",
       "      <td>0.255</td>\n",
       "    </tr>\n",
       "    <tr>\n",
       "      <th>7</th>\n",
       "      <td>0.6</td>\n",
       "      <td>4</td>\n",
       "      <td>nearest</td>\n",
       "      <td>STGCN</td>\n",
       "      <td>1.520</td>\n",
       "      <td>0.059</td>\n",
       "    </tr>\n",
       "  </tbody>\n",
       "</table>\n",
       "</div>"
      ],
      "text/plain": [
       "   mrate  lags inter_method    method   mean    std\n",
       "0    0.3     4       linear  IT-STGCN  1.793  0.284\n",
       "1    0.3     4       linear     STGCN  1.321  0.102\n",
       "2    0.3     4      nearest  IT-STGCN  1.884  0.250\n",
       "3    0.3     4      nearest     STGCN  1.316  0.085\n",
       "4    0.6     4       linear  IT-STGCN  1.693  0.240\n",
       "5    0.6     4       linear     STGCN  1.530  0.079\n",
       "6    0.6     4      nearest  IT-STGCN  1.740  0.255\n",
       "7    0.6     4      nearest     STGCN  1.520  0.059"
      ]
     },
     "execution_count": 213,
     "metadata": {},
     "output_type": "execute_result"
    }
   ],
   "source": [
    "pd.merge(data_pedal2.query(\"mtype=='rand'\").groupby(['mrate','lags','inter_method','method'])['mse'].mean().reset_index(),\n",
    "         data_pedal2.query(\"mtype=='rand'\").groupby(['mrate','lags','inter_method','method'])['mse'].std().reset_index(),\n",
    "         on=['method','mrate','lags','inter_method']).rename(columns={'mse_x':'mean','mse_y':'std'}).round(3).query(\"lags==4\")"
   ]
  },
  {
   "cell_type": "code",
   "execution_count": 214,
   "id": "c0c626dd-3d91-4622-93ad-9497378fae27",
   "metadata": {},
   "outputs": [
    {
     "data": {
      "text/html": [
       "<div>\n",
       "<style scoped>\n",
       "    .dataframe tbody tr th:only-of-type {\n",
       "        vertical-align: middle;\n",
       "    }\n",
       "\n",
       "    .dataframe tbody tr th {\n",
       "        vertical-align: top;\n",
       "    }\n",
       "\n",
       "    .dataframe thead th {\n",
       "        text-align: right;\n",
       "    }\n",
       "</style>\n",
       "<table border=\"1\" class=\"dataframe\">\n",
       "  <thead>\n",
       "    <tr style=\"text-align: right;\">\n",
       "      <th></th>\n",
       "      <th>mrate</th>\n",
       "      <th>lags</th>\n",
       "      <th>inter_method</th>\n",
       "      <th>method</th>\n",
       "      <th>mean</th>\n",
       "      <th>std</th>\n",
       "    </tr>\n",
       "  </thead>\n",
       "  <tbody>\n",
       "    <tr>\n",
       "      <th>0</th>\n",
       "      <td>0.19</td>\n",
       "      <td>4</td>\n",
       "      <td>linear</td>\n",
       "      <td>IT-STGCN</td>\n",
       "      <td>1.794</td>\n",
       "      <td>0.253</td>\n",
       "    </tr>\n",
       "    <tr>\n",
       "      <th>1</th>\n",
       "      <td>0.19</td>\n",
       "      <td>4</td>\n",
       "      <td>linear</td>\n",
       "      <td>STGCN</td>\n",
       "      <td>1.239</td>\n",
       "      <td>0.037</td>\n",
       "    </tr>\n",
       "    <tr>\n",
       "      <th>2</th>\n",
       "      <td>0.19</td>\n",
       "      <td>4</td>\n",
       "      <td>nearest</td>\n",
       "      <td>IT-STGCN</td>\n",
       "      <td>1.709</td>\n",
       "      <td>0.262</td>\n",
       "    </tr>\n",
       "    <tr>\n",
       "      <th>3</th>\n",
       "      <td>0.19</td>\n",
       "      <td>4</td>\n",
       "      <td>nearest</td>\n",
       "      <td>STGCN</td>\n",
       "      <td>1.283</td>\n",
       "      <td>0.047</td>\n",
       "    </tr>\n",
       "  </tbody>\n",
       "</table>\n",
       "</div>"
      ],
      "text/plain": [
       "   mrate  lags inter_method    method   mean    std\n",
       "0   0.19     4       linear  IT-STGCN  1.794  0.253\n",
       "1   0.19     4       linear     STGCN  1.239  0.037\n",
       "2   0.19     4      nearest  IT-STGCN  1.709  0.262\n",
       "3   0.19     4      nearest     STGCN  1.283  0.047"
      ]
     },
     "execution_count": 214,
     "metadata": {},
     "output_type": "execute_result"
    }
   ],
   "source": [
    "pd.merge(data_pedal2.query(\"mtype=='block'\").groupby(['mrate','lags','inter_method','method'])['mse'].mean().reset_index(),\n",
    "         data_pedal2.query(\"mtype=='block'\").groupby(['mrate','lags','inter_method','method'])['mse'].std().reset_index(),\n",
    "         on=['method','mrate','lags','inter_method']).rename(columns={'mse_x':'mean','mse_y':'std'}).round(3).query(\"lags==4\")"
   ]
  },
  {
   "cell_type": "markdown",
   "id": "6d80756b-d0bd-4663-a847-20056d29b3cd",
   "metadata": {},
   "source": [
    "# WikiMathsDatasetLoader (lags=8)"
   ]
  },
  {
   "cell_type": "markdown",
   "id": "9455377c-c4b0-4ffc-824b-883234bd90ef",
   "metadata": {
    "tags": []
   },
   "source": [
    "## Baseline"
   ]
  },
  {
   "cell_type": "code",
   "execution_count": 215,
   "id": "f6c27c05-9c04-4430-8825-5e6036641655",
   "metadata": {},
   "outputs": [
    {
     "data": {
      "text/html": [
       "<div>\n",
       "<style scoped>\n",
       "    .dataframe tbody tr th:only-of-type {\n",
       "        vertical-align: middle;\n",
       "    }\n",
       "\n",
       "    .dataframe tbody tr th {\n",
       "        vertical-align: top;\n",
       "    }\n",
       "\n",
       "    .dataframe thead th {\n",
       "        text-align: right;\n",
       "    }\n",
       "</style>\n",
       "<table border=\"1\" class=\"dataframe\">\n",
       "  <thead>\n",
       "    <tr style=\"text-align: right;\">\n",
       "      <th></th>\n",
       "      <th>lags</th>\n",
       "      <th>nof_filters</th>\n",
       "      <th>method</th>\n",
       "      <th>mean</th>\n",
       "      <th>std</th>\n",
       "    </tr>\n",
       "  </thead>\n",
       "  <tbody>\n",
       "    <tr>\n",
       "      <th>0</th>\n",
       "      <td>8</td>\n",
       "      <td>12</td>\n",
       "      <td>IT-STGCN</td>\n",
       "      <td>0.626</td>\n",
       "      <td>0.026</td>\n",
       "    </tr>\n",
       "    <tr>\n",
       "      <th>1</th>\n",
       "      <td>8</td>\n",
       "      <td>12</td>\n",
       "      <td>STGCN</td>\n",
       "      <td>0.628</td>\n",
       "      <td>0.031</td>\n",
       "    </tr>\n",
       "  </tbody>\n",
       "</table>\n",
       "</div>"
      ],
      "text/plain": [
       "   lags  nof_filters    method   mean    std\n",
       "0     8           12  IT-STGCN  0.626  0.026\n",
       "1     8           12     STGCN  0.628  0.031"
      ]
     },
     "execution_count": 215,
     "metadata": {},
     "output_type": "execute_result"
    }
   ],
   "source": [
    "pd.merge(data.query(\"dataset=='wikimath' and mrate==0\").groupby(['lags','nof_filters','method'])['mse'].mean().reset_index(),\n",
    "         data.query(\"dataset=='wikimath' and mrate==0\").groupby(['lags','nof_filters','method'])['mse'].std().reset_index(),\n",
    "         on=['lags','nof_filters','method']).rename(columns={'mse_x':'mean','mse_y':'std'}).round(3)"
   ]
  },
  {
   "cell_type": "markdown",
   "id": "e78caefd-e35a-435c-ae8b-43338b3507e9",
   "metadata": {},
   "source": [
    "## Random"
   ]
  },
  {
   "cell_type": "code",
   "execution_count": 216,
   "id": "93355d49-98a5-4317-a23b-cab8ce09b74b",
   "metadata": {},
   "outputs": [
    {
     "data": {
      "text/html": [
       "<div>\n",
       "<style scoped>\n",
       "    .dataframe tbody tr th:only-of-type {\n",
       "        vertical-align: middle;\n",
       "    }\n",
       "\n",
       "    .dataframe tbody tr th {\n",
       "        vertical-align: top;\n",
       "    }\n",
       "\n",
       "    .dataframe thead th {\n",
       "        text-align: right;\n",
       "    }\n",
       "</style>\n",
       "<table border=\"1\" class=\"dataframe\">\n",
       "  <thead>\n",
       "    <tr style=\"text-align: right;\">\n",
       "      <th></th>\n",
       "      <th>mrate</th>\n",
       "      <th>lags</th>\n",
       "      <th>method</th>\n",
       "      <th>mean</th>\n",
       "      <th>std</th>\n",
       "    </tr>\n",
       "  </thead>\n",
       "  <tbody>\n",
       "    <tr>\n",
       "      <th>0</th>\n",
       "      <td>0.3</td>\n",
       "      <td>8</td>\n",
       "      <td>IT-STGCN</td>\n",
       "      <td>0.641</td>\n",
       "      <td>0.021</td>\n",
       "    </tr>\n",
       "    <tr>\n",
       "      <th>1</th>\n",
       "      <td>0.3</td>\n",
       "      <td>8</td>\n",
       "      <td>STGCN</td>\n",
       "      <td>0.642</td>\n",
       "      <td>0.023</td>\n",
       "    </tr>\n",
       "    <tr>\n",
       "      <th>2</th>\n",
       "      <td>0.8</td>\n",
       "      <td>8</td>\n",
       "      <td>IT-STGCN</td>\n",
       "      <td>0.778</td>\n",
       "      <td>0.038</td>\n",
       "    </tr>\n",
       "    <tr>\n",
       "      <th>3</th>\n",
       "      <td>0.8</td>\n",
       "      <td>8</td>\n",
       "      <td>STGCN</td>\n",
       "      <td>0.781</td>\n",
       "      <td>0.036</td>\n",
       "    </tr>\n",
       "  </tbody>\n",
       "</table>\n",
       "</div>"
      ],
      "text/plain": [
       "   mrate  lags    method   mean    std\n",
       "0    0.3     8  IT-STGCN  0.641  0.021\n",
       "1    0.3     8     STGCN  0.642  0.023\n",
       "2    0.8     8  IT-STGCN  0.778  0.038\n",
       "3    0.8     8     STGCN  0.781  0.036"
      ]
     },
     "execution_count": 216,
     "metadata": {},
     "output_type": "execute_result"
    }
   ],
   "source": [
    "pd.merge(data.query(\"dataset=='wikimath' and mtype=='rand'\").groupby(['mrate','lags','method'])['mse'].mean().reset_index(),\n",
    "         data.query(\"dataset=='wikimath' and mtype=='rand'\").groupby(['mrate','lags','method'])['mse'].std().reset_index(),\n",
    "         on=['method','mrate','lags']).rename(columns={'mse_x':'mean','mse_y':'std'}).round(3)"
   ]
  },
  {
   "cell_type": "markdown",
   "id": "fd253819-25b6-4bc5-8857-98da4eb2b80e",
   "metadata": {},
   "source": [
    "## Block"
   ]
  },
  {
   "cell_type": "code",
   "execution_count": 217,
   "id": "3a9cdb61-9ba7-454c-b31b-6c9066b83dc8",
   "metadata": {},
   "outputs": [
    {
     "data": {
      "text/html": [
       "<div>\n",
       "<style scoped>\n",
       "    .dataframe tbody tr th:only-of-type {\n",
       "        vertical-align: middle;\n",
       "    }\n",
       "\n",
       "    .dataframe tbody tr th {\n",
       "        vertical-align: top;\n",
       "    }\n",
       "\n",
       "    .dataframe thead th {\n",
       "        text-align: right;\n",
       "    }\n",
       "</style>\n",
       "<table border=\"1\" class=\"dataframe\">\n",
       "  <thead>\n",
       "    <tr style=\"text-align: right;\">\n",
       "      <th></th>\n",
       "      <th>mrate</th>\n",
       "      <th>lags</th>\n",
       "      <th>method</th>\n",
       "      <th>mean</th>\n",
       "      <th>std</th>\n",
       "    </tr>\n",
       "  </thead>\n",
       "  <tbody>\n",
       "    <tr>\n",
       "      <th>0</th>\n",
       "      <td>0.000192</td>\n",
       "      <td>8</td>\n",
       "      <td>IT-STGCN</td>\n",
       "      <td>0.623239</td>\n",
       "      <td>0.020829</td>\n",
       "    </tr>\n",
       "    <tr>\n",
       "      <th>1</th>\n",
       "      <td>0.000192</td>\n",
       "      <td>8</td>\n",
       "      <td>STGCN</td>\n",
       "      <td>0.625788</td>\n",
       "      <td>0.030826</td>\n",
       "    </tr>\n",
       "  </tbody>\n",
       "</table>\n",
       "</div>"
      ],
      "text/plain": [
       "      mrate  lags    method      mean       std\n",
       "0  0.000192     8  IT-STGCN  0.623239  0.020829\n",
       "1  0.000192     8     STGCN  0.625788  0.030826"
      ]
     },
     "execution_count": 217,
     "metadata": {},
     "output_type": "execute_result"
    }
   ],
   "source": [
    "pd.merge(data.query(\"dataset=='wikimath' and mtype=='block'\").groupby(['mrate','lags','method'])['mse'].mean().reset_index(),\n",
    "         data.query(\"dataset=='wikimath' and mtype=='block'\").groupby(['mrate','lags','method'])['mse'].std().reset_index(),\n",
    "         on=['method','mrate','lags']).rename(columns={'mse_x':'mean','mse_y':'std'})"
   ]
  },
  {
   "cell_type": "markdown",
   "id": "14b6aff3-c706-49a3-bd8d-6edf52a0f725",
   "metadata": {},
   "source": [
    "## missing values on the same nodes"
   ]
  },
  {
   "cell_type": "code",
   "execution_count": 218,
   "id": "183e30ca-717e-4b81-a3bd-af5bb6310fbf",
   "metadata": {},
   "outputs": [
    {
     "data": {
      "text/html": [
       "<div>\n",
       "<style scoped>\n",
       "    .dataframe tbody tr th:only-of-type {\n",
       "        vertical-align: middle;\n",
       "    }\n",
       "\n",
       "    .dataframe tbody tr th {\n",
       "        vertical-align: top;\n",
       "    }\n",
       "\n",
       "    .dataframe thead th {\n",
       "        text-align: right;\n",
       "    }\n",
       "</style>\n",
       "<table border=\"1\" class=\"dataframe\">\n",
       "  <thead>\n",
       "    <tr style=\"text-align: right;\">\n",
       "      <th></th>\n",
       "      <th>mrate</th>\n",
       "      <th>lags</th>\n",
       "      <th>method</th>\n",
       "      <th>mean</th>\n",
       "      <th>std</th>\n",
       "    </tr>\n",
       "  </thead>\n",
       "  <tbody>\n",
       "    <tr>\n",
       "      <th>0</th>\n",
       "      <td>0.512</td>\n",
       "      <td>8</td>\n",
       "      <td>IT-STGCN</td>\n",
       "      <td>0.600</td>\n",
       "      <td>0.073</td>\n",
       "    </tr>\n",
       "    <tr>\n",
       "      <th>1</th>\n",
       "      <td>0.512</td>\n",
       "      <td>8</td>\n",
       "      <td>STGCN</td>\n",
       "      <td>0.705</td>\n",
       "      <td>0.029</td>\n",
       "    </tr>\n",
       "  </tbody>\n",
       "</table>\n",
       "</div>"
      ],
      "text/plain": [
       "   mrate  lags    method   mean    std\n",
       "0  0.512     8  IT-STGCN  0.600  0.073\n",
       "1  0.512     8     STGCN  0.705  0.029"
      ]
     },
     "execution_count": 218,
     "metadata": {},
     "output_type": "execute_result"
    }
   ],
   "source": [
    "pd.merge(data_wiki_GSO.groupby(['mrate','lags','method'])['mse'].mean().reset_index(),\n",
    "        data_wiki_GSO.groupby(['mrate','lags','method'])['mse'].std().reset_index(),\n",
    "         on=['method','mrate','lags']).rename(columns={'mse_x':'mean','mse_y':'std'}).round(3)"
   ]
  },
  {
   "cell_type": "markdown",
   "id": "90b3f7a5-c7fb-4c23-a230-5fa9fc7ac726",
   "metadata": {
    "tags": []
   },
   "source": [
    "# WindmillOutputSmallDatasetLoader (lags=8)"
   ]
  },
  {
   "cell_type": "markdown",
   "id": "5a2e36b4-0323-4c11-a286-1f3096c8e409",
   "metadata": {},
   "source": [
    "## Baseline"
   ]
  },
  {
   "cell_type": "code",
   "execution_count": 219,
   "id": "49b9fab5-a442-4d99-808f-8f9bfa70e094",
   "metadata": {},
   "outputs": [
    {
     "data": {
      "text/html": [
       "<div>\n",
       "<style scoped>\n",
       "    .dataframe tbody tr th:only-of-type {\n",
       "        vertical-align: middle;\n",
       "    }\n",
       "\n",
       "    .dataframe tbody tr th {\n",
       "        vertical-align: top;\n",
       "    }\n",
       "\n",
       "    .dataframe thead th {\n",
       "        text-align: right;\n",
       "    }\n",
       "</style>\n",
       "<table border=\"1\" class=\"dataframe\">\n",
       "  <thead>\n",
       "    <tr style=\"text-align: right;\">\n",
       "      <th></th>\n",
       "      <th>mean</th>\n",
       "      <th>lags</th>\n",
       "      <th>method</th>\n",
       "      <th>std</th>\n",
       "    </tr>\n",
       "  </thead>\n",
       "  <tbody>\n",
       "  </tbody>\n",
       "</table>\n",
       "</div>"
      ],
      "text/plain": [
       "Empty DataFrame\n",
       "Columns: [mean, lags, method, std]\n",
       "Index: []"
      ]
     },
     "execution_count": 219,
     "metadata": {},
     "output_type": "execute_result"
    }
   ],
   "source": [
    "pd.merge(data.query(\"dataset=='windmillsmall' and mrate==0\").groupby(['lags','method'])['mse'].mean().reset_index(),\n",
    "         data.query(\"dataset=='windmillsmall' and mrate==0\").groupby(['lags','method'])['mse'].std().reset_index(),\n",
    "         on=['method','lags']).rename(columns={'mse_x':'mean','mse_y':'std'}).round(3)"
   ]
  },
  {
   "cell_type": "markdown",
   "id": "a983ca2b-174b-450a-8831-03294d60f51d",
   "metadata": {},
   "source": [
    "## Random"
   ]
  },
  {
   "cell_type": "code",
   "execution_count": 220,
   "id": "8902439c-dd57-4b4a-9ee7-a4a6f834b748",
   "metadata": {},
   "outputs": [
    {
     "data": {
      "text/html": [
       "<div>\n",
       "<style scoped>\n",
       "    .dataframe tbody tr th:only-of-type {\n",
       "        vertical-align: middle;\n",
       "    }\n",
       "\n",
       "    .dataframe tbody tr th {\n",
       "        vertical-align: top;\n",
       "    }\n",
       "\n",
       "    .dataframe thead th {\n",
       "        text-align: right;\n",
       "    }\n",
       "</style>\n",
       "<table border=\"1\" class=\"dataframe\">\n",
       "  <thead>\n",
       "    <tr style=\"text-align: right;\">\n",
       "      <th></th>\n",
       "      <th>mean</th>\n",
       "      <th>mrate</th>\n",
       "      <th>lags</th>\n",
       "      <th>method</th>\n",
       "      <th>std</th>\n",
       "    </tr>\n",
       "  </thead>\n",
       "  <tbody>\n",
       "  </tbody>\n",
       "</table>\n",
       "</div>"
      ],
      "text/plain": [
       "Empty DataFrame\n",
       "Columns: [mean, mrate, lags, method, std]\n",
       "Index: []"
      ]
     },
     "execution_count": 220,
     "metadata": {},
     "output_type": "execute_result"
    }
   ],
   "source": [
    "pd.merge(data.query(\"dataset=='windmillsmall' and mtype=='rand'\").groupby(['mrate','lags','method'])['mse'].mean().reset_index(),\n",
    "         data.query(\"dataset=='windmillsmall' and mtype=='rand'\").groupby(['mrate','lags','method'])['mse'].std().reset_index(),\n",
    "         on=['method','mrate','lags']).rename(columns={'mse_x':'mean','mse_y':'std'}).round(3)"
   ]
  },
  {
   "cell_type": "markdown",
   "id": "44f6a1e6-c2f3-4d8c-b071-ec58633f2ccd",
   "metadata": {},
   "source": [
    "## Block"
   ]
  },
  {
   "cell_type": "code",
   "execution_count": 221,
   "id": "e6a097b4-c47c-48ff-92aa-fefa3472dba2",
   "metadata": {},
   "outputs": [
    {
     "data": {
      "text/html": [
       "<div>\n",
       "<style scoped>\n",
       "    .dataframe tbody tr th:only-of-type {\n",
       "        vertical-align: middle;\n",
       "    }\n",
       "\n",
       "    .dataframe tbody tr th {\n",
       "        vertical-align: top;\n",
       "    }\n",
       "\n",
       "    .dataframe thead th {\n",
       "        text-align: right;\n",
       "    }\n",
       "</style>\n",
       "<table border=\"1\" class=\"dataframe\">\n",
       "  <thead>\n",
       "    <tr style=\"text-align: right;\">\n",
       "      <th></th>\n",
       "      <th>mean</th>\n",
       "      <th>mrate</th>\n",
       "      <th>lags</th>\n",
       "      <th>method</th>\n",
       "      <th>std</th>\n",
       "    </tr>\n",
       "  </thead>\n",
       "  <tbody>\n",
       "  </tbody>\n",
       "</table>\n",
       "</div>"
      ],
      "text/plain": [
       "Empty DataFrame\n",
       "Columns: [mean, mrate, lags, method, std]\n",
       "Index: []"
      ]
     },
     "execution_count": 221,
     "metadata": {},
     "output_type": "execute_result"
    }
   ],
   "source": [
    "pd.merge(data.query(\"dataset=='windmillsmall' and mtype=='block'\").groupby(['mrate','lags','method'])['mse'].mean().reset_index(),\n",
    "         data.query(\"dataset=='windmillsmall' and mtype=='block'\").groupby(['mrate','lags','method'])['mse'].std().reset_index(),\n",
    "         on=['method','mrate','lags']).rename(columns={'mse_x':'mean','mse_y':'std'}).round(3)"
   ]
  },
  {
   "cell_type": "markdown",
   "id": "8a4660bf-74f6-449d-b87f-2089ad0d118a",
   "metadata": {},
   "source": [
    "# Montevideobus (lags=4)"
   ]
  },
  {
   "cell_type": "markdown",
   "id": "2cdb4bd3-1980-47f0-afb4-4d82a3a86e70",
   "metadata": {
    "tags": []
   },
   "source": [
    "## Baseline"
   ]
  },
  {
   "cell_type": "code",
   "execution_count": 236,
   "id": "80ca776b-e0ac-46cf-877c-50db022936cf",
   "metadata": {},
   "outputs": [
    {
     "data": {
      "text/html": [
       "<div>\n",
       "<style scoped>\n",
       "    .dataframe tbody tr th:only-of-type {\n",
       "        vertical-align: middle;\n",
       "    }\n",
       "\n",
       "    .dataframe tbody tr th {\n",
       "        vertical-align: top;\n",
       "    }\n",
       "\n",
       "    .dataframe thead th {\n",
       "        text-align: right;\n",
       "    }\n",
       "</style>\n",
       "<table border=\"1\" class=\"dataframe\">\n",
       "  <thead>\n",
       "    <tr style=\"text-align: right;\">\n",
       "      <th></th>\n",
       "      <th>lags</th>\n",
       "      <th>method</th>\n",
       "      <th>mean</th>\n",
       "      <th>std</th>\n",
       "    </tr>\n",
       "  </thead>\n",
       "  <tbody>\n",
       "    <tr>\n",
       "      <th>0</th>\n",
       "      <td>4</td>\n",
       "      <td>IT-STGCN</td>\n",
       "      <td>0.969</td>\n",
       "      <td>0.010</td>\n",
       "    </tr>\n",
       "    <tr>\n",
       "      <th>1</th>\n",
       "      <td>4</td>\n",
       "      <td>STGCN</td>\n",
       "      <td>0.967</td>\n",
       "      <td>0.012</td>\n",
       "    </tr>\n",
       "  </tbody>\n",
       "</table>\n",
       "</div>"
      ],
      "text/plain": [
       "   lags    method   mean    std\n",
       "0     4  IT-STGCN  0.969  0.010\n",
       "1     4     STGCN  0.967  0.012"
      ]
     },
     "execution_count": 236,
     "metadata": {},
     "output_type": "execute_result"
    }
   ],
   "source": [
    "pd.merge(data.query(\"dataset=='monte' and mrate==0\").groupby(['lags','method'])['mse'].mean().reset_index(),\n",
    "         data.query(\"dataset=='monte' and mrate==0\").groupby(['lags','method'])['mse'].std().reset_index(),\n",
    "         on=['method','lags']).rename(columns={'mse_x':'mean','mse_y':'std'}).round(3)"
   ]
  },
  {
   "cell_type": "markdown",
   "id": "afcdfe1a-afd7-46eb-af34-2e3bcc148a17",
   "metadata": {},
   "source": [
    "## Random"
   ]
  },
  {
   "cell_type": "code",
   "execution_count": 237,
   "id": "0d19690b-1489-4e96-9a01-d5a8f755fb28",
   "metadata": {},
   "outputs": [
    {
     "data": {
      "text/html": [
       "<div>\n",
       "<style scoped>\n",
       "    .dataframe tbody tr th:only-of-type {\n",
       "        vertical-align: middle;\n",
       "    }\n",
       "\n",
       "    .dataframe tbody tr th {\n",
       "        vertical-align: top;\n",
       "    }\n",
       "\n",
       "    .dataframe thead th {\n",
       "        text-align: right;\n",
       "    }\n",
       "</style>\n",
       "<table border=\"1\" class=\"dataframe\">\n",
       "  <thead>\n",
       "    <tr style=\"text-align: right;\">\n",
       "      <th></th>\n",
       "      <th>mrate</th>\n",
       "      <th>lags</th>\n",
       "      <th>inter_method</th>\n",
       "      <th>method</th>\n",
       "      <th>mean</th>\n",
       "      <th>std</th>\n",
       "    </tr>\n",
       "  </thead>\n",
       "  <tbody>\n",
       "    <tr>\n",
       "      <th>0</th>\n",
       "      <td>0.8</td>\n",
       "      <td>4</td>\n",
       "      <td>nearest</td>\n",
       "      <td>IT-STGCN</td>\n",
       "      <td>1.141635</td>\n",
       "      <td>0.057683</td>\n",
       "    </tr>\n",
       "    <tr>\n",
       "      <th>1</th>\n",
       "      <td>0.8</td>\n",
       "      <td>4</td>\n",
       "      <td>nearest</td>\n",
       "      <td>STGCN</td>\n",
       "      <td>1.135320</td>\n",
       "      <td>0.066630</td>\n",
       "    </tr>\n",
       "  </tbody>\n",
       "</table>\n",
       "</div>"
      ],
      "text/plain": [
       "   mrate  lags inter_method    method      mean       std\n",
       "0    0.8     4      nearest  IT-STGCN  1.141635  0.057683\n",
       "1    0.8     4      nearest     STGCN  1.135320  0.066630"
      ]
     },
     "execution_count": 237,
     "metadata": {},
     "output_type": "execute_result"
    }
   ],
   "source": [
    "pd.merge(data.query(\"dataset=='monte' and mtype=='rand'\").groupby(['mrate','lags','inter_method','method'])['mse'].mean().reset_index(),\n",
    "         data.query(\"dataset=='monte' and mtype=='rand'\").groupby(['mrate','lags','inter_method','method'])['mse'].std().reset_index(),\n",
    "         on=['mrate','inter_method','method','mrate','lags']).rename(columns={'mse_x':'mean','mse_y':'std'})"
   ]
  },
  {
   "cell_type": "markdown",
   "id": "9a74d78d-a333-4c99-ad70-5985c07feae1",
   "metadata": {},
   "source": [
    "## Block"
   ]
  },
  {
   "cell_type": "code",
   "execution_count": 238,
   "id": "76aea718-eb75-4a87-a72f-d3e1e60c3cbe",
   "metadata": {},
   "outputs": [
    {
     "data": {
      "text/html": [
       "<div>\n",
       "<style scoped>\n",
       "    .dataframe tbody tr th:only-of-type {\n",
       "        vertical-align: middle;\n",
       "    }\n",
       "\n",
       "    .dataframe tbody tr th {\n",
       "        vertical-align: top;\n",
       "    }\n",
       "\n",
       "    .dataframe thead th {\n",
       "        text-align: right;\n",
       "    }\n",
       "</style>\n",
       "<table border=\"1\" class=\"dataframe\">\n",
       "  <thead>\n",
       "    <tr style=\"text-align: right;\">\n",
       "      <th></th>\n",
       "      <th>mrate</th>\n",
       "      <th>lags</th>\n",
       "      <th>inter_method</th>\n",
       "      <th>method</th>\n",
       "      <th>mean</th>\n",
       "      <th>std</th>\n",
       "    </tr>\n",
       "  </thead>\n",
       "  <tbody>\n",
       "    <tr>\n",
       "      <th>0</th>\n",
       "      <td>0.000298</td>\n",
       "      <td>4</td>\n",
       "      <td>linear</td>\n",
       "      <td>IT-STGCN</td>\n",
       "      <td>0.971695</td>\n",
       "      <td>0.010203</td>\n",
       "    </tr>\n",
       "    <tr>\n",
       "      <th>1</th>\n",
       "      <td>0.000298</td>\n",
       "      <td>4</td>\n",
       "      <td>linear</td>\n",
       "      <td>STGCN</td>\n",
       "      <td>0.973715</td>\n",
       "      <td>0.015855</td>\n",
       "    </tr>\n",
       "    <tr>\n",
       "      <th>2</th>\n",
       "      <td>0.000298</td>\n",
       "      <td>4</td>\n",
       "      <td>nearest</td>\n",
       "      <td>IT-STGCN</td>\n",
       "      <td>0.969282</td>\n",
       "      <td>0.012095</td>\n",
       "    </tr>\n",
       "    <tr>\n",
       "      <th>3</th>\n",
       "      <td>0.000298</td>\n",
       "      <td>4</td>\n",
       "      <td>nearest</td>\n",
       "      <td>STGCN</td>\n",
       "      <td>0.977350</td>\n",
       "      <td>0.015155</td>\n",
       "    </tr>\n",
       "    <tr>\n",
       "      <th>4</th>\n",
       "      <td>0.149142</td>\n",
       "      <td>4</td>\n",
       "      <td>nearest</td>\n",
       "      <td>IT-STGCN</td>\n",
       "      <td>0.954439</td>\n",
       "      <td>0.005236</td>\n",
       "    </tr>\n",
       "    <tr>\n",
       "      <th>5</th>\n",
       "      <td>0.149142</td>\n",
       "      <td>4</td>\n",
       "      <td>nearest</td>\n",
       "      <td>STGCN</td>\n",
       "      <td>0.957172</td>\n",
       "      <td>0.006630</td>\n",
       "    </tr>\n",
       "  </tbody>\n",
       "</table>\n",
       "</div>"
      ],
      "text/plain": [
       "      mrate  lags inter_method    method      mean       std\n",
       "0  0.000298     4       linear  IT-STGCN  0.971695  0.010203\n",
       "1  0.000298     4       linear     STGCN  0.973715  0.015855\n",
       "2  0.000298     4      nearest  IT-STGCN  0.969282  0.012095\n",
       "3  0.000298     4      nearest     STGCN  0.977350  0.015155\n",
       "4  0.149142     4      nearest  IT-STGCN  0.954439  0.005236\n",
       "5  0.149142     4      nearest     STGCN  0.957172  0.006630"
      ]
     },
     "execution_count": 238,
     "metadata": {},
     "output_type": "execute_result"
    }
   ],
   "source": [
    "pd.merge(data.query(\"dataset=='monte' and mtype=='block'\").groupby(['mrate','lags','inter_method','method'])['mse'].mean().reset_index(),\n",
    "         data.query(\"dataset=='monte' and mtype=='block'\").groupby(['mrate','lags','inter_method','method'])['mse'].std().reset_index(),\n",
    "         on=['method','mrate','inter_method','lags']).rename(columns={'mse_x':'mean','mse_y':'std'})"
   ]
  },
  {
   "cell_type": "markdown",
   "id": "c7785114-7c19-452c-be73-25f42330efff",
   "metadata": {},
   "source": [
    "# Check"
   ]
  },
  {
   "cell_type": "code",
   "execution_count": 225,
   "id": "86b95ea7-efd0-4674-afa8-f1160d6681d2",
   "metadata": {},
   "outputs": [],
   "source": [
    "import itstgcnGConvLSTM\n",
    "import torch\n",
    "import numpy as np"
   ]
  },
  {
   "cell_type": "code",
   "execution_count": 226,
   "id": "a8ff2fbd-5865-4f3b-9777-6c7ab65bc150",
   "metadata": {},
   "outputs": [],
   "source": [
    "import matplotlib.pyplot as plt"
   ]
  },
  {
   "cell_type": "code",
   "execution_count": 227,
   "id": "66b5a6fb-680d-4449-a19d-60441becc4e6",
   "metadata": {},
   "outputs": [],
   "source": [
    "import random"
   ]
  },
  {
   "cell_type": "code",
   "execution_count": 57,
   "id": "7cc39147-393e-4cc8-8d41-84f4f928854a",
   "metadata": {},
   "outputs": [],
   "source": [
    "class Eval_csy:\n",
    "    def __init__(self,learner,train_dataset):\n",
    "        self.learner = learner\n",
    "        # self.learner.model.eval()\n",
    "        try:self.learner.model.eval()\n",
    "        except:pass\n",
    "        self.train_dataset = train_dataset\n",
    "        self.lags = self.learner.lags\n",
    "        rslt_tr = self.learner(self.train_dataset) \n",
    "        self.X_tr = rslt_tr['X']\n",
    "        self.y_tr = rslt_tr['y']\n",
    "        self.f_tr = torch.concat([self.train_dataset[0].x.T,self.y_tr],axis=0).float()\n",
    "        self.yhat_tr = rslt_tr['yhat']\n",
    "        self.fhat_tr = torch.concat([self.train_dataset[0].x.T,self.yhat_tr],axis=0).float()"
   ]
  },
  {
   "cell_type": "code",
   "execution_count": 58,
   "id": "faa27982-8779-41b4-b4a2-41b216e0f51a",
   "metadata": {},
   "outputs": [],
   "source": [
    "import pickle\n",
    "import pandas as pd"
   ]
  },
  {
   "cell_type": "code",
   "execution_count": 59,
   "id": "91d9aeda-fbce-4497-a0b0-5e9ac4230a2b",
   "metadata": {},
   "outputs": [],
   "source": [
    "def load_data(fname):\n",
    "    with open(fname, 'rb') as outfile:\n",
    "        data_dict = pickle.load(outfile)\n",
    "    return data_dict\n",
    "\n",
    "def save_data(data_dict,fname):\n",
    "    with open(fname,'wb') as outfile:\n",
    "        pickle.dump(data_dict,outfile)"
   ]
  },
  {
   "cell_type": "code",
   "execution_count": 60,
   "id": "709cf6d2-126b-4ccd-be46-d640e0d83c87",
   "metadata": {},
   "outputs": [],
   "source": [
    "from plotnine import *"
   ]
  },
  {
   "cell_type": "code",
   "execution_count": 407,
   "id": "fcccab62-3474-419c-ba64-2f5724d91a22",
   "metadata": {},
   "outputs": [
    {
     "data": {
      "image/png": "[encoded data removed]",
      "text/plain": [
       "<Figure size 432x288 with 1 Axes>"
      ]
     },
     "metadata": {
      "needs_background": "light"
     },
     "output_type": "display_data"
    }
   ],
   "source": [
    "T = 500\n",
    "t = np.arange(T)/T * 5\n",
    "\n",
    "x = 1*np.sin(2*t)+np.sin(4*t)+1.5*np.sin(7*t)\n",
    "eps_x  = np.random.normal(size=T)*0\n",
    "y = x.copy()\n",
    "for i in range(2,T):\n",
    "    y[i] = 0.35*x[i-1] - 0.15*x[i-2] + 0.5*np.cos(0.4*t[i]) \n",
    "eps_y  = np.random.normal(size=T)*0\n",
    "x = x\n",
    "y = y\n",
    "plt.plot(t,x,color='C0',lw=5)\n",
    "plt.plot(t,x+eps_x,alpha=0.5,color='C0')\n",
    "plt.plot(t,y,color='C1',lw=5)\n",
    "plt.plot(t,y+eps_y,alpha=0.5,color='C1')\n",
    "_node_ids = {'node1':0, 'node2':1}\n",
    "\n",
    "_FX1 = np.stack([x+eps_x,y+eps_y],axis=1).tolist()\n",
    "\n",
    "_edges1 = torch.tensor([[0,1]]).tolist()\n",
    "\n",
    "data_dict1 = {'edges':_edges1, 'node_ids':_node_ids, 'FX':_FX1}\n",
    "\n",
    "# save_data(data_dict1, './data/toy_example1.pkl')\n",
    "\n",
    "data1 = pd.DataFrame({'x':x,'y':y,'xer':x,'yer':y})\n",
    "\n",
    "# save_data(data1, './data/toy_example_true1.csv')\n"
   ]
  },
  {
   "cell_type": "code",
   "execution_count": 408,
   "id": "d01477c3-f9f3-4424-bac4-aa272e4fc4b3",
   "metadata": {},
   "outputs": [],
   "source": [
    "loader1 = itstgcnGConvLSTM.DatasetLoader(data_dict1)"
   ]
  },
  {
   "cell_type": "code",
   "execution_count": 409,
   "id": "4758c884-83c3-4eae-8e5d-430238da9850",
   "metadata": {},
   "outputs": [],
   "source": [
    "dataset = loader1.get_dataset(lags=2)"
   ]
  },
  {
   "cell_type": "markdown",
   "id": "e106bf63-3efa-498b-ad9f-7eda22b2eb13",
   "metadata": {},
   "source": [
    "mindex = itstgcn.rand_mindex(dataset,mrate=0)\n",
    "dataset_miss = itstgcn.miss(dataset,mindex,mtype='rand')"
   ]
  },
  {
   "cell_type": "code",
   "execution_count": 410,
   "id": "7459b7fb-72fd-4fb8-99ed-cfddc3a6c979",
   "metadata": {},
   "outputs": [],
   "source": [
    "mindex = [random.sample(range(0, T), int(T*0.6)),[np.array(list(range(20,30)))]]\n",
    "dataset_miss = itstgcnGConvLSTM.miss(dataset,mindex,mtype='block')"
   ]
  },
  {
   "cell_type": "code",
   "execution_count": 411,
   "id": "416085a0-a85f-41a7-9ccf-e9ee8819246f",
   "metadata": {},
   "outputs": [],
   "source": [
    "dataset_padded = itstgcnGConvLSTM.padding(dataset_miss,interpolation_method='linear')"
   ]
  },
  {
   "cell_type": "markdown",
   "id": "2cf6656d-86fa-4aaa-bf12-6a57c46115d9",
   "metadata": {},
   "source": [
    "`-` 학습"
   ]
  },
  {
   "cell_type": "code",
   "execution_count": 412,
   "id": "033be495-9963-48dc-b753-7b6068874e90",
   "metadata": {},
   "outputs": [],
   "source": [
    "lrnr_GConvGRU = itstgcnGConvLSTM.StgcnLearner(dataset_padded)"
   ]
  },
  {
   "cell_type": "code",
   "execution_count": 427,
   "id": "92ce3e0f-1107-4499-8022-691d3641d6dd",
   "metadata": {},
   "outputs": [
    {
     "name": "stdout",
     "output_type": "stream",
     "text": [
      "5/5\r"
     ]
    }
   ],
   "source": [
    "lrnr_GConvGRU.learn(filters=2,epoch=5)"
   ]
  },
  {
   "cell_type": "code",
   "execution_count": 428,
   "id": "ea1908f3-15e5-4246-87d6-e82ddfd9ef6b",
   "metadata": {},
   "outputs": [],
   "source": [
    "lrnr_GConvGRU1 = itstgcnGConvLSTM.ITStgcnLearner(dataset_padded)"
   ]
  },
  {
   "cell_type": "code",
   "execution_count": 429,
   "id": "d62357ae-3d50-44cc-bd62-2078374530f2",
   "metadata": {},
   "outputs": [
    {
     "name": "stdout",
     "output_type": "stream",
     "text": [
      "5/5\r"
     ]
    }
   ],
   "source": [
    "lrnr_GConvGRU1.learn(filters=2,epoch=5)"
   ]
  },
  {
   "cell_type": "code",
   "execution_count": 430,
   "id": "b721451f-63cc-4d4e-aa75-d40bf69e29e7",
   "metadata": {},
   "outputs": [],
   "source": [
    "evtor_GConvGRU = Eval_csy(lrnr_GConvGRU,dataset_padded)"
   ]
  },
  {
   "cell_type": "code",
   "execution_count": 431,
   "id": "a17d5ab5-9dd1-466d-b057-9fd32193d880",
   "metadata": {},
   "outputs": [],
   "source": [
    "evtor_GConvGRU1 = Eval_csy(lrnr_GConvGRU1,dataset_padded)"
   ]
  },
  {
   "cell_type": "code",
   "execution_count": 432,
   "id": "3cfa75b6-c6dd-4076-ad26-1cd1228334e6",
   "metadata": {},
   "outputs": [
    {
     "data": {
      "image/png": "[encoded data removed]",
      "text/plain": [
       "<Figure size 1440x720 with 1 Axes>"
      ]
     },
     "metadata": {},
     "output_type": "display_data"
    }
   ],
   "source": [
    "with plt.style.context('seaborn-white'):\n",
    "    fig, ax = plt.subplots(figsize=(20,10))\n",
    "    \n",
    "    ax.plot(evtor_GConvGRU.f_tr[:,0],'--o',color='black',alpha=0.5,label='Imputation')\n",
    "    ax.plot(data1['x'][:],'-',color='grey',label='Complete Data')\n",
    "    ax.plot(evtor_GConvGRU.fhat_tr[:,0],color='brown',lw=3,label='STGCN')\n",
    "    ax.plot(evtor_GConvGRU1.fhat_tr[:,0],color='blue',lw=3,label='ITSTGCN')\n",
    "    \n",
    "    ax.legend(fontsize=20,loc='lower left',facecolor='white', frameon=True)\n",
    "    ax.tick_params(axis='y', labelsize=20)\n",
    "    ax.tick_params(axis='x', labelsize=20)"
   ]
  },
  {
   "cell_type": "code",
   "execution_count": 433,
   "id": "2f27363b-cc70-4f73-bc42-286ce63d90b7",
   "metadata": {},
   "outputs": [
    {
     "data": {
      "image/png": "[encoded data removed]",
      "text/plain": [
       "<Figure size 1440x720 with 1 Axes>"
      ]
     },
     "metadata": {},
     "output_type": "display_data"
    }
   ],
   "source": [
    "with plt.style.context('seaborn-white'):\n",
    "    fig, ax = plt.subplots(figsize=(20,10))\n",
    "    \n",
    "    ax.plot(evtor_GConvGRU.f_tr[:,1],'--o',color='black',alpha=0.5,label='Imputation')\n",
    "    ax.plot(data1['y'][:],'-',color='grey',label='Complete Data')\n",
    "    ax.plot(evtor_GConvGRU.fhat_tr[:,1],color='brown',lw=3,label='STGCN')\n",
    "    ax.plot(evtor_GConvGRU1.fhat_tr[:,1],color='blue',lw=3,label='ITSTGCN')\n",
    "    \n",
    "    ax.legend(fontsize=20,loc='lower left',facecolor='white', frameon=True)\n",
    "    ax.tick_params(axis='y', labelsize=20)\n",
    "    ax.tick_params(axis='x', labelsize=20)"
   ]
  },
  {
   "cell_type": "code",
   "execution_count": 290,
   "id": "85af0367-4345-4923-b70c-f421862952d8",
   "metadata": {},
   "outputs": [],
   "source": [
    "import itstgcnsnd\n",
    "import torch\n",
    "import numpy as np"
   ]
  },
  {
   "cell_type": "code",
   "execution_count": 111,
   "id": "364fe660-1407-4301-8e32-177e2ec638e2",
   "metadata": {},
   "outputs": [],
   "source": [
    "loader1 = itstgcnsnd.DatasetLoader(data_dict1)"
   ]
  },
  {
   "cell_type": "code",
   "execution_count": 112,
   "id": "56805762-3512-4c09-a91a-b36c18f5ddab",
   "metadata": {},
   "outputs": [],
   "source": [
    "dataset = loader1.get_dataset(lags=1)"
   ]
  },
  {
   "cell_type": "markdown",
   "id": "18abd7ba-6243-4854-b618-1af29cae48de",
   "metadata": {},
   "source": [
    "mindex = itstgcn.rand_mindex(dataset,mrate=0)\n",
    "dataset_miss = itstgcn.miss(dataset,mindex,mtype='rand')"
   ]
  },
  {
   "cell_type": "code",
   "execution_count": 113,
   "id": "9576d9ce-75d2-44bc-9145-4d641bebbe0b",
   "metadata": {},
   "outputs": [],
   "source": [
    "mindex = [random.sample(range(0, T), int(T*0.5)),[np.array(list(range(20,30)))]]\n",
    "dataset_miss = itstgcnsnd.miss(dataset,mindex,mtype='block')"
   ]
  },
  {
   "cell_type": "code",
   "execution_count": 114,
   "id": "182cb51a-873b-40fd-9d62-44e033c3cbf3",
   "metadata": {},
   "outputs": [],
   "source": [
    "dataset_padded = itstgcnsnd.padding(dataset_miss,interpolation_method='linear')"
   ]
  },
  {
   "cell_type": "markdown",
   "id": "14376a29-9c3d-438d-a83d-7f7f6f79e23c",
   "metadata": {},
   "source": [
    "`-` 학습"
   ]
  },
  {
   "cell_type": "code",
   "execution_count": 115,
   "id": "4c29ba1f-aacc-4168-8992-324fce9d1ca2",
   "metadata": {},
   "outputs": [],
   "source": [
    "lrnr_GConvGRU = itstgcnsnd.StgcnLearner(dataset_padded)"
   ]
  },
  {
   "cell_type": "code",
   "execution_count": 116,
   "id": "83246440-6e62-45f3-853d-eb7c4a0d36f5",
   "metadata": {},
   "outputs": [
    {
     "name": "stdout",
     "output_type": "stream",
     "text": [
      "5/5\r"
     ]
    }
   ],
   "source": [
    "lrnr_GConvGRU.learn(filters=32,epoch=5)"
   ]
  },
  {
   "cell_type": "code",
   "execution_count": 117,
   "id": "9c5ba237-9ba5-45cb-b04d-2fbe49ce0a48",
   "metadata": {},
   "outputs": [],
   "source": [
    "lrnr_GConvGRU1 = itstgcnsnd.ITStgcnLearner(dataset_padded)"
   ]
  },
  {
   "cell_type": "code",
   "execution_count": null,
   "id": "2375ff9f-88b2-42c4-9b9f-5bac87830684",
   "metadata": {},
   "outputs": [
    {
     "name": "stdout",
     "output_type": "stream",
     "text": [
      "3/5\r"
     ]
    }
   ],
   "source": [
    "lrnr_GConvGRU1.learn(filters=32,epoch=5)"
   ]
  },
  {
   "cell_type": "code",
   "execution_count": null,
   "id": "7f4d3d00-b3f9-496b-9222-ff9de732e107",
   "metadata": {},
   "outputs": [],
   "source": [
    "evtor_GConvGRU = Eval_csy(lrnr_GConvGRU,dataset_padded)"
   ]
  },
  {
   "cell_type": "code",
   "execution_count": null,
   "id": "480813f0-8a2b-42b9-8fbc-b306a37ab743",
   "metadata": {},
   "outputs": [],
   "source": [
    "evtor_GConvGRU1 = Eval_csy(lrnr_GConvGRU1,dataset_padded)"
   ]
  },
  {
   "cell_type": "code",
   "execution_count": null,
   "id": "0927419e-7caa-40e4-87da-bde012656697",
   "metadata": {},
   "outputs": [],
   "source": [
    "with plt.style.context('seaborn-white'):\n",
    "    fig, ax = plt.subplots(figsize=(20,10))\n",
    "    \n",
    "    ax.plot(evtor_GConvGRU.f_tr[:,0],'--o',color='black',alpha=0.5,label='Imputation')\n",
    "    ax.plot(data1['x'][:],'-',color='grey',label='Complete Data')\n",
    "    ax.plot(evtor_GConvGRU.fhat_tr[:,0],color='brown',lw=3,label='STGCN')\n",
    "    ax.plot(evtor_GConvGRU1.fhat_tr[:,0],color='blue',lw=3,label='ITSTGCN')\n",
    "    \n",
    "    ax.legend(fontsize=20,loc='lower left',facecolor='white', frameon=True)\n",
    "    ax.tick_params(axis='y', labelsize=20)\n",
    "    ax.tick_params(axis='x', labelsize=20)"
   ]
  },
  {
   "cell_type": "code",
   "execution_count": null,
   "id": "f6f5ff90-5226-48a8-b2b8-83a342827e96",
   "metadata": {},
   "outputs": [],
   "source": [
    "with plt.style.context('seaborn-white'):\n",
    "    fig, ax = plt.subplots(figsize=(20,10))\n",
    "    \n",
    "    ax.plot(evtor_GConvGRU.f_tr[:,1],'--o',color='black',alpha=0.5,label='Imputation')\n",
    "    ax.plot(data1['y'][:],'-',color='grey',label='Complete Data')\n",
    "    ax.plot(evtor_GConvGRU.fhat_tr[:,1],color='brown',lw=3,label='STGCN')\n",
    "    ax.plot(evtor_GConvGRU1.fhat_tr[:,1],color='blue',lw=3,label='ITSTGCN')\n",
    "    \n",
    "    ax.legend(fontsize=20,loc='lower left',facecolor='white', frameon=True)\n",
    "    ax.tick_params(axis='y', labelsize=20)\n",
    "    ax.tick_params(axis='x', labelsize=20)"
   ]
  },
  {
   "cell_type": "code",
   "execution_count": null,
   "id": "67651767-b0a0-4a5d-b142-1aede78f8de5",
   "metadata": {},
   "outputs": [],
   "source": []
  },
  {
   "cell_type": "code",
   "execution_count": null,
   "id": "3f3f3cf2-61b4-45d1-97ef-0bda3284cb07",
   "metadata": {},
   "outputs": [],
   "source": []
  }
 ],
 "metadata": {
  "kernelspec": {
   "display_name": "Python 3",
   "language": "python",
   "name": "python3"
  },
  "language_info": {
   "codemirror_mode": {
    "name": "ipython",
    "version": 3
   },
   "file_extension": ".py",
   "mimetype": "text/x-python",
   "name": "python",
   "nbconvert_exporter": "python",
   "pygments_lexer": "ipython3",
   "version": "3.8.0"
  },
  "toc-autonumbering": false,
  "toc-showcode": false
 },
 "nbformat": 4,
 "nbformat_minor": 5
}

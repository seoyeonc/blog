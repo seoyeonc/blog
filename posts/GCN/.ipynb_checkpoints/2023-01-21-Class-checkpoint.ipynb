{
 "cells": [
  {
   "cell_type": "raw",
   "id": "6c8f0bf9-e110-4e30-8596-b2dd384e79e0",
   "metadata": {
    "id": "cac470df-29e7-4148-9bbd-d8b9a32fa570",
    "tags": []
   },
   "source": [
    "---\n",
    "title: \"Class of Method\"\n",
    "author: \"SEOYEON CHOI\"\n",
    "date: \"2023-01-21\"\n",
    "categories:\n",
    "  - ST-GCN\n",
    "---"
   ]
  },
  {
   "cell_type": "markdown",
   "id": "ccf50ae2-58ec-4c6e-9cc8-393c473767eb",
   "metadata": {},
   "source": [
    "> Class"
   ]
  },
  {
   "cell_type": "markdown",
   "id": "1463f6e7-0b6c-490d-b7ee-4022ce4345a8",
   "metadata": {
    "tags": []
   },
   "source": [
    "# import"
   ]
  },
  {
   "cell_type": "code",
   "execution_count": 1,
   "id": "f90af573-4bc0-4c9e-ad94-e9739160055e",
   "metadata": {},
   "outputs": [],
   "source": [
    "import rpy2\n",
    "import rpy2.robjects as ro \n",
    "from rpy2.robjects.vectors import FloatVector \n",
    "from rpy2.robjects.packages import importr\n",
    "\n",
    "import torch\n",
    "import numpy as np\n",
    "from tqdm import tqdm\n",
    "\n",
    "import torch.nn.functional as F\n",
    "from torch_geometric_temporal.nn.recurrent import GConvGRU\n",
    "\n",
    "import matplotlib.pyplot as plt\n",
    "import pandas as pd\n",
    "\n",
    "import time\n",
    "\n",
    "from scipy.interpolate import interp1d"
   ]
  },
  {
   "cell_type": "code",
   "execution_count": 2,
   "id": "dbbe91df-66c9-46da-abf9-379f37061d5e",
   "metadata": {},
   "outputs": [],
   "source": [
    "class RecurrentGCN(torch.nn.Module):\n",
    "    def __init__(self, node_features, filters):\n",
    "        super(RecurrentGCN, self).__init__()\n",
    "        self.recurrent = GConvGRU(node_features, filters, 2)\n",
    "        self.linear = torch.nn.Linear(filters, 1)\n",
    "\n",
    "    def forward(self, x, edge_index, edge_weight):\n",
    "        h = self.recurrent(x, edge_index, edge_weight)\n",
    "        h = F.relu(h)\n",
    "        h = self.linear(h)\n",
    "        return h"
   ]
  },
  {
   "cell_type": "markdown",
   "id": "354a98c5-e3bc-4e2b-9b25-4266752c5f3c",
   "metadata": {},
   "source": [
    "# R"
   ]
  },
  {
   "cell_type": "code",
   "execution_count": 232,
   "id": "c1238fc5-7532-4649-8fe5-f259eb4417af",
   "metadata": {},
   "outputs": [
    {
     "name": "stdout",
     "output_type": "stream",
     "text": [
      "The rpy2.ipython extension is already loaded. To reload it, use:\n",
      "  %reload_ext rpy2.ipython\n"
     ]
    }
   ],
   "source": [
    "%load_ext rpy2.ipython"
   ]
  },
  {
   "cell_type": "code",
   "execution_count": 233,
   "id": "a4a34de3-d22c-49f1-9b49-6bc5ea42dbdf",
   "metadata": {},
   "outputs": [],
   "source": [
    "%%R\n",
    "library(GNAR)\n",
    "library(igraph)"
   ]
  },
  {
   "cell_type": "markdown",
   "id": "7aa770db-3946-4d25-aa99-414f58cbb354",
   "metadata": {},
   "source": [
    "# Data"
   ]
  },
  {
   "cell_type": "code",
   "execution_count": 234,
   "id": "16085974-e53c-4f25-a20a-d6656903cb9b",
   "metadata": {},
   "outputs": [],
   "source": [
    "%%R\n",
    "edges <- as.matrix(fiveNet)\n",
    "data(\"fiveNode\")"
   ]
  },
  {
   "cell_type": "code",
   "execution_count": 235,
   "id": "d32414c4-4daf-4a53-a6b2-9c1c2607d854",
   "metadata": {},
   "outputs": [],
   "source": [
    "%R -o fiveVTS\n",
    "%R -o edges"
   ]
  },
  {
   "cell_type": "markdown",
   "id": "0739b940-3083-4d50-a190-e3d89e4e7531",
   "metadata": {},
   "source": [
    "- node: 5\n",
    "- time 200"
   ]
  },
  {
   "cell_type": "markdown",
   "id": "2337308d-7c56-458c-976f-3533b75e9d57",
   "metadata": {
    "tags": []
   },
   "source": [
    "# functions "
   ]
  },
  {
   "cell_type": "code",
   "execution_count": 236,
   "id": "6da192de-76ae-40f9-837a-16bbabe44822",
   "metadata": {},
   "outputs": [],
   "source": [
    "def vis(spatiotemporaldata):\n",
    "    N = spatiotemporaldata.shape[1]\n",
    "    fig, ax = plt.subplots(N,1)\n",
    "    for n in range(N):\n",
    "        ax[n].plot(spatiotemporaldata[:,n])\n",
    "        ax[n].set_title('node='+str(n))\n",
    "    #fig.set_width()\n",
    "    fig.set_figheight(N*2) \n",
    "    fig.tight_layout()\n",
    "    return fig "
   ]
  },
  {
   "cell_type": "code",
   "execution_count": 237,
   "id": "b4bd19c6-1949-4564-9f6b-37c0542a7f7d",
   "metadata": {},
   "outputs": [],
   "source": [
    "def vis2(spatiotemporaldata1,spatiotemporaldata2):\n",
    "    N = spatiotemporaldata1.shape[1]\n",
    "    fig, ax = plt.subplots(N,1)\n",
    "    for n in range(N):\n",
    "        ax[n].plot(spatiotemporaldata1[:,n],label='data1')\n",
    "        ax[n].plot(spatiotemporaldata2[:,n],label='data2')\n",
    "        ax[n].set_title('node='+str(n))\n",
    "        ax[n].legend()\n",
    "    #fig.set_width()\n",
    "    fig.set_figheight(N*2) \n",
    "    fig.tight_layout()\n",
    "    return fig "
   ]
  },
  {
   "cell_type": "code",
   "execution_count": 238,
   "id": "5428f479-98b4-47bd-8d6e-8591dc4f12ff",
   "metadata": {},
   "outputs": [],
   "source": [
    "edges_tensor = torch.tensor(edges)"
   ]
  },
  {
   "cell_type": "code",
   "execution_count": 239,
   "id": "133f03cf-c836-409a-8d21-f3d2d52289b1",
   "metadata": {},
   "outputs": [],
   "source": [
    "nonzero_indices = edges_tensor.nonzero()"
   ]
  },
  {
   "cell_type": "code",
   "execution_count": 240,
   "id": "925da35c-3ec1-4cf3-9bac-c4245ef0cf3b",
   "metadata": {},
   "outputs": [],
   "source": [
    "fiveNet_edge = np.array(nonzero_indices).T"
   ]
  },
  {
   "cell_type": "code",
   "execution_count": 241,
   "id": "af0ff662-d913-462b-b35c-ae377533c16c",
   "metadata": {},
   "outputs": [],
   "source": [
    "T = 200\n",
    "N = 5 # number of Nodes\n",
    "E = fiveNet_edge\n",
    "V = np.array([1,2,3,4,5])\n",
    "t = np.arange(0,T)\n",
    "node_features = 1"
   ]
  },
  {
   "cell_type": "code",
   "execution_count": 242,
   "id": "cef13f89-df0c-467f-b856-7145f554e428",
   "metadata": {},
   "outputs": [],
   "source": [
    "edge_index = torch.tensor(E)\n",
    "edge_attr = torch.tensor(np.array([1,1,1,1,1,1,1,1,1,1]),dtype=torch.float32)"
   ]
  },
  {
   "cell_type": "code",
   "execution_count": 243,
   "id": "939af11d-b1fe-4077-8b31-0853e435b47d",
   "metadata": {},
   "outputs": [],
   "source": [
    "fiveVTS_train = fiveVTS[:int(len(fiveVTS)*0.8)]\n",
    "fiveVTS_test = fiveVTS[int(len(fiveVTS)*0.8):]"
   ]
  },
  {
   "cell_type": "markdown",
   "id": "b984ecff-ebeb-4d3f-97de-297aa69aa487",
   "metadata": {},
   "source": [
    "# Random Missing Values"
   ]
  },
  {
   "cell_type": "code",
   "execution_count": 260,
   "id": "a9c2d697-7649-4ed0-a0c7-e4b66c4fd45c",
   "metadata": {},
   "outputs": [],
   "source": [
    "class Missing:\n",
    "    def __init__(self,df):\n",
    "        self.df = df\n",
    "        self.N = N\n",
    "        self.number = []\n",
    "    def miss(self,percent=0.5):\n",
    "        self.missing = self.df.copy()\n",
    "        self.percent = percent\n",
    "        for i in range(self.N):\n",
    "            self.seed = np.random.choice(1000,1,replace=False)\n",
    "            np.random.seed(self.seed)\n",
    "            self.number.append(np.random.choice(int(len(self.df)),int(len(self.df)*self.percent),replace=False))\n",
    "            self.missing[self.number[i],i] = float('nan')\n",
    "    def first_mean(self):\n",
    "        self.train_mean = self.missing.copy()\n",
    "        for i in range(self.N):\n",
    "            self.train_mean[self.number[i],i] = np.nanmean(self.missing[:,i])\n",
    "    def second_linear(self):\n",
    "        self.train_linear = pd.DataFrame(self.missing)\n",
    "        self.train_linear.interpolate(method='linear', inplace=True)\n",
    "        self.train_linear = self.train_linear.fillna(0)\n",
    "        self.train_linear = np.array(self.train_linear).reshape(int(len(self.df)),N)"
   ]
  },
  {
   "cell_type": "code",
   "execution_count": 261,
   "id": "038c3192-cfed-4b3b-9bf1-ebc0101e814b",
   "metadata": {},
   "outputs": [],
   "source": [
    "_zero = Missing(fiveVTS_train)"
   ]
  },
  {
   "cell_type": "code",
   "execution_count": 321,
   "id": "02eb64d3-0666-4cdf-a40f-29c7d91e768a",
   "metadata": {},
   "outputs": [
    {
     "data": {
      "text/plain": [
       "0.5"
      ]
     },
     "execution_count": 321,
     "metadata": {},
     "output_type": "execute_result"
    }
   ],
   "source": [
    "_zero.percent"
   ]
  },
  {
   "cell_type": "code",
   "execution_count": 262,
   "id": "6d4e89ac-0dc3-4450-8ab6-112b78f87633",
   "metadata": {},
   "outputs": [],
   "source": [
    "_zero.miss(percent = 0.5)"
   ]
  },
  {
   "cell_type": "code",
   "execution_count": null,
   "id": "e70b6cf1-ae8c-4073-9eec-f18dd13b0324",
   "metadata": {},
   "outputs": [],
   "source": [
    "vis(_zero.missing);"
   ]
  },
  {
   "cell_type": "code",
   "execution_count": 263,
   "id": "b33810aa-4e6c-4a8e-9546-6eccbdb6c6c3",
   "metadata": {},
   "outputs": [],
   "source": [
    "_zero.first_mean()"
   ]
  },
  {
   "cell_type": "code",
   "execution_count": null,
   "id": "31d76c0d-dd86-44a4-9a66-650a489f8c99",
   "metadata": {},
   "outputs": [],
   "source": [
    "vis(_zero.train_mean);"
   ]
  },
  {
   "cell_type": "code",
   "execution_count": 264,
   "id": "22206382-ee72-4861-a8cc-5f9223faec7d",
   "metadata": {},
   "outputs": [],
   "source": [
    "_zero.second_linear()"
   ]
  },
  {
   "cell_type": "code",
   "execution_count": null,
   "id": "04af9eec-97b7-4c89-a993-7ec5b53d7e62",
   "metadata": {},
   "outputs": [],
   "source": [
    "vis(np.array(_zero.train_linear).reshape(160,5));"
   ]
  },
  {
   "cell_type": "code",
   "execution_count": 329,
   "id": "fc220896-e8f5-4269-b50d-6e165c05bb3b",
   "metadata": {},
   "outputs": [],
   "source": [
    "class Method:\n",
    "    def __init__(self,df,time):\n",
    "        self.df = df\n",
    "        self.N = N\n",
    "        self.time = time\n",
    "        self.edge_index = edge_index\n",
    "        self.edge_attr = edge_attr\n",
    "        self.node_features = node_features\n",
    "        self.xt_test = torch.tensor(fiveVTS_test.reshape(int(len(fiveVTS_test)),self.N,1)[:-1,:,:]).float()\n",
    "        self.w = np.zeros(((self.time-1)*self.N,(self.time-1)*self.N))\n",
    "        self.mse = []\n",
    "    def _weight(self):\n",
    "        for i in range((self.time-1)*self.N):\n",
    "            for j in range((self.time-1)*self.N):\n",
    "                if i==j :\n",
    "                    self.w[i,j] = 0\n",
    "                elif np.abs(i-j) <= 1 : \n",
    "                    self.w[i,j] = 1\n",
    "    def _STGCN(self):\n",
    "        self.df2 = torch.tensor(self.df).reshape(self.time,self.N,1).float()\n",
    "        self.X = self.df2[:self.time-1,:,:]\n",
    "        self.y = self.df2[1:,:,:]\n",
    "        model = RecurrentGCN(node_features=1, filters=4)\n",
    "        optimizer = torch.optim.Adam(model.parameters(), lr=0.01)\n",
    "        model.train()\n",
    "        for epoch in tqdm(range(50)):\n",
    "            for time, (xt,yt) in enumerate(zip(self.X,self.y)):\n",
    "                y_hat = model(xt, edge_index, edge_attr)\n",
    "                cost = torch.mean((y_hat-yt)**2)\n",
    "                cost.backward()\n",
    "                optimizer.step()\n",
    "                optimizer.zero_grad()\n",
    "        self.train_result = torch.stack([model(xt, edge_index, edge_attr) for xt in self.X]).detach().numpy()\n",
    "        self.test_result = torch.stack([model(xt, edge_index, edge_attr) for xt in self.xt_test]).detach().numpy()\n",
    "        for i in range(self.N):\n",
    "            self.mse.append(np.mean((fiveVTS_test[1:,i] - self.test_result.reshape(int(len(self.xt_test)),self.N)[:,i])))\n",
    "    def FT(self):\n",
    "        self._weight()\n",
    "        self._STGCN()\n",
    "        self.d = np.array(self.w.sum(axis=1))\n",
    "        self.D = np.diag(self.d)\n",
    "        self.L = np.array(np.diag(1/np.sqrt(self.d)) @ (self.D-self.w) @ np.diag(1/np.sqrt(self.d)))\n",
    "        self.lamb, self.Psi = np.linalg.eigh(self.L)\n",
    "        self.Lamb = np.diag(self.lamb)\n",
    "        self.fhatbar = self.Psi.T @ self.train_result.reshape((self.time-1)*self.N,1)\n",
    "        ebayesthresh = importr('EbayesThresh').ebayesthresh\n",
    "        self.fhatbar_threshed = ebayesthresh(FloatVector(self.fhatbar))\n",
    "        self.fhatbarhat = self.Psi @ self.fhatbar_threshed\n",
    "        self.FT_result = self.fhatbarhat.reshape((self.time-1),self.N,1)"
   ]
  },
  {
   "cell_type": "markdown",
   "id": "b54e1b8d-36be-48dc-81e7-9c86e792b0ef",
   "metadata": {},
   "source": [
    "# 1. Mean Dataset Name : Calss.first_mean"
   ]
  },
  {
   "cell_type": "markdown",
   "id": "1380e4cb-70b7-4335-bb7a-7e8e5e925b86",
   "metadata": {},
   "source": [
    "mean result"
   ]
  },
  {
   "cell_type": "code",
   "execution_count": null,
   "id": "f38d2788-c92c-4499-addd-adb4155964a3",
   "metadata": {},
   "outputs": [],
   "source": [
    "vis(_zero.train_mean);"
   ]
  },
  {
   "cell_type": "code",
   "execution_count": 330,
   "id": "b6c6b180-4a84-46ee-b315-4f3d57245151",
   "metadata": {},
   "outputs": [],
   "source": [
    "_two = Method(_zero.train_mean,160)"
   ]
  },
  {
   "cell_type": "code",
   "execution_count": 331,
   "id": "4e533451-aeb6-4b8d-9bc7-7c92dc903e10",
   "metadata": {},
   "outputs": [
    {
     "name": "stderr",
     "output_type": "stream",
     "text": [
      "100%|██████████| 50/50 [00:27<00:00,  1.85it/s]\n"
     ]
    }
   ],
   "source": [
    "_two.FT()"
   ]
  },
  {
   "cell_type": "markdown",
   "id": "cfc65267-6511-4c51-a596-c73182100c78",
   "metadata": {},
   "source": [
    "ST-GCN"
   ]
  },
  {
   "cell_type": "code",
   "execution_count": null,
   "id": "1ee1e242-5849-4a63-bf1d-412254f72d54",
   "metadata": {},
   "outputs": [],
   "source": [
    "vis2(fiveVTS_test[1:],_two.test_result);"
   ]
  },
  {
   "cell_type": "code",
   "execution_count": null,
   "id": "9ae5761e-8338-4333-8e5a-d61fe606c68d",
   "metadata": {},
   "outputs": [],
   "source": [
    "vis2(_zero.train_mean,_two.train_result);"
   ]
  },
  {
   "cell_type": "markdown",
   "id": "c3d7fa15-c28a-42fd-a076-2c5ed9397db5",
   "metadata": {},
   "source": [
    "Ebayes result"
   ]
  },
  {
   "cell_type": "code",
   "execution_count": null,
   "id": "4a8c644b-ed8c-48a3-a075-9217be3c7f64",
   "metadata": {},
   "outputs": [],
   "source": [
    "plt.plot(_two.fhatbar)\n",
    "plt.plot(_two.fhatbar_threshed)"
   ]
  },
  {
   "cell_type": "markdown",
   "id": "6b88dd00-5260-4d93-a3cd-ea2295b5875d",
   "metadata": {},
   "source": [
    "Inverse FT result"
   ]
  },
  {
   "cell_type": "code",
   "execution_count": null,
   "id": "b2b6a9f8-4fbe-40ce-a77b-b4dc2d45927e",
   "metadata": {},
   "outputs": [],
   "source": [
    "vis2(_zero.train_mean,_two.FT_result.reshape(159,5));"
   ]
  },
  {
   "cell_type": "code",
   "execution_count": 334,
   "id": "fce9ed95-e823-4c28-9668-eaa582085540",
   "metadata": {},
   "outputs": [
    {
     "data": {
      "text/plain": [
       "[-0.26380831130149446,\n",
       " -0.1795596854694897,\n",
       " 0.02812848429232009,\n",
       " -0.35129635553515,\n",
       " -0.21243283600138896]"
      ]
     },
     "execution_count": 334,
     "metadata": {},
     "output_type": "execute_result"
    }
   ],
   "source": [
    "_two.mse"
   ]
  },
  {
   "cell_type": "code",
   "execution_count": 332,
   "id": "a22799a3-cd5e-49e9-9955-d0bf7dabdfbc",
   "metadata": {},
   "outputs": [],
   "source": [
    "_three = Method(_two.FT_result,159)"
   ]
  },
  {
   "cell_type": "code",
   "execution_count": 333,
   "id": "b753fd9a-0d69-4920-8f92-8cf7001e56d8",
   "metadata": {},
   "outputs": [
    {
     "name": "stderr",
     "output_type": "stream",
     "text": [
      "100%|██████████| 50/50 [00:26<00:00,  1.87it/s]\n"
     ]
    }
   ],
   "source": [
    "_three.FT()"
   ]
  },
  {
   "cell_type": "markdown",
   "id": "58ed4473-b7b6-4485-ae37-8ccba0cc4561",
   "metadata": {},
   "source": [
    "ST-GCN"
   ]
  },
  {
   "cell_type": "code",
   "execution_count": null,
   "id": "a98d79c8-504c-4ed7-904c-c6c8114a8f20",
   "metadata": {},
   "outputs": [],
   "source": [
    "vis2(fiveVTS_test[1:],_three.test_result);"
   ]
  },
  {
   "cell_type": "code",
   "execution_count": null,
   "id": "b03bcf82-4371-41b9-b99b-ca85143415b6",
   "metadata": {},
   "outputs": [],
   "source": [
    "vis2(_zero.train_mean,_three.train_result);"
   ]
  },
  {
   "cell_type": "markdown",
   "id": "6f228703-4a98-4231-8bda-b0c21778e527",
   "metadata": {},
   "source": [
    "Ebayes result"
   ]
  },
  {
   "cell_type": "code",
   "execution_count": null,
   "id": "5307b34c-ae08-4bce-ac62-2e306edb7091",
   "metadata": {},
   "outputs": [],
   "source": [
    "plt.plot(_three.fhatbar)\n",
    "plt.plot(_three.fhatbar_threshed)"
   ]
  },
  {
   "cell_type": "markdown",
   "id": "d4bc757a-7d01-483d-8af4-46bfb70943d3",
   "metadata": {},
   "source": [
    "Inverse FT result"
   ]
  },
  {
   "cell_type": "code",
   "execution_count": null,
   "id": "07fbee71-8d2c-4374-9a97-3d0fb4af92d6",
   "metadata": {},
   "outputs": [],
   "source": [
    "vis2(_zero.train_mean,_three.FT_result.reshape(158,5));"
   ]
  },
  {
   "cell_type": "code",
   "execution_count": 335,
   "id": "980fc8a6-4d7b-42f1-983b-29151e0acf50",
   "metadata": {},
   "outputs": [
    {
     "data": {
      "text/plain": [
       "[-0.2488740354290622,\n",
       " -0.07266371399933547,\n",
       " 0.029141087065552435,\n",
       " -0.26614867701738965,\n",
       " -0.2206127487748514]"
      ]
     },
     "execution_count": 335,
     "metadata": {},
     "output_type": "execute_result"
    }
   ],
   "source": [
    "_three.mse"
   ]
  },
  {
   "cell_type": "code",
   "execution_count": null,
   "id": "7dedbab3-db7c-41dc-8e59-323e7df773d5",
   "metadata": {},
   "outputs": [],
   "source": []
  },
  {
   "cell_type": "markdown",
   "id": "54c80a17-2286-40b1-98f4-ce826c3422c7",
   "metadata": {
    "tags": []
   },
   "source": [
    "# 2. Linear Interpolation Dataset Name : Calss.second_linear"
   ]
  },
  {
   "cell_type": "code",
   "execution_count": null,
   "id": "bede09a5-be10-41e8-999d-2b80f1e684f6",
   "metadata": {},
   "outputs": [],
   "source": [
    "vis(np.array(_zero.train_linear).reshape(160,5));"
   ]
  },
  {
   "cell_type": "code",
   "execution_count": 336,
   "id": "fd44bcb5-07d6-49ff-9816-40c04ffe5ba7",
   "metadata": {},
   "outputs": [],
   "source": [
    "__two = Method(_zero.train_linear,160)"
   ]
  },
  {
   "cell_type": "code",
   "execution_count": 337,
   "id": "5e2b8778-ec29-4025-9ed8-7ed8e6fa2d05",
   "metadata": {},
   "outputs": [
    {
     "name": "stderr",
     "output_type": "stream",
     "text": [
      "100%|██████████| 50/50 [00:27<00:00,  1.84it/s]\n"
     ]
    }
   ],
   "source": [
    "__two.FT()"
   ]
  },
  {
   "cell_type": "markdown",
   "id": "f7a7576b-6d7a-4b38-ac12-b34a7d0baca2",
   "metadata": {},
   "source": [
    "ST-GCN"
   ]
  },
  {
   "cell_type": "code",
   "execution_count": null,
   "id": "e5b893bc-7687-49a0-b57b-7ffdaab4f279",
   "metadata": {},
   "outputs": [],
   "source": [
    "vis2(fiveVTS_test[1:],__two.test_result);"
   ]
  },
  {
   "cell_type": "code",
   "execution_count": null,
   "id": "9058538d-a6e0-4237-9870-32acd06cf68d",
   "metadata": {},
   "outputs": [],
   "source": [
    "vis2(_zero.train_linear,__two.train_result);"
   ]
  },
  {
   "cell_type": "markdown",
   "id": "a8b62dbb-6cff-4084-b9a9-7bc6dc0aa257",
   "metadata": {},
   "source": [
    "Ebayes result"
   ]
  },
  {
   "cell_type": "code",
   "execution_count": null,
   "id": "602c957f-2547-4598-bea9-00c09e7fe958",
   "metadata": {},
   "outputs": [],
   "source": [
    "plt.plot(__two.fhatbar)\n",
    "plt.plot(__two.fhatbar_threshed)"
   ]
  },
  {
   "cell_type": "markdown",
   "id": "f54a20d0-9ead-4294-982e-0bcd09441de4",
   "metadata": {},
   "source": [
    "Inverse FT result"
   ]
  },
  {
   "cell_type": "code",
   "execution_count": null,
   "id": "57a2a97b-8a6b-4061-b992-fad3e16fac24",
   "metadata": {},
   "outputs": [],
   "source": [
    "vis2(_zero.train_mean,__two.FT_result.reshape(159,5));"
   ]
  },
  {
   "cell_type": "code",
   "execution_count": 338,
   "id": "d97fdd05-ae01-46d3-965d-fa34d8ccd774",
   "metadata": {},
   "outputs": [
    {
     "data": {
      "text/plain": [
       "[-0.059579834465363316,\n",
       " -0.052492935485616586,\n",
       " 0.018997180614363864,\n",
       " -0.172068996515357,\n",
       " -0.0844420533584131]"
      ]
     },
     "execution_count": 338,
     "metadata": {},
     "output_type": "execute_result"
    }
   ],
   "source": [
    "__two.mse"
   ]
  },
  {
   "cell_type": "code",
   "execution_count": 339,
   "id": "4675fa9d-d2dd-42e1-97a0-8fb8e3a6c2d3",
   "metadata": {},
   "outputs": [],
   "source": [
    "__three = Method(__two.FT_result,159)"
   ]
  },
  {
   "cell_type": "code",
   "execution_count": 340,
   "id": "861a153b-0753-4365-9d3e-853499bc7809",
   "metadata": {},
   "outputs": [
    {
     "name": "stderr",
     "output_type": "stream",
     "text": [
      "100%|██████████| 50/50 [00:26<00:00,  1.87it/s]\n"
     ]
    }
   ],
   "source": [
    "__three.FT()"
   ]
  },
  {
   "cell_type": "markdown",
   "id": "14fdc0bb-68c6-4362-8399-37ff399b95b0",
   "metadata": {},
   "source": [
    "ST-GCN"
   ]
  },
  {
   "cell_type": "code",
   "execution_count": null,
   "id": "6ae1186a-3f76-43ee-b953-7bbeedec29fb",
   "metadata": {},
   "outputs": [],
   "source": [
    "vis2(fiveVTS_test[1:],__three.test_result);"
   ]
  },
  {
   "cell_type": "code",
   "execution_count": null,
   "id": "06b2d9e7-583a-4613-a415-433a8dd94b04",
   "metadata": {},
   "outputs": [],
   "source": [
    "vis2(_zero.train_linear,__three.train_result);"
   ]
  },
  {
   "cell_type": "markdown",
   "id": "761ac87b-03de-4ea5-881b-714177059198",
   "metadata": {},
   "source": [
    "Ebayes result"
   ]
  },
  {
   "cell_type": "code",
   "execution_count": null,
   "id": "7ae2e39f-9063-4024-84f7-9df963df93b4",
   "metadata": {},
   "outputs": [],
   "source": [
    "plt.plot(__three.fhatbar)\n",
    "plt.plot(__three.fhatbar_threshed)"
   ]
  },
  {
   "cell_type": "markdown",
   "id": "f2f5f3b3-7c9a-4752-9c39-687d48a9f2b6",
   "metadata": {},
   "source": [
    "Inverse FT result"
   ]
  },
  {
   "cell_type": "code",
   "execution_count": null,
   "id": "32c21d45-c5ed-449a-9165-c0d49627e394",
   "metadata": {},
   "outputs": [],
   "source": [
    "vis2(_zero.train_mean,__three.FT_result.reshape(158,5));"
   ]
  },
  {
   "cell_type": "code",
   "execution_count": 341,
   "id": "82452d3f-c466-4d45-a2cd-a55ae4345a2a",
   "metadata": {},
   "outputs": [
    {
     "data": {
      "text/plain": [
       "[-0.07670746488558357,\n",
       " -0.0200224191982531,\n",
       " 0.02710332404309299,\n",
       " -0.16360233171813654,\n",
       " -0.10214599000861592]"
      ]
     },
     "execution_count": 341,
     "metadata": {},
     "output_type": "execute_result"
    }
   ],
   "source": [
    "__three.mse"
   ]
  }
 ],
 "metadata": {
  "kernelspec": {
   "display_name": "Python 3 (ipykernel)",
   "language": "python",
   "name": "python3"
  },
  "language_info": {
   "codemirror_mode": {
    "name": "ipython",
    "version": 3
   },
   "file_extension": ".py",
   "mimetype": "text/x-python",
   "name": "python",
   "nbconvert_exporter": "python",
   "pygments_lexer": "ipython3",
   "version": "3.8.12"
  }
 },
 "nbformat": 4,
 "nbformat_minor": 5
}

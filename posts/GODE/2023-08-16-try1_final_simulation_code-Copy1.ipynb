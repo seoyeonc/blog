{
 "cells": [
  {
   "cell_type": "raw",
   "id": "be085742-fa0c-4d82-8d57-9bdd6e9a5a75",
   "metadata": {
    "id": "cac470df-29e7-4148-9bbd-d8b9a32fa570",
    "tags": []
   },
   "source": [
    "---\n",
    "title: \"**try1**final_Other Outlier Detection\"\n",
    "author: \"SEOYEON CHOI\"\n",
    "date: \"2023-08-16\"\n",
    "---"
   ]
  },
  {
   "cell_type": "markdown",
   "id": "b755cb1a-d1cd-4d28-b73e-4fa77fa6db66",
   "metadata": {},
   "source": [
    "# Import"
   ]
  },
  {
   "cell_type": "code",
   "execution_count": 1,
   "id": "a07a0afa-2fcf-4a07-8718-27c1cf142a89",
   "metadata": {},
   "outputs": [
    {
     "name": "stderr",
     "output_type": "stream",
     "text": [
      "/home/csy/anaconda3/envs/temp_csy/lib/python3.8/site-packages/tqdm/auto.py:22: TqdmWarning: IProgress not found. Please update jupyter and ipywidgets. See https://ipywidgets.readthedocs.io/en/stable/user_install.html\n",
      "  from .autonotebook import tqdm as notebook_tqdm\n"
     ]
    }
   ],
   "source": [
    "import numpy as np\n",
    "import matplotlib.pyplot as plt\n",
    "import matplotlib\n",
    "import pandas as pd\n",
    "import random\n",
    "\n",
    "import tqdm\n",
    "from rpy2.robjects.packages import importr\n",
    "from rpy2.robjects.vectors import FloatVector \n",
    "\n",
    "from pygsp import graphs, filters, plotting, utils\n",
    "\n",
    "from sklearn.metrics import confusion_matrix\n",
    "from sklearn.metrics import precision_score, recall_score, f1_score, accuracy_score\n",
    "\n",
    "from sklearn.neighbors import LocalOutlierFactor\n",
    "from pyod.models.knn import KNN\n",
    "from pyod.models.cblof import CBLOF\n",
    "from sklearn import svm\n",
    "from pyod.models.mcd import MCD\n",
    "from pyod.models.feature_bagging import FeatureBagging\n",
    "from pyod.models.abod import ABOD\n",
    "from alibi_detect.od import IForest\n",
    "from pyod.models.hbos import HBOS\n",
    "from pyod.models.sos import SOS\n",
    "from pyod.models.so_gaal import SO_GAAL\n",
    "from pyod.models.mo_gaal import MO_GAAL\n",
    "from pyod.models.lscp import LSCP\n",
    "from pyod.models.lof import LOF\n",
    "from pyod.models.ocsvm import OCSVM"
   ]
  },
  {
   "cell_type": "markdown",
   "id": "278c29ff-6f9f-4e16-8079-c6ffda515439",
   "metadata": {
    "tags": []
   },
   "source": [
    "## Class Code"
   ]
  },
  {
   "cell_type": "code",
   "execution_count": 2,
   "id": "2cb1b7a4-4f6e-4b6d-b403-06bec5dd20ab",
   "metadata": {},
   "outputs": [],
   "source": [
    "class Conf_matrx:\n",
    "    def __init__(self,original,compare):\n",
    "        self.original = original\n",
    "        self.compare = compare\n",
    "    def conf(self,name):\n",
    "        self.conf_matrix = confusion_matrix(self.original, self.compare)\n",
    "        \n",
    "        fig, ax = plt.subplots(figsize=(5, 5))\n",
    "        ax.matshow(self.conf_matrix, cmap=plt.cm.Oranges, alpha=0.3)\n",
    "        for i in range(self.conf_matrix.shape[0]):\n",
    "            for j in range(self.conf_matrix.shape[1]):\n",
    "                ax.text(x=j, y=i,s=self.conf_matrix[i, j], va='center', ha='center', size='xx-large')\n",
    "        plt.xlabel('Predictions', fontsize=18)\n",
    "        plt.ylabel('Actuals', fontsize=18)\n",
    "        plt.title('Confusion Matrix', fontsize=18)\n",
    "        plt.show()\n",
    "        \n",
    "        self.acc = accuracy_score(self.original, self.compare)\n",
    "        self.pre = precision_score(self.original, self.compare)\n",
    "        self.rec = recall_score(self.original, self.compare)\n",
    "        self.f1 = f1_score(self.original, self.compare)\n",
    "        \n",
    "        print('Accuracy: %.3f' % self.acc)\n",
    "        print('Precision: %.3f' % self.pre)\n",
    "        print('Recall: %.3f' % self.rec)\n",
    "        print('F1 Score: %.3f' % self.f1)"
   ]
  },
  {
   "cell_type": "code",
   "execution_count": 3,
   "id": "007f4445-30e5-4ccf-89c5-83dccb2c560e",
   "metadata": {},
   "outputs": [],
   "source": [
    "class Linear:\n",
    "    def __init__(self,df):\n",
    "        self.df = df\n",
    "        self.y = df.y.to_numpy()\n",
    "        self.x = df.x.to_numpy()\n",
    "        self.n = len(self.y)\n",
    "        self.W = w\n",
    "    def _eigen(self):\n",
    "        d= self.W.sum(axis=1)\n",
    "        D= np.diag(d)\n",
    "        self.L = np.diag(1/np.sqrt(d)) @ (D-self.W) @ np.diag(1/np.sqrt(d))\n",
    "        self.lamb, self.Psi = np.linalg.eigh(self.L)\n",
    "        self.Lamb = np.diag(self.lamb)      \n",
    "    def fit(self,sd=20): # fit with ebayesthresh\n",
    "        self._eigen()\n",
    "        self.ybar = self.Psi.T @ self.y # fbar := graph fourier transform of f\n",
    "        self.power = self.ybar**2 \n",
    "        ebayesthresh = importr('EbayesThresh').ebayesthresh\n",
    "        self.power_threshed=np.array(ebayesthresh(FloatVector(self.ybar**2),sd=sd))\n",
    "        self.ybar_threshed = np.where(self.power_threshed>0,self.ybar,0)\n",
    "        self.yhat = self.Psi@self.ybar_threshed\n",
    "        self.df = self.df.assign(yHat = self.yhat)\n",
    "        self.df = self.df.assign(Residual = self.df.y- self.df.yHat)"
   ]
  },
  {
   "cell_type": "code",
   "execution_count": 4,
   "id": "88737d98-ef51-41dc-b9e1-31a466c6814d",
   "metadata": {},
   "outputs": [],
   "source": [
    "class Orbit:\n",
    "    def __init__(self,df):\n",
    "        self.df = df \n",
    "        self.f = df.f.to_numpy()\n",
    "        self.x = df.x.to_numpy()\n",
    "        self.y = df.y.to_numpy()\n",
    "        self.n = len(self.f)\n",
    "        self.theta= None\n",
    "    def get_distance(self):\n",
    "        self.D = np.zeros([self.n,self.n])\n",
    "        locations = np.stack([self.x, self.y],axis=1)\n",
    "        for i in tqdm.tqdm(range(self.n)):\n",
    "            for j in range(i,self.n):\n",
    "                self.D[i,j]=np.linalg.norm(locations[i]-locations[j])\n",
    "        self.D = self.D + self.D.T\n",
    "    def get_weightmatrix(self,theta=1,beta=0.5,kappa=4000):\n",
    "        self.theta = theta\n",
    "        dist = np.where(self.D < kappa,self.D,0)\n",
    "        self.W = np.exp(-(dist/self.theta)**2)\n",
    "    def _eigen(self):\n",
    "        d= self.W.sum(axis=1)\n",
    "        D= np.diag(d)\n",
    "        self.L = np.diag(1/np.sqrt(d)) @ (D-self.W) @ np.diag(1/np.sqrt(d))\n",
    "        self.lamb, self.Psi = np.linalg.eigh(self.L)\n",
    "        self.Lamb = np.diag(self.lamb)       \n",
    "    def fit(self,sd=5,ref=20): # fit with ebayesthresh\n",
    "        self._eigen()\n",
    "        self.fbar = self.Psi.T @ self.f # fbar := graph fourier transform of f\n",
    "        self.power = self.fbar**2 \n",
    "        ebayesthresh = importr('EbayesThresh').ebayesthresh\n",
    "        self.power_threshed=np.array(ebayesthresh(FloatVector(self.fbar**2),sd=sd))\n",
    "        self.fbar_threshed = np.where(self.power_threshed>0,self.fbar,0)\n",
    "        self.fhat = self.Psi@self.fbar_threshed\n",
    "        self.df = self.df.assign(fHat = self.fhat)\n",
    "        self.df = self.df.assign(Residual = self.df.f- self.df.fHat)\n",
    "        self.bottom = np.zeros_like(self.f)\n",
    "        self.width=0.05\n",
    "        self.depth=0.05"
   ]
  },
  {
   "cell_type": "code",
   "execution_count": 5,
   "id": "202a6bb4-a393-40f5-9676-e166da4d1ded",
   "metadata": {},
   "outputs": [],
   "source": [
    "class BUNNY:\n",
    "    def __init__(self,df):\n",
    "        self.df = df \n",
    "        self.f = df.f.to_numpy()\n",
    "        self.z = df.z.to_numpy()\n",
    "        self.x = df.x.to_numpy()\n",
    "        self.y = df.y.to_numpy()\n",
    "        self.noise = df.noise.to_numpy()\n",
    "        self.fnoise = self.f + self.noise\n",
    "        self.W = _W\n",
    "        self.n = len(self.f)\n",
    "        self.theta= None\n",
    "    def _eigen(self):\n",
    "        d= self.W.sum(axis=1)\n",
    "        D= np.diag(d)\n",
    "        self.L = np.diag(1/np.sqrt(d)) @ (D-self.W) @ np.diag(1/np.sqrt(d))\n",
    "        self.lamb, self.Psi = np.linalg.eigh(self.L)\n",
    "        self.Lamb = np.diag(self.lamb)       \n",
    "    def fit(self,sd=5,ref=6): # fit with ebayesthresh\n",
    "        self._eigen()\n",
    "        self.fbar = self.Psi.T @ self.fnoise # fbar := graph fourier transform of f\n",
    "        self.power = self.fbar**2 \n",
    "        ebayesthresh = importr('EbayesThresh').ebayesthresh\n",
    "        self.power_threshed=np.array(ebayesthresh(FloatVector(self.fbar**2),sd=sd))\n",
    "        self.fbar_threshed = np.where(self.power_threshed>0,self.fbar,0)\n",
    "        self.fhat = self.Psi@self.fbar_threshed\n",
    "        self.df = self.df.assign(fnoise = self.fnoise)\n",
    "        self.df = self.df.assign(fHat = self.fhat)\n",
    "        self.df = self.df.assign(Residual = self.df.f + self.df.noise - self.df.fHat)\n",
    "        self.bottom = np.zeros_like(self.f)\n",
    "        self.width=0.05\n",
    "        self.depth=0.05"
   ]
  },
  {
   "cell_type": "markdown",
   "id": "dc4e129b-d8a6-4223-9297-677554616da8",
   "metadata": {
    "tags": []
   },
   "source": [
    "## Linear"
   ]
  },
  {
   "cell_type": "code",
   "execution_count": 6,
   "id": "6dbe2e46-93ed-4af4-9843-1e03abd5093a",
   "metadata": {},
   "outputs": [],
   "source": [
    "np.random.seed(3)\n",
    "epsilon = np.around(np.random.normal(size=1000),15)\n",
    "signal = np.random.choice(np.concatenate((np.random.uniform(-7, -5, 25).round(15), np.random.uniform(5, 7, 25).round(15), np.repeat(0, 950))), 1000)\n",
    "eta = signal + epsilon"
   ]
  },
  {
   "cell_type": "code",
   "execution_count": 7,
   "id": "ea8c66e8-bd2d-4572-ac76-760ec0aa50b8",
   "metadata": {},
   "outputs": [],
   "source": [
    "outlier_true_one_1 = signal.copy()"
   ]
  },
  {
   "cell_type": "code",
   "execution_count": 8,
   "id": "3fe4ade4-8112-4890-b57b-a5920b3bb663",
   "metadata": {},
   "outputs": [],
   "source": [
    "outlier_true_one_1 = list(map(lambda x: -1 if x!=0 else 1,outlier_true_one_1))"
   ]
  },
  {
   "cell_type": "code",
   "execution_count": 9,
   "id": "0ab3daba-7732-43de-95d0-cf390fa26bf7",
   "metadata": {
    "tags": []
   },
   "outputs": [],
   "source": [
    "x_1 = np.linspace(0,2,1000)\n",
    "y1_1 = 5 * x_1\n",
    "y_1 = y1_1 + eta # eta = signal + epsilon"
   ]
  },
  {
   "cell_type": "code",
   "execution_count": 10,
   "id": "723b062b-1b12-4dcc-b634-9d0457053c2b",
   "metadata": {},
   "outputs": [],
   "source": [
    "_df=pd.DataFrame({'x':x_1, 'y':y_1})"
   ]
  },
  {
   "cell_type": "markdown",
   "id": "a4e0c86c-4926-44d5-8f25-e15a4d30b51a",
   "metadata": {},
   "source": [
    "### GODE"
   ]
  },
  {
   "cell_type": "code",
   "execution_count": 11,
   "id": "7941c63b-c687-4105-9a58-0e9e4fe9b80c",
   "metadata": {},
   "outputs": [],
   "source": [
    "w=np.zeros((1000,1000))"
   ]
  },
  {
   "cell_type": "code",
   "execution_count": 12,
   "id": "86c5a64b-e933-418d-aa36-5b5eaeba094a",
   "metadata": {},
   "outputs": [],
   "source": [
    "for i in range(1000):\n",
    "    for j in range(1000):\n",
    "        if i==j :\n",
    "            w[i,j] = 0\n",
    "        elif np.abs(i-j) <= 1 : \n",
    "            w[i,j] = 1"
   ]
  },
  {
   "cell_type": "code",
   "execution_count": 13,
   "id": "0c811c7c-e92f-4d98-b2d2-e9d8bc89b5e5",
   "metadata": {},
   "outputs": [],
   "source": [
    "_Linear = Linear(_df)"
   ]
  },
  {
   "cell_type": "code",
   "execution_count": 14,
   "id": "be777422-6e80-486a-b4fb-1aec996f1ef4",
   "metadata": {},
   "outputs": [],
   "source": [
    "_Linear.fit(sd=20)"
   ]
  },
  {
   "cell_type": "code",
   "execution_count": 15,
   "id": "0f0261aa-12e2-4d78-aef5-1fc5f3c9d64d",
   "metadata": {},
   "outputs": [],
   "source": [
    "outlier_simul_one = (_Linear.df['Residual']**2).tolist()"
   ]
  },
  {
   "cell_type": "code",
   "execution_count": 16,
   "id": "89e033da-7ca4-48c0-aeea-98df1e82cd34",
   "metadata": {},
   "outputs": [],
   "source": [
    "outlier_simul_one = list(map(lambda x: -1 if x > 13.3 else 1,outlier_simul_one))"
   ]
  },
  {
   "cell_type": "code",
   "execution_count": 17,
   "id": "5585f4d5-8157-4d59-b931-8fa930e8e8bd",
   "metadata": {},
   "outputs": [],
   "source": [
    "_conf = Conf_matrx(outlier_true_one_1,outlier_simul_one)"
   ]
  },
  {
   "cell_type": "code",
   "execution_count": 18,
   "id": "ca39799f-e6c7-449f-8a31-78ffd9136ed8",
   "metadata": {},
   "outputs": [
    {
     "data": {
      "text/plain": [
       "950"
      ]
     },
     "execution_count": 18,
     "metadata": {},
     "output_type": "execute_result"
    }
   ],
   "source": [
    "outlier_simul_one.count(1)"
   ]
  },
  {
   "cell_type": "code",
   "execution_count": 19,
   "id": "ae3f2231-bc8a-48c0-a831-a521b324ab81",
   "metadata": {},
   "outputs": [
    {
     "data": {
      "text/plain": [
       "50"
      ]
     },
     "execution_count": 19,
     "metadata": {},
     "output_type": "execute_result"
    }
   ],
   "source": [
    "outlier_simul_one.count(-1)"
   ]
  },
  {
   "cell_type": "code",
   "execution_count": 20,
   "id": "6834ed16-9cc9-46ee-9949-1fa7a7dcff7b",
   "metadata": {},
   "outputs": [
    {
     "data": {
      "image/png": "[encoded data removed]",
      "text/plain": [
       "<Figure size 360x360 with 1 Axes>"
      ]
     },
     "metadata": {
      "needs_background": "light"
     },
     "output_type": "display_data"
    },
    {
     "name": "stdout",
     "output_type": "stream",
     "text": [
      "Accuracy: 0.997\n",
      "Precision: 0.998\n",
      "Recall: 0.999\n",
      "F1 Score: 0.998\n"
     ]
    }
   ],
   "source": [
    "_conf.conf(\"GODE\")"
   ]
  },
  {
   "cell_type": "markdown",
   "id": "8fc39365-3d14-40e7-98f8-efbabd09d730",
   "metadata": {},
   "source": [
    "### LOF"
   ]
  },
  {
   "cell_type": "code",
   "execution_count": 21,
   "id": "fbf65c36-3752-42e4-bccd-0721cacc7da0",
   "metadata": {},
   "outputs": [],
   "source": [
    "np.random.seed(77)\n",
    "clf = LocalOutlierFactor(contamination=0.05)"
   ]
  },
  {
   "cell_type": "code",
   "execution_count": 22,
   "id": "1f6e9245-d4b7-4602-b0cd-2018ca69ea0d",
   "metadata": {},
   "outputs": [],
   "source": [
    "_conf = Conf_matrx(outlier_true_one_1,clf.fit_predict(_df))"
   ]
  },
  {
   "cell_type": "code",
   "execution_count": 23,
   "id": "e4f9a769-6238-4779-99b0-f83265cdec73",
   "metadata": {},
   "outputs": [
    {
     "data": {
      "image/png": "[encoded data removed]",
      "text/plain": [
       "<Figure size 360x360 with 1 Axes>"
      ]
     },
     "metadata": {
      "needs_background": "light"
     },
     "output_type": "display_data"
    },
    {
     "name": "stdout",
     "output_type": "stream",
     "text": [
      "Accuracy: 0.995\n",
      "Precision: 0.997\n",
      "Recall: 0.998\n",
      "F1 Score: 0.997\n"
     ]
    }
   ],
   "source": [
    "_conf.conf(\"LOF (Breunig et al., 2000)\")"
   ]
  },
  {
   "cell_type": "markdown",
   "id": "da0251a6-f057-43d1-89c0-f4fd1a70576d",
   "metadata": {},
   "source": [
    "### KNN"
   ]
  },
  {
   "cell_type": "code",
   "execution_count": 24,
   "id": "2f0a2af8-4d53-4fa8-afa8-fb4ddf29cfee",
   "metadata": {},
   "outputs": [],
   "source": [
    "from pyod.models.knn import KNN"
   ]
  },
  {
   "cell_type": "code",
   "execution_count": 25,
   "id": "3b8ecf2f-957d-4ab8-9031-348171423c54",
   "metadata": {
    "tags": []
   },
   "outputs": [],
   "source": [
    "np.random.seed(77)\n",
    "clf = KNN(contamination=0.05)\n",
    "clf.fit(_df[['x', 'y']])\n",
    "_df['knn_Clf'] = clf.labels_"
   ]
  },
  {
   "cell_type": "code",
   "execution_count": 26,
   "id": "ed8b8fc2-d1d9-49c0-8ba2-bd942a31423d",
   "metadata": {},
   "outputs": [],
   "source": [
    "outlier_KNN_one = list(clf.labels_)"
   ]
  },
  {
   "cell_type": "code",
   "execution_count": 27,
   "id": "086bb2c4-8073-4cac-994f-996ae06657d0",
   "metadata": {},
   "outputs": [],
   "source": [
    "outlier_KNN_one = list(map(lambda x: 1 if x==0  else -1,outlier_KNN_one))"
   ]
  },
  {
   "cell_type": "code",
   "execution_count": 28,
   "id": "e6faebfe-7548-4d8f-8549-2d2d1b3530eb",
   "metadata": {},
   "outputs": [],
   "source": [
    "_conf = Conf_matrx(outlier_true_one_1,outlier_KNN_one)"
   ]
  },
  {
   "cell_type": "code",
   "execution_count": 29,
   "id": "046c293d-1ea8-46ef-a729-cf261f659807",
   "metadata": {},
   "outputs": [
    {
     "data": {
      "image/png": "[encoded data removed]",
      "text/plain": [
       "<Figure size 360x360 with 1 Axes>"
      ]
     },
     "metadata": {
      "needs_background": "light"
     },
     "output_type": "display_data"
    },
    {
     "name": "stdout",
     "output_type": "stream",
     "text": [
      "Accuracy: 0.993\n",
      "Precision: 0.996\n",
      "Recall: 0.997\n",
      "F1 Score: 0.996\n"
     ]
    }
   ],
   "source": [
    "_conf.conf(\"kNN (Ramaswamy et al., 2000)\")"
   ]
  },
  {
   "cell_type": "markdown",
   "id": "c4add752-bec2-4c11-b922-d380a22856d6",
   "metadata": {},
   "source": [
    "### CBLOF"
   ]
  },
  {
   "cell_type": "code",
   "execution_count": 30,
   "id": "b9dc9a67-d497-43b8-a645-ecadd1e933cc",
   "metadata": {},
   "outputs": [
    {
     "name": "stderr",
     "output_type": "stream",
     "text": [
      "/home/csy/anaconda3/envs/temp_csy/lib/python3.8/site-packages/sklearn/cluster/_kmeans.py:870: FutureWarning: The default value of `n_init` will change from 10 to 'auto' in 1.4. Set the value of `n_init` explicitly to suppress the warning\n",
      "  warnings.warn(\n"
     ]
    },
    {
     "ename": "AttributeError",
     "evalue": "'NoneType' object has no attribute 'split'",
     "output_type": "error",
     "traceback": [
      "\u001b[0;31m---------------------------------------------------------------------------\u001b[0m",
      "\u001b[0;31mAttributeError\u001b[0m                            Traceback (most recent call last)",
      "File \u001b[0;32m_ctypes/callbacks.c:237\u001b[0m, in \u001b[0;36m'calling callback function'\u001b[0;34m()\u001b[0m\n",
      "File \u001b[0;32m~/anaconda3/envs/temp_csy/lib/python3.8/site-packages/threadpoolctl.py:400\u001b[0m, in \u001b[0;36m_ThreadpoolInfo._find_modules_with_dl_iterate_phdr.<locals>.match_module_callback\u001b[0;34m(info, size, data)\u001b[0m\n\u001b[1;32m    397\u001b[0m     filepath \u001b[38;5;241m=\u001b[39m filepath\u001b[38;5;241m.\u001b[39mdecode(\u001b[38;5;124m\"\u001b[39m\u001b[38;5;124mutf-8\u001b[39m\u001b[38;5;124m\"\u001b[39m)\n\u001b[1;32m    399\u001b[0m     \u001b[38;5;66;03m# Store the module if it is supported and selected\u001b[39;00m\n\u001b[0;32m--> 400\u001b[0m     \u001b[38;5;28;43mself\u001b[39;49m\u001b[38;5;241;43m.\u001b[39;49m\u001b[43m_make_module_from_path\u001b[49m\u001b[43m(\u001b[49m\u001b[43mfilepath\u001b[49m\u001b[43m)\u001b[49m\n\u001b[1;32m    401\u001b[0m \u001b[38;5;28;01mreturn\u001b[39;00m \u001b[38;5;241m0\u001b[39m\n",
      "File \u001b[0;32m~/anaconda3/envs/temp_csy/lib/python3.8/site-packages/threadpoolctl.py:515\u001b[0m, in \u001b[0;36m_ThreadpoolInfo._make_module_from_path\u001b[0;34m(self, filepath)\u001b[0m\n\u001b[1;32m    513\u001b[0m \u001b[38;5;28;01mif\u001b[39;00m prefix \u001b[38;5;129;01min\u001b[39;00m \u001b[38;5;28mself\u001b[39m\u001b[38;5;241m.\u001b[39mprefixes \u001b[38;5;129;01mor\u001b[39;00m user_api \u001b[38;5;129;01min\u001b[39;00m \u001b[38;5;28mself\u001b[39m\u001b[38;5;241m.\u001b[39muser_api:\n\u001b[1;32m    514\u001b[0m     module_class \u001b[38;5;241m=\u001b[39m \u001b[38;5;28mglobals\u001b[39m()[module_class]\n\u001b[0;32m--> 515\u001b[0m     module \u001b[38;5;241m=\u001b[39m \u001b[43mmodule_class\u001b[49m\u001b[43m(\u001b[49m\u001b[43mfilepath\u001b[49m\u001b[43m,\u001b[49m\u001b[43m \u001b[49m\u001b[43mprefix\u001b[49m\u001b[43m,\u001b[49m\u001b[43m \u001b[49m\u001b[43muser_api\u001b[49m\u001b[43m,\u001b[49m\u001b[43m \u001b[49m\u001b[43minternal_api\u001b[49m\u001b[43m)\u001b[49m\n\u001b[1;32m    516\u001b[0m     \u001b[38;5;28mself\u001b[39m\u001b[38;5;241m.\u001b[39mmodules\u001b[38;5;241m.\u001b[39mappend(module)\n",
      "File \u001b[0;32m~/anaconda3/envs/temp_csy/lib/python3.8/site-packages/threadpoolctl.py:606\u001b[0m, in \u001b[0;36m_Module.__init__\u001b[0;34m(self, filepath, prefix, user_api, internal_api)\u001b[0m\n\u001b[1;32m    604\u001b[0m \u001b[38;5;28mself\u001b[39m\u001b[38;5;241m.\u001b[39minternal_api \u001b[38;5;241m=\u001b[39m internal_api\n\u001b[1;32m    605\u001b[0m \u001b[38;5;28mself\u001b[39m\u001b[38;5;241m.\u001b[39m_dynlib \u001b[38;5;241m=\u001b[39m ctypes\u001b[38;5;241m.\u001b[39mCDLL(filepath, mode\u001b[38;5;241m=\u001b[39m_RTLD_NOLOAD)\n\u001b[0;32m--> 606\u001b[0m \u001b[38;5;28mself\u001b[39m\u001b[38;5;241m.\u001b[39mversion \u001b[38;5;241m=\u001b[39m \u001b[38;5;28;43mself\u001b[39;49m\u001b[38;5;241;43m.\u001b[39;49m\u001b[43mget_version\u001b[49m\u001b[43m(\u001b[49m\u001b[43m)\u001b[49m\n\u001b[1;32m    607\u001b[0m \u001b[38;5;28mself\u001b[39m\u001b[38;5;241m.\u001b[39mnum_threads \u001b[38;5;241m=\u001b[39m \u001b[38;5;28mself\u001b[39m\u001b[38;5;241m.\u001b[39mget_num_threads()\n\u001b[1;32m    608\u001b[0m \u001b[38;5;28mself\u001b[39m\u001b[38;5;241m.\u001b[39m_get_extra_info()\n",
      "File \u001b[0;32m~/anaconda3/envs/temp_csy/lib/python3.8/site-packages/threadpoolctl.py:646\u001b[0m, in \u001b[0;36m_OpenBLASModule.get_version\u001b[0;34m(self)\u001b[0m\n\u001b[1;32m    643\u001b[0m get_config \u001b[38;5;241m=\u001b[39m \u001b[38;5;28mgetattr\u001b[39m(\u001b[38;5;28mself\u001b[39m\u001b[38;5;241m.\u001b[39m_dynlib, \u001b[38;5;124m\"\u001b[39m\u001b[38;5;124mopenblas_get_config\u001b[39m\u001b[38;5;124m\"\u001b[39m,\n\u001b[1;32m    644\u001b[0m                      \u001b[38;5;28;01mlambda\u001b[39;00m: \u001b[38;5;28;01mNone\u001b[39;00m)\n\u001b[1;32m    645\u001b[0m get_config\u001b[38;5;241m.\u001b[39mrestype \u001b[38;5;241m=\u001b[39m ctypes\u001b[38;5;241m.\u001b[39mc_char_p\n\u001b[0;32m--> 646\u001b[0m config \u001b[38;5;241m=\u001b[39m \u001b[43mget_config\u001b[49m\u001b[43m(\u001b[49m\u001b[43m)\u001b[49m\u001b[38;5;241;43m.\u001b[39;49m\u001b[43msplit\u001b[49m()\n\u001b[1;32m    647\u001b[0m \u001b[38;5;28;01mif\u001b[39;00m config[\u001b[38;5;241m0\u001b[39m] \u001b[38;5;241m==\u001b[39m \u001b[38;5;124mb\u001b[39m\u001b[38;5;124m\"\u001b[39m\u001b[38;5;124mOpenBLAS\u001b[39m\u001b[38;5;124m\"\u001b[39m:\n\u001b[1;32m    648\u001b[0m     \u001b[38;5;28;01mreturn\u001b[39;00m config[\u001b[38;5;241m1\u001b[39m]\u001b[38;5;241m.\u001b[39mdecode(\u001b[38;5;124m\"\u001b[39m\u001b[38;5;124mutf-8\u001b[39m\u001b[38;5;124m\"\u001b[39m)\n",
      "\u001b[0;31mAttributeError\u001b[0m: 'NoneType' object has no attribute 'split'"
     ]
    },
    {
     "ename": "AttributeError",
     "evalue": "'NoneType' object has no attribute 'split'",
     "output_type": "error",
     "traceback": [
      "\u001b[0;31m---------------------------------------------------------------------------\u001b[0m",
      "\u001b[0;31mAttributeError\u001b[0m                            Traceback (most recent call last)",
      "File \u001b[0;32m_ctypes/callbacks.c:237\u001b[0m, in \u001b[0;36m'calling callback function'\u001b[0;34m()\u001b[0m\n",
      "File \u001b[0;32m~/anaconda3/envs/temp_csy/lib/python3.8/site-packages/threadpoolctl.py:400\u001b[0m, in \u001b[0;36m_ThreadpoolInfo._find_modules_with_dl_iterate_phdr.<locals>.match_module_callback\u001b[0;34m(info, size, data)\u001b[0m\n\u001b[1;32m    397\u001b[0m     filepath \u001b[38;5;241m=\u001b[39m filepath\u001b[38;5;241m.\u001b[39mdecode(\u001b[38;5;124m\"\u001b[39m\u001b[38;5;124mutf-8\u001b[39m\u001b[38;5;124m\"\u001b[39m)\n\u001b[1;32m    399\u001b[0m     \u001b[38;5;66;03m# Store the module if it is supported and selected\u001b[39;00m\n\u001b[0;32m--> 400\u001b[0m     \u001b[38;5;28;43mself\u001b[39;49m\u001b[38;5;241;43m.\u001b[39;49m\u001b[43m_make_module_from_path\u001b[49m\u001b[43m(\u001b[49m\u001b[43mfilepath\u001b[49m\u001b[43m)\u001b[49m\n\u001b[1;32m    401\u001b[0m \u001b[38;5;28;01mreturn\u001b[39;00m \u001b[38;5;241m0\u001b[39m\n",
      "File \u001b[0;32m~/anaconda3/envs/temp_csy/lib/python3.8/site-packages/threadpoolctl.py:515\u001b[0m, in \u001b[0;36m_ThreadpoolInfo._make_module_from_path\u001b[0;34m(self, filepath)\u001b[0m\n\u001b[1;32m    513\u001b[0m \u001b[38;5;28;01mif\u001b[39;00m prefix \u001b[38;5;129;01min\u001b[39;00m \u001b[38;5;28mself\u001b[39m\u001b[38;5;241m.\u001b[39mprefixes \u001b[38;5;129;01mor\u001b[39;00m user_api \u001b[38;5;129;01min\u001b[39;00m \u001b[38;5;28mself\u001b[39m\u001b[38;5;241m.\u001b[39muser_api:\n\u001b[1;32m    514\u001b[0m     module_class \u001b[38;5;241m=\u001b[39m \u001b[38;5;28mglobals\u001b[39m()[module_class]\n\u001b[0;32m--> 515\u001b[0m     module \u001b[38;5;241m=\u001b[39m \u001b[43mmodule_class\u001b[49m\u001b[43m(\u001b[49m\u001b[43mfilepath\u001b[49m\u001b[43m,\u001b[49m\u001b[43m \u001b[49m\u001b[43mprefix\u001b[49m\u001b[43m,\u001b[49m\u001b[43m \u001b[49m\u001b[43muser_api\u001b[49m\u001b[43m,\u001b[49m\u001b[43m \u001b[49m\u001b[43minternal_api\u001b[49m\u001b[43m)\u001b[49m\n\u001b[1;32m    516\u001b[0m     \u001b[38;5;28mself\u001b[39m\u001b[38;5;241m.\u001b[39mmodules\u001b[38;5;241m.\u001b[39mappend(module)\n",
      "File \u001b[0;32m~/anaconda3/envs/temp_csy/lib/python3.8/site-packages/threadpoolctl.py:606\u001b[0m, in \u001b[0;36m_Module.__init__\u001b[0;34m(self, filepath, prefix, user_api, internal_api)\u001b[0m\n\u001b[1;32m    604\u001b[0m \u001b[38;5;28mself\u001b[39m\u001b[38;5;241m.\u001b[39minternal_api \u001b[38;5;241m=\u001b[39m internal_api\n\u001b[1;32m    605\u001b[0m \u001b[38;5;28mself\u001b[39m\u001b[38;5;241m.\u001b[39m_dynlib \u001b[38;5;241m=\u001b[39m ctypes\u001b[38;5;241m.\u001b[39mCDLL(filepath, mode\u001b[38;5;241m=\u001b[39m_RTLD_NOLOAD)\n\u001b[0;32m--> 606\u001b[0m \u001b[38;5;28mself\u001b[39m\u001b[38;5;241m.\u001b[39mversion \u001b[38;5;241m=\u001b[39m \u001b[38;5;28;43mself\u001b[39;49m\u001b[38;5;241;43m.\u001b[39;49m\u001b[43mget_version\u001b[49m\u001b[43m(\u001b[49m\u001b[43m)\u001b[49m\n\u001b[1;32m    607\u001b[0m \u001b[38;5;28mself\u001b[39m\u001b[38;5;241m.\u001b[39mnum_threads \u001b[38;5;241m=\u001b[39m \u001b[38;5;28mself\u001b[39m\u001b[38;5;241m.\u001b[39mget_num_threads()\n\u001b[1;32m    608\u001b[0m \u001b[38;5;28mself\u001b[39m\u001b[38;5;241m.\u001b[39m_get_extra_info()\n",
      "File \u001b[0;32m~/anaconda3/envs/temp_csy/lib/python3.8/site-packages/threadpoolctl.py:646\u001b[0m, in \u001b[0;36m_OpenBLASModule.get_version\u001b[0;34m(self)\u001b[0m\n\u001b[1;32m    643\u001b[0m get_config \u001b[38;5;241m=\u001b[39m \u001b[38;5;28mgetattr\u001b[39m(\u001b[38;5;28mself\u001b[39m\u001b[38;5;241m.\u001b[39m_dynlib, \u001b[38;5;124m\"\u001b[39m\u001b[38;5;124mopenblas_get_config\u001b[39m\u001b[38;5;124m\"\u001b[39m,\n\u001b[1;32m    644\u001b[0m                      \u001b[38;5;28;01mlambda\u001b[39;00m: \u001b[38;5;28;01mNone\u001b[39;00m)\n\u001b[1;32m    645\u001b[0m get_config\u001b[38;5;241m.\u001b[39mrestype \u001b[38;5;241m=\u001b[39m ctypes\u001b[38;5;241m.\u001b[39mc_char_p\n\u001b[0;32m--> 646\u001b[0m config \u001b[38;5;241m=\u001b[39m \u001b[43mget_config\u001b[49m\u001b[43m(\u001b[49m\u001b[43m)\u001b[49m\u001b[38;5;241;43m.\u001b[39;49m\u001b[43msplit\u001b[49m()\n\u001b[1;32m    647\u001b[0m \u001b[38;5;28;01mif\u001b[39;00m config[\u001b[38;5;241m0\u001b[39m] \u001b[38;5;241m==\u001b[39m \u001b[38;5;124mb\u001b[39m\u001b[38;5;124m\"\u001b[39m\u001b[38;5;124mOpenBLAS\u001b[39m\u001b[38;5;124m\"\u001b[39m:\n\u001b[1;32m    648\u001b[0m     \u001b[38;5;28;01mreturn\u001b[39;00m config[\u001b[38;5;241m1\u001b[39m]\u001b[38;5;241m.\u001b[39mdecode(\u001b[38;5;124m\"\u001b[39m\u001b[38;5;124mutf-8\u001b[39m\u001b[38;5;124m\"\u001b[39m)\n",
      "\u001b[0;31mAttributeError\u001b[0m: 'NoneType' object has no attribute 'split'"
     ]
    },
    {
     "ename": "AttributeError",
     "evalue": "'NoneType' object has no attribute 'split'",
     "output_type": "error",
     "traceback": [
      "\u001b[0;31m---------------------------------------------------------------------------\u001b[0m",
      "\u001b[0;31mAttributeError\u001b[0m                            Traceback (most recent call last)",
      "File \u001b[0;32m_ctypes/callbacks.c:237\u001b[0m, in \u001b[0;36m'calling callback function'\u001b[0;34m()\u001b[0m\n",
      "File \u001b[0;32m~/anaconda3/envs/temp_csy/lib/python3.8/site-packages/threadpoolctl.py:400\u001b[0m, in \u001b[0;36m_ThreadpoolInfo._find_modules_with_dl_iterate_phdr.<locals>.match_module_callback\u001b[0;34m(info, size, data)\u001b[0m\n\u001b[1;32m    397\u001b[0m     filepath \u001b[38;5;241m=\u001b[39m filepath\u001b[38;5;241m.\u001b[39mdecode(\u001b[38;5;124m\"\u001b[39m\u001b[38;5;124mutf-8\u001b[39m\u001b[38;5;124m\"\u001b[39m)\n\u001b[1;32m    399\u001b[0m     \u001b[38;5;66;03m# Store the module if it is supported and selected\u001b[39;00m\n\u001b[0;32m--> 400\u001b[0m     \u001b[38;5;28;43mself\u001b[39;49m\u001b[38;5;241;43m.\u001b[39;49m\u001b[43m_make_module_from_path\u001b[49m\u001b[43m(\u001b[49m\u001b[43mfilepath\u001b[49m\u001b[43m)\u001b[49m\n\u001b[1;32m    401\u001b[0m \u001b[38;5;28;01mreturn\u001b[39;00m \u001b[38;5;241m0\u001b[39m\n",
      "File \u001b[0;32m~/anaconda3/envs/temp_csy/lib/python3.8/site-packages/threadpoolctl.py:515\u001b[0m, in \u001b[0;36m_ThreadpoolInfo._make_module_from_path\u001b[0;34m(self, filepath)\u001b[0m\n\u001b[1;32m    513\u001b[0m \u001b[38;5;28;01mif\u001b[39;00m prefix \u001b[38;5;129;01min\u001b[39;00m \u001b[38;5;28mself\u001b[39m\u001b[38;5;241m.\u001b[39mprefixes \u001b[38;5;129;01mor\u001b[39;00m user_api \u001b[38;5;129;01min\u001b[39;00m \u001b[38;5;28mself\u001b[39m\u001b[38;5;241m.\u001b[39muser_api:\n\u001b[1;32m    514\u001b[0m     module_class \u001b[38;5;241m=\u001b[39m \u001b[38;5;28mglobals\u001b[39m()[module_class]\n\u001b[0;32m--> 515\u001b[0m     module \u001b[38;5;241m=\u001b[39m \u001b[43mmodule_class\u001b[49m\u001b[43m(\u001b[49m\u001b[43mfilepath\u001b[49m\u001b[43m,\u001b[49m\u001b[43m \u001b[49m\u001b[43mprefix\u001b[49m\u001b[43m,\u001b[49m\u001b[43m \u001b[49m\u001b[43muser_api\u001b[49m\u001b[43m,\u001b[49m\u001b[43m \u001b[49m\u001b[43minternal_api\u001b[49m\u001b[43m)\u001b[49m\n\u001b[1;32m    516\u001b[0m     \u001b[38;5;28mself\u001b[39m\u001b[38;5;241m.\u001b[39mmodules\u001b[38;5;241m.\u001b[39mappend(module)\n",
      "File \u001b[0;32m~/anaconda3/envs/temp_csy/lib/python3.8/site-packages/threadpoolctl.py:606\u001b[0m, in \u001b[0;36m_Module.__init__\u001b[0;34m(self, filepath, prefix, user_api, internal_api)\u001b[0m\n\u001b[1;32m    604\u001b[0m \u001b[38;5;28mself\u001b[39m\u001b[38;5;241m.\u001b[39minternal_api \u001b[38;5;241m=\u001b[39m internal_api\n\u001b[1;32m    605\u001b[0m \u001b[38;5;28mself\u001b[39m\u001b[38;5;241m.\u001b[39m_dynlib \u001b[38;5;241m=\u001b[39m ctypes\u001b[38;5;241m.\u001b[39mCDLL(filepath, mode\u001b[38;5;241m=\u001b[39m_RTLD_NOLOAD)\n\u001b[0;32m--> 606\u001b[0m \u001b[38;5;28mself\u001b[39m\u001b[38;5;241m.\u001b[39mversion \u001b[38;5;241m=\u001b[39m \u001b[38;5;28;43mself\u001b[39;49m\u001b[38;5;241;43m.\u001b[39;49m\u001b[43mget_version\u001b[49m\u001b[43m(\u001b[49m\u001b[43m)\u001b[49m\n\u001b[1;32m    607\u001b[0m \u001b[38;5;28mself\u001b[39m\u001b[38;5;241m.\u001b[39mnum_threads \u001b[38;5;241m=\u001b[39m \u001b[38;5;28mself\u001b[39m\u001b[38;5;241m.\u001b[39mget_num_threads()\n\u001b[1;32m    608\u001b[0m \u001b[38;5;28mself\u001b[39m\u001b[38;5;241m.\u001b[39m_get_extra_info()\n",
      "File \u001b[0;32m~/anaconda3/envs/temp_csy/lib/python3.8/site-packages/threadpoolctl.py:646\u001b[0m, in \u001b[0;36m_OpenBLASModule.get_version\u001b[0;34m(self)\u001b[0m\n\u001b[1;32m    643\u001b[0m get_config \u001b[38;5;241m=\u001b[39m \u001b[38;5;28mgetattr\u001b[39m(\u001b[38;5;28mself\u001b[39m\u001b[38;5;241m.\u001b[39m_dynlib, \u001b[38;5;124m\"\u001b[39m\u001b[38;5;124mopenblas_get_config\u001b[39m\u001b[38;5;124m\"\u001b[39m,\n\u001b[1;32m    644\u001b[0m                      \u001b[38;5;28;01mlambda\u001b[39;00m: \u001b[38;5;28;01mNone\u001b[39;00m)\n\u001b[1;32m    645\u001b[0m get_config\u001b[38;5;241m.\u001b[39mrestype \u001b[38;5;241m=\u001b[39m ctypes\u001b[38;5;241m.\u001b[39mc_char_p\n\u001b[0;32m--> 646\u001b[0m config \u001b[38;5;241m=\u001b[39m \u001b[43mget_config\u001b[49m\u001b[43m(\u001b[49m\u001b[43m)\u001b[49m\u001b[38;5;241;43m.\u001b[39;49m\u001b[43msplit\u001b[49m()\n\u001b[1;32m    647\u001b[0m \u001b[38;5;28;01mif\u001b[39;00m config[\u001b[38;5;241m0\u001b[39m] \u001b[38;5;241m==\u001b[39m \u001b[38;5;124mb\u001b[39m\u001b[38;5;124m\"\u001b[39m\u001b[38;5;124mOpenBLAS\u001b[39m\u001b[38;5;124m\"\u001b[39m:\n\u001b[1;32m    648\u001b[0m     \u001b[38;5;28;01mreturn\u001b[39;00m config[\u001b[38;5;241m1\u001b[39m]\u001b[38;5;241m.\u001b[39mdecode(\u001b[38;5;124m\"\u001b[39m\u001b[38;5;124mutf-8\u001b[39m\u001b[38;5;124m\"\u001b[39m)\n",
      "\u001b[0;31mAttributeError\u001b[0m: 'NoneType' object has no attribute 'split'"
     ]
    },
    {
     "ename": "AttributeError",
     "evalue": "'NoneType' object has no attribute 'split'",
     "output_type": "error",
     "traceback": [
      "\u001b[0;31m---------------------------------------------------------------------------\u001b[0m",
      "\u001b[0;31mAttributeError\u001b[0m                            Traceback (most recent call last)",
      "File \u001b[0;32m_ctypes/callbacks.c:237\u001b[0m, in \u001b[0;36m'calling callback function'\u001b[0;34m()\u001b[0m\n",
      "File \u001b[0;32m~/anaconda3/envs/temp_csy/lib/python3.8/site-packages/threadpoolctl.py:400\u001b[0m, in \u001b[0;36m_ThreadpoolInfo._find_modules_with_dl_iterate_phdr.<locals>.match_module_callback\u001b[0;34m(info, size, data)\u001b[0m\n\u001b[1;32m    397\u001b[0m     filepath \u001b[38;5;241m=\u001b[39m filepath\u001b[38;5;241m.\u001b[39mdecode(\u001b[38;5;124m\"\u001b[39m\u001b[38;5;124mutf-8\u001b[39m\u001b[38;5;124m\"\u001b[39m)\n\u001b[1;32m    399\u001b[0m     \u001b[38;5;66;03m# Store the module if it is supported and selected\u001b[39;00m\n\u001b[0;32m--> 400\u001b[0m     \u001b[38;5;28;43mself\u001b[39;49m\u001b[38;5;241;43m.\u001b[39;49m\u001b[43m_make_module_from_path\u001b[49m\u001b[43m(\u001b[49m\u001b[43mfilepath\u001b[49m\u001b[43m)\u001b[49m\n\u001b[1;32m    401\u001b[0m \u001b[38;5;28;01mreturn\u001b[39;00m \u001b[38;5;241m0\u001b[39m\n",
      "File \u001b[0;32m~/anaconda3/envs/temp_csy/lib/python3.8/site-packages/threadpoolctl.py:515\u001b[0m, in \u001b[0;36m_ThreadpoolInfo._make_module_from_path\u001b[0;34m(self, filepath)\u001b[0m\n\u001b[1;32m    513\u001b[0m \u001b[38;5;28;01mif\u001b[39;00m prefix \u001b[38;5;129;01min\u001b[39;00m \u001b[38;5;28mself\u001b[39m\u001b[38;5;241m.\u001b[39mprefixes \u001b[38;5;129;01mor\u001b[39;00m user_api \u001b[38;5;129;01min\u001b[39;00m \u001b[38;5;28mself\u001b[39m\u001b[38;5;241m.\u001b[39muser_api:\n\u001b[1;32m    514\u001b[0m     module_class \u001b[38;5;241m=\u001b[39m \u001b[38;5;28mglobals\u001b[39m()[module_class]\n\u001b[0;32m--> 515\u001b[0m     module \u001b[38;5;241m=\u001b[39m \u001b[43mmodule_class\u001b[49m\u001b[43m(\u001b[49m\u001b[43mfilepath\u001b[49m\u001b[43m,\u001b[49m\u001b[43m \u001b[49m\u001b[43mprefix\u001b[49m\u001b[43m,\u001b[49m\u001b[43m \u001b[49m\u001b[43muser_api\u001b[49m\u001b[43m,\u001b[49m\u001b[43m \u001b[49m\u001b[43minternal_api\u001b[49m\u001b[43m)\u001b[49m\n\u001b[1;32m    516\u001b[0m     \u001b[38;5;28mself\u001b[39m\u001b[38;5;241m.\u001b[39mmodules\u001b[38;5;241m.\u001b[39mappend(module)\n",
      "File \u001b[0;32m~/anaconda3/envs/temp_csy/lib/python3.8/site-packages/threadpoolctl.py:606\u001b[0m, in \u001b[0;36m_Module.__init__\u001b[0;34m(self, filepath, prefix, user_api, internal_api)\u001b[0m\n\u001b[1;32m    604\u001b[0m \u001b[38;5;28mself\u001b[39m\u001b[38;5;241m.\u001b[39minternal_api \u001b[38;5;241m=\u001b[39m internal_api\n\u001b[1;32m    605\u001b[0m \u001b[38;5;28mself\u001b[39m\u001b[38;5;241m.\u001b[39m_dynlib \u001b[38;5;241m=\u001b[39m ctypes\u001b[38;5;241m.\u001b[39mCDLL(filepath, mode\u001b[38;5;241m=\u001b[39m_RTLD_NOLOAD)\n\u001b[0;32m--> 606\u001b[0m \u001b[38;5;28mself\u001b[39m\u001b[38;5;241m.\u001b[39mversion \u001b[38;5;241m=\u001b[39m \u001b[38;5;28;43mself\u001b[39;49m\u001b[38;5;241;43m.\u001b[39;49m\u001b[43mget_version\u001b[49m\u001b[43m(\u001b[49m\u001b[43m)\u001b[49m\n\u001b[1;32m    607\u001b[0m \u001b[38;5;28mself\u001b[39m\u001b[38;5;241m.\u001b[39mnum_threads \u001b[38;5;241m=\u001b[39m \u001b[38;5;28mself\u001b[39m\u001b[38;5;241m.\u001b[39mget_num_threads()\n\u001b[1;32m    608\u001b[0m \u001b[38;5;28mself\u001b[39m\u001b[38;5;241m.\u001b[39m_get_extra_info()\n",
      "File \u001b[0;32m~/anaconda3/envs/temp_csy/lib/python3.8/site-packages/threadpoolctl.py:646\u001b[0m, in \u001b[0;36m_OpenBLASModule.get_version\u001b[0;34m(self)\u001b[0m\n\u001b[1;32m    643\u001b[0m get_config \u001b[38;5;241m=\u001b[39m \u001b[38;5;28mgetattr\u001b[39m(\u001b[38;5;28mself\u001b[39m\u001b[38;5;241m.\u001b[39m_dynlib, \u001b[38;5;124m\"\u001b[39m\u001b[38;5;124mopenblas_get_config\u001b[39m\u001b[38;5;124m\"\u001b[39m,\n\u001b[1;32m    644\u001b[0m                      \u001b[38;5;28;01mlambda\u001b[39;00m: \u001b[38;5;28;01mNone\u001b[39;00m)\n\u001b[1;32m    645\u001b[0m get_config\u001b[38;5;241m.\u001b[39mrestype \u001b[38;5;241m=\u001b[39m ctypes\u001b[38;5;241m.\u001b[39mc_char_p\n\u001b[0;32m--> 646\u001b[0m config \u001b[38;5;241m=\u001b[39m \u001b[43mget_config\u001b[49m\u001b[43m(\u001b[49m\u001b[43m)\u001b[49m\u001b[38;5;241;43m.\u001b[39;49m\u001b[43msplit\u001b[49m()\n\u001b[1;32m    647\u001b[0m \u001b[38;5;28;01mif\u001b[39;00m config[\u001b[38;5;241m0\u001b[39m] \u001b[38;5;241m==\u001b[39m \u001b[38;5;124mb\u001b[39m\u001b[38;5;124m\"\u001b[39m\u001b[38;5;124mOpenBLAS\u001b[39m\u001b[38;5;124m\"\u001b[39m:\n\u001b[1;32m    648\u001b[0m     \u001b[38;5;28;01mreturn\u001b[39;00m config[\u001b[38;5;241m1\u001b[39m]\u001b[38;5;241m.\u001b[39mdecode(\u001b[38;5;124m\"\u001b[39m\u001b[38;5;124mutf-8\u001b[39m\u001b[38;5;124m\"\u001b[39m)\n",
      "\u001b[0;31mAttributeError\u001b[0m: 'NoneType' object has no attribute 'split'"
     ]
    },
    {
     "ename": "AttributeError",
     "evalue": "'NoneType' object has no attribute 'split'",
     "output_type": "error",
     "traceback": [
      "\u001b[0;31m---------------------------------------------------------------------------\u001b[0m",
      "\u001b[0;31mAttributeError\u001b[0m                            Traceback (most recent call last)",
      "File \u001b[0;32m_ctypes/callbacks.c:237\u001b[0m, in \u001b[0;36m'calling callback function'\u001b[0;34m()\u001b[0m\n",
      "File \u001b[0;32m~/anaconda3/envs/temp_csy/lib/python3.8/site-packages/threadpoolctl.py:400\u001b[0m, in \u001b[0;36m_ThreadpoolInfo._find_modules_with_dl_iterate_phdr.<locals>.match_module_callback\u001b[0;34m(info, size, data)\u001b[0m\n\u001b[1;32m    397\u001b[0m     filepath \u001b[38;5;241m=\u001b[39m filepath\u001b[38;5;241m.\u001b[39mdecode(\u001b[38;5;124m\"\u001b[39m\u001b[38;5;124mutf-8\u001b[39m\u001b[38;5;124m\"\u001b[39m)\n\u001b[1;32m    399\u001b[0m     \u001b[38;5;66;03m# Store the module if it is supported and selected\u001b[39;00m\n\u001b[0;32m--> 400\u001b[0m     \u001b[38;5;28;43mself\u001b[39;49m\u001b[38;5;241;43m.\u001b[39;49m\u001b[43m_make_module_from_path\u001b[49m\u001b[43m(\u001b[49m\u001b[43mfilepath\u001b[49m\u001b[43m)\u001b[49m\n\u001b[1;32m    401\u001b[0m \u001b[38;5;28;01mreturn\u001b[39;00m \u001b[38;5;241m0\u001b[39m\n",
      "File \u001b[0;32m~/anaconda3/envs/temp_csy/lib/python3.8/site-packages/threadpoolctl.py:515\u001b[0m, in \u001b[0;36m_ThreadpoolInfo._make_module_from_path\u001b[0;34m(self, filepath)\u001b[0m\n\u001b[1;32m    513\u001b[0m \u001b[38;5;28;01mif\u001b[39;00m prefix \u001b[38;5;129;01min\u001b[39;00m \u001b[38;5;28mself\u001b[39m\u001b[38;5;241m.\u001b[39mprefixes \u001b[38;5;129;01mor\u001b[39;00m user_api \u001b[38;5;129;01min\u001b[39;00m \u001b[38;5;28mself\u001b[39m\u001b[38;5;241m.\u001b[39muser_api:\n\u001b[1;32m    514\u001b[0m     module_class \u001b[38;5;241m=\u001b[39m \u001b[38;5;28mglobals\u001b[39m()[module_class]\n\u001b[0;32m--> 515\u001b[0m     module \u001b[38;5;241m=\u001b[39m \u001b[43mmodule_class\u001b[49m\u001b[43m(\u001b[49m\u001b[43mfilepath\u001b[49m\u001b[43m,\u001b[49m\u001b[43m \u001b[49m\u001b[43mprefix\u001b[49m\u001b[43m,\u001b[49m\u001b[43m \u001b[49m\u001b[43muser_api\u001b[49m\u001b[43m,\u001b[49m\u001b[43m \u001b[49m\u001b[43minternal_api\u001b[49m\u001b[43m)\u001b[49m\n\u001b[1;32m    516\u001b[0m     \u001b[38;5;28mself\u001b[39m\u001b[38;5;241m.\u001b[39mmodules\u001b[38;5;241m.\u001b[39mappend(module)\n",
      "File \u001b[0;32m~/anaconda3/envs/temp_csy/lib/python3.8/site-packages/threadpoolctl.py:606\u001b[0m, in \u001b[0;36m_Module.__init__\u001b[0;34m(self, filepath, prefix, user_api, internal_api)\u001b[0m\n\u001b[1;32m    604\u001b[0m \u001b[38;5;28mself\u001b[39m\u001b[38;5;241m.\u001b[39minternal_api \u001b[38;5;241m=\u001b[39m internal_api\n\u001b[1;32m    605\u001b[0m \u001b[38;5;28mself\u001b[39m\u001b[38;5;241m.\u001b[39m_dynlib \u001b[38;5;241m=\u001b[39m ctypes\u001b[38;5;241m.\u001b[39mCDLL(filepath, mode\u001b[38;5;241m=\u001b[39m_RTLD_NOLOAD)\n\u001b[0;32m--> 606\u001b[0m \u001b[38;5;28mself\u001b[39m\u001b[38;5;241m.\u001b[39mversion \u001b[38;5;241m=\u001b[39m \u001b[38;5;28;43mself\u001b[39;49m\u001b[38;5;241;43m.\u001b[39;49m\u001b[43mget_version\u001b[49m\u001b[43m(\u001b[49m\u001b[43m)\u001b[49m\n\u001b[1;32m    607\u001b[0m \u001b[38;5;28mself\u001b[39m\u001b[38;5;241m.\u001b[39mnum_threads \u001b[38;5;241m=\u001b[39m \u001b[38;5;28mself\u001b[39m\u001b[38;5;241m.\u001b[39mget_num_threads()\n\u001b[1;32m    608\u001b[0m \u001b[38;5;28mself\u001b[39m\u001b[38;5;241m.\u001b[39m_get_extra_info()\n",
      "File \u001b[0;32m~/anaconda3/envs/temp_csy/lib/python3.8/site-packages/threadpoolctl.py:646\u001b[0m, in \u001b[0;36m_OpenBLASModule.get_version\u001b[0;34m(self)\u001b[0m\n\u001b[1;32m    643\u001b[0m get_config \u001b[38;5;241m=\u001b[39m \u001b[38;5;28mgetattr\u001b[39m(\u001b[38;5;28mself\u001b[39m\u001b[38;5;241m.\u001b[39m_dynlib, \u001b[38;5;124m\"\u001b[39m\u001b[38;5;124mopenblas_get_config\u001b[39m\u001b[38;5;124m\"\u001b[39m,\n\u001b[1;32m    644\u001b[0m                      \u001b[38;5;28;01mlambda\u001b[39;00m: \u001b[38;5;28;01mNone\u001b[39;00m)\n\u001b[1;32m    645\u001b[0m get_config\u001b[38;5;241m.\u001b[39mrestype \u001b[38;5;241m=\u001b[39m ctypes\u001b[38;5;241m.\u001b[39mc_char_p\n\u001b[0;32m--> 646\u001b[0m config \u001b[38;5;241m=\u001b[39m \u001b[43mget_config\u001b[49m\u001b[43m(\u001b[49m\u001b[43m)\u001b[49m\u001b[38;5;241;43m.\u001b[39;49m\u001b[43msplit\u001b[49m()\n\u001b[1;32m    647\u001b[0m \u001b[38;5;28;01mif\u001b[39;00m config[\u001b[38;5;241m0\u001b[39m] \u001b[38;5;241m==\u001b[39m \u001b[38;5;124mb\u001b[39m\u001b[38;5;124m\"\u001b[39m\u001b[38;5;124mOpenBLAS\u001b[39m\u001b[38;5;124m\"\u001b[39m:\n\u001b[1;32m    648\u001b[0m     \u001b[38;5;28;01mreturn\u001b[39;00m config[\u001b[38;5;241m1\u001b[39m]\u001b[38;5;241m.\u001b[39mdecode(\u001b[38;5;124m\"\u001b[39m\u001b[38;5;124mutf-8\u001b[39m\u001b[38;5;124m\"\u001b[39m)\n",
      "\u001b[0;31mAttributeError\u001b[0m: 'NoneType' object has no attribute 'split'"
     ]
    },
    {
     "ename": "AttributeError",
     "evalue": "'NoneType' object has no attribute 'split'",
     "output_type": "error",
     "traceback": [
      "\u001b[0;31m---------------------------------------------------------------------------\u001b[0m",
      "\u001b[0;31mAttributeError\u001b[0m                            Traceback (most recent call last)",
      "File \u001b[0;32m_ctypes/callbacks.c:237\u001b[0m, in \u001b[0;36m'calling callback function'\u001b[0;34m()\u001b[0m\n",
      "File \u001b[0;32m~/anaconda3/envs/temp_csy/lib/python3.8/site-packages/threadpoolctl.py:400\u001b[0m, in \u001b[0;36m_ThreadpoolInfo._find_modules_with_dl_iterate_phdr.<locals>.match_module_callback\u001b[0;34m(info, size, data)\u001b[0m\n\u001b[1;32m    397\u001b[0m     filepath \u001b[38;5;241m=\u001b[39m filepath\u001b[38;5;241m.\u001b[39mdecode(\u001b[38;5;124m\"\u001b[39m\u001b[38;5;124mutf-8\u001b[39m\u001b[38;5;124m\"\u001b[39m)\n\u001b[1;32m    399\u001b[0m     \u001b[38;5;66;03m# Store the module if it is supported and selected\u001b[39;00m\n\u001b[0;32m--> 400\u001b[0m     \u001b[38;5;28;43mself\u001b[39;49m\u001b[38;5;241;43m.\u001b[39;49m\u001b[43m_make_module_from_path\u001b[49m\u001b[43m(\u001b[49m\u001b[43mfilepath\u001b[49m\u001b[43m)\u001b[49m\n\u001b[1;32m    401\u001b[0m \u001b[38;5;28;01mreturn\u001b[39;00m \u001b[38;5;241m0\u001b[39m\n",
      "File \u001b[0;32m~/anaconda3/envs/temp_csy/lib/python3.8/site-packages/threadpoolctl.py:515\u001b[0m, in \u001b[0;36m_ThreadpoolInfo._make_module_from_path\u001b[0;34m(self, filepath)\u001b[0m\n\u001b[1;32m    513\u001b[0m \u001b[38;5;28;01mif\u001b[39;00m prefix \u001b[38;5;129;01min\u001b[39;00m \u001b[38;5;28mself\u001b[39m\u001b[38;5;241m.\u001b[39mprefixes \u001b[38;5;129;01mor\u001b[39;00m user_api \u001b[38;5;129;01min\u001b[39;00m \u001b[38;5;28mself\u001b[39m\u001b[38;5;241m.\u001b[39muser_api:\n\u001b[1;32m    514\u001b[0m     module_class \u001b[38;5;241m=\u001b[39m \u001b[38;5;28mglobals\u001b[39m()[module_class]\n\u001b[0;32m--> 515\u001b[0m     module \u001b[38;5;241m=\u001b[39m \u001b[43mmodule_class\u001b[49m\u001b[43m(\u001b[49m\u001b[43mfilepath\u001b[49m\u001b[43m,\u001b[49m\u001b[43m \u001b[49m\u001b[43mprefix\u001b[49m\u001b[43m,\u001b[49m\u001b[43m \u001b[49m\u001b[43muser_api\u001b[49m\u001b[43m,\u001b[49m\u001b[43m \u001b[49m\u001b[43minternal_api\u001b[49m\u001b[43m)\u001b[49m\n\u001b[1;32m    516\u001b[0m     \u001b[38;5;28mself\u001b[39m\u001b[38;5;241m.\u001b[39mmodules\u001b[38;5;241m.\u001b[39mappend(module)\n",
      "File \u001b[0;32m~/anaconda3/envs/temp_csy/lib/python3.8/site-packages/threadpoolctl.py:606\u001b[0m, in \u001b[0;36m_Module.__init__\u001b[0;34m(self, filepath, prefix, user_api, internal_api)\u001b[0m\n\u001b[1;32m    604\u001b[0m \u001b[38;5;28mself\u001b[39m\u001b[38;5;241m.\u001b[39minternal_api \u001b[38;5;241m=\u001b[39m internal_api\n\u001b[1;32m    605\u001b[0m \u001b[38;5;28mself\u001b[39m\u001b[38;5;241m.\u001b[39m_dynlib \u001b[38;5;241m=\u001b[39m ctypes\u001b[38;5;241m.\u001b[39mCDLL(filepath, mode\u001b[38;5;241m=\u001b[39m_RTLD_NOLOAD)\n\u001b[0;32m--> 606\u001b[0m \u001b[38;5;28mself\u001b[39m\u001b[38;5;241m.\u001b[39mversion \u001b[38;5;241m=\u001b[39m \u001b[38;5;28;43mself\u001b[39;49m\u001b[38;5;241;43m.\u001b[39;49m\u001b[43mget_version\u001b[49m\u001b[43m(\u001b[49m\u001b[43m)\u001b[49m\n\u001b[1;32m    607\u001b[0m \u001b[38;5;28mself\u001b[39m\u001b[38;5;241m.\u001b[39mnum_threads \u001b[38;5;241m=\u001b[39m \u001b[38;5;28mself\u001b[39m\u001b[38;5;241m.\u001b[39mget_num_threads()\n\u001b[1;32m    608\u001b[0m \u001b[38;5;28mself\u001b[39m\u001b[38;5;241m.\u001b[39m_get_extra_info()\n",
      "File \u001b[0;32m~/anaconda3/envs/temp_csy/lib/python3.8/site-packages/threadpoolctl.py:646\u001b[0m, in \u001b[0;36m_OpenBLASModule.get_version\u001b[0;34m(self)\u001b[0m\n\u001b[1;32m    643\u001b[0m get_config \u001b[38;5;241m=\u001b[39m \u001b[38;5;28mgetattr\u001b[39m(\u001b[38;5;28mself\u001b[39m\u001b[38;5;241m.\u001b[39m_dynlib, \u001b[38;5;124m\"\u001b[39m\u001b[38;5;124mopenblas_get_config\u001b[39m\u001b[38;5;124m\"\u001b[39m,\n\u001b[1;32m    644\u001b[0m                      \u001b[38;5;28;01mlambda\u001b[39;00m: \u001b[38;5;28;01mNone\u001b[39;00m)\n\u001b[1;32m    645\u001b[0m get_config\u001b[38;5;241m.\u001b[39mrestype \u001b[38;5;241m=\u001b[39m ctypes\u001b[38;5;241m.\u001b[39mc_char_p\n\u001b[0;32m--> 646\u001b[0m config \u001b[38;5;241m=\u001b[39m \u001b[43mget_config\u001b[49m\u001b[43m(\u001b[49m\u001b[43m)\u001b[49m\u001b[38;5;241;43m.\u001b[39;49m\u001b[43msplit\u001b[49m()\n\u001b[1;32m    647\u001b[0m \u001b[38;5;28;01mif\u001b[39;00m config[\u001b[38;5;241m0\u001b[39m] \u001b[38;5;241m==\u001b[39m \u001b[38;5;124mb\u001b[39m\u001b[38;5;124m\"\u001b[39m\u001b[38;5;124mOpenBLAS\u001b[39m\u001b[38;5;124m\"\u001b[39m:\n\u001b[1;32m    648\u001b[0m     \u001b[38;5;28;01mreturn\u001b[39;00m config[\u001b[38;5;241m1\u001b[39m]\u001b[38;5;241m.\u001b[39mdecode(\u001b[38;5;124m\"\u001b[39m\u001b[38;5;124mutf-8\u001b[39m\u001b[38;5;124m\"\u001b[39m)\n",
      "\u001b[0;31mAttributeError\u001b[0m: 'NoneType' object has no attribute 'split'"
     ]
    },
    {
     "ename": "AttributeError",
     "evalue": "'NoneType' object has no attribute 'split'",
     "output_type": "error",
     "traceback": [
      "\u001b[0;31m---------------------------------------------------------------------------\u001b[0m",
      "\u001b[0;31mAttributeError\u001b[0m                            Traceback (most recent call last)",
      "File \u001b[0;32m_ctypes/callbacks.c:237\u001b[0m, in \u001b[0;36m'calling callback function'\u001b[0;34m()\u001b[0m\n",
      "File \u001b[0;32m~/anaconda3/envs/temp_csy/lib/python3.8/site-packages/threadpoolctl.py:400\u001b[0m, in \u001b[0;36m_ThreadpoolInfo._find_modules_with_dl_iterate_phdr.<locals>.match_module_callback\u001b[0;34m(info, size, data)\u001b[0m\n\u001b[1;32m    397\u001b[0m     filepath \u001b[38;5;241m=\u001b[39m filepath\u001b[38;5;241m.\u001b[39mdecode(\u001b[38;5;124m\"\u001b[39m\u001b[38;5;124mutf-8\u001b[39m\u001b[38;5;124m\"\u001b[39m)\n\u001b[1;32m    399\u001b[0m     \u001b[38;5;66;03m# Store the module if it is supported and selected\u001b[39;00m\n\u001b[0;32m--> 400\u001b[0m     \u001b[38;5;28;43mself\u001b[39;49m\u001b[38;5;241;43m.\u001b[39;49m\u001b[43m_make_module_from_path\u001b[49m\u001b[43m(\u001b[49m\u001b[43mfilepath\u001b[49m\u001b[43m)\u001b[49m\n\u001b[1;32m    401\u001b[0m \u001b[38;5;28;01mreturn\u001b[39;00m \u001b[38;5;241m0\u001b[39m\n",
      "File \u001b[0;32m~/anaconda3/envs/temp_csy/lib/python3.8/site-packages/threadpoolctl.py:515\u001b[0m, in \u001b[0;36m_ThreadpoolInfo._make_module_from_path\u001b[0;34m(self, filepath)\u001b[0m\n\u001b[1;32m    513\u001b[0m \u001b[38;5;28;01mif\u001b[39;00m prefix \u001b[38;5;129;01min\u001b[39;00m \u001b[38;5;28mself\u001b[39m\u001b[38;5;241m.\u001b[39mprefixes \u001b[38;5;129;01mor\u001b[39;00m user_api \u001b[38;5;129;01min\u001b[39;00m \u001b[38;5;28mself\u001b[39m\u001b[38;5;241m.\u001b[39muser_api:\n\u001b[1;32m    514\u001b[0m     module_class \u001b[38;5;241m=\u001b[39m \u001b[38;5;28mglobals\u001b[39m()[module_class]\n\u001b[0;32m--> 515\u001b[0m     module \u001b[38;5;241m=\u001b[39m \u001b[43mmodule_class\u001b[49m\u001b[43m(\u001b[49m\u001b[43mfilepath\u001b[49m\u001b[43m,\u001b[49m\u001b[43m \u001b[49m\u001b[43mprefix\u001b[49m\u001b[43m,\u001b[49m\u001b[43m \u001b[49m\u001b[43muser_api\u001b[49m\u001b[43m,\u001b[49m\u001b[43m \u001b[49m\u001b[43minternal_api\u001b[49m\u001b[43m)\u001b[49m\n\u001b[1;32m    516\u001b[0m     \u001b[38;5;28mself\u001b[39m\u001b[38;5;241m.\u001b[39mmodules\u001b[38;5;241m.\u001b[39mappend(module)\n",
      "File \u001b[0;32m~/anaconda3/envs/temp_csy/lib/python3.8/site-packages/threadpoolctl.py:606\u001b[0m, in \u001b[0;36m_Module.__init__\u001b[0;34m(self, filepath, prefix, user_api, internal_api)\u001b[0m\n\u001b[1;32m    604\u001b[0m \u001b[38;5;28mself\u001b[39m\u001b[38;5;241m.\u001b[39minternal_api \u001b[38;5;241m=\u001b[39m internal_api\n\u001b[1;32m    605\u001b[0m \u001b[38;5;28mself\u001b[39m\u001b[38;5;241m.\u001b[39m_dynlib \u001b[38;5;241m=\u001b[39m ctypes\u001b[38;5;241m.\u001b[39mCDLL(filepath, mode\u001b[38;5;241m=\u001b[39m_RTLD_NOLOAD)\n\u001b[0;32m--> 606\u001b[0m \u001b[38;5;28mself\u001b[39m\u001b[38;5;241m.\u001b[39mversion \u001b[38;5;241m=\u001b[39m \u001b[38;5;28;43mself\u001b[39;49m\u001b[38;5;241;43m.\u001b[39;49m\u001b[43mget_version\u001b[49m\u001b[43m(\u001b[49m\u001b[43m)\u001b[49m\n\u001b[1;32m    607\u001b[0m \u001b[38;5;28mself\u001b[39m\u001b[38;5;241m.\u001b[39mnum_threads \u001b[38;5;241m=\u001b[39m \u001b[38;5;28mself\u001b[39m\u001b[38;5;241m.\u001b[39mget_num_threads()\n\u001b[1;32m    608\u001b[0m \u001b[38;5;28mself\u001b[39m\u001b[38;5;241m.\u001b[39m_get_extra_info()\n",
      "File \u001b[0;32m~/anaconda3/envs/temp_csy/lib/python3.8/site-packages/threadpoolctl.py:646\u001b[0m, in \u001b[0;36m_OpenBLASModule.get_version\u001b[0;34m(self)\u001b[0m\n\u001b[1;32m    643\u001b[0m get_config \u001b[38;5;241m=\u001b[39m \u001b[38;5;28mgetattr\u001b[39m(\u001b[38;5;28mself\u001b[39m\u001b[38;5;241m.\u001b[39m_dynlib, \u001b[38;5;124m\"\u001b[39m\u001b[38;5;124mopenblas_get_config\u001b[39m\u001b[38;5;124m\"\u001b[39m,\n\u001b[1;32m    644\u001b[0m                      \u001b[38;5;28;01mlambda\u001b[39;00m: \u001b[38;5;28;01mNone\u001b[39;00m)\n\u001b[1;32m    645\u001b[0m get_config\u001b[38;5;241m.\u001b[39mrestype \u001b[38;5;241m=\u001b[39m ctypes\u001b[38;5;241m.\u001b[39mc_char_p\n\u001b[0;32m--> 646\u001b[0m config \u001b[38;5;241m=\u001b[39m \u001b[43mget_config\u001b[49m\u001b[43m(\u001b[49m\u001b[43m)\u001b[49m\u001b[38;5;241;43m.\u001b[39;49m\u001b[43msplit\u001b[49m()\n\u001b[1;32m    647\u001b[0m \u001b[38;5;28;01mif\u001b[39;00m config[\u001b[38;5;241m0\u001b[39m] \u001b[38;5;241m==\u001b[39m \u001b[38;5;124mb\u001b[39m\u001b[38;5;124m\"\u001b[39m\u001b[38;5;124mOpenBLAS\u001b[39m\u001b[38;5;124m\"\u001b[39m:\n\u001b[1;32m    648\u001b[0m     \u001b[38;5;28;01mreturn\u001b[39;00m config[\u001b[38;5;241m1\u001b[39m]\u001b[38;5;241m.\u001b[39mdecode(\u001b[38;5;124m\"\u001b[39m\u001b[38;5;124mutf-8\u001b[39m\u001b[38;5;124m\"\u001b[39m)\n",
      "\u001b[0;31mAttributeError\u001b[0m: 'NoneType' object has no attribute 'split'"
     ]
    },
    {
     "ename": "AttributeError",
     "evalue": "'NoneType' object has no attribute 'split'",
     "output_type": "error",
     "traceback": [
      "\u001b[0;31m---------------------------------------------------------------------------\u001b[0m",
      "\u001b[0;31mAttributeError\u001b[0m                            Traceback (most recent call last)",
      "File \u001b[0;32m_ctypes/callbacks.c:237\u001b[0m, in \u001b[0;36m'calling callback function'\u001b[0;34m()\u001b[0m\n",
      "File \u001b[0;32m~/anaconda3/envs/temp_csy/lib/python3.8/site-packages/threadpoolctl.py:400\u001b[0m, in \u001b[0;36m_ThreadpoolInfo._find_modules_with_dl_iterate_phdr.<locals>.match_module_callback\u001b[0;34m(info, size, data)\u001b[0m\n\u001b[1;32m    397\u001b[0m     filepath \u001b[38;5;241m=\u001b[39m filepath\u001b[38;5;241m.\u001b[39mdecode(\u001b[38;5;124m\"\u001b[39m\u001b[38;5;124mutf-8\u001b[39m\u001b[38;5;124m\"\u001b[39m)\n\u001b[1;32m    399\u001b[0m     \u001b[38;5;66;03m# Store the module if it is supported and selected\u001b[39;00m\n\u001b[0;32m--> 400\u001b[0m     \u001b[38;5;28;43mself\u001b[39;49m\u001b[38;5;241;43m.\u001b[39;49m\u001b[43m_make_module_from_path\u001b[49m\u001b[43m(\u001b[49m\u001b[43mfilepath\u001b[49m\u001b[43m)\u001b[49m\n\u001b[1;32m    401\u001b[0m \u001b[38;5;28;01mreturn\u001b[39;00m \u001b[38;5;241m0\u001b[39m\n",
      "File \u001b[0;32m~/anaconda3/envs/temp_csy/lib/python3.8/site-packages/threadpoolctl.py:515\u001b[0m, in \u001b[0;36m_ThreadpoolInfo._make_module_from_path\u001b[0;34m(self, filepath)\u001b[0m\n\u001b[1;32m    513\u001b[0m \u001b[38;5;28;01mif\u001b[39;00m prefix \u001b[38;5;129;01min\u001b[39;00m \u001b[38;5;28mself\u001b[39m\u001b[38;5;241m.\u001b[39mprefixes \u001b[38;5;129;01mor\u001b[39;00m user_api \u001b[38;5;129;01min\u001b[39;00m \u001b[38;5;28mself\u001b[39m\u001b[38;5;241m.\u001b[39muser_api:\n\u001b[1;32m    514\u001b[0m     module_class \u001b[38;5;241m=\u001b[39m \u001b[38;5;28mglobals\u001b[39m()[module_class]\n\u001b[0;32m--> 515\u001b[0m     module \u001b[38;5;241m=\u001b[39m \u001b[43mmodule_class\u001b[49m\u001b[43m(\u001b[49m\u001b[43mfilepath\u001b[49m\u001b[43m,\u001b[49m\u001b[43m \u001b[49m\u001b[43mprefix\u001b[49m\u001b[43m,\u001b[49m\u001b[43m \u001b[49m\u001b[43muser_api\u001b[49m\u001b[43m,\u001b[49m\u001b[43m \u001b[49m\u001b[43minternal_api\u001b[49m\u001b[43m)\u001b[49m\n\u001b[1;32m    516\u001b[0m     \u001b[38;5;28mself\u001b[39m\u001b[38;5;241m.\u001b[39mmodules\u001b[38;5;241m.\u001b[39mappend(module)\n",
      "File \u001b[0;32m~/anaconda3/envs/temp_csy/lib/python3.8/site-packages/threadpoolctl.py:606\u001b[0m, in \u001b[0;36m_Module.__init__\u001b[0;34m(self, filepath, prefix, user_api, internal_api)\u001b[0m\n\u001b[1;32m    604\u001b[0m \u001b[38;5;28mself\u001b[39m\u001b[38;5;241m.\u001b[39minternal_api \u001b[38;5;241m=\u001b[39m internal_api\n\u001b[1;32m    605\u001b[0m \u001b[38;5;28mself\u001b[39m\u001b[38;5;241m.\u001b[39m_dynlib \u001b[38;5;241m=\u001b[39m ctypes\u001b[38;5;241m.\u001b[39mCDLL(filepath, mode\u001b[38;5;241m=\u001b[39m_RTLD_NOLOAD)\n\u001b[0;32m--> 606\u001b[0m \u001b[38;5;28mself\u001b[39m\u001b[38;5;241m.\u001b[39mversion \u001b[38;5;241m=\u001b[39m \u001b[38;5;28;43mself\u001b[39;49m\u001b[38;5;241;43m.\u001b[39;49m\u001b[43mget_version\u001b[49m\u001b[43m(\u001b[49m\u001b[43m)\u001b[49m\n\u001b[1;32m    607\u001b[0m \u001b[38;5;28mself\u001b[39m\u001b[38;5;241m.\u001b[39mnum_threads \u001b[38;5;241m=\u001b[39m \u001b[38;5;28mself\u001b[39m\u001b[38;5;241m.\u001b[39mget_num_threads()\n\u001b[1;32m    608\u001b[0m \u001b[38;5;28mself\u001b[39m\u001b[38;5;241m.\u001b[39m_get_extra_info()\n",
      "File \u001b[0;32m~/anaconda3/envs/temp_csy/lib/python3.8/site-packages/threadpoolctl.py:646\u001b[0m, in \u001b[0;36m_OpenBLASModule.get_version\u001b[0;34m(self)\u001b[0m\n\u001b[1;32m    643\u001b[0m get_config \u001b[38;5;241m=\u001b[39m \u001b[38;5;28mgetattr\u001b[39m(\u001b[38;5;28mself\u001b[39m\u001b[38;5;241m.\u001b[39m_dynlib, \u001b[38;5;124m\"\u001b[39m\u001b[38;5;124mopenblas_get_config\u001b[39m\u001b[38;5;124m\"\u001b[39m,\n\u001b[1;32m    644\u001b[0m                      \u001b[38;5;28;01mlambda\u001b[39;00m: \u001b[38;5;28;01mNone\u001b[39;00m)\n\u001b[1;32m    645\u001b[0m get_config\u001b[38;5;241m.\u001b[39mrestype \u001b[38;5;241m=\u001b[39m ctypes\u001b[38;5;241m.\u001b[39mc_char_p\n\u001b[0;32m--> 646\u001b[0m config \u001b[38;5;241m=\u001b[39m \u001b[43mget_config\u001b[49m\u001b[43m(\u001b[49m\u001b[43m)\u001b[49m\u001b[38;5;241;43m.\u001b[39;49m\u001b[43msplit\u001b[49m()\n\u001b[1;32m    647\u001b[0m \u001b[38;5;28;01mif\u001b[39;00m config[\u001b[38;5;241m0\u001b[39m] \u001b[38;5;241m==\u001b[39m \u001b[38;5;124mb\u001b[39m\u001b[38;5;124m\"\u001b[39m\u001b[38;5;124mOpenBLAS\u001b[39m\u001b[38;5;124m\"\u001b[39m:\n\u001b[1;32m    648\u001b[0m     \u001b[38;5;28;01mreturn\u001b[39;00m config[\u001b[38;5;241m1\u001b[39m]\u001b[38;5;241m.\u001b[39mdecode(\u001b[38;5;124m\"\u001b[39m\u001b[38;5;124mutf-8\u001b[39m\u001b[38;5;124m\"\u001b[39m)\n",
      "\u001b[0;31mAttributeError\u001b[0m: 'NoneType' object has no attribute 'split'"
     ]
    },
    {
     "ename": "AttributeError",
     "evalue": "'NoneType' object has no attribute 'split'",
     "output_type": "error",
     "traceback": [
      "\u001b[0;31m---------------------------------------------------------------------------\u001b[0m",
      "\u001b[0;31mAttributeError\u001b[0m                            Traceback (most recent call last)",
      "File \u001b[0;32m_ctypes/callbacks.c:237\u001b[0m, in \u001b[0;36m'calling callback function'\u001b[0;34m()\u001b[0m\n",
      "File \u001b[0;32m~/anaconda3/envs/temp_csy/lib/python3.8/site-packages/threadpoolctl.py:400\u001b[0m, in \u001b[0;36m_ThreadpoolInfo._find_modules_with_dl_iterate_phdr.<locals>.match_module_callback\u001b[0;34m(info, size, data)\u001b[0m\n\u001b[1;32m    397\u001b[0m     filepath \u001b[38;5;241m=\u001b[39m filepath\u001b[38;5;241m.\u001b[39mdecode(\u001b[38;5;124m\"\u001b[39m\u001b[38;5;124mutf-8\u001b[39m\u001b[38;5;124m\"\u001b[39m)\n\u001b[1;32m    399\u001b[0m     \u001b[38;5;66;03m# Store the module if it is supported and selected\u001b[39;00m\n\u001b[0;32m--> 400\u001b[0m     \u001b[38;5;28;43mself\u001b[39;49m\u001b[38;5;241;43m.\u001b[39;49m\u001b[43m_make_module_from_path\u001b[49m\u001b[43m(\u001b[49m\u001b[43mfilepath\u001b[49m\u001b[43m)\u001b[49m\n\u001b[1;32m    401\u001b[0m \u001b[38;5;28;01mreturn\u001b[39;00m \u001b[38;5;241m0\u001b[39m\n",
      "File \u001b[0;32m~/anaconda3/envs/temp_csy/lib/python3.8/site-packages/threadpoolctl.py:515\u001b[0m, in \u001b[0;36m_ThreadpoolInfo._make_module_from_path\u001b[0;34m(self, filepath)\u001b[0m\n\u001b[1;32m    513\u001b[0m \u001b[38;5;28;01mif\u001b[39;00m prefix \u001b[38;5;129;01min\u001b[39;00m \u001b[38;5;28mself\u001b[39m\u001b[38;5;241m.\u001b[39mprefixes \u001b[38;5;129;01mor\u001b[39;00m user_api \u001b[38;5;129;01min\u001b[39;00m \u001b[38;5;28mself\u001b[39m\u001b[38;5;241m.\u001b[39muser_api:\n\u001b[1;32m    514\u001b[0m     module_class \u001b[38;5;241m=\u001b[39m \u001b[38;5;28mglobals\u001b[39m()[module_class]\n\u001b[0;32m--> 515\u001b[0m     module \u001b[38;5;241m=\u001b[39m \u001b[43mmodule_class\u001b[49m\u001b[43m(\u001b[49m\u001b[43mfilepath\u001b[49m\u001b[43m,\u001b[49m\u001b[43m \u001b[49m\u001b[43mprefix\u001b[49m\u001b[43m,\u001b[49m\u001b[43m \u001b[49m\u001b[43muser_api\u001b[49m\u001b[43m,\u001b[49m\u001b[43m \u001b[49m\u001b[43minternal_api\u001b[49m\u001b[43m)\u001b[49m\n\u001b[1;32m    516\u001b[0m     \u001b[38;5;28mself\u001b[39m\u001b[38;5;241m.\u001b[39mmodules\u001b[38;5;241m.\u001b[39mappend(module)\n",
      "File \u001b[0;32m~/anaconda3/envs/temp_csy/lib/python3.8/site-packages/threadpoolctl.py:606\u001b[0m, in \u001b[0;36m_Module.__init__\u001b[0;34m(self, filepath, prefix, user_api, internal_api)\u001b[0m\n\u001b[1;32m    604\u001b[0m \u001b[38;5;28mself\u001b[39m\u001b[38;5;241m.\u001b[39minternal_api \u001b[38;5;241m=\u001b[39m internal_api\n\u001b[1;32m    605\u001b[0m \u001b[38;5;28mself\u001b[39m\u001b[38;5;241m.\u001b[39m_dynlib \u001b[38;5;241m=\u001b[39m ctypes\u001b[38;5;241m.\u001b[39mCDLL(filepath, mode\u001b[38;5;241m=\u001b[39m_RTLD_NOLOAD)\n\u001b[0;32m--> 606\u001b[0m \u001b[38;5;28mself\u001b[39m\u001b[38;5;241m.\u001b[39mversion \u001b[38;5;241m=\u001b[39m \u001b[38;5;28;43mself\u001b[39;49m\u001b[38;5;241;43m.\u001b[39;49m\u001b[43mget_version\u001b[49m\u001b[43m(\u001b[49m\u001b[43m)\u001b[49m\n\u001b[1;32m    607\u001b[0m \u001b[38;5;28mself\u001b[39m\u001b[38;5;241m.\u001b[39mnum_threads \u001b[38;5;241m=\u001b[39m \u001b[38;5;28mself\u001b[39m\u001b[38;5;241m.\u001b[39mget_num_threads()\n\u001b[1;32m    608\u001b[0m \u001b[38;5;28mself\u001b[39m\u001b[38;5;241m.\u001b[39m_get_extra_info()\n",
      "File \u001b[0;32m~/anaconda3/envs/temp_csy/lib/python3.8/site-packages/threadpoolctl.py:646\u001b[0m, in \u001b[0;36m_OpenBLASModule.get_version\u001b[0;34m(self)\u001b[0m\n\u001b[1;32m    643\u001b[0m get_config \u001b[38;5;241m=\u001b[39m \u001b[38;5;28mgetattr\u001b[39m(\u001b[38;5;28mself\u001b[39m\u001b[38;5;241m.\u001b[39m_dynlib, \u001b[38;5;124m\"\u001b[39m\u001b[38;5;124mopenblas_get_config\u001b[39m\u001b[38;5;124m\"\u001b[39m,\n\u001b[1;32m    644\u001b[0m                      \u001b[38;5;28;01mlambda\u001b[39;00m: \u001b[38;5;28;01mNone\u001b[39;00m)\n\u001b[1;32m    645\u001b[0m get_config\u001b[38;5;241m.\u001b[39mrestype \u001b[38;5;241m=\u001b[39m ctypes\u001b[38;5;241m.\u001b[39mc_char_p\n\u001b[0;32m--> 646\u001b[0m config \u001b[38;5;241m=\u001b[39m \u001b[43mget_config\u001b[49m\u001b[43m(\u001b[49m\u001b[43m)\u001b[49m\u001b[38;5;241;43m.\u001b[39;49m\u001b[43msplit\u001b[49m()\n\u001b[1;32m    647\u001b[0m \u001b[38;5;28;01mif\u001b[39;00m config[\u001b[38;5;241m0\u001b[39m] \u001b[38;5;241m==\u001b[39m \u001b[38;5;124mb\u001b[39m\u001b[38;5;124m\"\u001b[39m\u001b[38;5;124mOpenBLAS\u001b[39m\u001b[38;5;124m\"\u001b[39m:\n\u001b[1;32m    648\u001b[0m     \u001b[38;5;28;01mreturn\u001b[39;00m config[\u001b[38;5;241m1\u001b[39m]\u001b[38;5;241m.\u001b[39mdecode(\u001b[38;5;124m\"\u001b[39m\u001b[38;5;124mutf-8\u001b[39m\u001b[38;5;124m\"\u001b[39m)\n",
      "\u001b[0;31mAttributeError\u001b[0m: 'NoneType' object has no attribute 'split'"
     ]
    },
    {
     "ename": "AttributeError",
     "evalue": "'NoneType' object has no attribute 'split'",
     "output_type": "error",
     "traceback": [
      "\u001b[0;31m---------------------------------------------------------------------------\u001b[0m",
      "\u001b[0;31mAttributeError\u001b[0m                            Traceback (most recent call last)",
      "File \u001b[0;32m_ctypes/callbacks.c:237\u001b[0m, in \u001b[0;36m'calling callback function'\u001b[0;34m()\u001b[0m\n",
      "File \u001b[0;32m~/anaconda3/envs/temp_csy/lib/python3.8/site-packages/threadpoolctl.py:400\u001b[0m, in \u001b[0;36m_ThreadpoolInfo._find_modules_with_dl_iterate_phdr.<locals>.match_module_callback\u001b[0;34m(info, size, data)\u001b[0m\n\u001b[1;32m    397\u001b[0m     filepath \u001b[38;5;241m=\u001b[39m filepath\u001b[38;5;241m.\u001b[39mdecode(\u001b[38;5;124m\"\u001b[39m\u001b[38;5;124mutf-8\u001b[39m\u001b[38;5;124m\"\u001b[39m)\n\u001b[1;32m    399\u001b[0m     \u001b[38;5;66;03m# Store the module if it is supported and selected\u001b[39;00m\n\u001b[0;32m--> 400\u001b[0m     \u001b[38;5;28;43mself\u001b[39;49m\u001b[38;5;241;43m.\u001b[39;49m\u001b[43m_make_module_from_path\u001b[49m\u001b[43m(\u001b[49m\u001b[43mfilepath\u001b[49m\u001b[43m)\u001b[49m\n\u001b[1;32m    401\u001b[0m \u001b[38;5;28;01mreturn\u001b[39;00m \u001b[38;5;241m0\u001b[39m\n",
      "File \u001b[0;32m~/anaconda3/envs/temp_csy/lib/python3.8/site-packages/threadpoolctl.py:515\u001b[0m, in \u001b[0;36m_ThreadpoolInfo._make_module_from_path\u001b[0;34m(self, filepath)\u001b[0m\n\u001b[1;32m    513\u001b[0m \u001b[38;5;28;01mif\u001b[39;00m prefix \u001b[38;5;129;01min\u001b[39;00m \u001b[38;5;28mself\u001b[39m\u001b[38;5;241m.\u001b[39mprefixes \u001b[38;5;129;01mor\u001b[39;00m user_api \u001b[38;5;129;01min\u001b[39;00m \u001b[38;5;28mself\u001b[39m\u001b[38;5;241m.\u001b[39muser_api:\n\u001b[1;32m    514\u001b[0m     module_class \u001b[38;5;241m=\u001b[39m \u001b[38;5;28mglobals\u001b[39m()[module_class]\n\u001b[0;32m--> 515\u001b[0m     module \u001b[38;5;241m=\u001b[39m \u001b[43mmodule_class\u001b[49m\u001b[43m(\u001b[49m\u001b[43mfilepath\u001b[49m\u001b[43m,\u001b[49m\u001b[43m \u001b[49m\u001b[43mprefix\u001b[49m\u001b[43m,\u001b[49m\u001b[43m \u001b[49m\u001b[43muser_api\u001b[49m\u001b[43m,\u001b[49m\u001b[43m \u001b[49m\u001b[43minternal_api\u001b[49m\u001b[43m)\u001b[49m\n\u001b[1;32m    516\u001b[0m     \u001b[38;5;28mself\u001b[39m\u001b[38;5;241m.\u001b[39mmodules\u001b[38;5;241m.\u001b[39mappend(module)\n",
      "File \u001b[0;32m~/anaconda3/envs/temp_csy/lib/python3.8/site-packages/threadpoolctl.py:606\u001b[0m, in \u001b[0;36m_Module.__init__\u001b[0;34m(self, filepath, prefix, user_api, internal_api)\u001b[0m\n\u001b[1;32m    604\u001b[0m \u001b[38;5;28mself\u001b[39m\u001b[38;5;241m.\u001b[39minternal_api \u001b[38;5;241m=\u001b[39m internal_api\n\u001b[1;32m    605\u001b[0m \u001b[38;5;28mself\u001b[39m\u001b[38;5;241m.\u001b[39m_dynlib \u001b[38;5;241m=\u001b[39m ctypes\u001b[38;5;241m.\u001b[39mCDLL(filepath, mode\u001b[38;5;241m=\u001b[39m_RTLD_NOLOAD)\n\u001b[0;32m--> 606\u001b[0m \u001b[38;5;28mself\u001b[39m\u001b[38;5;241m.\u001b[39mversion \u001b[38;5;241m=\u001b[39m \u001b[38;5;28;43mself\u001b[39;49m\u001b[38;5;241;43m.\u001b[39;49m\u001b[43mget_version\u001b[49m\u001b[43m(\u001b[49m\u001b[43m)\u001b[49m\n\u001b[1;32m    607\u001b[0m \u001b[38;5;28mself\u001b[39m\u001b[38;5;241m.\u001b[39mnum_threads \u001b[38;5;241m=\u001b[39m \u001b[38;5;28mself\u001b[39m\u001b[38;5;241m.\u001b[39mget_num_threads()\n\u001b[1;32m    608\u001b[0m \u001b[38;5;28mself\u001b[39m\u001b[38;5;241m.\u001b[39m_get_extra_info()\n",
      "File \u001b[0;32m~/anaconda3/envs/temp_csy/lib/python3.8/site-packages/threadpoolctl.py:646\u001b[0m, in \u001b[0;36m_OpenBLASModule.get_version\u001b[0;34m(self)\u001b[0m\n\u001b[1;32m    643\u001b[0m get_config \u001b[38;5;241m=\u001b[39m \u001b[38;5;28mgetattr\u001b[39m(\u001b[38;5;28mself\u001b[39m\u001b[38;5;241m.\u001b[39m_dynlib, \u001b[38;5;124m\"\u001b[39m\u001b[38;5;124mopenblas_get_config\u001b[39m\u001b[38;5;124m\"\u001b[39m,\n\u001b[1;32m    644\u001b[0m                      \u001b[38;5;28;01mlambda\u001b[39;00m: \u001b[38;5;28;01mNone\u001b[39;00m)\n\u001b[1;32m    645\u001b[0m get_config\u001b[38;5;241m.\u001b[39mrestype \u001b[38;5;241m=\u001b[39m ctypes\u001b[38;5;241m.\u001b[39mc_char_p\n\u001b[0;32m--> 646\u001b[0m config \u001b[38;5;241m=\u001b[39m \u001b[43mget_config\u001b[49m\u001b[43m(\u001b[49m\u001b[43m)\u001b[49m\u001b[38;5;241;43m.\u001b[39;49m\u001b[43msplit\u001b[49m()\n\u001b[1;32m    647\u001b[0m \u001b[38;5;28;01mif\u001b[39;00m config[\u001b[38;5;241m0\u001b[39m] \u001b[38;5;241m==\u001b[39m \u001b[38;5;124mb\u001b[39m\u001b[38;5;124m\"\u001b[39m\u001b[38;5;124mOpenBLAS\u001b[39m\u001b[38;5;124m\"\u001b[39m:\n\u001b[1;32m    648\u001b[0m     \u001b[38;5;28;01mreturn\u001b[39;00m config[\u001b[38;5;241m1\u001b[39m]\u001b[38;5;241m.\u001b[39mdecode(\u001b[38;5;124m\"\u001b[39m\u001b[38;5;124mutf-8\u001b[39m\u001b[38;5;124m\"\u001b[39m)\n",
      "\u001b[0;31mAttributeError\u001b[0m: 'NoneType' object has no attribute 'split'"
     ]
    },
    {
     "ename": "AttributeError",
     "evalue": "'NoneType' object has no attribute 'split'",
     "output_type": "error",
     "traceback": [
      "\u001b[0;31m---------------------------------------------------------------------------\u001b[0m",
      "\u001b[0;31mAttributeError\u001b[0m                            Traceback (most recent call last)",
      "File \u001b[0;32m_ctypes/callbacks.c:237\u001b[0m, in \u001b[0;36m'calling callback function'\u001b[0;34m()\u001b[0m\n",
      "File \u001b[0;32m~/anaconda3/envs/temp_csy/lib/python3.8/site-packages/threadpoolctl.py:400\u001b[0m, in \u001b[0;36m_ThreadpoolInfo._find_modules_with_dl_iterate_phdr.<locals>.match_module_callback\u001b[0;34m(info, size, data)\u001b[0m\n\u001b[1;32m    397\u001b[0m     filepath \u001b[38;5;241m=\u001b[39m filepath\u001b[38;5;241m.\u001b[39mdecode(\u001b[38;5;124m\"\u001b[39m\u001b[38;5;124mutf-8\u001b[39m\u001b[38;5;124m\"\u001b[39m)\n\u001b[1;32m    399\u001b[0m     \u001b[38;5;66;03m# Store the module if it is supported and selected\u001b[39;00m\n\u001b[0;32m--> 400\u001b[0m     \u001b[38;5;28;43mself\u001b[39;49m\u001b[38;5;241;43m.\u001b[39;49m\u001b[43m_make_module_from_path\u001b[49m\u001b[43m(\u001b[49m\u001b[43mfilepath\u001b[49m\u001b[43m)\u001b[49m\n\u001b[1;32m    401\u001b[0m \u001b[38;5;28;01mreturn\u001b[39;00m \u001b[38;5;241m0\u001b[39m\n",
      "File \u001b[0;32m~/anaconda3/envs/temp_csy/lib/python3.8/site-packages/threadpoolctl.py:515\u001b[0m, in \u001b[0;36m_ThreadpoolInfo._make_module_from_path\u001b[0;34m(self, filepath)\u001b[0m\n\u001b[1;32m    513\u001b[0m \u001b[38;5;28;01mif\u001b[39;00m prefix \u001b[38;5;129;01min\u001b[39;00m \u001b[38;5;28mself\u001b[39m\u001b[38;5;241m.\u001b[39mprefixes \u001b[38;5;129;01mor\u001b[39;00m user_api \u001b[38;5;129;01min\u001b[39;00m \u001b[38;5;28mself\u001b[39m\u001b[38;5;241m.\u001b[39muser_api:\n\u001b[1;32m    514\u001b[0m     module_class \u001b[38;5;241m=\u001b[39m \u001b[38;5;28mglobals\u001b[39m()[module_class]\n\u001b[0;32m--> 515\u001b[0m     module \u001b[38;5;241m=\u001b[39m \u001b[43mmodule_class\u001b[49m\u001b[43m(\u001b[49m\u001b[43mfilepath\u001b[49m\u001b[43m,\u001b[49m\u001b[43m \u001b[49m\u001b[43mprefix\u001b[49m\u001b[43m,\u001b[49m\u001b[43m \u001b[49m\u001b[43muser_api\u001b[49m\u001b[43m,\u001b[49m\u001b[43m \u001b[49m\u001b[43minternal_api\u001b[49m\u001b[43m)\u001b[49m\n\u001b[1;32m    516\u001b[0m     \u001b[38;5;28mself\u001b[39m\u001b[38;5;241m.\u001b[39mmodules\u001b[38;5;241m.\u001b[39mappend(module)\n",
      "File \u001b[0;32m~/anaconda3/envs/temp_csy/lib/python3.8/site-packages/threadpoolctl.py:606\u001b[0m, in \u001b[0;36m_Module.__init__\u001b[0;34m(self, filepath, prefix, user_api, internal_api)\u001b[0m\n\u001b[1;32m    604\u001b[0m \u001b[38;5;28mself\u001b[39m\u001b[38;5;241m.\u001b[39minternal_api \u001b[38;5;241m=\u001b[39m internal_api\n\u001b[1;32m    605\u001b[0m \u001b[38;5;28mself\u001b[39m\u001b[38;5;241m.\u001b[39m_dynlib \u001b[38;5;241m=\u001b[39m ctypes\u001b[38;5;241m.\u001b[39mCDLL(filepath, mode\u001b[38;5;241m=\u001b[39m_RTLD_NOLOAD)\n\u001b[0;32m--> 606\u001b[0m \u001b[38;5;28mself\u001b[39m\u001b[38;5;241m.\u001b[39mversion \u001b[38;5;241m=\u001b[39m \u001b[38;5;28;43mself\u001b[39;49m\u001b[38;5;241;43m.\u001b[39;49m\u001b[43mget_version\u001b[49m\u001b[43m(\u001b[49m\u001b[43m)\u001b[49m\n\u001b[1;32m    607\u001b[0m \u001b[38;5;28mself\u001b[39m\u001b[38;5;241m.\u001b[39mnum_threads \u001b[38;5;241m=\u001b[39m \u001b[38;5;28mself\u001b[39m\u001b[38;5;241m.\u001b[39mget_num_threads()\n\u001b[1;32m    608\u001b[0m \u001b[38;5;28mself\u001b[39m\u001b[38;5;241m.\u001b[39m_get_extra_info()\n",
      "File \u001b[0;32m~/anaconda3/envs/temp_csy/lib/python3.8/site-packages/threadpoolctl.py:646\u001b[0m, in \u001b[0;36m_OpenBLASModule.get_version\u001b[0;34m(self)\u001b[0m\n\u001b[1;32m    643\u001b[0m get_config \u001b[38;5;241m=\u001b[39m \u001b[38;5;28mgetattr\u001b[39m(\u001b[38;5;28mself\u001b[39m\u001b[38;5;241m.\u001b[39m_dynlib, \u001b[38;5;124m\"\u001b[39m\u001b[38;5;124mopenblas_get_config\u001b[39m\u001b[38;5;124m\"\u001b[39m,\n\u001b[1;32m    644\u001b[0m                      \u001b[38;5;28;01mlambda\u001b[39;00m: \u001b[38;5;28;01mNone\u001b[39;00m)\n\u001b[1;32m    645\u001b[0m get_config\u001b[38;5;241m.\u001b[39mrestype \u001b[38;5;241m=\u001b[39m ctypes\u001b[38;5;241m.\u001b[39mc_char_p\n\u001b[0;32m--> 646\u001b[0m config \u001b[38;5;241m=\u001b[39m \u001b[43mget_config\u001b[49m\u001b[43m(\u001b[49m\u001b[43m)\u001b[49m\u001b[38;5;241;43m.\u001b[39;49m\u001b[43msplit\u001b[49m()\n\u001b[1;32m    647\u001b[0m \u001b[38;5;28;01mif\u001b[39;00m config[\u001b[38;5;241m0\u001b[39m] \u001b[38;5;241m==\u001b[39m \u001b[38;5;124mb\u001b[39m\u001b[38;5;124m\"\u001b[39m\u001b[38;5;124mOpenBLAS\u001b[39m\u001b[38;5;124m\"\u001b[39m:\n\u001b[1;32m    648\u001b[0m     \u001b[38;5;28;01mreturn\u001b[39;00m config[\u001b[38;5;241m1\u001b[39m]\u001b[38;5;241m.\u001b[39mdecode(\u001b[38;5;124m\"\u001b[39m\u001b[38;5;124mutf-8\u001b[39m\u001b[38;5;124m\"\u001b[39m)\n",
      "\u001b[0;31mAttributeError\u001b[0m: 'NoneType' object has no attribute 'split'"
     ]
    }
   ],
   "source": [
    "clf = CBLOF(contamination=0.05,check_estimator=False, random_state=77)\n",
    "clf.fit(_df[['x', 'y']])\n",
    "_df['CBLOF_Clf'] = clf.labels_"
   ]
  },
  {
   "cell_type": "code",
   "execution_count": 31,
   "id": "5c678214-8b07-478b-afbe-a36b18e4e3fc",
   "metadata": {},
   "outputs": [
    {
     "name": "stderr",
     "output_type": "stream",
     "text": [
      "/home/csy/anaconda3/envs/temp_csy/lib/python3.8/site-packages/sklearn/cluster/_kmeans.py:870: FutureWarning: The default value of `n_init` will change from 10 to 'auto' in 1.4. Set the value of `n_init` explicitly to suppress the warning\n",
      "  warnings.warn(\n"
     ]
    },
    {
     "ename": "AttributeError",
     "evalue": "'NoneType' object has no attribute 'split'",
     "output_type": "error",
     "traceback": [
      "\u001b[0;31m---------------------------------------------------------------------------\u001b[0m",
      "\u001b[0;31mAttributeError\u001b[0m                            Traceback (most recent call last)",
      "File \u001b[0;32m_ctypes/callbacks.c:237\u001b[0m, in \u001b[0;36m'calling callback function'\u001b[0;34m()\u001b[0m\n",
      "File \u001b[0;32m~/anaconda3/envs/temp_csy/lib/python3.8/site-packages/threadpoolctl.py:400\u001b[0m, in \u001b[0;36m_ThreadpoolInfo._find_modules_with_dl_iterate_phdr.<locals>.match_module_callback\u001b[0;34m(info, size, data)\u001b[0m\n\u001b[1;32m    397\u001b[0m     filepath \u001b[38;5;241m=\u001b[39m filepath\u001b[38;5;241m.\u001b[39mdecode(\u001b[38;5;124m\"\u001b[39m\u001b[38;5;124mutf-8\u001b[39m\u001b[38;5;124m\"\u001b[39m)\n\u001b[1;32m    399\u001b[0m     \u001b[38;5;66;03m# Store the module if it is supported and selected\u001b[39;00m\n\u001b[0;32m--> 400\u001b[0m     \u001b[38;5;28;43mself\u001b[39;49m\u001b[38;5;241;43m.\u001b[39;49m\u001b[43m_make_module_from_path\u001b[49m\u001b[43m(\u001b[49m\u001b[43mfilepath\u001b[49m\u001b[43m)\u001b[49m\n\u001b[1;32m    401\u001b[0m \u001b[38;5;28;01mreturn\u001b[39;00m \u001b[38;5;241m0\u001b[39m\n",
      "File \u001b[0;32m~/anaconda3/envs/temp_csy/lib/python3.8/site-packages/threadpoolctl.py:515\u001b[0m, in \u001b[0;36m_ThreadpoolInfo._make_module_from_path\u001b[0;34m(self, filepath)\u001b[0m\n\u001b[1;32m    513\u001b[0m \u001b[38;5;28;01mif\u001b[39;00m prefix \u001b[38;5;129;01min\u001b[39;00m \u001b[38;5;28mself\u001b[39m\u001b[38;5;241m.\u001b[39mprefixes \u001b[38;5;129;01mor\u001b[39;00m user_api \u001b[38;5;129;01min\u001b[39;00m \u001b[38;5;28mself\u001b[39m\u001b[38;5;241m.\u001b[39muser_api:\n\u001b[1;32m    514\u001b[0m     module_class \u001b[38;5;241m=\u001b[39m \u001b[38;5;28mglobals\u001b[39m()[module_class]\n\u001b[0;32m--> 515\u001b[0m     module \u001b[38;5;241m=\u001b[39m \u001b[43mmodule_class\u001b[49m\u001b[43m(\u001b[49m\u001b[43mfilepath\u001b[49m\u001b[43m,\u001b[49m\u001b[43m \u001b[49m\u001b[43mprefix\u001b[49m\u001b[43m,\u001b[49m\u001b[43m \u001b[49m\u001b[43muser_api\u001b[49m\u001b[43m,\u001b[49m\u001b[43m \u001b[49m\u001b[43minternal_api\u001b[49m\u001b[43m)\u001b[49m\n\u001b[1;32m    516\u001b[0m     \u001b[38;5;28mself\u001b[39m\u001b[38;5;241m.\u001b[39mmodules\u001b[38;5;241m.\u001b[39mappend(module)\n",
      "File \u001b[0;32m~/anaconda3/envs/temp_csy/lib/python3.8/site-packages/threadpoolctl.py:606\u001b[0m, in \u001b[0;36m_Module.__init__\u001b[0;34m(self, filepath, prefix, user_api, internal_api)\u001b[0m\n\u001b[1;32m    604\u001b[0m \u001b[38;5;28mself\u001b[39m\u001b[38;5;241m.\u001b[39minternal_api \u001b[38;5;241m=\u001b[39m internal_api\n\u001b[1;32m    605\u001b[0m \u001b[38;5;28mself\u001b[39m\u001b[38;5;241m.\u001b[39m_dynlib \u001b[38;5;241m=\u001b[39m ctypes\u001b[38;5;241m.\u001b[39mCDLL(filepath, mode\u001b[38;5;241m=\u001b[39m_RTLD_NOLOAD)\n\u001b[0;32m--> 606\u001b[0m \u001b[38;5;28mself\u001b[39m\u001b[38;5;241m.\u001b[39mversion \u001b[38;5;241m=\u001b[39m \u001b[38;5;28;43mself\u001b[39;49m\u001b[38;5;241;43m.\u001b[39;49m\u001b[43mget_version\u001b[49m\u001b[43m(\u001b[49m\u001b[43m)\u001b[49m\n\u001b[1;32m    607\u001b[0m \u001b[38;5;28mself\u001b[39m\u001b[38;5;241m.\u001b[39mnum_threads \u001b[38;5;241m=\u001b[39m \u001b[38;5;28mself\u001b[39m\u001b[38;5;241m.\u001b[39mget_num_threads()\n\u001b[1;32m    608\u001b[0m \u001b[38;5;28mself\u001b[39m\u001b[38;5;241m.\u001b[39m_get_extra_info()\n",
      "File \u001b[0;32m~/anaconda3/envs/temp_csy/lib/python3.8/site-packages/threadpoolctl.py:646\u001b[0m, in \u001b[0;36m_OpenBLASModule.get_version\u001b[0;34m(self)\u001b[0m\n\u001b[1;32m    643\u001b[0m get_config \u001b[38;5;241m=\u001b[39m \u001b[38;5;28mgetattr\u001b[39m(\u001b[38;5;28mself\u001b[39m\u001b[38;5;241m.\u001b[39m_dynlib, \u001b[38;5;124m\"\u001b[39m\u001b[38;5;124mopenblas_get_config\u001b[39m\u001b[38;5;124m\"\u001b[39m,\n\u001b[1;32m    644\u001b[0m                      \u001b[38;5;28;01mlambda\u001b[39;00m: \u001b[38;5;28;01mNone\u001b[39;00m)\n\u001b[1;32m    645\u001b[0m get_config\u001b[38;5;241m.\u001b[39mrestype \u001b[38;5;241m=\u001b[39m ctypes\u001b[38;5;241m.\u001b[39mc_char_p\n\u001b[0;32m--> 646\u001b[0m config \u001b[38;5;241m=\u001b[39m \u001b[43mget_config\u001b[49m\u001b[43m(\u001b[49m\u001b[43m)\u001b[49m\u001b[38;5;241;43m.\u001b[39;49m\u001b[43msplit\u001b[49m()\n\u001b[1;32m    647\u001b[0m \u001b[38;5;28;01mif\u001b[39;00m config[\u001b[38;5;241m0\u001b[39m] \u001b[38;5;241m==\u001b[39m \u001b[38;5;124mb\u001b[39m\u001b[38;5;124m\"\u001b[39m\u001b[38;5;124mOpenBLAS\u001b[39m\u001b[38;5;124m\"\u001b[39m:\n\u001b[1;32m    648\u001b[0m     \u001b[38;5;28;01mreturn\u001b[39;00m config[\u001b[38;5;241m1\u001b[39m]\u001b[38;5;241m.\u001b[39mdecode(\u001b[38;5;124m\"\u001b[39m\u001b[38;5;124mutf-8\u001b[39m\u001b[38;5;124m\"\u001b[39m)\n",
      "\u001b[0;31mAttributeError\u001b[0m: 'NoneType' object has no attribute 'split'"
     ]
    },
    {
     "ename": "AttributeError",
     "evalue": "'NoneType' object has no attribute 'split'",
     "output_type": "error",
     "traceback": [
      "\u001b[0;31m---------------------------------------------------------------------------\u001b[0m",
      "\u001b[0;31mAttributeError\u001b[0m                            Traceback (most recent call last)",
      "File \u001b[0;32m_ctypes/callbacks.c:237\u001b[0m, in \u001b[0;36m'calling callback function'\u001b[0;34m()\u001b[0m\n",
      "File \u001b[0;32m~/anaconda3/envs/temp_csy/lib/python3.8/site-packages/threadpoolctl.py:400\u001b[0m, in \u001b[0;36m_ThreadpoolInfo._find_modules_with_dl_iterate_phdr.<locals>.match_module_callback\u001b[0;34m(info, size, data)\u001b[0m\n\u001b[1;32m    397\u001b[0m     filepath \u001b[38;5;241m=\u001b[39m filepath\u001b[38;5;241m.\u001b[39mdecode(\u001b[38;5;124m\"\u001b[39m\u001b[38;5;124mutf-8\u001b[39m\u001b[38;5;124m\"\u001b[39m)\n\u001b[1;32m    399\u001b[0m     \u001b[38;5;66;03m# Store the module if it is supported and selected\u001b[39;00m\n\u001b[0;32m--> 400\u001b[0m     \u001b[38;5;28;43mself\u001b[39;49m\u001b[38;5;241;43m.\u001b[39;49m\u001b[43m_make_module_from_path\u001b[49m\u001b[43m(\u001b[49m\u001b[43mfilepath\u001b[49m\u001b[43m)\u001b[49m\n\u001b[1;32m    401\u001b[0m \u001b[38;5;28;01mreturn\u001b[39;00m \u001b[38;5;241m0\u001b[39m\n",
      "File \u001b[0;32m~/anaconda3/envs/temp_csy/lib/python3.8/site-packages/threadpoolctl.py:515\u001b[0m, in \u001b[0;36m_ThreadpoolInfo._make_module_from_path\u001b[0;34m(self, filepath)\u001b[0m\n\u001b[1;32m    513\u001b[0m \u001b[38;5;28;01mif\u001b[39;00m prefix \u001b[38;5;129;01min\u001b[39;00m \u001b[38;5;28mself\u001b[39m\u001b[38;5;241m.\u001b[39mprefixes \u001b[38;5;129;01mor\u001b[39;00m user_api \u001b[38;5;129;01min\u001b[39;00m \u001b[38;5;28mself\u001b[39m\u001b[38;5;241m.\u001b[39muser_api:\n\u001b[1;32m    514\u001b[0m     module_class \u001b[38;5;241m=\u001b[39m \u001b[38;5;28mglobals\u001b[39m()[module_class]\n\u001b[0;32m--> 515\u001b[0m     module \u001b[38;5;241m=\u001b[39m \u001b[43mmodule_class\u001b[49m\u001b[43m(\u001b[49m\u001b[43mfilepath\u001b[49m\u001b[43m,\u001b[49m\u001b[43m \u001b[49m\u001b[43mprefix\u001b[49m\u001b[43m,\u001b[49m\u001b[43m \u001b[49m\u001b[43muser_api\u001b[49m\u001b[43m,\u001b[49m\u001b[43m \u001b[49m\u001b[43minternal_api\u001b[49m\u001b[43m)\u001b[49m\n\u001b[1;32m    516\u001b[0m     \u001b[38;5;28mself\u001b[39m\u001b[38;5;241m.\u001b[39mmodules\u001b[38;5;241m.\u001b[39mappend(module)\n",
      "File \u001b[0;32m~/anaconda3/envs/temp_csy/lib/python3.8/site-packages/threadpoolctl.py:606\u001b[0m, in \u001b[0;36m_Module.__init__\u001b[0;34m(self, filepath, prefix, user_api, internal_api)\u001b[0m\n\u001b[1;32m    604\u001b[0m \u001b[38;5;28mself\u001b[39m\u001b[38;5;241m.\u001b[39minternal_api \u001b[38;5;241m=\u001b[39m internal_api\n\u001b[1;32m    605\u001b[0m \u001b[38;5;28mself\u001b[39m\u001b[38;5;241m.\u001b[39m_dynlib \u001b[38;5;241m=\u001b[39m ctypes\u001b[38;5;241m.\u001b[39mCDLL(filepath, mode\u001b[38;5;241m=\u001b[39m_RTLD_NOLOAD)\n\u001b[0;32m--> 606\u001b[0m \u001b[38;5;28mself\u001b[39m\u001b[38;5;241m.\u001b[39mversion \u001b[38;5;241m=\u001b[39m \u001b[38;5;28;43mself\u001b[39;49m\u001b[38;5;241;43m.\u001b[39;49m\u001b[43mget_version\u001b[49m\u001b[43m(\u001b[49m\u001b[43m)\u001b[49m\n\u001b[1;32m    607\u001b[0m \u001b[38;5;28mself\u001b[39m\u001b[38;5;241m.\u001b[39mnum_threads \u001b[38;5;241m=\u001b[39m \u001b[38;5;28mself\u001b[39m\u001b[38;5;241m.\u001b[39mget_num_threads()\n\u001b[1;32m    608\u001b[0m \u001b[38;5;28mself\u001b[39m\u001b[38;5;241m.\u001b[39m_get_extra_info()\n",
      "File \u001b[0;32m~/anaconda3/envs/temp_csy/lib/python3.8/site-packages/threadpoolctl.py:646\u001b[0m, in \u001b[0;36m_OpenBLASModule.get_version\u001b[0;34m(self)\u001b[0m\n\u001b[1;32m    643\u001b[0m get_config \u001b[38;5;241m=\u001b[39m \u001b[38;5;28mgetattr\u001b[39m(\u001b[38;5;28mself\u001b[39m\u001b[38;5;241m.\u001b[39m_dynlib, \u001b[38;5;124m\"\u001b[39m\u001b[38;5;124mopenblas_get_config\u001b[39m\u001b[38;5;124m\"\u001b[39m,\n\u001b[1;32m    644\u001b[0m                      \u001b[38;5;28;01mlambda\u001b[39;00m: \u001b[38;5;28;01mNone\u001b[39;00m)\n\u001b[1;32m    645\u001b[0m get_config\u001b[38;5;241m.\u001b[39mrestype \u001b[38;5;241m=\u001b[39m ctypes\u001b[38;5;241m.\u001b[39mc_char_p\n\u001b[0;32m--> 646\u001b[0m config \u001b[38;5;241m=\u001b[39m \u001b[43mget_config\u001b[49m\u001b[43m(\u001b[49m\u001b[43m)\u001b[49m\u001b[38;5;241;43m.\u001b[39;49m\u001b[43msplit\u001b[49m()\n\u001b[1;32m    647\u001b[0m \u001b[38;5;28;01mif\u001b[39;00m config[\u001b[38;5;241m0\u001b[39m] \u001b[38;5;241m==\u001b[39m \u001b[38;5;124mb\u001b[39m\u001b[38;5;124m\"\u001b[39m\u001b[38;5;124mOpenBLAS\u001b[39m\u001b[38;5;124m\"\u001b[39m:\n\u001b[1;32m    648\u001b[0m     \u001b[38;5;28;01mreturn\u001b[39;00m config[\u001b[38;5;241m1\u001b[39m]\u001b[38;5;241m.\u001b[39mdecode(\u001b[38;5;124m\"\u001b[39m\u001b[38;5;124mutf-8\u001b[39m\u001b[38;5;124m\"\u001b[39m)\n",
      "\u001b[0;31mAttributeError\u001b[0m: 'NoneType' object has no attribute 'split'"
     ]
    },
    {
     "ename": "AttributeError",
     "evalue": "'NoneType' object has no attribute 'split'",
     "output_type": "error",
     "traceback": [
      "\u001b[0;31m---------------------------------------------------------------------------\u001b[0m",
      "\u001b[0;31mAttributeError\u001b[0m                            Traceback (most recent call last)",
      "File \u001b[0;32m_ctypes/callbacks.c:237\u001b[0m, in \u001b[0;36m'calling callback function'\u001b[0;34m()\u001b[0m\n",
      "File \u001b[0;32m~/anaconda3/envs/temp_csy/lib/python3.8/site-packages/threadpoolctl.py:400\u001b[0m, in \u001b[0;36m_ThreadpoolInfo._find_modules_with_dl_iterate_phdr.<locals>.match_module_callback\u001b[0;34m(info, size, data)\u001b[0m\n\u001b[1;32m    397\u001b[0m     filepath \u001b[38;5;241m=\u001b[39m filepath\u001b[38;5;241m.\u001b[39mdecode(\u001b[38;5;124m\"\u001b[39m\u001b[38;5;124mutf-8\u001b[39m\u001b[38;5;124m\"\u001b[39m)\n\u001b[1;32m    399\u001b[0m     \u001b[38;5;66;03m# Store the module if it is supported and selected\u001b[39;00m\n\u001b[0;32m--> 400\u001b[0m     \u001b[38;5;28;43mself\u001b[39;49m\u001b[38;5;241;43m.\u001b[39;49m\u001b[43m_make_module_from_path\u001b[49m\u001b[43m(\u001b[49m\u001b[43mfilepath\u001b[49m\u001b[43m)\u001b[49m\n\u001b[1;32m    401\u001b[0m \u001b[38;5;28;01mreturn\u001b[39;00m \u001b[38;5;241m0\u001b[39m\n",
      "File \u001b[0;32m~/anaconda3/envs/temp_csy/lib/python3.8/site-packages/threadpoolctl.py:515\u001b[0m, in \u001b[0;36m_ThreadpoolInfo._make_module_from_path\u001b[0;34m(self, filepath)\u001b[0m\n\u001b[1;32m    513\u001b[0m \u001b[38;5;28;01mif\u001b[39;00m prefix \u001b[38;5;129;01min\u001b[39;00m \u001b[38;5;28mself\u001b[39m\u001b[38;5;241m.\u001b[39mprefixes \u001b[38;5;129;01mor\u001b[39;00m user_api \u001b[38;5;129;01min\u001b[39;00m \u001b[38;5;28mself\u001b[39m\u001b[38;5;241m.\u001b[39muser_api:\n\u001b[1;32m    514\u001b[0m     module_class \u001b[38;5;241m=\u001b[39m \u001b[38;5;28mglobals\u001b[39m()[module_class]\n\u001b[0;32m--> 515\u001b[0m     module \u001b[38;5;241m=\u001b[39m \u001b[43mmodule_class\u001b[49m\u001b[43m(\u001b[49m\u001b[43mfilepath\u001b[49m\u001b[43m,\u001b[49m\u001b[43m \u001b[49m\u001b[43mprefix\u001b[49m\u001b[43m,\u001b[49m\u001b[43m \u001b[49m\u001b[43muser_api\u001b[49m\u001b[43m,\u001b[49m\u001b[43m \u001b[49m\u001b[43minternal_api\u001b[49m\u001b[43m)\u001b[49m\n\u001b[1;32m    516\u001b[0m     \u001b[38;5;28mself\u001b[39m\u001b[38;5;241m.\u001b[39mmodules\u001b[38;5;241m.\u001b[39mappend(module)\n",
      "File \u001b[0;32m~/anaconda3/envs/temp_csy/lib/python3.8/site-packages/threadpoolctl.py:606\u001b[0m, in \u001b[0;36m_Module.__init__\u001b[0;34m(self, filepath, prefix, user_api, internal_api)\u001b[0m\n\u001b[1;32m    604\u001b[0m \u001b[38;5;28mself\u001b[39m\u001b[38;5;241m.\u001b[39minternal_api \u001b[38;5;241m=\u001b[39m internal_api\n\u001b[1;32m    605\u001b[0m \u001b[38;5;28mself\u001b[39m\u001b[38;5;241m.\u001b[39m_dynlib \u001b[38;5;241m=\u001b[39m ctypes\u001b[38;5;241m.\u001b[39mCDLL(filepath, mode\u001b[38;5;241m=\u001b[39m_RTLD_NOLOAD)\n\u001b[0;32m--> 606\u001b[0m \u001b[38;5;28mself\u001b[39m\u001b[38;5;241m.\u001b[39mversion \u001b[38;5;241m=\u001b[39m \u001b[38;5;28;43mself\u001b[39;49m\u001b[38;5;241;43m.\u001b[39;49m\u001b[43mget_version\u001b[49m\u001b[43m(\u001b[49m\u001b[43m)\u001b[49m\n\u001b[1;32m    607\u001b[0m \u001b[38;5;28mself\u001b[39m\u001b[38;5;241m.\u001b[39mnum_threads \u001b[38;5;241m=\u001b[39m \u001b[38;5;28mself\u001b[39m\u001b[38;5;241m.\u001b[39mget_num_threads()\n\u001b[1;32m    608\u001b[0m \u001b[38;5;28mself\u001b[39m\u001b[38;5;241m.\u001b[39m_get_extra_info()\n",
      "File \u001b[0;32m~/anaconda3/envs/temp_csy/lib/python3.8/site-packages/threadpoolctl.py:646\u001b[0m, in \u001b[0;36m_OpenBLASModule.get_version\u001b[0;34m(self)\u001b[0m\n\u001b[1;32m    643\u001b[0m get_config \u001b[38;5;241m=\u001b[39m \u001b[38;5;28mgetattr\u001b[39m(\u001b[38;5;28mself\u001b[39m\u001b[38;5;241m.\u001b[39m_dynlib, \u001b[38;5;124m\"\u001b[39m\u001b[38;5;124mopenblas_get_config\u001b[39m\u001b[38;5;124m\"\u001b[39m,\n\u001b[1;32m    644\u001b[0m                      \u001b[38;5;28;01mlambda\u001b[39;00m: \u001b[38;5;28;01mNone\u001b[39;00m)\n\u001b[1;32m    645\u001b[0m get_config\u001b[38;5;241m.\u001b[39mrestype \u001b[38;5;241m=\u001b[39m ctypes\u001b[38;5;241m.\u001b[39mc_char_p\n\u001b[0;32m--> 646\u001b[0m config \u001b[38;5;241m=\u001b[39m \u001b[43mget_config\u001b[49m\u001b[43m(\u001b[49m\u001b[43m)\u001b[49m\u001b[38;5;241;43m.\u001b[39;49m\u001b[43msplit\u001b[49m()\n\u001b[1;32m    647\u001b[0m \u001b[38;5;28;01mif\u001b[39;00m config[\u001b[38;5;241m0\u001b[39m] \u001b[38;5;241m==\u001b[39m \u001b[38;5;124mb\u001b[39m\u001b[38;5;124m\"\u001b[39m\u001b[38;5;124mOpenBLAS\u001b[39m\u001b[38;5;124m\"\u001b[39m:\n\u001b[1;32m    648\u001b[0m     \u001b[38;5;28;01mreturn\u001b[39;00m config[\u001b[38;5;241m1\u001b[39m]\u001b[38;5;241m.\u001b[39mdecode(\u001b[38;5;124m\"\u001b[39m\u001b[38;5;124mutf-8\u001b[39m\u001b[38;5;124m\"\u001b[39m)\n",
      "\u001b[0;31mAttributeError\u001b[0m: 'NoneType' object has no attribute 'split'"
     ]
    },
    {
     "ename": "AttributeError",
     "evalue": "'NoneType' object has no attribute 'split'",
     "output_type": "error",
     "traceback": [
      "\u001b[0;31m---------------------------------------------------------------------------\u001b[0m",
      "\u001b[0;31mAttributeError\u001b[0m                            Traceback (most recent call last)",
      "File \u001b[0;32m_ctypes/callbacks.c:237\u001b[0m, in \u001b[0;36m'calling callback function'\u001b[0;34m()\u001b[0m\n",
      "File \u001b[0;32m~/anaconda3/envs/temp_csy/lib/python3.8/site-packages/threadpoolctl.py:400\u001b[0m, in \u001b[0;36m_ThreadpoolInfo._find_modules_with_dl_iterate_phdr.<locals>.match_module_callback\u001b[0;34m(info, size, data)\u001b[0m\n\u001b[1;32m    397\u001b[0m     filepath \u001b[38;5;241m=\u001b[39m filepath\u001b[38;5;241m.\u001b[39mdecode(\u001b[38;5;124m\"\u001b[39m\u001b[38;5;124mutf-8\u001b[39m\u001b[38;5;124m\"\u001b[39m)\n\u001b[1;32m    399\u001b[0m     \u001b[38;5;66;03m# Store the module if it is supported and selected\u001b[39;00m\n\u001b[0;32m--> 400\u001b[0m     \u001b[38;5;28;43mself\u001b[39;49m\u001b[38;5;241;43m.\u001b[39;49m\u001b[43m_make_module_from_path\u001b[49m\u001b[43m(\u001b[49m\u001b[43mfilepath\u001b[49m\u001b[43m)\u001b[49m\n\u001b[1;32m    401\u001b[0m \u001b[38;5;28;01mreturn\u001b[39;00m \u001b[38;5;241m0\u001b[39m\n",
      "File \u001b[0;32m~/anaconda3/envs/temp_csy/lib/python3.8/site-packages/threadpoolctl.py:515\u001b[0m, in \u001b[0;36m_ThreadpoolInfo._make_module_from_path\u001b[0;34m(self, filepath)\u001b[0m\n\u001b[1;32m    513\u001b[0m \u001b[38;5;28;01mif\u001b[39;00m prefix \u001b[38;5;129;01min\u001b[39;00m \u001b[38;5;28mself\u001b[39m\u001b[38;5;241m.\u001b[39mprefixes \u001b[38;5;129;01mor\u001b[39;00m user_api \u001b[38;5;129;01min\u001b[39;00m \u001b[38;5;28mself\u001b[39m\u001b[38;5;241m.\u001b[39muser_api:\n\u001b[1;32m    514\u001b[0m     module_class \u001b[38;5;241m=\u001b[39m \u001b[38;5;28mglobals\u001b[39m()[module_class]\n\u001b[0;32m--> 515\u001b[0m     module \u001b[38;5;241m=\u001b[39m \u001b[43mmodule_class\u001b[49m\u001b[43m(\u001b[49m\u001b[43mfilepath\u001b[49m\u001b[43m,\u001b[49m\u001b[43m \u001b[49m\u001b[43mprefix\u001b[49m\u001b[43m,\u001b[49m\u001b[43m \u001b[49m\u001b[43muser_api\u001b[49m\u001b[43m,\u001b[49m\u001b[43m \u001b[49m\u001b[43minternal_api\u001b[49m\u001b[43m)\u001b[49m\n\u001b[1;32m    516\u001b[0m     \u001b[38;5;28mself\u001b[39m\u001b[38;5;241m.\u001b[39mmodules\u001b[38;5;241m.\u001b[39mappend(module)\n",
      "File \u001b[0;32m~/anaconda3/envs/temp_csy/lib/python3.8/site-packages/threadpoolctl.py:606\u001b[0m, in \u001b[0;36m_Module.__init__\u001b[0;34m(self, filepath, prefix, user_api, internal_api)\u001b[0m\n\u001b[1;32m    604\u001b[0m \u001b[38;5;28mself\u001b[39m\u001b[38;5;241m.\u001b[39minternal_api \u001b[38;5;241m=\u001b[39m internal_api\n\u001b[1;32m    605\u001b[0m \u001b[38;5;28mself\u001b[39m\u001b[38;5;241m.\u001b[39m_dynlib \u001b[38;5;241m=\u001b[39m ctypes\u001b[38;5;241m.\u001b[39mCDLL(filepath, mode\u001b[38;5;241m=\u001b[39m_RTLD_NOLOAD)\n\u001b[0;32m--> 606\u001b[0m \u001b[38;5;28mself\u001b[39m\u001b[38;5;241m.\u001b[39mversion \u001b[38;5;241m=\u001b[39m \u001b[38;5;28;43mself\u001b[39;49m\u001b[38;5;241;43m.\u001b[39;49m\u001b[43mget_version\u001b[49m\u001b[43m(\u001b[49m\u001b[43m)\u001b[49m\n\u001b[1;32m    607\u001b[0m \u001b[38;5;28mself\u001b[39m\u001b[38;5;241m.\u001b[39mnum_threads \u001b[38;5;241m=\u001b[39m \u001b[38;5;28mself\u001b[39m\u001b[38;5;241m.\u001b[39mget_num_threads()\n\u001b[1;32m    608\u001b[0m \u001b[38;5;28mself\u001b[39m\u001b[38;5;241m.\u001b[39m_get_extra_info()\n",
      "File \u001b[0;32m~/anaconda3/envs/temp_csy/lib/python3.8/site-packages/threadpoolctl.py:646\u001b[0m, in \u001b[0;36m_OpenBLASModule.get_version\u001b[0;34m(self)\u001b[0m\n\u001b[1;32m    643\u001b[0m get_config \u001b[38;5;241m=\u001b[39m \u001b[38;5;28mgetattr\u001b[39m(\u001b[38;5;28mself\u001b[39m\u001b[38;5;241m.\u001b[39m_dynlib, \u001b[38;5;124m\"\u001b[39m\u001b[38;5;124mopenblas_get_config\u001b[39m\u001b[38;5;124m\"\u001b[39m,\n\u001b[1;32m    644\u001b[0m                      \u001b[38;5;28;01mlambda\u001b[39;00m: \u001b[38;5;28;01mNone\u001b[39;00m)\n\u001b[1;32m    645\u001b[0m get_config\u001b[38;5;241m.\u001b[39mrestype \u001b[38;5;241m=\u001b[39m ctypes\u001b[38;5;241m.\u001b[39mc_char_p\n\u001b[0;32m--> 646\u001b[0m config \u001b[38;5;241m=\u001b[39m \u001b[43mget_config\u001b[49m\u001b[43m(\u001b[49m\u001b[43m)\u001b[49m\u001b[38;5;241;43m.\u001b[39;49m\u001b[43msplit\u001b[49m()\n\u001b[1;32m    647\u001b[0m \u001b[38;5;28;01mif\u001b[39;00m config[\u001b[38;5;241m0\u001b[39m] \u001b[38;5;241m==\u001b[39m \u001b[38;5;124mb\u001b[39m\u001b[38;5;124m\"\u001b[39m\u001b[38;5;124mOpenBLAS\u001b[39m\u001b[38;5;124m\"\u001b[39m:\n\u001b[1;32m    648\u001b[0m     \u001b[38;5;28;01mreturn\u001b[39;00m config[\u001b[38;5;241m1\u001b[39m]\u001b[38;5;241m.\u001b[39mdecode(\u001b[38;5;124m\"\u001b[39m\u001b[38;5;124mutf-8\u001b[39m\u001b[38;5;124m\"\u001b[39m)\n",
      "\u001b[0;31mAttributeError\u001b[0m: 'NoneType' object has no attribute 'split'"
     ]
    },
    {
     "ename": "AttributeError",
     "evalue": "'NoneType' object has no attribute 'split'",
     "output_type": "error",
     "traceback": [
      "\u001b[0;31m---------------------------------------------------------------------------\u001b[0m",
      "\u001b[0;31mAttributeError\u001b[0m                            Traceback (most recent call last)",
      "File \u001b[0;32m_ctypes/callbacks.c:237\u001b[0m, in \u001b[0;36m'calling callback function'\u001b[0;34m()\u001b[0m\n",
      "File \u001b[0;32m~/anaconda3/envs/temp_csy/lib/python3.8/site-packages/threadpoolctl.py:400\u001b[0m, in \u001b[0;36m_ThreadpoolInfo._find_modules_with_dl_iterate_phdr.<locals>.match_module_callback\u001b[0;34m(info, size, data)\u001b[0m\n\u001b[1;32m    397\u001b[0m     filepath \u001b[38;5;241m=\u001b[39m filepath\u001b[38;5;241m.\u001b[39mdecode(\u001b[38;5;124m\"\u001b[39m\u001b[38;5;124mutf-8\u001b[39m\u001b[38;5;124m\"\u001b[39m)\n\u001b[1;32m    399\u001b[0m     \u001b[38;5;66;03m# Store the module if it is supported and selected\u001b[39;00m\n\u001b[0;32m--> 400\u001b[0m     \u001b[38;5;28;43mself\u001b[39;49m\u001b[38;5;241;43m.\u001b[39;49m\u001b[43m_make_module_from_path\u001b[49m\u001b[43m(\u001b[49m\u001b[43mfilepath\u001b[49m\u001b[43m)\u001b[49m\n\u001b[1;32m    401\u001b[0m \u001b[38;5;28;01mreturn\u001b[39;00m \u001b[38;5;241m0\u001b[39m\n",
      "File \u001b[0;32m~/anaconda3/envs/temp_csy/lib/python3.8/site-packages/threadpoolctl.py:515\u001b[0m, in \u001b[0;36m_ThreadpoolInfo._make_module_from_path\u001b[0;34m(self, filepath)\u001b[0m\n\u001b[1;32m    513\u001b[0m \u001b[38;5;28;01mif\u001b[39;00m prefix \u001b[38;5;129;01min\u001b[39;00m \u001b[38;5;28mself\u001b[39m\u001b[38;5;241m.\u001b[39mprefixes \u001b[38;5;129;01mor\u001b[39;00m user_api \u001b[38;5;129;01min\u001b[39;00m \u001b[38;5;28mself\u001b[39m\u001b[38;5;241m.\u001b[39muser_api:\n\u001b[1;32m    514\u001b[0m     module_class \u001b[38;5;241m=\u001b[39m \u001b[38;5;28mglobals\u001b[39m()[module_class]\n\u001b[0;32m--> 515\u001b[0m     module \u001b[38;5;241m=\u001b[39m \u001b[43mmodule_class\u001b[49m\u001b[43m(\u001b[49m\u001b[43mfilepath\u001b[49m\u001b[43m,\u001b[49m\u001b[43m \u001b[49m\u001b[43mprefix\u001b[49m\u001b[43m,\u001b[49m\u001b[43m \u001b[49m\u001b[43muser_api\u001b[49m\u001b[43m,\u001b[49m\u001b[43m \u001b[49m\u001b[43minternal_api\u001b[49m\u001b[43m)\u001b[49m\n\u001b[1;32m    516\u001b[0m     \u001b[38;5;28mself\u001b[39m\u001b[38;5;241m.\u001b[39mmodules\u001b[38;5;241m.\u001b[39mappend(module)\n",
      "File \u001b[0;32m~/anaconda3/envs/temp_csy/lib/python3.8/site-packages/threadpoolctl.py:606\u001b[0m, in \u001b[0;36m_Module.__init__\u001b[0;34m(self, filepath, prefix, user_api, internal_api)\u001b[0m\n\u001b[1;32m    604\u001b[0m \u001b[38;5;28mself\u001b[39m\u001b[38;5;241m.\u001b[39minternal_api \u001b[38;5;241m=\u001b[39m internal_api\n\u001b[1;32m    605\u001b[0m \u001b[38;5;28mself\u001b[39m\u001b[38;5;241m.\u001b[39m_dynlib \u001b[38;5;241m=\u001b[39m ctypes\u001b[38;5;241m.\u001b[39mCDLL(filepath, mode\u001b[38;5;241m=\u001b[39m_RTLD_NOLOAD)\n\u001b[0;32m--> 606\u001b[0m \u001b[38;5;28mself\u001b[39m\u001b[38;5;241m.\u001b[39mversion \u001b[38;5;241m=\u001b[39m \u001b[38;5;28;43mself\u001b[39;49m\u001b[38;5;241;43m.\u001b[39;49m\u001b[43mget_version\u001b[49m\u001b[43m(\u001b[49m\u001b[43m)\u001b[49m\n\u001b[1;32m    607\u001b[0m \u001b[38;5;28mself\u001b[39m\u001b[38;5;241m.\u001b[39mnum_threads \u001b[38;5;241m=\u001b[39m \u001b[38;5;28mself\u001b[39m\u001b[38;5;241m.\u001b[39mget_num_threads()\n\u001b[1;32m    608\u001b[0m \u001b[38;5;28mself\u001b[39m\u001b[38;5;241m.\u001b[39m_get_extra_info()\n",
      "File \u001b[0;32m~/anaconda3/envs/temp_csy/lib/python3.8/site-packages/threadpoolctl.py:646\u001b[0m, in \u001b[0;36m_OpenBLASModule.get_version\u001b[0;34m(self)\u001b[0m\n\u001b[1;32m    643\u001b[0m get_config \u001b[38;5;241m=\u001b[39m \u001b[38;5;28mgetattr\u001b[39m(\u001b[38;5;28mself\u001b[39m\u001b[38;5;241m.\u001b[39m_dynlib, \u001b[38;5;124m\"\u001b[39m\u001b[38;5;124mopenblas_get_config\u001b[39m\u001b[38;5;124m\"\u001b[39m,\n\u001b[1;32m    644\u001b[0m                      \u001b[38;5;28;01mlambda\u001b[39;00m: \u001b[38;5;28;01mNone\u001b[39;00m)\n\u001b[1;32m    645\u001b[0m get_config\u001b[38;5;241m.\u001b[39mrestype \u001b[38;5;241m=\u001b[39m ctypes\u001b[38;5;241m.\u001b[39mc_char_p\n\u001b[0;32m--> 646\u001b[0m config \u001b[38;5;241m=\u001b[39m \u001b[43mget_config\u001b[49m\u001b[43m(\u001b[49m\u001b[43m)\u001b[49m\u001b[38;5;241;43m.\u001b[39;49m\u001b[43msplit\u001b[49m()\n\u001b[1;32m    647\u001b[0m \u001b[38;5;28;01mif\u001b[39;00m config[\u001b[38;5;241m0\u001b[39m] \u001b[38;5;241m==\u001b[39m \u001b[38;5;124mb\u001b[39m\u001b[38;5;124m\"\u001b[39m\u001b[38;5;124mOpenBLAS\u001b[39m\u001b[38;5;124m\"\u001b[39m:\n\u001b[1;32m    648\u001b[0m     \u001b[38;5;28;01mreturn\u001b[39;00m config[\u001b[38;5;241m1\u001b[39m]\u001b[38;5;241m.\u001b[39mdecode(\u001b[38;5;124m\"\u001b[39m\u001b[38;5;124mutf-8\u001b[39m\u001b[38;5;124m\"\u001b[39m)\n",
      "\u001b[0;31mAttributeError\u001b[0m: 'NoneType' object has no attribute 'split'"
     ]
    },
    {
     "ename": "AttributeError",
     "evalue": "'NoneType' object has no attribute 'split'",
     "output_type": "error",
     "traceback": [
      "\u001b[0;31m---------------------------------------------------------------------------\u001b[0m",
      "\u001b[0;31mAttributeError\u001b[0m                            Traceback (most recent call last)",
      "File \u001b[0;32m_ctypes/callbacks.c:237\u001b[0m, in \u001b[0;36m'calling callback function'\u001b[0;34m()\u001b[0m\n",
      "File \u001b[0;32m~/anaconda3/envs/temp_csy/lib/python3.8/site-packages/threadpoolctl.py:400\u001b[0m, in \u001b[0;36m_ThreadpoolInfo._find_modules_with_dl_iterate_phdr.<locals>.match_module_callback\u001b[0;34m(info, size, data)\u001b[0m\n\u001b[1;32m    397\u001b[0m     filepath \u001b[38;5;241m=\u001b[39m filepath\u001b[38;5;241m.\u001b[39mdecode(\u001b[38;5;124m\"\u001b[39m\u001b[38;5;124mutf-8\u001b[39m\u001b[38;5;124m\"\u001b[39m)\n\u001b[1;32m    399\u001b[0m     \u001b[38;5;66;03m# Store the module if it is supported and selected\u001b[39;00m\n\u001b[0;32m--> 400\u001b[0m     \u001b[38;5;28;43mself\u001b[39;49m\u001b[38;5;241;43m.\u001b[39;49m\u001b[43m_make_module_from_path\u001b[49m\u001b[43m(\u001b[49m\u001b[43mfilepath\u001b[49m\u001b[43m)\u001b[49m\n\u001b[1;32m    401\u001b[0m \u001b[38;5;28;01mreturn\u001b[39;00m \u001b[38;5;241m0\u001b[39m\n",
      "File \u001b[0;32m~/anaconda3/envs/temp_csy/lib/python3.8/site-packages/threadpoolctl.py:515\u001b[0m, in \u001b[0;36m_ThreadpoolInfo._make_module_from_path\u001b[0;34m(self, filepath)\u001b[0m\n\u001b[1;32m    513\u001b[0m \u001b[38;5;28;01mif\u001b[39;00m prefix \u001b[38;5;129;01min\u001b[39;00m \u001b[38;5;28mself\u001b[39m\u001b[38;5;241m.\u001b[39mprefixes \u001b[38;5;129;01mor\u001b[39;00m user_api \u001b[38;5;129;01min\u001b[39;00m \u001b[38;5;28mself\u001b[39m\u001b[38;5;241m.\u001b[39muser_api:\n\u001b[1;32m    514\u001b[0m     module_class \u001b[38;5;241m=\u001b[39m \u001b[38;5;28mglobals\u001b[39m()[module_class]\n\u001b[0;32m--> 515\u001b[0m     module \u001b[38;5;241m=\u001b[39m \u001b[43mmodule_class\u001b[49m\u001b[43m(\u001b[49m\u001b[43mfilepath\u001b[49m\u001b[43m,\u001b[49m\u001b[43m \u001b[49m\u001b[43mprefix\u001b[49m\u001b[43m,\u001b[49m\u001b[43m \u001b[49m\u001b[43muser_api\u001b[49m\u001b[43m,\u001b[49m\u001b[43m \u001b[49m\u001b[43minternal_api\u001b[49m\u001b[43m)\u001b[49m\n\u001b[1;32m    516\u001b[0m     \u001b[38;5;28mself\u001b[39m\u001b[38;5;241m.\u001b[39mmodules\u001b[38;5;241m.\u001b[39mappend(module)\n",
      "File \u001b[0;32m~/anaconda3/envs/temp_csy/lib/python3.8/site-packages/threadpoolctl.py:606\u001b[0m, in \u001b[0;36m_Module.__init__\u001b[0;34m(self, filepath, prefix, user_api, internal_api)\u001b[0m\n\u001b[1;32m    604\u001b[0m \u001b[38;5;28mself\u001b[39m\u001b[38;5;241m.\u001b[39minternal_api \u001b[38;5;241m=\u001b[39m internal_api\n\u001b[1;32m    605\u001b[0m \u001b[38;5;28mself\u001b[39m\u001b[38;5;241m.\u001b[39m_dynlib \u001b[38;5;241m=\u001b[39m ctypes\u001b[38;5;241m.\u001b[39mCDLL(filepath, mode\u001b[38;5;241m=\u001b[39m_RTLD_NOLOAD)\n\u001b[0;32m--> 606\u001b[0m \u001b[38;5;28mself\u001b[39m\u001b[38;5;241m.\u001b[39mversion \u001b[38;5;241m=\u001b[39m \u001b[38;5;28;43mself\u001b[39;49m\u001b[38;5;241;43m.\u001b[39;49m\u001b[43mget_version\u001b[49m\u001b[43m(\u001b[49m\u001b[43m)\u001b[49m\n\u001b[1;32m    607\u001b[0m \u001b[38;5;28mself\u001b[39m\u001b[38;5;241m.\u001b[39mnum_threads \u001b[38;5;241m=\u001b[39m \u001b[38;5;28mself\u001b[39m\u001b[38;5;241m.\u001b[39mget_num_threads()\n\u001b[1;32m    608\u001b[0m \u001b[38;5;28mself\u001b[39m\u001b[38;5;241m.\u001b[39m_get_extra_info()\n",
      "File \u001b[0;32m~/anaconda3/envs/temp_csy/lib/python3.8/site-packages/threadpoolctl.py:646\u001b[0m, in \u001b[0;36m_OpenBLASModule.get_version\u001b[0;34m(self)\u001b[0m\n\u001b[1;32m    643\u001b[0m get_config \u001b[38;5;241m=\u001b[39m \u001b[38;5;28mgetattr\u001b[39m(\u001b[38;5;28mself\u001b[39m\u001b[38;5;241m.\u001b[39m_dynlib, \u001b[38;5;124m\"\u001b[39m\u001b[38;5;124mopenblas_get_config\u001b[39m\u001b[38;5;124m\"\u001b[39m,\n\u001b[1;32m    644\u001b[0m                      \u001b[38;5;28;01mlambda\u001b[39;00m: \u001b[38;5;28;01mNone\u001b[39;00m)\n\u001b[1;32m    645\u001b[0m get_config\u001b[38;5;241m.\u001b[39mrestype \u001b[38;5;241m=\u001b[39m ctypes\u001b[38;5;241m.\u001b[39mc_char_p\n\u001b[0;32m--> 646\u001b[0m config \u001b[38;5;241m=\u001b[39m \u001b[43mget_config\u001b[49m\u001b[43m(\u001b[49m\u001b[43m)\u001b[49m\u001b[38;5;241;43m.\u001b[39;49m\u001b[43msplit\u001b[49m()\n\u001b[1;32m    647\u001b[0m \u001b[38;5;28;01mif\u001b[39;00m config[\u001b[38;5;241m0\u001b[39m] \u001b[38;5;241m==\u001b[39m \u001b[38;5;124mb\u001b[39m\u001b[38;5;124m\"\u001b[39m\u001b[38;5;124mOpenBLAS\u001b[39m\u001b[38;5;124m\"\u001b[39m:\n\u001b[1;32m    648\u001b[0m     \u001b[38;5;28;01mreturn\u001b[39;00m config[\u001b[38;5;241m1\u001b[39m]\u001b[38;5;241m.\u001b[39mdecode(\u001b[38;5;124m\"\u001b[39m\u001b[38;5;124mutf-8\u001b[39m\u001b[38;5;124m\"\u001b[39m)\n",
      "\u001b[0;31mAttributeError\u001b[0m: 'NoneType' object has no attribute 'split'"
     ]
    },
    {
     "ename": "AttributeError",
     "evalue": "'NoneType' object has no attribute 'split'",
     "output_type": "error",
     "traceback": [
      "\u001b[0;31m---------------------------------------------------------------------------\u001b[0m",
      "\u001b[0;31mAttributeError\u001b[0m                            Traceback (most recent call last)",
      "File \u001b[0;32m_ctypes/callbacks.c:237\u001b[0m, in \u001b[0;36m'calling callback function'\u001b[0;34m()\u001b[0m\n",
      "File \u001b[0;32m~/anaconda3/envs/temp_csy/lib/python3.8/site-packages/threadpoolctl.py:400\u001b[0m, in \u001b[0;36m_ThreadpoolInfo._find_modules_with_dl_iterate_phdr.<locals>.match_module_callback\u001b[0;34m(info, size, data)\u001b[0m\n\u001b[1;32m    397\u001b[0m     filepath \u001b[38;5;241m=\u001b[39m filepath\u001b[38;5;241m.\u001b[39mdecode(\u001b[38;5;124m\"\u001b[39m\u001b[38;5;124mutf-8\u001b[39m\u001b[38;5;124m\"\u001b[39m)\n\u001b[1;32m    399\u001b[0m     \u001b[38;5;66;03m# Store the module if it is supported and selected\u001b[39;00m\n\u001b[0;32m--> 400\u001b[0m     \u001b[38;5;28;43mself\u001b[39;49m\u001b[38;5;241;43m.\u001b[39;49m\u001b[43m_make_module_from_path\u001b[49m\u001b[43m(\u001b[49m\u001b[43mfilepath\u001b[49m\u001b[43m)\u001b[49m\n\u001b[1;32m    401\u001b[0m \u001b[38;5;28;01mreturn\u001b[39;00m \u001b[38;5;241m0\u001b[39m\n",
      "File \u001b[0;32m~/anaconda3/envs/temp_csy/lib/python3.8/site-packages/threadpoolctl.py:515\u001b[0m, in \u001b[0;36m_ThreadpoolInfo._make_module_from_path\u001b[0;34m(self, filepath)\u001b[0m\n\u001b[1;32m    513\u001b[0m \u001b[38;5;28;01mif\u001b[39;00m prefix \u001b[38;5;129;01min\u001b[39;00m \u001b[38;5;28mself\u001b[39m\u001b[38;5;241m.\u001b[39mprefixes \u001b[38;5;129;01mor\u001b[39;00m user_api \u001b[38;5;129;01min\u001b[39;00m \u001b[38;5;28mself\u001b[39m\u001b[38;5;241m.\u001b[39muser_api:\n\u001b[1;32m    514\u001b[0m     module_class \u001b[38;5;241m=\u001b[39m \u001b[38;5;28mglobals\u001b[39m()[module_class]\n\u001b[0;32m--> 515\u001b[0m     module \u001b[38;5;241m=\u001b[39m \u001b[43mmodule_class\u001b[49m\u001b[43m(\u001b[49m\u001b[43mfilepath\u001b[49m\u001b[43m,\u001b[49m\u001b[43m \u001b[49m\u001b[43mprefix\u001b[49m\u001b[43m,\u001b[49m\u001b[43m \u001b[49m\u001b[43muser_api\u001b[49m\u001b[43m,\u001b[49m\u001b[43m \u001b[49m\u001b[43minternal_api\u001b[49m\u001b[43m)\u001b[49m\n\u001b[1;32m    516\u001b[0m     \u001b[38;5;28mself\u001b[39m\u001b[38;5;241m.\u001b[39mmodules\u001b[38;5;241m.\u001b[39mappend(module)\n",
      "File \u001b[0;32m~/anaconda3/envs/temp_csy/lib/python3.8/site-packages/threadpoolctl.py:606\u001b[0m, in \u001b[0;36m_Module.__init__\u001b[0;34m(self, filepath, prefix, user_api, internal_api)\u001b[0m\n\u001b[1;32m    604\u001b[0m \u001b[38;5;28mself\u001b[39m\u001b[38;5;241m.\u001b[39minternal_api \u001b[38;5;241m=\u001b[39m internal_api\n\u001b[1;32m    605\u001b[0m \u001b[38;5;28mself\u001b[39m\u001b[38;5;241m.\u001b[39m_dynlib \u001b[38;5;241m=\u001b[39m ctypes\u001b[38;5;241m.\u001b[39mCDLL(filepath, mode\u001b[38;5;241m=\u001b[39m_RTLD_NOLOAD)\n\u001b[0;32m--> 606\u001b[0m \u001b[38;5;28mself\u001b[39m\u001b[38;5;241m.\u001b[39mversion \u001b[38;5;241m=\u001b[39m \u001b[38;5;28;43mself\u001b[39;49m\u001b[38;5;241;43m.\u001b[39;49m\u001b[43mget_version\u001b[49m\u001b[43m(\u001b[49m\u001b[43m)\u001b[49m\n\u001b[1;32m    607\u001b[0m \u001b[38;5;28mself\u001b[39m\u001b[38;5;241m.\u001b[39mnum_threads \u001b[38;5;241m=\u001b[39m \u001b[38;5;28mself\u001b[39m\u001b[38;5;241m.\u001b[39mget_num_threads()\n\u001b[1;32m    608\u001b[0m \u001b[38;5;28mself\u001b[39m\u001b[38;5;241m.\u001b[39m_get_extra_info()\n",
      "File \u001b[0;32m~/anaconda3/envs/temp_csy/lib/python3.8/site-packages/threadpoolctl.py:646\u001b[0m, in \u001b[0;36m_OpenBLASModule.get_version\u001b[0;34m(self)\u001b[0m\n\u001b[1;32m    643\u001b[0m get_config \u001b[38;5;241m=\u001b[39m \u001b[38;5;28mgetattr\u001b[39m(\u001b[38;5;28mself\u001b[39m\u001b[38;5;241m.\u001b[39m_dynlib, \u001b[38;5;124m\"\u001b[39m\u001b[38;5;124mopenblas_get_config\u001b[39m\u001b[38;5;124m\"\u001b[39m,\n\u001b[1;32m    644\u001b[0m                      \u001b[38;5;28;01mlambda\u001b[39;00m: \u001b[38;5;28;01mNone\u001b[39;00m)\n\u001b[1;32m    645\u001b[0m get_config\u001b[38;5;241m.\u001b[39mrestype \u001b[38;5;241m=\u001b[39m ctypes\u001b[38;5;241m.\u001b[39mc_char_p\n\u001b[0;32m--> 646\u001b[0m config \u001b[38;5;241m=\u001b[39m \u001b[43mget_config\u001b[49m\u001b[43m(\u001b[49m\u001b[43m)\u001b[49m\u001b[38;5;241;43m.\u001b[39;49m\u001b[43msplit\u001b[49m()\n\u001b[1;32m    647\u001b[0m \u001b[38;5;28;01mif\u001b[39;00m config[\u001b[38;5;241m0\u001b[39m] \u001b[38;5;241m==\u001b[39m \u001b[38;5;124mb\u001b[39m\u001b[38;5;124m\"\u001b[39m\u001b[38;5;124mOpenBLAS\u001b[39m\u001b[38;5;124m\"\u001b[39m:\n\u001b[1;32m    648\u001b[0m     \u001b[38;5;28;01mreturn\u001b[39;00m config[\u001b[38;5;241m1\u001b[39m]\u001b[38;5;241m.\u001b[39mdecode(\u001b[38;5;124m\"\u001b[39m\u001b[38;5;124mutf-8\u001b[39m\u001b[38;5;124m\"\u001b[39m)\n",
      "\u001b[0;31mAttributeError\u001b[0m: 'NoneType' object has no attribute 'split'"
     ]
    },
    {
     "ename": "AttributeError",
     "evalue": "'NoneType' object has no attribute 'split'",
     "output_type": "error",
     "traceback": [
      "\u001b[0;31m---------------------------------------------------------------------------\u001b[0m",
      "\u001b[0;31mAttributeError\u001b[0m                            Traceback (most recent call last)",
      "File \u001b[0;32m_ctypes/callbacks.c:237\u001b[0m, in \u001b[0;36m'calling callback function'\u001b[0;34m()\u001b[0m\n",
      "File \u001b[0;32m~/anaconda3/envs/temp_csy/lib/python3.8/site-packages/threadpoolctl.py:400\u001b[0m, in \u001b[0;36m_ThreadpoolInfo._find_modules_with_dl_iterate_phdr.<locals>.match_module_callback\u001b[0;34m(info, size, data)\u001b[0m\n\u001b[1;32m    397\u001b[0m     filepath \u001b[38;5;241m=\u001b[39m filepath\u001b[38;5;241m.\u001b[39mdecode(\u001b[38;5;124m\"\u001b[39m\u001b[38;5;124mutf-8\u001b[39m\u001b[38;5;124m\"\u001b[39m)\n\u001b[1;32m    399\u001b[0m     \u001b[38;5;66;03m# Store the module if it is supported and selected\u001b[39;00m\n\u001b[0;32m--> 400\u001b[0m     \u001b[38;5;28;43mself\u001b[39;49m\u001b[38;5;241;43m.\u001b[39;49m\u001b[43m_make_module_from_path\u001b[49m\u001b[43m(\u001b[49m\u001b[43mfilepath\u001b[49m\u001b[43m)\u001b[49m\n\u001b[1;32m    401\u001b[0m \u001b[38;5;28;01mreturn\u001b[39;00m \u001b[38;5;241m0\u001b[39m\n",
      "File \u001b[0;32m~/anaconda3/envs/temp_csy/lib/python3.8/site-packages/threadpoolctl.py:515\u001b[0m, in \u001b[0;36m_ThreadpoolInfo._make_module_from_path\u001b[0;34m(self, filepath)\u001b[0m\n\u001b[1;32m    513\u001b[0m \u001b[38;5;28;01mif\u001b[39;00m prefix \u001b[38;5;129;01min\u001b[39;00m \u001b[38;5;28mself\u001b[39m\u001b[38;5;241m.\u001b[39mprefixes \u001b[38;5;129;01mor\u001b[39;00m user_api \u001b[38;5;129;01min\u001b[39;00m \u001b[38;5;28mself\u001b[39m\u001b[38;5;241m.\u001b[39muser_api:\n\u001b[1;32m    514\u001b[0m     module_class \u001b[38;5;241m=\u001b[39m \u001b[38;5;28mglobals\u001b[39m()[module_class]\n\u001b[0;32m--> 515\u001b[0m     module \u001b[38;5;241m=\u001b[39m \u001b[43mmodule_class\u001b[49m\u001b[43m(\u001b[49m\u001b[43mfilepath\u001b[49m\u001b[43m,\u001b[49m\u001b[43m \u001b[49m\u001b[43mprefix\u001b[49m\u001b[43m,\u001b[49m\u001b[43m \u001b[49m\u001b[43muser_api\u001b[49m\u001b[43m,\u001b[49m\u001b[43m \u001b[49m\u001b[43minternal_api\u001b[49m\u001b[43m)\u001b[49m\n\u001b[1;32m    516\u001b[0m     \u001b[38;5;28mself\u001b[39m\u001b[38;5;241m.\u001b[39mmodules\u001b[38;5;241m.\u001b[39mappend(module)\n",
      "File \u001b[0;32m~/anaconda3/envs/temp_csy/lib/python3.8/site-packages/threadpoolctl.py:606\u001b[0m, in \u001b[0;36m_Module.__init__\u001b[0;34m(self, filepath, prefix, user_api, internal_api)\u001b[0m\n\u001b[1;32m    604\u001b[0m \u001b[38;5;28mself\u001b[39m\u001b[38;5;241m.\u001b[39minternal_api \u001b[38;5;241m=\u001b[39m internal_api\n\u001b[1;32m    605\u001b[0m \u001b[38;5;28mself\u001b[39m\u001b[38;5;241m.\u001b[39m_dynlib \u001b[38;5;241m=\u001b[39m ctypes\u001b[38;5;241m.\u001b[39mCDLL(filepath, mode\u001b[38;5;241m=\u001b[39m_RTLD_NOLOAD)\n\u001b[0;32m--> 606\u001b[0m \u001b[38;5;28mself\u001b[39m\u001b[38;5;241m.\u001b[39mversion \u001b[38;5;241m=\u001b[39m \u001b[38;5;28;43mself\u001b[39;49m\u001b[38;5;241;43m.\u001b[39;49m\u001b[43mget_version\u001b[49m\u001b[43m(\u001b[49m\u001b[43m)\u001b[49m\n\u001b[1;32m    607\u001b[0m \u001b[38;5;28mself\u001b[39m\u001b[38;5;241m.\u001b[39mnum_threads \u001b[38;5;241m=\u001b[39m \u001b[38;5;28mself\u001b[39m\u001b[38;5;241m.\u001b[39mget_num_threads()\n\u001b[1;32m    608\u001b[0m \u001b[38;5;28mself\u001b[39m\u001b[38;5;241m.\u001b[39m_get_extra_info()\n",
      "File \u001b[0;32m~/anaconda3/envs/temp_csy/lib/python3.8/site-packages/threadpoolctl.py:646\u001b[0m, in \u001b[0;36m_OpenBLASModule.get_version\u001b[0;34m(self)\u001b[0m\n\u001b[1;32m    643\u001b[0m get_config \u001b[38;5;241m=\u001b[39m \u001b[38;5;28mgetattr\u001b[39m(\u001b[38;5;28mself\u001b[39m\u001b[38;5;241m.\u001b[39m_dynlib, \u001b[38;5;124m\"\u001b[39m\u001b[38;5;124mopenblas_get_config\u001b[39m\u001b[38;5;124m\"\u001b[39m,\n\u001b[1;32m    644\u001b[0m                      \u001b[38;5;28;01mlambda\u001b[39;00m: \u001b[38;5;28;01mNone\u001b[39;00m)\n\u001b[1;32m    645\u001b[0m get_config\u001b[38;5;241m.\u001b[39mrestype \u001b[38;5;241m=\u001b[39m ctypes\u001b[38;5;241m.\u001b[39mc_char_p\n\u001b[0;32m--> 646\u001b[0m config \u001b[38;5;241m=\u001b[39m \u001b[43mget_config\u001b[49m\u001b[43m(\u001b[49m\u001b[43m)\u001b[49m\u001b[38;5;241;43m.\u001b[39;49m\u001b[43msplit\u001b[49m()\n\u001b[1;32m    647\u001b[0m \u001b[38;5;28;01mif\u001b[39;00m config[\u001b[38;5;241m0\u001b[39m] \u001b[38;5;241m==\u001b[39m \u001b[38;5;124mb\u001b[39m\u001b[38;5;124m\"\u001b[39m\u001b[38;5;124mOpenBLAS\u001b[39m\u001b[38;5;124m\"\u001b[39m:\n\u001b[1;32m    648\u001b[0m     \u001b[38;5;28;01mreturn\u001b[39;00m config[\u001b[38;5;241m1\u001b[39m]\u001b[38;5;241m.\u001b[39mdecode(\u001b[38;5;124m\"\u001b[39m\u001b[38;5;124mutf-8\u001b[39m\u001b[38;5;124m\"\u001b[39m)\n",
      "\u001b[0;31mAttributeError\u001b[0m: 'NoneType' object has no attribute 'split'"
     ]
    },
    {
     "ename": "AttributeError",
     "evalue": "'NoneType' object has no attribute 'split'",
     "output_type": "error",
     "traceback": [
      "\u001b[0;31m---------------------------------------------------------------------------\u001b[0m",
      "\u001b[0;31mAttributeError\u001b[0m                            Traceback (most recent call last)",
      "File \u001b[0;32m_ctypes/callbacks.c:237\u001b[0m, in \u001b[0;36m'calling callback function'\u001b[0;34m()\u001b[0m\n",
      "File \u001b[0;32m~/anaconda3/envs/temp_csy/lib/python3.8/site-packages/threadpoolctl.py:400\u001b[0m, in \u001b[0;36m_ThreadpoolInfo._find_modules_with_dl_iterate_phdr.<locals>.match_module_callback\u001b[0;34m(info, size, data)\u001b[0m\n\u001b[1;32m    397\u001b[0m     filepath \u001b[38;5;241m=\u001b[39m filepath\u001b[38;5;241m.\u001b[39mdecode(\u001b[38;5;124m\"\u001b[39m\u001b[38;5;124mutf-8\u001b[39m\u001b[38;5;124m\"\u001b[39m)\n\u001b[1;32m    399\u001b[0m     \u001b[38;5;66;03m# Store the module if it is supported and selected\u001b[39;00m\n\u001b[0;32m--> 400\u001b[0m     \u001b[38;5;28;43mself\u001b[39;49m\u001b[38;5;241;43m.\u001b[39;49m\u001b[43m_make_module_from_path\u001b[49m\u001b[43m(\u001b[49m\u001b[43mfilepath\u001b[49m\u001b[43m)\u001b[49m\n\u001b[1;32m    401\u001b[0m \u001b[38;5;28;01mreturn\u001b[39;00m \u001b[38;5;241m0\u001b[39m\n",
      "File \u001b[0;32m~/anaconda3/envs/temp_csy/lib/python3.8/site-packages/threadpoolctl.py:515\u001b[0m, in \u001b[0;36m_ThreadpoolInfo._make_module_from_path\u001b[0;34m(self, filepath)\u001b[0m\n\u001b[1;32m    513\u001b[0m \u001b[38;5;28;01mif\u001b[39;00m prefix \u001b[38;5;129;01min\u001b[39;00m \u001b[38;5;28mself\u001b[39m\u001b[38;5;241m.\u001b[39mprefixes \u001b[38;5;129;01mor\u001b[39;00m user_api \u001b[38;5;129;01min\u001b[39;00m \u001b[38;5;28mself\u001b[39m\u001b[38;5;241m.\u001b[39muser_api:\n\u001b[1;32m    514\u001b[0m     module_class \u001b[38;5;241m=\u001b[39m \u001b[38;5;28mglobals\u001b[39m()[module_class]\n\u001b[0;32m--> 515\u001b[0m     module \u001b[38;5;241m=\u001b[39m \u001b[43mmodule_class\u001b[49m\u001b[43m(\u001b[49m\u001b[43mfilepath\u001b[49m\u001b[43m,\u001b[49m\u001b[43m \u001b[49m\u001b[43mprefix\u001b[49m\u001b[43m,\u001b[49m\u001b[43m \u001b[49m\u001b[43muser_api\u001b[49m\u001b[43m,\u001b[49m\u001b[43m \u001b[49m\u001b[43minternal_api\u001b[49m\u001b[43m)\u001b[49m\n\u001b[1;32m    516\u001b[0m     \u001b[38;5;28mself\u001b[39m\u001b[38;5;241m.\u001b[39mmodules\u001b[38;5;241m.\u001b[39mappend(module)\n",
      "File \u001b[0;32m~/anaconda3/envs/temp_csy/lib/python3.8/site-packages/threadpoolctl.py:606\u001b[0m, in \u001b[0;36m_Module.__init__\u001b[0;34m(self, filepath, prefix, user_api, internal_api)\u001b[0m\n\u001b[1;32m    604\u001b[0m \u001b[38;5;28mself\u001b[39m\u001b[38;5;241m.\u001b[39minternal_api \u001b[38;5;241m=\u001b[39m internal_api\n\u001b[1;32m    605\u001b[0m \u001b[38;5;28mself\u001b[39m\u001b[38;5;241m.\u001b[39m_dynlib \u001b[38;5;241m=\u001b[39m ctypes\u001b[38;5;241m.\u001b[39mCDLL(filepath, mode\u001b[38;5;241m=\u001b[39m_RTLD_NOLOAD)\n\u001b[0;32m--> 606\u001b[0m \u001b[38;5;28mself\u001b[39m\u001b[38;5;241m.\u001b[39mversion \u001b[38;5;241m=\u001b[39m \u001b[38;5;28;43mself\u001b[39;49m\u001b[38;5;241;43m.\u001b[39;49m\u001b[43mget_version\u001b[49m\u001b[43m(\u001b[49m\u001b[43m)\u001b[49m\n\u001b[1;32m    607\u001b[0m \u001b[38;5;28mself\u001b[39m\u001b[38;5;241m.\u001b[39mnum_threads \u001b[38;5;241m=\u001b[39m \u001b[38;5;28mself\u001b[39m\u001b[38;5;241m.\u001b[39mget_num_threads()\n\u001b[1;32m    608\u001b[0m \u001b[38;5;28mself\u001b[39m\u001b[38;5;241m.\u001b[39m_get_extra_info()\n",
      "File \u001b[0;32m~/anaconda3/envs/temp_csy/lib/python3.8/site-packages/threadpoolctl.py:646\u001b[0m, in \u001b[0;36m_OpenBLASModule.get_version\u001b[0;34m(self)\u001b[0m\n\u001b[1;32m    643\u001b[0m get_config \u001b[38;5;241m=\u001b[39m \u001b[38;5;28mgetattr\u001b[39m(\u001b[38;5;28mself\u001b[39m\u001b[38;5;241m.\u001b[39m_dynlib, \u001b[38;5;124m\"\u001b[39m\u001b[38;5;124mopenblas_get_config\u001b[39m\u001b[38;5;124m\"\u001b[39m,\n\u001b[1;32m    644\u001b[0m                      \u001b[38;5;28;01mlambda\u001b[39;00m: \u001b[38;5;28;01mNone\u001b[39;00m)\n\u001b[1;32m    645\u001b[0m get_config\u001b[38;5;241m.\u001b[39mrestype \u001b[38;5;241m=\u001b[39m ctypes\u001b[38;5;241m.\u001b[39mc_char_p\n\u001b[0;32m--> 646\u001b[0m config \u001b[38;5;241m=\u001b[39m \u001b[43mget_config\u001b[49m\u001b[43m(\u001b[49m\u001b[43m)\u001b[49m\u001b[38;5;241;43m.\u001b[39;49m\u001b[43msplit\u001b[49m()\n\u001b[1;32m    647\u001b[0m \u001b[38;5;28;01mif\u001b[39;00m config[\u001b[38;5;241m0\u001b[39m] \u001b[38;5;241m==\u001b[39m \u001b[38;5;124mb\u001b[39m\u001b[38;5;124m\"\u001b[39m\u001b[38;5;124mOpenBLAS\u001b[39m\u001b[38;5;124m\"\u001b[39m:\n\u001b[1;32m    648\u001b[0m     \u001b[38;5;28;01mreturn\u001b[39;00m config[\u001b[38;5;241m1\u001b[39m]\u001b[38;5;241m.\u001b[39mdecode(\u001b[38;5;124m\"\u001b[39m\u001b[38;5;124mutf-8\u001b[39m\u001b[38;5;124m\"\u001b[39m)\n",
      "\u001b[0;31mAttributeError\u001b[0m: 'NoneType' object has no attribute 'split'"
     ]
    },
    {
     "ename": "AttributeError",
     "evalue": "'NoneType' object has no attribute 'split'",
     "output_type": "error",
     "traceback": [
      "\u001b[0;31m---------------------------------------------------------------------------\u001b[0m",
      "\u001b[0;31mAttributeError\u001b[0m                            Traceback (most recent call last)",
      "File \u001b[0;32m_ctypes/callbacks.c:237\u001b[0m, in \u001b[0;36m'calling callback function'\u001b[0;34m()\u001b[0m\n",
      "File \u001b[0;32m~/anaconda3/envs/temp_csy/lib/python3.8/site-packages/threadpoolctl.py:400\u001b[0m, in \u001b[0;36m_ThreadpoolInfo._find_modules_with_dl_iterate_phdr.<locals>.match_module_callback\u001b[0;34m(info, size, data)\u001b[0m\n\u001b[1;32m    397\u001b[0m     filepath \u001b[38;5;241m=\u001b[39m filepath\u001b[38;5;241m.\u001b[39mdecode(\u001b[38;5;124m\"\u001b[39m\u001b[38;5;124mutf-8\u001b[39m\u001b[38;5;124m\"\u001b[39m)\n\u001b[1;32m    399\u001b[0m     \u001b[38;5;66;03m# Store the module if it is supported and selected\u001b[39;00m\n\u001b[0;32m--> 400\u001b[0m     \u001b[38;5;28;43mself\u001b[39;49m\u001b[38;5;241;43m.\u001b[39;49m\u001b[43m_make_module_from_path\u001b[49m\u001b[43m(\u001b[49m\u001b[43mfilepath\u001b[49m\u001b[43m)\u001b[49m\n\u001b[1;32m    401\u001b[0m \u001b[38;5;28;01mreturn\u001b[39;00m \u001b[38;5;241m0\u001b[39m\n",
      "File \u001b[0;32m~/anaconda3/envs/temp_csy/lib/python3.8/site-packages/threadpoolctl.py:515\u001b[0m, in \u001b[0;36m_ThreadpoolInfo._make_module_from_path\u001b[0;34m(self, filepath)\u001b[0m\n\u001b[1;32m    513\u001b[0m \u001b[38;5;28;01mif\u001b[39;00m prefix \u001b[38;5;129;01min\u001b[39;00m \u001b[38;5;28mself\u001b[39m\u001b[38;5;241m.\u001b[39mprefixes \u001b[38;5;129;01mor\u001b[39;00m user_api \u001b[38;5;129;01min\u001b[39;00m \u001b[38;5;28mself\u001b[39m\u001b[38;5;241m.\u001b[39muser_api:\n\u001b[1;32m    514\u001b[0m     module_class \u001b[38;5;241m=\u001b[39m \u001b[38;5;28mglobals\u001b[39m()[module_class]\n\u001b[0;32m--> 515\u001b[0m     module \u001b[38;5;241m=\u001b[39m \u001b[43mmodule_class\u001b[49m\u001b[43m(\u001b[49m\u001b[43mfilepath\u001b[49m\u001b[43m,\u001b[49m\u001b[43m \u001b[49m\u001b[43mprefix\u001b[49m\u001b[43m,\u001b[49m\u001b[43m \u001b[49m\u001b[43muser_api\u001b[49m\u001b[43m,\u001b[49m\u001b[43m \u001b[49m\u001b[43minternal_api\u001b[49m\u001b[43m)\u001b[49m\n\u001b[1;32m    516\u001b[0m     \u001b[38;5;28mself\u001b[39m\u001b[38;5;241m.\u001b[39mmodules\u001b[38;5;241m.\u001b[39mappend(module)\n",
      "File \u001b[0;32m~/anaconda3/envs/temp_csy/lib/python3.8/site-packages/threadpoolctl.py:606\u001b[0m, in \u001b[0;36m_Module.__init__\u001b[0;34m(self, filepath, prefix, user_api, internal_api)\u001b[0m\n\u001b[1;32m    604\u001b[0m \u001b[38;5;28mself\u001b[39m\u001b[38;5;241m.\u001b[39minternal_api \u001b[38;5;241m=\u001b[39m internal_api\n\u001b[1;32m    605\u001b[0m \u001b[38;5;28mself\u001b[39m\u001b[38;5;241m.\u001b[39m_dynlib \u001b[38;5;241m=\u001b[39m ctypes\u001b[38;5;241m.\u001b[39mCDLL(filepath, mode\u001b[38;5;241m=\u001b[39m_RTLD_NOLOAD)\n\u001b[0;32m--> 606\u001b[0m \u001b[38;5;28mself\u001b[39m\u001b[38;5;241m.\u001b[39mversion \u001b[38;5;241m=\u001b[39m \u001b[38;5;28;43mself\u001b[39;49m\u001b[38;5;241;43m.\u001b[39;49m\u001b[43mget_version\u001b[49m\u001b[43m(\u001b[49m\u001b[43m)\u001b[49m\n\u001b[1;32m    607\u001b[0m \u001b[38;5;28mself\u001b[39m\u001b[38;5;241m.\u001b[39mnum_threads \u001b[38;5;241m=\u001b[39m \u001b[38;5;28mself\u001b[39m\u001b[38;5;241m.\u001b[39mget_num_threads()\n\u001b[1;32m    608\u001b[0m \u001b[38;5;28mself\u001b[39m\u001b[38;5;241m.\u001b[39m_get_extra_info()\n",
      "File \u001b[0;32m~/anaconda3/envs/temp_csy/lib/python3.8/site-packages/threadpoolctl.py:646\u001b[0m, in \u001b[0;36m_OpenBLASModule.get_version\u001b[0;34m(self)\u001b[0m\n\u001b[1;32m    643\u001b[0m get_config \u001b[38;5;241m=\u001b[39m \u001b[38;5;28mgetattr\u001b[39m(\u001b[38;5;28mself\u001b[39m\u001b[38;5;241m.\u001b[39m_dynlib, \u001b[38;5;124m\"\u001b[39m\u001b[38;5;124mopenblas_get_config\u001b[39m\u001b[38;5;124m\"\u001b[39m,\n\u001b[1;32m    644\u001b[0m                      \u001b[38;5;28;01mlambda\u001b[39;00m: \u001b[38;5;28;01mNone\u001b[39;00m)\n\u001b[1;32m    645\u001b[0m get_config\u001b[38;5;241m.\u001b[39mrestype \u001b[38;5;241m=\u001b[39m ctypes\u001b[38;5;241m.\u001b[39mc_char_p\n\u001b[0;32m--> 646\u001b[0m config \u001b[38;5;241m=\u001b[39m \u001b[43mget_config\u001b[49m\u001b[43m(\u001b[49m\u001b[43m)\u001b[49m\u001b[38;5;241;43m.\u001b[39;49m\u001b[43msplit\u001b[49m()\n\u001b[1;32m    647\u001b[0m \u001b[38;5;28;01mif\u001b[39;00m config[\u001b[38;5;241m0\u001b[39m] \u001b[38;5;241m==\u001b[39m \u001b[38;5;124mb\u001b[39m\u001b[38;5;124m\"\u001b[39m\u001b[38;5;124mOpenBLAS\u001b[39m\u001b[38;5;124m\"\u001b[39m:\n\u001b[1;32m    648\u001b[0m     \u001b[38;5;28;01mreturn\u001b[39;00m config[\u001b[38;5;241m1\u001b[39m]\u001b[38;5;241m.\u001b[39mdecode(\u001b[38;5;124m\"\u001b[39m\u001b[38;5;124mutf-8\u001b[39m\u001b[38;5;124m\"\u001b[39m)\n",
      "\u001b[0;31mAttributeError\u001b[0m: 'NoneType' object has no attribute 'split'"
     ]
    },
    {
     "ename": "AttributeError",
     "evalue": "'NoneType' object has no attribute 'split'",
     "output_type": "error",
     "traceback": [
      "\u001b[0;31m---------------------------------------------------------------------------\u001b[0m",
      "\u001b[0;31mAttributeError\u001b[0m                            Traceback (most recent call last)",
      "File \u001b[0;32m_ctypes/callbacks.c:237\u001b[0m, in \u001b[0;36m'calling callback function'\u001b[0;34m()\u001b[0m\n",
      "File \u001b[0;32m~/anaconda3/envs/temp_csy/lib/python3.8/site-packages/threadpoolctl.py:400\u001b[0m, in \u001b[0;36m_ThreadpoolInfo._find_modules_with_dl_iterate_phdr.<locals>.match_module_callback\u001b[0;34m(info, size, data)\u001b[0m\n\u001b[1;32m    397\u001b[0m     filepath \u001b[38;5;241m=\u001b[39m filepath\u001b[38;5;241m.\u001b[39mdecode(\u001b[38;5;124m\"\u001b[39m\u001b[38;5;124mutf-8\u001b[39m\u001b[38;5;124m\"\u001b[39m)\n\u001b[1;32m    399\u001b[0m     \u001b[38;5;66;03m# Store the module if it is supported and selected\u001b[39;00m\n\u001b[0;32m--> 400\u001b[0m     \u001b[38;5;28;43mself\u001b[39;49m\u001b[38;5;241;43m.\u001b[39;49m\u001b[43m_make_module_from_path\u001b[49m\u001b[43m(\u001b[49m\u001b[43mfilepath\u001b[49m\u001b[43m)\u001b[49m\n\u001b[1;32m    401\u001b[0m \u001b[38;5;28;01mreturn\u001b[39;00m \u001b[38;5;241m0\u001b[39m\n",
      "File \u001b[0;32m~/anaconda3/envs/temp_csy/lib/python3.8/site-packages/threadpoolctl.py:515\u001b[0m, in \u001b[0;36m_ThreadpoolInfo._make_module_from_path\u001b[0;34m(self, filepath)\u001b[0m\n\u001b[1;32m    513\u001b[0m \u001b[38;5;28;01mif\u001b[39;00m prefix \u001b[38;5;129;01min\u001b[39;00m \u001b[38;5;28mself\u001b[39m\u001b[38;5;241m.\u001b[39mprefixes \u001b[38;5;129;01mor\u001b[39;00m user_api \u001b[38;5;129;01min\u001b[39;00m \u001b[38;5;28mself\u001b[39m\u001b[38;5;241m.\u001b[39muser_api:\n\u001b[1;32m    514\u001b[0m     module_class \u001b[38;5;241m=\u001b[39m \u001b[38;5;28mglobals\u001b[39m()[module_class]\n\u001b[0;32m--> 515\u001b[0m     module \u001b[38;5;241m=\u001b[39m \u001b[43mmodule_class\u001b[49m\u001b[43m(\u001b[49m\u001b[43mfilepath\u001b[49m\u001b[43m,\u001b[49m\u001b[43m \u001b[49m\u001b[43mprefix\u001b[49m\u001b[43m,\u001b[49m\u001b[43m \u001b[49m\u001b[43muser_api\u001b[49m\u001b[43m,\u001b[49m\u001b[43m \u001b[49m\u001b[43minternal_api\u001b[49m\u001b[43m)\u001b[49m\n\u001b[1;32m    516\u001b[0m     \u001b[38;5;28mself\u001b[39m\u001b[38;5;241m.\u001b[39mmodules\u001b[38;5;241m.\u001b[39mappend(module)\n",
      "File \u001b[0;32m~/anaconda3/envs/temp_csy/lib/python3.8/site-packages/threadpoolctl.py:606\u001b[0m, in \u001b[0;36m_Module.__init__\u001b[0;34m(self, filepath, prefix, user_api, internal_api)\u001b[0m\n\u001b[1;32m    604\u001b[0m \u001b[38;5;28mself\u001b[39m\u001b[38;5;241m.\u001b[39minternal_api \u001b[38;5;241m=\u001b[39m internal_api\n\u001b[1;32m    605\u001b[0m \u001b[38;5;28mself\u001b[39m\u001b[38;5;241m.\u001b[39m_dynlib \u001b[38;5;241m=\u001b[39m ctypes\u001b[38;5;241m.\u001b[39mCDLL(filepath, mode\u001b[38;5;241m=\u001b[39m_RTLD_NOLOAD)\n\u001b[0;32m--> 606\u001b[0m \u001b[38;5;28mself\u001b[39m\u001b[38;5;241m.\u001b[39mversion \u001b[38;5;241m=\u001b[39m \u001b[38;5;28;43mself\u001b[39;49m\u001b[38;5;241;43m.\u001b[39;49m\u001b[43mget_version\u001b[49m\u001b[43m(\u001b[49m\u001b[43m)\u001b[49m\n\u001b[1;32m    607\u001b[0m \u001b[38;5;28mself\u001b[39m\u001b[38;5;241m.\u001b[39mnum_threads \u001b[38;5;241m=\u001b[39m \u001b[38;5;28mself\u001b[39m\u001b[38;5;241m.\u001b[39mget_num_threads()\n\u001b[1;32m    608\u001b[0m \u001b[38;5;28mself\u001b[39m\u001b[38;5;241m.\u001b[39m_get_extra_info()\n",
      "File \u001b[0;32m~/anaconda3/envs/temp_csy/lib/python3.8/site-packages/threadpoolctl.py:646\u001b[0m, in \u001b[0;36m_OpenBLASModule.get_version\u001b[0;34m(self)\u001b[0m\n\u001b[1;32m    643\u001b[0m get_config \u001b[38;5;241m=\u001b[39m \u001b[38;5;28mgetattr\u001b[39m(\u001b[38;5;28mself\u001b[39m\u001b[38;5;241m.\u001b[39m_dynlib, \u001b[38;5;124m\"\u001b[39m\u001b[38;5;124mopenblas_get_config\u001b[39m\u001b[38;5;124m\"\u001b[39m,\n\u001b[1;32m    644\u001b[0m                      \u001b[38;5;28;01mlambda\u001b[39;00m: \u001b[38;5;28;01mNone\u001b[39;00m)\n\u001b[1;32m    645\u001b[0m get_config\u001b[38;5;241m.\u001b[39mrestype \u001b[38;5;241m=\u001b[39m ctypes\u001b[38;5;241m.\u001b[39mc_char_p\n\u001b[0;32m--> 646\u001b[0m config \u001b[38;5;241m=\u001b[39m \u001b[43mget_config\u001b[49m\u001b[43m(\u001b[49m\u001b[43m)\u001b[49m\u001b[38;5;241;43m.\u001b[39;49m\u001b[43msplit\u001b[49m()\n\u001b[1;32m    647\u001b[0m \u001b[38;5;28;01mif\u001b[39;00m config[\u001b[38;5;241m0\u001b[39m] \u001b[38;5;241m==\u001b[39m \u001b[38;5;124mb\u001b[39m\u001b[38;5;124m\"\u001b[39m\u001b[38;5;124mOpenBLAS\u001b[39m\u001b[38;5;124m\"\u001b[39m:\n\u001b[1;32m    648\u001b[0m     \u001b[38;5;28;01mreturn\u001b[39;00m config[\u001b[38;5;241m1\u001b[39m]\u001b[38;5;241m.\u001b[39mdecode(\u001b[38;5;124m\"\u001b[39m\u001b[38;5;124mutf-8\u001b[39m\u001b[38;5;124m\"\u001b[39m)\n",
      "\u001b[0;31mAttributeError\u001b[0m: 'NoneType' object has no attribute 'split'"
     ]
    }
   ],
   "source": [
    "clf = CBLOF(contamination=0.05,check_estimator=False, random_state=77)\n",
    "clf.fit(_df[['x', 'y']])\n",
    "_df['CBLOF_Clf'] = clf.labels_\n",
    "\n",
    "outlier_CBLOF_one = list(clf.labels_)\n",
    "\n",
    "outlier_CBLOF_one = list(map(lambda x: 1 if x==0  else -1,outlier_CBLOF_one))\n",
    "\n",
    "_conf = Conf_matrx(outlier_true_one_1,outlier_CBLOF_one)"
   ]
  },
  {
   "cell_type": "code",
   "execution_count": 32,
   "id": "43315436-c387-40ec-8044-637a9b5ce503",
   "metadata": {},
   "outputs": [
    {
     "data": {
      "image/png": "[encoded data removed]",
      "text/plain": [
       "<Figure size 360x360 with 1 Axes>"
      ]
     },
     "metadata": {
      "needs_background": "light"
     },
     "output_type": "display_data"
    },
    {
     "name": "stdout",
     "output_type": "stream",
     "text": [
      "Accuracy: 0.959\n",
      "Precision: 0.978\n",
      "Recall: 0.979\n",
      "F1 Score: 0.978\n"
     ]
    }
   ],
   "source": [
    "_conf.conf(\"CBLOF (He et al., 2003)\")"
   ]
  },
  {
   "cell_type": "markdown",
   "id": "65115931-e5bf-435a-9374-073f53835bbc",
   "metadata": {},
   "source": [
    "### OCSVM"
   ]
  },
  {
   "cell_type": "code",
   "execution_count": 33,
   "id": "92a9370a-0a6d-48d0-a7dd-7d861a54a965",
   "metadata": {},
   "outputs": [],
   "source": [
    "np.random.seed(77)\n",
    "clf = svm.OneClassSVM(nu=0.05)"
   ]
  },
  {
   "cell_type": "code",
   "execution_count": 34,
   "id": "f1b6ba1d-acd4-47e8-afb9-f3596f8a594c",
   "metadata": {},
   "outputs": [
    {
     "data": {
      "text/html": [
       "<style>#sk-container-id-1 {color: black;background-color: white;}#sk-container-id-1 pre{padding: 0;}#sk-container-id-1 div.sk-toggleable {background-color: white;}#sk-container-id-1 label.sk-toggleable__label {cursor: pointer;display: block;width: 100%;margin-bottom: 0;padding: 0.3em;box-sizing: border-box;text-align: center;}#sk-container-id-1 label.sk-toggleable__label-arrow:before {content: \"▸\";float: left;margin-right: 0.25em;color: #696969;}#sk-container-id-1 label.sk-toggleable__label-arrow:hover:before {color: black;}#sk-container-id-1 div.sk-estimator:hover label.sk-toggleable__label-arrow:before {color: black;}#sk-container-id-1 div.sk-toggleable__content {max-height: 0;max-width: 0;overflow: hidden;text-align: left;background-color: #f0f8ff;}#sk-container-id-1 div.sk-toggleable__content pre {margin: 0.2em;color: black;border-radius: 0.25em;background-color: #f0f8ff;}#sk-container-id-1 input.sk-toggleable__control:checked~div.sk-toggleable__content {max-height: 200px;max-width: 100%;overflow: auto;}#sk-container-id-1 input.sk-toggleable__control:checked~label.sk-toggleable__label-arrow:before {content: \"▾\";}#sk-container-id-1 div.sk-estimator input.sk-toggleable__control:checked~label.sk-toggleable__label {background-color: #d4ebff;}#sk-container-id-1 div.sk-label input.sk-toggleable__control:checked~label.sk-toggleable__label {background-color: #d4ebff;}#sk-container-id-1 input.sk-hidden--visually {border: 0;clip: rect(1px 1px 1px 1px);clip: rect(1px, 1px, 1px, 1px);height: 1px;margin: -1px;overflow: hidden;padding: 0;position: absolute;width: 1px;}#sk-container-id-1 div.sk-estimator {font-family: monospace;background-color: #f0f8ff;border: 1px dotted black;border-radius: 0.25em;box-sizing: border-box;margin-bottom: 0.5em;}#sk-container-id-1 div.sk-estimator:hover {background-color: #d4ebff;}#sk-container-id-1 div.sk-parallel-item::after {content: \"\";width: 100%;border-bottom: 1px solid gray;flex-grow: 1;}#sk-container-id-1 div.sk-label:hover label.sk-toggleable__label {background-color: #d4ebff;}#sk-container-id-1 div.sk-serial::before {content: \"\";position: absolute;border-left: 1px solid gray;box-sizing: border-box;top: 0;bottom: 0;left: 50%;z-index: 0;}#sk-container-id-1 div.sk-serial {display: flex;flex-direction: column;align-items: center;background-color: white;padding-right: 0.2em;padding-left: 0.2em;position: relative;}#sk-container-id-1 div.sk-item {position: relative;z-index: 1;}#sk-container-id-1 div.sk-parallel {display: flex;align-items: stretch;justify-content: center;background-color: white;position: relative;}#sk-container-id-1 div.sk-item::before, #sk-container-id-1 div.sk-parallel-item::before {content: \"\";position: absolute;border-left: 1px solid gray;box-sizing: border-box;top: 0;bottom: 0;left: 50%;z-index: -1;}#sk-container-id-1 div.sk-parallel-item {display: flex;flex-direction: column;z-index: 1;position: relative;background-color: white;}#sk-container-id-1 div.sk-parallel-item:first-child::after {align-self: flex-end;width: 50%;}#sk-container-id-1 div.sk-parallel-item:last-child::after {align-self: flex-start;width: 50%;}#sk-container-id-1 div.sk-parallel-item:only-child::after {width: 0;}#sk-container-id-1 div.sk-dashed-wrapped {border: 1px dashed gray;margin: 0 0.4em 0.5em 0.4em;box-sizing: border-box;padding-bottom: 0.4em;background-color: white;}#sk-container-id-1 div.sk-label label {font-family: monospace;font-weight: bold;display: inline-block;line-height: 1.2em;}#sk-container-id-1 div.sk-label-container {text-align: center;}#sk-container-id-1 div.sk-container {/* jupyter's `normalize.less` sets `[hidden] { display: none; }` but bootstrap.min.css set `[hidden] { display: none !important; }` so we also need the `!important` here to be able to override the default hidden behavior on the sphinx rendered scikit-learn.org. See: https://github.com/scikit-learn/scikit-learn/issues/21755 */display: inline-block !important;position: relative;}#sk-container-id-1 div.sk-text-repr-fallback {display: none;}</style><div id=\"sk-container-id-1\" class=\"sk-top-container\"><div class=\"sk-text-repr-fallback\"><pre>OneClassSVM(nu=0.05)</pre><b>In a Jupyter environment, please rerun this cell to show the HTML representation or trust the notebook. <br />On GitHub, the HTML representation is unable to render, please try loading this page with nbviewer.org.</b></div><div class=\"sk-container\" hidden><div class=\"sk-item\"><div class=\"sk-estimator sk-toggleable\"><input class=\"sk-toggleable__control sk-hidden--visually\" id=\"sk-estimator-id-1\" type=\"checkbox\" checked><label for=\"sk-estimator-id-1\" class=\"sk-toggleable__label sk-toggleable__label-arrow\">OneClassSVM</label><div class=\"sk-toggleable__content\"><pre>OneClassSVM(nu=0.05)</pre></div></div></div></div></div>"
      ],
      "text/plain": [
       "OneClassSVM(nu=0.05)"
      ]
     },
     "execution_count": 34,
     "metadata": {},
     "output_type": "execute_result"
    }
   ],
   "source": [
    "clf.fit(_df)"
   ]
  },
  {
   "cell_type": "code",
   "execution_count": 35,
   "id": "b045b365-2a1e-4864-933d-0627ebb1e284",
   "metadata": {},
   "outputs": [],
   "source": [
    "outlier_OSVM_one = list(clf.predict(_df))"
   ]
  },
  {
   "cell_type": "code",
   "execution_count": 36,
   "id": "42be82d2-be59-4a39-a1b8-bb2740eb4cc1",
   "metadata": {},
   "outputs": [],
   "source": [
    "_conf = Conf_matrx(outlier_true_one_1,outlier_OSVM_one)"
   ]
  },
  {
   "cell_type": "code",
   "execution_count": 37,
   "id": "d1fa5c0e-ca21-48d6-a236-61228979cd4d",
   "metadata": {},
   "outputs": [
    {
     "data": {
      "image/png": "[encoded data removed]",
      "text/plain": [
       "<Figure size 360x360 with 1 Axes>"
      ]
     },
     "metadata": {
      "needs_background": "light"
     },
     "output_type": "display_data"
    },
    {
     "name": "stdout",
     "output_type": "stream",
     "text": [
      "Accuracy: 0.959\n",
      "Precision: 0.977\n",
      "Recall: 0.980\n",
      "F1 Score: 0.978\n"
     ]
    }
   ],
   "source": [
    "_conf.conf(\"OCSVM (Sch ̈olkopf et al., 2001)\")"
   ]
  },
  {
   "cell_type": "markdown",
   "id": "1a56f2ee-6d38-4a43-94a1-925bbcd1f2d1",
   "metadata": {},
   "source": [
    "### MCD"
   ]
  },
  {
   "cell_type": "code",
   "execution_count": 38,
   "id": "752671f8-a722-4246-8b27-7d4656f44e38",
   "metadata": {
    "scrolled": true,
    "tags": []
   },
   "outputs": [],
   "source": [
    "clf = MCD(contamination=0.05, random_state = 77)\n",
    "clf.fit(_df[['x', 'y']])\n",
    "_df['MCD_clf'] = clf.labels_"
   ]
  },
  {
   "cell_type": "code",
   "execution_count": 39,
   "id": "b18b17b4-3cf9-4cb1-8d31-2a9ef92d44b7",
   "metadata": {},
   "outputs": [],
   "source": [
    "outlier_MCD_one = list(clf.labels_)"
   ]
  },
  {
   "cell_type": "code",
   "execution_count": 40,
   "id": "f36beccd-824e-438f-b2d7-47bd8c62438e",
   "metadata": {},
   "outputs": [],
   "source": [
    "outlier_MCD_one = list(map(lambda x: 1 if x==0  else -1,outlier_MCD_one))"
   ]
  },
  {
   "cell_type": "code",
   "execution_count": 41,
   "id": "42c5b9f5-6e96-4b9d-8a6e-e2b2deee33f7",
   "metadata": {},
   "outputs": [],
   "source": [
    "_conf = Conf_matrx(outlier_true_one_1,outlier_MCD_one)"
   ]
  },
  {
   "cell_type": "code",
   "execution_count": 42,
   "id": "7f6e8752-b7a7-4f14-81e7-64f3ec1a638f",
   "metadata": {},
   "outputs": [
    {
     "data": {
      "image/png": "[encoded data removed]",
      "text/plain": [
       "<Figure size 360x360 with 1 Axes>"
      ]
     },
     "metadata": {
      "needs_background": "light"
     },
     "output_type": "display_data"
    },
    {
     "name": "stdout",
     "output_type": "stream",
     "text": [
      "Accuracy: 0.999\n",
      "Precision: 0.999\n",
      "Recall: 1.000\n",
      "F1 Score: 0.999\n"
     ]
    }
   ],
   "source": [
    "_conf.conf(\"MCD (Hardin and Rocke, 2004)\")"
   ]
  },
  {
   "cell_type": "markdown",
   "id": "465b5e39-f69f-4bd4-8164-64a7409ba4df",
   "metadata": {},
   "source": [
    "### Feature Bagging"
   ]
  },
  {
   "cell_type": "code",
   "execution_count": 43,
   "id": "6b6f574b-efb7-4166-b3a0-ecbe7180837d",
   "metadata": {
    "scrolled": true,
    "tags": []
   },
   "outputs": [],
   "source": [
    "clf = FeatureBagging(contamination=0.05, random_state=77)\n",
    "clf.fit(_df[['x', 'y']])\n",
    "_df['FeatureBagging_clf'] = clf.labels_"
   ]
  },
  {
   "cell_type": "code",
   "execution_count": 44,
   "id": "d1fcff2f-f3cf-4224-84b4-1af9cbd95c58",
   "metadata": {},
   "outputs": [],
   "source": [
    "outlier_FeatureBagging_one = list(clf.labels_)"
   ]
  },
  {
   "cell_type": "code",
   "execution_count": 45,
   "id": "cb6af11e-b54c-469e-8958-e54bf8775935",
   "metadata": {},
   "outputs": [],
   "source": [
    "outlier_FeatureBagging_one = list(map(lambda x: 1 if x==0  else -1,outlier_FeatureBagging_one))"
   ]
  },
  {
   "cell_type": "code",
   "execution_count": 46,
   "id": "e078354e-30de-45b2-a62c-467c162c2408",
   "metadata": {},
   "outputs": [],
   "source": [
    "_conf = Conf_matrx(outlier_true_one_1,outlier_FeatureBagging_one)"
   ]
  },
  {
   "cell_type": "code",
   "execution_count": 47,
   "id": "5b4274c8-ed10-4a9a-b0c7-971c00a63052",
   "metadata": {},
   "outputs": [
    {
     "data": {
      "image/png": "[encoded data removed]",
      "text/plain": [
       "<Figure size 360x360 with 1 Axes>"
      ]
     },
     "metadata": {
      "needs_background": "light"
     },
     "output_type": "display_data"
    },
    {
     "name": "stdout",
     "output_type": "stream",
     "text": [
      "Accuracy: 0.991\n",
      "Precision: 0.995\n",
      "Recall: 0.996\n",
      "F1 Score: 0.995\n"
     ]
    }
   ],
   "source": [
    "_conf.conf(\"Feature Bagging (Lazarevic and Kumar, 2005)\")"
   ]
  },
  {
   "cell_type": "markdown",
   "id": "3e26dc54-51d8-479e-9f80-c800c6a507ae",
   "metadata": {
    "tags": []
   },
   "source": [
    "### ABOD"
   ]
  },
  {
   "cell_type": "code",
   "execution_count": 48,
   "id": "fe44106d-3f42-4d2d-8247-aac18a9d6b53",
   "metadata": {},
   "outputs": [],
   "source": [
    "np.random.seed(77)\n",
    "clf = ABOD(contamination=0.05)\n",
    "clf.fit(_df[['x', 'y']])\n",
    "_df['ABOD_Clf'] = clf.labels_"
   ]
  },
  {
   "cell_type": "code",
   "execution_count": 49,
   "id": "718bd8c6-ad4c-4b10-bf7d-d15f49159ff1",
   "metadata": {},
   "outputs": [],
   "source": [
    "outlier_ABOD_one = list(clf.labels_)"
   ]
  },
  {
   "cell_type": "code",
   "execution_count": 50,
   "id": "9430c793-c89e-4274-9622-13d04ed7406c",
   "metadata": {},
   "outputs": [],
   "source": [
    "outlier_ABOD_one = list(map(lambda x: 1 if x==0  else -1,outlier_ABOD_one))"
   ]
  },
  {
   "cell_type": "code",
   "execution_count": 51,
   "id": "36be755d-a7e9-4855-bc93-f30e6088df5e",
   "metadata": {},
   "outputs": [],
   "source": [
    "_conf = Conf_matrx(outlier_true_one_1,outlier_ABOD_one)"
   ]
  },
  {
   "cell_type": "code",
   "execution_count": 52,
   "id": "7bc8f40d-a585-40ab-a8ce-b7e10263c7a7",
   "metadata": {},
   "outputs": [
    {
     "data": {
      "image/png": "[encoded data removed]",
      "text/plain": [
       "<Figure size 360x360 with 1 Axes>"
      ]
     },
     "metadata": {
      "needs_background": "light"
     },
     "output_type": "display_data"
    },
    {
     "name": "stdout",
     "output_type": "stream",
     "text": [
      "Accuracy: 0.979\n",
      "Precision: 0.988\n",
      "Recall: 0.989\n",
      "F1 Score: 0.989\n"
     ]
    }
   ],
   "source": [
    "_conf.conf(\"ABOD (Kriegel et al., 2008)\")"
   ]
  },
  {
   "cell_type": "markdown",
   "id": "4644cc11-eb3f-4f04-aa2d-46445bfbc520",
   "metadata": {},
   "source": [
    "### IForest"
   ]
  },
  {
   "cell_type": "code",
   "execution_count": 53,
   "id": "acf903c6-90e1-40ba-b85d-01c351628038",
   "metadata": {},
   "outputs": [],
   "source": [
    "np.random.seed(77)\n",
    "od = IForest(\n",
    "    threshold=0.\n",
    ")"
   ]
  },
  {
   "cell_type": "code",
   "execution_count": 54,
   "id": "3efe5b39-8954-4db6-86e1-24c2bca88223",
   "metadata": {},
   "outputs": [],
   "source": [
    "od.fit(_df[['x', 'y']])"
   ]
  },
  {
   "cell_type": "code",
   "execution_count": 55,
   "id": "6b02a0ac-ee37-4ff7-b1b6-3e2ac4de39ba",
   "metadata": {},
   "outputs": [],
   "source": [
    "preds = od.predict(\n",
    "    _df[['x', 'y']],\n",
    "    return_instance_score=True\n",
    ")"
   ]
  },
  {
   "cell_type": "code",
   "execution_count": 56,
   "id": "58fa6202-ba82-45dd-9607-eb69680a0de3",
   "metadata": {},
   "outputs": [],
   "source": [
    "_df['IF_alibi'] = preds['data']['is_outlier']"
   ]
  },
  {
   "cell_type": "code",
   "execution_count": 57,
   "id": "4983467a-e00e-4e70-bba7-3038346fe3b3",
   "metadata": {},
   "outputs": [],
   "source": [
    "outlier_alibi_one = _df['IF_alibi']"
   ]
  },
  {
   "cell_type": "code",
   "execution_count": 58,
   "id": "47855d84-4ddb-40f5-a850-0f8bad57a52f",
   "metadata": {},
   "outputs": [],
   "source": [
    "outlier_alibi_one = list(map(lambda x: 1 if x==0  else -1,outlier_alibi_one))"
   ]
  },
  {
   "cell_type": "code",
   "execution_count": 59,
   "id": "6e1dacb7-3e8f-439f-9da6-38db8622bce7",
   "metadata": {},
   "outputs": [],
   "source": [
    "_conf = Conf_matrx(outlier_true_one_1,outlier_alibi_one)"
   ]
  },
  {
   "cell_type": "code",
   "execution_count": 60,
   "id": "a91ec2b8-3d1a-4f62-aa65-6b6172971c35",
   "metadata": {},
   "outputs": [
    {
     "data": {
      "image/png": "[encoded data removed]",
      "text/plain": [
       "<Figure size 360x360 with 1 Axes>"
      ]
     },
     "metadata": {
      "needs_background": "light"
     },
     "output_type": "display_data"
    },
    {
     "name": "stdout",
     "output_type": "stream",
     "text": [
      "Accuracy: 0.864\n",
      "Precision: 1.000\n",
      "Recall: 0.857\n",
      "F1 Score: 0.923\n"
     ]
    }
   ],
   "source": [
    "_conf.conf(\"Isolation Forest (Liu et al., 2008)\")"
   ]
  },
  {
   "cell_type": "markdown",
   "id": "be07d17c-c473-411f-b19d-772016e5ced8",
   "metadata": {},
   "source": [
    "### HBOS"
   ]
  },
  {
   "cell_type": "code",
   "execution_count": 61,
   "id": "56d6c47d-ffab-4d66-b645-f2ccc2bd287f",
   "metadata": {},
   "outputs": [],
   "source": [
    "np.random.seed(77)\n",
    "clf = HBOS(contamination=0.05)\n",
    "clf.fit(_df[['x', 'y']])\n",
    "_df['HBOS_clf'] = clf.labels_"
   ]
  },
  {
   "cell_type": "code",
   "execution_count": 62,
   "id": "b454d8d5-49e4-4a93-b274-9f9f51b3b72a",
   "metadata": {},
   "outputs": [],
   "source": [
    "outlier_HBOS_one = list(clf.labels_)"
   ]
  },
  {
   "cell_type": "code",
   "execution_count": 63,
   "id": "0c26e28d-417f-44d2-bc45-9a7f1d87a7ba",
   "metadata": {},
   "outputs": [],
   "source": [
    "outlier_HBOS_one = list(map(lambda x: 1 if x==0  else -1,outlier_HBOS_one))"
   ]
  },
  {
   "cell_type": "code",
   "execution_count": 64,
   "id": "98ce6a88-fc1b-4a11-9fd1-994e174741e5",
   "metadata": {},
   "outputs": [],
   "source": [
    "_conf = Conf_matrx(outlier_true_one_1,outlier_HBOS_one)"
   ]
  },
  {
   "cell_type": "code",
   "execution_count": 65,
   "id": "9eeacd94-89e8-49f0-a51a-63edefde43df",
   "metadata": {},
   "outputs": [
    {
     "data": {
      "image/png": "[encoded data removed]",
      "text/plain": [
       "<Figure size 360x360 with 1 Axes>"
      ]
     },
     "metadata": {
      "needs_background": "light"
     },
     "output_type": "display_data"
    },
    {
     "name": "stdout",
     "output_type": "stream",
     "text": [
      "Accuracy: 0.957\n",
      "Precision: 0.968\n",
      "Recall: 0.987\n",
      "F1 Score: 0.978\n"
     ]
    }
   ],
   "source": [
    "_conf.conf(\"HBOS (Goldstein and Dengel, 2012)\")"
   ]
  },
  {
   "cell_type": "markdown",
   "id": "4d8347e3-83b5-4b55-bf7b-412513d96fd0",
   "metadata": {},
   "source": [
    "### SOS"
   ]
  },
  {
   "cell_type": "code",
   "execution_count": 66,
   "id": "3cbfd4f3-2e9c-4639-a441-b9a266b7c2c8",
   "metadata": {},
   "outputs": [],
   "source": [
    "np.random.seed(77)\n",
    "clf = SOS(contamination=0.05)\n",
    "clf.fit(_df[['x', 'y']])\n",
    "_df['SOS_clf'] = clf.labels_"
   ]
  },
  {
   "cell_type": "code",
   "execution_count": 67,
   "id": "860d1fa3-8b82-42b6-930a-f7f79ef633fe",
   "metadata": {},
   "outputs": [],
   "source": [
    "outlier_SOS_one = list(clf.labels_)"
   ]
  },
  {
   "cell_type": "code",
   "execution_count": 68,
   "id": "920f0102-efce-4f5a-96d1-ae06ef2f1b83",
   "metadata": {},
   "outputs": [],
   "source": [
    "outlier_SOS_one = list(map(lambda x: 1 if x==0  else -1,outlier_SOS_one))"
   ]
  },
  {
   "cell_type": "code",
   "execution_count": 69,
   "id": "71368535-c659-42e7-9d44-92c437591ca5",
   "metadata": {},
   "outputs": [],
   "source": [
    "_conf = Conf_matrx(outlier_true_one_1,outlier_SOS_one)"
   ]
  },
  {
   "cell_type": "code",
   "execution_count": 70,
   "id": "d09f9eb5-9451-4a4f-83ed-49d4427901d0",
   "metadata": {},
   "outputs": [
    {
     "data": {
      "image/png": "[encoded data removed]",
      "text/plain": [
       "<Figure size 360x360 with 1 Axes>"
      ]
     },
     "metadata": {
      "needs_background": "light"
     },
     "output_type": "display_data"
    },
    {
     "name": "stdout",
     "output_type": "stream",
     "text": [
      "Accuracy: 0.911\n",
      "Precision: 0.953\n",
      "Recall: 0.954\n",
      "F1 Score: 0.953\n"
     ]
    }
   ],
   "source": [
    "_conf.conf(\"SOS (Janssens et al., 2012)\")"
   ]
  },
  {
   "cell_type": "markdown",
   "id": "368a4ceb-7dda-497a-b487-0d56cb31cd5b",
   "metadata": {
    "tags": []
   },
   "source": [
    "### SO_GAAL"
   ]
  },
  {
   "cell_type": "code",
   "execution_count": 71,
   "id": "98428fce-c7d8-4c30-8c61-0a3ea25bf597",
   "metadata": {
    "scrolled": true,
    "tags": []
   },
   "outputs": [
    {
     "name": "stderr",
     "output_type": "stream",
     "text": [
      "/home/csy/anaconda3/envs/temp_csy/lib/python3.8/site-packages/keras/optimizers/legacy/gradient_descent.py:114: UserWarning: The `lr` argument is deprecated, use `learning_rate` instead.\n",
      "  super().__init__(name, **kwargs)\n"
     ]
    },
    {
     "name": "stdout",
     "output_type": "stream",
     "text": [
      "Epoch 1 of 60\n",
      "\n",
      "Testing for epoch 1 index 1:\n",
      "\n",
      "Testing for epoch 1 index 2:\n",
      "Epoch 2 of 60\n",
      "\n",
      "Testing for epoch 2 index 1:\n",
      "\n",
      "Testing for epoch 2 index 2:\n",
      "Epoch 3 of 60\n",
      "\n",
      "Testing for epoch 3 index 1:\n",
      "\n",
      "Testing for epoch 3 index 2:\n",
      "Epoch 4 of 60\n",
      "\n",
      "Testing for epoch 4 index 1:\n",
      "\n",
      "Testing for epoch 4 index 2:\n",
      "Epoch 5 of 60\n",
      "\n",
      "Testing for epoch 5 index 1:\n",
      "\n",
      "Testing for epoch 5 index 2:\n",
      "Epoch 6 of 60\n",
      "\n",
      "Testing for epoch 6 index 1:\n",
      "\n",
      "Testing for epoch 6 index 2:\n",
      "Epoch 7 of 60\n",
      "\n",
      "Testing for epoch 7 index 1:\n",
      "\n",
      "Testing for epoch 7 index 2:\n",
      "Epoch 8 of 60\n",
      "\n",
      "Testing for epoch 8 index 1:\n",
      "\n",
      "Testing for epoch 8 index 2:\n",
      "Epoch 9 of 60\n",
      "\n",
      "Testing for epoch 9 index 1:\n",
      "\n",
      "Testing for epoch 9 index 2:\n",
      "Epoch 10 of 60\n",
      "\n",
      "Testing for epoch 10 index 1:\n",
      "\n",
      "Testing for epoch 10 index 2:\n",
      "Epoch 11 of 60\n",
      "\n",
      "Testing for epoch 11 index 1:\n",
      "\n",
      "Testing for epoch 11 index 2:\n",
      "Epoch 12 of 60\n",
      "\n",
      "Testing for epoch 12 index 1:\n",
      "\n",
      "Testing for epoch 12 index 2:\n",
      "Epoch 13 of 60\n",
      "\n",
      "Testing for epoch 13 index 1:\n",
      "\n",
      "Testing for epoch 13 index 2:\n",
      "Epoch 14 of 60\n",
      "\n",
      "Testing for epoch 14 index 1:\n",
      "\n",
      "Testing for epoch 14 index 2:\n",
      "Epoch 15 of 60\n",
      "\n",
      "Testing for epoch 15 index 1:\n",
      "\n",
      "Testing for epoch 15 index 2:\n",
      "Epoch 16 of 60\n",
      "\n",
      "Testing for epoch 16 index 1:\n",
      "\n",
      "Testing for epoch 16 index 2:\n",
      "Epoch 17 of 60\n",
      "\n",
      "Testing for epoch 17 index 1:\n",
      "\n",
      "Testing for epoch 17 index 2:\n",
      "Epoch 18 of 60\n",
      "\n",
      "Testing for epoch 18 index 1:\n",
      "\n",
      "Testing for epoch 18 index 2:\n",
      "Epoch 19 of 60\n",
      "\n",
      "Testing for epoch 19 index 1:\n",
      "\n",
      "Testing for epoch 19 index 2:\n",
      "Epoch 20 of 60\n",
      "\n",
      "Testing for epoch 20 index 1:\n",
      "\n",
      "Testing for epoch 20 index 2:\n",
      "Epoch 21 of 60\n",
      "\n",
      "Testing for epoch 21 index 1:\n",
      "\n",
      "Testing for epoch 21 index 2:\n",
      "Epoch 22 of 60\n",
      "\n",
      "Testing for epoch 22 index 1:\n",
      "16/16 [==============================] - 0s 2ms/step - loss: 1.3449\n",
      "\n",
      "Testing for epoch 22 index 2:\n",
      "16/16 [==============================] - 0s 4ms/step - loss: 1.3286\n",
      "Epoch 23 of 60\n",
      "\n",
      "Testing for epoch 23 index 1:\n",
      "16/16 [==============================] - 0s 5ms/step - loss: 1.4027\n",
      "\n",
      "Testing for epoch 23 index 2:\n",
      "16/16 [==============================] - 0s 2ms/step - loss: 1.4128\n",
      "Epoch 24 of 60\n",
      "\n",
      "Testing for epoch 24 index 1:\n",
      "16/16 [==============================] - 0s 2ms/step - loss: 1.4387\n",
      "\n",
      "Testing for epoch 24 index 2:\n",
      "16/16 [==============================] - 0s 1ms/step - loss: 1.3969\n",
      "Epoch 25 of 60\n",
      "\n",
      "Testing for epoch 25 index 1:\n",
      "16/16 [==============================] - 0s 1ms/step - loss: 1.4355\n",
      "\n",
      "Testing for epoch 25 index 2:\n",
      "16/16 [==============================] - 0s 2ms/step - loss: 1.4404\n",
      "Epoch 26 of 60\n",
      "\n",
      "Testing for epoch 26 index 1:\n",
      "16/16 [==============================] - 0s 2ms/step - loss: 1.4886\n",
      "\n",
      "Testing for epoch 26 index 2:\n",
      "16/16 [==============================] - 0s 3ms/step - loss: 1.5236\n",
      "Epoch 27 of 60\n",
      "\n",
      "Testing for epoch 27 index 1:\n",
      "16/16 [==============================] - 0s 2ms/step - loss: 1.4670\n",
      "\n",
      "Testing for epoch 27 index 2:\n",
      "16/16 [==============================] - 0s 4ms/step - loss: 1.5223\n",
      "Epoch 28 of 60\n",
      "\n",
      "Testing for epoch 28 index 1:\n",
      "16/16 [==============================] - 0s 2ms/step - loss: 1.5050\n",
      "\n",
      "Testing for epoch 28 index 2:\n",
      "16/16 [==============================] - 0s 3ms/step - loss: 1.5198\n",
      "Epoch 29 of 60\n",
      "\n",
      "Testing for epoch 29 index 1:\n",
      "16/16 [==============================] - 0s 2ms/step - loss: 1.5334\n",
      "\n",
      "Testing for epoch 29 index 2:\n",
      "16/16 [==============================] - 0s 2ms/step - loss: 1.6224\n",
      "Epoch 30 of 60\n",
      "\n",
      "Testing for epoch 30 index 1:\n",
      "16/16 [==============================] - 0s 1ms/step - loss: 1.6083\n",
      "\n",
      "Testing for epoch 30 index 2:\n",
      "16/16 [==============================] - 0s 2ms/step - loss: 1.5660\n",
      "Epoch 31 of 60\n",
      "\n",
      "Testing for epoch 31 index 1:\n",
      "16/16 [==============================] - 0s 2ms/step - loss: 1.5994\n",
      "\n",
      "Testing for epoch 31 index 2:\n",
      "16/16 [==============================] - 0s 3ms/step - loss: 1.6117\n",
      "Epoch 32 of 60\n",
      "\n",
      "Testing for epoch 32 index 1:\n",
      "16/16 [==============================] - 0s 2ms/step - loss: 1.6321\n",
      "\n",
      "Testing for epoch 32 index 2:\n",
      "16/16 [==============================] - 0s 1ms/step - loss: 1.6304\n",
      "Epoch 33 of 60\n",
      "\n",
      "Testing for epoch 33 index 1:\n",
      "16/16 [==============================] - 0s 3ms/step - loss: 1.7091\n",
      "\n",
      "Testing for epoch 33 index 2:\n",
      "16/16 [==============================] - 0s 2ms/step - loss: 1.6571\n",
      "Epoch 34 of 60\n",
      "\n",
      "Testing for epoch 34 index 1:\n",
      "16/16 [==============================] - 0s 2ms/step - loss: 1.6735\n",
      "\n",
      "Testing for epoch 34 index 2:\n",
      "16/16 [==============================] - 0s 2ms/step - loss: 1.6883\n",
      "Epoch 35 of 60\n",
      "\n",
      "Testing for epoch 35 index 1:\n",
      "16/16 [==============================] - 0s 2ms/step - loss: 1.6778\n",
      "\n",
      "Testing for epoch 35 index 2:\n",
      "16/16 [==============================] - 0s 2ms/step - loss: 1.7434\n",
      "Epoch 36 of 60\n",
      "\n",
      "Testing for epoch 36 index 1:\n",
      "16/16 [==============================] - 0s 2ms/step - loss: 1.7615\n",
      "\n",
      "Testing for epoch 36 index 2:\n",
      "16/16 [==============================] - 0s 5ms/step - loss: 1.7387\n",
      "Epoch 37 of 60\n",
      "\n",
      "Testing for epoch 37 index 1:\n",
      "16/16 [==============================] - 0s 4ms/step - loss: 1.7527\n",
      "\n",
      "Testing for epoch 37 index 2:\n",
      "16/16 [==============================] - 0s 3ms/step - loss: 1.7648\n",
      "Epoch 38 of 60\n",
      "\n",
      "Testing for epoch 38 index 1:\n",
      "16/16 [==============================] - 0s 5ms/step - loss: 1.7405\n",
      "\n",
      "Testing for epoch 38 index 2:\n",
      "16/16 [==============================] - 0s 2ms/step - loss: 1.8003\n",
      "Epoch 39 of 60\n",
      "\n",
      "Testing for epoch 39 index 1:\n",
      "16/16 [==============================] - 0s 2ms/step - loss: 1.8104\n",
      "\n",
      "Testing for epoch 39 index 2:\n",
      "16/16 [==============================] - 0s 2ms/step - loss: 1.7458\n",
      "Epoch 40 of 60\n",
      "\n",
      "Testing for epoch 40 index 1:\n",
      "16/16 [==============================] - 0s 2ms/step - loss: 1.7863\n",
      "\n",
      "Testing for epoch 40 index 2:\n",
      "16/16 [==============================] - 0s 4ms/step - loss: 1.7913\n",
      "Epoch 41 of 60\n",
      "\n",
      "Testing for epoch 41 index 1:\n",
      "16/16 [==============================] - 0s 2ms/step - loss: 1.8391\n",
      "\n",
      "Testing for epoch 41 index 2:\n",
      "16/16 [==============================] - 0s 4ms/step - loss: 1.8711\n",
      "Epoch 42 of 60\n",
      "\n",
      "Testing for epoch 42 index 1:\n",
      "16/16 [==============================] - 0s 3ms/step - loss: 1.8059\n",
      "\n",
      "Testing for epoch 42 index 2:\n",
      "16/16 [==============================] - 0s 4ms/step - loss: 1.7908\n",
      "Epoch 43 of 60\n",
      "\n",
      "Testing for epoch 43 index 1:\n",
      "16/16 [==============================] - 0s 4ms/step - loss: 1.8365\n",
      "\n",
      "Testing for epoch 43 index 2:\n",
      "16/16 [==============================] - 0s 4ms/step - loss: 1.8712\n",
      "Epoch 44 of 60\n",
      "\n",
      "Testing for epoch 44 index 1:\n",
      "16/16 [==============================] - 0s 4ms/step - loss: 1.8153\n",
      "\n",
      "Testing for epoch 44 index 2:\n",
      "16/16 [==============================] - 0s 6ms/step - loss: 1.8849\n",
      "Epoch 45 of 60\n",
      "\n",
      "Testing for epoch 45 index 1:\n",
      "16/16 [==============================] - 0s 2ms/step - loss: 1.9019\n",
      "\n",
      "Testing for epoch 45 index 2:\n",
      "16/16 [==============================] - 0s 4ms/step - loss: 1.8880\n",
      "Epoch 46 of 60\n",
      "\n",
      "Testing for epoch 46 index 1:\n",
      "16/16 [==============================] - 0s 3ms/step - loss: 1.9410\n",
      "\n",
      "Testing for epoch 46 index 2:\n",
      "16/16 [==============================] - 0s 2ms/step - loss: 1.8959\n",
      "Epoch 47 of 60\n",
      "\n",
      "Testing for epoch 47 index 1:\n",
      "16/16 [==============================] - 0s 2ms/step - loss: 1.8549\n",
      "\n",
      "Testing for epoch 47 index 2:\n",
      "16/16 [==============================] - 0s 4ms/step - loss: 1.9135\n",
      "Epoch 48 of 60\n",
      "\n",
      "Testing for epoch 48 index 1:\n",
      "16/16 [==============================] - 0s 3ms/step - loss: 1.8864\n",
      "\n",
      "Testing for epoch 48 index 2:\n",
      "16/16 [==============================] - 0s 2ms/step - loss: 1.9831\n",
      "Epoch 49 of 60\n",
      "\n",
      "Testing for epoch 49 index 1:\n",
      "16/16 [==============================] - 0s 7ms/step - loss: 1.8831\n",
      "\n",
      "Testing for epoch 49 index 2:\n",
      "16/16 [==============================] - 0s 3ms/step - loss: 1.9799\n",
      "Epoch 50 of 60\n",
      "\n",
      "Testing for epoch 50 index 1:\n",
      "16/16 [==============================] - 0s 3ms/step - loss: 1.9176\n",
      "\n",
      "Testing for epoch 50 index 2:\n",
      "16/16 [==============================] - 0s 3ms/step - loss: 1.9143\n",
      "Epoch 51 of 60\n",
      "\n",
      "Testing for epoch 51 index 1:\n",
      "16/16 [==============================] - 0s 2ms/step - loss: 1.9369\n",
      "\n",
      "Testing for epoch 51 index 2:\n",
      "16/16 [==============================] - 0s 3ms/step - loss: 1.9276\n",
      "Epoch 52 of 60\n",
      "\n",
      "Testing for epoch 52 index 1:\n",
      "16/16 [==============================] - 0s 2ms/step - loss: 1.9512\n",
      "\n",
      "Testing for epoch 52 index 2:\n",
      "16/16 [==============================] - 0s 2ms/step - loss: 1.9702\n",
      "Epoch 53 of 60\n",
      "\n",
      "Testing for epoch 53 index 1:\n",
      "16/16 [==============================] - 0s 2ms/step - loss: 1.9639\n",
      "\n",
      "Testing for epoch 53 index 2:\n",
      "16/16 [==============================] - 0s 2ms/step - loss: 1.9793\n",
      "Epoch 54 of 60\n",
      "\n",
      "Testing for epoch 54 index 1:\n",
      "16/16 [==============================] - 0s 2ms/step - loss: 1.9508\n",
      "\n",
      "Testing for epoch 54 index 2:\n",
      "16/16 [==============================] - 0s 3ms/step - loss: 1.9423\n",
      "Epoch 55 of 60\n",
      "\n",
      "Testing for epoch 55 index 1:\n",
      "16/16 [==============================] - 0s 4ms/step - loss: 1.9534\n",
      "\n",
      "Testing for epoch 55 index 2:\n",
      "16/16 [==============================] - 0s 2ms/step - loss: 2.0065\n",
      "Epoch 56 of 60\n",
      "\n",
      "Testing for epoch 56 index 1:\n",
      "16/16 [==============================] - 0s 3ms/step - loss: 1.9959\n",
      "\n",
      "Testing for epoch 56 index 2:\n",
      "16/16 [==============================] - 0s 3ms/step - loss: 1.9997\n",
      "Epoch 57 of 60\n",
      "\n",
      "Testing for epoch 57 index 1:\n",
      "16/16 [==============================] - 0s 3ms/step - loss: 2.0413\n",
      "\n",
      "Testing for epoch 57 index 2:\n",
      "16/16 [==============================] - 0s 2ms/step - loss: 2.0548\n",
      "Epoch 58 of 60\n",
      "\n",
      "Testing for epoch 58 index 1:\n",
      "16/16 [==============================] - 0s 2ms/step - loss: 1.9924\n",
      "\n",
      "Testing for epoch 58 index 2:\n",
      "16/16 [==============================] - 0s 3ms/step - loss: 2.0004\n",
      "Epoch 59 of 60\n",
      "\n",
      "Testing for epoch 59 index 1:\n",
      "16/16 [==============================] - 0s 2ms/step - loss: 2.0592\n",
      "\n",
      "Testing for epoch 59 index 2:\n",
      "16/16 [==============================] - 0s 3ms/step - loss: 1.9838\n",
      "Epoch 60 of 60\n",
      "\n",
      "Testing for epoch 60 index 1:\n",
      "16/16 [==============================] - 0s 3ms/step - loss: 2.0753\n",
      "\n",
      "Testing for epoch 60 index 2:\n",
      "16/16 [==============================] - 0s 6ms/step - loss: 2.0749\n",
      "32/32 [==============================] - 0s 1ms/step\n"
     ]
    }
   ],
   "source": [
    "np.random.seed(77)\n",
    "clf = SO_GAAL(contamination=0.05)\n",
    "clf.fit(_df[['x', 'y']])\n",
    "_df['SO_GAAL_clf'] = clf.labels_"
   ]
  },
  {
   "cell_type": "code",
   "execution_count": 72,
   "id": "5179dd6c-fb20-4362-ab41-6339408e8827",
   "metadata": {},
   "outputs": [],
   "source": [
    "outlier_SO_GAAL_one = list(clf.labels_)"
   ]
  },
  {
   "cell_type": "code",
   "execution_count": 73,
   "id": "1f5d0584-9632-447d-a5d3-2529b3c41b49",
   "metadata": {},
   "outputs": [],
   "source": [
    "outlier_SO_GAAL_one = list(map(lambda x: 1 if x==0  else -1,outlier_SO_GAAL_one))"
   ]
  },
  {
   "cell_type": "code",
   "execution_count": 74,
   "id": "639307be-7900-4259-816a-fe6da25ed1dc",
   "metadata": {},
   "outputs": [],
   "source": [
    "_conf = Conf_matrx(outlier_true_one_1,outlier_SO_GAAL_one)"
   ]
  },
  {
   "cell_type": "code",
   "execution_count": 75,
   "id": "c3ffdbfe-2f54-4717-b1be-1fa38eb69e2f",
   "metadata": {},
   "outputs": [
    {
     "data": {
      "image/png": "[encoded data removed]",
      "text/plain": [
       "<Figure size 360x360 with 1 Axes>"
      ]
     },
     "metadata": {
      "needs_background": "light"
     },
     "output_type": "display_data"
    },
    {
     "name": "stdout",
     "output_type": "stream",
     "text": [
      "Accuracy: 0.938\n",
      "Precision: 0.966\n",
      "Recall: 0.968\n",
      "F1 Score: 0.967\n"
     ]
    }
   ],
   "source": [
    "_conf.conf(\"SO-GAAL (Liu et al., 2019)\")"
   ]
  },
  {
   "cell_type": "markdown",
   "id": "6569fbd2-d3a6-4c36-a815-8d9ee103e210",
   "metadata": {
    "tags": []
   },
   "source": [
    "### MO_GAAL"
   ]
  },
  {
   "cell_type": "code",
   "execution_count": null,
   "id": "a8cb0a21-0444-4613-8b92-1d069d9b3575",
   "metadata": {
    "scrolled": true,
    "tags": []
   },
   "outputs": [
    {
     "name": "stderr",
     "output_type": "stream",
     "text": [
      "/home/csy/anaconda3/envs/temp_csy/lib/python3.8/site-packages/keras/optimizers/legacy/gradient_descent.py:114: UserWarning: The `lr` argument is deprecated, use `learning_rate` instead.\n",
      "  super().__init__(name, **kwargs)\n"
     ]
    },
    {
     "name": "stdout",
     "output_type": "stream",
     "text": [
      "Epoch 1 of 60\n",
      "\n",
      "Testing for epoch 1 index 1:\n",
      "WARNING:tensorflow:5 out of the last 42 calls to <function Model.make_predict_function.<locals>.predict_function at 0x7f59544514c0> triggered tf.function retracing. Tracing is expensive and the excessive number of tracings could be due to (1) creating @tf.function repeatedly in a loop, (2) passing tensors with different shapes, (3) passing Python objects instead of tensors. For (1), please define your @tf.function outside of the loop. For (2), @tf.function has reduce_retracing=True option that can avoid unnecessary retracing. For (3), please refer to https://www.tensorflow.org/guide/function#controlling_retracing and https://www.tensorflow.org/api_docs/python/tf/function for  more details.\n",
      "WARNING:tensorflow:5 out of the last 12 calls to <function Model.make_predict_function.<locals>.predict_function at 0x7f5954451b80> triggered tf.function retracing. Tracing is expensive and the excessive number of tracings could be due to (1) creating @tf.function repeatedly in a loop, (2) passing tensors with different shapes, (3) passing Python objects instead of tensors. For (1), please define your @tf.function outside of the loop. For (2), @tf.function has reduce_retracing=True option that can avoid unnecessary retracing. For (3), please refer to https://www.tensorflow.org/guide/function#controlling_retracing and https://www.tensorflow.org/api_docs/python/tf/function for  more details.\n",
      "32/32 [==============================] - 0s 1ms/step\n",
      "WARNING:tensorflow:5 out of the last 165 calls to <function Model.make_train_function.<locals>.train_function at 0x7f594c67e5e0> triggered tf.function retracing. Tracing is expensive and the excessive number of tracings could be due to (1) creating @tf.function repeatedly in a loop, (2) passing tensors with different shapes, (3) passing Python objects instead of tensors. For (1), please define your @tf.function outside of the loop. For (2), @tf.function has reduce_retracing=True option that can avoid unnecessary retracing. For (3), please refer to https://www.tensorflow.org/guide/function#controlling_retracing and https://www.tensorflow.org/api_docs/python/tf/function for  more details.\n",
      "WARNING:tensorflow:6 out of the last 166 calls to <function Model.make_train_function.<locals>.train_function at 0x7f594c4ca9d0> triggered tf.function retracing. Tracing is expensive and the excessive number of tracings could be due to (1) creating @tf.function repeatedly in a loop, (2) passing tensors with different shapes, (3) passing Python objects instead of tensors. For (1), please define your @tf.function outside of the loop. For (2), @tf.function has reduce_retracing=True option that can avoid unnecessary retracing. For (3), please refer to https://www.tensorflow.org/guide/function#controlling_retracing and https://www.tensorflow.org/api_docs/python/tf/function for  more details.\n",
      "\n",
      "Testing for epoch 1 index 2:\n",
      "32/32 [==============================] - 0s 3ms/step\n",
      "Epoch 2 of 60\n",
      "\n",
      "Testing for epoch 2 index 1:\n",
      "32/32 [==============================] - 0s 1ms/step\n",
      "\n",
      "Testing for epoch 2 index 2:\n",
      "32/32 [==============================] - 0s 3ms/step\n",
      "Epoch 3 of 60\n",
      "\n",
      "Testing for epoch 3 index 1:\n",
      "32/32 [==============================] - 0s 1ms/step\n",
      "\n",
      "Testing for epoch 3 index 2:\n",
      "32/32 [==============================] - 0s 2ms/step\n",
      "Epoch 4 of 60\n",
      "\n",
      "Testing for epoch 4 index 1:\n",
      "32/32 [==============================] - 0s 3ms/step\n",
      "\n",
      "Testing for epoch 4 index 2:\n",
      "32/32 [==============================] - 0s 2ms/step\n",
      "Epoch 5 of 60\n",
      "\n",
      "Testing for epoch 5 index 1:\n",
      "32/32 [==============================] - 0s 2ms/step\n",
      "\n",
      "Testing for epoch 5 index 2:\n",
      "32/32 [==============================] - 0s 1ms/step\n",
      "Epoch 6 of 60\n",
      "\n",
      "Testing for epoch 6 index 1:\n",
      "32/32 [==============================] - 0s 3ms/step\n",
      "\n",
      "Testing for epoch 6 index 2:\n",
      "32/32 [==============================] - 0s 2ms/step\n",
      "Epoch 7 of 60\n",
      "\n",
      "Testing for epoch 7 index 1:\n",
      "32/32 [==============================] - 0s 3ms/step\n",
      "\n",
      "Testing for epoch 7 index 2:\n",
      "32/32 [==============================] - 0s 1ms/step\n",
      "Epoch 8 of 60\n",
      "\n",
      "Testing for epoch 8 index 1:\n",
      "32/32 [==============================] - 0s 2ms/step\n",
      "\n",
      "Testing for epoch 8 index 2:\n",
      "32/32 [==============================] - 0s 3ms/step\n",
      "Epoch 9 of 60\n",
      "\n",
      "Testing for epoch 9 index 1:\n",
      "32/32 [==============================] - 0s 2ms/step\n",
      "\n",
      "Testing for epoch 9 index 2:\n",
      "32/32 [==============================] - 0s 1ms/step\n",
      "Epoch 10 of 60\n",
      "\n",
      "Testing for epoch 10 index 1:\n",
      "32/32 [==============================] - 0s 1ms/step\n",
      "\n",
      "Testing for epoch 10 index 2:\n",
      "32/32 [==============================] - 0s 3ms/step\n",
      "Epoch 11 of 60\n",
      "\n",
      "Testing for epoch 11 index 1:\n",
      "32/32 [==============================] - 0s 2ms/step\n",
      "\n",
      "Testing for epoch 11 index 2:\n",
      "32/32 [==============================] - 0s 5ms/step\n",
      "Epoch 12 of 60\n",
      "\n",
      "Testing for epoch 12 index 1:\n",
      "32/32 [==============================] - 0s 3ms/step\n",
      "\n",
      "Testing for epoch 12 index 2:\n",
      "32/32 [==============================] - 0s 2ms/step\n",
      "Epoch 13 of 60\n",
      "\n",
      "Testing for epoch 13 index 1:\n",
      "32/32 [==============================] - 0s 1ms/step\n",
      "\n",
      "Testing for epoch 13 index 2:\n",
      "32/32 [==============================] - 0s 1ms/step\n",
      "Epoch 14 of 60\n",
      "\n",
      "Testing for epoch 14 index 1:\n",
      "32/32 [==============================] - 0s 1ms/step\n",
      "\n",
      "Testing for epoch 14 index 2:\n",
      "32/32 [==============================] - 0s 2ms/step\n",
      "Epoch 15 of 60\n",
      "\n",
      "Testing for epoch 15 index 1:\n",
      "32/32 [==============================] - 0s 1ms/step\n",
      "\n",
      "Testing for epoch 15 index 2:\n",
      "32/32 [==============================] - 0s 2ms/step\n",
      "Epoch 16 of 60\n",
      "\n",
      "Testing for epoch 16 index 1:\n",
      "32/32 [==============================] - 0s 3ms/step\n",
      "\n",
      "Testing for epoch 16 index 2:\n",
      "32/32 [==============================] - 0s 3ms/step\n",
      "Epoch 17 of 60\n",
      "\n",
      "Testing for epoch 17 index 1:\n",
      "32/32 [==============================] - 0s 4ms/step\n",
      "\n",
      "Testing for epoch 17 index 2:\n",
      "32/32 [==============================] - 0s 4ms/step\n",
      "Epoch 18 of 60\n",
      "\n",
      "Testing for epoch 18 index 1:\n",
      "32/32 [==============================] - 0s 3ms/step\n",
      "\n",
      "Testing for epoch 18 index 2:\n",
      "32/32 [==============================] - 0s 1ms/step\n",
      "Epoch 19 of 60\n",
      "\n",
      "Testing for epoch 19 index 1:\n",
      "32/32 [==============================] - 0s 1ms/step\n",
      "\n",
      "Testing for epoch 19 index 2:\n",
      "32/32 [==============================] - 0s 1ms/step\n",
      "Epoch 20 of 60\n",
      "\n",
      "Testing for epoch 20 index 1:\n",
      "32/32 [==============================] - 0s 4ms/step\n",
      "\n",
      "Testing for epoch 20 index 2:\n",
      "32/32 [==============================] - 0s 1ms/step\n",
      "Epoch 21 of 60\n",
      "\n",
      "Testing for epoch 21 index 1:\n",
      "32/32 [==============================] - 0s 2ms/step\n",
      "\n",
      "Testing for epoch 21 index 2:\n",
      "32/32 [==============================] - 0s 2ms/step\n",
      "16/16 [==============================] - 0s 1ms/step - loss: 0.4300\n",
      "16/16 [==============================] - 0s 2ms/step - loss: 0.7091\n",
      "16/16 [==============================] - 0s 4ms/step - loss: 0.9734\n",
      "16/16 [==============================] - 0s 7ms/step - loss: 1.1289\n",
      "16/16 [==============================] - 0s 4ms/step - loss: 1.2127\n",
      "16/16 [==============================] - 0s 2ms/step - loss: 1.2605\n",
      "16/16 [==============================] - 0s 3ms/step - loss: 1.2794\n",
      "16/16 [==============================] - 0s 1ms/step - loss: 1.2892\n",
      "16/16 [==============================] - 0s 2ms/step - loss: 1.2928\n",
      "16/16 [==============================] - 0s 6ms/step - loss: 1.2951\n",
      "Epoch 22 of 60\n",
      "\n",
      "Testing for epoch 22 index 1:\n",
      "32/32 [==============================] - 0s 1ms/step\n",
      "16/16 [==============================] - 0s 3ms/step - loss: 0.4131\n",
      "16/16 [==============================] - 0s 5ms/step - loss: 0.7161\n",
      "16/16 [==============================] - 0s 3ms/step - loss: 0.9995\n",
      "16/16 [==============================] - 0s 2ms/step - loss: 1.1717\n",
      "16/16 [==============================] - 0s 2ms/step - loss: 1.2638\n",
      "16/16 [==============================] - 0s 4ms/step - loss: 1.3161\n",
      "16/16 [==============================] - 0s 4ms/step - loss: 1.3370\n",
      "16/16 [==============================] - 0s 5ms/step - loss: 1.3477\n",
      "16/16 [==============================] - 0s 2ms/step - loss: 1.3517\n",
      "16/16 [==============================] - 0s 4ms/step - loss: 1.3541\n",
      "\n",
      "Testing for epoch 22 index 2:\n",
      "32/32 [==============================] - 0s 3ms/step\n",
      "16/16 [==============================] - 0s 4ms/step - loss: 0.4034\n",
      "16/16 [==============================] - 0s 6ms/step - loss: 0.7213\n",
      "16/16 [==============================] - 0s 6ms/step - loss: 1.0073\n",
      "16/16 [==============================] - 0s 2ms/step - loss: 1.1874\n",
      "16/16 [==============================] - 0s 4ms/step - loss: 1.2834\n",
      "16/16 [==============================] - 0s 4ms/step - loss: 1.3378\n",
      "16/16 [==============================] - 0s 3ms/step - loss: 1.3596\n",
      "16/16 [==============================] - 0s 3ms/step - loss: 1.3708\n",
      "16/16 [==============================] - 0s 3ms/step - loss: 1.3749\n",
      "16/16 [==============================] - 0s 3ms/step - loss: 1.3774\n",
      "Epoch 23 of 60\n",
      "\n",
      "Testing for epoch 23 index 1:\n",
      "32/32 [==============================] - 0s 2ms/step\n",
      "16/16 [==============================] - 0s 2ms/step - loss: 0.3974\n",
      "16/16 [==============================] - 0s 2ms/step - loss: 0.7191\n",
      "16/16 [==============================] - 0s 4ms/step - loss: 1.0124\n",
      "16/16 [==============================] - 0s 2ms/step - loss: 1.1956\n",
      "16/16 [==============================] - 0s 2ms/step - loss: 1.2943\n",
      "16/16 [==============================] - 0s 3ms/step - loss: 1.3494\n",
      "16/16 [==============================] - 0s 3ms/step - loss: 1.3715\n",
      "16/16 [==============================] - 0s 3ms/step - loss: 1.3828\n",
      "16/16 [==============================] - 0s 2ms/step - loss: 1.3868\n",
      "16/16 [==============================] - 0s 3ms/step - loss: 1.3894\n",
      "\n",
      "Testing for epoch 23 index 2:\n",
      "32/32 [==============================] - 0s 2ms/step\n",
      "16/16 [==============================] - 0s 2ms/step - loss: 0.3889\n",
      "16/16 [==============================] - 0s 3ms/step - loss: 0.7177\n",
      "16/16 [==============================] - 0s 5ms/step - loss: 1.0204\n",
      "16/16 [==============================] - 0s 2ms/step - loss: 1.2083\n",
      "16/16 [==============================] - 0s 5ms/step - loss: 1.3106\n",
      "16/16 [==============================] - 0s 4ms/step - loss: 1.3672\n",
      "16/16 [==============================] - 0s 2ms/step - loss: 1.3898\n",
      "16/16 [==============================] - 0s 3ms/step - loss: 1.4013\n",
      "16/16 [==============================] - 0s 2ms/step - loss: 1.4055\n",
      "16/16 [==============================] - 0s 2ms/step - loss: 1.4080\n",
      "Epoch 24 of 60\n",
      "\n",
      "Testing for epoch 24 index 1:\n",
      "32/32 [==============================] - 0s 1ms/step\n",
      "16/16 [==============================] - 0s 5ms/step - loss: 0.3847\n",
      "16/16 [==============================] - 0s 2ms/step - loss: 0.7227\n",
      "16/16 [==============================] - 0s 2ms/step - loss: 1.0309\n",
      "16/16 [==============================] - 0s 4ms/step - loss: 1.2227\n",
      "16/16 [==============================] - 0s 5ms/step - loss: 1.3280\n",
      "16/16 [==============================] - 0s 2ms/step - loss: 1.3852\n",
      "16/16 [==============================] - 0s 2ms/step - loss: 1.4080\n",
      "16/16 [==============================] - 0s 2ms/step - loss: 1.4195\n",
      "16/16 [==============================] - 0s 3ms/step - loss: 1.4235\n",
      "16/16 [==============================] - 0s 2ms/step - loss: 1.4260\n",
      "\n",
      "Testing for epoch 24 index 2:\n",
      "32/32 [==============================] - 0s 2ms/step\n",
      "16/16 [==============================] - 0s 4ms/step - loss: 0.3655\n",
      "16/16 [==============================] - 0s 2ms/step - loss: 0.7266\n",
      "16/16 [==============================] - 0s 2ms/step - loss: 1.0539\n",
      "16/16 [==============================] - 0s 2ms/step - loss: 1.2597\n",
      "16/16 [==============================] - 0s 4ms/step - loss: 1.3726\n",
      "16/16 [==============================] - 0s 5ms/step - loss: 1.4336\n",
      "16/16 [==============================] - 0s 2ms/step - loss: 1.4576\n",
      "16/16 [==============================] - 0s 5ms/step - loss: 1.4697\n",
      "16/16 [==============================] - 0s 2ms/step - loss: 1.4739\n",
      "16/16 [==============================] - 0s 3ms/step - loss: 1.4765\n",
      "Epoch 25 of 60\n",
      "\n",
      "Testing for epoch 25 index 1:\n",
      "32/32 [==============================] - 0s 3ms/step\n",
      "16/16 [==============================] - 0s 6ms/step - loss: 0.3606\n",
      "16/16 [==============================] - 0s 3ms/step - loss: 0.7294\n",
      "16/16 [==============================] - 0s 6ms/step - loss: 1.0576\n",
      "16/16 [==============================] - 0s 2ms/step - loss: 1.2660\n",
      "16/16 [==============================] - 0s 1ms/step - loss: 1.3790\n",
      "16/16 [==============================] - 0s 2ms/step - loss: 1.4397\n",
      "16/16 [==============================] - 0s 2ms/step - loss: 1.4633\n",
      "16/16 [==============================] - 0s 2ms/step - loss: 1.4750\n",
      "16/16 [==============================] - 0s 2ms/step - loss: 1.4790\n",
      "16/16 [==============================] - 0s 3ms/step - loss: 1.4815\n",
      "\n",
      "Testing for epoch 25 index 2:\n",
      "32/32 [==============================] - 0s 1ms/step\n",
      "16/16 [==============================] - 0s 3ms/step - loss: 0.3667\n",
      "16/16 [==============================] - 0s 2ms/step - loss: 0.7264\n",
      "16/16 [==============================] - 0s 1ms/step - loss: 1.0498\n",
      "16/16 [==============================] - 0s 2ms/step - loss: 1.2533\n",
      "16/16 [==============================] - 0s 3ms/step - loss: 1.3626\n",
      "16/16 [==============================] - 0s 4ms/step - loss: 1.4210\n",
      "16/16 [==============================] - 0s 1ms/step - loss: 1.4434\n",
      "16/16 [==============================] - 0s 4ms/step - loss: 1.4543\n",
      "16/16 [==============================] - 0s 5ms/step - loss: 1.4581\n",
      "16/16 [==============================] - 0s 2ms/step - loss: 1.4604\n",
      "Epoch 26 of 60\n",
      "\n",
      "Testing for epoch 26 index 1:\n",
      "32/32 [==============================] - 0s 851us/step\n",
      "16/16 [==============================] - 0s 2ms/step - loss: 0.3637\n",
      "16/16 [==============================] - 0s 2ms/step - loss: 0.7264\n",
      "16/16 [==============================] - 0s 2ms/step - loss: 1.0569\n",
      "16/16 [==============================] - 0s 2ms/step - loss: 1.2649\n",
      "16/16 [==============================] - 0s 2ms/step - loss: 1.3748\n",
      "16/16 [==============================] - 0s 2ms/step - loss: 1.4326\n",
      "16/16 [==============================] - 0s 2ms/step - loss: 1.4544\n",
      "16/16 [==============================] - 0s 1ms/step - loss: 1.4649\n",
      "16/16 [==============================] - 0s 2ms/step - loss: 1.4685\n",
      "16/16 [==============================] - 0s 2ms/step - loss: 1.4707\n",
      "\n",
      "Testing for epoch 26 index 2:\n",
      "32/32 [==============================] - 0s 3ms/step\n",
      "16/16 [==============================] - 0s 1ms/step - loss: 0.3535\n",
      "16/16 [==============================] - 0s 2ms/step - loss: 0.7299\n",
      "16/16 [==============================] - 0s 2ms/step - loss: 1.0740\n",
      "16/16 [==============================] - 0s 4ms/step - loss: 1.2922\n",
      "16/16 [==============================] - 0s 2ms/step - loss: 1.4062\n",
      "16/16 [==============================] - 0s 3ms/step - loss: 1.4653\n",
      "16/16 [==============================] - 0s 3ms/step - loss: 1.4874\n",
      "16/16 [==============================] - 0s 4ms/step - loss: 1.4979\n",
      "16/16 [==============================] - 0s 3ms/step - loss: 1.5015\n",
      "16/16 [==============================] - 0s 2ms/step - loss: 1.5036\n",
      "Epoch 27 of 60\n",
      "\n",
      "Testing for epoch 27 index 1:\n",
      "32/32 [==============================] - 0s 2ms/step\n",
      "16/16 [==============================] - 0s 5ms/step - loss: 0.3488\n",
      "16/16 [==============================] - 0s 2ms/step - loss: 0.7345\n",
      "16/16 [==============================] - 0s 2ms/step - loss: 1.0827\n",
      "16/16 [==============================] - 0s 4ms/step - loss: 1.3053\n",
      "16/16 [==============================] - 0s 2ms/step - loss: 1.4200\n",
      "16/16 [==============================] - 0s 2ms/step - loss: 1.4783\n",
      "16/16 [==============================] - 0s 6ms/step - loss: 1.4997\n",
      "16/16 [==============================] - 0s 3ms/step - loss: 1.5097\n",
      "16/16 [==============================] - 0s 3ms/step - loss: 1.5131\n",
      "16/16 [==============================] - 0s 1ms/step - loss: 1.5150\n",
      "\n",
      "Testing for epoch 27 index 2:\n",
      "32/32 [==============================] - 0s 3ms/step\n",
      "16/16 [==============================] - 0s 4ms/step - loss: 0.3517\n",
      "16/16 [==============================] - 0s 2ms/step - loss: 0.7304\n",
      "16/16 [==============================] - 0s 2ms/step - loss: 1.0779\n",
      "16/16 [==============================] - 0s 3ms/step - loss: 1.2952\n",
      "16/16 [==============================] - 0s 1ms/step - loss: 1.4068\n",
      "16/16 [==============================] - 0s 2ms/step - loss: 1.4627\n",
      "16/16 [==============================] - 0s 2ms/step - loss: 1.4829\n",
      "16/16 [==============================] - 0s 2ms/step - loss: 1.4923\n",
      "16/16 [==============================] - 0s 2ms/step - loss: 1.4954\n",
      "16/16 [==============================] - 0s 2ms/step - loss: 1.4971\n",
      "Epoch 28 of 60\n",
      "\n",
      "Testing for epoch 28 index 1:\n",
      "32/32 [==============================] - 0s 2ms/step\n",
      "16/16 [==============================] - 0s 2ms/step - loss: 0.3406\n",
      "16/16 [==============================] - 0s 3ms/step - loss: 0.7350\n",
      "16/16 [==============================] - 0s 5ms/step - loss: 1.1012\n",
      "16/16 [==============================] - 0s 4ms/step - loss: 1.3296\n",
      "16/16 [==============================] - 0s 2ms/step - loss: 1.4451\n",
      "16/16 [==============================] - 0s 2ms/step - loss: 1.5018\n",
      "16/16 [==============================] - 0s 3ms/step - loss: 1.5218\n",
      "16/16 [==============================] - 0s 4ms/step - loss: 1.5310\n",
      "16/16 [==============================] - 0s 2ms/step - loss: 1.5340\n",
      "16/16 [==============================] - 0s 1ms/step - loss: 1.5356\n",
      "\n",
      "Testing for epoch 28 index 2:\n",
      "32/32 [==============================] - 0s 1ms/step\n",
      "16/16 [==============================] - 0s 3ms/step - loss: 0.3411\n",
      "16/16 [==============================] - 0s 1ms/step - loss: 0.7366\n",
      "16/16 [==============================] - 0s 2ms/step - loss: 1.1065\n",
      "16/16 [==============================] - 0s 2ms/step - loss: 1.3366\n",
      "16/16 [==============================] - 0s 4ms/step - loss: 1.4516\n",
      "16/16 [==============================] - 0s 2ms/step - loss: 1.5069\n",
      "16/16 [==============================] - 0s 3ms/step - loss: 1.5261\n",
      "16/16 [==============================] - 0s 1ms/step - loss: 1.5348\n",
      "16/16 [==============================] - 0s 2ms/step - loss: 1.5376\n",
      "16/16 [==============================] - 0s 1ms/step - loss: 1.5392\n",
      "Epoch 29 of 60\n",
      "\n",
      "Testing for epoch 29 index 1:\n",
      "32/32 [==============================] - 0s 1ms/step\n",
      "16/16 [==============================] - 0s 4ms/step - loss: 0.3297\n",
      "16/16 [==============================] - 0s 3ms/step - loss: 0.7438\n",
      "16/16 [==============================] - 0s 3ms/step - loss: 1.1249\n",
      "16/16 [==============================] - 0s 4ms/step - loss: 1.3645\n",
      "16/16 [==============================] - 0s 1ms/step - loss: 1.4823\n",
      "16/16 [==============================] - 0s 3ms/step - loss: 1.5379\n",
      "16/16 [==============================] - 0s 3ms/step - loss: 1.5567\n",
      "16/16 [==============================] - 0s 2ms/step - loss: 1.5651\n",
      "16/16 [==============================] - 0s 2ms/step - loss: 1.5677\n",
      "16/16 [==============================] - 0s 2ms/step - loss: 1.5692\n",
      "\n",
      "Testing for epoch 29 index 2:\n",
      "32/32 [==============================] - 0s 1ms/step\n",
      "16/16 [==============================] - 0s 3ms/step - loss: 0.3373\n",
      "16/16 [==============================] - 0s 3ms/step - loss: 0.7447\n",
      "16/16 [==============================] - 0s 2ms/step - loss: 1.1153\n",
      "16/16 [==============================] - 0s 2ms/step - loss: 1.3489\n",
      "16/16 [==============================] - 0s 2ms/step - loss: 1.4619\n",
      "16/16 [==============================] - 0s 3ms/step - loss: 1.5141\n",
      "16/16 [==============================] - 0s 3ms/step - loss: 1.5315\n",
      "16/16 [==============================] - 0s 5ms/step - loss: 1.5391\n",
      "16/16 [==============================] - 0s 5ms/step - loss: 1.5415\n",
      "16/16 [==============================] - 0s 3ms/step - loss: 1.5428\n",
      "Epoch 30 of 60\n",
      "\n",
      "Testing for epoch 30 index 1:\n",
      "32/32 [==============================] - 0s 2ms/step\n",
      "16/16 [==============================] - 0s 3ms/step - loss: 0.3349\n",
      "16/16 [==============================] - 0s 4ms/step - loss: 0.7471\n",
      "16/16 [==============================] - 0s 3ms/step - loss: 1.1212\n",
      "16/16 [==============================] - 0s 3ms/step - loss: 1.3542\n",
      "16/16 [==============================] - 0s 3ms/step - loss: 1.4652\n",
      "16/16 [==============================] - 0s 2ms/step - loss: 1.5154\n",
      "16/16 [==============================] - 0s 3ms/step - loss: 1.5316\n",
      "16/16 [==============================] - 0s 2ms/step - loss: 1.5387\n",
      "16/16 [==============================] - 0s 2ms/step - loss: 1.5408\n",
      "16/16 [==============================] - 0s 2ms/step - loss: 1.5420\n",
      "\n",
      "Testing for epoch 30 index 2:\n",
      "32/32 [==============================] - 0s 3ms/step\n",
      "16/16 [==============================] - 0s 1ms/step - loss: 0.3220\n",
      "16/16 [==============================] - 0s 2ms/step - loss: 0.7558\n",
      "16/16 [==============================] - 0s 4ms/step - loss: 1.1549\n",
      "16/16 [==============================] - 0s 2ms/step - loss: 1.4032\n",
      "16/16 [==============================] - 0s 3ms/step - loss: 1.5198\n",
      "16/16 [==============================] - 0s 2ms/step - loss: 1.5715\n",
      "16/16 [==============================] - 0s 3ms/step - loss: 1.5879\n",
      "16/16 [==============================] - 0s 2ms/step - loss: 1.5950\n",
      "16/16 [==============================] - 0s 2ms/step - loss: 1.5971\n",
      "16/16 [==============================] - 0s 2ms/step - loss: 1.5983\n",
      "Epoch 31 of 60\n",
      "\n",
      "Testing for epoch 31 index 1:\n",
      "32/32 [==============================] - 0s 2ms/step\n",
      "16/16 [==============================] - 0s 5ms/step - loss: 0.3220\n",
      "16/16 [==============================] - 0s 1ms/step - loss: 0.7561\n",
      "16/16 [==============================] - 0s 2ms/step - loss: 1.1618\n",
      "16/16 [==============================] - 0s 3ms/step - loss: 1.4112\n",
      "16/16 [==============================] - 0s 3ms/step - loss: 1.5259\n",
      "16/16 [==============================] - 0s 3ms/step - loss: 1.5757\n",
      "16/16 [==============================] - 0s 1ms/step - loss: 1.5912\n",
      "16/16 [==============================] - 0s 4ms/step - loss: 1.5977\n",
      "16/16 [==============================] - 0s 2ms/step - loss: 1.5997\n",
      "16/16 [==============================] - 0s 3ms/step - loss: 1.6007\n",
      "\n",
      "Testing for epoch 31 index 2:\n",
      "32/32 [==============================] - 0s 1ms/step\n",
      "16/16 [==============================] - 0s 1ms/step - loss: 0.3256\n",
      "16/16 [==============================] - 0s 3ms/step - loss: 0.7499\n",
      "16/16 [==============================] - 0s 2ms/step - loss: 1.1509\n",
      "16/16 [==============================] - 0s 2ms/step - loss: 1.3918\n",
      "16/16 [==============================] - 0s 1ms/step - loss: 1.5016\n",
      "16/16 [==============================] - 0s 4ms/step - loss: 1.5483\n",
      "16/16 [==============================] - 0s 2ms/step - loss: 1.5626\n",
      "16/16 [==============================] - 0s 3ms/step - loss: 1.5685\n",
      "16/16 [==============================] - 0s 3ms/step - loss: 1.5703\n",
      "16/16 [==============================] - 0s 2ms/step - loss: 1.5711\n",
      "Epoch 32 of 60\n",
      "\n",
      "Testing for epoch 32 index 1:\n",
      "32/32 [==============================] - 0s 1ms/step\n",
      "16/16 [==============================] - 0s 6ms/step - loss: 0.3255\n",
      "16/16 [==============================] - 0s 2ms/step - loss: 0.7583\n",
      "16/16 [==============================] - 0s 3ms/step - loss: 1.1672\n",
      "16/16 [==============================] - 0s 2ms/step - loss: 1.4110\n",
      "16/16 [==============================] - 0s 3ms/step - loss: 1.5203\n",
      "16/16 [==============================] - 0s 2ms/step - loss: 1.5657\n",
      "16/16 [==============================] - 0s 3ms/step - loss: 1.5793\n",
      "16/16 [==============================] - 0s 2ms/step - loss: 1.5848\n",
      "16/16 [==============================] - 0s 2ms/step - loss: 1.5864\n",
      "16/16 [==============================] - 0s 2ms/step - loss: 1.5872\n",
      "\n",
      "Testing for epoch 32 index 2:\n",
      "32/32 [==============================] - 0s 4ms/step\n",
      "16/16 [==============================] - 0s 2ms/step - loss: 0.3187\n",
      "16/16 [==============================] - 0s 2ms/step - loss: 0.7598\n",
      "16/16 [==============================] - 0s 5ms/step - loss: 1.1763\n",
      "16/16 [==============================] - 0s 3ms/step - loss: 1.4238\n",
      "16/16 [==============================] - 0s 2ms/step - loss: 1.5333\n",
      "16/16 [==============================] - 0s 2ms/step - loss: 1.5779\n",
      "16/16 [==============================] - 0s 1ms/step - loss: 1.5910\n",
      "16/16 [==============================] - 0s 4ms/step - loss: 1.5962\n",
      "16/16 [==============================] - 0s 2ms/step - loss: 1.5977\n",
      "16/16 [==============================] - 0s 2ms/step - loss: 1.5985\n",
      "Epoch 33 of 60\n",
      "\n",
      "Testing for epoch 33 index 1:\n",
      "32/32 [==============================] - 0s 1ms/step\n",
      "16/16 [==============================] - 0s 5ms/step - loss: 0.3280\n",
      "16/16 [==============================] - 0s 2ms/step - loss: 0.7564\n",
      "16/16 [==============================] - 0s 3ms/step - loss: 1.1584\n",
      "16/16 [==============================] - 0s 3ms/step - loss: 1.3946\n",
      "16/16 [==============================] - 0s 2ms/step - loss: 1.4970\n",
      "16/16 [==============================] - 0s 2ms/step - loss: 1.5379\n",
      "16/16 [==============================] - 0s 2ms/step - loss: 1.5495\n",
      "16/16 [==============================] - 0s 3ms/step - loss: 1.5541\n",
      "16/16 [==============================] - 0s 2ms/step - loss: 1.5554\n",
      "16/16 [==============================] - 0s 1ms/step - loss: 1.5561\n",
      "\n",
      "Testing for epoch 33 index 2:\n",
      "32/32 [==============================] - 0s 2ms/step\n",
      "16/16 [==============================] - 0s 2ms/step - loss: 0.3168\n",
      "16/16 [==============================] - 0s 2ms/step - loss: 0.7673\n",
      "16/16 [==============================] - 0s 2ms/step - loss: 1.1916\n",
      "16/16 [==============================] - 0s 1ms/step - loss: 1.4413\n",
      "16/16 [==============================] - 0s 2ms/step - loss: 1.5477\n",
      "16/16 [==============================] - 0s 3ms/step - loss: 1.5895\n",
      "16/16 [==============================] - 0s 3ms/step - loss: 1.6013\n",
      "16/16 [==============================] - 0s 3ms/step - loss: 1.6058\n",
      "16/16 [==============================] - 0s 2ms/step - loss: 1.6071\n",
      "16/16 [==============================] - 0s 2ms/step - loss: 1.6077\n",
      "Epoch 34 of 60\n",
      "\n",
      "Testing for epoch 34 index 1:\n",
      "32/32 [==============================] - 0s 1ms/step\n",
      "16/16 [==============================] - 0s 4ms/step - loss: 0.3087\n",
      "16/16 [==============================] - 0s 2ms/step - loss: 0.7744\n",
      "16/16 [==============================] - 0s 2ms/step - loss: 1.2170\n",
      "16/16 [==============================] - 0s 1ms/step - loss: 1.4737\n",
      "16/16 [==============================] - 0s 3ms/step - loss: 1.5818\n",
      "16/16 [==============================] - 0s 2ms/step - loss: 1.6232\n",
      "16/16 [==============================] - 0s 4ms/step - loss: 1.6347\n",
      "16/16 [==============================] - 0s 3ms/step - loss: 1.6391\n",
      "16/16 [==============================] - 0s 3ms/step - loss: 1.6402\n",
      "16/16 [==============================] - 0s 2ms/step - loss: 1.6408\n",
      "\n",
      "Testing for epoch 34 index 2:\n",
      "32/32 [==============================] - 0s 3ms/step\n",
      "16/16 [==============================] - 0s 2ms/step - loss: 0.3130\n",
      "16/16 [==============================] - 0s 5ms/step - loss: 0.7689\n",
      "16/16 [==============================] - 0s 2ms/step - loss: 1.2061\n",
      "16/16 [==============================] - 0s 2ms/step - loss: 1.4572\n",
      "16/16 [==============================] - 0s 2ms/step - loss: 1.5615\n",
      "16/16 [==============================] - 0s 3ms/step - loss: 1.6008\n",
      "16/16 [==============================] - 0s 2ms/step - loss: 1.6114\n",
      "16/16 [==============================] - 0s 3ms/step - loss: 1.6155\n",
      "16/16 [==============================] - 0s 4ms/step - loss: 1.6165\n",
      "16/16 [==============================] - 0s 2ms/step - loss: 1.6170\n",
      "Epoch 35 of 60\n",
      "\n",
      "Testing for epoch 35 index 1:\n",
      "32/32 [==============================] - 0s 1ms/step\n",
      "16/16 [==============================] - 0s 2ms/step - loss: 0.3010\n",
      "16/16 [==============================] - 0s 3ms/step - loss: 0.7811\n",
      "16/16 [==============================] - 0s 3ms/step - loss: 1.2465\n",
      "16/16 [==============================] - 0s 4ms/step - loss: 1.5111\n",
      "16/16 [==============================] - 0s 1ms/step - loss: 1.6191\n",
      "16/16 [==============================] - 0s 2ms/step - loss: 1.6588\n",
      "16/16 [==============================] - 0s 2ms/step - loss: 1.6694\n",
      "16/16 [==============================] - 0s 3ms/step - loss: 1.6734\n",
      "16/16 [==============================] - 0s 4ms/step - loss: 1.6744\n",
      "16/16 [==============================] - 0s 4ms/step - loss: 1.6749\n",
      "\n",
      "Testing for epoch 35 index 2:\n",
      "32/32 [==============================] - 0s 3ms/step\n",
      "16/16 [==============================] - 0s 3ms/step - loss: 0.3082\n",
      "16/16 [==============================] - 0s 2ms/step - loss: 0.7742\n",
      "16/16 [==============================] - 0s 4ms/step - loss: 1.2289\n",
      "16/16 [==============================] - 0s 2ms/step - loss: 1.4850\n",
      "16/16 [==============================] - 0s 2ms/step - loss: 1.5878\n",
      "16/16 [==============================] - 0s 2ms/step - loss: 1.6249\n",
      "16/16 [==============================] - 0s 2ms/step - loss: 1.6346\n",
      "16/16 [==============================] - 0s 3ms/step - loss: 1.6382\n",
      "16/16 [==============================] - 0s 4ms/step - loss: 1.6392\n",
      "16/16 [==============================] - 0s 4ms/step - loss: 1.6396\n",
      "Epoch 36 of 60\n",
      "\n",
      "Testing for epoch 36 index 1:\n",
      "32/32 [==============================] - 0s 2ms/step\n",
      "16/16 [==============================] - 0s 2ms/step - loss: 0.2995\n",
      "16/16 [==============================] - 0s 3ms/step - loss: 0.7763\n",
      "16/16 [==============================] - 0s 6ms/step - loss: 1.2448\n",
      "16/16 [==============================] - 0s 4ms/step - loss: 1.5063\n",
      "16/16 [==============================] - 0s 4ms/step - loss: 1.6091\n",
      "16/16 [==============================] - 0s 3ms/step - loss: 1.6455\n",
      "16/16 [==============================] - 0s 3ms/step - loss: 1.6549\n",
      "16/16 [==============================] - 0s 1ms/step - loss: 1.6583\n",
      "16/16 [==============================] - 0s 4ms/step - loss: 1.6592\n",
      "16/16 [==============================] - 0s 2ms/step - loss: 1.6596\n",
      "\n",
      "Testing for epoch 36 index 2:\n",
      "32/32 [==============================] - 0s 2ms/step\n",
      "16/16 [==============================] - 0s 3ms/step - loss: 0.3057\n",
      "16/16 [==============================] - 0s 4ms/step - loss: 0.7845\n",
      "16/16 [==============================] - 0s 5ms/step - loss: 1.2537\n",
      "16/16 [==============================] - 0s 2ms/step - loss: 1.5172\n",
      "16/16 [==============================] - 0s 2ms/step - loss: 1.6157\n",
      "16/16 [==============================] - 0s 3ms/step - loss: 1.6509\n",
      "16/16 [==============================] - 0s 2ms/step - loss: 1.6599\n",
      "16/16 [==============================] - 0s 3ms/step - loss: 1.6631\n",
      "16/16 [==============================] - 0s 3ms/step - loss: 1.6639\n",
      "16/16 [==============================] - 0s 3ms/step - loss: 1.6643\n",
      "Epoch 37 of 60\n",
      "\n",
      "Testing for epoch 37 index 1:\n",
      "32/32 [==============================] - 0s 3ms/step\n",
      "16/16 [==============================] - 0s 3ms/step - loss: 0.3000\n",
      "16/16 [==============================] - 0s 2ms/step - loss: 0.7864\n",
      "16/16 [==============================] - 0s 2ms/step - loss: 1.2625\n",
      "16/16 [==============================] - 0s 4ms/step - loss: 1.5280\n",
      "16/16 [==============================] - 0s 2ms/step - loss: 1.6256\n",
      "16/16 [==============================] - 0s 3ms/step - loss: 1.6599\n",
      "16/16 [==============================] - 0s 4ms/step - loss: 1.6685\n",
      "16/16 [==============================] - 0s 4ms/step - loss: 1.6715\n",
      "16/16 [==============================] - 0s 3ms/step - loss: 1.6723\n",
      "16/16 [==============================] - 0s 4ms/step - loss: 1.6726\n",
      "\n",
      "Testing for epoch 37 index 2:\n",
      "32/32 [==============================] - 0s 2ms/step\n",
      "16/16 [==============================] - 0s 2ms/step - loss: 0.3032\n",
      "16/16 [==============================] - 0s 4ms/step - loss: 0.7890\n",
      "16/16 [==============================] - 0s 1ms/step - loss: 1.2625\n",
      "16/16 [==============================] - 0s 2ms/step - loss: 1.5256\n",
      "16/16 [==============================] - 0s 2ms/step - loss: 1.6210\n",
      "16/16 [==============================] - 0s 2ms/step - loss: 1.6540\n",
      "16/16 [==============================] - 0s 3ms/step - loss: 1.6621\n",
      "16/16 [==============================] - 0s 2ms/step - loss: 1.6649\n",
      "16/16 [==============================] - 0s 3ms/step - loss: 1.6656\n",
      "16/16 [==============================] - 0s 3ms/step - loss: 1.6659\n",
      "Epoch 38 of 60\n",
      "\n",
      "Testing for epoch 38 index 1:\n",
      "32/32 [==============================] - 0s 3ms/step\n",
      "16/16 [==============================] - 0s 3ms/step - loss: 0.2861\n",
      "16/16 [==============================] - 0s 2ms/step - loss: 0.8014\n",
      "16/16 [==============================] - 0s 6ms/step - loss: 1.3034\n",
      "16/16 [==============================] - 0s 4ms/step - loss: 1.5812\n",
      "16/16 [==============================] - 0s 2ms/step - loss: 1.6805\n",
      "16/16 [==============================] - 0s 2ms/step - loss: 1.7142\n",
      "16/16 [==============================] - 0s 3ms/step - loss: 1.7224\n",
      "16/16 [==============================] - 0s 3ms/step - loss: 1.7252\n",
      "16/16 [==============================] - 0s 2ms/step - loss: 1.7259\n",
      "16/16 [==============================] - 0s 2ms/step - loss: 1.7262\n",
      "\n",
      "Testing for epoch 38 index 2:\n",
      "32/32 [==============================] - 0s 2ms/step\n",
      "16/16 [==============================] - 0s 1ms/step - loss: 0.2966\n",
      "16/16 [==============================] - 0s 3ms/step - loss: 0.7911\n",
      "16/16 [==============================] - 0s 3ms/step - loss: 1.2713\n",
      "16/16 [==============================] - 0s 4ms/step - loss: 1.5354\n",
      "16/16 [==============================] - 0s 4ms/step - loss: 1.6283\n",
      "16/16 [==============================] - 0s 2ms/step - loss: 1.6593\n",
      "16/16 [==============================] - 0s 2ms/step - loss: 1.6668\n",
      "16/16 [==============================] - 0s 2ms/step - loss: 1.6693\n",
      "16/16 [==============================] - 0s 2ms/step - loss: 1.6699\n",
      "16/16 [==============================] - 0s 5ms/step - loss: 1.6702\n",
      "Epoch 39 of 60\n",
      "\n",
      "Testing for epoch 39 index 1:\n"
     ]
    }
   ],
   "source": [
    "np.random.seed(77)\n",
    "clf = MO_GAAL(contamination=0.05)\n",
    "clf.fit(_df[['x', 'y']])\n",
    "_df['MO_GAAL_clf'] = clf.labels_"
   ]
  },
  {
   "cell_type": "code",
   "execution_count": null,
   "id": "41e07567-3f8f-4aec-a6fd-98643c82ee86",
   "metadata": {},
   "outputs": [],
   "source": [
    "outlier_MO_GAAL_one = list(clf.labels_)"
   ]
  },
  {
   "cell_type": "code",
   "execution_count": null,
   "id": "b553dad5-5575-45db-8644-3681cd99172e",
   "metadata": {},
   "outputs": [],
   "source": [
    "outlier_MO_GAAL_one = list(map(lambda x: 1 if x==0  else -1,outlier_MO_GAAL_one))"
   ]
  },
  {
   "cell_type": "code",
   "execution_count": null,
   "id": "2e5c7ff0-81be-4590-8cb3-63ea6e664f10",
   "metadata": {},
   "outputs": [],
   "source": [
    "_conf = Conf_matrx(outlier_true_one_1,outlier_MO_GAAL_one)"
   ]
  },
  {
   "cell_type": "code",
   "execution_count": null,
   "id": "8ec4ef5d-e581-4dbe-89a1-330588fb810b",
   "metadata": {},
   "outputs": [],
   "source": [
    "_conf.conf(\"MO-GAAL (Liu et al., 2019)\")"
   ]
  },
  {
   "cell_type": "markdown",
   "id": "714aa7e3-e18f-4463-a7a5-7416afca6336",
   "metadata": {
    "tags": []
   },
   "source": [
    "### LSCP"
   ]
  },
  {
   "cell_type": "code",
   "execution_count": null,
   "id": "10d0ca96-59ca-4737-88fc-08186c6d269a",
   "metadata": {},
   "outputs": [],
   "source": [
    "detectors = [KNN(), LOF(), OCSVM()]\n",
    "clf = LSCP(detectors,contamination=0.05, random_state=77)\n",
    "clf.fit(_df[['x', 'y']])\n",
    "_df['LSCP_clf'] = clf.labels_"
   ]
  },
  {
   "cell_type": "code",
   "execution_count": null,
   "id": "c33ecb34-c02a-4df2-9063-a361ae2e3196",
   "metadata": {},
   "outputs": [],
   "source": [
    "outlier_LSCP_one = list(clf.labels_)"
   ]
  },
  {
   "cell_type": "code",
   "execution_count": null,
   "id": "92f6faa7-86b7-4d57-a0d8-2d75accdf3f9",
   "metadata": {},
   "outputs": [],
   "source": [
    "outlier_LSCP_one = list(map(lambda x: 1 if x==0  else -1,outlier_LSCP_one))"
   ]
  },
  {
   "cell_type": "code",
   "execution_count": null,
   "id": "6b4f4315-cfeb-4266-9e83-6663db679eea",
   "metadata": {},
   "outputs": [],
   "source": [
    "_conf = Conf_matrx(outlier_true_one_1,outlier_LSCP_one)"
   ]
  },
  {
   "cell_type": "code",
   "execution_count": null,
   "id": "848f3ca5-55b5-4260-bc39-190d3f728a57",
   "metadata": {},
   "outputs": [],
   "source": [
    "_conf.conf(\"LSCP (Zhao et al., 2019)\")"
   ]
  },
  {
   "cell_type": "markdown",
   "id": "b8d54e69-7255-461b-a5fa-9386b848efd8",
   "metadata": {
    "tags": []
   },
   "source": [
    "## Orbit"
   ]
  },
  {
   "cell_type": "code",
   "execution_count": null,
   "id": "0bed67bc-b468-485d-92de-86ed263d0c63",
   "metadata": {},
   "outputs": [],
   "source": [
    "np.random.seed(3)\n",
    "epsilon = np.around(np.random.normal(size=1000),15)\n",
    "signal = np.random.choice(np.concatenate((np.random.uniform(-7, -5, 25).round(15), np.random.uniform(5, 7, 25).round(15), np.repeat(0, 950))), 1000)\n",
    "eta = signal + epsilon"
   ]
  },
  {
   "cell_type": "code",
   "execution_count": null,
   "id": "656ba8c0-418e-4f45-b437-a154771935d5",
   "metadata": {},
   "outputs": [],
   "source": [
    "np.random.seed(777)\n",
    "pi=np.pi\n",
    "n=1000\n",
    "ang=np.linspace(-pi,pi-2*pi/n,n)\n",
    "r=5+np.cos(np.linspace(0,12*pi,n))\n",
    "vx=r*np.cos(ang)\n",
    "vy=r*np.sin(ang)\n",
    "f1=10*np.sin(np.linspace(0,6*pi,n))\n",
    "f = f1 + eta"
   ]
  },
  {
   "cell_type": "code",
   "execution_count": null,
   "id": "7dcf2069-e2ac-4651-a1b2-2810efc95f6c",
   "metadata": {},
   "outputs": [],
   "source": [
    "_df = pd.DataFrame({'x' : vx, 'y' : vy, 'f' : f})"
   ]
  },
  {
   "cell_type": "code",
   "execution_count": null,
   "id": "916ae7e6-970c-47c9-a09b-077196a38e1f",
   "metadata": {},
   "outputs": [],
   "source": [
    "outlier_true_one = signal.copy()"
   ]
  },
  {
   "cell_type": "code",
   "execution_count": null,
   "id": "cbba111b-c439-4cf6-8921-a66d05580eff",
   "metadata": {},
   "outputs": [],
   "source": [
    "outlier_true_one = list(map(lambda x: -1 if x!=0 else 1,outlier_true_one))"
   ]
  },
  {
   "cell_type": "markdown",
   "id": "5ffbe488-fdd1-43ef-ab09-952a049c5bbd",
   "metadata": {},
   "source": [
    "### GODE"
   ]
  },
  {
   "cell_type": "code",
   "execution_count": null,
   "id": "d315067c-e1e8-4b7d-8278-f74243a577bc",
   "metadata": {},
   "outputs": [],
   "source": [
    "_Orbit = Orbit(_df)"
   ]
  },
  {
   "cell_type": "code",
   "execution_count": null,
   "id": "91f557c8-fb5b-4244-98d2-b4f57a3d45f5",
   "metadata": {},
   "outputs": [],
   "source": [
    "_Orbit.get_distance()"
   ]
  },
  {
   "cell_type": "code",
   "execution_count": null,
   "id": "41ac2f03-b0d5-4700-a5fd-bbba91aa8d13",
   "metadata": {},
   "outputs": [],
   "source": [
    "_Orbit.get_weightmatrix(theta=(_Orbit.D[_Orbit.D>0].mean()),kappa=2500) "
   ]
  },
  {
   "cell_type": "code",
   "execution_count": null,
   "id": "e2d1731f-fa9d-4aec-8e58-61a3c818233f",
   "metadata": {},
   "outputs": [],
   "source": [
    "_Orbit.fit(sd=15,ref=20)"
   ]
  },
  {
   "cell_type": "code",
   "execution_count": null,
   "id": "7e64c9c6-f23e-4bf0-9169-b1487f9c8f58",
   "metadata": {},
   "outputs": [],
   "source": [
    "outlier_simul_one = (_Orbit.df['Residual']**2).tolist()"
   ]
  },
  {
   "cell_type": "code",
   "execution_count": null,
   "id": "abc11caa-9761-4df1-becc-c886f8755e66",
   "metadata": {},
   "outputs": [],
   "source": [
    "outlier_simul_one = list(map(lambda x: -1 if x > 14 else 1,outlier_simul_one))"
   ]
  },
  {
   "cell_type": "code",
   "execution_count": null,
   "id": "668d41f2-a3d1-4f59-b15a-050b2fc01547",
   "metadata": {},
   "outputs": [],
   "source": [
    "outlier_simul_one.count(1)"
   ]
  },
  {
   "cell_type": "code",
   "execution_count": null,
   "id": "bdfad597-5998-4890-9c20-35dacfb7ea93",
   "metadata": {},
   "outputs": [],
   "source": [
    "outlier_simul_one.count(-1)"
   ]
  },
  {
   "cell_type": "code",
   "execution_count": null,
   "id": "229422f2-34e8-4799-b48d-e550619ca19d",
   "metadata": {},
   "outputs": [],
   "source": [
    "_conf = Conf_matrx(outlier_true_one,outlier_simul_one)"
   ]
  },
  {
   "cell_type": "code",
   "execution_count": null,
   "id": "9102ccf8-756d-4b65-beb1-c2e6d786b1a7",
   "metadata": {},
   "outputs": [],
   "source": [
    "_conf.conf(\"GODE\")"
   ]
  },
  {
   "cell_type": "markdown",
   "id": "6b082db5-7bb3-448d-8257-3aa500b30e52",
   "metadata": {},
   "source": [
    "### LOF"
   ]
  },
  {
   "cell_type": "code",
   "execution_count": null,
   "id": "12377f40-3a51-43e0-a29e-590623436746",
   "metadata": {},
   "outputs": [],
   "source": [
    "np.random.seed(77)\n",
    "clf = LocalOutlierFactor(contamination=0.05)"
   ]
  },
  {
   "cell_type": "code",
   "execution_count": null,
   "id": "186c8c2b-e7a8-4fee-8454-3c93242a35db",
   "metadata": {},
   "outputs": [],
   "source": [
    "_conf = Conf_matrx(outlier_true_one,clf.fit_predict(_df))"
   ]
  },
  {
   "cell_type": "code",
   "execution_count": null,
   "id": "9850dc82-ff5a-4999-b13a-881f27ade039",
   "metadata": {},
   "outputs": [],
   "source": [
    "_conf.conf(\"LOF (Breunig et al., 2000)\")"
   ]
  },
  {
   "cell_type": "markdown",
   "id": "2c3d9087-eaac-4d55-ae9f-4263a655520e",
   "metadata": {},
   "source": [
    "### KNN"
   ]
  },
  {
   "cell_type": "code",
   "execution_count": null,
   "id": "f71aa118-032d-4372-8f1d-c6b9970a4bce",
   "metadata": {
    "tags": []
   },
   "outputs": [],
   "source": [
    "np.random.seed(77)\n",
    "clf = KNN(contamination=0.05)\n",
    "clf.fit(_df[['x', 'y','f']])\n",
    "_df['knn_clf'] = clf.labels_"
   ]
  },
  {
   "cell_type": "code",
   "execution_count": null,
   "id": "1e1c46cc-46b1-48b6-bcb6-9ddf940cc7c1",
   "metadata": {},
   "outputs": [],
   "source": [
    "outlier_KNN_one = list(clf.labels_)"
   ]
  },
  {
   "cell_type": "code",
   "execution_count": null,
   "id": "bd687849-666b-4755-8aef-69695d3c5866",
   "metadata": {},
   "outputs": [],
   "source": [
    "outlier_KNN_one = list(map(lambda x: 1 if x==0  else -1,outlier_KNN_one))"
   ]
  },
  {
   "cell_type": "code",
   "execution_count": null,
   "id": "8fbdc407-4c81-4c9b-946f-087e7a47e43b",
   "metadata": {},
   "outputs": [],
   "source": [
    "_conf = Conf_matrx(outlier_true_one,outlier_KNN_one)"
   ]
  },
  {
   "cell_type": "code",
   "execution_count": null,
   "id": "e5a301b2-5883-47d0-a6b2-dc3ac8dfe49f",
   "metadata": {},
   "outputs": [],
   "source": [
    "_conf.conf(\"kNN (Ramaswamy et al., 2000)\")"
   ]
  },
  {
   "cell_type": "markdown",
   "id": "20115517-e374-4b78-9600-0c3650f57917",
   "metadata": {},
   "source": [
    "### CBLOF"
   ]
  },
  {
   "cell_type": "code",
   "execution_count": null,
   "id": "da9bc1df-30fc-4649-a640-59a3d14c2ae9",
   "metadata": {},
   "outputs": [],
   "source": [
    "clf = CBLOF(contamination=0.05,check_estimator=False, random_state=77)\n",
    "clf.fit(_df[['x', 'y','f']])\n",
    "_df['CBLOF_Clf'] = clf.labels_"
   ]
  },
  {
   "cell_type": "code",
   "execution_count": null,
   "id": "62472305-4ac9-48ab-8d79-9071fa3879ac",
   "metadata": {},
   "outputs": [],
   "source": [
    "clf = CBLOF(contamination=0.05,check_estimator=False, random_state=77)\n",
    "clf.fit(_df[['x', 'y','f']])\n",
    "_df['CBLOF_Clf'] = clf.labels_\n",
    "\n",
    "outlier_CBLOF_one = list(clf.labels_)\n",
    "\n",
    "outlier_CBLOF_one = list(map(lambda x: 1 if x==0  else -1,outlier_CBLOF_one))\n",
    "\n",
    "_conf = Conf_matrx(outlier_true_one,outlier_CBLOF_one)\n",
    "\n",
    "_conf.conf(\"CBLOF (He et al., 2003)\")"
   ]
  },
  {
   "cell_type": "markdown",
   "id": "da01206e-813e-4627-9525-2d2dab0c02d7",
   "metadata": {},
   "source": [
    "### OCSVM"
   ]
  },
  {
   "cell_type": "code",
   "execution_count": null,
   "id": "14b23a33-1e1d-43c3-8091-1f71e0318b85",
   "metadata": {},
   "outputs": [],
   "source": [
    "np.random.seed(77)\n",
    "clf = svm.OneClassSVM(nu=0.05)"
   ]
  },
  {
   "cell_type": "code",
   "execution_count": null,
   "id": "95ca92ce-5af0-4878-af44-d2fad4a10e32",
   "metadata": {},
   "outputs": [],
   "source": [
    "clf.fit(_df)"
   ]
  },
  {
   "cell_type": "code",
   "execution_count": null,
   "id": "dc5ff2fc-8e7c-499b-a245-1c9d6abee8e8",
   "metadata": {},
   "outputs": [],
   "source": [
    "outlier_OSVM_one = list(clf.predict(_df))"
   ]
  },
  {
   "cell_type": "code",
   "execution_count": null,
   "id": "b06dcfef-bf08-4a51-bdda-cd1a10b2f5cf",
   "metadata": {},
   "outputs": [],
   "source": [
    "_conf = Conf_matrx(outlier_true_one,outlier_OSVM_one)"
   ]
  },
  {
   "cell_type": "code",
   "execution_count": null,
   "id": "045fe8fa-9e0d-4d54-8883-537a4d1f09b1",
   "metadata": {},
   "outputs": [],
   "source": [
    "_conf.conf(\"OCSVM (Sch ̈olkopf et al., 2001)\")"
   ]
  },
  {
   "cell_type": "markdown",
   "id": "37ca4fb9-1f1d-4f23-ae0e-37254504a65b",
   "metadata": {},
   "source": [
    "### MCD"
   ]
  },
  {
   "cell_type": "code",
   "execution_count": null,
   "id": "53cc633b-e6ca-4dc0-8bcc-a9b6f06adc6f",
   "metadata": {
    "scrolled": true,
    "tags": []
   },
   "outputs": [],
   "source": [
    "clf = MCD(contamination=0.05 , random_state = 77)\n",
    "clf.fit(_df[['x', 'y','f']])\n",
    "_df['MCD_clf'] = clf.labels_"
   ]
  },
  {
   "cell_type": "code",
   "execution_count": null,
   "id": "bcd938bc-7c0e-4499-a6f4-3c8214da5575",
   "metadata": {},
   "outputs": [],
   "source": [
    "outlier_MCD_one = list(clf.labels_)"
   ]
  },
  {
   "cell_type": "code",
   "execution_count": null,
   "id": "b4a4b5b0-42f8-4a4e-b660-b300927eb81f",
   "metadata": {},
   "outputs": [],
   "source": [
    "outlier_MCD_one = list(map(lambda x: 1 if x==0  else -1,outlier_MCD_one))"
   ]
  },
  {
   "cell_type": "code",
   "execution_count": null,
   "id": "a459eaab-8873-4f2f-a09a-56f9e8c5f410",
   "metadata": {},
   "outputs": [],
   "source": [
    "_conf = Conf_matrx(outlier_true_one,outlier_MCD_one)"
   ]
  },
  {
   "cell_type": "code",
   "execution_count": null,
   "id": "7e930280-027d-4b1c-aaae-f5002ca10749",
   "metadata": {},
   "outputs": [],
   "source": [
    "_conf.conf(\"MCD (Hardin and Rocke, 2004)\")"
   ]
  },
  {
   "cell_type": "markdown",
   "id": "5e502b47-d890-4e0a-9309-fb285cb40007",
   "metadata": {},
   "source": [
    "### Feature Bagging"
   ]
  },
  {
   "cell_type": "code",
   "execution_count": null,
   "id": "bd85c63c-6ef6-4aa6-9e08-70f3481e5db0",
   "metadata": {
    "scrolled": true,
    "tags": []
   },
   "outputs": [],
   "source": [
    "clf = FeatureBagging(contamination=0.05, random_state=77)\n",
    "clf.fit(_df[['x', 'y','f']])\n",
    "_df['FeatureBagging_clf'] = clf.labels_"
   ]
  },
  {
   "cell_type": "code",
   "execution_count": null,
   "id": "a726f1d3-920c-4bb8-bd93-1aff062dd9a5",
   "metadata": {},
   "outputs": [],
   "source": [
    "outlier_FeatureBagging_one = list(clf.labels_)"
   ]
  },
  {
   "cell_type": "code",
   "execution_count": null,
   "id": "73a3b889-2091-4d2c-9b34-90cb1650f42f",
   "metadata": {},
   "outputs": [],
   "source": [
    "outlier_FeatureBagging_one = list(map(lambda x: 1 if x==0  else -1,outlier_FeatureBagging_one))"
   ]
  },
  {
   "cell_type": "code",
   "execution_count": null,
   "id": "5c600842-003a-4e91-b27b-12ee3792e2ff",
   "metadata": {},
   "outputs": [],
   "source": [
    "_conf = Conf_matrx(outlier_true_one,outlier_FeatureBagging_one)"
   ]
  },
  {
   "cell_type": "code",
   "execution_count": null,
   "id": "ace3a587-b15d-4ddd-a826-fc1aa5b32d19",
   "metadata": {},
   "outputs": [],
   "source": [
    "_conf.conf(\"Feature Bagging (Lazarevic and Kumar, 2005)\")"
   ]
  },
  {
   "cell_type": "markdown",
   "id": "849e1a3f-e44f-4713-a245-e9d5d257b8fd",
   "metadata": {
    "tags": []
   },
   "source": [
    "### ABOD"
   ]
  },
  {
   "cell_type": "code",
   "execution_count": null,
   "id": "c5bdf15b-597c-4fb5-aaf0-6c833bd87266",
   "metadata": {},
   "outputs": [],
   "source": [
    "np.random.seed(77)\n",
    "clf = ABOD(contamination=0.05)\n",
    "clf.fit(_df[['x', 'y','f']])\n",
    "_df['ABOD_Clf'] = clf.labels_"
   ]
  },
  {
   "cell_type": "code",
   "execution_count": null,
   "id": "3bd7e84f-771a-4fef-b561-1878765c34f9",
   "metadata": {},
   "outputs": [],
   "source": [
    "outlier_ABOD_one = list(clf.labels_)"
   ]
  },
  {
   "cell_type": "code",
   "execution_count": null,
   "id": "524750aa-1413-4178-809a-4492cc1afafb",
   "metadata": {},
   "outputs": [],
   "source": [
    "outlier_ABOD_one = list(map(lambda x: 1 if x==0  else -1,outlier_ABOD_one))"
   ]
  },
  {
   "cell_type": "code",
   "execution_count": null,
   "id": "cc107a56-e734-4f2d-9a82-f10894fd89a5",
   "metadata": {},
   "outputs": [],
   "source": [
    "_conf = Conf_matrx(outlier_true_one,outlier_ABOD_one)"
   ]
  },
  {
   "cell_type": "code",
   "execution_count": null,
   "id": "c253da3c-3cdf-45db-be17-d2f5c19057cd",
   "metadata": {},
   "outputs": [],
   "source": [
    "_conf.conf(\"ABOD (Kriegel et al., 2008)\")"
   ]
  },
  {
   "cell_type": "markdown",
   "id": "4edc7d37-dc5a-4c59-a281-42560050724e",
   "metadata": {},
   "source": [
    "### IForest"
   ]
  },
  {
   "cell_type": "code",
   "execution_count": null,
   "id": "077d39f8-8b2e-472b-aa0b-6e05badb7021",
   "metadata": {},
   "outputs": [],
   "source": [
    "np.random.seed(77)\n",
    "od = IForest(\n",
    "    threshold=0.\n",
    ")"
   ]
  },
  {
   "cell_type": "code",
   "execution_count": null,
   "id": "4dfc599f-6e3e-4ec3-9d5b-c3c829e17407",
   "metadata": {},
   "outputs": [],
   "source": [
    "od.fit(_df[['x', 'y','f']])"
   ]
  },
  {
   "cell_type": "code",
   "execution_count": null,
   "id": "770e9351-cd55-48bb-b071-57f899a91542",
   "metadata": {},
   "outputs": [],
   "source": [
    "preds = od.predict(\n",
    "    _df[['x', 'y','f']],\n",
    "    return_instance_score=True\n",
    ")"
   ]
  },
  {
   "cell_type": "code",
   "execution_count": null,
   "id": "da9b2ec8-d952-4eb0-8e46-a2bd92afd05c",
   "metadata": {},
   "outputs": [],
   "source": [
    "_df['IF_alibi'] = preds['data']['is_outlier']"
   ]
  },
  {
   "cell_type": "code",
   "execution_count": null,
   "id": "e1993201-f06b-4389-a8be-cc78d3c1a3cf",
   "metadata": {},
   "outputs": [],
   "source": [
    "outlier_alibi_one = _df['IF_alibi']"
   ]
  },
  {
   "cell_type": "code",
   "execution_count": null,
   "id": "0c726c96-6fbc-46e1-81d2-59df41a0e7fc",
   "metadata": {},
   "outputs": [],
   "source": [
    "outlier_alibi_one = list(map(lambda x: 1 if x==0  else -1,outlier_alibi_one))"
   ]
  },
  {
   "cell_type": "code",
   "execution_count": null,
   "id": "acc010b6-e817-43dc-b3eb-17a26dc83cc9",
   "metadata": {},
   "outputs": [],
   "source": [
    "_conf = Conf_matrx(outlier_true_one,outlier_alibi_one)"
   ]
  },
  {
   "cell_type": "code",
   "execution_count": null,
   "id": "07b00e57-350f-4f93-9652-f809d6906a3a",
   "metadata": {},
   "outputs": [],
   "source": [
    "_conf.conf(\"Isolation Forest (Liu et al., 2008)\")"
   ]
  },
  {
   "cell_type": "markdown",
   "id": "9ccc5229-e9c0-4251-a772-80583903981f",
   "metadata": {},
   "source": [
    "### HBOS"
   ]
  },
  {
   "cell_type": "code",
   "execution_count": null,
   "id": "9aa34dc5-2b99-40a9-8b2b-c099eec1a60b",
   "metadata": {},
   "outputs": [],
   "source": [
    "np.random.seed(77)\n",
    "clf = HBOS(contamination=0.05)\n",
    "clf.fit(_df[['x', 'y','f']])\n",
    "_df['HBOS_clf'] = clf.labels_"
   ]
  },
  {
   "cell_type": "code",
   "execution_count": null,
   "id": "030f3caa-fd90-487f-bc66-75757943ac60",
   "metadata": {},
   "outputs": [],
   "source": [
    "outlier_HBOS_one = list(clf.labels_)"
   ]
  },
  {
   "cell_type": "code",
   "execution_count": null,
   "id": "f427f0e1-cc6c-4315-87bf-369d25c10932",
   "metadata": {},
   "outputs": [],
   "source": [
    "outlier_HBOS_one = list(map(lambda x: 1 if x==0  else -1,outlier_HBOS_one))"
   ]
  },
  {
   "cell_type": "code",
   "execution_count": null,
   "id": "70ceff0e-4e36-4590-996b-9dda2a9c834d",
   "metadata": {},
   "outputs": [],
   "source": [
    "_conf = Conf_matrx(outlier_true_one,outlier_HBOS_one)"
   ]
  },
  {
   "cell_type": "code",
   "execution_count": null,
   "id": "bf019ea9-ad6f-4993-851c-b7a80683a2df",
   "metadata": {},
   "outputs": [],
   "source": [
    "_conf.conf(\"HBOS (Goldstein and Dengel, 2012)\")"
   ]
  },
  {
   "cell_type": "markdown",
   "id": "5ccb6582-ef99-43f5-987a-766d668009bc",
   "metadata": {},
   "source": [
    "### SOS"
   ]
  },
  {
   "cell_type": "code",
   "execution_count": null,
   "id": "cbb972a5-d763-45d6-a70e-a6b2b5865bb6",
   "metadata": {},
   "outputs": [],
   "source": [
    "np.random.seed(77)\n",
    "clf = SOS(contamination=0.05)\n",
    "clf.fit(_df[['x', 'y','f']])\n",
    "_df['SOS_clf'] = clf.labels_"
   ]
  },
  {
   "cell_type": "code",
   "execution_count": null,
   "id": "d663fd08-5b3d-4e6c-ab2a-ac9f15cfcda5",
   "metadata": {},
   "outputs": [],
   "source": [
    "outlier_SOS_one = list(clf.labels_)"
   ]
  },
  {
   "cell_type": "code",
   "execution_count": null,
   "id": "ffe47d4c-2ee7-4b5a-95b2-5308a121ad58",
   "metadata": {},
   "outputs": [],
   "source": [
    "outlier_SOS_one = list(map(lambda x: 1 if x==0  else -1,outlier_SOS_one))"
   ]
  },
  {
   "cell_type": "code",
   "execution_count": null,
   "id": "41c63cd6-cc2d-42b8-b340-1de3d7ce0fef",
   "metadata": {},
   "outputs": [],
   "source": [
    "_conf = Conf_matrx(outlier_true_one,outlier_SOS_one)"
   ]
  },
  {
   "cell_type": "code",
   "execution_count": null,
   "id": "c10ea94c-56a0-4f8a-a4e0-afa9b21a0b41",
   "metadata": {},
   "outputs": [],
   "source": [
    "_conf.conf(\"SOS (Janssens et al., 2012)\")"
   ]
  },
  {
   "cell_type": "markdown",
   "id": "b9c4c1ff-652b-4ca8-bda5-360c281af2e9",
   "metadata": {
    "tags": []
   },
   "source": [
    "### SO_GAAL"
   ]
  },
  {
   "cell_type": "code",
   "execution_count": null,
   "id": "7c6036be-ed6b-4162-ba2d-02c6a956394b",
   "metadata": {
    "scrolled": true,
    "tags": []
   },
   "outputs": [],
   "source": [
    "np.random.seed(77)\n",
    "clf = SO_GAAL(contamination=0.05)\n",
    "clf.fit(_df[['x', 'y','f']])\n",
    "_df['SO_GAAL_clf'] = clf.labels_"
   ]
  },
  {
   "cell_type": "code",
   "execution_count": null,
   "id": "f0eea7c8-4808-456b-8d5e-2ec504abb94c",
   "metadata": {},
   "outputs": [],
   "source": [
    "outlier_SO_GAAL_one = list(clf.labels_)"
   ]
  },
  {
   "cell_type": "code",
   "execution_count": null,
   "id": "0a0a0e1a-c30a-4d94-b758-c7d7821abb0f",
   "metadata": {},
   "outputs": [],
   "source": [
    "outlier_SO_GAAL_one = list(map(lambda x: 1 if x==0  else -1,outlier_SO_GAAL_one))"
   ]
  },
  {
   "cell_type": "code",
   "execution_count": null,
   "id": "7b8ebf0e-0a69-4684-896c-c39b873a6350",
   "metadata": {},
   "outputs": [],
   "source": [
    "_conf = Conf_matrx(outlier_true_one,outlier_SO_GAAL_one)"
   ]
  },
  {
   "cell_type": "code",
   "execution_count": null,
   "id": "cd41ad40-82eb-4f90-8435-655bc878f489",
   "metadata": {},
   "outputs": [],
   "source": [
    "_conf.conf(\"SO-GAAL (Liu et al., 2019)\")"
   ]
  },
  {
   "cell_type": "markdown",
   "id": "6c0705b4-4304-48b8-89cd-3bb1d69fd6ee",
   "metadata": {
    "tags": []
   },
   "source": [
    "### MO_GAAL"
   ]
  },
  {
   "cell_type": "code",
   "execution_count": null,
   "id": "dcbc8402-10f2-45bc-9681-cef54890a997",
   "metadata": {
    "scrolled": true,
    "tags": []
   },
   "outputs": [],
   "source": [
    "np.random.seed(77)\n",
    "clf = MO_GAAL(contamination=0.05)\n",
    "clf.fit(_df[['x', 'y','f']])\n",
    "_df['MO_GAAL_clf'] = clf.labels_"
   ]
  },
  {
   "cell_type": "code",
   "execution_count": null,
   "id": "72483fdf-6840-4cf6-9822-487feeb18144",
   "metadata": {},
   "outputs": [],
   "source": [
    "outlier_MO_GAAL_one = list(clf.labels_)"
   ]
  },
  {
   "cell_type": "code",
   "execution_count": null,
   "id": "ffcadab2-86ee-4f93-b9af-1f7c35486ae9",
   "metadata": {},
   "outputs": [],
   "source": [
    "outlier_MO_GAAL_one = list(map(lambda x: 1 if x==0  else -1,outlier_MO_GAAL_one))"
   ]
  },
  {
   "cell_type": "code",
   "execution_count": null,
   "id": "b2633c01-1b6e-4bce-8896-1d3fcda3dbca",
   "metadata": {},
   "outputs": [],
   "source": [
    "_conf = Conf_matrx(outlier_true_one,outlier_MO_GAAL_one)"
   ]
  },
  {
   "cell_type": "code",
   "execution_count": null,
   "id": "e4edd0f0-044a-4cf8-975b-cdec5be55862",
   "metadata": {},
   "outputs": [],
   "source": [
    "_conf.conf(\"MO-GAAL (Liu et al., 2019)\")"
   ]
  },
  {
   "cell_type": "markdown",
   "id": "7df1a4ca-aa4b-4e0b-a884-7f8493ea8276",
   "metadata": {
    "tags": []
   },
   "source": [
    "### LSCP"
   ]
  },
  {
   "cell_type": "code",
   "execution_count": null,
   "id": "15095b9e-d7ea-417f-8a87-14757ecb3699",
   "metadata": {},
   "outputs": [],
   "source": [
    "detectors = [KNN(), LOF(), OCSVM()]\n",
    "clf = LSCP(detectors,contamination=0.05, random_state=77)\n",
    "clf.fit(_df[['x', 'y','f']])\n",
    "_df['LSCP_clf'] = clf.labels_"
   ]
  },
  {
   "cell_type": "code",
   "execution_count": null,
   "id": "0d823726-6c89-4165-a180-cc284f2c48e1",
   "metadata": {},
   "outputs": [],
   "source": [
    "outlier_LSCP_one = list(clf.labels_)"
   ]
  },
  {
   "cell_type": "code",
   "execution_count": null,
   "id": "d5d59236-ad68-4abe-a1b6-91ddc62bfa17",
   "metadata": {},
   "outputs": [],
   "source": [
    "outlier_LSCP_one = list(map(lambda x: 1 if x==0  else -1,outlier_LSCP_one))"
   ]
  },
  {
   "cell_type": "code",
   "execution_count": null,
   "id": "da4d4c0c-64c3-45bb-b7fa-5eaa46369d02",
   "metadata": {},
   "outputs": [],
   "source": [
    "_conf = Conf_matrx(outlier_true_one,outlier_LSCP_one)"
   ]
  },
  {
   "cell_type": "code",
   "execution_count": null,
   "id": "bec6647d-c517-4d62-9d50-fd9fd74912ca",
   "metadata": {},
   "outputs": [],
   "source": [
    "_conf.conf(\"LSCP (Zhao et al., 2019)\")"
   ]
  },
  {
   "cell_type": "markdown",
   "id": "978b8acb-73f6-4a63-82da-1ca28146d7aa",
   "metadata": {},
   "source": [
    "## Bunny"
   ]
  },
  {
   "cell_type": "code",
   "execution_count": null,
   "id": "49bf6104-1809-41e3-8800-47fcb54a6461",
   "metadata": {},
   "outputs": [],
   "source": [
    "G = graphs.Bunny()\n",
    "n = G.N"
   ]
  },
  {
   "cell_type": "code",
   "execution_count": null,
   "id": "85657b04-6741-4217-bd9e-6df2f3cb0e9e",
   "metadata": {},
   "outputs": [],
   "source": [
    "g = filters.Heat(G, tau=75) "
   ]
  },
  {
   "cell_type": "code",
   "execution_count": null,
   "id": "53a206a0-fc08-4621-9cdb-4a62f2514b7e",
   "metadata": {},
   "outputs": [],
   "source": [
    "n=2503"
   ]
  },
  {
   "cell_type": "code",
   "execution_count": null,
   "id": "3e0b1f11-a121-41c7-9fde-0872ee600983",
   "metadata": {},
   "outputs": [],
   "source": [
    "np.random.seed(6)\n",
    "normal = np.around(np.random.normal(size=n),15)\n",
    "unif = np.concatenate([np.random.uniform(low=3,high=7,size=60), np.random.uniform(low=-7,high=-3,size=60),np.zeros(n-120)]); np.random.shuffle(unif)\n",
    "noise = normal + unif"
   ]
  },
  {
   "cell_type": "code",
   "execution_count": null,
   "id": "aa42d5c1-0a67-42ae-8ece-361b6dd03fab",
   "metadata": {},
   "outputs": [],
   "source": [
    "f = np.zeros(n)\n",
    "f[1000] = -3234\n",
    "f = g.filter(f, method='chebyshev') "
   ]
  },
  {
   "cell_type": "code",
   "execution_count": null,
   "id": "a8e671b0-b36d-49a7-9d48-24d42155eb52",
   "metadata": {},
   "outputs": [],
   "source": [
    "G.coords.shape"
   ]
  },
  {
   "cell_type": "code",
   "execution_count": null,
   "id": "a0ece8f8-0c72-47a7-8458-03a69c361af9",
   "metadata": {
    "tags": []
   },
   "outputs": [],
   "source": [
    "_W = G.W.toarray()\n",
    "_x = G.coords[:,0]\n",
    "_y = G.coords[:,1]\n",
    "_z = -G.coords[:,2]"
   ]
  },
  {
   "cell_type": "code",
   "execution_count": null,
   "id": "4387a99f-3d0f-44b3-afb6-7f966322a085",
   "metadata": {},
   "outputs": [],
   "source": [
    "_df = pd.DataFrame({'x':_x,'y':_y,'z':_z})"
   ]
  },
  {
   "cell_type": "code",
   "execution_count": null,
   "id": "616db851-cb98-4698-9396-1dc3c3f81df4",
   "metadata": {},
   "outputs": [],
   "source": [
    "_df = {'W':_W,'x':_x,'y':_y,'z':_z, 'fnoise':f+noise,'f' : f, 'noise': noise,'unif':unif}"
   ]
  },
  {
   "cell_type": "code",
   "execution_count": null,
   "id": "3cf62caa-e458-4d1f-9e9a-97fab84ff6b1",
   "metadata": {},
   "outputs": [],
   "source": [
    "_df = pd.DataFrame({'x': _df['x'],'y':_df['y'],'z':_df['z'],'fnoise':_df['fnoise'],'f':_df['f'],'noise':_df['noise']})"
   ]
  },
  {
   "cell_type": "code",
   "execution_count": null,
   "id": "90c54b8c-653d-4c44-a154-f4930c4286de",
   "metadata": {},
   "outputs": [],
   "source": [
    "unif = _df['unif']"
   ]
  },
  {
   "cell_type": "code",
   "execution_count": null,
   "id": "edcc5751-f5ab-438d-8eab-e769d8f98424",
   "metadata": {},
   "outputs": [],
   "source": [
    "outlier_true_one_2 = unif.copy()"
   ]
  },
  {
   "cell_type": "code",
   "execution_count": null,
   "id": "d84b0c37-7b6d-4a6f-8f8f-15ac6746d82a",
   "metadata": {},
   "outputs": [],
   "source": [
    "outlier_true_one_2 = list(map(lambda x: -1 if x !=0  else 1,outlier_true_one_2))"
   ]
  },
  {
   "cell_type": "code",
   "execution_count": null,
   "id": "58484f48-53fc-4bfe-a363-2226222b30be",
   "metadata": {},
   "outputs": [],
   "source": [
    "X = np.array(_df)[:,:4]"
   ]
  },
  {
   "cell_type": "markdown",
   "id": "f40837a0-5d62-4bcd-a575-383fc813cb13",
   "metadata": {},
   "source": [
    "### GODE"
   ]
  },
  {
   "cell_type": "code",
   "execution_count": null,
   "id": "356dc7bb-1003-4fb1-9ca2-df0ceb8ce18e",
   "metadata": {},
   "outputs": [],
   "source": [
    "_W = _df['W']"
   ]
  },
  {
   "cell_type": "code",
   "execution_count": null,
   "id": "1c61a42a-2378-4c8b-9a93-c1b53656550c",
   "metadata": {},
   "outputs": [],
   "source": [
    "_BUNNY = BUNNY(_df)"
   ]
  },
  {
   "cell_type": "code",
   "execution_count": null,
   "id": "0f7b7ce9-041c-4572-be2f-30a1594182c1",
   "metadata": {},
   "outputs": [],
   "source": [
    "_BUNNY.fit(sd=20,ref=10)"
   ]
  },
  {
   "cell_type": "code",
   "execution_count": null,
   "id": "fbbcd8c0-c4ac-4982-9ad5-084cdc1e0a59",
   "metadata": {},
   "outputs": [],
   "source": [
    "len(_BUNNY.f)"
   ]
  },
  {
   "cell_type": "code",
   "execution_count": null,
   "id": "207679e3-6f20-49d4-b36f-a59ceaf64967",
   "metadata": {},
   "outputs": [],
   "source": [
    "2503*0.05"
   ]
  },
  {
   "cell_type": "code",
   "execution_count": null,
   "id": "24276e3d-0800-46e5-9567-6d17ed00f0d5",
   "metadata": {},
   "outputs": [],
   "source": [
    "outlier_simul_one = (_BUNNY.df['Residual']**2).tolist()"
   ]
  },
  {
   "cell_type": "code",
   "execution_count": null,
   "id": "6a2deeae-d5da-4d56-98e3-b136ef041026",
   "metadata": {},
   "outputs": [],
   "source": [
    "outlier_simul_one = list(map(lambda x: -1 if x > 8.45 else 1,outlier_simul_one))"
   ]
  },
  {
   "cell_type": "code",
   "execution_count": null,
   "id": "d9532b5b-59f2-4454-85a5-56e06aa01b07",
   "metadata": {},
   "outputs": [],
   "source": [
    "outlier_simul_one.count(1)"
   ]
  },
  {
   "cell_type": "code",
   "execution_count": null,
   "id": "51a161c8-d7b9-400f-be1b-9525e475b75b",
   "metadata": {},
   "outputs": [],
   "source": [
    "outlier_simul_one.count(-1)"
   ]
  },
  {
   "cell_type": "code",
   "execution_count": null,
   "id": "4b14ca94-f4d4-4ba9-98fd-08cb1d711ffc",
   "metadata": {},
   "outputs": [],
   "source": [
    "_conf = Conf_matrx(outlier_true_one_2,outlier_simul_one)"
   ]
  },
  {
   "cell_type": "code",
   "execution_count": null,
   "id": "879123b3-96fd-4801-96d1-58f65ed1c2aa",
   "metadata": {},
   "outputs": [],
   "source": [
    "_conf.conf(\"GODE\")"
   ]
  },
  {
   "cell_type": "markdown",
   "id": "39044787-9e76-477a-8cb9-d14f77ec6113",
   "metadata": {},
   "source": [
    "### LOF"
   ]
  },
  {
   "cell_type": "code",
   "execution_count": null,
   "id": "6ebaa979-a6a5-4791-bdc2-8da2b796107f",
   "metadata": {},
   "outputs": [],
   "source": [
    "np.random.seed(77)\n",
    "clf = LocalOutlierFactor(contamination=0.05)"
   ]
  },
  {
   "cell_type": "code",
   "execution_count": null,
   "id": "a14d512f-0ba1-4611-b902-9208d4981e3a",
   "metadata": {},
   "outputs": [],
   "source": [
    "_conf = Conf_matrx(outlier_true_one_2,clf.fit_predict(X))"
   ]
  },
  {
   "cell_type": "code",
   "execution_count": null,
   "id": "5f319d00-a9c7-4ff0-a4fa-81f70c3594fc",
   "metadata": {},
   "outputs": [],
   "source": [
    "_conf.conf(\"LOF (Breunig et al., 2000)\")"
   ]
  },
  {
   "cell_type": "markdown",
   "id": "9a8a4a25-0796-456a-a371-9dd908bb3cf2",
   "metadata": {},
   "source": [
    "### KNN"
   ]
  },
  {
   "cell_type": "code",
   "execution_count": null,
   "id": "ebd94da5-66c7-477e-8269-c61c1b139bdd",
   "metadata": {
    "tags": []
   },
   "outputs": [],
   "source": [
    "np.random.seed(77)\n",
    "clf = KNN(contamination=0.05)\n",
    "clf.fit(_df[['x', 'y','fnoise']])\n",
    "_df['knn_Clf'] = clf.labels_"
   ]
  },
  {
   "cell_type": "code",
   "execution_count": null,
   "id": "ebcb1883-348b-40b8-b534-655018b1b537",
   "metadata": {},
   "outputs": [],
   "source": [
    "outlier_KNN_one = list(clf.labels_)"
   ]
  },
  {
   "cell_type": "code",
   "execution_count": null,
   "id": "d957a8f6-7f3f-4879-957f-2aa2df478972",
   "metadata": {},
   "outputs": [],
   "source": [
    "outlier_KNN_one = list(map(lambda x: 1 if x==0  else -1,outlier_KNN_one))"
   ]
  },
  {
   "cell_type": "code",
   "execution_count": null,
   "id": "bbee32e4-3b9b-441c-ae12-69a9a07e14d5",
   "metadata": {},
   "outputs": [],
   "source": [
    "_conf = Conf_matrx(outlier_true_one_2,outlier_KNN_one)"
   ]
  },
  {
   "cell_type": "code",
   "execution_count": null,
   "id": "996818d7-ef9e-4fbe-8d84-0c830d347cf4",
   "metadata": {},
   "outputs": [],
   "source": [
    "_conf.conf(\"kNN (Ramaswamy et al., 2000)\")"
   ]
  },
  {
   "cell_type": "markdown",
   "id": "f9143beb-ba7b-4fad-b39c-6b1de87dcb90",
   "metadata": {},
   "source": [
    "### CBLOF"
   ]
  },
  {
   "cell_type": "code",
   "execution_count": null,
   "id": "8b00c51e-8a34-4ab8-8706-3d4e44d940cb",
   "metadata": {},
   "outputs": [],
   "source": [
    "clf = CBLOF(contamination=0.05,check_estimator=False, random_state=77)\n",
    "clf.fit(_df[['x', 'y','fnoise']])\n",
    "_df['CBLOF_Clf'] = clf.labels_"
   ]
  },
  {
   "cell_type": "code",
   "execution_count": null,
   "id": "a8fbe55e-6a19-4c03-9775-230053eca6d2",
   "metadata": {},
   "outputs": [],
   "source": [
    "outlier_CBLOF_one = list(clf.labels_)"
   ]
  },
  {
   "cell_type": "code",
   "execution_count": null,
   "id": "5429a0a8-163b-4a78-827e-fd87c67dcd44",
   "metadata": {},
   "outputs": [],
   "source": [
    "outlier_CBLOF_one = list(map(lambda x: 1 if x==0  else -1,outlier_CBLOF_one))"
   ]
  },
  {
   "cell_type": "code",
   "execution_count": null,
   "id": "3848b658-a40e-40dc-a797-bf4c18c6bad3",
   "metadata": {},
   "outputs": [],
   "source": [
    "_conf = Conf_matrx(outlier_true_one_2,outlier_CBLOF_one)"
   ]
  },
  {
   "cell_type": "code",
   "execution_count": null,
   "id": "2b1041db-84eb-4d99-90d2-6471cc20f266",
   "metadata": {},
   "outputs": [],
   "source": [
    "_conf.conf(\"CBLOF (He et al., 2003)\")"
   ]
  },
  {
   "cell_type": "markdown",
   "id": "09ed2ef7-2492-449f-a73d-29c89afbb810",
   "metadata": {},
   "source": [
    "### OCSVM"
   ]
  },
  {
   "cell_type": "code",
   "execution_count": null,
   "id": "7bd8b236-4653-4131-aa04-41111d185483",
   "metadata": {},
   "outputs": [],
   "source": [
    "np.random.seed(77)\n",
    "clf = svm.OneClassSVM(nu=0.05)"
   ]
  },
  {
   "cell_type": "code",
   "execution_count": null,
   "id": "9ce01aaf-fe0e-49ca-b600-5492a7386b11",
   "metadata": {},
   "outputs": [],
   "source": [
    "clf.fit(X)"
   ]
  },
  {
   "cell_type": "code",
   "execution_count": null,
   "id": "a55376ec-404b-476e-9a89-1a028f4d6921",
   "metadata": {},
   "outputs": [],
   "source": [
    "outlier_OSVM_one = list(clf.predict(X))"
   ]
  },
  {
   "cell_type": "code",
   "execution_count": null,
   "id": "73ce90c4-2288-40e9-a7c1-13761112a507",
   "metadata": {},
   "outputs": [],
   "source": [
    "_conf = Conf_matrx(outlier_true_one_2,outlier_OSVM_one)"
   ]
  },
  {
   "cell_type": "code",
   "execution_count": null,
   "id": "4ff333b9-31f8-41ba-8d42-4483fcd14260",
   "metadata": {},
   "outputs": [],
   "source": [
    "_conf.conf(\"OCSVM (Sch ̈olkopf et al., 2001)\")"
   ]
  },
  {
   "cell_type": "markdown",
   "id": "f79d2f48-6b2e-42b3-83c8-9b0b51bc44f1",
   "metadata": {},
   "source": [
    "### MCD"
   ]
  },
  {
   "cell_type": "code",
   "execution_count": null,
   "id": "dac94df3-372e-4e42-99f2-f5e70e548ea3",
   "metadata": {
    "scrolled": true,
    "tags": []
   },
   "outputs": [],
   "source": [
    "clf = MCD(contamination=0.05 , random_state = 77)\n",
    "clf.fit(_df[['x', 'y','fnoise']])\n",
    "_df['MCD_clf'] = clf.labels_"
   ]
  },
  {
   "cell_type": "code",
   "execution_count": null,
   "id": "b9cf263d-6922-454c-80e5-459747a0c2eb",
   "metadata": {},
   "outputs": [],
   "source": [
    "outlier_MCD_one = list(clf.labels_)"
   ]
  },
  {
   "cell_type": "code",
   "execution_count": null,
   "id": "dfcb2a3b-0064-4b46-a006-c3904b90226f",
   "metadata": {},
   "outputs": [],
   "source": [
    "outlier_MCD_one = list(map(lambda x: 1 if x==0  else -1,outlier_MCD_one))"
   ]
  },
  {
   "cell_type": "code",
   "execution_count": null,
   "id": "15f7bc37-12e7-44a5-b711-c2b04ff3484b",
   "metadata": {},
   "outputs": [],
   "source": [
    "_conf = Conf_matrx(outlier_true_one_2,outlier_MCD_one)"
   ]
  },
  {
   "cell_type": "code",
   "execution_count": null,
   "id": "c8ccea94-09c5-4f91-8db5-61fb0f6d76a9",
   "metadata": {},
   "outputs": [],
   "source": [
    "_conf.conf(\"MCD (Hardin and Rocke, 2004)\")"
   ]
  },
  {
   "cell_type": "markdown",
   "id": "1ccd7760-aaeb-4e99-8df0-a74eea8a3611",
   "metadata": {},
   "source": [
    "### Feature Bagging"
   ]
  },
  {
   "cell_type": "code",
   "execution_count": null,
   "id": "26f70fde-9cae-4c7e-95d7-80ac029fadae",
   "metadata": {
    "scrolled": true,
    "tags": []
   },
   "outputs": [],
   "source": [
    "clf = FeatureBagging(contamination=0.05, random_state=77)\n",
    "clf.fit(_df[['x', 'y','fnoise']])\n",
    "_df['FeatureBagging_clf'] = clf.labels_"
   ]
  },
  {
   "cell_type": "code",
   "execution_count": null,
   "id": "c936dde6-37c3-4b26-9e81-943261332725",
   "metadata": {},
   "outputs": [],
   "source": [
    "outlier_FeatureBagging_one = list(clf.labels_)"
   ]
  },
  {
   "cell_type": "code",
   "execution_count": null,
   "id": "71cfbd17-a36c-4c26-8b29-d85cce17c6e1",
   "metadata": {},
   "outputs": [],
   "source": [
    "outlier_FeatureBagging_one = list(map(lambda x: 1 if x==0  else -1,outlier_FeatureBagging_one))"
   ]
  },
  {
   "cell_type": "code",
   "execution_count": null,
   "id": "75460ac3-26fd-4dc8-a076-ff127b396550",
   "metadata": {},
   "outputs": [],
   "source": [
    "_conf = Conf_matrx(outlier_true_one_2,outlier_FeatureBagging_one)"
   ]
  },
  {
   "cell_type": "code",
   "execution_count": null,
   "id": "943c9107-52f7-4e11-8510-9695af300aa4",
   "metadata": {},
   "outputs": [],
   "source": [
    "_conf.conf(\"Feature Bagging (Lazarevic and Kumar, 2005)\")"
   ]
  },
  {
   "cell_type": "markdown",
   "id": "f0ecf885-0d31-457f-bfda-54c3c207ffdf",
   "metadata": {
    "tags": []
   },
   "source": [
    "### ABOD"
   ]
  },
  {
   "cell_type": "code",
   "execution_count": null,
   "id": "2fa20a90-e548-4588-b82f-a022fcdc7480",
   "metadata": {},
   "outputs": [],
   "source": [
    "np.random.seed(77)\n",
    "clf = ABOD(contamination=0.05)\n",
    "clf.fit(_df[['x', 'y','fnoise']])\n",
    "_df['ABOD_Clf'] = clf.labels_"
   ]
  },
  {
   "cell_type": "code",
   "execution_count": null,
   "id": "68710435-f76d-4ca4-a1eb-80876bde4b18",
   "metadata": {},
   "outputs": [],
   "source": [
    "outlier_ABOD_one = list(clf.labels_)"
   ]
  },
  {
   "cell_type": "code",
   "execution_count": null,
   "id": "a7adc46e-e635-4965-81e7-fad16ee4ca47",
   "metadata": {},
   "outputs": [],
   "source": [
    "outlier_ABOD_one = list(map(lambda x: 1 if x==0  else -1,outlier_ABOD_one))"
   ]
  },
  {
   "cell_type": "code",
   "execution_count": null,
   "id": "0ac2625c-b2cc-4c30-a5fd-e6b65dcac8f1",
   "metadata": {},
   "outputs": [],
   "source": [
    "_conf = Conf_matrx(outlier_true_one_2,outlier_ABOD_one)"
   ]
  },
  {
   "cell_type": "code",
   "execution_count": null,
   "id": "c838d238-03aa-4509-9ef6-6bd22fd0b632",
   "metadata": {},
   "outputs": [],
   "source": [
    "_conf.conf(\"ABOD (Kriegel et al., 2008)\")"
   ]
  },
  {
   "cell_type": "markdown",
   "id": "1bc9b1ba-1cc9-415c-afd1-236437d6813f",
   "metadata": {},
   "source": [
    "### IForest"
   ]
  },
  {
   "cell_type": "code",
   "execution_count": null,
   "id": "7ba5fe34-e7ae-42c7-abd9-f78f10e87617",
   "metadata": {},
   "outputs": [],
   "source": [
    "np.random.seed(77)\n",
    "od = IForest(\n",
    "    threshold=0.\n",
    ")"
   ]
  },
  {
   "cell_type": "code",
   "execution_count": null,
   "id": "8bbcd696-cff0-411a-9233-293dd09c1485",
   "metadata": {},
   "outputs": [],
   "source": [
    "od.fit(_df[['x', 'y','fnoise']])"
   ]
  },
  {
   "cell_type": "code",
   "execution_count": null,
   "id": "09a50b58-8ef5-4732-b136-4a79d0cbe851",
   "metadata": {},
   "outputs": [],
   "source": [
    "preds = od.predict(\n",
    "    _df[['x', 'y','fnoise']],\n",
    "    return_instance_score=True\n",
    ")"
   ]
  },
  {
   "cell_type": "code",
   "execution_count": null,
   "id": "2ccc3405-d9b0-4699-893b-a5784a88af9c",
   "metadata": {},
   "outputs": [],
   "source": [
    "_df['IF_alibi'] = preds['data']['is_outlier']"
   ]
  },
  {
   "cell_type": "code",
   "execution_count": null,
   "id": "32e1236f-7fc8-428f-a884-36fac3974cf2",
   "metadata": {},
   "outputs": [],
   "source": [
    "outlier_alibi_one = _df['IF_alibi']"
   ]
  },
  {
   "cell_type": "code",
   "execution_count": null,
   "id": "876318ab-934d-4c61-9da5-3fbe66051fb7",
   "metadata": {},
   "outputs": [],
   "source": [
    "outlier_alibi_one = list(map(lambda x: 1 if x==0  else -1,outlier_alibi_one))"
   ]
  },
  {
   "cell_type": "code",
   "execution_count": null,
   "id": "237b4a33-06cc-4793-87a7-d667f45dba0d",
   "metadata": {},
   "outputs": [],
   "source": [
    "_conf = Conf_matrx(outlier_true_one_2,outlier_alibi_one)"
   ]
  },
  {
   "cell_type": "code",
   "execution_count": null,
   "id": "409c10da-3ef0-4ba7-aea1-2a75fc71fed1",
   "metadata": {},
   "outputs": [],
   "source": [
    "_conf.conf(\"Isolation Forest (Liu et al., 2008)\")"
   ]
  },
  {
   "cell_type": "markdown",
   "id": "b2e86013-abe1-4bda-b9eb-11f4eedb4b7e",
   "metadata": {},
   "source": [
    "### HBOS"
   ]
  },
  {
   "cell_type": "code",
   "execution_count": null,
   "id": "731a662b-f20b-48f8-a3ae-5440ec8e6c4c",
   "metadata": {},
   "outputs": [],
   "source": [
    "np.random.seed(77)\n",
    "clf = HBOS(contamination=0.05)\n",
    "clf.fit(_df[['x', 'y','fnoise']])\n",
    "_df['HBOS_clf'] = clf.labels_"
   ]
  },
  {
   "cell_type": "code",
   "execution_count": null,
   "id": "9df21c57-05fa-4055-94f2-e5c2e94f15cf",
   "metadata": {},
   "outputs": [],
   "source": [
    "outlier_HBOS_one = list(clf.labels_)"
   ]
  },
  {
   "cell_type": "code",
   "execution_count": null,
   "id": "9699ee9a-6f2d-4eae-abc4-8fb612c5ff57",
   "metadata": {},
   "outputs": [],
   "source": [
    "outlier_HBOS_one = list(map(lambda x: 1 if x==0  else -1,outlier_HBOS_one))"
   ]
  },
  {
   "cell_type": "code",
   "execution_count": null,
   "id": "4ef67898-a67e-44f5-b220-9ce2091415e0",
   "metadata": {},
   "outputs": [],
   "source": [
    "_conf = Conf_matrx(outlier_true_one_2,outlier_HBOS_one)"
   ]
  },
  {
   "cell_type": "code",
   "execution_count": null,
   "id": "fc947c63-29f7-409b-9f31-a835261bdead",
   "metadata": {},
   "outputs": [],
   "source": [
    "_conf.conf(\"HBOS (Goldstein and Dengel, 2012)\")"
   ]
  },
  {
   "cell_type": "markdown",
   "id": "991b039f-c1cf-4370-8b74-c5b091bd520f",
   "metadata": {},
   "source": [
    "### SOS"
   ]
  },
  {
   "cell_type": "code",
   "execution_count": null,
   "id": "243d69d7-4a99-4032-9589-8e624c53faf0",
   "metadata": {},
   "outputs": [],
   "source": [
    "np.random.seed(77)\n",
    "clf = SOS(contamination=0.05)\n",
    "clf.fit(_df[['x', 'y','fnoise']])\n",
    "_df['SOS_clf'] = clf.labels_"
   ]
  },
  {
   "cell_type": "code",
   "execution_count": null,
   "id": "b8c7e25d-d691-4661-8977-f01b4008ca1a",
   "metadata": {},
   "outputs": [],
   "source": [
    "outlier_SOS_one = list(clf.labels_)"
   ]
  },
  {
   "cell_type": "code",
   "execution_count": null,
   "id": "435842a5-e178-4f61-a786-2ff7a7a7b3b3",
   "metadata": {},
   "outputs": [],
   "source": [
    "outlier_SOS_one = list(map(lambda x: 1 if x==0  else -1,outlier_SOS_one))"
   ]
  },
  {
   "cell_type": "code",
   "execution_count": null,
   "id": "ede1254d-731d-4257-b921-ae7b56339a05",
   "metadata": {},
   "outputs": [],
   "source": [
    "_conf = Conf_matrx(outlier_true_one_2,outlier_SOS_one)"
   ]
  },
  {
   "cell_type": "code",
   "execution_count": null,
   "id": "8905cac1-5f7a-4268-8727-e54a6b285d77",
   "metadata": {},
   "outputs": [],
   "source": [
    "_conf.conf(\"SOS (Janssens et al., 2012)\")"
   ]
  },
  {
   "cell_type": "markdown",
   "id": "a5b23eed-fbef-4e64-9e7a-e7b0cb35a074",
   "metadata": {
    "tags": []
   },
   "source": [
    "### SO_GAAL"
   ]
  },
  {
   "cell_type": "code",
   "execution_count": null,
   "id": "498d6a54-7758-473b-828b-7c3aad9b1ba9",
   "metadata": {
    "scrolled": true,
    "tags": []
   },
   "outputs": [],
   "source": [
    "np.random.seed(77)\n",
    "clf = SO_GAAL(contamination=0.05)\n",
    "clf.fit(_df[['x', 'y','fnoise']])\n",
    "_df['SO_GAAL_clf'] = clf.labels_"
   ]
  },
  {
   "cell_type": "code",
   "execution_count": null,
   "id": "fbc0891d-3399-4639-afd6-208bf453338b",
   "metadata": {},
   "outputs": [],
   "source": [
    "outlier_SO_GAAL_one = list(clf.labels_)"
   ]
  },
  {
   "cell_type": "code",
   "execution_count": null,
   "id": "c3353c2b-9347-44d2-ba71-3c8cced3bfca",
   "metadata": {},
   "outputs": [],
   "source": [
    "outlier_SO_GAAL_one = list(map(lambda x: 1 if x==0  else -1,outlier_SO_GAAL_one))"
   ]
  },
  {
   "cell_type": "code",
   "execution_count": null,
   "id": "9c8b9234-7ff7-4b80-a3f2-7b5cd9da860d",
   "metadata": {},
   "outputs": [],
   "source": [
    "_conf = Conf_matrx(outlier_true_one_2,outlier_SO_GAAL_one)"
   ]
  },
  {
   "cell_type": "code",
   "execution_count": null,
   "id": "dad4dc36-d6a8-4d5e-98a6-67f79e14c056",
   "metadata": {},
   "outputs": [],
   "source": [
    "_conf.conf(\"SO-GAAL (Liu et al., 2019)\")"
   ]
  },
  {
   "cell_type": "markdown",
   "id": "56ff7c5c-2ae6-44c2-86a4-42d795daddf8",
   "metadata": {
    "tags": []
   },
   "source": [
    "### MO_GAAL"
   ]
  },
  {
   "cell_type": "code",
   "execution_count": null,
   "id": "7adfa27d-2cc5-41e5-90a1-3945e71192fb",
   "metadata": {
    "scrolled": true,
    "tags": []
   },
   "outputs": [],
   "source": [
    "np.random.seed(77)\n",
    "clf = MO_GAAL(contamination=0.05)\n",
    "clf.fit(_df[['x', 'y','fnoise']])\n",
    "_df['MO_GAAL_clf'] = clf.labels_"
   ]
  },
  {
   "cell_type": "code",
   "execution_count": null,
   "id": "0c306dbb-fcb8-48ab-9e0c-5ae0817b9067",
   "metadata": {},
   "outputs": [],
   "source": [
    "outlier_MO_GAAL_one = list(clf.labels_)"
   ]
  },
  {
   "cell_type": "code",
   "execution_count": null,
   "id": "e13a03c9-074f-48f4-b580-2245e661ffd8",
   "metadata": {},
   "outputs": [],
   "source": [
    "outlier_MO_GAAL_one = list(map(lambda x: 1 if x==0  else -1,outlier_MO_GAAL_one))"
   ]
  },
  {
   "cell_type": "code",
   "execution_count": null,
   "id": "07ed9d30-dff7-4f1a-9132-eb6909c00a8b",
   "metadata": {},
   "outputs": [],
   "source": [
    "_conf = Conf_matrx(outlier_true_one_2,outlier_MO_GAAL_one)"
   ]
  },
  {
   "cell_type": "code",
   "execution_count": null,
   "id": "b90d9cdf-9e91-46c3-b14d-3c8a9022f464",
   "metadata": {},
   "outputs": [],
   "source": [
    "_conf.conf(\"MO-GAAL (Liu et al., 2019)\")"
   ]
  },
  {
   "cell_type": "markdown",
   "id": "a04b126d-4f3d-47cd-adb3-5f7ba6eade83",
   "metadata": {
    "tags": []
   },
   "source": [
    "### LSCP"
   ]
  },
  {
   "cell_type": "code",
   "execution_count": null,
   "id": "8dc964e7-1fa2-4e49-8c0d-bdc7064e359a",
   "metadata": {},
   "outputs": [],
   "source": [
    "detectors = [KNN(), LOF(), OCSVM()]\n",
    "clf = LSCP(detectors,contamination=0.05, random_state=77)\n",
    "clf.fit(_df[['x', 'y','fnoise']])\n",
    "_df['LSCP_clf'] = clf.labels_"
   ]
  },
  {
   "cell_type": "code",
   "execution_count": null,
   "id": "01d34ad9-c2dc-419b-8775-7910c792a67b",
   "metadata": {},
   "outputs": [],
   "source": [
    "outlier_LSCP_one = list(clf.labels_)"
   ]
  },
  {
   "cell_type": "code",
   "execution_count": null,
   "id": "addb3065-c030-4714-8578-46a0257a2256",
   "metadata": {},
   "outputs": [],
   "source": [
    "outlier_LSCP_one = list(map(lambda x: 1 if x==0  else -1,outlier_LSCP_one))"
   ]
  },
  {
   "cell_type": "code",
   "execution_count": null,
   "id": "13d15c75-eef0-41ee-b064-a776bf869227",
   "metadata": {},
   "outputs": [],
   "source": [
    "_conf = Conf_matrx(outlier_true_one_2,outlier_LSCP_one)"
   ]
  },
  {
   "cell_type": "code",
   "execution_count": null,
   "id": "f701bbf2-92d6-4d32-af0b-cbd389f6f7ce",
   "metadata": {},
   "outputs": [],
   "source": [
    "_conf.conf(\"LSCP (Zhao et al., 2019)\")"
   ]
  },
  {
   "cell_type": "code",
   "execution_count": null,
   "id": "7c16c103-5a97-4c09-8a4c-8c799d9d5dbd",
   "metadata": {},
   "outputs": [],
   "source": []
  },
  {
   "cell_type": "code",
   "execution_count": null,
   "id": "de2fafbe-195d-4242-8776-55bfd467e8dd",
   "metadata": {},
   "outputs": [],
   "source": []
  },
  {
   "cell_type": "code",
   "execution_count": null,
   "id": "647c2dda-2c66-4df6-ae21-39e1ff314916",
   "metadata": {},
   "outputs": [],
   "source": []
  }
 ],
 "metadata": {
  "kernelspec": {
   "display_name": "Python 3",
   "language": "python",
   "name": "python3"
  },
  "language_info": {
   "codemirror_mode": {
    "name": "ipython",
    "version": 3
   },
   "file_extension": ".py",
   "mimetype": "text/x-python",
   "name": "python",
   "nbconvert_exporter": "python",
   "pygments_lexer": "ipython3",
   "version": "3.8.0"
  }
 },
 "nbformat": 4,
 "nbformat_minor": 5
}

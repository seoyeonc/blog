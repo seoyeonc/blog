{
  "cells": [
    {
      "cell_type": "markdown",
      "metadata": {},
      "source": [
        "# Discrete Fourier Transform\n",
        "\n",
        "SEOYEON CHOI  \n",
        "12/27/22\n",
        "\n",
        "> DFT\n",
        "\n",
        "https://miruetoto.quarto.pub/yechan/posts/CGSP/2022-12-24-CGSP-Chap-8-3-DFT.html#fnref1\n",
        "\n",
        "https://miruetoto.github.io/yechan/%EB%B2%A0%EC%9D%B4%EC%A7%80%EC%95%88/2019/11/24/(%EB%85%B8%ED%8A%B8)-%EB%B2%A0%EC%9D%B4%EC%A7%80%EC%95%88-%EC%B6%94%EB%A1%A0-%EB%B2%A0%EC%9D%B4%EC%A7%80%EC%95%88.html\n",
        "\n",
        "## import"
      ],
      "id": "3b8cf2f9-2a92-41ab-bb65-914f7d30c838"
    },
    {
      "cell_type": "code",
      "execution_count": 12,
      "metadata": {},
      "outputs": [],
      "source": [
        "import numpy as np"
      ],
      "id": "67c5a432-d787-4875-befd-a930ad0f86fc"
    },
    {
      "cell_type": "markdown",
      "metadata": {},
      "source": [
        "### Forward operator A"
      ],
      "id": "0a7a4d14-760e-4eec-9a0a-279f6cdb6099"
    },
    {
      "cell_type": "code",
      "execution_count": 15,
      "metadata": {},
      "outputs": [],
      "source": [
        "A = np.array([[0, 0, 0, 0, 1],\n",
        "    [1, 0, 0, 0, 0],\n",
        "    [0, 1, 0, 0, 0],\n",
        "    [0, 0, 1, 0, 0],\n",
        "    [0, 0, 0, 1, 0]])\n",
        "A"
      ],
      "id": "cc1c7b34-5610-4d64-97a3-5e5db4e6a3b5"
    },
    {
      "cell_type": "code",
      "execution_count": 21,
      "metadata": {},
      "outputs": [],
      "source": [
        "np.transpose(A)@A"
      ],
      "id": "ed5c4e9a-787f-446b-912d-e28dc204aecb"
    },
    {
      "cell_type": "markdown",
      "metadata": {},
      "source": [
        "> note: A is orthogonal matrix"
      ],
      "id": "2764eb24-8cd7-401c-8857-92e74a3ef766"
    },
    {
      "cell_type": "code",
      "execution_count": 23,
      "metadata": {},
      "outputs": [],
      "source": [
        "s = np.array([[1],[22],[333],[4444],[55555]])\n",
        "s"
      ],
      "id": "2b9b273b-6995-49cd-ae77-b076b955321d"
    },
    {
      "cell_type": "code",
      "execution_count": 31,
      "metadata": {},
      "outputs": [],
      "source": [
        "A@s"
      ],
      "id": "944a8aa3-a44a-407f-aefd-404028715ea6"
    },
    {
      "cell_type": "code",
      "execution_count": 33,
      "metadata": {},
      "outputs": [],
      "source": [
        "A@A@s"
      ],
      "id": "af3f8c82-25f7-40fc-8e61-63686ae8e6f6"
    },
    {
      "cell_type": "code",
      "execution_count": 34,
      "metadata": {},
      "outputs": [],
      "source": [
        "A@A@A@s"
      ],
      "id": "d0eb821c-a9e2-4f1e-8911-189f2b0ce008"
    },
    {
      "cell_type": "markdown",
      "metadata": {},
      "source": [
        "> note : thus A is a forward operator,A\\* is a backward operator.\n",
        "\n",
        "### DFT\n",
        "\n",
        "$A = DFT^* \\Lambda DFT$"
      ],
      "id": "60c074c5-464b-4172-a17f-7ff95b1b01a8"
    },
    {
      "cell_type": "code",
      "execution_count": 38,
      "metadata": {},
      "outputs": [],
      "source": [
        "λ, ψ = np.linalg.eig(A)\n",
        "λ, ψ"
      ],
      "id": "638189e4-b877-4baa-817f-216a35293110"
    },
    {
      "cell_type": "code",
      "execution_count": 43,
      "metadata": {},
      "outputs": [],
      "source": [
        "λ.shape, ψ.shape"
      ],
      "id": "763a2bd8-2eeb-469d-9b74-6b41e107b503"
    },
    {
      "cell_type": "code",
      "execution_count": 98,
      "metadata": {},
      "outputs": [],
      "source": [
        "A "
      ],
      "id": "b2a9361c-35c9-47af-ac2c-6dfdc3239f9c"
    },
    {
      "cell_type": "code",
      "execution_count": 101,
      "metadata": {},
      "outputs": [],
      "source": [
        "(ψ @ np.diag(λ) @ ψ.transpose()).round(2)"
      ],
      "id": "3aaa98c7-5eba-41fb-9827-51a61de1be26"
    },
    {
      "cell_type": "markdown",
      "metadata": {},
      "source": [
        "?\n",
        "\n",
        "define $\\psi^* = DFT$"
      ],
      "id": "657ef5f0-5733-4caf-8220-36edf88f4353"
    },
    {
      "cell_type": "code",
      "execution_count": 76,
      "metadata": {},
      "outputs": [],
      "source": [
        "DFT = np.transpose(ψ)\n",
        "DFT"
      ],
      "id": "7cf0011b-3ce2-4187-b4d8-0ebe09b8a3a6"
    },
    {
      "cell_type": "code",
      "execution_count": 89,
      "metadata": {},
      "outputs": [],
      "source": [
        "λ[3,]"
      ],
      "id": "6731b807-789d-4875-bb1d-8b80c56fa9f0"
    },
    {
      "cell_type": "code",
      "execution_count": 92,
      "metadata": {},
      "outputs": [],
      "source": [
        "a=np.array([1,2,3,4])\n",
        "np.diag(np.diag(a))"
      ],
      "id": "b183590a-c6ba-40f8-84c4-f66fc5aefa2b"
    },
    {
      "cell_type": "code",
      "execution_count": 94,
      "metadata": {},
      "outputs": [],
      "source": [
        "λ"
      ],
      "id": "f266b27d-c2cd-454e-85a9-4c0fc0c35c0d"
    },
    {
      "cell_type": "code",
      "execution_count": 106,
      "metadata": {},
      "outputs": [],
      "source": [
        "(np.matrix(ψ)@np.matrix(np.diag(λ))@np.matrix(ψ).H).round(3)"
      ],
      "id": "bb40d752-1c7a-49f9-adcb-69195d05482c"
    },
    {
      "cell_type": "code",
      "execution_count": 109,
      "metadata": {},
      "outputs": [],
      "source": [
        "np.matrix(ψ).H"
      ],
      "id": "86f0333b-65f4-435c-81f5-fd562bca3b55"
    },
    {
      "cell_type": "markdown",
      "metadata": {},
      "source": [
        "### Spectral components and Frequencies\n",
        "\n",
        "$$\\{ 1,\\psi_1, \\psi_2, \\psi_3,\\dots, \\psi_{N-1} \\}$$\n",
        "\n",
        "These vectors are called spectral components.\n",
        "\n",
        "In Physics and in operator theory, these eigenvalues are the frequencies\n",
        "of the signal.\n",
        "\n",
        "Eigenvalues of $A$"
      ],
      "id": "29c14e58-0543-4c9b-983e-3369087b73ae"
    }
  ],
  "nbformat": 4,
  "nbformat_minor": 5,
  "metadata": {
    "kernelspec": {
      "name": "python3",
      "display_name": "Python 3 (ipykernel)",
      "language": "python"
    },
    "language_info": {
      "name": "python",
      "codemirror_mode": {
        "name": "ipython",
        "version": "3"
      },
      "file_extension": ".py",
      "mimetype": "text/x-python",
      "nbconvert_exporter": "python",
      "pygments_lexer": "ipython3",
      "version": "3.8.12"
    }
  }
}
{
 "cells": [
  {
   "cell_type": "raw",
   "id": "1b754dc0-1156-4a42-814a-adc31f8d2e18",
   "metadata": {
    "id": "cac470df-29e7-4148-9bbd-d8b9a32fa570",
    "tags": []
   },
   "source": [
    "---\n",
    "title: \"ITSTGCN add Model\"\n",
    "author: \"SEOYEON CHOI\"\n",
    "date: \"2023-05-06\"\n",
    "categories:\n",
    "  - ITSTGCN\n",
    "---"
   ]
  },
  {
   "cell_type": "markdown",
   "id": "22a78cab-4548-455e-939b-c424abbc08b9",
   "metadata": {
    "tags": []
   },
   "source": [
    "> summerizing it"
   ]
  },
  {
   "cell_type": "markdown",
   "id": "0039cffc-af67-4337-933a-e6e5113e62d1",
   "metadata": {},
   "source": [
    "# 예"
   ]
  },
  {
   "cell_type": "code",
   "execution_count": 2,
   "id": "1642665f-459f-43c1-8b04-26ab15947f1b",
   "metadata": {},
   "outputs": [],
   "source": [
    "import itstgcntry\n",
    "import torch\n",
    "import itstgcntry.planner "
   ]
  },
  {
   "cell_type": "code",
   "execution_count": 3,
   "id": "584165b3-0543-49f2-9964-f71cf287a5e9",
   "metadata": {},
   "outputs": [],
   "source": [
    "from torch_geometric_temporal.dataset import ChickenpoxDatasetLoader\n",
    "loader1 = ChickenpoxDatasetLoader()"
   ]
  },
  {
   "cell_type": "code",
   "execution_count": 4,
   "id": "59b54849-df00-4674-b864-a849f9d298b6",
   "metadata": {},
   "outputs": [],
   "source": [
    "dataset = loader1.get_dataset(lags=2)\n",
    "train_dataset, test_dataset = itstgcntry.temporal_signal_split(dataset, train_ratio=0.8)"
   ]
  },
  {
   "cell_type": "code",
   "execution_count": 5,
   "id": "eef2e8ea-f3dd-4d52-8980-aee438f0ecc3",
   "metadata": {},
   "outputs": [
    {
     "name": "stderr",
     "output_type": "stream",
     "text": [
      "/home/csy/Dropbox/blog/posts/GCN/itstgcntry/utils.py:71: UserWarning: Creating a tensor from a list of numpy.ndarrays is extremely slow. Please consider converting the list to a single numpy.ndarray with numpy.array() before converting to a tensor. (Triggered internally at /opt/conda/conda-bld/pytorch_1682343998658/work/torch/csrc/utils/tensor_new.cpp:245.)\n",
      "  lags = torch.tensor(train_dataset.features).shape[-1]\n"
     ]
    }
   ],
   "source": [
    "mindex = itstgcntry.rand_mindex(train_dataset,mrate=0.8)\n",
    "train_dataset_miss = itstgcntry.miss(train_dataset,mindex,mtype='rand')\n",
    "train_dataset_padded = itstgcntry.padding(train_dataset_miss)"
   ]
  },
  {
   "cell_type": "markdown",
   "id": "1d3bb421-5a6b-4ec7-98a8-2717034f3814",
   "metadata": {},
   "source": [
    "# Fivenodes"
   ]
  },
  {
   "cell_type": "code",
   "execution_count": 6,
   "id": "c24672b3-edae-4c60-91c6-a0ec6ccf3e00",
   "metadata": {},
   "outputs": [],
   "source": [
    "data_dict = itstgcntry.load_data('./data/fivenodes.pkl')\n",
    "loader = itstgcntry.DatasetLoader(data_dict)"
   ]
  },
  {
   "cell_type": "code",
   "execution_count": 7,
   "id": "f87d34db-8df6-4ee1-9e4a-c73d60cb75a9",
   "metadata": {},
   "outputs": [],
   "source": [
    "import pandas as pd"
   ]
  },
  {
   "cell_type": "code",
   "execution_count": 17,
   "id": "17ad47a2-f006-451f-bf0f-bef51a701b3d",
   "metadata": {},
   "outputs": [],
   "source": [
    "plans_stgcn_rand = {\n",
    "    'max_iteration': 3, \n",
    "    'method': ['STGCN', 'IT-STGCN'], \n",
    "    'RecurrentGCN' : ['DCRNN'], # DCRNN, GConvLSTM, MPNNLSTM, TGCN\n",
    "    'mrate': [0.8],\n",
    "    'lags': [2], \n",
    "    'nof_filters': [16], \n",
    "    'inter_method': ['linear'],\n",
    "    'epoch': [5]\n",
    "}"
   ]
  },
  {
   "cell_type": "code",
   "execution_count": 18,
   "id": "4c17140f-8948-4195-884f-d3d9accec9a9",
   "metadata": {},
   "outputs": [],
   "source": [
    "plnr = itstgcntry.planner.PLNR_STGCN_RAND(plans_stgcn_rand,loader,dataset_name='fivenodes')"
   ]
  },
  {
   "cell_type": "code",
   "execution_count": 19,
   "id": "4f964866-a6f8-4990-8502-4821c0622f89",
   "metadata": {},
   "outputs": [
    {
     "name": "stdout",
     "output_type": "stream",
     "text": [
      "1/3 is done\n",
      "2/3 is done\n",
      "3/3 is done\n",
      "All results are stored in ./simulation_results/2023-05-19_00-44-25.csv\n"
     ]
    }
   ],
   "source": [
    "plnr.simulate()"
   ]
  },
  {
   "cell_type": "code",
   "execution_count": null,
   "id": "b5dc2955-4c1d-4a8b-97a4-14fcdbee8377",
   "metadata": {},
   "outputs": [],
   "source": []
  },
  {
   "cell_type": "code",
   "execution_count": null,
   "id": "1c9fcc34-4652-4add-ae1e-2669b10ccf1e",
   "metadata": {},
   "outputs": [],
   "source": []
  },
  {
   "cell_type": "code",
   "execution_count": null,
   "id": "b9d8b07a-4cdf-42bd-94ca-da76c007b298",
   "metadata": {},
   "outputs": [],
   "source": []
  },
  {
   "cell_type": "code",
   "execution_count": null,
   "id": "2c1ab254-65bf-4de6-96be-785e245eddf6",
   "metadata": {},
   "outputs": [],
   "source": []
  }
 ],
 "metadata": {
  "kernelspec": {
   "display_name": "Python 3",
   "language": "python",
   "name": "python3"
  },
  "language_info": {
   "codemirror_mode": {
    "name": "ipython",
    "version": 3
   },
   "file_extension": ".py",
   "mimetype": "text/x-python",
   "name": "python",
   "nbconvert_exporter": "python",
   "pygments_lexer": "ipython3",
   "version": "3.8.0"
  }
 },
 "nbformat": 4,
 "nbformat_minor": 5
}

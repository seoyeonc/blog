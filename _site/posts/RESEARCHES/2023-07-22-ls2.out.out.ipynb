{
  "cells": [
    {
      "cell_type": "markdown",
      "metadata": {},
      "source": [
        "# \n",
        "\n",
        "# **\\[PyG\\]** lesson2: 벤치마크 데이터셋 (train/test분리)\n",
        "\n",
        "신록예찬  \n",
        "2023-07-07"
      ],
      "id": "db020d02-78fd-49cf-8751-7970058dee91"
    },
    {
      "cell_type": "code",
      "execution_count": 1,
      "metadata": {},
      "outputs": [
        {
          "output_type": "stream",
          "name": "stderr",
          "text": [
            "/home/csy/anaconda3/envs/temp_csy/lib/python3.8/site-packages/tqdm/auto.py:21: TqdmWarning: IProgress not found. Please update jupyter and ipywidgets. See https://ipywidgets.readthedocs.io/en/stable/user_install.html\n",
            "  from .autonotebook import tqdm as notebook_tqdm"
          ]
        }
      ],
      "source": [
        "import torch_geometric"
      ],
      "id": "7e049bd7-8d0f-40e8-a97d-c147dd785173"
    },
    {
      "cell_type": "markdown",
      "metadata": {},
      "source": [
        "# Download notebook\n",
        "\n",
        "``` default\n",
        "!wget https://raw.githubusercontent.com/miruetoto/yechan3/main/posts/2_Studies/PyG/ls2.ipynb\n",
        "```\n",
        "\n",
        "# Ref\n",
        "\n",
        "-   <https://pytorch-geometric.readthedocs.io/en/latest/get_started/introduction.html>\n",
        "-   <https://pytorch-geometric.readthedocs.io/en/latest/cheatsheet/data_cheatsheet.html>\n",
        "\n",
        "# 벤치마크 데이터셋\n",
        "\n",
        "`-` 데이터셋은 아래의 모듈안에 정리되어 있음"
      ],
      "id": "08081ed0-0463-427f-9720-1b7c9e57b444"
    },
    {
      "cell_type": "code",
      "execution_count": 2,
      "metadata": {},
      "outputs": [],
      "source": [
        "dir(torch_geometric.datasets)[:5]"
      ],
      "id": "968bd714-9093-493f-9ac0-fc0c98a5ed30"
    },
    {
      "cell_type": "markdown",
      "metadata": {},
      "source": [
        "# **데이터셋1**: TUDataset\n",
        "\n",
        "`-` 다운로드"
      ],
      "id": "a224f925-7221-4ecc-a013-77e29fc88782"
    },
    {
      "cell_type": "code",
      "execution_count": 3,
      "metadata": {},
      "outputs": [
        {
          "output_type": "stream",
          "name": "stderr",
          "text": [
            "Downloading https://www.chrsmrrs.com/graphkerneldatasets/ENZYMES.zip\n",
            "Extracting /tmp/ENZYMES/ENZYMES/ENZYMES.zip\n",
            "Processing...\n",
            "Done!"
          ]
        }
      ],
      "source": [
        "dataset = torch_geometric.datasets.TUDataset(root='/tmp/ENZYMES', name='ENZYMES')"
      ],
      "id": "52d8758d-0ed5-49d3-89e9-df7b9f5c14d2"
    },
    {
      "cell_type": "code",
      "execution_count": 4,
      "metadata": {},
      "outputs": [
        {
          "output_type": "stream",
          "name": "stdout",
          "text": [
            "ENZYMES\n",
            "Rtmp0d0w4u\n",
            "Rtmp1uvosb\n",
            "Rtmp3D2vcG\n",
            "Rtmp44FGCf\n",
            "Rtmp4ekp1G\n",
            "Rtmp5zQZ7f\n",
            "Rtmp6Aqjn9\n",
            "Rtmp8SRqeA\n",
            "Rtmp8iV8GY\n",
            "Rtmp9RDC4h\n",
            "RtmpBOkgTD\n",
            "RtmpDr9n3o\n",
            "RtmpE0w8pP\n",
            "RtmpEgYVqu\n",
            "RtmpEl7QTm\n",
            "RtmpFeImCs\n",
            "RtmpFmhp1e\n",
            "RtmpGOARHe\n",
            "RtmpKLQ4g9\n",
            "RtmpL7P0uL\n",
            "RtmpLcdCbN\n",
            "RtmpMpEHD4\n",
            "RtmpOBjmj9\n",
            "RtmpOldkCG\n",
            "RtmpPL5aqG\n",
            "RtmpPPPXuL\n",
            "RtmpQdjXXP\n",
            "RtmpTnWgqy\n",
            "RtmpUu8TkG\n",
            "RtmpVZ8b1G\n",
            "RtmpWPuxY0\n",
            "RtmpXaQxuK\n",
            "RtmpZQXbWV\n",
            "RtmpZVl5wD\n",
            "RtmpZbltsD\n",
            "Rtmpf3XUWv\n",
            "Rtmphh0IeU\n",
            "RtmpiMl5X7\n",
            "RtmpiYetgv\n",
            "RtmpkuWMxJ\n",
            "RtmpnEvGCG\n",
            "Rtmpp50EUq\n",
            "RtmptUcaRd\n",
            "Rtmptfuzcf\n",
            "RtmpudULKs\n",
            "RtmpuyoGfm\n",
            "Rtmpw3VuI5\n",
            "RtmpyQeKId\n",
            "__autograph_generated_file430lm2pd.py\n",
            "__autograph_generated_file52srl_jv.py\n",
            "__autograph_generated_file6_nk4ksw.py\n",
            "__autograph_generated_fileamhf1l7g.py\n",
            "__autograph_generated_filegjdd1fac.py\n",
            "__autograph_generated_filemy63yhq6.py\n",
            "__autograph_generated_filenb5xfoyk.py\n",
            "__autograph_generated_fileyzbye00x.py\n",
            "__autograph_generated_filezr0_2k4f.py\n",
            "__pycache__\n",
            "quarto-session152a4cba\n",
            "quarto-session1686cca4\n",
            "quarto-session2a43de6f\n",
            "quarto-session2a944a7b\n",
            "quarto-session534bf3db\n",
            "quarto-session9f442f6c\n",
            "quarto-sessiona3c0156c\n",
            "quarto-sessionb632f660\n",
            "quarto-sessionbcbd8145\n",
            "quarto-sessionbf2ff88d\n",
            "quarto-sessionda8525d4\n",
            "quarto-sessionec0b2ed4\n",
            "quarto-sessionf3d60c95\n",
            "snap-private-tmp\n",
            "systemd-private-39daab962ea2479c8b8ce3f60ea86a38-ModemManager.service-cB7j4i\n",
            "systemd-private-39daab962ea2479c8b8ce3f60ea86a38-colord.service-YdaPNi\n",
            "systemd-private-39daab962ea2479c8b8ce3f60ea86a38-switcheroo-control.service-2a7hSg\n",
            "systemd-private-39daab962ea2479c8b8ce3f60ea86a38-systemd-logind.service-FATPQg\n",
            "systemd-private-39daab962ea2479c8b8ce3f60ea86a38-systemd-resolved.service-oRk1Ei\n",
            "systemd-private-39daab962ea2479c8b8ce3f60ea86a38-systemd-timesyncd.service-rxKFnh\n",
            "systemd-private-39daab962ea2479c8b8ce3f60ea86a38-upower.service-z0HyVh\n",
            "tfhub_modules\n",
            "tmp_h0vghma.json\n",
            "tracker-extract-files.1000\n",
            "tracker-extract-files.125"
          ]
        }
      ],
      "source": [
        "!ls /tmp"
      ],
      "id": "87830595-1f62-4d2f-80eb-dd3e23c168c9"
    },
    {
      "cell_type": "markdown",
      "metadata": {},
      "source": [
        "-   `/tmp` 에 다운로드되어있음\n",
        "\n",
        "## 정보\n",
        "\n",
        "`-` 기본정보: ENZYMES dataset\n",
        "\n",
        "> (ChatGPT) ENZYMES는 그래프 분류를 위한 벤치마크 데이터셋 중\n",
        "> 하나입니다. 이 데이터셋은 600개의 그래프로 구성되어 있으며, 6개의\n",
        "> 클래스로 분류됩니다. 각 그래프는 효소(enzyme) 분자의 구조를 나타내며,\n",
        "> 그래프의 노드는 원자(atom)를 나타내고, 엣지(edge)는 원자 간의 연결을\n",
        "> 나타냅니다. ENZYMES 데이터셋은 화학 및 생물 정보학 분야에서 그래프\n",
        "> 분류 알고리즘의 성능을 평가하기 위해 사용될 수 있습니다. 그래프 분류\n",
        "> 알고리즘은 주어진 그래프를 특정 클래스 레이블로 분류하는 작업을\n",
        "> 수행하는데 사용됩니다. 예를 들어, ENZYMES 데이터셋의 그래프는 특정\n",
        "> 효소 종류를 나타내며, 그래프 분류 알고리즘은 주어진 효소 그래프가 어떤\n",
        "> 종류의 효소인지 예측할 수 있습니다. PyG를 사용하여 ENZYMES 데이터셋을\n",
        "> 초기화하면 해당 데이터셋을 다운로드하고 필요한 전처리를 자동으로\n",
        "> 수행할 수 있습니다. 그래프 데이터를 다루는 머신 러닝 모델을 구축하고\n",
        "> 훈련시키기 위해 ENZYMES 데이터셋을 사용할 수 있습니다."
      ],
      "id": "7037bc77-5f00-492b-add1-4904d35dfc9a"
    },
    {
      "cell_type": "code",
      "execution_count": 5,
      "metadata": {},
      "outputs": [],
      "source": [
        "dataset # 데이터셋 이름"
      ],
      "id": "b991b5db-2e48-4de9-b9ff-2144937ef8da"
    },
    {
      "cell_type": "code",
      "execution_count": 6,
      "metadata": {},
      "outputs": [],
      "source": [
        "len(dataset) # 이 데이터셋에는 600개의 그래프가 있음"
      ],
      "id": "d442d932-8aec-4468-b6c7-a5f365c44200"
    },
    {
      "cell_type": "code",
      "execution_count": 7,
      "metadata": {},
      "outputs": [],
      "source": [
        "dataset.num_classes # 6개의 클래스"
      ],
      "id": "c7fc8ad1-0ff8-4309-a0a8-576c0cbca4c7"
    },
    {
      "cell_type": "code",
      "execution_count": 8,
      "metadata": {},
      "outputs": [],
      "source": [
        "dataset.num_node_features # 각 노드에는 3개의 피처가 있음"
      ],
      "id": "8a9ac57d-b7c7-4114-b72d-badd0d9867a3"
    },
    {
      "cell_type": "markdown",
      "metadata": {},
      "source": [
        "`-` 600개의 그래프중 첫번째 그래프에 접근"
      ],
      "id": "27202098-52ca-4616-af02-c3b44eb64a4d"
    },
    {
      "cell_type": "code",
      "execution_count": 9,
      "metadata": {},
      "outputs": [],
      "source": [
        "dataset[0]"
      ],
      "id": "320f0ea1-14d0-4159-bef2-98e909cff47c"
    },
    {
      "cell_type": "markdown",
      "metadata": {},
      "source": [
        "-   `x=[37, 3]`: $|{\\cal V}|=37$, $f \\in \\mathbb{R}^3$\n",
        "-   `edge_index=[2, 168]`: $|{\\cal E}|=168$\n",
        "\n",
        "## Train/Test 분리\n",
        "\n",
        "`-` 600개의 그래프중 540를 train으로, 60개를 test로"
      ],
      "id": "3a212d36-f1ed-48d0-b5c7-2aaca2d3bb38"
    },
    {
      "cell_type": "code",
      "execution_count": 10,
      "metadata": {},
      "outputs": [],
      "source": [
        "train_dataset = dataset[:540]\n",
        "test_dataset = dataset[540:] "
      ],
      "id": "75ff8d24-dfd8-4d6e-9317-980626965662"
    },
    {
      "cell_type": "markdown",
      "metadata": {},
      "source": [
        "# **데이터셋2**: Cora\n",
        "\n",
        "`-` 다운로드"
      ],
      "id": "54b65264-9311-4949-8669-f317ed25f9df"
    },
    {
      "cell_type": "code",
      "execution_count": 11,
      "metadata": {},
      "outputs": [
        {
          "output_type": "stream",
          "name": "stderr",
          "text": [
            "Downloading https://github.com/kimiyoung/planetoid/raw/master/data/ind.cora.x\n",
            "Downloading https://github.com/kimiyoung/planetoid/raw/master/data/ind.cora.tx\n",
            "Downloading https://github.com/kimiyoung/planetoid/raw/master/data/ind.cora.allx\n",
            "Downloading https://github.com/kimiyoung/planetoid/raw/master/data/ind.cora.y\n",
            "Downloading https://github.com/kimiyoung/planetoid/raw/master/data/ind.cora.ty\n",
            "Downloading https://github.com/kimiyoung/planetoid/raw/master/data/ind.cora.ally\n",
            "Downloading https://github.com/kimiyoung/planetoid/raw/master/data/ind.cora.graph\n",
            "Downloading https://github.com/kimiyoung/planetoid/raw/master/data/ind.cora.test.index\n",
            "Processing...\n",
            "Done!"
          ]
        }
      ],
      "source": [
        "dataset = torch_geometric.datasets.Planetoid(root='/tmp/Cora', name='Cora')"
      ],
      "id": "b32d434a-616e-4c20-9e81-a456eba699eb"
    },
    {
      "cell_type": "markdown",
      "metadata": {},
      "source": [
        "## 정보\n",
        "\n",
        "> ChatGPT: Cora는 그래프 분류를 위한 벤치마크 데이터셋 중 하나로,\n",
        "> PyG에서도 사용할 수 있습니다. 이 데이터셋은 기계 학습 및 정보 검색\n",
        "> 분야에서 널리 사용되는 학술 논문들의 인용 네트워크를 나타냅니다. Cora\n",
        "> 데이터셋은 컴퓨터 과학 분야의 논문을 대상으로 합니다. 각 논문은\n",
        "> 그래프의 노드로 표현되며, 노드는 논문을 나타냅니다. 노드 간의 엣지는\n",
        "> 논문들 사이의 인용 관계를 나타냅니다. 따라서 Cora 데이터셋은 논문의\n",
        "> 텍스트 기반 정보와 인용 관계에 대한 그래프 구조를 제공합니다. Cora\n",
        "> 데이터셋은 7개의 클래스로 분류되며, 각 논문은 특성 벡터(feature\n",
        "> vector)로 표현됩니다. 이 특성 벡터에는 논문의 단어 등 다양한 정보가\n",
        "> 포함될 수 있습니다. PyG를 사용하여 Cora 데이터셋을 초기화하면 해당\n",
        "> 데이터셋을 다운로드하고 전처리를 자동으로 수행할 수 있습니다. 이를\n",
        "> 통해 머신 러닝 모델을 훈련시켜 Cora 데이터셋의 논문을 분류하거나\n",
        "> 다양한 작업을 수행할 수 있습니다.\n",
        "\n",
        "`-` 기본정보"
      ],
      "id": "722065b7-7dc7-41ad-9010-5a16a926203c"
    },
    {
      "cell_type": "code",
      "execution_count": 12,
      "metadata": {},
      "outputs": [],
      "source": [
        "len(dataset) # 하나의 그래프가 있음"
      ],
      "id": "b532eb7a-6008-4224-9ccf-7c4d043710c7"
    },
    {
      "cell_type": "code",
      "execution_count": 13,
      "metadata": {},
      "outputs": [],
      "source": [
        "dataset.num_classes # 7개의 클래스가 있음"
      ],
      "id": "2f554968-5c64-4842-8475-c3045ee102b3"
    },
    {
      "cell_type": "code",
      "execution_count": 14,
      "metadata": {},
      "outputs": [],
      "source": [
        "dataset.num_node_features # 각 노드는 1433개의 특징이 있음. (논문에 포함된 단어등 다양한 특성이 담겨있을 수 있음) "
      ],
      "id": "ed2f1bec-ec46-4cd8-9f8e-187d811db9e4"
    },
    {
      "cell_type": "markdown",
      "metadata": {},
      "source": [
        "`-` 그래프에 접근"
      ],
      "id": "6ca3ace1-ac58-4613-bf99-05a5ebf9dbfc"
    },
    {
      "cell_type": "code",
      "execution_count": 15,
      "metadata": {},
      "outputs": [],
      "source": [
        "dataset[0] # 기본정보"
      ],
      "id": "2e96ab3e-842b-48a1-979c-6c344ee9c157"
    },
    {
      "cell_type": "markdown",
      "metadata": {},
      "source": [
        "-   `x=[2708, 1433]`: 2708개의 논문이 있고, 각 논문은 1433개의\n",
        "    특징벡터들로 이루어져 있음.\n",
        "-   `edge_index=[2, 10556]`: 논문간의 인용은 약 10556.\n",
        "-   `y=[2708]`:"
      ],
      "id": "590e122c-9134-45d2-a118-6d2c0931df17"
    },
    {
      "cell_type": "code",
      "execution_count": 16,
      "metadata": {},
      "outputs": [],
      "source": [
        "dataset[0].x.shape # 2708개의 논문이 있고 1433개의 특징벡터를 가짐"
      ],
      "id": "7bfe03fc-cd3e-4ab1-b1a0-d7ca0bf5523f"
    },
    {
      "cell_type": "code",
      "execution_count": 17,
      "metadata": {},
      "outputs": [],
      "source": [
        "dataset[0].y.unique() # 논문이 7개의 카테고리로 분류되는듯"
      ],
      "id": "2005a817-9994-48f4-9a0c-c626c244682b"
    },
    {
      "cell_type": "markdown",
      "metadata": {},
      "source": [
        "## Train/Test (이미 분리되어 있음)"
      ],
      "id": "9761c9c5-03e3-476c-9d2e-f5875efa6ad5"
    },
    {
      "cell_type": "code",
      "execution_count": 18,
      "metadata": {},
      "outputs": [],
      "source": [
        "dataset[0].train_mask \n",
        "# dataset[0].train_mask 는 True, False로 이루어져 있는 길이가 2708(=노드수=논문수)인 벡터\n",
        "# 여기에서 True인 노드만 훈련함"
      ],
      "id": "a64bcee4-4f96-4530-93b7-b5c1d7f6103f"
    },
    {
      "cell_type": "code",
      "execution_count": 19,
      "metadata": {},
      "outputs": [],
      "source": [
        "dataset[0].train_mask.sum() # 140개의 노드만 훈련함? "
      ],
      "id": "04697d38-639c-44d8-a5bf-6309ce0d88c9"
    },
    {
      "cell_type": "code",
      "execution_count": 20,
      "metadata": {},
      "outputs": [],
      "source": [
        "dataset[0].val_mask.sum() # val은 500개의 노드?"
      ],
      "id": "c4c94811-92d4-4bbe-9b3e-efb6650908b9"
    },
    {
      "cell_type": "code",
      "execution_count": 21,
      "metadata": {},
      "outputs": [],
      "source": [
        "dataset[0].test_mask.sum() # test set은 1000?"
      ],
      "id": "3fb3942b-7a42-4946-bfa8-f30d7fbfb695"
    }
  ],
  "nbformat": 4,
  "nbformat_minor": 5,
  "metadata": {
    "kernelspec": {
      "name": "python3",
      "display_name": "Python 3",
      "language": "python"
    },
    "language_info": {
      "name": "python",
      "codemirror_mode": {
        "name": "ipython",
        "version": "3"
      },
      "file_extension": ".py",
      "mimetype": "text/x-python",
      "nbconvert_exporter": "python",
      "pygments_lexer": "ipython3",
      "version": "3.8.0"
    }
  }
}
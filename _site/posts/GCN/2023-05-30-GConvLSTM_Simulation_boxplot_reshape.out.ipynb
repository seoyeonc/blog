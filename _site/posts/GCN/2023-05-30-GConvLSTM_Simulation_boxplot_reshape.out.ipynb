{
  "cells": [
    {
      "cell_type": "markdown",
      "metadata": {},
      "source": [
        "# GConvLSTM_Simulation_reshape\n",
        "\n",
        "SEOYEON CHOI  \n",
        "5/30/23\n",
        "\n",
        "> Simulation Study"
      ],
      "id": "392e95b1-75c5-4553-8317-a5070dcd0c4c"
    },
    {
      "cell_type": "code",
      "execution_count": null,
      "metadata": {},
      "outputs": [],
      "source": [
        "import itstgcnGConvLSTM\n",
        "import torch\n",
        "import itstgcnGConvLSTM.planner \n",
        "import pandas as pd\n",
        "\n",
        "import numpy as np\n",
        "import random"
      ],
      "id": "604c4f4b-64a6-4703-b743-2433c7824f83"
    },
    {
      "cell_type": "code",
      "execution_count": 5,
      "metadata": {},
      "outputs": [],
      "source": [
        "from torch_geometric_temporal.dataset import WikiMathsDatasetLoader\n",
        "loader3 = WikiMathsDatasetLoader()"
      ],
      "id": "0084e8a4-8b70-4a48-91fb-805d3fd9b02c"
    },
    {
      "cell_type": "code",
      "execution_count": 6,
      "metadata": {},
      "outputs": [],
      "source": [
        "from torch_geometric_temporal.dataset import MontevideoBusDatasetLoader\n",
        "loader10 = MontevideoBusDatasetLoader()"
      ],
      "id": "ab64cbad-87a1-42d2-99fd-7e4d5aa24fc2"
    },
    {
      "cell_type": "markdown",
      "metadata": {},
      "source": [
        "# wiki 안 돌림"
      ],
      "id": "871dbbc6-c130-42c1-8687-b58d4967c2b7"
    },
    {
      "cell_type": "code",
      "execution_count": null,
      "metadata": {},
      "outputs": [],
      "source": [
        "plans_stgcn_rand = {\n",
        "    'max_iteration': 5, \n",
        "    'method': ['STGCN', 'IT-STGCN'],\n",
        "    'mrate': [0.5],\n",
        "    'lags': [8], \n",
        "    'nof_filters': [12], \n",
        "    'inter_method': ['linear'],\n",
        "    'epoch': [50]\n",
        "}"
      ],
      "id": "5e576013-3884-48f4-af08-3cf9f6c50b29"
    },
    {
      "cell_type": "code",
      "execution_count": null,
      "metadata": {},
      "outputs": [],
      "source": [
        "plnr = itstgcn.planner.PLNR_STGCN_RAND(plans_stgcn_rand,loader3,dataset_name='wikimath')\n",
        "plnr.simulate()"
      ],
      "id": "716e3507-5f2a-4300-9b8b-8bcf649ef37f"
    },
    {
      "cell_type": "code",
      "execution_count": null,
      "metadata": {},
      "outputs": [],
      "source": [
        "plnr = itstgcn.planner.PLNR_STGCN_RAND(plans_stgcn_rand,loader3,dataset_name='wikimath')\n",
        "plnr.simulate()"
      ],
      "id": "4553a4dc-ffa6-419b-81b0-2a5069c1b9d4"
    },
    {
      "cell_type": "code",
      "execution_count": null,
      "metadata": {},
      "outputs": [],
      "source": [
        "plnr = itstgcn.planner.PLNR_STGCN_RAND(plans_stgcn_rand,loader3,dataset_name='wikimath')\n",
        "plnr.simulate()"
      ],
      "id": "631f447a-d5a7-412a-826e-68ca274c8807"
    },
    {
      "cell_type": "code",
      "execution_count": null,
      "metadata": {},
      "outputs": [],
      "source": [
        "plnr = itstgcn.planner.PLNR_STGCN_RAND(plans_stgcn_rand,loader3,dataset_name='wikimath')\n",
        "plnr.simulate()"
      ],
      "id": "2aa5eb74-baa6-4f7f-9f78-5e90d383798b"
    },
    {
      "cell_type": "code",
      "execution_count": null,
      "metadata": {},
      "outputs": [],
      "source": [
        "plnr = itstgcn.planner.PLNR_STGCN_RAND(plans_stgcn_rand,loader3,dataset_name='wikimath')\n",
        "plnr.simulate()"
      ],
      "id": "b8a8717e-2c77-4d03-a1ed-46cddc9bed4d"
    },
    {
      "cell_type": "code",
      "execution_count": null,
      "metadata": {},
      "outputs": [],
      "source": [
        "plnr = itstgcn.planner.PLNR_STGCN_RAND(plans_stgcn_rand,loader3,dataset_name='wikimath')\n",
        "plnr.simulate()"
      ],
      "id": "8d59db59-5135-44ed-a21a-f4816970c58c"
    },
    {
      "cell_type": "code",
      "execution_count": null,
      "metadata": {},
      "outputs": [],
      "source": [
        "plans_stgcn_rand = {\n",
        "    'max_iteration': 5, \n",
        "    'method': ['STGCN', 'IT-STGCN'],\n",
        "    'mrate': [0.6],\n",
        "    'lags': [8], \n",
        "    'nof_filters': [12], \n",
        "    'inter_method': ['linear'],\n",
        "    'epoch': [50]\n",
        "}"
      ],
      "id": "fb7be7ed-0125-4cb0-9bb7-c14bb5353cce"
    },
    {
      "cell_type": "code",
      "execution_count": null,
      "metadata": {},
      "outputs": [],
      "source": [
        "plnr = itstgcn.planner.PLNR_STGCN_RAND(plans_stgcn_rand,loader3,dataset_name='wikimath')\n",
        "plnr.simulate()"
      ],
      "id": "3670e78f-ca9f-4dc7-9f63-bf9b0dda585e"
    },
    {
      "cell_type": "code",
      "execution_count": null,
      "metadata": {},
      "outputs": [],
      "source": [
        "plnr = itstgcn.planner.PLNR_STGCN_RAND(plans_stgcn_rand,loader3,dataset_name='wikimath')\n",
        "plnr.simulate()"
      ],
      "id": "549b68c3-c5c5-42cc-9712-73dc04c07b64"
    },
    {
      "cell_type": "code",
      "execution_count": null,
      "metadata": {},
      "outputs": [],
      "source": [
        "plnr = itstgcn.planner.PLNR_STGCN_RAND(plans_stgcn_rand,loader3,dataset_name='wikimath')\n",
        "plnr.simulate()"
      ],
      "id": "e5a5b51d-50ce-42e3-a94e-a95a1da489f6"
    },
    {
      "cell_type": "code",
      "execution_count": null,
      "metadata": {},
      "outputs": [],
      "source": [
        "plnr = itstgcn.planner.PLNR_STGCN_RAND(plans_stgcn_rand,loader3,dataset_name='wikimath')\n",
        "plnr.simulate()"
      ],
      "id": "c2259e7b-9b14-4077-b1a0-3c6942fb3179"
    },
    {
      "cell_type": "code",
      "execution_count": null,
      "metadata": {},
      "outputs": [],
      "source": [
        "plnr = itstgcn.planner.PLNR_STGCN_RAND(plans_stgcn_rand,loader3,dataset_name='wikimath')\n",
        "plnr.simulate()"
      ],
      "id": "8cea099b-a4d0-4d1f-b580-e9ed5b469dfc"
    },
    {
      "cell_type": "code",
      "execution_count": null,
      "metadata": {},
      "outputs": [],
      "source": [
        "plnr = itstgcn.planner.PLNR_STGCN_RAND(plans_stgcn_rand,loader3,dataset_name='wikimath')\n",
        "plnr.simulate()"
      ],
      "id": "67a25d70-667a-4156-91bf-093ebb54120c"
    },
    {
      "cell_type": "code",
      "execution_count": 56,
      "metadata": {},
      "outputs": [],
      "source": [
        "plans_stgcn_rand = {\n",
        "    'max_iteration': 10, \n",
        "    'method': ['STGCN', 'IT-STGCN'],\n",
        "    'mrate': [0.3],\n",
        "    'lags': [4], \n",
        "    'nof_filters': [12], \n",
        "    'inter_method': ['nearest'],\n",
        "    'epoch': [50]\n",
        "}"
      ],
      "id": "c4a9c1eb-6a36-446d-98e8-1e0cf3378f78"
    },
    {
      "cell_type": "code",
      "execution_count": null,
      "metadata": {},
      "outputs": [
        {
          "output_type": "stream",
          "name": "stdout",
          "text": [
            "24/50"
          ]
        }
      ],
      "source": [
        "plnr = itstgcnGConvLSTM.planner.PLNR_STGCN_RAND(plans_stgcn_rand,loader10,dataset_name='monte')\n",
        "plnr.simulate()"
      ],
      "id": "bc54feae-e43b-42e8-816d-bffb0ee6afce"
    },
    {
      "cell_type": "code",
      "execution_count": null,
      "metadata": {},
      "outputs": [],
      "source": [
        "plnr = itstgcnGConvLSTM.planner.PLNR_STGCN_RAND(plans_stgcn_rand,loader10,dataset_name='monte')\n",
        "plnr.simulate()"
      ],
      "id": "faaed07b-9836-4c46-b865-c06bc786e8f5"
    },
    {
      "cell_type": "code",
      "execution_count": null,
      "metadata": {},
      "outputs": [],
      "source": [
        "plnr = itstgcnGConvLSTM.planner.PLNR_STGCN_RAND(plans_stgcn_rand,loader10,dataset_name='monte')\n",
        "plnr.simulate()"
      ],
      "id": "6e5caeae-d2e3-4c2a-86c8-7a1d3df075a5"
    },
    {
      "cell_type": "code",
      "execution_count": null,
      "metadata": {},
      "outputs": [],
      "source": [
        "plans_stgcn_rand = {\n",
        "    'max_iteration': 10, \n",
        "    'method': ['STGCN', 'IT-STGCN'],\n",
        "    'mrate': [0.5],\n",
        "    'lags': [4], \n",
        "    'nof_filters': [12], \n",
        "    'inter_method': ['nearest'],\n",
        "    'epoch': [50]\n",
        "}"
      ],
      "id": "8dfc1b0f-f218-40b2-a304-0d5e591f8588"
    },
    {
      "cell_type": "code",
      "execution_count": null,
      "metadata": {},
      "outputs": [],
      "source": [
        "plnr = itstgcnGConvLSTM.planner.PLNR_STGCN_RAND(plans_stgcn_rand,loader10,dataset_name='monte')\n",
        "plnr.simulate()"
      ],
      "id": "3a2d3ed3-de8d-43f6-9ea9-a56174e70eff"
    },
    {
      "cell_type": "code",
      "execution_count": null,
      "metadata": {},
      "outputs": [],
      "source": [
        "plnr = itstgcnGConvLSTM.planner.PLNR_STGCN_RAND(plans_stgcn_rand,loader10,dataset_name='monte')\n",
        "plnr.simulate()"
      ],
      "id": "bc4902bd-acee-4035-8fe0-491505ded7c1"
    },
    {
      "cell_type": "code",
      "execution_count": null,
      "metadata": {},
      "outputs": [],
      "source": [
        "plnr = itstgcnGConvLSTM.planner.PLNR_STGCN_RAND(plans_stgcn_rand,loader10,dataset_name='monte')\n",
        "plnr.simulate()"
      ],
      "id": "dddf77d4-f7be-423a-9cc2-769547239813"
    },
    {
      "cell_type": "code",
      "execution_count": null,
      "metadata": {},
      "outputs": [],
      "source": [
        "plans_stgcn_rand = {\n",
        "    'max_iteration': 10, \n",
        "    'method': ['STGCN', 'IT-STGCN'],\n",
        "    'mrate': [0.7],\n",
        "    'lags': [4], \n",
        "    'nof_filters': [12], \n",
        "    'inter_method': ['nearest'],\n",
        "    'epoch': [50]\n",
        "}"
      ],
      "id": "f0c98cdd-e0e5-45b1-a6b1-4ab0e1f64664"
    },
    {
      "cell_type": "code",
      "execution_count": null,
      "metadata": {},
      "outputs": [],
      "source": [
        "plnr = itstgcnGConvLSTM.planner.PLNR_STGCN_RAND(plans_stgcn_rand,loader10,dataset_name='monte')\n",
        "plnr.simulate()"
      ],
      "id": "35841a42-cf48-4062-80a6-00ee7f086955"
    },
    {
      "cell_type": "code",
      "execution_count": null,
      "metadata": {},
      "outputs": [],
      "source": [
        "plnr = itstgcnGConvLSTM.planner.PLNR_STGCN_RAND(plans_stgcn_rand,loader10,dataset_name='monte')\n",
        "plnr.simulate()"
      ],
      "id": "63cc9256-baf7-46e1-9bdc-38050e8576b1"
    },
    {
      "cell_type": "code",
      "execution_count": null,
      "metadata": {},
      "outputs": [],
      "source": [
        "plnr = itstgcnGConvLSTM.planner.PLNR_STGCN_RAND(plans_stgcn_rand,loader10,dataset_name='monte')\n",
        "plnr.simulate()"
      ],
      "id": "fb6fadff-75c3-4b43-9c7b-9c1d85a26878"
    },
    {
      "cell_type": "markdown",
      "metadata": {},
      "source": [
        "# Import"
      ],
      "id": "868b2b97-eaff-4140-8f9d-40fdfbacdb28"
    },
    {
      "cell_type": "code",
      "execution_count": 28,
      "metadata": {},
      "outputs": [],
      "source": [
        "import matplotlib.pyplot as plt\n",
        "import pandas as pd\n",
        "import numpy as np"
      ],
      "id": "f520cc29-9536-41ac-a5c0-23cf17eb2865"
    },
    {
      "cell_type": "markdown",
      "metadata": {},
      "source": [
        "# Fivenodes"
      ],
      "id": "b0605d83-72b3-4340-a72e-7c6213ef8eff"
    },
    {
      "cell_type": "code",
      "execution_count": 29,
      "metadata": {},
      "outputs": [],
      "source": [
        "# df5 = pd.read_csv('./simulation_results/2023-06-04_13-29-16.csv')\n",
        "# df6 = pd.read_csv('./simulation_results/2023-06-04_13-39-55.csv')\n",
        "# df7 = pd.read_csv('./simulation_results/2023-06-04_13-50-24.csv')\n",
        "# k=1"
      ],
      "id": "a3831636-95a4-4e65-8b59-7d0a4b448037"
    },
    {
      "cell_type": "code",
      "execution_count": 30,
      "metadata": {},
      "outputs": [],
      "source": [
        "df1 = pd.read_csv('./simulation_results/2023-06-07_08-10-42.csv')\n",
        "df2 = pd.read_csv('./simulation_results/2023-06-07_09-14-08.csv')\n",
        "df3 = pd.read_csv('./simulation_results/2023-06-07_10-17-23.csv')\n",
        "df4 = pd.read_csv('./simulation_results/2023-06-07_11-20-35.csv')\n",
        "df5 = pd.read_csv('./simulation_results/2023-06-07_12-23-45.csv')\n",
        "df6 = pd.read_csv('./simulation_results/2023-06-07_13-15-54.csv')\n",
        "df7 = pd.read_csv('./simulation_results/2023-06-13_11-25-39.csv')\n",
        "df8 = pd.read_csv('./simulation_results/2023-06-13_12-25-51.csv')"
      ],
      "id": "4046be15-1ca7-4c24-a42c-1c7ff5b88adf"
    },
    {
      "cell_type": "code",
      "execution_count": 31,
      "metadata": {},
      "outputs": [],
      "source": [
        "df9 = pd.read_csv('./simulation_results/2023-07-16_09-20-23.csv')\n",
        "df10 = pd.read_csv('./simulation_results/2023-07-16_10-22-53.csv')\n",
        "df11 = pd.read_csv('./simulation_results/2023-07-16_11-27-39.csv')\n",
        "df12 = pd.read_csv('./simulation_results/2023-07-16_12-30-05.csv')\n",
        "df13 = pd.read_csv('./simulation_results/2023-07-16_13-33-28.csv')\n",
        "df14 = pd.read_csv('./simulation_results/2023-07-16_14-34-12.csv')"
      ],
      "id": "980b67d6-9126-4a44-89b3-b60b885d0d8e"
    },
    {
      "cell_type": "code",
      "execution_count": 32,
      "metadata": {},
      "outputs": [],
      "source": [
        "data = pd.concat([df1,df2,df3,df4,df5,df6,df7,df8,df9,df10,df11,df12,df13,df14],axis=0)"
      ],
      "id": "9ac56e59-5772-4e3c-891d-24ef32322714"
    },
    {
      "cell_type": "code",
      "execution_count": 33,
      "metadata": {},
      "outputs": [],
      "source": [
        "data.to_csv('./simulation_results/Real_simulation_reshape/GConvLSTM_fivedones_Simulation.csv',index=False)"
      ],
      "id": "a5a32933-4df4-4148-bde5-29acdadc133c"
    },
    {
      "cell_type": "code",
      "execution_count": 34,
      "metadata": {},
      "outputs": [],
      "source": [
        "data = pd.read_csv('./simulation_results/Real_simulation_reshape/GConvLSTM_fivedones_Simulation.csv')"
      ],
      "id": "6820f642-0b84-4f03-819f-900209b8e2f2"
    },
    {
      "cell_type": "markdown",
      "metadata": {},
      "source": [
        "## Baseline"
      ],
      "id": "18942df9-5bb6-4c0f-b16f-440cef54dd68"
    },
    {
      "cell_type": "code",
      "execution_count": 35,
      "metadata": {
        "tags": []
      },
      "outputs": [],
      "source": [
        "data.query(\"method!='GNAR' and mrate==0\").plot.box(backend='plotly',x='mrate',color='method',y='mse',facet_col='lags',facet_row='nof_filters',height=600)\n"
      ],
      "id": "8c0826b3-f832-4663-b04a-ab5c5f5537c8"
    },
    {
      "cell_type": "markdown",
      "metadata": {},
      "source": [
        "## Random"
      ],
      "id": "a169a41f-75e4-4fcd-b4a8-c48f54ead0c8"
    },
    {
      "cell_type": "code",
      "execution_count": 36,
      "metadata": {},
      "outputs": [],
      "source": [
        "data.query(\"method!='GNAR' and mtype =='rand'\").plot.box(backend='plotly',x='mrate',color='method',y='mse',facet_col='inter_method',facet_row='nof_filters',height=600)\n",
        "\n"
      ],
      "id": "6e2691b0-404e-4858-8e80-bcb5305945f1"
    },
    {
      "cell_type": "markdown",
      "metadata": {},
      "source": [
        "## Block"
      ],
      "id": "aaf73071-a89c-45a9-8fa5-932eb523db38"
    },
    {
      "cell_type": "code",
      "execution_count": 37,
      "metadata": {},
      "outputs": [],
      "source": [
        "data.query(\"method!='GNAR' and mtype =='block' \").plot.box(backend='plotly',x='mrate',color='method',y='mse',facet_col='inter_method',facet_row='nof_filters',height=600)\n"
      ],
      "id": "e2541603-7870-4929-8d1f-828164eb5a1c"
    },
    {
      "cell_type": "markdown",
      "metadata": {},
      "source": [
        "# chickenpox"
      ],
      "id": "a3725c57-494a-4fca-a43b-365905711f30"
    },
    {
      "cell_type": "code",
      "execution_count": 38,
      "metadata": {
        "tags": []
      },
      "outputs": [],
      "source": [
        "# df1 = pd.read_csv('./simulation_results/2023-06-02_14-03-24.csv') # GNAR random\n",
        "# df2 = pd.read_csv('./simulation_results/2023-06-03_15-57-09.csv') # GNAR block\n",
        "# df3 = pd.read_csv('./simulation_results/2023-06-03_17-58-22.csv') # STGCN, ITSTGCN random 30%\n",
        "\n",
        "## 하이퍼 파라메터 조정해서 다시 함!\n",
        "df1 = pd.read_csv('./simulation_results/2023-06-07_22-08-57.csv') \n",
        "df2 = pd.read_csv('./simulation_results/2023-06-08_01-57-25.csv') \n",
        "df3 = pd.read_csv('./simulation_results/2023-06-08_03-58-56.csv') \n",
        "df4 = pd.read_csv('./simulation_results/2023-06-08_06-00-50.csv')\n",
        "df5 = pd.read_csv('./simulation_results/2023-06-08_09-11-04.csv')\n",
        "df6 = pd.read_csv('./simulation_results/2023-06-08_13-06-18.csv')"
      ],
      "id": "fa8833b0-9651-43ae-86c9-74e6437c2b49"
    },
    {
      "cell_type": "code",
      "execution_count": 39,
      "metadata": {},
      "outputs": [],
      "source": [
        "df7 = pd.read_csv('./simulation_results/2023-07-16_18-29-09.csv')\n",
        "df8 = pd.read_csv('./simulation_results/2023-07-16_22-21-02.csv')\n",
        "df9 = pd.read_csv('./simulation_results/2023-07-17_02-20-42.csv')\n",
        "df10 = pd.read_csv('./simulation_results/2023-07-17_06-23-41.csv')"
      ],
      "id": "08dcfc14-28bb-4b85-9090-6bba492aee36"
    },
    {
      "cell_type": "code",
      "execution_count": 40,
      "metadata": {},
      "outputs": [],
      "source": [
        "data = pd.concat([df1,df2,df3,df4,df5,df6,df7,df8,df9,df10],axis=0)"
      ],
      "id": "49ca0e0c-819e-4131-a802-428c1b82e347"
    },
    {
      "cell_type": "code",
      "execution_count": 41,
      "metadata": {},
      "outputs": [],
      "source": [
        "data.to_csv('./simulation_results/Real_simulation_reshape/GConvLSTM_chikenpox_Simulation.csv',index=False)"
      ],
      "id": "eca6df7f-f31e-48b2-bd80-253673443e01"
    },
    {
      "cell_type": "code",
      "execution_count": 42,
      "metadata": {},
      "outputs": [],
      "source": [
        "data = pd.read_csv('./simulation_results/Real_simulation_reshape/GConvLSTM_chikenpox_Simulation.csv')"
      ],
      "id": "4dd74fcd-97a2-4d8a-b42e-fb6d8c922aa5"
    },
    {
      "cell_type": "markdown",
      "metadata": {},
      "source": [
        "## Baseline"
      ],
      "id": "1a3023ec-39ee-4891-9108-e961f00d89c4"
    },
    {
      "cell_type": "code",
      "execution_count": 43,
      "metadata": {},
      "outputs": [],
      "source": [
        "data.query(\"method!='GNAR' and mrate ==0 \").plot.box(backend='plotly',x='mrate',color='method',y='mse',facet_col='nof_filters',height=600)\n"
      ],
      "id": "0541b489-289c-4021-b5c7-8990153f35e5"
    },
    {
      "cell_type": "markdown",
      "metadata": {},
      "source": [
        "## Random"
      ],
      "id": "fcd22be6-7fc3-49fe-859e-dd9bbfd7f3f8"
    },
    {
      "cell_type": "code",
      "execution_count": 44,
      "metadata": {},
      "outputs": [],
      "source": [
        "data.query(\"method!='GNAR' and mtype =='rand'\").plot.box(backend='plotly',x='mrate',color='method',y='mse',facet_col='nof_filters',facet_row='inter_method',height=800)\n"
      ],
      "id": "7a13c7c2-5b87-41bb-aa3b-4645b47a3a73"
    },
    {
      "cell_type": "markdown",
      "metadata": {},
      "source": [
        "## Block"
      ],
      "id": "e98b4838-f512-4f77-979f-5388641d761c"
    },
    {
      "cell_type": "code",
      "execution_count": 45,
      "metadata": {},
      "outputs": [],
      "source": [
        "data.query(\"method!='GNAR' and mtype =='block'\").plot.box(backend='plotly',x='mrate',color='method',y='mse',facet_col='inter_method',facet_row='lags',height=800)\n"
      ],
      "id": "d04cb116-9ad1-4821-8cba-40201da09301"
    },
    {
      "cell_type": "markdown",
      "metadata": {},
      "source": [
        "# Pedalme"
      ],
      "id": "b8bd22e2-051f-47df-9f51-e2eac9290609"
    },
    {
      "cell_type": "code",
      "execution_count": null,
      "metadata": {},
      "outputs": [],
      "source": [
        "# df3 = pd.read_csv('./simulation_results/2023-06-04_13-03-18.csv') \n",
        "# df4 = pd.read_csv('./simulation_results/2023-06-04_13-19-20.csv') \n",
        "# k=1"
      ],
      "id": "48dfae39-3317-4d5f-b257-b43120bee30f"
    },
    {
      "cell_type": "code",
      "execution_count": 46,
      "metadata": {},
      "outputs": [],
      "source": [
        "df1 = pd.read_csv('./simulation_results/2023-06-08_14-08-24.csv') \n",
        "df2 = pd.read_csv('./simulation_results/2023-06-10_14-21-35.csv') "
      ],
      "id": "ea9a1f94-f23a-4a06-8d96-97f3a7331995"
    },
    {
      "cell_type": "code",
      "execution_count": 47,
      "metadata": {},
      "outputs": [],
      "source": [
        "df3 = pd.read_csv('./simulation_results/2023-07-17_07-05-13.csv') "
      ],
      "id": "cfc81588-0763-4d9b-a994-dae5b704754b"
    },
    {
      "cell_type": "code",
      "execution_count": 48,
      "metadata": {},
      "outputs": [],
      "source": [
        "data = pd.concat([df1,df2,df3],axis=0)"
      ],
      "id": "a5c979ca-54d2-44dd-8972-8355172da7c9"
    },
    {
      "cell_type": "code",
      "execution_count": 49,
      "metadata": {},
      "outputs": [],
      "source": [
        "data.to_csv('./simulation_results/Real_simulation_reshape/GConvLSTM_pedalme_Simulation.csv',index=False)"
      ],
      "id": "3eab1a4f-df13-49db-9d04-ca2a0c933eb8"
    },
    {
      "cell_type": "code",
      "execution_count": 50,
      "metadata": {},
      "outputs": [],
      "source": [
        "data = pd.read_csv('./simulation_results/Real_simulation_reshape/GConvLSTM_pedalme_Simulation.csv')"
      ],
      "id": "c990c872-9c00-4a03-b396-2b7ca8b02e53"
    },
    {
      "cell_type": "markdown",
      "metadata": {},
      "source": [
        "## Baseline"
      ],
      "id": "4510ea3c-0b2b-4e1d-9164-93911558380e"
    },
    {
      "cell_type": "code",
      "execution_count": 51,
      "metadata": {},
      "outputs": [],
      "source": [
        "data.query(\"mrate ==0 and lags!=2\").plot.box(backend='plotly',x='epoch',color='method',y='mse',facet_col='nof_filters',facet_row='lags',height=400)\n"
      ],
      "id": "0189c019-3b7b-4db7-bc24-525e6d5dfd9f"
    },
    {
      "cell_type": "markdown",
      "metadata": {},
      "source": [
        "## random"
      ],
      "id": "a4504bd6-d0ad-4ec0-8d66-637e8a6f7477"
    },
    {
      "cell_type": "code",
      "execution_count": 52,
      "metadata": {},
      "outputs": [],
      "source": [
        "data.query(\"method!='GNAR' and mtype =='rand' and lags!=2\").plot.box(backend='plotly',x='mrate',color='method',y='mse',facet_col='nof_filters',facet_row='inter_method',height=800)\n"
      ],
      "id": "28a881fa-e3b1-4291-9f83-af9e669f36c1"
    },
    {
      "cell_type": "markdown",
      "metadata": {},
      "source": [
        "## block"
      ],
      "id": "b016c31e-bbbf-4838-8dec-7ef59e21a00e"
    },
    {
      "cell_type": "code",
      "execution_count": 53,
      "metadata": {},
      "outputs": [],
      "source": [
        "data.query(\"method!='GNAR' and mtype =='block' and lags!=2 \").plot.box(backend='plotly',x='mrate',color='method',y='mse',facet_col='nof_filters',facet_row='inter_method',height=800)\n"
      ],
      "id": "9c81b230-af47-4e57-95ea-e22dbbe8fc52"
    },
    {
      "cell_type": "markdown",
      "metadata": {},
      "source": [
        "## weight matrix time, node 고려한 결과"
      ],
      "id": "072e213e-e952-42da-9967-7fe3c2b4955a"
    },
    {
      "cell_type": "code",
      "execution_count": 169,
      "metadata": {},
      "outputs": [],
      "source": [
        "df1 = pd.read_csv('./simulation_results/2023-06-10_15-33-00.csv')\n",
        "df2 = pd.read_csv('./simulation_results/2023-06-10_16-06-20.csv')"
      ],
      "id": "1067b61f-8c7a-4ee6-afeb-ea23ba93aae0"
    },
    {
      "cell_type": "code",
      "execution_count": 170,
      "metadata": {},
      "outputs": [],
      "source": [
        "data2 = pd.concat([df1,df2],axis=0)"
      ],
      "id": "164b1f8a-7bd6-4dcc-83f0-77bcc96b986c"
    },
    {
      "cell_type": "code",
      "execution_count": 171,
      "metadata": {},
      "outputs": [],
      "source": [
        "data2.to_csv('./simulation_results/Real_simulation_reshape/GConvLSTM_pedalme_Simulation_itstgcnsnd.csv',index=False)"
      ],
      "id": "3580727c-be50-453f-811b-1bc5a7b6e4d8"
    },
    {
      "cell_type": "code",
      "execution_count": 172,
      "metadata": {},
      "outputs": [],
      "source": [
        "data2 = pd.read_csv('./simulation_results/Real_simulation_reshape/GConvLSTM_pedalme_Simulation_itstgcnsnd.csv')"
      ],
      "id": "42561af1-50f1-492d-8abc-529831c3bb44"
    },
    {
      "cell_type": "code",
      "execution_count": 173,
      "metadata": {},
      "outputs": [],
      "source": [
        "data2.query(\"mtype=='rand'\").plot.box(backend='plotly',x='mrate',color='method',y='mse',facet_col='inter_method',facet_row='nof_filters',height=1000)"
      ],
      "id": "4ef9b447-6eea-4335-aaef-e6d16899ef11"
    },
    {
      "cell_type": "code",
      "execution_count": 174,
      "metadata": {},
      "outputs": [],
      "source": [
        "data2.query(\"mtype=='block'\").plot.box(backend='plotly',x='mrate',color='method',y='mse',facet_col='inter_method',facet_row='nof_filters',height=1000)"
      ],
      "id": "9a6baa92-72ef-421a-be98-b10870899497"
    },
    {
      "cell_type": "markdown",
      "metadata": {},
      "source": [
        "# Wikimath"
      ],
      "id": "6b645fd0-64e4-43d7-b790-cc5cfede1378"
    },
    {
      "cell_type": "code",
      "execution_count": 284,
      "metadata": {},
      "outputs": [],
      "source": [
        "df1 = pd.read_csv('./simulation_results/2023-06-09_05-04-53.csv') # 0.3\n",
        "df2 = pd.read_csv('./simulation_results/2023-06-09_22-51-24.csv') # 0.3\n",
        "df3 = pd.read_csv('./simulation_results/2023-06-10_13-44-50.csv') # 0.3\n",
        "df4 = pd.read_csv('./simulation_results/2023-06-11_17-52-38.csv') # 0.8\n",
        "df5 = pd.read_csv('./simulation_results/2023-06-12_22-28-48.csv') # 0.8\n",
        "df6 = pd.read_csv('./simulation_results/2023-06-13_19-20-20.csv') # 0\n",
        "df7 = pd.read_csv('./simulation_results/2023-06-14_20-51-43.csv') # 0\n",
        "df8 = pd.read_csv('./simulation_results/2023-06-15_17-05-25.csv') # 0\n",
        "df9 = pd.read_csv('./simulation_results/2023-06-13_16-54-57.csv') # block\n",
        "df10 = pd.read_csv('./simulation_results/2023-06-12_20-55-27.csv') # block\n",
        "df11 = pd.read_csv('./simulation_results/2023-06-12_01-29-40.csv') # block\n",
        "# 11개 끝나면 같은 노드 missing 으로 넘어가기"
      ],
      "id": "ecb2b66b-d7ed-48ed-a907-c3e8df5297fc"
    },
    {
      "cell_type": "code",
      "execution_count": 285,
      "metadata": {},
      "outputs": [],
      "source": [
        "data = pd.concat([df1,df2,df3,df4,df5,df6,df7,df8,df9,df10,df11],axis=0)"
      ],
      "id": "9eca6577-f48a-4153-9c2d-58c48f773979"
    },
    {
      "cell_type": "code",
      "execution_count": 286,
      "metadata": {},
      "outputs": [],
      "source": [
        "data.to_csv('./simulation_results/Real_simulation_reshape/GConvLSTM_wikimath.csv',index=False)"
      ],
      "id": "4404f2e2-4bb2-4398-85f7-daf2e348767e"
    },
    {
      "cell_type": "code",
      "execution_count": 287,
      "metadata": {},
      "outputs": [],
      "source": [
        "data = pd.read_csv('./simulation_results/Real_simulation_reshape/GConvLSTM_wikimath.csv')"
      ],
      "id": "80a1b6f5-54f3-4b64-84f4-b269c19d33d7"
    },
    {
      "cell_type": "markdown",
      "metadata": {},
      "source": [
        "## Baseline"
      ],
      "id": "d85cea27-269f-4134-8d3a-47c8f3185b1b"
    },
    {
      "cell_type": "code",
      "execution_count": 288,
      "metadata": {},
      "outputs": [],
      "source": [
        "data.query(\"mrate==0 \").plot.box(backend='plotly',x='mrate',color='method',y='mse',height=600)"
      ],
      "id": "7e3efad4-79c5-4aef-8f88-8de469e6001a"
    },
    {
      "cell_type": "markdown",
      "metadata": {},
      "source": [
        "## random"
      ],
      "id": "9f04a918-fb17-4d5b-b292-22c2539ad715"
    },
    {
      "cell_type": "code",
      "execution_count": 289,
      "metadata": {},
      "outputs": [],
      "source": [
        "data.query(\"mtype=='rand' and mrate !=0 and method!='GNAR'\").plot.box(backend='plotly',x='mrate',color='method',y='mse',facet_col='lags',facet_row='nof_filters',height=800)\n"
      ],
      "id": "5d31998d-2265-433c-8adb-086e55bc52aa"
    },
    {
      "cell_type": "markdown",
      "metadata": {},
      "source": [
        "## block"
      ],
      "id": "60b6d9c1-730e-4b39-ba94-1c4a4a724c22"
    },
    {
      "cell_type": "code",
      "execution_count": 290,
      "metadata": {},
      "outputs": [],
      "source": [
        "data.query(\"mtype=='block' \").plot.box(backend='plotly',x='mrate',color='method',y='mse',facet_col='lags',facet_row='nof_filters',height=1200)\n"
      ],
      "id": "c18006d8-555f-4f6e-940c-e67c3ae21cd4"
    },
    {
      "cell_type": "markdown",
      "metadata": {},
      "source": [
        "## missing values on the same nodes"
      ],
      "id": "a3968a54-1b73-4924-8714-866a9c14ebd4"
    },
    {
      "cell_type": "code",
      "execution_count": 292,
      "metadata": {
        "tags": []
      },
      "outputs": [],
      "source": [
        "df1 = pd.read_csv('./simulation_results/2023-06-14_19-23-44.csv') # STGCN IT-STGCN block\n",
        "df2 = pd.read_csv('./simulation_results/2023-06-15_15-51-38.csv')\n",
        "df3 = pd.read_csv('./simulation_results/2023-06-16_04-32-51.csv')"
      ],
      "id": "f486aaac-35b7-4052-ae28-d0e09ba84aac"
    },
    {
      "cell_type": "code",
      "execution_count": 293,
      "metadata": {},
      "outputs": [],
      "source": [
        "data = pd.concat([df1,df2,df3],axis=0)"
      ],
      "id": "c43369e6-4096-4445-8c0a-ef3d6ebab380"
    },
    {
      "cell_type": "code",
      "execution_count": 294,
      "metadata": {},
      "outputs": [],
      "source": [
        "data.to_csv('./simulation_results/Real_simulation_reshape/GConvLSTM_wikimath_GSO_st.csv',index=False)"
      ],
      "id": "83909c8e-35a6-4eea-a9d2-533b0fa763fd"
    },
    {
      "cell_type": "code",
      "execution_count": 295,
      "metadata": {},
      "outputs": [],
      "source": [
        "data = pd.read_csv('./simulation_results/Real_simulation_reshape/GConvLSTM_wikimath_GSO_st.csv')"
      ],
      "id": "f7229858-697a-4717-89db-f6c285f0480b"
    },
    {
      "cell_type": "code",
      "execution_count": 296,
      "metadata": {},
      "outputs": [],
      "source": [
        "data.query(\"method!='GNAR' and mtype =='block' \").plot.box(backend='plotly',x='mrate',color='method',y='mse',facet_col='inter_method',facet_row='lags',height=800)\n"
      ],
      "id": "ee072390-28d9-42e4-a95b-bebea838b895"
    },
    {
      "cell_type": "markdown",
      "metadata": {},
      "source": [
        "# Windmilsmall"
      ],
      "id": "910262b9-e0e3-429e-8616-15cbbc1ad253"
    },
    {
      "cell_type": "code",
      "execution_count": 712,
      "metadata": {},
      "outputs": [],
      "source": [
        "df1 = pd.read_csv('./simulation_results/2023-06-18_08-49-16.csv') # STGCN IT-STGCN 70%\n",
        "df2 = pd.read_csv('./simulation_results/2023-06-18_19-23-41.csv') # STGCN IT-STGCN\n",
        "df3 = pd.read_csv('./simulation_results/2023-06-19_05-43-03.csv') # STGCN IT-STGCN\n",
        "df4 = pd.read_csv('./simulation_results/2023-06-19_05-43-03.csv') # STGCN IT-STGCN\n",
        "df5 = pd.read_csv('./simulation_results/2023-06-19_15-49-47.csv') # STGCN IT-STGCN\n",
        "df6 = pd.read_csv('./simulation_results/2023-06-20_01-48-58.csv') #\n",
        "df7 = pd.read_csv('./simulation_results/2023-06-20_10-46-07.csv') # STGCN IT-STGCN\n",
        "df8 = pd.read_csv('./simulation_results/2023-06-20_22-24-25.csv') # STGCN IT-STGCN\n",
        "df9 = pd.read_csv('./simulation_results/2023-06-21_08-49-11.csv') # STGCN IT-STGCN\n",
        "df10 = pd.read_csv('./simulation_results/2023-06-21_18-48-04.csv') # STGCN IT-STGCN\n",
        "df11 = pd.read_csv('./simulation_results/2023-06-22_04-57-53.csv') # STGCN IT-STGCN\n",
        "df12 = pd.read_csv('./simulation_results/2023-06-23_01-51-16.csv') # STGCN IT-STGCN\n",
        "df13 = pd.read_csv('./simulation_results/2023-06-23_09-45-30.csv') # STGCN IT-STGCN\n",
        "df14 = pd.read_csv('./simulation_results/2023-06-23_17-38-53.csv') # STGCN IT-STGCN\n",
        "df15 = pd.read_csv('./simulation_results/2023-06-24_03-32-00.csv') # STGCN IT-STGCN\n",
        "df16 = pd.read_csv('./simulation_results/2023-06-24_14-02-04.csv') # STGCN IT-STGCN\n",
        "df17 = pd.read_csv('./simulation_results/2023-06-25_00-33-49.csv') # STGCN IT-STGCN\n",
        "df18 = pd.read_csv('./simulation_results/2023-06-25_11-14-03.csv') # STGCN IT-STGCN\n",
        "df19 = pd.read_csv('./simulation_results/2023-06-25_21-52-31.csv') # STGCN IT-STGCN\n",
        "df20 = pd.read_csv('./simulation_results/2023-06-26_09-32-33.csv') # STGCN IT-STGCN\n",
        "df21 = pd.read_csv('./simulation_results/2023-06-26_20-26-47.csv') # STGCN IT-STGCN\n",
        "df22 = pd.read_csv('./simulation_results/2023-06-30_22-22-17.csv') # STGCN IT-STGCN\n",
        "df23 = pd.read_csv('./simulation_results/2023-06-27_07-38-02.csv') # STGCN IT-STGCN\n",
        "df24 = pd.read_csv('./simulation_results/2023-06-27_17-42-21.csv') # STGCN IT-STGCN\n",
        "df25 = pd.read_csv('./simulation_results/2023-06-27_23-25-36.csv') # STGCN IT-STGCN\n",
        "df26 = pd.read_csv('./simulation_results/2023-06-28_04-51-32.csv') # STGCN IT-STGCN\n",
        "df27 = pd.read_csv('./simulation_results/2023-06-28_13-42-03.csv') # STGCN IT-STGCN\n",
        "df28 = pd.read_csv('./simulation_results/2023-06-28_23-31-39.csv') # STGCN IT-STGCN\n",
        "df29 = pd.read_csv('./simulation_results/2023-06-29_07-37-23.csv') # STGCN IT-STGCN\n",
        "df30 = pd.read_csv('./simulation_results/2023-06-29_11-42-51.csv') # STGCN IT-STGCN\n",
        "df31 = pd.read_csv('./simulation_results/2023-06-29_18-56-11.csv') # GNAR 70%\n",
        "df32 = pd.read_csv('./simulation_results/2023-06-29_23-00-06.csv') # GNAR \n",
        "df33 = pd.read_csv('./simulation_results/2023-06-30_07-55-33.csv')\n",
        "df34 = pd.read_csv('./simulation_results/2023-06-30_13-16-45.csv')\n",
        "df35 = pd.read_csv('./simulation_results/2023-06-30_22-22-17.csv')\n",
        "df36 = pd.read_csv('./simulation_results/2023-07-01_02-32-38.csv')\n",
        "df37 = pd.read_csv('./simulation_results/2023-05-02_01-10-53.csv')\n",
        "df38 = pd.read_csv('./simulation_results/2023-07-01_22-06-17.csv')\n",
        "df39 = pd.read_csv('./simulation_results/2023-07-02_02-39-51.csv')\n",
        "df40 = pd.read_csv('./simulation_results/2023-07-02_10-30-04.csv')\n",
        "df41 = pd.read_csv('./simulation_results/2023-07-02_14-55-00.csv')\n",
        "df42 = pd.read_csv('./simulation_results/2023-07-02_22-39-16.csv')\n",
        "df43 = pd.read_csv('./simulation_results/2023-07-03_02-31-23.csv')\n",
        "df44 = pd.read_csv('./simulation_results/2023-07-03_09-46-01.csv')\n",
        "df45 = pd.read_csv('./simulation_results/2023-07-03_13-39-49.csv')\n",
        "df46 = pd.read_csv('./simulation_results/2023-07-03_20-27-34.csv')\n",
        "df47 = pd.read_csv('./simulation_results/2023-07-03_23-24-36.csv')\n",
        "df48 = pd.read_csv('./simulation_results/2023-07-04_04-53-17.csv')\n",
        "df49 = pd.read_csv('./simulation_results/2023-07-04_07-47-18.csv')\n",
        "df50 = pd.read_csv('./simulation_results/2023-07-04_13-19-43.csv')\n",
        "df51 = pd.read_csv('./simulation_results/2023-07-04_16-15-28.csv')\n",
        "df52 = pd.read_csv('./simulation_results/2023-07-04_21-45-58.csv')\n",
        "df53 = pd.read_csv('./simulation_results/2023-07-05_00-42-02.csv')\n",
        "df54 = pd.read_csv('./simulation_results/2023-07-05_06-10-53.csv')\n",
        "df55 = pd.read_csv('./simulation_results/2023-07-05_09-04-03.csv')\n",
        "df56 = pd.read_csv('./simulation_results/2023-07-05_14-35-14.csv')\n",
        "df57 = pd.read_csv('./simulation_results/2023-07-05_17-33-38.csv')\n",
        "df58 = pd.read_csv('./simulation_results/2023-07-05_23-06-14.csv')\n",
        "df59 = pd.read_csv('./simulation_results/2023-07-06_01-59-24.csv')\n",
        "df60 = pd.read_csv('./simulation_results/2023-07-06_07-30-43.csv')\n",
        "df61 = pd.read_csv('./simulation_results/2023-07-06_10-26-11.csv')\n",
        "df62 = pd.read_csv('./simulation_results/2023-07-06_15-56-04.csv')\n",
        "df63 = pd.read_csv('./simulation_results/2023-07-06_18-51-39.csv')\n",
        "df64 = pd.read_csv('./simulation_results/2023-07-07_00-20-44.csv')\n",
        "df65 = pd.read_csv('./simulation_results/2023-07-07_03-16-52.csv')\n",
        "df66 = pd.read_csv('./simulation_results/2023-07-07_08-45-18.csv')\n",
        "df67 = pd.read_csv('./simulation_results/2023-07-07_11-42-32.csv')\n",
        "df68 = pd.read_csv('./simulation_results/2023-07-07_17-11-59.csv')\n",
        "df69 = pd.read_csv('./simulation_results/2023-07-07_20-09-16.csv')\n",
        "df70 = pd.read_csv('./simulation_results/2023-07-08_01-39-33.csv') \n",
        "df71 = pd.read_csv('./simulation_results/2023-07-08_04-35-48.csv')\n",
        "df72 = pd.read_csv('./simulation_results/2023-07-08_10-41-29.csv')\n",
        "df73 = pd.read_csv('./simulation_results/2023-07-08_14-48-52.csv')\n",
        "df74 = pd.read_csv('./simulation_results/2023-07-08_22-15-53.csv')\n",
        "df75 = pd.read_csv('./simulation_results/2023-07-09_02-11-41.csv')\n",
        "df76 = pd.read_csv('./simulation_results/2023-07-09_09-59-35.csv')\n",
        "df77 = pd.read_csv('./simulation_results/2023-07-09_14-17-00.csv')\n",
        "df78 = pd.read_csv('./simulation_results/2023-07-09_22-10-25.csv')\n",
        "df79 = pd.read_csv('./simulation_results/2023-07-10_02-39-25.csv')\n",
        "df80 = pd.read_csv('./simulation_results/2023-07-10_12-33-23.csv')\n",
        "df81 = pd.read_csv('./simulation_results/2023-07-10_17-03-55.csv')\n",
        "df82 = pd.read_csv('./simulation_results/2023-07-11_01-43-12.csv')\n",
        "df83 = pd.read_csv('./simulation_results/2023-07-11_05-19-38.csv')\n",
        "df84 = pd.read_csv('./simulation_results/2023-07-11_13-21-44.csv')\n",
        "df85 = pd.read_csv('./simulation_results/2023-07-11_16-56-36.csv')\n",
        "df86 = pd.read_csv('./simulation_results/2023-07-12_05-06-36.csv')\n",
        "df87 = pd.read_csv('./simulation_results/2023-07-12_10-10-49.csv')\n",
        "df88 = pd.read_csv('./simulation_results/2023-07-12_17-03-55.csv')\n",
        "df89 = pd.read_csv('./simulation_results/2023-07-13_15-31-01.csv')\n",
        "df90 = pd.read_csv('./simulation_results/2023-07-14_20-29-43.csv')\n",
        "df91 = pd.read_csv('./simulation_results/2023-07-13_04-24-40.csv')\n",
        "df92 = pd.read_csv('./simulation_results/2023-07-15_09-33-11.csv')"
      ],
      "id": "553ef5e1-0911-4074-8c60-120a447c3621"
    },
    {
      "cell_type": "code",
      "execution_count": 713,
      "metadata": {},
      "outputs": [],
      "source": [
        "data = pd.concat([df1,df2,df3,df4,df5,df6,df7,df8,df9,df10,df11,df12,df13,df14,df15,df16,df17,df18,df19,df20,df21,\n",
        "                 df22,df23,df24,df25,df26,df27,df28,df29,df30,df31,df32,df33,df34,df35,df36,df37,df38,df39,df40,\n",
        "                 df41,df42,df43,df44,df45,df46,df47,df48,df29,df50,df51,df52,df53,df54,df55,df56,df57,df58,df59,df60,df61,\n",
        "                 df62,df63,df64,df65,df66,df67,df68,df69,df70,df71,df72,df73,df74,df75,df76,df77,df78,df79,df80,df81,\n",
        "                 df82,df83,df84,df85,df86,df87,df88,df89,df90,df91,df92],axis=0)"
      ],
      "id": "3d3e8801-cc04-4ab3-abe7-fecfdc70a581"
    },
    {
      "cell_type": "code",
      "execution_count": 714,
      "metadata": {},
      "outputs": [],
      "source": [
        "data.to_csv('./simulation_results/Real_simulation_reshape/GConvLSTM_windmillsmall.csv',index=False)"
      ],
      "id": "c47e263b-a178-49f7-89eb-d35166fff775"
    },
    {
      "cell_type": "code",
      "execution_count": 715,
      "metadata": {},
      "outputs": [],
      "source": [
        "data = pd.read_csv('./simulation_results/Real_simulation_reshape/GConvLSTM_windmillsmall.csv')"
      ],
      "id": "75a60818-9ba9-473c-a931-9cfc03b99f1e"
    },
    {
      "cell_type": "markdown",
      "metadata": {},
      "source": [
        "## Baseline"
      ],
      "id": "ae64f60f-5984-4f0e-92d6-467b166b90f5"
    },
    {
      "cell_type": "code",
      "execution_count": 693,
      "metadata": {},
      "outputs": [],
      "source": [
        "data.query(\"method!='GNAR' and mrate ==0 \").plot.box(backend='plotly',x='mrate',color='method',y='mse',facet_col='lags',height=800)\n"
      ],
      "id": "15fba5e5-9443-45ca-970a-1d44929d7d2a"
    },
    {
      "cell_type": "markdown",
      "metadata": {},
      "source": [
        "## random"
      ],
      "id": "c1ae6939-bcc5-4fb0-912b-75ba79ce9234"
    },
    {
      "cell_type": "code",
      "execution_count": 694,
      "metadata": {},
      "outputs": [],
      "source": [
        "data.query(\"method!='GNAR' and mtype =='rand' \").plot.box(backend='plotly',x='mrate',color='method',y='mse',facet_col='lags',facet_row='inter_method',height=800)\n"
      ],
      "id": "0b547e4d-c3db-4115-87dd-e02848542e23"
    },
    {
      "cell_type": "markdown",
      "metadata": {},
      "source": [
        "## block"
      ],
      "id": "9df420cf-cbee-4c9a-aefc-bc525eac6d37"
    },
    {
      "cell_type": "code",
      "execution_count": 695,
      "metadata": {},
      "outputs": [],
      "source": [
        "data.query(\"method!='GNAR' and mtype =='block' \").plot.box(backend='plotly',x='mrate',color='method',y='mse',facet_col='lags',facet_row='inter_method',height=800)\n"
      ],
      "id": "1638d14c-b158-4b08-84ec-a23ffe4d53fb"
    },
    {
      "cell_type": "markdown",
      "metadata": {},
      "source": [
        "# Montevideobus"
      ],
      "id": "bb3adb5e-7129-478a-a306-0c200a4e3306"
    },
    {
      "cell_type": "code",
      "execution_count": 592,
      "metadata": {},
      "outputs": [],
      "source": [
        "df1 = pd.read_csv('./simulation_results/2023-06-09_04-44-47.csv') # lags 8\n",
        "df2 = pd.read_csv('./simulation_results/2023-06-09_10-14-28.csv') # lags 8\n",
        "df3 = pd.read_csv('./simulation_results/2023-06-09_15-02-44.csv') # lags 8\n",
        "df4 = pd.read_csv('./simulation_results/2023-06-09_20-18-35.csv') # lags 8\n",
        "df5 = pd.read_csv('./simulation_results/2023-06-10_19-55-08.csv') # lags 8\n",
        "df6 = pd.read_csv('./simulation_results/2023-06-10_23-03-00.csv') # lags 8\n",
        "df7 = pd.read_csv('./simulation_results/2023-06-11_02-22-49.csv') # lags 8"
      ],
      "id": "948cc0a3-a3a2-409b-bcfb-75f828a18445"
    },
    {
      "cell_type": "code",
      "execution_count": null,
      "metadata": {},
      "outputs": [],
      "source": [
        "df8 = pd.read_csv('./simulation_results/2023-07-20_01-06-37.csv') # lags 8\n",
        "df9 = pd.read_csv('./simulation_results/2023-07-20_06-05-46.csv') # lags 8\n",
        "df10 = pd.read_csv('./simulation_results/2023-07-20_10-50-04.csv') # lags 8\n",
        "df11 = pd.read_csv('./simulation_results/2023-07-20_15-35-45.csv') # lags 8\n",
        "df12 = pd.read_csv('./simulation_results/2023-07-20_20-12-53.csv') # lags 8\n",
        "df13 = pd.read_csv('./simulation_results/2023-07-21_00-58-20.csv') # lags 8\n",
        "df14 = pd.read_csv('./simulation_results/2023-07-21_05-45-10.csv') # lags 8\n",
        "# df15 = pd.read_csv('./simulation_results/2023-07-21_00-58-20.csv') # lags 8\n",
        "# df16 = pd.read_csv('./simulation_results/2023-07-21_05-45-10csv') # lags 8"
      ],
      "id": "33d2bd1a-7160-4b91-922f-d7881f357117"
    },
    {
      "cell_type": "code",
      "execution_count": 195,
      "metadata": {},
      "outputs": [],
      "source": [
        "data = pd.concat([df1,df2,df3,df4,df5,df6,df7,df8,df9,df10,df11,df12,df13,df14],axis=0)"
      ],
      "id": "22feeac7-236c-4cdf-b744-1bf4f467449c"
    },
    {
      "cell_type": "code",
      "execution_count": 196,
      "metadata": {},
      "outputs": [],
      "source": [
        "data.to_csv('./simulation_results/Real_simulation_reshape/GConvLSTM_monte.csv',index=False)"
      ],
      "id": "030b9817-7cf2-4013-b9f9-ced2a42669e2"
    },
    {
      "cell_type": "code",
      "execution_count": 197,
      "metadata": {},
      "outputs": [],
      "source": [
        "data = pd.read_csv('./simulation_results/Real_simulation_reshape/GConvLSTM_monte.csv')"
      ],
      "id": "2141d005-9880-430f-8f3f-48abd6721bfc"
    },
    {
      "cell_type": "markdown",
      "metadata": {},
      "source": [
        "## Baseline"
      ],
      "id": "2809fe9c-e8d7-4939-8459-4e332a287c89"
    },
    {
      "cell_type": "code",
      "execution_count": 198,
      "metadata": {},
      "outputs": [],
      "source": [
        "data.query(\"mrate==0 and method!='GNAR'\").plot.box(backend='plotly',x='mrate',color='method',y='mse',facet_col='lags',facet_row='nof_filters',height=600)"
      ],
      "id": "cc8db61f-de85-4ba8-a91b-893d0a495366"
    },
    {
      "cell_type": "markdown",
      "metadata": {},
      "source": [
        "## random"
      ],
      "id": "d8e83797-5401-4e81-a741-797c8f9f3d90"
    },
    {
      "cell_type": "code",
      "execution_count": 199,
      "metadata": {},
      "outputs": [],
      "source": [
        "data.query(\"mtype=='rand' and mrate !=0 and method!='GNAR' and mrate!=0.3 and mrate!=0.4\").plot.box(backend='plotly',x='mrate',color='method',y='mse',facet_col='lags',facet_row='inter_method',height=800)\n"
      ],
      "id": "e6777b56-5e7b-4ef2-ba33-4dea246f322a"
    },
    {
      "cell_type": "markdown",
      "metadata": {},
      "source": [
        "## block"
      ],
      "id": "cda456f3-9657-42c8-a7fe-0146576ed090"
    },
    {
      "cell_type": "code",
      "execution_count": 200,
      "metadata": {},
      "outputs": [],
      "source": [
        "data.query(\"mtype=='block' and method!='GNAR'\").plot.box(backend='plotly',x='mrate',color='method',y='mse',facet_col='lags',facet_row='nof_filters',height=1200)\n"
      ],
      "id": "d67b8bdf-c2e0-4264-9d01-4e537d3d613d"
    }
  ],
  "nbformat": 4,
  "nbformat_minor": 5,
  "metadata": {
    "kernelspec": {
      "name": "python3",
      "display_name": "Python 3",
      "language": "python"
    },
    "language_info": {
      "name": "python",
      "codemirror_mode": {
        "name": "ipython",
        "version": "3"
      },
      "file_extension": ".py",
      "mimetype": "text/x-python",
      "nbconvert_exporter": "python",
      "pygments_lexer": "ipython3",
      "version": "3.8.0"
    }
  }
}
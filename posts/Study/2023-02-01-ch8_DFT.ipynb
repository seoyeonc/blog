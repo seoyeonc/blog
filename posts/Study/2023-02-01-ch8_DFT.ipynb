{
 "cells": [
  {
   "cell_type": "raw",
   "id": "19f0ea69-5e41-461a-ab06-3dae61b32ebf",
   "metadata": {
    "id": "cac470df-29e7-4148-9bbd-d8b9a32fa570",
    "tags": []
   },
   "source": [
    "---\n",
    "title: \"Chap 8.3: Discrete Fourier Transform\"\n",
    "author: \"SEOYEON CHOI\"\n",
    "date: \"2023-02-01\"\n",
    "categories:\n",
    "  - Discrete Fourier Transform\n",
    "---"
   ]
  },
  {
   "cell_type": "markdown",
   "id": "88b69eb1-53c0-48c1-96dd-f64ce283744c",
   "metadata": {},
   "source": [
    "> Chap 8.3: Discrete Fourier Transform"
   ]
  },
  {
   "cell_type": "code",
   "execution_count": 32,
   "id": "b4055129-5660-4600-9303-e352c4620806",
   "metadata": {},
   "outputs": [],
   "source": [
    "using LinearAlgebra, FFTW"
   ]
  },
  {
   "cell_type": "markdown",
   "id": "260ad1aa-d94d-4ea9-93c0-c1ea383d1e86",
   "metadata": {},
   "source": [
    "Shift Operator B가 존재할 떄,\n",
    "\n",
    "- 직교 행렬orthogonal\n",
    "- cyclic shift operator($BS_n = S_{n-1}$) $\\to$ $S_{n-1}$은 vector space components\n",
    "\n",
    "$\\star$ 시계열의 back shift operator 로 생각할 수 있고, foward shift operator도 가능하다. \n",
    "\n",
    "$\\star$ cyclic operator이어야 하는 이유? 책의 정의 이용 및 back/forward shift operator는 고유분해 안 될 수도.\n",
    "\n",
    "이 행렬을 고유분해(full rank)하여 나온 고유값과 고유벡터가 존재한다."
   ]
  },
  {
   "cell_type": "code",
   "execution_count": 45,
   "id": "b5757516-fa61-4dc6-ab36-13d88a38b115",
   "metadata": {},
   "outputs": [
    {
     "data": {
      "text/plain": [
       "5×5 Matrix{Int64}:\n",
       " 1  0  0  0  0\n",
       " 0  1  0  0  0\n",
       " 0  0  1  0  0\n",
       " 0  0  0  1  0\n",
       " 0  0  0  0  1"
      ]
     },
     "execution_count": 45,
     "metadata": {},
     "output_type": "execute_result"
    }
   ],
   "source": [
    "B= [0 0 0 0 1\n",
    "    1 0 0 0 0 \n",
    "    0 1 0 0 0\n",
    "    0 0 1 0 0\n",
    "    0 0 0 1 0] # cyclic shift operator B\n",
    "B'B # matrix B is orthogonal"
   ]
  },
  {
   "cell_type": "code",
   "execution_count": 46,
   "id": "80140c24-418e-47db-92d6-6a231c067777",
   "metadata": {},
   "outputs": [
    {
     "data": {
      "text/plain": [
       "5-element Vector{Int64}:\n",
       " 5\n",
       " 1\n",
       " 2\n",
       " 3\n",
       " 4"
      ]
     },
     "execution_count": 46,
     "metadata": {},
     "output_type": "execute_result"
    }
   ],
   "source": [
    "s = [1,2,3,4,5]\n",
    "B*s # matrix B is a cyclic shift operator"
   ]
  },
  {
   "cell_type": "code",
   "execution_count": 47,
   "id": "b614ad43-8c81-4a00-bf38-e79b108b6be1",
   "metadata": {},
   "outputs": [
    {
     "data": {
      "text/plain": [
       "5-element Vector{Int64}:\n",
       " 4\n",
       " 5\n",
       " 1\n",
       " 2\n",
       " 3"
      ]
     },
     "execution_count": 47,
     "metadata": {},
     "output_type": "execute_result"
    }
   ],
   "source": [
    "B^2*s"
   ]
  },
  {
   "cell_type": "markdown",
   "id": "f5a62f86-d49d-4114-92ca-9875ad8575f6",
   "metadata": {},
   "source": [
    "이 고유값$\\lambda$, 고유벡터$\\psi$가 존재한다면 B는 $DFT^* \\Lambda DFT$로 표현 가능핟하다.\n",
    "\n",
    "- $DFT^*$\n",
    "    - conjugate matrix\n",
    "    - $\\psi$인데 DFT로 표현 $\\to$ 그래프 도메인으로 확장이 가능하기 때문\n",
    "    \n",
    "여기서 $DFT^*$는 $\\psi^*_k = DFT_k = \\frac{1}{\\sqrt{N}} \\begin{bmatrix} 1 \\\\ \\dots \\\\ e^{-j\\frac{2\\pi}{N}(N-1)k} \\end{bmatrix}$로서 표현($\\in C^N$ 길이가 $N$인 vector(복소수))\n",
    "\n",
    "- unitary and symmetric\n",
    "    - unitary $\\to$ complex space에서 정규직교기저를 이루고, $A(A^*)^\\top = I, \\psi^{-1} = \\psi^*, \\psi^* \\psi = \\psi \\psi^* = I$\n",
    "- 위 $k$개의 벡터들은 `spectral components` 이다.\n",
    "- the complex exponential sinusodal functions"
   ]
  },
  {
   "cell_type": "markdown",
   "id": "7c055960-9d62-4063-9435-eeb63430b7d9",
   "metadata": {},
   "source": [
    "여기서 $\\lambda$는 the `frequencies of the signal` 로서 정의될 수 있다.\n",
    "\n",
    "- 특징\n",
    "    - distinct\n",
    "    - positive\n",
    "    - equally spaced\n",
    "    - increasing from $0$ ro $\\frac{N-1}{N}$"
   ]
  },
  {
   "cell_type": "code",
   "execution_count": 48,
   "id": "50b3e316-3ded-4286-b828-dc1564379c97",
   "metadata": {},
   "outputs": [
    {
     "data": {
      "text/plain": [
       "Eigen{ComplexF64, ComplexF64, Matrix{ComplexF64}, Vector{ComplexF64}}\n",
       "values:\n",
       "5-element Vector{ComplexF64}:\n",
       " -0.8090169943749472 - 0.5877852522924725im\n",
       " -0.8090169943749472 + 0.5877852522924725im\n",
       " 0.30901699437494734 - 0.9510565162951536im\n",
       " 0.30901699437494734 + 0.9510565162951536im\n",
       "  0.9999999999999998 + 0.0im\n",
       "vectors:\n",
       "5×5 Matrix{ComplexF64}:\n",
       "  0.138197+0.425325im   0.138197-0.425325im  …  0.447214+0.0im\n",
       " -0.361803-0.262866im  -0.361803+0.262866im     0.447214+0.0im\n",
       "  0.447214-0.0im        0.447214+0.0im          0.447214+0.0im\n",
       " -0.361803+0.262866im  -0.361803-0.262866im     0.447214+0.0im\n",
       "  0.138197-0.425325im   0.138197+0.425325im     0.447214+0.0im"
      ]
     },
     "execution_count": 48,
     "metadata": {},
     "output_type": "execute_result"
    }
   ],
   "source": [
    "λ, ψ = eigen(B)"
   ]
  },
  {
   "cell_type": "code",
   "execution_count": 49,
   "id": "077f8fb9-e2ca-4a7c-82de-d3687a834224",
   "metadata": {},
   "outputs": [
    {
     "data": {
      "text/plain": [
       "5×5 Matrix{ComplexF64}:\n",
       "    2.498e-16-9.67158e-18im  …           1.0+1.81709e-18im\n",
       "          1.0+2.1793e-18im       5.55112e-16-1.09573e-17im\n",
       " -3.88578e-16-7.89355e-18im     -3.21902e-16+8.57473e-18im\n",
       " -4.16334e-16-8.06149e-18im       -4.996e-16-8.9293e-18im\n",
       "  2.99888e-16+1.53977e-17im      3.99189e-16+1.42498e-17im"
      ]
     },
     "execution_count": 49,
     "metadata": {},
     "output_type": "execute_result"
    }
   ],
   "source": [
    "B = ψ * Diagonal(λ) * ψ'"
   ]
  },
  {
   "cell_type": "code",
   "execution_count": 50,
   "id": "0dbe667a-1084-4c0d-b0d4-4c73bb067052",
   "metadata": {},
   "outputs": [
    {
     "data": {
      "text/plain": [
       "5×5 adjoint(::Matrix{ComplexF64}) with eltype ComplexF64:\n",
       "  0.138197-0.425325im  -0.361803+0.262866im  …  0.138197+0.425325im\n",
       "  0.138197+0.425325im  -0.361803-0.262866im     0.138197-0.425325im\n",
       " -0.361803-0.262866im  -0.361803+0.262866im     0.138197-0.425325im\n",
       " -0.361803+0.262866im  -0.361803-0.262866im     0.138197+0.425325im\n",
       "  0.447214-0.0im        0.447214-0.0im          0.447214-0.0im"
      ]
     },
     "execution_count": 50,
     "metadata": {},
     "output_type": "execute_result"
    }
   ],
   "source": [
    "DFT = ψ'"
   ]
  },
  {
   "cell_type": "markdown",
   "id": "66ec3043-dccd-46cc-bf41-ab95a626c6d4",
   "metadata": {},
   "source": [
    "$B = \\psi \\Lambda \\psi^{-1}$\n",
    "\n",
    "- $\\psi^H := DFT$ 이렇게 정의한다면 F의 고유벡터의 conjugate\n",
    "- $F$ $\\to$ $BF = I$\n",
    "- $\\psi \\Lambda \\psi^H  F = I$\n",
    "- 만약, $F$가 $\\psi^H\\Lambda^{-1}\\psi$라면, $\\psi \\Lambda \\psi^H\\psi^H\\Lambda \\psi = I$\n",
    "- 따라서 $F$는 $\\psi^{-1} \\Lambda^{-1} \\psi$로 고유분해"
   ]
  },
  {
   "cell_type": "code",
   "execution_count": 51,
   "id": "fdf7765b-38d5-4cb4-a1c6-6473f5a0c151",
   "metadata": {},
   "outputs": [
    {
     "data": {
      "text/plain": [
       "4-element Vector{Complex{Int64}}:\n",
       "  1 + 0im\n",
       "  2 - 1im\n",
       "  0 - 1im\n",
       " -1 + 2im"
      ]
     },
     "execution_count": 51,
     "metadata": {},
     "output_type": "execute_result"
    }
   ],
   "source": [
    "x = [1,2-im,-im,-1+2im]"
   ]
  },
  {
   "cell_type": "code",
   "execution_count": 52,
   "id": "d339b648-01cc-4abc-92d8-3635d38951d7",
   "metadata": {},
   "outputs": [
    {
     "data": {
      "text/plain": [
       "4×4 Matrix{Int64}:\n",
       " 0  0  0  0\n",
       " 0  1  2  3\n",
       " 0  2  4  6\n",
       " 0  3  6  9"
      ]
     },
     "execution_count": 52,
     "metadata": {},
     "output_type": "execute_result"
    }
   ],
   "source": [
    "_DFT = reshape([i*j for i in 0:3 for j in 0:3], (4,4))\n",
    "_DFT"
   ]
  },
  {
   "cell_type": "code",
   "execution_count": 53,
   "id": "6a3e10f2-61c4-449c-b8c7-7b291dc8b84b",
   "metadata": {},
   "outputs": [
    {
     "data": {
      "text/plain": [
       "4×4 Matrix{ComplexF64}:\n",
       " 1.0-0.0im           1.0-0.0im          …           1.0-0.0im\n",
       " 1.0-0.0im   6.12323e-17-1.0im             -1.83697e-16+1.0im\n",
       " 1.0-0.0im          -1.0-1.22465e-16im             -1.0-3.67394e-16im\n",
       " 1.0-0.0im  -1.83697e-16+1.0im              5.51091e-16-1.0im"
      ]
     },
     "execution_count": 53,
     "metadata": {},
     "output_type": "execute_result"
    }
   ],
   "source": [
    "f = x -> exp(-im * (2π/4) * x)\n",
    "DFT = _DFT .|> f"
   ]
  },
  {
   "cell_type": "code",
   "execution_count": 55,
   "id": "0fe8e402-0ffe-4b15-9e1f-4fb82ea731a6",
   "metadata": {},
   "outputs": [
    {
     "data": {
      "text/plain": [
       "4-element Vector{ComplexF64}:\n",
       "                   2.0 + 0.0im\n",
       "   -1.9999999999999998 - 2.0000000000000004im\n",
       " 8.881784197001252e-16 - 1.9999999999999998im\n",
       "    3.9999999999999987 + 4.000000000000001im"
      ]
     },
     "execution_count": 55,
     "metadata": {},
     "output_type": "execute_result"
    }
   ],
   "source": [
    "DFT * x"
   ]
  },
  {
   "cell_type": "code",
   "execution_count": 54,
   "id": "20ffeedc-39f8-4a39-8ba5-39625824f8e5",
   "metadata": {},
   "outputs": [
    {
     "data": {
      "text/plain": [
       "4-element Vector{ComplexF64}:\n",
       "  2.0 + 0.0im\n",
       " -2.0 - 2.0im\n",
       "  0.0 - 2.0im\n",
       "  4.0 + 4.0im"
      ]
     },
     "execution_count": 54,
     "metadata": {},
     "output_type": "execute_result"
    }
   ],
   "source": [
    "fft(x)"
   ]
  },
  {
   "cell_type": "markdown",
   "id": "1f8cd6ff-59d3-42b3-9620-80be959214c9",
   "metadata": {},
   "source": [
    "DFT의 두 번쨰 정의\n",
    "\n",
    "- 복소수 sequence $\\{x_n\\}$을 `규칙`에 따라 $\\{X_k\\}$로 변환하는 것\n",
    "- 규칙: $x_k = \\sum^{N-1}_{n=0} x_n e^{-i\\frac{2\\pi}{N}kn}$\n",
    "    - 특히, $k=0$이면 $X_0 = \\sum^{N-1}{n=0}x_n$, constant term 이 되어 $\\beta_0$의 역할을 한다.\n",
    "\n",
    "행렬로 표현한다면, $\\begin{bmatrix}X_k \\\\ \\dots \\end{bmatrix} = DFT = \\begin{bmatrix}x_n \\\\ \\dots \\end{bmatrix}$\n",
    "\n",
    "- $x_k = DFT^{-1}X_k$\n",
    "    - $x_k$ = bias, 관측값\n",
    "    - $DFT^{-1}$: 설명변수, unitary라 $DFT^{-1} = DFT = DFT^*$, symmetric, orthogonal(설명변수가 독립적이라 다중공선성이 존재하지 않는다.)\n",
    "        - 다중공선성이 있으면 각 설명변수의 설명이 안 될 수도 있고 그 설명변수를 해석하기도 어려워짐.\n",
    "    - $X_k = \\beta$, codfficient(푸리에 변환의 결과이다)"
   ]
  },
  {
   "cell_type": "markdown",
   "id": "1ce93d20-6fea-4ae7-8a12-67f0c2dcb60e",
   "metadata": {},
   "source": [
    "DFT 행렬의 특징\n",
    "\n",
    "1. 유니터리unitary 행렬, 즉, $DFT^* = DFT, DFT^*DFT = I$\n",
    "2. 대칭symmetric 행렬 $\\to$ 그렇기 떄문에 이 행렬의 켤레전치는 $i = \\sqrt{-1}$ 대신 $i$를 넣은 것과 같음.\n",
    "\n",
    "- inverse DFT는 $i = -i$를 넣은 행렬, 즉 DFT의 켤레전치 = inverse DFT"
   ]
  },
  {
   "cell_type": "markdown",
   "id": "38575816-0852-4826-87db-edb55323b8fb",
   "metadata": {},
   "source": [
    "$DFT = \\frac{1}{\\sqrt{N}}\\begin{bmatrix} 1 & 1 & 1 & \\dots & 1 \\\\ 1 & e^{-i\\frac{2\\pi}{N}1} & e^{-i\\frac{2\\pi}{N}1} & \\dots & e^{-i\\frac{2\\pi}{N}(N-1)} \\\\ 1 & e^{-i\\frac{2\\pi}{N}2} & e^{-i\\frac{2\\pi}{N}4} & \\dots & e^{-i\\frac{2\\pi}{N}(2(N-1)} \\\\ \\dots & \\dots & \\dots & \\dots \\\\ 1 & e^{-i\\frac{2\\pi}{N}(N-1)} & e^{-i\\frac{2\\pi}{N}2(N-1)} & \\dots & e^{-i\\frac{2\\pi}{N}(N-1)^2}\\end{bmatrix}$"
   ]
  },
  {
   "cell_type": "code",
   "execution_count": 59,
   "id": "6fcb28f0-0025-4b13-9ba0-929aab414cba",
   "metadata": {},
   "outputs": [
    {
     "data": {
      "text/plain": [
       "4×4 Matrix{ComplexF64}:\n",
       "  0.0+0.0im  -0.0-0.0im   0.0-0.0im   0.0-0.0im\n",
       " -0.0+0.0im   0.0+0.0im  -0.0-0.0im   0.0-0.0im\n",
       "  0.0+0.0im  -0.0+0.0im   0.0+0.0im  -0.0-0.0im\n",
       "  0.0+0.0im   0.0+0.0im  -0.0+0.0im   0.0+0.0im"
      ]
     },
     "execution_count": 59,
     "metadata": {},
     "output_type": "execute_result"
    }
   ],
   "source": [
    "DFT = (1/√4)*DFT # 위의 정의 충족위해 1/sqrt(4)곱함\n",
    "DFT'DFT .|> round # 유니터리행렬임을 확인!"
   ]
  },
  {
   "cell_type": "code",
   "execution_count": null,
   "id": "52ed237a-0426-42f3-9fe6-df7ede4e7055",
   "metadata": {},
   "outputs": [],
   "source": []
  }
 ],
 "metadata": {
  "kernelspec": {
   "display_name": "Julia 1.7.2",
   "language": "julia",
   "name": "julia-1.7"
  },
  "language_info": {
   "file_extension": ".jl",
   "mimetype": "application/julia",
   "name": "julia",
   "version": "1.7.2"
  }
 },
 "nbformat": 4,
 "nbformat_minor": 5
}

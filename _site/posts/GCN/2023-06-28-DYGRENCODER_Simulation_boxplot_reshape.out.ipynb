{
  "cells": [
    {
      "cell_type": "markdown",
      "metadata": {},
      "source": [
        "# DYGRENCODER_Simulation_reshape\n",
        "\n",
        "SEOYEON CHOI  \n",
        "6/28/23\n",
        "\n",
        "> Simulation Study\n",
        "\n",
        "# Import"
      ],
      "id": "65554036-f079-4e09-a942-89ea4b47546e"
    },
    {
      "cell_type": "code",
      "execution_count": 2,
      "metadata": {},
      "outputs": [],
      "source": [
        "import matplotlib.pyplot as plt\n",
        "import pandas as pd\n",
        "import numpy as np"
      ],
      "id": "0fca808e-ac08-48d6-9848-04c7f6916f0c"
    },
    {
      "cell_type": "markdown",
      "metadata": {},
      "source": [
        "# Fivenodes"
      ],
      "id": "bd23ce2c-6907-4a8f-a64b-e3e9abf2f130"
    },
    {
      "cell_type": "code",
      "execution_count": 3,
      "metadata": {},
      "outputs": [],
      "source": [
        "df1 = pd.read_csv('./simulation_results/2023-06-29_18-32-37.csv')\n",
        "df2 = pd.read_csv('./simulation_results/2023-06-29_19-03-08.csv')\n",
        "df3 = pd.read_csv('./simulation_results/2023-06-29_19-30-06.csv')\n",
        "df4 = pd.read_csv('./simulation_results/2023-06-29_19-56-06.csv')\n",
        "df5 = pd.read_csv('./simulation_results/2023-06-29_20-24-32.csv')\n",
        "df6 = pd.read_csv('./simulation_results/2023-06-29_20-51-36.csv')\n",
        "df7 = pd.read_csv('./simulation_results/2023-06-29_21-23-07.csv')\n",
        "df8 = pd.read_csv('./simulation_results/2023-06-29_21-51-08.csv')"
      ],
      "id": "36919f40-c416-43ad-918d-a4d1b041707e"
    },
    {
      "cell_type": "code",
      "execution_count": 3,
      "metadata": {},
      "outputs": [],
      "source": [
        "df9 = pd.read_csv('./simulation_results/2023-07-19_11-51-08.csv')\n",
        "df10 = pd.read_csv('./simulation_results/2023-07-19_12-40-54.csv')\n",
        "df11 = pd.read_csv('./simulation_results/2023-07-19_13-33-52.csv')\n",
        "df12 = pd.read_csv('./simulation_results/2023-07-19_14-21-16.csv')\n",
        "df13 = pd.read_csv('./simulation_results/2023-07-19_15-14-51.csv')\n",
        "df14 = pd.read_csv('./simulation_results/2023-07-19_16-04-07.csv')"
      ],
      "id": "c7b6f675-f374-47b0-9e88-3661b9e13402"
    },
    {
      "cell_type": "code",
      "execution_count": 4,
      "metadata": {},
      "outputs": [],
      "source": [
        "data = pd.concat([df1,df2,df3,df4,df5,df6,df7,df8,df9,df10,df11,df12,df13,df14],axis=0)"
      ],
      "id": "58cfba4c-cae3-4754-b6f5-8c519b45a0f5"
    },
    {
      "cell_type": "code",
      "execution_count": 5,
      "metadata": {},
      "outputs": [],
      "source": [
        "data.to_csv('./simulation_results/Real_simulation_reshape/DYGRENCODER_fivedones_Simulation.csv',index=False)"
      ],
      "id": "7749c9c0-6c19-4967-904d-6e7f81bf8077"
    },
    {
      "cell_type": "code",
      "execution_count": 6,
      "metadata": {},
      "outputs": [],
      "source": [
        "data = pd.read_csv('./simulation_results/Real_simulation_reshape/DYGRENCODER_fivedones_Simulation.csv')"
      ],
      "id": "040032e4-238b-46f7-b9f1-146f5d4c8e78"
    },
    {
      "cell_type": "markdown",
      "metadata": {},
      "source": [
        "## Baseline"
      ],
      "id": "7aae6fc2-c664-45fd-8bb6-e0acf9bd025e"
    },
    {
      "cell_type": "code",
      "execution_count": 7,
      "metadata": {
        "tags": []
      },
      "outputs": [],
      "source": [
        "data.query(\"method!='GNAR' and mrate==0\").plot.box(backend='plotly',x='mrate',color='method',y='mse',facet_col='lags',facet_row='nof_filters',height=600)\n"
      ],
      "id": "ede2950a-5e30-41df-a53d-5e3c9f97a75b"
    },
    {
      "cell_type": "markdown",
      "metadata": {},
      "source": [
        "## Random"
      ],
      "id": "5c0fcf1e-43e8-4206-92c0-60666da7b148"
    },
    {
      "cell_type": "code",
      "execution_count": 8,
      "metadata": {},
      "outputs": [],
      "source": [
        "data.query(\"method!='GNAR' and mtype =='rand'\").plot.box(backend='plotly',x='mrate',color='method',y='mse',facet_col='inter_method',facet_row='nof_filters',height=600)\n",
        "\n"
      ],
      "id": "f14621a5-6b84-407c-a85e-f59fe1cbfaa0"
    },
    {
      "cell_type": "markdown",
      "metadata": {},
      "source": [
        "## Block"
      ],
      "id": "52ef1cf6-8883-4880-bdc7-1f702e8da28d"
    },
    {
      "cell_type": "code",
      "execution_count": 9,
      "metadata": {},
      "outputs": [],
      "source": [
        "data.query(\"method!='GNAR' and mtype =='block' \").plot.box(backend='plotly',x='mrate',color='method',y='mse',facet_col='inter_method',facet_row='nof_filters',height=600)\n"
      ],
      "id": "843aff12-fabc-4ff6-ad01-fce7a4d89f79"
    },
    {
      "cell_type": "markdown",
      "metadata": {},
      "source": [
        "# chickenpox"
      ],
      "id": "06926fb9-c0c6-4719-a52d-e24f6f1d9d1e"
    },
    {
      "cell_type": "code",
      "execution_count": 28,
      "metadata": {},
      "outputs": [],
      "source": [
        "df1 = pd.read_csv('./simulation_results/2023-06-29_22-35-38.csv') # GNAR random\n",
        "df2 = pd.read_csv('./simulation_results/2023-06-29_23-18-24.csv') # GNAR block\n",
        "df3 = pd.read_csv('./simulation_results/2023-06-30_01-07-15.csv')\n",
        "df4 = pd.read_csv('./simulation_results/2023-06-30_02-53-54.csv') \n",
        "df5 = pd.read_csv('./simulation_results/2023-06-30_20-40-01.csv')\n",
        "df6 = pd.read_csv('./simulation_results/2023-06-30_22-28-57.csv') "
      ],
      "id": "ab9fbacd-9d39-4375-872e-b006eb06c9d0"
    },
    {
      "cell_type": "code",
      "execution_count": 29,
      "metadata": {},
      "outputs": [],
      "source": [
        "df7 = pd.read_csv('./simulation_results/2023-07-19_17-15-37.csv') # GNAR random\n",
        "df8 = pd.read_csv('./simulation_results/2023-07-19_18-36-12.csv') # GNAR block\n",
        "df9 = pd.read_csv('./simulation_results/2023-07-19_19-50-51.csv')\n",
        "df10 = pd.read_csv('./simulation_results/2023-07-19_21-33-18.csv') "
      ],
      "id": "4570d59a-c0ec-4d88-914e-e9421abf00e8"
    },
    {
      "cell_type": "code",
      "execution_count": 30,
      "metadata": {},
      "outputs": [],
      "source": [
        "data = pd.concat([df1,df2,df3,df4,df5,df6,df7,df8,df9,df10],axis=0)"
      ],
      "id": "91cb0f4a-ce9f-4605-a50b-5d534bc8406e"
    },
    {
      "cell_type": "code",
      "execution_count": 31,
      "metadata": {},
      "outputs": [],
      "source": [
        "data.to_csv('./simulation_results/Real_simulation_reshape/DYGRENCODER_chikenpox_Simulation.csv',index=False)"
      ],
      "id": "44f3fb97-032b-4fee-9816-92e590e922cd"
    },
    {
      "cell_type": "code",
      "execution_count": 32,
      "metadata": {},
      "outputs": [],
      "source": [
        "data = pd.read_csv('./simulation_results/Real_simulation_reshape/DYGRENCODER_chikenpox_Simulation.csv')"
      ],
      "id": "554382ef-bfa8-44a4-aeea-ff9277d82e68"
    },
    {
      "cell_type": "markdown",
      "metadata": {},
      "source": [
        "## Baseline"
      ],
      "id": "91e9bf04-c2f4-439e-ac09-ce008b28f0c4"
    },
    {
      "cell_type": "code",
      "execution_count": 33,
      "metadata": {},
      "outputs": [],
      "source": [
        "data.query(\"method!='GNAR' and mrate ==0 \").plot.box(backend='plotly',x='mrate',color='method',y='mse',facet_col='nof_filters',height=600)\n"
      ],
      "id": "74b25c42-19d1-4baa-839d-0f8872ad5203"
    },
    {
      "cell_type": "markdown",
      "metadata": {},
      "source": [
        "## Random"
      ],
      "id": "73e68a46-aea1-46b8-80ad-73c1e75ce269"
    },
    {
      "cell_type": "code",
      "execution_count": 34,
      "metadata": {},
      "outputs": [],
      "source": [
        "data.query(\"method!='GNAR' and mtype =='rand'\").plot.box(backend='plotly',x='mrate',color='method',y='mse',facet_col='nof_filters',facet_row='inter_method',height=800)\n"
      ],
      "id": "08d6b702-5b62-4f01-ab3c-b0520d674648"
    },
    {
      "cell_type": "markdown",
      "metadata": {},
      "source": [
        "## Block"
      ],
      "id": "7a5ebb17-bef7-45b2-bf62-4650236c9c24"
    },
    {
      "cell_type": "code",
      "execution_count": 35,
      "metadata": {},
      "outputs": [],
      "source": [
        "data.query(\"method!='GNAR' and mtype =='block'\").plot.box(backend='plotly',x='mrate',color='method',y='mse',facet_col='inter_method',facet_row='lags',height=800)\n"
      ],
      "id": "ae8d8274-bf3b-400f-8cc0-12ba7b52ce16"
    },
    {
      "cell_type": "markdown",
      "metadata": {},
      "source": [
        "# Pedalme"
      ],
      "id": "df7f37d1-d726-43f0-a17c-c1fbf0464271"
    },
    {
      "cell_type": "code",
      "execution_count": 36,
      "metadata": {},
      "outputs": [],
      "source": [
        "df1 = pd.read_csv('./simulation_results/2023-06-30_03-34-45.csv') \n",
        "df2 = pd.read_csv('./simulation_results/2023-06-30_03-48-08.csv')  "
      ],
      "id": "f524a1f9-9d5f-4ab2-ab73-54628d85fa80"
    },
    {
      "cell_type": "code",
      "execution_count": 37,
      "metadata": {},
      "outputs": [],
      "source": [
        "df3 = pd.read_csv('./simulation_results/2023-07-19_22-14-42.csv') "
      ],
      "id": "1fef808e-7942-4023-91de-86c41285206d"
    },
    {
      "cell_type": "code",
      "execution_count": 38,
      "metadata": {},
      "outputs": [],
      "source": [
        "data = pd.concat([df1,df2,df3],axis=0)"
      ],
      "id": "b32f2d9e-bf97-43aa-86b3-416adda0736c"
    },
    {
      "cell_type": "code",
      "execution_count": 39,
      "metadata": {},
      "outputs": [],
      "source": [
        "data.to_csv('./simulation_results/Real_simulation_reshape/DYGRENCODER_pedalme_Simulation.csv',index=False)"
      ],
      "id": "906d7066-56d8-4bf0-911d-bbf71e4b2383"
    },
    {
      "cell_type": "code",
      "execution_count": 40,
      "metadata": {},
      "outputs": [],
      "source": [
        "data = pd.read_csv('./simulation_results/Real_simulation_reshape/DYGRENCODER_pedalme_Simulation.csv')"
      ],
      "id": "96d8ded2-8e2d-455d-8b60-5dc48fbc7f51"
    },
    {
      "cell_type": "markdown",
      "metadata": {},
      "source": [
        "## Baseline"
      ],
      "id": "c4e990ed-2130-4275-9cbf-af9459b258fb"
    },
    {
      "cell_type": "code",
      "execution_count": 41,
      "metadata": {},
      "outputs": [],
      "source": [
        "data.query(\"mrate ==0 and lags!=2\").plot.box(backend='plotly',x='epoch',color='method',y='mse',facet_col='nof_filters',facet_row='lags',height=400)\n"
      ],
      "id": "5bac96e8-f23c-4be4-b159-01f7e530ace4"
    },
    {
      "cell_type": "markdown",
      "metadata": {},
      "source": [
        "## random"
      ],
      "id": "e9927abc-6b3c-408b-8607-6b8d1c331cf6"
    },
    {
      "cell_type": "code",
      "execution_count": 42,
      "metadata": {},
      "outputs": [],
      "source": [
        "data.query(\"method!='GNAR' and mtype =='rand' and lags!=2\").plot.box(backend='plotly',x='mrate',color='method',y='mse',facet_col='nof_filters',facet_row='inter_method',height=800)\n"
      ],
      "id": "1fe746dc-ce23-413e-aad5-86bc381b3da3"
    },
    {
      "cell_type": "markdown",
      "metadata": {},
      "source": [
        "## block"
      ],
      "id": "7cf6923a-f78c-43c2-955b-e1959405fc49"
    },
    {
      "cell_type": "code",
      "execution_count": 43,
      "metadata": {},
      "outputs": [],
      "source": [
        "data.query(\"method!='GNAR' and mtype =='block' and lags!=2 \").plot.box(backend='plotly',x='mrate',color='method',y='mse',facet_col='nof_filters',facet_row='inter_method',height=800)\n"
      ],
      "id": "86dd1fac-209e-49d9-8da3-c0e07510a577"
    },
    {
      "cell_type": "markdown",
      "metadata": {},
      "source": [
        "## weight matrix time, node 고려한 결과"
      ],
      "id": "674be01b-6148-4173-b4de-2af71e6bf0fe"
    },
    {
      "cell_type": "code",
      "execution_count": 70,
      "metadata": {},
      "outputs": [],
      "source": [
        "df1 = pd.read_csv('./simulation_results/2023-06-30_13-25-56.csv')\n",
        "df2 = pd.read_csv('./simulation_results/2023-06-30_14-00-19.csv')"
      ],
      "id": "6152a145-0cc8-4268-b3cf-46cde0f10886"
    },
    {
      "cell_type": "code",
      "execution_count": 71,
      "metadata": {},
      "outputs": [],
      "source": [
        "data2 = pd.concat([df1,df2],axis=0)"
      ],
      "id": "352a1c2f-bf9e-468a-8cda-dde35c81e461"
    },
    {
      "cell_type": "code",
      "execution_count": 72,
      "metadata": {},
      "outputs": [],
      "source": [
        "data2.to_csv('./simulation_results/Real_simulation_reshape/DYGRENCODER_pedalme_Simulation_itstgcnsnd.csv',index=False)"
      ],
      "id": "f7eff875-138e-4e48-aaf5-dd696fa68c2c"
    },
    {
      "cell_type": "code",
      "execution_count": 73,
      "metadata": {},
      "outputs": [],
      "source": [
        "data2 = pd.read_csv('./simulation_results/Real_simulation_reshape/DYGRENCODER_pedalme_Simulation_itstgcnsnd.csv')"
      ],
      "id": "6b2f6a45-4421-401f-b0d8-1d7e47c5a22d"
    },
    {
      "cell_type": "code",
      "execution_count": 74,
      "metadata": {},
      "outputs": [],
      "source": [
        "data2.query(\"mtype=='rand'\").plot.box(backend='plotly',x='mrate',color='method',y='mse',facet_col='inter_method',facet_row='nof_filters',height=1000)"
      ],
      "id": "5c629304-2b65-482c-86e6-9fcd33559217"
    },
    {
      "cell_type": "code",
      "execution_count": 75,
      "metadata": {},
      "outputs": [],
      "source": [
        "data2.query(\"mtype=='block'\").plot.box(backend='plotly',x='mrate',color='method',y='mse',facet_col='inter_method',facet_row='nof_filters',height=1000)"
      ],
      "id": "59a8237b-47cc-41b6-b9cf-780156063576"
    },
    {
      "cell_type": "markdown",
      "metadata": {},
      "source": [
        "# Wikimath"
      ],
      "id": "25e561d8-2246-4de4-b92b-650f46abf0ef"
    },
    {
      "cell_type": "code",
      "execution_count": 98,
      "metadata": {},
      "outputs": [],
      "source": [
        "df1 = pd.read_csv('./simulation_results/2023-06-30_02-53-36.csv')\n",
        "df2 = pd.read_csv('./simulation_results/2023-06-30_06-31-21.csv')\n",
        "df3 = pd.read_csv('./simulation_results/2023-06-30_10-03-24.csv')\n",
        "df4 = pd.read_csv('./simulation_results/2023-06-30_15-50-56.csv')\n",
        "df5 = pd.read_csv('./simulation_results/2023-06-30_21-17-48.csv')\n",
        "df6 = pd.read_csv('./simulation_results/2023-07-01_00-13-15.csv')\n",
        "df7 = pd.read_csv('./simulation_results/2023-07-01_03-01-56.csv')\n",
        "df8 = pd.read_csv('./simulation_results/2023-07-01_05-42-24.csv')\n",
        "df9 = pd.read_csv('./simulation_results/2023-07-01_08-30-04.csv') # block\n",
        "df10 = pd.read_csv('./simulation_results/2023-07-01_11-32-33.csv') # block\n",
        "df11 = pd.read_csv('./simulation_results/2023-07-01_14-38-22.csv') # block"
      ],
      "id": "2bfa168e-a03c-42e3-8c74-b5b55f436aaa"
    },
    {
      "cell_type": "code",
      "execution_count": 99,
      "metadata": {},
      "outputs": [],
      "source": [
        "df12 = pd.read_csv('./simulation_results/2023-08-06_04-42-31.csv')\n",
        "df13 = pd.read_csv('./simulation_results/2023-08-06_09-09-26.csv')\n",
        "df14 = pd.read_csv('./simulation_results/2023-08-06_12-31-54.csv')\n",
        "df15 = pd.read_csv('./simulation_results/2023-08-06_14-41-11.csv')\n",
        "df16 = pd.read_csv('./simulation_results/2023-08-06_17-12-58.csv')\n",
        "df17 = pd.read_csv('./simulation_results/2023-08-06_20-50-45.csv')\n",
        "df18 = pd.read_csv('./simulation_results/2023-08-07_00-36-51.csv')\n",
        "df19 = pd.read_csv('./simulation_results/2023-08-07_04-21-24.csv')\n",
        "df20 = pd.read_csv('./simulation_results/2023-08-07_06-15-25.csv') # block\n",
        "df21 = pd.read_csv('./simulation_results/2023-08-07_08-07-18.csv') # block\n",
        "df22 = pd.read_csv('./simulation_results/2023-08-07_10-21-36.csv') # block\n",
        "df23 = pd.read_csv('./simulation_results/2023-08-07_14-07-17.csv') # block"
      ],
      "id": "072a9b2b-a40e-43d3-baa5-e7340d6e44f7"
    },
    {
      "cell_type": "code",
      "execution_count": 100,
      "metadata": {},
      "outputs": [],
      "source": [
        "data = pd.concat([df1,df2,df3,df4,df5,df6,df7,df8,df9,df10,df11,df12,df13,df14,df15,df16,df17,df18,df19,df20,df21,df22,df23],axis=0)"
      ],
      "id": "7636c7e0-1cb8-486d-8ef3-899254d3c44d"
    },
    {
      "cell_type": "code",
      "execution_count": 101,
      "metadata": {},
      "outputs": [],
      "source": [
        "data.to_csv('./simulation_results/Real_simulation_reshape/DYGRENCODER_wikimath.csv',index=False)"
      ],
      "id": "899fbe0d-7ada-4f20-a515-abb6ca84f6dd"
    },
    {
      "cell_type": "code",
      "execution_count": 102,
      "metadata": {},
      "outputs": [],
      "source": [
        "data = pd.read_csv('./simulation_results/Real_simulation_reshape/DYGRENCODER_wikimath.csv')"
      ],
      "id": "2555f3d5-d203-464e-a09e-a71d06189e6a"
    },
    {
      "cell_type": "markdown",
      "metadata": {},
      "source": [
        "## Baseline"
      ],
      "id": "ff700cbd-5934-49ad-b9a6-10460c3a96d7"
    },
    {
      "cell_type": "code",
      "execution_count": 94,
      "metadata": {},
      "outputs": [],
      "source": [
        "data.query(\"mrate==0 and method!='GNAR'\").plot.box(backend='plotly',x='mrate',color='method',y='mse',height=600)"
      ],
      "id": "005413fa-5b4f-499d-a20a-68293a536057"
    },
    {
      "cell_type": "markdown",
      "metadata": {},
      "source": [
        "## random"
      ],
      "id": "245b0f77-1ecb-4bf4-8736-eb2a4c19669e"
    },
    {
      "cell_type": "code",
      "execution_count": 97,
      "metadata": {},
      "outputs": [],
      "source": [
        "data.query(\"mtype=='rand' and mrate !=0 and method!='GNAR'\").plot.box(backend='plotly',x='mrate',color='method',y='mse',facet_col='lags',facet_row='nof_filters',height=800)\n"
      ],
      "id": "7805de1b-7266-4f7a-806c-7ad23d711893"
    },
    {
      "cell_type": "markdown",
      "metadata": {},
      "source": [
        "## block"
      ],
      "id": "40d3900a-5afc-40e6-b864-bc4b50ab76ac"
    },
    {
      "cell_type": "code",
      "execution_count": 96,
      "metadata": {},
      "outputs": [],
      "source": [
        "data.query(\"mtype=='block' and method!='GNAR'\").plot.box(backend='plotly',x='mrate',color='method',y='mse',facet_col='lags',facet_row='nof_filters',height=1200)\n"
      ],
      "id": "3e1945c4-4677-4995-88b2-1be36543864e"
    },
    {
      "cell_type": "markdown",
      "metadata": {},
      "source": [
        "## missing values on the same nodes"
      ],
      "id": "e8975d64-a3a1-4861-917a-74844ce3795c"
    },
    {
      "cell_type": "code",
      "execution_count": 122,
      "metadata": {
        "tags": []
      },
      "outputs": [],
      "source": [
        "df1 = pd.read_csv('./simulation_results/2023-07-01_17-41-40.csv') # STGCN IT-STGCN block\n",
        "df2 = pd.read_csv('./simulation_results/2023-07-01_21-00-26.csv') # STGCN IT-STGCN\n",
        "df3 = pd.read_csv('./simulation_results/2023-07-02_00-17-30.csv') "
      ],
      "id": "338b8c06-c2fc-426a-b400-d0359ce2b94a"
    },
    {
      "cell_type": "code",
      "execution_count": 123,
      "metadata": {},
      "outputs": [],
      "source": [
        "data = pd.concat([df1,df2,df3],axis=0)"
      ],
      "id": "06504c4d-dfd8-4cf5-a95b-601f00f6bb4d"
    },
    {
      "cell_type": "code",
      "execution_count": 124,
      "metadata": {},
      "outputs": [],
      "source": [
        "data.to_csv('./simulation_results/Real_simulation_reshape/DYGRENCODER_wikimath_GSO_st.csv',index=False)"
      ],
      "id": "d9f7a99f-5088-4391-a1b7-907ae66c34cc"
    },
    {
      "cell_type": "code",
      "execution_count": 125,
      "metadata": {},
      "outputs": [],
      "source": [
        "data = pd.read_csv('./simulation_results/Real_simulation_reshape/DYGRENCODER_wikimath_GSO_st.csv')"
      ],
      "id": "fc45c173-73ed-410d-b262-b91303e23bc5"
    },
    {
      "cell_type": "code",
      "execution_count": 126,
      "metadata": {},
      "outputs": [],
      "source": [
        "data.query(\"method!='GNAR' and mtype =='block' \").plot.box(backend='plotly',x='mrate',color='method',y='mse',facet_col='inter_method',facet_row='lags',height=800)\n"
      ],
      "id": "8e8e74ca-ad73-44e5-bbbb-0f9ce97278dc"
    },
    {
      "cell_type": "markdown",
      "metadata": {},
      "source": [
        "# Windmilsmall"
      ],
      "id": "843a8ad4-2c2b-4cca-b85e-92143abae4d4"
    },
    {
      "cell_type": "code",
      "execution_count": 127,
      "metadata": {},
      "outputs": [],
      "source": [
        "# df1 = pd.read_csv('./simulation_results/2023-05-27_03-20-28.csv') # STGCN IT-STGCN 70%\n",
        "# df2 = pd.read_csv('./simulation_results/2023-05-27_11-15-19.csv') # STGCN IT-STGCN\n",
        "# df3 = pd.read_csv('./simulation_results/2023-05-27_21-50-00.csv') # STGCN IT-STGCN\n",
        "# df4 = pd.read_csv('./simulation_results/2023-05-28_07-53-57.csv') # STGCN IT-STGCN\n",
        "# df5 = pd.read_csv('./simulation_results/2023-05-28_15-11-36.csv') # STGCN IT-STGCN\n",
        "# df6 = pd.read_csv('./simulation_results/2023-05-28_19-57-23.csv') # GNAR 30%, 50%, 70% # 뭔가 일단 필요없어서 데이터셋에서 뺌\n",
        "# df7 = pd.read_csv('./simulation_results/2023-05-29_01-36-37.csv') # STGCN IT-STGCN\n",
        "# df8 = pd.read_csv('./simulation_results/2023-05-29_05-55-43.csv') # STGCN IT-STGCN\n",
        "# df9 = pd.read_csv('./simulation_results/2023-05-29_11-00-42.csv') # STGCN IT-STGCN\n",
        "# df10 = pd.read_csv('./simulation_results/2023-05-29_15-58-56.csv') # STGCN IT-STGCN\n",
        "# df11 = pd.read_csv('./simulation_results/2023-05-29_21-01-58.csv') # STGCN IT-STGCN\n",
        "# df12 = pd.read_csv('./simulation_results/2023-05-30_02-08-43.csv') # STGCN IT-STGCN\n",
        "# df13 = pd.read_csv('./simulation_results/2023-05-30_06-27-00.csv') # STGCN IT-STGCN\n",
        "# df14 = pd.read_csv('./simulation_results/2023-05-30_11-59-01.csv') # STGCN IT-STGCN\n",
        "# df15 = pd.read_csv('./simulation_results/2023-05-30_15-59-12.csv') # STGCN IT-STGCN\n",
        "# df16 = pd.read_csv('./simulation_results/2023-04-20_00-46-43.csv') # STGCN IT-STGCN\n",
        "# df17 = pd.read_csv('./simulation_results/2023-04-20_06-51-34.csv') # STGCN IT-STGCN\n",
        "# df18 = pd.read_csv('./simulation_results/2023-04-20_08-30-27.csv') # STGCN IT-STGCN\n",
        "# df19 = pd.read_csv('./simulation_results/2023-04-20_14-28-35.csv') # STGCN IT-STGCN\n",
        "# df20 = pd.read_csv('./simulation_results/2023-04-20_16-08-39.csv') # STGCN IT-STGCN\n",
        "# df21 = pd.read_csv('./simulation_results/2023-04-20_22-09-37.csv') # STGCN IT-STGCN\n",
        "# df22 = pd.read_csv('./simulation_results/2023-04-20_23-48-26.csv') # STGCN IT-STGCN\n",
        "# df23 = pd.read_csv('./simulation_results/2023-04-21_05-36-47.csv') # STGCN IT-STGCN\n",
        "# df24 = pd.read_csv('./simulation_results/2023-04-21_15-26-00.csv') # STGCN IT-STGCN\n",
        "# df25 = pd.read_csv('./simulation_results/2023-04-21_23-27-11.csv') # STGCN IT-STGCN\n",
        "# df26 = pd.read_csv('./simulation_results/2023-04-22_07-46-08.csv') # STGCN IT-STGCN\n",
        "# df27 = pd.read_csv('./simulation_results/2023-04-22_15-45-20.csv') # STGCN IT-STGCN\n",
        "# df28 = pd.read_csv('./simulation_results/2023-04-22_22-57-31.csv') # STGCN IT-STGCN\n",
        "# df29 = pd.read_csv('./simulation_results/2023-04-23_07-00-15.csv') # STGCN IT-STGCN\n",
        "# df30 = pd.read_csv('./simulation_results/2023-04-23_15-18-02.csv') # STGCN IT-STGCN\n",
        "# df31 = pd.read_csv('./simulation_results/2023-04-23_15-22-36.csv') # GNAR 70%\n",
        "# # baseline\n",
        "# df32 = pd.read_csv('./simulation_results/2023-04-29_06-54-40.csv') # GNAR \n",
        "# df33 = pd.read_csv('./simulation_results/2023-04-30_18-55-12.csv')\n",
        "# df34 = pd.read_csv('./simulation_results/2023-05-01_02-55-33.csv')\n",
        "# df35 = pd.read_csv('./simulation_results/2023-05-01_10-21-15.csv')\n",
        "# df36 = pd.read_csv('./simulation_results/2023-05-01_19-23-57.csv')\n",
        "# df37 = pd.read_csv('./simulation_results/2023-05-02_01-10-53.csv')\n",
        "# df38 = pd.read_csv('./simulation_results/2023-05-02_08-26-53.csv')\n",
        "# df39 = pd.read_csv('./simulation_results/2023-05-02_16-00-40.csv')\n",
        "# df40 = pd.read_csv('./simulation_results/2023-05-03_00-34-09.csv')\n",
        "# df41 = pd.read_csv('./simulation_results/2023-05-03_08-04-42.csv')\n",
        "# df42 = pd.read_csv('./simulation_results/2023-05-03_15-50-50.csv')\n",
        "# df43 = pd.read_csv('./simulation_results/2023-05-03_23-46-56.csv')\n",
        "# df44 = pd.read_csv('./simulation_results/2023-05-04_05-22-59.csv')\n",
        "# df45 = pd.read_csv('./simulation_results/2023-05-04_09-22-37.csv')\n",
        "# df46 = pd.read_csv('./simulation_results/2023-05-04_15-00-57.csv')\n",
        "# df47 = pd.read_csv('./simulation_results/2023-05-04_23-41-21.csv')\n",
        "# df48 = pd.read_csv('./simulation_results/2023-05-05_07-23-04.csv')\n",
        "# df49 = pd.read_csv('./simulation_results/2023-05-05_15-03-17.csv')\n",
        "# df50 = pd.read_csv('./simulation_results/2023-05-06_05-18-07.csv')\n",
        "# df51 = pd.read_csv('./simulation_results/2023-05-06_12-57-14.csv')\n",
        "# df52 = pd.read_csv('./simulation_results/2023-05-06_19-10-23.csv')\n",
        "# df53 = pd.read_csv('./simulation_results/2023-05-07_03-20-10.csv')\n",
        "# df54 = pd.read_csv('./simulation_results/2023-05-07_11-26-24.csv')\n",
        "# df55 = pd.read_csv('./simulation_results/2023-05-08_00-04-56.csv')\n",
        "# df56 = pd.read_csv('./simulation_results/2023-05-08_04-27-01.csv')\n",
        "# df57 = pd.read_csv('./simulation_results/2023-05-08_10-06-55.csv')\n",
        "# df58 = pd.read_csv('./simulation_results/2023-05-08_17-50-36.csv')\n",
        "# df59 = pd.read_csv('./simulation_results/2023-05-09_03-28-08.csv')\n",
        "# df60 = pd.read_csv('./simulation_results/2023-05-09_11-08-10.csv')\n",
        "# df61 = pd.read_csv('./simulation_results/2023-05-09_20-11-45.csv')"
      ],
      "id": "336fb92b-6125-41bd-8f48-d9c3b66a8c26"
    },
    {
      "cell_type": "code",
      "execution_count": null,
      "metadata": {},
      "outputs": [],
      "source": [
        "data = pd.concat([df1],axis=0)"
      ],
      "id": "62c9f590-16a6-48ad-93db-0f5fff20b0ed"
    },
    {
      "cell_type": "code",
      "execution_count": null,
      "metadata": {},
      "outputs": [],
      "source": [
        "data.to_csv('./simulation_results/Real_simulation_reshape/DYGRENCODER_windmillsmall.csv',index=False)"
      ],
      "id": "bdb2920f-6b7a-4044-bb88-adaa47e8bef9"
    },
    {
      "cell_type": "code",
      "execution_count": null,
      "metadata": {},
      "outputs": [],
      "source": [
        "data = pd.read_csv('./simulation_results/Real_simulation_reshape/DYGRENCODER_windmillsmall.csv')"
      ],
      "id": "31d9069c-578d-4965-bb2f-259ca3b6dc83"
    },
    {
      "cell_type": "markdown",
      "metadata": {},
      "source": [
        "## Baseline"
      ],
      "id": "a1b1299b-56b6-47f9-8fcd-d709fd3f98b1"
    },
    {
      "cell_type": "code",
      "execution_count": null,
      "metadata": {},
      "outputs": [],
      "source": [
        "data.query(\"method!='GNAR' and mrate ==0 \").plot.box(backend='plotly',x='mrate',color='method',y='mse',facet_col='lags',height=800)\n"
      ],
      "id": "5da403a7-db78-48a7-a317-dd8e6db8efe0"
    },
    {
      "cell_type": "markdown",
      "metadata": {},
      "source": [
        "## random"
      ],
      "id": "14db6b90-f283-48a0-8fc4-42dc2129c914"
    },
    {
      "cell_type": "code",
      "execution_count": null,
      "metadata": {},
      "outputs": [],
      "source": [
        "data.query(\"method!='GNAR' and mtype =='rand' \").plot.box(backend='plotly',x='mrate',color='method',y='mse',facet_col='lags',facet_row='inter_method',height=800)\n"
      ],
      "id": "53a2f1a7-8013-4515-bdd3-ff300be08bee"
    },
    {
      "cell_type": "markdown",
      "metadata": {},
      "source": [
        "## block"
      ],
      "id": "67e94f2b-68a1-4c1b-8f66-ad23150afd97"
    },
    {
      "cell_type": "code",
      "execution_count": null,
      "metadata": {},
      "outputs": [],
      "source": [
        "data.query(\"method!='GNAR' and mtype =='block' \").plot.box(backend='plotly',x='mrate',color='method',y='mse',facet_col='lags',facet_row='inter_method',height=800)\n"
      ],
      "id": "7a929fbb-30dd-421e-812b-796a414ed3f4"
    },
    {
      "cell_type": "markdown",
      "metadata": {},
      "source": [
        "# Montevideobus"
      ],
      "id": "ac5706a7-fe96-440c-aaa7-b3b2e2f181e2"
    },
    {
      "cell_type": "code",
      "execution_count": 56,
      "metadata": {},
      "outputs": [],
      "source": [
        "df1 = pd.read_csv('./simulation_results/2023-06-30_06-15-55.csv') # lags 8\n",
        "df2 = pd.read_csv('./simulation_results/2023-06-30_08-46-05.csv') # lags 8\n",
        "df3 = pd.read_csv('./simulation_results/2023-06-30_11-09-20.csv') # lags 8\n",
        "df4 = pd.read_csv('./simulation_results/2023-06-30_14-00-17.csv') # lags 8\n",
        "df5 = pd.read_csv('./simulation_results/2023-06-30_16-23-53.csv') # lags 8\n",
        "df6 = pd.read_csv('./simulation_results/2023-06-30_18-47-55.csv') # lags 8"
      ],
      "id": "5293295e-7401-4983-884b-73d362a35443"
    },
    {
      "cell_type": "code",
      "execution_count": 57,
      "metadata": {},
      "outputs": [],
      "source": [
        "df7 = pd.read_csv('./simulation_results/2023-07-26_09-18-59.csv') # lags 8\n",
        "df8 = pd.read_csv('./simulation_results/2023-07-26_11-40-12.csv') # lags 8\n",
        "df9 = pd.read_csv('./simulation_results/2023-07-26_13-53-51.csv') # lags 8\n",
        "df10 = pd.read_csv('./simulation_results/2023-07-26_16-08-33.csv') # lags 8\n",
        "df11 = pd.read_csv('./simulation_results/2023-07-26_18-03-51.csv') # lags 8\n",
        "df12 = pd.read_csv('./simulation_results/2023-07-26_19-59-34.csv') # lags 8\n",
        "df13 = pd.read_csv('./simulation_results/2023-07-26_21-55-45.csv') # lags 8\n",
        "df14 = pd.read_csv('./simulation_results/2023-07-27_00-15-20.csv') # lags 8\n",
        "df15 = pd.read_csv('./simulation_results/2023-07-27_02-39-45.csv') # lags 8"
      ],
      "id": "54e15753-4c79-4e1e-a1a4-b793b5f83680"
    },
    {
      "cell_type": "code",
      "execution_count": 59,
      "metadata": {},
      "outputs": [],
      "source": [
        "data = pd.concat([df1,df2,df3,df4,df5,df6,df7,df8,df9,df10,df11,df12,df13,df14,df15],axis=0)"
      ],
      "id": "9177880c-864f-4be1-96aa-7e001744777a"
    },
    {
      "cell_type": "code",
      "execution_count": 60,
      "metadata": {},
      "outputs": [],
      "source": [
        "data.to_csv('./simulation_results/Real_simulation_reshape/DYGRENCODER_monte.csv',index=False)"
      ],
      "id": "ff224596-e98c-4b7c-bacf-cdc46f7e9354"
    },
    {
      "cell_type": "code",
      "execution_count": 61,
      "metadata": {},
      "outputs": [],
      "source": [
        "data = pd.read_csv('./simulation_results/Real_simulation_reshape/DYGRENCODER_monte.csv')"
      ],
      "id": "a22e1b56-6d99-498d-9a1d-1dbb5340d766"
    },
    {
      "cell_type": "markdown",
      "metadata": {},
      "source": [
        "## Baseline"
      ],
      "id": "705c6348-7a79-4c13-97a4-6510d8a30dbc"
    },
    {
      "cell_type": "code",
      "execution_count": 62,
      "metadata": {},
      "outputs": [],
      "source": [
        "data.query(\"mrate==0 and method!='GNAR'\").plot.box(backend='plotly',x='mrate',color='method',y='mse',facet_col='lags',facet_row='nof_filters',height=600)"
      ],
      "id": "06396728-3686-4e3f-b572-f9d7ffbf0c7d"
    },
    {
      "cell_type": "markdown",
      "metadata": {},
      "source": [
        "## random"
      ],
      "id": "a21ccfef-dd0e-4490-8177-3c8c3e0713b2"
    },
    {
      "cell_type": "code",
      "execution_count": 63,
      "metadata": {},
      "outputs": [],
      "source": [
        "data.query(\"mtype=='rand' and mrate !=0 and method!='GNAR'\").plot.box(backend='plotly',x='mrate',color='method',y='mse',facet_col='lags',facet_row='inter_method',height=800)\n"
      ],
      "id": "002168b8-d7f6-4c9f-9bdf-261efe4347b0"
    },
    {
      "cell_type": "markdown",
      "metadata": {},
      "source": [
        "## block"
      ],
      "id": "a0c788e4-0cee-492e-afeb-cff1fec8e84b"
    },
    {
      "cell_type": "code",
      "execution_count": 64,
      "metadata": {},
      "outputs": [],
      "source": [
        "data.query(\"mtype=='block' and method!='GNAR'\").plot.box(backend='plotly',x='mrate',color='method',y='mse',facet_col='lags',facet_row='nof_filters',height=1200)\n"
      ],
      "id": "493a0d39-4f30-4094-9087-f3598ca84b36"
    }
  ],
  "nbformat": 4,
  "nbformat_minor": 5,
  "metadata": {
    "kernelspec": {
      "name": "python3",
      "display_name": "Python 3",
      "language": "python"
    },
    "language_info": {
      "name": "python",
      "codemirror_mode": {
        "name": "ipython",
        "version": "3"
      },
      "file_extension": ".py",
      "mimetype": "text/x-python",
      "nbconvert_exporter": "python",
      "pygments_lexer": "ipython3",
      "version": "3.8.0"
    }
  }
}
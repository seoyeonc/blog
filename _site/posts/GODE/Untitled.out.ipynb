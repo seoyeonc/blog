{
  "cells": [
    {
      "cell_type": "markdown",
      "metadata": {},
      "source": [
        "#"
      ],
      "id": "ecbe7ec6-86da-4f35-924d-50e5d0c1ad0d"
    },
    {
      "cell_type": "code",
      "execution_count": 72,
      "metadata": {},
      "outputs": [],
      "source": [
        "import numpy as np"
      ],
      "id": "41347cb3-6164-4fcd-81de-4592b261a191"
    },
    {
      "cell_type": "code",
      "execution_count": 2,
      "metadata": {},
      "outputs": [],
      "source": [
        "a=10\n",
        "b=20\n",
        "n=200"
      ],
      "id": "805daa95-7caf-4187-b278-779b3d770cf7"
    },
    {
      "cell_type": "code",
      "execution_count": 66,
      "metadata": {},
      "outputs": [],
      "source": [
        "arr1 = np.array([a+(b-a)/(n-1) * (i-1) for i in range(1,n+1)])"
      ],
      "id": "26bf68f2-364b-4b32-93e0-e04c629f1eec"
    },
    {
      "cell_type": "markdown",
      "metadata": {},
      "source": [
        "$$a+\\frac{(b-a)i}{n-1}$$ for $i=1,2,3,\\dots, n$"
      ],
      "id": "a8dc15cb-ec12-4426-8fe8-5244ddd574ec"
    },
    {
      "cell_type": "code",
      "execution_count": 67,
      "metadata": {},
      "outputs": [],
      "source": [
        "arr2 = np.linspace(a,b,n)"
      ],
      "id": "2789ccc6-bcb4-4d77-aa49-daea0c629d60"
    },
    {
      "cell_type": "code",
      "execution_count": 68,
      "metadata": {},
      "outputs": [],
      "source": [
        "arr1[:5]"
      ],
      "id": "9f1da543-be0a-425b-925a-7bb69406f993"
    },
    {
      "cell_type": "code",
      "execution_count": 69,
      "metadata": {},
      "outputs": [],
      "source": [
        "arr2[:5]"
      ],
      "id": "f3a81390-d14a-4a91-94d2-7ceed334bada"
    }
  ],
  "nbformat": 4,
  "nbformat_minor": 5,
  "metadata": {
    "kernelspec": {
      "name": "python3",
      "display_name": "Python 3 (ipykernel)",
      "language": "python"
    },
    "language_info": {
      "name": "python",
      "codemirror_mode": {
        "name": "ipython",
        "version": "3"
      },
      "file_extension": ".py",
      "mimetype": "text/x-python",
      "nbconvert_exporter": "python",
      "pygments_lexer": "ipython3",
      "version": "3.8.12"
    }
  }
}
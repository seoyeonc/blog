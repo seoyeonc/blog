{
  "cells": [
    {
      "cell_type": "markdown",
      "metadata": {},
      "source": [
        "# ITSTGCN add Model\n",
        "\n",
        "SEOYEON CHOI  \n",
        "5/31/99\n",
        "\n",
        "> summerizing it\n",
        "\n",
        "# RANDOM\n",
        "\n",
        "# 예"
      ],
      "id": "f61fdf51-24bc-430d-9204-750c69538465"
    },
    {
      "cell_type": "code",
      "execution_count": 1,
      "metadata": {},
      "outputs": [
        {
          "output_type": "stream",
          "name": "stderr",
          "text": [
            "/home/csy/anaconda3/envs/temp_csy/lib/python3.8/site-packages/tqdm/auto.py:21: TqdmWarning: IProgress not found. Please update jupyter and ipywidgets. See https://ipywidgets.readthedocs.io/en/stable/user_install.html\n",
            "  from .autonotebook import tqdm as notebook_tqdm"
          ]
        }
      ],
      "source": [
        "import itstgcnDCRNN\n",
        "import torch\n",
        "import itstgcnDCRNN.planner \n",
        "import pandas as pd\n",
        "\n",
        "import numpy as np\n",
        "import random"
      ],
      "id": "1f3387c9-9ed6-4c29-b54b-4c76691fa72a"
    },
    {
      "cell_type": "code",
      "execution_count": null,
      "metadata": {},
      "outputs": [],
      "source": [
        "data_dict = itstgcnGCLSTM.load_data('./data/fivenodes.pkl')\n",
        "loader = itstgcnGConvLSTM.DatasetLoader(data_dict)"
      ],
      "id": "fba83d37-874e-4cfe-ad35-949d5fc2c565"
    },
    {
      "cell_type": "code",
      "execution_count": null,
      "metadata": {},
      "outputs": [],
      "source": [
        "from torch_geometric_temporal.dataset import ChickenpoxDatasetLoader\n",
        "loader1 = ChickenpoxDatasetLoader()"
      ],
      "id": "f640f75d-0623-44d4-8a0d-957a7ea5b9d7"
    },
    {
      "cell_type": "code",
      "execution_count": null,
      "metadata": {},
      "outputs": [],
      "source": [
        "from torch_geometric_temporal.dataset import PedalMeDatasetLoader\n",
        "loader2 = PedalMeDatasetLoader()"
      ],
      "id": "e57dc960-292c-4e48-9f8b-17492a588c01"
    },
    {
      "cell_type": "code",
      "execution_count": null,
      "metadata": {},
      "outputs": [],
      "source": [
        "from torch_geometric_temporal.dataset import WikiMathsDatasetLoader\n",
        "loader3 = WikiMathsDatasetLoader()"
      ],
      "id": "c20716c6-f0b1-4bb9-8a13-5b058cfa01dd"
    },
    {
      "cell_type": "code",
      "execution_count": null,
      "metadata": {},
      "outputs": [],
      "source": [
        "# from torch_geometric_temporal.dataset import WindmillOutputLargeDatasetLoader\n",
        "# loader4 = WindmillOutputLargeDatasetLoader()"
      ],
      "id": "ffed7e19-4715-4e14-a05b-34edf92a5959"
    },
    {
      "cell_type": "code",
      "execution_count": null,
      "metadata": {},
      "outputs": [],
      "source": [
        "# from torch_geometric_temporal.dataset import WindmillOutputMediumDatasetLoader\n",
        "# loader5 = WindmillOutputMediumDatasetLoader()"
      ],
      "id": "4cec6f94-899b-4db1-ac99-a56ef502071d"
    },
    {
      "cell_type": "code",
      "execution_count": null,
      "metadata": {},
      "outputs": [],
      "source": [
        "# from torch_geometric_temporal.dataset import WindmillOutputSmallDatasetLoader\n",
        "# loader6 = WindmillOutputSmallDatasetLoader()"
      ],
      "id": "83b868e4-ca58-4b69-8b25-390b7417ba7f"
    },
    {
      "cell_type": "code",
      "execution_count": 2,
      "metadata": {},
      "outputs": [],
      "source": [
        "loader6 = itstgcnDCRNN.load_data('./data/Windmillsmall.pkl')"
      ],
      "id": "2b353e26-038e-436f-8a1c-78d2ac21c646"
    },
    {
      "cell_type": "code",
      "execution_count": null,
      "metadata": {},
      "outputs": [],
      "source": [
        "# dataset6 = _a.get_dataset(lags=8)"
      ],
      "id": "ae9f127d-f9f2-49ba-b5bd-a528a78d6d76"
    },
    {
      "cell_type": "code",
      "execution_count": null,
      "metadata": {},
      "outputs": [],
      "source": [
        "from torch_geometric_temporal.dataset import MontevideoBusDatasetLoader\n",
        "loader10 = MontevideoBusDatasetLoader()"
      ],
      "id": "39f326a5-e7c0-412b-9ea8-5cd7e7775349"
    },
    {
      "cell_type": "markdown",
      "metadata": {},
      "source": [
        "# Simulation"
      ],
      "id": "f777fcb2-4231-4b29-82ee-94730952fd53"
    },
    {
      "cell_type": "code",
      "execution_count": 3,
      "metadata": {},
      "outputs": [],
      "source": [
        "plans_stgcn_rand = {\n",
        "    'max_iteration': 1, \n",
        "    'method': ['STGCN', 'IT-STGCN'],\n",
        "    'mrate': [0.7],\n",
        "    'lags': [8], \n",
        "    'nof_filters': [4], \n",
        "    'inter_method': ['linear'],\n",
        "    'epoch': [50]\n",
        "}"
      ],
      "id": "0747460a-0cb3-4c78-9b1b-2ab6eb782062"
    },
    {
      "cell_type": "code",
      "execution_count": null,
      "metadata": {},
      "outputs": [
        {
          "output_type": "stream",
          "name": "stdout",
          "text": [
            "50/50"
          ]
        }
      ],
      "source": [
        "plnr = itstgcnDCRNN.planner.PLNR_STGCN_RAND(plans_stgcn_rand,loader6,dataset_name='windmillsmall')\n",
        "plnr.simulate()"
      ],
      "id": "b7a64c46-559e-4038-a111-0eb23be86b37"
    },
    {
      "cell_type": "code",
      "execution_count": null,
      "metadata": {},
      "outputs": [],
      "source": [
        "plnr = itstgcnDCRNN.planner.PLNR_STGCN_RAND(plans_stgcn_rand,loader6,dataset_name='windmillsmall')\n",
        "plnr.simulate()"
      ],
      "id": "a7290543-3820-4b21-935b-69bd17de3d57"
    },
    {
      "cell_type": "code",
      "execution_count": null,
      "metadata": {},
      "outputs": [],
      "source": [
        "plnr = itstgcnDCRNN.planner.PLNR_STGCN_RAND(plans_stgcn_rand,loader6,dataset_name='windmillsmall')\n",
        "plnr.simulate()"
      ],
      "id": "66a6699a-da84-4715-8f0a-a894bc04ba24"
    },
    {
      "cell_type": "code",
      "execution_count": null,
      "metadata": {},
      "outputs": [],
      "source": [
        "plnr = itstgcnDCRNN.planner.PLNR_STGCN_RAND(plans_stgcn_rand,loader6,dataset_name='windmillsmall')\n",
        "plnr.simulate()"
      ],
      "id": "6a0d2eed-22ee-4645-a291-724888af4d72"
    },
    {
      "cell_type": "code",
      "execution_count": null,
      "metadata": {},
      "outputs": [],
      "source": [
        "plnr = itstgcnDCRNN.planner.PLNR_STGCN_RAND(plans_stgcn_rand,loader6,dataset_name='windmillsmall')\n",
        "plnr.simulate()"
      ],
      "id": "13ab5afc-ee3f-4d35-97a9-b7c089b04f12"
    },
    {
      "cell_type": "code",
      "execution_count": null,
      "metadata": {},
      "outputs": [],
      "source": [
        "plnr = itstgcnDCRNN.planner.PLNR_STGCN_RAND(plans_stgcn_rand,loader6,dataset_name='windmillsmall')\n",
        "plnr.simulate()"
      ],
      "id": "42475a54-7996-4dd3-aa80-36d23adb7e34"
    },
    {
      "cell_type": "code",
      "execution_count": null,
      "metadata": {},
      "outputs": [],
      "source": [
        "plnr = itstgcnDCRNN.planner.PLNR_STGCN_RAND(plans_stgcn_rand,loader6,dataset_name='windmillsmall')\n",
        "plnr.simulate()"
      ],
      "id": "1100ae61-ebf8-4593-86ee-f33cb229b3a5"
    },
    {
      "cell_type": "code",
      "execution_count": null,
      "metadata": {},
      "outputs": [],
      "source": [
        "plnr = itstgcnDCRNN.planner.PLNR_STGCN_RAND(plans_stgcn_rand,loader6,dataset_name='windmillsmall')\n",
        "plnr.simulate()"
      ],
      "id": "1d232079-ebd6-47d0-9957-03cf6fb60170"
    },
    {
      "cell_type": "code",
      "execution_count": null,
      "metadata": {},
      "outputs": [],
      "source": [
        "plnr = itstgcnDCRNN.planner.PLNR_STGCN_RAND(plans_stgcn_rand,loader6,dataset_name='windmillsmall')\n",
        "plnr.simulate()"
      ],
      "id": "38d93466-87ba-4806-949e-4483562fe36a"
    },
    {
      "cell_type": "code",
      "execution_count": null,
      "metadata": {},
      "outputs": [],
      "source": [
        "plnr = itstgcnDCRNN.planner.PLNR_STGCN_RAND(plans_stgcn_rand,loader6,dataset_name='windmillsmall')\n",
        "plnr.simulate()"
      ],
      "id": "ee19dc5a-0de0-40f6-b7b6-4ca13a977b1d"
    },
    {
      "cell_type": "code",
      "execution_count": null,
      "metadata": {},
      "outputs": [],
      "source": [
        "plnr = itstgcnDCRNN.planner.PLNR_STGCN_RAND(plans_stgcn_rand,loader6,dataset_name='windmillsmall')\n",
        "plnr.simulate()"
      ],
      "id": "bf57a3fc-bedf-4738-a0bf-52bb4eaa6103"
    },
    {
      "cell_type": "code",
      "execution_count": null,
      "metadata": {},
      "outputs": [],
      "source": [
        "plnr = itstgcnDCRNN.planner.PLNR_STGCN_RAND(plans_stgcn_rand,loader6,dataset_name='windmillsmall')\n",
        "plnr.simulate()"
      ],
      "id": "4a12c589-e04c-4812-b985-4b0e1a803d7a"
    },
    {
      "cell_type": "code",
      "execution_count": null,
      "metadata": {},
      "outputs": [],
      "source": [
        "plnr = itstgcnDCRNN.planner.PLNR_STGCN_RAND(plans_stgcn_rand,loader6,dataset_name='windmillsmall')\n",
        "plnr.simulate()"
      ],
      "id": "015fb27f-06b7-465b-88b8-a6645de09d12"
    },
    {
      "cell_type": "code",
      "execution_count": null,
      "metadata": {},
      "outputs": [],
      "source": [
        "plnr = itstgcnDCRNN.planner.PLNR_STGCN_RAND(plans_stgcn_rand,loader6,dataset_name='windmillsmall')\n",
        "plnr.simulate()"
      ],
      "id": "a1177c88-9dac-4c21-8f1e-c39564726ee6"
    },
    {
      "cell_type": "code",
      "execution_count": null,
      "metadata": {},
      "outputs": [],
      "source": [
        "plnr = itstgcnDCRNN.planner.PLNR_STGCN_RAND(plans_stgcn_rand,loader6,dataset_name='windmillsmall')\n",
        "plnr.simulate()"
      ],
      "id": "af30d075-1e6f-49ea-8d97-9130e1aa5df8"
    },
    {
      "cell_type": "code",
      "execution_count": null,
      "metadata": {},
      "outputs": [],
      "source": [
        "plnr = itstgcnDCRNN.planner.PLNR_STGCN_RAND(plans_stgcn_rand,loader6,dataset_name='windmillsmall')\n",
        "plnr.simulate()"
      ],
      "id": "c853242a-ad48-4502-87e1-d459106c23f0"
    },
    {
      "cell_type": "code",
      "execution_count": null,
      "metadata": {},
      "outputs": [],
      "source": [
        "plnr = itstgcnDCRNN.planner.PLNR_STGCN_RAND(plans_stgcn_rand,loader6,dataset_name='windmillsmall')\n",
        "plnr.simulate()"
      ],
      "id": "b9c9c21d-8edd-437b-917e-13eff5fcc84f"
    },
    {
      "cell_type": "code",
      "execution_count": null,
      "metadata": {},
      "outputs": [],
      "source": [
        "plnr = itstgcnDCRNN.planner.PLNR_STGCN_RAND(plans_stgcn_rand,loader6,dataset_name='windmillsmall')\n",
        "plnr.simulate()"
      ],
      "id": "55ac10ce-334b-4ca3-9d7a-1dbacd076a30"
    },
    {
      "cell_type": "code",
      "execution_count": null,
      "metadata": {},
      "outputs": [],
      "source": [
        "plnr = itstgcnDCRNN.planner.PLNR_STGCN_RAND(plans_stgcn_rand,loader6,dataset_name='windmillsmall')\n",
        "plnr.simulate()"
      ],
      "id": "c16e46de-70d1-41b3-afb4-7dbd2ac21ee0"
    },
    {
      "cell_type": "code",
      "execution_count": null,
      "metadata": {},
      "outputs": [],
      "source": [
        "plnr = itstgcnDCRNN.planner.PLNR_STGCN_RAND(plans_stgcn_rand,loader6,dataset_name='windmillsmall')\n",
        "plnr.simulate()"
      ],
      "id": "835cc60f-8f12-434c-9060-b6fdca54de2e"
    },
    {
      "cell_type": "code",
      "execution_count": null,
      "metadata": {},
      "outputs": [],
      "source": [
        "plnr = itstgcnDCRNN.planner.PLNR_STGCN_RAND(plans_stgcn_rand,loader6,dataset_name='windmillsmall')\n",
        "plnr.simulate()"
      ],
      "id": "7e8943ea-988f-4c78-b676-78c377c17f77"
    },
    {
      "cell_type": "code",
      "execution_count": null,
      "metadata": {},
      "outputs": [],
      "source": [
        "plnr = itstgcnDCRNN.planner.PLNR_STGCN_RAND(plans_stgcn_rand,loader6,dataset_name='windmillsmall')\n",
        "plnr.simulate()"
      ],
      "id": "9d46633b-4812-4b66-8218-bd94e1e4734d"
    },
    {
      "cell_type": "code",
      "execution_count": null,
      "metadata": {},
      "outputs": [],
      "source": [
        "plnr = itstgcnDCRNN.planner.PLNR_STGCN_RAND(plans_stgcn_rand,loader6,dataset_name='windmillsmall')\n",
        "plnr.simulate()"
      ],
      "id": "baf8ea37-57c2-4f07-96cd-e588cdd9704a"
    },
    {
      "cell_type": "code",
      "execution_count": null,
      "metadata": {},
      "outputs": [],
      "source": [
        "plnr = itstgcnDCRNN.planner.PLNR_STGCN_RAND(plans_stgcn_rand,loader6,dataset_name='windmillsmall')\n",
        "plnr.simulate()"
      ],
      "id": "ba2df770-8471-4f9d-8185-18ee278753af"
    },
    {
      "cell_type": "code",
      "execution_count": null,
      "metadata": {},
      "outputs": [],
      "source": [
        "plnr = itstgcnDCRNN.planner.PLNR_STGCN_RAND(plans_stgcn_rand,loader6,dataset_name='windmillsmall')\n",
        "plnr.simulate()"
      ],
      "id": "5362c057-9cca-489f-ad06-e8a1fc691a52"
    },
    {
      "cell_type": "code",
      "execution_count": null,
      "metadata": {},
      "outputs": [],
      "source": [
        "plnr = itstgcnDCRNN.planner.PLNR_STGCN_RAND(plans_stgcn_rand,loader6,dataset_name='windmillsmall')\n",
        "plnr.simulate()"
      ],
      "id": "f16feabd-e167-470a-af9e-3ec2c85e3639"
    },
    {
      "cell_type": "code",
      "execution_count": null,
      "metadata": {},
      "outputs": [],
      "source": [
        "plnr = itstgcnDCRNN.planner.PLNR_STGCN_RAND(plans_stgcn_rand,loader6,dataset_name='windmillsmall')\n",
        "plnr.simulate()"
      ],
      "id": "2f95a901-8d26-49ef-a42c-7d22195c1fef"
    },
    {
      "cell_type": "code",
      "execution_count": null,
      "metadata": {},
      "outputs": [],
      "source": [
        "plnr = itstgcnDCRNN.planner.PLNR_STGCN_RAND(plans_stgcn_rand,loader6,dataset_name='windmillsmall')\n",
        "plnr.simulate()"
      ],
      "id": "d12bc121-f070-413f-96c3-22452ee3e628"
    },
    {
      "cell_type": "code",
      "execution_count": null,
      "metadata": {},
      "outputs": [],
      "source": [
        "plnr = itstgcnDCRNN.planner.PLNR_STGCN_RAND(plans_stgcn_rand,loader6,dataset_name='windmillsmall')\n",
        "plnr.simulate()"
      ],
      "id": "88abbfee-9c4a-4fd1-b546-08b54331b633"
    },
    {
      "cell_type": "code",
      "execution_count": null,
      "metadata": {},
      "outputs": [],
      "source": [
        "plnr = itstgcnDCRNN.planner.PLNR_STGCN_RAND(plans_stgcn_rand,loader6,dataset_name='windmillsmall')\n",
        "plnr.simulate()"
      ],
      "id": "6d394a12-d109-4fe2-8358-90b00ceeae04"
    },
    {
      "cell_type": "code",
      "execution_count": null,
      "metadata": {},
      "outputs": [],
      "source": [
        "plans_stgcn_rand = {\n",
        "    'max_iteration': 15, \n",
        "    'method': ['STGCN', 'IT-STGCN'], \n",
        "    'mrate': [0.7],\n",
        "    'lags': [2], \n",
        "    'nof_filters': [12], \n",
        "    'inter_method': ['linear','nearest'],\n",
        "    'epoch': [50]\n",
        "}"
      ],
      "id": "4f4cdaba-1878-4e75-bff6-7caf0cdc5266"
    },
    {
      "cell_type": "code",
      "execution_count": null,
      "metadata": {},
      "outputs": [],
      "source": [
        "plnr = itstgcnGConvLSTM.planner.PLNR_STGCN_RAND(plans_stgcn_rand,loader,dataset_name='fivenodes')\n",
        "\n",
        "plnr.simulate()"
      ],
      "id": "5fd22909-4196-4a09-9c84-7505a4323905"
    },
    {
      "cell_type": "code",
      "execution_count": null,
      "metadata": {},
      "outputs": [],
      "source": [
        "plnr = itstgcnGConvLSTM.planner.PLNR_STGCN_RAND(plans_stgcn_rand,loader,dataset_name='fivenodes')\n",
        "\n",
        "plnr.simulate()"
      ],
      "id": "6f008485-2e62-4999-84c9-c27f219566e9"
    },
    {
      "cell_type": "code",
      "execution_count": null,
      "metadata": {},
      "outputs": [],
      "source": [
        "plans_stgcn_rand = {\n",
        "    'max_iteration': 15, \n",
        "    'method': ['STGCN', 'IT-STGCN'], \n",
        "    'mrate': [0.8],\n",
        "    'lags': [2], \n",
        "    'nof_filters': [12], \n",
        "    'inter_method': ['linear','nearest'],\n",
        "    'epoch': [50]\n",
        "}"
      ],
      "id": "cdbc160e-caad-4e71-b93b-fa7498717997"
    },
    {
      "cell_type": "code",
      "execution_count": null,
      "metadata": {},
      "outputs": [],
      "source": [
        "plnr = itstgcnGConvLSTM.planner.PLNR_STGCN_RAND(plans_stgcn_rand,loader,dataset_name='fivenodes')\n",
        "\n",
        "plnr.simulate()"
      ],
      "id": "bce4f2d0-7e49-4fd6-a60e-01b4c22f5534"
    },
    {
      "cell_type": "code",
      "execution_count": null,
      "metadata": {},
      "outputs": [],
      "source": [
        "plnr = itstgcnGConvLSTM.planner.PLNR_STGCN_RAND(plans_stgcn_rand,loader,dataset_name='fivenodes')\n",
        "\n",
        "plnr.simulate()"
      ],
      "id": "01265ca3-8aed-4419-a423-27895bedb11f"
    },
    {
      "cell_type": "code",
      "execution_count": null,
      "metadata": {},
      "outputs": [],
      "source": [
        "plans_stgcn_rand = {\n",
        "    'max_iteration': 15, \n",
        "    'method': ['STGCN', 'IT-STGCN'], \n",
        "    'mrate': [0],\n",
        "    'lags': [2], \n",
        "    'nof_filters': [12], \n",
        "    'inter_method': ['linear','nearest'],\n",
        "    'epoch': [50]\n",
        "}"
      ],
      "id": "71883217-84f9-4e62-b8d5-3d752517ef2b"
    },
    {
      "cell_type": "code",
      "execution_count": null,
      "metadata": {},
      "outputs": [],
      "source": [
        "plnr = itstgcnGConvLSTM.planner.PLNR_STGCN_RAND(plans_stgcn_rand,loader,dataset_name='fivenodes')\n",
        "\n",
        "plnr.simulate()"
      ],
      "id": "baa3351c-74fa-4376-af1f-7ecb157ba756"
    },
    {
      "cell_type": "code",
      "execution_count": null,
      "metadata": {},
      "outputs": [],
      "source": [
        "plnr = itstgcnGConvLSTM.planner.PLNR_STGCN_RAND(plans_stgcn_rand,loader,dataset_name='fivenodes')\n",
        "\n",
        "plnr.simulate()"
      ],
      "id": "69cff952-6f2f-4fcd-a5cf-f552db27cc13"
    },
    {
      "cell_type": "code",
      "execution_count": null,
      "metadata": {},
      "outputs": [],
      "source": [
        "mindex= [[],[],[],list(range(50,150)),[]]\n",
        "# mindex= [list(range(50,150)),[],list(range(50,90)),list(range(50,150)),[]] # node 2\n",
        "plans_stgcn_block = {\n",
        "    'max_iteration': 15, \n",
        "    'method': ['STGCN', 'IT-STGCN'],\n",
        "    'mindex': [mindex],\n",
        "    'lags': [2], \n",
        "    'nof_filters': [12], \n",
        "    'inter_method': ['linear','nearest'],\n",
        "    'epoch': [50]\n",
        "}"
      ],
      "id": "8d1abb8c-937d-454c-9621-e9febfbadecb"
    },
    {
      "cell_type": "code",
      "execution_count": null,
      "metadata": {},
      "outputs": [],
      "source": [
        "plnr = itstgcnGConvLSTM.planner.PLNR_STGCN_MANUAL(plans_stgcn_block,loader,dataset_name='fivenodes')\n",
        "\n",
        "plnr.simulate(mindex=mindex,mtype='block')"
      ],
      "id": "45b18549-01ce-42d8-a979-9b4a9c32b012"
    },
    {
      "cell_type": "code",
      "execution_count": null,
      "metadata": {},
      "outputs": [],
      "source": [
        "plnr = itstgcnGConvLSTM.planner.PLNR_STGCN_MANUAL(plans_stgcn_block,loader,dataset_name='fivenodes')\n",
        "\n",
        "plnr.simulate(mindex=mindex,mtype='block')"
      ],
      "id": "a231b635-a038-4281-ad46-1b07098e45c1"
    },
    {
      "cell_type": "code",
      "execution_count": null,
      "metadata": {},
      "outputs": [],
      "source": [
        "plans_stgcn_rand = {\n",
        "    'max_iteration': 15, \n",
        "    'method': ['STGCN', 'IT-STGCN'],\n",
        "    'mrate': [0.3,0.8],\n",
        "    'lags': [4], \n",
        "    'nof_filters': [32], \n",
        "    'inter_method': ['linear'],\n",
        "    'epoch': [50]\n",
        "}"
      ],
      "id": "1795d3ab-dee7-4499-93c8-2962a6742fd9"
    },
    {
      "cell_type": "code",
      "execution_count": null,
      "metadata": {},
      "outputs": [],
      "source": [
        "plnr = itstgcnGConvLSTM.planner.PLNR_STGCN_RAND(plans_stgcn_rand,loader1,dataset_name='chickenpox')\n",
        "plnr.simulate()"
      ],
      "id": "3bada0da-460f-4710-bec7-7278ba486d40"
    },
    {
      "cell_type": "code",
      "execution_count": null,
      "metadata": {},
      "outputs": [],
      "source": [
        "plnr = itstgcnGConvLSTM.planner.PLNR_STGCN_RAND(plans_stgcn_rand,loader1,dataset_name='chickenpox')\n",
        "plnr.simulate()"
      ],
      "id": "16eb2c44-720a-478f-a49f-6d9aadc0b2a0"
    },
    {
      "cell_type": "code",
      "execution_count": null,
      "metadata": {},
      "outputs": [],
      "source": [
        "plans_stgcn_rand = {\n",
        "    'max_iteration': 15, \n",
        "    'method': ['STGCN', 'IT-STGCN'],\n",
        "    'mrate': [0],\n",
        "    'lags': [4], \n",
        "    'nof_filters': [32], \n",
        "    'inter_method': ['linear'],\n",
        "    'epoch': [50]\n",
        "}"
      ],
      "id": "6f5295eb-4154-4f60-be3b-b7a8bd4f037c"
    },
    {
      "cell_type": "code",
      "execution_count": null,
      "metadata": {},
      "outputs": [],
      "source": [
        "plnr = itstgcnGConvLSTM.planner.PLNR_STGCN_RAND(plans_stgcn_rand,loader1,dataset_name='chickenpox')\n",
        "plnr.simulate()"
      ],
      "id": "463d70e7-1960-4199-b956-b98396a747be"
    },
    {
      "cell_type": "code",
      "execution_count": null,
      "metadata": {},
      "outputs": [],
      "source": [
        "plnr = itstgcnGConvLSTM.planner.PLNR_STGCN_RAND(plans_stgcn_rand,loader1,dataset_name='chickenpox')\n",
        "plnr.simulate()"
      ],
      "id": "752994c8-0718-454f-910b-e2c5025aabf1"
    },
    {
      "cell_type": "code",
      "execution_count": null,
      "metadata": {},
      "outputs": [],
      "source": [
        "my_list = [[] for _ in range(20)] #chickenpox\n",
        "another_list = list(range(100,400))\n",
        "my_list[1] = another_list\n",
        "my_list[3] = another_list\n",
        "my_list[5] = another_list\n",
        "my_list[7] = another_list\n",
        "my_list[9] = another_list\n",
        "my_list[11] = another_list\n",
        "my_list[13] = another_list\n",
        "my_list[15] = another_list\n",
        "mindex = my_list"
      ],
      "id": "0b3c3eb3-eea2-43c8-90fe-989446e5a671"
    },
    {
      "cell_type": "code",
      "execution_count": null,
      "metadata": {},
      "outputs": [],
      "source": [
        "# mindex= [[],[],[],list(range(50,150)),[]]\n",
        "# mindex= [list(range(50,150)),[],list(range(50,90)),list(range(50,150)),[]] # node 2\n",
        "plans_stgcn_block = {\n",
        "    'max_iteration': 15, \n",
        "    'method': ['STGCN', 'IT-STGCN'],\n",
        "    'mindex': [mindex],\n",
        "    'lags': [4], \n",
        "    'nof_filters': [32], \n",
        "    'inter_method': ['linear','nearest'],\n",
        "    'epoch': [50]\n",
        "}"
      ],
      "id": "c17b26f1-47e7-4bf2-afad-9d922dc5c457"
    },
    {
      "cell_type": "code",
      "execution_count": null,
      "metadata": {},
      "outputs": [],
      "source": [
        "plnr = itstgcnGConvLSTM.planner.PLNR_STGCN_MANUAL(plans_stgcn_block,loader1,dataset_name='chickenpox')\n",
        "\n",
        "plnr.simulate(mindex=mindex,mtype='block')"
      ],
      "id": "4f6a5f57-b052-4c22-8eb6-2f7f04cdefdf"
    },
    {
      "cell_type": "code",
      "execution_count": null,
      "metadata": {},
      "outputs": [],
      "source": [
        "plnr = itstgcnGConvLSTM.planner.PLNR_STGCN_MANUAL(plans_stgcn_block,loader1,dataset_name='chickenpox')\n",
        "\n",
        "plnr.simulate(mindex=mindex,mtype='block')"
      ],
      "id": "61dddefb-a080-456d-8978-c0e07df93059"
    },
    {
      "cell_type": "code",
      "execution_count": null,
      "metadata": {},
      "outputs": [],
      "source": [
        "plans_stgcn_rand = {\n",
        "    'max_iteration': 30, \n",
        "    'method': ['STGCN', 'IT-STGCN'],\n",
        "    'mrate': [0,0.3,0.6],\n",
        "    'lags': [4], \n",
        "    'nof_filters': [2], \n",
        "    'inter_method': ['linear','nearest'],\n",
        "    'epoch': [50]\n",
        "}"
      ],
      "id": "20604401-45f8-482a-9da0-1ed5e135cf22"
    },
    {
      "cell_type": "code",
      "execution_count": null,
      "metadata": {},
      "outputs": [],
      "source": [
        "plnr = itstgcnGConvLSTM.planner.PLNR_STGCN_RAND(plans_stgcn_rand,loader2,dataset_name='pedalme')\n",
        "\n",
        "plnr.simulate()"
      ],
      "id": "3ea8377a-74f4-4b50-816e-39afec54275c"
    },
    {
      "cell_type": "code",
      "execution_count": null,
      "metadata": {},
      "outputs": [],
      "source": [
        "my_list = [[] for _ in range(15)] #pedalme\n",
        "another_list = list(range(5,25))\n",
        "my_list[1] = another_list\n",
        "my_list[3] = another_list\n",
        "my_list[5] = another_list\n",
        "my_list[7] = another_list\n",
        "my_list[9] = another_list\n",
        "my_list[11] = another_list\n",
        "mindex = my_list"
      ],
      "id": "e6a54f24-cb8a-4dbc-8d0c-8f220edda265"
    },
    {
      "cell_type": "code",
      "execution_count": null,
      "metadata": {},
      "outputs": [],
      "source": [
        "# mindex= [[],[],[],list(range(50,150)),[]]  # node 1\n",
        "# mindex= [list(range(10,100)),[],list(range(50,80)),[],[]] # node 2\n",
        "# mindex= [list(range(10,100)),[],list(range(50,80)),list(range(50,150)),[]] # node3\n",
        "plans_stgcn_block = {\n",
        "    'max_iteration': 30, \n",
        "    'method': ['STGCN', 'IT-STGCN'], \n",
        "    'mindex': [mindex],\n",
        "    'lags': [4], \n",
        "    'nof_filters': [2], \n",
        "    'inter_method': ['linear','nearest'],\n",
        "    'epoch': [50]\n",
        "}"
      ],
      "id": "cd5048ba-5b96-415f-8611-4891a1b323ae"
    },
    {
      "cell_type": "code",
      "execution_count": null,
      "metadata": {
        "tags": []
      },
      "outputs": [],
      "source": [
        "plnr = itstgcnGConvLSTM.planner.PLNR_STGCN_MANUAL(plans_stgcn_block,loader2,dataset_name='pedalme')\n",
        "plnr.simulate(mindex=mindex,mtype='block')"
      ],
      "id": "d64bd704-f97c-44aa-b553-f58069a647ed"
    },
    {
      "cell_type": "code",
      "execution_count": null,
      "metadata": {},
      "outputs": [],
      "source": [
        "plans_stgcn_rand = {\n",
        "    'max_iteration': 10, \n",
        "    'method': ['STGCN', 'IT-STGCN'],\n",
        "    'mrate': [0.3],\n",
        "    'lags': [8], \n",
        "    'nof_filters': [12], \n",
        "    'inter_method': ['linear'],\n",
        "    'epoch': [50]\n",
        "}"
      ],
      "id": "5183b528-b43e-4cbc-9bfb-d691d8814b44"
    },
    {
      "cell_type": "code",
      "execution_count": null,
      "metadata": {},
      "outputs": [],
      "source": [
        "plnr = itstgcnEvolveGCNH.planner.PLNR_STGCN_RAND(plans_stgcn_rand,loader3,dataset_name='wikimath')\n",
        "plnr.simulate()"
      ],
      "id": "47facf96-6e26-4aef-a786-5bb16255b8dd"
    },
    {
      "cell_type": "code",
      "execution_count": null,
      "metadata": {},
      "outputs": [],
      "source": [
        "plnr = itstgcnEvolveGCNH.planner.PLNR_STGCN_RAND(plans_stgcn_rand,loader3,dataset_name='wikimath')\n",
        "plnr.simulate()"
      ],
      "id": "003e23b8-fb50-4ce5-80fc-e1581163083b"
    },
    {
      "cell_type": "code",
      "execution_count": null,
      "metadata": {},
      "outputs": [],
      "source": [
        "plnr = itstgcnEvolveGCNH.planner.PLNR_STGCN_RAND(plans_stgcn_rand,loader3,dataset_name='wikimath')\n",
        "plnr.simulate()"
      ],
      "id": "39b6b0a0-8139-4e6a-af4b-f6c2b7e0dbfc"
    },
    {
      "cell_type": "code",
      "execution_count": null,
      "metadata": {},
      "outputs": [],
      "source": [
        "plans_stgcn_rand = {\n",
        "    'max_iteration': 15, \n",
        "    'method': ['STGCN', 'IT-STGCN'],\n",
        "    'mrate': [0.8],\n",
        "    'lags': [8], \n",
        "    'nof_filters': [12], \n",
        "    'inter_method': ['linear'],\n",
        "    'epoch': [50]\n",
        "}"
      ],
      "id": "3bdc2615-0936-4bc9-97b8-01bf321c0697"
    },
    {
      "cell_type": "code",
      "execution_count": null,
      "metadata": {},
      "outputs": [],
      "source": [
        "plnr = itstgcnEvolveGCNH.planner.PLNR_STGCN_RAND(plans_stgcn_rand,loader3,dataset_name='wikimath')\n",
        "plnr.simulate()"
      ],
      "id": "97f40a9c-dbc6-498b-97d8-5e86b54481a3"
    },
    {
      "cell_type": "code",
      "execution_count": null,
      "metadata": {},
      "outputs": [],
      "source": [
        "plnr = itstgcnEvolveGCNH.planner.PLNR_STGCN_RAND(plans_stgcn_rand,loader3,dataset_name='wikimath')\n",
        "plnr.simulate()"
      ],
      "id": "cad2e72e-0e13-4315-aef3-17aa9ac5f382"
    },
    {
      "cell_type": "code",
      "execution_count": null,
      "metadata": {},
      "outputs": [],
      "source": [
        "plans_stgcn_rand = {\n",
        "    'max_iteration': 10, \n",
        "    'method': ['STGCN', 'IT-STGCN'],\n",
        "    'mrate': [0],\n",
        "    'lags': [8], \n",
        "    'nof_filters': [12], \n",
        "    'inter_method': ['linear'],\n",
        "    'epoch': [50]\n",
        "}"
      ],
      "id": "81ae45b2-52ca-4e91-9a08-712ec68160a9"
    },
    {
      "cell_type": "code",
      "execution_count": null,
      "metadata": {},
      "outputs": [],
      "source": [
        "plnr = itstgcnEvolveGCNH.planner.PLNR_STGCN_RAND(plans_stgcn_rand,loader3,dataset_name='wikimath')\n",
        "plnr.simulate()"
      ],
      "id": "2f70e756-3a4b-46ca-9099-d07f7d04ccbb"
    },
    {
      "cell_type": "code",
      "execution_count": null,
      "metadata": {},
      "outputs": [],
      "source": [
        "plnr = itstgcnEvolveGCNH.planner.PLNR_STGCN_RAND(plans_stgcn_rand,loader3,dataset_name='wikimath')\n",
        "plnr.simulate()"
      ],
      "id": "f08dc64b-74f2-486c-8871-30aca6b0015f"
    },
    {
      "cell_type": "code",
      "execution_count": null,
      "metadata": {},
      "outputs": [],
      "source": [
        "plnr = itstgcnEvolveGCNH.planner.PLNR_STGCN_RAND(plans_stgcn_rand,loader3,dataset_name='wikimath')\n",
        "plnr.simulate()"
      ],
      "id": "2c1586db-506b-4fc9-b312-034e17d73ee9"
    },
    {
      "cell_type": "markdown",
      "metadata": {},
      "source": [
        "``` python\n",
        "import random\n",
        "my_list = [[] for _ in range(1068)] # wikimath\n",
        "another_list = random.sample(range(570), 72)\n",
        "# my_list에서 250개 요소 무작위 선택\n",
        "selected_indexes = random.sample(range(len(my_list)), 250)\n",
        "# 선택된 요소에 해당하는 값들을 another_list에 할당\n",
        "for index in selected_indexes:\n",
        "    my_list[index] = another_list\n",
        "```"
      ],
      "id": "070ab336-0783-453d-a271-e31190a13ae6"
    },
    {
      "cell_type": "code",
      "execution_count": null,
      "metadata": {},
      "outputs": [],
      "source": [
        "import random\n",
        "my_list = [[] for _ in range(1068)] # wikimath\n",
        "another_list = random.sample(range(570), 150)\n",
        "# my_list에서 250개 요소 무작위 선택\n",
        "selected_indexes = random.sample(range(len(my_list)), 500)\n",
        "# 선택된 요소에 해당하는 값들을 another_list에 할당\n",
        "for index in selected_indexes:\n",
        "    my_list[index] = another_list\n",
        "mindex = my_list"
      ],
      "id": "b44f5fc1-d3d7-47d0-905a-bd5f6ccd7dfd"
    },
    {
      "cell_type": "code",
      "execution_count": null,
      "metadata": {},
      "outputs": [],
      "source": [
        "# mindex= [[],[],[],list(range(50,150)),[]]  # node 1\n",
        "# mindex= [list(range(10,100)),[],list(range(50,80)),[],[]] # node 2\n",
        "# mindex= [list(range(10,100)),[],list(range(50,80)),list(range(50,150)),[]] # node3\n",
        "plans_stgcn_block = {\n",
        "    'max_iteration': 10, \n",
        "    'method': ['STGCN', 'IT-STGCN'], \n",
        "    'mindex': [mindex],\n",
        "    'lags': [8], \n",
        "    'nof_filters': [12], \n",
        "    'inter_method': ['linear'],\n",
        "    'epoch': [50]\n",
        "}"
      ],
      "id": "43485712-6b54-4216-892d-c18216c78e10"
    },
    {
      "cell_type": "code",
      "execution_count": null,
      "metadata": {},
      "outputs": [],
      "source": [
        "plnr = itstgcnEvolveGCNH.planner.PLNR_STGCN_MANUAL(plans_stgcn_block,loader3,dataset_name='wikimath')\n",
        "plnr.simulate(mindex=mindex,mtype='block')"
      ],
      "id": "80667341-f2e6-40cc-bbd2-2da9194de363"
    },
    {
      "cell_type": "code",
      "execution_count": null,
      "metadata": {},
      "outputs": [],
      "source": [
        "plnr = itstgcnEvolveGCNH.planner.PLNR_STGCN_MANUAL(plans_stgcn_block,loader3,dataset_name='wikimath')\n",
        "plnr.simulate(mindex=mindex,mtype='block')"
      ],
      "id": "751cc214-098e-468e-a6ba-a8604c92ce67"
    },
    {
      "cell_type": "code",
      "execution_count": null,
      "metadata": {},
      "outputs": [],
      "source": [
        "plnr = itstgcnEvolveGCNH.planner.PLNR_STGCN_MANUAL(plans_stgcn_block,loader3,dataset_name='wikimath')\n",
        "plnr.simulate(mindex=mindex,mtype='block')"
      ],
      "id": "3e482100-71a6-40fa-ad9e-175c2598f9ad"
    },
    {
      "cell_type": "markdown",
      "metadata": {},
      "source": [
        "같은 노드 같은 missing"
      ],
      "id": "1fdda2c8-503d-4176-9373-a8b5a0e201cb"
    },
    {
      "cell_type": "code",
      "execution_count": null,
      "metadata": {},
      "outputs": [],
      "source": [
        "my_list = [[] for _ in range(1068)] #wikimath\n",
        "another_list = random.sample(range(0, 576), 300)\n",
        "for i in range(0, 1068):\n",
        "    my_list[i] = another_list\n",
        "mindex = my_list"
      ],
      "id": "de3cc052-1984-4c70-a7ef-25d842225395"
    },
    {
      "cell_type": "code",
      "execution_count": null,
      "metadata": {},
      "outputs": [],
      "source": [
        "plans_stgcn_block = {\n",
        "    'max_iteration': 10, \n",
        "    'method': ['STGCN', 'IT-STGCN'], \n",
        "    'mindex': [mindex],\n",
        "    'lags': [8], \n",
        "    'nof_filters': [12], \n",
        "    'inter_method': ['linear'],\n",
        "    'epoch': [50]\n",
        "}"
      ],
      "id": "6313db78-dfcf-421c-84c4-fd149839f571"
    },
    {
      "cell_type": "code",
      "execution_count": null,
      "metadata": {},
      "outputs": [],
      "source": [
        "plnr = itstgcnEvolveGCNH.planner.PLNR_STGCN_MANUAL(plans_stgcn_block,loader3,dataset_name='wikimath')\n",
        "plnr.simulate(mindex=mindex,mtype='block')"
      ],
      "id": "af9db18c-19d7-401f-a487-f9144b0e3b8b"
    },
    {
      "cell_type": "code",
      "execution_count": null,
      "metadata": {},
      "outputs": [],
      "source": [
        "plnr = itstgcnEvolveGCNH.planner.PLNR_STGCN_MANUAL(plans_stgcn_block,loader3,dataset_name='wikimath')\n",
        "plnr.simulate(mindex=mindex,mtype='block')"
      ],
      "id": "045f14b5-3f58-4ebb-8a38-a27d24ddafbb"
    },
    {
      "cell_type": "code",
      "execution_count": null,
      "metadata": {},
      "outputs": [],
      "source": [
        "plnr = itstgcnEvolveGCNH.planner.PLNR_STGCN_MANUAL(plans_stgcn_block,loader3,dataset_name='wikimath')\n",
        "plnr.simulate(mindex=mindex,mtype='block')"
      ],
      "id": "9cc62c78-663d-4134-a4ec-7338eab9b4f1"
    },
    {
      "cell_type": "code",
      "execution_count": null,
      "metadata": {},
      "outputs": [],
      "source": [
        "plans_stgcn_rand = {\n",
        "    'max_iteration': 15, \n",
        "    'method': ['STGCN', 'IT-STGCN'],\n",
        "    'mrate': [0.8],\n",
        "    'lags': [4], \n",
        "    'nof_filters': [12], \n",
        "    'inter_method': ['nearest'],\n",
        "    'epoch': [50]\n",
        "}"
      ],
      "id": "86305b49-f727-4776-a268-4ee075192e62"
    },
    {
      "cell_type": "code",
      "execution_count": null,
      "metadata": {},
      "outputs": [],
      "source": [
        "plnr = itstgcnGConvLSTM.planner.PLNR_STGCN_RAND(plans_stgcn_rand,loader10,dataset_name='monte')\n",
        "plnr.simulate()"
      ],
      "id": "c9725d2e-d733-4cea-adb0-03fb14ab9411"
    },
    {
      "cell_type": "code",
      "execution_count": null,
      "metadata": {},
      "outputs": [],
      "source": [
        "plnr = itstgcnGConvLSTM.planner.PLNR_STGCN_RAND(plans_stgcn_rand,loader10,dataset_name='monte')\n",
        "plnr.simulate()"
      ],
      "id": "ce674591-0ba4-4659-a184-0d946ddcac1b"
    },
    {
      "cell_type": "code",
      "execution_count": null,
      "metadata": {},
      "outputs": [],
      "source": [
        "plans_stgcn_rand = {\n",
        "    'max_iteration': 15, \n",
        "    'method': ['STGCN', 'IT-STGCN'],\n",
        "    'mrate': [0],\n",
        "    'lags': [4], \n",
        "    'nof_filters': [12], \n",
        "    'inter_method': ['nearest'],\n",
        "    'epoch': [50]\n",
        "}"
      ],
      "id": "56571d7a-de9a-470f-b3e8-f0d612cb5c1d"
    },
    {
      "cell_type": "code",
      "execution_count": null,
      "metadata": {},
      "outputs": [],
      "source": [
        "plnr = itstgcnGConvLSTM.planner.PLNR_STGCN_RAND(plans_stgcn_rand,loader10,dataset_name='monte')\n",
        "plnr.simulate()"
      ],
      "id": "0df04d3c-d10c-4bdc-b361-1d8fe396130a"
    },
    {
      "cell_type": "code",
      "execution_count": null,
      "metadata": {},
      "outputs": [],
      "source": [
        "plnr = itstgcnGConvLSTM.planner.PLNR_STGCN_RAND(plans_stgcn_rand,loader10,dataset_name='monte')\n",
        "plnr.simulate()"
      ],
      "id": "d6f52e9b-94c2-4795-99ba-47b38e477b96"
    },
    {
      "cell_type": "code",
      "execution_count": null,
      "metadata": {},
      "outputs": [],
      "source": [
        "my_list = [[] for _ in range(675)] #monte\n",
        "another_list = list(range(200,350)) #743\n",
        "\n",
        "for i in np.array(random.sample(range(0, 675), 400)):\n",
        "    my_list[i] = another_list\n",
        "mindex = my_list"
      ],
      "id": "2a5ca127-523a-44e9-9a8e-c41bf64303a8"
    },
    {
      "cell_type": "code",
      "execution_count": null,
      "metadata": {},
      "outputs": [],
      "source": [
        "# mindex= [[],[],[],list(range(50,150)),[]]  # node 1\n",
        "# mindex= [list(range(10,100)),[],list(range(50,80)),[],[]] # node 2\n",
        "# mindex= [list(range(10,100)),[],list(range(50,80)),list(range(50,150)),[]] # node3\n",
        "plans_stgcn_block = {\n",
        "    'max_iteration': 15, \n",
        "    'method': ['STGCN', 'IT-STGCN'], \n",
        "    'mindex': [mindex],\n",
        "    'lags': [4], \n",
        "    'nof_filters': [12], \n",
        "    'inter_method': ['nearest'],\n",
        "    'epoch': [50]\n",
        "}"
      ],
      "id": "7ab43e8d-3a9c-4d08-bfbb-cb2c95c890fe"
    },
    {
      "cell_type": "code",
      "execution_count": null,
      "metadata": {},
      "outputs": [],
      "source": [
        "plnr = itstgcnGConvLSTM.planner.PLNR_STGCN_MANUAL(plans_stgcn_block,loader10,dataset_name='monte')\n",
        "plnr.simulate(mindex=mindex,mtype='block')"
      ],
      "id": "b2d0fae3-f90b-4317-afa5-e87182ab80fc"
    },
    {
      "cell_type": "code",
      "execution_count": null,
      "metadata": {},
      "outputs": [],
      "source": [
        "plnr = itstgcnGConvLSTM.planner.PLNR_STGCN_MANUAL(plans_stgcn_block,loader10,dataset_name='monte')\n",
        "plnr.simulate(mindex=mindex,mtype='block')"
      ],
      "id": "2e0fb561-3f10-49a8-a26a-1ae5a72d740e"
    }
  ],
  "nbformat": 4,
  "nbformat_minor": 5,
  "metadata": {
    "kernelspec": {
      "name": "python3",
      "display_name": "Python 3",
      "language": "python"
    },
    "language_info": {
      "name": "python",
      "codemirror_mode": {
        "name": "ipython",
        "version": "3"
      },
      "file_extension": ".py",
      "mimetype": "text/x-python",
      "nbconvert_exporter": "python",
      "pygments_lexer": "ipython3",
      "version": "3.8.0"
    }
  }
}
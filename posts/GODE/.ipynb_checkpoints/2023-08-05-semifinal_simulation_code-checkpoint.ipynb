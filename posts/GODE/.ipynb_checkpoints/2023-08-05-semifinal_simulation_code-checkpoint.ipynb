{
 "cells": [
  {
   "cell_type": "raw",
   "id": "be085742-fa0c-4d82-8d57-9bdd6e9a5a75",
   "metadata": {
    "id": "cac470df-29e7-4148-9bbd-d8b9a32fa570",
    "tags": []
   },
   "source": [
    "---\n",
    "title: \"Semifinal_Other Outlier Detection\"\n",
    "author: \"SEOYEON CHOI\"\n",
    "date: \"2023-08-05\"\n",
    "bibliography: ref.bib\n",
    "categories:\n",
    "  - GODE\n",
    "---"
   ]
  },
  {
   "cell_type": "markdown",
   "id": "d7bc880f-e70d-4656-aa17-f5f37455ccf2",
   "metadata": {},
   "source": [
    "||random.seed|contamination|Iteration|\n",
    "|:--:|:--:|:--:|:--:|\n",
    "|GODE|-|O|X|\n",
    "|LOF |-|O|X|\n",
    "|kNN |-|O|X|\n",
    "|CBLOF|O(`random_state`)|O|X|\n",
    "|OCSVM |-|O(`nu`)|O(`max_iter`)|\n",
    "|MCD|O(`random_state`)|O|X|\n",
    "|Feature Bagging |O(`random_state`)|O|X|\n",
    "|ABOD |-|O|X|\n",
    "|Isolation Forest |O|X(할 수 없음)|X|\n",
    "|HBOS |-|O|X|\n",
    "|SOS |-|O|X|\n",
    "|SO-GAAL|-|O|O(`stop_epochs(default=20`)|\n",
    "|MO-GAAL|-|O|O(`stop_epochs(default=20`)|\n",
    "|LSCP |O(`random_state`)|O|X|"
   ]
  },
  {
   "cell_type": "markdown",
   "id": "0ea3321b-4901-44eb-8e8b-c6b2264e1db5",
   "metadata": {},
   "source": [
    "- Simple Linear(달라질 부분 <span style=\"color:blue\"> 파란 </span> 표시)"
   ]
  },
  {
   "cell_type": "markdown",
   "id": "c2f4ebd3-b990-48ac-b8d8-22f9bfa8847f",
   "metadata": {},
   "source": [
    "|Simple Linear 논문|Accuracy|Precision|Recall|F1|\n",
    "|:--:|:--:|:--:|:--:|:--:|\n",
    "|GODE|**0.998**|0.999|**0.999**|**0.999**|\n",
    "|LOF (Breunig et al., 2000)|0.926|0.961|0.961|0.961|\n",
    "|kNN (Ramaswamy et al., 2000)|0.950|**1.000**|0.947|0.973|\n",
    "|CBLOF (He et al., 2003)|0.972|0.985|0.985|0.985|\n",
    "|OCSVM (Sch ̈olkopf et al., 2001)|0.935|0.991|0.940|0.965|\n",
    "|MCD (Hardin and Rocke, 2004)|0.998|0.999|**0.999**|**0.999**|\n",
    "|Feature Bagging (Lazarevic and Kumar, 2005)|0.986|0.993|0.993|0.993|\n",
    "|ABOD (Kriegel et al., 2008)|0.988|0.994|0.994|0.994|\n",
    "|Isolation Forest (Liu et al., 2008)|0.868|0.999|0.862|0.925|\n",
    "|HBOS (Goldstein and Dengel, 2012)|0.960|0.978|0.980|0.979|\n",
    "|SOS (Janssens et al., 2012)|0.916|0.956|0.956|0.956|\n",
    "|SO-GAAL (Liu et al., 2019)|0.936|0.966|0.966|0.966|\n",
    "|MO-GAAL (Liu et al., 2019)|0.940|0.965|0.972|0.969|\n",
    "|LSCP (Zhao et al., 2019)|0.988|0.994|0.994|0.994|"
   ]
  },
  {
   "cell_type": "markdown",
   "id": "4372d816-fe8f-4335-aa46-434bf9cd539d",
   "metadata": {},
   "source": [
    "|Simple Linear 논문|Accuracy|Precision|Recall|F1|\n",
    "|:--:|:--:|:--:|:--:|:--:|\n",
    "|GODE|**0.998**|0.999|0.999|**0.999**|\n",
    "|LOF (Breunig et al., 2000)|<span style=\"color:blue\"> 0.990 </span> |<span style=\"color:blue\"> 0.995 </span> |<span style=\"color:blue\"> 0.995 </span> |<span style=\"color:blue\"> 0.995 </span> |\n",
    "|kNN (Ramaswamy et al., 2000)|<span style=\"color:blue\"> 0.994 </span> |<span style=\"color:blue\"> 0.997 </span> |<span style=\"color:blue\"> 0.997 </span> |<span style=\"color:blue\"> 0.997 </span> |\n",
    "|CBLOF (He et al., 2003)|0.972|0.985|0.985|0.985|\n",
    "|OCSVM (Sch ̈olkopf et al., 2001)|<span style=\"color:blue\"> 0.965 </span> |<span style=\"color:blue\"> 0.981 </span> |<span style=\"color:blue\"> 0.982 </span> |<span style=\"color:blue\"> 0.982 </span> |\n",
    "|MCD (Hardin and Rocke, 2004)|0.998|0.999|0.999|**0.999**|\n",
    "|Feature Bagging (Lazarevic and Kumar, 2005)|<span style=\"color:blue\"> 0.988 </span> |<span style=\"color:blue\"> 0.994 </span> |<span style=\"color:blue\"> 0.994 </span> |<span style=\"color:blue\"> 0.994 </span> |\n",
    "|ABOD (Kriegel et al., 2008)|0.988|0.994|0.994|0.994|\n",
    "|Isolation Forest (Liu et al., 2008)|<span style=\"color:blue\"> 0.895 </span> |<span style=\"color:blue\"> **1.000** </span> |<span style=\"color:blue\"> 0.889 </span> |<span style=\"color:blue\"> 0.942 </span> |\n",
    "|HBOS (Goldstein and Dengel, 2012)|0.960|0.978|0.980|0.979|\n",
    "|SOS (Janssens et al., 2012)|0.916|0.956|0.956|0.956|\n",
    "|SO-GAAL (Liu et al., 2019)|<span style=\"color:blue\"> 0.934 </span> |<span style=\"color:blue\"> 0.965 </span> |<span style=\"color:blue\"> 0.965 </span> |<span style=\"color:blue\"> 0.965 </span> |\n",
    "|MO-GAAL (Liu et al., 2019)|<span style=\"color:blue\"> 0.950 </span> |<span style=\"color:blue\"> 0.950 </span> |<span style=\"color:blue\"> **1.000** </span> |<span style=\"color:blue\"> 0.974 </span> |\n",
    "|LSCP (Zhao et al., 2019)|<span style=\"color:blue\"> 0.984 </span> |<span style=\"color:blue\"> 0.992 </span> |<span style=\"color:blue\"> 0.992 </span> |<span style=\"color:blue\"> 0.992 </span> |"
   ]
  },
  {
   "cell_type": "code",
   "execution_count": 1,
   "id": "5d3b2b4e-c39c-4af0-ba4a-06a734cc6dfe",
   "metadata": {},
   "outputs": [
    {
     "ename": "NameError",
     "evalue": "name 'linear_rst' is not defined",
     "output_type": "error",
     "traceback": [
      "\u001b[0;31m---------------------------------------------------------------------------\u001b[0m",
      "\u001b[0;31mNameError\u001b[0m                                 Traceback (most recent call last)",
      "Cell \u001b[0;32mIn[1], line 1\u001b[0m\n\u001b[0;32m----> 1\u001b[0m \u001b[43mlinear_rst\u001b[49m\n",
      "\u001b[0;31mNameError\u001b[0m: name 'linear_rst' is not defined"
     ]
    }
   ],
   "source": [
    "linear_rst"
   ]
  },
  {
   "cell_type": "markdown",
   "id": "e2a7ec80-6d80-48c4-aae8-33ae15432000",
   "metadata": {},
   "source": [
    "$U^\\star$, which is a mixture of uniform distributions $U(5,7)$ and $U(-7,-5)$."
   ]
  },
  {
   "cell_type": "markdown",
   "id": "fd4e239d-2f29-4d29-8661-f0cd28c77914",
   "metadata": {},
   "source": [
    "- Orbit "
   ]
  },
  {
   "cell_type": "markdown",
   "id": "1488fc1e-4d34-41d9-acbc-91bdd98eb5d1",
   "metadata": {},
   "source": [
    "|Orbit 논문|Accuracy|Precision|Recall|F1|\n",
    "|:--:|:--:|:--:|:--:|:--:|\n",
    "|GODE|**0.998**|**0.999**|0.999|**0.999**|\n",
    "|LOF (Breunig et al., 2000)|0.954|0.976|0.976|0.976|\n",
    "|kNN (Ramaswamy et al., 2000)|0.948|**0.999**|0.946|0.972|\n",
    "|CBLOF (He et al., 2003)|0.918|0.957|0.957|0.957|\n",
    "|OCSVM (Sch ̈olkopf et al., 2001)|0.908|0.977|0.925|0.950|\n",
    "|MCD (Hardin and Rocke, 2004)|0.916|0.956|0.956|0.956|\n",
    "|Feature Bagging (Lazarevic and Kumar, 2005)|0.942|0.969|0.969|0.969|\n",
    "|ABOD (Kriegel et al., 2008)|0.988|0.994|0.994|0.994|\n",
    "|Isolation Forest (Liu et al., 2008)|0.443|0.992|0.417|0.587|\n",
    "|HBOS (Goldstein and Dengel, 2012)|0.935|0.960|0.973|0.966|\n",
    "|SOS (Janssens et al., 2012)|0.950|0.974|0.974|0.974|\n",
    "|SO-GAAL (Liu et al., 2019)|0.950|0.950|**1.000**|0.974|\n",
    "|MO-GAAL (Liu et al., 2019)|0.950|0.950|**1.000**|0.974|\n",
    "|LSCP (Zhao et al., 2019)|0.988|0.994|0.994|0.994|"
   ]
  },
  {
   "cell_type": "markdown",
   "id": "9964e9a9-51f3-4397-9459-8020df5e52b8",
   "metadata": {},
   "source": [
    "|Orbit 논문|Accuracy|Precision|Recall|F1|\n",
    "|:--:|:--:|:--:|:--:|:--:|\n",
    "|GODE|**0.998**|**0.999**|0.999|**0.999**|\n",
    "|LOF (Breunig et al., 2000)|<span style=\"color:blue\"> 0.950 </span> |<span style=\"color:blue\"> 0.974 </span>|<span style=\"color:blue\"> 0.974 </span> |<span style=\"color:blue\"> 0.974 </span> |\n",
    "|kNN (Ramaswamy et al., 2000)|<span style=\"color:blue\"> 0.990 </span> |<span style=\"color:blue\"> 0.995 </span> |<span style=\"color:blue\"> 0.995 </span> |<span style=\"color:blue\"> 0.995 </span> |\n",
    "|CBLOF (He et al., 2003)|0.918|0.957|0.957|0.957|\n",
    "|OCSVM (Sch ̈olkopf et al., 2001)|<span style=\"color:blue\"> 0.951 </span> |<span style=\"color:blue\"> 0.975 </span> |<span style=\"color:blue\"> 0.974 </span> |<span style=\"color:blue\"> 0.974 </span> |\n",
    "|MCD (Hardin and Rocke, 2004)|0.916|0.956|0.956|0.956|\n",
    "|Feature Bagging (Lazarevic and Kumar, 2005)|<span style=\"color:blue\"> 0.958 </span> |<span style=\"color:blue\"> 0.978 </span> |<span style=\"color:blue\"> 0.978 </span> |<span style=\"color:blue\"> 0.978 </span> |\n",
    "|ABOD (Kriegel et al., 2008)|0.988|0.994|0.994|0.994|\n",
    "|Isolation Forest (Liu et al., 2008)|<span style=\"color:blue\"> 0.348 </span> |<span style=\"color:blue\"> 0.990 </span> |<span style=\"color:blue\"> 0.317 </span> |<span style=\"color:blue\"> 0.480 </span> |\n",
    "|HBOS (Goldstein and Dengel, 2012)|0.935|0.960|0.973|0.966|\n",
    "|SOS (Janssens et al., 2012)|0.950|0.974|0.974|0.974|\n",
    "|SO-GAAL (Liu et al., 2019)|0.950|0.950|**1.000**|0.974|\n",
    "|MO-GAAL (Liu et al., 2019)|0.950|0.950|**1.000**|0.974|\n",
    "|LSCP (Zhao et al., 2019)|0.988|0.994|0.994|0.994|"
   ]
  },
  {
   "cell_type": "code",
   "execution_count": null,
   "id": "f5afa463-2d56-4ec1-8121-8ae312930909",
   "metadata": {},
   "outputs": [],
   "source": [
    "orbit_rst.round(3)"
   ]
  },
  {
   "cell_type": "markdown",
   "id": "763d5488-e5d5-4031-a6e0-e061f545afcd",
   "metadata": {},
   "source": [
    "- Stanford Bunny"
   ]
  },
  {
   "cell_type": "markdown",
   "id": "9ae8ebae-102f-4782-9617-8a16e5f71ea2",
   "metadata": {},
   "source": [
    "$U^\\star$, which is a mixture of uniform distributions $U(3,7)$ and $U(-7,-3)$."
   ]
  },
  {
   "cell_type": "markdown",
   "id": "262ada09-8b94-4182-9c51-392ea18095e3",
   "metadata": {},
   "source": [
    "|Stanford Bunny 논문|Accuracy|Precision|Recall|F1|\n",
    "|:--:|:--:|:--:|:--:|:--:|\n",
    "|GODE|**0.998**|0.995|0.993|**0.994**|\n",
    "|LOF (Breunig et al., 2000)|0.913|0.955|0.953|0.954|\n",
    "|kNN (Ramaswamy et al., 2000)|0.942|**0.997**|0.942|0.969|\n",
    "|CBLOF (He et al., 2003)|0.978|0.989|0.987|0.988|\n",
    "|OCSVM (Sch ̈olkopf et al., 2001)|0.935|0.992|0.939|0.965|\n",
    "|MCD (Hardin and Rocke, 2004)|0.982|0.992|0.989|0.990|\n",
    "|Feature Bagging (Lazarevic and Kumar, 2005)|0.954|0.977|0.974|0.976|\n",
    "|ABOD (Kriegel et al., 2008)|0.979|0.990|0.988|0.989|\n",
    "|Isolation Forest (Liu et al., 2008)|0.827|0.995|0.822|0.900|\n",
    "|HBOS (Goldstein and Dengel, 2012)|0.919|0.958|0.956|0.957|\n",
    "|SOS (Janssens et al., 2012)|0.912|0.955|0.953|0.954|\n",
    "|SO-GAAL (Liu et al., 2019)|0.952|0.952|**1.000**|0.975|\n",
    "|MO-GAAL (Liu et al., 2019)|0.952|0.952|**1.000**|0.975|\n",
    "|LSCP (Zhao et al., 2019)|0.978|0.990|0.987|0.989|"
   ]
  },
  {
   "cell_type": "markdown",
   "id": "0530750a-d3cc-4dc4-b11f-1166178c6e33",
   "metadata": {},
   "source": [
    "|Stanford Bunny 논문|Accuracy|Precision|Recall|F1|\n",
    "|:--:|:--:|:--:|:--:|:--:|\n",
    "|GODE|**0.998**|0.995|0.993|**0.994**|\n",
    "|LOF (Breunig et al., 2000)|<span style=\"color:blue\"> 0.956 </span> |<span style=\"color:blue\"> 0.978 </span> |<span style=\"color:blue\"> 0.976 </span> |<span style=\"color:blue\"> 0.977 </span> |\n",
    "|kNN (Ramaswamy et al., 2000)|<span style=\"color:blue\"> 0.982 </span> |<span style=\"color:blue\"> 0.992 </span> |<span style=\"color:blue\"> 0.989 </span> |<span style=\"color:blue\"> 0.990 </span> |\n",
    "|CBLOF (He et al., 2003)|0.978|0.989|0.987|0.988|\n",
    "|OCSVM (Sch ̈olkopf et al., 2001)|<span style=\"color:blue\"> 0.959 </span> |<span style=\"color:blue\"> 0.979 </span> |<span style=\"color:blue\"> 0.978 </span> |<span style=\"color:blue\"> 0.979 </span> |\n",
    "|MCD (Hardin and Rocke, 2004)|0.982|0.992|<span style=\"color:blue\"> 0.990 </span> |<span style=\"color:blue\"> 0.991 </span> |\n",
    "|Feature Bagging (Lazarevic and Kumar, 2005)|0.954|0.977|<span style=\"color:blue\"> 0.975 </span> |0.976|\n",
    "|ABOD (Kriegel et al., 2008)|0.979|0.990|0.988|0.989|\n",
    "|Isolation Forest (Liu et al., 2008)|<span style=\"color:blue\"> 0.791 </span> |<span style=\"color:blue\"> **0.997** </span> |<span style=\"color:blue\"> 0.783 </span> |<span style=\"color:blue\"> 0.877 </span> |\n",
    "|HBOS (Goldstein and Dengel, 2012)|0.919|0.958|0.956|0.957|\n",
    "|SOS (Janssens et al., 2012)|0.912|0.955|0.953|0.954|\n",
    "|SO-GAAL (Liu et al., 2019)|0.952|0.952|**1.000**|0.975|\n",
    "|MO-GAAL (Liu et al., 2019)|0.952|0.952|**1.000**|0.975|\n",
    "|LSCP (Zhao et al., 2019)|0.978|0.990|0.987|0.989|"
   ]
  },
  {
   "cell_type": "code",
   "execution_count": null,
   "id": "68beb353-ff7c-4105-8978-23ca30d5499b",
   "metadata": {},
   "outputs": [],
   "source": [
    "bunny_rst"
   ]
  },
  {
   "cell_type": "markdown",
   "id": "b755cb1a-d1cd-4d28-b73e-4fa77fa6db66",
   "metadata": {},
   "source": [
    "# Import"
   ]
  },
  {
   "cell_type": "code",
   "execution_count": 3,
   "id": "a07a0afa-2fcf-4a07-8718-27c1cf142a89",
   "metadata": {},
   "outputs": [
    {
     "name": "stderr",
     "output_type": "stream",
     "text": [
      "2023-08-07 20:44:08.493289: I tensorflow/core/util/port.cc:110] oneDNN custom operations are on. You may see slightly different numerical results due to floating-point round-off errors from different computation orders. To turn them off, set the environment variable `TF_ENABLE_ONEDNN_OPTS=0`.\n",
      "/home/csy/anaconda3/envs/pygsp/lib/python3.10/site-packages/tqdm/auto.py:21: TqdmWarning: IProgress not found. Please update jupyter and ipywidgets. See https://ipywidgets.readthedocs.io/en/stable/user_install.html\n",
      "  from .autonotebook import tqdm as notebook_tqdm\n"
     ]
    }
   ],
   "source": [
    "import numpy as np\n",
    "import matplotlib.pyplot as plt\n",
    "import matplotlib\n",
    "from sklearn.svm import OneClassSVM\n",
    "from sklearn.linear_model import SGDOneClassSVM\n",
    "from sklearn.pipeline import make_pipeline\n",
    "\n",
    "import pandas as pd\n",
    "from sklearn.neighbors import LocalOutlierFactor\n",
    "\n",
    "import rpy2\n",
    "import rpy2.robjects as ro \n",
    "from rpy2.robjects.vectors import FloatVector \n",
    "from rpy2.robjects.packages import importr\n",
    "\n",
    "from sklearn.datasets import fetch_kddcup99, fetch_covtype, fetch_openml\n",
    "from sklearn.preprocessing import LabelBinarizer\n",
    "\n",
    "import tqdm\n",
    "\n",
    "from pygsp import graphs, filters, plotting, utils\n",
    "\n",
    "from sklearn.metrics import confusion_matrix\n",
    "from sklearn.metrics import precision_score, recall_score, f1_score, accuracy_score\n",
    "\n",
    "import plotly.graph_objects as go\n",
    "from IPython.display import HTML\n",
    "\n",
    "import plotly.express as px\n",
    "\n",
    "from sklearn.covariance import EmpiricalCovariance, MinCovDet\n",
    "\n",
    "from alibi_detect.od import IForest\n",
    "# from pyod.models.iforest import IForest\n",
    "\n",
    "from pyod.models.abod import ABOD\n",
    "from pyod.models.cblof import CBLOF\n",
    "\n",
    "from sklearn import svm\n",
    "\n",
    "from pyod.models.lscp import LSCP\n",
    "from pyod.models.hbos import HBOS\n",
    "\n",
    "from pyod.models.so_gaal import SO_GAAL\n",
    "from pyod.models.mcd import MCD\n",
    "from pyod.models.mo_gaal import MO_GAAL\n",
    "from pyod.models.knn import KNN\n",
    "from pyod.models.lof import LOF\n",
    "from pyod.models.ocsvm import OCSVM\n",
    "\n",
    "from pyod.models.feature_bagging import FeatureBagging\n",
    "from pyod.models.sos import SOS"
   ]
  },
  {
   "cell_type": "markdown",
   "id": "278c29ff-6f9f-4e16-8079-c6ffda515439",
   "metadata": {
    "tags": []
   },
   "source": [
    "## Class Code"
   ]
  },
  {
   "cell_type": "code",
   "execution_count": null,
   "id": "0c35d527-37f6-4039-b78c-4d65798813d2",
   "metadata": {},
   "outputs": [],
   "source": [
    "tab_linear = pd.DataFrame(columns=[\"Accuracy\",\"Precision\",\"Recall\",\"F1\"])\n",
    "tab_orbit = pd.DataFrame(columns=[\"Accuracy\",\"Precision\",\"Recall\",\"F1\"])\n",
    "tab_bunny = pd.DataFrame(columns=[\"Accuracy\",\"Precision\",\"Recall\",\"F1\"])"
   ]
  },
  {
   "cell_type": "code",
   "execution_count": null,
   "id": "2cb1b7a4-4f6e-4b6d-b403-06bec5dd20ab",
   "metadata": {},
   "outputs": [],
   "source": [
    "class Conf_matrx:\n",
    "    def __init__(self,original,compare,tab):\n",
    "        self.original = original\n",
    "        self.compare = compare\n",
    "        self.tab = tab\n",
    "    def conf(self,name):\n",
    "        self.conf_matrix = confusion_matrix(self.original, self.compare)\n",
    "        \n",
    "        fig, ax = plt.subplots(figsize=(5, 5))\n",
    "        ax.matshow(self.conf_matrix, cmap=plt.cm.Oranges, alpha=0.3)\n",
    "        for i in range(self.conf_matrix.shape[0]):\n",
    "            for j in range(self.conf_matrix.shape[1]):\n",
    "                ax.text(x=j, y=i,s=self.conf_matrix[i, j], va='center', ha='center', size='xx-large')\n",
    "        plt.xlabel('Predictions', fontsize=18)\n",
    "        plt.ylabel('Actuals', fontsize=18)\n",
    "        plt.title('Confusion Matrix', fontsize=18)\n",
    "        plt.show()\n",
    "        \n",
    "        self.acc = accuracy_score(self.original, self.compare)\n",
    "        self.pre = precision_score(self.original, self.compare)\n",
    "        self.rec = recall_score(self.original, self.compare)\n",
    "        self.f1 = f1_score(self.original, self.compare)\n",
    "        \n",
    "        print('Accuracy: %.3f' % self.acc)\n",
    "        print('Precision: %.3f' % self.pre)\n",
    "        print('Recall: %.3f' % self.rec)\n",
    "        print('F1 Score: %.3f' % self.f1)\n",
    "        \n",
    "        self.tab = self.tab.append(pd.DataFrame({\"Accuracy\":[self.acc],\"Precision\":[self.pre],\"Recall\":[self.rec],\"F1\":[self.f1]},index = [name]))"
   ]
  },
  {
   "cell_type": "code",
   "execution_count": null,
   "id": "007f4445-30e5-4ccf-89c5-83dccb2c560e",
   "metadata": {},
   "outputs": [],
   "source": [
    "class Linear:\n",
    "    def __init__(self,df):\n",
    "        self.df = df\n",
    "        self.y = df.y.to_numpy()\n",
    "        #self.y1 = df.y1.to_numpy()\n",
    "        self.x = df.x.to_numpy()\n",
    "        self.n = len(self.y)\n",
    "        self.W = w\n",
    "    def _eigen(self):\n",
    "        d= self.W.sum(axis=1)\n",
    "        D= np.diag(d)\n",
    "        self.L = np.diag(1/np.sqrt(d)) @ (D-self.W) @ np.diag(1/np.sqrt(d))\n",
    "        self.lamb, self.Psi = np.linalg.eigh(self.L)\n",
    "        self.Lamb = np.diag(self.lamb)      \n",
    "    def fit(self,sd=20): # fit with ebayesthresh\n",
    "        self._eigen()\n",
    "        self.ybar = self.Psi.T @ self.y # fbar := graph fourier transform of f\n",
    "        self.power = self.ybar**2 \n",
    "        ebayesthresh = importr('EbayesThresh').ebayesthresh\n",
    "        self.power_threshed=np.array(ebayesthresh(FloatVector(self.ybar**2),sd=sd))\n",
    "        self.ybar_threshed = np.where(self.power_threshed>0,self.ybar,0)\n",
    "        self.yhat = self.Psi@self.ybar_threshed\n",
    "        self.df = self.df.assign(yHat = self.yhat)\n",
    "        self.df = self.df.assign(Residual = self.df.y- self.df.yHat)"
   ]
  },
  {
   "cell_type": "code",
   "execution_count": null,
   "id": "88737d98-ef51-41dc-b9e1-31a466c6814d",
   "metadata": {},
   "outputs": [],
   "source": [
    "class Orbit:\n",
    "    def __init__(self,df):\n",
    "        self.df = df \n",
    "        self.f = df.f.to_numpy()\n",
    "        self.x = df.x.to_numpy()\n",
    "        self.y = df.y.to_numpy()\n",
    "        self.n = len(self.f)\n",
    "        self.theta= None\n",
    "    def get_distance(self):\n",
    "        self.D = np.zeros([self.n,self.n])\n",
    "        locations = np.stack([self.x, self.y],axis=1)\n",
    "        for i in tqdm.tqdm(range(self.n)):\n",
    "            for j in range(i,self.n):\n",
    "                self.D[i,j]=np.linalg.norm(locations[i]-locations[j])\n",
    "        self.D = self.D + self.D.T\n",
    "    def get_weightmatrix(self,theta=1,beta=0.5,kappa=4000):\n",
    "        self.theta = theta\n",
    "        dist = np.where(self.D < kappa,self.D,0)\n",
    "        self.W = np.exp(-(dist/self.theta)**2)\n",
    "    def _eigen(self):\n",
    "        d= self.W.sum(axis=1)\n",
    "        D= np.diag(d)\n",
    "        self.L = np.diag(1/np.sqrt(d)) @ (D-self.W) @ np.diag(1/np.sqrt(d))\n",
    "        self.lamb, self.Psi = np.linalg.eigh(self.L)\n",
    "        self.Lamb = np.diag(self.lamb)       \n",
    "    def fit(self,sd=5,ref=20): # fit with ebayesthresh\n",
    "        self._eigen()\n",
    "        self.fbar = self.Psi.T @ self.f # fbar := graph fourier transform of f\n",
    "        self.power = self.fbar**2 \n",
    "        ebayesthresh = importr('EbayesThresh').ebayesthresh\n",
    "        self.power_threshed=np.array(ebayesthresh(FloatVector(self.fbar**2),sd=sd))\n",
    "        self.fbar_threshed = np.where(self.power_threshed>0,self.fbar,0)\n",
    "        self.fhat = self.Psi@self.fbar_threshed\n",
    "        self.df = self.df.assign(fHat = self.fhat)\n",
    "        self.df = self.df.assign(Residual = self.df.f- self.df.fHat)\n",
    "        self.bottom = np.zeros_like(self.f)\n",
    "        self.width=0.05\n",
    "        self.depth=0.05"
   ]
  },
  {
   "cell_type": "code",
   "execution_count": null,
   "id": "202a6bb4-a393-40f5-9676-e166da4d1ded",
   "metadata": {},
   "outputs": [],
   "source": [
    "class BUNNY:\n",
    "    def __init__(self,df):\n",
    "        self.df = df \n",
    "        self.f = df.f.to_numpy()\n",
    "        self.z = df.z.to_numpy()\n",
    "        self.x = df.x.to_numpy()\n",
    "        self.y = df.y.to_numpy()\n",
    "        self.noise = df.noise.to_numpy()\n",
    "        self.fnoise = self.f + self.noise\n",
    "        self.W = _W\n",
    "        self.n = len(self.f)\n",
    "        self.theta= None\n",
    "    def _eigen(self):\n",
    "        d= self.W.sum(axis=1)\n",
    "        D= np.diag(d)\n",
    "        self.L = np.diag(1/np.sqrt(d)) @ (D-self.W) @ np.diag(1/np.sqrt(d))\n",
    "        self.lamb, self.Psi = np.linalg.eigh(self.L)\n",
    "        self.Lamb = np.diag(self.lamb)       \n",
    "    def fit(self,sd=5,ref=6): # fit with ebayesthresh\n",
    "        self._eigen()\n",
    "        self.fbar = self.Psi.T @ self.fnoise # fbar := graph fourier transform of f\n",
    "        self.power = self.fbar**2 \n",
    "        ebayesthresh = importr('EbayesThresh').ebayesthresh\n",
    "        self.power_threshed=np.array(ebayesthresh(FloatVector(self.fbar**2),sd=sd))\n",
    "        self.fbar_threshed = np.where(self.power_threshed>0,self.fbar,0)\n",
    "        self.fhat = self.Psi@self.fbar_threshed\n",
    "        self.df = self.df.assign(fnoise = self.fnoise)\n",
    "        self.df = self.df.assign(fHat = self.fhat)\n",
    "        self.df = self.df.assign(Residual = self.df.f + self.df.noise - self.df.fHat)\n",
    "        self.bottom = np.zeros_like(self.f)\n",
    "        self.width=0.05\n",
    "        self.depth=0.05"
   ]
  },
  {
   "cell_type": "markdown",
   "id": "39938a36-ff4b-4a0a-90fc-acc8674d49f7",
   "metadata": {
    "tags": []
   },
   "source": [
    "## Linear EbayesThresh"
   ]
  },
  {
   "cell_type": "code",
   "execution_count": null,
   "id": "8723a99b-d883-4931-8f29-ae98d8a78dcd",
   "metadata": {},
   "outputs": [],
   "source": [
    "%load_ext rpy2.ipython"
   ]
  },
  {
   "cell_type": "code",
   "execution_count": null,
   "id": "d56587a6-64e0-4338-97d1-44aed703dba7",
   "metadata": {},
   "outputs": [],
   "source": [
    "%%R\n",
    "library(EbayesThresh)\n",
    "set.seed(1)\n",
    "epsilon = rnorm(1000)\n",
    "# signal_1 = sample(c(runif(25,-2,-1.5), runif(25,1.5,2), rep(0,950)))\n",
    "signal_1 = sample(c(runif(25,-7,-5), runif(25,5,7), rep(0,950)))\n",
    "index_of_trueoutlier_1 = which(signal_1!=0)\n",
    "index_of_trueoutlier_1\n",
    "x_1=signal_1+epsilon"
   ]
  },
  {
   "cell_type": "code",
   "execution_count": null,
   "id": "c3b52e47-035c-4ead-896a-8467adda9f9a",
   "metadata": {},
   "outputs": [],
   "source": [
    "%R -o x_1\n",
    "%R -o index_of_trueoutlier_1\n",
    "%R -o signal_1"
   ]
  },
  {
   "cell_type": "code",
   "execution_count": null,
   "id": "00bf68c1-6fec-40c7-bc4a-3b955f2f60c9",
   "metadata": {},
   "outputs": [],
   "source": [
    "ebayesthresh = importr('EbayesThresh').ebayesthresh"
   ]
  },
  {
   "cell_type": "code",
   "execution_count": null,
   "id": "029a7685-5203-4911-a567-c2205c3c751e",
   "metadata": {},
   "outputs": [],
   "source": [
    "outlier_true_index_1 = index_of_trueoutlier_1"
   ]
  },
  {
   "cell_type": "code",
   "execution_count": null,
   "id": "bdd6638f-8444-42b9-80ad-dfc2e7ce1268",
   "metadata": {},
   "outputs": [],
   "source": [
    "outlier_true_value_1 = x_1[index_of_trueoutlier_1]"
   ]
  },
  {
   "cell_type": "code",
   "execution_count": null,
   "id": "2622fdf0-cb3e-4487-b5d5-4db08354039a",
   "metadata": {},
   "outputs": [],
   "source": [
    "outlier_true_one_1 = signal_1.copy()"
   ]
  },
  {
   "cell_type": "code",
   "execution_count": null,
   "id": "a542fa4f-6e9d-4167-9dd8-fca561d38960",
   "metadata": {},
   "outputs": [],
   "source": [
    "outlier_true_one_1 = list(map(lambda x: -1 if x!=0 else 1,outlier_true_one_1))"
   ]
  },
  {
   "cell_type": "markdown",
   "id": "dc4e129b-d8a6-4223-9297-677554616da8",
   "metadata": {
    "tags": []
   },
   "source": [
    "## Linear"
   ]
  },
  {
   "cell_type": "code",
   "execution_count": null,
   "id": "0ab3daba-7732-43de-95d0-cf390fa26bf7",
   "metadata": {
    "tags": []
   },
   "outputs": [],
   "source": [
    "_x_1 = np.linspace(0,2,1000)\n",
    "_y1_1 = 5*_x_1\n",
    "_y_1 = _y1_1 + x_1 # x is epsilon"
   ]
  },
  {
   "cell_type": "code",
   "execution_count": null,
   "id": "723b062b-1b12-4dcc-b634-9d0457053c2b",
   "metadata": {},
   "outputs": [],
   "source": [
    "_df=pd.DataFrame({'x':_x_1, 'y':_y_1})"
   ]
  },
  {
   "cell_type": "code",
   "execution_count": null,
   "id": "3b1a946c-1d7b-415e-bcf0-4540c9834e4a",
   "metadata": {},
   "outputs": [],
   "source": [
    "X = np.array(_df)"
   ]
  },
  {
   "cell_type": "code",
   "execution_count": null,
   "id": "2654bd5f-6389-4d40-88cf-cc9bcd8e7b06",
   "metadata": {},
   "outputs": [],
   "source": [
    "# _df.to_csv('simple_linear_df.csv')"
   ]
  },
  {
   "cell_type": "code",
   "execution_count": null,
   "id": "c6aefff0-4c70-4b36-bce2-0338ba357aac",
   "metadata": {},
   "outputs": [],
   "source": [
    "# pd.DataFrame(outlier_true_one_1).to_csv('simple_linear_outlier.csv')"
   ]
  },
  {
   "cell_type": "markdown",
   "id": "a4e0c86c-4926-44d5-8f25-e15a4d30b51a",
   "metadata": {},
   "source": [
    "### GODE"
   ]
  },
  {
   "cell_type": "code",
   "execution_count": null,
   "id": "7941c63b-c687-4105-9a58-0e9e4fe9b80c",
   "metadata": {},
   "outputs": [],
   "source": [
    "w=np.zeros((1000,1000))"
   ]
  },
  {
   "cell_type": "code",
   "execution_count": null,
   "id": "86c5a64b-e933-418d-aa36-5b5eaeba094a",
   "metadata": {},
   "outputs": [],
   "source": [
    "for i in range(1000):\n",
    "    for j in range(1000):\n",
    "        if i==j :\n",
    "            w[i,j] = 0\n",
    "        elif np.abs(i-j) <= 1 : \n",
    "            w[i,j] = 1"
   ]
  },
  {
   "cell_type": "code",
   "execution_count": null,
   "id": "0c811c7c-e92f-4d98-b2d2-e9d8bc89b5e5",
   "metadata": {},
   "outputs": [],
   "source": [
    "_Linear = Linear(_df)"
   ]
  },
  {
   "cell_type": "code",
   "execution_count": null,
   "id": "be777422-6e80-486a-b4fb-1aec996f1ef4",
   "metadata": {},
   "outputs": [],
   "source": [
    "_Linear.fit(sd=20)"
   ]
  },
  {
   "cell_type": "code",
   "execution_count": null,
   "id": "0f0261aa-12e2-4d78-aef5-1fc5f3c9d64d",
   "metadata": {},
   "outputs": [],
   "source": [
    "outlier_simul_one = (_Linear.df['Residual']**2).tolist()"
   ]
  },
  {
   "cell_type": "markdown",
   "id": "f7ccab03-2807-46c1-b974-32b464371111",
   "metadata": {},
   "source": [
    "- x > 9.8의 이유 5% 이상치 검출 조정을 위함"
   ]
  },
  {
   "cell_type": "code",
   "execution_count": null,
   "id": "89e033da-7ca4-48c0-aeea-98df1e82cd34",
   "metadata": {},
   "outputs": [],
   "source": [
    "outlier_simul_one = list(map(lambda x: -1 if x > 9.8 else 1,outlier_simul_one))"
   ]
  },
  {
   "cell_type": "code",
   "execution_count": null,
   "id": "5585f4d5-8157-4d59-b931-8fa930e8e8bd",
   "metadata": {},
   "outputs": [],
   "source": [
    "_conf = Conf_matrx(outlier_true_one_1,outlier_simul_one,tab_linear)"
   ]
  },
  {
   "cell_type": "code",
   "execution_count": null,
   "id": "ca39799f-e6c7-449f-8a31-78ffd9136ed8",
   "metadata": {},
   "outputs": [],
   "source": [
    "outlier_simul_one.count(1)"
   ]
  },
  {
   "cell_type": "code",
   "execution_count": null,
   "id": "ae3f2231-bc8a-48c0-a831-a521b324ab81",
   "metadata": {},
   "outputs": [],
   "source": [
    "outlier_simul_one.count(-1)"
   ]
  },
  {
   "cell_type": "code",
   "execution_count": null,
   "id": "6834ed16-9cc9-46ee-9949-1fa7a7dcff7b",
   "metadata": {},
   "outputs": [],
   "source": [
    "_conf.conf(\"GODE\")"
   ]
  },
  {
   "cell_type": "code",
   "execution_count": null,
   "id": "6a4b0623-12d3-4c67-9b10-d8c6ddb36010",
   "metadata": {},
   "outputs": [],
   "source": [
    "one = _conf.tab"
   ]
  },
  {
   "cell_type": "markdown",
   "id": "8fc39365-3d14-40e7-98f8-efbabd09d730",
   "metadata": {},
   "source": [
    "### LOF"
   ]
  },
  {
   "cell_type": "markdown",
   "id": "ef0494b0-0804-4e49-af48-8f10a7a057f7",
   "metadata": {},
   "source": [
    "<span style=\"color:red\">  1. random.seed 지정했는가? O </span>\n",
    "\n",
    "<span style=\"color:red\">  2. contamination 지정했는가? O </span>\n",
    "\n",
    "<span style=\"color:red\">  3. Iteration 지정할 수 있는가? X </span>"
   ]
  },
  {
   "cell_type": "markdown",
   "id": "ce0b470b-07a1-407f-836d-5da3a7a5e454",
   "metadata": {},
   "source": [
    "- `novelty`\n",
    "    - True : 새로운 데이터 샘플의 이상치 탐지 여부 확인\n",
    "    - False(default) : 데이터를 훈련시켜서 이상치 탐지 여부 확인"
   ]
  },
  {
   "cell_type": "code",
   "execution_count": null,
   "id": "fbf65c36-3752-42e4-bccd-0721cacc7da0",
   "metadata": {},
   "outputs": [],
   "source": [
    "np.random.seed(77)\n",
    "clf = LocalOutlierFactor(contamination=0.05)"
   ]
  },
  {
   "cell_type": "code",
   "execution_count": null,
   "id": "1f6e9245-d4b7-4602-b0cd-2018ca69ea0d",
   "metadata": {},
   "outputs": [],
   "source": [
    "_conf = Conf_matrx(outlier_true_one_1,clf.fit_predict(X),tab_linear)"
   ]
  },
  {
   "cell_type": "code",
   "execution_count": null,
   "id": "e87d2126-1ab0-46b6-b190-1f7aa2643797",
   "metadata": {},
   "outputs": [],
   "source": [
    "_conf.conf(\"LOF (Breunig et al., 2000)\")"
   ]
  },
  {
   "cell_type": "code",
   "execution_count": null,
   "id": "b6d50d23-85eb-45bc-b95a-e364fe4220ac",
   "metadata": {},
   "outputs": [],
   "source": [
    "two = one.append(_conf.tab)"
   ]
  },
  {
   "cell_type": "code",
   "execution_count": null,
   "id": "fbacef1b-dbf0-48b7-8be1-eebb7ca8e3e5",
   "metadata": {},
   "outputs": [],
   "source": [
    "two"
   ]
  },
  {
   "cell_type": "markdown",
   "id": "da0251a6-f057-43d1-89c0-f4fd1a70576d",
   "metadata": {},
   "source": [
    "### KNN"
   ]
  },
  {
   "cell_type": "markdown",
   "id": "db6e88e0-1c19-45dc-b999-c5b61739b512",
   "metadata": {},
   "source": [
    "<span style=\"color:red\">  1. random.seed 지정했는가? O </span>\n",
    "\n",
    "<span style=\"color:red\">  2. contamination 지정했는가? O </span>\n",
    "\n",
    "<span style=\"color:red\">  3. Iteration 지정할 수 있는가? X </span>"
   ]
  },
  {
   "cell_type": "code",
   "execution_count": null,
   "id": "2f0a2af8-4d53-4fa8-afa8-fb4ddf29cfee",
   "metadata": {},
   "outputs": [],
   "source": [
    "from pyod.models.knn import KNN"
   ]
  },
  {
   "cell_type": "code",
   "execution_count": null,
   "id": "3b8ecf2f-957d-4ab8-9031-348171423c54",
   "metadata": {
    "tags": []
   },
   "outputs": [],
   "source": [
    "np.random.seed(77)\n",
    "clf = KNN(contamination=0.05)\n",
    "clf.fit(_df[['x', 'y']])\n",
    "_df['knn_Clf'] = clf.labels_"
   ]
  },
  {
   "cell_type": "code",
   "execution_count": null,
   "id": "ed8b8fc2-d1d9-49c0-8ba2-bd942a31423d",
   "metadata": {},
   "outputs": [],
   "source": [
    "outlier_KNN_one = list(clf.labels_)"
   ]
  },
  {
   "cell_type": "code",
   "execution_count": null,
   "id": "086bb2c4-8073-4cac-994f-996ae06657d0",
   "metadata": {},
   "outputs": [],
   "source": [
    "outlier_KNN_one = list(map(lambda x: 1 if x==0  else -1,outlier_KNN_one))"
   ]
  },
  {
   "cell_type": "code",
   "execution_count": null,
   "id": "e6faebfe-7548-4d8f-8549-2d2d1b3530eb",
   "metadata": {},
   "outputs": [],
   "source": [
    "_conf = Conf_matrx(outlier_true_one_1,outlier_KNN_one,tab_linear)"
   ]
  },
  {
   "cell_type": "code",
   "execution_count": null,
   "id": "046c293d-1ea8-46ef-a729-cf261f659807",
   "metadata": {},
   "outputs": [],
   "source": [
    "_conf.conf(\"kNN (Ramaswamy et al., 2000)\")"
   ]
  },
  {
   "cell_type": "code",
   "execution_count": null,
   "id": "4132e0a6-02df-40d6-be56-99d0c9e2ad0a",
   "metadata": {},
   "outputs": [],
   "source": [
    "three = two.append(_conf.tab)"
   ]
  },
  {
   "cell_type": "code",
   "execution_count": null,
   "id": "f02371aa-08f9-41d2-9002-3e1ce2fd09b9",
   "metadata": {},
   "outputs": [],
   "source": [
    "three"
   ]
  },
  {
   "cell_type": "markdown",
   "id": "c4add752-bec2-4c11-b922-d380a22856d6",
   "metadata": {},
   "source": [
    "### CBLOF(오류)"
   ]
  },
  {
   "cell_type": "markdown",
   "id": "223d452c-a1d4-4726-b26d-3e1279e94780",
   "metadata": {},
   "source": [
    "<span style=\"color:red\">  1. random.seed 지정했는가? O </span>\n",
    "\n",
    "<span style=\"color:red\">  2. contamination 지정했는가? O </span>\n",
    "\n",
    "<span style=\"color:red\">  3. Iteration 지정할 수 있는가? X </span>"
   ]
  },
  {
   "cell_type": "code",
   "execution_count": null,
   "id": "90662a03-66a3-40c9-b638-3a8747b352f3",
   "metadata": {},
   "outputs": [],
   "source": [
    "import pandas as pd\n",
    "import matplotlib.pyplot as plt"
   ]
  },
  {
   "cell_type": "code",
   "execution_count": null,
   "id": "153172e0-038d-4fc9-a7af-f481661a786d",
   "metadata": {},
   "outputs": [],
   "source": [
    "_df =  pd.read_csv('simple_linear_df.csv')"
   ]
  },
  {
   "cell_type": "code",
   "execution_count": null,
   "id": "cc05f817-077c-46d9-8e4d-0dc7e4198b45",
   "metadata": {},
   "outputs": [],
   "source": [
    "outlier_true_one_1 = pd.read_csv('simple_linear_outlier.csv').iloc[:,1].tolist()"
   ]
  },
  {
   "cell_type": "code",
   "execution_count": null,
   "id": "b9dc9a67-d497-43b8-a645-ecadd1e933cc",
   "metadata": {},
   "outputs": [],
   "source": [
    "clf = CBLOF(contamination=0.05,check_estimator=False, random_state=77)\n",
    "clf.fit(_df[['x', 'y']])\n",
    "_df['CBLOF_Clf'] = clf.labels_"
   ]
  },
  {
   "cell_type": "code",
   "execution_count": null,
   "id": "5c678214-8b07-478b-afbe-a36b18e4e3fc",
   "metadata": {},
   "outputs": [],
   "source": [
    "clf = CBLOF(contamination=0.05,check_estimator=False, random_state=77)\n",
    "clf.fit(_df[['x', 'y']])\n",
    "_df['CBLOF_Clf'] = clf.labels_\n",
    "\n",
    "outlier_CBLOF_one = list(clf.labels_)\n",
    "\n",
    "outlier_CBLOF_one = list(map(lambda x: 1 if x==0  else -1,outlier_CBLOF_one))\n",
    "\n",
    "_conf = Conf_matrx(outlier_true_one_1,outlier_CBLOF_one,tab_linear)\n",
    "\n"
   ]
  },
  {
   "cell_type": "code",
   "execution_count": null,
   "id": "43315436-c387-40ec-8044-637a9b5ce503",
   "metadata": {},
   "outputs": [],
   "source": [
    "_conf.conf(\"CBLOF (He et al., 2003)\")\n"
   ]
  },
  {
   "cell_type": "code",
   "execution_count": null,
   "id": "11577e1e-178e-41bc-a935-0231159518dd",
   "metadata": {},
   "outputs": [],
   "source": [
    "# four = three.append(_conf.tab)"
   ]
  },
  {
   "cell_type": "markdown",
   "id": "764547b9-3023-4dca-acbd-4256111f6a39",
   "metadata": {},
   "source": [
    "- Accuracy: 0.972\n",
    "- Precision: 0.985\n",
    "- Recall: 0.985\n",
    "- F1 Score: 0.985"
   ]
  },
  {
   "cell_type": "markdown",
   "id": "65115931-e5bf-435a-9374-073f53835bbc",
   "metadata": {},
   "source": [
    "### OCSVM"
   ]
  },
  {
   "cell_type": "markdown",
   "id": "7d8d0c97-132a-471d-8a73-4df3887e786d",
   "metadata": {},
   "source": [
    "<span style=\"color:red\">  1. random.seed 지정했는가? O </span>\n",
    "\n",
    "<span style=\"color:red\">  2. contamination 지정했는가? O, nu </span>\n",
    "\n",
    "<span style=\"color:red\">  3. Iteration 지정할 수 있는가? O, max_iter </span>"
   ]
  },
  {
   "cell_type": "code",
   "execution_count": null,
   "id": "92a9370a-0a6d-48d0-a7dd-7d861a54a965",
   "metadata": {},
   "outputs": [],
   "source": [
    "np.random.seed(77)\n",
    "clf = svm.OneClassSVM(nu=0.05)"
   ]
  },
  {
   "cell_type": "code",
   "execution_count": null,
   "id": "f1b6ba1d-acd4-47e8-afb9-f3596f8a594c",
   "metadata": {},
   "outputs": [],
   "source": [
    "clf.fit(X)"
   ]
  },
  {
   "cell_type": "code",
   "execution_count": null,
   "id": "b045b365-2a1e-4864-933d-0627ebb1e284",
   "metadata": {},
   "outputs": [],
   "source": [
    "outlier_OSVM_one = list(clf.predict(X))"
   ]
  },
  {
   "cell_type": "code",
   "execution_count": null,
   "id": "42be82d2-be59-4a39-a1b8-bb2740eb4cc1",
   "metadata": {},
   "outputs": [],
   "source": [
    "_conf = Conf_matrx(outlier_true_one_1,outlier_OSVM_one,tab_linear)"
   ]
  },
  {
   "cell_type": "code",
   "execution_count": null,
   "id": "d1fa5c0e-ca21-48d6-a236-61228979cd4d",
   "metadata": {},
   "outputs": [],
   "source": [
    "_conf.conf(\"OCSVM (Sch ̈olkopf et al., 2001)\")"
   ]
  },
  {
   "cell_type": "code",
   "execution_count": null,
   "id": "b6d6abf2-3136-4015-9caa-933a0b8a0e91",
   "metadata": {},
   "outputs": [],
   "source": [
    "five = three.append(_conf.tab)"
   ]
  },
  {
   "cell_type": "code",
   "execution_count": null,
   "id": "dd5480fd-866c-4cc5-a497-e6f83edc807b",
   "metadata": {},
   "outputs": [],
   "source": [
    "five"
   ]
  },
  {
   "cell_type": "markdown",
   "id": "1a56f2ee-6d38-4a43-94a1-925bbcd1f2d1",
   "metadata": {},
   "source": [
    "### MCD$\\star$"
   ]
  },
  {
   "cell_type": "markdown",
   "id": "64cc7683-c95d-43a0-926c-dfe543e29982",
   "metadata": {},
   "source": [
    "<span style=\"color:red\">  1. random.seed 지정했는가? O, random_state </span>\n",
    "\n",
    "<span style=\"color:red\">  2. contamination 지정했는가? O </span>\n",
    "\n",
    "<span style=\"color:red\">  3. Iteration 지정할 수 있는가? X </span>"
   ]
  },
  {
   "cell_type": "code",
   "execution_count": null,
   "id": "752671f8-a722-4246-8b27-7d4656f44e38",
   "metadata": {
    "scrolled": true,
    "tags": []
   },
   "outputs": [],
   "source": [
    "clf = MCD(contamination=0.05, random_state = 77)\n",
    "clf.fit(_df[['x', 'y']])\n",
    "_df['MCD_clf'] = clf.labels_"
   ]
  },
  {
   "cell_type": "code",
   "execution_count": null,
   "id": "b18b17b4-3cf9-4cb1-8d31-2a9ef92d44b7",
   "metadata": {},
   "outputs": [],
   "source": [
    "outlier_MCD_one = list(clf.labels_)"
   ]
  },
  {
   "cell_type": "code",
   "execution_count": null,
   "id": "f36beccd-824e-438f-b2d7-47bd8c62438e",
   "metadata": {},
   "outputs": [],
   "source": [
    "outlier_MCD_one = list(map(lambda x: 1 if x==0  else -1,outlier_MCD_one))"
   ]
  },
  {
   "cell_type": "code",
   "execution_count": null,
   "id": "42c5b9f5-6e96-4b9d-8a6e-e2b2deee33f7",
   "metadata": {},
   "outputs": [],
   "source": [
    "_conf = Conf_matrx(outlier_true_one_1,outlier_MCD_one,tab_linear)"
   ]
  },
  {
   "cell_type": "code",
   "execution_count": null,
   "id": "7f6e8752-b7a7-4f14-81e7-64f3ec1a638f",
   "metadata": {},
   "outputs": [],
   "source": [
    "_conf.conf(\"MCD (Hardin and Rocke, 2004)\")"
   ]
  },
  {
   "cell_type": "code",
   "execution_count": null,
   "id": "4cdd361e-8e0b-4151-8a03-82f116f6604f",
   "metadata": {},
   "outputs": [],
   "source": [
    "six = five.append(_conf.tab)"
   ]
  },
  {
   "cell_type": "code",
   "execution_count": null,
   "id": "7f3b7add-fbb3-4753-a974-de3b38615741",
   "metadata": {},
   "outputs": [],
   "source": [
    "six"
   ]
  },
  {
   "cell_type": "markdown",
   "id": "465b5e39-f69f-4bd4-8164-64a7409ba4df",
   "metadata": {},
   "source": [
    "### Feature Bagging$\\star$"
   ]
  },
  {
   "cell_type": "markdown",
   "id": "62fdb3fc-e383-4d0c-8a3a-9c1ffb2deeff",
   "metadata": {},
   "source": [
    "<span style=\"color:red\">  1. random.seed 지정했는가? O, random_state </span>\n",
    "\n",
    "<span style=\"color:red\">  2. contamination 지정했는가? O </span>\n",
    "\n",
    "<span style=\"color:red\">  3. Iteration 지정할 수 있는가? X </span>"
   ]
  },
  {
   "cell_type": "code",
   "execution_count": null,
   "id": "6b6f574b-efb7-4166-b3a0-ecbe7180837d",
   "metadata": {
    "scrolled": true,
    "tags": []
   },
   "outputs": [],
   "source": [
    "clf = FeatureBagging(contamination=0.05, random_state=77)\n",
    "clf.fit(_df[['x', 'y']])\n",
    "_df['FeatureBagging_clf'] = clf.labels_"
   ]
  },
  {
   "cell_type": "code",
   "execution_count": null,
   "id": "d1fcff2f-f3cf-4224-84b4-1af9cbd95c58",
   "metadata": {},
   "outputs": [],
   "source": [
    "outlier_FeatureBagging_one = list(clf.labels_)"
   ]
  },
  {
   "cell_type": "code",
   "execution_count": null,
   "id": "cb6af11e-b54c-469e-8958-e54bf8775935",
   "metadata": {},
   "outputs": [],
   "source": [
    "outlier_FeatureBagging_one = list(map(lambda x: 1 if x==0  else -1,outlier_FeatureBagging_one))"
   ]
  },
  {
   "cell_type": "code",
   "execution_count": null,
   "id": "e078354e-30de-45b2-a62c-467c162c2408",
   "metadata": {},
   "outputs": [],
   "source": [
    "_conf = Conf_matrx(outlier_true_one_1,outlier_FeatureBagging_one,tab_linear)"
   ]
  },
  {
   "cell_type": "code",
   "execution_count": null,
   "id": "5b4274c8-ed10-4a9a-b0c7-971c00a63052",
   "metadata": {},
   "outputs": [],
   "source": [
    "_conf.conf(\"Feature Bagging (Lazarevic and Kumar, 2005)\")"
   ]
  },
  {
   "cell_type": "code",
   "execution_count": null,
   "id": "4c090c99-a516-4d65-8054-1d9b8af3c2be",
   "metadata": {},
   "outputs": [],
   "source": [
    "seven = six.append(_conf.tab)"
   ]
  },
  {
   "cell_type": "code",
   "execution_count": null,
   "id": "ef8791e8-3ced-4b36-82cb-72d331287e98",
   "metadata": {},
   "outputs": [],
   "source": [
    "seven"
   ]
  },
  {
   "cell_type": "markdown",
   "id": "3e26dc54-51d8-479e-9f80-c800c6a507ae",
   "metadata": {
    "tags": []
   },
   "source": [
    "### ABOD$\\star$"
   ]
  },
  {
   "cell_type": "markdown",
   "id": "d0177102-e636-4c4f-ba97-01876792432e",
   "metadata": {},
   "source": [
    "<span style=\"color:red\">  1. random.seed 지정했는가? O </span>\n",
    "\n",
    "<span style=\"color:red\">  2. contamination 지정했는가? O </span>\n",
    "\n",
    "<span style=\"color:red\">  3. Iteration 지정할 수 있는가? X </span>"
   ]
  },
  {
   "cell_type": "code",
   "execution_count": null,
   "id": "fe44106d-3f42-4d2d-8247-aac18a9d6b53",
   "metadata": {},
   "outputs": [],
   "source": [
    "np.random.seed(77)\n",
    "clf = ABOD(contamination=0.05)\n",
    "clf.fit(_df[['x', 'y']])\n",
    "_df['ABOD_Clf'] = clf.labels_"
   ]
  },
  {
   "cell_type": "code",
   "execution_count": null,
   "id": "718bd8c6-ad4c-4b10-bf7d-d15f49159ff1",
   "metadata": {},
   "outputs": [],
   "source": [
    "outlier_ABOD_one = list(clf.labels_)"
   ]
  },
  {
   "cell_type": "code",
   "execution_count": null,
   "id": "9430c793-c89e-4274-9622-13d04ed7406c",
   "metadata": {},
   "outputs": [],
   "source": [
    "outlier_ABOD_one = list(map(lambda x: 1 if x==0  else -1,outlier_ABOD_one))"
   ]
  },
  {
   "cell_type": "code",
   "execution_count": null,
   "id": "36be755d-a7e9-4855-bc93-f30e6088df5e",
   "metadata": {},
   "outputs": [],
   "source": [
    "_conf = Conf_matrx(outlier_true_one_1,outlier_ABOD_one,tab_linear)"
   ]
  },
  {
   "cell_type": "code",
   "execution_count": null,
   "id": "7bc8f40d-a585-40ab-a8ce-b7e10263c7a7",
   "metadata": {},
   "outputs": [],
   "source": [
    "_conf.conf(\"ABOD (Kriegel et al., 2008)\")"
   ]
  },
  {
   "cell_type": "code",
   "execution_count": null,
   "id": "cb79803f-1bf1-4294-81e1-db2cd98f4af6",
   "metadata": {},
   "outputs": [],
   "source": [
    "eight = seven.append(_conf.tab)"
   ]
  },
  {
   "cell_type": "code",
   "execution_count": null,
   "id": "e11ed572-4d1a-4d6c-9141-fc23fe34cbdd",
   "metadata": {},
   "outputs": [],
   "source": [
    "eight"
   ]
  },
  {
   "cell_type": "markdown",
   "id": "4644cc11-eb3f-4f04-aa2d-46445bfbc520",
   "metadata": {},
   "source": [
    "### IForest$\\star$"
   ]
  },
  {
   "cell_type": "markdown",
   "id": "0c0242e2-db32-491f-b11b-5df58409a697",
   "metadata": {},
   "source": [
    "<span style=\"color:red\">  1. random.seed 지정했는가? O </span>\n",
    "\n",
    "<span style=\"color:red\">  2. contamination 지정했는가? X, 할 수 없음. </span>\n",
    "\n",
    "<span style=\"color:red\">  3. Iteration 지정할 수 있는가? X </span>\n",
    "\n",
    "-> threshold=0. 꼭 지정해주어야 하는 옵션"
   ]
  },
  {
   "cell_type": "code",
   "execution_count": null,
   "id": "acf903c6-90e1-40ba-b85d-01c351628038",
   "metadata": {},
   "outputs": [],
   "source": [
    "np.random.seed(77)\n",
    "od = IForest(\n",
    "    threshold=0.\n",
    ")"
   ]
  },
  {
   "cell_type": "code",
   "execution_count": null,
   "id": "3efe5b39-8954-4db6-86e1-24c2bca88223",
   "metadata": {},
   "outputs": [],
   "source": [
    "od.fit(_df[['x', 'y']])"
   ]
  },
  {
   "cell_type": "code",
   "execution_count": null,
   "id": "6b02a0ac-ee37-4ff7-b1b6-3e2ac4de39ba",
   "metadata": {},
   "outputs": [],
   "source": [
    "preds = od.predict(\n",
    "    _df[['x', 'y']],\n",
    "    return_instance_score=True\n",
    ")"
   ]
  },
  {
   "cell_type": "code",
   "execution_count": null,
   "id": "58fa6202-ba82-45dd-9607-eb69680a0de3",
   "metadata": {},
   "outputs": [],
   "source": [
    "_df['IF_alibi'] = preds['data']['is_outlier']"
   ]
  },
  {
   "cell_type": "code",
   "execution_count": null,
   "id": "4983467a-e00e-4e70-bba7-3038346fe3b3",
   "metadata": {},
   "outputs": [],
   "source": [
    "outlier_alibi_one = _df['IF_alibi']"
   ]
  },
  {
   "cell_type": "code",
   "execution_count": null,
   "id": "47855d84-4ddb-40f5-a850-0f8bad57a52f",
   "metadata": {},
   "outputs": [],
   "source": [
    "outlier_alibi_one = list(map(lambda x: 1 if x==0  else -1,outlier_alibi_one))"
   ]
  },
  {
   "cell_type": "code",
   "execution_count": null,
   "id": "6e1dacb7-3e8f-439f-9da6-38db8622bce7",
   "metadata": {},
   "outputs": [],
   "source": [
    "_conf = Conf_matrx(outlier_true_one_1,outlier_alibi_one,tab_linear)"
   ]
  },
  {
   "cell_type": "code",
   "execution_count": null,
   "id": "a91ec2b8-3d1a-4f62-aa65-6b6172971c35",
   "metadata": {},
   "outputs": [],
   "source": [
    "_conf.conf(\"Isolation Forest (Liu et al., 2008)\")"
   ]
  },
  {
   "cell_type": "code",
   "execution_count": null,
   "id": "5d54172f-7626-4392-a336-33e9799c7d21",
   "metadata": {},
   "outputs": [],
   "source": [
    "nine = eight.append(_conf.tab)"
   ]
  },
  {
   "cell_type": "code",
   "execution_count": null,
   "id": "2a53c60a-e4bd-429f-974e-a8b3382da641",
   "metadata": {},
   "outputs": [],
   "source": [
    "nine"
   ]
  },
  {
   "cell_type": "markdown",
   "id": "be07d17c-c473-411f-b19d-772016e5ced8",
   "metadata": {},
   "source": [
    "### HBOS$\\star$"
   ]
  },
  {
   "cell_type": "markdown",
   "id": "9b4b7c73-e468-4f07-bbe8-e4a0e045f722",
   "metadata": {},
   "source": [
    "<span style=\"color:red\">  1. random.seed 지정했는가? O </span>\n",
    "\n",
    "<span style=\"color:red\">  2. contamination 지정했는가? O </span>\n",
    "\n",
    "<span style=\"color:red\">  3. Iteration 지정할 수 있는가? X </span>"
   ]
  },
  {
   "cell_type": "code",
   "execution_count": null,
   "id": "56d6c47d-ffab-4d66-b645-f2ccc2bd287f",
   "metadata": {},
   "outputs": [],
   "source": [
    "np.random.seed(77)\n",
    "clf = HBOS(contamination=0.05)\n",
    "clf.fit(_df[['x', 'y']])\n",
    "_df['HBOS_clf'] = clf.labels_"
   ]
  },
  {
   "cell_type": "code",
   "execution_count": null,
   "id": "b454d8d5-49e4-4a93-b274-9f9f51b3b72a",
   "metadata": {},
   "outputs": [],
   "source": [
    "outlier_HBOS_one = list(clf.labels_)"
   ]
  },
  {
   "cell_type": "code",
   "execution_count": null,
   "id": "0c26e28d-417f-44d2-bc45-9a7f1d87a7ba",
   "metadata": {},
   "outputs": [],
   "source": [
    "outlier_HBOS_one = list(map(lambda x: 1 if x==0  else -1,outlier_HBOS_one))"
   ]
  },
  {
   "cell_type": "code",
   "execution_count": null,
   "id": "98ce6a88-fc1b-4a11-9fd1-994e174741e5",
   "metadata": {},
   "outputs": [],
   "source": [
    "_conf = Conf_matrx(outlier_true_one_1,outlier_HBOS_one,tab_linear)"
   ]
  },
  {
   "cell_type": "code",
   "execution_count": null,
   "id": "9eeacd94-89e8-49f0-a51a-63edefde43df",
   "metadata": {},
   "outputs": [],
   "source": [
    "_conf.conf(\"HBOS (Goldstein and Dengel, 2012)\")"
   ]
  },
  {
   "cell_type": "code",
   "execution_count": null,
   "id": "f6aa48af-70a4-42b4-bdbb-7e7db4e590f6",
   "metadata": {},
   "outputs": [],
   "source": [
    "ten = nine.append(_conf.tab)"
   ]
  },
  {
   "cell_type": "code",
   "execution_count": null,
   "id": "66af2ca1-15f3-4b09-90c0-d09e42b112ec",
   "metadata": {},
   "outputs": [],
   "source": [
    "ten"
   ]
  },
  {
   "cell_type": "markdown",
   "id": "4d8347e3-83b5-4b55-bf7b-412513d96fd0",
   "metadata": {},
   "source": [
    "### SOS$\\star$"
   ]
  },
  {
   "cell_type": "markdown",
   "id": "a1a355d8-e336-46ad-8388-c7c69766ac70",
   "metadata": {},
   "source": [
    "<span style=\"color:red\">  1. random.seed 지정했는가? O </span>\n",
    "\n",
    "<span style=\"color:red\">  2. contamination 지정했는가? O </span>\n",
    "\n",
    "<span style=\"color:red\">  3. Iteration 지정할 수 있는가? X </span>"
   ]
  },
  {
   "cell_type": "code",
   "execution_count": null,
   "id": "3cbfd4f3-2e9c-4639-a441-b9a266b7c2c8",
   "metadata": {},
   "outputs": [],
   "source": [
    "np.random.seed(77)\n",
    "clf = SOS(contamination=0.05)\n",
    "clf.fit(_df[['x', 'y']])\n",
    "_df['SOS_clf'] = clf.labels_"
   ]
  },
  {
   "cell_type": "code",
   "execution_count": null,
   "id": "860d1fa3-8b82-42b6-930a-f7f79ef633fe",
   "metadata": {},
   "outputs": [],
   "source": [
    "outlier_SOS_one = list(clf.labels_)"
   ]
  },
  {
   "cell_type": "code",
   "execution_count": null,
   "id": "920f0102-efce-4f5a-96d1-ae06ef2f1b83",
   "metadata": {},
   "outputs": [],
   "source": [
    "outlier_SOS_one = list(map(lambda x: 1 if x==0  else -1,outlier_SOS_one))"
   ]
  },
  {
   "cell_type": "code",
   "execution_count": null,
   "id": "71368535-c659-42e7-9d44-92c437591ca5",
   "metadata": {},
   "outputs": [],
   "source": [
    "_conf = Conf_matrx(outlier_true_one_1,outlier_SOS_one,tab_linear)"
   ]
  },
  {
   "cell_type": "code",
   "execution_count": null,
   "id": "d09f9eb5-9451-4a4f-83ed-49d4427901d0",
   "metadata": {},
   "outputs": [],
   "source": [
    "_conf.conf(\"SOS (Janssens et al., 2012)\")"
   ]
  },
  {
   "cell_type": "code",
   "execution_count": null,
   "id": "3732bcc6-24a8-43a8-8f98-d596c35a524f",
   "metadata": {},
   "outputs": [],
   "source": [
    "eleven = ten.append(_conf.tab)"
   ]
  },
  {
   "cell_type": "code",
   "execution_count": null,
   "id": "6979e87a-0da2-4c65-a2eb-d4cf97362ddd",
   "metadata": {},
   "outputs": [],
   "source": [
    "eleven"
   ]
  },
  {
   "cell_type": "markdown",
   "id": "368a4ceb-7dda-497a-b487-0d56cb31cd5b",
   "metadata": {
    "tags": []
   },
   "source": [
    "### SO_GAAL"
   ]
  },
  {
   "cell_type": "markdown",
   "id": "bbbd171e-d1dd-4d85-99d2-d64e7c7a83d4",
   "metadata": {},
   "source": [
    "<span style=\"color:red\">  1. random.seed 지정했는가? O </span>\n",
    "\n",
    "<span style=\"color:red\">  2. contamination 지정했는가? O </span>\n",
    "\n",
    "<span style=\"color:red\">  3. Iteration 지정할 수 있는가? stop_epochs(default,20) </span>"
   ]
  },
  {
   "cell_type": "code",
   "execution_count": null,
   "id": "98428fce-c7d8-4c30-8c61-0a3ea25bf597",
   "metadata": {
    "scrolled": true,
    "tags": []
   },
   "outputs": [],
   "source": [
    "np.random.seed(77)\n",
    "clf = SO_GAAL(contamination=0.05)\n",
    "clf.fit(_df[['x', 'y']])\n",
    "_df['SO_GAAL_clf'] = clf.labels_"
   ]
  },
  {
   "cell_type": "code",
   "execution_count": null,
   "id": "5179dd6c-fb20-4362-ab41-6339408e8827",
   "metadata": {},
   "outputs": [],
   "source": [
    "outlier_SO_GAAL_one = list(clf.labels_)"
   ]
  },
  {
   "cell_type": "code",
   "execution_count": null,
   "id": "1f5d0584-9632-447d-a5d3-2529b3c41b49",
   "metadata": {},
   "outputs": [],
   "source": [
    "outlier_SO_GAAL_one = list(map(lambda x: 1 if x==0  else -1,outlier_SO_GAAL_one))"
   ]
  },
  {
   "cell_type": "code",
   "execution_count": null,
   "id": "639307be-7900-4259-816a-fe6da25ed1dc",
   "metadata": {},
   "outputs": [],
   "source": [
    "_conf = Conf_matrx(outlier_true_one_1,outlier_SO_GAAL_one,tab_linear)"
   ]
  },
  {
   "cell_type": "code",
   "execution_count": null,
   "id": "c3ffdbfe-2f54-4717-b1be-1fa38eb69e2f",
   "metadata": {},
   "outputs": [],
   "source": [
    "_conf.conf(\"SO-GAAL (Liu et al., 2019)\")"
   ]
  },
  {
   "cell_type": "code",
   "execution_count": null,
   "id": "95415640-8335-414b-9a35-2825561281c0",
   "metadata": {},
   "outputs": [],
   "source": [
    "twelve = eleven.append(_conf.tab)"
   ]
  },
  {
   "cell_type": "code",
   "execution_count": null,
   "id": "eafd8f61-e403-43b8-aebc-1d59ac12cce8",
   "metadata": {},
   "outputs": [],
   "source": [
    "twelve"
   ]
  },
  {
   "cell_type": "markdown",
   "id": "6569fbd2-d3a6-4c36-a815-8d9ee103e210",
   "metadata": {
    "tags": []
   },
   "source": [
    "### MO_GAAL$\\star$"
   ]
  },
  {
   "cell_type": "markdown",
   "id": "3fd488d2-973a-4de0-be9d-842e05ad60dd",
   "metadata": {},
   "source": [
    "<span style=\"color:red\">  1. random.seed 지정했는가? O </span>\n",
    "\n",
    "<span style=\"color:red\">  2. contamination 지정했는가? O </span>\n",
    "\n",
    "<span style=\"color:red\">  3. Iteration 지정할 수 있는가? stop_epochs(default,20) </span>"
   ]
  },
  {
   "cell_type": "code",
   "execution_count": null,
   "id": "a8cb0a21-0444-4613-8b92-1d069d9b3575",
   "metadata": {
    "scrolled": true,
    "tags": []
   },
   "outputs": [],
   "source": [
    "np.random.seed(77)\n",
    "clf = MO_GAAL(contamination=0.05)\n",
    "clf.fit(_df[['x', 'y']])\n",
    "_df['MO_GAAL_clf'] = clf.labels_"
   ]
  },
  {
   "cell_type": "code",
   "execution_count": null,
   "id": "41e07567-3f8f-4aec-a6fd-98643c82ee86",
   "metadata": {},
   "outputs": [],
   "source": [
    "outlier_MO_GAAL_one = list(clf.labels_)"
   ]
  },
  {
   "cell_type": "code",
   "execution_count": null,
   "id": "b553dad5-5575-45db-8644-3681cd99172e",
   "metadata": {},
   "outputs": [],
   "source": [
    "outlier_MO_GAAL_one = list(map(lambda x: 1 if x==0  else -1,outlier_MO_GAAL_one))"
   ]
  },
  {
   "cell_type": "code",
   "execution_count": null,
   "id": "2e5c7ff0-81be-4590-8cb3-63ea6e664f10",
   "metadata": {},
   "outputs": [],
   "source": [
    "_conf = Conf_matrx(outlier_true_one_1,outlier_MO_GAAL_one,tab_linear)"
   ]
  },
  {
   "cell_type": "code",
   "execution_count": null,
   "id": "8ec4ef5d-e581-4dbe-89a1-330588fb810b",
   "metadata": {},
   "outputs": [],
   "source": [
    "_conf.conf(\"MO-GAAL (Liu et al., 2019)\")"
   ]
  },
  {
   "cell_type": "code",
   "execution_count": null,
   "id": "527637da-b760-4ef9-a554-457a8a35b4f2",
   "metadata": {},
   "outputs": [],
   "source": [
    "thirteen = twelve.append(_conf.tab)"
   ]
  },
  {
   "cell_type": "code",
   "execution_count": null,
   "id": "9d0a9f75-db16-4e9a-aece-0fd64da76476",
   "metadata": {},
   "outputs": [],
   "source": [
    "thirteen = therteen"
   ]
  },
  {
   "cell_type": "code",
   "execution_count": null,
   "id": "3ebffc9b-3fb4-4496-8533-40d51b3a0b49",
   "metadata": {},
   "outputs": [],
   "source": [
    "thirteen"
   ]
  },
  {
   "cell_type": "markdown",
   "id": "714aa7e3-e18f-4463-a7a5-7416afca6336",
   "metadata": {
    "tags": []
   },
   "source": [
    "### LSCP$\\star$"
   ]
  },
  {
   "cell_type": "markdown",
   "id": "86503973-9c54-4721-a5e8-60e68fe7d9a6",
   "metadata": {},
   "source": [
    "<span style=\"color:red\">  1. random.seed 지정했는가? O, random_state </span>\n",
    "\n",
    "<span style=\"color:red\">  2. contamination 지정했는가? O </span>\n",
    "\n",
    "<span style=\"color:red\">  3. Iteration 지정할 수 있는가? X </span>"
   ]
  },
  {
   "cell_type": "code",
   "execution_count": null,
   "id": "10d0ca96-59ca-4737-88fc-08186c6d269a",
   "metadata": {},
   "outputs": [],
   "source": [
    "detectors = [KNN(), LOF(), OCSVM()]\n",
    "clf = LSCP(detectors,contamination=0.05, random_state=77)\n",
    "clf.fit(_df[['x', 'y']])\n",
    "_df['LSCP_clf'] = clf.labels_"
   ]
  },
  {
   "cell_type": "code",
   "execution_count": null,
   "id": "c33ecb34-c02a-4df2-9063-a361ae2e3196",
   "metadata": {},
   "outputs": [],
   "source": [
    "outlier_LSCP_one = list(clf.labels_)"
   ]
  },
  {
   "cell_type": "code",
   "execution_count": null,
   "id": "92f6faa7-86b7-4d57-a0d8-2d75accdf3f9",
   "metadata": {},
   "outputs": [],
   "source": [
    "outlier_LSCP_one = list(map(lambda x: 1 if x==0  else -1,outlier_LSCP_one))"
   ]
  },
  {
   "cell_type": "code",
   "execution_count": null,
   "id": "6b4f4315-cfeb-4266-9e83-6663db679eea",
   "metadata": {},
   "outputs": [],
   "source": [
    "_conf = Conf_matrx(outlier_true_one_1,outlier_LSCP_one,tab_linear)"
   ]
  },
  {
   "cell_type": "code",
   "execution_count": null,
   "id": "848f3ca5-55b5-4260-bc39-190d3f728a57",
   "metadata": {},
   "outputs": [],
   "source": [
    "_conf.conf(\"LSCP (Zhao et al., 2019)\")"
   ]
  },
  {
   "cell_type": "code",
   "execution_count": null,
   "id": "8bd744a7-e603-4591-bd44-768ee279f720",
   "metadata": {},
   "outputs": [],
   "source": [
    "fourteen = therteen.append(_conf.tab)"
   ]
  },
  {
   "cell_type": "code",
   "execution_count": null,
   "id": "e1b9f35a-65ff-4b9c-b7cd-fa9c01e5d0f4",
   "metadata": {},
   "outputs": [],
   "source": [
    "fourteen"
   ]
  },
  {
   "cell_type": "markdown",
   "id": "4edc77ff-c332-4ff5-b24d-f30c6c1e3119",
   "metadata": {},
   "source": [
    "## Linear Result"
   ]
  },
  {
   "cell_type": "markdown",
   "id": "d77784cc-ff85-4e20-bbe5-405be7a659f9",
   "metadata": {},
   "source": [
    "$U^\\star$, which is a mixture of uniform distributions $U(5,7)$ and $U(-7,-5)$."
   ]
  },
  {
   "cell_type": "code",
   "execution_count": null,
   "id": "c8f598bf-a61f-4ed3-8a7e-800fc753c59e",
   "metadata": {},
   "outputs": [],
   "source": [
    "fourteen.round(3)"
   ]
  },
  {
   "cell_type": "code",
   "execution_count": null,
   "id": "80114a8b-7a1b-4eb5-95f6-b6a02019aa04",
   "metadata": {},
   "outputs": [],
   "source": [
    "linear_rst = fourteen.round(3)"
   ]
  },
  {
   "cell_type": "markdown",
   "id": "7deb85e9-2019-4d51-bbc2-084dc50b8e1d",
   "metadata": {
    "tags": [],
    "toc-hr-collapsed": true
   },
   "source": [
    "## Orbit EbayesThresh"
   ]
  },
  {
   "cell_type": "code",
   "execution_count": null,
   "id": "29744f1d-f562-4222-8078-30df600c8efa",
   "metadata": {},
   "outputs": [],
   "source": [
    "%load_ext rpy2.ipython"
   ]
  },
  {
   "cell_type": "code",
   "execution_count": null,
   "id": "b45730b6-a154-44c4-a6db-7769d36e4688",
   "metadata": {},
   "outputs": [],
   "source": [
    "%%R\n",
    "library(EbayesThresh)\n",
    "set.seed(1)\n",
    "epsilon = rnorm(1000)\n",
    "signal = sample(c(runif(25,-7,-5), runif(25,5,7), rep(0,950)))\n",
    "index_of_trueoutlier = which(signal!=0)\n",
    "index_of_trueoutlier\n",
    "x=signal+epsilon\n",
    "plot(1:1000,x)\n",
    "points(index_of_trueoutlier,x[index_of_trueoutlier],col=2,cex=4)\n",
    "\n",
    "#plot(x,type='l')\n",
    "#mu <- EbayesThresh::ebayesthresh(x,sdev=2)\n",
    "#lines(mu,col=2,lty=2,lwd=2)"
   ]
  },
  {
   "cell_type": "code",
   "execution_count": null,
   "id": "580e6cfa-7793-4288-94a3-095abdb1156f",
   "metadata": {},
   "outputs": [],
   "source": [
    "%R -o x\n",
    "%R -o index_of_trueoutlier\n",
    "%R -o signal"
   ]
  },
  {
   "cell_type": "code",
   "execution_count": null,
   "id": "dd034f9d-045b-48e8-be51-d384e84f51fa",
   "metadata": {},
   "outputs": [],
   "source": [
    "ebayesthresh = importr('EbayesThresh').ebayesthresh"
   ]
  },
  {
   "cell_type": "code",
   "execution_count": null,
   "id": "b61b9b71-6b90-4be5-80ac-673e54b00499",
   "metadata": {},
   "outputs": [],
   "source": [
    "xhat = np.array(ebayesthresh(FloatVector(x)))"
   ]
  },
  {
   "cell_type": "code",
   "execution_count": null,
   "id": "d7318a01-f445-4252-a644-6a6dfd68c823",
   "metadata": {},
   "outputs": [],
   "source": [
    "# plt.plot(x)\n",
    "# plt.plot(xhat)"
   ]
  },
  {
   "cell_type": "code",
   "execution_count": null,
   "id": "446fcf0e-494e-43c7-a7c2-500a603a9287",
   "metadata": {},
   "outputs": [],
   "source": [
    "outlier_true_index = index_of_trueoutlier"
   ]
  },
  {
   "cell_type": "code",
   "execution_count": null,
   "id": "af764b91-96ff-4bce-b405-d54f826984ae",
   "metadata": {},
   "outputs": [],
   "source": [
    "outlier_true_value = x[index_of_trueoutlier]"
   ]
  },
  {
   "cell_type": "markdown",
   "id": "25333323-0fc3-4ee4-a5b5-dc0d9225d78a",
   "metadata": {},
   "source": [
    "package와 비교를 위해 outlier는 -1, inlier는 1로 표시"
   ]
  },
  {
   "cell_type": "code",
   "execution_count": null,
   "id": "916ae7e6-970c-47c9-a09b-077196a38e1f",
   "metadata": {},
   "outputs": [],
   "source": [
    "outlier_true_one = signal.copy()"
   ]
  },
  {
   "cell_type": "code",
   "execution_count": null,
   "id": "cbba111b-c439-4cf6-8921-a66d05580eff",
   "metadata": {},
   "outputs": [],
   "source": [
    "outlier_true_one = list(map(lambda x: -1 if x!=0 else 1,outlier_true_one))"
   ]
  },
  {
   "cell_type": "code",
   "execution_count": null,
   "id": "18e5f62d-05c7-4028-a959-369a520bc0f1",
   "metadata": {},
   "outputs": [],
   "source": [
    "# pd.DataFrame(outlier_true_one).to_csv('orbit_outlier.csv')"
   ]
  },
  {
   "cell_type": "markdown",
   "id": "b8d54e69-7255-461b-a5fa-9386b848efd8",
   "metadata": {
    "tags": []
   },
   "source": [
    "## Orbit"
   ]
  },
  {
   "cell_type": "code",
   "execution_count": null,
   "id": "656ba8c0-418e-4f45-b437-a154771935d5",
   "metadata": {},
   "outputs": [],
   "source": [
    "np.random.seed(777)\n",
    "pi=np.pi\n",
    "n=1000\n",
    "ang=np.linspace(-pi,pi-2*pi/n,n)\n",
    "r=5+np.cos(np.linspace(0,12*pi,n))\n",
    "vx=r*np.cos(ang)\n",
    "vy=r*np.sin(ang)\n",
    "f1=10*np.sin(np.linspace(0,6*pi,n))\n",
    "f = f1 + x"
   ]
  },
  {
   "cell_type": "code",
   "execution_count": null,
   "id": "7dcf2069-e2ac-4651-a1b2-2810efc95f6c",
   "metadata": {},
   "outputs": [],
   "source": [
    "_df = pd.DataFrame({'x' : vx, 'y' : vy, 'f' : f})"
   ]
  },
  {
   "cell_type": "code",
   "execution_count": null,
   "id": "3844ac9c-d2b2-4737-be43-8b89b32ea9f5",
   "metadata": {},
   "outputs": [],
   "source": [
    "X = np.array(_df)"
   ]
  },
  {
   "cell_type": "code",
   "execution_count": null,
   "id": "6cf4bc0a-4c70-400b-a78c-9fc196f0f478",
   "metadata": {},
   "outputs": [],
   "source": [
    "# save_data(_df,'Orbit.pkl')"
   ]
  },
  {
   "cell_type": "markdown",
   "id": "5ffbe488-fdd1-43ef-ab09-952a049c5bbd",
   "metadata": {},
   "source": [
    "### GODE"
   ]
  },
  {
   "cell_type": "code",
   "execution_count": null,
   "id": "d315067c-e1e8-4b7d-8278-f74243a577bc",
   "metadata": {},
   "outputs": [],
   "source": [
    "_Orbit = Orbit(_df)"
   ]
  },
  {
   "cell_type": "code",
   "execution_count": null,
   "id": "91f557c8-fb5b-4244-98d2-b4f57a3d45f5",
   "metadata": {},
   "outputs": [],
   "source": [
    "_Orbit.get_distance()"
   ]
  },
  {
   "cell_type": "code",
   "execution_count": null,
   "id": "41ac2f03-b0d5-4700-a5fd-bbba91aa8d13",
   "metadata": {},
   "outputs": [],
   "source": [
    "_Orbit.get_weightmatrix(theta=(_Orbit.D[_Orbit.D>0].mean()),kappa=2500) "
   ]
  },
  {
   "cell_type": "code",
   "execution_count": null,
   "id": "e2d1731f-fa9d-4aec-8e58-61a3c818233f",
   "metadata": {},
   "outputs": [],
   "source": [
    "_Orbit.fit(sd=15,ref=20)"
   ]
  },
  {
   "cell_type": "code",
   "execution_count": null,
   "id": "7e64c9c6-f23e-4bf0-9169-b1487f9c8f58",
   "metadata": {},
   "outputs": [],
   "source": [
    "outlier_simul_one = (_Orbit.df['Residual']**2).tolist()"
   ]
  },
  {
   "cell_type": "code",
   "execution_count": null,
   "id": "abc11caa-9761-4df1-becc-c886f8755e66",
   "metadata": {},
   "outputs": [],
   "source": [
    "outlier_simul_one = list(map(lambda x: -1 if x > 13 else 1,outlier_simul_one))"
   ]
  },
  {
   "cell_type": "code",
   "execution_count": null,
   "id": "668d41f2-a3d1-4f59-b15a-050b2fc01547",
   "metadata": {},
   "outputs": [],
   "source": [
    "outlier_simul_one.count(1)"
   ]
  },
  {
   "cell_type": "code",
   "execution_count": null,
   "id": "bdfad597-5998-4890-9c20-35dacfb7ea93",
   "metadata": {},
   "outputs": [],
   "source": [
    "outlier_simul_one.count(-1)"
   ]
  },
  {
   "cell_type": "code",
   "execution_count": null,
   "id": "229422f2-34e8-4799-b48d-e550619ca19d",
   "metadata": {},
   "outputs": [],
   "source": [
    "_conf = Conf_matrx(outlier_true_one,outlier_simul_one,tab_orbit)"
   ]
  },
  {
   "cell_type": "code",
   "execution_count": null,
   "id": "9102ccf8-756d-4b65-beb1-c2e6d786b1a7",
   "metadata": {},
   "outputs": [],
   "source": [
    "_conf.conf(\"GODE\")"
   ]
  },
  {
   "cell_type": "code",
   "execution_count": null,
   "id": "fde23476-8180-4424-b3b5-bec72f306068",
   "metadata": {},
   "outputs": [],
   "source": [
    "one = _conf.tab"
   ]
  },
  {
   "cell_type": "markdown",
   "id": "899aebbe-1e5e-4204-b122-e0e6b1f3ea54",
   "metadata": {},
   "source": [
    "### LOF$\\star$"
   ]
  },
  {
   "cell_type": "markdown",
   "id": "e3c8ac48-4223-4643-9bc2-f67c518b21f5",
   "metadata": {},
   "source": [
    "<span style=\"color:red\">  1. random.seed 지정했는가? O </span>\n",
    "\n",
    "<span style=\"color:red\">  2. contamination 지정했는가? O </span>\n",
    "\n",
    "<span style=\"color:red\">  3. Iteration 지정할 수 있는가? X </span>"
   ]
  },
  {
   "cell_type": "code",
   "execution_count": null,
   "id": "12377f40-3a51-43e0-a29e-590623436746",
   "metadata": {},
   "outputs": [],
   "source": [
    "np.random.seed(77)\n",
    "clf = LocalOutlierFactor(contamination=0.05)"
   ]
  },
  {
   "cell_type": "code",
   "execution_count": null,
   "id": "186c8c2b-e7a8-4fee-8454-3c93242a35db",
   "metadata": {},
   "outputs": [],
   "source": [
    "_conf = Conf_matrx(outlier_true_one,clf.fit_predict(X),tab_orbit)"
   ]
  },
  {
   "cell_type": "code",
   "execution_count": null,
   "id": "9850dc82-ff5a-4999-b13a-881f27ade039",
   "metadata": {},
   "outputs": [],
   "source": [
    "_conf.conf(\"LOF (Breunig et al., 2000)\")"
   ]
  },
  {
   "cell_type": "code",
   "execution_count": null,
   "id": "0199bf2a-ae7c-4b28-89b3-73d3ebf9432f",
   "metadata": {},
   "outputs": [],
   "source": [
    "two = one.append(_conf.tab)"
   ]
  },
  {
   "cell_type": "code",
   "execution_count": null,
   "id": "05eff86f-3c14-47c6-a0fe-5b0401a6902f",
   "metadata": {},
   "outputs": [],
   "source": [
    "two"
   ]
  },
  {
   "cell_type": "markdown",
   "id": "2c3d9087-eaac-4d55-ae9f-4263a655520e",
   "metadata": {},
   "source": [
    "### KNN"
   ]
  },
  {
   "cell_type": "markdown",
   "id": "a784f266-a11f-411d-aef1-86ab6fe84ec5",
   "metadata": {},
   "source": [
    "<span style=\"color:red\">  1. random.seed 지정했는가? O </span>\n",
    "\n",
    "<span style=\"color:red\">  2. contamination 지정했는가? O </span>\n",
    "\n",
    "<span style=\"color:red\">  3. Iteration 지정할 수 있는가? X </span>"
   ]
  },
  {
   "cell_type": "code",
   "execution_count": null,
   "id": "f71aa118-032d-4372-8f1d-c6b9970a4bce",
   "metadata": {
    "tags": []
   },
   "outputs": [],
   "source": [
    "np.random.seed(77)\n",
    "clf = KNN(contamination=0.05)\n",
    "clf.fit(_df[['x', 'y','f']])\n",
    "_df['knn_clf'] = clf.labels_"
   ]
  },
  {
   "cell_type": "code",
   "execution_count": null,
   "id": "1e1c46cc-46b1-48b6-bcb6-9ddf940cc7c1",
   "metadata": {},
   "outputs": [],
   "source": [
    "outlier_KNN_one = list(clf.labels_)"
   ]
  },
  {
   "cell_type": "code",
   "execution_count": null,
   "id": "bd687849-666b-4755-8aef-69695d3c5866",
   "metadata": {},
   "outputs": [],
   "source": [
    "outlier_KNN_one = list(map(lambda x: 1 if x==0  else -1,outlier_KNN_one))"
   ]
  },
  {
   "cell_type": "code",
   "execution_count": null,
   "id": "8fbdc407-4c81-4c9b-946f-087e7a47e43b",
   "metadata": {},
   "outputs": [],
   "source": [
    "_conf = Conf_matrx(outlier_true_one,outlier_KNN_one,tab_orbit)"
   ]
  },
  {
   "cell_type": "code",
   "execution_count": null,
   "id": "e5a301b2-5883-47d0-a6b2-dc3ac8dfe49f",
   "metadata": {},
   "outputs": [],
   "source": [
    "_conf.conf(\"kNN (Ramaswamy et al., 2000)\")"
   ]
  },
  {
   "cell_type": "code",
   "execution_count": null,
   "id": "cb846126-3f1c-4e2b-b367-8aad708d5827",
   "metadata": {},
   "outputs": [],
   "source": [
    "three = two.append(_conf.tab)"
   ]
  },
  {
   "cell_type": "code",
   "execution_count": null,
   "id": "864fbe51-205d-4803-9786-ef91ba6013d5",
   "metadata": {},
   "outputs": [],
   "source": [
    "three"
   ]
  },
  {
   "cell_type": "code",
   "execution_count": null,
   "id": "81c17747-217d-435b-be5a-9bd6ccf5d99f",
   "metadata": {
    "tags": []
   },
   "outputs": [],
   "source": [
    "clf = KNN(contamination=0.05)\n",
    "clf.fit(_df[['x', 'y','f']])\n",
    "_df['knn_clf'] = clf.labels_"
   ]
  },
  {
   "cell_type": "code",
   "execution_count": null,
   "id": "5071fef5-6c3c-4baf-967f-9d3bc37fe148",
   "metadata": {},
   "outputs": [],
   "source": [
    "outlier_KNN_one = list(clf.labels_)"
   ]
  },
  {
   "cell_type": "code",
   "execution_count": null,
   "id": "6fa0f9db-602b-4ee4-9261-1bf99b73ee52",
   "metadata": {},
   "outputs": [],
   "source": [
    "outlier_KNN_one = list(map(lambda x: 1 if x==0  else -1,outlier_KNN_one))"
   ]
  },
  {
   "cell_type": "code",
   "execution_count": null,
   "id": "c0251ac2-0830-4684-9b3b-930daeb24b9a",
   "metadata": {},
   "outputs": [],
   "source": [
    "_conf = Conf_matrx(outlier_true_one,outlier_KNN_one,tab_orbit)"
   ]
  },
  {
   "cell_type": "code",
   "execution_count": null,
   "id": "26495208-97ef-420b-b65a-2351814723d5",
   "metadata": {},
   "outputs": [],
   "source": [
    "_conf.conf(\"kNN (Ramaswamy et al., 2000)\")"
   ]
  },
  {
   "cell_type": "markdown",
   "id": "20115517-e374-4b78-9600-0c3650f57917",
   "metadata": {},
   "source": [
    "### CBLOF"
   ]
  },
  {
   "cell_type": "markdown",
   "id": "01932285-390a-425b-b6ee-4706cdf9d3f7",
   "metadata": {},
   "source": [
    "<span style=\"color:red\">  1. random.seed 지정했는가? O </span>\n",
    "\n",
    "<span style=\"color:red\">  2. contamination 지정했는가? O </span>\n",
    "\n",
    "<span style=\"color:red\">  3. Iteration 지정할 수 있는가? X </span>"
   ]
  },
  {
   "cell_type": "code",
   "execution_count": null,
   "id": "9c89fbe5-0f4f-4003-b7ae-530469c85fc5",
   "metadata": {},
   "outputs": [],
   "source": [
    "import pickle"
   ]
  },
  {
   "cell_type": "code",
   "execution_count": null,
   "id": "1b32de36-142f-40a2-aab8-da5478218184",
   "metadata": {},
   "outputs": [],
   "source": [
    "_df = load_data('Orbit.pkl')"
   ]
  },
  {
   "cell_type": "code",
   "execution_count": null,
   "id": "de267107-c7ca-4b1b-8b9f-d89f290084e9",
   "metadata": {},
   "outputs": [],
   "source": [
    "outlier_true_one = pd.read_csv('orbit_outlier.csv').iloc[:,1].tolist()"
   ]
  },
  {
   "cell_type": "code",
   "execution_count": null,
   "id": "da9bc1df-30fc-4649-a640-59a3d14c2ae9",
   "metadata": {},
   "outputs": [],
   "source": [
    "clf = CBLOF(contamination=0.05,check_estimator=False, random_state=77)\n",
    "clf.fit(_df[['x', 'y','f']])\n",
    "_df['CBLOF_Clf'] = clf.labels_"
   ]
  },
  {
   "cell_type": "code",
   "execution_count": null,
   "id": "62472305-4ac9-48ab-8d79-9071fa3879ac",
   "metadata": {},
   "outputs": [],
   "source": [
    "clf = CBLOF(contamination=0.05,check_estimator=False, random_state=77)\n",
    "clf.fit(_df[['x', 'y','f']])\n",
    "_df['CBLOF_Clf'] = clf.labels_\n",
    "\n",
    "outlier_CBLOF_one = list(clf.labels_)\n",
    "\n",
    "outlier_CBLOF_one = list(map(lambda x: 1 if x==0  else -1,outlier_CBLOF_one))\n",
    "\n",
    "_conf = Conf_matrx(outlier_true_one,outlier_CBLOF_one,tab_orbit)\n",
    "\n",
    "_conf.conf(\"CBLOF (He et al., 2003)\")\n",
    "\n",
    "# four = three.append(_conf.tab)"
   ]
  },
  {
   "cell_type": "markdown",
   "id": "c916b3ff-3b2a-4adf-85a5-fe27c2a3df76",
   "metadata": {},
   "source": [
    "- Accuracy: 0.916\n",
    "- Precision: 0.956\n",
    "- Recall: 0.956\n",
    "- F1 Score: 0.956"
   ]
  },
  {
   "cell_type": "markdown",
   "id": "da01206e-813e-4627-9525-2d2dab0c02d7",
   "metadata": {},
   "source": [
    "### OCSVM"
   ]
  },
  {
   "cell_type": "markdown",
   "id": "cce3d8f4-ee4b-421a-985f-cc19c894328d",
   "metadata": {},
   "source": [
    "<span style=\"color:red\">  1. random.seed 지정했는가? O </span>\n",
    "\n",
    "<span style=\"color:red\">  2. contamination 지정했는가? O, nu </span>\n",
    "\n",
    "<span style=\"color:red\">  3. Iteration 지정할 수 있는가? X </span>"
   ]
  },
  {
   "cell_type": "markdown",
   "id": "4d81df42-bb18-46c4-adfc-07ccfc43ff48",
   "metadata": {},
   "source": [
    "`nu`\n",
    "\n",
    "- float, default=0.5\n",
    "- An upper bound on the fraction of training errors and a lower bound of the fraction of support vectors. Should be in the interval (0, 1]. By default 0.5 will be taken.\n",
    "\n"
   ]
  },
  {
   "cell_type": "code",
   "execution_count": null,
   "id": "14b23a33-1e1d-43c3-8091-1f71e0318b85",
   "metadata": {},
   "outputs": [],
   "source": [
    "np.random.seed(77)\n",
    "clf = svm.OneClassSVM(nu=0.05)"
   ]
  },
  {
   "cell_type": "code",
   "execution_count": null,
   "id": "95ca92ce-5af0-4878-af44-d2fad4a10e32",
   "metadata": {},
   "outputs": [],
   "source": [
    "clf.fit(X)"
   ]
  },
  {
   "cell_type": "code",
   "execution_count": null,
   "id": "dc5ff2fc-8e7c-499b-a245-1c9d6abee8e8",
   "metadata": {},
   "outputs": [],
   "source": [
    "outlier_OSVM_one = list(clf.predict(X))"
   ]
  },
  {
   "cell_type": "code",
   "execution_count": null,
   "id": "b06dcfef-bf08-4a51-bdda-cd1a10b2f5cf",
   "metadata": {},
   "outputs": [],
   "source": [
    "_conf = Conf_matrx(outlier_true_one,outlier_OSVM_one,tab_orbit)"
   ]
  },
  {
   "cell_type": "code",
   "execution_count": null,
   "id": "045fe8fa-9e0d-4d54-8883-537a4d1f09b1",
   "metadata": {},
   "outputs": [],
   "source": [
    "_conf.conf(\"OCSVM (Sch ̈olkopf et al., 2001)\")"
   ]
  },
  {
   "cell_type": "code",
   "execution_count": null,
   "id": "ec716e6c-db7a-4e0d-a441-33836e393fdd",
   "metadata": {},
   "outputs": [],
   "source": [
    "five = three.append(_conf.tab)"
   ]
  },
  {
   "cell_type": "code",
   "execution_count": null,
   "id": "562a5eab-590e-4d2e-accf-b10b6fa79de2",
   "metadata": {},
   "outputs": [],
   "source": [
    "five"
   ]
  },
  {
   "cell_type": "code",
   "execution_count": null,
   "id": "f778c346-2c40-473b-a1da-01d5f79b07e3",
   "metadata": {},
   "outputs": [],
   "source": [
    "clf = svm.OneClassSVM(nu=0.05, kernel=\"rbf\")"
   ]
  },
  {
   "cell_type": "code",
   "execution_count": null,
   "id": "8bbfa850-e3e3-49c3-a4c2-34411a71b903",
   "metadata": {},
   "outputs": [],
   "source": [
    "clf.fit(X)"
   ]
  },
  {
   "cell_type": "code",
   "execution_count": null,
   "id": "87a483d1-6d5e-44dc-844a-e247b3fe54e6",
   "metadata": {},
   "outputs": [],
   "source": [
    "outlier_OSVM_one = list(clf.predict(X))"
   ]
  },
  {
   "cell_type": "code",
   "execution_count": null,
   "id": "ddb9abfb-f501-47bf-8e84-c1e13474b151",
   "metadata": {},
   "outputs": [],
   "source": [
    "_conf = Conf_matrx(outlier_true_one,outlier_OSVM_one,tab_orbit)"
   ]
  },
  {
   "cell_type": "code",
   "execution_count": null,
   "id": "4e39fea2-f009-4d0c-af10-f22ad2666985",
   "metadata": {},
   "outputs": [],
   "source": [
    "_conf.conf(\"OCSVM (Sch ̈olkopf et al., 2001)\")"
   ]
  },
  {
   "cell_type": "markdown",
   "id": "37ca4fb9-1f1d-4f23-ae0e-37254504a65b",
   "metadata": {},
   "source": [
    "### MCD$\\star$"
   ]
  },
  {
   "cell_type": "markdown",
   "id": "e749e63c-b288-4acf-8dcd-64657c592493",
   "metadata": {},
   "source": [
    "<span style=\"color:red\">  1. random.seed 지정했는가? O, random_state </span>\n",
    "\n",
    "<span style=\"color:red\">  2. contamination 지정했는가? O </span>\n",
    "\n",
    "<span style=\"color:red\">  3. Iteration 지정할 수 있는가? X </span>"
   ]
  },
  {
   "cell_type": "code",
   "execution_count": null,
   "id": "53cc633b-e6ca-4dc0-8bcc-a9b6f06adc6f",
   "metadata": {
    "scrolled": true,
    "tags": []
   },
   "outputs": [],
   "source": [
    "clf = MCD(contamination=0.05 , random_state = 77)\n",
    "clf.fit(_df[['x', 'y','f']])\n",
    "_df['MCD_clf'] = clf.labels_"
   ]
  },
  {
   "cell_type": "code",
   "execution_count": null,
   "id": "bcd938bc-7c0e-4499-a6f4-3c8214da5575",
   "metadata": {},
   "outputs": [],
   "source": [
    "outlier_MCD_one = list(clf.labels_)"
   ]
  },
  {
   "cell_type": "code",
   "execution_count": null,
   "id": "b4a4b5b0-42f8-4a4e-b660-b300927eb81f",
   "metadata": {},
   "outputs": [],
   "source": [
    "outlier_MCD_one = list(map(lambda x: 1 if x==0  else -1,outlier_MCD_one))"
   ]
  },
  {
   "cell_type": "code",
   "execution_count": null,
   "id": "a459eaab-8873-4f2f-a09a-56f9e8c5f410",
   "metadata": {},
   "outputs": [],
   "source": [
    "_conf = Conf_matrx(outlier_true_one,outlier_MCD_one,tab_orbit)"
   ]
  },
  {
   "cell_type": "code",
   "execution_count": null,
   "id": "7e930280-027d-4b1c-aaae-f5002ca10749",
   "metadata": {},
   "outputs": [],
   "source": [
    "_conf.conf(\"MCD (Hardin and Rocke, 2004)\")"
   ]
  },
  {
   "cell_type": "code",
   "execution_count": null,
   "id": "d4dd7b34-e9b5-4c49-b139-50cef0ff0e5c",
   "metadata": {},
   "outputs": [],
   "source": [
    "six = five.append(_conf.tab)"
   ]
  },
  {
   "cell_type": "code",
   "execution_count": null,
   "id": "586068e1-7ba6-48b6-8d66-d8249aae0668",
   "metadata": {},
   "outputs": [],
   "source": [
    "six"
   ]
  },
  {
   "cell_type": "markdown",
   "id": "5e502b47-d890-4e0a-9309-fb285cb40007",
   "metadata": {},
   "source": [
    "### Feature Bagging$\\star$"
   ]
  },
  {
   "cell_type": "markdown",
   "id": "c57968c5-bb3b-4454-83f5-8450f98bcdda",
   "metadata": {},
   "source": [
    "<span style=\"color:red\">  1. random.seed 지정했는가? O, random_state </span>\n",
    "\n",
    "<span style=\"color:red\">  2. contamination 지정했는가? O </span>\n",
    "\n",
    "<span style=\"color:red\">  3. Iteration 지정할 수 있는가? X </span>"
   ]
  },
  {
   "cell_type": "code",
   "execution_count": null,
   "id": "bd85c63c-6ef6-4aa6-9e08-70f3481e5db0",
   "metadata": {
    "scrolled": true,
    "tags": []
   },
   "outputs": [],
   "source": [
    "clf = FeatureBagging(contamination=0.05, random_state=77)\n",
    "clf.fit(_df[['x', 'y','f']])\n",
    "_df['FeatureBagging_clf'] = clf.labels_"
   ]
  },
  {
   "cell_type": "code",
   "execution_count": null,
   "id": "a726f1d3-920c-4bb8-bd93-1aff062dd9a5",
   "metadata": {},
   "outputs": [],
   "source": [
    "outlier_FeatureBagging_one = list(clf.labels_)"
   ]
  },
  {
   "cell_type": "code",
   "execution_count": null,
   "id": "73a3b889-2091-4d2c-9b34-90cb1650f42f",
   "metadata": {},
   "outputs": [],
   "source": [
    "outlier_FeatureBagging_one = list(map(lambda x: 1 if x==0  else -1,outlier_FeatureBagging_one))"
   ]
  },
  {
   "cell_type": "code",
   "execution_count": null,
   "id": "5c600842-003a-4e91-b27b-12ee3792e2ff",
   "metadata": {},
   "outputs": [],
   "source": [
    "_conf = Conf_matrx(outlier_true_one,outlier_FeatureBagging_one,tab_orbit)"
   ]
  },
  {
   "cell_type": "code",
   "execution_count": null,
   "id": "ace3a587-b15d-4ddd-a826-fc1aa5b32d19",
   "metadata": {},
   "outputs": [],
   "source": [
    "_conf.conf(\"Feature Bagging (Lazarevic and Kumar, 2005)\")"
   ]
  },
  {
   "cell_type": "code",
   "execution_count": null,
   "id": "ab454db9-f894-4603-90ba-001ad2f2478b",
   "metadata": {},
   "outputs": [],
   "source": [
    "seven = six.append(_conf.tab)"
   ]
  },
  {
   "cell_type": "code",
   "execution_count": null,
   "id": "9d9c001a-33e0-43f2-bd0e-6eb021428faf",
   "metadata": {},
   "outputs": [],
   "source": [
    "seven"
   ]
  },
  {
   "cell_type": "markdown",
   "id": "849e1a3f-e44f-4713-a245-e9d5d257b8fd",
   "metadata": {
    "tags": []
   },
   "source": [
    "### ABOD$\\star$"
   ]
  },
  {
   "cell_type": "markdown",
   "id": "c8956edb-a966-49e7-aa44-9c11cbbb21dc",
   "metadata": {},
   "source": [
    "<span style=\"color:red\">  1. random.seed 지정했는가? O </span>\n",
    "\n",
    "<span style=\"color:red\">  2. contamination 지정했는가? O </span>\n",
    "\n",
    "<span style=\"color:red\">  3. Iteration 지정할 수 있는가? X </span>"
   ]
  },
  {
   "cell_type": "code",
   "execution_count": null,
   "id": "c5bdf15b-597c-4fb5-aaf0-6c833bd87266",
   "metadata": {},
   "outputs": [],
   "source": [
    "np.random.seed(77)\n",
    "clf = ABOD(contamination=0.05)\n",
    "clf.fit(_df[['x', 'y','f']])\n",
    "_df['ABOD_Clf'] = clf.labels_"
   ]
  },
  {
   "cell_type": "code",
   "execution_count": null,
   "id": "3bd7e84f-771a-4fef-b561-1878765c34f9",
   "metadata": {},
   "outputs": [],
   "source": [
    "outlier_ABOD_one = list(clf.labels_)"
   ]
  },
  {
   "cell_type": "code",
   "execution_count": null,
   "id": "524750aa-1413-4178-809a-4492cc1afafb",
   "metadata": {},
   "outputs": [],
   "source": [
    "outlier_ABOD_one = list(map(lambda x: 1 if x==0  else -1,outlier_ABOD_one))"
   ]
  },
  {
   "cell_type": "code",
   "execution_count": null,
   "id": "cc107a56-e734-4f2d-9a82-f10894fd89a5",
   "metadata": {},
   "outputs": [],
   "source": [
    "_conf = Conf_matrx(outlier_true_one,outlier_ABOD_one,tab_orbit)"
   ]
  },
  {
   "cell_type": "code",
   "execution_count": null,
   "id": "c253da3c-3cdf-45db-be17-d2f5c19057cd",
   "metadata": {},
   "outputs": [],
   "source": [
    "_conf.conf(\"ABOD (Kriegel et al., 2008)\")"
   ]
  },
  {
   "cell_type": "code",
   "execution_count": null,
   "id": "79091c09-ad9e-44ed-a9bb-e82afa419d9f",
   "metadata": {},
   "outputs": [],
   "source": [
    "eight = seven.append(_conf.tab)"
   ]
  },
  {
   "cell_type": "code",
   "execution_count": null,
   "id": "bce5a043-1083-4154-8fcb-aa4043354103",
   "metadata": {},
   "outputs": [],
   "source": [
    "eight"
   ]
  },
  {
   "cell_type": "markdown",
   "id": "4edc7d37-dc5a-4c59-a281-42560050724e",
   "metadata": {},
   "source": [
    "### IForest$\\star$"
   ]
  },
  {
   "cell_type": "markdown",
   "id": "e3b7f5b9-4d4b-424b-a593-8c069d63e67d",
   "metadata": {},
   "source": [
    "<span style=\"color:red\">  1. random.seed 지정했는가? O </span>\n",
    "\n",
    "<span style=\"color:red\">  2. contamination 지정했는가? X,할 수 없음 </span>\n",
    "\n",
    "<span style=\"color:red\">  3. Iteration 지정할 수 있는가? X </span>"
   ]
  },
  {
   "cell_type": "code",
   "execution_count": null,
   "id": "077d39f8-8b2e-472b-aa0b-6e05badb7021",
   "metadata": {},
   "outputs": [],
   "source": [
    "np.random.seed(77)\n",
    "od = IForest(\n",
    "    threshold=0.\n",
    ")"
   ]
  },
  {
   "cell_type": "code",
   "execution_count": null,
   "id": "4dfc599f-6e3e-4ec3-9d5b-c3c829e17407",
   "metadata": {},
   "outputs": [],
   "source": [
    "od.fit(_df[['x', 'y','f']])"
   ]
  },
  {
   "cell_type": "code",
   "execution_count": null,
   "id": "770e9351-cd55-48bb-b071-57f899a91542",
   "metadata": {},
   "outputs": [],
   "source": [
    "preds = od.predict(\n",
    "    _df[['x', 'y','f']],\n",
    "    return_instance_score=True\n",
    ")"
   ]
  },
  {
   "cell_type": "code",
   "execution_count": null,
   "id": "da9b2ec8-d952-4eb0-8e46-a2bd92afd05c",
   "metadata": {},
   "outputs": [],
   "source": [
    "_df['IF_alibi'] = preds['data']['is_outlier']"
   ]
  },
  {
   "cell_type": "code",
   "execution_count": null,
   "id": "e1993201-f06b-4389-a8be-cc78d3c1a3cf",
   "metadata": {},
   "outputs": [],
   "source": [
    "outlier_alibi_one = _df['IF_alibi']"
   ]
  },
  {
   "cell_type": "code",
   "execution_count": null,
   "id": "0c726c96-6fbc-46e1-81d2-59df41a0e7fc",
   "metadata": {},
   "outputs": [],
   "source": [
    "outlier_alibi_one = list(map(lambda x: 1 if x==0  else -1,outlier_alibi_one))"
   ]
  },
  {
   "cell_type": "code",
   "execution_count": null,
   "id": "acc010b6-e817-43dc-b3eb-17a26dc83cc9",
   "metadata": {},
   "outputs": [],
   "source": [
    "_conf = Conf_matrx(outlier_true_one,outlier_alibi_one,tab_orbit)"
   ]
  },
  {
   "cell_type": "code",
   "execution_count": null,
   "id": "07b00e57-350f-4f93-9652-f809d6906a3a",
   "metadata": {},
   "outputs": [],
   "source": [
    "_conf.conf(\"Isolation Forest (Liu et al., 2008)\")"
   ]
  },
  {
   "cell_type": "code",
   "execution_count": null,
   "id": "3eddb2a6-9437-4187-b433-3aeefcb7ed57",
   "metadata": {},
   "outputs": [],
   "source": [
    "nine = eight.append(_conf.tab)"
   ]
  },
  {
   "cell_type": "code",
   "execution_count": null,
   "id": "43061def-be69-4c2e-a152-94ce7111adc3",
   "metadata": {},
   "outputs": [],
   "source": [
    "nine"
   ]
  },
  {
   "cell_type": "markdown",
   "id": "9ccc5229-e9c0-4251-a772-80583903981f",
   "metadata": {},
   "source": [
    "### HBOS$\\star$"
   ]
  },
  {
   "cell_type": "markdown",
   "id": "9b9cc93b-80f1-419e-8edc-09b245743fcc",
   "metadata": {},
   "source": [
    "<span style=\"color:red\">  1. random.seed 지정했는가? O </span>\n",
    "\n",
    "<span style=\"color:red\">  2. contamination 지정했는가? O </span>\n",
    "\n",
    "<span style=\"color:red\">  3. Iteration 지정할 수 있는가? X </span>"
   ]
  },
  {
   "cell_type": "code",
   "execution_count": null,
   "id": "9aa34dc5-2b99-40a9-8b2b-c099eec1a60b",
   "metadata": {},
   "outputs": [],
   "source": [
    "np.random.seed(77)\n",
    "clf = HBOS(contamination=0.05)\n",
    "clf.fit(_df[['x', 'y','f']])\n",
    "_df['HBOS_clf'] = clf.labels_"
   ]
  },
  {
   "cell_type": "code",
   "execution_count": null,
   "id": "030f3caa-fd90-487f-bc66-75757943ac60",
   "metadata": {},
   "outputs": [],
   "source": [
    "outlier_HBOS_one = list(clf.labels_)"
   ]
  },
  {
   "cell_type": "code",
   "execution_count": null,
   "id": "f427f0e1-cc6c-4315-87bf-369d25c10932",
   "metadata": {},
   "outputs": [],
   "source": [
    "outlier_HBOS_one = list(map(lambda x: 1 if x==0  else -1,outlier_HBOS_one))"
   ]
  },
  {
   "cell_type": "code",
   "execution_count": null,
   "id": "70ceff0e-4e36-4590-996b-9dda2a9c834d",
   "metadata": {},
   "outputs": [],
   "source": [
    "_conf = Conf_matrx(outlier_true_one,outlier_HBOS_one,tab_orbit)"
   ]
  },
  {
   "cell_type": "code",
   "execution_count": null,
   "id": "bf019ea9-ad6f-4993-851c-b7a80683a2df",
   "metadata": {},
   "outputs": [],
   "source": [
    "_conf.conf(\"HBOS (Goldstein and Dengel, 2012)\")"
   ]
  },
  {
   "cell_type": "code",
   "execution_count": null,
   "id": "2a9914e9-c586-4749-a73b-2919c841bcc2",
   "metadata": {},
   "outputs": [],
   "source": [
    "ten = nine.append(_conf.tab)"
   ]
  },
  {
   "cell_type": "code",
   "execution_count": null,
   "id": "b1b665b9-8f90-4d60-8acb-622a71af82ab",
   "metadata": {},
   "outputs": [],
   "source": [
    "ten"
   ]
  },
  {
   "cell_type": "markdown",
   "id": "5ccb6582-ef99-43f5-987a-766d668009bc",
   "metadata": {},
   "source": [
    "### SOS$\\star$"
   ]
  },
  {
   "cell_type": "markdown",
   "id": "c2490f7f-2d21-4106-b16a-7223b2790a91",
   "metadata": {},
   "source": [
    "<span style=\"color:red\">  1. random.seed 지정했는가? O </span>\n",
    "\n",
    "<span style=\"color:red\">  2. contamination 지정했는가? O </span>\n",
    "\n",
    "<span style=\"color:red\">  3. Iteration 지정할 수 있는가? X </span>"
   ]
  },
  {
   "cell_type": "code",
   "execution_count": null,
   "id": "cbb972a5-d763-45d6-a70e-a6b2b5865bb6",
   "metadata": {},
   "outputs": [],
   "source": [
    "np.random.seed(77)\n",
    "clf = SOS(contamination=0.05)\n",
    "clf.fit(_df[['x', 'y','f']])\n",
    "_df['SOS_clf'] = clf.labels_"
   ]
  },
  {
   "cell_type": "code",
   "execution_count": null,
   "id": "d663fd08-5b3d-4e6c-ab2a-ac9f15cfcda5",
   "metadata": {},
   "outputs": [],
   "source": [
    "outlier_SOS_one = list(clf.labels_)"
   ]
  },
  {
   "cell_type": "code",
   "execution_count": null,
   "id": "ffe47d4c-2ee7-4b5a-95b2-5308a121ad58",
   "metadata": {},
   "outputs": [],
   "source": [
    "outlier_SOS_one = list(map(lambda x: 1 if x==0  else -1,outlier_SOS_one))"
   ]
  },
  {
   "cell_type": "code",
   "execution_count": null,
   "id": "41c63cd6-cc2d-42b8-b340-1de3d7ce0fef",
   "metadata": {},
   "outputs": [],
   "source": [
    "_conf = Conf_matrx(outlier_true_one,outlier_SOS_one,tab_orbit)"
   ]
  },
  {
   "cell_type": "code",
   "execution_count": null,
   "id": "c10ea94c-56a0-4f8a-a4e0-afa9b21a0b41",
   "metadata": {},
   "outputs": [],
   "source": [
    "_conf.conf(\"SOS (Janssens et al., 2012)\")"
   ]
  },
  {
   "cell_type": "code",
   "execution_count": null,
   "id": "ad063163-c8da-4cee-9d19-f9897be12896",
   "metadata": {},
   "outputs": [],
   "source": [
    "eleven = ten.append(_conf.tab)"
   ]
  },
  {
   "cell_type": "code",
   "execution_count": null,
   "id": "eaeca28d-84b9-4709-b073-a63a48a519bd",
   "metadata": {},
   "outputs": [],
   "source": [
    "eleven"
   ]
  },
  {
   "cell_type": "markdown",
   "id": "b9c4c1ff-652b-4ca8-bda5-360c281af2e9",
   "metadata": {
    "tags": []
   },
   "source": [
    "### SO_GAAL$\\star$"
   ]
  },
  {
   "cell_type": "markdown",
   "id": "2ffdb79c-87fd-4812-8992-6822a93f022b",
   "metadata": {},
   "source": [
    "<span style=\"color:red\">  1. random.seed 지정했는가? O </span>\n",
    "\n",
    "<span style=\"color:red\">  2. contamination 지정했는가? O </span>\n",
    "\n",
    "<span style=\"color:red\">  3. Iteration 지정할 수 있는가? X </span>"
   ]
  },
  {
   "cell_type": "code",
   "execution_count": null,
   "id": "7c6036be-ed6b-4162-ba2d-02c6a956394b",
   "metadata": {
    "scrolled": true,
    "tags": []
   },
   "outputs": [],
   "source": [
    "np.random.seed(77)\n",
    "clf = SO_GAAL(contamination=0.05)\n",
    "clf.fit(_df[['x', 'y','f']])\n",
    "_df['SO_GAAL_clf'] = clf.labels_"
   ]
  },
  {
   "cell_type": "code",
   "execution_count": null,
   "id": "f0eea7c8-4808-456b-8d5e-2ec504abb94c",
   "metadata": {},
   "outputs": [],
   "source": [
    "outlier_SO_GAAL_one = list(clf.labels_)"
   ]
  },
  {
   "cell_type": "code",
   "execution_count": null,
   "id": "0a0a0e1a-c30a-4d94-b758-c7d7821abb0f",
   "metadata": {},
   "outputs": [],
   "source": [
    "outlier_SO_GAAL_one = list(map(lambda x: 1 if x==0  else -1,outlier_SO_GAAL_one))"
   ]
  },
  {
   "cell_type": "code",
   "execution_count": null,
   "id": "7b8ebf0e-0a69-4684-896c-c39b873a6350",
   "metadata": {},
   "outputs": [],
   "source": [
    "_conf = Conf_matrx(outlier_true_one,outlier_SO_GAAL_one,tab_orbit)"
   ]
  },
  {
   "cell_type": "code",
   "execution_count": null,
   "id": "cd41ad40-82eb-4f90-8435-655bc878f489",
   "metadata": {},
   "outputs": [],
   "source": [
    "_conf.conf(\"SO-GAAL (Liu et al., 2019)\")"
   ]
  },
  {
   "cell_type": "code",
   "execution_count": null,
   "id": "10c8c438-18f9-4086-b5db-58b286cac0bd",
   "metadata": {},
   "outputs": [],
   "source": [
    "twelve = eleven.append(_conf.tab)"
   ]
  },
  {
   "cell_type": "code",
   "execution_count": null,
   "id": "25268ccb-4476-4368-bdb9-0c320a9e5a53",
   "metadata": {},
   "outputs": [],
   "source": [
    "twelve"
   ]
  },
  {
   "cell_type": "markdown",
   "id": "6c0705b4-4304-48b8-89cd-3bb1d69fd6ee",
   "metadata": {
    "tags": []
   },
   "source": [
    "### MO_GAAL$\\star$"
   ]
  },
  {
   "cell_type": "code",
   "execution_count": null,
   "id": "dcbc8402-10f2-45bc-9681-cef54890a997",
   "metadata": {
    "scrolled": true,
    "tags": []
   },
   "outputs": [],
   "source": [
    "np.random.seed(77)\n",
    "clf = MO_GAAL(contamination=0.05)\n",
    "clf.fit(_df[['x', 'y','f']])\n",
    "_df['MO_GAAL_clf'] = clf.labels_"
   ]
  },
  {
   "cell_type": "code",
   "execution_count": null,
   "id": "72483fdf-6840-4cf6-9822-487feeb18144",
   "metadata": {},
   "outputs": [],
   "source": [
    "outlier_MO_GAAL_one = list(clf.labels_)"
   ]
  },
  {
   "cell_type": "code",
   "execution_count": null,
   "id": "ffcadab2-86ee-4f93-b9af-1f7c35486ae9",
   "metadata": {},
   "outputs": [],
   "source": [
    "outlier_MO_GAAL_one = list(map(lambda x: 1 if x==0  else -1,outlier_MO_GAAL_one))"
   ]
  },
  {
   "cell_type": "code",
   "execution_count": null,
   "id": "b2633c01-1b6e-4bce-8896-1d3fcda3dbca",
   "metadata": {},
   "outputs": [],
   "source": [
    "_conf = Conf_matrx(outlier_true_one,outlier_MO_GAAL_one,tab_orbit)"
   ]
  },
  {
   "cell_type": "code",
   "execution_count": null,
   "id": "e4edd0f0-044a-4cf8-975b-cdec5be55862",
   "metadata": {},
   "outputs": [],
   "source": [
    "_conf.conf(\"MO-GAAL (Liu et al., 2019)\")"
   ]
  },
  {
   "cell_type": "code",
   "execution_count": null,
   "id": "4fd8555c-1030-4ca9-8168-2a8559779308",
   "metadata": {},
   "outputs": [],
   "source": [
    "thirteen = twelve.append(_conf.tab)"
   ]
  },
  {
   "cell_type": "code",
   "execution_count": null,
   "id": "0b464fbd-653f-48fc-92db-d476cca8179d",
   "metadata": {},
   "outputs": [],
   "source": [
    "thirteen"
   ]
  },
  {
   "cell_type": "markdown",
   "id": "7df1a4ca-aa4b-4e0b-a884-7f8493ea8276",
   "metadata": {
    "tags": []
   },
   "source": [
    "### LSCP$\\star$"
   ]
  },
  {
   "cell_type": "markdown",
   "id": "446e2ea3-152f-4b54-a40d-ee3c97ae4b63",
   "metadata": {},
   "source": [
    "<span style=\"color:red\">  1. random.seed 지정했는가? O, random_state </span>\n",
    "\n",
    "<span style=\"color:red\">  2. contamination 지정했는가? O </span>\n",
    "\n",
    "<span style=\"color:red\">  3. Iteration 지정할 수 있는가? X </span>"
   ]
  },
  {
   "cell_type": "code",
   "execution_count": null,
   "id": "15095b9e-d7ea-417f-8a87-14757ecb3699",
   "metadata": {},
   "outputs": [],
   "source": [
    "detectors = [KNN(), LOF(), OCSVM()]\n",
    "clf = LSCP(detectors,contamination=0.05, random_state=77)\n",
    "clf.fit(_df[['x', 'y','f']])\n",
    "_df['LSCP_clf'] = clf.labels_"
   ]
  },
  {
   "cell_type": "code",
   "execution_count": null,
   "id": "0d823726-6c89-4165-a180-cc284f2c48e1",
   "metadata": {},
   "outputs": [],
   "source": [
    "outlier_LSCP_one = list(clf.labels_)"
   ]
  },
  {
   "cell_type": "code",
   "execution_count": null,
   "id": "d5d59236-ad68-4abe-a1b6-91ddc62bfa17",
   "metadata": {},
   "outputs": [],
   "source": [
    "outlier_LSCP_one = list(map(lambda x: 1 if x==0  else -1,outlier_LSCP_one))"
   ]
  },
  {
   "cell_type": "code",
   "execution_count": null,
   "id": "da4d4c0c-64c3-45bb-b7fa-5eaa46369d02",
   "metadata": {},
   "outputs": [],
   "source": [
    "_conf = Conf_matrx(outlier_true_one,outlier_LSCP_one,tab_orbit)"
   ]
  },
  {
   "cell_type": "code",
   "execution_count": null,
   "id": "bec6647d-c517-4d62-9d50-fd9fd74912ca",
   "metadata": {},
   "outputs": [],
   "source": [
    "_conf.conf(\"LSCP (Zhao et al., 2019)\")"
   ]
  },
  {
   "cell_type": "code",
   "execution_count": null,
   "id": "1b6ad748-340d-4dc1-9d31-53581fd3c162",
   "metadata": {},
   "outputs": [],
   "source": [
    "fourteen = thirteen.append(_conf.tab)"
   ]
  },
  {
   "cell_type": "code",
   "execution_count": null,
   "id": "d5f58ba6-27b7-4484-8159-a3b0b3be5c34",
   "metadata": {},
   "outputs": [],
   "source": [
    "fourteen"
   ]
  },
  {
   "cell_type": "markdown",
   "id": "d2af3443-5196-4dbf-a2ab-348c054f66ba",
   "metadata": {},
   "source": [
    "## Orbit Result"
   ]
  },
  {
   "cell_type": "code",
   "execution_count": null,
   "id": "ac394b08-c8d5-42dc-8e52-81e713b476fa",
   "metadata": {},
   "outputs": [],
   "source": [
    "round(fourteen,3)"
   ]
  },
  {
   "cell_type": "code",
   "execution_count": null,
   "id": "dcbbf87d-1985-4a79-a48c-4858bd4a7b4e",
   "metadata": {},
   "outputs": [],
   "source": [
    "orbit_rst = fourteen"
   ]
  },
  {
   "cell_type": "markdown",
   "id": "978b8acb-73f6-4a63-82da-1ca28146d7aa",
   "metadata": {},
   "source": [
    "## Bunny"
   ]
  },
  {
   "cell_type": "markdown",
   "id": "a6bc1fdd-ce42-469b-969f-2c86ef3f34d9",
   "metadata": {},
   "source": [
    "---"
   ]
  },
  {
   "cell_type": "markdown",
   "id": "53b9f4de-a73b-4a17-897d-88907fafb3e5",
   "metadata": {},
   "source": [
    "### bunny 저장용"
   ]
  },
  {
   "cell_type": "code",
   "execution_count": null,
   "id": "d13311ab-5a96-4585-ac3e-79720ed5548b",
   "metadata": {},
   "outputs": [],
   "source": [
    "from pygsp import graphs, filters, plotting, utils"
   ]
  },
  {
   "cell_type": "code",
   "execution_count": null,
   "id": "7fdf4bd7-e077-442f-800d-5980ebcb6fd0",
   "metadata": {},
   "outputs": [],
   "source": [
    "def save_data(data_dict,fname):\n",
    "    with open(fname,'wb') as outfile:\n",
    "        pickle.dump(data_dict,outfile)"
   ]
  },
  {
   "cell_type": "code",
   "execution_count": null,
   "id": "3dba4947-bdbe-429c-b00a-a3e5b0eaf79a",
   "metadata": {},
   "outputs": [],
   "source": [
    "import numpy as np"
   ]
  },
  {
   "cell_type": "code",
   "execution_count": null,
   "id": "49bf6104-1809-41e3-8800-47fcb54a6461",
   "metadata": {},
   "outputs": [],
   "source": [
    "G = graphs.Bunny()\n",
    "n = G.N"
   ]
  },
  {
   "cell_type": "code",
   "execution_count": null,
   "id": "85657b04-6741-4217-bd9e-6df2f3cb0e9e",
   "metadata": {},
   "outputs": [],
   "source": [
    "g = filters.Heat(G, tau=75) "
   ]
  },
  {
   "cell_type": "code",
   "execution_count": null,
   "id": "53a206a0-fc08-4621-9cdb-4a62f2514b7e",
   "metadata": {},
   "outputs": [],
   "source": [
    "n=2503"
   ]
  },
  {
   "cell_type": "code",
   "execution_count": null,
   "id": "3e0b1f11-a121-41c7-9fde-0872ee600983",
   "metadata": {},
   "outputs": [],
   "source": [
    "normal = np.random.randn(n)\n",
    "unif = np.concatenate([np.random.uniform(low=3,high=7,size=60), np.random.uniform(low=-7,high=-3,size=60),np.zeros(n-120)]); np.random.shuffle(unif)\n",
    "noise = normal + unif\n",
    "index_of_trueoutlier2 = np.where(unif!=0)"
   ]
  },
  {
   "cell_type": "code",
   "execution_count": null,
   "id": "aa42d5c1-0a67-42ae-8ece-361b6dd03fab",
   "metadata": {},
   "outputs": [],
   "source": [
    "f = np.zeros(n)\n",
    "f[1000] = -3234\n",
    "f = g.filter(f, method='chebyshev') "
   ]
  },
  {
   "cell_type": "code",
   "execution_count": null,
   "id": "a8e671b0-b36d-49a7-9d48-24d42155eb52",
   "metadata": {},
   "outputs": [],
   "source": [
    "G.coords.shape"
   ]
  },
  {
   "cell_type": "code",
   "execution_count": null,
   "id": "a0ece8f8-0c72-47a7-8458-03a69c361af9",
   "metadata": {
    "tags": []
   },
   "outputs": [],
   "source": [
    "_W = G.W.toarray()\n",
    "_x = G.coords[:,0]\n",
    "_y = G.coords[:,1]\n",
    "_z = -G.coords[:,2]"
   ]
  },
  {
   "cell_type": "code",
   "execution_count": null,
   "id": "35bc2079-1f33-4c64-8b79-e590c3d086bc",
   "metadata": {},
   "outputs": [],
   "source": [
    "import pandas as pd"
   ]
  },
  {
   "cell_type": "code",
   "execution_count": null,
   "id": "4387a99f-3d0f-44b3-afb6-7f966322a085",
   "metadata": {},
   "outputs": [],
   "source": [
    "_df = pd.DataFrame({'x':_x,'y':_y,'z':_z})"
   ]
  },
  {
   "cell_type": "code",
   "execution_count": null,
   "id": "5aeef0f4-0d90-4315-a713-f0a836c78b68",
   "metadata": {},
   "outputs": [],
   "source": [
    "import pickle"
   ]
  },
  {
   "cell_type": "code",
   "execution_count": null,
   "id": "616db851-cb98-4698-9396-1dc3c3f81df4",
   "metadata": {},
   "outputs": [],
   "source": [
    "_df = {'W':_W,'x':_x,'y':_y,'z':_z, 'fnoise':f+noise,'f' : f, 'noise': noise,'unif':unif,'index_of_trueoutlier2':index_of_trueoutlier2}"
   ]
  },
  {
   "cell_type": "code",
   "execution_count": null,
   "id": "21342948-f1ce-4fbf-afbc-c5c43d9e900b",
   "metadata": {},
   "outputs": [],
   "source": [
    "save_data(_df,'Bunny.pkl')"
   ]
  },
  {
   "cell_type": "code",
   "execution_count": null,
   "id": "bdb6b5e7-8ee9-47d8-8823-fb9ee6800353",
   "metadata": {},
   "outputs": [],
   "source": [
    "_df"
   ]
  },
  {
   "cell_type": "markdown",
   "id": "8b9978b3-b2e0-4185-bf03-df5c61f16971",
   "metadata": {},
   "source": [
    "---"
   ]
  },
  {
   "cell_type": "code",
   "execution_count": null,
   "id": "99f6ac1a-d20e-46df-af95-2d50f2126ffd",
   "metadata": {},
   "outputs": [],
   "source": [
    "def load_data(fname):\n",
    "    with open(fname, 'rb') as outfile:\n",
    "        data_dict = pickle.load(outfile)\n",
    "    return data_dict"
   ]
  },
  {
   "cell_type": "code",
   "execution_count": null,
   "id": "866e4e3b-ae4f-4a84-a993-aac889ccd507",
   "metadata": {},
   "outputs": [],
   "source": [
    "_df1 = load_data('Bunny.pkl')"
   ]
  },
  {
   "cell_type": "code",
   "execution_count": null,
   "id": "3cf62caa-e458-4d1f-9e9a-97fab84ff6b1",
   "metadata": {},
   "outputs": [],
   "source": [
    "_df = pd.DataFrame({'x': _df1['x'],'y':_df1['y'],'z':_df1['z'],'fnoise':_df1['fnoise'],'f':_df1['f'],'noise':_df1['noise']})"
   ]
  },
  {
   "cell_type": "code",
   "execution_count": null,
   "id": "90c54b8c-653d-4c44-a154-f4930c4286de",
   "metadata": {},
   "outputs": [],
   "source": [
    "unif = _df1['unif']"
   ]
  },
  {
   "cell_type": "code",
   "execution_count": null,
   "id": "3002dc84-c02f-4aa9-a289-3251a66cf767",
   "metadata": {},
   "outputs": [],
   "source": [
    "_df1['index_of_trueoutlier2']"
   ]
  },
  {
   "cell_type": "code",
   "execution_count": null,
   "id": "462a928e-6f2c-4883-81c0-79cc81a98e0f",
   "metadata": {},
   "outputs": [],
   "source": [
    "# _df = pd.DataFrame({'x' : _x, 'y' : _y, 'z' : _z, 'fnoise':f+noise,'f' : f, 'noise': noise})"
   ]
  },
  {
   "cell_type": "code",
   "execution_count": null,
   "id": "edcc5751-f5ab-438d-8eab-e769d8f98424",
   "metadata": {},
   "outputs": [],
   "source": [
    "outlier_true_one_2 = unif.copy()"
   ]
  },
  {
   "cell_type": "code",
   "execution_count": null,
   "id": "d84b0c37-7b6d-4a6f-8f8f-15ac6746d82a",
   "metadata": {},
   "outputs": [],
   "source": [
    "outlier_true_one_2 = list(map(lambda x: -1 if x !=0  else 1,outlier_true_one_2))"
   ]
  },
  {
   "cell_type": "code",
   "execution_count": null,
   "id": "c3ab3425-3bbe-416b-9517-02faea8ec49b",
   "metadata": {},
   "outputs": [],
   "source": [
    "# pd.DataFrame(outlier_true_one_2).to_csv('bunny_outlier.csv')"
   ]
  },
  {
   "cell_type": "code",
   "execution_count": null,
   "id": "58484f48-53fc-4bfe-a363-2226222b30be",
   "metadata": {},
   "outputs": [],
   "source": [
    "X = np.array(_df)[:,:4]"
   ]
  },
  {
   "cell_type": "markdown",
   "id": "f40837a0-5d62-4bcd-a575-383fc813cb13",
   "metadata": {},
   "source": [
    "### GODE"
   ]
  },
  {
   "cell_type": "code",
   "execution_count": null,
   "id": "356dc7bb-1003-4fb1-9ca2-df0ceb8ce18e",
   "metadata": {},
   "outputs": [],
   "source": [
    "_W = _df1['W']"
   ]
  },
  {
   "cell_type": "code",
   "execution_count": null,
   "id": "1c61a42a-2378-4c8b-9a93-c1b53656550c",
   "metadata": {},
   "outputs": [],
   "source": [
    "_BUNNY = BUNNY(_df)"
   ]
  },
  {
   "cell_type": "code",
   "execution_count": null,
   "id": "0f7b7ce9-041c-4572-be2f-30a1594182c1",
   "metadata": {},
   "outputs": [],
   "source": [
    "_BUNNY.fit(sd=20,ref=10)"
   ]
  },
  {
   "cell_type": "code",
   "execution_count": null,
   "id": "fbbcd8c0-c4ac-4982-9ad5-084cdc1e0a59",
   "metadata": {},
   "outputs": [],
   "source": [
    "len(_BUNNY.f)"
   ]
  },
  {
   "cell_type": "code",
   "execution_count": null,
   "id": "207679e3-6f20-49d4-b36f-a59ceaf64967",
   "metadata": {},
   "outputs": [],
   "source": [
    "2503*0.05"
   ]
  },
  {
   "cell_type": "code",
   "execution_count": null,
   "id": "24276e3d-0800-46e5-9567-6d17ed00f0d5",
   "metadata": {},
   "outputs": [],
   "source": [
    "outlier_simul_one = (_BUNNY.df['Residual']**2).tolist()"
   ]
  },
  {
   "cell_type": "code",
   "execution_count": null,
   "id": "ef0e8856-0fac-4b87-a5b7-c43dd1255df0",
   "metadata": {},
   "outputs": [],
   "source": [
    "# outlier_simul_one = list(map(lambda x: -1 if x > 8.7 else 1,outlier_simul_one))"
   ]
  },
  {
   "cell_type": "code",
   "execution_count": null,
   "id": "6a2deeae-d5da-4d56-98e3-b136ef041026",
   "metadata": {},
   "outputs": [],
   "source": [
    "outlier_simul_one = list(map(lambda x: -1 if x > 8.05 else 1,outlier_simul_one))"
   ]
  },
  {
   "cell_type": "code",
   "execution_count": null,
   "id": "d9532b5b-59f2-4454-85a5-56e06aa01b07",
   "metadata": {},
   "outputs": [],
   "source": [
    "outlier_simul_one.count(1)"
   ]
  },
  {
   "cell_type": "code",
   "execution_count": null,
   "id": "51a161c8-d7b9-400f-be1b-9525e475b75b",
   "metadata": {},
   "outputs": [],
   "source": [
    "outlier_simul_one.count(-1)"
   ]
  },
  {
   "cell_type": "code",
   "execution_count": null,
   "id": "4b14ca94-f4d4-4ba9-98fd-08cb1d711ffc",
   "metadata": {},
   "outputs": [],
   "source": [
    "_conf = Conf_matrx(outlier_true_one_2,outlier_simul_one,tab_bunny)"
   ]
  },
  {
   "cell_type": "code",
   "execution_count": null,
   "id": "879123b3-96fd-4801-96d1-58f65ed1c2aa",
   "metadata": {},
   "outputs": [],
   "source": [
    "_conf.conf(\"GODE\")"
   ]
  },
  {
   "cell_type": "code",
   "execution_count": null,
   "id": "fd294420-ea7e-4644-9e02-792b94e824b5",
   "metadata": {},
   "outputs": [],
   "source": [
    "one = _conf.tab"
   ]
  },
  {
   "cell_type": "markdown",
   "id": "8112201a-2479-4552-9943-2ee0d10ec5da",
   "metadata": {},
   "source": [
    "### LOF"
   ]
  },
  {
   "cell_type": "markdown",
   "id": "de0a72d8-ae4e-4aaf-b00f-c5d395c9f48e",
   "metadata": {},
   "source": [
    "<span style=\"color:red\">  1. random.seed 지정했는가? O </span>\n",
    "\n",
    "<span style=\"color:red\">  2. contamination 지정했는가? O </span>\n",
    "\n",
    "<span style=\"color:red\">  3. Iteration 지정할 수 있는가? X </span>"
   ]
  },
  {
   "cell_type": "code",
   "execution_count": null,
   "id": "6ebaa979-a6a5-4791-bdc2-8da2b796107f",
   "metadata": {},
   "outputs": [],
   "source": [
    "np.random.seed(77)\n",
    "clf = LocalOutlierFactor(contamination=0.05)"
   ]
  },
  {
   "cell_type": "code",
   "execution_count": null,
   "id": "a14d512f-0ba1-4611-b902-9208d4981e3a",
   "metadata": {},
   "outputs": [],
   "source": [
    "_conf = Conf_matrx(outlier_true_one_2,clf.fit_predict(X),tab_bunny)"
   ]
  },
  {
   "cell_type": "code",
   "execution_count": null,
   "id": "5f319d00-a9c7-4ff0-a4fa-81f70c3594fc",
   "metadata": {},
   "outputs": [],
   "source": [
    "_conf.conf(\"LOF (Breunig et al., 2000)\")"
   ]
  },
  {
   "cell_type": "code",
   "execution_count": null,
   "id": "9dc634b9-d4c1-4dbd-afd4-d1df5d9bcead",
   "metadata": {},
   "outputs": [],
   "source": [
    "two = one.append(_conf.tab)"
   ]
  },
  {
   "cell_type": "code",
   "execution_count": 2,
   "id": "42fbe183-74d7-41ce-8758-0aa503674139",
   "metadata": {},
   "outputs": [
    {
     "ename": "NameError",
     "evalue": "name 'two' is not defined",
     "output_type": "error",
     "traceback": [
      "\u001b[0;31m---------------------------------------------------------------------------\u001b[0m",
      "\u001b[0;31mNameError\u001b[0m                                 Traceback (most recent call last)",
      "Cell \u001b[0;32mIn[2], line 1\u001b[0m\n\u001b[0;32m----> 1\u001b[0m \u001b[43mtwo\u001b[49m\n",
      "\u001b[0;31mNameError\u001b[0m: name 'two' is not defined"
     ]
    }
   ],
   "source": [
    "two"
   ]
  },
  {
   "cell_type": "markdown",
   "id": "9a8a4a25-0796-456a-a371-9dd908bb3cf2",
   "metadata": {},
   "source": [
    "### KNN"
   ]
  },
  {
   "cell_type": "markdown",
   "id": "4c15cba7-2203-438e-a15e-2e432393ff85",
   "metadata": {},
   "source": [
    "<span style=\"color:red\">  1. random.seed 지정했는가? O </span>\n",
    "\n",
    "<span style=\"color:red\">  2. contamination 지정했는가? O </span>\n",
    "\n",
    "<span style=\"color:red\">  3. Iteration 지정할 수 있는가? X </span>"
   ]
  },
  {
   "cell_type": "code",
   "execution_count": null,
   "id": "ebd94da5-66c7-477e-8269-c61c1b139bdd",
   "metadata": {
    "tags": []
   },
   "outputs": [],
   "source": [
    "np.random.seed(77)\n",
    "clf = KNN(contamination=0.05)\n",
    "clf.fit(_df[['x', 'y','fnoise']])\n",
    "_df['knn_Clf'] = clf.labels_"
   ]
  },
  {
   "cell_type": "code",
   "execution_count": null,
   "id": "ebcb1883-348b-40b8-b534-655018b1b537",
   "metadata": {},
   "outputs": [],
   "source": [
    "outlier_KNN_one = list(clf.labels_)"
   ]
  },
  {
   "cell_type": "code",
   "execution_count": null,
   "id": "d957a8f6-7f3f-4879-957f-2aa2df478972",
   "metadata": {},
   "outputs": [],
   "source": [
    "outlier_KNN_one = list(map(lambda x: 1 if x==0  else -1,outlier_KNN_one))"
   ]
  },
  {
   "cell_type": "code",
   "execution_count": null,
   "id": "bbee32e4-3b9b-441c-ae12-69a9a07e14d5",
   "metadata": {},
   "outputs": [],
   "source": [
    "_conf = Conf_matrx(outlier_true_one_2,outlier_KNN_one,tab_bunny)"
   ]
  },
  {
   "cell_type": "code",
   "execution_count": null,
   "id": "996818d7-ef9e-4fbe-8d84-0c830d347cf4",
   "metadata": {},
   "outputs": [],
   "source": [
    "_conf.conf(\"kNN (Ramaswamy et al., 2000)\")"
   ]
  },
  {
   "cell_type": "code",
   "execution_count": null,
   "id": "9c58d956-d981-4e53-b68d-15461cfa8530",
   "metadata": {},
   "outputs": [],
   "source": [
    "three = two.append(_conf.tab)"
   ]
  },
  {
   "cell_type": "code",
   "execution_count": null,
   "id": "b3554173-170f-438e-9f7d-2c7023e60070",
   "metadata": {},
   "outputs": [],
   "source": [
    "three"
   ]
  },
  {
   "cell_type": "markdown",
   "id": "f9143beb-ba7b-4fad-b39c-6b1de87dcb90",
   "metadata": {},
   "source": [
    "### CBLOF"
   ]
  },
  {
   "cell_type": "markdown",
   "id": "71bfe277-a43a-4f34-9e43-62fd3da4f324",
   "metadata": {},
   "source": [
    "<span style=\"color:red\">  1. random.seed 지정했는가? O </span>\n",
    "\n",
    "<span style=\"color:red\">  2. contamination 지정했는가? O </span>\n",
    "\n",
    "<span style=\"color:red\">  3. Iteration 지정할 수 있는가? X </span>"
   ]
  },
  {
   "cell_type": "code",
   "execution_count": null,
   "id": "9c44344f-c9f7-43a3-b1d5-2ffa4553af04",
   "metadata": {},
   "outputs": [],
   "source": [
    "_df1 = load_data('Bunny.pkl')"
   ]
  },
  {
   "cell_type": "code",
   "execution_count": null,
   "id": "3983b934-32a2-4619-852d-588e5c67e5ec",
   "metadata": {},
   "outputs": [],
   "source": [
    "outlier_true_one_2 = pd.read_csv('bunny_outlier.csv').iloc[:,1].to_list()"
   ]
  },
  {
   "cell_type": "code",
   "execution_count": null,
   "id": "228ba848-c512-412c-89dc-91a211aa4826",
   "metadata": {},
   "outputs": [],
   "source": [
    "_df = pd.DataFrame({'x': _df1['x'],'y':_df1['y'],'z':_df1['z'],'fnoise':_df1['fnoise'],'f':_df1['f'],'noise':_df1['noise']})"
   ]
  },
  {
   "cell_type": "code",
   "execution_count": null,
   "id": "8b00c51e-8a34-4ab8-8706-3d4e44d940cb",
   "metadata": {},
   "outputs": [],
   "source": [
    "clf = CBLOF(contamination=0.05,check_estimator=False, random_state=77)\n",
    "clf.fit(_df[['x', 'y','fnoise']])\n",
    "_df['CBLOF_Clf'] = clf.labels_"
   ]
  },
  {
   "cell_type": "code",
   "execution_count": null,
   "id": "a8fbe55e-6a19-4c03-9775-230053eca6d2",
   "metadata": {},
   "outputs": [],
   "source": [
    "outlier_CBLOF_one = list(clf.labels_)"
   ]
  },
  {
   "cell_type": "code",
   "execution_count": null,
   "id": "5429a0a8-163b-4a78-827e-fd87c67dcd44",
   "metadata": {},
   "outputs": [],
   "source": [
    "outlier_CBLOF_one = list(map(lambda x: 1 if x==0  else -1,outlier_CBLOF_one))"
   ]
  },
  {
   "cell_type": "code",
   "execution_count": null,
   "id": "3848b658-a40e-40dc-a797-bf4c18c6bad3",
   "metadata": {},
   "outputs": [],
   "source": [
    "_conf = Conf_matrx(outlier_true_one_2,outlier_CBLOF_one,tab_bunny)"
   ]
  },
  {
   "cell_type": "code",
   "execution_count": null,
   "id": "2b1041db-84eb-4d99-90d2-6471cc20f266",
   "metadata": {},
   "outputs": [],
   "source": [
    "_conf.conf(\"CBLOF (He et al., 2003)\")"
   ]
  },
  {
   "cell_type": "code",
   "execution_count": null,
   "id": "7e54059b-9766-4ab8-80f7-ea2a795ca81b",
   "metadata": {},
   "outputs": [],
   "source": [
    "# four = three.append(_conf.tab)"
   ]
  },
  {
   "cell_type": "markdown",
   "id": "01c46d99-dae1-471b-ace5-da90c353cc19",
   "metadata": {},
   "source": [
    "- Accuracy: 0.974\n",
    "- Precision: 0.988\n",
    "- Recall: 0.985\n",
    "- F1 Score: 0.987"
   ]
  },
  {
   "cell_type": "markdown",
   "id": "09ed2ef7-2492-449f-a73d-29c89afbb810",
   "metadata": {},
   "source": [
    "### OCSVM"
   ]
  },
  {
   "cell_type": "markdown",
   "id": "a3395ec8-f038-4fd1-ae46-5f40da62edd2",
   "metadata": {},
   "source": [
    "<span style=\"color:red\">  1. random.seed 지정했는가? O </span>\n",
    "\n",
    "<span style=\"color:red\">  2. contamination 지정했는가? O </span>\n",
    "\n",
    "<span style=\"color:red\">  3. Iteration 지정할 수 있는가? X </span>"
   ]
  },
  {
   "cell_type": "code",
   "execution_count": null,
   "id": "7bd8b236-4653-4131-aa04-41111d185483",
   "metadata": {},
   "outputs": [],
   "source": [
    "np.random.seed(77)\n",
    "clf = svm.OneClassSVM(nu=0.05)"
   ]
  },
  {
   "cell_type": "code",
   "execution_count": null,
   "id": "9ce01aaf-fe0e-49ca-b600-5492a7386b11",
   "metadata": {},
   "outputs": [],
   "source": [
    "clf.fit(X)"
   ]
  },
  {
   "cell_type": "code",
   "execution_count": null,
   "id": "a55376ec-404b-476e-9a89-1a028f4d6921",
   "metadata": {},
   "outputs": [],
   "source": [
    "outlier_OSVM_one = list(clf.predict(X))"
   ]
  },
  {
   "cell_type": "code",
   "execution_count": null,
   "id": "73ce90c4-2288-40e9-a7c1-13761112a507",
   "metadata": {},
   "outputs": [],
   "source": [
    "_conf = Conf_matrx(outlier_true_one_2,outlier_OSVM_one,tab_bunny)"
   ]
  },
  {
   "cell_type": "code",
   "execution_count": null,
   "id": "4ff333b9-31f8-41ba-8d42-4483fcd14260",
   "metadata": {},
   "outputs": [],
   "source": [
    "_conf.conf(\"OCSVM (Sch ̈olkopf et al., 2001)\")"
   ]
  },
  {
   "cell_type": "code",
   "execution_count": null,
   "id": "d2506ff8-caea-4678-9ff1-55942ab8b105",
   "metadata": {},
   "outputs": [],
   "source": [
    "five = three.append(_conf.tab)"
   ]
  },
  {
   "cell_type": "code",
   "execution_count": null,
   "id": "a577a145-a207-4e34-ab62-d26e2edf6056",
   "metadata": {},
   "outputs": [],
   "source": [
    "five"
   ]
  },
  {
   "cell_type": "markdown",
   "id": "f79d2f48-6b2e-42b3-83c8-9b0b51bc44f1",
   "metadata": {},
   "source": [
    "### MCD"
   ]
  },
  {
   "cell_type": "markdown",
   "id": "712f3134-7501-4491-8878-4aee51b8a385",
   "metadata": {},
   "source": [
    "<span style=\"color:red\">  1. random.seed 지정했는가? O, random_state </span>\n",
    "\n",
    "<span style=\"color:red\">  2. contamination 지정했는가? O </span>\n",
    "\n",
    "<span style=\"color:red\">  3. Iteration 지정할 수 있는가? X </span>"
   ]
  },
  {
   "cell_type": "code",
   "execution_count": null,
   "id": "dac94df3-372e-4e42-99f2-f5e70e548ea3",
   "metadata": {
    "scrolled": true,
    "tags": []
   },
   "outputs": [],
   "source": [
    "clf = MCD(contamination=0.05 , random_state = 77)\n",
    "clf.fit(_df[['x', 'y','fnoise']])\n",
    "_df['MCD_clf'] = clf.labels_"
   ]
  },
  {
   "cell_type": "code",
   "execution_count": null,
   "id": "b9cf263d-6922-454c-80e5-459747a0c2eb",
   "metadata": {},
   "outputs": [],
   "source": [
    "outlier_MCD_one = list(clf.labels_)"
   ]
  },
  {
   "cell_type": "code",
   "execution_count": null,
   "id": "dfcb2a3b-0064-4b46-a006-c3904b90226f",
   "metadata": {},
   "outputs": [],
   "source": [
    "outlier_MCD_one = list(map(lambda x: 1 if x==0  else -1,outlier_MCD_one))"
   ]
  },
  {
   "cell_type": "code",
   "execution_count": null,
   "id": "15f7bc37-12e7-44a5-b711-c2b04ff3484b",
   "metadata": {},
   "outputs": [],
   "source": [
    "_conf = Conf_matrx(outlier_true_one_2,outlier_MCD_one,tab_bunny)"
   ]
  },
  {
   "cell_type": "code",
   "execution_count": null,
   "id": "c8ccea94-09c5-4f91-8db5-61fb0f6d76a9",
   "metadata": {},
   "outputs": [],
   "source": [
    "_conf.conf(\"MCD (Hardin and Rocke, 2004)\")"
   ]
  },
  {
   "cell_type": "code",
   "execution_count": null,
   "id": "233983cd-aa09-453f-98af-9601371f33f5",
   "metadata": {},
   "outputs": [],
   "source": [
    "six = five.append(_conf.tab)"
   ]
  },
  {
   "cell_type": "code",
   "execution_count": null,
   "id": "634f97f0-369e-4b32-aa3a-ee24aad62ac1",
   "metadata": {},
   "outputs": [],
   "source": [
    "six"
   ]
  },
  {
   "cell_type": "markdown",
   "id": "1ccd7760-aaeb-4e99-8df0-a74eea8a3611",
   "metadata": {},
   "source": [
    "### Feature Bagging"
   ]
  },
  {
   "cell_type": "markdown",
   "id": "181ad72e-8170-43a1-89f5-22d17311faba",
   "metadata": {},
   "source": [
    "<span style=\"color:red\">  1. random.seed 지정했는가? O, random_state </span>\n",
    "\n",
    "<span style=\"color:red\">  2. contamination 지정했는가? O </span>\n",
    "\n",
    "<span style=\"color:red\">  3. Iteration 지정할 수 있는가? X </span>"
   ]
  },
  {
   "cell_type": "code",
   "execution_count": null,
   "id": "26f70fde-9cae-4c7e-95d7-80ac029fadae",
   "metadata": {
    "scrolled": true,
    "tags": []
   },
   "outputs": [],
   "source": [
    "clf = FeatureBagging(contamination=0.05, random_state=77)\n",
    "clf.fit(_df[['x', 'y','fnoise']])\n",
    "_df['FeatureBagging_clf'] = clf.labels_"
   ]
  },
  {
   "cell_type": "code",
   "execution_count": null,
   "id": "c936dde6-37c3-4b26-9e81-943261332725",
   "metadata": {},
   "outputs": [],
   "source": [
    "outlier_FeatureBagging_one = list(clf.labels_)"
   ]
  },
  {
   "cell_type": "code",
   "execution_count": null,
   "id": "71cfbd17-a36c-4c26-8b29-d85cce17c6e1",
   "metadata": {},
   "outputs": [],
   "source": [
    "outlier_FeatureBagging_one = list(map(lambda x: 1 if x==0  else -1,outlier_FeatureBagging_one))"
   ]
  },
  {
   "cell_type": "code",
   "execution_count": null,
   "id": "75460ac3-26fd-4dc8-a076-ff127b396550",
   "metadata": {},
   "outputs": [],
   "source": [
    "_conf = Conf_matrx(outlier_true_one_2,outlier_FeatureBagging_one,tab_bunny)"
   ]
  },
  {
   "cell_type": "code",
   "execution_count": null,
   "id": "943c9107-52f7-4e11-8510-9695af300aa4",
   "metadata": {},
   "outputs": [],
   "source": [
    "_conf.conf(\"Feature Bagging (Lazarevic and Kumar, 2005)\")"
   ]
  },
  {
   "cell_type": "code",
   "execution_count": null,
   "id": "1ac245ea-8029-4909-88cb-bc5c35b7c54c",
   "metadata": {},
   "outputs": [],
   "source": [
    "seven = six.append(_conf.tab)"
   ]
  },
  {
   "cell_type": "code",
   "execution_count": null,
   "id": "600634f3-bec6-45a7-bef4-dda9d0fb1fb9",
   "metadata": {},
   "outputs": [],
   "source": [
    "seven"
   ]
  },
  {
   "cell_type": "markdown",
   "id": "f0ecf885-0d31-457f-bfda-54c3c207ffdf",
   "metadata": {
    "tags": []
   },
   "source": [
    "### ABOD"
   ]
  },
  {
   "cell_type": "markdown",
   "id": "72e01ef9-2859-44b2-a1f2-9b1c2c689297",
   "metadata": {},
   "source": [
    "<span style=\"color:red\">  1. random.seed 지정했는가? O </span>\n",
    "\n",
    "<span style=\"color:red\">  2. contamination 지정했는가? O </span>\n",
    "\n",
    "<span style=\"color:red\">  3. Iteration 지정할 수 있는가? X </span>"
   ]
  },
  {
   "cell_type": "code",
   "execution_count": null,
   "id": "2fa20a90-e548-4588-b82f-a022fcdc7480",
   "metadata": {},
   "outputs": [],
   "source": [
    "np.random.seed(77)\n",
    "clf = ABOD(contamination=0.05)\n",
    "clf.fit(_df[['x', 'y','fnoise']])\n",
    "_df['ABOD_Clf'] = clf.labels_"
   ]
  },
  {
   "cell_type": "code",
   "execution_count": null,
   "id": "68710435-f76d-4ca4-a1eb-80876bde4b18",
   "metadata": {},
   "outputs": [],
   "source": [
    "outlier_ABOD_one = list(clf.labels_)"
   ]
  },
  {
   "cell_type": "code",
   "execution_count": null,
   "id": "a7adc46e-e635-4965-81e7-fad16ee4ca47",
   "metadata": {},
   "outputs": [],
   "source": [
    "outlier_ABOD_one = list(map(lambda x: 1 if x==0  else -1,outlier_ABOD_one))"
   ]
  },
  {
   "cell_type": "code",
   "execution_count": null,
   "id": "0ac2625c-b2cc-4c30-a5fd-e6b65dcac8f1",
   "metadata": {},
   "outputs": [],
   "source": [
    "_conf = Conf_matrx(outlier_true_one_2,outlier_ABOD_one,tab_bunny)"
   ]
  },
  {
   "cell_type": "code",
   "execution_count": null,
   "id": "c838d238-03aa-4509-9ef6-6bd22fd0b632",
   "metadata": {},
   "outputs": [],
   "source": [
    "_conf.conf(\"ABOD (Kriegel et al., 2008)\")"
   ]
  },
  {
   "cell_type": "code",
   "execution_count": null,
   "id": "8ad8dbb6-c607-49d4-ba03-da9188b183a6",
   "metadata": {},
   "outputs": [],
   "source": [
    "eight = seven.append(_conf.tab)"
   ]
  },
  {
   "cell_type": "code",
   "execution_count": null,
   "id": "cb4d8bff-b065-491c-8e40-0b31cc23c363",
   "metadata": {},
   "outputs": [],
   "source": [
    "eight"
   ]
  },
  {
   "cell_type": "markdown",
   "id": "7292af80-ec43-4a3e-a425-f6c7ad6ddf22",
   "metadata": {},
   "source": [
    "normal fix 안 해줘서 좀 다른듯"
   ]
  },
  {
   "cell_type": "markdown",
   "id": "1bc9b1ba-1cc9-415c-afd1-236437d6813f",
   "metadata": {},
   "source": [
    "### IForest"
   ]
  },
  {
   "cell_type": "markdown",
   "id": "84b701ab-dc8f-4b3d-ad08-f580cdd29909",
   "metadata": {},
   "source": [
    "<span style=\"color:red\">  1. random.seed 지정했는가? O </span>\n",
    "\n",
    "<span style=\"color:red\">  2. contamination 지정했는가? X, 할 수 없음 </span>\n",
    "\n",
    "<span style=\"color:red\">  3. Iteration 지정할 수 있는가? X </span>"
   ]
  },
  {
   "cell_type": "code",
   "execution_count": null,
   "id": "7ba5fe34-e7ae-42c7-abd9-f78f10e87617",
   "metadata": {},
   "outputs": [],
   "source": [
    "np.random.seed(77)\n",
    "od = IForest(\n",
    "    threshold=0.\n",
    ")"
   ]
  },
  {
   "cell_type": "code",
   "execution_count": null,
   "id": "8bbcd696-cff0-411a-9233-293dd09c1485",
   "metadata": {},
   "outputs": [],
   "source": [
    "od.fit(_df[['x', 'y','fnoise']])"
   ]
  },
  {
   "cell_type": "code",
   "execution_count": null,
   "id": "09a50b58-8ef5-4732-b136-4a79d0cbe851",
   "metadata": {},
   "outputs": [],
   "source": [
    "preds = od.predict(\n",
    "    _df[['x', 'y','fnoise']],\n",
    "    return_instance_score=True\n",
    ")"
   ]
  },
  {
   "cell_type": "code",
   "execution_count": null,
   "id": "2ccc3405-d9b0-4699-893b-a5784a88af9c",
   "metadata": {},
   "outputs": [],
   "source": [
    "_df['IF_alibi'] = preds['data']['is_outlier']"
   ]
  },
  {
   "cell_type": "code",
   "execution_count": null,
   "id": "32e1236f-7fc8-428f-a884-36fac3974cf2",
   "metadata": {},
   "outputs": [],
   "source": [
    "outlier_alibi_one = _df['IF_alibi']"
   ]
  },
  {
   "cell_type": "code",
   "execution_count": null,
   "id": "876318ab-934d-4c61-9da5-3fbe66051fb7",
   "metadata": {},
   "outputs": [],
   "source": [
    "outlier_alibi_one = list(map(lambda x: 1 if x==0  else -1,outlier_alibi_one))"
   ]
  },
  {
   "cell_type": "code",
   "execution_count": null,
   "id": "237b4a33-06cc-4793-87a7-d667f45dba0d",
   "metadata": {},
   "outputs": [],
   "source": [
    "_conf = Conf_matrx(outlier_true_one_2,outlier_alibi_one,tab_bunny)"
   ]
  },
  {
   "cell_type": "code",
   "execution_count": null,
   "id": "409c10da-3ef0-4ba7-aea1-2a75fc71fed1",
   "metadata": {},
   "outputs": [],
   "source": [
    "_conf.conf(\"Isolation Forest (Liu et al., 2008)\")"
   ]
  },
  {
   "cell_type": "code",
   "execution_count": null,
   "id": "79810773-8d57-4372-ba48-ebd28ffaad16",
   "metadata": {},
   "outputs": [],
   "source": [
    "nine = eight.append(_conf.tab)"
   ]
  },
  {
   "cell_type": "code",
   "execution_count": null,
   "id": "45ea65e1-2220-493e-906f-f746ef50a1c3",
   "metadata": {},
   "outputs": [],
   "source": [
    "nine"
   ]
  },
  {
   "cell_type": "markdown",
   "id": "b2e86013-abe1-4bda-b9eb-11f4eedb4b7e",
   "metadata": {},
   "source": [
    "### HBOS"
   ]
  },
  {
   "cell_type": "markdown",
   "id": "aefba3c6-bf80-4a3b-8d1b-b3e8e332a3c6",
   "metadata": {},
   "source": [
    "<span style=\"color:red\">  1. random.seed 지정했는가? O </span>\n",
    "\n",
    "<span style=\"color:red\">  2. contamination 지정했는가? O </span>\n",
    "\n",
    "<span style=\"color:red\">  3. Iteration 지정할 수 있는가? X </span>"
   ]
  },
  {
   "cell_type": "code",
   "execution_count": null,
   "id": "731a662b-f20b-48f8-a3ae-5440ec8e6c4c",
   "metadata": {},
   "outputs": [],
   "source": [
    "np.random.seed(77)\n",
    "clf = HBOS(contamination=0.05)\n",
    "clf.fit(_df[['x', 'y','fnoise']])\n",
    "_df['HBOS_clf'] = clf.labels_"
   ]
  },
  {
   "cell_type": "code",
   "execution_count": null,
   "id": "9df21c57-05fa-4055-94f2-e5c2e94f15cf",
   "metadata": {},
   "outputs": [],
   "source": [
    "outlier_HBOS_one = list(clf.labels_)"
   ]
  },
  {
   "cell_type": "code",
   "execution_count": null,
   "id": "9699ee9a-6f2d-4eae-abc4-8fb612c5ff57",
   "metadata": {},
   "outputs": [],
   "source": [
    "outlier_HBOS_one = list(map(lambda x: 1 if x==0  else -1,outlier_HBOS_one))"
   ]
  },
  {
   "cell_type": "code",
   "execution_count": null,
   "id": "4ef67898-a67e-44f5-b220-9ce2091415e0",
   "metadata": {},
   "outputs": [],
   "source": [
    "_conf = Conf_matrx(outlier_true_one_2,outlier_HBOS_one,tab_bunny)"
   ]
  },
  {
   "cell_type": "code",
   "execution_count": null,
   "id": "fc947c63-29f7-409b-9f31-a835261bdead",
   "metadata": {},
   "outputs": [],
   "source": [
    "_conf.conf(\"HBOS (Goldstein and Dengel, 2012)\")"
   ]
  },
  {
   "cell_type": "code",
   "execution_count": null,
   "id": "2373685e-b4d4-4c04-9dd2-02a3cdf54775",
   "metadata": {},
   "outputs": [],
   "source": [
    "ten = nine.append(_conf.tab)"
   ]
  },
  {
   "cell_type": "code",
   "execution_count": null,
   "id": "81ad6959-ab88-4be6-b6a2-a0c81ced5d40",
   "metadata": {},
   "outputs": [],
   "source": [
    "ten"
   ]
  },
  {
   "cell_type": "markdown",
   "id": "991b039f-c1cf-4370-8b74-c5b091bd520f",
   "metadata": {},
   "source": [
    "### SOS"
   ]
  },
  {
   "cell_type": "markdown",
   "id": "fcaaabc6-66a0-4d35-8564-8d17749cd705",
   "metadata": {},
   "source": [
    "<span style=\"color:red\">  1. random.seed 지정했는가? O </span>\n",
    "\n",
    "<span style=\"color:red\">  2. contamination 지정했는가? O </span>\n",
    "\n",
    "<span style=\"color:red\">  3. Iteration 지정할 수 있는가? X </span>"
   ]
  },
  {
   "cell_type": "code",
   "execution_count": null,
   "id": "243d69d7-4a99-4032-9589-8e624c53faf0",
   "metadata": {},
   "outputs": [],
   "source": [
    "np.random.seed(77)\n",
    "clf = SOS(contamination=0.05)\n",
    "clf.fit(_df[['x', 'y','fnoise']])\n",
    "_df['SOS_clf'] = clf.labels_"
   ]
  },
  {
   "cell_type": "code",
   "execution_count": null,
   "id": "b8c7e25d-d691-4661-8977-f01b4008ca1a",
   "metadata": {},
   "outputs": [],
   "source": [
    "outlier_SOS_one = list(clf.labels_)"
   ]
  },
  {
   "cell_type": "code",
   "execution_count": null,
   "id": "435842a5-e178-4f61-a786-2ff7a7a7b3b3",
   "metadata": {},
   "outputs": [],
   "source": [
    "outlier_SOS_one = list(map(lambda x: 1 if x==0  else -1,outlier_SOS_one))"
   ]
  },
  {
   "cell_type": "code",
   "execution_count": null,
   "id": "ede1254d-731d-4257-b921-ae7b56339a05",
   "metadata": {},
   "outputs": [],
   "source": [
    "_conf = Conf_matrx(outlier_true_one_2,outlier_SOS_one,tab_bunny)"
   ]
  },
  {
   "cell_type": "code",
   "execution_count": null,
   "id": "8905cac1-5f7a-4268-8727-e54a6b285d77",
   "metadata": {},
   "outputs": [],
   "source": [
    "_conf.conf(\"SOS (Janssens et al., 2012)\")"
   ]
  },
  {
   "cell_type": "code",
   "execution_count": null,
   "id": "a3384720-d660-461f-8431-5fe8063c64fd",
   "metadata": {},
   "outputs": [],
   "source": [
    "eleven = ten.append(_conf.tab)"
   ]
  },
  {
   "cell_type": "code",
   "execution_count": null,
   "id": "1641e8ab-bf10-4ff7-b28e-39446f8c40e7",
   "metadata": {},
   "outputs": [],
   "source": [
    "eleven"
   ]
  },
  {
   "cell_type": "markdown",
   "id": "a5b23eed-fbef-4e64-9e7a-e7b0cb35a074",
   "metadata": {
    "tags": []
   },
   "source": [
    "### SO_GAAL"
   ]
  },
  {
   "cell_type": "markdown",
   "id": "e20d7ed1-e838-4bb5-be6c-0175cabb07dd",
   "metadata": {},
   "source": [
    "<span style=\"color:red\">  1. random.seed 지정했는가? O </span>\n",
    "\n",
    "<span style=\"color:red\">  2. contamination 지정했는가? O </span>\n",
    "\n",
    "<span style=\"color:red\">  3. Iteration 지정할 수 있는가? X </span>"
   ]
  },
  {
   "cell_type": "code",
   "execution_count": null,
   "id": "498d6a54-7758-473b-828b-7c3aad9b1ba9",
   "metadata": {
    "scrolled": true,
    "tags": []
   },
   "outputs": [],
   "source": [
    "np.random.seed(77)\n",
    "clf = SO_GAAL(contamination=0.05)\n",
    "clf.fit(_df[['x', 'y','fnoise']])\n",
    "_df['SO_GAAL_clf'] = clf.labels_"
   ]
  },
  {
   "cell_type": "code",
   "execution_count": null,
   "id": "fbc0891d-3399-4639-afd6-208bf453338b",
   "metadata": {},
   "outputs": [],
   "source": [
    "outlier_SO_GAAL_one = list(clf.labels_)"
   ]
  },
  {
   "cell_type": "code",
   "execution_count": null,
   "id": "c3353c2b-9347-44d2-ba71-3c8cced3bfca",
   "metadata": {},
   "outputs": [],
   "source": [
    "outlier_SO_GAAL_one = list(map(lambda x: 1 if x==0  else -1,outlier_SO_GAAL_one))"
   ]
  },
  {
   "cell_type": "code",
   "execution_count": null,
   "id": "9c8b9234-7ff7-4b80-a3f2-7b5cd9da860d",
   "metadata": {},
   "outputs": [],
   "source": [
    "_conf = Conf_matrx(outlier_true_one_2,outlier_SO_GAAL_one,tab_bunny)"
   ]
  },
  {
   "cell_type": "code",
   "execution_count": null,
   "id": "dad4dc36-d6a8-4d5e-98a6-67f79e14c056",
   "metadata": {},
   "outputs": [],
   "source": [
    "_conf.conf(\"SO-GAAL (Liu et al., 2019)\")"
   ]
  },
  {
   "cell_type": "code",
   "execution_count": null,
   "id": "261e9c52-7eb6-4f90-93d9-567f8943da85",
   "metadata": {},
   "outputs": [],
   "source": [
    "twelve = eleven.append(_conf.tab)"
   ]
  },
  {
   "cell_type": "code",
   "execution_count": null,
   "id": "e9bd3e75-275a-483b-8de8-b9af0d821045",
   "metadata": {},
   "outputs": [],
   "source": [
    "twelve"
   ]
  },
  {
   "cell_type": "markdown",
   "id": "56ff7c5c-2ae6-44c2-86a4-42d795daddf8",
   "metadata": {
    "tags": []
   },
   "source": [
    "### MO_GAAL"
   ]
  },
  {
   "cell_type": "markdown",
   "id": "ef93a1c0-30c1-4b75-92f3-7e0f7589e64b",
   "metadata": {},
   "source": [
    "<span style=\"color:red\">  1. random.seed 지정했는가? O </span>\n",
    "\n",
    "<span style=\"color:red\">  2. contamination 지정했는가? O </span>\n",
    "\n",
    "<span style=\"color:red\">  3. Iteration 지정할 수 있는가? X </span>"
   ]
  },
  {
   "cell_type": "code",
   "execution_count": null,
   "id": "7adfa27d-2cc5-41e5-90a1-3945e71192fb",
   "metadata": {
    "scrolled": true,
    "tags": []
   },
   "outputs": [],
   "source": [
    "np.random.seed(77)\n",
    "clf = MO_GAAL(contamination=0.05)\n",
    "clf.fit(_df[['x', 'y','fnoise']])\n",
    "_df['MO_GAAL_clf'] = clf.labels_"
   ]
  },
  {
   "cell_type": "code",
   "execution_count": null,
   "id": "0c306dbb-fcb8-48ab-9e0c-5ae0817b9067",
   "metadata": {},
   "outputs": [],
   "source": [
    "outlier_MO_GAAL_one = list(clf.labels_)"
   ]
  },
  {
   "cell_type": "code",
   "execution_count": null,
   "id": "e13a03c9-074f-48f4-b580-2245e661ffd8",
   "metadata": {},
   "outputs": [],
   "source": [
    "outlier_MO_GAAL_one = list(map(lambda x: 1 if x==0  else -1,outlier_MO_GAAL_one))"
   ]
  },
  {
   "cell_type": "code",
   "execution_count": null,
   "id": "07ed9d30-dff7-4f1a-9132-eb6909c00a8b",
   "metadata": {},
   "outputs": [],
   "source": [
    "_conf = Conf_matrx(outlier_true_one_2,outlier_MO_GAAL_one,tab_bunny)"
   ]
  },
  {
   "cell_type": "code",
   "execution_count": null,
   "id": "b90d9cdf-9e91-46c3-b14d-3c8a9022f464",
   "metadata": {},
   "outputs": [],
   "source": [
    "_conf.conf(\"MO-GAAL (Liu et al., 2019)\")"
   ]
  },
  {
   "cell_type": "code",
   "execution_count": null,
   "id": "8cce9fc8-8f58-4ab4-b683-1772f9aec70c",
   "metadata": {},
   "outputs": [],
   "source": [
    "thirteen = twelve.append(_conf.tab)"
   ]
  },
  {
   "cell_type": "code",
   "execution_count": null,
   "id": "fb4f4080-c03d-404f-a47b-93ec777931e9",
   "metadata": {},
   "outputs": [],
   "source": [
    "thirteen"
   ]
  },
  {
   "cell_type": "markdown",
   "id": "a04b126d-4f3d-47cd-adb3-5f7ba6eade83",
   "metadata": {
    "tags": []
   },
   "source": [
    "### LSCP"
   ]
  },
  {
   "cell_type": "markdown",
   "id": "1febf1ce-f4c3-4a39-9f77-99feb955cc85",
   "metadata": {},
   "source": [
    "<span style=\"color:red\">  1. random.seed 지정했는가? O </span>\n",
    "\n",
    "<span style=\"color:red\">  2. contamination 지정했는가? O </span>\n",
    "\n",
    "<span style=\"color:red\">  3. Iteration 지정할 수 있는가? X </span>"
   ]
  },
  {
   "cell_type": "code",
   "execution_count": null,
   "id": "8dc964e7-1fa2-4e49-8c0d-bdc7064e359a",
   "metadata": {},
   "outputs": [],
   "source": [
    "detectors = [KNN(), LOF(), OCSVM()]\n",
    "clf = LSCP(detectors,contamination=0.05, random_state=77)\n",
    "clf.fit(_df[['x', 'y','fnoise']])\n",
    "_df['LSCP_clf'] = clf.labels_"
   ]
  },
  {
   "cell_type": "code",
   "execution_count": null,
   "id": "01d34ad9-c2dc-419b-8775-7910c792a67b",
   "metadata": {},
   "outputs": [],
   "source": [
    "outlier_LSCP_one = list(clf.labels_)"
   ]
  },
  {
   "cell_type": "code",
   "execution_count": null,
   "id": "addb3065-c030-4714-8578-46a0257a2256",
   "metadata": {},
   "outputs": [],
   "source": [
    "outlier_LSCP_one = list(map(lambda x: 1 if x==0  else -1,outlier_LSCP_one))"
   ]
  },
  {
   "cell_type": "code",
   "execution_count": null,
   "id": "13d15c75-eef0-41ee-b064-a776bf869227",
   "metadata": {},
   "outputs": [],
   "source": [
    "_conf = Conf_matrx(outlier_true_one_2,outlier_LSCP_one,tab_bunny)"
   ]
  },
  {
   "cell_type": "code",
   "execution_count": null,
   "id": "f701bbf2-92d6-4d32-af0b-cbd389f6f7ce",
   "metadata": {},
   "outputs": [],
   "source": [
    "_conf.conf(\"LSCP (Zhao et al., 2019)\")"
   ]
  },
  {
   "cell_type": "code",
   "execution_count": null,
   "id": "de19e271-d6cf-4e93-82ab-62fdcecce6df",
   "metadata": {},
   "outputs": [],
   "source": [
    "fourteen = thirteen.append(_conf.tab)"
   ]
  },
  {
   "cell_type": "code",
   "execution_count": null,
   "id": "1b1e059c-27e8-4bc3-bba5-ab6e861b1cf1",
   "metadata": {},
   "outputs": [],
   "source": [
    "fourteen"
   ]
  },
  {
   "cell_type": "markdown",
   "id": "3ab6d48f-a690-4a45-bb62-fc318c453387",
   "metadata": {},
   "source": [
    "## Bunny Result"
   ]
  },
  {
   "cell_type": "code",
   "execution_count": null,
   "id": "a5d1ea92-fc89-4788-b81f-a6b86743d002",
   "metadata": {},
   "outputs": [],
   "source": [
    "fourteen.round(3)"
   ]
  },
  {
   "cell_type": "code",
   "execution_count": null,
   "id": "106e6836-32ef-4a7a-a8df-3eeac2e01205",
   "metadata": {},
   "outputs": [],
   "source": [
    "bunny_rst = fourteen.round(3)"
   ]
  },
  {
   "cell_type": "code",
   "execution_count": null,
   "id": "7c16c103-5a97-4c09-8a4c-8c799d9d5dbd",
   "metadata": {},
   "outputs": [],
   "source": []
  },
  {
   "cell_type": "code",
   "execution_count": null,
   "id": "de2fafbe-195d-4242-8776-55bfd467e8dd",
   "metadata": {},
   "outputs": [],
   "source": []
  },
  {
   "cell_type": "code",
   "execution_count": null,
   "id": "647c2dda-2c66-4df6-ae21-39e1ff314916",
   "metadata": {},
   "outputs": [],
   "source": []
  }
 ],
 "metadata": {
  "kernelspec": {
   "display_name": "Python 3 (ipykernel)",
   "language": "python",
   "name": "python3"
  },
  "language_info": {
   "codemirror_mode": {
    "name": "ipython",
    "version": 3
   },
   "file_extension": ".py",
   "mimetype": "text/x-python",
   "name": "python",
   "nbconvert_exporter": "python",
   "pygments_lexer": "ipython3",
   "version": "3.10.11"
  }
 },
 "nbformat": 4,
 "nbformat_minor": 5
}

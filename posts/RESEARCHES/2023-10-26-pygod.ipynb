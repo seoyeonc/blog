{
 "cells": [
  {
   "cell_type": "raw",
   "id": "1934ef7b-8352-4030-a98d-ecc9a76ed224",
   "metadata": {
    "id": "cac470df-29e7-4148-9bbd-d8b9a32fa570",
    "tags": []
   },
   "source": [
    "---\n",
    "title: \"**[ANOMALOUS]**PYGOD\"\n",
    "author: \"SEOYEON CHOI\"\n",
    "date: \"2023-10-27\"\n",
    "---"
   ]
  },
  {
   "cell_type": "markdown",
   "id": "04d66a03-86ad-4c1e-ac39-800b7520535d",
   "metadata": {},
   "source": [
    "|Abbr|Year|Backbone|Sampling|Class|\n",
    "|:--:|:--:|:--:|:--:|:--:|\n",
    "|SCAN|2007|Clustering|No|pygod.detector.SCAN|\n",
    "|GAE|2016|GNN+AE|Yes|pygod.detector.GAE|\n",
    "|Radar|2017|MF|No|pygod.detector.Radar|\n",
    "|ANOMALOUS|2018|MF|No|pygod.detector.ANOMALOUS|\n",
    "|ONE|2019|MF|No|pygod.detector.ONE|\n",
    "|DOMINANT|2019|GNN+AE|Yes|pygod.detector.DOMINANT|\n",
    "|DONE|2020|MLP+AE|Yes|pygod.detector.DONE|\n",
    "|AdONE|2020|MLP+AE|Yes|pygod.detector.AdONE|\n",
    "|AnomalyDAE|2020|GNN+AE|Yes|pygod.detector.AnomalyDAE|\n",
    "|GAAN|2020|GAN|Yes|pygod.detector.GAAN|\n",
    "|OCGNN|2021|GNN|Yes|pygod.detector.OCGNN|\n",
    "|CoLA|2021|GNN+AE+SSL|Yes|pygod.detector.CoLA|\n",
    "|GUIDE|2021|GNN+AE|Yes|pygod.detector.GUIDE|\n",
    "|CONAD|2022|GNN+AE+SSL|Yes|pygod.detector.CONAD|"
   ]
  },
  {
   "cell_type": "markdown",
   "id": "69249c97-8c1e-4a89-b2df-4e254495df6c",
   "metadata": {},
   "source": [
    "# Import"
   ]
  },
  {
   "cell_type": "code",
   "execution_count": 1,
   "id": "87e45f07-3c6b-48d0-961b-f4b290b669a0",
   "metadata": {},
   "outputs": [],
   "source": [
    "import pygod\n",
    "import numpy as np\n",
    "import torch_geometric.transforms as T\n",
    "from torch_geometric.datasets import Planetoid\n",
    "\n",
    "import torch\n",
    "from pygod.generator import gen_contextual_outlier, gen_structural_outlier\n",
    "\n",
    "from pygod.utils import load_data\n",
    "\n",
    "from pygod.metric import eval_roc_auc\n",
    "\n",
    "from pygod.detector import SCAN, GAE, Radar, ANOMALOUS, ONE, DOMINANT, DONE, AdONE, AnomalyDAE, GAAN, OCGNN, CoLA, GUIDE, CONAD"
   ]
  },
  {
   "cell_type": "markdown",
   "id": "0216cbc6-ecad-40f5-b386-10ec1050f05f",
   "metadata": {},
   "source": [
    "# Data"
   ]
  },
  {
   "cell_type": "code",
   "execution_count": 2,
   "id": "2942b1ea-4c11-4f31-ab95-68ec618a993a",
   "metadata": {},
   "outputs": [],
   "source": [
    "data = Planetoid('./data/Cora', 'Cora', transform=T.NormalizeFeatures())[0]"
   ]
  },
  {
   "cell_type": "code",
   "execution_count": 3,
   "id": "3cce0873-8fa0-4cf9-b2a1-5e42fe004692",
   "metadata": {},
   "outputs": [],
   "source": [
    "data, ya = gen_contextual_outlier(data, n=100, k=50)"
   ]
  },
  {
   "cell_type": "code",
   "execution_count": 4,
   "id": "9a871f24-4f1e-4d56-bea5-84909fd6555c",
   "metadata": {},
   "outputs": [],
   "source": [
    "data, ys = gen_structural_outlier(data, m=10, n=10)"
   ]
  },
  {
   "cell_type": "code",
   "execution_count": 5,
   "id": "433cc066-3411-4f11-a496-fbbdbc53f6fc",
   "metadata": {},
   "outputs": [],
   "source": [
    "data.y = torch.logical_or(ys, ya).long()"
   ]
  },
  {
   "cell_type": "code",
   "execution_count": 6,
   "id": "e38696a2-5d8d-4b74-875c-501ecb4ada30",
   "metadata": {},
   "outputs": [],
   "source": [
    "data = load_data('inj_cora')\n",
    "data.y = data.y.bool()"
   ]
  },
  {
   "cell_type": "markdown",
   "id": "9f2f4d5a-f6fd-44b4-888c-6eeb157c38a5",
   "metadata": {},
   "source": [
    "# SCAN"
   ]
  },
  {
   "cell_type": "code",
   "execution_count": 7,
   "id": "4e84ff3a-518c-40fe-bb6b-63a91efe5ef5",
   "metadata": {},
   "outputs": [],
   "source": [
    "detector = SCAN(contamination=0.05)"
   ]
  },
  {
   "cell_type": "code",
   "execution_count": 8,
   "id": "779ac84b-41ac-49f2-be04-2c33d29698b8",
   "metadata": {},
   "outputs": [
    {
     "data": {
      "text/plain": [
       "SCAN(contamination=0.05, eps=0.5, mu=2, verbose=0)"
      ]
     },
     "execution_count": 8,
     "metadata": {},
     "output_type": "execute_result"
    }
   ],
   "source": [
    "detector.fit(data)"
   ]
  },
  {
   "cell_type": "code",
   "execution_count": 9,
   "id": "eaf537eb-2a8a-40d7-964f-79e55c870e09",
   "metadata": {},
   "outputs": [
    {
     "name": "stderr",
     "output_type": "stream",
     "text": [
      "/home/csy/anaconda3/envs/temp_csy/lib/python3.8/site-packages/pygod/detector/scan.py:162: UserWarning: This detector is transductive only. Training from scratch with the input data.\n",
      "  warnings.warn(\"This detector is transductive only. \"\n"
     ]
    },
    {
     "name": "stdout",
     "output_type": "stream",
     "text": [
      "Labels:\n",
      "tensor([0, 0, 0,  ..., 0, 0, 0])\n",
      "Raw scores:\n",
      "tensor([0., 0., 0.,  ..., 0., 1., 1.])\n",
      "Probability:\n",
      "tensor([0., 0., 0.,  ..., 0., 1., 1.])\n",
      "Confidence:\n",
      "tensor([1., 1., 1.,  ..., 1., 0., 0.])\n"
     ]
    }
   ],
   "source": [
    "pred, score, prob, conf = detector.predict(data,\n",
    "                                           return_pred=True,\n",
    "                                           return_score=True,\n",
    "                                           return_prob=True,\n",
    "                                           return_conf=True)\n",
    "print('Labels:')\n",
    "print(pred)\n",
    "\n",
    "print('Raw scores:')\n",
    "print(score)\n",
    "\n",
    "print('Probability:')\n",
    "print(prob)\n",
    "\n",
    "print('Confidence:')\n",
    "print(conf)"
   ]
  },
  {
   "cell_type": "code",
   "execution_count": 10,
   "id": "bde314cd-bf2d-4d67-aa87-9ff3537b3361",
   "metadata": {},
   "outputs": [
    {
     "name": "stdout",
     "output_type": "stream",
     "text": [
      "AUC Score: 0.6602577116111205\n"
     ]
    }
   ],
   "source": [
    "auc_score = eval_roc_auc(data.y, score)\n",
    "print('AUC Score:', auc_score)"
   ]
  },
  {
   "cell_type": "code",
   "execution_count": 11,
   "id": "be14e2d0-398f-44b3-b665-52f2f593d587",
   "metadata": {},
   "outputs": [
    {
     "name": "stderr",
     "output_type": "stream",
     "text": [
      "/home/csy/anaconda3/envs/temp_csy/lib/python3.8/site-packages/pygod/detector/scan.py:162: UserWarning: This detector is transductive only. Training from scratch with the input data.\n",
      "  warnings.warn(\"This detector is transductive only. \"\n"
     ]
    },
    {
     "data": {
      "text/plain": [
       "tensor([0, 0, 0,  ..., 0, 0, 0])"
      ]
     },
     "execution_count": 11,
     "metadata": {},
     "output_type": "execute_result"
    }
   ],
   "source": [
    "detector.predict(data)"
   ]
  },
  {
   "cell_type": "markdown",
   "id": "13b627aa-0d6a-4e99-8692-8acdff8562b7",
   "metadata": {},
   "source": [
    "# GAE"
   ]
  },
  {
   "cell_type": "code",
   "execution_count": 14,
   "id": "caa9da90-b0c7-46db-a2d0-fb7f4315d2c8",
   "metadata": {},
   "outputs": [],
   "source": [
    "detector = GAE(contamination=0.05)"
   ]
  },
  {
   "cell_type": "code",
   "execution_count": 15,
   "id": "e792a01d-78b3-424f-b437-ad1879f9464b",
   "metadata": {},
   "outputs": [
    {
     "name": "stderr",
     "output_type": "stream",
     "text": [
      "/home/csy/anaconda3/envs/temp_csy/lib/python3.8/site-packages/torch_geometric/sampler/neighbor_sampler.py:50: UserWarning: Using '{self.__class__.__name__}' without a 'pyg-lib' installation is deprecated and will be removed soon. Please install 'pyg-lib' for accelerated neighborhood sampling\n",
      "  warnings.warn(\"Using '{self.__class__.__name__}' without a \"\n"
     ]
    },
    {
     "data": {
      "text/plain": [
       "GAE(act=<function relu at 0x7fc0a6db61f0>,\n",
       "    backbone=<class 'torch_geometric.nn.models.basic_gnn.GCN'>,\n",
       "    batch_size=2708, compile_model=False, contamination=0.05, dropout=0.0,\n",
       "    epoch=100, gpu=None, hid_dim=64, lr=0.004, num_layers=4,\n",
       "    num_neigh=[-1, -1, -1, -1], recon_s=False, save_emb=False,\n",
       "    sigmoid_s=False, verbose=False, weight_decay=0.0)"
      ]
     },
     "execution_count": 15,
     "metadata": {},
     "output_type": "execute_result"
    }
   ],
   "source": [
    "detector.fit(data)"
   ]
  },
  {
   "cell_type": "code",
   "execution_count": 16,
   "id": "cbe22eed-a016-433b-a2e8-527505aa04fc",
   "metadata": {},
   "outputs": [
    {
     "name": "stdout",
     "output_type": "stream",
     "text": [
      "Labels:\n",
      "tensor([0, 0, 0,  ..., 0, 0, 0])\n",
      "Raw scores:\n",
      "tensor([7.4681e-05, 2.7619e-05, 3.1114e-05,  ..., 3.5192e-05, 4.7995e-05,\n",
      "        5.1914e-05])\n",
      "Probability:\n",
      "tensor([0.1605, 0.0172, 0.0279,  ..., 0.0403, 0.0793, 0.0912])\n",
      "Confidence:\n",
      "tensor([1., 1., 1.,  ..., 1., 1., 1.])\n"
     ]
    }
   ],
   "source": [
    "pred, score, prob, conf = detector.predict(data,\n",
    "                                           return_pred=True,\n",
    "                                           return_score=True,\n",
    "                                           return_prob=True,\n",
    "                                           return_conf=True)\n",
    "print('Labels:')\n",
    "print(pred)\n",
    "\n",
    "print('Raw scores:')\n",
    "print(score)\n",
    "\n",
    "print('Probability:')\n",
    "print(prob)\n",
    "\n",
    "print('Confidence:')\n",
    "print(conf)"
   ]
  },
  {
   "cell_type": "code",
   "execution_count": 20,
   "id": "27723c9a-170a-40b1-a80b-aab560f30af7",
   "metadata": {},
   "outputs": [
    {
     "name": "stdout",
     "output_type": "stream",
     "text": [
      "AUC Score: 0.7109583826763661\n"
     ]
    }
   ],
   "source": [
    "auc_score = eval_roc_auc(data.y, score)\n",
    "print('AUC Score:', auc_score)"
   ]
  },
  {
   "cell_type": "code",
   "execution_count": 18,
   "id": "27e0ae27-1342-4bf3-b9e6-41a0211fd272",
   "metadata": {},
   "outputs": [
    {
     "data": {
      "text/plain": [
       "tensor([0, 0, 0,  ..., 0, 0, 0])"
      ]
     },
     "execution_count": 18,
     "metadata": {},
     "output_type": "execute_result"
    }
   ],
   "source": [
    "detector.predict(data)"
   ]
  },
  {
   "cell_type": "markdown",
   "id": "5622b16a-def2-433f-ac6a-45c2b5d2ce27",
   "metadata": {},
   "source": [
    "# Radar"
   ]
  },
  {
   "cell_type": "code",
   "execution_count": 21,
   "id": "9da134b0-aacf-40f4-8f75-fe22e5d48092",
   "metadata": {},
   "outputs": [],
   "source": [
    "detector = Radar(contamination=0.05)"
   ]
  },
  {
   "cell_type": "code",
   "execution_count": 22,
   "id": "0f8aeff5-0d24-4b69-acf8-7d5774133243",
   "metadata": {},
   "outputs": [
    {
     "data": {
      "text/plain": [
       "Radar(contamination=0.05, epoch=100, gamma=1.0, gpu=None, lr=0.004, verbose=0,\n",
       "      weight_decay=0.0)"
      ]
     },
     "execution_count": 22,
     "metadata": {},
     "output_type": "execute_result"
    }
   ],
   "source": [
    "detector.fit(data)"
   ]
  },
  {
   "cell_type": "code",
   "execution_count": 23,
   "id": "d2ed69f1-8296-4d3d-8615-aa6301a08fc9",
   "metadata": {},
   "outputs": [
    {
     "name": "stderr",
     "output_type": "stream",
     "text": [
      "/home/csy/anaconda3/envs/temp_csy/lib/python3.8/site-packages/pygod/detector/radar.py:106: UserWarning: This detector is transductive only. Training from scratch with the input data.\n",
      "  warnings.warn(\"This detector is transductive only. \"\n"
     ]
    },
    {
     "name": "stdout",
     "output_type": "stream",
     "text": [
      "Labels:\n",
      "tensor([0, 0, 0,  ..., 0, 0, 0])\n",
      "Raw scores:\n",
      "tensor([0.0648, 0.0645, 0.0642,  ..., 0.0652, 0.0641, 0.0653])\n",
      "Probability:\n",
      "tensor([0.1813, 0.1800, 0.1786,  ..., 0.1830, 0.1779, 0.1837])\n",
      "Confidence:\n",
      "tensor([1.0000, 1.0000, 1.0000,  ..., 0.9991, 1.0000, 0.7069])\n"
     ]
    }
   ],
   "source": [
    "pred, score, prob, conf = detector.predict(data,\n",
    "                                           return_pred=True,\n",
    "                                           return_score=True,\n",
    "                                           return_prob=True,\n",
    "                                           return_conf=True)\n",
    "print('Labels:')\n",
    "print(pred)\n",
    "\n",
    "print('Raw scores:')\n",
    "print(score)\n",
    "\n",
    "print('Probability:')\n",
    "print(prob)\n",
    "\n",
    "print('Confidence:')\n",
    "print(conf)"
   ]
  },
  {
   "cell_type": "code",
   "execution_count": 24,
   "id": "8dd86007-2a4d-4d19-9ead-200fea3cfb03",
   "metadata": {},
   "outputs": [
    {
     "name": "stdout",
     "output_type": "stream",
     "text": [
      "AUC Score: 0.5290630462978627\n"
     ]
    }
   ],
   "source": [
    "auc_score = eval_roc_auc(data.y, score)\n",
    "print('AUC Score:', auc_score)"
   ]
  },
  {
   "cell_type": "code",
   "execution_count": 25,
   "id": "89cfa7a6-18e2-4b29-9e87-6f1e27cf0012",
   "metadata": {},
   "outputs": [
    {
     "name": "stderr",
     "output_type": "stream",
     "text": [
      "/home/csy/anaconda3/envs/temp_csy/lib/python3.8/site-packages/pygod/detector/radar.py:106: UserWarning: This detector is transductive only. Training from scratch with the input data.\n",
      "  warnings.warn(\"This detector is transductive only. \"\n"
     ]
    },
    {
     "data": {
      "text/plain": [
       "tensor([0, 0, 0,  ..., 0, 0, 0])"
      ]
     },
     "execution_count": 25,
     "metadata": {},
     "output_type": "execute_result"
    }
   ],
   "source": [
    "detector.predict(data)"
   ]
  },
  {
   "cell_type": "markdown",
   "id": "5ca61801-0904-46b3-9eef-b2594c24e61b",
   "metadata": {},
   "source": [
    "# ANOMALOUS"
   ]
  },
  {
   "cell_type": "code",
   "execution_count": 26,
   "id": "d8a9008c-6ee3-463d-a9a7-8cf061a0cb58",
   "metadata": {},
   "outputs": [],
   "source": [
    "detector = ANOMALOUS(contamination=0.05)"
   ]
  },
  {
   "cell_type": "code",
   "execution_count": 27,
   "id": "28a51024-de79-4cee-b857-1706296b7b95",
   "metadata": {},
   "outputs": [
    {
     "data": {
      "text/plain": [
       "ANOMALOUS(contamination=0.05, epoch=100, gamma=1.0, gpu=None, lr=0.004,\n",
       "          verbose=0, weight_decay=0.0)"
      ]
     },
     "execution_count": 27,
     "metadata": {},
     "output_type": "execute_result"
    }
   ],
   "source": [
    "detector.fit(data)"
   ]
  },
  {
   "cell_type": "code",
   "execution_count": 28,
   "id": "1c3cf8ef-3fcd-4e15-b521-e4a960aa65ff",
   "metadata": {},
   "outputs": [
    {
     "name": "stderr",
     "output_type": "stream",
     "text": [
      "/home/csy/anaconda3/envs/temp_csy/lib/python3.8/site-packages/pygod/detector/anomalous.py:111: UserWarning: This detector is transductive only. Training from scratch with the input data.\n",
      "  warnings.warn(\"This detector is transductive only. \"\n"
     ]
    },
    {
     "name": "stdout",
     "output_type": "stream",
     "text": [
      "Labels:\n",
      "tensor([0, 0, 0,  ..., 0, 0, 0])\n",
      "Raw scores:\n",
      "tensor([0.0328, 0.0329, 0.0327,  ..., 0.0326, 0.0324, 0.0324])\n",
      "Probability:\n",
      "tensor([6.0319e-05, 7.6742e-05, 5.4724e-05,  ..., 4.5833e-05, 2.9440e-05,\n",
      "        3.0046e-05])\n",
      "Confidence:\n",
      "tensor([1., 1., 1.,  ..., 1., 1., 1.])\n"
     ]
    }
   ],
   "source": [
    "pred, score, prob, conf = detector.predict(data,\n",
    "                                           return_pred=True,\n",
    "                                           return_score=True,\n",
    "                                           return_prob=True,\n",
    "                                           return_conf=True)\n",
    "print('Labels:')\n",
    "print(pred)\n",
    "\n",
    "print('Raw scores:')\n",
    "print(score)\n",
    "\n",
    "print('Probability:')\n",
    "print(prob)\n",
    "\n",
    "print('Confidence:')\n",
    "print(conf)"
   ]
  },
  {
   "cell_type": "code",
   "execution_count": 30,
   "id": "0ebd4f05-c052-4ca9-88c0-989643c62f12",
   "metadata": {},
   "outputs": [
    {
     "name": "stdout",
     "output_type": "stream",
     "text": [
      "AUC Score: 0.34356989793041226\n"
     ]
    }
   ],
   "source": [
    "auc_score = eval_roc_auc(data.y, score)\n",
    "print('AUC Score:', auc_score)"
   ]
  },
  {
   "cell_type": "code",
   "execution_count": 31,
   "id": "a9e510ee-580a-429b-a484-811e065abb39",
   "metadata": {},
   "outputs": [
    {
     "name": "stderr",
     "output_type": "stream",
     "text": [
      "/home/csy/anaconda3/envs/temp_csy/lib/python3.8/site-packages/pygod/detector/anomalous.py:111: UserWarning: This detector is transductive only. Training from scratch with the input data.\n",
      "  warnings.warn(\"This detector is transductive only. \"\n"
     ]
    },
    {
     "data": {
      "text/plain": [
       "tensor([0, 0, 0,  ..., 0, 0, 0])"
      ]
     },
     "execution_count": 31,
     "metadata": {},
     "output_type": "execute_result"
    }
   ],
   "source": [
    "detector.predict(data)"
   ]
  },
  {
   "cell_type": "markdown",
   "id": "a1bb61bd-8b38-457f-af76-4f12468d2af3",
   "metadata": {},
   "source": [
    "# ONE"
   ]
  },
  {
   "cell_type": "code",
   "execution_count": 32,
   "id": "e7c52256-0cbb-458c-8a4d-9f297165d4af",
   "metadata": {},
   "outputs": [],
   "source": [
    "detector = ONE(contamination=0.05)"
   ]
  },
  {
   "cell_type": "code",
   "execution_count": 33,
   "id": "22896ebe-babf-49f4-8a0c-57c515492ca7",
   "metadata": {},
   "outputs": [
    {
     "data": {
      "text/plain": [
       "ONE(alpha=1.0, beta=1.0, contamination=0.05, epoch=5, gamma=1.0, gpu=None,\n",
       "    hid_a=36, hid_s=36, lr=0.004, verbose=0, weight_decay=0.0)"
      ]
     },
     "execution_count": 33,
     "metadata": {},
     "output_type": "execute_result"
    }
   ],
   "source": [
    "detector.fit(data)"
   ]
  },
  {
   "cell_type": "code",
   "execution_count": 34,
   "id": "fc153947-bdf8-4552-9371-c1149dda9141",
   "metadata": {},
   "outputs": [
    {
     "name": "stdout",
     "output_type": "stream",
     "text": [
      "Labels:\n",
      "tensor([1, 0, 0,  ..., 0, 0, 0])\n",
      "Raw scores:\n",
      "tensor([0.0005, 0.0003, 0.0003,  ..., 0.0004, 0.0004, 0.0003])\n",
      "Probability:\n",
      "tensor([0.6612, 0.2325, 0.2584,  ..., 0.4854, 0.5029, 0.3107])\n",
      "Confidence:\n",
      "tensor([0.6309, 1.0000, 1.0000,  ..., 1.0000, 1.0000, 1.0000])\n"
     ]
    },
    {
     "name": "stderr",
     "output_type": "stream",
     "text": [
      "/home/csy/anaconda3/envs/temp_csy/lib/python3.8/site-packages/pygod/detector/one.py:140: UserWarning: This detector is transductive only. Training from scratch with the input data.\n",
      "  warnings.warn(\"This detector is transductive only. \"\n"
     ]
    }
   ],
   "source": [
    "pred, score, prob, conf = detector.predict(data,\n",
    "                                           return_pred=True,\n",
    "                                           return_score=True,\n",
    "                                           return_prob=True,\n",
    "                                           return_conf=True)\n",
    "print('Labels:')\n",
    "print(pred)\n",
    "\n",
    "print('Raw scores:')\n",
    "print(score)\n",
    "\n",
    "print('Probability:')\n",
    "print(prob)\n",
    "\n",
    "print('Confidence:')\n",
    "print(conf)"
   ]
  },
  {
   "cell_type": "code",
   "execution_count": 36,
   "id": "22443eaa-e1cf-4b0f-88aa-a951bb778db9",
   "metadata": {},
   "outputs": [
    {
     "name": "stdout",
     "output_type": "stream",
     "text": [
      "AUC Score: 0.47641121073704384\n"
     ]
    }
   ],
   "source": [
    "auc_score = eval_roc_auc(data.y, score)\n",
    "print('AUC Score:', auc_score)"
   ]
  },
  {
   "cell_type": "code",
   "execution_count": 37,
   "id": "9769e783-6e1c-42ca-9144-5e3eb74304e4",
   "metadata": {},
   "outputs": [
    {
     "name": "stderr",
     "output_type": "stream",
     "text": [
      "/home/csy/anaconda3/envs/temp_csy/lib/python3.8/site-packages/pygod/detector/one.py:140: UserWarning: This detector is transductive only. Training from scratch with the input data.\n",
      "  warnings.warn(\"This detector is transductive only. \"\n"
     ]
    },
    {
     "data": {
      "text/plain": [
       "tensor([0, 1, 0,  ..., 0, 0, 0])"
      ]
     },
     "execution_count": 37,
     "metadata": {},
     "output_type": "execute_result"
    }
   ],
   "source": [
    "detector.predict(data)"
   ]
  },
  {
   "cell_type": "markdown",
   "id": "5e9f16b5-3f3e-4a8e-8e28-9e3707b8d58e",
   "metadata": {},
   "source": [
    "# DOMINANT"
   ]
  },
  {
   "cell_type": "code",
   "execution_count": 38,
   "id": "cee57d36-6b80-4198-8db1-97fc988d90ad",
   "metadata": {},
   "outputs": [],
   "source": [
    "detector = DOMINANT(contamination=0.05)"
   ]
  },
  {
   "cell_type": "code",
   "execution_count": 39,
   "id": "84e9dd53-994a-4d02-8b4d-0f393d275ecc",
   "metadata": {},
   "outputs": [
    {
     "name": "stderr",
     "output_type": "stream",
     "text": [
      "/home/csy/anaconda3/envs/temp_csy/lib/python3.8/site-packages/torch_geometric/sampler/neighbor_sampler.py:50: UserWarning: Using '{self.__class__.__name__}' without a 'pyg-lib' installation is deprecated and will be removed soon. Please install 'pyg-lib' for accelerated neighborhood sampling\n",
      "  warnings.warn(\"Using '{self.__class__.__name__}' without a \"\n"
     ]
    },
    {
     "data": {
      "text/plain": [
       "DOMINANT(act=<function relu at 0x7fc0a6db61f0>,\n",
       "         backbone=<class 'torch_geometric.nn.models.basic_gnn.GCN'>,\n",
       "         batch_size=2708, compile_model=False, contamination=0.05,\n",
       "         dropout=0.0, epoch=100, gpu=None, hid_dim=64, lr=0.004,\n",
       "         num_layers=4, num_neigh=[-1, -1, -1, -1], save_emb=False,\n",
       "         sigmoid_s=False, verbose=0, weight=0.5, weight_decay=0.0)"
      ]
     },
     "execution_count": 39,
     "metadata": {},
     "output_type": "execute_result"
    }
   ],
   "source": [
    "detector.fit(data)"
   ]
  },
  {
   "cell_type": "code",
   "execution_count": 40,
   "id": "4040a6ef-ee2e-48cb-8dde-0b7cc3d821cf",
   "metadata": {},
   "outputs": [
    {
     "name": "stdout",
     "output_type": "stream",
     "text": [
      "Labels:\n",
      "tensor([0, 0, 0,  ..., 0, 0, 0])\n",
      "Raw scores:\n",
      "tensor([1.0299, 0.9671, 1.2206,  ..., 0.6122, 1.1306, 1.1348])\n",
      "Probability:\n",
      "tensor([0.0779, 0.0668, 0.1116,  ..., 0.0040, 0.0957, 0.0964])\n",
      "Confidence:\n",
      "tensor([1., 1., 1.,  ..., 1., 1., 1.])\n"
     ]
    }
   ],
   "source": [
    "pred, score, prob, conf = detector.predict(data,\n",
    "                                           return_pred=True,\n",
    "                                           return_score=True,\n",
    "                                           return_prob=True,\n",
    "                                           return_conf=True)\n",
    "print('Labels:')\n",
    "print(pred)\n",
    "\n",
    "print('Raw scores:')\n",
    "print(score)\n",
    "\n",
    "print('Probability:')\n",
    "print(prob)\n",
    "\n",
    "print('Confidence:')\n",
    "print(conf)"
   ]
  },
  {
   "cell_type": "code",
   "execution_count": 41,
   "id": "49a4502d-5945-4fae-9626-3cf2d23e2253",
   "metadata": {},
   "outputs": [
    {
     "name": "stdout",
     "output_type": "stream",
     "text": [
      "AUC Score: 0.7674138611628039\n"
     ]
    }
   ],
   "source": [
    "auc_score = eval_roc_auc(data.y, score)\n",
    "print('AUC Score:', auc_score)"
   ]
  },
  {
   "cell_type": "code",
   "execution_count": 42,
   "id": "937e5013-7c67-45fd-89b6-af2128a2f783",
   "metadata": {},
   "outputs": [
    {
     "name": "stderr",
     "output_type": "stream",
     "text": [
      "/home/csy/anaconda3/envs/temp_csy/lib/python3.8/site-packages/torch_geometric/sampler/neighbor_sampler.py:50: UserWarning: Using '{self.__class__.__name__}' without a 'pyg-lib' installation is deprecated and will be removed soon. Please install 'pyg-lib' for accelerated neighborhood sampling\n",
      "  warnings.warn(\"Using '{self.__class__.__name__}' without a \"\n"
     ]
    },
    {
     "data": {
      "text/plain": [
       "tensor([0, 0, 0,  ..., 0, 0, 0])"
      ]
     },
     "execution_count": 42,
     "metadata": {},
     "output_type": "execute_result"
    }
   ],
   "source": [
    "detector.predict(data)"
   ]
  },
  {
   "cell_type": "markdown",
   "id": "072ca309-30e3-4aeb-8c6d-a6a5b748fdd0",
   "metadata": {},
   "source": [
    "# DONE"
   ]
  },
  {
   "cell_type": "code",
   "execution_count": 43,
   "id": "ad910f75-ebc0-49fa-be75-bb491a35e490",
   "metadata": {},
   "outputs": [],
   "source": [
    "detector = DONE(contamination=0.05)"
   ]
  },
  {
   "cell_type": "code",
   "execution_count": 44,
   "id": "937c6ad6-1106-458c-b4ea-fce9344f4791",
   "metadata": {},
   "outputs": [
    {
     "data": {
      "text/plain": [
       "DONE(act=<function relu at 0x7fc0a6db61f0>,\n",
       "     backbone=<class 'torch_geometric.nn.models.basic_gnn.GIN'>,\n",
       "     batch_size=2708, compile_model=False, contamination=0.05, dropout=0.0,\n",
       "     epoch=100, gpu=None, hid_dim=64, lr=0.004, num_layers=4,\n",
       "     num_neigh=[-1], save_emb=False, verbose=0, w1=0.2, w2=0.2, w3=0.2,\n",
       "     w4=0.2, w5=0.2, weight_decay=0.0)"
      ]
     },
     "execution_count": 44,
     "metadata": {},
     "output_type": "execute_result"
    }
   ],
   "source": [
    "detector.fit(data)"
   ]
  },
  {
   "cell_type": "code",
   "execution_count": 45,
   "id": "fb2ed544-a4ca-4fa5-884d-bf90757cb1b8",
   "metadata": {},
   "outputs": [
    {
     "name": "stderr",
     "output_type": "stream",
     "text": [
      "/home/csy/anaconda3/envs/temp_csy/lib/python3.8/site-packages/pygod/detector/done.py:217: UserWarning: This detector is transductive only. Training from scratch with the input data.\n",
      "  warnings.warn(\"This detector is transductive only. \"\n"
     ]
    },
    {
     "name": "stdout",
     "output_type": "stream",
     "text": [
      "Labels:\n",
      "tensor([0, 0, 0,  ..., 0, 0, 0])\n",
      "Raw scores:\n",
      "tensor([0.0004, 0.0003, 0.0004,  ..., 0.0003, 0.0002, 0.0002])\n",
      "Probability:\n",
      "tensor([0.0144, 0.0114, 0.0143,  ..., 0.0090, 0.0057, 0.0075])\n",
      "Confidence:\n",
      "tensor([1., 1., 1.,  ..., 1., 1., 1.])\n"
     ]
    }
   ],
   "source": [
    "pred, score, prob, conf = detector.predict(data,\n",
    "                                           return_pred=True,\n",
    "                                           return_score=True,\n",
    "                                           return_prob=True,\n",
    "                                           return_conf=True)\n",
    "print('Labels:')\n",
    "print(pred)\n",
    "\n",
    "print('Raw scores:')\n",
    "print(score)\n",
    "\n",
    "print('Probability:')\n",
    "print(prob)\n",
    "\n",
    "print('Confidence:')\n",
    "print(conf)"
   ]
  },
  {
   "cell_type": "code",
   "execution_count": 46,
   "id": "0b793497-5e21-4316-9eec-09c8464fdd10",
   "metadata": {},
   "outputs": [
    {
     "name": "stdout",
     "output_type": "stream",
     "text": [
      "AUC Score: 0.8193565668527604\n"
     ]
    }
   ],
   "source": [
    "auc_score = eval_roc_auc(data.y, score)\n",
    "print('AUC Score:', auc_score)"
   ]
  },
  {
   "cell_type": "code",
   "execution_count": 47,
   "id": "129f7420-8da8-4f6d-acb4-c0c085d16f22",
   "metadata": {},
   "outputs": [
    {
     "name": "stderr",
     "output_type": "stream",
     "text": [
      "/home/csy/anaconda3/envs/temp_csy/lib/python3.8/site-packages/pygod/detector/done.py:217: UserWarning: This detector is transductive only. Training from scratch with the input data.\n",
      "  warnings.warn(\"This detector is transductive only. \"\n",
      "/home/csy/anaconda3/envs/temp_csy/lib/python3.8/site-packages/torch_geometric/sampler/neighbor_sampler.py:50: UserWarning: Using '{self.__class__.__name__}' without a 'pyg-lib' installation is deprecated and will be removed soon. Please install 'pyg-lib' for accelerated neighborhood sampling\n",
      "  warnings.warn(\"Using '{self.__class__.__name__}' without a \"\n"
     ]
    },
    {
     "data": {
      "text/plain": [
       "tensor([0, 0, 0,  ..., 0, 0, 0])"
      ]
     },
     "execution_count": 47,
     "metadata": {},
     "output_type": "execute_result"
    }
   ],
   "source": [
    "detector.predict(data)"
   ]
  },
  {
   "cell_type": "markdown",
   "id": "2607ae55-ed1f-4eaa-9556-e62ea373ac42",
   "metadata": {},
   "source": [
    "# AdONE"
   ]
  },
  {
   "cell_type": "code",
   "execution_count": 48,
   "id": "c6fb3982-580b-45cf-bc48-2891f1aab4de",
   "metadata": {},
   "outputs": [],
   "source": [
    "detector = AdONE(contamination=0.05)"
   ]
  },
  {
   "cell_type": "code",
   "execution_count": 49,
   "id": "a6228a66-db49-4a5a-8e7d-d5a3ce1b3471",
   "metadata": {},
   "outputs": [
    {
     "data": {
      "text/plain": [
       "AdONE(act=<function relu at 0x7fc0a6db61f0>,\n",
       "      backbone=<class 'torch_geometric.nn.models.basic_gnn.GIN'>,\n",
       "      batch_size=2708, compile_model=False, contamination=0.05,\n",
       "      dropout=0.0, epoch=100, gpu=None, hid_dim=64, lr=0.004, num_layers=4,\n",
       "      num_neigh=[-1], save_emb=False, verbose=0, w1=0.2, w2=0.2, w3=0.2,\n",
       "      w4=0.2, w5=0.2, weight_decay=0.0)"
      ]
     },
     "execution_count": 49,
     "metadata": {},
     "output_type": "execute_result"
    }
   ],
   "source": [
    "detector.fit(data)"
   ]
  },
  {
   "cell_type": "code",
   "execution_count": 50,
   "id": "363b0d5f-e49a-457a-b2e4-f21d35263a07",
   "metadata": {},
   "outputs": [
    {
     "name": "stderr",
     "output_type": "stream",
     "text": [
      "/home/csy/anaconda3/envs/temp_csy/lib/python3.8/site-packages/pygod/detector/adone.py:220: UserWarning: This detector is transductive only. Training from scratch with the input data.\n",
      "  warnings.warn(\"This detector is transductive only. \"\n"
     ]
    },
    {
     "name": "stdout",
     "output_type": "stream",
     "text": [
      "Labels:\n",
      "tensor([0, 0, 0,  ..., 1, 0, 0])\n",
      "Raw scores:\n",
      "tensor([0.0004, 0.0004, 0.0004,  ..., 0.0007, 0.0003, 0.0003])\n",
      "Probability:\n",
      "tensor([0.0061, 0.0059, 0.0063,  ..., 0.0160, 0.0045, 0.0045])\n",
      "Confidence:\n",
      "tensor([1.0000, 1.0000, 1.0000,  ..., 0.6644, 1.0000, 1.0000])\n"
     ]
    }
   ],
   "source": [
    "pred, score, prob, conf = detector.predict(data,\n",
    "                                           return_pred=True,\n",
    "                                           return_score=True,\n",
    "                                           return_prob=True,\n",
    "                                           return_conf=True)\n",
    "print('Labels:')\n",
    "print(pred)\n",
    "\n",
    "print('Raw scores:')\n",
    "print(score)\n",
    "\n",
    "print('Probability:')\n",
    "print(prob)\n",
    "\n",
    "print('Confidence:')\n",
    "print(conf)"
   ]
  },
  {
   "cell_type": "code",
   "execution_count": 51,
   "id": "8bb1ad49-1d16-4ec4-a80f-7d7abd489320",
   "metadata": {},
   "outputs": [
    {
     "name": "stdout",
     "output_type": "stream",
     "text": [
      "AUC Score: 0.8176958213500254\n"
     ]
    }
   ],
   "source": [
    "auc_score = eval_roc_auc(data.y, score)\n",
    "print('AUC Score:', auc_score)"
   ]
  },
  {
   "cell_type": "code",
   "execution_count": 52,
   "id": "97c7d904-99a7-4f32-80ec-a64a892c3169",
   "metadata": {},
   "outputs": [
    {
     "name": "stderr",
     "output_type": "stream",
     "text": [
      "/home/csy/anaconda3/envs/temp_csy/lib/python3.8/site-packages/pygod/detector/adone.py:220: UserWarning: This detector is transductive only. Training from scratch with the input data.\n",
      "  warnings.warn(\"This detector is transductive only. \"\n",
      "/home/csy/anaconda3/envs/temp_csy/lib/python3.8/site-packages/torch_geometric/sampler/neighbor_sampler.py:50: UserWarning: Using '{self.__class__.__name__}' without a 'pyg-lib' installation is deprecated and will be removed soon. Please install 'pyg-lib' for accelerated neighborhood sampling\n",
      "  warnings.warn(\"Using '{self.__class__.__name__}' without a \"\n"
     ]
    },
    {
     "data": {
      "text/plain": [
       "tensor([0, 0, 0,  ..., 0, 0, 0])"
      ]
     },
     "execution_count": 52,
     "metadata": {},
     "output_type": "execute_result"
    }
   ],
   "source": [
    "detector.predict(data)"
   ]
  },
  {
   "cell_type": "markdown",
   "id": "ed56e7f3-1166-4e5e-bb70-adb85f80db3b",
   "metadata": {},
   "source": [
    "# AnomalyDAE"
   ]
  },
  {
   "cell_type": "code",
   "execution_count": 53,
   "id": "f93051ca-ec98-44d6-b24d-d23c82e9e643",
   "metadata": {},
   "outputs": [],
   "source": [
    "detector = AnomalyDAE(contamination=0.05)"
   ]
  },
  {
   "cell_type": "code",
   "execution_count": 54,
   "id": "a08f576d-d8d6-44d5-b16c-6e1ce4dd2e15",
   "metadata": {},
   "outputs": [
    {
     "data": {
      "text/plain": [
       "AnomalyDAE(act=<function relu at 0x7fc0a6db61f0>, alpha=0.5, backbone=None,\n",
       "           batch_size=2708, compile_model=False, contamination=0.05,\n",
       "           dropout=0.0, emb_dim=64, epoch=5, eta=1.0, gpu=None, hid_dim=64,\n",
       "           lr=0.004, num_layers=4, num_neigh=[-1, -1, -1, -1],\n",
       "           save_emb=False, theta=1.0, verbose=0, weight_decay=0.0)"
      ]
     },
     "execution_count": 54,
     "metadata": {},
     "output_type": "execute_result"
    }
   ],
   "source": [
    "detector.fit(data)"
   ]
  },
  {
   "cell_type": "code",
   "execution_count": 55,
   "id": "966c8efd-cd7c-4e84-91b7-3230b46ed3db",
   "metadata": {},
   "outputs": [
    {
     "name": "stdout",
     "output_type": "stream",
     "text": [
      "Labels:\n",
      "tensor([0, 0, 0,  ..., 1, 0, 0])\n",
      "Raw scores:\n",
      "tensor([13.3267, 13.3064, 13.3163,  ..., 13.3551, 13.3328, 13.3346])\n",
      "Probability:\n",
      "tensor([0.4702, 0.3900, 0.4291,  ..., 0.5820, 0.4940, 0.5013])\n",
      "Confidence:\n",
      "tensor([0.9993, 1.0000, 1.0000,  ..., 1.0000, 0.9288, 0.6767])\n"
     ]
    }
   ],
   "source": [
    "pred, score, prob, conf = detector.predict(data,\n",
    "                                           return_pred=True,\n",
    "                                           return_score=True,\n",
    "                                           return_prob=True,\n",
    "                                           return_conf=True)\n",
    "print('Labels:')\n",
    "print(pred)\n",
    "\n",
    "print('Raw scores:')\n",
    "print(score)\n",
    "\n",
    "print('Probability:')\n",
    "print(prob)\n",
    "\n",
    "print('Confidence:')\n",
    "print(conf)"
   ]
  },
  {
   "cell_type": "code",
   "execution_count": 57,
   "id": "7e10e878-10e7-448e-91e3-998ce5c023cd",
   "metadata": {},
   "outputs": [
    {
     "name": "stdout",
     "output_type": "stream",
     "text": [
      "AUC Score: 0.7103648564822648\n"
     ]
    }
   ],
   "source": [
    "auc_score = eval_roc_auc(data.y, score)\n",
    "print('AUC Score:', auc_score)"
   ]
  },
  {
   "cell_type": "code",
   "execution_count": 58,
   "id": "ace7400f-b9cc-4bc4-b4fc-f7c28df273cf",
   "metadata": {},
   "outputs": [
    {
     "name": "stderr",
     "output_type": "stream",
     "text": [
      "/home/csy/anaconda3/envs/temp_csy/lib/python3.8/site-packages/torch_geometric/sampler/neighbor_sampler.py:50: UserWarning: Using '{self.__class__.__name__}' without a 'pyg-lib' installation is deprecated and will be removed soon. Please install 'pyg-lib' for accelerated neighborhood sampling\n",
      "  warnings.warn(\"Using '{self.__class__.__name__}' without a \"\n"
     ]
    },
    {
     "data": {
      "text/plain": [
       "tensor([0, 0, 0,  ..., 1, 0, 0])"
      ]
     },
     "execution_count": 58,
     "metadata": {},
     "output_type": "execute_result"
    }
   ],
   "source": [
    "detector.predict(data)"
   ]
  },
  {
   "cell_type": "markdown",
   "id": "d35d2bf6-ac18-418a-8be6-851969362ad7",
   "metadata": {},
   "source": [
    "# GAAN"
   ]
  },
  {
   "cell_type": "code",
   "execution_count": 89,
   "id": "523d4040-9d39-44d3-b11b-7a345b21597c",
   "metadata": {},
   "outputs": [],
   "source": [
    "detector = GAAN(contamination=0.05)"
   ]
  },
  {
   "cell_type": "code",
   "execution_count": 90,
   "id": "95b93e70-a4ff-462f-91ba-b7e649ed8c08",
   "metadata": {},
   "outputs": [
    {
     "data": {
      "text/plain": [
       "GAAN(act=<function relu at 0x7fc0a6db61f0>,\n",
       "     backbone=<class 'torch_geometric.nn.models.basic_gnn.GIN'>,\n",
       "     batch_size=2708, compile_model=False, contamination=0.05, dropout=0.0,\n",
       "     epoch=100, gpu=None, hid_dim=64, lr=0.004, noise_dim=16, num_layers=4,\n",
       "     num_neigh=[0, 0, 0, 0], save_emb=False, verbose=0, weight=0.5,\n",
       "     weight_decay=0.0)"
      ]
     },
     "execution_count": 90,
     "metadata": {},
     "output_type": "execute_result"
    }
   ],
   "source": [
    "detector.fit(data)"
   ]
  },
  {
   "cell_type": "code",
   "execution_count": 91,
   "id": "1353cca0-81f9-48f8-89db-e27340b6ab19",
   "metadata": {},
   "outputs": [
    {
     "name": "stdout",
     "output_type": "stream",
     "text": [
      "Labels:\n",
      "tensor([0, 0, 0,  ..., 0, 0, 0])\n",
      "Raw scores:\n",
      "tensor([ 5.7676,  9.2353, 10.9062,  ...,  7.3059,  8.5299, 10.1563])\n",
      "Probability:\n",
      "tensor([nan, nan, nan,  ..., nan, nan, nan])\n",
      "Confidence:\n",
      "tensor([1.0000, 1.0000, 0.3032,  ..., 1.0000, 1.0000, 1.0000])\n"
     ]
    }
   ],
   "source": [
    "pred, score, prob, conf = detector.predict(data,\n",
    "                                           return_pred=True,\n",
    "                                           return_score=True,\n",
    "                                           return_prob=True,\n",
    "                                           return_conf=True)\n",
    "print('Labels:')\n",
    "print(pred)\n",
    "\n",
    "print('Raw scores:')\n",
    "print(score)\n",
    "\n",
    "print('Probability:')\n",
    "print(prob)\n",
    "\n",
    "print('Confidence:')\n",
    "print(conf)"
   ]
  },
  {
   "cell_type": "code",
   "execution_count": 102,
   "id": "613e94da-988c-4205-9395-8bc1a43b8a20",
   "metadata": {},
   "outputs": [
    {
     "name": "stdout",
     "output_type": "stream",
     "text": [
      "[459, 915, 1035, 1783]\n"
     ]
    }
   ],
   "source": [
    "indices = [index for index, value in enumerate(score) if np.isnan(value)]\n",
    "print(indices)"
   ]
  },
  {
   "cell_type": "code",
   "execution_count": null,
   "id": "7633e316-444c-4f04-9dc3-6443a5e38429",
   "metadata": {},
   "outputs": [],
   "source": [
    "values_except_indices = [value for index, value in enumerate(data.y) if index not in indices]\n",
    "print(values_except_indices)"
   ]
  },
  {
   "cell_type": "code",
   "execution_count": null,
   "id": "4212bd31-b299-4f5f-994c-50c3c3ae51f8",
   "metadata": {},
   "outputs": [],
   "source": [
    "values_except_indices_score = [value for index, value in enumerate(score) if index not in indices]\n",
    "print(values_except_indices_score)"
   ]
  },
  {
   "cell_type": "code",
   "execution_count": 110,
   "id": "bf15254e-107f-4ae0-bddc-142203219f2d",
   "metadata": {},
   "outputs": [
    {
     "name": "stdout",
     "output_type": "stream",
     "text": [
      "AUC Score: 0.5648063186015447\n"
     ]
    }
   ],
   "source": [
    "auc_score = eval_roc_auc(values_except_indices, values_except_indices_score)\n",
    "print('AUC Score:', auc_score)"
   ]
  },
  {
   "cell_type": "code",
   "execution_count": 111,
   "id": "18e948e2-6f81-4cb4-b83c-0c2a01744f0f",
   "metadata": {},
   "outputs": [
    {
     "name": "stderr",
     "output_type": "stream",
     "text": [
      "/home/csy/anaconda3/envs/temp_csy/lib/python3.8/site-packages/torch_geometric/sampler/neighbor_sampler.py:50: UserWarning: Using '{self.__class__.__name__}' without a 'pyg-lib' installation is deprecated and will be removed soon. Please install 'pyg-lib' for accelerated neighborhood sampling\n",
      "  warnings.warn(\"Using '{self.__class__.__name__}' without a \"\n"
     ]
    },
    {
     "data": {
      "text/plain": [
       "tensor([0, 0, 0,  ..., 0, 0, 0])"
      ]
     },
     "execution_count": 111,
     "metadata": {},
     "output_type": "execute_result"
    }
   ],
   "source": [
    "detector.predict(data)"
   ]
  },
  {
   "cell_type": "markdown",
   "id": "49f8402a-5d06-423a-9d20-35a190ab669b",
   "metadata": {},
   "source": [
    "# OCGNN"
   ]
  },
  {
   "cell_type": "code",
   "execution_count": 67,
   "id": "6a222cfd-367c-41e6-9b1f-79146ccd2dfa",
   "metadata": {},
   "outputs": [],
   "source": [
    "detector = OCGNN(contamination=0.05)"
   ]
  },
  {
   "cell_type": "code",
   "execution_count": 68,
   "id": "0d9a4424-5b99-47eb-98aa-d458b4e31f74",
   "metadata": {},
   "outputs": [
    {
     "data": {
      "text/plain": [
       "OCGNN(act=<function relu at 0x7fc0a6db61f0>,\n",
       "      backbone=<class 'torch_geometric.nn.models.basic_gnn.GCN'>,\n",
       "      batch_size=2708, beta=0.5, compile_model=False, contamination=0.05,\n",
       "      dropout=0.0, epoch=100, eps=0.001, gpu=None, hid_dim=64, lr=0.004,\n",
       "      num_layers=2, num_neigh=[-1, -1], save_emb=False, verbose=0,\n",
       "      warmup=2, weight_decay=0.0)"
      ]
     },
     "execution_count": 68,
     "metadata": {},
     "output_type": "execute_result"
    }
   ],
   "source": [
    "detector.fit(data)"
   ]
  },
  {
   "cell_type": "code",
   "execution_count": 69,
   "id": "43a001d4-c161-470f-b0d0-dda496b7d013",
   "metadata": {},
   "outputs": [
    {
     "name": "stdout",
     "output_type": "stream",
     "text": [
      "Labels:\n",
      "tensor([1, 1, 1,  ..., 1, 1, 1])\n",
      "Raw scores:\n",
      "tensor([-0.0027, -0.0027, -0.0027,  ..., -0.0027, -0.0027, -0.0027])\n",
      "Probability:\n",
      "tensor([0.4665, 0.4665, 0.4665,  ..., 0.4665, 0.4665, 0.4665])\n",
      "Confidence:\n",
      "tensor([1., 1., 1.,  ..., 1., 1., 1.])\n"
     ]
    }
   ],
   "source": [
    "pred, score, prob, conf = detector.predict(data,\n",
    "                                           return_pred=True,\n",
    "                                           return_score=True,\n",
    "                                           return_prob=True,\n",
    "                                           return_conf=True)\n",
    "print('Labels:')\n",
    "print(pred)\n",
    "\n",
    "print('Raw scores:')\n",
    "print(score)\n",
    "\n",
    "print('Probability:')\n",
    "print(prob)\n",
    "\n",
    "print('Confidence:')\n",
    "print(conf)"
   ]
  },
  {
   "cell_type": "code",
   "execution_count": 70,
   "id": "6a7a002b-943f-45ff-999a-50eba8c651e7",
   "metadata": {},
   "outputs": [
    {
     "name": "stdout",
     "output_type": "stream",
     "text": [
      "AUC Score: 0.49961089494163424\n"
     ]
    }
   ],
   "source": [
    "auc_score = eval_roc_auc(data.y, score)\n",
    "print('AUC Score:', auc_score)"
   ]
  },
  {
   "cell_type": "code",
   "execution_count": 71,
   "id": "6a986c44-e177-4905-9c71-1ac78d14e1a1",
   "metadata": {},
   "outputs": [
    {
     "name": "stderr",
     "output_type": "stream",
     "text": [
      "/home/csy/anaconda3/envs/temp_csy/lib/python3.8/site-packages/torch_geometric/sampler/neighbor_sampler.py:50: UserWarning: Using '{self.__class__.__name__}' without a 'pyg-lib' installation is deprecated and will be removed soon. Please install 'pyg-lib' for accelerated neighborhood sampling\n",
      "  warnings.warn(\"Using '{self.__class__.__name__}' without a \"\n"
     ]
    },
    {
     "data": {
      "text/plain": [
       "tensor([1, 1, 1,  ..., 1, 1, 1])"
      ]
     },
     "execution_count": 71,
     "metadata": {},
     "output_type": "execute_result"
    }
   ],
   "source": [
    "detector.predict(data)"
   ]
  },
  {
   "cell_type": "markdown",
   "id": "6844ffbb-7a09-4e87-9a64-f9c2cea11097",
   "metadata": {},
   "source": [
    "# CoLA"
   ]
  },
  {
   "cell_type": "code",
   "execution_count": 72,
   "id": "87b0aea3-03ec-4f19-93c7-7d77547b613b",
   "metadata": {},
   "outputs": [],
   "source": [
    "detector = CoLA(contamination=0.05)"
   ]
  },
  {
   "cell_type": "code",
   "execution_count": 73,
   "id": "36f0040c-c3c8-45a6-8f2e-3f42b679f1c1",
   "metadata": {},
   "outputs": [
    {
     "data": {
      "text/plain": [
       "CoLA(act=<function relu at 0x7fc0a6db61f0>,\n",
       "     backbone=<class 'torch_geometric.nn.models.basic_gnn.GCN'>,\n",
       "     batch_size=2708, compile_model=False, contamination=0.05, dropout=0.0,\n",
       "     epoch=100, gpu=None, hid_dim=64, lr=0.004, num_layers=4,\n",
       "     num_neigh=[-1, -1, -1, -1], save_emb=False, verbose=0,\n",
       "     weight_decay=0.0)"
      ]
     },
     "execution_count": 73,
     "metadata": {},
     "output_type": "execute_result"
    }
   ],
   "source": [
    "detector.fit(data)"
   ]
  },
  {
   "cell_type": "code",
   "execution_count": 74,
   "id": "4985f7ab-9160-446a-8126-b97f38e5c407",
   "metadata": {},
   "outputs": [
    {
     "name": "stdout",
     "output_type": "stream",
     "text": [
      "Labels:\n",
      "tensor([0, 0, 0,  ..., 0, 0, 0])\n",
      "Raw scores:\n",
      "tensor([ -4.8481,  -1.8666,  -8.1737,  ...,  -1.4098, -23.5582,  -2.9994])\n",
      "Probability:\n",
      "tensor([0.8340, 0.8850, 0.7772,  ..., 0.8928, 0.5143, 0.8656])\n",
      "Confidence:\n",
      "tensor([1., 1., 1.,  ..., 1., 1., 1.])\n"
     ]
    }
   ],
   "source": [
    "pred, score, prob, conf = detector.predict(data,\n",
    "                                           return_pred=True,\n",
    "                                           return_score=True,\n",
    "                                           return_prob=True,\n",
    "                                           return_conf=True)\n",
    "print('Labels:')\n",
    "print(pred)\n",
    "\n",
    "print('Raw scores:')\n",
    "print(score)\n",
    "\n",
    "print('Probability:')\n",
    "print(prob)\n",
    "\n",
    "print('Confidence:')\n",
    "print(conf)"
   ]
  },
  {
   "cell_type": "code",
   "execution_count": 75,
   "id": "dd8863c0-8148-4c27-8ac8-121226bbdef7",
   "metadata": {},
   "outputs": [
    {
     "name": "stdout",
     "output_type": "stream",
     "text": [
      "AUC Score: 0.5846472678057859\n"
     ]
    }
   ],
   "source": [
    "auc_score = eval_roc_auc(data.y, score)\n",
    "print('AUC Score:', auc_score)"
   ]
  },
  {
   "cell_type": "code",
   "execution_count": 76,
   "id": "61773db2-0c09-42ba-b114-f00863d99ecb",
   "metadata": {},
   "outputs": [
    {
     "name": "stderr",
     "output_type": "stream",
     "text": [
      "/home/csy/anaconda3/envs/temp_csy/lib/python3.8/site-packages/torch_geometric/sampler/neighbor_sampler.py:50: UserWarning: Using '{self.__class__.__name__}' without a 'pyg-lib' installation is deprecated and will be removed soon. Please install 'pyg-lib' for accelerated neighborhood sampling\n",
      "  warnings.warn(\"Using '{self.__class__.__name__}' without a \"\n"
     ]
    },
    {
     "data": {
      "text/plain": [
       "tensor([0, 0, 0,  ..., 0, 0, 1])"
      ]
     },
     "execution_count": 76,
     "metadata": {},
     "output_type": "execute_result"
    }
   ],
   "source": [
    "detector.predict(data)"
   ]
  },
  {
   "cell_type": "markdown",
   "id": "b25907bd-3e2a-49c9-83ce-fde28958c68c",
   "metadata": {},
   "source": [
    "# GUIDE"
   ]
  },
  {
   "cell_type": "code",
   "execution_count": 84,
   "id": "5028f1b5-90b3-4650-9aa2-71425ed258e2",
   "metadata": {},
   "outputs": [],
   "source": [
    "detector = GUIDE(contamination=0.05)"
   ]
  },
  {
   "cell_type": "code",
   "execution_count": 85,
   "id": "0346c1f7-0918-4720-ab06-0a60f77d94ed",
   "metadata": {},
   "outputs": [
    {
     "data": {
      "text/plain": [
       "GUIDE(act=<function relu at 0x7fc0a6db61f0>, alpha=0.5, backbone=None,\n",
       "      batch_size=2708, cache_dir=None, compile_model=False,\n",
       "      contamination=0.05, dropout=0.0, epoch=100, gpu=None,\n",
       "      graphlet_size=4, hid_a=None, hid_s=None, lr=0.004, num_layers=4,\n",
       "      num_neigh=[-1, -1, -1, -1], save_emb=False, selected_motif=True,\n",
       "      verbose=0, weight_decay=0.0)"
      ]
     },
     "execution_count": 85,
     "metadata": {},
     "output_type": "execute_result"
    }
   ],
   "source": [
    "detector.fit(data)"
   ]
  },
  {
   "cell_type": "code",
   "execution_count": 86,
   "id": "def74405-4605-4afd-84fd-727b47b3767c",
   "metadata": {},
   "outputs": [
    {
     "name": "stdout",
     "output_type": "stream",
     "text": [
      "Labels:\n",
      "tensor([0, 0, 0,  ..., 0, 0, 0])\n",
      "Raw scores:\n",
      "tensor([2.0098, 1.6367, 7.5997,  ..., 1.5903, 3.3043, 4.8700])\n",
      "Probability:\n",
      "tensor([0.0002, 0.0001, 0.0010,  ..., 0.0001, 0.0004, 0.0006])\n",
      "Confidence:\n",
      "tensor([1., 1., 1.,  ..., 1., 1., 1.])\n"
     ]
    }
   ],
   "source": [
    "pred, score, prob, conf = detector.predict(data,\n",
    "                                           return_pred=True,\n",
    "                                           return_score=True,\n",
    "                                           return_prob=True,\n",
    "                                           return_conf=True)\n",
    "print('Labels:')\n",
    "print(pred)\n",
    "\n",
    "print('Raw scores:')\n",
    "print(score)\n",
    "\n",
    "print('Probability:')\n",
    "print(prob)\n",
    "\n",
    "print('Confidence:')\n",
    "print(conf)"
   ]
  },
  {
   "cell_type": "code",
   "execution_count": 87,
   "id": "d9e0db88-9a97-497a-b192-e3681c8ba4ad",
   "metadata": {},
   "outputs": [
    {
     "name": "stdout",
     "output_type": "stream",
     "text": [
      "AUC Score: 0.7460300005639204\n"
     ]
    }
   ],
   "source": [
    "auc_score = eval_roc_auc(data.y, score)\n",
    "print('AUC Score:', auc_score)"
   ]
  },
  {
   "cell_type": "code",
   "execution_count": 88,
   "id": "29b5d05c-3bb8-4ede-8aa3-1119a380a9ef",
   "metadata": {},
   "outputs": [
    {
     "name": "stderr",
     "output_type": "stream",
     "text": [
      "/home/csy/anaconda3/envs/temp_csy/lib/python3.8/site-packages/torch_geometric/sampler/neighbor_sampler.py:50: UserWarning: Using '{self.__class__.__name__}' without a 'pyg-lib' installation is deprecated and will be removed soon. Please install 'pyg-lib' for accelerated neighborhood sampling\n",
      "  warnings.warn(\"Using '{self.__class__.__name__}' without a \"\n"
     ]
    },
    {
     "data": {
      "text/plain": [
       "tensor([0, 0, 0,  ..., 0, 0, 0])"
      ]
     },
     "execution_count": 88,
     "metadata": {},
     "output_type": "execute_result"
    }
   ],
   "source": [
    "detector.predict(data)"
   ]
  },
  {
   "cell_type": "markdown",
   "id": "d6d8f976-9e00-450b-9034-bc995d9cdb9a",
   "metadata": {},
   "source": [
    "# CONAD"
   ]
  },
  {
   "cell_type": "code",
   "execution_count": 79,
   "id": "f626326a-6d53-4b07-bd16-6eb0d4e4d116",
   "metadata": {},
   "outputs": [],
   "source": [
    "detector = CONAD(contamination=0.05)"
   ]
  },
  {
   "cell_type": "code",
   "execution_count": 80,
   "id": "ce915947-2cd0-44ec-9618-2e41e8d6cd40",
   "metadata": {},
   "outputs": [
    {
     "data": {
      "text/plain": [
       "CONAD(act=<function relu at 0x7fc0a6db61f0>,\n",
       "      backbone=<class 'torch_geometric.nn.models.basic_gnn.GCN'>,\n",
       "      batch_size=2708, compile_model=False, contamination=0.05,\n",
       "      dropout=0.0, epoch=100, eta=0.5, f=10, gpu=None, hid_dim=64, k=50,\n",
       "      lr=0.004, m=50, margin=None, num_layers=4,\n",
       "      num_neigh=[-1, -1, -1, -1], r=0.2, save_emb=False, sigmoid_s=False,\n",
       "      verbose=0, weight=0.5, weight_decay=0.0)"
      ]
     },
     "execution_count": 80,
     "metadata": {},
     "output_type": "execute_result"
    }
   ],
   "source": [
    "detector.fit(data)"
   ]
  },
  {
   "cell_type": "code",
   "execution_count": 81,
   "id": "d6a46bfc-8a28-4d41-a1b9-98bf90239fee",
   "metadata": {},
   "outputs": [
    {
     "name": "stdout",
     "output_type": "stream",
     "text": [
      "Labels:\n",
      "tensor([0, 0, 0,  ..., 0, 0, 0])\n",
      "Raw scores:\n",
      "tensor([1.0205, 0.9653, 1.2166,  ..., 0.6145, 1.1203, 1.1154])\n",
      "Probability:\n",
      "tensor([0.0960, 0.0847, 0.1363,  ..., 0.0126, 0.1165, 0.1155])\n",
      "Confidence:\n",
      "tensor([1., 1., 1.,  ..., 1., 1., 1.])\n"
     ]
    }
   ],
   "source": [
    "pred, score, prob, conf = detector.predict(data,\n",
    "                                           return_pred=True,\n",
    "                                           return_score=True,\n",
    "                                           return_prob=True,\n",
    "                                           return_conf=True)\n",
    "print('Labels:')\n",
    "print(pred)\n",
    "\n",
    "print('Raw scores:')\n",
    "print(score)\n",
    "\n",
    "print('Probability:')\n",
    "print(prob)\n",
    "\n",
    "print('Confidence:')\n",
    "print(conf)"
   ]
  },
  {
   "cell_type": "code",
   "execution_count": 82,
   "id": "064bf77b-7cf8-436f-a54c-78847500d6cd",
   "metadata": {},
   "outputs": [
    {
     "name": "stdout",
     "output_type": "stream",
     "text": [
      "AUC Score: 0.7700304517002199\n"
     ]
    }
   ],
   "source": [
    "auc_score = eval_roc_auc(data.y, score)\n",
    "print('AUC Score:', auc_score)"
   ]
  },
  {
   "cell_type": "code",
   "execution_count": 83,
   "id": "5238ee32-2394-402c-bc79-f8b71f89dadf",
   "metadata": {},
   "outputs": [
    {
     "name": "stderr",
     "output_type": "stream",
     "text": [
      "/home/csy/anaconda3/envs/temp_csy/lib/python3.8/site-packages/torch_geometric/sampler/neighbor_sampler.py:50: UserWarning: Using '{self.__class__.__name__}' without a 'pyg-lib' installation is deprecated and will be removed soon. Please install 'pyg-lib' for accelerated neighborhood sampling\n",
      "  warnings.warn(\"Using '{self.__class__.__name__}' without a \"\n"
     ]
    },
    {
     "data": {
      "text/plain": [
       "tensor([0, 0, 0,  ..., 0, 0, 0])"
      ]
     },
     "execution_count": 83,
     "metadata": {},
     "output_type": "execute_result"
    }
   ],
   "source": [
    "detector.predict(data)"
   ]
  },
  {
   "cell_type": "code",
   "execution_count": null,
   "id": "b294f1b3-f4aa-4d8b-86c4-3aa3e2a56150",
   "metadata": {},
   "outputs": [],
   "source": []
  },
  {
   "cell_type": "code",
   "execution_count": null,
   "id": "f77c136b-63d2-4473-b571-c0b3d0c72043",
   "metadata": {},
   "outputs": [],
   "source": []
  }
 ],
 "metadata": {
  "kernelspec": {
   "display_name": "Python 3",
   "language": "python",
   "name": "python3"
  },
  "language_info": {
   "codemirror_mode": {
    "name": "ipython",
    "version": 3
   },
   "file_extension": ".py",
   "mimetype": "text/x-python",
   "name": "python",
   "nbconvert_exporter": "python",
   "pygments_lexer": "ipython3",
   "version": "3.8.0"
  }
 },
 "nbformat": 4,
 "nbformat_minor": 5
}

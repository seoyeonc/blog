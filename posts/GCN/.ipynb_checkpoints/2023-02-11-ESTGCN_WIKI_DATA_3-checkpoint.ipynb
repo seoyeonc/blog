{
 "cells": [
  {
   "cell_type": "raw",
   "id": "8e90f49b-a002-4301-9656-147f3e4b8c46",
   "metadata": {
    "id": "cac470df-29e7-4148-9bbd-d8b9a32fa570",
    "tags": []
   },
   "source": [
    "---\n",
    "title: \"Class of Method(WikiMath) lag 4 80% repeat\"\n",
    "author: \"SEOYEON CHOI\"\n",
    "date: \"2023-02-11\"\n",
    "categories:\n",
    "  - ST-GCN\n",
    "---"
   ]
  },
  {
   "cell_type": "markdown",
   "id": "ccf50ae2-58ec-4c6e-9cc8-393c473767eb",
   "metadata": {},
   "source": [
    "> ST-GCN Dataset WikiMathsDatasetLoader"
   ]
  },
  {
   "cell_type": "markdown",
   "id": "1463f6e7-0b6c-490d-b7ee-4022ce4345a8",
   "metadata": {
    "tags": []
   },
   "source": [
    "# import"
   ]
  },
  {
   "cell_type": "code",
   "execution_count": 111,
   "id": "f90af573-4bc0-4c9e-ad94-e9739160055e",
   "metadata": {},
   "outputs": [],
   "source": [
    "import numpy as np\n",
    "import pandas as pd\n",
    "import matplotlib.pyplot as plt\n",
    "from matplotlib import animation\n",
    "\n",
    "# torch\n",
    "import torch\n",
    "import torch.nn.functional as F\n",
    "from torch_geometric_temporal.nn.recurrent import GConvGRU\n",
    "\n",
    "# scipy \n",
    "from scipy.interpolate import interp1d\n",
    "\n",
    "# utils\n",
    "import time\n",
    "import pickle\n",
    "from tqdm import tqdm\n",
    "\n",
    "# rpy2\n",
    "import rpy2\n",
    "import rpy2.robjects as ro \n",
    "from rpy2.robjects.vectors import FloatVector \n",
    "from rpy2.robjects.packages import importr\n",
    "\n",
    "import copy\n",
    "\n",
    "import rpy2.robjects.numpy2ri as rpyn\n",
    "import rpy2.robjects as robjects"
   ]
  },
  {
   "cell_type": "code",
   "execution_count": 2,
   "id": "dbbe91df-66c9-46da-abf9-379f37061d5e",
   "metadata": {},
   "outputs": [],
   "source": [
    "class RecurrentGCN(torch.nn.Module):\n",
    "    def __init__(self, node_features, filters):\n",
    "        super(RecurrentGCN, self).__init__()\n",
    "        self.recurrent = GConvGRU(node_features, filters, 2)\n",
    "        self.linear = torch.nn.Linear(filters, 1)\n",
    "\n",
    "    def forward(self, x, edge_index, edge_weight):\n",
    "        h = self.recurrent(x, edge_index, edge_weight)\n",
    "        h = F.relu(h)\n",
    "        h = self.linear(h)\n",
    "        return h"
   ]
  },
  {
   "cell_type": "markdown",
   "id": "4ad5f9f9-20fb-489c-9a8d-0f47cf681b1e",
   "metadata": {},
   "source": [
    "# my functions"
   ]
  },
  {
   "cell_type": "code",
   "execution_count": 3,
   "id": "227faf0a-4609-4fb1-bb57-f72308e2b23d",
   "metadata": {},
   "outputs": [],
   "source": [
    "def load_data(fname):\n",
    "    with open(fname, 'rb') as outfile:\n",
    "        data_dict = pickle.load(outfile)\n",
    "    return data_dict"
   ]
  },
  {
   "cell_type": "code",
   "execution_count": 4,
   "id": "a159f970-32cf-4719-b3b7-d16eeb939f5e",
   "metadata": {},
   "outputs": [],
   "source": [
    "def save_data(data_dict,fname):\n",
    "    with open(fname,'wb') as outfile:\n",
    "        pickle.dump(data_dict,outfile)"
   ]
  },
  {
   "cell_type": "code",
   "execution_count": 5,
   "id": "46b2f8de-d7db-4a8a-8b56-68987ea54c0e",
   "metadata": {},
   "outputs": [],
   "source": [
    "def plot(f,*args,t=None,h=2.5,**kwargs):\n",
    "    T,N = f.shape\n",
    "    if t == None: t = range(T)\n",
    "    fig = plt.figure()\n",
    "    ax = fig.subplots(N,1)\n",
    "    for n in range(N):\n",
    "        ax[n].plot(t,f[:,n],*args,**kwargs)\n",
    "        ax[n].set_title('node='+str(n))\n",
    "    fig.set_figheight(N*h)\n",
    "    fig.tight_layout()\n",
    "    plt.close()\n",
    "    return fig"
   ]
  },
  {
   "cell_type": "code",
   "execution_count": 6,
   "id": "dfd30cd2-1daf-474d-b132-7b41af02e5f5",
   "metadata": {},
   "outputs": [],
   "source": [
    "def plot_add(fig,f,*args,t=None,**kwargs):\n",
    "    T = f.shape[0]\n",
    "    N = f.shape[1] \n",
    "    if t == None: t = range(T)   \n",
    "    ax = fig.get_axes()\n",
    "    for n in range(N):\n",
    "        ax[n].plot(t,f[:,n],*args,**kwargs)\n",
    "    return fig"
   ]
  },
  {
   "cell_type": "code",
   "execution_count": 7,
   "id": "5422d968-a917-483b-8e82-4ab2bf569bc5",
   "metadata": {},
   "outputs": [],
   "source": [
    "def make_Psi(T):\n",
    "    W = np.zeros((T,T))\n",
    "    for i in range(T):\n",
    "        for j in range(T):\n",
    "            if i==j :\n",
    "                W[i,j] = 0\n",
    "            elif np.abs(i-j) <= 1 : \n",
    "                W[i,j] = 1\n",
    "    d = np.array(W.sum(axis=1))\n",
    "    D = np.diag(d)\n",
    "    L = np.array(np.diag(1/np.sqrt(d)) @ (D-W) @ np.diag(1/np.sqrt(d)))\n",
    "    lamb, Psi = np.linalg.eigh(L)\n",
    "    return Psi"
   ]
  },
  {
   "cell_type": "code",
   "execution_count": 8,
   "id": "6fdbd67c-4d90-4d7f-9a4f-2f73dac5485c",
   "metadata": {},
   "outputs": [],
   "source": [
    "ebayesthresh = importr('EbayesThresh').ebayesthresh"
   ]
  },
  {
   "cell_type": "code",
   "execution_count": 9,
   "id": "7da0eb4f-5518-4e35-b392-9762da230d53",
   "metadata": {},
   "outputs": [],
   "source": [
    "def trim(f):\n",
    "    f = np.array(f)\n",
    "    if len(f.shape)==1: f = f.reshape(-1,1)\n",
    "    T,N = f.shape\n",
    "    Psi = make_Psi(T)\n",
    "    fbar = Psi.T @ f # apply dft \n",
    "    fbar_threshed = np.stack([ebayesthresh(FloatVector(fbar[:,i])) for i in range(N)],axis=1)\n",
    "    fhat = Psi @ fbar_threshed # inverse dft \n",
    "    return fhat"
   ]
  },
  {
   "cell_type": "code",
   "execution_count": 10,
   "id": "3036d47a-8211-4f46-9cd3-c316e01e5dce",
   "metadata": {},
   "outputs": [],
   "source": [
    "def update_from_freq_domain(signal, missing_index):\n",
    "    signal = np.array(signal)\n",
    "    T,N = signal.shape \n",
    "    signal_trimed = trim(signal)\n",
    "    for i in range(N):\n",
    "        signal[missing_index[i],i] = signal_trimed[missing_index[i],i]\n",
    "    return signal"
   ]
  },
  {
   "cell_type": "markdown",
   "id": "ac7494a4-48fb-4615-8278-92c167349a86",
   "metadata": {},
   "source": [
    "# Data"
   ]
  },
  {
   "cell_type": "code",
   "execution_count": 11,
   "id": "a5df260d-2d15-4aad-aa43-6a007338235f",
   "metadata": {},
   "outputs": [],
   "source": [
    "from torch_geometric_temporal.dataset import WikiMathsDatasetLoader\n",
    "from torch_geometric_temporal.signal import temporal_signal_split"
   ]
  },
  {
   "cell_type": "code",
   "execution_count": 12,
   "id": "39c0532a-4145-444b-b21c-cd2527ac9963",
   "metadata": {},
   "outputs": [],
   "source": [
    "loader = WikiMathsDatasetLoader()"
   ]
  },
  {
   "cell_type": "code",
   "execution_count": 13,
   "id": "9a769d9e-6673-45a9-af2d-d2f468eb4109",
   "metadata": {},
   "outputs": [],
   "source": [
    "dataset = loader.get_dataset(lags=4)"
   ]
  },
  {
   "cell_type": "code",
   "execution_count": 14,
   "id": "c0fa5d05-33c4-4a1e-a35e-165a199bb4b7",
   "metadata": {},
   "outputs": [],
   "source": [
    "train_dataset, test_dataset = temporal_signal_split(dataset, train_ratio=0.8)"
   ]
  },
  {
   "cell_type": "markdown",
   "id": "6ea7bfb4-afc6-4dbe-8214-74c3ab5b54e8",
   "metadata": {},
   "source": [
    "## Train"
   ]
  },
  {
   "cell_type": "code",
   "execution_count": 15,
   "id": "6636dc51-0b08-46c3-a085-e393a97aae01",
   "metadata": {},
   "outputs": [],
   "source": [
    "data_train=[]\n",
    "for time, snapshot in enumerate(train_dataset):\n",
    "    data_train.append([time,snapshot])"
   ]
  },
  {
   "cell_type": "code",
   "execution_count": 16,
   "id": "8f5966c5-a39b-4b70-9028-a61dfd1de3de",
   "metadata": {},
   "outputs": [
    {
     "data": {
      "text/plain": [
       "(torch.Size([1068, 4]),\n",
       " torch.Size([1068]),\n",
       " torch.Size([2, 27079]),\n",
       " torch.Size([27079]))"
      ]
     },
     "execution_count": 16,
     "metadata": {},
     "output_type": "execute_result"
    }
   ],
   "source": [
    "data_train[0][1].x.shape,data_train[0][1].y.shape,data_train[0][1].edge_index.shape,data_train[0][1].edge_attr.shape"
   ]
  },
  {
   "cell_type": "code",
   "execution_count": 17,
   "id": "4a07c500-5603-47c3-bdbf-2263bce42ac6",
   "metadata": {},
   "outputs": [
    {
     "data": {
      "text/plain": [
       "580"
      ]
     },
     "execution_count": 17,
     "metadata": {},
     "output_type": "execute_result"
    }
   ],
   "source": [
    "time"
   ]
  },
  {
   "cell_type": "code",
   "execution_count": 18,
   "id": "b6f10135-8c29-4ebf-81d0-be0757442889",
   "metadata": {},
   "outputs": [],
   "source": [
    "T_train = time\n",
    "N = len(data_train[0][1].x)"
   ]
  },
  {
   "cell_type": "code",
   "execution_count": 19,
   "id": "daa85896-7946-4953-8ee3-b26fd94acd86",
   "metadata": {},
   "outputs": [],
   "source": [
    "edge_index = data_train[0][1].edge_index\n",
    "edge_attr = data_train[0][1].edge_attr"
   ]
  },
  {
   "cell_type": "code",
   "execution_count": 20,
   "id": "b676bbb5-3b7f-4124-bc07-b76bbb3ef55d",
   "metadata": {},
   "outputs": [],
   "source": [
    "x_train = []\n",
    "for i in range(time):\n",
    "    x_train.append(data_train[i][1].x)"
   ]
  },
  {
   "cell_type": "code",
   "execution_count": 21,
   "id": "133c53ec-f888-4692-8ec2-1190210ea234",
   "metadata": {},
   "outputs": [
    {
     "data": {
      "text/plain": [
       "torch.Size([580, 1068, 4])"
      ]
     },
     "execution_count": 21,
     "metadata": {},
     "output_type": "execute_result"
    }
   ],
   "source": [
    "data_tensor = torch.Tensor()\n",
    "# Iterate over the data points of the dataset\n",
    "for i in x_train:\n",
    "    # Concatenate the data point to the tensor\n",
    "    data_tensor = torch.cat((data_tensor, i), dim=0)\n",
    "x_train = data_tensor.reshape(time,1068,-1)\n",
    "x_train.shape"
   ]
  },
  {
   "cell_type": "code",
   "execution_count": 22,
   "id": "8e0e2332-9332-457c-838f-913c746c357a",
   "metadata": {},
   "outputs": [],
   "source": [
    "y_train = []\n",
    "for i in range(time):\n",
    "    y_train.append(data_train[i][1].y)"
   ]
  },
  {
   "cell_type": "code",
   "execution_count": 23,
   "id": "d77b6591-a226-48e1-ad80-c80c450a0b52",
   "metadata": {},
   "outputs": [
    {
     "data": {
      "text/plain": [
       "torch.Size([580, 1068])"
      ]
     },
     "execution_count": 23,
     "metadata": {},
     "output_type": "execute_result"
    }
   ],
   "source": [
    "data_tensor = torch.Tensor()\n",
    "# Iterate over the data points of the dataset\n",
    "for i in y_train:\n",
    "    # Concatenate the data point to the tensor\n",
    "    data_tensor = torch.cat((data_tensor, i), dim=0)\n",
    "y_train = data_tensor.reshape(time,1068)\n",
    "y_train.shape"
   ]
  },
  {
   "cell_type": "code",
   "execution_count": 24,
   "id": "0a982424-a5d6-4f00-b9f9-99148e4e71a3",
   "metadata": {},
   "outputs": [
    {
     "data": {
      "text/plain": [
       "(torch.Size([580, 1068, 4]), torch.Size([580, 1068]))"
      ]
     },
     "execution_count": 24,
     "metadata": {},
     "output_type": "execute_result"
    }
   ],
   "source": [
    "x_train.shape, y_train.shape"
   ]
  },
  {
   "cell_type": "markdown",
   "id": "6d821f1b-bddd-4df4-91f1-f80f0d34492d",
   "metadata": {},
   "source": [
    "## Test"
   ]
  },
  {
   "cell_type": "code",
   "execution_count": 25,
   "id": "85c19483-c755-45dd-9a3f-1998c4088d78",
   "metadata": {},
   "outputs": [],
   "source": [
    "data_test=[]\n",
    "for time, snapshot in enumerate(test_dataset):\n",
    "    data_test.append([time,snapshot])"
   ]
  },
  {
   "cell_type": "code",
   "execution_count": 26,
   "id": "620a37fb-0ac2-4550-8c66-5e788cdfa0a9",
   "metadata": {},
   "outputs": [
    {
     "data": {
      "text/plain": [
       "(torch.Size([1068, 4]),\n",
       " torch.Size([1068]),\n",
       " torch.Size([2, 27079]),\n",
       " torch.Size([27079]))"
      ]
     },
     "execution_count": 26,
     "metadata": {},
     "output_type": "execute_result"
    }
   ],
   "source": [
    "data_test[0][1].x.shape,data_test[0][1].y.shape,data_test[0][1].edge_index.shape,data_test[0][1].edge_attr.shape"
   ]
  },
  {
   "cell_type": "code",
   "execution_count": 27,
   "id": "23c43585-3bf3-43ad-a84b-26edcc809058",
   "metadata": {},
   "outputs": [
    {
     "data": {
      "text/plain": [
       "145"
      ]
     },
     "execution_count": 27,
     "metadata": {},
     "output_type": "execute_result"
    }
   ],
   "source": [
    "time"
   ]
  },
  {
   "cell_type": "code",
   "execution_count": 28,
   "id": "80140e76-d286-4fc9-b94a-d93de15e70d6",
   "metadata": {},
   "outputs": [],
   "source": [
    "T_test = time"
   ]
  },
  {
   "cell_type": "code",
   "execution_count": 29,
   "id": "2cedea55-bc18-45ac-b61a-676002cf8b6b",
   "metadata": {},
   "outputs": [],
   "source": [
    "x_test = []\n",
    "for i in range(time):\n",
    "    x_test.append(data_test[i][1].x)"
   ]
  },
  {
   "cell_type": "code",
   "execution_count": 30,
   "id": "8b775a13-ed2c-44ef-9d53-b53a475be2f3",
   "metadata": {},
   "outputs": [
    {
     "data": {
      "text/plain": [
       "torch.Size([145, 1068, 4])"
      ]
     },
     "execution_count": 30,
     "metadata": {},
     "output_type": "execute_result"
    }
   ],
   "source": [
    "data_tensor = torch.Tensor()\n",
    "# Iterate over the data points of the dataset\n",
    "for i in x_test:\n",
    "    # Concatenate the data point to the tensor\n",
    "    data_tensor = torch.cat((data_tensor, i), dim=0)\n",
    "x_test = data_tensor.reshape(time,1068,-1)\n",
    "x_test.shape"
   ]
  },
  {
   "cell_type": "code",
   "execution_count": 31,
   "id": "8a6a387a-f862-423c-b29f-e636c8ef507a",
   "metadata": {},
   "outputs": [],
   "source": [
    "y_test = []\n",
    "for i in range(time):\n",
    "    y_test.append(data_test[i][1].y)"
   ]
  },
  {
   "cell_type": "code",
   "execution_count": 32,
   "id": "1d2c5d2c-1b76-4022-b699-39cd13649f91",
   "metadata": {},
   "outputs": [
    {
     "data": {
      "text/plain": [
       "torch.Size([145, 1068])"
      ]
     },
     "execution_count": 32,
     "metadata": {},
     "output_type": "execute_result"
    }
   ],
   "source": [
    "data_tensor = torch.Tensor()\n",
    "# Iterate over the data points of the dataset\n",
    "for i in y_test:\n",
    "    # Concatenate the data point to the tensor\n",
    "    data_tensor = torch.cat((data_tensor, i), dim=0)\n",
    "y_test = data_tensor.reshape(time,1068)\n",
    "y_test.shape"
   ]
  },
  {
   "cell_type": "code",
   "execution_count": 33,
   "id": "bf275097-975f-4812-a385-290f49d83136",
   "metadata": {},
   "outputs": [
    {
     "data": {
      "text/plain": [
       "(torch.Size([145, 1068, 4]), torch.Size([145, 1068]))"
      ]
     },
     "execution_count": 33,
     "metadata": {},
     "output_type": "execute_result"
    }
   ],
   "source": [
    "x_test.shape, y_test.shape"
   ]
  },
  {
   "cell_type": "markdown",
   "id": "c337c101-5cff-4aec-9f7b-fe41c9c16b47",
   "metadata": {},
   "source": [
    "# data 정리 "
   ]
  },
  {
   "cell_type": "markdown",
   "id": "f8e4e297-0e68-4b57-adc2-2abafc28cc03",
   "metadata": {},
   "source": [
    "`-` 데이터정리 "
   ]
  },
  {
   "cell_type": "code",
   "execution_count": 34,
   "id": "a16a8e01-944a-4b32-aba4-519372d25976",
   "metadata": {},
   "outputs": [
    {
     "data": {
      "text/plain": [
       "(145, 580, 1068)"
      ]
     },
     "execution_count": 34,
     "metadata": {},
     "output_type": "execute_result"
    }
   ],
   "source": [
    "T_test,T_train,N"
   ]
  },
  {
   "cell_type": "code",
   "execution_count": 35,
   "id": "c27e81db-e176-44d4-aef7-b978e6e8fb99",
   "metadata": {},
   "outputs": [
    {
     "data": {
      "text/plain": [
       "tensor([[   0,    0,    0,  ..., 1056, 1063, 1065],\n",
       "        [   1,    2,    3,  ..., 1059, 1064, 1066]])"
      ]
     },
     "execution_count": 35,
     "metadata": {},
     "output_type": "execute_result"
    }
   ],
   "source": [
    "E = edge_index;E"
   ]
  },
  {
   "cell_type": "code",
   "execution_count": 36,
   "id": "e8bbe9e3-5bb9-4fce-b8d0-4501388c620c",
   "metadata": {},
   "outputs": [],
   "source": [
    "edge_index = E"
   ]
  },
  {
   "cell_type": "code",
   "execution_count": 37,
   "id": "307602a2-61d2-40cd-b331-f498a8539e0c",
   "metadata": {},
   "outputs": [
    {
     "data": {
      "text/plain": [
       "tensor([1., 4., 2.,  ..., 1., 1., 2.])"
      ]
     },
     "execution_count": 37,
     "metadata": {},
     "output_type": "execute_result"
    }
   ],
   "source": [
    "edge_attr"
   ]
  },
  {
   "cell_type": "markdown",
   "id": "4fed58fa-3cd6-428b-a6d0-52e3460d9e1f",
   "metadata": {},
   "source": [
    "`-` train / test "
   ]
  },
  {
   "cell_type": "code",
   "execution_count": 38,
   "id": "829a2c68-3ed8-4c46-909e-fae75875f8a5",
   "metadata": {},
   "outputs": [],
   "source": [
    "x_train_f = torch.concat([x_train[:-1,:,0], x_train[-1,:,:].T])"
   ]
  },
  {
   "cell_type": "code",
   "execution_count": 39,
   "id": "15c3eae0-fc4e-4b51-aefd-b78e067d9dee",
   "metadata": {},
   "outputs": [],
   "source": [
    "x_test_f = torch.concat([x_test[:-1,:,0], x_train[-1,:,:].T])"
   ]
  },
  {
   "cell_type": "markdown",
   "id": "b984ecff-ebeb-4d3f-97de-297aa69aa487",
   "metadata": {},
   "source": [
    "# Random Missing Values"
   ]
  },
  {
   "cell_type": "code",
   "execution_count": 40,
   "id": "a9c2d697-7649-4ed0-a0c7-e4b66c4fd45c",
   "metadata": {
    "tags": []
   },
   "outputs": [],
   "source": [
    "class Missing:\n",
    "    def __init__(self,df):\n",
    "        self.df = df\n",
    "        self.N = N\n",
    "        self.number = []\n",
    "    def miss(self,percent=0.5):\n",
    "        self.missing = copy.deepcopy(self.df)\n",
    "        self.percent = percent\n",
    "        for i in range(self.N):\n",
    "            #self.seed = np.random.choice(1000,1,replace=False)\n",
    "            #np.random.seed(self.seed)\n",
    "            self.number.append(np.random.choice(int(len(self.df))-10,int(len(self.df)*self.percent),replace=False))\n",
    "            self.missing[self.number[i],i] = float('nan')\n",
    "    def first_mean(self):\n",
    "        self.train_mean = np.array(copy.deepcopy(self.missing))\n",
    "        for i in range(self.N):\n",
    "            self.train_mean[self.number[i],i] = np.nanmean(self.missing[:,i])\n",
    "    def second_linear(self):\n",
    "        self.train_linear = pd.DataFrame(self.missing.tolist())\n",
    "        self.train_linear.interpolate(method='linear', inplace=True)\n",
    "        self.train_linear = self.train_linear.fillna(0)\n",
    "        self.train_linear = np.array(self.train_linear).reshape(int(len(self.df)),N)"
   ]
  },
  {
   "cell_type": "markdown",
   "id": "5423800d-629b-4e4a-8452-3285f5caecd8",
   "metadata": {},
   "source": [
    "# STGCN "
   ]
  },
  {
   "cell_type": "markdown",
   "id": "9d2eee63-b450-47c5-8f4b-14602ddaff84",
   "metadata": {},
   "source": [
    "- missing rate: 80% \n",
    "- 보간방법: linear"
   ]
  },
  {
   "cell_type": "markdown",
   "id": "0e511acc-9996-4aa8-9457-8074bba8a431",
   "metadata": {},
   "source": [
    "## missing 일정"
   ]
  },
  {
   "cell_type": "code",
   "execution_count": 41,
   "id": "a23acb42-1e31-464d-9465-5a8613095b14",
   "metadata": {},
   "outputs": [],
   "source": [
    "stgcn_train1 = []\n",
    "stgcn_test1 = []\n",
    "\n",
    "_zero = Missing(x_train_f)\n",
    "_zero.miss(percent = 0.8)\n",
    "_zero.second_linear()\n",
    "\n",
    "missing_index = _zero.number\n",
    "interpolated_signal = _zero.train_linear\n",
    "\n",
    "X = torch.tensor(np.stack([interpolated_signal[i:(T_train-4+i),:] for i in range(4)],axis = -1)).float()\n",
    "y = torch.tensor(interpolated_signal[4:,:]).float()\n",
    "\n",
    "XX = x_test\n",
    "yy = y_test\n",
    "\n",
    "real_y = y_train[4:,:]"
   ]
  },
  {
   "cell_type": "code",
   "execution_count": null,
   "id": "07ff7e63-134b-4f98-883f-4076606b11d3",
   "metadata": {},
   "outputs": [],
   "source": [
    "for i in range(100):\n",
    "    net = RecurrentGCN(node_features=4, filters=4)\n",
    "    optimizer = torch.optim.Adam(net.parameters(), lr=0.01)\n",
    "    net.train()\n",
    "    for epoch in range(50):\n",
    "        for time, (xt,yt) in enumerate(zip(X,y)):\n",
    "            yt_hat = net(xt, edge_index, edge_attr)\n",
    "            cost = torch.mean((yt_hat-yt)**2)\n",
    "            cost.backward()\n",
    "            optimizer.step()\n",
    "            optimizer.zero_grad()\n",
    "\n",
    "    yhat = torch.stack([net(xt, edge_index, edge_attr) for xt in X]).detach().numpy()\n",
    "    yyhat = torch.stack([net(xt, edge_index, edge_attr) for xt in XX]).detach().numpy()\n",
    "\n",
    "    train_mse_total_stgcn = (((real_y-yhat.squeeze()).squeeze())**2).mean()\n",
    "    test_mse_total_stgcn = (((yy-yyhat.squeeze()).squeeze())**2).mean()\n",
    "\n",
    "    stgcn_train1.append(train_mse_total_stgcn.tolist())\n",
    "    stgcn_test1.append(test_mse_total_stgcn.tolist())"
   ]
  },
  {
   "cell_type": "code",
   "execution_count": 55,
   "id": "9a8de946-9c73-451d-a1f9-3b426ef5a263",
   "metadata": {},
   "outputs": [
    {
     "data": {
      "image/png": "[encoded data removed]",
      "text/plain": [
       "<Figure size 864x576 with 1 Axes>"
      ]
     },
     "metadata": {
      "needs_background": "light"
     },
     "output_type": "display_data"
    }
   ],
   "source": [
    "plt.figure(figsize=(12, 8))\n",
    "plt.boxplot(stgcn_train1);"
   ]
  },
  {
   "cell_type": "code",
   "execution_count": 56,
   "id": "d265c814-2fa6-4c24-b5da-91402e6b7a74",
   "metadata": {},
   "outputs": [
    {
     "data": {
      "image/png": "[encoded data removed]",
      "text/plain": [
       "<Figure size 864x576 with 1 Axes>"
      ]
     },
     "metadata": {
      "needs_background": "light"
     },
     "output_type": "display_data"
    }
   ],
   "source": [
    "plt.figure(figsize=(12, 8))\n",
    "plt.boxplot(stgcn_test1);"
   ]
  },
  {
   "cell_type": "markdown",
   "id": "a5eeca94-da4d-4eeb-b9da-c500e145b958",
   "metadata": {},
   "source": [
    "## missing 다르게"
   ]
  },
  {
   "cell_type": "code",
   "execution_count": null,
   "id": "07d1fc43-fff1-4eaf-befa-30932b15708a",
   "metadata": {},
   "outputs": [],
   "source": [
    "stgcn_train2 = []\n",
    "stgcn_test2 = []\n",
    "\n",
    "XX = x_test\n",
    "yy = y_test\n",
    "\n",
    "real_y = y_train[4:,:]"
   ]
  },
  {
   "cell_type": "code",
   "execution_count": null,
   "id": "859c088f-ff1d-4fb1-b2ec-ecd99ff3245a",
   "metadata": {},
   "outputs": [],
   "source": [
    "for i in range(100):\n",
    "    \n",
    "    _zero = Missing(x_train_f)\n",
    "    _zero.miss(percent = 0.8)\n",
    "    _zero.second_linear()\n",
    "\n",
    "    missing_index = _zero.number\n",
    "    interpolated_signal = _zero.train_linear\n",
    "\n",
    "    X = torch.tensor(np.stack([interpolated_signal[i:(T_train-4+i),:] for i in range(4)],axis = -1)).float()\n",
    "    y = torch.tensor(interpolated_signal[4:,:]).float()\n",
    "\n",
    "    net = RecurrentGCN(node_features=4, filters=4)\n",
    "    optimizer = torch.optim.Adam(net.parameters(), lr=0.01)\n",
    "    net.train()\n",
    "    for epoch in range(50):\n",
    "        for time, (xt,yt) in enumerate(zip(X,y)):\n",
    "            yt_hat = net(xt, edge_index, edge_attr)\n",
    "            cost = torch.mean((yt_hat-yt)**2)\n",
    "            cost.backward()\n",
    "            optimizer.step()\n",
    "            optimizer.zero_grad()\n",
    "\n",
    "    yhat = torch.stack([net(xt, edge_index, edge_attr) for xt in X]).detach().numpy()\n",
    "    yyhat = torch.stack([net(xt, edge_index, edge_attr) for xt in XX]).detach().numpy()\n",
    "\n",
    "    train_mse_total_stgcn = (((real_y-yhat.squeeze()).squeeze())**2).mean()\n",
    "    test_mse_total_stgcn = (((yy-yyhat.squeeze()).squeeze())**2).mean()\n",
    "\n",
    "    stgcn_train2.append(train_mse_total_stgcn.tolist())\n",
    "    stgcn_test2.append(test_mse_total_stgcn.tolist())"
   ]
  },
  {
   "cell_type": "code",
   "execution_count": 57,
   "id": "70da1c5a-2143-49a8-90e8-fbf17cb61f77",
   "metadata": {},
   "outputs": [
    {
     "data": {
      "image/png": "[encoded data removed]",
      "text/plain": [
       "<Figure size 864x576 with 1 Axes>"
      ]
     },
     "metadata": {
      "needs_background": "light"
     },
     "output_type": "display_data"
    }
   ],
   "source": [
    "plt.figure(figsize=(12, 8))\n",
    "plt.boxplot(stgcn_train2);"
   ]
  },
  {
   "cell_type": "code",
   "execution_count": 58,
   "id": "e221f6d4-3c81-4d86-a691-692c813ea535",
   "metadata": {},
   "outputs": [
    {
     "data": {
      "image/png": "[encoded data removed]",
      "text/plain": [
       "<Figure size 864x576 with 1 Axes>"
      ]
     },
     "metadata": {
      "needs_background": "light"
     },
     "output_type": "display_data"
    }
   ],
   "source": [
    "plt.figure(figsize=(12, 8))\n",
    "plt.boxplot(stgcn_test2);"
   ]
  },
  {
   "cell_type": "markdown",
   "id": "536b0839-0ce0-4e9c-9117-55edbfb8b56e",
   "metadata": {},
   "source": [
    "# Enhencement of STGCN "
   ]
  },
  {
   "cell_type": "markdown",
   "id": "70bf7ae2-5d89-491e-ad08-0333a021de11",
   "metadata": {},
   "source": [
    "- missing rate: 80% \n",
    "- 보간방법: linear"
   ]
  },
  {
   "cell_type": "markdown",
   "id": "25650ac0-9964-4866-86e2-318801d6b8c9",
   "metadata": {},
   "source": [
    "`-` 결측치생성 + 보간"
   ]
  },
  {
   "cell_type": "markdown",
   "id": "32493ba9-1a79-4b70-90ab-e7e8ee02617f",
   "metadata": {},
   "source": [
    "## missing 일정"
   ]
  },
  {
   "cell_type": "code",
   "execution_count": null,
   "id": "a52381a8-d10f-4a09-af61-73160e843287",
   "metadata": {},
   "outputs": [],
   "source": [
    "estgcn_train1 = []\n",
    "estgcn_test1 = []\n",
    "\n",
    "_zero = Missing(x_train_f)\n",
    "_zero.miss(percent = 0.8)\n",
    "_zero.second_linear()\n",
    "\n",
    "missing_index = _zero.number\n",
    "interpolated_signal = _zero.train_linear\n",
    "\n",
    "X = torch.tensor(np.stack([interpolated_signal[i:(T_train-4+i),:] for i in range(4)],axis = -1)).float()\n",
    "y = torch.tensor(interpolated_signal[4:,:]).float()\n",
    "\n",
    "XX = x_test\n",
    "yy = y_test\n",
    "\n",
    "real_y = y_train"
   ]
  },
  {
   "cell_type": "code",
   "execution_count": null,
   "id": "35d35d5a-0dbc-48ec-b912-fef82551732b",
   "metadata": {},
   "outputs": [],
   "source": [
    "for i in range(100):\n",
    "    net = RecurrentGCN(node_features=4, filters=4)\n",
    "    optimizer = torch.optim.Adam(net.parameters(), lr=0.01)\n",
    "    net.train()\n",
    "    signal = interpolated_signal.copy()\n",
    "    for epoch in range(50):\n",
    "        signal = update_from_freq_domain(signal,missing_index)\n",
    "        X = torch.tensor(np.stack([signal[i:(T_train+i),:] for i in range(4)],axis = -1)).reshape(T_train,N,4).float()\n",
    "        y = torch.tensor(signal).reshape(-1,N,1).float()[4:,:,:]\n",
    "        for time, (xt,yt) in enumerate(zip(X,y)):        \n",
    "            yt_hat = net(xt, edge_index, edge_attr)\n",
    "            cost = torch.mean((yt_hat-yt)**2)\n",
    "            cost.backward()\n",
    "            optimizer.step()\n",
    "            optimizer.zero_grad()\n",
    "        signal = torch.concat([X[:-1,:,0], X[-1,:,:].T, yt_hat.detach().reshape(1,-1)]).squeeze()\n",
    "\n",
    "    yhat = torch.stack([net(xt, edge_index, edge_attr) for xt in X]).detach().numpy()\n",
    "    yyhat = torch.stack([net(xt, edge_index, edge_attr) for xt in XX]).detach().numpy()\n",
    "\n",
    "    train_mse_total_estgcn = (((real_y-yhat.squeeze()).squeeze())**2).mean()\n",
    "    test_mse_total_estgcn = (((yy-yyhat.squeeze()).squeeze())**2).mean()\n",
    "\n",
    "    estgcn_train1.append(train_mse_total_estgcn.tolist())\n",
    "    estgcn_test1.append(test_mse_total_estgcn.tolist())"
   ]
  },
  {
   "cell_type": "code",
   "execution_count": 59,
   "id": "081215d2-aa3f-4664-8ffb-e1eb40b9f803",
   "metadata": {},
   "outputs": [
    {
     "data": {
      "image/png": "[encoded data removed]",
      "text/plain": [
       "<Figure size 864x576 with 1 Axes>"
      ]
     },
     "metadata": {
      "needs_background": "light"
     },
     "output_type": "display_data"
    }
   ],
   "source": [
    "plt.figure(figsize=(12, 8))\n",
    "plt.boxplot(estgcn_train1); "
   ]
  },
  {
   "cell_type": "code",
   "execution_count": 60,
   "id": "d573d709-75d7-46e5-b63c-361e19d94ab7",
   "metadata": {},
   "outputs": [
    {
     "data": {
      "image/png": "[encoded data removed]",
      "text/plain": [
       "<Figure size 864x576 with 1 Axes>"
      ]
     },
     "metadata": {
      "needs_background": "light"
     },
     "output_type": "display_data"
    }
   ],
   "source": [
    "plt.figure(figsize=(12, 8))\n",
    "plt.boxplot(estgcn_test1); "
   ]
  },
  {
   "cell_type": "markdown",
   "id": "89793fe2-144f-4f97-891b-66a1e19193a5",
   "metadata": {},
   "source": [
    "## missing 매번 다르게"
   ]
  },
  {
   "cell_type": "code",
   "execution_count": null,
   "id": "c287ca57-8692-4d57-9fb5-251ae26566ce",
   "metadata": {},
   "outputs": [],
   "source": [
    "estgcn_train2 = []\n",
    "estgcn_test2 = []\n",
    "\n",
    "XX = x_test\n",
    "yy = y_test\n",
    "\n",
    "real_y = y_train"
   ]
  },
  {
   "cell_type": "code",
   "execution_count": null,
   "id": "9f068ee0-8c69-4eaa-871b-f8f39c61e548",
   "metadata": {},
   "outputs": [],
   "source": [
    "for i in range(100):\n",
    "    \n",
    "    _zero = Missing(x_train_f)\n",
    "    _zero.miss(percent = 0.8)\n",
    "    _zero.second_linear()\n",
    "\n",
    "    missing_index = _zero.number\n",
    "    interpolated_signal = _zero.train_linear\n",
    "    \n",
    "    X = torch.tensor(np.stack([interpolated_signal[i:(T_train-4+i),:] for i in range(4)],axis = -1)).float()\n",
    "    y = torch.tensor(interpolated_signal[4:,:]).float()\n",
    "\n",
    "    net = RecurrentGCN(node_features=4, filters=4)\n",
    "    optimizer = torch.optim.Adam(net.parameters(), lr=0.01)\n",
    "    net.train()\n",
    "    signal = interpolated_signal.copy()\n",
    "    for epoch in range(50):\n",
    "        signal = update_from_freq_domain(signal,missing_index)\n",
    "        X = torch.tensor(np.stack([signal[i:(T_train+i),:] for i in range(4)],axis = -1)).reshape(T_train,N,4).float()\n",
    "        y = torch.tensor(signal).reshape(-1,N,1).float()[4:,:,:]\n",
    "        for time, (xt,yt) in enumerate(zip(X,y)):        \n",
    "            yt_hat = net(xt, edge_index, edge_attr)\n",
    "            cost = torch.mean((yt_hat-yt)**2)\n",
    "            cost.backward()\n",
    "            optimizer.step()\n",
    "            optimizer.zero_grad()\n",
    "        signal = torch.concat([X[:-1,:,0], X[-1,:,:].T, yt_hat.detach().reshape(1,-1)]).squeeze()\n",
    "\n",
    "    yhat = torch.stack([net(xt, edge_index, edge_attr) for xt in X]).detach().numpy()\n",
    "    yyhat = torch.stack([net(xt, edge_index, edge_attr) for xt in XX]).detach().numpy()\n",
    "\n",
    "    train_mse_total_estgcn = (((real_y-yhat.squeeze()).squeeze())**2).mean()\n",
    "    test_mse_total_estgcn = (((yy-yyhat.squeeze()).squeeze())**2).mean()\n",
    "\n",
    "    estgcn_train2.append(train_mse_total_estgcn.tolist())\n",
    "    estgcn_test2.append(test_mse_total_estgcn.tolist())"
   ]
  },
  {
   "cell_type": "code",
   "execution_count": 61,
   "id": "9f1f035b-b879-4c68-a189-0b5d7562d364",
   "metadata": {},
   "outputs": [
    {
     "data": {
      "image/png": "[encoded data removed]",
      "text/plain": [
       "<Figure size 864x576 with 1 Axes>"
      ]
     },
     "metadata": {
      "needs_background": "light"
     },
     "output_type": "display_data"
    }
   ],
   "source": [
    "plt.figure(figsize=(12, 8))\n",
    "plt.boxplot(estgcn_train2); "
   ]
  },
  {
   "cell_type": "code",
   "execution_count": 62,
   "id": "1bcac9f6-4b30-475f-8644-f0fe8848e7bb",
   "metadata": {},
   "outputs": [
    {
     "data": {
      "image/png": "[encoded data removed]",
      "text/plain": [
       "<Figure size 864x576 with 1 Axes>"
      ]
     },
     "metadata": {
      "needs_background": "light"
     },
     "output_type": "display_data"
    }
   ],
   "source": [
    "plt.figure(figsize=(12, 8))\n",
    "plt.boxplot(estgcn_test2); "
   ]
  },
  {
   "cell_type": "markdown",
   "id": "8f435b52-7a28-4f9c-8876-92532e600406",
   "metadata": {},
   "source": [
    "# GNAR"
   ]
  },
  {
   "cell_type": "code",
   "execution_count": 94,
   "id": "b2768a07-6c2e-4232-8019-e94bd7dc2026",
   "metadata": {},
   "outputs": [
    {
     "name": "stdout",
     "output_type": "stream",
     "text": [
      "The rpy2.ipython extension is already loaded. To reload it, use:\n",
      "  %reload_ext rpy2.ipython\n"
     ]
    }
   ],
   "source": [
    "%load_ext rpy2.ipython"
   ]
  },
  {
   "cell_type": "code",
   "execution_count": 95,
   "id": "63fcce33-58b6-4554-a297-aa4e6d3de83f",
   "metadata": {},
   "outputs": [],
   "source": [
    "%%R\n",
    "library(GNAR)\n",
    "library(igraph)\n",
    "library(zoo)"
   ]
  },
  {
   "cell_type": "code",
   "execution_count": 96,
   "id": "14d0be46-6771-456f-8631-63b040a834b2",
   "metadata": {},
   "outputs": [],
   "source": [
    "GNAR = importr('GNAR') # import GNAR \n",
    "igraph = importr('igraph') # import igraph "
   ]
  },
  {
   "cell_type": "code",
   "execution_count": 97,
   "id": "1dc1e0e8-d1f9-4c23-b9a5-5d6775e87b12",
   "metadata": {},
   "outputs": [],
   "source": [
    "y_gnar = np.array(y_test)\n",
    "Edge = np.array(edge_index)"
   ]
  },
  {
   "cell_type": "code",
   "execution_count": 98,
   "id": "75b50b1f-e8bf-49d2-a2c5-a790edb0cbf7",
   "metadata": {},
   "outputs": [],
   "source": [
    "w=np.zeros((1068,1068))"
   ]
  },
  {
   "cell_type": "code",
   "execution_count": 99,
   "id": "037ccd50-0c8e-4594-9a84-caef6a766b0d",
   "metadata": {},
   "outputs": [],
   "source": [
    "for k in range(27079):\n",
    "    w[edge_index[0][k],edge_index[1][k]] = 1"
   ]
  },
  {
   "cell_type": "code",
   "execution_count": 100,
   "id": "ea0f78c3-e551-43d0-8a2e-e521a9056ed0",
   "metadata": {},
   "outputs": [],
   "source": [
    "%R -i y_gnar\n",
    "%R -i w\n",
    "%R -i T_test"
   ]
  },
  {
   "cell_type": "code",
   "execution_count": 101,
   "id": "e29fd1b5-10e9-4f1f-93d0-5dab79436070",
   "metadata": {},
   "outputs": [],
   "source": [
    "%%R\n",
    "wikiNet <- matrixtoGNAR(w)"
   ]
  },
  {
   "cell_type": "markdown",
   "id": "cbdf7e42-916f-406f-bb85-cad29651293b",
   "metadata": {},
   "source": [
    "## missing 일정"
   ]
  },
  {
   "cell_type": "code",
   "execution_count": 102,
   "id": "6116e47a-7cc9-4b2c-b935-08d48e907009",
   "metadata": {},
   "outputs": [],
   "source": [
    "%%R\n",
    "gnar_train1 <- matrix(ncol=1,nrow=100)\n",
    "gnar_test1 <- matrix(ncol=1,nrow=100)\n",
    "\n",
    "for(i in 1:100){\n",
    "    answer <- GNARfit(vts = X_gnar, net = wikiNet, alphaOrder = 4, betaOrder = c(1,1,1,1))\n",
    "    prediction <- predict(answer,n.ahead=T_test)\n",
    "\n",
    "    train_mse_total_gnar = mean(residuals(answer)**2)\n",
    "    test_mse_total_gnar = mean((y_gnar-prediction[1:T_test])**2)\n",
    "\n",
    "    gnar_train1[i] <- train_mse_total_gnar\n",
    "    gnar_test1[i] <- train_mse_total_gnar\n",
    "}"
   ]
  },
  {
   "cell_type": "code",
   "execution_count": 103,
   "id": "868f4589-f056-4b52-8a2a-4dbf414d98c7",
   "metadata": {},
   "outputs": [],
   "source": [
    "%R -o gnar_train1\n",
    "%R -o gnar_test1"
   ]
  },
  {
   "cell_type": "code",
   "execution_count": 104,
   "id": "3d61a787-552b-47d2-bd6a-5d17e99441ec",
   "metadata": {},
   "outputs": [
    {
     "data": {
      "image/png": "[encoded data removed]",
      "text/plain": [
       "<Figure size 864x576 with 1 Axes>"
      ]
     },
     "metadata": {
      "needs_background": "light"
     },
     "output_type": "display_data"
    }
   ],
   "source": [
    "plt.figure(figsize=(12, 8))\n",
    "plt.boxplot(gnar_train1);"
   ]
  },
  {
   "cell_type": "code",
   "execution_count": 105,
   "id": "8b67f8d4-14c6-4b07-a8bf-f00d5593b2ce",
   "metadata": {},
   "outputs": [
    {
     "data": {
      "image/png": "[encoded data removed]",
      "text/plain": [
       "<Figure size 864x576 with 1 Axes>"
      ]
     },
     "metadata": {
      "needs_background": "light"
     },
     "output_type": "display_data"
    }
   ],
   "source": [
    "plt.figure(figsize=(12, 8))\n",
    "plt.boxplot(gnar_test1);"
   ]
  },
  {
   "cell_type": "markdown",
   "id": "e98bdedf-7922-4a4c-bafa-329723254258",
   "metadata": {},
   "source": [
    "## missing 매번 다르게"
   ]
  },
  {
   "cell_type": "code",
   "execution_count": 114,
   "id": "fc149481-7248-4d81-8346-29365afc9289",
   "metadata": {},
   "outputs": [],
   "source": [
    "m = robjects.r.matrix(FloatVector(w), nrow = 1068, ncol = 1068)"
   ]
  },
  {
   "cell_type": "code",
   "execution_count": 120,
   "id": "34c7ebc9-670e-4557-9e96-18b8bbdd3163",
   "metadata": {},
   "outputs": [
    {
     "name": "stderr",
     "output_type": "stream",
     "text": [
      "/tmp/ipykernel_3456764/2230476182.py:4: UserWarning: To copy construct from a tensor, it is recommended to use sourceTensor.clone().detach() or sourceTensor.clone().detach().requires_grad_(True), rather than torch.tensor(sourceTensor).\n",
      "  yy = torch.tensor(y_test).float()\n"
     ]
    }
   ],
   "source": [
    "gnar_train2 = []\n",
    "gnar_test2 = []\n",
    "\n",
    "yy = torch.tensor(y_test).float()"
   ]
  },
  {
   "cell_type": "code",
   "execution_count": null,
   "id": "80602f74-07ef-4090-b5a9-7e356830d957",
   "metadata": {
    "tags": []
   },
   "outputs": [
    {
     "name": "stdout",
     "output_type": "stream",
     "text": [
      "WARNING: diagonal entries present in original matrix, these will be removed\n",
      "WARNING: diagonal entries present in original matrix, these will be removed\n",
      "WARNING: diagonal entries present in original matrix, these will be removed\n",
      "WARNING: diagonal entries present in original matrix, these will be removed\n",
      "WARNING: diagonal entries present in original matrix, these will be removed\n",
      "WARNING: diagonal entries present in original matrix, these will be removed\n",
      "WARNING: diagonal entries present in original matrix, these will be removed\n",
      "WARNING: diagonal entries present in original matrix, these will be removed\n",
      "WARNING: diagonal entries present in original matrix, these will be removed\n",
      "WARNING: diagonal entries present in original matrix, these will be removed\n",
      "WARNING: diagonal entries present in original matrix, these will be removed\n",
      "WARNING: diagonal entries present in original matrix, these will be removed\n",
      "WARNING: diagonal entries present in original matrix, these will be removed\n",
      "WARNING: diagonal entries present in original matrix, these will be removed\n",
      "WARNING: diagonal entries present in original matrix, these will be removed\n",
      "WARNING: diagonal entries present in original matrix, these will be removed\n",
      "WARNING: diagonal entries present in original matrix, these will be removed\n",
      "WARNING: diagonal entries present in original matrix, these will be removed\n",
      "WARNING: diagonal entries present in original matrix, these will be removed\n",
      "WARNING: diagonal entries present in original matrix, these will be removed\n",
      "WARNING: diagonal entries present in original matrix, these will be removed\n",
      "WARNING: diagonal entries present in original matrix, these will be removed\n",
      "WARNING: diagonal entries present in original matrix, these will be removed\n",
      "WARNING: diagonal entries present in original matrix, these will be removed\n",
      "WARNING: diagonal entries present in original matrix, these will be removed\n",
      "WARNING: diagonal entries present in original matrix, these will be removed\n",
      "WARNING: diagonal entries present in original matrix, these will be removed\n",
      "WARNING: diagonal entries present in original matrix, these will be removed\n",
      "WARNING: diagonal entries present in original matrix, these will be removed\n"
     ]
    }
   ],
   "source": [
    "for i in range(100):\n",
    "    \n",
    "    _zero = Missing(x_train_f)\n",
    "    _zero.miss(percent = 0.8)\n",
    "    _zero.second_linear()\n",
    "\n",
    "    missing_index = _zero.number\n",
    "    interpolated_signal = _zero.train_linear\n",
    "\n",
    "    X = torch.tensor(np.stack([interpolated_signal[i:(T_train-4+i),:] for i in range(4)],axis = -1)).float()\n",
    "\n",
    "    answer = GNAR.GNARfit(vts=robjects.r.matrix(rpyn.numpy2rpy(np.array(X).squeeze()), nrow = T_train, ncol = N),net = GNAR.matrixtoGNAR(m), alphaOrder = 4, betaOrder = FloatVector([1, 1, 1, 1]))             \n",
    "    predict = GNAR.predict_GNARfit(answer,n_ahead=T_test)\n",
    "\n",
    "    \n",
    "    train_mse_total_gnar = ((pd.DataFrame(GNAR.residuals_GNARfit(answer)).values.reshape(-1,N))**2).mean()\n",
    "    test_mse_total_gnar = ((yy - pd.DataFrame(predict).values.reshape(-1,N))**2).mean()\n",
    "    \n",
    "    gnar_train2.append(train_mse_total_gnar.tolist())\n",
    "    gnar_test2.append(test_mse_total_gnar.tolist())"
   ]
  },
  {
   "cell_type": "code",
   "execution_count": 139,
   "id": "a320d90d-1055-47a6-b0f7-e7c04da6934b",
   "metadata": {},
   "outputs": [
    {
     "data": {
      "image/png": "[encoded data removed]",
      "text/plain": [
       "<Figure size 864x576 with 1 Axes>"
      ]
     },
     "metadata": {
      "needs_background": "light"
     },
     "output_type": "display_data"
    }
   ],
   "source": [
    "plt.figure(figsize=(12, 8))\n",
    "plt.boxplot(gnar_train2);"
   ]
  },
  {
   "cell_type": "code",
   "execution_count": 140,
   "id": "19923a2d-7140-49e4-a962-ee1a14488f86",
   "metadata": {},
   "outputs": [
    {
     "data": {
      "image/png": "[encoded data removed]",
      "text/plain": [
       "<Figure size 864x576 with 1 Axes>"
      ]
     },
     "metadata": {
      "needs_background": "light"
     },
     "output_type": "display_data"
    }
   ],
   "source": [
    "plt.figure(figsize=(12, 8))\n",
    "plt.boxplot(gnar_test2);"
   ]
  },
  {
   "cell_type": "markdown",
   "id": "c5f37672-ed52-4cf4-a3f8-db207f9c8950",
   "metadata": {},
   "source": [
    "# Visualization"
   ]
  },
  {
   "cell_type": "code",
   "execution_count": 133,
   "id": "2f0d308c-c95e-4814-8cb3-ee982fb3a747",
   "metadata": {},
   "outputs": [
    {
     "data": {
      "image/png": "[encoded data removed]",
      "text/plain": [
       "<Figure size 864x720 with 1 Axes>"
      ]
     },
     "metadata": {
      "needs_background": "light"
     },
     "output_type": "display_data"
    }
   ],
   "source": [
    "fig = plt.figure(figsize = (12,10))\n",
    "ax = fig.add_subplot(111)\n",
    "\n",
    "bp1 = ax.boxplot(stgcn_train1, positions=[1], notch=True, widths=0.35, patch_artist=True, boxprops=dict(facecolor=\"C0\"))\n",
    "bp2 = ax.boxplot(estgcn_train1, positions=[2], notch=True, widths=0.35, patch_artist=True, boxprops=dict(facecolor=\"C1\"))\n",
    "bp3 = ax.boxplot(gnar_train1, positions=[3], notch=True, widths=0.35, patch_artist=True, boxprops=dict(facecolor=\"C2\"))\n",
    "ax.legend([bp1[\"boxes\"][0], bp2[\"boxes\"][0], bp3[\"boxes\"][0]], [\"STGCN\", \"ESTGCN\", \"GNAR\"], loc='upper right')\n",
    "ax.legend([bp1[\"boxes\"][0], bp2[\"boxes\"][0]], [\"STGCN\", \"ESTGCN\"], loc='upper right')\n",
    "\n",
    "plt.text(x=0.5, y=0.94, s=\"TRAIN_Fix missing number_80% Missing\", fontsize=25, ha=\"center\", transform=fig.transFigure)\n",
    "fig.tight_layout()\n",
    "plt.show()"
   ]
  },
  {
   "cell_type": "code",
   "execution_count": 134,
   "id": "99df003f-06ee-4129-9dfb-22af3a338199",
   "metadata": {},
   "outputs": [
    {
     "data": {
      "image/png": "[encoded data removed]",
      "text/plain": [
       "<Figure size 864x720 with 1 Axes>"
      ]
     },
     "metadata": {
      "needs_background": "light"
     },
     "output_type": "display_data"
    }
   ],
   "source": [
    "fig = plt.figure(figsize = (12,10))\n",
    "ax = fig.add_subplot(111)\n",
    "\n",
    "bp1 = ax.boxplot(stgcn_test1, positions=[1], notch=True, widths=0.35, patch_artist=True, boxprops=dict(facecolor=\"C0\"))\n",
    "bp2 = ax.boxplot(estgcn_test1, positions=[2], notch=True, widths=0.35, patch_artist=True, boxprops=dict(facecolor=\"C1\"))\n",
    "bp3 = ax.boxplot(gnar_test1, positions=[3], notch=True, widths=0.35, patch_artist=True, boxprops=dict(facecolor=\"C2\"))\n",
    "ax.legend([bp1[\"boxes\"][0], bp2[\"boxes\"][0], bp3[\"boxes\"][0]], [\"STGCN\", \"ESTGCN\", \"GNAR\"], loc='upper right')\n",
    "ax.legend([bp1[\"boxes\"][0], bp2[\"boxes\"][0]], [\"STGCN\", \"ESTGCN\"], loc='upper right')\n",
    "\n",
    "plt.text(x=0.5, y=0.94, s=\"TEST_Fix missing number_80% Missing\", fontsize=25, ha=\"center\", transform=fig.transFigure)\n",
    "fig.tight_layout()\n",
    "plt.show()"
   ]
  },
  {
   "cell_type": "code",
   "execution_count": 143,
   "id": "8001a82b-22da-4fed-a0cd-0ab6760d0312",
   "metadata": {},
   "outputs": [
    {
     "data": {
      "image/png": "[encoded data removed]",
      "text/plain": [
       "<Figure size 864x720 with 1 Axes>"
      ]
     },
     "metadata": {
      "needs_background": "light"
     },
     "output_type": "display_data"
    }
   ],
   "source": [
    "fig = plt.figure(figsize = (12,10))\n",
    "ax = fig.add_subplot(111)\n",
    "\n",
    "bp1 = ax.boxplot(stgcn_train2, positions=[1], notch=True, widths=0.35, patch_artist=True, boxprops=dict(facecolor=\"C0\"))\n",
    "bp2 = ax.boxplot(estgcn_train2, positions=[2], notch=True, widths=0.35, patch_artist=True, boxprops=dict(facecolor=\"C1\"))\n",
    "bp3 = ax.boxplot(gnar_train2, positions=[3], notch=True, widths=0.35, patch_artist=True, boxprops=dict(facecolor=\"C2\"))\n",
    "ax.legend([bp1[\"boxes\"][0], bp2[\"boxes\"][0], bp3[\"boxes\"][0]], [\"STGCN\", \"ESTGCN\", \"GNAR\"], loc='upper right')\n",
    "\n",
    "plt.text(x=0.5, y=0.94, s=\"TRAIN_Different missing number_80% Missing\", fontsize=25, ha=\"center\", transform=fig.transFigure)\n",
    "fig.tight_layout()\n",
    "plt.show()"
   ]
  },
  {
   "cell_type": "code",
   "execution_count": 145,
   "id": "c34180e2-28c4-427a-853c-b07bfb481300",
   "metadata": {},
   "outputs": [
    {
     "data": {
      "image/png": "[encoded data removed]",
      "text/plain": [
       "<Figure size 864x720 with 1 Axes>"
      ]
     },
     "metadata": {
      "needs_background": "light"
     },
     "output_type": "display_data"
    }
   ],
   "source": [
    "fig = plt.figure(figsize = (12,10))\n",
    "ax = fig.add_subplot(111)\n",
    "\n",
    "bp1 = ax.boxplot(stgcn_test2, positions=[1], notch=True, widths=0.35, patch_artist=True, boxprops=dict(facecolor=\"C0\"))\n",
    "bp2 = ax.boxplot(estgcn_test2, positions=[2], notch=True, widths=0.35, patch_artist=True, boxprops=dict(facecolor=\"C1\"))\n",
    "bp3 = ax.boxplot(gnar_test2, positions=[3], notch=True, widths=0.35, patch_artist=True, boxprops=dict(facecolor=\"C2\"))\n",
    "ax.legend([bp1[\"boxes\"][0], bp2[\"boxes\"][0], bp3[\"boxes\"][0]], [\"STGCN\", \"ESTGCN\", \"GNAR\"], loc='upper right')\n",
    "\n",
    "plt.text(x=0.5, y=0.94, s=\"TEST_Different missing number_80% Missing\", fontsize=25, ha=\"center\", transform=fig.transFigure)\n",
    "fig.tight_layout()\n",
    "plt.show()"
   ]
  },
  {
   "cell_type": "code",
   "execution_count": null,
   "id": "f7fe96f3-cd5a-4e55-b8f7-e7a9b054a556",
   "metadata": {},
   "outputs": [],
   "source": []
  }
 ],
 "metadata": {
  "kernelspec": {
   "display_name": "Python 3 (ipykernel)",
   "language": "python",
   "name": "python3"
  },
  "language_info": {
   "codemirror_mode": {
    "name": "ipython",
    "version": 3
   },
   "file_extension": ".py",
   "mimetype": "text/x-python",
   "name": "python",
   "nbconvert_exporter": "python",
   "pygments_lexer": "ipython3",
   "version": "3.8.12"
  }
 },
 "nbformat": 4,
 "nbformat_minor": 5
}

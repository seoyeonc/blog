{
  "cells": [
    {
      "cell_type": "markdown",
      "metadata": {},
      "source": [
        "# \\*\\*\\[ANOMALOUS\\]\\*\\*Graph\n",
        "\n",
        "SEOYEON CHOI  \n",
        "2023-09-07\n",
        "\n",
        "https://docs.pygod.org/en/latest/generated/pygod.detector.ANOMALOUS.html\n",
        "\n",
        "paper: https://www.ijcai.org/Proceedings/2018/0488.pdf\n",
        "\n",
        "교수님꼐서 알려주신 사이트\n",
        "https://pycaret.gitbook.io/docs/get-started/quickstart#anomaly-detection\n",
        "\n",
        "`Summary`\n",
        "\n",
        "-   노드당 매핑된 attribute로 이상치를 계산해낸다.\n",
        "-   그래서 attribute 특징마다 나오는 이상치라고 칭하는 노드가 다른 것\n",
        "    같다.\n",
        "-   노드 정보와 네트워크를 기반으로 rare하거나 상당히 differ한 인스턴스\n",
        "    집합 찾는 것을 목표로 한다.\n",
        "\n",
        "# Import"
      ],
      "id": "9312d604-4224-47ec-b15f-83632324ba3b"
    },
    {
      "cell_type": "code",
      "execution_count": 1,
      "metadata": {},
      "outputs": [
        {
          "output_type": "stream",
          "name": "stderr",
          "text": [
            "/home/csy/anaconda3/envs/temp_csy/lib/python3.8/site-packages/tqdm/auto.py:22: TqdmWarning: IProgress not found. Please update jupyter and ipywidgets. See https://ipywidgets.readthedocs.io/en/stable/user_install.html\n",
            "  from .autonotebook import tqdm as notebook_tqdm"
          ]
        }
      ],
      "source": [
        "import pygod\n",
        "import numpy as np\n",
        "import torch_geometric.transforms as T\n",
        "from torch_geometric.datasets import Planetoid\n",
        "\n",
        "import torch\n",
        "from pygod.generator import gen_contextual_outlier, gen_structural_outlier\n",
        "\n",
        "from pygod.utils import load_data\n",
        "\n",
        "from pygod.metric import eval_roc_auc\n",
        "\n",
        "from pygod.detector import ANOMALOUS"
      ],
      "id": "87e45f07-3c6b-48d0-961b-f4b290b669a0"
    },
    {
      "cell_type": "markdown",
      "metadata": {},
      "source": [
        "# Tutorial?"
      ],
      "id": "5a5c133c-60ef-4c67-ab3e-f49aa6278bba"
    },
    {
      "cell_type": "code",
      "execution_count": 2,
      "metadata": {},
      "outputs": [],
      "source": [
        "data = Planetoid('./data/Cora', 'Cora', transform=T.NormalizeFeatures())[0]"
      ],
      "id": "e47924ac-d491-4ea8-b6dc-72af7a15aa9b"
    },
    {
      "cell_type": "markdown",
      "metadata": {},
      "source": [
        "`gen_contextual_outlier`의 역할: Generating contextual outliers\n",
        "\n",
        "-   임의로 선택한 노드 중 그 노드들끼리 얼마나 떨어져 있나?"
      ],
      "id": "740de852-2427-4602-a0d3-ddd71bf2c813"
    },
    {
      "cell_type": "code",
      "execution_count": 3,
      "metadata": {},
      "outputs": [],
      "source": [
        "data, ya = gen_contextual_outlier(data, n=100, k=50)"
      ],
      "id": "772426db-36a2-4dc8-b4fd-9866550e9757"
    },
    {
      "cell_type": "code",
      "execution_count": 4,
      "metadata": {},
      "outputs": [],
      "source": [
        "ya"
      ],
      "id": "21ce5529-cbe8-4654-9aa2-05deee3d5972"
    },
    {
      "cell_type": "code",
      "execution_count": 5,
      "metadata": {},
      "outputs": [],
      "source": [
        "len(sum(np.where(ya==1)))"
      ],
      "id": "a6f6a4bd-f556-4abe-9ab9-ffa7e5cc8a8a"
    },
    {
      "cell_type": "code",
      "execution_count": 6,
      "metadata": {},
      "outputs": [],
      "source": [
        "len(sum(np.where(ya==0)))"
      ],
      "id": "ff385719-9da6-402f-bed8-f04a5035dbfe"
    },
    {
      "cell_type": "markdown",
      "metadata": {},
      "source": [
        "`gen_structural_outlier`의 역할: Generating structural outliers\n",
        "\n",
        "-   임의로 선택한 노드들이 fully connected 되어있을때 그 집단과 얼마나\n",
        "    많이 다른가??"
      ],
      "id": "ba247bc6-ff78-447d-af56-4efe6eae3e9a"
    },
    {
      "cell_type": "code",
      "execution_count": 7,
      "metadata": {},
      "outputs": [],
      "source": [
        "data, ys = gen_structural_outlier(data, m=10, n=10)"
      ],
      "id": "c66bf49b-abc5-4a09-a778-76813c88b043"
    },
    {
      "cell_type": "code",
      "execution_count": 8,
      "metadata": {},
      "outputs": [],
      "source": [
        "ys"
      ],
      "id": "3a333757-2992-4cf5-9c74-4dca85dca60a"
    },
    {
      "cell_type": "code",
      "execution_count": 9,
      "metadata": {},
      "outputs": [],
      "source": [
        "len(sum(np.where(ys==1)))"
      ],
      "id": "32e241fd-c4e8-482f-b002-c87b962e7f7f"
    },
    {
      "cell_type": "code",
      "execution_count": 10,
      "metadata": {},
      "outputs": [],
      "source": [
        "len(sum(np.where(ys==0)))"
      ],
      "id": "00db3ead-4f8f-4432-8956-a5f17cd91f8f"
    },
    {
      "cell_type": "markdown",
      "metadata": {},
      "source": [
        "위에서 찾은 이상치 간에 `torch.logical_or` 논리 or 생성"
      ],
      "id": "b7a743c6-cf35-4fd8-80a5-07039ddcaa82"
    },
    {
      "cell_type": "code",
      "execution_count": 11,
      "metadata": {},
      "outputs": [],
      "source": [
        "data.y = torch.logical_or(ys, ya).long()"
      ],
      "id": "93847ada-b960-414b-a15b-6aeaf300e7a3"
    },
    {
      "cell_type": "code",
      "execution_count": 12,
      "metadata": {},
      "outputs": [],
      "source": [
        "data.y"
      ],
      "id": "49b21e0b-758e-47b8-a70a-39d4881535d4"
    },
    {
      "cell_type": "code",
      "execution_count": 13,
      "metadata": {},
      "outputs": [],
      "source": [
        "len(sum(np.where(data.y==1)))"
      ],
      "id": "2028048d-f0a1-4157-b3c0-5170fcb915e2"
    },
    {
      "cell_type": "code",
      "execution_count": 14,
      "metadata": {},
      "outputs": [],
      "source": [
        "len(sum(np.where(data.y==0)))"
      ],
      "id": "a433b9dc-ff45-4069-97a5-da4baffe4753"
    },
    {
      "cell_type": "code",
      "execution_count": 15,
      "metadata": {},
      "outputs": [],
      "source": [
        "data = load_data('inj_cora')\n",
        "data.y = data.y.bool()"
      ],
      "id": "14b10998-c9af-4b60-be83-ec9397a429b7"
    },
    {
      "cell_type": "code",
      "execution_count": 16,
      "metadata": {},
      "outputs": [],
      "source": [
        "data.y"
      ],
      "id": "8949953a-4ad2-4895-bcac-f72858909172"
    },
    {
      "cell_type": "markdown",
      "metadata": {},
      "source": [
        "`self.bool` 로 참인지 거짓인지 가릴 수 있다.\n",
        "\n",
        "-   여기서는 참이면 이상치인듯\n",
        "\n",
        "‘ANOMALOUS’ 함수 사용, 일단 default로 다 지정함!"
      ],
      "id": "839d88fe-426c-433b-88aa-d23f2f0c71d5"
    },
    {
      "cell_type": "code",
      "execution_count": 17,
      "metadata": {},
      "outputs": [],
      "source": [
        "detector = ANOMALOUS(gamma=1.,\n",
        "                     weight_decay=0.,\n",
        "                     lr=0.004,\n",
        "                     epoch=50,\n",
        "                     gpu=-1,\n",
        "                     contamination=0.1,\n",
        "                     verbose=0)"
      ],
      "id": "8e8ce7b9-4759-483e-b43c-a8009f7e6434"
    },
    {
      "cell_type": "code",
      "execution_count": 18,
      "metadata": {},
      "outputs": [],
      "source": [
        "detector.fit(data)"
      ],
      "id": "811ba7e3-ca47-40f0-a1ef-4a7d033a656b"
    },
    {
      "cell_type": "markdown",
      "metadata": {},
      "source": [
        "``` python\n",
        "class ANOMALOUSBase(nn.Module):\n",
        "    def __init__(self, w, r):\n",
        "        super(ANOMALOUSBase, self).__init__()\n",
        "        self.w = nn.Parameter(w)\n",
        "        self.r = nn.Parameter(r)\n",
        "\n",
        "    def forward(self, x):\n",
        "        return x @ self.w @ x, self.r\n",
        "```"
      ],
      "id": "acce432a-713a-4b9f-9c95-897f08c217d8"
    },
    {
      "cell_type": "code",
      "execution_count": 19,
      "metadata": {},
      "outputs": [
        {
          "output_type": "stream",
          "name": "stderr",
          "text": [
            "/home/csy/anaconda3/envs/temp_csy/lib/python3.8/site-packages/pygod/detector/anomalous.py:111: UserWarning: This detector is transductive only. Training from scratch with the input data.\n",
            "  warnings.warn(\"This detector is transductive only. \""
          ]
        }
      ],
      "source": [
        "detector.decision_function(data)"
      ],
      "id": "fb252bf0-8725-46b5-8337-14525ad200a7"
    },
    {
      "cell_type": "markdown",
      "metadata": {},
      "source": [
        "위에서 decision_function의 결과로 나오는 decision_score는 r의 제곱이며,\n",
        "이 r은 model에서 나온 결과인데 이 model은 ANOMALOUSBase(w_init,\n",
        "r_init)의 결과이다.\n",
        "\n",
        "이 r_init은 ANOMALOUS class 내에 있는 x, s, l, w_init, r_init =\n",
        "self.process_graph(data) 여기서 나온다.\n",
        "\n",
        "`-` return되는 거는 순서대로 x, s, laplacian, w_init, r_init\n",
        "\n",
        "`x`"
      ],
      "id": "83cddcf2-f3c5-4207-b125-89a0afd13947"
    },
    {
      "cell_type": "code",
      "execution_count": 20,
      "metadata": {},
      "outputs": [],
      "source": [
        "detector.process_graph(data)[0]"
      ],
      "id": "6c796e59-d29e-4e02-a6b3-dcefdd3da6c1"
    },
    {
      "cell_type": "code",
      "execution_count": 21,
      "metadata": {},
      "outputs": [],
      "source": [
        "detector.process_graph(data)[0].shape"
      ],
      "id": "53882dd2-d59d-4a04-9df9-b5b09c4772d8"
    },
    {
      "cell_type": "markdown",
      "metadata": {},
      "source": [
        "$X \\in \\mathbb{R}^{d \\times n}$\n",
        "\n",
        "2708 = `n` = the number of nodes\n",
        "\n",
        "1433 = `d` = dimensiotnalattribute\n",
        "\n",
        "`s`"
      ],
      "id": "478f1b07-8545-421e-84c9-5e36d751f502"
    },
    {
      "cell_type": "code",
      "execution_count": 22,
      "metadata": {},
      "outputs": [],
      "source": [
        "detector.process_graph(data)[1]"
      ],
      "id": "e0042a54-fb0a-4a6a-9c96-23159190582c"
    },
    {
      "cell_type": "code",
      "execution_count": 23,
      "metadata": {},
      "outputs": [],
      "source": [
        "detector.process_graph(data)[1].shape"
      ],
      "id": "abcd3863-743a-40b9-9d62-9d054d9b44d9"
    },
    {
      "cell_type": "markdown",
      "metadata": {},
      "source": [
        "$A \\in \\mathbb{R}^{n \\times n}$\n",
        "\n",
        "`laplacian`"
      ],
      "id": "6dd9065f-de9a-4ad9-85d9-2dcfb8eef31b"
    },
    {
      "cell_type": "code",
      "execution_count": 24,
      "metadata": {},
      "outputs": [],
      "source": [
        "detector.process_graph(data)[2]"
      ],
      "id": "d13496c0-414d-4367-ae28-4f38449afdc2"
    },
    {
      "cell_type": "code",
      "execution_count": 25,
      "metadata": {},
      "outputs": [],
      "source": [
        "detector.process_graph(data)[2].shape"
      ],
      "id": "efe14b3d-6f0d-4b4e-87b6-19b7cf11e380"
    },
    {
      "cell_type": "markdown",
      "metadata": {},
      "source": [
        "`generated Laplacian`\n",
        "\n",
        "$\\tilde{R} L \\tilde{R}^T$\n",
        "\n",
        "`w_init`"
      ],
      "id": "72097d37-d28b-4b8d-8c8b-f8c38af4d034"
    },
    {
      "cell_type": "code",
      "execution_count": 26,
      "metadata": {},
      "outputs": [],
      "source": [
        "detector.process_graph(data)[3]"
      ],
      "id": "78e01971-967f-4ebe-a5fe-89a6475194a0"
    },
    {
      "cell_type": "code",
      "execution_count": 27,
      "metadata": {},
      "outputs": [],
      "source": [
        "detector.process_graph(data)[3].shape"
      ],
      "id": "1d4cd42e-5c62-45e5-ab59-f8de6e56e80d"
    },
    {
      "cell_type": "markdown",
      "metadata": {},
      "source": [
        "`r_init`"
      ],
      "id": "ecb024f2-8f36-4f7c-84f8-311644f79b47"
    },
    {
      "cell_type": "code",
      "execution_count": 28,
      "metadata": {},
      "outputs": [],
      "source": [
        "detector.process_graph(data)[4]"
      ],
      "id": "a31e1574-e64d-4a59-9c99-2ebccb31c81c"
    },
    {
      "cell_type": "code",
      "execution_count": 29,
      "metadata": {},
      "outputs": [],
      "source": [
        "detector.process_graph(data)[4].shape"
      ],
      "id": "cc661c59-43f3-4d70-89e1-a99f02273dd0"
    }
  ],
  "nbformat": 4,
  "nbformat_minor": 5,
  "metadata": {
    "kernelspec": {
      "name": "python3",
      "display_name": "Python 3",
      "language": "python"
    },
    "language_info": {
      "name": "python",
      "codemirror_mode": {
        "name": "ipython",
        "version": "3"
      },
      "file_extension": ".py",
      "mimetype": "text/x-python",
      "nbconvert_exporter": "python",
      "pygments_lexer": "ipython3",
      "version": "3.8.0"
    }
  }
}
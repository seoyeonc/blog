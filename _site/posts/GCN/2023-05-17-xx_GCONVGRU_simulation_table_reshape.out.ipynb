{
  "cells": [
    {
      "cell_type": "markdown",
      "metadata": {},
      "source": [
        "# GConvGRU_Simulation Tables_reshape\n",
        "\n",
        "SEOYEON CHOI  \n",
        "5/25/23\n",
        "\n",
        "> Simulation Tables\n",
        "\n",
        "# import"
      ],
      "id": "90e081f8-5a93-4d3d-a265-d5097f69e9b7"
    },
    {
      "cell_type": "code",
      "execution_count": 1,
      "metadata": {},
      "outputs": [],
      "source": [
        "import pandas as pd"
      ],
      "id": "e7e4b53e-54fa-4541-b37e-7ad82271b0e5"
    },
    {
      "cell_type": "code",
      "execution_count": 14,
      "metadata": {},
      "outputs": [],
      "source": [
        "data_fivenodes = pd.read_csv('./simulation_results/Real_simulation_reshape/fivedones_Simulation.csv')"
      ],
      "id": "a73a38a0-91cf-4c9c-bcac-866ef70638b3"
    },
    {
      "cell_type": "code",
      "execution_count": 15,
      "metadata": {},
      "outputs": [],
      "source": [
        "data_chickenpox = pd.read_csv('./simulation_results/Real_simulation_reshape/chikenpox_Simulation.csv')"
      ],
      "id": "28ecd441-50df-4b0e-9fbe-f5275cab2397"
    },
    {
      "cell_type": "code",
      "execution_count": 16,
      "metadata": {},
      "outputs": [],
      "source": [
        "data_pedal = pd.read_csv('./simulation_results/Real_simulation_reshape/pedalme_Simulation.csv')"
      ],
      "id": "fe2adcc3-71fc-460f-bcc0-472242a7e641"
    },
    {
      "cell_type": "code",
      "execution_count": 17,
      "metadata": {},
      "outputs": [],
      "source": [
        "data_pedal2 = pd.read_csv('./simulation_results/Real_simulation_reshape/pedalme_Simulation_itstgcnsnd.csv')"
      ],
      "id": "b683d953-7334-4890-a2c1-09a80a08f53e"
    },
    {
      "cell_type": "code",
      "execution_count": 18,
      "metadata": {},
      "outputs": [],
      "source": [
        "data__wiki = pd.read_csv('./simulation_results/Real_simulation_reshape/wikimath.csv')"
      ],
      "id": "9eafd699-6a62-4793-abad-6146fd4701bd"
    },
    {
      "cell_type": "code",
      "execution_count": 19,
      "metadata": {},
      "outputs": [],
      "source": [
        "data_wiki_GSO = pd.read_csv('./simulation_results/Real_simulation_reshape/wikimath_GSO_st.csv')"
      ],
      "id": "ead41760-f726-4eab-b89c-c7056f7e6993"
    },
    {
      "cell_type": "code",
      "execution_count": 20,
      "metadata": {},
      "outputs": [],
      "source": [
        "data_windmillsmall = pd.read_csv('./simulation_results/Real_simulation_reshape/windmillsmall.csv')"
      ],
      "id": "daf00960-0f4f-4433-ae72-4273735676a4"
    },
    {
      "cell_type": "code",
      "execution_count": 21,
      "metadata": {},
      "outputs": [],
      "source": [
        "data_monte = pd.read_csv('./simulation_results/Real_simulation_reshape/monte.csv')"
      ],
      "id": "4ad7d6a1-3a07-473c-b308-de7a4e9b601e"
    },
    {
      "cell_type": "code",
      "execution_count": 22,
      "metadata": {},
      "outputs": [],
      "source": [
        "data = pd.concat([data_fivenodes,data_chickenpox,data_pedal,data__wiki,data_windmillsmall,data_monte]);data"
      ],
      "id": "e1efc207-5257-47ed-b15a-c349bae1605e"
    },
    {
      "cell_type": "markdown",
      "metadata": {},
      "source": [
        "# Fivenodes\n",
        "\n",
        "## Baseline"
      ],
      "id": "ba974be7-cfae-42d4-b52d-1fc9910e0306"
    },
    {
      "cell_type": "code",
      "execution_count": 41,
      "metadata": {},
      "outputs": [],
      "source": [
        "pd.merge(data.query(\"dataset=='fivenodes' and mtype!='rand' and mtype!='block'\").groupby(['nof_filters','method','lags'])['mse'].mean().reset_index(),\n",
        "         data.query(\"dataset=='fivenodes' and mtype!='rand' and mtype!='block'\").groupby(['nof_filters','method','lags'])['mse'].std().reset_index(),\n",
        "         on=['method','nof_filters','lags']).rename(columns={'mse_x':'mean','mse_y':'std'}).round(3)"
      ],
      "id": "7568fcdd-0a20-4a2e-b1fb-c95c66b371ac"
    },
    {
      "cell_type": "markdown",
      "metadata": {},
      "source": [
        "## Random"
      ],
      "id": "daffb2fc-0317-40cd-b5b2-9c7e6941911f"
    },
    {
      "cell_type": "code",
      "execution_count": 42,
      "metadata": {},
      "outputs": [],
      "source": [
        "pd.merge(data.query(\"dataset=='fivenodes' and mtype=='rand'\").groupby(['mrate','nof_filters','method','lags'])['mse'].mean().reset_index(),\n",
        "         data.query(\"dataset=='fivenodes' and mtype=='rand'\").groupby(['mrate','nof_filters','method','lags'])['mse'].std().reset_index(),\n",
        "         on=['method','nof_filters','mrate','lags']).rename(columns={'mse_x':'mean','mse_y':'std'}).round(3).query(\"nof_filters==12\")"
      ],
      "id": "c1134e39-4836-45d3-90c4-384c28dccd7e"
    },
    {
      "cell_type": "markdown",
      "metadata": {},
      "source": [
        "## Block"
      ],
      "id": "8042583a-c0b8-4290-b29d-f0c4ebb70053"
    },
    {
      "cell_type": "code",
      "execution_count": 43,
      "metadata": {},
      "outputs": [],
      "source": [
        "pd.merge(data.query(\"dataset=='fivenodes' and mtype=='block'\").groupby(['mrate','nof_filters','method'])['mse'].mean().reset_index(),\n",
        "         data.query(\"dataset=='fivenodes' and mtype=='block'\").groupby(['mrate','nof_filters','method'])['mse'].std().reset_index(),\n",
        "         on=['method','nof_filters','mrate']).rename(columns={'mse_x':'mean','mse_y':'std'}).round(3)"
      ],
      "id": "a341d5db-3b16-4300-8efe-940ade9fa119"
    },
    {
      "cell_type": "markdown",
      "metadata": {},
      "source": [
        "# ChickenpoxDatasetLoader(lags=4)\n",
        "\n",
        "## Baseline"
      ],
      "id": "20403355-e2b1-473e-8383-23f5bc1c66d9"
    },
    {
      "cell_type": "code",
      "execution_count": 108,
      "metadata": {},
      "outputs": [],
      "source": [
        "pd.merge(data.query(\"dataset=='chickenpox' and mtype!='rand' and mtype!='block'\").groupby(['nof_filters','method'])['mse'].mean().reset_index(),\n",
        "         data.query(\"dataset=='chickenpox' and mtype!='rand' and mtype!='block'\").groupby(['nof_filters','method'])['mse'].std().reset_index(),\n",
        "         on=['method','nof_filters']).rename(columns={'mse_x':'mean','mse_y':'std'}).round(3).query(\"nof_filters==16\")"
      ],
      "id": "4e3b2f49-e77c-490a-9198-b4f0c28a35b7"
    },
    {
      "cell_type": "markdown",
      "metadata": {},
      "source": [
        "## Random"
      ],
      "id": "30b8c6bb-1849-4eb4-8ee9-4633c57475ea"
    },
    {
      "cell_type": "code",
      "execution_count": 109,
      "metadata": {},
      "outputs": [],
      "source": [
        "pd.merge(data.query(\"dataset=='chickenpox' and mtype=='rand'\").groupby(['mrate','inter_method','nof_filters','method'])['mse'].mean().reset_index(),\n",
        "         data.query(\"dataset=='chickenpox' and mtype=='rand'\").groupby(['mrate','inter_method','nof_filters','method'])['mse'].std().reset_index(),\n",
        "         on=['method','inter_method','mrate','nof_filters']).rename(columns={'mse_x':'mean','mse_y':'std'}).round(3)"
      ],
      "id": "3df60b2d-0179-4345-9530-2e86716c0a7c"
    },
    {
      "cell_type": "markdown",
      "metadata": {},
      "source": [
        "## Block"
      ],
      "id": "8ace3663-9dfc-4046-96d8-7faeb41e2a46"
    },
    {
      "cell_type": "code",
      "execution_count": 110,
      "metadata": {},
      "outputs": [],
      "source": [
        "pd.merge(data.query(\"dataset=='chickenpox' and mtype=='block'\").groupby(['inter_method','mrate','nof_filters','method'])['mse'].mean().reset_index(),\n",
        "         data.query(\"dataset=='chickenpox' and mtype=='block'\").groupby(['inter_method','mrate','nof_filters','method'])['mse'].std().reset_index(),\n",
        "         on=['method','inter_method','mrate','nof_filters']).rename(columns={'mse_x':'mean','mse_y':'std'})"
      ],
      "id": "891c7065-6664-44cc-8316-d7ad802bfd65"
    },
    {
      "cell_type": "markdown",
      "metadata": {},
      "source": [
        "# PedalMeDatasetLoader (lags=4)\n",
        "\n",
        "## Baseline"
      ],
      "id": "5ecc427b-4088-42c0-a485-252db2e45c41"
    },
    {
      "cell_type": "code",
      "execution_count": 47,
      "metadata": {},
      "outputs": [],
      "source": [
        "pd.merge(data.query(\"dataset=='pedalme' and mtype!='rand' and mtype!='block'\").groupby(['lags','nof_filters','method'])['mse'].mean().reset_index(),\n",
        "         data.query(\"dataset=='pedalme' and mtype!='rand' and mtype!='block'\").groupby(['lags','nof_filters','method'])['mse'].std().reset_index(),\n",
        "         on=['method','lags','nof_filters']).rename(columns={'mse_x':'mean','mse_y':'std'}).round(3).query(\"lags==4\")"
      ],
      "id": "afa199e4-2921-417e-9d93-065deddf3177"
    },
    {
      "cell_type": "markdown",
      "metadata": {},
      "source": [
        "## Random"
      ],
      "id": "0df1a3b8-1b20-48b5-a4be-5a4b8f06cd74"
    },
    {
      "cell_type": "code",
      "execution_count": 48,
      "metadata": {},
      "outputs": [],
      "source": [
        "pd.merge(data.query(\"dataset=='pedalme' and mtype=='rand'\").groupby(['mrate','lags','inter_method','method'])['mse'].mean().reset_index(),\n",
        "         data.query(\"dataset=='pedalme' and mtype=='rand'\").groupby(['mrate','lags','inter_method','method'])['mse'].std().reset_index(),\n",
        "         on=['method','mrate','lags','inter_method']).rename(columns={'mse_x':'mean','mse_y':'std'}).round(3)"
      ],
      "id": "8fd62cec-954c-4649-bd57-d650ed44b100"
    },
    {
      "cell_type": "markdown",
      "metadata": {},
      "source": [
        "## Block"
      ],
      "id": "266d0a3b-c922-4002-a8fe-fdcaf437a7de"
    },
    {
      "cell_type": "code",
      "execution_count": 49,
      "metadata": {},
      "outputs": [],
      "source": [
        "pd.merge(data.query(\"dataset=='pedalme' and mtype=='block'\").groupby(['mrate','lags','inter_method','method'])['mse'].mean().reset_index(),\n",
        "         data.query(\"dataset=='pedalme' and mtype=='block'\").groupby(['mrate','lags','inter_method','method'])['mse'].std().reset_index(),\n",
        "         on=['method','mrate','lags','inter_method']).rename(columns={'mse_x':'mean','mse_y':'std'}).round(3).query(\"lags==4\")"
      ],
      "id": "a813b625-829e-47fa-9e59-ded108d6f6e3"
    },
    {
      "cell_type": "markdown",
      "metadata": {},
      "source": [
        "## W_st"
      ],
      "id": "1670e7c3-e862-45f9-b8df-c0bd4910d118"
    },
    {
      "cell_type": "code",
      "execution_count": 71,
      "metadata": {},
      "outputs": [],
      "source": [
        "pd.merge(data_pedal2.query(\"mtype=='rand'\").groupby(['mrate','lags','inter_method','method'])['mse'].mean().reset_index(),\n",
        "         data_pedal2.query(\"mtype=='rand'\").groupby(['mrate','lags','inter_method','method'])['mse'].std().reset_index(),\n",
        "         on=['method','mrate','lags','inter_method']).rename(columns={'mse_x':'mean','mse_y':'std'}).round(3).query(\"lags==4\")"
      ],
      "id": "e6bf9105-2388-485a-ad0a-eefac540de1e"
    },
    {
      "cell_type": "code",
      "execution_count": 72,
      "metadata": {},
      "outputs": [],
      "source": [
        "pd.merge(data_pedal2.query(\"mtype=='block'\").groupby(['mrate','lags','inter_method','method'])['mse'].mean().reset_index(),\n",
        "         data_pedal2.query(\"mtype=='block'\").groupby(['mrate','lags','inter_method','method'])['mse'].std().reset_index(),\n",
        "         on=['method','mrate','lags','inter_method']).rename(columns={'mse_x':'mean','mse_y':'std'}).round(3).query(\"lags==4\")"
      ],
      "id": "2837c27d-afbb-4158-8836-e7b4e4140ea6"
    },
    {
      "cell_type": "markdown",
      "metadata": {},
      "source": [
        "# WikiMathsDatasetLoader (lags=8)\n",
        "\n",
        "## Baseline"
      ],
      "id": "27d556ca-65a0-430c-a542-10c9db358795"
    },
    {
      "cell_type": "code",
      "execution_count": 142,
      "metadata": {},
      "outputs": [],
      "source": [
        "pd.merge(data.query(\"dataset=='wikimath' and mrate==0\").groupby(['lags','nof_filters','method'])['mse'].mean().reset_index(),\n",
        "         data.query(\"dataset=='wikimath' and mrate==0\").groupby(['lags','nof_filters','method'])['mse'].std().reset_index(),\n",
        "         on=['lags','nof_filters','method']).rename(columns={'mse_x':'mean','mse_y':'std'}).round(3)"
      ],
      "id": "25bac3bc-42aa-4bbb-8d01-e344f942bd05"
    },
    {
      "cell_type": "markdown",
      "metadata": {},
      "source": [
        "## Random"
      ],
      "id": "68d03032-4f22-4433-97a7-055d79b0ab69"
    },
    {
      "cell_type": "code",
      "execution_count": 143,
      "metadata": {},
      "outputs": [],
      "source": [
        "pd.merge(data.query(\"dataset=='wikimath' and mtype=='rand'\").groupby(['mrate','lags','method'])['mse'].mean().reset_index(),\n",
        "         data.query(\"dataset=='wikimath' and mtype=='rand'\").groupby(['mrate','lags','method'])['mse'].std().reset_index(),\n",
        "         on=['method','mrate','lags']).rename(columns={'mse_x':'mean','mse_y':'std'}).round(3)"
      ],
      "id": "4db42380-a44c-4085-88c2-320e4764ec89"
    },
    {
      "cell_type": "markdown",
      "metadata": {},
      "source": [
        "## Block"
      ],
      "id": "4497cb8c-7c10-4427-b17c-e0a22525abc8"
    },
    {
      "cell_type": "code",
      "execution_count": 144,
      "metadata": {},
      "outputs": [],
      "source": [
        "pd.merge(data.query(\"dataset=='wikimath' and mtype=='block'\").groupby(['mrate','lags','method'])['mse'].mean().reset_index(),\n",
        "         data.query(\"dataset=='wikimath' and mtype=='block'\").groupby(['mrate','lags','method'])['mse'].std().reset_index(),\n",
        "         on=['method','mrate','lags']).rename(columns={'mse_x':'mean','mse_y':'std'})"
      ],
      "id": "478010cd-e6bf-41b3-9e73-23dc2d1b913f"
    },
    {
      "cell_type": "markdown",
      "metadata": {},
      "source": [
        "## missing values on the same nodes"
      ],
      "id": "52165cd5-0e5d-4466-b0a4-8ff6c675f29f"
    },
    {
      "cell_type": "code",
      "execution_count": 161,
      "metadata": {},
      "outputs": [],
      "source": [
        "pd.merge(data_wiki_GSO.groupby(['mrate','lags','method'])['mse'].mean().reset_index(),\n",
        "        data_wiki_GSO.groupby(['mrate','lags','method'])['mse'].std().reset_index(),\n",
        "         on=['method','mrate','lags']).rename(columns={'mse_x':'mean','mse_y':'std'}).round(3)"
      ],
      "id": "5aed11c4-6cfa-439b-be2a-51197f2eb542"
    },
    {
      "cell_type": "markdown",
      "metadata": {},
      "source": [
        "# WindmillOutputSmallDatasetLoader (lags=8)\n",
        "\n",
        "## Baseline"
      ],
      "id": "d07a4c3f-d8b2-4362-a04f-ca2ed9222e7d"
    },
    {
      "cell_type": "code",
      "execution_count": 23,
      "metadata": {},
      "outputs": [],
      "source": [
        "pd.merge(data.query(\"dataset=='windmillsmall' and mrate==0\").groupby(['lags','method'])['mse'].mean().reset_index(),\n",
        "         data.query(\"dataset=='windmillsmall' and mrate==0\").groupby(['lags','method'])['mse'].std().reset_index(),\n",
        "         on=['method','lags']).rename(columns={'mse_x':'mean','mse_y':'std'}).round(3)"
      ],
      "id": "16ea7445-eafd-4020-9a96-922994ec6afd"
    },
    {
      "cell_type": "markdown",
      "metadata": {},
      "source": [
        "## Random"
      ],
      "id": "e90a419b-3579-4105-9a09-eeb3262dba3f"
    },
    {
      "cell_type": "code",
      "execution_count": 24,
      "metadata": {},
      "outputs": [],
      "source": [
        "pd.merge(data.query(\"dataset=='windmillsmall' and mtype=='rand'\").groupby(['mrate','lags','method'])['mse'].mean().reset_index(),\n",
        "         data.query(\"dataset=='windmillsmall' and mtype=='rand'\").groupby(['mrate','lags','method'])['mse'].std().reset_index(),\n",
        "         on=['method','mrate','lags']).rename(columns={'mse_x':'mean','mse_y':'std'}).round(3)"
      ],
      "id": "e08bae5a-1b14-4f17-a32f-942a17bf936c"
    },
    {
      "cell_type": "markdown",
      "metadata": {},
      "source": [
        "## Block"
      ],
      "id": "06f7d25d-7392-4645-8021-64828b0e961c"
    },
    {
      "cell_type": "code",
      "execution_count": 13,
      "metadata": {},
      "outputs": [],
      "source": [
        "pd.merge(data.query(\"dataset=='windmillsmall' and mtype=='block'\").groupby(['mrate','lags','method'])['mse'].mean().reset_index(),\n",
        "         data.query(\"dataset=='windmillsmall' and mtype=='block'\").groupby(['mrate','lags','method'])['mse'].std().reset_index(),\n",
        "         on=['method','mrate','lags']).rename(columns={'mse_x':'mean','mse_y':'std'}).round(3)"
      ],
      "id": "2efd25c3-e0f9-4873-b40d-c9f70931f46d"
    },
    {
      "cell_type": "markdown",
      "metadata": {},
      "source": [
        "# Montevideobus (lags=4)\n",
        "\n",
        "## Baseline"
      ],
      "id": "3356598c-081e-4dc4-a3ef-e0238579cf09"
    },
    {
      "cell_type": "code",
      "execution_count": 100,
      "metadata": {},
      "outputs": [],
      "source": [
        "pd.merge(data.query(\"dataset=='monte' and mrate==0\").groupby(['lags','method'])['mse'].mean().reset_index(),\n",
        "         data.query(\"dataset=='monte' and mrate==0\").groupby(['lags','method'])['mse'].std().reset_index(),\n",
        "         on=['method','lags']).rename(columns={'mse_x':'mean','mse_y':'std'}).round(3)"
      ],
      "id": "dedbb019-d4d2-4175-9981-267b39d8a3d0"
    },
    {
      "cell_type": "markdown",
      "metadata": {},
      "source": [
        "## Random"
      ],
      "id": "8d793de7-59cf-4302-a0e7-87900839df19"
    },
    {
      "cell_type": "code",
      "execution_count": 101,
      "metadata": {},
      "outputs": [],
      "source": [
        "pd.merge(data.query(\"dataset=='monte' and mtype=='rand'\").groupby(['mrate','lags','inter_method','method'])['mse'].mean().reset_index(),\n",
        "         data.query(\"dataset=='monte' and mtype=='rand'\").groupby(['mrate','lags','inter_method','method'])['mse'].std().reset_index(),\n",
        "         on=['mrate','inter_method','method','mrate','lags']).rename(columns={'mse_x':'mean','mse_y':'std'})"
      ],
      "id": "bbbdae99-477d-4e24-b002-baf52af36806"
    },
    {
      "cell_type": "markdown",
      "metadata": {},
      "source": [
        "## Block"
      ],
      "id": "65ac5903-75be-4b85-ba58-814e83e2621f"
    },
    {
      "cell_type": "code",
      "execution_count": 102,
      "metadata": {},
      "outputs": [],
      "source": [
        "pd.merge(data.query(\"dataset=='monte' and mtype=='block'\").groupby(['mrate','lags','inter_method','method'])['mse'].mean().reset_index(),\n",
        "         data.query(\"dataset=='monte' and mtype=='block'\").groupby(['mrate','lags','inter_method','method'])['mse'].std().reset_index(),\n",
        "         on=['method','mrate','inter_method','lags']).rename(columns={'mse_x':'mean','mse_y':'std'})"
      ],
      "id": "baff0625-7b5a-466e-8565-1a75019747cb"
    }
  ],
  "nbformat": 4,
  "nbformat_minor": 5,
  "metadata": {
    "kernelspec": {
      "name": "python3",
      "display_name": "Python 3",
      "language": "python"
    },
    "language_info": {
      "name": "python",
      "codemirror_mode": {
        "name": "ipython",
        "version": "3"
      },
      "file_extension": ".py",
      "mimetype": "text/x-python",
      "nbconvert_exporter": "python",
      "pygments_lexer": "ipython3",
      "version": "3.8.0"
    },
    "toc-autonumbering": false,
    "toc-showcode": false
  }
}
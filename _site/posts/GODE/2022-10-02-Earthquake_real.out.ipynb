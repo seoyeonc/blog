{
  "cells": [
    {
      "cell_type": "markdown",
      "metadata": {},
      "source": [
        "# Earthquake\n",
        "\n",
        "SEOYEON CHOI  \n",
        "2022-11-24\n",
        "\n",
        "Real analysis\n",
        "\n",
        "## imports"
      ],
      "id": "389cf973-d86d-4d4c-b56f-880899a6db8c"
    },
    {
      "cell_type": "code",
      "execution_count": 6,
      "metadata": {},
      "outputs": [],
      "source": [
        "import tqdm\n",
        "import numpy as np\n",
        "import pandas as pd\n",
        "import matplotlib.pyplot as plt \n",
        "import plotly.express as px\n",
        "import warnings\n",
        "warnings.simplefilter(\"ignore\", np.ComplexWarning)\n",
        "from haversine import haversine\n",
        "from IPython.display import HTML\n",
        "import plotly.graph_objects as go"
      ],
      "id": "f8630cda-e3f6-4431-8863-e89bf6d2ed4a"
    },
    {
      "cell_type": "code",
      "execution_count": 7,
      "metadata": {},
      "outputs": [],
      "source": [
        "import rpy2\n",
        "import rpy2.robjects as ro \n",
        "from rpy2.robjects.vectors import FloatVector \n",
        "from rpy2.robjects.packages import importr"
      ],
      "id": "2ac1743d-2fb3-4dea-b5e7-a58f6be03603"
    },
    {
      "cell_type": "markdown",
      "metadata": {},
      "source": [
        "## load data and clean it\n",
        "\n",
        "`-` load"
      ],
      "id": "591b2153-7e36-4216-86f5-2e6e8375eff1"
    },
    {
      "cell_type": "code",
      "execution_count": 8,
      "metadata": {},
      "outputs": [],
      "source": [
        "df= pd.read_csv('https://raw.githubusercontent.com/plotly/datasets/master/earthquakes-23k.csv')\n",
        "df"
      ],
      "id": "d51071e5-5241-48a4-9a74-bf32bfe535fb"
    },
    {
      "cell_type": "code",
      "execution_count": 9,
      "metadata": {},
      "outputs": [],
      "source": [
        "df_korea= pd.read_csv('earthquake_korea2.csv').iloc[:,[1,2,5,6]].rename(columns={'규모':'Magnitude'})"
      ],
      "id": "e4c4e73f-95f2-4d17-a0d9-7bc459706bfc"
    },
    {
      "cell_type": "markdown",
      "metadata": {},
      "source": [
        "https://www.weather.go.kr/w/eqk-vol/search/korea.do?schOption=&xls=0&startTm=2012-01-02&endTm=2022-06-17&startSize=2&endSize=&startLat=&endLat=&startLon=&endLon=&lat=&lon=&dist=&keyword=&dpType=m"
      ],
      "id": "650fd419-0a3d-4024-9d7a-10997d6f8c91"
    },
    {
      "cell_type": "code",
      "execution_count": 10,
      "metadata": {},
      "outputs": [],
      "source": [
        "df_global= pd.concat([pd.read_csv('00_05.csv'),pd.read_csv('05_10.csv'),pd.read_csv('10_15.csv'),pd.read_csv('15_20.csv')]).iloc[:,[0,1,2,4]].rename(columns={'latitude':'Latitude','longitude':'Longitude','mag':'Magnitude'}).reset_index().iloc[:,1:]"
      ],
      "id": "1eeb883f-2d2d-4442-a22c-e51efbc00df5"
    },
    {
      "cell_type": "markdown",
      "metadata": {},
      "source": [
        "https://www.usgs.gov/programs/earthquake-hazards/lists-maps-and-statistics\n",
        "\n",
        "`-` cleaning"
      ],
      "id": "55f682ab-5a75-4294-8e28-e772c3abec1a"
    },
    {
      "cell_type": "code",
      "execution_count": 11,
      "metadata": {},
      "outputs": [],
      "source": [
        "df.Date[df.Date == '1975-02-23T02:58:41.000Z']"
      ],
      "id": "4bdde104-5708-4d93-9443-02be730b970b"
    },
    {
      "cell_type": "code",
      "execution_count": 12,
      "metadata": {},
      "outputs": [],
      "source": [
        "df.iloc[3378,0] = '02/03/1975'"
      ],
      "id": "f6dded53-1ee4-4516-9e3a-7ef269279818"
    },
    {
      "cell_type": "code",
      "execution_count": 13,
      "metadata": {},
      "outputs": [],
      "source": [
        "df.Date[df.Date == '1985-04-28T02:53:41.530Z']"
      ],
      "id": "098c6f68-5dce-4d4e-afa7-5c13080fca2d"
    },
    {
      "cell_type": "code",
      "execution_count": 14,
      "metadata": {},
      "outputs": [],
      "source": [
        "df.iloc[7512,0] = '04/28/1985'"
      ],
      "id": "016111d3-fe84-45e4-8e7f-5feb0ef1d100"
    },
    {
      "cell_type": "code",
      "execution_count": 15,
      "metadata": {},
      "outputs": [],
      "source": [
        "df.Date[df.Date == '2011-03-13T02:23:34.520Z']"
      ],
      "id": "9fb351b8-8d99-4934-b00f-b611a7ab8a34"
    },
    {
      "cell_type": "code",
      "execution_count": 16,
      "metadata": {},
      "outputs": [],
      "source": [
        "df.iloc[20650,0] = '03/13/2011'"
      ],
      "id": "22f313ad-ecf9-4b2b-8dad-542af76a811b"
    },
    {
      "cell_type": "code",
      "execution_count": 17,
      "metadata": {},
      "outputs": [],
      "source": [
        "df= df.assign(Year=list(map(lambda x: x.split('/')[-1], df.Date))).iloc[:,1:]\n",
        "df"
      ],
      "id": "b9592a92-dfd4-4bbe-a194-16568d9863d6"
    },
    {
      "cell_type": "code",
      "execution_count": 18,
      "metadata": {},
      "outputs": [],
      "source": [
        "df.Year = df.Year.astype(np.float64)"
      ],
      "id": "ce96a2f8"
    },
    {
      "cell_type": "code",
      "execution_count": 19,
      "metadata": {},
      "outputs": [],
      "source": [
        "df_korea = df_korea.assign(Year=list(map(lambda x: x.split('/')[0], df_korea.발생시각))).iloc[:,1:]\n",
        "df_korea = df_korea.assign(Latitude=list(map(lambda x: x.split(' ')[0], df_korea.위도))).iloc[:,[0,2,3,4]]\n",
        "df_korea = df_korea.assign(Longitude=list(map(lambda x: x.split(' ')[0], df_korea.경도))).iloc[:,[0,2,3,4]]"
      ],
      "id": "56ab5b70-6750-40db-b810-7208f8b2c120"
    },
    {
      "cell_type": "code",
      "execution_count": 20,
      "metadata": {},
      "outputs": [],
      "source": [
        "df_global = df_global.assign(Year=list(map(lambda x: x.split('-')[0], df_global.time))).iloc[:,1:]"
      ],
      "id": "b94778c7-5ac1-4a27-af7e-4e61875b23e6"
    },
    {
      "cell_type": "code",
      "execution_count": 21,
      "metadata": {},
      "outputs": [],
      "source": [
        "df_korea.Year = df_korea.Year.astype(np.float64)\n",
        "df_korea.Latitude = df_korea.Latitude.astype(np.float64)\n",
        "df_korea.Longitude = df_korea.Longitude.astype(np.float64)\n",
        "df_global.Year = df_global.Year.astype(np.float64)"
      ],
      "id": "f53ed97d-c585-4faf-b1ac-570abbdfbb8c"
    },
    {
      "cell_type": "markdown",
      "metadata": {},
      "source": [
        "## define class"
      ],
      "id": "16cc572f-d923-4da8-ad7d-ff509ad869b3"
    },
    {
      "cell_type": "code",
      "execution_count": 22,
      "metadata": {},
      "outputs": [],
      "source": [
        "class MooYaHo:\n",
        "    def __init__(self,df):\n",
        "        self.df = df \n",
        "        self.f = df.Magnitude.to_numpy()\n",
        "        self.year = df.Year.to_numpy()\n",
        "        self.lat = df.Latitude.to_numpy()\n",
        "        self.long = df.Longitude.to_numpy()\n",
        "        self.n = len(self.f)\n",
        "        \n",
        "        self.theta= None\n",
        "    def get_distance(self):\n",
        "        self.D = np.zeros([self.n,self.n])\n",
        "        locations = np.stack([self.lat, self.long],axis=1)\n",
        "        for i in tqdm.tqdm(range(self.n)):\n",
        "            for j in range(i,self.n): \n",
        "                self.D[i,j]=haversine(locations[i],locations[j])\n",
        "        self.D = self.D+self.D.T\n",
        "    def get_weightmatrix(self,theta=1,beta=0.5,kappa=4000):\n",
        "        self.theta = theta\n",
        "        dist = np.where(self.D<kappa,self.D,0)\n",
        "        self.W = np.exp(-(dist/self.theta)**2)\n",
        "\n",
        "    def _eigen(self):\n",
        "        d= self.W.sum(axis=1)\n",
        "        D= np.diag(d)\n",
        "        self.L = np.diag(1/np.sqrt(d)) @ (D-self.W) @ np.diag(1/np.sqrt(d))\n",
        "        self.lamb, self.Psi = np.linalg.eigh(self.L)\n",
        "        self.Lamb = np.diag(self.lamb)        \n",
        "    def fit(self,m):\n",
        "        self._eigen()\n",
        "        self.fhat = self.Psi[:,0:m]@self.Psi[:,0:m].T@self.f\n",
        "        self.df = self.df.assign(MagnitudeHat = self.fhat)\n",
        "        self.df = self.df.assign(Residual = self.df.Magnitude- self.df.MagnitudeHat)\n",
        "        plt.plot(self.f,'.')\n",
        "        plt.plot(self.fhat,'x')\n",
        "        \n",
        "    def vis(self,MagThresh=7,ResThresh=1):\n",
        "        fig = px.density_mapbox(self.df, \n",
        "                        lat='Latitude', \n",
        "                        lon='Longitude', \n",
        "                        z='Magnitude', \n",
        "                        radius=5,\n",
        "                        center=dict(lat=37, lon=160), \n",
        "                        zoom=1.5,\n",
        "                        height=900,\n",
        "                        opacity = 0.4,\n",
        "                        mapbox_style=\"stamen-terrain\",\n",
        "                        range_color=[-7,7])\n",
        "        fig.update_layout(margin={\"r\":0,\"t\":0,\"l\":0,\"b\":0})\n",
        "        fig.add_scattermapbox(lat = self.df.query('Magnitude > @MagThresh')['Latitude'],\n",
        "                      lon = self.df.query('Magnitude > @MagThresh')['Longitude'],\n",
        "                      text = self.df.query('Magnitude > @MagThresh')['Magnitude'],\n",
        "                      marker_size= 8,\n",
        "                      marker_color= 'red',\n",
        "                      opacity = 0.6\n",
        "                      )\n",
        "        fig.add_scattermapbox(lat = self.df.query('Residual**2 > @ResThresh')['Latitude'],\n",
        "                      lon = self.df.query('Residual**2 > @ResThresh')['Longitude'],\n",
        "                      text = self.df.query('Magnitude > @ResThresh')['Magnitude'],\n",
        "                      marker_size= 8,\n",
        "                      marker_color= 'blue',\n",
        "                      opacity = 0.5\n",
        "                      )\n",
        "        return HTML(fig.to_html(include_mathjax=False, config=dict({'scrollZoom':False})))\n",
        "    def visf(self):\n",
        "        fig = px.density_mapbox(self.df, \n",
        "                        lat='Latitude', \n",
        "                        lon='Longitude', \n",
        "                        z='Magnitude', \n",
        "                        radius=5,\n",
        "                        center=dict(lat=37, lon=160), \n",
        "                        zoom=1.5,\n",
        "                        height=900,\n",
        "                        opacity = 0.7,\n",
        "                        mapbox_style=\"stamen-terrain\",\n",
        "                        range_color=[-7,7])\n",
        "        fig.update_layout(margin={\"r\":0,\"t\":0,\"l\":0,\"b\":0})\n",
        "        return HTML(fig.to_html(include_mathjax=False, config=dict({'scrollZoom':False})))\n",
        "    def visfhat(self):\n",
        "        fig = px.density_mapbox(self.df, \n",
        "                        lat='Latitude', \n",
        "                        lon='Longitude', \n",
        "                        z='MagnitudeHat', \n",
        "                        radius=5,\n",
        "                        center=dict(lat=37, lon=160), \n",
        "                        zoom=1.5,\n",
        "                        height=900,\n",
        "                        opacity = 0.7,\n",
        "                        mapbox_style=\"stamen-terrain\",\n",
        "                        range_color=[-7,7])\n",
        "        fig.update_layout(margin={\"r\":0,\"t\":0,\"l\":0,\"b\":0})\n",
        "        return HTML(fig.to_html(include_mathjax=False, config=dict({'scrollZoom':False})))\n",
        "    def visres(self,MagThresh=7,ResThresh=1):\n",
        "        fig = px.density_mapbox(self.df, \n",
        "                        lat='Latitude', \n",
        "                        lon='Longitude', \n",
        "                        z=[0] * len(self.df), \n",
        "                        radius=5,\n",
        "                        center=dict(lat=37, lon=160), \n",
        "                        zoom=1.5,\n",
        "                        height=900,\n",
        "                        opacity = 0.7,\n",
        "                        mapbox_style=\"stamen-terrain\",\n",
        "                        range_color=[-7,7])\n",
        "        fig.update_layout(margin={\"r\":0,\"t\":0,\"l\":0,\"b\":0})\n",
        "        fig.add_scattermapbox(lat = self.df.query('Residual**2 > @ResThresh')['Latitude'],\n",
        "                      lon = self.df.query('Residual**2 > @ResThresh')['Longitude'],\n",
        "                      text = self.df.query('Magnitude > @ResThresh')['Magnitude'],\n",
        "                      marker_size= 8,\n",
        "                      marker_color= 'blue',\n",
        "                      opacity = 0.7\n",
        "                      )\n",
        "        return HTML(fig.to_html(include_mathjax=False, config=dict({'scrollZoom':False})))"
      ],
      "id": "2e112881-a970-4763-a5ce-0a103f335fce"
    },
    {
      "cell_type": "code",
      "execution_count": 23,
      "metadata": {},
      "outputs": [],
      "source": [
        "class MooYaHo2(MooYaHo): # ebayesthresh 기능추가\n",
        "    def fit2(self,ref=0.5): # fit with ebayesthresh\n",
        "        self._eigen()\n",
        "        self.fbar = self.Psi.T @ self.f # fbar := graph fourier transform of f\n",
        "        self.power = self.fbar**2 \n",
        "        ebayesthresh = importr('EbayesThresh').ebayesthresh\n",
        "        self.power_threshed=np.array(ebayesthresh(FloatVector(self.fbar**2)))\n",
        "        self.fbar_threshed = np.where(self.power_threshed>0,self.fbar,0)\n",
        "        self.fhat = self.Psi@self.fbar_threshed\n",
        "        self.df = self.df.assign(MagnitudeHat = self.fhat)\n",
        "        self.df = self.df.assign(Residual = self.df.Magnitude- self.df.MagnitudeHat)\n",
        "        self.con = np.where(self.df.Residual>0.7,1,0)\n",
        "        #plt.plot(self.f,'.')\n",
        "        #plt.plot(self.fhat,'x')\n",
        "\n",
        "#         fig, axs = plt.subplots(2,2,figsize=(16,10))\n",
        "\n",
        "#         axs[0,0].plot(self.f,'b')\n",
        "#         axs[0,0].set_title('Magnitude')\n",
        "#         axs[0,0].set_ylim([4.5,9])\n",
        "\n",
        "#         axs[0,1].plot(self.fhat,'k')\n",
        "#         axs[0,1].set_title('MagnitudeHat')\n",
        "#         axs[0,1].set_ylim([4.5,9])\n",
        "\n",
        "#         axs[1,0].plot(self.con,'r*')\n",
        "#         axs[1,0].set_title('Residual square')\n",
        "\n",
        "#         axs[1,1].plot(self.f,'b')\n",
        "#         axs[1,1].plot(self.fhat,'k')\n",
        "#         axs[1,1].plot(self.con,'r*')\n",
        "#         axs[1,1].set_title('Graph')\n",
        "#         axs[1,1].set_ylim([4.5,9])\n",
        "\n",
        "#         plt.tight_layout()\n",
        "#         plt.show()"
      ],
      "id": "3aa3a19d-c996-4acc-a30a-1740a82dbfbc"
    },
    {
      "cell_type": "code",
      "execution_count": 24,
      "metadata": {},
      "outputs": [],
      "source": [
        "class MooYaHo3(MooYaHo2):\n",
        "    def vis(self,MagThresh=7,ResThresh=1):\n",
        "        fig = px.density_mapbox(self.df, \n",
        "                        lat='Latitude', \n",
        "                        lon='Longitude', \n",
        "                        z='Magnitude', \n",
        "                        radius=5,\n",
        "                        center=dict(lat=37, lon=126), \n",
        "                        zoom=5.7,\n",
        "                        height=900,\n",
        "                        opacity = 0.3,\n",
        "                        mapbox_style=\"stamen-terrain\")\n",
        "        fig.update_layout(margin={\"r\":0,\"t\":0,\"l\":0,\"b\":0})\n",
        "        fig.add_scattermapbox(lat = self.df.query('Magnitude > @MagThresh')['Latitude'],\n",
        "                      lon = self.df.query('Magnitude > @MagThresh')['Longitude'],\n",
        "                      text = self.df.query('Magnitude > @MagThresh')['Magnitude'],\n",
        "                      marker_size= 8,\n",
        "                      marker_color= 'red',\n",
        "                      opacity = 0.5\n",
        "                      )\n",
        "        fig.add_scattermapbox(lat = self.df.query('Residual**2 > @ResThresh')['Latitude'],\n",
        "                      lon = self.df.query('Residual**2 > @ResThresh')['Longitude'],\n",
        "                      text = self.df.query('Magnitude > @ResThresh')['Magnitude'],\n",
        "                      marker_size= 8,\n",
        "                      marker_color= 'blue',\n",
        "                      opacity = 0.5\n",
        "                      )\n",
        "        return HTML(fig.to_html(include_mathjax=False, config=dict({'scrollZoom':False})))"
      ],
      "id": "46dd3930-8781-4176-93f0-fd27d364236f"
    },
    {
      "cell_type": "code",
      "execution_count": 25,
      "metadata": {},
      "outputs": [],
      "source": [
        "       ebayesthresh = importr('EbayesThresh').ebayesthresh"
      ],
      "id": "f89312bf-1f78-41b0-8198-15c3d4554332"
    },
    {
      "cell_type": "markdown",
      "metadata": {},
      "source": [
        "## analysis_df_global(2010~2015)\n",
        "\n",
        "`-` make instance for analysis"
      ],
      "id": "ce84ff4d-ff79-4e55-8a92-3f3f67596879"
    },
    {
      "cell_type": "code",
      "execution_count": 32,
      "metadata": {},
      "outputs": [],
      "source": [
        "moo_global=MooYaHo2(df_global.query(\"2010 <= Year < 2015\"))"
      ],
      "id": "1d0b9187-1e48-4557-b110-9c0cf36a819e"
    },
    {
      "cell_type": "markdown",
      "metadata": {},
      "source": [
        "`-` get distance"
      ],
      "id": "f87aaa91-eb85-4db9-9d29-b76f31e76ea8"
    },
    {
      "cell_type": "code",
      "execution_count": 33,
      "metadata": {},
      "outputs": [
        {
          "output_type": "stream",
          "name": "stderr",
          "text": [
            "100%|██████████| 10762/10762 [05:32<00:00, 32.36it/s] "
          ]
        }
      ],
      "source": [
        "moo_global.get_distance()"
      ],
      "id": "d9a7e104-1cc8-4cab-9d7a-7c11f6852c8e"
    },
    {
      "cell_type": "code",
      "execution_count": 34,
      "metadata": {},
      "outputs": [],
      "source": [
        "moo_global.D[moo_global.D>0].mean()"
      ],
      "id": "a0e98271-e32d-4948-86be-8773273577ce"
    },
    {
      "cell_type": "code",
      "execution_count": 35,
      "metadata": {},
      "outputs": [
        {
          "output_type": "display_data",
          "metadata": {},
          "data": {
            "image/png": "[encoded data removed]"
          }
        }
      ],
      "source": [
        "plt.hist(moo_global.D[moo_global.D>0])"
      ],
      "id": "7bce867d-e21e-4329-b1e2-042c6c638d7c"
    },
    {
      "cell_type": "markdown",
      "metadata": {},
      "source": [
        "`-` weight matrix"
      ],
      "id": "0a95626b-3a19-435e-825c-0fc25f684553"
    },
    {
      "cell_type": "code",
      "execution_count": 36,
      "metadata": {},
      "outputs": [],
      "source": [
        "moo_global.get_weightmatrix(theta=(8810.865423093777),kappa=2500) "
      ],
      "id": "f45ef2ac-e190-4002-8550-1da1bd66f451"
    },
    {
      "cell_type": "markdown",
      "metadata": {},
      "source": [
        "`-` fit"
      ],
      "id": "18a51258-6331-41e2-a34d-112c1f77b891"
    },
    {
      "cell_type": "code",
      "execution_count": 37,
      "metadata": {},
      "outputs": [],
      "source": [
        "moo_global.fit2()"
      ],
      "id": "4c08f649-09f7-4b0a-842e-dd687df0f7c4"
    },
    {
      "cell_type": "code",
      "execution_count": 38,
      "metadata": {},
      "outputs": [],
      "source": [
        "moo_global.df.sort_values(\"Residual\",ascending=False).iloc[:40,:]"
      ],
      "id": "7649a020-5bc6-4c54-9c91-17de2d9367ab"
    },
    {
      "cell_type": "markdown",
      "metadata": {},
      "source": [
        "(2010~2014 시도) - 21번째 Ouest Department, Haiti 아이티 지진 2010년\n",
        "진도 7.0 - 24번째 Puchuncavi, Valparaíso, Chile 칠레 지진 2014년 진도\n",
        "6.4 - 28번째 Baoxing County, Yaan, Sichuan, China 중국 쓰촨성 지진\n",
        "2013년 진도 6.6\n",
        "\n",
        "(2010~2015 시도_결과 좋지 않음?!) - 23번째 2010년 West New Britain\n",
        "Province, Papua New Guinea 진도 7.3 - 24번째 2011년 Kuzawa Terayama,\n",
        "Tanagura, Higashishirakawa District, Fukushima 963-5671, Japan 진도\n",
        "6.6 - 29번째 2015년 Kishim, Afghanistan 진도 7.5\n",
        "\n",
        "`-` vis"
      ],
      "id": "4d6bf847-4ff1-499f-91cb-c826864559a7"
    },
    {
      "cell_type": "code",
      "execution_count": 39,
      "metadata": {},
      "outputs": [],
      "source": [
        "#moo_global.visf()"
      ],
      "id": "f70dc4fb-5597-4405-a31e-069437e4b219"
    },
    {
      "cell_type": "code",
      "execution_count": 40,
      "metadata": {},
      "outputs": [],
      "source": [
        "#moo_global.visfhat()"
      ],
      "id": "14dbabce-84b0-4ead-82f0-3cc5844fbc15"
    },
    {
      "cell_type": "code",
      "execution_count": 41,
      "metadata": {},
      "outputs": [],
      "source": [
        "#moo_global.visres()"
      ],
      "id": "3f552b5d-fc47-47d4-8f68-a1736837639c"
    },
    {
      "cell_type": "code",
      "execution_count": 42,
      "metadata": {},
      "outputs": [],
      "source": [
        "#moo_global.vis(MagThresh=6.9,ResThresh=0.5)"
      ],
      "id": "14f7d893-85e8-4fa9-a950-0177b457d53a"
    },
    {
      "cell_type": "markdown",
      "metadata": {},
      "source": [
        "------------------------------------------------------------------------\n",
        "\n",
        "## analysis_df_global(2015~2020)\n",
        "\n",
        "`-` make instance for analysis"
      ],
      "id": "a0056428-5a9d-4cac-9246-2fc41dd0ec50"
    },
    {
      "cell_type": "code",
      "execution_count": 43,
      "metadata": {},
      "outputs": [],
      "source": [
        "moo_global=MooYaHo2(df_global.query(\"2015 <= Year <= 2020\"))"
      ],
      "id": "b68069b3-fea4-4f56-b766-03bf5210d6c0"
    },
    {
      "cell_type": "markdown",
      "metadata": {},
      "source": [
        "`-` get distance"
      ],
      "id": "0b62e890-8ae7-4c77-b4b8-27d86789f0ab"
    },
    {
      "cell_type": "code",
      "execution_count": 44,
      "metadata": {},
      "outputs": [
        {
          "output_type": "stream",
          "name": "stderr",
          "text": [
            "100%|██████████| 11239/11239 [04:35<00:00, 40.84it/s] "
          ]
        }
      ],
      "source": [
        "moo_global.get_distance()"
      ],
      "id": "ee52b4be-3c19-447d-b67f-e1c6d0f59790"
    },
    {
      "cell_type": "code",
      "execution_count": 45,
      "metadata": {},
      "outputs": [],
      "source": [
        "moo_global.D[moo_global.D>0].mean()"
      ],
      "id": "8ce69945-5e5c-4c41-a643-08e7f59d2d7e"
    },
    {
      "cell_type": "code",
      "execution_count": 46,
      "metadata": {},
      "outputs": [
        {
          "output_type": "display_data",
          "metadata": {},
          "data": {
            "image/png": "[encoded data removed]"
          }
        }
      ],
      "source": [
        "plt.hist(moo_global.D[moo_global.D>0])"
      ],
      "id": "f9c31312-c721-454f-b127-dd17b700882d"
    },
    {
      "cell_type": "markdown",
      "metadata": {},
      "source": [
        "`-` weight matrix"
      ],
      "id": "ae6234a7-ea54-4f84-9faf-6104510b89d6"
    },
    {
      "cell_type": "code",
      "execution_count": 47,
      "metadata": {},
      "outputs": [],
      "source": [
        "moo_global.get_weightmatrix(theta=(8814.318793468068),kappa=2500) "
      ],
      "id": "e175e75d-58db-47f0-a374-8c32fb6fccd3"
    },
    {
      "cell_type": "markdown",
      "metadata": {},
      "source": [
        "`-` fit"
      ],
      "id": "ea31af27-fd34-49bb-b00c-867d7853cde6"
    },
    {
      "cell_type": "code",
      "execution_count": 48,
      "metadata": {},
      "outputs": [],
      "source": [
        "moo_global.fit2()"
      ],
      "id": "65444942-9936-4d25-830c-9fa0f2e48ac3"
    },
    {
      "cell_type": "code",
      "execution_count": 49,
      "metadata": {},
      "outputs": [],
      "source": [
        "moo_global.df.sort_values(\"Residual\",ascending=False).iloc[:30,:]"
      ],
      "id": "c9d73266-aec7-48e7-8cb4-fe3cdf97f3ba"
    },
    {
      "cell_type": "markdown",
      "metadata": {},
      "source": [
        "바다 아닌 거 - 8번째 2016년 Rotherham, New Zealand 뉴질랜드 카이코우라\n",
        "지진 진도 7.8 - 9번째 2015년 Langkuru Utara, Pureman, Alor Regency, East\n",
        "Nusa Tenggara, Indonesia 수마트라 진도 6.5 - 15번째 2018년 Hela\n",
        "Province, Papua New Guinea 파푸아뉴기니 진도 7.5 - 20번째 2015년\n",
        "Kalinchok, Nepal 네팔 진도 7.3 - 26번째 2019년 Coquimbo, Chile 칠레\n",
        "코킴보주 진도 6.7\n",
        "\n",
        "`-` vis"
      ],
      "id": "f0bd37f1-d4ae-4199-8d91-9dcdb870f760"
    },
    {
      "cell_type": "code",
      "execution_count": 50,
      "metadata": {},
      "outputs": [],
      "source": [
        "#moo_global.vis(MagThresh=7,ResThresh=0.3)"
      ],
      "id": "8a192f04-7eeb-4e76-a3f6-fdcefe4bc9e6"
    },
    {
      "cell_type": "markdown",
      "metadata": {},
      "source": [
        "------------------------------------------------------------------------"
      ],
      "id": "f7615321-1c5e-4bdc-8c84-e895c740f8f2"
    },
    {
      "cell_type": "code",
      "execution_count": null,
      "metadata": {},
      "outputs": [],
      "source": [
        "pd.read_html('https://en.wikipedia.org/wiki/Lists_of_21st-century_earthquakes',encoding='utf-8')[0].query('Magnitude<=7')# List of deadliest earthquakes"
      ],
      "id": "2508984e-1e34-49ce-b49b-73bedd1b3d3b"
    },
    {
      "cell_type": "code",
      "execution_count": null,
      "metadata": {},
      "outputs": [],
      "source": [
        "pd.read_html('https://en.wikipedia.org/wiki/Lists_of_21st-century_earthquakes',encoding='utf-8')[3] # Deadliest earthquakes by year"
      ],
      "id": "05ea43e7-5db0-4582-82e6-f1463988b612"
    },
    {
      "cell_type": "markdown",
      "metadata": {},
      "source": [
        "------------------------------------------------------------------------"
      ],
      "id": "5a9c1795-5ef5-422b-a4c2-702f15d25097"
    },
    {
      "cell_type": "code",
      "execution_count": 52,
      "metadata": {},
      "outputs": [],
      "source": [
        "class eachlocation(MooYaHo2):\n",
        "    def haiti(self,MagThresh=7,ResThresh=1,adjzoom=5,adjmarkersize = 40):\n",
        "        fig = px.density_mapbox(self.df, \n",
        "                        lat='Latitude', \n",
        "                        lon='Longitude', \n",
        "                        z='Magnitude', \n",
        "                        radius=15,\n",
        "                        center=dict(lat=18.4430, lon=-72.5710), \n",
        "                        zoom= adjzoom,\n",
        "                        height=900,\n",
        "                        opacity = 0.8,\n",
        "                        mapbox_style=\"stamen-terrain\",\n",
        "                        range_color=[-3,3])\n",
        "        fig.update_layout(margin={\"r\":0,\"t\":0,\"l\":0,\"b\":0})\n",
        "        fig.add_scattermapbox(lat = self.df.query('Magnitude > @MagThresh')['Latitude'],\n",
        "                      lon = self.df.query('Magnitude > @MagThresh')['Longitude'],\n",
        "                      text = self.df.query('Magnitude > @MagThresh')['Magnitude'],\n",
        "                      marker_size= 5,\n",
        "                      marker_color= 'blue',\n",
        "                      opacity = 0.1\n",
        "                      )\n",
        "        fig.add_scattermapbox(lat = self.df.query('Residual**2 > @ResThresh')['Latitude'],\n",
        "                      lon = self.df.query('Residual**2 > @ResThresh')['Longitude'],\n",
        "                      text = self.df.query('Magnitude > @ResThresh')['Magnitude'],\n",
        "                      marker_size= adjmarkersize,\n",
        "                      marker_color= 'red',\n",
        "                      opacity = 0.8\n",
        "                      )\n",
        "        fig.add_trace(go.Scattermapbox(\n",
        "                    lat=self.df.query('Residual**2 > @ResThresh')['Latitude'],\n",
        "                    lon=self.df.query('Residual**2 > @ResThresh')['Longitude'],\n",
        "                    mode='markers',\n",
        "                    marker=go.scattermapbox.Marker(\n",
        "                        size=20,\n",
        "                        color='rgb(255, 255, 255)',\n",
        "                        opacity=0.4\n",
        "                    )\n",
        "                ))\n",
        "        return fig \n",
        "    def lquique(self,MagThresh=7,ResThresh=1,adjzoom=5, adjmarkersize= 40):\n",
        "        fig = px.density_mapbox(self.df, \n",
        "                        lat='Latitude', \n",
        "                        lon='Longitude', \n",
        "                        z='Magnitude', \n",
        "                        radius=15,\n",
        "                        center=dict(lat=-32.6953, lon=-71.4416), \n",
        "                        zoom=adjzoom,\n",
        "                        height=900,\n",
        "                        opacity = 0.8,\n",
        "                        mapbox_style=\"stamen-terrain\",\n",
        "                        range_color=[-7,7])\n",
        "        fig.update_layout(margin={\"r\":0,\"t\":0,\"l\":0,\"b\":0})\n",
        "        fig.add_scattermapbox(lat = self.df.query('Magnitude > @MagThresh')['Latitude'],\n",
        "                      lon = self.df.query('Magnitude > @MagThresh')['Longitude'],\n",
        "                      text = self.df.query('Magnitude > @MagThresh')['Magnitude'],\n",
        "                      marker_size= 5,\n",
        "                      marker_color= 'blue',\n",
        "                      opacity = 0.1\n",
        "                      )\n",
        "        fig.add_scattermapbox(lat = self.df.query('Residual**2 > @ResThresh')['Latitude'],\n",
        "                      lon = self.df.query('Residual**2 > @ResThresh')['Longitude'],\n",
        "                      text = self.df.query('Magnitude > @ResThresh')['Magnitude'],\n",
        "                      marker_size= adjmarkersize,\n",
        "                      marker_color= 'red',\n",
        "                      opacity = 0.8\n",
        "                      )\n",
        "        fig.add_trace(go.Scattermapbox(\n",
        "                    lat=self.df.query('Residual**2 > @ResThresh')['Latitude'],\n",
        "                    lon=self.df.query('Residual**2 > @ResThresh')['Longitude'],\n",
        "                    mode='markers',\n",
        "                    marker=go.scattermapbox.Marker(\n",
        "                        size=20,\n",
        "                        color='rgb(255, 255, 255)',\n",
        "                        opacity=0.8\n",
        "                    )\n",
        "                ))\n",
        "        return fig \n",
        "    def sichuan(self,MagThresh=7,ResThresh=1,adjzoom=5,adjmarkersize=40):\n",
        "        fig = px.density_mapbox(self.df, \n",
        "                        lat='Latitude', \n",
        "                        lon='Longitude', \n",
        "                        z='Magnitude', \n",
        "                        radius=15,\n",
        "                        center=dict(lat=30.3080, lon=102.8880), \n",
        "                        zoom=adjzoom,\n",
        "                        height=900,\n",
        "                        opacity = 0.6,\n",
        "                        mapbox_style=\"stamen-terrain\",\n",
        "                        range_color=[-7,7])\n",
        "        fig.update_layout(margin={\"r\":0,\"t\":0,\"l\":0,\"b\":0})\n",
        "        fig.add_scattermapbox(lat = self.df.query('Magnitude > @MagThresh')['Latitude'],\n",
        "                      lon = self.df.query('Magnitude > @MagThresh')['Longitude'],\n",
        "                      text = self.df.query('Magnitude > @MagThresh')['Magnitude'],\n",
        "                      marker_size= 5,\n",
        "                      marker_color= 'blue',\n",
        "                      opacity = 0.1\n",
        "                      )\n",
        "        fig.add_scattermapbox(lat = self.df.query('Residual**2 > @ResThresh')['Latitude'],\n",
        "                      lon = self.df.query('Residual**2 > @ResThresh')['Longitude'],\n",
        "                      text = self.df.query('Magnitude > @ResThresh')['Magnitude'],\n",
        "                      marker_size= adjmarkersize,\n",
        "                      marker_color= 'red',\n",
        "                      opacity = 0.8\n",
        "                      )\n",
        "        fig.add_trace(go.Scattermapbox(\n",
        "                    lat=self.df.query('Residual**2 > @ResThresh')['Latitude'],\n",
        "                    lon=self.df.query('Residual**2 > @ResThresh')['Longitude'],\n",
        "                    mode='markers',\n",
        "                    marker=go.scattermapbox.Marker(\n",
        "                        size=20,\n",
        "                        color='rgb(255, 255, 255)',\n",
        "                        opacity=0.8\n",
        "                    )\n",
        "                ))\n",
        "        return fig "
      ],
      "id": "5fa8430f-64e3-452f-8c85-9e07c6690275"
    },
    {
      "cell_type": "code",
      "execution_count": 53,
      "metadata": {},
      "outputs": [],
      "source": [
        "each_location=eachlocation(df_global.query(\"2010 <= Year < 2015\"))"
      ],
      "id": "db8a96cf-79cc-4363-acf3-a817751c94cc"
    },
    {
      "cell_type": "markdown",
      "metadata": {},
      "source": [
        "`-` get distance"
      ],
      "id": "bebc6a5a-8ab5-4b82-9a2d-e91ff5aac07d"
    },
    {
      "cell_type": "code",
      "execution_count": 54,
      "metadata": {},
      "outputs": [
        {
          "output_type": "stream",
          "name": "stderr",
          "text": [
            "100%|██████████| 12498/12498 [05:55<00:00, 35.16it/s] "
          ]
        }
      ],
      "source": [
        "each_location.get_distance()"
      ],
      "id": "a1906227-c3d9-4d8b-9d11-670327449583"
    },
    {
      "cell_type": "code",
      "execution_count": 55,
      "metadata": {},
      "outputs": [],
      "source": [
        "each_location.D[each_location.D>0].mean()"
      ],
      "id": "fc83a2c3-653d-41e4-be13-52abe399eba9"
    },
    {
      "cell_type": "code",
      "execution_count": 56,
      "metadata": {},
      "outputs": [
        {
          "output_type": "display_data",
          "metadata": {},
          "data": {
            "image/png": "[encoded data removed]"
          }
        }
      ],
      "source": [
        "plt.hist(each_location.D[each_location.D>0])"
      ],
      "id": "c8a82f8d-69a0-4e73-80f3-ddc31938f4ca"
    },
    {
      "cell_type": "markdown",
      "metadata": {},
      "source": [
        "`-` weight matrix"
      ],
      "id": "529416a7-580a-4034-b8a0-6769bbecd50f"
    },
    {
      "cell_type": "code",
      "execution_count": 57,
      "metadata": {},
      "outputs": [],
      "source": [
        "each_location.get_weightmatrix(theta=(8810.865423093777),kappa=2500) "
      ],
      "id": "694a6df1-53a1-44ad-8275-791ec118c434"
    },
    {
      "cell_type": "markdown",
      "metadata": {},
      "source": [
        "`-` fit"
      ],
      "id": "c58d0c79-40c7-4a16-b95c-29cf4e9d3910"
    },
    {
      "cell_type": "code",
      "execution_count": 58,
      "metadata": {},
      "outputs": [],
      "source": [
        "each_location.fit2()"
      ],
      "id": "fb6f9141-eab6-4095-9ced-203f01b536ff"
    },
    {
      "cell_type": "code",
      "execution_count": 59,
      "metadata": {
        "tags": []
      },
      "outputs": [],
      "source": [
        "each_location.haiti(MagThresh=6.9,ResThresh=0.5)"
      ],
      "id": "7b7600a8-a19d-4e5d-a4a7-d0e25effbd2c"
    },
    {
      "cell_type": "code",
      "execution_count": 60,
      "metadata": {
        "tags": []
      },
      "outputs": [],
      "source": [
        "each_location.lquique(MagThresh=8,ResThresh=0.4,adjzoom=4.3)"
      ],
      "id": "31078b68-c1f2-44f2-b86e-8e9b1cf73ac0"
    },
    {
      "cell_type": "code",
      "execution_count": 61,
      "metadata": {},
      "outputs": [],
      "source": [
        "each_location.sichuan(MagThresh=6.5,ResThresh=0.4)"
      ],
      "id": "c0a48842-6ea4-46bc-8a41-dbfc735bfd1d"
    },
    {
      "cell_type": "markdown",
      "metadata": {},
      "source": [
        "------------------------------------------------------------------------\n",
        "\n",
        "## 칠레"
      ],
      "id": "1bcf168a-45f2-413c-a329-d3496382a2dc"
    },
    {
      "cell_type": "code",
      "execution_count": 62,
      "metadata": {},
      "outputs": [],
      "source": [
        "df_chile_ex= pd.concat([pd.read_csv('05_10.csv'),pd.read_csv('10_15.csv')]).iloc[:,[0,1,2,4]].rename(columns={'latitude':'Latitude','longitude':'Longitude','mag':'Magnitude'}).reset_index().iloc[:,1:]"
      ],
      "id": "b4e122f3-3653-42ac-97db-7e5266b19f14"
    },
    {
      "cell_type": "code",
      "execution_count": 63,
      "metadata": {},
      "outputs": [],
      "source": [
        "df_chile = df_chile_ex.assign(Year=list(map(lambda x: x.split('-')[0], df_chile_ex.time))).iloc[:,1:]"
      ],
      "id": "a906aa13-046a-4a6f-91e6-31fe1eee8455"
    },
    {
      "cell_type": "code",
      "execution_count": 64,
      "metadata": {},
      "outputs": [],
      "source": [
        "df_chile = df_chile.assign(Month=list(map(lambda x: x.split('-')[1], df_chile_ex.time)))"
      ],
      "id": "121e29df-3046-4d85-b803-d4f36ade68f4"
    },
    {
      "cell_type": "code",
      "execution_count": 65,
      "metadata": {},
      "outputs": [],
      "source": [
        "df_chile.Year = df_chile.Year.astype(np.float64)\n",
        "df_chile.Month = df_chile.Month.astype(np.float64)"
      ],
      "id": "a8442e3e-4455-4c27-8f53-ae200e7ed4bc"
    },
    {
      "cell_type": "code",
      "execution_count": 66,
      "metadata": {},
      "outputs": [],
      "source": [
        "chile_location=eachlocation(df_chile.query(\"2010 <= Year < 2015\"))"
      ],
      "id": "b12210cd-15ff-4eba-b837-c4cdb2f728b8"
    },
    {
      "cell_type": "code",
      "execution_count": 67,
      "metadata": {},
      "outputs": [
        {
          "output_type": "stream",
          "name": "stderr",
          "text": [
            "100%|██████████| 12498/12498 [06:28<00:00, 32.19it/s] "
          ]
        }
      ],
      "source": [
        "chile_location.get_distance()"
      ],
      "id": "00b0ea45-e5a7-43cf-b920-d6d1af2e1cac"
    },
    {
      "cell_type": "code",
      "execution_count": 68,
      "metadata": {},
      "outputs": [],
      "source": [
        "chile_location.get_weightmatrix(theta=(chile_location.D[chile_location.D>0].mean()),kappa=2500) "
      ],
      "id": "92d0b7fd-5ba3-42a2-bf96-42986531e7fb"
    },
    {
      "cell_type": "code",
      "execution_count": 69,
      "metadata": {},
      "outputs": [],
      "source": [
        "chile_location.fit2()"
      ],
      "id": "0074168c-d67e-48b5-8cf2-3db446f1ec18"
    },
    {
      "cell_type": "markdown",
      "metadata": {},
      "source": [
        "아이티"
      ],
      "id": "483e10d9-1c0d-4ea0-a632-54d06612fb71"
    },
    {
      "cell_type": "code",
      "execution_count": 70,
      "metadata": {},
      "outputs": [],
      "source": [
        "chile_location.df.assign(Residual2 = chile_location.df.Residual**2).reset_index().iloc[2324:2330,:]"
      ],
      "id": "fa305c65-084f-475c-82c1-0125311b1a26"
    },
    {
      "cell_type": "markdown",
      "metadata": {},
      "source": [
        "칠레"
      ],
      "id": "5c50fe24-3129-4821-a7ee-bca2a7ebbc9e"
    },
    {
      "cell_type": "code",
      "execution_count": 71,
      "metadata": {},
      "outputs": [],
      "source": [
        "chile_location.df.assign(Residual2 = chile_location.df.Residual**2).reset_index().query(\"-56.5 < Latitude & Latitude <-17.4 & -81.5 < Longitude & Longitude < -61.5 & Year == 2014 & Month == 8\")"
      ],
      "id": "49fe57c4-785a-4c4d-957d-9376d7c61d19"
    },
    {
      "cell_type": "markdown",
      "metadata": {},
      "source": [
        "중국"
      ],
      "id": "2ac38cab-9c03-49ce-8eda-2924057d9fa7"
    },
    {
      "cell_type": "code",
      "execution_count": 72,
      "metadata": {},
      "outputs": [],
      "source": [
        "chile_location.df.assign(Residual2 = chile_location.df.Residual**2).reset_index().iloc[5136:5142,:]"
      ],
      "id": "5f6c1501-0d12-400c-b8a1-f01089d45152"
    }
  ],
  "nbformat": 4,
  "nbformat_minor": 5,
  "metadata": {
    "kernelspec": {
      "name": "python3",
      "display_name": "Python 3",
      "language": "python"
    },
    "language_info": {
      "name": "python",
      "codemirror_mode": {
        "name": "ipython",
        "version": "3"
      },
      "file_extension": ".py",
      "mimetype": "text/x-python",
      "nbconvert_exporter": "python",
      "pygments_lexer": "ipython3",
      "version": "3.8.0"
    }
  }
}
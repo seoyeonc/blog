{
  "cells": [
    {
      "cell_type": "markdown",
      "metadata": {},
      "source": [
        "# GConvGRU_Simulation Boxplot_reshape\n",
        "\n",
        "SEOYEON CHOI  \n",
        "5/25/23\n",
        "\n",
        "> Simulation Study\n",
        "\n",
        "# Import"
      ],
      "id": "422e8dd6-c7fa-400a-be6c-b617e4509539"
    },
    {
      "cell_type": "code",
      "execution_count": 96,
      "metadata": {},
      "outputs": [],
      "source": [
        "import matplotlib.pyplot as plt\n",
        "import pandas as pd\n",
        "import numpy as np"
      ],
      "id": "b5eb98b0-5171-4f9f-895c-da8dfae11db0"
    },
    {
      "cell_type": "markdown",
      "metadata": {},
      "source": [
        "# Fivenodes\n",
        "\n",
        "``` python\n",
        "mindex= [[],[],[],list(range(50,150)),[]] # block 1\n",
        "mindex= [list(range(10,100)),[],list(range(50,80)),[],[]] # node 2 30% mmissing\n",
        "```\n",
        "\n",
        "block 조건\n",
        "\n",
        "`2023-05-20_09-53-08`\n",
        "\n",
        "epoch 150"
      ],
      "id": "ecfaec11-d281-478a-96bf-d3be88a2a76a"
    },
    {
      "cell_type": "code",
      "execution_count": 52,
      "metadata": {},
      "outputs": [],
      "source": [
        "df1 = pd.read_csv('./simulation_results/2023-05-26_07-07-05.csv')\n",
        "df2 = pd.read_csv('./simulation_results/2023-05-27_21-02-01.csv')"
      ],
      "id": "d1358f99-eb42-425b-b383-e5df722a8bd9"
    },
    {
      "cell_type": "code",
      "execution_count": 53,
      "metadata": {},
      "outputs": [],
      "source": [
        "df3 = pd.read_csv('./simulation_results/2023-07-14_19-15-30.csv')\n",
        "df4 = pd.read_csv('./simulation_results/2023-07-14_20-20-12.csv')\n",
        "df5 = pd.read_csv('./simulation_results/2023-07-14_21-17-16.csv')\n",
        "df6 = pd.read_csv('./simulation_results/2023-07-14_22-12-52.csv')\n",
        "df7 = pd.read_csv('./simulation_results/2023-07-14_23-13-30.csv')\n",
        "df8 = pd.read_csv('./simulation_results/2023-07-15_00-17-49.csv')"
      ],
      "id": "3919dfa5-5cc6-4958-90b8-ac129c680fea"
    },
    {
      "cell_type": "code",
      "execution_count": 54,
      "metadata": {},
      "outputs": [],
      "source": [
        "data = pd.concat([df1,df2,df3,df4,df5,df6,df7,df8],axis=0)"
      ],
      "id": "af544875-6895-4e4e-9550-bf823eb672a0"
    },
    {
      "cell_type": "code",
      "execution_count": 55,
      "metadata": {},
      "outputs": [],
      "source": [
        "data.to_csv('./simulation_results/Real_simulation_reshape/fivedones_Simulation.csv',index=False)"
      ],
      "id": "58f7d6db-a614-4dce-a42c-5ff7b6c9661c"
    },
    {
      "cell_type": "code",
      "execution_count": 56,
      "metadata": {},
      "outputs": [],
      "source": [
        "data = pd.read_csv('./simulation_results/Real_simulation_reshape/fivedones_Simulation.csv')"
      ],
      "id": "e5cd5e29-8a2b-40e8-8dd2-79dcf009d078"
    },
    {
      "cell_type": "markdown",
      "metadata": {},
      "source": [
        "## Baseline"
      ],
      "id": "92fb27ce-46f4-4281-b9c6-a491667d1338"
    },
    {
      "cell_type": "code",
      "execution_count": 57,
      "metadata": {
        "tags": []
      },
      "outputs": [],
      "source": [
        "data.query(\"method!='GNAR' and mrate==0\").plot.box(backend='plotly',x='mrate',color='method',y='mse',facet_col='lags',facet_row='nof_filters',height=600)\n"
      ],
      "id": "e5708483-6c58-4620-92e9-04462c2cafb9"
    },
    {
      "cell_type": "code",
      "execution_count": 58,
      "metadata": {},
      "outputs": [],
      "source": [
        "data.query(\"method!='GNAR' and mtype =='rand'\").plot.box(backend='plotly',x='mrate',color='method',y='mse',facet_col='mrate',facet_row='inter_method',height=600)\n"
      ],
      "id": "9326b591-f4fa-40df-afb4-339218bef0c2"
    },
    {
      "cell_type": "code",
      "execution_count": 59,
      "metadata": {},
      "outputs": [],
      "source": [
        "data.query(\"method!='GNAR' and mtype =='block' \").plot.box(backend='plotly',x='mrate',color='method',y='mse',facet_col='inter_method',facet_row='lags',height=600)\n"
      ],
      "id": "15251ac0-f32c-4a5f-bf34-1bb79e8ad776"
    },
    {
      "cell_type": "markdown",
      "metadata": {},
      "source": [
        "# chickenpox\n",
        "\n",
        "``` python\n",
        "my_list = [[] for _ in range(20)] #chickenpox\n",
        "another_list = list(range(100,400))\n",
        "my_list[1] = another_list\n",
        "my_list[3] = another_list\n",
        "my_list[5] = another_list\n",
        "my_list[7] = another_list\n",
        "my_list[9] = another_list\n",
        "my_list[11] = another_list\n",
        "my_list[13] = another_list\n",
        "my_list[15] = another_list\n",
        "mindex = my_list\n",
        "```\n",
        "\n",
        "block 30% missing을 위한 조건"
      ],
      "id": "128a0a63-db41-4fed-97c7-f18099ffbf7e"
    },
    {
      "cell_type": "code",
      "execution_count": 60,
      "metadata": {},
      "outputs": [],
      "source": [
        "df1 = pd.read_csv('./simulation_results/2023-05-26_18-06-07.csv') # GNAR random\n",
        "df2 = pd.read_csv('./simulation_results/2023-05-28_16-17-21.csv') # GNAR block\n",
        "df3 = pd.read_csv('./simulation_results/2023-05-28_20-41-00.csv') # STGCN, ITSTGCN random 30%\n",
        "df4 = pd.read_csv('./simulation_results/2023-05-29_06-35-52.csv')"
      ],
      "id": "c4dcb55e-cf31-4694-9af6-25c290056cc6"
    },
    {
      "cell_type": "code",
      "execution_count": 61,
      "metadata": {},
      "outputs": [],
      "source": [
        "df5 = pd.read_csv('./simulation_results/2023-07-15_03-00-24.csv')\n",
        "df6 = pd.read_csv('./simulation_results/2023-07-15_05-54-45.csv')\n",
        "df7 = pd.read_csv('./simulation_results/2023-07-15_08-36-29.csv')\n",
        "df8 = pd.read_csv('./simulation_results/2023-07-15_10-39-42.csv')"
      ],
      "id": "0fa264e3-2bcc-4454-8689-912837e39b91"
    },
    {
      "cell_type": "code",
      "execution_count": 62,
      "metadata": {},
      "outputs": [],
      "source": [
        "data = pd.concat([df1,df2,df3,df4,df5,df6,df7,df8],axis=0)"
      ],
      "id": "919145c8-0d90-4866-b168-a622e8488baf"
    },
    {
      "cell_type": "code",
      "execution_count": 63,
      "metadata": {},
      "outputs": [],
      "source": [
        "data.to_csv('./simulation_results/Real_simulation_reshape/chikenpox_Simulation.csv',index=False)"
      ],
      "id": "c42b4c41-fc85-4fb8-bdcb-fe18a845bc5c"
    },
    {
      "cell_type": "code",
      "execution_count": 64,
      "metadata": {},
      "outputs": [],
      "source": [
        "data = pd.read_csv('./simulation_results/Real_simulation_reshape/chikenpox_Simulation.csv')"
      ],
      "id": "4391b693-a9aa-42bf-97a1-a8a9a90df5ce"
    },
    {
      "cell_type": "markdown",
      "metadata": {},
      "source": [
        "## Baseline"
      ],
      "id": "f84c463b-467f-4ea5-b858-4f1787c60eff"
    },
    {
      "cell_type": "code",
      "execution_count": 65,
      "metadata": {},
      "outputs": [],
      "source": [
        "data.query(\"method!='GNAR' and mrate ==0 \").plot.box(backend='plotly',x='mrate',color='method',y='mse',facet_col='nof_filters',height=600)\n"
      ],
      "id": "3d61b71f-0812-4261-b73c-c66583cf2c76"
    },
    {
      "cell_type": "markdown",
      "metadata": {},
      "source": [
        "## Random"
      ],
      "id": "3deeddf4-4c87-410d-9076-f5e107aa889e"
    },
    {
      "cell_type": "code",
      "execution_count": 66,
      "metadata": {},
      "outputs": [],
      "source": [
        "data.query(\"method!='GNAR' and mtype =='rand'\").plot.box(backend='plotly',x='mrate',color='method',y='mse',facet_col='nof_filters',facet_row='inter_method',height=800)\n"
      ],
      "id": "c3e9a6dd-ec33-477a-b5d0-35768d51a97b"
    },
    {
      "cell_type": "markdown",
      "metadata": {},
      "source": [
        "## Block"
      ],
      "id": "51928c06-3b2b-4fa5-9faa-f50abfd617a7"
    },
    {
      "cell_type": "code",
      "execution_count": 67,
      "metadata": {},
      "outputs": [],
      "source": [
        "data.query(\"method!='GNAR' and mtype =='block'\").plot.box(backend='plotly',x='mrate',color='method',y='mse',facet_col='inter_method',facet_row='lags',height=800)\n"
      ],
      "id": "5993f55c-1a1e-459e-826c-3b2c7d55cf60"
    },
    {
      "cell_type": "markdown",
      "metadata": {},
      "source": [
        "# Pedalme\n",
        "\n",
        "block1\n",
        "\n",
        "``` python\n",
        "my_list = [[] for _ in range(15)] #pedalme\n",
        "another_list = list(range(5,25))\n",
        "my_list[1] = another_list\n",
        "my_list[3] = another_list\n",
        "my_list[5] = another_list\n",
        "my_list[7] = another_list\n",
        "my_list[9] = another_list\n",
        "my_list[11] = another_list\n",
        "mindex = my_list\n",
        "```\n",
        "\n",
        "block 30% missing을 위한 조건\n",
        "\n",
        "block2\n",
        "\n",
        "``` python\n",
        "my_list = [[] for _ in range(15)] #pedalme\n",
        "another_list = list(range(10,25))\n",
        "my_list[2] = another_list\n",
        "my_list[4] = another_list\n",
        "my_list[5] = another_list\n",
        "my_list[11] = another_list\n",
        "mindex = my_list\n",
        "```\n",
        "\n",
        "block 30% missing을 위한 조건"
      ],
      "id": "1ac9d93b-941b-4bc7-ab61-ffec0ecc8df9"
    },
    {
      "cell_type": "code",
      "execution_count": 68,
      "metadata": {},
      "outputs": [],
      "source": [
        "df1 = pd.read_csv('./simulation_results/2023-05-25_19-21-30.csv') \n",
        "df2 = pd.read_csv('./simulation_results/2023-05-25_19-52-39.csv') "
      ],
      "id": "1bf57c10-2ef4-4c10-b26f-1e00d05b0235"
    },
    {
      "cell_type": "code",
      "execution_count": 69,
      "metadata": {},
      "outputs": [],
      "source": [
        "df3 = pd.read_csv('./simulation_results/2023-07-15_11-17-37.csv')"
      ],
      "id": "84701934-2c03-49e0-adf7-d4cd28fab110"
    },
    {
      "cell_type": "code",
      "execution_count": 70,
      "metadata": {},
      "outputs": [],
      "source": [
        "data = pd.concat([df1,df2,df3],axis=0)"
      ],
      "id": "1e5a7ff2-d799-4178-8e36-0226f0ce6b87"
    },
    {
      "cell_type": "code",
      "execution_count": 71,
      "metadata": {},
      "outputs": [],
      "source": [
        "data.to_csv('./simulation_results/Real_simulation_reshape/pedalme_Simulation.csv',index=False)"
      ],
      "id": "c33ba798-a588-4502-a134-db73b16b875e"
    },
    {
      "cell_type": "code",
      "execution_count": 72,
      "metadata": {},
      "outputs": [],
      "source": [
        "data = pd.read_csv('./simulation_results/Real_simulation_reshape/pedalme_Simulation.csv')"
      ],
      "id": "5e0df1a7-a096-4064-aa4e-3203cb60cb8d"
    },
    {
      "cell_type": "code",
      "execution_count": 73,
      "metadata": {},
      "outputs": [],
      "source": [
        "data.query(\"method=='STGCN' and mtype == 'rand'\")['mse'].mean(),data.query(\"method=='STGCN' and mtype != 'rand'\")['mse'].mean()"
      ],
      "id": "9d043891-fbab-44c9-8456-df403d028b83"
    },
    {
      "cell_type": "code",
      "execution_count": 74,
      "metadata": {},
      "outputs": [],
      "source": [
        "data.query(\"method=='IT-STGCN' and mtype == 'rand'\")['mse'].mean(),data.query(\"method=='IT-STGCN' and mtype != 'rand'\")['mse'].mean()"
      ],
      "id": "93e15290-4f03-4d26-946b-3d8ac3c484ef"
    },
    {
      "cell_type": "markdown",
      "metadata": {},
      "source": [
        "## Baseline"
      ],
      "id": "8996461c-4d05-4002-afef-671c612e5833"
    },
    {
      "cell_type": "code",
      "execution_count": 75,
      "metadata": {},
      "outputs": [],
      "source": [
        "data.query(\"mrate ==0 \").plot.box(backend='plotly',x='epoch',color='method',y='mse',height=800)\n"
      ],
      "id": "4962a7bd-fcd2-4d31-97ac-c71a16743c10"
    },
    {
      "cell_type": "markdown",
      "metadata": {},
      "source": [
        "## random"
      ],
      "id": "bddd3db6-da82-46af-a1b3-d30089bad5a3"
    },
    {
      "cell_type": "code",
      "execution_count": 76,
      "metadata": {},
      "outputs": [],
      "source": [
        "data.query(\"method!='GNAR' and mtype =='rand' \").plot.box(backend='plotly',x='mrate',color='method',y='mse',facet_col='lags',facet_row='inter_method',height=800)\n"
      ],
      "id": "6ee75710-279d-4ddd-a4a0-92b0005c1cf2"
    },
    {
      "cell_type": "markdown",
      "metadata": {},
      "source": [
        "## block"
      ],
      "id": "41b74529-69fb-4eeb-b4fc-90bf0c74c1d5"
    },
    {
      "cell_type": "code",
      "execution_count": 77,
      "metadata": {},
      "outputs": [],
      "source": [
        "data.query(\"method!='GNAR' and mtype =='block' \").plot.box(backend='plotly',x='mrate',color='method',y='mse',facet_col='inter_method',facet_row='lags',height=600)\n"
      ],
      "id": "e25069fe-f4b8-4881-ab04-5ac4d30fd221"
    },
    {
      "cell_type": "markdown",
      "metadata": {},
      "source": [
        "## weight matrix time, node 고려한 결과"
      ],
      "id": "5f7b4d6f-0a9e-4d39-8a0b-69d964357c23"
    },
    {
      "cell_type": "code",
      "execution_count": 25,
      "metadata": {},
      "outputs": [],
      "source": [
        "df1 = pd.read_csv('./simulation_results/2023-05-28_10-40-44.csv')\n",
        "df2 = pd.read_csv('./simulation_results/2023-05-28_11-09-06.csv')"
      ],
      "id": "99da52d2-9f39-4ceb-8fa1-4ae529b54edb"
    },
    {
      "cell_type": "code",
      "execution_count": 26,
      "metadata": {},
      "outputs": [],
      "source": [
        "data2 = pd.concat([df1,df2],axis=0)"
      ],
      "id": "7ffc29e3-5982-4df4-a828-4c403479d6d8"
    },
    {
      "cell_type": "code",
      "execution_count": 27,
      "metadata": {},
      "outputs": [],
      "source": [
        "data2.to_csv('./simulation_results/Real_simulation_reshape/pedalme_Simulation_itstgcnsnd.csv',index=False)"
      ],
      "id": "1b048c60-4132-4b1e-a334-fc9e66e7cc92"
    },
    {
      "cell_type": "code",
      "execution_count": 28,
      "metadata": {},
      "outputs": [],
      "source": [
        "data2 = pd.read_csv('./simulation_results/Real_simulation_reshape/pedalme_Simulation_itstgcnsnd.csv')"
      ],
      "id": "9e0bc014-0230-4fc3-b9cf-9037ab487dd7"
    },
    {
      "cell_type": "code",
      "execution_count": 29,
      "metadata": {},
      "outputs": [],
      "source": [
        "data2.query(\"mtype=='rand'\").plot.box(backend='plotly',x='mrate',color='method',y='mse',facet_col='inter_method',facet_row='lags',height=1000)"
      ],
      "id": "9354f816-788b-4155-ac9a-4ed2b29b4fc2"
    },
    {
      "cell_type": "code",
      "execution_count": 30,
      "metadata": {},
      "outputs": [],
      "source": [
        "data2.query(\"mtype=='block'\").plot.box(backend='plotly',x='mrate',color='method',y='mse',facet_col='inter_method',facet_row='lags',height=1000)"
      ],
      "id": "6ae82a0d-ebd5-4fdc-8cd3-562e17bc79d0"
    },
    {
      "cell_type": "markdown",
      "metadata": {},
      "source": [
        "# Wikimath"
      ],
      "id": "b3a6811f-3193-4a63-8cac-a8cd0b3e3963"
    },
    {
      "cell_type": "code",
      "execution_count": 78,
      "metadata": {},
      "outputs": [],
      "source": [
        "df1 = pd.read_csv('./simulation_results/2023-05-26_03-28-39.csv')\n",
        "df2 = pd.read_csv('./simulation_results/2023-05-27_00-32-12.csv')\n",
        "df3 = pd.read_csv('./simulation_results/2023-05-27_08-08-15.csv')\n",
        "df4 = pd.read_csv('./simulation_results/2023-05-27_17-49-17.csv')\n",
        "df5 = pd.read_csv('./simulation_results/2023-05-28_03-28-19.csv')\n",
        "df6 = pd.read_csv('./simulation_results/2023-05-28_04-31-07.csv')\n",
        "df7 = pd.read_csv('./simulation_results/2023-05-28_15-46-26.csv')\n",
        "df8 = pd.read_csv('./simulation_results/2023-05-29_17-36-54.csv')\n",
        "df9 = pd.read_csv('./simulation_results/2023-05-30_04-27-01.csv')"
      ],
      "id": "44006a7f-5427-494b-8350-dec9a73fc62f"
    },
    {
      "cell_type": "code",
      "execution_count": 79,
      "metadata": {},
      "outputs": [],
      "source": [
        "df10 = pd.read_csv('./simulation_results/2023-07-15_20-52-25.csv')\n",
        "df11 = pd.read_csv('./simulation_results/2023-07-16_08-07-41.csv')\n",
        "df12 = pd.read_csv('./simulation_results/2023-07-16_14-17-47.csv')\n",
        "df13 = pd.read_csv('./simulation_results/2023-07-16_20-55-00.csv')\n",
        "df14 = pd.read_csv('./simulation_results/2023-07-17_03-58-38.csv')\n",
        "df15 = pd.read_csv('./simulation_results/2023-07-17_10-21-14.csv')\n",
        "df16 = pd.read_csv('./simulation_results/2023-07-17_16-00-20.csv')\n",
        "df17 = pd.read_csv('./simulation_results/2023-07-17_22-08-59.csv')"
      ],
      "id": "7c76e0ae-50a9-4f41-b928-03db7804d562"
    },
    {
      "cell_type": "code",
      "execution_count": 80,
      "metadata": {},
      "outputs": [],
      "source": [
        "df18 = pd.read_csv('./simulation_results/2023-07-19_08-35-52.csv')\n",
        "df19 = pd.read_csv('./simulation_results/2023-07-19_15-01-57.csv')\n",
        "df20 = pd.read_csv('./simulation_results/2023-07-19_22-33-07.csv')\n",
        "df21 = pd.read_csv('./simulation_results/2023-07-20_06-21-30.csv')\n",
        "df22 = pd.read_csv('./simulation_results/2023-07-20_14-07-04.csv')\n",
        "df23 = pd.read_csv('./simulation_results/2023-07-20_21-14-32.csv')\n",
        "df24 = pd.read_csv('./simulation_results/2023-07-21_04-45-06.csv')\n",
        "df25 = pd.read_csv('./simulation_results/2023-07-21_11-26-12.csv')"
      ],
      "id": "61436019-aeeb-459c-b423-449318e85853"
    },
    {
      "cell_type": "code",
      "execution_count": 81,
      "metadata": {},
      "outputs": [],
      "source": [
        "data = pd.concat([df1,df2,df3,df4,df5,df6,df7,df8,df9,df10,df11,df12,df13,df14,df15,df16,df17,\n",
        "                 df18,df19,df20,df21,df22,df23,df24,df25],axis=0)"
      ],
      "id": "bde31b21-22d8-4143-9db3-6748356cdae0"
    },
    {
      "cell_type": "code",
      "execution_count": 82,
      "metadata": {},
      "outputs": [],
      "source": [
        "data.to_csv('./simulation_results/Real_simulation_reshape/wikimath.csv',index=False)"
      ],
      "id": "d673f788-9331-437d-91c3-067830cacf4f"
    },
    {
      "cell_type": "code",
      "execution_count": 83,
      "metadata": {},
      "outputs": [],
      "source": [
        "data = pd.read_csv('./simulation_results/Real_simulation_reshape/wikimath.csv')"
      ],
      "id": "3c9c2478-8364-4f37-9fb7-3de8a1dd5246"
    },
    {
      "cell_type": "markdown",
      "metadata": {},
      "source": [
        "## Baseline"
      ],
      "id": "b29db7e0-a7e6-4f83-b185-2fe6ce37d130"
    },
    {
      "cell_type": "code",
      "execution_count": 84,
      "metadata": {},
      "outputs": [],
      "source": [
        "data.query(\"mrate==0 and method!='GNAR'\").plot.box(backend='plotly',x='mrate',color='method',y='mse',height=600)"
      ],
      "id": "8b31c927-2535-42bd-9cf5-3d52effd99c8"
    },
    {
      "cell_type": "markdown",
      "metadata": {},
      "source": [
        "## random"
      ],
      "id": "14810902-fecc-44bf-b31f-620b4fb5ef20"
    },
    {
      "cell_type": "code",
      "execution_count": 85,
      "metadata": {},
      "outputs": [],
      "source": [
        "data.query(\"mtype=='rand' and mrate !=0 and method!='GNAR'\").plot.box(backend='plotly',x='mrate',color='method',y='mse',facet_col='lags',facet_row='nof_filters',height=800)\n"
      ],
      "id": "af006882-f475-4b56-94ec-4c4b20b684bf"
    },
    {
      "cell_type": "markdown",
      "metadata": {},
      "source": [
        "## block"
      ],
      "id": "f2a666ac-7dc5-4e1e-b95e-15533ec8ee8f"
    },
    {
      "cell_type": "code",
      "execution_count": 86,
      "metadata": {},
      "outputs": [],
      "source": [
        "data.query(\"mtype=='block' and method!='GNAR'\").plot.box(backend='plotly',x='mrate',color='method',y='mse',facet_col='lags',facet_row='nof_filters',height=1200)\n"
      ],
      "id": "8bd4b9e4-04b0-4d51-8724-a496e0fb7e9f"
    },
    {
      "cell_type": "markdown",
      "metadata": {},
      "source": [
        "## missing values on the same nodes"
      ],
      "id": "8e16f323-0b4c-4527-8c03-b9a0c995744e"
    },
    {
      "cell_type": "code",
      "execution_count": 38,
      "metadata": {
        "tags": []
      },
      "outputs": [],
      "source": [
        "# 10%\n",
        "df1 = pd.read_csv('./simulation_results/2023-05-30_15-07-43.csv') # STGCN IT-STGCN block\n",
        "df2 = pd.read_csv('./simulation_results/2023-05-31_01-58-40.csv') # STGCN IT-STGCN"
      ],
      "id": "e7e7e1a3-8d97-4348-978b-1a1ecf685696"
    },
    {
      "cell_type": "code",
      "execution_count": 39,
      "metadata": {},
      "outputs": [],
      "source": [
        "data = pd.concat([df1,df2],axis=0)"
      ],
      "id": "84df08a4-ff47-49f6-ad7d-c0d0753ae8a8"
    },
    {
      "cell_type": "code",
      "execution_count": 40,
      "metadata": {},
      "outputs": [],
      "source": [
        "data.to_csv('./simulation_results/Real_simulation_reshape/wikimath_GSO_st.csv',index=False)"
      ],
      "id": "d67b9b95-9904-4c56-b4e3-3a9383b889ca"
    },
    {
      "cell_type": "code",
      "execution_count": 41,
      "metadata": {},
      "outputs": [],
      "source": [
        "data = pd.read_csv('./simulation_results/Real_simulation_reshape/wikimath_GSO_st.csv')"
      ],
      "id": "9aff6f10-3b9f-42ba-94cb-9daca8f4aa93"
    },
    {
      "cell_type": "code",
      "execution_count": 42,
      "metadata": {},
      "outputs": [],
      "source": [
        "data.query(\"method!='GNAR' and mtype =='block' \").plot.box(backend='plotly',x='mrate',color='method',y='mse',facet_col='inter_method',facet_row='lags',height=800)\n"
      ],
      "id": "89454a62-cc6b-46a3-bc2d-747c39ab31b3"
    },
    {
      "cell_type": "markdown",
      "metadata": {},
      "source": [
        "# Windmilsmall"
      ],
      "id": "d0892d44-868a-4d0d-8687-df4d53e3c0ed"
    },
    {
      "cell_type": "code",
      "execution_count": 498,
      "metadata": {},
      "outputs": [],
      "source": [
        "df1 = pd.read_csv('./simulation_results/2023-05-27_03-20-28.csv') # STGCN IT-STGCN 70%\n",
        "df2 = pd.read_csv('./simulation_results/2023-05-27_11-15-19.csv') # STGCN IT-STGCN\n",
        "df3 = pd.read_csv('./simulation_results/2023-05-27_21-50-00.csv') # STGCN IT-STGCN\n",
        "df4 = pd.read_csv('./simulation_results/2023-05-28_07-53-57.csv') # STGCN IT-STGCN\n",
        "df5 = pd.read_csv('./simulation_results/2023-05-28_15-11-36.csv') # STGCN IT-STGCN\n",
        "df6 = pd.read_csv('./simulation_results/2023-05-28_19-57-23.csv') # GNAR 30%, 50%, 70% # 뭔가 일단 필요없어서 데이터셋에서 뺌\n",
        "df7 = pd.read_csv('./simulation_results/2023-05-29_01-36-37.csv') # STGCN IT-STGCN\n",
        "df8 = pd.read_csv('./simulation_results/2023-05-29_05-55-43.csv') # STGCN IT-STGCN\n",
        "df9 = pd.read_csv('./simulation_results/2023-05-29_11-00-42.csv') # STGCN IT-STGCN\n",
        "df10 = pd.read_csv('./simulation_results/2023-05-29_15-58-56.csv') # STGCN IT-STGCN\n",
        "df11 = pd.read_csv('./simulation_results/2023-05-29_21-01-58.csv') # STGCN IT-STGCN\n",
        "df12 = pd.read_csv('./simulation_results/2023-05-30_02-08-43.csv') # STGCN IT-STGCN\n",
        "df13 = pd.read_csv('./simulation_results/2023-05-30_06-27-00.csv') # STGCN IT-STGCN\n",
        "df14 = pd.read_csv('./simulation_results/2023-05-30_11-59-01.csv') # STGCN IT-STGCN\n",
        "df15 = pd.read_csv('./simulation_results/2023-05-30_15-59-12.csv') # STGCN IT-STGCN\n",
        "df16 = pd.read_csv('./simulation_results/2023-05-30_21-52-31.csv') # STGCN IT-STGCN\n",
        "df17 = pd.read_csv('./simulation_results/2023-05-31_01-32-09.csv') # STGCN IT-STGCN\n",
        "df18 = pd.read_csv('./simulation_results/2023-05-31_09-41-08.csv') # STGCN IT-STGCN\n",
        "df19 = pd.read_csv('./simulation_results/2023-05-31_16-32-33.csv') # STGCN IT-STGCN\n",
        "df20 = pd.read_csv('./simulation_results/2023-05-31_19-24-06.csv') # STGCN IT-STGCN\n",
        "df21 = pd.read_csv('./simulation_results/2023-06-01_00-59-31.csv') # STGCN IT-STGCN\n",
        "df22 = pd.read_csv('./simulation_results/2023-06-01_08-30-50.csv') # STGCN IT-STGCN\n",
        "df23 = pd.read_csv('./simulation_results/2023-06-01_16-03-58.csv') # STGCN IT-STGCN\n",
        "df24 = pd.read_csv('./simulation_results/2023-06-02_01-48-39.csv') # STGCN IT-STGCN\n",
        "df25 = pd.read_csv('./simulation_results/2023-06-02_11-17-51.csv') # STGCN IT-STGCN\n",
        "df26 = pd.read_csv('./simulation_results/2023-06-02_20-36-02.csv') # STGCN IT-STGCN\n",
        "df27 = pd.read_csv('./simulation_results/2023-06-03_05-23-46.csv') # STGCN IT-STGCN\n",
        "df28 = pd.read_csv('./simulation_results/2023-06-03_13-33-11.csv') # STGCN IT-STGCN\n",
        "df29 = pd.read_csv('./simulation_results/2023-06-03_22-40-48.csv') # STGCN IT-STGCN\n",
        "df30 = pd.read_csv('./simulation_results/2023-06-04_08-23-50.csv') # STGCN IT-STGCN\n",
        "df31 = pd.read_csv('./simulation_results/2023-06-04_16-47-07.csv') # GNAR 70%\n",
        "df32 = pd.read_csv('./simulation_results/2023-06-05_01-40-31.csv') # GNAR \n",
        "df33 = pd.read_csv('./simulation_results/2023-06-05_11-53-37.csv')\n",
        "df34 = pd.read_csv('./simulation_results/2023-06-06_10-02-26.csv')\n",
        "df35 = pd.read_csv('./simulation_results/2023-06-06_10-06-02.csv')\n",
        "df36 = pd.read_csv('./simulation_results/2023-06-06_19-10-01.csv')\n",
        "df37 = pd.read_csv('./simulation_results/2023-06-06_19-22-47.csv')\n",
        "df38 = pd.read_csv('./simulation_results/2023-06-07_04-41-41.csv')\n",
        "df39 = pd.read_csv('./simulation_results/2023-06-07_05-00-00.csv')\n",
        "df40 = pd.read_csv('./simulation_results/2023-06-07_12-49-37.csv')\n",
        "df41 = pd.read_csv('./simulation_results/2023-06-07_13-05-52.csv')\n",
        "df42 = pd.read_csv('./simulation_results/2023-06-07_21-00-28.csv')\n",
        "df43 = pd.read_csv('./simulation_results/2023-06-07_21-30-40.csv')\n",
        "df44 = pd.read_csv('./simulation_results/2023-06-08_06-10-42.csv')\n",
        "df45 = pd.read_csv('./simulation_results/2023-06-09_00-38-32.csv')\n",
        "df46 = pd.read_csv('./simulation_results/2023-06-09_12-08-44.csv')\n",
        "df47 = pd.read_csv('./simulation_results/2023-06-10_10-10-27.csv')\n",
        "df48 = pd.read_csv('./simulation_results/2023-06-10_21-16-06.csv')\n",
        "df49 = pd.read_csv('./simulation_results/2023-06-11_09-03-26.csv')\n",
        "df50 = pd.read_csv('./simulation_results/2023-06-11_21-00-18.csv')\n",
        "df51 = pd.read_csv('./simulation_results/2023-06-12_08-58-26.csv')\n",
        "df52 = pd.read_csv('./simulation_results/2023-06-12_20-56-40.csv')\n",
        "df53 = pd.read_csv('./simulation_results/2023-06-13_09-03-43.csv')\n",
        "df54 = pd.read_csv('./simulation_results/2023-06-13_21-56-32.csv')\n",
        "df55 = pd.read_csv('./simulation_results/2023-06-14_11-11-38.csv')\n",
        "df56 = pd.read_csv('./simulation_results/2023-06-14_23-17-40.csv')\n",
        "df57 = pd.read_csv('./simulation_results/2023-06-15_05-01-21.csv')\n",
        "df58 = pd.read_csv('./simulation_results/2023-06-15_10-54-28.csv')\n",
        "df59 = pd.read_csv('./simulation_results/2023-06-15_17-35-55.csv')\n",
        "df60 = pd.read_csv('./simulation_results/2023-06-15_21-14-21.csv')\n",
        "df61 = pd.read_csv('./simulation_results/2023-06-16_03-15-32.csv')\n",
        "df62 = pd.read_csv('./simulation_results/2023-06-16_06-13-50.csv')\n",
        "df63 = pd.read_csv('./simulation_results/2023-06-16_14-18-52.csv')\n",
        "df64 = pd.read_csv('./simulation_results/2023-06-16_18-21-01.csv')\n",
        "df65 = pd.read_csv('./simulation_results/2023-06-17_02-04-16.csv')\n",
        "df66 = pd.read_csv('./simulation_results/2023-06-17_12-31-27.csv')\n",
        "df67 = pd.read_csv('./simulation_results/2023-06-17_19-20-19.csv')\n",
        "df68 = pd.read_csv('./simulation_results/2023-06-18_02-32-26.csv') # 확인 후 block 만 넣기!\n",
        "df69 = pd.read_csv('./simulation_results/2023-06-18_12-20-16.csv')\n",
        "df70 = pd.read_csv('./simulation_results/2023-06-18_22-03-52.csv')\n",
        "df71 = pd.read_csv('./simulation_results/2023-06-19_07-54-07.csv')\n",
        "df72 = pd.read_csv('./simulation_results/2023-06-19_17-32-15.csv')\n",
        "df73 = pd.read_csv('./simulation_results/2023-06-20_02-27-48.csv')\n",
        "df74 = pd.read_csv('./simulation_results/2023-06-20_11-25-00.csv')\n",
        "df75 = pd.read_csv('./simulation_results/2023-06-21_08-22-10.csv')\n",
        "df76 = pd.read_csv('./simulation_results/2023-06-21_18-02-06.csv')\n",
        "df77 = pd.read_csv('./simulation_results/2023-06-22_03-53-20.csv')\n",
        "df78 = pd.read_csv('./simulation_results/2023-06-22_14-30-51.csv')\n",
        "df79 = pd.read_csv('./simulation_results/2023-06-22_23-58-03.csv')\n",
        "df80 = pd.read_csv('./simulation_results/2023-06-23_07-50-27.csv')\n",
        "df81 = pd.read_csv('./simulation_results/2023-06-23_15-44-00.csv')\n",
        "df82 = pd.read_csv('./simulation_results/2023-06-24_00-32-09.csv')\n",
        "df83 = pd.read_csv('./simulation_results/2023-06-24_10-30-38.csv')\n",
        "df84 = pd.read_csv('./simulation_results/2023-06-24_20-29-14.csv')\n",
        "df85 = pd.read_csv('./simulation_results/2023-06-25_06-26-42.csv')\n",
        "df86 = pd.read_csv('./simulation_results/2023-06-25_16-24-38.csv')\n",
        "df87 = pd.read_csv('./simulation_results/2023-06-26_02-35-43.csv')\n",
        "df88 = pd.read_csv('./simulation_results/2023-06-26_23-22-25.csv')\n",
        "df89 = pd.read_csv('./simulation_results/2023-06-26_13-18-29.csv')\n",
        "df90 = pd.read_csv('./simulation_results/2023-06-26_23-22-25.csv')\n",
        "df91 = pd.read_csv('./simulation_results/2023-06-27_09-42-34.csv')\n",
        "df92 = pd.read_csv('./simulation_results/2023-06-27_18-43-24.csv')\n",
        "df93 = pd.read_csv('./simulation_results/2023-06-28_15-59-05.csv')"
      ],
      "id": "5fccef90-2a27-433c-855a-e39d6e64fe26"
    },
    {
      "cell_type": "code",
      "execution_count": 499,
      "metadata": {},
      "outputs": [],
      "source": [
        "data = pd.concat([df1,df2,df3,df4,df5,df6,df7,df8,df9,df10,df11,df12,df13,df14,df15,df16,df17,df18,df19,df20,\n",
        "                 df21,df22,df23,df24,df25,df26,df27,df28,df29,df30,df31,df32,df33,df34,df35,df36,df37,df38,df39,\n",
        "                 df40,df41,df42,df43,df44,df45,df46,df47,df48,df49,df50,df51,df52,df53,df54,df55,df56,df57,df58,\n",
        "                 df59,df60,df61,df62,df63,df64,df65,df66,df67,df68,df69,df70,df71,df72,df73,df74,df75,df76,df77,\n",
        "                 df78,df79,df80,df81,df82,df83,df84,df85,df86,df87,df88,df89,df90,df91,df92,df93],axis=0)"
      ],
      "id": "7a5f32b4-ab6e-42d0-96ca-e9525ee32022"
    },
    {
      "cell_type": "code",
      "execution_count": 500,
      "metadata": {},
      "outputs": [],
      "source": [
        "data.to_csv('./simulation_results/Real_simulation_reshape/windmillsmall.csv',index=False)"
      ],
      "id": "4ab934f0-2443-41ec-b70c-25c297c13351"
    },
    {
      "cell_type": "code",
      "execution_count": 501,
      "metadata": {},
      "outputs": [],
      "source": [
        "data = pd.read_csv('./simulation_results/Real_simulation_reshape/windmillsmall.csv')"
      ],
      "id": "73de8f38-d27e-42fa-b8cd-fe5e4079fd9a"
    },
    {
      "cell_type": "markdown",
      "metadata": {},
      "source": [
        "## Baseline"
      ],
      "id": "deec2fe4-30c4-4fa9-a0f7-8ea6d8c422a9"
    },
    {
      "cell_type": "code",
      "execution_count": 502,
      "metadata": {},
      "outputs": [],
      "source": [
        "data.query(\"method!='GNAR' and mrate ==0 \").plot.box(backend='plotly',x='mrate',color='method',y='mse',facet_col='lags',height=800)\n"
      ],
      "id": "8287f91e-19eb-4533-a0f2-253e76439ff2"
    },
    {
      "cell_type": "markdown",
      "metadata": {},
      "source": [
        "## random"
      ],
      "id": "ab26a2ab-daa9-4d59-a6a8-fc0ea7a989a7"
    },
    {
      "cell_type": "code",
      "execution_count": 503,
      "metadata": {},
      "outputs": [],
      "source": [
        "data.query(\"method!='GNAR' and mtype =='rand' \").plot.box(backend='plotly',x='mrate',color='method',y='mse',facet_col='lags',facet_row='inter_method',height=800)\n"
      ],
      "id": "30270f4b-d196-4a3a-bcdf-e16b82d2bd44"
    },
    {
      "cell_type": "markdown",
      "metadata": {},
      "source": [
        "## block"
      ],
      "id": "7647fe07-1a1a-4f29-80b7-7205e64be338"
    },
    {
      "cell_type": "code",
      "execution_count": 504,
      "metadata": {},
      "outputs": [],
      "source": [
        "data.query(\"method!='GNAR' and mtype =='block' \").plot.box(backend='plotly',x='mrate',color='method',y='mse',facet_col='lags',facet_row='inter_method',height=800)\n"
      ],
      "id": "76a18b36-0217-44c6-9cb3-905104719f7a"
    },
    {
      "cell_type": "markdown",
      "metadata": {},
      "source": [
        "# Montevideobus"
      ],
      "id": "ac50aab0-760e-49ea-86dc-b06ab940a347"
    },
    {
      "cell_type": "code",
      "execution_count": 87,
      "metadata": {},
      "outputs": [],
      "source": [
        "df1 = pd.read_csv('./simulation_results/2023-05-25_23-24-56.csv') # lags 8\n",
        "df2 = pd.read_csv('./simulation_results/2023-05-26_04-32-14.csv') # lags 8\n",
        "df3 = pd.read_csv('./simulation_results/2023-05-26_10-29-15.csv') # lags 8\n",
        "df4 = pd.read_csv('./simulation_results/2023-05-26_17-32-59.csv') # lags 8\n",
        "df5 = pd.read_csv('./simulation_results/2023-05-26_20-27-25.csv') # lags 8\n",
        "df6 = pd.read_csv('./simulation_results/2023-05-26_23-40-32.csv') # lags 8\n",
        "df7 = pd.read_csv('./simulation_results/2023-05-27_13-20-01.csv') # lags 8\n",
        "df8 = pd.read_csv('./simulation_results/2023-05-28_19-46-39.csv') # lags 8\n",
        "df9 = pd.read_csv('./simulation_results/2023-05-28_23-05-36.csv')"
      ],
      "id": "dfad0416-633b-40b3-9584-6639b3cdb109"
    },
    {
      "cell_type": "code",
      "execution_count": 88,
      "metadata": {},
      "outputs": [],
      "source": [
        "df10 = pd.read_csv('./simulation_results/2023-07-18_01-12-36.csv') # lags 8\n",
        "df11 = pd.read_csv('./simulation_results/2023-07-18_04-18-26.csv') # lags 8\n",
        "df12 = pd.read_csv('./simulation_results/2023-07-18_07-21-19.csv') # lags 8\n",
        "df13 = pd.read_csv('./simulation_results/2023-07-18_10-46-11.csv') # lags 8\n",
        "df14 = pd.read_csv('./simulation_results/2023-07-18_13-55-16.csv') # lags 8\n",
        "df15 = pd.read_csv('./simulation_results/2023-07-18_17-14-12.csv') # lags 8\n",
        "df16 = pd.read_csv('./simulation_results/2023-07-18_20-29-46.csv') # lags 8\n",
        "df17 = pd.read_csv('./simulation_results/2023-07-18_23-46-52.csv') # lags 8\n",
        "df18 = pd.read_csv('./simulation_results/2023-07-19_02-55-01.csv')"
      ],
      "id": "f2c77bda-f234-4557-85d1-25c14d6131e8"
    },
    {
      "cell_type": "code",
      "execution_count": 89,
      "metadata": {},
      "outputs": [],
      "source": [
        "data = pd.concat([df1,df2,df3,df4,df5,df6,df7,df8,df9,df10,df11,df12,df13,df14,df15,df16,df17,df18],axis=0)"
      ],
      "id": "779edbb8-5fcf-45ed-898f-888fc82b4e1f"
    },
    {
      "cell_type": "code",
      "execution_count": 90,
      "metadata": {},
      "outputs": [],
      "source": [
        "data.to_csv('./simulation_results/Real_simulation_reshape/monte.csv',index=False)"
      ],
      "id": "c14d6d83-f125-4e54-809e-55197c458b21"
    },
    {
      "cell_type": "code",
      "execution_count": 91,
      "metadata": {},
      "outputs": [],
      "source": [
        "data = pd.read_csv('./simulation_results/Real_simulation_reshape/monte.csv')"
      ],
      "id": "f75ed3c0-fb7e-479c-9ac9-490242f71571"
    },
    {
      "cell_type": "markdown",
      "metadata": {},
      "source": [
        "## Baseline"
      ],
      "id": "5d449433-852a-4ec8-bdae-19c1b116893d"
    },
    {
      "cell_type": "code",
      "execution_count": 92,
      "metadata": {},
      "outputs": [],
      "source": [
        "data.query(\"mrate==0 and method!='GNAR'\").plot.box(backend='plotly',x='mrate',color='method',y='mse',facet_col='lags',facet_row='nof_filters',height=600)"
      ],
      "id": "c5a3c440-ac92-42b0-9aad-803eac1f38b2"
    },
    {
      "cell_type": "markdown",
      "metadata": {},
      "source": [
        "## random"
      ],
      "id": "6b0bc5b7-6599-4fd9-ba83-5d6d7b50939e"
    },
    {
      "cell_type": "code",
      "execution_count": 95,
      "metadata": {},
      "outputs": [],
      "source": [
        "data.query(\"mtype=='rand' and mrate !=0 and method!='GNAR'\").plot.box(backend='plotly',x='mrate',color='method',y='mse',facet_col='lags',facet_row='inter_method',height=800)\n"
      ],
      "id": "4f690d41-a653-447b-acda-2527e47f4488"
    },
    {
      "cell_type": "markdown",
      "metadata": {},
      "source": [
        "## block"
      ],
      "id": "5d24f62d-9ddf-4093-a35e-2dd1bcaff3e6"
    },
    {
      "cell_type": "code",
      "execution_count": 94,
      "metadata": {},
      "outputs": [],
      "source": [
        "data.query(\"mtype=='block' and method!='GNAR'\").plot.box(backend='plotly',x='mrate',color='method',y='mse',facet_col='lags',facet_row='nof_filters',height=1200)\n"
      ],
      "id": "dacd3262-2eb3-4535-9770-055e1d3e112e"
    }
  ],
  "nbformat": 4,
  "nbformat_minor": 5,
  "metadata": {
    "kernelspec": {
      "name": "python3",
      "display_name": "Python 3",
      "language": "python"
    },
    "language_info": {
      "name": "python",
      "codemirror_mode": {
        "name": "ipython",
        "version": "3"
      },
      "file_extension": ".py",
      "mimetype": "text/x-python",
      "nbconvert_exporter": "python",
      "pygments_lexer": "ipython3",
      "version": "3.8.0"
    }
  }
}
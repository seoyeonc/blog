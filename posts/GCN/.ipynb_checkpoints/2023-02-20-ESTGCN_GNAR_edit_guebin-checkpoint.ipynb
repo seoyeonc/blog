{
 "cells": [
  {
   "cell_type": "raw",
   "id": "6c8f0bf9-e110-4e30-8596-b2dd384e79e0",
   "metadata": {
    "id": "cac470df-29e7-4148-9bbd-d8b9a32fa570",
    "tags": []
   },
   "source": [
    "---\n",
    "title: \"1st IT-STGCN\"\n",
    "author: \"GUEBIN CHOI\"\n",
    "date: \"2023-02-15\"\n",
    "categories:\n",
    "  - ST-GCN\n",
    "---"
   ]
  },
  {
   "cell_type": "markdown",
   "id": "ccf50ae2-58ec-4c6e-9cc8-393c473767eb",
   "metadata": {},
   "source": [
    "> GNAR fiveNet,fivenodes lag 1"
   ]
  },
  {
   "cell_type": "markdown",
   "id": "1463f6e7-0b6c-490d-b7ee-4022ce4345a8",
   "metadata": {
    "tags": []
   },
   "source": [
    "# import"
   ]
  },
  {
   "cell_type": "code",
   "execution_count": 1,
   "id": "f90af573-4bc0-4c9e-ad94-e9739160055e",
   "metadata": {},
   "outputs": [],
   "source": [
    "import numpy as np\n",
    "import pandas as pd\n",
    "import matplotlib.pyplot as plt\n",
    "from matplotlib import animation\n",
    "\n",
    "# torch\n",
    "import torch\n",
    "import torch.nn.functional as F\n",
    "import torch_geometric_temporal\n",
    "from torch_geometric_temporal.nn.recurrent import GConvGRU\n",
    "\n",
    "# scipy \n",
    "from scipy.interpolate import interp1d\n",
    "\n",
    "# utils\n",
    "import time\n",
    "import pickle\n",
    "from tqdm import tqdm\n",
    "\n",
    "# rpy2\n",
    "import rpy2\n",
    "import rpy2.robjects as ro \n",
    "from rpy2.robjects.vectors import FloatVector\n",
    "import rpy2.robjects as robjects\n",
    "from rpy2.robjects.packages import importr\n",
    "\n",
    "import rpy2.robjects.numpy2ri as rpyn"
   ]
  },
  {
   "cell_type": "code",
   "execution_count": 2,
   "id": "dbbe91df-66c9-46da-abf9-379f37061d5e",
   "metadata": {},
   "outputs": [],
   "source": [
    "class RecurrentGCN(torch.nn.Module):\n",
    "    def __init__(self, node_features, filters):\n",
    "        super(RecurrentGCN, self).__init__()\n",
    "        self.recurrent = GConvGRU(node_features, filters, 2)\n",
    "        self.linear = torch.nn.Linear(filters, 1)\n",
    "\n",
    "    def forward(self, x, edge_index, edge_weight):\n",
    "        h = self.recurrent(x, edge_index, edge_weight)\n",
    "        h = F.relu(h)\n",
    "        h = self.linear(h)\n",
    "        return h"
   ]
  },
  {
   "cell_type": "markdown",
   "id": "4ad5f9f9-20fb-489c-9a8d-0f47cf681b1e",
   "metadata": {},
   "source": [
    "# my functions"
   ]
  },
  {
   "cell_type": "code",
   "execution_count": 3,
   "id": "227faf0a-4609-4fb1-bb57-f72308e2b23d",
   "metadata": {},
   "outputs": [],
   "source": [
    "def load_data(fname):\n",
    "    with open(fname, 'rb') as outfile:\n",
    "        data_dict = pickle.load(outfile)\n",
    "    return data_dict"
   ]
  },
  {
   "cell_type": "code",
   "execution_count": 4,
   "id": "a159f970-32cf-4719-b3b7-d16eeb939f5e",
   "metadata": {},
   "outputs": [],
   "source": [
    "def save_data(data_dict,fname):\n",
    "    with open(fname,'wb') as outfile:\n",
    "        pickle.dump(data_dict,outfile)"
   ]
  },
  {
   "cell_type": "code",
   "execution_count": 5,
   "id": "46b2f8de-d7db-4a8a-8b56-68987ea54c0e",
   "metadata": {},
   "outputs": [],
   "source": [
    "def plot(f,*args,t=None,h=2.5,**kwargs):\n",
    "    T,N = f.shape\n",
    "    if t == None: t = range(T)\n",
    "    fig = plt.figure()\n",
    "    ax = fig.subplots(N,1)\n",
    "    for n in range(N):\n",
    "        ax[n].plot(t,f[:,n],*args,**kwargs)\n",
    "        ax[n].set_title('node='+str(n))\n",
    "    fig.set_figheight(N*h)\n",
    "    fig.tight_layout()\n",
    "    plt.close()\n",
    "    return fig"
   ]
  },
  {
   "cell_type": "code",
   "execution_count": 6,
   "id": "dfd30cd2-1daf-474d-b132-7b41af02e5f5",
   "metadata": {},
   "outputs": [],
   "source": [
    "def plot_add(fig,f,*args,t=None,**kwargs):\n",
    "    T = f.shape[0]\n",
    "    N = f.shape[1] \n",
    "    if t == None: t = range(T)   \n",
    "    ax = fig.get_axes()\n",
    "    for n in range(N):\n",
    "        ax[n].plot(t,f[:,n],*args,**kwargs)\n",
    "    return fig"
   ]
  },
  {
   "cell_type": "code",
   "execution_count": 7,
   "id": "5422d968-a917-483b-8e82-4ab2bf569bc5",
   "metadata": {},
   "outputs": [],
   "source": [
    "def make_Psi(T):\n",
    "    W = np.zeros((T,T))\n",
    "    for i in range(T):\n",
    "        for j in range(T):\n",
    "            if i==j :\n",
    "                W[i,j] = 0\n",
    "            elif np.abs(i-j) <= 1 : \n",
    "                W[i,j] = 1\n",
    "    d = np.array(W.sum(axis=1))\n",
    "    D = np.diag(d)\n",
    "    L = np.array(np.diag(1/np.sqrt(d)) @ (D-W) @ np.diag(1/np.sqrt(d)))\n",
    "    lamb, Psi = np.linalg.eigh(L)\n",
    "    return Psi"
   ]
  },
  {
   "cell_type": "code",
   "execution_count": 8,
   "id": "6fdbd67c-4d90-4d7f-9a4f-2f73dac5485c",
   "metadata": {},
   "outputs": [],
   "source": [
    "ebayesthresh = importr('EbayesThresh').ebayesthresh"
   ]
  },
  {
   "cell_type": "code",
   "execution_count": 9,
   "id": "7da0eb4f-5518-4e35-b392-9762da230d53",
   "metadata": {},
   "outputs": [],
   "source": [
    "def trim(f):\n",
    "    f = np.array(f)\n",
    "    if len(f.shape)==1: f = f.reshape(-1,1)\n",
    "    T,N = f.shape\n",
    "    Psi = make_Psi(T)\n",
    "    fbar = Psi.T @ f # apply dft \n",
    "    fbar_threshed = np.stack([ebayesthresh(FloatVector(fbar[:,i])) for i in range(N)],axis=1)\n",
    "    fhat = Psi @ fbar_threshed # inverse dft \n",
    "    return fhat"
   ]
  },
  {
   "cell_type": "code",
   "execution_count": 10,
   "id": "3036d47a-8211-4f46-9cd3-c316e01e5dce",
   "metadata": {},
   "outputs": [],
   "source": [
    "def update_from_freq_domain(signal, missing_index):\n",
    "    signal = np.array(signal)\n",
    "    T,N = signal.shape \n",
    "    signal_trimed = trim(signal)\n",
    "    for i in range(N):\n",
    "        signal[missing_index[i],i] = signal_trimed[missing_index[i],i]\n",
    "    return signal"
   ]
  },
  {
   "cell_type": "code",
   "execution_count": 11,
   "id": "fb23441c-3d39-4474-819e-e6af810bdce5",
   "metadata": {},
   "outputs": [],
   "source": [
    "class DatasetLoader(object):\n",
    "    def __init__(self,data_dict):\n",
    "        self._dataset = data_dict \n",
    "\n",
    "    def _get_edges(self):\n",
    "        self._edges = np.array(self._dataset[\"edges\"]).T\n",
    "\n",
    "    def _get_edge_weights(self):\n",
    "        self._edge_weights = np.ones(self._edges.shape[1])\n",
    "\n",
    "    def _get_targets_and_features(self):\n",
    "        stacked_target = np.array(self._dataset[\"FX\"])\n",
    "        self.features = [\n",
    "            stacked_target[i : i + self.lags, :].T\n",
    "            for i in range(stacked_target.shape[0] - self.lags)\n",
    "        ]\n",
    "        self.targets = [\n",
    "            stacked_target[i + self.lags, :].T\n",
    "            for i in range(stacked_target.shape[0] - self.lags)\n",
    "        ]\n",
    "\n",
    "    def get_dataset(self, lags: int = 4) -> torch_geometric_temporal.signal.StaticGraphTemporalSignal:\n",
    "        \"\"\"Returning the Chickenpox Hungary data iterator.\n",
    "\n",
    "        Args types:\n",
    "            * **lags** *(int)* - The number of time lags.\n",
    "        Return types:\n",
    "            * **dataset** *(torch_geometric_temporal.signal.StaticGraphTemporalSignal)* - The Chickenpox Hungary dataset.\n",
    "        \"\"\"\n",
    "        self.lags = lags\n",
    "        self._get_edges()\n",
    "        self._get_edge_weights()\n",
    "        self._get_targets_and_features()\n",
    "        dataset = torch_geometric_temporal.signal.StaticGraphTemporalSignal(\n",
    "            self._edges, self._edge_weights, self.features, self.targets\n",
    "        )\n",
    "        return dataset"
   ]
  },
  {
   "cell_type": "code",
   "execution_count": 12,
   "id": "be84173e-663d-4529-b70d-26d6427a04a5",
   "metadata": {},
   "outputs": [],
   "source": [
    "def stgcn(train_dataset,lags=1,filters=32,epoch=50): \n",
    "    model = RecurrentGCN(node_features=lags, filters=filters)\n",
    "    optimizer = torch.optim.Adam(model.parameters(), lr=0.01)\n",
    "    model.train()\n",
    "\n",
    "    for epoch in tqdm(range(epoch)):\n",
    "        for t, snapshot in enumerate(train_dataset):\n",
    "            yt_hat = model(snapshot.x, snapshot.edge_index, snapshot.edge_attr)\n",
    "            cost = torch.mean((yt_hat-snapshot.y)**2)\n",
    "            cost.backward()\n",
    "            optimizer.step()\n",
    "            optimizer.zero_grad()\n",
    "    return model "
   ]
  },
  {
   "cell_type": "code",
   "execution_count": 13,
   "id": "8381f21a-b8da-4ed7-befb-a308868ad854",
   "metadata": {},
   "outputs": [],
   "source": [
    "%load_ext rpy2.ipython"
   ]
  },
  {
   "cell_type": "code",
   "execution_count": 14,
   "id": "5b2acf2d-e0ae-4857-99a4-7b9d174fae9b",
   "metadata": {},
   "outputs": [
    {
     "name": "stderr",
     "output_type": "stream",
     "text": [
      "R[write to console]: Loading required package: igraph\n",
      "\n",
      "R[write to console]: \n",
      "Attaching package: ‘igraph’\n",
      "\n",
      "\n",
      "R[write to console]: The following objects are masked from ‘package:stats’:\n",
      "\n",
      "    decompose, spectrum\n",
      "\n",
      "\n",
      "R[write to console]: The following object is masked from ‘package:base’:\n",
      "\n",
      "    union\n",
      "\n",
      "\n",
      "R[write to console]: Loading required package: wordcloud\n",
      "\n",
      "R[write to console]: Loading required package: RColorBrewer\n",
      "\n",
      "R[write to console]: \n",
      "Attaching package: ‘zoo’\n",
      "\n",
      "\n",
      "R[write to console]: The following objects are masked from ‘package:base’:\n",
      "\n",
      "    as.Date, as.Date.numeric\n",
      "\n",
      "\n"
     ]
    }
   ],
   "source": [
    "%%R\n",
    "library(GNAR)\n",
    "library(igraph)\n",
    "library(zoo)"
   ]
  },
  {
   "cell_type": "code",
   "execution_count": 15,
   "id": "d054b87d-a1a2-471d-98df-15012606960e",
   "metadata": {},
   "outputs": [],
   "source": [
    "%%R\n",
    "fiveNet_m <- as.matrix(fiveNet)"
   ]
  },
  {
   "cell_type": "code",
   "execution_count": 16,
   "id": "b3966f3d-fcc4-4568-a2b1-ba12e653ff3d",
   "metadata": {},
   "outputs": [],
   "source": [
    "%R -o fiveNet_m"
   ]
  },
  {
   "cell_type": "code",
   "execution_count": 17,
   "id": "bd6da55e-9f1a-4e73-b7cc-111ee5c36d75",
   "metadata": {},
   "outputs": [],
   "source": [
    "GNAR = importr('GNAR') # import GNAR \n",
    "igraph = importr('igraph') # import igraph "
   ]
  },
  {
   "cell_type": "markdown",
   "id": "c337c101-5cff-4aec-9f7b-fe41c9c16b47",
   "metadata": {},
   "source": [
    "# data 정리 "
   ]
  },
  {
   "cell_type": "markdown",
   "id": "f8e4e297-0e68-4b57-adc2-2abafc28cc03",
   "metadata": {},
   "source": [
    "`-` 데이터정리 "
   ]
  },
  {
   "cell_type": "code",
   "execution_count": 24,
   "id": "0bcaefae-0b23-4dbd-b35b-30a36b84095b",
   "metadata": {},
   "outputs": [],
   "source": [
    "_data = load_data('./data/fivenodes.pkl')"
   ]
  },
  {
   "cell_type": "code",
   "execution_count": 25,
   "id": "1d9e6a2e-50bd-48db-a618-8b7220620cd1",
   "metadata": {},
   "outputs": [],
   "source": [
    "_edges = torch.tensor(_data['edges']).nonzero().tolist()\n",
    "_FX = _data['f'].tolist()\n",
    "_node_ids = {'node1':0, 'node2':1, 'node3':2, 'node4':3, 'node5':4} "
   ]
  },
  {
   "cell_type": "code",
   "execution_count": 26,
   "id": "811ed64e-1e1d-4249-8903-8800fbf864ff",
   "metadata": {},
   "outputs": [],
   "source": [
    "data_dict = {'edges':_edges, 'node_ids':_node_ids, 'FX':_FX}"
   ]
  },
  {
   "cell_type": "code",
   "execution_count": 346,
   "id": "220b7740-bc0a-4c7d-952f-ba26101053a4",
   "metadata": {},
   "outputs": [
    {
     "data": {
      "text/plain": [
       "[[0, 3],\n",
       " [0, 4],\n",
       " [1, 2],\n",
       " [1, 3],\n",
       " [2, 1],\n",
       " [2, 3],\n",
       " [3, 0],\n",
       " [3, 1],\n",
       " [3, 2],\n",
       " [4, 0]]"
      ]
     },
     "execution_count": 346,
     "metadata": {},
     "output_type": "execute_result"
    }
   ],
   "source": [
    "train_dataset.edge_index.T.tolist()"
   ]
  },
  {
   "cell_type": "code",
   "execution_count": null,
   "id": "69debca4-0a4e-4a69-9db6-9959ce5dd9ed",
   "metadata": {},
   "outputs": [],
   "source": [
    "train_dataset."
   ]
  },
  {
   "cell_type": "code",
   "execution_count": 336,
   "id": "cdd39061-1cae-4c94-b710-c3ee79372943",
   "metadata": {},
   "outputs": [],
   "source": [
    "loader = DatasetLoader(data_dict)\n",
    "dataset = loader.get_dataset(lags=4)\n",
    "train_dataset, test_dataset = torch_geometric_temporal.signal.temporal_signal_split(dataset, train_ratio=0.8)"
   ]
  },
  {
   "cell_type": "markdown",
   "id": "e4d53e9c-7764-4137-8b75-0037c20964e8",
   "metadata": {},
   "source": [
    "`-` STGCN 수행 "
   ]
  },
  {
   "cell_type": "code",
   "execution_count": 262,
   "id": "2db00ced-ef8e-46ee-981d-78d51a8228a4",
   "metadata": {},
   "outputs": [],
   "source": [
    "class StgcnLearner:\n",
    "    def __init__(self,train_dataset):\n",
    "        self.train_dataset = train_dataset\n",
    "        self.lags = torch.tensor(train_dataset.features).shape[-1]\n",
    "    def learn(self,filters=32,epoch=50):\n",
    "        self.model = RecurrentGCN(node_features=self.lags, filters=filters)\n",
    "        self.optimizer = torch.optim.Adam(self.model.parameters(), lr=0.01)\n",
    "        self.model.train()\n",
    "        for epoch in tqdm(range(epoch)):\n",
    "            for t, snapshot in enumerate(self.train_dataset):\n",
    "                yt_hat = self.model(snapshot.x, snapshot.edge_index, snapshot.edge_attr)\n",
    "                cost = torch.mean((yt_hat-snapshot.y)**2)\n",
    "                cost.backward()\n",
    "                self.optimizer.step()\n",
    "                self.optimizer.zero_grad()\n",
    "    def __call__(self,dataset):\n",
    "        X = torch.tensor(dataset.features).float()\n",
    "        y = torch.tensor(dataset.targets).float()\n",
    "        yhat = torch.stack([self.model(snapshot.x, snapshot.edge_index, snapshot.edge_attr) for snapshot in dataset]).detach().squeeze().float()\n",
    "        return {'X':X, 'y':y, 'yhat':yhat} "
   ]
  },
  {
   "cell_type": "code",
   "execution_count": 157,
   "id": "84462f81-f846-4ef9-83e5-6d7a68d60b67",
   "metadata": {},
   "outputs": [],
   "source": [
    "lrnr = StgcnLearner(train_dataset)"
   ]
  },
  {
   "cell_type": "code",
   "execution_count": 158,
   "id": "3b30279d-76c2-45d6-ab8a-21deea8c7e50",
   "metadata": {},
   "outputs": [
    {
     "name": "stderr",
     "output_type": "stream",
     "text": [
      "100%|██████████████████████████████████████████████████████████████████████████████████████████████████████████████████████████████████████████████████████████████████████████████████████████████████████████████████████████████████████████████████████████████████| 1/1 [00:01<00:00,  1.62s/it]\n"
     ]
    }
   ],
   "source": [
    "lrnr.learn(filters=32,epoch=1)"
   ]
  },
  {
   "cell_type": "code",
   "execution_count": 160,
   "id": "fc42f6c8-ef9b-4a32-9c52-2e8caffea310",
   "metadata": {},
   "outputs": [],
   "source": [
    "rslt = lrnr(dataset)"
   ]
  },
  {
   "cell_type": "code",
   "execution_count": 263,
   "id": "89f8b55a-9109-42df-b6f2-a72dac2b90e9",
   "metadata": {},
   "outputs": [],
   "source": [
    "class Evaluator:\n",
    "    def __init__(self,learner,train_dataset,test_dataset):\n",
    "        self.learner = learner\n",
    "        self.train_dataset = train_dataset\n",
    "        self.test_dataset = test_dataset\n",
    "        self.lags = lrnr.lags\n",
    "        rslt_tr = self.learner(self.train_dataset) \n",
    "        rslt_test = self.learner(self.test_dataset)\n",
    "        self.X_tr = rslt_tr['X']\n",
    "        self.y_tr = rslt_tr['y']\n",
    "        self.f_tr = torch.concat([self.train_dataset[0].x.T,self.y_tr],axis=0).float()\n",
    "        self.yhat_tr = rslt_tr['yhat']\n",
    "        self.fhat_tr = torch.concat([self.train_dataset[0].x.T,self.yhat_tr],axis=0).float()\n",
    "        self.X_test = rslt_test['X']\n",
    "        self.y_test = rslt_test['y']\n",
    "        self.f_test = self.y_test \n",
    "        self.yhat_test = rslt_test['yhat']\n",
    "        self.fhat_test = self.yhat_test\n",
    "        self.f = torch.concat([self.f_tr,self.f_test],axis=0)\n",
    "        self.fhat = torch.concat([self.fhat_tr,self.fhat_test],axis=0)\n",
    "    def calculate_mse(self):\n",
    "        train_mse_eachnode = ((self.y_tr-self.yhat_tr)**2).mean(axis=0).tolist()\n",
    "        train_mse_total = ((self.y_tr-self.yhat_tr)**2).mean().item()\n",
    "        test_mse_eachnode = ((self.y_test-self.yhat_test)**2).mean(axis=0).tolist()\n",
    "        test_mse_total = ((self.y_test-self.yhat_test)**2).mean().item()\n",
    "        self.mse = {'train': {'each_node': train_mse_eachnode, 'total': train_mse_total},\n",
    "                    'test': {'each_node': test_mse_eachnode, 'total': test_mse_total}}\n",
    "    def _plot(self,*args,t=None,h=2.5,max_nodes=5,**kwargs):\n",
    "        T,N = self.f.shape\n",
    "        if N>max_nodes: N=max_nodes\n",
    "        if t == None: t = range(T)\n",
    "        fig = plt.figure()\n",
    "        ax = fig.subplots(N,1)\n",
    "        for n in range(N):\n",
    "            ax[n].plot(t,self.f[:,n],color='gray',*args,**kwargs)\n",
    "            ax[n].set_title('node='+str(n))\n",
    "        fig.set_figheight(N*h)\n",
    "        fig.tight_layout()\n",
    "        plt.close()\n",
    "        return fig\n",
    "    def plot(self,*args,t=None,h=2.5,**kwargs):\n",
    "        self.calculate_mse()\n",
    "        fig = self._plot(*args,t=None,h=2.5,**kwargs)\n",
    "        ax = fig.get_axes()\n",
    "        for i,a in enumerate(ax):\n",
    "            _mse1= self.mse['train']['each_node'][i]\n",
    "            _mse2= self.mse['test']['each_node'][i]\n",
    "            _title = 'node{0} \\n mse(train) = {1:.2f}, mse(test) = {2:.2f}'.format(i,_mse1,_mse2)\n",
    "            a.set_title(_title)\n",
    "            _t1 = self.lags\n",
    "            _t2 = self.yhat_tr.shape[0]+self.lags\n",
    "            _t3 = len(self.f)\n",
    "            a.plot(range(_t1,_t2),self.yhat_tr[:,i],label='STCGCN (train)',color='C0')\n",
    "            a.plot(range(_t2,_t3),self.yhat_test[:,i],label='STCGCN (test)',color='C1')\n",
    "            a.legend()\n",
    "        _mse1 = self.mse['train']['total']\n",
    "        _mse2 = self.mse['test']['total']\n",
    "        fig.suptitle(\"Scenario1: STGCN \\n missing=0% \\n interpolation=None \\n mse(train) = {0:.2f}, mse(test) = {1:.2f} \\n\".format(_mse1,_mse2))\n",
    "        fig.tight_layout()\n",
    "        return fig"
   ]
  },
  {
   "cell_type": "code",
   "execution_count": 264,
   "id": "29730eaf-a396-4ae9-ba9b-9e0a11c65b97",
   "metadata": {},
   "outputs": [],
   "source": [
    "evtor = Evaluator(lrnr,train_dataset,test_dataset)"
   ]
  },
  {
   "cell_type": "code",
   "execution_count": 265,
   "id": "5661d154-d7ee-4e4c-b122-a6711316264c",
   "metadata": {},
   "outputs": [
    {
     "data": {
      "image/png": "[encoded data removed]",
      "text/plain": [
       "<Figure size 432x540 with 3 Axes>"
      ]
     },
     "execution_count": 265,
     "metadata": {},
     "output_type": "execute_result"
    }
   ],
   "source": [
    "evtor.plot('--.',h=4,max_nodes=3,label='complete data',alpha=0.5)"
   ]
  },
  {
   "cell_type": "code",
   "execution_count": 350,
   "id": "1452a206-e2f3-486c-a0fd-96dbd31f3326",
   "metadata": {},
   "outputs": [],
   "source": [
    "FX = torch.concat([train_dataset[0].x.T,torch.tensor(train_dataset.targets)],axis=0).tolist()"
   ]
  },
  {
   "cell_type": "code",
   "execution_count": 356,
   "id": "f264cee4-f022-4108-a0f8-144361642e88",
   "metadata": {},
   "outputs": [
    {
     "data": {
      "text/plain": [
       "{'node0': 0, 'node1': 1, 'node2': 2, 'node3': 3, 'node4': 4}"
      ]
     },
     "execution_count": 356,
     "metadata": {},
     "output_type": "execute_result"
    }
   ],
   "source": [
    "data_dict['node_ids']"
   ]
  },
  {
   "cell_type": "code",
   "execution_count": 359,
   "id": "bf96c2ef-f8c7-4aa6-9eb7-ce0b4ee579a7",
   "metadata": {},
   "outputs": [
    {
     "data": {
      "text/plain": [
       "dict_keys(['edges', 'node_ids', 'FX'])"
      ]
     },
     "execution_count": 359,
     "metadata": {},
     "output_type": "execute_result"
    }
   ],
   "source": [
    "data_dict.keys()"
   ]
  },
  {
   "cell_type": "code",
   "execution_count": 369,
   "id": "e1849667-b3ac-4c0f-b8e2-28df0aeb4378",
   "metadata": {},
   "outputs": [],
   "source": [
    "def miss(train_dataset,missing_rate=0.5):\n",
    "    f = torch.concat([train_dataset[0].x.T,torch.tensor(train_dataset.targets)],axis=0).numpy()\n",
    "    T,N = f.shape\n",
    "    missing_count = int(np.round(missing_rate*T,0))\n",
    "    mindex = [np.sort(np.random.choice(range(T),missing_count,replace=False)).tolist() for i in range(N)]  \n",
    "    for i,m in enumerate(mindex): \n",
    "        f[m,i] = np.nan\n",
    "    FX = f.tolist()\n",
    "    edges = train_dataset.edge_index.T.tolist()\n",
    "    node_ids = {'node'+str(i):i for i in range(N)}\n",
    "    data_dict = {'edges':edges, 'node_ids':node_ids, 'FX':FX} \n",
    "    return f"
   ]
  },
  {
   "cell_type": "code",
   "execution_count": 367,
   "id": "ce97581e-df69-4ac5-adfc-06b6645dc17a",
   "metadata": {},
   "outputs": [],
   "source": [
    "f = miss(train_dataset)"
   ]
  },
  {
   "cell_type": "code",
   "execution_count": 368,
   "id": "a4592c74-fc71-44f3-9e2c-2a4a2d655fe4",
   "metadata": {},
   "outputs": [
    {
     "data": {
      "text/plain": [
       "[[nan, nan, nan, 0.9337100386619568, 0.4444359242916107],\n",
       " [0.6644957661628723,\n",
       "  0.9354764819145203,\n",
       "  nan,\n",
       "  0.8266565203666687,\n",
       "  0.020978854969143867],\n",
       " [nan, nan, 2.1609389781951904, nan, nan],\n",
       " [1.6844364404678345, nan, nan, nan, 0.28037720918655396],\n",
       " [nan, nan, nan, nan, nan],\n",
       " [0.728846397677063,\n",
       "  0.536253147859539,\n",
       "  -0.730310793942468,\n",
       "  nan,\n",
       "  1.04864254804802],\n",
       " [-1.52678086896422, 1.95781710641633, nan, nan, -0.631679285814668],\n",
       " [nan,\n",
       "  -0.519870107034674,\n",
       "  0.773038575938524,\n",
       "  -0.176065930586011,\n",
       "  -3.13354574968974],\n",
       " [nan, nan, nan, nan, 1.58592625137856],\n",
       " [nan, -0.932876791823362, 0.163580296145992, nan, -0.312327479337686],\n",
       " [nan, 1.00532319566365, nan, nan, -0.434126187138407],\n",
       " [nan, nan, nan, 0.892773199027457, nan],\n",
       " [-0.235969810033262, 0.168738144946516, nan, -0.201182245334165, nan],\n",
       " [-0.574265201483663,\n",
       "  nan,\n",
       "  1.52337862324156,\n",
       "  -1.46611399876985,\n",
       "  0.881432826668879],\n",
       " [-1.12036954607088,\n",
       "  nan,\n",
       "  -0.290951249759009,\n",
       "  0.951438750113407,\n",
       "  -0.634305906162925],\n",
       " [nan, -1.07417582141668, nan, -1.8430264400373, 0.163720693620087],\n",
       " [nan, -0.215965234055934, nan, nan, 0.812001506997385],\n",
       " [nan, 0.617846030224848, nan, -0.316813889169203, nan],\n",
       " [-1.13066066155802,\n",
       "  1.04938264164496,\n",
       "  -0.21992368779418,\n",
       "  -0.838450813106345,\n",
       "  -0.842898549342196],\n",
       " [0.491603005991833, 0.911202203759676, -0.0379397553599146, nan, nan],\n",
       " [nan, nan, nan, nan, 0.487921439723989],\n",
       " [-1.97786040714925, nan, nan, nan, nan],\n",
       " [nan, 1.00712919349049, nan, -1.25549482967322, nan],\n",
       " [nan, nan, nan, 0.235046101369145, -0.132513713419108],\n",
       " [0.588963964313335, nan, nan, nan, 1.03505404899115],\n",
       " [nan, nan, nan, nan, -0.576778286378516],\n",
       " [nan, nan, nan, -1.76786646024622, nan],\n",
       " [nan,\n",
       "  -2.50571176577872,\n",
       "  -0.235496918441769,\n",
       "  -1.46412026906867,\n",
       "  -1.74689907544866],\n",
       " [nan, nan, nan, -1.47843875978357, nan],\n",
       " [0.395708109509932, nan, nan, -1.4185256923108, nan],\n",
       " [-1.63202179018366, nan, -1.40663992651042, -0.164463612705507, nan],\n",
       " [-0.593868925240665, nan, nan, 0.170550009013089, nan],\n",
       " [nan, 0.859337938790541, -0.216488189070456, nan, nan],\n",
       " [nan, nan, nan, nan, nan],\n",
       " [-1.40261720235814,\n",
       "  1.32721807069122,\n",
       "  nan,\n",
       "  0.508358609600666,\n",
       "  -1.19204929897092],\n",
       " [-0.248901260268906,\n",
       "  0.835443000196514,\n",
       "  0.673836074560869,\n",
       "  nan,\n",
       "  -2.50681088206621],\n",
       " [nan, 2.68369039097985, nan, nan, nan],\n",
       " [nan, nan, nan, nan, nan],\n",
       " [nan, nan, 0.589082314605619, -0.959062662001765, -2.17248031840535],\n",
       " [0.40769288242636, nan, nan, nan, 1.17098421638421],\n",
       " [nan, nan, 0.276546798771209, nan, nan],\n",
       " [0.071422121102445, nan, -0.656166400464824, -1.11288399703136, nan],\n",
       " [-0.0386851411461172, nan, -0.121075284474519, nan, -1.28519302026917],\n",
       " [0.0325073645206747,\n",
       "  1.10577554110472,\n",
       "  0.745569895336612,\n",
       "  2.31378505647698,\n",
       "  nan],\n",
       " [0.326298291018971, 1.67237645186787, nan, nan, -1.38530797973862],\n",
       " [0.493735214022417, nan, 0.665517459421431, nan, 0.178924178089666],\n",
       " [1.04619312998643,\n",
       "  0.182022438862178,\n",
       "  0.0763583982636031,\n",
       "  nan,\n",
       "  2.31894116899601],\n",
       " [nan, nan, 0.660265277271496, 0.160859126691695, 0.859163987766651],\n",
       " [nan, nan, -1.37550270587858, -1.55549763090089, 0.782535034263281],\n",
       " [nan, nan, nan, -0.293370937871335, 0.167915470895655],\n",
       " [1.98389945970642, nan, -0.462247924492984, nan, nan],\n",
       " [nan, nan, -0.827420936500545, -0.533338717322979, 3.03848854058786],\n",
       " [2.02532119864783, nan, nan, -0.983423623340506, nan],\n",
       " [-0.182207952852073, nan, -1.57248697115298, nan, nan],\n",
       " [nan, nan, 0.539075568556456, 0.775034293253292, 1.55599197132247],\n",
       " [nan, -0.289984010261816, 0.019376746483554, nan, nan],\n",
       " [-0.628460346908881, nan, 0.839215152638672, nan, nan],\n",
       " [0.219514752481029, nan, 1.29795226956233, nan, nan],\n",
       " [nan, -1.87249937286591, nan, nan, 1.46327572675705],\n",
       " [-1.03748451788724, nan, -2.19704040431213, -1.02219577586457, nan],\n",
       " [nan, -1.80781607654959, nan, -0.275561041957649, nan],\n",
       " [1.08245465039717,\n",
       "  -2.16391467423322,\n",
       "  -2.77269978815306,\n",
       "  -1.86748480951655,\n",
       "  nan],\n",
       " [0.733526181055697, nan, nan, -1.53336891996055, 0.645388233439512],\n",
       " [nan, -0.564034684194162, -1.02444657203928, -0.860302663976119, nan],\n",
       " [nan, nan, -0.86015786122491, nan, -0.286298098301525],\n",
       " [1.24299188208064,\n",
       "  -0.553213121639283,\n",
       "  -0.784868076009548,\n",
       "  nan,\n",
       "  -0.507262708807612],\n",
       " [nan, 1.13404593679402, -0.194833474545958, nan, nan],\n",
       " [nan, nan, -0.529341148581017, nan, nan],\n",
       " [nan, -0.455454165212396, nan, nan, nan],\n",
       " [-0.485225451340932,\n",
       "  nan,\n",
       "  -1.54295667788785,\n",
       "  -0.728773133416669,\n",
       "  -2.63529294752338],\n",
       " [-2.23284008809793, -0.666470900421406, -0.802215707326239, nan, nan],\n",
       " [0.263283350170453,\n",
       "  -0.473210196284622,\n",
       "  0.858443995702021,\n",
       "  -0.330691065636007,\n",
       "  -0.235289711726737],\n",
       " [0.194868022740447,\n",
       "  -1.67379294682538,\n",
       "  -1.15708128356732,\n",
       "  0.464290011917903,\n",
       "  nan],\n",
       " [nan, 0.746939109862486, nan, -1.80592454115295, nan],\n",
       " [-0.319164807302487, 0.368646446326165, nan, nan, nan],\n",
       " [nan, nan, -1.28059632198434, -0.435692564890537, 0.218242219494584],\n",
       " [nan, 1.4735214927756, nan, nan, -1.36931118832528],\n",
       " [nan, nan, -1.51464436190551, nan, 0.571807025877479],\n",
       " [0.591165441823328,\n",
       "  1.63821034732305,\n",
       "  -0.95465988748221,\n",
       "  nan,\n",
       "  -2.9050767835474],\n",
       " [-0.284550884680186, 0.812008859657013, 0.745209777283007, nan, nan],\n",
       " [nan, 0.494780966761723, -0.137672593024998, 0.73880914719817, nan],\n",
       " [nan,\n",
       "  2.21003824274896,\n",
       "  -0.355431422066605,\n",
       "  0.339909653494745,\n",
       "  2.46725314831298],\n",
       " [nan, nan, nan, nan, nan],\n",
       " [nan,\n",
       "  1.2344642570993,\n",
       "  -0.0323865500264014,\n",
       "  -0.956802126555764,\n",
       "  1.29018232970327],\n",
       " [0.630013261467016,\n",
       "  0.172600952501958,\n",
       "  -0.127816246180346,\n",
       "  nan,\n",
       "  -0.237953241048191],\n",
       " [nan, -0.660542920534613, nan, nan, nan],\n",
       " [nan, 0.96368628479141, 0.359594848103415, 0.203580640558592, nan],\n",
       " [-1.13322902480742, 0.151632481816786, nan, nan, 1.28839411570683],\n",
       " [nan, nan, nan, -0.192949616805222, nan],\n",
       " [-0.238994400151642, nan, 1.06347559223642, nan, nan],\n",
       " [nan, nan, nan, nan, -0.84857445957728],\n",
       " [-2.48117970989195,\n",
       "  0.113529318863398,\n",
       "  nan,\n",
       "  0.0116722726139109,\n",
       "  -0.335589458598243],\n",
       " [0.312713660269422,\n",
       "  -0.0795155784222968,\n",
       "  nan,\n",
       "  -2.18022976951475,\n",
       "  -2.24161883739934],\n",
       " [nan, nan, nan, nan, -0.158328108643728],\n",
       " [2.25016711202151, -0.220512658855735, nan, -2.06619941269633, nan],\n",
       " [-0.763689773056829, nan, nan, nan, nan],\n",
       " [0.0144314350337463, nan, -0.640654649627816, nan, nan],\n",
       " [0.957691512896408, -0.361694474660343, nan, nan, 1.10246611577905],\n",
       " [1.46974573025202,\n",
       "  0.554733530764141,\n",
       "  -1.99031807447286,\n",
       "  1.2779506495161,\n",
       "  0.914698430802576],\n",
       " [nan, nan, nan, 2.15385553806046, nan],\n",
       " [3.00171244307796, 2.66674629095131, -0.368684582370731, nan, nan],\n",
       " [nan, 0.456235005062868, nan, nan, 2.22619190429945],\n",
       " [-1.14072789027674, 0.202030353935944, nan, nan, nan],\n",
       " [-0.101523413301405, nan, 0.0884960422230821, 0.849098717574847, nan],\n",
       " [-1.12201451310956, nan, nan, 0.06528458534327, -2.46042966372526],\n",
       " [nan, nan, 0.741019470556679, nan, 1.30742678304542],\n",
       " [nan, 0.119899248882389, 1.18845699671576, 1.0818895765509, nan],\n",
       " [nan, nan, nan, -0.192153746810938, nan],\n",
       " [0.441028046896352,\n",
       "  -0.896440332019774,\n",
       "  -0.270300473063251,\n",
       "  1.98569846893887,\n",
       "  nan],\n",
       " [nan, 0.285784091335568, nan, -1.36461364207974, nan],\n",
       " [-0.812621271618057, nan, nan, -0.29344242399714, 0.0161379250359982],\n",
       " [nan, nan, nan, -2.42209935484858, nan],\n",
       " [0.0131354131775165, nan, -2.38667951981971, -1.61224334403213, nan],\n",
       " [nan, nan, nan, nan, nan],\n",
       " [nan, -0.635578798865205, 0.160746529878434, 0.588310935567413, nan],\n",
       " [nan, nan, nan, 1.12047139053058, nan],\n",
       " [0.0900058789247217,\n",
       "  1.20073454200637,\n",
       "  0.270198304241958,\n",
       "  -1.40471035105992,\n",
       "  -0.0362857882513359],\n",
       " [nan, -1.51880375772715, nan, 1.12907693163864, nan],\n",
       " [-0.0877667048550546,\n",
       "  0.109758177347718,\n",
       "  nan,\n",
       "  -1.21565779291445,\n",
       "  2.10369910823025],\n",
       " [0.171155851423126, -0.458798255087097, nan, nan, -0.550574027307614],\n",
       " [nan, nan, -0.0293093945850032, -0.793820161740709, -0.468573490611254],\n",
       " [nan, nan, 0.389845580674757, nan, nan],\n",
       " [nan, 0.528983152826517, -0.215140490086292, nan, nan],\n",
       " [1.45774119351697, 0.847372381629053, nan, nan, 0.731696971571905],\n",
       " [nan, nan, nan, 0.66378975909289, 1.5052089901602],\n",
       " [nan,\n",
       "  -0.0580069178159994,\n",
       "  -0.325876606087406,\n",
       "  -0.374044712369866,\n",
       "  1.44845100159803],\n",
       " [1.79352723954813, nan, nan, nan, nan],\n",
       " [0.315117202637807, nan, nan, -1.37062715516044, nan],\n",
       " [-0.043340209426951, nan, nan, nan, nan],\n",
       " [-0.102618843642318, nan, -0.604543790153851, nan, nan],\n",
       " [1.74090914676291,\n",
       "  nan,\n",
       "  -0.0105627285753241,\n",
       "  1.56156324675303,\n",
       "  -2.3215747754915],\n",
       " [nan, -0.46943338639251, -0.998242748227029, nan, nan],\n",
       " [nan, nan, -0.214383409721944, nan, nan],\n",
       " [nan, 2.44845264953093, nan, 1.95219739176242, 0.18188706087571],\n",
       " [-0.269362229130527, 1.91195246352953, nan, -0.444547682270041, nan],\n",
       " [nan, -0.410880997513789, nan, nan, -0.287419937633357],\n",
       " [-1.02690399028371, nan, nan, nan, -0.553857899106251],\n",
       " [1.45007850593176,\n",
       "  nan,\n",
       "  1.0348845431426,\n",
       "  1.10511912208164,\n",
       "  -0.449157868889084],\n",
       " [nan, 0.247527773766413, nan, nan, 2.62949378051303],\n",
       " [-0.19165580086095, nan, -0.52119752059453, nan, nan],\n",
       " [nan, nan, -1.17052331393011, nan, -0.674750389921621],\n",
       " [0.97114644998496,\n",
       "  0.0212981100272344,\n",
       "  -0.039896747911261,\n",
       "  0.0466668211049204,\n",
       "  -0.883625222378483],\n",
       " [-0.982608480606785,\n",
       "  -0.377262589087406,\n",
       "  nan,\n",
       "  1.8547237595254,\n",
       "  0.998348450310013],\n",
       " [-0.495627811634699, 2.48317626352848, nan, nan, -0.0250130656250332],\n",
       " [nan, 0.993967043997888, nan, nan, nan],\n",
       " [0.709311790355606, nan, nan, nan, -0.104727469956785],\n",
       " [nan, nan, nan, 2.4995650479887, -0.356150912662401],\n",
       " [nan, nan, -0.406153463097015, nan, nan],\n",
       " [nan, 0.65739285745045, -0.602350629921734, -0.222007913666617, nan],\n",
       " [0.464724441545858,\n",
       "  0.241309628644423,\n",
       "  1.38416408832011,\n",
       "  nan,\n",
       "  1.5142532806591],\n",
       " [nan, 1.16665019889628, 1.42511235585675, nan, -0.820966950407009],\n",
       " [0.324362289439763,\n",
       "  0.546923899555372,\n",
       "  1.1231156090119,\n",
       "  nan,\n",
       "  -0.868204041184054],\n",
       " [-0.642847662295262, 0.4889274740514, nan, nan, nan],\n",
       " [nan, nan, nan, 0.360628057635452, nan],\n",
       " [-0.14430787604546,\n",
       "  nan,\n",
       "  0.724633375961173,\n",
       "  1.18682679680866,\n",
       "  -0.310281958303309],\n",
       " [0.546715317493225,\n",
       "  0.75495141750063,\n",
       "  nan,\n",
       "  0.644574742622856,\n",
       "  -3.02529497196727],\n",
       " [nan, 1.25490482774829, 1.49349599879433, -0.128867226048349, nan],\n",
       " [nan, nan, nan, nan, nan],\n",
       " [-0.292207540157746,\n",
       "  0.598820100564184,\n",
       "  -0.516651586993399,\n",
       "  0.27430408912559,\n",
       "  nan],\n",
       " [-2.30852414877782, nan, 1.46123027242779, -0.500911249009531, nan]]"
      ]
     },
     "execution_count": 368,
     "metadata": {},
     "output_type": "execute_result"
    }
   ],
   "source": [
    "f.tolist()"
   ]
  },
  {
   "cell_type": "code",
   "execution_count": 328,
   "id": "fd74d3fc-1b09-4113-96f0-5fd28d0180da",
   "metadata": {},
   "outputs": [
    {
     "data": {
      "text/plain": [
       "(160, 5)"
      ]
     },
     "execution_count": 328,
     "metadata": {},
     "output_type": "execute_result"
    }
   ],
   "source": [
    "f"
   ]
  },
  {
   "cell_type": "code",
   "execution_count": 327,
   "id": "f84253a9-90c2-4333-bb7b-9eb2bfc49b11",
   "metadata": {},
   "outputs": [
    {
     "data": {
      "text/plain": [
       "(80, 5)"
      ]
     },
     "execution_count": 327,
     "metadata": {},
     "output_type": "execute_result"
    }
   ],
   "source": [
    "np.stack([f[train_dataset.mindex[i],i] for i in range(N)],axis=1)"
   ]
  },
  {
   "cell_type": "code",
   "execution_count": null,
   "id": "bbc61629-7e36-49c0-9396-e4024547884f",
   "metadata": {},
   "outputs": [],
   "source": []
  },
  {
   "cell_type": "code",
   "execution_count": null,
   "id": "a96a767e-56c0-4ebb-8536-87591859b3f3",
   "metadata": {},
   "outputs": [],
   "source": []
  },
  {
   "cell_type": "code",
   "execution_count": null,
   "id": "d47e9f2c-2f9c-4aad-9b97-3522a2f601d5",
   "metadata": {},
   "outputs": [],
   "source": []
  },
  {
   "cell_type": "code",
   "execution_count": null,
   "id": "2fbfba34-be30-4660-810b-a084d7780dc8",
   "metadata": {},
   "outputs": [],
   "source": []
  },
  {
   "cell_type": "code",
   "execution_count": null,
   "id": "f6de1860-25f6-4eb5-a85b-508c884c7279",
   "metadata": {},
   "outputs": [],
   "source": []
  },
  {
   "cell_type": "code",
   "execution_count": null,
   "id": "708904ed-aa5e-407f-a69e-a7410cd9d2cf",
   "metadata": {},
   "outputs": [],
   "source": []
  },
  {
   "cell_type": "code",
   "execution_count": 40,
   "id": "50d881f0-65fc-49c4-acab-1c7b4d371a11",
   "metadata": {},
   "outputs": [],
   "source": [
    "edges_tensor = torch.tensor(data['edges'])\n",
    "fiveVTS = np.array(data['f'])\n",
    "nonzero_indices = edges_tensor.nonzero()\n",
    "fiveNet_edge = np.array(nonzero_indices).T\n",
    "T = 200\n",
    "N = 5 # number of Nodes\n",
    "E = fiveNet_edge\n",
    "V = np.array([1,2,3,4,5])\n",
    "t = np.arange(0,T)\n",
    "node_features = 1\n",
    "edge_index = torch.tensor(E)\n",
    "edge_attr = torch.tensor(np.array([1,1,1,1,1,1,1,1,1,1]),dtype=torch.float32)"
   ]
  },
  {
   "cell_type": "code",
   "execution_count": 42,
   "id": "6ad8e618-8ecd-44ec-b830-a51f043d5c98",
   "metadata": {},
   "outputs": [
    {
     "data": {
      "text/plain": [
       "tensor([[0, 0, 1, 1, 2, 2, 3, 3, 3, 4],\n",
       "        [3, 4, 2, 3, 1, 3, 0, 1, 2, 0]])"
      ]
     },
     "execution_count": 42,
     "metadata": {},
     "output_type": "execute_result"
    }
   ],
   "source": [
    "edge_index"
   ]
  },
  {
   "cell_type": "markdown",
   "id": "4fed58fa-3cd6-428b-a6d0-52e3460d9e1f",
   "metadata": {},
   "source": [
    "`-` train / test "
   ]
  },
  {
   "cell_type": "code",
   "execution_count": 18,
   "id": "cef13f89-df0c-467f-b856-7145f554e428",
   "metadata": {},
   "outputs": [],
   "source": [
    "fiveVTS_train = fiveVTS[:int(len(fiveVTS)*0.8)]\n",
    "fiveVTS_test = fiveVTS[int(len(fiveVTS)*0.8):]"
   ]
  },
  {
   "cell_type": "markdown",
   "id": "b984ecff-ebeb-4d3f-97de-297aa69aa487",
   "metadata": {
    "tags": []
   },
   "source": [
    "# Random Missing Values"
   ]
  },
  {
   "cell_type": "code",
   "execution_count": 19,
   "id": "a9c2d697-7649-4ed0-a0c7-e4b66c4fd45c",
   "metadata": {},
   "outputs": [],
   "source": [
    "class Missing:\n",
    "    def __init__(self,df):\n",
    "        self.df = df\n",
    "        self.N = N\n",
    "        self.number = []\n",
    "    def miss(self,percent=0.5):\n",
    "        self.missing = self.df.copy()\n",
    "        self.percent = percent\n",
    "        for i in range(self.N):\n",
    "            #self.seed = np.random.choice(1000,1,replace=False)\n",
    "            #np.random.seed(self.seed)\n",
    "            self.number.append(np.random.choice(int(len(self.df))-1,int(len(self.df)*self.percent),replace=False))\n",
    "            self.missing[self.number[i],i] = float('nan')\n",
    "    def first_mean(self):\n",
    "        self.train_mean = self.missing.copy()\n",
    "        for i in range(self.N):\n",
    "            self.train_mean[self.number[i],i] = np.nanmean(self.missing[:,i])\n",
    "    def second_linear(self):\n",
    "        self.train_linear = pd.DataFrame(self.missing)\n",
    "        self.train_linear.interpolate(method='linear', inplace=True)\n",
    "        self.train_linear = self.train_linear.fillna(0)\n",
    "        self.train_linear = np.array(self.train_linear).reshape(int(len(self.df)),N)"
   ]
  },
  {
   "cell_type": "code",
   "execution_count": null,
   "id": "55a54d94-c2d1-4b81-be98-ae7eee5f71aa",
   "metadata": {},
   "outputs": [],
   "source": []
  },
  {
   "cell_type": "code",
   "execution_count": 20,
   "id": "79dda18e-9e34-4227-806c-431a07403290",
   "metadata": {},
   "outputs": [],
   "source": [
    "col = ['Dataset','iteration', 'method', 'missingrate', 'missingtype', 'lag', 'number_of_filters', 'interpolation','MSE_train', 'MSE_test']\n",
    "\n",
    "rate = [i/10 for i in range(10)]"
   ]
  },
  {
   "cell_type": "markdown",
   "id": "d5832fea-151e-43ca-8ef9-8d12b18a2655",
   "metadata": {},
   "source": [
    "# Class code by Method"
   ]
  },
  {
   "cell_type": "markdown",
   "id": "90619301-0663-4e78-8d2e-926f0efc8482",
   "metadata": {},
   "source": [
    "## STGCN"
   ]
  },
  {
   "cell_type": "code",
   "execution_count": 21,
   "id": "3e4cefbf-1ffb-481f-9084-42d90689956f",
   "metadata": {
    "tags": []
   },
   "outputs": [],
   "source": [
    "class STGCN_Missing:\n",
    "    def __init__(self,Dataset,df, iterable, Method, Missingrate, Missingtype, lag, Number_of_filters, Interpolation):\n",
    "        self.Dataset = Dataset\n",
    "        self.df = df\n",
    "        self.iterable = iterable\n",
    "        self.Method = Method\n",
    "        self.Missingrate = Missingrate\n",
    "        self.Missingtype = Missingtype\n",
    "        self.lag = lag\n",
    "        self.Number_of_filters = Number_of_filters\n",
    "        self.Interpolation = Interpolation\n",
    "    def iter(self):\n",
    "        self.XX = torch.tensor(fiveVTS_test.reshape(int(T*0.2),N,1)[:-1,:,:]).float()\n",
    "        self.yy = torch.tensor(fiveVTS_test.reshape(int(T*0.2),N,1)[1:,:,:]).float()\n",
    "\n",
    "        self.real_y = torch.tensor(fiveVTS_train).reshape(int(T*0.8),N,1).float()[1:,:,:]\n",
    "        for i in range(self.iterable):\n",
    "\n",
    "            _zero = Missing(fiveVTS_train)\n",
    "            _zero.miss(percent = self.Missingrate)\n",
    "            _zero.second_linear()\n",
    "\n",
    "            missing_index = _zero.number\n",
    "            interpolated_signal = _zero.train_linear\n",
    "\n",
    "            X = torch.tensor(interpolated_signal).reshape(int(T*0.8),N,1).float()[:int(T*0.8-1),:,:]\n",
    "            y = torch.tensor(interpolated_signal).reshape(int(T*0.8),N,1).float()[1:,:,:]\n",
    "\n",
    "            net = RecurrentGCN(node_features=self.lag, filters=self.Number_of_filters)\n",
    "            optimizer = torch.optim.Adam(net.parameters(), lr=0.01)\n",
    "            net.train()\n",
    "            for epoch in range(50):\n",
    "                for time, (xt,yt) in enumerate(zip(X,y)):\n",
    "                    yt_hat = net(xt, edge_index, edge_attr)\n",
    "                    cost = torch.mean((yt_hat-yt)**2)\n",
    "                    cost.backward()\n",
    "                    optimizer.step()\n",
    "                    optimizer.zero_grad()\n",
    "\n",
    "            yhat = torch.stack([net(xt, edge_index, edge_attr) for xt in X]).detach().numpy()\n",
    "            yyhat = torch.stack([net(xt, edge_index, edge_attr) for xt in self.XX]).detach().numpy()\n",
    "\n",
    "            train_mse_total_stgcn = (((self.real_y-yhat).squeeze())**2).mean()\n",
    "            test_mse_total_stgcn = (((self.yy-yyhat).squeeze())**2).mean() \n",
    "\n",
    "            df_row = pd.DataFrame(columns=col)\n",
    "            df_row['Dataset'] = self.Dataset, \n",
    "            df_row['iteration'] = i+1, # 1,2,3,...,10 \n",
    "            df_row['method'] = self.Method, # 'stgcn','estgcn','gnar' \n",
    "            df_row['missingrate'] = self.Missingrate, # 0.0, 0.2, 0.4, 0.6, 0.8 \n",
    "            df_row['missingtype'] = self.Missingtype,  # None, 'randomly' and 'block' \n",
    "            df_row['lag'] = self.lag, # 1,2,3,4 ... \n",
    "            df_row['number_of_filters'] = self.Number_of_filters, # 16,24,32, ... \n",
    "            df_row['interpolation'] = self.Interpolation, # None, 'mean', 'linear'\n",
    "            df_row['MSE_train'] = train_mse_total_stgcn.tolist()\n",
    "            df_row['MSE_test'] = test_mse_total_stgcn.tolist()\n",
    "\n",
    "            self.df = pd.concat([self.df,df_row])"
   ]
  },
  {
   "cell_type": "markdown",
   "id": "74841d2a-f372-4543-8f78-a22b5ba83d02",
   "metadata": {
    "tags": []
   },
   "source": [
    "## Enhencement of STGCN"
   ]
  },
  {
   "cell_type": "code",
   "execution_count": 22,
   "id": "532d3cd3-ba47-4747-9933-98dfd5d44bd2",
   "metadata": {
    "tags": []
   },
   "outputs": [],
   "source": [
    "class ESTGCN_Missing:\n",
    "    def __init__(self,Dataset,df, iterable, Method, Missingrate, Missingtype, lag, Number_of_filters, Interpolation):\n",
    "        self.Dataset = Dataset\n",
    "        self.df = df\n",
    "        self.iterable = iterable\n",
    "        self.Method = Method\n",
    "        self.Missingrate = Missingrate\n",
    "        self.Missingtype = Missingtype\n",
    "        self.lag = lag\n",
    "        self.Number_of_filters = Number_of_filters\n",
    "        self.Interpolation = Interpolation\n",
    "    def iter(self):\n",
    "        self.XX = torch.tensor(fiveVTS_test.reshape(int(T*0.2),N,1)[:-1,:,:]).float()\n",
    "        self.yy = torch.tensor(fiveVTS_test.reshape(int(T*0.2),N,1)[1:,:,:]).float()\n",
    "\n",
    "        self.real_y = torch.tensor(fiveVTS_train).reshape(int(T*0.8),N,1).float()[1:,:,:]\n",
    "        for i in range(self.iterable):\n",
    "    \n",
    "            _zero = Missing(fiveVTS_train)\n",
    "            _zero.miss(percent = self.Missingrate)\n",
    "            _zero.second_linear()\n",
    "\n",
    "            missing_index = _zero.number\n",
    "            interpolated_signal = _zero.train_linear\n",
    "\n",
    "            X = torch.tensor(interpolated_signal).reshape(int(T*0.8),N,1).float()[:int(T*0.8-1),:,:]\n",
    "            y = torch.tensor(interpolated_signal).reshape(int(T*0.8),N,1).float()[1:,:,:]\n",
    "\n",
    "\n",
    "            net = RecurrentGCN(node_features=self.lag, filters=self.Number_of_filters)\n",
    "            optimizer = torch.optim.Adam(net.parameters(), lr=0.01)\n",
    "            net.train()\n",
    "            signal = interpolated_signal.copy()\n",
    "            for epoch in range(50):\n",
    "                signal = update_from_freq_domain(signal,missing_index)\n",
    "                X = torch.tensor(signal).reshape(int(T*0.8),N,1).float()[:int(T*0.8-1),:,:]\n",
    "                y = torch.tensor(signal).reshape(int(T*0.8),N,1).float()[1:,:,:]\n",
    "                for time, (xt,yt) in enumerate(zip(X,y)):        \n",
    "                    yt_hat = net(xt, edge_index, edge_attr)\n",
    "                    cost = torch.mean((yt_hat-yt)**2)\n",
    "                    cost.backward()\n",
    "                    optimizer.step()\n",
    "                    optimizer.zero_grad()\n",
    "                signal = torch.concat([X.squeeze(),yt_hat.detach().squeeze().reshape(1,-1)])               \n",
    "\n",
    "            yhat = torch.stack([net(xt, edge_index, edge_attr) for xt in X]).detach().numpy()\n",
    "            yyhat = torch.stack([net(xt, edge_index, edge_attr) for xt in self.XX]).detach().numpy()\n",
    "\n",
    "            train_mse_total_estgcn = (((self.real_y-yhat).squeeze())**2).mean()\n",
    "            test_mse_total_estgcn = (((self.yy-yyhat).squeeze())**2).mean()\n",
    "\n",
    "            df_row = pd.DataFrame(columns=col)\n",
    "            df_row['Dataset'] = self.Dataset,\n",
    "            df_row['iteration'] = i+1, # 1,2,3,...,10 \n",
    "            df_row['method'] = self.Method, # 'stgcn','estgcn','gnar' \n",
    "            df_row['missingrate'] = self.Missingrate, # 0.0, 0.2, 0.4, 0.6, 0.8 \n",
    "            df_row['missingtype'] = self.Missingtype,  # None, 'randomly' and 'block' \n",
    "            df_row['lag'] = self.lag, # 1,2,3,4 ... \n",
    "            df_row['number_of_filters'] = self.Number_of_filters, # 16,24,32, ... \n",
    "            df_row['interpolation'] = self.Interpolation, # None, 'mean', 'linear'\n",
    "            df_row['MSE_train'] = train_mse_total_estgcn.tolist()\n",
    "            df_row['MSE_test'] = test_mse_total_estgcn.tolist()\n",
    "\n",
    "            self.df = pd.concat([self.df,df_row])"
   ]
  },
  {
   "cell_type": "markdown",
   "id": "f5f20fc1-21ff-4b9e-afd8-007ac8a4c77b",
   "metadata": {},
   "source": [
    "## GNAR"
   ]
  },
  {
   "cell_type": "code",
   "execution_count": 23,
   "id": "ff49ecf4-a1a8-43fe-b72f-71f407ffdad1",
   "metadata": {},
   "outputs": [],
   "source": [
    "m = robjects.r.matrix(FloatVector([0,0,0,1,1,0,0,1,1,0,0,1,0,1,0,1,1,1,0,0,1,0,0,0,0]), nrow = 5, ncol = 5)"
   ]
  },
  {
   "cell_type": "code",
   "execution_count": 24,
   "id": "a9195dd3-fa73-4ac3-bde9-632666258ae4",
   "metadata": {
    "tags": []
   },
   "outputs": [],
   "source": [
    "class GNAR_Missing:\n",
    "    def __init__(self,Dataset,df, iterable, Method, Missingrate, Missingtype, lag, Number_of_filters, Interpolation):\n",
    "        self.Dataset = Dataset\n",
    "        self.df = df\n",
    "        self.iterable = iterable\n",
    "        self.Method = Method\n",
    "        self.Missingrate = Missingrate\n",
    "        self.Missingtype = Missingtype\n",
    "        self.lag = lag\n",
    "        self.Number_of_filters = Number_of_filters\n",
    "        self.Interpolation = Interpolation\n",
    "    def iter(self):\n",
    "        self.yy = torch.tensor(fiveVTS_test.reshape(int(T*0.2),N,1)[1:,:,:]).float()\n",
    "        for i in range(self.iterable):\n",
    "\n",
    "            _zero = Missing(fiveVTS_train)\n",
    "            _zero.miss(percent = self.Missingrate)\n",
    "            _zero.second_linear()\n",
    "\n",
    "            missing_index = _zero.number\n",
    "            interpolated_signal = _zero.train_linear\n",
    "\n",
    "            X = torch.tensor(interpolated_signal).reshape(int(T*0.8),N,1).float()[:int(T*0.8-2),:,:]\n",
    "\n",
    "            answer = GNAR.GNARfit(vts=robjects.r.matrix(rpyn.numpy2rpy(np.array(X).squeeze()), nrow = 160, ncol = 5),net = GNAR.matrixtoGNAR(m), alphaOrder = 2, betaOrder = FloatVector([1, 1]))             \n",
    "            predict = GNAR.predict_GNARfit(answer,n_ahead=40)\n",
    "\n",
    "\n",
    "            train_mse_total_gnar = ((pd.DataFrame(GNAR.residuals_GNARfit(answer)).values.reshape(-1,5))**2).mean()\n",
    "            test_mse_total_gnar = ((self.yy.squeeze() - pd.DataFrame(predict).values.reshape(-1,5)[:-1,:])**2).mean()\n",
    "\n",
    "            df_row = pd.DataFrame(columns=col)\n",
    "            df_row['Dataset'] = self.Dataset,\n",
    "            df_row['iteration'] = i+1, # 1,2,3,...,10 \n",
    "            df_row['method'] = self.Method, # 'stgcn','estgcn','gnar' \n",
    "            df_row['missingrate'] = self.Missingrate, # 0.0, 0.2, 0.4, 0.6, 0.8 \n",
    "            df_row['missingtype'] = self.Missingtype,  # None, 'randomly' and 'block' \n",
    "            df_row['lag'] = self.lag, # 1,2,3,4 ... \n",
    "            df_row['number_of_filters'] = self.Number_of_filters, # 16,24,32, ... \n",
    "            df_row['interpolation'] = self.Interpolation, # None, 'mean', 'linear'\n",
    "            df_row['MSE_train'] = train_mse_total_gnar.tolist()\n",
    "            df_row['MSE_test'] = test_mse_total_gnar.tolist()\n",
    "\n",
    "            self.df = pd.concat([self.df,df_row])"
   ]
  },
  {
   "cell_type": "markdown",
   "id": "b368d41a-7279-4d48-befb-1499a42eb5d5",
   "metadata": {},
   "source": [
    "## STGCN"
   ]
  },
  {
   "cell_type": "code",
   "execution_count": 25,
   "id": "45f09158-75e2-4333-a3b3-2a6badfe5e34",
   "metadata": {},
   "outputs": [],
   "source": [
    "Dataset = 'fivenodes'\n",
    "Method = 'stgcn' # 'stgcn','estgcn','gnar' \n",
    "Missingtype = 'randomly'  # None, 'randomly' and 'block' \n",
    "lag = 1 # 1,2,3,4 ... \n",
    "Number_of_filters = 4 # 16,24,32, ... \n",
    "Interpolation = 'Linear' # None, 'mean', 'linear'\n",
    "iterable = 100"
   ]
  },
  {
   "cell_type": "code",
   "execution_count": null,
   "id": "1485dd96-fb2d-4990-8c98-09c8b0c55de7",
   "metadata": {},
   "outputs": [],
   "source": [
    "df_stgcn= pd.DataFrame(columns=col)"
   ]
  },
  {
   "cell_type": "code",
   "execution_count": null,
   "id": "058eb399-56aa-420c-b93f-63eb5f05f77e",
   "metadata": {},
   "outputs": [],
   "source": [
    "for Missingrate in rate:\n",
    "    df = pd.DataFrame(columns=col)\n",
    "    stgcn = STGCN_Missing(Dataset,df, iterable,Method, Missingrate, Missingtype, lag, Number_of_filters, Interpolation)\n",
    "    stgcn.iter()\n",
    "    df_add = stgcn.df.copy()\n",
    "    df_stgcn = pd.concat([df_stgcn,df_add],axis=0)"
   ]
  },
  {
   "cell_type": "code",
   "execution_count": null,
   "id": "190fdacf-ec1c-48a6-beb5-fd11a796f31b",
   "metadata": {},
   "outputs": [],
   "source": [
    "save_data(df_stgcn, './data/GNAR_stgcn_randomly_by_rate.pkl')"
   ]
  },
  {
   "cell_type": "markdown",
   "id": "66e4c955-0ab9-4080-8847-4734afbd1540",
   "metadata": {
    "tags": []
   },
   "source": [
    "## Enhencement of STGCN"
   ]
  },
  {
   "cell_type": "code",
   "execution_count": null,
   "id": "a13cd97c-8222-495f-8db5-677bf8f3daf6",
   "metadata": {},
   "outputs": [],
   "source": [
    "Dataset = 'fivenodes'\n",
    "Method = 'estgcn' # 'stgcn','estgcn','gnar' \n",
    "Missingtype = 'randomly'  # None, 'randomly' and 'block' \n",
    "lag = 1 # 1,2,3,4 ... \n",
    "Number_of_filters = 4 # 16,24,32, ... \n",
    "Interpolation = 'Linear' # None, 'mean', 'linear'\n",
    "iterable = 100"
   ]
  },
  {
   "cell_type": "code",
   "execution_count": null,
   "id": "ec31e136-0a49-4458-886c-58d0c9c1df9c",
   "metadata": {},
   "outputs": [],
   "source": [
    "df_estgcn = pd.DataFrame(columns=col)"
   ]
  },
  {
   "cell_type": "code",
   "execution_count": null,
   "id": "45666064-15c0-4f38-a1da-137c089457d7",
   "metadata": {},
   "outputs": [],
   "source": [
    "for Missingrate in rate:\n",
    "    df = pd.DataFrame(columns=col)\n",
    "    estgcn = ESTGCN_Missing(Dataset,df, iterable,Method, Missingrate, Missingtype, lag, Number_of_filters, Interpolation)\n",
    "    estgcn.iter()\n",
    "    df_add = estgcn.df.copy()\n",
    "    df_estgcn = pd.concat([df_estgcn,df_add],axis=0)"
   ]
  },
  {
   "cell_type": "code",
   "execution_count": null,
   "id": "cc1125a4-a55b-472d-a728-dcc5103e24e3",
   "metadata": {},
   "outputs": [],
   "source": [
    "save_data(df_estgcn, './data/GNAR_estgcn_randomly_by_rate.pkl')"
   ]
  },
  {
   "cell_type": "markdown",
   "id": "7d62c348-e220-41b7-a01e-cc74ec52231d",
   "metadata": {},
   "source": [
    "## GNAR"
   ]
  },
  {
   "cell_type": "code",
   "execution_count": null,
   "id": "de1797d2-bb65-408e-bcd1-044aa6dbe923",
   "metadata": {},
   "outputs": [],
   "source": [
    "Dataset = 'fivenodes'\n",
    "Method = 'gnar' # 'stgcn','estgcn','gnar' \n",
    "Missingtype = 'randomly'  # None, 'randomly' and 'block' \n",
    "lag = 1 # 1,2,3,4 ... \n",
    "Number_of_filters = None # 16,24,32, ... \n",
    "Interpolation = 'Linear' # None, 'mean', 'linear'\n",
    "iterable = 100"
   ]
  },
  {
   "cell_type": "code",
   "execution_count": null,
   "id": "86a6c8cb-49ec-4557-8b57-2485caacd05d",
   "metadata": {},
   "outputs": [],
   "source": [
    "df_gnar = pd.DataFrame(columns=col)"
   ]
  },
  {
   "cell_type": "code",
   "execution_count": null,
   "id": "49336ba8-01d4-457e-b241-405a4f686a4f",
   "metadata": {},
   "outputs": [],
   "source": [
    "for Missingrate in rate:\n",
    "    df = pd.DataFrame(columns=col)\n",
    "    gnar = GNAR_Missing(Dataset,df, iterable,Method, Missingrate, Missingtype, lag, Number_of_filters, Interpolation)\n",
    "    gnar.iter()\n",
    "    df_add = gnar.df.copy()\n",
    "    df_gnar = pd.concat([df_gnar,df_add],axis=0)"
   ]
  },
  {
   "cell_type": "code",
   "execution_count": null,
   "id": "1f4d3d89-680d-4286-b32f-322839759320",
   "metadata": {},
   "outputs": [],
   "source": [
    "save_data(df_gnar, './data/GANR_gnar_randomly_by_rate.pkl')"
   ]
  },
  {
   "cell_type": "code",
   "execution_count": null,
   "id": "a19e041f-bb1d-445f-bfb9-e5872fe1bdcd",
   "metadata": {},
   "outputs": [],
   "source": []
  }
 ],
 "metadata": {
  "kernelspec": {
   "display_name": "Python 3 (ipykernel)",
   "language": "python",
   "name": "python3"
  },
  "language_info": {
   "codemirror_mode": {
    "name": "ipython",
    "version": 3
   },
   "file_extension": ".py",
   "mimetype": "text/x-python",
   "name": "python",
   "nbconvert_exporter": "python",
   "pygments_lexer": "ipython3",
   "version": "3.8.12"
  },
  "toc-showcode": false
 },
 "nbformat": 4,
 "nbformat_minor": 5
}

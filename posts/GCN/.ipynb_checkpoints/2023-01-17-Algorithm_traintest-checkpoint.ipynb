{
 "cells": [
  {
   "cell_type": "raw",
   "id": "7332526f-9bd3-47f8-b721-6180f1986ae1",
   "metadata": {
    "id": "cac470df-29e7-4148-9bbd-d8b9a32fa570",
    "tags": []
   },
   "source": [
    "---\n",
    "title: \"1st ST-GCN Example dividing train and test\"\n",
    "author: \"SEOYEON CHOI\"\n",
    "date: \"2023-01-17\"\n",
    "categories:\n",
    "  - ST-GCN\n",
    "---"
   ]
  },
  {
   "cell_type": "markdown",
   "id": "915b6d18-9ab7-48f0-9a7e-63bb8af98a45",
   "metadata": {},
   "source": [
    "> Try to divide train and test(GNAR fivenet)"
   ]
  },
  {
   "cell_type": "markdown",
   "id": "bf913a43-cf86-47d2-bdf3-ae880e1c61df",
   "metadata": {
    "tags": []
   },
   "source": [
    "# import"
   ]
  },
  {
   "cell_type": "code",
   "execution_count": 1,
   "id": "2b820011-2a41-4156-a3b8-158a2f763a7c",
   "metadata": {},
   "outputs": [],
   "source": [
    "import rpy2\n",
    "import rpy2.robjects as ro \n",
    "from rpy2.robjects.vectors import FloatVector \n",
    "from rpy2.robjects.packages import importr\n",
    "\n",
    "import torch\n",
    "import numpy as np\n",
    "from tqdm import tqdm\n",
    "\n",
    "import torch.nn.functional as F\n",
    "from torch_geometric_temporal.nn.recurrent import GConvGRU\n",
    "\n",
    "import matplotlib.pyplot as plt\n",
    "import pandas as pd\n",
    "\n",
    "import time\n",
    "\n",
    "from scipy.interpolate import interp1d"
   ]
  },
  {
   "cell_type": "code",
   "execution_count": 2,
   "id": "2b9bf384-3729-49ee-82a0-82469aa25554",
   "metadata": {},
   "outputs": [],
   "source": [
    "class RecurrentGCN(torch.nn.Module):\n",
    "    def __init__(self, node_features, filters):\n",
    "        super(RecurrentGCN, self).__init__()\n",
    "        self.recurrent = GConvGRU(node_features, filters, 2)\n",
    "        self.linear = torch.nn.Linear(filters, 1)\n",
    "\n",
    "    def forward(self, x, edge_index, edge_weight):\n",
    "        h = self.recurrent(x, edge_index, edge_weight)\n",
    "        h = F.relu(h)\n",
    "        h = self.linear(h)\n",
    "        return h"
   ]
  },
  {
   "cell_type": "markdown",
   "id": "b980f72a-138e-4faf-965f-8f7268256681",
   "metadata": {},
   "source": [
    "# R"
   ]
  },
  {
   "cell_type": "code",
   "execution_count": 3,
   "id": "590ee4c5-6ada-4cca-9985-30b9f32a38b6",
   "metadata": {},
   "outputs": [],
   "source": [
    "%load_ext rpy2.ipython"
   ]
  },
  {
   "cell_type": "code",
   "execution_count": 127,
   "id": "927294dc-892e-41ed-afc4-7d4bd7802528",
   "metadata": {},
   "outputs": [],
   "source": [
    "%%R\n",
    "library(GNAR)\n",
    "library(igraph)"
   ]
  },
  {
   "cell_type": "markdown",
   "id": "8bb1c0a6-042c-4f96-b181-8d8a26585b00",
   "metadata": {},
   "source": [
    "# Data"
   ]
  },
  {
   "cell_type": "code",
   "execution_count": 5,
   "id": "77ce1261-4347-4281-8a9c-e3b63f3043e7",
   "metadata": {},
   "outputs": [
    {
     "name": "stdout",
     "output_type": "stream",
     "text": [
      "GNARnet with 5 nodes and 10 edges\n",
      " of equal length  1"
     ]
    }
   ],
   "source": [
    "%%R\n",
    "summary(fiveNet)"
   ]
  },
  {
   "cell_type": "code",
   "execution_count": 6,
   "id": "f53e1ad9-46f5-486a-8298-201c0800ab89",
   "metadata": {},
   "outputs": [],
   "source": [
    "%%R\n",
    "edges <- as.matrix(fiveNet)\n",
    "data(\"fiveNode\")"
   ]
  },
  {
   "cell_type": "code",
   "execution_count": 7,
   "id": "50256c64-4865-4431-8248-2eb16e9026e8",
   "metadata": {},
   "outputs": [],
   "source": [
    "%R -o fiveVTS\n",
    "%R -o edges"
   ]
  },
  {
   "cell_type": "markdown",
   "id": "329902a3-1538-4b1a-9d33-17ec2a6aacba",
   "metadata": {},
   "source": [
    "- node: 5\n",
    "- time 200"
   ]
  },
  {
   "cell_type": "code",
   "execution_count": 221,
   "id": "aea8d6e9-db6c-43ce-ab45-7aa17125c8be",
   "metadata": {},
   "outputs": [],
   "source": [
    "%%R\n",
    "write.csv(fiveVTS,file=\"fiveVTS.csv\")"
   ]
  },
  {
   "cell_type": "code",
   "execution_count": 222,
   "id": "c052dd65-f454-41e7-bfea-f3b57556aa86",
   "metadata": {},
   "outputs": [],
   "source": [
    "%%R\n",
    "write.csv(edges,file=\"edges.csv\")"
   ]
  },
  {
   "cell_type": "code",
   "execution_count": 8,
   "id": "6d425e07-5761-431c-8dbb-afb045dc17b8",
   "metadata": {},
   "outputs": [],
   "source": [
    "edges_tensor = torch.tensor(edges)"
   ]
  },
  {
   "cell_type": "code",
   "execution_count": 9,
   "id": "ee0143e8-9738-4f86-8633-988dd0ec035b",
   "metadata": {},
   "outputs": [],
   "source": [
    "nonzero_indices = edges_tensor.nonzero()"
   ]
  },
  {
   "cell_type": "code",
   "execution_count": 10,
   "id": "943d6ba8-4974-488f-8ea7-1d53d86b3e51",
   "metadata": {},
   "outputs": [],
   "source": [
    "fiveNet_edge = np.array(nonzero_indices).T"
   ]
  },
  {
   "cell_type": "code",
   "execution_count": 11,
   "id": "ed83942b-538f-402c-9ab1-cc4bd173147b",
   "metadata": {},
   "outputs": [],
   "source": [
    "T = 200\n",
    "N = 5 # number of Nodes\n",
    "E = fiveNet_edge\n",
    "V = np.array([1,2,3,4,5])\n",
    "t = np.arange(0,T)\n",
    "node_features = 1"
   ]
  },
  {
   "cell_type": "code",
   "execution_count": 12,
   "id": "8964a107-ccff-4284-af34-ed396d2245e6",
   "metadata": {},
   "outputs": [],
   "source": [
    "edge_index = torch.tensor(E)\n",
    "edge_attr = torch.tensor(np.array([1,1,1,1,1,1,1,1,1,1]),dtype=torch.float32)"
   ]
  },
  {
   "cell_type": "code",
   "execution_count": 13,
   "id": "1dcaa54a-6337-4c04-b838-b0e530a2aaca",
   "metadata": {},
   "outputs": [
    {
     "data": {
      "text/plain": [
       "(200, 5)"
      ]
     },
     "execution_count": 13,
     "metadata": {},
     "output_type": "execute_result"
    }
   ],
   "source": [
    "fiveVTS.shape"
   ]
  },
  {
   "cell_type": "code",
   "execution_count": 14,
   "id": "1a75afdb-a2b8-436a-96f4-8a38f4869f88",
   "metadata": {},
   "outputs": [],
   "source": [
    "fiveVTS_train = fiveVTS[:int(len(fiveVTS)*0.8)]\n",
    "fiveVTS_test = fiveVTS[int(len(fiveVTS)*0.8):]"
   ]
  },
  {
   "cell_type": "code",
   "execution_count": 15,
   "id": "bb58ee0f-c479-4e80-b243-0acd71d5c440",
   "metadata": {},
   "outputs": [
    {
     "data": {
      "text/plain": [
       "((160, 5), (40, 5))"
      ]
     },
     "execution_count": 15,
     "metadata": {},
     "output_type": "execute_result"
    }
   ],
   "source": [
    "fiveVTS_train.shape, fiveVTS_test.shape"
   ]
  },
  {
   "cell_type": "markdown",
   "id": "760e50ec-1b57-45be-9a33-11e04fe61ef1",
   "metadata": {},
   "source": [
    "# Randomly Missing Values"
   ]
  },
  {
   "cell_type": "code",
   "execution_count": 16,
   "id": "a71eac6b-8fdb-4c60-8257-e7bdbf9d1eb9",
   "metadata": {},
   "outputs": [],
   "source": [
    "np.random.seed(1)\n",
    "seed_number1 = np.random.choice(160,80,replace=False)"
   ]
  },
  {
   "cell_type": "code",
   "execution_count": 17,
   "id": "21b4211d-ac99-44cc-b9ca-3aa7556af074",
   "metadata": {},
   "outputs": [],
   "source": [
    "np.random.seed(3)\n",
    "seed_number2 = np.random.choice(160,80,replace=False)"
   ]
  },
  {
   "cell_type": "code",
   "execution_count": 18,
   "id": "1f5c328e-8d4f-48cb-b80f-ef542bcd5b8c",
   "metadata": {},
   "outputs": [],
   "source": [
    "np.random.seed(5)\n",
    "seed_number3 = np.random.choice(160,80,replace=False)"
   ]
  },
  {
   "cell_type": "code",
   "execution_count": 19,
   "id": "897c5959-a8c1-4197-b6ce-7a69a3377424",
   "metadata": {},
   "outputs": [],
   "source": [
    "np.random.seed(7)\n",
    "seed_number4 = np.random.choice(160,80,replace=False)"
   ]
  },
  {
   "cell_type": "code",
   "execution_count": 20,
   "id": "89382a4a-99f4-49c6-9ed3-f2826ff85a2e",
   "metadata": {},
   "outputs": [],
   "source": [
    "np.random.seed(9)\n",
    "seed_number5 = np.random.choice(160,80,replace=False)"
   ]
  },
  {
   "cell_type": "code",
   "execution_count": 21,
   "id": "d13b08c6-8330-4da6-acef-381d7004fed3",
   "metadata": {},
   "outputs": [],
   "source": [
    "fiveVTS_train[seed_number1,0] = float('nan')"
   ]
  },
  {
   "cell_type": "code",
   "execution_count": 22,
   "id": "983efa4a-c0e7-483f-baad-2534ae514070",
   "metadata": {},
   "outputs": [],
   "source": [
    "fiveVTS_train[seed_number2,1] = float('nan')"
   ]
  },
  {
   "cell_type": "code",
   "execution_count": 23,
   "id": "a7d36b7f-8975-40a6-ad4b-7c6004662292",
   "metadata": {},
   "outputs": [],
   "source": [
    "fiveVTS_train[seed_number3,2] = float('nan')"
   ]
  },
  {
   "cell_type": "code",
   "execution_count": 24,
   "id": "7abc2e1d-fbf5-4e8e-ab47-a499611bfa43",
   "metadata": {},
   "outputs": [],
   "source": [
    "fiveVTS_train[seed_number4,3] = float('nan')"
   ]
  },
  {
   "cell_type": "code",
   "execution_count": 25,
   "id": "011f2b37-df5e-46b2-9b77-57b0397cee0d",
   "metadata": {},
   "outputs": [],
   "source": [
    "fiveVTS_train[seed_number5,4] = float('nan')"
   ]
  },
  {
   "cell_type": "markdown",
   "id": "3c14500c-0428-4396-87da-7d03ab108c0a",
   "metadata": {
    "tags": []
   },
   "source": [
    "# 1. Mean"
   ]
  },
  {
   "cell_type": "code",
   "execution_count": 26,
   "id": "44f2daa8-18bb-4e04-9b77-2ed6ac1128a6",
   "metadata": {},
   "outputs": [],
   "source": [
    "fiveVTS_train_mean = fiveVTS_train.copy()"
   ]
  },
  {
   "cell_type": "code",
   "execution_count": 27,
   "id": "b4882817-056b-4715-93df-1442b976516b",
   "metadata": {},
   "outputs": [],
   "source": [
    "fiveVTS_train_mean[seed_number1,0] = np.nanmean(fiveVTS_train_mean[:,0])"
   ]
  },
  {
   "cell_type": "code",
   "execution_count": 28,
   "id": "6dde1073-00bf-4367-9937-e4abaee32e01",
   "metadata": {},
   "outputs": [],
   "source": [
    "fiveVTS_train_mean[seed_number2,1] = np.nanmean(fiveVTS_train_mean[:,1])"
   ]
  },
  {
   "cell_type": "code",
   "execution_count": 29,
   "id": "fecea7f3-92c4-41b2-aa85-048db083d5ac",
   "metadata": {},
   "outputs": [],
   "source": [
    "fiveVTS_train_mean[seed_number3,2] = np.nanmean(fiveVTS_train_mean[:,2])"
   ]
  },
  {
   "cell_type": "code",
   "execution_count": 30,
   "id": "6252cd96-31f1-4b81-a72d-b9080c2108a5",
   "metadata": {},
   "outputs": [],
   "source": [
    "fiveVTS_train_mean[seed_number4,3] = np.nanmean(fiveVTS_train_mean[:,3])"
   ]
  },
  {
   "cell_type": "code",
   "execution_count": 31,
   "id": "ea4cf3f6-4807-4692-9fa6-8b776f31d786",
   "metadata": {},
   "outputs": [],
   "source": [
    "fiveVTS_train_mean[seed_number5,4] = np.nanmean(fiveVTS_train_mean[:,4])"
   ]
  },
  {
   "cell_type": "markdown",
   "id": "1f9a63dc-dec3-49ac-8b71-c5fa34a09fb0",
   "metadata": {},
   "source": [
    "## 1) ST-GCN"
   ]
  },
  {
   "cell_type": "code",
   "execution_count": 168,
   "id": "b45aa7eb-a2c5-458e-baf4-99f7697464a6",
   "metadata": {},
   "outputs": [],
   "source": [
    "mean_f_fiveVTS_train = torch.tensor(fiveVTS_train_mean).reshape(160,5,1).float()"
   ]
  },
  {
   "cell_type": "code",
   "execution_count": 169,
   "id": "7a0f21d9-b9a0-438f-ae2f-82f4586eb04a",
   "metadata": {},
   "outputs": [],
   "source": [
    "mean_X_fiveVTS = mean_f_fiveVTS_train[:159,:,:]\n",
    "mean_y_fiveVTS = mean_f_fiveVTS_train[1:,:,:]"
   ]
  },
  {
   "cell_type": "code",
   "execution_count": 170,
   "id": "1d685430-2a45-4ecb-9344-187644ad10db",
   "metadata": {},
   "outputs": [
    {
     "name": "stderr",
     "output_type": "stream",
     "text": [
      "100%|██████████| 50/50 [00:26<00:00,  1.88it/s]\n"
     ]
    }
   ],
   "source": [
    "model = RecurrentGCN(node_features=1, filters=4)\n",
    "\n",
    "optimizer = torch.optim.Adam(model.parameters(), lr=0.01)\n",
    "\n",
    "model.train()\n",
    "\n",
    "for epoch in tqdm(range(50)):\n",
    "    for time, (xt,yt) in enumerate(zip(mean_X_fiveVTS,mean_y_fiveVTS)):\n",
    "        y_hat = model(xt, edge_index, edge_attr)\n",
    "        cost = torch.mean((y_hat-yt)**2)\n",
    "        cost.backward()\n",
    "        optimizer.step()\n",
    "        optimizer.zero_grad()"
   ]
  },
  {
   "cell_type": "code",
   "execution_count": 131,
   "id": "b307a396-59a5-4590-9a9b-ab2c5f3994da",
   "metadata": {},
   "outputs": [],
   "source": [
    "mean_fhat_fiveVTS = torch.stack([model(xt, edge_index, edge_attr) for xt in mean_X_fiveVTS]).detach().numpy()"
   ]
  },
  {
   "cell_type": "markdown",
   "id": "0faa1c4a-d4d5-4200-b047-0ca2713a9921",
   "metadata": {},
   "source": [
    "---"
   ]
  },
  {
   "cell_type": "code",
   "execution_count": 179,
   "id": "295b3627-aa57-4b53-aa92-e7af4ec95015",
   "metadata": {},
   "outputs": [],
   "source": [
    "mean_X_fore = mean_f_fiveVTS_train[120:,:,:]"
   ]
  },
  {
   "cell_type": "code",
   "execution_count": 180,
   "id": "bddfe817-3c75-44c0-bff3-e8477293a719",
   "metadata": {},
   "outputs": [],
   "source": [
    "mean_fhat_ = torch.stack([model(xt, edge_index, edge_attr) for xt in mean_X_fore]).detach().numpy()"
   ]
  },
  {
   "cell_type": "markdown",
   "id": "0d6939bf-d709-44ca-9011-ccaa7bc8b1ff",
   "metadata": {},
   "source": [
    "1"
   ]
  },
  {
   "cell_type": "code",
   "execution_count": 181,
   "id": "11104509-3702-4381-9e8c-ef58ef0b1896",
   "metadata": {},
   "outputs": [
    {
     "data": {
      "text/plain": [
       "array([48.78584273, 43.30858827, 43.13109258, 40.98680436, 79.37702602])"
      ]
     },
     "execution_count": 181,
     "metadata": {},
     "output_type": "execute_result"
    }
   ],
   "source": [
    "sum((mean_fhat_.reshape(40,5) -  fiveVTS_test)**2)"
   ]
  },
  {
   "cell_type": "code",
   "execution_count": 192,
   "id": "e31a60a1-6717-4b05-a8f0-532eec662eae",
   "metadata": {},
   "outputs": [
    {
     "data": {
      "text/plain": [
       "<matplotlib.legend.Legend at 0x7fe71859aac0>"
      ]
     },
     "execution_count": 192,
     "metadata": {},
     "output_type": "execute_result"
    },
    {
     "data": {
      "image/png": "[encoded data removed]",
      "text/plain": [
       "<Figure size 432x288 with 1 Axes>"
      ]
     },
     "metadata": {
      "needs_background": "light"
     },
     "output_type": "display_data"
    }
   ],
   "source": [
    "plt.plot(mean_fhat_.reshape(40,5)[:,0],label=\"hat\")\n",
    "plt.plot(fiveVTS_test[:,0],label=\"True\")\n",
    "plt.legend()"
   ]
  },
  {
   "cell_type": "markdown",
   "id": "116eda98-b91a-4569-b0fd-d9a5abbbc4aa",
   "metadata": {},
   "source": [
    "2"
   ]
  },
  {
   "cell_type": "code",
   "execution_count": 165,
   "id": "c9a5bc39-1907-4625-91c9-ee20a062f136",
   "metadata": {},
   "outputs": [
    {
     "data": {
      "text/plain": [
       "array([50.84345214, 43.46101387, 45.27811312, 37.2224609 , 83.27272505])"
      ]
     },
     "execution_count": 165,
     "metadata": {},
     "output_type": "execute_result"
    }
   ],
   "source": [
    "sum((mean_fhat_spatio_temporal.reshape(40,5) -  fiveVTS_test)**2)"
   ]
  },
  {
   "cell_type": "code",
   "execution_count": 193,
   "id": "6874c58e-a189-4387-8bf0-8c04ac47ea94",
   "metadata": {},
   "outputs": [
    {
     "data": {
      "text/plain": [
       "<matplotlib.legend.Legend at 0x7fe718509cd0>"
      ]
     },
     "execution_count": 193,
     "metadata": {},
     "output_type": "execute_result"
    },
    {
     "data": {
      "image/png": "[encoded data removed]",
      "text/plain": [
       "<Figure size 432x288 with 1 Axes>"
      ]
     },
     "metadata": {
      "needs_background": "light"
     },
     "output_type": "display_data"
    }
   ],
   "source": [
    "plt.plot(mean_fhat_spatio_temporal.reshape(40,5)[:,0],label=\"hat\")\n",
    "plt.plot(fiveVTS_test[:,0],label=\"True\")\n",
    "plt.legend()"
   ]
  },
  {
   "cell_type": "markdown",
   "id": "5e73e4a4-6a05-401e-8304-17f90461ab2c",
   "metadata": {},
   "source": [
    "3"
   ]
  },
  {
   "cell_type": "code",
   "execution_count": 166,
   "id": "cbeab4d6-cab2-4eb7-9c79-2644cc8daf27",
   "metadata": {},
   "outputs": [
    {
     "data": {
      "text/plain": [
       "array([51.0058129 , 43.43487353, 45.28961739, 37.21645084, 83.19356611])"
      ]
     },
     "execution_count": 166,
     "metadata": {},
     "output_type": "execute_result"
    }
   ],
   "source": [
    "sum((mean_fhat_spatio_temporal2.reshape(40,5) -  fiveVTS_test)**2)"
   ]
  },
  {
   "cell_type": "code",
   "execution_count": 195,
   "id": "a9a44e99-ccd4-4212-8c88-2e5ee4b9c680",
   "metadata": {},
   "outputs": [
    {
     "data": {
      "text/plain": [
       "<matplotlib.legend.Legend at 0x7fe718489460>"
      ]
     },
     "execution_count": 195,
     "metadata": {},
     "output_type": "execute_result"
    },
    {
     "data": {
      "image/png": "[encoded data removed]",
      "text/plain": [
       "<Figure size 432x288 with 1 Axes>"
      ]
     },
     "metadata": {
      "needs_background": "light"
     },
     "output_type": "display_data"
    }
   ],
   "source": [
    "plt.plot(mean_fhat_spatio_temporal2.reshape(40,5)[:,0],label=\"hat\")\n",
    "plt.plot(fiveVTS_test[:,0],label=\"True\")\n",
    "plt.legend()"
   ]
  },
  {
   "cell_type": "markdown",
   "id": "5364e8f3-53e1-4b1f-ad07-e1a3da611989",
   "metadata": {},
   "source": [
    "## 2) Fourier transform"
   ]
  },
  {
   "cell_type": "code",
   "execution_count": 196,
   "id": "73fbed80-f9d8-4483-8eb0-c0292a544c55",
   "metadata": {},
   "outputs": [],
   "source": [
    "w=np.zeros((159*N,159*N))"
   ]
  },
  {
   "cell_type": "code",
   "execution_count": 197,
   "id": "27c70353-80c2-4954-bcc7-59b375302eff",
   "metadata": {},
   "outputs": [],
   "source": [
    "for i in range(159*N):\n",
    "    for j in range(159*N):\n",
    "        if i==j :\n",
    "            w[i,j] = 0\n",
    "        elif np.abs(i-j) <= 1 : \n",
    "            w[i,j] = 1"
   ]
  },
  {
   "cell_type": "code",
   "execution_count": 198,
   "id": "d1b57326-e1f0-4230-8fd3-abfed087d288",
   "metadata": {},
   "outputs": [],
   "source": [
    "d = np.array(w.sum(axis=1))\n",
    "D = np.diag(d)\n",
    "L = np.array(np.diag(1/np.sqrt(d)) @ (D-w) @ np.diag(1/np.sqrt(d)))\n",
    "lamb, Psi = np.linalg.eigh(L)\n",
    "Lamb = np.diag(lamb)\n",
    "fhatbar = Psi @ mean_fhat_fiveVTS.reshape(159*N,1)\n",
    "power = fhatbar**2 "
   ]
  },
  {
   "cell_type": "markdown",
   "id": "395c4a2d-1ceb-4257-be34-b2ce6d2c144c",
   "metadata": {},
   "source": [
    "## 3) Ebayes"
   ]
  },
  {
   "cell_type": "code",
   "execution_count": 208,
   "id": "a3650a24-b6c1-472f-973f-c9ec7c9563ed",
   "metadata": {},
   "outputs": [
    {
     "data": {
      "text/plain": [
       "[<matplotlib.lines.Line2D at 0x7fe71824ee20>]"
      ]
     },
     "execution_count": 208,
     "metadata": {},
     "output_type": "execute_result"
    },
    {
     "data": {
      "image/png": "[encoded data removed]",
      "text/plain": [
       "<Figure size 432x288 with 1 Axes>"
      ]
     },
     "metadata": {
      "needs_background": "light"
     },
     "output_type": "display_data"
    }
   ],
   "source": [
    "plt.plot(fhatbar.reshape(159,5)[:,0]**2)"
   ]
  },
  {
   "cell_type": "code",
   "execution_count": 215,
   "id": "478b997b-9ac2-42eb-b720-6e54af19d2a2",
   "metadata": {},
   "outputs": [],
   "source": [
    "ebayesthresh = importr('EbayesThresh').ebayesthresh\n",
    "power_threshed=np.array([np.array(ebayesthresh(FloatVector(fhatbar[i]**2))) for i in range(159*N)])\n",
    "fhatbar_threshed = np.where(power_threshed>0,fhatbar,0)"
   ]
  },
  {
   "cell_type": "code",
   "execution_count": 217,
   "id": "6e85a72e-a17a-47f1-ad42-1c7423211e6d",
   "metadata": {},
   "outputs": [
    {
     "data": {
      "text/plain": [
       "[<matplotlib.lines.Line2D at 0x7fe71812a0d0>]"
      ]
     },
     "execution_count": 217,
     "metadata": {},
     "output_type": "execute_result"
    },
    {
     "data": {
      "image/png": "[encoded data removed]",
      "text/plain": [
       "<Figure size 432x288 with 1 Axes>"
      ]
     },
     "metadata": {
      "needs_background": "light"
     },
     "output_type": "display_data"
    }
   ],
   "source": [
    "plt.plot(power_threshed.reshape(159,5)[:,0])"
   ]
  },
  {
   "cell_type": "markdown",
   "id": "d85f0a50-c525-4b7f-9a79-c0d92d86d77c",
   "metadata": {},
   "source": [
    "## 4) Inverse Fourier transform"
   ]
  },
  {
   "cell_type": "code",
   "execution_count": 136,
   "id": "fb28b5bd-e874-40d8-b790-996f816b058d",
   "metadata": {},
   "outputs": [],
   "source": [
    "fhatbarhat = Psi @ fhatbar_threshed\n",
    "fhatbarhat_mean_spatio_temporal = fhatbarhat.reshape(159,N,1)"
   ]
  },
  {
   "cell_type": "markdown",
   "id": "e5c1228b-3d5f-4ec0-a2b4-3dddcda8b59f",
   "metadata": {
    "tags": []
   },
   "source": [
    "## 5) ST-GCN"
   ]
  },
  {
   "cell_type": "code",
   "execution_count": 137,
   "id": "9804023e-3144-476b-a829-e942ca3a9bd5",
   "metadata": {},
   "outputs": [],
   "source": [
    "mean_spatio_temporal = torch.tensor(fhatbarhat_mean_spatio_temporal).reshape(159,5,1).float()"
   ]
  },
  {
   "cell_type": "code",
   "execution_count": 138,
   "id": "080b8be1-ff58-43d7-b1d9-c0a47dbb1bb1",
   "metadata": {},
   "outputs": [],
   "source": [
    "mean_X_spatio_temporal = mean_spatio_temporal[:158,:,:]\n",
    "mean_y_spatio_temporal = mean_spatio_temporal[1:,:,:]"
   ]
  },
  {
   "cell_type": "code",
   "execution_count": 139,
   "id": "ae7da10b-97ce-488f-95fe-209f96ae7208",
   "metadata": {},
   "outputs": [
    {
     "name": "stderr",
     "output_type": "stream",
     "text": [
      "100%|██████████| 50/50 [00:26<00:00,  1.88it/s]\n"
     ]
    }
   ],
   "source": [
    "model = RecurrentGCN(node_features=1, filters=4)\n",
    "\n",
    "optimizer = torch.optim.Adam(model.parameters(), lr=0.01)\n",
    "\n",
    "model.train()\n",
    "\n",
    "for epoch in tqdm(range(50)):\n",
    "    for time, (xt,yt) in enumerate(zip(mean_X_spatio_temporal,mean_y_spatio_temporal)):\n",
    "        y_hat = model(xt, edge_index, edge_attr)\n",
    "        cost = torch.mean((y_hat-yt)**2)\n",
    "        cost.backward()\n",
    "        optimizer.step()\n",
    "        optimizer.zero_grad()"
   ]
  },
  {
   "cell_type": "code",
   "execution_count": 140,
   "id": "59df1694-5801-4c90-a1a8-37866b4267ea",
   "metadata": {},
   "outputs": [],
   "source": [
    "mean_X_spatio_temporal_fore = mean_spatio_temporal[119:,:,:]"
   ]
  },
  {
   "cell_type": "code",
   "execution_count": 158,
   "id": "7e06e8a8-1f1f-4d87-8d04-c5c11b0576bb",
   "metadata": {},
   "outputs": [],
   "source": [
    "mean_fhat_spatio_temporal = torch.stack([model(xt, edge_index, edge_attr) for xt in mean_X_spatio_temporal_fore]).detach().numpy()"
   ]
  },
  {
   "cell_type": "markdown",
   "id": "fd6226ab-628c-4e3f-b5b3-51b82060b7bb",
   "metadata": {},
   "source": [
    "### Box plot"
   ]
  },
  {
   "cell_type": "code",
   "execution_count": 165,
   "id": "741f279f-45f8-469d-980a-ce0980d7409a",
   "metadata": {},
   "outputs": [
    {
     "data": {
      "text/plain": [
       "array([50.84345214, 43.46101387, 45.27811312, 37.2224609 , 83.27272505])"
      ]
     },
     "execution_count": 165,
     "metadata": {},
     "output_type": "execute_result"
    }
   ],
   "source": [
    "sum((mean_fhat_spatio_temporal.reshape(40,5) -  fiveVTS_test)**2)"
   ]
  },
  {
   "cell_type": "code",
   "execution_count": 159,
   "id": "62999ba6-c564-47f0-a019-857ef0015eca",
   "metadata": {},
   "outputs": [
    {
     "data": {
      "text/plain": [
       "{'whiskers': [<matplotlib.lines.Line2D at 0x7fe7189f0d00>,\n",
       "  <matplotlib.lines.Line2D at 0x7fe7189f0eb0>,\n",
       "  <matplotlib.lines.Line2D at 0x7fe718980fd0>,\n",
       "  <matplotlib.lines.Line2D at 0x7fe71898b310>,\n",
       "  <matplotlib.lines.Line2D at 0x7fe718999430>,\n",
       "  <matplotlib.lines.Line2D at 0x7fe718999700>,\n",
       "  <matplotlib.lines.Line2D at 0x7fe7189a7820>,\n",
       "  <matplotlib.lines.Line2D at 0x7fe7189a7af0>,\n",
       "  <matplotlib.lines.Line2D at 0x7fe7189b3c10>,\n",
       "  <matplotlib.lines.Line2D at 0x7fe7189b3ee0>],\n",
       " 'caps': [<matplotlib.lines.Line2D at 0x7fe7189801c0>,\n",
       "  <matplotlib.lines.Line2D at 0x7fe718980490>,\n",
       "  <matplotlib.lines.Line2D at 0x7fe71898b5e0>,\n",
       "  <matplotlib.lines.Line2D at 0x7fe71898b8b0>,\n",
       "  <matplotlib.lines.Line2D at 0x7fe7189999d0>,\n",
       "  <matplotlib.lines.Line2D at 0x7fe718999ca0>,\n",
       "  <matplotlib.lines.Line2D at 0x7fe7189a7dc0>,\n",
       "  <matplotlib.lines.Line2D at 0x7fe7189b30d0>,\n",
       "  <matplotlib.lines.Line2D at 0x7fe7189411f0>,\n",
       "  <matplotlib.lines.Line2D at 0x7fe7189414c0>],\n",
       " 'boxes': [<matplotlib.lines.Line2D at 0x7fe7189f0a30>,\n",
       "  <matplotlib.lines.Line2D at 0x7fe718980d00>,\n",
       "  <matplotlib.lines.Line2D at 0x7fe718999160>,\n",
       "  <matplotlib.lines.Line2D at 0x7fe7189a7550>,\n",
       "  <matplotlib.lines.Line2D at 0x7fe7189b3940>],\n",
       " 'medians': [<matplotlib.lines.Line2D at 0x7fe718980760>,\n",
       "  <matplotlib.lines.Line2D at 0x7fe71898bb80>,\n",
       "  <matplotlib.lines.Line2D at 0x7fe718999f70>,\n",
       "  <matplotlib.lines.Line2D at 0x7fe7189b33a0>,\n",
       "  <matplotlib.lines.Line2D at 0x7fe718941790>],\n",
       " 'fliers': [<matplotlib.lines.Line2D at 0x7fe718980a30>,\n",
       "  <matplotlib.lines.Line2D at 0x7fe71898be50>,\n",
       "  <matplotlib.lines.Line2D at 0x7fe7189a7280>,\n",
       "  <matplotlib.lines.Line2D at 0x7fe7189b3670>,\n",
       "  <matplotlib.lines.Line2D at 0x7fe718941a60>],\n",
       " 'means': []}"
      ]
     },
     "execution_count": 159,
     "metadata": {},
     "output_type": "execute_result"
    },
    {
     "data": {
      "image/png": "[encoded data removed]",
      "text/plain": [
       "<Figure size 1440x576 with 1 Axes>"
      ]
     },
     "metadata": {
      "needs_background": "light"
     },
     "output_type": "display_data"
    }
   ],
   "source": [
    "plt.figure(figsize=(20, 8))\n",
    "plt.boxplot((mean_fhat_spatio_temporal.reshape(40,5) -  fiveVTS_test))"
   ]
  },
  {
   "cell_type": "code",
   "execution_count": 160,
   "id": "0455bd04-033d-42d0-927f-5f59b3c67f1f",
   "metadata": {},
   "outputs": [
    {
     "data": {
      "text/plain": [
       "{'whiskers': [<matplotlib.lines.Line2D at 0x7fe71892c7c0>,\n",
       "  <matplotlib.lines.Line2D at 0x7fe71892ca90>],\n",
       " 'caps': [<matplotlib.lines.Line2D at 0x7fe71892cd60>,\n",
       "  <matplotlib.lines.Line2D at 0x7fe7188ba070>],\n",
       " 'boxes': [<matplotlib.lines.Line2D at 0x7fe71891f490>],\n",
       " 'medians': [<matplotlib.lines.Line2D at 0x7fe7188ba340>],\n",
       " 'fliers': [<matplotlib.lines.Line2D at 0x7fe7188ba640>],\n",
       " 'means': []}"
      ]
     },
     "execution_count": 160,
     "metadata": {},
     "output_type": "execute_result"
    },
    {
     "data": {
      "image/png": "[encoded data removed]",
      "text/plain": [
       "<Figure size 1440x576 with 1 Axes>"
      ]
     },
     "metadata": {
      "needs_background": "light"
     },
     "output_type": "display_data"
    }
   ],
   "source": [
    "plt.figure(figsize=(20, 8))\n",
    "plt.boxplot(((mean_fhat_spatio_temporal.reshape(40,5) -  fiveVTS_test)).reshape(200,1))"
   ]
  },
  {
   "cell_type": "markdown",
   "id": "14dca272-d197-425f-8331-bb4d080546b4",
   "metadata": {},
   "source": [
    "## 6) Fourier transform"
   ]
  },
  {
   "cell_type": "code",
   "execution_count": 144,
   "id": "a26f473e-05ee-4f4b-b5f4-afc1b832b8d8",
   "metadata": {},
   "outputs": [],
   "source": [
    "mean_fhat_spatio_temporal = torch.stack([model(xt, edge_index, edge_attr) for xt in mean_spatio_temporal]).detach().numpy()"
   ]
  },
  {
   "cell_type": "code",
   "execution_count": 145,
   "id": "b2f2ad92-8ea5-4349-b128-5cc366ddb093",
   "metadata": {},
   "outputs": [],
   "source": [
    "w=np.zeros((159*N,159*N))"
   ]
  },
  {
   "cell_type": "code",
   "execution_count": 146,
   "id": "0edb3b62-2b0e-4c61-af97-94d0dfcfb6b4",
   "metadata": {},
   "outputs": [],
   "source": [
    "for i in range(159*N):\n",
    "    for j in range(159*N):\n",
    "        if i==j :\n",
    "            w[i,j] = 0\n",
    "        elif np.abs(i-j) <= 1 : \n",
    "            w[i,j] = 1"
   ]
  },
  {
   "cell_type": "code",
   "execution_count": 147,
   "id": "bd26fd32-006b-45c4-9605-31c8c7672b65",
   "metadata": {},
   "outputs": [],
   "source": [
    "d = np.array(w.sum(axis=1))\n",
    "D = np.diag(d)\n",
    "L = np.array(np.diag(1/np.sqrt(d)) @ (D-w) @ np.diag(1/np.sqrt(d)))\n",
    "lamb, Psi = np.linalg.eigh(L)\n",
    "Lamb = np.diag(lamb)\n",
    "fhatbar = Psi @ mean_fhat_spatio_temporal.reshape(159*N,1)\n",
    "power = fhatbar**2 "
   ]
  },
  {
   "cell_type": "markdown",
   "id": "32a38ce6-2eb2-498c-877e-319e0da9bb4c",
   "metadata": {},
   "source": [
    "## 7) Ebayes"
   ]
  },
  {
   "cell_type": "code",
   "execution_count": 148,
   "id": "9284704e-816e-4c7d-98bd-be3ef353d4d4",
   "metadata": {},
   "outputs": [],
   "source": [
    "ebayesthresh = importr('EbayesThresh').ebayesthresh\n",
    "power_threshed=np.array([np.array(ebayesthresh(FloatVector(fhatbar[i]**2))) for i in range(159*N)])\n",
    "fhatbar_threshed = np.where(power_threshed>0,fhatbar,0)"
   ]
  },
  {
   "cell_type": "markdown",
   "id": "09b742d3-abb6-453b-ba2c-61fbae14a8a5",
   "metadata": {},
   "source": [
    "## 8) Inverse Fourier transform"
   ]
  },
  {
   "cell_type": "code",
   "execution_count": 149,
   "id": "67b33338-de9a-4d3f-b73a-a92b07a410d3",
   "metadata": {},
   "outputs": [],
   "source": [
    "fhatbarhat = Psi @ fhatbar_threshed\n",
    "fhatbarhat_mean_spatio_temporal = fhatbarhat.reshape(159,N,1)"
   ]
  },
  {
   "cell_type": "markdown",
   "id": "6f31b081-8e19-4572-a10e-f3acceeb6a24",
   "metadata": {
    "tags": []
   },
   "source": [
    "## 9) ST-GCN"
   ]
  },
  {
   "cell_type": "code",
   "execution_count": 150,
   "id": "40d2fcc1-7fe5-4e53-bdc0-c85046804cab",
   "metadata": {},
   "outputs": [],
   "source": [
    "mean_spatio_temporal2 = torch.tensor(fhatbarhat_mean_spatio_temporal).reshape(159,5,1).float()"
   ]
  },
  {
   "cell_type": "code",
   "execution_count": 151,
   "id": "ea9ab395-469b-44b2-887e-ff1d90cab5e8",
   "metadata": {},
   "outputs": [],
   "source": [
    "mean_X_spatio_temporal2 = mean_spatio_temporal2[:158,:,:]\n",
    "mean_y_spatio_temporal2 = mean_spatio_temporal2[1:,:,:]"
   ]
  },
  {
   "cell_type": "code",
   "execution_count": 152,
   "id": "cf19baed-0ab5-40a0-b133-61d05b500ce2",
   "metadata": {},
   "outputs": [
    {
     "name": "stderr",
     "output_type": "stream",
     "text": [
      "100%|██████████| 50/50 [00:26<00:00,  1.88it/s]\n"
     ]
    }
   ],
   "source": [
    "model = RecurrentGCN(node_features=1, filters=4)\n",
    "\n",
    "optimizer = torch.optim.Adam(model.parameters(), lr=0.01)\n",
    "\n",
    "model.train()\n",
    "\n",
    "for epoch in tqdm(range(50)):\n",
    "    for time, (xt,yt) in enumerate(zip(mean_X_spatio_temporal2,mean_y_spatio_temporal2)):\n",
    "        y_hat = model(xt, edge_index, edge_attr)\n",
    "        cost = torch.mean((y_hat-yt)**2)\n",
    "        cost.backward()\n",
    "        optimizer.step()\n",
    "        optimizer.zero_grad()"
   ]
  },
  {
   "cell_type": "code",
   "execution_count": 153,
   "id": "75df565a-0a7e-4e67-a870-780cf20fe525",
   "metadata": {},
   "outputs": [],
   "source": [
    "mean_X_spatio_temporal_fore2 = mean_spatio_temporal2[119:,:,:]"
   ]
  },
  {
   "cell_type": "code",
   "execution_count": 154,
   "id": "d6d8468a-5243-41ca-9c38-c2301dd16c34",
   "metadata": {},
   "outputs": [],
   "source": [
    "mean_fhat_spatio_temporal2 = torch.stack([model(xt, edge_index, edge_attr) for xt in mean_X_spatio_temporal_fore2]).detach().numpy()"
   ]
  },
  {
   "cell_type": "markdown",
   "id": "29bc0ac7-3e08-4fe0-b1a7-b3bf476d7bc0",
   "metadata": {},
   "source": [
    "### Box plot"
   ]
  },
  {
   "cell_type": "code",
   "execution_count": 166,
   "id": "99c1c1bb-fe7d-48ee-b32d-fcb28480448c",
   "metadata": {},
   "outputs": [
    {
     "data": {
      "text/plain": [
       "array([51.0058129 , 43.43487353, 45.28961739, 37.21645084, 83.19356611])"
      ]
     },
     "execution_count": 166,
     "metadata": {},
     "output_type": "execute_result"
    }
   ],
   "source": [
    "sum((mean_fhat_spatio_temporal2.reshape(40,5) -  fiveVTS_test)**2)"
   ]
  },
  {
   "cell_type": "code",
   "execution_count": 155,
   "id": "deed185f-b602-4a2d-9882-f7c75f4b52b7",
   "metadata": {},
   "outputs": [
    {
     "data": {
      "text/plain": [
       "{'whiskers': [<matplotlib.lines.Line2D at 0x7fe718ae91f0>,\n",
       "  <matplotlib.lines.Line2D at 0x7fe718ae94c0>,\n",
       "  <matplotlib.lines.Line2D at 0x7fe718af55e0>,\n",
       "  <matplotlib.lines.Line2D at 0x7fe718af58b0>,\n",
       "  <matplotlib.lines.Line2D at 0x7fe718a819d0>,\n",
       "  <matplotlib.lines.Line2D at 0x7fe718a81ca0>,\n",
       "  <matplotlib.lines.Line2D at 0x7fe718a8fdc0>,\n",
       "  <matplotlib.lines.Line2D at 0x7fe718a9d0d0>,\n",
       "  <matplotlib.lines.Line2D at 0x7fe718aa91f0>,\n",
       "  <matplotlib.lines.Line2D at 0x7fe718aa94c0>],\n",
       " 'caps': [<matplotlib.lines.Line2D at 0x7fe718ae9790>,\n",
       "  <matplotlib.lines.Line2D at 0x7fe718ae9a60>,\n",
       "  <matplotlib.lines.Line2D at 0x7fe718af5b80>,\n",
       "  <matplotlib.lines.Line2D at 0x7fe718af5e50>,\n",
       "  <matplotlib.lines.Line2D at 0x7fe718a81f70>,\n",
       "  <matplotlib.lines.Line2D at 0x7fe718a8f280>,\n",
       "  <matplotlib.lines.Line2D at 0x7fe718a9d3a0>,\n",
       "  <matplotlib.lines.Line2D at 0x7fe718a9d670>,\n",
       "  <matplotlib.lines.Line2D at 0x7fe718aa9790>,\n",
       "  <matplotlib.lines.Line2D at 0x7fe718aa9a60>],\n",
       " 'boxes': [<matplotlib.lines.Line2D at 0x7fe718adaee0>,\n",
       "  <matplotlib.lines.Line2D at 0x7fe718af5310>,\n",
       "  <matplotlib.lines.Line2D at 0x7fe718a81700>,\n",
       "  <matplotlib.lines.Line2D at 0x7fe718a8faf0>,\n",
       "  <matplotlib.lines.Line2D at 0x7fe718a9dee0>],\n",
       " 'medians': [<matplotlib.lines.Line2D at 0x7fe718ae9d30>,\n",
       "  <matplotlib.lines.Line2D at 0x7fe718a81160>,\n",
       "  <matplotlib.lines.Line2D at 0x7fe718a8f550>,\n",
       "  <matplotlib.lines.Line2D at 0x7fe718a9d940>,\n",
       "  <matplotlib.lines.Line2D at 0x7fe718aa9d30>],\n",
       " 'fliers': [<matplotlib.lines.Line2D at 0x7fe718af5040>,\n",
       "  <matplotlib.lines.Line2D at 0x7fe718a81430>,\n",
       "  <matplotlib.lines.Line2D at 0x7fe718a8f820>,\n",
       "  <matplotlib.lines.Line2D at 0x7fe718a9dc10>,\n",
       "  <matplotlib.lines.Line2D at 0x7fe718a37040>],\n",
       " 'means': []}"
      ]
     },
     "execution_count": 155,
     "metadata": {},
     "output_type": "execute_result"
    },
    {
     "data": {
      "image/png": "[encoded data removed]",
      "text/plain": [
       "<Figure size 1440x576 with 1 Axes>"
      ]
     },
     "metadata": {
      "needs_background": "light"
     },
     "output_type": "display_data"
    }
   ],
   "source": [
    "plt.figure(figsize=(20, 8))\n",
    "plt.boxplot((mean_fhat_spatio_temporal2.reshape(40,5) -  fiveVTS_test))"
   ]
  },
  {
   "cell_type": "code",
   "execution_count": 156,
   "id": "22200576-ef6b-493a-a326-8c2977cda639",
   "metadata": {},
   "outputs": [
    {
     "data": {
      "text/plain": [
       "{'whiskers': [<matplotlib.lines.Line2D at 0x7fe718a1a850>,\n",
       "  <matplotlib.lines.Line2D at 0x7fe718a1ab20>],\n",
       " 'caps': [<matplotlib.lines.Line2D at 0x7fe718a1adf0>,\n",
       "  <matplotlib.lines.Line2D at 0x7fe718a2a100>],\n",
       " 'boxes': [<matplotlib.lines.Line2D at 0x7fe718a0e400>],\n",
       " 'medians': [<matplotlib.lines.Line2D at 0x7fe718a2a3d0>],\n",
       " 'fliers': [<matplotlib.lines.Line2D at 0x7fe718a2a6a0>],\n",
       " 'means': []}"
      ]
     },
     "execution_count": 156,
     "metadata": {},
     "output_type": "execute_result"
    },
    {
     "data": {
      "image/png": "[encoded data removed]",
      "text/plain": [
       "<Figure size 1440x576 with 1 Axes>"
      ]
     },
     "metadata": {
      "needs_background": "light"
     },
     "output_type": "display_data"
    }
   ],
   "source": [
    "plt.figure(figsize=(20, 8))\n",
    "plt.boxplot(((mean_fhat_spatio_temporal2.reshape(40,5) -  fiveVTS_test)).reshape(200,1))"
   ]
  },
  {
   "cell_type": "markdown",
   "id": "11faa652-0266-4c64-a4e4-afd93d11375f",
   "metadata": {},
   "source": [
    "# 2. Linear Interpolation"
   ]
  },
  {
   "cell_type": "code",
   "execution_count": 71,
   "id": "27e3ed3f-314b-4320-9cf3-f21ac06f3da4",
   "metadata": {},
   "outputs": [],
   "source": [
    "_df = pd.DataFrame(fiveVTS_train)\n",
    "_df.interpolate(method='linear', inplace=True)\n",
    "_df = _df.fillna(0)"
   ]
  },
  {
   "cell_type": "code",
   "execution_count": 72,
   "id": "e2efbcfb-610a-4f5d-9338-5b4ff29a651d",
   "metadata": {},
   "outputs": [],
   "source": [
    "linear_fiveVTS_train = np.array(_df).reshape(160,5)"
   ]
  },
  {
   "cell_type": "markdown",
   "id": "c21efcb0-b804-4c18-a553-184899e8d2ab",
   "metadata": {},
   "source": [
    "## 1) ST-GCN"
   ]
  },
  {
   "cell_type": "code",
   "execution_count": 73,
   "id": "73832082-af41-44a4-b092-4d7fe6fb2f9f",
   "metadata": {},
   "outputs": [],
   "source": [
    "linear_f_fiveVTS_train = torch.tensor(linear_fiveVTS_train).reshape(160,5,1).float()"
   ]
  },
  {
   "cell_type": "code",
   "execution_count": 74,
   "id": "d95c8e9d-29e9-4ad4-9cc5-1d0a619e14c0",
   "metadata": {},
   "outputs": [],
   "source": [
    "linear_X_fiveVTS = linear_f_fiveVTS_train[:159,:,:]\n",
    "linear_y_fiveVTS = linear_f_fiveVTS_train[1:,:,:]"
   ]
  },
  {
   "cell_type": "code",
   "execution_count": 75,
   "id": "c0c4624b-d350-4aef-8bb7-03f194a362f9",
   "metadata": {},
   "outputs": [
    {
     "name": "stderr",
     "output_type": "stream",
     "text": [
      "100%|██████████| 50/50 [00:26<00:00,  1.87it/s]\n"
     ]
    }
   ],
   "source": [
    "model = RecurrentGCN(node_features=1, filters=4)\n",
    "\n",
    "optimizer = torch.optim.Adam(model.parameters(), lr=0.01)\n",
    "\n",
    "model.train()\n",
    "\n",
    "for epoch in tqdm(range(50)):\n",
    "    for time, (xt,yt) in enumerate(zip(linear_X_fiveVTS,linear_y_fiveVTS)):\n",
    "        y_hat = model(xt, edge_index, edge_attr)\n",
    "        cost = torch.mean((y_hat-yt)**2)\n",
    "        cost.backward()\n",
    "        optimizer.step()\n",
    "        optimizer.zero_grad()"
   ]
  },
  {
   "cell_type": "code",
   "execution_count": 80,
   "id": "aa222c19-9f07-4ce7-8f5c-78370a5d38de",
   "metadata": {},
   "outputs": [],
   "source": [
    "linear_fhat_fiveVTS = torch.stack([model(xt, edge_index, edge_attr) for xt in linear_X_fiveVTS]).detach().numpy()"
   ]
  },
  {
   "cell_type": "markdown",
   "id": "438d9453-ac9a-4249-86c1-36d91895eb48",
   "metadata": {},
   "source": [
    "## 2) Fourier transform"
   ]
  },
  {
   "cell_type": "code",
   "execution_count": 76,
   "id": "8e25c129-ec4f-4537-aa81-7f0f78b2bf88",
   "metadata": {},
   "outputs": [],
   "source": [
    "w=np.zeros((159*N,159*N))"
   ]
  },
  {
   "cell_type": "code",
   "execution_count": 77,
   "id": "16af4f5f-cd16-4e52-88bb-7faf4c745ba5",
   "metadata": {},
   "outputs": [],
   "source": [
    "for i in range(159*N):\n",
    "    for j in range(159*N):\n",
    "        if i==j :\n",
    "            w[i,j] = 0\n",
    "        elif np.abs(i-j) <= 1 : \n",
    "            w[i,j] = 1"
   ]
  },
  {
   "cell_type": "code",
   "execution_count": 81,
   "id": "5c067281-add9-4769-b0f3-6996c644759f",
   "metadata": {},
   "outputs": [],
   "source": [
    "d = np.array(w.sum(axis=1))\n",
    "D = np.diag(d)\n",
    "L = np.array(np.diag(1/np.sqrt(d)) @ (D-w) @ np.diag(1/np.sqrt(d)))\n",
    "lamb, Psi = np.linalg.eigh(L)\n",
    "Lamb = np.diag(lamb)\n",
    "fhatbar = Psi @ linear_fhat_fiveVTS.reshape(159*N,1)\n",
    "power = fhatbar**2 "
   ]
  },
  {
   "cell_type": "markdown",
   "id": "ff059d19-959d-4cee-9152-4f0f432f9d15",
   "metadata": {},
   "source": [
    "## 3) Ebayes"
   ]
  },
  {
   "cell_type": "code",
   "execution_count": 82,
   "id": "52a5d1d0-69c6-48fb-8133-2912b0fd3f6a",
   "metadata": {},
   "outputs": [],
   "source": [
    "ebayesthresh = importr('EbayesThresh').ebayesthresh\n",
    "power_threshed=np.array([np.array(ebayesthresh(FloatVector(fhatbar[i]**2))) for i in range(159*N)])\n",
    "fhatbar_threshed = np.where(power_threshed>0,fhatbar,0)"
   ]
  },
  {
   "cell_type": "markdown",
   "id": "de267122-c539-4f26-aaf6-8d263bbca009",
   "metadata": {},
   "source": [
    "## 4) Inverse Fourier transform"
   ]
  },
  {
   "cell_type": "code",
   "execution_count": 83,
   "id": "93219a6f-af82-4735-b8f5-12eca899d284",
   "metadata": {},
   "outputs": [],
   "source": [
    "fhatbarhat = Psi @ fhatbar_threshed\n",
    "fhatbarhat_linear_spatio_temporal = fhatbarhat.reshape(159,N,1)"
   ]
  },
  {
   "cell_type": "markdown",
   "id": "283e522c-a496-4487-9157-85b0f1283d84",
   "metadata": {},
   "source": [
    "## 5) ST-GCN"
   ]
  },
  {
   "cell_type": "code",
   "execution_count": 84,
   "id": "d528470f-a44e-4587-9d4d-b0562d5c7e55",
   "metadata": {},
   "outputs": [],
   "source": [
    "linear_spatio_temporal = torch.tensor(fhatbarhat_linear_spatio_temporal).reshape(159,5,1).float()"
   ]
  },
  {
   "cell_type": "code",
   "execution_count": 85,
   "id": "9c7219be-cb2c-49fa-8abd-9b2bbd60900b",
   "metadata": {},
   "outputs": [],
   "source": [
    "linear_X_spatio_temporal = linear_spatio_temporal[:158,:,:]\n",
    "linear_y_spatio_temporal = linear_spatio_temporal[1:,:,:]"
   ]
  },
  {
   "cell_type": "code",
   "execution_count": 86,
   "id": "389b4f88-4036-472d-b2ca-09c3c9b3bf42",
   "metadata": {},
   "outputs": [
    {
     "name": "stderr",
     "output_type": "stream",
     "text": [
      "100%|██████████| 50/50 [00:26<00:00,  1.89it/s]\n"
     ]
    }
   ],
   "source": [
    "model = RecurrentGCN(node_features=1, filters=4)\n",
    "\n",
    "optimizer = torch.optim.Adam(model.parameters(), lr=0.01)\n",
    "\n",
    "model.train()\n",
    "\n",
    "for epoch in tqdm(range(50)):\n",
    "    for time, (xt,yt) in enumerate(zip(linear_X_spatio_temporal,linear_y_spatio_temporal)):\n",
    "        y_hat = model(xt, edge_index, edge_attr)\n",
    "        cost = torch.mean((y_hat-yt)**2)\n",
    "        cost.backward()\n",
    "        optimizer.step()\n",
    "        optimizer.zero_grad()"
   ]
  },
  {
   "cell_type": "markdown",
   "id": "91d99bbb-ca93-45c0-9942-b29721045863",
   "metadata": {},
   "source": [
    "---"
   ]
  },
  {
   "cell_type": "code",
   "execution_count": 87,
   "id": "1bfc7c92-3dca-452a-8112-9b28372493ec",
   "metadata": {},
   "outputs": [],
   "source": [
    "linear_X_spatio_temporal_fore = linear_spatio_temporal[119:,:,:]"
   ]
  },
  {
   "cell_type": "code",
   "execution_count": 88,
   "id": "72f6192d-4161-45f4-b8a0-f796e0d1a8fc",
   "metadata": {},
   "outputs": [],
   "source": [
    "linear_fhat_spatio_temporal = torch.stack([model(xt, edge_index, edge_attr) for xt in linear_X_spatio_temporal_fore]).detach().numpy()"
   ]
  },
  {
   "cell_type": "markdown",
   "id": "8be30290-1641-4bc2-899b-610e5cb38a90",
   "metadata": {},
   "source": [
    "### Box plot"
   ]
  },
  {
   "cell_type": "code",
   "execution_count": 89,
   "id": "30185cff-24a7-4088-868c-7601a13d4235",
   "metadata": {},
   "outputs": [
    {
     "data": {
      "text/plain": [
       "{'whiskers': [<matplotlib.lines.Line2D at 0x7fe7204fae20>,\n",
       "  <matplotlib.lines.Line2D at 0x7fe7204fcc70>,\n",
       "  <matplotlib.lines.Line2D at 0x7fe7204454c0>,\n",
       "  <matplotlib.lines.Line2D at 0x7fe720445790>,\n",
       "  <matplotlib.lines.Line2D at 0x7fe7204538b0>,\n",
       "  <matplotlib.lines.Line2D at 0x7fe720453b80>,\n",
       "  <matplotlib.lines.Line2D at 0x7fe7204ee460>,\n",
       "  <matplotlib.lines.Line2D at 0x7fe7204626d0>,\n",
       "  <matplotlib.lines.Line2D at 0x7fe7204747f0>,\n",
       "  <matplotlib.lines.Line2D at 0x7fe720474ac0>],\n",
       " 'caps': [<matplotlib.lines.Line2D at 0x7fe7204fc970>,\n",
       "  <matplotlib.lines.Line2D at 0x7fe7204fc520>,\n",
       "  <matplotlib.lines.Line2D at 0x7fe720445a60>,\n",
       "  <matplotlib.lines.Line2D at 0x7fe720445d30>,\n",
       "  <matplotlib.lines.Line2D at 0x7fe720453e50>,\n",
       "  <matplotlib.lines.Line2D at 0x7fe720462160>,\n",
       "  <matplotlib.lines.Line2D at 0x7fe7204629a0>,\n",
       "  <matplotlib.lines.Line2D at 0x7fe720462c70>,\n",
       "  <matplotlib.lines.Line2D at 0x7fe720474d90>,\n",
       "  <matplotlib.lines.Line2D at 0x7fe7204800a0>],\n",
       " 'boxes': [<matplotlib.lines.Line2D at 0x7fe7204fa070>,\n",
       "  <matplotlib.lines.Line2D at 0x7fe7204451f0>,\n",
       "  <matplotlib.lines.Line2D at 0x7fe7204535e0>,\n",
       "  <matplotlib.lines.Line2D at 0x7fe7204faa30>,\n",
       "  <matplotlib.lines.Line2D at 0x7fe720474520>],\n",
       " 'medians': [<matplotlib.lines.Line2D at 0x7fe7204fc220>,\n",
       "  <matplotlib.lines.Line2D at 0x7fe720453040>,\n",
       "  <matplotlib.lines.Line2D at 0x7fe720462430>,\n",
       "  <matplotlib.lines.Line2D at 0x7fe720462f40>,\n",
       "  <matplotlib.lines.Line2D at 0x7fe720480370>],\n",
       " 'fliers': [<matplotlib.lines.Line2D at 0x7fe7204fcfd0>,\n",
       "  <matplotlib.lines.Line2D at 0x7fe720453310>,\n",
       "  <matplotlib.lines.Line2D at 0x7fe7204fcbb0>,\n",
       "  <matplotlib.lines.Line2D at 0x7fe720474250>,\n",
       "  <matplotlib.lines.Line2D at 0x7fe720480640>],\n",
       " 'means': []}"
      ]
     },
     "execution_count": 89,
     "metadata": {},
     "output_type": "execute_result"
    },
    {
     "data": {
      "image/png": "[encoded data removed]",
      "text/plain": [
       "<Figure size 1440x576 with 1 Axes>"
      ]
     },
     "metadata": {
      "needs_background": "light"
     },
     "output_type": "display_data"
    }
   ],
   "source": [
    "plt.figure(figsize=(20, 8))\n",
    "plt.boxplot((linear_fhat_spatio_temporal.reshape(40,5) -  fiveVTS_test))"
   ]
  },
  {
   "cell_type": "code",
   "execution_count": 90,
   "id": "91932437-5718-4271-9ffb-6ba8b6f636e1",
   "metadata": {},
   "outputs": [
    {
     "data": {
      "text/plain": [
       "{'whiskers': [<matplotlib.lines.Line2D at 0x7fe7203f2070>,\n",
       "  <matplotlib.lines.Line2D at 0x7fe7203f2370>],\n",
       " 'caps': [<matplotlib.lines.Line2D at 0x7fe7203f2640>,\n",
       "  <matplotlib.lines.Line2D at 0x7fe7203f2910>],\n",
       " 'boxes': [<matplotlib.lines.Line2D at 0x7fe7203e4d60>],\n",
       " 'medians': [<matplotlib.lines.Line2D at 0x7fe7203f2be0>],\n",
       " 'fliers': [<matplotlib.lines.Line2D at 0x7fe7203f2eb0>],\n",
       " 'means': []}"
      ]
     },
     "execution_count": 90,
     "metadata": {},
     "output_type": "execute_result"
    },
    {
     "data": {
      "image/png": "[encoded data removed]",
      "text/plain": [
       "<Figure size 1440x576 with 1 Axes>"
      ]
     },
     "metadata": {
      "needs_background": "light"
     },
     "output_type": "display_data"
    }
   ],
   "source": [
    "plt.figure(figsize=(20, 8))\n",
    "plt.boxplot(((linear_fhat_spatio_temporal.reshape(40,5) -  fiveVTS_test)).reshape(200,1))"
   ]
  },
  {
   "cell_type": "markdown",
   "id": "f46201ba-1c97-4606-a48e-9f618af365e6",
   "metadata": {},
   "source": [
    "## 6) Fourier transform"
   ]
  },
  {
   "cell_type": "code",
   "execution_count": 91,
   "id": "de9d078f-b25a-43c3-9661-914141adebf7",
   "metadata": {},
   "outputs": [],
   "source": [
    "linear_fhat_spatio_temporal = torch.stack([model(xt, edge_index, edge_attr) for xt in linear_spatio_temporal]).detach().numpy()"
   ]
  },
  {
   "cell_type": "code",
   "execution_count": 92,
   "id": "1996a917-c2d2-4592-b75c-1d6b91e95460",
   "metadata": {},
   "outputs": [],
   "source": [
    "w=np.zeros((159*N,159*N))"
   ]
  },
  {
   "cell_type": "code",
   "execution_count": 93,
   "id": "0a5cec57-ef6e-4e12-baef-21162f619848",
   "metadata": {},
   "outputs": [],
   "source": [
    "for i in range(159*N):\n",
    "    for j in range(159*N):\n",
    "        if i==j :\n",
    "            w[i,j] = 0\n",
    "        elif np.abs(i-j) <= 1 : \n",
    "            w[i,j] = 1"
   ]
  },
  {
   "cell_type": "code",
   "execution_count": 94,
   "id": "8ceeb5a9-42b6-4ada-add0-916317fb1e78",
   "metadata": {},
   "outputs": [],
   "source": [
    "d = np.array(w.sum(axis=1))\n",
    "D = np.diag(d)\n",
    "L = np.array(np.diag(1/np.sqrt(d)) @ (D-w) @ np.diag(1/np.sqrt(d)))\n",
    "lamb, Psi = np.linalg.eigh(L)\n",
    "Lamb = np.diag(lamb)\n",
    "fhatbar = Psi @ linear_fhat_fiveVTS.reshape(159*N,1)\n",
    "power = fhatbar**2 "
   ]
  },
  {
   "cell_type": "markdown",
   "id": "f4f3e829-ca82-434a-bc3f-862a5c700549",
   "metadata": {},
   "source": [
    "## 7) Ebayes"
   ]
  },
  {
   "cell_type": "code",
   "execution_count": 95,
   "id": "3b73b7f3-5912-4b4b-a090-0fd980e6681d",
   "metadata": {},
   "outputs": [],
   "source": [
    "ebayesthresh = importr('EbayesThresh').ebayesthresh\n",
    "power_threshed=np.array([np.array(ebayesthresh(FloatVector(fhatbar[i]**2))) for i in range(159*N)])\n",
    "fhatbar_threshed = np.where(power_threshed>0,fhatbar,0)"
   ]
  },
  {
   "cell_type": "markdown",
   "id": "ac0d122e-4e9e-4e7d-a8ea-510b963517d0",
   "metadata": {},
   "source": [
    "## 8) Inverse Fourier transform"
   ]
  },
  {
   "cell_type": "code",
   "execution_count": 96,
   "id": "fdd57697-8dc3-4ebc-9ec2-971f80e987fc",
   "metadata": {},
   "outputs": [],
   "source": [
    "fhatbarhat = Psi @ fhatbar_threshed\n",
    "fhatbarhat_linear_spatio_temporal = fhatbarhat.reshape(159,N,1)"
   ]
  },
  {
   "cell_type": "markdown",
   "id": "3db39cf1-ed0a-4002-877c-30f887672b7a",
   "metadata": {},
   "source": [
    "## 9) ST-GCN"
   ]
  },
  {
   "cell_type": "code",
   "execution_count": 97,
   "id": "49dd70bd-9dd1-4775-a4ea-aedd130ab4af",
   "metadata": {},
   "outputs": [],
   "source": [
    "linear_spatio_temporal2 = torch.tensor(fhatbarhat_linear_spatio_temporal).reshape(159,5,1).float()"
   ]
  },
  {
   "cell_type": "code",
   "execution_count": 98,
   "id": "a0b5a55c-2da8-4fb1-95c3-462024626d12",
   "metadata": {},
   "outputs": [],
   "source": [
    "linear_X_spatio_temporal2 = linear_spatio_temporal2[:158,:,:]\n",
    "linear_y_spatio_temporal2 = linear_spatio_temporal2[1:,:,:]"
   ]
  },
  {
   "cell_type": "code",
   "execution_count": 99,
   "id": "04f73bc4-9dfe-4870-8c7f-499a717261a7",
   "metadata": {},
   "outputs": [
    {
     "name": "stderr",
     "output_type": "stream",
     "text": [
      "100%|██████████| 50/50 [00:26<00:00,  1.87it/s]\n"
     ]
    }
   ],
   "source": [
    "model = RecurrentGCN(node_features=1, filters=4)\n",
    "\n",
    "optimizer = torch.optim.Adam(model.parameters(), lr=0.01)\n",
    "\n",
    "model.train()\n",
    "\n",
    "for epoch in tqdm(range(50)):\n",
    "    for time, (xt,yt) in enumerate(zip(linear_X_spatio_temporal2,linear_y_spatio_temporal2)):\n",
    "        y_hat = model(xt, edge_index, edge_attr)\n",
    "        cost = torch.mean((y_hat-yt)**2)\n",
    "        cost.backward()\n",
    "        optimizer.step()\n",
    "        optimizer.zero_grad()"
   ]
  },
  {
   "cell_type": "code",
   "execution_count": 100,
   "id": "a17dbf97-df1b-49d5-9a44-8dd274a8cd08",
   "metadata": {},
   "outputs": [],
   "source": [
    "linear_X_spatio_temporal_fore2 = linear_spatio_temporal2[119:,:,:]"
   ]
  },
  {
   "cell_type": "code",
   "execution_count": 103,
   "id": "0f7a2508-bdf2-4a0c-a141-4e3cead35950",
   "metadata": {},
   "outputs": [],
   "source": [
    "linear_fhat_spatio_temporal2 = torch.stack([model(xt, edge_index, edge_attr) for xt in linear_X_spatio_temporal_fore2]).detach().numpy()"
   ]
  },
  {
   "cell_type": "markdown",
   "id": "fc74c482-5cf9-4665-84ec-aee8c3741086",
   "metadata": {},
   "source": [
    "### Box plot"
   ]
  },
  {
   "cell_type": "code",
   "execution_count": 104,
   "id": "7880e9cd-2fde-4039-9396-cb2ae2a852a0",
   "metadata": {},
   "outputs": [
    {
     "data": {
      "text/plain": [
       "{'whiskers': [<matplotlib.lines.Line2D at 0x7fe720379a60>,\n",
       "  <matplotlib.lines.Line2D at 0x7fe72036b490>,\n",
       "  <matplotlib.lines.Line2D at 0x7fe7202a6d30>,\n",
       "  <matplotlib.lines.Line2D at 0x7fe7202b1040>,\n",
       "  <matplotlib.lines.Line2D at 0x7fe7202be1c0>,\n",
       "  <matplotlib.lines.Line2D at 0x7fe7202be490>,\n",
       "  <matplotlib.lines.Line2D at 0x7fe7202cc5b0>,\n",
       "  <matplotlib.lines.Line2D at 0x7fe7202cc880>,\n",
       "  <matplotlib.lines.Line2D at 0x7fe7202d89a0>,\n",
       "  <matplotlib.lines.Line2D at 0x7fe7202d8c70>],\n",
       " 'caps': [<matplotlib.lines.Line2D at 0x7fe720379ee0>,\n",
       "  <matplotlib.lines.Line2D at 0x7fe7202a61f0>,\n",
       "  <matplotlib.lines.Line2D at 0x7fe7202b1340>,\n",
       "  <matplotlib.lines.Line2D at 0x7fe7202b1610>,\n",
       "  <matplotlib.lines.Line2D at 0x7fe7202be760>,\n",
       "  <matplotlib.lines.Line2D at 0x7fe7202bea30>,\n",
       "  <matplotlib.lines.Line2D at 0x7fe7202ccb50>,\n",
       "  <matplotlib.lines.Line2D at 0x7fe7202cce20>,\n",
       "  <matplotlib.lines.Line2D at 0x7fe7202d8f40>,\n",
       "  <matplotlib.lines.Line2D at 0x7fe720266250>],\n",
       " 'boxes': [<matplotlib.lines.Line2D at 0x7fe720379790>,\n",
       "  <matplotlib.lines.Line2D at 0x7fe7202a6a60>,\n",
       "  <matplotlib.lines.Line2D at 0x7fe7202b1eb0>,\n",
       "  <matplotlib.lines.Line2D at 0x7fe7202cc2e0>,\n",
       "  <matplotlib.lines.Line2D at 0x7fe7202d86d0>],\n",
       " 'medians': [<matplotlib.lines.Line2D at 0x7fe7202a64c0>,\n",
       "  <matplotlib.lines.Line2D at 0x7fe7202b1910>,\n",
       "  <matplotlib.lines.Line2D at 0x7fe7202bed00>,\n",
       "  <matplotlib.lines.Line2D at 0x7fe7202d8130>,\n",
       "  <matplotlib.lines.Line2D at 0x7fe720266520>],\n",
       " 'fliers': [<matplotlib.lines.Line2D at 0x7fe7202a6790>,\n",
       "  <matplotlib.lines.Line2D at 0x7fe7202b1be0>,\n",
       "  <matplotlib.lines.Line2D at 0x7fe7202befd0>,\n",
       "  <matplotlib.lines.Line2D at 0x7fe7202d8400>,\n",
       "  <matplotlib.lines.Line2D at 0x7fe7202667f0>],\n",
       " 'means': []}"
      ]
     },
     "execution_count": 104,
     "metadata": {},
     "output_type": "execute_result"
    },
    {
     "data": {
      "image/png": "[encoded data removed]",
      "text/plain": [
       "<Figure size 1440x576 with 1 Axes>"
      ]
     },
     "metadata": {
      "needs_background": "light"
     },
     "output_type": "display_data"
    }
   ],
   "source": [
    "plt.figure(figsize=(20, 8))\n",
    "plt.boxplot((linear_fhat_spatio_temporal2.reshape(40,5) -  fiveVTS_test))"
   ]
  },
  {
   "cell_type": "code",
   "execution_count": 105,
   "id": "8f0a28b6-c16c-4a06-922d-7bfae3a4ca21",
   "metadata": {},
   "outputs": [
    {
     "data": {
      "text/plain": [
       "{'whiskers': [<matplotlib.lines.Line2D at 0x7fe720254550>,\n",
       "  <matplotlib.lines.Line2D at 0x7fe720254820>],\n",
       " 'caps': [<matplotlib.lines.Line2D at 0x7fe720254af0>,\n",
       "  <matplotlib.lines.Line2D at 0x7fe720254df0>],\n",
       " 'boxes': [<matplotlib.lines.Line2D at 0x7fe7202543a0>],\n",
       " 'medians': [<matplotlib.lines.Line2D at 0x7fe7201e0100>],\n",
       " 'fliers': [<matplotlib.lines.Line2D at 0x7fe7201e03d0>],\n",
       " 'means': []}"
      ]
     },
     "execution_count": 105,
     "metadata": {},
     "output_type": "execute_result"
    },
    {
     "data": {
      "image/png": "[encoded data removed]",
      "text/plain": [
       "<Figure size 1440x576 with 1 Axes>"
      ]
     },
     "metadata": {
      "needs_background": "light"
     },
     "output_type": "display_data"
    }
   ],
   "source": [
    "plt.figure(figsize=(20, 8))\n",
    "plt.boxplot(((linear_fhat_spatio_temporal2.reshape(40,5) -  fiveVTS_test)).reshape(200,1))"
   ]
  },
  {
   "cell_type": "markdown",
   "id": "fbea8944-5a16-4813-93db-e350af5259d9",
   "metadata": {},
   "source": [
    "# 3. GNAR"
   ]
  },
  {
   "cell_type": "markdown",
   "id": "4b88e20e-ff5a-4b2e-9d2f-11f565207915",
   "metadata": {},
   "source": [
    "**mean**"
   ]
  },
  {
   "cell_type": "code",
   "execution_count": 106,
   "id": "6a09b933-645f-43bf-a805-61812ab270a1",
   "metadata": {},
   "outputs": [],
   "source": [
    "%R -i fiveVTS_train_mean"
   ]
  },
  {
   "cell_type": "code",
   "execution_count": 107,
   "id": "d785c94a-c96c-4d2a-ba1f-629158d32a7d",
   "metadata": {},
   "outputs": [],
   "source": [
    "%%R\n",
    "meanprediction <- predict(GNARfit(vts = fiveVTS_train_mean[1:160,], net = fiveNet, alphaOrder = 2, betaOrder = c(1, 1)),n.ahead=40)"
   ]
  },
  {
   "cell_type": "code",
   "execution_count": 108,
   "id": "3ebf4f8b-ef30-47dd-bc4e-ebdd4284b4a8",
   "metadata": {},
   "outputs": [],
   "source": [
    "%R -o meanprediction"
   ]
  },
  {
   "cell_type": "code",
   "execution_count": 112,
   "id": "d0e7e7d8-705a-4069-8322-e4644e5ad2ef",
   "metadata": {},
   "outputs": [
    {
     "data": {
      "text/plain": [
       "3.8828590908470577"
      ]
     },
     "execution_count": 112,
     "metadata": {},
     "output_type": "execute_result"
    }
   ],
   "source": [
    "sum((meanprediction.reshape(40,5)[1] -  fiveVTS_test[1])**2)"
   ]
  },
  {
   "cell_type": "code",
   "execution_count": 110,
   "id": "878f490f-f4fd-4fd0-8ad4-ad89fb4b9ba3",
   "metadata": {},
   "outputs": [
    {
     "data": {
      "text/plain": [
       "{'whiskers': [<matplotlib.lines.Line2D at 0x7fe7201b9670>,\n",
       "  <matplotlib.lines.Line2D at 0x7fe7201b9940>,\n",
       "  <matplotlib.lines.Line2D at 0x7fe7201c8a60>,\n",
       "  <matplotlib.lines.Line2D at 0x7fe7201c8d30>,\n",
       "  <matplotlib.lines.Line2D at 0x7fe7201d6e50>,\n",
       "  <matplotlib.lines.Line2D at 0x7fe720163160>,\n",
       "  <matplotlib.lines.Line2D at 0x7fe72016a280>,\n",
       "  <matplotlib.lines.Line2D at 0x7fe72016a550>,\n",
       "  <matplotlib.lines.Line2D at 0x7fe72017c670>,\n",
       "  <matplotlib.lines.Line2D at 0x7fe72017c940>],\n",
       " 'caps': [<matplotlib.lines.Line2D at 0x7fe7201b9c10>,\n",
       "  <matplotlib.lines.Line2D at 0x7fe7201b9ee0>,\n",
       "  <matplotlib.lines.Line2D at 0x7fe7201d6040>,\n",
       "  <matplotlib.lines.Line2D at 0x7fe7201d6310>,\n",
       "  <matplotlib.lines.Line2D at 0x7fe720163430>,\n",
       "  <matplotlib.lines.Line2D at 0x7fe720163700>,\n",
       "  <matplotlib.lines.Line2D at 0x7fe72016a820>,\n",
       "  <matplotlib.lines.Line2D at 0x7fe72016aaf0>,\n",
       "  <matplotlib.lines.Line2D at 0x7fe72017cc10>,\n",
       "  <matplotlib.lines.Line2D at 0x7fe72017cee0>],\n",
       " 'boxes': [<matplotlib.lines.Line2D at 0x7fe7201b93a0>,\n",
       "  <matplotlib.lines.Line2D at 0x7fe7201c8790>,\n",
       "  <matplotlib.lines.Line2D at 0x7fe7201d6b80>,\n",
       "  <matplotlib.lines.Line2D at 0x7fe720163f70>,\n",
       "  <matplotlib.lines.Line2D at 0x7fe72017c3a0>],\n",
       " 'medians': [<matplotlib.lines.Line2D at 0x7fe7201c81f0>,\n",
       "  <matplotlib.lines.Line2D at 0x7fe7201d65e0>,\n",
       "  <matplotlib.lines.Line2D at 0x7fe7201639d0>,\n",
       "  <matplotlib.lines.Line2D at 0x7fe72016adc0>,\n",
       "  <matplotlib.lines.Line2D at 0x7fe72018a1f0>],\n",
       " 'fliers': [<matplotlib.lines.Line2D at 0x7fe7201c84c0>,\n",
       "  <matplotlib.lines.Line2D at 0x7fe7201d68b0>,\n",
       "  <matplotlib.lines.Line2D at 0x7fe720163ca0>,\n",
       "  <matplotlib.lines.Line2D at 0x7fe72017c0d0>,\n",
       "  <matplotlib.lines.Line2D at 0x7fe72018a4c0>],\n",
       " 'means': []}"
      ]
     },
     "execution_count": 110,
     "metadata": {},
     "output_type": "execute_result"
    },
    {
     "data": {
      "image/png": "[encoded data removed]",
      "text/plain": [
       "<Figure size 1440x576 with 1 Axes>"
      ]
     },
     "metadata": {
      "needs_background": "light"
     },
     "output_type": "display_data"
    }
   ],
   "source": [
    "plt.figure(figsize=(20, 8))\n",
    "plt.boxplot((meanprediction.reshape(40,5) -  fiveVTS_test))"
   ]
  },
  {
   "cell_type": "code",
   "execution_count": 111,
   "id": "3a65a749-f9d1-4e06-80fe-2edc74706aee",
   "metadata": {},
   "outputs": [
    {
     "data": {
      "text/plain": [
       "{'whiskers': [<matplotlib.lines.Line2D at 0x7fe7200eebb0>,\n",
       "  <matplotlib.lines.Line2D at 0x7fe7200eee80>],\n",
       " 'caps': [<matplotlib.lines.Line2D at 0x7fe7200fc190>,\n",
       "  <matplotlib.lines.Line2D at 0x7fe7200fc460>],\n",
       " 'boxes': [<matplotlib.lines.Line2D at 0x7fe72015d700>],\n",
       " 'medians': [<matplotlib.lines.Line2D at 0x7fe7200fc730>],\n",
       " 'fliers': [<matplotlib.lines.Line2D at 0x7fe7200fca00>],\n",
       " 'means': []}"
      ]
     },
     "execution_count": 111,
     "metadata": {},
     "output_type": "execute_result"
    },
    {
     "data": {
      "image/png": "[encoded data removed]",
      "text/plain": [
       "<Figure size 1440x576 with 1 Axes>"
      ]
     },
     "metadata": {
      "needs_background": "light"
     },
     "output_type": "display_data"
    }
   ],
   "source": [
    "plt.figure(figsize=(20, 8))\n",
    "plt.boxplot(((meanprediction.reshape(40,5) -  fiveVTS_test)).reshape(200,1))"
   ]
  },
  {
   "cell_type": "code",
   "execution_count": null,
   "id": "6659807e-f529-429f-b7a4-afbcc637d7ed",
   "metadata": {},
   "outputs": [],
   "source": []
  }
 ],
 "metadata": {
  "kernelspec": {
   "display_name": "Python 3 (ipykernel)",
   "language": "python",
   "name": "python3"
  },
  "language_info": {
   "codemirror_mode": {
    "name": "ipython",
    "version": 3
   },
   "file_extension": ".py",
   "mimetype": "text/x-python",
   "name": "python",
   "nbconvert_exporter": "python",
   "pygments_lexer": "ipython3",
   "version": "3.8.12"
  }
 },
 "nbformat": 4,
 "nbformat_minor": 5
}

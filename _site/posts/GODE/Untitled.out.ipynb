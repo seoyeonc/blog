{
  "cells": [
    {
      "cell_type": "markdown",
      "metadata": {},
      "source": [
        "#"
      ],
      "id": "8a37af6b-c06e-49d1-b8ac-413995f0e336"
    },
    {
      "cell_type": "code",
      "execution_count": 72,
      "metadata": {},
      "outputs": [],
      "source": [
        "import numpy as np"
      ],
      "id": "fed66257-50ec-433b-b1d3-5a6e6437d8a3"
    },
    {
      "cell_type": "code",
      "execution_count": 2,
      "metadata": {},
      "outputs": [],
      "source": [
        "a=10\n",
        "b=20\n",
        "n=200"
      ],
      "id": "c9451cb1-b4cb-4ab8-9470-b24cafa1579f"
    },
    {
      "cell_type": "code",
      "execution_count": 66,
      "metadata": {},
      "outputs": [],
      "source": [
        "arr1 = np.array([a+(b-a)/(n-1) * (i-1) for i in range(1,n+1)])"
      ],
      "id": "123889ff-10df-46a2-a2b4-3015da164712"
    },
    {
      "cell_type": "markdown",
      "metadata": {},
      "source": [
        "$$a+\\frac{(b-a)i}{n-1}$$ for $i=1,2,3,\\dots, n$"
      ],
      "id": "492d34d0-154b-4e2e-97b2-165bed3ec4d4"
    },
    {
      "cell_type": "code",
      "execution_count": 67,
      "metadata": {},
      "outputs": [],
      "source": [
        "arr2 = np.linspace(a,b,n)"
      ],
      "id": "03e5f596-70f4-467a-8eb0-2f9bb1337cf9"
    },
    {
      "cell_type": "code",
      "execution_count": 68,
      "metadata": {},
      "outputs": [],
      "source": [
        "arr1[:5]"
      ],
      "id": "f2f1e159-2878-47fd-8ecb-c970fcddb08a"
    },
    {
      "cell_type": "code",
      "execution_count": 69,
      "metadata": {},
      "outputs": [],
      "source": [
        "arr2[:5]"
      ],
      "id": "66083393-d9a7-4d8d-82a8-dd6ba14c9d21"
    }
  ],
  "nbformat": 4,
  "nbformat_minor": 5,
  "metadata": {
    "kernelspec": {
      "name": "python3",
      "display_name": "Python 3 (ipykernel)",
      "language": "python"
    },
    "language_info": {
      "name": "python",
      "codemirror_mode": {
        "name": "ipython",
        "version": "3"
      },
      "file_extension": ".py",
      "mimetype": "text/x-python",
      "nbconvert_exporter": "python",
      "pygments_lexer": "ipython3",
      "version": "3.8.12"
    }
  }
}
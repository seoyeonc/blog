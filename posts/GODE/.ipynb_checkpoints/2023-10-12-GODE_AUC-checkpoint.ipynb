{
 "cells": [
  {
   "cell_type": "raw",
   "id": "ebad32fa-18f1-4de4-84cf-737b7944705c",
   "metadata": {},
   "source": [
    "---\n",
    "title: \"**[GODE]**AUC\"\n",
    "author: \"SEOYEON CHOI\"\n",
    "date: \"2023-10-12\"\n",
    "---"
   ]
  },
  {
   "cell_type": "code",
   "execution_count": null,
   "id": "813528dc-113f-4535-a412-483eb71f8a01",
   "metadata": {},
   "outputs": [],
   "source": []
  }
 ],
 "metadata": {
  "kernelspec": {
   "display_name": "Python 3",
   "language": "python",
   "name": "python3"
  },
  "language_info": {
   "codemirror_mode": {
    "name": "ipython",
    "version": 3
   },
   "file_extension": ".py",
   "mimetype": "text/x-python",
   "name": "python",
   "nbconvert_exporter": "python",
   "pygments_lexer": "ipython3",
   "version": "3.8.0"
  }
 },
 "nbformat": 4,
 "nbformat_minor": 5
}

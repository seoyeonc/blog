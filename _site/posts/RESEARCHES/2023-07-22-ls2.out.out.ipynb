{
  "cells": [
    {
      "cell_type": "markdown",
      "metadata": {},
      "source": [
        "# PyG lesson2: 벤치마크 데이터셋 (train/test분리)\n",
        "\n",
        "신록예찬  \n",
        "7/7/23"
      ],
      "id": "7b0b230b-cfdd-4e5b-a14c-81891161fc73"
    },
    {
      "cell_type": "code",
      "execution_count": 42,
      "metadata": {},
      "outputs": [],
      "source": [
        "import torch_geometric\n",
        "import networkx as nx\n",
        "import matplotlib.pyplot as plt\n",
        "import torch"
      ],
      "id": "4891baed-3acf-4f0d-aa89-d31d188b3272"
    },
    {
      "cell_type": "markdown",
      "metadata": {},
      "source": [
        "# Download notebook\n",
        "\n",
        "``` default\n",
        "!wget https://raw.githubusercontent.com/miruetoto/yechan3/main/posts/2_Studies/PyG/ls2.ipynb\n",
        "```\n",
        "\n",
        "# Ref\n",
        "\n",
        "-   <https://pytorch-geometric.readthedocs.io/en/latest/get_started/introduction.html>\n",
        "-   <https://pytorch-geometric.readthedocs.io/en/latest/cheatsheet/data_cheatsheet.html>\n",
        "\n",
        "# 벤치마크 데이터셋\n",
        "\n",
        "`-` 데이터셋은 아래의 모듈안에 정리되어 있음"
      ],
      "id": "db965793-28ec-4184-880c-128dd9978017"
    },
    {
      "cell_type": "code",
      "execution_count": 2,
      "metadata": {},
      "outputs": [],
      "source": [
        "dir(torch_geometric.datasets)[:5]"
      ],
      "id": "82e96018-2dbc-4a3e-bf5d-9e3994c12134"
    },
    {
      "cell_type": "markdown",
      "metadata": {},
      "source": [
        "# **데이터셋1**: TUDataset\n",
        "\n",
        "`-` 다운로드"
      ],
      "id": "08fde507-2c18-4d71-80f7-c6f31e0eb91d"
    },
    {
      "cell_type": "code",
      "execution_count": 3,
      "metadata": {},
      "outputs": [
        {
          "output_type": "stream",
          "name": "stderr",
          "text": [
            "Downloading https://www.chrsmrrs.com/graphkerneldatasets/ENZYMES.zip\n",
            "Extracting /tmp/ENZYMES/ENZYMES/ENZYMES.zip\n",
            "Processing...\n",
            "Done!"
          ]
        }
      ],
      "source": [
        "dataset = torch_geometric.datasets.TUDataset(root='/tmp/ENZYMES', name='ENZYMES')"
      ],
      "id": "f81a5587-8964-4369-9bfe-127f3e4a982b"
    },
    {
      "cell_type": "code",
      "execution_count": 4,
      "metadata": {},
      "outputs": [
        {
          "output_type": "stream",
          "name": "stdout",
          "text": [
            "ENZYMES\n",
            "Rtmp0d0w4u\n",
            "Rtmp1uvosb\n",
            "Rtmp3D2vcG\n",
            "Rtmp44FGCf\n",
            "Rtmp4ekp1G\n",
            "Rtmp5zQZ7f\n",
            "Rtmp6Aqjn9\n",
            "Rtmp8SRqeA\n",
            "Rtmp8iV8GY\n",
            "Rtmp9RDC4h\n",
            "RtmpBOkgTD\n",
            "RtmpDr9n3o\n",
            "RtmpE0w8pP\n",
            "RtmpEgYVqu\n",
            "RtmpEl7QTm\n",
            "RtmpFeImCs\n",
            "RtmpFmhp1e\n",
            "RtmpGOARHe\n",
            "RtmpKLQ4g9\n",
            "RtmpL7P0uL\n",
            "RtmpLcdCbN\n",
            "RtmpMpEHD4\n",
            "RtmpOBjmj9\n",
            "RtmpOldkCG\n",
            "RtmpPL5aqG\n",
            "RtmpPPPXuL\n",
            "RtmpQdjXXP\n",
            "RtmpTnWgqy\n",
            "RtmpUu8TkG\n",
            "RtmpVZ8b1G\n",
            "RtmpWPuxY0\n",
            "RtmpXaQxuK\n",
            "RtmpZQXbWV\n",
            "RtmpZVl5wD\n",
            "RtmpZbltsD\n",
            "Rtmpf3XUWv\n",
            "Rtmphh0IeU\n",
            "RtmpiMl5X7\n",
            "RtmpiYetgv\n",
            "RtmpkuWMxJ\n",
            "RtmpnEvGCG\n",
            "Rtmpp50EUq\n",
            "RtmptUcaRd\n",
            "Rtmptfuzcf\n",
            "RtmpudULKs\n",
            "RtmpuyoGfm\n",
            "Rtmpw3VuI5\n",
            "RtmpyQeKId\n",
            "__autograph_generated_file430lm2pd.py\n",
            "__autograph_generated_file52srl_jv.py\n",
            "__autograph_generated_file6_nk4ksw.py\n",
            "__autograph_generated_fileamhf1l7g.py\n",
            "__autograph_generated_filegjdd1fac.py\n",
            "__autograph_generated_filemy63yhq6.py\n",
            "__autograph_generated_filenb5xfoyk.py\n",
            "__autograph_generated_fileyzbye00x.py\n",
            "__autograph_generated_filezr0_2k4f.py\n",
            "__pycache__\n",
            "quarto-session152a4cba\n",
            "quarto-session1686cca4\n",
            "quarto-session2a43de6f\n",
            "quarto-session2a944a7b\n",
            "quarto-session534bf3db\n",
            "quarto-session9f442f6c\n",
            "quarto-sessiona3c0156c\n",
            "quarto-sessionb632f660\n",
            "quarto-sessionbcbd8145\n",
            "quarto-sessionbf2ff88d\n",
            "quarto-sessionda8525d4\n",
            "quarto-sessionec0b2ed4\n",
            "quarto-sessionf3d60c95\n",
            "snap-private-tmp\n",
            "systemd-private-39daab962ea2479c8b8ce3f60ea86a38-ModemManager.service-cB7j4i\n",
            "systemd-private-39daab962ea2479c8b8ce3f60ea86a38-colord.service-YdaPNi\n",
            "systemd-private-39daab962ea2479c8b8ce3f60ea86a38-switcheroo-control.service-2a7hSg\n",
            "systemd-private-39daab962ea2479c8b8ce3f60ea86a38-systemd-logind.service-FATPQg\n",
            "systemd-private-39daab962ea2479c8b8ce3f60ea86a38-systemd-resolved.service-oRk1Ei\n",
            "systemd-private-39daab962ea2479c8b8ce3f60ea86a38-systemd-timesyncd.service-rxKFnh\n",
            "systemd-private-39daab962ea2479c8b8ce3f60ea86a38-upower.service-z0HyVh\n",
            "tfhub_modules\n",
            "tmp_h0vghma.json\n",
            "tracker-extract-files.1000\n",
            "tracker-extract-files.125"
          ]
        }
      ],
      "source": [
        "!ls /tmp"
      ],
      "id": "e7cddccc-5e93-48e5-ae19-e6294b1f9c3e"
    },
    {
      "cell_type": "markdown",
      "metadata": {},
      "source": [
        "-   `/tmp` 에 다운로드되어있음\n",
        "\n",
        "## 정보\n",
        "\n",
        "`-` 기본정보: ENZYMES dataset\n",
        "\n",
        "> (ChatGPT) ENZYMES는 그래프 분류를 위한 벤치마크 데이터셋 중\n",
        "> 하나입니다. 이 데이터셋은 600개의 그래프로 구성되어 있으며, 6개의\n",
        "> 클래스로 분류됩니다. 각 그래프는 효소(enzyme) 분자의 구조를 나타내며,\n",
        "> 그래프의 노드는 원자(atom)를 나타내고, 엣지(edge)는 원자 간의 연결을\n",
        "> 나타냅니다. ENZYMES 데이터셋은 화학 및 생물 정보학 분야에서 그래프\n",
        "> 분류 알고리즘의 성능을 평가하기 위해 사용될 수 있습니다. 그래프 분류\n",
        "> 알고리즘은 주어진 그래프를 특정 클래스 레이블로 분류하는 작업을\n",
        "> 수행하는데 사용됩니다. 예를 들어, ENZYMES 데이터셋의 그래프는 특정\n",
        "> 효소 종류를 나타내며, 그래프 분류 알고리즘은 주어진 효소 그래프가 어떤\n",
        "> 종류의 효소인지 예측할 수 있습니다. PyG를 사용하여 ENZYMES 데이터셋을\n",
        "> 초기화하면 해당 데이터셋을 다운로드하고 필요한 전처리를 자동으로\n",
        "> 수행할 수 있습니다. 그래프 데이터를 다루는 머신 러닝 모델을 구축하고\n",
        "> 훈련시키기 위해 ENZYMES 데이터셋을 사용할 수 있습니다."
      ],
      "id": "dcfdf5c0-7a99-416d-ab93-cae63dc0e4c0"
    },
    {
      "cell_type": "code",
      "execution_count": 5,
      "metadata": {},
      "outputs": [],
      "source": [
        "dataset # 데이터셋 이름"
      ],
      "id": "a2bb36c2-e94c-4a63-8bc6-402478e1a2c1"
    },
    {
      "cell_type": "code",
      "execution_count": 6,
      "metadata": {},
      "outputs": [],
      "source": [
        "len(dataset) # 이 데이터셋에는 600개의 그래프가 있음"
      ],
      "id": "1ca38776-9ad1-4985-b66d-05a1102b34c6"
    },
    {
      "cell_type": "code",
      "execution_count": 7,
      "metadata": {},
      "outputs": [],
      "source": [
        "dataset.num_classes # 6개의 클래스"
      ],
      "id": "a59fcd43-28d8-4a08-8db1-52301ed0d956"
    },
    {
      "cell_type": "code",
      "execution_count": 8,
      "metadata": {},
      "outputs": [],
      "source": [
        "dataset.num_node_features # 각 노드에는 3개의 피처가 있음"
      ],
      "id": "91cbc422-cf64-41d2-aef9-68ee01f05b0c"
    },
    {
      "cell_type": "markdown",
      "metadata": {},
      "source": [
        "`-` 600개의 그래프중 첫번째 그래프에 접근"
      ],
      "id": "21421242-654a-4355-90a1-9bc30c7ccee3"
    },
    {
      "cell_type": "code",
      "execution_count": 9,
      "metadata": {},
      "outputs": [],
      "source": [
        "dataset[0]"
      ],
      "id": "c019a677-bd1b-4c5d-a2f9-852a4107d1b3"
    },
    {
      "cell_type": "markdown",
      "metadata": {},
      "source": [
        "-   `x=[37, 3]`: $|{\\cal V}|=37$, $f \\in \\mathbb{R}^3$\n",
        "-   `edge_index=[2, 168]`: $|{\\cal E}|=168$\n",
        "\n",
        "## Train/Test 분리\n",
        "\n",
        "`-` 600개의 그래프중 540를 train으로, 60개를 test로"
      ],
      "id": "c30f59a2-c7c1-414c-b650-fdaa4324e8cb"
    },
    {
      "cell_type": "code",
      "execution_count": 10,
      "metadata": {},
      "outputs": [],
      "source": [
        "train_dataset = dataset[:540]\n",
        "test_dataset = dataset[540:] "
      ],
      "id": "80df8449-700f-4632-b7a3-7016ccbe0092"
    },
    {
      "cell_type": "markdown",
      "metadata": {},
      "source": [
        "# **데이터셋2**: Cora\n",
        "\n",
        "`-` 다운로드"
      ],
      "id": "ad8b8d1d-2cc6-4a1b-aaef-4a3e8a7782e0"
    },
    {
      "cell_type": "code",
      "execution_count": 11,
      "metadata": {},
      "outputs": [
        {
          "output_type": "stream",
          "name": "stderr",
          "text": [
            "Downloading https://github.com/kimiyoung/planetoid/raw/master/data/ind.cora.x\n",
            "Downloading https://github.com/kimiyoung/planetoid/raw/master/data/ind.cora.tx\n",
            "Downloading https://github.com/kimiyoung/planetoid/raw/master/data/ind.cora.allx\n",
            "Downloading https://github.com/kimiyoung/planetoid/raw/master/data/ind.cora.y\n",
            "Downloading https://github.com/kimiyoung/planetoid/raw/master/data/ind.cora.ty\n",
            "Downloading https://github.com/kimiyoung/planetoid/raw/master/data/ind.cora.ally\n",
            "Downloading https://github.com/kimiyoung/planetoid/raw/master/data/ind.cora.graph\n",
            "Downloading https://github.com/kimiyoung/planetoid/raw/master/data/ind.cora.test.index\n",
            "Processing...\n",
            "Done!"
          ]
        }
      ],
      "source": [
        "dataset = torch_geometric.datasets.Planetoid(root='/tmp/Cora', name='Cora')"
      ],
      "id": "7c23e664-4aa8-4b69-b929-51bbcf58a46c"
    },
    {
      "cell_type": "markdown",
      "metadata": {},
      "source": [
        "## 정보\n",
        "\n",
        "> ChatGPT: Cora는 그래프 분류를 위한 벤치마크 데이터셋 중 하나로,\n",
        "> PyG에서도 사용할 수 있습니다. 이 데이터셋은 기계 학습 및 정보 검색\n",
        "> 분야에서 널리 사용되는 학술 논문들의 인용 네트워크를 나타냅니다. Cora\n",
        "> 데이터셋은 컴퓨터 과학 분야의 논문을 대상으로 합니다. 각 논문은\n",
        "> 그래프의 노드로 표현되며, 노드는 논문을 나타냅니다. 노드 간의 엣지는\n",
        "> 논문들 사이의 인용 관계를 나타냅니다. 따라서 Cora 데이터셋은 논문의\n",
        "> 텍스트 기반 정보와 인용 관계에 대한 그래프 구조를 제공합니다. Cora\n",
        "> 데이터셋은 7개의 클래스로 분류되며, 각 논문은 특성 벡터(feature\n",
        "> vector)로 표현됩니다. 이 특성 벡터에는 논문의 단어 등 다양한 정보가\n",
        "> 포함될 수 있습니다. PyG를 사용하여 Cora 데이터셋을 초기화하면 해당\n",
        "> 데이터셋을 다운로드하고 전처리를 자동으로 수행할 수 있습니다. 이를\n",
        "> 통해 머신 러닝 모델을 훈련시켜 Cora 데이터셋의 논문을 분류하거나\n",
        "> 다양한 작업을 수행할 수 있습니다.\n",
        "\n",
        "`-` 기본정보"
      ],
      "id": "5af7de31-e18c-477c-8daa-158bffd9f3b5"
    },
    {
      "cell_type": "code",
      "execution_count": 12,
      "metadata": {},
      "outputs": [],
      "source": [
        "len(dataset) # 하나의 그래프가 있음"
      ],
      "id": "5c5640fa-63c9-4580-a859-3d88d17fb79e"
    },
    {
      "cell_type": "code",
      "execution_count": 13,
      "metadata": {},
      "outputs": [],
      "source": [
        "dataset.num_classes # 7개의 클래스가 있음"
      ],
      "id": "c92188ea-054b-482d-ac73-71ae21ff9c63"
    },
    {
      "cell_type": "code",
      "execution_count": 14,
      "metadata": {},
      "outputs": [],
      "source": [
        "dataset.num_node_features # 각 노드는 1433개의 특징이 있음. (논문에 포함된 단어등 다양한 특성이 담겨있을 수 있음) "
      ],
      "id": "11874daf-da5f-4192-a4dd-12e85eab93cd"
    },
    {
      "cell_type": "markdown",
      "metadata": {},
      "source": [
        "`-` 그래프에 접근"
      ],
      "id": "067f5248-aed7-474f-ad5c-3838c601bc99"
    },
    {
      "cell_type": "code",
      "execution_count": 15,
      "metadata": {},
      "outputs": [],
      "source": [
        "dataset[0] # 기본정보"
      ],
      "id": "5b9c20f8-719a-4f42-96f1-6a3e6f0b800d"
    },
    {
      "cell_type": "markdown",
      "metadata": {},
      "source": [
        "-   `x=[2708, 1433]`: 2708개의 논문이 있고, 각 논문은 1433개의\n",
        "    특징벡터들로 이루어져 있음.\n",
        "-   `edge_index=[2, 10556]`: 논문간의 인용은 약 10556.\n",
        "-   `y=[2708]`:"
      ],
      "id": "f423d86d-3e3e-4184-849b-306b2fea395c"
    },
    {
      "cell_type": "code",
      "execution_count": 16,
      "metadata": {},
      "outputs": [],
      "source": [
        "dataset[0].x.shape # 2708개의 논문이 있고 1433개의 특징벡터를 가짐"
      ],
      "id": "523924f4-a023-4397-bc0b-ab148d721423"
    },
    {
      "cell_type": "code",
      "execution_count": 17,
      "metadata": {},
      "outputs": [],
      "source": [
        "dataset[0].y.unique() # 논문이 7개의 카테고리로 분류되는듯"
      ],
      "id": "c6cbffb2-1a02-423e-aa6c-1dc781bb9a51"
    },
    {
      "cell_type": "markdown",
      "metadata": {},
      "source": [
        "## Train/Test (이미 분리되어 있음)"
      ],
      "id": "8a88505a-a591-4523-b24b-8a36da34b7e7"
    },
    {
      "cell_type": "code",
      "execution_count": 18,
      "metadata": {},
      "outputs": [],
      "source": [
        "dataset[0].train_mask \n",
        "# dataset[0].train_mask 는 True, False로 이루어져 있는 길이가 2708(=노드수=논문수)인 벡터\n",
        "# 여기에서 True인 노드만 훈련함"
      ],
      "id": "78a6bbbe-bb54-4846-b86a-755964c2370e"
    },
    {
      "cell_type": "code",
      "execution_count": 19,
      "metadata": {},
      "outputs": [],
      "source": [
        "dataset[0].train_mask.sum() # 140개의 노드만 훈련함? "
      ],
      "id": "cdff17b9-fe34-4e8d-8e4f-e9a10aad9d5a"
    },
    {
      "cell_type": "code",
      "execution_count": 20,
      "metadata": {},
      "outputs": [],
      "source": [
        "dataset[0].val_mask.sum() # val은 500개의 노드?"
      ],
      "id": "dbd2bf0b-fb73-4d04-93e4-bf5af83e80c8"
    },
    {
      "cell_type": "code",
      "execution_count": 21,
      "metadata": {},
      "outputs": [],
      "source": [
        "dataset[0].test_mask.sum() # test set은 1000?"
      ],
      "id": "bc6906f7-059c-4ab7-8a3d-8aa651319014"
    },
    {
      "cell_type": "code",
      "execution_count": 25,
      "metadata": {},
      "outputs": [],
      "source": [
        "dataset.edge_index"
      ],
      "id": "f4ebf844-155c-45c9-8034-63ce5483ee54"
    }
  ],
  "nbformat": 4,
  "nbformat_minor": 5,
  "metadata": {
    "kernelspec": {
      "name": "python3",
      "display_name": "Python 3",
      "language": "python"
    },
    "language_info": {
      "name": "python",
      "codemirror_mode": {
        "name": "ipython",
        "version": "3"
      },
      "file_extension": ".py",
      "mimetype": "text/x-python",
      "nbconvert_exporter": "python",
      "pygments_lexer": "ipython3",
      "version": "3.8.0"
    }
  }
}
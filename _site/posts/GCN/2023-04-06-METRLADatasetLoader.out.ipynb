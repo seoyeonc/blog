{
  "cells": [
    {
      "cell_type": "markdown",
      "metadata": {},
      "source": [
        "# METRLADatasetLoader-Tutorial\n",
        "\n",
        "SEOYEON CHOI  \n",
        "2023-04-06\n",
        "\n",
        "> METRLADatasetLoader"
      ],
      "id": "efccd82e-e894-4b8e-b02e-99d7a2824093"
    },
    {
      "cell_type": "code",
      "execution_count": 5,
      "metadata": {},
      "outputs": [
        {
          "output_type": "stream",
          "name": "stdout",
          "text": [
            "1.10.1"
          ]
        }
      ],
      "source": [
        "import torch\n",
        "from IPython.display import clear_output\n",
        "pt_version = torch.__version__\n",
        "print(pt_version)"
      ],
      "id": "40393549-a678-48c8-9794-735d7996ba90"
    },
    {
      "cell_type": "code",
      "execution_count": 8,
      "metadata": {},
      "outputs": [],
      "source": [
        "import numpy as np\n",
        "from torch_geometric_temporal.dataset import METRLADatasetLoader\n",
        "from torch_geometric_temporal.signal import StaticGraphTemporalSignal\n",
        "\n",
        "loader = METRLADatasetLoader()\n",
        "dataset = loader.get_dataset(num_timesteps_in=12, num_timesteps_out=12)\n",
        "\n",
        "#print(\"Dataset type:  \", dataset)\n",
        "#print(\"Number of samples / sequences: \",  len(set(dataset)))"
      ],
      "id": "be91ef6d-c75b-4951-921d-79366bd4d4b2"
    },
    {
      "cell_type": "code",
      "execution_count": 10,
      "metadata": {},
      "outputs": [
        {
          "output_type": "display_data",
          "metadata": {},
          "data": {
            "image/png": "[encoded data removed]"
          }
        }
      ],
      "source": [
        "import seaborn as sns\n",
        "# Visualize traffic over time\n",
        "sensor_number = 1\n",
        "hours = 24\n",
        "sensor_labels = [bucket.y[sensor_number][0].item() for bucket in list(dataset)[:hours]]\n",
        "sns.lineplot(data=sensor_labels)"
      ],
      "id": "479db69a-c579-4f68-b3a1-52307a74cf40"
    },
    {
      "cell_type": "code",
      "execution_count": 12,
      "metadata": {},
      "outputs": [],
      "source": [
        "from torch_geometric_temporal.signal import temporal_signal_split\n",
        "train_dataset, test_dataset = temporal_signal_split(dataset, train_ratio=0.8)\n",
        "\n",
        "#print(\"Number of train buckets: \", len(set(train_dataset)))\n",
        "#print(\"Number of test buckets: \", len(set(test_dataset)))"
      ],
      "id": "b1fe321f-cf15-4889-a6a4-7708c388bd2b"
    },
    {
      "cell_type": "code",
      "execution_count": 13,
      "metadata": {},
      "outputs": [],
      "source": [
        "import torch\n",
        "import torch.nn.functional as F\n",
        "from torch_geometric_temporal.nn.recurrent import A3TGCN\n",
        "\n",
        "class TemporalGNN(torch.nn.Module):\n",
        "    def __init__(self, node_features, periods):\n",
        "        super(TemporalGNN, self).__init__()\n",
        "        # Attention Temporal Graph Convolutional Cell\n",
        "        self.tgnn = A3TGCN(in_channels=node_features, \n",
        "                           out_channels=32, \n",
        "                           periods=periods)\n",
        "        # Equals single-shot prediction\n",
        "        self.linear = torch.nn.Linear(32, periods)\n",
        "\n",
        "    def forward(self, x, edge_index):\n",
        "        \"\"\"\n",
        "        x = Node features for T time steps\n",
        "        edge_index = Graph edge indices\n",
        "        \"\"\"\n",
        "        h = self.tgnn(x, edge_index)\n",
        "        h = F.relu(h)\n",
        "        h = self.linear(h)\n",
        "        return h\n",
        "\n",
        "TemporalGNN(node_features=2, periods=12)"
      ],
      "id": "a26005cd-40cd-44f2-9da8-266635be0e0a"
    },
    {
      "cell_type": "code",
      "execution_count": 14,
      "metadata": {},
      "outputs": [
        {
          "output_type": "stream",
          "name": "stdout",
          "text": [
            "Running training...\n",
            "Epoch 0 train MSE: 0.7596\n",
            "Epoch 1 train MSE: 0.7398\n",
            "Epoch 2 train MSE: 0.7205\n",
            "Epoch 3 train MSE: 0.6996\n",
            "Epoch 4 train MSE: 0.6759\n",
            "Epoch 5 train MSE: 0.6495\n",
            "Epoch 6 train MSE: 0.6221\n",
            "Epoch 7 train MSE: 0.5963\n",
            "Epoch 8 train MSE: 0.5743\n",
            "Epoch 9 train MSE: 0.5573"
          ]
        }
      ],
      "source": [
        "# GPU support\n",
        "device = torch.device('cpu') # cuda\n",
        "subset = 2000\n",
        "\n",
        "# Create model and optimizers\n",
        "model = TemporalGNN(node_features=2, periods=12).to(device)\n",
        "optimizer = torch.optim.Adam(model.parameters(), lr=0.01)\n",
        "model.train()\n",
        "\n",
        "print(\"Running training...\")\n",
        "for epoch in range(10): \n",
        "    loss = 0\n",
        "    step = 0\n",
        "    for snapshot in train_dataset:\n",
        "        snapshot = snapshot.to(device)\n",
        "        # Get model predictions\n",
        "        y_hat = model(snapshot.x, snapshot.edge_index)\n",
        "        # Mean squared error\n",
        "        loss = loss + torch.mean((y_hat-snapshot.y)**2) \n",
        "        step += 1\n",
        "        if step > subset:\n",
        "          break\n",
        "\n",
        "    loss = loss / (step + 1)\n",
        "    loss.backward()\n",
        "    optimizer.step()\n",
        "    optimizer.zero_grad()\n",
        "    print(\"Epoch {} train MSE: {:.4f}\".format(epoch, loss.item()))"
      ],
      "id": "5f6ced6d-d28a-4aa6-b6b0-121bb8445eb5"
    },
    {
      "cell_type": "code",
      "execution_count": 15,
      "metadata": {},
      "outputs": [
        {
          "output_type": "stream",
          "name": "stdout",
          "text": [
            "Test MSE: 0.6738"
          ]
        }
      ],
      "source": [
        "model.eval()\n",
        "loss = 0\n",
        "step = 0\n",
        "horizon = 288\n",
        "\n",
        "# Store for analysis\n",
        "predictions = []\n",
        "labels = []\n",
        "\n",
        "for snapshot in test_dataset:\n",
        "    snapshot = snapshot.to(device)\n",
        "    # Get predictions\n",
        "    y_hat = model(snapshot.x, snapshot.edge_index)\n",
        "    # Mean squared error\n",
        "    loss = loss + torch.mean((y_hat-snapshot.y)**2)\n",
        "    # Store for analysis below\n",
        "    labels.append(snapshot.y)\n",
        "    predictions.append(y_hat)\n",
        "    step += 1\n",
        "    if step > horizon:\n",
        "          break\n",
        "\n",
        "loss = loss / (step+1)\n",
        "loss = loss.item()\n",
        "print(\"Test MSE: {:.4f}\".format(loss))"
      ],
      "id": "0366f746-b4bd-490c-ad17-e498be6bda8a"
    }
  ],
  "nbformat": 4,
  "nbformat_minor": 5,
  "metadata": {
    "kernelspec": {
      "name": "python3",
      "display_name": "Python 3 (ipykernel)",
      "language": "python"
    },
    "language_info": {
      "name": "python",
      "codemirror_mode": {
        "name": "ipython",
        "version": "3"
      },
      "file_extension": ".py",
      "mimetype": "text/x-python",
      "nbconvert_exporter": "python",
      "pygments_lexer": "ipython3",
      "version": "3.8.12"
    }
  }
}
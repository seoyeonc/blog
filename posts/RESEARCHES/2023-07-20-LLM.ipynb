{
 "cells": [
  {
   "cell_type": "raw",
   "id": "3d8d9e77-c4ef-45aa-8433-18a18f7fe7b9",
   "metadata": {
    "id": "cac470df-29e7-4148-9bbd-d8b9a32fa570",
    "tags": []
   },
   "source": [
    "---\n",
    "title: \"LLM\"\n",
    "author: \"SEOYEON CHOI\"\n",
    "date: \"2023-07-20\"\n",
    "categories:\n",
    "  - LLM\n",
    "---"
   ]
  },
  {
   "cell_type": "markdown",
   "id": "ffe86a26-05e1-4e94-8bde-56aaa5a7f046",
   "metadata": {},
   "source": [
    "# Import"
   ]
  },
  {
   "cell_type": "code",
   "execution_count": null,
   "id": "b2d3b7e8-9dc1-4224-82e0-523a22b58508",
   "metadata": {},
   "outputs": [],
   "source": [
    "import pandas as pd\n",
    "import torch\n",
    "from transformers import GPT2Tokenizer, TFGPT2LMHeadModel\n",
    "import tensorflow as tf\n",
    "import matplotlib.pyplot as plt\n",
    "import pandas as pd\n",
    "from sklearn.feature_extraction.text import TfidfVectorizer\n",
    "from sklearn.model_selection import train_test_split\n",
    "from sklearn.preprocessing import LabelEncoder"
   ]
  },
  {
   "cell_type": "code",
   "execution_count": null,
   "id": "1ffbd21c-ccc2-4ce4-a203-4767a410884e",
   "metadata": {},
   "outputs": [],
   "source": [
    "import os\n",
    "import re\n",
    "import string\n",
    "import json\n",
    "import numpy as np\n",
    "from sklearn import metrics\n",
    "from bs4 import BeautifulSoup\n",
    "import transformers\n",
    "from torch.utils.data import Dataset, DataLoader, RandomSampler, SequentialSampler\n",
    "from transformers import BertTokenizer, AutoTokenizer, BertModel, BertConfig, AutoModel, AdamW\n",
    "import warnings\n",
    "warnings.filterwarnings('ignore')\n",
    "\n",
    "pd.set_option(\"display.max_columns\", None)"
   ]
  },
  {
   "cell_type": "markdown",
   "id": "9620e328-8c91-422f-a812-5ea5169a144a",
   "metadata": {},
   "source": [
    "# Data"
   ]
  },
  {
   "cell_type": "markdown",
   "id": "343acbed-9fef-47b4-9a46-9d99ff75fabf",
   "metadata": {},
   "source": [
    "ref: [kaggle](https://www.kaggle.com/datasets/mazlumi/mbti-personality-type-twitter-dataset/code)"
   ]
  },
  {
   "cell_type": "code",
   "execution_count": null,
   "id": "cb71bafc-4b35-406c-9026-f0e38adeb3e9",
   "metadata": {},
   "outputs": [],
   "source": [
    "df2 = pd.read_csv('./dataset/twitter_MBTI.csv').iloc[:,1:]"
   ]
  },
  {
   "cell_type": "code",
   "execution_count": null,
   "id": "a8199021-6acd-401c-ae36-b6baf78719a2",
   "metadata": {},
   "outputs": [],
   "source": [
    "df2"
   ]
  },
  {
   "cell_type": "code",
   "execution_count": null,
   "id": "cb6d2d2e-5d10-4c69-9c22-4ec18cdfdeaf",
   "metadata": {},
   "outputs": [],
   "source": [
    "plt.figure(figsize=(25, 8))\n",
    "plt.hist(df2['label'],color='grey', align='left', rwidth=0.8,bins=16)"
   ]
  },
  {
   "cell_type": "code",
   "execution_count": null,
   "id": "fdc9bd42-142c-4c58-a426-9fb00fb52141",
   "metadata": {},
   "outputs": [],
   "source": [
    "df2['word_count'] = df2['text'].apply(lambda x: len(x.split()))"
   ]
  },
  {
   "cell_type": "code",
   "execution_count": null,
   "id": "dd40652b-126c-40ff-b997-e60920ceb445",
   "metadata": {},
   "outputs": [],
   "source": [
    "plt.figure(figsize=(25, 8))\n",
    "plt.hist(df2['word_count'],color='lightblue', align='left', rwidth=0.8,bins=100)"
   ]
  },
  {
   "cell_type": "code",
   "execution_count": null,
   "id": "9c63251d-cb52-4c53-8d0d-61cb81ba9c87",
   "metadata": {},
   "outputs": [],
   "source": [
    "# Split the DataFrame into train and test sets\n",
    "train_data, test_data = train_test_split(df2, test_size=0.1, random_state=42)\n",
    "\n",
    "# Encode the labels using LabelEncoder\n",
    "le = LabelEncoder()\n",
    "le.fit(df2['label'].unique())\n",
    "train_data['label'] = le.transform(train_data['label'])\n",
    "test_data['label'] = le.transform(test_data['label'])\n",
    "\n",
    "# Initialize TfidfVectorizer\n",
    "vectorizer = TfidfVectorizer(stop_words='english', max_features=1000)\n",
    "\n",
    "# Fit and transform the text data\n",
    "X_train = vectorizer.fit_transform(train_data['text'])\n",
    "X_test = vectorizer.transform(test_data['text'])\n",
    "\n",
    "# Get the feature names from the vectorizer\n",
    "feature_names = vectorizer.get_feature_names_out()\n",
    "\n",
    "# Create a DataFrame from the feature names and their corresponding TF-IDF scores\n",
    "tfidf_scores = pd.DataFrame(X_train.toarray(), columns=feature_names)\n",
    "\n",
    "# Group the data by label and calculate the mean of each feature for each label\n",
    "mean_tfidf_by_label = tfidf_scores.groupby(train_data['label']).mean()\n",
    "\n",
    "# Display the top 10 features for each label\n",
    "for idx, row in mean_tfidf_by_label.iterrows():\n",
    "    label_idx = int(idx)\n",
    "    label = le.inverse_transform([label_idx])[0]\n",
    "    print(f\"Top 10 features for label {label}:\")\n",
    "    print(row.nlargest(10))\n",
    "    print(\"\\n\")"
   ]
  },
  {
   "cell_type": "markdown",
   "id": "f5e8b632-e406-4764-af48-75206e4619f1",
   "metadata": {},
   "source": [
    "https://wikidocs.net/152922"
   ]
  },
  {
   "cell_type": "markdown",
   "id": "7172f9d6-42b9-445f-b7a1-1f0772ecbcc5",
   "metadata": {},
   "source": [
    "https://dacon.io/codeshare/5619"
   ]
  },
  {
   "cell_type": "markdown",
   "id": "b25850aa-db7a-4720-b68e-10775a70c433",
   "metadata": {},
   "source": [
    "https://www.kaggle.com/code/debarshichanda/bert-multi-label-text-classification"
   ]
  },
  {
   "cell_type": "code",
   "execution_count": null,
   "id": "ef5324a2-6ef7-4125-a291-188a975f20ef",
   "metadata": {},
   "outputs": [],
   "source": [
    "df2"
   ]
  },
  {
   "cell_type": "code",
   "execution_count": null,
   "id": "ac4f08b9-9e82-4d24-91cf-e656aa2b12d8",
   "metadata": {},
   "outputs": [],
   "source": []
  }
 ],
 "metadata": {
  "kernelspec": {
   "display_name": "Python 3",
   "language": "python",
   "name": "python3"
  },
  "language_info": {
   "codemirror_mode": {
    "name": "ipython",
    "version": 3
   },
   "file_extension": ".py",
   "mimetype": "text/x-python",
   "name": "python",
   "nbconvert_exporter": "python",
   "pygments_lexer": "ipython3",
   "version": "3.8.0"
  }
 },
 "nbformat": 4,
 "nbformat_minor": 5
}

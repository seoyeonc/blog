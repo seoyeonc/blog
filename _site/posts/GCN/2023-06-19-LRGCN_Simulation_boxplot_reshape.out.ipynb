{
  "cells": [
    {
      "cell_type": "markdown",
      "metadata": {},
      "source": [
        "# LRGCN_Simulation_reshape\n",
        "\n",
        "SEOYEON CHOI  \n",
        "6/13/23\n",
        "\n",
        "> Simulation Study\n",
        "\n",
        "# Import"
      ],
      "id": "c9583b6d-32cb-44e8-9f26-a9f851515ed6"
    },
    {
      "cell_type": "code",
      "execution_count": 2,
      "metadata": {},
      "outputs": [],
      "source": [
        "import matplotlib.pyplot as plt\n",
        "import pandas as pd\n",
        "import numpy as np"
      ],
      "id": "ccb1ec96-0c2e-4f60-bd52-adbc6071fb06"
    },
    {
      "cell_type": "markdown",
      "metadata": {},
      "source": [
        "# Fivenodes"
      ],
      "id": "e7d90922-5735-49ff-8e84-30b86ec3c6e1"
    },
    {
      "cell_type": "code",
      "execution_count": 46,
      "metadata": {},
      "outputs": [],
      "source": [
        "df1 = pd.read_csv('./simulation_results/2023-06-19_14-50-01.csv')\n",
        "df2 = pd.read_csv('./simulation_results/2023-06-19_15-28-49.csv')\n",
        "df3 = pd.read_csv('./simulation_results/2023-06-19_16-07-15.csv')\n",
        "df4 = pd.read_csv('./simulation_results/2023-06-19_19-11-20.csv')\n",
        "df5 = pd.read_csv('./simulation_results/2023-06-19_16-43-35.csv')\n",
        "df6 = pd.read_csv('./simulation_results/2023-06-19_17-20-21.csv')\n",
        "df7 = pd.read_csv('./simulation_results/2023-06-19_17-55-56.csv')\n",
        "df8 = pd.read_csv('./simulation_results/2023-06-19_18-31-52.csv')"
      ],
      "id": "6e1a1a42-ece1-4f2d-a338-60fe2cd65223"
    },
    {
      "cell_type": "code",
      "execution_count": 47,
      "metadata": {},
      "outputs": [],
      "source": [
        "df9 = pd.read_csv('./simulation_results/2023-07-18_07-04-57.csv')\n",
        "df10 = pd.read_csv('./simulation_results/2023-07-18_07-45-38.csv')\n",
        "df11 = pd.read_csv('./simulation_results/2023-07-18_08-27-17.csv')\n",
        "df12 = pd.read_csv('./simulation_results/2023-07-18_09-09-01.csv')\n",
        "df13 = pd.read_csv('./simulation_results/2023-07-18_09-49-56.csv')\n",
        "df14 = pd.read_csv('./simulation_results/2023-07-18_10-31-29.csv')"
      ],
      "id": "62b8dba5-3d26-44f6-9577-016e02b1b888"
    },
    {
      "cell_type": "code",
      "execution_count": 48,
      "metadata": {},
      "outputs": [],
      "source": [
        "data = pd.concat([df1,df2,df3,df4,df5,df6,df7,df8,df9,df10,df11,df12,df13,df14],axis=0)"
      ],
      "id": "f56e5e2d-7917-4d0b-afd3-fbfe557cfa96"
    },
    {
      "cell_type": "code",
      "execution_count": 49,
      "metadata": {},
      "outputs": [],
      "source": [
        "data.to_csv('./simulation_results/Real_simulation_reshape/LRGCN_fivedones_Simulation.csv',index=False)"
      ],
      "id": "139d7eef-12d3-4383-9a78-9b958c891979"
    },
    {
      "cell_type": "code",
      "execution_count": 50,
      "metadata": {},
      "outputs": [],
      "source": [
        "data = pd.read_csv('./simulation_results/Real_simulation_reshape/LRGCN_fivedones_Simulation.csv')"
      ],
      "id": "e0648e8e-f3b3-4e50-9a7b-18e3faf0464d"
    },
    {
      "cell_type": "markdown",
      "metadata": {},
      "source": [
        "## Baseline"
      ],
      "id": "38197337-0a51-4270-a725-8bac449fedd0"
    },
    {
      "cell_type": "code",
      "execution_count": 51,
      "metadata": {
        "tags": []
      },
      "outputs": [],
      "source": [
        "data.query(\"method!='GNAR' and mrate==0\").plot.box(backend='plotly',x='mrate',color='method',y='mse',facet_col='lags',facet_row='nof_filters',height=600)\n"
      ],
      "id": "0fff60d8-b7d2-4c59-aef9-d92dcfbc6874"
    },
    {
      "cell_type": "markdown",
      "metadata": {},
      "source": [
        "## Random"
      ],
      "id": "c84f582f-9394-4640-8158-d48aca6cbf81"
    },
    {
      "cell_type": "code",
      "execution_count": 52,
      "metadata": {},
      "outputs": [],
      "source": [
        "data.query(\"method!='GNAR' and mtype =='rand'\").plot.box(backend='plotly',x='mrate',color='method',y='mse',facet_col='inter_method',facet_row='nof_filters',height=600)\n",
        "\n"
      ],
      "id": "dd2837ad-bcc8-4e55-8133-4d5b34e84b0b"
    },
    {
      "cell_type": "markdown",
      "metadata": {},
      "source": [
        "## Block"
      ],
      "id": "26524c94-ce20-46fa-b342-b271aade0342"
    },
    {
      "cell_type": "code",
      "execution_count": 53,
      "metadata": {},
      "outputs": [],
      "source": [
        "data.query(\"method!='GNAR' and mtype =='block' \").plot.box(backend='plotly',x='mrate',color='method',y='mse',facet_col='inter_method',facet_row='nof_filters',height=600)\n"
      ],
      "id": "5d9522b9-7317-4e6d-ba82-b44a28816e04"
    },
    {
      "cell_type": "markdown",
      "metadata": {},
      "source": [
        "# chickenpox"
      ],
      "id": "0a0a9477-3878-4938-8dad-2f93a1d622e3"
    },
    {
      "cell_type": "code",
      "execution_count": 54,
      "metadata": {},
      "outputs": [],
      "source": [
        "df1 = pd.read_csv('./simulation_results/2023-06-19_21-16-21.csv') # GNAR random\n",
        "df2 = pd.read_csv('./simulation_results/2023-06-19_23-17-46.csv') # GNAR block\n",
        "df3 = pd.read_csv('./simulation_results/2023-06-20_00-19-25.csv') # STGCN, ITSTGCN random 30%\n",
        "df4 = pd.read_csv('./simulation_results/2023-06-20_01-21-25.csv') \n",
        "df5 = pd.read_csv('./simulation_results/2023-06-20_10-19-58.csv') \n",
        "df6 = pd.read_csv('./simulation_results/2023-06-20_12-07-01.csv') "
      ],
      "id": "4cadb26b-2183-4453-b9c9-6c272c212cb6"
    },
    {
      "cell_type": "code",
      "execution_count": 55,
      "metadata": {},
      "outputs": [],
      "source": [
        "df7 = pd.read_csv('./simulation_results/2023-07-18_11-34-37.csv') # GNAR random\n",
        "df8 = pd.read_csv('./simulation_results/2023-07-18_12-40-07.csv') # GNAR block\n",
        "df9 = pd.read_csv('./simulation_results/2023-07-18_13-42-11.csv') # STGCN, ITSTGCN random 30%\n",
        "df10 = pd.read_csv('./simulation_results/2023-07-18_14-46-05.csv') "
      ],
      "id": "cf188404-c376-4e3e-8b22-85845aa2d988"
    },
    {
      "cell_type": "code",
      "execution_count": 56,
      "metadata": {},
      "outputs": [],
      "source": [
        "data = pd.concat([df1,df2,df3,df4,df5,df6,df7,df8,df9,df10],axis=0)"
      ],
      "id": "995ce069-6762-4ec6-8640-25c74a89ffa9"
    },
    {
      "cell_type": "code",
      "execution_count": 57,
      "metadata": {},
      "outputs": [],
      "source": [
        "data.to_csv('./simulation_results/Real_simulation_reshape/LRGCN_chikenpox_Simulation.csv',index=False)"
      ],
      "id": "b0566b89-eef8-47fa-adb1-5554bda82ad5"
    },
    {
      "cell_type": "code",
      "execution_count": 58,
      "metadata": {},
      "outputs": [],
      "source": [
        "data = pd.read_csv('./simulation_results/Real_simulation_reshape/LRGCN_chikenpox_Simulation.csv')"
      ],
      "id": "4e30559a-b163-4345-93d7-de30d042d431"
    },
    {
      "cell_type": "markdown",
      "metadata": {},
      "source": [
        "## Baseline"
      ],
      "id": "5ae9ed4d-1379-4f12-8e98-c1b248050fca"
    },
    {
      "cell_type": "code",
      "execution_count": 59,
      "metadata": {},
      "outputs": [],
      "source": [
        "data.query(\"method!='GNAR' and mrate ==0 \").plot.box(backend='plotly',x='mrate',color='method',y='mse',facet_col='nof_filters',height=600)\n"
      ],
      "id": "327b6435-3c00-4f35-928f-21b6cc94fc82"
    },
    {
      "cell_type": "markdown",
      "metadata": {},
      "source": [
        "## Random"
      ],
      "id": "a85a4c51-5442-4628-a531-b02168cff41a"
    },
    {
      "cell_type": "code",
      "execution_count": 60,
      "metadata": {},
      "outputs": [],
      "source": [
        "data.query(\"method!='GNAR' and mtype =='rand'\").plot.box(backend='plotly',x='mrate',color='method',y='mse',facet_col='nof_filters',facet_row='inter_method',height=800)\n"
      ],
      "id": "596cee53-764f-4d84-9863-abb639d2ee02"
    },
    {
      "cell_type": "markdown",
      "metadata": {},
      "source": [
        "## Block"
      ],
      "id": "8b7ac415-53c1-4600-97af-403b140ef7c1"
    },
    {
      "cell_type": "code",
      "execution_count": 61,
      "metadata": {},
      "outputs": [],
      "source": [
        "data.query(\"method!='GNAR' and mtype =='block'\").plot.box(backend='plotly',x='mrate',color='method',y='mse',facet_col='inter_method',facet_row='lags',height=800)\n"
      ],
      "id": "f53ec947-99be-42fa-8c15-1243f3dc7660"
    },
    {
      "cell_type": "markdown",
      "metadata": {},
      "source": [
        "# Pedalme"
      ],
      "id": "7cd48dac-2c61-4c92-bfde-d7d464235b67"
    },
    {
      "cell_type": "code",
      "execution_count": 67,
      "metadata": {},
      "outputs": [],
      "source": [
        "df1 = pd.read_csv('./simulation_results/2023-06-19_13-57-33.csv') \n",
        "df2 = pd.read_csv('./simulation_results/2023-06-19_14-10-25.csv')  "
      ],
      "id": "56f57a47-ccdd-40ce-af23-2f051edf5b71"
    },
    {
      "cell_type": "code",
      "execution_count": 68,
      "metadata": {},
      "outputs": [],
      "source": [
        "df3 = pd.read_csv('./simulation_results/2023-07-18_15-12-36.csv') "
      ],
      "id": "f4eeb052-c957-4a5a-83f1-76ca33b1e48c"
    },
    {
      "cell_type": "code",
      "execution_count": 69,
      "metadata": {},
      "outputs": [],
      "source": [
        "data = pd.concat([df1,df2,df3],axis=0)"
      ],
      "id": "e9d2761f-503e-4d2c-b9c6-9c029d53fea3"
    },
    {
      "cell_type": "code",
      "execution_count": 70,
      "metadata": {},
      "outputs": [],
      "source": [
        "data.to_csv('./simulation_results/Real_simulation_reshape/LRGCN_pedalme_Simulation.csv',index=False)"
      ],
      "id": "937ba68e-0b68-4a09-95ca-d2cf6531ef8a"
    },
    {
      "cell_type": "code",
      "execution_count": 71,
      "metadata": {},
      "outputs": [],
      "source": [
        "data = pd.read_csv('./simulation_results/Real_simulation_reshape/LRGCN_pedalme_Simulation.csv')"
      ],
      "id": "e5d34da4-3dd0-4f17-9f20-17480896f17b"
    },
    {
      "cell_type": "markdown",
      "metadata": {},
      "source": [
        "## Baseline"
      ],
      "id": "b26f060e-d3fb-44d1-9124-ec5fbb57f472"
    },
    {
      "cell_type": "code",
      "execution_count": 72,
      "metadata": {},
      "outputs": [],
      "source": [
        "data.query(\"mrate ==0 and lags!=2\").plot.box(backend='plotly',x='epoch',color='method',y='mse',facet_col='nof_filters',facet_row='lags',height=400)\n"
      ],
      "id": "e79d040d-61a9-431f-a7ff-0c68da23c976"
    },
    {
      "cell_type": "markdown",
      "metadata": {},
      "source": [
        "## random"
      ],
      "id": "b4d6a839-e5b1-4524-ac60-bc4d03a2d34e"
    },
    {
      "cell_type": "code",
      "execution_count": 73,
      "metadata": {},
      "outputs": [],
      "source": [
        "data.query(\"method!='GNAR' and mtype =='rand' and lags!=2\").plot.box(backend='plotly',x='mrate',color='method',y='mse',facet_col='nof_filters',facet_row='inter_method',height=800)\n"
      ],
      "id": "b474c491-7f68-494f-a79f-bc5f2418b6b2"
    },
    {
      "cell_type": "markdown",
      "metadata": {},
      "source": [
        "## block"
      ],
      "id": "f3bedff6-b705-4b8c-b74e-3ce4474afe18"
    },
    {
      "cell_type": "code",
      "execution_count": 74,
      "metadata": {},
      "outputs": [],
      "source": [
        "data.query(\"method!='GNAR' and mtype =='block' and lags!=2 \").plot.box(backend='plotly',x='mrate',color='method',y='mse',facet_col='nof_filters',facet_row='inter_method',height=800)\n"
      ],
      "id": "56ca226c-9047-4e0a-bae5-fc4f237ca450"
    },
    {
      "cell_type": "markdown",
      "metadata": {},
      "source": [
        "## weight matrix time, node 고려한 결과"
      ],
      "id": "f179bb49-4f24-4a4e-9661-f74d031fc02a"
    },
    {
      "cell_type": "code",
      "execution_count": 103,
      "metadata": {},
      "outputs": [],
      "source": [
        "df1 = pd.read_csv('./simulation_results/2023-06-20_19-13-42.csv')\n",
        "df2 = pd.read_csv('./simulation_results/2023-06-20_19-46-03.csv')"
      ],
      "id": "cc97fa8d-2938-41f4-879b-72dc5ce00d43"
    },
    {
      "cell_type": "code",
      "execution_count": 104,
      "metadata": {},
      "outputs": [],
      "source": [
        "data2 = pd.concat([df1,df2],axis=0)"
      ],
      "id": "d8fc9ed0-805c-4894-9375-376e3ec42a8e"
    },
    {
      "cell_type": "code",
      "execution_count": 105,
      "metadata": {},
      "outputs": [],
      "source": [
        "data2.to_csv('./simulation_results/Real_simulation_reshape/LRGCN_pedalme_Simulation_itstgcnsnd.csv',index=False)"
      ],
      "id": "feb34a07-b4eb-4336-9247-a378f2715fbd"
    },
    {
      "cell_type": "code",
      "execution_count": 106,
      "metadata": {},
      "outputs": [],
      "source": [
        "data2 = pd.read_csv('./simulation_results/Real_simulation_reshape/LRGCN_pedalme_Simulation_itstgcnsnd.csv')"
      ],
      "id": "5ac297d7-6cd5-414d-a1a9-7b294ad76d96"
    },
    {
      "cell_type": "code",
      "execution_count": 107,
      "metadata": {},
      "outputs": [],
      "source": [
        "data2.query(\"mtype=='rand'\").plot.box(backend='plotly',x='mrate',color='method',y='mse',facet_col='inter_method',facet_row='nof_filters',height=1000)"
      ],
      "id": "9a930f69-cdb7-4093-96d3-6ad5ebcb7890"
    },
    {
      "cell_type": "code",
      "execution_count": 108,
      "metadata": {},
      "outputs": [],
      "source": [
        "data2.query(\"mtype=='block'\").plot.box(backend='plotly',x='mrate',color='method',y='mse',facet_col='inter_method',facet_row='nof_filters',height=1000)"
      ],
      "id": "eb5a70de-3ba0-4608-be01-a27f28baeb10"
    },
    {
      "cell_type": "markdown",
      "metadata": {},
      "source": [
        "# Wikimath"
      ],
      "id": "f703067a-5a00-45c0-9122-8129ee286874"
    },
    {
      "cell_type": "code",
      "execution_count": 122,
      "metadata": {},
      "outputs": [],
      "source": [
        "df1 = pd.read_csv('./simulation_results/2023-06-20_09-26-34.csv')\n",
        "df2 = pd.read_csv('./simulation_results/2023-06-20_12-04-37.csv')\n",
        "df3 = pd.read_csv('./simulation_results/2023-06-20_15-15-41.csv')\n",
        "df4 = pd.read_csv('./simulation_results/2023-06-20_21-03-52.csv')\n",
        "df5 = pd.read_csv('./simulation_results/2023-06-21_01-43-09.csv')\n",
        "df6 = pd.read_csv('./simulation_results/2023-06-21_04-30-41.csv')\n",
        "df7 = pd.read_csv('./simulation_results/2023-06-21_07-09-30.csv')\n",
        "df8 = pd.read_csv('./simulation_results/2023-06-21_09-20-57.csv')\n",
        "df9 = pd.read_csv('./simulation_results/2023-06-21_11-51-57.csv') # block\n",
        "df10 = pd.read_csv('./simulation_results/2023-06-21_14-36-43.csv') # block\n",
        "df11 = pd.read_csv('./simulation_results/2023-06-21_17-19-18.csv') # block"
      ],
      "id": "54e25c5e-9a2e-4da0-aa9c-db94714f2792"
    },
    {
      "cell_type": "code",
      "execution_count": 123,
      "metadata": {},
      "outputs": [],
      "source": [
        "df12 = pd.read_csv('./simulation_results/2023-08-01_02-30-03.csv')\n",
        "df13 = pd.read_csv('./simulation_results/2023-08-01_04-38-07.csv')\n",
        "df14 = pd.read_csv('./simulation_results/2023-08-01_06-53-47.csv')\n",
        "df15 = pd.read_csv('./simulation_results/2023-08-01_08-43-43.csv')\n",
        "df16 = pd.read_csv('./simulation_results/2023-08-01_11-09-51.csv')\n",
        "df17 = pd.read_csv('./simulation_results/2023-08-01_13-19-35.csv')\n",
        "df18 = pd.read_csv('./simulation_results/2023-08-01_15-26-19.csv')\n",
        "df19 = pd.read_csv('./simulation_results/2023-08-01_17-49-47.csv')\n",
        "df20 = pd.read_csv('./simulation_results/2023-08-01_19-29-51.csv') # block\n",
        "df21 = pd.read_csv('./simulation_results/2023-08-01_20-59-41.csv') # block\n",
        "df22 = pd.read_csv('./simulation_results/2023-08-01_22-33-11.csv') # block\n",
        "df23 = pd.read_csv('./simulation_results/2023-08-01_23-55-49.csv') # block"
      ],
      "id": "046ac980-f3aa-46e6-9f49-caf02606652c"
    },
    {
      "cell_type": "code",
      "execution_count": 124,
      "metadata": {},
      "outputs": [],
      "source": [
        "data = pd.concat([df1,df2,df3,df4,df5,df6,df7,df8,df9,df10,df11,df12,df13,df14,df15,df16,df17,df18,df19,df20,df21,df22,df23],axis=0)"
      ],
      "id": "1e60a51c-a368-4f7a-b4a2-ff9aee57a448"
    },
    {
      "cell_type": "code",
      "execution_count": 125,
      "metadata": {},
      "outputs": [],
      "source": [
        "data.to_csv('./simulation_results/Real_simulation_reshape/LRGCN_wikimath.csv',index=False)"
      ],
      "id": "82a90494-ec4c-4144-869f-590e8b38d9c9"
    },
    {
      "cell_type": "code",
      "execution_count": 126,
      "metadata": {},
      "outputs": [],
      "source": [
        "data = pd.read_csv('./simulation_results/Real_simulation_reshape/LRGCN_wikimath.csv')"
      ],
      "id": "64f1de23-07ae-439f-a14e-ae92bee97c6a"
    },
    {
      "cell_type": "markdown",
      "metadata": {},
      "source": [
        "## Baseline"
      ],
      "id": "62f2a3df-180f-4223-8cac-cfa5c0bf74f6"
    },
    {
      "cell_type": "code",
      "execution_count": 127,
      "metadata": {},
      "outputs": [],
      "source": [
        "data.query(\"mrate==0 and method!='GNAR'\").plot.box(backend='plotly',x='mrate',color='method',y='mse',height=600)"
      ],
      "id": "e1dcbd2a-868c-4294-9c23-7cfeb801aa7b"
    },
    {
      "cell_type": "markdown",
      "metadata": {},
      "source": [
        "## random"
      ],
      "id": "9171d4e9-fb93-440e-b1ca-b25b7b8cf4e6"
    },
    {
      "cell_type": "code",
      "execution_count": 128,
      "metadata": {},
      "outputs": [],
      "source": [
        "data.query(\"mtype=='rand' and mrate !=0 and method!='GNAR'\").plot.box(backend='plotly',x='mrate',color='method',y='mse',facet_col='lags',facet_row='nof_filters',height=800)\n"
      ],
      "id": "c0ac238d-32c5-42f0-9bcf-a4bfdd38854a"
    },
    {
      "cell_type": "markdown",
      "metadata": {},
      "source": [
        "## block"
      ],
      "id": "e4f8b27c-e0bf-41f3-930f-22c62ca48882"
    },
    {
      "cell_type": "code",
      "execution_count": 129,
      "metadata": {},
      "outputs": [],
      "source": [
        "data.query(\"mtype=='block' and method!='GNAR'\").plot.box(backend='plotly',x='mrate',color='method',y='mse',facet_col='lags',facet_row='nof_filters',height=1200)\n"
      ],
      "id": "613bbb96-2aa3-4af6-b484-146b386d3e1c"
    },
    {
      "cell_type": "markdown",
      "metadata": {},
      "source": [
        "## missing values on the same nodes"
      ],
      "id": "fbe5dd24-2100-4487-828a-746cf39da869"
    },
    {
      "cell_type": "code",
      "execution_count": 241,
      "metadata": {
        "tags": []
      },
      "outputs": [],
      "source": [
        "df1 = pd.read_csv('./simulation_results/2023-06-21_19-31-38.csv') # STGCN IT-STGCN block\n",
        "df2 = pd.read_csv('./simulation_results/2023-06-21_22-43-39.csv') # STGCN IT-STGCN\n",
        "df3 = pd.read_csv('./simulation_results/2023-06-22_02-04-05.csv') "
      ],
      "id": "d916c0af-724f-4395-85bf-c4cb33e05e11"
    },
    {
      "cell_type": "code",
      "execution_count": 242,
      "metadata": {},
      "outputs": [],
      "source": [
        "data = pd.concat([df1,df2,df3],axis=0)"
      ],
      "id": "2d58f2bb-b116-4246-9387-78aa4bd7ae2a"
    },
    {
      "cell_type": "code",
      "execution_count": 243,
      "metadata": {},
      "outputs": [],
      "source": [
        "data.to_csv('./simulation_results/Real_simulation_reshape/LRGCN_wikimath_GSO_st.csv',index=False)"
      ],
      "id": "0d7dba8e-5574-47e4-9bd8-aa56f71599c4"
    },
    {
      "cell_type": "code",
      "execution_count": 244,
      "metadata": {},
      "outputs": [],
      "source": [
        "data = pd.read_csv('./simulation_results/Real_simulation_reshape/LRGCN_wikimath_GSO_st.csv')"
      ],
      "id": "ce3fd900-bdff-47a8-a5f5-243b4d54f07f"
    },
    {
      "cell_type": "code",
      "execution_count": 245,
      "metadata": {},
      "outputs": [],
      "source": [
        "data.query(\"method!='GNAR' and mtype =='block' \").plot.box(backend='plotly',x='mrate',color='method',y='mse',facet_col='inter_method',facet_row='lags',height=800)\n"
      ],
      "id": "94f74503-0649-4c89-9e01-4db364353e82"
    },
    {
      "cell_type": "markdown",
      "metadata": {},
      "source": [
        "# Windmilsmall"
      ],
      "id": "21e00d99-9551-4895-a8f6-e6bd3f5db163"
    },
    {
      "cell_type": "code",
      "execution_count": 219,
      "metadata": {},
      "outputs": [],
      "source": [
        "# Random\n",
        "df1 = pd.read_csv('./simulation_results/2023-08-02_11-08-22.csv') # STGCN IT-STGCN 70%\n",
        "df2 = pd.read_csv('./simulation_results/2023-08-02_22-18-24.csv') # STGCN IT-STGCN\n",
        "df3 = pd.read_csv('./simulation_results/2023-08-03_09-32-32.csv') # STGCN IT-STGCN\n",
        "df4 = pd.read_csv('./simulation_results/2023-08-03_20-41-09.csv') # STGCN IT-STGCN\n",
        "df5 = pd.read_csv('./simulation_results/2023-08-04_07-26-44.csv') # STGCN IT-STGCN\n",
        "df6 = pd.read_csv('./simulation_results/2023-08-04_16-28-52.csv') # GNAR 30%, 50%, 70% # 뭔가 일단 필요없어서 데이터셋에서 뺌\n",
        "df7 = pd.read_csv('./simulation_results/2023-08-05_02-03-12.csv') # STGCN IT-STGCN\n",
        "df8 = pd.read_csv('./simulation_results/2023-08-05_14-10-47.csv') # STGCN IT-STGCN\n",
        "df9 = pd.read_csv('./simulation_results/2023-08-06_03-34-44.csv') # STGCN IT-STGCN\n",
        "df10 = pd.read_csv('./simulation_results/2023-08-06_17-16-48.csv') # STGCN IT-STGCN\n",
        "df11 = pd.read_csv('./simulation_results/2023-08-07_07-08-23.csv') # STGCN IT-STGCN\n",
        "df12 = pd.read_csv('./simulation_results/2023-08-07_21-28-11.csv') # STGCN IT-STGCN\n",
        "df13 = pd.read_csv('./simulation_results/2023-08-08_08-49-13.csv') # STGCN IT-STGCN\n",
        "df14 = pd.read_csv('./simulation_results/2023-08-08_19-20-11.csv') # STGCN IT-STGCN\n",
        "df15 = pd.read_csv('./simulation_results/2023-08-09_05-29-45.csv') # STGCN IT-STGCN\n",
        "df16 = pd.read_csv('./simulation_results/2023-08-09_15-56-52.csv') # STGCN IT-STGCN\n",
        "df17 = pd.read_csv('./simulation_results/2023-08-10_01-35-37.csv') # STGCN IT-STGCN\n",
        "df18 = pd.read_csv('./simulation_results/2023-08-10_11-02-51.csv') # STGCN IT-STGCN\n",
        "df19 = pd.read_csv('./simulation_results/2023-08-10_23-29-00.csv') # STGCN IT-STGCN\n",
        "# df20 = pd.read_csv('./simulation_results/2023-04-20_16-08-39.csv') # STGCN IT-STGCN\n",
        "# df21 = pd.read_csv('./simulation_results/2023-04-20_22-09-37.csv') # STGCN IT-STGCN\n",
        "# df22 = pd.read_csv('./simulation_results/2023-04-20_23-48-26.csv') # STGCN IT-STGCN\n",
        "# df23 = pd.read_csv('./simulation_results/2023-04-21_05-36-47.csv') # STGCN IT-STGCN\n",
        "# df24 = pd.read_csv('./simulation_results/2023-04-21_15-26-00.csv') # STGCN IT-STGCN\n",
        "# df25 = pd.read_csv('./simulation_results/2023-04-21_23-27-11.csv') # STGCN IT-STGCN\n",
        "# df26 = pd.read_csv('./simulation_results/2023-04-22_07-46-08.csv') # STGCN IT-STGCN\n",
        "# df27 = pd.read_csv('./simulation_results/2023-04-22_15-45-20.csv') # STGCN IT-STGCN\n",
        "# df28 = pd.read_csv('./simulation_results/2023-04-22_22-57-31.csv') # STGCN IT-STGCN\n",
        "# df29 = pd.read_csv('./simulation_results/2023-04-23_07-00-15.csv') # STGCN IT-STGCN\n",
        "# df30 = pd.read_csv('./simulation_results/2023-04-23_15-18-02.csv') # STGCN IT-STGCN\n",
        "# Block\n",
        "df31 = pd.read_csv('./simulation_results/2023-08-10_02-32-37.csv') # GNAR 70%\n",
        "df32 = pd.read_csv('./simulation_results/2023-08-10_11-51-46.csv') # GNAR \n",
        "df33 = pd.read_csv('./simulation_results/2023-08-11_00-20-18.csv')\n",
        "# df34 = pd.read_csv('./simulation_results/2023-05-01_02-55-33.csv')\n",
        "# df35 = pd.read_csv('./simulation_results/2023-05-01_10-21-15.csv')\n",
        "# df36 = pd.read_csv('./simulation_results/2023-05-01_19-23-57.csv')\n",
        "# df37 = pd.read_csv('./simulation_results/2023-05-02_01-10-53.csv')\n",
        "# df38 = pd.read_csv('./simulation_results/2023-05-02_08-26-53.csv')\n",
        "# df39 = pd.read_csv('./simulation_results/2023-05-02_16-00-40.csv')\n",
        "# df40 = pd.read_csv('./simulation_results/2023-05-03_00-34-09.csv')\n",
        "# df41 = pd.read_csv('./simulation_results/2023-05-03_08-04-42.csv')\n",
        "# df42 = pd.read_csv('./simulation_results/2023-05-03_15-50-50.csv')\n",
        "# df43 = pd.read_csv('./simulation_results/2023-05-03_23-46-56.csv')\n",
        "# df44 = pd.read_csv('./simulation_results/2023-05-04_05-22-59.csv')\n",
        "# df45 = pd.read_csv('./simulation_results/2023-05-04_09-22-37.csv')\n",
        "# df46 = pd.read_csv('./simulation_results/2023-05-04_15-00-57.csv')\n",
        "# df47 = pd.read_csv('./simulation_results/2023-05-04_23-41-21.csv')\n",
        "# df48 = pd.read_csv('./simulation_results/2023-05-05_07-23-04.csv')\n",
        "# df49 = pd.read_csv('./simulation_results/2023-05-05_15-03-17.csv')\n",
        "# df50 = pd.read_csv('./simulation_results/2023-05-06_05-18-07.csv')\n",
        "# df51 = pd.read_csv('./simulation_results/2023-05-06_12-57-14.csv')\n",
        "# df52 = pd.read_csv('./simulation_results/2023-05-06_19-10-23.csv')\n",
        "# df53 = pd.read_csv('./simulation_results/2023-05-07_03-20-10.csv')\n",
        "# df54 = pd.read_csv('./simulation_results/2023-05-07_11-26-24.csv')\n",
        "# df55 = pd.read_csv('./simulation_results/2023-05-08_00-04-56.csv')\n",
        "# df56 = pd.read_csv('./simulation_results/2023-05-08_04-27-01.csv')\n",
        "# df57 = pd.read_csv('./simulation_results/2023-05-08_10-06-55.csv')\n",
        "# df58 = pd.read_csv('./simulation_results/2023-05-08_17-50-36.csv')\n",
        "# df59 = pd.read_csv('./simulation_results/2023-05-09_03-28-08.csv')\n",
        "# df60 = pd.read_csv('./simulation_results/2023-05-09_11-08-10.csv')\n",
        "# # baseline\n",
        "# df61 = pd.read_csv('./simulation_results/2023-05-09_20-11-45.csv')\n",
        "# df62 = pd.read_csv('./simulation_results/2023-07-31_13-35-49.csv')\n",
        "# df63 = pd.read_csv('./simulation_results/2023-07-31_22-10-45.csv')\n",
        "# df64 = pd.read_csv('./simulation_results/2023-08-01_08-16-01.csv')\n",
        "# df65 = pd.read_csv('./simulation_results/2023-08-01_18-18-12.csv')\n",
        "# df66 = pd.read_csv('./simulation_results/2023-08-02_03-01-38.csv')\n",
        "# df67 = pd.read_csv('./simulation_results/2023-07-22_07-03-52.csv')\n",
        "# df68 = pd.read_csv('./simulation_results/2023-07-22_17-31-45.csv') # 확인 후 block 만 넣기!\n",
        "# df69 = pd.read_csv('./simulation_results/2023-07-22_19-44-00.csv')\n",
        "# df70 = pd.read_csv('./simulation_results/2023-07-23_05-22-58.csv')\n",
        "# df71 = pd.read_csv('./simulation_results/2023-07-23_07-55-51.csv')\n",
        "# df72 = pd.read_csv('./simulation_results/2023-07-23_17-42-13.csv')\n",
        "# df73 = pd.read_csv('./simulation_results/2023-07-23_20-30-21.csv')\n",
        "# df74 = pd.read_csv('./simulation_results/2023-07-24_05-41-08.csv')\n",
        "# df75 = pd.read_csv('./simulation_results/2023-07-24_07-54-06.csv')\n",
        "# df76 = pd.read_csv('./simulation_results/2023-07-24_17-39-27.csv')\n",
        "# df77 = pd.read_csv('./simulation_results/2023-07-24_19-53-21.csv')\n",
        "# df78 = pd.read_csv('./simulation_results/2023-07-25_05-57-37.csv')\n",
        "# df79 = pd.read_csv('./simulation_results/2023-07-25_08-15-18.csv')\n",
        "# df80 = pd.read_csv('./simulation_results/2023-07-25_16-42-39.csv')\n",
        "# df81 = pd.read_csv('./simulation_results/2023-07-26_04-43-08.csv')\n",
        "# df82 = pd.read_csv('./simulation_results/2023-07-26_17-00-20.csv')\n",
        "# df83 = pd.read_csv('./simulation_results/2023-07-26_17-11-59.csv')\n",
        "# df84 = pd.read_csv('./simulation_results/2023-07-27_04-12-22.csv')\n",
        "# df85 = pd.read_csv('./simulation_results/2023-07-27_09-40-00.csv')\n",
        "# df86 = pd.read_csv('./simulation_results/2023-07-28_01-55-45.csv')\n",
        "# df87 = pd.read_csv('./simulation_results/2023-07-28_22-32-45.csv')\n",
        "# df88 = pd.read_csv('./simulation_results/2023-07-29_08-57-46.csv')\n",
        "# df89 = pd.read_csv('./simulation_results/2023-07-29_19-26-33.csv')\n",
        "# df90 = pd.read_csv('./simulation_results/2023-07-30_05-12-15.csv')"
      ],
      "id": "c326e918-b293-4919-96be-100278d5d9cf"
    },
    {
      "cell_type": "code",
      "execution_count": 220,
      "metadata": {},
      "outputs": [],
      "source": [
        "data = pd.concat([df1,df2,df3,df4,df5,df6,df7,df8,df9,df10,df11,df12,df13,df14,df15,df16,df17,df18,df19,\n",
        "                 df31,df32,df33],axis=0)"
      ],
      "id": "3e7de966-20be-4a5d-81a6-ce43fd659b87"
    },
    {
      "cell_type": "code",
      "execution_count": 221,
      "metadata": {},
      "outputs": [],
      "source": [
        "data.to_csv('./simulation_results/Real_simulation_reshape/LRGCN_windmillsmall.csv',index=False)"
      ],
      "id": "482e5125-30a9-4398-b72b-29c23cf1e263"
    },
    {
      "cell_type": "code",
      "execution_count": 222,
      "metadata": {},
      "outputs": [],
      "source": [
        "data = pd.read_csv('./simulation_results/Real_simulation_reshape/LRGCN_windmillsmall.csv')"
      ],
      "id": "14699752-501c-474b-a4f9-c0250fb42fbf"
    },
    {
      "cell_type": "markdown",
      "metadata": {},
      "source": [
        "## Baseline"
      ],
      "id": "808f332a-dcdd-4e86-8239-658800620f81"
    },
    {
      "cell_type": "code",
      "execution_count": null,
      "metadata": {},
      "outputs": [],
      "source": [
        "data.query(\"method!='GNAR' and mrate ==0 \").plot.box(backend='plotly',x='mrate',color='method',y='mse',facet_col='lags',height=800)\n"
      ],
      "id": "6f45e815-8593-49c5-954c-7afd7665493f"
    },
    {
      "cell_type": "markdown",
      "metadata": {},
      "source": [
        "## random"
      ],
      "id": "94b3631f-ff7f-4cf1-9cdb-cbb491b9cd6b"
    },
    {
      "cell_type": "code",
      "execution_count": 223,
      "metadata": {},
      "outputs": [],
      "source": [
        "data.query(\"method!='GNAR' and mtype =='rand' \").plot.box(backend='plotly',x='mrate',color='method',y='mse',facet_col='lags',facet_row='inter_method',height=800)\n"
      ],
      "id": "3476f0cc-1987-45f2-81f2-6099e59e99a7"
    },
    {
      "cell_type": "markdown",
      "metadata": {},
      "source": [
        "## block"
      ],
      "id": "32aff9c5-7684-4cb5-b1f4-59ca1a273889"
    },
    {
      "cell_type": "code",
      "execution_count": 224,
      "metadata": {},
      "outputs": [],
      "source": [
        "data.query(\"method!='GNAR' and mtype =='block' \").plot.box(backend='plotly',x='mrate',color='method',y='mse',facet_col='lags',facet_row='inter_method',height=800)\n"
      ],
      "id": "1b61ced3-cf4b-43d3-8228-68c62ca57f1a"
    },
    {
      "cell_type": "markdown",
      "metadata": {},
      "source": [
        "# Montevideobus"
      ],
      "id": "04597776-c1f3-4d8c-a6de-dec8eb8dbb60"
    },
    {
      "cell_type": "code",
      "execution_count": 97,
      "metadata": {},
      "outputs": [],
      "source": [
        "df1 = pd.read_csv('./simulation_results/2023-06-20_14-22-23.csv') # lags 8\n",
        "df2 = pd.read_csv('./simulation_results/2023-06-20_16-44-49.csv') # lags 8\n",
        "df3 = pd.read_csv('./simulation_results/2023-06-20_19-09-29.csv') # lags 8\n",
        "df4 = pd.read_csv('./simulation_results/2023-06-20_21-32-02.csv') # lags 8\n",
        "df5 = pd.read_csv('./simulation_results/2023-06-20_23-35-39.csv') # lags 8\n",
        "df6 = pd.read_csv('./simulation_results/2023-06-21_01-53-54.csv') # lags 8"
      ],
      "id": "2973e64d-5055-48ce-abf6-a54b52d2b396"
    },
    {
      "cell_type": "code",
      "execution_count": 98,
      "metadata": {},
      "outputs": [],
      "source": [
        "df7 = pd.read_csv('./simulation_results/2023-07-24_08-41-55.csv') # lags 8\n",
        "df8 = pd.read_csv('./simulation_results/2023-07-24_10-33-20.csv') # lags 8\n",
        "df9 = pd.read_csv('./simulation_results/2023-07-24_12-20-53.csv') # lags 8\n",
        "df10 = pd.read_csv('./simulation_results/2023-07-24_14-09-27.csv') # lags 8\n",
        "df11 = pd.read_csv('./simulation_results/2023-07-24_15-55-20.csv') # lags 8\n",
        "df12 = pd.read_csv('./simulation_results/2023-07-24_17-44-42.csv') # lags 8\n",
        "df13 = pd.read_csv('./simulation_results/2023-07-24_19-33-32.csv') # lags 8\n",
        "df14 = pd.read_csv('./simulation_results/2023-07-24_21-18-09.csv') # lags 8\n",
        "df15 = pd.read_csv('./simulation_results/2023-07-24_23-08-46.csv') # lags 8"
      ],
      "id": "ea9e1749-8319-4546-a9dd-fad518362691"
    },
    {
      "cell_type": "code",
      "execution_count": 99,
      "metadata": {},
      "outputs": [],
      "source": [
        "data = pd.concat([df1,df2,df3,df4,df5,df6,df7,df8,df9,df10,df11,df12,df13,df14,df15],axis=0)"
      ],
      "id": "376e0c27-308e-4ed8-a3d8-0bd6c6d23b9b"
    },
    {
      "cell_type": "code",
      "execution_count": 100,
      "metadata": {},
      "outputs": [],
      "source": [
        "data.to_csv('./simulation_results/Real_simulation_reshape/LRGCN_monte.csv',index=False)"
      ],
      "id": "4bc6f95e-9f0d-4652-841c-ce9508793100"
    },
    {
      "cell_type": "code",
      "execution_count": 101,
      "metadata": {},
      "outputs": [],
      "source": [
        "data = pd.read_csv('./simulation_results/Real_simulation_reshape/LRGCN_monte.csv')"
      ],
      "id": "70186c1d-8c70-49bd-90d5-5b967762da1e"
    },
    {
      "cell_type": "markdown",
      "metadata": {},
      "source": [
        "## Baseline"
      ],
      "id": "525e0e3c-19b2-40f0-906f-242a4030a339"
    },
    {
      "cell_type": "code",
      "execution_count": 102,
      "metadata": {},
      "outputs": [],
      "source": [
        "data.query(\"mrate==0 and method!='GNAR'\").plot.box(backend='plotly',x='mrate',color='method',y='mse',facet_col='lags',facet_row='nof_filters',height=600)"
      ],
      "id": "21ee2aed-3bf1-429e-9a3f-a09a7b891175"
    },
    {
      "cell_type": "markdown",
      "metadata": {},
      "source": [
        "## random"
      ],
      "id": "2f377862-0c40-46d8-bdb4-684344edca44"
    },
    {
      "cell_type": "code",
      "execution_count": 103,
      "metadata": {},
      "outputs": [],
      "source": [
        "data.query(\"mtype=='rand' and mrate !=0 and method!='GNAR'\").plot.box(backend='plotly',x='mrate',color='method',y='mse',facet_col='lags',facet_row='inter_method',height=800)\n"
      ],
      "id": "accbf5e4-e288-4faa-bf27-fecafdded4a7"
    },
    {
      "cell_type": "markdown",
      "metadata": {},
      "source": [
        "## block"
      ],
      "id": "c69e740b-432c-4b8e-b8ad-b9885ee22195"
    },
    {
      "cell_type": "code",
      "execution_count": 104,
      "metadata": {},
      "outputs": [],
      "source": [
        "data.query(\"mtype=='block' and method!='GNAR'\").plot.box(backend='plotly',x='mrate',color='method',y='mse',facet_col='lags',facet_row='nof_filters',height=1200)\n"
      ],
      "id": "fe2ac417-75d8-4d9e-9b06-989f2f3953d9"
    }
  ],
  "nbformat": 4,
  "nbformat_minor": 5,
  "metadata": {
    "kernelspec": {
      "name": "python3",
      "display_name": "Python 3",
      "language": "python"
    },
    "language_info": {
      "name": "python",
      "codemirror_mode": {
        "name": "ipython",
        "version": "3"
      },
      "file_extension": ".py",
      "mimetype": "text/x-python",
      "nbconvert_exporter": "python",
      "pygments_lexer": "ipython3",
      "version": "3.8.0"
    }
  }
}
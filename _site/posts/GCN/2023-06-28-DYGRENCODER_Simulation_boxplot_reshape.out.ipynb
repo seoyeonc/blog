{
  "cells": [
    {
      "cell_type": "markdown",
      "metadata": {},
      "source": [
        "# DYGRENCODER_Simulation_reshape\n",
        "\n",
        "SEOYEON CHOI  \n",
        "2023-06-28\n",
        "\n",
        "> Simulation Study\n",
        "\n",
        "# Import"
      ],
      "id": "04847a86-b4cf-43d6-894e-1c395cabd2fb"
    },
    {
      "cell_type": "code",
      "execution_count": 2,
      "metadata": {},
      "outputs": [],
      "source": [
        "import matplotlib.pyplot as plt\n",
        "import pandas as pd\n",
        "import numpy as np"
      ],
      "id": "97cfaa6d-11ad-460b-874c-01c8e2c14e70"
    },
    {
      "cell_type": "markdown",
      "metadata": {},
      "source": [
        "# Fivenodes"
      ],
      "id": "d9014243-dd8d-4bcc-95f3-c3f2f0ba56a1"
    },
    {
      "cell_type": "code",
      "execution_count": 3,
      "metadata": {},
      "outputs": [],
      "source": [
        "df1 = pd.read_csv('./simulation_results/2023-06-29_18-32-37.csv')\n",
        "df2 = pd.read_csv('./simulation_results/2023-06-29_19-03-08.csv')\n",
        "df3 = pd.read_csv('./simulation_results/2023-06-29_19-30-06.csv')\n",
        "df4 = pd.read_csv('./simulation_results/2023-06-29_19-56-06.csv')\n",
        "df5 = pd.read_csv('./simulation_results/2023-06-29_20-24-32.csv')\n",
        "df6 = pd.read_csv('./simulation_results/2023-06-29_20-51-36.csv')\n",
        "df7 = pd.read_csv('./simulation_results/2023-06-29_21-23-07.csv')\n",
        "df8 = pd.read_csv('./simulation_results/2023-06-29_21-51-08.csv')"
      ],
      "id": "58a7de0e-0147-4be6-ae52-f391e068d404"
    },
    {
      "cell_type": "code",
      "execution_count": 3,
      "metadata": {},
      "outputs": [],
      "source": [
        "df9 = pd.read_csv('./simulation_results/2023-07-19_11-51-08.csv')\n",
        "df10 = pd.read_csv('./simulation_results/2023-07-19_12-40-54.csv')\n",
        "df11 = pd.read_csv('./simulation_results/2023-07-19_13-33-52.csv')\n",
        "df12 = pd.read_csv('./simulation_results/2023-07-19_14-21-16.csv')\n",
        "df13 = pd.read_csv('./simulation_results/2023-07-19_15-14-51.csv')\n",
        "df14 = pd.read_csv('./simulation_results/2023-07-19_16-04-07.csv')"
      ],
      "id": "facee974-3dde-4c4c-b9cb-1226cc83c5fb"
    },
    {
      "cell_type": "code",
      "execution_count": 4,
      "metadata": {},
      "outputs": [],
      "source": [
        "data = pd.concat([df1,df2,df3,df4,df5,df6,df7,df8,df9,df10,df11,df12,df13,df14],axis=0)"
      ],
      "id": "243c8ac3-63ef-463b-920c-732bcea5b27d"
    },
    {
      "cell_type": "code",
      "execution_count": 5,
      "metadata": {},
      "outputs": [],
      "source": [
        "data.to_csv('./simulation_results/Real_simulation_reshape/DYGRENCODER_fivedones_Simulation.csv',index=False)"
      ],
      "id": "6531c324-827c-4f7f-aef7-90da0b1f2c23"
    },
    {
      "cell_type": "code",
      "execution_count": 6,
      "metadata": {},
      "outputs": [],
      "source": [
        "data = pd.read_csv('./simulation_results/Real_simulation_reshape/DYGRENCODER_fivedones_Simulation.csv')"
      ],
      "id": "2029a91d-4dc4-4eb2-8f9d-63d4727f4c94"
    },
    {
      "cell_type": "markdown",
      "metadata": {},
      "source": [
        "## Baseline"
      ],
      "id": "0fb7b3a0-ca46-46b0-aef4-61d4687a97b8"
    },
    {
      "cell_type": "code",
      "execution_count": 7,
      "metadata": {
        "tags": []
      },
      "outputs": [],
      "source": [
        "data.query(\"method!='GNAR' and mrate==0\").plot.box(backend='plotly',x='mrate',color='method',y='mse',facet_col='lags',facet_row='nof_filters',height=600)\n"
      ],
      "id": "14023051-c860-4a46-9df4-5408996cdce4"
    },
    {
      "cell_type": "markdown",
      "metadata": {},
      "source": [
        "## Random"
      ],
      "id": "41a4bc51-d916-4601-961f-a91ca32b8a6f"
    },
    {
      "cell_type": "code",
      "execution_count": 8,
      "metadata": {},
      "outputs": [],
      "source": [
        "data.query(\"method!='GNAR' and mtype =='rand'\").plot.box(backend='plotly',x='mrate',color='method',y='mse',facet_col='inter_method',facet_row='nof_filters',height=600)\n",
        "\n"
      ],
      "id": "8571d995-8823-48ef-8324-d8acc3ee8f62"
    },
    {
      "cell_type": "markdown",
      "metadata": {},
      "source": [
        "## Block"
      ],
      "id": "8c899c12-6a1c-4bda-8277-06b8194a61c7"
    },
    {
      "cell_type": "code",
      "execution_count": 9,
      "metadata": {},
      "outputs": [],
      "source": [
        "data.query(\"method!='GNAR' and mtype =='block' \").plot.box(backend='plotly',x='mrate',color='method',y='mse',facet_col='inter_method',facet_row='nof_filters',height=600)\n"
      ],
      "id": "d92ed59b-42da-442b-a3e7-42a1e6e89aea"
    },
    {
      "cell_type": "markdown",
      "metadata": {},
      "source": [
        "# chickenpox"
      ],
      "id": "ecc72891-b072-4afa-9983-f476e99b41d4"
    },
    {
      "cell_type": "code",
      "execution_count": 28,
      "metadata": {},
      "outputs": [],
      "source": [
        "df1 = pd.read_csv('./simulation_results/2023-06-29_22-35-38.csv') # GNAR random\n",
        "df2 = pd.read_csv('./simulation_results/2023-06-29_23-18-24.csv') # GNAR block\n",
        "df3 = pd.read_csv('./simulation_results/2023-06-30_01-07-15.csv')\n",
        "df4 = pd.read_csv('./simulation_results/2023-06-30_02-53-54.csv') \n",
        "df5 = pd.read_csv('./simulation_results/2023-06-30_20-40-01.csv')\n",
        "df6 = pd.read_csv('./simulation_results/2023-06-30_22-28-57.csv') "
      ],
      "id": "3e66680d-3b56-4295-b4da-c8988c6ceb77"
    },
    {
      "cell_type": "code",
      "execution_count": 29,
      "metadata": {},
      "outputs": [],
      "source": [
        "df7 = pd.read_csv('./simulation_results/2023-07-19_17-15-37.csv') # GNAR random\n",
        "df8 = pd.read_csv('./simulation_results/2023-07-19_18-36-12.csv') # GNAR block\n",
        "df9 = pd.read_csv('./simulation_results/2023-07-19_19-50-51.csv')\n",
        "df10 = pd.read_csv('./simulation_results/2023-07-19_21-33-18.csv') "
      ],
      "id": "a7b031fe-7ad5-4ecd-bcd4-4e2267c92054"
    },
    {
      "cell_type": "code",
      "execution_count": 30,
      "metadata": {},
      "outputs": [],
      "source": [
        "data = pd.concat([df1,df2,df3,df4,df5,df6,df7,df8,df9,df10],axis=0)"
      ],
      "id": "3a15858e-07b2-460c-86c6-49ee4deeb10d"
    },
    {
      "cell_type": "code",
      "execution_count": 31,
      "metadata": {},
      "outputs": [],
      "source": [
        "data.to_csv('./simulation_results/Real_simulation_reshape/DYGRENCODER_chikenpox_Simulation.csv',index=False)"
      ],
      "id": "158398fa-ae55-4525-8535-eb323b1c4b6b"
    },
    {
      "cell_type": "code",
      "execution_count": 32,
      "metadata": {},
      "outputs": [],
      "source": [
        "data = pd.read_csv('./simulation_results/Real_simulation_reshape/DYGRENCODER_chikenpox_Simulation.csv')"
      ],
      "id": "dc861068-2821-4447-a4b7-3cb5b4a0ed8c"
    },
    {
      "cell_type": "markdown",
      "metadata": {},
      "source": [
        "## Baseline"
      ],
      "id": "1d35787f-9552-46cd-a3e0-24ff6382ff0e"
    },
    {
      "cell_type": "code",
      "execution_count": 33,
      "metadata": {},
      "outputs": [],
      "source": [
        "data.query(\"method!='GNAR' and mrate ==0 \").plot.box(backend='plotly',x='mrate',color='method',y='mse',facet_col='nof_filters',height=600)\n"
      ],
      "id": "3eff320e-bd1b-402d-9a5e-14f78826f5e5"
    },
    {
      "cell_type": "markdown",
      "metadata": {},
      "source": [
        "## Random"
      ],
      "id": "9e74603f-4f08-4f46-a6cf-b265d4548665"
    },
    {
      "cell_type": "code",
      "execution_count": 34,
      "metadata": {},
      "outputs": [],
      "source": [
        "data.query(\"method!='GNAR' and mtype =='rand'\").plot.box(backend='plotly',x='mrate',color='method',y='mse',facet_col='nof_filters',facet_row='inter_method',height=800)\n"
      ],
      "id": "bd4b2c53-f49c-43b0-9f30-840ff46d3db2"
    },
    {
      "cell_type": "markdown",
      "metadata": {},
      "source": [
        "## Block"
      ],
      "id": "5a928f3e-94b2-4ff9-993d-55bb8eb379a9"
    },
    {
      "cell_type": "code",
      "execution_count": 35,
      "metadata": {},
      "outputs": [],
      "source": [
        "data.query(\"method!='GNAR' and mtype =='block'\").plot.box(backend='plotly',x='mrate',color='method',y='mse',facet_col='inter_method',facet_row='lags',height=800)\n"
      ],
      "id": "9b5ad264-8a84-46ae-a866-33587dc9e160"
    },
    {
      "cell_type": "markdown",
      "metadata": {},
      "source": [
        "# Pedalme"
      ],
      "id": "020e06da-f519-4396-826d-4a3752b73926"
    },
    {
      "cell_type": "code",
      "execution_count": 36,
      "metadata": {},
      "outputs": [],
      "source": [
        "df1 = pd.read_csv('./simulation_results/2023-06-30_03-34-45.csv') \n",
        "df2 = pd.read_csv('./simulation_results/2023-06-30_03-48-08.csv')  "
      ],
      "id": "d4636a02-2db0-4676-a73b-9c7566c258f4"
    },
    {
      "cell_type": "code",
      "execution_count": 37,
      "metadata": {},
      "outputs": [],
      "source": [
        "df3 = pd.read_csv('./simulation_results/2023-07-19_22-14-42.csv') "
      ],
      "id": "2d6c719b-9f37-4720-8642-2b24fa31c79f"
    },
    {
      "cell_type": "code",
      "execution_count": 38,
      "metadata": {},
      "outputs": [],
      "source": [
        "data = pd.concat([df1,df2,df3],axis=0)"
      ],
      "id": "d22955cb-e046-49c8-890a-52ffe13e237d"
    },
    {
      "cell_type": "code",
      "execution_count": 39,
      "metadata": {},
      "outputs": [],
      "source": [
        "data.to_csv('./simulation_results/Real_simulation_reshape/DYGRENCODER_pedalme_Simulation.csv',index=False)"
      ],
      "id": "ee3ef5e8-7298-49dd-b21f-9644c30b5f77"
    },
    {
      "cell_type": "code",
      "execution_count": 40,
      "metadata": {},
      "outputs": [],
      "source": [
        "data = pd.read_csv('./simulation_results/Real_simulation_reshape/DYGRENCODER_pedalme_Simulation.csv')"
      ],
      "id": "446c16b2-85d5-4f90-b214-fe80c77bd0c9"
    },
    {
      "cell_type": "markdown",
      "metadata": {},
      "source": [
        "## Baseline"
      ],
      "id": "5128a736-380e-4e4f-97cd-6e4ae8971eda"
    },
    {
      "cell_type": "code",
      "execution_count": 41,
      "metadata": {},
      "outputs": [],
      "source": [
        "data.query(\"mrate ==0 and lags!=2\").plot.box(backend='plotly',x='epoch',color='method',y='mse',facet_col='nof_filters',facet_row='lags',height=400)\n"
      ],
      "id": "cd49941e-507b-496f-a9bc-9bb3936acc5e"
    },
    {
      "cell_type": "markdown",
      "metadata": {},
      "source": [
        "## random"
      ],
      "id": "2bbe6325-e53b-43cb-844c-2cbba4d47cb9"
    },
    {
      "cell_type": "code",
      "execution_count": 42,
      "metadata": {},
      "outputs": [],
      "source": [
        "data.query(\"method!='GNAR' and mtype =='rand' and lags!=2\").plot.box(backend='plotly',x='mrate',color='method',y='mse',facet_col='nof_filters',facet_row='inter_method',height=800)\n"
      ],
      "id": "5375fbb0-00f5-4073-94a0-025f757cf4e8"
    },
    {
      "cell_type": "markdown",
      "metadata": {},
      "source": [
        "## block"
      ],
      "id": "f370dfa8-cfdb-4921-bb30-d24ffd9696ba"
    },
    {
      "cell_type": "code",
      "execution_count": 43,
      "metadata": {},
      "outputs": [],
      "source": [
        "data.query(\"method!='GNAR' and mtype =='block' and lags!=2 \").plot.box(backend='plotly',x='mrate',color='method',y='mse',facet_col='nof_filters',facet_row='inter_method',height=800)\n"
      ],
      "id": "3a2b2904-0190-445f-b5e9-31f1306fb765"
    },
    {
      "cell_type": "markdown",
      "metadata": {},
      "source": [
        "## weight matrix time, node 고려한 결과"
      ],
      "id": "81f6c5a8-6829-45fe-bec7-46c52a2ac990"
    },
    {
      "cell_type": "code",
      "execution_count": 70,
      "metadata": {},
      "outputs": [],
      "source": [
        "df1 = pd.read_csv('./simulation_results/2023-06-30_13-25-56.csv')\n",
        "df2 = pd.read_csv('./simulation_results/2023-06-30_14-00-19.csv')"
      ],
      "id": "720eef33-a93e-4018-9f30-867b9446b918"
    },
    {
      "cell_type": "code",
      "execution_count": 71,
      "metadata": {},
      "outputs": [],
      "source": [
        "data2 = pd.concat([df1,df2],axis=0)"
      ],
      "id": "970e0d05-641f-4e2b-83f8-7995279164c6"
    },
    {
      "cell_type": "code",
      "execution_count": 72,
      "metadata": {},
      "outputs": [],
      "source": [
        "data2.to_csv('./simulation_results/Real_simulation_reshape/DYGRENCODER_pedalme_Simulation_itstgcnsnd.csv',index=False)"
      ],
      "id": "e4343248-a16d-47a3-9886-4ccb53c7aa45"
    },
    {
      "cell_type": "code",
      "execution_count": 73,
      "metadata": {},
      "outputs": [],
      "source": [
        "data2 = pd.read_csv('./simulation_results/Real_simulation_reshape/DYGRENCODER_pedalme_Simulation_itstgcnsnd.csv')"
      ],
      "id": "68c1f3d7-7e0f-4a6d-82d7-ba671275701a"
    },
    {
      "cell_type": "code",
      "execution_count": 74,
      "metadata": {},
      "outputs": [],
      "source": [
        "data2.query(\"mtype=='rand'\").plot.box(backend='plotly',x='mrate',color='method',y='mse',facet_col='inter_method',facet_row='nof_filters',height=1000)"
      ],
      "id": "908c378b-03a2-4bab-95ad-152d13daea50"
    },
    {
      "cell_type": "code",
      "execution_count": 75,
      "metadata": {},
      "outputs": [],
      "source": [
        "data2.query(\"mtype=='block'\").plot.box(backend='plotly',x='mrate',color='method',y='mse',facet_col='inter_method',facet_row='nof_filters',height=1000)"
      ],
      "id": "8a7f8af4-b4e1-4d20-8d06-3f6df5850440"
    },
    {
      "cell_type": "markdown",
      "metadata": {},
      "source": [
        "# Wikimath"
      ],
      "id": "f0afd5df-2f9c-4042-b436-5c3b5cb04d1f"
    },
    {
      "cell_type": "code",
      "execution_count": 98,
      "metadata": {},
      "outputs": [],
      "source": [
        "df1 = pd.read_csv('./simulation_results/2023-06-30_02-53-36.csv')\n",
        "df2 = pd.read_csv('./simulation_results/2023-06-30_06-31-21.csv')\n",
        "df3 = pd.read_csv('./simulation_results/2023-06-30_10-03-24.csv')\n",
        "df4 = pd.read_csv('./simulation_results/2023-06-30_15-50-56.csv')\n",
        "df5 = pd.read_csv('./simulation_results/2023-06-30_21-17-48.csv')\n",
        "df6 = pd.read_csv('./simulation_results/2023-07-01_00-13-15.csv')\n",
        "df7 = pd.read_csv('./simulation_results/2023-07-01_03-01-56.csv')\n",
        "df8 = pd.read_csv('./simulation_results/2023-07-01_05-42-24.csv')\n",
        "df9 = pd.read_csv('./simulation_results/2023-07-01_08-30-04.csv') # block\n",
        "df10 = pd.read_csv('./simulation_results/2023-07-01_11-32-33.csv') # block\n",
        "df11 = pd.read_csv('./simulation_results/2023-07-01_14-38-22.csv') # block"
      ],
      "id": "72dcb6b8-b2df-41e4-8ebd-5eb2a02c97af"
    },
    {
      "cell_type": "code",
      "execution_count": 99,
      "metadata": {},
      "outputs": [],
      "source": [
        "df12 = pd.read_csv('./simulation_results/2023-08-06_04-42-31.csv')\n",
        "df13 = pd.read_csv('./simulation_results/2023-08-06_09-09-26.csv')\n",
        "df14 = pd.read_csv('./simulation_results/2023-08-06_12-31-54.csv')\n",
        "df15 = pd.read_csv('./simulation_results/2023-08-06_14-41-11.csv')\n",
        "df16 = pd.read_csv('./simulation_results/2023-08-06_17-12-58.csv')\n",
        "df17 = pd.read_csv('./simulation_results/2023-08-06_20-50-45.csv')\n",
        "df18 = pd.read_csv('./simulation_results/2023-08-07_00-36-51.csv')\n",
        "df19 = pd.read_csv('./simulation_results/2023-08-07_04-21-24.csv')\n",
        "df20 = pd.read_csv('./simulation_results/2023-08-07_06-15-25.csv') # block\n",
        "df21 = pd.read_csv('./simulation_results/2023-08-07_08-07-18.csv') # block\n",
        "df22 = pd.read_csv('./simulation_results/2023-08-07_10-21-36.csv') # block\n",
        "df23 = pd.read_csv('./simulation_results/2023-08-07_14-07-17.csv') # block"
      ],
      "id": "956e307c-a507-42bf-84d3-eb9ca0a10447"
    },
    {
      "cell_type": "code",
      "execution_count": 100,
      "metadata": {},
      "outputs": [],
      "source": [
        "data = pd.concat([df1,df2,df3,df4,df5,df6,df7,df8,df9,df10,df11,df12,df13,df14,df15,df16,df17,df18,df19,df20,df21,df22,df23],axis=0)"
      ],
      "id": "2bdf1359-250a-4f81-b2e7-bfc3f4a15907"
    },
    {
      "cell_type": "code",
      "execution_count": 101,
      "metadata": {},
      "outputs": [],
      "source": [
        "data.to_csv('./simulation_results/Real_simulation_reshape/DYGRENCODER_wikimath.csv',index=False)"
      ],
      "id": "fe47b372-5e6c-485c-875c-3c8d879aabe5"
    },
    {
      "cell_type": "code",
      "execution_count": 102,
      "metadata": {},
      "outputs": [],
      "source": [
        "data = pd.read_csv('./simulation_results/Real_simulation_reshape/DYGRENCODER_wikimath.csv')"
      ],
      "id": "0e5750a8-48a8-4f57-8650-1894b033996a"
    },
    {
      "cell_type": "markdown",
      "metadata": {},
      "source": [
        "## Baseline"
      ],
      "id": "76ab3b48-052d-41fe-90d6-4933ff390900"
    },
    {
      "cell_type": "code",
      "execution_count": 94,
      "metadata": {},
      "outputs": [],
      "source": [
        "data.query(\"mrate==0 and method!='GNAR'\").plot.box(backend='plotly',x='mrate',color='method',y='mse',height=600)"
      ],
      "id": "b5d615c3-7255-4f7b-8c80-4f97f1d0ea9a"
    },
    {
      "cell_type": "markdown",
      "metadata": {},
      "source": [
        "## random"
      ],
      "id": "d30dfd81-e87d-402f-a893-663767ae812f"
    },
    {
      "cell_type": "code",
      "execution_count": 97,
      "metadata": {},
      "outputs": [],
      "source": [
        "data.query(\"mtype=='rand' and mrate !=0 and method!='GNAR'\").plot.box(backend='plotly',x='mrate',color='method',y='mse',facet_col='lags',facet_row='nof_filters',height=800)\n"
      ],
      "id": "0be1ccad-dd6e-42fe-b32d-8a4e48b17a96"
    },
    {
      "cell_type": "markdown",
      "metadata": {},
      "source": [
        "## block"
      ],
      "id": "9a56e143-0778-452c-bfea-239758320d58"
    },
    {
      "cell_type": "code",
      "execution_count": 96,
      "metadata": {},
      "outputs": [],
      "source": [
        "data.query(\"mtype=='block' and method!='GNAR'\").plot.box(backend='plotly',x='mrate',color='method',y='mse',facet_col='lags',facet_row='nof_filters',height=1200)\n"
      ],
      "id": "5b6befe4-45f6-4ecc-b2ea-69fd77089b87"
    },
    {
      "cell_type": "markdown",
      "metadata": {},
      "source": [
        "## missing values on the same nodes"
      ],
      "id": "25913363-e6d7-4f7c-a38c-44e9680f905b"
    },
    {
      "cell_type": "code",
      "execution_count": 122,
      "metadata": {
        "tags": []
      },
      "outputs": [],
      "source": [
        "df1 = pd.read_csv('./simulation_results/2023-07-01_17-41-40.csv') # STGCN IT-STGCN block\n",
        "df2 = pd.read_csv('./simulation_results/2023-07-01_21-00-26.csv') # STGCN IT-STGCN\n",
        "df3 = pd.read_csv('./simulation_results/2023-07-02_00-17-30.csv') "
      ],
      "id": "f804b18a-149e-48d5-ab30-9a0516fc611b"
    },
    {
      "cell_type": "code",
      "execution_count": 123,
      "metadata": {},
      "outputs": [],
      "source": [
        "data = pd.concat([df1,df2,df3],axis=0)"
      ],
      "id": "8947c20f-0acb-41e8-9a89-d122bf2c0d18"
    },
    {
      "cell_type": "code",
      "execution_count": 124,
      "metadata": {},
      "outputs": [],
      "source": [
        "data.to_csv('./simulation_results/Real_simulation_reshape/DYGRENCODER_wikimath_GSO_st.csv',index=False)"
      ],
      "id": "3082aa32-04c8-4a3e-9756-6634caf9c949"
    },
    {
      "cell_type": "code",
      "execution_count": 125,
      "metadata": {},
      "outputs": [],
      "source": [
        "data = pd.read_csv('./simulation_results/Real_simulation_reshape/DYGRENCODER_wikimath_GSO_st.csv')"
      ],
      "id": "9d39029d-2027-4858-aa8a-11a8f3628762"
    },
    {
      "cell_type": "code",
      "execution_count": 126,
      "metadata": {},
      "outputs": [],
      "source": [
        "data.query(\"method!='GNAR' and mtype =='block' \").plot.box(backend='plotly',x='mrate',color='method',y='mse',facet_col='inter_method',facet_row='lags',height=800)\n"
      ],
      "id": "5380ddb8-d5f5-49a0-b11f-89ad2db0ad41"
    },
    {
      "cell_type": "markdown",
      "metadata": {},
      "source": [
        "# Windmilsmall"
      ],
      "id": "531441d6-01cf-4764-b86d-0ead337f7145"
    },
    {
      "cell_type": "code",
      "execution_count": 127,
      "metadata": {},
      "outputs": [],
      "source": [
        "# df1 = pd.read_csv('./simulation_results/2023-05-27_03-20-28.csv') # STGCN IT-STGCN 70%\n",
        "# df2 = pd.read_csv('./simulation_results/2023-05-27_11-15-19.csv') # STGCN IT-STGCN\n",
        "# df3 = pd.read_csv('./simulation_results/2023-05-27_21-50-00.csv') # STGCN IT-STGCN\n",
        "# df4 = pd.read_csv('./simulation_results/2023-05-28_07-53-57.csv') # STGCN IT-STGCN\n",
        "# df5 = pd.read_csv('./simulation_results/2023-05-28_15-11-36.csv') # STGCN IT-STGCN\n",
        "# df6 = pd.read_csv('./simulation_results/2023-05-28_19-57-23.csv') # GNAR 30%, 50%, 70% # 뭔가 일단 필요없어서 데이터셋에서 뺌\n",
        "# df7 = pd.read_csv('./simulation_results/2023-05-29_01-36-37.csv') # STGCN IT-STGCN\n",
        "# df8 = pd.read_csv('./simulation_results/2023-05-29_05-55-43.csv') # STGCN IT-STGCN\n",
        "# df9 = pd.read_csv('./simulation_results/2023-05-29_11-00-42.csv') # STGCN IT-STGCN\n",
        "# df10 = pd.read_csv('./simulation_results/2023-05-29_15-58-56.csv') # STGCN IT-STGCN\n",
        "# df11 = pd.read_csv('./simulation_results/2023-05-29_21-01-58.csv') # STGCN IT-STGCN\n",
        "# df12 = pd.read_csv('./simulation_results/2023-05-30_02-08-43.csv') # STGCN IT-STGCN\n",
        "# df13 = pd.read_csv('./simulation_results/2023-05-30_06-27-00.csv') # STGCN IT-STGCN\n",
        "# df14 = pd.read_csv('./simulation_results/2023-05-30_11-59-01.csv') # STGCN IT-STGCN\n",
        "# df15 = pd.read_csv('./simulation_results/2023-05-30_15-59-12.csv') # STGCN IT-STGCN\n",
        "# df16 = pd.read_csv('./simulation_results/2023-04-20_00-46-43.csv') # STGCN IT-STGCN\n",
        "# df17 = pd.read_csv('./simulation_results/2023-04-20_06-51-34.csv') # STGCN IT-STGCN\n",
        "# df18 = pd.read_csv('./simulation_results/2023-04-20_08-30-27.csv') # STGCN IT-STGCN\n",
        "# df19 = pd.read_csv('./simulation_results/2023-04-20_14-28-35.csv') # STGCN IT-STGCN\n",
        "# df20 = pd.read_csv('./simulation_results/2023-04-20_16-08-39.csv') # STGCN IT-STGCN\n",
        "# df21 = pd.read_csv('./simulation_results/2023-04-20_22-09-37.csv') # STGCN IT-STGCN\n",
        "# df22 = pd.read_csv('./simulation_results/2023-04-20_23-48-26.csv') # STGCN IT-STGCN\n",
        "# df23 = pd.read_csv('./simulation_results/2023-04-21_05-36-47.csv') # STGCN IT-STGCN\n",
        "# df24 = pd.read_csv('./simulation_results/2023-04-21_15-26-00.csv') # STGCN IT-STGCN\n",
        "# df25 = pd.read_csv('./simulation_results/2023-04-21_23-27-11.csv') # STGCN IT-STGCN\n",
        "# df26 = pd.read_csv('./simulation_results/2023-04-22_07-46-08.csv') # STGCN IT-STGCN\n",
        "# df27 = pd.read_csv('./simulation_results/2023-04-22_15-45-20.csv') # STGCN IT-STGCN\n",
        "# df28 = pd.read_csv('./simulation_results/2023-04-22_22-57-31.csv') # STGCN IT-STGCN\n",
        "# df29 = pd.read_csv('./simulation_results/2023-04-23_07-00-15.csv') # STGCN IT-STGCN\n",
        "# df30 = pd.read_csv('./simulation_results/2023-04-23_15-18-02.csv') # STGCN IT-STGCN\n",
        "# df31 = pd.read_csv('./simulation_results/2023-04-23_15-22-36.csv') # GNAR 70%\n",
        "# # baseline\n",
        "# df32 = pd.read_csv('./simulation_results/2023-04-29_06-54-40.csv') # GNAR \n",
        "# df33 = pd.read_csv('./simulation_results/2023-04-30_18-55-12.csv')\n",
        "# df34 = pd.read_csv('./simulation_results/2023-05-01_02-55-33.csv')\n",
        "# df35 = pd.read_csv('./simulation_results/2023-05-01_10-21-15.csv')\n",
        "# df36 = pd.read_csv('./simulation_results/2023-05-01_19-23-57.csv')\n",
        "# df37 = pd.read_csv('./simulation_results/2023-05-02_01-10-53.csv')\n",
        "# df38 = pd.read_csv('./simulation_results/2023-05-02_08-26-53.csv')\n",
        "# df39 = pd.read_csv('./simulation_results/2023-05-02_16-00-40.csv')\n",
        "# df40 = pd.read_csv('./simulation_results/2023-05-03_00-34-09.csv')\n",
        "# df41 = pd.read_csv('./simulation_results/2023-05-03_08-04-42.csv')\n",
        "# df42 = pd.read_csv('./simulation_results/2023-05-03_15-50-50.csv')\n",
        "# df43 = pd.read_csv('./simulation_results/2023-05-03_23-46-56.csv')\n",
        "# df44 = pd.read_csv('./simulation_results/2023-05-04_05-22-59.csv')\n",
        "# df45 = pd.read_csv('./simulation_results/2023-05-04_09-22-37.csv')\n",
        "# df46 = pd.read_csv('./simulation_results/2023-05-04_15-00-57.csv')\n",
        "# df47 = pd.read_csv('./simulation_results/2023-05-04_23-41-21.csv')\n",
        "# df48 = pd.read_csv('./simulation_results/2023-05-05_07-23-04.csv')\n",
        "# df49 = pd.read_csv('./simulation_results/2023-05-05_15-03-17.csv')\n",
        "# df50 = pd.read_csv('./simulation_results/2023-05-06_05-18-07.csv')\n",
        "# df51 = pd.read_csv('./simulation_results/2023-05-06_12-57-14.csv')\n",
        "# df52 = pd.read_csv('./simulation_results/2023-05-06_19-10-23.csv')\n",
        "# df53 = pd.read_csv('./simulation_results/2023-05-07_03-20-10.csv')\n",
        "# df54 = pd.read_csv('./simulation_results/2023-05-07_11-26-24.csv')\n",
        "# df55 = pd.read_csv('./simulation_results/2023-05-08_00-04-56.csv')\n",
        "# df56 = pd.read_csv('./simulation_results/2023-05-08_04-27-01.csv')\n",
        "# df57 = pd.read_csv('./simulation_results/2023-05-08_10-06-55.csv')\n",
        "# df58 = pd.read_csv('./simulation_results/2023-05-08_17-50-36.csv')\n",
        "# df59 = pd.read_csv('./simulation_results/2023-05-09_03-28-08.csv')\n",
        "# df60 = pd.read_csv('./simulation_results/2023-05-09_11-08-10.csv')\n",
        "# df61 = pd.read_csv('./simulation_results/2023-05-09_20-11-45.csv')"
      ],
      "id": "e865d7a4-d723-411e-9ee6-2a0a001f8525"
    },
    {
      "cell_type": "code",
      "execution_count": null,
      "metadata": {},
      "outputs": [],
      "source": [
        "data = pd.concat([df1],axis=0)"
      ],
      "id": "37438d95-f15e-4741-b4d2-65966d48be89"
    },
    {
      "cell_type": "code",
      "execution_count": null,
      "metadata": {},
      "outputs": [],
      "source": [
        "data.to_csv('./simulation_results/Real_simulation_reshape/DYGRENCODER_windmillsmall.csv',index=False)"
      ],
      "id": "129bb29a-6386-4363-9781-8a68ad4373cd"
    },
    {
      "cell_type": "code",
      "execution_count": null,
      "metadata": {},
      "outputs": [],
      "source": [
        "data = pd.read_csv('./simulation_results/Real_simulation_reshape/DYGRENCODER_windmillsmall.csv')"
      ],
      "id": "e802f5c9-6428-4f87-86d8-5bec3a07099b"
    },
    {
      "cell_type": "markdown",
      "metadata": {},
      "source": [
        "## Baseline"
      ],
      "id": "82db870d-0dcb-4479-8fa5-02de0f730d23"
    },
    {
      "cell_type": "code",
      "execution_count": null,
      "metadata": {},
      "outputs": [],
      "source": [
        "data.query(\"method!='GNAR' and mrate ==0 \").plot.box(backend='plotly',x='mrate',color='method',y='mse',facet_col='lags',height=800)\n"
      ],
      "id": "127a08ff-22cf-4d87-8b87-db3f7fda2b59"
    },
    {
      "cell_type": "markdown",
      "metadata": {},
      "source": [
        "## random"
      ],
      "id": "911bb947-f845-42fd-bc33-d50a66f95901"
    },
    {
      "cell_type": "code",
      "execution_count": null,
      "metadata": {},
      "outputs": [],
      "source": [
        "data.query(\"method!='GNAR' and mtype =='rand' \").plot.box(backend='plotly',x='mrate',color='method',y='mse',facet_col='lags',facet_row='inter_method',height=800)\n"
      ],
      "id": "f189e38c-14f4-4f04-980c-aec583366a66"
    },
    {
      "cell_type": "markdown",
      "metadata": {},
      "source": [
        "## block"
      ],
      "id": "a0839b53-6775-4a07-b62d-1368d7787475"
    },
    {
      "cell_type": "code",
      "execution_count": null,
      "metadata": {},
      "outputs": [],
      "source": [
        "data.query(\"method!='GNAR' and mtype =='block' \").plot.box(backend='plotly',x='mrate',color='method',y='mse',facet_col='lags',facet_row='inter_method',height=800)\n"
      ],
      "id": "108b06c5-6201-4aa5-bb58-b381546eb656"
    },
    {
      "cell_type": "markdown",
      "metadata": {},
      "source": [
        "# Montevideobus"
      ],
      "id": "a6c7822a-7c63-427e-a232-3e866a764535"
    },
    {
      "cell_type": "code",
      "execution_count": 56,
      "metadata": {},
      "outputs": [],
      "source": [
        "df1 = pd.read_csv('./simulation_results/2023-06-30_06-15-55.csv') # lags 8\n",
        "df2 = pd.read_csv('./simulation_results/2023-06-30_08-46-05.csv') # lags 8\n",
        "df3 = pd.read_csv('./simulation_results/2023-06-30_11-09-20.csv') # lags 8\n",
        "df4 = pd.read_csv('./simulation_results/2023-06-30_14-00-17.csv') # lags 8\n",
        "df5 = pd.read_csv('./simulation_results/2023-06-30_16-23-53.csv') # lags 8\n",
        "df6 = pd.read_csv('./simulation_results/2023-06-30_18-47-55.csv') # lags 8"
      ],
      "id": "ee59c5e4-e11a-4a10-a0b1-478a80afb228"
    },
    {
      "cell_type": "code",
      "execution_count": 57,
      "metadata": {},
      "outputs": [],
      "source": [
        "df7 = pd.read_csv('./simulation_results/2023-07-26_09-18-59.csv') # lags 8\n",
        "df8 = pd.read_csv('./simulation_results/2023-07-26_11-40-12.csv') # lags 8\n",
        "df9 = pd.read_csv('./simulation_results/2023-07-26_13-53-51.csv') # lags 8\n",
        "df10 = pd.read_csv('./simulation_results/2023-07-26_16-08-33.csv') # lags 8\n",
        "df11 = pd.read_csv('./simulation_results/2023-07-26_18-03-51.csv') # lags 8\n",
        "df12 = pd.read_csv('./simulation_results/2023-07-26_19-59-34.csv') # lags 8\n",
        "df13 = pd.read_csv('./simulation_results/2023-07-26_21-55-45.csv') # lags 8\n",
        "df14 = pd.read_csv('./simulation_results/2023-07-27_00-15-20.csv') # lags 8\n",
        "df15 = pd.read_csv('./simulation_results/2023-07-27_02-39-45.csv') # lags 8"
      ],
      "id": "154922d5-d4de-44e0-9520-ad5f5f4693da"
    },
    {
      "cell_type": "code",
      "execution_count": 59,
      "metadata": {},
      "outputs": [],
      "source": [
        "data = pd.concat([df1,df2,df3,df4,df5,df6,df7,df8,df9,df10,df11,df12,df13,df14,df15],axis=0)"
      ],
      "id": "a19d1bdd-17fe-42cf-a4c8-f270bff69e40"
    },
    {
      "cell_type": "code",
      "execution_count": 60,
      "metadata": {},
      "outputs": [],
      "source": [
        "data.to_csv('./simulation_results/Real_simulation_reshape/DYGRENCODER_monte.csv',index=False)"
      ],
      "id": "3858fad4-79eb-4bd2-a070-c55210e79185"
    },
    {
      "cell_type": "code",
      "execution_count": 61,
      "metadata": {},
      "outputs": [],
      "source": [
        "data = pd.read_csv('./simulation_results/Real_simulation_reshape/DYGRENCODER_monte.csv')"
      ],
      "id": "b6060412-5bf9-480f-8246-83eed9a2677f"
    },
    {
      "cell_type": "markdown",
      "metadata": {},
      "source": [
        "## Baseline"
      ],
      "id": "45707217-d4a0-4675-bef4-1266f26416b4"
    },
    {
      "cell_type": "code",
      "execution_count": 62,
      "metadata": {},
      "outputs": [],
      "source": [
        "data.query(\"mrate==0 and method!='GNAR'\").plot.box(backend='plotly',x='mrate',color='method',y='mse',facet_col='lags',facet_row='nof_filters',height=600)"
      ],
      "id": "f88253f6-73f8-418a-9fb8-31ab090519dd"
    },
    {
      "cell_type": "markdown",
      "metadata": {},
      "source": [
        "## random"
      ],
      "id": "5150af1c-55d7-457c-b4a5-3535b4db98e4"
    },
    {
      "cell_type": "code",
      "execution_count": 63,
      "metadata": {},
      "outputs": [],
      "source": [
        "data.query(\"mtype=='rand' and mrate !=0 and method!='GNAR'\").plot.box(backend='plotly',x='mrate',color='method',y='mse',facet_col='lags',facet_row='inter_method',height=800)\n"
      ],
      "id": "7f2ffd70-8383-4974-a97a-f4474693b145"
    },
    {
      "cell_type": "markdown",
      "metadata": {},
      "source": [
        "## block"
      ],
      "id": "cd7ae3da-cedf-4591-a509-abe74c9590c2"
    },
    {
      "cell_type": "code",
      "execution_count": 64,
      "metadata": {},
      "outputs": [],
      "source": [
        "data.query(\"mtype=='block' and method!='GNAR'\").plot.box(backend='plotly',x='mrate',color='method',y='mse',facet_col='lags',facet_row='nof_filters',height=1200)\n"
      ],
      "id": "f1aa0e7a-f3fa-4a4b-8ba8-1e5275ad760c"
    }
  ],
  "nbformat": 4,
  "nbformat_minor": 5,
  "metadata": {
    "kernelspec": {
      "name": "python3",
      "display_name": "Python 3",
      "language": "python"
    },
    "language_info": {
      "name": "python",
      "codemirror_mode": {
        "name": "ipython",
        "version": "3"
      },
      "file_extension": ".py",
      "mimetype": "text/x-python",
      "nbconvert_exporter": "python",
      "pygments_lexer": "ipython3",
      "version": "3.8.0"
    }
  }
}
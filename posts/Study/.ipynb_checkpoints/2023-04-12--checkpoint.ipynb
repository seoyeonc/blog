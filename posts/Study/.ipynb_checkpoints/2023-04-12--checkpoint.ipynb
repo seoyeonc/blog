{
 "cells": [
  {
   "cell_type": "raw",
   "id": "4ca8471e-62a4-4d37-80f4-0eb348f146ee",
   "metadata": {
    "id": "cac470df-29e7-4148-9bbd-d8b9a32fa570",
    "tags": []
   },
   "source": [
    "---\n",
    "title: \"Self-onsistent estimator\"\n",
    "author: \"SEOYEON CHOI\"\n",
    "date: \"2023-04-10\"\n",
    "categories:\n",
    "  - ITSTGCN\n",
    "---"
   ]
  },
  {
   "cell_type": "markdown",
   "id": "f8b8217f-ee81-49bd-b3d4-173133d38fe1",
   "metadata": {},
   "source": [
    "> Existing Method Review"
   ]
  },
  {
   "cell_type": "markdown",
   "id": "83dbeca1-817e-4cd8-bbf5-696d1dfd71a8",
   "metadata": {},
   "source": [
    "[Lebesgue's decomposition theorem](https://en.wikipedia.org/wiki/Lebesgue%27s_decomposition_theorem)"
   ]
  },
  {
   "cell_type": "code",
   "execution_count": null,
   "id": "046fd56e-ce1f-40d7-81a6-330cc2b9304a",
   "metadata": {},
   "outputs": [],
   "source": []
  }
 ],
 "metadata": {
  "kernelspec": {
   "display_name": "Python 3 (ipykernel)",
   "language": "python",
   "name": "python3"
  },
  "language_info": {
   "codemirror_mode": {
    "name": "ipython",
    "version": 3
   },
   "file_extension": ".py",
   "mimetype": "text/x-python",
   "name": "python",
   "nbconvert_exporter": "python",
   "pygments_lexer": "ipython3",
   "version": "3.8.12"
  }
 },
 "nbformat": 4,
 "nbformat_minor": 5
}

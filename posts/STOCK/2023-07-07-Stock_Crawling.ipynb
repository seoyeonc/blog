{
 "cells": [
  {
   "cell_type": "raw",
   "id": "4cfc5b1e-93a1-45ca-8e8a-4ac3c2b37438",
   "metadata": {
    "id": "cac470df-29e7-4148-9bbd-d8b9a32fa570",
    "tags": []
   },
   "source": [
    "---\n",
    "title: \"Stock Crawling\"\n",
    "author: \"SEOYEON CHOI\"\n",
    "date: \"2023-07-07\"\n",
    "categories:\n",
    "  - Stock\n",
    "---"
   ]
  },
  {
   "cell_type": "markdown",
   "id": "0a8e2ca4-1b94-462e-8295-3fc36b4b5c79",
   "metadata": {},
   "source": [
    "# Import"
   ]
  },
  {
   "cell_type": "code",
   "execution_count": 8,
   "id": "c959fe71-0995-49f8-99a0-9e77cadb1b01",
   "metadata": {},
   "outputs": [],
   "source": [
    "import pandas as pd\n",
    "import matplotlib.pyplot as plt\n",
    "import requests\n",
    "from datetime import datetime\n",
    "from matplotlib import dates as mdates\n",
    "from bs4 import BeautifulSoup as bs"
   ]
  },
  {
   "cell_type": "markdown",
   "id": "36f34562-072d-4b52-afa9-88496bbb66b8",
   "metadata": {},
   "source": [
    "# Korea(KOSPI)"
   ]
  },
  {
   "cell_type": "code",
   "execution_count": 20,
   "id": "688b1b78-8334-4db4-adc7-3349bdd21983",
   "metadata": {},
   "outputs": [],
   "source": [
    "url = 'https://finance.naver.com/sise/sise_index_day.naver?code=KOSPI&page=1'"
   ]
  },
  {
   "cell_type": "code",
   "execution_count": 21,
   "id": "9ce1ef61-277e-4a61-a3ce-4228f4429ee7",
   "metadata": {},
   "outputs": [],
   "source": [
    "headers = {'user-agent': 'Mozilla/5.0 (Macintosh; Intel Mac OS X 10_15_7) AppleWebKit/537.36 (KHTML, like Gecko) Chrome/88.0.4324.96 Safari/537.36'}\n",
    "response = requests.get(url, headers=headers)"
   ]
  },
  {
   "cell_type": "code",
   "execution_count": 22,
   "id": "ccbf3b72-0c89-493d-aa91-f422ff8d2b47",
   "metadata": {},
   "outputs": [
    {
     "data": {
      "text/plain": [
       "'<html lang=\"ko\">\\n<head>\\n<meta http-equiv=\"Content-Type\" content=\"text/html; charset=euc-kr\">\\n<title>네이버 증권</title>\\n\\n<link rel=\"stylesheet\" type=\"text/css\" href=\"https://ssl.pstatic.net/imgstock/static.pc/20230704202526/css/newstock.css\">\\n<link rel=\"stylesheet\" type=\"text/css\" href=\"https://ssl.pstatic.net/imgstock/static.pc/20230704202526/css/common.css\">\\n<link rel=\"stylesheet\" type=\"text/css\" href=\"https://ssl.pstatic.net/imgstock/static.pc/20230704202526/css/layout.css\">\\n<link rel=\"stylesheet\" type=\"text/css\" href=\"https://ssl.pstatic.net/imgstock/static.pc/20230704202526/css/main.css\">\\n<link rel=\"stylesheet\" type=\"text/css\" href=\"https://ssl.pstatic.net/imgstock/static.pc/20230704202526/css/newstock2.css\">\\n<link rel=\"stylesheet\" type=\"text/css\" href=\"https://ssl.pstatic.net/imgstock/static.pc/20230704202526/css/newstock3.css\">\\n<link rel=\"stylesheet\" type=\"text/css\" href=\"https://ssl.pstatic.net/imgstock/static.pc/20230704202526/css/world.css\">\\n</head>\\n<body>\\n<script type=\"text/javascript\" src=\"https://ssl.pstatic.net/imgstock/static.pc/20230704202526/js/jindo.min.ns.1.5.3.euckr.js\"></script>\\n<script type=\"text/javascript\" src=\"https://ssl.pstatic.net/imgstock/static.pc/20230704202526/js/lcslog.js\"></script>\\n\\t\\t\\t\\t<!-- 일별시세 -->\\n\\t\\t\\t\\t<div class=\"box_type_m\">\\n\\t\\t\\t\\t\\t<h4 class=\"top_tlt\" style=\"text-align:left;\"><em>일별</em>시세</h4>\\n\\t\\t\\t\\t\\t<table summary=\"일별 시세표:날짜에 따른 체결가 전일비 등락률 거래량 거래대금 정보를 제공합니다.\" cellpadding=\"0\" cellspacing=\"0\" class=\"type_1\">\\n\\t\\t\\t\\t\\t<caption>일별시세</caption>\\n\\t\\t\\t\\t\\t<col width=\"15%\"><col width=\"14%\"><col width=\"18%\"><col width=\"14%\"><col width=\"*\"><col width=\"18%\">\\n\\t\\t\\t\\t\\t\\n\\t\\t\\t\\t\\t\\t\\n\\t\\t\\t\\t\\t\\t\\n\\t\\t\\t\\t\\t\\t<tr>\\n\\t\\t\\t\\t\\t\\t\\t<th>날짜</th>\\n\\t\\t\\t\\t\\t\\t\\t<th>체결가</th>\\n\\t\\t\\t\\t\\t\\t\\t<th>전일비</th>\\n\\t\\t\\t\\t\\t\\t\\t<th>등락률</th>\\n\\t\\t\\t\\t\\t\\t\\t<th>거래량<span class=\"add_txt\">(천주)</span></th>\\n\\t\\t\\t\\t\\t\\t\\t<th>거래대금<span class=\"add_txt\">(백만)</span></th>\\n\\t\\t\\t\\t\\t\\t</tr>\\n\\t\\t\\t\\t\\t\\t\\n\\t\\t\\t\\t\\t\\t\\t\\t\\t\\t\\n\\t\\t\\t\\t\\t<tr><td colspan=\"6\" class=\"blank_07\"></td></tr>\\n\\n\\t\\n\\t\\t\\t\\t\\t<tr>\\n\\t\\t\\t\\t\\t\\t<td class=\"date\">2023.07.07</td>\\n\\t\\t\\t\\t\\t\\t<td class=\"number_1\">2,526.71</td>\\n\\t\\t\\t\\t\\t\\t<td class=\"rate_down\" style=\"padding-right:35px;\">\\n\\t\\t\\t\\t<img src=\"https://ssl.pstatic.net/imgstock/images/images4/ico_down.gif\" width=\"7\" height=\"6\" style=\"margin-right:4px;\" alt=\"하락\"><span class=\"tah p11 nv01\">\\n\\t\\t\\t\\t29.58\\n\\t\\t\\t\\t</span>\\n\\t\\t\\t</td>\\n\\t\\t\\t\\t\\t\\t<td class=\"number_1\">\\n\\t\\t\\t\\t<span class=\"tah p11 nv01\">\\n\\t\\t\\t\\t-1.16%\\n\\t\\t\\t\\t</span>\\n\\t\\t\\t</td>\\n\\t\\t\\t\\t\\t\\t<td class=\"number_1\" style=\"padding-right:40px;\">613,265</td>\\n\\t\\t\\t\\t\\t\\t<td class=\"number_1\" style=\"padding-right:30px;\">10,367,353</td>\\n\\t\\t\\t\\t\\t</tr>\\n\\t\\t\\n\\t\\t\\t\\n\\t\\t\\t\\t\\n\\t\\t\\t\\t\\t<tr>\\n\\t\\t\\t\\t\\t\\t<td class=\"date\">2023.07.06</td>\\n\\t\\t\\t\\t\\t\\t<td class=\"number_1\">2,556.29</td>\\n\\t\\t\\t\\t\\t\\t<td class=\"rate_down\" style=\"padding-right:35px;\">\\n\\t\\t\\t\\t<img src=\"https://ssl.pstatic.net/imgstock/images/images4/ico_down.gif\" width=\"7\" height=\"6\" style=\"margin-right:4px;\" alt=\"하락\"><span class=\"tah p11 nv01\">\\n\\t\\t\\t\\t22.71\\n\\t\\t\\t\\t</span>\\n\\t\\t\\t</td>\\n\\t\\t\\t\\t\\t\\t<td class=\"number_1\">\\n\\t\\t\\t\\t<span class=\"tah p11 nv01\">\\n\\t\\t\\t\\t-0.88%\\n\\t\\t\\t\\t</span>\\n\\t\\t\\t</td>\\n\\t\\t\\t\\t\\t\\t<td class=\"number_1\" style=\"padding-right:40px;\">531,900</td>\\n\\t\\t\\t\\t\\t\\t<td class=\"number_1\" style=\"padding-right:30px;\">10,291,029</td>\\n\\t\\t\\t\\t\\t</tr>\\n\\t\\t\\t\\t\\n\\t\\t\\t\\t\\n\\t\\t\\t\\n\\t\\t\\t\\n\\t\\t\\t\\n\\t\\t\\t\\n\\t\\t\\t\\t\\n\\t\\t\\t\\n\\t\\t\\t\\n\\t\\t\\n\\t\\t\\t\\n\\t\\t\\t\\t\\n\\t\\t\\t\\t\\t<tr>\\n\\t\\t\\t\\t\\t\\t<td class=\"date\">2023.07.05</td>\\n\\t\\t\\t\\t\\t\\t<td class=\"number_1\">2,579.00</td>\\n\\t\\t\\t\\t\\t\\t<td class=\"rate_down\" style=\"padding-right:35px;\">\\n\\t\\t\\t\\t<img src=\"https://ssl.pstatic.net/imgstock/images/images4/ico_down.gif\" width=\"7\" height=\"6\" style=\"margin-right:4px;\" alt=\"하락\"><span class=\"tah p11 nv01\">\\n\\t\\t\\t\\t14.31\\n\\t\\t\\t\\t</span>\\n\\t\\t\\t</td>\\n\\t\\t\\t\\t\\t\\t<td class=\"number_1\">\\n\\t\\t\\t\\t<span class=\"tah p11 nv01\">\\n\\t\\t\\t\\t-0.55%\\n\\t\\t\\t\\t</span>\\n\\t\\t\\t</td>\\n\\t\\t\\t\\t\\t\\t<td class=\"number_1\" style=\"padding-right:40px;\">601,089</td>\\n\\t\\t\\t\\t\\t\\t<td class=\"number_1\" style=\"padding-right:30px;\">10,257,664</td>\\n\\t\\t\\t\\t\\t</tr>\\n\\t\\t\\t\\t\\n\\t\\t\\t\\t\\n\\t\\t\\t\\n\\t\\t\\t\\n\\t\\t\\t\\n\\t\\t\\t\\n\\t\\t\\t\\t\\n\\t\\t\\t\\t\\t<tr><td colspan=\"6\" class=\"blank_08\"></td></tr>\\n\\t\\t\\t\\t\\t<tr><td colspan=\"6\" class=\"division_line\"></td></tr>\\n\\t\\t\\t\\t\\t<tr><td colspan=\"6\" class=\"blank_08\"></td></tr>\\n\\t\\t\\t\\t\\t<tr>\\n\\t\\t\\t\\t\\n\\t\\t\\t\\n\\t\\t\\t\\n\\t\\t\\n\\t\\t\\t\\n\\t\\t\\t\\t\\n\\t\\t\\t\\t\\t<tr>\\n\\t\\t\\t\\t\\t\\t<td class=\"date\">2023.07.04</td>\\n\\t\\t\\t\\t\\t\\t<td class=\"number_1\">2,593.31</td>\\n\\t\\t\\t\\t\\t\\t<td class=\"rate_down\" style=\"padding-right:35px;\">\\n\\t\\t\\t\\t<img src=\"https://ssl.pstatic.net/imgstock/images/images4/ico_down.gif\" width=\"7\" height=\"6\" style=\"margin-right:4px;\" alt=\"하락\"><span class=\"tah p11 nv01\">\\n\\t\\t\\t\\t9.16\\n\\t\\t\\t\\t</span>\\n\\t\\t\\t</td>\\n\\t\\t\\t\\t\\t\\t<td class=\"number_1\">\\n\\t\\t\\t\\t<span class=\"tah p11 nv01\">\\n\\t\\t\\t\\t-0.35%\\n\\t\\t\\t\\t</span>\\n\\t\\t\\t</td>\\n\\t\\t\\t\\t\\t\\t<td class=\"number_1\" style=\"padding-right:40px;\">674,411</td>\\n\\t\\t\\t\\t\\t\\t<td class=\"number_1\" style=\"padding-right:30px;\">9,160,796</td>\\n\\t\\t\\t\\t\\t</tr>\\n\\t\\t\\t\\t\\n\\t\\t\\t\\t\\n\\t\\t\\t\\n\\t\\t\\t\\n\\t\\t\\t\\n\\t\\t\\t\\n\\t\\t\\t\\t\\n\\t\\t\\t\\n\\t\\t\\t\\n\\t\\t\\n\\t\\t\\t\\n\\t\\t\\t\\t\\n\\t\\t\\t\\t\\t<tr>\\n\\t\\t\\t\\t\\t\\t<td class=\"date\">2023.07.03</td>\\n\\t\\t\\t\\t\\t\\t<td class=\"number_1\">2,602.47</td>\\n\\t\\t\\t\\t\\t\\t<td class=\"rate_down\" style=\"padding-right:35px;\">\\n\\t\\t\\t\\t<img src=\"https://ssl.pstatic.net/imgstock/images/images4/ico_up.gif\" width=\"7\" height=\"6\" style=\"margin-right:4px;\" alt=\"상승\"><span class=\"tah p11 red02\">\\n\\t\\t\\t\\t38.19\\n\\t\\t\\t\\t</span>\\n\\t\\t\\t</td>\\n\\t\\t\\t\\t\\t\\t<td class=\"number_1\">\\n\\t\\t\\t\\t<span class=\"tah p11 red01\">\\n\\t\\t\\t\\t+1.49%\\n\\t\\t\\t\\t</span>\\n\\t\\t\\t</td>\\n\\t\\t\\t\\t\\t\\t<td class=\"number_1\" style=\"padding-right:40px;\">618,006</td>\\n\\t\\t\\t\\t\\t\\t<td class=\"number_1\" style=\"padding-right:30px;\">8,973,590</td>\\n\\t\\t\\t\\t\\t</tr>\\n\\t\\t\\t\\t\\n\\t\\t\\t\\t\\n\\t\\t\\t\\n\\t\\t\\t\\n\\t\\t\\t\\n\\t\\t\\t\\n\\t\\t\\t\\t\\n\\t\\t\\t\\n\\t\\t\\t\\n\\t\\t\\n\\t\\t\\t\\n\\t\\t\\t\\t\\n\\t\\t\\t\\t\\t<tr>\\n\\t\\t\\t\\t\\t\\t<td class=\"date\">2023.06.30</td>\\n\\t\\t\\t\\t\\t\\t<td class=\"number_1\">2,564.28</td>\\n\\t\\t\\t\\t\\t\\t<td class=\"rate_down\" style=\"padding-right:35px;\">\\n\\t\\t\\t\\t<img src=\"https://ssl.pstatic.net/imgstock/images/images4/ico_up.gif\" width=\"7\" height=\"6\" style=\"margin-right:4px;\" alt=\"상승\"><span class=\"tah p11 red02\">\\n\\t\\t\\t\\t14.26\\n\\t\\t\\t\\t</span>\\n\\t\\t\\t</td>\\n\\t\\t\\t\\t\\t\\t<td class=\"number_1\">\\n\\t\\t\\t\\t<span class=\"tah p11 red01\">\\n\\t\\t\\t\\t+0.56%\\n\\t\\t\\t\\t</span>\\n\\t\\t\\t</td>\\n\\t\\t\\t\\t\\t\\t<td class=\"number_1\" style=\"padding-right:40px;\">510,934</td>\\n\\t\\t\\t\\t\\t\\t<td class=\"number_1\" style=\"padding-right:30px;\">8,209,121</td>\\n\\t\\t\\t\\t\\t</tr>\\n\\t\\t\\t\\t\\n\\t\\t\\t\\t\\n\\t\\t\\t\\n\\t\\t\\t\\n\\t\\t\\t\\n\\t\\t\\t\\n\\t\\t\\t\\t\\n\\t\\t\\t\\n\\t\\t\\t\\n\\t\\t\\n\\t\\t\\t\\n\\t\\n\\t\\n\\t\\n\\t\\n\\n\\t\\t\\t\\t\\t<tr><td colspan=\"6\" class=\"blank_09\"></td></tr>\\n\\t\\t\\t\\t\\t<tr><td colspan=\"6\" class=\"division_line\"></td></tr>\\n\\t\\t\\t\\t\\t</table>\\n\\t\\t\\t\\t<!--- 페이지 네비게이션 시작--->\\n\\t\\t\\t\\t<table summary=\"페이지 네비게이션 리스트\" class=\"Nnavi\" align=\"center\">\\n\\t\\t\\t\\t<caption>페이지 네비게이션</caption>\\n\\t\\t\\t\\t<tr>\\t\\t\\n\\t\\t\\t\\n\\t\\t\\t\\t\\n                \\n                <td class=\"on\">\\n\\t\\t\\t\\t<a href=\"/sise/sise_index_day.naver?code=KOSPI&amp;page=1\"  >1</a>\\n\\t\\t\\t\\t</td>\\n<td>\\n\\t\\t\\t\\t<a href=\"/sise/sise_index_day.naver?code=KOSPI&amp;page=2\"  >2</a>\\n\\t\\t\\t\\t</td>\\n<td>\\n\\t\\t\\t\\t<a href=\"/sise/sise_index_day.naver?code=KOSPI&amp;page=3\"  >3</a>\\n\\t\\t\\t\\t</td>\\n<td>\\n\\t\\t\\t\\t<a href=\"/sise/sise_index_day.naver?code=KOSPI&amp;page=4\"  >4</a>\\n\\t\\t\\t\\t</td>\\n<td>\\n\\t\\t\\t\\t<a href=\"/sise/sise_index_day.naver?code=KOSPI&amp;page=5\"  >5</a>\\n\\t\\t\\t\\t</td>\\n<td>\\n\\t\\t\\t\\t<a href=\"/sise/sise_index_day.naver?code=KOSPI&amp;page=6\"  >6</a>\\n\\t\\t\\t\\t</td>\\n<td>\\n\\t\\t\\t\\t<a href=\"/sise/sise_index_day.naver?code=KOSPI&amp;page=7\"  >7</a>\\n\\t\\t\\t\\t</td>\\n<td>\\n\\t\\t\\t\\t<a href=\"/sise/sise_index_day.naver?code=KOSPI&amp;page=8\"  >8</a>\\n\\t\\t\\t\\t</td>\\n<td>\\n\\t\\t\\t\\t<a href=\"/sise/sise_index_day.naver?code=KOSPI&amp;page=9\"  >9</a>\\n\\t\\t\\t\\t</td>\\n<td>\\n\\t\\t\\t\\t<a href=\"/sise/sise_index_day.naver?code=KOSPI&amp;page=10\"  >10</a>\\n\\t\\t\\t\\t</td>\\n\\n                <td class=\"pgR\">\\n\\t\\t\\t\\t<a href=\"/sise/sise_index_day.naver?code=KOSPI&amp;page=11\"  >\\n\\t\\t\\t\\t다음<img src=\"https://ssl.pstatic.net/static/n/cmn/bu_pgarR.gif\" width=\"3\" height=\"5\" alt=\"\" border=\"0\">\\n\\t\\t\\t\\t</a>\\n\\t\\t\\t\\t</td>\\n\\n                <td class=\"pgRR\">\\n\\t\\t\\t\\t<a href=\"/sise/sise_index_day.naver?code=KOSPI&amp;page=1449\"  >맨뒤\\n\\t\\t\\t\\t<img src=\"https://ssl.pstatic.net/static/n/cmn/bu_pgarRR.gif\" width=\"8\" height=\"5\" alt=\"\" border=\"0\">\\n\\t\\t\\t\\t</a>\\n\\t\\t\\t\\t</td>\\n\\n            \\n\\t\\t\\t\\t</tr>\\n\\t\\t\\t\\t</table>\\n\\t\\t\\t\\t<!--- 페이지 네비게이션 끝--->\\n\\t\\t\\t\\t</div>\\n\\t\\t\\t\\t<!-- //일별시세 -->\\n\\t\\t\\t\\t\\n<script type=\"text/javascript\">\\n    ;(function(){\\n        var eventType = \"onpageshow\" in window ? \"pageshow\" : \"load\";\\n        jindo.$Fn(function(){\\n            lcs_do();\\n        }).attach(window, eventType);\\n    })();\\n</script>\\n\\n</body>\\n</html>\\n'"
      ]
     },
     "execution_count": 22,
     "metadata": {},
     "output_type": "execute_result"
    }
   ],
   "source": [
    "response.text"
   ]
  },
  {
   "cell_type": "code",
   "execution_count": 23,
   "id": "7281b58b-dffe-456f-b573-7cfd9c21db85",
   "metadata": {},
   "outputs": [
    {
     "name": "stdout",
     "output_type": "stream",
     "text": [
      "파싱된 테이블의 개수 : 2\n"
     ]
    }
   ],
   "source": [
    "html = bs(response.text, 'html.parser')\n",
    "html_table = html.select(\"table\")\n",
    "table = pd.read_html(str(html_table))\n",
    "print('파싱된 테이블의 개수 :', len(table))"
   ]
  },
  {
   "cell_type": "code",
   "execution_count": 24,
   "id": "a9d15515-0ec8-45d9-bcbe-583e247e111d",
   "metadata": {},
   "outputs": [
    {
     "data": {
      "text/html": [
       "<div>\n",
       "<style scoped>\n",
       "    .dataframe tbody tr th:only-of-type {\n",
       "        vertical-align: middle;\n",
       "    }\n",
       "\n",
       "    .dataframe tbody tr th {\n",
       "        vertical-align: top;\n",
       "    }\n",
       "\n",
       "    .dataframe thead th {\n",
       "        text-align: right;\n",
       "    }\n",
       "</style>\n",
       "<table border=\"1\" class=\"dataframe\">\n",
       "  <thead>\n",
       "    <tr style=\"text-align: right;\">\n",
       "      <th></th>\n",
       "      <th>날짜</th>\n",
       "      <th>체결가</th>\n",
       "      <th>전일비</th>\n",
       "      <th>등락률</th>\n",
       "      <th>거래량(천주)</th>\n",
       "      <th>거래대금(백만)</th>\n",
       "    </tr>\n",
       "  </thead>\n",
       "  <tbody>\n",
       "    <tr>\n",
       "      <th>0</th>\n",
       "      <td>NaN</td>\n",
       "      <td>NaN</td>\n",
       "      <td>NaN</td>\n",
       "      <td>NaN</td>\n",
       "      <td>NaN</td>\n",
       "      <td>NaN</td>\n",
       "    </tr>\n",
       "    <tr>\n",
       "      <th>1</th>\n",
       "      <td>2023.07.07</td>\n",
       "      <td>2526.71</td>\n",
       "      <td>29.58</td>\n",
       "      <td>-1.16%</td>\n",
       "      <td>613265.0</td>\n",
       "      <td>10367353.0</td>\n",
       "    </tr>\n",
       "    <tr>\n",
       "      <th>2</th>\n",
       "      <td>2023.07.06</td>\n",
       "      <td>2556.29</td>\n",
       "      <td>22.71</td>\n",
       "      <td>-0.88%</td>\n",
       "      <td>531900.0</td>\n",
       "      <td>10291029.0</td>\n",
       "    </tr>\n",
       "    <tr>\n",
       "      <th>3</th>\n",
       "      <td>2023.07.05</td>\n",
       "      <td>2579.00</td>\n",
       "      <td>14.31</td>\n",
       "      <td>-0.55%</td>\n",
       "      <td>601089.0</td>\n",
       "      <td>10257664.0</td>\n",
       "    </tr>\n",
       "    <tr>\n",
       "      <th>4</th>\n",
       "      <td>NaN</td>\n",
       "      <td>NaN</td>\n",
       "      <td>NaN</td>\n",
       "      <td>NaN</td>\n",
       "      <td>NaN</td>\n",
       "      <td>NaN</td>\n",
       "    </tr>\n",
       "    <tr>\n",
       "      <th>5</th>\n",
       "      <td>NaN</td>\n",
       "      <td>NaN</td>\n",
       "      <td>NaN</td>\n",
       "      <td>NaN</td>\n",
       "      <td>NaN</td>\n",
       "      <td>NaN</td>\n",
       "    </tr>\n",
       "    <tr>\n",
       "      <th>6</th>\n",
       "      <td>NaN</td>\n",
       "      <td>NaN</td>\n",
       "      <td>NaN</td>\n",
       "      <td>NaN</td>\n",
       "      <td>NaN</td>\n",
       "      <td>NaN</td>\n",
       "    </tr>\n",
       "    <tr>\n",
       "      <th>7</th>\n",
       "      <td>NaN</td>\n",
       "      <td>NaN</td>\n",
       "      <td>NaN</td>\n",
       "      <td>NaN</td>\n",
       "      <td>NaN</td>\n",
       "      <td>NaN</td>\n",
       "    </tr>\n",
       "    <tr>\n",
       "      <th>8</th>\n",
       "      <td>2023.07.04</td>\n",
       "      <td>2593.31</td>\n",
       "      <td>9.16</td>\n",
       "      <td>-0.35%</td>\n",
       "      <td>674411.0</td>\n",
       "      <td>9160796.0</td>\n",
       "    </tr>\n",
       "    <tr>\n",
       "      <th>9</th>\n",
       "      <td>2023.07.03</td>\n",
       "      <td>2602.47</td>\n",
       "      <td>38.19</td>\n",
       "      <td>+1.49%</td>\n",
       "      <td>618006.0</td>\n",
       "      <td>8973590.0</td>\n",
       "    </tr>\n",
       "    <tr>\n",
       "      <th>10</th>\n",
       "      <td>2023.06.30</td>\n",
       "      <td>2564.28</td>\n",
       "      <td>14.26</td>\n",
       "      <td>+0.56%</td>\n",
       "      <td>510934.0</td>\n",
       "      <td>8209121.0</td>\n",
       "    </tr>\n",
       "    <tr>\n",
       "      <th>11</th>\n",
       "      <td>NaN</td>\n",
       "      <td>NaN</td>\n",
       "      <td>NaN</td>\n",
       "      <td>NaN</td>\n",
       "      <td>NaN</td>\n",
       "      <td>NaN</td>\n",
       "    </tr>\n",
       "    <tr>\n",
       "      <th>12</th>\n",
       "      <td>NaN</td>\n",
       "      <td>NaN</td>\n",
       "      <td>NaN</td>\n",
       "      <td>NaN</td>\n",
       "      <td>NaN</td>\n",
       "      <td>NaN</td>\n",
       "    </tr>\n",
       "  </tbody>\n",
       "</table>\n",
       "</div>"
      ],
      "text/plain": [
       "            날짜      체결가    전일비     등락률   거래량(천주)    거래대금(백만)\n",
       "0          NaN      NaN    NaN     NaN       NaN         NaN\n",
       "1   2023.07.07  2526.71  29.58  -1.16%  613265.0  10367353.0\n",
       "2   2023.07.06  2556.29  22.71  -0.88%  531900.0  10291029.0\n",
       "3   2023.07.05  2579.00  14.31  -0.55%  601089.0  10257664.0\n",
       "4          NaN      NaN    NaN     NaN       NaN         NaN\n",
       "5          NaN      NaN    NaN     NaN       NaN         NaN\n",
       "6          NaN      NaN    NaN     NaN       NaN         NaN\n",
       "7          NaN      NaN    NaN     NaN       NaN         NaN\n",
       "8   2023.07.04  2593.31   9.16  -0.35%  674411.0   9160796.0\n",
       "9   2023.07.03  2602.47  38.19  +1.49%  618006.0   8973590.0\n",
       "10  2023.06.30  2564.28  14.26  +0.56%  510934.0   8209121.0\n",
       "11         NaN      NaN    NaN     NaN       NaN         NaN\n",
       "12         NaN      NaN    NaN     NaN       NaN         NaN"
      ]
     },
     "execution_count": 24,
     "metadata": {},
     "output_type": "execute_result"
    }
   ],
   "source": [
    "table[0]"
   ]
  },
  {
   "cell_type": "code",
   "execution_count": 25,
   "id": "7d62c537-0885-48d8-a7c7-6d955afa650a",
   "metadata": {},
   "outputs": [
    {
     "data": {
      "text/html": [
       "<div>\n",
       "<style scoped>\n",
       "    .dataframe tbody tr th:only-of-type {\n",
       "        vertical-align: middle;\n",
       "    }\n",
       "\n",
       "    .dataframe tbody tr th {\n",
       "        vertical-align: top;\n",
       "    }\n",
       "\n",
       "    .dataframe thead th {\n",
       "        text-align: right;\n",
       "    }\n",
       "</style>\n",
       "<table border=\"1\" class=\"dataframe\">\n",
       "  <thead>\n",
       "    <tr style=\"text-align: right;\">\n",
       "      <th></th>\n",
       "      <th>0</th>\n",
       "      <th>1</th>\n",
       "      <th>2</th>\n",
       "      <th>3</th>\n",
       "      <th>4</th>\n",
       "      <th>5</th>\n",
       "      <th>6</th>\n",
       "      <th>7</th>\n",
       "      <th>8</th>\n",
       "      <th>9</th>\n",
       "      <th>10</th>\n",
       "      <th>11</th>\n",
       "    </tr>\n",
       "  </thead>\n",
       "  <tbody>\n",
       "    <tr>\n",
       "      <th>0</th>\n",
       "      <td>1</td>\n",
       "      <td>2</td>\n",
       "      <td>3</td>\n",
       "      <td>4</td>\n",
       "      <td>5</td>\n",
       "      <td>6</td>\n",
       "      <td>7</td>\n",
       "      <td>8</td>\n",
       "      <td>9</td>\n",
       "      <td>10</td>\n",
       "      <td>다음</td>\n",
       "      <td>맨뒤</td>\n",
       "    </tr>\n",
       "  </tbody>\n",
       "</table>\n",
       "</div>"
      ],
      "text/plain": [
       "   0   1   2   3   4   5   6   7   8   9   10  11\n",
       "0   1   2   3   4   5   6   7   8   9  10  다음  맨뒤"
      ]
     },
     "execution_count": 25,
     "metadata": {},
     "output_type": "execute_result"
    }
   ],
   "source": [
    "table[1]"
   ]
  },
  {
   "cell_type": "code",
   "execution_count": 26,
   "id": "a714a569-a043-4cd9-832c-133a14dfc84a",
   "metadata": {},
   "outputs": [
    {
     "data": {
      "text/html": [
       "<div>\n",
       "<style scoped>\n",
       "    .dataframe tbody tr th:only-of-type {\n",
       "        vertical-align: middle;\n",
       "    }\n",
       "\n",
       "    .dataframe tbody tr th {\n",
       "        vertical-align: top;\n",
       "    }\n",
       "\n",
       "    .dataframe thead th {\n",
       "        text-align: right;\n",
       "    }\n",
       "</style>\n",
       "<table border=\"1\" class=\"dataframe\">\n",
       "  <thead>\n",
       "    <tr style=\"text-align: right;\">\n",
       "      <th></th>\n",
       "      <th>날짜</th>\n",
       "      <th>체결가</th>\n",
       "      <th>전일비</th>\n",
       "      <th>등락률</th>\n",
       "      <th>거래량(천주)</th>\n",
       "      <th>거래대금(백만)</th>\n",
       "    </tr>\n",
       "  </thead>\n",
       "  <tbody>\n",
       "    <tr>\n",
       "      <th>1</th>\n",
       "      <td>2023.07.07</td>\n",
       "      <td>2526.71</td>\n",
       "      <td>29.58</td>\n",
       "      <td>-1.16%</td>\n",
       "      <td>613265.0</td>\n",
       "      <td>10367353.0</td>\n",
       "    </tr>\n",
       "    <tr>\n",
       "      <th>2</th>\n",
       "      <td>2023.07.06</td>\n",
       "      <td>2556.29</td>\n",
       "      <td>22.71</td>\n",
       "      <td>-0.88%</td>\n",
       "      <td>531900.0</td>\n",
       "      <td>10291029.0</td>\n",
       "    </tr>\n",
       "    <tr>\n",
       "      <th>3</th>\n",
       "      <td>2023.07.05</td>\n",
       "      <td>2579.00</td>\n",
       "      <td>14.31</td>\n",
       "      <td>-0.55%</td>\n",
       "      <td>601089.0</td>\n",
       "      <td>10257664.0</td>\n",
       "    </tr>\n",
       "    <tr>\n",
       "      <th>8</th>\n",
       "      <td>2023.07.04</td>\n",
       "      <td>2593.31</td>\n",
       "      <td>9.16</td>\n",
       "      <td>-0.35%</td>\n",
       "      <td>674411.0</td>\n",
       "      <td>9160796.0</td>\n",
       "    </tr>\n",
       "    <tr>\n",
       "      <th>9</th>\n",
       "      <td>2023.07.03</td>\n",
       "      <td>2602.47</td>\n",
       "      <td>38.19</td>\n",
       "      <td>+1.49%</td>\n",
       "      <td>618006.0</td>\n",
       "      <td>8973590.0</td>\n",
       "    </tr>\n",
       "    <tr>\n",
       "      <th>10</th>\n",
       "      <td>2023.06.30</td>\n",
       "      <td>2564.28</td>\n",
       "      <td>14.26</td>\n",
       "      <td>+0.56%</td>\n",
       "      <td>510934.0</td>\n",
       "      <td>8209121.0</td>\n",
       "    </tr>\n",
       "  </tbody>\n",
       "</table>\n",
       "</div>"
      ],
      "text/plain": [
       "            날짜      체결가    전일비     등락률   거래량(천주)    거래대금(백만)\n",
       "1   2023.07.07  2526.71  29.58  -1.16%  613265.0  10367353.0\n",
       "2   2023.07.06  2556.29  22.71  -0.88%  531900.0  10291029.0\n",
       "3   2023.07.05  2579.00  14.31  -0.55%  601089.0  10257664.0\n",
       "8   2023.07.04  2593.31   9.16  -0.35%  674411.0   9160796.0\n",
       "9   2023.07.03  2602.47  38.19  +1.49%  618006.0   8973590.0\n",
       "10  2023.06.30  2564.28  14.26  +0.56%  510934.0   8209121.0"
      ]
     },
     "execution_count": 26,
     "metadata": {},
     "output_type": "execute_result"
    }
   ],
   "source": [
    "table[0].dropna()"
   ]
  },
  {
   "cell_type": "code",
   "execution_count": 40,
   "id": "8983c71a-8fce-4201-b981-89bf76203489",
   "metadata": {
    "scrolled": true,
    "tags": []
   },
   "outputs": [
    {
     "name": "stdout",
     "output_type": "stream",
     "text": [
      "https://finance.naver.com/sise/sise_index_day.naver?code=KOSPI&page=1\n",
      "https://finance.naver.com/sise/sise_index_day.naver?code=KOSPI&page=2\n",
      "https://finance.naver.com/sise/sise_index_day.naver?code=KOSPI&page=3\n",
      "https://finance.naver.com/sise/sise_index_day.naver?code=KOSPI&page=4\n"
     ]
    },
    {
     "name": "stderr",
     "output_type": "stream",
     "text": [
      "<ipython-input-40-3bcb01c44ed2>:14: FutureWarning: The frame.append method is deprecated and will be removed from pandas in a future version. Use pandas.concat instead.\n",
      "  df = df.append(table[0].dropna())\n",
      "<ipython-input-40-3bcb01c44ed2>:14: FutureWarning: The frame.append method is deprecated and will be removed from pandas in a future version. Use pandas.concat instead.\n",
      "  df = df.append(table[0].dropna())\n",
      "<ipython-input-40-3bcb01c44ed2>:14: FutureWarning: The frame.append method is deprecated and will be removed from pandas in a future version. Use pandas.concat instead.\n",
      "  df = df.append(table[0].dropna())\n",
      "<ipython-input-40-3bcb01c44ed2>:14: FutureWarning: The frame.append method is deprecated and will be removed from pandas in a future version. Use pandas.concat instead.\n",
      "  df = df.append(table[0].dropna())\n"
     ]
    },
    {
     "name": "stdout",
     "output_type": "stream",
     "text": [
      "https://finance.naver.com/sise/sise_index_day.naver?code=KOSPI&page=5\n",
      "https://finance.naver.com/sise/sise_index_day.naver?code=KOSPI&page=6\n",
      "https://finance.naver.com/sise/sise_index_day.naver?code=KOSPI&page=7\n",
      "https://finance.naver.com/sise/sise_index_day.naver?code=KOSPI&page=8\n"
     ]
    },
    {
     "name": "stderr",
     "output_type": "stream",
     "text": [
      "<ipython-input-40-3bcb01c44ed2>:14: FutureWarning: The frame.append method is deprecated and will be removed from pandas in a future version. Use pandas.concat instead.\n",
      "  df = df.append(table[0].dropna())\n",
      "<ipython-input-40-3bcb01c44ed2>:14: FutureWarning: The frame.append method is deprecated and will be removed from pandas in a future version. Use pandas.concat instead.\n",
      "  df = df.append(table[0].dropna())\n",
      "<ipython-input-40-3bcb01c44ed2>:14: FutureWarning: The frame.append method is deprecated and will be removed from pandas in a future version. Use pandas.concat instead.\n",
      "  df = df.append(table[0].dropna())\n",
      "<ipython-input-40-3bcb01c44ed2>:14: FutureWarning: The frame.append method is deprecated and will be removed from pandas in a future version. Use pandas.concat instead.\n",
      "  df = df.append(table[0].dropna())\n"
     ]
    },
    {
     "name": "stdout",
     "output_type": "stream",
     "text": [
      "https://finance.naver.com/sise/sise_index_day.naver?code=KOSPI&page=9\n",
      "https://finance.naver.com/sise/sise_index_day.naver?code=KOSPI&page=10\n",
      "https://finance.naver.com/sise/sise_index_day.naver?code=KOSPI&page=11\n",
      "https://finance.naver.com/sise/sise_index_day.naver?code=KOSPI&page=12\n"
     ]
    },
    {
     "name": "stderr",
     "output_type": "stream",
     "text": [
      "<ipython-input-40-3bcb01c44ed2>:14: FutureWarning: The frame.append method is deprecated and will be removed from pandas in a future version. Use pandas.concat instead.\n",
      "  df = df.append(table[0].dropna())\n",
      "<ipython-input-40-3bcb01c44ed2>:14: FutureWarning: The frame.append method is deprecated and will be removed from pandas in a future version. Use pandas.concat instead.\n",
      "  df = df.append(table[0].dropna())\n",
      "<ipython-input-40-3bcb01c44ed2>:14: FutureWarning: The frame.append method is deprecated and will be removed from pandas in a future version. Use pandas.concat instead.\n",
      "  df = df.append(table[0].dropna())\n",
      "<ipython-input-40-3bcb01c44ed2>:14: FutureWarning: The frame.append method is deprecated and will be removed from pandas in a future version. Use pandas.concat instead.\n",
      "  df = df.append(table[0].dropna())\n"
     ]
    },
    {
     "name": "stdout",
     "output_type": "stream",
     "text": [
      "https://finance.naver.com/sise/sise_index_day.naver?code=KOSPI&page=13\n",
      "https://finance.naver.com/sise/sise_index_day.naver?code=KOSPI&page=14\n",
      "https://finance.naver.com/sise/sise_index_day.naver?code=KOSPI&page=15\n",
      "https://finance.naver.com/sise/sise_index_day.naver?code=KOSPI&page=16\n"
     ]
    },
    {
     "name": "stderr",
     "output_type": "stream",
     "text": [
      "<ipython-input-40-3bcb01c44ed2>:14: FutureWarning: The frame.append method is deprecated and will be removed from pandas in a future version. Use pandas.concat instead.\n",
      "  df = df.append(table[0].dropna())\n",
      "<ipython-input-40-3bcb01c44ed2>:14: FutureWarning: The frame.append method is deprecated and will be removed from pandas in a future version. Use pandas.concat instead.\n",
      "  df = df.append(table[0].dropna())\n",
      "<ipython-input-40-3bcb01c44ed2>:14: FutureWarning: The frame.append method is deprecated and will be removed from pandas in a future version. Use pandas.concat instead.\n",
      "  df = df.append(table[0].dropna())\n",
      "<ipython-input-40-3bcb01c44ed2>:14: FutureWarning: The frame.append method is deprecated and will be removed from pandas in a future version. Use pandas.concat instead.\n",
      "  df = df.append(table[0].dropna())\n"
     ]
    },
    {
     "name": "stdout",
     "output_type": "stream",
     "text": [
      "https://finance.naver.com/sise/sise_index_day.naver?code=KOSPI&page=17\n",
      "https://finance.naver.com/sise/sise_index_day.naver?code=KOSPI&page=18\n",
      "https://finance.naver.com/sise/sise_index_day.naver?code=KOSPI&page=19\n",
      "https://finance.naver.com/sise/sise_index_day.naver?code=KOSPI&page=20\n"
     ]
    },
    {
     "name": "stderr",
     "output_type": "stream",
     "text": [
      "<ipython-input-40-3bcb01c44ed2>:14: FutureWarning: The frame.append method is deprecated and will be removed from pandas in a future version. Use pandas.concat instead.\n",
      "  df = df.append(table[0].dropna())\n",
      "<ipython-input-40-3bcb01c44ed2>:14: FutureWarning: The frame.append method is deprecated and will be removed from pandas in a future version. Use pandas.concat instead.\n",
      "  df = df.append(table[0].dropna())\n",
      "<ipython-input-40-3bcb01c44ed2>:14: FutureWarning: The frame.append method is deprecated and will be removed from pandas in a future version. Use pandas.concat instead.\n",
      "  df = df.append(table[0].dropna())\n",
      "<ipython-input-40-3bcb01c44ed2>:14: FutureWarning: The frame.append method is deprecated and will be removed from pandas in a future version. Use pandas.concat instead.\n",
      "  df = df.append(table[0].dropna())\n"
     ]
    },
    {
     "name": "stdout",
     "output_type": "stream",
     "text": [
      "https://finance.naver.com/sise/sise_index_day.naver?code=KOSPI&page=21\n",
      "https://finance.naver.com/sise/sise_index_day.naver?code=KOSPI&page=22\n",
      "https://finance.naver.com/sise/sise_index_day.naver?code=KOSPI&page=23\n",
      "https://finance.naver.com/sise/sise_index_day.naver?code=KOSPI&page=24\n"
     ]
    },
    {
     "name": "stderr",
     "output_type": "stream",
     "text": [
      "<ipython-input-40-3bcb01c44ed2>:14: FutureWarning: The frame.append method is deprecated and will be removed from pandas in a future version. Use pandas.concat instead.\n",
      "  df = df.append(table[0].dropna())\n",
      "<ipython-input-40-3bcb01c44ed2>:14: FutureWarning: The frame.append method is deprecated and will be removed from pandas in a future version. Use pandas.concat instead.\n",
      "  df = df.append(table[0].dropna())\n",
      "<ipython-input-40-3bcb01c44ed2>:14: FutureWarning: The frame.append method is deprecated and will be removed from pandas in a future version. Use pandas.concat instead.\n",
      "  df = df.append(table[0].dropna())\n",
      "<ipython-input-40-3bcb01c44ed2>:14: FutureWarning: The frame.append method is deprecated and will be removed from pandas in a future version. Use pandas.concat instead.\n",
      "  df = df.append(table[0].dropna())\n"
     ]
    },
    {
     "name": "stdout",
     "output_type": "stream",
     "text": [
      "https://finance.naver.com/sise/sise_index_day.naver?code=KOSPI&page=25\n",
      "https://finance.naver.com/sise/sise_index_day.naver?code=KOSPI&page=26\n",
      "https://finance.naver.com/sise/sise_index_day.naver?code=KOSPI&page=27\n",
      "https://finance.naver.com/sise/sise_index_day.naver?code=KOSPI&page=28\n"
     ]
    },
    {
     "name": "stderr",
     "output_type": "stream",
     "text": [
      "<ipython-input-40-3bcb01c44ed2>:14: FutureWarning: The frame.append method is deprecated and will be removed from pandas in a future version. Use pandas.concat instead.\n",
      "  df = df.append(table[0].dropna())\n",
      "<ipython-input-40-3bcb01c44ed2>:14: FutureWarning: The frame.append method is deprecated and will be removed from pandas in a future version. Use pandas.concat instead.\n",
      "  df = df.append(table[0].dropna())\n",
      "<ipython-input-40-3bcb01c44ed2>:14: FutureWarning: The frame.append method is deprecated and will be removed from pandas in a future version. Use pandas.concat instead.\n",
      "  df = df.append(table[0].dropna())\n",
      "<ipython-input-40-3bcb01c44ed2>:14: FutureWarning: The frame.append method is deprecated and will be removed from pandas in a future version. Use pandas.concat instead.\n",
      "  df = df.append(table[0].dropna())\n"
     ]
    },
    {
     "name": "stdout",
     "output_type": "stream",
     "text": [
      "https://finance.naver.com/sise/sise_index_day.naver?code=KOSPI&page=29\n",
      "https://finance.naver.com/sise/sise_index_day.naver?code=KOSPI&page=30\n",
      "https://finance.naver.com/sise/sise_index_day.naver?code=KOSPI&page=31\n",
      "https://finance.naver.com/sise/sise_index_day.naver?code=KOSPI&page=32\n"
     ]
    },
    {
     "name": "stderr",
     "output_type": "stream",
     "text": [
      "<ipython-input-40-3bcb01c44ed2>:14: FutureWarning: The frame.append method is deprecated and will be removed from pandas in a future version. Use pandas.concat instead.\n",
      "  df = df.append(table[0].dropna())\n",
      "<ipython-input-40-3bcb01c44ed2>:14: FutureWarning: The frame.append method is deprecated and will be removed from pandas in a future version. Use pandas.concat instead.\n",
      "  df = df.append(table[0].dropna())\n",
      "<ipython-input-40-3bcb01c44ed2>:14: FutureWarning: The frame.append method is deprecated and will be removed from pandas in a future version. Use pandas.concat instead.\n",
      "  df = df.append(table[0].dropna())\n",
      "<ipython-input-40-3bcb01c44ed2>:14: FutureWarning: The frame.append method is deprecated and will be removed from pandas in a future version. Use pandas.concat instead.\n",
      "  df = df.append(table[0].dropna())\n"
     ]
    },
    {
     "name": "stdout",
     "output_type": "stream",
     "text": [
      "https://finance.naver.com/sise/sise_index_day.naver?code=KOSPI&page=33\n",
      "https://finance.naver.com/sise/sise_index_day.naver?code=KOSPI&page=34\n",
      "https://finance.naver.com/sise/sise_index_day.naver?code=KOSPI&page=35\n",
      "https://finance.naver.com/sise/sise_index_day.naver?code=KOSPI&page=36\n"
     ]
    },
    {
     "name": "stderr",
     "output_type": "stream",
     "text": [
      "<ipython-input-40-3bcb01c44ed2>:14: FutureWarning: The frame.append method is deprecated and will be removed from pandas in a future version. Use pandas.concat instead.\n",
      "  df = df.append(table[0].dropna())\n",
      "<ipython-input-40-3bcb01c44ed2>:14: FutureWarning: The frame.append method is deprecated and will be removed from pandas in a future version. Use pandas.concat instead.\n",
      "  df = df.append(table[0].dropna())\n",
      "<ipython-input-40-3bcb01c44ed2>:14: FutureWarning: The frame.append method is deprecated and will be removed from pandas in a future version. Use pandas.concat instead.\n",
      "  df = df.append(table[0].dropna())\n",
      "<ipython-input-40-3bcb01c44ed2>:14: FutureWarning: The frame.append method is deprecated and will be removed from pandas in a future version. Use pandas.concat instead.\n",
      "  df = df.append(table[0].dropna())\n"
     ]
    },
    {
     "name": "stdout",
     "output_type": "stream",
     "text": [
      "https://finance.naver.com/sise/sise_index_day.naver?code=KOSPI&page=37\n",
      "https://finance.naver.com/sise/sise_index_day.naver?code=KOSPI&page=38\n",
      "https://finance.naver.com/sise/sise_index_day.naver?code=KOSPI&page=39\n",
      "https://finance.naver.com/sise/sise_index_day.naver?code=KOSPI&page=40\n"
     ]
    },
    {
     "name": "stderr",
     "output_type": "stream",
     "text": [
      "<ipython-input-40-3bcb01c44ed2>:14: FutureWarning: The frame.append method is deprecated and will be removed from pandas in a future version. Use pandas.concat instead.\n",
      "  df = df.append(table[0].dropna())\n",
      "<ipython-input-40-3bcb01c44ed2>:14: FutureWarning: The frame.append method is deprecated and will be removed from pandas in a future version. Use pandas.concat instead.\n",
      "  df = df.append(table[0].dropna())\n",
      "<ipython-input-40-3bcb01c44ed2>:14: FutureWarning: The frame.append method is deprecated and will be removed from pandas in a future version. Use pandas.concat instead.\n",
      "  df = df.append(table[0].dropna())\n",
      "<ipython-input-40-3bcb01c44ed2>:14: FutureWarning: The frame.append method is deprecated and will be removed from pandas in a future version. Use pandas.concat instead.\n",
      "  df = df.append(table[0].dropna())\n"
     ]
    },
    {
     "name": "stdout",
     "output_type": "stream",
     "text": [
      "https://finance.naver.com/sise/sise_index_day.naver?code=KOSPI&page=41\n",
      "https://finance.naver.com/sise/sise_index_day.naver?code=KOSPI&page=42\n",
      "https://finance.naver.com/sise/sise_index_day.naver?code=KOSPI&page=43\n",
      "https://finance.naver.com/sise/sise_index_day.naver?code=KOSPI&page=44\n"
     ]
    },
    {
     "name": "stderr",
     "output_type": "stream",
     "text": [
      "<ipython-input-40-3bcb01c44ed2>:14: FutureWarning: The frame.append method is deprecated and will be removed from pandas in a future version. Use pandas.concat instead.\n",
      "  df = df.append(table[0].dropna())\n",
      "<ipython-input-40-3bcb01c44ed2>:14: FutureWarning: The frame.append method is deprecated and will be removed from pandas in a future version. Use pandas.concat instead.\n",
      "  df = df.append(table[0].dropna())\n",
      "<ipython-input-40-3bcb01c44ed2>:14: FutureWarning: The frame.append method is deprecated and will be removed from pandas in a future version. Use pandas.concat instead.\n",
      "  df = df.append(table[0].dropna())\n",
      "<ipython-input-40-3bcb01c44ed2>:14: FutureWarning: The frame.append method is deprecated and will be removed from pandas in a future version. Use pandas.concat instead.\n",
      "  df = df.append(table[0].dropna())\n"
     ]
    },
    {
     "name": "stdout",
     "output_type": "stream",
     "text": [
      "https://finance.naver.com/sise/sise_index_day.naver?code=KOSPI&page=45\n",
      "https://finance.naver.com/sise/sise_index_day.naver?code=KOSPI&page=46\n",
      "https://finance.naver.com/sise/sise_index_day.naver?code=KOSPI&page=47\n",
      "https://finance.naver.com/sise/sise_index_day.naver?code=KOSPI&page=48\n"
     ]
    },
    {
     "name": "stderr",
     "output_type": "stream",
     "text": [
      "<ipython-input-40-3bcb01c44ed2>:14: FutureWarning: The frame.append method is deprecated and will be removed from pandas in a future version. Use pandas.concat instead.\n",
      "  df = df.append(table[0].dropna())\n",
      "<ipython-input-40-3bcb01c44ed2>:14: FutureWarning: The frame.append method is deprecated and will be removed from pandas in a future version. Use pandas.concat instead.\n",
      "  df = df.append(table[0].dropna())\n",
      "<ipython-input-40-3bcb01c44ed2>:14: FutureWarning: The frame.append method is deprecated and will be removed from pandas in a future version. Use pandas.concat instead.\n",
      "  df = df.append(table[0].dropna())\n",
      "<ipython-input-40-3bcb01c44ed2>:14: FutureWarning: The frame.append method is deprecated and will be removed from pandas in a future version. Use pandas.concat instead.\n",
      "  df = df.append(table[0].dropna())\n"
     ]
    },
    {
     "name": "stdout",
     "output_type": "stream",
     "text": [
      "https://finance.naver.com/sise/sise_index_day.naver?code=KOSPI&page=49\n",
      "https://finance.naver.com/sise/sise_index_day.naver?code=KOSPI&page=50\n",
      "https://finance.naver.com/sise/sise_index_day.naver?code=KOSPI&page=51\n",
      "https://finance.naver.com/sise/sise_index_day.naver?code=KOSPI&page=52\n"
     ]
    },
    {
     "name": "stderr",
     "output_type": "stream",
     "text": [
      "<ipython-input-40-3bcb01c44ed2>:14: FutureWarning: The frame.append method is deprecated and will be removed from pandas in a future version. Use pandas.concat instead.\n",
      "  df = df.append(table[0].dropna())\n",
      "<ipython-input-40-3bcb01c44ed2>:14: FutureWarning: The frame.append method is deprecated and will be removed from pandas in a future version. Use pandas.concat instead.\n",
      "  df = df.append(table[0].dropna())\n",
      "<ipython-input-40-3bcb01c44ed2>:14: FutureWarning: The frame.append method is deprecated and will be removed from pandas in a future version. Use pandas.concat instead.\n",
      "  df = df.append(table[0].dropna())\n",
      "<ipython-input-40-3bcb01c44ed2>:14: FutureWarning: The frame.append method is deprecated and will be removed from pandas in a future version. Use pandas.concat instead.\n",
      "  df = df.append(table[0].dropna())\n"
     ]
    },
    {
     "name": "stdout",
     "output_type": "stream",
     "text": [
      "https://finance.naver.com/sise/sise_index_day.naver?code=KOSPI&page=53\n",
      "https://finance.naver.com/sise/sise_index_day.naver?code=KOSPI&page=54\n",
      "https://finance.naver.com/sise/sise_index_day.naver?code=KOSPI&page=55\n",
      "https://finance.naver.com/sise/sise_index_day.naver?code=KOSPI&page=56\n"
     ]
    },
    {
     "name": "stderr",
     "output_type": "stream",
     "text": [
      "<ipython-input-40-3bcb01c44ed2>:14: FutureWarning: The frame.append method is deprecated and will be removed from pandas in a future version. Use pandas.concat instead.\n",
      "  df = df.append(table[0].dropna())\n",
      "<ipython-input-40-3bcb01c44ed2>:14: FutureWarning: The frame.append method is deprecated and will be removed from pandas in a future version. Use pandas.concat instead.\n",
      "  df = df.append(table[0].dropna())\n",
      "<ipython-input-40-3bcb01c44ed2>:14: FutureWarning: The frame.append method is deprecated and will be removed from pandas in a future version. Use pandas.concat instead.\n",
      "  df = df.append(table[0].dropna())\n",
      "<ipython-input-40-3bcb01c44ed2>:14: FutureWarning: The frame.append method is deprecated and will be removed from pandas in a future version. Use pandas.concat instead.\n",
      "  df = df.append(table[0].dropna())\n"
     ]
    },
    {
     "name": "stdout",
     "output_type": "stream",
     "text": [
      "https://finance.naver.com/sise/sise_index_day.naver?code=KOSPI&page=57\n",
      "https://finance.naver.com/sise/sise_index_day.naver?code=KOSPI&page=58\n",
      "https://finance.naver.com/sise/sise_index_day.naver?code=KOSPI&page=59\n",
      "https://finance.naver.com/sise/sise_index_day.naver?code=KOSPI&page=60\n"
     ]
    },
    {
     "name": "stderr",
     "output_type": "stream",
     "text": [
      "<ipython-input-40-3bcb01c44ed2>:14: FutureWarning: The frame.append method is deprecated and will be removed from pandas in a future version. Use pandas.concat instead.\n",
      "  df = df.append(table[0].dropna())\n",
      "<ipython-input-40-3bcb01c44ed2>:14: FutureWarning: The frame.append method is deprecated and will be removed from pandas in a future version. Use pandas.concat instead.\n",
      "  df = df.append(table[0].dropna())\n",
      "<ipython-input-40-3bcb01c44ed2>:14: FutureWarning: The frame.append method is deprecated and will be removed from pandas in a future version. Use pandas.concat instead.\n",
      "  df = df.append(table[0].dropna())\n",
      "<ipython-input-40-3bcb01c44ed2>:14: FutureWarning: The frame.append method is deprecated and will be removed from pandas in a future version. Use pandas.concat instead.\n",
      "  df = df.append(table[0].dropna())\n"
     ]
    },
    {
     "name": "stdout",
     "output_type": "stream",
     "text": [
      "https://finance.naver.com/sise/sise_index_day.naver?code=KOSPI&page=61\n",
      "https://finance.naver.com/sise/sise_index_day.naver?code=KOSPI&page=62\n",
      "https://finance.naver.com/sise/sise_index_day.naver?code=KOSPI&page=63\n",
      "https://finance.naver.com/sise/sise_index_day.naver?code=KOSPI&page=64\n"
     ]
    },
    {
     "name": "stderr",
     "output_type": "stream",
     "text": [
      "<ipython-input-40-3bcb01c44ed2>:14: FutureWarning: The frame.append method is deprecated and will be removed from pandas in a future version. Use pandas.concat instead.\n",
      "  df = df.append(table[0].dropna())\n",
      "<ipython-input-40-3bcb01c44ed2>:14: FutureWarning: The frame.append method is deprecated and will be removed from pandas in a future version. Use pandas.concat instead.\n",
      "  df = df.append(table[0].dropna())\n",
      "<ipython-input-40-3bcb01c44ed2>:14: FutureWarning: The frame.append method is deprecated and will be removed from pandas in a future version. Use pandas.concat instead.\n",
      "  df = df.append(table[0].dropna())\n",
      "<ipython-input-40-3bcb01c44ed2>:14: FutureWarning: The frame.append method is deprecated and will be removed from pandas in a future version. Use pandas.concat instead.\n",
      "  df = df.append(table[0].dropna())\n"
     ]
    },
    {
     "name": "stdout",
     "output_type": "stream",
     "text": [
      "https://finance.naver.com/sise/sise_index_day.naver?code=KOSPI&page=65\n",
      "https://finance.naver.com/sise/sise_index_day.naver?code=KOSPI&page=66\n",
      "https://finance.naver.com/sise/sise_index_day.naver?code=KOSPI&page=67\n",
      "https://finance.naver.com/sise/sise_index_day.naver?code=KOSPI&page=68\n"
     ]
    },
    {
     "name": "stderr",
     "output_type": "stream",
     "text": [
      "<ipython-input-40-3bcb01c44ed2>:14: FutureWarning: The frame.append method is deprecated and will be removed from pandas in a future version. Use pandas.concat instead.\n",
      "  df = df.append(table[0].dropna())\n",
      "<ipython-input-40-3bcb01c44ed2>:14: FutureWarning: The frame.append method is deprecated and will be removed from pandas in a future version. Use pandas.concat instead.\n",
      "  df = df.append(table[0].dropna())\n",
      "<ipython-input-40-3bcb01c44ed2>:14: FutureWarning: The frame.append method is deprecated and will be removed from pandas in a future version. Use pandas.concat instead.\n",
      "  df = df.append(table[0].dropna())\n",
      "<ipython-input-40-3bcb01c44ed2>:14: FutureWarning: The frame.append method is deprecated and will be removed from pandas in a future version. Use pandas.concat instead.\n",
      "  df = df.append(table[0].dropna())\n"
     ]
    },
    {
     "name": "stdout",
     "output_type": "stream",
     "text": [
      "https://finance.naver.com/sise/sise_index_day.naver?code=KOSPI&page=69\n",
      "https://finance.naver.com/sise/sise_index_day.naver?code=KOSPI&page=70\n",
      "https://finance.naver.com/sise/sise_index_day.naver?code=KOSPI&page=71\n",
      "https://finance.naver.com/sise/sise_index_day.naver?code=KOSPI&page=72\n"
     ]
    },
    {
     "name": "stderr",
     "output_type": "stream",
     "text": [
      "<ipython-input-40-3bcb01c44ed2>:14: FutureWarning: The frame.append method is deprecated and will be removed from pandas in a future version. Use pandas.concat instead.\n",
      "  df = df.append(table[0].dropna())\n",
      "<ipython-input-40-3bcb01c44ed2>:14: FutureWarning: The frame.append method is deprecated and will be removed from pandas in a future version. Use pandas.concat instead.\n",
      "  df = df.append(table[0].dropna())\n",
      "<ipython-input-40-3bcb01c44ed2>:14: FutureWarning: The frame.append method is deprecated and will be removed from pandas in a future version. Use pandas.concat instead.\n",
      "  df = df.append(table[0].dropna())\n",
      "<ipython-input-40-3bcb01c44ed2>:14: FutureWarning: The frame.append method is deprecated and will be removed from pandas in a future version. Use pandas.concat instead.\n",
      "  df = df.append(table[0].dropna())\n"
     ]
    },
    {
     "name": "stdout",
     "output_type": "stream",
     "text": [
      "https://finance.naver.com/sise/sise_index_day.naver?code=KOSPI&page=73\n",
      "https://finance.naver.com/sise/sise_index_day.naver?code=KOSPI&page=74\n",
      "https://finance.naver.com/sise/sise_index_day.naver?code=KOSPI&page=75\n",
      "https://finance.naver.com/sise/sise_index_day.naver?code=KOSPI&page=76\n"
     ]
    },
    {
     "name": "stderr",
     "output_type": "stream",
     "text": [
      "<ipython-input-40-3bcb01c44ed2>:14: FutureWarning: The frame.append method is deprecated and will be removed from pandas in a future version. Use pandas.concat instead.\n",
      "  df = df.append(table[0].dropna())\n",
      "<ipython-input-40-3bcb01c44ed2>:14: FutureWarning: The frame.append method is deprecated and will be removed from pandas in a future version. Use pandas.concat instead.\n",
      "  df = df.append(table[0].dropna())\n",
      "<ipython-input-40-3bcb01c44ed2>:14: FutureWarning: The frame.append method is deprecated and will be removed from pandas in a future version. Use pandas.concat instead.\n",
      "  df = df.append(table[0].dropna())\n",
      "<ipython-input-40-3bcb01c44ed2>:14: FutureWarning: The frame.append method is deprecated and will be removed from pandas in a future version. Use pandas.concat instead.\n",
      "  df = df.append(table[0].dropna())\n"
     ]
    },
    {
     "name": "stdout",
     "output_type": "stream",
     "text": [
      "https://finance.naver.com/sise/sise_index_day.naver?code=KOSPI&page=77\n",
      "https://finance.naver.com/sise/sise_index_day.naver?code=KOSPI&page=78\n",
      "https://finance.naver.com/sise/sise_index_day.naver?code=KOSPI&page=79\n",
      "https://finance.naver.com/sise/sise_index_day.naver?code=KOSPI&page=80\n"
     ]
    },
    {
     "name": "stderr",
     "output_type": "stream",
     "text": [
      "<ipython-input-40-3bcb01c44ed2>:14: FutureWarning: The frame.append method is deprecated and will be removed from pandas in a future version. Use pandas.concat instead.\n",
      "  df = df.append(table[0].dropna())\n",
      "<ipython-input-40-3bcb01c44ed2>:14: FutureWarning: The frame.append method is deprecated and will be removed from pandas in a future version. Use pandas.concat instead.\n",
      "  df = df.append(table[0].dropna())\n",
      "<ipython-input-40-3bcb01c44ed2>:14: FutureWarning: The frame.append method is deprecated and will be removed from pandas in a future version. Use pandas.concat instead.\n",
      "  df = df.append(table[0].dropna())\n",
      "<ipython-input-40-3bcb01c44ed2>:14: FutureWarning: The frame.append method is deprecated and will be removed from pandas in a future version. Use pandas.concat instead.\n",
      "  df = df.append(table[0].dropna())\n"
     ]
    },
    {
     "name": "stdout",
     "output_type": "stream",
     "text": [
      "https://finance.naver.com/sise/sise_index_day.naver?code=KOSPI&page=81\n",
      "https://finance.naver.com/sise/sise_index_day.naver?code=KOSPI&page=82\n",
      "https://finance.naver.com/sise/sise_index_day.naver?code=KOSPI&page=83\n",
      "https://finance.naver.com/sise/sise_index_day.naver?code=KOSPI&page=84\n"
     ]
    },
    {
     "name": "stderr",
     "output_type": "stream",
     "text": [
      "<ipython-input-40-3bcb01c44ed2>:14: FutureWarning: The frame.append method is deprecated and will be removed from pandas in a future version. Use pandas.concat instead.\n",
      "  df = df.append(table[0].dropna())\n",
      "<ipython-input-40-3bcb01c44ed2>:14: FutureWarning: The frame.append method is deprecated and will be removed from pandas in a future version. Use pandas.concat instead.\n",
      "  df = df.append(table[0].dropna())\n",
      "<ipython-input-40-3bcb01c44ed2>:14: FutureWarning: The frame.append method is deprecated and will be removed from pandas in a future version. Use pandas.concat instead.\n",
      "  df = df.append(table[0].dropna())\n",
      "<ipython-input-40-3bcb01c44ed2>:14: FutureWarning: The frame.append method is deprecated and will be removed from pandas in a future version. Use pandas.concat instead.\n",
      "  df = df.append(table[0].dropna())\n"
     ]
    },
    {
     "name": "stdout",
     "output_type": "stream",
     "text": [
      "https://finance.naver.com/sise/sise_index_day.naver?code=KOSPI&page=85\n",
      "https://finance.naver.com/sise/sise_index_day.naver?code=KOSPI&page=86\n",
      "https://finance.naver.com/sise/sise_index_day.naver?code=KOSPI&page=87\n",
      "https://finance.naver.com/sise/sise_index_day.naver?code=KOSPI&page=88\n"
     ]
    },
    {
     "name": "stderr",
     "output_type": "stream",
     "text": [
      "<ipython-input-40-3bcb01c44ed2>:14: FutureWarning: The frame.append method is deprecated and will be removed from pandas in a future version. Use pandas.concat instead.\n",
      "  df = df.append(table[0].dropna())\n",
      "<ipython-input-40-3bcb01c44ed2>:14: FutureWarning: The frame.append method is deprecated and will be removed from pandas in a future version. Use pandas.concat instead.\n",
      "  df = df.append(table[0].dropna())\n",
      "<ipython-input-40-3bcb01c44ed2>:14: FutureWarning: The frame.append method is deprecated and will be removed from pandas in a future version. Use pandas.concat instead.\n",
      "  df = df.append(table[0].dropna())\n",
      "<ipython-input-40-3bcb01c44ed2>:14: FutureWarning: The frame.append method is deprecated and will be removed from pandas in a future version. Use pandas.concat instead.\n",
      "  df = df.append(table[0].dropna())\n"
     ]
    },
    {
     "name": "stdout",
     "output_type": "stream",
     "text": [
      "https://finance.naver.com/sise/sise_index_day.naver?code=KOSPI&page=89\n",
      "https://finance.naver.com/sise/sise_index_day.naver?code=KOSPI&page=90\n",
      "https://finance.naver.com/sise/sise_index_day.naver?code=KOSPI&page=91\n"
     ]
    },
    {
     "name": "stderr",
     "output_type": "stream",
     "text": [
      "<ipython-input-40-3bcb01c44ed2>:14: FutureWarning: The frame.append method is deprecated and will be removed from pandas in a future version. Use pandas.concat instead.\n",
      "  df = df.append(table[0].dropna())\n",
      "<ipython-input-40-3bcb01c44ed2>:14: FutureWarning: The frame.append method is deprecated and will be removed from pandas in a future version. Use pandas.concat instead.\n",
      "  df = df.append(table[0].dropna())\n",
      "<ipython-input-40-3bcb01c44ed2>:14: FutureWarning: The frame.append method is deprecated and will be removed from pandas in a future version. Use pandas.concat instead.\n",
      "  df = df.append(table[0].dropna())\n",
      "<ipython-input-40-3bcb01c44ed2>:14: FutureWarning: The frame.append method is deprecated and will be removed from pandas in a future version. Use pandas.concat instead.\n",
      "  df = df.append(table[0].dropna())\n",
      "<ipython-input-40-3bcb01c44ed2>:14: FutureWarning: The frame.append method is deprecated and will be removed from pandas in a future version. Use pandas.concat instead.\n",
      "  df = df.append(table[0].dropna())\n",
      "<ipython-input-40-3bcb01c44ed2>:14: FutureWarning: The frame.append method is deprecated and will be removed from pandas in a future version. Use pandas.concat instead.\n",
      "  df = df.append(table[0].dropna())\n"
     ]
    },
    {
     "name": "stdout",
     "output_type": "stream",
     "text": [
      "https://finance.naver.com/sise/sise_index_day.naver?code=KOSPI&page=92\n",
      "https://finance.naver.com/sise/sise_index_day.naver?code=KOSPI&page=93\n",
      "https://finance.naver.com/sise/sise_index_day.naver?code=KOSPI&page=94\n",
      "https://finance.naver.com/sise/sise_index_day.naver?code=KOSPI&page=95\n"
     ]
    },
    {
     "name": "stderr",
     "output_type": "stream",
     "text": [
      "<ipython-input-40-3bcb01c44ed2>:14: FutureWarning: The frame.append method is deprecated and will be removed from pandas in a future version. Use pandas.concat instead.\n",
      "  df = df.append(table[0].dropna())\n",
      "<ipython-input-40-3bcb01c44ed2>:14: FutureWarning: The frame.append method is deprecated and will be removed from pandas in a future version. Use pandas.concat instead.\n",
      "  df = df.append(table[0].dropna())\n",
      "<ipython-input-40-3bcb01c44ed2>:14: FutureWarning: The frame.append method is deprecated and will be removed from pandas in a future version. Use pandas.concat instead.\n",
      "  df = df.append(table[0].dropna())\n",
      "<ipython-input-40-3bcb01c44ed2>:14: FutureWarning: The frame.append method is deprecated and will be removed from pandas in a future version. Use pandas.concat instead.\n",
      "  df = df.append(table[0].dropna())\n"
     ]
    },
    {
     "name": "stdout",
     "output_type": "stream",
     "text": [
      "https://finance.naver.com/sise/sise_index_day.naver?code=KOSPI&page=96\n",
      "https://finance.naver.com/sise/sise_index_day.naver?code=KOSPI&page=97\n",
      "https://finance.naver.com/sise/sise_index_day.naver?code=KOSPI&page=98\n",
      "https://finance.naver.com/sise/sise_index_day.naver?code=KOSPI&page=99\n"
     ]
    },
    {
     "name": "stderr",
     "output_type": "stream",
     "text": [
      "<ipython-input-40-3bcb01c44ed2>:14: FutureWarning: The frame.append method is deprecated and will be removed from pandas in a future version. Use pandas.concat instead.\n",
      "  df = df.append(table[0].dropna())\n",
      "<ipython-input-40-3bcb01c44ed2>:14: FutureWarning: The frame.append method is deprecated and will be removed from pandas in a future version. Use pandas.concat instead.\n",
      "  df = df.append(table[0].dropna())\n",
      "<ipython-input-40-3bcb01c44ed2>:14: FutureWarning: The frame.append method is deprecated and will be removed from pandas in a future version. Use pandas.concat instead.\n",
      "  df = df.append(table[0].dropna())\n",
      "<ipython-input-40-3bcb01c44ed2>:14: FutureWarning: The frame.append method is deprecated and will be removed from pandas in a future version. Use pandas.concat instead.\n",
      "  df = df.append(table[0].dropna())\n"
     ]
    },
    {
     "name": "stdout",
     "output_type": "stream",
     "text": [
      "https://finance.naver.com/sise/sise_index_day.naver?code=KOSPI&page=100\n",
      "https://finance.naver.com/sise/sise_index_day.naver?code=KOSPI&page=101\n",
      "https://finance.naver.com/sise/sise_index_day.naver?code=KOSPI&page=102\n",
      "https://finance.naver.com/sise/sise_index_day.naver?code=KOSPI&page=103\n"
     ]
    },
    {
     "name": "stderr",
     "output_type": "stream",
     "text": [
      "<ipython-input-40-3bcb01c44ed2>:14: FutureWarning: The frame.append method is deprecated and will be removed from pandas in a future version. Use pandas.concat instead.\n",
      "  df = df.append(table[0].dropna())\n",
      "<ipython-input-40-3bcb01c44ed2>:14: FutureWarning: The frame.append method is deprecated and will be removed from pandas in a future version. Use pandas.concat instead.\n",
      "  df = df.append(table[0].dropna())\n",
      "<ipython-input-40-3bcb01c44ed2>:14: FutureWarning: The frame.append method is deprecated and will be removed from pandas in a future version. Use pandas.concat instead.\n",
      "  df = df.append(table[0].dropna())\n",
      "<ipython-input-40-3bcb01c44ed2>:14: FutureWarning: The frame.append method is deprecated and will be removed from pandas in a future version. Use pandas.concat instead.\n",
      "  df = df.append(table[0].dropna())\n"
     ]
    },
    {
     "name": "stdout",
     "output_type": "stream",
     "text": [
      "https://finance.naver.com/sise/sise_index_day.naver?code=KOSPI&page=104\n",
      "https://finance.naver.com/sise/sise_index_day.naver?code=KOSPI&page=105\n",
      "https://finance.naver.com/sise/sise_index_day.naver?code=KOSPI&page=106\n",
      "https://finance.naver.com/sise/sise_index_day.naver?code=KOSPI&page=107\n"
     ]
    },
    {
     "name": "stderr",
     "output_type": "stream",
     "text": [
      "<ipython-input-40-3bcb01c44ed2>:14: FutureWarning: The frame.append method is deprecated and will be removed from pandas in a future version. Use pandas.concat instead.\n",
      "  df = df.append(table[0].dropna())\n",
      "<ipython-input-40-3bcb01c44ed2>:14: FutureWarning: The frame.append method is deprecated and will be removed from pandas in a future version. Use pandas.concat instead.\n",
      "  df = df.append(table[0].dropna())\n",
      "<ipython-input-40-3bcb01c44ed2>:14: FutureWarning: The frame.append method is deprecated and will be removed from pandas in a future version. Use pandas.concat instead.\n",
      "  df = df.append(table[0].dropna())\n",
      "<ipython-input-40-3bcb01c44ed2>:14: FutureWarning: The frame.append method is deprecated and will be removed from pandas in a future version. Use pandas.concat instead.\n",
      "  df = df.append(table[0].dropna())\n"
     ]
    },
    {
     "name": "stdout",
     "output_type": "stream",
     "text": [
      "https://finance.naver.com/sise/sise_index_day.naver?code=KOSPI&page=108\n",
      "https://finance.naver.com/sise/sise_index_day.naver?code=KOSPI&page=109\n",
      "https://finance.naver.com/sise/sise_index_day.naver?code=KOSPI&page=110\n",
      "https://finance.naver.com/sise/sise_index_day.naver?code=KOSPI&page=111\n"
     ]
    },
    {
     "name": "stderr",
     "output_type": "stream",
     "text": [
      "<ipython-input-40-3bcb01c44ed2>:14: FutureWarning: The frame.append method is deprecated and will be removed from pandas in a future version. Use pandas.concat instead.\n",
      "  df = df.append(table[0].dropna())\n",
      "<ipython-input-40-3bcb01c44ed2>:14: FutureWarning: The frame.append method is deprecated and will be removed from pandas in a future version. Use pandas.concat instead.\n",
      "  df = df.append(table[0].dropna())\n",
      "<ipython-input-40-3bcb01c44ed2>:14: FutureWarning: The frame.append method is deprecated and will be removed from pandas in a future version. Use pandas.concat instead.\n",
      "  df = df.append(table[0].dropna())\n",
      "<ipython-input-40-3bcb01c44ed2>:14: FutureWarning: The frame.append method is deprecated and will be removed from pandas in a future version. Use pandas.concat instead.\n",
      "  df = df.append(table[0].dropna())\n"
     ]
    },
    {
     "name": "stdout",
     "output_type": "stream",
     "text": [
      "https://finance.naver.com/sise/sise_index_day.naver?code=KOSPI&page=112\n",
      "https://finance.naver.com/sise/sise_index_day.naver?code=KOSPI&page=113\n",
      "https://finance.naver.com/sise/sise_index_day.naver?code=KOSPI&page=114\n",
      "https://finance.naver.com/sise/sise_index_day.naver?code=KOSPI&page=115\n"
     ]
    },
    {
     "name": "stderr",
     "output_type": "stream",
     "text": [
      "<ipython-input-40-3bcb01c44ed2>:14: FutureWarning: The frame.append method is deprecated and will be removed from pandas in a future version. Use pandas.concat instead.\n",
      "  df = df.append(table[0].dropna())\n",
      "<ipython-input-40-3bcb01c44ed2>:14: FutureWarning: The frame.append method is deprecated and will be removed from pandas in a future version. Use pandas.concat instead.\n",
      "  df = df.append(table[0].dropna())\n",
      "<ipython-input-40-3bcb01c44ed2>:14: FutureWarning: The frame.append method is deprecated and will be removed from pandas in a future version. Use pandas.concat instead.\n",
      "  df = df.append(table[0].dropna())\n",
      "<ipython-input-40-3bcb01c44ed2>:14: FutureWarning: The frame.append method is deprecated and will be removed from pandas in a future version. Use pandas.concat instead.\n",
      "  df = df.append(table[0].dropna())\n"
     ]
    },
    {
     "name": "stdout",
     "output_type": "stream",
     "text": [
      "https://finance.naver.com/sise/sise_index_day.naver?code=KOSPI&page=116\n",
      "https://finance.naver.com/sise/sise_index_day.naver?code=KOSPI&page=117\n",
      "https://finance.naver.com/sise/sise_index_day.naver?code=KOSPI&page=118\n",
      "https://finance.naver.com/sise/sise_index_day.naver?code=KOSPI&page=119\n"
     ]
    },
    {
     "name": "stderr",
     "output_type": "stream",
     "text": [
      "<ipython-input-40-3bcb01c44ed2>:14: FutureWarning: The frame.append method is deprecated and will be removed from pandas in a future version. Use pandas.concat instead.\n",
      "  df = df.append(table[0].dropna())\n",
      "<ipython-input-40-3bcb01c44ed2>:14: FutureWarning: The frame.append method is deprecated and will be removed from pandas in a future version. Use pandas.concat instead.\n",
      "  df = df.append(table[0].dropna())\n",
      "<ipython-input-40-3bcb01c44ed2>:14: FutureWarning: The frame.append method is deprecated and will be removed from pandas in a future version. Use pandas.concat instead.\n",
      "  df = df.append(table[0].dropna())\n",
      "<ipython-input-40-3bcb01c44ed2>:14: FutureWarning: The frame.append method is deprecated and will be removed from pandas in a future version. Use pandas.concat instead.\n",
      "  df = df.append(table[0].dropna())\n"
     ]
    },
    {
     "name": "stdout",
     "output_type": "stream",
     "text": [
      "https://finance.naver.com/sise/sise_index_day.naver?code=KOSPI&page=120\n",
      "https://finance.naver.com/sise/sise_index_day.naver?code=KOSPI&page=121\n",
      "https://finance.naver.com/sise/sise_index_day.naver?code=KOSPI&page=122\n",
      "https://finance.naver.com/sise/sise_index_day.naver?code=KOSPI&page=123\n"
     ]
    },
    {
     "name": "stderr",
     "output_type": "stream",
     "text": [
      "<ipython-input-40-3bcb01c44ed2>:14: FutureWarning: The frame.append method is deprecated and will be removed from pandas in a future version. Use pandas.concat instead.\n",
      "  df = df.append(table[0].dropna())\n",
      "<ipython-input-40-3bcb01c44ed2>:14: FutureWarning: The frame.append method is deprecated and will be removed from pandas in a future version. Use pandas.concat instead.\n",
      "  df = df.append(table[0].dropna())\n",
      "<ipython-input-40-3bcb01c44ed2>:14: FutureWarning: The frame.append method is deprecated and will be removed from pandas in a future version. Use pandas.concat instead.\n",
      "  df = df.append(table[0].dropna())\n",
      "<ipython-input-40-3bcb01c44ed2>:14: FutureWarning: The frame.append method is deprecated and will be removed from pandas in a future version. Use pandas.concat instead.\n",
      "  df = df.append(table[0].dropna())\n"
     ]
    },
    {
     "name": "stdout",
     "output_type": "stream",
     "text": [
      "https://finance.naver.com/sise/sise_index_day.naver?code=KOSPI&page=124\n",
      "https://finance.naver.com/sise/sise_index_day.naver?code=KOSPI&page=125\n",
      "https://finance.naver.com/sise/sise_index_day.naver?code=KOSPI&page=126\n",
      "https://finance.naver.com/sise/sise_index_day.naver?code=KOSPI&page=127\n"
     ]
    },
    {
     "name": "stderr",
     "output_type": "stream",
     "text": [
      "<ipython-input-40-3bcb01c44ed2>:14: FutureWarning: The frame.append method is deprecated and will be removed from pandas in a future version. Use pandas.concat instead.\n",
      "  df = df.append(table[0].dropna())\n",
      "<ipython-input-40-3bcb01c44ed2>:14: FutureWarning: The frame.append method is deprecated and will be removed from pandas in a future version. Use pandas.concat instead.\n",
      "  df = df.append(table[0].dropna())\n",
      "<ipython-input-40-3bcb01c44ed2>:14: FutureWarning: The frame.append method is deprecated and will be removed from pandas in a future version. Use pandas.concat instead.\n",
      "  df = df.append(table[0].dropna())\n",
      "<ipython-input-40-3bcb01c44ed2>:14: FutureWarning: The frame.append method is deprecated and will be removed from pandas in a future version. Use pandas.concat instead.\n",
      "  df = df.append(table[0].dropna())\n"
     ]
    },
    {
     "name": "stdout",
     "output_type": "stream",
     "text": [
      "https://finance.naver.com/sise/sise_index_day.naver?code=KOSPI&page=128\n",
      "https://finance.naver.com/sise/sise_index_day.naver?code=KOSPI&page=129\n",
      "https://finance.naver.com/sise/sise_index_day.naver?code=KOSPI&page=130\n",
      "https://finance.naver.com/sise/sise_index_day.naver?code=KOSPI&page=131\n"
     ]
    },
    {
     "name": "stderr",
     "output_type": "stream",
     "text": [
      "<ipython-input-40-3bcb01c44ed2>:14: FutureWarning: The frame.append method is deprecated and will be removed from pandas in a future version. Use pandas.concat instead.\n",
      "  df = df.append(table[0].dropna())\n",
      "<ipython-input-40-3bcb01c44ed2>:14: FutureWarning: The frame.append method is deprecated and will be removed from pandas in a future version. Use pandas.concat instead.\n",
      "  df = df.append(table[0].dropna())\n",
      "<ipython-input-40-3bcb01c44ed2>:14: FutureWarning: The frame.append method is deprecated and will be removed from pandas in a future version. Use pandas.concat instead.\n",
      "  df = df.append(table[0].dropna())\n",
      "<ipython-input-40-3bcb01c44ed2>:14: FutureWarning: The frame.append method is deprecated and will be removed from pandas in a future version. Use pandas.concat instead.\n",
      "  df = df.append(table[0].dropna())\n"
     ]
    },
    {
     "name": "stdout",
     "output_type": "stream",
     "text": [
      "https://finance.naver.com/sise/sise_index_day.naver?code=KOSPI&page=132\n",
      "https://finance.naver.com/sise/sise_index_day.naver?code=KOSPI&page=133\n",
      "https://finance.naver.com/sise/sise_index_day.naver?code=KOSPI&page=134\n",
      "https://finance.naver.com/sise/sise_index_day.naver?code=KOSPI&page=135\n"
     ]
    },
    {
     "name": "stderr",
     "output_type": "stream",
     "text": [
      "<ipython-input-40-3bcb01c44ed2>:14: FutureWarning: The frame.append method is deprecated and will be removed from pandas in a future version. Use pandas.concat instead.\n",
      "  df = df.append(table[0].dropna())\n",
      "<ipython-input-40-3bcb01c44ed2>:14: FutureWarning: The frame.append method is deprecated and will be removed from pandas in a future version. Use pandas.concat instead.\n",
      "  df = df.append(table[0].dropna())\n",
      "<ipython-input-40-3bcb01c44ed2>:14: FutureWarning: The frame.append method is deprecated and will be removed from pandas in a future version. Use pandas.concat instead.\n",
      "  df = df.append(table[0].dropna())\n",
      "<ipython-input-40-3bcb01c44ed2>:14: FutureWarning: The frame.append method is deprecated and will be removed from pandas in a future version. Use pandas.concat instead.\n",
      "  df = df.append(table[0].dropna())\n"
     ]
    },
    {
     "name": "stdout",
     "output_type": "stream",
     "text": [
      "https://finance.naver.com/sise/sise_index_day.naver?code=KOSPI&page=136\n",
      "https://finance.naver.com/sise/sise_index_day.naver?code=KOSPI&page=137\n",
      "https://finance.naver.com/sise/sise_index_day.naver?code=KOSPI&page=138\n",
      "https://finance.naver.com/sise/sise_index_day.naver?code=KOSPI&page=139\n"
     ]
    },
    {
     "name": "stderr",
     "output_type": "stream",
     "text": [
      "<ipython-input-40-3bcb01c44ed2>:14: FutureWarning: The frame.append method is deprecated and will be removed from pandas in a future version. Use pandas.concat instead.\n",
      "  df = df.append(table[0].dropna())\n",
      "<ipython-input-40-3bcb01c44ed2>:14: FutureWarning: The frame.append method is deprecated and will be removed from pandas in a future version. Use pandas.concat instead.\n",
      "  df = df.append(table[0].dropna())\n",
      "<ipython-input-40-3bcb01c44ed2>:14: FutureWarning: The frame.append method is deprecated and will be removed from pandas in a future version. Use pandas.concat instead.\n",
      "  df = df.append(table[0].dropna())\n",
      "<ipython-input-40-3bcb01c44ed2>:14: FutureWarning: The frame.append method is deprecated and will be removed from pandas in a future version. Use pandas.concat instead.\n",
      "  df = df.append(table[0].dropna())\n"
     ]
    },
    {
     "name": "stdout",
     "output_type": "stream",
     "text": [
      "https://finance.naver.com/sise/sise_index_day.naver?code=KOSPI&page=140\n",
      "https://finance.naver.com/sise/sise_index_day.naver?code=KOSPI&page=141\n",
      "https://finance.naver.com/sise/sise_index_day.naver?code=KOSPI&page=142\n",
      "https://finance.naver.com/sise/sise_index_day.naver?code=KOSPI&page=143\n"
     ]
    },
    {
     "name": "stderr",
     "output_type": "stream",
     "text": [
      "<ipython-input-40-3bcb01c44ed2>:14: FutureWarning: The frame.append method is deprecated and will be removed from pandas in a future version. Use pandas.concat instead.\n",
      "  df = df.append(table[0].dropna())\n",
      "<ipython-input-40-3bcb01c44ed2>:14: FutureWarning: The frame.append method is deprecated and will be removed from pandas in a future version. Use pandas.concat instead.\n",
      "  df = df.append(table[0].dropna())\n",
      "<ipython-input-40-3bcb01c44ed2>:14: FutureWarning: The frame.append method is deprecated and will be removed from pandas in a future version. Use pandas.concat instead.\n",
      "  df = df.append(table[0].dropna())\n",
      "<ipython-input-40-3bcb01c44ed2>:14: FutureWarning: The frame.append method is deprecated and will be removed from pandas in a future version. Use pandas.concat instead.\n",
      "  df = df.append(table[0].dropna())\n"
     ]
    },
    {
     "name": "stdout",
     "output_type": "stream",
     "text": [
      "https://finance.naver.com/sise/sise_index_day.naver?code=KOSPI&page=144\n",
      "https://finance.naver.com/sise/sise_index_day.naver?code=KOSPI&page=145\n",
      "https://finance.naver.com/sise/sise_index_day.naver?code=KOSPI&page=146\n",
      "https://finance.naver.com/sise/sise_index_day.naver?code=KOSPI&page=147\n"
     ]
    },
    {
     "name": "stderr",
     "output_type": "stream",
     "text": [
      "<ipython-input-40-3bcb01c44ed2>:14: FutureWarning: The frame.append method is deprecated and will be removed from pandas in a future version. Use pandas.concat instead.\n",
      "  df = df.append(table[0].dropna())\n",
      "<ipython-input-40-3bcb01c44ed2>:14: FutureWarning: The frame.append method is deprecated and will be removed from pandas in a future version. Use pandas.concat instead.\n",
      "  df = df.append(table[0].dropna())\n",
      "<ipython-input-40-3bcb01c44ed2>:14: FutureWarning: The frame.append method is deprecated and will be removed from pandas in a future version. Use pandas.concat instead.\n",
      "  df = df.append(table[0].dropna())\n",
      "<ipython-input-40-3bcb01c44ed2>:14: FutureWarning: The frame.append method is deprecated and will be removed from pandas in a future version. Use pandas.concat instead.\n",
      "  df = df.append(table[0].dropna())\n"
     ]
    },
    {
     "name": "stdout",
     "output_type": "stream",
     "text": [
      "https://finance.naver.com/sise/sise_index_day.naver?code=KOSPI&page=148\n",
      "https://finance.naver.com/sise/sise_index_day.naver?code=KOSPI&page=149\n",
      "https://finance.naver.com/sise/sise_index_day.naver?code=KOSPI&page=150\n",
      "https://finance.naver.com/sise/sise_index_day.naver?code=KOSPI&page=151\n"
     ]
    },
    {
     "name": "stderr",
     "output_type": "stream",
     "text": [
      "<ipython-input-40-3bcb01c44ed2>:14: FutureWarning: The frame.append method is deprecated and will be removed from pandas in a future version. Use pandas.concat instead.\n",
      "  df = df.append(table[0].dropna())\n",
      "<ipython-input-40-3bcb01c44ed2>:14: FutureWarning: The frame.append method is deprecated and will be removed from pandas in a future version. Use pandas.concat instead.\n",
      "  df = df.append(table[0].dropna())\n",
      "<ipython-input-40-3bcb01c44ed2>:14: FutureWarning: The frame.append method is deprecated and will be removed from pandas in a future version. Use pandas.concat instead.\n",
      "  df = df.append(table[0].dropna())\n",
      "<ipython-input-40-3bcb01c44ed2>:14: FutureWarning: The frame.append method is deprecated and will be removed from pandas in a future version. Use pandas.concat instead.\n",
      "  df = df.append(table[0].dropna())\n"
     ]
    },
    {
     "name": "stdout",
     "output_type": "stream",
     "text": [
      "https://finance.naver.com/sise/sise_index_day.naver?code=KOSPI&page=152\n",
      "https://finance.naver.com/sise/sise_index_day.naver?code=KOSPI&page=153\n",
      "https://finance.naver.com/sise/sise_index_day.naver?code=KOSPI&page=154\n",
      "https://finance.naver.com/sise/sise_index_day.naver?code=KOSPI&page=155\n"
     ]
    },
    {
     "name": "stderr",
     "output_type": "stream",
     "text": [
      "<ipython-input-40-3bcb01c44ed2>:14: FutureWarning: The frame.append method is deprecated and will be removed from pandas in a future version. Use pandas.concat instead.\n",
      "  df = df.append(table[0].dropna())\n",
      "<ipython-input-40-3bcb01c44ed2>:14: FutureWarning: The frame.append method is deprecated and will be removed from pandas in a future version. Use pandas.concat instead.\n",
      "  df = df.append(table[0].dropna())\n",
      "<ipython-input-40-3bcb01c44ed2>:14: FutureWarning: The frame.append method is deprecated and will be removed from pandas in a future version. Use pandas.concat instead.\n",
      "  df = df.append(table[0].dropna())\n",
      "<ipython-input-40-3bcb01c44ed2>:14: FutureWarning: The frame.append method is deprecated and will be removed from pandas in a future version. Use pandas.concat instead.\n",
      "  df = df.append(table[0].dropna())\n"
     ]
    },
    {
     "name": "stdout",
     "output_type": "stream",
     "text": [
      "https://finance.naver.com/sise/sise_index_day.naver?code=KOSPI&page=156\n",
      "https://finance.naver.com/sise/sise_index_day.naver?code=KOSPI&page=157\n",
      "https://finance.naver.com/sise/sise_index_day.naver?code=KOSPI&page=158\n",
      "https://finance.naver.com/sise/sise_index_day.naver?code=KOSPI&page=159\n"
     ]
    },
    {
     "name": "stderr",
     "output_type": "stream",
     "text": [
      "<ipython-input-40-3bcb01c44ed2>:14: FutureWarning: The frame.append method is deprecated and will be removed from pandas in a future version. Use pandas.concat instead.\n",
      "  df = df.append(table[0].dropna())\n",
      "<ipython-input-40-3bcb01c44ed2>:14: FutureWarning: The frame.append method is deprecated and will be removed from pandas in a future version. Use pandas.concat instead.\n",
      "  df = df.append(table[0].dropna())\n",
      "<ipython-input-40-3bcb01c44ed2>:14: FutureWarning: The frame.append method is deprecated and will be removed from pandas in a future version. Use pandas.concat instead.\n",
      "  df = df.append(table[0].dropna())\n",
      "<ipython-input-40-3bcb01c44ed2>:14: FutureWarning: The frame.append method is deprecated and will be removed from pandas in a future version. Use pandas.concat instead.\n",
      "  df = df.append(table[0].dropna())\n"
     ]
    },
    {
     "name": "stdout",
     "output_type": "stream",
     "text": [
      "https://finance.naver.com/sise/sise_index_day.naver?code=KOSPI&page=160\n",
      "https://finance.naver.com/sise/sise_index_day.naver?code=KOSPI&page=161\n",
      "https://finance.naver.com/sise/sise_index_day.naver?code=KOSPI&page=162\n",
      "https://finance.naver.com/sise/sise_index_day.naver?code=KOSPI&page=163\n"
     ]
    },
    {
     "name": "stderr",
     "output_type": "stream",
     "text": [
      "<ipython-input-40-3bcb01c44ed2>:14: FutureWarning: The frame.append method is deprecated and will be removed from pandas in a future version. Use pandas.concat instead.\n",
      "  df = df.append(table[0].dropna())\n",
      "<ipython-input-40-3bcb01c44ed2>:14: FutureWarning: The frame.append method is deprecated and will be removed from pandas in a future version. Use pandas.concat instead.\n",
      "  df = df.append(table[0].dropna())\n",
      "<ipython-input-40-3bcb01c44ed2>:14: FutureWarning: The frame.append method is deprecated and will be removed from pandas in a future version. Use pandas.concat instead.\n",
      "  df = df.append(table[0].dropna())\n",
      "<ipython-input-40-3bcb01c44ed2>:14: FutureWarning: The frame.append method is deprecated and will be removed from pandas in a future version. Use pandas.concat instead.\n",
      "  df = df.append(table[0].dropna())\n"
     ]
    },
    {
     "name": "stdout",
     "output_type": "stream",
     "text": [
      "https://finance.naver.com/sise/sise_index_day.naver?code=KOSPI&page=164\n",
      "https://finance.naver.com/sise/sise_index_day.naver?code=KOSPI&page=165\n",
      "https://finance.naver.com/sise/sise_index_day.naver?code=KOSPI&page=166\n",
      "https://finance.naver.com/sise/sise_index_day.naver?code=KOSPI&page=167\n"
     ]
    },
    {
     "name": "stderr",
     "output_type": "stream",
     "text": [
      "<ipython-input-40-3bcb01c44ed2>:14: FutureWarning: The frame.append method is deprecated and will be removed from pandas in a future version. Use pandas.concat instead.\n",
      "  df = df.append(table[0].dropna())\n",
      "<ipython-input-40-3bcb01c44ed2>:14: FutureWarning: The frame.append method is deprecated and will be removed from pandas in a future version. Use pandas.concat instead.\n",
      "  df = df.append(table[0].dropna())\n",
      "<ipython-input-40-3bcb01c44ed2>:14: FutureWarning: The frame.append method is deprecated and will be removed from pandas in a future version. Use pandas.concat instead.\n",
      "  df = df.append(table[0].dropna())\n",
      "<ipython-input-40-3bcb01c44ed2>:14: FutureWarning: The frame.append method is deprecated and will be removed from pandas in a future version. Use pandas.concat instead.\n",
      "  df = df.append(table[0].dropna())\n"
     ]
    },
    {
     "name": "stdout",
     "output_type": "stream",
     "text": [
      "https://finance.naver.com/sise/sise_index_day.naver?code=KOSPI&page=168\n",
      "https://finance.naver.com/sise/sise_index_day.naver?code=KOSPI&page=169\n",
      "https://finance.naver.com/sise/sise_index_day.naver?code=KOSPI&page=170\n",
      "https://finance.naver.com/sise/sise_index_day.naver?code=KOSPI&page=171\n"
     ]
    },
    {
     "name": "stderr",
     "output_type": "stream",
     "text": [
      "<ipython-input-40-3bcb01c44ed2>:14: FutureWarning: The frame.append method is deprecated and will be removed from pandas in a future version. Use pandas.concat instead.\n",
      "  df = df.append(table[0].dropna())\n",
      "<ipython-input-40-3bcb01c44ed2>:14: FutureWarning: The frame.append method is deprecated and will be removed from pandas in a future version. Use pandas.concat instead.\n",
      "  df = df.append(table[0].dropna())\n",
      "<ipython-input-40-3bcb01c44ed2>:14: FutureWarning: The frame.append method is deprecated and will be removed from pandas in a future version. Use pandas.concat instead.\n",
      "  df = df.append(table[0].dropna())\n",
      "<ipython-input-40-3bcb01c44ed2>:14: FutureWarning: The frame.append method is deprecated and will be removed from pandas in a future version. Use pandas.concat instead.\n",
      "  df = df.append(table[0].dropna())\n"
     ]
    },
    {
     "name": "stdout",
     "output_type": "stream",
     "text": [
      "https://finance.naver.com/sise/sise_index_day.naver?code=KOSPI&page=172\n",
      "https://finance.naver.com/sise/sise_index_day.naver?code=KOSPI&page=173\n",
      "https://finance.naver.com/sise/sise_index_day.naver?code=KOSPI&page=174\n",
      "https://finance.naver.com/sise/sise_index_day.naver?code=KOSPI&page=175\n"
     ]
    },
    {
     "name": "stderr",
     "output_type": "stream",
     "text": [
      "<ipython-input-40-3bcb01c44ed2>:14: FutureWarning: The frame.append method is deprecated and will be removed from pandas in a future version. Use pandas.concat instead.\n",
      "  df = df.append(table[0].dropna())\n",
      "<ipython-input-40-3bcb01c44ed2>:14: FutureWarning: The frame.append method is deprecated and will be removed from pandas in a future version. Use pandas.concat instead.\n",
      "  df = df.append(table[0].dropna())\n",
      "<ipython-input-40-3bcb01c44ed2>:14: FutureWarning: The frame.append method is deprecated and will be removed from pandas in a future version. Use pandas.concat instead.\n",
      "  df = df.append(table[0].dropna())\n",
      "<ipython-input-40-3bcb01c44ed2>:14: FutureWarning: The frame.append method is deprecated and will be removed from pandas in a future version. Use pandas.concat instead.\n",
      "  df = df.append(table[0].dropna())\n"
     ]
    },
    {
     "name": "stdout",
     "output_type": "stream",
     "text": [
      "https://finance.naver.com/sise/sise_index_day.naver?code=KOSPI&page=176\n",
      "https://finance.naver.com/sise/sise_index_day.naver?code=KOSPI&page=177\n",
      "https://finance.naver.com/sise/sise_index_day.naver?code=KOSPI&page=178\n",
      "https://finance.naver.com/sise/sise_index_day.naver?code=KOSPI&page=179\n"
     ]
    },
    {
     "name": "stderr",
     "output_type": "stream",
     "text": [
      "<ipython-input-40-3bcb01c44ed2>:14: FutureWarning: The frame.append method is deprecated and will be removed from pandas in a future version. Use pandas.concat instead.\n",
      "  df = df.append(table[0].dropna())\n",
      "<ipython-input-40-3bcb01c44ed2>:14: FutureWarning: The frame.append method is deprecated and will be removed from pandas in a future version. Use pandas.concat instead.\n",
      "  df = df.append(table[0].dropna())\n",
      "<ipython-input-40-3bcb01c44ed2>:14: FutureWarning: The frame.append method is deprecated and will be removed from pandas in a future version. Use pandas.concat instead.\n",
      "  df = df.append(table[0].dropna())\n",
      "<ipython-input-40-3bcb01c44ed2>:14: FutureWarning: The frame.append method is deprecated and will be removed from pandas in a future version. Use pandas.concat instead.\n",
      "  df = df.append(table[0].dropna())\n"
     ]
    },
    {
     "name": "stdout",
     "output_type": "stream",
     "text": [
      "https://finance.naver.com/sise/sise_index_day.naver?code=KOSPI&page=180\n",
      "https://finance.naver.com/sise/sise_index_day.naver?code=KOSPI&page=181\n",
      "https://finance.naver.com/sise/sise_index_day.naver?code=KOSPI&page=182\n",
      "https://finance.naver.com/sise/sise_index_day.naver?code=KOSPI&page=183\n"
     ]
    },
    {
     "name": "stderr",
     "output_type": "stream",
     "text": [
      "<ipython-input-40-3bcb01c44ed2>:14: FutureWarning: The frame.append method is deprecated and will be removed from pandas in a future version. Use pandas.concat instead.\n",
      "  df = df.append(table[0].dropna())\n",
      "<ipython-input-40-3bcb01c44ed2>:14: FutureWarning: The frame.append method is deprecated and will be removed from pandas in a future version. Use pandas.concat instead.\n",
      "  df = df.append(table[0].dropna())\n",
      "<ipython-input-40-3bcb01c44ed2>:14: FutureWarning: The frame.append method is deprecated and will be removed from pandas in a future version. Use pandas.concat instead.\n",
      "  df = df.append(table[0].dropna())\n",
      "<ipython-input-40-3bcb01c44ed2>:14: FutureWarning: The frame.append method is deprecated and will be removed from pandas in a future version. Use pandas.concat instead.\n",
      "  df = df.append(table[0].dropna())\n"
     ]
    },
    {
     "name": "stdout",
     "output_type": "stream",
     "text": [
      "https://finance.naver.com/sise/sise_index_day.naver?code=KOSPI&page=184\n",
      "https://finance.naver.com/sise/sise_index_day.naver?code=KOSPI&page=185\n",
      "https://finance.naver.com/sise/sise_index_day.naver?code=KOSPI&page=186\n",
      "https://finance.naver.com/sise/sise_index_day.naver?code=KOSPI&page=187\n"
     ]
    },
    {
     "name": "stderr",
     "output_type": "stream",
     "text": [
      "<ipython-input-40-3bcb01c44ed2>:14: FutureWarning: The frame.append method is deprecated and will be removed from pandas in a future version. Use pandas.concat instead.\n",
      "  df = df.append(table[0].dropna())\n",
      "<ipython-input-40-3bcb01c44ed2>:14: FutureWarning: The frame.append method is deprecated and will be removed from pandas in a future version. Use pandas.concat instead.\n",
      "  df = df.append(table[0].dropna())\n",
      "<ipython-input-40-3bcb01c44ed2>:14: FutureWarning: The frame.append method is deprecated and will be removed from pandas in a future version. Use pandas.concat instead.\n",
      "  df = df.append(table[0].dropna())\n",
      "<ipython-input-40-3bcb01c44ed2>:14: FutureWarning: The frame.append method is deprecated and will be removed from pandas in a future version. Use pandas.concat instead.\n",
      "  df = df.append(table[0].dropna())\n"
     ]
    },
    {
     "name": "stdout",
     "output_type": "stream",
     "text": [
      "https://finance.naver.com/sise/sise_index_day.naver?code=KOSPI&page=188\n",
      "https://finance.naver.com/sise/sise_index_day.naver?code=KOSPI&page=189\n",
      "https://finance.naver.com/sise/sise_index_day.naver?code=KOSPI&page=190\n",
      "https://finance.naver.com/sise/sise_index_day.naver?code=KOSPI&page=191\n"
     ]
    },
    {
     "name": "stderr",
     "output_type": "stream",
     "text": [
      "<ipython-input-40-3bcb01c44ed2>:14: FutureWarning: The frame.append method is deprecated and will be removed from pandas in a future version. Use pandas.concat instead.\n",
      "  df = df.append(table[0].dropna())\n",
      "<ipython-input-40-3bcb01c44ed2>:14: FutureWarning: The frame.append method is deprecated and will be removed from pandas in a future version. Use pandas.concat instead.\n",
      "  df = df.append(table[0].dropna())\n",
      "<ipython-input-40-3bcb01c44ed2>:14: FutureWarning: The frame.append method is deprecated and will be removed from pandas in a future version. Use pandas.concat instead.\n",
      "  df = df.append(table[0].dropna())\n",
      "<ipython-input-40-3bcb01c44ed2>:14: FutureWarning: The frame.append method is deprecated and will be removed from pandas in a future version. Use pandas.concat instead.\n",
      "  df = df.append(table[0].dropna())\n"
     ]
    },
    {
     "name": "stdout",
     "output_type": "stream",
     "text": [
      "https://finance.naver.com/sise/sise_index_day.naver?code=KOSPI&page=192\n",
      "https://finance.naver.com/sise/sise_index_day.naver?code=KOSPI&page=193\n",
      "https://finance.naver.com/sise/sise_index_day.naver?code=KOSPI&page=194\n",
      "https://finance.naver.com/sise/sise_index_day.naver?code=KOSPI&page=195\n"
     ]
    },
    {
     "name": "stderr",
     "output_type": "stream",
     "text": [
      "<ipython-input-40-3bcb01c44ed2>:14: FutureWarning: The frame.append method is deprecated and will be removed from pandas in a future version. Use pandas.concat instead.\n",
      "  df = df.append(table[0].dropna())\n",
      "<ipython-input-40-3bcb01c44ed2>:14: FutureWarning: The frame.append method is deprecated and will be removed from pandas in a future version. Use pandas.concat instead.\n",
      "  df = df.append(table[0].dropna())\n",
      "<ipython-input-40-3bcb01c44ed2>:14: FutureWarning: The frame.append method is deprecated and will be removed from pandas in a future version. Use pandas.concat instead.\n",
      "  df = df.append(table[0].dropna())\n",
      "<ipython-input-40-3bcb01c44ed2>:14: FutureWarning: The frame.append method is deprecated and will be removed from pandas in a future version. Use pandas.concat instead.\n",
      "  df = df.append(table[0].dropna())\n"
     ]
    },
    {
     "name": "stdout",
     "output_type": "stream",
     "text": [
      "https://finance.naver.com/sise/sise_index_day.naver?code=KOSPI&page=196\n",
      "https://finance.naver.com/sise/sise_index_day.naver?code=KOSPI&page=197\n",
      "https://finance.naver.com/sise/sise_index_day.naver?code=KOSPI&page=198\n",
      "https://finance.naver.com/sise/sise_index_day.naver?code=KOSPI&page=199\n"
     ]
    },
    {
     "name": "stderr",
     "output_type": "stream",
     "text": [
      "<ipython-input-40-3bcb01c44ed2>:14: FutureWarning: The frame.append method is deprecated and will be removed from pandas in a future version. Use pandas.concat instead.\n",
      "  df = df.append(table[0].dropna())\n",
      "<ipython-input-40-3bcb01c44ed2>:14: FutureWarning: The frame.append method is deprecated and will be removed from pandas in a future version. Use pandas.concat instead.\n",
      "  df = df.append(table[0].dropna())\n",
      "<ipython-input-40-3bcb01c44ed2>:14: FutureWarning: The frame.append method is deprecated and will be removed from pandas in a future version. Use pandas.concat instead.\n",
      "  df = df.append(table[0].dropna())\n",
      "<ipython-input-40-3bcb01c44ed2>:14: FutureWarning: The frame.append method is deprecated and will be removed from pandas in a future version. Use pandas.concat instead.\n",
      "  df = df.append(table[0].dropna())\n"
     ]
    },
    {
     "name": "stdout",
     "output_type": "stream",
     "text": [
      "https://finance.naver.com/sise/sise_index_day.naver?code=KOSPI&page=200\n",
      "https://finance.naver.com/sise/sise_index_day.naver?code=KOSPI&page=201\n",
      "https://finance.naver.com/sise/sise_index_day.naver?code=KOSPI&page=202\n",
      "https://finance.naver.com/sise/sise_index_day.naver?code=KOSPI&page=203\n"
     ]
    },
    {
     "name": "stderr",
     "output_type": "stream",
     "text": [
      "<ipython-input-40-3bcb01c44ed2>:14: FutureWarning: The frame.append method is deprecated and will be removed from pandas in a future version. Use pandas.concat instead.\n",
      "  df = df.append(table[0].dropna())\n",
      "<ipython-input-40-3bcb01c44ed2>:14: FutureWarning: The frame.append method is deprecated and will be removed from pandas in a future version. Use pandas.concat instead.\n",
      "  df = df.append(table[0].dropna())\n",
      "<ipython-input-40-3bcb01c44ed2>:14: FutureWarning: The frame.append method is deprecated and will be removed from pandas in a future version. Use pandas.concat instead.\n",
      "  df = df.append(table[0].dropna())\n",
      "<ipython-input-40-3bcb01c44ed2>:14: FutureWarning: The frame.append method is deprecated and will be removed from pandas in a future version. Use pandas.concat instead.\n",
      "  df = df.append(table[0].dropna())\n"
     ]
    },
    {
     "name": "stdout",
     "output_type": "stream",
     "text": [
      "https://finance.naver.com/sise/sise_index_day.naver?code=KOSPI&page=204\n",
      "https://finance.naver.com/sise/sise_index_day.naver?code=KOSPI&page=205\n",
      "https://finance.naver.com/sise/sise_index_day.naver?code=KOSPI&page=206\n",
      "https://finance.naver.com/sise/sise_index_day.naver?code=KOSPI&page=207\n"
     ]
    },
    {
     "name": "stderr",
     "output_type": "stream",
     "text": [
      "<ipython-input-40-3bcb01c44ed2>:14: FutureWarning: The frame.append method is deprecated and will be removed from pandas in a future version. Use pandas.concat instead.\n",
      "  df = df.append(table[0].dropna())\n",
      "<ipython-input-40-3bcb01c44ed2>:14: FutureWarning: The frame.append method is deprecated and will be removed from pandas in a future version. Use pandas.concat instead.\n",
      "  df = df.append(table[0].dropna())\n",
      "<ipython-input-40-3bcb01c44ed2>:14: FutureWarning: The frame.append method is deprecated and will be removed from pandas in a future version. Use pandas.concat instead.\n",
      "  df = df.append(table[0].dropna())\n",
      "<ipython-input-40-3bcb01c44ed2>:14: FutureWarning: The frame.append method is deprecated and will be removed from pandas in a future version. Use pandas.concat instead.\n",
      "  df = df.append(table[0].dropna())\n"
     ]
    },
    {
     "name": "stdout",
     "output_type": "stream",
     "text": [
      "https://finance.naver.com/sise/sise_index_day.naver?code=KOSPI&page=208\n",
      "https://finance.naver.com/sise/sise_index_day.naver?code=KOSPI&page=209\n",
      "https://finance.naver.com/sise/sise_index_day.naver?code=KOSPI&page=210\n",
      "https://finance.naver.com/sise/sise_index_day.naver?code=KOSPI&page=211\n"
     ]
    },
    {
     "name": "stderr",
     "output_type": "stream",
     "text": [
      "<ipython-input-40-3bcb01c44ed2>:14: FutureWarning: The frame.append method is deprecated and will be removed from pandas in a future version. Use pandas.concat instead.\n",
      "  df = df.append(table[0].dropna())\n",
      "<ipython-input-40-3bcb01c44ed2>:14: FutureWarning: The frame.append method is deprecated and will be removed from pandas in a future version. Use pandas.concat instead.\n",
      "  df = df.append(table[0].dropna())\n",
      "<ipython-input-40-3bcb01c44ed2>:14: FutureWarning: The frame.append method is deprecated and will be removed from pandas in a future version. Use pandas.concat instead.\n",
      "  df = df.append(table[0].dropna())\n",
      "<ipython-input-40-3bcb01c44ed2>:14: FutureWarning: The frame.append method is deprecated and will be removed from pandas in a future version. Use pandas.concat instead.\n",
      "  df = df.append(table[0].dropna())\n"
     ]
    },
    {
     "name": "stdout",
     "output_type": "stream",
     "text": [
      "https://finance.naver.com/sise/sise_index_day.naver?code=KOSPI&page=212\n",
      "https://finance.naver.com/sise/sise_index_day.naver?code=KOSPI&page=213\n",
      "https://finance.naver.com/sise/sise_index_day.naver?code=KOSPI&page=214\n",
      "https://finance.naver.com/sise/sise_index_day.naver?code=KOSPI&page=215\n"
     ]
    },
    {
     "name": "stderr",
     "output_type": "stream",
     "text": [
      "<ipython-input-40-3bcb01c44ed2>:14: FutureWarning: The frame.append method is deprecated and will be removed from pandas in a future version. Use pandas.concat instead.\n",
      "  df = df.append(table[0].dropna())\n",
      "<ipython-input-40-3bcb01c44ed2>:14: FutureWarning: The frame.append method is deprecated and will be removed from pandas in a future version. Use pandas.concat instead.\n",
      "  df = df.append(table[0].dropna())\n",
      "<ipython-input-40-3bcb01c44ed2>:14: FutureWarning: The frame.append method is deprecated and will be removed from pandas in a future version. Use pandas.concat instead.\n",
      "  df = df.append(table[0].dropna())\n",
      "<ipython-input-40-3bcb01c44ed2>:14: FutureWarning: The frame.append method is deprecated and will be removed from pandas in a future version. Use pandas.concat instead.\n",
      "  df = df.append(table[0].dropna())\n"
     ]
    },
    {
     "name": "stdout",
     "output_type": "stream",
     "text": [
      "https://finance.naver.com/sise/sise_index_day.naver?code=KOSPI&page=216\n",
      "https://finance.naver.com/sise/sise_index_day.naver?code=KOSPI&page=217\n",
      "https://finance.naver.com/sise/sise_index_day.naver?code=KOSPI&page=218\n",
      "https://finance.naver.com/sise/sise_index_day.naver?code=KOSPI&page=219\n"
     ]
    },
    {
     "name": "stderr",
     "output_type": "stream",
     "text": [
      "<ipython-input-40-3bcb01c44ed2>:14: FutureWarning: The frame.append method is deprecated and will be removed from pandas in a future version. Use pandas.concat instead.\n",
      "  df = df.append(table[0].dropna())\n",
      "<ipython-input-40-3bcb01c44ed2>:14: FutureWarning: The frame.append method is deprecated and will be removed from pandas in a future version. Use pandas.concat instead.\n",
      "  df = df.append(table[0].dropna())\n",
      "<ipython-input-40-3bcb01c44ed2>:14: FutureWarning: The frame.append method is deprecated and will be removed from pandas in a future version. Use pandas.concat instead.\n",
      "  df = df.append(table[0].dropna())\n",
      "<ipython-input-40-3bcb01c44ed2>:14: FutureWarning: The frame.append method is deprecated and will be removed from pandas in a future version. Use pandas.concat instead.\n",
      "  df = df.append(table[0].dropna())\n"
     ]
    },
    {
     "name": "stdout",
     "output_type": "stream",
     "text": [
      "https://finance.naver.com/sise/sise_index_day.naver?code=KOSPI&page=220\n",
      "https://finance.naver.com/sise/sise_index_day.naver?code=KOSPI&page=221\n",
      "https://finance.naver.com/sise/sise_index_day.naver?code=KOSPI&page=222\n",
      "https://finance.naver.com/sise/sise_index_day.naver?code=KOSPI&page=223\n"
     ]
    },
    {
     "name": "stderr",
     "output_type": "stream",
     "text": [
      "<ipython-input-40-3bcb01c44ed2>:14: FutureWarning: The frame.append method is deprecated and will be removed from pandas in a future version. Use pandas.concat instead.\n",
      "  df = df.append(table[0].dropna())\n",
      "<ipython-input-40-3bcb01c44ed2>:14: FutureWarning: The frame.append method is deprecated and will be removed from pandas in a future version. Use pandas.concat instead.\n",
      "  df = df.append(table[0].dropna())\n",
      "<ipython-input-40-3bcb01c44ed2>:14: FutureWarning: The frame.append method is deprecated and will be removed from pandas in a future version. Use pandas.concat instead.\n",
      "  df = df.append(table[0].dropna())\n",
      "<ipython-input-40-3bcb01c44ed2>:14: FutureWarning: The frame.append method is deprecated and will be removed from pandas in a future version. Use pandas.concat instead.\n",
      "  df = df.append(table[0].dropna())\n"
     ]
    },
    {
     "name": "stdout",
     "output_type": "stream",
     "text": [
      "https://finance.naver.com/sise/sise_index_day.naver?code=KOSPI&page=224\n",
      "https://finance.naver.com/sise/sise_index_day.naver?code=KOSPI&page=225\n",
      "https://finance.naver.com/sise/sise_index_day.naver?code=KOSPI&page=226\n",
      "https://finance.naver.com/sise/sise_index_day.naver?code=KOSPI&page=227\n"
     ]
    },
    {
     "name": "stderr",
     "output_type": "stream",
     "text": [
      "<ipython-input-40-3bcb01c44ed2>:14: FutureWarning: The frame.append method is deprecated and will be removed from pandas in a future version. Use pandas.concat instead.\n",
      "  df = df.append(table[0].dropna())\n",
      "<ipython-input-40-3bcb01c44ed2>:14: FutureWarning: The frame.append method is deprecated and will be removed from pandas in a future version. Use pandas.concat instead.\n",
      "  df = df.append(table[0].dropna())\n",
      "<ipython-input-40-3bcb01c44ed2>:14: FutureWarning: The frame.append method is deprecated and will be removed from pandas in a future version. Use pandas.concat instead.\n",
      "  df = df.append(table[0].dropna())\n",
      "<ipython-input-40-3bcb01c44ed2>:14: FutureWarning: The frame.append method is deprecated and will be removed from pandas in a future version. Use pandas.concat instead.\n",
      "  df = df.append(table[0].dropna())\n"
     ]
    },
    {
     "name": "stdout",
     "output_type": "stream",
     "text": [
      "https://finance.naver.com/sise/sise_index_day.naver?code=KOSPI&page=228\n",
      "https://finance.naver.com/sise/sise_index_day.naver?code=KOSPI&page=229\n",
      "https://finance.naver.com/sise/sise_index_day.naver?code=KOSPI&page=230\n",
      "https://finance.naver.com/sise/sise_index_day.naver?code=KOSPI&page=231\n"
     ]
    },
    {
     "name": "stderr",
     "output_type": "stream",
     "text": [
      "<ipython-input-40-3bcb01c44ed2>:14: FutureWarning: The frame.append method is deprecated and will be removed from pandas in a future version. Use pandas.concat instead.\n",
      "  df = df.append(table[0].dropna())\n",
      "<ipython-input-40-3bcb01c44ed2>:14: FutureWarning: The frame.append method is deprecated and will be removed from pandas in a future version. Use pandas.concat instead.\n",
      "  df = df.append(table[0].dropna())\n",
      "<ipython-input-40-3bcb01c44ed2>:14: FutureWarning: The frame.append method is deprecated and will be removed from pandas in a future version. Use pandas.concat instead.\n",
      "  df = df.append(table[0].dropna())\n",
      "<ipython-input-40-3bcb01c44ed2>:14: FutureWarning: The frame.append method is deprecated and will be removed from pandas in a future version. Use pandas.concat instead.\n",
      "  df = df.append(table[0].dropna())\n"
     ]
    },
    {
     "name": "stdout",
     "output_type": "stream",
     "text": [
      "https://finance.naver.com/sise/sise_index_day.naver?code=KOSPI&page=232\n",
      "https://finance.naver.com/sise/sise_index_day.naver?code=KOSPI&page=233\n",
      "https://finance.naver.com/sise/sise_index_day.naver?code=KOSPI&page=234\n",
      "https://finance.naver.com/sise/sise_index_day.naver?code=KOSPI&page=235\n"
     ]
    },
    {
     "name": "stderr",
     "output_type": "stream",
     "text": [
      "<ipython-input-40-3bcb01c44ed2>:14: FutureWarning: The frame.append method is deprecated and will be removed from pandas in a future version. Use pandas.concat instead.\n",
      "  df = df.append(table[0].dropna())\n",
      "<ipython-input-40-3bcb01c44ed2>:14: FutureWarning: The frame.append method is deprecated and will be removed from pandas in a future version. Use pandas.concat instead.\n",
      "  df = df.append(table[0].dropna())\n",
      "<ipython-input-40-3bcb01c44ed2>:14: FutureWarning: The frame.append method is deprecated and will be removed from pandas in a future version. Use pandas.concat instead.\n",
      "  df = df.append(table[0].dropna())\n",
      "<ipython-input-40-3bcb01c44ed2>:14: FutureWarning: The frame.append method is deprecated and will be removed from pandas in a future version. Use pandas.concat instead.\n",
      "  df = df.append(table[0].dropna())\n"
     ]
    },
    {
     "name": "stdout",
     "output_type": "stream",
     "text": [
      "https://finance.naver.com/sise/sise_index_day.naver?code=KOSPI&page=236\n",
      "https://finance.naver.com/sise/sise_index_day.naver?code=KOSPI&page=237\n",
      "https://finance.naver.com/sise/sise_index_day.naver?code=KOSPI&page=238\n",
      "https://finance.naver.com/sise/sise_index_day.naver?code=KOSPI&page=239\n"
     ]
    },
    {
     "name": "stderr",
     "output_type": "stream",
     "text": [
      "<ipython-input-40-3bcb01c44ed2>:14: FutureWarning: The frame.append method is deprecated and will be removed from pandas in a future version. Use pandas.concat instead.\n",
      "  df = df.append(table[0].dropna())\n",
      "<ipython-input-40-3bcb01c44ed2>:14: FutureWarning: The frame.append method is deprecated and will be removed from pandas in a future version. Use pandas.concat instead.\n",
      "  df = df.append(table[0].dropna())\n",
      "<ipython-input-40-3bcb01c44ed2>:14: FutureWarning: The frame.append method is deprecated and will be removed from pandas in a future version. Use pandas.concat instead.\n",
      "  df = df.append(table[0].dropna())\n",
      "<ipython-input-40-3bcb01c44ed2>:14: FutureWarning: The frame.append method is deprecated and will be removed from pandas in a future version. Use pandas.concat instead.\n",
      "  df = df.append(table[0].dropna())\n"
     ]
    },
    {
     "name": "stdout",
     "output_type": "stream",
     "text": [
      "https://finance.naver.com/sise/sise_index_day.naver?code=KOSPI&page=240\n",
      "https://finance.naver.com/sise/sise_index_day.naver?code=KOSPI&page=241\n",
      "https://finance.naver.com/sise/sise_index_day.naver?code=KOSPI&page=242\n",
      "https://finance.naver.com/sise/sise_index_day.naver?code=KOSPI&page=243\n"
     ]
    },
    {
     "name": "stderr",
     "output_type": "stream",
     "text": [
      "<ipython-input-40-3bcb01c44ed2>:14: FutureWarning: The frame.append method is deprecated and will be removed from pandas in a future version. Use pandas.concat instead.\n",
      "  df = df.append(table[0].dropna())\n",
      "<ipython-input-40-3bcb01c44ed2>:14: FutureWarning: The frame.append method is deprecated and will be removed from pandas in a future version. Use pandas.concat instead.\n",
      "  df = df.append(table[0].dropna())\n",
      "<ipython-input-40-3bcb01c44ed2>:14: FutureWarning: The frame.append method is deprecated and will be removed from pandas in a future version. Use pandas.concat instead.\n",
      "  df = df.append(table[0].dropna())\n",
      "<ipython-input-40-3bcb01c44ed2>:14: FutureWarning: The frame.append method is deprecated and will be removed from pandas in a future version. Use pandas.concat instead.\n",
      "  df = df.append(table[0].dropna())\n"
     ]
    },
    {
     "name": "stdout",
     "output_type": "stream",
     "text": [
      "https://finance.naver.com/sise/sise_index_day.naver?code=KOSPI&page=244\n",
      "https://finance.naver.com/sise/sise_index_day.naver?code=KOSPI&page=245\n",
      "https://finance.naver.com/sise/sise_index_day.naver?code=KOSPI&page=246\n",
      "https://finance.naver.com/sise/sise_index_day.naver?code=KOSPI&page=247\n"
     ]
    },
    {
     "name": "stderr",
     "output_type": "stream",
     "text": [
      "<ipython-input-40-3bcb01c44ed2>:14: FutureWarning: The frame.append method is deprecated and will be removed from pandas in a future version. Use pandas.concat instead.\n",
      "  df = df.append(table[0].dropna())\n",
      "<ipython-input-40-3bcb01c44ed2>:14: FutureWarning: The frame.append method is deprecated and will be removed from pandas in a future version. Use pandas.concat instead.\n",
      "  df = df.append(table[0].dropna())\n",
      "<ipython-input-40-3bcb01c44ed2>:14: FutureWarning: The frame.append method is deprecated and will be removed from pandas in a future version. Use pandas.concat instead.\n",
      "  df = df.append(table[0].dropna())\n",
      "<ipython-input-40-3bcb01c44ed2>:14: FutureWarning: The frame.append method is deprecated and will be removed from pandas in a future version. Use pandas.concat instead.\n",
      "  df = df.append(table[0].dropna())\n"
     ]
    },
    {
     "name": "stdout",
     "output_type": "stream",
     "text": [
      "https://finance.naver.com/sise/sise_index_day.naver?code=KOSPI&page=248\n",
      "https://finance.naver.com/sise/sise_index_day.naver?code=KOSPI&page=249\n",
      "https://finance.naver.com/sise/sise_index_day.naver?code=KOSPI&page=250\n",
      "https://finance.naver.com/sise/sise_index_day.naver?code=KOSPI&page=251\n"
     ]
    },
    {
     "name": "stderr",
     "output_type": "stream",
     "text": [
      "<ipython-input-40-3bcb01c44ed2>:14: FutureWarning: The frame.append method is deprecated and will be removed from pandas in a future version. Use pandas.concat instead.\n",
      "  df = df.append(table[0].dropna())\n",
      "<ipython-input-40-3bcb01c44ed2>:14: FutureWarning: The frame.append method is deprecated and will be removed from pandas in a future version. Use pandas.concat instead.\n",
      "  df = df.append(table[0].dropna())\n",
      "<ipython-input-40-3bcb01c44ed2>:14: FutureWarning: The frame.append method is deprecated and will be removed from pandas in a future version. Use pandas.concat instead.\n",
      "  df = df.append(table[0].dropna())\n",
      "<ipython-input-40-3bcb01c44ed2>:14: FutureWarning: The frame.append method is deprecated and will be removed from pandas in a future version. Use pandas.concat instead.\n",
      "  df = df.append(table[0].dropna())\n"
     ]
    },
    {
     "name": "stdout",
     "output_type": "stream",
     "text": [
      "https://finance.naver.com/sise/sise_index_day.naver?code=KOSPI&page=252\n",
      "https://finance.naver.com/sise/sise_index_day.naver?code=KOSPI&page=253\n",
      "https://finance.naver.com/sise/sise_index_day.naver?code=KOSPI&page=254\n",
      "https://finance.naver.com/sise/sise_index_day.naver?code=KOSPI&page=255\n"
     ]
    },
    {
     "name": "stderr",
     "output_type": "stream",
     "text": [
      "<ipython-input-40-3bcb01c44ed2>:14: FutureWarning: The frame.append method is deprecated and will be removed from pandas in a future version. Use pandas.concat instead.\n",
      "  df = df.append(table[0].dropna())\n",
      "<ipython-input-40-3bcb01c44ed2>:14: FutureWarning: The frame.append method is deprecated and will be removed from pandas in a future version. Use pandas.concat instead.\n",
      "  df = df.append(table[0].dropna())\n",
      "<ipython-input-40-3bcb01c44ed2>:14: FutureWarning: The frame.append method is deprecated and will be removed from pandas in a future version. Use pandas.concat instead.\n",
      "  df = df.append(table[0].dropna())\n",
      "<ipython-input-40-3bcb01c44ed2>:14: FutureWarning: The frame.append method is deprecated and will be removed from pandas in a future version. Use pandas.concat instead.\n",
      "  df = df.append(table[0].dropna())\n"
     ]
    },
    {
     "name": "stdout",
     "output_type": "stream",
     "text": [
      "https://finance.naver.com/sise/sise_index_day.naver?code=KOSPI&page=256\n",
      "https://finance.naver.com/sise/sise_index_day.naver?code=KOSPI&page=257\n",
      "https://finance.naver.com/sise/sise_index_day.naver?code=KOSPI&page=258\n",
      "https://finance.naver.com/sise/sise_index_day.naver?code=KOSPI&page=259\n"
     ]
    },
    {
     "name": "stderr",
     "output_type": "stream",
     "text": [
      "<ipython-input-40-3bcb01c44ed2>:14: FutureWarning: The frame.append method is deprecated and will be removed from pandas in a future version. Use pandas.concat instead.\n",
      "  df = df.append(table[0].dropna())\n",
      "<ipython-input-40-3bcb01c44ed2>:14: FutureWarning: The frame.append method is deprecated and will be removed from pandas in a future version. Use pandas.concat instead.\n",
      "  df = df.append(table[0].dropna())\n",
      "<ipython-input-40-3bcb01c44ed2>:14: FutureWarning: The frame.append method is deprecated and will be removed from pandas in a future version. Use pandas.concat instead.\n",
      "  df = df.append(table[0].dropna())\n",
      "<ipython-input-40-3bcb01c44ed2>:14: FutureWarning: The frame.append method is deprecated and will be removed from pandas in a future version. Use pandas.concat instead.\n",
      "  df = df.append(table[0].dropna())\n"
     ]
    },
    {
     "name": "stdout",
     "output_type": "stream",
     "text": [
      "https://finance.naver.com/sise/sise_index_day.naver?code=KOSPI&page=260\n",
      "https://finance.naver.com/sise/sise_index_day.naver?code=KOSPI&page=261\n",
      "https://finance.naver.com/sise/sise_index_day.naver?code=KOSPI&page=262\n",
      "https://finance.naver.com/sise/sise_index_day.naver?code=KOSPI&page=263\n"
     ]
    },
    {
     "name": "stderr",
     "output_type": "stream",
     "text": [
      "<ipython-input-40-3bcb01c44ed2>:14: FutureWarning: The frame.append method is deprecated and will be removed from pandas in a future version. Use pandas.concat instead.\n",
      "  df = df.append(table[0].dropna())\n",
      "<ipython-input-40-3bcb01c44ed2>:14: FutureWarning: The frame.append method is deprecated and will be removed from pandas in a future version. Use pandas.concat instead.\n",
      "  df = df.append(table[0].dropna())\n",
      "<ipython-input-40-3bcb01c44ed2>:14: FutureWarning: The frame.append method is deprecated and will be removed from pandas in a future version. Use pandas.concat instead.\n",
      "  df = df.append(table[0].dropna())\n",
      "<ipython-input-40-3bcb01c44ed2>:14: FutureWarning: The frame.append method is deprecated and will be removed from pandas in a future version. Use pandas.concat instead.\n",
      "  df = df.append(table[0].dropna())\n"
     ]
    },
    {
     "name": "stdout",
     "output_type": "stream",
     "text": [
      "https://finance.naver.com/sise/sise_index_day.naver?code=KOSPI&page=264\n",
      "https://finance.naver.com/sise/sise_index_day.naver?code=KOSPI&page=265\n",
      "https://finance.naver.com/sise/sise_index_day.naver?code=KOSPI&page=266\n",
      "https://finance.naver.com/sise/sise_index_day.naver?code=KOSPI&page=267\n"
     ]
    },
    {
     "name": "stderr",
     "output_type": "stream",
     "text": [
      "<ipython-input-40-3bcb01c44ed2>:14: FutureWarning: The frame.append method is deprecated and will be removed from pandas in a future version. Use pandas.concat instead.\n",
      "  df = df.append(table[0].dropna())\n",
      "<ipython-input-40-3bcb01c44ed2>:14: FutureWarning: The frame.append method is deprecated and will be removed from pandas in a future version. Use pandas.concat instead.\n",
      "  df = df.append(table[0].dropna())\n",
      "<ipython-input-40-3bcb01c44ed2>:14: FutureWarning: The frame.append method is deprecated and will be removed from pandas in a future version. Use pandas.concat instead.\n",
      "  df = df.append(table[0].dropna())\n",
      "<ipython-input-40-3bcb01c44ed2>:14: FutureWarning: The frame.append method is deprecated and will be removed from pandas in a future version. Use pandas.concat instead.\n",
      "  df = df.append(table[0].dropna())\n"
     ]
    },
    {
     "name": "stdout",
     "output_type": "stream",
     "text": [
      "https://finance.naver.com/sise/sise_index_day.naver?code=KOSPI&page=268\n",
      "https://finance.naver.com/sise/sise_index_day.naver?code=KOSPI&page=269\n",
      "https://finance.naver.com/sise/sise_index_day.naver?code=KOSPI&page=270\n",
      "https://finance.naver.com/sise/sise_index_day.naver?code=KOSPI&page=271\n"
     ]
    },
    {
     "name": "stderr",
     "output_type": "stream",
     "text": [
      "<ipython-input-40-3bcb01c44ed2>:14: FutureWarning: The frame.append method is deprecated and will be removed from pandas in a future version. Use pandas.concat instead.\n",
      "  df = df.append(table[0].dropna())\n",
      "<ipython-input-40-3bcb01c44ed2>:14: FutureWarning: The frame.append method is deprecated and will be removed from pandas in a future version. Use pandas.concat instead.\n",
      "  df = df.append(table[0].dropna())\n",
      "<ipython-input-40-3bcb01c44ed2>:14: FutureWarning: The frame.append method is deprecated and will be removed from pandas in a future version. Use pandas.concat instead.\n",
      "  df = df.append(table[0].dropna())\n",
      "<ipython-input-40-3bcb01c44ed2>:14: FutureWarning: The frame.append method is deprecated and will be removed from pandas in a future version. Use pandas.concat instead.\n",
      "  df = df.append(table[0].dropna())\n"
     ]
    },
    {
     "name": "stdout",
     "output_type": "stream",
     "text": [
      "https://finance.naver.com/sise/sise_index_day.naver?code=KOSPI&page=272\n",
      "https://finance.naver.com/sise/sise_index_day.naver?code=KOSPI&page=273\n",
      "https://finance.naver.com/sise/sise_index_day.naver?code=KOSPI&page=274\n",
      "https://finance.naver.com/sise/sise_index_day.naver?code=KOSPI&page=275\n"
     ]
    },
    {
     "name": "stderr",
     "output_type": "stream",
     "text": [
      "<ipython-input-40-3bcb01c44ed2>:14: FutureWarning: The frame.append method is deprecated and will be removed from pandas in a future version. Use pandas.concat instead.\n",
      "  df = df.append(table[0].dropna())\n",
      "<ipython-input-40-3bcb01c44ed2>:14: FutureWarning: The frame.append method is deprecated and will be removed from pandas in a future version. Use pandas.concat instead.\n",
      "  df = df.append(table[0].dropna())\n",
      "<ipython-input-40-3bcb01c44ed2>:14: FutureWarning: The frame.append method is deprecated and will be removed from pandas in a future version. Use pandas.concat instead.\n",
      "  df = df.append(table[0].dropna())\n",
      "<ipython-input-40-3bcb01c44ed2>:14: FutureWarning: The frame.append method is deprecated and will be removed from pandas in a future version. Use pandas.concat instead.\n",
      "  df = df.append(table[0].dropna())\n"
     ]
    },
    {
     "name": "stdout",
     "output_type": "stream",
     "text": [
      "https://finance.naver.com/sise/sise_index_day.naver?code=KOSPI&page=276\n",
      "https://finance.naver.com/sise/sise_index_day.naver?code=KOSPI&page=277\n",
      "https://finance.naver.com/sise/sise_index_day.naver?code=KOSPI&page=278\n",
      "https://finance.naver.com/sise/sise_index_day.naver?code=KOSPI&page=279\n"
     ]
    },
    {
     "name": "stderr",
     "output_type": "stream",
     "text": [
      "<ipython-input-40-3bcb01c44ed2>:14: FutureWarning: The frame.append method is deprecated and will be removed from pandas in a future version. Use pandas.concat instead.\n",
      "  df = df.append(table[0].dropna())\n",
      "<ipython-input-40-3bcb01c44ed2>:14: FutureWarning: The frame.append method is deprecated and will be removed from pandas in a future version. Use pandas.concat instead.\n",
      "  df = df.append(table[0].dropna())\n",
      "<ipython-input-40-3bcb01c44ed2>:14: FutureWarning: The frame.append method is deprecated and will be removed from pandas in a future version. Use pandas.concat instead.\n",
      "  df = df.append(table[0].dropna())\n",
      "<ipython-input-40-3bcb01c44ed2>:14: FutureWarning: The frame.append method is deprecated and will be removed from pandas in a future version. Use pandas.concat instead.\n",
      "  df = df.append(table[0].dropna())\n"
     ]
    },
    {
     "name": "stdout",
     "output_type": "stream",
     "text": [
      "https://finance.naver.com/sise/sise_index_day.naver?code=KOSPI&page=280\n",
      "https://finance.naver.com/sise/sise_index_day.naver?code=KOSPI&page=281\n",
      "https://finance.naver.com/sise/sise_index_day.naver?code=KOSPI&page=282\n",
      "https://finance.naver.com/sise/sise_index_day.naver?code=KOSPI&page=283\n"
     ]
    },
    {
     "name": "stderr",
     "output_type": "stream",
     "text": [
      "<ipython-input-40-3bcb01c44ed2>:14: FutureWarning: The frame.append method is deprecated and will be removed from pandas in a future version. Use pandas.concat instead.\n",
      "  df = df.append(table[0].dropna())\n",
      "<ipython-input-40-3bcb01c44ed2>:14: FutureWarning: The frame.append method is deprecated and will be removed from pandas in a future version. Use pandas.concat instead.\n",
      "  df = df.append(table[0].dropna())\n",
      "<ipython-input-40-3bcb01c44ed2>:14: FutureWarning: The frame.append method is deprecated and will be removed from pandas in a future version. Use pandas.concat instead.\n",
      "  df = df.append(table[0].dropna())\n",
      "<ipython-input-40-3bcb01c44ed2>:14: FutureWarning: The frame.append method is deprecated and will be removed from pandas in a future version. Use pandas.concat instead.\n",
      "  df = df.append(table[0].dropna())\n"
     ]
    },
    {
     "name": "stdout",
     "output_type": "stream",
     "text": [
      "https://finance.naver.com/sise/sise_index_day.naver?code=KOSPI&page=284\n",
      "https://finance.naver.com/sise/sise_index_day.naver?code=KOSPI&page=285\n",
      "https://finance.naver.com/sise/sise_index_day.naver?code=KOSPI&page=286\n",
      "https://finance.naver.com/sise/sise_index_day.naver?code=KOSPI&page=287\n"
     ]
    },
    {
     "name": "stderr",
     "output_type": "stream",
     "text": [
      "<ipython-input-40-3bcb01c44ed2>:14: FutureWarning: The frame.append method is deprecated and will be removed from pandas in a future version. Use pandas.concat instead.\n",
      "  df = df.append(table[0].dropna())\n",
      "<ipython-input-40-3bcb01c44ed2>:14: FutureWarning: The frame.append method is deprecated and will be removed from pandas in a future version. Use pandas.concat instead.\n",
      "  df = df.append(table[0].dropna())\n",
      "<ipython-input-40-3bcb01c44ed2>:14: FutureWarning: The frame.append method is deprecated and will be removed from pandas in a future version. Use pandas.concat instead.\n",
      "  df = df.append(table[0].dropna())\n",
      "<ipython-input-40-3bcb01c44ed2>:14: FutureWarning: The frame.append method is deprecated and will be removed from pandas in a future version. Use pandas.concat instead.\n",
      "  df = df.append(table[0].dropna())\n"
     ]
    },
    {
     "name": "stdout",
     "output_type": "stream",
     "text": [
      "https://finance.naver.com/sise/sise_index_day.naver?code=KOSPI&page=288\n",
      "https://finance.naver.com/sise/sise_index_day.naver?code=KOSPI&page=289\n",
      "https://finance.naver.com/sise/sise_index_day.naver?code=KOSPI&page=290\n",
      "https://finance.naver.com/sise/sise_index_day.naver?code=KOSPI&page=291\n"
     ]
    },
    {
     "name": "stderr",
     "output_type": "stream",
     "text": [
      "<ipython-input-40-3bcb01c44ed2>:14: FutureWarning: The frame.append method is deprecated and will be removed from pandas in a future version. Use pandas.concat instead.\n",
      "  df = df.append(table[0].dropna())\n",
      "<ipython-input-40-3bcb01c44ed2>:14: FutureWarning: The frame.append method is deprecated and will be removed from pandas in a future version. Use pandas.concat instead.\n",
      "  df = df.append(table[0].dropna())\n",
      "<ipython-input-40-3bcb01c44ed2>:14: FutureWarning: The frame.append method is deprecated and will be removed from pandas in a future version. Use pandas.concat instead.\n",
      "  df = df.append(table[0].dropna())\n",
      "<ipython-input-40-3bcb01c44ed2>:14: FutureWarning: The frame.append method is deprecated and will be removed from pandas in a future version. Use pandas.concat instead.\n",
      "  df = df.append(table[0].dropna())\n"
     ]
    },
    {
     "name": "stdout",
     "output_type": "stream",
     "text": [
      "https://finance.naver.com/sise/sise_index_day.naver?code=KOSPI&page=292\n",
      "https://finance.naver.com/sise/sise_index_day.naver?code=KOSPI&page=293\n",
      "https://finance.naver.com/sise/sise_index_day.naver?code=KOSPI&page=294\n",
      "https://finance.naver.com/sise/sise_index_day.naver?code=KOSPI&page=295\n"
     ]
    },
    {
     "name": "stderr",
     "output_type": "stream",
     "text": [
      "<ipython-input-40-3bcb01c44ed2>:14: FutureWarning: The frame.append method is deprecated and will be removed from pandas in a future version. Use pandas.concat instead.\n",
      "  df = df.append(table[0].dropna())\n",
      "<ipython-input-40-3bcb01c44ed2>:14: FutureWarning: The frame.append method is deprecated and will be removed from pandas in a future version. Use pandas.concat instead.\n",
      "  df = df.append(table[0].dropna())\n",
      "<ipython-input-40-3bcb01c44ed2>:14: FutureWarning: The frame.append method is deprecated and will be removed from pandas in a future version. Use pandas.concat instead.\n",
      "  df = df.append(table[0].dropna())\n",
      "<ipython-input-40-3bcb01c44ed2>:14: FutureWarning: The frame.append method is deprecated and will be removed from pandas in a future version. Use pandas.concat instead.\n",
      "  df = df.append(table[0].dropna())\n"
     ]
    },
    {
     "name": "stdout",
     "output_type": "stream",
     "text": [
      "https://finance.naver.com/sise/sise_index_day.naver?code=KOSPI&page=296\n",
      "https://finance.naver.com/sise/sise_index_day.naver?code=KOSPI&page=297\n",
      "https://finance.naver.com/sise/sise_index_day.naver?code=KOSPI&page=298\n",
      "https://finance.naver.com/sise/sise_index_day.naver?code=KOSPI&page=299\n"
     ]
    },
    {
     "name": "stderr",
     "output_type": "stream",
     "text": [
      "<ipython-input-40-3bcb01c44ed2>:14: FutureWarning: The frame.append method is deprecated and will be removed from pandas in a future version. Use pandas.concat instead.\n",
      "  df = df.append(table[0].dropna())\n",
      "<ipython-input-40-3bcb01c44ed2>:14: FutureWarning: The frame.append method is deprecated and will be removed from pandas in a future version. Use pandas.concat instead.\n",
      "  df = df.append(table[0].dropna())\n",
      "<ipython-input-40-3bcb01c44ed2>:14: FutureWarning: The frame.append method is deprecated and will be removed from pandas in a future version. Use pandas.concat instead.\n",
      "  df = df.append(table[0].dropna())\n",
      "<ipython-input-40-3bcb01c44ed2>:14: FutureWarning: The frame.append method is deprecated and will be removed from pandas in a future version. Use pandas.concat instead.\n",
      "  df = df.append(table[0].dropna())\n"
     ]
    },
    {
     "name": "stdout",
     "output_type": "stream",
     "text": [
      "https://finance.naver.com/sise/sise_index_day.naver?code=KOSPI&page=300\n",
      "https://finance.naver.com/sise/sise_index_day.naver?code=KOSPI&page=301\n",
      "https://finance.naver.com/sise/sise_index_day.naver?code=KOSPI&page=302\n",
      "https://finance.naver.com/sise/sise_index_day.naver?code=KOSPI&page=303\n"
     ]
    },
    {
     "name": "stderr",
     "output_type": "stream",
     "text": [
      "<ipython-input-40-3bcb01c44ed2>:14: FutureWarning: The frame.append method is deprecated and will be removed from pandas in a future version. Use pandas.concat instead.\n",
      "  df = df.append(table[0].dropna())\n",
      "<ipython-input-40-3bcb01c44ed2>:14: FutureWarning: The frame.append method is deprecated and will be removed from pandas in a future version. Use pandas.concat instead.\n",
      "  df = df.append(table[0].dropna())\n",
      "<ipython-input-40-3bcb01c44ed2>:14: FutureWarning: The frame.append method is deprecated and will be removed from pandas in a future version. Use pandas.concat instead.\n",
      "  df = df.append(table[0].dropna())\n",
      "<ipython-input-40-3bcb01c44ed2>:14: FutureWarning: The frame.append method is deprecated and will be removed from pandas in a future version. Use pandas.concat instead.\n",
      "  df = df.append(table[0].dropna())\n"
     ]
    },
    {
     "name": "stdout",
     "output_type": "stream",
     "text": [
      "https://finance.naver.com/sise/sise_index_day.naver?code=KOSPI&page=304\n",
      "https://finance.naver.com/sise/sise_index_day.naver?code=KOSPI&page=305\n",
      "https://finance.naver.com/sise/sise_index_day.naver?code=KOSPI&page=306\n",
      "https://finance.naver.com/sise/sise_index_day.naver?code=KOSPI&page=307\n"
     ]
    },
    {
     "name": "stderr",
     "output_type": "stream",
     "text": [
      "<ipython-input-40-3bcb01c44ed2>:14: FutureWarning: The frame.append method is deprecated and will be removed from pandas in a future version. Use pandas.concat instead.\n",
      "  df = df.append(table[0].dropna())\n",
      "<ipython-input-40-3bcb01c44ed2>:14: FutureWarning: The frame.append method is deprecated and will be removed from pandas in a future version. Use pandas.concat instead.\n",
      "  df = df.append(table[0].dropna())\n",
      "<ipython-input-40-3bcb01c44ed2>:14: FutureWarning: The frame.append method is deprecated and will be removed from pandas in a future version. Use pandas.concat instead.\n",
      "  df = df.append(table[0].dropna())\n",
      "<ipython-input-40-3bcb01c44ed2>:14: FutureWarning: The frame.append method is deprecated and will be removed from pandas in a future version. Use pandas.concat instead.\n",
      "  df = df.append(table[0].dropna())\n"
     ]
    },
    {
     "name": "stdout",
     "output_type": "stream",
     "text": [
      "https://finance.naver.com/sise/sise_index_day.naver?code=KOSPI&page=308\n",
      "https://finance.naver.com/sise/sise_index_day.naver?code=KOSPI&page=309\n",
      "https://finance.naver.com/sise/sise_index_day.naver?code=KOSPI&page=310\n",
      "https://finance.naver.com/sise/sise_index_day.naver?code=KOSPI&page=311\n"
     ]
    },
    {
     "name": "stderr",
     "output_type": "stream",
     "text": [
      "<ipython-input-40-3bcb01c44ed2>:14: FutureWarning: The frame.append method is deprecated and will be removed from pandas in a future version. Use pandas.concat instead.\n",
      "  df = df.append(table[0].dropna())\n",
      "<ipython-input-40-3bcb01c44ed2>:14: FutureWarning: The frame.append method is deprecated and will be removed from pandas in a future version. Use pandas.concat instead.\n",
      "  df = df.append(table[0].dropna())\n",
      "<ipython-input-40-3bcb01c44ed2>:14: FutureWarning: The frame.append method is deprecated and will be removed from pandas in a future version. Use pandas.concat instead.\n",
      "  df = df.append(table[0].dropna())\n",
      "<ipython-input-40-3bcb01c44ed2>:14: FutureWarning: The frame.append method is deprecated and will be removed from pandas in a future version. Use pandas.concat instead.\n",
      "  df = df.append(table[0].dropna())\n"
     ]
    },
    {
     "name": "stdout",
     "output_type": "stream",
     "text": [
      "https://finance.naver.com/sise/sise_index_day.naver?code=KOSPI&page=312\n",
      "https://finance.naver.com/sise/sise_index_day.naver?code=KOSPI&page=313\n",
      "https://finance.naver.com/sise/sise_index_day.naver?code=KOSPI&page=314\n",
      "https://finance.naver.com/sise/sise_index_day.naver?code=KOSPI&page=315\n"
     ]
    },
    {
     "name": "stderr",
     "output_type": "stream",
     "text": [
      "<ipython-input-40-3bcb01c44ed2>:14: FutureWarning: The frame.append method is deprecated and will be removed from pandas in a future version. Use pandas.concat instead.\n",
      "  df = df.append(table[0].dropna())\n",
      "<ipython-input-40-3bcb01c44ed2>:14: FutureWarning: The frame.append method is deprecated and will be removed from pandas in a future version. Use pandas.concat instead.\n",
      "  df = df.append(table[0].dropna())\n",
      "<ipython-input-40-3bcb01c44ed2>:14: FutureWarning: The frame.append method is deprecated and will be removed from pandas in a future version. Use pandas.concat instead.\n",
      "  df = df.append(table[0].dropna())\n",
      "<ipython-input-40-3bcb01c44ed2>:14: FutureWarning: The frame.append method is deprecated and will be removed from pandas in a future version. Use pandas.concat instead.\n",
      "  df = df.append(table[0].dropna())\n"
     ]
    },
    {
     "name": "stdout",
     "output_type": "stream",
     "text": [
      "https://finance.naver.com/sise/sise_index_day.naver?code=KOSPI&page=316\n",
      "https://finance.naver.com/sise/sise_index_day.naver?code=KOSPI&page=317\n",
      "https://finance.naver.com/sise/sise_index_day.naver?code=KOSPI&page=318\n",
      "https://finance.naver.com/sise/sise_index_day.naver?code=KOSPI&page=319\n"
     ]
    },
    {
     "name": "stderr",
     "output_type": "stream",
     "text": [
      "<ipython-input-40-3bcb01c44ed2>:14: FutureWarning: The frame.append method is deprecated and will be removed from pandas in a future version. Use pandas.concat instead.\n",
      "  df = df.append(table[0].dropna())\n",
      "<ipython-input-40-3bcb01c44ed2>:14: FutureWarning: The frame.append method is deprecated and will be removed from pandas in a future version. Use pandas.concat instead.\n",
      "  df = df.append(table[0].dropna())\n",
      "<ipython-input-40-3bcb01c44ed2>:14: FutureWarning: The frame.append method is deprecated and will be removed from pandas in a future version. Use pandas.concat instead.\n",
      "  df = df.append(table[0].dropna())\n",
      "<ipython-input-40-3bcb01c44ed2>:14: FutureWarning: The frame.append method is deprecated and will be removed from pandas in a future version. Use pandas.concat instead.\n",
      "  df = df.append(table[0].dropna())\n"
     ]
    },
    {
     "name": "stdout",
     "output_type": "stream",
     "text": [
      "https://finance.naver.com/sise/sise_index_day.naver?code=KOSPI&page=320\n",
      "https://finance.naver.com/sise/sise_index_day.naver?code=KOSPI&page=321\n",
      "https://finance.naver.com/sise/sise_index_day.naver?code=KOSPI&page=322\n",
      "https://finance.naver.com/sise/sise_index_day.naver?code=KOSPI&page=323\n"
     ]
    },
    {
     "name": "stderr",
     "output_type": "stream",
     "text": [
      "<ipython-input-40-3bcb01c44ed2>:14: FutureWarning: The frame.append method is deprecated and will be removed from pandas in a future version. Use pandas.concat instead.\n",
      "  df = df.append(table[0].dropna())\n",
      "<ipython-input-40-3bcb01c44ed2>:14: FutureWarning: The frame.append method is deprecated and will be removed from pandas in a future version. Use pandas.concat instead.\n",
      "  df = df.append(table[0].dropna())\n",
      "<ipython-input-40-3bcb01c44ed2>:14: FutureWarning: The frame.append method is deprecated and will be removed from pandas in a future version. Use pandas.concat instead.\n",
      "  df = df.append(table[0].dropna())\n",
      "<ipython-input-40-3bcb01c44ed2>:14: FutureWarning: The frame.append method is deprecated and will be removed from pandas in a future version. Use pandas.concat instead.\n",
      "  df = df.append(table[0].dropna())\n"
     ]
    },
    {
     "name": "stdout",
     "output_type": "stream",
     "text": [
      "https://finance.naver.com/sise/sise_index_day.naver?code=KOSPI&page=324\n",
      "https://finance.naver.com/sise/sise_index_day.naver?code=KOSPI&page=325\n",
      "https://finance.naver.com/sise/sise_index_day.naver?code=KOSPI&page=326\n",
      "https://finance.naver.com/sise/sise_index_day.naver?code=KOSPI&page=327\n"
     ]
    },
    {
     "name": "stderr",
     "output_type": "stream",
     "text": [
      "<ipython-input-40-3bcb01c44ed2>:14: FutureWarning: The frame.append method is deprecated and will be removed from pandas in a future version. Use pandas.concat instead.\n",
      "  df = df.append(table[0].dropna())\n",
      "<ipython-input-40-3bcb01c44ed2>:14: FutureWarning: The frame.append method is deprecated and will be removed from pandas in a future version. Use pandas.concat instead.\n",
      "  df = df.append(table[0].dropna())\n",
      "<ipython-input-40-3bcb01c44ed2>:14: FutureWarning: The frame.append method is deprecated and will be removed from pandas in a future version. Use pandas.concat instead.\n",
      "  df = df.append(table[0].dropna())\n",
      "<ipython-input-40-3bcb01c44ed2>:14: FutureWarning: The frame.append method is deprecated and will be removed from pandas in a future version. Use pandas.concat instead.\n",
      "  df = df.append(table[0].dropna())\n"
     ]
    },
    {
     "name": "stdout",
     "output_type": "stream",
     "text": [
      "https://finance.naver.com/sise/sise_index_day.naver?code=KOSPI&page=328\n",
      "https://finance.naver.com/sise/sise_index_day.naver?code=KOSPI&page=329\n",
      "https://finance.naver.com/sise/sise_index_day.naver?code=KOSPI&page=330\n",
      "https://finance.naver.com/sise/sise_index_day.naver?code=KOSPI&page=331\n"
     ]
    },
    {
     "name": "stderr",
     "output_type": "stream",
     "text": [
      "<ipython-input-40-3bcb01c44ed2>:14: FutureWarning: The frame.append method is deprecated and will be removed from pandas in a future version. Use pandas.concat instead.\n",
      "  df = df.append(table[0].dropna())\n",
      "<ipython-input-40-3bcb01c44ed2>:14: FutureWarning: The frame.append method is deprecated and will be removed from pandas in a future version. Use pandas.concat instead.\n",
      "  df = df.append(table[0].dropna())\n",
      "<ipython-input-40-3bcb01c44ed2>:14: FutureWarning: The frame.append method is deprecated and will be removed from pandas in a future version. Use pandas.concat instead.\n",
      "  df = df.append(table[0].dropna())\n",
      "<ipython-input-40-3bcb01c44ed2>:14: FutureWarning: The frame.append method is deprecated and will be removed from pandas in a future version. Use pandas.concat instead.\n",
      "  df = df.append(table[0].dropna())\n"
     ]
    },
    {
     "name": "stdout",
     "output_type": "stream",
     "text": [
      "https://finance.naver.com/sise/sise_index_day.naver?code=KOSPI&page=332\n",
      "https://finance.naver.com/sise/sise_index_day.naver?code=KOSPI&page=333\n",
      "https://finance.naver.com/sise/sise_index_day.naver?code=KOSPI&page=334\n",
      "https://finance.naver.com/sise/sise_index_day.naver?code=KOSPI&page=335\n"
     ]
    },
    {
     "name": "stderr",
     "output_type": "stream",
     "text": [
      "<ipython-input-40-3bcb01c44ed2>:14: FutureWarning: The frame.append method is deprecated and will be removed from pandas in a future version. Use pandas.concat instead.\n",
      "  df = df.append(table[0].dropna())\n",
      "<ipython-input-40-3bcb01c44ed2>:14: FutureWarning: The frame.append method is deprecated and will be removed from pandas in a future version. Use pandas.concat instead.\n",
      "  df = df.append(table[0].dropna())\n",
      "<ipython-input-40-3bcb01c44ed2>:14: FutureWarning: The frame.append method is deprecated and will be removed from pandas in a future version. Use pandas.concat instead.\n",
      "  df = df.append(table[0].dropna())\n",
      "<ipython-input-40-3bcb01c44ed2>:14: FutureWarning: The frame.append method is deprecated and will be removed from pandas in a future version. Use pandas.concat instead.\n",
      "  df = df.append(table[0].dropna())\n"
     ]
    },
    {
     "name": "stdout",
     "output_type": "stream",
     "text": [
      "https://finance.naver.com/sise/sise_index_day.naver?code=KOSPI&page=336\n",
      "https://finance.naver.com/sise/sise_index_day.naver?code=KOSPI&page=337\n",
      "https://finance.naver.com/sise/sise_index_day.naver?code=KOSPI&page=338\n",
      "https://finance.naver.com/sise/sise_index_day.naver?code=KOSPI&page=339\n"
     ]
    },
    {
     "name": "stderr",
     "output_type": "stream",
     "text": [
      "<ipython-input-40-3bcb01c44ed2>:14: FutureWarning: The frame.append method is deprecated and will be removed from pandas in a future version. Use pandas.concat instead.\n",
      "  df = df.append(table[0].dropna())\n",
      "<ipython-input-40-3bcb01c44ed2>:14: FutureWarning: The frame.append method is deprecated and will be removed from pandas in a future version. Use pandas.concat instead.\n",
      "  df = df.append(table[0].dropna())\n",
      "<ipython-input-40-3bcb01c44ed2>:14: FutureWarning: The frame.append method is deprecated and will be removed from pandas in a future version. Use pandas.concat instead.\n",
      "  df = df.append(table[0].dropna())\n",
      "<ipython-input-40-3bcb01c44ed2>:14: FutureWarning: The frame.append method is deprecated and will be removed from pandas in a future version. Use pandas.concat instead.\n",
      "  df = df.append(table[0].dropna())\n"
     ]
    },
    {
     "name": "stdout",
     "output_type": "stream",
     "text": [
      "https://finance.naver.com/sise/sise_index_day.naver?code=KOSPI&page=340\n",
      "https://finance.naver.com/sise/sise_index_day.naver?code=KOSPI&page=341\n",
      "https://finance.naver.com/sise/sise_index_day.naver?code=KOSPI&page=342\n",
      "https://finance.naver.com/sise/sise_index_day.naver?code=KOSPI&page=343\n"
     ]
    },
    {
     "name": "stderr",
     "output_type": "stream",
     "text": [
      "<ipython-input-40-3bcb01c44ed2>:14: FutureWarning: The frame.append method is deprecated and will be removed from pandas in a future version. Use pandas.concat instead.\n",
      "  df = df.append(table[0].dropna())\n",
      "<ipython-input-40-3bcb01c44ed2>:14: FutureWarning: The frame.append method is deprecated and will be removed from pandas in a future version. Use pandas.concat instead.\n",
      "  df = df.append(table[0].dropna())\n"
     ]
    },
    {
     "name": "stdout",
     "output_type": "stream",
     "text": [
      "https://finance.naver.com/sise/sise_index_day.naver?code=KOSPI&page=344\n",
      "https://finance.naver.com/sise/sise_index_day.naver?code=KOSPI&page=345\n"
     ]
    },
    {
     "name": "stderr",
     "output_type": "stream",
     "text": [
      "<ipython-input-40-3bcb01c44ed2>:14: FutureWarning: The frame.append method is deprecated and will be removed from pandas in a future version. Use pandas.concat instead.\n",
      "  df = df.append(table[0].dropna())\n",
      "<ipython-input-40-3bcb01c44ed2>:14: FutureWarning: The frame.append method is deprecated and will be removed from pandas in a future version. Use pandas.concat instead.\n",
      "  df = df.append(table[0].dropna())\n",
      "<ipython-input-40-3bcb01c44ed2>:14: FutureWarning: The frame.append method is deprecated and will be removed from pandas in a future version. Use pandas.concat instead.\n",
      "  df = df.append(table[0].dropna())\n",
      "<ipython-input-40-3bcb01c44ed2>:14: FutureWarning: The frame.append method is deprecated and will be removed from pandas in a future version. Use pandas.concat instead.\n",
      "  df = df.append(table[0].dropna())\n"
     ]
    },
    {
     "name": "stdout",
     "output_type": "stream",
     "text": [
      "https://finance.naver.com/sise/sise_index_day.naver?code=KOSPI&page=346\n",
      "https://finance.naver.com/sise/sise_index_day.naver?code=KOSPI&page=347\n",
      "https://finance.naver.com/sise/sise_index_day.naver?code=KOSPI&page=348\n",
      "https://finance.naver.com/sise/sise_index_day.naver?code=KOSPI&page=349\n"
     ]
    },
    {
     "name": "stderr",
     "output_type": "stream",
     "text": [
      "<ipython-input-40-3bcb01c44ed2>:14: FutureWarning: The frame.append method is deprecated and will be removed from pandas in a future version. Use pandas.concat instead.\n",
      "  df = df.append(table[0].dropna())\n",
      "<ipython-input-40-3bcb01c44ed2>:14: FutureWarning: The frame.append method is deprecated and will be removed from pandas in a future version. Use pandas.concat instead.\n",
      "  df = df.append(table[0].dropna())\n",
      "<ipython-input-40-3bcb01c44ed2>:14: FutureWarning: The frame.append method is deprecated and will be removed from pandas in a future version. Use pandas.concat instead.\n",
      "  df = df.append(table[0].dropna())\n",
      "<ipython-input-40-3bcb01c44ed2>:14: FutureWarning: The frame.append method is deprecated and will be removed from pandas in a future version. Use pandas.concat instead.\n",
      "  df = df.append(table[0].dropna())\n"
     ]
    },
    {
     "name": "stdout",
     "output_type": "stream",
     "text": [
      "https://finance.naver.com/sise/sise_index_day.naver?code=KOSPI&page=350\n",
      "https://finance.naver.com/sise/sise_index_day.naver?code=KOSPI&page=351\n",
      "https://finance.naver.com/sise/sise_index_day.naver?code=KOSPI&page=352\n",
      "https://finance.naver.com/sise/sise_index_day.naver?code=KOSPI&page=353\n"
     ]
    },
    {
     "name": "stderr",
     "output_type": "stream",
     "text": [
      "<ipython-input-40-3bcb01c44ed2>:14: FutureWarning: The frame.append method is deprecated and will be removed from pandas in a future version. Use pandas.concat instead.\n",
      "  df = df.append(table[0].dropna())\n",
      "<ipython-input-40-3bcb01c44ed2>:14: FutureWarning: The frame.append method is deprecated and will be removed from pandas in a future version. Use pandas.concat instead.\n",
      "  df = df.append(table[0].dropna())\n",
      "<ipython-input-40-3bcb01c44ed2>:14: FutureWarning: The frame.append method is deprecated and will be removed from pandas in a future version. Use pandas.concat instead.\n",
      "  df = df.append(table[0].dropna())\n",
      "<ipython-input-40-3bcb01c44ed2>:14: FutureWarning: The frame.append method is deprecated and will be removed from pandas in a future version. Use pandas.concat instead.\n",
      "  df = df.append(table[0].dropna())\n"
     ]
    },
    {
     "name": "stdout",
     "output_type": "stream",
     "text": [
      "https://finance.naver.com/sise/sise_index_day.naver?code=KOSPI&page=354\n",
      "https://finance.naver.com/sise/sise_index_day.naver?code=KOSPI&page=355\n",
      "https://finance.naver.com/sise/sise_index_day.naver?code=KOSPI&page=356\n",
      "https://finance.naver.com/sise/sise_index_day.naver?code=KOSPI&page=357\n"
     ]
    },
    {
     "name": "stderr",
     "output_type": "stream",
     "text": [
      "<ipython-input-40-3bcb01c44ed2>:14: FutureWarning: The frame.append method is deprecated and will be removed from pandas in a future version. Use pandas.concat instead.\n",
      "  df = df.append(table[0].dropna())\n",
      "<ipython-input-40-3bcb01c44ed2>:14: FutureWarning: The frame.append method is deprecated and will be removed from pandas in a future version. Use pandas.concat instead.\n",
      "  df = df.append(table[0].dropna())\n",
      "<ipython-input-40-3bcb01c44ed2>:14: FutureWarning: The frame.append method is deprecated and will be removed from pandas in a future version. Use pandas.concat instead.\n",
      "  df = df.append(table[0].dropna())\n",
      "<ipython-input-40-3bcb01c44ed2>:14: FutureWarning: The frame.append method is deprecated and will be removed from pandas in a future version. Use pandas.concat instead.\n",
      "  df = df.append(table[0].dropna())\n"
     ]
    },
    {
     "name": "stdout",
     "output_type": "stream",
     "text": [
      "https://finance.naver.com/sise/sise_index_day.naver?code=KOSPI&page=358\n",
      "https://finance.naver.com/sise/sise_index_day.naver?code=KOSPI&page=359\n",
      "https://finance.naver.com/sise/sise_index_day.naver?code=KOSPI&page=360\n",
      "https://finance.naver.com/sise/sise_index_day.naver?code=KOSPI&page=361\n"
     ]
    },
    {
     "name": "stderr",
     "output_type": "stream",
     "text": [
      "<ipython-input-40-3bcb01c44ed2>:14: FutureWarning: The frame.append method is deprecated and will be removed from pandas in a future version. Use pandas.concat instead.\n",
      "  df = df.append(table[0].dropna())\n",
      "<ipython-input-40-3bcb01c44ed2>:14: FutureWarning: The frame.append method is deprecated and will be removed from pandas in a future version. Use pandas.concat instead.\n",
      "  df = df.append(table[0].dropna())\n",
      "<ipython-input-40-3bcb01c44ed2>:14: FutureWarning: The frame.append method is deprecated and will be removed from pandas in a future version. Use pandas.concat instead.\n",
      "  df = df.append(table[0].dropna())\n",
      "<ipython-input-40-3bcb01c44ed2>:14: FutureWarning: The frame.append method is deprecated and will be removed from pandas in a future version. Use pandas.concat instead.\n",
      "  df = df.append(table[0].dropna())\n"
     ]
    },
    {
     "name": "stdout",
     "output_type": "stream",
     "text": [
      "https://finance.naver.com/sise/sise_index_day.naver?code=KOSPI&page=362\n",
      "https://finance.naver.com/sise/sise_index_day.naver?code=KOSPI&page=363\n",
      "https://finance.naver.com/sise/sise_index_day.naver?code=KOSPI&page=364\n",
      "https://finance.naver.com/sise/sise_index_day.naver?code=KOSPI&page=365\n"
     ]
    },
    {
     "name": "stderr",
     "output_type": "stream",
     "text": [
      "<ipython-input-40-3bcb01c44ed2>:14: FutureWarning: The frame.append method is deprecated and will be removed from pandas in a future version. Use pandas.concat instead.\n",
      "  df = df.append(table[0].dropna())\n",
      "<ipython-input-40-3bcb01c44ed2>:14: FutureWarning: The frame.append method is deprecated and will be removed from pandas in a future version. Use pandas.concat instead.\n",
      "  df = df.append(table[0].dropna())\n",
      "<ipython-input-40-3bcb01c44ed2>:14: FutureWarning: The frame.append method is deprecated and will be removed from pandas in a future version. Use pandas.concat instead.\n",
      "  df = df.append(table[0].dropna())\n",
      "<ipython-input-40-3bcb01c44ed2>:14: FutureWarning: The frame.append method is deprecated and will be removed from pandas in a future version. Use pandas.concat instead.\n",
      "  df = df.append(table[0].dropna())\n"
     ]
    },
    {
     "name": "stdout",
     "output_type": "stream",
     "text": [
      "https://finance.naver.com/sise/sise_index_day.naver?code=KOSPI&page=366\n",
      "https://finance.naver.com/sise/sise_index_day.naver?code=KOSPI&page=367\n",
      "https://finance.naver.com/sise/sise_index_day.naver?code=KOSPI&page=368\n",
      "https://finance.naver.com/sise/sise_index_day.naver?code=KOSPI&page=369\n"
     ]
    },
    {
     "name": "stderr",
     "output_type": "stream",
     "text": [
      "<ipython-input-40-3bcb01c44ed2>:14: FutureWarning: The frame.append method is deprecated and will be removed from pandas in a future version. Use pandas.concat instead.\n",
      "  df = df.append(table[0].dropna())\n",
      "<ipython-input-40-3bcb01c44ed2>:14: FutureWarning: The frame.append method is deprecated and will be removed from pandas in a future version. Use pandas.concat instead.\n",
      "  df = df.append(table[0].dropna())\n",
      "<ipython-input-40-3bcb01c44ed2>:14: FutureWarning: The frame.append method is deprecated and will be removed from pandas in a future version. Use pandas.concat instead.\n",
      "  df = df.append(table[0].dropna())\n",
      "<ipython-input-40-3bcb01c44ed2>:14: FutureWarning: The frame.append method is deprecated and will be removed from pandas in a future version. Use pandas.concat instead.\n",
      "  df = df.append(table[0].dropna())\n"
     ]
    },
    {
     "name": "stdout",
     "output_type": "stream",
     "text": [
      "https://finance.naver.com/sise/sise_index_day.naver?code=KOSPI&page=370\n",
      "https://finance.naver.com/sise/sise_index_day.naver?code=KOSPI&page=371\n",
      "https://finance.naver.com/sise/sise_index_day.naver?code=KOSPI&page=372\n",
      "https://finance.naver.com/sise/sise_index_day.naver?code=KOSPI&page=373\n"
     ]
    },
    {
     "name": "stderr",
     "output_type": "stream",
     "text": [
      "<ipython-input-40-3bcb01c44ed2>:14: FutureWarning: The frame.append method is deprecated and will be removed from pandas in a future version. Use pandas.concat instead.\n",
      "  df = df.append(table[0].dropna())\n",
      "<ipython-input-40-3bcb01c44ed2>:14: FutureWarning: The frame.append method is deprecated and will be removed from pandas in a future version. Use pandas.concat instead.\n",
      "  df = df.append(table[0].dropna())\n",
      "<ipython-input-40-3bcb01c44ed2>:14: FutureWarning: The frame.append method is deprecated and will be removed from pandas in a future version. Use pandas.concat instead.\n",
      "  df = df.append(table[0].dropna())\n",
      "<ipython-input-40-3bcb01c44ed2>:14: FutureWarning: The frame.append method is deprecated and will be removed from pandas in a future version. Use pandas.concat instead.\n",
      "  df = df.append(table[0].dropna())\n"
     ]
    },
    {
     "name": "stdout",
     "output_type": "stream",
     "text": [
      "https://finance.naver.com/sise/sise_index_day.naver?code=KOSPI&page=374\n",
      "https://finance.naver.com/sise/sise_index_day.naver?code=KOSPI&page=375\n",
      "https://finance.naver.com/sise/sise_index_day.naver?code=KOSPI&page=376\n",
      "https://finance.naver.com/sise/sise_index_day.naver?code=KOSPI&page=377\n"
     ]
    },
    {
     "name": "stderr",
     "output_type": "stream",
     "text": [
      "<ipython-input-40-3bcb01c44ed2>:14: FutureWarning: The frame.append method is deprecated and will be removed from pandas in a future version. Use pandas.concat instead.\n",
      "  df = df.append(table[0].dropna())\n",
      "<ipython-input-40-3bcb01c44ed2>:14: FutureWarning: The frame.append method is deprecated and will be removed from pandas in a future version. Use pandas.concat instead.\n",
      "  df = df.append(table[0].dropna())\n",
      "<ipython-input-40-3bcb01c44ed2>:14: FutureWarning: The frame.append method is deprecated and will be removed from pandas in a future version. Use pandas.concat instead.\n",
      "  df = df.append(table[0].dropna())\n",
      "<ipython-input-40-3bcb01c44ed2>:14: FutureWarning: The frame.append method is deprecated and will be removed from pandas in a future version. Use pandas.concat instead.\n",
      "  df = df.append(table[0].dropna())\n"
     ]
    },
    {
     "name": "stdout",
     "output_type": "stream",
     "text": [
      "https://finance.naver.com/sise/sise_index_day.naver?code=KOSPI&page=378\n",
      "https://finance.naver.com/sise/sise_index_day.naver?code=KOSPI&page=379\n",
      "https://finance.naver.com/sise/sise_index_day.naver?code=KOSPI&page=380\n",
      "https://finance.naver.com/sise/sise_index_day.naver?code=KOSPI&page=381\n"
     ]
    },
    {
     "name": "stderr",
     "output_type": "stream",
     "text": [
      "<ipython-input-40-3bcb01c44ed2>:14: FutureWarning: The frame.append method is deprecated and will be removed from pandas in a future version. Use pandas.concat instead.\n",
      "  df = df.append(table[0].dropna())\n",
      "<ipython-input-40-3bcb01c44ed2>:14: FutureWarning: The frame.append method is deprecated and will be removed from pandas in a future version. Use pandas.concat instead.\n",
      "  df = df.append(table[0].dropna())\n",
      "<ipython-input-40-3bcb01c44ed2>:14: FutureWarning: The frame.append method is deprecated and will be removed from pandas in a future version. Use pandas.concat instead.\n",
      "  df = df.append(table[0].dropna())\n",
      "<ipython-input-40-3bcb01c44ed2>:14: FutureWarning: The frame.append method is deprecated and will be removed from pandas in a future version. Use pandas.concat instead.\n",
      "  df = df.append(table[0].dropna())\n"
     ]
    },
    {
     "name": "stdout",
     "output_type": "stream",
     "text": [
      "https://finance.naver.com/sise/sise_index_day.naver?code=KOSPI&page=382\n",
      "https://finance.naver.com/sise/sise_index_day.naver?code=KOSPI&page=383\n",
      "https://finance.naver.com/sise/sise_index_day.naver?code=KOSPI&page=384\n",
      "https://finance.naver.com/sise/sise_index_day.naver?code=KOSPI&page=385\n"
     ]
    },
    {
     "name": "stderr",
     "output_type": "stream",
     "text": [
      "<ipython-input-40-3bcb01c44ed2>:14: FutureWarning: The frame.append method is deprecated and will be removed from pandas in a future version. Use pandas.concat instead.\n",
      "  df = df.append(table[0].dropna())\n",
      "<ipython-input-40-3bcb01c44ed2>:14: FutureWarning: The frame.append method is deprecated and will be removed from pandas in a future version. Use pandas.concat instead.\n",
      "  df = df.append(table[0].dropna())\n",
      "<ipython-input-40-3bcb01c44ed2>:14: FutureWarning: The frame.append method is deprecated and will be removed from pandas in a future version. Use pandas.concat instead.\n",
      "  df = df.append(table[0].dropna())\n",
      "<ipython-input-40-3bcb01c44ed2>:14: FutureWarning: The frame.append method is deprecated and will be removed from pandas in a future version. Use pandas.concat instead.\n",
      "  df = df.append(table[0].dropna())\n"
     ]
    },
    {
     "name": "stdout",
     "output_type": "stream",
     "text": [
      "https://finance.naver.com/sise/sise_index_day.naver?code=KOSPI&page=386\n",
      "https://finance.naver.com/sise/sise_index_day.naver?code=KOSPI&page=387\n",
      "https://finance.naver.com/sise/sise_index_day.naver?code=KOSPI&page=388\n",
      "https://finance.naver.com/sise/sise_index_day.naver?code=KOSPI&page=389\n"
     ]
    },
    {
     "name": "stderr",
     "output_type": "stream",
     "text": [
      "<ipython-input-40-3bcb01c44ed2>:14: FutureWarning: The frame.append method is deprecated and will be removed from pandas in a future version. Use pandas.concat instead.\n",
      "  df = df.append(table[0].dropna())\n",
      "<ipython-input-40-3bcb01c44ed2>:14: FutureWarning: The frame.append method is deprecated and will be removed from pandas in a future version. Use pandas.concat instead.\n",
      "  df = df.append(table[0].dropna())\n",
      "<ipython-input-40-3bcb01c44ed2>:14: FutureWarning: The frame.append method is deprecated and will be removed from pandas in a future version. Use pandas.concat instead.\n",
      "  df = df.append(table[0].dropna())\n",
      "<ipython-input-40-3bcb01c44ed2>:14: FutureWarning: The frame.append method is deprecated and will be removed from pandas in a future version. Use pandas.concat instead.\n",
      "  df = df.append(table[0].dropna())\n"
     ]
    },
    {
     "name": "stdout",
     "output_type": "stream",
     "text": [
      "https://finance.naver.com/sise/sise_index_day.naver?code=KOSPI&page=390\n",
      "https://finance.naver.com/sise/sise_index_day.naver?code=KOSPI&page=391\n",
      "https://finance.naver.com/sise/sise_index_day.naver?code=KOSPI&page=392\n",
      "https://finance.naver.com/sise/sise_index_day.naver?code=KOSPI&page=393\n"
     ]
    },
    {
     "name": "stderr",
     "output_type": "stream",
     "text": [
      "<ipython-input-40-3bcb01c44ed2>:14: FutureWarning: The frame.append method is deprecated and will be removed from pandas in a future version. Use pandas.concat instead.\n",
      "  df = df.append(table[0].dropna())\n",
      "<ipython-input-40-3bcb01c44ed2>:14: FutureWarning: The frame.append method is deprecated and will be removed from pandas in a future version. Use pandas.concat instead.\n",
      "  df = df.append(table[0].dropna())\n",
      "<ipython-input-40-3bcb01c44ed2>:14: FutureWarning: The frame.append method is deprecated and will be removed from pandas in a future version. Use pandas.concat instead.\n",
      "  df = df.append(table[0].dropna())\n",
      "<ipython-input-40-3bcb01c44ed2>:14: FutureWarning: The frame.append method is deprecated and will be removed from pandas in a future version. Use pandas.concat instead.\n",
      "  df = df.append(table[0].dropna())\n"
     ]
    },
    {
     "name": "stdout",
     "output_type": "stream",
     "text": [
      "https://finance.naver.com/sise/sise_index_day.naver?code=KOSPI&page=394\n",
      "https://finance.naver.com/sise/sise_index_day.naver?code=KOSPI&page=395\n",
      "https://finance.naver.com/sise/sise_index_day.naver?code=KOSPI&page=396\n",
      "https://finance.naver.com/sise/sise_index_day.naver?code=KOSPI&page=397\n"
     ]
    },
    {
     "name": "stderr",
     "output_type": "stream",
     "text": [
      "<ipython-input-40-3bcb01c44ed2>:14: FutureWarning: The frame.append method is deprecated and will be removed from pandas in a future version. Use pandas.concat instead.\n",
      "  df = df.append(table[0].dropna())\n",
      "<ipython-input-40-3bcb01c44ed2>:14: FutureWarning: The frame.append method is deprecated and will be removed from pandas in a future version. Use pandas.concat instead.\n",
      "  df = df.append(table[0].dropna())\n",
      "<ipython-input-40-3bcb01c44ed2>:14: FutureWarning: The frame.append method is deprecated and will be removed from pandas in a future version. Use pandas.concat instead.\n",
      "  df = df.append(table[0].dropna())\n",
      "<ipython-input-40-3bcb01c44ed2>:14: FutureWarning: The frame.append method is deprecated and will be removed from pandas in a future version. Use pandas.concat instead.\n",
      "  df = df.append(table[0].dropna())\n"
     ]
    },
    {
     "name": "stdout",
     "output_type": "stream",
     "text": [
      "https://finance.naver.com/sise/sise_index_day.naver?code=KOSPI&page=398\n",
      "https://finance.naver.com/sise/sise_index_day.naver?code=KOSPI&page=399\n",
      "https://finance.naver.com/sise/sise_index_day.naver?code=KOSPI&page=400\n",
      "https://finance.naver.com/sise/sise_index_day.naver?code=KOSPI&page=401\n"
     ]
    },
    {
     "name": "stderr",
     "output_type": "stream",
     "text": [
      "<ipython-input-40-3bcb01c44ed2>:14: FutureWarning: The frame.append method is deprecated and will be removed from pandas in a future version. Use pandas.concat instead.\n",
      "  df = df.append(table[0].dropna())\n",
      "<ipython-input-40-3bcb01c44ed2>:14: FutureWarning: The frame.append method is deprecated and will be removed from pandas in a future version. Use pandas.concat instead.\n",
      "  df = df.append(table[0].dropna())\n",
      "<ipython-input-40-3bcb01c44ed2>:14: FutureWarning: The frame.append method is deprecated and will be removed from pandas in a future version. Use pandas.concat instead.\n",
      "  df = df.append(table[0].dropna())\n",
      "<ipython-input-40-3bcb01c44ed2>:14: FutureWarning: The frame.append method is deprecated and will be removed from pandas in a future version. Use pandas.concat instead.\n",
      "  df = df.append(table[0].dropna())\n"
     ]
    },
    {
     "name": "stdout",
     "output_type": "stream",
     "text": [
      "https://finance.naver.com/sise/sise_index_day.naver?code=KOSPI&page=402\n",
      "https://finance.naver.com/sise/sise_index_day.naver?code=KOSPI&page=403\n",
      "https://finance.naver.com/sise/sise_index_day.naver?code=KOSPI&page=404\n",
      "https://finance.naver.com/sise/sise_index_day.naver?code=KOSPI&page=405\n"
     ]
    },
    {
     "name": "stderr",
     "output_type": "stream",
     "text": [
      "<ipython-input-40-3bcb01c44ed2>:14: FutureWarning: The frame.append method is deprecated and will be removed from pandas in a future version. Use pandas.concat instead.\n",
      "  df = df.append(table[0].dropna())\n",
      "<ipython-input-40-3bcb01c44ed2>:14: FutureWarning: The frame.append method is deprecated and will be removed from pandas in a future version. Use pandas.concat instead.\n",
      "  df = df.append(table[0].dropna())\n",
      "<ipython-input-40-3bcb01c44ed2>:14: FutureWarning: The frame.append method is deprecated and will be removed from pandas in a future version. Use pandas.concat instead.\n",
      "  df = df.append(table[0].dropna())\n",
      "<ipython-input-40-3bcb01c44ed2>:14: FutureWarning: The frame.append method is deprecated and will be removed from pandas in a future version. Use pandas.concat instead.\n",
      "  df = df.append(table[0].dropna())\n"
     ]
    },
    {
     "name": "stdout",
     "output_type": "stream",
     "text": [
      "https://finance.naver.com/sise/sise_index_day.naver?code=KOSPI&page=406\n",
      "https://finance.naver.com/sise/sise_index_day.naver?code=KOSPI&page=407\n",
      "https://finance.naver.com/sise/sise_index_day.naver?code=KOSPI&page=408\n",
      "https://finance.naver.com/sise/sise_index_day.naver?code=KOSPI&page=409\n"
     ]
    },
    {
     "name": "stderr",
     "output_type": "stream",
     "text": [
      "<ipython-input-40-3bcb01c44ed2>:14: FutureWarning: The frame.append method is deprecated and will be removed from pandas in a future version. Use pandas.concat instead.\n",
      "  df = df.append(table[0].dropna())\n",
      "<ipython-input-40-3bcb01c44ed2>:14: FutureWarning: The frame.append method is deprecated and will be removed from pandas in a future version. Use pandas.concat instead.\n",
      "  df = df.append(table[0].dropna())\n",
      "<ipython-input-40-3bcb01c44ed2>:14: FutureWarning: The frame.append method is deprecated and will be removed from pandas in a future version. Use pandas.concat instead.\n",
      "  df = df.append(table[0].dropna())\n",
      "<ipython-input-40-3bcb01c44ed2>:14: FutureWarning: The frame.append method is deprecated and will be removed from pandas in a future version. Use pandas.concat instead.\n",
      "  df = df.append(table[0].dropna())\n"
     ]
    },
    {
     "name": "stdout",
     "output_type": "stream",
     "text": [
      "https://finance.naver.com/sise/sise_index_day.naver?code=KOSPI&page=410\n",
      "https://finance.naver.com/sise/sise_index_day.naver?code=KOSPI&page=411\n",
      "https://finance.naver.com/sise/sise_index_day.naver?code=KOSPI&page=412\n",
      "https://finance.naver.com/sise/sise_index_day.naver?code=KOSPI&page=413\n"
     ]
    },
    {
     "name": "stderr",
     "output_type": "stream",
     "text": [
      "<ipython-input-40-3bcb01c44ed2>:14: FutureWarning: The frame.append method is deprecated and will be removed from pandas in a future version. Use pandas.concat instead.\n",
      "  df = df.append(table[0].dropna())\n",
      "<ipython-input-40-3bcb01c44ed2>:14: FutureWarning: The frame.append method is deprecated and will be removed from pandas in a future version. Use pandas.concat instead.\n",
      "  df = df.append(table[0].dropna())\n",
      "<ipython-input-40-3bcb01c44ed2>:14: FutureWarning: The frame.append method is deprecated and will be removed from pandas in a future version. Use pandas.concat instead.\n",
      "  df = df.append(table[0].dropna())\n",
      "<ipython-input-40-3bcb01c44ed2>:14: FutureWarning: The frame.append method is deprecated and will be removed from pandas in a future version. Use pandas.concat instead.\n",
      "  df = df.append(table[0].dropna())\n"
     ]
    },
    {
     "name": "stdout",
     "output_type": "stream",
     "text": [
      "https://finance.naver.com/sise/sise_index_day.naver?code=KOSPI&page=414\n",
      "https://finance.naver.com/sise/sise_index_day.naver?code=KOSPI&page=415\n",
      "https://finance.naver.com/sise/sise_index_day.naver?code=KOSPI&page=416\n",
      "https://finance.naver.com/sise/sise_index_day.naver?code=KOSPI&page=417\n"
     ]
    },
    {
     "name": "stderr",
     "output_type": "stream",
     "text": [
      "<ipython-input-40-3bcb01c44ed2>:14: FutureWarning: The frame.append method is deprecated and will be removed from pandas in a future version. Use pandas.concat instead.\n",
      "  df = df.append(table[0].dropna())\n",
      "<ipython-input-40-3bcb01c44ed2>:14: FutureWarning: The frame.append method is deprecated and will be removed from pandas in a future version. Use pandas.concat instead.\n",
      "  df = df.append(table[0].dropna())\n",
      "<ipython-input-40-3bcb01c44ed2>:14: FutureWarning: The frame.append method is deprecated and will be removed from pandas in a future version. Use pandas.concat instead.\n",
      "  df = df.append(table[0].dropna())\n",
      "<ipython-input-40-3bcb01c44ed2>:14: FutureWarning: The frame.append method is deprecated and will be removed from pandas in a future version. Use pandas.concat instead.\n",
      "  df = df.append(table[0].dropna())\n"
     ]
    },
    {
     "name": "stdout",
     "output_type": "stream",
     "text": [
      "https://finance.naver.com/sise/sise_index_day.naver?code=KOSPI&page=418\n",
      "https://finance.naver.com/sise/sise_index_day.naver?code=KOSPI&page=419\n",
      "https://finance.naver.com/sise/sise_index_day.naver?code=KOSPI&page=420\n",
      "https://finance.naver.com/sise/sise_index_day.naver?code=KOSPI&page=421\n"
     ]
    },
    {
     "name": "stderr",
     "output_type": "stream",
     "text": [
      "<ipython-input-40-3bcb01c44ed2>:14: FutureWarning: The frame.append method is deprecated and will be removed from pandas in a future version. Use pandas.concat instead.\n",
      "  df = df.append(table[0].dropna())\n",
      "<ipython-input-40-3bcb01c44ed2>:14: FutureWarning: The frame.append method is deprecated and will be removed from pandas in a future version. Use pandas.concat instead.\n",
      "  df = df.append(table[0].dropna())\n",
      "<ipython-input-40-3bcb01c44ed2>:14: FutureWarning: The frame.append method is deprecated and will be removed from pandas in a future version. Use pandas.concat instead.\n",
      "  df = df.append(table[0].dropna())\n",
      "<ipython-input-40-3bcb01c44ed2>:14: FutureWarning: The frame.append method is deprecated and will be removed from pandas in a future version. Use pandas.concat instead.\n",
      "  df = df.append(table[0].dropna())\n"
     ]
    },
    {
     "name": "stdout",
     "output_type": "stream",
     "text": [
      "https://finance.naver.com/sise/sise_index_day.naver?code=KOSPI&page=422\n",
      "https://finance.naver.com/sise/sise_index_day.naver?code=KOSPI&page=423\n",
      "https://finance.naver.com/sise/sise_index_day.naver?code=KOSPI&page=424\n",
      "https://finance.naver.com/sise/sise_index_day.naver?code=KOSPI&page=425\n"
     ]
    },
    {
     "name": "stderr",
     "output_type": "stream",
     "text": [
      "<ipython-input-40-3bcb01c44ed2>:14: FutureWarning: The frame.append method is deprecated and will be removed from pandas in a future version. Use pandas.concat instead.\n",
      "  df = df.append(table[0].dropna())\n",
      "<ipython-input-40-3bcb01c44ed2>:14: FutureWarning: The frame.append method is deprecated and will be removed from pandas in a future version. Use pandas.concat instead.\n",
      "  df = df.append(table[0].dropna())\n",
      "<ipython-input-40-3bcb01c44ed2>:14: FutureWarning: The frame.append method is deprecated and will be removed from pandas in a future version. Use pandas.concat instead.\n",
      "  df = df.append(table[0].dropna())\n"
     ]
    },
    {
     "name": "stdout",
     "output_type": "stream",
     "text": [
      "https://finance.naver.com/sise/sise_index_day.naver?code=KOSPI&page=426\n",
      "https://finance.naver.com/sise/sise_index_day.naver?code=KOSPI&page=427\n",
      "https://finance.naver.com/sise/sise_index_day.naver?code=KOSPI&page=428\n"
     ]
    },
    {
     "name": "stderr",
     "output_type": "stream",
     "text": [
      "<ipython-input-40-3bcb01c44ed2>:14: FutureWarning: The frame.append method is deprecated and will be removed from pandas in a future version. Use pandas.concat instead.\n",
      "  df = df.append(table[0].dropna())\n",
      "<ipython-input-40-3bcb01c44ed2>:14: FutureWarning: The frame.append method is deprecated and will be removed from pandas in a future version. Use pandas.concat instead.\n",
      "  df = df.append(table[0].dropna())\n",
      "<ipython-input-40-3bcb01c44ed2>:14: FutureWarning: The frame.append method is deprecated and will be removed from pandas in a future version. Use pandas.concat instead.\n",
      "  df = df.append(table[0].dropna())\n",
      "<ipython-input-40-3bcb01c44ed2>:14: FutureWarning: The frame.append method is deprecated and will be removed from pandas in a future version. Use pandas.concat instead.\n",
      "  df = df.append(table[0].dropna())\n"
     ]
    },
    {
     "name": "stdout",
     "output_type": "stream",
     "text": [
      "https://finance.naver.com/sise/sise_index_day.naver?code=KOSPI&page=429\n",
      "https://finance.naver.com/sise/sise_index_day.naver?code=KOSPI&page=430\n",
      "https://finance.naver.com/sise/sise_index_day.naver?code=KOSPI&page=431\n",
      "https://finance.naver.com/sise/sise_index_day.naver?code=KOSPI&page=432\n"
     ]
    },
    {
     "name": "stderr",
     "output_type": "stream",
     "text": [
      "<ipython-input-40-3bcb01c44ed2>:14: FutureWarning: The frame.append method is deprecated and will be removed from pandas in a future version. Use pandas.concat instead.\n",
      "  df = df.append(table[0].dropna())\n",
      "<ipython-input-40-3bcb01c44ed2>:14: FutureWarning: The frame.append method is deprecated and will be removed from pandas in a future version. Use pandas.concat instead.\n",
      "  df = df.append(table[0].dropna())\n",
      "<ipython-input-40-3bcb01c44ed2>:14: FutureWarning: The frame.append method is deprecated and will be removed from pandas in a future version. Use pandas.concat instead.\n",
      "  df = df.append(table[0].dropna())\n",
      "<ipython-input-40-3bcb01c44ed2>:14: FutureWarning: The frame.append method is deprecated and will be removed from pandas in a future version. Use pandas.concat instead.\n",
      "  df = df.append(table[0].dropna())\n"
     ]
    },
    {
     "name": "stdout",
     "output_type": "stream",
     "text": [
      "https://finance.naver.com/sise/sise_index_day.naver?code=KOSPI&page=433\n",
      "https://finance.naver.com/sise/sise_index_day.naver?code=KOSPI&page=434\n",
      "https://finance.naver.com/sise/sise_index_day.naver?code=KOSPI&page=435\n",
      "https://finance.naver.com/sise/sise_index_day.naver?code=KOSPI&page=436\n"
     ]
    },
    {
     "name": "stderr",
     "output_type": "stream",
     "text": [
      "<ipython-input-40-3bcb01c44ed2>:14: FutureWarning: The frame.append method is deprecated and will be removed from pandas in a future version. Use pandas.concat instead.\n",
      "  df = df.append(table[0].dropna())\n",
      "<ipython-input-40-3bcb01c44ed2>:14: FutureWarning: The frame.append method is deprecated and will be removed from pandas in a future version. Use pandas.concat instead.\n",
      "  df = df.append(table[0].dropna())\n",
      "<ipython-input-40-3bcb01c44ed2>:14: FutureWarning: The frame.append method is deprecated and will be removed from pandas in a future version. Use pandas.concat instead.\n",
      "  df = df.append(table[0].dropna())\n",
      "<ipython-input-40-3bcb01c44ed2>:14: FutureWarning: The frame.append method is deprecated and will be removed from pandas in a future version. Use pandas.concat instead.\n",
      "  df = df.append(table[0].dropna())\n"
     ]
    },
    {
     "name": "stdout",
     "output_type": "stream",
     "text": [
      "https://finance.naver.com/sise/sise_index_day.naver?code=KOSPI&page=437\n",
      "https://finance.naver.com/sise/sise_index_day.naver?code=KOSPI&page=438\n",
      "https://finance.naver.com/sise/sise_index_day.naver?code=KOSPI&page=439\n",
      "https://finance.naver.com/sise/sise_index_day.naver?code=KOSPI&page=440\n"
     ]
    },
    {
     "name": "stderr",
     "output_type": "stream",
     "text": [
      "<ipython-input-40-3bcb01c44ed2>:14: FutureWarning: The frame.append method is deprecated and will be removed from pandas in a future version. Use pandas.concat instead.\n",
      "  df = df.append(table[0].dropna())\n",
      "<ipython-input-40-3bcb01c44ed2>:14: FutureWarning: The frame.append method is deprecated and will be removed from pandas in a future version. Use pandas.concat instead.\n",
      "  df = df.append(table[0].dropna())\n",
      "<ipython-input-40-3bcb01c44ed2>:14: FutureWarning: The frame.append method is deprecated and will be removed from pandas in a future version. Use pandas.concat instead.\n",
      "  df = df.append(table[0].dropna())\n",
      "<ipython-input-40-3bcb01c44ed2>:14: FutureWarning: The frame.append method is deprecated and will be removed from pandas in a future version. Use pandas.concat instead.\n",
      "  df = df.append(table[0].dropna())\n"
     ]
    },
    {
     "name": "stdout",
     "output_type": "stream",
     "text": [
      "https://finance.naver.com/sise/sise_index_day.naver?code=KOSPI&page=441\n",
      "https://finance.naver.com/sise/sise_index_day.naver?code=KOSPI&page=442\n",
      "https://finance.naver.com/sise/sise_index_day.naver?code=KOSPI&page=443\n",
      "https://finance.naver.com/sise/sise_index_day.naver?code=KOSPI&page=444\n"
     ]
    },
    {
     "name": "stderr",
     "output_type": "stream",
     "text": [
      "<ipython-input-40-3bcb01c44ed2>:14: FutureWarning: The frame.append method is deprecated and will be removed from pandas in a future version. Use pandas.concat instead.\n",
      "  df = df.append(table[0].dropna())\n",
      "<ipython-input-40-3bcb01c44ed2>:14: FutureWarning: The frame.append method is deprecated and will be removed from pandas in a future version. Use pandas.concat instead.\n",
      "  df = df.append(table[0].dropna())\n",
      "<ipython-input-40-3bcb01c44ed2>:14: FutureWarning: The frame.append method is deprecated and will be removed from pandas in a future version. Use pandas.concat instead.\n",
      "  df = df.append(table[0].dropna())\n",
      "<ipython-input-40-3bcb01c44ed2>:14: FutureWarning: The frame.append method is deprecated and will be removed from pandas in a future version. Use pandas.concat instead.\n",
      "  df = df.append(table[0].dropna())\n"
     ]
    },
    {
     "name": "stdout",
     "output_type": "stream",
     "text": [
      "https://finance.naver.com/sise/sise_index_day.naver?code=KOSPI&page=445\n",
      "https://finance.naver.com/sise/sise_index_day.naver?code=KOSPI&page=446\n",
      "https://finance.naver.com/sise/sise_index_day.naver?code=KOSPI&page=447\n",
      "https://finance.naver.com/sise/sise_index_day.naver?code=KOSPI&page=448\n"
     ]
    },
    {
     "name": "stderr",
     "output_type": "stream",
     "text": [
      "<ipython-input-40-3bcb01c44ed2>:14: FutureWarning: The frame.append method is deprecated and will be removed from pandas in a future version. Use pandas.concat instead.\n",
      "  df = df.append(table[0].dropna())\n",
      "<ipython-input-40-3bcb01c44ed2>:14: FutureWarning: The frame.append method is deprecated and will be removed from pandas in a future version. Use pandas.concat instead.\n",
      "  df = df.append(table[0].dropna())\n",
      "<ipython-input-40-3bcb01c44ed2>:14: FutureWarning: The frame.append method is deprecated and will be removed from pandas in a future version. Use pandas.concat instead.\n",
      "  df = df.append(table[0].dropna())\n",
      "<ipython-input-40-3bcb01c44ed2>:14: FutureWarning: The frame.append method is deprecated and will be removed from pandas in a future version. Use pandas.concat instead.\n",
      "  df = df.append(table[0].dropna())\n"
     ]
    },
    {
     "name": "stdout",
     "output_type": "stream",
     "text": [
      "https://finance.naver.com/sise/sise_index_day.naver?code=KOSPI&page=449\n",
      "https://finance.naver.com/sise/sise_index_day.naver?code=KOSPI&page=450\n",
      "https://finance.naver.com/sise/sise_index_day.naver?code=KOSPI&page=451\n",
      "https://finance.naver.com/sise/sise_index_day.naver?code=KOSPI&page=452\n"
     ]
    },
    {
     "name": "stderr",
     "output_type": "stream",
     "text": [
      "<ipython-input-40-3bcb01c44ed2>:14: FutureWarning: The frame.append method is deprecated and will be removed from pandas in a future version. Use pandas.concat instead.\n",
      "  df = df.append(table[0].dropna())\n",
      "<ipython-input-40-3bcb01c44ed2>:14: FutureWarning: The frame.append method is deprecated and will be removed from pandas in a future version. Use pandas.concat instead.\n",
      "  df = df.append(table[0].dropna())\n",
      "<ipython-input-40-3bcb01c44ed2>:14: FutureWarning: The frame.append method is deprecated and will be removed from pandas in a future version. Use pandas.concat instead.\n",
      "  df = df.append(table[0].dropna())\n",
      "<ipython-input-40-3bcb01c44ed2>:14: FutureWarning: The frame.append method is deprecated and will be removed from pandas in a future version. Use pandas.concat instead.\n",
      "  df = df.append(table[0].dropna())\n"
     ]
    },
    {
     "name": "stdout",
     "output_type": "stream",
     "text": [
      "https://finance.naver.com/sise/sise_index_day.naver?code=KOSPI&page=453\n",
      "https://finance.naver.com/sise/sise_index_day.naver?code=KOSPI&page=454\n",
      "https://finance.naver.com/sise/sise_index_day.naver?code=KOSPI&page=455\n",
      "https://finance.naver.com/sise/sise_index_day.naver?code=KOSPI&page=456\n"
     ]
    },
    {
     "name": "stderr",
     "output_type": "stream",
     "text": [
      "<ipython-input-40-3bcb01c44ed2>:14: FutureWarning: The frame.append method is deprecated and will be removed from pandas in a future version. Use pandas.concat instead.\n",
      "  df = df.append(table[0].dropna())\n",
      "<ipython-input-40-3bcb01c44ed2>:14: FutureWarning: The frame.append method is deprecated and will be removed from pandas in a future version. Use pandas.concat instead.\n",
      "  df = df.append(table[0].dropna())\n",
      "<ipython-input-40-3bcb01c44ed2>:14: FutureWarning: The frame.append method is deprecated and will be removed from pandas in a future version. Use pandas.concat instead.\n",
      "  df = df.append(table[0].dropna())\n",
      "<ipython-input-40-3bcb01c44ed2>:14: FutureWarning: The frame.append method is deprecated and will be removed from pandas in a future version. Use pandas.concat instead.\n",
      "  df = df.append(table[0].dropna())\n"
     ]
    },
    {
     "name": "stdout",
     "output_type": "stream",
     "text": [
      "https://finance.naver.com/sise/sise_index_day.naver?code=KOSPI&page=457\n",
      "https://finance.naver.com/sise/sise_index_day.naver?code=KOSPI&page=458\n",
      "https://finance.naver.com/sise/sise_index_day.naver?code=KOSPI&page=459\n",
      "https://finance.naver.com/sise/sise_index_day.naver?code=KOSPI&page=460\n"
     ]
    },
    {
     "name": "stderr",
     "output_type": "stream",
     "text": [
      "<ipython-input-40-3bcb01c44ed2>:14: FutureWarning: The frame.append method is deprecated and will be removed from pandas in a future version. Use pandas.concat instead.\n",
      "  df = df.append(table[0].dropna())\n",
      "<ipython-input-40-3bcb01c44ed2>:14: FutureWarning: The frame.append method is deprecated and will be removed from pandas in a future version. Use pandas.concat instead.\n",
      "  df = df.append(table[0].dropna())\n",
      "<ipython-input-40-3bcb01c44ed2>:14: FutureWarning: The frame.append method is deprecated and will be removed from pandas in a future version. Use pandas.concat instead.\n",
      "  df = df.append(table[0].dropna())\n",
      "<ipython-input-40-3bcb01c44ed2>:14: FutureWarning: The frame.append method is deprecated and will be removed from pandas in a future version. Use pandas.concat instead.\n",
      "  df = df.append(table[0].dropna())\n"
     ]
    },
    {
     "name": "stdout",
     "output_type": "stream",
     "text": [
      "https://finance.naver.com/sise/sise_index_day.naver?code=KOSPI&page=461\n",
      "https://finance.naver.com/sise/sise_index_day.naver?code=KOSPI&page=462\n",
      "https://finance.naver.com/sise/sise_index_day.naver?code=KOSPI&page=463\n",
      "https://finance.naver.com/sise/sise_index_day.naver?code=KOSPI&page=464\n"
     ]
    },
    {
     "name": "stderr",
     "output_type": "stream",
     "text": [
      "<ipython-input-40-3bcb01c44ed2>:14: FutureWarning: The frame.append method is deprecated and will be removed from pandas in a future version. Use pandas.concat instead.\n",
      "  df = df.append(table[0].dropna())\n",
      "<ipython-input-40-3bcb01c44ed2>:14: FutureWarning: The frame.append method is deprecated and will be removed from pandas in a future version. Use pandas.concat instead.\n",
      "  df = df.append(table[0].dropna())\n",
      "<ipython-input-40-3bcb01c44ed2>:14: FutureWarning: The frame.append method is deprecated and will be removed from pandas in a future version. Use pandas.concat instead.\n",
      "  df = df.append(table[0].dropna())\n",
      "<ipython-input-40-3bcb01c44ed2>:14: FutureWarning: The frame.append method is deprecated and will be removed from pandas in a future version. Use pandas.concat instead.\n",
      "  df = df.append(table[0].dropna())\n"
     ]
    },
    {
     "name": "stdout",
     "output_type": "stream",
     "text": [
      "https://finance.naver.com/sise/sise_index_day.naver?code=KOSPI&page=465\n",
      "https://finance.naver.com/sise/sise_index_day.naver?code=KOSPI&page=466\n",
      "https://finance.naver.com/sise/sise_index_day.naver?code=KOSPI&page=467\n",
      "https://finance.naver.com/sise/sise_index_day.naver?code=KOSPI&page=468\n"
     ]
    },
    {
     "name": "stderr",
     "output_type": "stream",
     "text": [
      "<ipython-input-40-3bcb01c44ed2>:14: FutureWarning: The frame.append method is deprecated and will be removed from pandas in a future version. Use pandas.concat instead.\n",
      "  df = df.append(table[0].dropna())\n",
      "<ipython-input-40-3bcb01c44ed2>:14: FutureWarning: The frame.append method is deprecated and will be removed from pandas in a future version. Use pandas.concat instead.\n",
      "  df = df.append(table[0].dropna())\n",
      "<ipython-input-40-3bcb01c44ed2>:14: FutureWarning: The frame.append method is deprecated and will be removed from pandas in a future version. Use pandas.concat instead.\n",
      "  df = df.append(table[0].dropna())\n",
      "<ipython-input-40-3bcb01c44ed2>:14: FutureWarning: The frame.append method is deprecated and will be removed from pandas in a future version. Use pandas.concat instead.\n",
      "  df = df.append(table[0].dropna())\n"
     ]
    },
    {
     "name": "stdout",
     "output_type": "stream",
     "text": [
      "https://finance.naver.com/sise/sise_index_day.naver?code=KOSPI&page=469\n",
      "https://finance.naver.com/sise/sise_index_day.naver?code=KOSPI&page=470\n",
      "https://finance.naver.com/sise/sise_index_day.naver?code=KOSPI&page=471\n",
      "https://finance.naver.com/sise/sise_index_day.naver?code=KOSPI&page=472\n"
     ]
    },
    {
     "name": "stderr",
     "output_type": "stream",
     "text": [
      "<ipython-input-40-3bcb01c44ed2>:14: FutureWarning: The frame.append method is deprecated and will be removed from pandas in a future version. Use pandas.concat instead.\n",
      "  df = df.append(table[0].dropna())\n",
      "<ipython-input-40-3bcb01c44ed2>:14: FutureWarning: The frame.append method is deprecated and will be removed from pandas in a future version. Use pandas.concat instead.\n",
      "  df = df.append(table[0].dropna())\n",
      "<ipython-input-40-3bcb01c44ed2>:14: FutureWarning: The frame.append method is deprecated and will be removed from pandas in a future version. Use pandas.concat instead.\n",
      "  df = df.append(table[0].dropna())\n",
      "<ipython-input-40-3bcb01c44ed2>:14: FutureWarning: The frame.append method is deprecated and will be removed from pandas in a future version. Use pandas.concat instead.\n",
      "  df = df.append(table[0].dropna())\n"
     ]
    },
    {
     "name": "stdout",
     "output_type": "stream",
     "text": [
      "https://finance.naver.com/sise/sise_index_day.naver?code=KOSPI&page=473\n",
      "https://finance.naver.com/sise/sise_index_day.naver?code=KOSPI&page=474\n",
      "https://finance.naver.com/sise/sise_index_day.naver?code=KOSPI&page=475\n",
      "https://finance.naver.com/sise/sise_index_day.naver?code=KOSPI&page=476\n"
     ]
    },
    {
     "name": "stderr",
     "output_type": "stream",
     "text": [
      "<ipython-input-40-3bcb01c44ed2>:14: FutureWarning: The frame.append method is deprecated and will be removed from pandas in a future version. Use pandas.concat instead.\n",
      "  df = df.append(table[0].dropna())\n",
      "<ipython-input-40-3bcb01c44ed2>:14: FutureWarning: The frame.append method is deprecated and will be removed from pandas in a future version. Use pandas.concat instead.\n",
      "  df = df.append(table[0].dropna())\n",
      "<ipython-input-40-3bcb01c44ed2>:14: FutureWarning: The frame.append method is deprecated and will be removed from pandas in a future version. Use pandas.concat instead.\n",
      "  df = df.append(table[0].dropna())\n",
      "<ipython-input-40-3bcb01c44ed2>:14: FutureWarning: The frame.append method is deprecated and will be removed from pandas in a future version. Use pandas.concat instead.\n",
      "  df = df.append(table[0].dropna())\n"
     ]
    },
    {
     "name": "stdout",
     "output_type": "stream",
     "text": [
      "https://finance.naver.com/sise/sise_index_day.naver?code=KOSPI&page=477\n",
      "https://finance.naver.com/sise/sise_index_day.naver?code=KOSPI&page=478\n",
      "https://finance.naver.com/sise/sise_index_day.naver?code=KOSPI&page=479\n",
      "https://finance.naver.com/sise/sise_index_day.naver?code=KOSPI&page=480\n"
     ]
    },
    {
     "name": "stderr",
     "output_type": "stream",
     "text": [
      "<ipython-input-40-3bcb01c44ed2>:14: FutureWarning: The frame.append method is deprecated and will be removed from pandas in a future version. Use pandas.concat instead.\n",
      "  df = df.append(table[0].dropna())\n",
      "<ipython-input-40-3bcb01c44ed2>:14: FutureWarning: The frame.append method is deprecated and will be removed from pandas in a future version. Use pandas.concat instead.\n",
      "  df = df.append(table[0].dropna())\n",
      "<ipython-input-40-3bcb01c44ed2>:14: FutureWarning: The frame.append method is deprecated and will be removed from pandas in a future version. Use pandas.concat instead.\n",
      "  df = df.append(table[0].dropna())\n",
      "<ipython-input-40-3bcb01c44ed2>:14: FutureWarning: The frame.append method is deprecated and will be removed from pandas in a future version. Use pandas.concat instead.\n",
      "  df = df.append(table[0].dropna())\n"
     ]
    },
    {
     "name": "stdout",
     "output_type": "stream",
     "text": [
      "https://finance.naver.com/sise/sise_index_day.naver?code=KOSPI&page=481\n",
      "https://finance.naver.com/sise/sise_index_day.naver?code=KOSPI&page=482\n",
      "https://finance.naver.com/sise/sise_index_day.naver?code=KOSPI&page=483\n",
      "https://finance.naver.com/sise/sise_index_day.naver?code=KOSPI&page=484\n"
     ]
    },
    {
     "name": "stderr",
     "output_type": "stream",
     "text": [
      "<ipython-input-40-3bcb01c44ed2>:14: FutureWarning: The frame.append method is deprecated and will be removed from pandas in a future version. Use pandas.concat instead.\n",
      "  df = df.append(table[0].dropna())\n",
      "<ipython-input-40-3bcb01c44ed2>:14: FutureWarning: The frame.append method is deprecated and will be removed from pandas in a future version. Use pandas.concat instead.\n",
      "  df = df.append(table[0].dropna())\n",
      "<ipython-input-40-3bcb01c44ed2>:14: FutureWarning: The frame.append method is deprecated and will be removed from pandas in a future version. Use pandas.concat instead.\n",
      "  df = df.append(table[0].dropna())\n",
      "<ipython-input-40-3bcb01c44ed2>:14: FutureWarning: The frame.append method is deprecated and will be removed from pandas in a future version. Use pandas.concat instead.\n",
      "  df = df.append(table[0].dropna())\n"
     ]
    },
    {
     "name": "stdout",
     "output_type": "stream",
     "text": [
      "https://finance.naver.com/sise/sise_index_day.naver?code=KOSPI&page=485\n",
      "https://finance.naver.com/sise/sise_index_day.naver?code=KOSPI&page=486\n",
      "https://finance.naver.com/sise/sise_index_day.naver?code=KOSPI&page=487\n",
      "https://finance.naver.com/sise/sise_index_day.naver?code=KOSPI&page=488\n"
     ]
    },
    {
     "name": "stderr",
     "output_type": "stream",
     "text": [
      "<ipython-input-40-3bcb01c44ed2>:14: FutureWarning: The frame.append method is deprecated and will be removed from pandas in a future version. Use pandas.concat instead.\n",
      "  df = df.append(table[0].dropna())\n",
      "<ipython-input-40-3bcb01c44ed2>:14: FutureWarning: The frame.append method is deprecated and will be removed from pandas in a future version. Use pandas.concat instead.\n",
      "  df = df.append(table[0].dropna())\n",
      "<ipython-input-40-3bcb01c44ed2>:14: FutureWarning: The frame.append method is deprecated and will be removed from pandas in a future version. Use pandas.concat instead.\n",
      "  df = df.append(table[0].dropna())\n",
      "<ipython-input-40-3bcb01c44ed2>:14: FutureWarning: The frame.append method is deprecated and will be removed from pandas in a future version. Use pandas.concat instead.\n",
      "  df = df.append(table[0].dropna())\n"
     ]
    },
    {
     "name": "stdout",
     "output_type": "stream",
     "text": [
      "https://finance.naver.com/sise/sise_index_day.naver?code=KOSPI&page=489\n",
      "https://finance.naver.com/sise/sise_index_day.naver?code=KOSPI&page=490\n",
      "https://finance.naver.com/sise/sise_index_day.naver?code=KOSPI&page=491\n",
      "https://finance.naver.com/sise/sise_index_day.naver?code=KOSPI&page=492\n"
     ]
    },
    {
     "name": "stderr",
     "output_type": "stream",
     "text": [
      "<ipython-input-40-3bcb01c44ed2>:14: FutureWarning: The frame.append method is deprecated and will be removed from pandas in a future version. Use pandas.concat instead.\n",
      "  df = df.append(table[0].dropna())\n",
      "<ipython-input-40-3bcb01c44ed2>:14: FutureWarning: The frame.append method is deprecated and will be removed from pandas in a future version. Use pandas.concat instead.\n",
      "  df = df.append(table[0].dropna())\n",
      "<ipython-input-40-3bcb01c44ed2>:14: FutureWarning: The frame.append method is deprecated and will be removed from pandas in a future version. Use pandas.concat instead.\n",
      "  df = df.append(table[0].dropna())\n",
      "<ipython-input-40-3bcb01c44ed2>:14: FutureWarning: The frame.append method is deprecated and will be removed from pandas in a future version. Use pandas.concat instead.\n",
      "  df = df.append(table[0].dropna())\n"
     ]
    },
    {
     "name": "stdout",
     "output_type": "stream",
     "text": [
      "https://finance.naver.com/sise/sise_index_day.naver?code=KOSPI&page=493\n",
      "https://finance.naver.com/sise/sise_index_day.naver?code=KOSPI&page=494\n",
      "https://finance.naver.com/sise/sise_index_day.naver?code=KOSPI&page=495\n",
      "https://finance.naver.com/sise/sise_index_day.naver?code=KOSPI&page=496\n",
      "https://finance.naver.com/sise/sise_index_day.naver?code=KOSPI&page=497\n",
      "https://finance.naver.com/sise/sise_index_day.naver?code=KOSPI&page=498\n",
      "https://finance.naver.com/sise/sise_index_day.naver?code=KOSPI&page=499\n"
     ]
    },
    {
     "name": "stderr",
     "output_type": "stream",
     "text": [
      "<ipython-input-40-3bcb01c44ed2>:14: FutureWarning: The frame.append method is deprecated and will be removed from pandas in a future version. Use pandas.concat instead.\n",
      "  df = df.append(table[0].dropna())\n",
      "<ipython-input-40-3bcb01c44ed2>:14: FutureWarning: The frame.append method is deprecated and will be removed from pandas in a future version. Use pandas.concat instead.\n",
      "  df = df.append(table[0].dropna())\n",
      "<ipython-input-40-3bcb01c44ed2>:14: FutureWarning: The frame.append method is deprecated and will be removed from pandas in a future version. Use pandas.concat instead.\n",
      "  df = df.append(table[0].dropna())\n",
      "<ipython-input-40-3bcb01c44ed2>:14: FutureWarning: The frame.append method is deprecated and will be removed from pandas in a future version. Use pandas.concat instead.\n",
      "  df = df.append(table[0].dropna())\n"
     ]
    }
   ],
   "source": [
    "df = pd.DataFrame()\n",
    "sise_url = 'https://finance.naver.com/sise/sise_index_day.naver?code=KOSPI'  \n",
    "for page in range(1, 500):\n",
    "    page_url = '{}&page={}'.format(sise_url, page)\n",
    "    print(page_url)\n",
    "\n",
    "    # 위에서 했던 일련의 과정들을 각 url에 대해서 (99페이지에 대해서 반복)\n",
    "    response = requests.get(page_url, headers=headers)\n",
    "    html = bs(response.text, 'html.parser')\n",
    "    html_table = html.select(\"table\")\n",
    "    table = pd.read_html(str(html_table))\n",
    "\n",
    "    # 현재 얻은 데이터프레임을 기존 데이터프레임에 누적.\n",
    "    df = df.append(table[0].dropna())"
   ]
  },
  {
   "cell_type": "code",
   "execution_count": 41,
   "id": "6af6f8e4-cd7e-4b86-a33b-222665c8df23",
   "metadata": {},
   "outputs": [
    {
     "data": {
      "text/html": [
       "<div>\n",
       "<style scoped>\n",
       "    .dataframe tbody tr th:only-of-type {\n",
       "        vertical-align: middle;\n",
       "    }\n",
       "\n",
       "    .dataframe tbody tr th {\n",
       "        vertical-align: top;\n",
       "    }\n",
       "\n",
       "    .dataframe thead th {\n",
       "        text-align: right;\n",
       "    }\n",
       "</style>\n",
       "<table border=\"1\" class=\"dataframe\">\n",
       "  <thead>\n",
       "    <tr style=\"text-align: right;\">\n",
       "      <th></th>\n",
       "      <th>날짜</th>\n",
       "      <th>체결가</th>\n",
       "      <th>전일비</th>\n",
       "      <th>등락률</th>\n",
       "      <th>거래량(천주)</th>\n",
       "      <th>거래대금(백만)</th>\n",
       "    </tr>\n",
       "  </thead>\n",
       "  <tbody>\n",
       "    <tr>\n",
       "      <th>1</th>\n",
       "      <td>2023.07.07</td>\n",
       "      <td>2526.71</td>\n",
       "      <td>29.58</td>\n",
       "      <td>-1.16%</td>\n",
       "      <td>613265.0</td>\n",
       "      <td>10367353.0</td>\n",
       "    </tr>\n",
       "    <tr>\n",
       "      <th>2</th>\n",
       "      <td>2023.07.06</td>\n",
       "      <td>2556.29</td>\n",
       "      <td>22.71</td>\n",
       "      <td>-0.88%</td>\n",
       "      <td>531900.0</td>\n",
       "      <td>10291029.0</td>\n",
       "    </tr>\n",
       "    <tr>\n",
       "      <th>3</th>\n",
       "      <td>2023.07.05</td>\n",
       "      <td>2579.00</td>\n",
       "      <td>14.31</td>\n",
       "      <td>-0.55%</td>\n",
       "      <td>601089.0</td>\n",
       "      <td>10257664.0</td>\n",
       "    </tr>\n",
       "    <tr>\n",
       "      <th>8</th>\n",
       "      <td>2023.07.04</td>\n",
       "      <td>2593.31</td>\n",
       "      <td>9.16</td>\n",
       "      <td>-0.35%</td>\n",
       "      <td>674411.0</td>\n",
       "      <td>9160796.0</td>\n",
       "    </tr>\n",
       "    <tr>\n",
       "      <th>9</th>\n",
       "      <td>2023.07.03</td>\n",
       "      <td>2602.47</td>\n",
       "      <td>38.19</td>\n",
       "      <td>+1.49%</td>\n",
       "      <td>618006.0</td>\n",
       "      <td>8973590.0</td>\n",
       "    </tr>\n",
       "    <tr>\n",
       "      <th>...</th>\n",
       "      <td>...</td>\n",
       "      <td>...</td>\n",
       "      <td>...</td>\n",
       "      <td>...</td>\n",
       "      <td>...</td>\n",
       "      <td>...</td>\n",
       "    </tr>\n",
       "    <tr>\n",
       "      <th>2</th>\n",
       "      <td>2011.05.24</td>\n",
       "      <td>2061.76</td>\n",
       "      <td>6.05</td>\n",
       "      <td>+0.29%</td>\n",
       "      <td>261949.0</td>\n",
       "      <td>6012138.0</td>\n",
       "    </tr>\n",
       "    <tr>\n",
       "      <th>3</th>\n",
       "      <td>2011.05.23</td>\n",
       "      <td>2055.71</td>\n",
       "      <td>55.79</td>\n",
       "      <td>-2.64%</td>\n",
       "      <td>289835.0</td>\n",
       "      <td>6239214.0</td>\n",
       "    </tr>\n",
       "    <tr>\n",
       "      <th>8</th>\n",
       "      <td>2011.05.20</td>\n",
       "      <td>2111.50</td>\n",
       "      <td>15.99</td>\n",
       "      <td>+0.76%</td>\n",
       "      <td>280007.0</td>\n",
       "      <td>6096860.0</td>\n",
       "    </tr>\n",
       "    <tr>\n",
       "      <th>9</th>\n",
       "      <td>2011.05.19</td>\n",
       "      <td>2095.51</td>\n",
       "      <td>40.27</td>\n",
       "      <td>-1.89%</td>\n",
       "      <td>278726.0</td>\n",
       "      <td>7779617.0</td>\n",
       "    </tr>\n",
       "    <tr>\n",
       "      <th>10</th>\n",
       "      <td>2011.05.18</td>\n",
       "      <td>2135.78</td>\n",
       "      <td>33.37</td>\n",
       "      <td>+1.59%</td>\n",
       "      <td>255798.0</td>\n",
       "      <td>7102533.0</td>\n",
       "    </tr>\n",
       "  </tbody>\n",
       "</table>\n",
       "<p>2994 rows × 6 columns</p>\n",
       "</div>"
      ],
      "text/plain": [
       "            날짜      체결가    전일비     등락률   거래량(천주)    거래대금(백만)\n",
       "1   2023.07.07  2526.71  29.58  -1.16%  613265.0  10367353.0\n",
       "2   2023.07.06  2556.29  22.71  -0.88%  531900.0  10291029.0\n",
       "3   2023.07.05  2579.00  14.31  -0.55%  601089.0  10257664.0\n",
       "8   2023.07.04  2593.31   9.16  -0.35%  674411.0   9160796.0\n",
       "9   2023.07.03  2602.47  38.19  +1.49%  618006.0   8973590.0\n",
       "..         ...      ...    ...     ...       ...         ...\n",
       "2   2011.05.24  2061.76   6.05  +0.29%  261949.0   6012138.0\n",
       "3   2011.05.23  2055.71  55.79  -2.64%  289835.0   6239214.0\n",
       "8   2011.05.20  2111.50  15.99  +0.76%  280007.0   6096860.0\n",
       "9   2011.05.19  2095.51  40.27  -1.89%  278726.0   7779617.0\n",
       "10  2011.05.18  2135.78  33.37  +1.59%  255798.0   7102533.0\n",
       "\n",
       "[2994 rows x 6 columns]"
      ]
     },
     "execution_count": 41,
     "metadata": {},
     "output_type": "execute_result"
    }
   ],
   "source": [
    "df"
   ]
  },
  {
   "cell_type": "code",
   "execution_count": 42,
   "id": "2cda99b9-3d22-4c4b-a302-edee56daf5ac",
   "metadata": {},
   "outputs": [
    {
     "data": {
      "text/html": [
       "<div>\n",
       "<style scoped>\n",
       "    .dataframe tbody tr th:only-of-type {\n",
       "        vertical-align: middle;\n",
       "    }\n",
       "\n",
       "    .dataframe tbody tr th {\n",
       "        vertical-align: top;\n",
       "    }\n",
       "\n",
       "    .dataframe thead th {\n",
       "        text-align: right;\n",
       "    }\n",
       "</style>\n",
       "<table border=\"1\" class=\"dataframe\">\n",
       "  <thead>\n",
       "    <tr style=\"text-align: right;\">\n",
       "      <th></th>\n",
       "      <th>날짜</th>\n",
       "      <th>체결가</th>\n",
       "      <th>전일비</th>\n",
       "      <th>등락률</th>\n",
       "      <th>거래량(천주)</th>\n",
       "      <th>거래대금(백만)</th>\n",
       "    </tr>\n",
       "  </thead>\n",
       "  <tbody>\n",
       "    <tr>\n",
       "      <th>10</th>\n",
       "      <td>2011.05.18</td>\n",
       "      <td>2135.78</td>\n",
       "      <td>33.37</td>\n",
       "      <td>+1.59%</td>\n",
       "      <td>255798.0</td>\n",
       "      <td>7102533.0</td>\n",
       "    </tr>\n",
       "    <tr>\n",
       "      <th>9</th>\n",
       "      <td>2011.05.19</td>\n",
       "      <td>2095.51</td>\n",
       "      <td>40.27</td>\n",
       "      <td>-1.89%</td>\n",
       "      <td>278726.0</td>\n",
       "      <td>7779617.0</td>\n",
       "    </tr>\n",
       "    <tr>\n",
       "      <th>8</th>\n",
       "      <td>2011.05.20</td>\n",
       "      <td>2111.50</td>\n",
       "      <td>15.99</td>\n",
       "      <td>+0.76%</td>\n",
       "      <td>280007.0</td>\n",
       "      <td>6096860.0</td>\n",
       "    </tr>\n",
       "    <tr>\n",
       "      <th>3</th>\n",
       "      <td>2011.05.23</td>\n",
       "      <td>2055.71</td>\n",
       "      <td>55.79</td>\n",
       "      <td>-2.64%</td>\n",
       "      <td>289835.0</td>\n",
       "      <td>6239214.0</td>\n",
       "    </tr>\n",
       "    <tr>\n",
       "      <th>2</th>\n",
       "      <td>2011.05.24</td>\n",
       "      <td>2061.76</td>\n",
       "      <td>6.05</td>\n",
       "      <td>+0.29%</td>\n",
       "      <td>261949.0</td>\n",
       "      <td>6012138.0</td>\n",
       "    </tr>\n",
       "    <tr>\n",
       "      <th>...</th>\n",
       "      <td>...</td>\n",
       "      <td>...</td>\n",
       "      <td>...</td>\n",
       "      <td>...</td>\n",
       "      <td>...</td>\n",
       "      <td>...</td>\n",
       "    </tr>\n",
       "    <tr>\n",
       "      <th>9</th>\n",
       "      <td>2023.07.03</td>\n",
       "      <td>2602.47</td>\n",
       "      <td>38.19</td>\n",
       "      <td>+1.49%</td>\n",
       "      <td>618006.0</td>\n",
       "      <td>8973590.0</td>\n",
       "    </tr>\n",
       "    <tr>\n",
       "      <th>8</th>\n",
       "      <td>2023.07.04</td>\n",
       "      <td>2593.31</td>\n",
       "      <td>9.16</td>\n",
       "      <td>-0.35%</td>\n",
       "      <td>674411.0</td>\n",
       "      <td>9160796.0</td>\n",
       "    </tr>\n",
       "    <tr>\n",
       "      <th>3</th>\n",
       "      <td>2023.07.05</td>\n",
       "      <td>2579.00</td>\n",
       "      <td>14.31</td>\n",
       "      <td>-0.55%</td>\n",
       "      <td>601089.0</td>\n",
       "      <td>10257664.0</td>\n",
       "    </tr>\n",
       "    <tr>\n",
       "      <th>2</th>\n",
       "      <td>2023.07.06</td>\n",
       "      <td>2556.29</td>\n",
       "      <td>22.71</td>\n",
       "      <td>-0.88%</td>\n",
       "      <td>531900.0</td>\n",
       "      <td>10291029.0</td>\n",
       "    </tr>\n",
       "    <tr>\n",
       "      <th>1</th>\n",
       "      <td>2023.07.07</td>\n",
       "      <td>2526.71</td>\n",
       "      <td>29.58</td>\n",
       "      <td>-1.16%</td>\n",
       "      <td>613265.0</td>\n",
       "      <td>10367353.0</td>\n",
       "    </tr>\n",
       "  </tbody>\n",
       "</table>\n",
       "<p>2994 rows × 6 columns</p>\n",
       "</div>"
      ],
      "text/plain": [
       "            날짜      체결가    전일비     등락률   거래량(천주)    거래대금(백만)\n",
       "10  2011.05.18  2135.78  33.37  +1.59%  255798.0   7102533.0\n",
       "9   2011.05.19  2095.51  40.27  -1.89%  278726.0   7779617.0\n",
       "8   2011.05.20  2111.50  15.99  +0.76%  280007.0   6096860.0\n",
       "3   2011.05.23  2055.71  55.79  -2.64%  289835.0   6239214.0\n",
       "2   2011.05.24  2061.76   6.05  +0.29%  261949.0   6012138.0\n",
       "..         ...      ...    ...     ...       ...         ...\n",
       "9   2023.07.03  2602.47  38.19  +1.49%  618006.0   8973590.0\n",
       "8   2023.07.04  2593.31   9.16  -0.35%  674411.0   9160796.0\n",
       "3   2023.07.05  2579.00  14.31  -0.55%  601089.0  10257664.0\n",
       "2   2023.07.06  2556.29  22.71  -0.88%  531900.0  10291029.0\n",
       "1   2023.07.07  2526.71  29.58  -1.16%  613265.0  10367353.0\n",
       "\n",
       "[2994 rows x 6 columns]"
      ]
     },
     "execution_count": 42,
     "metadata": {},
     "output_type": "execute_result"
    }
   ],
   "source": [
    "df = df.dropna()\n",
    "# df = df.iloc[0:30] \n",
    "df = df.sort_values(by='날짜')\n",
    "df"
   ]
  },
  {
   "cell_type": "code",
   "execution_count": 43,
   "id": "2af6bac2-bf78-4388-8214-766e4ca43ea3",
   "metadata": {},
   "outputs": [
    {
     "data": {
      "image/png": "[encoded data removed]",
      "text/plain": [
       "<Figure size 1080x360 with 1 Axes>"
      ]
     },
     "metadata": {
      "needs_background": "light"
     },
     "output_type": "display_data"
    }
   ],
   "source": [
    "plt.figure(figsize=(15, 5)) \n",
    "plt.title('Celltrion (close)')\n",
    "plt.xticks(rotation=45) \n",
    "plt.plot(df['날짜'], df['체결가'], 'co-')\n",
    "plt.grid(color='gray', linestyle='--')\n",
    "plt.show()"
   ]
  },
  {
   "cell_type": "code",
   "execution_count": 44,
   "id": "f1362847-1acf-453f-bcc4-bb9aeca9c064",
   "metadata": {},
   "outputs": [],
   "source": [
    "df.to_csv('korea_kospi.csv')"
   ]
  },
  {
   "cell_type": "markdown",
   "id": "9edae425-096c-4da2-aedb-28406e3185b2",
   "metadata": {},
   "source": [
    "# US(NASDAQ)"
   ]
  },
  {
   "cell_type": "code",
   "execution_count": 49,
   "id": "609462b4-5e8c-4f8e-b6af-bb5dcd17bf26",
   "metadata": {},
   "outputs": [],
   "source": [
    "url = 'https://finance.naver.com/world/sise.naver?symbol=NAS@IXIC#&page=1'"
   ]
  },
  {
   "cell_type": "code",
   "execution_count": 50,
   "id": "ce407278-a641-4071-acd6-e89b0b2ab805",
   "metadata": {},
   "outputs": [],
   "source": [
    "headers = {'user-agent': 'Mozilla/5.0 (Macintosh; Intel Mac OS X 10_15_7) AppleWebKit/537.36 (KHTML, like Gecko) Chrome/88.0.4324.96 Safari/537.36'}\n",
    "response = requests.get(url, headers=headers)"
   ]
  },
  {
   "cell_type": "code",
   "execution_count": 51,
   "id": "9999d816-0b5b-4209-95e2-93a41045b03c",
   "metadata": {},
   "outputs": [
    {
     "data": {
      "text/plain": [
       "'<script language=javascript>\\nvar nsc=\"finance.world\";\\nfunction select_chart(pst)\\n{\\n\\tfor(var i=0 ; i<4 ; i++)\\n\\t{\\n\\t\\tif (i == pst)\\n\\t\\t\\tdocument.getElementById(\\'chart_\\'+pst).className = \\'on\\';\\n\\t\\telse\\n\\t\\t\\tdocument.getElementById(\\'chart_\\'+i).className = \"\";\\n\\t}\\n}\\n</script>\\n\\n<!--  global include -->\\n\\n\\t\\n\\t\\n\\t\\n\\t\\n\\t\\n\\t\\n<html lang=\\'ko\\'>\\n<head>\\n\\n\\n\\t\\n\\t\\n\\t\\t\\n\\t\\t\\t\\n\\t\\t\\t\\n\\t\\t\\t\\t<title>나스닥 종합 : 네이버 증권</title>\\n\\t\\t\\t\\n\\t\\t\\n\\t\\n\\n\\n\\n\\n\\n\\t\\n\\t\\n\\t\\t<meta http-equiv=\"Content-Type\" content=\"text/html; charset=utf-8\" />\\n\\t\\n\\n\\n<meta http-equiv=\"Content-Script-Type\" content=\"text/javascript\">\\n<meta http-equiv=\"Content-Style-Type\" content=\"text/css\">\\n<meta name=\"apple-mobile-web-app-title\" content=\"네이버 증권\" />\\n\\n\\n\\n\\n\\n\\t\\n    \\n        <meta property=\"og:url\" content=\"http://finance.naver.com/world/sise.naver?symbol=NAS@IXIC\"/>\\n        \\n\\t\\t\\t\\n\\t\\t    \\n\\t\\t    \\t<meta property=\"og:title\" content=\"나스닥 종합 : 네이버 증권\"/>\\n\\t\\t     \\n\\t\\t\\n\\t\\t\\n\\t\\t\\t\\n\\t\\t\\t   <meta property=\"og:description\" content=\"관심종목의 실시간 주가를 가장 빠르게 확인하는 곳\"/>\\n\\t\\t    \\n\\t\\t    \\n\\t\\t\\n\\t\\t \\n\\t\\t\\t\\n\\t\\t    \\n\\t\\t        <meta property=\"og:image\" content=\"https://ssl.pstatic.net/imgfinance/chart/mobile/world/day/NAS@IXIC_end_up.png\"/>\\n\\t\\t    \\n\\t\\t\\n    \\n\\n<meta property=\"og:type\" content=\"article\"/>\\n<meta property=\"og:article:thumbnailUrl\" content=\"\"/>\\n<meta property=\"og:article:author\" content=\"네이버 증권\"/>\\n<meta property=\"og:article:author:url\" content=\"http://FINANCE.NAVER.COM\"/>\\n\\n\\n\\n\\n\\n\\n<link rel=\\'stylesheet\\' type=\\'text/css\\' href=\\'https://ssl.pstatic.net/imgstock/static.pc/20230704202526/css/finance_header.css\\'>\\n\\n\\t\\n\\t\\n\\t\\t<link rel=\"stylesheet\" type=\"text/css\" href=\"https://ssl.pstatic.net/imgstock/static.pc/20230704202526/css/finance.css\">\\n\\t\\t<link rel=\"stylesheet\" type=\"text/css\" href=\"https://ssl.pstatic.net/imgstock/static.pc/20230704202526/css/newstock3.css\">\\n\\t\\t<script type=\"text/javascript\" src=\"https://ssl.pstatic.net/imgstock/static.pc/20230704202526/js/jindo.min.ns.1.5.3.euckr.js\"></script>\\n\\t\\t<script type=\"text/javascript\" src=\"https://ssl.pstatic.net/imgstock/static.pc/20230704202526/js/release/common.js\"></script>\\n\\t\\t<script type=\"text/javascript\" src=\"https://ssl.pstatic.net/imgstock/static.pc/20230704202526/js/jindoComponent/jindo.Component.1.0.3.js\"></script>\\n\\t\\t<script type=\"text/javascript\" src=\"https://ssl.pstatic.net/imgstock/static.pc/20230704202526/js/nhn.autocomplete.stock.js\"></script>\\n\\t\\n\\t\\n\\t\\n\\n<script>\\n\\tvar ieVersion = (function () {\\n        var version = -1;\\n        if (\\n          navigator.appName == \\'Microsoft Internet Explorer\\' &&\\n          navigator.userAgent.toLowerCase().indexOf(\\'msie\\') != -1 &&\\n          new RegExp(\\'MSIE ([0-9]{1,}[\\\\./0-9]{0,})\\').exec(navigator.userAgent) != null\\n        ) {\\n          version = parseInt(RegExp.$1);\\n        }\\n        return version;\\n      })();\\n</script>\\n\\t\\n\\t<!-- smart channel 광고 -->\\n\\t<script async src=\"https://ssl.pstatic.net/tveta/libs/glad/prod/gfp-core.js\">\\n\\t\\t</script>\\n\\t<script type=\"text/javascript\">\\n\\t\\t(function(){\\n\\t\\t\\tif (ieVersion === -1 || ieVersion > 10) {\\n\\t\\t\\t\\twindow.gladsdk = window.gladsdk || { cmd: [] };\\n\\n\\t\\t\\t\\tgladsdk.cmd.push(function() {\\n\\t\\t\\t\\t\\t\\tgladsdk.defineAdSlot({\\n\\t\\t\\t\\t\\t\\t\\tadUnitId: \"p_nf_stock\",\\n\\t\\t\\t\\t\\t\\t\\tadSlotElementId: \"_SmartChannelTopBanner\",\\n\\t\\t\\t\\t\\t\\t\\tuct: \"KR\",\\n\\t\\t\\t\\t\\t\\t\\tcustomParam: {\\n\\t\\t\\t\\t\\t\\t\\t\\tcalp: \\n\\t\\t\\t\\t\\t\\t\\t\\t\\t\\n\\t\\t\\t\\t\\t\\t\\t\\t\\t\\n\\t\\t\\t\\t\\t\\t\\t\\t\\t\\n\\t\\t\\t\\t\\t\\t\\t\\t\\t\"abroad\"\\n\\t\\t\\t\\t\\t\\t\\t\\t\\t\\n\\t\\t\\t\\t\\t\\t\\t\\t\\t\\n\\t\\t\\t\\t\\t\\t\\t\\t\\t\\n\\t\\t\\t\\t\\t\\t\\t},\\n\\t\\t\\t\\t\\t\\t});\\n\\n\\n\\n\\t\\t\\t\\t\\t\\tgladsdk.addEventListener(gladsdk.event.AD_LOADED, function(ad) {\\n\\t\\t\\t\\t\\t\\t\\t//console.log(gladsdk.event.AD_LOADED);\\n\\t\\t\\t\\t\\t\\t});\\n\\t\\t\\t\\t\\t\\tgladsdk.addEventListener(gladsdk.event.AD_CLICKED, function(ad) {\\n\\t\\t\\t\\t\\t\\t\\t//console.log(gladsdk.event.AD_CLICKED);\\n\\t\\t\\t\\t\\t\\t});\\n\\t\\t\\t\\t\\t\\tgladsdk.addEventListener(gladsdk.event.AD_IMPRESSED, function(ad) {\\n\\t\\t\\t\\t\\t\\t\\t//console.log(gladsdk.event.AD_IMPRESSED);\\n\\t\\t\\t\\t\\t\\t});\\n\\t\\t\\t\\t\\t\\tgladsdk.addEventListener(gladsdk.event.ERROR, function(ad, error) {\\n\\t\\t\\t\\t\\t\\t\\t//TODO: 오류 로깅처리\\n\\t\\t\\t\\t\\t\\t\\t//console.log(gladsdk.event.ERROR);\\n\\t\\t\\t\\t\\t\\t});\\n\\t\\t\\t\\t\\t});\\n\\t\\t\\t}\\n\\t\\t})();\\n\\t</script>\\n\\t\\n\\n\\t<link rel=\"shortcut icon\" href=\"https://ssl.pstatic.net/imgstock/favi/favicon.ico\" type=\"image/x-icon\">\\n\\t\\n\\t<script type=\"text/javascript\">\\n    (function(){\\n\\t\\tdocument.write(\\n\\t\\t\\t\\t[\\n\\t\\t\\t\\t\\t\\'<link rel=\"apple-touch-icon-precomposed\" href=\"https://ssl.pstatic.net/imgstock/favi/favicon-96x96.png\"/>\\',\\n\\t\\t\\t\\t\\t\\'<link rel=\"apple-touch-icon-precomposed\" sizes=\"180x180\" href=\"https://ssl.pstatic.net/imgstock/favi/favicon-180x180.png\"/>\\',\\n\\t\\t\\t\\t\\t\\'<link rel=\"apple-touch-icon-precomposed\" sizes=\"192x192\" href=\"https://ssl.pstatic.net/imgstock/favi/favicon-192x192.png\"/>\\',\\n\\t\\t\\t\\t\\t\\'<link rel=\"icon\" type=\"image/png\" sizes=\"16x16\" href=\"https://ssl.pstatic.net/imgstock/favi/favicon-16x16.png\"/>\\',\\n\\t\\t\\t\\t\\t\\'<link rel=\"icon\" type=\"image/png\" sizes=\"32x32\" href=\"https://ssl.pstatic.net/imgstock/favi/favicon-32x32.png\"/>\\',\\n\\t\\t\\t\\t\\t\\'<link rel=\"icon\" type=\"image/png\" sizes=\"96x96\" href=\"https://ssl.pstatic.net/imgstock/favi/favicon-96x96.png\"/>\\',\\n\\t\\t\\t\\t\\t\\'<link rel=\"icon\" type=\"image/png\" sizes=\"192x192\" href=\"https://ssl.pstatic.net/imgstock/favi/favicon-192x192.png\"/>\\'\\n\\t\\t\\t\\t]\\n\\t\\t\\t.join(\\'\\\\n\\')\\n\\t\\t);\\n    })();\\n    </script>\\n</head>\\n\\n\\n\\n\\n<body onload=\\'getGNB();\\'>\\n\\n\\n\\n<script type=\"text/javascript\">\\n\\n\\tvar nclk_evt = 3;\\n\\tnclk_do();\\n</script>\\n\\n\\n<script type=\"text/javascript\">\\n\\n\\n\\n\\n\\n\\n\\n\\n\\nvar nsc=\"finance.world\";\\n\\n\\n\\n\\n\\nvar ccsrv=\"cc.naver.com\";\\n\\n\\n\\t\\n\\t\\n\\tvar gnb_service=\\'finance\\';\\n\\t\\n\\n\\nvar gnb_logout=document.URL; //GNB에서 로그아웃 후 redirect 될 URL\\nvar gnb_searchbox=\\'off\\'; //미니 검색창을 on 할지 off 할지. default는 off\\nvar gnb_shortnick=\\'off\\'; //닉네임 말줄임(10자)을 on할지 off 할지. default는 off.\\n\\n\\nvar gnb_naverme_layer_open_callback = function(){\\n\\t   var naverLayerSize = gnbNaverMeLayer.getLayerSize();\\n\\t\\t\\n\\t\\tvar me_layers = document.getElementById(\"me_layers\");\\n\\t\\tme_layers.width=naverLayerSize.width;\\n\\t\\tme_layers.height=naverLayerSize.height;};\\n\\nvar gnb_naverme_layer_close_callback = function(){\\n\\t\\t\\n\\t\\t\\tvar me_layers = document.getElementById(\"me_layers\");\\n\\t\\t\\tme_layers.width=\"0\";\\n\\t\\t\\tme_layers.height=\"0\";};\\n</script>\\n\\n\\n<div id=\"u_skip\">\\n\\t<a href=\"#menu\" tabindex=\"1\"><span>메인 메뉴로 바로가기</span></a>\\n\\n\\t\\n\\t\\n\\t\\t<a href=\"#start\" tabindex=\"2\"><span>본문으로 바로가기</span></a>\\n\\t\\n\\n</div>\\n\\n\\n<div id=\"header\">\\n\\t<div class=\"snb_area\">\\n\\t\\t<div class=\"snb_inner\">\\n\\t\\t\\t<div id=\"gnb_area\">\\n\\t\\t\\t\\t<div id=\"gnb\">\\n\\t\\t\\t\\t\\t<script charset=\"EUC-KR\" type=\"text/javascript\">\\n\\t\\t\\t\\t\\tvar gnb_service = \"gnbtest\";\\n                    var gnb_template = location.protocol == \"http:\" ? \"gnb_quirks_euckr\" : \"gnb_utf8\" ;\\n\\t\\t\\t\\t\\tvar gnb_dark = false;\\n\\t\\t\\t\\t\\tvar gnb_brightness = 1;\\n\\t\\t\\t\\t\\tvar gnb_logout=encodeURIComponent(location.href);\\n\\t\\t\\t\\t\\tvar gnb_one_naver = 1;\\n\\t\\t\\t\\t\\t</script>\\n\\t\\t\\t\\t\\t\\n\\t\\t\\t\\t\\t\\t\\n\\t\\t\\t\\t\\t\\t\\n\\t\\t\\t\\t\\t\\t\\t<script type=\"text/javascript\" charset=\"utf-8\" src=\"https://ssl.pstatic.net/static.gn/templates/gnb_utf8.nhn?20230707\">\\n                    \\t\\t</script>\\n\\t\\t\\t\\t\\t\\t\\n\\t\\t\\t\\t\\t\\n\\t\\t\\t\\t</div>\\n\\t\\t\\t</div>\\n\\n\\t\\t\\t<div class=\"sta\">\\n\\t\\t\\t\\t<h1 class=\"logo\"> <a href=\"https://www.naver.com/\" class=\"logo_naver\" onClick=\"clickcr(this, \\'STA.naver\\', \\'\\', \\'\\', event);\"><span class=\"blind\">네이버</span></a>\\n\\t\\t\\t\\t<a href=\"/\" class=\"logo_service\" onClick=\"clickcr(this, \\'STA.finance\\', \\'\\', \\'\\', event);\"><span class=\"blind\">증권</span></a> </h1>\\n\\t\\t\\t\\t<form name=\"search\" action=\"/search/search.naver\"  method=\"get\"\\n\\t\\t\\t\\t\\tonsubmit=\"return delayed_submit(this)\" style=\"margin:0; padding:0;\">\\n\\t\\t\\t\\t<fieldset>\\n\\t\\t\\t\\t\\t<legend>검색</legend>\\n\\t\\t\\t\\t\\t<div class=\"snb_search_box\">\\n\\t\\t\\t\\t\\t\\t<div class=\"snb_search_box_sub\">\\n\\t\\t\\t\\t\\t\\t\\t<input id=\"stock_items\" type=\"text\" title=\"검색\" name=\"query\" value=\"종목명&middot;지수명 입력\" accesskey=\"s\" class=\"snb_search_text snb_default\" autocomplete=\"off\">\\n\\t\\t\\t\\t\\t\\t\\t<a id=\"nautocomplete\" href=\"#\" onclick=\"return false\" class=\"btn_arrow\"><span class=\"blind\">자동완성 펼치기</span></a>\\n\\t\\t\\t\\t\\t\\t</div>\\n\\t\\t\\t\\t\\t\\t<div class=\"auto_area\">\\n\\t\\t\\t\\t\\t\\t\\t<h2 class=\"blind\">자동완성</h2>\\n\\t\\t\\t\\t\\t\\t\\t<div id=\"autoFrame\" style=\"display: none;\">\\n\\t\\t\\t\\t\\t\\t\\t\\t<div class=\"wrap\" id=\"atcmp\" style=\"display:none;\">\\n\\t\\t\\t\\t\\t\\t\\t\\t\\t<div class=\"wrap_in\">\\n\\t\\t\\t\\t\\t\\t\\t\\t\\t\\t<div class=\"words\">\\n\\t\\t\\t\\t\\t\\t\\t\\t\\t\\t\\t<ul class=\"_resultBox\">\\n\\t\\t\\t\\t\\t\\t\\t\\t\\t\\t\\t\\t<li>\\n\\t\\t\\t\\t\\t\\t\\t\\t\\t\\t\\t\\t\\t<a href=\"#\" onclick=\"clickcr(this, \\'AUT.list\\', \\'\\', \\'\\', event); return false;\" class=\"_au_real_list\">\\n\\t\\t\\t\\t\\t\\t\\t\\t\\t\\t\\t\\t\\t\\t<span class=\"num _au_real_list\">@code@</span>\\n\\t\\t\\t\\t\\t\\t\\t\\t\\t\\t\\t\\t\\t\\t<span class=\"_au_real_list\">@txt@</span>\\n\\t\\t\\t\\t\\t\\t\\t\\t\\t\\t\\t\\t\\t\\t<span class=\"type _au_real_list\">@market@</span>\\n\\t\\t\\t\\t\\t\\t\\t\\t\\t\\t\\t\\t\\t</a>\\n\\t\\t\\t\\t\\t\\t\\t\\t\\t\\t\\t\\t\\t<div style=\"display:none\" class=\"_au_full\">@full_txt@</div>\\n\\t\\t\\t\\t\\t\\t\\t\\t\\t\\t\\t\\t\\t<div style=\"display:none\" class=\"_au_code\">@in_code@</div>\\n\\t\\t\\t\\t\\t\\t\\t\\t\\t\\t\\t\\t\\t<div style=\"display:none\" class=\"_au_name\">@in_name@</div>\\n\\t\\t\\t\\t\\t\\t\\t\\t\\t\\t\\t\\t\\t<div style=\"display:none\" class=\"_au_link\">@in_link@</div>\\n\\t\\t\\t\\t\\t\\t\\t\\t\\t\\t\\t\\t\\t<div style=\"display:none\" class=\"_au_market\">@in_market@</div>\\n\\t\\t\\t\\t\\t\\t\\t\\t\\t\\t\\t\\t</li>\\n\\t\\t\\t\\t\\t\\t\\t\\t\\t\\t\\t</ul>\\n\\t\\t\\t\\t\\t\\t\\t\\t\\t\\t</div>\\n\\t\\t\\t\\t\\t\\t\\t\\t\\t\\t<p class=\"func\">\\n\\t\\t\\t\\t\\t\\t\\t\\t\\t\\t\\t<span><a href=\"#\" class=\"fire_event funoff\" onclick=\"clickcr(this, \\'AUT.x\\', \\'\\', \\'\\', event); smartSearch.unuse(); return false;\" >기능끄기</a></span>\\n\\t\\t\\t\\t\\t\\t\\t\\t\\t\\t</p>\\n\\t\\t\\t\\t\\t\\t\\t\\t\\t</div>\\n\\t\\t\\t\\t\\t\\t\\t\\t</div>\\n\\t\\t\\t\\t\\t\\t\\t\\t<!-- 현재 자동완성 기능을 사용하고 계십니다 -->\\n\\t\\t\\t\\t\\t\\t\\t\\t<div class=\"wrap\" id=\"atcmpIng\" style=\"display:none;\">\\n\\t\\t\\t\\t\\t\\t\\t\\t\\t<div class=\"wrap_in\">\\n\\t\\t\\t\\t\\t\\t\\t\\t\\t\\t<div class=\"words\">\\n\\t\\t\\t\\t\\t\\t\\t\\t\\t\\t\\t<p class=\"msg\">\\n\\t\\t\\t\\t\\t\\t\\t\\t\\t\\t\\t\\t현재 자동완성 기능을 사용하고 계십니다.\\n\\t\\t\\t\\t\\t\\t\\t\\t\\t\\t\\t</p>\\n\\t\\t\\t\\t\\t\\t\\t\\t\\t\\t</div>\\n\\t\\t\\t\\t\\t\\t\\t\\t\\t\\t<p class=\"func\">\\n\\t\\t\\t\\t\\t\\t\\t\\t\\t\\t\\t<span><a href=\"#\" class=\"fire_event funoff\" onclick=\"clickcr(this, \\'AUT.x\\', \\'\\', \\'\\', event); smartSearch.unuse(); return false;\">기능끄기</a></span>\\n\\t\\t\\t\\t\\t\\t\\t\\t\\t\\t</p>\\n\\t\\t\\t\\t\\t\\t\\t\\t\\t</div>\\n\\t\\t\\t\\t\\t\\t\\t\\t</div>\\n\\t\\t\\t\\t\\t\\t\\t\\t<!--// 현재 자동완성 기능을 사용하고 계십니다 -->\\n\\t\\t\\t\\t\\t\\t\\t\\t<!-- 자동완성 기능이 활성화 -->\\n\\t\\t\\t\\t\\t\\t\\t\\t<div class=\"wrap\" id=\"atcmpStart\" style=\"display:none;\">\\n\\t\\t\\t\\t\\t\\t\\t\\t\\t<div class=\"wrap_in\">\\n\\t\\t\\t\\t\\t\\t\\t\\t\\t\\t<div class=\"words\">\\n\\t\\t\\t\\t\\t\\t\\t\\t\\t\\t\\t<p class=\"msg\">\\n\\t\\t\\t\\t\\t\\t\\t\\t\\t\\t\\t\\t자동완성 기능이 활성화되었습니다.\\n\\t\\t\\t\\t\\t\\t\\t\\t\\t\\t\\t</p>\\n\\t\\t\\t\\t\\t\\t\\t\\t\\t\\t</div>\\n\\t\\t\\t\\t\\t\\t\\t\\t\\t\\t<p class=\"func\">\\n\\t\\t\\t\\t\\t\\t\\t\\t\\t\\t\\t<span><a href=\"#\" class=\"fire_event funoff\"  onclick=\"clickcr(this, \\'AUT.x\\', \\'\\', \\'\\', event); smartSearch.unuse(); return false;\">기능끄기</a></span>\\n\\t\\t\\t\\t\\t\\t\\t\\t\\t\\t</p>\\n\\t\\t\\t\\t\\t\\t\\t\\t\\t</div>\\n\\t\\t\\t\\t\\t\\t\\t\\t</div>\\n\\t\\t\\t\\t\\t\\t\\t</div>\\n\\t\\t\\t\\t\\t\\t</div>\\n\\t\\t\\t\\t\\t\\t<button type=\"submit\" class=\"snb_search_btn\" onclick=\"clickcr(this, \\'STA.search\\', \\'\\', \\'\\', event);\" alt=\"검색\"><span class=\"blind\">검색</span></button>\\n\\t\\t\\t\\t\\t\\t<a href=\"#\" target=\"_blank\" class=\"snb_search_btn-total\" onclick=\"itegrationSearch();clickcr(this, \\'STA.nx\\', \\'\\', \\'\\', event);return false;\">통합검색</a>\\n\\t\\t\\t\\t\\t</div>\\n\\t\\t\\t\\t</fieldset>\\n\\t\\t\\t\\t</form>\\n\\t\\t\\t</div>\\n\\t\\t</div>\\n\\t</div>\\n\\t<div class=\"lnb_area \">\\n\\t\\t<div class=\"lnb_inner\">\\n\\t\\t\\t<div id=\"menu\">\\n\\t\\t\\t\\t<ul class=\"menu\">\\n\\t\\t\\t\\t\\t<li class=\"m1 first \"><a href=\"/\" onClick=\"clickcr(this, \\'LNB.home\\', \\'\\', \\'\\', event);\"><span class=\"tx\">증권 홈</span></a></li>\\n\\t\\t\\t\\t\\t<li class=\"m2 \"><a href=\"/sise/\" onClick=\"clickcr(this, \\'LNB.sise\\', \\'\\', \\'\\', event);\"><span class=\"tx\">국내증시</span></a></li>\\n\\t\\t\\t\\t\\t<li class=\"m3 on\"><a href=\"/world/\" onClick=\"clickcr(this, \\'LNB.world\\', \\'\\', \\'\\', event);\"><span class=\"tx\">해외증시</span></a></li>\\n\\t\\t\\t\\t\\t<li class=\"m4 \"><a href=\"/marketindex/\" onClick=\"clickcr(this, \\'LNB.market\\', \\'\\', \\'\\', event);\"><span class=\"tx\">시장지표</span></a></li>\\n\\t\\t\\t\\t\\t<li class=\"m6 \"><a href=\"/research/\" onClick=\"clickcr(this, \\'LNB.research\\', \\'\\', \\'\\', event);\"><span class=\"tx\">리서치</span></a></li>\\n\\t\\t\\t\\t\\t<li class=\"m7 \"><a href=\"/news/\"><span class=\"tx\">뉴스</span></a></li>\\n\\t\\t\\t\\t\\t<li class=\"m8 \"><a href=\"/mystock/\" onClick=\"clickcr(this, \\'LNB.mystock\\', \\'\\', \\'\\', event);\"><span class=\"tx\">MY</span></a></li>\\n\\t\\t\\t\\t</ul>\\n\\t\\t\\t</div>\\n\\t\\t</div>\\n\\t</div>\\n\\t\\n\\t\\n\\t\\n\\t\\n\\t<script type=\"text/JavaScript\">\\n\\t\\tfunction overSubmenu(e) {\\n\\t\\t\\tvar curElement = jindo.$Element(jindo.$Event(e).currentElement);\\n\\t\\t\\tcurElement.addClass(\"on\");\\n\\t\\t}\\n\\n\\t\\tfunction outSubmenu(e) {\\n\\t\\t\\tvar curElement = jindo.$Element(jindo.$Event(e).currentElement);\\n\\t\\t\\tcurElement.removeClass(\"on\");\\n\\t\\t}\\n\\n\\t\\twindow.onload=function(){\\n\\t\\t\\t// 해외증시홈, 해외증시뉴스는 mouseover 이벤트가 발생하면 안된다.\\n\\t\\t\\tvar liMenuElement = jindo.$A(jindo.$$(\\'ul.lnb2 li\\')).slice(2, 6);\\n\\t\\t\\tvar liMenuElementValue = liMenuElement.$value();\\n\\t\\t\\tjindo.$Fn(function(e){overSubmenu(e);}).attach(liMenuElementValue,\\'mouseover\\');\\n\\t\\t\\tjindo.$Fn(function(e){outSubmenu(e);}).attach(liMenuElementValue,\\'mouseout\\');\\n\\t\\t\\tgetGNB();\\n\\t\\t}\\n\\t</script>\\n\\t\\n\\n\\t\\n\\t<script type=\"text/JavaScript\">\\n\\t\\t/* lcs 집계 */\\n        ;(function(){\\n            var eventType = \"onpageshow\" in window ? \"pageshow\" : \"load\";\\n            jindo.$Fn(function(){\\n                lcs_do();\\n            }).attach(window, eventType);\\n        })();\\n\\n\\t\\t/* 검색 자동완성 [ 인자1 : 검색input의 ID, 인자2 : iframe 태그 ID ]   */\\n\\t\\t// AutoComplete 생성\\n\\t\\tvar acDomain = \"ac.finance.naver.com\";\\n        if (location.hostname.indexOf(\"staging-\") > -1) {\\n            acDomain = \"staging-\" + acDomain;\\n        } else if (location.hostname.indexOf(\"dev-\") > -1 || location.hostname.indexOf(\"localhost\") > -1 || location.hostname.indexOf(\"local-\") > -1) {\\n\\t\\t\\tacDomain = \"dev-\" + acDomain;\\n\\t\\t}\\n\\n        var acUrl = \"https://\" + acDomain + \"/ac\";\\n\\n\\t\\tsmartSearch = new nhn.Autocomplete(\\n\\t\\t\\t// InputManager 생성\\n\\t\\t\\tnew nhn.AcInputManager(jindo.$(\"stock_items\")),\\n\\t\\t\\t// DataManager 생성\\n\\t\\t\\tnew nhn.AcDataManager(acUrl, \"jsonp\", \"get\", {\\n                    st: \"111\",\\n                    r_lt : \"111\",\\n                    q_enc : \"euc-kr\",\\n                    r_enc : \"euc-kr\",\\n                    frm: \"stock\"}),\\n\\t\\t\\t// ViewManager 생성\\n\\t\\t\\tnew nhn.AcStockViewManager(jindo.$(\"autoFrame\"), jindo.$(\"nautocomplete\"), {\\n                                        strMax: 200,\\n                                        listMax: [7, 2, 2],\\n                                        aRedirectUrl : [\\n                            \\t\\t\\t\"https://finance.naver.com\",\\n                            \\t\\t\\t\"https://finance.naver.com\",\\n                            \\t\\t\\t\"https://finance.naver.com\"]}),\\n\\t\\t\\t// Autocomplete Option\\n            {formId:\"search\", cookieDomain:location.hostname, cookieName:\"NaverCommonStock\"});\\n\\n\\t\\t\\tsmartSearch.attach({\\n\\t            onFocus: function () {\\n\\t                var weInput = jindo.$Element(\\'stock_items\\');\\n\\t                if (weInput && weInput.hasClass(\"snb_default\")) {\\n\\t                        weInput.text(\"\");\\n\\t                        weInput.removeClass(\\'snb_default\\');\\n\\t                }\\n\\t            }\\n\\t        });\\n\\n\\t\\t/* 통합검색  start ----->  */\\n\\t\\t//document.domain = \\'naver.com\\';\\n\\t\\tvar sSearchHintText = \\'종목명·지수명·환율명·원자재명 입력\\';\\n\\t\\tfunction itegrationSearch() {\\n\\t\\t\\tvar query = jindo.$(\\'stock_items\\').value;\\n\\n\\t\\t\\tif ( query == \\'\\'  || encodeURIComponent(query) == encodeURIComponent(sSearchHintText))\\n\\t\\t\\t{\\n\\t\\t\\t\\talert ( \\'검색어를 입력해 주세요.\\' );\\n\\t\\t\\t\\treturn;\\n\\t\\t\\t}\\n\\n            var url = location.protocol + \"//search.naver.com/search.naver?sm=sta_hty.finance&where=nexearch&ie=UTF8&query=\" + encodeURIComponent(query);\\n            window.open(url, \"_blank\");\\n\\n\\t\\t\\treturn false;\\n\\t\\t}\\n\\n\\t\\tfunction delayed_submit(object) {\\n\\t\\t\\tif (navigator.userAgent.indexOf(\\'MSIE\\') == -1) {\\n\\t\\t\\t\\twindow.setTimeout(function() {stock_search(object)}, 300);\\n\\t\\t\\t} else {\\n\\t\\t\\t\\tstock_search(object);\\n\\t\\t\\t}\\n\\t\\t\\treturn false;\\n\\t\\t}\\n\\n\\t\\tfunction stock_search (object)\\n\\t\\t{\\n\\t\\t\\tquery = object.query.value.replace(/^\\\\s*/,\\'\\').replace(/\\\\s*$/,\\'\\');\\t// trim\\n\\t\\t\\tobject.query.value=query;\\n\\n\\t\\t\\tif ( query == \\'\\' || query == sSearchHintText.replace(/^\\\\s*/,\\'\\').replace(/\\\\s*$/,\\'\\'))\\n\\t\\t\\t{\\n\\t\\t\\t\\talert ( \\'검색어를 입력해 주세요.\\' );\\n\\t\\t\\t\\treturn;\\n\\t\\t\\t}\\n\\t\\t\\telse {\\n\\t\\t\\t\\tobject.submit();\\n\\t\\t\\t}\\n\\t\\t}\\n\\t\\t/* <---------- 통합검색  end */\\n\\n\\t\\tfunction popup()\\n\\t\\t{\\n\\t\\t\\twin = window.open(\\'/template/group_limit_pop.jsp\\',\\'finan_popup\\',\\'width=569 height=278 scrollbars=no status=no\\');\\n\\t\\t\\twin.focus();\\n\\t\\t}\\n\\t</script>\\n\\n\\t<iframe id=\"me_layers\" name=\"test\" title=\"네이버미 영역\" width=\"0\" height=\"0\" scrolling=\"no\" frameborder=\"0\" style=\"display:block;top: 22px; right: 209px; position: absolute; z-index: 15;\"></iframe>\\n</div>\\n<div id=\"wrap\"  >\\n\\t\\n\\t\\t<div class=\"banner_smart\">\\n\\t\\t\\t<div id=\"_SmartChannelTopBanner\">\\n\\t\\t\\t\\t<script type=\"text/javascript\">\\n\\t\\t\\t\\tif (ieVersion === -1 || ieVersion > 10) {\\n\\t\\t\\t\\t\\tgladsdk.cmd.push(function() {\\n\\t\\t\\t\\t\\t\\tgladsdk.displayAd(\"_SmartChannelTopBanner\");\\n\\t\\t\\t\\t\\t});\\n\\t\\t\\t\\t}\\n\\t\\t\\t\\t</script>\\n\\t\\t\\t</div>\\n\\t\\t</div>\\n\\t\\n\\n<!-- //  global include -->\\n\\t<!-- [D] 이 라인부터 Footer 전까지는 전부 새로 마크업된 영역입니다. 기존 레이아웃을 걷어내 주세요.\\n\\t\\tclass=\"섹션고유네이밍\" 을 추가합니다.\\n\\t\\t(해외증시 섹션 > end 페이지 : section_world section_world_end)\\n\\t\\t다음 마크업담당자님 : 기존 finance.css 에서 #container 를 사용하고 있기 때문에, 사이드이펙트를 고려해서 id=\"container\" 를 제외했습니다 -->\\n\\t<div class=\"section_world section_world_end\">\\n\\t\\t<!-- 상단 제목영역 -->\\n\\n\\t\\t<div class=\"group_h\">\\n\\t\\t\\t<div class=\"h_area\">\\n\\t\\t\\t\\t<h2>나스닥 종합</h2>\\n\\t\\t\\t\\t<em class=\"quot\">NAS@IXIC</em>\\n\\t\\t\\t\\t<span class=\"state\">미국</span>\\n\\t\\t\\t\\t<span class=\"date\"><em>2023.07.07 10:42</em> \\n\\t\\t\\t\\t현지시간 기준\\n\\t\\t\\t\\t<span>|</span>15분 지연제공 </span>\\n\\t\\t\\t</div>\\n\\t\\t</div>\\n\\t\\t<!-- //상단 제목영역 -->\\n\\t\\t<div id=\"content\">\\n\\t\\t\\t\\t\\n\\t\\t\\t\\n\\t\\t\\t\\n\\t\\t\\t\\t\\n\\t\\t\\t\\t\\n\\t\\t\\t\\n\\t\\t\\t\\n\\t\\t\\n\\t\\t\\t<!-- 현재 시세 -->\\n\\t\\t\\t<!-- [D] 펀드 end 와 동일한 구조입니다 -->\\n\\t\\t\\t<div class=\"rate_info\">\\n\\t\\t\\t\\t<div class=\"today\">\\n\\t\\t\\t\\t\\t<p class=\"no_today\">\\n\\t\\t\\t\\t\\t\\t<em class=\"no_up\">\\n\\t\\t\\t\\t\\t\\t\\t\\n\\t\\t\\t\\t\\t\\t\\t\\n\\t\\t\\t\\t\\t\\t\\t<span class=\"no1\">1</span><span class=\"no3\">3</span><span class=\"shim\">,</span><span class=\"no6\">6</span><span class=\"no8\">8</span><span class=\"no1\">1</span><span class=\"jum\">.</span><span class=\"no6\">6</span><span class=\"no1\">1</span>\\n\\t\\t\\t\\t\\t\\t</em>\\n\\t\\t\\t\\t\\t</p>\\n\\t\\t\\t\\t\\t<p class=\"no_exday\">\\n\\t\\t\\t\\t\\t\\t<span class=\"txt_comparison\">전일대비</span>\\n\\t\\t\\t\\t\\t\\t<em class=\"no_up\"\">\\n\\t\\t\\t\\t\\t\\t\\t<span class=\"ico up\"></span>\\n\\t\\t\\t\\t\\t\\t\\t\\n\\t\\t\\t\\t\\t\\t\\t\\n\\t\\t\\t\\t\\t\\t\\t<span class=\"no2\">2</span><span class=\"jum\">.</span><span class=\"no5\">5</span><span class=\"no7\">7</span>\\n\\n\\t\\t\\t\\t\\t\\t</em>\\n\\t\\t\\t\\t\\t\\t<em class=\"no_up\">\\n\\t\\t\\t\\t\\t\\t\\t<span class=\"parenthesis1\">(</span><span class=\"ico plus\">+</span>\\n\\t\\t\\t\\t\\t\\t\\t\\n\\t\\t\\t\\t\\t\\t\\t\\n\\t\\t\\t\\t\\t\\t\\t<span class=\"no0\">0</span><span class=\"jum\">.</span><span class=\"no0\">0</span><span class=\"no2\">2</span><span class=\"per\">%</span>\\n\\t\\t\\t\\t\\t\\t\\t<span class=\"parenthesis2\">)</span>\\n\\n\\t\\t\\t\\t\\t\\t</em>\\n\\t\\t\\t\\t\\t</p>\\n\\t\\t\\t\\t</div>\\n\\t\\t\\t\\t<table summary=\"주요 시세(전일종가, 시고저가, 거래량, 거래대금)을 제공합니다.\" class=\"no_info\">\\n\\t\\t\\t\\t<caption>주요 시세</caption>\\n\\t\\t\\t\\t<colgroup><col width=\"150\"><col><col width=\"154\"></colgroup>\\n\\t\\t\\t\\t<tbody>\\n\\t\\t\\t\\t<tr>\\n\\t\\t\\t\\t<td>\\n\\t\\t\\t\\t\\t<span class=\"detail detail7\">전일</span>\\n\\t\\t\\t\\t\\t\\n\\t\\t\\t\\t\\t<em>\\n\\t\\t\\t\\t\\t\\t\\n\\t\\t\\t\\t\\t\\t<span class=\"no1\">1</span><span class=\"no3\">3</span><span class=\"shim\">,</span><span class=\"no6\">6</span><span class=\"no7\">7</span><span class=\"no9\">9</span><span class=\"jum\">.</span><span class=\"no0\">0</span><span class=\"no4\">4</span>\\n\\t\\t\\t\\t\\t</em>\\n\\t\\t\\t\\t</td>\\n\\n\\t\\t\\t\\t<td>\\n\\t\\t\\t\\t\\t\\t\\t\\n\\t\\t\\t\\t\\t\\t\\n\\t\\t\\t\\t\\t\\t\\n\\t\\t\\t\\t\\t\\t\\t\\n\\t\\t\\t\\t\\t\\t\\n\\t\\t\\t\\t\\t\\t\\n\\t\\t\\t\\t\\t\\n\\t\\t\\t\\t\\t<span class=\"detail detail8\">고가</span>\\n\\t\\t\\t\\t\\t<em class=\"no_up\">\\n\\t\\t\\t\\t\\t\\t\\n\\t\\t\\t\\t\\t\\t<span class=\"no1\">1</span><span class=\"no3\">3</span><span class=\"shim\">,</span><span class=\"no7\">7</span><span class=\"no3\">3</span><span class=\"no0\">0</span><span class=\"jum\">.</span><span class=\"no7\">7</span><span class=\"no2\">2</span>\\n\\t\\t\\t\\t\\t</em>\\n\\t\\t\\t\\t</td>\\n\\t\\t\\t\\t<td>\\n\\t\\t\\t\\t\\t<span class=\"detail detail9\">52주 최고</span>\\n\\t\\t\\t\\t\\t<em>\\n\\t\\t\\t\\t\\t\\t\\n\\t\\t\\t\\t\\t\\t<span class=\"no1\">1</span><span class=\"no3\">3</span><span class=\"shim\">,</span><span class=\"no8\">8</span><span class=\"no6\">6</span><span class=\"no4\">4</span><span class=\"jum\">.</span><span class=\"no0\">0</span><span class=\"no6\">6</span>\\n\\n\\t\\t\\t\\t\\t</em>\\n\\t\\t\\t\\t</td>\\n\\t\\t\\t\\t</tr>\\n\\t\\t\\t\\t<tr>\\n\\t\\t\\t\\t<td>\\n\\t\\t\\t\\t\\t\\t\\t\\n\\t\\t\\t\\t\\t\\t\\n\\t\\t\\t\\t\\t\\t\\t\\n\\t\\t\\t\\t\\t\\t\\n\\t\\t\\t\\t\\t\\t\\n\\t\\t\\t\\t\\t\\t\\n\\t\\t\\t\\t\\t\\n\\t\\t\\t\\t\\t<span class=\"detail detail10\">시가</span>\\n\\t\\t\\t\\t\\t<em class=\"no_down\">\\n\\t\\t\\t\\t\\t\\t\\n\\t\\t\\t\\t\\t\\t<span class=\"no1\">1</span><span class=\"no3\">3</span><span class=\"shim\">,</span><span class=\"no6\">6</span><span class=\"no6\">6</span><span class=\"no8\">8</span><span class=\"jum\">.</span><span class=\"no0\">0</span><span class=\"no7\">7</span>\\n\\t\\t\\t\\t\\t</em>\\n\\t\\t\\t\\t</td>\\n\\t\\t\\t\\t<td>\\n\\t\\t\\t\\t\\t\\t\\t\\n\\t\\t\\t\\t\\t\\t\\n\\t\\t\\t\\t\\t\\t\\t\\n\\t\\t\\t\\t\\t\\t\\n\\t\\t\\t\\t\\t\\t\\n\\t\\t\\t\\t\\t\\t\\n\\t\\t\\t\\t\\t\\n\\t\\t\\t\\t\\t<span class=\"detail detail11\">저가</span>\\n\\t\\t\\t\\t\\t<em class=\"no_down\">\\n\\t\\t\\t\\t\\t\\t\\n\\t\\t\\t\\t\\t\\t<span class=\"no1\">1</span><span class=\"no3\">3</span><span class=\"shim\">,</span><span class=\"no6\">6</span><span class=\"no5\">5</span><span class=\"no7\">7</span><span class=\"jum\">.</span><span class=\"no7\">7</span><span class=\"no2\">2</span>\\n\\t\\t\\t\\t\\t</em>\\n\\t\\t\\t\\t</td>\\n\\t\\t\\t\\t<td>\\n\\t\\t\\t\\t\\t<span class=\"detail detail12\">52주 최저</span>\\n\\t\\t\\t\\t\\t<em>\\n\\t\\t\\t\\t\\t\\t\\n\\t\\t\\t\\t\\t\\t<span class=\"no1\">1</span><span class=\"no0\">0</span><span class=\"shim\">,</span><span class=\"no0\">0</span><span class=\"no8\">8</span><span class=\"no8\">8</span><span class=\"jum\">.</span><span class=\"no8\">8</span><span class=\"no3\">3</span>\\n\\t\\t\\t\\t\\t</em>\\n\\t\\t\\t\\t</td>\\n\\t\\t\\t\\t</tr>\\n\\t\\t\\t\\t</tbody>\\n\\t\\t\\t\\t</table>\\n\\t\\t\\t\\t\\n\\t\\t\\t\\t<!-- 미니 일차트 -->\\n\\t\\t\\t\\t<div class=\"aside_section\">\\n\\t\\t\\t\\t\\t\\n\\t\\t\\t\\t\\t<!-- [D] 130x53 -->\\n\\t\\t\\t\\t\\t<img src=\"https://ssl.pstatic.net/imgfinance/chart/mobile/world/mini/NAS@IXIC.png?sidcode=1365666030675\" class=\"img_graph\" title=\"미니 일차트\">\\n\\t\\t\\t\\t\\t\\n\\t\\t\\t\\t</div>\\n\\t\\t\\t\\t<!-- //미니 일차트 -->\\n\\t\\t\\t</div>\\n\\t\\t\\t<!-- 차트 컨트롤 영역 -->\\n\\t\\t\\t<div class=\"chart_control_area\">\\n\\t\\t\\t\\t<dl class=\"line\">\\n\\n\\t\\t\\t\\t<dt>선차트</dt>\\n\\t\\t\\t\\t<dd>\\n\\t\\t\\t\\t\\t<ul>\\n\\t\\t\\t\\t\\t<li class=\"month3\"><a href=\"#\" class=\"on\" onclick=\"showChart(\\'month3\\');\">3개월</a></li>\\n\\t\\t\\t\\t\\t<li class=\"year\"><a href=\"#\" onclick=\"showChart(\\'year\\');\">1년</a></li>\\n\\t\\t\\t\\t\\t<li class=\"year3\"><a href=\"#\" onclick=\"showChart(\\'year3\\');\">3년</a></li>\\n\\t\\t\\t\\t\\t<li class=\"year5\"><a href=\"#\" onclick=\"showChart(\\'year5\\');\">5년</a></li>\\n\\t\\t\\t\\t\\t<li class=\"year10\"><a href=\"#\" onclick=\"showChart(\\'year10\\');\">10년</a></li>\\n\\t\\t\\t\\t\\t</ul>\\n\\t\\t\\t\\t</dd>\\n\\t\\t\\t\\t</dl>\\n\\t\\t\\t\\t<dl class=\"bar\">\\n\\t\\t\\t\\t<dt>봉차트</dt>\\n\\t\\t\\t\\t<dd>\\n\\t\\t\\t\\t\\t<ul>\\n\\t\\t\\t\\t\\t<li class=\"day\"><a href=\"#\" onclick=\"showBarChart(\\'day\\');\">일봉</a></li>\\n\\t\\t\\t\\t\\t<li class=\"week\"><a href=\"#\" onclick=\"showBarChart(\\'week\\');\">주봉</a></li>\\n\\t\\t\\t\\t\\t<li class=\"month\"><a href=\"#\" onclick=\"showBarChart(\\'month\\');\">월봉</a></li>\\n\\t\\t\\t\\t\\t</ul>\\n\\n\\t\\t\\t\\t</dd>\\n\\t\\t\\t\\t</dl>\\n\\t\\t\\t</div>\\n\\t\\t\\t<!-- //차트 컨트롤 영역 -->\\n\\t\\t\\t<!-- 차트 -->\\n\\t\\t\\t<div class=\"flash_area\">\\n\\t\\t\\t\\t<img src=\"https://ssl.pstatic.net/imgfinance/chart/world/month3/NAS@IXIC.png?1688741844631\" width=\"700\" alt=\"차트\" onerror=\"this.src=\\'https://ssl.pstatic.net/imgstock/chart3/world2008/error_700x243.gif\\'\" />\\n\\t\\t\\t</div>\\n\\t\\t\\t<!-- //차트 -->\\n\\n\\t\\t\\t<!-- //현재 시세 -->\\n\\t\\t\\t<!-- 일별,시간별시세 -->\\n\\t\\t\\t<div class=\"section_quot\">\\n\\t\\t\\t\\t<h3 class=\"h_sise_day\">일별시세</h3>\\n\\t\\t\\t\\t<!-- [D] 일별시세 : 마지막 tr 에 .last 추가 -->\\n\\t\\t\\t\\t<table sumary=\"일별시세 리스트\" cellpadding=\"0\" cellspacing=\"0\" class=\"tb_status2 tb_status2_t2\" id=\"dayTable\">\\n\\t\\t\\t\\t<caption>일별시세</caption>\\n\\n\\t\\t\\t\\t<col width=\"87\"><col width=\"124\"><col width=\"118\"><col width=\"124\"><col width=\"124\"><col width=\"124\">\\n\\t\\t\\t\\t<thead>\\n\\t\\t\\t\\t<tr>\\n\\t\\t\\t\\t<th scope=\"col\" class=\"tb_td\"><span class=\"blind\">일자</span></th>\\n\\t\\t\\t\\t<th scope=\"col\" class=\"tb_td2\"><span class=\"blind\">종가</span></th>\\n\\t\\t\\t\\t<th scope=\"col\" class=\"tb_td3\"><span class=\"blind\">전일대비</span></th>\\n\\t\\t\\t\\t<th scope=\"col\" class=\"tb_td4\"><span class=\"blind\">시가</span></th>\\n\\n\\t\\t\\t\\t<th scope=\"col\" class=\"tb_td5\"><span class=\"blind\">고가</span></th>\\n\\t\\t\\t\\t<th scope=\"col\" class=\"tb_td6\"><span class=\"blind\">저가</span></th>\\n\\t\\t\\t\\t</tr>\\n\\t\\t\\t\\t</thead>\\n\\t\\t\\t\\t<tbody>\\n\\t\\t\\t\\t<!-- 종가데이터가 안들어왔을시 처리 -->\\n\\t\\t\\t\\t\\n\\t\\t\\t\\t\\n\\t\\t\\t\\t\\t\\t\\t\\n\\t\\t\\t\\t\\t\\t\\n\\t\\t\\t\\t\\t\\t\\n\\t\\t\\t\\t\\t\\t\\t\\n\\t\\t\\t\\t\\t\\t\\n\\t\\t\\t\\t\\t\\t\\n\\t\\t\\t\\t\\t\\n\\t\\t\\t\\t\\t<tr class=\"point_up\">\\n\\t\\n\\t\\t\\t\\t\\t<td class=\"tb_td\">2023.07.07</td>\\n\\t\\t\\t\\t\\t<td class=\"tb_td2\"><span>13,681.61</span></td>\\n\\t\\t\\t\\t\\t<td class=\"tb_td3\"><span class=\"point_status\">2.57</span></td>\\n\\t\\t\\t\\t\\t<td class=\"tb_td4\"><span>13,668.07</span></td>\\n\\t\\t\\t\\t\\t<td class=\"tb_td5\"><span>13,730.72</span></td>\\n\\t\\t\\t\\t\\t<td class=\"tb_td6\"><span>13,657.72</span></td>\\n\\t\\t\\t\\t\\n\\t\\t\\t\\t\\n\\t\\t\\t\\t\\t\\t\\n\\t\\t\\t\\t\\t\\n\\t\\t\\t\\t\\t\\t\\n\\t\\t\\t\\t\\t\\n\\t\\t\\t\\t\\t\\n\\t\\t\\t\\t\\t\\n\\t\\t\\t\\t\\n\\t\\t\\t\\t<tr class=\"point_dn \">\\n\\n\\t\\t\\t\\t<td class=\"tb_td\">2023.07.06</td>\\n\\t\\t\\t\\t<td class=\"tb_td2\"><span>13,679.04</span></td>\\n\\t\\t\\t\\t<td class=\"tb_td3\"><span class=\"point_status\">112.61</span></td>\\n\\t\\t\\t\\t<td class=\"tb_td4\"><span>13,653.17</span></td>\\n\\t\\t\\t\\t<td class=\"tb_td5\"><span>13,689.52</span></td>\\n\\t\\t\\t\\t<td class=\"tb_td6\"><span>13,567.26</span></td>\\n\\t\\t\\t\\t</tr>\\n\\t\\t\\t\\t\\n\\t\\t\\t\\t\\t\\t\\n\\t\\t\\t\\t\\t\\n\\t\\t\\t\\t\\t\\t\\n\\t\\t\\t\\t\\t\\n\\t\\t\\t\\t\\t\\n\\t\\t\\t\\t\\t\\n\\t\\t\\t\\t\\n\\t\\t\\t\\t<tr class=\"point_dn \">\\n\\n\\t\\t\\t\\t<td class=\"tb_td\">2023.07.05</td>\\n\\t\\t\\t\\t<td class=\"tb_td2\"><span>13,791.65</span></td>\\n\\t\\t\\t\\t<td class=\"tb_td3\"><span class=\"point_status\">25.12</span></td>\\n\\t\\t\\t\\t<td class=\"tb_td4\"><span>13,772.10</span></td>\\n\\t\\t\\t\\t<td class=\"tb_td5\"><span>13,844.50</span></td>\\n\\t\\t\\t\\t<td class=\"tb_td6\"><span>13,764.25</span></td>\\n\\t\\t\\t\\t</tr>\\n\\t\\t\\t\\t\\n\\t\\t\\t\\t\\t\\t\\n\\t\\t\\t\\t\\t\\n\\t\\t\\t\\t\\t\\n\\t\\t\\t\\t\\t\\t\\n\\t\\t\\t\\t\\t\\n\\t\\t\\t\\t\\t\\n\\t\\t\\t\\t\\n\\t\\t\\t\\t<tr class=\"point_up \">\\n\\n\\t\\t\\t\\t<td class=\"tb_td\">2023.07.03</td>\\n\\t\\t\\t\\t<td class=\"tb_td2\"><span>13,816.77</span></td>\\n\\t\\t\\t\\t<td class=\"tb_td3\"><span class=\"point_status\">28.85</span></td>\\n\\t\\t\\t\\t<td class=\"tb_td4\"><span>13,798.70</span></td>\\n\\t\\t\\t\\t<td class=\"tb_td5\"><span>13,839.09</span></td>\\n\\t\\t\\t\\t<td class=\"tb_td6\"><span>13,773.41</span></td>\\n\\t\\t\\t\\t</tr>\\n\\t\\t\\t\\t\\n\\t\\t\\t\\t\\t\\t\\n\\t\\t\\t\\t\\t\\n\\t\\t\\t\\t\\t\\n\\t\\t\\t\\t\\t\\t\\n\\t\\t\\t\\t\\t\\n\\t\\t\\t\\t\\t\\n\\t\\t\\t\\t\\n\\t\\t\\t\\t<tr class=\"point_up \">\\n\\n\\t\\t\\t\\t<td class=\"tb_td\">2023.06.30</td>\\n\\t\\t\\t\\t<td class=\"tb_td2\"><span>13,787.92</span></td>\\n\\t\\t\\t\\t<td class=\"tb_td3\"><span class=\"point_status\">196.59</span></td>\\n\\t\\t\\t\\t<td class=\"tb_td4\"><span>13,719.98</span></td>\\n\\t\\t\\t\\t<td class=\"tb_td5\"><span>13,816.68</span></td>\\n\\t\\t\\t\\t<td class=\"tb_td6\"><span>13,716.16</span></td>\\n\\t\\t\\t\\t</tr>\\n\\t\\t\\t\\t\\n\\t\\t\\t\\t\\t\\t\\n\\t\\t\\t\\t\\t\\n\\t\\t\\t\\t\\t\\t\\n\\t\\t\\t\\t\\t\\n\\t\\t\\t\\t\\t\\n\\t\\t\\t\\t\\t\\n\\t\\t\\t\\t\\n\\t\\t\\t\\t<tr class=\"point_dn \">\\n\\n\\t\\t\\t\\t<td class=\"tb_td\">2023.06.29</td>\\n\\t\\t\\t\\t<td class=\"tb_td2\"><span>13,591.33</span></td>\\n\\t\\t\\t\\t<td class=\"tb_td3\"><span class=\"point_status\">0.42</span></td>\\n\\t\\t\\t\\t<td class=\"tb_td4\"><span>13,592.36</span></td>\\n\\t\\t\\t\\t<td class=\"tb_td5\"><span>13,618.53</span></td>\\n\\t\\t\\t\\t<td class=\"tb_td6\"><span>13,540.26</span></td>\\n\\t\\t\\t\\t</tr>\\n\\t\\t\\t\\t\\n\\t\\t\\t\\t\\t\\t\\n\\t\\t\\t\\t\\t\\n\\t\\t\\t\\t\\t\\n\\t\\t\\t\\t\\t\\t\\n\\t\\t\\t\\t\\t\\n\\t\\t\\t\\t\\t\\n\\t\\t\\t\\t\\n\\t\\t\\t\\t<tr class=\"point_up \">\\n\\n\\t\\t\\t\\t<td class=\"tb_td\">2023.06.28</td>\\n\\t\\t\\t\\t<td class=\"tb_td2\"><span>13,591.75</span></td>\\n\\t\\t\\t\\t<td class=\"tb_td3\"><span class=\"point_status\">36.08</span></td>\\n\\t\\t\\t\\t<td class=\"tb_td4\"><span>13,506.02</span></td>\\n\\t\\t\\t\\t<td class=\"tb_td5\"><span>13,654.14</span></td>\\n\\t\\t\\t\\t<td class=\"tb_td6\"><span>13,495.73</span></td>\\n\\t\\t\\t\\t</tr>\\n\\t\\t\\t\\t\\n\\t\\t\\t\\t\\t\\t\\n\\t\\t\\t\\t\\t\\n\\t\\t\\t\\t\\t\\n\\t\\t\\t\\t\\t\\t\\n\\t\\t\\t\\t\\t\\n\\t\\t\\t\\t\\t\\n\\t\\t\\t\\t\\n\\t\\t\\t\\t<tr class=\"point_up \">\\n\\n\\t\\t\\t\\t<td class=\"tb_td\">2023.06.27</td>\\n\\t\\t\\t\\t<td class=\"tb_td2\"><span>13,555.67</span></td>\\n\\t\\t\\t\\t<td class=\"tb_td3\"><span class=\"point_status\">219.89</span></td>\\n\\t\\t\\t\\t<td class=\"tb_td4\"><span>13,389.25</span></td>\\n\\t\\t\\t\\t<td class=\"tb_td5\"><span>13,578.80</span></td>\\n\\t\\t\\t\\t<td class=\"tb_td6\"><span>13,366.97</span></td>\\n\\t\\t\\t\\t</tr>\\n\\t\\t\\t\\t\\n\\t\\t\\t\\t\\t\\t\\n\\t\\t\\t\\t\\t\\n\\t\\t\\t\\t\\t\\t\\n\\t\\t\\t\\t\\t\\n\\t\\t\\t\\t\\t\\n\\t\\t\\t\\t\\t\\n\\t\\t\\t\\t\\n\\t\\t\\t\\t<tr class=\"point_dn \">\\n\\n\\t\\t\\t\\t<td class=\"tb_td\">2023.06.26</td>\\n\\t\\t\\t\\t<td class=\"tb_td2\"><span>13,335.78</span></td>\\n\\t\\t\\t\\t<td class=\"tb_td3\"><span class=\"point_status\">156.74</span></td>\\n\\t\\t\\t\\t<td class=\"tb_td4\"><span>13,468.75</span></td>\\n\\t\\t\\t\\t<td class=\"tb_td5\"><span>13,573.57</span></td>\\n\\t\\t\\t\\t<td class=\"tb_td6\"><span>13,334.42</span></td>\\n\\t\\t\\t\\t</tr>\\n\\t\\t\\t\\t\\n\\t\\t\\t\\t\\t\\t\\n\\t\\t\\t\\t\\t\\n\\t\\t\\t\\t\\t\\t\\n\\t\\t\\t\\t\\t\\n\\t\\t\\t\\t\\t\\n\\t\\t\\t\\t\\t\\n\\t\\t\\t\\t\\n\\t\\t\\t\\t<tr class=\"point_dn last\">\\n\\n\\t\\t\\t\\t<td class=\"tb_td\">2023.06.23</td>\\n\\t\\t\\t\\t<td class=\"tb_td2\"><span>13,492.52</span></td>\\n\\t\\t\\t\\t<td class=\"tb_td3\"><span class=\"point_status\">138.09</span></td>\\n\\t\\t\\t\\t<td class=\"tb_td4\"><span>13,484.10</span></td>\\n\\t\\t\\t\\t<td class=\"tb_td5\"><span>13,572.19</span></td>\\n\\t\\t\\t\\t<td class=\"tb_td6\"><span>13,442.65</span></td>\\n\\t\\t\\t\\t</tr>\\n\\t\\t\\t\\t\\n\\n\\t\\t\\t\\t</tbody>\\n\\t\\t\\t\\t</table>\\n\\t\\t\\t\\t<div class=\"paging\" id=\"dayPaging\">\\n\\t\\t\\t\\t\\t\\n\\t\\t\\t\\t\\t\\t<a href=\"#\" id=\"dayLink1\" class=\"on\" onClick=\"moveDayPaging(1, false, event); return false\">1</a>\\n\\t\\t\\t\\t\\t\\n\\t\\t\\t\\t\\t\\t<a href=\"#\" id=\"dayLink2\"  onClick=\"moveDayPaging(2, false, event); return false\">2</a>\\n\\t\\t\\t\\t\\t\\n\\t\\t\\t\\t\\t\\t<a href=\"#\" id=\"dayLink3\"  onClick=\"moveDayPaging(3, false, event); return false\">3</a>\\n\\t\\t\\t\\t\\t\\n\\t\\t\\t\\t\\t\\t<a href=\"#\" id=\"dayLink4\"  onClick=\"moveDayPaging(4, false, event); return false\">4</a>\\n\\t\\t\\t\\t\\t\\n\\t\\t\\t\\t\\t\\t<a href=\"#\" id=\"dayLink5\"  onClick=\"moveDayPaging(5, false, event); return false\">5</a>\\n\\t\\t\\t\\t\\t\\n\\t\\t\\t\\t\\t\\t<a href=\"#\" id=\"dayLink6\"  onClick=\"moveDayPaging(6, false, event); return false\">6</a>\\n\\t\\t\\t\\t\\t\\n\\t\\t\\t\\t\\t\\t<a href=\"#\" id=\"dayLink7\"  onClick=\"moveDayPaging(7, false, event); return false\">7</a>\\n\\t\\t\\t\\t\\t\\n\\t\\t\\t\\t\\t\\t<a href=\"#\" id=\"dayLink8\"  onClick=\"moveDayPaging(8, false, event); return false\">8</a>\\n\\t\\t\\t\\t\\t\\n\\t\\t\\t\\t\\t\\t<a href=\"#\" id=\"dayLink9\"  onClick=\"moveDayPaging(9, false, event); return false\">9</a>\\n\\t\\t\\t\\t\\t\\n\\t\\t\\t\\t\\t\\t<a href=\"#\" id=\"dayLink10\"  onClick=\"moveDayPaging(10, false, event); return false\">10</a>\\n\\t\\t\\t\\t\\t\\n\\t\\t\\t\\t\\t\\n\\t\\t\\t\\t\\t <a href=\"#\" class=\"next\" onClick=\"moveDayPaging(11, true, event); return false\">다음 <img src=\"https://ssl.pstatic.net/static/nfinance/bu_pgarR.gif\" width=\"3\" height=\"5\" alt=\"다음\"></a>\\n\\t\\t\\t\\t\\t\\n\\t\\t\\t\\t</div>\\n\\t\\t\\t</div>\\n\\t\\t\\t<!-- //일별,시간별시세 -->\\n\\t\\t</div>\\n\\t\\t<!-- [D] 미니 일차트가 있을 경우 아래와 같이 style 추가 -->\\n\\t\\t<div id=\"world_end\" class=\"aside\" style=\"padding-top:99px\">\\n\\t\\t\\t<div class=\"aside_world_end\">\\n\\t\\t\\t\\t<h3 class=\"h_info_relative\"><span>관련정보</span></h3>\\n\\t\\t\\t\\t<dl class=\"info_aside\">\\n\\t\\t\\t\\t\\n\\t\\t\\t\\t\\n\\t\\t\\t\\t<!-- 종목의 경우에만 편입지수를 보여준다. -->\\n\\t\\t\\t\\t\\n\\t\\n\\t\\t\\t\\t\\n\\t\\t\\t\\t<dt class=\"dt5\"><span class=\"blind\">거래소</span></dt>\\n\\t\\t\\t\\t<dd><span>NASDAQ Stock Market</span></dd>\\n\\t\\t\\t\\t<dt class=\"dt7\"><span class=\"blind\">기준통화</span></dt>\\n\\t\\t\\t\\t<dd><span>USD</span></dd>\\n\\t\\t\\t\\t<dt class=\"dt6\"><span class=\"blind\">거래시간(한국시간 기준)</span></dt>\\n\\t\\t\\t\\t<dd><span>23:30~06:00<br>서머타임 22:30~05:00</span></dd>\\n\\t\\t\\t\\t\\n\\t\\t\\t\\t\\n\\t\\t\\t\\t \\n\\t\\t\\t\\t<dt class=\"dt8\"><span class=\"blind\">지수 설명</span></dt>\\n\\t\\t\\t\\t<dd class=\"dd3\">하이테크·중소기업의 주식을 장외에서 거래하는 나스닥 시장의 종합지수<br><a href=\"http://terms.naver.com/entry.nhn?docId=1192561&cid=200000000&categoryId=200000418\" target=\"blank\">\\n\\t\\t\\t\\t네이버 지식백과\\n\\t\\t\\t\\t</a></dd>\\n\\t\\t\\t\\t\\n\\t\\t\\t\\t</dl>\\n\\t\\t\\t</div>\\n\\t\\t\\t\\n\\t\\t\\t<script>\\nfunction fnShowOn(onId){\\n\\tdocument.getElementById(onId).style.display=\"block\";\\n}\\nfunction fnShowOff(offId){\\n\\tdocument.getElementById(offId).style.display=\"none\";\\n}\\n</script>\\n\\n\\t\\n\\t\\n\\n\\n\\t\\n\\n\\t\\n\\t<!-- Type3 [해외증시 종목페이지] -->\\n\\t\\t<!-- 최근조회종목 -->\\n\\t\\t<script type=\"text/javascript\" src=\"https://ssl.pstatic.net/imgstock/static.pc/20230704202526/js/util.js\"></script>\\n<script type=\"text/javascript\" src=\"https://ssl.pstatic.net/imgstock/static.pc/20230704202526/js/myStock.js\"></script>\\n\\n\\t\\n\\t\\n\\t\\t\\n\\t\\n\\n\\n<div class=\"section_aside\">\\n\\t<div class=\"tab_search search3\">\\n\\t\\t<a href=\"#\" onclick=\"clickcr(this, \\'rch.1\\', \\'\\', \\'\\', event); return false;\"><span>최근조회</span></a>\\n\\t\\t<a href=\"#\" onclick=\"clickcr(this, \\'rch.3\\', \\'\\', \\'\\', event); return false;\"><span>MY STOCK</span></a>\\n\\t</div>\\n\\t<table class=\"tbl_search\" summary=\"최근조회 리스트\">\\n\\t\\t<caption>최근조회</caption>\\n\\t\\t<colgroup>\\n\\t\\t\\t<col width=\"65\">\\n\\t\\t\\t<col width=\"55\">\\n\\t\\t\\t<col width=\"80\">\\n\\t\\t</colgroup>\\n\\t\\t<thead>\\n\\t\\t<tr>\\n\\t\\t\\t<th>업체명</th>\\n\\t\\t\\t<th>거래량</th>\\n\\t\\t\\t<th>전일비</th>\\n\\t\\t</tr>\\n\\t\\t</thead>\\n\\t\\t<tbody>\\n\\t\\t</tbody>\\n\\t</table>\\n\\t<div class=\"more_info\">\\n\\t\\t<span>\\n\\t\\t\\t<a href=\"#\" onclick=\"clickcr(this, \\'rch.5\\', \\'\\', \\'\\', event); return false;\"><img src=\"https://ssl.pstatic.net/static/nfinance/btn_prev2.gif\" width=\"17\" height=\"15\" alt=\"이전\"></a>\\n\\t\\t\\t<a href=\"#\" onclick=\"clickcr(this, \\'rch.6\\', \\'\\', \\'\\', event); return false;\"><img src=\"https://ssl.pstatic.net/static/nfinance/btn_next2.gif\" width=\"17\" height=\"15\" alt=\"다음\"></a>\\n\\t\\t</span>\\n\\t\\t<a href=\"#\" onclick=\"javascript:openMyitemNew(\\'https://finance.naver.com\\'); clickcr(this, \\'rch.7\\', \\'\\', \\'\\', event);\" class=\"btn_more _mystock_more_info\"><img src=\"https://ssl.pstatic.net/static/nfinance/btn_more5.gif\" width=\"33\" height=\"10\" alt=\"더보기\"></a>\\n\\t</div>\\n</div>\\n\\n<script type=\"text/javascript\" language=\"javascript\">\\n\\tfunction initMyStock() {\\n\\t\\tgetStockRightMenuData(\\'000000\\', \\'recent\\', 1, \\'https://finance.naver.com\\', \\'https://ssl.pstatic.net/static/nfinance\\');\\n\\n\\t\\tvar tabSearchArea = jindo.$$.getSingle(\\'.tab_search\\');\\n\\t\\tvar moreInfoArea = jindo.$Element(jindo.$$.getSingle(\\'.tbl_search\\')).next().$value();\\n\\n\\t\\tjindo.$Fn(function(e) {toggleTabSearch(e); getStockRightMenuData(\\'000000\\', \\'recent\\', 1, \\'https://finance.naver.com\\', \\'https://ssl.pstatic.net/static/nfinance\\'); }).attach(jindo.$$.getSingle(\\'a\\' ,tabSearchArea), \\'click\\');\\n\\t\\tjindo.$Fn(function(e) {toggleTabSearch(e); getStockRightMenuData(\\'000000\\', \\'mystock\\', 1, \\'https://finance.naver.com\\', \\'https://ssl.pstatic.net/static/nfinance\\'); }).attach(jindo.$$(\\'a\\' ,tabSearchArea)[1], \\'click\\');\\n\\t\\tjindo.$Fn(function(e) {updatePageForPaging (currentType, \\'up\\', \\'https://finance.naver.com\\', \\'https://ssl.pstatic.net/static/nfinance\\'); }).attach(jindo.$$.getSingle(\\'a\\', moreInfoArea), \\'click\\');\\n\\t\\tjindo.$Fn(function(e) {updatePageForPaging (currentType, \\'down\\', \\'https://finance.naver.com\\', \\'https://ssl.pstatic.net/static/nfinance\\'); }).attach(jindo.$$(\\'a\\', moreInfoArea)[1], \\'click\\');\\n\\t}\\n\\n\\tfunction toggleTabSearch(e){\\n\\t\\tvar currentElement = jindo.$Element(jindo.$Event(e).currentElement);\\n\\t\\tvar parentElement = currentElement.parent();\\n\\t\\tvar id = currentElement.className();\\n\\t\\tvar order = parentElement.indexOf(currentElement) + 3;\\n\\t\\tparentElement.className(\"tab_search search\"+ order);\\n\\n\\t\\t// 페이징을 위해서 order값에 따라 최근조회인지 mystock인지 type을 저장\\n\\t\\tif (order == 1) {\\n\\t\\t\\tcurrentType = \"recent\";\\n\\t\\t} else {\\n\\t\\t\\tcurrentType = \"mystock\";\\n\\t\\t}\\n\\t}\\n\\n\\tjindo.$Fn(initMyStock).attach(document, \"domready\");\\n\\n\\tfunction openMyitemNew(stockHost) {\\n\\t\\tvar selectedElement = jindo.$Element(jindo.$$.getSingle(\".tab_search\"));\\n\\t\\tif (selectedElement != null) {\\n\\t\\t\\tif (selectedElement.hasClass(\"search1\")) {\\n\\t\\t\\t\\tdocument.location.href = stockHost + \\'/mystock/recentSearchItemList.naver\\';\\n\\t\\t\\t} else {\\n\\t\\t\\t\\tdocument.location.href = stockHost + \\'/mystock/itemList.naver\\';\\n\\t\\t\\t}\\n\\t\\t}\\n\\t}\\n\\t//initMyStock();\\n</script>\\n\\n\\t\\n\\n\\t\\n\\n\\t\\n\\n\\t\\n\\n\\t\\n\\t\\n\\n\\n\\t\\t</div>\\n\\t</div>\\n<script language=\"javascript\" type=\"text/JavaScript\" src=\"/js/worldIndex.js\"></script>\\n<script language=\"javascript\" type=\"text/JavaScript\">\\nvar sSymbol = \"NAS@IXIC\";\\nvar sFdtc = \"0\";\\nvar nMaxTimePage = 0;\\nvar nMaxDayPage = 542;\\nvar nMaxIncludePage = 0;\\nvar sIncludeItemMenuId = \"\";\\n\\nvar nCurTimePage = 1;\\nvar nCurDayPage = 1;\\nvar nCurIncludePage = 1;\\nvar sCurIncludeDirection = \"up\";\\nvar sCurIncludeSort = \"knam\";\\nvar sDayHtmlFormat = \"<td class=\\\\\"tb_td\\\\\">%s</td>\"\\n\\t\\t+ \"<td class=\\\\\"tb_td2\\\\\"><span>%s</span></td>\"\\n\\t\\t+ \"<td class=\\\\\"tb_td3\\\\\"><span class=\\\\\"point_status\\\\\">%s</span></td>\"\\n\\t\\t+ \"<td class=\\\\\"tb_td4\\\\\"><span>%s</span></td>\"\\n\\t\\t+ \"<td class=\\\\\"tb_td5\\\\\"><span>%s</span></td>\"\\n\\t\\t+ \"<td class=\\\\\"tb_td6\\\\\"><span>%s</span></td>\";\\nvar sDefaultDayHtml = null;\\nvar sDefaultDayPointClass = null;\\n\\nfunction initWorld() {\\n\\t\\n}\\n\\nfunction initsDefaultDayHtml() {\\n\\tvar nDiff = 2.57;\\n\\tvar sDiff = formatNumberForFinance(\"2.57\", false);\\n\\tvar sXymd = \"20230707\".substr(0, 4) + \".\" + \"20230707\".substr(4, 2) + \".\" + \"20230707\".substr(6, 2);\\n\\tvar sClos = formatNumberForFinance(\"13681.61\", false);\\n\\tvar sOpen = formatNumberForFinance(\"13668.07\", false);\\n\\tvar sHigh = formatNumberForFinance(\"13730.72\", false);\\n\\tvar sLow = formatNumberForFinance(\"13657.72\", false);\\n\\t\\n\\tsDefaultDayPointClass = \"\";\\n\\t\\n\\tif (nDiff > 0) {\\n\\t\\tsDefaultDayPointClass = \"point_up\";\\n\\t} else if (nDiff < 0) {\\n\\t\\tsDiff = sDiff.replace(\"-\", \"\");\\n\\t\\tsDefaultDayPointClass = \"point_dn\";\\n\\t}\\n\\t\\n\\tsDefaultDayHtml = jindo.$S(sDayHtmlFormat).format(sXymd, sClos, sDiff, sOpen, sHigh, sLow);\\n}\\n\\njindo.$Fn(initWorld).attach(document, \"domready\");\\n\\n// 일별시세 페이징 이동\\nfunction moveDayPaging(nPage, bRenewPaging, e) {\\n\\tjindo.$Event(e).stop();\\n\\t\\n\\tif (sDefaultDayHtml == null) {\\n\\t\\tinitsDefaultDayHtml();\\n\\t}\\n\\n\\t// 현재페이지와 다른 링크를 눌렀을 경우에만 Ajax로 데이터를 받아온다.\\n\\tif (nCurDayPage == nPage) {\\n\\t\\treturn ;\\n\\t}\\n\\tvar url = \"/world/worldDayListJson.naver?symbol=\" + sSymbol + \"&fdtc=\" + sFdtc + \"&page=\" + nPage;\\n\\t//var url = \"/world/worldIncludeListJson.naver?includeItemMenuId=USA_ITEM_1&direction=up&ordering=knam&page=2\";\\n\\tjindo.$Ajax(url, {\\n\\t\\tonload : function(res) {\\n\\t\\t\\tvar json = res.json();\\n\\t\\t\\tvar elTable = jindo.$(\"dayTable\");\\n\\t\\t\\t\\t\\n\\t\\t\\t// tr 전부 삭제\\n\\t\\t\\tjindo.$A(jindo.$$(\"tr\", elTable)).forEach(function (v, i) {\\n\\t\\t\\t\\tif (i > 0) {\\n\\t\\t\\t\\t\\tjindo.$Element(elTable).remove(v);\\n\\t\\t\\t\\t}\\n\\t\\t\\t});\\n\\t\\t\\t\\n\\t\\t\\tjindo.$A(json).reverse().forEach(function(v, i) {\\n\\t\\t\\t\\tvar elTr = jindo.$$.getSingle(\"tbody\", elTable).insertRow(0);\\n\\t\\t\\t\\tvar nDiff = v.diff + 0;\\n\\t\\t\\t\\tvar sDiff = formatNumberForFinance(v.diff, false);\\n\\t\\t\\t\\tvar sXymd = v.xymd.substr(0, 4) + \".\" + v.xymd.substr(4, 2) + \".\" + v.xymd.substr(6, 2);\\n\\t\\t\\t\\tvar sClos = formatNumberForFinance(v.clos, false);\\n\\t\\t\\t\\tvar sOpen = formatNumberForFinance(v.open, false);\\n\\t\\t\\t\\tvar sHigh = formatNumberForFinance(v.high, false);\\n\\t\\t\\t\\tvar sLow = formatNumberForFinance(v.low, false);\\n\\t\\t\\t\\t\\n\\t\\t\\t\\tvar sPointClass = \"\";\\n\\t\\t\\t\\t\\n\\t\\t\\t\\tif (nDiff > 0) {\\n\\t\\t\\t\\t\\tsPointClass = \"point_up\";\\n\\t\\t\\t\\t} else if (nDiff < 0) {\\n\\t\\t\\t\\t\\tsDiff = sDiff.replace(\"-\", \"\");\\n\\t\\t\\t\\t\\tsPointClass = \"point_dn\";\\n\\t\\t\\t\\t}\\n\\n\\t\\t\\t\\tvar html = jindo.$S(sDayHtmlFormat).format(sXymd, sClos, sDiff, sOpen, sHigh, sLow);\\n\\t\\t\\t\\t\\n\\t\\t\\t\\tjindo.$Element(elTr).html(html);\\n\\t\\t\\t\\t\\n\\t\\t\\t\\tif (sPointClass.length > 0) {\\n\\t\\t\\t\\t\\tjindo.$Element(elTr).addClass(sPointClass);\\n\\t\\t\\t\\t}\\n\\t\\t\\t\\t\\n\\t\\t\\t\\tif (i == 0) {\\n\\t\\t\\t\\t\\tjindo.$Element(elTr).addClass(\"last\");\\n\\t\\t\\t\\t}\\n\\t\\t\\t});\\n\\n\\t\\t\\tif (nPage == 1 && jindo.$A(json).length() < 10) {\\n\\t\\t\\t\\tvar elTr = jindo.$$.getSingle(\"tbody\", elTable).insertRow(0);\\n\\t\\t\\t\\tjindo.$Element(elTr).html(sDefaultDayHtml);\\n\\t\\t\\t\\t\\n\\t\\t\\t\\tif (sDefaultDayPointClass.length > 0) {\\n\\t\\t\\t\\t\\tjindo.$Element(elTr).addClass(sDefaultDayPointClass);\\n\\t\\t\\t\\t}\\n\\t\\t\\t}\\n\\t\\t}\\n\\t}).request();\\n\\t\\n\\t// 새로 페이징을 제작\\n\\tif (bRenewPaging) {\\n\\t\\tmakePaging(\"dayPaging\", \"dayLink\", moveDayPaging, nPage, nMaxDayPage);\\n\\t\\tnCurDayPage = nPage;\\n\\t} else {\\n\\t\\tjindo.$Element(\"dayLink\" + nCurDayPage).removeClass(\"on\");\\n\\t\\tjindo.$Element(\"dayLink\" + nPage).addClass(\"on\");\\n\\t\\t\\n\\t\\tnCurDayPage = nPage;\\n\\t}\\n}\\n\\n// 시간별 시세 페이징 이동\\nfunction moveTimePaging(nPage, bRenewPaging, e) {\\n\\tjindo.$Event(e).stop();\\n\\t\\n\\t// 현재페이지와 다른 링크를 눌렀을 경우에만 Ajax로 데이터를 받아온다.\\n\\tif (nCurTimePage == nPage) {\\n\\t\\treturn ;\\n\\t}\\n\\tvar url = \"/world/worldTimeListJson.naver?symbol=\" + sSymbol + \"&fdtc=\" + sFdtc + \"&page=\" + nPage;\\n\\t//var url = \"/world/worldIncludeListJson.naver?includeItemMenuId=USA_ITEM_1&direction=up&ordering=knam&page=2\";\\n\\tjindo.$Ajax(url, {\\n\\t\\tonload : function(res) {\\n\\t\\t\\tvar json = res.json();\\n\\t\\t\\tvar elTable = jindo.$(\"timeTable\");\\n\\t\\t\\tvar sHtmlFormat = \"<td class=\\\\\"tb_td11\\\\\">%s</td><td class=\\\\\"tb_td12\\\\\"><span>%s</span></td><td class=\\\\\"tb_td13\\\\\"><span class=\\\\\"point_status\\\\\">%s</span></td>\"\\n\\t\\t\\t\\t+ \"<td class=\\\\\"tb_td14\\\\\"><span class=\\\\\"point_status\\\\\">%s%</span></td><td class=\\\\\"tb_td15\\\\\"><span>%s</span></td>\"\\n\\t\\t\\t\\n\\t\\t\\t// tr 전부 삭제\\n\\t\\t\\tjindo.$A(jindo.$$(\"tr\", elTable)).forEach(function (v, i) {\\n\\t\\t\\t\\tif (i > 0) {\\n\\t\\t\\t\\t\\tjindo.$Element(elTable).remove(v);\\n\\t\\t\\t\\t}\\n\\t\\t\\t});\\n\\t\\t\\t\\t\\n\\t\\t\\tjindo.$A(json).reverse().forEach(function(v, i) {\\n\\t\\t\\t\\tvar elTr = jindo.$$.getSingle(\"tbody\", elTable).insertRow(0);\\n\\t\\t\\t\\tvar nDiff = v.diff + 0;\\n\\t\\t\\t\\tvar sDiff = formatNumberForFinance(v.diff, false);\\n\\t\\t\\t\\tvar sXhms = v.xhms.substr(0, 2) + \":\" + v.xhms.substr(2, 2);\\n\\t\\t\\t\\tvar sLast = formatNumberForFinance(v.last, false);\\n\\t\\t\\t\\tvar sRate = formatNumberForFinance(v.rate, true);\\n\\t\\t\\t\\tvar sGvol = formatNumberForFinance(v.gvol, false);\\n\\t\\t\\t\\tvar sPointClass = \"\";\\n\\t\\t\\t\\t\\n\\t\\t\\t\\tsGvol = sGvol.substr(0, sGvol.length - 3);\\n\\t\\t\\t\\t\\n\\t\\t\\t\\tif (nDiff > 0) {\\n\\t\\t\\t\\t\\tsPointClass = \"point_up\";\\n\\t\\t\\t\\t} else if (nDiff < 0) {\\n\\t\\t\\t\\t\\tsPointClass = \"point_dn\";\\n\\t\\t\\t\\t\\tsDiff = sDiff.replace(\"-\", \"\");\\n\\t\\t\\t\\t}\\n\\n\\t\\t\\t\\tvar html = jindo.$S(sHtmlFormat).format(sXhms, sLast, sDiff, sRate, sGvol);\\n\\t\\t\\t\\t\\n\\t\\t\\t\\tjindo.$Element(elTr).html(html);\\n\\t\\t\\t\\t\\n\\t\\t\\t\\tif (sPointClass.length > 0) {\\n\\t\\t\\t\\t\\tjindo.$Element(elTr).addClass(sPointClass);\\n\\t\\t\\t\\t}\\n\\t\\t\\t\\t\\n\\t\\t\\t\\tif (i == 0) {\\n\\t\\t\\t\\t\\tjindo.$Element(elTr).addClass(\"last\");\\n\\t\\t\\t\\t}\\n\\t\\t\\t})\\n\\t\\t}\\n\\t}).request();\\n\\t\\n\\t// 새로 페이징을 제작\\n\\tif (bRenewPaging) {\\n\\t\\tmakePaging(\"timePaging\", \"timeLink\", moveTimePaging, nPage, nMaxTimePage);\\n\\t\\tnCurTimePage = nPage;\\n\\t} else {\\n\\t\\tjindo.$Element(\"timeLink\" + nCurTimePage).removeClass(\"on\");\\n\\t\\tjindo.$Element(\"timeLink\" + nPage).addClass(\"on\");\\n\\t\\t\\n\\t\\tnCurTimePage = nPage;\\n\\t}\\n}\\n\\t\\nfunction sortInclude(sOrdering, sDirection, sBtnId, e) {\\n\\tsCurIncludeDirection = sDirection;\\n\\tsCurIncludeSort = sOrdering;\\n\\tvar elSelectedBtn = jindo.$(sBtnId);\\n\\t\\n\\tjindo.$A(jindo.$$(\"table th button\")).forEach(function (v, i) {\\n\\t\\tvar welCurBtn = jindo.$Element(v);\\n\\t\\t\\n\\t\\tif (welCurBtn.attr(\"id\").indexOf(sBtnId) != -1) {\\n\\t\\t\\twelCurBtn.removeClass(\"asc\");\\n\\t\\t\\twelCurBtn.removeClass(\"desc\");\\n\\t\\t} else {\\n\\t\\t\\twelCurBtn.removeClass(\"asc\");\\n\\t\\t\\twelCurBtn.removeClass(\"desc\");\\n\\t\\t}\\n\\t});\\n\\t\\n\\tvar sToggledDirection;\\n\\tif (sDirection.indexOf(\"up\") != -1) {\\n\\t\\tjindo.$Element(elSelectedBtn).addClass(\"asc\");\\n\\t\\tsToggledDirection = \"down\";\\n\\t} else {\\n\\t\\tjindo.$Element(elSelectedBtn).addClass(\"desc\");\\n\\t\\tsToggledDirection = \"up\";\\n\\t}\\n\\t\\n\\tjindo.$Fn.freeElement(elSelectedBtn);\\n\\tjindo.$Fn(jindo.$Fn(sortInclude, this).bind(sOrdering, sToggledDirection, sBtnId)).attach(elSelectedBtn, \"click\");\\n\\t\\n\\tif (nCurIncludePage < 11) {\\n\\t\\tif (nCurIncludePage == 1) {\\n\\t\\t\\tnCurIncludePage = 2;\\n\\t\\t}\\n\\t\\tmoveIncludePaging(1, false, e);\\n\\t} else {\\n\\t\\tmoveIncludePaging(1, true, e);\\n\\t}\\n\\t\\n}\\n\\n// 편입지수 페이징 이동\\nfunction moveIncludePaging(nPage, bRenewPaging, e) {\\n\\tjindo.$Event(e).stop();\\n\\t\\n\\t// 현재페이지와 다른 링크를 눌렀을 경우에만 Ajax로 데이터를 받아온다.\\n\\tif (nCurIncludePage == nPage) {\\n\\t\\treturn ;\\n\\t}\\n\\n\\tvar url = \"/world/worldIncludeListJson.naver?includeItemMenuId=\" + sIncludeItemMenuId + \"&direction=\" + sCurIncludeDirection + \"&ordering=\" + sCurIncludeSort + \"&page=\" + nPage;\\n\\t//var url = \"/world/worldIncludeListJson.naver?includeItemMenuId=USA_ITEM_1&direction=up&ordering=knam&page=2\";\\n\\tjindo.$Ajax(url, {\\n\\t\\tonload : function(res) {\\n\\t\\t\\tvar json = res.json();\\n\\t\\t\\tvar elTable = jindo.$(\"includeTable\");\\n\\t\\t\\tvar sHtmlFormat = \"<td class=\\\\\"tb_td\\\\\"><a href=\\\\\"/world/sise.naver?symbol=%s\\\\\">%s</a></td>\"\\n\\t\\t\\t\\t+ \"<td class=\\\\\"tb_td2\\\\\"><span>%s</span></td>\"\\n\\t\\t\\t\\t+ \"<td class=\\\\\"tb_td3\\\\\"><span class=\\\\\"point_status\\\\\">%s</span></td>\"\\n\\t\\t\\t\\t+ \"<td class=\\\\\"tb_td4\\\\\"><span class=\\\\\"point_status\\\\\">%s%</span></td>\"\\n\\t\\t\\t\\t+ \"<td class=\\\\\"tb_td5\\\\\"><span>%s</span></td>\"\\n\\t\\t\\t\\t+ \"<td class=\\\\\"tb_td6\\\\\"><span>%s</span></td>\";\\n\\t\\t\\t\\t\\n\\t\\t\\t\\t\\n\\t\\t\\t// tr 전부 삭제\\n\\t\\t\\tjindo.$A(jindo.$$(\"tr\", elTable)).forEach(function (v, i) {\\n\\t\\t\\t\\tif (i > 0) {\\n\\t\\t\\t\\t\\tjindo.$Element(elTable).remove(v);\\n\\t\\t\\t\\t}\\n\\t\\t\\t});\\n\\t\\t\\t\\t\\n\\t\\t\\tjindo.$A(json).reverse().forEach(function(v, i) {\\n\\t\\t\\t\\tvar elTr = jindo.$$.getSingle(\"tbody\", elTable).insertRow(0);\\n\\t\\t\\t\\tvar sSymb = v.symb;\\n\\t\\t\\t\\tvar sKnam = v.knam;\\n\\t\\t\\t\\tvar nDiff = v.diff + 0;\\n\\t\\t\\t\\tvar sDiff = formatNumberForFinance(v.diff, false);\\n\\t\\t\\t\\tvar sRate = formatNumberForFinance(v.rate, true);\\n\\t\\t\\t\\tvar sLast = formatNumberForFinance(v.last, false);\\n\\t\\t\\t\\tvar sGvol = formatNumberForFinance(v.gvol, false);\\n\\t\\t\\t\\tvar sTotAmt = formatNumberForFinance(v.totAmt, false);\\n\\t\\t\\t\\tvar sPointClass = \"\";\\n\\t\\t\\t\\t\\n\\t\\t\\t\\tsGvol = sGvol.substr(0, sGvol.length - 3);\\n\\t\\t\\t\\tsTotAmt = sTotAmt.substr(0, sTotAmt.length - 3);\\n\\t\\t\\t\\t\\n\\t\\t\\t\\tif (nDiff > 0) {\\n\\t\\t\\t\\t\\tsPointClass = \"point_up\";\\n\\t\\t\\t\\t} else if (nDiff < 0) {\\n\\t\\t\\t\\t\\tsPointClass = \"point_dn\";\\n\\t\\t\\t\\t\\tsDiff = sDiff.replace(\"-\", \"\");\\n\\t\\t\\t\\t}\\n\\n\\t\\t\\t\\tvar html = jindo.$S(sHtmlFormat).format(sSymb, sKnam, sLast, sDiff, sRate, sGvol, sTotAmt);\\n\\t\\t\\t\\t\\n\\t\\t\\t\\tjindo.$Element(elTr).html(html);\\n\\t\\t\\t\\t\\n\\t\\t\\t\\tif (sPointClass.length > 0) {\\n\\t\\t\\t\\t\\tjindo.$Element(elTr).addClass(sPointClass);\\n\\t\\t\\t\\t}\\n\\n\\t\\t\\t\\tif (i == 0) {\\n\\t\\t\\t\\t\\tjindo.$Element(elTr).addClass(\"last\");\\n\\t\\t\\t\\t}\\n\\t\\t\\t})\\n\\t\\t}\\n\\t}).request();\\n\\t\\n\\t// 새로 페이징을 제작\\n\\tif (bRenewPaging) {\\n\\t\\tmakePaging(\"includePaging\", \"includeLink\", moveIncludePaging, nPage, nMaxIncludePage);\\n\\t\\tnCurIncludePage = nPage;\\n\\t} else {\\n\\t\\tvar welCurLink = jindo.$Element(\"includeLink\" + nCurIncludePage);\\n\\t\\tif (welCurLink != null) {\\n\\t\\t\\twelCurLink.removeClass(\"on\");\\n\\t\\t}\\n\\t\\tjindo.$Element(\"includeLink\" + nPage).addClass(\"on\");\\n\\t\\t\\n\\t\\tnCurIncludePage = nPage;\\n\\t}\\n}\\n\\t\\n// 페이징을 새로 생성해주는 공통함수\\nfunction makePaging(pagingId, linkId, func, nPage, nMax) {\\n\\tvar welPaging = jindo.$Element(pagingId);\\n\\tvar sPrevFormat = \"<img src=\\\\\"https://ssl.pstatic.net/static/nfinance/bu_pgarL.gif\\\\\" width=\\\\\"3\\\\\" height=\\\\\"5\\\\\" alt=\\\\\"이전\\\\\"> 이전\";\\n\\tvar sNextFormat = \"다음 <img src=\\\\\"https://ssl.pstatic.net/static/nfinance/bu_pgarR.gif\\\\\" width=\\\\\"3\\\\\" height=\\\\\"5\\\\\" alt=\\\\\"다음\\\\\">\";\\n\\n\\t// 삭제 후 삽입\\n\\twelPaging.html(\"\");\\n\\t\\n\\t// 이전\\n\\tif (nPage > 10) {\\n\\t\\tvar welPrev = jindo.$Element(jindo.$(\"<a></a>\"));\\n\\t\\t\\n\\t\\twelPrev.addClass(\"prev\");\\n\\t\\twelPrev.attr(\"href\", \"#\");\\n\\t\\tvar nPrevPage;\\n\\t\\tif (nPage % 10 == 0) {\\n\\t\\t\\tnPrevPage = nPage - 10;\\n\\t\\t} else {\\n\\t\\t\\tnPrevPage = nPage - 1;\\n\\t\\t}\\n\\n\\t\\tjindo.$Fn(jindo.$Fn(func).bind(nPrevPage, true)).attach(welPrev, \"click\");\\n\\t\\twelPrev.html(jindo.$S(sPrevFormat).format());\\n\\t\\t\\n\\t\\twelPaging.append(welPrev);\\n\\t}\\n\\t\\n\\t// 페이지\\n\\tvar nStart;\\n\\tvar nEnd;\\n\\t\\n\\tif (nPage % 10 == 0) {\\n\\t\\tnStart = nPage - 9;\\n\\t} else {\\n\\t\\tnStart = nPage; \\n\\t}\\n\\t\\n\\tif (nMax - nStart > 9) {\\n\\t\\tnEnd = nStart + 9;\\n\\t} else {\\n\\t\\tnEnd = nMax;\\n\\t}\\n\\t\\n\\tfor (var i = nStart; i <= nEnd; i++) {\\n\\t\\tvar welPage = jindo.$Element(jindo.$(\"<a></a>\"));\\n\\t\\t\\n\\t\\twelPage.text(i + \"\");\\n\\t\\twelPage.attr(\"href\", \"#\");\\n\\t\\twelPage.attr(\"id\", linkId + i);\\n\\t\\twelPage.attr(\"tojson\", \"\");\\n\\t\\tjindo.$Fn(jindo.$Fn(func, this).bind(i, false), this).attach(welPage, \"click\");\\n\\t\\t\\n\\t\\tif (i == nPage) {\\n\\t\\t\\twelPage.addClass(\"on\");\\n\\t\\t}\\n\\t\\t\\n\\t\\twelPaging.append(welPage);\\n\\t}\\n\\t\\n\\t// 다음\\n\\tvar bMakeNext = false;\\n\\tif (nPage % 10 == 1) {\\n\\t\\tbMakeNext = nMax >= nPage + 10;\\n\\t} else if (nPage % 10 == 0){\\n\\t\\tbMakeNext = nMax - nPage > 0;\\n\\t}\\n\\t\\n\\tif (bMakeNext) {\\n\\t\\tvar welNext = jindo.$Element(jindo.$(\"<a></a>\"));\\n\\t\\t\\n\\t\\twelNext.addClass(\"next\");\\n\\t\\twelNext.attr(\"href\", \"#\");\\n\\t\\tvar nNextPage;\\n\\t\\tif (nPage % 10 == 0) {\\n\\t\\t\\tnNextPage = nPage + 1;\\n\\t\\t} else {\\n\\t\\t\\tnNextPage = nPage + 10;\\n\\t\\t}\\n\\n\\t\\tjindo.$Fn(jindo.$Fn(func).bind(nNextPage, true)).attach(welNext, \"click\");\\n\\t\\twelNext.html(jindo.$S(sNextFormat).format());\\n\\n\\t\\twelPaging.append(welNext);\\t\\n\\t}\\n}\\n\\n// 일별시세 노출\\nfunction showDayQuoteList() {\\n\\tjindo.$Element(jindo.$$.getSingle(\"li.btn_day a\")).addClass(\"on\");\\n\\tjindo.$Element(jindo.$$.getSingle(\"li.btn_time a\")).removeClass(\"on\");\\n\\tjindo.$Element(\"dayTable\").show();\\n\\tjindo.$Element(\"timeTable\").hide();\\n\\tjindo.$Element(\"dayPaging\").show();\\n\\tjindo.$Element(\"timePaging\").hide();\\n}\\n\\n// 시간별시세 노출\\nfunction showTimeQuoteList() {\\n\\tjindo.$Element(jindo.$$.getSingle(\"li.btn_day a\")).removeClass(\"on\");\\n\\tjindo.$Element(jindo.$$.getSingle(\"li.btn_time a\")).addClass(\"on\");\\n\\tjindo.$Element(\"dayTable\").hide();\\n\\tjindo.$Element(\"timeTable\").show();\\n\\tjindo.$Element(\"dayPaging\").hide();\\n\\tjindo.$Element(\"timePaging\").show();\\n}\\n\\n// 선 차트 노출\\nfunction showChart(target) {\\n\\tvar directory = \"\";\\n\\t\\n\\tif (target == \"day\") {\\n\\t\\tdirectory = \"daily\";\\n\\t} else if (target == \"week\") {\\n\\t\\tdirectory = \"weekly\";\\n\\t} else if (target.indexOf(\"month\") == 0 || target.indexOf(\"year\") == 0) {\\n\\t\\tdirectory = target;\\n\\t}\\n\\t\\n\\tjindo.$A(jindo.$$(\"dl.line dd ul li\")).forEach(function(v) {\\n\\t\\tif (jindo.$Element(v).className() == target) {\\n\\t\\t\\tjindo.$Element(v).child()[0].addClass(\"on\");\\n\\t\\t\\tvar welChart = jindo.$Element(jindo.$$.getSingle(\"div.flash_area img\"));\\n\\t\\t\\twelChart.attr(\"src\", \"https://ssl.pstatic.net/imgfinance/chart/world/\" + directory + \"/NAS@IXIC.png?1688741844631\");\\n\\t\\t} else {\\n\\t\\t\\tjindo.$Element(v).child()[0].removeClass(\"on\");\\n\\t\\t}\\n\\t});\\n\\n\\tjindo.$A(jindo.$$(\"dl.bar dd ul li\")).forEach(function(v) {\\n\\t\\tjindo.$Element(v).child()[0].removeClass(\"on\");\\n\\t});\\n\\t\\n}\\n\\n// 봉 차트 노출\\nfunction showBarChart(target) {\\n\\tjindo.$A(jindo.$$(\"dl.bar dd ul li\")).forEach(function(v) {\\n\\t\\tif (jindo.$Element(v).className() == target) {\\n\\t\\t\\tjindo.$Element(v).child()[0].addClass(\"on\");\\n\\t\\t\\tvar welChart = jindo.$Element(jindo.$$.getSingle(\"div.flash_area img\"));\\n\\t\\t\\twelChart.attr(\"src\", \"https://ssl.pstatic.net/imgfinance/chart/world/candle/\" + target + \"/NAS@IXIC.png?1688741844631\");\\n\\t\\t} else {\\n\\t\\t\\tjindo.$Element(v).child()[0].removeClass(\"on\");\\n\\t\\t}\\n\\t});\\n\\n\\tjindo.$A(jindo.$$(\"dl.line dd ul li\")).forEach(function(v) {\\n\\t\\tjindo.$Element(v).child()[0].removeClass(\"on\");\\n\\t});\\n}\\n</script>\\n\\t<!-- Footer -->\\n\\t<div id=\"footer\">\\n\\t<ul>\\n\\t\\t<li class=\"first\">\\n\\t\\t\\t<a href=\"https://new-m.pay.naver.com/member/terms-policy/naver-financial-service\" onClick=\"clickcr(this, \\'fot.service\\', \\'\\', \\'\\', event);\" target=\"_blank\">이용약관</a>\\n\\t\\t</li>\\n\\t\\t<li>\\n\\t\\t\\t<a href=\"https://new-m.pay.naver.com/member/terms-policy/privacy\" onClick=\"clickcr(this, \\'fot.privacy\\', \\'\\', \\'\\', event);\" target=\"_blank\"><strong>개인정보처리방침</strong></a>\\n\\t\\t</li>\\n\\t\\t<li>\\n\\t\\t\\t<a href=\"/rules.naver\" onClick=\"clickcr(this, \\'fot.policy\\', \\'\\', \\'\\', event);\" target=\"_blank\">게시판 운영원칙</a>\\n\\t\\t</li>\\n\\t\\t<li>\\n\\t\\t\\t<a href=\"https://help.naver.com/service/5617/category/bookmark?lang=ko\" onClick=\"clickcr(this, \\'fot.help\\', \\'\\', \\'\\', event);\" target=\"_blank\">증권 고객센터</a>\\n\\t\\t</li>\\n\\t</ul>\\n\\t<p class=\"desc\">\\n\\t\\t네이버파이낸셜(주)이 제공하는 금융 정보는 <a href=\"javascript:;\" onclick=\"togglePanelFooter(\\'footerPanel0\\');\" class=\"desc_help\">콘텐츠 제공업체</a>로부터 받는 투자 참고사항이며, 오류가 발생하거나 지연될 수 있습니다.<br/>\\n\\t\\t네이버파이낸셜(주)과 콘텐츠 제공업체는 제공된 정보에 의한 투자 결과에 법적인 책임을 지지 않습니다. 게시된 정보는 무단으로 배포할 수 없습니다.\\n\\t</p>\\n\\t<div id=\"footerPanel0\" class=\"provider_layer\" style=\"display:none\" tabindex=\"0\" onblur=\"hidePannel(\\'footerPanel0\\')\">\\n\\t\\t<strong class=\"provider_layer__tit\">네이버파이낸셜에 콘텐츠 제공</strong>\\n\\t\\t<div class=\"provider_layer__txt\">\\n\\t\\t\\t<strong>에프앤가이드</strong> 기업 및 재무정보<br>\\n\\t\\t\\t<strong>KG제로인</strong> 해외 시세, 시장지표 정보<br>\\n\\t\\t\\t<strong>한국예탁결제원</strong> 주주총회일, 전자투표 정보<br>\\n\\t\\t\\t<strong>인포스탁</strong> 국내 테마 정보\\n\\t\\t</div>\\n\\t\\t<div class=\"provider_layer__info\">\\n\\t\\t\\t<strong class=\"provider_layer__tit\">네이버에 콘텐츠 제공</strong>\\n\\t\\t\\t<div class=\"provider_layer__txt\">\\n\\t\\t\\t\\t<strong>코스콤</strong> 국내 시세 정보\\n\\t\\t\\t</div>\\n\\t\\t</div>\\n\\t\\t<button type=\"button\" class=\"button_close\" onclick=\"hidePannel(\\'footerPanel0\\')\">\\n\\t\\t\\t<img src=\"https://ssl.pstatic.net/static/nfinance/2022/footer_close.png\" width=\"20\" height=\"20\" alt=\"닫기\">\\n\\t\\t</button>\\n\\t</div>\\n\\t<address>\\n\\t\\t<a href=\"http://www.navercorp.com/\" target=\"_blank\" class=\"logo\" onClick=\"clickcr(this, \\'fot.nhn\\', \\'\\', \\'\\', event);\"><img src=\"https://ssl.pstatic.net/static/nfinance/img/logo_financial.png\" width=\"160\" height=\"12\" alt=\"NAVER FINANCIAL\"></a>\\n\\t</address>\\n\\t\\n\\t\\n\\t\\n</div>\\n\\n<script type=\"text/javascript\">\\nfunction isVisible(obj) {\\n    if (obj == document) return true\\n \\n    if (!obj) return false\\n    if (!obj.parentNode) return false\\n    if (obj.style) {\\n        if (obj.style.display == \\'none\\') return false\\n        if (obj.style.visibility == \\'hidden\\') return false\\n    }\\n \\n    if (window.getComputedStyle) {\\n        var style = window.getComputedStyle(obj, \"\")\\n        if (style.display == \\'none\\') return false\\n        if (style.visibility == \\'hidden\\') return false\\n    }\\n \\n    var style = obj.currentStyle\\n    if (style) {\\n        if (style[\\'display\\'] == \\'none\\') return false\\n        if (style[\\'visibility\\'] == \\'hidden\\') return false\\n    }\\n \\n    return isVisible(obj.parentNode)\\n}\\n\\nfunction isChildOf(myobj, containerObj) {\\n\\twhile(myobj != undefined) {\\n\\t\\tif (myobj == document.body) {\\n\\t\\t\\tbreak;\\n\\t\\t} \\n\\t\\tif (myobj == containerObj) {\\n\\t\\t\\treturn true;\\n\\t\\t}\\n\\t\\tmyobj = myobj.parentElement;\\n\\t}\\n\\treturn false;\\t\\n}\\n\\nfunction gnbLayerClose(e){\\n\\tvar target = e.target ? e.target : e.srcElement;\\n\\tif (isVisible(document.getElementById(\\'gnb_service_lyr\\')) || isVisible(document.getElementById(\\'gnb_notice_lyr\\')) ||isVisible(document.getElementById(\\'gnb_my_lyr\\')) ) {\\n\\t\\tif (!isChildOf(target, document.getElementById(\\'gnb\\'))) {\\n\\t\\t\\tgnbAllLayerClose();\\n\\t\\t}\\n\\t}\\t\\n}\\n\\nfunction showPannel(layerId){\\n\\tvar layer = jindo.$(layerId);\\n\\tlayer.style.display=\\'block\\';\\n\\n\\tif (layerId == \"summary_lyr\") {\\n\\t\\tvar layerHeight = jindo.$Element(layer).height();\\n\\t\\tjindo.$Element(\"summary_ifr\").height(layerHeight);\\n\\t}\\n}\\n\\nfunction hidePannel(layerId){\\n\\tvar layer = jindo.$(layerId);\\n\\tlayer.style.display=\\'none\\';\\n}\\n\\nfunction togglePanelFooter(layerId) {\\n\\tvar elTargetLayer = jindo.$Element(jindo.$$.getSingle(\"#\" + layerId));\\n\\n\\tif (elTargetLayer != null) {\\n\\t\\tif (elTargetLayer.visible()) {\\n\\t\\t\\thidePannel(layerId);\\n\\t\\t} else {\\n\\t\\t\\tshowPannel(layerId);\\n\\t\\t}\\n\\t}\\n}\\n\\nvar isIE = (navigator.userAgent.toLowerCase().indexOf(\"msie\")!=-1 && window.document.all) ? true:false;\\nif (isIE) {\\n\\tdocument.attachEvent(\\'onmousedown\\', gnbLayerClose);\\n} else {\\n\\twindow.addEventListener(\\'mousedown\\', gnbLayerClose);\\n}\\n</script>\\n\\n\\n\\n</div>  \\n</body>\\n</html>\\n'"
      ]
     },
     "execution_count": 51,
     "metadata": {},
     "output_type": "execute_result"
    }
   ],
   "source": [
    "response.text"
   ]
  },
  {
   "cell_type": "code",
   "execution_count": 52,
   "id": "0755ddbb-861e-4265-98f3-a8709b8789ea",
   "metadata": {},
   "outputs": [
    {
     "name": "stdout",
     "output_type": "stream",
     "text": [
      "파싱된 테이블의 개수 : 3\n"
     ]
    }
   ],
   "source": [
    "html = bs(response.text, 'html.parser')\n",
    "html_table = html.select(\"table\")\n",
    "table = pd.read_html(str(html_table))\n",
    "print('파싱된 테이블의 개수 :', len(table))"
   ]
  },
  {
   "cell_type": "code",
   "execution_count": 53,
   "id": "2b08fed8-91f1-40fe-b632-b68bb2d36366",
   "metadata": {},
   "outputs": [
    {
     "data": {
      "text/html": [
       "<div>\n",
       "<style scoped>\n",
       "    .dataframe tbody tr th:only-of-type {\n",
       "        vertical-align: middle;\n",
       "    }\n",
       "\n",
       "    .dataframe tbody tr th {\n",
       "        vertical-align: top;\n",
       "    }\n",
       "\n",
       "    .dataframe thead th {\n",
       "        text-align: right;\n",
       "    }\n",
       "</style>\n",
       "<table border=\"1\" class=\"dataframe\">\n",
       "  <thead>\n",
       "    <tr style=\"text-align: right;\">\n",
       "      <th></th>\n",
       "      <th>0</th>\n",
       "      <th>1</th>\n",
       "      <th>2</th>\n",
       "    </tr>\n",
       "  </thead>\n",
       "  <tbody>\n",
       "    <tr>\n",
       "      <th>0</th>\n",
       "      <td>전일 13,679.04</td>\n",
       "      <td>고가 13,730.72</td>\n",
       "      <td>52주 최고 13,864.06</td>\n",
       "    </tr>\n",
       "    <tr>\n",
       "      <th>1</th>\n",
       "      <td>시가 13,668.07</td>\n",
       "      <td>저가 13,657.72</td>\n",
       "      <td>52주 최저 10,088.83</td>\n",
       "    </tr>\n",
       "  </tbody>\n",
       "</table>\n",
       "</div>"
      ],
      "text/plain": [
       "              0             1                 2\n",
       "0  전일 13,679.04  고가 13,730.72  52주 최고 13,864.06\n",
       "1  시가 13,668.07  저가 13,657.72  52주 최저 10,088.83"
      ]
     },
     "execution_count": 53,
     "metadata": {},
     "output_type": "execute_result"
    }
   ],
   "source": [
    "table[0]"
   ]
  },
  {
   "cell_type": "code",
   "execution_count": 54,
   "id": "1a5ffaa5-915b-42c7-aa19-e96456d5510e",
   "metadata": {},
   "outputs": [
    {
     "data": {
      "text/html": [
       "<div>\n",
       "<style scoped>\n",
       "    .dataframe tbody tr th:only-of-type {\n",
       "        vertical-align: middle;\n",
       "    }\n",
       "\n",
       "    .dataframe tbody tr th {\n",
       "        vertical-align: top;\n",
       "    }\n",
       "\n",
       "    .dataframe thead th {\n",
       "        text-align: right;\n",
       "    }\n",
       "</style>\n",
       "<table border=\"1\" class=\"dataframe\">\n",
       "  <thead>\n",
       "    <tr style=\"text-align: right;\">\n",
       "      <th></th>\n",
       "      <th>일자</th>\n",
       "      <th>종가</th>\n",
       "      <th>전일대비</th>\n",
       "      <th>시가</th>\n",
       "      <th>고가</th>\n",
       "      <th>저가</th>\n",
       "    </tr>\n",
       "  </thead>\n",
       "  <tbody>\n",
       "    <tr>\n",
       "      <th>0</th>\n",
       "      <td>2023.07.07</td>\n",
       "      <td>13681.61</td>\n",
       "      <td>2.57</td>\n",
       "      <td>13668.07</td>\n",
       "      <td>13730.72</td>\n",
       "      <td>13657.72</td>\n",
       "    </tr>\n",
       "    <tr>\n",
       "      <th>1</th>\n",
       "      <td>2023.07.06</td>\n",
       "      <td>13679.04</td>\n",
       "      <td>112.61</td>\n",
       "      <td>13653.17</td>\n",
       "      <td>13689.52</td>\n",
       "      <td>13567.26</td>\n",
       "    </tr>\n",
       "    <tr>\n",
       "      <th>2</th>\n",
       "      <td>2023.07.05</td>\n",
       "      <td>13791.65</td>\n",
       "      <td>25.12</td>\n",
       "      <td>13772.10</td>\n",
       "      <td>13844.50</td>\n",
       "      <td>13764.25</td>\n",
       "    </tr>\n",
       "    <tr>\n",
       "      <th>3</th>\n",
       "      <td>2023.07.03</td>\n",
       "      <td>13816.77</td>\n",
       "      <td>28.85</td>\n",
       "      <td>13798.70</td>\n",
       "      <td>13839.09</td>\n",
       "      <td>13773.41</td>\n",
       "    </tr>\n",
       "    <tr>\n",
       "      <th>4</th>\n",
       "      <td>2023.06.30</td>\n",
       "      <td>13787.92</td>\n",
       "      <td>196.59</td>\n",
       "      <td>13719.98</td>\n",
       "      <td>13816.68</td>\n",
       "      <td>13716.16</td>\n",
       "    </tr>\n",
       "    <tr>\n",
       "      <th>5</th>\n",
       "      <td>2023.06.29</td>\n",
       "      <td>13591.33</td>\n",
       "      <td>0.42</td>\n",
       "      <td>13592.36</td>\n",
       "      <td>13618.53</td>\n",
       "      <td>13540.26</td>\n",
       "    </tr>\n",
       "    <tr>\n",
       "      <th>6</th>\n",
       "      <td>2023.06.28</td>\n",
       "      <td>13591.75</td>\n",
       "      <td>36.08</td>\n",
       "      <td>13506.02</td>\n",
       "      <td>13654.14</td>\n",
       "      <td>13495.73</td>\n",
       "    </tr>\n",
       "    <tr>\n",
       "      <th>7</th>\n",
       "      <td>2023.06.27</td>\n",
       "      <td>13555.67</td>\n",
       "      <td>219.89</td>\n",
       "      <td>13389.25</td>\n",
       "      <td>13578.80</td>\n",
       "      <td>13366.97</td>\n",
       "    </tr>\n",
       "    <tr>\n",
       "      <th>8</th>\n",
       "      <td>2023.06.26</td>\n",
       "      <td>13335.78</td>\n",
       "      <td>156.74</td>\n",
       "      <td>13468.75</td>\n",
       "      <td>13573.57</td>\n",
       "      <td>13334.42</td>\n",
       "    </tr>\n",
       "    <tr>\n",
       "      <th>9</th>\n",
       "      <td>2023.06.23</td>\n",
       "      <td>13492.52</td>\n",
       "      <td>138.09</td>\n",
       "      <td>13484.10</td>\n",
       "      <td>13572.19</td>\n",
       "      <td>13442.65</td>\n",
       "    </tr>\n",
       "  </tbody>\n",
       "</table>\n",
       "</div>"
      ],
      "text/plain": [
       "           일자        종가    전일대비        시가        고가        저가\n",
       "0  2023.07.07  13681.61    2.57  13668.07  13730.72  13657.72\n",
       "1  2023.07.06  13679.04  112.61  13653.17  13689.52  13567.26\n",
       "2  2023.07.05  13791.65   25.12  13772.10  13844.50  13764.25\n",
       "3  2023.07.03  13816.77   28.85  13798.70  13839.09  13773.41\n",
       "4  2023.06.30  13787.92  196.59  13719.98  13816.68  13716.16\n",
       "5  2023.06.29  13591.33    0.42  13592.36  13618.53  13540.26\n",
       "6  2023.06.28  13591.75   36.08  13506.02  13654.14  13495.73\n",
       "7  2023.06.27  13555.67  219.89  13389.25  13578.80  13366.97\n",
       "8  2023.06.26  13335.78  156.74  13468.75  13573.57  13334.42\n",
       "9  2023.06.23  13492.52  138.09  13484.10  13572.19  13442.65"
      ]
     },
     "execution_count": 54,
     "metadata": {},
     "output_type": "execute_result"
    }
   ],
   "source": [
    "table[1]"
   ]
  },
  {
   "cell_type": "code",
   "execution_count": 55,
   "id": "36051f3d-afa8-46e7-85c5-c4b10ad049dd",
   "metadata": {},
   "outputs": [
    {
     "data": {
      "text/html": [
       "<div>\n",
       "<style scoped>\n",
       "    .dataframe tbody tr th:only-of-type {\n",
       "        vertical-align: middle;\n",
       "    }\n",
       "\n",
       "    .dataframe tbody tr th {\n",
       "        vertical-align: top;\n",
       "    }\n",
       "\n",
       "    .dataframe thead th {\n",
       "        text-align: right;\n",
       "    }\n",
       "</style>\n",
       "<table border=\"1\" class=\"dataframe\">\n",
       "  <thead>\n",
       "    <tr style=\"text-align: right;\">\n",
       "      <th></th>\n",
       "      <th>업체명</th>\n",
       "      <th>거래량</th>\n",
       "      <th>전일비</th>\n",
       "    </tr>\n",
       "  </thead>\n",
       "  <tbody>\n",
       "  </tbody>\n",
       "</table>\n",
       "</div>"
      ],
      "text/plain": [
       "Empty DataFrame\n",
       "Columns: [업체명, 거래량, 전일비]\n",
       "Index: []"
      ]
     },
     "execution_count": 55,
     "metadata": {},
     "output_type": "execute_result"
    }
   ],
   "source": [
    "table[2]"
   ]
  },
  {
   "cell_type": "code",
   "execution_count": 56,
   "id": "4607ce6d-77bf-40c3-af57-d92a3c07334d",
   "metadata": {},
   "outputs": [
    {
     "data": {
      "text/html": [
       "<div>\n",
       "<style scoped>\n",
       "    .dataframe tbody tr th:only-of-type {\n",
       "        vertical-align: middle;\n",
       "    }\n",
       "\n",
       "    .dataframe tbody tr th {\n",
       "        vertical-align: top;\n",
       "    }\n",
       "\n",
       "    .dataframe thead th {\n",
       "        text-align: right;\n",
       "    }\n",
       "</style>\n",
       "<table border=\"1\" class=\"dataframe\">\n",
       "  <thead>\n",
       "    <tr style=\"text-align: right;\">\n",
       "      <th></th>\n",
       "      <th>일자</th>\n",
       "      <th>종가</th>\n",
       "      <th>전일대비</th>\n",
       "      <th>시가</th>\n",
       "      <th>고가</th>\n",
       "      <th>저가</th>\n",
       "    </tr>\n",
       "  </thead>\n",
       "  <tbody>\n",
       "    <tr>\n",
       "      <th>0</th>\n",
       "      <td>2023.07.07</td>\n",
       "      <td>13681.61</td>\n",
       "      <td>2.57</td>\n",
       "      <td>13668.07</td>\n",
       "      <td>13730.72</td>\n",
       "      <td>13657.72</td>\n",
       "    </tr>\n",
       "    <tr>\n",
       "      <th>1</th>\n",
       "      <td>2023.07.06</td>\n",
       "      <td>13679.04</td>\n",
       "      <td>112.61</td>\n",
       "      <td>13653.17</td>\n",
       "      <td>13689.52</td>\n",
       "      <td>13567.26</td>\n",
       "    </tr>\n",
       "    <tr>\n",
       "      <th>2</th>\n",
       "      <td>2023.07.05</td>\n",
       "      <td>13791.65</td>\n",
       "      <td>25.12</td>\n",
       "      <td>13772.10</td>\n",
       "      <td>13844.50</td>\n",
       "      <td>13764.25</td>\n",
       "    </tr>\n",
       "    <tr>\n",
       "      <th>3</th>\n",
       "      <td>2023.07.03</td>\n",
       "      <td>13816.77</td>\n",
       "      <td>28.85</td>\n",
       "      <td>13798.70</td>\n",
       "      <td>13839.09</td>\n",
       "      <td>13773.41</td>\n",
       "    </tr>\n",
       "    <tr>\n",
       "      <th>4</th>\n",
       "      <td>2023.06.30</td>\n",
       "      <td>13787.92</td>\n",
       "      <td>196.59</td>\n",
       "      <td>13719.98</td>\n",
       "      <td>13816.68</td>\n",
       "      <td>13716.16</td>\n",
       "    </tr>\n",
       "    <tr>\n",
       "      <th>5</th>\n",
       "      <td>2023.06.29</td>\n",
       "      <td>13591.33</td>\n",
       "      <td>0.42</td>\n",
       "      <td>13592.36</td>\n",
       "      <td>13618.53</td>\n",
       "      <td>13540.26</td>\n",
       "    </tr>\n",
       "    <tr>\n",
       "      <th>6</th>\n",
       "      <td>2023.06.28</td>\n",
       "      <td>13591.75</td>\n",
       "      <td>36.08</td>\n",
       "      <td>13506.02</td>\n",
       "      <td>13654.14</td>\n",
       "      <td>13495.73</td>\n",
       "    </tr>\n",
       "    <tr>\n",
       "      <th>7</th>\n",
       "      <td>2023.06.27</td>\n",
       "      <td>13555.67</td>\n",
       "      <td>219.89</td>\n",
       "      <td>13389.25</td>\n",
       "      <td>13578.80</td>\n",
       "      <td>13366.97</td>\n",
       "    </tr>\n",
       "    <tr>\n",
       "      <th>8</th>\n",
       "      <td>2023.06.26</td>\n",
       "      <td>13335.78</td>\n",
       "      <td>156.74</td>\n",
       "      <td>13468.75</td>\n",
       "      <td>13573.57</td>\n",
       "      <td>13334.42</td>\n",
       "    </tr>\n",
       "    <tr>\n",
       "      <th>9</th>\n",
       "      <td>2023.06.23</td>\n",
       "      <td>13492.52</td>\n",
       "      <td>138.09</td>\n",
       "      <td>13484.10</td>\n",
       "      <td>13572.19</td>\n",
       "      <td>13442.65</td>\n",
       "    </tr>\n",
       "  </tbody>\n",
       "</table>\n",
       "</div>"
      ],
      "text/plain": [
       "           일자        종가    전일대비        시가        고가        저가\n",
       "0  2023.07.07  13681.61    2.57  13668.07  13730.72  13657.72\n",
       "1  2023.07.06  13679.04  112.61  13653.17  13689.52  13567.26\n",
       "2  2023.07.05  13791.65   25.12  13772.10  13844.50  13764.25\n",
       "3  2023.07.03  13816.77   28.85  13798.70  13839.09  13773.41\n",
       "4  2023.06.30  13787.92  196.59  13719.98  13816.68  13716.16\n",
       "5  2023.06.29  13591.33    0.42  13592.36  13618.53  13540.26\n",
       "6  2023.06.28  13591.75   36.08  13506.02  13654.14  13495.73\n",
       "7  2023.06.27  13555.67  219.89  13389.25  13578.80  13366.97\n",
       "8  2023.06.26  13335.78  156.74  13468.75  13573.57  13334.42\n",
       "9  2023.06.23  13492.52  138.09  13484.10  13572.19  13442.65"
      ]
     },
     "execution_count": 56,
     "metadata": {},
     "output_type": "execute_result"
    }
   ],
   "source": [
    "table[1].dropna()"
   ]
  },
  {
   "cell_type": "code",
   "execution_count": 61,
   "id": "6a3333e0-ccc4-4448-992c-efe0816e0f19",
   "metadata": {
    "scrolled": true,
    "tags": []
   },
   "outputs": [
    {
     "name": "stdout",
     "output_type": "stream",
     "text": [
      "https://finance.naver.com/world/sise.naver?symbol=NAS@IXIC#&page=1\n",
      "https://finance.naver.com/world/sise.naver?symbol=NAS@IXIC#&page=2\n"
     ]
    },
    {
     "name": "stderr",
     "output_type": "stream",
     "text": [
      "<ipython-input-61-77dee5e93da6>:14: FutureWarning: The frame.append method is deprecated and will be removed from pandas in a future version. Use pandas.concat instead.\n",
      "  df = df.append(table[1].dropna())\n",
      "<ipython-input-61-77dee5e93da6>:14: FutureWarning: The frame.append method is deprecated and will be removed from pandas in a future version. Use pandas.concat instead.\n",
      "  df = df.append(table[1].dropna())\n"
     ]
    },
    {
     "name": "stdout",
     "output_type": "stream",
     "text": [
      "https://finance.naver.com/world/sise.naver?symbol=NAS@IXIC#&page=3\n",
      "https://finance.naver.com/world/sise.naver?symbol=NAS@IXIC#&page=4\n"
     ]
    },
    {
     "name": "stderr",
     "output_type": "stream",
     "text": [
      "<ipython-input-61-77dee5e93da6>:14: FutureWarning: The frame.append method is deprecated and will be removed from pandas in a future version. Use pandas.concat instead.\n",
      "  df = df.append(table[1].dropna())\n",
      "<ipython-input-61-77dee5e93da6>:14: FutureWarning: The frame.append method is deprecated and will be removed from pandas in a future version. Use pandas.concat instead.\n",
      "  df = df.append(table[1].dropna())\n"
     ]
    },
    {
     "name": "stdout",
     "output_type": "stream",
     "text": [
      "https://finance.naver.com/world/sise.naver?symbol=NAS@IXIC#&page=5\n",
      "https://finance.naver.com/world/sise.naver?symbol=NAS@IXIC#&page=6\n"
     ]
    },
    {
     "name": "stderr",
     "output_type": "stream",
     "text": [
      "<ipython-input-61-77dee5e93da6>:14: FutureWarning: The frame.append method is deprecated and will be removed from pandas in a future version. Use pandas.concat instead.\n",
      "  df = df.append(table[1].dropna())\n",
      "<ipython-input-61-77dee5e93da6>:14: FutureWarning: The frame.append method is deprecated and will be removed from pandas in a future version. Use pandas.concat instead.\n",
      "  df = df.append(table[1].dropna())\n"
     ]
    },
    {
     "name": "stdout",
     "output_type": "stream",
     "text": [
      "https://finance.naver.com/world/sise.naver?symbol=NAS@IXIC#&page=7\n",
      "https://finance.naver.com/world/sise.naver?symbol=NAS@IXIC#&page=8\n"
     ]
    },
    {
     "name": "stderr",
     "output_type": "stream",
     "text": [
      "<ipython-input-61-77dee5e93da6>:14: FutureWarning: The frame.append method is deprecated and will be removed from pandas in a future version. Use pandas.concat instead.\n",
      "  df = df.append(table[1].dropna())\n",
      "<ipython-input-61-77dee5e93da6>:14: FutureWarning: The frame.append method is deprecated and will be removed from pandas in a future version. Use pandas.concat instead.\n",
      "  df = df.append(table[1].dropna())\n"
     ]
    },
    {
     "name": "stdout",
     "output_type": "stream",
     "text": [
      "https://finance.naver.com/world/sise.naver?symbol=NAS@IXIC#&page=9\n",
      "https://finance.naver.com/world/sise.naver?symbol=NAS@IXIC#&page=10\n"
     ]
    },
    {
     "name": "stderr",
     "output_type": "stream",
     "text": [
      "<ipython-input-61-77dee5e93da6>:14: FutureWarning: The frame.append method is deprecated and will be removed from pandas in a future version. Use pandas.concat instead.\n",
      "  df = df.append(table[1].dropna())\n",
      "<ipython-input-61-77dee5e93da6>:14: FutureWarning: The frame.append method is deprecated and will be removed from pandas in a future version. Use pandas.concat instead.\n",
      "  df = df.append(table[1].dropna())\n"
     ]
    },
    {
     "name": "stdout",
     "output_type": "stream",
     "text": [
      "https://finance.naver.com/world/sise.naver?symbol=NAS@IXIC#&page=11\n",
      "https://finance.naver.com/world/sise.naver?symbol=NAS@IXIC#&page=12\n"
     ]
    },
    {
     "name": "stderr",
     "output_type": "stream",
     "text": [
      "<ipython-input-61-77dee5e93da6>:14: FutureWarning: The frame.append method is deprecated and will be removed from pandas in a future version. Use pandas.concat instead.\n",
      "  df = df.append(table[1].dropna())\n",
      "<ipython-input-61-77dee5e93da6>:14: FutureWarning: The frame.append method is deprecated and will be removed from pandas in a future version. Use pandas.concat instead.\n",
      "  df = df.append(table[1].dropna())\n"
     ]
    },
    {
     "name": "stdout",
     "output_type": "stream",
     "text": [
      "https://finance.naver.com/world/sise.naver?symbol=NAS@IXIC#&page=13\n",
      "https://finance.naver.com/world/sise.naver?symbol=NAS@IXIC#&page=14\n"
     ]
    },
    {
     "name": "stderr",
     "output_type": "stream",
     "text": [
      "<ipython-input-61-77dee5e93da6>:14: FutureWarning: The frame.append method is deprecated and will be removed from pandas in a future version. Use pandas.concat instead.\n",
      "  df = df.append(table[1].dropna())\n",
      "<ipython-input-61-77dee5e93da6>:14: FutureWarning: The frame.append method is deprecated and will be removed from pandas in a future version. Use pandas.concat instead.\n",
      "  df = df.append(table[1].dropna())\n"
     ]
    },
    {
     "name": "stdout",
     "output_type": "stream",
     "text": [
      "https://finance.naver.com/world/sise.naver?symbol=NAS@IXIC#&page=15\n",
      "https://finance.naver.com/world/sise.naver?symbol=NAS@IXIC#&page=16\n"
     ]
    },
    {
     "name": "stderr",
     "output_type": "stream",
     "text": [
      "<ipython-input-61-77dee5e93da6>:14: FutureWarning: The frame.append method is deprecated and will be removed from pandas in a future version. Use pandas.concat instead.\n",
      "  df = df.append(table[1].dropna())\n",
      "<ipython-input-61-77dee5e93da6>:14: FutureWarning: The frame.append method is deprecated and will be removed from pandas in a future version. Use pandas.concat instead.\n",
      "  df = df.append(table[1].dropna())\n",
      "<ipython-input-61-77dee5e93da6>:14: FutureWarning: The frame.append method is deprecated and will be removed from pandas in a future version. Use pandas.concat instead.\n",
      "  df = df.append(table[1].dropna())\n"
     ]
    },
    {
     "name": "stdout",
     "output_type": "stream",
     "text": [
      "https://finance.naver.com/world/sise.naver?symbol=NAS@IXIC#&page=17\n",
      "https://finance.naver.com/world/sise.naver?symbol=NAS@IXIC#&page=18\n"
     ]
    },
    {
     "name": "stderr",
     "output_type": "stream",
     "text": [
      "<ipython-input-61-77dee5e93da6>:14: FutureWarning: The frame.append method is deprecated and will be removed from pandas in a future version. Use pandas.concat instead.\n",
      "  df = df.append(table[1].dropna())\n",
      "<ipython-input-61-77dee5e93da6>:14: FutureWarning: The frame.append method is deprecated and will be removed from pandas in a future version. Use pandas.concat instead.\n",
      "  df = df.append(table[1].dropna())\n"
     ]
    },
    {
     "name": "stdout",
     "output_type": "stream",
     "text": [
      "https://finance.naver.com/world/sise.naver?symbol=NAS@IXIC#&page=19\n",
      "https://finance.naver.com/world/sise.naver?symbol=NAS@IXIC#&page=20\n"
     ]
    },
    {
     "name": "stderr",
     "output_type": "stream",
     "text": [
      "<ipython-input-61-77dee5e93da6>:14: FutureWarning: The frame.append method is deprecated and will be removed from pandas in a future version. Use pandas.concat instead.\n",
      "  df = df.append(table[1].dropna())\n",
      "<ipython-input-61-77dee5e93da6>:14: FutureWarning: The frame.append method is deprecated and will be removed from pandas in a future version. Use pandas.concat instead.\n",
      "  df = df.append(table[1].dropna())\n"
     ]
    },
    {
     "name": "stdout",
     "output_type": "stream",
     "text": [
      "https://finance.naver.com/world/sise.naver?symbol=NAS@IXIC#&page=21\n",
      "https://finance.naver.com/world/sise.naver?symbol=NAS@IXIC#&page=22\n"
     ]
    },
    {
     "name": "stderr",
     "output_type": "stream",
     "text": [
      "<ipython-input-61-77dee5e93da6>:14: FutureWarning: The frame.append method is deprecated and will be removed from pandas in a future version. Use pandas.concat instead.\n",
      "  df = df.append(table[1].dropna())\n"
     ]
    },
    {
     "name": "stdout",
     "output_type": "stream",
     "text": [
      "https://finance.naver.com/world/sise.naver?symbol=NAS@IXIC#&page=23\n"
     ]
    },
    {
     "name": "stderr",
     "output_type": "stream",
     "text": [
      "<ipython-input-61-77dee5e93da6>:14: FutureWarning: The frame.append method is deprecated and will be removed from pandas in a future version. Use pandas.concat instead.\n",
      "  df = df.append(table[1].dropna())\n"
     ]
    },
    {
     "name": "stdout",
     "output_type": "stream",
     "text": [
      "https://finance.naver.com/world/sise.naver?symbol=NAS@IXIC#&page=24\n"
     ]
    },
    {
     "name": "stderr",
     "output_type": "stream",
     "text": [
      "<ipython-input-61-77dee5e93da6>:14: FutureWarning: The frame.append method is deprecated and will be removed from pandas in a future version. Use pandas.concat instead.\n",
      "  df = df.append(table[1].dropna())\n",
      "<ipython-input-61-77dee5e93da6>:14: FutureWarning: The frame.append method is deprecated and will be removed from pandas in a future version. Use pandas.concat instead.\n",
      "  df = df.append(table[1].dropna())\n"
     ]
    },
    {
     "name": "stdout",
     "output_type": "stream",
     "text": [
      "https://finance.naver.com/world/sise.naver?symbol=NAS@IXIC#&page=25\n",
      "https://finance.naver.com/world/sise.naver?symbol=NAS@IXIC#&page=26\n"
     ]
    },
    {
     "name": "stderr",
     "output_type": "stream",
     "text": [
      "<ipython-input-61-77dee5e93da6>:14: FutureWarning: The frame.append method is deprecated and will be removed from pandas in a future version. Use pandas.concat instead.\n",
      "  df = df.append(table[1].dropna())\n",
      "<ipython-input-61-77dee5e93da6>:14: FutureWarning: The frame.append method is deprecated and will be removed from pandas in a future version. Use pandas.concat instead.\n",
      "  df = df.append(table[1].dropna())\n"
     ]
    },
    {
     "name": "stdout",
     "output_type": "stream",
     "text": [
      "https://finance.naver.com/world/sise.naver?symbol=NAS@IXIC#&page=27\n",
      "https://finance.naver.com/world/sise.naver?symbol=NAS@IXIC#&page=28\n"
     ]
    },
    {
     "name": "stderr",
     "output_type": "stream",
     "text": [
      "<ipython-input-61-77dee5e93da6>:14: FutureWarning: The frame.append method is deprecated and will be removed from pandas in a future version. Use pandas.concat instead.\n",
      "  df = df.append(table[1].dropna())\n",
      "<ipython-input-61-77dee5e93da6>:14: FutureWarning: The frame.append method is deprecated and will be removed from pandas in a future version. Use pandas.concat instead.\n",
      "  df = df.append(table[1].dropna())\n"
     ]
    },
    {
     "name": "stdout",
     "output_type": "stream",
     "text": [
      "https://finance.naver.com/world/sise.naver?symbol=NAS@IXIC#&page=29\n",
      "https://finance.naver.com/world/sise.naver?symbol=NAS@IXIC#&page=30\n"
     ]
    },
    {
     "name": "stderr",
     "output_type": "stream",
     "text": [
      "<ipython-input-61-77dee5e93da6>:14: FutureWarning: The frame.append method is deprecated and will be removed from pandas in a future version. Use pandas.concat instead.\n",
      "  df = df.append(table[1].dropna())\n"
     ]
    },
    {
     "name": "stdout",
     "output_type": "stream",
     "text": [
      "https://finance.naver.com/world/sise.naver?symbol=NAS@IXIC#&page=31\n"
     ]
    },
    {
     "name": "stderr",
     "output_type": "stream",
     "text": [
      "<ipython-input-61-77dee5e93da6>:14: FutureWarning: The frame.append method is deprecated and will be removed from pandas in a future version. Use pandas.concat instead.\n",
      "  df = df.append(table[1].dropna())\n",
      "<ipython-input-61-77dee5e93da6>:14: FutureWarning: The frame.append method is deprecated and will be removed from pandas in a future version. Use pandas.concat instead.\n",
      "  df = df.append(table[1].dropna())\n"
     ]
    },
    {
     "name": "stdout",
     "output_type": "stream",
     "text": [
      "https://finance.naver.com/world/sise.naver?symbol=NAS@IXIC#&page=32\n",
      "https://finance.naver.com/world/sise.naver?symbol=NAS@IXIC#&page=33\n"
     ]
    },
    {
     "name": "stderr",
     "output_type": "stream",
     "text": [
      "<ipython-input-61-77dee5e93da6>:14: FutureWarning: The frame.append method is deprecated and will be removed from pandas in a future version. Use pandas.concat instead.\n",
      "  df = df.append(table[1].dropna())\n",
      "<ipython-input-61-77dee5e93da6>:14: FutureWarning: The frame.append method is deprecated and will be removed from pandas in a future version. Use pandas.concat instead.\n",
      "  df = df.append(table[1].dropna())\n"
     ]
    },
    {
     "name": "stdout",
     "output_type": "stream",
     "text": [
      "https://finance.naver.com/world/sise.naver?symbol=NAS@IXIC#&page=34\n",
      "https://finance.naver.com/world/sise.naver?symbol=NAS@IXIC#&page=35\n"
     ]
    },
    {
     "name": "stderr",
     "output_type": "stream",
     "text": [
      "<ipython-input-61-77dee5e93da6>:14: FutureWarning: The frame.append method is deprecated and will be removed from pandas in a future version. Use pandas.concat instead.\n",
      "  df = df.append(table[1].dropna())\n",
      "<ipython-input-61-77dee5e93da6>:14: FutureWarning: The frame.append method is deprecated and will be removed from pandas in a future version. Use pandas.concat instead.\n",
      "  df = df.append(table[1].dropna())\n"
     ]
    },
    {
     "name": "stdout",
     "output_type": "stream",
     "text": [
      "https://finance.naver.com/world/sise.naver?symbol=NAS@IXIC#&page=36\n",
      "https://finance.naver.com/world/sise.naver?symbol=NAS@IXIC#&page=37\n"
     ]
    },
    {
     "name": "stderr",
     "output_type": "stream",
     "text": [
      "<ipython-input-61-77dee5e93da6>:14: FutureWarning: The frame.append method is deprecated and will be removed from pandas in a future version. Use pandas.concat instead.\n",
      "  df = df.append(table[1].dropna())\n",
      "<ipython-input-61-77dee5e93da6>:14: FutureWarning: The frame.append method is deprecated and will be removed from pandas in a future version. Use pandas.concat instead.\n",
      "  df = df.append(table[1].dropna())\n"
     ]
    },
    {
     "name": "stdout",
     "output_type": "stream",
     "text": [
      "https://finance.naver.com/world/sise.naver?symbol=NAS@IXIC#&page=38\n",
      "https://finance.naver.com/world/sise.naver?symbol=NAS@IXIC#&page=39\n"
     ]
    },
    {
     "name": "stderr",
     "output_type": "stream",
     "text": [
      "<ipython-input-61-77dee5e93da6>:14: FutureWarning: The frame.append method is deprecated and will be removed from pandas in a future version. Use pandas.concat instead.\n",
      "  df = df.append(table[1].dropna())\n",
      "<ipython-input-61-77dee5e93da6>:14: FutureWarning: The frame.append method is deprecated and will be removed from pandas in a future version. Use pandas.concat instead.\n",
      "  df = df.append(table[1].dropna())\n"
     ]
    },
    {
     "name": "stdout",
     "output_type": "stream",
     "text": [
      "https://finance.naver.com/world/sise.naver?symbol=NAS@IXIC#&page=40\n",
      "https://finance.naver.com/world/sise.naver?symbol=NAS@IXIC#&page=41\n"
     ]
    },
    {
     "name": "stderr",
     "output_type": "stream",
     "text": [
      "<ipython-input-61-77dee5e93da6>:14: FutureWarning: The frame.append method is deprecated and will be removed from pandas in a future version. Use pandas.concat instead.\n",
      "  df = df.append(table[1].dropna())\n",
      "<ipython-input-61-77dee5e93da6>:14: FutureWarning: The frame.append method is deprecated and will be removed from pandas in a future version. Use pandas.concat instead.\n",
      "  df = df.append(table[1].dropna())\n"
     ]
    },
    {
     "name": "stdout",
     "output_type": "stream",
     "text": [
      "https://finance.naver.com/world/sise.naver?symbol=NAS@IXIC#&page=42\n",
      "https://finance.naver.com/world/sise.naver?symbol=NAS@IXIC#&page=43\n"
     ]
    },
    {
     "name": "stderr",
     "output_type": "stream",
     "text": [
      "<ipython-input-61-77dee5e93da6>:14: FutureWarning: The frame.append method is deprecated and will be removed from pandas in a future version. Use pandas.concat instead.\n",
      "  df = df.append(table[1].dropna())\n",
      "<ipython-input-61-77dee5e93da6>:14: FutureWarning: The frame.append method is deprecated and will be removed from pandas in a future version. Use pandas.concat instead.\n",
      "  df = df.append(table[1].dropna())\n"
     ]
    },
    {
     "name": "stdout",
     "output_type": "stream",
     "text": [
      "https://finance.naver.com/world/sise.naver?symbol=NAS@IXIC#&page=44\n",
      "https://finance.naver.com/world/sise.naver?symbol=NAS@IXIC#&page=45\n"
     ]
    },
    {
     "name": "stderr",
     "output_type": "stream",
     "text": [
      "<ipython-input-61-77dee5e93da6>:14: FutureWarning: The frame.append method is deprecated and will be removed from pandas in a future version. Use pandas.concat instead.\n",
      "  df = df.append(table[1].dropna())\n",
      "<ipython-input-61-77dee5e93da6>:14: FutureWarning: The frame.append method is deprecated and will be removed from pandas in a future version. Use pandas.concat instead.\n",
      "  df = df.append(table[1].dropna())\n"
     ]
    },
    {
     "name": "stdout",
     "output_type": "stream",
     "text": [
      "https://finance.naver.com/world/sise.naver?symbol=NAS@IXIC#&page=46\n",
      "https://finance.naver.com/world/sise.naver?symbol=NAS@IXIC#&page=47\n"
     ]
    },
    {
     "name": "stderr",
     "output_type": "stream",
     "text": [
      "<ipython-input-61-77dee5e93da6>:14: FutureWarning: The frame.append method is deprecated and will be removed from pandas in a future version. Use pandas.concat instead.\n",
      "  df = df.append(table[1].dropna())\n",
      "<ipython-input-61-77dee5e93da6>:14: FutureWarning: The frame.append method is deprecated and will be removed from pandas in a future version. Use pandas.concat instead.\n",
      "  df = df.append(table[1].dropna())\n"
     ]
    },
    {
     "name": "stdout",
     "output_type": "stream",
     "text": [
      "https://finance.naver.com/world/sise.naver?symbol=NAS@IXIC#&page=48\n",
      "https://finance.naver.com/world/sise.naver?symbol=NAS@IXIC#&page=49\n"
     ]
    },
    {
     "name": "stderr",
     "output_type": "stream",
     "text": [
      "<ipython-input-61-77dee5e93da6>:14: FutureWarning: The frame.append method is deprecated and will be removed from pandas in a future version. Use pandas.concat instead.\n",
      "  df = df.append(table[1].dropna())\n",
      "<ipython-input-61-77dee5e93da6>:14: FutureWarning: The frame.append method is deprecated and will be removed from pandas in a future version. Use pandas.concat instead.\n",
      "  df = df.append(table[1].dropna())\n"
     ]
    },
    {
     "name": "stdout",
     "output_type": "stream",
     "text": [
      "https://finance.naver.com/world/sise.naver?symbol=NAS@IXIC#&page=50\n",
      "https://finance.naver.com/world/sise.naver?symbol=NAS@IXIC#&page=51\n"
     ]
    },
    {
     "name": "stderr",
     "output_type": "stream",
     "text": [
      "<ipython-input-61-77dee5e93da6>:14: FutureWarning: The frame.append method is deprecated and will be removed from pandas in a future version. Use pandas.concat instead.\n",
      "  df = df.append(table[1].dropna())\n",
      "<ipython-input-61-77dee5e93da6>:14: FutureWarning: The frame.append method is deprecated and will be removed from pandas in a future version. Use pandas.concat instead.\n",
      "  df = df.append(table[1].dropna())\n"
     ]
    },
    {
     "name": "stdout",
     "output_type": "stream",
     "text": [
      "https://finance.naver.com/world/sise.naver?symbol=NAS@IXIC#&page=52\n",
      "https://finance.naver.com/world/sise.naver?symbol=NAS@IXIC#&page=53\n"
     ]
    },
    {
     "name": "stderr",
     "output_type": "stream",
     "text": [
      "<ipython-input-61-77dee5e93da6>:14: FutureWarning: The frame.append method is deprecated and will be removed from pandas in a future version. Use pandas.concat instead.\n",
      "  df = df.append(table[1].dropna())\n",
      "<ipython-input-61-77dee5e93da6>:14: FutureWarning: The frame.append method is deprecated and will be removed from pandas in a future version. Use pandas.concat instead.\n",
      "  df = df.append(table[1].dropna())\n"
     ]
    },
    {
     "name": "stdout",
     "output_type": "stream",
     "text": [
      "https://finance.naver.com/world/sise.naver?symbol=NAS@IXIC#&page=54\n",
      "https://finance.naver.com/world/sise.naver?symbol=NAS@IXIC#&page=55\n"
     ]
    },
    {
     "name": "stderr",
     "output_type": "stream",
     "text": [
      "<ipython-input-61-77dee5e93da6>:14: FutureWarning: The frame.append method is deprecated and will be removed from pandas in a future version. Use pandas.concat instead.\n",
      "  df = df.append(table[1].dropna())\n",
      "<ipython-input-61-77dee5e93da6>:14: FutureWarning: The frame.append method is deprecated and will be removed from pandas in a future version. Use pandas.concat instead.\n",
      "  df = df.append(table[1].dropna())\n"
     ]
    },
    {
     "name": "stdout",
     "output_type": "stream",
     "text": [
      "https://finance.naver.com/world/sise.naver?symbol=NAS@IXIC#&page=56\n",
      "https://finance.naver.com/world/sise.naver?symbol=NAS@IXIC#&page=57\n"
     ]
    },
    {
     "name": "stderr",
     "output_type": "stream",
     "text": [
      "<ipython-input-61-77dee5e93da6>:14: FutureWarning: The frame.append method is deprecated and will be removed from pandas in a future version. Use pandas.concat instead.\n",
      "  df = df.append(table[1].dropna())\n",
      "<ipython-input-61-77dee5e93da6>:14: FutureWarning: The frame.append method is deprecated and will be removed from pandas in a future version. Use pandas.concat instead.\n",
      "  df = df.append(table[1].dropna())\n"
     ]
    },
    {
     "name": "stdout",
     "output_type": "stream",
     "text": [
      "https://finance.naver.com/world/sise.naver?symbol=NAS@IXIC#&page=58\n",
      "https://finance.naver.com/world/sise.naver?symbol=NAS@IXIC#&page=59\n"
     ]
    },
    {
     "name": "stderr",
     "output_type": "stream",
     "text": [
      "<ipython-input-61-77dee5e93da6>:14: FutureWarning: The frame.append method is deprecated and will be removed from pandas in a future version. Use pandas.concat instead.\n",
      "  df = df.append(table[1].dropna())\n",
      "<ipython-input-61-77dee5e93da6>:14: FutureWarning: The frame.append method is deprecated and will be removed from pandas in a future version. Use pandas.concat instead.\n",
      "  df = df.append(table[1].dropna())\n"
     ]
    },
    {
     "name": "stdout",
     "output_type": "stream",
     "text": [
      "https://finance.naver.com/world/sise.naver?symbol=NAS@IXIC#&page=60\n",
      "https://finance.naver.com/world/sise.naver?symbol=NAS@IXIC#&page=61\n"
     ]
    },
    {
     "name": "stderr",
     "output_type": "stream",
     "text": [
      "<ipython-input-61-77dee5e93da6>:14: FutureWarning: The frame.append method is deprecated and will be removed from pandas in a future version. Use pandas.concat instead.\n",
      "  df = df.append(table[1].dropna())\n",
      "<ipython-input-61-77dee5e93da6>:14: FutureWarning: The frame.append method is deprecated and will be removed from pandas in a future version. Use pandas.concat instead.\n",
      "  df = df.append(table[1].dropna())\n"
     ]
    },
    {
     "name": "stdout",
     "output_type": "stream",
     "text": [
      "https://finance.naver.com/world/sise.naver?symbol=NAS@IXIC#&page=62\n",
      "https://finance.naver.com/world/sise.naver?symbol=NAS@IXIC#&page=63\n"
     ]
    },
    {
     "name": "stderr",
     "output_type": "stream",
     "text": [
      "<ipython-input-61-77dee5e93da6>:14: FutureWarning: The frame.append method is deprecated and will be removed from pandas in a future version. Use pandas.concat instead.\n",
      "  df = df.append(table[1].dropna())\n",
      "<ipython-input-61-77dee5e93da6>:14: FutureWarning: The frame.append method is deprecated and will be removed from pandas in a future version. Use pandas.concat instead.\n",
      "  df = df.append(table[1].dropna())\n"
     ]
    },
    {
     "name": "stdout",
     "output_type": "stream",
     "text": [
      "https://finance.naver.com/world/sise.naver?symbol=NAS@IXIC#&page=64\n",
      "https://finance.naver.com/world/sise.naver?symbol=NAS@IXIC#&page=65\n"
     ]
    },
    {
     "name": "stderr",
     "output_type": "stream",
     "text": [
      "<ipython-input-61-77dee5e93da6>:14: FutureWarning: The frame.append method is deprecated and will be removed from pandas in a future version. Use pandas.concat instead.\n",
      "  df = df.append(table[1].dropna())\n",
      "<ipython-input-61-77dee5e93da6>:14: FutureWarning: The frame.append method is deprecated and will be removed from pandas in a future version. Use pandas.concat instead.\n",
      "  df = df.append(table[1].dropna())\n"
     ]
    },
    {
     "name": "stdout",
     "output_type": "stream",
     "text": [
      "https://finance.naver.com/world/sise.naver?symbol=NAS@IXIC#&page=66\n",
      "https://finance.naver.com/world/sise.naver?symbol=NAS@IXIC#&page=67\n"
     ]
    },
    {
     "name": "stderr",
     "output_type": "stream",
     "text": [
      "<ipython-input-61-77dee5e93da6>:14: FutureWarning: The frame.append method is deprecated and will be removed from pandas in a future version. Use pandas.concat instead.\n",
      "  df = df.append(table[1].dropna())\n",
      "<ipython-input-61-77dee5e93da6>:14: FutureWarning: The frame.append method is deprecated and will be removed from pandas in a future version. Use pandas.concat instead.\n",
      "  df = df.append(table[1].dropna())\n"
     ]
    },
    {
     "name": "stdout",
     "output_type": "stream",
     "text": [
      "https://finance.naver.com/world/sise.naver?symbol=NAS@IXIC#&page=68\n",
      "https://finance.naver.com/world/sise.naver?symbol=NAS@IXIC#&page=69\n"
     ]
    },
    {
     "name": "stderr",
     "output_type": "stream",
     "text": [
      "<ipython-input-61-77dee5e93da6>:14: FutureWarning: The frame.append method is deprecated and will be removed from pandas in a future version. Use pandas.concat instead.\n",
      "  df = df.append(table[1].dropna())\n",
      "<ipython-input-61-77dee5e93da6>:14: FutureWarning: The frame.append method is deprecated and will be removed from pandas in a future version. Use pandas.concat instead.\n",
      "  df = df.append(table[1].dropna())\n"
     ]
    },
    {
     "name": "stdout",
     "output_type": "stream",
     "text": [
      "https://finance.naver.com/world/sise.naver?symbol=NAS@IXIC#&page=70\n",
      "https://finance.naver.com/world/sise.naver?symbol=NAS@IXIC#&page=71\n"
     ]
    },
    {
     "name": "stderr",
     "output_type": "stream",
     "text": [
      "<ipython-input-61-77dee5e93da6>:14: FutureWarning: The frame.append method is deprecated and will be removed from pandas in a future version. Use pandas.concat instead.\n",
      "  df = df.append(table[1].dropna())\n",
      "<ipython-input-61-77dee5e93da6>:14: FutureWarning: The frame.append method is deprecated and will be removed from pandas in a future version. Use pandas.concat instead.\n",
      "  df = df.append(table[1].dropna())\n"
     ]
    },
    {
     "name": "stdout",
     "output_type": "stream",
     "text": [
      "https://finance.naver.com/world/sise.naver?symbol=NAS@IXIC#&page=72\n",
      "https://finance.naver.com/world/sise.naver?symbol=NAS@IXIC#&page=73\n"
     ]
    },
    {
     "name": "stderr",
     "output_type": "stream",
     "text": [
      "<ipython-input-61-77dee5e93da6>:14: FutureWarning: The frame.append method is deprecated and will be removed from pandas in a future version. Use pandas.concat instead.\n",
      "  df = df.append(table[1].dropna())\n",
      "<ipython-input-61-77dee5e93da6>:14: FutureWarning: The frame.append method is deprecated and will be removed from pandas in a future version. Use pandas.concat instead.\n",
      "  df = df.append(table[1].dropna())\n"
     ]
    },
    {
     "name": "stdout",
     "output_type": "stream",
     "text": [
      "https://finance.naver.com/world/sise.naver?symbol=NAS@IXIC#&page=74\n",
      "https://finance.naver.com/world/sise.naver?symbol=NAS@IXIC#&page=75\n"
     ]
    },
    {
     "name": "stderr",
     "output_type": "stream",
     "text": [
      "<ipython-input-61-77dee5e93da6>:14: FutureWarning: The frame.append method is deprecated and will be removed from pandas in a future version. Use pandas.concat instead.\n",
      "  df = df.append(table[1].dropna())\n",
      "<ipython-input-61-77dee5e93da6>:14: FutureWarning: The frame.append method is deprecated and will be removed from pandas in a future version. Use pandas.concat instead.\n",
      "  df = df.append(table[1].dropna())\n"
     ]
    },
    {
     "name": "stdout",
     "output_type": "stream",
     "text": [
      "https://finance.naver.com/world/sise.naver?symbol=NAS@IXIC#&page=76\n",
      "https://finance.naver.com/world/sise.naver?symbol=NAS@IXIC#&page=77\n"
     ]
    },
    {
     "name": "stderr",
     "output_type": "stream",
     "text": [
      "<ipython-input-61-77dee5e93da6>:14: FutureWarning: The frame.append method is deprecated and will be removed from pandas in a future version. Use pandas.concat instead.\n",
      "  df = df.append(table[1].dropna())\n",
      "<ipython-input-61-77dee5e93da6>:14: FutureWarning: The frame.append method is deprecated and will be removed from pandas in a future version. Use pandas.concat instead.\n",
      "  df = df.append(table[1].dropna())\n"
     ]
    },
    {
     "name": "stdout",
     "output_type": "stream",
     "text": [
      "https://finance.naver.com/world/sise.naver?symbol=NAS@IXIC#&page=78\n",
      "https://finance.naver.com/world/sise.naver?symbol=NAS@IXIC#&page=79\n"
     ]
    },
    {
     "name": "stderr",
     "output_type": "stream",
     "text": [
      "<ipython-input-61-77dee5e93da6>:14: FutureWarning: The frame.append method is deprecated and will be removed from pandas in a future version. Use pandas.concat instead.\n",
      "  df = df.append(table[1].dropna())\n",
      "<ipython-input-61-77dee5e93da6>:14: FutureWarning: The frame.append method is deprecated and will be removed from pandas in a future version. Use pandas.concat instead.\n",
      "  df = df.append(table[1].dropna())\n"
     ]
    },
    {
     "name": "stdout",
     "output_type": "stream",
     "text": [
      "https://finance.naver.com/world/sise.naver?symbol=NAS@IXIC#&page=80\n",
      "https://finance.naver.com/world/sise.naver?symbol=NAS@IXIC#&page=81\n"
     ]
    },
    {
     "name": "stderr",
     "output_type": "stream",
     "text": [
      "<ipython-input-61-77dee5e93da6>:14: FutureWarning: The frame.append method is deprecated and will be removed from pandas in a future version. Use pandas.concat instead.\n",
      "  df = df.append(table[1].dropna())\n",
      "<ipython-input-61-77dee5e93da6>:14: FutureWarning: The frame.append method is deprecated and will be removed from pandas in a future version. Use pandas.concat instead.\n",
      "  df = df.append(table[1].dropna())\n"
     ]
    },
    {
     "name": "stdout",
     "output_type": "stream",
     "text": [
      "https://finance.naver.com/world/sise.naver?symbol=NAS@IXIC#&page=82\n",
      "https://finance.naver.com/world/sise.naver?symbol=NAS@IXIC#&page=83\n"
     ]
    },
    {
     "name": "stderr",
     "output_type": "stream",
     "text": [
      "<ipython-input-61-77dee5e93da6>:14: FutureWarning: The frame.append method is deprecated and will be removed from pandas in a future version. Use pandas.concat instead.\n",
      "  df = df.append(table[1].dropna())\n",
      "<ipython-input-61-77dee5e93da6>:14: FutureWarning: The frame.append method is deprecated and will be removed from pandas in a future version. Use pandas.concat instead.\n",
      "  df = df.append(table[1].dropna())\n"
     ]
    },
    {
     "name": "stdout",
     "output_type": "stream",
     "text": [
      "https://finance.naver.com/world/sise.naver?symbol=NAS@IXIC#&page=84\n",
      "https://finance.naver.com/world/sise.naver?symbol=NAS@IXIC#&page=85\n"
     ]
    },
    {
     "name": "stderr",
     "output_type": "stream",
     "text": [
      "<ipython-input-61-77dee5e93da6>:14: FutureWarning: The frame.append method is deprecated and will be removed from pandas in a future version. Use pandas.concat instead.\n",
      "  df = df.append(table[1].dropna())\n",
      "<ipython-input-61-77dee5e93da6>:14: FutureWarning: The frame.append method is deprecated and will be removed from pandas in a future version. Use pandas.concat instead.\n",
      "  df = df.append(table[1].dropna())\n"
     ]
    },
    {
     "name": "stdout",
     "output_type": "stream",
     "text": [
      "https://finance.naver.com/world/sise.naver?symbol=NAS@IXIC#&page=86\n",
      "https://finance.naver.com/world/sise.naver?symbol=NAS@IXIC#&page=87\n"
     ]
    },
    {
     "name": "stderr",
     "output_type": "stream",
     "text": [
      "<ipython-input-61-77dee5e93da6>:14: FutureWarning: The frame.append method is deprecated and will be removed from pandas in a future version. Use pandas.concat instead.\n",
      "  df = df.append(table[1].dropna())\n",
      "<ipython-input-61-77dee5e93da6>:14: FutureWarning: The frame.append method is deprecated and will be removed from pandas in a future version. Use pandas.concat instead.\n",
      "  df = df.append(table[1].dropna())\n"
     ]
    },
    {
     "name": "stdout",
     "output_type": "stream",
     "text": [
      "https://finance.naver.com/world/sise.naver?symbol=NAS@IXIC#&page=88\n",
      "https://finance.naver.com/world/sise.naver?symbol=NAS@IXIC#&page=89\n"
     ]
    },
    {
     "name": "stderr",
     "output_type": "stream",
     "text": [
      "<ipython-input-61-77dee5e93da6>:14: FutureWarning: The frame.append method is deprecated and will be removed from pandas in a future version. Use pandas.concat instead.\n",
      "  df = df.append(table[1].dropna())\n",
      "<ipython-input-61-77dee5e93da6>:14: FutureWarning: The frame.append method is deprecated and will be removed from pandas in a future version. Use pandas.concat instead.\n",
      "  df = df.append(table[1].dropna())\n"
     ]
    },
    {
     "name": "stdout",
     "output_type": "stream",
     "text": [
      "https://finance.naver.com/world/sise.naver?symbol=NAS@IXIC#&page=90\n",
      "https://finance.naver.com/world/sise.naver?symbol=NAS@IXIC#&page=91\n"
     ]
    },
    {
     "name": "stderr",
     "output_type": "stream",
     "text": [
      "<ipython-input-61-77dee5e93da6>:14: FutureWarning: The frame.append method is deprecated and will be removed from pandas in a future version. Use pandas.concat instead.\n",
      "  df = df.append(table[1].dropna())\n",
      "<ipython-input-61-77dee5e93da6>:14: FutureWarning: The frame.append method is deprecated and will be removed from pandas in a future version. Use pandas.concat instead.\n",
      "  df = df.append(table[1].dropna())\n"
     ]
    },
    {
     "name": "stdout",
     "output_type": "stream",
     "text": [
      "https://finance.naver.com/world/sise.naver?symbol=NAS@IXIC#&page=92\n",
      "https://finance.naver.com/world/sise.naver?symbol=NAS@IXIC#&page=93\n"
     ]
    },
    {
     "name": "stderr",
     "output_type": "stream",
     "text": [
      "<ipython-input-61-77dee5e93da6>:14: FutureWarning: The frame.append method is deprecated and will be removed from pandas in a future version. Use pandas.concat instead.\n",
      "  df = df.append(table[1].dropna())\n",
      "<ipython-input-61-77dee5e93da6>:14: FutureWarning: The frame.append method is deprecated and will be removed from pandas in a future version. Use pandas.concat instead.\n",
      "  df = df.append(table[1].dropna())\n"
     ]
    },
    {
     "name": "stdout",
     "output_type": "stream",
     "text": [
      "https://finance.naver.com/world/sise.naver?symbol=NAS@IXIC#&page=94\n",
      "https://finance.naver.com/world/sise.naver?symbol=NAS@IXIC#&page=95\n"
     ]
    },
    {
     "name": "stderr",
     "output_type": "stream",
     "text": [
      "<ipython-input-61-77dee5e93da6>:14: FutureWarning: The frame.append method is deprecated and will be removed from pandas in a future version. Use pandas.concat instead.\n",
      "  df = df.append(table[1].dropna())\n",
      "<ipython-input-61-77dee5e93da6>:14: FutureWarning: The frame.append method is deprecated and will be removed from pandas in a future version. Use pandas.concat instead.\n",
      "  df = df.append(table[1].dropna())\n"
     ]
    },
    {
     "name": "stdout",
     "output_type": "stream",
     "text": [
      "https://finance.naver.com/world/sise.naver?symbol=NAS@IXIC#&page=96\n",
      "https://finance.naver.com/world/sise.naver?symbol=NAS@IXIC#&page=97\n"
     ]
    },
    {
     "name": "stderr",
     "output_type": "stream",
     "text": [
      "<ipython-input-61-77dee5e93da6>:14: FutureWarning: The frame.append method is deprecated and will be removed from pandas in a future version. Use pandas.concat instead.\n",
      "  df = df.append(table[1].dropna())\n",
      "<ipython-input-61-77dee5e93da6>:14: FutureWarning: The frame.append method is deprecated and will be removed from pandas in a future version. Use pandas.concat instead.\n",
      "  df = df.append(table[1].dropna())\n"
     ]
    },
    {
     "name": "stdout",
     "output_type": "stream",
     "text": [
      "https://finance.naver.com/world/sise.naver?symbol=NAS@IXIC#&page=98\n",
      "https://finance.naver.com/world/sise.naver?symbol=NAS@IXIC#&page=99\n"
     ]
    },
    {
     "name": "stderr",
     "output_type": "stream",
     "text": [
      "<ipython-input-61-77dee5e93da6>:14: FutureWarning: The frame.append method is deprecated and will be removed from pandas in a future version. Use pandas.concat instead.\n",
      "  df = df.append(table[1].dropna())\n",
      "<ipython-input-61-77dee5e93da6>:14: FutureWarning: The frame.append method is deprecated and will be removed from pandas in a future version. Use pandas.concat instead.\n",
      "  df = df.append(table[1].dropna())\n"
     ]
    },
    {
     "name": "stdout",
     "output_type": "stream",
     "text": [
      "https://finance.naver.com/world/sise.naver?symbol=NAS@IXIC#&page=100\n",
      "https://finance.naver.com/world/sise.naver?symbol=NAS@IXIC#&page=101\n"
     ]
    },
    {
     "name": "stderr",
     "output_type": "stream",
     "text": [
      "<ipython-input-61-77dee5e93da6>:14: FutureWarning: The frame.append method is deprecated and will be removed from pandas in a future version. Use pandas.concat instead.\n",
      "  df = df.append(table[1].dropna())\n",
      "<ipython-input-61-77dee5e93da6>:14: FutureWarning: The frame.append method is deprecated and will be removed from pandas in a future version. Use pandas.concat instead.\n",
      "  df = df.append(table[1].dropna())\n"
     ]
    },
    {
     "name": "stdout",
     "output_type": "stream",
     "text": [
      "https://finance.naver.com/world/sise.naver?symbol=NAS@IXIC#&page=102\n",
      "https://finance.naver.com/world/sise.naver?symbol=NAS@IXIC#&page=103\n"
     ]
    },
    {
     "name": "stderr",
     "output_type": "stream",
     "text": [
      "<ipython-input-61-77dee5e93da6>:14: FutureWarning: The frame.append method is deprecated and will be removed from pandas in a future version. Use pandas.concat instead.\n",
      "  df = df.append(table[1].dropna())\n",
      "<ipython-input-61-77dee5e93da6>:14: FutureWarning: The frame.append method is deprecated and will be removed from pandas in a future version. Use pandas.concat instead.\n",
      "  df = df.append(table[1].dropna())\n"
     ]
    },
    {
     "name": "stdout",
     "output_type": "stream",
     "text": [
      "https://finance.naver.com/world/sise.naver?symbol=NAS@IXIC#&page=104\n",
      "https://finance.naver.com/world/sise.naver?symbol=NAS@IXIC#&page=105\n"
     ]
    },
    {
     "name": "stderr",
     "output_type": "stream",
     "text": [
      "<ipython-input-61-77dee5e93da6>:14: FutureWarning: The frame.append method is deprecated and will be removed from pandas in a future version. Use pandas.concat instead.\n",
      "  df = df.append(table[1].dropna())\n",
      "<ipython-input-61-77dee5e93da6>:14: FutureWarning: The frame.append method is deprecated and will be removed from pandas in a future version. Use pandas.concat instead.\n",
      "  df = df.append(table[1].dropna())\n"
     ]
    },
    {
     "name": "stdout",
     "output_type": "stream",
     "text": [
      "https://finance.naver.com/world/sise.naver?symbol=NAS@IXIC#&page=106\n",
      "https://finance.naver.com/world/sise.naver?symbol=NAS@IXIC#&page=107\n"
     ]
    },
    {
     "name": "stderr",
     "output_type": "stream",
     "text": [
      "<ipython-input-61-77dee5e93da6>:14: FutureWarning: The frame.append method is deprecated and will be removed from pandas in a future version. Use pandas.concat instead.\n",
      "  df = df.append(table[1].dropna())\n",
      "<ipython-input-61-77dee5e93da6>:14: FutureWarning: The frame.append method is deprecated and will be removed from pandas in a future version. Use pandas.concat instead.\n",
      "  df = df.append(table[1].dropna())\n"
     ]
    },
    {
     "name": "stdout",
     "output_type": "stream",
     "text": [
      "https://finance.naver.com/world/sise.naver?symbol=NAS@IXIC#&page=108\n",
      "https://finance.naver.com/world/sise.naver?symbol=NAS@IXIC#&page=109\n"
     ]
    },
    {
     "name": "stderr",
     "output_type": "stream",
     "text": [
      "<ipython-input-61-77dee5e93da6>:14: FutureWarning: The frame.append method is deprecated and will be removed from pandas in a future version. Use pandas.concat instead.\n",
      "  df = df.append(table[1].dropna())\n",
      "<ipython-input-61-77dee5e93da6>:14: FutureWarning: The frame.append method is deprecated and will be removed from pandas in a future version. Use pandas.concat instead.\n",
      "  df = df.append(table[1].dropna())\n"
     ]
    },
    {
     "name": "stdout",
     "output_type": "stream",
     "text": [
      "https://finance.naver.com/world/sise.naver?symbol=NAS@IXIC#&page=110\n",
      "https://finance.naver.com/world/sise.naver?symbol=NAS@IXIC#&page=111\n"
     ]
    },
    {
     "name": "stderr",
     "output_type": "stream",
     "text": [
      "<ipython-input-61-77dee5e93da6>:14: FutureWarning: The frame.append method is deprecated and will be removed from pandas in a future version. Use pandas.concat instead.\n",
      "  df = df.append(table[1].dropna())\n",
      "<ipython-input-61-77dee5e93da6>:14: FutureWarning: The frame.append method is deprecated and will be removed from pandas in a future version. Use pandas.concat instead.\n",
      "  df = df.append(table[1].dropna())\n"
     ]
    },
    {
     "name": "stdout",
     "output_type": "stream",
     "text": [
      "https://finance.naver.com/world/sise.naver?symbol=NAS@IXIC#&page=112\n",
      "https://finance.naver.com/world/sise.naver?symbol=NAS@IXIC#&page=113\n"
     ]
    },
    {
     "name": "stderr",
     "output_type": "stream",
     "text": [
      "<ipython-input-61-77dee5e93da6>:14: FutureWarning: The frame.append method is deprecated and will be removed from pandas in a future version. Use pandas.concat instead.\n",
      "  df = df.append(table[1].dropna())\n",
      "<ipython-input-61-77dee5e93da6>:14: FutureWarning: The frame.append method is deprecated and will be removed from pandas in a future version. Use pandas.concat instead.\n",
      "  df = df.append(table[1].dropna())\n"
     ]
    },
    {
     "name": "stdout",
     "output_type": "stream",
     "text": [
      "https://finance.naver.com/world/sise.naver?symbol=NAS@IXIC#&page=114\n",
      "https://finance.naver.com/world/sise.naver?symbol=NAS@IXIC#&page=115\n"
     ]
    },
    {
     "name": "stderr",
     "output_type": "stream",
     "text": [
      "<ipython-input-61-77dee5e93da6>:14: FutureWarning: The frame.append method is deprecated and will be removed from pandas in a future version. Use pandas.concat instead.\n",
      "  df = df.append(table[1].dropna())\n"
     ]
    },
    {
     "name": "stdout",
     "output_type": "stream",
     "text": [
      "https://finance.naver.com/world/sise.naver?symbol=NAS@IXIC#&page=116\n"
     ]
    },
    {
     "name": "stderr",
     "output_type": "stream",
     "text": [
      "<ipython-input-61-77dee5e93da6>:14: FutureWarning: The frame.append method is deprecated and will be removed from pandas in a future version. Use pandas.concat instead.\n",
      "  df = df.append(table[1].dropna())\n",
      "<ipython-input-61-77dee5e93da6>:14: FutureWarning: The frame.append method is deprecated and will be removed from pandas in a future version. Use pandas.concat instead.\n",
      "  df = df.append(table[1].dropna())\n"
     ]
    },
    {
     "name": "stdout",
     "output_type": "stream",
     "text": [
      "https://finance.naver.com/world/sise.naver?symbol=NAS@IXIC#&page=117\n",
      "https://finance.naver.com/world/sise.naver?symbol=NAS@IXIC#&page=118\n"
     ]
    },
    {
     "name": "stderr",
     "output_type": "stream",
     "text": [
      "<ipython-input-61-77dee5e93da6>:14: FutureWarning: The frame.append method is deprecated and will be removed from pandas in a future version. Use pandas.concat instead.\n",
      "  df = df.append(table[1].dropna())\n",
      "<ipython-input-61-77dee5e93da6>:14: FutureWarning: The frame.append method is deprecated and will be removed from pandas in a future version. Use pandas.concat instead.\n",
      "  df = df.append(table[1].dropna())\n"
     ]
    },
    {
     "name": "stdout",
     "output_type": "stream",
     "text": [
      "https://finance.naver.com/world/sise.naver?symbol=NAS@IXIC#&page=119\n",
      "https://finance.naver.com/world/sise.naver?symbol=NAS@IXIC#&page=120\n"
     ]
    },
    {
     "name": "stderr",
     "output_type": "stream",
     "text": [
      "<ipython-input-61-77dee5e93da6>:14: FutureWarning: The frame.append method is deprecated and will be removed from pandas in a future version. Use pandas.concat instead.\n",
      "  df = df.append(table[1].dropna())\n",
      "<ipython-input-61-77dee5e93da6>:14: FutureWarning: The frame.append method is deprecated and will be removed from pandas in a future version. Use pandas.concat instead.\n",
      "  df = df.append(table[1].dropna())\n"
     ]
    },
    {
     "name": "stdout",
     "output_type": "stream",
     "text": [
      "https://finance.naver.com/world/sise.naver?symbol=NAS@IXIC#&page=121\n",
      "https://finance.naver.com/world/sise.naver?symbol=NAS@IXIC#&page=122\n"
     ]
    },
    {
     "name": "stderr",
     "output_type": "stream",
     "text": [
      "<ipython-input-61-77dee5e93da6>:14: FutureWarning: The frame.append method is deprecated and will be removed from pandas in a future version. Use pandas.concat instead.\n",
      "  df = df.append(table[1].dropna())\n",
      "<ipython-input-61-77dee5e93da6>:14: FutureWarning: The frame.append method is deprecated and will be removed from pandas in a future version. Use pandas.concat instead.\n",
      "  df = df.append(table[1].dropna())\n"
     ]
    },
    {
     "name": "stdout",
     "output_type": "stream",
     "text": [
      "https://finance.naver.com/world/sise.naver?symbol=NAS@IXIC#&page=123\n",
      "https://finance.naver.com/world/sise.naver?symbol=NAS@IXIC#&page=124\n"
     ]
    },
    {
     "name": "stderr",
     "output_type": "stream",
     "text": [
      "<ipython-input-61-77dee5e93da6>:14: FutureWarning: The frame.append method is deprecated and will be removed from pandas in a future version. Use pandas.concat instead.\n",
      "  df = df.append(table[1].dropna())\n",
      "<ipython-input-61-77dee5e93da6>:14: FutureWarning: The frame.append method is deprecated and will be removed from pandas in a future version. Use pandas.concat instead.\n",
      "  df = df.append(table[1].dropna())\n"
     ]
    },
    {
     "name": "stdout",
     "output_type": "stream",
     "text": [
      "https://finance.naver.com/world/sise.naver?symbol=NAS@IXIC#&page=125\n",
      "https://finance.naver.com/world/sise.naver?symbol=NAS@IXIC#&page=126\n"
     ]
    },
    {
     "name": "stderr",
     "output_type": "stream",
     "text": [
      "<ipython-input-61-77dee5e93da6>:14: FutureWarning: The frame.append method is deprecated and will be removed from pandas in a future version. Use pandas.concat instead.\n",
      "  df = df.append(table[1].dropna())\n",
      "<ipython-input-61-77dee5e93da6>:14: FutureWarning: The frame.append method is deprecated and will be removed from pandas in a future version. Use pandas.concat instead.\n",
      "  df = df.append(table[1].dropna())\n"
     ]
    },
    {
     "name": "stdout",
     "output_type": "stream",
     "text": [
      "https://finance.naver.com/world/sise.naver?symbol=NAS@IXIC#&page=127\n",
      "https://finance.naver.com/world/sise.naver?symbol=NAS@IXIC#&page=128\n"
     ]
    },
    {
     "name": "stderr",
     "output_type": "stream",
     "text": [
      "<ipython-input-61-77dee5e93da6>:14: FutureWarning: The frame.append method is deprecated and will be removed from pandas in a future version. Use pandas.concat instead.\n",
      "  df = df.append(table[1].dropna())\n",
      "<ipython-input-61-77dee5e93da6>:14: FutureWarning: The frame.append method is deprecated and will be removed from pandas in a future version. Use pandas.concat instead.\n",
      "  df = df.append(table[1].dropna())\n"
     ]
    },
    {
     "name": "stdout",
     "output_type": "stream",
     "text": [
      "https://finance.naver.com/world/sise.naver?symbol=NAS@IXIC#&page=129\n",
      "https://finance.naver.com/world/sise.naver?symbol=NAS@IXIC#&page=130\n"
     ]
    },
    {
     "name": "stderr",
     "output_type": "stream",
     "text": [
      "<ipython-input-61-77dee5e93da6>:14: FutureWarning: The frame.append method is deprecated and will be removed from pandas in a future version. Use pandas.concat instead.\n",
      "  df = df.append(table[1].dropna())\n",
      "<ipython-input-61-77dee5e93da6>:14: FutureWarning: The frame.append method is deprecated and will be removed from pandas in a future version. Use pandas.concat instead.\n",
      "  df = df.append(table[1].dropna())\n"
     ]
    },
    {
     "name": "stdout",
     "output_type": "stream",
     "text": [
      "https://finance.naver.com/world/sise.naver?symbol=NAS@IXIC#&page=131\n",
      "https://finance.naver.com/world/sise.naver?symbol=NAS@IXIC#&page=132\n"
     ]
    },
    {
     "name": "stderr",
     "output_type": "stream",
     "text": [
      "<ipython-input-61-77dee5e93da6>:14: FutureWarning: The frame.append method is deprecated and will be removed from pandas in a future version. Use pandas.concat instead.\n",
      "  df = df.append(table[1].dropna())\n",
      "<ipython-input-61-77dee5e93da6>:14: FutureWarning: The frame.append method is deprecated and will be removed from pandas in a future version. Use pandas.concat instead.\n",
      "  df = df.append(table[1].dropna())\n"
     ]
    },
    {
     "name": "stdout",
     "output_type": "stream",
     "text": [
      "https://finance.naver.com/world/sise.naver?symbol=NAS@IXIC#&page=133\n",
      "https://finance.naver.com/world/sise.naver?symbol=NAS@IXIC#&page=134\n"
     ]
    },
    {
     "name": "stderr",
     "output_type": "stream",
     "text": [
      "<ipython-input-61-77dee5e93da6>:14: FutureWarning: The frame.append method is deprecated and will be removed from pandas in a future version. Use pandas.concat instead.\n",
      "  df = df.append(table[1].dropna())\n",
      "<ipython-input-61-77dee5e93da6>:14: FutureWarning: The frame.append method is deprecated and will be removed from pandas in a future version. Use pandas.concat instead.\n",
      "  df = df.append(table[1].dropna())\n"
     ]
    },
    {
     "name": "stdout",
     "output_type": "stream",
     "text": [
      "https://finance.naver.com/world/sise.naver?symbol=NAS@IXIC#&page=135\n",
      "https://finance.naver.com/world/sise.naver?symbol=NAS@IXIC#&page=136\n"
     ]
    },
    {
     "name": "stderr",
     "output_type": "stream",
     "text": [
      "<ipython-input-61-77dee5e93da6>:14: FutureWarning: The frame.append method is deprecated and will be removed from pandas in a future version. Use pandas.concat instead.\n",
      "  df = df.append(table[1].dropna())\n",
      "<ipython-input-61-77dee5e93da6>:14: FutureWarning: The frame.append method is deprecated and will be removed from pandas in a future version. Use pandas.concat instead.\n",
      "  df = df.append(table[1].dropna())\n"
     ]
    },
    {
     "name": "stdout",
     "output_type": "stream",
     "text": [
      "https://finance.naver.com/world/sise.naver?symbol=NAS@IXIC#&page=137\n",
      "https://finance.naver.com/world/sise.naver?symbol=NAS@IXIC#&page=138\n"
     ]
    },
    {
     "name": "stderr",
     "output_type": "stream",
     "text": [
      "<ipython-input-61-77dee5e93da6>:14: FutureWarning: The frame.append method is deprecated and will be removed from pandas in a future version. Use pandas.concat instead.\n",
      "  df = df.append(table[1].dropna())\n",
      "<ipython-input-61-77dee5e93da6>:14: FutureWarning: The frame.append method is deprecated and will be removed from pandas in a future version. Use pandas.concat instead.\n",
      "  df = df.append(table[1].dropna())\n"
     ]
    },
    {
     "name": "stdout",
     "output_type": "stream",
     "text": [
      "https://finance.naver.com/world/sise.naver?symbol=NAS@IXIC#&page=139\n",
      "https://finance.naver.com/world/sise.naver?symbol=NAS@IXIC#&page=140\n"
     ]
    },
    {
     "name": "stderr",
     "output_type": "stream",
     "text": [
      "<ipython-input-61-77dee5e93da6>:14: FutureWarning: The frame.append method is deprecated and will be removed from pandas in a future version. Use pandas.concat instead.\n",
      "  df = df.append(table[1].dropna())\n",
      "<ipython-input-61-77dee5e93da6>:14: FutureWarning: The frame.append method is deprecated and will be removed from pandas in a future version. Use pandas.concat instead.\n",
      "  df = df.append(table[1].dropna())\n"
     ]
    },
    {
     "name": "stdout",
     "output_type": "stream",
     "text": [
      "https://finance.naver.com/world/sise.naver?symbol=NAS@IXIC#&page=141\n",
      "https://finance.naver.com/world/sise.naver?symbol=NAS@IXIC#&page=142\n"
     ]
    },
    {
     "name": "stderr",
     "output_type": "stream",
     "text": [
      "<ipython-input-61-77dee5e93da6>:14: FutureWarning: The frame.append method is deprecated and will be removed from pandas in a future version. Use pandas.concat instead.\n",
      "  df = df.append(table[1].dropna())\n",
      "<ipython-input-61-77dee5e93da6>:14: FutureWarning: The frame.append method is deprecated and will be removed from pandas in a future version. Use pandas.concat instead.\n",
      "  df = df.append(table[1].dropna())\n"
     ]
    },
    {
     "name": "stdout",
     "output_type": "stream",
     "text": [
      "https://finance.naver.com/world/sise.naver?symbol=NAS@IXIC#&page=143\n",
      "https://finance.naver.com/world/sise.naver?symbol=NAS@IXIC#&page=144\n"
     ]
    },
    {
     "name": "stderr",
     "output_type": "stream",
     "text": [
      "<ipython-input-61-77dee5e93da6>:14: FutureWarning: The frame.append method is deprecated and will be removed from pandas in a future version. Use pandas.concat instead.\n",
      "  df = df.append(table[1].dropna())\n",
      "<ipython-input-61-77dee5e93da6>:14: FutureWarning: The frame.append method is deprecated and will be removed from pandas in a future version. Use pandas.concat instead.\n",
      "  df = df.append(table[1].dropna())\n"
     ]
    },
    {
     "name": "stdout",
     "output_type": "stream",
     "text": [
      "https://finance.naver.com/world/sise.naver?symbol=NAS@IXIC#&page=145\n",
      "https://finance.naver.com/world/sise.naver?symbol=NAS@IXIC#&page=146\n"
     ]
    },
    {
     "name": "stderr",
     "output_type": "stream",
     "text": [
      "<ipython-input-61-77dee5e93da6>:14: FutureWarning: The frame.append method is deprecated and will be removed from pandas in a future version. Use pandas.concat instead.\n",
      "  df = df.append(table[1].dropna())\n",
      "<ipython-input-61-77dee5e93da6>:14: FutureWarning: The frame.append method is deprecated and will be removed from pandas in a future version. Use pandas.concat instead.\n",
      "  df = df.append(table[1].dropna())\n"
     ]
    },
    {
     "name": "stdout",
     "output_type": "stream",
     "text": [
      "https://finance.naver.com/world/sise.naver?symbol=NAS@IXIC#&page=147\n",
      "https://finance.naver.com/world/sise.naver?symbol=NAS@IXIC#&page=148\n"
     ]
    },
    {
     "name": "stderr",
     "output_type": "stream",
     "text": [
      "<ipython-input-61-77dee5e93da6>:14: FutureWarning: The frame.append method is deprecated and will be removed from pandas in a future version. Use pandas.concat instead.\n",
      "  df = df.append(table[1].dropna())\n",
      "<ipython-input-61-77dee5e93da6>:14: FutureWarning: The frame.append method is deprecated and will be removed from pandas in a future version. Use pandas.concat instead.\n",
      "  df = df.append(table[1].dropna())\n"
     ]
    },
    {
     "name": "stdout",
     "output_type": "stream",
     "text": [
      "https://finance.naver.com/world/sise.naver?symbol=NAS@IXIC#&page=149\n",
      "https://finance.naver.com/world/sise.naver?symbol=NAS@IXIC#&page=150\n"
     ]
    },
    {
     "name": "stderr",
     "output_type": "stream",
     "text": [
      "<ipython-input-61-77dee5e93da6>:14: FutureWarning: The frame.append method is deprecated and will be removed from pandas in a future version. Use pandas.concat instead.\n",
      "  df = df.append(table[1].dropna())\n",
      "<ipython-input-61-77dee5e93da6>:14: FutureWarning: The frame.append method is deprecated and will be removed from pandas in a future version. Use pandas.concat instead.\n",
      "  df = df.append(table[1].dropna())\n",
      "<ipython-input-61-77dee5e93da6>:14: FutureWarning: The frame.append method is deprecated and will be removed from pandas in a future version. Use pandas.concat instead.\n",
      "  df = df.append(table[1].dropna())\n"
     ]
    },
    {
     "name": "stdout",
     "output_type": "stream",
     "text": [
      "https://finance.naver.com/world/sise.naver?symbol=NAS@IXIC#&page=151\n",
      "https://finance.naver.com/world/sise.naver?symbol=NAS@IXIC#&page=152\n",
      "https://finance.naver.com/world/sise.naver?symbol=NAS@IXIC#&page=153\n"
     ]
    },
    {
     "name": "stderr",
     "output_type": "stream",
     "text": [
      "<ipython-input-61-77dee5e93da6>:14: FutureWarning: The frame.append method is deprecated and will be removed from pandas in a future version. Use pandas.concat instead.\n",
      "  df = df.append(table[1].dropna())\n",
      "<ipython-input-61-77dee5e93da6>:14: FutureWarning: The frame.append method is deprecated and will be removed from pandas in a future version. Use pandas.concat instead.\n",
      "  df = df.append(table[1].dropna())\n"
     ]
    },
    {
     "name": "stdout",
     "output_type": "stream",
     "text": [
      "https://finance.naver.com/world/sise.naver?symbol=NAS@IXIC#&page=154\n",
      "https://finance.naver.com/world/sise.naver?symbol=NAS@IXIC#&page=155\n"
     ]
    },
    {
     "name": "stderr",
     "output_type": "stream",
     "text": [
      "<ipython-input-61-77dee5e93da6>:14: FutureWarning: The frame.append method is deprecated and will be removed from pandas in a future version. Use pandas.concat instead.\n",
      "  df = df.append(table[1].dropna())\n",
      "<ipython-input-61-77dee5e93da6>:14: FutureWarning: The frame.append method is deprecated and will be removed from pandas in a future version. Use pandas.concat instead.\n",
      "  df = df.append(table[1].dropna())\n"
     ]
    },
    {
     "name": "stdout",
     "output_type": "stream",
     "text": [
      "https://finance.naver.com/world/sise.naver?symbol=NAS@IXIC#&page=156\n",
      "https://finance.naver.com/world/sise.naver?symbol=NAS@IXIC#&page=157\n"
     ]
    },
    {
     "name": "stderr",
     "output_type": "stream",
     "text": [
      "<ipython-input-61-77dee5e93da6>:14: FutureWarning: The frame.append method is deprecated and will be removed from pandas in a future version. Use pandas.concat instead.\n",
      "  df = df.append(table[1].dropna())\n",
      "<ipython-input-61-77dee5e93da6>:14: FutureWarning: The frame.append method is deprecated and will be removed from pandas in a future version. Use pandas.concat instead.\n",
      "  df = df.append(table[1].dropna())\n"
     ]
    },
    {
     "name": "stdout",
     "output_type": "stream",
     "text": [
      "https://finance.naver.com/world/sise.naver?symbol=NAS@IXIC#&page=158\n",
      "https://finance.naver.com/world/sise.naver?symbol=NAS@IXIC#&page=159\n"
     ]
    },
    {
     "name": "stderr",
     "output_type": "stream",
     "text": [
      "<ipython-input-61-77dee5e93da6>:14: FutureWarning: The frame.append method is deprecated and will be removed from pandas in a future version. Use pandas.concat instead.\n",
      "  df = df.append(table[1].dropna())\n",
      "<ipython-input-61-77dee5e93da6>:14: FutureWarning: The frame.append method is deprecated and will be removed from pandas in a future version. Use pandas.concat instead.\n",
      "  df = df.append(table[1].dropna())\n"
     ]
    },
    {
     "name": "stdout",
     "output_type": "stream",
     "text": [
      "https://finance.naver.com/world/sise.naver?symbol=NAS@IXIC#&page=160\n",
      "https://finance.naver.com/world/sise.naver?symbol=NAS@IXIC#&page=161\n"
     ]
    },
    {
     "name": "stderr",
     "output_type": "stream",
     "text": [
      "<ipython-input-61-77dee5e93da6>:14: FutureWarning: The frame.append method is deprecated and will be removed from pandas in a future version. Use pandas.concat instead.\n",
      "  df = df.append(table[1].dropna())\n",
      "<ipython-input-61-77dee5e93da6>:14: FutureWarning: The frame.append method is deprecated and will be removed from pandas in a future version. Use pandas.concat instead.\n",
      "  df = df.append(table[1].dropna())\n"
     ]
    },
    {
     "name": "stdout",
     "output_type": "stream",
     "text": [
      "https://finance.naver.com/world/sise.naver?symbol=NAS@IXIC#&page=162\n",
      "https://finance.naver.com/world/sise.naver?symbol=NAS@IXIC#&page=163\n"
     ]
    },
    {
     "name": "stderr",
     "output_type": "stream",
     "text": [
      "<ipython-input-61-77dee5e93da6>:14: FutureWarning: The frame.append method is deprecated and will be removed from pandas in a future version. Use pandas.concat instead.\n",
      "  df = df.append(table[1].dropna())\n",
      "<ipython-input-61-77dee5e93da6>:14: FutureWarning: The frame.append method is deprecated and will be removed from pandas in a future version. Use pandas.concat instead.\n",
      "  df = df.append(table[1].dropna())\n",
      "<ipython-input-61-77dee5e93da6>:14: FutureWarning: The frame.append method is deprecated and will be removed from pandas in a future version. Use pandas.concat instead.\n",
      "  df = df.append(table[1].dropna())\n"
     ]
    },
    {
     "name": "stdout",
     "output_type": "stream",
     "text": [
      "https://finance.naver.com/world/sise.naver?symbol=NAS@IXIC#&page=164\n",
      "https://finance.naver.com/world/sise.naver?symbol=NAS@IXIC#&page=165\n",
      "https://finance.naver.com/world/sise.naver?symbol=NAS@IXIC#&page=166\n"
     ]
    },
    {
     "name": "stderr",
     "output_type": "stream",
     "text": [
      "<ipython-input-61-77dee5e93da6>:14: FutureWarning: The frame.append method is deprecated and will be removed from pandas in a future version. Use pandas.concat instead.\n",
      "  df = df.append(table[1].dropna())\n",
      "<ipython-input-61-77dee5e93da6>:14: FutureWarning: The frame.append method is deprecated and will be removed from pandas in a future version. Use pandas.concat instead.\n",
      "  df = df.append(table[1].dropna())\n"
     ]
    },
    {
     "name": "stdout",
     "output_type": "stream",
     "text": [
      "https://finance.naver.com/world/sise.naver?symbol=NAS@IXIC#&page=167\n",
      "https://finance.naver.com/world/sise.naver?symbol=NAS@IXIC#&page=168\n"
     ]
    },
    {
     "name": "stderr",
     "output_type": "stream",
     "text": [
      "<ipython-input-61-77dee5e93da6>:14: FutureWarning: The frame.append method is deprecated and will be removed from pandas in a future version. Use pandas.concat instead.\n",
      "  df = df.append(table[1].dropna())\n",
      "<ipython-input-61-77dee5e93da6>:14: FutureWarning: The frame.append method is deprecated and will be removed from pandas in a future version. Use pandas.concat instead.\n",
      "  df = df.append(table[1].dropna())\n"
     ]
    },
    {
     "name": "stdout",
     "output_type": "stream",
     "text": [
      "https://finance.naver.com/world/sise.naver?symbol=NAS@IXIC#&page=169\n",
      "https://finance.naver.com/world/sise.naver?symbol=NAS@IXIC#&page=170\n"
     ]
    },
    {
     "name": "stderr",
     "output_type": "stream",
     "text": [
      "<ipython-input-61-77dee5e93da6>:14: FutureWarning: The frame.append method is deprecated and will be removed from pandas in a future version. Use pandas.concat instead.\n",
      "  df = df.append(table[1].dropna())\n",
      "<ipython-input-61-77dee5e93da6>:14: FutureWarning: The frame.append method is deprecated and will be removed from pandas in a future version. Use pandas.concat instead.\n",
      "  df = df.append(table[1].dropna())\n"
     ]
    },
    {
     "name": "stdout",
     "output_type": "stream",
     "text": [
      "https://finance.naver.com/world/sise.naver?symbol=NAS@IXIC#&page=171\n",
      "https://finance.naver.com/world/sise.naver?symbol=NAS@IXIC#&page=172\n"
     ]
    },
    {
     "name": "stderr",
     "output_type": "stream",
     "text": [
      "<ipython-input-61-77dee5e93da6>:14: FutureWarning: The frame.append method is deprecated and will be removed from pandas in a future version. Use pandas.concat instead.\n",
      "  df = df.append(table[1].dropna())\n",
      "<ipython-input-61-77dee5e93da6>:14: FutureWarning: The frame.append method is deprecated and will be removed from pandas in a future version. Use pandas.concat instead.\n",
      "  df = df.append(table[1].dropna())\n"
     ]
    },
    {
     "name": "stdout",
     "output_type": "stream",
     "text": [
      "https://finance.naver.com/world/sise.naver?symbol=NAS@IXIC#&page=173\n",
      "https://finance.naver.com/world/sise.naver?symbol=NAS@IXIC#&page=174\n"
     ]
    },
    {
     "name": "stderr",
     "output_type": "stream",
     "text": [
      "<ipython-input-61-77dee5e93da6>:14: FutureWarning: The frame.append method is deprecated and will be removed from pandas in a future version. Use pandas.concat instead.\n",
      "  df = df.append(table[1].dropna())\n",
      "<ipython-input-61-77dee5e93da6>:14: FutureWarning: The frame.append method is deprecated and will be removed from pandas in a future version. Use pandas.concat instead.\n",
      "  df = df.append(table[1].dropna())\n"
     ]
    },
    {
     "name": "stdout",
     "output_type": "stream",
     "text": [
      "https://finance.naver.com/world/sise.naver?symbol=NAS@IXIC#&page=175\n",
      "https://finance.naver.com/world/sise.naver?symbol=NAS@IXIC#&page=176\n"
     ]
    },
    {
     "name": "stderr",
     "output_type": "stream",
     "text": [
      "<ipython-input-61-77dee5e93da6>:14: FutureWarning: The frame.append method is deprecated and will be removed from pandas in a future version. Use pandas.concat instead.\n",
      "  df = df.append(table[1].dropna())\n"
     ]
    },
    {
     "name": "stdout",
     "output_type": "stream",
     "text": [
      "https://finance.naver.com/world/sise.naver?symbol=NAS@IXIC#&page=177\n"
     ]
    },
    {
     "name": "stderr",
     "output_type": "stream",
     "text": [
      "<ipython-input-61-77dee5e93da6>:14: FutureWarning: The frame.append method is deprecated and will be removed from pandas in a future version. Use pandas.concat instead.\n",
      "  df = df.append(table[1].dropna())\n"
     ]
    },
    {
     "name": "stdout",
     "output_type": "stream",
     "text": [
      "https://finance.naver.com/world/sise.naver?symbol=NAS@IXIC#&page=178\n"
     ]
    },
    {
     "name": "stderr",
     "output_type": "stream",
     "text": [
      "<ipython-input-61-77dee5e93da6>:14: FutureWarning: The frame.append method is deprecated and will be removed from pandas in a future version. Use pandas.concat instead.\n",
      "  df = df.append(table[1].dropna())\n",
      "<ipython-input-61-77dee5e93da6>:14: FutureWarning: The frame.append method is deprecated and will be removed from pandas in a future version. Use pandas.concat instead.\n",
      "  df = df.append(table[1].dropna())\n"
     ]
    },
    {
     "name": "stdout",
     "output_type": "stream",
     "text": [
      "https://finance.naver.com/world/sise.naver?symbol=NAS@IXIC#&page=179\n",
      "https://finance.naver.com/world/sise.naver?symbol=NAS@IXIC#&page=180\n"
     ]
    },
    {
     "name": "stderr",
     "output_type": "stream",
     "text": [
      "<ipython-input-61-77dee5e93da6>:14: FutureWarning: The frame.append method is deprecated and will be removed from pandas in a future version. Use pandas.concat instead.\n",
      "  df = df.append(table[1].dropna())\n",
      "<ipython-input-61-77dee5e93da6>:14: FutureWarning: The frame.append method is deprecated and will be removed from pandas in a future version. Use pandas.concat instead.\n",
      "  df = df.append(table[1].dropna())\n"
     ]
    },
    {
     "name": "stdout",
     "output_type": "stream",
     "text": [
      "https://finance.naver.com/world/sise.naver?symbol=NAS@IXIC#&page=181\n",
      "https://finance.naver.com/world/sise.naver?symbol=NAS@IXIC#&page=182\n"
     ]
    },
    {
     "name": "stderr",
     "output_type": "stream",
     "text": [
      "<ipython-input-61-77dee5e93da6>:14: FutureWarning: The frame.append method is deprecated and will be removed from pandas in a future version. Use pandas.concat instead.\n",
      "  df = df.append(table[1].dropna())\n",
      "<ipython-input-61-77dee5e93da6>:14: FutureWarning: The frame.append method is deprecated and will be removed from pandas in a future version. Use pandas.concat instead.\n",
      "  df = df.append(table[1].dropna())\n"
     ]
    },
    {
     "name": "stdout",
     "output_type": "stream",
     "text": [
      "https://finance.naver.com/world/sise.naver?symbol=NAS@IXIC#&page=183\n",
      "https://finance.naver.com/world/sise.naver?symbol=NAS@IXIC#&page=184\n"
     ]
    },
    {
     "name": "stderr",
     "output_type": "stream",
     "text": [
      "<ipython-input-61-77dee5e93da6>:14: FutureWarning: The frame.append method is deprecated and will be removed from pandas in a future version. Use pandas.concat instead.\n",
      "  df = df.append(table[1].dropna())\n"
     ]
    },
    {
     "name": "stdout",
     "output_type": "stream",
     "text": [
      "https://finance.naver.com/world/sise.naver?symbol=NAS@IXIC#&page=185\n"
     ]
    },
    {
     "name": "stderr",
     "output_type": "stream",
     "text": [
      "<ipython-input-61-77dee5e93da6>:14: FutureWarning: The frame.append method is deprecated and will be removed from pandas in a future version. Use pandas.concat instead.\n",
      "  df = df.append(table[1].dropna())\n",
      "<ipython-input-61-77dee5e93da6>:14: FutureWarning: The frame.append method is deprecated and will be removed from pandas in a future version. Use pandas.concat instead.\n",
      "  df = df.append(table[1].dropna())\n"
     ]
    },
    {
     "name": "stdout",
     "output_type": "stream",
     "text": [
      "https://finance.naver.com/world/sise.naver?symbol=NAS@IXIC#&page=186\n",
      "https://finance.naver.com/world/sise.naver?symbol=NAS@IXIC#&page=187\n"
     ]
    },
    {
     "name": "stderr",
     "output_type": "stream",
     "text": [
      "<ipython-input-61-77dee5e93da6>:14: FutureWarning: The frame.append method is deprecated and will be removed from pandas in a future version. Use pandas.concat instead.\n",
      "  df = df.append(table[1].dropna())\n"
     ]
    },
    {
     "name": "stdout",
     "output_type": "stream",
     "text": [
      "https://finance.naver.com/world/sise.naver?symbol=NAS@IXIC#&page=188\n"
     ]
    },
    {
     "name": "stderr",
     "output_type": "stream",
     "text": [
      "<ipython-input-61-77dee5e93da6>:14: FutureWarning: The frame.append method is deprecated and will be removed from pandas in a future version. Use pandas.concat instead.\n",
      "  df = df.append(table[1].dropna())\n",
      "<ipython-input-61-77dee5e93da6>:14: FutureWarning: The frame.append method is deprecated and will be removed from pandas in a future version. Use pandas.concat instead.\n",
      "  df = df.append(table[1].dropna())\n"
     ]
    },
    {
     "name": "stdout",
     "output_type": "stream",
     "text": [
      "https://finance.naver.com/world/sise.naver?symbol=NAS@IXIC#&page=189\n",
      "https://finance.naver.com/world/sise.naver?symbol=NAS@IXIC#&page=190\n"
     ]
    },
    {
     "name": "stderr",
     "output_type": "stream",
     "text": [
      "<ipython-input-61-77dee5e93da6>:14: FutureWarning: The frame.append method is deprecated and will be removed from pandas in a future version. Use pandas.concat instead.\n",
      "  df = df.append(table[1].dropna())\n",
      "<ipython-input-61-77dee5e93da6>:14: FutureWarning: The frame.append method is deprecated and will be removed from pandas in a future version. Use pandas.concat instead.\n",
      "  df = df.append(table[1].dropna())\n"
     ]
    },
    {
     "name": "stdout",
     "output_type": "stream",
     "text": [
      "https://finance.naver.com/world/sise.naver?symbol=NAS@IXIC#&page=191\n",
      "https://finance.naver.com/world/sise.naver?symbol=NAS@IXIC#&page=192\n"
     ]
    },
    {
     "name": "stderr",
     "output_type": "stream",
     "text": [
      "<ipython-input-61-77dee5e93da6>:14: FutureWarning: The frame.append method is deprecated and will be removed from pandas in a future version. Use pandas.concat instead.\n",
      "  df = df.append(table[1].dropna())\n",
      "<ipython-input-61-77dee5e93da6>:14: FutureWarning: The frame.append method is deprecated and will be removed from pandas in a future version. Use pandas.concat instead.\n",
      "  df = df.append(table[1].dropna())\n"
     ]
    },
    {
     "name": "stdout",
     "output_type": "stream",
     "text": [
      "https://finance.naver.com/world/sise.naver?symbol=NAS@IXIC#&page=193\n",
      "https://finance.naver.com/world/sise.naver?symbol=NAS@IXIC#&page=194\n"
     ]
    },
    {
     "name": "stderr",
     "output_type": "stream",
     "text": [
      "<ipython-input-61-77dee5e93da6>:14: FutureWarning: The frame.append method is deprecated and will be removed from pandas in a future version. Use pandas.concat instead.\n",
      "  df = df.append(table[1].dropna())\n",
      "<ipython-input-61-77dee5e93da6>:14: FutureWarning: The frame.append method is deprecated and will be removed from pandas in a future version. Use pandas.concat instead.\n",
      "  df = df.append(table[1].dropna())\n"
     ]
    },
    {
     "name": "stdout",
     "output_type": "stream",
     "text": [
      "https://finance.naver.com/world/sise.naver?symbol=NAS@IXIC#&page=195\n",
      "https://finance.naver.com/world/sise.naver?symbol=NAS@IXIC#&page=196\n"
     ]
    },
    {
     "name": "stderr",
     "output_type": "stream",
     "text": [
      "<ipython-input-61-77dee5e93da6>:14: FutureWarning: The frame.append method is deprecated and will be removed from pandas in a future version. Use pandas.concat instead.\n",
      "  df = df.append(table[1].dropna())\n",
      "<ipython-input-61-77dee5e93da6>:14: FutureWarning: The frame.append method is deprecated and will be removed from pandas in a future version. Use pandas.concat instead.\n",
      "  df = df.append(table[1].dropna())\n"
     ]
    },
    {
     "name": "stdout",
     "output_type": "stream",
     "text": [
      "https://finance.naver.com/world/sise.naver?symbol=NAS@IXIC#&page=197\n",
      "https://finance.naver.com/world/sise.naver?symbol=NAS@IXIC#&page=198\n"
     ]
    },
    {
     "name": "stderr",
     "output_type": "stream",
     "text": [
      "<ipython-input-61-77dee5e93da6>:14: FutureWarning: The frame.append method is deprecated and will be removed from pandas in a future version. Use pandas.concat instead.\n",
      "  df = df.append(table[1].dropna())\n",
      "<ipython-input-61-77dee5e93da6>:14: FutureWarning: The frame.append method is deprecated and will be removed from pandas in a future version. Use pandas.concat instead.\n",
      "  df = df.append(table[1].dropna())\n"
     ]
    },
    {
     "name": "stdout",
     "output_type": "stream",
     "text": [
      "https://finance.naver.com/world/sise.naver?symbol=NAS@IXIC#&page=199\n",
      "https://finance.naver.com/world/sise.naver?symbol=NAS@IXIC#&page=200\n"
     ]
    },
    {
     "name": "stderr",
     "output_type": "stream",
     "text": [
      "<ipython-input-61-77dee5e93da6>:14: FutureWarning: The frame.append method is deprecated and will be removed from pandas in a future version. Use pandas.concat instead.\n",
      "  df = df.append(table[1].dropna())\n",
      "<ipython-input-61-77dee5e93da6>:14: FutureWarning: The frame.append method is deprecated and will be removed from pandas in a future version. Use pandas.concat instead.\n",
      "  df = df.append(table[1].dropna())\n"
     ]
    },
    {
     "name": "stdout",
     "output_type": "stream",
     "text": [
      "https://finance.naver.com/world/sise.naver?symbol=NAS@IXIC#&page=201\n",
      "https://finance.naver.com/world/sise.naver?symbol=NAS@IXIC#&page=202\n"
     ]
    },
    {
     "name": "stderr",
     "output_type": "stream",
     "text": [
      "<ipython-input-61-77dee5e93da6>:14: FutureWarning: The frame.append method is deprecated and will be removed from pandas in a future version. Use pandas.concat instead.\n",
      "  df = df.append(table[1].dropna())\n",
      "<ipython-input-61-77dee5e93da6>:14: FutureWarning: The frame.append method is deprecated and will be removed from pandas in a future version. Use pandas.concat instead.\n",
      "  df = df.append(table[1].dropna())\n"
     ]
    },
    {
     "name": "stdout",
     "output_type": "stream",
     "text": [
      "https://finance.naver.com/world/sise.naver?symbol=NAS@IXIC#&page=203\n",
      "https://finance.naver.com/world/sise.naver?symbol=NAS@IXIC#&page=204\n"
     ]
    },
    {
     "name": "stderr",
     "output_type": "stream",
     "text": [
      "<ipython-input-61-77dee5e93da6>:14: FutureWarning: The frame.append method is deprecated and will be removed from pandas in a future version. Use pandas.concat instead.\n",
      "  df = df.append(table[1].dropna())\n",
      "<ipython-input-61-77dee5e93da6>:14: FutureWarning: The frame.append method is deprecated and will be removed from pandas in a future version. Use pandas.concat instead.\n",
      "  df = df.append(table[1].dropna())\n"
     ]
    },
    {
     "name": "stdout",
     "output_type": "stream",
     "text": [
      "https://finance.naver.com/world/sise.naver?symbol=NAS@IXIC#&page=205\n",
      "https://finance.naver.com/world/sise.naver?symbol=NAS@IXIC#&page=206\n"
     ]
    },
    {
     "name": "stderr",
     "output_type": "stream",
     "text": [
      "<ipython-input-61-77dee5e93da6>:14: FutureWarning: The frame.append method is deprecated and will be removed from pandas in a future version. Use pandas.concat instead.\n",
      "  df = df.append(table[1].dropna())\n"
     ]
    },
    {
     "name": "stdout",
     "output_type": "stream",
     "text": [
      "https://finance.naver.com/world/sise.naver?symbol=NAS@IXIC#&page=207\n"
     ]
    },
    {
     "name": "stderr",
     "output_type": "stream",
     "text": [
      "<ipython-input-61-77dee5e93da6>:14: FutureWarning: The frame.append method is deprecated and will be removed from pandas in a future version. Use pandas.concat instead.\n",
      "  df = df.append(table[1].dropna())\n",
      "<ipython-input-61-77dee5e93da6>:14: FutureWarning: The frame.append method is deprecated and will be removed from pandas in a future version. Use pandas.concat instead.\n",
      "  df = df.append(table[1].dropna())\n"
     ]
    },
    {
     "name": "stdout",
     "output_type": "stream",
     "text": [
      "https://finance.naver.com/world/sise.naver?symbol=NAS@IXIC#&page=208\n",
      "https://finance.naver.com/world/sise.naver?symbol=NAS@IXIC#&page=209\n"
     ]
    },
    {
     "name": "stderr",
     "output_type": "stream",
     "text": [
      "<ipython-input-61-77dee5e93da6>:14: FutureWarning: The frame.append method is deprecated and will be removed from pandas in a future version. Use pandas.concat instead.\n",
      "  df = df.append(table[1].dropna())\n",
      "<ipython-input-61-77dee5e93da6>:14: FutureWarning: The frame.append method is deprecated and will be removed from pandas in a future version. Use pandas.concat instead.\n",
      "  df = df.append(table[1].dropna())\n"
     ]
    },
    {
     "name": "stdout",
     "output_type": "stream",
     "text": [
      "https://finance.naver.com/world/sise.naver?symbol=NAS@IXIC#&page=210\n",
      "https://finance.naver.com/world/sise.naver?symbol=NAS@IXIC#&page=211\n"
     ]
    },
    {
     "name": "stderr",
     "output_type": "stream",
     "text": [
      "<ipython-input-61-77dee5e93da6>:14: FutureWarning: The frame.append method is deprecated and will be removed from pandas in a future version. Use pandas.concat instead.\n",
      "  df = df.append(table[1].dropna())\n",
      "<ipython-input-61-77dee5e93da6>:14: FutureWarning: The frame.append method is deprecated and will be removed from pandas in a future version. Use pandas.concat instead.\n",
      "  df = df.append(table[1].dropna())\n"
     ]
    },
    {
     "name": "stdout",
     "output_type": "stream",
     "text": [
      "https://finance.naver.com/world/sise.naver?symbol=NAS@IXIC#&page=212\n",
      "https://finance.naver.com/world/sise.naver?symbol=NAS@IXIC#&page=213\n"
     ]
    },
    {
     "name": "stderr",
     "output_type": "stream",
     "text": [
      "<ipython-input-61-77dee5e93da6>:14: FutureWarning: The frame.append method is deprecated and will be removed from pandas in a future version. Use pandas.concat instead.\n",
      "  df = df.append(table[1].dropna())\n",
      "<ipython-input-61-77dee5e93da6>:14: FutureWarning: The frame.append method is deprecated and will be removed from pandas in a future version. Use pandas.concat instead.\n",
      "  df = df.append(table[1].dropna())\n"
     ]
    },
    {
     "name": "stdout",
     "output_type": "stream",
     "text": [
      "https://finance.naver.com/world/sise.naver?symbol=NAS@IXIC#&page=214\n",
      "https://finance.naver.com/world/sise.naver?symbol=NAS@IXIC#&page=215\n"
     ]
    },
    {
     "name": "stderr",
     "output_type": "stream",
     "text": [
      "<ipython-input-61-77dee5e93da6>:14: FutureWarning: The frame.append method is deprecated and will be removed from pandas in a future version. Use pandas.concat instead.\n",
      "  df = df.append(table[1].dropna())\n",
      "<ipython-input-61-77dee5e93da6>:14: FutureWarning: The frame.append method is deprecated and will be removed from pandas in a future version. Use pandas.concat instead.\n",
      "  df = df.append(table[1].dropna())\n"
     ]
    },
    {
     "name": "stdout",
     "output_type": "stream",
     "text": [
      "https://finance.naver.com/world/sise.naver?symbol=NAS@IXIC#&page=216\n",
      "https://finance.naver.com/world/sise.naver?symbol=NAS@IXIC#&page=217\n"
     ]
    },
    {
     "name": "stderr",
     "output_type": "stream",
     "text": [
      "<ipython-input-61-77dee5e93da6>:14: FutureWarning: The frame.append method is deprecated and will be removed from pandas in a future version. Use pandas.concat instead.\n",
      "  df = df.append(table[1].dropna())\n",
      "<ipython-input-61-77dee5e93da6>:14: FutureWarning: The frame.append method is deprecated and will be removed from pandas in a future version. Use pandas.concat instead.\n",
      "  df = df.append(table[1].dropna())\n"
     ]
    },
    {
     "name": "stdout",
     "output_type": "stream",
     "text": [
      "https://finance.naver.com/world/sise.naver?symbol=NAS@IXIC#&page=218\n",
      "https://finance.naver.com/world/sise.naver?symbol=NAS@IXIC#&page=219\n"
     ]
    },
    {
     "name": "stderr",
     "output_type": "stream",
     "text": [
      "<ipython-input-61-77dee5e93da6>:14: FutureWarning: The frame.append method is deprecated and will be removed from pandas in a future version. Use pandas.concat instead.\n",
      "  df = df.append(table[1].dropna())\n",
      "<ipython-input-61-77dee5e93da6>:14: FutureWarning: The frame.append method is deprecated and will be removed from pandas in a future version. Use pandas.concat instead.\n",
      "  df = df.append(table[1].dropna())\n"
     ]
    },
    {
     "name": "stdout",
     "output_type": "stream",
     "text": [
      "https://finance.naver.com/world/sise.naver?symbol=NAS@IXIC#&page=220\n",
      "https://finance.naver.com/world/sise.naver?symbol=NAS@IXIC#&page=221\n"
     ]
    },
    {
     "name": "stderr",
     "output_type": "stream",
     "text": [
      "<ipython-input-61-77dee5e93da6>:14: FutureWarning: The frame.append method is deprecated and will be removed from pandas in a future version. Use pandas.concat instead.\n",
      "  df = df.append(table[1].dropna())\n"
     ]
    },
    {
     "name": "stdout",
     "output_type": "stream",
     "text": [
      "https://finance.naver.com/world/sise.naver?symbol=NAS@IXIC#&page=222\n"
     ]
    },
    {
     "name": "stderr",
     "output_type": "stream",
     "text": [
      "<ipython-input-61-77dee5e93da6>:14: FutureWarning: The frame.append method is deprecated and will be removed from pandas in a future version. Use pandas.concat instead.\n",
      "  df = df.append(table[1].dropna())\n",
      "<ipython-input-61-77dee5e93da6>:14: FutureWarning: The frame.append method is deprecated and will be removed from pandas in a future version. Use pandas.concat instead.\n",
      "  df = df.append(table[1].dropna())\n"
     ]
    },
    {
     "name": "stdout",
     "output_type": "stream",
     "text": [
      "https://finance.naver.com/world/sise.naver?symbol=NAS@IXIC#&page=223\n",
      "https://finance.naver.com/world/sise.naver?symbol=NAS@IXIC#&page=224\n"
     ]
    },
    {
     "name": "stderr",
     "output_type": "stream",
     "text": [
      "<ipython-input-61-77dee5e93da6>:14: FutureWarning: The frame.append method is deprecated and will be removed from pandas in a future version. Use pandas.concat instead.\n",
      "  df = df.append(table[1].dropna())\n",
      "<ipython-input-61-77dee5e93da6>:14: FutureWarning: The frame.append method is deprecated and will be removed from pandas in a future version. Use pandas.concat instead.\n",
      "  df = df.append(table[1].dropna())\n"
     ]
    },
    {
     "name": "stdout",
     "output_type": "stream",
     "text": [
      "https://finance.naver.com/world/sise.naver?symbol=NAS@IXIC#&page=225\n",
      "https://finance.naver.com/world/sise.naver?symbol=NAS@IXIC#&page=226\n"
     ]
    },
    {
     "name": "stderr",
     "output_type": "stream",
     "text": [
      "<ipython-input-61-77dee5e93da6>:14: FutureWarning: The frame.append method is deprecated and will be removed from pandas in a future version. Use pandas.concat instead.\n",
      "  df = df.append(table[1].dropna())\n",
      "<ipython-input-61-77dee5e93da6>:14: FutureWarning: The frame.append method is deprecated and will be removed from pandas in a future version. Use pandas.concat instead.\n",
      "  df = df.append(table[1].dropna())\n"
     ]
    },
    {
     "name": "stdout",
     "output_type": "stream",
     "text": [
      "https://finance.naver.com/world/sise.naver?symbol=NAS@IXIC#&page=227\n",
      "https://finance.naver.com/world/sise.naver?symbol=NAS@IXIC#&page=228\n"
     ]
    },
    {
     "name": "stderr",
     "output_type": "stream",
     "text": [
      "<ipython-input-61-77dee5e93da6>:14: FutureWarning: The frame.append method is deprecated and will be removed from pandas in a future version. Use pandas.concat instead.\n",
      "  df = df.append(table[1].dropna())\n",
      "<ipython-input-61-77dee5e93da6>:14: FutureWarning: The frame.append method is deprecated and will be removed from pandas in a future version. Use pandas.concat instead.\n",
      "  df = df.append(table[1].dropna())\n"
     ]
    },
    {
     "name": "stdout",
     "output_type": "stream",
     "text": [
      "https://finance.naver.com/world/sise.naver?symbol=NAS@IXIC#&page=229\n",
      "https://finance.naver.com/world/sise.naver?symbol=NAS@IXIC#&page=230\n"
     ]
    },
    {
     "name": "stderr",
     "output_type": "stream",
     "text": [
      "<ipython-input-61-77dee5e93da6>:14: FutureWarning: The frame.append method is deprecated and will be removed from pandas in a future version. Use pandas.concat instead.\n",
      "  df = df.append(table[1].dropna())\n",
      "<ipython-input-61-77dee5e93da6>:14: FutureWarning: The frame.append method is deprecated and will be removed from pandas in a future version. Use pandas.concat instead.\n",
      "  df = df.append(table[1].dropna())\n"
     ]
    },
    {
     "name": "stdout",
     "output_type": "stream",
     "text": [
      "https://finance.naver.com/world/sise.naver?symbol=NAS@IXIC#&page=231\n",
      "https://finance.naver.com/world/sise.naver?symbol=NAS@IXIC#&page=232\n"
     ]
    },
    {
     "name": "stderr",
     "output_type": "stream",
     "text": [
      "<ipython-input-61-77dee5e93da6>:14: FutureWarning: The frame.append method is deprecated and will be removed from pandas in a future version. Use pandas.concat instead.\n",
      "  df = df.append(table[1].dropna())\n",
      "<ipython-input-61-77dee5e93da6>:14: FutureWarning: The frame.append method is deprecated and will be removed from pandas in a future version. Use pandas.concat instead.\n",
      "  df = df.append(table[1].dropna())\n"
     ]
    },
    {
     "name": "stdout",
     "output_type": "stream",
     "text": [
      "https://finance.naver.com/world/sise.naver?symbol=NAS@IXIC#&page=233\n",
      "https://finance.naver.com/world/sise.naver?symbol=NAS@IXIC#&page=234\n"
     ]
    },
    {
     "name": "stderr",
     "output_type": "stream",
     "text": [
      "<ipython-input-61-77dee5e93da6>:14: FutureWarning: The frame.append method is deprecated and will be removed from pandas in a future version. Use pandas.concat instead.\n",
      "  df = df.append(table[1].dropna())\n",
      "<ipython-input-61-77dee5e93da6>:14: FutureWarning: The frame.append method is deprecated and will be removed from pandas in a future version. Use pandas.concat instead.\n",
      "  df = df.append(table[1].dropna())\n"
     ]
    },
    {
     "name": "stdout",
     "output_type": "stream",
     "text": [
      "https://finance.naver.com/world/sise.naver?symbol=NAS@IXIC#&page=235\n",
      "https://finance.naver.com/world/sise.naver?symbol=NAS@IXIC#&page=236\n"
     ]
    },
    {
     "name": "stderr",
     "output_type": "stream",
     "text": [
      "<ipython-input-61-77dee5e93da6>:14: FutureWarning: The frame.append method is deprecated and will be removed from pandas in a future version. Use pandas.concat instead.\n",
      "  df = df.append(table[1].dropna())\n",
      "<ipython-input-61-77dee5e93da6>:14: FutureWarning: The frame.append method is deprecated and will be removed from pandas in a future version. Use pandas.concat instead.\n",
      "  df = df.append(table[1].dropna())\n"
     ]
    },
    {
     "name": "stdout",
     "output_type": "stream",
     "text": [
      "https://finance.naver.com/world/sise.naver?symbol=NAS@IXIC#&page=237\n",
      "https://finance.naver.com/world/sise.naver?symbol=NAS@IXIC#&page=238\n"
     ]
    },
    {
     "name": "stderr",
     "output_type": "stream",
     "text": [
      "<ipython-input-61-77dee5e93da6>:14: FutureWarning: The frame.append method is deprecated and will be removed from pandas in a future version. Use pandas.concat instead.\n",
      "  df = df.append(table[1].dropna())\n"
     ]
    },
    {
     "name": "stdout",
     "output_type": "stream",
     "text": [
      "https://finance.naver.com/world/sise.naver?symbol=NAS@IXIC#&page=239\n"
     ]
    },
    {
     "name": "stderr",
     "output_type": "stream",
     "text": [
      "<ipython-input-61-77dee5e93da6>:14: FutureWarning: The frame.append method is deprecated and will be removed from pandas in a future version. Use pandas.concat instead.\n",
      "  df = df.append(table[1].dropna())\n",
      "<ipython-input-61-77dee5e93da6>:14: FutureWarning: The frame.append method is deprecated and will be removed from pandas in a future version. Use pandas.concat instead.\n",
      "  df = df.append(table[1].dropna())\n"
     ]
    },
    {
     "name": "stdout",
     "output_type": "stream",
     "text": [
      "https://finance.naver.com/world/sise.naver?symbol=NAS@IXIC#&page=240\n",
      "https://finance.naver.com/world/sise.naver?symbol=NAS@IXIC#&page=241\n"
     ]
    },
    {
     "name": "stderr",
     "output_type": "stream",
     "text": [
      "<ipython-input-61-77dee5e93da6>:14: FutureWarning: The frame.append method is deprecated and will be removed from pandas in a future version. Use pandas.concat instead.\n",
      "  df = df.append(table[1].dropna())\n",
      "<ipython-input-61-77dee5e93da6>:14: FutureWarning: The frame.append method is deprecated and will be removed from pandas in a future version. Use pandas.concat instead.\n",
      "  df = df.append(table[1].dropna())\n"
     ]
    },
    {
     "name": "stdout",
     "output_type": "stream",
     "text": [
      "https://finance.naver.com/world/sise.naver?symbol=NAS@IXIC#&page=242\n",
      "https://finance.naver.com/world/sise.naver?symbol=NAS@IXIC#&page=243\n"
     ]
    },
    {
     "name": "stderr",
     "output_type": "stream",
     "text": [
      "<ipython-input-61-77dee5e93da6>:14: FutureWarning: The frame.append method is deprecated and will be removed from pandas in a future version. Use pandas.concat instead.\n",
      "  df = df.append(table[1].dropna())\n",
      "<ipython-input-61-77dee5e93da6>:14: FutureWarning: The frame.append method is deprecated and will be removed from pandas in a future version. Use pandas.concat instead.\n",
      "  df = df.append(table[1].dropna())\n"
     ]
    },
    {
     "name": "stdout",
     "output_type": "stream",
     "text": [
      "https://finance.naver.com/world/sise.naver?symbol=NAS@IXIC#&page=244\n",
      "https://finance.naver.com/world/sise.naver?symbol=NAS@IXIC#&page=245\n"
     ]
    },
    {
     "name": "stderr",
     "output_type": "stream",
     "text": [
      "<ipython-input-61-77dee5e93da6>:14: FutureWarning: The frame.append method is deprecated and will be removed from pandas in a future version. Use pandas.concat instead.\n",
      "  df = df.append(table[1].dropna())\n",
      "<ipython-input-61-77dee5e93da6>:14: FutureWarning: The frame.append method is deprecated and will be removed from pandas in a future version. Use pandas.concat instead.\n",
      "  df = df.append(table[1].dropna())\n"
     ]
    },
    {
     "name": "stdout",
     "output_type": "stream",
     "text": [
      "https://finance.naver.com/world/sise.naver?symbol=NAS@IXIC#&page=246\n",
      "https://finance.naver.com/world/sise.naver?symbol=NAS@IXIC#&page=247\n"
     ]
    },
    {
     "name": "stderr",
     "output_type": "stream",
     "text": [
      "<ipython-input-61-77dee5e93da6>:14: FutureWarning: The frame.append method is deprecated and will be removed from pandas in a future version. Use pandas.concat instead.\n",
      "  df = df.append(table[1].dropna())\n",
      "<ipython-input-61-77dee5e93da6>:14: FutureWarning: The frame.append method is deprecated and will be removed from pandas in a future version. Use pandas.concat instead.\n",
      "  df = df.append(table[1].dropna())\n"
     ]
    },
    {
     "name": "stdout",
     "output_type": "stream",
     "text": [
      "https://finance.naver.com/world/sise.naver?symbol=NAS@IXIC#&page=248\n",
      "https://finance.naver.com/world/sise.naver?symbol=NAS@IXIC#&page=249\n"
     ]
    },
    {
     "name": "stderr",
     "output_type": "stream",
     "text": [
      "<ipython-input-61-77dee5e93da6>:14: FutureWarning: The frame.append method is deprecated and will be removed from pandas in a future version. Use pandas.concat instead.\n",
      "  df = df.append(table[1].dropna())\n",
      "<ipython-input-61-77dee5e93da6>:14: FutureWarning: The frame.append method is deprecated and will be removed from pandas in a future version. Use pandas.concat instead.\n",
      "  df = df.append(table[1].dropna())\n"
     ]
    },
    {
     "name": "stdout",
     "output_type": "stream",
     "text": [
      "https://finance.naver.com/world/sise.naver?symbol=NAS@IXIC#&page=250\n",
      "https://finance.naver.com/world/sise.naver?symbol=NAS@IXIC#&page=251\n"
     ]
    },
    {
     "name": "stderr",
     "output_type": "stream",
     "text": [
      "<ipython-input-61-77dee5e93da6>:14: FutureWarning: The frame.append method is deprecated and will be removed from pandas in a future version. Use pandas.concat instead.\n",
      "  df = df.append(table[1].dropna())\n",
      "<ipython-input-61-77dee5e93da6>:14: FutureWarning: The frame.append method is deprecated and will be removed from pandas in a future version. Use pandas.concat instead.\n",
      "  df = df.append(table[1].dropna())\n"
     ]
    },
    {
     "name": "stdout",
     "output_type": "stream",
     "text": [
      "https://finance.naver.com/world/sise.naver?symbol=NAS@IXIC#&page=252\n",
      "https://finance.naver.com/world/sise.naver?symbol=NAS@IXIC#&page=253\n"
     ]
    },
    {
     "name": "stderr",
     "output_type": "stream",
     "text": [
      "<ipython-input-61-77dee5e93da6>:14: FutureWarning: The frame.append method is deprecated and will be removed from pandas in a future version. Use pandas.concat instead.\n",
      "  df = df.append(table[1].dropna())\n",
      "<ipython-input-61-77dee5e93da6>:14: FutureWarning: The frame.append method is deprecated and will be removed from pandas in a future version. Use pandas.concat instead.\n",
      "  df = df.append(table[1].dropna())\n"
     ]
    },
    {
     "name": "stdout",
     "output_type": "stream",
     "text": [
      "https://finance.naver.com/world/sise.naver?symbol=NAS@IXIC#&page=254\n",
      "https://finance.naver.com/world/sise.naver?symbol=NAS@IXIC#&page=255\n"
     ]
    },
    {
     "name": "stderr",
     "output_type": "stream",
     "text": [
      "<ipython-input-61-77dee5e93da6>:14: FutureWarning: The frame.append method is deprecated and will be removed from pandas in a future version. Use pandas.concat instead.\n",
      "  df = df.append(table[1].dropna())\n",
      "<ipython-input-61-77dee5e93da6>:14: FutureWarning: The frame.append method is deprecated and will be removed from pandas in a future version. Use pandas.concat instead.\n",
      "  df = df.append(table[1].dropna())\n"
     ]
    },
    {
     "name": "stdout",
     "output_type": "stream",
     "text": [
      "https://finance.naver.com/world/sise.naver?symbol=NAS@IXIC#&page=256\n",
      "https://finance.naver.com/world/sise.naver?symbol=NAS@IXIC#&page=257\n"
     ]
    },
    {
     "name": "stderr",
     "output_type": "stream",
     "text": [
      "<ipython-input-61-77dee5e93da6>:14: FutureWarning: The frame.append method is deprecated and will be removed from pandas in a future version. Use pandas.concat instead.\n",
      "  df = df.append(table[1].dropna())\n",
      "<ipython-input-61-77dee5e93da6>:14: FutureWarning: The frame.append method is deprecated and will be removed from pandas in a future version. Use pandas.concat instead.\n",
      "  df = df.append(table[1].dropna())\n"
     ]
    },
    {
     "name": "stdout",
     "output_type": "stream",
     "text": [
      "https://finance.naver.com/world/sise.naver?symbol=NAS@IXIC#&page=258\n",
      "https://finance.naver.com/world/sise.naver?symbol=NAS@IXIC#&page=259\n"
     ]
    },
    {
     "name": "stderr",
     "output_type": "stream",
     "text": [
      "<ipython-input-61-77dee5e93da6>:14: FutureWarning: The frame.append method is deprecated and will be removed from pandas in a future version. Use pandas.concat instead.\n",
      "  df = df.append(table[1].dropna())\n",
      "<ipython-input-61-77dee5e93da6>:14: FutureWarning: The frame.append method is deprecated and will be removed from pandas in a future version. Use pandas.concat instead.\n",
      "  df = df.append(table[1].dropna())\n"
     ]
    },
    {
     "name": "stdout",
     "output_type": "stream",
     "text": [
      "https://finance.naver.com/world/sise.naver?symbol=NAS@IXIC#&page=260\n",
      "https://finance.naver.com/world/sise.naver?symbol=NAS@IXIC#&page=261\n"
     ]
    },
    {
     "name": "stderr",
     "output_type": "stream",
     "text": [
      "<ipython-input-61-77dee5e93da6>:14: FutureWarning: The frame.append method is deprecated and will be removed from pandas in a future version. Use pandas.concat instead.\n",
      "  df = df.append(table[1].dropna())\n",
      "<ipython-input-61-77dee5e93da6>:14: FutureWarning: The frame.append method is deprecated and will be removed from pandas in a future version. Use pandas.concat instead.\n",
      "  df = df.append(table[1].dropna())\n"
     ]
    },
    {
     "name": "stdout",
     "output_type": "stream",
     "text": [
      "https://finance.naver.com/world/sise.naver?symbol=NAS@IXIC#&page=262\n",
      "https://finance.naver.com/world/sise.naver?symbol=NAS@IXIC#&page=263\n"
     ]
    },
    {
     "name": "stderr",
     "output_type": "stream",
     "text": [
      "<ipython-input-61-77dee5e93da6>:14: FutureWarning: The frame.append method is deprecated and will be removed from pandas in a future version. Use pandas.concat instead.\n",
      "  df = df.append(table[1].dropna())\n",
      "<ipython-input-61-77dee5e93da6>:14: FutureWarning: The frame.append method is deprecated and will be removed from pandas in a future version. Use pandas.concat instead.\n",
      "  df = df.append(table[1].dropna())\n"
     ]
    },
    {
     "name": "stdout",
     "output_type": "stream",
     "text": [
      "https://finance.naver.com/world/sise.naver?symbol=NAS@IXIC#&page=264\n",
      "https://finance.naver.com/world/sise.naver?symbol=NAS@IXIC#&page=265\n"
     ]
    },
    {
     "name": "stderr",
     "output_type": "stream",
     "text": [
      "<ipython-input-61-77dee5e93da6>:14: FutureWarning: The frame.append method is deprecated and will be removed from pandas in a future version. Use pandas.concat instead.\n",
      "  df = df.append(table[1].dropna())\n",
      "<ipython-input-61-77dee5e93da6>:14: FutureWarning: The frame.append method is deprecated and will be removed from pandas in a future version. Use pandas.concat instead.\n",
      "  df = df.append(table[1].dropna())\n"
     ]
    },
    {
     "name": "stdout",
     "output_type": "stream",
     "text": [
      "https://finance.naver.com/world/sise.naver?symbol=NAS@IXIC#&page=266\n",
      "https://finance.naver.com/world/sise.naver?symbol=NAS@IXIC#&page=267\n"
     ]
    },
    {
     "name": "stderr",
     "output_type": "stream",
     "text": [
      "<ipython-input-61-77dee5e93da6>:14: FutureWarning: The frame.append method is deprecated and will be removed from pandas in a future version. Use pandas.concat instead.\n",
      "  df = df.append(table[1].dropna())\n",
      "<ipython-input-61-77dee5e93da6>:14: FutureWarning: The frame.append method is deprecated and will be removed from pandas in a future version. Use pandas.concat instead.\n",
      "  df = df.append(table[1].dropna())\n"
     ]
    },
    {
     "name": "stdout",
     "output_type": "stream",
     "text": [
      "https://finance.naver.com/world/sise.naver?symbol=NAS@IXIC#&page=268\n",
      "https://finance.naver.com/world/sise.naver?symbol=NAS@IXIC#&page=269\n"
     ]
    },
    {
     "name": "stderr",
     "output_type": "stream",
     "text": [
      "<ipython-input-61-77dee5e93da6>:14: FutureWarning: The frame.append method is deprecated and will be removed from pandas in a future version. Use pandas.concat instead.\n",
      "  df = df.append(table[1].dropna())\n"
     ]
    },
    {
     "name": "stdout",
     "output_type": "stream",
     "text": [
      "https://finance.naver.com/world/sise.naver?symbol=NAS@IXIC#&page=270\n"
     ]
    },
    {
     "name": "stderr",
     "output_type": "stream",
     "text": [
      "<ipython-input-61-77dee5e93da6>:14: FutureWarning: The frame.append method is deprecated and will be removed from pandas in a future version. Use pandas.concat instead.\n",
      "  df = df.append(table[1].dropna())\n",
      "<ipython-input-61-77dee5e93da6>:14: FutureWarning: The frame.append method is deprecated and will be removed from pandas in a future version. Use pandas.concat instead.\n",
      "  df = df.append(table[1].dropna())\n"
     ]
    },
    {
     "name": "stdout",
     "output_type": "stream",
     "text": [
      "https://finance.naver.com/world/sise.naver?symbol=NAS@IXIC#&page=271\n",
      "https://finance.naver.com/world/sise.naver?symbol=NAS@IXIC#&page=272\n"
     ]
    },
    {
     "name": "stderr",
     "output_type": "stream",
     "text": [
      "<ipython-input-61-77dee5e93da6>:14: FutureWarning: The frame.append method is deprecated and will be removed from pandas in a future version. Use pandas.concat instead.\n",
      "  df = df.append(table[1].dropna())\n",
      "<ipython-input-61-77dee5e93da6>:14: FutureWarning: The frame.append method is deprecated and will be removed from pandas in a future version. Use pandas.concat instead.\n",
      "  df = df.append(table[1].dropna())\n"
     ]
    },
    {
     "name": "stdout",
     "output_type": "stream",
     "text": [
      "https://finance.naver.com/world/sise.naver?symbol=NAS@IXIC#&page=273\n",
      "https://finance.naver.com/world/sise.naver?symbol=NAS@IXIC#&page=274\n"
     ]
    },
    {
     "name": "stderr",
     "output_type": "stream",
     "text": [
      "<ipython-input-61-77dee5e93da6>:14: FutureWarning: The frame.append method is deprecated and will be removed from pandas in a future version. Use pandas.concat instead.\n",
      "  df = df.append(table[1].dropna())\n",
      "<ipython-input-61-77dee5e93da6>:14: FutureWarning: The frame.append method is deprecated and will be removed from pandas in a future version. Use pandas.concat instead.\n",
      "  df = df.append(table[1].dropna())\n"
     ]
    },
    {
     "name": "stdout",
     "output_type": "stream",
     "text": [
      "https://finance.naver.com/world/sise.naver?symbol=NAS@IXIC#&page=275\n",
      "https://finance.naver.com/world/sise.naver?symbol=NAS@IXIC#&page=276\n"
     ]
    },
    {
     "name": "stderr",
     "output_type": "stream",
     "text": [
      "<ipython-input-61-77dee5e93da6>:14: FutureWarning: The frame.append method is deprecated and will be removed from pandas in a future version. Use pandas.concat instead.\n",
      "  df = df.append(table[1].dropna())\n",
      "<ipython-input-61-77dee5e93da6>:14: FutureWarning: The frame.append method is deprecated and will be removed from pandas in a future version. Use pandas.concat instead.\n",
      "  df = df.append(table[1].dropna())\n"
     ]
    },
    {
     "name": "stdout",
     "output_type": "stream",
     "text": [
      "https://finance.naver.com/world/sise.naver?symbol=NAS@IXIC#&page=277\n",
      "https://finance.naver.com/world/sise.naver?symbol=NAS@IXIC#&page=278\n"
     ]
    },
    {
     "name": "stderr",
     "output_type": "stream",
     "text": [
      "<ipython-input-61-77dee5e93da6>:14: FutureWarning: The frame.append method is deprecated and will be removed from pandas in a future version. Use pandas.concat instead.\n",
      "  df = df.append(table[1].dropna())\n",
      "<ipython-input-61-77dee5e93da6>:14: FutureWarning: The frame.append method is deprecated and will be removed from pandas in a future version. Use pandas.concat instead.\n",
      "  df = df.append(table[1].dropna())\n"
     ]
    },
    {
     "name": "stdout",
     "output_type": "stream",
     "text": [
      "https://finance.naver.com/world/sise.naver?symbol=NAS@IXIC#&page=279\n",
      "https://finance.naver.com/world/sise.naver?symbol=NAS@IXIC#&page=280\n"
     ]
    },
    {
     "name": "stderr",
     "output_type": "stream",
     "text": [
      "<ipython-input-61-77dee5e93da6>:14: FutureWarning: The frame.append method is deprecated and will be removed from pandas in a future version. Use pandas.concat instead.\n",
      "  df = df.append(table[1].dropna())\n",
      "<ipython-input-61-77dee5e93da6>:14: FutureWarning: The frame.append method is deprecated and will be removed from pandas in a future version. Use pandas.concat instead.\n",
      "  df = df.append(table[1].dropna())\n"
     ]
    },
    {
     "name": "stdout",
     "output_type": "stream",
     "text": [
      "https://finance.naver.com/world/sise.naver?symbol=NAS@IXIC#&page=281\n",
      "https://finance.naver.com/world/sise.naver?symbol=NAS@IXIC#&page=282\n"
     ]
    },
    {
     "name": "stderr",
     "output_type": "stream",
     "text": [
      "<ipython-input-61-77dee5e93da6>:14: FutureWarning: The frame.append method is deprecated and will be removed from pandas in a future version. Use pandas.concat instead.\n",
      "  df = df.append(table[1].dropna())\n",
      "<ipython-input-61-77dee5e93da6>:14: FutureWarning: The frame.append method is deprecated and will be removed from pandas in a future version. Use pandas.concat instead.\n",
      "  df = df.append(table[1].dropna())\n"
     ]
    },
    {
     "name": "stdout",
     "output_type": "stream",
     "text": [
      "https://finance.naver.com/world/sise.naver?symbol=NAS@IXIC#&page=283\n",
      "https://finance.naver.com/world/sise.naver?symbol=NAS@IXIC#&page=284\n"
     ]
    },
    {
     "name": "stderr",
     "output_type": "stream",
     "text": [
      "<ipython-input-61-77dee5e93da6>:14: FutureWarning: The frame.append method is deprecated and will be removed from pandas in a future version. Use pandas.concat instead.\n",
      "  df = df.append(table[1].dropna())\n",
      "<ipython-input-61-77dee5e93da6>:14: FutureWarning: The frame.append method is deprecated and will be removed from pandas in a future version. Use pandas.concat instead.\n",
      "  df = df.append(table[1].dropna())\n"
     ]
    },
    {
     "name": "stdout",
     "output_type": "stream",
     "text": [
      "https://finance.naver.com/world/sise.naver?symbol=NAS@IXIC#&page=285\n",
      "https://finance.naver.com/world/sise.naver?symbol=NAS@IXIC#&page=286\n"
     ]
    },
    {
     "name": "stderr",
     "output_type": "stream",
     "text": [
      "<ipython-input-61-77dee5e93da6>:14: FutureWarning: The frame.append method is deprecated and will be removed from pandas in a future version. Use pandas.concat instead.\n",
      "  df = df.append(table[1].dropna())\n"
     ]
    },
    {
     "name": "stdout",
     "output_type": "stream",
     "text": [
      "https://finance.naver.com/world/sise.naver?symbol=NAS@IXIC#&page=287\n"
     ]
    },
    {
     "name": "stderr",
     "output_type": "stream",
     "text": [
      "<ipython-input-61-77dee5e93da6>:14: FutureWarning: The frame.append method is deprecated and will be removed from pandas in a future version. Use pandas.concat instead.\n",
      "  df = df.append(table[1].dropna())\n",
      "<ipython-input-61-77dee5e93da6>:14: FutureWarning: The frame.append method is deprecated and will be removed from pandas in a future version. Use pandas.concat instead.\n",
      "  df = df.append(table[1].dropna())\n"
     ]
    },
    {
     "name": "stdout",
     "output_type": "stream",
     "text": [
      "https://finance.naver.com/world/sise.naver?symbol=NAS@IXIC#&page=288\n",
      "https://finance.naver.com/world/sise.naver?symbol=NAS@IXIC#&page=289\n"
     ]
    },
    {
     "name": "stderr",
     "output_type": "stream",
     "text": [
      "<ipython-input-61-77dee5e93da6>:14: FutureWarning: The frame.append method is deprecated and will be removed from pandas in a future version. Use pandas.concat instead.\n",
      "  df = df.append(table[1].dropna())\n",
      "<ipython-input-61-77dee5e93da6>:14: FutureWarning: The frame.append method is deprecated and will be removed from pandas in a future version. Use pandas.concat instead.\n",
      "  df = df.append(table[1].dropna())\n"
     ]
    },
    {
     "name": "stdout",
     "output_type": "stream",
     "text": [
      "https://finance.naver.com/world/sise.naver?symbol=NAS@IXIC#&page=290\n",
      "https://finance.naver.com/world/sise.naver?symbol=NAS@IXIC#&page=291\n"
     ]
    },
    {
     "name": "stderr",
     "output_type": "stream",
     "text": [
      "<ipython-input-61-77dee5e93da6>:14: FutureWarning: The frame.append method is deprecated and will be removed from pandas in a future version. Use pandas.concat instead.\n",
      "  df = df.append(table[1].dropna())\n",
      "<ipython-input-61-77dee5e93da6>:14: FutureWarning: The frame.append method is deprecated and will be removed from pandas in a future version. Use pandas.concat instead.\n",
      "  df = df.append(table[1].dropna())\n"
     ]
    },
    {
     "name": "stdout",
     "output_type": "stream",
     "text": [
      "https://finance.naver.com/world/sise.naver?symbol=NAS@IXIC#&page=292\n",
      "https://finance.naver.com/world/sise.naver?symbol=NAS@IXIC#&page=293\n"
     ]
    },
    {
     "name": "stderr",
     "output_type": "stream",
     "text": [
      "<ipython-input-61-77dee5e93da6>:14: FutureWarning: The frame.append method is deprecated and will be removed from pandas in a future version. Use pandas.concat instead.\n",
      "  df = df.append(table[1].dropna())\n",
      "<ipython-input-61-77dee5e93da6>:14: FutureWarning: The frame.append method is deprecated and will be removed from pandas in a future version. Use pandas.concat instead.\n",
      "  df = df.append(table[1].dropna())\n"
     ]
    },
    {
     "name": "stdout",
     "output_type": "stream",
     "text": [
      "https://finance.naver.com/world/sise.naver?symbol=NAS@IXIC#&page=294\n",
      "https://finance.naver.com/world/sise.naver?symbol=NAS@IXIC#&page=295\n"
     ]
    },
    {
     "name": "stderr",
     "output_type": "stream",
     "text": [
      "<ipython-input-61-77dee5e93da6>:14: FutureWarning: The frame.append method is deprecated and will be removed from pandas in a future version. Use pandas.concat instead.\n",
      "  df = df.append(table[1].dropna())\n",
      "<ipython-input-61-77dee5e93da6>:14: FutureWarning: The frame.append method is deprecated and will be removed from pandas in a future version. Use pandas.concat instead.\n",
      "  df = df.append(table[1].dropna())\n"
     ]
    },
    {
     "name": "stdout",
     "output_type": "stream",
     "text": [
      "https://finance.naver.com/world/sise.naver?symbol=NAS@IXIC#&page=296\n",
      "https://finance.naver.com/world/sise.naver?symbol=NAS@IXIC#&page=297\n"
     ]
    },
    {
     "name": "stderr",
     "output_type": "stream",
     "text": [
      "<ipython-input-61-77dee5e93da6>:14: FutureWarning: The frame.append method is deprecated and will be removed from pandas in a future version. Use pandas.concat instead.\n",
      "  df = df.append(table[1].dropna())\n",
      "<ipython-input-61-77dee5e93da6>:14: FutureWarning: The frame.append method is deprecated and will be removed from pandas in a future version. Use pandas.concat instead.\n",
      "  df = df.append(table[1].dropna())\n"
     ]
    },
    {
     "name": "stdout",
     "output_type": "stream",
     "text": [
      "https://finance.naver.com/world/sise.naver?symbol=NAS@IXIC#&page=298\n",
      "https://finance.naver.com/world/sise.naver?symbol=NAS@IXIC#&page=299\n"
     ]
    },
    {
     "name": "stderr",
     "output_type": "stream",
     "text": [
      "<ipython-input-61-77dee5e93da6>:14: FutureWarning: The frame.append method is deprecated and will be removed from pandas in a future version. Use pandas.concat instead.\n",
      "  df = df.append(table[1].dropna())\n"
     ]
    },
    {
     "name": "stdout",
     "output_type": "stream",
     "text": [
      "https://finance.naver.com/world/sise.naver?symbol=NAS@IXIC#&page=300\n"
     ]
    },
    {
     "name": "stderr",
     "output_type": "stream",
     "text": [
      "<ipython-input-61-77dee5e93da6>:14: FutureWarning: The frame.append method is deprecated and will be removed from pandas in a future version. Use pandas.concat instead.\n",
      "  df = df.append(table[1].dropna())\n",
      "<ipython-input-61-77dee5e93da6>:14: FutureWarning: The frame.append method is deprecated and will be removed from pandas in a future version. Use pandas.concat instead.\n",
      "  df = df.append(table[1].dropna())\n"
     ]
    },
    {
     "name": "stdout",
     "output_type": "stream",
     "text": [
      "https://finance.naver.com/world/sise.naver?symbol=NAS@IXIC#&page=301\n",
      "https://finance.naver.com/world/sise.naver?symbol=NAS@IXIC#&page=302\n"
     ]
    },
    {
     "name": "stderr",
     "output_type": "stream",
     "text": [
      "<ipython-input-61-77dee5e93da6>:14: FutureWarning: The frame.append method is deprecated and will be removed from pandas in a future version. Use pandas.concat instead.\n",
      "  df = df.append(table[1].dropna())\n"
     ]
    },
    {
     "name": "stdout",
     "output_type": "stream",
     "text": [
      "https://finance.naver.com/world/sise.naver?symbol=NAS@IXIC#&page=303\n"
     ]
    },
    {
     "name": "stderr",
     "output_type": "stream",
     "text": [
      "<ipython-input-61-77dee5e93da6>:14: FutureWarning: The frame.append method is deprecated and will be removed from pandas in a future version. Use pandas.concat instead.\n",
      "  df = df.append(table[1].dropna())\n",
      "<ipython-input-61-77dee5e93da6>:14: FutureWarning: The frame.append method is deprecated and will be removed from pandas in a future version. Use pandas.concat instead.\n",
      "  df = df.append(table[1].dropna())\n"
     ]
    },
    {
     "name": "stdout",
     "output_type": "stream",
     "text": [
      "https://finance.naver.com/world/sise.naver?symbol=NAS@IXIC#&page=304\n",
      "https://finance.naver.com/world/sise.naver?symbol=NAS@IXIC#&page=305\n"
     ]
    },
    {
     "name": "stderr",
     "output_type": "stream",
     "text": [
      "<ipython-input-61-77dee5e93da6>:14: FutureWarning: The frame.append method is deprecated and will be removed from pandas in a future version. Use pandas.concat instead.\n",
      "  df = df.append(table[1].dropna())\n",
      "<ipython-input-61-77dee5e93da6>:14: FutureWarning: The frame.append method is deprecated and will be removed from pandas in a future version. Use pandas.concat instead.\n",
      "  df = df.append(table[1].dropna())\n"
     ]
    },
    {
     "name": "stdout",
     "output_type": "stream",
     "text": [
      "https://finance.naver.com/world/sise.naver?symbol=NAS@IXIC#&page=306\n",
      "https://finance.naver.com/world/sise.naver?symbol=NAS@IXIC#&page=307\n"
     ]
    },
    {
     "name": "stderr",
     "output_type": "stream",
     "text": [
      "<ipython-input-61-77dee5e93da6>:14: FutureWarning: The frame.append method is deprecated and will be removed from pandas in a future version. Use pandas.concat instead.\n",
      "  df = df.append(table[1].dropna())\n",
      "<ipython-input-61-77dee5e93da6>:14: FutureWarning: The frame.append method is deprecated and will be removed from pandas in a future version. Use pandas.concat instead.\n",
      "  df = df.append(table[1].dropna())\n"
     ]
    },
    {
     "name": "stdout",
     "output_type": "stream",
     "text": [
      "https://finance.naver.com/world/sise.naver?symbol=NAS@IXIC#&page=308\n",
      "https://finance.naver.com/world/sise.naver?symbol=NAS@IXIC#&page=309\n"
     ]
    },
    {
     "name": "stderr",
     "output_type": "stream",
     "text": [
      "<ipython-input-61-77dee5e93da6>:14: FutureWarning: The frame.append method is deprecated and will be removed from pandas in a future version. Use pandas.concat instead.\n",
      "  df = df.append(table[1].dropna())\n",
      "<ipython-input-61-77dee5e93da6>:14: FutureWarning: The frame.append method is deprecated and will be removed from pandas in a future version. Use pandas.concat instead.\n",
      "  df = df.append(table[1].dropna())\n"
     ]
    },
    {
     "name": "stdout",
     "output_type": "stream",
     "text": [
      "https://finance.naver.com/world/sise.naver?symbol=NAS@IXIC#&page=310\n",
      "https://finance.naver.com/world/sise.naver?symbol=NAS@IXIC#&page=311\n"
     ]
    },
    {
     "name": "stderr",
     "output_type": "stream",
     "text": [
      "<ipython-input-61-77dee5e93da6>:14: FutureWarning: The frame.append method is deprecated and will be removed from pandas in a future version. Use pandas.concat instead.\n",
      "  df = df.append(table[1].dropna())\n",
      "<ipython-input-61-77dee5e93da6>:14: FutureWarning: The frame.append method is deprecated and will be removed from pandas in a future version. Use pandas.concat instead.\n",
      "  df = df.append(table[1].dropna())\n"
     ]
    },
    {
     "name": "stdout",
     "output_type": "stream",
     "text": [
      "https://finance.naver.com/world/sise.naver?symbol=NAS@IXIC#&page=312\n",
      "https://finance.naver.com/world/sise.naver?symbol=NAS@IXIC#&page=313\n"
     ]
    },
    {
     "name": "stderr",
     "output_type": "stream",
     "text": [
      "<ipython-input-61-77dee5e93da6>:14: FutureWarning: The frame.append method is deprecated and will be removed from pandas in a future version. Use pandas.concat instead.\n",
      "  df = df.append(table[1].dropna())\n"
     ]
    },
    {
     "name": "stdout",
     "output_type": "stream",
     "text": [
      "https://finance.naver.com/world/sise.naver?symbol=NAS@IXIC#&page=314\n"
     ]
    },
    {
     "name": "stderr",
     "output_type": "stream",
     "text": [
      "<ipython-input-61-77dee5e93da6>:14: FutureWarning: The frame.append method is deprecated and will be removed from pandas in a future version. Use pandas.concat instead.\n",
      "  df = df.append(table[1].dropna())\n",
      "<ipython-input-61-77dee5e93da6>:14: FutureWarning: The frame.append method is deprecated and will be removed from pandas in a future version. Use pandas.concat instead.\n",
      "  df = df.append(table[1].dropna())\n"
     ]
    },
    {
     "name": "stdout",
     "output_type": "stream",
     "text": [
      "https://finance.naver.com/world/sise.naver?symbol=NAS@IXIC#&page=315\n",
      "https://finance.naver.com/world/sise.naver?symbol=NAS@IXIC#&page=316\n"
     ]
    },
    {
     "name": "stderr",
     "output_type": "stream",
     "text": [
      "<ipython-input-61-77dee5e93da6>:14: FutureWarning: The frame.append method is deprecated and will be removed from pandas in a future version. Use pandas.concat instead.\n",
      "  df = df.append(table[1].dropna())\n",
      "<ipython-input-61-77dee5e93da6>:14: FutureWarning: The frame.append method is deprecated and will be removed from pandas in a future version. Use pandas.concat instead.\n",
      "  df = df.append(table[1].dropna())\n"
     ]
    },
    {
     "name": "stdout",
     "output_type": "stream",
     "text": [
      "https://finance.naver.com/world/sise.naver?symbol=NAS@IXIC#&page=317\n",
      "https://finance.naver.com/world/sise.naver?symbol=NAS@IXIC#&page=318\n"
     ]
    },
    {
     "name": "stderr",
     "output_type": "stream",
     "text": [
      "<ipython-input-61-77dee5e93da6>:14: FutureWarning: The frame.append method is deprecated and will be removed from pandas in a future version. Use pandas.concat instead.\n",
      "  df = df.append(table[1].dropna())\n",
      "<ipython-input-61-77dee5e93da6>:14: FutureWarning: The frame.append method is deprecated and will be removed from pandas in a future version. Use pandas.concat instead.\n",
      "  df = df.append(table[1].dropna())\n"
     ]
    },
    {
     "name": "stdout",
     "output_type": "stream",
     "text": [
      "https://finance.naver.com/world/sise.naver?symbol=NAS@IXIC#&page=319\n",
      "https://finance.naver.com/world/sise.naver?symbol=NAS@IXIC#&page=320\n"
     ]
    },
    {
     "name": "stderr",
     "output_type": "stream",
     "text": [
      "<ipython-input-61-77dee5e93da6>:14: FutureWarning: The frame.append method is deprecated and will be removed from pandas in a future version. Use pandas.concat instead.\n",
      "  df = df.append(table[1].dropna())\n",
      "<ipython-input-61-77dee5e93da6>:14: FutureWarning: The frame.append method is deprecated and will be removed from pandas in a future version. Use pandas.concat instead.\n",
      "  df = df.append(table[1].dropna())\n"
     ]
    },
    {
     "name": "stdout",
     "output_type": "stream",
     "text": [
      "https://finance.naver.com/world/sise.naver?symbol=NAS@IXIC#&page=321\n",
      "https://finance.naver.com/world/sise.naver?symbol=NAS@IXIC#&page=322\n"
     ]
    },
    {
     "name": "stderr",
     "output_type": "stream",
     "text": [
      "<ipython-input-61-77dee5e93da6>:14: FutureWarning: The frame.append method is deprecated and will be removed from pandas in a future version. Use pandas.concat instead.\n",
      "  df = df.append(table[1].dropna())\n",
      "<ipython-input-61-77dee5e93da6>:14: FutureWarning: The frame.append method is deprecated and will be removed from pandas in a future version. Use pandas.concat instead.\n",
      "  df = df.append(table[1].dropna())\n"
     ]
    },
    {
     "name": "stdout",
     "output_type": "stream",
     "text": [
      "https://finance.naver.com/world/sise.naver?symbol=NAS@IXIC#&page=323\n",
      "https://finance.naver.com/world/sise.naver?symbol=NAS@IXIC#&page=324\n"
     ]
    },
    {
     "name": "stderr",
     "output_type": "stream",
     "text": [
      "<ipython-input-61-77dee5e93da6>:14: FutureWarning: The frame.append method is deprecated and will be removed from pandas in a future version. Use pandas.concat instead.\n",
      "  df = df.append(table[1].dropna())\n",
      "<ipython-input-61-77dee5e93da6>:14: FutureWarning: The frame.append method is deprecated and will be removed from pandas in a future version. Use pandas.concat instead.\n",
      "  df = df.append(table[1].dropna())\n"
     ]
    },
    {
     "name": "stdout",
     "output_type": "stream",
     "text": [
      "https://finance.naver.com/world/sise.naver?symbol=NAS@IXIC#&page=325\n",
      "https://finance.naver.com/world/sise.naver?symbol=NAS@IXIC#&page=326\n"
     ]
    },
    {
     "name": "stderr",
     "output_type": "stream",
     "text": [
      "<ipython-input-61-77dee5e93da6>:14: FutureWarning: The frame.append method is deprecated and will be removed from pandas in a future version. Use pandas.concat instead.\n",
      "  df = df.append(table[1].dropna())\n",
      "<ipython-input-61-77dee5e93da6>:14: FutureWarning: The frame.append method is deprecated and will be removed from pandas in a future version. Use pandas.concat instead.\n",
      "  df = df.append(table[1].dropna())\n"
     ]
    },
    {
     "name": "stdout",
     "output_type": "stream",
     "text": [
      "https://finance.naver.com/world/sise.naver?symbol=NAS@IXIC#&page=327\n",
      "https://finance.naver.com/world/sise.naver?symbol=NAS@IXIC#&page=328\n"
     ]
    },
    {
     "name": "stderr",
     "output_type": "stream",
     "text": [
      "<ipython-input-61-77dee5e93da6>:14: FutureWarning: The frame.append method is deprecated and will be removed from pandas in a future version. Use pandas.concat instead.\n",
      "  df = df.append(table[1].dropna())\n",
      "<ipython-input-61-77dee5e93da6>:14: FutureWarning: The frame.append method is deprecated and will be removed from pandas in a future version. Use pandas.concat instead.\n",
      "  df = df.append(table[1].dropna())\n"
     ]
    },
    {
     "name": "stdout",
     "output_type": "stream",
     "text": [
      "https://finance.naver.com/world/sise.naver?symbol=NAS@IXIC#&page=329\n",
      "https://finance.naver.com/world/sise.naver?symbol=NAS@IXIC#&page=330\n"
     ]
    },
    {
     "name": "stderr",
     "output_type": "stream",
     "text": [
      "<ipython-input-61-77dee5e93da6>:14: FutureWarning: The frame.append method is deprecated and will be removed from pandas in a future version. Use pandas.concat instead.\n",
      "  df = df.append(table[1].dropna())\n",
      "<ipython-input-61-77dee5e93da6>:14: FutureWarning: The frame.append method is deprecated and will be removed from pandas in a future version. Use pandas.concat instead.\n",
      "  df = df.append(table[1].dropna())\n"
     ]
    },
    {
     "name": "stdout",
     "output_type": "stream",
     "text": [
      "https://finance.naver.com/world/sise.naver?symbol=NAS@IXIC#&page=331\n",
      "https://finance.naver.com/world/sise.naver?symbol=NAS@IXIC#&page=332\n"
     ]
    },
    {
     "name": "stderr",
     "output_type": "stream",
     "text": [
      "<ipython-input-61-77dee5e93da6>:14: FutureWarning: The frame.append method is deprecated and will be removed from pandas in a future version. Use pandas.concat instead.\n",
      "  df = df.append(table[1].dropna())\n",
      "<ipython-input-61-77dee5e93da6>:14: FutureWarning: The frame.append method is deprecated and will be removed from pandas in a future version. Use pandas.concat instead.\n",
      "  df = df.append(table[1].dropna())\n"
     ]
    },
    {
     "name": "stdout",
     "output_type": "stream",
     "text": [
      "https://finance.naver.com/world/sise.naver?symbol=NAS@IXIC#&page=333\n",
      "https://finance.naver.com/world/sise.naver?symbol=NAS@IXIC#&page=334\n"
     ]
    },
    {
     "name": "stderr",
     "output_type": "stream",
     "text": [
      "<ipython-input-61-77dee5e93da6>:14: FutureWarning: The frame.append method is deprecated and will be removed from pandas in a future version. Use pandas.concat instead.\n",
      "  df = df.append(table[1].dropna())\n",
      "<ipython-input-61-77dee5e93da6>:14: FutureWarning: The frame.append method is deprecated and will be removed from pandas in a future version. Use pandas.concat instead.\n",
      "  df = df.append(table[1].dropna())\n"
     ]
    },
    {
     "name": "stdout",
     "output_type": "stream",
     "text": [
      "https://finance.naver.com/world/sise.naver?symbol=NAS@IXIC#&page=335\n",
      "https://finance.naver.com/world/sise.naver?symbol=NAS@IXIC#&page=336\n"
     ]
    },
    {
     "name": "stderr",
     "output_type": "stream",
     "text": [
      "<ipython-input-61-77dee5e93da6>:14: FutureWarning: The frame.append method is deprecated and will be removed from pandas in a future version. Use pandas.concat instead.\n",
      "  df = df.append(table[1].dropna())\n",
      "<ipython-input-61-77dee5e93da6>:14: FutureWarning: The frame.append method is deprecated and will be removed from pandas in a future version. Use pandas.concat instead.\n",
      "  df = df.append(table[1].dropna())\n"
     ]
    },
    {
     "name": "stdout",
     "output_type": "stream",
     "text": [
      "https://finance.naver.com/world/sise.naver?symbol=NAS@IXIC#&page=337\n",
      "https://finance.naver.com/world/sise.naver?symbol=NAS@IXIC#&page=338\n"
     ]
    },
    {
     "name": "stderr",
     "output_type": "stream",
     "text": [
      "<ipython-input-61-77dee5e93da6>:14: FutureWarning: The frame.append method is deprecated and will be removed from pandas in a future version. Use pandas.concat instead.\n",
      "  df = df.append(table[1].dropna())\n",
      "<ipython-input-61-77dee5e93da6>:14: FutureWarning: The frame.append method is deprecated and will be removed from pandas in a future version. Use pandas.concat instead.\n",
      "  df = df.append(table[1].dropna())\n"
     ]
    },
    {
     "name": "stdout",
     "output_type": "stream",
     "text": [
      "https://finance.naver.com/world/sise.naver?symbol=NAS@IXIC#&page=339\n",
      "https://finance.naver.com/world/sise.naver?symbol=NAS@IXIC#&page=340\n"
     ]
    },
    {
     "name": "stderr",
     "output_type": "stream",
     "text": [
      "<ipython-input-61-77dee5e93da6>:14: FutureWarning: The frame.append method is deprecated and will be removed from pandas in a future version. Use pandas.concat instead.\n",
      "  df = df.append(table[1].dropna())\n",
      "<ipython-input-61-77dee5e93da6>:14: FutureWarning: The frame.append method is deprecated and will be removed from pandas in a future version. Use pandas.concat instead.\n",
      "  df = df.append(table[1].dropna())\n"
     ]
    },
    {
     "name": "stdout",
     "output_type": "stream",
     "text": [
      "https://finance.naver.com/world/sise.naver?symbol=NAS@IXIC#&page=341\n",
      "https://finance.naver.com/world/sise.naver?symbol=NAS@IXIC#&page=342\n"
     ]
    },
    {
     "name": "stderr",
     "output_type": "stream",
     "text": [
      "<ipython-input-61-77dee5e93da6>:14: FutureWarning: The frame.append method is deprecated and will be removed from pandas in a future version. Use pandas.concat instead.\n",
      "  df = df.append(table[1].dropna())\n",
      "<ipython-input-61-77dee5e93da6>:14: FutureWarning: The frame.append method is deprecated and will be removed from pandas in a future version. Use pandas.concat instead.\n",
      "  df = df.append(table[1].dropna())\n"
     ]
    },
    {
     "name": "stdout",
     "output_type": "stream",
     "text": [
      "https://finance.naver.com/world/sise.naver?symbol=NAS@IXIC#&page=343\n",
      "https://finance.naver.com/world/sise.naver?symbol=NAS@IXIC#&page=344\n"
     ]
    },
    {
     "name": "stderr",
     "output_type": "stream",
     "text": [
      "<ipython-input-61-77dee5e93da6>:14: FutureWarning: The frame.append method is deprecated and will be removed from pandas in a future version. Use pandas.concat instead.\n",
      "  df = df.append(table[1].dropna())\n",
      "<ipython-input-61-77dee5e93da6>:14: FutureWarning: The frame.append method is deprecated and will be removed from pandas in a future version. Use pandas.concat instead.\n",
      "  df = df.append(table[1].dropna())\n"
     ]
    },
    {
     "name": "stdout",
     "output_type": "stream",
     "text": [
      "https://finance.naver.com/world/sise.naver?symbol=NAS@IXIC#&page=345\n",
      "https://finance.naver.com/world/sise.naver?symbol=NAS@IXIC#&page=346\n"
     ]
    },
    {
     "name": "stderr",
     "output_type": "stream",
     "text": [
      "<ipython-input-61-77dee5e93da6>:14: FutureWarning: The frame.append method is deprecated and will be removed from pandas in a future version. Use pandas.concat instead.\n",
      "  df = df.append(table[1].dropna())\n",
      "<ipython-input-61-77dee5e93da6>:14: FutureWarning: The frame.append method is deprecated and will be removed from pandas in a future version. Use pandas.concat instead.\n",
      "  df = df.append(table[1].dropna())\n"
     ]
    },
    {
     "name": "stdout",
     "output_type": "stream",
     "text": [
      "https://finance.naver.com/world/sise.naver?symbol=NAS@IXIC#&page=347\n",
      "https://finance.naver.com/world/sise.naver?symbol=NAS@IXIC#&page=348\n"
     ]
    },
    {
     "name": "stderr",
     "output_type": "stream",
     "text": [
      "<ipython-input-61-77dee5e93da6>:14: FutureWarning: The frame.append method is deprecated and will be removed from pandas in a future version. Use pandas.concat instead.\n",
      "  df = df.append(table[1].dropna())\n",
      "<ipython-input-61-77dee5e93da6>:14: FutureWarning: The frame.append method is deprecated and will be removed from pandas in a future version. Use pandas.concat instead.\n",
      "  df = df.append(table[1].dropna())\n"
     ]
    },
    {
     "name": "stdout",
     "output_type": "stream",
     "text": [
      "https://finance.naver.com/world/sise.naver?symbol=NAS@IXIC#&page=349\n",
      "https://finance.naver.com/world/sise.naver?symbol=NAS@IXIC#&page=350\n"
     ]
    },
    {
     "name": "stderr",
     "output_type": "stream",
     "text": [
      "<ipython-input-61-77dee5e93da6>:14: FutureWarning: The frame.append method is deprecated and will be removed from pandas in a future version. Use pandas.concat instead.\n",
      "  df = df.append(table[1].dropna())\n",
      "<ipython-input-61-77dee5e93da6>:14: FutureWarning: The frame.append method is deprecated and will be removed from pandas in a future version. Use pandas.concat instead.\n",
      "  df = df.append(table[1].dropna())\n"
     ]
    },
    {
     "name": "stdout",
     "output_type": "stream",
     "text": [
      "https://finance.naver.com/world/sise.naver?symbol=NAS@IXIC#&page=351\n",
      "https://finance.naver.com/world/sise.naver?symbol=NAS@IXIC#&page=352\n"
     ]
    },
    {
     "name": "stderr",
     "output_type": "stream",
     "text": [
      "<ipython-input-61-77dee5e93da6>:14: FutureWarning: The frame.append method is deprecated and will be removed from pandas in a future version. Use pandas.concat instead.\n",
      "  df = df.append(table[1].dropna())\n",
      "<ipython-input-61-77dee5e93da6>:14: FutureWarning: The frame.append method is deprecated and will be removed from pandas in a future version. Use pandas.concat instead.\n",
      "  df = df.append(table[1].dropna())\n"
     ]
    },
    {
     "name": "stdout",
     "output_type": "stream",
     "text": [
      "https://finance.naver.com/world/sise.naver?symbol=NAS@IXIC#&page=353\n",
      "https://finance.naver.com/world/sise.naver?symbol=NAS@IXIC#&page=354\n"
     ]
    },
    {
     "name": "stderr",
     "output_type": "stream",
     "text": [
      "<ipython-input-61-77dee5e93da6>:14: FutureWarning: The frame.append method is deprecated and will be removed from pandas in a future version. Use pandas.concat instead.\n",
      "  df = df.append(table[1].dropna())\n",
      "<ipython-input-61-77dee5e93da6>:14: FutureWarning: The frame.append method is deprecated and will be removed from pandas in a future version. Use pandas.concat instead.\n",
      "  df = df.append(table[1].dropna())\n"
     ]
    },
    {
     "name": "stdout",
     "output_type": "stream",
     "text": [
      "https://finance.naver.com/world/sise.naver?symbol=NAS@IXIC#&page=355\n",
      "https://finance.naver.com/world/sise.naver?symbol=NAS@IXIC#&page=356\n"
     ]
    },
    {
     "name": "stderr",
     "output_type": "stream",
     "text": [
      "<ipython-input-61-77dee5e93da6>:14: FutureWarning: The frame.append method is deprecated and will be removed from pandas in a future version. Use pandas.concat instead.\n",
      "  df = df.append(table[1].dropna())\n",
      "<ipython-input-61-77dee5e93da6>:14: FutureWarning: The frame.append method is deprecated and will be removed from pandas in a future version. Use pandas.concat instead.\n",
      "  df = df.append(table[1].dropna())\n"
     ]
    },
    {
     "name": "stdout",
     "output_type": "stream",
     "text": [
      "https://finance.naver.com/world/sise.naver?symbol=NAS@IXIC#&page=357\n",
      "https://finance.naver.com/world/sise.naver?symbol=NAS@IXIC#&page=358\n"
     ]
    },
    {
     "name": "stderr",
     "output_type": "stream",
     "text": [
      "<ipython-input-61-77dee5e93da6>:14: FutureWarning: The frame.append method is deprecated and will be removed from pandas in a future version. Use pandas.concat instead.\n",
      "  df = df.append(table[1].dropna())\n",
      "<ipython-input-61-77dee5e93da6>:14: FutureWarning: The frame.append method is deprecated and will be removed from pandas in a future version. Use pandas.concat instead.\n",
      "  df = df.append(table[1].dropna())\n"
     ]
    },
    {
     "name": "stdout",
     "output_type": "stream",
     "text": [
      "https://finance.naver.com/world/sise.naver?symbol=NAS@IXIC#&page=359\n",
      "https://finance.naver.com/world/sise.naver?symbol=NAS@IXIC#&page=360\n"
     ]
    },
    {
     "name": "stderr",
     "output_type": "stream",
     "text": [
      "<ipython-input-61-77dee5e93da6>:14: FutureWarning: The frame.append method is deprecated and will be removed from pandas in a future version. Use pandas.concat instead.\n",
      "  df = df.append(table[1].dropna())\n"
     ]
    },
    {
     "name": "stdout",
     "output_type": "stream",
     "text": [
      "https://finance.naver.com/world/sise.naver?symbol=NAS@IXIC#&page=361\n"
     ]
    },
    {
     "name": "stderr",
     "output_type": "stream",
     "text": [
      "<ipython-input-61-77dee5e93da6>:14: FutureWarning: The frame.append method is deprecated and will be removed from pandas in a future version. Use pandas.concat instead.\n",
      "  df = df.append(table[1].dropna())\n",
      "<ipython-input-61-77dee5e93da6>:14: FutureWarning: The frame.append method is deprecated and will be removed from pandas in a future version. Use pandas.concat instead.\n",
      "  df = df.append(table[1].dropna())\n"
     ]
    },
    {
     "name": "stdout",
     "output_type": "stream",
     "text": [
      "https://finance.naver.com/world/sise.naver?symbol=NAS@IXIC#&page=362\n",
      "https://finance.naver.com/world/sise.naver?symbol=NAS@IXIC#&page=363\n"
     ]
    },
    {
     "name": "stderr",
     "output_type": "stream",
     "text": [
      "<ipython-input-61-77dee5e93da6>:14: FutureWarning: The frame.append method is deprecated and will be removed from pandas in a future version. Use pandas.concat instead.\n",
      "  df = df.append(table[1].dropna())\n",
      "<ipython-input-61-77dee5e93da6>:14: FutureWarning: The frame.append method is deprecated and will be removed from pandas in a future version. Use pandas.concat instead.\n",
      "  df = df.append(table[1].dropna())\n"
     ]
    },
    {
     "name": "stdout",
     "output_type": "stream",
     "text": [
      "https://finance.naver.com/world/sise.naver?symbol=NAS@IXIC#&page=364\n",
      "https://finance.naver.com/world/sise.naver?symbol=NAS@IXIC#&page=365\n"
     ]
    },
    {
     "name": "stderr",
     "output_type": "stream",
     "text": [
      "<ipython-input-61-77dee5e93da6>:14: FutureWarning: The frame.append method is deprecated and will be removed from pandas in a future version. Use pandas.concat instead.\n",
      "  df = df.append(table[1].dropna())\n",
      "<ipython-input-61-77dee5e93da6>:14: FutureWarning: The frame.append method is deprecated and will be removed from pandas in a future version. Use pandas.concat instead.\n",
      "  df = df.append(table[1].dropna())\n"
     ]
    },
    {
     "name": "stdout",
     "output_type": "stream",
     "text": [
      "https://finance.naver.com/world/sise.naver?symbol=NAS@IXIC#&page=366\n",
      "https://finance.naver.com/world/sise.naver?symbol=NAS@IXIC#&page=367\n"
     ]
    },
    {
     "name": "stderr",
     "output_type": "stream",
     "text": [
      "<ipython-input-61-77dee5e93da6>:14: FutureWarning: The frame.append method is deprecated and will be removed from pandas in a future version. Use pandas.concat instead.\n",
      "  df = df.append(table[1].dropna())\n",
      "<ipython-input-61-77dee5e93da6>:14: FutureWarning: The frame.append method is deprecated and will be removed from pandas in a future version. Use pandas.concat instead.\n",
      "  df = df.append(table[1].dropna())\n"
     ]
    },
    {
     "name": "stdout",
     "output_type": "stream",
     "text": [
      "https://finance.naver.com/world/sise.naver?symbol=NAS@IXIC#&page=368\n",
      "https://finance.naver.com/world/sise.naver?symbol=NAS@IXIC#&page=369\n"
     ]
    },
    {
     "name": "stderr",
     "output_type": "stream",
     "text": [
      "<ipython-input-61-77dee5e93da6>:14: FutureWarning: The frame.append method is deprecated and will be removed from pandas in a future version. Use pandas.concat instead.\n",
      "  df = df.append(table[1].dropna())\n",
      "<ipython-input-61-77dee5e93da6>:14: FutureWarning: The frame.append method is deprecated and will be removed from pandas in a future version. Use pandas.concat instead.\n",
      "  df = df.append(table[1].dropna())\n"
     ]
    },
    {
     "name": "stdout",
     "output_type": "stream",
     "text": [
      "https://finance.naver.com/world/sise.naver?symbol=NAS@IXIC#&page=370\n",
      "https://finance.naver.com/world/sise.naver?symbol=NAS@IXIC#&page=371\n"
     ]
    },
    {
     "name": "stderr",
     "output_type": "stream",
     "text": [
      "<ipython-input-61-77dee5e93da6>:14: FutureWarning: The frame.append method is deprecated and will be removed from pandas in a future version. Use pandas.concat instead.\n",
      "  df = df.append(table[1].dropna())\n"
     ]
    },
    {
     "name": "stdout",
     "output_type": "stream",
     "text": [
      "https://finance.naver.com/world/sise.naver?symbol=NAS@IXIC#&page=372\n"
     ]
    },
    {
     "name": "stderr",
     "output_type": "stream",
     "text": [
      "<ipython-input-61-77dee5e93da6>:14: FutureWarning: The frame.append method is deprecated and will be removed from pandas in a future version. Use pandas.concat instead.\n",
      "  df = df.append(table[1].dropna())\n",
      "<ipython-input-61-77dee5e93da6>:14: FutureWarning: The frame.append method is deprecated and will be removed from pandas in a future version. Use pandas.concat instead.\n",
      "  df = df.append(table[1].dropna())\n"
     ]
    },
    {
     "name": "stdout",
     "output_type": "stream",
     "text": [
      "https://finance.naver.com/world/sise.naver?symbol=NAS@IXIC#&page=373\n",
      "https://finance.naver.com/world/sise.naver?symbol=NAS@IXIC#&page=374\n"
     ]
    },
    {
     "name": "stderr",
     "output_type": "stream",
     "text": [
      "<ipython-input-61-77dee5e93da6>:14: FutureWarning: The frame.append method is deprecated and will be removed from pandas in a future version. Use pandas.concat instead.\n",
      "  df = df.append(table[1].dropna())\n",
      "<ipython-input-61-77dee5e93da6>:14: FutureWarning: The frame.append method is deprecated and will be removed from pandas in a future version. Use pandas.concat instead.\n",
      "  df = df.append(table[1].dropna())\n"
     ]
    },
    {
     "name": "stdout",
     "output_type": "stream",
     "text": [
      "https://finance.naver.com/world/sise.naver?symbol=NAS@IXIC#&page=375\n",
      "https://finance.naver.com/world/sise.naver?symbol=NAS@IXIC#&page=376\n"
     ]
    },
    {
     "name": "stderr",
     "output_type": "stream",
     "text": [
      "<ipython-input-61-77dee5e93da6>:14: FutureWarning: The frame.append method is deprecated and will be removed from pandas in a future version. Use pandas.concat instead.\n",
      "  df = df.append(table[1].dropna())\n",
      "<ipython-input-61-77dee5e93da6>:14: FutureWarning: The frame.append method is deprecated and will be removed from pandas in a future version. Use pandas.concat instead.\n",
      "  df = df.append(table[1].dropna())\n"
     ]
    },
    {
     "name": "stdout",
     "output_type": "stream",
     "text": [
      "https://finance.naver.com/world/sise.naver?symbol=NAS@IXIC#&page=377\n",
      "https://finance.naver.com/world/sise.naver?symbol=NAS@IXIC#&page=378\n"
     ]
    },
    {
     "name": "stderr",
     "output_type": "stream",
     "text": [
      "<ipython-input-61-77dee5e93da6>:14: FutureWarning: The frame.append method is deprecated and will be removed from pandas in a future version. Use pandas.concat instead.\n",
      "  df = df.append(table[1].dropna())\n",
      "<ipython-input-61-77dee5e93da6>:14: FutureWarning: The frame.append method is deprecated and will be removed from pandas in a future version. Use pandas.concat instead.\n",
      "  df = df.append(table[1].dropna())\n"
     ]
    },
    {
     "name": "stdout",
     "output_type": "stream",
     "text": [
      "https://finance.naver.com/world/sise.naver?symbol=NAS@IXIC#&page=379\n",
      "https://finance.naver.com/world/sise.naver?symbol=NAS@IXIC#&page=380\n"
     ]
    },
    {
     "name": "stderr",
     "output_type": "stream",
     "text": [
      "<ipython-input-61-77dee5e93da6>:14: FutureWarning: The frame.append method is deprecated and will be removed from pandas in a future version. Use pandas.concat instead.\n",
      "  df = df.append(table[1].dropna())\n",
      "<ipython-input-61-77dee5e93da6>:14: FutureWarning: The frame.append method is deprecated and will be removed from pandas in a future version. Use pandas.concat instead.\n",
      "  df = df.append(table[1].dropna())\n"
     ]
    },
    {
     "name": "stdout",
     "output_type": "stream",
     "text": [
      "https://finance.naver.com/world/sise.naver?symbol=NAS@IXIC#&page=381\n",
      "https://finance.naver.com/world/sise.naver?symbol=NAS@IXIC#&page=382\n"
     ]
    },
    {
     "name": "stderr",
     "output_type": "stream",
     "text": [
      "<ipython-input-61-77dee5e93da6>:14: FutureWarning: The frame.append method is deprecated and will be removed from pandas in a future version. Use pandas.concat instead.\n",
      "  df = df.append(table[1].dropna())\n",
      "<ipython-input-61-77dee5e93da6>:14: FutureWarning: The frame.append method is deprecated and will be removed from pandas in a future version. Use pandas.concat instead.\n",
      "  df = df.append(table[1].dropna())\n"
     ]
    },
    {
     "name": "stdout",
     "output_type": "stream",
     "text": [
      "https://finance.naver.com/world/sise.naver?symbol=NAS@IXIC#&page=383\n",
      "https://finance.naver.com/world/sise.naver?symbol=NAS@IXIC#&page=384\n"
     ]
    },
    {
     "name": "stderr",
     "output_type": "stream",
     "text": [
      "<ipython-input-61-77dee5e93da6>:14: FutureWarning: The frame.append method is deprecated and will be removed from pandas in a future version. Use pandas.concat instead.\n",
      "  df = df.append(table[1].dropna())\n",
      "<ipython-input-61-77dee5e93da6>:14: FutureWarning: The frame.append method is deprecated and will be removed from pandas in a future version. Use pandas.concat instead.\n",
      "  df = df.append(table[1].dropna())\n"
     ]
    },
    {
     "name": "stdout",
     "output_type": "stream",
     "text": [
      "https://finance.naver.com/world/sise.naver?symbol=NAS@IXIC#&page=385\n",
      "https://finance.naver.com/world/sise.naver?symbol=NAS@IXIC#&page=386\n"
     ]
    },
    {
     "name": "stderr",
     "output_type": "stream",
     "text": [
      "<ipython-input-61-77dee5e93da6>:14: FutureWarning: The frame.append method is deprecated and will be removed from pandas in a future version. Use pandas.concat instead.\n",
      "  df = df.append(table[1].dropna())\n",
      "<ipython-input-61-77dee5e93da6>:14: FutureWarning: The frame.append method is deprecated and will be removed from pandas in a future version. Use pandas.concat instead.\n",
      "  df = df.append(table[1].dropna())\n"
     ]
    },
    {
     "name": "stdout",
     "output_type": "stream",
     "text": [
      "https://finance.naver.com/world/sise.naver?symbol=NAS@IXIC#&page=387\n",
      "https://finance.naver.com/world/sise.naver?symbol=NAS@IXIC#&page=388\n"
     ]
    },
    {
     "name": "stderr",
     "output_type": "stream",
     "text": [
      "<ipython-input-61-77dee5e93da6>:14: FutureWarning: The frame.append method is deprecated and will be removed from pandas in a future version. Use pandas.concat instead.\n",
      "  df = df.append(table[1].dropna())\n",
      "<ipython-input-61-77dee5e93da6>:14: FutureWarning: The frame.append method is deprecated and will be removed from pandas in a future version. Use pandas.concat instead.\n",
      "  df = df.append(table[1].dropna())\n"
     ]
    },
    {
     "name": "stdout",
     "output_type": "stream",
     "text": [
      "https://finance.naver.com/world/sise.naver?symbol=NAS@IXIC#&page=389\n",
      "https://finance.naver.com/world/sise.naver?symbol=NAS@IXIC#&page=390\n"
     ]
    },
    {
     "name": "stderr",
     "output_type": "stream",
     "text": [
      "<ipython-input-61-77dee5e93da6>:14: FutureWarning: The frame.append method is deprecated and will be removed from pandas in a future version. Use pandas.concat instead.\n",
      "  df = df.append(table[1].dropna())\n",
      "<ipython-input-61-77dee5e93da6>:14: FutureWarning: The frame.append method is deprecated and will be removed from pandas in a future version. Use pandas.concat instead.\n",
      "  df = df.append(table[1].dropna())\n"
     ]
    },
    {
     "name": "stdout",
     "output_type": "stream",
     "text": [
      "https://finance.naver.com/world/sise.naver?symbol=NAS@IXIC#&page=391\n",
      "https://finance.naver.com/world/sise.naver?symbol=NAS@IXIC#&page=392\n"
     ]
    },
    {
     "name": "stderr",
     "output_type": "stream",
     "text": [
      "<ipython-input-61-77dee5e93da6>:14: FutureWarning: The frame.append method is deprecated and will be removed from pandas in a future version. Use pandas.concat instead.\n",
      "  df = df.append(table[1].dropna())\n"
     ]
    },
    {
     "name": "stdout",
     "output_type": "stream",
     "text": [
      "https://finance.naver.com/world/sise.naver?symbol=NAS@IXIC#&page=393\n"
     ]
    },
    {
     "name": "stderr",
     "output_type": "stream",
     "text": [
      "<ipython-input-61-77dee5e93da6>:14: FutureWarning: The frame.append method is deprecated and will be removed from pandas in a future version. Use pandas.concat instead.\n",
      "  df = df.append(table[1].dropna())\n",
      "<ipython-input-61-77dee5e93da6>:14: FutureWarning: The frame.append method is deprecated and will be removed from pandas in a future version. Use pandas.concat instead.\n",
      "  df = df.append(table[1].dropna())\n"
     ]
    },
    {
     "name": "stdout",
     "output_type": "stream",
     "text": [
      "https://finance.naver.com/world/sise.naver?symbol=NAS@IXIC#&page=394\n",
      "https://finance.naver.com/world/sise.naver?symbol=NAS@IXIC#&page=395\n"
     ]
    },
    {
     "name": "stderr",
     "output_type": "stream",
     "text": [
      "<ipython-input-61-77dee5e93da6>:14: FutureWarning: The frame.append method is deprecated and will be removed from pandas in a future version. Use pandas.concat instead.\n",
      "  df = df.append(table[1].dropna())\n",
      "<ipython-input-61-77dee5e93da6>:14: FutureWarning: The frame.append method is deprecated and will be removed from pandas in a future version. Use pandas.concat instead.\n",
      "  df = df.append(table[1].dropna())\n"
     ]
    },
    {
     "name": "stdout",
     "output_type": "stream",
     "text": [
      "https://finance.naver.com/world/sise.naver?symbol=NAS@IXIC#&page=396\n",
      "https://finance.naver.com/world/sise.naver?symbol=NAS@IXIC#&page=397\n"
     ]
    },
    {
     "name": "stderr",
     "output_type": "stream",
     "text": [
      "<ipython-input-61-77dee5e93da6>:14: FutureWarning: The frame.append method is deprecated and will be removed from pandas in a future version. Use pandas.concat instead.\n",
      "  df = df.append(table[1].dropna())\n",
      "<ipython-input-61-77dee5e93da6>:14: FutureWarning: The frame.append method is deprecated and will be removed from pandas in a future version. Use pandas.concat instead.\n",
      "  df = df.append(table[1].dropna())\n"
     ]
    },
    {
     "name": "stdout",
     "output_type": "stream",
     "text": [
      "https://finance.naver.com/world/sise.naver?symbol=NAS@IXIC#&page=398\n",
      "https://finance.naver.com/world/sise.naver?symbol=NAS@IXIC#&page=399\n"
     ]
    },
    {
     "name": "stderr",
     "output_type": "stream",
     "text": [
      "<ipython-input-61-77dee5e93da6>:14: FutureWarning: The frame.append method is deprecated and will be removed from pandas in a future version. Use pandas.concat instead.\n",
      "  df = df.append(table[1].dropna())\n",
      "<ipython-input-61-77dee5e93da6>:14: FutureWarning: The frame.append method is deprecated and will be removed from pandas in a future version. Use pandas.concat instead.\n",
      "  df = df.append(table[1].dropna())\n"
     ]
    },
    {
     "name": "stdout",
     "output_type": "stream",
     "text": [
      "https://finance.naver.com/world/sise.naver?symbol=NAS@IXIC#&page=400\n",
      "https://finance.naver.com/world/sise.naver?symbol=NAS@IXIC#&page=401\n"
     ]
    },
    {
     "name": "stderr",
     "output_type": "stream",
     "text": [
      "<ipython-input-61-77dee5e93da6>:14: FutureWarning: The frame.append method is deprecated and will be removed from pandas in a future version. Use pandas.concat instead.\n",
      "  df = df.append(table[1].dropna())\n",
      "<ipython-input-61-77dee5e93da6>:14: FutureWarning: The frame.append method is deprecated and will be removed from pandas in a future version. Use pandas.concat instead.\n",
      "  df = df.append(table[1].dropna())\n"
     ]
    },
    {
     "name": "stdout",
     "output_type": "stream",
     "text": [
      "https://finance.naver.com/world/sise.naver?symbol=NAS@IXIC#&page=402\n",
      "https://finance.naver.com/world/sise.naver?symbol=NAS@IXIC#&page=403\n"
     ]
    },
    {
     "name": "stderr",
     "output_type": "stream",
     "text": [
      "<ipython-input-61-77dee5e93da6>:14: FutureWarning: The frame.append method is deprecated and will be removed from pandas in a future version. Use pandas.concat instead.\n",
      "  df = df.append(table[1].dropna())\n",
      "<ipython-input-61-77dee5e93da6>:14: FutureWarning: The frame.append method is deprecated and will be removed from pandas in a future version. Use pandas.concat instead.\n",
      "  df = df.append(table[1].dropna())\n"
     ]
    },
    {
     "name": "stdout",
     "output_type": "stream",
     "text": [
      "https://finance.naver.com/world/sise.naver?symbol=NAS@IXIC#&page=404\n",
      "https://finance.naver.com/world/sise.naver?symbol=NAS@IXIC#&page=405\n"
     ]
    },
    {
     "name": "stderr",
     "output_type": "stream",
     "text": [
      "<ipython-input-61-77dee5e93da6>:14: FutureWarning: The frame.append method is deprecated and will be removed from pandas in a future version. Use pandas.concat instead.\n",
      "  df = df.append(table[1].dropna())\n",
      "<ipython-input-61-77dee5e93da6>:14: FutureWarning: The frame.append method is deprecated and will be removed from pandas in a future version. Use pandas.concat instead.\n",
      "  df = df.append(table[1].dropna())\n"
     ]
    },
    {
     "name": "stdout",
     "output_type": "stream",
     "text": [
      "https://finance.naver.com/world/sise.naver?symbol=NAS@IXIC#&page=406\n",
      "https://finance.naver.com/world/sise.naver?symbol=NAS@IXIC#&page=407\n"
     ]
    },
    {
     "name": "stderr",
     "output_type": "stream",
     "text": [
      "<ipython-input-61-77dee5e93da6>:14: FutureWarning: The frame.append method is deprecated and will be removed from pandas in a future version. Use pandas.concat instead.\n",
      "  df = df.append(table[1].dropna())\n",
      "<ipython-input-61-77dee5e93da6>:14: FutureWarning: The frame.append method is deprecated and will be removed from pandas in a future version. Use pandas.concat instead.\n",
      "  df = df.append(table[1].dropna())\n"
     ]
    },
    {
     "name": "stdout",
     "output_type": "stream",
     "text": [
      "https://finance.naver.com/world/sise.naver?symbol=NAS@IXIC#&page=408\n",
      "https://finance.naver.com/world/sise.naver?symbol=NAS@IXIC#&page=409\n"
     ]
    },
    {
     "name": "stderr",
     "output_type": "stream",
     "text": [
      "<ipython-input-61-77dee5e93da6>:14: FutureWarning: The frame.append method is deprecated and will be removed from pandas in a future version. Use pandas.concat instead.\n",
      "  df = df.append(table[1].dropna())\n",
      "<ipython-input-61-77dee5e93da6>:14: FutureWarning: The frame.append method is deprecated and will be removed from pandas in a future version. Use pandas.concat instead.\n",
      "  df = df.append(table[1].dropna())\n"
     ]
    },
    {
     "name": "stdout",
     "output_type": "stream",
     "text": [
      "https://finance.naver.com/world/sise.naver?symbol=NAS@IXIC#&page=410\n",
      "https://finance.naver.com/world/sise.naver?symbol=NAS@IXIC#&page=411\n"
     ]
    },
    {
     "name": "stderr",
     "output_type": "stream",
     "text": [
      "<ipython-input-61-77dee5e93da6>:14: FutureWarning: The frame.append method is deprecated and will be removed from pandas in a future version. Use pandas.concat instead.\n",
      "  df = df.append(table[1].dropna())\n",
      "<ipython-input-61-77dee5e93da6>:14: FutureWarning: The frame.append method is deprecated and will be removed from pandas in a future version. Use pandas.concat instead.\n",
      "  df = df.append(table[1].dropna())\n"
     ]
    },
    {
     "name": "stdout",
     "output_type": "stream",
     "text": [
      "https://finance.naver.com/world/sise.naver?symbol=NAS@IXIC#&page=412\n",
      "https://finance.naver.com/world/sise.naver?symbol=NAS@IXIC#&page=413\n"
     ]
    },
    {
     "name": "stderr",
     "output_type": "stream",
     "text": [
      "<ipython-input-61-77dee5e93da6>:14: FutureWarning: The frame.append method is deprecated and will be removed from pandas in a future version. Use pandas.concat instead.\n",
      "  df = df.append(table[1].dropna())\n",
      "<ipython-input-61-77dee5e93da6>:14: FutureWarning: The frame.append method is deprecated and will be removed from pandas in a future version. Use pandas.concat instead.\n",
      "  df = df.append(table[1].dropna())\n"
     ]
    },
    {
     "name": "stdout",
     "output_type": "stream",
     "text": [
      "https://finance.naver.com/world/sise.naver?symbol=NAS@IXIC#&page=414\n",
      "https://finance.naver.com/world/sise.naver?symbol=NAS@IXIC#&page=415\n"
     ]
    },
    {
     "name": "stderr",
     "output_type": "stream",
     "text": [
      "<ipython-input-61-77dee5e93da6>:14: FutureWarning: The frame.append method is deprecated and will be removed from pandas in a future version. Use pandas.concat instead.\n",
      "  df = df.append(table[1].dropna())\n",
      "<ipython-input-61-77dee5e93da6>:14: FutureWarning: The frame.append method is deprecated and will be removed from pandas in a future version. Use pandas.concat instead.\n",
      "  df = df.append(table[1].dropna())\n"
     ]
    },
    {
     "name": "stdout",
     "output_type": "stream",
     "text": [
      "https://finance.naver.com/world/sise.naver?symbol=NAS@IXIC#&page=416\n",
      "https://finance.naver.com/world/sise.naver?symbol=NAS@IXIC#&page=417\n"
     ]
    },
    {
     "name": "stderr",
     "output_type": "stream",
     "text": [
      "<ipython-input-61-77dee5e93da6>:14: FutureWarning: The frame.append method is deprecated and will be removed from pandas in a future version. Use pandas.concat instead.\n",
      "  df = df.append(table[1].dropna())\n",
      "<ipython-input-61-77dee5e93da6>:14: FutureWarning: The frame.append method is deprecated and will be removed from pandas in a future version. Use pandas.concat instead.\n",
      "  df = df.append(table[1].dropna())\n"
     ]
    },
    {
     "name": "stdout",
     "output_type": "stream",
     "text": [
      "https://finance.naver.com/world/sise.naver?symbol=NAS@IXIC#&page=418\n",
      "https://finance.naver.com/world/sise.naver?symbol=NAS@IXIC#&page=419\n"
     ]
    },
    {
     "name": "stderr",
     "output_type": "stream",
     "text": [
      "<ipython-input-61-77dee5e93da6>:14: FutureWarning: The frame.append method is deprecated and will be removed from pandas in a future version. Use pandas.concat instead.\n",
      "  df = df.append(table[1].dropna())\n",
      "<ipython-input-61-77dee5e93da6>:14: FutureWarning: The frame.append method is deprecated and will be removed from pandas in a future version. Use pandas.concat instead.\n",
      "  df = df.append(table[1].dropna())\n"
     ]
    },
    {
     "name": "stdout",
     "output_type": "stream",
     "text": [
      "https://finance.naver.com/world/sise.naver?symbol=NAS@IXIC#&page=420\n",
      "https://finance.naver.com/world/sise.naver?symbol=NAS@IXIC#&page=421\n"
     ]
    },
    {
     "name": "stderr",
     "output_type": "stream",
     "text": [
      "<ipython-input-61-77dee5e93da6>:14: FutureWarning: The frame.append method is deprecated and will be removed from pandas in a future version. Use pandas.concat instead.\n",
      "  df = df.append(table[1].dropna())\n",
      "<ipython-input-61-77dee5e93da6>:14: FutureWarning: The frame.append method is deprecated and will be removed from pandas in a future version. Use pandas.concat instead.\n",
      "  df = df.append(table[1].dropna())\n"
     ]
    },
    {
     "name": "stdout",
     "output_type": "stream",
     "text": [
      "https://finance.naver.com/world/sise.naver?symbol=NAS@IXIC#&page=422\n",
      "https://finance.naver.com/world/sise.naver?symbol=NAS@IXIC#&page=423\n"
     ]
    },
    {
     "name": "stderr",
     "output_type": "stream",
     "text": [
      "<ipython-input-61-77dee5e93da6>:14: FutureWarning: The frame.append method is deprecated and will be removed from pandas in a future version. Use pandas.concat instead.\n",
      "  df = df.append(table[1].dropna())\n"
     ]
    },
    {
     "name": "stdout",
     "output_type": "stream",
     "text": [
      "https://finance.naver.com/world/sise.naver?symbol=NAS@IXIC#&page=424\n"
     ]
    },
    {
     "name": "stderr",
     "output_type": "stream",
     "text": [
      "<ipython-input-61-77dee5e93da6>:14: FutureWarning: The frame.append method is deprecated and will be removed from pandas in a future version. Use pandas.concat instead.\n",
      "  df = df.append(table[1].dropna())\n",
      "<ipython-input-61-77dee5e93da6>:14: FutureWarning: The frame.append method is deprecated and will be removed from pandas in a future version. Use pandas.concat instead.\n",
      "  df = df.append(table[1].dropna())\n"
     ]
    },
    {
     "name": "stdout",
     "output_type": "stream",
     "text": [
      "https://finance.naver.com/world/sise.naver?symbol=NAS@IXIC#&page=425\n",
      "https://finance.naver.com/world/sise.naver?symbol=NAS@IXIC#&page=426\n"
     ]
    },
    {
     "name": "stderr",
     "output_type": "stream",
     "text": [
      "<ipython-input-61-77dee5e93da6>:14: FutureWarning: The frame.append method is deprecated and will be removed from pandas in a future version. Use pandas.concat instead.\n",
      "  df = df.append(table[1].dropna())\n",
      "<ipython-input-61-77dee5e93da6>:14: FutureWarning: The frame.append method is deprecated and will be removed from pandas in a future version. Use pandas.concat instead.\n",
      "  df = df.append(table[1].dropna())\n"
     ]
    },
    {
     "name": "stdout",
     "output_type": "stream",
     "text": [
      "https://finance.naver.com/world/sise.naver?symbol=NAS@IXIC#&page=427\n",
      "https://finance.naver.com/world/sise.naver?symbol=NAS@IXIC#&page=428\n"
     ]
    },
    {
     "name": "stderr",
     "output_type": "stream",
     "text": [
      "<ipython-input-61-77dee5e93da6>:14: FutureWarning: The frame.append method is deprecated and will be removed from pandas in a future version. Use pandas.concat instead.\n",
      "  df = df.append(table[1].dropna())\n",
      "<ipython-input-61-77dee5e93da6>:14: FutureWarning: The frame.append method is deprecated and will be removed from pandas in a future version. Use pandas.concat instead.\n",
      "  df = df.append(table[1].dropna())\n"
     ]
    },
    {
     "name": "stdout",
     "output_type": "stream",
     "text": [
      "https://finance.naver.com/world/sise.naver?symbol=NAS@IXIC#&page=429\n",
      "https://finance.naver.com/world/sise.naver?symbol=NAS@IXIC#&page=430\n"
     ]
    },
    {
     "name": "stderr",
     "output_type": "stream",
     "text": [
      "<ipython-input-61-77dee5e93da6>:14: FutureWarning: The frame.append method is deprecated and will be removed from pandas in a future version. Use pandas.concat instead.\n",
      "  df = df.append(table[1].dropna())\n",
      "<ipython-input-61-77dee5e93da6>:14: FutureWarning: The frame.append method is deprecated and will be removed from pandas in a future version. Use pandas.concat instead.\n",
      "  df = df.append(table[1].dropna())\n"
     ]
    },
    {
     "name": "stdout",
     "output_type": "stream",
     "text": [
      "https://finance.naver.com/world/sise.naver?symbol=NAS@IXIC#&page=431\n",
      "https://finance.naver.com/world/sise.naver?symbol=NAS@IXIC#&page=432\n"
     ]
    },
    {
     "name": "stderr",
     "output_type": "stream",
     "text": [
      "<ipython-input-61-77dee5e93da6>:14: FutureWarning: The frame.append method is deprecated and will be removed from pandas in a future version. Use pandas.concat instead.\n",
      "  df = df.append(table[1].dropna())\n",
      "<ipython-input-61-77dee5e93da6>:14: FutureWarning: The frame.append method is deprecated and will be removed from pandas in a future version. Use pandas.concat instead.\n",
      "  df = df.append(table[1].dropna())\n"
     ]
    },
    {
     "name": "stdout",
     "output_type": "stream",
     "text": [
      "https://finance.naver.com/world/sise.naver?symbol=NAS@IXIC#&page=433\n",
      "https://finance.naver.com/world/sise.naver?symbol=NAS@IXIC#&page=434\n"
     ]
    },
    {
     "name": "stderr",
     "output_type": "stream",
     "text": [
      "<ipython-input-61-77dee5e93da6>:14: FutureWarning: The frame.append method is deprecated and will be removed from pandas in a future version. Use pandas.concat instead.\n",
      "  df = df.append(table[1].dropna())\n",
      "<ipython-input-61-77dee5e93da6>:14: FutureWarning: The frame.append method is deprecated and will be removed from pandas in a future version. Use pandas.concat instead.\n",
      "  df = df.append(table[1].dropna())\n"
     ]
    },
    {
     "name": "stdout",
     "output_type": "stream",
     "text": [
      "https://finance.naver.com/world/sise.naver?symbol=NAS@IXIC#&page=435\n",
      "https://finance.naver.com/world/sise.naver?symbol=NAS@IXIC#&page=436\n"
     ]
    },
    {
     "name": "stderr",
     "output_type": "stream",
     "text": [
      "<ipython-input-61-77dee5e93da6>:14: FutureWarning: The frame.append method is deprecated and will be removed from pandas in a future version. Use pandas.concat instead.\n",
      "  df = df.append(table[1].dropna())\n",
      "<ipython-input-61-77dee5e93da6>:14: FutureWarning: The frame.append method is deprecated and will be removed from pandas in a future version. Use pandas.concat instead.\n",
      "  df = df.append(table[1].dropna())\n"
     ]
    },
    {
     "name": "stdout",
     "output_type": "stream",
     "text": [
      "https://finance.naver.com/world/sise.naver?symbol=NAS@IXIC#&page=437\n",
      "https://finance.naver.com/world/sise.naver?symbol=NAS@IXIC#&page=438\n"
     ]
    },
    {
     "name": "stderr",
     "output_type": "stream",
     "text": [
      "<ipython-input-61-77dee5e93da6>:14: FutureWarning: The frame.append method is deprecated and will be removed from pandas in a future version. Use pandas.concat instead.\n",
      "  df = df.append(table[1].dropna())\n",
      "<ipython-input-61-77dee5e93da6>:14: FutureWarning: The frame.append method is deprecated and will be removed from pandas in a future version. Use pandas.concat instead.\n",
      "  df = df.append(table[1].dropna())\n"
     ]
    },
    {
     "name": "stdout",
     "output_type": "stream",
     "text": [
      "https://finance.naver.com/world/sise.naver?symbol=NAS@IXIC#&page=439\n",
      "https://finance.naver.com/world/sise.naver?symbol=NAS@IXIC#&page=440\n"
     ]
    },
    {
     "name": "stderr",
     "output_type": "stream",
     "text": [
      "<ipython-input-61-77dee5e93da6>:14: FutureWarning: The frame.append method is deprecated and will be removed from pandas in a future version. Use pandas.concat instead.\n",
      "  df = df.append(table[1].dropna())\n",
      "<ipython-input-61-77dee5e93da6>:14: FutureWarning: The frame.append method is deprecated and will be removed from pandas in a future version. Use pandas.concat instead.\n",
      "  df = df.append(table[1].dropna())\n"
     ]
    },
    {
     "name": "stdout",
     "output_type": "stream",
     "text": [
      "https://finance.naver.com/world/sise.naver?symbol=NAS@IXIC#&page=441\n",
      "https://finance.naver.com/world/sise.naver?symbol=NAS@IXIC#&page=442\n"
     ]
    },
    {
     "name": "stderr",
     "output_type": "stream",
     "text": [
      "<ipython-input-61-77dee5e93da6>:14: FutureWarning: The frame.append method is deprecated and will be removed from pandas in a future version. Use pandas.concat instead.\n",
      "  df = df.append(table[1].dropna())\n",
      "<ipython-input-61-77dee5e93da6>:14: FutureWarning: The frame.append method is deprecated and will be removed from pandas in a future version. Use pandas.concat instead.\n",
      "  df = df.append(table[1].dropna())\n"
     ]
    },
    {
     "name": "stdout",
     "output_type": "stream",
     "text": [
      "https://finance.naver.com/world/sise.naver?symbol=NAS@IXIC#&page=443\n",
      "https://finance.naver.com/world/sise.naver?symbol=NAS@IXIC#&page=444\n"
     ]
    },
    {
     "name": "stderr",
     "output_type": "stream",
     "text": [
      "<ipython-input-61-77dee5e93da6>:14: FutureWarning: The frame.append method is deprecated and will be removed from pandas in a future version. Use pandas.concat instead.\n",
      "  df = df.append(table[1].dropna())\n",
      "<ipython-input-61-77dee5e93da6>:14: FutureWarning: The frame.append method is deprecated and will be removed from pandas in a future version. Use pandas.concat instead.\n",
      "  df = df.append(table[1].dropna())\n"
     ]
    },
    {
     "name": "stdout",
     "output_type": "stream",
     "text": [
      "https://finance.naver.com/world/sise.naver?symbol=NAS@IXIC#&page=445\n",
      "https://finance.naver.com/world/sise.naver?symbol=NAS@IXIC#&page=446\n"
     ]
    },
    {
     "name": "stderr",
     "output_type": "stream",
     "text": [
      "<ipython-input-61-77dee5e93da6>:14: FutureWarning: The frame.append method is deprecated and will be removed from pandas in a future version. Use pandas.concat instead.\n",
      "  df = df.append(table[1].dropna())\n",
      "<ipython-input-61-77dee5e93da6>:14: FutureWarning: The frame.append method is deprecated and will be removed from pandas in a future version. Use pandas.concat instead.\n",
      "  df = df.append(table[1].dropna())\n"
     ]
    },
    {
     "name": "stdout",
     "output_type": "stream",
     "text": [
      "https://finance.naver.com/world/sise.naver?symbol=NAS@IXIC#&page=447\n",
      "https://finance.naver.com/world/sise.naver?symbol=NAS@IXIC#&page=448\n"
     ]
    },
    {
     "name": "stderr",
     "output_type": "stream",
     "text": [
      "<ipython-input-61-77dee5e93da6>:14: FutureWarning: The frame.append method is deprecated and will be removed from pandas in a future version. Use pandas.concat instead.\n",
      "  df = df.append(table[1].dropna())\n",
      "<ipython-input-61-77dee5e93da6>:14: FutureWarning: The frame.append method is deprecated and will be removed from pandas in a future version. Use pandas.concat instead.\n",
      "  df = df.append(table[1].dropna())\n"
     ]
    },
    {
     "name": "stdout",
     "output_type": "stream",
     "text": [
      "https://finance.naver.com/world/sise.naver?symbol=NAS@IXIC#&page=449\n",
      "https://finance.naver.com/world/sise.naver?symbol=NAS@IXIC#&page=450\n"
     ]
    },
    {
     "name": "stderr",
     "output_type": "stream",
     "text": [
      "<ipython-input-61-77dee5e93da6>:14: FutureWarning: The frame.append method is deprecated and will be removed from pandas in a future version. Use pandas.concat instead.\n",
      "  df = df.append(table[1].dropna())\n",
      "<ipython-input-61-77dee5e93da6>:14: FutureWarning: The frame.append method is deprecated and will be removed from pandas in a future version. Use pandas.concat instead.\n",
      "  df = df.append(table[1].dropna())\n"
     ]
    },
    {
     "name": "stdout",
     "output_type": "stream",
     "text": [
      "https://finance.naver.com/world/sise.naver?symbol=NAS@IXIC#&page=451\n",
      "https://finance.naver.com/world/sise.naver?symbol=NAS@IXIC#&page=452\n"
     ]
    },
    {
     "name": "stderr",
     "output_type": "stream",
     "text": [
      "<ipython-input-61-77dee5e93da6>:14: FutureWarning: The frame.append method is deprecated and will be removed from pandas in a future version. Use pandas.concat instead.\n",
      "  df = df.append(table[1].dropna())\n",
      "<ipython-input-61-77dee5e93da6>:14: FutureWarning: The frame.append method is deprecated and will be removed from pandas in a future version. Use pandas.concat instead.\n",
      "  df = df.append(table[1].dropna())\n"
     ]
    },
    {
     "name": "stdout",
     "output_type": "stream",
     "text": [
      "https://finance.naver.com/world/sise.naver?symbol=NAS@IXIC#&page=453\n",
      "https://finance.naver.com/world/sise.naver?symbol=NAS@IXIC#&page=454\n"
     ]
    },
    {
     "name": "stderr",
     "output_type": "stream",
     "text": [
      "<ipython-input-61-77dee5e93da6>:14: FutureWarning: The frame.append method is deprecated and will be removed from pandas in a future version. Use pandas.concat instead.\n",
      "  df = df.append(table[1].dropna())\n",
      "<ipython-input-61-77dee5e93da6>:14: FutureWarning: The frame.append method is deprecated and will be removed from pandas in a future version. Use pandas.concat instead.\n",
      "  df = df.append(table[1].dropna())\n"
     ]
    },
    {
     "name": "stdout",
     "output_type": "stream",
     "text": [
      "https://finance.naver.com/world/sise.naver?symbol=NAS@IXIC#&page=455\n",
      "https://finance.naver.com/world/sise.naver?symbol=NAS@IXIC#&page=456\n"
     ]
    },
    {
     "name": "stderr",
     "output_type": "stream",
     "text": [
      "<ipython-input-61-77dee5e93da6>:14: FutureWarning: The frame.append method is deprecated and will be removed from pandas in a future version. Use pandas.concat instead.\n",
      "  df = df.append(table[1].dropna())\n",
      "<ipython-input-61-77dee5e93da6>:14: FutureWarning: The frame.append method is deprecated and will be removed from pandas in a future version. Use pandas.concat instead.\n",
      "  df = df.append(table[1].dropna())\n"
     ]
    },
    {
     "name": "stdout",
     "output_type": "stream",
     "text": [
      "https://finance.naver.com/world/sise.naver?symbol=NAS@IXIC#&page=457\n",
      "https://finance.naver.com/world/sise.naver?symbol=NAS@IXIC#&page=458\n"
     ]
    },
    {
     "name": "stderr",
     "output_type": "stream",
     "text": [
      "<ipython-input-61-77dee5e93da6>:14: FutureWarning: The frame.append method is deprecated and will be removed from pandas in a future version. Use pandas.concat instead.\n",
      "  df = df.append(table[1].dropna())\n",
      "<ipython-input-61-77dee5e93da6>:14: FutureWarning: The frame.append method is deprecated and will be removed from pandas in a future version. Use pandas.concat instead.\n",
      "  df = df.append(table[1].dropna())\n"
     ]
    },
    {
     "name": "stdout",
     "output_type": "stream",
     "text": [
      "https://finance.naver.com/world/sise.naver?symbol=NAS@IXIC#&page=459\n",
      "https://finance.naver.com/world/sise.naver?symbol=NAS@IXIC#&page=460\n"
     ]
    },
    {
     "name": "stderr",
     "output_type": "stream",
     "text": [
      "<ipython-input-61-77dee5e93da6>:14: FutureWarning: The frame.append method is deprecated and will be removed from pandas in a future version. Use pandas.concat instead.\n",
      "  df = df.append(table[1].dropna())\n",
      "<ipython-input-61-77dee5e93da6>:14: FutureWarning: The frame.append method is deprecated and will be removed from pandas in a future version. Use pandas.concat instead.\n",
      "  df = df.append(table[1].dropna())\n"
     ]
    },
    {
     "name": "stdout",
     "output_type": "stream",
     "text": [
      "https://finance.naver.com/world/sise.naver?symbol=NAS@IXIC#&page=461\n",
      "https://finance.naver.com/world/sise.naver?symbol=NAS@IXIC#&page=462\n"
     ]
    },
    {
     "name": "stderr",
     "output_type": "stream",
     "text": [
      "<ipython-input-61-77dee5e93da6>:14: FutureWarning: The frame.append method is deprecated and will be removed from pandas in a future version. Use pandas.concat instead.\n",
      "  df = df.append(table[1].dropna())\n"
     ]
    },
    {
     "name": "stdout",
     "output_type": "stream",
     "text": [
      "https://finance.naver.com/world/sise.naver?symbol=NAS@IXIC#&page=463\n"
     ]
    },
    {
     "name": "stderr",
     "output_type": "stream",
     "text": [
      "<ipython-input-61-77dee5e93da6>:14: FutureWarning: The frame.append method is deprecated and will be removed from pandas in a future version. Use pandas.concat instead.\n",
      "  df = df.append(table[1].dropna())\n",
      "<ipython-input-61-77dee5e93da6>:14: FutureWarning: The frame.append method is deprecated and will be removed from pandas in a future version. Use pandas.concat instead.\n",
      "  df = df.append(table[1].dropna())\n"
     ]
    },
    {
     "name": "stdout",
     "output_type": "stream",
     "text": [
      "https://finance.naver.com/world/sise.naver?symbol=NAS@IXIC#&page=464\n",
      "https://finance.naver.com/world/sise.naver?symbol=NAS@IXIC#&page=465\n"
     ]
    },
    {
     "name": "stderr",
     "output_type": "stream",
     "text": [
      "<ipython-input-61-77dee5e93da6>:14: FutureWarning: The frame.append method is deprecated and will be removed from pandas in a future version. Use pandas.concat instead.\n",
      "  df = df.append(table[1].dropna())\n",
      "<ipython-input-61-77dee5e93da6>:14: FutureWarning: The frame.append method is deprecated and will be removed from pandas in a future version. Use pandas.concat instead.\n",
      "  df = df.append(table[1].dropna())\n"
     ]
    },
    {
     "name": "stdout",
     "output_type": "stream",
     "text": [
      "https://finance.naver.com/world/sise.naver?symbol=NAS@IXIC#&page=466\n",
      "https://finance.naver.com/world/sise.naver?symbol=NAS@IXIC#&page=467\n"
     ]
    },
    {
     "name": "stderr",
     "output_type": "stream",
     "text": [
      "<ipython-input-61-77dee5e93da6>:14: FutureWarning: The frame.append method is deprecated and will be removed from pandas in a future version. Use pandas.concat instead.\n",
      "  df = df.append(table[1].dropna())\n",
      "<ipython-input-61-77dee5e93da6>:14: FutureWarning: The frame.append method is deprecated and will be removed from pandas in a future version. Use pandas.concat instead.\n",
      "  df = df.append(table[1].dropna())\n"
     ]
    },
    {
     "name": "stdout",
     "output_type": "stream",
     "text": [
      "https://finance.naver.com/world/sise.naver?symbol=NAS@IXIC#&page=468\n",
      "https://finance.naver.com/world/sise.naver?symbol=NAS@IXIC#&page=469\n"
     ]
    },
    {
     "name": "stderr",
     "output_type": "stream",
     "text": [
      "<ipython-input-61-77dee5e93da6>:14: FutureWarning: The frame.append method is deprecated and will be removed from pandas in a future version. Use pandas.concat instead.\n",
      "  df = df.append(table[1].dropna())\n",
      "<ipython-input-61-77dee5e93da6>:14: FutureWarning: The frame.append method is deprecated and will be removed from pandas in a future version. Use pandas.concat instead.\n",
      "  df = df.append(table[1].dropna())\n"
     ]
    },
    {
     "name": "stdout",
     "output_type": "stream",
     "text": [
      "https://finance.naver.com/world/sise.naver?symbol=NAS@IXIC#&page=470\n",
      "https://finance.naver.com/world/sise.naver?symbol=NAS@IXIC#&page=471\n"
     ]
    },
    {
     "name": "stderr",
     "output_type": "stream",
     "text": [
      "<ipython-input-61-77dee5e93da6>:14: FutureWarning: The frame.append method is deprecated and will be removed from pandas in a future version. Use pandas.concat instead.\n",
      "  df = df.append(table[1].dropna())\n",
      "<ipython-input-61-77dee5e93da6>:14: FutureWarning: The frame.append method is deprecated and will be removed from pandas in a future version. Use pandas.concat instead.\n",
      "  df = df.append(table[1].dropna())\n"
     ]
    },
    {
     "name": "stdout",
     "output_type": "stream",
     "text": [
      "https://finance.naver.com/world/sise.naver?symbol=NAS@IXIC#&page=472\n",
      "https://finance.naver.com/world/sise.naver?symbol=NAS@IXIC#&page=473\n"
     ]
    },
    {
     "name": "stderr",
     "output_type": "stream",
     "text": [
      "<ipython-input-61-77dee5e93da6>:14: FutureWarning: The frame.append method is deprecated and will be removed from pandas in a future version. Use pandas.concat instead.\n",
      "  df = df.append(table[1].dropna())\n",
      "<ipython-input-61-77dee5e93da6>:14: FutureWarning: The frame.append method is deprecated and will be removed from pandas in a future version. Use pandas.concat instead.\n",
      "  df = df.append(table[1].dropna())\n"
     ]
    },
    {
     "name": "stdout",
     "output_type": "stream",
     "text": [
      "https://finance.naver.com/world/sise.naver?symbol=NAS@IXIC#&page=474\n",
      "https://finance.naver.com/world/sise.naver?symbol=NAS@IXIC#&page=475\n"
     ]
    },
    {
     "name": "stderr",
     "output_type": "stream",
     "text": [
      "<ipython-input-61-77dee5e93da6>:14: FutureWarning: The frame.append method is deprecated and will be removed from pandas in a future version. Use pandas.concat instead.\n",
      "  df = df.append(table[1].dropna())\n",
      "<ipython-input-61-77dee5e93da6>:14: FutureWarning: The frame.append method is deprecated and will be removed from pandas in a future version. Use pandas.concat instead.\n",
      "  df = df.append(table[1].dropna())\n"
     ]
    },
    {
     "name": "stdout",
     "output_type": "stream",
     "text": [
      "https://finance.naver.com/world/sise.naver?symbol=NAS@IXIC#&page=476\n",
      "https://finance.naver.com/world/sise.naver?symbol=NAS@IXIC#&page=477\n"
     ]
    },
    {
     "name": "stderr",
     "output_type": "stream",
     "text": [
      "<ipython-input-61-77dee5e93da6>:14: FutureWarning: The frame.append method is deprecated and will be removed from pandas in a future version. Use pandas.concat instead.\n",
      "  df = df.append(table[1].dropna())\n",
      "<ipython-input-61-77dee5e93da6>:14: FutureWarning: The frame.append method is deprecated and will be removed from pandas in a future version. Use pandas.concat instead.\n",
      "  df = df.append(table[1].dropna())\n"
     ]
    },
    {
     "name": "stdout",
     "output_type": "stream",
     "text": [
      "https://finance.naver.com/world/sise.naver?symbol=NAS@IXIC#&page=478\n",
      "https://finance.naver.com/world/sise.naver?symbol=NAS@IXIC#&page=479\n"
     ]
    },
    {
     "name": "stderr",
     "output_type": "stream",
     "text": [
      "<ipython-input-61-77dee5e93da6>:14: FutureWarning: The frame.append method is deprecated and will be removed from pandas in a future version. Use pandas.concat instead.\n",
      "  df = df.append(table[1].dropna())\n",
      "<ipython-input-61-77dee5e93da6>:14: FutureWarning: The frame.append method is deprecated and will be removed from pandas in a future version. Use pandas.concat instead.\n",
      "  df = df.append(table[1].dropna())\n"
     ]
    },
    {
     "name": "stdout",
     "output_type": "stream",
     "text": [
      "https://finance.naver.com/world/sise.naver?symbol=NAS@IXIC#&page=480\n",
      "https://finance.naver.com/world/sise.naver?symbol=NAS@IXIC#&page=481\n"
     ]
    },
    {
     "name": "stderr",
     "output_type": "stream",
     "text": [
      "<ipython-input-61-77dee5e93da6>:14: FutureWarning: The frame.append method is deprecated and will be removed from pandas in a future version. Use pandas.concat instead.\n",
      "  df = df.append(table[1].dropna())\n",
      "<ipython-input-61-77dee5e93da6>:14: FutureWarning: The frame.append method is deprecated and will be removed from pandas in a future version. Use pandas.concat instead.\n",
      "  df = df.append(table[1].dropna())\n"
     ]
    },
    {
     "name": "stdout",
     "output_type": "stream",
     "text": [
      "https://finance.naver.com/world/sise.naver?symbol=NAS@IXIC#&page=482\n",
      "https://finance.naver.com/world/sise.naver?symbol=NAS@IXIC#&page=483\n"
     ]
    },
    {
     "name": "stderr",
     "output_type": "stream",
     "text": [
      "<ipython-input-61-77dee5e93da6>:14: FutureWarning: The frame.append method is deprecated and will be removed from pandas in a future version. Use pandas.concat instead.\n",
      "  df = df.append(table[1].dropna())\n",
      "<ipython-input-61-77dee5e93da6>:14: FutureWarning: The frame.append method is deprecated and will be removed from pandas in a future version. Use pandas.concat instead.\n",
      "  df = df.append(table[1].dropna())\n"
     ]
    },
    {
     "name": "stdout",
     "output_type": "stream",
     "text": [
      "https://finance.naver.com/world/sise.naver?symbol=NAS@IXIC#&page=484\n",
      "https://finance.naver.com/world/sise.naver?symbol=NAS@IXIC#&page=485\n"
     ]
    },
    {
     "name": "stderr",
     "output_type": "stream",
     "text": [
      "<ipython-input-61-77dee5e93da6>:14: FutureWarning: The frame.append method is deprecated and will be removed from pandas in a future version. Use pandas.concat instead.\n",
      "  df = df.append(table[1].dropna())\n"
     ]
    },
    {
     "name": "stdout",
     "output_type": "stream",
     "text": [
      "https://finance.naver.com/world/sise.naver?symbol=NAS@IXIC#&page=486\n"
     ]
    },
    {
     "name": "stderr",
     "output_type": "stream",
     "text": [
      "<ipython-input-61-77dee5e93da6>:14: FutureWarning: The frame.append method is deprecated and will be removed from pandas in a future version. Use pandas.concat instead.\n",
      "  df = df.append(table[1].dropna())\n",
      "<ipython-input-61-77dee5e93da6>:14: FutureWarning: The frame.append method is deprecated and will be removed from pandas in a future version. Use pandas.concat instead.\n",
      "  df = df.append(table[1].dropna())\n"
     ]
    },
    {
     "name": "stdout",
     "output_type": "stream",
     "text": [
      "https://finance.naver.com/world/sise.naver?symbol=NAS@IXIC#&page=487\n",
      "https://finance.naver.com/world/sise.naver?symbol=NAS@IXIC#&page=488\n"
     ]
    },
    {
     "name": "stderr",
     "output_type": "stream",
     "text": [
      "<ipython-input-61-77dee5e93da6>:14: FutureWarning: The frame.append method is deprecated and will be removed from pandas in a future version. Use pandas.concat instead.\n",
      "  df = df.append(table[1].dropna())\n",
      "<ipython-input-61-77dee5e93da6>:14: FutureWarning: The frame.append method is deprecated and will be removed from pandas in a future version. Use pandas.concat instead.\n",
      "  df = df.append(table[1].dropna())\n"
     ]
    },
    {
     "name": "stdout",
     "output_type": "stream",
     "text": [
      "https://finance.naver.com/world/sise.naver?symbol=NAS@IXIC#&page=489\n",
      "https://finance.naver.com/world/sise.naver?symbol=NAS@IXIC#&page=490\n"
     ]
    },
    {
     "name": "stderr",
     "output_type": "stream",
     "text": [
      "<ipython-input-61-77dee5e93da6>:14: FutureWarning: The frame.append method is deprecated and will be removed from pandas in a future version. Use pandas.concat instead.\n",
      "  df = df.append(table[1].dropna())\n",
      "<ipython-input-61-77dee5e93da6>:14: FutureWarning: The frame.append method is deprecated and will be removed from pandas in a future version. Use pandas.concat instead.\n",
      "  df = df.append(table[1].dropna())\n"
     ]
    },
    {
     "name": "stdout",
     "output_type": "stream",
     "text": [
      "https://finance.naver.com/world/sise.naver?symbol=NAS@IXIC#&page=491\n",
      "https://finance.naver.com/world/sise.naver?symbol=NAS@IXIC#&page=492\n"
     ]
    },
    {
     "name": "stderr",
     "output_type": "stream",
     "text": [
      "<ipython-input-61-77dee5e93da6>:14: FutureWarning: The frame.append method is deprecated and will be removed from pandas in a future version. Use pandas.concat instead.\n",
      "  df = df.append(table[1].dropna())\n",
      "<ipython-input-61-77dee5e93da6>:14: FutureWarning: The frame.append method is deprecated and will be removed from pandas in a future version. Use pandas.concat instead.\n",
      "  df = df.append(table[1].dropna())\n"
     ]
    },
    {
     "name": "stdout",
     "output_type": "stream",
     "text": [
      "https://finance.naver.com/world/sise.naver?symbol=NAS@IXIC#&page=493\n",
      "https://finance.naver.com/world/sise.naver?symbol=NAS@IXIC#&page=494\n"
     ]
    },
    {
     "name": "stderr",
     "output_type": "stream",
     "text": [
      "<ipython-input-61-77dee5e93da6>:14: FutureWarning: The frame.append method is deprecated and will be removed from pandas in a future version. Use pandas.concat instead.\n",
      "  df = df.append(table[1].dropna())\n",
      "<ipython-input-61-77dee5e93da6>:14: FutureWarning: The frame.append method is deprecated and will be removed from pandas in a future version. Use pandas.concat instead.\n",
      "  df = df.append(table[1].dropna())\n"
     ]
    },
    {
     "name": "stdout",
     "output_type": "stream",
     "text": [
      "https://finance.naver.com/world/sise.naver?symbol=NAS@IXIC#&page=495\n",
      "https://finance.naver.com/world/sise.naver?symbol=NAS@IXIC#&page=496\n"
     ]
    },
    {
     "name": "stderr",
     "output_type": "stream",
     "text": [
      "<ipython-input-61-77dee5e93da6>:14: FutureWarning: The frame.append method is deprecated and will be removed from pandas in a future version. Use pandas.concat instead.\n",
      "  df = df.append(table[1].dropna())\n",
      "<ipython-input-61-77dee5e93da6>:14: FutureWarning: The frame.append method is deprecated and will be removed from pandas in a future version. Use pandas.concat instead.\n",
      "  df = df.append(table[1].dropna())\n"
     ]
    },
    {
     "name": "stdout",
     "output_type": "stream",
     "text": [
      "https://finance.naver.com/world/sise.naver?symbol=NAS@IXIC#&page=497\n",
      "https://finance.naver.com/world/sise.naver?symbol=NAS@IXIC#&page=498\n",
      "https://finance.naver.com/world/sise.naver?symbol=NAS@IXIC#&page=499\n"
     ]
    },
    {
     "name": "stderr",
     "output_type": "stream",
     "text": [
      "<ipython-input-61-77dee5e93da6>:14: FutureWarning: The frame.append method is deprecated and will be removed from pandas in a future version. Use pandas.concat instead.\n",
      "  df = df.append(table[1].dropna())\n",
      "<ipython-input-61-77dee5e93da6>:14: FutureWarning: The frame.append method is deprecated and will be removed from pandas in a future version. Use pandas.concat instead.\n",
      "  df = df.append(table[1].dropna())\n"
     ]
    }
   ],
   "source": [
    "df = pd.DataFrame()\n",
    "sise_url = 'https://finance.naver.com/world/sise.naver?symbol=NAS@IXIC#'  \n",
    "for page in range(1, 500):\n",
    "    page_url = '{}&page={}'.format(sise_url, page)\n",
    "    print(page_url)\n",
    "\n",
    "    # 위에서 했던 일련의 과정들을 각 url에 대해서 (99페이지에 대해서 반복)\n",
    "    response = requests.get(page_url, headers=headers)\n",
    "    html = bs(response.text, 'html.parser')\n",
    "    html_table = html.select(\"table\")\n",
    "    table = pd.read_html(str(html_table))\n",
    "\n",
    "    # 현재 얻은 데이터프레임을 기존 데이터프레임에 누적.\n",
    "    df = df.append(table[1].dropna())"
   ]
  },
  {
   "cell_type": "code",
   "execution_count": 67,
   "id": "5520bde8-8ab7-414c-8ea0-6ff4a90e6c84",
   "metadata": {},
   "outputs": [
    {
     "data": {
      "text/html": [
       "<div>\n",
       "<style scoped>\n",
       "    .dataframe tbody tr th:only-of-type {\n",
       "        vertical-align: middle;\n",
       "    }\n",
       "\n",
       "    .dataframe tbody tr th {\n",
       "        vertical-align: top;\n",
       "    }\n",
       "\n",
       "    .dataframe thead th {\n",
       "        text-align: right;\n",
       "    }\n",
       "</style>\n",
       "<table border=\"1\" class=\"dataframe\">\n",
       "  <thead>\n",
       "    <tr style=\"text-align: right;\">\n",
       "      <th></th>\n",
       "      <th>일자</th>\n",
       "      <th>종가</th>\n",
       "      <th>전일대비</th>\n",
       "      <th>시가</th>\n",
       "      <th>고가</th>\n",
       "      <th>저가</th>\n",
       "    </tr>\n",
       "  </thead>\n",
       "  <tbody>\n",
       "    <tr>\n",
       "      <th>9</th>\n",
       "      <td>2023.06.23</td>\n",
       "      <td>13492.52</td>\n",
       "      <td>138.09</td>\n",
       "      <td>13484.1</td>\n",
       "      <td>13572.19</td>\n",
       "      <td>13442.65</td>\n",
       "    </tr>\n",
       "    <tr>\n",
       "      <th>9</th>\n",
       "      <td>2023.06.23</td>\n",
       "      <td>13492.52</td>\n",
       "      <td>138.09</td>\n",
       "      <td>13484.1</td>\n",
       "      <td>13572.19</td>\n",
       "      <td>13442.65</td>\n",
       "    </tr>\n",
       "    <tr>\n",
       "      <th>9</th>\n",
       "      <td>2023.06.23</td>\n",
       "      <td>13492.52</td>\n",
       "      <td>138.09</td>\n",
       "      <td>13484.1</td>\n",
       "      <td>13572.19</td>\n",
       "      <td>13442.65</td>\n",
       "    </tr>\n",
       "    <tr>\n",
       "      <th>9</th>\n",
       "      <td>2023.06.23</td>\n",
       "      <td>13492.52</td>\n",
       "      <td>138.09</td>\n",
       "      <td>13484.1</td>\n",
       "      <td>13572.19</td>\n",
       "      <td>13442.65</td>\n",
       "    </tr>\n",
       "    <tr>\n",
       "      <th>9</th>\n",
       "      <td>2023.06.23</td>\n",
       "      <td>13492.52</td>\n",
       "      <td>138.09</td>\n",
       "      <td>13484.1</td>\n",
       "      <td>13572.19</td>\n",
       "      <td>13442.65</td>\n",
       "    </tr>\n",
       "    <tr>\n",
       "      <th>...</th>\n",
       "      <td>...</td>\n",
       "      <td>...</td>\n",
       "      <td>...</td>\n",
       "      <td>...</td>\n",
       "      <td>...</td>\n",
       "      <td>...</td>\n",
       "    </tr>\n",
       "    <tr>\n",
       "      <th>9</th>\n",
       "      <td>2023.06.23</td>\n",
       "      <td>13492.52</td>\n",
       "      <td>138.09</td>\n",
       "      <td>13484.1</td>\n",
       "      <td>13572.19</td>\n",
       "      <td>13442.65</td>\n",
       "    </tr>\n",
       "    <tr>\n",
       "      <th>9</th>\n",
       "      <td>2023.06.23</td>\n",
       "      <td>13492.52</td>\n",
       "      <td>138.09</td>\n",
       "      <td>13484.1</td>\n",
       "      <td>13572.19</td>\n",
       "      <td>13442.65</td>\n",
       "    </tr>\n",
       "    <tr>\n",
       "      <th>9</th>\n",
       "      <td>2023.06.23</td>\n",
       "      <td>13492.52</td>\n",
       "      <td>138.09</td>\n",
       "      <td>13484.1</td>\n",
       "      <td>13572.19</td>\n",
       "      <td>13442.65</td>\n",
       "    </tr>\n",
       "    <tr>\n",
       "      <th>9</th>\n",
       "      <td>2023.06.23</td>\n",
       "      <td>13492.52</td>\n",
       "      <td>138.09</td>\n",
       "      <td>13484.1</td>\n",
       "      <td>13572.19</td>\n",
       "      <td>13442.65</td>\n",
       "    </tr>\n",
       "    <tr>\n",
       "      <th>9</th>\n",
       "      <td>2023.06.23</td>\n",
       "      <td>13492.52</td>\n",
       "      <td>138.09</td>\n",
       "      <td>13484.1</td>\n",
       "      <td>13572.19</td>\n",
       "      <td>13442.65</td>\n",
       "    </tr>\n",
       "  </tbody>\n",
       "</table>\n",
       "<p>100 rows × 6 columns</p>\n",
       "</div>"
      ],
      "text/plain": [
       "            일자        종가    전일대비       시가        고가        저가\n",
       "9   2023.06.23  13492.52  138.09  13484.1  13572.19  13442.65\n",
       "9   2023.06.23  13492.52  138.09  13484.1  13572.19  13442.65\n",
       "9   2023.06.23  13492.52  138.09  13484.1  13572.19  13442.65\n",
       "9   2023.06.23  13492.52  138.09  13484.1  13572.19  13442.65\n",
       "9   2023.06.23  13492.52  138.09  13484.1  13572.19  13442.65\n",
       "..         ...       ...     ...      ...       ...       ...\n",
       "9   2023.06.23  13492.52  138.09  13484.1  13572.19  13442.65\n",
       "9   2023.06.23  13492.52  138.09  13484.1  13572.19  13442.65\n",
       "9   2023.06.23  13492.52  138.09  13484.1  13572.19  13442.65\n",
       "9   2023.06.23  13492.52  138.09  13484.1  13572.19  13442.65\n",
       "9   2023.06.23  13492.52  138.09  13484.1  13572.19  13442.65\n",
       "\n",
       "[100 rows x 6 columns]"
      ]
     },
     "execution_count": 67,
     "metadata": {},
     "output_type": "execute_result"
    }
   ],
   "source": [
    "df"
   ]
  },
  {
   "cell_type": "code",
   "execution_count": 65,
   "id": "03e7c306-f820-4aef-90f8-276a6b260602",
   "metadata": {},
   "outputs": [
    {
     "data": {
      "text/html": [
       "<div>\n",
       "<style scoped>\n",
       "    .dataframe tbody tr th:only-of-type {\n",
       "        vertical-align: middle;\n",
       "    }\n",
       "\n",
       "    .dataframe tbody tr th {\n",
       "        vertical-align: top;\n",
       "    }\n",
       "\n",
       "    .dataframe thead th {\n",
       "        text-align: right;\n",
       "    }\n",
       "</style>\n",
       "<table border=\"1\" class=\"dataframe\">\n",
       "  <thead>\n",
       "    <tr style=\"text-align: right;\">\n",
       "      <th></th>\n",
       "      <th>일자</th>\n",
       "      <th>종가</th>\n",
       "      <th>전일대비</th>\n",
       "      <th>시가</th>\n",
       "      <th>고가</th>\n",
       "      <th>저가</th>\n",
       "    </tr>\n",
       "  </thead>\n",
       "  <tbody>\n",
       "    <tr>\n",
       "      <th>9</th>\n",
       "      <td>2023.06.23</td>\n",
       "      <td>13492.52</td>\n",
       "      <td>138.09</td>\n",
       "      <td>13484.10</td>\n",
       "      <td>13572.19</td>\n",
       "      <td>13442.65</td>\n",
       "    </tr>\n",
       "    <tr>\n",
       "      <th>9</th>\n",
       "      <td>2023.06.23</td>\n",
       "      <td>13492.52</td>\n",
       "      <td>138.09</td>\n",
       "      <td>13484.10</td>\n",
       "      <td>13572.19</td>\n",
       "      <td>13442.65</td>\n",
       "    </tr>\n",
       "    <tr>\n",
       "      <th>9</th>\n",
       "      <td>2023.06.23</td>\n",
       "      <td>13492.52</td>\n",
       "      <td>138.09</td>\n",
       "      <td>13484.10</td>\n",
       "      <td>13572.19</td>\n",
       "      <td>13442.65</td>\n",
       "    </tr>\n",
       "    <tr>\n",
       "      <th>9</th>\n",
       "      <td>2023.06.23</td>\n",
       "      <td>13492.52</td>\n",
       "      <td>138.09</td>\n",
       "      <td>13484.10</td>\n",
       "      <td>13572.19</td>\n",
       "      <td>13442.65</td>\n",
       "    </tr>\n",
       "    <tr>\n",
       "      <th>9</th>\n",
       "      <td>2023.06.23</td>\n",
       "      <td>13492.52</td>\n",
       "      <td>138.09</td>\n",
       "      <td>13484.10</td>\n",
       "      <td>13572.19</td>\n",
       "      <td>13442.65</td>\n",
       "    </tr>\n",
       "    <tr>\n",
       "      <th>...</th>\n",
       "      <td>...</td>\n",
       "      <td>...</td>\n",
       "      <td>...</td>\n",
       "      <td>...</td>\n",
       "      <td>...</td>\n",
       "      <td>...</td>\n",
       "    </tr>\n",
       "    <tr>\n",
       "      <th>0</th>\n",
       "      <td>2023.07.07</td>\n",
       "      <td>13683.99</td>\n",
       "      <td>4.95</td>\n",
       "      <td>13668.07</td>\n",
       "      <td>13730.72</td>\n",
       "      <td>13657.72</td>\n",
       "    </tr>\n",
       "    <tr>\n",
       "      <th>0</th>\n",
       "      <td>2023.07.07</td>\n",
       "      <td>13687.15</td>\n",
       "      <td>8.11</td>\n",
       "      <td>13668.07</td>\n",
       "      <td>13730.72</td>\n",
       "      <td>13657.72</td>\n",
       "    </tr>\n",
       "    <tr>\n",
       "      <th>0</th>\n",
       "      <td>2023.07.07</td>\n",
       "      <td>13683.99</td>\n",
       "      <td>4.95</td>\n",
       "      <td>13668.07</td>\n",
       "      <td>13730.72</td>\n",
       "      <td>13657.72</td>\n",
       "    </tr>\n",
       "    <tr>\n",
       "      <th>0</th>\n",
       "      <td>2023.07.07</td>\n",
       "      <td>13687.06</td>\n",
       "      <td>8.02</td>\n",
       "      <td>13668.07</td>\n",
       "      <td>13730.72</td>\n",
       "      <td>13657.72</td>\n",
       "    </tr>\n",
       "    <tr>\n",
       "      <th>0</th>\n",
       "      <td>2023.07.07</td>\n",
       "      <td>13684.51</td>\n",
       "      <td>5.47</td>\n",
       "      <td>13668.07</td>\n",
       "      <td>13730.72</td>\n",
       "      <td>13657.72</td>\n",
       "    </tr>\n",
       "  </tbody>\n",
       "</table>\n",
       "<p>4990 rows × 6 columns</p>\n",
       "</div>"
      ],
      "text/plain": [
       "            일자        종가    전일대비        시가        고가        저가\n",
       "9   2023.06.23  13492.52  138.09  13484.10  13572.19  13442.65\n",
       "9   2023.06.23  13492.52  138.09  13484.10  13572.19  13442.65\n",
       "9   2023.06.23  13492.52  138.09  13484.10  13572.19  13442.65\n",
       "9   2023.06.23  13492.52  138.09  13484.10  13572.19  13442.65\n",
       "9   2023.06.23  13492.52  138.09  13484.10  13572.19  13442.65\n",
       "..         ...       ...     ...       ...       ...       ...\n",
       "0   2023.07.07  13683.99    4.95  13668.07  13730.72  13657.72\n",
       "0   2023.07.07  13687.15    8.11  13668.07  13730.72  13657.72\n",
       "0   2023.07.07  13683.99    4.95  13668.07  13730.72  13657.72\n",
       "0   2023.07.07  13687.06    8.02  13668.07  13730.72  13657.72\n",
       "0   2023.07.07  13684.51    5.47  13668.07  13730.72  13657.72\n",
       "\n",
       "[4990 rows x 6 columns]"
      ]
     },
     "execution_count": 65,
     "metadata": {},
     "output_type": "execute_result"
    }
   ],
   "source": [
    "df = df.dropna()\n",
    "# df = df.iloc[0:30] \n",
    "df = df.sort_values(by='일자')\n",
    "df"
   ]
  },
  {
   "cell_type": "code",
   "execution_count": 66,
   "id": "a0ac80e1-714b-414f-b67e-fbb326baaa64",
   "metadata": {},
   "outputs": [
    {
     "data": {
      "image/png": "[encoded data removed]",
      "text/plain": [
       "<Figure size 1080x360 with 1 Axes>"
      ]
     },
     "metadata": {
      "needs_background": "light"
     },
     "output_type": "display_data"
    }
   ],
   "source": [
    "plt.figure(figsize=(15, 5)) \n",
    "plt.title('Celltrion (close)')\n",
    "plt.xticks(rotation=45) \n",
    "plt.plot(df['일자'], df['종가'], 'co-')\n",
    "plt.grid(color='gray', linestyle='--')\n",
    "plt.show()"
   ]
  },
  {
   "cell_type": "code",
   "execution_count": null,
   "id": "64ba5e13-a892-4267-ba0d-9b0f68fda803",
   "metadata": {},
   "outputs": [],
   "source": []
  }
 ],
 "metadata": {
  "kernelspec": {
   "display_name": "Python 3",
   "language": "python",
   "name": "python3"
  },
  "language_info": {
   "codemirror_mode": {
    "name": "ipython",
    "version": 3
   },
   "file_extension": ".py",
   "mimetype": "text/x-python",
   "name": "python",
   "nbconvert_exporter": "python",
   "pygments_lexer": "ipython3",
   "version": "3.8.0"
  }
 },
 "nbformat": 4,
 "nbformat_minor": 5
}

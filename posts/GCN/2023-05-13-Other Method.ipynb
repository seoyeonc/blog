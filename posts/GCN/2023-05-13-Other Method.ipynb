{
 "cells": [
  {
   "cell_type": "raw",
   "id": "1b754dc0-1156-4a42-814a-adc31f8d2e18",
   "metadata": {
    "id": "cac470df-29e7-4148-9bbd-d8b9a32fa570",
    "tags": []
   },
   "source": [
    "---\n",
    "title: \"ITSTGCN DCRNN\"\n",
    "author: \"SEOYEON CHOI\"\n",
    "date: \"2023-05-06\"\n",
    "categories:\n",
    "  - ITSTGCN\n",
    "---"
   ]
  },
  {
   "cell_type": "markdown",
   "id": "22a78cab-4548-455e-939b-c424abbc08b9",
   "metadata": {
    "tags": []
   },
   "source": [
    "> summerizing it"
   ]
  },
  {
   "cell_type": "markdown",
   "id": "0039cffc-af67-4337-933a-e6e5113e62d1",
   "metadata": {},
   "source": [
    "# 예"
   ]
  },
  {
   "cell_type": "code",
   "execution_count": 42,
   "id": "1642665f-459f-43c1-8b04-26ab15947f1b",
   "metadata": {},
   "outputs": [],
   "source": [
    "import itstgcnadd\n",
    "import torch\n",
    "import itstgcnadd.planner "
   ]
  },
  {
   "cell_type": "code",
   "execution_count": null,
   "id": "584165b3-0543-49f2-9964-f71cf287a5e9",
   "metadata": {},
   "outputs": [],
   "source": [
    "from torch_geometric_temporal.dataset import ChickenpoxDatasetLoader\n",
    "loader1 = ChickenpoxDatasetLoader()"
   ]
  },
  {
   "cell_type": "code",
   "execution_count": null,
   "id": "59b54849-df00-4674-b864-a849f9d298b6",
   "metadata": {},
   "outputs": [],
   "source": [
    "dataset = loader1.get_dataset(lags=2)\n",
    "train_dataset, test_dataset = itstgcnadd.temporal_signal_split(dataset, train_ratio=0.8)"
   ]
  },
  {
   "cell_type": "code",
   "execution_count": null,
   "id": "eef2e8ea-f3dd-4d52-8980-aee438f0ecc3",
   "metadata": {},
   "outputs": [],
   "source": [
    "mindex = itstgcnadd.rand_mindex(train_dataset,mrate=0.8)\n",
    "train_dataset_miss = itstgcnadd.miss(train_dataset,mindex,mtype='rand')\n",
    "train_dataset_padded = itstgcnadd.padding(train_dataset_miss)"
   ]
  },
  {
   "cell_type": "markdown",
   "id": "02652a58-4c7a-4220-8397-920c10dd666e",
   "metadata": {},
   "source": [
    "## STGCN"
   ]
  },
  {
   "cell_type": "markdown",
   "id": "a76892c9-1f33-42b1-947b-a7bdc105b9d3",
   "metadata": {},
   "source": [
    "`-` 학습"
   ]
  },
  {
   "cell_type": "code",
   "execution_count": null,
   "id": "6723de90-4209-445b-aa91-f1accfd527b5",
   "metadata": {},
   "outputs": [],
   "source": [
    "lrnr = itstgcnadd.StgcnLearner(train_dataset_padded)"
   ]
  },
  {
   "cell_type": "code",
   "execution_count": null,
   "id": "68f7ab47-3b21-4e8e-a595-9990320d7e31",
   "metadata": {},
   "outputs": [],
   "source": [
    "lrnr.learn(epoch=5)"
   ]
  },
  {
   "cell_type": "markdown",
   "id": "99a1f882-bf59-46ce-a5d7-940fb99fa454",
   "metadata": {},
   "source": [
    "`-` 모형 평가 및 시각화"
   ]
  },
  {
   "cell_type": "code",
   "execution_count": null,
   "id": "a09022f4-3ed7-4f51-b21d-ef1bc16bf609",
   "metadata": {},
   "outputs": [],
   "source": [
    "evtor = itstgcnadd.Evaluator(lrnr,train_dataset_padded,test_dataset)"
   ]
  },
  {
   "cell_type": "code",
   "execution_count": null,
   "id": "ef89e57e-c357-46a0-a4a2-082e33e70a36",
   "metadata": {},
   "outputs": [],
   "source": [
    "fig = evtor.plot('--.',h=5,max_node=3,label='complete data',alpha=0.5) # max_nodes 는 1보다 커야함\n",
    "fig.set_figwidth(20)\n",
    "fig.set_figheight(15)\n",
    "fig.tight_layout()\n",
    "fig"
   ]
  },
  {
   "cell_type": "markdown",
   "id": "624a769b-ba55-4be3-8acc-2e5c3fe1ef18",
   "metadata": {},
   "source": [
    "## ITSTGCN"
   ]
  },
  {
   "cell_type": "markdown",
   "id": "8346a9fd-ec39-4531-b2ea-7f88c7991b7d",
   "metadata": {},
   "source": [
    "`-` 학습"
   ]
  },
  {
   "cell_type": "code",
   "execution_count": null,
   "id": "ebdc0487-a377-4b78-b63d-ba37c4b30f80",
   "metadata": {},
   "outputs": [],
   "source": [
    "lrnr2 = itstgcnadd.ITStgcnLearner(train_dataset_padded)"
   ]
  },
  {
   "cell_type": "code",
   "execution_count": null,
   "id": "7484a2e0-d4df-45f8-bf88-efa1a70c3289",
   "metadata": {},
   "outputs": [],
   "source": [
    "lrnr2.learn(epoch=5)"
   ]
  },
  {
   "cell_type": "markdown",
   "id": "5c3f2441-400d-44fc-af39-775545f43efc",
   "metadata": {},
   "source": [
    "`-` 모형 평가 및 시각화"
   ]
  },
  {
   "cell_type": "code",
   "execution_count": null,
   "id": "f084aa67-a81f-4062-9323-5022e64a3c45",
   "metadata": {},
   "outputs": [],
   "source": [
    "evtor2 = itstgcnadd.Evaluator(lrnr2,train_dataset_padded,test_dataset)"
   ]
  },
  {
   "cell_type": "code",
   "execution_count": null,
   "id": "dc5f1784-4140-46a1-b4bc-b9258b7eeb37",
   "metadata": {},
   "outputs": [],
   "source": [
    "fig = evtor2.plot('--.',h=5,max_node=3,label='complete data',alpha=0.5) # max_nodes 는 1보다 커야함\n",
    "fig.set_figwidth(20)\n",
    "fig.set_figheight(15)\n",
    "fig.tight_layout()\n",
    "fig"
   ]
  },
  {
   "cell_type": "markdown",
   "id": "1eb42995-6aa9-426e-98a1-9f9ea7f826e9",
   "metadata": {},
   "source": [
    "---"
   ]
  },
  {
   "cell_type": "code",
   "execution_count": 1,
   "id": "fdc4c61e-aca8-4076-b2eb-5d8fb8e9b195",
   "metadata": {},
   "outputs": [],
   "source": [
    "import itstgcnadd\n",
    "import torch\n",
    "import itstgcnadd.planner "
   ]
  },
  {
   "cell_type": "markdown",
   "id": "1d3bb421-5a6b-4ec7-98a8-2717034f3814",
   "metadata": {},
   "source": [
    "# Fivenodes"
   ]
  },
  {
   "cell_type": "code",
   "execution_count": 7,
   "id": "c24672b3-edae-4c60-91c6-a0ec6ccf3e00",
   "metadata": {},
   "outputs": [],
   "source": [
    "data_dict = itstgcnadd.load_data('./data/fivenodes.pkl')\n",
    "loader = itstgcnadd.DatasetLoader(data_dict)"
   ]
  },
  {
   "cell_type": "code",
   "execution_count": 9,
   "id": "f87d34db-8df6-4ee1-9e4a-c73d60cb75a9",
   "metadata": {},
   "outputs": [],
   "source": [
    "import pandas as pd"
   ]
  },
  {
   "cell_type": "code",
   "execution_count": 10,
   "id": "73d4a0b0-484e-4ca6-889c-1db61a0cc91b",
   "metadata": {},
   "outputs": [],
   "source": [
    "data_fivenodes= pd.read_csv('./simulation_results/Real_simulation/fivedones_Simulation.csv')"
   ]
  },
  {
   "cell_type": "code",
   "execution_count": 17,
   "id": "9f3b1462-a7f0-47d8-9897-14442005705c",
   "metadata": {},
   "outputs": [
    {
     "data": {
      "text/plain": [
       "array([ nan, 150.])"
      ]
     },
     "execution_count": 17,
     "metadata": {},
     "output_type": "execute_result"
    }
   ],
   "source": [
    "data_fivenodes['epoch'].unique()"
   ]
  },
  {
   "cell_type": "code",
   "execution_count": 25,
   "id": "17ad47a2-f006-451f-bf0f-bef51a701b3d",
   "metadata": {},
   "outputs": [],
   "source": [
    "plans_stgcn_rand = {\n",
    "    'max_iteration': 30, \n",
    "    'method': ['STGCN', 'IT-STGCN'], \n",
    "    'RecurrentGCN' : ['DCRNN'],\n",
    "    'mrate': [0,0.3,0.8],\n",
    "    'lags': [2], \n",
    "    'nof_filters': [16], \n",
    "    'inter_method': ['linear','cubic'],\n",
    "    'epoch': [150]\n",
    "}"
   ]
  },
  {
   "cell_type": "code",
   "execution_count": 23,
   "id": "4c17140f-8948-4195-884f-d3d9accec9a9",
   "metadata": {},
   "outputs": [],
   "source": [
    "plnr = itstgcnadd.planner.PLNR_STGCN_RAND(plans_stgcn_rand,loader,dataset_name='fivenodes')"
   ]
  },
  {
   "cell_type": "code",
   "execution_count": null,
   "id": "8a6783e7-169c-4919-82e9-8d5b55e64f04",
   "metadata": {},
   "outputs": [
    {
     "name": "stdout",
     "output_type": "stream",
     "text": [
      "1/30 is done\n",
      "2/30 is done\n",
      "139/150\r"
     ]
    }
   ],
   "source": [
    "plnr.simulate()"
   ]
  },
  {
   "cell_type": "code",
   "execution_count": null,
   "id": "b5dc2955-4c1d-4a8b-97a4-14fcdbee8377",
   "metadata": {},
   "outputs": [],
   "source": []
  },
  {
   "cell_type": "code",
   "execution_count": null,
   "id": "1c9fcc34-4652-4add-ae1e-2669b10ccf1e",
   "metadata": {},
   "outputs": [],
   "source": []
  },
  {
   "cell_type": "markdown",
   "id": "271c89b1-ee55-4af9-912e-c2ab24cbd2c8",
   "metadata": {},
   "source": [
    "---"
   ]
  },
  {
   "cell_type": "code",
   "execution_count": 2,
   "id": "09cfd953-0f3d-4e6b-8a0e-30af1c2b0199",
   "metadata": {},
   "outputs": [],
   "source": [
    "from torch_geometric_temporal.dataset import ChickenpoxDatasetLoader\n",
    "loader1 = ChickenpoxDatasetLoader()"
   ]
  },
  {
   "cell_type": "code",
   "execution_count": 3,
   "id": "ec04fc74-4425-4048-a0a6-6990c4677605",
   "metadata": {},
   "outputs": [],
   "source": [
    "plans_stgcn_rand = {\n",
    "    'max_iteration': 3, \n",
    "    'method': ['STGCN', 'IT-STGCN'], \n",
    "    'RecurrentGCN' : ['DCRNN'],\n",
    "    'mrate': [0.5],\n",
    "    'lags': [8], \n",
    "    'nof_filters': [12], \n",
    "    'inter_method': ['linear'],\n",
    "    'epoch': [5]\n",
    "}"
   ]
  },
  {
   "cell_type": "code",
   "execution_count": 4,
   "id": "c78b9fe1-1905-4d8a-a76b-9b950f45526a",
   "metadata": {},
   "outputs": [],
   "source": [
    "plnr = itstgcnadd.planner.PLNR_STGCN_RAND(plans_stgcn_rand,loader1,dataset_name='chickenpox')"
   ]
  },
  {
   "cell_type": "code",
   "execution_count": 5,
   "id": "2d635b6e-4541-4191-98b1-546e0e251cd6",
   "metadata": {},
   "outputs": [
    {
     "name": "stderr",
     "output_type": "stream",
     "text": [
      "/home/csy/Dropbox/blog/posts/GCN/itstgcnadd/utils.py:71: UserWarning: Creating a tensor from a list of numpy.ndarrays is extremely slow. Please consider converting the list to a single numpy.ndarray with numpy.array() before converting to a tensor. (Triggered internally at /opt/conda/conda-bld/pytorch_1682343998658/work/torch/csrc/utils/tensor_new.cpp:245.)\n",
      "  lags = torch.tensor(train_dataset.features).shape[-1]\n"
     ]
    },
    {
     "name": "stdout",
     "output_type": "stream",
     "text": [
      "1/3 is done\n",
      "2/3 is done\n",
      "3/3 is done\n",
      "All results are stored in ./simulation_results/2023-05-14_10-52-36.csv\n"
     ]
    }
   ],
   "source": [
    "plnr.simulate()"
   ]
  },
  {
   "cell_type": "markdown",
   "id": "495fa7a4-3936-46ee-83be-3319060c3194",
   "metadata": {},
   "source": [
    "---"
   ]
  },
  {
   "cell_type": "code",
   "execution_count": 31,
   "id": "e0f18279-1614-4a82-94c3-67d50fc63543",
   "metadata": {},
   "outputs": [],
   "source": [
    "from torch_geometric_temporal.dataset import WikiMathsDatasetLoader\n",
    "loader3 = WikiMathsDatasetLoader()"
   ]
  },
  {
   "cell_type": "code",
   "execution_count": 32,
   "id": "320bbe8a-0f58-4697-a127-f044a954fe0e",
   "metadata": {},
   "outputs": [],
   "source": [
    "plans_stgcn_rand = {\n",
    "    'max_iteration': 10, \n",
    "    'method': ['STGCN', 'IT-STGCN'], \n",
    "    'RecurrentGCN' : ['DCRNN'],\n",
    "    'mrate': [0],\n",
    "    'lags': [8], \n",
    "    'nof_filters': [12], \n",
    "    'inter_method': ['linear'],\n",
    "    'epoch': [50]\n",
    "}"
   ]
  },
  {
   "cell_type": "code",
   "execution_count": 33,
   "id": "3d91e5cc-b7ed-49a2-b1ac-b6f6d5571793",
   "metadata": {},
   "outputs": [],
   "source": [
    "plnr = itstgcnadd.planner.PLNR_STGCN_RAND(plans_stgcn_rand,loader3,dataset_name='wikimath')"
   ]
  },
  {
   "cell_type": "code",
   "execution_count": null,
   "id": "6addae79-61e7-4c8c-b640-f1611ae60ad4",
   "metadata": {},
   "outputs": [
    {
     "name": "stdout",
     "output_type": "stream",
     "text": [
      "1/10 is done\n",
      "2/10 is done\n",
      "3/10 is done\n",
      "4/10 is done\n",
      "42/50\r"
     ]
    }
   ],
   "source": [
    "plnr.simulate()"
   ]
  },
  {
   "cell_type": "code",
   "execution_count": null,
   "id": "3765d01d-002b-46ff-b0dc-73f560ff177b",
   "metadata": {},
   "outputs": [],
   "source": [
    "plans_stgcn_rand = {\n",
    "    'max_iteration': 10, \n",
    "    'method': ['STGCN', 'IT-STGCN'], \n",
    "    'RecurrentGCN' : ['DCRNN'],\n",
    "    'mrate': [0.3],\n",
    "    'lags': [8], \n",
    "    'nof_filters': [12], \n",
    "    'inter_method': ['linear'],\n",
    "    'epoch': [50]\n",
    "}"
   ]
  },
  {
   "cell_type": "code",
   "execution_count": null,
   "id": "681f6bcd-2c9e-4a7b-8aaf-5ad1cf1a7430",
   "metadata": {},
   "outputs": [],
   "source": [
    "plnr = itstgcnadd.planner.PLNR_STGCN_RAND(plans_stgcn_rand,loader3,dataset_name='wikimath')"
   ]
  },
  {
   "cell_type": "code",
   "execution_count": null,
   "id": "f9b458e3-d714-470a-b132-ccfdcbf38589",
   "metadata": {},
   "outputs": [],
   "source": [
    "plnr.simulate()"
   ]
  },
  {
   "cell_type": "code",
   "execution_count": null,
   "id": "455ba0da-dd36-4f7e-b293-9afea36b1968",
   "metadata": {},
   "outputs": [],
   "source": [
    "plans_stgcn_rand = {\n",
    "    'max_iteration': 10, \n",
    "    'method': ['STGCN', 'IT-STGCN'], \n",
    "    'RecurrentGCN' : ['DCRNN'],\n",
    "    'mrate': [0.5],\n",
    "    'lags': [8], \n",
    "    'nof_filters': [12], \n",
    "    'inter_method': ['linear'],\n",
    "    'epoch': [50]\n",
    "}"
   ]
  },
  {
   "cell_type": "code",
   "execution_count": null,
   "id": "3e0fe28b-32f1-431c-a778-e8cac1e87b6d",
   "metadata": {},
   "outputs": [],
   "source": [
    "plnr = itstgcnadd.planner.PLNR_STGCN_RAND(plans_stgcn_rand,loader3,dataset_name='wikimath')"
   ]
  },
  {
   "cell_type": "code",
   "execution_count": null,
   "id": "25a76a5d-fd76-4d2f-a94b-1d27fe434eec",
   "metadata": {},
   "outputs": [],
   "source": [
    "plnr.simulate()"
   ]
  },
  {
   "cell_type": "code",
   "execution_count": null,
   "id": "b9d8b07a-4cdf-42bd-94ca-da76c007b298",
   "metadata": {},
   "outputs": [],
   "source": []
  },
  {
   "cell_type": "code",
   "execution_count": null,
   "id": "2c1ab254-65bf-4de6-96be-785e245eddf6",
   "metadata": {},
   "outputs": [],
   "source": []
  }
 ],
 "metadata": {
  "kernelspec": {
   "display_name": "Python 3",
   "language": "python",
   "name": "python3"
  },
  "language_info": {
   "codemirror_mode": {
    "name": "ipython",
    "version": 3
   },
   "file_extension": ".py",
   "mimetype": "text/x-python",
   "name": "python",
   "nbconvert_exporter": "python",
   "pygments_lexer": "ipython3",
   "version": "3.8.0"
  }
 },
 "nbformat": 4,
 "nbformat_minor": 5
}

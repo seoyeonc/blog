{
 "cells": [
  {
   "cell_type": "raw",
   "id": "eb83c31c-c09b-417a-8129-8b4def795170",
   "metadata": {
    "id": "cac470df-29e7-4148-9bbd-d8b9a32fa570",
    "tags": []
   },
   "source": [
    "---\n",
    "title: \"ITSTGCN Article Refernece\"\n",
    "author: \"SEOYEON CHOI\"\n",
    "date: \"2023-05-06\"\n",
    "categories:\n",
    "  - ITSTGCN\n",
    "---"
   ]
  },
  {
   "cell_type": "markdown",
   "id": "c8735c04-d612-4472-8d6c-992d5b6a33d9",
   "metadata": {
    "tags": []
   },
   "source": [
    "> summerizing it"
   ]
  },
  {
   "cell_type": "markdown",
   "id": "151df619-3531-453c-9e1d-484fd1ec2728",
   "metadata": {},
   "source": [
    ":::{.callout-note}\n",
    "- 글이 진행되는 순서로 작성함.\n",
    ":::"
   ]
  },
  {
   "cell_type": "markdown",
   "id": "a3261ee0-c3ac-4d59-8af1-7c9892bf3b35",
   "metadata": {},
   "source": [
    "# Introduction"
   ]
  },
  {
   "cell_type": "markdown",
   "id": "b2a29593-2c34-4091-ba6a-f831f2c20a71",
   "metadata": {},
   "source": [
    "`little1989analysis`\n",
    "\n",
    "- The analysis of social science data with missing values\n",
    "    - Little, Roderick JA and Rubin, Donald B"
   ]
  },
  {
   "cell_type": "markdown",
   "id": "89019b5b-04ff-40d4-9df8-f147f42b40f3",
   "metadata": {},
   "source": [
    "위 논문은 구하지 못했고, 아래 논문에서 refer 건 것 보고 작성\n",
    "\n",
    "Evaluating the Influence of Missing Data on Classification Algorithms in Data Mining Applications\n",
    "by Luciano C. Blomberg\n",
    "\n",
    "내용\n",
    "\n",
    "- Furthermore, distribution of missing data is another aspect that may influence the effectiveness of classification algorithms. Litle and Rubin [1987] presented three different mechanisms by which the missing data are distributed:"
   ]
  },
  {
   "cell_type": "markdown",
   "id": "a31d0cc0-7ff7-4bbd-a675-405f6136e580",
   "metadata": {},
   "source": [
    "`li2018missing`\n",
    "\n",
    "- Missing value imputation for traffic-related time series data based on a multi-view learning method\n",
    "    - Li, Linchao and Zhang, Jian and Wang, Yonggang and Ran, Bin"
   ]
  },
  {
   "cell_type": "markdown",
   "id": "3b163634-478c-45eb-845e-1531cbe765c5",
   "metadata": {},
   "source": [
    "내용\n",
    "\n",
    "- In this circumstance, the difficulty of imputation is increased as we may not be able to find stable inputs for a model."
   ]
  },
  {
   "cell_type": "markdown",
   "id": "a6e29f5f-6b2e-4086-861e-461fdfc262bb",
   "metadata": {},
   "source": [
    "**Spatiotemporal Data**"
   ]
  },
  {
   "cell_type": "markdown",
   "id": "fbda7a8d-f5e7-4a36-9b10-3317508d6d52",
   "metadata": {},
   "source": [
    "`atluri2018spatio`\n",
    "\n",
    "- Spatio-temporal data mining: A survey of problems and methods\n",
    "    - Atluri, Gowtham and Karpatne, Anuj and Kumar, Vipin"
   ]
  },
  {
   "cell_type": "markdown",
   "id": "e570f95d-df44-4645-8deb-90bb93b0518e",
   "metadata": {},
   "source": [
    "내용\n",
    "\n",
    "- 3.2. Data type 내용"
   ]
  },
  {
   "cell_type": "markdown",
   "id": "5dcdfe14-a166-45fe-a0e3-fc6b0962e253",
   "metadata": {},
   "source": [
    "`wang2020deep`\n",
    "\n",
    "- Deep learning for spatio-temporal data mining: A survey\n",
    "    - Wang, Senzhang and Cao, Jiannong and Yu, Philip"
   ]
  },
  {
   "cell_type": "markdown",
   "id": "f0392248-a06d-4898-9ab1-962876728c83",
   "metadata": {},
   "source": [
    "내용\n",
    "\n",
    "- 2.1. Spatio-Temporal Data Types 항목 내용에서 STData 종류"
   ]
  },
  {
   "cell_type": "markdown",
   "id": "576e4179-757a-47ad-a0e4-8aaf8fa86324",
   "metadata": {},
   "source": [
    "`yu2017spatio`\n",
    "\n",
    "- Spatio-temporal graph convolutional networks: A deep learning framework for traffic forecasting\n",
    "    - Yu, Bing and Yin, Haoteng and Zhu, Zhanxing"
   ]
  },
  {
   "cell_type": "markdown",
   "id": "a3fa8912-a4ea-4c53-8ef1-9d42a6406ca4",
   "metadata": {},
   "source": [
    "내용\n",
    "\n",
    "-  The linear interpolation method is used to fill missing values after data cleaning. "
   ]
  },
  {
   "cell_type": "markdown",
   "id": "9246464c-5f8e-413e-b580-1f1dbfa0a144",
   "metadata": {},
   "source": [
    "`guo2019attention`\n",
    "\n",
    "- Attention based spatial-temporal graph convolutional networks for traffic flow forecasting\n",
    "    - Guo, Shengnan and Lin, Youfang and Feng, Ning and Song, Chao and Wan, Huaiyu"
   ]
  },
  {
   "cell_type": "markdown",
   "id": "aa0bfb8a-c71e-46c1-818e-2944705872d6",
   "metadata": {},
   "source": [
    "내용\n",
    "\n",
    "- The missing values are filled by the linear interpolation. "
   ]
  },
  {
   "cell_type": "markdown",
   "id": "97976556-85af-4e41-97ac-fbaa69b74bc5",
   "metadata": {},
   "source": [
    "`bai2020adaptive`\n",
    "\n",
    "- Adaptive graph convolutional recurrent network for traffic forecasting\n",
    "    - Bai, Lei and Yao, Lina and Li, Can and Wang, Xianzhi and Wang, Can"
   ]
  },
  {
   "cell_type": "markdown",
   "id": "986c6346-1c44-414f-8964-fb20212e74e8",
   "metadata": {},
   "source": [
    "내용\n",
    "\n",
    "- The missing values in the datasets are filled by linear interpolation. "
   ]
  },
  {
   "cell_type": "markdown",
   "id": "9497405e-7096-40b6-8d56-a617d78629e6",
   "metadata": {},
   "source": [
    "`li2019predicting`\n",
    "\n",
    "- Predicting path failure in time-evolving graphs\n",
    "    - Li, Jia and Han, Zhichao and Cheng, Hong and Su, Jiao and Wang, Pengyun and Zhang, Jianfeng and Pan, Lujia"
   ]
  },
  {
   "cell_type": "markdown",
   "id": "f205b1bb-ae2d-4142-b198-d3c6d6a296a2",
   "metadata": {},
   "source": [
    "내용\n",
    "\n",
    "- We replace missing values with 0, and normalize the features to the range"
   ]
  },
  {
   "cell_type": "markdown",
   "id": "a7b61062-90e1-4b5e-8b77-6809328fe48d",
   "metadata": {},
   "source": [
    "`zhao2019t`\n",
    "\n",
    "- T-GCN: A Temporal Graph Convol- utional Network for Traffic Prediction\n",
    "    - Zhao, Ling and Song, Yujiao and Zhang, Chao and Liu, Yu and Wang, Pu and Lin, Tao and Deng, Min and Li, Haifeng"
   ]
  },
  {
   "cell_type": "markdown",
   "id": "1fbd9a1f-13ab-45af-85b3-8664413f3846",
   "metadata": {},
   "source": [
    "내용\n",
    "\n",
    "- we used the linear interpolation method to fill missing values."
   ]
  },
  {
   "cell_type": "markdown",
   "id": "21dc6ac2-2de0-4c6c-9584-433e497e9842",
   "metadata": {},
   "source": [
    "`baraldi2010introduction`\n",
    "\n",
    "- An introduction to modern missing data analyses\n",
    "    - Baraldi, Amanda N and Enders, Craig K"
   ]
  },
  {
   "cell_type": "markdown",
   "id": "392b4d65-cec6-486a-b9eb-3a7b80c2db0c",
   "metadata": {},
   "source": [
    "내용\n",
    "\n",
    "- An overview of traditional missing data techniques 항목"
   ]
  },
  {
   "cell_type": "markdown",
   "id": "30eb9051-e0f9-4e1c-bc24-131ddec817f3",
   "metadata": {},
   "source": [
    "`shi2022air`\n",
    "\n",
    "- Air Quality Prediction Model Based on Spatio-temporal Graph Convolution Neural Networks\n",
    "    - Shi, Weidi and Song, Anjun"
   ]
  },
  {
   "cell_type": "markdown",
   "id": "cb7f0198-938b-4a04-a22a-f03cae15e06e",
   "metadata": {},
   "source": [
    "내용\n",
    "\n",
    "- Due to weather reasons and corrosion or damage of some sensors, some data were lost and abnormal. Therefore, the data needs to be cleaned. We used the average imputation method to fill some lost data and deleted the data which lost too many values."
   ]
  },
  {
   "cell_type": "markdown",
   "id": "2772cda4-b8b3-43d4-a377-debdeb784d26",
   "metadata": {},
   "source": [
    "`batista2003analysis`\n",
    "\n",
    "- An analysis of four missing data treatment methods for supervised learning\n",
    "    - Batista, Gustavo EAPA and Monard, Maria Carolina"
   ]
  },
  {
   "cell_type": "markdown",
   "id": "8e7a737c-4f5d-46cc-b259-d9fbecf86d6c",
   "metadata": {},
   "source": [
    "내용\n",
    "\n",
    "- IMPUTATION METHODS\n",
    "- Imputation methods involve replacing missing values with estimated ones based on information available in the data set. There are many options varying from naive methods, such as mean imputation, to some more robust methods based on relationships among attributes. A description of some widely used imputation methods follows:"
   ]
  },
  {
   "cell_type": "markdown",
   "id": "e6f5c35e-bee7-49b5-8d3e-6dc544619faa",
   "metadata": {},
   "source": [
    "`blomberg2013evaluating`\n",
    "\n",
    "- Evaluating the performance of regression algorithms on datasets with missing data\n",
    "    - Blomberg, Luciano Costa and Hemerich, Daiane and Ruiz, Duncan Dubugras Alcoba"
   ]
  },
  {
   "cell_type": "markdown",
   "id": "d652609a-a198-4a91-a926-796db1d3dda9",
   "metadata": {},
   "source": [
    "내용\n",
    "\n",
    "-  for example, replaces the missing values with means or modes."
   ]
  },
  {
   "cell_type": "markdown",
   "id": "edb8113b-85d1-4535-9ff6-f72a43f2e536",
   "metadata": {},
   "source": [
    "`donders2006gentle`\n",
    "\n",
    "- Review: A gentle introduction to imputation of missing values\n",
    "    - Donders, A Rogier T and Van Der Heijden, Geert JMG and Stijnen, Theo and Moons, Karel GM"
   ]
  },
  {
   "cell_type": "markdown",
   "id": "049d7419-e9f8-4c5c-9eff-d08d5a0fcaf1",
   "metadata": {},
   "source": [
    "내용\n",
    "\n",
    "- the indicator method and overall mean imputation, give biased results.\n",
    "-  The mean of the standard errors is a measure for the uncertainty in the estimated associations caused by sampling the study subjects from a source popu- lation. Additionally, the standard deviation of the multiple estimated associations (e.g., regression coefficients) reflects the differences between the imputed data sets, i.e., the un- certainty in the estimated underlying distributions of the variables with missing values."
   ]
  },
  {
   "cell_type": "markdown",
   "id": "ff4b1a8f-2086-4a27-aae9-e0de44482338",
   "metadata": {},
   "source": [
    "`baraldi2010introduction`\n",
    "\n",
    "- An introduction to modern missing data analyses\n",
    "    - Baraldi, Amanda N and Enders, Craig K"
   ]
  },
  {
   "cell_type": "markdown",
   "id": "33f64618-4e81-4884-a306-84a7de136a19",
   "metadata": {},
   "source": [
    "내용\n",
    "\n",
    "- To illustrate the bias that can result from the use of traditional missing data methods, we use the artificial math performance data set found in Table 1."
   ]
  },
  {
   "cell_type": "markdown",
   "id": "3c270d55-076a-4821-876e-e6ec20b5611a",
   "metadata": {},
   "source": [
    "# Proposed Methods"
   ]
  },
  {
   "cell_type": "markdown",
   "id": "30fa3148-ba74-4ab9-b622-d05d4c881606",
   "metadata": {},
   "source": [
    "**Self-Consistent Estimator**"
   ]
  },
  {
   "cell_type": "code",
   "execution_count": null,
   "id": "784ad93d-9a22-4eab-88b6-a1591891976c",
   "metadata": {},
   "outputs": [],
   "source": []
  }
 ],
 "metadata": {
  "kernelspec": {
   "display_name": "Python 3",
   "language": "python",
   "name": "python3"
  },
  "language_info": {
   "codemirror_mode": {
    "name": "ipython",
    "version": 3
   },
   "file_extension": ".py",
   "mimetype": "text/x-python",
   "name": "python",
   "nbconvert_exporter": "python",
   "pygments_lexer": "ipython3",
   "version": "3.8.0"
  }
 },
 "nbformat": 4,
 "nbformat_minor": 5
}

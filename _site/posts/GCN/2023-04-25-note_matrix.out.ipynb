{
  "cells": [
    {
      "cell_type": "markdown",
      "metadata": {},
      "source": [
        "# Note_weight amatrix\n",
        "\n",
        "GUEBIN CHOI  \n",
        "4/25/23\n",
        "\n",
        "> weight matrix"
      ],
      "id": "4df04773-5050-4124-85d8-744ffc9c7799"
    },
    {
      "cell_type": "code",
      "execution_count": 41,
      "metadata": {},
      "outputs": [],
      "source": [
        "import numpy as np"
      ],
      "id": "37e3be27-a81c-4b48-9588-ce04a64c1860"
    },
    {
      "cell_type": "markdown",
      "metadata": {},
      "source": [
        "`-` 하이퍼파라메터"
      ],
      "id": "f2d2868d-f548-47a3-b846-2d340708db72"
    },
    {
      "cell_type": "code",
      "execution_count": 2,
      "metadata": {},
      "outputs": [],
      "source": [
        "T = 5 # time\n",
        "N = 3 # number of nodes "
      ],
      "id": "c0d0c8cb-9c65-4d8e-851e-9f92dd506904"
    },
    {
      "cell_type": "markdown",
      "metadata": {},
      "source": [
        "`-` wt,ws,f"
      ],
      "id": "6cbc7f83-348b-44ef-856a-50aa492008f9"
    },
    {
      "cell_type": "code",
      "execution_count": 3,
      "metadata": {},
      "outputs": [],
      "source": [
        "wt = np.array([abs(i-j) < 2 for i in range(T) for j in range(T)]).reshape(T,T)*1.0 - np.eye(T)\n",
        "wt"
      ],
      "id": "5778fe9e-3db3-4fa2-9e7a-9e8f3fba7ebd"
    },
    {
      "cell_type": "code",
      "execution_count": 4,
      "metadata": {},
      "outputs": [],
      "source": [
        "ws = np.array([[0,1,1],[1,0,0],[1,0,0]]) + np.eye(N)\n",
        "ws"
      ],
      "id": "0961c02b-76de-4817-a925-cc0fe69bd9c3"
    },
    {
      "cell_type": "code",
      "execution_count": 5,
      "metadata": {},
      "outputs": [],
      "source": [
        "f = np.random.randn(T,N)\n",
        "f"
      ],
      "id": "9ea9aff5-c3a4-4869-a86c-45509ace0540"
    },
    {
      "cell_type": "markdown",
      "metadata": {},
      "source": [
        "`-` f를 펼침"
      ],
      "id": "176218ac-366c-4b9e-8413-88f8321c7bfe"
    },
    {
      "cell_type": "code",
      "execution_count": 6,
      "metadata": {},
      "outputs": [],
      "source": [
        "f_flatten = f.reshape(-1,1)\n",
        "f_flatten"
      ],
      "id": "0df7c0f6-1646-4ef6-bd3f-0f0c17d7fbd7"
    },
    {
      "cell_type": "markdown",
      "metadata": {},
      "source": [
        "`-` 펼쳐진 f에 대응하는 W 생성"
      ],
      "id": "22c014b5-4868-4702-a53b-e8a9de88b6b5"
    },
    {
      "cell_type": "code",
      "execution_count": 7,
      "metadata": {},
      "outputs": [],
      "source": [
        "def flatten_weight(ws,wt):\n",
        "  N = len(ws)\n",
        "  T = len(wt)\n",
        "  Is = np.eye(N,N)\n",
        "  lst = [[0]*T for t in range(T)]\n",
        "  for i in range(T):\n",
        "    for j in range(T):\n",
        "      if i==j: \n",
        "        lst[i][j] = ws \n",
        "      elif abs(i-j)==1:\n",
        "        lst[i][j] = Is\n",
        "      else:\n",
        "        lst[i][j] = Is*0\n",
        "  return np.concatenate([np.concatenate(l,axis=1) for l in lst],axis=0)"
      ],
      "id": "6110dd75-e08e-4182-ba89-987d4f6d3538"
    },
    {
      "cell_type": "code",
      "execution_count": 8,
      "metadata": {},
      "outputs": [],
      "source": [
        "W_flatten = flatten_weight(ws,wt)\n",
        "W_flatten"
      ],
      "id": "babf0054-362c-4dad-93d7-ae783d7961d9"
    },
    {
      "cell_type": "markdown",
      "metadata": {},
      "source": [
        "`-` trim\n",
        "\n",
        "``` python\n",
        "ftrimed_flatten = trim(f_flatten,W_flatten)\n",
        "```\n",
        "\n",
        "임의로 `ftrimed_flatten`이 `f_flatten`과 같다고 생각하자."
      ],
      "id": "26c0c099-55d3-4a75-8513-f134c49a4992"
    },
    {
      "cell_type": "code",
      "execution_count": 9,
      "metadata": {},
      "outputs": [],
      "source": [
        "ftrimed_flatten = f_flatten\n",
        "ftrimed_flatten"
      ],
      "id": "89af5c16-e51a-439d-81d2-03f421a77d6f"
    },
    {
      "cell_type": "markdown",
      "metadata": {},
      "source": [
        "`-` ftrimed"
      ],
      "id": "a5f9026f-56bd-4d7e-a088-49ddea289354"
    },
    {
      "cell_type": "code",
      "execution_count": 10,
      "metadata": {},
      "outputs": [],
      "source": [
        "ftrimed = ftrimed_flatten.reshape(T,N) \n",
        "ftrimed"
      ],
      "id": "5cafc9e8-fd78-45eb-8c87-3dc123abca62"
    },
    {
      "cell_type": "code",
      "execution_count": 11,
      "metadata": {},
      "outputs": [],
      "source": [
        "f # 와 비교.. 잘 reconstructiond 되어씀 "
      ],
      "id": "0bfc8806-8d58-489e-8b45-ecc413c6bb08"
    },
    {
      "cell_type": "markdown",
      "metadata": {},
      "source": [
        "------------------------------------------------------------------------\n",
        "\n",
        "## Chickenpox"
      ],
      "id": "86e415f6-93b1-449d-b10e-57c2c000e8a8"
    },
    {
      "cell_type": "code",
      "execution_count": 12,
      "metadata": {},
      "outputs": [],
      "source": [
        "from torch_geometric_temporal.dataset import ChickenpoxDatasetLoader\n",
        "loader1 = ChickenpoxDatasetLoader()"
      ],
      "id": "f5fc9372-98c1-4d88-950f-8b12154f039d"
    },
    {
      "cell_type": "code",
      "execution_count": 13,
      "metadata": {},
      "outputs": [],
      "source": [
        "a = loader1.get_dataset(lags=1)"
      ],
      "id": "b42910ce-1547-4015-877b-cf3ca232be27"
    },
    {
      "cell_type": "markdown",
      "metadata": {},
      "source": [
        "time,number of nodes"
      ],
      "id": "e5d73e38-2ec9-40ec-ac1b-6193ba17c2dd"
    },
    {
      "cell_type": "code",
      "execution_count": 14,
      "metadata": {},
      "outputs": [],
      "source": [
        "T,N,_ = np.array(a.features).shape"
      ],
      "id": "30788865-5db9-4322-bfde-a1af8c9f23db"
    },
    {
      "cell_type": "markdown",
      "metadata": {},
      "source": [
        "`-` wt,ws,f"
      ],
      "id": "61e4e6e3-536a-4958-b97b-de46b2f2c1ad"
    },
    {
      "cell_type": "code",
      "execution_count": 15,
      "metadata": {},
      "outputs": [],
      "source": [
        "wt = np.zeros((T,T))\n",
        "for i in range(T):\n",
        "    for j in range(T):\n",
        "        if i==j :\n",
        "            wt[i,j] = 0\n",
        "        elif np.abs(i-j) <= 1 : \n",
        "            wt[i,j] = 1"
      ],
      "id": "ccd9dc07-4193-4775-93a7-c013a7327c22"
    },
    {
      "cell_type": "code",
      "execution_count": 16,
      "metadata": {},
      "outputs": [],
      "source": [
        "mtr = a.edge_index\n",
        "mtr2 = a.edge_weight"
      ],
      "id": "9426ab15-11b6-48be-8536-bcef8b32d5f5"
    },
    {
      "cell_type": "code",
      "execution_count": 17,
      "metadata": {},
      "outputs": [],
      "source": [
        "ws = np.zeros((N,N))\n",
        "for i in range(N):\n",
        "    for j in range(mtr2.shape[0]):\n",
        "        if mtr[0][j] == i :\n",
        "            ws[i,mtr[1][j]] = mtr2[j]"
      ],
      "id": "38de6267-179b-4a11-ba26-aacf4bee35f8"
    },
    {
      "cell_type": "code",
      "execution_count": 18,
      "metadata": {},
      "outputs": [],
      "source": [
        "np.array(ws).shape"
      ],
      "id": "48faa9c4-9826-4941-abeb-0f41581fe100"
    },
    {
      "cell_type": "code",
      "execution_count": 19,
      "metadata": {},
      "outputs": [],
      "source": [
        "f = np.array(a.features).reshape(T,N)"
      ],
      "id": "a9f5f271-b73c-4ad2-bb41-bccbf1916211"
    },
    {
      "cell_type": "markdown",
      "metadata": {},
      "source": [
        "`-` f를 펼침"
      ],
      "id": "23e23f7d-0ffc-4dfd-b87c-0e1bdbc5b369"
    },
    {
      "cell_type": "code",
      "execution_count": 20,
      "metadata": {},
      "outputs": [],
      "source": [
        "f_flatten = f.reshape(-1,1)\n",
        "f_flatten"
      ],
      "id": "f7ad32ad-8a39-474c-ace5-ba01f485de9d"
    },
    {
      "cell_type": "markdown",
      "metadata": {},
      "source": [
        "`-` 펼쳐진 f에 대응하는 W 생성"
      ],
      "id": "b4adcc49-63e7-406d-81be-0e8f8a3b146c"
    },
    {
      "cell_type": "code",
      "execution_count": 21,
      "metadata": {},
      "outputs": [],
      "source": [
        "def flatten_weight(ws,wt):\n",
        "  N = len(ws)\n",
        "  T = len(wt)\n",
        "  Is = np.eye(N,N)\n",
        "  lst = [[0]*T for t in range(T)]\n",
        "  for i in range(T):\n",
        "    for j in range(T):\n",
        "      if i==j: \n",
        "        lst[i][j] = ws \n",
        "      elif abs(i-j)==1:\n",
        "        lst[i][j] = Is\n",
        "      else:\n",
        "        lst[i][j] = Is*0\n",
        "  return np.concatenate([np.concatenate(l,axis=1) for l in lst],axis=0)"
      ],
      "id": "8579d6e8-d589-4f1f-9fcb-3f1546fd6900"
    },
    {
      "cell_type": "code",
      "execution_count": 22,
      "metadata": {},
      "outputs": [],
      "source": [
        "W_flatten = flatten_weight(ws,wt)\n",
        "W_flatten"
      ],
      "id": "f061989f-3d03-4c81-a88d-1dca7e4ffccf"
    },
    {
      "cell_type": "code",
      "execution_count": 50,
      "metadata": {},
      "outputs": [],
      "source": [
        "np.save('./weight_st/W_chickenpox.npy', W_flatten)"
      ],
      "id": "977d9623-55ea-48e8-9e78-4ea7537652a3"
    },
    {
      "cell_type": "code",
      "execution_count": 51,
      "metadata": {},
      "outputs": [],
      "source": [
        "np.load('./weight_st/W_chickenpox.npy')"
      ],
      "id": "4beac4b2-20a3-43ca-8b3c-d45cbc60ed1d"
    },
    {
      "cell_type": "code",
      "execution_count": 23,
      "metadata": {},
      "outputs": [],
      "source": [
        "d = np.array(W_flatten.sum(axis=1))"
      ],
      "id": "b89735ef-a0e9-4d8d-98f8-201282185767"
    },
    {
      "cell_type": "code",
      "execution_count": 24,
      "metadata": {},
      "outputs": [],
      "source": [
        "D = np.diag(d)"
      ],
      "id": "e25da826-2c22-47bb-ab19-1646d8b30031"
    },
    {
      "cell_type": "code",
      "execution_count": 25,
      "metadata": {},
      "outputs": [],
      "source": [
        "L = np.array(np.diag(1/np.sqrt(d)) @ (D-W_flatten) @ np.diag(1/np.sqrt(d)))"
      ],
      "id": "8a95a0a3-9378-447e-a80e-4f728587972b"
    },
    {
      "cell_type": "code",
      "execution_count": 26,
      "metadata": {},
      "outputs": [],
      "source": [
        "lamb, Psi = np.linalg.eigh(L)"
      ],
      "id": "3f665980-4eeb-40bf-bee2-3939632384ba"
    },
    {
      "cell_type": "code",
      "execution_count": 29,
      "metadata": {},
      "outputs": [],
      "source": [
        "np.save('./weight_st/Psi_chickenpox.npy', Psi)"
      ],
      "id": "c21365ff-423a-4bec-a1ba-9f659ab3e007"
    },
    {
      "cell_type": "code",
      "execution_count": 30,
      "metadata": {},
      "outputs": [],
      "source": [
        "np.load('./weight_st/Psi_chickenpox.npy')"
      ],
      "id": "d877d228-9344-4095-84b8-271ee1fbb906"
    },
    {
      "cell_type": "markdown",
      "metadata": {},
      "source": [
        "`-` trim\n",
        "\n",
        "``` python\n",
        "ftrimed_flatten = trim(f_flatten,W_flatten)\n",
        "```\n",
        "\n",
        "------------------------------------------------------------------------\n",
        "\n",
        "## Pedalme"
      ],
      "id": "b6ed5687-2ad6-43ca-b0a0-54b49aaaede4"
    },
    {
      "cell_type": "code",
      "execution_count": 55,
      "metadata": {},
      "outputs": [],
      "source": [
        "from torch_geometric_temporal.dataset import PedalMeDatasetLoader\n",
        "loader2 = PedalMeDatasetLoader()"
      ],
      "id": "8477cb80-bbd0-409a-9e30-595b8c8eba1d"
    },
    {
      "cell_type": "code",
      "execution_count": 56,
      "metadata": {},
      "outputs": [],
      "source": [
        "a = loader2.get_dataset(lags=1)"
      ],
      "id": "470f354d-287c-44cc-9ea0-ba99fe97cb85"
    },
    {
      "cell_type": "markdown",
      "metadata": {},
      "source": [
        "time,number of nodes"
      ],
      "id": "052fa3c8-69af-4329-a2be-b9d2baacb6ea"
    },
    {
      "cell_type": "code",
      "execution_count": 57,
      "metadata": {},
      "outputs": [],
      "source": [
        "T,N,_ = np.array(a.features).shape"
      ],
      "id": "626d8d95-0bba-451f-9cf7-afbfaab5c744"
    },
    {
      "cell_type": "markdown",
      "metadata": {},
      "source": [
        "`-` wt,ws,f"
      ],
      "id": "1dea3ca3-00a9-4d65-9931-216a2cdf903d"
    },
    {
      "cell_type": "code",
      "execution_count": 58,
      "metadata": {},
      "outputs": [],
      "source": [
        "wt = np.zeros((T,T))\n",
        "for i in range(T):\n",
        "    for j in range(T):\n",
        "        if i==j :\n",
        "            wt[i,j] = 0\n",
        "        elif np.abs(i-j) <= 1 : \n",
        "            wt[i,j] = 1"
      ],
      "id": "87f0e498-131f-4c43-9340-98a80aad4766"
    },
    {
      "cell_type": "code",
      "execution_count": 59,
      "metadata": {},
      "outputs": [],
      "source": [
        "mtr = a.edge_index\n",
        "mtr2 = a.edge_weight"
      ],
      "id": "fec6c144-3740-492d-9f07-881b555ad47a"
    },
    {
      "cell_type": "code",
      "execution_count": 60,
      "metadata": {},
      "outputs": [],
      "source": [
        "ws = np.zeros((N,N))\n",
        "for i in range(N):\n",
        "    for j in range(mtr2.shape[0]):\n",
        "        if mtr[0][j] == i :\n",
        "            ws[i,mtr[1][j]] = mtr2[j]"
      ],
      "id": "0e3b0881-463b-4a25-8d46-8f501531b2b2"
    },
    {
      "cell_type": "code",
      "execution_count": 61,
      "metadata": {},
      "outputs": [],
      "source": [
        "np.array(wt).shape"
      ],
      "id": "421c7a6b-d7fa-415f-a1d1-f5f519846665"
    },
    {
      "cell_type": "code",
      "execution_count": 62,
      "metadata": {},
      "outputs": [],
      "source": [
        "np.array(ws).shape"
      ],
      "id": "c19e4f53-eb66-4c32-baf1-8ca6eef37e3b"
    },
    {
      "cell_type": "code",
      "execution_count": 63,
      "metadata": {},
      "outputs": [],
      "source": [
        "34*15"
      ],
      "id": "a6e2dde7-4981-4f11-959c-a902ebaef948"
    },
    {
      "cell_type": "code",
      "execution_count": 64,
      "metadata": {},
      "outputs": [],
      "source": [
        "f = np.array(a.features).reshape(T,N)"
      ],
      "id": "ba28d5c4-460d-48b2-b46b-df8561da4862"
    },
    {
      "cell_type": "markdown",
      "metadata": {},
      "source": [
        "`-` f를 펼침"
      ],
      "id": "3cf36d3d-e1a0-467b-a0f7-9ec6d0bec99c"
    },
    {
      "cell_type": "code",
      "execution_count": 65,
      "metadata": {},
      "outputs": [],
      "source": [
        "f_flatten = f.reshape(-1,1)\n",
        "# f_flatten"
      ],
      "id": "0c1067f4-8c79-4287-82fe-a6a33aafe0fc"
    },
    {
      "cell_type": "markdown",
      "metadata": {},
      "source": [
        "`-` 펼쳐진 f에 대응하는 W 생성"
      ],
      "id": "c5d05aa2-54b1-4f3b-8fe5-24208c0b9873"
    },
    {
      "cell_type": "code",
      "execution_count": 66,
      "metadata": {},
      "outputs": [],
      "source": [
        "def flatten_weight(ws,wt):\n",
        "  N = len(ws)\n",
        "  T = len(wt)\n",
        "  Is = np.eye(N,N)\n",
        "  lst = [[0]*T for t in range(T)]\n",
        "  for i in range(T):\n",
        "    for j in range(T):\n",
        "      if i==j: \n",
        "        lst[i][j] = ws \n",
        "      elif abs(i-j)==1:\n",
        "        lst[i][j] = Is\n",
        "      else:\n",
        "        lst[i][j] = Is*0\n",
        "  return np.concatenate([np.concatenate(l,axis=1) for l in lst],axis=0)"
      ],
      "id": "e91bf9a4-f780-4dbf-aa5c-093737050a33"
    },
    {
      "cell_type": "code",
      "execution_count": 67,
      "metadata": {},
      "outputs": [],
      "source": [
        "W_flatten = flatten_weight(ws,wt)\n",
        "W_flatten"
      ],
      "id": "6f33ce04-f4f5-4ef4-93a0-38a17f9f71fa"
    },
    {
      "cell_type": "markdown",
      "metadata": {},
      "source": [
        "`-` trim\n",
        "\n",
        "``` python\n",
        "ftrimed_flatten = trim(f_flatten,W_flatten)\n",
        "```"
      ],
      "id": "2b863cd1-2678-4944-a4b6-c3d9ffaff4b0"
    },
    {
      "cell_type": "code",
      "execution_count": 68,
      "metadata": {},
      "outputs": [],
      "source": [
        "np.save('./weight_st/W_pedalme.npy', W_flatten)"
      ],
      "id": "53daad82-5236-4b17-b1ec-5cc09a298a88"
    },
    {
      "cell_type": "code",
      "execution_count": 54,
      "metadata": {},
      "outputs": [],
      "source": [
        "np.load('./weight_st/W_pedalme.npy')"
      ],
      "id": "98794720-0687-45a9-875a-240cda0b38bb"
    },
    {
      "cell_type": "code",
      "execution_count": 68,
      "metadata": {},
      "outputs": [],
      "source": [
        "d = np.array(W_flatten.sum(axis=1))"
      ],
      "id": "cbc51623-afb1-4840-a308-ecd5cecf369b"
    },
    {
      "cell_type": "code",
      "execution_count": 69,
      "metadata": {},
      "outputs": [],
      "source": [
        "D = np.diag(d)"
      ],
      "id": "749301d1-1fd5-4530-aa51-2c60cf136576"
    },
    {
      "cell_type": "code",
      "execution_count": 70,
      "metadata": {},
      "outputs": [],
      "source": [
        "L = np.array(np.diag(1/np.sqrt(d)) @ (D-W_flatten) @ np.diag(1/np.sqrt(d)))"
      ],
      "id": "6849f2d8-9c78-4626-a668-06681f7079b0"
    },
    {
      "cell_type": "code",
      "execution_count": 71,
      "metadata": {},
      "outputs": [],
      "source": [
        "lamb, Psi = np.linalg.eigh(L)"
      ],
      "id": "f3b471c7-f9a3-49bf-be68-7d68a30bfdcb"
    },
    {
      "cell_type": "code",
      "execution_count": 73,
      "metadata": {},
      "outputs": [],
      "source": [
        "Psi.T.shape"
      ],
      "id": "26d0fa7d-9a5f-418e-b390-df118ba15c7b"
    },
    {
      "cell_type": "code",
      "execution_count": 74,
      "metadata": {},
      "outputs": [],
      "source": [
        "Psi.shape"
      ],
      "id": "962e8d3e-3cf0-417b-bc78-7a35e03d3e35"
    },
    {
      "cell_type": "code",
      "execution_count": 47,
      "metadata": {},
      "outputs": [],
      "source": [
        "np.save('./weight_st/Psi_pedalme.npy', Psi)"
      ],
      "id": "795e7fda-4f3e-4974-a963-f86e1e0f1380"
    },
    {
      "cell_type": "code",
      "execution_count": 48,
      "metadata": {},
      "outputs": [],
      "source": [
        "np.load('./weight_st/Psi_pedalme.npy')"
      ],
      "id": "aae6f728-8f3c-4d58-b61d-38ad145a19e5"
    },
    {
      "cell_type": "markdown",
      "metadata": {},
      "source": [
        "------------------------------------------------------------------------\n",
        "\n",
        "## Wikimath"
      ],
      "id": "e7a36a06-85e8-4642-b7d2-989340929389"
    },
    {
      "cell_type": "code",
      "execution_count": 4,
      "metadata": {},
      "outputs": [],
      "source": [
        "from torch_geometric_temporal.dataset import WikiMathsDatasetLoader\n",
        "loader3 = WikiMathsDatasetLoader()"
      ],
      "id": "cf3f92dd-12c5-429a-b1d6-11d35cb22693"
    },
    {
      "cell_type": "code",
      "execution_count": 5,
      "metadata": {},
      "outputs": [],
      "source": [
        "a = loader3.get_dataset(lags=1)"
      ],
      "id": "3456dd04-7848-404b-964b-c293b0918109"
    },
    {
      "cell_type": "markdown",
      "metadata": {},
      "source": [
        "time,number of nodes"
      ],
      "id": "ea12429b-b275-42a0-a467-03bd36eb68f9"
    },
    {
      "cell_type": "code",
      "execution_count": 6,
      "metadata": {},
      "outputs": [],
      "source": [
        "T,N,_ = np.array(a.features).shape"
      ],
      "id": "82b04a14-218b-48f8-ab65-353f13b56698"
    },
    {
      "cell_type": "markdown",
      "metadata": {},
      "source": [
        "`-` wt,ws,f"
      ],
      "id": "f59155f6-73c3-450d-8c25-04224232c81c"
    },
    {
      "cell_type": "code",
      "execution_count": 7,
      "metadata": {},
      "outputs": [],
      "source": [
        "wt = np.zeros((T,T))\n",
        "for i in range(T):\n",
        "    for j in range(T):\n",
        "        if i==j :\n",
        "            wt[i,j] = 0\n",
        "        elif np.abs(i-j) <= 1 : \n",
        "            wt[i,j] = 1"
      ],
      "id": "71aca903-29ae-4c97-a126-68effbc1016e"
    },
    {
      "cell_type": "code",
      "execution_count": 8,
      "metadata": {},
      "outputs": [],
      "source": [
        "mtr = a.edge_index\n",
        "mtr2 = a.edge_weight"
      ],
      "id": "de97521d-8900-4473-b8bb-d4ca0be21220"
    },
    {
      "cell_type": "code",
      "execution_count": 9,
      "metadata": {},
      "outputs": [],
      "source": [
        "np.array(mtr).shape"
      ],
      "id": "99836ade-c708-4066-8dc1-29c4ba13bccc"
    },
    {
      "cell_type": "code",
      "execution_count": 10,
      "metadata": {},
      "outputs": [],
      "source": [
        "np.array(mtr2).shape"
      ],
      "id": "78670391-f22c-48c7-b183-e68b1f839243"
    },
    {
      "cell_type": "code",
      "execution_count": 12,
      "metadata": {},
      "outputs": [],
      "source": [
        "mtr"
      ],
      "id": "e5f52bb6-1d7a-4214-9dc8-3a546bcbdc26"
    },
    {
      "cell_type": "code",
      "execution_count": 40,
      "metadata": {},
      "outputs": [],
      "source": [
        "pd.DataFrame(mtr2).iloc[:,0].unique()"
      ],
      "id": "d032d9ab-ec01-4a3b-a0c8-f99fd4b06166"
    },
    {
      "cell_type": "code",
      "execution_count": 9,
      "metadata": {},
      "outputs": [],
      "source": [
        "ws = np.zeros((N,N))\n",
        "for i in range(N):\n",
        "    for j in range(mtr2.shape[0]):\n",
        "        if mtr[0][j] == i :\n",
        "            ws[i,mtr[1][j]] = mtr2[j]"
      ],
      "id": "d01d2ec8-94c4-4975-bcc7-6667c257a27c"
    },
    {
      "cell_type": "code",
      "execution_count": 10,
      "metadata": {},
      "outputs": [],
      "source": [
        "np.array(ws).shape"
      ],
      "id": "025456de-ff11-4aa2-9232-d9049899013e"
    },
    {
      "cell_type": "code",
      "execution_count": 11,
      "metadata": {},
      "outputs": [],
      "source": [
        "f = np.array(a.features).reshape(T,N)"
      ],
      "id": "f8e90ce1-b268-44e7-8046-b6a0688748b9"
    },
    {
      "cell_type": "markdown",
      "metadata": {},
      "source": [
        "`-` f를 펼침"
      ],
      "id": "715dd0f6-a31d-44c4-8f99-4356ba34c36a"
    },
    {
      "cell_type": "code",
      "execution_count": 12,
      "metadata": {},
      "outputs": [],
      "source": [
        "f_flatten = f.reshape(-1,1)\n",
        "# f_flatten"
      ],
      "id": "676d5b11-97f9-4d63-b1df-41a93b695876"
    },
    {
      "cell_type": "markdown",
      "metadata": {},
      "source": [
        "`-` 펼쳐진 f에 대응하는 W 생성"
      ],
      "id": "b1b5dd3e-2807-41d0-9838-86e99dae60b4"
    },
    {
      "cell_type": "code",
      "execution_count": 13,
      "metadata": {},
      "outputs": [],
      "source": [
        "N = len(ws)\n",
        "T = len(wt)\n",
        "Is = np.eye(N,N)\n",
        "lst = [[0]*T for t in range(T)]"
      ],
      "id": "b65f5f9a-cef8-439a-b897-1f6be423f2d3"
    },
    {
      "cell_type": "code",
      "execution_count": 13,
      "metadata": {},
      "outputs": [],
      "source": [
        "def flatten_weight(ws,wt):\n",
        "  N = len(ws)\n",
        "  T = len(wt)\n",
        "  Is = np.eye(N,N)\n",
        "  lst = [[0]*T for t in range(T)]\n",
        "  for i in range(T):\n",
        "    for j in range(T):\n",
        "      if i==j: \n",
        "        lst[i][j] = ws \n",
        "      elif abs(i-j)==1:\n",
        "        lst[i][j] = Is\n",
        "      else:\n",
        "        lst[i][j] = Is*0\n",
        "  return np.concatenate([np.concatenate(l,axis=1) for l in lst],axis=0)"
      ],
      "id": "c952c42a-5ffd-46cb-8da5-38101e18ad07"
    },
    {
      "cell_type": "code",
      "execution_count": null,
      "metadata": {},
      "outputs": [],
      "source": [
        "W_flatten = flatten_weight(ws,wt)\n",
        "W_flatten"
      ],
      "id": "3869eca5-3796-45ee-9106-b7533ff1416e"
    },
    {
      "cell_type": "markdown",
      "metadata": {},
      "source": [
        "`-` trim\n",
        "\n",
        "``` python\n",
        "ftrimed_flatten = trim(f_flatten,W_flatten)\n",
        "```"
      ],
      "id": "c6b753b6-4dae-441c-a9fd-37f00d1abcb6"
    },
    {
      "cell_type": "code",
      "execution_count": null,
      "metadata": {},
      "outputs": [],
      "source": [
        "np.save('./weight_st/W_wikimath.npy', W_flatten)"
      ],
      "id": "828e3d10-24bc-49e0-981a-cf7d4e3a706f"
    },
    {
      "cell_type": "code",
      "execution_count": null,
      "metadata": {},
      "outputs": [],
      "source": [
        "np.load('./weight_st/W_wikimath.npy')"
      ],
      "id": "30da969e-0e7a-49a9-afd9-16dbbc0f5edd"
    },
    {
      "cell_type": "markdown",
      "metadata": {},
      "source": [
        "------------------------------------------------------------------------\n",
        "\n",
        "## Windmillsmall"
      ],
      "id": "64ad8e48-03a6-4cad-b209-83f297861b07"
    },
    {
      "cell_type": "code",
      "execution_count": 12,
      "metadata": {},
      "outputs": [],
      "source": [
        "from torch_geometric_temporal.dataset import WindmillOutputSmallDatasetLoader\n",
        "loader6 = WindmillOutputSmallDatasetLoader()"
      ],
      "id": "5e07bca9-031b-4705-8463-bf09e723f6a8"
    },
    {
      "cell_type": "code",
      "execution_count": 13,
      "metadata": {},
      "outputs": [],
      "source": [
        "a = loader6.get_dataset(lags=1)"
      ],
      "id": "e33d4430-ef6c-462c-af94-9044f7e56263"
    },
    {
      "cell_type": "markdown",
      "metadata": {},
      "source": [
        "time,number of nodes"
      ],
      "id": "39809ed6-8f53-4321-821d-e27561601b2e"
    },
    {
      "cell_type": "code",
      "execution_count": 14,
      "metadata": {},
      "outputs": [],
      "source": [
        "T,N,_ = np.array(a.features).shape"
      ],
      "id": "e031e91c-f39f-437b-9cf3-f112a480c9d1"
    },
    {
      "cell_type": "markdown",
      "metadata": {},
      "source": [
        "`-` wt,ws,f"
      ],
      "id": "ecf06f74-ab47-40de-ade1-3db6365431ec"
    },
    {
      "cell_type": "code",
      "execution_count": 15,
      "metadata": {},
      "outputs": [],
      "source": [
        "wt = np.zeros((T,T))\n",
        "for i in range(T):\n",
        "    for j in range(T):\n",
        "        if i==j :\n",
        "            wt[i,j] = 0\n",
        "        elif np.abs(i-j) <= 1 : \n",
        "            wt[i,j] = 1"
      ],
      "id": "56875e8e-48ad-456a-b9cc-903bada6108c"
    },
    {
      "cell_type": "code",
      "execution_count": 16,
      "metadata": {},
      "outputs": [],
      "source": [
        "mtr = a.edge_index\n",
        "mtr2 = a.edge_weight"
      ],
      "id": "24783db3-77d4-4986-b153-1793ec373dcc"
    },
    {
      "cell_type": "code",
      "execution_count": 17,
      "metadata": {},
      "outputs": [],
      "source": [
        "ws = np.zeros((N,N))\n",
        "for i in range(N):\n",
        "    for j in range(mtr2.shape[0]):\n",
        "        if mtr[0][j] == i :\n",
        "            ws[i,mtr[1][j]] = mtr2[j]"
      ],
      "id": "b6ff8c98-2311-4b0a-8540-e036d8835f09"
    },
    {
      "cell_type": "code",
      "execution_count": 18,
      "metadata": {},
      "outputs": [],
      "source": [
        "np.array(ws).shape"
      ],
      "id": "4d4ff255-fd10-4663-9f34-d4f29818bf90"
    },
    {
      "cell_type": "code",
      "execution_count": 19,
      "metadata": {},
      "outputs": [],
      "source": [
        "f = np.array(a.features).reshape(T,N)"
      ],
      "id": "50d393b1-b7eb-4bb7-9b68-5cdce170fc55"
    },
    {
      "cell_type": "markdown",
      "metadata": {},
      "source": [
        "`-` f를 펼침"
      ],
      "id": "818a76f6-10db-429b-a048-e5106f6aac9f"
    },
    {
      "cell_type": "code",
      "execution_count": 20,
      "metadata": {},
      "outputs": [],
      "source": [
        "f_flatten = f.reshape(-1,1)\n",
        "# f_flatten"
      ],
      "id": "aac98111-983b-41bb-a6b5-48c0f7545af5"
    },
    {
      "cell_type": "markdown",
      "metadata": {},
      "source": [
        "`-` 펼쳐진 f에 대응하는 W 생성"
      ],
      "id": "eace6425-906a-4399-84de-0992b8391860"
    },
    {
      "cell_type": "code",
      "execution_count": 21,
      "metadata": {},
      "outputs": [],
      "source": [
        "def flatten_weight(ws,wt):\n",
        "  N = len(ws)\n",
        "  T = len(wt)\n",
        "  Is = np.eye(N,N)\n",
        "  lst = [[0]*T for t in range(T)]\n",
        "  for i in range(T):\n",
        "    for j in range(T):\n",
        "      if i==j: \n",
        "        lst[i][j] = ws \n",
        "      elif abs(i-j)==1:\n",
        "        lst[i][j] = Is\n",
        "      else:\n",
        "        lst[i][j] = Is*0\n",
        "  return np.concatenate([np.concatenate(l,axis=1) for l in lst],axis=0)"
      ],
      "id": "6ad22e7f-1aa7-4de3-8b87-79491479b7cb"
    },
    {
      "cell_type": "code",
      "execution_count": null,
      "metadata": {},
      "outputs": [],
      "source": [
        "W_flatten = flatten_weight(ws,wt)\n",
        "W_flatten"
      ],
      "id": "9efd2db0-05f5-4357-8fd5-60dfeaf1af78"
    },
    {
      "cell_type": "markdown",
      "metadata": {},
      "source": [
        "`-` trim\n",
        "\n",
        "``` python\n",
        "ftrimed_flatten = trim(f_flatten,W_flatten)\n",
        "```"
      ],
      "id": "a860edf1-7350-4ac9-b916-12b54ae8e6a4"
    },
    {
      "cell_type": "code",
      "execution_count": null,
      "metadata": {},
      "outputs": [],
      "source": [
        "np.save('./weight_st/W_windmillsmall.npy', W_flatten)"
      ],
      "id": "33183d6f-eea8-47c1-987a-ea2cf65dbb69"
    },
    {
      "cell_type": "code",
      "execution_count": null,
      "metadata": {},
      "outputs": [],
      "source": [
        "np.load('./weight_st/W_windmillsmall.npy')"
      ],
      "id": "95207a23-7615-4b20-8a5d-f22246b2bffe"
    }
  ],
  "nbformat": 4,
  "nbformat_minor": 5,
  "metadata": {
    "kernelspec": {
      "name": "python3",
      "display_name": "Python 3",
      "language": "python"
    },
    "language_info": {
      "name": "python",
      "codemirror_mode": {
        "name": "ipython",
        "version": "3"
      },
      "file_extension": ".py",
      "mimetype": "text/x-python",
      "nbconvert_exporter": "python",
      "pygments_lexer": "ipython3",
      "version": "3.8.0"
    }
  }
}
{
 "cells": [
  {
   "cell_type": "raw",
   "id": "1f53f708-cc1a-4d31-8140-d5c4701b5709",
   "metadata": {
    "id": "cac470df-29e7-4148-9bbd-d8b9a32fa570",
    "tags": []
   },
   "source": [
    "---\n",
    "title: \"GCN Algorithm\"\n",
    "author: \"SEOYEON CHOI\"\n",
    "date: \"2023-01-11\"\n",
    "categories:\n",
    "  - ST-GCN\n",
    "  - GNAR\n",
    "---"
   ]
  },
  {
   "cell_type": "markdown",
   "id": "cc58d648-4a47-48e6-81fd-aa1ec2c5169d",
   "metadata": {},
   "source": [
    "> Our method"
   ]
  },
  {
   "cell_type": "markdown",
   "id": "bd56212c-4f5e-4bad-9005-36b03947797d",
   "metadata": {},
   "source": [
    "# import"
   ]
  },
  {
   "cell_type": "code",
   "execution_count": 1,
   "id": "7eed5cac-27aa-42f2-a2bf-f5346d8e82ca",
   "metadata": {},
   "outputs": [],
   "source": [
    "import rpy2\n",
    "import rpy2.robjects as ro \n",
    "from rpy2.robjects.vectors import FloatVector \n",
    "from rpy2.robjects.packages import importr\n",
    "\n",
    "import torch\n",
    "import numpy as np\n",
    "from tqdm import tqdm\n",
    "\n",
    "import torch.nn.functional as F\n",
    "from torch_geometric_temporal.nn.recurrent import GConvGRU\n",
    "\n",
    "import matplotlib.pyplot as plt"
   ]
  },
  {
   "cell_type": "code",
   "execution_count": 2,
   "id": "2f0e266e-f036-4449-95ce-f67694988030",
   "metadata": {},
   "outputs": [],
   "source": [
    "class RecurrentGCN(torch.nn.Module):\n",
    "    def __init__(self, node_features, filters):\n",
    "        super(RecurrentGCN, self).__init__()\n",
    "        self.recurrent = GConvGRU(node_features, filters, 2)\n",
    "        self.linear = torch.nn.Linear(filters, 1)\n",
    "\n",
    "    def forward(self, x, edge_index, edge_weight):\n",
    "        h = self.recurrent(x, edge_index, edge_weight)\n",
    "        h = F.relu(h)\n",
    "        h = self.linear(h)\n",
    "        return h"
   ]
  },
  {
   "cell_type": "markdown",
   "id": "ec88362e-2f38-4288-b358-232a5108cda5",
   "metadata": {},
   "source": [
    "# R"
   ]
  },
  {
   "cell_type": "code",
   "execution_count": 3,
   "id": "956cb163-e10a-4864-aa7a-02457ec8fb4f",
   "metadata": {},
   "outputs": [],
   "source": [
    "%load_ext rpy2.ipython"
   ]
  },
  {
   "cell_type": "code",
   "execution_count": 5,
   "id": "d4de9446-0e52-4c24-9956-de76e0ca04bd",
   "metadata": {},
   "outputs": [],
   "source": [
    "%%R\n",
    "library(GNAR)\n",
    "library(igraph)"
   ]
  },
  {
   "cell_type": "markdown",
   "id": "939cb972-ac4c-4d63-a105-72af475ef3fd",
   "metadata": {
    "tags": []
   },
   "source": [
    "## EbayesThresh"
   ]
  },
  {
   "cell_type": "code",
   "execution_count": 155,
   "id": "e1e3756a-a00d-425b-8b9b-495217caa44f",
   "metadata": {},
   "outputs": [],
   "source": [
    "%%R\n",
    "library(EbayesThresh)\n",
    "set.seed(1)\n",
    "epsilon = rnorm(1000)\n",
    "signal = sample(c(runif(25,-2,-1.5), runif(25,1.5,2), rep(0,950)))\n",
    "index_of_trueoutlier = which(signal!=0)\n",
    "x_ebayes=signal+epsilon"
   ]
  },
  {
   "cell_type": "code",
   "execution_count": 156,
   "id": "d74c90f2-db31-49bf-a22e-ff91f6cb1bc4",
   "metadata": {},
   "outputs": [],
   "source": [
    "%R -o x_ebayes\n",
    "%R -o index_of_trueoutlier\n",
    "%R -o signal"
   ]
  },
  {
   "cell_type": "code",
   "execution_count": 157,
   "id": "e946bc10-0200-42b4-b01f-1e9c36e4870c",
   "metadata": {},
   "outputs": [],
   "source": [
    "ebayesthresh = importr('EbayesThresh').ebayesthresh"
   ]
  },
  {
   "cell_type": "code",
   "execution_count": 158,
   "id": "9f4501b1-585c-44fb-9093-b14eae0dfcd6",
   "metadata": {},
   "outputs": [],
   "source": [
    "outlier_true_index = index_of_trueoutlier"
   ]
  },
  {
   "cell_type": "code",
   "execution_count": 159,
   "id": "437a78f6-9635-40e0-be58-0c15880ce4d5",
   "metadata": {},
   "outputs": [],
   "source": [
    "outlier_true_value = x_ebayes[index_of_trueoutlier]"
   ]
  },
  {
   "cell_type": "code",
   "execution_count": 160,
   "id": "71441f71-cf87-458e-a1f1-b3c8fa59bde4",
   "metadata": {},
   "outputs": [],
   "source": [
    "outlier_true_one = signal.copy()"
   ]
  },
  {
   "cell_type": "code",
   "execution_count": 161,
   "id": "b395b9c5-2c34-4119-9a67-c9f7fdaa5e68",
   "metadata": {},
   "outputs": [],
   "source": [
    "outlier_true_one = list(map(lambda x: -1 if x!=0 else 1,outlier_true_one))"
   ]
  },
  {
   "cell_type": "markdown",
   "id": "4a45429b-12fe-4502-b81a-90a69e9481f6",
   "metadata": {},
   "source": [
    "# 데이터 가정"
   ]
  },
  {
   "cell_type": "markdown",
   "id": "15280aed-5329-45f1-a3d7-da6b495edc39",
   "metadata": {},
   "source": [
    "데이터가정: missing (결측값) 이 있는 자료를 가정 \n",
    "\n",
    "- missing이 있는상태: ST-GCN 을 사용할 수 X $\\to$ **코드에 에러는 나지 않지만 yhat이 산출되지 않았습니다.**\n",
    "- missing이 없어야만: ST-GCN 을 사용할 수 O "
   ]
  },
  {
   "cell_type": "markdown",
   "id": "6dafc189-cf4f-4a7d-999f-a4afc9f016f4",
   "metadata": {},
   "source": [
    "**증명**"
   ]
  },
  {
   "cell_type": "code",
   "execution_count": 6,
   "id": "bf673cc6-4495-4406-9bd3-f6d840dcd7bd",
   "metadata": {},
   "outputs": [
    {
     "name": "stdout",
     "output_type": "stream",
     "text": [
      "GNARnet with 5 nodes and 10 edges\n",
      " of equal length  1"
     ]
    }
   ],
   "source": [
    "%%R\n",
    "summary(fiveNet)"
   ]
  },
  {
   "cell_type": "code",
   "execution_count": 7,
   "id": "60aa1796-74c6-49d8-a481-20b06eb3927f",
   "metadata": {},
   "outputs": [],
   "source": [
    "%%R\n",
    "edges <- as.matrix(fiveNet)\n",
    "data(\"fiveNode\")"
   ]
  },
  {
   "cell_type": "code",
   "execution_count": 8,
   "id": "4e72b915-a5b1-4f4c-a677-5635fc5578dc",
   "metadata": {},
   "outputs": [],
   "source": [
    "%R -o fiveVTS\n",
    "%R -o edges"
   ]
  },
  {
   "cell_type": "markdown",
   "id": "3d7dddb8-8a4e-4e1c-b523-5256b599167d",
   "metadata": {},
   "source": [
    "- node: 5\n",
    "- time 200"
   ]
  },
  {
   "cell_type": "code",
   "execution_count": 9,
   "id": "7b021b83-7f82-48bc-b47c-02545d081ba2",
   "metadata": {},
   "outputs": [],
   "source": [
    "edges_tensor = torch.tensor(edges)"
   ]
  },
  {
   "cell_type": "code",
   "execution_count": 10,
   "id": "81119219-36bb-4703-aec3-15728936ba3c",
   "metadata": {},
   "outputs": [],
   "source": [
    "nonzero_indices = edges_tensor.nonzero()"
   ]
  },
  {
   "cell_type": "code",
   "execution_count": 11,
   "id": "4adbc9b7-4df3-4a49-a652-d4cdc4527bc3",
   "metadata": {},
   "outputs": [],
   "source": [
    "fiveNet_edge = np.array(nonzero_indices).T"
   ]
  },
  {
   "cell_type": "markdown",
   "id": "59eb091d-217d-45bd-b2a0-7c32ec64d08a",
   "metadata": {},
   "source": [
    "**데이터 일부 missing 처리**"
   ]
  },
  {
   "cell_type": "code",
   "execution_count": 12,
   "id": "08799dd2-162e-4311-abb2-6de8464b87c8",
   "metadata": {},
   "outputs": [],
   "source": [
    "%%R\n",
    "fiveVTS0 <- fiveVTS\n",
    "fiveVTS0[50:150, 3] <- NA"
   ]
  },
  {
   "cell_type": "code",
   "execution_count": 15,
   "id": "2a8cc15c-c2d0-43b2-b4fc-343eff8d47f6",
   "metadata": {},
   "outputs": [],
   "source": [
    "%R -o fiveVTS0"
   ]
  },
  {
   "cell_type": "code",
   "execution_count": 16,
   "id": "75368062-1937-435e-b005-ea5c3e5e5cee",
   "metadata": {},
   "outputs": [
    {
     "data": {
      "text/plain": [
       "[<matplotlib.lines.Line2D at 0x7f6415c7d130>]"
      ]
     },
     "execution_count": 16,
     "metadata": {},
     "output_type": "execute_result"
    },
    {
     "data": {
      "image/png": "[encoded data removed]",
      "text/plain": [
       "<Figure size 432x288 with 1 Axes>"
      ]
     },
     "metadata": {
      "needs_background": "light"
     },
     "output_type": "display_data"
    }
   ],
   "source": [
    "plt.plot(fiveVTS0[:,2])"
   ]
  },
  {
   "cell_type": "code",
   "execution_count": 17,
   "id": "29bc6ed4-5bf9-4ae4-b6f6-6eac7c66cce1",
   "metadata": {},
   "outputs": [
    {
     "data": {
      "text/plain": [
       "(200, 5)"
      ]
     },
     "execution_count": 17,
     "metadata": {},
     "output_type": "execute_result"
    }
   ],
   "source": [
    "fiveVTS0.shape"
   ]
  },
  {
   "cell_type": "code",
   "execution_count": 18,
   "id": "322fac88-4efa-4dd8-80b4-c2311517de07",
   "metadata": {},
   "outputs": [],
   "source": [
    "T = 200\n",
    "N = 5 # number of Nodes\n",
    "E = fiveNet_edge\n",
    "V = np.array([1,2,3,4,5])\n",
    "t = np.arange(0,T)\n",
    "node_features = 1"
   ]
  },
  {
   "cell_type": "code",
   "execution_count": 19,
   "id": "eef32cc2-cd99-43a8-8ba2-afcface0903f",
   "metadata": {},
   "outputs": [],
   "source": [
    "f = torch.tensor(fiveVTS0).reshape(200,5,1).float()"
   ]
  },
  {
   "cell_type": "code",
   "execution_count": 20,
   "id": "1126e385-76b1-4c46-8eb8-73b96c554480",
   "metadata": {},
   "outputs": [],
   "source": [
    "X = f[:199,:,:]\n",
    "y = f[1:,:,:]"
   ]
  },
  {
   "cell_type": "code",
   "execution_count": 21,
   "id": "fdb73885-3f12-44f6-b17b-2b72fed88f09",
   "metadata": {},
   "outputs": [],
   "source": [
    "edge_index = torch.tensor(E)\n",
    "edge_attr = torch.tensor(np.array([1,1,1,1,1,1,1,1,1,1]),dtype=torch.float32)"
   ]
  },
  {
   "cell_type": "code",
   "execution_count": 22,
   "id": "626f3ee7-8e05-4a53-9bed-e9c47803e1b5",
   "metadata": {},
   "outputs": [],
   "source": [
    "_ee = enumerate(zip(X,y))"
   ]
  },
  {
   "cell_type": "code",
   "execution_count": 23,
   "id": "6adfec32-de84-4b49-8302-9f80d664f1a6",
   "metadata": {},
   "outputs": [
    {
     "name": "stderr",
     "output_type": "stream",
     "text": [
      "100%|██████████| 50/50 [00:33<00:00,  1.50it/s]\n"
     ]
    }
   ],
   "source": [
    "model = RecurrentGCN(node_features=1, filters=4)\n",
    "\n",
    "optimizer = torch.optim.Adam(model.parameters(), lr=0.01)\n",
    "\n",
    "model.train()\n",
    "\n",
    "for epoch in tqdm(range(50)):\n",
    "    for time, (xt,yt) in enumerate(zip(X,y)):\n",
    "        y_hat = model(xt, edge_index, edge_attr)\n",
    "        cost = torch.mean((y_hat-yt)**2)\n",
    "        cost.backward()\n",
    "        optimizer.step()\n",
    "        optimizer.zero_grad()"
   ]
  },
  {
   "cell_type": "code",
   "execution_count": 24,
   "id": "11560d09-9f84-4879-a2f5-6ef474919ae4",
   "metadata": {},
   "outputs": [],
   "source": [
    "yhat = torch.stack([model(xt, edge_index, edge_attr) for xt in X]).detach().numpy()"
   ]
  },
  {
   "cell_type": "code",
   "execution_count": 25,
   "id": "474c4920-43ce-428e-b71f-17c4ffd160f8",
   "metadata": {},
   "outputs": [
    {
     "data": {
      "text/plain": [
       "(199, 5, 1)"
      ]
     },
     "execution_count": 25,
     "metadata": {},
     "output_type": "execute_result"
    }
   ],
   "source": [
    "yhat.shape"
   ]
  },
  {
   "cell_type": "markdown",
   "id": "10f3e1e2-13c7-4da1-93ea-fbad90c789ff",
   "metadata": {},
   "source": [
    "Result"
   ]
  },
  {
   "cell_type": "code",
   "execution_count": 26,
   "id": "6cd02af4-25db-469c-8190-7706e9ce9712",
   "metadata": {},
   "outputs": [
    {
     "data": {
      "text/plain": [
       "[<matplotlib.lines.Line2D at 0x7f640c750040>]"
      ]
     },
     "execution_count": 26,
     "metadata": {},
     "output_type": "execute_result"
    },
    {
     "data": {
      "image/png": "[encoded data removed]",
      "text/plain": [
       "<Figure size 432x288 with 1 Axes>"
      ]
     },
     "metadata": {
      "needs_background": "light"
     },
     "output_type": "display_data"
    }
   ],
   "source": [
    "plt.plot(yhat[:,2].data)"
   ]
  },
  {
   "cell_type": "markdown",
   "id": "f8fa15d8-a1b7-48ae-a4d9-222e257fe195",
   "metadata": {},
   "source": [
    "# 1. missing을 채움. (mean, linear interpolation) "
   ]
  },
  {
   "cell_type": "markdown",
   "id": "86af40b1-5daf-485f-9cb9-d68315e0d8cf",
   "metadata": {},
   "source": [
    "## 1.1. Mean"
   ]
  },
  {
   "cell_type": "code",
   "execution_count": 132,
   "id": "45e6f44b-926b-4433-acb8-73392523b39b",
   "metadata": {},
   "outputs": [],
   "source": [
    "fiveVTS0_mean = fiveVTS0.copy()"
   ]
  },
  {
   "cell_type": "code",
   "execution_count": 133,
   "id": "c0b904cc-19fe-48b4-b69f-c99665b11591",
   "metadata": {},
   "outputs": [],
   "source": [
    "fiveVTS0_mean[49:150,2] = np.mean(fiveVTS0[:49,2].tolist()+fiveVTS0[150:,2].tolist())"
   ]
  },
  {
   "cell_type": "code",
   "execution_count": 134,
   "id": "2965ff08-3dd2-4b37-9cff-3fbd7a74cc64",
   "metadata": {},
   "outputs": [
    {
     "data": {
      "text/plain": [
       "[<matplotlib.lines.Line2D at 0x7f63f07b3dc0>]"
      ]
     },
     "execution_count": 134,
     "metadata": {},
     "output_type": "execute_result"
    },
    {
     "data": {
      "image/png": "[encoded data removed]",
      "text/plain": [
       "<Figure size 432x288 with 1 Axes>"
      ]
     },
     "metadata": {
      "needs_background": "light"
     },
     "output_type": "display_data"
    }
   ],
   "source": [
    "plt.plot(fiveVTS0_mean[:,2])"
   ]
  },
  {
   "cell_type": "markdown",
   "id": "9053da55-7f89-4418-9a78-69b918041f7b",
   "metadata": {},
   "source": [
    "## 1.2. linear interpolation"
   ]
  },
  {
   "cell_type": "code",
   "execution_count": 144,
   "id": "cace331f-9967-45f1-8e97-e4ad43e5d266",
   "metadata": {},
   "outputs": [
    {
     "name": "stdout",
     "output_type": "stream",
     "text": [
      "tensor([[-1.3480, -1.3206, -1.2931, -1.2657, -1.2382, -1.2108, -1.1833, -1.1558,\n",
      "         -1.1284, -1.1009, -1.0735, -1.0460, -1.0186, -0.9911, -0.9636, -0.9362,\n",
      "         -0.9087, -0.8813, -0.8538, -0.8264, -0.7989, -0.7714, -0.7440, -0.7165,\n",
      "         -0.6891, -0.6616, -0.6342, -0.6067, -0.5792, -0.5518, -0.5243, -0.4969,\n",
      "         -0.4694, -0.4420, -0.4145, -0.3871, -0.3596, -0.3321, -0.3047, -0.2772,\n",
      "         -0.2498, -0.2223, -0.1949, -0.1674, -0.1399, -0.1125, -0.0850, -0.0576,\n",
      "         -0.0301, -0.0027,  0.0248,  0.0523,  0.0797,  0.1072,  0.1346,  0.1621,\n",
      "          0.1895,  0.2170,  0.2445,  0.2719,  0.2994,  0.3268,  0.3543,  0.3817,\n",
      "          0.4092,  0.4367,  0.4641,  0.4916,  0.5190,  0.5465,  0.5739,  0.6014,\n",
      "          0.6289,  0.6563,  0.6838,  0.7112,  0.7387,  0.7661,  0.7936,  0.8211,\n",
      "          0.8485,  0.8760,  0.9034,  0.9309,  0.9583,  0.9858,  1.0133,  1.0407,\n",
      "          1.0682,  1.0956,  1.1231,  1.1505,  1.1780,  1.2055,  1.2329,  1.2604,\n",
      "          1.2878,  1.3153,  1.3427,  1.3702,  1.3977]])\n"
     ]
    },
    {
     "data": {
      "text/plain": [
       "torch.Size([1, 101])"
      ]
     },
     "execution_count": 144,
     "metadata": {},
     "output_type": "execute_result"
    }
   ],
   "source": [
    "# Define the two data points\n",
    "x0, y0 = torch.tensor([48.0]), torch.tensor(fiveVTS0[48,2])\n",
    "x1, y1 = torch.tensor([150.0]), torch.tensor(fiveVTS0[150,2])\n",
    "\n",
    "# Define the target x value\n",
    "x = torch.tensor([range(49,150)])\n",
    "\n",
    "# Find the slope of the line between the two data points\n",
    "m = (y1 - y0) / (x1 - x0)\n",
    "\n",
    "# Use the slope and the coordinates of one of the data points to find the y-intercept\n",
    "b = y0 - m * x0\n",
    "\n",
    "# Use the slope and y-intercept to calculate the target y value\n",
    "y = m * x + b\n",
    "print(y)\n",
    "y.shape"
   ]
  },
  {
   "cell_type": "code",
   "execution_count": 145,
   "id": "118d23c4-06f5-4a69-88ce-a1acbbf71bb1",
   "metadata": {},
   "outputs": [],
   "source": [
    "fiveVTS0_linearinterpolation = fiveVTS0.copy()"
   ]
  },
  {
   "cell_type": "code",
   "execution_count": 146,
   "id": "dd2d5b20-b543-4a84-87f9-d43762896297",
   "metadata": {},
   "outputs": [],
   "source": [
    "fiveVTS0_linearinterpolation[49:150,2] = y"
   ]
  },
  {
   "cell_type": "code",
   "execution_count": 147,
   "id": "4c45dadc-de23-42b1-b8a6-743f3218ea31",
   "metadata": {},
   "outputs": [
    {
     "data": {
      "text/plain": [
       "[<matplotlib.lines.Line2D at 0x7f640c54f340>]"
      ]
     },
     "execution_count": 147,
     "metadata": {},
     "output_type": "execute_result"
    },
    {
     "data": {
      "image/png": "[encoded data removed]",
      "text/plain": [
       "<Figure size 432x288 with 1 Axes>"
      ]
     },
     "metadata": {
      "needs_background": "light"
     },
     "output_type": "display_data"
    }
   ],
   "source": [
    "plt.plot(fiveVTS0_linearinterpolation[:,2])"
   ]
  },
  {
   "cell_type": "markdown",
   "id": "e8c9536a-9953-4d86-8377-f757d04c195a",
   "metadata": {
    "tags": []
   },
   "source": [
    "# 2. ST-GCN 을 사용하여 fhat을 구함. (스무딩1) "
   ]
  },
  {
   "cell_type": "code",
   "execution_count": 135,
   "id": "5cd7efb0-7dee-45c0-af1b-74db7c7a3e60",
   "metadata": {},
   "outputs": [],
   "source": [
    "T = 200\n",
    "N = 5 # number of Nodes\n",
    "E = fiveNet_edge\n",
    "V = np.array([1,2,3,4,5])\n",
    "t = np.arange(0,T)\n",
    "node_features = 1"
   ]
  },
  {
   "cell_type": "code",
   "execution_count": 136,
   "id": "6852bdcf-de92-43d2-90db-26d2454a22f0",
   "metadata": {},
   "outputs": [],
   "source": [
    "edge_index = torch.tensor(E)\n",
    "edge_attr = torch.tensor(np.array([1,1,1,1,1,1,1,1,1,1]),dtype=torch.float32)"
   ]
  },
  {
   "cell_type": "markdown",
   "id": "18bbb5d5-35ef-41c1-8e14-4370b5f30730",
   "metadata": {},
   "source": [
    "## 2.1. Mean"
   ]
  },
  {
   "cell_type": "code",
   "execution_count": 137,
   "id": "adac417b-4316-457e-b06e-7ad639e00aa9",
   "metadata": {},
   "outputs": [],
   "source": [
    "f_mean = torch.tensor(fiveVTS0_mean).reshape(200,5,1).float()"
   ]
  },
  {
   "cell_type": "code",
   "execution_count": 138,
   "id": "47fe455f-4994-432d-81cf-61b71e4ebc78",
   "metadata": {},
   "outputs": [],
   "source": [
    "X_mean = f_mean[:199,:,:]\n",
    "y_mean = f_mean[1:,:,:]"
   ]
  },
  {
   "cell_type": "code",
   "execution_count": 139,
   "id": "d2972563-b290-46a4-abb6-609778db1595",
   "metadata": {},
   "outputs": [
    {
     "name": "stderr",
     "output_type": "stream",
     "text": [
      "100%|██████████| 50/50 [00:33<00:00,  1.49it/s]\n"
     ]
    }
   ],
   "source": [
    "model = RecurrentGCN(node_features=1, filters=4)\n",
    "\n",
    "optimizer = torch.optim.Adam(model.parameters(), lr=0.01)\n",
    "\n",
    "model.train()\n",
    "\n",
    "for epoch in tqdm(range(50)):\n",
    "    for time, (xt,yt) in enumerate(zip(X_mean,y_mean)):\n",
    "        y_hat = model(xt, edge_index, edge_attr)\n",
    "        cost = torch.mean((y_hat-yt)**2)\n",
    "        cost.backward()\n",
    "        optimizer.step()\n",
    "        optimizer.zero_grad()"
   ]
  },
  {
   "cell_type": "code",
   "execution_count": 140,
   "id": "b45434e8-bd5c-4b3f-a727-9d5bb6a4dae9",
   "metadata": {},
   "outputs": [],
   "source": [
    "fhat_mean = torch.stack([model(xt, edge_index, edge_attr) for xt in X_mean]).detach().numpy()"
   ]
  },
  {
   "cell_type": "code",
   "execution_count": 141,
   "id": "23a7d36d-b4ac-47d5-973d-a5d34d3eca11",
   "metadata": {},
   "outputs": [
    {
     "data": {
      "text/plain": [
       "(199, 5, 1)"
      ]
     },
     "execution_count": 141,
     "metadata": {},
     "output_type": "execute_result"
    }
   ],
   "source": [
    "fhat_mean.shape"
   ]
  },
  {
   "cell_type": "markdown",
   "id": "3b82b25a-ee4b-41dc-b5da-e91473bd32d5",
   "metadata": {},
   "source": [
    "Result"
   ]
  },
  {
   "cell_type": "code",
   "execution_count": 142,
   "id": "52915bbe-0243-43b7-9aeb-b2af2874a840",
   "metadata": {},
   "outputs": [
    {
     "data": {
      "text/plain": [
       "[<matplotlib.lines.Line2D at 0x7f63f07aa970>]"
      ]
     },
     "execution_count": 142,
     "metadata": {},
     "output_type": "execute_result"
    },
    {
     "data": {
      "image/png": "[encoded data removed]",
      "text/plain": [
       "<Figure size 432x288 with 1 Axes>"
      ]
     },
     "metadata": {
      "needs_background": "light"
     },
     "output_type": "display_data"
    }
   ],
   "source": [
    "plt.plot(fhat_mean[:,2].data)"
   ]
  },
  {
   "cell_type": "markdown",
   "id": "2adf36bc-2a9e-4018-95ba-449b4607796e",
   "metadata": {},
   "source": [
    "## 2.2. linear interpolation"
   ]
  },
  {
   "cell_type": "code",
   "execution_count": 148,
   "id": "3ca7a2f9-47bf-46b2-b21f-a2c6edfff353",
   "metadata": {},
   "outputs": [],
   "source": [
    "f_linearinterpolation = torch.tensor(fiveVTS0_linearinterpolation).reshape(200,5,1).float()"
   ]
  },
  {
   "cell_type": "code",
   "execution_count": 149,
   "id": "10abc96a-2d4e-4d8c-8603-6b78bb287477",
   "metadata": {},
   "outputs": [],
   "source": [
    "X_linearinterpolation = f_mean[:199,:,:]\n",
    "y_linearinterpolation = f_mean[1:,:,:]"
   ]
  },
  {
   "cell_type": "code",
   "execution_count": 150,
   "id": "5900aa64-8c6f-4cb9-ab2d-da4d51b2485a",
   "metadata": {},
   "outputs": [
    {
     "name": "stderr",
     "output_type": "stream",
     "text": [
      "100%|██████████| 50/50 [00:33<00:00,  1.48it/s]\n"
     ]
    }
   ],
   "source": [
    "model = RecurrentGCN(node_features=1, filters=4)\n",
    "\n",
    "optimizer = torch.optim.Adam(model.parameters(), lr=0.01)\n",
    "\n",
    "model.train()\n",
    "\n",
    "for epoch in tqdm(range(50)):\n",
    "    for time, (xt,yt) in enumerate(zip(X_linearinterpolation,y_linearinterpolation)):\n",
    "        y_hat = model(xt, edge_index, edge_attr)\n",
    "        cost = torch.mean((y_hat-yt)**2)\n",
    "        cost.backward()\n",
    "        optimizer.step()\n",
    "        optimizer.zero_grad()"
   ]
  },
  {
   "cell_type": "code",
   "execution_count": 151,
   "id": "ba6c23d7-b8fa-455b-ab60-2ec6089f6cc6",
   "metadata": {},
   "outputs": [],
   "source": [
    "fhat_linearinterpolation = torch.stack([model(xt, edge_index, edge_attr) for xt in X_linearinterpolation]).detach().numpy()"
   ]
  },
  {
   "cell_type": "code",
   "execution_count": 152,
   "id": "d89d0031-6578-40b6-8018-819d81c7867e",
   "metadata": {},
   "outputs": [
    {
     "data": {
      "text/plain": [
       "(199, 5, 1)"
      ]
     },
     "execution_count": 152,
     "metadata": {},
     "output_type": "execute_result"
    }
   ],
   "source": [
    "fhat_linearinterpolation.shape"
   ]
  },
  {
   "cell_type": "markdown",
   "id": "b0633011-02ba-42bd-b57d-ca927982fad9",
   "metadata": {},
   "source": [
    "Result"
   ]
  },
  {
   "cell_type": "code",
   "execution_count": 153,
   "id": "f2d0e1d7-7688-458b-bc04-85327ddc4b21",
   "metadata": {},
   "outputs": [
    {
     "data": {
      "text/plain": [
       "[<matplotlib.lines.Line2D at 0x7f63f0732520>]"
      ]
     },
     "execution_count": 153,
     "metadata": {},
     "output_type": "execute_result"
    },
    {
     "data": {
      "image/png": "[encoded data removed]",
      "text/plain": [
       "<Figure size 432x288 with 1 Axes>"
      ]
     },
     "metadata": {
      "needs_background": "light"
     },
     "output_type": "display_data"
    }
   ],
   "source": [
    "plt.plot(fhat_linearinterpolation[:,2].data)"
   ]
  },
  {
   "cell_type": "markdown",
   "id": "3d007949-a531-4888-ba17-c9a44dd4290c",
   "metadata": {},
   "source": [
    "# 3. 2에서 얻은 fhat을 이용하여 그래프퓨리에변환+Ebayesthresh (스무딩2)  "
   ]
  },
  {
   "cell_type": "markdown",
   "id": "f8281ebb-5a06-4fb1-8b59-9b5b16f74eb5",
   "metadata": {},
   "source": [
    "- 그래프퓨리에변환을 하는 가중치\n",
    "- 년도끼리 이어주어서 하나의 큰 그래프로 만든뒤에 GFT \n",
    "- Ebayesthresh "
   ]
  },
  {
   "cell_type": "markdown",
   "id": "3ccc19be-1677-42b6-808f-62e297182ee0",
   "metadata": {},
   "source": [
    "## 3.1. Mean"
   ]
  },
  {
   "cell_type": "markdown",
   "id": "77bbf743-f44d-432c-a805-2b0ed7a47f84",
   "metadata": {},
   "source": [
    "## 3.2.linear interpolation"
   ]
  },
  {
   "cell_type": "code",
   "execution_count": null,
   "id": "75d8e8b8-b47a-4067-8ccb-9c1840c1acab",
   "metadata": {},
   "outputs": [],
   "source": []
  }
 ],
 "metadata": {
  "kernelspec": {
   "display_name": "Python 3 (ipykernel)",
   "language": "python",
   "name": "python3"
  },
  "language_info": {
   "codemirror_mode": {
    "name": "ipython",
    "version": 3
   },
   "file_extension": ".py",
   "mimetype": "text/x-python",
   "name": "python",
   "nbconvert_exporter": "python",
   "pygments_lexer": "ipython3",
   "version": "3.8.12"
  }
 },
 "nbformat": 4,
 "nbformat_minor": 5
}

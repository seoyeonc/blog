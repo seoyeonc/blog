{
  "cells": [
    {
      "cell_type": "markdown",
      "metadata": {},
      "source": [
        "# Simulation\n",
        "\n",
        "SEOYEON CHOI  \n",
        "4/5/23\n",
        "\n",
        "> Simulation Study\n",
        "\n",
        "# Import\n",
        "\n",
        "데이터 함쳐놓기\n",
        "\n",
        "``` python\n",
        "import pandas as pd\n",
        "\n",
        "_a = pd.read_csv('./simulation_results/a.csv')\n",
        "_b = pd.read_csv('./simulation_results/b.csv')\n",
        "_c = pd.read_csv('./simulation_results/STGCN_ITSTGCN_random_epoch200.csv')\n",
        "\n",
        "_df = pd.concat([_a,_b,_c],axis=0)\n",
        "\n",
        "_df\n",
        "\n",
        "_df.to_csv('./simulation_results/STGCN_ITSTGCN_random_epoch200_2.csv',index=False)\n",
        "```"
      ],
      "id": "be36378d-162f-4066-a629-42130e273465"
    },
    {
      "cell_type": "code",
      "execution_count": 2,
      "metadata": {},
      "outputs": [],
      "source": [
        "import matplotlib.pyplot as plt\n",
        "import pandas as pd\n",
        "import numpy as np"
      ],
      "id": "168a2944-a14d-4506-b2fa-ecbaa102c35b"
    },
    {
      "cell_type": "markdown",
      "metadata": {},
      "source": [
        "# Fivenodes\n",
        "\n",
        "**random**\n",
        "\n",
        "-   lags = 2\n",
        "    -   GNAR 문서에 나온 대로 AR(2) 모형\n",
        "\n",
        "1.  mrate = 0.8, filter = 12, epoch = 150\n",
        "2.  mrate = 0.3, filter = 8, epoch = 50\n",
        "\n",
        "-   interpolation = linear 또는 cubic, nearest 는 mse 너무 우리 방법에서\n",
        "    안 좋다.\n",
        "\n",
        "**block**\n",
        "\n",
        "## random"
      ],
      "id": "bc2219e2-cbe4-4320-8d07-4f3ef06ae5ea"
    },
    {
      "cell_type": "code",
      "execution_count": 283,
      "metadata": {},
      "outputs": [],
      "source": [
        "df1 = pd.read_csv('./simulation_results/fivenodes/fivenodes_STGCN_ITSTGCN_random_epoch50.csv')\n",
        "df2 = pd.read_csv('./simulation_results/fivenodes/fivenodes_STGCN_ITSTGCN_random_epoch100.csv')\n",
        "df3 = pd.read_csv('./simulation_results/fivenodes/fivenodes_STGCN_ITSTGCN_random_epoch150.csv')\n",
        "df4 = pd.read_csv('./simulation_results/fivenodes/fivenodes_STGCN_ITSTGCN_random_epoch200.csv')"
      ],
      "id": "6577e9c5-244b-403b-a92d-d54f9d947475"
    },
    {
      "cell_type": "code",
      "execution_count": 284,
      "metadata": {},
      "outputs": [],
      "source": [
        "df_gnar = pd.read_csv('./simulation_results/fivenodes/fivenodes_GNAR_random.csv')"
      ],
      "id": "f58e7777-981f-4f66-8bfa-28b87039d606"
    },
    {
      "cell_type": "code",
      "execution_count": 285,
      "metadata": {},
      "outputs": [],
      "source": [
        "data = pd.concat([df1,df2,df3,df4,df_gnar],axis=0)"
      ],
      "id": "fccdb255-7379-4839-afaa-65c44df651f6"
    },
    {
      "cell_type": "code",
      "execution_count": 206,
      "metadata": {},
      "outputs": [],
      "source": [
        "data.query(\"method!='GNAR' and inter_method=='linear' and lags==2\").plot.box(backend='plotly',x='mrate',color='method',y='mse',facet_col='epoch',facet_row='nof_filters',height=1200)\n"
      ],
      "id": "6dfb3672-7911-4c91-94c7-e1f839a7744a"
    },
    {
      "cell_type": "markdown",
      "metadata": {},
      "source": [
        "#### 시뮬 예정(평균 시간, 평균mse)\n",
        "\n",
        "0.7,0.75,0.8,0.85\n",
        "\n",
        "12,16\n",
        "\n",
        "150"
      ],
      "id": "eeb8a0d4-13f6-48c0-aaee-dd701c192e66"
    },
    {
      "cell_type": "code",
      "execution_count": 242,
      "metadata": {},
      "outputs": [],
      "source": [
        "# 1. mrate = 0.8, filter = 12, epoch = 150\n",
        "data.query(\"mrate==0.8 and inter_method=='linear' and nof_filters==12 and epoch==150 and lags==2\")['calculation_time'].mean(),data.query(\"mrate==0.8 and inter_method=='linear' and nof_filters==12 and epoch==150 and lags==2\")['mse'].mean()"
      ],
      "id": "765140cd-1422-47c8-beda-36d103b845b3"
    },
    {
      "cell_type": "code",
      "execution_count": 290,
      "metadata": {},
      "outputs": [],
      "source": [
        "data.query(\"mrate==0.8 and inter_method=='linear' and nof_filters==12 and epoch==150 and lags==2\").plot.box(backend='plotly',x='mrate',color='method',y='mse',facet_col='epoch',facet_row='nof_filters',height=400)"
      ],
      "id": "06bc2912-6a83-483a-b5a2-d02ca797bffe"
    },
    {
      "cell_type": "markdown",
      "metadata": {},
      "source": [
        "## block"
      ],
      "id": "a13df8e1-51ab-4d5e-b981-8cf5788ab8c6"
    },
    {
      "cell_type": "code",
      "execution_count": 292,
      "metadata": {},
      "outputs": [],
      "source": [
        "df1 = pd.read_csv('./simulation_results/fivenodes/fivenodes_STGCN_ITSTGCN_block_node1_epoch50.csv')\n",
        "df2 = pd.read_csv('./simulation_results/fivenodes/fivenodes_STGCN_ITSTGCN_block_node1_epoch100.csv')\n",
        "df3 = pd.read_csv('./simulation_results/fivenodes/fivenodes_STGCN_ITSTGCN_block_node1_epoch150.csv')\n",
        "df4 = pd.read_csv('./simulation_results/fivenodes/fivenodes_STGCN_ITSTGCN_block_node1_epoch200.csv')\n",
        "df5 = pd.read_csv('./simulation_results/fivenodes/fivenodes_STGCN_ITSTGCN_block_node2_epoch50.csv')\n",
        "df6 = pd.read_csv('./simulation_results/fivenodes/fivenodes_STGCN_ITSTGCN_block_node2_epoch100.csv')\n",
        "df7 = pd.read_csv('./simulation_results/fivenodes/fivenodes_STGCN_ITSTGCN_block_node2_epoch150.csv')\n",
        "df8 = pd.read_csv('./simulation_results/fivenodes/fivenodes_GNAR_block_node1.csv')\n",
        "df9 = pd.read_csv('./simulation_results/fivenodes/fivenodes_GNAR_block_node2.csv')"
      ],
      "id": "2e9672a0-10ee-45ce-a85d-aae39f5d43e2"
    },
    {
      "cell_type": "code",
      "execution_count": 293,
      "metadata": {},
      "outputs": [],
      "source": [
        "df1['block']=1\n",
        "df2['block']=1\n",
        "df3['block']=1\n",
        "df4['block']=1\n",
        "df5['block']=2\n",
        "df6['block']=2\n",
        "df7['block']=2\n",
        "df8['block']=1\n",
        "df9['block']=2"
      ],
      "id": "59fa1660-cdb5-4422-9d3f-ac048afa90ff"
    },
    {
      "cell_type": "code",
      "execution_count": 294,
      "metadata": {},
      "outputs": [],
      "source": [
        "data2 = pd.concat([df1,df2,df3,df4,df5,df6,df7,df8,df9],axis=0)"
      ],
      "id": "3a60b9ef-40db-4058-ab16-4e4132452ee5"
    },
    {
      "cell_type": "code",
      "execution_count": 296,
      "metadata": {},
      "outputs": [],
      "source": [
        "data2.query(\"method=='GNAR' and block == 1\")['mse'].mean(),data2.query(\"method=='GNAR' and block == 2\")['mse'].mean()"
      ],
      "id": "9d0a72f2-37f0-4c8c-9621-9a8fd61a995a"
    },
    {
      "cell_type": "code",
      "execution_count": 297,
      "metadata": {},
      "outputs": [],
      "source": [
        "data2.query(\"method=='GNAR' and inter_method == 'linear'\")['mse'].mean(),data2.query(\"method=='GNAR' and inter_method == 'nearest'\")['mse'].mean() # 차이 없음"
      ],
      "id": "94412420-dce0-498f-b476-7b31f1e0225d"
    },
    {
      "cell_type": "code",
      "execution_count": 298,
      "metadata": {},
      "outputs": [],
      "source": [
        "data2.query(\"epoch==50\")['calculation_time'].mean(),data2.query(\"epoch==50\")['calculation_time'].max()"
      ],
      "id": "849b15e9-3e5b-4edb-a70c-41032369a337"
    },
    {
      "cell_type": "code",
      "execution_count": 299,
      "metadata": {},
      "outputs": [],
      "source": [
        "data2.query(\"epoch==150\")['calculation_time'].mean(),data2.query(\"epoch==150\")['calculation_time'].max()"
      ],
      "id": "55b0e05d-ecb9-4481-a9e3-1b5f1d784181"
    },
    {
      "cell_type": "code",
      "execution_count": 300,
      "metadata": {},
      "outputs": [],
      "source": [
        "data2.query(\"method!='GNAR' and lags == 2 and inter_method=='nearest'\").plot.box(backend='plotly',x='block',color='method',y='mse',facet_col='epoch',facet_row='nof_filters',height=800)\n"
      ],
      "id": "6d3ee158-2db2-4e92-8328-0c60f28599be"
    },
    {
      "cell_type": "code",
      "execution_count": 301,
      "metadata": {},
      "outputs": [],
      "source": [
        "data2.query(\"inter_method=='linear' and epoch==150\").plot.box(backend='plotly',x='block',color='method',y='mse',facet_col='lags',facet_row='nof_filters',height=1200)\n"
      ],
      "id": "d625bfef-1769-4706-a4a5-b2cf89d6e15e"
    },
    {
      "cell_type": "markdown",
      "metadata": {},
      "source": [
        "#### 시뮬 예정(평균 시간, 평균mse)\n",
        "\n",
        "block 1,2 위 세팅 그대로\n",
        "\n",
        "랜덤ㅁ 말고 block만"
      ],
      "id": "0f60d9fc-ad07-4781-9cad-e41aa5aef9bd"
    },
    {
      "cell_type": "code",
      "execution_count": 306,
      "metadata": {},
      "outputs": [],
      "source": [
        "# 1. block = 2 interpolation = linear, filter = 12, epoch = 150\n",
        "data2.query(\"block==1 and inter_method=='linear' and nof_filters==12 and epoch==50 and lags==2\")['calculation_time'].mean(),data2.query(\"block==2 and inter_method=='linear' and nof_filters==12 and epoch==50 and lags==2\")['mse'].mean()"
      ],
      "id": "237cbe28-f101-4a94-8f61-a70c2b9e7a40"
    },
    {
      "cell_type": "code",
      "execution_count": 307,
      "metadata": {},
      "outputs": [],
      "source": [
        "data2.query(\"block==1 and inter_method=='linear' and nof_filters==12 and epoch==50 and lags==2\").plot.box(backend='plotly',x='block',color='method',y='mse',facet_col='epoch',facet_row='nof_filters',height=400)"
      ],
      "id": "70a6cce6-b865-405d-ad7f-83a12d5501fc"
    },
    {
      "cell_type": "markdown",
      "metadata": {},
      "source": [
        "# fivenodes simulation result\n",
        "\n",
        "``` python\n",
        "mindex= [[],[],[],list(range(50,150)),[]] # block 1\n",
        "mindex= [list(range(10,100)),[],list(range(50,80)),[],[]] # node 2 30% mmissing\n",
        "```\n",
        "\n",
        "block 조건"
      ],
      "id": "97d4213b-c0de-4fe7-a937-88ef4655d63c"
    },
    {
      "cell_type": "code",
      "execution_count": 135,
      "metadata": {},
      "outputs": [],
      "source": [
        "df1 = pd.read_csv('./simulation_results/2023-04-09_23-37-17.csv') # GNAR random\n",
        "df2 = pd.read_csv('./simulation_results/2023-04-10_07-06-32.csv') # STGCN, ITSTGCN random 70%, 75%\n",
        "df3 = pd.read_csv('./simulation_results/2023-04-10_14-54-51.csv') # STGCN, ITSTGCN random 80%, 85%\n",
        "df4 = pd.read_csv('./simulation_results/2023-04-10_15-54-03.csv') # GNAR block 1\n",
        "df5 = pd.read_csv('./simulation_results/2023-04-10_15-56-27.csv') # GNAR block 2\n",
        "df6 = pd.read_csv('./simulation_results/2023-04-10_23-44-52.csv') # STGCN, ITSTGCN block 1\n",
        "df7 = pd.read_csv('./simulation_results/2023-04-11_04-40-00.csv') # STGCN, ITSTGCN block 2\n",
        "df8 = pd.read_csv('./simulation_results/2023-04-14_21-21-34.csv') # S/TGCN, ITSTGCN missing 0"
      ],
      "id": "9494b74e-f73d-4630-b850-f86e306323c3"
    },
    {
      "cell_type": "code",
      "execution_count": 136,
      "metadata": {},
      "outputs": [],
      "source": [
        "data = pd.concat([df1,df2, df3, df4,df5,df6,df7,df8],axis=0);data"
      ],
      "id": "58e75453-1a67-4b3e-b898-64f4c994ef98"
    },
    {
      "cell_type": "code",
      "execution_count": 137,
      "metadata": {},
      "outputs": [],
      "source": [
        "data.to_csv('./simulation_results/Real_simulation/fivedones_Simulation.csv',index=False)"
      ],
      "id": "bfa5f12b-fef3-41c6-b7bf-0423f3fa7d84"
    },
    {
      "cell_type": "code",
      "execution_count": 138,
      "metadata": {},
      "outputs": [],
      "source": [
        "data = pd.read_csv('./simulation_results/Real_simulation/fivedones_Simulation.csv')"
      ],
      "id": "33bd891f-14e6-4eaa-b3e3-ed7568ce54ad"
    },
    {
      "cell_type": "code",
      "execution_count": 139,
      "metadata": {},
      "outputs": [],
      "source": [
        "data.query(\"method=='GNAR' and mtype == 'rand'\")['mse'].mean(),data.query(\"method=='GNAR' and mtype != 'rand'\")['mse'].mean()"
      ],
      "id": "cad239fe-d13a-4fed-a8d7-992adce2ce5f"
    },
    {
      "cell_type": "code",
      "execution_count": 140,
      "metadata": {},
      "outputs": [],
      "source": [
        "data.query(\"method=='STGCN' and mtype == 'rand'\")['mse'].mean(),data.query(\"method=='STGCN' and mtype != 'rand'\")['mse'].mean()"
      ],
      "id": "01d925fc-f329-41e9-83c9-cc22e78e10a5"
    },
    {
      "cell_type": "code",
      "execution_count": 141,
      "metadata": {},
      "outputs": [],
      "source": [
        "data.query(\"method=='IT-STGCN' and mtype == 'rand'\")['mse'].mean(),data.query(\"method=='IT-STGCN' and mtype != 'rand'\")['mse'].mean()"
      ],
      "id": "70125ce9-e577-4c80-b132-4e74e35a49c2"
    },
    {
      "cell_type": "markdown",
      "metadata": {},
      "source": [
        "Baseline"
      ],
      "id": "ed7f68b8-446e-4f86-af5a-b406710274f7"
    },
    {
      "cell_type": "code",
      "execution_count": 142,
      "metadata": {
        "tags": []
      },
      "outputs": [],
      "source": [
        "data.query(\"method!='GNAR' and mrate==0\").plot.box(backend='plotly',x='mrate',color='method',y='mse',facet_col='nof_filters',height=600)\n"
      ],
      "id": "a464d7fc-b07a-492a-ae06-9b2374e6ce7f"
    },
    {
      "cell_type": "code",
      "execution_count": 144,
      "metadata": {},
      "outputs": [],
      "source": [
        "data.query(\"method!='GNAR' and mtype =='rand' and (mrate==0.7 or mrate==0.75)\").plot.box(backend='plotly',x='mrate',color='method',y='mse',facet_col='nof_filters',facet_row='inter_method',height=600)\n"
      ],
      "id": "b9d0be9d-7ce8-4b4d-b2d3-b89dcb973e83"
    },
    {
      "cell_type": "code",
      "execution_count": 145,
      "metadata": {},
      "outputs": [],
      "source": [
        "data.query(\"method!='GNAR' and mtype =='rand'  and (mrate==0.8 or mrate==0.85)\").plot.box(backend='plotly',x='mrate',color='method',y='mse',facet_col='nof_filters',facet_row='inter_method',height=600)\n"
      ],
      "id": "378ba334-a28a-4062-ae88-8665f9bc54e3"
    },
    {
      "cell_type": "code",
      "execution_count": 28,
      "metadata": {},
      "outputs": [],
      "source": [
        "data.query(\"method!='GNAR' and mtype =='block' and inter_method=='linear' \").plot.box(backend='plotly',x='mrate',color='method',y='mse',facet_col='nof_filters',facet_row='inter_method',height=600)\n"
      ],
      "id": "c2c697f0-d3bd-455f-ac82-ba3494e7b77b"
    },
    {
      "cell_type": "markdown",
      "metadata": {},
      "source": [
        "# chickenpox\n",
        "\n",
        "## random\n",
        "\n",
        "-   공식 패키지: lags 4 지정\n",
        "-   mrate = 0.3\n",
        "    -   결측값 비율 크니까 오차 많이 커지는 경향 있어서\n",
        "-   nof_filters = 4\n",
        "    -   차이 없어서\n",
        "-   lags = 4, 8\n",
        "    -   클 수록 작아지는 경향 있어서\n",
        "-   GNAR보다 MSE는 낮음\n",
        "-   cal_time\n",
        "    -   mean = 10\n",
        "    -   max = 21\n",
        "-   block 은 임의로 한 노드만 해 본 결과임"
      ],
      "id": "332f0e43-4983-40e0-b503-ca55edf28e93"
    },
    {
      "cell_type": "code",
      "execution_count": 6,
      "metadata": {},
      "outputs": [],
      "source": [
        "data = pd.read_csv('./simulation_results/chickenpox_random.csv').sort_values(by='lags')"
      ],
      "id": "ed20ee05-8383-44ad-b892-7c855d099094"
    },
    {
      "cell_type": "code",
      "execution_count": 8,
      "metadata": {},
      "outputs": [],
      "source": [
        "data.query(\"method!='GNAR'\")['calculation_time'].mean(),data.query(\"method!='GNAR'\")['calculation_time'].max(),data.query(\"method!='GNAR'\")['calculation_time'].min()"
      ],
      "id": "c65b856e-9b90-44b1-ac5b-9d32e4e97f6c"
    },
    {
      "cell_type": "code",
      "execution_count": 12,
      "metadata": {},
      "outputs": [],
      "source": [
        "data.query(\"method!='GNAR' and inter_method=='cubic' and mrate==0.3\").plot.box(backend='plotly',x='mrate',color='method',y='mse',facet_col='lags',facet_row='nof_filters',height=1200)\n"
      ],
      "id": "276c8d33-7336-4771-808e-e950591781bf"
    },
    {
      "cell_type": "code",
      "execution_count": 10,
      "metadata": {},
      "outputs": [],
      "source": [
        "data.query(\"method=='GNAR' and inter_method=='linear'\").plot.box(backend='plotly',x='mrate',color='method',y='mse',facet_col='lags',height=600)\n"
      ],
      "id": "3adfc42d-24b2-4924-8dde-3c7b19dd05bd"
    },
    {
      "cell_type": "markdown",
      "metadata": {},
      "source": [
        "#### 시뮬 예정(평균 시간, 평균mse)\n",
        "\n",
        "epoch = 50\n",
        "\n",
        "mrate = 0.3\\~0.5\n",
        "\n",
        "filter 32 공식예제로 가기 하고 샆으면 3개 정도 추가로"
      ],
      "id": "799f4180-d88d-4234-893c-3d091326ac84"
    },
    {
      "cell_type": "code",
      "execution_count": 469,
      "metadata": {},
      "outputs": [],
      "source": [
        "# 1. mrate = 0.3, filter = 4, epoch = 50, lags = 4\n",
        "data.query(\"method !='GNAR' and mrate==0.3 and inter_method=='cubic' and nof_filters==4 and lags==2\")['calculation_time'].mean(),data.query(\"method != 'GNAR' and mrate==0.3 and inter_method=='cubic' and nof_filters==4 and lags==2\")['mse'].mean()"
      ],
      "id": "7514a6db-0bf1-419a-bd72-db44c8cf6071"
    },
    {
      "cell_type": "code",
      "execution_count": 470,
      "metadata": {},
      "outputs": [],
      "source": [
        "data.query(\"method !='GNAR' and mrate==0.3 and inter_method=='cubic' and nof_filters==4 and lags==2\").plot.box(backend='plotly',x='mrate',color='method',y='mse',facet_col='lags',facet_row='nof_filters',height=400)\n"
      ],
      "id": "cbe2ab7a-dafe-4c28-b1cc-7be45669c302"
    },
    {
      "cell_type": "markdown",
      "metadata": {},
      "source": [
        "## block"
      ],
      "id": "a43e7f69-c7f7-4451-a9c0-44cd418bf832"
    },
    {
      "cell_type": "code",
      "execution_count": 15,
      "metadata": {},
      "outputs": [],
      "source": [
        "data = pd.read_csv('./simulation_results/chickenpox_block.csv')"
      ],
      "id": "eab9438f-918e-4169-ad14-9f2f38c75626"
    },
    {
      "cell_type": "code",
      "execution_count": 21,
      "metadata": {},
      "outputs": [],
      "source": [
        "data.query(\"method != 'GNAR' and lags!=4 and lags!=6 and inter_method !='linear'\").plot.box(backend='plotly',x='nof_filters',color='method',y='mse',facet_col='lags',facet_row='inter_method',height=600)\n"
      ],
      "id": "633f003c-4796-4398-b124-70489493d08f"
    },
    {
      "cell_type": "code",
      "execution_count": 473,
      "metadata": {},
      "outputs": [],
      "source": [
        "data.query(\"method=='GNAR'\").plot.box(backend='plotly',x='mrate',color='inter_method',y='mse',facet_col='lags',height=600)\n"
      ],
      "id": "4358f853-5713-445f-a337-1397d4d0f077"
    },
    {
      "cell_type": "markdown",
      "metadata": {},
      "source": [
        "#### 시뮬 예정(평균 시간, 평균mse)\n",
        "\n",
        "block, rand 다\n",
        "\n",
        "공식예제 수 따라\n",
        "\n",
        "epoch 50\n",
        "\n",
        "나중에 시간 남으면 100"
      ],
      "id": "2beb83d5-3fde-4d3d-af8a-e776cc87a6fe"
    },
    {
      "cell_type": "code",
      "execution_count": 486,
      "metadata": {},
      "outputs": [],
      "source": [
        "data.query(\"inter_method=='cubic' and nof_filters==4 and lags==8\").plot.box(backend='plotly',x='mrate',color='method',y='mse',facet_col='lags',facet_row='nof_filters',height=400)\n"
      ],
      "id": "837e027f-1df2-445e-8ce0-17bb333e7d40"
    },
    {
      "cell_type": "markdown",
      "metadata": {},
      "source": [
        "# chikenpox simulation result\n",
        "\n",
        "``` python\n",
        "my_list = [[] for _ in range(20)] #chickenpox\n",
        "another_list = list(range(100,400))\n",
        "my_list[1] = another_list\n",
        "my_list[3] = another_list\n",
        "my_list[5] = another_list\n",
        "my_list[7] = another_list\n",
        "my_list[9] = another_list\n",
        "my_list[11] = another_list\n",
        "my_list[13] = another_list\n",
        "my_list[15] = another_list\n",
        "mindex = my_list\n",
        "```\n",
        "\n",
        "block 30% missing을 위한 조건"
      ],
      "id": "431c1a73-e5c5-4615-b4f8-52c147a9b4b5"
    },
    {
      "cell_type": "code",
      "execution_count": 146,
      "metadata": {},
      "outputs": [],
      "source": [
        "df1 = pd.read_csv('./simulation_results/2023-04-11_06-56-35.csv') # GNAR random\n",
        "df2 = pd.read_csv('./simulation_results/2023-04-11_07-01-42.csv') # GNAR block\n",
        "df3 = pd.read_csv('./simulation_results/2023-04-11_18-20-22.csv') # STGCN, ITSTGCN random 30%\n",
        "df4 = pd.read_csv('./simulation_results/2023-04-12_05-44-19.csv') # STGCN, ITSTGCN random 40%\n",
        "df5 = pd.read_csv('./simulation_results/2023-04-12_17-03-28.csv') # STGCN, ITSTGCN random 50%\n",
        "df6 = pd.read_csv('./simulation_results/2023-04-13_18-59-17.csv') # STGCN, ITSTGCN block cubic\n",
        "df7 = pd.read_csv('./simulation_results/2023-04-14_00-57-11.csv') # STGCN, ITSTGCN block linear\n",
        "df8 = pd.read_csv('./simulation_results/2023-04-14_12-55-58.csv') # STGCN, ITSTGCN 0% missing"
      ],
      "id": "889f18fd-e4be-4e29-a250-746574adc764"
    },
    {
      "cell_type": "code",
      "execution_count": 147,
      "metadata": {},
      "outputs": [],
      "source": [
        "data = pd.concat([df1,df2,df3,df4,df5,df6,df7,df8],axis=0);data"
      ],
      "id": "891c7748-bcf8-4b01-b0ed-87e282ffe814"
    },
    {
      "cell_type": "code",
      "execution_count": 148,
      "metadata": {},
      "outputs": [],
      "source": [
        "data.to_csv('./simulation_results/Real_simulation/chikenpox_Simulation.csv',index=False)"
      ],
      "id": "36aa790d-30ba-46f4-b0d0-26cc04ed9eb2"
    },
    {
      "cell_type": "code",
      "execution_count": 149,
      "metadata": {},
      "outputs": [],
      "source": [
        "data = pd.read_csv('./simulation_results/Real_simulation/chikenpox_Simulation.csv')"
      ],
      "id": "69726fb4-067b-4e6a-be67-4469cdfa708b"
    },
    {
      "cell_type": "code",
      "execution_count": 150,
      "metadata": {},
      "outputs": [],
      "source": [
        "data.query(\"method=='GNAR' and mtype == 'rand'\")['mse'].mean(),data.query(\"method=='GNAR' and mtype != 'rand'\")['mse'].mean()"
      ],
      "id": "673b1f76-4813-4f21-9fe5-215b696ff78e"
    },
    {
      "cell_type": "code",
      "execution_count": 151,
      "metadata": {},
      "outputs": [],
      "source": [
        "data.query(\"method=='STGCN' and mtype == 'rand'\")['mse'].mean(),data.query(\"method=='STGCN' and mtype != 'rand'\")['mse'].mean()"
      ],
      "id": "3fcf3ec3-ad3a-4e6f-bcf5-0a0a2af0d567"
    },
    {
      "cell_type": "code",
      "execution_count": 152,
      "metadata": {},
      "outputs": [],
      "source": [
        "data.query(\"method=='IT-STGCN' and mtype == 'rand'\")['mse'].mean(),data.query(\"method=='IT-STGCN' and mtype != 'rand'\")['mse'].mean()"
      ],
      "id": "3cacbee8-8ed4-445c-969b-b4c030f8cef0"
    },
    {
      "cell_type": "code",
      "execution_count": 157,
      "metadata": {},
      "outputs": [],
      "source": [
        "data.query(\"method!='GNAR' and mrate ==0 \").plot.box(backend='plotly',x='mrate',color='method',y='mse',facet_col='nof_filters',height=600)\n"
      ],
      "id": "9a9eeb03-ac29-4c76-8ec7-3b0e71752f38"
    },
    {
      "cell_type": "code",
      "execution_count": 153,
      "metadata": {},
      "outputs": [],
      "source": [
        "data.query(\"method!='GNAR' and mtype =='rand' \").plot.box(backend='plotly',x='mrate',color='method',y='mse',facet_col='nof_filters',facet_row='inter_method',height=800)\n"
      ],
      "id": "7f3b2de6-d4d7-424c-be3e-4556d76c0b60"
    },
    {
      "cell_type": "code",
      "execution_count": 98,
      "metadata": {},
      "outputs": [],
      "source": [
        "data.query(\"method!='GNAR' and mtype =='block' \").plot.box(backend='plotly',x='mrate',color='method',y='mse',facet_col='nof_filters',facet_row='inter_method',height=800)\n"
      ],
      "id": "9ea824ea-7c73-4228-b066-d7bb61ac80e7"
    },
    {
      "cell_type": "markdown",
      "metadata": {},
      "source": [
        "# Pedalme\n",
        "\n",
        "데이터셋 미싱이 0.8일때\n",
        "\n",
        "`The number of derivatives at boundaries does not match: expected 1, got 0+0`\n",
        "\n",
        "해당 오류, 즉 미분되지 않는 오류가 생긴다.\n",
        "\n",
        "-   공식 패키지: lags 4 지정\n",
        "-   mrate = 0.3\n",
        "-   nof_filters = 12\n",
        "    -   필터 클수록 mse 안정적으로 보임!\n",
        "-   lags = 4, 8\n",
        "    -   lags 클 수록 커지는 경향이 있지만,\n",
        "    -   lags 크니까 GNAR보다 mse 평균적으로 낮게 보인다.\n",
        "-   GNAR보다 MSE는 낮음\n",
        "-   cal_time\n",
        "    -   mean = 1초도 안 된다!\n",
        "    -   max = 6초!\n",
        "\n",
        "# random"
      ],
      "id": "14d1f1ad-42e0-403a-bec8-8fe904328a84"
    },
    {
      "cell_type": "code",
      "execution_count": 22,
      "metadata": {},
      "outputs": [],
      "source": [
        "data = pd.read_csv('./simulation_results/pedalme_random.csv');data"
      ],
      "id": "4c2e1e25-4bf2-4f3a-945d-688ac0b7d2f6"
    },
    {
      "cell_type": "code",
      "execution_count": 23,
      "metadata": {},
      "outputs": [],
      "source": [
        "data.query(\"method!='GNAR'\")['calculation_time'].mean(),data.query(\"method!='GNAR'\")['calculation_time'].max(),data.query(\"method!='GNAR'\")['calculation_time'].min()"
      ],
      "id": "0599ee2d-024e-4bbd-b680-6e20e9872aed"
    },
    {
      "cell_type": "code",
      "execution_count": 30,
      "metadata": {},
      "outputs": [],
      "source": [
        "data.query(\"mtype=='rand' and method!='GNAR' and lags!=4\").plot.box(backend='plotly',x='mrate',color='method',y='mse',facet_col='lags',facet_row='nof_filters',height=1200)\n"
      ],
      "id": "4e13eabf-b4b6-431f-b81f-daacc32a6536"
    },
    {
      "cell_type": "code",
      "execution_count": 26,
      "metadata": {},
      "outputs": [],
      "source": [
        "data.query(\"mtype=='rand' and method!='GNAR' and mrate==0.7\").plot.box(backend='plotly',x='inter_method',color='method',y='mse',facet_col='lags',facet_row='nof_filters',height=1200)\n"
      ],
      "id": "cb7b56e9-59f2-43c9-90e2-580b591b5fe9"
    },
    {
      "cell_type": "code",
      "execution_count": 413,
      "metadata": {},
      "outputs": [],
      "source": [
        "data.query(\"mtype=='rand' and method!='GNAR' and mrate==0.3\").plot.box(backend='plotly',x='inter_method',color='method',y='mse',facet_col='lags',facet_row='nof_filters',height=1200)\n"
      ],
      "id": "c9130d40-f143-48ed-be3e-76e1e8ea15e2"
    },
    {
      "cell_type": "code",
      "execution_count": 165,
      "metadata": {},
      "outputs": [],
      "source": [
        "data.query(\"method=='GNAR'\").plot.box(backend='plotly',x='mtype',color='method',y='mse',facet_col='lags',height=600)\n"
      ],
      "id": "d53f67fa-c00b-4247-bc5a-cc8732a2b9cf"
    },
    {
      "cell_type": "markdown",
      "metadata": {},
      "source": [
        "#### 시뮬 예정(평균 시간, 평균mse)\n",
        "\n",
        "lags 4,8\n",
        "\n",
        "mrate 0.3\\~0.6"
      ],
      "id": "919fc0f1-001a-4be6-9a56-c9263cbc2045"
    },
    {
      "cell_type": "code",
      "execution_count": 323,
      "metadata": {},
      "outputs": [],
      "source": [
        "# 1. mrate = 0.3, filter = 4, epoch = 50, lags = 4\n",
        "data.query(\"method !='GNAR' and mrate==0.3 and inter_method=='cubic' and nof_filters==12 and lags==8\")['calculation_time'].mean(),data.query(\"method !='GNAR' and mrate==0.3 and inter_method=='cubic' and nof_filters==12 and lags==8\")['mse'].mean()"
      ],
      "id": "9dbc131a-f0e7-4fe8-a047-ba0e683dafad"
    },
    {
      "cell_type": "code",
      "execution_count": 324,
      "metadata": {},
      "outputs": [],
      "source": [
        "data.query(\"method !='GNAR' and mrate==0.3 and inter_method=='cubic' and nof_filters==12 and lags==8\").plot.box(backend='plotly',x='mrate',color='method',y='mse',facet_col='lags',facet_row='nof_filters',height=400)"
      ],
      "id": "0f9a32ae-feeb-4453-ac9b-027e5ad10443"
    },
    {
      "cell_type": "markdown",
      "metadata": {},
      "source": [
        "## block"
      ],
      "id": "82b9b393-eb61-44e0-9e69-8cab366e5469"
    },
    {
      "cell_type": "code",
      "execution_count": 487,
      "metadata": {},
      "outputs": [],
      "source": [
        "data = pd.read_csv('./simulation_results/pedalme_block.csv');data"
      ],
      "id": "96979703-8b5c-4396-ba54-a61c454ae97a"
    },
    {
      "cell_type": "markdown",
      "metadata": {},
      "source": [
        "missing rate 조정하기 30\\~50% 여러개 block 해서"
      ],
      "id": "6171dc10-4ab1-491d-9634-fa4cfa027ce2"
    },
    {
      "cell_type": "code",
      "execution_count": 491,
      "metadata": {},
      "outputs": [],
      "source": [
        "data.query(\"method!='GNAR'\").plot.box(backend='plotly',x='inter_method',color='method',y='mse',facet_col='lags',facet_row='nof_filters',height=1200)\n"
      ],
      "id": "0eca2e51-cf22-41a8-94e1-0370f47f82eb"
    },
    {
      "cell_type": "markdown",
      "metadata": {},
      "source": [
        "#### 시뮬 예정(평균 시간, 평균mse)"
      ],
      "id": "17520fba-5f61-4047-8d71-1afc1d5daed1"
    },
    {
      "cell_type": "code",
      "execution_count": 495,
      "metadata": {},
      "outputs": [],
      "source": [
        "data.query(\"inter_method=='linear' and nof_filters==12 and lags==4\").plot.box(backend='plotly',x='mrate',color='method',y='mse',facet_col='lags',facet_row='nof_filters',height=400)"
      ],
      "id": "be756f6e-1e12-4471-99f8-8c74e152e425"
    },
    {
      "cell_type": "markdown",
      "metadata": {},
      "source": [
        "# pedalme simulation result\n",
        "\n",
        "block1\n",
        "\n",
        "``` python\n",
        "my_list = [[] for _ in range(15)] #pedalme\n",
        "another_list = list(range(5,25))\n",
        "my_list[1] = another_list\n",
        "my_list[3] = another_list\n",
        "my_list[5] = another_list\n",
        "my_list[7] = another_list\n",
        "my_list[9] = another_list\n",
        "my_list[11] = another_list\n",
        "mindex = my_list\n",
        "```\n",
        "\n",
        "block 30% missing을 위한 조건\n",
        "\n",
        "block2\n",
        "\n",
        "``` python\n",
        "my_list = [[] for _ in range(15)] #pedalme\n",
        "another_list = list(range(10,25))\n",
        "my_list[2] = another_list\n",
        "my_list[4] = another_list\n",
        "my_list[5] = another_list\n",
        "my_list[11] = another_list\n",
        "mindex = my_list\n",
        "```\n",
        "\n",
        "block 30% missing을 위한 조건"
      ],
      "id": "f19fb834-acff-46ae-8a3c-0897d16ec350"
    },
    {
      "cell_type": "code",
      "execution_count": 162,
      "metadata": {},
      "outputs": [],
      "source": [
        "df1 = pd.read_csv('./simulation_results/2023-04-13_20-37-59.csv') # STGCN, ITSTGCN random 0%,30%, 40%\n",
        "df2 = pd.read_csv('./simulation_results/2023-04-13_21-29-38.csv') # STGCN, ITSTGCN random 50%, 60%\n",
        "df3 = pd.read_csv('./simulation_results/2023-04-15_01-08-16.csv') # GNAR random 30%, 40%, 50%, 60%\n",
        "df4 = pd.read_csv('./simulation_results/2023-04-13_21-56-36.csv') # GNAR block 30%\n",
        "df5 = pd.read_csv('./simulation_results/2023-04-15_01-08-16.csv') # STGCN, ITSTGCN block 1 \n",
        "df6 = pd.read_csv('./simulation_results/2023-04-15_01-38-46.csv') # STGCN, ITSTGCN block 2\n",
        "# df7 = pd.read_csv('./simulation_results/2023-04-11_04-40-00.csv') # STGCN, ITSTGCN block linear"
      ],
      "id": "18b37800-e145-4a67-87e3-a68343eb2ead"
    },
    {
      "cell_type": "code",
      "execution_count": 163,
      "metadata": {},
      "outputs": [],
      "source": [
        "data = pd.concat([df1,df2,df3,df4,df5,df6],axis=0);data"
      ],
      "id": "b532b737-db36-4d75-bbbf-74eeecf7efda"
    },
    {
      "cell_type": "code",
      "execution_count": 164,
      "metadata": {},
      "outputs": [],
      "source": [
        "data.to_csv('./simulation_results/Real_simulation/pedalme_Simulation.csv',index=False)"
      ],
      "id": "ee224e61-da27-4f36-9445-7be279c5be0c"
    },
    {
      "cell_type": "code",
      "execution_count": 165,
      "metadata": {},
      "outputs": [],
      "source": [
        "data = pd.read_csv('./simulation_results/Real_simulation/pedalme_Simulation.csv')"
      ],
      "id": "961d70eb-80d9-4920-bfb6-6c75fb083429"
    },
    {
      "cell_type": "code",
      "execution_count": 166,
      "metadata": {},
      "outputs": [],
      "source": [
        "data.query(\"method=='GNAR' and mtype == 'rand'\")['mse'].mean(),data.query(\"method=='GNAR' and mtype != 'rand'\")['mse'].mean()"
      ],
      "id": "d17e311a-c0b7-4038-a084-320ac3f92471"
    },
    {
      "cell_type": "code",
      "execution_count": 167,
      "metadata": {},
      "outputs": [],
      "source": [
        "data.query(\"method=='STGCN' and mtype == 'rand'\")['mse'].mean(),data.query(\"method=='STGCN' and mtype != 'rand'\")['mse'].mean()"
      ],
      "id": "4fc5f32b-1ac7-43ea-802a-979f081ec002"
    },
    {
      "cell_type": "code",
      "execution_count": 168,
      "metadata": {},
      "outputs": [],
      "source": [
        "data.query(\"method=='IT-STGCN' and mtype == 'rand'\")['mse'].mean(),data.query(\"method=='IT-STGCN' and mtype != 'rand'\")['mse'].mean()"
      ],
      "id": "1fcdad2a-aee6-4ef7-a24f-c1ed7070d8a1"
    },
    {
      "cell_type": "markdown",
      "metadata": {},
      "source": [
        "Baseline"
      ],
      "id": "755c5fba-e95e-4b21-a3b2-a40962183372"
    },
    {
      "cell_type": "code",
      "execution_count": 169,
      "metadata": {},
      "outputs": [],
      "source": [
        "data.query(\"method!='GNAR' and mrate ==0 \").plot.box(backend='plotly',x='epoch',color='method',y='mse',facet_col='lags',height=800)\n"
      ],
      "id": "d68571a0-2d1a-4fd3-9e1a-fa00e06546fb"
    },
    {
      "cell_type": "code",
      "execution_count": 170,
      "metadata": {},
      "outputs": [],
      "source": [
        "data.query(\"method!='GNAR' and mtype =='rand' \").plot.box(backend='plotly',x='mrate',color='method',y='mse',facet_col='lags',facet_row='inter_method',height=800)\n"
      ],
      "id": "5a6dfaef-edf6-4d04-90ac-e831cc5646d1"
    },
    {
      "cell_type": "code",
      "execution_count": 172,
      "metadata": {},
      "outputs": [],
      "source": [
        "data.query(\"method!='GNAR' and mtype =='block' \").plot.box(backend='plotly',x='mrate',color='method',y='mse',facet_col='lags',facet_row='inter_method',height=600)\n"
      ],
      "id": "1e00c971-2132-4b06-a6ad-667ee7fec509"
    },
    {
      "cell_type": "markdown",
      "metadata": {},
      "source": [
        "# Wikimath\n",
        "\n",
        "-   공식 패키지: lags 8 지정\n",
        "-   오히려 cuboic 보다 linear가 더 잘 맞추는 경향\n",
        "-   mrate = 0.3\n",
        "    -   크면 이상치 심하게 나와서 작게 잡기\n",
        "-   nof_filters = 12, 16\n",
        "    -   필터 크니까 mse 내려감\n",
        "-   lags = 2,\n",
        "-   cal_time\n",
        "    -   mean = 71s\n",
        "    -   max = 212s\n",
        "\n",
        "## random"
      ],
      "id": "8d9fc7de-4672-4691-b07c-318c2a1fc64a"
    },
    {
      "cell_type": "code",
      "execution_count": 286,
      "metadata": {},
      "outputs": [],
      "source": [
        "df1 = pd.read_csv('./simulation_results/2023-04-15_16-58-03.csv')\n",
        "df2 = pd.read_csv('./simulation_results/2023-04-15_17-01-39.csv')\n",
        "df3 = pd.read_csv('./simulation_results/2023-04-15_17-07-23.csv')\n",
        "df4 = pd.read_csv('./simulation_results/2023-04-15_17-13-13.csv')\n",
        "df5 = pd.read_csv('./simulation_results/2023-04-15_17-29-49.csv')"
      ],
      "id": "4b2a426c-1946-433c-9354-40fbdd1c6104"
    },
    {
      "cell_type": "code",
      "execution_count": 289,
      "metadata": {},
      "outputs": [],
      "source": [
        "data = pd.concat([df1,df2,df3,df4,df5],axis=0)"
      ],
      "id": "a19a9442-16b9-40c3-b15b-85a9cd1dfdc8"
    },
    {
      "cell_type": "code",
      "execution_count": 290,
      "metadata": {},
      "outputs": [],
      "source": [
        "data.query(\"method=='STGCN'\").sort_values(['mrate','lags','nof_filters'])"
      ],
      "id": "2c1d0dd6-24fc-45f2-92c2-882d49eca971"
    },
    {
      "cell_type": "code",
      "execution_count": 291,
      "metadata": {},
      "outputs": [],
      "source": [
        "data.query(\"method!='STGCN'\").sort_values(['mrate','lags','nof_filters'])"
      ],
      "id": "6410faf6-d80a-4927-badf-9f78b895b416"
    },
    {
      "cell_type": "code",
      "execution_count": null,
      "metadata": {},
      "outputs": [],
      "source": [
        "data.query(\"method!='GNAR'\")['calculation_time'].mean(),data.query(\"method!='GNAR'\")['calculation_time'].max(),data.query(\"method!='GNAR'\")['calculation_time'].min()"
      ],
      "id": "867f1dce-4d68-4bfe-abaf-a1b623a826a9"
    },
    {
      "cell_type": "code",
      "execution_count": null,
      "metadata": {},
      "outputs": [],
      "source": [
        "data.query(\"mtype=='rand' and mrate != 0.9 and method!='GNAR' and inter_method=='cubic'\").plot.box(backend='plotly',x='mrate',color='method',y='mse',facet_col='lags',facet_row='nof_filters',height=1200)\n"
      ],
      "id": "5c64de28-f03d-4aba-b187-f3dcd6172b79"
    },
    {
      "cell_type": "code",
      "execution_count": null,
      "metadata": {},
      "outputs": [],
      "source": [
        "data.query(\"mtype=='rand' and method!='GNAR' and inter_method=='linear'\").plot.box(backend='plotly',x='mrate',color='method',y='mse',facet_col='lags',facet_row='nof_filters',height=1200)\n"
      ],
      "id": "cfecdbdd-b90f-47ad-95eb-fcb07a24c988"
    },
    {
      "cell_type": "markdown",
      "metadata": {},
      "source": [
        "#### 시뮬 예정(평균 시간, 평균mse)"
      ],
      "id": "931b3f97-a497-4b60-b89d-b3ae0125f18d"
    },
    {
      "cell_type": "code",
      "execution_count": null,
      "metadata": {},
      "outputs": [],
      "source": [
        "data.query(\"method !='GNAR' and mrate==0.3 and inter_method=='cubic' and nof_filters==12 and lags==8\")['calculation_time'].mean(),data.query(\"method !='GNAR' and mrate==0.3 and inter_method=='cubic' and nof_filters==12 and lags==8\")['mse'].mean()"
      ],
      "id": "594391a8-42e0-43b0-8400-73fb5b5c480f"
    },
    {
      "cell_type": "code",
      "execution_count": null,
      "metadata": {},
      "outputs": [],
      "source": [
        "data.query(\"method !='GNAR' and mrate==0.3 and inter_method=='linear' and nof_filters==12 and lags==8\")['calculation_time'].mean(),data.query(\"method !='GNAR' and mrate==0.3 and inter_method=='linear' and nof_filters==12 and lags==8\")['mse'].mean()"
      ],
      "id": "de7c237b-c506-4a14-960b-1cd9c7d4539f"
    },
    {
      "cell_type": "code",
      "execution_count": null,
      "metadata": {},
      "outputs": [],
      "source": [
        "data.query(\"method !='GNAR' and mrate==0.3 and nof_filters==12 and lags==8\").plot.box(backend='plotly',x='mrate',color='method',y='mse',facet_col='lags',facet_row='nof_filters',height=400)"
      ],
      "id": "0d573c29-773d-4250-9fd8-c7f33bbc2815"
    },
    {
      "cell_type": "markdown",
      "metadata": {},
      "source": [
        "## block"
      ],
      "id": "97ddce41-ffe2-4253-83ab-45f0596108b5"
    },
    {
      "cell_type": "code",
      "execution_count": null,
      "metadata": {},
      "outputs": [],
      "source": [
        "data = pd.read_csv('./simulation_results/wiki_block.csv');data"
      ],
      "id": "67a8fad5-8242-4a8d-bbb2-69d7c5bbe777"
    },
    {
      "cell_type": "code",
      "execution_count": null,
      "metadata": {},
      "outputs": [],
      "source": [
        "data.query(\"method!='GNAR'\")['calculation_time'].mean(),data.query(\"method!='GNAR'\")['calculation_time'].max(),data.query(\"method!='GNAR'\")['calculation_time'].min()"
      ],
      "id": "2a0f857c-9c70-4865-8ff5-8b341cd08f4f"
    },
    {
      "cell_type": "code",
      "execution_count": null,
      "metadata": {},
      "outputs": [],
      "source": [
        "data.query(\"method!='GNAR' and inter_method=='cubic'\").plot.box(backend='plotly',x='mrate',color='method',y='mse',facet_col='lags',facet_row='nof_filters',height=1200)\n"
      ],
      "id": "e16e2af2-1278-4c0f-bd1c-5a3113bb6c0b"
    },
    {
      "cell_type": "code",
      "execution_count": null,
      "metadata": {},
      "outputs": [],
      "source": [
        "data.query(\"inter_method=='linear'\").plot.box(backend='plotly',x='mrate',color='method',y='mse',facet_col='lags',facet_row='nof_filters',height=1200)\n"
      ],
      "id": "28be38e7-bf63-4f01-8643-1590c6169acd"
    },
    {
      "cell_type": "markdown",
      "metadata": {},
      "source": [
        "#### 시뮬 예정(평균 시간, 평균mse)"
      ],
      "id": "9b2c8b1f-c25e-4ade-b4d5-5f5d6672e239"
    },
    {
      "cell_type": "code",
      "execution_count": null,
      "metadata": {},
      "outputs": [],
      "source": [
        "data.query(\"inter_method=='linear' and nof_filters==12 and lags==8\")['calculation_time'].mean(),data.query(\"inter_method=='linear' and nof_filters==12 and lags==8\")['mse'].mean()"
      ],
      "id": "a1e4b02f-3c6f-40aa-9a1a-e3c34573e2fa"
    },
    {
      "cell_type": "code",
      "execution_count": null,
      "metadata": {},
      "outputs": [],
      "source": [
        "data.query(\"inter_method=='linear' and nof_filters==12 and lags==8\").plot.box(backend='plotly',x='mrate',color='method',y='mse',facet_col='lags',facet_row='nof_filters',height=400)"
      ],
      "id": "cda00f1b-61cc-4753-8b89-41f1dd357d29"
    },
    {
      "cell_type": "markdown",
      "metadata": {},
      "source": [
        "# Windmilmedium"
      ],
      "id": "1c574e7f-880d-4a62-ad9a-3ddaebdbb4a5"
    },
    {
      "cell_type": "code",
      "execution_count": 229,
      "metadata": {},
      "outputs": [],
      "source": [
        "df1 = pd.read_csv('./simulation_results/2023-04-15_09-06-12.csv') # GNAR\n",
        "df2 = pd.read_csv('./simulation_results/2023-04-15_09-19-44.csv') # STGCN IT-STGCN\n",
        "df3 = pd.read_csv('./simulation_results/2023-04-15_09-28-32.csv') # STGCN IT-STGCN\n",
        "df4 = pd.read_csv('./simulation_results/2023-04-15_09-36-55.csv') # STGCN IT-STGCN\n",
        "df5 = pd.read_csv('./simulation_results/2023-04-15_09-54-30.csv') # STGCN IT-STGCN\n",
        "df6 = pd.read_csv('./simulation_results/2023-04-15_10-03-08.csv') # STGCN IT-STGCN\n",
        "df7 = pd.read_csv('./simulation_results/2023-04-15_10-15-48.csv') # STGCN IT-STGCN\n",
        "df8 = pd.read_csv('./simulation_results/2023-04-15_10-25-19.csv') # STGCN IT-STGCN\n",
        "df9 = pd.read_csv('./simulation_results/2023-04-15_10-34-48.csv') # STGCN IT-STGCN\n",
        "df10 = pd.read_csv('./simulation_results/2023-04-15_10-43-02.csv') # STGCN IT-STGCN"
      ],
      "id": "3d72e139-80b4-4e98-9e98-5930211166c6"
    },
    {
      "cell_type": "code",
      "execution_count": 230,
      "metadata": {},
      "outputs": [],
      "source": [
        "data = pd.concat([df1,df2,df3,df4,df5,df6,df7,df8,df9,df10],axis=0)"
      ],
      "id": "1b8d558b-504e-4532-b18d-9fde1c8050de"
    },
    {
      "cell_type": "code",
      "execution_count": 231,
      "metadata": {},
      "outputs": [],
      "source": [
        "data.query(\"method=='GNAR'\")"
      ],
      "id": "aeaac56e-bde6-4da7-9294-c1d34ebb9b43"
    },
    {
      "cell_type": "code",
      "execution_count": 232,
      "metadata": {},
      "outputs": [],
      "source": [
        "data.query(\"method!='GNAR' and method=='STGCN'\").sort_values(['mrate','nof_filters'])"
      ],
      "id": "9fd89b10-3191-40b9-9aa9-53c3e9a4aa5e"
    },
    {
      "cell_type": "code",
      "execution_count": 233,
      "metadata": {},
      "outputs": [],
      "source": [
        "data.query(\"method!='GNAR' and method!='STGCN'\").sort_values(['mrate','nof_filters'])"
      ],
      "id": "13b8e2af-e0af-4b6a-9c8d-d767fe8cc688"
    },
    {
      "cell_type": "markdown",
      "metadata": {},
      "source": [
        "linear, 0.7\\~0.9, 4,8,"
      ],
      "id": "61a62117-0fc5-4141-abf4-236b981771eb"
    },
    {
      "cell_type": "code",
      "execution_count": null,
      "metadata": {},
      "outputs": [],
      "source": [
        "data.to_csv('./simulation_results/Real_simulation/windmilmedium_Simulation.csv',index=False)"
      ],
      "id": "1f382ef0-feb5-4d6e-9881-ff895fe7598c"
    },
    {
      "cell_type": "code",
      "execution_count": null,
      "metadata": {},
      "outputs": [],
      "source": [
        "data.query(\"method!='GNAR'\")['calculation_time'].mean(),data.query(\"method!='GNAR'\")['calculation_time'].max(),data.query(\"method!='GNAR'\")['calculation_time'].min()"
      ],
      "id": "511620fe-a23d-4a4c-9762-b1e1e6f564a5"
    },
    {
      "cell_type": "markdown",
      "metadata": {},
      "source": [
        "## random\n",
        "\n",
        "## block\n",
        "\n",
        "# Windmilsmall"
      ],
      "id": "d58ae88e-2c17-4f20-bd5c-53098405bcfe"
    },
    {
      "cell_type": "code",
      "execution_count": 240,
      "metadata": {},
      "outputs": [],
      "source": [
        "df1 = pd.read_csv('./simulation_results/2023-04-15_10-59-28.csv') # GNAR\n",
        "df2 = pd.read_csv('./simulation_results/2023-04-15_11-15-05.csv') # STGCN IT-STGCN\n",
        "df3 = pd.read_csv('./simulation_results/2023-04-15_11-30-48.csv') # STGCN IT-STGCN\n",
        "df4 = pd.read_csv('./simulation_results/2023-04-15_11-46-45.csv') # STGCN IT-STGCN\n",
        "df5 = pd.read_csv('./simulation_results/2023-04-15_12-02-19.csv') # STGCN IT-STGCN\n",
        "df6 = pd.read_csv('./simulation_results/2023-04-15_15-00-32.csv') # STGCN IT-STGCN\n",
        "# df7 = pd.read_csv('./simulation_results/2023-04-15_10-15-48.csv') # STGCN IT-STGCN\n",
        "# df8 = pd.read_csv('./simulation_results/2023-04-15_10-25-19.csv') # STGCN IT-STGCN\n",
        "# df9 = pd.read_csv('./simulation_results/2023-04-15_10-34-48.csv') # STGCN IT-STGCN\n",
        "# df10 = pd.read_csv('./simulation_results/2023-04-15_10-43-02.csv') # STGCN IT-STGCN"
      ],
      "id": "cd706461-8362-4766-8378-1b1e004fdbb5"
    },
    {
      "cell_type": "code",
      "execution_count": 241,
      "metadata": {},
      "outputs": [],
      "source": [
        "data = pd.concat([df1,df2,df3,df4,df5,df6],axis=0)"
      ],
      "id": "55a0e3fc-eced-4d4a-bb55-5bd871bbfd66"
    },
    {
      "cell_type": "code",
      "execution_count": 245,
      "metadata": {},
      "outputs": [],
      "source": [
        "data.query(\"method=='GNAR'\").sort_values(['mrate','nof_filters'])"
      ],
      "id": "09c7caef-0989-4175-a7c4-08e7c38a06ed"
    },
    {
      "cell_type": "code",
      "execution_count": 243,
      "metadata": {},
      "outputs": [],
      "source": [
        "data.query(\"method!='GNAR' and method=='STGCN'\").sort_values(['mrate','nof_filters'])"
      ],
      "id": "6a0b5fab-7b55-487a-a802-feb85cf39146"
    },
    {
      "cell_type": "code",
      "execution_count": 244,
      "metadata": {},
      "outputs": [],
      "source": [
        "data.query(\"method!='GNAR' and method!='STGCN'\").sort_values(['mrate','nof_filters'])"
      ],
      "id": "cf3722a4-b5d6-424d-8de7-6c84ed11d0ad"
    },
    {
      "cell_type": "markdown",
      "metadata": {},
      "source": [
        "linear, lags 4,8. filter 8,12\n",
        "\n",
        "## random\n",
        "\n",
        "## block"
      ],
      "id": "22da36dc-2c8c-44e4-864b-877be8fa3066"
    }
  ],
  "nbformat": 4,
  "nbformat_minor": 5,
  "metadata": {
    "kernelspec": {
      "name": "python3",
      "display_name": "Python 3 (ipykernel)",
      "language": "python"
    },
    "language_info": {
      "name": "python",
      "codemirror_mode": {
        "name": "ipython",
        "version": "3"
      },
      "file_extension": ".py",
      "mimetype": "text/x-python",
      "nbconvert_exporter": "python",
      "pygments_lexer": "ipython3",
      "version": "3.8.12"
    }
  }
}
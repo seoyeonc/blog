{
  "cells": [
    {
      "cell_type": "markdown",
      "metadata": {},
      "source": [
        "# Simulation\n",
        "\n",
        "SEOYEON CHOI  \n",
        "4/5/23\n",
        "\n",
        "> Simulation Study\n",
        "\n",
        "# Import\n",
        "\n",
        "데이터 함쳐놓기\n",
        "\n",
        "``` python\n",
        "import pandas as pd\n",
        "\n",
        "_a = pd.read_csv('./simulation_results/a.csv')\n",
        "_b = pd.read_csv('./simulation_results/b.csv')\n",
        "_c = pd.read_csv('./simulation_results/STGCN_ITSTGCN_random_epoch200.csv')\n",
        "\n",
        "_df = pd.concat([_a,_b,_c],axis=0)\n",
        "\n",
        "_df\n",
        "\n",
        "_df.to_csv('./simulation_results/STGCN_ITSTGCN_random_epoch200_2.csv',index=False)\n",
        "```"
      ],
      "id": "01b79dd5-2b51-49fb-9aed-0c86d344b791"
    },
    {
      "cell_type": "code",
      "execution_count": 2,
      "metadata": {},
      "outputs": [],
      "source": [
        "import matplotlib.pyplot as plt\n",
        "import pandas as pd\n",
        "import numpy as np"
      ],
      "id": "443d4d70-8351-456e-9a2e-581824af9ef7"
    },
    {
      "cell_type": "markdown",
      "metadata": {},
      "source": [
        "# Fivenodes\n",
        "\n",
        "**random**\n",
        "\n",
        "-   lags = 2\n",
        "    -   GNAR 문서에 나온 대로 AR(2) 모형\n",
        "\n",
        "1.  mrate = 0.8, filter = 12, epoch = 150\n",
        "2.  mrate = 0.3, filter = 8, epoch = 50\n",
        "\n",
        "-   interpolation = linear 또는 cubic, nearest 는 mse 너무 우리 방법에서\n",
        "    안 좋다.\n",
        "\n",
        "**block**\n",
        "\n",
        "## random"
      ],
      "id": "52446e33-fc6a-43e1-bab6-53d20a676469"
    },
    {
      "cell_type": "code",
      "execution_count": 283,
      "metadata": {},
      "outputs": [],
      "source": [
        "df1 = pd.read_csv('./simulation_results/fivenodes/fivenodes_STGCN_ITSTGCN_random_epoch50.csv')\n",
        "df2 = pd.read_csv('./simulation_results/fivenodes/fivenodes_STGCN_ITSTGCN_random_epoch100.csv')\n",
        "df3 = pd.read_csv('./simulation_results/fivenodes/fivenodes_STGCN_ITSTGCN_random_epoch150.csv')\n",
        "df4 = pd.read_csv('./simulation_results/fivenodes/fivenodes_STGCN_ITSTGCN_random_epoch200.csv')"
      ],
      "id": "126023cc-f0b3-4c1a-91c2-5f0f3fbb7d08"
    },
    {
      "cell_type": "code",
      "execution_count": 284,
      "metadata": {},
      "outputs": [],
      "source": [
        "df_gnar = pd.read_csv('./simulation_results/fivenodes/fivenodes_GNAR_random.csv')"
      ],
      "id": "1de77491-6148-444d-b059-5687e89bea5c"
    },
    {
      "cell_type": "code",
      "execution_count": 285,
      "metadata": {},
      "outputs": [],
      "source": [
        "data = pd.concat([df1,df2,df3,df4,df_gnar],axis=0)"
      ],
      "id": "fdedb01a-1163-4b3f-82a8-8c78a7a6d632"
    },
    {
      "cell_type": "code",
      "execution_count": 206,
      "metadata": {},
      "outputs": [],
      "source": [
        "data.query(\"method!='GNAR' and inter_method=='linear' and lags==2\").plot.box(backend='plotly',x='mrate',color='method',y='mse',facet_col='epoch',facet_row='nof_filters',height=1200)\n"
      ],
      "id": "bdd85b4a-d3f4-456f-b2f0-00e84fca6a0f"
    },
    {
      "cell_type": "markdown",
      "metadata": {},
      "source": [
        "#### 시뮬 예정(평균 시간, 평균mse)\n",
        "\n",
        "0.7,0.75,0.8,0.85\n",
        "\n",
        "12,16\n",
        "\n",
        "150"
      ],
      "id": "77b725c3-0eb9-497a-8ed1-9165f4023eba"
    },
    {
      "cell_type": "code",
      "execution_count": 242,
      "metadata": {},
      "outputs": [],
      "source": [
        "# 1. mrate = 0.8, filter = 12, epoch = 150\n",
        "data.query(\"mrate==0.8 and inter_method=='linear' and nof_filters==12 and epoch==150 and lags==2\")['calculation_time'].mean(),data.query(\"mrate==0.8 and inter_method=='linear' and nof_filters==12 and epoch==150 and lags==2\")['mse'].mean()"
      ],
      "id": "f86b7f37-d48a-4d1b-994e-6b508c727689"
    },
    {
      "cell_type": "code",
      "execution_count": 290,
      "metadata": {},
      "outputs": [],
      "source": [
        "data.query(\"mrate==0.8 and inter_method=='linear' and nof_filters==12 and epoch==150 and lags==2\").plot.box(backend='plotly',x='mrate',color='method',y='mse',facet_col='epoch',facet_row='nof_filters',height=400)"
      ],
      "id": "bcd133e1-4cce-4d60-8345-24b30aa63db6"
    },
    {
      "cell_type": "markdown",
      "metadata": {},
      "source": [
        "## block"
      ],
      "id": "afe07ac5-6371-4536-be5e-1bfe1ffa7efa"
    },
    {
      "cell_type": "code",
      "execution_count": 292,
      "metadata": {},
      "outputs": [],
      "source": [
        "df1 = pd.read_csv('./simulation_results/fivenodes/fivenodes_STGCN_ITSTGCN_block_node1_epoch50.csv')\n",
        "df2 = pd.read_csv('./simulation_results/fivenodes/fivenodes_STGCN_ITSTGCN_block_node1_epoch100.csv')\n",
        "df3 = pd.read_csv('./simulation_results/fivenodes/fivenodes_STGCN_ITSTGCN_block_node1_epoch150.csv')\n",
        "df4 = pd.read_csv('./simulation_results/fivenodes/fivenodes_STGCN_ITSTGCN_block_node1_epoch200.csv')\n",
        "df5 = pd.read_csv('./simulation_results/fivenodes/fivenodes_STGCN_ITSTGCN_block_node2_epoch50.csv')\n",
        "df6 = pd.read_csv('./simulation_results/fivenodes/fivenodes_STGCN_ITSTGCN_block_node2_epoch100.csv')\n",
        "df7 = pd.read_csv('./simulation_results/fivenodes/fivenodes_STGCN_ITSTGCN_block_node2_epoch150.csv')\n",
        "df8 = pd.read_csv('./simulation_results/fivenodes/fivenodes_GNAR_block_node1.csv')\n",
        "df9 = pd.read_csv('./simulation_results/fivenodes/fivenodes_GNAR_block_node2.csv')"
      ],
      "id": "711d329c-7e4a-44ed-baf3-dad43389644d"
    },
    {
      "cell_type": "code",
      "execution_count": 293,
      "metadata": {},
      "outputs": [],
      "source": [
        "df1['block']=1\n",
        "df2['block']=1\n",
        "df3['block']=1\n",
        "df4['block']=1\n",
        "df5['block']=2\n",
        "df6['block']=2\n",
        "df7['block']=2\n",
        "df8['block']=1\n",
        "df9['block']=2"
      ],
      "id": "28159432-f632-4a49-871f-3ccc626c4697"
    },
    {
      "cell_type": "code",
      "execution_count": 294,
      "metadata": {},
      "outputs": [],
      "source": [
        "data2 = pd.concat([df1,df2,df3,df4,df5,df6,df7,df8,df9],axis=0)"
      ],
      "id": "d358cc39-0be2-48c5-8dd9-b66b26446e32"
    },
    {
      "cell_type": "code",
      "execution_count": 296,
      "metadata": {},
      "outputs": [],
      "source": [
        "data2.query(\"method=='GNAR' and block == 1\")['mse'].mean(),data2.query(\"method=='GNAR' and block == 2\")['mse'].mean()"
      ],
      "id": "b20d380f-3275-49b4-ab47-c065097f73ec"
    },
    {
      "cell_type": "code",
      "execution_count": 297,
      "metadata": {},
      "outputs": [],
      "source": [
        "data2.query(\"method=='GNAR' and inter_method == 'linear'\")['mse'].mean(),data2.query(\"method=='GNAR' and inter_method == 'nearest'\")['mse'].mean() # 차이 없음"
      ],
      "id": "f3c4110a-83c1-47df-a954-659daa293c91"
    },
    {
      "cell_type": "code",
      "execution_count": 298,
      "metadata": {},
      "outputs": [],
      "source": [
        "data2.query(\"epoch==50\")['calculation_time'].mean(),data2.query(\"epoch==50\")['calculation_time'].max()"
      ],
      "id": "d6bf76ba-a3bf-41da-80c5-7949c41fb5f5"
    },
    {
      "cell_type": "code",
      "execution_count": 299,
      "metadata": {},
      "outputs": [],
      "source": [
        "data2.query(\"epoch==150\")['calculation_time'].mean(),data2.query(\"epoch==150\")['calculation_time'].max()"
      ],
      "id": "876bc052-31e2-476b-a787-6e94843d4cc1"
    },
    {
      "cell_type": "code",
      "execution_count": 300,
      "metadata": {},
      "outputs": [],
      "source": [
        "data2.query(\"method!='GNAR' and lags == 2 and inter_method=='nearest'\").plot.box(backend='plotly',x='block',color='method',y='mse',facet_col='epoch',facet_row='nof_filters',height=800)\n"
      ],
      "id": "167d7772-f766-4cdb-8b32-bbf6277151a4"
    },
    {
      "cell_type": "code",
      "execution_count": 301,
      "metadata": {},
      "outputs": [],
      "source": [
        "data2.query(\"inter_method=='linear' and epoch==150\").plot.box(backend='plotly',x='block',color='method',y='mse',facet_col='lags',facet_row='nof_filters',height=1200)\n"
      ],
      "id": "c1ad2564-475d-415d-b0a2-eded00d891f3"
    },
    {
      "cell_type": "markdown",
      "metadata": {},
      "source": [
        "#### 시뮬 예정(평균 시간, 평균mse)\n",
        "\n",
        "block 1,2 위 세팅 그대로\n",
        "\n",
        "랜덤ㅁ 말고 block만"
      ],
      "id": "1cd3a492-9ceb-43f5-b454-c7e20c414c57"
    },
    {
      "cell_type": "code",
      "execution_count": 306,
      "metadata": {},
      "outputs": [],
      "source": [
        "# 1. block = 2 interpolation = linear, filter = 12, epoch = 150\n",
        "data2.query(\"block==1 and inter_method=='linear' and nof_filters==12 and epoch==50 and lags==2\")['calculation_time'].mean(),data2.query(\"block==2 and inter_method=='linear' and nof_filters==12 and epoch==50 and lags==2\")['mse'].mean()"
      ],
      "id": "40ce9642-3abf-494b-8c1a-8c1f9c52d587"
    },
    {
      "cell_type": "code",
      "execution_count": 307,
      "metadata": {},
      "outputs": [],
      "source": [
        "data2.query(\"block==1 and inter_method=='linear' and nof_filters==12 and epoch==50 and lags==2\").plot.box(backend='plotly',x='block',color='method',y='mse',facet_col='epoch',facet_row='nof_filters',height=400)"
      ],
      "id": "aad90a3a-1405-4744-a388-0ae3720a4730"
    },
    {
      "cell_type": "markdown",
      "metadata": {},
      "source": [
        "# fivenodes simulation result\n",
        "\n",
        "``` python\n",
        "mindex= [[],[],[],list(range(50,150)),[]] # block 1\n",
        "mindex= [list(range(10,100)),[],list(range(50,80)),[],[]] # node 2 30% mmissing\n",
        "```\n",
        "\n",
        "block 조건"
      ],
      "id": "83cde006-fb91-4967-b0a8-85904bef6d52"
    },
    {
      "cell_type": "code",
      "execution_count": 135,
      "metadata": {},
      "outputs": [],
      "source": [
        "df1 = pd.read_csv('./simulation_results/2023-04-09_23-37-17.csv') # GNAR random\n",
        "df2 = pd.read_csv('./simulation_results/2023-04-10_07-06-32.csv') # STGCN, ITSTGCN random 70%, 75%\n",
        "df3 = pd.read_csv('./simulation_results/2023-04-10_14-54-51.csv') # STGCN, ITSTGCN random 80%, 85%\n",
        "df4 = pd.read_csv('./simulation_results/2023-04-10_15-54-03.csv') # GNAR block 1\n",
        "df5 = pd.read_csv('./simulation_results/2023-04-10_15-56-27.csv') # GNAR block 2\n",
        "df6 = pd.read_csv('./simulation_results/2023-04-10_23-44-52.csv') # STGCN, ITSTGCN block 1\n",
        "df7 = pd.read_csv('./simulation_results/2023-04-11_04-40-00.csv') # STGCN, ITSTGCN block 2\n",
        "df8 = pd.read_csv('./simulation_results/2023-04-14_21-21-34.csv') # S/TGCN, ITSTGCN missing 0"
      ],
      "id": "337fa552-a167-4aa0-9d1c-a661eb04467d"
    },
    {
      "cell_type": "code",
      "execution_count": 136,
      "metadata": {},
      "outputs": [],
      "source": [
        "data = pd.concat([df1,df2, df3, df4,df5,df6,df7,df8],axis=0);data"
      ],
      "id": "e40cfb41-9346-472f-9570-5494d8128839"
    },
    {
      "cell_type": "code",
      "execution_count": 137,
      "metadata": {},
      "outputs": [],
      "source": [
        "data.to_csv('./simulation_results/Real_simulation/fivedones_Simulation.csv',index=False)"
      ],
      "id": "8724c775-10b2-4350-b167-bcbaa8e5fcc8"
    },
    {
      "cell_type": "code",
      "execution_count": 138,
      "metadata": {},
      "outputs": [],
      "source": [
        "data = pd.read_csv('./simulation_results/Real_simulation/fivedones_Simulation.csv')"
      ],
      "id": "e458f2c9-2244-4634-8184-c0e9c1dcea85"
    },
    {
      "cell_type": "code",
      "execution_count": 139,
      "metadata": {},
      "outputs": [],
      "source": [
        "data.query(\"method=='GNAR' and mtype == 'rand'\")['mse'].mean(),data.query(\"method=='GNAR' and mtype != 'rand'\")['mse'].mean()"
      ],
      "id": "71e1dee4-02fc-4ff2-a71c-415aa8ad4c67"
    },
    {
      "cell_type": "code",
      "execution_count": 140,
      "metadata": {},
      "outputs": [],
      "source": [
        "data.query(\"method=='STGCN' and mtype == 'rand'\")['mse'].mean(),data.query(\"method=='STGCN' and mtype != 'rand'\")['mse'].mean()"
      ],
      "id": "fc16d067-9fef-4cbd-8c90-d20d1a15af30"
    },
    {
      "cell_type": "code",
      "execution_count": 141,
      "metadata": {},
      "outputs": [],
      "source": [
        "data.query(\"method=='IT-STGCN' and mtype == 'rand'\")['mse'].mean(),data.query(\"method=='IT-STGCN' and mtype != 'rand'\")['mse'].mean()"
      ],
      "id": "ca8c3659-a21e-47c1-a897-c55877a3fdde"
    },
    {
      "cell_type": "markdown",
      "metadata": {},
      "source": [
        "Baseline"
      ],
      "id": "bca8eeb2-4567-4391-885f-0d2ecd2f649f"
    },
    {
      "cell_type": "code",
      "execution_count": 142,
      "metadata": {
        "tags": []
      },
      "outputs": [],
      "source": [
        "data.query(\"method!='GNAR' and mrate==0\").plot.box(backend='plotly',x='mrate',color='method',y='mse',facet_col='nof_filters',height=600)\n"
      ],
      "id": "86290147-dc38-4fc7-8411-e6b67f1348f1"
    },
    {
      "cell_type": "code",
      "execution_count": 144,
      "metadata": {},
      "outputs": [],
      "source": [
        "data.query(\"method!='GNAR' and mtype =='rand' and (mrate==0.7 or mrate==0.75)\").plot.box(backend='plotly',x='mrate',color='method',y='mse',facet_col='nof_filters',facet_row='inter_method',height=600)\n"
      ],
      "id": "92619d59-5c93-4b74-95ce-24de1554ed91"
    },
    {
      "cell_type": "code",
      "execution_count": 145,
      "metadata": {},
      "outputs": [],
      "source": [
        "data.query(\"method!='GNAR' and mtype =='rand'  and (mrate==0.8 or mrate==0.85)\").plot.box(backend='plotly',x='mrate',color='method',y='mse',facet_col='nof_filters',facet_row='inter_method',height=600)\n"
      ],
      "id": "52eb5b00-f397-4ff7-83fb-f0e927a60a69"
    },
    {
      "cell_type": "code",
      "execution_count": 28,
      "metadata": {},
      "outputs": [],
      "source": [
        "data.query(\"method!='GNAR' and mtype =='block' and inter_method=='linear' \").plot.box(backend='plotly',x='mrate',color='method',y='mse',facet_col='nof_filters',facet_row='inter_method',height=600)\n"
      ],
      "id": "24e3ff3e-71a7-4a1a-8fe9-52ab82d2babc"
    },
    {
      "cell_type": "markdown",
      "metadata": {},
      "source": [
        "# chickenpox\n",
        "\n",
        "## random\n",
        "\n",
        "-   공식 패키지: lags 4 지정\n",
        "-   mrate = 0.3\n",
        "    -   결측값 비율 크니까 오차 많이 커지는 경향 있어서\n",
        "-   nof_filters = 4\n",
        "    -   차이 없어서\n",
        "-   lags = 4, 8\n",
        "    -   클 수록 작아지는 경향 있어서\n",
        "-   GNAR보다 MSE는 낮음\n",
        "-   cal_time\n",
        "    -   mean = 10\n",
        "    -   max = 21\n",
        "-   block 은 임의로 한 노드만 해 본 결과임"
      ],
      "id": "f7a9c03f-1bf7-4ab9-88f9-10b868db4703"
    },
    {
      "cell_type": "code",
      "execution_count": 6,
      "metadata": {},
      "outputs": [],
      "source": [
        "data = pd.read_csv('./simulation_results/chickenpox_random.csv').sort_values(by='lags')"
      ],
      "id": "71456358-5e7b-4dfc-b3a0-b4518821dee7"
    },
    {
      "cell_type": "code",
      "execution_count": 8,
      "metadata": {},
      "outputs": [],
      "source": [
        "data.query(\"method!='GNAR'\")['calculation_time'].mean(),data.query(\"method!='GNAR'\")['calculation_time'].max(),data.query(\"method!='GNAR'\")['calculation_time'].min()"
      ],
      "id": "e185ac57-ad9a-40e3-b2ce-5a8f88f41d92"
    },
    {
      "cell_type": "code",
      "execution_count": 12,
      "metadata": {},
      "outputs": [],
      "source": [
        "data.query(\"method!='GNAR' and inter_method=='cubic' and mrate==0.3\").plot.box(backend='plotly',x='mrate',color='method',y='mse',facet_col='lags',facet_row='nof_filters',height=1200)\n"
      ],
      "id": "0c3d26fc-f112-4179-9a01-83414d4ef520"
    },
    {
      "cell_type": "code",
      "execution_count": 10,
      "metadata": {},
      "outputs": [],
      "source": [
        "data.query(\"method=='GNAR' and inter_method=='linear'\").plot.box(backend='plotly',x='mrate',color='method',y='mse',facet_col='lags',height=600)\n"
      ],
      "id": "1a478ebb-b2a0-46af-9ff7-81c8779e901f"
    },
    {
      "cell_type": "markdown",
      "metadata": {},
      "source": [
        "#### 시뮬 예정(평균 시간, 평균mse)\n",
        "\n",
        "epoch = 50\n",
        "\n",
        "mrate = 0.3\\~0.5\n",
        "\n",
        "filter 32 공식예제로 가기 하고 샆으면 3개 정도 추가로"
      ],
      "id": "669c8c5b-5117-4702-ba95-fdf493d0917a"
    },
    {
      "cell_type": "code",
      "execution_count": 469,
      "metadata": {},
      "outputs": [],
      "source": [
        "# 1. mrate = 0.3, filter = 4, epoch = 50, lags = 4\n",
        "data.query(\"method !='GNAR' and mrate==0.3 and inter_method=='cubic' and nof_filters==4 and lags==2\")['calculation_time'].mean(),data.query(\"method != 'GNAR' and mrate==0.3 and inter_method=='cubic' and nof_filters==4 and lags==2\")['mse'].mean()"
      ],
      "id": "4ffe2e0f-8d6a-4ddf-ae3d-9a9190ed4762"
    },
    {
      "cell_type": "code",
      "execution_count": 470,
      "metadata": {},
      "outputs": [],
      "source": [
        "data.query(\"method !='GNAR' and mrate==0.3 and inter_method=='cubic' and nof_filters==4 and lags==2\").plot.box(backend='plotly',x='mrate',color='method',y='mse',facet_col='lags',facet_row='nof_filters',height=400)\n"
      ],
      "id": "54273e49-990b-46f4-91be-bf36c629aeac"
    },
    {
      "cell_type": "markdown",
      "metadata": {},
      "source": [
        "## block"
      ],
      "id": "c824fe18-fbb1-4934-ad99-ede77beaf11c"
    },
    {
      "cell_type": "code",
      "execution_count": 15,
      "metadata": {},
      "outputs": [],
      "source": [
        "data = pd.read_csv('./simulation_results/chickenpox_block.csv')"
      ],
      "id": "118425e9-068f-4d5e-a38a-ab378a3d180c"
    },
    {
      "cell_type": "code",
      "execution_count": 21,
      "metadata": {},
      "outputs": [],
      "source": [
        "data.query(\"method != 'GNAR' and lags!=4 and lags!=6 and inter_method !='linear'\").plot.box(backend='plotly',x='nof_filters',color='method',y='mse',facet_col='lags',facet_row='inter_method',height=600)\n"
      ],
      "id": "dec40c25-286d-4f13-916c-2e10517691b3"
    },
    {
      "cell_type": "code",
      "execution_count": 473,
      "metadata": {},
      "outputs": [],
      "source": [
        "data.query(\"method=='GNAR'\").plot.box(backend='plotly',x='mrate',color='inter_method',y='mse',facet_col='lags',height=600)\n"
      ],
      "id": "42307b07-c1fe-4ce8-8948-dc7e14fbd6e0"
    },
    {
      "cell_type": "markdown",
      "metadata": {},
      "source": [
        "#### 시뮬 예정(평균 시간, 평균mse)\n",
        "\n",
        "block, rand 다\n",
        "\n",
        "공식예제 수 따라\n",
        "\n",
        "epoch 50\n",
        "\n",
        "나중에 시간 남으면 100"
      ],
      "id": "9c70f70e-7416-4960-8664-f33d899d3d0a"
    },
    {
      "cell_type": "code",
      "execution_count": 486,
      "metadata": {},
      "outputs": [],
      "source": [
        "data.query(\"inter_method=='cubic' and nof_filters==4 and lags==8\").plot.box(backend='plotly',x='mrate',color='method',y='mse',facet_col='lags',facet_row='nof_filters',height=400)\n"
      ],
      "id": "82b095f5-8234-475a-ad28-6afefa9fc672"
    },
    {
      "cell_type": "markdown",
      "metadata": {},
      "source": [
        "# chikenpox simulation result\n",
        "\n",
        "``` python\n",
        "my_list = [[] for _ in range(20)] #chickenpox\n",
        "another_list = list(range(100,400))\n",
        "my_list[1] = another_list\n",
        "my_list[3] = another_list\n",
        "my_list[5] = another_list\n",
        "my_list[7] = another_list\n",
        "my_list[9] = another_list\n",
        "my_list[11] = another_list\n",
        "my_list[13] = another_list\n",
        "my_list[15] = another_list\n",
        "mindex = my_list\n",
        "```\n",
        "\n",
        "block 30% missing을 위한 조건"
      ],
      "id": "a99374cd-965d-4879-ab83-acef13ffd610"
    },
    {
      "cell_type": "code",
      "execution_count": 146,
      "metadata": {},
      "outputs": [],
      "source": [
        "df1 = pd.read_csv('./simulation_results/2023-04-11_06-56-35.csv') # GNAR random\n",
        "df2 = pd.read_csv('./simulation_results/2023-04-11_07-01-42.csv') # GNAR block\n",
        "df3 = pd.read_csv('./simulation_results/2023-04-11_18-20-22.csv') # STGCN, ITSTGCN random 30%\n",
        "df4 = pd.read_csv('./simulation_results/2023-04-12_05-44-19.csv') # STGCN, ITSTGCN random 40%\n",
        "df5 = pd.read_csv('./simulation_results/2023-04-12_17-03-28.csv') # STGCN, ITSTGCN random 50%\n",
        "df6 = pd.read_csv('./simulation_results/2023-04-13_18-59-17.csv') # STGCN, ITSTGCN block cubic\n",
        "df7 = pd.read_csv('./simulation_results/2023-04-14_00-57-11.csv') # STGCN, ITSTGCN block linear\n",
        "df8 = pd.read_csv('./simulation_results/2023-04-14_12-55-58.csv') # STGCN, ITSTGCN 0% missing"
      ],
      "id": "637919e7-a76a-4450-a64c-77cf47f617d6"
    },
    {
      "cell_type": "code",
      "execution_count": 147,
      "metadata": {},
      "outputs": [],
      "source": [
        "data = pd.concat([df1,df2,df3,df4,df5,df6,df7,df8],axis=0);data"
      ],
      "id": "870b0189-81ae-4760-aa5b-97fe132c336b"
    },
    {
      "cell_type": "code",
      "execution_count": 148,
      "metadata": {},
      "outputs": [],
      "source": [
        "data.to_csv('./simulation_results/Real_simulation/chikenpox_Simulation.csv',index=False)"
      ],
      "id": "adb05177-af5f-49a1-9766-6eae09529c2e"
    },
    {
      "cell_type": "code",
      "execution_count": 149,
      "metadata": {},
      "outputs": [],
      "source": [
        "data = pd.read_csv('./simulation_results/Real_simulation/chikenpox_Simulation.csv')"
      ],
      "id": "b7838562-74d0-431c-b5a4-19c080d9c7db"
    },
    {
      "cell_type": "code",
      "execution_count": 150,
      "metadata": {},
      "outputs": [],
      "source": [
        "data.query(\"method=='GNAR' and mtype == 'rand'\")['mse'].mean(),data.query(\"method=='GNAR' and mtype != 'rand'\")['mse'].mean()"
      ],
      "id": "4c8586cd-4125-4b3f-b5cf-a6a59dd4d7b4"
    },
    {
      "cell_type": "code",
      "execution_count": 151,
      "metadata": {},
      "outputs": [],
      "source": [
        "data.query(\"method=='STGCN' and mtype == 'rand'\")['mse'].mean(),data.query(\"method=='STGCN' and mtype != 'rand'\")['mse'].mean()"
      ],
      "id": "62ea97de-1074-429b-bb6b-80b55bf27449"
    },
    {
      "cell_type": "code",
      "execution_count": 152,
      "metadata": {},
      "outputs": [],
      "source": [
        "data.query(\"method=='IT-STGCN' and mtype == 'rand'\")['mse'].mean(),data.query(\"method=='IT-STGCN' and mtype != 'rand'\")['mse'].mean()"
      ],
      "id": "b278ffca-2f48-4d91-a529-ee2387ff0e0b"
    },
    {
      "cell_type": "code",
      "execution_count": 157,
      "metadata": {},
      "outputs": [],
      "source": [
        "data.query(\"method!='GNAR' and mrate ==0 \").plot.box(backend='plotly',x='mrate',color='method',y='mse',facet_col='nof_filters',height=600)\n"
      ],
      "id": "53b73926-a98b-4ba8-a136-71e91a7e8b17"
    },
    {
      "cell_type": "code",
      "execution_count": 153,
      "metadata": {},
      "outputs": [],
      "source": [
        "data.query(\"method!='GNAR' and mtype =='rand' \").plot.box(backend='plotly',x='mrate',color='method',y='mse',facet_col='nof_filters',facet_row='inter_method',height=800)\n"
      ],
      "id": "66ac2821-8f75-4c92-a9ab-43698d4f2602"
    },
    {
      "cell_type": "code",
      "execution_count": 98,
      "metadata": {},
      "outputs": [],
      "source": [
        "data.query(\"method!='GNAR' and mtype =='block' \").plot.box(backend='plotly',x='mrate',color='method',y='mse',facet_col='nof_filters',facet_row='inter_method',height=800)\n"
      ],
      "id": "e78dba4a-f776-442a-af87-ec9383e50fdd"
    },
    {
      "cell_type": "markdown",
      "metadata": {},
      "source": [
        "# Pedalme\n",
        "\n",
        "데이터셋 미싱이 0.8일때\n",
        "\n",
        "`The number of derivatives at boundaries does not match: expected 1, got 0+0`\n",
        "\n",
        "해당 오류, 즉 미분되지 않는 오류가 생긴다.\n",
        "\n",
        "-   공식 패키지: lags 4 지정\n",
        "-   mrate = 0.3\n",
        "-   nof_filters = 12\n",
        "    -   필터 클수록 mse 안정적으로 보임!\n",
        "-   lags = 4, 8\n",
        "    -   lags 클 수록 커지는 경향이 있지만,\n",
        "    -   lags 크니까 GNAR보다 mse 평균적으로 낮게 보인다.\n",
        "-   GNAR보다 MSE는 낮음\n",
        "-   cal_time\n",
        "    -   mean = 1초도 안 된다!\n",
        "    -   max = 6초!\n",
        "\n",
        "# random"
      ],
      "id": "2913ef4f-cd48-4357-adca-84fc5d850f8c"
    },
    {
      "cell_type": "code",
      "execution_count": 22,
      "metadata": {},
      "outputs": [],
      "source": [
        "data = pd.read_csv('./simulation_results/pedalme_random.csv');data"
      ],
      "id": "fd575c50-753f-417d-b3db-eb685cb3668d"
    },
    {
      "cell_type": "code",
      "execution_count": 23,
      "metadata": {},
      "outputs": [],
      "source": [
        "data.query(\"method!='GNAR'\")['calculation_time'].mean(),data.query(\"method!='GNAR'\")['calculation_time'].max(),data.query(\"method!='GNAR'\")['calculation_time'].min()"
      ],
      "id": "c28cba0f-5a65-4177-aa57-4cb434b753b4"
    },
    {
      "cell_type": "code",
      "execution_count": 30,
      "metadata": {},
      "outputs": [],
      "source": [
        "data.query(\"mtype=='rand' and method!='GNAR' and lags!=4\").plot.box(backend='plotly',x='mrate',color='method',y='mse',facet_col='lags',facet_row='nof_filters',height=1200)\n"
      ],
      "id": "7efe5604-470a-4675-b036-4f7dd590c0b7"
    },
    {
      "cell_type": "code",
      "execution_count": 26,
      "metadata": {},
      "outputs": [],
      "source": [
        "data.query(\"mtype=='rand' and method!='GNAR' and mrate==0.7\").plot.box(backend='plotly',x='inter_method',color='method',y='mse',facet_col='lags',facet_row='nof_filters',height=1200)\n"
      ],
      "id": "21a08ce7-8967-44ce-b9f1-d046215304e3"
    },
    {
      "cell_type": "code",
      "execution_count": 413,
      "metadata": {},
      "outputs": [],
      "source": [
        "data.query(\"mtype=='rand' and method!='GNAR' and mrate==0.3\").plot.box(backend='plotly',x='inter_method',color='method',y='mse',facet_col='lags',facet_row='nof_filters',height=1200)\n"
      ],
      "id": "550174cb-da5d-42ab-8695-dfdd8555d0b8"
    },
    {
      "cell_type": "code",
      "execution_count": 165,
      "metadata": {},
      "outputs": [],
      "source": [
        "data.query(\"method=='GNAR'\").plot.box(backend='plotly',x='mtype',color='method',y='mse',facet_col='lags',height=600)\n"
      ],
      "id": "3af4163a-7864-4d53-be1a-c587e4891763"
    },
    {
      "cell_type": "markdown",
      "metadata": {},
      "source": [
        "#### 시뮬 예정(평균 시간, 평균mse)\n",
        "\n",
        "lags 4,8\n",
        "\n",
        "mrate 0.3\\~0.6"
      ],
      "id": "89af4ca5-6b8a-4ea8-979a-e2995e320e85"
    },
    {
      "cell_type": "code",
      "execution_count": 323,
      "metadata": {},
      "outputs": [],
      "source": [
        "# 1. mrate = 0.3, filter = 4, epoch = 50, lags = 4\n",
        "data.query(\"method !='GNAR' and mrate==0.3 and inter_method=='cubic' and nof_filters==12 and lags==8\")['calculation_time'].mean(),data.query(\"method !='GNAR' and mrate==0.3 and inter_method=='cubic' and nof_filters==12 and lags==8\")['mse'].mean()"
      ],
      "id": "80146602-79d3-4bf4-853f-623557852299"
    },
    {
      "cell_type": "code",
      "execution_count": 324,
      "metadata": {},
      "outputs": [],
      "source": [
        "data.query(\"method !='GNAR' and mrate==0.3 and inter_method=='cubic' and nof_filters==12 and lags==8\").plot.box(backend='plotly',x='mrate',color='method',y='mse',facet_col='lags',facet_row='nof_filters',height=400)"
      ],
      "id": "3b60cc7b-3da0-4464-b766-2ba5f2ded843"
    },
    {
      "cell_type": "markdown",
      "metadata": {},
      "source": [
        "## block"
      ],
      "id": "a8d4cadc-9df5-45bb-ba4b-25675ffdec38"
    },
    {
      "cell_type": "code",
      "execution_count": 487,
      "metadata": {},
      "outputs": [],
      "source": [
        "data = pd.read_csv('./simulation_results/pedalme_block.csv');data"
      ],
      "id": "5036895a-3888-4e42-9d6e-284f24a802a1"
    },
    {
      "cell_type": "markdown",
      "metadata": {},
      "source": [
        "missing rate 조정하기 30\\~50% 여러개 block 해서"
      ],
      "id": "d59bf589-d7ce-42fc-8e74-cf650d55eccd"
    },
    {
      "cell_type": "code",
      "execution_count": 491,
      "metadata": {},
      "outputs": [],
      "source": [
        "data.query(\"method!='GNAR'\").plot.box(backend='plotly',x='inter_method',color='method',y='mse',facet_col='lags',facet_row='nof_filters',height=1200)\n"
      ],
      "id": "3871618a-95ab-4803-b0ed-505bcd0bf2be"
    },
    {
      "cell_type": "markdown",
      "metadata": {},
      "source": [
        "#### 시뮬 예정(평균 시간, 평균mse)"
      ],
      "id": "8cc2c8b6-e197-43b3-97c6-7c21925a5800"
    },
    {
      "cell_type": "code",
      "execution_count": 495,
      "metadata": {},
      "outputs": [],
      "source": [
        "data.query(\"inter_method=='linear' and nof_filters==12 and lags==4\").plot.box(backend='plotly',x='mrate',color='method',y='mse',facet_col='lags',facet_row='nof_filters',height=400)"
      ],
      "id": "45ec3e3c-8b70-42b3-95c9-2e0876cdba98"
    },
    {
      "cell_type": "markdown",
      "metadata": {},
      "source": [
        "# pedalme simulation result\n",
        "\n",
        "block1\n",
        "\n",
        "``` python\n",
        "my_list = [[] for _ in range(15)] #pedalme\n",
        "another_list = list(range(5,25))\n",
        "my_list[1] = another_list\n",
        "my_list[3] = another_list\n",
        "my_list[5] = another_list\n",
        "my_list[7] = another_list\n",
        "my_list[9] = another_list\n",
        "my_list[11] = another_list\n",
        "mindex = my_list\n",
        "```\n",
        "\n",
        "block 30% missing을 위한 조건\n",
        "\n",
        "block2\n",
        "\n",
        "``` python\n",
        "my_list = [[] for _ in range(15)] #pedalme\n",
        "another_list = list(range(10,25))\n",
        "my_list[2] = another_list\n",
        "my_list[4] = another_list\n",
        "my_list[5] = another_list\n",
        "my_list[11] = another_list\n",
        "mindex = my_list\n",
        "```\n",
        "\n",
        "block 30% missing을 위한 조건"
      ],
      "id": "5e6809d9-bc74-4716-b2b5-751616eedc44"
    },
    {
      "cell_type": "code",
      "execution_count": 162,
      "metadata": {},
      "outputs": [],
      "source": [
        "df1 = pd.read_csv('./simulation_results/2023-04-13_20-37-59.csv') # STGCN, ITSTGCN random 0%,30%, 40%\n",
        "df2 = pd.read_csv('./simulation_results/2023-04-13_21-29-38.csv') # STGCN, ITSTGCN random 50%, 60%\n",
        "df3 = pd.read_csv('./simulation_results/2023-04-15_01-08-16.csv') # GNAR random 30%, 40%, 50%, 60%\n",
        "df4 = pd.read_csv('./simulation_results/2023-04-13_21-56-36.csv') # GNAR block 30%\n",
        "df5 = pd.read_csv('./simulation_results/2023-04-15_01-08-16.csv') # STGCN, ITSTGCN block 1 \n",
        "df6 = pd.read_csv('./simulation_results/2023-04-15_01-38-46.csv') # STGCN, ITSTGCN block 2\n",
        "# df7 = pd.read_csv('./simulation_results/2023-04-11_04-40-00.csv') # STGCN, ITSTGCN block linear"
      ],
      "id": "d77592a2-95ee-475d-9f32-718deb3ed4a4"
    },
    {
      "cell_type": "code",
      "execution_count": 163,
      "metadata": {},
      "outputs": [],
      "source": [
        "data = pd.concat([df1,df2,df3,df4,df5,df6],axis=0);data"
      ],
      "id": "ce2013e8-fa5f-42e6-b058-85f120a0302f"
    },
    {
      "cell_type": "code",
      "execution_count": 164,
      "metadata": {},
      "outputs": [],
      "source": [
        "data.to_csv('./simulation_results/Real_simulation/pedalme_Simulation.csv',index=False)"
      ],
      "id": "9cf27dd0-d475-4f4d-a60d-2df50007c2cf"
    },
    {
      "cell_type": "code",
      "execution_count": 165,
      "metadata": {},
      "outputs": [],
      "source": [
        "data = pd.read_csv('./simulation_results/Real_simulation/pedalme_Simulation.csv')"
      ],
      "id": "7957bbf4-57f0-41f5-bbcc-feb740abbab2"
    },
    {
      "cell_type": "code",
      "execution_count": 166,
      "metadata": {},
      "outputs": [],
      "source": [
        "data.query(\"method=='GNAR' and mtype == 'rand'\")['mse'].mean(),data.query(\"method=='GNAR' and mtype != 'rand'\")['mse'].mean()"
      ],
      "id": "01d26b09-b15d-44c9-9bf8-0397e392768c"
    },
    {
      "cell_type": "code",
      "execution_count": 167,
      "metadata": {},
      "outputs": [],
      "source": [
        "data.query(\"method=='STGCN' and mtype == 'rand'\")['mse'].mean(),data.query(\"method=='STGCN' and mtype != 'rand'\")['mse'].mean()"
      ],
      "id": "fab4e7b0-1929-42f3-9d0a-04191e271ec1"
    },
    {
      "cell_type": "code",
      "execution_count": 168,
      "metadata": {},
      "outputs": [],
      "source": [
        "data.query(\"method=='IT-STGCN' and mtype == 'rand'\")['mse'].mean(),data.query(\"method=='IT-STGCN' and mtype != 'rand'\")['mse'].mean()"
      ],
      "id": "1deb1459-43f7-4726-a587-5d9dd7b4481d"
    },
    {
      "cell_type": "markdown",
      "metadata": {},
      "source": [
        "Baseline"
      ],
      "id": "19e50d7b-c69f-41b3-b118-335a3f82af6b"
    },
    {
      "cell_type": "code",
      "execution_count": 169,
      "metadata": {},
      "outputs": [],
      "source": [
        "data.query(\"method!='GNAR' and mrate ==0 \").plot.box(backend='plotly',x='epoch',color='method',y='mse',facet_col='lags',height=800)\n"
      ],
      "id": "1fb7c189-be28-4e92-845c-f9e68566c4c8"
    },
    {
      "cell_type": "code",
      "execution_count": 170,
      "metadata": {},
      "outputs": [],
      "source": [
        "data.query(\"method!='GNAR' and mtype =='rand' \").plot.box(backend='plotly',x='mrate',color='method',y='mse',facet_col='lags',facet_row='inter_method',height=800)\n"
      ],
      "id": "3d9d0392-be59-4267-9e59-08175ad475ff"
    },
    {
      "cell_type": "code",
      "execution_count": 172,
      "metadata": {},
      "outputs": [],
      "source": [
        "data.query(\"method!='GNAR' and mtype =='block' \").plot.box(backend='plotly',x='mrate',color='method',y='mse',facet_col='lags',facet_row='inter_method',height=600)\n"
      ],
      "id": "3e83f8b0-6481-4257-a2e1-faa02d55a60a"
    },
    {
      "cell_type": "markdown",
      "metadata": {},
      "source": [
        "# Wikimath\n",
        "\n",
        "-   공식 패키지: lags 8 지정\n",
        "-   오히려 cuboic 보다 linear가 더 잘 맞추는 경향\n",
        "-   mrate = 0.3\n",
        "    -   크면 이상치 심하게 나와서 작게 잡기\n",
        "-   nof_filters = 12, 16\n",
        "    -   필터 크니까 mse 내려감\n",
        "-   lags = 2,\n",
        "-   cal_time\n",
        "    -   mean = 71s\n",
        "    -   max = 212s\n",
        "\n",
        "## random"
      ],
      "id": "8e807105-8a88-4790-9346-9a1d3fa09b09"
    },
    {
      "cell_type": "code",
      "execution_count": 286,
      "metadata": {},
      "outputs": [],
      "source": [
        "df1 = pd.read_csv('./simulation_results/2023-04-15_16-58-03.csv')\n",
        "df2 = pd.read_csv('./simulation_results/2023-04-15_17-01-39.csv')\n",
        "df3 = pd.read_csv('./simulation_results/2023-04-15_17-07-23.csv')\n",
        "df4 = pd.read_csv('./simulation_results/2023-04-15_17-13-13.csv')\n",
        "df5 = pd.read_csv('./simulation_results/2023-04-15_17-29-49.csv')"
      ],
      "id": "118adb2f-4390-4eec-9eb3-21722c9c4133"
    },
    {
      "cell_type": "code",
      "execution_count": 289,
      "metadata": {},
      "outputs": [],
      "source": [
        "data = pd.concat([df1,df2,df3,df4,df5],axis=0)"
      ],
      "id": "ea503572-9684-48f6-a396-4b9783169af9"
    },
    {
      "cell_type": "code",
      "execution_count": 290,
      "metadata": {},
      "outputs": [],
      "source": [
        "data.query(\"method=='STGCN'\").sort_values(['mrate','lags','nof_filters'])"
      ],
      "id": "8f4f303c-fee2-453d-86cf-8eeb87444270"
    },
    {
      "cell_type": "code",
      "execution_count": 291,
      "metadata": {},
      "outputs": [],
      "source": [
        "data.query(\"method!='STGCN'\").sort_values(['mrate','lags','nof_filters'])"
      ],
      "id": "2084de5f-1e78-47df-96cc-0ec9582b0dc6"
    },
    {
      "cell_type": "code",
      "execution_count": null,
      "metadata": {},
      "outputs": [],
      "source": [
        "data.query(\"method!='GNAR'\")['calculation_time'].mean(),data.query(\"method!='GNAR'\")['calculation_time'].max(),data.query(\"method!='GNAR'\")['calculation_time'].min()"
      ],
      "id": "3f5fcab5-a7d6-4362-947e-492df5499a96"
    },
    {
      "cell_type": "code",
      "execution_count": null,
      "metadata": {},
      "outputs": [],
      "source": [
        "data.query(\"mtype=='rand' and mrate != 0.9 and method!='GNAR' and inter_method=='cubic'\").plot.box(backend='plotly',x='mrate',color='method',y='mse',facet_col='lags',facet_row='nof_filters',height=1200)\n"
      ],
      "id": "bd5fd7a0-2517-49d1-968e-d9073720ee87"
    },
    {
      "cell_type": "code",
      "execution_count": null,
      "metadata": {},
      "outputs": [],
      "source": [
        "data.query(\"mtype=='rand' and method!='GNAR' and inter_method=='linear'\").plot.box(backend='plotly',x='mrate',color='method',y='mse',facet_col='lags',facet_row='nof_filters',height=1200)\n"
      ],
      "id": "655925b2-8ee7-4faf-9ea7-0dbd9a91c249"
    },
    {
      "cell_type": "markdown",
      "metadata": {},
      "source": [
        "#### 시뮬 예정(평균 시간, 평균mse)"
      ],
      "id": "b1932abb-15b8-4b68-a075-3ab608900754"
    },
    {
      "cell_type": "code",
      "execution_count": null,
      "metadata": {},
      "outputs": [],
      "source": [
        "data.query(\"method !='GNAR' and mrate==0.3 and inter_method=='cubic' and nof_filters==12 and lags==8\")['calculation_time'].mean(),data.query(\"method !='GNAR' and mrate==0.3 and inter_method=='cubic' and nof_filters==12 and lags==8\")['mse'].mean()"
      ],
      "id": "4e2fb8fb-ce05-4d42-b142-8cc4321f0426"
    },
    {
      "cell_type": "code",
      "execution_count": null,
      "metadata": {},
      "outputs": [],
      "source": [
        "data.query(\"method !='GNAR' and mrate==0.3 and inter_method=='linear' and nof_filters==12 and lags==8\")['calculation_time'].mean(),data.query(\"method !='GNAR' and mrate==0.3 and inter_method=='linear' and nof_filters==12 and lags==8\")['mse'].mean()"
      ],
      "id": "fc3a164f-f81b-49d9-839b-b9bcf17a117d"
    },
    {
      "cell_type": "code",
      "execution_count": null,
      "metadata": {},
      "outputs": [],
      "source": [
        "data.query(\"method !='GNAR' and mrate==0.3 and nof_filters==12 and lags==8\").plot.box(backend='plotly',x='mrate',color='method',y='mse',facet_col='lags',facet_row='nof_filters',height=400)"
      ],
      "id": "e8c49710-008d-4440-82d8-7ad6f283d813"
    },
    {
      "cell_type": "markdown",
      "metadata": {},
      "source": [
        "## block"
      ],
      "id": "55ad5929-a405-495a-9a74-e4652dbd2c2f"
    },
    {
      "cell_type": "code",
      "execution_count": null,
      "metadata": {},
      "outputs": [],
      "source": [
        "data = pd.read_csv('./simulation_results/wiki_block.csv');data"
      ],
      "id": "50fa11b2-1451-4f90-84bc-e54ce584fa84"
    },
    {
      "cell_type": "code",
      "execution_count": null,
      "metadata": {},
      "outputs": [],
      "source": [
        "data.query(\"method!='GNAR'\")['calculation_time'].mean(),data.query(\"method!='GNAR'\")['calculation_time'].max(),data.query(\"method!='GNAR'\")['calculation_time'].min()"
      ],
      "id": "c370d85f-e84c-4cad-a5c7-e2d0ace2f390"
    },
    {
      "cell_type": "code",
      "execution_count": null,
      "metadata": {},
      "outputs": [],
      "source": [
        "data.query(\"method!='GNAR' and inter_method=='cubic'\").plot.box(backend='plotly',x='mrate',color='method',y='mse',facet_col='lags',facet_row='nof_filters',height=1200)\n"
      ],
      "id": "b0097446-19a0-4fa5-a1bd-cd9e64eea71f"
    },
    {
      "cell_type": "code",
      "execution_count": null,
      "metadata": {},
      "outputs": [],
      "source": [
        "data.query(\"inter_method=='linear'\").plot.box(backend='plotly',x='mrate',color='method',y='mse',facet_col='lags',facet_row='nof_filters',height=1200)\n"
      ],
      "id": "b609f6e9-8ad9-48a5-ae7b-88f5c852dfc8"
    },
    {
      "cell_type": "markdown",
      "metadata": {},
      "source": [
        "#### 시뮬 예정(평균 시간, 평균mse)"
      ],
      "id": "c0c71c06-712a-4722-8142-186abdb09d5c"
    },
    {
      "cell_type": "code",
      "execution_count": null,
      "metadata": {},
      "outputs": [],
      "source": [
        "data.query(\"inter_method=='linear' and nof_filters==12 and lags==8\")['calculation_time'].mean(),data.query(\"inter_method=='linear' and nof_filters==12 and lags==8\")['mse'].mean()"
      ],
      "id": "393f89e0-5933-47a3-aecb-d5dcbc354a42"
    },
    {
      "cell_type": "code",
      "execution_count": null,
      "metadata": {},
      "outputs": [],
      "source": [
        "data.query(\"inter_method=='linear' and nof_filters==12 and lags==8\").plot.box(backend='plotly',x='mrate',color='method',y='mse',facet_col='lags',facet_row='nof_filters',height=400)"
      ],
      "id": "a251836e-55a2-4504-a7ed-5043c3e9449b"
    },
    {
      "cell_type": "markdown",
      "metadata": {},
      "source": [
        "# Windmilmedium"
      ],
      "id": "1d918fd1-0a7b-4abf-a62d-81434a47e3d4"
    },
    {
      "cell_type": "code",
      "execution_count": 229,
      "metadata": {},
      "outputs": [],
      "source": [
        "df1 = pd.read_csv('./simulation_results/2023-04-15_09-06-12.csv') # GNAR\n",
        "df2 = pd.read_csv('./simulation_results/2023-04-15_09-19-44.csv') # STGCN IT-STGCN\n",
        "df3 = pd.read_csv('./simulation_results/2023-04-15_09-28-32.csv') # STGCN IT-STGCN\n",
        "df4 = pd.read_csv('./simulation_results/2023-04-15_09-36-55.csv') # STGCN IT-STGCN\n",
        "df5 = pd.read_csv('./simulation_results/2023-04-15_09-54-30.csv') # STGCN IT-STGCN\n",
        "df6 = pd.read_csv('./simulation_results/2023-04-15_10-03-08.csv') # STGCN IT-STGCN\n",
        "df7 = pd.read_csv('./simulation_results/2023-04-15_10-15-48.csv') # STGCN IT-STGCN\n",
        "df8 = pd.read_csv('./simulation_results/2023-04-15_10-25-19.csv') # STGCN IT-STGCN\n",
        "df9 = pd.read_csv('./simulation_results/2023-04-15_10-34-48.csv') # STGCN IT-STGCN\n",
        "df10 = pd.read_csv('./simulation_results/2023-04-15_10-43-02.csv') # STGCN IT-STGCN"
      ],
      "id": "da020fd0-02c0-4b6a-a20a-147fb7b1c25c"
    },
    {
      "cell_type": "code",
      "execution_count": 230,
      "metadata": {},
      "outputs": [],
      "source": [
        "data = pd.concat([df1,df2,df3,df4,df5,df6,df7,df8,df9,df10],axis=0)"
      ],
      "id": "2372455f-d7f7-4696-84b6-1aadf040fe4b"
    },
    {
      "cell_type": "code",
      "execution_count": 231,
      "metadata": {},
      "outputs": [],
      "source": [
        "data.query(\"method=='GNAR'\")"
      ],
      "id": "fe1c9a49-a04f-43a3-9349-e17e83ae2d4b"
    },
    {
      "cell_type": "code",
      "execution_count": 232,
      "metadata": {},
      "outputs": [],
      "source": [
        "data.query(\"method!='GNAR' and method=='STGCN'\").sort_values(['mrate','nof_filters'])"
      ],
      "id": "ac596f07-9056-4bc2-97b8-47d7f52b2139"
    },
    {
      "cell_type": "code",
      "execution_count": 233,
      "metadata": {},
      "outputs": [],
      "source": [
        "data.query(\"method!='GNAR' and method!='STGCN'\").sort_values(['mrate','nof_filters'])"
      ],
      "id": "61155f5d-db29-405b-9fdb-b934a96206b5"
    },
    {
      "cell_type": "markdown",
      "metadata": {},
      "source": [
        "linear, 0.7\\~0.9, 4,8,"
      ],
      "id": "77a31cb1-2faa-496d-9a90-e164e8f8338f"
    },
    {
      "cell_type": "code",
      "execution_count": null,
      "metadata": {},
      "outputs": [],
      "source": [
        "data.to_csv('./simulation_results/Real_simulation/windmilmedium_Simulation.csv',index=False)"
      ],
      "id": "4698d10d-0adf-4760-8aff-c15d67c2749b"
    },
    {
      "cell_type": "code",
      "execution_count": null,
      "metadata": {},
      "outputs": [],
      "source": [
        "data.query(\"method!='GNAR'\")['calculation_time'].mean(),data.query(\"method!='GNAR'\")['calculation_time'].max(),data.query(\"method!='GNAR'\")['calculation_time'].min()"
      ],
      "id": "1bb1929a-0481-4ca0-b729-4ab8a4d8e4a9"
    },
    {
      "cell_type": "markdown",
      "metadata": {},
      "source": [
        "## random\n",
        "\n",
        "## block\n",
        "\n",
        "# Windmilsmall"
      ],
      "id": "cc833938-0f21-447a-ae6f-a54517cbe3ce"
    },
    {
      "cell_type": "code",
      "execution_count": 240,
      "metadata": {},
      "outputs": [],
      "source": [
        "df1 = pd.read_csv('./simulation_results/2023-04-15_10-59-28.csv') # GNAR\n",
        "df2 = pd.read_csv('./simulation_results/2023-04-15_11-15-05.csv') # STGCN IT-STGCN\n",
        "df3 = pd.read_csv('./simulation_results/2023-04-15_11-30-48.csv') # STGCN IT-STGCN\n",
        "df4 = pd.read_csv('./simulation_results/2023-04-15_11-46-45.csv') # STGCN IT-STGCN\n",
        "df5 = pd.read_csv('./simulation_results/2023-04-15_12-02-19.csv') # STGCN IT-STGCN\n",
        "df6 = pd.read_csv('./simulation_results/2023-04-15_15-00-32.csv') # STGCN IT-STGCN\n",
        "# df7 = pd.read_csv('./simulation_results/2023-04-15_10-15-48.csv') # STGCN IT-STGCN\n",
        "# df8 = pd.read_csv('./simulation_results/2023-04-15_10-25-19.csv') # STGCN IT-STGCN\n",
        "# df9 = pd.read_csv('./simulation_results/2023-04-15_10-34-48.csv') # STGCN IT-STGCN\n",
        "# df10 = pd.read_csv('./simulation_results/2023-04-15_10-43-02.csv') # STGCN IT-STGCN"
      ],
      "id": "94ef68df-37d2-4741-8ecc-ffd124fbf02d"
    },
    {
      "cell_type": "code",
      "execution_count": 241,
      "metadata": {},
      "outputs": [],
      "source": [
        "data = pd.concat([df1,df2,df3,df4,df5,df6],axis=0)"
      ],
      "id": "9c7fb19a-2b6a-4c14-952e-c52f5df4f6c0"
    },
    {
      "cell_type": "code",
      "execution_count": 245,
      "metadata": {},
      "outputs": [],
      "source": [
        "data.query(\"method=='GNAR'\").sort_values(['mrate','nof_filters'])"
      ],
      "id": "17470840-2123-4852-845c-2b3e41c0737d"
    },
    {
      "cell_type": "code",
      "execution_count": 243,
      "metadata": {},
      "outputs": [],
      "source": [
        "data.query(\"method!='GNAR' and method=='STGCN'\").sort_values(['mrate','nof_filters'])"
      ],
      "id": "959545b3-5fde-4be6-80b5-64d4b283b10d"
    },
    {
      "cell_type": "code",
      "execution_count": 244,
      "metadata": {},
      "outputs": [],
      "source": [
        "data.query(\"method!='GNAR' and method!='STGCN'\").sort_values(['mrate','nof_filters'])"
      ],
      "id": "9791b69a-7ba1-4c07-8610-073b2d072643"
    },
    {
      "cell_type": "markdown",
      "metadata": {},
      "source": [
        "linear, lags 4,8. filter 8,12\n",
        "\n",
        "## random\n",
        "\n",
        "## block"
      ],
      "id": "21f9febd-65b4-4452-9090-c1398f2afdcb"
    }
  ],
  "nbformat": 4,
  "nbformat_minor": 5,
  "metadata": {
    "kernelspec": {
      "name": "python3",
      "display_name": "Python 3 (ipykernel)",
      "language": "python"
    },
    "language_info": {
      "name": "python",
      "codemirror_mode": {
        "name": "ipython",
        "version": "3"
      },
      "file_extension": ".py",
      "mimetype": "text/x-python",
      "nbconvert_exporter": "python",
      "pygments_lexer": "ipython3",
      "version": "3.8.12"
    }
  }
}
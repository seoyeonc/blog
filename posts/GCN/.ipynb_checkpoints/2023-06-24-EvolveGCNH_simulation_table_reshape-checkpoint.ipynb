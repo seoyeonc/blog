{
 "cells": [
  {
   "cell_type": "raw",
   "id": "687798dd-c373-49b0-a4c2-b5c9d14dbedc",
   "metadata": {
    "id": "cac470df-29e7-4148-9bbd-d8b9a32fa570",
    "tags": []
   },
   "source": [
    "---\n",
    "title: \"EvolveGCNH_Simulation Tables_reshape\"\n",
    "author: \"SEOYEON CHOI\"\n",
    "date: \"2023-06-24\"\n",
    "categories:\n",
    "  - ITSTGCN\n",
    "---"
   ]
  },
  {
   "cell_type": "markdown",
   "id": "2c57a9de-08c3-4218-82e2-234876739bb1",
   "metadata": {
    "tags": []
   },
   "source": [
    "> Simulation Tables"
   ]
  },
  {
   "cell_type": "markdown",
   "id": "ffec7c69-7d8a-460a-b98f-6e31fef545e1",
   "metadata": {},
   "source": [
    "# import"
   ]
  },
  {
   "cell_type": "code",
   "execution_count": null,
   "id": "2b94623d-9fcc-475e-888b-fab04f70cb53",
   "metadata": {},
   "outputs": [],
   "source": [
    "import pandas as pd"
   ]
  },
  {
   "cell_type": "code",
   "execution_count": null,
   "id": "3eb9818e-ae88-4ab1-b477-15622f336a9d",
   "metadata": {},
   "outputs": [],
   "source": [
    "data_fivenodes = pd.read_csv('./simulation_results/Real_simulation_reshape/EvolveGCNH_fivedones_Simulation.csv')"
   ]
  },
  {
   "cell_type": "code",
   "execution_count": null,
   "id": "017dcc04-f3c5-44d0-ae40-ec506dbfd630",
   "metadata": {},
   "outputs": [],
   "source": [
    "data_chickenpox = pd.read_csv('./simulation_results/Real_simulation_reshape/EvolveGCNH_chikenpox_Simulation.csv')"
   ]
  },
  {
   "cell_type": "code",
   "execution_count": null,
   "id": "0b711bcf-b2e4-4502-a6ad-a1313f7560fc",
   "metadata": {},
   "outputs": [],
   "source": [
    "data_pedal = pd.read_csv('./simulation_results/Real_simulation_reshape/EvolveGCNH_pedalme_Simulation.csv')"
   ]
  },
  {
   "cell_type": "code",
   "execution_count": null,
   "id": "13bf364d-2d1f-4286-b0df-1b35b21e7105",
   "metadata": {},
   "outputs": [],
   "source": [
    "data_pedal2 = pd.read_csv('./simulation_results/Real_simulation_reshape/EvolveGCNH_pedalme_Simulation_itstgcnsnd.csv')"
   ]
  },
  {
   "cell_type": "code",
   "execution_count": null,
   "id": "ab7a51ba-500f-4432-b170-76c9095c07f7",
   "metadata": {},
   "outputs": [],
   "source": [
    "data__wiki = pd.read_csv('./simulation_results/Real_simulation_reshape/EvolveGCNH_wikimath.csv')"
   ]
  },
  {
   "cell_type": "code",
   "execution_count": null,
   "id": "c6461bba-82e7-494e-8cc5-dadf177fd3d8",
   "metadata": {},
   "outputs": [],
   "source": [
    "data_wiki_GSO = pd.read_csv('./simulation_results/Real_simulation_reshape/EvolveGCNH_wikimath_GSO_st.csv')"
   ]
  },
  {
   "cell_type": "code",
   "execution_count": null,
   "id": "53239cda-b9eb-4bfd-acde-66e4864a2326",
   "metadata": {},
   "outputs": [],
   "source": [
    "data_windmillsmall = pd.read_csv('./simulation_results/Real_simulation_reshape/EvolveGCNH_windmillsmall.csv')"
   ]
  },
  {
   "cell_type": "code",
   "execution_count": null,
   "id": "59532f6b-12df-4cea-9edb-101aedc988a7",
   "metadata": {},
   "outputs": [],
   "source": [
    "data_monte = pd.read_csv('./simulation_results/Real_simulation_reshape/EvolveGCNH_monte.csv')"
   ]
  },
  {
   "cell_type": "code",
   "execution_count": null,
   "id": "6fe62078-eeb6-419c-a91e-cca745e7877b",
   "metadata": {},
   "outputs": [],
   "source": [
    "data = pd.concat([data_fivenodes,data_chickenpox,data_pedal,data__wiki,data_windmillsmall,data_monte]);data"
   ]
  },
  {
   "cell_type": "code",
   "execution_count": null,
   "id": "1949557c-5100-4d32-9585-14a6ab44a11d",
   "metadata": {},
   "outputs": [],
   "source": [
    "data.to_csv('./simulation_results/Real_simulation_reshape/Final_Simulation_EvolveGCNH.csv',index=False)"
   ]
  },
  {
   "cell_type": "code",
   "execution_count": null,
   "id": "c446722e-5410-4b68-9a19-171238b3d33d",
   "metadata": {},
   "outputs": [],
   "source": [
    "pedal_wiki_GSO = pd.concat([data_pedal2,data_wiki_GSO])"
   ]
  },
  {
   "cell_type": "code",
   "execution_count": null,
   "id": "40645b34-bba5-4362-af56-7f40707aad6a",
   "metadata": {},
   "outputs": [],
   "source": [
    "pedal_wiki_GSO.to_csv('./simulation_results/Real_simulation_reshape/Final_Simulation_EvolveGCNH_pedal_wiki_GSO.csv',index=False)"
   ]
  },
  {
   "cell_type": "markdown",
   "id": "938a1646-d52d-48c5-bd19-27cb7593b9f8",
   "metadata": {
    "tags": []
   },
   "source": [
    "# Fivenodes"
   ]
  },
  {
   "cell_type": "markdown",
   "id": "2cd2994e-1510-4cdf-b07a-8d0d50d55b38",
   "metadata": {},
   "source": [
    "## Baseline"
   ]
  },
  {
   "cell_type": "code",
   "execution_count": null,
   "id": "156e2353-5ee1-4cf9-ada3-161447f901fa",
   "metadata": {},
   "outputs": [],
   "source": [
    "pd.merge(data.query(\"dataset=='fivenodes' and mtype!='rand' and mtype!='block'\").groupby(['nof_filters','method','lags'])['mse'].mean().reset_index(),\n",
    "         data.query(\"dataset=='fivenodes' and mtype!='rand' and mtype!='block'\").groupby(['nof_filters','method','lags'])['mse'].std().reset_index(),\n",
    "         on=['method','nof_filters','lags']).rename(columns={'mse_x':'mean','mse_y':'std'}).round(3)"
   ]
  },
  {
   "cell_type": "markdown",
   "id": "753413f0-1b30-4efe-98b6-9149ea65975e",
   "metadata": {},
   "source": [
    "## Random"
   ]
  },
  {
   "cell_type": "code",
   "execution_count": null,
   "id": "8eaefdd1-eabe-4452-97e9-2c79d3e510fa",
   "metadata": {},
   "outputs": [],
   "source": [
    "pd.merge(data.query(\"dataset=='fivenodes' and mtype=='rand'\").groupby(['mrate','nof_filters','method','lags'])['mse'].mean().reset_index(),\n",
    "         data.query(\"dataset=='fivenodes' and mtype=='rand'\").groupby(['mrate','nof_filters','method','lags'])['mse'].std().reset_index(),\n",
    "         on=['method','nof_filters','mrate','lags']).rename(columns={'mse_x':'mean','mse_y':'std'}).round(3).query(\"nof_filters==12\")"
   ]
  },
  {
   "cell_type": "markdown",
   "id": "71261a14-74a1-4050-b063-91a46c649010",
   "metadata": {},
   "source": [
    "## Block"
   ]
  },
  {
   "cell_type": "code",
   "execution_count": null,
   "id": "6f2c31a3-2d9c-487c-a43e-9c49657f2586",
   "metadata": {},
   "outputs": [],
   "source": [
    "pd.merge(data.query(\"dataset=='fivenodes' and mtype=='block'\").groupby(['mrate','nof_filters','method'])['mse'].mean().reset_index(),\n",
    "         data.query(\"dataset=='fivenodes' and mtype=='block'\").groupby(['mrate','nof_filters','method'])['mse'].std().reset_index(),\n",
    "         on=['method','nof_filters','mrate']).rename(columns={'mse_x':'mean','mse_y':'std'}).round(3)"
   ]
  },
  {
   "cell_type": "markdown",
   "id": "4c94ed76-1825-417a-8c8f-0020ce464dcc",
   "metadata": {},
   "source": [
    "# ChickenpoxDatasetLoader(lags=4)"
   ]
  },
  {
   "cell_type": "markdown",
   "id": "bd047f57-044e-48b3-a1be-9be472c7ee83",
   "metadata": {},
   "source": [
    "## Baseline"
   ]
  },
  {
   "cell_type": "code",
   "execution_count": null,
   "id": "bb9e8543-d7f7-4024-b5dd-38309dcbcedf",
   "metadata": {},
   "outputs": [],
   "source": [
    "pd.merge(data.query(\"dataset=='chickenpox' and mtype!='rand' and mtype!='block'\").groupby(['nof_filters','method'])['mse'].mean().reset_index(),\n",
    "         data.query(\"dataset=='chickenpox' and mtype!='rand' and mtype!='block'\").groupby(['nof_filters','method'])['mse'].std().reset_index(),\n",
    "         on=['method','nof_filters']).rename(columns={'mse_x':'mean','mse_y':'std'}).round(3).query(\"nof_filters==16\")"
   ]
  },
  {
   "cell_type": "markdown",
   "id": "9f9ccd59-7b8b-441c-94da-36153f45fbc2",
   "metadata": {},
   "source": [
    "## Random"
   ]
  },
  {
   "cell_type": "code",
   "execution_count": null,
   "id": "c57cc44c-dce2-436d-8d3e-2527ecfc2556",
   "metadata": {},
   "outputs": [],
   "source": [
    "pd.merge(data.query(\"dataset=='chickenpox' and mtype=='rand'\").groupby(['mrate','inter_method','nof_filters','method'])['mse'].mean().reset_index(),\n",
    "         data.query(\"dataset=='chickenpox' and mtype=='rand'\").groupby(['mrate','inter_method','nof_filters','method'])['mse'].std().reset_index(),\n",
    "         on=['method','inter_method','mrate','nof_filters']).rename(columns={'mse_x':'mean','mse_y':'std'}).round(3)"
   ]
  },
  {
   "cell_type": "markdown",
   "id": "1b80894b-356c-4627-92c9-7b8bf3b19a04",
   "metadata": {},
   "source": [
    "## Block"
   ]
  },
  {
   "cell_type": "code",
   "execution_count": null,
   "id": "4f347949-8d0a-4074-aa3c-1c73e94c1c34",
   "metadata": {},
   "outputs": [],
   "source": [
    "pd.merge(data.query(\"dataset=='chickenpox' and mtype=='block'\").groupby(['inter_method','mrate','nof_filters','method'])['mse'].mean().reset_index(),\n",
    "         data.query(\"dataset=='chickenpox' and mtype=='block'\").groupby(['inter_method','mrate','nof_filters','method'])['mse'].std().reset_index(),\n",
    "         on=['method','inter_method','mrate','nof_filters']).rename(columns={'mse_x':'mean','mse_y':'std'})"
   ]
  },
  {
   "cell_type": "markdown",
   "id": "33dfc1e5-ec10-4b12-b561-71bc36edfcbe",
   "metadata": {},
   "source": [
    "# PedalMeDatasetLoader (lags=4)"
   ]
  },
  {
   "cell_type": "markdown",
   "id": "0286bfba-94aa-40d6-b478-42e405564961",
   "metadata": {},
   "source": [
    "## Baseline"
   ]
  },
  {
   "cell_type": "code",
   "execution_count": null,
   "id": "a300e109-1780-49c1-a4e7-c2e97f89f62d",
   "metadata": {},
   "outputs": [],
   "source": [
    "pd.merge(data.query(\"dataset=='pedalme' and mtype!='rand' and mtype!='block'\").groupby(['lags','nof_filters','method'])['mse'].mean().reset_index(),\n",
    "         data.query(\"dataset=='pedalme' and mtype!='rand' and mtype!='block'\").groupby(['lags','nof_filters','method'])['mse'].std().reset_index(),\n",
    "         on=['method','lags','nof_filters']).rename(columns={'mse_x':'mean','mse_y':'std'}).round(3).query(\"lags==4\")"
   ]
  },
  {
   "cell_type": "markdown",
   "id": "c15ae2f3-11d9-4dad-9c52-0a73612f0237",
   "metadata": {},
   "source": [
    "## Random"
   ]
  },
  {
   "cell_type": "code",
   "execution_count": null,
   "id": "4d2b77ef-5564-4992-8169-b5ed790d199e",
   "metadata": {},
   "outputs": [],
   "source": [
    "pd.merge(data.query(\"dataset=='pedalme' and mtype=='rand'\").groupby(['mrate','lags','inter_method','method'])['mse'].mean().reset_index(),\n",
    "         data.query(\"dataset=='pedalme' and mtype=='rand'\").groupby(['mrate','lags','inter_method','method'])['mse'].std().reset_index(),\n",
    "         on=['method','mrate','lags','inter_method']).rename(columns={'mse_x':'mean','mse_y':'std'}).round(3)"
   ]
  },
  {
   "cell_type": "markdown",
   "id": "b1727f15-8934-4ec0-a5df-fb2ecaffee60",
   "metadata": {},
   "source": [
    "## Block"
   ]
  },
  {
   "cell_type": "code",
   "execution_count": null,
   "id": "577831cf-8f43-4096-b889-ed611aff3fcf",
   "metadata": {},
   "outputs": [],
   "source": [
    "pd.merge(data.query(\"dataset=='pedalme' and mtype=='block'\").groupby(['mrate','lags','inter_method','method'])['mse'].mean().reset_index(),\n",
    "         data.query(\"dataset=='pedalme' and mtype=='block'\").groupby(['mrate','lags','inter_method','method'])['mse'].std().reset_index(),\n",
    "         on=['method','mrate','lags','inter_method']).rename(columns={'mse_x':'mean','mse_y':'std'}).round(3).query(\"lags==4\")"
   ]
  },
  {
   "cell_type": "markdown",
   "id": "ca2703e3-4ca5-43fa-ace5-fd0986e0e90b",
   "metadata": {},
   "source": [
    "## W_st"
   ]
  },
  {
   "cell_type": "code",
   "execution_count": null,
   "id": "342d5e6e-1e72-4ad2-8e70-04e095ce5368",
   "metadata": {},
   "outputs": [],
   "source": [
    "pd.merge(data_pedal2.query(\"mtype=='rand'\").groupby(['mrate','lags','inter_method','method'])['mse'].mean().reset_index(),\n",
    "         data_pedal2.query(\"mtype=='rand'\").groupby(['mrate','lags','inter_method','method'])['mse'].std().reset_index(),\n",
    "         on=['method','mrate','lags','inter_method']).rename(columns={'mse_x':'mean','mse_y':'std'}).round(3).query(\"lags==4\")"
   ]
  },
  {
   "cell_type": "code",
   "execution_count": null,
   "id": "c0c626dd-3d91-4622-93ad-9497378fae27",
   "metadata": {},
   "outputs": [],
   "source": [
    "pd.merge(data_pedal2.query(\"mtype=='block'\").groupby(['mrate','lags','inter_method','method'])['mse'].mean().reset_index(),\n",
    "         data_pedal2.query(\"mtype=='block'\").groupby(['mrate','lags','inter_method','method'])['mse'].std().reset_index(),\n",
    "         on=['method','mrate','lags','inter_method']).rename(columns={'mse_x':'mean','mse_y':'std'}).round(3).query(\"lags==4\")"
   ]
  },
  {
   "cell_type": "markdown",
   "id": "6d80756b-d0bd-4663-a847-20056d29b3cd",
   "metadata": {},
   "source": [
    "# WikiMathsDatasetLoader (lags=8)"
   ]
  },
  {
   "cell_type": "markdown",
   "id": "9455377c-c4b0-4ffc-824b-883234bd90ef",
   "metadata": {
    "tags": []
   },
   "source": [
    "## Baseline"
   ]
  },
  {
   "cell_type": "code",
   "execution_count": null,
   "id": "f6c27c05-9c04-4430-8825-5e6036641655",
   "metadata": {},
   "outputs": [],
   "source": [
    "pd.merge(data.query(\"dataset=='wikimath' and mrate==0\").groupby(['lags','nof_filters','method'])['mse'].mean().reset_index(),\n",
    "         data.query(\"dataset=='wikimath' and mrate==0\").groupby(['lags','nof_filters','method'])['mse'].std().reset_index(),\n",
    "         on=['lags','nof_filters','method']).rename(columns={'mse_x':'mean','mse_y':'std'}).round(3)"
   ]
  },
  {
   "cell_type": "markdown",
   "id": "e78caefd-e35a-435c-ae8b-43338b3507e9",
   "metadata": {},
   "source": [
    "## Random"
   ]
  },
  {
   "cell_type": "code",
   "execution_count": null,
   "id": "93355d49-98a5-4317-a23b-cab8ce09b74b",
   "metadata": {},
   "outputs": [],
   "source": [
    "pd.merge(data.query(\"dataset=='wikimath' and mtype=='rand'\").groupby(['mrate','lags','method'])['mse'].mean().reset_index(),\n",
    "         data.query(\"dataset=='wikimath' and mtype=='rand'\").groupby(['mrate','lags','method'])['mse'].std().reset_index(),\n",
    "         on=['method','mrate','lags']).rename(columns={'mse_x':'mean','mse_y':'std'}).round(3)"
   ]
  },
  {
   "cell_type": "markdown",
   "id": "fd253819-25b6-4bc5-8857-98da4eb2b80e",
   "metadata": {},
   "source": [
    "## Block"
   ]
  },
  {
   "cell_type": "code",
   "execution_count": null,
   "id": "3a9cdb61-9ba7-454c-b31b-6c9066b83dc8",
   "metadata": {},
   "outputs": [],
   "source": [
    "pd.merge(data.query(\"dataset=='wikimath' and mtype=='block'\").groupby(['mrate','lags','method'])['mse'].mean().reset_index(),\n",
    "         data.query(\"dataset=='wikimath' and mtype=='block'\").groupby(['mrate','lags','method'])['mse'].std().reset_index(),\n",
    "         on=['method','mrate','lags']).rename(columns={'mse_x':'mean','mse_y':'std'})"
   ]
  },
  {
   "cell_type": "markdown",
   "id": "14b6aff3-c706-49a3-bd8d-6edf52a0f725",
   "metadata": {},
   "source": [
    "## missing values on the same nodes"
   ]
  },
  {
   "cell_type": "code",
   "execution_count": null,
   "id": "723f08c0-537d-434d-80ab-7901184aa74b",
   "metadata": {},
   "outputs": [],
   "source": [
    "pd.merge(data_wiki_GSO.groupby(['mrate','lags','method'])['mse'].mean().reset_index(),\n",
    "        data_wiki_GSO.groupby(['mrate','lags','method'])['mse'].std().reset_index(),\n",
    "         on=['method','mrate','lags']).rename(columns={'mse_x':'mean','mse_y':'std'}).round(3)"
   ]
  },
  {
   "cell_type": "markdown",
   "id": "90b3f7a5-c7fb-4c23-a230-5fa9fc7ac726",
   "metadata": {
    "tags": []
   },
   "source": [
    "# WindmillOutputSmallDatasetLoader (lags=8)"
   ]
  },
  {
   "cell_type": "markdown",
   "id": "5a2e36b4-0323-4c11-a286-1f3096c8e409",
   "metadata": {},
   "source": [
    "## Baseline"
   ]
  },
  {
   "cell_type": "code",
   "execution_count": null,
   "id": "49b9fab5-a442-4d99-808f-8f9bfa70e094",
   "metadata": {},
   "outputs": [],
   "source": [
    "pd.merge(data.query(\"dataset=='windmillsmall' and mrate==0\").groupby(['lags','method'])['mse'].mean().reset_index(),\n",
    "         data.query(\"dataset=='windmillsmall' and mrate==0\").groupby(['lags','method'])['mse'].std().reset_index(),\n",
    "         on=['method','lags']).rename(columns={'mse_x':'mean','mse_y':'std'}).round(3)"
   ]
  },
  {
   "cell_type": "markdown",
   "id": "a983ca2b-174b-450a-8831-03294d60f51d",
   "metadata": {},
   "source": [
    "## Random"
   ]
  },
  {
   "cell_type": "code",
   "execution_count": null,
   "id": "8902439c-dd57-4b4a-9ee7-a4a6f834b748",
   "metadata": {},
   "outputs": [],
   "source": [
    "pd.merge(data.query(\"dataset=='windmillsmall' and mtype=='rand'\").groupby(['mrate','lags','method'])['mse'].mean().reset_index(),\n",
    "         data.query(\"dataset=='windmillsmall' and mtype=='rand'\").groupby(['mrate','lags','method'])['mse'].std().reset_index(),\n",
    "         on=['method','mrate','lags']).rename(columns={'mse_x':'mean','mse_y':'std'}).round(3)"
   ]
  },
  {
   "cell_type": "markdown",
   "id": "44f6a1e6-c2f3-4d8c-b071-ec58633f2ccd",
   "metadata": {},
   "source": [
    "## Block"
   ]
  },
  {
   "cell_type": "code",
   "execution_count": null,
   "id": "e6a097b4-c47c-48ff-92aa-fefa3472dba2",
   "metadata": {},
   "outputs": [],
   "source": [
    "pd.merge(data.query(\"dataset=='windmillsmall' and mtype=='block'\").groupby(['mrate','lags','method'])['mse'].mean().reset_index(),\n",
    "         data.query(\"dataset=='windmillsmall' and mtype=='block'\").groupby(['mrate','lags','method'])['mse'].std().reset_index(),\n",
    "         on=['method','mrate','lags']).rename(columns={'mse_x':'mean','mse_y':'std'}).round(3)"
   ]
  },
  {
   "cell_type": "markdown",
   "id": "8a4660bf-74f6-449d-b87f-2089ad0d118a",
   "metadata": {},
   "source": [
    "# Montevideobus (lags=4)"
   ]
  },
  {
   "cell_type": "markdown",
   "id": "2cdb4bd3-1980-47f0-afb4-4d82a3a86e70",
   "metadata": {
    "tags": []
   },
   "source": [
    "## Baseline"
   ]
  },
  {
   "cell_type": "code",
   "execution_count": null,
   "id": "80ca776b-e0ac-46cf-877c-50db022936cf",
   "metadata": {},
   "outputs": [],
   "source": [
    "pd.merge(data.query(\"dataset=='monte' and mrate==0\").groupby(['lags','method'])['mse'].mean().reset_index(),\n",
    "         data.query(\"dataset=='monte' and mrate==0\").groupby(['lags','method'])['mse'].std().reset_index(),\n",
    "         on=['method','lags']).rename(columns={'mse_x':'mean','mse_y':'std'}).round(3)"
   ]
  },
  {
   "cell_type": "markdown",
   "id": "afcdfe1a-afd7-46eb-af34-2e3bcc148a17",
   "metadata": {},
   "source": [
    "## Random"
   ]
  },
  {
   "cell_type": "code",
   "execution_count": null,
   "id": "0d19690b-1489-4e96-9a01-d5a8f755fb28",
   "metadata": {},
   "outputs": [],
   "source": [
    "pd.merge(data.query(\"dataset=='monte' and mtype=='rand'\").groupby(['mrate','lags','inter_method','method'])['mse'].mean().reset_index(),\n",
    "         data.query(\"dataset=='monte' and mtype=='rand'\").groupby(['mrate','lags','inter_method','method'])['mse'].std().reset_index(),\n",
    "         on=['mrate','inter_method','method','mrate','lags']).rename(columns={'mse_x':'mean','mse_y':'std'})"
   ]
  },
  {
   "cell_type": "markdown",
   "id": "9a74d78d-a333-4c99-ad70-5985c07feae1",
   "metadata": {},
   "source": [
    "## Block"
   ]
  },
  {
   "cell_type": "code",
   "execution_count": null,
   "id": "76aea718-eb75-4a87-a72f-d3e1e60c3cbe",
   "metadata": {},
   "outputs": [],
   "source": [
    "pd.merge(data.query(\"dataset=='monte' and mtype=='block'\").groupby(['mrate','lags','inter_method','method'])['mse'].mean().reset_index(),\n",
    "         data.query(\"dataset=='monte' and mtype=='block'\").groupby(['mrate','lags','inter_method','method'])['mse'].std().reset_index(),\n",
    "         on=['method','mrate','inter_method','lags']).rename(columns={'mse_x':'mean','mse_y':'std'})"
   ]
  },
  {
   "cell_type": "markdown",
   "id": "c7785114-7c19-452c-be73-25f42330efff",
   "metadata": {},
   "source": [
    "# Check"
   ]
  },
  {
   "cell_type": "code",
   "execution_count": null,
   "id": "86b95ea7-efd0-4674-afa8-f1160d6681d2",
   "metadata": {},
   "outputs": [],
   "source": [
    "import itstgcnEvolveGCNH\n",
    "import torch\n",
    "import numpy as np\n",
    "import pandas as pd"
   ]
  },
  {
   "cell_type": "code",
   "execution_count": null,
   "id": "a8ff2fbd-5865-4f3b-9777-6c7ab65bc150",
   "metadata": {},
   "outputs": [],
   "source": [
    "import matplotlib.pyplot as plt"
   ]
  },
  {
   "cell_type": "code",
   "execution_count": null,
   "id": "66b5a6fb-680d-4449-a19d-60441becc4e6",
   "metadata": {},
   "outputs": [],
   "source": [
    "import random"
   ]
  },
  {
   "cell_type": "code",
   "execution_count": null,
   "id": "7cc39147-393e-4cc8-8d41-84f4f928854a",
   "metadata": {},
   "outputs": [],
   "source": [
    "class Eval_csy:\n",
    "    def __init__(self,learner,train_dataset):\n",
    "        self.learner = learner\n",
    "        # self.learner.model.eval()\n",
    "        try:self.learner.model.eval()\n",
    "        except:pass\n",
    "        self.train_dataset = train_dataset\n",
    "        self.lags = self.learner.lags\n",
    "        rslt_tr = self.learner(self.train_dataset) \n",
    "        self.X_tr = rslt_tr['X']\n",
    "        self.y_tr = rslt_tr['y']\n",
    "        self.f_tr = torch.concat([self.train_dataset[0].x.T,self.y_tr],axis=0).float()\n",
    "        self.yhat_tr = rslt_tr['yhat']\n",
    "        self.fhat_tr = torch.concat([self.train_dataset[0].x.T,self.yhat_tr],axis=0).float()"
   ]
  },
  {
   "cell_type": "code",
   "execution_count": null,
   "id": "709cf6d2-126b-4ccd-be46-d640e0d83c87",
   "metadata": {},
   "outputs": [],
   "source": [
    "from plotnine import *"
   ]
  },
  {
   "cell_type": "code",
   "execution_count": null,
   "id": "fcccab62-3474-419c-ba64-2f5724d91a22",
   "metadata": {},
   "outputs": [],
   "source": [
    "T = 500\n",
    "t = np.arange(T)/T * 5\n",
    "\n",
    "x = 1*np.sin(2*t)+np.sin(4*t)+1.5*np.sin(7*t)\n",
    "eps_x  = np.random.normal(size=T)*0\n",
    "y = x.copy()\n",
    "for i in range(2,T):\n",
    "    y[i] = 0.35*x[i-1] - 0.15*x[i-2] + 0.5*np.cos(0.4*t[i]) \n",
    "eps_y  = np.random.normal(size=T)*0\n",
    "x = x\n",
    "y = y\n",
    "plt.plot(t,x,color='C0',lw=5)\n",
    "plt.plot(t,x+eps_x,alpha=0.5,color='C0')\n",
    "plt.plot(t,y,color='C1',lw=5)\n",
    "plt.plot(t,y+eps_y,alpha=0.5,color='C1')\n",
    "_node_ids = {'node1':0, 'node2':1}\n",
    "\n",
    "_FX1 = np.stack([x+eps_x,y+eps_y],axis=1).tolist()\n",
    "\n",
    "_edges1 = torch.tensor([[0,1]]).tolist()\n",
    "\n",
    "data_dict1 = {'edges':_edges1, 'node_ids':_node_ids, 'FX':_FX1}\n",
    "\n",
    "# save_data(data_dict1, './data/toy_example1.pkl')\n",
    "\n",
    "data1 = pd.DataFrame({'x':x,'y':y,'xer':x,'yer':y})\n",
    "\n",
    "# save_data(data1, './data/toy_example_true1.csv')\n"
   ]
  },
  {
   "cell_type": "code",
   "execution_count": null,
   "id": "d01477c3-f9f3-4424-bac4-aa272e4fc4b3",
   "metadata": {},
   "outputs": [],
   "source": [
    "loader1 = itstgcnEvolveGCNH.DatasetLoader(data_dict1)"
   ]
  },
  {
   "cell_type": "code",
   "execution_count": null,
   "id": "4758c884-83c3-4eae-8e5d-430238da9850",
   "metadata": {},
   "outputs": [],
   "source": [
    "dataset = loader1.get_dataset(lags=4)"
   ]
  },
  {
   "cell_type": "markdown",
   "id": "e106bf63-3efa-498b-ad9f-7eda22b2eb13",
   "metadata": {},
   "source": [
    "mindex = itstgcn.rand_mindex(dataset,mrate=0)\n",
    "dataset_miss = itstgcn.miss(dataset,mindex,mtype='rand')"
   ]
  },
  {
   "cell_type": "code",
   "execution_count": null,
   "id": "7459b7fb-72fd-4fb8-99ed-cfddc3a6c979",
   "metadata": {},
   "outputs": [],
   "source": [
    "mindex = [random.sample(range(0, T), int(T*0.8)),[np.array(list(range(20,30)))]]\n",
    "dataset_miss = itstgcnEvolveGCNH.miss(dataset,mindex,mtype='block')"
   ]
  },
  {
   "cell_type": "code",
   "execution_count": null,
   "id": "416085a0-a85f-41a7-9ccf-e9ee8819246f",
   "metadata": {},
   "outputs": [],
   "source": [
    "dataset_padded = itstgcnEvolveGCNH.padding(dataset_miss,interpolation_method='linear')"
   ]
  },
  {
   "cell_type": "markdown",
   "id": "2cf6656d-86fa-4aaa-bf12-6a57c46115d9",
   "metadata": {},
   "source": [
    "`-` 학습"
   ]
  },
  {
   "cell_type": "code",
   "execution_count": null,
   "id": "033be495-9963-48dc-b753-7b6068874e90",
   "metadata": {},
   "outputs": [],
   "source": [
    "lrnr = itstgcnEvolveGCNH.StgcnLearner(dataset_padded)"
   ]
  },
  {
   "cell_type": "code",
   "execution_count": null,
   "id": "92ce3e0f-1107-4499-8022-691d3641d6dd",
   "metadata": {},
   "outputs": [],
   "source": [
    "lrnr.learn(filters=16,epoch=10)"
   ]
  },
  {
   "cell_type": "code",
   "execution_count": null,
   "id": "ea1908f3-15e5-4246-87d6-e82ddfd9ef6b",
   "metadata": {},
   "outputs": [],
   "source": [
    "lrnr1 = itstgcnEvolveGCNH.ITStgcnLearner(dataset_padded)"
   ]
  },
  {
   "cell_type": "code",
   "execution_count": null,
   "id": "d62357ae-3d50-44cc-bd62-2078374530f2",
   "metadata": {},
   "outputs": [],
   "source": [
    "lrnr1.learn(filters=16,epoch=10)"
   ]
  },
  {
   "cell_type": "code",
   "execution_count": null,
   "id": "b721451f-63cc-4d4e-aa75-d40bf69e29e7",
   "metadata": {},
   "outputs": [],
   "source": [
    "evtor = Eval_csy(lrnr,dataset_padded)"
   ]
  },
  {
   "cell_type": "code",
   "execution_count": null,
   "id": "a17d5ab5-9dd1-466d-b057-9fd32193d880",
   "metadata": {},
   "outputs": [],
   "source": [
    "evtor1 = Eval_csy(lrnr1,dataset_padded)"
   ]
  },
  {
   "cell_type": "code",
   "execution_count": null,
   "id": "3cfa75b6-c6dd-4076-ad26-1cd1228334e6",
   "metadata": {},
   "outputs": [],
   "source": [
    "with plt.style.context('seaborn-white'):\n",
    "    fig, ax = plt.subplots(figsize=(20,10))\n",
    "    \n",
    "    ax.plot(evtor.f_tr[:,0],'--o',color='black',alpha=0.5,label='Imputation')\n",
    "    ax.plot(data1['x'][:],'-',color='grey',label='Complete Data')\n",
    "    ax.plot(evtor.fhat_tr[:,0],color='brown',lw=3,label='STGCN')\n",
    "    ax.plot(evtor1.fhat_tr[:,0],color='blue',lw=3,label='ITSTGCN')\n",
    "    \n",
    "    ax.legend(fontsize=20,loc='lower left',facecolor='white', frameon=True)\n",
    "    ax.tick_params(axis='y', labelsize=20)\n",
    "    ax.tick_params(axis='x', labelsize=20)"
   ]
  },
  {
   "cell_type": "code",
   "execution_count": null,
   "id": "2f27363b-cc70-4f73-bc42-286ce63d90b7",
   "metadata": {},
   "outputs": [],
   "source": [
    "with plt.style.context('seaborn-white'):\n",
    "    fig, ax = plt.subplots(figsize=(20,10))\n",
    "    \n",
    "    ax.plot(evtor.f_tr[:,1],'--o',color='black',alpha=0.5,label='Imputation')\n",
    "    ax.plot(data1['y'][:],'-',color='grey',label='Complete Data')\n",
    "    ax.plot(evtor.fhat_tr[:,1],color='brown',lw=3,label='STGCN')\n",
    "    ax.plot(evtor1.fhat_tr[:,1],color='blue',lw=3,label='ITSTGCN')\n",
    "    \n",
    "    ax.legend(fontsize=20,loc='lower left',facecolor='white', frameon=True)\n",
    "    ax.tick_params(axis='y', labelsize=20)\n",
    "    ax.tick_params(axis='x', labelsize=20)"
   ]
  },
  {
   "cell_type": "code",
   "execution_count": null,
   "id": "85af0367-4345-4923-b70c-f421862952d8",
   "metadata": {},
   "outputs": [],
   "source": [
    "import itstgcnsnd\n",
    "import torch\n",
    "import numpy as np"
   ]
  },
  {
   "cell_type": "code",
   "execution_count": null,
   "id": "364fe660-1407-4301-8e32-177e2ec638e2",
   "metadata": {},
   "outputs": [],
   "source": [
    "loader1 = itstgcnsnd.DatasetLoader(data_dict1)"
   ]
  },
  {
   "cell_type": "code",
   "execution_count": null,
   "id": "56805762-3512-4c09-a91a-b36c18f5ddab",
   "metadata": {},
   "outputs": [],
   "source": [
    "dataset = loader1.get_dataset(lags=2)"
   ]
  },
  {
   "cell_type": "markdown",
   "id": "18abd7ba-6243-4854-b618-1af29cae48de",
   "metadata": {},
   "source": [
    "mindex = itstgcn.rand_mindex(dataset,mrate=0)\n",
    "dataset_miss = itstgcn.miss(dataset,mindex,mtype='rand')"
   ]
  },
  {
   "cell_type": "code",
   "execution_count": null,
   "id": "9576d9ce-75d2-44bc-9145-4d641bebbe0b",
   "metadata": {},
   "outputs": [],
   "source": [
    "mindex = [random.sample(range(0, T), int(T*0.5)),[np.array(list(range(20,30)))]]\n",
    "dataset_miss = itstgcnsnd.miss(dataset,mindex,mtype='block')"
   ]
  },
  {
   "cell_type": "code",
   "execution_count": null,
   "id": "182cb51a-873b-40fd-9d62-44e033c3cbf3",
   "metadata": {},
   "outputs": [],
   "source": [
    "dataset_padded = itstgcnsnd.padding(dataset_miss,interpolation_method='linear')"
   ]
  },
  {
   "cell_type": "markdown",
   "id": "14376a29-9c3d-438d-a83d-7f7f6f79e23c",
   "metadata": {},
   "source": [
    "`-` 학습"
   ]
  },
  {
   "cell_type": "code",
   "execution_count": null,
   "id": "4c29ba1f-aacc-4168-8992-324fce9d1ca2",
   "metadata": {},
   "outputs": [],
   "source": [
    "lrnr = itstgcnsnd.StgcnLearner(dataset_padded)"
   ]
  },
  {
   "cell_type": "code",
   "execution_count": null,
   "id": "83246440-6e62-45f3-853d-eb7c4a0d36f5",
   "metadata": {},
   "outputs": [],
   "source": [
    "lrnr.learn(filters=32,epoch=5)"
   ]
  },
  {
   "cell_type": "code",
   "execution_count": null,
   "id": "9c5ba237-9ba5-45cb-b04d-2fbe49ce0a48",
   "metadata": {},
   "outputs": [],
   "source": [
    "lrnr1 = itstgcnsnd.ITStgcnLearner(dataset_padded)"
   ]
  },
  {
   "cell_type": "code",
   "execution_count": null,
   "id": "2375ff9f-88b2-42c4-9b9f-5bac87830684",
   "metadata": {},
   "outputs": [],
   "source": [
    "lrnr1.learn(filters=32,epoch=5)"
   ]
  },
  {
   "cell_type": "code",
   "execution_count": null,
   "id": "7f4d3d00-b3f9-496b-9222-ff9de732e107",
   "metadata": {},
   "outputs": [],
   "source": [
    "evtor = Eval_csy(lrnr,dataset_padded)"
   ]
  },
  {
   "cell_type": "code",
   "execution_count": null,
   "id": "480813f0-8a2b-42b9-8fbc-b306a37ab743",
   "metadata": {},
   "outputs": [],
   "source": [
    "evtor1 = Eval_csy(lrnr1,dataset_padded)"
   ]
  },
  {
   "cell_type": "code",
   "execution_count": null,
   "id": "0927419e-7caa-40e4-87da-bde012656697",
   "metadata": {},
   "outputs": [],
   "source": [
    "with plt.style.context('seaborn-white'):\n",
    "    fig, ax = plt.subplots(figsize=(20,10))\n",
    "    \n",
    "    ax.plot(evtor.f_tr[:,0],'--o',color='black',alpha=0.5,label='Imputation')\n",
    "    ax.plot(data1['x'][:],'-',color='grey',label='Complete Data')\n",
    "    ax.plot(evtor.fhat_tr[:,0],color='brown',lw=3,label='STGCN')\n",
    "    ax.plot(evtor1.fhat_tr[:,0],color='blue',lw=3,label='ITSTGCN')\n",
    "    \n",
    "    ax.legend(fontsize=20,loc='lower left',facecolor='white', frameon=True)\n",
    "    ax.tick_params(axis='y', labelsize=20)\n",
    "    ax.tick_params(axis='x', labelsize=20)"
   ]
  },
  {
   "cell_type": "code",
   "execution_count": null,
   "id": "f6f5ff90-5226-48a8-b2b8-83a342827e96",
   "metadata": {},
   "outputs": [],
   "source": [
    "with plt.style.context('seaborn-white'):\n",
    "    fig, ax = plt.subplots(figsize=(20,10))\n",
    "    \n",
    "    ax.plot(evtor.f_tr[:,1],'--o',color='black',alpha=0.5,label='Imputation')\n",
    "    ax.plot(data1['y'][:],'-',color='grey',label='Complete Data')\n",
    "    ax.plot(evtor.fhat_tr[:,1],color='brown',lw=3,label='STGCN')\n",
    "    ax.plot(evtor1.fhat_tr[:,1],color='blue',lw=3,label='ITSTGCN')\n",
    "    \n",
    "    ax.legend(fontsize=20,loc='lower left',facecolor='white', frameon=True)\n",
    "    ax.tick_params(axis='y', labelsize=20)\n",
    "    ax.tick_params(axis='x', labelsize=20)"
   ]
  },
  {
   "cell_type": "markdown",
   "id": "2080d735-1ed6-419b-bfc9-e99560bf2cd4",
   "metadata": {},
   "source": [
    "# hyperparameter "
   ]
  },
  {
   "cell_type": "code",
   "execution_count": null,
   "id": "cb44d14f-0f4a-487d-9d0d-f21cb0febe7a",
   "metadata": {},
   "outputs": [],
   "source": [
    "import itstgcn\n",
    "\n",
    "data_dict = itstgcn.load_data('./data/fivenodes.pkl')\n",
    "loader = itstgcn.DatasetLoader(data_dict)\n",
    "\n",
    "from torch_geometric_temporal.dataset import ChickenpoxDatasetLoader\n",
    "loader1 = ChickenpoxDatasetLoader()\n",
    "\n",
    "from torch_geometric_temporal.dataset import PedalMeDatasetLoader\n",
    "loader2 = PedalMeDatasetLoader()\n",
    "\n",
    "from torch_geometric_temporal.dataset import WikiMathsDatasetLoader\n",
    "loader3 = WikiMathsDatasetLoader()\n",
    "\n",
    "from torch_geometric_temporal.dataset import WindmillOutputSmallDatasetLoader\n",
    "loader6 = WindmillOutputSmallDatasetLoader()\n",
    "\n",
    "from torch_geometric_temporal.dataset import MontevideoBusDatasetLoader\n",
    "loader10 = MontevideoBusDatasetLoader()"
   ]
  },
  {
   "cell_type": "code",
   "execution_count": null,
   "id": "65fac76f-ac3b-4306-afe2-5707b17f9652",
   "metadata": {},
   "outputs": [],
   "source": [
    "try:\n",
    "    from tqdm import tqdm\n",
    "except ImportError:\n",
    "    def tqdm(iterable):\n",
    "        return iterable"
   ]
  },
  {
   "cell_type": "markdown",
   "id": "e9cd85d5-1243-434d-b7e3-a4b6e8a51d34",
   "metadata": {},
   "source": [
    "|Dataset|RecurrentGCN|Method|Missing Rate|Filters|Lags|Mean|SD|\n",
    "|:--:|:--:|:--:|:--:|:--:|:--:|:--:|:--:|\n",
    "|fivenodes|GConvGRU|IT-STGCN|0.7|12|2|1.167|0.059|\n",
    "|fivenodes|GConvGRU|STGCN|0.7|12|2|2.077|0.252|\n",
    "|chickenpox|GConvGRU|IT-STGCN|0.8|16|4|1.586|0.199|\n",
    "|chickenpox|GConvGRU|STGCN|0.8|16|4|2.529|0.292|\n",
    "|pedalme|GConvGRU|IT-STGCN|0.6|12|4|1.571|0.277|\n",
    "|pedalme|GConvGRU|STGCN|0.6|12|4|1.753|0.239|\n",
    "|wikimath|GConvGRU|IT-STGCN|0.8|12|8|0.687|0.021|\n",
    "|wikimath|GConvGRU|STGCN|0.8|12|8|0.932|0.04|\n",
    "|windmillsmall|GConvGRU|IT-STGCN|0.7|12|8|1.180|0.035|\n",
    "|windmillsmall|GConvGRU|STGCN|0.7|12|8|1.636|0.088|\n",
    "|monte|GConvGRU|IT-STGCN|0.8|12|4|1.096|0.019|\n",
    "|monte|GConvGRU|STGCN|0.8|12|4|1.516|0.040|"
   ]
  },
  {
   "cell_type": "code",
   "execution_count": null,
   "id": "5de1c73e-4115-495d-8e5c-712a19133fb7",
   "metadata": {},
   "outputs": [],
   "source": [
    "EvolveGCNH?"
   ]
  },
  {
   "cell_type": "code",
   "execution_count": null,
   "id": "ef454897-5e0d-4a5d-a2ac-3d77fc3a8bf8",
   "metadata": {},
   "outputs": [],
   "source": [
    "import torch\n",
    "import torch.nn.functional as F\n",
    "from torch_geometric_temporal.nn.recurrent import TGCN\n",
    "\n",
    "# from torch_geometric_temporal.dataset import ChickenpoxDatasetLoader\n",
    "from torch_geometric_temporal.signal import temporal_signal_split\n",
    "\n",
    "# loader1 = ChickenpoxDatasetLoader()\n",
    "\n",
    "dataset = loader.get_dataset(lags=2)\n",
    "dataset1 = loader1.get_dataset(lags=4)\n",
    "dataset2 = loader2.get_dataset(lags=4)\n",
    "dataset3 = loader3.get_dataset(lags=8)\n",
    "dataset6 = loader6.get_dataset(lags=8)\n",
    "dataset10 = loader10.get_dataset(lags=4)\n",
    "\n",
    "train_dataset, test_dataset = temporal_signal_split(dataset, train_ratio=0.2)\n",
    "train_dataset1, test_dataset1 = temporal_signal_split(dataset1, train_ratio=0.2)\n",
    "train_dataset2, test_dataset2 = temporal_signal_split(dataset2, train_ratio=0.2)\n",
    "train_dataset3, test_dataset3 = temporal_signal_split(dataset3, train_ratio=0.2)\n",
    "train_dataset6, test_dataset6 = temporal_signal_split(dataset6, train_ratio=0.2)\n",
    "train_dataset10, test_dataset10 = temporal_signal_split(dataset10, train_ratio=0.2)"
   ]
  },
  {
   "cell_type": "code",
   "execution_count": null,
   "id": "ebfbc04d-e726-478a-9aa8-ae929848d903",
   "metadata": {},
   "outputs": [],
   "source": [
    "class RecurrentGCN(torch.nn.Module):\n",
    "    def __init__(self, node_features, filters):\n",
    "        super(RecurrentGCN, self).__init__()\n",
    "        self.recurrent = TGCN(node_features, filters)\n",
    "        self.linear = torch.nn.Linear(filters, 1)\n",
    "\n",
    "    def forward(self, x, edge_index, edge_weight, prev_hidden_state):\n",
    "        h = self.recurrent(x, edge_index, edge_weight, prev_hidden_state)\n",
    "        y = F.relu(h)\n",
    "        y = self.linear(y)\n",
    "        return y, h"
   ]
  },
  {
   "cell_type": "markdown",
   "id": "dfb2194e-cd4e-4b6d-a229-46930537f342",
   "metadata": {},
   "source": [
    "### fivenodes Nodes = 2, Filters = 12"
   ]
  },
  {
   "cell_type": "code",
   "execution_count": null,
   "id": "c9e976ad-44ab-4bd8-8cb9-22272628c21f",
   "metadata": {},
   "outputs": [],
   "source": [
    "model = RecurrentGCN(node_features=2, filters=12)\n",
    "\n",
    "optimizer = torch.optim.Adam(model.parameters(), lr=0.01)\n",
    "\n",
    "model.train()\n",
    "\n",
    "for epoch in tqdm(range(50)):\n",
    "    cost = 0\n",
    "    hidden_state = None\n",
    "    _b=[]\n",
    "    _d=[]\n",
    "    for time, snapshot in enumerate(train_dataset):\n",
    "        y_hat, hidden_state = model(snapshot.x, snapshot.edge_index, snapshot.edge_attr,hidden_state)\n",
    "        y_hat = y_hat.reshape(-1)\n",
    "        cost = cost + torch.mean((y_hat-snapshot.y)**2)\n",
    "        _b.append(y_hat)\n",
    "        _d.append(cost)\n",
    "    cost = cost / (time+1)\n",
    "    cost.backward()\n",
    "    optimizer.step()\n",
    "    optimizer.zero_grad()"
   ]
  },
  {
   "cell_type": "code",
   "execution_count": null,
   "id": "7d3614f3-4129-41cd-b456-c0b560b96052",
   "metadata": {
    "tags": []
   },
   "outputs": [],
   "source": [
    "model.eval()\n",
    "cost = 0\n",
    "hidden_state = None\n",
    "_a=[]\n",
    "_a1=[]\n",
    "for time, snapshot in enumerate(test_dataset):\n",
    "    y_hat, hidden_state = model(snapshot.x, snapshot.edge_index, snapshot.edge_attr, hidden_state)\n",
    "    y_hat = y_hat.reshape(-1)\n",
    "    cost = cost + torch.mean((y_hat-snapshot.y)**2)\n",
    "    _a.append(y_hat)\n",
    "    _a1.append(cost)\n",
    "cost = cost / (time+1)\n",
    "cost = cost.item()\n",
    "print(\"MSE: {:.4f}\".format(cost))"
   ]
  },
  {
   "cell_type": "code",
   "execution_count": null,
   "id": "a6c29232-7d71-42d6-a494-9f79a41dae12",
   "metadata": {},
   "outputs": [],
   "source": [
    "_c = [_a1[i].detach() for i in range(len(_a1))]\n",
    "\n",
    "_e = [_d[i].detach() for i in range(len(_d))]"
   ]
  },
  {
   "cell_type": "code",
   "execution_count": null,
   "id": "af95ced3-440a-414c-9df8-6954ac7cd198",
   "metadata": {},
   "outputs": [],
   "source": [
    "fig, (( ax1,ax2),(ax3,ax4),(ax5,ax6)) = plt.subplots(3,2,figsize=(30,20))\n",
    "\n",
    "ax1.set_title('train node1')\n",
    "ax1.plot([train_dataset.targets[i][0] for i in range(train_dataset.snapshot_count)])\n",
    "ax1.plot(torch.tensor([_b[i].detach()[0] for i in range(train_dataset.snapshot_count)]))\n",
    "\n",
    "ax2.set_title('test node1')\n",
    "ax2.plot([test_dataset.targets[i][0] for i in range(test_dataset.snapshot_count)])\n",
    "ax2.plot(torch.tensor([_a[i].detach()[0] for i in range(test_dataset.snapshot_count)]))\n",
    "\n",
    "ax3.set_title('train node2')\n",
    "ax3.plot([train_dataset.targets[i][1] for i in range(train_dataset.snapshot_count)])\n",
    "ax3.plot(torch.tensor([_b[i].detach()[1] for i in range(train_dataset.snapshot_count)]))\n",
    "\n",
    "\n",
    "ax4.set_title('test node2')\n",
    "ax4.plot([test_dataset.targets[i][1] for i in range(test_dataset.snapshot_count)])\n",
    "ax4.plot(torch.tensor([_a[i].detach()[1] for i in range(test_dataset.snapshot_count)]))\n",
    "\n",
    "ax5.set_title('train cost')\n",
    "ax5.plot(_e)\n",
    "\n",
    "ax6.set_title('test cost')\n",
    "ax6.plot(_c)"
   ]
  },
  {
   "cell_type": "markdown",
   "id": "d9811e93-dc0b-44f0-bf54-07ad8a3ea889",
   "metadata": {},
   "source": [
    "### Chickenpox Nodes = 4, Filters = 12"
   ]
  },
  {
   "cell_type": "code",
   "execution_count": null,
   "id": "c5f765dd-8546-44c5-9c3e-0f4e52b8788c",
   "metadata": {
    "tags": []
   },
   "outputs": [],
   "source": [
    "model1 = RecurrentGCN(node_features=4, filters=12)\n",
    "\n",
    "optimizer1 = torch.optim.Adam(model1.parameters(), lr=0.01)\n",
    "\n",
    "model1.train()\n",
    "\n",
    "for epoch in tqdm(range(50)):\n",
    "    cost = 0\n",
    "    hidden_state = None\n",
    "    _b=[]\n",
    "    _d=[]\n",
    "    for time, snapshot in enumerate(train_dataset1):\n",
    "        y_hat, hidden_state = model1(snapshot.x, snapshot.edge_index, snapshot.edge_attr,hidden_state)\n",
    "        y_hat = y_hat.reshape(-1)\n",
    "        cost = cost + torch.mean((y_hat-snapshot.y)**2)\n",
    "        _b.append(y_hat)\n",
    "        _d.append(cost)\n",
    "    cost = cost / (time+1)\n",
    "    cost.backward()\n",
    "    optimizer1.step()\n",
    "    optimizer1.zero_grad()"
   ]
  },
  {
   "cell_type": "code",
   "execution_count": null,
   "id": "c7a2dc4d-2835-40bb-a5b3-69dc46cbbb32",
   "metadata": {
    "tags": []
   },
   "outputs": [],
   "source": [
    "model1.eval()\n",
    "cost = 0\n",
    "hidden_state = None\n",
    "_a=[]\n",
    "_a1=[]\n",
    "for time, snapshot in enumerate(test_dataset1):\n",
    "    y_hat, hidden_state = model1(snapshot.x, snapshot.edge_index, snapshot.edge_attr, hidden_state)\n",
    "    y_hat = y_hat.reshape(-1)\n",
    "    cost = cost + torch.mean((y_hat-snapshot.y)**2)\n",
    "    _a.append(y_hat)\n",
    "    _a1.append(cost)\n",
    "cost = cost / (time+1)\n",
    "cost = cost.item()\n",
    "print(\"MSE: {:.4f}\".format(cost))"
   ]
  },
  {
   "cell_type": "code",
   "execution_count": null,
   "id": "8dd43e0e-a4c0-4741-9ed0-d8f35fe2692d",
   "metadata": {},
   "outputs": [],
   "source": [
    "_e = [_d[i].detach() for i in range(len(_d))]\n",
    "\n",
    "_c = [_a1[i].detach() for i in range(len(_a1))]"
   ]
  },
  {
   "cell_type": "code",
   "execution_count": null,
   "id": "92676245-f051-4336-ad0e-c80623d5da4c",
   "metadata": {
    "tags": []
   },
   "outputs": [],
   "source": [
    "fig, (( ax1,ax2),(ax3,ax4),(ax5,ax6)) = plt.subplots(3,2,figsize=(30,20))\n",
    "\n",
    "ax1.set_title('train node1')\n",
    "ax1.plot([train_dataset1.targets[i][0] for i in range(train_dataset1.snapshot_count)])\n",
    "ax1.plot(torch.tensor([_b[i].detach()[0] for i in range(train_dataset1.snapshot_count)]))\n",
    "\n",
    "ax2.set_title('test node1')\n",
    "ax2.plot([test_dataset1.targets[i][0] for i in range(test_dataset1.snapshot_count)])\n",
    "ax2.plot(torch.tensor([_a[i].detach()[0] for i in range(test_dataset1.snapshot_count)]))\n",
    "\n",
    "ax3.set_title('train node2')\n",
    "ax3.plot([train_dataset1.targets[i][1] for i in range(train_dataset1.snapshot_count)])\n",
    "ax3.plot(torch.tensor([_b[i].detach()[1] for i in range(train_dataset1.snapshot_count)]))\n",
    "\n",
    "\n",
    "ax4.set_title('test node2')\n",
    "ax4.plot([test_dataset1.targets[i][1] for i in range(test_dataset1.snapshot_count)])\n",
    "ax4.plot(torch.tensor([_a[i].detach()[1] for i in range(test_dataset1.snapshot_count)]))\n",
    "\n",
    "ax5.set_title('train cost')\n",
    "ax5.plot(_e)\n",
    "\n",
    "ax6.set_title('test cost')\n",
    "ax6.plot(_c)"
   ]
  },
  {
   "cell_type": "markdown",
   "id": "30fae499-9f04-44f2-b101-6f115be39091",
   "metadata": {},
   "source": [
    "### Pedalme Nodes = 4, Filters = 12"
   ]
  },
  {
   "cell_type": "code",
   "execution_count": null,
   "id": "31d9f361-6486-4fd9-8cf7-d6ae5a71b4de",
   "metadata": {},
   "outputs": [],
   "source": [
    "model2 = RecurrentGCN(node_features=4, filters=12)\n",
    "\n",
    "optimizer2 = torch.optim.Adam(model2.parameters(), lr=0.01)\n",
    "\n",
    "model2.train()\n",
    "    \n",
    "\n",
    "for epoch in tqdm(range(50)):\n",
    "    cost = 0\n",
    "    hidden_state = None\n",
    "    _b=[]\n",
    "    _d=[]\n",
    "    for time, snapshot in enumerate(train_dataset2):\n",
    "        y_hat, hidden_state = model2(snapshot.x, snapshot.edge_index, snapshot.edge_attr,hidden_state)\n",
    "        y_hat = y_hat.reshape(-1)\n",
    "        cost = cost + torch.mean((y_hat-snapshot.y)**2)\n",
    "        _b.append(y_hat)\n",
    "        _d.append(cost)\n",
    "    cost = cost / (time+1)\n",
    "    cost.backward()\n",
    "    optimizer2.step()\n",
    "    optimizer2.zero_grad()"
   ]
  },
  {
   "cell_type": "code",
   "execution_count": null,
   "id": "bf2179d3-7e7f-413b-a932-27a7bc293b0a",
   "metadata": {
    "tags": []
   },
   "outputs": [],
   "source": [
    "model2.eval()\n",
    "cost = 0\n",
    "hidden_state = None\n",
    "_a=[]\n",
    "_a1=[]\n",
    "for time, snapshot in enumerate(test_dataset2):\n",
    "    y_hat, hidden_state = model2(snapshot.x, snapshot.edge_index, snapshot.edge_attr, hidden_state)\n",
    "    y_hat = y_hat.reshape(-1)\n",
    "    cost = cost + torch.mean((y_hat-snapshot.y)**2)\n",
    "    _a.append(y_hat)\n",
    "    _a1.append(cost)\n",
    "cost = cost / (time+1)\n",
    "cost = cost.item()\n",
    "print(\"MSE: {:.4f}\".format(cost))"
   ]
  },
  {
   "cell_type": "code",
   "execution_count": null,
   "id": "37ffd6b3-4438-456a-803b-628b5caa1e30",
   "metadata": {},
   "outputs": [],
   "source": [
    "_e = [_d[i].detach() for i in range(len(_d))]"
   ]
  },
  {
   "cell_type": "code",
   "execution_count": null,
   "id": "ef0c75d1-2e34-46be-8a1c-300f6a389ca3",
   "metadata": {},
   "outputs": [],
   "source": [
    "_c = [_a1[i].detach() for i in range(len(_a1))]"
   ]
  },
  {
   "cell_type": "code",
   "execution_count": null,
   "id": "f3125e2f-d273-427f-acde-712d9a0c9c6b",
   "metadata": {},
   "outputs": [],
   "source": [
    "fig, (( ax1,ax2),(ax3,ax4),(ax5,ax6)) = plt.subplots(3,2,figsize=(30,20))\n",
    "\n",
    "ax1.set_title('train node1')\n",
    "ax1.plot([train_dataset2.targets[i][0] for i in range(train_dataset2.snapshot_count)])\n",
    "ax1.plot(torch.tensor([_b[i].detach()[0] for i in range(train_dataset2.snapshot_count)]))\n",
    "\n",
    "ax2.set_title('test node1')\n",
    "ax2.plot([test_dataset2.targets[i][0] for i in range(test_dataset2.snapshot_count)])\n",
    "ax2.plot(torch.tensor([_a[i].detach()[0] for i in range(test_dataset2.snapshot_count)]))\n",
    "\n",
    "ax3.set_title('train node2')\n",
    "ax3.plot([train_dataset2.targets[i][1] for i in range(train_dataset2.snapshot_count)])\n",
    "ax3.plot(torch.tensor([_b[i].detach()[1] for i in range(train_dataset2.snapshot_count)]))\n",
    "\n",
    "ax4.set_title('test node2')\n",
    "ax4.plot([test_dataset2.targets[i][1] for i in range(test_dataset2.snapshot_count)])\n",
    "ax4.plot(torch.tensor([_a[i].detach()[1] for i in range(test_dataset2.snapshot_count)]))\n",
    "\n",
    "ax5.set_title('train cost')\n",
    "ax5.plot(_e)\n",
    "\n",
    "ax6.set_title('test cost')\n",
    "ax6.plot(_c)"
   ]
  },
  {
   "cell_type": "markdown",
   "id": "5b211675-d364-466b-9705-f850c5e0efba",
   "metadata": {},
   "source": [
    "### Wikimaths Nodes = 8, Filters = 12"
   ]
  },
  {
   "cell_type": "code",
   "execution_count": null,
   "id": "7ea17ea6-091e-4f2f-9dc1-d73e9f73f5ae",
   "metadata": {},
   "outputs": [],
   "source": [
    "model3 = RecurrentGCN(node_features=8, filters=12)\n",
    "\n",
    "optimizer3 = torch.optim.Adam(model3.parameters(), lr=0.01)\n",
    "\n",
    "model3.train()\n",
    "\n",
    "for epoch in tqdm(range(10)):\n",
    "    cost = 0\n",
    "    hidden_state = None\n",
    "    _b=[]\n",
    "    _d=[]\n",
    "    for time, snapshot in enumerate(train_dataset3):\n",
    "        y_hat, hidden_state = model3(snapshot.x, snapshot.edge_index, snapshot.edge_attr,hidden_state)\n",
    "        y_hat = y_hat.reshape(-1)\n",
    "        cost = cost + torch.mean((y_hat-snapshot.y)**2)\n",
    "        _b.append(y_hat)\n",
    "        _d.append(cost)\n",
    "    cost = cost / (time+1)\n",
    "    cost.backward()\n",
    "    optimizer3.step()\n",
    "    optimizer3.zero_grad()"
   ]
  },
  {
   "cell_type": "code",
   "execution_count": null,
   "id": "c2185ea2-e62b-4b0f-a88c-9b5f51908bb3",
   "metadata": {
    "tags": []
   },
   "outputs": [],
   "source": [
    "model3.eval()\n",
    "cost = 0\n",
    "hidden_state = None\n",
    "_a=[]\n",
    "_a1=[]\n",
    "for time, snapshot in enumerate(test_dataset3):\n",
    "    y_hat, hidden_state = model3(snapshot.x, snapshot.edge_index, snapshot.edge_attr, hidden_state)\n",
    "    y_hat = y_hat.reshape(-1)\n",
    "    cost = cost + torch.mean((y_hat-snapshot.y)**2)\n",
    "    _a.append(y_hat)\n",
    "    _a1.append(cost)\n",
    "cost = cost / (time+1)\n",
    "cost = cost.item()\n",
    "print(\"MSE: {:.4f}\".format(cost))"
   ]
  },
  {
   "cell_type": "code",
   "execution_count": null,
   "id": "ca6fe39f-3a33-460f-8294-446398e9ee78",
   "metadata": {},
   "outputs": [],
   "source": [
    "_e = [_d[i].detach() for i in range(len(_d))]"
   ]
  },
  {
   "cell_type": "code",
   "execution_count": null,
   "id": "cd42aa36-3eb8-406b-a7e5-755ed7ba6ac4",
   "metadata": {},
   "outputs": [],
   "source": [
    "_c = [_a1[i].detach() for i in range(len(_a1))]"
   ]
  },
  {
   "cell_type": "code",
   "execution_count": null,
   "id": "74a0a809-e192-4b17-9d7f-a714bd1332f5",
   "metadata": {},
   "outputs": [],
   "source": [
    "fig, (( ax1,ax2),(ax3,ax4),(ax5,ax6)) = plt.subplots(3,2,figsize=(30,20))\n",
    "\n",
    "ax1.set_title('train node1')\n",
    "ax1.plot([train_dataset3.targets[i][0] for i in range(train_dataset3.snapshot_count)])\n",
    "ax1.plot(torch.tensor([_b[i].detach()[0] for i in range(train_dataset3.snapshot_count)]))\n",
    "\n",
    "ax2.set_title('test node1')\n",
    "ax2.plot([test_dataset3.targets[i][0] for i in range(test_dataset3.snapshot_count)])\n",
    "ax2.plot(torch.tensor([_a[i].detach()[0] for i in range(test_dataset3.snapshot_count)]))\n",
    "\n",
    "ax3.set_title('train node2')\n",
    "ax3.plot([train_dataset3.targets[i][1] for i in range(train_dataset3.snapshot_count)])\n",
    "ax3.plot(torch.tensor([_b[i].detach()[1] for i in range(train_dataset3.snapshot_count)]))\n",
    "\n",
    "\n",
    "ax4.set_title('test node2')\n",
    "ax4.plot([test_dataset3.targets[i][1] for i in range(test_dataset3.snapshot_count)])\n",
    "ax4.plot(torch.tensor([_a[i].detach()[1] for i in range(test_dataset3.snapshot_count)]))\n",
    "\n",
    "ax5.set_title('train cost')\n",
    "ax5.plot(_e)\n",
    "\n",
    "ax6.set_title('test cost')\n",
    "ax6.plot(_c)"
   ]
  },
  {
   "cell_type": "markdown",
   "id": "49f813ed-fe9e-406b-bced-0ba02f5f3517",
   "metadata": {},
   "source": [
    "### Windmillsmall Nodes = 8, Filters = 12"
   ]
  },
  {
   "cell_type": "code",
   "execution_count": null,
   "id": "e3c42939-c407-46e2-9f66-dc59bf1b3bc0",
   "metadata": {},
   "outputs": [],
   "source": [
    "model6 = RecurrentGCN(node_features=8, filters=12)\n",
    "\n",
    "optimizer6 = torch.optim.Adam(model6.parameters(), lr=0.01)\n",
    "\n",
    "model6.train()\n",
    "\n",
    "for epoch in tqdm(range(10)):\n",
    "    cost = 0\n",
    "    hidden_state = None\n",
    "    _b=[]\n",
    "    _d=[]\n",
    "    for time, snapshot in enumerate(train_dataset6):\n",
    "        y_hat, hidden_state = model6(snapshot.x, snapshot.edge_index, snapshot.edge_attr,hidden_state)\n",
    "        y_hat = y_hat.reshape(-1)\n",
    "        cost = cost + torch.mean((y_hat-snapshot.y)**2)\n",
    "        _b.append(y_hat)\n",
    "        _d.append(cost)\n",
    "    cost = cost / (time+1)\n",
    "    cost.backward()\n",
    "    optimizer6.step()\n",
    "    optimizer6.zero_grad()"
   ]
  },
  {
   "cell_type": "code",
   "execution_count": null,
   "id": "f7b50691-6169-4d06-b6b5-b0427df95074",
   "metadata": {
    "tags": []
   },
   "outputs": [],
   "source": [
    "model.eval()\n",
    "cost = 0\n",
    "hidden_state = None\n",
    "_a=[]\n",
    "_a1=[]\n",
    "for time, snapshot in enumerate(test_dataset6):\n",
    "    y_hat, hidden_state = model6(snapshot.x, snapshot.edge_index, snapshot.edge_attr, hidden_state)\n",
    "    y_hat = y_hat.reshape(-1)\n",
    "    cost = cost + torch.mean((y_hat-snapshot.y)**2)\n",
    "    _a.append(y_hat)\n",
    "    _a1.append(cost)\n",
    "cost = cost / (time+1)\n",
    "cost = cost.item()\n",
    "print(\"MSE: {:.4f}\".format(cost))"
   ]
  },
  {
   "cell_type": "code",
   "execution_count": null,
   "id": "37e48ee0-2ef6-4281-be7f-01de798bff75",
   "metadata": {},
   "outputs": [],
   "source": [
    "_e = [_d[i].detach() for i in range(len(_d))]"
   ]
  },
  {
   "cell_type": "code",
   "execution_count": null,
   "id": "16f3ac24-7be8-40ec-aeec-4e66dfe8bba3",
   "metadata": {},
   "outputs": [],
   "source": [
    "_c = [_a1[i].detach() for i in range(len(_a1))]"
   ]
  },
  {
   "cell_type": "code",
   "execution_count": null,
   "id": "e44599c3-822a-4adb-b0f5-bba5afb199d7",
   "metadata": {},
   "outputs": [],
   "source": [
    "fig, (( ax1,ax2),(ax3,ax4),(ax5,ax6)) = plt.subplots(3,2,figsize=(30,20))\n",
    "\n",
    "ax1.set_title('train node1')\n",
    "ax1.plot([train_dataset6.targets[i][0] for i in range(train_dataset6.snapshot_count)])\n",
    "ax1.plot(torch.tensor([_b[i].detach()[0] for i in range(train_dataset6.snapshot_count)]))\n",
    "\n",
    "ax2.set_title('test node1')\n",
    "ax2.plot([test_dataset6.targets[i][0] for i in range(test_dataset6.snapshot_count)])\n",
    "ax2.plot(torch.tensor([_a[i].detach()[0] for i in range(test_dataset6.snapshot_count)]))\n",
    "\n",
    "ax3.set_title('train node2')\n",
    "ax3.plot([train_dataset6.targets[i][1] for i in range(train_dataset6.snapshot_count)])\n",
    "ax3.plot(torch.tensor([_b[i].detach()[1] for i in range(train_dataset6.snapshot_count)]))\n",
    "\n",
    "\n",
    "ax4.set_title('test node2')\n",
    "ax4.plot([test_dataset6.targets[i][1] for i in range(test_dataset6.snapshot_count)])\n",
    "ax4.plot(torch.tensor([_a[i].detach()[1] for i in range(test_dataset6.snapshot_count)]))\n",
    "\n",
    "ax5.set_title('train cost')\n",
    "ax5.plot(_e)\n",
    "\n",
    "ax6.set_title('test cost')\n",
    "ax6.plot(_c)"
   ]
  },
  {
   "cell_type": "markdown",
   "id": "cd5c52aa-8786-403b-8ba8-59a43be64d4a",
   "metadata": {},
   "source": [
    "### Monte Nodes = 4, Filters = 8"
   ]
  },
  {
   "cell_type": "code",
   "execution_count": null,
   "id": "1befeee5-0929-4ad3-bdab-c9bc41a8476f",
   "metadata": {},
   "outputs": [],
   "source": [
    "model10 = RecurrentGCN(node_features=4, filters=8)\n",
    "\n",
    "optimizer10 = torch.optim.Adam(model10.parameters(), lr=0.01)\n",
    "\n",
    "model10.train()\n",
    "\n",
    "for epoch in tqdm(range(50)):\n",
    "    cost = 0\n",
    "    hidden_state = None\n",
    "    _b=[]\n",
    "    _d=[]\n",
    "    for time, snapshot in enumerate(train_dataset10):\n",
    "        y_hat, hidden_state = model10(snapshot.x, snapshot.edge_index, snapshot.edge_attr,hidden_state)\n",
    "        y_hat = y_hat.reshape(-1)\n",
    "        cost = cost + torch.mean((y_hat-snapshot.y)**2)\n",
    "        _b.append(y_hat)\n",
    "        _d.append(cost)\n",
    "    cost = cost / (time+1)\n",
    "    cost.backward()\n",
    "    optimizer10.step()\n",
    "    optimizer10.zero_grad()"
   ]
  },
  {
   "cell_type": "code",
   "execution_count": null,
   "id": "947d7cc9-cd58-4238-bb3b-a594b244cfe7",
   "metadata": {
    "tags": []
   },
   "outputs": [],
   "source": [
    "model10.eval()\n",
    "cost = 0\n",
    "hidden_state = None\n",
    "_a=[]\n",
    "_a1=[]\n",
    "for time, snapshot in enumerate(test_dataset10):\n",
    "    y_hat, hidden_state = model10(snapshot.x, snapshot.edge_index, snapshot.edge_attr, hidden_state)\n",
    "    y_hat = y_hat.reshape(-1)\n",
    "    cost = cost + torch.mean((y_hat-snapshot.y)**2)\n",
    "    _a.append(y_hat)\n",
    "    _a1.append(cost)\n",
    "cost = cost / (time+1)\n",
    "cost = cost.item()\n",
    "print(\"MSE: {:.4f}\".format(cost))"
   ]
  },
  {
   "cell_type": "code",
   "execution_count": null,
   "id": "c4680c96-61fb-4b77-9c01-bd575a9ed6a7",
   "metadata": {},
   "outputs": [],
   "source": [
    "_e = [_d[i].detach() for i in range(len(_d))]\n",
    "\n",
    "_c = [_a1[i].detach() for i in range(len(_a1))]"
   ]
  },
  {
   "cell_type": "code",
   "execution_count": null,
   "id": "0bc97698-2b5e-4f6a-8aa3-3a92de466f21",
   "metadata": {},
   "outputs": [],
   "source": [
    "fig, (( ax1,ax2),(ax3,ax4),(ax5,ax6)) = plt.subplots(3,2,figsize=(30,20))\n",
    "\n",
    "ax1.set_title('train node1')\n",
    "ax1.plot([train_dataset10.targets[i][0] for i in range(train_dataset10.snapshot_count)])\n",
    "ax1.plot(torch.tensor([_b[i].detach()[0] for i in range(train_dataset10.snapshot_count)]))\n",
    "\n",
    "ax2.set_title('test node1')\n",
    "ax2.plot([test_dataset10.targets[i][0] for i in range(test_dataset10.snapshot_count)])\n",
    "ax2.plot(torch.tensor([_a[i].detach()[0] for i in range(test_dataset10.snapshot_count)]))\n",
    "\n",
    "ax3.set_title('train node2')\n",
    "ax3.plot([train_dataset10.targets[i][10] for i in range(train_dataset10.snapshot_count)])\n",
    "ax3.plot(torch.tensor([_b[i].detach()[10] for i in range(train_dataset10.snapshot_count)]))\n",
    "\n",
    "\n",
    "ax4.set_title('test node2')\n",
    "ax4.plot([test_dataset10.targets[i][10] for i in range(test_dataset10.snapshot_count)])\n",
    "ax4.plot(torch.tensor([_a[i].detach()[10] for i in range(test_dataset10.snapshot_count)]))\n",
    "\n",
    "ax5.set_title('train cost')\n",
    "ax5.plot(_e)\n",
    "\n",
    "ax6.set_title('test cost')\n",
    "ax6.plot(_c)"
   ]
  },
  {
   "cell_type": "code",
   "execution_count": null,
   "id": "67651767-b0a0-4a5d-b142-1aede78f8de5",
   "metadata": {},
   "outputs": [],
   "source": []
  },
  {
   "cell_type": "code",
   "execution_count": null,
   "id": "3f3f3cf2-61b4-45d1-97ef-0bda3284cb07",
   "metadata": {},
   "outputs": [],
   "source": []
  }
 ],
 "metadata": {
  "kernelspec": {
   "display_name": "Python 3",
   "language": "python",
   "name": "python3"
  },
  "language_info": {
   "codemirror_mode": {
    "name": "ipython",
    "version": 3
   },
   "file_extension": ".py",
   "mimetype": "text/x-python",
   "name": "python",
   "nbconvert_exporter": "python",
   "pygments_lexer": "ipython3",
   "version": "3.8.0"
  },
  "toc-autonumbering": false,
  "toc-showcode": false
 },
 "nbformat": 4,
 "nbformat_minor": 5
}

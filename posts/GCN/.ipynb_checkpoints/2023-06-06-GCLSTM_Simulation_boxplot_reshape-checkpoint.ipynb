{
 "cells": [
  {
   "cell_type": "raw",
   "id": "067f09c3-5933-470c-8ebe-9d71ce8ca7e8",
   "metadata": {
    "id": "cac470df-29e7-4148-9bbd-d8b9a32fa570",
    "tags": []
   },
   "source": [
    "---\n",
    "title: \"GConvLSTM_Simulation_reshape\"\n",
    "author: \"SEOYEON CHOI\"\n",
    "date: \"2023-05-30\"\n",
    "categories:\n",
    "  - ITSTGCN\n",
    "---"
   ]
  },
  {
   "cell_type": "markdown",
   "id": "4115bb33-2ef5-4291-8c52-8fdb696fdfca",
   "metadata": {
    "tags": []
   },
   "source": [
    "> Simulation Study"
   ]
  },
  {
   "cell_type": "markdown",
   "id": "b92006c7-9a60-46f8-b641-11c92133d7c4",
   "metadata": {},
   "source": [
    "# Import"
   ]
  },
  {
   "cell_type": "code",
   "execution_count": null,
   "id": "97cfaa6d-11ad-460b-874c-01c8e2c14e70",
   "metadata": {},
   "outputs": [],
   "source": [
    "import matplotlib.pyplot as plt\n",
    "import pandas as pd\n",
    "import numpy as np"
   ]
  },
  {
   "cell_type": "markdown",
   "id": "1460df2f-e24d-44b3-876a-27140dc8d810",
   "metadata": {},
   "source": [
    "# Fivenodes"
   ]
  },
  {
   "cell_type": "code",
   "execution_count": null,
   "id": "d75c959a-d268-4716-924e-f592b8e53560",
   "metadata": {},
   "outputs": [],
   "source": [
    "# df5 = pd.read_csv('./simulation_results/2023-06-04_13-29-16.csv')\n",
    "# df6 = pd.read_csv('./simulation_results/2023-06-04_13-39-55.csv')\n",
    "# df7 = pd.read_csv('./simulation_results/2023-06-04_13-50-24.csv')\n",
    "# k=1"
   ]
  },
  {
   "cell_type": "code",
   "execution_count": null,
   "id": "58a7de0e-0147-4be6-ae52-f391e068d404",
   "metadata": {},
   "outputs": [],
   "source": [
    "# df1 = pd.read_csv('./simulation_results/2023-05-31_08-11-50.csv')\n",
    "# df2 = pd.read_csv('./simulation_results/2023-05-31_08-22-43.csv')\n",
    "# df3 = pd.read_csv('./simulation_results/2023-05-31_08-33-34.csv')\n",
    "# df4 = pd.read_csv('./simulation_results/2023-06-03_12-16-57.csv')\n",
    "\n",
    "## 하이퍼 파라메터 조정해서 다시 함! k=2\n",
    "# df5 = pd.read_csv('./simulation_results/2023-06-04_18-23-11.csv')\n",
    "# df6 = pd.read_csv('./simulation_results/2023-06-04_18-36-44.csv')\n",
    "# df7 = pd.read_csv('./simulation_results/2023-06-04_18-50-43.csv')\n",
    "# df8 = pd.read_csv('./simulation_results/2023-06-05_00-20-55.csv')"
   ]
  },
  {
   "cell_type": "code",
   "execution_count": null,
   "id": "243c8ac3-63ef-463b-920c-732bcea5b27d",
   "metadata": {},
   "outputs": [],
   "source": [
    "data = pd.concat([df5,df6,df7,df8],axis=0)"
   ]
  },
  {
   "cell_type": "code",
   "execution_count": null,
   "id": "6531c324-827c-4f7f-aef7-90da0b1f2c23",
   "metadata": {},
   "outputs": [],
   "source": [
    "data.to_csv('./simulation_results/Real_simulation_reshape/GCLSTM_fivedones_Simulation.csv',index=False)"
   ]
  },
  {
   "cell_type": "code",
   "execution_count": null,
   "id": "2029a91d-4dc4-4eb2-8f9d-63d4727f4c94",
   "metadata": {},
   "outputs": [],
   "source": [
    "data = pd.read_csv('./simulation_results/Real_simulation_reshape/GCLSTM_fivedones_Simulation.csv')"
   ]
  },
  {
   "cell_type": "markdown",
   "id": "9fbc1a8b-e19b-4c83-a1ad-caaff18d47ce",
   "metadata": {},
   "source": [
    "## Baseline"
   ]
  },
  {
   "cell_type": "code",
   "execution_count": null,
   "id": "d44828cd-d371-4375-9654-9c8557626266",
   "metadata": {
    "tags": []
   },
   "outputs": [],
   "source": [
    "data.query(\"method!='GNAR' and mrate==0\").plot.box(backend='plotly',x='mrate',color='method',y='mse',facet_col='lags',facet_row='nof_filters',height=600)\n"
   ]
  },
  {
   "cell_type": "markdown",
   "id": "5fba0c44-8d0c-4bf3-8d36-a8193dabf854",
   "metadata": {},
   "source": [
    "## Random"
   ]
  },
  {
   "cell_type": "code",
   "execution_count": null,
   "id": "8571d995-8823-48ef-8324-d8acc3ee8f62",
   "metadata": {},
   "outputs": [],
   "source": [
    "data.query(\"method!='GNAR' and mtype =='rand'\").plot.box(backend='plotly',x='mrate',color='method',y='mse',facet_col='inter_method',facet_row='nof_filters',height=600)\n",
    "\n"
   ]
  },
  {
   "cell_type": "markdown",
   "id": "07861e25-b572-4d9d-8ab2-120ce17d294f",
   "metadata": {},
   "source": [
    "## Block"
   ]
  },
  {
   "cell_type": "code",
   "execution_count": null,
   "id": "1d2b0683-7351-4062-bec3-cacfba1b48f4",
   "metadata": {},
   "outputs": [],
   "source": [
    "data.query(\"method!='GNAR' and mtype =='block' \").plot.box(backend='plotly',x='mrate',color='method',y='mse',facet_col='inter_method',facet_row='nof_filters',height=600)\n"
   ]
  },
  {
   "cell_type": "markdown",
   "id": "377ebf75-d15f-4c92-971b-c26f28ace9b3",
   "metadata": {},
   "source": [
    "# chickenpox"
   ]
  },
  {
   "cell_type": "code",
   "execution_count": null,
   "id": "3e66680d-3b56-4295-b4da-c8988c6ceb77",
   "metadata": {},
   "outputs": [],
   "source": [
    "# df1 = pd.read_csv('./simulation_results/2023-06-02_14-03-24.csv') # GNAR random\n",
    "# df2 = pd.read_csv('./simulation_results/2023-06-03_15-57-09.csv') # GNAR block\n",
    "# df3 = pd.read_csv('./simulation_results/2023-06-03_17-58-22.csv') # STGCN, ITSTGCN random 30%\n",
    "\n",
    "## 하이퍼 파라메터 조정해서 다시 함!\n",
    "# df1 = pd.read_csv('./simulation_results/2023-06-02_14-03-24.csv') \n",
    "# df2 = pd.read_csv('./simulation_results/2023-06-03_15-57-09.csv') \n",
    "# df3 = pd.read_csv('./simulation_results/2023-06-03_17-58-22.csv') "
   ]
  },
  {
   "cell_type": "code",
   "execution_count": null,
   "id": "3a15858e-07b2-460c-86c6-49ee4deeb10d",
   "metadata": {},
   "outputs": [],
   "source": [
    "data = pd.concat([df1],axis=0)"
   ]
  },
  {
   "cell_type": "code",
   "execution_count": null,
   "id": "158398fa-ae55-4525-8535-eb323b1c4b6b",
   "metadata": {},
   "outputs": [],
   "source": [
    "data.to_csv('./simulation_results/Real_simulation_reshape/GCLSTM_chikenpox_Simulation.csv',index=False)"
   ]
  },
  {
   "cell_type": "code",
   "execution_count": null,
   "id": "dc861068-2821-4447-a4b7-3cb5b4a0ed8c",
   "metadata": {},
   "outputs": [],
   "source": [
    "data = pd.read_csv('./simulation_results/Real_simulation_reshape/GCLSTM_chikenpox_Simulation.csv')"
   ]
  },
  {
   "cell_type": "markdown",
   "id": "bf6fa154-11bd-4265-9413-5e218e34ad04",
   "metadata": {},
   "source": [
    "## Baseline"
   ]
  },
  {
   "cell_type": "code",
   "execution_count": null,
   "id": "64892b8c-64e6-4268-9b33-c3a004fdbd6e",
   "metadata": {},
   "outputs": [],
   "source": [
    "data.query(\"method!='GNAR' and mrate ==0 \").plot.box(backend='plotly',x='mrate',color='method',y='mse',facet_col='nof_filters',height=600)\n"
   ]
  },
  {
   "cell_type": "markdown",
   "id": "5aaed9da-99b0-4162-9fe4-7d27bb82de32",
   "metadata": {},
   "source": [
    "## Random"
   ]
  },
  {
   "cell_type": "code",
   "execution_count": null,
   "id": "de6f2569-bee5-4111-8394-699cc72aaf03",
   "metadata": {},
   "outputs": [],
   "source": [
    "data.query(\"method!='GNAR' and mtype =='rand'\").plot.box(backend='plotly',x='mrate',color='method',y='mse',facet_col='nof_filters',facet_row='inter_method',height=800)\n"
   ]
  },
  {
   "cell_type": "markdown",
   "id": "28cd33cc-60e9-4b81-902a-acdd9004aa8c",
   "metadata": {},
   "source": [
    "## Block"
   ]
  },
  {
   "cell_type": "code",
   "execution_count": null,
   "id": "b5b82122-bca7-4528-a2d2-c54ff51b522b",
   "metadata": {},
   "outputs": [],
   "source": [
    "data.query(\"method!='GNAR' and mtype =='block'\").plot.box(backend='plotly',x='mrate',color='method',y='mse',facet_col='inter_method',facet_row='lags',height=800)\n"
   ]
  },
  {
   "cell_type": "markdown",
   "id": "0b266f04-9b84-4fc1-95e1-c031dcf5d268",
   "metadata": {},
   "source": [
    "# Pedalme"
   ]
  },
  {
   "cell_type": "code",
   "execution_count": null,
   "id": "511861a3-37e8-439a-a7ec-e8b9ace87b40",
   "metadata": {},
   "outputs": [],
   "source": [
    "# df3 = pd.read_csv('./simulation_results/2023-06-04_13-03-18.csv') \n",
    "# df4 = pd.read_csv('./simulation_results/2023-06-04_13-19-20.csv') \n",
    "# k=1"
   ]
  },
  {
   "cell_type": "code",
   "execution_count": null,
   "id": "d4636a02-2db0-4676-a73b-9c7566c258f4",
   "metadata": {},
   "outputs": [],
   "source": [
    "# df1 = pd.read_csv('./simulation_results/2023-05-31_07-03-01.csv') \n",
    "# df2 = pd.read_csv('./simulation_results/2023-05-31_07-16-57.csv') \n",
    "\n",
    "## 하이퍼 파라메터 조정해서 다시 함!\n",
    "# df3 = pd.read_csv('./simulation_results/2023-06-04_17-53-50.csv') \n",
    "# df4 = pd.read_csv('./simulation_results/2023-06-04_18-10-18.csv') "
   ]
  },
  {
   "cell_type": "code",
   "execution_count": null,
   "id": "d22955cb-e046-49c8-890a-52ffe13e237d",
   "metadata": {},
   "outputs": [],
   "source": [
    "data = pd.concat([df1,df2,df3,df4],axis=0)"
   ]
  },
  {
   "cell_type": "code",
   "execution_count": null,
   "id": "ee3ef5e8-7298-49dd-b21f-9644c30b5f77",
   "metadata": {},
   "outputs": [],
   "source": [
    "data.to_csv('./simulation_results/Real_simulation_reshape/GCLSTM_pedalme_Simulation.csv',index=False)"
   ]
  },
  {
   "cell_type": "code",
   "execution_count": null,
   "id": "446c16b2-85d5-4f90-b214-fe80c77bd0c9",
   "metadata": {},
   "outputs": [],
   "source": [
    "data = pd.read_csv('./simulation_results/Real_simulation_reshape/GCLSTM_pedalme_Simulation.csv')"
   ]
  },
  {
   "cell_type": "markdown",
   "id": "cdd78537-7c03-4b56-bcf8-54a502241420",
   "metadata": {},
   "source": [
    "## Baseline"
   ]
  },
  {
   "cell_type": "code",
   "execution_count": null,
   "id": "cd49941e-507b-496f-a9bc-9bb3936acc5e",
   "metadata": {},
   "outputs": [],
   "source": [
    "data.query(\"mrate ==0 and lags!=2\").plot.box(backend='plotly',x='epoch',color='method',y='mse',facet_col='nof_filters',facet_row='lags',height=400)\n"
   ]
  },
  {
   "cell_type": "markdown",
   "id": "151d9fb2-e327-4352-89f5-f85c6adcd735",
   "metadata": {},
   "source": [
    "## random"
   ]
  },
  {
   "cell_type": "code",
   "execution_count": null,
   "id": "5375fbb0-00f5-4073-94a0-025f757cf4e8",
   "metadata": {},
   "outputs": [],
   "source": [
    "data.query(\"method!='GNAR' and mtype =='rand' and lags!=2\").plot.box(backend='plotly',x='mrate',color='method',y='mse',facet_col='nof_filters',facet_row='inter_method',height=800)\n"
   ]
  },
  {
   "cell_type": "markdown",
   "id": "64c5732a-81d2-4999-be10-2abcce32ba22",
   "metadata": {},
   "source": [
    "## block"
   ]
  },
  {
   "cell_type": "code",
   "execution_count": null,
   "id": "3a2b2904-0190-445f-b5e9-31f1306fb765",
   "metadata": {},
   "outputs": [],
   "source": [
    "data.query(\"method!='GNAR' and mtype =='block' and lags!=2 \").plot.box(backend='plotly',x='mrate',color='method',y='mse',facet_col='nof_filters',facet_row='inter_method',height=800)\n"
   ]
  },
  {
   "cell_type": "markdown",
   "id": "8f145dc8-8e30-4e75-bc7e-4a4524d93fc4",
   "metadata": {},
   "source": [
    "## weight matrix time, node 고려한 결과"
   ]
  },
  {
   "cell_type": "code",
   "execution_count": null,
   "id": "720eef33-a93e-4018-9f30-867b9446b918",
   "metadata": {},
   "outputs": [],
   "source": [
    "# df1 = pd.read_csv('./simulation_results/2023-05-31_14-57-32.csv')\n",
    "# df2 = pd.read_csv('./simulation_results/2023-05-31_19-57-56.csv')\n",
    "\n",
    "## 하이퍼 파라메터 조정해서 다시 함!\n",
    "# df3 = pd.read_csv('./simulation_results/2023-06-05_05-09-29.csv') \n",
    "# df4 = pd.read_csv('./simulation_results/2023-06-05_08-01-02.csv') "
   ]
  },
  {
   "cell_type": "code",
   "execution_count": null,
   "id": "970e0d05-641f-4e2b-83f8-7995279164c6",
   "metadata": {},
   "outputs": [],
   "source": [
    "data2 = pd.concat([df1,df2,df3,df4],axis=0)"
   ]
  },
  {
   "cell_type": "code",
   "execution_count": null,
   "id": "e4343248-a16d-47a3-9886-4ccb53c7aa45",
   "metadata": {},
   "outputs": [],
   "source": [
    "data2.to_csv('./simulation_results/Real_simulation_reshape/GCLSTM_pedalme_Simulation_itstgcnsnd.csv',index=False)"
   ]
  },
  {
   "cell_type": "code",
   "execution_count": null,
   "id": "68c1f3d7-7e0f-4a6d-82d7-ba671275701a",
   "metadata": {},
   "outputs": [],
   "source": [
    "data2 = pd.read_csv('./simulation_results/Real_simulation_reshape/GCLSTM_pedalme_Simulation_itstgcnsnd.csv')"
   ]
  },
  {
   "cell_type": "code",
   "execution_count": null,
   "id": "908c378b-03a2-4bab-95ad-152d13daea50",
   "metadata": {},
   "outputs": [],
   "source": [
    "data2.query(\"mtype=='rand'\").plot.box(backend='plotly',x='mrate',color='method',y='mse',facet_col='inter_method',facet_row='nof_filters',height=1000)"
   ]
  },
  {
   "cell_type": "code",
   "execution_count": null,
   "id": "71fafd85-21c2-4449-9f24-ee870b72433f",
   "metadata": {},
   "outputs": [],
   "source": [
    "data2.query(\"mtype=='block'\").plot.box(backend='plotly',x='mrate',color='method',y='mse',facet_col='inter_method',facet_row='nof_filters',height=1000)"
   ]
  },
  {
   "cell_type": "markdown",
   "id": "5a133964-207a-49ed-a674-40b3ddf1bd44",
   "metadata": {},
   "source": [
    "# Wikimath"
   ]
  },
  {
   "cell_type": "code",
   "execution_count": null,
   "id": "72dcb6b8-b2df-41e4-8ebd-5eb2a02c97af",
   "metadata": {},
   "outputs": [],
   "source": [
    "# df1 = pd.read_csv('./simulation_results/2023-05-31_15-17-28.csv')\n",
    "# df2 = pd.read_csv('./simulation_results/2023-05-31_21-15-47.csv')\n",
    "# df3 = pd.read_csv('./simulation_results/2023-05-31_21-15-47.csv')\n",
    "# df4 = pd.read_csv('./simulation_results/2023-06-01_01-36-28.csv')\n",
    "# df5 = pd.read_csv('./simulation_results/2023-06-01_06-02-50.csv')\n",
    "# df6 = pd.read_csv('./simulation_results/2023-06-01_10-09-37.csv')\n",
    "# df7 = pd.read_csv('./simulation_results/2023-06-01_14-43-01.csv')\n",
    "# df8 = pd.read_csv('./simulation_results/2023-06-01_22-57-39.csv')\n",
    "# df9 = pd.read_csv('./simulation_results/2023-06-02_04-36-10.csv')\n",
    "\n",
    "## 하이퍼 파라메터 조정해서 다시 함!\n",
    "# df1 = pd.read_csv('./simulation_results/2023-05-31_15-17-28.csv')\n",
    "# df2 = pd.read_csv('./simulation_results/2023-05-31_21-15-47.csv')\n",
    "# df3 = pd.read_csv('./simulation_results/2023-05-31_21-15-47.csv')\n",
    "# df4 = pd.read_csv('./simulation_results/2023-06-01_01-36-28.csv')\n",
    "# df5 = pd.read_csv('./simulation_results/2023-06-01_06-02-50.csv')\n",
    "# df6 = pd.read_csv('./simulation_results/2023-06-01_10-09-37.csv')\n",
    "# df7 = pd.read_csv('./simulation_results/2023-06-01_14-43-01.csv')\n",
    "# df8 = pd.read_csv('./simulation_results/2023-06-01_22-57-39.csv')"
   ]
  },
  {
   "cell_type": "code",
   "execution_count": null,
   "id": "2bdf1359-250a-4f81-b2e7-bfc3f4a15907",
   "metadata": {},
   "outputs": [],
   "source": [
    "data = pd.concat([df1],axis=0)"
   ]
  },
  {
   "cell_type": "code",
   "execution_count": null,
   "id": "fe47b372-5e6c-485c-875c-3c8d879aabe5",
   "metadata": {},
   "outputs": [],
   "source": [
    "data.to_csv('./simulation_results/Real_simulation_reshape/GCLSTM_wikimath.csv',index=False)"
   ]
  },
  {
   "cell_type": "code",
   "execution_count": null,
   "id": "0e5750a8-48a8-4f57-8650-1894b033996a",
   "metadata": {},
   "outputs": [],
   "source": [
    "data = pd.read_csv('./simulation_results/Real_simulation_reshape/GCLSTM_wikimath.csv')"
   ]
  },
  {
   "cell_type": "markdown",
   "id": "0d0c2544-b30f-4876-90f3-834c8fccdc00",
   "metadata": {
    "tags": []
   },
   "source": [
    "## Baseline"
   ]
  },
  {
   "cell_type": "code",
   "execution_count": null,
   "id": "b5d615c3-7255-4f7b-8c80-4f97f1d0ea9a",
   "metadata": {},
   "outputs": [],
   "source": [
    "data.query(\"mrate==0 and method!='GNAR'\").plot.box(backend='plotly',x='mrate',color='method',y='mse',height=600)"
   ]
  },
  {
   "cell_type": "markdown",
   "id": "a230770f-2270-4d0b-87bf-c0048937e117",
   "metadata": {},
   "source": [
    "## random"
   ]
  },
  {
   "cell_type": "code",
   "execution_count": null,
   "id": "0be1ccad-dd6e-42fe-b32d-8a4e48b17a96",
   "metadata": {},
   "outputs": [],
   "source": [
    "data.query(\"mtype=='rand' and mrate !=0 and method!='GNAR'\").plot.box(backend='plotly',x='mrate',color='method',y='mse',facet_col='lags',facet_row='nof_filters',height=800)\n"
   ]
  },
  {
   "cell_type": "markdown",
   "id": "e4ec5520-cfa5-4e8d-8233-4a255cc7e557",
   "metadata": {},
   "source": [
    "## block"
   ]
  },
  {
   "cell_type": "code",
   "execution_count": null,
   "id": "caf335f2-3b23-463d-9b89-22df5f122ed7",
   "metadata": {},
   "outputs": [],
   "source": [
    "data.query(\"mtype=='block' and method!='GNAR'\").plot.box(backend='plotly',x='mrate',color='method',y='mse',facet_col='lags',facet_row='nof_filters',height=1200)\n"
   ]
  },
  {
   "cell_type": "markdown",
   "id": "9e6864d0-2f7e-4df3-a80a-91fdcf9d7fb9",
   "metadata": {},
   "source": [
    "## missing values on the same nodes"
   ]
  },
  {
   "cell_type": "code",
   "execution_count": null,
   "id": "f804b18a-149e-48d5-ab30-9a0516fc611b",
   "metadata": {
    "tags": []
   },
   "outputs": [],
   "source": [
    "# df1 = pd.read_csv('./simulation_results/2023-05-30_15-07-43.csv') # STGCN IT-STGCN block\n",
    "# df2 = pd.read_csv('./simulation_results/2023-06-03_02-21-27.csv') # STGCN IT-STGCN\n",
    "\n",
    "## 하이퍼 파라메터 조정해서 다시 함!\n",
    "# df1 = pd.read_csv('./simulation_results/2023-06-02_14-03-24.csv') \n",
    "# df2 = pd.read_csv('./simulation_results/2023-06-03_15-57-09.csv') "
   ]
  },
  {
   "cell_type": "code",
   "execution_count": null,
   "id": "8947c20f-0acb-41e8-9a89-d122bf2c0d18",
   "metadata": {},
   "outputs": [],
   "source": [
    "data = pd.concat([df1,df2],axis=0)"
   ]
  },
  {
   "cell_type": "code",
   "execution_count": null,
   "id": "3082aa32-04c8-4a3e-9756-6634caf9c949",
   "metadata": {},
   "outputs": [],
   "source": [
    "data.to_csv('./simulation_results/Real_simulation_reshape/GCLSTM_wikimath_GSO_st.csv',index=False)"
   ]
  },
  {
   "cell_type": "code",
   "execution_count": null,
   "id": "9d39029d-2027-4858-aa8a-11a8f3628762",
   "metadata": {},
   "outputs": [],
   "source": [
    "data = pd.read_csv('./simulation_results/Real_simulation_reshape/GCLSTM_wikimath_GSO_st.csv')"
   ]
  },
  {
   "cell_type": "code",
   "execution_count": null,
   "id": "5380ddb8-d5f5-49a0-b11f-89ad2db0ad41",
   "metadata": {},
   "outputs": [],
   "source": [
    "data.query(\"method!='GNAR' and mtype =='block' \").plot.box(backend='plotly',x='mrate',color='method',y='mse',facet_col='inter_method',facet_row='lags',height=800)\n"
   ]
  },
  {
   "cell_type": "markdown",
   "id": "b36fdeda-2196-4918-a6c9-26be8ad4dc72",
   "metadata": {},
   "source": [
    "# Windmilsmall"
   ]
  },
  {
   "cell_type": "code",
   "execution_count": null,
   "id": "e865d7a4-d723-411e-9ee6-2a0a001f8525",
   "metadata": {},
   "outputs": [],
   "source": [
    "# df1 = pd.read_csv('./simulation_results/2023-05-27_03-20-28.csv') # STGCN IT-STGCN 70%\n",
    "# df2 = pd.read_csv('./simulation_results/2023-05-27_11-15-19.csv') # STGCN IT-STGCN\n",
    "# df3 = pd.read_csv('./simulation_results/2023-05-27_21-50-00.csv') # STGCN IT-STGCN\n",
    "# df4 = pd.read_csv('./simulation_results/2023-05-28_07-53-57.csv') # STGCN IT-STGCN\n",
    "# df5 = pd.read_csv('./simulation_results/2023-05-28_15-11-36.csv') # STGCN IT-STGCN\n",
    "# df6 = pd.read_csv('./simulation_results/2023-05-28_19-57-23.csv') # GNAR 30%, 50%, 70% # 뭔가 일단 필요없어서 데이터셋에서 뺌\n",
    "# df7 = pd.read_csv('./simulation_results/2023-05-29_01-36-37.csv') # STGCN IT-STGCN\n",
    "# df8 = pd.read_csv('./simulation_results/2023-05-29_05-55-43.csv') # STGCN IT-STGCN\n",
    "# df9 = pd.read_csv('./simulation_results/2023-05-29_11-00-42.csv') # STGCN IT-STGCN\n",
    "# df10 = pd.read_csv('./simulation_results/2023-05-29_15-58-56.csv') # STGCN IT-STGCN\n",
    "# df11 = pd.read_csv('./simulation_results/2023-05-29_21-01-58.csv') # STGCN IT-STGCN\n",
    "# df12 = pd.read_csv('./simulation_results/2023-05-30_02-08-43.csv') # STGCN IT-STGCN\n",
    "# df13 = pd.read_csv('./simulation_results/2023-05-30_06-27-00.csv') # STGCN IT-STGCN\n",
    "# df14 = pd.read_csv('./simulation_results/2023-05-30_11-59-01.csv') # STGCN IT-STGCN\n",
    "# df15 = pd.read_csv('./simulation_results/2023-05-30_15-59-12.csv') # STGCN IT-STGCN\n",
    "# df16 = pd.read_csv('./simulation_results/2023-04-20_00-46-43.csv') # STGCN IT-STGCN\n",
    "# df17 = pd.read_csv('./simulation_results/2023-04-20_06-51-34.csv') # STGCN IT-STGCN\n",
    "# df18 = pd.read_csv('./simulation_results/2023-04-20_08-30-27.csv') # STGCN IT-STGCN\n",
    "# df19 = pd.read_csv('./simulation_results/2023-04-20_14-28-35.csv') # STGCN IT-STGCN\n",
    "# df20 = pd.read_csv('./simulation_results/2023-04-20_16-08-39.csv') # STGCN IT-STGCN\n",
    "# df21 = pd.read_csv('./simulation_results/2023-04-20_22-09-37.csv') # STGCN IT-STGCN\n",
    "# df22 = pd.read_csv('./simulation_results/2023-04-20_23-48-26.csv') # STGCN IT-STGCN\n",
    "# df23 = pd.read_csv('./simulation_results/2023-04-21_05-36-47.csv') # STGCN IT-STGCN\n",
    "# df24 = pd.read_csv('./simulation_results/2023-04-21_15-26-00.csv') # STGCN IT-STGCN\n",
    "# df25 = pd.read_csv('./simulation_results/2023-04-21_23-27-11.csv') # STGCN IT-STGCN\n",
    "# df26 = pd.read_csv('./simulation_results/2023-04-22_07-46-08.csv') # STGCN IT-STGCN\n",
    "# df27 = pd.read_csv('./simulation_results/2023-04-22_15-45-20.csv') # STGCN IT-STGCN\n",
    "# df28 = pd.read_csv('./simulation_results/2023-04-22_22-57-31.csv') # STGCN IT-STGCN\n",
    "# df29 = pd.read_csv('./simulation_results/2023-04-23_07-00-15.csv') # STGCN IT-STGCN\n",
    "# df30 = pd.read_csv('./simulation_results/2023-04-23_15-18-02.csv') # STGCN IT-STGCN\n",
    "# df31 = pd.read_csv('./simulation_results/2023-04-23_15-22-36.csv') # GNAR 70%\n",
    "# # baseline\n",
    "# df32 = pd.read_csv('./simulation_results/2023-04-29_06-54-40.csv') # GNAR \n",
    "# df33 = pd.read_csv('./simulation_results/2023-04-30_18-55-12.csv')\n",
    "# df34 = pd.read_csv('./simulation_results/2023-05-01_02-55-33.csv')\n",
    "# df35 = pd.read_csv('./simulation_results/2023-05-01_10-21-15.csv')\n",
    "# df36 = pd.read_csv('./simulation_results/2023-05-01_19-23-57.csv')\n",
    "# df37 = pd.read_csv('./simulation_results/2023-05-02_01-10-53.csv')\n",
    "# df38 = pd.read_csv('./simulation_results/2023-05-02_08-26-53.csv')\n",
    "# df39 = pd.read_csv('./simulation_results/2023-05-02_16-00-40.csv')\n",
    "# df40 = pd.read_csv('./simulation_results/2023-05-03_00-34-09.csv')\n",
    "# df41 = pd.read_csv('./simulation_results/2023-05-03_08-04-42.csv')\n",
    "# df42 = pd.read_csv('./simulation_results/2023-05-03_15-50-50.csv')\n",
    "# df43 = pd.read_csv('./simulation_results/2023-05-03_23-46-56.csv')\n",
    "# df44 = pd.read_csv('./simulation_results/2023-05-04_05-22-59.csv')\n",
    "# df45 = pd.read_csv('./simulation_results/2023-05-04_09-22-37.csv')\n",
    "# df46 = pd.read_csv('./simulation_results/2023-05-04_15-00-57.csv')\n",
    "# df47 = pd.read_csv('./simulation_results/2023-05-04_23-41-21.csv')\n",
    "# df48 = pd.read_csv('./simulation_results/2023-05-05_07-23-04.csv')\n",
    "# df49 = pd.read_csv('./simulation_results/2023-05-05_15-03-17.csv')\n",
    "# df50 = pd.read_csv('./simulation_results/2023-05-06_05-18-07.csv')\n",
    "# df51 = pd.read_csv('./simulation_results/2023-05-06_12-57-14.csv')\n",
    "# df52 = pd.read_csv('./simulation_results/2023-05-06_19-10-23.csv')\n",
    "# df53 = pd.read_csv('./simulation_results/2023-05-07_03-20-10.csv')\n",
    "# df54 = pd.read_csv('./simulation_results/2023-05-07_11-26-24.csv')\n",
    "# df55 = pd.read_csv('./simulation_results/2023-05-08_00-04-56.csv')\n",
    "# df56 = pd.read_csv('./simulation_results/2023-05-08_04-27-01.csv')\n",
    "# df57 = pd.read_csv('./simulation_results/2023-05-08_10-06-55.csv')\n",
    "# df58 = pd.read_csv('./simulation_results/2023-05-08_17-50-36.csv')\n",
    "# df59 = pd.read_csv('./simulation_results/2023-05-09_03-28-08.csv')\n",
    "# df60 = pd.read_csv('./simulation_results/2023-05-09_11-08-10.csv')\n",
    "# df61 = pd.read_csv('./simulation_results/2023-05-09_20-11-45.csv')"
   ]
  },
  {
   "cell_type": "code",
   "execution_count": null,
   "id": "37438d95-f15e-4741-b4d2-65966d48be89",
   "metadata": {},
   "outputs": [],
   "source": [
    "data = pd.concat([df1],axis=0)"
   ]
  },
  {
   "cell_type": "code",
   "execution_count": null,
   "id": "129bb29a-6386-4363-9781-8a68ad4373cd",
   "metadata": {},
   "outputs": [],
   "source": [
    "data.to_csv('./simulation_results/Real_simulation_reshape/GCLSTM_windmillsmall.csv',index=False)"
   ]
  },
  {
   "cell_type": "code",
   "execution_count": null,
   "id": "e802f5c9-6428-4f87-86d8-5bec3a07099b",
   "metadata": {},
   "outputs": [],
   "source": [
    "data = pd.read_csv('./simulation_results/Real_simulation_reshape/GCLSTM_windmillsmall.csv')"
   ]
  },
  {
   "cell_type": "markdown",
   "id": "b418c4bf-e73d-4d04-a6df-cf6ea3795cdc",
   "metadata": {},
   "source": [
    "## Baseline"
   ]
  },
  {
   "cell_type": "code",
   "execution_count": null,
   "id": "127a08ff-22cf-4d87-8b87-db3f7fda2b59",
   "metadata": {},
   "outputs": [],
   "source": [
    "data.query(\"method!='GNAR' and mrate ==0 \").plot.box(backend='plotly',x='mrate',color='method',y='mse',facet_col='lags',height=800)\n"
   ]
  },
  {
   "cell_type": "markdown",
   "id": "612edeb5-6890-4678-9d2d-4ae78d00866f",
   "metadata": {},
   "source": [
    "## random"
   ]
  },
  {
   "cell_type": "code",
   "execution_count": null,
   "id": "f189e38c-14f4-4f04-980c-aec583366a66",
   "metadata": {},
   "outputs": [],
   "source": [
    "data.query(\"method!='GNAR' and mtype =='rand' \").plot.box(backend='plotly',x='mrate',color='method',y='mse',facet_col='lags',facet_row='inter_method',height=800)\n"
   ]
  },
  {
   "cell_type": "markdown",
   "id": "0d9ee832-315b-4c21-8b8a-59f2dc65bd6e",
   "metadata": {
    "tags": []
   },
   "source": [
    "## block"
   ]
  },
  {
   "cell_type": "code",
   "execution_count": null,
   "id": "108b06c5-6201-4aa5-bb58-b381546eb656",
   "metadata": {},
   "outputs": [],
   "source": [
    "data.query(\"method!='GNAR' and mtype =='block' \").plot.box(backend='plotly',x='mrate',color='method',y='mse',facet_col='lags',facet_row='inter_method',height=800)\n"
   ]
  },
  {
   "cell_type": "markdown",
   "id": "0a96a985-7d9c-41fc-a7bc-175074511f7b",
   "metadata": {},
   "source": [
    "# Montevideobus"
   ]
  },
  {
   "cell_type": "code",
   "execution_count": null,
   "id": "ee59c5e4-e11a-4a10-a0b1-478a80afb228",
   "metadata": {},
   "outputs": [],
   "source": [
    "# k=1\n",
    "# df1 = pd.read_csv('./simulation_results/2023-06-01_16-40-59.csv') # lags 8\n",
    "# df2 = pd.read_csv('./simulation_results/2023-06-02_07-36-04.csv') # lags 8\n",
    "# df3 = pd.read_csv('./simulation_results/2023-06-02_10-29-33.csv') # lags 8\n",
    "# df4 = pd.read_csv('./simulation_results/2023-06-03_20-41-59.csv') # lags 8\n",
    "# df5 = pd.read_csv('./simulation_results/2023-06-04_02-03-27.csv') # lags 8\n",
    "# df6 = pd.read_csv('./simulation_results/2023-06-04_04-59-22.csv') # lags 8\n",
    "# df7 = pd.read_csv('./simulation_results/2023-06-04_07-33-21.csv') # lags 8\n",
    "# df8 = pd.read_csv('./simulation_results/2023-06-04_10-21-15.csv') # lags 8\n",
    "\n",
    "## 하이퍼 파라메터 조정해서 다시 함! k=2\n",
    "# df1 = pd.read_csv('./simulation_results/2023-06-06_11-19-55.csv') \n",
    "# df2 = pd.read_csv('./simulation_results/2023-06-06_15-31-16.csv') \n",
    "# df3 = pd.read_csv('./simulation_results/2023-06-06_19-34-56.csv') "
   ]
  },
  {
   "cell_type": "code",
   "execution_count": null,
   "id": "a19d1bdd-17fe-42cf-a4c8-f270bff69e40",
   "metadata": {},
   "outputs": [],
   "source": [
    "data = pd.concat([df1,df2,df3],axis=0)"
   ]
  },
  {
   "cell_type": "code",
   "execution_count": null,
   "id": "3858fad4-79eb-4bd2-a070-c55210e79185",
   "metadata": {},
   "outputs": [],
   "source": [
    "data.to_csv('./simulation_results/Real_simulation_reshape/GCLSTM_monte.csv',index=False)"
   ]
  },
  {
   "cell_type": "code",
   "execution_count": null,
   "id": "b6060412-5bf9-480f-8246-83eed9a2677f",
   "metadata": {},
   "outputs": [],
   "source": [
    "data = pd.read_csv('./simulation_results/Real_simulation_reshape/GCLSTM_monte.csv')"
   ]
  },
  {
   "cell_type": "markdown",
   "id": "d76c86cc-14b0-486d-a7cd-e185bea9937d",
   "metadata": {},
   "source": [
    "## Baseline"
   ]
  },
  {
   "cell_type": "code",
   "execution_count": null,
   "id": "78a1e8d1-5c37-42d3-af6d-f65c20d3dcf5",
   "metadata": {},
   "outputs": [],
   "source": [
    "data.query(\"mrate==0 and method!='GNAR'\").plot.box(backend='plotly',x='mrate',color='method',y='mse',facet_col='lags',facet_row='nof_filters',height=600)"
   ]
  },
  {
   "cell_type": "markdown",
   "id": "fb6d393f-1f72-4d49-a87a-e8b618b3f82a",
   "metadata": {},
   "source": [
    "## random"
   ]
  },
  {
   "cell_type": "code",
   "execution_count": null,
   "id": "7f2ffd70-8383-4974-a97a-f4474693b145",
   "metadata": {},
   "outputs": [],
   "source": [
    "data.query(\"mtype=='rand' and mrate !=0 and method!='GNAR'\").plot.box(backend='plotly',x='mrate',color='method',y='mse',facet_col='lags',facet_row='inter_method',height=800)\n"
   ]
  },
  {
   "cell_type": "markdown",
   "id": "193a8c91-ea53-4f8d-aba2-d843468e14f8",
   "metadata": {},
   "source": [
    "## block"
   ]
  },
  {
   "cell_type": "code",
   "execution_count": null,
   "id": "25aeb53b-4e42-462c-bec4-5f0faf9f624b",
   "metadata": {},
   "outputs": [],
   "source": [
    "data.query(\"mtype=='block' and method!='GNAR'\").plot.box(backend='plotly',x='mrate',color='method',y='mse',facet_col='lags',facet_row='nof_filters',height=1200)\n"
   ]
  },
  {
   "cell_type": "code",
   "execution_count": null,
   "id": "ce90bc2e-0614-420a-8d9b-ad39e0baeb97",
   "metadata": {},
   "outputs": [],
   "source": []
  },
  {
   "cell_type": "code",
   "execution_count": null,
   "id": "ffd41010-0d56-49d7-902f-468782d630ac",
   "metadata": {},
   "outputs": [],
   "source": []
  },
  {
   "cell_type": "code",
   "execution_count": null,
   "id": "cb64cdf6-a172-4db5-ac20-54258df2a933",
   "metadata": {},
   "outputs": [],
   "source": []
  },
  {
   "cell_type": "code",
   "execution_count": null,
   "id": "d73f828b-0592-493e-9a5c-364cd6c2ffcc",
   "metadata": {},
   "outputs": [],
   "source": []
  },
  {
   "cell_type": "code",
   "execution_count": null,
   "id": "0d13d43e-5e2d-41e4-a26e-3617356cad46",
   "metadata": {},
   "outputs": [],
   "source": []
  }
 ],
 "metadata": {
  "kernelspec": {
   "display_name": "Python 3",
   "language": "python",
   "name": "python3"
  },
  "language_info": {
   "codemirror_mode": {
    "name": "ipython",
    "version": 3
   },
   "file_extension": ".py",
   "mimetype": "text/x-python",
   "name": "python",
   "nbconvert_exporter": "python",
   "pygments_lexer": "ipython3",
   "version": "3.8.0"
  }
 },
 "nbformat": 4,
 "nbformat_minor": 5
}

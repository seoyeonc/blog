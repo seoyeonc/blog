{
 "cells": [
  {
   "cell_type": "raw",
   "id": "1cc48b07-a38a-489a-a96b-d9b89394d431",
   "metadata": {
    "id": "cac470df-29e7-4148-9bbd-d8b9a32fa570",
    "tags": []
   },
   "source": [
    "---\n",
    "title: \"data load, data save as pickle\"\n",
    "author: \"SEOYEON CHOI\"\n",
    "date: \"2023-03-20\"\n",
    "categories:\n",
    "  - data\n",
    "---"
   ]
  },
  {
   "cell_type": "markdown",
   "id": "a1e49560-a8ba-4b9f-a5e1-739f1e638ea2",
   "metadata": {
    "tags": []
   },
   "source": [
    "> data load, data save as pickle"
   ]
  },
  {
   "cell_type": "markdown",
   "id": "970e51be-5a7e-4c8a-8fd0-8cbe30cf7732",
   "metadata": {},
   "source": [
    "https://pytorch-geometric-temporal.readthedocs.io/en/latest/_modules/index.html"
   ]
  },
  {
   "cell_type": "markdown",
   "id": "86795540-4df9-4ace-bc7c-b94fe41809db",
   "metadata": {},
   "source": [
    "\n",
    "\n",
    "- GNAR warning message 위한 uppressWarnings "
   ]
  },
  {
   "cell_type": "code",
   "execution_count": 248,
   "id": "810ca9ba-94bf-42b2-ac26-31ac48cc8dd6",
   "metadata": {},
   "outputs": [],
   "source": [
    "my_list = [[] for _ in range(15)]\n",
    "another_list = list(range(10,20))\n",
    "my_list[10] = another_list"
   ]
  },
  {
   "cell_type": "markdown",
   "id": "47d43258-786b-4357-9d58-0fa342fb5dcd",
   "metadata": {},
   "source": [
    "# Import"
   ]
  },
  {
   "cell_type": "code",
   "execution_count": 1,
   "id": "1f1ab7d5-531d-4bb6-8441-65997379bec9",
   "metadata": {},
   "outputs": [],
   "source": [
    "import numpy as np"
   ]
  },
  {
   "cell_type": "code",
   "execution_count": 2,
   "id": "a283925d-94b2-4613-bd31-f1050c7927fc",
   "metadata": {},
   "outputs": [],
   "source": [
    "import json\n",
    "import urllib"
   ]
  },
  {
   "cell_type": "code",
   "execution_count": 3,
   "id": "ed7475ea-cd7b-4cde-8d52-3ead6b5da52e",
   "metadata": {},
   "outputs": [],
   "source": [
    "def load_data(fname):\n",
    "    with open(fname, 'rb') as outfile:\n",
    "        data_dict = pickle.load(outfile)\n",
    "    return data_dict"
   ]
  },
  {
   "cell_type": "code",
   "execution_count": 4,
   "id": "edb42b82-296b-42ba-9c08-954f952c4529",
   "metadata": {},
   "outputs": [],
   "source": [
    "def save_data(data_dict,fname):\n",
    "    with open(fname,'wb') as outfile:\n",
    "        pickle.dump(data_dict,outfile)"
   ]
  },
  {
   "cell_type": "code",
   "execution_count": 5,
   "id": "fd1c5de8-21a8-4741-9bfb-dc6f585340e3",
   "metadata": {},
   "outputs": [],
   "source": [
    "import pickle"
   ]
  },
  {
   "cell_type": "code",
   "execution_count": null,
   "id": "ab0dca99-96cf-44e8-b1a7-5ed34f54a363",
   "metadata": {},
   "outputs": [],
   "source": [
    "save_data(df_gnar, './data/EnglandCovid_gnar_randomly_by_rate.pkl')"
   ]
  },
  {
   "cell_type": "code",
   "execution_count": null,
   "id": "157e55c4-49f1-4c4d-8911-84a04b0c58e2",
   "metadata": {},
   "outputs": [],
   "source": [
    "load_data('./data/GNAR_stgcn_randomly_by_rate.pkl')"
   ]
  },
  {
   "cell_type": "markdown",
   "id": "7265c881-61ed-4eb2-9480-1f41a0c54dd2",
   "metadata": {},
   "source": [
    "```\n",
    "!git add .\n",
    "!git commit -m .\n",
    "!git push \n",
    "!quarto publish --no-browser --no-prompt \n",
    "```"
   ]
  },
  {
   "cell_type": "code",
   "execution_count": 16,
   "id": "9eb935f4-4d1d-42d3-9ea7-bf0207e29ea6",
   "metadata": {},
   "outputs": [],
   "source": [
    "_data = load_data('./_data/fivenodes.pkl')"
   ]
  },
  {
   "cell_type": "code",
   "execution_count": 17,
   "id": "ba993104-d4cf-46f4-baf4-f958a41f5000",
   "metadata": {},
   "outputs": [],
   "source": [
    "import torch"
   ]
  },
  {
   "cell_type": "code",
   "execution_count": 18,
   "id": "5573a029-b9c7-4067-a92b-50fabe434334",
   "metadata": {},
   "outputs": [],
   "source": [
    "_edges = torch.tensor(_data['edges']).nonzero().tolist()\n",
    "_FX = _data['f'].tolist()\n",
    "_node_ids = {'node1':0, 'node2':1, 'node3':2, 'node4':3, 'node5':4} "
   ]
  },
  {
   "cell_type": "code",
   "execution_count": 19,
   "id": "1073ddac-3581-425c-a4fc-01f1c3a58ee4",
   "metadata": {},
   "outputs": [],
   "source": [
    "data_dict = {'edges':_edges, 'node_ids':_node_ids, 'FX':_FX}\n",
    "#data_dict = itstgcn.load_data('./data/fivenodes.pkl')"
   ]
  },
  {
   "cell_type": "code",
   "execution_count": 23,
   "id": "5308ac83-9bf9-49b5-9a06-efeaa07417ea",
   "metadata": {},
   "outputs": [
    {
     "data": {
      "text/plain": [
       "[[0, 3],\n",
       " [0, 4],\n",
       " [1, 2],\n",
       " [1, 3],\n",
       " [2, 1],\n",
       " [2, 3],\n",
       " [3, 0],\n",
       " [3, 1],\n",
       " [3, 2],\n",
       " [4, 0]]"
      ]
     },
     "execution_count": 23,
     "metadata": {},
     "output_type": "execute_result"
    }
   ],
   "source": [
    "data_dict['edges']"
   ]
  },
  {
   "cell_type": "code",
   "execution_count": 24,
   "id": "b5add79a-01f5-4f1c-90cc-a820ba412e3a",
   "metadata": {},
   "outputs": [
    {
     "data": {
      "text/plain": [
       "(10, 2)"
      ]
     },
     "execution_count": 24,
     "metadata": {},
     "output_type": "execute_result"
    }
   ],
   "source": [
    "np.array(data_dict['edges']).shape"
   ]
  },
  {
   "cell_type": "code",
   "execution_count": 21,
   "id": "dddb6a6c-465c-4b7b-8d16-7f25ad076447",
   "metadata": {},
   "outputs": [
    {
     "data": {
      "text/plain": [
       "{'node1': 0, 'node2': 1, 'node3': 2, 'node4': 3, 'node5': 4}"
      ]
     },
     "execution_count": 21,
     "metadata": {},
     "output_type": "execute_result"
    }
   ],
   "source": [
    "data_dict['node_ids'] # node 수"
   ]
  },
  {
   "cell_type": "code",
   "execution_count": 22,
   "id": "ab072cdc-4778-4bc0-89a9-6f10a7f99c70",
   "metadata": {},
   "outputs": [
    {
     "data": {
      "text/plain": [
       "(200, 5)"
      ]
     },
     "execution_count": 22,
     "metadata": {},
     "output_type": "execute_result"
    }
   ],
   "source": [
    "np.array(data_dict['FX']).shape # time by node"
   ]
  },
  {
   "cell_type": "code",
   "execution_count": 17,
   "id": "d90bfe66-0e69-4ed8-94fa-3d6094fe5988",
   "metadata": {},
   "outputs": [],
   "source": [
    "save_data(data_dict, './data/fivenodes.pkl')"
   ]
  },
  {
   "cell_type": "code",
   "execution_count": null,
   "id": "11f95d6c-a74f-43f7-bb3c-67aa0ae1d77a",
   "metadata": {},
   "outputs": [],
   "source": [
    "load_data('./data/GNAR_stgcn_randomly_by_rate.pkl')"
   ]
  },
  {
   "cell_type": "markdown",
   "id": "fa1dbc6a-d538-414c-9511-1b3352039302",
   "metadata": {},
   "source": [
    "## ChickenpoxDatasetLoader"
   ]
  },
  {
   "cell_type": "markdown",
   "id": "1f3e23ee-8376-4909-bef9-fdb6c690174a",
   "metadata": {},
   "source": [
    "Chickenpox Hungary\n",
    "\n",
    "- A spatiotemporal dataset about the officially reported cases of chickenpox in Hungary. The nodes are counties and edges describe direct neighbourhood relationships. The dataset covers the weeks between 2005 and 2015 without missingness."
   ]
  },
  {
   "cell_type": "markdown",
   "id": "437a2d9b-8012-436d-a09c-92010be6b1d9",
   "metadata": {},
   "source": [
    "데이터정리 \n",
    "\n",
    "- T = 519\n",
    "- N = 20 # number of nodes \n",
    "- E = 102 # edges \n",
    "- $f(v,t)$의 차원? (1,)\n",
    "- 시간에 따라서 Number of nodes가 변하는지? False\n",
    "- 시간에 따라서 Number of nodes가 변하는지? False\n",
    "- X: (20,4) (N,4), $f(v,t_0),f(v,t_1),f(v,t_2),f(v,t_3)$\n",
    "- y: (20,) (N,), $f(v,t_4)$\n",
    "- 예제코드적용가능여부: Yes"
   ]
  },
  {
   "cell_type": "markdown",
   "id": "c60549fb-4294-4b53-9373-a8e74faa836a",
   "metadata": {},
   "source": [
    "`-` Nodes : `20`\n",
    "\n",
    "- vertices are counties\n",
    "\n",
    "`-`Edges : `102`\n",
    "\n",
    "- edges are neighbourhoods\n",
    "\n",
    "`-` Time : `519`\n",
    "\n",
    "- between 2004 and 2014\n",
    "- per weeks"
   ]
  },
  {
   "cell_type": "code",
   "execution_count": 453,
   "id": "f77f3ddd-9df4-482a-96c1-4be10b37140a",
   "metadata": {},
   "outputs": [],
   "source": [
    "from torch_geometric_temporal.dataset import ChickenpoxDatasetLoader\n",
    "loader1 = ChickenpoxDatasetLoader()"
   ]
  },
  {
   "cell_type": "code",
   "execution_count": 454,
   "id": "f5bc8e68-f4f6-4bf3-bff6-1ed9d5f636ba",
   "metadata": {},
   "outputs": [],
   "source": [
    "a = loader1.get_dataset()"
   ]
  },
  {
   "cell_type": "code",
   "execution_count": 455,
   "id": "e84c306c-de50-4bd0-a222-95a305a9a10a",
   "metadata": {},
   "outputs": [
    {
     "data": {
      "text/plain": [
       "(2, 102)"
      ]
     },
     "execution_count": 455,
     "metadata": {},
     "output_type": "execute_result"
    }
   ],
   "source": [
    "np.array(a.edge_index).shape"
   ]
  },
  {
   "cell_type": "code",
   "execution_count": 456,
   "id": "f0a3120a-de7d-477e-a4e2-6d9d81e0f0ad",
   "metadata": {},
   "outputs": [
    {
     "data": {
      "text/plain": [
       "(102,)"
      ]
     },
     "execution_count": 456,
     "metadata": {},
     "output_type": "execute_result"
    }
   ],
   "source": [
    "np.array(a.edge_weight).shape"
   ]
  },
  {
   "cell_type": "code",
   "execution_count": 457,
   "id": "b72b113a-09a9-46e3-9c3b-19ce6ab8fcb2",
   "metadata": {},
   "outputs": [
    {
     "data": {
      "text/plain": [
       "array([1., 1., 1., 1., 1., 1., 1., 1., 1., 1., 1., 1., 1., 1., 1., 1., 1.,\n",
       "       1., 1., 1., 1., 1., 1., 1., 1., 1., 1., 1., 1., 1., 1., 1., 1., 1.,\n",
       "       1., 1., 1., 1., 1., 1., 1., 1., 1., 1., 1., 1., 1., 1., 1., 1., 1.,\n",
       "       1., 1., 1., 1., 1., 1., 1., 1., 1., 1., 1., 1., 1., 1., 1., 1., 1.,\n",
       "       1., 1., 1., 1., 1., 1., 1., 1., 1., 1., 1., 1., 1., 1., 1., 1., 1.,\n",
       "       1., 1., 1., 1., 1., 1., 1., 1., 1., 1., 1., 1., 1., 1., 1., 1., 1.])"
      ]
     },
     "execution_count": 457,
     "metadata": {},
     "output_type": "execute_result"
    }
   ],
   "source": [
    "a.edge_weight"
   ]
  },
  {
   "cell_type": "markdown",
   "id": "9373561d-babb-49b7-86b6-e541827bef28",
   "metadata": {},
   "source": [
    "## PedalMeDatasetLoader"
   ]
  },
  {
   "cell_type": "markdown",
   "id": "15ee87ba-e100-4b44-8853-bf48caea00a9",
   "metadata": {},
   "source": [
    "Pedal Me Deliveries\n",
    "\n",
    "- A dataset about the number of weekly bicycle package deliveries by Pedal Me in London during 2020 and 2021. Nodes in the graph represent geographical units and edges are proximity based mutual adjacency relationships."
   ]
  },
  {
   "cell_type": "markdown",
   "id": "85e61c98-e8c2-4f99-94e0-cc7aaddb9fb0",
   "metadata": {},
   "source": [
    "데이터정리 \n",
    "\n",
    "- T = 33\n",
    "- V = 지역의 집합\n",
    "- N = 15 # number of nodes \n",
    "- E = 225 # edges \n",
    "- $f(v,t)$의 차원? (1,) #  number of deliveries\n",
    "- 시간에 따라서 N이 변하는지? False\n",
    "- 시간에 따라서 E가 변하는지? False\n",
    "- X: (15,4) (N,4), $f(v,t_0),f(v,t_1),f(v,t_2),f(v,t_3)$\n",
    "- y: (15,) (N,), $f(v,t_4)$\n",
    "- 예제코드적용가능여부: Yes"
   ]
  },
  {
   "cell_type": "markdown",
   "id": "228c0b6a-8edc-4e6e-adb6-507a189ebad5",
   "metadata": {},
   "source": [
    "`-` Nodes : `15`\n",
    "\n",
    "- vertices are localities\n",
    "\n",
    "`-`Edges : `225`\n",
    "\n",
    "- edges are spatial_connections\n",
    "\n",
    "`-` Time : `33`\n",
    "\n",
    "- between 2020 and 2021\n",
    "- per weeks"
   ]
  },
  {
   "cell_type": "code",
   "execution_count": 458,
   "id": "8cba7622-baff-4178-9f30-17828e4d4a98",
   "metadata": {},
   "outputs": [],
   "source": [
    "from torch_geometric_temporal.dataset import PedalMeDatasetLoader\n",
    "loader2 = PedalMeDatasetLoader()"
   ]
  },
  {
   "cell_type": "code",
   "execution_count": 459,
   "id": "9a3bdd8c-47e1-4679-9bb0-65ff7aaf425b",
   "metadata": {},
   "outputs": [],
   "source": [
    "a = loader2.get_dataset()"
   ]
  },
  {
   "cell_type": "code",
   "execution_count": 460,
   "id": "f9f5e230-adaa-4438-abdb-5f89c71d9b11",
   "metadata": {},
   "outputs": [
    {
     "data": {
      "text/plain": [
       "(2, 225)"
      ]
     },
     "execution_count": 460,
     "metadata": {},
     "output_type": "execute_result"
    }
   ],
   "source": [
    "np.array(a.edge_index).shape"
   ]
  },
  {
   "cell_type": "code",
   "execution_count": 461,
   "id": "4b26d852-c646-415e-86a5-42e5986a6f48",
   "metadata": {},
   "outputs": [
    {
     "data": {
      "text/plain": [
       "(225,)"
      ]
     },
     "execution_count": 461,
     "metadata": {},
     "output_type": "execute_result"
    }
   ],
   "source": [
    "np.array(a.edge_weight).shape"
   ]
  },
  {
   "cell_type": "markdown",
   "id": "cbd1771e-6079-4634-8290-6c0316d9cffe",
   "metadata": {},
   "source": [
    "## WikiMathsDatasetLoader"
   ]
  },
  {
   "cell_type": "markdown",
   "id": "976e87d5-fe39-4915-8af0-e06166ab8130",
   "metadata": {},
   "source": [
    "Wikipedia Math\n",
    "\n",
    "- Contains Wikipedia pages about popular mathematics topics and edges describe the links from one page to another. Features describe the number of daily visits between 2019 and 2021 March."
   ]
  },
  {
   "cell_type": "markdown",
   "id": "f1b5634d-d8fe-46ce-bc7a-e9fa946186d4",
   "metadata": {},
   "source": [
    "데이터정리 \n",
    "\n",
    "- T = 730\n",
    "- V = 위키피디아 페이지\n",
    "- N = 1068 # number of nodes \n",
    "- E = 27079 # edges \n",
    "- $f(v,t)$의 차원? (1,) # 해당페이지를 유저가 방문한 횟수 \n",
    "- 시간에 따라서 N이 변하는지? False\n",
    "- 시간에 따라서 E가 변하는지? False\n",
    "- X: (1068,8) (N,8), $f(v,t_0),f(v,t_1),f(v,t_2),f(v,t_3),f(v,t_4),f(v,t_5),f(v,t_6),f(v,t_7)$\n",
    "- y: (1068,) (N,), $f(v,t_8)$\n",
    "- 예제코드적용가능여부: Yes"
   ]
  },
  {
   "cell_type": "markdown",
   "id": "608da6ae-166d-4d9e-90f7-c634cb254558",
   "metadata": {},
   "source": [
    "`-` Nodes : `1068`\n",
    "\n",
    "- vertices are Wikipedia pages\n",
    "\n",
    "`-`Edges : `27079`\n",
    "\n",
    "- edges are links between them\n",
    "\n",
    "`-` Time : `730`\n",
    "\n",
    "- Wikipedia pages between March 16th 2019 and March 15th 2021\n",
    "- per weeks"
   ]
  },
  {
   "cell_type": "code",
   "execution_count": 437,
   "id": "66dc2612-5d1e-443c-a942-1933d75d5c2f",
   "metadata": {},
   "outputs": [],
   "source": [
    "from torch_geometric_temporal.dataset import WikiMathsDatasetLoader\n",
    "loader3 = WikiMathsDatasetLoader()"
   ]
  },
  {
   "cell_type": "code",
   "execution_count": 438,
   "id": "202f6eaf-c2dc-4761-87b4-ea7240127a40",
   "metadata": {},
   "outputs": [],
   "source": [
    "a = loader3.get_dataset()"
   ]
  },
  {
   "cell_type": "code",
   "execution_count": 439,
   "id": "b4c557f8-236a-4ec8-af11-6babcd11da7c",
   "metadata": {},
   "outputs": [
    {
     "data": {
      "text/plain": [
       "(2, 27079)"
      ]
     },
     "execution_count": 439,
     "metadata": {},
     "output_type": "execute_result"
    }
   ],
   "source": [
    "np.array(a.edge_index).shape"
   ]
  },
  {
   "cell_type": "code",
   "execution_count": 440,
   "id": "9b4314a7-39ed-4712-a9e5-3f85412b57db",
   "metadata": {},
   "outputs": [
    {
     "data": {
      "text/plain": [
       "(27079,)"
      ]
     },
     "execution_count": 440,
     "metadata": {},
     "output_type": "execute_result"
    }
   ],
   "source": [
    "np.array(a.edge_weight).shape"
   ]
  },
  {
   "cell_type": "markdown",
   "id": "ee97147d-92a1-4e11-b6c7-24afda90a8ef",
   "metadata": {},
   "source": [
    "## WindmillOutputLargeDatasetLoader"
   ]
  },
  {
   "cell_type": "markdown",
   "id": "12114fe2-fec8-4722-b793-57724d493a76",
   "metadata": {},
   "source": [
    "Hourly energy output of windmills from a European country for more than 2 years. Vertices represent 319 windmills and weighted edges describe the strength of relationships. The target variable allows for regression tasks."
   ]
  },
  {
   "cell_type": "markdown",
   "id": "992990e1-2beb-48d3-9c24-3ecd13b47fb8",
   "metadata": {},
   "source": [
    "데이터정리 \n",
    "\n",
    "- T = 17470\n",
    "- V = 풍력발전소\n",
    "- N = 319 # number of nodes \n",
    "- E = 101761 = N^2 # edges \n",
    "- $f(v,t)$의 차원? (1,) # Hourly energy output \n",
    "- 시간에 따라서 N이 변하는지? False\n",
    "- 시간에 따라서 E가 변하는지? False\n",
    "- X: (319,4) (N,4), $f(v,t_0),f(v,t_1),f(v,t_2),f(v,t_3)$\n",
    "- y: (319,) (N,), $f(v,t_4)$\n",
    "- 예제코드적용가능여부: Yes"
   ]
  },
  {
   "cell_type": "markdown",
   "id": "9db15143-3b02-4fb3-90bf-cf7b0ddbeaf9",
   "metadata": {},
   "source": [
    "`-` Nodes : `319`\n",
    "\n",
    "- vertices represent 319 windmills\n",
    "\n",
    "`-`Edges : `101761`\n",
    "\n",
    "- weighted edges describe the strength of relationships.\n",
    "\n",
    "`-` Time : `17470`\n",
    "\n",
    "- more than 2 years"
   ]
  },
  {
   "cell_type": "code",
   "execution_count": 449,
   "id": "b064340b-0f4b-4e3c-b3a6-cf5bf8c52f7b",
   "metadata": {},
   "outputs": [],
   "source": [
    "from torch_geometric_temporal.dataset import WindmillOutputLargeDatasetLoader\n",
    "loader4 = WindmillOutputLargeDatasetLoader()"
   ]
  },
  {
   "cell_type": "code",
   "execution_count": 450,
   "id": "030ce168-1228-4d19-9804-59486e12e02f",
   "metadata": {},
   "outputs": [],
   "source": [
    "a = loader4.get_dataset()"
   ]
  },
  {
   "cell_type": "code",
   "execution_count": 451,
   "id": "9802aa3b-fcc7-4e93-9644-f557a1496ca6",
   "metadata": {},
   "outputs": [
    {
     "data": {
      "text/plain": [
       "(2, 101761)"
      ]
     },
     "execution_count": 451,
     "metadata": {},
     "output_type": "execute_result"
    }
   ],
   "source": [
    "np.array(a.edge_index).shape"
   ]
  },
  {
   "cell_type": "code",
   "execution_count": 452,
   "id": "61833a70-d8d1-4839-a93f-62688641acb7",
   "metadata": {},
   "outputs": [
    {
     "data": {
      "text/plain": [
       "(101761,)"
      ]
     },
     "execution_count": 452,
     "metadata": {},
     "output_type": "execute_result"
    }
   ],
   "source": [
    "np.array(a.edge_weight).shape"
   ]
  },
  {
   "cell_type": "markdown",
   "id": "079657e9-e9b0-4f3b-a280-0defead423f1",
   "metadata": {},
   "source": [
    "## WindmillOutputMediumDatasetLoader"
   ]
  },
  {
   "cell_type": "markdown",
   "id": "6d02edcd-b21a-4404-bdb1-4711fa2a26ec",
   "metadata": {},
   "source": [
    "Hourly energy output of windmills from a European country for more than 2 years. Vertices represent 26 windmills and weighted edges describe the strength of relationships. The target variable allows for regression tasks.\n",
    "\n"
   ]
  },
  {
   "cell_type": "markdown",
   "id": "60c355ca-e3c8-4e61-aeaf-a4373ee575e1",
   "metadata": {},
   "source": [
    "데이터정리 \n",
    "\n",
    "- T = 17470\n",
    "- V = 풍력발전소\n",
    "- N = 319 # number of nodes \n",
    "- E = 101761 = N^2 # edges \n",
    "- $f(v,t)$의 차원? (1,) # Hourly energy output \n",
    "- 시간에 따라서 N이 변하는지? False\n",
    "- 시간에 따라서 E가 변하는지? False\n",
    "- X: (319,4) (N,4), $f(v,t_0),f(v,t_1),f(v,t_2),f(v,t_3)$\n",
    "- y: (319,) (N,), $f(v,t_4)$\n",
    "- 예제코드적용가능여부: Yes"
   ]
  },
  {
   "cell_type": "markdown",
   "id": "e7c77b91-f945-4523-9002-6fed5c91f3f7",
   "metadata": {},
   "source": [
    "`-` Nodes : `26`\n",
    "\n",
    "- vertices represent 26 windmills\n",
    "\n",
    "`-`Edges : `225`\n",
    "\n",
    "- weighted edges describe the strength of relationships\n",
    "\n",
    "`-` Time : `676`\n",
    "\n",
    "-  more than 2 years"
   ]
  },
  {
   "cell_type": "code",
   "execution_count": 441,
   "id": "c905514c-5fd6-4695-a221-1567427a060d",
   "metadata": {},
   "outputs": [],
   "source": [
    "from torch_geometric_temporal.dataset import WindmillOutputMediumDatasetLoader\n",
    "loader5 = WindmillOutputMediumDatasetLoader()"
   ]
  },
  {
   "cell_type": "code",
   "execution_count": 442,
   "id": "73c92267-ea16-482e-a3f3-bd5581c80dde",
   "metadata": {},
   "outputs": [],
   "source": [
    "a = loader5.get_dataset()"
   ]
  },
  {
   "cell_type": "code",
   "execution_count": 443,
   "id": "b2fa5c64-9c36-4cef-b983-646647913f25",
   "metadata": {},
   "outputs": [
    {
     "data": {
      "text/plain": [
       "(2, 676)"
      ]
     },
     "execution_count": 443,
     "metadata": {},
     "output_type": "execute_result"
    }
   ],
   "source": [
    "np.array(a.edge_index).shape"
   ]
  },
  {
   "cell_type": "code",
   "execution_count": 444,
   "id": "3974d2a2-9d81-46f9-b9a5-3230c8c0589a",
   "metadata": {},
   "outputs": [
    {
     "data": {
      "text/plain": [
       "(676,)"
      ]
     },
     "execution_count": 444,
     "metadata": {},
     "output_type": "execute_result"
    }
   ],
   "source": [
    "np.array(a.edge_weight).shape"
   ]
  },
  {
   "cell_type": "markdown",
   "id": "aef62c2d-6d8f-4249-baf7-0642768792ae",
   "metadata": {},
   "source": [
    "## WindmillOutputSmallDatasetLoader"
   ]
  },
  {
   "cell_type": "markdown",
   "id": "2b7c853b-3b66-432e-8909-7aff55cfbf07",
   "metadata": {},
   "source": [
    "Hourly energy output of windmills from a European country for more than 2 years. Vertices represent 11 windmills and weighted edges describe the strength of relationships. The target variable allows for regression tasks."
   ]
  },
  {
   "cell_type": "markdown",
   "id": "e8b475d0-7d12-4548-af02-45e40c87bb0f",
   "metadata": {},
   "source": [
    "데이터정리 \n",
    "\n",
    "- T = 17470\n",
    "- V = 풍력발전소\n",
    "- N = 319 # number of nodes \n",
    "- E = 101761 = N^2 # edges \n",
    "- $f(v,t)$의 차원? (1,) # Hourly energy output \n",
    "- 시간에 따라서 N이 변하는지? False\n",
    "- 시간에 따라서 E가 변하는지? False\n",
    "- X: (319,4) (N,4), $f(v,t_0),f(v,t_1),f(v,t_2),f(v,t_3)$\n",
    "- y: (319,) (N,), $f(v,t_4)$\n",
    "- 예제코드적용가능여부: Yes"
   ]
  },
  {
   "cell_type": "markdown",
   "id": "b940aa97-c98c-45f4-8d8b-123035e84e21",
   "metadata": {},
   "source": [
    "`-` Nodes : `11`\n",
    "\n",
    "- vertices represent 11 windmills\n",
    "\n",
    "`-`Edges : `121`\n",
    "\n",
    "- weighted edges describe the strength of relationships\n",
    "\n",
    "`-` Time : `17470`\n",
    "\n",
    "- more than 2 years"
   ]
  },
  {
   "cell_type": "code",
   "execution_count": 445,
   "id": "666244d9-0f46-4f54-b806-3018d8e1826a",
   "metadata": {},
   "outputs": [],
   "source": [
    "from torch_geometric_temporal.dataset import WindmillOutputSmallDatasetLoader\n",
    "loader6 = WindmillOutputSmallDatasetLoader()"
   ]
  },
  {
   "cell_type": "code",
   "execution_count": 446,
   "id": "8b0fdcbc-ec9d-4942-a49e-375f59c4380f",
   "metadata": {},
   "outputs": [],
   "source": [
    "a = loader6.get_dataset()"
   ]
  },
  {
   "cell_type": "code",
   "execution_count": 447,
   "id": "084fbe96-6ec2-446b-b0da-3b1b2f2e15b4",
   "metadata": {},
   "outputs": [
    {
     "data": {
      "text/plain": [
       "(2, 121)"
      ]
     },
     "execution_count": 447,
     "metadata": {},
     "output_type": "execute_result"
    }
   ],
   "source": [
    "np.array(a.edge_index).shape"
   ]
  },
  {
   "cell_type": "code",
   "execution_count": 448,
   "id": "18602fee-7cd0-48e8-9322-b5f38010715e",
   "metadata": {},
   "outputs": [
    {
     "data": {
      "text/plain": [
       "(121,)"
      ]
     },
     "execution_count": 448,
     "metadata": {},
     "output_type": "execute_result"
    }
   ],
   "source": [
    "np.array(a.edge_weight).shape"
   ]
  },
  {
   "cell_type": "markdown",
   "id": "06e956a0-5256-44ff-9a4b-842b7b91cf37",
   "metadata": {},
   "source": [
    "## METRLADatasetLoader_real world traffic dataset"
   ]
  },
  {
   "cell_type": "markdown",
   "id": "cb959e40-f34e-4c60-9e13-af9e4dde1f0e",
   "metadata": {},
   "source": [
    "A traffic forecasting dataset based on Los Angeles Metropolitan traffic conditions. The dataset contains traffic readings collected from 207 loop detectors on highways in Los Angeles County in aggregated 5 minute intervals for 4 months between March 2012 to June 2012."
   ]
  },
  {
   "cell_type": "markdown",
   "id": "967e5857-a1c8-4e9e-b83b-c24ae5693706",
   "metadata": {},
   "source": [
    "데이터정리 \n",
    "\n",
    "- T = 33\n",
    "- V = 구역\n",
    "- N = 207 # number of nodes \n",
    "- E = 225 \n",
    "- $f(v,t)$의 차원? (3,) # Hourly energy output \n",
    "- 시간에 따라서 N이 변하는지? False\n",
    "- 시간에 따라서 E가 변하는지? False\n",
    "- X: (207,4) (N,2,12), $x_0,x_1,x_2,x_3,x_4,x_5,x_6,x_7,x_8,x_9,x_{10},x_{11},z_0,z_1,z_2,z_3,z_4,z_5,z_6,z_7,z_8,z_9,z_{10},z_{11}$\n",
    "- y: (207,) (N,), $(x_{12})$\n",
    "- 예제코드적용가능여부: No"
   ]
  },
  {
   "cell_type": "markdown",
   "id": "0efac122-2304-4813-918e-318558896192",
   "metadata": {},
   "source": [
    "https://arxiv.org/pdf/1707.01926.pdf"
   ]
  },
  {
   "cell_type": "markdown",
   "id": "3a7c7d75-6b78-4e4c-a4cb-a3900b0f96d6",
   "metadata": {},
   "source": [
    "`-` Nodes : `207`\n",
    "\n",
    "- vertices are localities\n",
    "\n",
    "`-`Edges : `225`\n",
    "\n",
    "- edges are spatial_connections\n",
    "\n",
    "`-` Time : `33`\n",
    "\n",
    "- between 2020 and 2021\n",
    "- per weeks"
   ]
  },
  {
   "cell_type": "code",
   "execution_count": 464,
   "id": "e4750dd3-a427-4d05-aed8-d65ed6efe6a5",
   "metadata": {},
   "outputs": [],
   "source": [
    "from torch_geometric_temporal.dataset import METRLADatasetLoader\n",
    "loader7 = METRLADatasetLoader()"
   ]
  },
  {
   "cell_type": "code",
   "execution_count": 465,
   "id": "b1ee1550-7194-4d43-b268-ca6a0b59e3da",
   "metadata": {},
   "outputs": [],
   "source": [
    "a = loader7.get_dataset()"
   ]
  },
  {
   "cell_type": "code",
   "execution_count": 466,
   "id": "94feb85c-5268-4488-8d7e-de2f8a1fd6ca",
   "metadata": {},
   "outputs": [
    {
     "data": {
      "text/plain": [
       "(2, 1722)"
      ]
     },
     "execution_count": 466,
     "metadata": {},
     "output_type": "execute_result"
    }
   ],
   "source": [
    "np.array(a.edge_index).shape"
   ]
  },
  {
   "cell_type": "code",
   "execution_count": 467,
   "id": "56c86703-a128-4309-9f88-f3de47d7497c",
   "metadata": {},
   "outputs": [
    {
     "data": {
      "text/plain": [
       "(1722,)"
      ]
     },
     "execution_count": 467,
     "metadata": {},
     "output_type": "execute_result"
    }
   ],
   "source": [
    "np.array(a.edge_weight).shape"
   ]
  },
  {
   "cell_type": "markdown",
   "id": "98513e92-a5e1-44e1-b5d8-b0b7a6a2e547",
   "metadata": {
    "tags": []
   },
   "source": [
    "## PemsBayDatasetLoader"
   ]
  },
  {
   "cell_type": "markdown",
   "id": "5d5e70d7-4441-479a-96f1-c2b34e534c81",
   "metadata": {},
   "source": [
    "https://onlinelibrary.wiley.com/doi/pdf/10.1111/tgis.12644"
   ]
  },
  {
   "cell_type": "markdown",
   "id": "02eac145-28a9-44e6-986f-584f41b9c7cb",
   "metadata": {},
   "source": [
    "A traffic forecasting dataset as described in Diffusion Convolution Layer Paper.\n",
    "\n",
    "This traffic dataset is collected by California Transportation Agencies (CalTrans) Performance Measurement System (PeMS). It is represented by a network of 325 traffic sensors in the Bay Area with 6 months of traffic readings ranging from Jan 1st 2017 to May 31th 2017 in 5 minute intervals."
   ]
  },
  {
   "cell_type": "markdown",
   "id": "dbef28ce-8031-4b3e-b913-e2422ed463e4",
   "metadata": {},
   "source": [
    "데이터정리 \n",
    "\n",
    "- T = 17470\n",
    "- V = 풍력발전소\n",
    "- N = 325 # number of nodes \n",
    "- E = 101761 = N^2 # edges \n",
    "- $f(v,t)$의 차원? (1,) # Hourly energy output \n",
    "- 시간에 따라서 N이 변하는지? False\n",
    "- 시간에 따라서 E가 변하는지? False\n",
    "- X: (325,2,12) (N,2,12), \n",
    "    - $x_0,x_1,x_2,x_3,x_4,x_5,x_6,x_7,x_8,x_9,x_{10},x_{11}$ \n",
    "    - $z_0,z_1,z_2,z_3,z_4,z_5,z_6,z_7,z_8,z_9,z_{10},z_{11}$\n",
    "- y: (325,) (N,2,12), \n",
    "    - $x_{13},x_{14},x_{15},x_{16},x_{17},x_{18},x_{19},x_{20},x_{21},x_{22},x_{23},x_{24}$\n",
    "    - $z_{13},z_{14},z_{15},z_{16},z_{17},z_{18},z_{19},z_{20},z_{21},z_{22},z_{23},z_{24}$\n",
    "- 예제코드적용가능여부: No"
   ]
  },
  {
   "cell_type": "markdown",
   "id": "4a5f597b-1898-4ca4-b5be-6a3119290650",
   "metadata": {},
   "source": [
    "`-` Nodes : `325`\n",
    "\n",
    "- vertices are sensors\n",
    "\n",
    "`-`Edges : `2694`\n",
    "\n",
    "- weighted edges are between seonsor paris measured by the road nretwork distance\n",
    "\n",
    "`-` Time : `52081`\n",
    "\n",
    "- 6 months of traffic readings ranging from Jan 1st 2017 to May 31th 2017 in 5 minute intervals"
   ]
  },
  {
   "cell_type": "code",
   "execution_count": 468,
   "id": "beaaa0e4-0ec7-436b-87f1-25843217da98",
   "metadata": {},
   "outputs": [],
   "source": [
    "from torch_geometric_temporal.dataset import PemsBayDatasetLoader\n",
    "loader8 = PemsBayDatasetLoader()"
   ]
  },
  {
   "cell_type": "code",
   "execution_count": 472,
   "id": "f8569048-1dba-4ca8-84bb-1c41781605a9",
   "metadata": {},
   "outputs": [],
   "source": [
    "a = loader8.get_dataset()"
   ]
  },
  {
   "cell_type": "code",
   "execution_count": 473,
   "id": "9fa03bc0-601a-4bfc-92bb-7b4d0b994645",
   "metadata": {},
   "outputs": [
    {
     "data": {
      "text/plain": [
       "(2, 2694)"
      ]
     },
     "execution_count": 473,
     "metadata": {},
     "output_type": "execute_result"
    }
   ],
   "source": [
    "np.array(a.edge_index).shape"
   ]
  },
  {
   "cell_type": "code",
   "execution_count": 474,
   "id": "f4c69ea4-9800-4244-8625-a3fe956ae61b",
   "metadata": {},
   "outputs": [
    {
     "data": {
      "text/plain": [
       "(2694,)"
      ]
     },
     "execution_count": 474,
     "metadata": {},
     "output_type": "execute_result"
    }
   ],
   "source": [
    "np.array(a.edge_weight).shape"
   ]
  },
  {
   "cell_type": "markdown",
   "id": "314331ae-7c4b-4298-ad31-51da0736242b",
   "metadata": {
    "tags": []
   },
   "source": [
    "## EnglandCovidDatasetLoader"
   ]
  },
  {
   "cell_type": "markdown",
   "id": "cc55841f-00cd-4ba1-8cb2-dd6a75e00fc8",
   "metadata": {},
   "source": [
    "Covid19 England\n",
    "\n",
    "- A dataset about mass mobility between regions in England and the number of confirmed COVID-19 cases from March to May 2020 [38]. Each day contains a different mobility graph and node features corresponding to the number of cases in the previous days. Mobility stems from Facebook Data For Good 1 and cases from gov.uk 2"
   ]
  },
  {
   "cell_type": "markdown",
   "id": "38dc3ed1-6c6e-4ae4-b2c6-b7e233abbde2",
   "metadata": {},
   "source": [
    "https://arxiv.org/pdf/2009.08388.pdf"
   ]
  },
  {
   "cell_type": "markdown",
   "id": "9d480491-77c7-4885-945e-1cdcb3eadcc1",
   "metadata": {},
   "source": [
    "데이터정리 \n",
    "\n",
    "- T = 60\n",
    "- V = 지역\n",
    "- N = 129 # number of nodes \n",
    "- E = 2158\n",
    "- $f(v,t)$의 차원? (1,) # 코로나확진자수\n",
    "- 시간에 따라서 Number of nodes가 변하는지? False\n",
    "- 시간에 따라서 Number of edge가 변하는지? TRUE\n",
    "- X: (20,4) (N,4), $f(v,t_0),f(v,t_1),f(v,t_2),f(v,t_3)$\n",
    "- y: (20,) (N,), $f(v,t_4)$\n",
    "- 예제코드적용가능여부: Yes"
   ]
  },
  {
   "cell_type": "markdown",
   "id": "d0f18497-1fe2-414f-9605-b44ab16b291d",
   "metadata": {},
   "source": [
    "`-` Nodes : `129`\n",
    "\n",
    "- vertices are correspond to the number of COVID-19 cases in the region in the past window days.\n",
    "\n",
    "`-`Edges : `2158`\n",
    "\n",
    "- the spatial edges capture county-to-county movement at a specific date, and a county is connected to a number of past instances of itself with temporal edges.\n",
    "\n",
    "`-` Time : `61`\n",
    "\n",
    "- from 3 March to 12 of May"
   ]
  },
  {
   "cell_type": "code",
   "execution_count": 475,
   "id": "c57d89b9-37e5-424b-b603-72575eff04d1",
   "metadata": {},
   "outputs": [],
   "source": [
    "from torch_geometric_temporal.dataset import EnglandCovidDatasetLoader\n",
    "loader9 = EnglandCovidDatasetLoader()"
   ]
  },
  {
   "cell_type": "code",
   "execution_count": 478,
   "id": "1e737475-9d17-46e4-9e1e-2633bac32e0f",
   "metadata": {},
   "outputs": [],
   "source": [
    "a = loader9.get_dataset()"
   ]
  },
  {
   "cell_type": "code",
   "execution_count": 482,
   "id": "574ba2e3-36a0-4072-819c-ccbca2b55045",
   "metadata": {},
   "outputs": [
    {
     "data": {
      "text/plain": [
       "array([[ 98,  28,  28, ...,  72,  36,  36],\n",
       "       [ 98, 103,  65, ...,  26,  92,  47]])"
      ]
     },
     "execution_count": 482,
     "metadata": {},
     "output_type": "execute_result"
    }
   ],
   "source": [
    "a.edge_indices[1]"
   ]
  },
  {
   "cell_type": "code",
   "execution_count": 487,
   "id": "20b0c811-39d9-4072-bfd3-c177814d9561",
   "metadata": {},
   "outputs": [
    {
     "data": {
      "text/plain": [
       "array([2.02818e+05, 4.97000e+02, 6.90000e+01, ..., 3.80000e+01,\n",
       "       1.70000e+01, 1.80000e+01])"
      ]
     },
     "execution_count": 487,
     "metadata": {},
     "output_type": "execute_result"
    }
   ],
   "source": [
    "a.edge_weights[1]"
   ]
  },
  {
   "cell_type": "markdown",
   "id": "560bd710-2e8b-4260-8135-4498edc6b4bd",
   "metadata": {},
   "source": [
    "## MontevideoBusDatasetLoader"
   ]
  },
  {
   "cell_type": "markdown",
   "id": "8c40fd14-0caa-40ea-ae58-a1e2593b8213",
   "metadata": {},
   "source": [
    "https://www.fing.edu.uy/~renzom/msc/uploads/msc-thesis.pdf"
   ]
  },
  {
   "cell_type": "markdown",
   "id": "893524d2-89df-4622-98e1-efe5b1ef9186",
   "metadata": {},
   "source": [
    "Montevideo Buses\n",
    "\n",
    "- A dataset about the hourly passenger inflow at bus stop level for eleven bus lines from the city of Montevideo. Nodes are bus stops and edges represent connections between the stops; the dataset covers a whole month of traffic patterns."
   ]
  },
  {
   "cell_type": "markdown",
   "id": "39fefc6c-96a8-4808-9c5c-28bf012082b0",
   "metadata": {},
   "source": [
    "데이터정리 \n",
    "\n",
    "- T = 743\n",
    "- V = 버스정류장 \n",
    "- N = 675 # number of nodes \n",
    "- E = 101761 = N^2 # edges \n",
    "- $f(v,t)$의 차원? (1,) # passenger inflow \n",
    "- 시간에 따라서 Number of nodes가 변하는지? False\n",
    "- 시간에 따라서 Number of nodes가 변하는지? False\n",
    "- X: (675,4) (N,4), $f(v,t_0),f(v,t_1),f(v,t_2),f(v,t_3)$\n",
    "- y: (675,,) (N,), $f(v,t_4)$\n",
    "- 예제코드적용가능여부: Yes"
   ]
  },
  {
   "cell_type": "markdown",
   "id": "708ec2ba-9770-426f-9ba2-0a733696a296",
   "metadata": {},
   "source": [
    "`-` Nodes : `675`\n",
    "\n",
    "- vertices are bus stops\n",
    "\n",
    "`-`Edges : `690`\n",
    "\n",
    "- edges are links between bus stops when a bus line connects them and the weight represent the road distance\n",
    "\n",
    "`-` Time : `743`\n",
    "\n",
    "-  hourly inflow passenger data at bus stop level for 11 bus lines during October 2020 from Montevideo city (Uruguay)."
   ]
  },
  {
   "cell_type": "code",
   "execution_count": 488,
   "id": "8faedca5-88ab-47c0-ac1d-f15b8a24c4e3",
   "metadata": {},
   "outputs": [],
   "source": [
    "from torch_geometric_temporal.dataset import MontevideoBusDatasetLoader\n",
    "loader10 = EnglandCovidDatasetLoader()"
   ]
  },
  {
   "cell_type": "code",
   "execution_count": 489,
   "id": "4c30036e-382b-4320-994a-966657a901fa",
   "metadata": {},
   "outputs": [],
   "source": [
    "a = loader10.get_dataset()"
   ]
  },
  {
   "cell_type": "code",
   "execution_count": 490,
   "id": "f9c84cf6-5275-4ff8-9391-9bd79c88fd09",
   "metadata": {},
   "outputs": [
    {
     "data": {
      "text/plain": [
       "array([[ 98,  28,  28, ...,  72,  36,  36],\n",
       "       [ 98, 103,  65, ...,  26,  92,  47]])"
      ]
     },
     "execution_count": 490,
     "metadata": {},
     "output_type": "execute_result"
    }
   ],
   "source": [
    "a.edge_indices[1]"
   ]
  },
  {
   "cell_type": "code",
   "execution_count": 491,
   "id": "d7e74487-4fde-4690-a48f-9fa114f44066",
   "metadata": {},
   "outputs": [
    {
     "data": {
      "text/plain": [
       "array([2.02818e+05, 4.97000e+02, 6.90000e+01, ..., 3.80000e+01,\n",
       "       1.70000e+01, 1.80000e+01])"
      ]
     },
     "execution_count": 491,
     "metadata": {},
     "output_type": "execute_result"
    }
   ],
   "source": [
    "a.edge_weights[1]"
   ]
  },
  {
   "cell_type": "markdown",
   "id": "769b8a46-526b-4c24-9e86-a777569374d6",
   "metadata": {},
   "source": [
    "## TwitterTennisDatasetLoader"
   ]
  },
  {
   "cell_type": "markdown",
   "id": "fd68e4a2-71b7-47ac-b54d-d8f745ac0220",
   "metadata": {},
   "source": [
    "https://appliednetsci.springeropen.com/articles/10.1007/s41109-018-0080-5?ref=https://githubhelp.com"
   ]
  },
  {
   "cell_type": "markdown",
   "id": "34bd76d7-cfac-4c97-95fc-dd55d90970a8",
   "metadata": {},
   "source": [
    "Twitter Tennis RG and UO\n",
    "\n",
    "- Twitter mention graphs of major tennis tournaments from 2017. Each snapshot contains the graph of popular player or sport news accounts and mentions between them [5, 6]. Node labels encode the number of mentions received and vertex features are structural properties"
   ]
  },
  {
   "cell_type": "markdown",
   "id": "c6522549-67d3-426a-b17c-f7d489fd3063",
   "metadata": {},
   "source": [
    "데이터정리 \n",
    "\n",
    "- T = 52081\n",
    "- V = 트위터계정  \n",
    "- N = 1000 # number of nodes \n",
    "- E = 119 = N^2 # edges \n",
    "- $f(v,t)$의 차원? (1,) # passenger inflow \n",
    "- 시간에 따라서 N이 변하는지? ??\n",
    "- 시간에 따라서 E가 변하는지? True\n",
    "- X: ?\n",
    "- y: ?\n",
    "- 예제코드적용가능여부: No"
   ]
  },
  {
   "cell_type": "markdown",
   "id": "51351c1e-1271-42fa-b232-95a7d821bac2",
   "metadata": {},
   "source": [
    "`-` Nodes : `1000`\n",
    "\n",
    "- vertices are Twitter accounts\n",
    "\n",
    "`-`Edges : `119`\n",
    "\n",
    "- edges are mentions between them\n",
    "\n",
    "`-` Time : `52081`\n",
    "\n",
    "- Twitter mention graphs related to major tennis tournaments from 2017"
   ]
  },
  {
   "cell_type": "code",
   "execution_count": 492,
   "id": "400da092-caca-4456-8ca9-7490fc34ee52",
   "metadata": {},
   "outputs": [],
   "source": [
    "from torch_geometric_temporal.dataset import TwitterTennisDatasetLoader\n",
    "loader11 = TwitterTennisDatasetLoader()"
   ]
  },
  {
   "cell_type": "code",
   "execution_count": 493,
   "id": "798f4bce-745a-4135-b898-6ecb0abb5857",
   "metadata": {},
   "outputs": [],
   "source": [
    "a = loader11.get_dataset()"
   ]
  },
  {
   "cell_type": "code",
   "execution_count": 494,
   "id": "79cd320b-c5ad-4171-8776-670793fba3ea",
   "metadata": {},
   "outputs": [
    {
     "data": {
      "text/plain": [
       "array([[218, 218, 205, 205,  84,  84,  84,  84, 135, 135, 140, 140, 140,\n",
       "        140, 140, 450, 450, 637, 637, 637, 637, 637, 860, 330, 330, 330,\n",
       "        330, 962, 295, 295, 764, 142, 142, 142, 142, 142, 142, 142, 142,\n",
       "        295, 160, 312, 312,   9, 801, 801, 265, 265, 265, 551, 551, 551,\n",
       "        526, 526, 162,  92,  91, 802, 963, 963,   9],\n",
       "       [  0,   4, 310,   0,   0,   9,  17,  85,   0,  37,   9,  74,   0,\n",
       "         32,   8, 111, 403,   9, 146,   3,  74,   0,  49,  74,   9,   3,\n",
       "          0,  13, 248,  96,   0,   0,  31, 119,  52,  62,  24,   7,  86,\n",
       "        619,   0,   0, 146,   0,   0,   9,   0,   5,  13,   2, 926,   0,\n",
       "         62,   9,   0,  92, 172,  80,  31,   0, 255]])"
      ]
     },
     "execution_count": 494,
     "metadata": {},
     "output_type": "execute_result"
    }
   ],
   "source": [
    "a.edge_indices[1]"
   ]
  },
  {
   "cell_type": "code",
   "execution_count": 495,
   "id": "cd6675a4-9bd3-4a65-b07f-170acef745d7",
   "metadata": {},
   "outputs": [
    {
     "data": {
      "text/plain": [
       "array([1, 1, 1, 1, 1, 1, 6, 2, 1, 1, 1, 1, 1, 1, 1, 1, 1, 1, 1, 1, 1, 1,\n",
       "       1, 1, 1, 1, 1, 1, 1, 1, 1, 1, 1, 1, 1, 1, 1, 1, 1, 1, 1, 1, 1, 1,\n",
       "       1, 1, 1, 1, 1, 1, 1, 1, 1, 1, 1, 1, 1, 1, 1, 2, 2])"
      ]
     },
     "execution_count": 495,
     "metadata": {},
     "output_type": "execute_result"
    }
   ],
   "source": [
    "a.edge_weights[1]"
   ]
  },
  {
   "cell_type": "markdown",
   "id": "de4d3cf4-b1d3-48ab-84d6-e663e2960e18",
   "metadata": {},
   "source": [
    "## MTMDatasetLoader"
   ]
  },
  {
   "cell_type": "markdown",
   "id": "f723087d-051b-4a7a-891b-c0f05456eec7",
   "metadata": {},
   "source": [
    "MTM-1 Hand Motions\n",
    "\n",
    "- A temporal dataset of MethodsTime Measurement-1 [36] motions, signalled as consecutive graph frames of 21 3D hand key points that were acquired via MediaPipe Hands [64] from original RGB-Video material. Node features encode the normalized xyz-coordinates of each finger joint and the vertices are connected according to the human hand structure."
   ]
  },
  {
   "cell_type": "markdown",
   "id": "f4df0e95-caa0-4507-95c0-692a153f324b",
   "metadata": {},
   "source": [
    "데이터정리 \n",
    "\n",
    "- T = 14452\n",
    "- V = 손의 shape에 대응하는 dot    \n",
    "- N = 325 # number of nodes \n",
    "- E = 19 = N^2 # edges \n",
    "- $f(v,t)$의 차원? (Grasp, Release, Move, Reach, Poision, -1)\n",
    "- 시간에 따라서 N이 변하는지? ??\n",
    "- 시간에 따라서 E가 변하는지? ??\n",
    "- X: ?\n",
    "- y: ?\n",
    "- 예제코드적용가능여부: No"
   ]
  },
  {
   "cell_type": "markdown",
   "id": "f65ed5d2-f1d2-40b4-80aa-0bac683d95ad",
   "metadata": {},
   "source": [
    "`-` Nodes : `325`\n",
    "\n",
    "- vertices are are the finger joints of the human hand\n",
    "\n",
    "`-`Edges : `19`\n",
    "\n",
    "- edges are the bones connecting them\n",
    "\n",
    "`-` Time : `14452`"
   ]
  },
  {
   "cell_type": "code",
   "execution_count": 496,
   "id": "843ea154-d01a-473a-b306-6b6ec0f74bfe",
   "metadata": {},
   "outputs": [],
   "source": [
    "from torch_geometric_temporal.dataset import MTMDatasetLoader\n",
    "loader12 = MTMDatasetLoader()"
   ]
  },
  {
   "cell_type": "code",
   "execution_count": 497,
   "id": "98a5e544-9a9e-447e-93cd-76b0360fea50",
   "metadata": {},
   "outputs": [],
   "source": [
    "a = loader12.get_dataset()"
   ]
  },
  {
   "cell_type": "code",
   "execution_count": 501,
   "id": "563fb385-381d-4bc8-bc6a-7f737f4021c0",
   "metadata": {},
   "outputs": [
    {
     "data": {
      "text/plain": [
       "(2, 19)"
      ]
     },
     "execution_count": 501,
     "metadata": {},
     "output_type": "execute_result"
    }
   ],
   "source": [
    "np.array(a.edge_index).shape"
   ]
  },
  {
   "cell_type": "code",
   "execution_count": 503,
   "id": "de66f05a-874a-409e-be61-2625be775d75",
   "metadata": {},
   "outputs": [
    {
     "data": {
      "text/plain": [
       "(19,)"
      ]
     },
     "execution_count": 503,
     "metadata": {},
     "output_type": "execute_result"
    }
   ],
   "source": [
    "np.shape(a.edge_weight)"
   ]
  },
  {
   "cell_type": "code",
   "execution_count": null,
   "id": "6dfe7006-b97f-4516-bbce-7ac16643f3e2",
   "metadata": {},
   "outputs": [],
   "source": []
  }
 ],
 "metadata": {
  "kernelspec": {
   "display_name": "Python 3 (ipykernel)",
   "language": "python",
   "name": "python3"
  },
  "language_info": {
   "codemirror_mode": {
    "name": "ipython",
    "version": 3
   },
   "file_extension": ".py",
   "mimetype": "text/x-python",
   "name": "python",
   "nbconvert_exporter": "python",
   "pygments_lexer": "ipython3",
   "version": "3.8.12"
  }
 },
 "nbformat": 4,
 "nbformat_minor": 5
}

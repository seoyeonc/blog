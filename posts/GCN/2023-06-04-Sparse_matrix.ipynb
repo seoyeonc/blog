{
 "cells": [
  {
   "cell_type": "raw",
   "id": "c54bc978-6161-412a-906c-01505ffaf4eb",
   "metadata": {
    "id": "cac470df-29e7-4148-9bbd-d8b9a32fa570",
    "tags": []
   },
   "source": [
    "---\n",
    "title: \"Sparse matrix\"\n",
    "author: \"SEOYEON CHOI\"\n",
    "date: \"2023-06-04\"\n",
    "categories:\n",
    "  - Sparse matrix\n",
    "---"
   ]
  },
  {
   "cell_type": "markdown",
   "id": "204941ad-3e99-43d9-9b5b-9d5be65a3904",
   "metadata": {},
   "source": [
    "> Sparse matrix"
   ]
  },
  {
   "cell_type": "markdown",
   "id": "1b17d475-e81f-4459-81f9-83fc9548aa21",
   "metadata": {},
   "source": [
    "Ref: [scipy](https://docs.scipy.org/doc/scipy/reference/sparse.html)"
   ]
  },
  {
   "cell_type": "code",
   "execution_count": 24,
   "id": "eba1be2b-c6e9-499f-a1fd-12625431df10",
   "metadata": {},
   "outputs": [],
   "source": [
    "from scipy.sparse import *\n",
    "import numpy as np\n",
    "import pandas as pd\n",
    "import torch"
   ]
  },
  {
   "cell_type": "code",
   "execution_count": 2,
   "id": "e5c450a8-f60f-41f8-bb0c-e2a4c3c71366",
   "metadata": {},
   "outputs": [
    {
     "data": {
      "text/plain": [
       "array([[0, 0, 0, 0],\n",
       "       [0, 0, 0, 0],\n",
       "       [0, 0, 0, 0]], dtype=int8)"
      ]
     },
     "execution_count": 2,
     "metadata": {},
     "output_type": "execute_result"
    }
   ],
   "source": [
    "bsr_array((3, 4), dtype=np.int8).toarray()"
   ]
  },
  {
   "cell_type": "code",
   "execution_count": 3,
   "id": "acaaa69c-ccc2-463f-99c4-6a7bc2851cf6",
   "metadata": {},
   "outputs": [
    {
     "data": {
      "text/plain": [
       "array([[1., 0., 0.],\n",
       "       [0., 1., 0.],\n",
       "       [0., 0., 1.]])"
      ]
     },
     "execution_count": 3,
     "metadata": {},
     "output_type": "execute_result"
    }
   ],
   "source": [
    "eye(3).toarray()"
   ]
  },
  {
   "cell_type": "code",
   "execution_count": 4,
   "id": "39fb3525-e067-4f70-ab95-010327f8d5cd",
   "metadata": {},
   "outputs": [
    {
     "data": {
      "text/plain": [
       "array([[0., 1., 0.],\n",
       "       [0., 0., 1.],\n",
       "       [0., 0., 0.]])"
      ]
     },
     "execution_count": 4,
     "metadata": {},
     "output_type": "execute_result"
    }
   ],
   "source": [
    "eye(3,k=1).toarray()"
   ]
  },
  {
   "cell_type": "code",
   "execution_count": 5,
   "id": "e24d9a00-82fc-400e-8bf6-a4d9f9722901",
   "metadata": {},
   "outputs": [
    {
     "data": {
      "text/plain": [
       "array([[1., 0., 0.],\n",
       "       [0., 1., 0.],\n",
       "       [0., 0., 1.]])"
      ]
     },
     "execution_count": 5,
     "metadata": {},
     "output_type": "execute_result"
    }
   ],
   "source": [
    "identity(3).toarray()"
   ]
  },
  {
   "cell_type": "code",
   "execution_count": 6,
   "id": "1bba8ce1-d946-40be-a6c4-460086c0e82e",
   "metadata": {},
   "outputs": [
    {
     "data": {
      "text/plain": [
       "array([[1, 2, 0],\n",
       "       [0, 0, 3],\n",
       "       [4, 0, 5]])"
      ]
     },
     "execution_count": 6,
     "metadata": {},
     "output_type": "execute_result"
    }
   ],
   "source": [
    "csr_matrix([[1, 2, 0], [0, 0, 3], [4, 0, 5]]).toarray()"
   ]
  },
  {
   "cell_type": "code",
   "execution_count": 7,
   "id": "4a5d0ecc-df23-4e6c-b344-0a9f72cf4da0",
   "metadata": {},
   "outputs": [
    {
     "data": {
      "text/plain": [
       "array([ 1,  0, -1])"
      ]
     },
     "execution_count": 7,
     "metadata": {},
     "output_type": "execute_result"
    }
   ],
   "source": [
    "np.array([1, 0, -1])"
   ]
  },
  {
   "cell_type": "code",
   "execution_count": 8,
   "id": "e29133e0-cc95-441c-9f24-1a23a3c68a76",
   "metadata": {},
   "outputs": [
    {
     "data": {
      "text/plain": [
       "array([ 1, -3, -1])"
      ]
     },
     "execution_count": 8,
     "metadata": {},
     "output_type": "execute_result"
    }
   ],
   "source": [
    "csr_matrix([[1, 2, 0], [0, 0, 3], [4, 0, 5]]).dot(np.array([1, 0, -1]))"
   ]
  },
  {
   "cell_type": "code",
   "execution_count": 9,
   "id": "460a1c16-320b-47a6-aa20-a70125722d83",
   "metadata": {},
   "outputs": [],
   "source": [
    "I = np.array([0,3,1,0])\n",
    "J = np.array([0,3,1,2])\n",
    "V = np.array([4,5,7,9])\n",
    "A = coo_matrix((V,(I,J)),shape=(4,4))"
   ]
  },
  {
   "cell_type": "code",
   "execution_count": 10,
   "id": "b0db2098-d55b-402e-8fdf-19d30032d251",
   "metadata": {},
   "outputs": [
    {
     "data": {
      "text/plain": [
       "array([[4, 0, 9, 0],\n",
       "       [0, 7, 0, 0],\n",
       "       [0, 0, 0, 0],\n",
       "       [0, 0, 0, 5]])"
      ]
     },
     "execution_count": 10,
     "metadata": {},
     "output_type": "execute_result"
    }
   ],
   "source": [
    "A.toarray()"
   ]
  },
  {
   "cell_type": "code",
   "execution_count": 11,
   "id": "134644e0-ccca-4e93-a7b0-d5f11105196b",
   "metadata": {},
   "outputs": [
    {
     "data": {
      "text/plain": [
       "array([[1, 2, 0],\n",
       "       [0, 0, 3],\n",
       "       [4, 0, 5]])"
      ]
     },
     "execution_count": 11,
     "metadata": {},
     "output_type": "execute_result"
    }
   ],
   "source": [
    "A = csr_matrix([[1, 2, 0], [0, 0, 3], [4, 0, 5]])\n",
    "A.toarray()"
   ]
  },
  {
   "cell_type": "code",
   "execution_count": 12,
   "id": "1f5b0439-cc35-4c82-a0fa-6c0dfce6c504",
   "metadata": {},
   "outputs": [
    {
     "data": {
      "text/plain": [
       "array([ 1,  0, -1])"
      ]
     },
     "execution_count": 12,
     "metadata": {},
     "output_type": "execute_result"
    }
   ],
   "source": [
    "v = np.array([1, 0, -1])\n",
    "v"
   ]
  },
  {
   "cell_type": "code",
   "execution_count": 13,
   "id": "fd9cdbed-7e43-4ee9-823c-b1405d54904e",
   "metadata": {},
   "outputs": [
    {
     "data": {
      "text/plain": [
       "array([ 1, -3, -1])"
      ]
     },
     "execution_count": 13,
     "metadata": {},
     "output_type": "execute_result"
    }
   ],
   "source": [
    "A.dot(v)"
   ]
  },
  {
   "cell_type": "code",
   "execution_count": 14,
   "id": "0f2f6a65-306b-4555-908d-4d4b41c75c5b",
   "metadata": {},
   "outputs": [
    {
     "data": {
      "text/plain": [
       "\u001b[0;31mInit signature:\u001b[0m \u001b[0mcsr_matrix\u001b[0m\u001b[0;34m(\u001b[0m\u001b[0marg1\u001b[0m\u001b[0;34m,\u001b[0m \u001b[0mshape\u001b[0m\u001b[0;34m=\u001b[0m\u001b[0;32mNone\u001b[0m\u001b[0;34m,\u001b[0m \u001b[0mdtype\u001b[0m\u001b[0;34m=\u001b[0m\u001b[0;32mNone\u001b[0m\u001b[0;34m,\u001b[0m \u001b[0mcopy\u001b[0m\u001b[0;34m=\u001b[0m\u001b[0;32mFalse\u001b[0m\u001b[0;34m)\u001b[0m\u001b[0;34m\u001b[0m\u001b[0;34m\u001b[0m\u001b[0m\n",
       "\u001b[0;31mDocstring:\u001b[0m     \n",
       "Compressed Sparse Row matrix\n",
       "\n",
       "This can be instantiated in several ways:\n",
       "    csr_matrix(D)\n",
       "        with a dense matrix or rank-2 ndarray D\n",
       "\n",
       "    csr_matrix(S)\n",
       "        with another sparse matrix S (equivalent to S.tocsr())\n",
       "\n",
       "    csr_matrix((M, N), [dtype])\n",
       "        to construct an empty matrix with shape (M, N)\n",
       "        dtype is optional, defaulting to dtype='d'.\n",
       "\n",
       "    csr_matrix((data, (row_ind, col_ind)), [shape=(M, N)])\n",
       "        where ``data``, ``row_ind`` and ``col_ind`` satisfy the\n",
       "        relationship ``a[row_ind[k], col_ind[k]] = data[k]``.\n",
       "\n",
       "    csr_matrix((data, indices, indptr), [shape=(M, N)])\n",
       "        is the standard CSR representation where the column indices for\n",
       "        row i are stored in ``indices[indptr[i]:indptr[i+1]]`` and their\n",
       "        corresponding values are stored in ``data[indptr[i]:indptr[i+1]]``.\n",
       "        If the shape parameter is not supplied, the matrix dimensions\n",
       "        are inferred from the index arrays.\n",
       "\n",
       "Attributes\n",
       "----------\n",
       "dtype : dtype\n",
       "    Data type of the matrix\n",
       "shape : 2-tuple\n",
       "    Shape of the matrix\n",
       "ndim : int\n",
       "    Number of dimensions (this is always 2)\n",
       "nnz\n",
       "    Number of stored values, including explicit zeros\n",
       "data\n",
       "    CSR format data array of the matrix\n",
       "indices\n",
       "    CSR format index array of the matrix\n",
       "indptr\n",
       "    CSR format index pointer array of the matrix\n",
       "has_sorted_indices\n",
       "    Whether indices are sorted\n",
       "\n",
       "Notes\n",
       "-----\n",
       "\n",
       "Sparse matrices can be used in arithmetic operations: they support\n",
       "addition, subtraction, multiplication, division, and matrix power.\n",
       "\n",
       "Advantages of the CSR format\n",
       "  - efficient arithmetic operations CSR + CSR, CSR * CSR, etc.\n",
       "  - efficient row slicing\n",
       "  - fast matrix vector products\n",
       "\n",
       "Disadvantages of the CSR format\n",
       "  - slow column slicing operations (consider CSC)\n",
       "  - changes to the sparsity structure are expensive (consider LIL or DOK)\n",
       "\n",
       "Examples\n",
       "--------\n",
       "\n",
       ">>> import numpy as np\n",
       ">>> from scipy.sparse import csr_matrix\n",
       ">>> csr_matrix((3, 4), dtype=np.int8).toarray()\n",
       "array([[0, 0, 0, 0],\n",
       "       [0, 0, 0, 0],\n",
       "       [0, 0, 0, 0]], dtype=int8)\n",
       "\n",
       ">>> row = np.array([0, 0, 1, 2, 2, 2])\n",
       ">>> col = np.array([0, 2, 2, 0, 1, 2])\n",
       ">>> data = np.array([1, 2, 3, 4, 5, 6])\n",
       ">>> csr_matrix((data, (row, col)), shape=(3, 3)).toarray()\n",
       "array([[1, 0, 2],\n",
       "       [0, 0, 3],\n",
       "       [4, 5, 6]])\n",
       "\n",
       ">>> indptr = np.array([0, 2, 3, 6])\n",
       ">>> indices = np.array([0, 2, 2, 0, 1, 2])\n",
       ">>> data = np.array([1, 2, 3, 4, 5, 6])\n",
       ">>> csr_matrix((data, indices, indptr), shape=(3, 3)).toarray()\n",
       "array([[1, 0, 2],\n",
       "       [0, 0, 3],\n",
       "       [4, 5, 6]])\n",
       "\n",
       "Duplicate entries are summed together:\n",
       "\n",
       ">>> row = np.array([0, 1, 2, 0])\n",
       ">>> col = np.array([0, 1, 1, 0])\n",
       ">>> data = np.array([1, 2, 4, 8])\n",
       ">>> csr_matrix((data, (row, col)), shape=(3, 3)).toarray()\n",
       "array([[9, 0, 0],\n",
       "       [0, 2, 0],\n",
       "       [0, 4, 0]])\n",
       "\n",
       "As an example of how to construct a CSR matrix incrementally,\n",
       "the following snippet builds a term-document matrix from texts:\n",
       "\n",
       ">>> docs = [[\"hello\", \"world\", \"hello\"], [\"goodbye\", \"cruel\", \"world\"]]\n",
       ">>> indptr = [0]\n",
       ">>> indices = []\n",
       ">>> data = []\n",
       ">>> vocabulary = {}\n",
       ">>> for d in docs:\n",
       "...     for term in d:\n",
       "...         index = vocabulary.setdefault(term, len(vocabulary))\n",
       "...         indices.append(index)\n",
       "...         data.append(1)\n",
       "...     indptr.append(len(indices))\n",
       "...\n",
       ">>> csr_matrix((data, indices, indptr), dtype=int).toarray()\n",
       "array([[2, 1, 0, 0],\n",
       "       [0, 1, 1, 1]])\n",
       "\u001b[0;31mFile:\u001b[0m           ~/anaconda3/envs/temp_csy/lib/python3.8/site-packages/scipy/sparse/_csr.py\n",
       "\u001b[0;31mType:\u001b[0m           type\n",
       "\u001b[0;31mSubclasses:\u001b[0m     csr_array\n"
      ]
     },
     "metadata": {},
     "output_type": "display_data"
    }
   ],
   "source": [
    "csr_matrix?"
   ]
  },
  {
   "cell_type": "code",
   "execution_count": 15,
   "id": "01481088-e30c-4be2-97fe-37da8d29efee",
   "metadata": {},
   "outputs": [
    {
     "data": {
      "text/plain": [
       "<3x3 sparse matrix of type '<class 'numpy.int64'>'\n",
       "\twith 5 stored elements in Compressed Sparse Row format>"
      ]
     },
     "execution_count": 15,
     "metadata": {},
     "output_type": "execute_result"
    }
   ],
   "source": [
    "csr_matrix(np.array([[1, 2, 0], [0, 0, 3], [4, 0, 5]]))"
   ]
  },
  {
   "cell_type": "code",
   "execution_count": 16,
   "id": "959c69bb-c8ff-4e07-8981-f03835c0a4a5",
   "metadata": {},
   "outputs": [
    {
     "data": {
      "text/plain": [
       "array([[1, 2, 0],\n",
       "       [0, 0, 3],\n",
       "       [4, 0, 5]])"
      ]
     },
     "execution_count": 16,
     "metadata": {},
     "output_type": "execute_result"
    }
   ],
   "source": [
    "csr_matrix(np.array([[1, 2, 0], [0, 0, 3], [4, 0, 5]])).toarray()"
   ]
  },
  {
   "cell_type": "code",
   "execution_count": 17,
   "id": "ba56a9a1-4290-4cda-98c0-d0b8549c2308",
   "metadata": {},
   "outputs": [
    {
     "name": "stdout",
     "output_type": "stream",
     "text": [
      "  (0, 0)\t1\n",
      "  (0, 1)\t2\n",
      "  (1, 2)\t3\n",
      "  (2, 0)\t4\n",
      "  (2, 2)\t5\n"
     ]
    }
   ],
   "source": [
    "print(csr_matrix(np.array([[1, 2, 0], [0, 0, 3], [4, 0, 5]])))"
   ]
  },
  {
   "cell_type": "code",
   "execution_count": null,
   "id": "29735488-db9b-4824-a54c-42498bfa38d8",
   "metadata": {},
   "outputs": [],
   "source": []
  },
  {
   "cell_type": "markdown",
   "id": "a1f07169-7bec-4b92-ab01-4ae3bc3da2d3",
   "metadata": {},
   "source": [
    "---"
   ]
  },
  {
   "cell_type": "markdown",
   "id": "0c7abfea-e0c5-4d76-9a34-f8bbf1a8435c",
   "metadata": {},
   "source": [
    "## Wikimath"
   ]
  },
  {
   "cell_type": "code",
   "execution_count": 25,
   "id": "f34d503c-6ee0-4964-98a5-97614a1c7fe2",
   "metadata": {},
   "outputs": [],
   "source": [
    "from torch_geometric_temporal.dataset import WikiMathsDatasetLoader\n",
    "loader3 = WikiMathsDatasetLoader()"
   ]
  },
  {
   "cell_type": "code",
   "execution_count": 26,
   "id": "0a0cf723-08ef-4e23-9b8f-2f7134349caf",
   "metadata": {},
   "outputs": [],
   "source": [
    "a = loader3.get_dataset(lags=8)"
   ]
  },
  {
   "cell_type": "markdown",
   "id": "b22a9e62-8719-4341-92f3-6fc854f61f5e",
   "metadata": {},
   "source": [
    "time,number of nodes "
   ]
  },
  {
   "cell_type": "code",
   "execution_count": 27,
   "id": "ef863ab7-0f11-42a3-91da-3a746729ce27",
   "metadata": {},
   "outputs": [],
   "source": [
    "T,N,_ = np.array(a.features).shape"
   ]
  },
  {
   "cell_type": "markdown",
   "id": "7cc013f1-a97a-46ec-837a-dbe90d01c06b",
   "metadata": {},
   "source": [
    "`-` wt,ws,f"
   ]
  },
  {
   "cell_type": "code",
   "execution_count": 28,
   "id": "65305827-e891-49c2-9e3a-5186fcf58843",
   "metadata": {},
   "outputs": [],
   "source": [
    "wt = csr_matrix(np.zeros((T,T))).toarray()\n",
    "for i in range(T):\n",
    "    for j in range(T):\n",
    "        if i==j :\n",
    "            wt[i,j] = 0\n",
    "        elif np.abs(i-j) <= 1 : \n",
    "            wt[i,j] = 1"
   ]
  },
  {
   "cell_type": "code",
   "execution_count": 29,
   "id": "c72323a3-f48f-4ec1-860c-7482d093df2f",
   "metadata": {},
   "outputs": [],
   "source": [
    "mtr = a.edge_index\n",
    "mtr2 = a.edge_weight"
   ]
  },
  {
   "cell_type": "code",
   "execution_count": 30,
   "id": "2b287250-671e-4d67-8380-e97b44f4323f",
   "metadata": {},
   "outputs": [
    {
     "data": {
      "text/plain": [
       "array([[   0,    0,    0, ..., 1056, 1063, 1065],\n",
       "       [   1,    2,    3, ..., 1059, 1064, 1066]])"
      ]
     },
     "execution_count": 30,
     "metadata": {},
     "output_type": "execute_result"
    }
   ],
   "source": [
    "mtr"
   ]
  },
  {
   "cell_type": "code",
   "execution_count": 31,
   "id": "0f4d31fb-c4d7-4094-a538-25cb623a241a",
   "metadata": {},
   "outputs": [
    {
     "data": {
      "text/plain": [
       "array([1, 4, 2, ..., 1, 1, 2])"
      ]
     },
     "execution_count": 31,
     "metadata": {},
     "output_type": "execute_result"
    }
   ],
   "source": [
    "mtr2"
   ]
  },
  {
   "cell_type": "code",
   "execution_count": 32,
   "id": "ee0dfca6-8c79-4ca2-b5d1-51c868db95db",
   "metadata": {},
   "outputs": [
    {
     "data": {
      "text/plain": [
       "(2, 27079)"
      ]
     },
     "execution_count": 32,
     "metadata": {},
     "output_type": "execute_result"
    }
   ],
   "source": [
    "np.array(mtr).shape"
   ]
  },
  {
   "cell_type": "code",
   "execution_count": 33,
   "id": "9913957a-edbf-4cd6-87f5-fdd4fd1ea014",
   "metadata": {},
   "outputs": [
    {
     "data": {
      "text/plain": [
       "(27079,)"
      ]
     },
     "execution_count": 33,
     "metadata": {},
     "output_type": "execute_result"
    }
   ],
   "source": [
    "np.array(mtr2).shape"
   ]
  },
  {
   "cell_type": "code",
   "execution_count": 34,
   "id": "4a74e81a-faa8-4aa0-9243-6c01eda49146",
   "metadata": {},
   "outputs": [
    {
     "data": {
      "text/plain": [
       "array([ 1,  4,  2,  5,  3,  6,  7,  9,  8, 12, 10, 13, 16, 11])"
      ]
     },
     "execution_count": 34,
     "metadata": {},
     "output_type": "execute_result"
    }
   ],
   "source": [
    "pd.DataFrame(mtr2).iloc[:,0].unique()"
   ]
  },
  {
   "cell_type": "code",
   "execution_count": 47,
   "id": "53ecbae9-b5c3-4d4f-9272-512c68c9d6e0",
   "metadata": {},
   "outputs": [
    {
     "ename": "TypeError",
     "evalue": "Cannot interpret '1068' as a data type",
     "output_type": "error",
     "traceback": [
      "\u001b[0;31m---------------------------------------------------------------------------\u001b[0m",
      "\u001b[0;31mTypeError\u001b[0m                                 Traceback (most recent call last)",
      "Input \u001b[0;32mIn [47]\u001b[0m, in \u001b[0;36m<cell line: 1>\u001b[0;34m()\u001b[0m\n\u001b[0;32m----> 1\u001b[0m ws \u001b[38;5;241m=\u001b[39m \u001b[43mnp\u001b[49m\u001b[38;5;241;43m.\u001b[39;49m\u001b[43mzeros\u001b[49m\u001b[43m(\u001b[49m\u001b[43mN\u001b[49m\u001b[43m,\u001b[49m\u001b[43mN\u001b[49m\u001b[43m)\u001b[49m\n\u001b[1;32m      2\u001b[0m \u001b[38;5;28;01mfor\u001b[39;00m i \u001b[38;5;129;01min\u001b[39;00m \u001b[38;5;28mrange\u001b[39m(N):\n\u001b[1;32m      3\u001b[0m     \u001b[38;5;28;01mfor\u001b[39;00m j \u001b[38;5;129;01min\u001b[39;00m \u001b[38;5;28mrange\u001b[39m(mtr2\u001b[38;5;241m.\u001b[39mshape[\u001b[38;5;241m0\u001b[39m]):\n",
      "\u001b[0;31mTypeError\u001b[0m: Cannot interpret '1068' as a data type"
     ]
    }
   ],
   "source": [
    "ws = np.zeros(N,N)\n",
    "for i in range(N):\n",
    "    for j in range(mtr2.shape[0]):\n",
    "        if mtr[0][j] == i :\n",
    "            ws[i,mtr[1][j]] = mtr2[j]"
   ]
  },
  {
   "cell_type": "code",
   "execution_count": 36,
   "id": "37be652e-4de2-4d4b-a201-f0cc27624468",
   "metadata": {},
   "outputs": [
    {
     "data": {
      "text/plain": [
       "(1068, 1068)"
      ]
     },
     "execution_count": 36,
     "metadata": {},
     "output_type": "execute_result"
    }
   ],
   "source": [
    "np.array(ws).shape"
   ]
  },
  {
   "cell_type": "code",
   "execution_count": 37,
   "id": "af62dc96-885d-4e23-ae3b-77234216ba30",
   "metadata": {},
   "outputs": [
    {
     "data": {
      "text/plain": [
       "(723, 1068, 8)"
      ]
     },
     "execution_count": 37,
     "metadata": {},
     "output_type": "execute_result"
    }
   ],
   "source": [
    "np.array(a.features).shape"
   ]
  },
  {
   "cell_type": "code",
   "execution_count": 38,
   "id": "b08cd1c0-d712-45b7-ac8c-5bf772c5cff0",
   "metadata": {},
   "outputs": [],
   "source": [
    "f = np.array(a.targets).reshape(T,N)"
   ]
  },
  {
   "cell_type": "markdown",
   "id": "8d5609de-6f40-403f-bda4-959c877c3b90",
   "metadata": {},
   "source": [
    "`-` f를 펼침 "
   ]
  },
  {
   "cell_type": "code",
   "execution_count": 39,
   "id": "2aa26aca-90ea-44d8-813d-d9ee8f3337cd",
   "metadata": {},
   "outputs": [],
   "source": [
    "f_flatten = f.reshape(-1,1)\n",
    "# f_flatten"
   ]
  },
  {
   "cell_type": "markdown",
   "id": "e2335884-eb8e-44bf-8da0-30ba6b701e52",
   "metadata": {},
   "source": [
    "`-` 펼쳐진 f에 대응하는 W 생성 "
   ]
  },
  {
   "cell_type": "code",
   "execution_count": 40,
   "id": "0d24781b-3a57-4ecf-a7b9-2eacb9bca7a9",
   "metadata": {},
   "outputs": [],
   "source": [
    "def flatten_weight(ws,wt):\n",
    "  N = len(ws)\n",
    "  T = len(wt)\n",
    "  Is = np.eye(N,N)\n",
    "  lst = csr_matrix([[0]*T for t in range(T)]).toarray()\n",
    "  for i in range(T):\n",
    "    for j in range(T):\n",
    "      if i==j: \n",
    "        lst[i][j] = ws \n",
    "      elif abs(i-j)==1:\n",
    "        lst[i][j] = Is\n",
    "      else:\n",
    "        lst[i][j] = Is*0\n",
    "  return csr_matrix(np.concatenate([np.concatenate(l,axis=1) for l in lst],axis=0))"
   ]
  },
  {
   "cell_type": "code",
   "execution_count": 43,
   "id": "fe0ab671-f900-482f-9b10-69a6fbe7ff08",
   "metadata": {},
   "outputs": [
    {
     "data": {
      "text/plain": [
       "\u001b[0;31mType:\u001b[0m        ndarray\n",
       "\u001b[0;31mString form:\u001b[0m\n",
       "[[0. 1. 4. ... 0. 0. 0.]\n",
       " [0. 0. 4. ... 0. 0. 0.]\n",
       " [0. 0. 0. ... 0. 0. 0.]\n",
       " ...\n",
       " [0. 0. 0. ... 0. 2. 0.]\n",
       " [0. 0. 0. ... 0. 0. 0.]\n",
       " [0. 0. 0. ... 0. 0. 0.]]\n",
       "\u001b[0;31mLength:\u001b[0m      1068\n",
       "\u001b[0;31mFile:\u001b[0m        ~/anaconda3/envs/temp_csy/lib/python3.8/site-packages/numpy/__init__.py\n",
       "\u001b[0;31mDocstring:\u001b[0m  \n",
       "ndarray(shape, dtype=float, buffer=None, offset=0,\n",
       "        strides=None, order=None)\n",
       "\n",
       "An array object represents a multidimensional, homogeneous array\n",
       "of fixed-size items.  An associated data-type object describes the\n",
       "format of each element in the array (its byte-order, how many bytes it\n",
       "occupies in memory, whether it is an integer, a floating point number,\n",
       "or something else, etc.)\n",
       "\n",
       "Arrays should be constructed using `array`, `zeros` or `empty` (refer\n",
       "to the See Also section below).  The parameters given here refer to\n",
       "a low-level method (`ndarray(...)`) for instantiating an array.\n",
       "\n",
       "For more information, refer to the `numpy` module and examine the\n",
       "methods and attributes of an array.\n",
       "\n",
       "Parameters\n",
       "----------\n",
       "(for the __new__ method; see Notes below)\n",
       "\n",
       "shape : tuple of ints\n",
       "    Shape of created array.\n",
       "dtype : data-type, optional\n",
       "    Any object that can be interpreted as a numpy data type.\n",
       "buffer : object exposing buffer interface, optional\n",
       "    Used to fill the array with data.\n",
       "offset : int, optional\n",
       "    Offset of array data in buffer.\n",
       "strides : tuple of ints, optional\n",
       "    Strides of data in memory.\n",
       "order : {'C', 'F'}, optional\n",
       "    Row-major (C-style) or column-major (Fortran-style) order.\n",
       "\n",
       "Attributes\n",
       "----------\n",
       "T : ndarray\n",
       "    Transpose of the array.\n",
       "data : buffer\n",
       "    The array's elements, in memory.\n",
       "dtype : dtype object\n",
       "    Describes the format of the elements in the array.\n",
       "flags : dict\n",
       "    Dictionary containing information related to memory use, e.g.,\n",
       "    'C_CONTIGUOUS', 'OWNDATA', 'WRITEABLE', etc.\n",
       "flat : numpy.flatiter object\n",
       "    Flattened version of the array as an iterator.  The iterator\n",
       "    allows assignments, e.g., ``x.flat = 3`` (See `ndarray.flat` for\n",
       "    assignment examples; TODO).\n",
       "imag : ndarray\n",
       "    Imaginary part of the array.\n",
       "real : ndarray\n",
       "    Real part of the array.\n",
       "size : int\n",
       "    Number of elements in the array.\n",
       "itemsize : int\n",
       "    The memory use of each array element in bytes.\n",
       "nbytes : int\n",
       "    The total number of bytes required to store the array data,\n",
       "    i.e., ``itemsize * size``.\n",
       "ndim : int\n",
       "    The array's number of dimensions.\n",
       "shape : tuple of ints\n",
       "    Shape of the array.\n",
       "strides : tuple of ints\n",
       "    The step-size required to move from one element to the next in\n",
       "    memory. For example, a contiguous ``(3, 4)`` array of type\n",
       "    ``int16`` in C-order has strides ``(8, 2)``.  This implies that\n",
       "    to move from element to element in memory requires jumps of 2 bytes.\n",
       "    To move from row-to-row, one needs to jump 8 bytes at a time\n",
       "    (``2 * 4``).\n",
       "ctypes : ctypes object\n",
       "    Class containing properties of the array needed for interaction\n",
       "    with ctypes.\n",
       "base : ndarray\n",
       "    If the array is a view into another array, that array is its `base`\n",
       "    (unless that array is also a view).  The `base` array is where the\n",
       "    array data is actually stored.\n",
       "\n",
       "See Also\n",
       "--------\n",
       "array : Construct an array.\n",
       "zeros : Create an array, each element of which is zero.\n",
       "empty : Create an array, but leave its allocated memory unchanged (i.e.,\n",
       "        it contains \"garbage\").\n",
       "dtype : Create a data-type.\n",
       "numpy.typing.NDArray : An ndarray alias :term:`generic <generic type>`\n",
       "                       w.r.t. its `dtype.type <numpy.dtype.type>`.\n",
       "\n",
       "Notes\n",
       "-----\n",
       "There are two modes of creating an array using ``__new__``:\n",
       "\n",
       "1. If `buffer` is None, then only `shape`, `dtype`, and `order`\n",
       "   are used.\n",
       "2. If `buffer` is an object exposing the buffer interface, then\n",
       "   all keywords are interpreted.\n",
       "\n",
       "No ``__init__`` method is needed because the array is fully initialized\n",
       "after the ``__new__`` method.\n",
       "\n",
       "Examples\n",
       "--------\n",
       "These examples illustrate the low-level `ndarray` constructor.  Refer\n",
       "to the `See Also` section above for easier ways of constructing an\n",
       "ndarray.\n",
       "\n",
       "First mode, `buffer` is None:\n",
       "\n",
       ">>> np.ndarray(shape=(2,2), dtype=float, order='F')\n",
       "array([[0.0e+000, 0.0e+000], # random\n",
       "       [     nan, 2.5e-323]])\n",
       "\n",
       "Second mode:\n",
       "\n",
       ">>> np.ndarray((2,), buffer=np.array([1,2,3]),\n",
       "...            offset=np.int_().itemsize,\n",
       "...            dtype=int) # offset = 1*itemsize, i.e. skip first element\n",
       "array([2, 3])\n"
      ]
     },
     "metadata": {},
     "output_type": "display_data"
    }
   ],
   "source": [
    "ws?"
   ]
  },
  {
   "cell_type": "code",
   "execution_count": null,
   "id": "a6da6c95-f81a-4f5e-8360-75fd8f5bf716",
   "metadata": {},
   "outputs": [],
   "source": [
    "W_flatten = flatten_weight(ws,wt)\n",
    "W_flatten"
   ]
  },
  {
   "cell_type": "code",
   "execution_count": 22,
   "id": "2de19ef4-8ad4-4116-ae38-8745ea78a01b",
   "metadata": {},
   "outputs": [
    {
     "data": {
      "text/plain": [
       "(5, 5)"
      ]
     },
     "execution_count": 22,
     "metadata": {},
     "output_type": "execute_result"
    }
   ],
   "source": [
    "np.array([[0]*5 for t in range(5)]).shape"
   ]
  },
  {
   "cell_type": "markdown",
   "id": "96eab1cd-089a-424d-8526-761ddf4185fe",
   "metadata": {},
   "source": [
    "`-` trim\n",
    "\n",
    "```Python\n",
    "ftrimed_flatten = trim(f_flatten,W_flatten)\n",
    "```"
   ]
  },
  {
   "cell_type": "code",
   "execution_count": null,
   "id": "16e1476c-8f99-4e12-aa55-a424b661e1c6",
   "metadata": {},
   "outputs": [],
   "source": [
    "# np.save('./weight_st/W_wikimath.npy', W_flatten)"
   ]
  },
  {
   "cell_type": "code",
   "execution_count": null,
   "id": "fcc3f83e-9d85-4968-bcdb-037ca6a83098",
   "metadata": {},
   "outputs": [],
   "source": [
    "# np.load('./weight_st/W_wikimath.npy')"
   ]
  },
  {
   "cell_type": "code",
   "execution_count": null,
   "id": "71a4ea42-e035-41e5-9bf4-014fe8735ae4",
   "metadata": {},
   "outputs": [],
   "source": []
  },
  {
   "cell_type": "code",
   "execution_count": null,
   "id": "31dbe866-8686-4bd6-a057-4ac1598c41f9",
   "metadata": {},
   "outputs": [],
   "source": []
  },
  {
   "cell_type": "code",
   "execution_count": null,
   "id": "14969a96-9b26-44fe-b907-2754e991e4f2",
   "metadata": {},
   "outputs": [],
   "source": []
  },
  {
   "cell_type": "markdown",
   "id": "2c7a3eec-3266-4a18-ae3d-63db1a65b505",
   "metadata": {},
   "source": [
    "## Chickenpox"
   ]
  },
  {
   "cell_type": "code",
   "execution_count": 18,
   "id": "d5dc78fb-7c5b-42a2-931e-4ac63cf42499",
   "metadata": {},
   "outputs": [],
   "source": [
    "from torch_geometric_temporal.dataset import ChickenpoxDatasetLoader\n",
    "loader1 = ChickenpoxDatasetLoader()"
   ]
  },
  {
   "cell_type": "code",
   "execution_count": 19,
   "id": "543d9cda-6d30-41f1-a926-80ba9cbfcd22",
   "metadata": {},
   "outputs": [],
   "source": [
    "a = loader1.get_dataset(lags=1)"
   ]
  },
  {
   "cell_type": "markdown",
   "id": "5cc03748-a1aa-4cca-bc65-c84b00fffb39",
   "metadata": {},
   "source": [
    "time,number of nodes "
   ]
  },
  {
   "cell_type": "code",
   "execution_count": 20,
   "id": "133f61da-7cf9-4287-ac25-6ae1f467b3ea",
   "metadata": {},
   "outputs": [],
   "source": [
    "T,N,_ = np.array(a.features).shape"
   ]
  },
  {
   "cell_type": "markdown",
   "id": "b9b270a9-8a38-4b3d-9332-4331ff00bb5a",
   "metadata": {},
   "source": [
    "`-` wt,ws,f"
   ]
  },
  {
   "cell_type": "code",
   "execution_count": 21,
   "id": "094c7ac3-0aca-4784-95ca-5ad8a8252e48",
   "metadata": {},
   "outputs": [],
   "source": [
    "wt = np.zeros((T,T))\n",
    "for i in range(T):\n",
    "    for j in range(T):\n",
    "        if i==j :\n",
    "            wt[i,j] = 0\n",
    "        elif np.abs(i-j) <= 1 : \n",
    "            wt[i,j] = 1"
   ]
  },
  {
   "cell_type": "code",
   "execution_count": 22,
   "id": "c827f9d6-56a7-43e3-a913-bc6e0f6ff043",
   "metadata": {},
   "outputs": [],
   "source": [
    "mtr = a.edge_index\n",
    "mtr2 = a.edge_weight"
   ]
  },
  {
   "cell_type": "code",
   "execution_count": 23,
   "id": "42726ce1-fada-476b-bd89-43c4bbfb3a93",
   "metadata": {},
   "outputs": [],
   "source": [
    "ws = np.zeros((N,N))\n",
    "for i in range(N):\n",
    "    for j in range(mtr2.shape[0]):\n",
    "        if mtr[0][j] == i :\n",
    "            ws[i,mtr[1][j]] = mtr2[j]"
   ]
  },
  {
   "cell_type": "code",
   "execution_count": 24,
   "id": "3b573301-d89c-4afd-9670-dceaad3bc0ab",
   "metadata": {},
   "outputs": [
    {
     "data": {
      "text/plain": [
       "(20, 20)"
      ]
     },
     "execution_count": 24,
     "metadata": {},
     "output_type": "execute_result"
    }
   ],
   "source": [
    "np.array(ws).shape"
   ]
  },
  {
   "cell_type": "code",
   "execution_count": 25,
   "id": "5c0043ea-2ab6-4df4-bd74-9667efd51794",
   "metadata": {},
   "outputs": [],
   "source": [
    "f = np.array(a.features).reshape(T,N)"
   ]
  },
  {
   "cell_type": "markdown",
   "id": "b160d10a-5d62-4045-a74d-66bb95be65cf",
   "metadata": {},
   "source": [
    "`-` f를 펼침 "
   ]
  },
  {
   "cell_type": "code",
   "execution_count": 26,
   "id": "60a00fbf-4014-4024-aa72-52a2384ee58a",
   "metadata": {},
   "outputs": [
    {
     "data": {
      "text/plain": [
       "array([[-1.08135724e-03],\n",
       "       [-7.11136085e-01],\n",
       "       [-3.22808515e+00],\n",
       "       ...,\n",
       "       [ 4.71099041e-02],\n",
       "       [ 2.45684924e+00],\n",
       "       [-3.44296107e-01]])"
      ]
     },
     "execution_count": 26,
     "metadata": {},
     "output_type": "execute_result"
    }
   ],
   "source": [
    "f_flatten = f.reshape(-1,1)\n",
    "f_flatten"
   ]
  },
  {
   "cell_type": "markdown",
   "id": "f3e97950-aee7-49a2-a1c1-72dedec84474",
   "metadata": {},
   "source": [
    "`-` 펼쳐진 f에 대응하는 W 생성 "
   ]
  },
  {
   "cell_type": "code",
   "execution_count": 27,
   "id": "ba6e2600-8bfa-4ed8-956a-85b0332b6b4e",
   "metadata": {},
   "outputs": [],
   "source": [
    "def flatten_weight(ws,wt):\n",
    "  N = len(ws)\n",
    "  T = len(wt)\n",
    "  Is = np.eye(N,N)\n",
    "  lst = [[0]*T for t in range(T)]\n",
    "  for i in range(T):\n",
    "    for j in range(T):\n",
    "      if i==j: \n",
    "        lst[i][j] = ws \n",
    "      elif abs(i-j)==1:\n",
    "        lst[i][j] = Is\n",
    "      else:\n",
    "        lst[i][j] = Is*0\n",
    "  return np.concatenate([np.concatenate(l,axis=1) for l in lst],axis=0)"
   ]
  },
  {
   "cell_type": "code",
   "execution_count": 29,
   "id": "8aeed990-7805-4af3-b9c7-8cbd849f0731",
   "metadata": {},
   "outputs": [
    {
     "data": {
      "text/plain": [
       "array([[1., 1., 0., ..., 0., 0., 0.],\n",
       "       [1., 1., 0., ..., 0., 0., 0.],\n",
       "       [0., 0., 1., ..., 0., 0., 0.],\n",
       "       ...,\n",
       "       [0., 0., 0., ..., 1., 1., 1.],\n",
       "       [0., 0., 0., ..., 1., 1., 1.],\n",
       "       [0., 0., 0., ..., 1., 1., 1.]])"
      ]
     },
     "execution_count": 29,
     "metadata": {},
     "output_type": "execute_result"
    }
   ],
   "source": [
    "W_flatten = flatten_weight(ws,wt)\n",
    "W_flatten"
   ]
  },
  {
   "cell_type": "code",
   "execution_count": null,
   "id": "033b52a9-9971-4b49-ab50-6f5eec1354c6",
   "metadata": {},
   "outputs": [],
   "source": []
  }
 ],
 "metadata": {
  "kernelspec": {
   "display_name": "Python 3",
   "language": "python",
   "name": "python3"
  },
  "language_info": {
   "codemirror_mode": {
    "name": "ipython",
    "version": 3
   },
   "file_extension": ".py",
   "mimetype": "text/x-python",
   "name": "python",
   "nbconvert_exporter": "python",
   "pygments_lexer": "ipython3",
   "version": "3.8.0"
  }
 },
 "nbformat": 4,
 "nbformat_minor": 5
}

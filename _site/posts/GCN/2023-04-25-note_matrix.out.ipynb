{
  "cells": [
    {
      "cell_type": "markdown",
      "metadata": {},
      "source": [
        "# Note_weight amatrix\n",
        "\n",
        "GUEBIN CHOI  \n",
        "4/25/23\n",
        "\n",
        "> weight matrix"
      ],
      "id": "8499b587-8608-41a4-b01e-a7d4b84ff5c0"
    },
    {
      "cell_type": "code",
      "execution_count": 41,
      "metadata": {},
      "outputs": [],
      "source": [
        "import numpy as np"
      ],
      "id": "a91dddb2-363c-489d-9956-f78815302b2f"
    },
    {
      "cell_type": "markdown",
      "metadata": {},
      "source": [
        "`-` 하이퍼파라메터"
      ],
      "id": "72893d8a-da46-4a21-b594-0baa49da482b"
    },
    {
      "cell_type": "code",
      "execution_count": 2,
      "metadata": {},
      "outputs": [],
      "source": [
        "T = 5 # time\n",
        "N = 3 # number of nodes "
      ],
      "id": "340b1997-22cd-4be1-be2b-87c6e7cadee5"
    },
    {
      "cell_type": "markdown",
      "metadata": {},
      "source": [
        "`-` wt,ws,f"
      ],
      "id": "9cc1bdef-c68d-4f40-bcb5-05802d3aeceb"
    },
    {
      "cell_type": "code",
      "execution_count": 3,
      "metadata": {},
      "outputs": [],
      "source": [
        "wt = np.array([abs(i-j) < 2 for i in range(T) for j in range(T)]).reshape(T,T)*1.0 - np.eye(T)\n",
        "wt"
      ],
      "id": "268eaf52-2efe-4798-bf64-037508ad548d"
    },
    {
      "cell_type": "code",
      "execution_count": 4,
      "metadata": {},
      "outputs": [],
      "source": [
        "ws = np.array([[0,1,1],[1,0,0],[1,0,0]]) + np.eye(N)\n",
        "ws"
      ],
      "id": "4de2be91-a20e-4fd4-8db8-bac7c5a9bbae"
    },
    {
      "cell_type": "code",
      "execution_count": 5,
      "metadata": {},
      "outputs": [],
      "source": [
        "f = np.random.randn(T,N)\n",
        "f"
      ],
      "id": "9e83a6dc-a805-4e21-ac03-f411adcbc8f4"
    },
    {
      "cell_type": "markdown",
      "metadata": {},
      "source": [
        "`-` f를 펼침"
      ],
      "id": "d5e67932-bbb3-4142-bca7-5bab82d6c15f"
    },
    {
      "cell_type": "code",
      "execution_count": 6,
      "metadata": {},
      "outputs": [],
      "source": [
        "f_flatten = f.reshape(-1,1)\n",
        "f_flatten"
      ],
      "id": "f96f3069-f665-4058-95df-ac12cc8b9991"
    },
    {
      "cell_type": "markdown",
      "metadata": {},
      "source": [
        "`-` 펼쳐진 f에 대응하는 W 생성"
      ],
      "id": "0371c91c-7640-4239-8d08-b6dfcc0e5768"
    },
    {
      "cell_type": "code",
      "execution_count": 7,
      "metadata": {},
      "outputs": [],
      "source": [
        "def flatten_weight(ws,wt):\n",
        "  N = len(ws)\n",
        "  T = len(wt)\n",
        "  Is = np.eye(N,N)\n",
        "  lst = [[0]*T for t in range(T)]\n",
        "  for i in range(T):\n",
        "    for j in range(T):\n",
        "      if i==j: \n",
        "        lst[i][j] = ws \n",
        "      elif abs(i-j)==1:\n",
        "        lst[i][j] = Is\n",
        "      else:\n",
        "        lst[i][j] = Is*0\n",
        "  return np.concatenate([np.concatenate(l,axis=1) for l in lst],axis=0)"
      ],
      "id": "d4a69849-4abd-4a67-99c2-56de7106d18d"
    },
    {
      "cell_type": "code",
      "execution_count": 8,
      "metadata": {},
      "outputs": [],
      "source": [
        "W_flatten = flatten_weight(ws,wt)\n",
        "W_flatten"
      ],
      "id": "325e8adc-7d6c-4e82-9f69-f23561dff18c"
    },
    {
      "cell_type": "markdown",
      "metadata": {},
      "source": [
        "`-` trim\n",
        "\n",
        "``` python\n",
        "ftrimed_flatten = trim(f_flatten,W_flatten)\n",
        "```\n",
        "\n",
        "임의로 `ftrimed_flatten`이 `f_flatten`과 같다고 생각하자."
      ],
      "id": "27da90c3-c61e-4abe-8b27-128cfda66ea4"
    },
    {
      "cell_type": "code",
      "execution_count": 9,
      "metadata": {},
      "outputs": [],
      "source": [
        "ftrimed_flatten = f_flatten\n",
        "ftrimed_flatten"
      ],
      "id": "b9b0f649-0a15-4d20-9be2-31cd7a10d35d"
    },
    {
      "cell_type": "markdown",
      "metadata": {},
      "source": [
        "`-` ftrimed"
      ],
      "id": "200e9911-4067-4b6d-84b2-830914d84a01"
    },
    {
      "cell_type": "code",
      "execution_count": 10,
      "metadata": {},
      "outputs": [],
      "source": [
        "ftrimed = ftrimed_flatten.reshape(T,N) \n",
        "ftrimed"
      ],
      "id": "a5f67caf-8b8e-4329-b877-43a1b4899e8e"
    },
    {
      "cell_type": "code",
      "execution_count": 11,
      "metadata": {},
      "outputs": [],
      "source": [
        "f # 와 비교.. 잘 reconstructiond 되어씀 "
      ],
      "id": "28e8a0cc-657a-41c7-be16-2f9105502528"
    },
    {
      "cell_type": "markdown",
      "metadata": {},
      "source": [
        "------------------------------------------------------------------------\n",
        "\n",
        "## Chickenpox"
      ],
      "id": "1d28ed99-8a40-4001-b352-17a50f332300"
    },
    {
      "cell_type": "code",
      "execution_count": 12,
      "metadata": {},
      "outputs": [],
      "source": [
        "from torch_geometric_temporal.dataset import ChickenpoxDatasetLoader\n",
        "loader1 = ChickenpoxDatasetLoader()"
      ],
      "id": "5e4ea42b-5d6e-443b-af24-6dc805790498"
    },
    {
      "cell_type": "code",
      "execution_count": 13,
      "metadata": {},
      "outputs": [],
      "source": [
        "a = loader1.get_dataset(lags=1)"
      ],
      "id": "afa382f0-509d-49ca-bb2a-414dd60a37fe"
    },
    {
      "cell_type": "markdown",
      "metadata": {},
      "source": [
        "time,number of nodes"
      ],
      "id": "751fa3b4-5312-40e9-b0bd-a3c8c78658c5"
    },
    {
      "cell_type": "code",
      "execution_count": 14,
      "metadata": {},
      "outputs": [],
      "source": [
        "T,N,_ = np.array(a.features).shape"
      ],
      "id": "8ea79f98-967e-4b71-b07e-f3ff3fa3c572"
    },
    {
      "cell_type": "markdown",
      "metadata": {},
      "source": [
        "`-` wt,ws,f"
      ],
      "id": "8aa12219-5d1d-472e-aebf-1d50bca8dd3a"
    },
    {
      "cell_type": "code",
      "execution_count": 15,
      "metadata": {},
      "outputs": [],
      "source": [
        "wt = np.zeros((T,T))\n",
        "for i in range(T):\n",
        "    for j in range(T):\n",
        "        if i==j :\n",
        "            wt[i,j] = 0\n",
        "        elif np.abs(i-j) <= 1 : \n",
        "            wt[i,j] = 1"
      ],
      "id": "f925af32-10c5-4c3e-9939-f29a8b7ce8ef"
    },
    {
      "cell_type": "code",
      "execution_count": 16,
      "metadata": {},
      "outputs": [],
      "source": [
        "mtr = a.edge_index\n",
        "mtr2 = a.edge_weight"
      ],
      "id": "464bdc12-2aad-4c96-9578-612f80c77bd4"
    },
    {
      "cell_type": "code",
      "execution_count": 17,
      "metadata": {},
      "outputs": [],
      "source": [
        "ws = np.zeros((N,N))\n",
        "for i in range(N):\n",
        "    for j in range(mtr2.shape[0]):\n",
        "        if mtr[0][j] == i :\n",
        "            ws[i,mtr[1][j]] = mtr2[j]"
      ],
      "id": "4fd0e6a6-cea7-4199-9030-53d2b58b90df"
    },
    {
      "cell_type": "code",
      "execution_count": 18,
      "metadata": {},
      "outputs": [],
      "source": [
        "np.array(ws).shape"
      ],
      "id": "3dafd943-4abf-4fb8-82a7-2f1f3d5fbfc6"
    },
    {
      "cell_type": "code",
      "execution_count": 19,
      "metadata": {},
      "outputs": [],
      "source": [
        "f = np.array(a.features).reshape(T,N)"
      ],
      "id": "613c864d-6faa-49ac-ac18-0abff8181be2"
    },
    {
      "cell_type": "markdown",
      "metadata": {},
      "source": [
        "`-` f를 펼침"
      ],
      "id": "a63ef851-4b65-4241-b655-9281c6c18b26"
    },
    {
      "cell_type": "code",
      "execution_count": 20,
      "metadata": {},
      "outputs": [],
      "source": [
        "f_flatten = f.reshape(-1,1)\n",
        "f_flatten"
      ],
      "id": "961aebfa-f697-40c6-ab27-11241dee5d3f"
    },
    {
      "cell_type": "markdown",
      "metadata": {},
      "source": [
        "`-` 펼쳐진 f에 대응하는 W 생성"
      ],
      "id": "80650f5a-2651-4f18-9443-cc791ad74f5d"
    },
    {
      "cell_type": "code",
      "execution_count": 21,
      "metadata": {},
      "outputs": [],
      "source": [
        "def flatten_weight(ws,wt):\n",
        "  N = len(ws)\n",
        "  T = len(wt)\n",
        "  Is = np.eye(N,N)\n",
        "  lst = [[0]*T for t in range(T)]\n",
        "  for i in range(T):\n",
        "    for j in range(T):\n",
        "      if i==j: \n",
        "        lst[i][j] = ws \n",
        "      elif abs(i-j)==1:\n",
        "        lst[i][j] = Is\n",
        "      else:\n",
        "        lst[i][j] = Is*0\n",
        "  return np.concatenate([np.concatenate(l,axis=1) for l in lst],axis=0)"
      ],
      "id": "3c153854-9800-4c42-9e2a-c982c6cc7933"
    },
    {
      "cell_type": "code",
      "execution_count": 22,
      "metadata": {},
      "outputs": [],
      "source": [
        "W_flatten = flatten_weight(ws,wt)\n",
        "W_flatten"
      ],
      "id": "b33aaaab-ab59-4afd-a33e-5cfac6e8b0c8"
    },
    {
      "cell_type": "code",
      "execution_count": 50,
      "metadata": {},
      "outputs": [],
      "source": [
        "np.save('./weight_st/W_chickenpox.npy', W_flatten)"
      ],
      "id": "9a9ef7e0-a0b6-4f6c-b36f-3a0395367c0b"
    },
    {
      "cell_type": "code",
      "execution_count": 51,
      "metadata": {},
      "outputs": [],
      "source": [
        "np.load('./weight_st/W_chickenpox.npy')"
      ],
      "id": "4e24256f-e0c2-44af-908e-dbce253c1035"
    },
    {
      "cell_type": "code",
      "execution_count": 23,
      "metadata": {},
      "outputs": [],
      "source": [
        "d = np.array(W_flatten.sum(axis=1))"
      ],
      "id": "0b381d7e-ac45-41a7-a0b7-c60db2849333"
    },
    {
      "cell_type": "code",
      "execution_count": 24,
      "metadata": {},
      "outputs": [],
      "source": [
        "D = np.diag(d)"
      ],
      "id": "1213d2a1-1081-415a-a9d2-a16f8673929e"
    },
    {
      "cell_type": "code",
      "execution_count": 25,
      "metadata": {},
      "outputs": [],
      "source": [
        "L = np.array(np.diag(1/np.sqrt(d)) @ (D-W_flatten) @ np.diag(1/np.sqrt(d)))"
      ],
      "id": "e95d3044-4062-4bd6-99c4-fd7577e47ab9"
    },
    {
      "cell_type": "code",
      "execution_count": 26,
      "metadata": {},
      "outputs": [],
      "source": [
        "lamb, Psi = np.linalg.eigh(L)"
      ],
      "id": "2ed9475d-4346-4bcd-bb54-c4eddfc8bb9f"
    },
    {
      "cell_type": "code",
      "execution_count": 29,
      "metadata": {},
      "outputs": [],
      "source": [
        "np.save('./weight_st/Psi_chickenpox.npy', Psi)"
      ],
      "id": "462c8606-8cd3-48e6-bb6c-9a009078b043"
    },
    {
      "cell_type": "code",
      "execution_count": 30,
      "metadata": {},
      "outputs": [],
      "source": [
        "np.load('./weight_st/Psi_chickenpox.npy')"
      ],
      "id": "4140f975-185a-40e4-a417-c74c7bfe1222"
    },
    {
      "cell_type": "markdown",
      "metadata": {},
      "source": [
        "`-` trim\n",
        "\n",
        "``` python\n",
        "ftrimed_flatten = trim(f_flatten,W_flatten)\n",
        "```\n",
        "\n",
        "------------------------------------------------------------------------\n",
        "\n",
        "## Pedalme"
      ],
      "id": "a43d87c0-b9de-4a01-87aa-451449efd27a"
    },
    {
      "cell_type": "code",
      "execution_count": 55,
      "metadata": {},
      "outputs": [],
      "source": [
        "from torch_geometric_temporal.dataset import PedalMeDatasetLoader\n",
        "loader2 = PedalMeDatasetLoader()"
      ],
      "id": "70aace2b-4d8b-4963-8213-853f14ec48bc"
    },
    {
      "cell_type": "code",
      "execution_count": 56,
      "metadata": {},
      "outputs": [],
      "source": [
        "a = loader2.get_dataset(lags=1)"
      ],
      "id": "cdf1853f-adcd-445c-ac13-d1f87e2d7ac6"
    },
    {
      "cell_type": "markdown",
      "metadata": {},
      "source": [
        "time,number of nodes"
      ],
      "id": "969b6986-a6ab-467d-8f63-a0e648d17850"
    },
    {
      "cell_type": "code",
      "execution_count": 57,
      "metadata": {},
      "outputs": [],
      "source": [
        "T,N,_ = np.array(a.features).shape"
      ],
      "id": "eeba554e-2027-424a-9d46-43ec454fb3d7"
    },
    {
      "cell_type": "markdown",
      "metadata": {},
      "source": [
        "`-` wt,ws,f"
      ],
      "id": "fbbfed42-463d-4c38-b55c-a521f1278b6d"
    },
    {
      "cell_type": "code",
      "execution_count": 58,
      "metadata": {},
      "outputs": [],
      "source": [
        "wt = np.zeros((T,T))\n",
        "for i in range(T):\n",
        "    for j in range(T):\n",
        "        if i==j :\n",
        "            wt[i,j] = 0\n",
        "        elif np.abs(i-j) <= 1 : \n",
        "            wt[i,j] = 1"
      ],
      "id": "d2ba0f09-abbf-402b-af05-20f8aee60d01"
    },
    {
      "cell_type": "code",
      "execution_count": 59,
      "metadata": {},
      "outputs": [],
      "source": [
        "mtr = a.edge_index\n",
        "mtr2 = a.edge_weight"
      ],
      "id": "8e6730d6-d4ab-4174-979a-78964698839d"
    },
    {
      "cell_type": "code",
      "execution_count": 60,
      "metadata": {},
      "outputs": [],
      "source": [
        "ws = np.zeros((N,N))\n",
        "for i in range(N):\n",
        "    for j in range(mtr2.shape[0]):\n",
        "        if mtr[0][j] == i :\n",
        "            ws[i,mtr[1][j]] = mtr2[j]"
      ],
      "id": "b961d536-102a-4ec9-b95c-b40275cda0eb"
    },
    {
      "cell_type": "code",
      "execution_count": 61,
      "metadata": {},
      "outputs": [],
      "source": [
        "np.array(wt).shape"
      ],
      "id": "97eacf69-9216-45bd-b4ee-102c8947aaae"
    },
    {
      "cell_type": "code",
      "execution_count": 62,
      "metadata": {},
      "outputs": [],
      "source": [
        "np.array(ws).shape"
      ],
      "id": "9d827e54-7898-4542-975d-84a79ee2eda9"
    },
    {
      "cell_type": "code",
      "execution_count": 63,
      "metadata": {},
      "outputs": [],
      "source": [
        "34*15"
      ],
      "id": "f7ac26ce-373d-403b-a8e5-b3c643bec335"
    },
    {
      "cell_type": "code",
      "execution_count": 64,
      "metadata": {},
      "outputs": [],
      "source": [
        "f = np.array(a.features).reshape(T,N)"
      ],
      "id": "2667de6c-2820-4038-85cb-c7219d04d9ea"
    },
    {
      "cell_type": "markdown",
      "metadata": {},
      "source": [
        "`-` f를 펼침"
      ],
      "id": "00c76f31-faa4-48cd-96e8-710eb1a70f21"
    },
    {
      "cell_type": "code",
      "execution_count": 65,
      "metadata": {},
      "outputs": [],
      "source": [
        "f_flatten = f.reshape(-1,1)\n",
        "# f_flatten"
      ],
      "id": "b3001b65-8ed5-472c-90f7-9f5e9488a8e0"
    },
    {
      "cell_type": "markdown",
      "metadata": {},
      "source": [
        "`-` 펼쳐진 f에 대응하는 W 생성"
      ],
      "id": "41d59db5-1090-48b8-bf16-3f0de848f48f"
    },
    {
      "cell_type": "code",
      "execution_count": 66,
      "metadata": {},
      "outputs": [],
      "source": [
        "def flatten_weight(ws,wt):\n",
        "  N = len(ws)\n",
        "  T = len(wt)\n",
        "  Is = np.eye(N,N)\n",
        "  lst = [[0]*T for t in range(T)]\n",
        "  for i in range(T):\n",
        "    for j in range(T):\n",
        "      if i==j: \n",
        "        lst[i][j] = ws \n",
        "      elif abs(i-j)==1:\n",
        "        lst[i][j] = Is\n",
        "      else:\n",
        "        lst[i][j] = Is*0\n",
        "  return np.concatenate([np.concatenate(l,axis=1) for l in lst],axis=0)"
      ],
      "id": "76be42af-7a7e-42df-b122-2e614ed8500a"
    },
    {
      "cell_type": "code",
      "execution_count": 67,
      "metadata": {},
      "outputs": [],
      "source": [
        "W_flatten = flatten_weight(ws,wt)\n",
        "W_flatten"
      ],
      "id": "860767a9-68b9-4e79-a4d1-bb50a263cce4"
    },
    {
      "cell_type": "markdown",
      "metadata": {},
      "source": [
        "`-` trim\n",
        "\n",
        "``` python\n",
        "ftrimed_flatten = trim(f_flatten,W_flatten)\n",
        "```"
      ],
      "id": "411eb212-c0ee-42fc-907d-fed101b4139d"
    },
    {
      "cell_type": "code",
      "execution_count": 68,
      "metadata": {},
      "outputs": [],
      "source": [
        "np.save('./weight_st/W_pedalme.npy', W_flatten)"
      ],
      "id": "6277f3d2-0496-430f-a16e-634c9487bdec"
    },
    {
      "cell_type": "code",
      "execution_count": 54,
      "metadata": {},
      "outputs": [],
      "source": [
        "np.load('./weight_st/W_pedalme.npy')"
      ],
      "id": "cf249e9c-52ce-4d55-90b7-77faacd0d173"
    },
    {
      "cell_type": "code",
      "execution_count": 68,
      "metadata": {},
      "outputs": [],
      "source": [
        "d = np.array(W_flatten.sum(axis=1))"
      ],
      "id": "283882e8-efff-4c04-a5a6-d60e76582fb6"
    },
    {
      "cell_type": "code",
      "execution_count": 69,
      "metadata": {},
      "outputs": [],
      "source": [
        "D = np.diag(d)"
      ],
      "id": "4387e9ef-241d-4689-a0fa-d50b0215405b"
    },
    {
      "cell_type": "code",
      "execution_count": 70,
      "metadata": {},
      "outputs": [],
      "source": [
        "L = np.array(np.diag(1/np.sqrt(d)) @ (D-W_flatten) @ np.diag(1/np.sqrt(d)))"
      ],
      "id": "6a0a1bb0-9031-48c8-aae5-7b3de455973e"
    },
    {
      "cell_type": "code",
      "execution_count": 71,
      "metadata": {},
      "outputs": [],
      "source": [
        "lamb, Psi = np.linalg.eigh(L)"
      ],
      "id": "e96787ce-2706-49ba-8a30-3c3a22cf9fb9"
    },
    {
      "cell_type": "code",
      "execution_count": 73,
      "metadata": {},
      "outputs": [],
      "source": [
        "Psi.T.shape"
      ],
      "id": "e694a721-c40e-4464-979c-1a9fe92538aa"
    },
    {
      "cell_type": "code",
      "execution_count": 74,
      "metadata": {},
      "outputs": [],
      "source": [
        "Psi.shape"
      ],
      "id": "339430ec-4361-4374-9ec3-6d4548371d56"
    },
    {
      "cell_type": "code",
      "execution_count": 47,
      "metadata": {},
      "outputs": [],
      "source": [
        "np.save('./weight_st/Psi_pedalme.npy', Psi)"
      ],
      "id": "1646d315-6b11-4147-aa9e-745748ba0898"
    },
    {
      "cell_type": "code",
      "execution_count": 48,
      "metadata": {},
      "outputs": [],
      "source": [
        "np.load('./weight_st/Psi_pedalme.npy')"
      ],
      "id": "70edebc8-367b-49da-8ad7-0a96c4903c4e"
    },
    {
      "cell_type": "markdown",
      "metadata": {},
      "source": [
        "------------------------------------------------------------------------\n",
        "\n",
        "## Wikimath"
      ],
      "id": "c66c87d6-9d06-420d-aac7-57864849b83a"
    },
    {
      "cell_type": "code",
      "execution_count": 4,
      "metadata": {},
      "outputs": [],
      "source": [
        "from torch_geometric_temporal.dataset import WikiMathsDatasetLoader\n",
        "loader3 = WikiMathsDatasetLoader()"
      ],
      "id": "70606aff-59da-42e1-8a32-441364629650"
    },
    {
      "cell_type": "code",
      "execution_count": 5,
      "metadata": {},
      "outputs": [],
      "source": [
        "a = loader3.get_dataset(lags=1)"
      ],
      "id": "57d72b4c-26a7-4fda-be72-1fa13f32c997"
    },
    {
      "cell_type": "markdown",
      "metadata": {},
      "source": [
        "time,number of nodes"
      ],
      "id": "2d498648-59a2-4895-ae14-2d27900bab9e"
    },
    {
      "cell_type": "code",
      "execution_count": 6,
      "metadata": {},
      "outputs": [],
      "source": [
        "T,N,_ = np.array(a.features).shape"
      ],
      "id": "86d491f5-7cb4-4bbb-85a8-074dcd35282b"
    },
    {
      "cell_type": "markdown",
      "metadata": {},
      "source": [
        "`-` wt,ws,f"
      ],
      "id": "a470f73e-5448-4102-8bb2-46ad38e91770"
    },
    {
      "cell_type": "code",
      "execution_count": 7,
      "metadata": {},
      "outputs": [],
      "source": [
        "wt = np.zeros((T,T))\n",
        "for i in range(T):\n",
        "    for j in range(T):\n",
        "        if i==j :\n",
        "            wt[i,j] = 0\n",
        "        elif np.abs(i-j) <= 1 : \n",
        "            wt[i,j] = 1"
      ],
      "id": "73b6fab1-e04b-4396-8bf3-125b560cbb15"
    },
    {
      "cell_type": "code",
      "execution_count": 8,
      "metadata": {},
      "outputs": [],
      "source": [
        "mtr = a.edge_index\n",
        "mtr2 = a.edge_weight"
      ],
      "id": "bc8f87af-aafc-41aa-9bc9-b8abac6e42fb"
    },
    {
      "cell_type": "code",
      "execution_count": 9,
      "metadata": {},
      "outputs": [],
      "source": [
        "np.array(mtr).shape"
      ],
      "id": "8bfb3c77-c1aa-4b6e-916a-e9efaf1ed7bb"
    },
    {
      "cell_type": "code",
      "execution_count": 10,
      "metadata": {},
      "outputs": [],
      "source": [
        "np.array(mtr2).shape"
      ],
      "id": "8c3b3d71-3ad6-4df4-992c-fa4c260e68bc"
    },
    {
      "cell_type": "code",
      "execution_count": 12,
      "metadata": {},
      "outputs": [],
      "source": [
        "mtr"
      ],
      "id": "05828d43-5d0d-4bf5-a737-fabe842e3f1e"
    },
    {
      "cell_type": "code",
      "execution_count": 40,
      "metadata": {},
      "outputs": [],
      "source": [
        "pd.DataFrame(mtr2).iloc[:,0].unique()"
      ],
      "id": "512ee310-f3c9-4cbe-aa97-4ebe7962df4b"
    },
    {
      "cell_type": "code",
      "execution_count": 9,
      "metadata": {},
      "outputs": [],
      "source": [
        "ws = np.zeros((N,N))\n",
        "for i in range(N):\n",
        "    for j in range(mtr2.shape[0]):\n",
        "        if mtr[0][j] == i :\n",
        "            ws[i,mtr[1][j]] = mtr2[j]"
      ],
      "id": "6a95c4c6-2e40-42f6-a510-3be2c6b715b2"
    },
    {
      "cell_type": "code",
      "execution_count": 10,
      "metadata": {},
      "outputs": [],
      "source": [
        "np.array(ws).shape"
      ],
      "id": "675e7657-2985-4635-836a-c7b972025a2b"
    },
    {
      "cell_type": "code",
      "execution_count": 11,
      "metadata": {},
      "outputs": [],
      "source": [
        "f = np.array(a.features).reshape(T,N)"
      ],
      "id": "92f6491a-3024-49f3-a01d-efb6a660dc92"
    },
    {
      "cell_type": "markdown",
      "metadata": {},
      "source": [
        "`-` f를 펼침"
      ],
      "id": "9f8dc026-e140-43b2-a2bd-9f021de0ef77"
    },
    {
      "cell_type": "code",
      "execution_count": 12,
      "metadata": {},
      "outputs": [],
      "source": [
        "f_flatten = f.reshape(-1,1)\n",
        "# f_flatten"
      ],
      "id": "a0f40a68-ba85-4b57-ad3d-84ba31a39ebc"
    },
    {
      "cell_type": "markdown",
      "metadata": {},
      "source": [
        "`-` 펼쳐진 f에 대응하는 W 생성"
      ],
      "id": "458ec58f-c1ab-4f80-8fb8-a3d1ff328e2e"
    },
    {
      "cell_type": "code",
      "execution_count": 13,
      "metadata": {},
      "outputs": [],
      "source": [
        "N = len(ws)\n",
        "T = len(wt)\n",
        "Is = np.eye(N,N)\n",
        "lst = [[0]*T for t in range(T)]"
      ],
      "id": "1c78a338-542c-483a-a712-3d097924eda1"
    },
    {
      "cell_type": "code",
      "execution_count": 13,
      "metadata": {},
      "outputs": [],
      "source": [
        "def flatten_weight(ws,wt):\n",
        "  N = len(ws)\n",
        "  T = len(wt)\n",
        "  Is = np.eye(N,N)\n",
        "  lst = [[0]*T for t in range(T)]\n",
        "  for i in range(T):\n",
        "    for j in range(T):\n",
        "      if i==j: \n",
        "        lst[i][j] = ws \n",
        "      elif abs(i-j)==1:\n",
        "        lst[i][j] = Is\n",
        "      else:\n",
        "        lst[i][j] = Is*0\n",
        "  return np.concatenate([np.concatenate(l,axis=1) for l in lst],axis=0)"
      ],
      "id": "8c63ee46-ecdf-45d9-a62a-462e742c44f8"
    },
    {
      "cell_type": "code",
      "execution_count": null,
      "metadata": {},
      "outputs": [],
      "source": [
        "W_flatten = flatten_weight(ws,wt)\n",
        "W_flatten"
      ],
      "id": "df7ccb5a-7287-421d-a2a2-699cad3d0f7f"
    },
    {
      "cell_type": "markdown",
      "metadata": {},
      "source": [
        "`-` trim\n",
        "\n",
        "``` python\n",
        "ftrimed_flatten = trim(f_flatten,W_flatten)\n",
        "```"
      ],
      "id": "d040e401-9872-40d3-b8ae-3603de142055"
    },
    {
      "cell_type": "code",
      "execution_count": null,
      "metadata": {},
      "outputs": [],
      "source": [
        "np.save('./weight_st/W_wikimath.npy', W_flatten)"
      ],
      "id": "ab358f95-abe4-4915-9c15-d342b0b0ea74"
    },
    {
      "cell_type": "code",
      "execution_count": null,
      "metadata": {},
      "outputs": [],
      "source": [
        "np.load('./weight_st/W_wikimath.npy')"
      ],
      "id": "70b8b969-b4ae-47b3-b19b-a1fa2b1de644"
    },
    {
      "cell_type": "markdown",
      "metadata": {},
      "source": [
        "------------------------------------------------------------------------\n",
        "\n",
        "## Windmillsmall"
      ],
      "id": "e655851d-89a0-4884-a51e-5f82a5ab4c75"
    },
    {
      "cell_type": "code",
      "execution_count": 12,
      "metadata": {},
      "outputs": [],
      "source": [
        "from torch_geometric_temporal.dataset import WindmillOutputSmallDatasetLoader\n",
        "loader6 = WindmillOutputSmallDatasetLoader()"
      ],
      "id": "39f171f3-52d0-4460-b687-8df9cb863ab4"
    },
    {
      "cell_type": "code",
      "execution_count": 13,
      "metadata": {},
      "outputs": [],
      "source": [
        "a = loader6.get_dataset(lags=1)"
      ],
      "id": "5e392ca8-f3cf-40b9-948f-ef7519818090"
    },
    {
      "cell_type": "markdown",
      "metadata": {},
      "source": [
        "time,number of nodes"
      ],
      "id": "119e67ff-aec5-4d28-ac61-4d8838ae933a"
    },
    {
      "cell_type": "code",
      "execution_count": 14,
      "metadata": {},
      "outputs": [],
      "source": [
        "T,N,_ = np.array(a.features).shape"
      ],
      "id": "ef9d8bcb-6665-4a5d-bcc1-52a5f8f5332b"
    },
    {
      "cell_type": "markdown",
      "metadata": {},
      "source": [
        "`-` wt,ws,f"
      ],
      "id": "5b0c4b15-3fdc-49cd-94f5-80fefa151de8"
    },
    {
      "cell_type": "code",
      "execution_count": 15,
      "metadata": {},
      "outputs": [],
      "source": [
        "wt = np.zeros((T,T))\n",
        "for i in range(T):\n",
        "    for j in range(T):\n",
        "        if i==j :\n",
        "            wt[i,j] = 0\n",
        "        elif np.abs(i-j) <= 1 : \n",
        "            wt[i,j] = 1"
      ],
      "id": "4febb5d3-a405-47f8-b0a4-b1b6169ef96d"
    },
    {
      "cell_type": "code",
      "execution_count": 16,
      "metadata": {},
      "outputs": [],
      "source": [
        "mtr = a.edge_index\n",
        "mtr2 = a.edge_weight"
      ],
      "id": "f8e24796-33d2-4bec-bbdf-76fb7e665805"
    },
    {
      "cell_type": "code",
      "execution_count": 17,
      "metadata": {},
      "outputs": [],
      "source": [
        "ws = np.zeros((N,N))\n",
        "for i in range(N):\n",
        "    for j in range(mtr2.shape[0]):\n",
        "        if mtr[0][j] == i :\n",
        "            ws[i,mtr[1][j]] = mtr2[j]"
      ],
      "id": "f8bee403-1e23-4e82-ab42-25cbc838e98b"
    },
    {
      "cell_type": "code",
      "execution_count": 18,
      "metadata": {},
      "outputs": [],
      "source": [
        "np.array(ws).shape"
      ],
      "id": "868871eb-9c01-4a33-8ce3-dd105ca8f5cb"
    },
    {
      "cell_type": "code",
      "execution_count": 19,
      "metadata": {},
      "outputs": [],
      "source": [
        "f = np.array(a.features).reshape(T,N)"
      ],
      "id": "aa4dc890-a504-4479-8a68-1993723f71d8"
    },
    {
      "cell_type": "markdown",
      "metadata": {},
      "source": [
        "`-` f를 펼침"
      ],
      "id": "6fbb0dc7-ab3f-4407-a914-344bd4e4f6d7"
    },
    {
      "cell_type": "code",
      "execution_count": 20,
      "metadata": {},
      "outputs": [],
      "source": [
        "f_flatten = f.reshape(-1,1)\n",
        "# f_flatten"
      ],
      "id": "ec65d908-01e2-431a-bea0-ce5e67bd16fa"
    },
    {
      "cell_type": "markdown",
      "metadata": {},
      "source": [
        "`-` 펼쳐진 f에 대응하는 W 생성"
      ],
      "id": "b35b6da6-29db-4fab-8126-5702eae23683"
    },
    {
      "cell_type": "code",
      "execution_count": 21,
      "metadata": {},
      "outputs": [],
      "source": [
        "def flatten_weight(ws,wt):\n",
        "  N = len(ws)\n",
        "  T = len(wt)\n",
        "  Is = np.eye(N,N)\n",
        "  lst = [[0]*T for t in range(T)]\n",
        "  for i in range(T):\n",
        "    for j in range(T):\n",
        "      if i==j: \n",
        "        lst[i][j] = ws \n",
        "      elif abs(i-j)==1:\n",
        "        lst[i][j] = Is\n",
        "      else:\n",
        "        lst[i][j] = Is*0\n",
        "  return np.concatenate([np.concatenate(l,axis=1) for l in lst],axis=0)"
      ],
      "id": "8d754fa2-2ebb-4181-95cd-63410d66b881"
    },
    {
      "cell_type": "code",
      "execution_count": null,
      "metadata": {},
      "outputs": [],
      "source": [
        "W_flatten = flatten_weight(ws,wt)\n",
        "W_flatten"
      ],
      "id": "f877c114-d7a1-427b-b90f-9c5f40e04ecb"
    },
    {
      "cell_type": "markdown",
      "metadata": {},
      "source": [
        "`-` trim\n",
        "\n",
        "``` python\n",
        "ftrimed_flatten = trim(f_flatten,W_flatten)\n",
        "```"
      ],
      "id": "5c0b9e87-0a2b-451a-a420-f8a98cc9e030"
    },
    {
      "cell_type": "code",
      "execution_count": null,
      "metadata": {},
      "outputs": [],
      "source": [
        "np.save('./weight_st/W_windmillsmall.npy', W_flatten)"
      ],
      "id": "e5374a54-b5b0-47b6-a81a-f9b6870eba38"
    },
    {
      "cell_type": "code",
      "execution_count": null,
      "metadata": {},
      "outputs": [],
      "source": [
        "np.load('./weight_st/W_windmillsmall.npy')"
      ],
      "id": "1f6515b5-5124-4056-884e-2647e3493719"
    }
  ],
  "nbformat": 4,
  "nbformat_minor": 5,
  "metadata": {
    "kernelspec": {
      "name": "python3",
      "display_name": "Python 3",
      "language": "python"
    },
    "language_info": {
      "name": "python",
      "codemirror_mode": {
        "name": "ipython",
        "version": "3"
      },
      "file_extension": ".py",
      "mimetype": "text/x-python",
      "nbconvert_exporter": "python",
      "pygments_lexer": "ipython3",
      "version": "3.8.0"
    }
  }
}
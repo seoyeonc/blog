{
 "cells": [
  {
   "cell_type": "code",
   "execution_count": null,
   "id": "aea51a79-08b6-408e-850f-acccbde0f9ff",
   "metadata": {},
   "outputs": [],
   "source": []
  },
  {
   "cell_type": "markdown",
   "id": "a631af9d-853a-40b6-9327-1d914346f1b1",
   "metadata": {},
   "source": [
    "- GConvGRU\n",
    "- DCRNN\n",
    "- GConvLSTM\n",
    "- MPNNLSTM\n",
    "- TGCN\n",
    "- EvolveGCNO\n",
    "- GCLSTM\n",
    "- LRGCN\n",
    "- EvolveGCNH\n",
    "- DyGrEncoder"
   ]
  },
  {
   "cell_type": "code",
   "execution_count": 1,
   "id": "22c40eb0-7893-48a7-abe4-f2c6ab267602",
   "metadata": {},
   "outputs": [],
   "source": [
    "import itstgcntry\n",
    "import torch\n",
    "import itstgcntry.planner "
   ]
  },
  {
   "cell_type": "code",
   "execution_count": 2,
   "id": "853bba97-9c42-48a9-b931-96e8bc63fc04",
   "metadata": {},
   "outputs": [],
   "source": [
    "from torch_geometric_temporal.dataset import PedalMeDatasetLoader\n",
    "loader2 = PedalMeDatasetLoader()"
   ]
  },
  {
   "cell_type": "code",
   "execution_count": 16,
   "id": "dd33baab-64b0-4f36-8c8b-48922adf13ce",
   "metadata": {},
   "outputs": [],
   "source": [
    "plans_stgcn_rand = {\n",
    "    'max_iteration': 30, \n",
    "    'method': ['STGCN', 'IT-STGCN'],\n",
    "    'RecurrentGCN': ['GConvGRU','DCRNN','GConvLSTM','MPNNLSTM','TGCN','EvolveGCNO','GCLSTM','LRGCN','EvolveGCNH'],\n",
    "    'mrate': [0.6],\n",
    "    'lags': [2], \n",
    "    'nof_filters': [12], \n",
    "    'inter_method': ['linear'],\n",
    "    'epoch': [50],\n",
    "    'lr' : [0.01]\n",
    "}"
   ]
  },
  {
   "cell_type": "code",
   "execution_count": null,
   "id": "cc939e29-d020-4ade-ab4e-612d354dbcf2",
   "metadata": {},
   "outputs": [
    {
     "name": "stdout",
     "output_type": "stream",
     "text": [
      "1/30 is done\n",
      "2/30 is done\n",
      "3/30 is done\n",
      "27/50\r"
     ]
    }
   ],
   "source": [
    "plnr = itstgcntry.planner.PLNR_STGCN_RAND(plans_stgcn_rand,loader2,dataset_name='pedalme')\n",
    "plnr.simulate()"
   ]
  },
  {
   "cell_type": "code",
   "execution_count": 7,
   "id": "6be5390b-a02a-4cd7-86f9-cdf83acf467d",
   "metadata": {},
   "outputs": [],
   "source": [
    "import pandas as pd"
   ]
  },
  {
   "cell_type": "code",
   "execution_count": null,
   "id": "08b80945-84e4-4c51-a810-2fb6b7a3f7a5",
   "metadata": {},
   "outputs": [],
   "source": [
    "pd.read_csv('./simulation_results/2023-05-29_11-18-32.csv').groupby(['RecurrentGCN','method','mrate'])['mse'].mean().reset_index()"
   ]
  },
  {
   "cell_type": "code",
   "execution_count": null,
   "id": "d4b47dd0-d299-48e4-bc61-09ecd3dd7a84",
   "metadata": {},
   "outputs": [],
   "source": []
  }
 ],
 "metadata": {
  "kernelspec": {
   "display_name": "Python 3",
   "language": "python",
   "name": "python3"
  },
  "language_info": {
   "codemirror_mode": {
    "name": "ipython",
    "version": 3
   },
   "file_extension": ".py",
   "mimetype": "text/x-python",
   "name": "python",
   "nbconvert_exporter": "python",
   "pygments_lexer": "ipython3",
   "version": "3.8.0"
  }
 },
 "nbformat": 4,
 "nbformat_minor": 5
}

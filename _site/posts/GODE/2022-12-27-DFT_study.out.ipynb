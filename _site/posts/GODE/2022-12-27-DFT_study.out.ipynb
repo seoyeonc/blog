{
  "cells": [
    {
      "cell_type": "markdown",
      "metadata": {},
      "source": [
        "# Discrete Fourier Transform\n",
        "\n",
        "SEOYEON CHOI  \n",
        "12/27/22\n",
        "\n",
        "> DFT\n",
        "\n",
        "https://miruetoto.quarto.pub/yechan/posts/CGSP/2022-12-24-CGSP-Chap-8-3-DFT.html#fnref1\n",
        "\n",
        "https://miruetoto.github.io/yechan/%EB%B2%A0%EC%9D%B4%EC%A7%80%EC%95%88/2019/11/24/(%EB%85%B8%ED%8A%B8)-%EB%B2%A0%EC%9D%B4%EC%A7%80%EC%95%88-%EC%B6%94%EB%A1%A0-%EB%B2%A0%EC%9D%B4%EC%A7%80%EC%95%88.html\n",
        "\n",
        "## import"
      ],
      "id": "7a5a5471-158d-4eb1-b9ce-dda44c8566af"
    },
    {
      "cell_type": "code",
      "execution_count": 12,
      "metadata": {},
      "outputs": [],
      "source": [
        "import numpy as np"
      ],
      "id": "394da6ce-e187-45c4-a045-450c272a697c"
    },
    {
      "cell_type": "markdown",
      "metadata": {},
      "source": [
        "### Forward operator A"
      ],
      "id": "d3ea338c-f9d7-438a-aca6-be82bcddecb0"
    },
    {
      "cell_type": "code",
      "execution_count": 15,
      "metadata": {},
      "outputs": [],
      "source": [
        "A = np.array([[0, 0, 0, 0, 1],\n",
        "    [1, 0, 0, 0, 0],\n",
        "    [0, 1, 0, 0, 0],\n",
        "    [0, 0, 1, 0, 0],\n",
        "    [0, 0, 0, 1, 0]])\n",
        "A"
      ],
      "id": "0b9ba4c4-cfb1-4522-b4e3-f8ff0d1839eb"
    },
    {
      "cell_type": "code",
      "execution_count": 21,
      "metadata": {},
      "outputs": [],
      "source": [
        "np.transpose(A)@A"
      ],
      "id": "f0a63eeb-3b9a-4ef3-8882-7f176838fab9"
    },
    {
      "cell_type": "markdown",
      "metadata": {},
      "source": [
        "> note: A is orthogonal matrix"
      ],
      "id": "972d0a85-8204-47e5-b6fe-3fec31651a7e"
    },
    {
      "cell_type": "code",
      "execution_count": 23,
      "metadata": {},
      "outputs": [],
      "source": [
        "s = np.array([[1],[22],[333],[4444],[55555]])\n",
        "s"
      ],
      "id": "a7579477-b301-40ed-8386-410f5504bb92"
    },
    {
      "cell_type": "code",
      "execution_count": 31,
      "metadata": {},
      "outputs": [],
      "source": [
        "A@s"
      ],
      "id": "5758137b-7293-429c-b667-e6cf17690ebf"
    },
    {
      "cell_type": "code",
      "execution_count": 33,
      "metadata": {},
      "outputs": [],
      "source": [
        "A@A@s"
      ],
      "id": "0302f4c4-1049-4f7f-888f-1ce8fbf66a4e"
    },
    {
      "cell_type": "code",
      "execution_count": 34,
      "metadata": {},
      "outputs": [],
      "source": [
        "A@A@A@s"
      ],
      "id": "e87d2eaf-5fb8-41c6-b236-acc9ab15ea48"
    },
    {
      "cell_type": "markdown",
      "metadata": {},
      "source": [
        "> note : thus A is a forward operator,A\\* is a backward operator.\n",
        "\n",
        "### DFT\n",
        "\n",
        "$A = DFT^* \\Lambda DFT$"
      ],
      "id": "1186693f-a695-4c76-bc71-4b5183fe5571"
    },
    {
      "cell_type": "code",
      "execution_count": 38,
      "metadata": {},
      "outputs": [],
      "source": [
        "λ, ψ = np.linalg.eig(A)\n",
        "λ, ψ"
      ],
      "id": "7d702c41-faea-49ff-844e-9beb4674c0d6"
    },
    {
      "cell_type": "code",
      "execution_count": 43,
      "metadata": {},
      "outputs": [],
      "source": [
        "λ.shape, ψ.shape"
      ],
      "id": "d77c4576-6cdb-4597-8dfe-76b1536f0249"
    },
    {
      "cell_type": "code",
      "execution_count": 98,
      "metadata": {},
      "outputs": [],
      "source": [
        "A "
      ],
      "id": "54bf4084-624d-4206-a5ea-01b8bef9eb18"
    },
    {
      "cell_type": "code",
      "execution_count": 101,
      "metadata": {},
      "outputs": [],
      "source": [
        "(ψ @ np.diag(λ) @ ψ.transpose()).round(2)"
      ],
      "id": "c33b5f03-32e9-4362-b0e9-8d4ed23a7894"
    },
    {
      "cell_type": "markdown",
      "metadata": {},
      "source": [
        "?\n",
        "\n",
        "define $\\psi^* = DFT$"
      ],
      "id": "25ce70f6-ae34-4beb-ab7d-404ec6ac9e32"
    },
    {
      "cell_type": "code",
      "execution_count": 76,
      "metadata": {},
      "outputs": [],
      "source": [
        "DFT = np.transpose(ψ)\n",
        "DFT"
      ],
      "id": "79a2f909-c368-4fcd-a62a-b3c522aa577f"
    },
    {
      "cell_type": "code",
      "execution_count": 89,
      "metadata": {},
      "outputs": [],
      "source": [
        "λ[3,]"
      ],
      "id": "cbc3f467-d978-4f04-8c12-3d7d50805a0e"
    },
    {
      "cell_type": "code",
      "execution_count": 92,
      "metadata": {},
      "outputs": [],
      "source": [
        "a=np.array([1,2,3,4])\n",
        "np.diag(np.diag(a))"
      ],
      "id": "a81b45f5-f61d-43b8-b0aa-053b49184ca9"
    },
    {
      "cell_type": "code",
      "execution_count": 94,
      "metadata": {},
      "outputs": [],
      "source": [
        "λ"
      ],
      "id": "5533e6f9-c19c-4c8b-9da3-2d112522a45e"
    },
    {
      "cell_type": "code",
      "execution_count": 106,
      "metadata": {},
      "outputs": [],
      "source": [
        "(np.matrix(ψ)@np.matrix(np.diag(λ))@np.matrix(ψ).H).round(3)"
      ],
      "id": "22b8d4f3-5798-4de6-925b-fa32049df7b9"
    },
    {
      "cell_type": "code",
      "execution_count": 109,
      "metadata": {},
      "outputs": [],
      "source": [
        "np.matrix(ψ).H"
      ],
      "id": "e2414e1a-4adb-4465-9092-7ac1ce929362"
    },
    {
      "cell_type": "markdown",
      "metadata": {},
      "source": [
        "### Spectral components and Frequencies\n",
        "\n",
        "$$\\{ 1,\\psi_1, \\psi_2, \\psi_3,\\dots, \\psi_{N-1} \\}$$\n",
        "\n",
        "These vectors are called spectral components.\n",
        "\n",
        "In Physics and in operator theory, these eigenvalues are the frequencies\n",
        "of the signal.\n",
        "\n",
        "Eigenvalues of $A$"
      ],
      "id": "964e25ff-0cf7-45c8-8fbe-c10e1e20859e"
    }
  ],
  "nbformat": 4,
  "nbformat_minor": 5,
  "metadata": {
    "kernelspec": {
      "name": "python3",
      "display_name": "Python 3 (ipykernel)",
      "language": "python"
    },
    "language_info": {
      "name": "python",
      "codemirror_mode": {
        "name": "ipython",
        "version": "3"
      },
      "file_extension": ".py",
      "mimetype": "text/x-python",
      "nbconvert_exporter": "python",
      "pygments_lexer": "ipython3",
      "version": "3.8.12"
    }
  }
}
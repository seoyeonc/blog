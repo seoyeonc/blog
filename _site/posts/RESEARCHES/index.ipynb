{
  "cells": [
    {
      "cell_type": "markdown",
      "metadata": {},
      "source": [
        "# RESEARCHES\n",
        "\n",
        "SEOYEON CHOI  \n",
        "7/5/23\n",
        "\n",
        "About RESEARCHES"
      ],
      "id": "2e418970-5baf-427c-a59c-3ed787258865"
    }
  ],
  "nbformat": 4,
  "nbformat_minor": 5,
  "metadata": {
    "kernelspec": {
      "display_name": "Python 3",
      "language": "python",
      "name": "python3"
    }
  }
}
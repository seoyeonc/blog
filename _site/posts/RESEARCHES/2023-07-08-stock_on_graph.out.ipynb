{
  "cells": [
    {
      "cell_type": "markdown",
      "metadata": {},
      "source": [
        "# Stock on Graph\n",
        "\n",
        "SEOYEON CHOI  \n",
        "7/8/23\n",
        "\n",
        "# Import"
      ],
      "id": "f393abe8-5446-4fa1-b979-ff9689622986"
    },
    {
      "cell_type": "code",
      "execution_count": 1,
      "metadata": {},
      "outputs": [],
      "source": [
        "import tqdm\n",
        "import numpy as np\n",
        "import pandas as pd\n",
        "import matplotlib.pyplot as plt \n",
        "import plotly.express as px\n",
        "import warnings\n",
        "warnings.simplefilter(\"ignore\", np.ComplexWarning)\n",
        "from haversine import haversine\n",
        "from IPython.display import HTML\n",
        "import plotly.graph_objects as go"
      ],
      "id": "f3b2ed90-9eeb-473b-8d9c-7c40d3165f76"
    },
    {
      "cell_type": "code",
      "execution_count": 2,
      "metadata": {},
      "outputs": [],
      "source": [
        "import rpy2\n",
        "import rpy2.robjects as ro \n",
        "from rpy2.robjects.vectors import FloatVector \n",
        "from rpy2.robjects.packages import importr"
      ],
      "id": "9e4ccb66-7010-434c-b616-580a9799f398"
    },
    {
      "cell_type": "markdown",
      "metadata": {},
      "source": [
        "# Data intro(2020\\~2022)\n",
        "\n",
        "## Korea"
      ],
      "id": "79646a24-14bd-4f47-b57b-f61d962d548a"
    },
    {
      "cell_type": "code",
      "execution_count": 3,
      "metadata": {},
      "outputs": [],
      "source": [
        "df_korea = pd.read_csv('./dataset/korea_kospi.csv')"
      ],
      "id": "43dc601e-a078-41eb-912d-223060378e45"
    },
    {
      "cell_type": "code",
      "execution_count": 4,
      "metadata": {},
      "outputs": [],
      "source": [
        "df_korea = pd.concat([df_korea,pd.DataFrame({'Country': \"Korea\",\n",
        "                                             'Value':(df_korea['Close'] - df_korea['Close'].mean())/df_korea['Close'].std()})],axis=1)\n"
      ],
      "id": "3358cd6d-5f8f-401a-b32d-ca7ed7f33ebd"
    },
    {
      "cell_type": "code",
      "execution_count": 5,
      "metadata": {},
      "outputs": [],
      "source": [
        "df_korea_add = df_korea.assign(Year = list(map(lambda x: x.split('-')[0],df_korea['Date'])),\\\n",
        "                                    Mon = list(map(lambda x: x.split('-')[1],df_korea['Date'])),\\\n",
        "                                    Day = list(map(lambda x: x.split('-')[2],df_korea['Date'])))"
      ],
      "id": "48e6f57d-0652-48c3-a6e2-23b135535bff"
    },
    {
      "cell_type": "code",
      "execution_count": 6,
      "metadata": {},
      "outputs": [],
      "source": [
        "df_korea_add.Year = df_korea_add.Year.astype(np.float64)\n",
        "df_korea_add.Mon = df_korea_add.Mon.astype(np.float64)\n",
        "df_korea_add.Day = df_korea_add.Day.astype(np.float64)"
      ],
      "id": "9c553e72-7471-4a66-85ef-d04d0eb381e5"
    },
    {
      "cell_type": "code",
      "execution_count": 7,
      "metadata": {},
      "outputs": [],
      "source": [
        "df_korea_covid = df_korea_add.query(\"Year>=2020 and Year <= 2022\");df_korea_covid"
      ],
      "id": "2aaf31c9-5a03-405e-b772-377ed3057dd3"
    },
    {
      "cell_type": "code",
      "execution_count": 8,
      "metadata": {},
      "outputs": [],
      "source": [
        "# plt.figure(figsize=(30, 8)) \n",
        "# plt.title('Korea (close)')\n",
        "# plt.xticks(rotation=45) \n",
        "# plt.plot(df_korea_covid['Date'], df_korea_covid['Close'], 'co-')\n",
        "# plt.grid(color='gray', linestyle='--')"
      ],
      "id": "f8e7ae3b-91f6-4b9d-b8c9-8c7da418f0f4"
    },
    {
      "cell_type": "markdown",
      "metadata": {},
      "source": [
        "## US"
      ],
      "id": "17cf179b-97c1-4f13-ada7-efdf76063a6a"
    },
    {
      "cell_type": "code",
      "execution_count": 9,
      "metadata": {},
      "outputs": [],
      "source": [
        "df_us = pd.read_csv('./dataset/us_nasdaq.csv')"
      ],
      "id": "70d30c42-bb73-4ae4-b79d-43893172bcfd"
    },
    {
      "cell_type": "code",
      "execution_count": 10,
      "metadata": {},
      "outputs": [],
      "source": [
        "df_us = pd.concat([df_us,pd.DataFrame({'Country': 'United States of America',\n",
        "                                             'Value':(df_us['Close'] - df_us['Close'].mean())/df_us['Close'].std()})],axis=1)"
      ],
      "id": "62512e39-d38a-4740-91bc-eee838d17264"
    },
    {
      "cell_type": "code",
      "execution_count": 11,
      "metadata": {},
      "outputs": [],
      "source": [
        "df_us_add = df_us.assign(Year = list(map(lambda x: x.split('-')[0],df_us['Date'])),\\\n",
        "                            Mon = list(map(lambda x: x.split('-')[1],df_us['Date'])),\\\n",
        "                            Day = list(map(lambda x: x.split('-')[2],df_us['Date'])))"
      ],
      "id": "078e0a95-7dff-498d-b6d0-9777478d1a52"
    },
    {
      "cell_type": "code",
      "execution_count": 12,
      "metadata": {},
      "outputs": [],
      "source": [
        "df_us_add.Year = df_us_add.Year.astype(np.float64)\n",
        "df_us_add.Mon = df_us_add.Mon.astype(np.float64)\n",
        "df_us_add.Day = df_us_add.Day.astype(np.float64)"
      ],
      "id": "7dfa7d16-6dbe-4e01-9602-7befdc3a22e4"
    },
    {
      "cell_type": "code",
      "execution_count": 13,
      "metadata": {},
      "outputs": [],
      "source": [
        "df_us_covid = df_us_add.query(\"Year>=2020 and Year <=2022\");df_us_covid"
      ],
      "id": "e5b55fa8-f769-416b-b956-d5789b7182bf"
    },
    {
      "cell_type": "code",
      "execution_count": 14,
      "metadata": {},
      "outputs": [],
      "source": [
        "# plt.figure(figsize=(30, 8)) \n",
        "# plt.title('US (close)')\n",
        "# plt.xticks(rotation=45) \n",
        "# plt.plot(df_us_covid['Date'], df_us_covid['Close'], 'co-')\n",
        "# plt.grid(color='gray', linestyle='--')"
      ],
      "id": "aa1529d7-6307-404a-8e12-be0ba567bed5"
    },
    {
      "cell_type": "markdown",
      "metadata": {},
      "source": [
        "## China"
      ],
      "id": "f6c9a00e-3bfb-43f0-adb3-b8ba318199b2"
    },
    {
      "cell_type": "code",
      "execution_count": 15,
      "metadata": {},
      "outputs": [],
      "source": [
        "df_china = pd.read_csv('./dataset/china_ssec.csv')"
      ],
      "id": "078a8e03-a3b2-4c90-aa98-0f4ee428761f"
    },
    {
      "cell_type": "code",
      "execution_count": 16,
      "metadata": {},
      "outputs": [],
      "source": [
        "df_china = pd.concat([df_china,pd.DataFrame({'Country': 'China',\n",
        "                                             'Value':(df_china['Close'] - df_china['Close'].mean())/df_china['Close'].std()})],axis=1)"
      ],
      "id": "75f97c2f-8bd4-4de4-b936-b6fd1ae9d49e"
    },
    {
      "cell_type": "code",
      "execution_count": 17,
      "metadata": {},
      "outputs": [],
      "source": [
        "df_china_add = df_china.assign(Year = list(map(lambda x: x.split('-')[0],df_china['Date'])),\\\n",
        "                                    Mon = list(map(lambda x: x.split('-')[1],df_china['Date'])),\\\n",
        "                                    Day = list(map(lambda x: x.split('-')[2],df_china['Date'])))"
      ],
      "id": "16a8caba-ddc1-4a44-80cb-b225b0bc5db7"
    },
    {
      "cell_type": "code",
      "execution_count": 18,
      "metadata": {},
      "outputs": [],
      "source": [
        "df_china_add.Year = df_china_add.Year.astype(np.float64)\n",
        "df_china_add.Mon = df_china_add.Mon.astype(np.float64)\n",
        "df_china_add.Day = df_china_add.Day.astype(np.float64)"
      ],
      "id": "665b640f-eef5-4dfc-83b8-ac3c052ff8b3"
    },
    {
      "cell_type": "code",
      "execution_count": 19,
      "metadata": {},
      "outputs": [],
      "source": [
        "df_china_covid = df_china_add.query(\"Year>=2020 and Year <=2022\");df_china_covid"
      ],
      "id": "0e3c6f20-7787-463d-b40e-0cbbc8b19a37"
    },
    {
      "cell_type": "code",
      "execution_count": 20,
      "metadata": {},
      "outputs": [],
      "source": [
        "# plt.figure(figsize=(30, 8)) \n",
        "# plt.title('China (close)')\n",
        "# plt.xticks(rotation=45) \n",
        "# plt.plot(df_china_covid['Date'], df_china_covid['Close'], 'co-')\n",
        "# plt.grid(color='gray', linestyle='--')"
      ],
      "id": "61ae613a-b1cf-4943-ad61-f6d7cf3e20f8"
    },
    {
      "cell_type": "markdown",
      "metadata": {},
      "source": [
        "## Japan"
      ],
      "id": "1428ab5b-660b-4092-8588-402897dfb0da"
    },
    {
      "cell_type": "code",
      "execution_count": 21,
      "metadata": {},
      "outputs": [],
      "source": [
        "df_japan = pd.read_csv('./dataset/japan_n225.csv')"
      ],
      "id": "8414ceda-88df-4fad-bd38-e7e56259a4b7"
    },
    {
      "cell_type": "code",
      "execution_count": 22,
      "metadata": {},
      "outputs": [],
      "source": [
        "df_japan = pd.concat([df_japan,pd.DataFrame({'Country': 'Japan',\n",
        "                                             'Value':(df_japan['Close'] - df_japan['Close'].mean())/df_japan['Close'].std()})],axis=1)"
      ],
      "id": "aa12caf8-610b-47f1-87e9-2d0bf38cf868"
    },
    {
      "cell_type": "code",
      "execution_count": 23,
      "metadata": {},
      "outputs": [],
      "source": [
        "df_japan_add = df_japan.assign(Year = list(map(lambda x: x.split('-')[0],df_japan['Date'])),\\\n",
        "                                    Mon = list(map(lambda x: x.split('-')[1],df_japan['Date'])),\\\n",
        "                                    Day = list(map(lambda x: x.split('-')[2],df_japan['Date'])))"
      ],
      "id": "c73ab978-addd-4cb3-b6c3-e7e687729f3d"
    },
    {
      "cell_type": "code",
      "execution_count": 24,
      "metadata": {},
      "outputs": [],
      "source": [
        "df_japan_add.Year = df_japan_add.Year.astype(np.float64)\n",
        "df_japan_add.Mon = df_japan_add.Mon.astype(np.float64)\n",
        "df_japan_add.Day = df_japan_add.Day.astype(np.float64)"
      ],
      "id": "1a320c14-c5ea-4828-b333-e5e1a9edc0ae"
    },
    {
      "cell_type": "code",
      "execution_count": 25,
      "metadata": {},
      "outputs": [],
      "source": [
        "df_japan_covid = df_japan_add.query(\"Year>=2020 and Year<=2022\");df_japan_covid"
      ],
      "id": "69713efc-0453-4d03-81a2-475e3010cf42"
    },
    {
      "cell_type": "code",
      "execution_count": 26,
      "metadata": {},
      "outputs": [],
      "source": [
        "# plt.figure(figsize=(30, 8)) \n",
        "# plt.title('Japan (close)')\n",
        "# plt.xticks(rotation=45) \n",
        "# plt.plot(df_japan_covid['Date'], df_japan_covid['Close'], 'co-')\n",
        "# plt.grid(color='gray', linestyle='--')"
      ],
      "id": "13dce0bf-066b-4f04-a852-afeca8ae0884"
    },
    {
      "cell_type": "code",
      "execution_count": 27,
      "metadata": {},
      "outputs": [],
      "source": [
        "# with plt.style.context('seaborn-white'):\n",
        "#     fig, ((ax1, ax2), (ax3, ax4)) = plt.subplots(2, 2,figsize=(30,15))\n",
        "#     ax1.plot(df_korea_covid['Date'], df_korea_covid['Close'])\n",
        "#     ax2.plot(df_us_covid['Date'], df_us_covid['Close'])\n",
        "#     ax3.plot(df_china_covid['Date'], df_china_covid['Close'])\n",
        "#     ax4.plot(df_japan_covid['Date'], df_japan_covid['Close'])"
      ],
      "id": "120c67dc-c581-4fa3-9132-034303d655a0"
    },
    {
      "cell_type": "code",
      "execution_count": 28,
      "metadata": {},
      "outputs": [],
      "source": [
        "df = pd.concat([df_korea_covid,df_us_covid,df_china_covid,df_japan_covid]);df"
      ],
      "id": "be6aa319-238c-4c66-806a-4419bad83119"
    },
    {
      "cell_type": "code",
      "execution_count": 29,
      "metadata": {},
      "outputs": [],
      "source": [
        "df['Country'].unique()"
      ],
      "id": "47db40ec-f738-4419-8f61-d9fa2493b939"
    },
    {
      "cell_type": "markdown",
      "metadata": {},
      "source": [
        "# COVID(2020\\~2022)\n",
        "\n",
        "Ref: [WHO](https://covid19.who.int/data),\n",
        "[질병관리청](https://ncov.kdca.go.kr/)"
      ],
      "id": "04eacd36-9d19-4bcd-8540-5ce24f9be5e0"
    },
    {
      "cell_type": "code",
      "execution_count": 30,
      "metadata": {},
      "outputs": [],
      "source": [
        "covid = pd.read_csv('./dataset/WHO-COVID-19-global-data.csv').iloc[:,[0,1,2,4,6]];covid"
      ],
      "id": "c570cb9f-4978-4886-ba5d-44d028f3f695"
    },
    {
      "cell_type": "code",
      "execution_count": 31,
      "metadata": {},
      "outputs": [],
      "source": [
        "covid['Country'].unique()"
      ],
      "id": "8bd2cd1d-2e7f-40c3-8092-ef22e4a834b6"
    },
    {
      "cell_type": "code",
      "execution_count": 32,
      "metadata": {},
      "outputs": [],
      "source": [
        "covid.query(\"Country_code =='KP'\")['New_cases'].unique()"
      ],
      "id": "8b738860-d326-4eb5-b68f-1abc2841bbd2"
    },
    {
      "cell_type": "code",
      "execution_count": 33,
      "metadata": {},
      "outputs": [],
      "source": [
        "_korea_covid = pd.read_excel('./dataset/covid_korea.csv');_korea_covid[:10]"
      ],
      "id": "d507fcd2-c014-4c20-991b-0035235c9d66"
    },
    {
      "cell_type": "code",
      "execution_count": 34,
      "metadata": {},
      "outputs": [],
      "source": [
        "korea_covid = _korea_covid.assign(New_cases=np.where(_korea_covid['Unnamed: 2'] == '-', 0, _korea_covid['Unnamed: 2']),\\\n",
        "                                  New_deaths=np.where(_korea_covid['Unnamed: 4'] == '-', 0, _korea_covid['Unnamed: 4']),\\\n",
        "                                  Date_reported=list(map(lambda x: str(x).split()[0],_korea_covid['Unnamed: 0'])),\\\n",
        "                                  Country='Korea',Country_code='KP').\\\n",
        "                             iloc[5:,[7,9,8,6,5]];korea_covid"
      ],
      "id": "6dbc806c-2a47-4029-8580-0a189c994339"
    },
    {
      "cell_type": "code",
      "execution_count": 35,
      "metadata": {},
      "outputs": [],
      "source": [
        "covid_final = pd.concat([covid, korea_covid]).rename(columns={'Date_reported': 'Date'});covid_final"
      ],
      "id": "1e2daee1-5980-40a4-b3cd-b2efd62681a6"
    },
    {
      "cell_type": "code",
      "execution_count": 36,
      "metadata": {},
      "outputs": [],
      "source": [
        "covid_final_add = covid_final.assign(Year = list(map(lambda x: x.split('-')[0],covid_final['Date'])),\\\n",
        "                                    Mon = list(map(lambda x: x.split('-')[1],covid_final['Date'])),\\\n",
        "                                    Day = list(map(lambda x: x.split('-')[2],covid_final['Date'])))"
      ],
      "id": "31e63c88-a5d0-4fad-83f1-d63c0e5570db"
    },
    {
      "cell_type": "code",
      "execution_count": 37,
      "metadata": {},
      "outputs": [],
      "source": [
        "covid_final_add"
      ],
      "id": "bf67304a-51f2-4ae2-8720-f0eaec552fbf"
    },
    {
      "cell_type": "code",
      "execution_count": 38,
      "metadata": {},
      "outputs": [],
      "source": [
        "# with plt.style.context('seaborn-white'):\n",
        "#     fig, ((ax1, ax2), (ax3, ax4)) = plt.subplots(2, 2,figsize=(30,15))\n",
        "#     ax1.plot(covid_final_add.query(\"Country =='Korea'\")['Date'], covid_final_add.query(\"Country =='Korea'\")['New_cases'])\n",
        "#     ax2.plot(covid_final_add.query(\"Country =='United States of America'\")['Date'], covid_final_add.query(\"Country =='United States of America'\")['New_cases'])\n",
        "#     ax3.plot(covid_final_add.query(\"Country =='China'\")['Date'], covid_final_add.query(\"Country =='China'\")['New_cases'])\n",
        "#     ax4.plot(covid_final_add.query(\"Country =='Japan'\")['Date'], covid_final_add.query(\"Country =='Japan'\")['New_cases'])"
      ],
      "id": "33c377ab-a9b1-4a00-b124-fb8d28daa603"
    },
    {
      "cell_type": "markdown",
      "metadata": {},
      "source": [
        "# define class"
      ],
      "id": "94cf83bb-7674-4ad2-bc6f-0874775f59c7"
    },
    {
      "cell_type": "code",
      "execution_count": 41,
      "metadata": {},
      "outputs": [],
      "source": [
        "class Stock_graph:\n",
        "    def __init__(self,df):\n",
        "        self.df = df \n",
        "        self.f = df.Value.to_numpy()\n",
        "        self.year = df.Year.to_numpy()\n",
        "        self.mon = df.Mon.to_numpy()\n",
        "        self.day = df.Day.to_numpy()\n",
        "        self.country = df.Country\n",
        "        self.n = len(self.f)\n",
        "        \n",
        "        self.theta= None\n",
        "    def get_distance(self):\n",
        "        self.D = np.zeros([self.n,self.n])\n",
        "        locations = np.stack([self.lat, self.long],axis=1)\n",
        "        for i in tqdm.tqdm(range(self.n)):\n",
        "            for j in range(i,self.n): \n",
        "                self.D[i,j]=haversine(locations[i],locations[j])\n",
        "        self.D = self.D+self.D.T\n",
        "    def get_weightmatrix(self,theta=1,beta=0.5,kappa=4000):\n",
        "        self.theta = theta\n",
        "        dist = np.where(self.D<kappa,self.D,0)\n",
        "        self.W = np.exp(-(dist/self.theta)**2)\n",
        "\n",
        "    def _eigen(self):\n",
        "        d= self.W.sum(axis=1)\n",
        "        D= np.diag(d)\n",
        "        self.L = np.diag(1/np.sqrt(d)) @ (D-self.W) @ np.diag(1/np.sqrt(d))\n",
        "        self.lamb, self.Psi = np.linalg.eigh(self.L)\n",
        "        self.Lamb = np.diag(self.lamb)    \n",
        "        \n",
        "    def fit(self,ref=0.5): # fit with ebayesthresh\n",
        "        self._eigen()\n",
        "        self.fbar = self.Psi.T @ self.f # fbar := graph fourier transform of f\n",
        "        self.power = self.fbar**2 \n",
        "        ebayesthresh = importr('EbayesThresh').ebayesthresh\n",
        "        self.power_threshed=np.array(ebayesthresh(FloatVector(self.fbar**2)))\n",
        "        self.fbar_threshed = np.where(self.power_threshed>0,self.fbar,0)\n",
        "        self.fhat = self.Psi@self.fbar_threshed\n",
        "        self.df = self.df.assign(ValueHat = self.fhat)\n",
        "        self.df = self.df.assign(Residual = self.df.Value- self.df.ValueHat)"
      ],
      "id": "ab336457-7403-423b-88f8-92d59b16e3d6"
    },
    {
      "cell_type": "markdown",
      "metadata": {},
      "source": [
        "# 시도 1"
      ],
      "id": "ea710402-1fa3-44b9-9d14-8b1c5c2661ad"
    },
    {
      "cell_type": "code",
      "execution_count": 42,
      "metadata": {},
      "outputs": [],
      "source": [
        "rst = Stock_graph(df)"
      ],
      "id": "24f4baf3-bdda-4649-91e9-b87c44a75569"
    },
    {
      "cell_type": "code",
      "execution_count": 43,
      "metadata": {},
      "outputs": [],
      "source": [
        "len(rst.df)"
      ],
      "id": "1aa64052-755f-4953-89e5-d8d0dd0cac96"
    },
    {
      "cell_type": "code",
      "execution_count": 44,
      "metadata": {},
      "outputs": [],
      "source": [
        "T = len(rst.df)"
      ],
      "id": "efde4e68-18a2-4d69-8b9e-7c800fd1befd"
    },
    {
      "cell_type": "code",
      "execution_count": 55,
      "metadata": {},
      "outputs": [
        {
          "output_type": "display_data",
          "metadata": {},
          "data": {
            "image/png": "[encoded data removed]"
          }
        }
      ],
      "source": [
        "plt.scatter(rst.df[rst.df['Country']=='Korea'].iloc[:,[8,9]],rst.df[rst.df['Country']=='Japan'].iloc[:,[8,9]])"
      ],
      "id": "26f154d6-efd4-4b42-a768-dcb379a7a7ee"
    },
    {
      "cell_type": "code",
      "execution_count": 53,
      "metadata": {},
      "outputs": [],
      "source": [
        "rst.df[rst.df['Country']=='Japan'].iloc[:,[8,9]]"
      ],
      "id": "0f3d1561-e3ec-47c4-9141-edccce7f74f1"
    },
    {
      "cell_type": "code",
      "execution_count": null,
      "metadata": {},
      "outputs": [],
      "source": [
        "W = np.zeros((T,T))\n",
        "for i in range(T):\n",
        "    for j in range(T):\n",
        "        if np.abs(i-j) ==1 :\n",
        "            W[i,j] = 1\n",
        "        else:\n",
        "            W[i,j] = 0"
      ],
      "id": "6d4ceb77-0736-4818-acf8-96520074c7e8"
    },
    {
      "cell_type": "code",
      "execution_count": null,
      "metadata": {},
      "outputs": [],
      "source": [
        "W"
      ],
      "id": "0345e072-c0af-449e-ba65-2d8df5b11f4c"
    },
    {
      "cell_type": "code",
      "execution_count": null,
      "metadata": {},
      "outputs": [],
      "source": [
        "rst.W = W"
      ],
      "id": "0052ef75-acf9-4790-8b3f-e069a0c6302c"
    },
    {
      "cell_type": "code",
      "execution_count": null,
      "metadata": {},
      "outputs": [],
      "source": [
        "rst.fit()"
      ],
      "id": "c7aff2b8-817b-4742-941f-eb7c620af247"
    },
    {
      "cell_type": "markdown",
      "metadata": {},
      "source": [
        "## Result"
      ],
      "id": "9971b6ec-9250-4edb-89c5-f6fe711653ea"
    },
    {
      "cell_type": "code",
      "execution_count": null,
      "metadata": {},
      "outputs": [],
      "source": [
        "rst.df.merge(covid_final_add,on='Date').sort_values(\"Residual\",ascending=False).iloc[:30,:]"
      ],
      "id": "9818c920-78e2-4a45-8f35-c47925df5225"
    },
    {
      "cell_type": "markdown",
      "metadata": {},
      "source": [
        "# 시도 2"
      ],
      "id": "a868f869-b3f7-4ad2-8e92-1f53768b8a2c"
    },
    {
      "cell_type": "code",
      "execution_count": null,
      "metadata": {},
      "outputs": [],
      "source": [
        "rst2 = Stock_graph(df)"
      ],
      "id": "2d192d45-7a57-440a-acad-9add38841040"
    },
    {
      "cell_type": "code",
      "execution_count": null,
      "metadata": {},
      "outputs": [],
      "source": [
        "len(rst2.df)"
      ],
      "id": "205596d7-438c-4d23-a77f-9580e8495781"
    },
    {
      "cell_type": "code",
      "execution_count": null,
      "metadata": {},
      "outputs": [],
      "source": [
        "T"
      ],
      "id": "fa648325-4c14-4464-9d51-a2e631f95ffe"
    },
    {
      "cell_type": "code",
      "execution_count": null,
      "metadata": {},
      "outputs": [],
      "source": [
        "rst2.df"
      ],
      "id": "52613d2e-05ad-4d30-ae08-e4bf6d9de2b1"
    },
    {
      "cell_type": "code",
      "execution_count": null,
      "metadata": {},
      "outputs": [],
      "source": [
        "rst2.df.sort_values('Country').iloc[:,[9,10]].reset_index().iloc[:,1:].pivot(columns='Country', values='Value').iloc[:,1].dropna()"
      ],
      "id": "1c28cea0-6fe4-4946-b592-d674cfe09796"
    },
    {
      "cell_type": "markdown",
      "metadata": {},
      "source": [
        "## Result"
      ],
      "id": "bd4cd910-e232-41d1-801d-6c9029774cd8"
    },
    {
      "cell_type": "code",
      "execution_count": null,
      "metadata": {},
      "outputs": [],
      "source": [
        "covid_final_add"
      ],
      "id": "76e4f321-b5c8-4e41-90b1-03a2a30eaeee"
    }
  ],
  "nbformat": 4,
  "nbformat_minor": 5,
  "metadata": {
    "kernelspec": {
      "name": "python3",
      "display_name": "Python 3",
      "language": "python"
    },
    "language_info": {
      "name": "python",
      "codemirror_mode": {
        "name": "ipython",
        "version": "3"
      },
      "file_extension": ".py",
      "mimetype": "text/x-python",
      "nbconvert_exporter": "python",
      "pygments_lexer": "ipython3",
      "version": "3.8.0"
    }
  }
}
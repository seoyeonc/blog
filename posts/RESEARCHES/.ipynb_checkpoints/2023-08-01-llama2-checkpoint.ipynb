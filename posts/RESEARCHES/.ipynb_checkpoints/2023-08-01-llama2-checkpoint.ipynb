{
 "cells": [
  {
   "cell_type": "raw",
   "id": "19a1409b-8eb6-49f1-8c2d-aa227c14b8b5",
   "metadata": {
    "id": "cac470df-29e7-4148-9bbd-d8b9a32fa570",
    "tags": []
   },
   "source": [
    "---\n",
    "title: \"**[LLM]**Llama2\"\n",
    "author: \"SEOYEON CHOI\"\n",
    "date: \"2023-08-01\"\n",
    "---"
   ]
  },
  {
   "cell_type": "code",
   "execution_count": null,
   "id": "1612b7d9-e41e-4aef-80a0-ed592f6b8e72",
   "metadata": {},
   "outputs": [],
   "source": []
  }
 ],
 "metadata": {
  "kernelspec": {
   "display_name": "Python 3",
   "language": "python",
   "name": "python3"
  },
  "language_info": {
   "codemirror_mode": {
    "name": "ipython",
    "version": 3
   },
   "file_extension": ".py",
   "mimetype": "text/x-python",
   "name": "python",
   "nbconvert_exporter": "python",
   "pygments_lexer": "ipython3",
   "version": "3.8.0"
  }
 },
 "nbformat": 4,
 "nbformat_minor": 5
}

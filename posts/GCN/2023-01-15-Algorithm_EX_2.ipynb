{
 "cells": [
  {
   "cell_type": "raw",
   "id": "1f53f708-cc1a-4d31-8140-d5c4701b5709",
   "metadata": {
    "id": "cac470df-29e7-4148-9bbd-d8b9a32fa570",
    "tags": []
   },
   "source": [
    "---\n",
    "title: \"GCN Algorithm Example 2\"\n",
    "author: \"SEOYEON CHOI\"\n",
    "date: \"2023-01-15\"\n",
    "categories:\n",
    "  - ST-GCN\n",
    "  - GNAR\n",
    "---"
   ]
  },
  {
   "cell_type": "markdown",
   "id": "cc58d648-4a47-48e6-81fd-aa1ec2c5169d",
   "metadata": {},
   "source": [
    "> Our method"
   ]
  },
  {
   "cell_type": "markdown",
   "id": "bd56212c-4f5e-4bad-9005-36b03947797d",
   "metadata": {},
   "source": [
    "# import"
   ]
  },
  {
   "cell_type": "code",
   "execution_count": 253,
   "id": "7eed5cac-27aa-42f2-a2bf-f5346d8e82ca",
   "metadata": {},
   "outputs": [],
   "source": [
    "import rpy2\n",
    "import rpy2.robjects as ro \n",
    "from rpy2.robjects.vectors import FloatVector \n",
    "from rpy2.robjects.packages import importr\n",
    "\n",
    "import torch\n",
    "import numpy as np\n",
    "from tqdm import tqdm\n",
    "\n",
    "import torch.nn.functional as F\n",
    "from torch_geometric_temporal.nn.recurrent import GConvGRU\n",
    "\n",
    "import matplotlib.pyplot as plt\n",
    "import pandas as pd\n",
    "\n",
    "import time\n",
    "\n",
    "from scipy.interpolate import interp1d\n",
    "\n",
    "import tensorflow as tf"
   ]
  },
  {
   "cell_type": "code",
   "execution_count": 2,
   "id": "2f0e266e-f036-4449-95ce-f67694988030",
   "metadata": {},
   "outputs": [],
   "source": [
    "class RecurrentGCN(torch.nn.Module):\n",
    "    def __init__(self, node_features, filters):\n",
    "        super(RecurrentGCN, self).__init__()\n",
    "        self.recurrent = GConvGRU(node_features, filters, 2)\n",
    "        self.linear = torch.nn.Linear(filters, 1)\n",
    "\n",
    "    def forward(self, x, edge_index, edge_weight):\n",
    "        h = self.recurrent(x, edge_index, edge_weight)\n",
    "        h = F.relu(h)\n",
    "        h = self.linear(h)\n",
    "        return h"
   ]
  },
  {
   "cell_type": "markdown",
   "id": "ec88362e-2f38-4288-b358-232a5108cda5",
   "metadata": {},
   "source": [
    "# R"
   ]
  },
  {
   "cell_type": "code",
   "execution_count": 3,
   "id": "956cb163-e10a-4864-aa7a-02457ec8fb4f",
   "metadata": {},
   "outputs": [],
   "source": [
    "%load_ext rpy2.ipython"
   ]
  },
  {
   "cell_type": "markdown",
   "id": "7e46ac00-9766-4d5a-af7f-d70efe91943a",
   "metadata": {},
   "source": [
    "# 시간측정 방법"
   ]
  },
  {
   "cell_type": "markdown",
   "id": "a24c88da-7798-4a14-8e62-7d2f857789a5",
   "metadata": {},
   "source": [
    "```python\n",
    "t1= time.time()\n",
    "for epoc in range(1000):\n",
    "    ## 1 \n",
    "    yhat = net(x) \n",
    "    ## 2 \n",
    "    loss = loss_fn(yhat,y)\n",
    "    ## 3 \n",
    "    loss.backward()\n",
    "    ## 4 \n",
    "    optimizr.step()\n",
    "    optimizr.zero_grad()\n",
    "t2 = time.time()\n",
    "t2-t1\n",
    "```"
   ]
  },
  {
   "cell_type": "markdown",
   "id": "939cb972-ac4c-4d63-a105-72af475ef3fd",
   "metadata": {
    "tags": []
   },
   "source": [
    "# EbayesThresh"
   ]
  },
  {
   "cell_type": "code",
   "execution_count": 6,
   "id": "e1e3756a-a00d-425b-8b9b-495217caa44f",
   "metadata": {},
   "outputs": [],
   "source": [
    "%%R\n",
    "library(EbayesThresh)\n",
    "set.seed(1)\n",
    "epsilon = rnorm(1000)\n",
    "signal = sample(c(runif(25,-2,-1.5), runif(25,1.5,2), rep(0,950)))\n",
    "index_of_trueoutlier = which(signal!=0)\n",
    "x_ebayes=signal+epsilon"
   ]
  },
  {
   "cell_type": "code",
   "execution_count": 7,
   "id": "d74c90f2-db31-49bf-a22e-ff91f6cb1bc4",
   "metadata": {},
   "outputs": [],
   "source": [
    "%R -o x_ebayes\n",
    "%R -o index_of_trueoutlier\n",
    "%R -o signal"
   ]
  },
  {
   "cell_type": "code",
   "execution_count": null,
   "id": "e946bc10-0200-42b4-b01f-1e9c36e4870c",
   "metadata": {},
   "outputs": [],
   "source": [
    "ebayesthresh = importr('EbayesThresh').ebayesthresh"
   ]
  },
  {
   "cell_type": "code",
   "execution_count": null,
   "id": "9f4501b1-585c-44fb-9093-b14eae0dfcd6",
   "metadata": {},
   "outputs": [],
   "source": [
    "outlier_true_index = index_of_trueoutlier"
   ]
  },
  {
   "cell_type": "code",
   "execution_count": null,
   "id": "437a78f6-9635-40e0-be58-0c15880ce4d5",
   "metadata": {},
   "outputs": [],
   "source": [
    "outlier_true_value = x_ebayes[index_of_trueoutlier]"
   ]
  },
  {
   "cell_type": "code",
   "execution_count": null,
   "id": "71441f71-cf87-458e-a1f1-b3c8fa59bde4",
   "metadata": {},
   "outputs": [],
   "source": [
    "outlier_true_one = signal.copy()"
   ]
  },
  {
   "cell_type": "code",
   "execution_count": null,
   "id": "b395b9c5-2c34-4119-9a67-c9f7fdaa5e68",
   "metadata": {},
   "outputs": [],
   "source": [
    "outlier_true_one = list(map(lambda x: -1 if x!=0 else 1,outlier_true_one))"
   ]
  },
  {
   "cell_type": "markdown",
   "id": "4a45429b-12fe-4502-b81a-90a69e9481f6",
   "metadata": {},
   "source": [
    "# 0. 데이터 가정"
   ]
  },
  {
   "cell_type": "markdown",
   "id": "15280aed-5329-45f1-a3d7-da6b495edc39",
   "metadata": {},
   "source": [
    "데이터가정: missing (결측값) 이 있는 자료를 가정 \n",
    "\n",
    "- missing이 있는상태: ST-GCN 을 사용할 수 X $\\to$ **코드에 에러는 나지 않지만 yhat이 산출되지 않았습니다.**\n",
    "- missing이 없어야만: ST-GCN 을 사용할 수 O "
   ]
  },
  {
   "cell_type": "markdown",
   "id": "f02affbd-205c-403e-a4d0-a178395024e7",
   "metadata": {},
   "source": [
    "# ST-GCN Example Data"
   ]
  },
  {
   "cell_type": "markdown",
   "id": "6dafc189-cf4f-4a7d-999f-a4afc9f016f4",
   "metadata": {},
   "source": [
    "**증명 - missing이 있는상태: ST-GCN 을 사용할 수 X**"
   ]
  },
  {
   "cell_type": "code",
   "execution_count": 532,
   "id": "e87d200f-099d-48c0-bacd-64cd3c02f6cd",
   "metadata": {},
   "outputs": [],
   "source": [
    "from torch_geometric_temporal.dataset import WikiMathsDatasetLoader\n",
    "from torch_geometric_temporal.signal import temporal_signal_split"
   ]
  },
  {
   "cell_type": "code",
   "execution_count": 533,
   "id": "f3b03376-e2ae-49cc-bb85-b8b428086e27",
   "metadata": {},
   "outputs": [],
   "source": [
    "loader = WikiMathsDatasetLoader()"
   ]
  },
  {
   "cell_type": "code",
   "execution_count": 534,
   "id": "2aff69fb-128e-48e0-8b87-1abb231ed756",
   "metadata": {},
   "outputs": [],
   "source": [
    "dataset = loader.get_dataset(lags=1)"
   ]
  },
  {
   "cell_type": "code",
   "execution_count": 535,
   "id": "c6291c30-8d8a-4617-8871-86efeb4e4228",
   "metadata": {},
   "outputs": [],
   "source": [
    "train_dataset, _ = temporal_signal_split(dataset, train_ratio=1)"
   ]
  },
  {
   "cell_type": "markdown",
   "id": "59eb091d-217d-45bd-b2a0-7c32ec64d08a",
   "metadata": {
    "tags": []
   },
   "source": [
    "## 데이터 일부 missing 처리"
   ]
  },
  {
   "cell_type": "code",
   "execution_count": 536,
   "id": "55670720-8fb9-4525-b7e4-52dce598de21",
   "metadata": {},
   "outputs": [],
   "source": [
    "data=[]\n",
    "for time, snapshot in enumerate(train_dataset):\n",
    "    data.append([time,snapshot])"
   ]
  },
  {
   "cell_type": "code",
   "execution_count": 537,
   "id": "83b275bb-8656-4cc2-bbba-453d8048049d",
   "metadata": {},
   "outputs": [
    {
     "data": {
      "text/plain": [
       "(torch.Size([1068, 1]),\n",
       " torch.Size([1068]),\n",
       " torch.Size([2, 27079]),\n",
       " torch.Size([27079]))"
      ]
     },
     "execution_count": 537,
     "metadata": {},
     "output_type": "execute_result"
    }
   ],
   "source": [
    "data[0][1].x.shape,data[0][1].y.shape,data[0][1].edge_index.shape,data[0][1].edge_attr.shape"
   ]
  },
  {
   "cell_type": "code",
   "execution_count": 538,
   "id": "33a8cf52-1c24-4787-9405-e360a70a09eb",
   "metadata": {},
   "outputs": [
    {
     "data": {
      "text/plain": [
       "729"
      ]
     },
     "execution_count": 538,
     "metadata": {},
     "output_type": "execute_result"
    }
   ],
   "source": [
    "time"
   ]
  },
  {
   "cell_type": "code",
   "execution_count": 539,
   "id": "452d9329-e315-426d-a509-a6ceef05fd21",
   "metadata": {},
   "outputs": [],
   "source": [
    "T = time\n",
    "N = len(data[0][1].x)"
   ]
  },
  {
   "cell_type": "code",
   "execution_count": 540,
   "id": "2934d1a9-a995-4fd4-8f3d-cc958f0f0701",
   "metadata": {},
   "outputs": [],
   "source": [
    "edge_index = data[0][1].edge_index\n",
    "edge_attr = data[0][1].edge_attr"
   ]
  },
  {
   "cell_type": "code",
   "execution_count": 541,
   "id": "43d07184-ea28-4aa2-a524-64312a58dd5f",
   "metadata": {},
   "outputs": [],
   "source": [
    "x = []\n",
    "for i in range(time):\n",
    "    x.append(data[i][1].x)"
   ]
  },
  {
   "cell_type": "code",
   "execution_count": 542,
   "id": "d673457f-b0e9-4627-9f4e-b9c7f029890a",
   "metadata": {},
   "outputs": [
    {
     "data": {
      "text/plain": [
       "torch.Size([729, 1068, 1])"
      ]
     },
     "execution_count": 542,
     "metadata": {},
     "output_type": "execute_result"
    }
   ],
   "source": [
    "data_tensor = torch.Tensor()\n",
    "# Iterate over the data points of the dataset\n",
    "for i in x:\n",
    "    # Concatenate the data point to the tensor\n",
    "    data_tensor = torch.cat((data_tensor, i), dim=0)\n",
    "x = data_tensor.reshape(time,1068,-1)\n",
    "x.shape"
   ]
  },
  {
   "cell_type": "code",
   "execution_count": 543,
   "id": "f4e551f3-6af5-4c78-b06a-362637ad3f93",
   "metadata": {},
   "outputs": [
    {
     "data": {
      "text/plain": [
       "[<matplotlib.lines.Line2D at 0x7f8de76e2280>]"
      ]
     },
     "execution_count": 543,
     "metadata": {},
     "output_type": "execute_result"
    },
    {
     "data": {
      "image/png": "[encoded data removed]",
      "text/plain": [
       "<Figure size 432x288 with 1 Axes>"
      ]
     },
     "metadata": {
      "needs_background": "light"
     },
     "output_type": "display_data"
    }
   ],
   "source": [
    "plt.plot(x[0])\n",
    "plt.plot(x[1])\n",
    "plt.plot(x[2])\n",
    "plt.plot(x[3])"
   ]
  },
  {
   "cell_type": "code",
   "execution_count": 544,
   "id": "d4428e4a-b646-4577-897e-e2cbe637f0e6",
   "metadata": {},
   "outputs": [],
   "source": [
    "y = []\n",
    "for i in range(time):\n",
    "    y.append(data[i][1].y)"
   ]
  },
  {
   "cell_type": "code",
   "execution_count": 545,
   "id": "a72a5501-0d23-45de-b376-26bdd58f56f0",
   "metadata": {},
   "outputs": [
    {
     "data": {
      "text/plain": [
       "torch.Size([729, 1068])"
      ]
     },
     "execution_count": 545,
     "metadata": {},
     "output_type": "execute_result"
    }
   ],
   "source": [
    "data_tensor = torch.Tensor()\n",
    "# Iterate over the data points of the dataset\n",
    "for i in y:\n",
    "    # Concatenate the data point to the tensor\n",
    "    data_tensor = torch.cat((data_tensor, i), dim=0)\n",
    "y = data_tensor.reshape(time,1068)\n",
    "y.shape"
   ]
  },
  {
   "cell_type": "code",
   "execution_count": 546,
   "id": "4e39347b-77ae-439f-a7c2-f2cc93a14f00",
   "metadata": {},
   "outputs": [
    {
     "data": {
      "text/plain": [
       "[<matplotlib.lines.Line2D at 0x7f8de73fddf0>]"
      ]
     },
     "execution_count": 546,
     "metadata": {},
     "output_type": "execute_result"
    },
    {
     "data": {
      "image/png": "[encoded data removed]",
      "text/plain": [
       "<Figure size 432x288 with 1 Axes>"
      ]
     },
     "metadata": {
      "needs_background": "light"
     },
     "output_type": "display_data"
    }
   ],
   "source": [
    "plt.plot(y[0])"
   ]
  },
  {
   "cell_type": "code",
   "execution_count": 547,
   "id": "045644a6-7ff4-436b-b06b-98e2f4c026f1",
   "metadata": {},
   "outputs": [],
   "source": [
    "real_y = y.clone()"
   ]
  },
  {
   "cell_type": "markdown",
   "id": "e8bfac4d-d61c-4d78-b983-46b6da552ff5",
   "metadata": {},
   "source": [
    "### 1) Block"
   ]
  },
  {
   "cell_type": "code",
   "execution_count": 489,
   "id": "72efae6e-0185-48a0-8d98-cb26e5fd953d",
   "metadata": {},
   "outputs": [],
   "source": [
    "xblock = x.clone()"
   ]
  },
  {
   "cell_type": "code",
   "execution_count": 490,
   "id": "c80892d6-0006-4eb0-b5b4-d7bf77ceee5e",
   "metadata": {},
   "outputs": [],
   "source": [
    "xblock[5][500:1000] = float('nan')"
   ]
  },
  {
   "cell_type": "code",
   "execution_count": 491,
   "id": "d81fb8f1-14d3-4775-9cca-9e0921ad5bf4",
   "metadata": {},
   "outputs": [
    {
     "data": {
      "text/plain": [
       "[<matplotlib.lines.Line2D at 0x7f8d5dd86b80>]"
      ]
     },
     "execution_count": 491,
     "metadata": {},
     "output_type": "execute_result"
    },
    {
     "data": {
      "image/png": "[encoded data removed]",
      "text/plain": [
       "<Figure size 432x288 with 1 Axes>"
      ]
     },
     "metadata": {
      "needs_background": "light"
     },
     "output_type": "display_data"
    }
   ],
   "source": [
    "plt.plot(xblock[5])"
   ]
  },
  {
   "cell_type": "code",
   "execution_count": 492,
   "id": "9d882257-53e5-4c99-9c97-cc4988e74968",
   "metadata": {},
   "outputs": [],
   "source": [
    "f = xblock"
   ]
  },
  {
   "cell_type": "code",
   "execution_count": 493,
   "id": "9e3b796e-93a7-4595-9da5-0af4272a7078",
   "metadata": {},
   "outputs": [],
   "source": [
    "X = f[:728,:,:]\n",
    "y = f[1:,:,:]"
   ]
  },
  {
   "cell_type": "code",
   "execution_count": 494,
   "id": "3763c163-9237-4a69-a222-abbe6366d89f",
   "metadata": {},
   "outputs": [],
   "source": [
    "model = RecurrentGCN(node_features=1, filters=4)\n",
    "\n",
    "optimizer = torch.optim.Adam(model.parameters(), lr=0.01)"
   ]
  },
  {
   "cell_type": "code",
   "execution_count": 495,
   "id": "4fe084f6-61aa-470d-8052-32d3b462f4e8",
   "metadata": {},
   "outputs": [
    {
     "name": "stderr",
     "output_type": "stream",
     "text": [
      "100%|██████████| 50/50 [06:59<00:00,  8.38s/it]\n"
     ]
    }
   ],
   "source": [
    "for epoch in tqdm(range(50)):\n",
    "    for time, (xt,yt) in enumerate(zip(X,y)):\n",
    "        y_hat = model(xt, edge_index, edge_attr)\n",
    "        cost = torch.mean((y_hat-yt)**2)\n",
    "        cost.backward()\n",
    "        optimizer.step()\n",
    "        optimizer.zero_grad()"
   ]
  },
  {
   "cell_type": "code",
   "execution_count": 496,
   "id": "1202223a-4bf6-41cf-995b-8c1d0f75ea12",
   "metadata": {},
   "outputs": [],
   "source": [
    "yhat = torch.stack([model(xt, edge_index, edge_attr) for xt in X]).detach().numpy()"
   ]
  },
  {
   "cell_type": "code",
   "execution_count": 497,
   "id": "f2a72a03-6ecc-48bb-9a21-aa1930dec658",
   "metadata": {},
   "outputs": [
    {
     "data": {
      "text/plain": [
       "[<matplotlib.lines.Line2D at 0x7f8d5dd19a00>]"
      ]
     },
     "execution_count": 497,
     "metadata": {},
     "output_type": "execute_result"
    },
    {
     "data": {
      "image/png": "[encoded data removed]",
      "text/plain": [
       "<Figure size 432x288 with 1 Axes>"
      ]
     },
     "metadata": {
      "needs_background": "light"
     },
     "output_type": "display_data"
    }
   ],
   "source": [
    "plt.plot(yhat[:,0].data)\n",
    "plt.plot(yhat[:,1].data)\n",
    "plt.plot(yhat[:,2].data)\n",
    "plt.plot(yhat[:,3].data)"
   ]
  },
  {
   "cell_type": "markdown",
   "id": "faf6b889-60c7-4e26-8b56-303e18fa1c83",
   "metadata": {},
   "source": [
    "### 2) Random missing values"
   ]
  },
  {
   "cell_type": "code",
   "execution_count": 498,
   "id": "9bf36aa2-4045-4d2f-97cc-54c39ee6bebf",
   "metadata": {},
   "outputs": [],
   "source": [
    "xrandom = x.clone()"
   ]
  },
  {
   "cell_type": "code",
   "execution_count": 499,
   "id": "19ddec19-1f9c-4fe8-bd3e-d45b2b79fdb0",
   "metadata": {},
   "outputs": [],
   "source": [
    "np.random.seed(1)\n",
    "seed_number = np.random.choice(len(xrandom[0]), 500, replace=False)"
   ]
  },
  {
   "cell_type": "code",
   "execution_count": 500,
   "id": "777ed433-68df-4c3e-9c55-079d5c04eeea",
   "metadata": {},
   "outputs": [],
   "source": [
    "xrandom[5][seed_number] = float('nan')"
   ]
  },
  {
   "cell_type": "code",
   "execution_count": 501,
   "id": "a178b6bc-3193-4fb5-8a42-57153e742316",
   "metadata": {},
   "outputs": [
    {
     "data": {
      "text/plain": [
       "[<matplotlib.lines.Line2D at 0x7f8d5dcb6dc0>]"
      ]
     },
     "execution_count": 501,
     "metadata": {},
     "output_type": "execute_result"
    },
    {
     "data": {
      "image/png": "[encoded data removed]",
      "text/plain": [
       "<Figure size 432x288 with 1 Axes>"
      ]
     },
     "metadata": {
      "needs_background": "light"
     },
     "output_type": "display_data"
    }
   ],
   "source": [
    "plt.plot(xrandom[5])"
   ]
  },
  {
   "cell_type": "markdown",
   "id": "005d66d8-b7ff-44ef-b804-c463099bdefd",
   "metadata": {},
   "source": [
    "### 3) By 2"
   ]
  },
  {
   "cell_type": "code",
   "execution_count": 502,
   "id": "c24d904a-affe-400c-9bf5-4ff7342e7534",
   "metadata": {},
   "outputs": [],
   "source": [
    "xtwo = x.clone()"
   ]
  },
  {
   "cell_type": "code",
   "execution_count": 503,
   "id": "100f855e-5f7c-46b3-8171-50fdbe71fee3",
   "metadata": {},
   "outputs": [],
   "source": [
    "two_number = np.arange(1, N+1, 2)"
   ]
  },
  {
   "cell_type": "code",
   "execution_count": 504,
   "id": "6962791d-239f-48c3-8cbc-deeaf6019307",
   "metadata": {},
   "outputs": [],
   "source": [
    "xtwo[5][two_number] = float('nan')"
   ]
  },
  {
   "cell_type": "code",
   "execution_count": 505,
   "id": "22a40181-e232-4b68-bf03-56328f8105dc",
   "metadata": {},
   "outputs": [
    {
     "data": {
      "text/plain": [
       "[<matplotlib.lines.Line2D at 0x7f8d5dca0af0>]"
      ]
     },
     "execution_count": 505,
     "metadata": {},
     "output_type": "execute_result"
    },
    {
     "data": {
      "image/png": "[encoded data removed]",
      "text/plain": [
       "<Figure size 432x288 with 1 Axes>"
      ]
     },
     "metadata": {
      "needs_background": "light"
     },
     "output_type": "display_data"
    }
   ],
   "source": [
    "plt.plot(xtwo[5],'o')"
   ]
  },
  {
   "cell_type": "markdown",
   "id": "f8fa15d8-a1b7-48ae-a4d9-222e257fe195",
   "metadata": {},
   "source": [
    "# 1. missing을 채움. (mean, linear interpolation) "
   ]
  },
  {
   "cell_type": "markdown",
   "id": "86af40b1-5daf-485f-9cb9-d68315e0d8cf",
   "metadata": {},
   "source": [
    "## 1.1. Mean"
   ]
  },
  {
   "cell_type": "markdown",
   "id": "423a48be-3bfb-4781-8820-979daf352408",
   "metadata": {},
   "source": [
    "### 1) Block"
   ]
  },
  {
   "cell_type": "code",
   "execution_count": 351,
   "id": "45e6f44b-926b-4433-acb8-73392523b39b",
   "metadata": {},
   "outputs": [],
   "source": [
    "xblock_mean = xblock.clone()"
   ]
  },
  {
   "cell_type": "code",
   "execution_count": 352,
   "id": "c0b904cc-19fe-48b4-b69f-c99665b11591",
   "metadata": {},
   "outputs": [],
   "source": [
    "xblock_mean[5][500:1000] = np.mean(xblock_mean[5][:499].tolist()+xblock_mean[5][1000:].tolist())"
   ]
  },
  {
   "cell_type": "code",
   "execution_count": 353,
   "id": "2965ff08-3dd2-4b37-9cff-3fbd7a74cc64",
   "metadata": {},
   "outputs": [
    {
     "data": {
      "text/plain": [
       "[<matplotlib.lines.Line2D at 0x7f8d63aafaf0>]"
      ]
     },
     "execution_count": 353,
     "metadata": {},
     "output_type": "execute_result"
    },
    {
     "data": {
      "image/png": "[encoded data removed]",
      "text/plain": [
       "<Figure size 432x288 with 1 Axes>"
      ]
     },
     "metadata": {
      "needs_background": "light"
     },
     "output_type": "display_data"
    }
   ],
   "source": [
    "plt.plot(xblock_mean[5])"
   ]
  },
  {
   "cell_type": "markdown",
   "id": "2b9c5cab-dde4-416d-9d89-ff957dabfad1",
   "metadata": {},
   "source": [
    "### 2) Random missing values"
   ]
  },
  {
   "cell_type": "code",
   "execution_count": 376,
   "id": "e69fd5ed-0927-44d9-9e68-58eb06c8c8a5",
   "metadata": {},
   "outputs": [],
   "source": [
    "xrandom_mean = xrandom.clone()"
   ]
  },
  {
   "cell_type": "code",
   "execution_count": 395,
   "id": "505b174b-4462-4495-b76b-76729283029a",
   "metadata": {},
   "outputs": [],
   "source": [
    "df = pd.DataFrame(xrandom_mean[5].tolist())\n",
    "mean_value = df.mean() # finds the mean value of the column A\n",
    "df = df.fillna(mean_value) # replace missing values with the mean value"
   ]
  },
  {
   "cell_type": "code",
   "execution_count": 416,
   "id": "ac761678-3a14-458d-8468-619180b88db4",
   "metadata": {},
   "outputs": [],
   "source": [
    "xrandom_mean[5] = torch.Tensor(df.values)"
   ]
  },
  {
   "cell_type": "code",
   "execution_count": 417,
   "id": "b201a288-ddf6-48a9-a718-9ad11db7e968",
   "metadata": {},
   "outputs": [
    {
     "data": {
      "text/plain": [
       "[<matplotlib.lines.Line2D at 0x7f8d63f133d0>]"
      ]
     },
     "execution_count": 417,
     "metadata": {},
     "output_type": "execute_result"
    },
    {
     "data": {
      "image/png": "[encoded data removed]",
      "text/plain": [
       "<Figure size 432x288 with 1 Axes>"
      ]
     },
     "metadata": {
      "needs_background": "light"
     },
     "output_type": "display_data"
    }
   ],
   "source": [
    "plt.plot(xrandom_mean[5])"
   ]
  },
  {
   "cell_type": "markdown",
   "id": "a93a096b-c714-48f3-b928-3250e056cda8",
   "metadata": {},
   "source": [
    "### 3) By 2"
   ]
  },
  {
   "cell_type": "code",
   "execution_count": 418,
   "id": "e8c7e3f0-0c56-4fdc-acef-6cd3ce35e613",
   "metadata": {},
   "outputs": [],
   "source": [
    "xtwo_mean = xtwo.clone()"
   ]
  },
  {
   "cell_type": "code",
   "execution_count": 419,
   "id": "dee94ae9-799b-4dce-8b8a-1f304ccca82b",
   "metadata": {},
   "outputs": [],
   "source": [
    "df = pd.DataFrame(xtwo_mean[5].tolist())\n",
    "mean_value = df.mean() # finds the mean value of the column A\n",
    "df = df.fillna(mean_value) # replace missing values with the mean value"
   ]
  },
  {
   "cell_type": "code",
   "execution_count": 420,
   "id": "dc438fb3-30af-4680-9217-675649b043c0",
   "metadata": {},
   "outputs": [],
   "source": [
    "xtwo_mean[5] = torch.Tensor(df.values)"
   ]
  },
  {
   "cell_type": "code",
   "execution_count": 421,
   "id": "bcd21dc4-11ef-4167-90d6-26792b81e293",
   "metadata": {},
   "outputs": [
    {
     "data": {
      "text/plain": [
       "[<matplotlib.lines.Line2D at 0x7f8d5e18eeb0>]"
      ]
     },
     "execution_count": 421,
     "metadata": {},
     "output_type": "execute_result"
    },
    {
     "data": {
      "image/png": "[encoded data removed]",
      "text/plain": [
       "<Figure size 432x288 with 1 Axes>"
      ]
     },
     "metadata": {
      "needs_background": "light"
     },
     "output_type": "display_data"
    }
   ],
   "source": [
    "plt.plot(xtwo_mean[5])"
   ]
  },
  {
   "cell_type": "markdown",
   "id": "9053da55-7f89-4418-9a78-69b918041f7b",
   "metadata": {},
   "source": [
    "## 1.2. linear interpolation"
   ]
  },
  {
   "cell_type": "markdown",
   "id": "f8594d5c-e11f-46ad-8cfe-7d4ffce12013",
   "metadata": {},
   "source": [
    "### 1) Block"
   ]
  },
  {
   "cell_type": "code",
   "execution_count": 422,
   "id": "118d23c4-06f5-4a69-88ce-a1acbbf71bb1",
   "metadata": {},
   "outputs": [],
   "source": [
    "xblock_linearinterpolation = xblock.clone()"
   ]
  },
  {
   "cell_type": "code",
   "execution_count": 443,
   "id": "bd06e2a5-dee6-4e38-a7d4-9a5f8b9f0c1a",
   "metadata": {},
   "outputs": [
    {
     "name": "stderr",
     "output_type": "stream",
     "text": [
      "/tmp/ipykernel_2879693/2336840081.py:3: FutureWarning: The input object of type 'Tensor' is an array-like implementing one of the corresponding protocols (`__array__`, `__array_interface__` or `__array_struct__`); but not a sequence (or 0-D). In the future, this object will be coerced as if it was first converted using `np.array(obj)`. To retain the old behaviour, you have to either modify the type 'Tensor', or assign to an empty array created with `np.empty(correct_shape, dtype=object)`.\n",
      "  y = np.array([xblock_linearinterpolation[5][499],xblock_linearinterpolation[5][1000]])\n",
      "/tmp/ipykernel_2879693/2336840081.py:3: VisibleDeprecationWarning: Creating an ndarray from ragged nested sequences (which is a list-or-tuple of lists-or-tuples-or ndarrays with different lengths or shapes) is deprecated. If you meant to do this, you must specify 'dtype=object' when creating the ndarray.\n",
      "  y = np.array([xblock_linearinterpolation[5][499],xblock_linearinterpolation[5][1000]])\n"
     ]
    }
   ],
   "source": [
    "# Sample data points\n",
    "x = np.array([499,1000])\n",
    "y = np.array([xblock_linearinterpolation[5][499],xblock_linearinterpolation[5][1000]])\n",
    "\n",
    "# Create interpolating function\n",
    "f = interp1d(x, y, kind='linear')\n",
    "\n",
    "# Estimate y value for x = 2.5\n",
    "y_interp = f(range(500,1000))"
   ]
  },
  {
   "cell_type": "code",
   "execution_count": 447,
   "id": "34f92184-4918-4b96-91ff-06e307146745",
   "metadata": {},
   "outputs": [],
   "source": [
    "xblock_linearinterpolation[5][500:1000] = torch.Tensor(y_interp).reshape(500,1)"
   ]
  },
  {
   "cell_type": "code",
   "execution_count": 448,
   "id": "02398785-dd3e-4da5-b8c2-1b08dcfd203d",
   "metadata": {},
   "outputs": [
    {
     "data": {
      "text/plain": [
       "[<matplotlib.lines.Line2D at 0x7f8d5e046160>]"
      ]
     },
     "execution_count": 448,
     "metadata": {},
     "output_type": "execute_result"
    },
    {
     "data": {
      "image/png": "[encoded data removed]",
      "text/plain": [
       "<Figure size 432x288 with 1 Axes>"
      ]
     },
     "metadata": {
      "needs_background": "light"
     },
     "output_type": "display_data"
    }
   ],
   "source": [
    "plt.plot(xblock_linearinterpolation[5])"
   ]
  },
  {
   "cell_type": "markdown",
   "id": "1267ed86-6c44-41ea-8821-979663b66be8",
   "metadata": {},
   "source": [
    "### 2) Random missing values"
   ]
  },
  {
   "cell_type": "code",
   "execution_count": 450,
   "id": "0bcce78b-14ef-46d7-916f-bf26a1e28695",
   "metadata": {},
   "outputs": [],
   "source": [
    "xrandom_linearinterpolation = xrandom.clone()"
   ]
  },
  {
   "cell_type": "code",
   "execution_count": 451,
   "id": "9202c145-8fad-497f-89fb-70faea90ebf2",
   "metadata": {},
   "outputs": [],
   "source": [
    "df = pd.DataFrame(xrandom_linearinterpolation[5].tolist())\n",
    "df.interpolate(method='linear', inplace=True)\n",
    "df = df.fillna(0)"
   ]
  },
  {
   "cell_type": "code",
   "execution_count": 452,
   "id": "56572d8a-76b7-446e-a1b2-3bbe466a9de2",
   "metadata": {},
   "outputs": [],
   "source": [
    "xrandom_linearinterpolation[5] = torch.Tensor(df.values)"
   ]
  },
  {
   "cell_type": "code",
   "execution_count": 453,
   "id": "c6d718c4-c1bd-4500-ab19-bdb5f68229b5",
   "metadata": {},
   "outputs": [
    {
     "data": {
      "text/plain": [
       "[<matplotlib.lines.Line2D at 0x7f8d5e022970>]"
      ]
     },
     "execution_count": 453,
     "metadata": {},
     "output_type": "execute_result"
    },
    {
     "data": {
      "image/png": "[encoded data removed]",
      "text/plain": [
       "<Figure size 432x288 with 1 Axes>"
      ]
     },
     "metadata": {
      "needs_background": "light"
     },
     "output_type": "display_data"
    }
   ],
   "source": [
    "plt.plot(xrandom_linearinterpolation[5])"
   ]
  },
  {
   "cell_type": "markdown",
   "id": "c3f6c59a-47dd-4428-9dba-226a0664d127",
   "metadata": {},
   "source": [
    "### 3) By 2"
   ]
  },
  {
   "cell_type": "code",
   "execution_count": 454,
   "id": "98a9bad3-ea0c-4cbc-9435-683782ef4d5f",
   "metadata": {},
   "outputs": [],
   "source": [
    "xtwo_linearinterpolation = xtwo.clone()"
   ]
  },
  {
   "cell_type": "code",
   "execution_count": 455,
   "id": "336f7ef4-a29a-4093-8d43-120621dfcced",
   "metadata": {},
   "outputs": [],
   "source": [
    "df = pd.DataFrame(xtwo_linearinterpolation[5].tolist())\n",
    "df.interpolate(method='linear', inplace=True)\n",
    "df = df.fillna(0)"
   ]
  },
  {
   "cell_type": "code",
   "execution_count": 456,
   "id": "c83e2e43-a21d-462b-aca4-15cf9c53c842",
   "metadata": {},
   "outputs": [],
   "source": [
    "xtwo_linearinterpolation[5] = torch.Tensor(df.values)"
   ]
  },
  {
   "cell_type": "code",
   "execution_count": 457,
   "id": "703f3842-56b3-4b10-822d-03ec08bb6730",
   "metadata": {},
   "outputs": [
    {
     "data": {
      "text/plain": [
       "[<matplotlib.lines.Line2D at 0x7f8d5df90640>]"
      ]
     },
     "execution_count": 457,
     "metadata": {},
     "output_type": "execute_result"
    },
    {
     "data": {
      "image/png": "[encoded data removed]",
      "text/plain": [
       "<Figure size 432x288 with 1 Axes>"
      ]
     },
     "metadata": {
      "needs_background": "light"
     },
     "output_type": "display_data"
    }
   ],
   "source": [
    "plt.plot(xtwo_linearinterpolation[5])"
   ]
  },
  {
   "cell_type": "markdown",
   "id": "b907b499-0076-49d7-897f-bae5190dbce1",
   "metadata": {},
   "source": [
    "## 1.3. Normal distribution Random Values"
   ]
  },
  {
   "cell_type": "markdown",
   "id": "d760e4f8-faee-4d08-acc3-28ede110eabc",
   "metadata": {},
   "source": [
    "### 1) Block"
   ]
  },
  {
   "cell_type": "code",
   "execution_count": 458,
   "id": "30eabe49-dad1-4066-b1c8-143c6a3758fc",
   "metadata": {},
   "outputs": [],
   "source": [
    "xblock_normal = xblock.clone()"
   ]
  },
  {
   "cell_type": "code",
   "execution_count": 461,
   "id": "4ce6d957-99e2-4c67-8195-30913f6039c1",
   "metadata": {},
   "outputs": [],
   "source": [
    "xblock_normal[5][500:1000] = torch.tensor(np.random.normal(loc=0,scale=0.2,size=500)).reshape(500,1)"
   ]
  },
  {
   "cell_type": "code",
   "execution_count": 462,
   "id": "e5d4bc37-3130-4063-9aaf-aa193ee81941",
   "metadata": {},
   "outputs": [
    {
     "data": {
      "text/plain": [
       "[<matplotlib.lines.Line2D at 0x7f8d5def54c0>]"
      ]
     },
     "execution_count": 462,
     "metadata": {},
     "output_type": "execute_result"
    },
    {
     "data": {
      "image/png": "[encoded data removed]",
      "text/plain": [
       "<Figure size 432x288 with 1 Axes>"
      ]
     },
     "metadata": {
      "needs_background": "light"
     },
     "output_type": "display_data"
    }
   ],
   "source": [
    "plt.plot(xblock_normal[5])"
   ]
  },
  {
   "cell_type": "markdown",
   "id": "776a7867-ec77-4da0-ba24-caedcdd183fa",
   "metadata": {},
   "source": [
    "### 2) Random missing values"
   ]
  },
  {
   "cell_type": "code",
   "execution_count": 463,
   "id": "bf36b574-2851-419f-9046-adbfb70f6822",
   "metadata": {},
   "outputs": [],
   "source": [
    "xrandom_normal = xrandom.clone()"
   ]
  },
  {
   "cell_type": "code",
   "execution_count": 470,
   "id": "bf0eca36-934a-4220-bde3-4bf1940b5eae",
   "metadata": {},
   "outputs": [],
   "source": [
    "xrandom_normal[5][seed_number] = torch.tensor(np.random.normal(loc=0,scale=0.2,size=500),dtype=torch.float32).reshape(500,1)"
   ]
  },
  {
   "cell_type": "code",
   "execution_count": 471,
   "id": "31c2b162-4534-43af-8d2c-412e358fce2a",
   "metadata": {},
   "outputs": [
    {
     "data": {
      "text/plain": [
       "[<matplotlib.lines.Line2D at 0x7f8d5dedf1f0>]"
      ]
     },
     "execution_count": 471,
     "metadata": {},
     "output_type": "execute_result"
    },
    {
     "data": {
      "image/png": "[encoded data removed]",
      "text/plain": [
       "<Figure size 432x288 with 1 Axes>"
      ]
     },
     "metadata": {
      "needs_background": "light"
     },
     "output_type": "display_data"
    }
   ],
   "source": [
    "plt.plot(xrandom_normal[5])"
   ]
  },
  {
   "cell_type": "markdown",
   "id": "3a0329b1-469e-4dbf-a16d-e679c416b6b1",
   "metadata": {},
   "source": [
    "### 3) By 2"
   ]
  },
  {
   "cell_type": "code",
   "execution_count": 506,
   "id": "6618993f-e557-4fcc-a607-fde4e1f4c8a4",
   "metadata": {},
   "outputs": [],
   "source": [
    "xtwo_normal = xtwo.clone()"
   ]
  },
  {
   "cell_type": "code",
   "execution_count": 507,
   "id": "f9c63a53-27da-4644-9eed-37e25b74bba3",
   "metadata": {},
   "outputs": [],
   "source": [
    "xtwo_normal[5][seed_number] = torch.tensor(np.random.normal(loc=0,scale=0.2,size=500),dtype=torch.float32).reshape(500,1)"
   ]
  },
  {
   "cell_type": "code",
   "execution_count": 508,
   "id": "556bd2b2-75eb-4f9d-8055-92ebd8d70f5e",
   "metadata": {},
   "outputs": [
    {
     "data": {
      "text/plain": [
       "[<matplotlib.lines.Line2D at 0x7f8d5dbc0d30>]"
      ]
     },
     "execution_count": 508,
     "metadata": {},
     "output_type": "execute_result"
    },
    {
     "data": {
      "image/png": "[encoded data removed]",
      "text/plain": [
       "<Figure size 432x288 with 1 Axes>"
      ]
     },
     "metadata": {
      "needs_background": "light"
     },
     "output_type": "display_data"
    }
   ],
   "source": [
    "plt.plot(xtwo_normal[5])"
   ]
  },
  {
   "cell_type": "markdown",
   "id": "e8c9536a-9953-4d86-8377-f757d04c195a",
   "metadata": {
    "tags": []
   },
   "source": [
    "# 2. ST-GCN 을 사용하여 fhat을 구함. (스무딩1) "
   ]
  },
  {
   "cell_type": "markdown",
   "id": "2b913a30-309b-42bb-934d-de94840fcc3c",
   "metadata": {},
   "source": [
    "# GNAR이랑 비교해보기\n",
    "- MSE 등 평가지표"
   ]
  },
  {
   "cell_type": "markdown",
   "id": "18bbb5d5-35ef-41c1-8e14-4370b5f30730",
   "metadata": {
    "tags": []
   },
   "source": [
    "## 2.1. Mean"
   ]
  },
  {
   "cell_type": "markdown",
   "id": "54ddc89e-233c-4678-acf9-a62d58749d40",
   "metadata": {},
   "source": [
    "### 1) Block"
   ]
  },
  {
   "cell_type": "code",
   "execution_count": 512,
   "id": "531fdfe4-970f-45d6-983a-a2fe0b52a897",
   "metadata": {},
   "outputs": [],
   "source": [
    "f_xblock_mean = xblock_mean.clone()"
   ]
  },
  {
   "cell_type": "code",
   "execution_count": 531,
   "id": "d2972563-b290-46a4-abb6-609778db1595",
   "metadata": {},
   "outputs": [
    {
     "name": "stderr",
     "output_type": "stream",
     "text": [
      "100%|██████████| 50/50 [07:39<00:00,  9.20s/it]\n"
     ]
    }
   ],
   "source": [
    "model = RecurrentGCN(node_features=1, filters=4)\n",
    "\n",
    "optimizer = torch.optim.Adam(model.parameters(), lr=0.01)\n",
    "\n",
    "model.train()\n",
    "\n",
    "for epoch in tqdm(range(50)):\n",
    "    for time, (xt,yt) in enumerate(zip(f_xblock_mean,real_y)):\n",
    "        y_hat = model(xt, edge_index, edge_attr)\n",
    "        cost = torch.mean((y_hat-yt)**2)\n",
    "        cost.backward()\n",
    "        optimizer.step()\n",
    "        optimizer.zero_grad()"
   ]
  },
  {
   "cell_type": "code",
   "execution_count": 548,
   "id": "b45434e8-bd5c-4b3f-a727-9d5bb6a4dae9",
   "metadata": {},
   "outputs": [],
   "source": [
    "fhat_xblock_mean = torch.stack([model(xt, edge_index, edge_attr) for xt in f_xblock_mean]).detach().numpy()"
   ]
  },
  {
   "cell_type": "code",
   "execution_count": 549,
   "id": "52915bbe-0243-43b7-9aeb-b2af2874a840",
   "metadata": {},
   "outputs": [
    {
     "data": {
      "text/plain": [
       "[<matplotlib.lines.Line2D at 0x7f8de62584f0>]"
      ]
     },
     "execution_count": 549,
     "metadata": {},
     "output_type": "execute_result"
    },
    {
     "data": {
      "image/png": "[encoded data removed]",
      "text/plain": [
       "<Figure size 432x288 with 1 Axes>"
      ]
     },
     "metadata": {
      "needs_background": "light"
     },
     "output_type": "display_data"
    }
   ],
   "source": [
    "plt.plot(fhat_xblock_mean[5].data)"
   ]
  },
  {
   "cell_type": "markdown",
   "id": "776091e5-9208-46d8-8f7f-f9b2e7161562",
   "metadata": {},
   "source": [
    "### 2) Random missing values"
   ]
  },
  {
   "cell_type": "code",
   "execution_count": 550,
   "id": "bf2533b1-2c44-47af-8d75-cf4bfcbc48a7",
   "metadata": {},
   "outputs": [],
   "source": [
    "f_xrandom_mean = xrandom_mean.clone()"
   ]
  },
  {
   "cell_type": "code",
   "execution_count": 551,
   "id": "2f53f120-b931-4597-85f0-07a3934293f3",
   "metadata": {},
   "outputs": [
    {
     "name": "stderr",
     "output_type": "stream",
     "text": [
      "100%|██████████| 50/50 [07:53<00:00,  9.48s/it]\n"
     ]
    }
   ],
   "source": [
    "model = RecurrentGCN(node_features=1, filters=4)\n",
    "\n",
    "optimizer = torch.optim.Adam(model.parameters(), lr=0.01)\n",
    "\n",
    "model.train()\n",
    "\n",
    "for epoch in tqdm(range(50)):\n",
    "    for time, (xt,yt) in enumerate(zip(f_xrandom_mean,real_y)):\n",
    "        y_hat = model(xt, edge_index, edge_attr)\n",
    "        cost = torch.mean((y_hat-yt)**2)\n",
    "        cost.backward()\n",
    "        optimizer.step()\n",
    "        optimizer.zero_grad()"
   ]
  },
  {
   "cell_type": "code",
   "execution_count": 552,
   "id": "ce4ec776-45ce-4e99-a961-3bfe6f5dac63",
   "metadata": {},
   "outputs": [],
   "source": [
    "fhat_xrandom_mean = torch.stack([model(xt, edge_index, edge_attr) for xt in f_xrandom_mean]).detach().numpy()"
   ]
  },
  {
   "cell_type": "code",
   "execution_count": 553,
   "id": "6bac35eb-b019-47c6-9140-0580ddfec880",
   "metadata": {},
   "outputs": [
    {
     "data": {
      "text/plain": [
       "[<matplotlib.lines.Line2D at 0x7f8d5c880c40>]"
      ]
     },
     "execution_count": 553,
     "metadata": {},
     "output_type": "execute_result"
    },
    {
     "data": {
      "image/png": "[encoded data removed]",
      "text/plain": [
       "<Figure size 432x288 with 1 Axes>"
      ]
     },
     "metadata": {
      "needs_background": "light"
     },
     "output_type": "display_data"
    }
   ],
   "source": [
    "plt.plot(fhat_xrandom_mean[5].data)"
   ]
  },
  {
   "cell_type": "markdown",
   "id": "18022d85-5a7f-43f9-8319-7bc16cb30463",
   "metadata": {},
   "source": [
    "### 3) By 2"
   ]
  },
  {
   "cell_type": "code",
   "execution_count": 554,
   "id": "9530fe23-8303-45b8-931b-bb697e57c056",
   "metadata": {},
   "outputs": [],
   "source": [
    "f_xtwo_mean = xtwo_mean.clone()"
   ]
  },
  {
   "cell_type": "code",
   "execution_count": 555,
   "id": "c1df8646-954d-46ae-97b5-e0c834cd67b8",
   "metadata": {},
   "outputs": [
    {
     "name": "stderr",
     "output_type": "stream",
     "text": [
      "100%|██████████| 50/50 [07:42<00:00,  9.25s/it]\n"
     ]
    }
   ],
   "source": [
    "model = RecurrentGCN(node_features=1, filters=4)\n",
    "\n",
    "optimizer = torch.optim.Adam(model.parameters(), lr=0.01)\n",
    "\n",
    "model.train()\n",
    "\n",
    "for epoch in tqdm(range(50)):\n",
    "    for time, (xt,yt) in enumerate(zip(f_xtwo_mean,real_y)):\n",
    "        y_hat = model(xt, edge_index, edge_attr)\n",
    "        cost = torch.mean((y_hat-yt)**2)\n",
    "        cost.backward()\n",
    "        optimizer.step()\n",
    "        optimizer.zero_grad()"
   ]
  },
  {
   "cell_type": "code",
   "execution_count": 556,
   "id": "2f02ca7d-fbfa-429b-a197-b0936ef4f851",
   "metadata": {},
   "outputs": [],
   "source": [
    "fhat_xtwo_mean = torch.stack([model(xt, edge_index, edge_attr) for xt in f_xtwo_mean]).detach().numpy()"
   ]
  },
  {
   "cell_type": "code",
   "execution_count": 557,
   "id": "c51ac002-10ac-4ed8-abac-6f070474ebdd",
   "metadata": {},
   "outputs": [
    {
     "data": {
      "text/plain": [
       "[<matplotlib.lines.Line2D at 0x7f8d9cfe2040>]"
      ]
     },
     "execution_count": 557,
     "metadata": {},
     "output_type": "execute_result"
    },
    {
     "data": {
      "image/png": "[encoded data removed]",
      "text/plain": [
       "<Figure size 432x288 with 1 Axes>"
      ]
     },
     "metadata": {
      "needs_background": "light"
     },
     "output_type": "display_data"
    }
   ],
   "source": [
    "plt.plot(fhat_xtwo_mean[5].data)"
   ]
  },
  {
   "cell_type": "markdown",
   "id": "2adf36bc-2a9e-4018-95ba-449b4607796e",
   "metadata": {},
   "source": [
    "## 2.2. linear interpolation"
   ]
  },
  {
   "cell_type": "markdown",
   "id": "852ba859-cc79-4c18-87f0-75b771686234",
   "metadata": {},
   "source": [
    "### 1) Block"
   ]
  },
  {
   "cell_type": "code",
   "execution_count": 558,
   "id": "3ca7a2f9-47bf-46b2-b21f-a2c6edfff353",
   "metadata": {},
   "outputs": [],
   "source": [
    "f_block_linearinterpolation = xblock_linearinterpolation.clone()"
   ]
  },
  {
   "cell_type": "code",
   "execution_count": null,
   "id": "10abc96a-2d4e-4d8c-8603-6b78bb287477",
   "metadata": {},
   "outputs": [],
   "source": [
    "X_linearinterpolation = f_mean[:199,:,:]\n",
    "y_linearinterpolation = f_mean[1:,:,:]"
   ]
  },
  {
   "cell_type": "code",
   "execution_count": null,
   "id": "5900aa64-8c6f-4cb9-ab2d-da4d51b2485a",
   "metadata": {},
   "outputs": [],
   "source": [
    "model = RecurrentGCN(node_features=1, filters=4)\n",
    "\n",
    "optimizer = torch.optim.Adam(model.parameters(), lr=0.01)\n",
    "\n",
    "model.train()\n",
    "\n",
    "for epoch in tqdm(range(50)):\n",
    "    for time, (xt,yt) in enumerate(zip(X_linearinterpolation,y_linearinterpolation)):\n",
    "        y_hat = model(xt, edge_index, edge_attr)\n",
    "        cost = torch.mean((y_hat-yt)**2)\n",
    "        cost.backward()\n",
    "        optimizer.step()\n",
    "        optimizer.zero_grad()"
   ]
  },
  {
   "cell_type": "code",
   "execution_count": null,
   "id": "ba6c23d7-b8fa-455b-ab60-2ec6089f6cc6",
   "metadata": {},
   "outputs": [],
   "source": [
    "fhat_linearinterpolation = torch.stack([model(xt, edge_index, edge_attr) for xt in X_linearinterpolation]).detach().numpy()"
   ]
  },
  {
   "cell_type": "code",
   "execution_count": null,
   "id": "f2d0e1d7-7688-458b-bc04-85327ddc4b21",
   "metadata": {},
   "outputs": [],
   "source": [
    "plt.plot(fhat_linearinterpolation[:,2].data)"
   ]
  },
  {
   "cell_type": "markdown",
   "id": "2772fca8-97d4-4b62-9ec6-bc381fe1949f",
   "metadata": {},
   "source": [
    "### 2) Random missing values"
   ]
  },
  {
   "cell_type": "code",
   "execution_count": null,
   "id": "e3b46719-db67-4d62-a9b2-df8037144782",
   "metadata": {},
   "outputs": [],
   "source": [
    "f_fiveVTSrandom_linearinterpolation = torch.tensor(fiveVTSrandom_linearinterpolation).reshape(200,5,1).float()"
   ]
  },
  {
   "cell_type": "code",
   "execution_count": null,
   "id": "d7beb8e8-c876-415b-be74-767a09ce1b62",
   "metadata": {},
   "outputs": [],
   "source": [
    "X_fiveVTSrandom_linearinterpolation = f_fiveVTSrandom_linearinterpolation[:199,:,:]\n",
    "y_fiveVTSrandom_linearinterpolation = f_fiveVTSrandom_linearinterpolation[1:,:,:]"
   ]
  },
  {
   "cell_type": "code",
   "execution_count": null,
   "id": "a281f7da-8f2c-4073-9717-e03c50bb7bee",
   "metadata": {},
   "outputs": [],
   "source": [
    "model = RecurrentGCN(node_features=1, filters=4)\n",
    "\n",
    "optimizer = torch.optim.Adam(model.parameters(), lr=0.01)\n",
    "\n",
    "model.train()\n",
    "\n",
    "for epoch in tqdm(range(50)):\n",
    "    for time, (xt,yt) in enumerate(zip(X_fiveVTSrandom_linearinterpolation,y_fiveVTSrandom_linearinterpolation)):\n",
    "        y_hat = model(xt, edge_index, edge_attr)\n",
    "        cost = torch.mean((y_hat-yt)**2)\n",
    "        cost.backward()\n",
    "        optimizer.step()\n",
    "        optimizer.zero_grad()"
   ]
  },
  {
   "cell_type": "code",
   "execution_count": null,
   "id": "787ab7b4-8339-4a1d-9502-da41747f1178",
   "metadata": {},
   "outputs": [],
   "source": [
    "fhat_fiveVTSrandom_linearinterpolation = torch.stack([model(xt, edge_index, edge_attr) for xt in X_fiveVTSrandom_linearinterpolation]).detach().numpy()"
   ]
  },
  {
   "cell_type": "code",
   "execution_count": null,
   "id": "5fae3f6e-67e3-4d06-bdf4-017f1f176477",
   "metadata": {},
   "outputs": [],
   "source": [
    "plt.plot(fhat_fiveVTSrandom_linearinterpolation[:,2].data)"
   ]
  },
  {
   "cell_type": "markdown",
   "id": "eb1e5ae5-a358-4102-b3c7-0b6dfdd638c1",
   "metadata": {},
   "source": [
    "### 3) By 2"
   ]
  },
  {
   "cell_type": "code",
   "execution_count": null,
   "id": "811764ae-aa28-4d1d-81a4-f03d594ff766",
   "metadata": {},
   "outputs": [],
   "source": [
    "f_fiveVTStwo_linearinterpolation = torch.tensor(fiveVTStwo_linearinterpolation).reshape(200,5,1).float()"
   ]
  },
  {
   "cell_type": "code",
   "execution_count": null,
   "id": "3ac046d4-1586-47be-be95-996175dfbe88",
   "metadata": {},
   "outputs": [],
   "source": [
    "X_fiveVTStwo_linearinterpolation = f_fiveVTSrandom_linearinterpolation[:199,:,:]\n",
    "y_fiveVTStwo_linearinterpolation = f_fiveVTSrandom_linearinterpolation[1:,:,:]"
   ]
  },
  {
   "cell_type": "code",
   "execution_count": null,
   "id": "8a59f6d8-0a13-4fca-91e8-b04edf697aef",
   "metadata": {},
   "outputs": [],
   "source": [
    "model = RecurrentGCN(node_features=1, filters=4)\n",
    "\n",
    "optimizer = torch.optim.Adam(model.parameters(), lr=0.01)\n",
    "\n",
    "model.train()\n",
    "\n",
    "for epoch in tqdm(range(50)):\n",
    "    for time, (xt,yt) in enumerate(zip(X_fiveVTStwo_linearinterpolation,y_fiveVTStwo_linearinterpolation)):\n",
    "        y_hat = model(xt, edge_index, edge_attr)\n",
    "        cost = torch.mean((y_hat-yt)**2)\n",
    "        cost.backward()\n",
    "        optimizer.step()\n",
    "        optimizer.zero_grad()"
   ]
  },
  {
   "cell_type": "code",
   "execution_count": null,
   "id": "77fcd30c-de20-4da4-a2e1-95807cf24aed",
   "metadata": {},
   "outputs": [],
   "source": [
    "fhat_fiveVTStwo_linearinterpolation = torch.stack([model(xt, edge_index, edge_attr) for xt in X_fiveVTStwo_linearinterpolation]).detach().numpy()"
   ]
  },
  {
   "cell_type": "code",
   "execution_count": null,
   "id": "9b516386-07ae-46ac-88ca-879d846ac4f9",
   "metadata": {},
   "outputs": [],
   "source": [
    "plt.plot(fhat_fiveVTStwo_linearinterpolation[:,2].data)"
   ]
  },
  {
   "cell_type": "markdown",
   "id": "27b5159d-bc32-4f9e-91f4-9b978c7ae1f5",
   "metadata": {
    "tags": []
   },
   "source": [
    "## 2.3. Normal distribution Random Values"
   ]
  },
  {
   "cell_type": "markdown",
   "id": "30eb1c41-bf27-4124-9b71-efa9c035c4ef",
   "metadata": {},
   "source": [
    "### 1) Block"
   ]
  },
  {
   "cell_type": "code",
   "execution_count": null,
   "id": "e0c4bce6-668b-4a14-b8e2-d411b360851b",
   "metadata": {},
   "outputs": [],
   "source": [
    "f_normal = torch.tensor(fiveVTS0_normal).reshape(200,5,1).float()"
   ]
  },
  {
   "cell_type": "code",
   "execution_count": null,
   "id": "ef6582ee-766a-4d22-b9eb-be18a1775b1a",
   "metadata": {},
   "outputs": [],
   "source": [
    "X_normal = f_normal[:199,:,:]\n",
    "y_normal = f_normal[1:,:,:]"
   ]
  },
  {
   "cell_type": "code",
   "execution_count": null,
   "id": "bed01093-5abf-485c-849e-b7bbe6cd772c",
   "metadata": {},
   "outputs": [],
   "source": [
    "model = RecurrentGCN(node_features=1, filters=4)\n",
    "\n",
    "optimizer = torch.optim.Adam(model.parameters(), lr=0.01)\n",
    "\n",
    "model.train()\n",
    "\n",
    "for epoch in tqdm(range(50)):\n",
    "    for time, (xt,yt) in enumerate(zip(X_normal,y_normal)):\n",
    "        y_hat = model(xt, edge_index, edge_attr)\n",
    "        cost = torch.mean((y_hat-yt)**2)\n",
    "        cost.backward()\n",
    "        optimizer.step()\n",
    "        optimizer.zero_grad()"
   ]
  },
  {
   "cell_type": "code",
   "execution_count": null,
   "id": "84f564bc-a0df-4876-95ac-aea687c5ccdb",
   "metadata": {},
   "outputs": [],
   "source": [
    "fhat_normal = torch.stack([model(xt, edge_index, edge_attr) for xt in X_normal]).detach().numpy()"
   ]
  },
  {
   "cell_type": "code",
   "execution_count": null,
   "id": "6f16c2d9-8df5-41c4-8cbc-b705692e7ea7",
   "metadata": {},
   "outputs": [],
   "source": [
    "plt.plot(fhat_normal[:,2].data)"
   ]
  },
  {
   "cell_type": "markdown",
   "id": "8989a75d-fe23-4bbf-ae3b-612f8240b13f",
   "metadata": {},
   "source": [
    "### 2) Random missing values"
   ]
  },
  {
   "cell_type": "code",
   "execution_count": null,
   "id": "a7274834-96f6-42b8-9f06-4815fb8c0272",
   "metadata": {},
   "outputs": [],
   "source": [
    "f_fiveVTSrandom_normal = torch.tensor(fiveVTSrandom_normal).reshape(200,5,1).float()"
   ]
  },
  {
   "cell_type": "code",
   "execution_count": null,
   "id": "3102a4b2-c00d-42f2-8791-c558537375c0",
   "metadata": {},
   "outputs": [],
   "source": [
    "X_fiveVTSrandom_normal = f_fiveVTSrandom_normal[:199,:,:]\n",
    "y_fiveVTSrandom_normal = f_fiveVTSrandom_normal[1:,:,:]"
   ]
  },
  {
   "cell_type": "code",
   "execution_count": null,
   "id": "01500353-b739-48f7-83d7-ed2dd09a1e52",
   "metadata": {},
   "outputs": [],
   "source": [
    "model = RecurrentGCN(node_features=1, filters=4)\n",
    "\n",
    "optimizer = torch.optim.Adam(model.parameters(), lr=0.01)\n",
    "\n",
    "model.train()\n",
    "\n",
    "for epoch in tqdm(range(50)):\n",
    "    for time, (xt,yt) in enumerate(zip(X_fiveVTSrandom_normal,y_fiveVTSrandom_normal)):\n",
    "        y_hat = model(xt, edge_index, edge_attr)\n",
    "        cost = torch.mean((y_hat-yt)**2)\n",
    "        cost.backward()\n",
    "        optimizer.step()\n",
    "        optimizer.zero_grad()"
   ]
  },
  {
   "cell_type": "code",
   "execution_count": null,
   "id": "a23dee94-5219-4673-8457-df1a358f3c15",
   "metadata": {},
   "outputs": [],
   "source": [
    "fhat_fiveVTSrandom_normal = torch.stack([model(xt, edge_index, edge_attr) for xt in X_fiveVTSrandom_normal]).detach().numpy()"
   ]
  },
  {
   "cell_type": "code",
   "execution_count": null,
   "id": "0a9543ed-678c-4d84-9c1f-84edebe19738",
   "metadata": {},
   "outputs": [],
   "source": [
    "plt.plot(fhat_fiveVTSrandom_normal[:,2].data)"
   ]
  },
  {
   "cell_type": "markdown",
   "id": "f8860d24-97fe-493e-b47f-d1b071b6db32",
   "metadata": {},
   "source": [
    "### 3) By 2"
   ]
  },
  {
   "cell_type": "code",
   "execution_count": null,
   "id": "f7a88653-fe3f-47a9-974b-efb9e43bc7d2",
   "metadata": {},
   "outputs": [],
   "source": [
    "f_fiveVTStwo_normal = torch.tensor(fiveVTStwo_normal).reshape(200,5,1).float()"
   ]
  },
  {
   "cell_type": "code",
   "execution_count": null,
   "id": "01ba3520-a2b1-4315-99fd-06bd0377dc6a",
   "metadata": {},
   "outputs": [],
   "source": [
    "X_fiveVTStwo_normal = f_fiveVTStwo_normal[:199,:,:]\n",
    "y_fiveVTStwo_normal = f_fiveVTStwo_normal[1:,:,:]"
   ]
  },
  {
   "cell_type": "code",
   "execution_count": null,
   "id": "464d1c58-e548-4c67-a630-b3805e1b3065",
   "metadata": {},
   "outputs": [],
   "source": [
    "model = RecurrentGCN(node_features=1, filters=4)\n",
    "\n",
    "optimizer = torch.optim.Adam(model.parameters(), lr=0.01)\n",
    "\n",
    "model.train()\n",
    "\n",
    "for epoch in tqdm(range(50)):\n",
    "    for time, (xt,yt) in enumerate(zip(X_fiveVTStwo_normal,y_fiveVTStwo_normal)):\n",
    "        y_hat = model(xt, edge_index, edge_attr)\n",
    "        cost = torch.mean((y_hat-yt)**2)\n",
    "        cost.backward()\n",
    "        optimizer.step()\n",
    "        optimizer.zero_grad()"
   ]
  },
  {
   "cell_type": "code",
   "execution_count": null,
   "id": "7da374b2-6cc6-4ead-99c6-0cd0a18fc78f",
   "metadata": {},
   "outputs": [],
   "source": [
    "fhat_fiveVTStwo_normal = torch.stack([model(xt, edge_index, edge_attr) for xt in X_fiveVTStwo_normal]).detach().numpy()"
   ]
  },
  {
   "cell_type": "code",
   "execution_count": null,
   "id": "bd6137c6-ef8f-430f-9733-5842203b214d",
   "metadata": {},
   "outputs": [],
   "source": [
    "plt.plot(fhat_fiveVTStwo_normal[:,2].data)"
   ]
  },
  {
   "cell_type": "markdown",
   "id": "3d007949-a531-4888-ba17-c9a44dd4290c",
   "metadata": {},
   "source": [
    "# 3. 2에서 얻은 fhat을 이용하여 그래프퓨리에변환+Ebayesthresh (스무딩2)  "
   ]
  },
  {
   "cell_type": "markdown",
   "id": "f8281ebb-5a06-4fb1-8b59-9b5b16f74eb5",
   "metadata": {},
   "source": [
    "- 그래프퓨리에변환을 하는 가중치\n",
    "- 년도끼리 이어주어서 하나의 큰 그래프로 만든뒤에 GFT \n",
    "- Ebayesthresh "
   ]
  },
  {
   "cell_type": "markdown",
   "id": "3ccc19be-1677-42b6-808f-62e297182ee0",
   "metadata": {
    "tags": []
   },
   "source": [
    "## 3.1. Mean"
   ]
  },
  {
   "cell_type": "markdown",
   "id": "ae656f04-bbda-4919-8c8a-e6cc444fb14b",
   "metadata": {},
   "source": [
    "### 3.1.1. Temporal"
   ]
  },
  {
   "cell_type": "markdown",
   "id": "d68965f6-cd2f-4add-acd0-4162d4adee05",
   "metadata": {},
   "source": [
    "#### 1) Block"
   ]
  },
  {
   "cell_type": "code",
   "execution_count": null,
   "id": "2feafadc-8eb7-43d5-b105-c64f18a4aac0",
   "metadata": {},
   "outputs": [],
   "source": [
    "w=np.zeros((5,199,199))"
   ]
  },
  {
   "cell_type": "code",
   "execution_count": null,
   "id": "55dccf28-a04a-4ee9-88ff-df2c643456d5",
   "metadata": {},
   "outputs": [],
   "source": [
    "for k in range(5):\n",
    "    for i in range(199):\n",
    "        for j in range(199):\n",
    "            if i==j :\n",
    "                w[k,i,j] = 0\n",
    "            elif np.abs(i-j) <= 1 : \n",
    "                w[k,i,j] = 1"
   ]
  },
  {
   "cell_type": "code",
   "execution_count": null,
   "id": "7bb60443-3540-4bf1-951f-357a0562e5b8",
   "metadata": {},
   "outputs": [],
   "source": [
    "d = np.array([w[i].sum(axis=1) for i in range(5)])\n",
    "D= np.array([np.diag(d[i]) for i in range(5)])\n",
    "L = np.array([np.diag(1/np.sqrt(d[i])) @ (D[i]-w[i]) @ np.diag(1/np.sqrt(d[i])) for i in range(5)])\n",
    "lamb, Psi  = np.linalg.eigh(L)[0],np.linalg.eigh(L)[1]\n",
    "Lamb = np.array([np.diag(lamb[i]) for i in range(5)])    \n",
    "fhatbar = np.hstack([Psi[i] @ fhat_mean[:,i] for i in range(5)])\n",
    "_fhatbar = fhatbar.reshape(5,199)\n",
    "power = _fhatbar**2 \n",
    "ebayesthresh = importr('EbayesThresh').ebayesthresh\n",
    "power_threshed=np.array([np.array(ebayesthresh(FloatVector(_fhatbar[i]**2))) for i in range(5)])\n",
    "fhatbar_threshed = np.where(power_threshed>0,_fhatbar,0)\n",
    "fhatbarhat = np.array([Psi[i] @ fhatbar_threshed[i] for i in range(5)])    \n",
    "fhatbarhat_mean_temporal = fhatbarhat.reshape(199,-1)"
   ]
  },
  {
   "cell_type": "code",
   "execution_count": null,
   "id": "427291ad-5e9c-4539-b1c6-8c122307dff7",
   "metadata": {},
   "outputs": [],
   "source": [
    "plt.plot(fhatbarhat_mean_temporal[:,0])\n",
    "plt.plot(fhatbarhat_mean_temporal[:,1])\n",
    "plt.plot(fhatbarhat_mean_temporal[:,2])\n",
    "plt.plot(fhatbarhat_mean_temporal[:,3])\n",
    "plt.plot(fhatbarhat_mean_temporal[:,4])"
   ]
  },
  {
   "cell_type": "markdown",
   "id": "028d6f4c-048e-4e81-8113-b0a32f27659a",
   "metadata": {},
   "source": [
    "#### 2) Random missing values"
   ]
  },
  {
   "cell_type": "code",
   "execution_count": null,
   "id": "634b9b93-fd71-4c48-9387-488c33dc64c1",
   "metadata": {},
   "outputs": [],
   "source": [
    "w=np.zeros((5,199,199))"
   ]
  },
  {
   "cell_type": "code",
   "execution_count": null,
   "id": "39003b94-ac38-4d6d-9fb5-80171605a7b1",
   "metadata": {},
   "outputs": [],
   "source": [
    "for k in range(5):\n",
    "    for i in range(199):\n",
    "        for j in range(199):\n",
    "            if i==j :\n",
    "                w[k,i,j] = 0\n",
    "            elif np.abs(i-j) <= 1 : \n",
    "                w[k,i,j] = 1"
   ]
  },
  {
   "cell_type": "code",
   "execution_count": null,
   "id": "e9c66b3a-d5ad-48e1-9b56-da6cb60bd54a",
   "metadata": {},
   "outputs": [],
   "source": [
    "d = np.array([w[i].sum(axis=1) for i in range(5)])\n",
    "D= np.array([np.diag(d[i]) for i in range(5)])\n",
    "L = np.array([np.diag(1/np.sqrt(d[i])) @ (D[i]-w[i]) @ np.diag(1/np.sqrt(d[i])) for i in range(5)])\n",
    "lamb, Psi  = np.linalg.eigh(L)[0],np.linalg.eigh(L)[1]\n",
    "Lamb = np.array([np.diag(lamb[i]) for i in range(5)])    \n",
    "fhatbar = np.hstack([Psi[i] @ fhat_fiveVTSrandom_mean[:,i] for i in range(5)])\n",
    "_fhatbar = fhatbar.reshape(5,199)\n",
    "power = _fhatbar**2 \n",
    "ebayesthresh = importr('EbayesThresh').ebayesthresh\n",
    "power_threshed=np.array([np.array(ebayesthresh(FloatVector(_fhatbar[i]**2))) for i in range(5)])\n",
    "fhatbar_threshed = np.where(power_threshed>0,_fhatbar,0)\n",
    "fhatbarhat = np.array([Psi[i] @ fhatbar_threshed[i] for i in range(5)])    \n",
    "fhatbarhat_random_mean_temporal = fhatbarhat.reshape(199,-1)"
   ]
  },
  {
   "cell_type": "code",
   "execution_count": null,
   "id": "52a9953c-41b0-44cd-9253-3b19e4f2a560",
   "metadata": {},
   "outputs": [],
   "source": [
    "plt.plot(fhatbarhat_random_mean_temporal[:,0])\n",
    "plt.plot(fhatbarhat_random_mean_temporal[:,1])\n",
    "plt.plot(fhatbarhat_random_mean_temporal[:,2])\n",
    "plt.plot(fhatbarhat_random_mean_temporal[:,3])\n",
    "plt.plot(fhatbarhat_random_mean_temporal[:,4])"
   ]
  },
  {
   "cell_type": "markdown",
   "id": "2add2d20-c2a3-4399-a086-6ce5367a0692",
   "metadata": {},
   "source": [
    "#### 3) By 2"
   ]
  },
  {
   "cell_type": "code",
   "execution_count": null,
   "id": "dac80c6c-4e79-4bdd-bca9-44156f81e9d8",
   "metadata": {},
   "outputs": [],
   "source": [
    "w=np.zeros((5,199,199))"
   ]
  },
  {
   "cell_type": "code",
   "execution_count": null,
   "id": "eaed954f-8e23-43c9-a42c-08727712b610",
   "metadata": {},
   "outputs": [],
   "source": [
    "for k in range(5):\n",
    "    for i in range(199):\n",
    "        for j in range(199):\n",
    "            if i==j :\n",
    "                w[k,i,j] = 0\n",
    "            elif np.abs(i-j) <= 1 : \n",
    "                w[k,i,j] = 1"
   ]
  },
  {
   "cell_type": "code",
   "execution_count": null,
   "id": "061959b5-1284-4e61-965e-44d20bd4294b",
   "metadata": {},
   "outputs": [],
   "source": [
    "d = np.array([w[i].sum(axis=1) for i in range(5)])\n",
    "D= np.array([np.diag(d[i]) for i in range(5)])\n",
    "L = np.array([np.diag(1/np.sqrt(d[i])) @ (D[i]-w[i]) @ np.diag(1/np.sqrt(d[i])) for i in range(5)])\n",
    "lamb, Psi  = np.linalg.eigh(L)[0],np.linalg.eigh(L)[1]\n",
    "Lamb = np.array([np.diag(lamb[i]) for i in range(5)])    \n",
    "fhatbar = np.hstack([Psi[i] @ fhat_fiveVTStwo_mean[:,i] for i in range(5)])\n",
    "_fhatbar = fhatbar.reshape(5,199)\n",
    "power = _fhatbar**2 \n",
    "ebayesthresh = importr('EbayesThresh').ebayesthresh\n",
    "power_threshed=np.array([np.array(ebayesthresh(FloatVector(_fhatbar[i]**2))) for i in range(5)])\n",
    "fhatbar_threshed = np.where(power_threshed>0,_fhatbar,0)\n",
    "fhatbarhat = np.array([Psi[i] @ fhatbar_threshed[i] for i in range(5)])    \n",
    "fhatbarhat_twomean_temporal = fhatbarhat.reshape(199,-1)"
   ]
  },
  {
   "cell_type": "code",
   "execution_count": null,
   "id": "1aa82525-59fd-4925-8380-fccf0a008fec",
   "metadata": {},
   "outputs": [],
   "source": [
    "plt.plot(fhatbarhat_twomean_temporal[:,0])\n",
    "plt.plot(fhatbarhat_twomean_temporal[:,1])\n",
    "plt.plot(fhatbarhat_twomean_temporal[:,2])\n",
    "plt.plot(fhatbarhat_twomean_temporal[:,3])\n",
    "plt.plot(fhatbarhat_twomean_temporal[:,4])"
   ]
  },
  {
   "cell_type": "markdown",
   "id": "839a68a0-45dc-488b-afbb-7832eeee17b1",
   "metadata": {},
   "source": [
    "### 3.1.2. Spatio"
   ]
  },
  {
   "cell_type": "markdown",
   "id": "123c1572-1acb-4595-b473-97154a9da2b4",
   "metadata": {},
   "source": [
    "#### 1) Block"
   ]
  },
  {
   "cell_type": "code",
   "execution_count": null,
   "id": "b48bc50e-c44c-46ec-892d-66861ece0c0d",
   "metadata": {},
   "outputs": [],
   "source": [
    "w=np.zeros((5,5))"
   ]
  },
  {
   "cell_type": "code",
   "execution_count": null,
   "id": "83cb2f1b-80c5-41a3-bfb6-6b040b4e7e72",
   "metadata": {},
   "outputs": [],
   "source": [
    "for i in range(5):\n",
    "    for j in range(5):\n",
    "        if i==j :\n",
    "            w[i,j] = 0\n",
    "        elif np.abs(i-j) <= 1 : \n",
    "            w[i,j] = 1"
   ]
  },
  {
   "cell_type": "code",
   "execution_count": null,
   "id": "5a2eae6f-ae5d-46c3-8e0e-399dfec106ef",
   "metadata": {},
   "outputs": [],
   "source": [
    "d = np.array(w.sum(axis=1))\n",
    "D = np.diag(d)\n",
    "L = np.array(np.diag(1/np.sqrt(d)) @ (D-w) @ np.diag(1/np.sqrt(d)))\n",
    "lamb, Psi = np.linalg.eigh(L)\n",
    "Lamb = np.diag(lamb)\n",
    "fhatbar = Psi @ fhat_mean.reshape(5,199)\n",
    "power = fhatbar**2 \n",
    "ebayesthresh = importr('EbayesThresh').ebayesthresh\n",
    "power_threshed=np.array([np.array(ebayesthresh(FloatVector(fhatbar[i]**2))) for i in range(5)])\n",
    "fhatbar_threshed = np.where(power_threshed>0,fhatbar,0)\n",
    "fhatbarhat = Psi @ fhatbar_threshed\n",
    "fhatbarhat_mean_spatio = fhatbarhat.reshape(199,-1)"
   ]
  },
  {
   "cell_type": "code",
   "execution_count": null,
   "id": "e71f56c7-466e-4e0d-bd58-29258a81cd65",
   "metadata": {},
   "outputs": [],
   "source": [
    "plt.plot(fhatbarhat_mean_spatio[:,0])\n",
    "plt.plot(fhatbarhat_mean_spatio[:,1])\n",
    "plt.plot(fhatbarhat_mean_spatio[:,2])\n",
    "plt.plot(fhatbarhat_mean_spatio[:,3])\n",
    "plt.plot(fhatbarhat_mean_spatio[:,4])"
   ]
  },
  {
   "cell_type": "markdown",
   "id": "e60a38dc-26ee-4472-8bf9-7ad49e57f9d2",
   "metadata": {},
   "source": [
    "#### 2) Random missing values"
   ]
  },
  {
   "cell_type": "code",
   "execution_count": null,
   "id": "1a4c9cfd-13a7-4c85-9776-301f8de58948",
   "metadata": {},
   "outputs": [],
   "source": [
    "w=np.zeros((5,5))"
   ]
  },
  {
   "cell_type": "code",
   "execution_count": null,
   "id": "9e5bb134-bef9-40ff-b7b2-c4314ac36120",
   "metadata": {},
   "outputs": [],
   "source": [
    "for i in range(5):\n",
    "    for j in range(5):\n",
    "        if i==j :\n",
    "            w[i,j] = 0\n",
    "        elif np.abs(i-j) <= 1 : \n",
    "            w[i,j] = 1"
   ]
  },
  {
   "cell_type": "code",
   "execution_count": null,
   "id": "2fb7810f-e058-43fd-9432-aa58e1397ff6",
   "metadata": {},
   "outputs": [],
   "source": [
    "d = np.array(w.sum(axis=1))\n",
    "D = np.diag(d)\n",
    "L = np.array(np.diag(1/np.sqrt(d)) @ (D-w) @ np.diag(1/np.sqrt(d)))\n",
    "lamb, Psi = np.linalg.eigh(L)\n",
    "Lamb = np.diag(lamb)\n",
    "fhatbar = Psi @ fhat_fiveVTSrandom_mean.reshape(5,199)\n",
    "power = fhatbar**2 \n",
    "ebayesthresh = importr('EbayesThresh').ebayesthresh\n",
    "power_threshed=np.array([np.array(ebayesthresh(FloatVector(fhatbar[i]**2))) for i in range(5)])\n",
    "fhatbar_threshed = np.where(power_threshed>0,fhatbar,0)\n",
    "fhatbarhat = Psi @ fhatbar_threshed\n",
    "fhatbarhat_random_mean_spatio = fhatbarhat.reshape(199,-1)"
   ]
  },
  {
   "cell_type": "code",
   "execution_count": null,
   "id": "9e87dd22-aa5e-46fd-bf04-527b005692b8",
   "metadata": {},
   "outputs": [],
   "source": [
    "plt.plot(fhatbarhat_random_mean_spatio[:,0])\n",
    "plt.plot(fhatbarhat_random_mean_spatio[:,1])\n",
    "plt.plot(fhatbarhat_random_mean_spatio[:,2])\n",
    "plt.plot(fhatbarhat_random_mean_spatio[:,3])\n",
    "plt.plot(fhatbarhat_random_mean_spatio[:,4])"
   ]
  },
  {
   "cell_type": "markdown",
   "id": "ed184e8f-e5d0-4f89-864d-993d8ae72ac8",
   "metadata": {},
   "source": [
    "#### 3) By 2"
   ]
  },
  {
   "cell_type": "code",
   "execution_count": null,
   "id": "65abae4b-9c4c-494f-b888-8b9a57137126",
   "metadata": {},
   "outputs": [],
   "source": [
    "w=np.zeros((5,5))"
   ]
  },
  {
   "cell_type": "code",
   "execution_count": null,
   "id": "7c0eb15a-9402-40f8-9541-51197d6b49a9",
   "metadata": {},
   "outputs": [],
   "source": [
    "for i in range(5):\n",
    "    for j in range(5):\n",
    "        if i==j :\n",
    "            w[i,j] = 0\n",
    "        elif np.abs(i-j) <= 1 : \n",
    "            w[i,j] = 1"
   ]
  },
  {
   "cell_type": "code",
   "execution_count": null,
   "id": "d61b0314-5214-4065-9d69-03ea8ccd0015",
   "metadata": {},
   "outputs": [],
   "source": [
    "d = np.array(w.sum(axis=1))\n",
    "D = np.diag(d)\n",
    "L = np.array(np.diag(1/np.sqrt(d)) @ (D-w) @ np.diag(1/np.sqrt(d)))\n",
    "lamb, Psi = np.linalg.eigh(L)\n",
    "Lamb = np.diag(lamb)\n",
    "fhatbar = Psi @ fhat_fiveVTStwo_mean.reshape(5,199)\n",
    "power = fhatbar**2 \n",
    "ebayesthresh = importr('EbayesThresh').ebayesthresh\n",
    "power_threshed=np.array([np.array(ebayesthresh(FloatVector(fhatbar[i]**2))) for i in range(5)])\n",
    "fhatbar_threshed = np.where(power_threshed>0,fhatbar,0)\n",
    "fhatbarhat = Psi @ fhatbar_threshed\n",
    "fhatbarhat_two_mean_spatio = fhatbarhat.reshape(199,-1)"
   ]
  },
  {
   "cell_type": "code",
   "execution_count": null,
   "id": "bf5ab8d8-1f17-4877-92c5-2be0a5477894",
   "metadata": {},
   "outputs": [],
   "source": [
    "plt.plot(fhatbarhat_two_mean_spatio[:,0])\n",
    "plt.plot(fhatbarhat_two_mean_spatio[:,1])\n",
    "plt.plot(fhatbarhat_two_mean_spatio[:,2])\n",
    "plt.plot(fhatbarhat_two_mean_spatio[:,3])\n",
    "plt.plot(fhatbarhat_two_mean_spatio[:,4])"
   ]
  },
  {
   "cell_type": "markdown",
   "id": "97d404d6-93d5-4dce-9e19-a2c288831235",
   "metadata": {
    "tags": []
   },
   "source": [
    "### 3.1.3. Spatio-Temporal"
   ]
  },
  {
   "cell_type": "markdown",
   "id": "f6a40423-823c-4310-bb3d-9a2233fc8487",
   "metadata": {},
   "source": [
    "#### 1) Block"
   ]
  },
  {
   "cell_type": "code",
   "execution_count": null,
   "id": "481f9dc6-36de-43c2-a5c8-0f2325882185",
   "metadata": {},
   "outputs": [],
   "source": [
    "w=np.zeros((995,995))"
   ]
  },
  {
   "cell_type": "code",
   "execution_count": null,
   "id": "6297b71f-1a02-4e67-a64c-5c6a6ab85ec5",
   "metadata": {},
   "outputs": [],
   "source": [
    "for i in range(995):\n",
    "    for j in range(995):\n",
    "        if i==j :\n",
    "            w[i,j] = 0\n",
    "        elif np.abs(i-j) <= 1 : \n",
    "            w[i,j] = 1"
   ]
  },
  {
   "cell_type": "code",
   "execution_count": null,
   "id": "66064009-7a62-46d0-a3cc-2f32a318fe80",
   "metadata": {},
   "outputs": [],
   "source": [
    "d = np.array(w.sum(axis=1))\n",
    "D = np.diag(d)\n",
    "L = np.array(np.diag(1/np.sqrt(d)) @ (D-w) @ np.diag(1/np.sqrt(d)))\n",
    "lamb, Psi = np.linalg.eigh(L)\n",
    "Lamb = np.diag(lamb)\n",
    "fhatbar = Psi @ fhat_mean.reshape(995,1)\n",
    "power = fhatbar**2 \n",
    "ebayesthresh = importr('EbayesThresh').ebayesthresh\n",
    "power_threshed=np.array([np.array(ebayesthresh(FloatVector(fhatbar[i]**2))) for i in range(995)])\n",
    "fhatbar_threshed = np.where(power_threshed>0,fhatbar,0)\n",
    "fhatbarhat = Psi @ fhatbar_threshed\n",
    "fhatbarhat_mean_spatio_temporal = fhatbarhat.reshape(199,5,1)"
   ]
  },
  {
   "cell_type": "code",
   "execution_count": null,
   "id": "1fbb0280-6d27-49e1-b00a-3d3ac3231a58",
   "metadata": {},
   "outputs": [],
   "source": [
    "plt.plot(fhatbarhat_mean_spatio_temporal[:,0])\n",
    "plt.plot(fhatbarhat_mean_spatio_temporal[:,1])\n",
    "plt.plot(fhatbarhat_mean_spatio_temporal[:,2])\n",
    "plt.plot(fhatbarhat_mean_spatio_temporal[:,3])\n",
    "plt.plot(fhatbarhat_mean_spatio_temporal[:,4])"
   ]
  },
  {
   "cell_type": "markdown",
   "id": "f5f06185-52e8-4e46-995d-4f36f978e3ed",
   "metadata": {},
   "source": [
    "#### 2) Random missing values"
   ]
  },
  {
   "cell_type": "code",
   "execution_count": null,
   "id": "3fd94abe-8944-405c-9b1c-455e6ed6af52",
   "metadata": {},
   "outputs": [],
   "source": [
    "w=np.zeros((995,995))"
   ]
  },
  {
   "cell_type": "code",
   "execution_count": null,
   "id": "e7dc2546-0e8b-44f6-aa0e-bdb8fa141f81",
   "metadata": {},
   "outputs": [],
   "source": [
    "for i in range(995):\n",
    "    for j in range(995):\n",
    "        if i==j :\n",
    "            w[i,j] = 0\n",
    "        elif np.abs(i-j) <= 1 : \n",
    "            w[i,j] = 1"
   ]
  },
  {
   "cell_type": "code",
   "execution_count": null,
   "id": "0d335c20-2270-4e23-ac48-ff8624a97b54",
   "metadata": {},
   "outputs": [],
   "source": [
    "d = np.array(w.sum(axis=1))\n",
    "D = np.diag(d)\n",
    "L = np.array(np.diag(1/np.sqrt(d)) @ (D-w) @ np.diag(1/np.sqrt(d)))\n",
    "lamb, Psi = np.linalg.eigh(L)\n",
    "Lamb = np.diag(lamb)\n",
    "fhatbar = Psi @ fhat_fiveVTSrandom_mean.reshape(995,1)\n",
    "power = fhatbar**2 \n",
    "ebayesthresh = importr('EbayesThresh').ebayesthresh\n",
    "power_threshed=np.array([np.array(ebayesthresh(FloatVector(fhatbar[i]**2))) for i in range(995)])\n",
    "fhatbar_threshed = np.where(power_threshed>0,fhatbar,0)\n",
    "fhatbarhat = Psi @ fhatbar_threshed\n",
    "fhatbarhat_random_mean_spatio_temporal = fhatbarhat.reshape(199,5,1)"
   ]
  },
  {
   "cell_type": "code",
   "execution_count": null,
   "id": "fe2c6d70-fb15-427c-adeb-6d6cf84f8543",
   "metadata": {},
   "outputs": [],
   "source": [
    "plt.plot(fhatbarhat_random_mean_spatio_temporal[:,0])\n",
    "plt.plot(fhatbarhat_random_mean_spatio_temporal[:,1])\n",
    "plt.plot(fhatbarhat_random_mean_spatio_temporal[:,2])\n",
    "plt.plot(fhatbarhat_random_mean_spatio_temporal[:,3])\n",
    "plt.plot(fhatbarhat_random_mean_spatio_temporal[:,4])"
   ]
  },
  {
   "cell_type": "markdown",
   "id": "07ff3ecf-4eff-4ed9-b998-3ef0c31e7fa4",
   "metadata": {},
   "source": [
    "#### 3) By 2"
   ]
  },
  {
   "cell_type": "code",
   "execution_count": null,
   "id": "e0d7f27a-749a-4b46-879c-1263a505b059",
   "metadata": {},
   "outputs": [],
   "source": [
    "w=np.zeros((995,995))"
   ]
  },
  {
   "cell_type": "code",
   "execution_count": null,
   "id": "409be929-9a42-42bc-8410-e5b2c5e9a421",
   "metadata": {},
   "outputs": [],
   "source": [
    "for i in range(995):\n",
    "    for j in range(995):\n",
    "        if i==j :\n",
    "            w[i,j] = 0\n",
    "        elif np.abs(i-j) <= 1 : \n",
    "            w[i,j] = 1"
   ]
  },
  {
   "cell_type": "code",
   "execution_count": null,
   "id": "044007ee-e10f-440e-bc27-a300d4a98ccb",
   "metadata": {},
   "outputs": [],
   "source": [
    "d = np.array(w.sum(axis=1))\n",
    "D = np.diag(d)\n",
    "L = np.array(np.diag(1/np.sqrt(d)) @ (D-w) @ np.diag(1/np.sqrt(d)))\n",
    "lamb, Psi = np.linalg.eigh(L)\n",
    "Lamb = np.diag(lamb)\n",
    "fhatbar = Psi @ fhat_fiveVTStwo_mean.reshape(995,1)\n",
    "power = fhatbar**2 \n",
    "ebayesthresh = importr('EbayesThresh').ebayesthresh\n",
    "power_threshed=np.array([np.array(ebayesthresh(FloatVector(fhatbar[i]**2))) for i in range(995)])\n",
    "fhatbar_threshed = np.where(power_threshed>0,fhatbar,0)\n",
    "fhatbarhat = Psi @ fhatbar_threshed\n",
    "fhatbarhat_two_mean_spatio_temporal = fhatbarhat.reshape(199,5,1)"
   ]
  },
  {
   "cell_type": "code",
   "execution_count": null,
   "id": "0f3e0a1e-1139-4d08-82b0-a0c4772d7039",
   "metadata": {},
   "outputs": [],
   "source": [
    "plt.plot(fhatbarhat_two_mean_spatio_temporal[:,0])\n",
    "plt.plot(fhatbarhat_two_mean_spatio_temporal[:,1])\n",
    "plt.plot(fhatbarhat_two_mean_spatio_temporal[:,2])\n",
    "plt.plot(fhatbarhat_two_mean_spatio_temporal[:,3])\n",
    "plt.plot(fhatbarhat_two_mean_spatio_temporal[:,4])"
   ]
  },
  {
   "cell_type": "markdown",
   "id": "77bbf743-f44d-432c-a805-2b0ed7a47f84",
   "metadata": {},
   "source": [
    "## 3.2.linear interpolation"
   ]
  },
  {
   "cell_type": "markdown",
   "id": "64d1dd3b-31e8-46a3-a233-7d99c264f73c",
   "metadata": {},
   "source": [
    "### 3.2.1. Temporal"
   ]
  },
  {
   "cell_type": "markdown",
   "id": "d701ab1d-9f9c-45d1-b169-8a2640691c83",
   "metadata": {
    "tags": []
   },
   "source": [
    "#### 1) Block"
   ]
  },
  {
   "cell_type": "code",
   "execution_count": null,
   "id": "89423b8f-88dd-4651-a394-fa040640458d",
   "metadata": {},
   "outputs": [],
   "source": [
    "w=np.zeros((5,199,199))"
   ]
  },
  {
   "cell_type": "code",
   "execution_count": null,
   "id": "80d2c6cc-04d7-4805-a995-9513fcf5f767",
   "metadata": {},
   "outputs": [],
   "source": [
    "for k in range(5):\n",
    "    for i in range(199):\n",
    "        for j in range(199):\n",
    "            if i==j :\n",
    "                w[k,i,j] = 0\n",
    "            elif np.abs(i-j) <= 1 : \n",
    "                w[k,i,j] = 1"
   ]
  },
  {
   "cell_type": "code",
   "execution_count": null,
   "id": "060566aa-243a-48fe-a4c4-386701bb1b48",
   "metadata": {},
   "outputs": [],
   "source": [
    "d = np.array([w[i].sum(axis=1) for i in range(5)])\n",
    "D= np.array([np.diag(d[i]) for i in range(5)])\n",
    "L = np.array([np.diag(1/np.sqrt(d[i])) @ (D[i]-w[i]) @ np.diag(1/np.sqrt(d[i])) for i in range(5)])\n",
    "lamb, Psi  = np.linalg.eigh(L)[0],np.linalg.eigh(L)[1]\n",
    "Lamb = np.array([np.diag(lamb[i]) for i in range(5)])\n",
    "fhatbar = np.hstack([Psi[i] @ fhat_linearinterpolation[:,i] for i in range(5)])\n",
    "_fhatbar = fhatbar.reshape(5,199)\n",
    "power = _fhatbar**2 \n",
    "ebayesthresh = importr('EbayesThresh').ebayesthresh\n",
    "power_threshed=np.array([np.array(ebayesthresh(FloatVector(_fhatbar[i]**2))) for i in range(5)])    \n",
    "fhatbar_threshed = np.where(power_threshed>0,_fhatbar,0)\n",
    "fhatbarhat = np.array([Psi[i] @ fhatbar_threshed[i] for i in range(5)])    \n",
    "fhatbarhat_linearinterpolation_temporal = fhatbarhat.reshape(199,-1)"
   ]
  },
  {
   "cell_type": "code",
   "execution_count": null,
   "id": "d76123a9-849f-44b9-820b-dbd91cc483a3",
   "metadata": {},
   "outputs": [],
   "source": [
    "plt.plot(fhatbarhat_linearinterpolation_temporal[:,0])\n",
    "plt.plot(fhatbarhat_linearinterpolation_temporal[:,1])\n",
    "plt.plot(fhatbarhat_linearinterpolation_temporal[:,2])\n",
    "plt.plot(fhatbarhat_linearinterpolation_temporal[:,3])\n",
    "plt.plot(fhatbarhat_linearinterpolation_temporal[:,4])"
   ]
  },
  {
   "cell_type": "markdown",
   "id": "877d7b7a-c6a6-46ab-80df-e60c0399cd29",
   "metadata": {
    "tags": []
   },
   "source": [
    "#### 2) Random missing values"
   ]
  },
  {
   "cell_type": "code",
   "execution_count": null,
   "id": "b878bc94-c0f2-4629-a388-db07b41df5b1",
   "metadata": {},
   "outputs": [],
   "source": [
    "w=np.zeros((5,199,199))"
   ]
  },
  {
   "cell_type": "code",
   "execution_count": null,
   "id": "a3495e38-6613-4cb9-ac1a-d534dd448d56",
   "metadata": {},
   "outputs": [],
   "source": [
    "for k in range(5):\n",
    "    for i in range(199):\n",
    "        for j in range(199):\n",
    "            if i==j :\n",
    "                w[k,i,j] = 0\n",
    "            elif np.abs(i-j) <= 1 : \n",
    "                w[k,i,j] = 1"
   ]
  },
  {
   "cell_type": "code",
   "execution_count": null,
   "id": "ffb866cb-5a62-47f5-b733-581888a598b6",
   "metadata": {},
   "outputs": [],
   "source": [
    "d = np.array([w[i].sum(axis=1) for i in range(5)])\n",
    "D= np.array([np.diag(d[i]) for i in range(5)])\n",
    "L = np.array([np.diag(1/np.sqrt(d[i])) @ (D[i]-w[i]) @ np.diag(1/np.sqrt(d[i])) for i in range(5)])\n",
    "lamb, Psi  = np.linalg.eigh(L)[0],np.linalg.eigh(L)[1]\n",
    "Lamb = np.array([np.diag(lamb[i]) for i in range(5)])\n",
    "fhatbar = np.hstack([Psi[i] @ fhat_fiveVTSrandom_linearinterpolation[:,i] for i in range(5)])\n",
    "_fhatbar = fhatbar.reshape(5,199)\n",
    "power = _fhatbar**2 \n",
    "ebayesthresh = importr('EbayesThresh').ebayesthresh\n",
    "power_threshed=np.array([np.array(ebayesthresh(FloatVector(_fhatbar[i]**2))) for i in range(5)])    \n",
    "fhatbar_threshed = np.where(power_threshed>0,_fhatbar,0)\n",
    "fhatbarhat = np.array([Psi[i] @ fhatbar_threshed[i] for i in range(5)])    \n",
    "fhatbarhat_random_linearinterpolation_temporal = fhatbarhat.reshape(199,-1)"
   ]
  },
  {
   "cell_type": "code",
   "execution_count": null,
   "id": "dce2d5d3-2e02-4617-bdb6-3aa8964c6ce1",
   "metadata": {},
   "outputs": [],
   "source": [
    "plt.plot(fhatbarhat_random_linearinterpolation_temporal[:,0])\n",
    "plt.plot(fhatbarhat_random_linearinterpolation_temporal[:,1])\n",
    "plt.plot(fhatbarhat_random_linearinterpolation_temporal[:,2])\n",
    "plt.plot(fhatbarhat_random_linearinterpolation_temporal[:,3])\n",
    "plt.plot(fhatbarhat_random_linearinterpolation_temporal[:,4])"
   ]
  },
  {
   "cell_type": "markdown",
   "id": "8792b378-d3a6-4d5f-9096-ad589c1bd2f0",
   "metadata": {
    "tags": []
   },
   "source": [
    "#### 3) By 2"
   ]
  },
  {
   "cell_type": "code",
   "execution_count": null,
   "id": "1a1cb420-e574-438c-81e0-f21f04344650",
   "metadata": {},
   "outputs": [],
   "source": [
    "w=np.zeros((5,199,199))"
   ]
  },
  {
   "cell_type": "code",
   "execution_count": null,
   "id": "95353ee3-6d8a-4c67-be75-aa9f95f97e83",
   "metadata": {},
   "outputs": [],
   "source": [
    "for k in range(5):\n",
    "    for i in range(199):\n",
    "        for j in range(199):\n",
    "            if i==j :\n",
    "                w[k,i,j] = 0\n",
    "            elif np.abs(i-j) <= 1 : \n",
    "                w[k,i,j] = 1"
   ]
  },
  {
   "cell_type": "code",
   "execution_count": null,
   "id": "109ece2b-85df-4a56-8501-8fec200aec31",
   "metadata": {},
   "outputs": [],
   "source": [
    "d = np.array([w[i].sum(axis=1) for i in range(5)])\n",
    "D= np.array([np.diag(d[i]) for i in range(5)])\n",
    "L = np.array([np.diag(1/np.sqrt(d[i])) @ (D[i]-w[i]) @ np.diag(1/np.sqrt(d[i])) for i in range(5)])\n",
    "lamb, Psi  = np.linalg.eigh(L)[0],np.linalg.eigh(L)[1]\n",
    "Lamb = np.array([np.diag(lamb[i]) for i in range(5)])\n",
    "fhatbar = np.hstack([Psi[i] @ fhat_fiveVTStwo_linearinterpolation[:,i] for i in range(5)])\n",
    "_fhatbar = fhatbar.reshape(5,199)\n",
    "power = _fhatbar**2 \n",
    "ebayesthresh = importr('EbayesThresh').ebayesthresh\n",
    "power_threshed=np.array([np.array(ebayesthresh(FloatVector(_fhatbar[i]**2))) for i in range(5)])    \n",
    "fhatbar_threshed = np.where(power_threshed>0,_fhatbar,0)\n",
    "fhatbarhat = np.array([Psi[i] @ fhatbar_threshed[i] for i in range(5)])    \n",
    "fhatbarhat_two_linearinterpolation_temporal = fhatbarhat.reshape(199,-1)"
   ]
  },
  {
   "cell_type": "code",
   "execution_count": null,
   "id": "0669bbbd-b745-4394-bbf0-38765d339909",
   "metadata": {},
   "outputs": [],
   "source": [
    "plt.plot(fhatbarhat_two_linearinterpolation_temporal[:,0])\n",
    "plt.plot(fhatbarhat_two_linearinterpolation_temporal[:,1])\n",
    "plt.plot(fhatbarhat_two_linearinterpolation_temporal[:,2])\n",
    "plt.plot(fhatbarhat_two_linearinterpolation_temporal[:,3])\n",
    "plt.plot(fhatbarhat_two_linearinterpolation_temporal[:,4])"
   ]
  },
  {
   "cell_type": "markdown",
   "id": "45bc26df-155e-4f2b-8d1c-240528f1dfca",
   "metadata": {},
   "source": [
    "### 3.2.2. Spatio"
   ]
  },
  {
   "cell_type": "markdown",
   "id": "2898d248-eff0-456e-bcee-3fd685f2bec1",
   "metadata": {},
   "source": [
    "#### 1) Block"
   ]
  },
  {
   "cell_type": "code",
   "execution_count": null,
   "id": "71958d57-961e-497a-a2b5-c76e3c7bcf30",
   "metadata": {},
   "outputs": [],
   "source": [
    "w=np.zeros((5,5))"
   ]
  },
  {
   "cell_type": "code",
   "execution_count": null,
   "id": "c4d8518e-2cbb-4f80-9c56-b8c63a60e1c0",
   "metadata": {},
   "outputs": [],
   "source": [
    "for i in range(5):\n",
    "    for j in range(5):\n",
    "        if i==j :\n",
    "            w[i,j] = 0\n",
    "        elif np.abs(i-j) <= 1 : \n",
    "            w[i,j] = 1"
   ]
  },
  {
   "cell_type": "code",
   "execution_count": null,
   "id": "f3b887f0-a705-49bc-a0ee-7be7745f8f3f",
   "metadata": {},
   "outputs": [],
   "source": [
    "d = np.array(w.sum(axis=1))\n",
    "D = np.diag(d)\n",
    "L = np.array(np.diag(1/np.sqrt(d)) @ (D-w) @ np.diag(1/np.sqrt(d)))\n",
    "lamb, Psi = np.linalg.eigh(L)\n",
    "Lamb = np.diag(lamb)\n",
    "fhatbar = Psi @ fhat_linearinterpolation.reshape(5,199)\n",
    "power = fhatbar**2 \n",
    "ebayesthresh = importr('EbayesThresh').ebayesthresh\n",
    "power_threshed=np.array([np.array(ebayesthresh(FloatVector(fhatbar[i]**2))) for i in range(5)])    \n",
    "fhatbar_threshed = np.where(power_threshed>0,fhatbar,0)\n",
    "fhatbarhat = Psi @ fhatbar_threshed\n",
    "fhatbarhat_linearinterpolation_spatio = fhatbarhat.reshape(199,-1)"
   ]
  },
  {
   "cell_type": "code",
   "execution_count": null,
   "id": "8d69a874-d869-4c8d-a77c-12685ef84880",
   "metadata": {},
   "outputs": [],
   "source": [
    "plt.plot(fhatbarhat_linearinterpolation_spatio[:,0])\n",
    "plt.plot(fhatbarhat_linearinterpolation_spatio[:,1])\n",
    "plt.plot(fhatbarhat_linearinterpolation_spatio[:,2])\n",
    "plt.plot(fhatbarhat_linearinterpolation_spatio[:,3])\n",
    "plt.plot(fhatbarhat_linearinterpolation_spatio[:,4])"
   ]
  },
  {
   "cell_type": "markdown",
   "id": "2dede404-e20a-4116-9b35-90a41aa33207",
   "metadata": {
    "tags": []
   },
   "source": [
    "#### 2) Random missing values"
   ]
  },
  {
   "cell_type": "code",
   "execution_count": null,
   "id": "cf70876d-5f90-4870-b2e7-4839f8b29e6a",
   "metadata": {},
   "outputs": [],
   "source": [
    "w=np.zeros((5,5))"
   ]
  },
  {
   "cell_type": "code",
   "execution_count": null,
   "id": "6f2909ca-c6d4-4754-a8d6-a8136f28b8e7",
   "metadata": {},
   "outputs": [],
   "source": [
    "for i in range(5):\n",
    "    for j in range(5):\n",
    "        if i==j :\n",
    "            w[i,j] = 0\n",
    "        elif np.abs(i-j) <= 1 : \n",
    "            w[i,j] = 1"
   ]
  },
  {
   "cell_type": "code",
   "execution_count": null,
   "id": "c2496f47-cc51-4870-bc52-6bdcd1b4ea52",
   "metadata": {},
   "outputs": [],
   "source": [
    "d = np.array(w.sum(axis=1))\n",
    "D = np.diag(d)\n",
    "L = np.array(np.diag(1/np.sqrt(d)) @ (D-w) @ np.diag(1/np.sqrt(d)))\n",
    "lamb, Psi = np.linalg.eigh(L)\n",
    "Lamb = np.diag(lamb)\n",
    "fhatbar = Psi @ fhat_fiveVTSrandom_linearinterpolation.reshape(5,199)\n",
    "power = fhatbar**2 \n",
    "ebayesthresh = importr('EbayesThresh').ebayesthresh\n",
    "power_threshed=np.array([np.array(ebayesthresh(FloatVector(fhatbar[i]**2))) for i in range(5)])    \n",
    "fhatbar_threshed = np.where(power_threshed>0,fhatbar,0)\n",
    "fhatbarhat = Psi @ fhatbar_threshed\n",
    "fhatbarhat_random_linearinterpolation_spatio = fhatbarhat.reshape(199,-1)"
   ]
  },
  {
   "cell_type": "code",
   "execution_count": null,
   "id": "6275a523-e3b5-4c43-a23a-de7ea5be9b37",
   "metadata": {},
   "outputs": [],
   "source": [
    "plt.plot(fhatbarhat_random_linearinterpolation_spatio[:,0])\n",
    "plt.plot(fhatbarhat_random_linearinterpolation_spatio[:,1])\n",
    "plt.plot(fhatbarhat_random_linearinterpolation_spatio[:,2])\n",
    "plt.plot(fhatbarhat_random_linearinterpolation_spatio[:,3])\n",
    "plt.plot(fhatbarhat_random_linearinterpolation_spatio[:,4])"
   ]
  },
  {
   "cell_type": "markdown",
   "id": "93d44e0b-830c-4ff7-b0a0-6efdceaf2bca",
   "metadata": {
    "tags": []
   },
   "source": [
    "#### 3) By 2"
   ]
  },
  {
   "cell_type": "code",
   "execution_count": null,
   "id": "c3a8d47c-6114-465a-8b02-d77c0faeb552",
   "metadata": {},
   "outputs": [],
   "source": [
    "w=np.zeros((5,5))"
   ]
  },
  {
   "cell_type": "code",
   "execution_count": null,
   "id": "94f08600-51cc-4f98-a076-3a87d79aeeaa",
   "metadata": {},
   "outputs": [],
   "source": [
    "for i in range(5):\n",
    "    for j in range(5):\n",
    "        if i==j :\n",
    "            w[i,j] = 0\n",
    "        elif np.abs(i-j) <= 1 : \n",
    "            w[i,j] = 1"
   ]
  },
  {
   "cell_type": "code",
   "execution_count": null,
   "id": "5cc25cfe-ed99-4069-a675-7d30eb90f107",
   "metadata": {},
   "outputs": [],
   "source": [
    "d = np.array(w.sum(axis=1))\n",
    "D = np.diag(d)\n",
    "L = np.array(np.diag(1/np.sqrt(d)) @ (D-w) @ np.diag(1/np.sqrt(d)))\n",
    "lamb, Psi = np.linalg.eigh(L)\n",
    "Lamb = np.diag(lamb)\n",
    "fhatbar = Psi @ fhat_fiveVTStwo_linearinterpolation.reshape(5,199)\n",
    "power = fhatbar**2 \n",
    "ebayesthresh = importr('EbayesThresh').ebayesthresh\n",
    "power_threshed=np.array([np.array(ebayesthresh(FloatVector(fhatbar[i]**2))) for i in range(5)])    \n",
    "fhatbar_threshed = np.where(power_threshed>0,fhatbar,0)\n",
    "fhatbarhat = Psi @ fhatbar_threshed\n",
    "fhatbarhat_two_linearinterpolation_spatio = fhatbarhat.reshape(199,-1)"
   ]
  },
  {
   "cell_type": "code",
   "execution_count": null,
   "id": "53e70297-c231-4c2d-ad76-61b743fbdf5b",
   "metadata": {},
   "outputs": [],
   "source": [
    "plt.plot(fhatbarhat_two_linearinterpolation_spatio[:,0])\n",
    "plt.plot(fhatbarhat_two_linearinterpolation_spatio[:,1])\n",
    "plt.plot(fhatbarhat_two_linearinterpolation_spatio[:,2])\n",
    "plt.plot(fhatbarhat_two_linearinterpolation_spatio[:,3])\n",
    "plt.plot(fhatbarhat_two_linearinterpolation_spatio[:,4])"
   ]
  },
  {
   "cell_type": "markdown",
   "id": "2b1d4ac9-58dc-4fd5-8c1a-155ebef63716",
   "metadata": {
    "tags": []
   },
   "source": [
    "### 3.2.3. Spatio-Temporal"
   ]
  },
  {
   "cell_type": "markdown",
   "id": "17c02a60-8539-4517-9b97-0430027375e3",
   "metadata": {},
   "source": [
    "#### 1) Block"
   ]
  },
  {
   "cell_type": "code",
   "execution_count": null,
   "id": "8bf2c767-0b63-474b-bbbe-746c21428cc8",
   "metadata": {},
   "outputs": [],
   "source": [
    "w=np.zeros((995,995))"
   ]
  },
  {
   "cell_type": "code",
   "execution_count": null,
   "id": "b32b44f5-0529-422f-9fd0-1404ab7fa72e",
   "metadata": {},
   "outputs": [],
   "source": [
    "for i in range(995):\n",
    "    for j in range(995):\n",
    "        if i==j :\n",
    "            w[i,j] = 0\n",
    "        elif np.abs(i-j) <= 1 : \n",
    "            w[i,j] = 1"
   ]
  },
  {
   "cell_type": "code",
   "execution_count": null,
   "id": "738d1b6b-290e-4860-9f73-956340e78227",
   "metadata": {},
   "outputs": [],
   "source": [
    "d = np.array(w.sum(axis=1))\n",
    "D = np.diag(d)\n",
    "L = np.array(np.diag(1/np.sqrt(d)) @ (D-w) @ np.diag(1/np.sqrt(d)))\n",
    "lamb, Psi = np.linalg.eigh(L)\n",
    "Lamb = np.diag(lamb)\n",
    "fhatbar = Psi @ fhat_linearinterpolation.reshape(995,1)\n",
    "power = fhatbar**2 \n",
    "ebayesthresh = importr('EbayesThresh').ebayesthresh\n",
    "power_threshed=np.array([np.array(ebayesthresh(FloatVector(fhatbar[i]**2))) for i in range(995)])\n",
    "fhatbar_threshed = np.where(power_threshed>0,fhatbar,0)\n",
    "fhatbarhat = Psi @ fhatbar_threshed\n",
    "fhat_linearinterpolation_spatio_temporal = fhatbarhat.reshape(199,5,1)"
   ]
  },
  {
   "cell_type": "code",
   "execution_count": null,
   "id": "52d30cd4-085f-404e-bacd-26380b7d9ae8",
   "metadata": {},
   "outputs": [],
   "source": [
    "plt.plot(fhat_linearinterpolation_spatio_temporal[:,0])\n",
    "plt.plot(fhat_linearinterpolation_spatio_temporal[:,1])\n",
    "plt.plot(fhat_linearinterpolation_spatio_temporal[:,2])\n",
    "plt.plot(fhat_linearinterpolation_spatio_temporal[:,3])\n",
    "plt.plot(fhat_linearinterpolation_spatio_temporal[:,4])"
   ]
  },
  {
   "cell_type": "markdown",
   "id": "a4d5b7fc-0731-464c-a38e-03c68d8ca03a",
   "metadata": {
    "tags": []
   },
   "source": [
    "#### 2) Random missing values"
   ]
  },
  {
   "cell_type": "code",
   "execution_count": null,
   "id": "52bf64e9-faf8-45e0-a082-3ad37d78036d",
   "metadata": {},
   "outputs": [],
   "source": [
    "w=np.zeros((995,995))"
   ]
  },
  {
   "cell_type": "code",
   "execution_count": null,
   "id": "33bf554d-ebeb-41d0-bfbe-b546eb2a4480",
   "metadata": {},
   "outputs": [],
   "source": [
    "for i in range(995):\n",
    "    for j in range(995):\n",
    "        if i==j :\n",
    "            w[i,j] = 0\n",
    "        elif np.abs(i-j) <= 1 : \n",
    "            w[i,j] = 1"
   ]
  },
  {
   "cell_type": "code",
   "execution_count": null,
   "id": "bc817120-7e9b-43df-a755-487400d8cc82",
   "metadata": {},
   "outputs": [],
   "source": [
    "d = np.array(w.sum(axis=1))\n",
    "D = np.diag(d)\n",
    "L = np.array(np.diag(1/np.sqrt(d)) @ (D-w) @ np.diag(1/np.sqrt(d)))\n",
    "lamb, Psi = np.linalg.eigh(L)\n",
    "Lamb = np.diag(lamb)\n",
    "fhatbar = Psi @ fhat_fiveVTSrandom_linearinterpolation.reshape(995,1)\n",
    "power = fhatbar**2 \n",
    "ebayesthresh = importr('EbayesThresh').ebayesthresh\n",
    "power_threshed=np.array([np.array(ebayesthresh(FloatVector(fhatbar[i]**2))) for i in range(995)])\n",
    "fhatbar_threshed = np.where(power_threshed>0,fhatbar,0)\n",
    "fhatbarhat = Psi @ fhatbar_threshed\n",
    "fhat_random_linearinterpolation_spatio_temporal = fhatbarhat.reshape(199,5,1)"
   ]
  },
  {
   "cell_type": "code",
   "execution_count": null,
   "id": "062ed5a2-c6e5-47d8-bfad-483fe2065ee4",
   "metadata": {},
   "outputs": [],
   "source": [
    "plt.plot(fhat_random_linearinterpolation_spatio_temporal[:,0])\n",
    "plt.plot(fhat_random_linearinterpolation_spatio_temporal[:,1])\n",
    "plt.plot(fhat_random_linearinterpolation_spatio_temporal[:,2])\n",
    "plt.plot(fhat_random_linearinterpolation_spatio_temporal[:,3])\n",
    "plt.plot(fhat_random_linearinterpolation_spatio_temporal[:,4])"
   ]
  },
  {
   "cell_type": "markdown",
   "id": "54d4fea5-11f1-4071-9967-92b9e046b547",
   "metadata": {
    "tags": []
   },
   "source": [
    "#### 3) By 2"
   ]
  },
  {
   "cell_type": "code",
   "execution_count": null,
   "id": "e5c224d0-73c5-4a75-96ca-5a1e33a6a1f3",
   "metadata": {},
   "outputs": [],
   "source": [
    "w=np.zeros((995,995))"
   ]
  },
  {
   "cell_type": "code",
   "execution_count": null,
   "id": "4d1a0dc5-59ea-494f-bb8f-239577d76c2d",
   "metadata": {},
   "outputs": [],
   "source": [
    "for i in range(995):\n",
    "    for j in range(995):\n",
    "        if i==j :\n",
    "            w[i,j] = 0\n",
    "        elif np.abs(i-j) <= 1 : \n",
    "            w[i,j] = 1"
   ]
  },
  {
   "cell_type": "code",
   "execution_count": null,
   "id": "2976d888-5371-41c6-af08-97b458b4107d",
   "metadata": {},
   "outputs": [],
   "source": [
    "d = np.array(w.sum(axis=1))\n",
    "D = np.diag(d)\n",
    "L = np.array(np.diag(1/np.sqrt(d)) @ (D-w) @ np.diag(1/np.sqrt(d)))\n",
    "lamb, Psi = np.linalg.eigh(L)\n",
    "Lamb = np.diag(lamb)\n",
    "fhatbar = Psi @ fhat_fiveVTStwo_linearinterpolation.reshape(995,1)\n",
    "power = fhatbar**2 \n",
    "ebayesthresh = importr('EbayesThresh').ebayesthresh\n",
    "power_threshed=np.array([np.array(ebayesthresh(FloatVector(fhatbar[i]**2))) for i in range(995)])\n",
    "fhatbar_threshed = np.where(power_threshed>0,fhatbar,0)\n",
    "fhatbarhat = Psi @ fhatbar_threshed\n",
    "fhat_two_linearinterpolation_spatio_temporal = fhatbarhat.reshape(199,5,1)"
   ]
  },
  {
   "cell_type": "code",
   "execution_count": null,
   "id": "ef4760f0-5a09-4d40-96b9-bfe94e5563bf",
   "metadata": {},
   "outputs": [],
   "source": [
    "plt.plot(fhat_two_linearinterpolation_spatio_temporal[:,0])\n",
    "plt.plot(fhat_two_linearinterpolation_spatio_temporal[:,1])\n",
    "plt.plot(fhat_two_linearinterpolation_spatio_temporal[:,2])\n",
    "plt.plot(fhat_two_linearinterpolation_spatio_temporal[:,3])\n",
    "plt.plot(fhat_two_linearinterpolation_spatio_temporal[:,4])"
   ]
  },
  {
   "cell_type": "markdown",
   "id": "0e79341f-5ea1-429f-8a6e-4fb8244fc673",
   "metadata": {},
   "source": [
    "## 3.3. Normal distribution"
   ]
  },
  {
   "cell_type": "markdown",
   "id": "fe2e0617-00cc-4969-a044-b3f803bba6ee",
   "metadata": {},
   "source": [
    "### 3.3.1. Temporal"
   ]
  },
  {
   "cell_type": "markdown",
   "id": "2c032f95-60ea-4feb-b85c-5dfb0267cee1",
   "metadata": {},
   "source": [
    "#### 1) Block"
   ]
  },
  {
   "cell_type": "code",
   "execution_count": null,
   "id": "ca6b06e0-d4ae-4723-8410-844c0465f98d",
   "metadata": {},
   "outputs": [],
   "source": [
    "w=np.zeros((5,199,199))"
   ]
  },
  {
   "cell_type": "code",
   "execution_count": null,
   "id": "971bf7ef-ba9a-4036-bb60-25693175fd56",
   "metadata": {},
   "outputs": [],
   "source": [
    "for k in range(5):\n",
    "    for i in range(199):\n",
    "        for j in range(199):\n",
    "            if i==j :\n",
    "                w[k,i,j] = 0\n",
    "            elif np.abs(i-j) <= 1 : \n",
    "                w[k,i,j] = 1"
   ]
  },
  {
   "cell_type": "code",
   "execution_count": null,
   "id": "75e14970-ed2d-4b8d-88df-16d1c0d6b816",
   "metadata": {},
   "outputs": [],
   "source": [
    "d = np.array([w[i].sum(axis=1) for i in range(5)])\n",
    "D= np.array([np.diag(d[i]) for i in range(5)])\n",
    "L = np.array([np.diag(1/np.sqrt(d[i])) @ (D[i]-w[i]) @ np.diag(1/np.sqrt(d[i])) for i in range(5)])\n",
    "lamb, Psi  = np.linalg.eigh(L)[0],np.linalg.eigh(L)[1]\n",
    "Lamb = np.array([np.diag(lamb[i]) for i in range(5)])    \n",
    "fhatbar = np.hstack([Psi[i] @ fhat_normal[:,i] for i in range(5)])\n",
    "_fhatbar = fhatbar.reshape(5,199)\n",
    "power = _fhatbar**2 \n",
    "ebayesthresh = importr('EbayesThresh').ebayesthresh\n",
    "power_threshed=np.array([np.array(ebayesthresh(FloatVector(_fhatbar[i]**2))) for i in range(5)])\n",
    "fhatbar_threshed = np.where(power_threshed>0,_fhatbar,0)\n",
    "fhatbarhat = np.array([Psi[i] @ fhatbar_threshed[i] for i in range(5)])    \n",
    "fhatbarhat_normal_temporal = fhatbarhat.reshape(199,-1)"
   ]
  },
  {
   "cell_type": "code",
   "execution_count": null,
   "id": "3daae208-35bb-4e82-b0c1-1f52c5095924",
   "metadata": {},
   "outputs": [],
   "source": [
    "plt.plot(fhatbarhat_normal_temporal[:,0])\n",
    "plt.plot(fhatbarhat_normal_temporal[:,1])\n",
    "plt.plot(fhatbarhat_normal_temporal[:,2])\n",
    "plt.plot(fhatbarhat_normal_temporal[:,3])\n",
    "plt.plot(fhatbarhat_normal_temporal[:,4])"
   ]
  },
  {
   "cell_type": "markdown",
   "id": "550209df-9468-41f9-9be0-e8cca01f1a14",
   "metadata": {
    "tags": []
   },
   "source": [
    "#### 2) Random missing values"
   ]
  },
  {
   "cell_type": "code",
   "execution_count": null,
   "id": "ceb22dd4-8c9c-4d2e-b831-d2a4663abd9b",
   "metadata": {},
   "outputs": [],
   "source": [
    "w=np.zeros((5,199,199))"
   ]
  },
  {
   "cell_type": "code",
   "execution_count": null,
   "id": "a53f6089-9656-48db-897f-3de5f4109e8e",
   "metadata": {},
   "outputs": [],
   "source": [
    "for k in range(5):\n",
    "    for i in range(199):\n",
    "        for j in range(199):\n",
    "            if i==j :\n",
    "                w[k,i,j] = 0\n",
    "            elif np.abs(i-j) <= 1 : \n",
    "                w[k,i,j] = 1"
   ]
  },
  {
   "cell_type": "code",
   "execution_count": null,
   "id": "abe68765-6579-476f-959a-b813df102f1d",
   "metadata": {},
   "outputs": [],
   "source": [
    "d = np.array([w[i].sum(axis=1) for i in range(5)])\n",
    "D= np.array([np.diag(d[i]) for i in range(5)])\n",
    "L = np.array([np.diag(1/np.sqrt(d[i])) @ (D[i]-w[i]) @ np.diag(1/np.sqrt(d[i])) for i in range(5)])\n",
    "lamb, Psi  = np.linalg.eigh(L)[0],np.linalg.eigh(L)[1]\n",
    "Lamb = np.array([np.diag(lamb[i]) for i in range(5)])    \n",
    "fhatbar = np.hstack([Psi[i] @ fhat_fiveVTSrandom_normal[:,i] for i in range(5)])\n",
    "_fhatbar = fhatbar.reshape(5,199)\n",
    "power = _fhatbar**2 \n",
    "ebayesthresh = importr('EbayesThresh').ebayesthresh\n",
    "power_threshed=np.array([np.array(ebayesthresh(FloatVector(_fhatbar[i]**2))) for i in range(5)])\n",
    "fhatbar_threshed = np.where(power_threshed>0,_fhatbar,0)\n",
    "fhatbarhat = np.array([Psi[i] @ fhatbar_threshed[i] for i in range(5)])    \n",
    "fhatbarhat_random_normal_temporal = fhatbarhat.reshape(199,-1)"
   ]
  },
  {
   "cell_type": "code",
   "execution_count": null,
   "id": "8c485d3c-fec5-486e-b2de-c4cb54d586be",
   "metadata": {},
   "outputs": [],
   "source": [
    "plt.plot(fhatbarhat_random_normal_temporal[:,0])\n",
    "plt.plot(fhatbarhat_random_normal_temporal[:,1])\n",
    "plt.plot(fhatbarhat_random_normal_temporal[:,2])\n",
    "plt.plot(fhatbarhat_random_normal_temporal[:,3])\n",
    "plt.plot(fhatbarhat_random_normal_temporal[:,4])"
   ]
  },
  {
   "cell_type": "markdown",
   "id": "efa6d343-0573-46bb-9310-49d0352fd4c0",
   "metadata": {
    "tags": []
   },
   "source": [
    "#### 3) By 2"
   ]
  },
  {
   "cell_type": "code",
   "execution_count": null,
   "id": "57065a6e-4bb9-407b-8e3a-2d4fabb3810d",
   "metadata": {},
   "outputs": [],
   "source": [
    "w=np.zeros((5,199,199))"
   ]
  },
  {
   "cell_type": "code",
   "execution_count": null,
   "id": "49008804-8c87-4bdc-8bd5-546e5252eebe",
   "metadata": {},
   "outputs": [],
   "source": [
    "for k in range(5):\n",
    "    for i in range(199):\n",
    "        for j in range(199):\n",
    "            if i==j :\n",
    "                w[k,i,j] = 0\n",
    "            elif np.abs(i-j) <= 1 : \n",
    "                w[k,i,j] = 1"
   ]
  },
  {
   "cell_type": "code",
   "execution_count": null,
   "id": "c9bd36a6-44e4-4fb6-8468-4914675303f8",
   "metadata": {},
   "outputs": [],
   "source": [
    "d = np.array([w[i].sum(axis=1) for i in range(5)])\n",
    "D= np.array([np.diag(d[i]) for i in range(5)])\n",
    "L = np.array([np.diag(1/np.sqrt(d[i])) @ (D[i]-w[i]) @ np.diag(1/np.sqrt(d[i])) for i in range(5)])\n",
    "lamb, Psi  = np.linalg.eigh(L)[0],np.linalg.eigh(L)[1]\n",
    "Lamb = np.array([np.diag(lamb[i]) for i in range(5)])    \n",
    "fhatbar = np.hstack([Psi[i] @ fhat_fiveVTStwo_normal[:,i] for i in range(5)])\n",
    "_fhatbar = fhatbar.reshape(5,199)\n",
    "power = _fhatbar**2 \n",
    "ebayesthresh = importr('EbayesThresh').ebayesthresh\n",
    "power_threshed=np.array([np.array(ebayesthresh(FloatVector(_fhatbar[i]**2))) for i in range(5)])\n",
    "fhatbar_threshed = np.where(power_threshed>0,_fhatbar,0)\n",
    "fhatbarhat = np.array([Psi[i] @ fhatbar_threshed[i] for i in range(5)])    \n",
    "fhatbarhat_two_normal_temporal = fhatbarhat.reshape(199,-1)"
   ]
  },
  {
   "cell_type": "code",
   "execution_count": null,
   "id": "a1e3559e-4336-4f4c-8aa8-1cbffdfba789",
   "metadata": {},
   "outputs": [],
   "source": [
    "plt.plot(fhatbarhat_two_normal_temporal[:,0])\n",
    "plt.plot(fhatbarhat_two_normal_temporal[:,1])\n",
    "plt.plot(fhatbarhat_two_normal_temporal[:,2])\n",
    "plt.plot(fhatbarhat_two_normal_temporal[:,3])\n",
    "plt.plot(fhatbarhat_two_normal_temporal[:,4])"
   ]
  },
  {
   "cell_type": "markdown",
   "id": "8284ee2f-0341-4a1f-96ad-5f0afe5ed588",
   "metadata": {},
   "source": [
    "### 3.3.2. Spatio"
   ]
  },
  {
   "cell_type": "markdown",
   "id": "60781ad6-f8ab-4f97-a8f7-57beed15a4a0",
   "metadata": {},
   "source": [
    "#### 1) Block"
   ]
  },
  {
   "cell_type": "code",
   "execution_count": null,
   "id": "ca98c7a9-f387-48b9-b1eb-71b809635d45",
   "metadata": {},
   "outputs": [],
   "source": [
    "w=np.zeros((5,5))"
   ]
  },
  {
   "cell_type": "code",
   "execution_count": null,
   "id": "19bde6d0-286d-420c-87ba-19b783b96b99",
   "metadata": {},
   "outputs": [],
   "source": [
    "for i in range(5):\n",
    "    for j in range(5):\n",
    "        if i==j :\n",
    "            w[i,j] = 0\n",
    "        elif np.abs(i-j) <= 1 : \n",
    "            w[i,j] = 1"
   ]
  },
  {
   "cell_type": "code",
   "execution_count": null,
   "id": "2d502226-29b0-4612-9525-032edb50c141",
   "metadata": {},
   "outputs": [],
   "source": [
    "d = np.array(w.sum(axis=1))\n",
    "D = np.diag(d)\n",
    "L = np.array(np.diag(1/np.sqrt(d)) @ (D-w) @ np.diag(1/np.sqrt(d)))\n",
    "lamb, Psi = np.linalg.eigh(L)\n",
    "Lamb = np.diag(lamb)\n",
    "fhatbar = Psi @ fhat_normal.reshape(5,199)\n",
    "power = fhatbar**2 \n",
    "ebayesthresh = importr('EbayesThresh').ebayesthresh\n",
    "power_threshed=np.array([np.array(ebayesthresh(FloatVector(fhatbar[i]**2))) for i in range(5)])\n",
    "fhatbar_threshed = np.where(power_threshed>0,fhatbar,0)\n",
    "fhatbarhat = Psi @ fhatbar_threshed\n",
    "fhatbarhat_normal_spatio = fhatbarhat.reshape(199,-1)"
   ]
  },
  {
   "cell_type": "code",
   "execution_count": null,
   "id": "ccf59a22-5f9a-4b39-8898-7b13bb0f85b9",
   "metadata": {},
   "outputs": [],
   "source": [
    "plt.plot(fhatbarhat_normal_spatio[:,0])\n",
    "plt.plot(fhatbarhat_normal_spatio[:,1])\n",
    "plt.plot(fhatbarhat_normal_spatio[:,2])\n",
    "plt.plot(fhatbarhat_normal_spatio[:,3])\n",
    "plt.plot(fhatbarhat_normal_spatio[:,4])"
   ]
  },
  {
   "cell_type": "markdown",
   "id": "9542588a-3825-489a-9f43-9a4deec52d69",
   "metadata": {
    "tags": []
   },
   "source": [
    "#### 2) Random missing values"
   ]
  },
  {
   "cell_type": "code",
   "execution_count": null,
   "id": "21d82123-52f4-48d7-bb18-6584ad19f5e4",
   "metadata": {},
   "outputs": [],
   "source": [
    "w=np.zeros((5,5))"
   ]
  },
  {
   "cell_type": "code",
   "execution_count": null,
   "id": "44884e71-5e3b-4eb7-a76a-804ed900322c",
   "metadata": {},
   "outputs": [],
   "source": [
    "for i in range(5):\n",
    "    for j in range(5):\n",
    "        if i==j :\n",
    "            w[i,j] = 0\n",
    "        elif np.abs(i-j) <= 1 : \n",
    "            w[i,j] = 1"
   ]
  },
  {
   "cell_type": "code",
   "execution_count": null,
   "id": "c4f9b3e9-4f9d-4c0d-a20c-a3ec1e00cdf3",
   "metadata": {},
   "outputs": [],
   "source": [
    "d = np.array(w.sum(axis=1))\n",
    "D = np.diag(d)\n",
    "L = np.array(np.diag(1/np.sqrt(d)) @ (D-w) @ np.diag(1/np.sqrt(d)))\n",
    "lamb, Psi = np.linalg.eigh(L)\n",
    "Lamb = np.diag(lamb)\n",
    "fhatbar = Psi @ fhat_fiveVTSrandom_normal.reshape(5,199)\n",
    "power = fhatbar**2 \n",
    "ebayesthresh = importr('EbayesThresh').ebayesthresh\n",
    "power_threshed=np.array([np.array(ebayesthresh(FloatVector(fhatbar[i]**2))) for i in range(5)])\n",
    "fhatbar_threshed = np.where(power_threshed>0,fhatbar,0)\n",
    "fhatbarhat = Psi @ fhatbar_threshed\n",
    "fhatbarhat_random_normal_spatio = fhatbarhat.reshape(199,-1)"
   ]
  },
  {
   "cell_type": "code",
   "execution_count": null,
   "id": "5f7dd2ef-8074-4f69-9449-6c396ad0d59f",
   "metadata": {},
   "outputs": [],
   "source": [
    "plt.plot(fhatbarhat_random_normal_spatio[:,0])\n",
    "plt.plot(fhatbarhat_random_normal_spatio[:,1])\n",
    "plt.plot(fhatbarhat_random_normal_spatio[:,2])\n",
    "plt.plot(fhatbarhat_random_normal_spatio[:,3])\n",
    "plt.plot(fhatbarhat_random_normal_spatio[:,4])"
   ]
  },
  {
   "cell_type": "markdown",
   "id": "47940698-3ce7-46c4-abdd-ce6a13587a1e",
   "metadata": {
    "tags": []
   },
   "source": [
    "#### 3) By 2"
   ]
  },
  {
   "cell_type": "code",
   "execution_count": null,
   "id": "2fa95cb6-1b7a-4f5f-baf3-de4b40d5c67f",
   "metadata": {},
   "outputs": [],
   "source": [
    "w=np.zeros((5,5))"
   ]
  },
  {
   "cell_type": "code",
   "execution_count": null,
   "id": "8b80455a-f2af-4efe-b403-71f411bad1c4",
   "metadata": {},
   "outputs": [],
   "source": [
    "for i in range(5):\n",
    "    for j in range(5):\n",
    "        if i==j :\n",
    "            w[i,j] = 0\n",
    "        elif np.abs(i-j) <= 1 : \n",
    "            w[i,j] = 1"
   ]
  },
  {
   "cell_type": "code",
   "execution_count": null,
   "id": "0ad0e992-9db8-4ea8-a07a-d94c9e220471",
   "metadata": {},
   "outputs": [],
   "source": [
    "d = np.array(w.sum(axis=1))\n",
    "D = np.diag(d)\n",
    "L = np.array(np.diag(1/np.sqrt(d)) @ (D-w) @ np.diag(1/np.sqrt(d)))\n",
    "lamb, Psi = np.linalg.eigh(L)\n",
    "Lamb = np.diag(lamb)\n",
    "fhatbar = Psi @ fhat_fiveVTStwo_normal.reshape(5,199)\n",
    "power = fhatbar**2 \n",
    "ebayesthresh = importr('EbayesThresh').ebayesthresh\n",
    "power_threshed=np.array([np.array(ebayesthresh(FloatVector(fhatbar[i]**2))) for i in range(5)])\n",
    "fhatbar_threshed = np.where(power_threshed>0,fhatbar,0)\n",
    "fhatbarhat = Psi @ fhatbar_threshed\n",
    "fhatbarhat_two_normal_spatio = fhatbarhat.reshape(199,-1)"
   ]
  },
  {
   "cell_type": "code",
   "execution_count": null,
   "id": "6a2c5085-f7b9-4b2a-aa1b-a99ee944d385",
   "metadata": {},
   "outputs": [],
   "source": [
    "plt.plot(fhatbarhat_two_normal_spatio[:,0])\n",
    "plt.plot(fhatbarhat_two_normal_spatio[:,1])\n",
    "plt.plot(fhatbarhat_two_normal_spatio[:,2])\n",
    "plt.plot(fhatbarhat_two_normal_spatio[:,3])\n",
    "plt.plot(fhatbarhat_two_normal_spatio[:,4])"
   ]
  },
  {
   "cell_type": "markdown",
   "id": "04a730d2-b325-4dbd-a990-c3bf4faae7b7",
   "metadata": {
    "tags": []
   },
   "source": [
    "### 3.3.3. Spatio-Temporal"
   ]
  },
  {
   "cell_type": "markdown",
   "id": "292a3e08-7f61-40a2-9991-2ad99a1139b1",
   "metadata": {},
   "source": [
    "#### 1) Block"
   ]
  },
  {
   "cell_type": "code",
   "execution_count": null,
   "id": "b5c6b590-8c34-4c3b-9332-f0cfe1146ae0",
   "metadata": {},
   "outputs": [],
   "source": [
    "w=np.zeros((995,995))"
   ]
  },
  {
   "cell_type": "code",
   "execution_count": null,
   "id": "c2ccf064-dc70-47c6-806f-da44b5910e58",
   "metadata": {},
   "outputs": [],
   "source": [
    "for i in range(995):\n",
    "    for j in range(995):\n",
    "        if i==j :\n",
    "            w[i,j] = 0\n",
    "        elif np.abs(i-j) <= 1 : \n",
    "            w[i,j] = 1"
   ]
  },
  {
   "cell_type": "code",
   "execution_count": null,
   "id": "23774ca2-2243-4dc3-9775-049fc281f889",
   "metadata": {},
   "outputs": [],
   "source": [
    "d = np.array(w.sum(axis=1))\n",
    "D = np.diag(d)\n",
    "L = np.array(np.diag(1/np.sqrt(d)) @ (D-w) @ np.diag(1/np.sqrt(d)))\n",
    "lamb, Psi = np.linalg.eigh(L)\n",
    "Lamb = np.diag(lamb)\n",
    "fhatbar = Psi @ fhat_normal.reshape(995,1)\n",
    "power = fhatbar**2 \n",
    "ebayesthresh = importr('EbayesThresh').ebayesthresh\n",
    "power_threshed=np.array([np.array(ebayesthresh(FloatVector(fhatbar[i]**2))) for i in range(995)])\n",
    "fhatbar_threshed = np.where(power_threshed>0,fhatbar,0)\n",
    "fhatbarhat = Psi @ fhatbar_threshed\n",
    "fhatbarhat_normal_spatio_temporal = fhatbarhat.reshape(199,5,1)"
   ]
  },
  {
   "cell_type": "code",
   "execution_count": null,
   "id": "398a52ed-37c3-499b-9831-6bf8c3ae740c",
   "metadata": {},
   "outputs": [],
   "source": [
    "plt.plot(fhatbarhat_normal_spatio_temporal[:,0])\n",
    "plt.plot(fhatbarhat_normal_spatio_temporal[:,1])\n",
    "plt.plot(fhatbarhat_normal_spatio_temporal[:,2])\n",
    "plt.plot(fhatbarhat_normal_spatio_temporal[:,3])\n",
    "plt.plot(fhatbarhat_normal_spatio_temporal[:,4])"
   ]
  },
  {
   "cell_type": "markdown",
   "id": "5654415b-f677-4508-8b78-5ff53aa3f17f",
   "metadata": {
    "tags": []
   },
   "source": [
    "#### 2) Random missing values"
   ]
  },
  {
   "cell_type": "code",
   "execution_count": null,
   "id": "67f5683b-f228-4e5a-b426-efa8377dcfca",
   "metadata": {},
   "outputs": [],
   "source": [
    "w=np.zeros((995,995))"
   ]
  },
  {
   "cell_type": "code",
   "execution_count": null,
   "id": "19f6b65d-dc4b-4638-94fa-de2cebacb6a3",
   "metadata": {},
   "outputs": [],
   "source": [
    "for i in range(995):\n",
    "    for j in range(995):\n",
    "        if i==j :\n",
    "            w[i,j] = 0\n",
    "        elif np.abs(i-j) <= 1 : \n",
    "            w[i,j] = 1"
   ]
  },
  {
   "cell_type": "code",
   "execution_count": null,
   "id": "1a3b1c36-3319-4a2e-aed4-fe9923b56eb6",
   "metadata": {},
   "outputs": [],
   "source": [
    "d = np.array(w.sum(axis=1))\n",
    "D = np.diag(d)\n",
    "L = np.array(np.diag(1/np.sqrt(d)) @ (D-w) @ np.diag(1/np.sqrt(d)))\n",
    "lamb, Psi = np.linalg.eigh(L)\n",
    "Lamb = np.diag(lamb)\n",
    "fhatbar = Psi @ fhat_fiveVTSrandom_normal.reshape(995,1)\n",
    "power = fhatbar**2 \n",
    "ebayesthresh = importr('EbayesThresh').ebayesthresh\n",
    "power_threshed=np.array([np.array(ebayesthresh(FloatVector(fhatbar[i]**2))) for i in range(995)])\n",
    "fhatbar_threshed = np.where(power_threshed>0,fhatbar,0)\n",
    "fhatbarhat = Psi @ fhatbar_threshed\n",
    "fhatbarhat_random_normal_spatio_temporal = fhatbarhat.reshape(199,5,1)"
   ]
  },
  {
   "cell_type": "code",
   "execution_count": null,
   "id": "310297e6-c7b0-4678-80ec-931ffb4d6da2",
   "metadata": {},
   "outputs": [],
   "source": [
    "plt.plot(fhatbarhat_random_normal_spatio_temporal[:,0])\n",
    "plt.plot(fhatbarhat_random_normal_spatio_temporal[:,1])\n",
    "plt.plot(fhatbarhat_random_normal_spatio_temporal[:,2])\n",
    "plt.plot(fhatbarhat_random_normal_spatio_temporal[:,3])\n",
    "plt.plot(fhatbarhat_random_normal_spatio_temporal[:,4])"
   ]
  },
  {
   "cell_type": "markdown",
   "id": "9792f63a-32a3-4751-8db6-3e2f0f2b41d5",
   "metadata": {
    "tags": []
   },
   "source": [
    "#### 3) By 2"
   ]
  },
  {
   "cell_type": "code",
   "execution_count": null,
   "id": "fcf5dd62-8a11-4b17-b76e-1c916c994e0e",
   "metadata": {},
   "outputs": [],
   "source": [
    "w=np.zeros((995,995))"
   ]
  },
  {
   "cell_type": "code",
   "execution_count": null,
   "id": "36e945a3-7b97-4e3f-bbec-81d3ec1af350",
   "metadata": {},
   "outputs": [],
   "source": [
    "for i in range(995):\n",
    "    for j in range(995):\n",
    "        if i==j :\n",
    "            w[i,j] = 0\n",
    "        elif np.abs(i-j) <= 1 : \n",
    "            w[i,j] = 1"
   ]
  },
  {
   "cell_type": "code",
   "execution_count": null,
   "id": "6ac6ecf7-a16d-4854-a7a4-c167a20864c7",
   "metadata": {},
   "outputs": [],
   "source": [
    "d = np.array(w.sum(axis=1))\n",
    "D = np.diag(d)\n",
    "L = np.array(np.diag(1/np.sqrt(d)) @ (D-w) @ np.diag(1/np.sqrt(d)))\n",
    "lamb, Psi = np.linalg.eigh(L)\n",
    "Lamb = np.diag(lamb)\n",
    "fhatbar = Psi @ fhat_fiveVTStwo_normal.reshape(995,1)\n",
    "power = fhatbar**2 \n",
    "ebayesthresh = importr('EbayesThresh').ebayesthresh\n",
    "power_threshed=np.array([np.array(ebayesthresh(FloatVector(fhatbar[i]**2))) for i in range(995)])\n",
    "fhatbar_threshed = np.where(power_threshed>0,fhatbar,0)\n",
    "fhatbarhat = Psi @ fhatbar_threshed\n",
    "fhatbarhat_two_normal_spatio_temporal = fhatbarhat.reshape(199,5,1)"
   ]
  },
  {
   "cell_type": "code",
   "execution_count": null,
   "id": "3603ed73-daa2-4caf-b0a2-543651874b70",
   "metadata": {},
   "outputs": [],
   "source": [
    "plt.plot(fhatbarhat_two_normal_spatio_temporal[:,0])\n",
    "plt.plot(fhatbarhat_two_normal_spatio_temporal[:,1])\n",
    "plt.plot(fhatbarhat_two_normal_spatio_temporal[:,2])\n",
    "plt.plot(fhatbarhat_two_normal_spatio_temporal[:,3])\n",
    "plt.plot(fhatbarhat_two_normal_spatio_temporal[:,4])"
   ]
  },
  {
   "cell_type": "markdown",
   "id": "8d1a7dd2-17a3-4e56-8c62-8065ba78f7e0",
   "metadata": {},
   "source": [
    "# 4. 1로 돌아가서 반복 "
   ]
  },
  {
   "cell_type": "code",
   "execution_count": null,
   "id": "441407a9-156c-497f-b9ca-3ea257cf77da",
   "metadata": {
    "tags": []
   },
   "outputs": [],
   "source": []
  }
 ],
 "metadata": {
  "kernelspec": {
   "display_name": "Python 3 (ipykernel)",
   "language": "python",
   "name": "python3"
  },
  "language_info": {
   "codemirror_mode": {
    "name": "ipython",
    "version": 3
   },
   "file_extension": ".py",
   "mimetype": "text/x-python",
   "name": "python",
   "nbconvert_exporter": "python",
   "pygments_lexer": "ipython3",
   "version": "3.8.12"
  }
 },
 "nbformat": 4,
 "nbformat_minor": 5
}

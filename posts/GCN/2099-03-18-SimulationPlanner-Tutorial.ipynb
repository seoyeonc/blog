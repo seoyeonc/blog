{
 "cells": [
  {
   "cell_type": "raw",
   "id": "43e511fe-f020-4da6-a9ca-f80abb6cddbf",
   "metadata": {
    "id": "cac470df-29e7-4148-9bbd-d8b9a32fa570",
    "tags": []
   },
   "source": [
    "---\n",
    "title: \"SimualtionPlanner-Tutorial\"\n",
    "author: \"SEOYEON CHOI\"\n",
    "date: \"2023-03-18\"\n",
    "categories:\n",
    "  - ST-GCN\n",
    "---"
   ]
  },
  {
   "cell_type": "markdown",
   "id": "f4865201-e9bc-4c2e-bcd8-3a19d2f95745",
   "metadata": {},
   "source": [
    "> table"
   ]
  },
  {
   "cell_type": "markdown",
   "id": "dc6de1ad-98a8-4253-98f8-9646c39ec87a",
   "metadata": {},
   "source": [
    "# BLOCK"
   ]
  },
  {
   "cell_type": "markdown",
   "id": "53844e96-b667-4791-9d0c-5941aea8ca23",
   "metadata": {},
   "source": [
    "# List"
   ]
  },
  {
   "cell_type": "markdown",
   "id": "946b4c2d-3623-4535-84ca-d4300c617684",
   "metadata": {},
   "source": [
    "1.\n",
    "\n",
    "- max_iter=30/linear/epoch=50~200/STGCN,IT-STGCN\n",
    "\n",
    "2.\n",
    "\n",
    "- missing 만드는 법(block 생각)\n",
    "\n",
    "3.\n",
    "\n",
    "-\n",
    "\n",
    "4.반복의미 없음, 고정된 값 출력되어서\n",
    "\n",
    "- \n",
    "\n",
    "할 거\n",
    "\n",
    "- missing 0일 때 STGCN/GNAR 비교(CHECK)\n",
    "- baseline 제시될만한 데이터셋 뭘까.\n",
    "- GNAR warning 안 나오는 법 찾아보기\n",
    "- mindex가 중요ㅡ mtype은 기록용으로만 사용됨"
   ]
  },
  {
   "cell_type": "markdown",
   "id": "9d5d75dc-142d-4a0a-b7c9-05f39905ff50",
   "metadata": {},
   "source": [
    "`_df = pd.concat([_a,,_b,_c],axis=0)`\n",
    "\n",
    "`save_data(_df, './data/Pedal_estgcn_randomly_by_rate.pkl')`"
   ]
  },
  {
   "cell_type": "markdown",
   "id": "edd8b536-1515-4b51-9a99-95974bad6c75",
   "metadata": {},
   "source": [
    "# imports"
   ]
  },
  {
   "cell_type": "markdown",
   "id": "d1cec205-84b2-40db-9bff-706736a53c50",
   "metadata": {},
   "source": [
    "https://pytorch-geometric-temporal.readthedocs.io/en/latest/_modules/index.html"
   ]
  },
  {
   "cell_type": "code",
   "execution_count": null,
   "id": "b0c2e707-a477-4cbd-b8ff-3dd35c65266e",
   "metadata": {},
   "outputs": [],
   "source": [
    "import itstgcnTGCN\n",
    "import torch\n",
    "import itstgcnTGCN.planner "
   ]
  },
  {
   "cell_type": "code",
   "execution_count": null,
   "id": "16756a05-f15e-4262-8afa-ad4c5a780617",
   "metadata": {},
   "outputs": [],
   "source": [
    "from torch_geometric_temporal.dataset import ChickenpoxDatasetLoader\n",
    "loader1 = ChickenpoxDatasetLoader()"
   ]
  },
  {
   "cell_type": "code",
   "execution_count": null,
   "id": "b2960ce7-2237-46ca-b562-7ebfc7b549bc",
   "metadata": {},
   "outputs": [],
   "source": [
    "from torch_geometric_temporal.dataset import PedalMeDatasetLoader\n",
    "loader2 = PedalMeDatasetLoader()"
   ]
  },
  {
   "cell_type": "code",
   "execution_count": null,
   "id": "23e27442-0481-4349-b96a-84621cb5ac8c",
   "metadata": {},
   "outputs": [],
   "source": [
    "from torch_geometric_temporal.dataset import WikiMathsDatasetLoader\n",
    "loader3 = WikiMathsDatasetLoader()"
   ]
  },
  {
   "cell_type": "code",
   "execution_count": null,
   "id": "3b297fa0-fc38-44bb-b3b3-f97c97802d3f",
   "metadata": {},
   "outputs": [],
   "source": [
    "from torch_geometric_temporal.dataset import WindmillOutputLargeDatasetLoader\n",
    "loader4 = WindmillOutputLargeDatasetLoader()"
   ]
  },
  {
   "cell_type": "code",
   "execution_count": null,
   "id": "1944c523-712d-4dfd-9ec5-d1e273ab3cf7",
   "metadata": {},
   "outputs": [],
   "source": [
    "from torch_geometric_temporal.dataset import WindmillOutputMediumDatasetLoader\n",
    "loader5 = WindmillOutputMediumDatasetLoader()"
   ]
  },
  {
   "cell_type": "code",
   "execution_count": null,
   "id": "7f3df9c9-77df-49f7-9bf6-0eb0766d9256",
   "metadata": {},
   "outputs": [],
   "source": [
    "from torch_geometric_temporal.dataset import WindmillOutputSmallDatasetLoader\n",
    "loader6 = WindmillOutputSmallDatasetLoader()"
   ]
  },
  {
   "cell_type": "code",
   "execution_count": 2,
   "id": "5a938b6b-d6a0-4314-b6d3-b8366625d99d",
   "metadata": {},
   "outputs": [],
   "source": [
    "loader6 = itstgcnTGCN.load_data('./data/Windmillsmall.pkl')"
   ]
  },
  {
   "cell_type": "code",
   "execution_count": null,
   "id": "99d248af-22a0-4ccd-ba54-c694b658f78d",
   "metadata": {},
   "outputs": [],
   "source": [
    "# dataset6 = _a.get_dataset(lags=8)"
   ]
  },
  {
   "cell_type": "code",
   "execution_count": null,
   "id": "2bc19553-a5dd-4ee1-9de9-271bc0c60392",
   "metadata": {},
   "outputs": [],
   "source": [
    "from torch_geometric_temporal.dataset import MontevideoBusDatasetLoader\n",
    "loader10 = MontevideoBusDatasetLoader()"
   ]
  },
  {
   "cell_type": "code",
   "execution_count": null,
   "id": "9ae168e9-d9f5-493b-a0c7-ef6732db2e7c",
   "metadata": {},
   "outputs": [],
   "source": [
    "import numpy as np"
   ]
  },
  {
   "cell_type": "code",
   "execution_count": null,
   "id": "94377899-9d9e-4c8d-854e-80c6d3b24b33",
   "metadata": {},
   "outputs": [],
   "source": [
    "import pandas as pd"
   ]
  },
  {
   "cell_type": "markdown",
   "id": "9831dd41-f751-46de-a7c5-927d1a82cb3b",
   "metadata": {},
   "source": [
    "# read data"
   ]
  },
  {
   "cell_type": "code",
   "execution_count": null,
   "id": "32330e84-252e-4009-8076-cd44cd9704cd",
   "metadata": {},
   "outputs": [],
   "source": [
    "# _data = itstgcn.load_data('./data/fivenodes.pkl')\n",
    "# _edges = torch.tensor(_data['edges']).nonzero().tolist()\n",
    "# _FX = _data['f'].tolist()\n",
    "# _node_ids = {'node1':0, 'node2':1, 'node3':2, 'node4':3, 'node5':4} \n",
    "# data_dict = {'edges':_edges, 'node_ids':_node_ids, 'FX':_FX}\n",
    "data_dict = itstgcn.load_data('./data/fivenodes.pkl')\n",
    "loader = itstgcn.DatasetLoader(data_dict)"
   ]
  },
  {
   "cell_type": "markdown",
   "id": "ec8a3c6f-83fa-4b5a-bb13-7cad1a5fe803",
   "metadata": {
    "tags": []
   },
   "source": [
    "## PLNR_STGCN_RAND"
   ]
  },
  {
   "cell_type": "code",
   "execution_count": null,
   "id": "37ae8437-00d6-4787-a8e4-a72839f9a70d",
   "metadata": {},
   "outputs": [],
   "source": [
    "plans_stgcn_rand = {\n",
    "    'max_iteration': 30, \n",
    "    'method': ['STGCN', 'IT-STGCN'],\n",
    "    'mrate': [0,0.7,0.8],\n",
    "    'lags': [2], \n",
    "    'nof_filters': [12], \n",
    "    'inter_method': ['linear','nearest'],\n",
    "    'epoch': [50]\n",
    "}"
   ]
  },
  {
   "cell_type": "code",
   "execution_count": null,
   "id": "fc58e8ec-757f-4bb1-b8ce-cddff83c6ecf",
   "metadata": {},
   "outputs": [],
   "source": [
    "plnr = itstgcn.planner.PLNR_STGCN_RAND(plans_stgcn_rand,loader1,dataset_name='fivenodes')\n",
    "plnr.simulate()"
   ]
  },
  {
   "cell_type": "code",
   "execution_count": null,
   "id": "f0dbba6a-1e3e-44b8-bfaf-bb329c155cd9",
   "metadata": {},
   "outputs": [],
   "source": [
    "plans_stgcn_rand = {\n",
    "    'max_iteration': 30, \n",
    "    'method': ['STGCN', 'IT-STGCN'],\n",
    "    'mrate': [0.3,0.8],\n",
    "    'lags': [4], \n",
    "    'nof_filters': [16], \n",
    "    'inter_method': ['linear'],\n",
    "    'epoch': [50]\n",
    "}"
   ]
  },
  {
   "cell_type": "code",
   "execution_count": null,
   "id": "6d04b017-62ba-4083-aac6-ff18da23babe",
   "metadata": {},
   "outputs": [],
   "source": [
    "plnr = itstgcn.planner.PLNR_STGCN_RAND(plans_stgcn_rand,loader1,dataset_name='chickenpox')\n",
    "plnr.simulate()"
   ]
  },
  {
   "cell_type": "code",
   "execution_count": null,
   "id": "005801a0-e5e5-4ea4-8596-6a719314ff13",
   "metadata": {},
   "outputs": [],
   "source": [
    "plans_stgcn_rand = {\n",
    "    'max_iteration': 30, \n",
    "    'method': ['STGCN', 'IT-STGCN'],\n",
    "    'mrate': [0],\n",
    "    'lags': [4], \n",
    "    'nof_filters': [16], \n",
    "    'inter_method': ['linear'],\n",
    "    'epoch': [50]\n",
    "}"
   ]
  },
  {
   "cell_type": "code",
   "execution_count": null,
   "id": "fbdb8583-d464-4659-8dd5-5582a3f4ea75",
   "metadata": {},
   "outputs": [],
   "source": [
    "plnr = itstgcn.planner.PLNR_STGCN_RAND(plans_stgcn_rand,loader1,dataset_name='chickenpox')\n",
    "plnr.simulate()"
   ]
  },
  {
   "cell_type": "code",
   "execution_count": null,
   "id": "bcd60841-8437-43f1-a1fa-ffd3d02fadc3",
   "metadata": {},
   "outputs": [],
   "source": [
    "plans_stgcn_rand = {\n",
    "    'max_iteration': 1, \n",
    "    'method': ['STGCN', 'IT-STGCN'], \n",
    "    'mrate': [0],\n",
    "    'lags': [8], \n",
    "    'nof_filters': [12], \n",
    "    'inter_method': ['linear'],\n",
    "    'epoch': [50]\n",
    "}"
   ]
  },
  {
   "cell_type": "code",
   "execution_count": null,
   "id": "0264e6bc-bc91-43cf-8c3b-88aefcf9c21e",
   "metadata": {},
   "outputs": [],
   "source": [
    "plnr = itstgcn.planner.PLNR_STGCN_RAND(plans_stgcn_rand,loader6,dataset_name='windmillsmall')\n",
    "plnr.simulate()"
   ]
  },
  {
   "cell_type": "code",
   "execution_count": null,
   "id": "b0a9bcb9-8245-4f1e-b43d-6c15e183c3c6",
   "metadata": {},
   "outputs": [],
   "source": []
  },
  {
   "cell_type": "code",
   "execution_count": null,
   "id": "aa4ed395-b7f1-4e44-867c-e23fe5a6941f",
   "metadata": {},
   "outputs": [],
   "source": []
  },
  {
   "cell_type": "code",
   "execution_count": null,
   "id": "3da085b6-85be-4482-924a-3b4fd0705ac5",
   "metadata": {},
   "outputs": [],
   "source": []
  },
  {
   "cell_type": "code",
   "execution_count": null,
   "id": "308c2512-765e-4b6d-84b1-3a122bd6c11b",
   "metadata": {},
   "outputs": [],
   "source": []
  },
  {
   "cell_type": "code",
   "execution_count": null,
   "id": "d420bb17-b6af-4b0b-b5aa-65994c3b0f88",
   "metadata": {},
   "outputs": [],
   "source": []
  },
  {
   "cell_type": "code",
   "execution_count": null,
   "id": "f8aac47e-ee0a-4d34-a076-a3b3c7080988",
   "metadata": {},
   "outputs": [],
   "source": [
    "plans_stgcn_rand = {\n",
    "    'max_iteration': 10, \n",
    "    'method': ['STGCN', 'IT-STGCN'], \n",
    "    'mrate': [0.3],\n",
    "    'lags': [2, 4], \n",
    "    'nof_filters': [12], \n",
    "    'inter_method': ['linear'],\n",
    "    'epoch': [50]\n",
    "}"
   ]
  },
  {
   "cell_type": "code",
   "execution_count": null,
   "id": "dcb54feb-54e6-4956-ab43-f57e2f8b3422",
   "metadata": {},
   "outputs": [],
   "source": [
    "plnr = itstgcnadd.planner.PLNR_STGCN_RAND(plans_stgcn_rand,loader3,dataset_name='wikimath')"
   ]
  },
  {
   "cell_type": "code",
   "execution_count": null,
   "id": "d69c1d34-df01-4936-a1de-7323c5bf8370",
   "metadata": {},
   "outputs": [],
   "source": [
    "plnr.simulate()"
   ]
  },
  {
   "cell_type": "code",
   "execution_count": null,
   "id": "a5c2a50b-961c-4a13-922d-e29b8f5bfc3f",
   "metadata": {},
   "outputs": [],
   "source": []
  },
  {
   "cell_type": "code",
   "execution_count": null,
   "id": "ff57f31f-6d97-4fca-9f4b-1929ea145aee",
   "metadata": {},
   "outputs": [],
   "source": []
  },
  {
   "cell_type": "code",
   "execution_count": null,
   "id": "0d73d9e6-90a9-4dc3-b439-640ad419c6ff",
   "metadata": {},
   "outputs": [],
   "source": []
  },
  {
   "cell_type": "code",
   "execution_count": null,
   "id": "454f8322-f470-435a-8006-8ffdf28e6104",
   "metadata": {},
   "outputs": [],
   "source": []
  },
  {
   "cell_type": "code",
   "execution_count": null,
   "id": "e0df4d95-133c-4a3a-b2b8-bad44133e408",
   "metadata": {},
   "outputs": [],
   "source": [
    "plans_stgcn_rand = {\n",
    "    'max_iteration': 1, \n",
    "    'method': ['STGCN', 'IT-STGCN'], \n",
    "    'RecurrentGCN' : ['DCRNN'],\n",
    "    'mrate': [0],\n",
    "    'lags': [8], \n",
    "    'nof_filters': [12], \n",
    "    'inter_method': ['linear'],\n",
    "    'epoch': [50]\n",
    "}"
   ]
  },
  {
   "cell_type": "code",
   "execution_count": null,
   "id": "efe19fac-b130-4db2-89a1-b8f7f402c045",
   "metadata": {},
   "outputs": [],
   "source": [
    "plnr = itstgcnadd.planner.PLNR_STGCN_RAND(plans_stgcn_rand,loader6,dataset_name='windmillsmall')\n",
    "plnr.simulate()"
   ]
  },
  {
   "cell_type": "code",
   "execution_count": 3,
   "id": "a5875979-2776-42f0-b065-dd36707cb79c",
   "metadata": {},
   "outputs": [],
   "source": [
    "my_list = [[] for _ in range(11)] #windmilsmall\n",
    "another_list = list(range(5000,7500)) # 17470*0.8 = 13976.0\n",
    "my_list[1] = another_list\n",
    "my_list[3] = another_list\n",
    "my_list[5] = another_list\n",
    "my_list[7] = another_list\n",
    "my_list[9] = another_list\n",
    "mindex = my_list"
   ]
  },
  {
   "cell_type": "code",
   "execution_count": 4,
   "id": "8a92b2f4-b5f5-4caf-9f8e-1db9474d9125",
   "metadata": {},
   "outputs": [],
   "source": [
    "# mindex= [[],[],[],list(range(50,150)),[]]  # node 1\n",
    "# mindex= [list(range(10,100)),[],list(range(50,80)),[],[]] # node 2\n",
    "# mindex= [list(range(10,100)),[],list(range(50,80)),list(range(50,150)),[]] # node3\n",
    "plans_stgcn_block = {\n",
    "    'max_iteration': 1, \n",
    "    'method': ['STGCN', 'IT-STGCN'], \n",
    "    'mindex': [mindex],\n",
    "    'lags': [8], \n",
    "    'nof_filters': [12], \n",
    "    'inter_method': ['linear'],\n",
    "    'epoch': [50]\n",
    "}"
   ]
  },
  {
   "cell_type": "code",
   "execution_count": null,
   "id": "c38b133a-6b74-426c-aa6b-162eed00b695",
   "metadata": {},
   "outputs": [
    {
     "name": "stderr",
     "output_type": "stream",
     "text": [
      "/home/csy/Dropbox/blog/posts/GCN/itstgcnTGCN/utils.py:71: UserWarning: Creating a tensor from a list of numpy.ndarrays is extremely slow. Please consider converting the list to a single numpy.ndarray with numpy.array() before converting to a tensor. (Triggered internally at /opt/conda/conda-bld/pytorch_1682343998658/work/torch/csrc/utils/tensor_new.cpp:245.)\n",
      "  lags = torch.tensor(train_dataset.features).shape[-1]\n"
     ]
    },
    {
     "name": "stdout",
     "output_type": "stream",
     "text": [
      "5/50\r"
     ]
    }
   ],
   "source": [
    "plnr = itstgcnTGCN.planner.PLNR_STGCN_MANUAL(plans_stgcn_block,loader6,dataset_name='windmillsmall')\n",
    "plnr.simulate(mindex=mindex,mtype='block')"
   ]
  },
  {
   "cell_type": "code",
   "execution_count": null,
   "id": "d11240c9-116c-49f3-ac65-df480755c9b0",
   "metadata": {},
   "outputs": [],
   "source": [
    "plnr = itstgcnTGCN.planner.PLNR_STGCN_MANUAL(plans_stgcn_block,loader6,dataset_name='windmillsmall')\n",
    "plnr.simulate(mindex=mindex,mtype='block')"
   ]
  },
  {
   "cell_type": "code",
   "execution_count": null,
   "id": "91f109ad-6303-42e8-a8e3-e4dd69d8496d",
   "metadata": {},
   "outputs": [],
   "source": [
    "plnr = itstgcnTGCN.planner.PLNR_STGCN_MANUAL(plans_stgcn_block,loader6,dataset_name='windmillsmall')\n",
    "plnr.simulate(mindex=mindex,mtype='block')"
   ]
  },
  {
   "cell_type": "code",
   "execution_count": null,
   "id": "1f78e823-9f30-4fc6-b92d-a2e50c9a2037",
   "metadata": {},
   "outputs": [],
   "source": [
    "plnr = itstgcnTGCN.planner.PLNR_STGCN_MANUAL(plans_stgcn_block,loader6,dataset_name='windmillsmall')\n",
    "plnr.simulate(mindex=mindex,mtype='block')"
   ]
  },
  {
   "cell_type": "code",
   "execution_count": null,
   "id": "cb42903f-d3c3-4c9a-8bac-9c1c229af8ec",
   "metadata": {},
   "outputs": [],
   "source": [
    "plnr = itstgcnTGCN.planner.PLNR_STGCN_MANUAL(plans_stgcn_block,loader6,dataset_name='windmillsmall')\n",
    "plnr.simulate(mindex=mindex,mtype='block')"
   ]
  },
  {
   "cell_type": "code",
   "execution_count": null,
   "id": "049529b6-6af4-47c4-8261-ab3a5025341d",
   "metadata": {},
   "outputs": [],
   "source": [
    "plnr = itstgcnTGCN.planner.PLNR_STGCN_MANUAL(plans_stgcn_block,loader6,dataset_name='windmillsmall')\n",
    "plnr.simulate(mindex=mindex,mtype='block')"
   ]
  },
  {
   "cell_type": "code",
   "execution_count": null,
   "id": "d2aa69d2-9512-4ceb-82cf-d11b19077cec",
   "metadata": {},
   "outputs": [],
   "source": [
    "plnr = itstgcnTGCN.planner.PLNR_STGCN_MANUAL(plans_stgcn_block,loader6,dataset_name='windmillsmall')\n",
    "plnr.simulate(mindex=mindex,mtype='block')"
   ]
  },
  {
   "cell_type": "code",
   "execution_count": null,
   "id": "1054a5e8-08b9-439f-9d30-08e10f63bdf2",
   "metadata": {},
   "outputs": [],
   "source": [
    "plnr = itstgcnTGCN.planner.PLNR_STGCN_MANUAL(plans_stgcn_block,loader6,dataset_name='windmillsmall')\n",
    "plnr.simulate(mindex=mindex,mtype='block')"
   ]
  },
  {
   "cell_type": "code",
   "execution_count": null,
   "id": "32212c4b-9450-43d0-8948-f2fca62661ce",
   "metadata": {},
   "outputs": [],
   "source": [
    "plnr = itstgcnTGCN.planner.PLNR_STGCN_MANUAL(plans_stgcn_block,loader6,dataset_name='windmillsmall')\n",
    "plnr.simulate(mindex=mindex,mtype='block')"
   ]
  },
  {
   "cell_type": "code",
   "execution_count": null,
   "id": "599c314e-5405-4997-a945-b33adf3b56db",
   "metadata": {},
   "outputs": [],
   "source": [
    "plnr = itstgcnTGCN.planner.PLNR_STGCN_MANUAL(plans_stgcn_block,loader6,dataset_name='windmillsmall')\n",
    "plnr.simulate(mindex=mindex,mtype='block')"
   ]
  },
  {
   "cell_type": "code",
   "execution_count": null,
   "id": "542b5d8b-52ec-4539-989c-af1b5f520b50",
   "metadata": {},
   "outputs": [],
   "source": [
    "plnr = itstgcnTGCN.planner.PLNR_STGCN_MANUAL(plans_stgcn_block,loader6,dataset_name='windmillsmall')\n",
    "plnr.simulate(mindex=mindex,mtype='block')"
   ]
  },
  {
   "cell_type": "code",
   "execution_count": null,
   "id": "96e534a8-91fb-4473-93e8-80925ce5d333",
   "metadata": {},
   "outputs": [],
   "source": [
    "plnr = itstgcnTGCN.planner.PLNR_STGCN_MANUAL(plans_stgcn_block,loader6,dataset_name='windmillsmall')\n",
    "plnr.simulate(mindex=mindex,mtype='block')"
   ]
  },
  {
   "cell_type": "code",
   "execution_count": null,
   "id": "1fa11d86-f96f-429a-a20b-3e6db420acd9",
   "metadata": {},
   "outputs": [],
   "source": [
    "plnr = itstgcnTGCN.planner.PLNR_STGCN_MANUAL(plans_stgcn_block,loader6,dataset_name='windmillsmall')\n",
    "plnr.simulate(mindex=mindex,mtype='block')"
   ]
  },
  {
   "cell_type": "code",
   "execution_count": null,
   "id": "e5cc4f9e-f285-408b-820c-8fd4d177a935",
   "metadata": {},
   "outputs": [],
   "source": [
    "plnr = itstgcnTGCN.planner.PLNR_STGCN_MANUAL(plans_stgcn_block,loader6,dataset_name='windmillsmall')\n",
    "plnr.simulate(mindex=mindex,mtype='block')"
   ]
  },
  {
   "cell_type": "code",
   "execution_count": null,
   "id": "992d193d-4564-4047-99be-05075284dd87",
   "metadata": {},
   "outputs": [],
   "source": [
    "plnr = itstgcnTGCN.planner.PLNR_STGCN_MANUAL(plans_stgcn_block,loader6,dataset_name='windmillsmall')\n",
    "plnr.simulate(mindex=mindex,mtype='block')"
   ]
  },
  {
   "cell_type": "code",
   "execution_count": null,
   "id": "3d2298d4-2db0-4f4d-897f-e803e59aaeb2",
   "metadata": {},
   "outputs": [],
   "source": [
    "plnr = itstgcnTGCN.planner.PLNR_STGCN_MANUAL(plans_stgcn_block,loader6,dataset_name='windmillsmall')\n",
    "plnr.simulate(mindex=mindex,mtype='block')"
   ]
  },
  {
   "cell_type": "code",
   "execution_count": null,
   "id": "b05c35e5-8312-4ae4-98b3-93cb72f024d5",
   "metadata": {},
   "outputs": [],
   "source": [
    "plnr = itstgcnTGCN.planner.PLNR_STGCN_MANUAL(plans_stgcn_block,loader6,dataset_name='windmillsmall')\n",
    "plnr.simulate(mindex=mindex,mtype='block')"
   ]
  },
  {
   "cell_type": "code",
   "execution_count": null,
   "id": "f918d157-1124-41b0-b3c9-edf748e429a7",
   "metadata": {},
   "outputs": [],
   "source": [
    "plnr = itstgcnTGCN.planner.PLNR_STGCN_MANUAL(plans_stgcn_block,loader6,dataset_name='windmillsmall')\n",
    "plnr.simulate(mindex=mindex,mtype='block')"
   ]
  },
  {
   "cell_type": "code",
   "execution_count": null,
   "id": "f85bea6f-c84c-415f-9670-5dd1799cdfe9",
   "metadata": {},
   "outputs": [],
   "source": [
    "plnr = itstgcnTGCN.planner.PLNR_STGCN_MANUAL(plans_stgcn_block,loader6,dataset_name='windmillsmall')\n",
    "plnr.simulate(mindex=mindex,mtype='block')"
   ]
  },
  {
   "cell_type": "code",
   "execution_count": null,
   "id": "2873365a-5b16-42d0-812c-60c7a63bef5d",
   "metadata": {},
   "outputs": [],
   "source": [
    "plnr = itstgcnTGCN.planner.PLNR_STGCN_MANUAL(plans_stgcn_block,loader6,dataset_name='windmillsmall')\n",
    "plnr.simulate(mindex=mindex,mtype='block')"
   ]
  },
  {
   "cell_type": "code",
   "execution_count": null,
   "id": "576da8e5-93bb-41d3-ad5f-a809a3b23504",
   "metadata": {},
   "outputs": [],
   "source": [
    "plnr = itstgcnTGCN.planner.PLNR_STGCN_MANUAL(plans_stgcn_block,loader6,dataset_name='windmillsmall')\n",
    "plnr.simulate(mindex=mindex,mtype='block')"
   ]
  },
  {
   "cell_type": "code",
   "execution_count": null,
   "id": "d915c5b2-753e-42bc-8458-7529e8ee8912",
   "metadata": {},
   "outputs": [],
   "source": [
    "plnr = itstgcnTGCN.planner.PLNR_STGCN_MANUAL(plans_stgcn_block,loader6,dataset_name='windmillsmall')\n",
    "plnr.simulate(mindex=mindex,mtype='block')"
   ]
  },
  {
   "cell_type": "code",
   "execution_count": null,
   "id": "851455d6-8b00-47eb-b2f0-688b724deff3",
   "metadata": {},
   "outputs": [],
   "source": [
    "plnr = itstgcnTGCN.planner.PLNR_STGCN_MANUAL(plans_stgcn_block,loader6,dataset_name='windmillsmall')\n",
    "plnr.simulate(mindex=mindex,mtype='block')"
   ]
  },
  {
   "cell_type": "code",
   "execution_count": null,
   "id": "66365f8f-d150-40c3-8dd1-7e2deab0b69c",
   "metadata": {},
   "outputs": [],
   "source": [
    "plnr = itstgcnTGCN.planner.PLNR_STGCN_MANUAL(plans_stgcn_block,loader6,dataset_name='windmillsmall')\n",
    "plnr.simulate(mindex=mindex,mtype='block')"
   ]
  },
  {
   "cell_type": "code",
   "execution_count": null,
   "id": "e94820e7-2d1b-41f3-a36f-ef9314dc946c",
   "metadata": {},
   "outputs": [],
   "source": [
    "plnr = itstgcnTGCN.planner.PLNR_STGCN_MANUAL(plans_stgcn_block,loader6,dataset_name='windmillsmall')\n",
    "plnr.simulate(mindex=mindex,mtype='block')"
   ]
  },
  {
   "cell_type": "code",
   "execution_count": null,
   "id": "17d8bb4e-cc6d-4146-b918-952271c7d983",
   "metadata": {},
   "outputs": [],
   "source": [
    "plnr = itstgcnTGCN.planner.PLNR_STGCN_MANUAL(plans_stgcn_block,loader6,dataset_name='windmillsmall')\n",
    "plnr.simulate(mindex=mindex,mtype='block')"
   ]
  },
  {
   "cell_type": "code",
   "execution_count": null,
   "id": "adcba798-3986-402d-8082-7e95795d2ff4",
   "metadata": {},
   "outputs": [],
   "source": [
    "plnr = itstgcnTGCN.planner.PLNR_STGCN_MANUAL(plans_stgcn_block,loader6,dataset_name='windmillsmall')\n",
    "plnr.simulate(mindex=mindex,mtype='block')"
   ]
  },
  {
   "cell_type": "code",
   "execution_count": null,
   "id": "4c618fb7-e8cf-4318-af8d-18a08c7f455b",
   "metadata": {},
   "outputs": [],
   "source": [
    "plnr = itstgcnTGCN.planner.PLNR_STGCN_MANUAL(plans_stgcn_block,loader6,dataset_name='windmillsmall')\n",
    "plnr.simulate(mindex=mindex,mtype='block')"
   ]
  },
  {
   "cell_type": "code",
   "execution_count": null,
   "id": "19766396-a5eb-4bf1-b250-2119ab161db7",
   "metadata": {},
   "outputs": [],
   "source": [
    "plnr = itstgcnTGCN.planner.PLNR_STGCN_MANUAL(plans_stgcn_block,loader6,dataset_name='windmillsmall')\n",
    "plnr.simulate(mindex=mindex,mtype='block')"
   ]
  },
  {
   "cell_type": "code",
   "execution_count": null,
   "id": "bb7d8b26-bbc8-4f98-baa1-629992343484",
   "metadata": {},
   "outputs": [],
   "source": []
  },
  {
   "cell_type": "markdown",
   "id": "60bdffed-7236-4c53-9749-f28e161b5c0c",
   "metadata": {
    "tags": []
   },
   "source": [
    "## PLNR_STGCN_MANUAL"
   ]
  },
  {
   "cell_type": "code",
   "execution_count": null,
   "id": "bb823029-a3f8-498c-8144-258f9f5bbcf5",
   "metadata": {},
   "outputs": [],
   "source": [
    "my_list = [[] for _ in range(20)] #chickenpox\n",
    "another_list = list(range(100,400))\n",
    "my_list[1] = another_list\n",
    "my_list[3] = another_list\n",
    "my_list[5] = another_list\n",
    "my_list[7] = another_list\n",
    "my_list[9] = another_list\n",
    "my_list[11] = another_list\n",
    "my_list[13] = another_list\n",
    "my_list[15] = another_list\n",
    "mindex = my_list"
   ]
  },
  {
   "cell_type": "code",
   "execution_count": null,
   "id": "88200cd5-d379-46e7-8b7e-ed38d6129843",
   "metadata": {},
   "outputs": [],
   "source": [
    "my_list = [[] for _ in range(15)] #pedalme\n",
    "another_list = list(range(5,35))\n",
    "my_list[2] = another_list\n",
    "my_list[4] = another_list\n",
    "my_list[7] = another_list\n",
    "my_list[11] = another_list\n",
    "mindex = my_list"
   ]
  },
  {
   "cell_type": "code",
   "execution_count": null,
   "id": "94b94bcf-9d10-4540-bf3d-dc3d6f801fb6",
   "metadata": {},
   "outputs": [],
   "source": [
    "import random\n",
    "my_list = [[] for _ in range(1068)] # wikimath\n",
    "another_list = random.sample(range(570), 72)\n",
    "# my_list에서 250개 요소 무작위 선택\n",
    "selected_indexes = random.sample(range(len(my_list)), 250)\n",
    "# 선택된 요소에 해당하는 값들을 another_list에 할당\n",
    "for index in selected_indexes:\n",
    "    my_list[index] = another_list"
   ]
  },
  {
   "cell_type": "code",
   "execution_count": null,
   "id": "183f691b-f742-443c-b4df-4a90df3a6905",
   "metadata": {},
   "outputs": [],
   "source": []
  },
  {
   "cell_type": "code",
   "execution_count": null,
   "id": "426dd25a-d198-4b0e-be4b-24c028c11fc1",
   "metadata": {},
   "outputs": [],
   "source": [
    "# _data = itstgcn.load_data('./data/fivenodes.pkl')\n",
    "# _edges = torch.tensor(_data['edges']).nonzero().tolist()\n",
    "# _FX = _data['f'].tolist()\n",
    "# _node_ids = {'node1':0, 'node2':1, 'node3':2, 'node4':3, 'node5':4} \n",
    "# data_dict = {'edges':_edges, 'node_ids':_node_ids, 'FX':_FX}\n",
    "# loader = itstgcn.DatasetLoader(data_dict)\n",
    "# data_dict = itstgcn.load_data('./data/fivenodes.pkl')\n",
    "# loader = itstgcn.DatasetLoader(data_dict)"
   ]
  },
  {
   "cell_type": "code",
   "execution_count": null,
   "id": "db8bbddf-074e-41ef-9fdc-82f253f9e4cb",
   "metadata": {},
   "outputs": [],
   "source": [
    "# mindex= [[],[],[],list(range(50,150)),[]]\n",
    "# mindex= [list(range(50,150)),[],list(range(50,90)),list(range(50,150)),[]] # node 2\n",
    "plans_stgcn_block = {\n",
    "    'max_iteration': 10, \n",
    "    'method': ['STGCN', 'IT-STGCN'],\n",
    "    'RecurrentGCN' : ['GConvGRU','GConvLSTM'],\n",
    "    'mindex': [mindex],\n",
    "    'lags': [4], \n",
    "    'nof_filters': [16], \n",
    "    'inter_method': ['linear'],\n",
    "    'epoch': [50],\n",
    "    'lr': [0.01]\n",
    "}"
   ]
  },
  {
   "cell_type": "code",
   "execution_count": null,
   "id": "8afa0e95-52c3-4659-8456-9cd8c625a465",
   "metadata": {},
   "outputs": [],
   "source": [
    "plnr = itstgcn.planner.PLNR_STGCN_MANUAL(plans_stgcn_block,loader1,dataset_name='chickenpox')\n",
    "\n",
    "plnr.simulate(mindex=mindex,mtype='block')"
   ]
  },
  {
   "cell_type": "code",
   "execution_count": null,
   "id": "f21a0bc2-c3a5-449b-a155-091901324e5b",
   "metadata": {},
   "outputs": [],
   "source": [
    "plnr = itstgcn.planner.PLNR_STGCN_MANUAL(plans_stgcn_block,loader1,dataset_name='chickenpox')\n",
    "\n",
    "plnr.simulate(mindex=mindex,mtype='block')"
   ]
  },
  {
   "cell_type": "code",
   "execution_count": null,
   "id": "93451ce3-4a47-43f7-9ba2-d91eb012e665",
   "metadata": {},
   "outputs": [],
   "source": [
    "plnr = itstgcnadd.planner.PLNR_STGCN_MANUAL(plans_stgcn_block,loader2,dataset_name='pedalme')"
   ]
  },
  {
   "cell_type": "code",
   "execution_count": null,
   "id": "39828f71-5156-4aa8-908f-d9579b8f1a85",
   "metadata": {},
   "outputs": [],
   "source": [
    "plnr.simulate(mindex=mindex,mtype='block')"
   ]
  },
  {
   "cell_type": "code",
   "execution_count": null,
   "id": "9a30f3ae-7a44-4dae-9476-8ec0580eea60",
   "metadata": {},
   "outputs": [],
   "source": []
  },
  {
   "cell_type": "code",
   "execution_count": null,
   "id": "1498fa82-90e0-4757-aea0-e97d9ad8d966",
   "metadata": {},
   "outputs": [],
   "source": []
  },
  {
   "cell_type": "code",
   "execution_count": null,
   "id": "4a15fbbc-6f18-42a0-b191-70ada5e20d3a",
   "metadata": {},
   "outputs": [],
   "source": []
  },
  {
   "cell_type": "code",
   "execution_count": null,
   "id": "9c1f0dbb-4311-42f2-99ec-1d3efd58c401",
   "metadata": {},
   "outputs": [],
   "source": [
    "# mindex= [[],[],[],list(range(50,150)),[]]\n",
    "# mindex= [list(range(50,150)),[],list(range(50,90)),list(range(50,150)),[]] # node 2\n",
    "plans_stgcn_block = {\n",
    "    'max_iteration': 10, \n",
    "    'method': ['STGCN', 'IT-STGCN'], \n",
    "    'RecurrentGCN' : ['GConvGRU','GConvLSTM'],\n",
    "    'mindex': [mindex],\n",
    "    'lags': [2,4], \n",
    "    'nof_filters': [12], \n",
    "    'inter_method': ['linear'],\n",
    "    'epoch': [50]\n",
    "}"
   ]
  },
  {
   "cell_type": "code",
   "execution_count": null,
   "id": "f2f2ceae-1c12-45f7-9f6b-4110f42c7bdb",
   "metadata": {},
   "outputs": [],
   "source": [
    "plnr = itstgcnadd.planner.PLNR_STGCN_MANUAL(plans_stgcn_block,loader3,dataset_name='wikimath')"
   ]
  },
  {
   "cell_type": "code",
   "execution_count": null,
   "id": "d5a6398a-7d60-48fd-b51c-e2887b94a50a",
   "metadata": {},
   "outputs": [],
   "source": [
    "plnr.simulate(mindex=mindex,mtype='block')"
   ]
  },
  {
   "cell_type": "code",
   "execution_count": null,
   "id": "ef670474-6da2-4fc0-90ba-837d4b08cf88",
   "metadata": {},
   "outputs": [],
   "source": []
  },
  {
   "cell_type": "code",
   "execution_count": null,
   "id": "8118628f-3701-4c9b-9f41-5948f728df55",
   "metadata": {},
   "outputs": [],
   "source": []
  },
  {
   "cell_type": "markdown",
   "id": "78d4a03e-ee3e-4395-917a-a3a670a48f2e",
   "metadata": {},
   "source": [
    "## PLNR_GNAR_RAND"
   ]
  },
  {
   "cell_type": "code",
   "execution_count": null,
   "id": "3926b3bb-6dfb-4cc6-9cba-f8ed8163a49a",
   "metadata": {},
   "outputs": [],
   "source": [
    "# _data = itstgcn.load_data('./data/fivenodes.pkl')\n",
    "# _edges = torch.tensor(_data['edges']).nonzero().tolist()\n",
    "# _FX = _data['f'].tolist()\n",
    "# _node_ids = {'node1':0, 'node2':1, 'node3':2, 'node4':3, 'node5':4} \n",
    "# data_dict = {'edges':_edges, 'node_ids':_node_ids, 'FX':_FX}\n",
    "# loader = itstgcn.DatasetLoader(data_dict)\n",
    "# data_dict=itstgcn.load_data('./data/fivenodes.pkl')\n",
    "# loader = itstgcn.DatasetLoader(data_dict)"
   ]
  },
  {
   "cell_type": "code",
   "execution_count": null,
   "id": "79183350-4811-4273-bbe1-c5678a46e09a",
   "metadata": {},
   "outputs": [],
   "source": [
    "plans_gnar_rand = {\n",
    "    'max_iteration': 30, \n",
    "#    'method': ['GNAR'], \n",
    "    'mrate': [0.1],\n",
    "    'lags': [4], \n",
    "#    'nof_filters': [8,16], \n",
    "    'inter_method': ['linear','cubic'],\n",
    "#    'epoch': [1]\n",
    "}"
   ]
  },
  {
   "cell_type": "code",
   "execution_count": null,
   "id": "2bdf3048-6d0a-47d4-a39f-23b04dad64d6",
   "metadata": {
    "tags": []
   },
   "outputs": [],
   "source": [
    "plnr = itstgcn.planner.PLNR_GNAR_RAND(plans_gnar_rand,loader2,dataset_name='pedalme')\n",
    "plnr.simulate()"
   ]
  },
  {
   "cell_type": "code",
   "execution_count": null,
   "id": "683beaae-7655-4062-9c91-32f4eaa32813",
   "metadata": {},
   "outputs": [],
   "source": [
    "plans_gnar_rand = {\n",
    "    'max_iteration': 3, \n",
    "#    'method': ['GNAR'], \n",
    "    'mrate': [0],\n",
    "    'lags': [2,4], \n",
    "#    'nof_filters': [8,16], \n",
    "    'inter_method': ['linear'],\n",
    "#    'epoch': [1]\n",
    "}"
   ]
  },
  {
   "cell_type": "code",
   "execution_count": null,
   "id": "b9aa2507-5562-4bb3-aafd-eb2a0c876dd0",
   "metadata": {
    "tags": []
   },
   "outputs": [],
   "source": [
    "plnr = itstgcn.planner.PLNR_GNAR_RAND(plans_gnar_rand,loader3,dataset_name='wikimath')\n",
    "plnr.simulate()"
   ]
  },
  {
   "cell_type": "code",
   "execution_count": null,
   "id": "480db55f-7900-4084-bc7e-305b4f89b85a",
   "metadata": {},
   "outputs": [],
   "source": [
    "plans_gnar_rand = {\n",
    "    'max_iteration': 3, \n",
    "#    'method': ['GNAR'], \n",
    "    'mrate': [0,0.3],\n",
    "    'lags': [8], \n",
    "#    'nof_filters': [8,16], \n",
    "    'inter_method': ['linear'],\n",
    "#    'epoch': [1]\n",
    "}"
   ]
  },
  {
   "cell_type": "code",
   "execution_count": null,
   "id": "e3b5ac60-dcf9-4d9f-bfd9-bd067424c245",
   "metadata": {
    "tags": []
   },
   "outputs": [],
   "source": [
    "plnr = itstgcn.planner.PLNR_GNAR_RAND(plans_gnar_rand,loader5,dataset_name='windmillmedium')\n",
    "plnr.simulate()"
   ]
  },
  {
   "cell_type": "markdown",
   "id": "db17e4c6-dbe6-433b-822b-72944d995e8a",
   "metadata": {},
   "source": [
    "---"
   ]
  },
  {
   "cell_type": "markdown",
   "id": "f1c4fc60-b552-4cb0-990d-40ab420d2188",
   "metadata": {},
   "source": [
    "## PLNR_GNAR_BLOCK"
   ]
  },
  {
   "cell_type": "code",
   "execution_count": null,
   "id": "f3d394fb-2e5f-4b39-9538-822986c1cc36",
   "metadata": {},
   "outputs": [],
   "source": [
    "# _data = itstgcn.load_data('./data/fivenodes.pkl')\n",
    "# _edges = torch.tensor(_data['edges']).nonzero().tolist()\n",
    "# _FX = _data['f'].tolist()\n",
    "# _node_ids = {'node1':0, 'node2':1, 'node3':2, 'node4':3, 'node5':4} \n",
    "# data_dict = {'edges':_edges, 'node_ids':_node_ids, 'FX':_FX}\n",
    "# loader = itstgcn.DatasetLoader(data_dict)\n",
    "# loader = itstgcn.load_data('./data/fivenodes.pkl')"
   ]
  },
  {
   "cell_type": "code",
   "execution_count": null,
   "id": "3466269c-3f96-4116-9cb8-eadd54264fe2",
   "metadata": {},
   "outputs": [],
   "source": [
    " Nodes : 26\n",
    "\n",
    "vertices represent 26 windmills\n",
    "-Edges : 676\n",
    "\n",
    "weighted edges describe the strength of relationships\n",
    "- Time : 17464"
   ]
  },
  {
   "cell_type": "code",
   "execution_count": null,
   "id": "1094c646-f5f4-4303-ada2-2573d83cb859",
   "metadata": {},
   "outputs": [],
   "source": [
    "my_list = [[] for _ in range(26)] #medium\n",
    "another_list = list(range(1000,2000))+list(range(4000,5000))+list(range(7000,8000)) #17464\n",
    "\n",
    "for i in np.array(random.sample(range(0, 26), 15)):\n",
    "    my_list[i] = another_list\n",
    "mindex = my_list"
   ]
  },
  {
   "cell_type": "code",
   "execution_count": null,
   "id": "856bd188-5ecd-4bf7-a417-ce3e07e6c844",
   "metadata": {},
   "outputs": [],
   "source": []
  },
  {
   "cell_type": "code",
   "execution_count": null,
   "id": "2fbe1fcf-e27a-41c3-8b18-402855df61d3",
   "metadata": {},
   "outputs": [],
   "source": []
  },
  {
   "cell_type": "code",
   "execution_count": null,
   "id": "f4568902-0211-4987-af6d-2079a6f6303a",
   "metadata": {},
   "outputs": [],
   "source": []
  },
  {
   "cell_type": "code",
   "execution_count": null,
   "id": "d2bc955b-44f2-43c4-ba5b-7a33dbf30a33",
   "metadata": {},
   "outputs": [],
   "source": [
    "my_list = [[] for _ in range(20)] #chickenpox\n",
    "another_list = list(range(100,400))\n",
    "my_list[2] = another_list\n",
    "my_list[4] = another_list\n",
    "my_list[6] = another_list\n",
    "my_list[8] = another_list\n",
    "my_list[10] = another_list\n",
    "my_list[12] = another_list\n",
    "my_list[14] = another_list\n",
    "my_list[16] = another_list\n",
    "mindex = my_list"
   ]
  },
  {
   "cell_type": "code",
   "execution_count": null,
   "id": "9779f175-8b00-4879-86a2-48f854abab5d",
   "metadata": {},
   "outputs": [],
   "source": [
    "# mindex= [[],[],[],list(range(50,150)),[]]\n",
    "# mindex= [list(range(50,150)),[],list(range(50,90)),list(range(50,150)),[]] # node 2\n",
    "plans_gnar_block = {\n",
    "    'max_iteration': 3, \n",
    "    'method': ['GNAR'], \n",
    "    'mindex': [mindex],\n",
    "    'lags': [4], \n",
    "    'inter_method': ['cubic','linear'],\n",
    "}"
   ]
  },
  {
   "cell_type": "code",
   "execution_count": null,
   "id": "bf53c080-64a0-4fde-ae85-b6286ae8c0a5",
   "metadata": {},
   "outputs": [],
   "source": [
    "plnr = itstgcn.planner.PLNR_GNAR_MANUAL(plans_gnar_block,loader1,dataset_name='chickenpox')\n",
    "plnr.simulate(mindex,mtype='block')"
   ]
  },
  {
   "cell_type": "code",
   "execution_count": null,
   "id": "578f4d89-d485-4f41-bddf-469a455bbb9b",
   "metadata": {},
   "outputs": [],
   "source": []
  },
  {
   "cell_type": "code",
   "execution_count": null,
   "id": "8aad3cfa-4037-4e5e-a000-d868de55cd31",
   "metadata": {},
   "outputs": [],
   "source": []
  },
  {
   "cell_type": "code",
   "execution_count": null,
   "id": "bb76b8e4-24b1-451a-a302-24c13c870537",
   "metadata": {},
   "outputs": [],
   "source": []
  },
  {
   "cell_type": "code",
   "execution_count": null,
   "id": "14d5a17a-2ec8-4d22-97a8-58997273ef4a",
   "metadata": {},
   "outputs": [],
   "source": []
  },
  {
   "cell_type": "code",
   "execution_count": null,
   "id": "5a7a9afc-6448-45f5-9ef2-803cb9bee8b1",
   "metadata": {},
   "outputs": [],
   "source": []
  },
  {
   "cell_type": "code",
   "execution_count": null,
   "id": "51973f64-f145-49f4-9ab8-3587a340098b",
   "metadata": {},
   "outputs": [],
   "source": []
  },
  {
   "cell_type": "code",
   "execution_count": null,
   "id": "c6914e91-bd82-4e0e-bcfb-f0ee590d52aa",
   "metadata": {},
   "outputs": [],
   "source": [
    "# mindex= [[],[],[],list(range(50,150)),[]]\n",
    "# mindex= [list(range(50,150)),[],list(range(50,90)),list(range(50,150)),[]] # node 2\n",
    "plans_gnar_block = {\n",
    "    'max_iteration': 3, \n",
    "    'method': ['GNAR'], \n",
    "    'mindex': [mindex],\n",
    "    'lags': [2,4], \n",
    "    'inter_method': ['linear'],\n",
    "}"
   ]
  },
  {
   "cell_type": "code",
   "execution_count": null,
   "id": "5cc59657-7711-43ca-81d7-a6d906fca956",
   "metadata": {},
   "outputs": [],
   "source": [
    "plnr = itstgcn.planner.PLNR_GNAR_MANUAL(plans_gnar_block,loader3,dataset_name='wikimath')\n",
    "plnr.simulate(mindex,mtype='block')"
   ]
  },
  {
   "cell_type": "code",
   "execution_count": null,
   "id": "ac1b005e-134a-4d10-af02-8bb2cfdc1b50",
   "metadata": {},
   "outputs": [],
   "source": []
  }
 ],
 "metadata": {
  "kernelspec": {
   "display_name": "Python 3",
   "language": "python",
   "name": "python3"
  },
  "language_info": {
   "codemirror_mode": {
    "name": "ipython",
    "version": 3
   },
   "file_extension": ".py",
   "mimetype": "text/x-python",
   "name": "python",
   "nbconvert_exporter": "python",
   "pygments_lexer": "ipython3",
   "version": "3.8.0"
  }
 },
 "nbformat": 4,
 "nbformat_minor": 5
}

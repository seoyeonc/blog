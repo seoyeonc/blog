{
  "cells": [
    {
      "cell_type": "markdown",
      "metadata": {},
      "source": [
        "# Discrete Fourier Transform\n",
        "\n",
        "SEOYEON CHOI  \n",
        "12/27/22\n",
        "\n",
        "> DFT\n",
        "\n",
        "https://miruetoto.quarto.pub/yechan/posts/CGSP/2022-12-24-CGSP-Chap-8-3-DFT.html#fnref1\n",
        "\n",
        "https://miruetoto.github.io/yechan/%EB%B2%A0%EC%9D%B4%EC%A7%80%EC%95%88/2019/11/24/(%EB%85%B8%ED%8A%B8)-%EB%B2%A0%EC%9D%B4%EC%A7%80%EC%95%88-%EC%B6%94%EB%A1%A0-%EB%B2%A0%EC%9D%B4%EC%A7%80%EC%95%88.html\n",
        "\n",
        "## import"
      ],
      "id": "ecf7deab-7313-40ee-b0f3-75e0d8c36e45"
    },
    {
      "cell_type": "code",
      "execution_count": 12,
      "metadata": {},
      "outputs": [],
      "source": [
        "import numpy as np"
      ],
      "id": "b86173e0-61f8-4153-9c01-7686011392aa"
    },
    {
      "cell_type": "markdown",
      "metadata": {},
      "source": [
        "### Forward operator A"
      ],
      "id": "6a060fc6-28f4-4930-8325-672af4d4a91c"
    },
    {
      "cell_type": "code",
      "execution_count": 15,
      "metadata": {},
      "outputs": [],
      "source": [
        "A = np.array([[0, 0, 0, 0, 1],\n",
        "    [1, 0, 0, 0, 0],\n",
        "    [0, 1, 0, 0, 0],\n",
        "    [0, 0, 1, 0, 0],\n",
        "    [0, 0, 0, 1, 0]])\n",
        "A"
      ],
      "id": "5b19027f-4baf-4b3e-8b10-285a98de76e7"
    },
    {
      "cell_type": "code",
      "execution_count": 21,
      "metadata": {},
      "outputs": [],
      "source": [
        "np.transpose(A)@A"
      ],
      "id": "cff798f0-391f-40f6-8881-67df5a583fae"
    },
    {
      "cell_type": "markdown",
      "metadata": {},
      "source": [
        "> note: A is orthogonal matrix"
      ],
      "id": "e2aa7d88-2b3c-4bc9-986b-9edb0d1b0235"
    },
    {
      "cell_type": "code",
      "execution_count": 23,
      "metadata": {},
      "outputs": [],
      "source": [
        "s = np.array([[1],[22],[333],[4444],[55555]])\n",
        "s"
      ],
      "id": "a3ebd0be-b0cb-4a16-b9ac-669c91f38b6f"
    },
    {
      "cell_type": "code",
      "execution_count": 31,
      "metadata": {},
      "outputs": [],
      "source": [
        "A@s"
      ],
      "id": "48b4536b-c9f2-4018-9bd8-a61167acdbf1"
    },
    {
      "cell_type": "code",
      "execution_count": 33,
      "metadata": {},
      "outputs": [],
      "source": [
        "A@A@s"
      ],
      "id": "d922fa68-5fa9-4b9d-b217-096a11df550e"
    },
    {
      "cell_type": "code",
      "execution_count": 34,
      "metadata": {},
      "outputs": [],
      "source": [
        "A@A@A@s"
      ],
      "id": "b881f8b1-1065-4ebb-9fd1-8d4d7feb2e8c"
    },
    {
      "cell_type": "markdown",
      "metadata": {},
      "source": [
        "> note : thus A is a forward operator,A\\* is a backward operator.\n",
        "\n",
        "### DFT\n",
        "\n",
        "$A = DFT^* \\Lambda DFT$"
      ],
      "id": "a2835b83-e5a1-43fd-a6c2-b28f5de45ac4"
    },
    {
      "cell_type": "code",
      "execution_count": 38,
      "metadata": {},
      "outputs": [],
      "source": [
        "λ, ψ = np.linalg.eig(A)\n",
        "λ, ψ"
      ],
      "id": "5951b384-f4c7-4fb1-8059-62f666c7b77d"
    },
    {
      "cell_type": "code",
      "execution_count": 43,
      "metadata": {},
      "outputs": [],
      "source": [
        "λ.shape, ψ.shape"
      ],
      "id": "58f6346e-9f77-48e2-8adc-af1f71cc003d"
    },
    {
      "cell_type": "code",
      "execution_count": 98,
      "metadata": {},
      "outputs": [],
      "source": [
        "A "
      ],
      "id": "c939d50d-9682-4029-a1e9-b56d575971e1"
    },
    {
      "cell_type": "code",
      "execution_count": 101,
      "metadata": {},
      "outputs": [],
      "source": [
        "(ψ @ np.diag(λ) @ ψ.transpose()).round(2)"
      ],
      "id": "c74f7b4d-bec8-4fae-8133-fa449abbe3bb"
    },
    {
      "cell_type": "markdown",
      "metadata": {},
      "source": [
        "?\n",
        "\n",
        "define $\\psi^* = DFT$"
      ],
      "id": "7fc42540-1172-4a4e-b5c4-0f069d2a0871"
    },
    {
      "cell_type": "code",
      "execution_count": 76,
      "metadata": {},
      "outputs": [],
      "source": [
        "DFT = np.transpose(ψ)\n",
        "DFT"
      ],
      "id": "1ec93122-7695-48ba-b889-1d9e9ecf3b67"
    },
    {
      "cell_type": "code",
      "execution_count": 89,
      "metadata": {},
      "outputs": [],
      "source": [
        "λ[3,]"
      ],
      "id": "e25864f9-4ac9-4ce2-9c35-0f3611ed60e5"
    },
    {
      "cell_type": "code",
      "execution_count": 92,
      "metadata": {},
      "outputs": [],
      "source": [
        "a=np.array([1,2,3,4])\n",
        "np.diag(np.diag(a))"
      ],
      "id": "18df9ebf-80c1-464d-801b-48513c367bed"
    },
    {
      "cell_type": "code",
      "execution_count": 94,
      "metadata": {},
      "outputs": [],
      "source": [
        "λ"
      ],
      "id": "6b349f3b-6568-45c0-ae1a-4cad2fc923e4"
    },
    {
      "cell_type": "code",
      "execution_count": 106,
      "metadata": {},
      "outputs": [],
      "source": [
        "(np.matrix(ψ)@np.matrix(np.diag(λ))@np.matrix(ψ).H).round(3)"
      ],
      "id": "8bf2728c-7b58-475b-8491-ea873638ed37"
    },
    {
      "cell_type": "code",
      "execution_count": 109,
      "metadata": {},
      "outputs": [],
      "source": [
        "np.matrix(ψ).H"
      ],
      "id": "8602e1a2-80c0-4fc0-b608-0a6f043d307e"
    },
    {
      "cell_type": "markdown",
      "metadata": {},
      "source": [
        "### Spectral components and Frequencies\n",
        "\n",
        "$$\\{ 1,\\psi_1, \\psi_2, \\psi_3,\\dots, \\psi_{N-1} \\}$$\n",
        "\n",
        "These vectors are called spectral components.\n",
        "\n",
        "In Physics and in operator theory, these eigenvalues are the frequencies\n",
        "of the signal.\n",
        "\n",
        "Eigenvalues of $A$"
      ],
      "id": "fdf31311-58c5-47a2-9520-326f2b05ba09"
    }
  ],
  "nbformat": 4,
  "nbformat_minor": 5,
  "metadata": {
    "kernelspec": {
      "name": "python3",
      "display_name": "Python 3 (ipykernel)",
      "language": "python"
    },
    "language_info": {
      "name": "python",
      "codemirror_mode": {
        "name": "ipython",
        "version": "3"
      },
      "file_extension": ".py",
      "mimetype": "text/x-python",
      "nbconvert_exporter": "python",
      "pygments_lexer": "ipython3",
      "version": "3.8.12"
    }
  }
}
{
  "cells": [
    {
      "cell_type": "markdown",
      "metadata": {},
      "source": [
        "# 2nd ST-GCN Example dividing train and test\n",
        "\n",
        "SEOYEON CHOI  \n",
        "1/17/23\n",
        "\n",
        "> Try to divide train and test(ST-GCN WikiMathsDatasetLoader)\n",
        "\n",
        "# import"
      ],
      "id": "6538c6c6-65c7-4009-8a06-d2cea8c46255"
    },
    {
      "cell_type": "code",
      "execution_count": 1,
      "metadata": {},
      "outputs": [],
      "source": [
        "import rpy2\n",
        "import rpy2.robjects as ro \n",
        "from rpy2.robjects.vectors import FloatVector \n",
        "from rpy2.robjects.packages import importr\n",
        "\n",
        "import torch\n",
        "import numpy as np\n",
        "from tqdm import tqdm\n",
        "\n",
        "import torch.nn.functional as F\n",
        "from torch_geometric_temporal.nn.recurrent import GConvGRU\n",
        "\n",
        "import matplotlib.pyplot as plt\n",
        "import pandas as pd\n",
        "\n",
        "import time\n",
        "\n",
        "from scipy.interpolate import interp1d"
      ],
      "id": "7376e1c2-9433-4e23-a0f4-dd818b099a2c"
    },
    {
      "cell_type": "code",
      "execution_count": 2,
      "metadata": {},
      "outputs": [],
      "source": [
        "class RecurrentGCN(torch.nn.Module):\n",
        "    def __init__(self, node_features, filters):\n",
        "        super(RecurrentGCN, self).__init__()\n",
        "        self.recurrent = GConvGRU(node_features, filters, 2)\n",
        "        self.linear = torch.nn.Linear(filters, 1)\n",
        "\n",
        "    def forward(self, x, edge_index, edge_weight):\n",
        "        h = self.recurrent(x, edge_index, edge_weight)\n",
        "        h = F.relu(h)\n",
        "        h = self.linear(h)\n",
        "        return h"
      ],
      "id": "9efab992-105d-4900-b7b7-5302fa568137"
    },
    {
      "cell_type": "markdown",
      "metadata": {},
      "source": [
        "# Data"
      ],
      "id": "b8efe67c-b885-4246-b455-a1124f00b649"
    },
    {
      "cell_type": "code",
      "execution_count": 110,
      "metadata": {},
      "outputs": [],
      "source": [
        "from torch_geometric_temporal.dataset import WikiMathsDatasetLoader\n",
        "from torch_geometric_temporal.signal import temporal_signal_split"
      ],
      "id": "854b3fce-1e9f-4a44-936d-6394b71c193e"
    },
    {
      "cell_type": "code",
      "execution_count": 111,
      "metadata": {},
      "outputs": [],
      "source": [
        "loader = WikiMathsDatasetLoader()"
      ],
      "id": "ac6eaf0f-baae-4a62-b160-4af602b91c33"
    },
    {
      "cell_type": "code",
      "execution_count": 112,
      "metadata": {},
      "outputs": [],
      "source": [
        "dataset = loader.get_dataset(lags=1)"
      ],
      "id": "82b74023-55e3-4572-8356-ce3f3cafdc32"
    },
    {
      "cell_type": "code",
      "execution_count": 113,
      "metadata": {},
      "outputs": [],
      "source": [
        "train_dataset, test_dataset = temporal_signal_split(dataset, train_ratio=0.8)"
      ],
      "id": "67bcaa5d-9db8-4b35-94ad-b67ed55c75d4"
    },
    {
      "cell_type": "markdown",
      "metadata": {},
      "source": [
        "## Train"
      ],
      "id": "90fa5ea2-427f-46f9-8087-627752703a86"
    },
    {
      "cell_type": "code",
      "execution_count": 114,
      "metadata": {},
      "outputs": [],
      "source": [
        "data_train=[]\n",
        "for time, snapshot in enumerate(train_dataset):\n",
        "    data_train.append([time,snapshot])"
      ],
      "id": "589fda6b-fe16-43f0-8927-f6a4aece4490"
    },
    {
      "cell_type": "code",
      "execution_count": 115,
      "metadata": {},
      "outputs": [],
      "source": [
        "data_train[0][1].x.shape,data_train[0][1].y.shape,data_train[0][1].edge_index.shape,data_train[0][1].edge_attr.shape"
      ],
      "id": "d664539f-60c6-4b9e-a206-e91d825a8178"
    },
    {
      "cell_type": "code",
      "execution_count": 116,
      "metadata": {},
      "outputs": [],
      "source": [
        "time"
      ],
      "id": "be743182-c55a-415d-8046-0f86813b9eb6"
    },
    {
      "cell_type": "code",
      "execution_count": 117,
      "metadata": {},
      "outputs": [],
      "source": [
        "T_train = time\n",
        "N = len(data[0][1].x)"
      ],
      "id": "53f313b7-e39e-4129-bfb8-5b41e4b704b3"
    },
    {
      "cell_type": "code",
      "execution_count": 118,
      "metadata": {},
      "outputs": [],
      "source": [
        "edge_index = data_train[0][1].edge_index\n",
        "edge_attr = data_train[0][1].edge_attr"
      ],
      "id": "6cb3c8be-a2b4-44dc-8c1c-1ca492a972c8"
    },
    {
      "cell_type": "code",
      "execution_count": 119,
      "metadata": {},
      "outputs": [],
      "source": [
        "x_train = []\n",
        "for i in range(time):\n",
        "    x_train.append(data_train[i][1].x)"
      ],
      "id": "86c055c4-56d0-4a5c-a260-5bcea47eaf17"
    },
    {
      "cell_type": "code",
      "execution_count": 120,
      "metadata": {},
      "outputs": [],
      "source": [
        "data_tensor = torch.Tensor()\n",
        "# Iterate over the data points of the dataset\n",
        "for i in x_train:\n",
        "    # Concatenate the data point to the tensor\n",
        "    data_tensor = torch.cat((data_tensor, i), dim=0)\n",
        "x_train = data_tensor.reshape(time,1068,-1)\n",
        "x_train.shape"
      ],
      "id": "735148e3-2f72-4aaa-ba6c-5ab2bafd2b77"
    },
    {
      "cell_type": "code",
      "execution_count": 121,
      "metadata": {},
      "outputs": [],
      "source": [
        "y_train = []\n",
        "for i in range(time):\n",
        "    y_train.append(data_train[i][1].y)"
      ],
      "id": "c86495ea-ec05-4c0b-bfe8-a76720466fd7"
    },
    {
      "cell_type": "code",
      "execution_count": 122,
      "metadata": {},
      "outputs": [],
      "source": [
        "data_tensor = torch.Tensor()\n",
        "# Iterate over the data points of the dataset\n",
        "for i in y_train:\n",
        "    # Concatenate the data point to the tensor\n",
        "    data_tensor = torch.cat((data_tensor, i), dim=0)\n",
        "y_train = data_tensor.reshape(time,1068)\n",
        "y_train.shape"
      ],
      "id": "6eb18eee-9a1d-4af8-96b1-12cf962bfce8"
    },
    {
      "cell_type": "code",
      "execution_count": 123,
      "metadata": {},
      "outputs": [],
      "source": [
        "x_train.shape, y_train.shape"
      ],
      "id": "cb20c03a-0b97-47dd-9067-6e4d64bb12f4"
    },
    {
      "cell_type": "markdown",
      "metadata": {},
      "source": [
        "## Test"
      ],
      "id": "9d8b75dd-48c7-4001-b47a-7ad6464849da"
    },
    {
      "cell_type": "code",
      "execution_count": 124,
      "metadata": {},
      "outputs": [],
      "source": [
        "data_test=[]\n",
        "for time, snapshot in enumerate(test_dataset):\n",
        "    data_test.append([time,snapshot])"
      ],
      "id": "d81b544f-4cd9-4554-b962-a317ea835ff3"
    },
    {
      "cell_type": "code",
      "execution_count": 125,
      "metadata": {},
      "outputs": [],
      "source": [
        "data_test[0][1].x.shape,data_test[0][1].y.shape,data_test[0][1].edge_index.shape,data_test[0][1].edge_attr.shape"
      ],
      "id": "fc0e90c5-4eb5-4a47-90e7-9050002366f2"
    },
    {
      "cell_type": "code",
      "execution_count": 126,
      "metadata": {},
      "outputs": [],
      "source": [
        "time"
      ],
      "id": "bbfa4bb3-d54d-4bae-be9b-b60cfea00465"
    },
    {
      "cell_type": "code",
      "execution_count": 127,
      "metadata": {},
      "outputs": [],
      "source": [
        "T_test = time"
      ],
      "id": "f192f415-aad6-4875-be0f-41ef59b26674"
    },
    {
      "cell_type": "code",
      "execution_count": 128,
      "metadata": {},
      "outputs": [],
      "source": [
        "x_test = []\n",
        "for i in range(time):\n",
        "    x_test.append(data_test[i][1].x)"
      ],
      "id": "347a6d9d-0a23-429b-b77d-96add4571098"
    },
    {
      "cell_type": "code",
      "execution_count": 129,
      "metadata": {},
      "outputs": [],
      "source": [
        "data_tensor = torch.Tensor()\n",
        "# Iterate over the data points of the dataset\n",
        "for i in x_test:\n",
        "    # Concatenate the data point to the tensor\n",
        "    data_tensor = torch.cat((data_tensor, i), dim=0)\n",
        "x_test = data_tensor.reshape(time,1068,-1)\n",
        "x_test.shape"
      ],
      "id": "62c7ac4b-7990-414e-a3e8-9c395a80e0cb"
    },
    {
      "cell_type": "code",
      "execution_count": 130,
      "metadata": {},
      "outputs": [],
      "source": [
        "y_test = []\n",
        "for i in range(time):\n",
        "    y_test.append(data_test[i][1].y)"
      ],
      "id": "1d9a2e01-b487-4489-8bf6-dc3c3e528b2f"
    },
    {
      "cell_type": "code",
      "execution_count": 131,
      "metadata": {},
      "outputs": [],
      "source": [
        "data_tensor = torch.Tensor()\n",
        "# Iterate over the data points of the dataset\n",
        "for i in y_test:\n",
        "    # Concatenate the data point to the tensor\n",
        "    data_tensor = torch.cat((data_tensor, i), dim=0)\n",
        "y_test = data_tensor.reshape(time,1068)\n",
        "y_test.shape"
      ],
      "id": "74c1d729-3e76-4a44-aed4-04efd0b04598"
    },
    {
      "cell_type": "code",
      "execution_count": 132,
      "metadata": {},
      "outputs": [],
      "source": [
        "x_test.shape, y_test.shape"
      ],
      "id": "918f02fd-338d-4459-81a5-2d5fa4472a40"
    },
    {
      "cell_type": "markdown",
      "metadata": {},
      "source": [
        "# Randomly Missing Values"
      ],
      "id": "ecfad0c9-58b8-4517-a061-82d1c77b2e66"
    },
    {
      "cell_type": "code",
      "execution_count": 189,
      "metadata": {},
      "outputs": [],
      "source": [
        "x_train = x_train.reshape(-1,N)"
      ],
      "id": "3a5abc7f-172c-400e-b6f5-eb27bbd01a93"
    },
    {
      "cell_type": "code",
      "execution_count": 190,
      "metadata": {},
      "outputs": [],
      "source": [
        "np.random.seed(90)\n",
        "seed_number = np.random.choice(len(x_train),290,replace=False)"
      ],
      "id": "bb2d6d62-9b49-4839-a178-62521c248817"
    },
    {
      "cell_type": "code",
      "execution_count": 191,
      "metadata": {},
      "outputs": [],
      "source": [
        "x_train[seed_number] = float('nan')"
      ],
      "id": "41414b8c-fb64-4d05-989a-70afadb85b49"
    },
    {
      "cell_type": "markdown",
      "metadata": {},
      "source": [
        "# 1) Missing Value - Mean"
      ],
      "id": "161dc8ec-e69f-4160-9377-2c0d7d1d5409"
    },
    {
      "cell_type": "code",
      "execution_count": 136,
      "metadata": {},
      "outputs": [],
      "source": [
        "x_train_mean = x_train.clone()"
      ],
      "id": "f3ef0b8d-8657-4927-8a4a-858de25d0bb4"
    },
    {
      "cell_type": "code",
      "execution_count": 140,
      "metadata": {},
      "outputs": [],
      "source": [
        "df = pd.DataFrame(x_train_mean.tolist())\n",
        "mean_value = df.mean() # finds the mean value of the column A\n",
        "df = df.fillna(mean_value) # replace missing values with the mean value"
      ],
      "id": "8fbf6bc4-51fe-434f-8d9c-f17bafd56971"
    },
    {
      "cell_type": "code",
      "execution_count": 143,
      "metadata": {},
      "outputs": [],
      "source": [
        "x_train_mean = torch.Tensor(df.values)"
      ],
      "id": "0efcb9fe-ebc7-4016-81ac-4abbb8871ac9"
    },
    {
      "cell_type": "markdown",
      "metadata": {},
      "source": [
        "## ST-GCN"
      ],
      "id": "8addd9df-aea6-40d2-8a32-fff68afa14dc"
    },
    {
      "cell_type": "code",
      "execution_count": 146,
      "metadata": {},
      "outputs": [],
      "source": [
        "mean_f_train = x_train_mean.reshape(T_train,N,1).float()"
      ],
      "id": "61219fac-fbb1-4f7d-8323-8930a3ad4870"
    },
    {
      "cell_type": "code",
      "execution_count": 169,
      "metadata": {},
      "outputs": [],
      "source": [
        "mean_X = mean_f_train[:438,:,:]\n",
        "mean_y = mean_f_train[145:,:,:]"
      ],
      "id": "f6a04d9e-a9fb-4e0e-87af-6dfc8d5d85d5"
    },
    {
      "cell_type": "code",
      "execution_count": 170,
      "metadata": {},
      "outputs": [],
      "source": [
        "mean_X.shape,mean_y.shape"
      ],
      "id": "6bd91db6-8ec4-4153-a647-534280e99219"
    },
    {
      "cell_type": "code",
      "execution_count": 153,
      "metadata": {},
      "outputs": [
        {
          "output_type": "stream",
          "name": "stderr",
          "text": [
            "100%|██████████| 50/50 [04:17<00:00,  5.15s/it]"
          ]
        }
      ],
      "source": [
        "model = RecurrentGCN(node_features=1, filters=4)\n",
        "\n",
        "optimizer = torch.optim.Adam(model.parameters(), lr=0.01)\n",
        "\n",
        "model.train()\n",
        "\n",
        "for epoch in tqdm(range(50)):\n",
        "    for time, (xt,yt) in enumerate(zip(mean_X,mean_y)):\n",
        "        y_hat = model(xt, edge_index, edge_attr)\n",
        "        cost = torch.mean((y_hat-yt)**2)\n",
        "        cost.backward()\n",
        "        optimizer.step()\n",
        "        optimizer.zero_grad()"
      ],
      "id": "7970057a-1538-4566-a49e-f37838c443ae"
    },
    {
      "cell_type": "code",
      "execution_count": 210,
      "metadata": {},
      "outputs": [],
      "source": [
        "mean_X_fore = mean_f_train[438:,:]"
      ],
      "id": "a926a188-949f-4da6-83ec-e4fcf1ff464a"
    },
    {
      "cell_type": "code",
      "execution_count": 212,
      "metadata": {},
      "outputs": [],
      "source": [
        "mean_fhat = torch.stack([model(xt, edge_index, edge_attr) for xt in mean_X_fore]).detach().numpy()"
      ],
      "id": "5ba79d70-bdbe-445c-9d20-558445dc4889"
    },
    {
      "cell_type": "code",
      "execution_count": 213,
      "metadata": {},
      "outputs": [],
      "source": [
        "mean_X_fore.shape,x_test.shape"
      ],
      "id": "c5471289-c4a3-4dee-a86e-e10a23a77863"
    },
    {
      "cell_type": "markdown",
      "metadata": {},
      "source": [
        "# 2) Missing Value - Linear Interpolation"
      ],
      "id": "c76c09d6-2099-470b-9e1a-69ec66710df1"
    },
    {
      "cell_type": "code",
      "execution_count": 192,
      "metadata": {},
      "outputs": [],
      "source": [
        "df = pd.DataFrame(x_train.tolist())\n",
        "df.interpolate(method='linear', inplace=True)\n",
        "df = df.fillna(0)"
      ],
      "id": "745919fd-249d-4428-ac10-84514c181c92"
    },
    {
      "cell_type": "code",
      "execution_count": 196,
      "metadata": {},
      "outputs": [],
      "source": [
        "x_train_linear = torch.Tensor(df.values).reshape(T_train,N,1)"
      ],
      "id": "2a36c3e4-bf59-4421-b50d-5e0a3df6d9b3"
    },
    {
      "cell_type": "markdown",
      "metadata": {},
      "source": [
        "## ST-GCN"
      ],
      "id": "847237c8-2d02-4ae6-b9bc-f7c73e6f12c0"
    },
    {
      "cell_type": "code",
      "execution_count": 197,
      "metadata": {},
      "outputs": [],
      "source": [
        "linear_f_train = x_train_linear.clone()"
      ],
      "id": "18b5aa64-ca4e-483f-8735-ea6adfb74c45"
    },
    {
      "cell_type": "code",
      "execution_count": 199,
      "metadata": {},
      "outputs": [],
      "source": [
        "linear_X = linear_f_train[:438,:,:]\n",
        "linear_y = linear_f_train[145:,:,:]"
      ],
      "id": "250f5536-3c46-4eb4-9723-4217adb5ec1a"
    },
    {
      "cell_type": "code",
      "execution_count": 200,
      "metadata": {},
      "outputs": [
        {
          "output_type": "stream",
          "name": "stderr",
          "text": [
            "100%|██████████| 50/50 [04:20<00:00,  5.22s/it]"
          ]
        }
      ],
      "source": [
        "model = RecurrentGCN(node_features=1, filters=4)\n",
        "\n",
        "optimizer = torch.optim.Adam(model.parameters(), lr=0.01)\n",
        "\n",
        "model.train()\n",
        "\n",
        "for epoch in tqdm(range(50)):\n",
        "    for time, (xt,yt) in enumerate(zip(linear_X,linear_y)):\n",
        "        y_hat = model(xt, edge_index, edge_attr)\n",
        "        cost = torch.mean((y_hat-yt)**2)\n",
        "        cost.backward()\n",
        "        optimizer.step()\n",
        "        optimizer.zero_grad()"
      ],
      "id": "8cdde801-83d0-42dd-95cc-67976497c841"
    },
    {
      "cell_type": "code",
      "execution_count": 237,
      "metadata": {},
      "outputs": [],
      "source": [
        "linear_X_fore = linear_f_train[438:,:]"
      ],
      "id": "a81cd0be-337c-47dc-ab77-62230bf50f69"
    },
    {
      "cell_type": "code",
      "execution_count": 238,
      "metadata": {},
      "outputs": [],
      "source": [
        "linear_X_fore.shape"
      ],
      "id": "35ec3ecf-5a77-477a-8b63-3e962b75961a"
    },
    {
      "cell_type": "code",
      "execution_count": 239,
      "metadata": {},
      "outputs": [],
      "source": [
        "linear_fhat = torch.stack([model(xt, edge_index, edge_attr) for xt in linear_X_fore]).detach().numpy()"
      ],
      "id": "3ecb31c7-1585-4ac0-b81a-8bbcb84a3544"
    },
    {
      "cell_type": "code",
      "execution_count": 240,
      "metadata": {},
      "outputs": [],
      "source": [
        "linear_X_fore.shape,x_test.shape"
      ],
      "id": "73452ac4-f5ab-4b13-b6a5-a9639fcc2031"
    },
    {
      "cell_type": "markdown",
      "metadata": {},
      "source": [
        "# Comparison\n",
        "\n",
        "MSE"
      ],
      "id": "7f6f1b6d-6405-4611-95f3-3f808615550f"
    },
    {
      "cell_type": "code",
      "execution_count": 235,
      "metadata": {},
      "outputs": [],
      "source": [
        "((pd.DataFrame(mean_fhat.reshape(T_test,N)) -  pd.DataFrame(x_test.reshape(T_test,N)))**2).mean()"
      ],
      "id": "5557aced-2dec-49f0-a819-3d88f5dd38a4"
    },
    {
      "cell_type": "code",
      "execution_count": 241,
      "metadata": {},
      "outputs": [],
      "source": [
        "((pd.DataFrame(linear_fhat.reshape(T_test,N)) -  pd.DataFrame(x_test.reshape(T_test,N)))**2).mean()"
      ],
      "id": "f8e05fb2-a908-4937-b5a3-4cc99d094de3"
    }
  ],
  "nbformat": 4,
  "nbformat_minor": 5,
  "metadata": {
    "kernelspec": {
      "name": "python3",
      "display_name": "Python 3 (ipykernel)",
      "language": "python"
    },
    "language_info": {
      "name": "python",
      "codemirror_mode": {
        "name": "ipython",
        "version": "3"
      },
      "file_extension": ".py",
      "mimetype": "text/x-python",
      "nbconvert_exporter": "python",
      "pygments_lexer": "ipython3",
      "version": "3.8.12"
    }
  }
}
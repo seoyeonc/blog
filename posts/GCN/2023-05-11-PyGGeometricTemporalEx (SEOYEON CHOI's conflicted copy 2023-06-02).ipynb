{
 "cells": [
  {
   "cell_type": "raw",
   "id": "03e1f296-0fc7-4024-bf0f-d7622ec68cb4",
   "metadata": {
    "id": "cac470df-29e7-4148-9bbd-d8b9a32fa570",
    "tags": []
   },
   "source": [
    "---\n",
    "title: \"PyG Geometric Temporal Examples\"\n",
    "author: \"SEOYEON CHOI\"\n",
    "date: \"2023-05-11\"\n",
    "categories:\n",
    "  - PyG\n",
    "---"
   ]
  },
  {
   "cell_type": "markdown",
   "id": "d0cec30e-150f-4770-a87d-c8cb5f28056f",
   "metadata": {
    "tags": []
   },
   "source": [
    "> Examples"
   ]
  },
  {
   "cell_type": "markdown",
   "id": "6e997d9f-1b3b-4718-b08f-fde8ead6c807",
   "metadata": {},
   "source": [
    "Refer: https://github.com/benedekrozemberczki/pytorch_geometric_temporal/tree/master/examples/recurrent"
   ]
  },
  {
   "cell_type": "code",
   "execution_count": 1,
   "id": "3b0c4e07-9c10-4a86-a11c-61dcfd967c5b",
   "metadata": {},
   "outputs": [],
   "source": [
    "import numpy as np\n",
    "import matplotlib.pyplot as plt\n",
    "import pandas as pd\n",
    "import torch"
   ]
  },
  {
   "cell_type": "code",
   "execution_count": 2,
   "id": "2e92a76d-dc84-4648-aec3-9c4f8a1cf347",
   "metadata": {},
   "outputs": [
    {
     "data": {
      "image/png": "[encoded data removed]",
      "text/plain": [
       "<Figure size 432x288 with 1 Axes>"
      ]
     },
     "metadata": {
      "needs_background": "light"
     },
     "output_type": "display_data"
    }
   ],
   "source": [
    "T = 100\n",
    "t = np.arange(T)/T * 5\n",
    "\n",
    "x = 1*np.sin(2*t)+0.5*np.random.rand(T)+np.sin(4*t)+1.5*np.sin(8*t)\n",
    "eps_x  = np.random.normal(size=T)*0\n",
    "y = x.copy()\n",
    "for i in range(2,T):\n",
    "    y[i] = 0.35*x[i-1] - 0.15*x[i-2] + 0.5*np.cos(0.4*t[i]) \n",
    "eps_y  = np.random.normal(size=T)*0\n",
    "x = x\n",
    "y = y\n",
    "plt.plot(t,x,color='C0',lw=5)\n",
    "plt.plot(t,x+eps_x,alpha=0.5,color='C0')\n",
    "plt.plot(t,y,color='C1',lw=5)\n",
    "plt.plot(t,y+eps_y,alpha=0.5,color='C1')\n",
    "_node_ids = {'node1':0, 'node2':1}\n",
    "\n",
    "_FX1 = np.stack([x+eps_x,y+eps_y],axis=1).tolist()\n",
    "\n",
    "_edges1 = torch.tensor([[0,1]]).tolist()\n",
    "\n",
    "data_dict = {'edges':_edges1, 'node_ids':_node_ids, 'FX':_FX1}\n",
    "\n",
    "# save_data(data_dict1, './data/toy_example1.pkl')\n",
    "\n",
    "data = pd.DataFrame({'x':x,'y':y,'xer':x,'yer':y})\n",
    "\n",
    "# save_data(data1, './data/toy_example_true1.csv')"
   ]
  },
  {
   "cell_type": "code",
   "execution_count": 3,
   "id": "20cc74c8-82e1-48ce-81d9-07ebd7ea6cbf",
   "metadata": {},
   "outputs": [],
   "source": [
    "import itstgcn"
   ]
  },
  {
   "cell_type": "code",
   "execution_count": 4,
   "id": "560dcd47-5d8d-4bb3-bd78-8c02d61e9b1f",
   "metadata": {},
   "outputs": [],
   "source": [
    "loader = itstgcn.DatasetLoader(data_dict)"
   ]
  },
  {
   "cell_type": "markdown",
   "id": "aff2665f-047d-4881-a8f5-a82bf4e5c981",
   "metadata": {},
   "source": [
    "# GConvGRU"
   ]
  },
  {
   "cell_type": "code",
   "execution_count": 5,
   "id": "50026708-c1ef-4135-9866-205b0b211acf",
   "metadata": {},
   "outputs": [
    {
     "name": "stdout",
     "output_type": "stream",
     "text": [
      "Object `GConvGRU` not found.\n"
     ]
    }
   ],
   "source": [
    "GConvGRU?"
   ]
  },
  {
   "cell_type": "code",
   "execution_count": 7,
   "id": "ec499a62-aa3c-44b3-ad83-2c9bc605b770",
   "metadata": {},
   "outputs": [],
   "source": [
    "# from torch_geometric_temporal.dataset import WikiMathsDatasetLoader\n",
    "from torch_geometric_temporal.signal import temporal_signal_split\n",
    "\n",
    "# loader = WikiMathsDatasetLoader()\n",
    "\n",
    "# dataset = loader.get_dataset(lags=14)\n",
    "\n",
    "# train_dataset, test_dataset = temporal_signal_split(dataset, train_ratio=0.5)\n",
    "\n",
    "dataset = loader.get_dataset(lags=2)\n",
    "\n",
    "train_dataset, test_dataset = temporal_signal_split(dataset, train_ratio=0.5)"
   ]
  },
  {
   "cell_type": "code",
   "execution_count": 8,
   "id": "a2730d85-8256-416c-b8cb-4834e3c4b72f",
   "metadata": {
    "tags": []
   },
   "outputs": [],
   "source": [
    "import torch\n",
    "import torch.nn.functional as F\n",
    "from torch_geometric_temporal.nn.recurrent import GConvGRU\n",
    "\n",
    "class RecurrentGCN(torch.nn.Module):\n",
    "    def __init__(self, node_features, filters):\n",
    "        super(RecurrentGCN, self).__init__()\n",
    "        self.recurrent = GConvGRU(node_features, filters, 2)\n",
    "        self.linear = torch.nn.Linear(filters, 1)\n",
    "\n",
    "    def forward(self, x, edge_index, edge_weight):\n",
    "        h = self.recurrent(x, edge_index, edge_weight)\n",
    "        h = F.relu(h)\n",
    "        h = self.linear(h)\n",
    "        return h"
   ]
  },
  {
   "cell_type": "code",
   "execution_count": 9,
   "id": "7a43b2b5-36b9-4098-b67c-a4243ba0c05c",
   "metadata": {},
   "outputs": [],
   "source": [
    "model = RecurrentGCN(node_features=4, filters=32)"
   ]
  },
  {
   "cell_type": "code",
   "execution_count": 10,
   "id": "b8e4b44d-5815-4653-aeab-33b252b64b52",
   "metadata": {},
   "outputs": [
    {
     "data": {
      "text/plain": [
       "RecurrentGCN(\n",
       "  (recurrent): GConvGRU(\n",
       "    (conv_x_z): ChebConv(4, 32, K=2, normalization=sym)\n",
       "    (conv_h_z): ChebConv(32, 32, K=2, normalization=sym)\n",
       "    (conv_x_r): ChebConv(4, 32, K=2, normalization=sym)\n",
       "    (conv_h_r): ChebConv(32, 32, K=2, normalization=sym)\n",
       "    (conv_x_h): ChebConv(4, 32, K=2, normalization=sym)\n",
       "    (conv_h_h): ChebConv(32, 32, K=2, normalization=sym)\n",
       "  )\n",
       "  (linear): Linear(in_features=32, out_features=1, bias=True)\n",
       ")"
      ]
     },
     "execution_count": 10,
     "metadata": {},
     "output_type": "execute_result"
    }
   ],
   "source": [
    "model"
   ]
  },
  {
   "cell_type": "code",
   "execution_count": 11,
   "id": "c6a470dd-a4c1-4f1c-a744-bd9e981aaeb4",
   "metadata": {},
   "outputs": [
    {
     "name": "stderr",
     "output_type": "stream",
     "text": [
      "100%|██████████| 5/5 [00:06<00:00,  1.24s/it]\n"
     ]
    }
   ],
   "source": [
    "from tqdm import tqdm\n",
    "\n",
    "# model = RecurrentGCN(node_features=14, filters=32)\n",
    "model = RecurrentGCN(node_features=2, filters=32)\n",
    "\n",
    "optimizer = torch.optim.Adam(model.parameters(), lr=0.01)\n",
    "\n",
    "model.train()\n",
    "\n",
    "for epoch in tqdm(range(5)):# 50\n",
    "    for time, snapshot in enumerate(train_dataset):\n",
    "        y_hat = model(snapshot.x, snapshot.edge_index, snapshot.edge_attr).reshape(-1)\n",
    "        mean_diff = torch.mean((y_hat-snapshot.y), dim=0)\n",
    "        cost = torch.square(mean_diff)\n",
    "        cost.backward()\n",
    "        optimizer.step()\n",
    "        optimizer.zero_grad()"
   ]
  },
  {
   "cell_type": "code",
   "execution_count": 12,
   "id": "6bfb0a32-bc0a-4dc1-96a4-185a776c4668",
   "metadata": {},
   "outputs": [
    {
     "name": "stdout",
     "output_type": "stream",
     "text": [
      "MSE: 0.1256\n"
     ]
    }
   ],
   "source": [
    "model.eval()\n",
    "cost = 0\n",
    "_a = []\n",
    "for time, snapshot in enumerate(test_dataset):\n",
    "    y_hat = model(snapshot.x, snapshot.edge_index, snapshot.edge_attr).reshape(-1)\n",
    "    cost = cost + torch.mean((y_hat-snapshot.y)**2)\n",
    "    _a.append(y_hat)\n",
    "cost = cost / (time+1)\n",
    "cost = cost.item()\n",
    "print(\"MSE: {:.4f}\".format(cost))"
   ]
  },
  {
   "cell_type": "code",
   "execution_count": 50,
   "id": "f0cb976b-dbf5-4a74-9b9f-7c4b24222705",
   "metadata": {},
   "outputs": [
    {
     "data": {
      "text/plain": [
       "[<matplotlib.lines.Line2D at 0x7f5922f4abb0>]"
      ]
     },
     "execution_count": 50,
     "metadata": {},
     "output_type": "execute_result"
    },
    {
     "data": {
      "image/png": "[encoded data removed]",
      "text/plain": [
       "<Figure size 432x288 with 1 Axes>"
      ]
     },
     "metadata": {
      "needs_background": "light"
     },
     "output_type": "display_data"
    }
   ],
   "source": [
    "plt.plot([test_dataset.targets[i][0] for i in range(48)])\n",
    "plt.plot(torch.tensor([_a[i].detach()[0] for i in range(48)]))"
   ]
  },
  {
   "cell_type": "code",
   "execution_count": 51,
   "id": "82c25cf0-fd9e-4357-840f-5733cdb57615",
   "metadata": {},
   "outputs": [
    {
     "data": {
      "text/plain": [
       "[<matplotlib.lines.Line2D at 0x7f5922d98f70>]"
      ]
     },
     "execution_count": 51,
     "metadata": {},
     "output_type": "execute_result"
    },
    {
     "data": {
      "image/png": "[encoded data removed]",
      "text/plain": [
       "<Figure size 432x288 with 1 Axes>"
      ]
     },
     "metadata": {
      "needs_background": "light"
     },
     "output_type": "display_data"
    }
   ],
   "source": [
    "plt.plot([test_dataset.targets[i][1] for i in range(48)])\n",
    "plt.plot(torch.tensor([_a[i].detach()[1] for i in range(48)]))"
   ]
  },
  {
   "cell_type": "markdown",
   "id": "f0de6d0a-f525-4da1-8597-4e39d7881d80",
   "metadata": {},
   "source": [
    "# A3GCN2"
   ]
  },
  {
   "cell_type": "code",
   "execution_count": 5,
   "id": "67a6f8d6-9449-43a0-bd87-b99275dd11e4",
   "metadata": {},
   "outputs": [],
   "source": [
    "import numpy as np\n",
    "import matplotlib.pyplot as plt\n",
    "import seaborn as sns"
   ]
  },
  {
   "cell_type": "code",
   "execution_count": 6,
   "id": "3af11425-1e4b-4023-becb-2f88ad6824b2",
   "metadata": {},
   "outputs": [],
   "source": [
    "import torch\n",
    "import torch.nn.functional as F\n",
    "from torch_geometric.nn import GCNConv\n",
    "from torch_geometric_temporal.nn.recurrent import A3TGCN2"
   ]
  },
  {
   "cell_type": "code",
   "execution_count": 3,
   "id": "ffda4495-995b-41be-b487-222222c7ce31",
   "metadata": {},
   "outputs": [],
   "source": [
    "# GPU support\n",
    "DEVICE = torch.device('cuda') # cuda\n",
    "shuffle=True\n",
    "batch_size = 32"
   ]
  },
  {
   "cell_type": "code",
   "execution_count": 4,
   "id": "1c70b1d8-d848-41d6-b1ef-80b9abc62a8b",
   "metadata": {},
   "outputs": [],
   "source": [
    "#Dataset\n",
    "#Traffic forecasting dataset based on Los Angeles Metropolitan traffic\n",
    "#207 loop detectors on highways\n",
    "#March 2012 - June 2012\n",
    "#From the paper: Diffusion Convolutional Recurrent Neural Network"
   ]
  },
  {
   "cell_type": "code",
   "execution_count": 10,
   "id": "5fea15a5-ce43-46e4-a60b-f2f252808012",
   "metadata": {},
   "outputs": [],
   "source": [
    "from torch_geometric_temporal.dataset import METRLADatasetLoader\n",
    "loader = METRLADatasetLoader()\n",
    "dataset = loader.get_dataset(num_timesteps_in=12, num_timesteps_out=12)"
   ]
  },
  {
   "cell_type": "code",
   "execution_count": 11,
   "id": "7b86e7c7-f450-43fe-81cd-965f816c5c76",
   "metadata": {},
   "outputs": [
    {
     "data": {
      "text/plain": [
       "[<matplotlib.lines.Line2D at 0x7f92911572b0>]"
      ]
     },
     "execution_count": 11,
     "metadata": {},
     "output_type": "execute_result"
    },
    {
     "data": {
      "image/png": "[encoded data removed]",
      "text/plain": [
       "<Figure size 432x288 with 1 Axes>"
      ]
     },
     "metadata": {
      "needs_background": "light"
     },
     "output_type": "display_data"
    }
   ],
   "source": [
    "# Visualize traffic over time\n",
    "sensor_number = 1\n",
    "hours = 24\n",
    "sensor_labels = [bucket.y[sensor_number][0].item() for bucket in list(dataset)[:hours]]\n",
    "plt.plot(sensor_labels)"
   ]
  },
  {
   "cell_type": "code",
   "execution_count": 12,
   "id": "39ae6b62-5a7a-415a-a8f9-6d924b79d3f9",
   "metadata": {},
   "outputs": [],
   "source": [
    "# Train test split \n",
    "\n",
    "from torch_geometric_temporal.signal import temporal_signal_split\n",
    "train_dataset, test_dataset = temporal_signal_split(dataset, train_ratio=0.8)\n"
   ]
  },
  {
   "cell_type": "code",
   "execution_count": 14,
   "id": "1f818c82-3495-4f5b-bbb6-36cbb426c567",
   "metadata": {},
   "outputs": [],
   "source": [
    "# Creating Dataloaders\n",
    "\n",
    "train_input = np.array(train_dataset.features) # (27399, 207, 2, 12)\n",
    "train_target = np.array(train_dataset.targets) # (27399, 207, 12)\n",
    "train_x_tensor = torch.from_numpy(train_input).type(torch.FloatTensor).to(DEVICE)  # (B, N, F, T)\n",
    "train_target_tensor = torch.from_numpy(train_target).type(torch.FloatTensor).to(DEVICE)  # (B, N, T)\n",
    "train_dataset_new = torch.utils.data.TensorDataset(train_x_tensor, train_target_tensor)\n",
    "train_loader = torch.utils.data.DataLoader(train_dataset_new, batch_size=batch_size, shuffle=shuffle,drop_last=True)"
   ]
  },
  {
   "cell_type": "code",
   "execution_count": 15,
   "id": "390628fc-2ec8-42b6-a87c-f6ea9ca6fe2e",
   "metadata": {},
   "outputs": [],
   "source": [
    "test_input = np.array(test_dataset.features) # (, 207, 2, 12)\n",
    "test_target = np.array(test_dataset.targets) # (, 207, 12)\n",
    "test_x_tensor = torch.from_numpy(test_input).type(torch.FloatTensor).to(DEVICE)  # (B, N, F, T)\n",
    "test_target_tensor = torch.from_numpy(test_target).type(torch.FloatTensor).to(DEVICE)  # (B, N, T)\n",
    "test_dataset_new = torch.utils.data.TensorDataset(test_x_tensor, test_target_tensor)\n",
    "test_loader = torch.utils.data.DataLoader(test_dataset_new, batch_size=batch_size, shuffle=shuffle,drop_last=True)"
   ]
  },
  {
   "cell_type": "code",
   "execution_count": 16,
   "id": "62c8c5ed-6fa1-4baa-a483-af234264a230",
   "metadata": {},
   "outputs": [],
   "source": [
    "# Making the model \n",
    "class TemporalGNN(torch.nn.Module):\n",
    "    def __init__(self, node_features, periods, batch_size):\n",
    "        super(TemporalGNN, self).__init__()\n",
    "        # Attention Temporal Graph Convolutional Cell\n",
    "        self.tgnn = A3TGCN2(in_channels=node_features,  out_channels=32, periods=periods,batch_size=batch_size) # node_features=2, periods=12\n",
    "        # Equals single-shot prediction\n",
    "        self.linear = torch.nn.Linear(32, periods)\n",
    "\n",
    "    def forward(self, x, edge_index):\n",
    "        \"\"\"\n",
    "        x = Node features for T time steps\n",
    "        edge_index = Graph edge indices\n",
    "        \"\"\"\n",
    "        h = self.tgnn(x, edge_index) # x [b, 207, 2, 12]  returns h [b, 207, 12]\n",
    "        h = F.relu(h) \n",
    "        h = self.linear(h)\n",
    "        return h"
   ]
  },
  {
   "cell_type": "code",
   "execution_count": 17,
   "id": "05bcb490-e725-4fe8-a0a2-bfbf686d6b3b",
   "metadata": {},
   "outputs": [
    {
     "data": {
      "text/plain": [
       "TemporalGNN(\n",
       "  (tgnn): A3TGCN2(\n",
       "    (_base_tgcn): TGCN2(\n",
       "      (conv_z): GCNConv(2, 32)\n",
       "      (linear_z): Linear(in_features=64, out_features=32, bias=True)\n",
       "      (conv_r): GCNConv(2, 32)\n",
       "      (linear_r): Linear(in_features=64, out_features=32, bias=True)\n",
       "      (conv_h): GCNConv(2, 32)\n",
       "      (linear_h): Linear(in_features=64, out_features=32, bias=True)\n",
       "    )\n",
       "  )\n",
       "  (linear): Linear(in_features=32, out_features=12, bias=True)\n",
       ")"
      ]
     },
     "execution_count": 17,
     "metadata": {},
     "output_type": "execute_result"
    }
   ],
   "source": [
    "TemporalGNN(node_features=2, periods=12, batch_size=2)"
   ]
  },
  {
   "cell_type": "code",
   "execution_count": 18,
   "id": "7083da69-da54-4c36-a585-ac3a7734fe1a",
   "metadata": {},
   "outputs": [],
   "source": [
    "# Create model and optimizers\n",
    "model = TemporalGNN(node_features=2, periods=12, batch_size=batch_size).to(DEVICE)\n",
    "optimizer = torch.optim.Adam(model.parameters(), lr=0.001)\n",
    "loss_fn = torch.nn.MSELoss()\n"
   ]
  },
  {
   "cell_type": "code",
   "execution_count": 19,
   "id": "ba78044d-d116-4310-a882-bc055775d33d",
   "metadata": {},
   "outputs": [
    {
     "name": "stdout",
     "output_type": "stream",
     "text": [
      "Net's state_dict:\n",
      "tgnn._attention \t torch.Size([12])\n",
      "tgnn._base_tgcn.conv_z.bias \t torch.Size([32])\n",
      "tgnn._base_tgcn.conv_z.lin.weight \t torch.Size([32, 2])\n",
      "tgnn._base_tgcn.linear_z.weight \t torch.Size([32, 64])\n",
      "tgnn._base_tgcn.linear_z.bias \t torch.Size([32])\n",
      "tgnn._base_tgcn.conv_r.bias \t torch.Size([32])\n",
      "tgnn._base_tgcn.conv_r.lin.weight \t torch.Size([32, 2])\n",
      "tgnn._base_tgcn.linear_r.weight \t torch.Size([32, 64])\n",
      "tgnn._base_tgcn.linear_r.bias \t torch.Size([32])\n",
      "tgnn._base_tgcn.conv_h.bias \t torch.Size([32])\n",
      "tgnn._base_tgcn.conv_h.lin.weight \t torch.Size([32, 2])\n",
      "tgnn._base_tgcn.linear_h.weight \t torch.Size([32, 64])\n",
      "tgnn._base_tgcn.linear_h.bias \t torch.Size([32])\n",
      "linear.weight \t torch.Size([12, 32])\n",
      "linear.bias \t torch.Size([12])\n",
      "Net's total params: 6936\n",
      "Optimizer's state_dict:\n",
      "state \t {}\n",
      "param_groups \t [{'lr': 0.001, 'betas': (0.9, 0.999), 'eps': 1e-08, 'weight_decay': 0, 'amsgrad': False, 'params': [0, 1, 2, 3, 4, 5, 6, 7, 8, 9, 10, 11, 12, 13, 14]}]\n"
     ]
    }
   ],
   "source": [
    "print('Net\\'s state_dict:')\n",
    "total_param = 0\n",
    "for param_tensor in model.state_dict():\n",
    "    print(param_tensor, '\\t', model.state_dict()[param_tensor].size())\n",
    "    total_param += np.prod(model.state_dict()[param_tensor].size())\n",
    "print('Net\\'s total params:', total_param)\n",
    "#--------------------------------------------------\n",
    "print('Optimizer\\'s state_dict:')  # If you notice here the Attention is a trainable parameter\n",
    "for var_name in optimizer.state_dict():\n",
    "    print(var_name, '\\t', optimizer.state_dict()[var_name])\n"
   ]
  },
  {
   "cell_type": "code",
   "execution_count": 20,
   "id": "61359e5c-5402-4bc4-a122-e75e14d6cd50",
   "metadata": {},
   "outputs": [],
   "source": [
    "# Loading the graph once because it's a static graph\n",
    "\n",
    "for snapshot in train_dataset:\n",
    "    static_edge_index = snapshot.edge_index.to(DEVICE)\n",
    "    break;\n"
   ]
  },
  {
   "cell_type": "code",
   "execution_count": 23,
   "id": "c05bdbe3-56af-431e-8451-bb78a1e76c26",
   "metadata": {},
   "outputs": [
    {
     "name": "stdout",
     "output_type": "stream",
     "text": [
      "0.44013768196105957\n",
      "0.44626042172312735\n",
      "0.4474838371078173\n",
      "0.44511159002780915\n",
      "0.4446671283841133\n",
      "0.4492054430147012\n",
      "0.4518048374993461\n",
      "0.4486549423262477\n",
      "Epoch 0 train RMSE: 0.4478\n",
      "0.45916826501488683\n",
      "0.451208501085639\n",
      "0.4479588058094184\n",
      "0.4489660017192364\n",
      "0.4470058409571648\n",
      "0.44722517212231955\n",
      "0.4471735526408468\n",
      "0.4478337676823139\n",
      "Epoch 1 train RMSE: 0.4471\n",
      "0.45132808953523634\n",
      "0.4424465082585812\n",
      "0.44844810595115026\n",
      "0.44880970306694506\n",
      "0.44570656085014343\n",
      "0.4443529421339432\n",
      "0.44464062641773905\n",
      "0.4452343595586717\n",
      "Epoch 2 train RMSE: 0.4465\n"
     ]
    }
   ],
   "source": [
    "# Training the model \n",
    "model.train()\n",
    "\n",
    "for epoch in range(3): # 30\n",
    "    step = 0\n",
    "    loss_list = []\n",
    "    for encoder_inputs, labels in train_loader:\n",
    "        y_hat = model(encoder_inputs, static_edge_index)         # Get model predictions\n",
    "        loss = loss_fn(y_hat, labels) # Mean squared error #loss = torch.mean((y_hat-labels)**2)  sqrt to change it to rmse\n",
    "        loss.backward()\n",
    "        optimizer.step()\n",
    "        optimizer.zero_grad()\n",
    "        step= step+ 1\n",
    "        loss_list.append(loss.item())\n",
    "        if step % 100 == 0 :\n",
    "            print(sum(loss_list)/len(loss_list))\n",
    "    print(\"Epoch {} train RMSE: {:.4f}\".format(epoch, sum(loss_list)/len(loss_list)))"
   ]
  },
  {
   "cell_type": "code",
   "execution_count": 24,
   "id": "00c28219-c489-47a9-b3b4-9663d55c3d28",
   "metadata": {},
   "outputs": [],
   "source": [
    "## Evaluation\n",
    "\n",
    "#- Lets get some sample predictions for a specific horizon (e.g. 288/12 = 24 hours)\n",
    "#- The model always gets one hour and needs to predict the next hour"
   ]
  },
  {
   "cell_type": "code",
   "execution_count": 25,
   "id": "e02602b3-60c9-4d66-b068-124aa77c5f95",
   "metadata": {},
   "outputs": [],
   "source": [
    "model.eval()\n",
    "step = 0\n",
    "# Store for analysis\n",
    "total_loss = []\n",
    "for encoder_inputs, labels in test_loader:\n",
    "    # Get model predictions\n",
    "    y_hat = model(encoder_inputs, static_edge_index)\n",
    "    # Mean squared error\n",
    "    loss = loss_fn(y_hat, labels)\n",
    "    total_loss.append(loss.item())\n",
    "    # Store for analysis below\n",
    "    #test_labels.append(labels)\n",
    "    #predictions.append(y_hat)"
   ]
  },
  {
   "cell_type": "code",
   "execution_count": 26,
   "id": "728f7630-b494-4b25-86b7-c402dd9df834",
   "metadata": {},
   "outputs": [
    {
     "name": "stdout",
     "output_type": "stream",
     "text": [
      "Test MSE: 0.5491\n"
     ]
    }
   ],
   "source": [
    "print(\"Test MSE: {:.4f}\".format(sum(total_loss)/len(total_loss)))"
   ]
  },
  {
   "cell_type": "code",
   "execution_count": 27,
   "id": "d9bdc8bc-a73a-4e61-abe0-9fb9cbba6a50",
   "metadata": {},
   "outputs": [],
   "source": [
    "### Visualization\n",
    "\n",
    "#- The further away the point in time is, the worse the predictions get\n",
    "#- Predictions shape: [num_data_points, num_sensors, num_timesteps]"
   ]
  },
  {
   "cell_type": "code",
   "execution_count": 28,
   "id": "49cdd40f-9110-4c3b-b2a5-ee5b19b1437a",
   "metadata": {},
   "outputs": [
    {
     "name": "stdout",
     "output_type": "stream",
     "text": [
      "Data points:, (32,)\n"
     ]
    }
   ],
   "source": [
    "sensor = 123\n",
    "timestep = 11 \n",
    "preds = np.asarray([pred[sensor][timestep].detach().cpu().numpy() for pred in y_hat])\n",
    "labs  = np.asarray([label[sensor][timestep].cpu().numpy() for label in labels])\n",
    "print(\"Data points:,\", preds.shape)"
   ]
  },
  {
   "cell_type": "code",
   "execution_count": 29,
   "id": "5b8ec9b4-f16b-4107-a687-269f5321698b",
   "metadata": {},
   "outputs": [
    {
     "data": {
      "text/plain": [
       "<AxesSubplot:>"
      ]
     },
     "execution_count": 29,
     "metadata": {},
     "output_type": "execute_result"
    },
    {
     "data": {
      "image/png": "[encoded data removed]",
      "text/plain": [
       "<Figure size 1440x360 with 1 Axes>"
      ]
     },
     "metadata": {
      "needs_background": "light"
     },
     "output_type": "display_data"
    }
   ],
   "source": [
    "plt.figure(figsize=(20,5))\n",
    "sns.lineplot(data=preds, label=\"pred\")\n",
    "sns.lineplot(data=labs, label=\"true\")"
   ]
  },
  {
   "cell_type": "markdown",
   "id": "52f6d162-eb4d-4101-8b98-ec21aa87e262",
   "metadata": {},
   "source": [
    "# A3GCN(cuda 문제)"
   ]
  },
  {
   "cell_type": "code",
   "execution_count": 7,
   "id": "4cc6f030-dc9b-4af2-aa03-713992709f4c",
   "metadata": {},
   "outputs": [],
   "source": [
    "try:\n",
    "    from tqdm import tqdm\n",
    "except ImportError:\n",
    "    def tqdm(iterable):\n",
    "        return iterable"
   ]
  },
  {
   "cell_type": "code",
   "execution_count": 8,
   "id": "3bd2c5bc-e4f5-4b0a-a447-724f45aade66",
   "metadata": {},
   "outputs": [],
   "source": [
    "import torch\n",
    "import torch.nn.functional as F\n",
    "from torch_geometric_temporal.nn.recurrent import A3TGCN"
   ]
  },
  {
   "cell_type": "code",
   "execution_count": 9,
   "id": "d6b7fdee-e7dc-439e-a839-dcafda01eaef",
   "metadata": {},
   "outputs": [],
   "source": [
    "from torch_geometric_temporal.dataset import ChickenpoxDatasetLoader\n",
    "from torch_geometric_temporal.signal import temporal_signal_split\n"
   ]
  },
  {
   "cell_type": "code",
   "execution_count": 10,
   "id": "99621551-1178-4dab-88b7-d302000fdd21",
   "metadata": {},
   "outputs": [],
   "source": [
    "loader = ChickenpoxDatasetLoader()\n",
    "\n",
    "dataset = loader.get_dataset()\n",
    "\n",
    "train_dataset, test_dataset = temporal_signal_split(dataset, train_ratio=0.2)\n"
   ]
  },
  {
   "cell_type": "code",
   "execution_count": 11,
   "id": "959a898f-1633-4f00-a640-6b37ea1bff3e",
   "metadata": {},
   "outputs": [],
   "source": [
    "class RecurrentGCN(torch.nn.Module):\n",
    "    def __init__(self, node_features, periods):\n",
    "        super(RecurrentGCN, self).__init__()\n",
    "        self.recurrent = A3TGCN(node_features, 32, periods)\n",
    "        self.linear = torch.nn.Linear(32, 1)\n",
    "\n",
    "    def forward(self, x, edge_index, edge_weight):\n",
    "        h = self.recurrent(x.to(\"cuda:0\").view(x.shape[0], 1, x.shape[1]), edge_index, edge_weight)\n",
    "        h = F.relu(h)\n",
    "        h = self.linear(h)\n",
    "        return h"
   ]
  },
  {
   "cell_type": "code",
   "execution_count": null,
   "id": "91d093fe-b796-4084-a512-73ff199ff630",
   "metadata": {},
   "outputs": [],
   "source": [
    "model = RecurrentGCN(node_features = 1, periods = 4)\n",
    "\n",
    "optimizer = torch.optim.Adam(model.parameters(), lr=0.01)\n",
    "\n",
    "model.train()\n",
    "\n",
    "for epoch in tqdm(range(50)):\n",
    "    cost = 0\n",
    "    for time, snapshot in enumerate(train_dataset):\n",
    "        y_hat = model(snapshot.x, snapshot.edge_index, snapshot.edge_attr)\n",
    "        cost = cost + torch.mean((y_hat-snapshot.y)**2)\n",
    "    cost = cost / (time+1)\n",
    "    cost.backward()\n",
    "    optimizer.step()\n",
    "    optimizer.zero_grad()"
   ]
  },
  {
   "cell_type": "code",
   "execution_count": null,
   "id": "ff71cfaf-6d11-4136-afa2-10d7a8058350",
   "metadata": {},
   "outputs": [],
   "source": [
    "model.eval()\n",
    "cost = 0\n",
    "for time, snapshot in enumerate(test_dataset):\n",
    "    y_hat = model(snapshot.x, snapshot.edge_index, snapshot.edge_attr)\n",
    "    cost = cost + torch.mean((y_hat-snapshot.y)**2)\n",
    "cost = cost / (time+1)\n",
    "cost = cost.item()\n",
    "print(\"MSE: {:.4f}\".format(cost))"
   ]
  },
  {
   "cell_type": "markdown",
   "id": "afe05f24-b844-4bed-b7a0-dedf8dc537ba",
   "metadata": {},
   "source": [
    "# AGCRN"
   ]
  },
  {
   "cell_type": "code",
   "execution_count": 77,
   "id": "5b7d9f86-4387-4bba-956a-c88eb236e761",
   "metadata": {},
   "outputs": [],
   "source": [
    "try:\n",
    "    from tqdm import tqdm\n",
    "except ImportError:\n",
    "    def tqdm(iterable):\n",
    "        return iterable"
   ]
  },
  {
   "cell_type": "code",
   "execution_count": 78,
   "id": "1e738c42-0762-4d0e-9574-be6f8b320575",
   "metadata": {},
   "outputs": [],
   "source": [
    "import torch\n",
    "import torch.nn.functional as F\n",
    "from torch_geometric_temporal.nn.recurrent import AGCRN\n",
    "\n",
    "from torch_geometric_temporal.dataset import ChickenpoxDatasetLoader\n",
    "from torch_geometric_temporal.signal import temporal_signal_split\n",
    "\n",
    "loader = ChickenpoxDatasetLoader()\n",
    "\n",
    "dataset = loader.get_dataset(lags=8)\n",
    "\n",
    "train_dataset, test_dataset = temporal_signal_split(dataset, train_ratio=0.2)"
   ]
  },
  {
   "cell_type": "code",
   "execution_count": 79,
   "id": "7f5335e8-e29b-4647-94e4-85144e4e8d23",
   "metadata": {},
   "outputs": [],
   "source": [
    "class RecurrentGCN(torch.nn.Module):\n",
    "    def __init__(self, node_features,number_of_nodes):\n",
    "        super(RecurrentGCN, self).__init__()\n",
    "        self.recurrent = AGCRN(number_of_nodes = 20,\n",
    "                              in_channels = node_features,\n",
    "                              out_channels = 2,\n",
    "                              K = 2,\n",
    "                              embedding_dimensions = 4)\n",
    "        self.linear = torch.nn.Linear(2, 1)\n",
    "\n",
    "    def forward(self, x, e, h):\n",
    "        h_0 = self.recurrent(x, e, h)\n",
    "        y = F.relu(h_0)\n",
    "        y = self.linear(y)\n",
    "        return y, h_0"
   ]
  },
  {
   "cell_type": "code",
   "execution_count": 81,
   "id": "aa45744e-26a0-477e-b0a4-5c968977db88",
   "metadata": {},
   "outputs": [
    {
     "name": "stderr",
     "output_type": "stream",
     "text": [
      "100%|██████████| 200/200 [00:50<00:00,  3.99it/s]\n"
     ]
    }
   ],
   "source": [
    "model = RecurrentGCN(node_features = 8,number_of_nodes=20)\n",
    "\n",
    "optimizer = torch.optim.Adam(model.parameters(), lr=0.01)\n",
    "\n",
    "model.train()\n",
    "\n",
    "e = torch.empty(20, 4)\n",
    "\n",
    "torch.nn.init.xavier_uniform_(e)\n",
    "\n",
    "for epoch in tqdm(range(200)):\n",
    "    cost = 0\n",
    "    h = None\n",
    "    for time, snapshot in enumerate(train_dataset):\n",
    "        x = snapshot.x.view(1, 20, 8)\n",
    "        y_hat, h = model(x, e, h)\n",
    "        y_hat = y_hat.reshape(-1)\n",
    "        cost = cost + torch.mean((y_hat-snapshot.y)**2)\n",
    "    cost = cost / (time+1)\n",
    "    cost.backward()\n",
    "    optimizer.step()\n",
    "    optimizer.zero_grad()"
   ]
  },
  {
   "cell_type": "code",
   "execution_count": 82,
   "id": "4d9b1fc7-6c15-4a38-954b-453fed949e62",
   "metadata": {},
   "outputs": [
    {
     "name": "stdout",
     "output_type": "stream",
     "text": [
      "MSE: 1.1426\n"
     ]
    }
   ],
   "source": [
    "model.eval()\n",
    "cost = 0\n",
    "for time, snapshot in enumerate(test_dataset):\n",
    "    x = snapshot.x.view(1, 20, 8)\n",
    "    y_hat, h = model(x, e, h)\n",
    "    cost = cost + torch.mean((y_hat-snapshot.y)**2)\n",
    "cost = cost / (time+1)\n",
    "cost = cost.item()\n",
    "print(\"MSE: {:.4f}\".format(cost))"
   ]
  },
  {
   "cell_type": "markdown",
   "id": "f606b4e7-e5b2-433b-9de9-436070dca108",
   "metadata": {},
   "source": [
    "# DCRNN"
   ]
  },
  {
   "cell_type": "code",
   "execution_count": 217,
   "id": "cc6098e1-db98-4685-8e6c-53e15a5a442e",
   "metadata": {},
   "outputs": [],
   "source": [
    "try:\n",
    "    from tqdm import tqdm\n",
    "except ImportError:\n",
    "    def tqdm(iterable):\n",
    "        return iterable"
   ]
  },
  {
   "cell_type": "code",
   "execution_count": 218,
   "id": "3756ced8-676b-4024-aea8-b266bf89faab",
   "metadata": {},
   "outputs": [],
   "source": [
    "import torch\n",
    "import torch.nn.functional as F\n",
    "from torch_geometric_temporal.nn.recurrent import DCRNN\n",
    "\n",
    "from torch_geometric_temporal.dataset import ChickenpoxDatasetLoader\n",
    "from torch_geometric_temporal.signal import temporal_signal_split\n",
    "\n",
    "loader = ChickenpoxDatasetLoader()\n",
    "\n",
    "dataset = loader.get_dataset()\n",
    "\n",
    "train_dataset, test_dataset = temporal_signal_split(dataset, train_ratio=0.2)"
   ]
  },
  {
   "cell_type": "code",
   "execution_count": 207,
   "id": "5ec90859-f753-41b5-9797-b6d74de75d9a",
   "metadata": {},
   "outputs": [
    {
     "data": {
      "text/plain": [
       "\u001b[0;31mInit signature:\u001b[0m \u001b[0mDCRNN\u001b[0m\u001b[0;34m(\u001b[0m\u001b[0min_channels\u001b[0m\u001b[0;34m:\u001b[0m \u001b[0mint\u001b[0m\u001b[0;34m,\u001b[0m \u001b[0mout_channels\u001b[0m\u001b[0;34m:\u001b[0m \u001b[0mint\u001b[0m\u001b[0;34m,\u001b[0m \u001b[0mK\u001b[0m\u001b[0;34m:\u001b[0m \u001b[0mint\u001b[0m\u001b[0;34m,\u001b[0m \u001b[0mbias\u001b[0m\u001b[0;34m:\u001b[0m \u001b[0mbool\u001b[0m \u001b[0;34m=\u001b[0m \u001b[0;32mTrue\u001b[0m\u001b[0;34m)\u001b[0m\u001b[0;34m\u001b[0m\u001b[0;34m\u001b[0m\u001b[0m\n",
       "\u001b[0;31mDocstring:\u001b[0m     \n",
       "An implementation of the Diffusion Convolutional Gated Recurrent Unit.\n",
       "For details see: `\"Diffusion Convolutional Recurrent Neural Network:\n",
       "Data-Driven Traffic Forecasting\" <https://arxiv.org/abs/1707.01926>`_\n",
       "\n",
       "Args:\n",
       "    in_channels (int): Number of input features.\n",
       "    out_channels (int): Number of output features.\n",
       "    K (int): Filter size :math:`K`.\n",
       "    bias (bool, optional): If set to :obj:`False`, the layer\n",
       "        will not learn an additive bias (default :obj:`True`)\n",
       "\u001b[0;31mInit docstring:\u001b[0m Initializes internal Module state, shared by both nn.Module and ScriptModule.\n",
       "\u001b[0;31mFile:\u001b[0m           ~/anaconda3/envs/temp_csy/lib/python3.8/site-packages/torch_geometric_temporal/nn/recurrent/dcrnn.py\n",
       "\u001b[0;31mType:\u001b[0m           type\n",
       "\u001b[0;31mSubclasses:\u001b[0m     \n"
      ]
     },
     "metadata": {},
     "output_type": "display_data"
    }
   ],
   "source": [
    "DCRNN?"
   ]
  },
  {
   "cell_type": "code",
   "execution_count": 208,
   "id": "4d05a2bb-f304-4564-89b2-39e50f9e5369",
   "metadata": {},
   "outputs": [],
   "source": [
    "class RecurrentGCN(torch.nn.Module):\n",
    "    def __init__(self, node_features):\n",
    "        super(RecurrentGCN, self).__init__()\n",
    "        self.recurrent = DCRNN(node_features, 32, 1)\n",
    "        self.linear = torch.nn.Linear(32, 1)\n",
    "\n",
    "    def forward(self, x, edge_index, edge_weight):\n",
    "        h = self.recurrent(x, edge_index, edge_weight)\n",
    "        h = F.relu(h)\n",
    "        h = self.linear(h)\n",
    "        return h"
   ]
  },
  {
   "cell_type": "code",
   "execution_count": 209,
   "id": "8608a5c7-f8cd-4274-bbc0-ef02def47458",
   "metadata": {},
   "outputs": [],
   "source": [
    "model = RecurrentGCN(node_features = 4)"
   ]
  },
  {
   "cell_type": "code",
   "execution_count": 210,
   "id": "726c0f40-ed0d-4055-95bd-237081ed4e8a",
   "metadata": {},
   "outputs": [
    {
     "data": {
      "text/plain": [
       "RecurrentGCN(\n",
       "  (recurrent): DCRNN(\n",
       "    (conv_x_z): DConv(36, 32)\n",
       "    (conv_x_r): DConv(36, 32)\n",
       "    (conv_x_h): DConv(36, 32)\n",
       "  )\n",
       "  (linear): Linear(in_features=32, out_features=1, bias=True)\n",
       ")"
      ]
     },
     "execution_count": 210,
     "metadata": {},
     "output_type": "execute_result"
    }
   ],
   "source": [
    "model"
   ]
  },
  {
   "cell_type": "code",
   "execution_count": 41,
   "id": "eeaa4ab2-8091-4eaf-b955-215b8dd2ec69",
   "metadata": {},
   "outputs": [
    {
     "name": "stderr",
     "output_type": "stream",
     "text": [
      "100%|██████████| 200/200 [00:52<00:00,  3.80it/s]\n"
     ]
    }
   ],
   "source": [
    "model = RecurrentGCN(node_features = 4)\n",
    "\n",
    "optimizer = torch.optim.Adam(model.parameters(), lr=0.01)\n",
    "\n",
    "model.train()\n",
    "\n",
    "for epoch in tqdm(range(200)):\n",
    "    cost = 0\n",
    "    for time, snapshot in enumerate(train_dataset):\n",
    "        y_hat = model(snapshot.x, snapshot.edge_index, snapshot.edge_attr).reshape(-1)\n",
    "        cost = cost + torch.mean((y_hat-snapshot.y)**2)\n",
    "    cost = cost / (time+1)\n",
    "    cost.backward()\n",
    "    optimizer.step()\n",
    "    optimizer.zero_grad()"
   ]
  },
  {
   "cell_type": "code",
   "execution_count": 215,
   "id": "cf8257f6-3ff8-4f20-8491-5fee2cf51cca",
   "metadata": {},
   "outputs": [
    {
     "name": "stdout",
     "output_type": "stream",
     "text": [
      "MSE: 1.1089\n"
     ]
    }
   ],
   "source": [
    "model.eval()\n",
    "cost = 0\n",
    "a=[]\n",
    "a1=[]\n",
    "for time, snapshot in enumerate(test_dataset):\n",
    "    y_hat = model(snapshot.x, snapshot.edge_index, snapshot.edge_attr)\n",
    "    cost = cost + torch.mean((y_hat-snapshot.y)**2)\n",
    "    a.append(cost)\n",
    "cost = cost / (time+1)\n",
    "a1.append(cost)\n",
    "cost = cost.item()\n",
    "print(\"MSE: {:.4f}\".format(cost))"
   ]
  },
  {
   "cell_type": "code",
   "execution_count": 59,
   "id": "9d72fa35-4af2-4bca-9f12-633b629d46b4",
   "metadata": {},
   "outputs": [],
   "source": [
    "b = [a[i].detach() for i in range(len(a))]"
   ]
  },
  {
   "cell_type": "code",
   "execution_count": 65,
   "id": "7a02c734-efa1-4b43-93a6-8476bb8576b1",
   "metadata": {},
   "outputs": [
    {
     "data": {
      "text/plain": [
       "414"
      ]
     },
     "execution_count": 65,
     "metadata": {},
     "output_type": "execute_result"
    }
   ],
   "source": [
    "test_dataset.snapshot_count"
   ]
  },
  {
   "cell_type": "code",
   "execution_count": 66,
   "id": "9ef0c948-741c-472b-8e27-ec804300ab5e",
   "metadata": {},
   "outputs": [
    {
     "data": {
      "text/plain": [
       "tensor(1.0354)"
      ]
     },
     "execution_count": 66,
     "metadata": {},
     "output_type": "execute_result"
    }
   ],
   "source": [
    "b[-1]/415"
   ]
  },
  {
   "cell_type": "code",
   "execution_count": 60,
   "id": "8ef32331-ec1b-4a1c-9fa2-1a5b2aea5923",
   "metadata": {},
   "outputs": [
    {
     "data": {
      "text/plain": [
       "[<matplotlib.lines.Line2D at 0x7efba33352e0>]"
      ]
     },
     "execution_count": 60,
     "metadata": {},
     "output_type": "execute_result"
    },
    {
     "data": {
      "image/png": "[encoded data removed]",
      "text/plain": [
       "<Figure size 432x288 with 1 Axes>"
      ]
     },
     "metadata": {
      "needs_background": "light"
     },
     "output_type": "display_data"
    }
   ],
   "source": [
    "plt.plot(b)"
   ]
  },
  {
   "cell_type": "markdown",
   "id": "0c362723-00f2-4655-97c0-99e366ae2565",
   "metadata": {
    "toc-hr-collapsed": true
   },
   "source": [
    "# DYGRENCODER"
   ]
  },
  {
   "cell_type": "code",
   "execution_count": 150,
   "id": "18e39dd6-c3c6-458a-bc52-14ea6277cb44",
   "metadata": {},
   "outputs": [],
   "source": [
    "try:\n",
    "    from tqdm import tqdm\n",
    "except ImportError:\n",
    "    def tqdm(iterable):\n",
    "        return iterable"
   ]
  },
  {
   "cell_type": "code",
   "execution_count": 151,
   "id": "7342032e-551e-47b7-a10f-dc33275e433d",
   "metadata": {},
   "outputs": [],
   "source": [
    "import torch\n",
    "import torch.nn.functional as F\n",
    "from torch_geometric_temporal.nn.recurrent import DyGrEncoder\n",
    "\n",
    "from torch_geometric_temporal.dataset import ChickenpoxDatasetLoader\n",
    "from torch_geometric_temporal.signal import temporal_signal_split\n",
    "\n",
    "loader = ChickenpoxDatasetLoader()\n",
    "\n",
    "dataset = loader.get_dataset()\n",
    "\n",
    "train_dataset, test_dataset = temporal_signal_split(dataset, train_ratio=0.2)"
   ]
  },
  {
   "cell_type": "code",
   "execution_count": 152,
   "id": "4f153ac1-21f9-4c31-95d9-feaf3111958d",
   "metadata": {},
   "outputs": [
    {
     "data": {
      "text/plain": [
       "\u001b[0;31mInit signature:\u001b[0m\n",
       "\u001b[0mDyGrEncoder\u001b[0m\u001b[0;34m(\u001b[0m\u001b[0;34m\u001b[0m\n",
       "\u001b[0;34m\u001b[0m    \u001b[0mconv_out_channels\u001b[0m\u001b[0;34m:\u001b[0m \u001b[0mint\u001b[0m\u001b[0;34m,\u001b[0m\u001b[0;34m\u001b[0m\n",
       "\u001b[0;34m\u001b[0m    \u001b[0mconv_num_layers\u001b[0m\u001b[0;34m:\u001b[0m \u001b[0mint\u001b[0m\u001b[0;34m,\u001b[0m\u001b[0;34m\u001b[0m\n",
       "\u001b[0;34m\u001b[0m    \u001b[0mconv_aggr\u001b[0m\u001b[0;34m:\u001b[0m \u001b[0mstr\u001b[0m\u001b[0;34m,\u001b[0m\u001b[0;34m\u001b[0m\n",
       "\u001b[0;34m\u001b[0m    \u001b[0mlstm_out_channels\u001b[0m\u001b[0;34m:\u001b[0m \u001b[0mint\u001b[0m\u001b[0;34m,\u001b[0m\u001b[0;34m\u001b[0m\n",
       "\u001b[0;34m\u001b[0m    \u001b[0mlstm_num_layers\u001b[0m\u001b[0;34m:\u001b[0m \u001b[0mint\u001b[0m\u001b[0;34m,\u001b[0m\u001b[0;34m\u001b[0m\n",
       "\u001b[0;34m\u001b[0m\u001b[0;34m)\u001b[0m\u001b[0;34m\u001b[0m\u001b[0;34m\u001b[0m\u001b[0m\n",
       "\u001b[0;31mDocstring:\u001b[0m     \n",
       "An implementation of the integrated Gated Graph Convolution Long Short\n",
       "Term Memory Layer. For details see this paper: `\"Predictive Temporal Embedding\n",
       "of Dynamic Graphs.\" <https://ieeexplore.ieee.org/document/9073186>`_\n",
       "\n",
       "Args:\n",
       "    conv_out_channels (int): Number of output channels for the GGCN.\n",
       "    conv_num_layers (int): Number of Gated Graph Convolutions.\n",
       "    conv_aggr (str): Aggregation scheme to use\n",
       "        (:obj:`\"add\"`, :obj:`\"mean\"`, :obj:`\"max\"`).\n",
       "    lstm_out_channels (int): Number of LSTM channels.\n",
       "    lstm_num_layers (int): Number of neurons in LSTM.\n",
       "\u001b[0;31mInit docstring:\u001b[0m Initializes internal Module state, shared by both nn.Module and ScriptModule.\n",
       "\u001b[0;31mFile:\u001b[0m           ~/anaconda3/envs/temp_csy/lib/python3.8/site-packages/torch_geometric_temporal/nn/recurrent/dygrae.py\n",
       "\u001b[0;31mType:\u001b[0m           type\n",
       "\u001b[0;31mSubclasses:\u001b[0m     \n"
      ]
     },
     "metadata": {},
     "output_type": "display_data"
    }
   ],
   "source": [
    "DyGrEncoder?"
   ]
  },
  {
   "cell_type": "code",
   "execution_count": 201,
   "id": "3e7b784b-3419-4002-8dd4-116aa4f38995",
   "metadata": {},
   "outputs": [],
   "source": [
    "class RecurrentGCN(torch.nn.Module):\n",
    "    def __init__(self, node_features):\n",
    "        super(RecurrentGCN, self).__init__()\n",
    "        self.recurrent = DyGrEncoder(conv_out_channels=4, conv_num_layers=1, conv_aggr=\"mean\", lstm_out_channels=32, lstm_num_layers=1)\n",
    "        self.linear = torch.nn.Linear(32, 1)\n",
    "\n",
    "    def forward(self, x, edge_index, edge_weight, h_0, c_0):\n",
    "        h, h_0, c_0 = self.recurrent(x, edge_index, edge_weight, h_0, c_0)\n",
    "        h = F.relu(h)\n",
    "        h = self.linear(h)\n",
    "        return h, h_0, c_0"
   ]
  },
  {
   "cell_type": "code",
   "execution_count": 202,
   "id": "6168907c-9851-48f3-87d6-d1bcb7863989",
   "metadata": {},
   "outputs": [],
   "source": [
    "model = RecurrentGCN(6)"
   ]
  },
  {
   "cell_type": "code",
   "execution_count": 203,
   "id": "ca48b56c-85d0-4aa0-9002-7ef4c679205a",
   "metadata": {},
   "outputs": [
    {
     "data": {
      "text/plain": [
       "RecurrentGCN(\n",
       "  (recurrent): DyGrEncoder(\n",
       "    (conv_layer): GatedGraphConv(4, num_layers=1)\n",
       "    (recurrent_layer): LSTM(4, 32)\n",
       "  )\n",
       "  (linear): Linear(in_features=32, out_features=1, bias=True)\n",
       ")"
      ]
     },
     "execution_count": 203,
     "metadata": {},
     "output_type": "execute_result"
    }
   ],
   "source": [
    "model"
   ]
  },
  {
   "cell_type": "code",
   "execution_count": null,
   "id": "cd72b356-0c0c-44de-bf38-ef966e06da2b",
   "metadata": {},
   "outputs": [],
   "source": [
    "cost = 0\n",
    "h, c = None, None\n",
    "for time, snapshot in enumerate(train_dataset):\n",
    "    y_hat, h, c, i, j = model1(snapshot.x, snapshot.edge_index, snapshot.edge_attr, h, c)\n",
    "    # h = F.relu(h)\n",
    "    # # print(h.shape)\n",
    "    # # h = self.linear(h)\n",
    "    # # y_hat = y_hat.reshape(-1)\n",
    "    print(y_hat.shape,h.shape, c.shape, i.shape, j.shape)"
   ]
  },
  {
   "cell_type": "code",
   "execution_count": null,
   "id": "5306bf87-7404-401b-ad5b-f98ca422917e",
   "metadata": {},
   "outputs": [],
   "source": [
    "model = RecurrentGCN(node_features = 4)\n",
    "\n",
    "optimizer = torch.optim.Adam(model.parameters(), lr=0.01)\n",
    "\n",
    "model.train()\n",
    "\n",
    "for epoch in tqdm(range(200)):\n",
    "    cost = 0\n",
    "    h, c = None, None\n",
    "    for time, snapshot in enumerate(train_dataset):\n",
    "        y_hat, h, c = model(snapshot.x, snapshot.edge_index, snapshot.edge_attr, h, c)\n",
    "        y_hat = y_hat.reshape(-1)\n",
    "        cost = cost + torch.mean((y_hat-snapshot.y)**2)\n",
    "    cost = cost / (time+1)\n",
    "    cost.backward()\n",
    "    optimizer.step()\n",
    "    optimizer.zero_grad()"
   ]
  },
  {
   "cell_type": "code",
   "execution_count": null,
   "id": "f8518129-e4ca-4d13-b8b6-75e66369868e",
   "metadata": {},
   "outputs": [],
   "source": []
  },
  {
   "cell_type": "code",
   "execution_count": 76,
   "id": "3ef8e518-7df2-4f15-84b3-346d8685334d",
   "metadata": {
    "tags": []
   },
   "outputs": [
    {
     "name": "stdout",
     "output_type": "stream",
     "text": [
      "MSE: 2.2043\n"
     ]
    }
   ],
   "source": [
    "model.eval()\n",
    "cost = 0\n",
    "h, c = None, None\n",
    "for time, snapshot in enumerate(test_dataset):\n",
    "    y_hat, h, c = model(snapshot.x, snapshot.edge_index, snapshot.edge_attr, h, c)\n",
    "    cost = cost + torch.mean((y_hat-snapshot.y)**2)\n",
    "cost = cost / (time+1)\n",
    "cost = cost.item()\n",
    "print(\"MSE: {:.4f}\".format(cost))"
   ]
  },
  {
   "cell_type": "markdown",
   "id": "19ff4473-db9d-4bcd-b135-81fda8ee8fd8",
   "metadata": {},
   "source": [
    "# EvolveGCNH"
   ]
  },
  {
   "cell_type": "code",
   "execution_count": 104,
   "id": "73f9d544-b58c-447a-968b-70a0b8388097",
   "metadata": {},
   "outputs": [],
   "source": [
    "try:\n",
    "    from tqdm import tqdm\n",
    "except ImportError:\n",
    "    def tqdm(iterable):\n",
    "        return iterable"
   ]
  },
  {
   "cell_type": "code",
   "execution_count": 105,
   "id": "a965246e-a2b4-4c0b-b5bf-f64f0d7c9861",
   "metadata": {},
   "outputs": [],
   "source": [
    "import torch\n",
    "import torch.nn.functional as F\n",
    "from torch_geometric_temporal.nn.recurrent import EvolveGCNH\n",
    "\n",
    "from torch_geometric_temporal.dataset import ChickenpoxDatasetLoader\n",
    "from torch_geometric_temporal.signal import temporal_signal_split\n",
    "\n",
    "loader = ChickenpoxDatasetLoader()\n",
    "\n",
    "dataset = loader.get_dataset()\n",
    "\n",
    "train_dataset, test_dataset = temporal_signal_split(dataset, train_ratio=0.2)"
   ]
  },
  {
   "cell_type": "code",
   "execution_count": 106,
   "id": "fc3fb069-417b-413c-ae7b-688fc9b5d6e7",
   "metadata": {},
   "outputs": [
    {
     "data": {
      "text/plain": [
       "\u001b[0;31mInit signature:\u001b[0m\n",
       "\u001b[0mEvolveGCNH\u001b[0m\u001b[0;34m(\u001b[0m\u001b[0;34m\u001b[0m\n",
       "\u001b[0;34m\u001b[0m    \u001b[0mnum_of_nodes\u001b[0m\u001b[0;34m:\u001b[0m \u001b[0mint\u001b[0m\u001b[0;34m,\u001b[0m\u001b[0;34m\u001b[0m\n",
       "\u001b[0;34m\u001b[0m    \u001b[0min_channels\u001b[0m\u001b[0;34m:\u001b[0m \u001b[0mint\u001b[0m\u001b[0;34m,\u001b[0m\u001b[0;34m\u001b[0m\n",
       "\u001b[0;34m\u001b[0m    \u001b[0mimproved\u001b[0m\u001b[0;34m:\u001b[0m \u001b[0mbool\u001b[0m \u001b[0;34m=\u001b[0m \u001b[0;32mFalse\u001b[0m\u001b[0;34m,\u001b[0m\u001b[0;34m\u001b[0m\n",
       "\u001b[0;34m\u001b[0m    \u001b[0mcached\u001b[0m\u001b[0;34m:\u001b[0m \u001b[0mbool\u001b[0m \u001b[0;34m=\u001b[0m \u001b[0;32mFalse\u001b[0m\u001b[0;34m,\u001b[0m\u001b[0;34m\u001b[0m\n",
       "\u001b[0;34m\u001b[0m    \u001b[0mnormalize\u001b[0m\u001b[0;34m:\u001b[0m \u001b[0mbool\u001b[0m \u001b[0;34m=\u001b[0m \u001b[0;32mTrue\u001b[0m\u001b[0;34m,\u001b[0m\u001b[0;34m\u001b[0m\n",
       "\u001b[0;34m\u001b[0m    \u001b[0madd_self_loops\u001b[0m\u001b[0;34m:\u001b[0m \u001b[0mbool\u001b[0m \u001b[0;34m=\u001b[0m \u001b[0;32mTrue\u001b[0m\u001b[0;34m,\u001b[0m\u001b[0;34m\u001b[0m\n",
       "\u001b[0;34m\u001b[0m\u001b[0;34m)\u001b[0m\u001b[0;34m\u001b[0m\u001b[0;34m\u001b[0m\u001b[0m\n",
       "\u001b[0;31mDocstring:\u001b[0m     \n",
       "An implementation of the Evolving Graph Convolutional Hidden Layer.\n",
       "For details see this paper: `\"EvolveGCN: Evolving Graph Convolutional\n",
       "Networks for Dynamic Graph.\" <https://arxiv.org/abs/1902.10191>`_\n",
       "\n",
       "Args:\n",
       "    num_of_nodes (int): Number of vertices.\n",
       "    in_channels (int): Number of filters.\n",
       "    improved (bool, optional): If set to :obj:`True`, the layer computes\n",
       "        :math:`\\mathbf{\\hat{A}}` as :math:`\\mathbf{A} + 2\\mathbf{I}`.\n",
       "        (default: :obj:`False`)\n",
       "    cached (bool, optional): If set to :obj:`True`, the layer will cache\n",
       "        the computation of :math:`\\mathbf{\\hat{D}}^{-1/2} \\mathbf{\\hat{A}}\n",
       "        \\mathbf{\\hat{D}}^{-1/2}` on first execution, and will use the\n",
       "        cached version for further executions.\n",
       "        This parameter should only be set to :obj:`True` in transductive\n",
       "        learning scenarios. (default: :obj:`False`)\n",
       "    normalize (bool, optional): Whether to add self-loops and apply\n",
       "        symmetric normalization. (default: :obj:`True`)\n",
       "    add_self_loops (bool, optional): If set to :obj:`False`, will not add\n",
       "        self-loops to the input graph. (default: :obj:`True`)\n",
       "\u001b[0;31mInit docstring:\u001b[0m Initializes internal Module state, shared by both nn.Module and ScriptModule.\n",
       "\u001b[0;31mFile:\u001b[0m           ~/anaconda3/envs/temp_csy/lib/python3.8/site-packages/torch_geometric_temporal/nn/recurrent/evolvegcnh.py\n",
       "\u001b[0;31mType:\u001b[0m           type\n",
       "\u001b[0;31mSubclasses:\u001b[0m     \n"
      ]
     },
     "metadata": {},
     "output_type": "display_data"
    }
   ],
   "source": [
    "EvolveGCNH?"
   ]
  },
  {
   "cell_type": "code",
   "execution_count": 107,
   "id": "4452ecfc-6fcc-4618-87dc-96a12a442d63",
   "metadata": {},
   "outputs": [],
   "source": [
    "class RecurrentGCN(torch.nn.Module):\n",
    "    def __init__(self, node_count, node_features):\n",
    "        super(RecurrentGCN, self).__init__()\n",
    "        self.recurrent = EvolveGCNH(node_count, node_features)\n",
    "        self.linear = torch.nn.Linear(node_features, 1)\n",
    "\n",
    "    def forward(self, x, edge_index, edge_weight):\n",
    "        h = self.recurrent(x, edge_index, edge_weight)\n",
    "        h = F.relu(h)\n",
    "        h = self.linear(h)\n",
    "        return h"
   ]
  },
  {
   "cell_type": "code",
   "execution_count": 108,
   "id": "61ce5ca5-6caa-42ce-a3b5-0c85770f0ef1",
   "metadata": {},
   "outputs": [],
   "source": [
    "model = RecurrentGCN(node_features = 4, node_count = 20)\n"
   ]
  },
  {
   "cell_type": "code",
   "execution_count": 109,
   "id": "f3cfc289-dd22-4069-8236-7be019f4f13b",
   "metadata": {},
   "outputs": [
    {
     "data": {
      "text/plain": [
       "RecurrentGCN(\n",
       "  (recurrent): EvolveGCNH(\n",
       "    (pooling_layer): TopKPooling(4, ratio=0.2, multiplier=1.0)\n",
       "    (recurrent_layer): GRU(4, 4)\n",
       "    (conv_layer): GCNConv_Fixed_W(4, 4)\n",
       "  )\n",
       "  (linear): Linear(in_features=4, out_features=1, bias=True)\n",
       ")"
      ]
     },
     "execution_count": 109,
     "metadata": {},
     "output_type": "execute_result"
    }
   ],
   "source": [
    "model"
   ]
  },
  {
   "cell_type": "code",
   "execution_count": 68,
   "id": "ea24035c-541e-4593-9848-213398a61889",
   "metadata": {},
   "outputs": [
    {
     "name": "stderr",
     "output_type": "stream",
     "text": [
      "100%|██████████| 200/200 [00:37<00:00,  5.34it/s]\n"
     ]
    }
   ],
   "source": [
    "model = RecurrentGCN(node_features = 4, node_count = 20)\n",
    "\n",
    "optimizer = torch.optim.Adam(model.parameters(), lr=0.01)\n",
    "\n",
    "model.train()\n",
    "\n",
    "for epoch in tqdm(range(200)):\n",
    "    cost = 0\n",
    "    for time, snapshot in enumerate(train_dataset):\n",
    "        y_hat = model(snapshot.x, snapshot.edge_index, snapshot.edge_attr).reshape(-1)\n",
    "        cost = cost + torch.mean((y_hat-snapshot.y)**2)\n",
    "    cost = cost / (time+1)\n",
    "    cost.backward()\n",
    "    optimizer.step()\n",
    "    optimizer.zero_grad()"
   ]
  },
  {
   "cell_type": "code",
   "execution_count": 69,
   "id": "5fb21382-fd51-41d3-8f9c-25f58d10ce9c",
   "metadata": {},
   "outputs": [
    {
     "name": "stdout",
     "output_type": "stream",
     "text": [
      "MSE: 1.0213\n"
     ]
    }
   ],
   "source": [
    "model.eval()\n",
    "cost = 0\n",
    "for time, snapshot in enumerate(test_dataset):\n",
    "    y_hat = model(snapshot.x, snapshot.edge_index, snapshot.edge_attr)\n",
    "    cost = cost + torch.mean((y_hat-snapshot.y)**2)\n",
    "cost = cost / (time+1)\n",
    "cost = cost.item()\n",
    "print(\"MSE: {:.4f}\".format(cost))"
   ]
  },
  {
   "cell_type": "markdown",
   "id": "c2695a97-0e48-4e34-a7a9-b5b2e636ccc9",
   "metadata": {},
   "source": [
    "# EVOLVEGCNO"
   ]
  },
  {
   "cell_type": "code",
   "execution_count": 110,
   "id": "eebe177d-58f5-4ea0-89ce-e021b8b36ffa",
   "metadata": {},
   "outputs": [],
   "source": [
    "try:\n",
    "    from tqdm import tqdm\n",
    "except ImportError:\n",
    "    def tqdm(iterable):\n",
    "        return iterable"
   ]
  },
  {
   "cell_type": "code",
   "execution_count": 111,
   "id": "e3e0891c-4467-4a95-9604-865e247d14f5",
   "metadata": {},
   "outputs": [],
   "source": [
    "import torch\n",
    "import torch.nn.functional as F\n",
    "from torch_geometric_temporal.nn.recurrent import EvolveGCNO\n",
    "\n",
    "from torch_geometric_temporal.dataset import ChickenpoxDatasetLoader\n",
    "from torch_geometric_temporal.signal import temporal_signal_split\n",
    "\n",
    "loader = ChickenpoxDatasetLoader()\n",
    "\n",
    "dataset = loader.get_dataset()\n",
    "\n",
    "train_dataset, test_dataset = temporal_signal_split(dataset, train_ratio=0.2)\n"
   ]
  },
  {
   "cell_type": "code",
   "execution_count": 112,
   "id": "139f8278-6d06-46db-8791-34459e04d598",
   "metadata": {},
   "outputs": [
    {
     "data": {
      "text/plain": [
       "\u001b[0;31mInit signature:\u001b[0m\n",
       "\u001b[0mEvolveGCNO\u001b[0m\u001b[0;34m(\u001b[0m\u001b[0;34m\u001b[0m\n",
       "\u001b[0;34m\u001b[0m    \u001b[0min_channels\u001b[0m\u001b[0;34m:\u001b[0m \u001b[0mint\u001b[0m\u001b[0;34m,\u001b[0m\u001b[0;34m\u001b[0m\n",
       "\u001b[0;34m\u001b[0m    \u001b[0mimproved\u001b[0m\u001b[0;34m:\u001b[0m \u001b[0mbool\u001b[0m \u001b[0;34m=\u001b[0m \u001b[0;32mFalse\u001b[0m\u001b[0;34m,\u001b[0m\u001b[0;34m\u001b[0m\n",
       "\u001b[0;34m\u001b[0m    \u001b[0mcached\u001b[0m\u001b[0;34m:\u001b[0m \u001b[0mbool\u001b[0m \u001b[0;34m=\u001b[0m \u001b[0;32mFalse\u001b[0m\u001b[0;34m,\u001b[0m\u001b[0;34m\u001b[0m\n",
       "\u001b[0;34m\u001b[0m    \u001b[0mnormalize\u001b[0m\u001b[0;34m:\u001b[0m \u001b[0mbool\u001b[0m \u001b[0;34m=\u001b[0m \u001b[0;32mTrue\u001b[0m\u001b[0;34m,\u001b[0m\u001b[0;34m\u001b[0m\n",
       "\u001b[0;34m\u001b[0m    \u001b[0madd_self_loops\u001b[0m\u001b[0;34m:\u001b[0m \u001b[0mbool\u001b[0m \u001b[0;34m=\u001b[0m \u001b[0;32mTrue\u001b[0m\u001b[0;34m,\u001b[0m\u001b[0;34m\u001b[0m\n",
       "\u001b[0;34m\u001b[0m\u001b[0;34m)\u001b[0m\u001b[0;34m\u001b[0m\u001b[0;34m\u001b[0m\u001b[0m\n",
       "\u001b[0;31mDocstring:\u001b[0m     \n",
       "An implementation of the Evolving Graph Convolutional without Hidden Layer.\n",
       "For details see this paper: `\"EvolveGCN: Evolving Graph Convolutional\n",
       "Networks for Dynamic Graph.\" <https://arxiv.org/abs/1902.10191>`_\n",
       "Args:\n",
       "    in_channels (int): Number of filters.\n",
       "    improved (bool, optional): If set to :obj:`True`, the layer computes\n",
       "        :math:`\\mathbf{\\hat{A}}` as :math:`\\mathbf{A} + 2\\mathbf{I}`.\n",
       "        (default: :obj:`False`)\n",
       "    cached (bool, optional): If set to :obj:`True`, the layer will cache\n",
       "        the computation of :math:`\\mathbf{\\hat{D}}^{-1/2} \\mathbf{\\hat{A}}\n",
       "        \\mathbf{\\hat{D}}^{-1/2}` on first execution, and will use the\n",
       "        cached version for further executions.\n",
       "        This parameter should only be set to :obj:`True` in transductive\n",
       "        learning scenarios. (default: :obj:`False`)\n",
       "    normalize (bool, optional): Whether to add self-loops and apply\n",
       "        symmetric normalization. (default: :obj:`True`)\n",
       "    add_self_loops (bool, optional): If set to :obj:`False`, will not add\n",
       "        self-loops to the input graph. (default: :obj:`True`)\n",
       "\u001b[0;31mInit docstring:\u001b[0m Initializes internal Module state, shared by both nn.Module and ScriptModule.\n",
       "\u001b[0;31mFile:\u001b[0m           ~/anaconda3/envs/temp_csy/lib/python3.8/site-packages/torch_geometric_temporal/nn/recurrent/evolvegcno.py\n",
       "\u001b[0;31mType:\u001b[0m           type\n",
       "\u001b[0;31mSubclasses:\u001b[0m     \n"
      ]
     },
     "metadata": {},
     "output_type": "display_data"
    }
   ],
   "source": [
    "EvolveGCNO?"
   ]
  },
  {
   "cell_type": "code",
   "execution_count": 113,
   "id": "9632438d-80ea-4043-97bd-12dad6c1c6f3",
   "metadata": {},
   "outputs": [],
   "source": [
    "class RecurrentGCN(torch.nn.Module):\n",
    "    def __init__(self, node_features):\n",
    "        super(RecurrentGCN, self).__init__()\n",
    "        self.recurrent = EvolveGCNO(node_features)\n",
    "        self.linear = torch.nn.Linear(node_features, 1)\n",
    "\n",
    "    def forward(self, x, edge_index, edge_weight):\n",
    "        h = self.recurrent(x, edge_index, edge_weight)\n",
    "        h = F.relu(h)\n",
    "        h = self.linear(h)\n",
    "        return h"
   ]
  },
  {
   "cell_type": "code",
   "execution_count": 114,
   "id": "e596e89a-67e2-43f7-87a6-2b2ba0f299e8",
   "metadata": {},
   "outputs": [],
   "source": [
    "model = RecurrentGCN(node_features = 4)"
   ]
  },
  {
   "cell_type": "code",
   "execution_count": 115,
   "id": "7f8add30-dc5e-48e3-a8a3-f924ab411949",
   "metadata": {},
   "outputs": [
    {
     "data": {
      "text/plain": [
       "RecurrentGCN(\n",
       "  (recurrent): EvolveGCNO(\n",
       "    (recurrent_layer): GRU(4, 4)\n",
       "    (conv_layer): GCNConv_Fixed_W(4, 4)\n",
       "  )\n",
       "  (linear): Linear(in_features=4, out_features=1, bias=True)\n",
       ")"
      ]
     },
     "execution_count": 115,
     "metadata": {},
     "output_type": "execute_result"
    }
   ],
   "source": [
    "model"
   ]
  },
  {
   "cell_type": "code",
   "execution_count": 61,
   "id": "1003481d-d206-4a3c-9fdf-fb7895872837",
   "metadata": {},
   "outputs": [
    {
     "name": "stderr",
     "output_type": "stream",
     "text": [
      "100%|██████████| 200/200 [00:24<00:00,  8.03it/s]\n"
     ]
    }
   ],
   "source": [
    "model = RecurrentGCN(node_features = 4)\n",
    "for param in model.parameters():\n",
    "    param.retain_grad()\n",
    "\n",
    "optimizer = torch.optim.Adam(model.parameters(), lr=0.01)\n",
    "\n",
    "model.train()\n",
    "\n",
    "for epoch in tqdm(range(200)):\n",
    "    cost = 0\n",
    "    for time, snapshot in enumerate(train_dataset):\n",
    "        y_hat = model(snapshot.x, snapshot.edge_index, snapshot.edge_attr).reshape(-1)\n",
    "        cost = cost + torch.mean((y_hat-snapshot.y)**2)\n",
    "    cost = cost / (time+1)\n",
    "    cost.backward(retain_graph=True)\n",
    "    optimizer.step()\n",
    "    optimizer.zero_grad()"
   ]
  },
  {
   "cell_type": "code",
   "execution_count": 62,
   "id": "8b8b4847-3fb0-4735-8182-201cf6fe475e",
   "metadata": {},
   "outputs": [
    {
     "name": "stdout",
     "output_type": "stream",
     "text": [
      "MSE: 1.0144\n"
     ]
    }
   ],
   "source": [
    "model.eval()\n",
    "cost = 0\n",
    "for time, snapshot in enumerate(test_dataset):\n",
    "    if time == 0:\n",
    "        model.recurrent.weight = None\n",
    "    y_hat = model(snapshot.x, snapshot.edge_index, snapshot.edge_attr)\n",
    "    cost = cost + torch.mean((y_hat-snapshot.y)**2)\n",
    "cost = cost / (time+1)\n",
    "cost = cost.item()\n",
    "print(\"MSE: {:.4f}\".format(cost))"
   ]
  },
  {
   "cell_type": "markdown",
   "id": "d3e3d336-66ad-49f3-a897-fb4774707f8c",
   "metadata": {},
   "source": [
    "# GCLSTM"
   ]
  },
  {
   "cell_type": "code",
   "execution_count": null,
   "id": "bf96c242-35f4-4dbc-b244-c97773ae39b6",
   "metadata": {},
   "outputs": [
    {
     "data": {
      "text/plain": [
       "\u001b[0;31mInit signature:\u001b[0m\n",
       "\u001b[0mGCLSTM\u001b[0m\u001b[0;34m(\u001b[0m\u001b[0;34m\u001b[0m\n",
       "\u001b[0;34m\u001b[0m    \u001b[0min_channels\u001b[0m\u001b[0;34m:\u001b[0m \u001b[0mint\u001b[0m\u001b[0;34m,\u001b[0m\u001b[0;34m\u001b[0m\n",
       "\u001b[0;34m\u001b[0m    \u001b[0mout_channels\u001b[0m\u001b[0;34m:\u001b[0m \u001b[0mint\u001b[0m\u001b[0;34m,\u001b[0m\u001b[0;34m\u001b[0m\n",
       "\u001b[0;34m\u001b[0m    \u001b[0mK\u001b[0m\u001b[0;34m:\u001b[0m \u001b[0mint\u001b[0m\u001b[0;34m,\u001b[0m\u001b[0;34m\u001b[0m\n",
       "\u001b[0;34m\u001b[0m    \u001b[0mnormalization\u001b[0m\u001b[0;34m:\u001b[0m \u001b[0mstr\u001b[0m \u001b[0;34m=\u001b[0m \u001b[0;34m'sym'\u001b[0m\u001b[0;34m,\u001b[0m\u001b[0;34m\u001b[0m\n",
       "\u001b[0;34m\u001b[0m    \u001b[0mbias\u001b[0m\u001b[0;34m:\u001b[0m \u001b[0mbool\u001b[0m \u001b[0;34m=\u001b[0m \u001b[0;32mTrue\u001b[0m\u001b[0;34m,\u001b[0m\u001b[0;34m\u001b[0m\n",
       "\u001b[0;34m\u001b[0m\u001b[0;34m)\u001b[0m\u001b[0;34m\u001b[0m\u001b[0;34m\u001b[0m\u001b[0m\n",
       "\u001b[0;31mDocstring:\u001b[0m     \n",
       "An implementation of the the Integrated Graph Convolutional Long Short Term\n",
       "Memory Cell. For details see this paper: `\"GC-LSTM: Graph Convolution Embedded LSTM\n",
       "for Dynamic Link Prediction.\" <https://arxiv.org/abs/1812.04206>`_\n",
       "\n",
       "Args:\n",
       "    in_channels (int): Number of input features.\n",
       "    out_channels (int): Number of output features.\n",
       "    K (int): Chebyshev filter size :math:`K`.\n",
       "    normalization (str, optional): The normalization scheme for the graph\n",
       "        Laplacian (default: :obj:`\"sym\"`):\n",
       "\n",
       "        1. :obj:`None`: No normalization\n",
       "        :math:`\\mathbf{L} = \\mathbf{D} - \\mathbf{A}`\n",
       "\n",
       "        2. :obj:`\"sym\"`: Symmetric normalization\n",
       "        :math:`\\mathbf{L} = \\mathbf{I} - \\mathbf{D}^{-1/2} \\mathbf{A}\n",
       "        \\mathbf{D}^{-1/2}`\n",
       "\n",
       "        3. :obj:`\"rw\"`: Random-walk normalization\n",
       "        :math:`\\mathbf{L} = \\mathbf{I} - \\mathbf{D}^{-1} \\mathbf{A}`\n",
       "\n",
       "        You need to pass :obj:`lambda_max` to the :meth:`forward` method of\n",
       "        this operator in case the normalization is non-symmetric.\n",
       "        :obj:`\\lambda_max` should be a :class:`torch.Tensor` of size\n",
       "        :obj:`[num_graphs]` in a mini-batch scenario and a\n",
       "        scalar/zero-dimensional tensor when operating on single graphs.\n",
       "        You can pre-compute :obj:`lambda_max` via the\n",
       "        :class:`torch_geometric.transforms.LaplacianLambdaMax` transform.\n",
       "    bias (bool, optional): If set to :obj:`False`, the layer will not learn\n",
       "        an additive bias. (default: :obj:`True`)\n",
       "\u001b[0;31mInit docstring:\u001b[0m Initializes internal Module state, shared by both nn.Module and ScriptModule.\n",
       "\u001b[0;31mFile:\u001b[0m           ~/anaconda3/envs/temp_csy/lib/python3.8/site-packages/torch_geometric_temporal/nn/recurrent/gc_lstm.py\n",
       "\u001b[0;31mType:\u001b[0m           type\n",
       "\u001b[0;31mSubclasses:\u001b[0m     \n"
      ]
     },
     "metadata": {},
     "output_type": "display_data"
    }
   ],
   "source": [
    "GCLSTM?"
   ]
  },
  {
   "cell_type": "code",
   "execution_count": 116,
   "id": "f0f15f19-1e7f-428a-8b58-53c0215d27be",
   "metadata": {},
   "outputs": [],
   "source": [
    "try:\n",
    "    from tqdm import tqdm\n",
    "except ImportError:\n",
    "    def tqdm(iterable):\n",
    "        return iterable"
   ]
  },
  {
   "cell_type": "code",
   "execution_count": 56,
   "id": "f4ebfdbd-7825-460e-9cb9-26b8903e9052",
   "metadata": {},
   "outputs": [],
   "source": [
    "# import torch\n",
    "# import torch.nn.functional as F\n",
    "from torch_geometric_temporal.nn.recurrent import GCLSTM\n",
    "\n",
    "# from torch_geometric_temporal.dataset import ChickenpoxDatasetLoader\n",
    "from torch_geometric_temporal.signal import temporal_signal_split\n",
    "\n",
    "# loader = ChickenpoxDatasetLoader()\n",
    "\n",
    "dataset = loader.get_dataset()\n",
    "\n",
    "train_dataset, test_dataset = temporal_signal_split(dataset, train_ratio=0.2)"
   ]
  },
  {
   "cell_type": "code",
   "execution_count": 57,
   "id": "610a74a1-31e7-4ac6-ba8a-f88268421362",
   "metadata": {},
   "outputs": [],
   "source": [
    "class RecurrentGCN(torch.nn.Module):\n",
    "    def __init__(self, node_features):\n",
    "        super(RecurrentGCN, self).__init__()\n",
    "        self.recurrent = GCLSTM(node_features, 32, 1)\n",
    "        self.linear = torch.nn.Linear(32, 1)\n",
    "\n",
    "    def forward(self, x, edge_index, edge_weight, h, c):\n",
    "        h_0, c_0 = self.recurrent(x, edge_index, edge_weight, h, c)\n",
    "        h = F.relu(h_0)\n",
    "        h = self.linear(h)\n",
    "        return h, h_0, c_0"
   ]
  },
  {
   "cell_type": "code",
   "execution_count": 58,
   "id": "39d056ff-7d93-4c24-b964-c3d379a79fe3",
   "metadata": {},
   "outputs": [],
   "source": [
    "model = RecurrentGCN(node_features=4)"
   ]
  },
  {
   "cell_type": "code",
   "execution_count": 59,
   "id": "3b1cb5df-6b61-4ff6-9388-e094d6e8be00",
   "metadata": {},
   "outputs": [
    {
     "data": {
      "text/plain": [
       "RecurrentGCN(\n",
       "  (recurrent): GCLSTM(\n",
       "    (conv_i): ChebConv(32, 32, K=1, normalization=sym)\n",
       "    (conv_f): ChebConv(32, 32, K=1, normalization=sym)\n",
       "    (conv_c): ChebConv(32, 32, K=1, normalization=sym)\n",
       "    (conv_o): ChebConv(32, 32, K=1, normalization=sym)\n",
       "  )\n",
       "  (linear): Linear(in_features=32, out_features=1, bias=True)\n",
       ")"
      ]
     },
     "execution_count": 59,
     "metadata": {},
     "output_type": "execute_result"
    }
   ],
   "source": [
    "model"
   ]
  },
  {
   "cell_type": "code",
   "execution_count": 65,
   "id": "476d80a2-a9bb-4fc2-8b93-adf0e1a8b7a0",
   "metadata": {},
   "outputs": [
    {
     "name": "stderr",
     "output_type": "stream",
     "text": [
      "100%|██████████| 100/100 [00:06<00:00, 16.14it/s]\n"
     ]
    }
   ],
   "source": [
    "model = RecurrentGCN(node_features=4)\n",
    "\n",
    "optimizer = torch.optim.Adam(model.parameters(), lr=0.01)\n",
    "\n",
    "model.train()\n",
    "\n",
    "for epoch in tqdm(range(100)): #200\n",
    "    cost = 0\n",
    "    h, c = None, None\n",
    "    for time, snapshot in enumerate(train_dataset):\n",
    "        y_hat, h, c = model(snapshot.x, snapshot.edge_index, snapshot.edge_attr, h, c)\n",
    "        y_hat = y_hat.reshape(-1)\n",
    "        cost = cost + torch.mean((y_hat-snapshot.y)**2)\n",
    "    cost = cost / (time+1)\n",
    "    cost.backward()\n",
    "    optimizer.step()\n",
    "    optimizer.zero_grad()"
   ]
  },
  {
   "cell_type": "code",
   "execution_count": 66,
   "id": "31f66768-094f-46c1-82d9-4a5ad50862eb",
   "metadata": {},
   "outputs": [
    {
     "name": "stdout",
     "output_type": "stream",
     "text": [
      "MSE: 0.9315\n"
     ]
    }
   ],
   "source": [
    "model.eval()\n",
    "cost = 0\n",
    "_a=[]\n",
    "for time, snapshot in enumerate(test_dataset):\n",
    "    y_hat, h, c = model(snapshot.x, snapshot.edge_index, snapshot.edge_attr, h, c)\n",
    "    y_hat.reshape(-1)\n",
    "    cost = cost + torch.mean((y_hat-snapshot.y)**2)\n",
    "    _a.append(y_hat)\n",
    "cost = cost / (time+1)\n",
    "cost = cost.item()\n",
    "print(\"MSE: {:.4f}\".format(cost))"
   ]
  },
  {
   "cell_type": "code",
   "execution_count": 67,
   "id": "8692f749-3a6a-41e0-9b5e-454c4381fe85",
   "metadata": {},
   "outputs": [
    {
     "data": {
      "text/plain": [
       "[<matplotlib.lines.Line2D at 0x7f5922c5c550>]"
      ]
     },
     "execution_count": 67,
     "metadata": {},
     "output_type": "execute_result"
    },
    {
     "data": {
      "image/png": "[encoded data removed]",
      "text/plain": [
       "<Figure size 432x288 with 1 Axes>"
      ]
     },
     "metadata": {
      "needs_background": "light"
     },
     "output_type": "display_data"
    }
   ],
   "source": [
    "plt.plot([test_dataset.targets[i][0] for i in range(48)])\n",
    "plt.plot(torch.tensor([_a[i].detach()[0] for i in range(48)]))"
   ]
  },
  {
   "cell_type": "code",
   "execution_count": 68,
   "id": "7252b8f9-f6c9-447a-ae4e-28cb67a6eb6c",
   "metadata": {},
   "outputs": [
    {
     "data": {
      "text/plain": [
       "[<matplotlib.lines.Line2D at 0x7f5922f4ad90>]"
      ]
     },
     "execution_count": 68,
     "metadata": {},
     "output_type": "execute_result"
    },
    {
     "data": {
      "image/png": "[encoded data removed]",
      "text/plain": [
       "<Figure size 432x288 with 1 Axes>"
      ]
     },
     "metadata": {
      "needs_background": "light"
     },
     "output_type": "display_data"
    }
   ],
   "source": [
    "plt.plot([test_dataset.targets[i][1] for i in range(48)])\n",
    "plt.plot(torch.tensor([_a[i].detach()[1] for i in range(48)]))"
   ]
  },
  {
   "cell_type": "markdown",
   "id": "8c8376a2-f8e5-4e74-a782-1044049acc60",
   "metadata": {},
   "source": [
    "# GConvLSTM"
   ]
  },
  {
   "cell_type": "code",
   "execution_count": 53,
   "id": "93ab5479-37b0-4215-986d-face3fc74a81",
   "metadata": {},
   "outputs": [],
   "source": [
    "try:\n",
    "    from tqdm import tqdm\n",
    "except ImportError:\n",
    "    def tqdm(iterable):\n",
    "        return iterable"
   ]
  },
  {
   "cell_type": "code",
   "execution_count": 54,
   "id": "70ca2464-6bf2-4c1e-b754-a690607b6777",
   "metadata": {},
   "outputs": [],
   "source": [
    "# import torch\n",
    "# import torch.nn.functional as F\n",
    "from torch_geometric_temporal.nn.recurrent import GConvLSTM\n",
    "\n",
    "# from torch_geometric_temporal.dataset import ChickenpoxDatasetLoader\n",
    "from torch_geometric_temporal.signal import temporal_signal_split\n",
    "\n",
    "# loader = ChickenpoxDatasetLoader()\n",
    "\n",
    "dataset = loader.get_dataset()\n",
    "\n",
    "train_dataset, test_dataset = temporal_signal_split(dataset, train_ratio=0.2)"
   ]
  },
  {
   "cell_type": "code",
   "execution_count": 55,
   "id": "e53a7870-719b-4442-afa0-762b559d5509",
   "metadata": {},
   "outputs": [
    {
     "data": {
      "text/plain": [
       "\u001b[0;31mInit signature:\u001b[0m\n",
       "\u001b[0mGConvLSTM\u001b[0m\u001b[0;34m(\u001b[0m\u001b[0;34m\u001b[0m\n",
       "\u001b[0;34m\u001b[0m    \u001b[0min_channels\u001b[0m\u001b[0;34m:\u001b[0m \u001b[0mint\u001b[0m\u001b[0;34m,\u001b[0m\u001b[0;34m\u001b[0m\n",
       "\u001b[0;34m\u001b[0m    \u001b[0mout_channels\u001b[0m\u001b[0;34m:\u001b[0m \u001b[0mint\u001b[0m\u001b[0;34m,\u001b[0m\u001b[0;34m\u001b[0m\n",
       "\u001b[0;34m\u001b[0m    \u001b[0mK\u001b[0m\u001b[0;34m:\u001b[0m \u001b[0mint\u001b[0m\u001b[0;34m,\u001b[0m\u001b[0;34m\u001b[0m\n",
       "\u001b[0;34m\u001b[0m    \u001b[0mnormalization\u001b[0m\u001b[0;34m:\u001b[0m \u001b[0mstr\u001b[0m \u001b[0;34m=\u001b[0m \u001b[0;34m'sym'\u001b[0m\u001b[0;34m,\u001b[0m\u001b[0;34m\u001b[0m\n",
       "\u001b[0;34m\u001b[0m    \u001b[0mbias\u001b[0m\u001b[0;34m:\u001b[0m \u001b[0mbool\u001b[0m \u001b[0;34m=\u001b[0m \u001b[0;32mTrue\u001b[0m\u001b[0;34m,\u001b[0m\u001b[0;34m\u001b[0m\n",
       "\u001b[0;34m\u001b[0m\u001b[0;34m)\u001b[0m\u001b[0;34m\u001b[0m\u001b[0;34m\u001b[0m\u001b[0m\n",
       "\u001b[0;31mDocstring:\u001b[0m     \n",
       "An implementation of the Chebyshev Graph Convolutional Long Short Term Memory\n",
       "Cell. For details see this paper: `\"Structured Sequence Modeling with Graph\n",
       "Convolutional Recurrent Networks.\" <https://arxiv.org/abs/1612.07659>`_\n",
       "\n",
       "Args:\n",
       "    in_channels (int): Number of input features.\n",
       "    out_channels (int): Number of output features.\n",
       "    K (int): Chebyshev filter size :math:`K`.\n",
       "    normalization (str, optional): The normalization scheme for the graph\n",
       "        Laplacian (default: :obj:`\"sym\"`):\n",
       "\n",
       "        1. :obj:`None`: No normalization\n",
       "        :math:`\\mathbf{L} = \\mathbf{D} - \\mathbf{A}`\n",
       "\n",
       "        2. :obj:`\"sym\"`: Symmetric normalization\n",
       "        :math:`\\mathbf{L} = \\mathbf{I} - \\mathbf{D}^{-1/2} \\mathbf{A}\n",
       "        \\mathbf{D}^{-1/2}`\n",
       "\n",
       "        3. :obj:`\"rw\"`: Random-walk normalization\n",
       "        :math:`\\mathbf{L} = \\mathbf{I} - \\mathbf{D}^{-1} \\mathbf{A}`\n",
       "\n",
       "        You need to pass :obj:`lambda_max` to the :meth:`forward` method of\n",
       "        this operator in case the normalization is non-symmetric.\n",
       "        :obj:`\\lambda_max` should be a :class:`torch.Tensor` of size\n",
       "        :obj:`[num_graphs]` in a mini-batch scenario and a\n",
       "        scalar/zero-dimensional tensor when operating on single graphs.\n",
       "        You can pre-compute :obj:`lambda_max` via the\n",
       "        :class:`torch_geometric.transforms.LaplacianLambdaMax` transform.\n",
       "    bias (bool, optional): If set to :obj:`False`, the layer will not learn\n",
       "        an additive bias. (default: :obj:`True`)\n",
       "\u001b[0;31mInit docstring:\u001b[0m Initializes internal Module state, shared by both nn.Module and ScriptModule.\n",
       "\u001b[0;31mFile:\u001b[0m           ~/anaconda3/envs/temp_csy/lib/python3.8/site-packages/torch_geometric_temporal/nn/recurrent/gconv_lstm.py\n",
       "\u001b[0;31mType:\u001b[0m           type\n",
       "\u001b[0;31mSubclasses:\u001b[0m     \n"
      ]
     },
     "metadata": {},
     "output_type": "display_data"
    }
   ],
   "source": [
    "GConvLSTM?"
   ]
  },
  {
   "cell_type": "code",
   "execution_count": 125,
   "id": "5b41a729-eaa3-4d38-b1cb-ffb05c3d37a2",
   "metadata": {},
   "outputs": [],
   "source": [
    "class RecurrentGCN(torch.nn.Module):\n",
    "    def __init__(self, node_features):\n",
    "        super(RecurrentGCN, self).__init__()\n",
    "        self.recurrent = GConvLSTM(node_features, 32, 1)\n",
    "        self.linear = torch.nn.Linear(32, 1)\n",
    "\n",
    "    def forward(self, x, edge_index, edge_weight, h, c):\n",
    "        h_0, c_0 = self.recurrent(x, edge_index, edge_weight, h, c)\n",
    "        h = F.relu(h_0)\n",
    "        h = self.linear(h)\n",
    "        return h, h_0, c_0"
   ]
  },
  {
   "cell_type": "code",
   "execution_count": 126,
   "id": "9d76e001-6fe7-4aab-a0aa-58843bfc81dd",
   "metadata": {},
   "outputs": [],
   "source": [
    "model = RecurrentGCN(node_features=4)"
   ]
  },
  {
   "cell_type": "code",
   "execution_count": 127,
   "id": "c73fe566-cdf9-448e-ac63-ad841eb35efd",
   "metadata": {},
   "outputs": [
    {
     "data": {
      "text/plain": [
       "RecurrentGCN(\n",
       "  (recurrent): GConvLSTM(\n",
       "    (conv_x_i): ChebConv(4, 32, K=1, normalization=sym)\n",
       "    (conv_h_i): ChebConv(32, 32, K=1, normalization=sym)\n",
       "    (conv_x_f): ChebConv(4, 32, K=1, normalization=sym)\n",
       "    (conv_h_f): ChebConv(32, 32, K=1, normalization=sym)\n",
       "    (conv_x_c): ChebConv(4, 32, K=1, normalization=sym)\n",
       "    (conv_h_c): ChebConv(32, 32, K=1, normalization=sym)\n",
       "    (conv_x_o): ChebConv(4, 32, K=1, normalization=sym)\n",
       "    (conv_h_o): ChebConv(32, 32, K=1, normalization=sym)\n",
       "  )\n",
       "  (linear): Linear(in_features=32, out_features=1, bias=True)\n",
       ")"
      ]
     },
     "execution_count": 127,
     "metadata": {},
     "output_type": "execute_result"
    }
   ],
   "source": [
    "model"
   ]
  },
  {
   "cell_type": "code",
   "execution_count": 35,
   "id": "088bec7b-f7da-415a-8f87-c29b062c7de8",
   "metadata": {},
   "outputs": [
    {
     "name": "stderr",
     "output_type": "stream",
     "text": [
      "100%|██████████| 200/200 [01:05<00:00,  3.03it/s]\n"
     ]
    }
   ],
   "source": [
    "model = RecurrentGCN(node_features=4)\n",
    "\n",
    "optimizer = torch.optim.Adam(model.parameters(), lr=0.01)\n",
    "\n",
    "model.train()\n",
    "\n",
    "for epoch in tqdm(range(200)):\n",
    "    cost = 0\n",
    "    h, c = None, None\n",
    "    for time, snapshot in enumerate(train_dataset):\n",
    "        y_hat, h, c = model(snapshot.x, snapshot.edge_index, snapshot.edge_attr, h, c)\n",
    "        y_hat = y_hat.reshape(-1)\n",
    "        cost = cost + torch.mean((y_hat-snapshot.y)**2)\n",
    "    cost = cost / (time+1)\n",
    "    cost.backward()\n",
    "    optimizer.step()\n",
    "    optimizer.zero_grad()"
   ]
  },
  {
   "cell_type": "code",
   "execution_count": 48,
   "id": "5411e557-b913-4c7d-91d9-17a330bef01f",
   "metadata": {},
   "outputs": [
    {
     "name": "stdout",
     "output_type": "stream",
     "text": [
      "MSE: 1.7364\n"
     ]
    }
   ],
   "source": [
    "model.eval()\n",
    "cost = 0\n",
    "for time, snapshot in enumerate(test_dataset):\n",
    "    y_hat, h, c = model(snapshot.x, snapshot.edge_index, snapshot.edge_attr, h, c)\n",
    "    cost = cost + torch.mean((y_hat-snapshot.y)**2)\n",
    "cost = cost / (time+1)\n",
    "cost = cost.item()\n",
    "print(\"MSE: {:.4f}\".format(cost))"
   ]
  },
  {
   "cell_type": "markdown",
   "id": "54134fc9-27ee-4c4a-94b0-2360deea018a",
   "metadata": {},
   "source": [
    "# Lightning(설치 안 됨)"
   ]
  },
  {
   "cell_type": "code",
   "execution_count": null,
   "id": "4832a5db-1edc-4caf-b20b-f4459deb9cb0",
   "metadata": {},
   "outputs": [],
   "source": [
    "import torch\n",
    "from torch.nn import functional as F\n",
    "\n",
    "import pytorch_lightning as pl\n",
    "from pytorch_lightning.callbacks.early_stopping import EarlyStopping\n",
    "\n",
    "from torch_geometric_temporal.nn.recurrent import DCRNN\n",
    "from torch_geometric_temporal.dataset import ChickenpoxDatasetLoader\n",
    "from torch_geometric_temporal.signal import temporal_signal_split"
   ]
  },
  {
   "cell_type": "code",
   "execution_count": null,
   "id": "f00eabae-0820-4eac-9d82-816cabd44ac2",
   "metadata": {},
   "outputs": [],
   "source": [
    "class LitDiffConvModel(pl.LightningModule):\n",
    "\n",
    "    def __init__(self, node_features, filters):\n",
    "        super().__init__()\n",
    "        self.recurrent = DCRNN(node_features, filters, 1)\n",
    "        self.linear = torch.nn.Linear(filters, 1)\n",
    "\n",
    "\n",
    "    def configure_optimizers(self):\n",
    "        optimizer = torch.optim.Adam(self.parameters(), lr=1e-2)\n",
    "        return optimizer\n",
    "\n",
    "    def training_step(self, train_batch, batch_idx):\n",
    "        x = train_batch.x\n",
    "        y = train_batch.y.view(-1, 1)\n",
    "        edge_index = train_batch.edge_index\n",
    "        h = self.recurrent(x, edge_index)\n",
    "        h = F.relu(h)\n",
    "        h = self.linear(h)\n",
    "        loss = F.mse_loss(h, y)\n",
    "        return loss\n",
    "\n",
    "    def validation_step(self, val_batch, batch_idx):\n",
    "        x = val_batch.x\n",
    "        y = val_batch.y.view(-1, 1)\n",
    "        edge_index = val_batch.edge_index\n",
    "        h = self.recurrent(x, edge_index)\n",
    "        h = F.relu(h)\n",
    "        h = self.linear(h)\n",
    "        loss = F.mse_loss(h, y)\n",
    "        metrics = {'val_loss': loss}\n",
    "        self.log_dict(metrics)\n",
    "        return metrics"
   ]
  },
  {
   "cell_type": "code",
   "execution_count": null,
   "id": "61adc4bd-2844-4121-9658-d10f39bd10f3",
   "metadata": {},
   "outputs": [],
   "source": [
    "loader = ChickenpoxDatasetLoader()\n",
    "\n",
    "dataset_loader = loader.get_dataset(lags=32)\n",
    "\n",
    "train_loader, val_loader = temporal_signal_split(dataset_loader,\n",
    "                                                 train_ratio=0.2)"
   ]
  },
  {
   "cell_type": "code",
   "execution_count": null,
   "id": "245d83c8-8519-4f57-a734-1646c6417e33",
   "metadata": {},
   "outputs": [],
   "source": [
    "model = LitDiffConvModel(node_features=32,\n",
    "                         filters=16)"
   ]
  },
  {
   "cell_type": "code",
   "execution_count": null,
   "id": "23531b5f-f190-4947-a132-d25523b929eb",
   "metadata": {},
   "outputs": [],
   "source": [
    "early_stop_callback = EarlyStopping(monitor='val_loss',\n",
    "                                    min_delta=0.00,\n",
    "                                    patience=10,\n",
    "                                    verbose=False,\n",
    "                                    mode='max')"
   ]
  },
  {
   "cell_type": "code",
   "execution_count": null,
   "id": "0ee43764-9e73-4336-9ef5-22100cb3addd",
   "metadata": {},
   "outputs": [],
   "source": [
    "trainer = pl.Trainer(callbacks=[early_stop_callback])"
   ]
  },
  {
   "cell_type": "code",
   "execution_count": null,
   "id": "d01544f4-4172-4ff1-ab96-9e1e3aed07af",
   "metadata": {},
   "outputs": [],
   "source": [
    "trainer.fit(model, train_loader, val_loader)"
   ]
  },
  {
   "cell_type": "markdown",
   "id": "ebe7bf3e-56d9-4254-9190-b7bb71870d13",
   "metadata": {},
   "source": [
    "# LRGCN"
   ]
  },
  {
   "cell_type": "code",
   "execution_count": 128,
   "id": "d18e05d1-f2b8-41d5-9ee4-409d77d9ad09",
   "metadata": {},
   "outputs": [],
   "source": [
    "try:\n",
    "    from tqdm import tqdm\n",
    "except ImportError:\n",
    "    def tqdm(iterable):\n",
    "        return iterable"
   ]
  },
  {
   "cell_type": "code",
   "execution_count": 129,
   "id": "33904362-8e1f-400a-a40b-d3144104fe8c",
   "metadata": {},
   "outputs": [],
   "source": [
    "import torch\n",
    "import torch.nn.functional as F\n",
    "from torch_geometric_temporal.nn.recurrent import LRGCN\n",
    "\n",
    "from torch_geometric_temporal.dataset import ChickenpoxDatasetLoader\n",
    "from torch_geometric_temporal.signal import temporal_signal_split\n",
    "\n",
    "loader = ChickenpoxDatasetLoader()\n",
    "\n",
    "dataset = loader.get_dataset()\n",
    "\n",
    "train_dataset, test_dataset = temporal_signal_split(dataset, train_ratio=0.2)"
   ]
  },
  {
   "cell_type": "code",
   "execution_count": 130,
   "id": "cea1ac69-d9cd-4fd8-9bc9-18425c0cf547",
   "metadata": {},
   "outputs": [
    {
     "data": {
      "text/plain": [
       "\u001b[0;31mInit signature:\u001b[0m\n",
       "\u001b[0mLRGCN\u001b[0m\u001b[0;34m(\u001b[0m\u001b[0;34m\u001b[0m\n",
       "\u001b[0;34m\u001b[0m    \u001b[0min_channels\u001b[0m\u001b[0;34m:\u001b[0m \u001b[0mint\u001b[0m\u001b[0;34m,\u001b[0m\u001b[0;34m\u001b[0m\n",
       "\u001b[0;34m\u001b[0m    \u001b[0mout_channels\u001b[0m\u001b[0;34m:\u001b[0m \u001b[0mint\u001b[0m\u001b[0;34m,\u001b[0m\u001b[0;34m\u001b[0m\n",
       "\u001b[0;34m\u001b[0m    \u001b[0mnum_relations\u001b[0m\u001b[0;34m:\u001b[0m \u001b[0mint\u001b[0m\u001b[0;34m,\u001b[0m\u001b[0;34m\u001b[0m\n",
       "\u001b[0;34m\u001b[0m    \u001b[0mnum_bases\u001b[0m\u001b[0;34m:\u001b[0m \u001b[0mint\u001b[0m\u001b[0;34m,\u001b[0m\u001b[0;34m\u001b[0m\n",
       "\u001b[0;34m\u001b[0m\u001b[0;34m)\u001b[0m\u001b[0;34m\u001b[0m\u001b[0;34m\u001b[0m\u001b[0m\n",
       "\u001b[0;31mDocstring:\u001b[0m     \n",
       "An implementation of the Long Short Term Memory Relational\n",
       "Graph Convolution Layer. For details see this paper: `\"Predicting Path\n",
       "Failure In Time-Evolving Graphs.\" <https://arxiv.org/abs/1905.03994>`_\n",
       "\n",
       "Args:\n",
       "    in_channels (int): Number of input features.\n",
       "    out_channels (int): Number of output features.\n",
       "    num_relations (int): Number of relations.\n",
       "    num_bases (int): Number of bases.\n",
       "\u001b[0;31mInit docstring:\u001b[0m Initializes internal Module state, shared by both nn.Module and ScriptModule.\n",
       "\u001b[0;31mFile:\u001b[0m           ~/anaconda3/envs/temp_csy/lib/python3.8/site-packages/torch_geometric_temporal/nn/recurrent/lrgcn.py\n",
       "\u001b[0;31mType:\u001b[0m           type\n",
       "\u001b[0;31mSubclasses:\u001b[0m     \n"
      ]
     },
     "metadata": {},
     "output_type": "display_data"
    }
   ],
   "source": [
    "LRGCN?"
   ]
  },
  {
   "cell_type": "code",
   "execution_count": 131,
   "id": "544324de-0cb8-4a8a-ab7c-f7591c2597f5",
   "metadata": {},
   "outputs": [],
   "source": [
    "class RecurrentGCN(torch.nn.Module):\n",
    "    def __init__(self, node_features):\n",
    "        super(RecurrentGCN, self).__init__()\n",
    "        self.recurrent = LRGCN(node_features, 32, 1, 1)\n",
    "        self.linear = torch.nn.Linear(32, 1)\n",
    "\n",
    "    def forward(self, x, edge_index, edge_weight, h_0, c_0):\n",
    "        h_0, c_0 = self.recurrent(x, edge_index, edge_weight, h_0, c_0)\n",
    "        h = F.relu(h_0)\n",
    "        h = self.linear(h)\n",
    "        return h, h_0, c_0"
   ]
  },
  {
   "cell_type": "code",
   "execution_count": 132,
   "id": "01562640-6a66-405c-933a-87318e143c1a",
   "metadata": {},
   "outputs": [],
   "source": [
    "model = RecurrentGCN(node_features = 4)"
   ]
  },
  {
   "cell_type": "code",
   "execution_count": 133,
   "id": "d2dac376-d25b-46ac-96ef-31d2b8a5d4ec",
   "metadata": {},
   "outputs": [
    {
     "data": {
      "text/plain": [
       "RecurrentGCN(\n",
       "  (recurrent): LRGCN(\n",
       "    (conv_x_i): RGCNConv(4, 32, num_relations=1)\n",
       "    (conv_h_i): RGCNConv(32, 32, num_relations=1)\n",
       "    (conv_x_f): RGCNConv(4, 32, num_relations=1)\n",
       "    (conv_h_f): RGCNConv(32, 32, num_relations=1)\n",
       "    (conv_x_c): RGCNConv(4, 32, num_relations=1)\n",
       "    (conv_h_c): RGCNConv(32, 32, num_relations=1)\n",
       "    (conv_x_o): RGCNConv(4, 32, num_relations=1)\n",
       "    (conv_h_o): RGCNConv(32, 32, num_relations=1)\n",
       "  )\n",
       "  (linear): Linear(in_features=32, out_features=1, bias=True)\n",
       ")"
      ]
     },
     "execution_count": 133,
     "metadata": {},
     "output_type": "execute_result"
    }
   ],
   "source": [
    "model"
   ]
  },
  {
   "cell_type": "code",
   "execution_count": 40,
   "id": "a0eed232-39d8-4ffd-82aa-28864cba8be1",
   "metadata": {},
   "outputs": [
    {
     "name": "stderr",
     "output_type": "stream",
     "text": [
      "100%|██████████| 200/200 [01:10<00:00,  2.84it/s]\n"
     ]
    }
   ],
   "source": [
    "model = RecurrentGCN(node_features = 4)\n",
    "\n",
    "optimizer = torch.optim.Adam(model.parameters(), lr=0.01)\n",
    "\n",
    "model.train()\n",
    "\n",
    "for epoch in tqdm(range(200)):\n",
    "    cost = 0\n",
    "    h, c = None, None\n",
    "    for time, snapshot in enumerate(train_dataset):\n",
    "        y_hat, h, c = model(snapshot.x, snapshot.edge_index, snapshot.edge_attr, h, c)\n",
    "        y_hat = y_hat.reshape(-1)\n",
    "        cost = cost + torch.mean((y_hat-snapshot.y)**2)\n",
    "    cost = cost / (time+1)\n",
    "    cost.backward()\n",
    "    optimizer.step()\n",
    "    optimizer.zero_grad()"
   ]
  },
  {
   "cell_type": "code",
   "execution_count": 41,
   "id": "4dbabe0b-f8f4-46a3-846a-8f6af723f82f",
   "metadata": {},
   "outputs": [
    {
     "name": "stdout",
     "output_type": "stream",
     "text": [
      "MSE: 1.6055\n"
     ]
    }
   ],
   "source": [
    "model.eval()\n",
    "cost = 0\n",
    "h, c = None, None\n",
    "for time, snapshot in enumerate(test_dataset):\n",
    "    y_hat, h, c = model(snapshot.x, snapshot.edge_index, snapshot.edge_attr, h, c)\n",
    "    cost = cost + torch.mean((y_hat-snapshot.y)**2)\n",
    "cost = cost / (time+1)\n",
    "cost = cost.item()\n",
    "print(\"MSE: {:.4f}\".format(cost))"
   ]
  },
  {
   "cell_type": "markdown",
   "id": "87d00a83-a2d6-4f8b-9890-7488a889f3c6",
   "metadata": {},
   "source": [
    "# MPNNLSTM"
   ]
  },
  {
   "cell_type": "code",
   "execution_count": 72,
   "id": "65d04edd-e19d-44c1-b192-2259fb0babc5",
   "metadata": {},
   "outputs": [],
   "source": [
    "try:\n",
    "    from tqdm import tqdm\n",
    "except ImportError:\n",
    "    def tqdm(iterable):\n",
    "        return iterable"
   ]
  },
  {
   "cell_type": "code",
   "execution_count": 73,
   "id": "b62b6835-1eff-483c-a5b6-0897155bb156",
   "metadata": {},
   "outputs": [],
   "source": [
    "import torch\n",
    "import torch.nn.functional as F\n",
    "from torch_geometric_temporal.nn.recurrent import MPNNLSTM\n",
    "\n",
    "from torch_geometric_temporal.dataset import ChickenpoxDatasetLoader\n",
    "from torch_geometric_temporal.signal import temporal_signal_split\n",
    "\n",
    "loader = ChickenpoxDatasetLoader()\n",
    "\n",
    "dataset = loader.get_dataset()\n",
    "\n",
    "train_dataset, test_dataset = temporal_signal_split(dataset, train_ratio=0.2)"
   ]
  },
  {
   "cell_type": "code",
   "execution_count": 74,
   "id": "52fec7c7-2c97-4868-ba62-df27ec68ee95",
   "metadata": {},
   "outputs": [
    {
     "data": {
      "text/plain": [
       "\u001b[0;31mInit signature:\u001b[0m\n",
       "\u001b[0mMPNNLSTM\u001b[0m\u001b[0;34m(\u001b[0m\u001b[0;34m\u001b[0m\n",
       "\u001b[0;34m\u001b[0m    \u001b[0min_channels\u001b[0m\u001b[0;34m:\u001b[0m \u001b[0mint\u001b[0m\u001b[0;34m,\u001b[0m\u001b[0;34m\u001b[0m\n",
       "\u001b[0;34m\u001b[0m    \u001b[0mhidden_size\u001b[0m\u001b[0;34m:\u001b[0m \u001b[0mint\u001b[0m\u001b[0;34m,\u001b[0m\u001b[0;34m\u001b[0m\n",
       "\u001b[0;34m\u001b[0m    \u001b[0mnum_nodes\u001b[0m\u001b[0;34m:\u001b[0m \u001b[0mint\u001b[0m\u001b[0;34m,\u001b[0m\u001b[0;34m\u001b[0m\n",
       "\u001b[0;34m\u001b[0m    \u001b[0mwindow\u001b[0m\u001b[0;34m:\u001b[0m \u001b[0mint\u001b[0m\u001b[0;34m,\u001b[0m\u001b[0;34m\u001b[0m\n",
       "\u001b[0;34m\u001b[0m    \u001b[0mdropout\u001b[0m\u001b[0;34m:\u001b[0m \u001b[0mfloat\u001b[0m\u001b[0;34m,\u001b[0m\u001b[0;34m\u001b[0m\n",
       "\u001b[0;34m\u001b[0m\u001b[0;34m)\u001b[0m\u001b[0;34m\u001b[0m\u001b[0;34m\u001b[0m\u001b[0m\n",
       "\u001b[0;31mDocstring:\u001b[0m     \n",
       "An implementation of the Message Passing Neural Network with Long Short Term Memory.\n",
       "For details see this paper: `\"Transfer Graph Neural Networks for Pandemic Forecasting.\" <https://arxiv.org/abs/2009.08388>`_\n",
       "\n",
       "Args:\n",
       "    in_channels (int): Number of input features.\n",
       "    hidden_size (int): Dimension of hidden representations.\n",
       "    num_nodes (int): Number of nodes in the network.\n",
       "    window (int): Number of past samples included in the input.\n",
       "    dropout (float): Dropout rate.\n",
       "\u001b[0;31mInit docstring:\u001b[0m Initializes internal Module state, shared by both nn.Module and ScriptModule.\n",
       "\u001b[0;31mFile:\u001b[0m           ~/anaconda3/envs/temp_csy/lib/python3.8/site-packages/torch_geometric_temporal/nn/recurrent/mpnn_lstm.py\n",
       "\u001b[0;31mType:\u001b[0m           type\n",
       "\u001b[0;31mSubclasses:\u001b[0m     \n"
      ]
     },
     "metadata": {},
     "output_type": "display_data"
    }
   ],
   "source": [
    "MPNNLSTM?"
   ]
  },
  {
   "cell_type": "code",
   "execution_count": 75,
   "id": "9314d353-23cb-4d83-94bf-83a3c4c193f9",
   "metadata": {},
   "outputs": [],
   "source": [
    "class RecurrentGCN(torch.nn.Module):\n",
    "    def __init__(self, node_features):\n",
    "        super(RecurrentGCN, self).__init__()\n",
    "        self.recurrent = MPNNLSTM(node_features, 32,  20, 1, 0.5) # 32, 32, 20, 1, 0.5 이었는데 position 잘못되었다해서 32하나 뺌\n",
    "        self.linear = torch.nn.Linear(2*32 + node_features, 1)\n",
    "\n",
    "    def forward(self, x, edge_index, edge_weight):\n",
    "        h = self.recurrent(x, edge_index, edge_weight)\n",
    "        h = F.relu(h)\n",
    "        h = self.linear(h)\n",
    "        return h"
   ]
  },
  {
   "cell_type": "code",
   "execution_count": null,
   "id": "90ff459b-9f3d-4bb4-a8f3-978419ca15f8",
   "metadata": {},
   "outputs": [],
   "source": [
    "model = RecurrentGCN(node_features = 4)\n",
    "\n",
    "optimizer = torch.optim.Adam(model.parameters(), lr=0.01)\n",
    "\n",
    "model.train()\n",
    "\n",
    "for epoch in tqdm(range(50)):\n",
    "    cost = 0\n",
    "    for time, snapshot in enumerate(train_dataset):\n",
    "        y_hat = model(snapshot.x, snapshot.edge_index, snapshot.edge_attr).reshape(-1)\n",
    "        cost = cost + torch.mean((y_hat-snapshot.y)**2)\n",
    "    cost = cost / (time+1)\n",
    "    cost.backward()\n",
    "    optimizer.step()\n",
    "    optimizer.zero_grad()"
   ]
  },
  {
   "cell_type": "code",
   "execution_count": 83,
   "id": "90d0cbd6-c00b-4e79-9ad9-e3b96af97842",
   "metadata": {},
   "outputs": [],
   "source": [
    "model = RecurrentGCN(node_features = 2)"
   ]
  },
  {
   "cell_type": "code",
   "execution_count": 84,
   "id": "80b16cfe-9115-42f3-b05f-b6463b969a86",
   "metadata": {},
   "outputs": [
    {
     "data": {
      "text/plain": [
       "RecurrentGCN(\n",
       "  (recurrent): MPNNLSTM(\n",
       "    (_convolution_1): GCNConv(2, 32)\n",
       "    (_convolution_2): GCNConv(32, 32)\n",
       "    (_batch_norm_1): BatchNorm1d(32, eps=1e-05, momentum=0.1, affine=True, track_running_stats=True)\n",
       "    (_batch_norm_2): BatchNorm1d(32, eps=1e-05, momentum=0.1, affine=True, track_running_stats=True)\n",
       "    (_recurrent_1): LSTM(64, 32)\n",
       "    (_recurrent_2): LSTM(32, 32)\n",
       "  )\n",
       "  (linear): Linear(in_features=66, out_features=1, bias=True)\n",
       ")"
      ]
     },
     "execution_count": 84,
     "metadata": {},
     "output_type": "execute_result"
    }
   ],
   "source": [
    "model"
   ]
  },
  {
   "cell_type": "code",
   "execution_count": 34,
   "id": "a964cda3-3ee3-47da-b75d-60a78db31c78",
   "metadata": {},
   "outputs": [
    {
     "name": "stdout",
     "output_type": "stream",
     "text": [
      "MSE: 1.2776\n"
     ]
    }
   ],
   "source": [
    "model.eval()\n",
    "cost = 0\n",
    "for time, snapshot in enumerate(test_dataset):\n",
    "    y_hat = model(snapshot.x, snapshot.edge_index, snapshot.edge_attr)\n",
    "    cost = cost + torch.mean((y_hat-snapshot.y)**2)\n",
    "cost = cost / (time+1)\n",
    "cost = cost.item()\n",
    "print(\"MSE: {:.4f}\".format(cost))"
   ]
  },
  {
   "cell_type": "markdown",
   "id": "18301da5-97cd-43e7-854c-96cbe6164112",
   "metadata": {},
   "source": [
    "# TGCN"
   ]
  },
  {
   "cell_type": "code",
   "execution_count": 135,
   "id": "fb58124a-ce9e-4936-8f3a-ff060337809d",
   "metadata": {},
   "outputs": [],
   "source": [
    "try:\n",
    "    from tqdm import tqdm\n",
    "except ImportError:\n",
    "    def tqdm(iterable):\n",
    "        return iterable"
   ]
  },
  {
   "cell_type": "code",
   "execution_count": 136,
   "id": "b6e2ebc6-535b-4a51-98e1-32c80faba2ab",
   "metadata": {},
   "outputs": [],
   "source": [
    "import torch\n",
    "import torch.nn.functional as F\n",
    "from torch_geometric_temporal.nn.recurrent import TGCN\n",
    "\n",
    "from torch_geometric_temporal.dataset import ChickenpoxDatasetLoader\n",
    "from torch_geometric_temporal.signal import temporal_signal_split\n",
    "\n",
    "loader = ChickenpoxDatasetLoader()\n",
    "\n",
    "dataset = loader.get_dataset()\n",
    "\n",
    "train_dataset, test_dataset = temporal_signal_split(dataset, train_ratio=0.2)"
   ]
  },
  {
   "cell_type": "code",
   "execution_count": 137,
   "id": "548fa4b3-6b24-4cde-a2dc-5b93adb1f50d",
   "metadata": {},
   "outputs": [],
   "source": [
    "class RecurrentGCN(torch.nn.Module):\n",
    "    def __init__(self, node_features):\n",
    "        super(RecurrentGCN, self).__init__()\n",
    "        self.recurrent = TGCN(node_features, 32)\n",
    "        self.linear = torch.nn.Linear(32, 1)\n",
    "\n",
    "    def forward(self, x, edge_index, edge_weight, prev_hidden_state):\n",
    "        h = self.recurrent(x, edge_index, edge_weight, prev_hidden_state)\n",
    "        y = F.relu(h)\n",
    "        y = self.linear(y)\n",
    "        return y, h"
   ]
  },
  {
   "cell_type": "code",
   "execution_count": 142,
   "id": "34777407-7795-4ba7-a0bd-30a2ab4203f8",
   "metadata": {},
   "outputs": [
    {
     "data": {
      "text/plain": [
       "\u001b[0;31mInit signature:\u001b[0m\n",
       "\u001b[0mTGCN\u001b[0m\u001b[0;34m(\u001b[0m\u001b[0;34m\u001b[0m\n",
       "\u001b[0;34m\u001b[0m    \u001b[0min_channels\u001b[0m\u001b[0;34m:\u001b[0m \u001b[0mint\u001b[0m\u001b[0;34m,\u001b[0m\u001b[0;34m\u001b[0m\n",
       "\u001b[0;34m\u001b[0m    \u001b[0mout_channels\u001b[0m\u001b[0;34m:\u001b[0m \u001b[0mint\u001b[0m\u001b[0;34m,\u001b[0m\u001b[0;34m\u001b[0m\n",
       "\u001b[0;34m\u001b[0m    \u001b[0mimproved\u001b[0m\u001b[0;34m:\u001b[0m \u001b[0mbool\u001b[0m \u001b[0;34m=\u001b[0m \u001b[0;32mFalse\u001b[0m\u001b[0;34m,\u001b[0m\u001b[0;34m\u001b[0m\n",
       "\u001b[0;34m\u001b[0m    \u001b[0mcached\u001b[0m\u001b[0;34m:\u001b[0m \u001b[0mbool\u001b[0m \u001b[0;34m=\u001b[0m \u001b[0;32mFalse\u001b[0m\u001b[0;34m,\u001b[0m\u001b[0;34m\u001b[0m\n",
       "\u001b[0;34m\u001b[0m    \u001b[0madd_self_loops\u001b[0m\u001b[0;34m:\u001b[0m \u001b[0mbool\u001b[0m \u001b[0;34m=\u001b[0m \u001b[0;32mTrue\u001b[0m\u001b[0;34m,\u001b[0m\u001b[0;34m\u001b[0m\n",
       "\u001b[0;34m\u001b[0m\u001b[0;34m)\u001b[0m\u001b[0;34m\u001b[0m\u001b[0;34m\u001b[0m\u001b[0m\n",
       "\u001b[0;31mDocstring:\u001b[0m     \n",
       "An implementation of the Temporal Graph Convolutional Gated Recurrent Cell.\n",
       "For details see this paper: `\"T-GCN: A Temporal Graph ConvolutionalNetwork for\n",
       "Traffic Prediction.\" <https://arxiv.org/abs/1811.05320>`_\n",
       "\n",
       "Args:\n",
       "    in_channels (int): Number of input features.\n",
       "    out_channels (int): Number of output features.\n",
       "    improved (bool): Stronger self loops. Default is False.\n",
       "    cached (bool): Caching the message weights. Default is False.\n",
       "    add_self_loops (bool): Adding self-loops for smoothing. Default is True.\n",
       "\u001b[0;31mInit docstring:\u001b[0m Initializes internal Module state, shared by both nn.Module and ScriptModule.\n",
       "\u001b[0;31mFile:\u001b[0m           ~/anaconda3/envs/temp_csy/lib/python3.8/site-packages/torch_geometric_temporal/nn/recurrent/temporalgcn.py\n",
       "\u001b[0;31mType:\u001b[0m           type\n",
       "\u001b[0;31mSubclasses:\u001b[0m     \n"
      ]
     },
     "metadata": {},
     "output_type": "display_data"
    }
   ],
   "source": [
    "TGCN?"
   ]
  },
  {
   "cell_type": "code",
   "execution_count": 138,
   "id": "8638b413-7c07-460c-b54e-ed3edace2682",
   "metadata": {},
   "outputs": [],
   "source": [
    "model = RecurrentGCN(node_features = 4)\n"
   ]
  },
  {
   "cell_type": "code",
   "execution_count": 139,
   "id": "6570533e-f288-4c26-9e6c-33fb4a0e09fb",
   "metadata": {},
   "outputs": [
    {
     "data": {
      "text/plain": [
       "RecurrentGCN(\n",
       "  (recurrent): TGCN(\n",
       "    (conv_z): GCNConv(4, 32)\n",
       "    (linear_z): Linear(in_features=64, out_features=32, bias=True)\n",
       "    (conv_r): GCNConv(4, 32)\n",
       "    (linear_r): Linear(in_features=64, out_features=32, bias=True)\n",
       "    (conv_h): GCNConv(4, 32)\n",
       "    (linear_h): Linear(in_features=64, out_features=32, bias=True)\n",
       "  )\n",
       "  (linear): Linear(in_features=32, out_features=1, bias=True)\n",
       ")"
      ]
     },
     "execution_count": 139,
     "metadata": {},
     "output_type": "execute_result"
    }
   ],
   "source": [
    "model"
   ]
  },
  {
   "cell_type": "code",
   "execution_count": 26,
   "id": "7b33d832-abfa-4ac3-a462-c4ccc5dd282e",
   "metadata": {},
   "outputs": [
    {
     "name": "stderr",
     "output_type": "stream",
     "text": [
      "100%|██████████| 50/50 [00:15<00:00,  3.19it/s]\n"
     ]
    }
   ],
   "source": [
    "model = RecurrentGCN(node_features = 4)\n",
    "\n",
    "optimizer = torch.optim.Adam(model.parameters(), lr=0.01)\n",
    "\n",
    "model.train()\n",
    "\n",
    "for epoch in tqdm(range(50)):\n",
    "    cost = 0\n",
    "    hidden_state = None\n",
    "    for time, snapshot in enumerate(train_dataset):\n",
    "        y_hat, hidden_state = model(snapshot.x, snapshot.edge_index, snapshot.edge_attr,hidden_state)\n",
    "        y_hat = y_hat.reshape(-1)\n",
    "        cost = cost + torch.mean((y_hat-snapshot.y)**2)\n",
    "    cost = cost / (time+1)\n",
    "    cost.backward()\n",
    "    optimizer.step()\n",
    "    optimizer.zero_grad()"
   ]
  },
  {
   "cell_type": "code",
   "execution_count": 27,
   "id": "e732e0cf-d5b0-4919-8a60-f200ef9d80e4",
   "metadata": {
    "tags": []
   },
   "outputs": [
    {
     "name": "stdout",
     "output_type": "stream",
     "text": [
      "MSE: 1.0793\n"
     ]
    }
   ],
   "source": [
    "model.eval()\n",
    "cost = 0\n",
    "hidden_state = None\n",
    "for time, snapshot in enumerate(test_dataset):\n",
    "    y_hat, hidden_state = model(snapshot.x, snapshot.edge_index, snapshot.edge_attr, hidden_state)\n",
    "    cost = cost + torch.mean((y_hat-snapshot.y)**2)\n",
    "cost = cost / (time+1)\n",
    "cost = cost.item()\n",
    "print(\"MSE: {:.4f}\".format(cost))"
   ]
  },
  {
   "cell_type": "code",
   "execution_count": null,
   "id": "84524d61-e5ce-41ee-9a93-609bdf62fcae",
   "metadata": {},
   "outputs": [],
   "source": []
  },
  {
   "cell_type": "code",
   "execution_count": null,
   "id": "2c5773e7-232a-4693-9036-1813497065d9",
   "metadata": {},
   "outputs": [],
   "source": []
  }
 ],
 "metadata": {
  "kernelspec": {
   "display_name": "Python 3",
   "language": "python",
   "name": "python3"
  },
  "language_info": {
   "codemirror_mode": {
    "name": "ipython",
    "version": 3
   },
   "file_extension": ".py",
   "mimetype": "text/x-python",
   "name": "python",
   "nbconvert_exporter": "python",
   "pygments_lexer": "ipython3",
   "version": "3.8.0"
  }
 },
 "nbformat": 4,
 "nbformat_minor": 5
}

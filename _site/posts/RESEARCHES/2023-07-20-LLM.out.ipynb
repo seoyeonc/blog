{
  "cells": [
    {
      "cell_type": "markdown",
      "metadata": {},
      "source": [
        "# LLM\n",
        "\n",
        "SEOYEON CHOI  \n",
        "7/20/23\n",
        "\n",
        "# Import"
      ],
      "id": "1eba1dbf-2785-46cd-b73b-d1edb03da03c"
    },
    {
      "cell_type": "code",
      "execution_count": 52,
      "metadata": {},
      "outputs": [],
      "source": [
        "import pandas as pd\n",
        "import torch\n",
        "from transformers import GPT2Tokenizer, TFGPT2LMHeadModel\n",
        "import tensorflow as tf"
      ],
      "id": "b231a63c-8e1b-4fe9-920e-c463bc26c570"
    },
    {
      "cell_type": "markdown",
      "metadata": {},
      "source": [
        "# Data\n",
        "\n",
        "ref:\n",
        "[kaggle](https://www.kaggle.com/datasets/mazlumi/mbti-personality-type-twitter-dataset/code)"
      ],
      "id": "e23437ed-e977-4506-b17c-1670246159e3"
    },
    {
      "cell_type": "code",
      "execution_count": 43,
      "metadata": {},
      "outputs": [],
      "source": [
        "# df2 = pd.read_csv('./dataset/twitter_MBTI.csv').iloc[:,1:]"
      ],
      "id": "bdb12edc-13b5-4913-9c53-4ae70b84a944"
    },
    {
      "cell_type": "code",
      "execution_count": 44,
      "metadata": {},
      "outputs": [],
      "source": [
        "df2"
      ],
      "id": "44c95c10-2088-4a1f-8c5e-57995b7fd21d"
    },
    {
      "cell_type": "code",
      "execution_count": 53,
      "metadata": {},
      "outputs": [
        {
          "output_type": "stream",
          "name": "stderr",
          "text": [
            "All PyTorch model weights were used when initializing TFGPT2LMHeadModel.\n",
            "\n",
            "All the weights of TFGPT2LMHeadModel were initialized from the PyTorch model.\n",
            "If your task is similar to the task the model of the checkpoint was trained on, you can already use TFGPT2LMHeadModel for predictions without further training."
          ]
        }
      ],
      "source": [
        "tokenizer = GPT2Tokenizer.from_pretrained(\"gpt2\")\n",
        "model = TFGPT2LMHeadModel.from_pretrained(\"gpt2\")\n"
      ],
      "id": "eaedb66a-d801-43ba-a142-f100ba78f15c"
    },
    {
      "cell_type": "markdown",
      "metadata": {},
      "source": [
        "https://wikidocs.net/152922\n",
        "\n",
        "https://dacon.io/codeshare/5619"
      ],
      "id": "9c5b72ee-9bdd-4eae-9ca8-74fe064ba4e6"
    },
    {
      "cell_type": "code",
      "execution_count": 73,
      "metadata": {},
      "outputs": [],
      "source": [
        "inputs = tokenizer(df2.iloc[:,0],return_tensors=\"tf\", padding=True, truncation=True)"
      ],
      "id": "bfda51ce-dcad-4163-89b2-f608679fbed1"
    }
  ],
  "nbformat": 4,
  "nbformat_minor": 5,
  "metadata": {
    "kernelspec": {
      "name": "python3",
      "display_name": "Python 3",
      "language": "python"
    },
    "language_info": {
      "name": "python",
      "codemirror_mode": {
        "name": "ipython",
        "version": "3"
      },
      "file_extension": ".py",
      "mimetype": "text/x-python",
      "nbconvert_exporter": "python",
      "pygments_lexer": "ipython3",
      "version": "3.8.0"
    }
  }
}
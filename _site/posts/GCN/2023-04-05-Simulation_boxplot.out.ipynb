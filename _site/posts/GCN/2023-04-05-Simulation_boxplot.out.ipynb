{
  "cells": [
    {
      "cell_type": "markdown",
      "metadata": {},
      "source": [
        "# Simulation\n",
        "\n",
        "SEOYEON CHOI  \n",
        "4/5/23\n",
        "\n",
        "> Simulation Study\n",
        "\n",
        "# Import\n",
        "\n",
        "데이터 함쳐놓기\n",
        "\n",
        "``` python\n",
        "import pandas as pd\n",
        "\n",
        "_a = pd.read_csv('./simulation_results/a.csv')\n",
        "_b = pd.read_csv('./simulation_results/b.csv')\n",
        "_c = pd.read_csv('./simulation_results/STGCN_ITSTGCN_random_epoch200.csv')\n",
        "\n",
        "_df = pd.concat([_a,_b,_c],axis=0)\n",
        "\n",
        "_df\n",
        "\n",
        "_df.to_csv('./simulation_results/STGCN_ITSTGCN_random_epoch200_2.csv',index=False)\n",
        "```"
      ],
      "id": "caeda779-9597-4031-a7d1-aa58ffb9bd21"
    },
    {
      "cell_type": "code",
      "execution_count": 1,
      "metadata": {},
      "outputs": [],
      "source": [
        "import matplotlib.pyplot as plt\n",
        "import pandas as pd\n",
        "import numpy as np"
      ],
      "id": "02cc7b1f-d572-42d1-80a1-0384c06d59a9"
    },
    {
      "cell_type": "markdown",
      "metadata": {},
      "source": [
        "# Fivenodes\n",
        "\n",
        "**random**\n",
        "\n",
        "-   lags = 2\n",
        "    -   GNAR 문서에 나온 대로 AR(2) 모형\n",
        "\n",
        "1.  mrate = 0.8, filter = 12, epoch = 150\n",
        "2.  mrate = 0.3, filter = 8, epoch = 50\n",
        "\n",
        "-   interpolation = linear 또는 cubic, nearest 는 mse 너무 우리 방법에서\n",
        "    안 좋다.\n",
        "\n",
        "**block**\n",
        "\n",
        "random"
      ],
      "id": "435e4553-f857-4ffd-86fb-ea8c1474520f"
    },
    {
      "cell_type": "code",
      "execution_count": 2,
      "metadata": {},
      "outputs": [],
      "source": [
        "df1 = pd.read_csv('./simulation_results/fivenodes/fivenodes_STGCN_ITSTGCN_random_epoch50.csv')\n",
        "df2 = pd.read_csv('./simulation_results/fivenodes/fivenodes_STGCN_ITSTGCN_random_epoch100.csv')\n",
        "df3 = pd.read_csv('./simulation_results/fivenodes/fivenodes_STGCN_ITSTGCN_random_epoch150.csv')\n",
        "df4 = pd.read_csv('./simulation_results/fivenodes/fivenodes_STGCN_ITSTGCN_random_epoch200.csv')"
      ],
      "id": "4852e35e-c5d1-4d39-b852-ebef6fd1a0f7"
    },
    {
      "cell_type": "code",
      "execution_count": 3,
      "metadata": {},
      "outputs": [],
      "source": [
        "df_gnar = pd.read_csv('./simulation_results/fivenodes/fivenodes_GNAR_random.csv')"
      ],
      "id": "7be5a6b9-f418-4f24-85e1-00c1f8909780"
    },
    {
      "cell_type": "code",
      "execution_count": 4,
      "metadata": {},
      "outputs": [],
      "source": [
        "data = pd.concat([df1,df2,df3,df4,df_gnar],axis=0)"
      ],
      "id": "b1a5835d-1e35-4ddf-992a-2af8afc1d404"
    },
    {
      "cell_type": "code",
      "execution_count": 5,
      "metadata": {},
      "outputs": [],
      "source": [
        "data.query(\"method!='GNAR' and inter_method=='linear' and lags==2\").plot.box(backend='plotly',x='mrate',color='method',y='mse',facet_col='epoch',facet_row='nof_filters',height=1200)\n"
      ],
      "id": "1d0049dc-d8c8-4ae5-a33d-3ca9f52b9791"
    },
    {
      "cell_type": "markdown",
      "metadata": {},
      "source": [
        "시뮬 예정(평균 시간, 평균mse)\n",
        "\n",
        "0.7,0.75,0.8,0.85\n",
        "\n",
        "12,16\n",
        "\n",
        "150"
      ],
      "id": "06e975e4-46c3-4c32-82cc-2cc699c588cb"
    },
    {
      "cell_type": "code",
      "execution_count": 6,
      "metadata": {},
      "outputs": [],
      "source": [
        "# 1. mrate = 0.8, filter = 12, epoch = 150\n",
        "data.query(\"mrate==0.8 and inter_method=='linear' and nof_filters==12 and epoch==150 and lags==2\")['calculation_time'].mean(),data.query(\"mrate==0.8 and inter_method=='linear' and nof_filters==12 and epoch==150 and lags==2\")['mse'].mean()"
      ],
      "id": "152c19fb-12a5-4dc7-bf39-522846ca586b"
    },
    {
      "cell_type": "code",
      "execution_count": 7,
      "metadata": {},
      "outputs": [],
      "source": [
        "data.query(\"mrate==0.8 and inter_method=='linear' and nof_filters==12 and epoch==150 and lags==2\").plot.box(backend='plotly',x='mrate',color='method',y='mse',facet_col='epoch',facet_row='nof_filters',height=400)"
      ],
      "id": "753daafd-f3c5-4180-ae1a-9210bd51f595"
    },
    {
      "cell_type": "markdown",
      "metadata": {},
      "source": [
        "block"
      ],
      "id": "c766f0f6-9471-4f00-9346-2b98bb6f1219"
    },
    {
      "cell_type": "code",
      "execution_count": 8,
      "metadata": {},
      "outputs": [],
      "source": [
        "df1 = pd.read_csv('./simulation_results/fivenodes/fivenodes_STGCN_ITSTGCN_block_node1_epoch50.csv')\n",
        "df2 = pd.read_csv('./simulation_results/fivenodes/fivenodes_STGCN_ITSTGCN_block_node1_epoch100.csv')\n",
        "df3 = pd.read_csv('./simulation_results/fivenodes/fivenodes_STGCN_ITSTGCN_block_node1_epoch150.csv')\n",
        "df4 = pd.read_csv('./simulation_results/fivenodes/fivenodes_STGCN_ITSTGCN_block_node1_epoch200.csv')\n",
        "df5 = pd.read_csv('./simulation_results/fivenodes/fivenodes_STGCN_ITSTGCN_block_node2_epoch50.csv')\n",
        "df6 = pd.read_csv('./simulation_results/fivenodes/fivenodes_STGCN_ITSTGCN_block_node2_epoch100.csv')\n",
        "df7 = pd.read_csv('./simulation_results/fivenodes/fivenodes_STGCN_ITSTGCN_block_node2_epoch150.csv')\n",
        "df8 = pd.read_csv('./simulation_results/fivenodes/fivenodes_GNAR_block_node1.csv')\n",
        "df9 = pd.read_csv('./simulation_results/fivenodes/fivenodes_GNAR_block_node2.csv')"
      ],
      "id": "c2db9220-21f6-40aa-b1db-21a921120535"
    },
    {
      "cell_type": "code",
      "execution_count": 9,
      "metadata": {},
      "outputs": [],
      "source": [
        "df1['block']=1\n",
        "df2['block']=1\n",
        "df3['block']=1\n",
        "df4['block']=1\n",
        "df5['block']=2\n",
        "df6['block']=2\n",
        "df7['block']=2\n",
        "df8['block']=1\n",
        "df9['block']=2"
      ],
      "id": "5b01c42c-8112-4665-9e57-0da7c83f10d6"
    },
    {
      "cell_type": "code",
      "execution_count": 10,
      "metadata": {},
      "outputs": [],
      "source": [
        "data2 = pd.concat([df1,df2,df3,df4,df5,df6,df7,df8,df9],axis=0)"
      ],
      "id": "93dac124-4b1d-494e-b0a2-272d5028e8a4"
    },
    {
      "cell_type": "code",
      "execution_count": 11,
      "metadata": {},
      "outputs": [],
      "source": [
        "data2.query(\"method=='GNAR' and block == 1\")['mse'].mean(),data2.query(\"method=='GNAR' and block == 2\")['mse'].mean()"
      ],
      "id": "80b532a0-53d2-45a7-a3d5-0f1ea77630c3"
    },
    {
      "cell_type": "code",
      "execution_count": 12,
      "metadata": {},
      "outputs": [],
      "source": [
        "data2.query(\"method=='GNAR' and inter_method == 'linear'\")['mse'].mean(),data2.query(\"method=='GNAR' and inter_method == 'nearest'\")['mse'].mean() # 차이 없음"
      ],
      "id": "a010a986-2eb0-4ef5-beef-c45ce06b72a5"
    },
    {
      "cell_type": "code",
      "execution_count": 13,
      "metadata": {},
      "outputs": [],
      "source": [
        "data2.query(\"epoch==50\")['calculation_time'].mean(),data2.query(\"epoch==50\")['calculation_time'].max()"
      ],
      "id": "c8c10ecf-a77f-4750-a4c0-808e8140da70"
    },
    {
      "cell_type": "code",
      "execution_count": 14,
      "metadata": {},
      "outputs": [],
      "source": [
        "data2.query(\"epoch==150\")['calculation_time'].mean(),data2.query(\"epoch==150\")['calculation_time'].max()"
      ],
      "id": "468356fe-2f90-436e-aba5-86a91fabff5c"
    },
    {
      "cell_type": "code",
      "execution_count": 15,
      "metadata": {},
      "outputs": [],
      "source": [
        "data2.query(\"method!='GNAR' and lags == 2 and inter_method=='nearest'\").plot.box(backend='plotly',x='block',color='method',y='mse',facet_col='epoch',facet_row='nof_filters',height=800)\n"
      ],
      "id": "0c5a719e-ed76-4a82-ac9f-7f9f5f688de6"
    },
    {
      "cell_type": "code",
      "execution_count": 16,
      "metadata": {},
      "outputs": [],
      "source": [
        "data2.query(\"inter_method=='linear' and epoch==150\").plot.box(backend='plotly',x='block',color='method',y='mse',facet_col='lags',facet_row='nof_filters',height=1200)\n"
      ],
      "id": "5707fb4c-486b-4706-bc7d-019f3a511469"
    },
    {
      "cell_type": "markdown",
      "metadata": {},
      "source": [
        "시뮬 예정(평균 시간, 평균mse)\n",
        "\n",
        "block 1,2 위 세팅 그대로\n",
        "\n",
        "랜덤ㅁ 말고 block만"
      ],
      "id": "b5420bb0-b983-4296-b254-3250a579352e"
    },
    {
      "cell_type": "code",
      "execution_count": 17,
      "metadata": {},
      "outputs": [],
      "source": [
        "# 1. block = 2 interpolation = linear, filter = 12, epoch = 150\n",
        "data2.query(\"block==1 and inter_method=='linear' and nof_filters==12 and epoch==50 and lags==2\")['calculation_time'].mean(),data2.query(\"block==2 and inter_method=='linear' and nof_filters==12 and epoch==50 and lags==2\")['mse'].mean()"
      ],
      "id": "f45bde6a-95fb-457f-95b5-d650d62ebf79"
    },
    {
      "cell_type": "code",
      "execution_count": 18,
      "metadata": {},
      "outputs": [],
      "source": [
        "data2.query(\"block==1 and inter_method=='linear' and nof_filters==12 and epoch==50 and lags==2\").plot.box(backend='plotly',x='block',color='method',y='mse',facet_col='epoch',facet_row='nof_filters',height=400)"
      ],
      "id": "9db342c5-0074-4585-985b-e0ed55d5ae89"
    },
    {
      "cell_type": "markdown",
      "metadata": {},
      "source": [
        "# fivenodes simulation result\n",
        "\n",
        "``` python\n",
        "mindex= [[],[],[],list(range(50,150)),[]] # block 1\n",
        "mindex= [list(range(10,100)),[],list(range(50,80)),[],[]] # node 2 30% mmissing\n",
        "```\n",
        "\n",
        "block 조건"
      ],
      "id": "c1e0a81a-5b7e-46e5-b911-a4caedb36bc7"
    },
    {
      "cell_type": "code",
      "execution_count": 19,
      "metadata": {},
      "outputs": [],
      "source": [
        "df1 = pd.read_csv('./simulation_results/2023-04-09_23-37-17.csv') # GNAR random\n",
        "df2 = pd.read_csv('./simulation_results/2023-04-10_07-06-32.csv') # STGCN, ITSTGCN random 70%, 75%\n",
        "df3 = pd.read_csv('./simulation_results/2023-04-10_14-54-51.csv') # STGCN, ITSTGCN random 80%, 85%\n",
        "df4 = pd.read_csv('./simulation_results/2023-04-10_15-54-03.csv') # GNAR block 1\n",
        "df5 = pd.read_csv('./simulation_results/2023-04-10_15-56-27.csv') # GNAR block 2\n",
        "df6 = pd.read_csv('./simulation_results/2023-04-10_23-44-52.csv') # STGCN, ITSTGCN block 1\n",
        "df7 = pd.read_csv('./simulation_results/2023-04-11_04-40-00.csv') # STGCN, ITSTGCN block 2\n",
        "df8 = pd.read_csv('./simulation_results/2023-04-14_21-21-34.csv') # S/TGCN, ITSTGCN missing 0"
      ],
      "id": "fcb5ab6b-5061-47bd-b8a0-f471db997100"
    },
    {
      "cell_type": "code",
      "execution_count": 20,
      "metadata": {},
      "outputs": [],
      "source": [
        "data = pd.concat([df1,df2, df3, df4,df5,df6,df7,df8],axis=0);data"
      ],
      "id": "d6637793-4406-4ad5-a6d2-78a8588939f1"
    },
    {
      "cell_type": "code",
      "execution_count": 21,
      "metadata": {},
      "outputs": [],
      "source": [
        "data.to_csv('./simulation_results/Real_simulation/fivedones_Simulation.csv',index=False)"
      ],
      "id": "7702ea92-d4a2-4203-91c6-c824e194aeef"
    },
    {
      "cell_type": "code",
      "execution_count": 22,
      "metadata": {},
      "outputs": [],
      "source": [
        "data = pd.read_csv('./simulation_results/Real_simulation/fivedones_Simulation.csv')"
      ],
      "id": "13d8ec2c-e3d7-474f-b3ef-bbd6a60e6d8f"
    },
    {
      "cell_type": "code",
      "execution_count": 23,
      "metadata": {},
      "outputs": [],
      "source": [
        "data.query(\"method=='GNAR' and mtype == 'rand'\")['mse'].mean(),data.query(\"method=='GNAR' and mtype != 'rand'\")['mse'].mean()"
      ],
      "id": "0aa911c4-f0d7-4347-8e0f-d319cdd9a985"
    },
    {
      "cell_type": "code",
      "execution_count": 24,
      "metadata": {},
      "outputs": [],
      "source": [
        "data.query(\"method=='STGCN' and mtype == 'rand'\")['mse'].mean(),data.query(\"method=='STGCN' and mtype != 'rand'\")['mse'].mean()"
      ],
      "id": "9fe51d3c-bc70-42ef-94c5-7b53092d089b"
    },
    {
      "cell_type": "code",
      "execution_count": 25,
      "metadata": {},
      "outputs": [],
      "source": [
        "data.query(\"method=='IT-STGCN' and mtype == 'rand'\")['mse'].mean(),data.query(\"method=='IT-STGCN' and mtype != 'rand'\")['mse'].mean()"
      ],
      "id": "aab3d075-5e48-4bd4-b239-a33530456bd4"
    },
    {
      "cell_type": "markdown",
      "metadata": {},
      "source": [
        "Baseline"
      ],
      "id": "ce8acd99-2cc9-4d26-8619-601a668009cd"
    },
    {
      "cell_type": "code",
      "execution_count": 26,
      "metadata": {
        "tags": []
      },
      "outputs": [],
      "source": [
        "data.query(\"method!='GNAR' and mrate==0\").plot.box(backend='plotly',x='mrate',color='method',y='mse',facet_col='nof_filters',height=600)\n"
      ],
      "id": "7daf7fa3-20fd-461b-a082-71337c405906"
    },
    {
      "cell_type": "code",
      "execution_count": 27,
      "metadata": {},
      "outputs": [],
      "source": [
        "data.query(\"method!='GNAR' and mtype =='rand' and (mrate==0.7 or mrate==0.75)\").plot.box(backend='plotly',x='mrate',color='method',y='mse',facet_col='nof_filters',facet_row='inter_method',height=600)\n"
      ],
      "id": "fa922ec8-76dc-479c-8438-54c45ea92cbf"
    },
    {
      "cell_type": "code",
      "execution_count": 28,
      "metadata": {},
      "outputs": [],
      "source": [
        "data.query(\"method!='GNAR' and mtype =='rand'  and (mrate==0.8 or mrate==0.85)\").plot.box(backend='plotly',x='mrate',color='method',y='mse',facet_col='nof_filters',facet_row='inter_method',height=600)\n"
      ],
      "id": "8c7c1268-467a-4bdd-9a16-fc794756fdf0"
    },
    {
      "cell_type": "code",
      "execution_count": 29,
      "metadata": {},
      "outputs": [],
      "source": [
        "data.query(\"method!='GNAR' and mtype =='block' and inter_method=='linear' \").plot.box(backend='plotly',x='mrate',color='method',y='mse',facet_col='nof_filters',facet_row='inter_method',height=600)\n"
      ],
      "id": "49548cd4-b5a1-48bc-a28d-b1cfa25dce79"
    },
    {
      "cell_type": "markdown",
      "metadata": {},
      "source": [
        "# fivenodes DCRNN result"
      ],
      "id": "87da7add-e967-480b-9506-eeac21010a01"
    },
    {
      "cell_type": "code",
      "execution_count": 196,
      "metadata": {},
      "outputs": [],
      "source": [
        "df1 = pd.read_csv('./simulation_results/2023-05-14_19-10-37.csv')\n",
        "# df2 = pd.read_csv('./simulation_results/2023-04-27_22-09-07.csv')\n",
        "# df3 = pd.read_csv('./simulation_results/2023-04-28_14-40-59.csv')"
      ],
      "id": "065ff592-9b20-42d6-9e01-d6dc122ceda7"
    },
    {
      "cell_type": "code",
      "execution_count": 197,
      "metadata": {},
      "outputs": [],
      "source": [
        "data = pd.concat([df1],axis=0)"
      ],
      "id": "b44df54d-de46-4f64-864b-a7a87d5a2a97"
    },
    {
      "cell_type": "code",
      "execution_count": 199,
      "metadata": {},
      "outputs": [],
      "source": [
        "data"
      ],
      "id": "d35e55ee-b1c9-4f51-8332-52a848d32c13"
    },
    {
      "cell_type": "code",
      "execution_count": 200,
      "metadata": {},
      "outputs": [],
      "source": [
        "data.to_csv('./simulation_results/DCRNN/fivenodes_DVRNN.csv',index=False)"
      ],
      "id": "3953f710-dbf6-4f90-a763-913157a6659e"
    },
    {
      "cell_type": "code",
      "execution_count": 202,
      "metadata": {},
      "outputs": [],
      "source": [
        "data = pd.read_csv('./simulation_results/DCRNN/fivenodes_DVRNN.csv')"
      ],
      "id": "99ad2411-f626-412c-b02b-063782c4f117"
    },
    {
      "cell_type": "markdown",
      "metadata": {},
      "source": [
        "# chickenpox\n",
        "\n",
        "random\n",
        "\n",
        "-   공식 패키지: lags 4 지정\n",
        "-   mrate = 0.3\n",
        "    -   결측값 비율 크니까 오차 많이 커지는 경향 있어서\n",
        "-   nof_filters = 4\n",
        "    -   차이 없어서\n",
        "-   lags = 4, 8\n",
        "    -   클 수록 작아지는 경향 있어서\n",
        "-   GNAR보다 MSE는 낮음\n",
        "-   cal_time\n",
        "    -   mean = 10\n",
        "    -   max = 21\n",
        "-   block 은 임의로 한 노드만 해 본 결과임"
      ],
      "id": "f9de9780-c5e4-4b6d-9387-6a694554b94c"
    },
    {
      "cell_type": "code",
      "execution_count": 30,
      "metadata": {},
      "outputs": [],
      "source": [
        "data = pd.read_csv('./simulation_results/chickenpox_random.csv').sort_values(by='lags')"
      ],
      "id": "b1751982-7077-4716-94d8-87807d3a6e03"
    },
    {
      "cell_type": "code",
      "execution_count": 31,
      "metadata": {},
      "outputs": [],
      "source": [
        "data.query(\"method!='GNAR'\")['calculation_time'].mean(),data.query(\"method!='GNAR'\")['calculation_time'].max(),data.query(\"method!='GNAR'\")['calculation_time'].min()"
      ],
      "id": "3be0f1af-184a-49f0-950b-8445a6ea2a94"
    },
    {
      "cell_type": "code",
      "execution_count": 32,
      "metadata": {},
      "outputs": [],
      "source": [
        "data.query(\"method!='GNAR' and inter_method=='cubic' and mrate==0.3\").plot.box(backend='plotly',x='mrate',color='method',y='mse',facet_col='lags',facet_row='nof_filters',height=1200)\n"
      ],
      "id": "47862a08-1555-4363-9719-0665ce504d86"
    },
    {
      "cell_type": "code",
      "execution_count": 33,
      "metadata": {},
      "outputs": [],
      "source": [
        "data.query(\"method=='GNAR' and inter_method=='linear'\").plot.box(backend='plotly',x='mrate',color='method',y='mse',facet_col='lags',height=600)\n"
      ],
      "id": "97a714d5-16c9-4cd2-bd7d-33172f9f7e8d"
    },
    {
      "cell_type": "markdown",
      "metadata": {},
      "source": [
        "시뮬 예정(평균 시간, 평균mse)\n",
        "\n",
        "epoch = 50\n",
        "\n",
        "mrate = 0.3\\~0.5\n",
        "\n",
        "filter 32 공식예제로 가기 하고 샆으면 3개 정도 추가로"
      ],
      "id": "64337fda-112c-4826-ad29-bbbd19ec3b2d"
    },
    {
      "cell_type": "code",
      "execution_count": 34,
      "metadata": {},
      "outputs": [],
      "source": [
        "# 1. mrate = 0.3, filter = 4, epoch = 50, lags = 4\n",
        "data.query(\"method !='GNAR' and mrate==0.3 and inter_method=='cubic' and nof_filters==4 and lags==2\")['calculation_time'].mean(),data.query(\"method != 'GNAR' and mrate==0.3 and inter_method=='cubic' and nof_filters==4 and lags==2\")['mse'].mean()"
      ],
      "id": "637bc6d5-171d-4780-8b7f-ccf98ff8773e"
    },
    {
      "cell_type": "code",
      "execution_count": 35,
      "metadata": {},
      "outputs": [],
      "source": [
        "data.query(\"method !='GNAR' and mrate==0.3 and inter_method=='cubic' and nof_filters==4 and lags==2\").plot.box(backend='plotly',x='mrate',color='method',y='mse',facet_col='lags',facet_row='nof_filters',height=400)\n"
      ],
      "id": "2e9e6121-bbfa-4a88-94d2-4b7dac689ba6"
    },
    {
      "cell_type": "markdown",
      "metadata": {},
      "source": [
        "block"
      ],
      "id": "1674b089-8d36-49dc-a221-de93b3cdd528"
    },
    {
      "cell_type": "code",
      "execution_count": 36,
      "metadata": {},
      "outputs": [],
      "source": [
        "data = pd.read_csv('./simulation_results/chickenpox_block.csv')"
      ],
      "id": "d95ec3b1-fb03-4c05-a2fb-7ddb4c002f95"
    },
    {
      "cell_type": "code",
      "execution_count": 37,
      "metadata": {},
      "outputs": [],
      "source": [
        "data.query(\"method != 'GNAR' and lags!=4 and lags!=6 and inter_method !='linear'\").plot.box(backend='plotly',x='nof_filters',color='method',y='mse',facet_col='lags',facet_row='inter_method',height=600)\n"
      ],
      "id": "9cec6289-9260-4a2e-93bf-7586ab59351f"
    },
    {
      "cell_type": "code",
      "execution_count": 38,
      "metadata": {},
      "outputs": [],
      "source": [
        "data.query(\"method=='GNAR'\").plot.box(backend='plotly',x='mrate',color='inter_method',y='mse',facet_col='lags',height=600)\n"
      ],
      "id": "35fb26cb-bad8-4b59-aa97-4bc8ddc6b174"
    },
    {
      "cell_type": "markdown",
      "metadata": {},
      "source": [
        "시뮬 예정(평균 시간, 평균mse)\n",
        "\n",
        "block, rand 다\n",
        "\n",
        "공식예제 수 따라\n",
        "\n",
        "epoch 50\n",
        "\n",
        "나중에 시간 남으면 100"
      ],
      "id": "b6ea6295-2e4d-474f-bfde-6a9cc03d6391"
    },
    {
      "cell_type": "code",
      "execution_count": 39,
      "metadata": {},
      "outputs": [],
      "source": [
        "data.query(\"inter_method=='cubic' and nof_filters==4 and lags==8\").plot.box(backend='plotly',x='mrate',color='method',y='mse',facet_col='lags',facet_row='nof_filters',height=400)\n"
      ],
      "id": "967959d5-2a35-4b98-aafe-8e34738fb94a"
    },
    {
      "cell_type": "markdown",
      "metadata": {},
      "source": [
        "# chickenpox simulation result\n",
        "\n",
        "``` python\n",
        "my_list = [[] for _ in range(20)] #chickenpox\n",
        "another_list = list(range(100,400))\n",
        "my_list[1] = another_list\n",
        "my_list[3] = another_list\n",
        "my_list[5] = another_list\n",
        "my_list[7] = another_list\n",
        "my_list[9] = another_list\n",
        "my_list[11] = another_list\n",
        "my_list[13] = another_list\n",
        "my_list[15] = another_list\n",
        "mindex = my_list\n",
        "```\n",
        "\n",
        "block 30% missing을 위한 조건"
      ],
      "id": "67314b03-2bb8-41d6-aa84-f8dcdf270706"
    },
    {
      "cell_type": "code",
      "execution_count": 40,
      "metadata": {},
      "outputs": [],
      "source": [
        "df1 = pd.read_csv('./simulation_results/2023-04-11_06-56-35.csv') # GNAR random\n",
        "df2 = pd.read_csv('./simulation_results/2023-04-11_07-01-42.csv') # GNAR block\n",
        "df3 = pd.read_csv('./simulation_results/2023-04-11_18-20-22.csv') # STGCN, ITSTGCN random 30%\n",
        "df4 = pd.read_csv('./simulation_results/2023-04-12_05-44-19.csv') # STGCN, ITSTGCN random 40%\n",
        "df5 = pd.read_csv('./simulation_results/2023-04-12_17-03-28.csv') # STGCN, ITSTGCN random 50%\n",
        "df6 = pd.read_csv('./simulation_results/2023-04-13_18-59-17.csv') # STGCN, ITSTGCN block cubic\n",
        "df7 = pd.read_csv('./simulation_results/2023-04-14_00-57-11.csv') # STGCN, ITSTGCN block linear\n",
        "df8 = pd.read_csv('./simulation_results/2023-04-14_12-55-58.csv') # STGCN, ITSTGCN 0% missing\n",
        "df9 = pd.read_csv('./simulation_results/2023-05-08_01-09-23.csv')\n",
        "df10 = pd.read_csv('./simulation_results/2023-05-08_05-47-08.csv')"
      ],
      "id": "3884aff2-707c-41c5-96be-e215c6126812"
    },
    {
      "cell_type": "code",
      "execution_count": 41,
      "metadata": {},
      "outputs": [],
      "source": [
        "data = pd.concat([df1,df2,df3,df4,df5,df6,df7,df8,df9,df10],axis=0);data"
      ],
      "id": "74c7dcf9-5d86-4752-998b-4647f71840f4"
    },
    {
      "cell_type": "code",
      "execution_count": 42,
      "metadata": {},
      "outputs": [],
      "source": [
        "data.to_csv('./simulation_results/Real_simulation/chikenpox_Simulation.csv',index=False)"
      ],
      "id": "a6dc1213-235c-47cf-a5c3-87796f39501e"
    },
    {
      "cell_type": "code",
      "execution_count": 43,
      "metadata": {},
      "outputs": [],
      "source": [
        "data = pd.read_csv('./simulation_results/Real_simulation/chikenpox_Simulation.csv')"
      ],
      "id": "dc340284-230f-4d7d-a3ca-d4c2ba92a296"
    },
    {
      "cell_type": "code",
      "execution_count": 44,
      "metadata": {},
      "outputs": [],
      "source": [
        "data.query(\"method=='GNAR' and mtype == 'rand'\")['mse'].mean(),data.query(\"method=='GNAR' and mtype != 'rand'\")['mse'].mean()"
      ],
      "id": "8fd697fa-4597-4d54-a62d-7a2c51af3e65"
    },
    {
      "cell_type": "code",
      "execution_count": 45,
      "metadata": {},
      "outputs": [],
      "source": [
        "data.query(\"method=='STGCN' and mtype == 'rand'\")['mse'].mean(),data.query(\"method=='STGCN' and mtype != 'rand'\")['mse'].mean()"
      ],
      "id": "3db9679b-3697-403a-b182-667bc45eea5f"
    },
    {
      "cell_type": "code",
      "execution_count": 46,
      "metadata": {},
      "outputs": [],
      "source": [
        "data.query(\"method=='IT-STGCN' and mtype == 'rand'\")['mse'].mean(),data.query(\"method=='IT-STGCN' and mtype != 'rand'\")['mse'].mean()"
      ],
      "id": "b8e74c20-e517-4f0a-a846-9733a7c144a8"
    },
    {
      "cell_type": "code",
      "execution_count": 47,
      "metadata": {},
      "outputs": [],
      "source": [
        "data.query(\"method!='GNAR' and mrate ==0 \").plot.box(backend='plotly',x='mrate',color='method',y='mse',facet_col='nof_filters',height=600)\n"
      ],
      "id": "d2c50f1b-9a65-40fe-af06-58fa3247180f"
    },
    {
      "cell_type": "code",
      "execution_count": 48,
      "metadata": {},
      "outputs": [],
      "source": [
        "data.query(\"method!='GNAR' and mtype =='rand' and mrate !=0.8 and mrate!=0.9 \").plot.box(backend='plotly',x='mrate',color='method',y='mse',facet_col='nof_filters',facet_row='inter_method',height=800)\n"
      ],
      "id": "25993dbd-5d71-46e8-83cc-e967d6ddccf5"
    },
    {
      "cell_type": "code",
      "execution_count": 49,
      "metadata": {},
      "outputs": [],
      "source": [
        "data.query(\"method!='GNAR' and mtype =='rand' and (mrate==0.8 or mrate==0.9)\").plot.box(backend='plotly',x='mrate',color='method',y='mse',facet_col='nof_filters',facet_row='inter_method',height=800)\n"
      ],
      "id": "78cf8a92-300a-4c8f-be7b-187e9949d60b"
    },
    {
      "cell_type": "code",
      "execution_count": 50,
      "metadata": {},
      "outputs": [],
      "source": [
        "data.query(\"method!='GNAR' and mtype =='block' \").plot.box(backend='plotly',x='mrate',color='method',y='mse',facet_col='nof_filters',facet_row='inter_method',height=800)\n"
      ],
      "id": "c3014f6d-1415-4318-8850-a4106ae33687"
    },
    {
      "cell_type": "markdown",
      "metadata": {},
      "source": [
        "# Chickenpox DCRNN result"
      ],
      "id": "f3d2d749-3cac-4103-8a22-3e19a8b933cf"
    },
    {
      "cell_type": "code",
      "execution_count": 241,
      "metadata": {},
      "outputs": [],
      "source": [
        "df1 = pd.read_csv('./simulation_results/2023-05-15_05-35-30.csv')\n",
        "# df2 = pd.read_csv('./simulation_results/2023-04-22_05-38-23.csv')\n",
        "# df3 = pd.read_csv('./simulation_results/2023-04-22_20-41-26.csv')\n",
        "# df4 = pd.read_csv('./simulation_results/2023-04-23_13-13-49.csv')\n",
        "# df5 = pd.read_csv('./simulation_results/2023-04-23_18-03-50.csv')"
      ],
      "id": "dedee83c-5032-41cf-8086-a0879c26442c"
    },
    {
      "cell_type": "code",
      "execution_count": 242,
      "metadata": {},
      "outputs": [],
      "source": [
        "data = pd.concat([df1],axis=0)"
      ],
      "id": "83dd6de0-886b-4c71-98c6-fef1b1583f1b"
    },
    {
      "cell_type": "code",
      "execution_count": 243,
      "metadata": {},
      "outputs": [],
      "source": [
        "data.to_csv('./simulation_results/DCRNN/chickenpox_DCRNN.csv',index=False)"
      ],
      "id": "581d7064-8747-486b-bf37-a9ff9d5fec7b"
    },
    {
      "cell_type": "code",
      "execution_count": 244,
      "metadata": {},
      "outputs": [],
      "source": [
        "data = pd.read_csv('./simulation_results/DCRNN/chickenpox_DCRNN.csv')"
      ],
      "id": "c4ff7a11-9beb-42c6-9614-632962fd27fc"
    },
    {
      "cell_type": "markdown",
      "metadata": {},
      "source": [
        "# Pedalme\n",
        "\n",
        "데이터셋 미싱이 0.8일때\n",
        "\n",
        "`The number of derivatives at boundaries does not match: expected 1, got 0+0`\n",
        "\n",
        "해당 오류, 즉 미분되지 않는 오류가 생긴다.\n",
        "\n",
        "-   공식 패키지: lags 4 지정\n",
        "-   mrate = 0.3\n",
        "-   nof_filters = 12\n",
        "    -   필터 클수록 mse 안정적으로 보임!\n",
        "-   lags = 4, 8\n",
        "    -   lags 클 수록 커지는 경향이 있지만,\n",
        "    -   lags 크니까 GNAR보다 mse 평균적으로 낮게 보인다.\n",
        "-   GNAR보다 MSE는 낮음\n",
        "-   cal_time\n",
        "    -   mean = 1초도 안 된다!\n",
        "    -   max = 6초!\n",
        "\n",
        "random"
      ],
      "id": "05ff6ed8-b8c7-466f-ab08-f9cfc4971e4d"
    },
    {
      "cell_type": "code",
      "execution_count": 58,
      "metadata": {},
      "outputs": [],
      "source": [
        "data = pd.read_csv('./simulation_results/pedalme_random.csv');data"
      ],
      "id": "8e755003-315f-40bb-b45a-ac7d9b7d40cb"
    },
    {
      "cell_type": "code",
      "execution_count": 59,
      "metadata": {},
      "outputs": [],
      "source": [
        "data.query(\"method!='GNAR'\")['calculation_time'].mean(),data.query(\"method!='GNAR'\")['calculation_time'].max(),data.query(\"method!='GNAR'\")['calculation_time'].min()"
      ],
      "id": "d4389ddd-b795-4d9f-94d1-5b5731bb549a"
    },
    {
      "cell_type": "code",
      "execution_count": 60,
      "metadata": {},
      "outputs": [],
      "source": [
        "data.query(\"mtype=='rand' and method!='GNAR' and lags!=4\").plot.box(backend='plotly',x='mrate',color='method',y='mse',facet_col='lags',facet_row='nof_filters',height=1200)\n"
      ],
      "id": "767a07ca-5e2a-4a76-851c-cb5bf343b3ae"
    },
    {
      "cell_type": "code",
      "execution_count": 61,
      "metadata": {},
      "outputs": [],
      "source": [
        "data.query(\"mtype=='rand' and method!='GNAR' and mrate==0.7\").plot.box(backend='plotly',x='inter_method',color='method',y='mse',facet_col='lags',facet_row='nof_filters',height=1200)\n"
      ],
      "id": "217fa53e-1d4f-4066-8dc6-06b171471fee"
    },
    {
      "cell_type": "code",
      "execution_count": 62,
      "metadata": {},
      "outputs": [],
      "source": [
        "data.query(\"mtype=='rand' and method!='GNAR' and mrate==0.3\").plot.box(backend='plotly',x='inter_method',color='method',y='mse',facet_col='lags',facet_row='nof_filters',height=1200)\n"
      ],
      "id": "0822c475-a55b-455b-b3e6-ed61bb7a071a"
    },
    {
      "cell_type": "code",
      "execution_count": 63,
      "metadata": {},
      "outputs": [],
      "source": [
        "data.query(\"method=='GNAR'\").plot.box(backend='plotly',x='mtype',color='method',y='mse',facet_col='lags',height=600)\n"
      ],
      "id": "a3c80003-6975-42c0-a6e4-ed880e1f9ebe"
    },
    {
      "cell_type": "markdown",
      "metadata": {},
      "source": [
        "시뮬 예정(평균 시간, 평균mse)\n",
        "\n",
        "lags 4,8\n",
        "\n",
        "mrate 0.3\\~0.6"
      ],
      "id": "859d00b9-2521-47a0-a130-ed2798780327"
    },
    {
      "cell_type": "code",
      "execution_count": 64,
      "metadata": {},
      "outputs": [],
      "source": [
        "# 1. mrate = 0.3, filter = 4, epoch = 50, lags = 4\n",
        "data.query(\"method !='GNAR' and mrate==0.3 and inter_method=='cubic' and nof_filters==12 and lags==8\")['calculation_time'].mean(),data.query(\"method !='GNAR' and mrate==0.3 and inter_method=='cubic' and nof_filters==12 and lags==8\")['mse'].mean()"
      ],
      "id": "7102cd8b-5f3c-4094-8b96-9941bec3f344"
    },
    {
      "cell_type": "code",
      "execution_count": 65,
      "metadata": {},
      "outputs": [],
      "source": [
        "data.query(\"method !='GNAR' and mrate==0.3 and inter_method=='cubic' and nof_filters==12 and lags==8\").plot.box(backend='plotly',x='mrate',color='method',y='mse',facet_col='lags',facet_row='nof_filters',height=400)"
      ],
      "id": "3f5d688d-a721-4473-b808-b877753fbacb"
    },
    {
      "cell_type": "markdown",
      "metadata": {},
      "source": [
        "block"
      ],
      "id": "0dcf72c7-87d6-4286-8dea-ce174271e85d"
    },
    {
      "cell_type": "code",
      "execution_count": 66,
      "metadata": {},
      "outputs": [],
      "source": [
        "data = pd.read_csv('./simulation_results/pedalme_block.csv');data"
      ],
      "id": "3debcf29-d17b-414f-99d1-1556f1af5f4f"
    },
    {
      "cell_type": "markdown",
      "metadata": {},
      "source": [
        "missing rate 조정하기 30\\~50% 여러개 block 해서"
      ],
      "id": "35fc2ffa-0b53-41a3-9f44-b228f87f8144"
    },
    {
      "cell_type": "code",
      "execution_count": 67,
      "metadata": {},
      "outputs": [],
      "source": [
        "data.query(\"method!='GNAR'\").plot.box(backend='plotly',x='inter_method',color='method',y='mse',facet_col='lags',facet_row='nof_filters',height=1200)\n"
      ],
      "id": "2fc002c9-5f1b-4aaf-bc2e-4c61579b5e8c"
    },
    {
      "cell_type": "markdown",
      "metadata": {},
      "source": [
        "시뮬 예정(평균 시간, 평균mse)"
      ],
      "id": "15b4e0a2-9efc-4f07-80ba-ba5c6b929cb7"
    },
    {
      "cell_type": "code",
      "execution_count": 68,
      "metadata": {},
      "outputs": [],
      "source": [
        "data.query(\"inter_method=='linear' and nof_filters==12 and lags==4\").plot.box(backend='plotly',x='mrate',color='method',y='mse',facet_col='lags',facet_row='nof_filters',height=400)"
      ],
      "id": "2c98b82e-317f-4faf-a5a9-66d765db679e"
    },
    {
      "cell_type": "markdown",
      "metadata": {},
      "source": [
        "# pedalme simulation result\n",
        "\n",
        "block1\n",
        "\n",
        "``` python\n",
        "my_list = [[] for _ in range(15)] #pedalme\n",
        "another_list = list(range(5,25))\n",
        "my_list[1] = another_list\n",
        "my_list[3] = another_list\n",
        "my_list[5] = another_list\n",
        "my_list[7] = another_list\n",
        "my_list[9] = another_list\n",
        "my_list[11] = another_list\n",
        "mindex = my_list\n",
        "```\n",
        "\n",
        "block 30% missing을 위한 조건\n",
        "\n",
        "block2\n",
        "\n",
        "``` python\n",
        "my_list = [[] for _ in range(15)] #pedalme\n",
        "another_list = list(range(10,25))\n",
        "my_list[2] = another_list\n",
        "my_list[4] = another_list\n",
        "my_list[5] = another_list\n",
        "my_list[11] = another_list\n",
        "mindex = my_list\n",
        "```\n",
        "\n",
        "block 30% missing을 위한 조건"
      ],
      "id": "57c96ab5-450b-474e-a6cf-5bfdb274211b"
    },
    {
      "cell_type": "code",
      "execution_count": 220,
      "metadata": {},
      "outputs": [],
      "source": [
        "df1 = pd.read_csv('./simulation_results/2023-04-13_20-37-59.csv') # STGCN, ITSTGCN random 0%,30%, 40%\n",
        "df2 = pd.read_csv('./simulation_results/2023-04-13_21-29-38.csv') # STGCN, ITSTGCN random 50%, 60%\n",
        "df3 = pd.read_csv('./simulation_results/2023-04-15_01-08-16.csv') # GNAR random 30%, 40%, 50%, 60%\n",
        "df4 = pd.read_csv('./simulation_results/2023-04-13_21-56-36.csv') # GNAR block 30%\n",
        "df5 = pd.read_csv('./simulation_results/2023-04-15_01-08-16.csv') # GNAR random 30%, 40%, 50%\n",
        "df6 = pd.read_csv('./simulation_results/2023-04-15_01-38-46.csv') # STGCN, ITSTGCN block 2\n",
        "df7 = pd.read_csv('./simulation_results/2023-04-23_15-17-33.csv') # GNAR 60%\n",
        "df8 = pd.read_csv('./simulation_results/2023-04-23_15-25-09.csv') # GNAR block 1\n",
        "df9 = pd.read_csv('./simulation_results/2023-04-23_15-41-20.csv') # GNAR block 2\n",
        "df10 = pd.read_csv('./simulation_results/2023-04-23_16-25-28.csv') # STGCN,IT-STGCN block 2\n",
        "df11 = pd.read_csv('./simulation_results/2023-04-19_00-13-29.csv')\n",
        "df12 = pd.read_csv('./simulation_results/2023-05-14_21-01-41.csv')"
      ],
      "id": "5043df7d-e54e-4e26-bce3-7d27ff4feb0d"
    },
    {
      "cell_type": "code",
      "execution_count": 221,
      "metadata": {},
      "outputs": [],
      "source": [
        "data = pd.concat([df1,df2,df3,df4,df5,df6,df7,df8,df9,df10,df11,df12],axis=0)"
      ],
      "id": "771829e7-44ad-4276-a1e1-782a226df693"
    },
    {
      "cell_type": "code",
      "execution_count": 222,
      "metadata": {},
      "outputs": [],
      "source": [
        "data.to_csv('./simulation_results/Real_simulation/pedalme_Simulation.csv',index=False)"
      ],
      "id": "06c9a5f3-dd45-41cc-af0b-94cb799ca050"
    },
    {
      "cell_type": "code",
      "execution_count": 223,
      "metadata": {},
      "outputs": [],
      "source": [
        "data = pd.read_csv('./simulation_results/Real_simulation/pedalme_Simulation.csv')"
      ],
      "id": "00dc776e-4283-4b39-9202-d30dfe41e5c5"
    },
    {
      "cell_type": "code",
      "execution_count": 224,
      "metadata": {},
      "outputs": [],
      "source": [
        "data.query(\"method=='GNAR' and mtype == 'rand'\")['mse'].mean(),data.query(\"method=='GNAR' and mtype != 'rand'\")['mse'].mean()"
      ],
      "id": "659dc91f-f238-4f06-973e-886d83428e01"
    },
    {
      "cell_type": "code",
      "execution_count": 225,
      "metadata": {},
      "outputs": [],
      "source": [
        "data.query(\"method=='STGCN' and mtype == 'rand'\")['mse'].mean(),data.query(\"method=='STGCN' and mtype != 'rand'\")['mse'].mean()"
      ],
      "id": "6594fb2c-ec07-482d-b28c-0bebed377dec"
    },
    {
      "cell_type": "code",
      "execution_count": 226,
      "metadata": {},
      "outputs": [],
      "source": [
        "data.query(\"method=='IT-STGCN' and mtype == 'rand'\")['mse'].mean(),data.query(\"method=='IT-STGCN' and mtype != 'rand'\")['mse'].mean()"
      ],
      "id": "a5a2e1bb-d7d6-497d-aa78-60592aed025a"
    },
    {
      "cell_type": "markdown",
      "metadata": {},
      "source": [
        "## Baseline"
      ],
      "id": "ca6f8afe-5721-421c-b4a3-8a0f5d1fe68c"
    },
    {
      "cell_type": "code",
      "execution_count": 227,
      "metadata": {},
      "outputs": [],
      "source": [
        "data.query(\"method!='GNAR' and mrate ==0 \").plot.box(backend='plotly',x='epoch',color='method',y='mse',facet_col='lags',height=800)\n"
      ],
      "id": "1637b290-cdce-42bc-9079-9ba7b838991e"
    },
    {
      "cell_type": "markdown",
      "metadata": {},
      "source": [
        "## random"
      ],
      "id": "1a58ae22-44a5-41be-8640-026398495a90"
    },
    {
      "cell_type": "code",
      "execution_count": 228,
      "metadata": {},
      "outputs": [],
      "source": [
        "data.query(\"method!='GNAR' and mtype =='rand' \").plot.box(backend='plotly',x='mrate',color='method',y='mse',facet_col='lags',facet_row='inter_method',height=800)\n"
      ],
      "id": "d995dcb9-c5bf-4926-bef0-c420806b004f"
    },
    {
      "cell_type": "markdown",
      "metadata": {},
      "source": [
        "## block"
      ],
      "id": "6f450aa6-8869-4a95-9cda-3bfdc9dc6482"
    },
    {
      "cell_type": "code",
      "execution_count": 181,
      "metadata": {},
      "outputs": [],
      "source": [
        "data.query(\"method!='GNAR' and mtype =='block' and inter_method=='cubic' \").plot.box(backend='plotly',x='mrate',color='method',y='mse',facet_col='lags',facet_row='inter_method',height=600)\n"
      ],
      "id": "38c7cf7b-df2d-47d3-8668-bd3934d3570e"
    },
    {
      "cell_type": "code",
      "execution_count": 182,
      "metadata": {},
      "outputs": [],
      "source": [
        "data.query(\"method!='GNAR' and mtype =='block' and inter_method!='cubic' \").plot.box(backend='plotly',x='mrate',color='method',y='mse',facet_col='lags',facet_row='inter_method',height=600)\n"
      ],
      "id": "619282bc-ed19-4da8-9077-6e18c5f03ce4"
    },
    {
      "cell_type": "markdown",
      "metadata": {},
      "source": [
        "## weight matrix time, node 고려한 결과"
      ],
      "id": "598b4dd9-53b4-4e23-ba66-81bb0d226304"
    },
    {
      "cell_type": "code",
      "execution_count": 84,
      "metadata": {},
      "outputs": [],
      "source": [
        "df1 = pd.read_csv('./simulation_results/2023-04-30_13-00-12.csv')\n",
        "df2 = pd.read_csv('./simulation_results/2023-04-30_13-31-32.csv')\n",
        "df3 = pd.read_csv('./simulation_results/2023-04-30_14-01-49.csv')\n",
        "df4 = pd.read_csv('./simulation_results/2023-04-30_14-31-56.csv')\n",
        "df5 = pd.read_csv('./simulation_results/2023-04-30_15-02-23.csv')\n",
        "df6 = pd.read_csv('./simulation_results/2023-04-30_15-33-03.csv')\n",
        "df7 = pd.read_csv('./simulation_results/2023-04-30_16-07-43.csv')\n",
        "df8 = pd.read_csv('./simulation_results/2023-04-30_16-41-35.csv')\n",
        "df9 = pd.read_csv('./simulation_results/2023-04-30_17-14-51.csv')\n",
        "df10 = pd.read_csv('./simulation_results/2023-04-30_17-49-34.csv')\n",
        "df11 = pd.read_csv('./simulation_results/2023-04-30_18-21-29.csv')\n",
        "df12 = pd.read_csv('./simulation_results/2023-04-30_18-50-24.csv')\n",
        "df13 = pd.read_csv('./simulation_results/2023-04-30_20-33-28.csv')\n",
        "df14 = pd.read_csv('./simulation_results/2023-05-04_16-40-05.csv')\n",
        "df15 = pd.read_csv('./simulation_results/2023-05-04_17-34-00.csv')"
      ],
      "id": "850cd0ba-1122-4201-80e6-3d74688a8cc9"
    },
    {
      "cell_type": "code",
      "execution_count": 85,
      "metadata": {},
      "outputs": [],
      "source": [
        "data2 = pd.concat([df1,df2,df3,df4,df5,df6,df7,df8,df9,df10,df11,df12,df13,df14,df15],axis=0)"
      ],
      "id": "e8377341-4b1f-43a8-85bb-2b9b372ed5e1"
    },
    {
      "cell_type": "code",
      "execution_count": 86,
      "metadata": {},
      "outputs": [],
      "source": [
        "data2.to_csv('./simulation_results/Real_simulation/pedalme_Simulation_itstgcnsnd.csv',index=False)"
      ],
      "id": "2fb45a28-4f62-4580-9284-4a3a0c10be20"
    },
    {
      "cell_type": "code",
      "execution_count": 87,
      "metadata": {},
      "outputs": [],
      "source": [
        "data2 = pd.read_csv('./simulation_results/Real_simulation/pedalme_Simulation_itstgcnsnd.csv')"
      ],
      "id": "6c99de52-9299-4c3c-801e-6a3ed8282bb7"
    },
    {
      "cell_type": "code",
      "execution_count": 88,
      "metadata": {},
      "outputs": [],
      "source": [
        "data2.query(\"mtype!='block'\").plot.box(backend='plotly',x='mrate',color='method',y='mse',facet_col='lags',facet_row='inter_method',height=1000)"
      ],
      "id": "30aa66f4-8c0b-4e0e-806b-94751a328933"
    },
    {
      "cell_type": "code",
      "execution_count": 89,
      "metadata": {},
      "outputs": [],
      "source": [
        "data2.query(\"mtype=='block'\").plot.box(backend='plotly',x='mrate',color='method',y='mse',facet_col='lags',facet_row='inter_method',height=1200)"
      ],
      "id": "7a2c4302-28d6-4136-89b1-276c57fa245b"
    },
    {
      "cell_type": "markdown",
      "metadata": {},
      "source": [
        "# Pedalme DCRNN"
      ],
      "id": "7622fd40-02a3-4a6f-917d-9ab9f3772c70"
    },
    {
      "cell_type": "code",
      "execution_count": 210,
      "metadata": {},
      "outputs": [],
      "source": [
        "df1 = pd.read_csv('./simulation_results/2023-05-14_19-04-26.csv')\n",
        "# df2 = pd.read_csv('./simulation_results/2023-04-27_22-09-07.csv')\n",
        "# df3 = pd.read_csv('./simulation_results/2023-04-28_14-40-59.csv')"
      ],
      "id": "d46ec0ac-3397-499d-a31d-e356d4d7b8a9"
    },
    {
      "cell_type": "code",
      "execution_count": 211,
      "metadata": {},
      "outputs": [],
      "source": [
        "data = pd.concat([df1],axis=0)"
      ],
      "id": "718fa6c9-dd53-40a3-ad01-01788ad7281e"
    },
    {
      "cell_type": "code",
      "execution_count": 212,
      "metadata": {},
      "outputs": [],
      "source": [
        "data"
      ],
      "id": "d69330d0-f09a-45de-8c2a-eee3fc9aaccb"
    },
    {
      "cell_type": "code",
      "execution_count": 213,
      "metadata": {},
      "outputs": [],
      "source": [
        "data.to_csv('./simulation_results/DCRNN/pedalme_DVRNN.csv',index=False)"
      ],
      "id": "fac0b0ef-959d-4d78-a455-e43d4193526a"
    },
    {
      "cell_type": "code",
      "execution_count": 214,
      "metadata": {},
      "outputs": [],
      "source": [
        "data = pd.read_csv('./simulation_results/DCRNN/pedalme_DVRNN.csv')"
      ],
      "id": "6f850862-9f5f-4f66-929a-d23c8170a88a"
    },
    {
      "cell_type": "markdown",
      "metadata": {},
      "source": [
        "# Wikimath\n",
        "\n",
        "-   공식 패키지: lags 8 지정\n",
        "-   오히려 cuboic 보다 linear가 더 잘 맞추는 경향\n",
        "-   mrate = 0.3\n",
        "    -   크면 이상치 심하게 나와서 작게 잡기\n",
        "-   nof_filters = 12, 16\n",
        "    -   필터 크니까 mse 내려감\n",
        "-   lags = 2,\n",
        "-   cal_time\n",
        "    -   mean = 71s\n",
        "    -   max = 212s\n",
        "\n",
        "random epoch 1번"
      ],
      "id": "9f263311-2839-4c8d-8a6e-d8ea2e75b013"
    },
    {
      "cell_type": "code",
      "execution_count": 90,
      "metadata": {},
      "outputs": [],
      "source": [
        "df1 = pd.read_csv('./simulation_results/2023-04-15_16-58-03.csv')\n",
        "df2 = pd.read_csv('./simulation_results/2023-04-15_17-01-39.csv')\n",
        "df3 = pd.read_csv('./simulation_results/2023-04-15_17-07-23.csv')\n",
        "df4 = pd.read_csv('./simulation_results/2023-04-15_17-13-13.csv')\n",
        "df5 = pd.read_csv('./simulation_results/2023-04-15_17-29-49.csv')"
      ],
      "id": "e7b49169-0055-47c6-894a-7f25c1135d53"
    },
    {
      "cell_type": "code",
      "execution_count": 91,
      "metadata": {},
      "outputs": [],
      "source": [
        "data = pd.concat([df1,df2,df3,df4,df5],axis=0)"
      ],
      "id": "cd53708a-b925-4131-9dcd-1262e5219b16"
    },
    {
      "cell_type": "code",
      "execution_count": 92,
      "metadata": {},
      "outputs": [],
      "source": [
        "data.query(\"method=='STGCN'\").sort_values(['mrate','lags','nof_filters'])"
      ],
      "id": "b25ac398-718b-418d-aaf1-d166d30ddc3c"
    },
    {
      "cell_type": "code",
      "execution_count": 93,
      "metadata": {},
      "outputs": [],
      "source": [
        "data.query(\"method!='STGCN'\").sort_values(['mrate','lags','nof_filters'])"
      ],
      "id": "7dfc9a35-c8cd-459c-945f-bddd522a54f6"
    },
    {
      "cell_type": "markdown",
      "metadata": {},
      "source": [
        "# Wikimath simulation result"
      ],
      "id": "30d265bf-87a3-4942-b190-e7de771f73db"
    },
    {
      "cell_type": "code",
      "execution_count": 94,
      "metadata": {},
      "outputs": [],
      "source": [
        "df1 = pd.read_csv('./simulation_results/2023-04-21_14-32-44.csv')\n",
        "df2 = pd.read_csv('./simulation_results/2023-04-22_05-38-23.csv')\n",
        "df3 = pd.read_csv('./simulation_results/2023-04-22_20-41-26.csv')\n",
        "df4 = pd.read_csv('./simulation_results/2023-04-23_13-13-49.csv')\n",
        "df5 = pd.read_csv('./simulation_results/2023-04-23_18-03-50.csv')\n",
        "df6 = pd.read_csv('./simulation_results/2023-04-24_18-25-09.csv')\n",
        "df7 = pd.read_csv('./simulation_results/2023-04-24_03-33-57.csv')\n",
        "df8 = pd.read_csv('./simulation_results/2023-04-25_11-18-21.csv')\n",
        "df9 = pd.read_csv('./simulation_results/2023-04-25_22-51-21.csv')\n",
        "df10 = pd.read_csv('./simulation_results/2023-04-26_07-35-21.csv')\n",
        "df11 = pd.read_csv('./simulation_results/2023-04-28_18-07-23.csv')\n",
        "df12 = pd.read_csv('./simulation_results/2023-04-30_04-35-07.csv')\n",
        "df13 = pd.read_csv('./simulation_results/2023-05-08_12-07-28.csv')\n",
        "df14 = pd.read_csv('./simulation_results/2023-05-09_02-26-26.csv')\n",
        "df15 = pd.read_csv('./simulation_results/2023-05-09_09-10-12.csv')\n",
        "df16 = pd.read_csv('./simulation_results/2023-05-09_15-42-43.csv')\n",
        "df17 = pd.read_csv('./simulation_results/2023-05-09_21-48-31.csv')\n",
        "df18 = pd.read_csv('./simulation_results/2023-05-10_02-17-07.csv')\n",
        "df19 = pd.read_csv('./simulation_results/2023-05-10_06-35-14.csv')"
      ],
      "id": "1c3e88e5-b5fe-42cd-9264-463898d68b98"
    },
    {
      "cell_type": "code",
      "execution_count": 95,
      "metadata": {},
      "outputs": [],
      "source": [
        "data = pd.concat([df1,df2,df3,df4,df5,df6,df7,df8,df9,df10,df11,df12,df13,df14,df15,df16,df17,\n",
        "                 df18,df19],axis=0)"
      ],
      "id": "5cd74d25-0788-4e23-b91f-6aaa9072a6ff"
    },
    {
      "cell_type": "code",
      "execution_count": 96,
      "metadata": {},
      "outputs": [],
      "source": [
        "data.to_csv('./simulation_results/Real_simulation/wikimath.csv',index=False)"
      ],
      "id": "5fdddffc-e826-462d-8981-360e0a1b8b36"
    },
    {
      "cell_type": "code",
      "execution_count": 97,
      "metadata": {},
      "outputs": [],
      "source": [
        "data = pd.read_csv('./simulation_results/Real_simulation/wikimath.csv')"
      ],
      "id": "88ecdc4d-4234-4292-b9e9-cb500d409fbd"
    },
    {
      "cell_type": "markdown",
      "metadata": {},
      "source": [
        "## Baseline"
      ],
      "id": "1fdf98a3-50f5-456b-ac29-c56e5a0286cd"
    },
    {
      "cell_type": "code",
      "execution_count": 98,
      "metadata": {},
      "outputs": [],
      "source": [
        "data.query(\"mrate==0 and method!='GNAR'\").plot.box(backend='plotly',x='mrate',color='method',y='mse',facet_col='lags',facet_row='nof_filters',height=600)"
      ],
      "id": "1218a256-c6ea-428f-a02d-99f7b0079167"
    },
    {
      "cell_type": "markdown",
      "metadata": {},
      "source": [
        "## random"
      ],
      "id": "72a503a4-f031-400e-b559-62597fbbe863"
    },
    {
      "cell_type": "code",
      "execution_count": 99,
      "metadata": {},
      "outputs": [],
      "source": [
        "data.query(\"method=='GNAR'\").groupby('mrate')['mse'].unique()"
      ],
      "id": "ccc47b09-dc89-48d9-90e6-5055725f12b0"
    },
    {
      "cell_type": "code",
      "execution_count": 100,
      "metadata": {},
      "outputs": [],
      "source": [
        "data.query(\"mtype=='rand' and mrate !=0 and method!='GNAR'\").plot.box(backend='plotly',x='mrate',color='method',y='mse',facet_col='lags',facet_row='nof_filters',height=1200)\n"
      ],
      "id": "7fb8105f-b0a3-45e9-aac2-93c695efc077"
    },
    {
      "cell_type": "markdown",
      "metadata": {},
      "source": [
        "## block"
      ],
      "id": "441f3a02-3209-4ae5-9cca-979e124ddb4b"
    },
    {
      "cell_type": "code",
      "execution_count": 215,
      "metadata": {},
      "outputs": [],
      "source": [
        "df1 = pd.read_csv('./simulation_results/2023-04-27_07-50-11.csv')\n",
        "df2 = pd.read_csv('./simulation_results/2023-04-27_22-09-07.csv')\n",
        "df3 = pd.read_csv('./simulation_results/2023-04-28_14-40-59.csv')\n",
        "df4 = pd.read_csv('./simulation_results/2023-05-14_19-46-46.csv')\n",
        "# df5 = pd.read_csv('./simulation_results/2023-05-14_19-46-46.csv')"
      ],
      "id": "0233ecc8-9891-41be-87eb-4134a4e8e7bd"
    },
    {
      "cell_type": "code",
      "execution_count": 216,
      "metadata": {},
      "outputs": [],
      "source": [
        "data = pd.concat([df1,df2,df3,df4],axis=0)"
      ],
      "id": "f98427ea-14aa-4e8d-9c7f-3bc794eca59c"
    },
    {
      "cell_type": "code",
      "execution_count": 217,
      "metadata": {},
      "outputs": [],
      "source": [
        "data.to_csv('./simulation_results/Real_simulation/wikimath_block.csv',index=False)"
      ],
      "id": "2c5c9e2b-6bc7-40ef-b307-f9d2c3750487"
    },
    {
      "cell_type": "code",
      "execution_count": 218,
      "metadata": {},
      "outputs": [],
      "source": [
        "data = pd.read_csv('./simulation_results/Real_simulation/wikimath_block.csv')"
      ],
      "id": "bea28df3-5dd9-46c3-b2e6-618f07716acb"
    },
    {
      "cell_type": "code",
      "execution_count": 219,
      "metadata": {},
      "outputs": [],
      "source": [
        "data.query(\"mtype=='block' and method!='GNAR'\").plot.box(backend='plotly',x='mrate',color='method',y='mse',facet_col='lags',facet_row='nof_filters',height=1200)\n"
      ],
      "id": "b6f0d46c-05d9-4644-a5b4-03d3fe85f9fd"
    },
    {
      "cell_type": "markdown",
      "metadata": {},
      "source": [
        "## missing values on the same nodes"
      ],
      "id": "62e8686c-605e-4c5e-b8c8-78620f81ad8e"
    },
    {
      "cell_type": "code",
      "execution_count": 106,
      "metadata": {
        "tags": []
      },
      "outputs": [],
      "source": [
        "# 10%\n",
        "df1 = pd.read_csv('./simulation_results/2023-04-29_03-57-07.csv') # STGCN IT-STGCN block\n",
        "df2 = pd.read_csv('./simulation_results/2023-04-29_20-15-46.csv') # STGCN IT-STGCN\n",
        "df3 = pd.read_csv('./simulation_results/2023-04-30_16-19-58.csv') # STGCN IT-STGCN\n",
        "# 60% 확인하고 다시 돌리기\n",
        "df4 = pd.read_csv('./simulation_results/2023-05-05_04-21-57.csv') # STGCN IT-STGCN 60%\n",
        "df5 = pd.read_csv('./simulation_results/2023-05-06_11-34-46.csv') # STGCN IT-STGCN\n",
        "df6 = pd.read_csv('./simulation_results/2023-05-06_23-43-35.csv') # STGCN IT-STGCN\n",
        "df7 = pd.read_csv('./simulation_results/2023-05-07_14-06-44.csv') # STGCN IT-STGCN"
      ],
      "id": "68d74bbe-a311-441c-9fcb-45486bcc0b25"
    },
    {
      "cell_type": "code",
      "execution_count": 107,
      "metadata": {},
      "outputs": [],
      "source": [
        "data = pd.concat([df1,df2,df3,df4,df5,df6,df7],axis=0)"
      ],
      "id": "0e91ea3b-55e0-48a0-a831-0a465546328c"
    },
    {
      "cell_type": "code",
      "execution_count": 108,
      "metadata": {},
      "outputs": [],
      "source": [
        "data.to_csv('./simulation_results/Real_simulation/wikimath_GSO_st.csv',index=False)"
      ],
      "id": "21e02984-1087-4550-a20b-0ebaf675a138"
    },
    {
      "cell_type": "code",
      "execution_count": 109,
      "metadata": {},
      "outputs": [],
      "source": [
        "data = pd.read_csv('./simulation_results/Real_simulation/wikimath_GSO_st.csv')"
      ],
      "id": "299684b3-40eb-4a77-aac2-0935fbbba622"
    },
    {
      "cell_type": "code",
      "execution_count": 110,
      "metadata": {},
      "outputs": [],
      "source": [
        "data.query(\"method=='GNAR'\")['mse'].unique()"
      ],
      "id": "5840e22b-2377-4a55-94e7-2d6a8adad27a"
    },
    {
      "cell_type": "code",
      "execution_count": 111,
      "metadata": {},
      "outputs": [],
      "source": [
        "data.query(\"method!='GNAR' and mtype =='block' \").plot.box(backend='plotly',x='mrate',color='method',y='mse',facet_col='inter_method',facet_row='lags',height=800)\n"
      ],
      "id": "2c88c393-6f33-4609-be38-69886f235e6b"
    },
    {
      "cell_type": "markdown",
      "metadata": {},
      "source": [
        "# Wikimath DCRNN result"
      ],
      "id": "8b078bf7-5c84-481a-94b8-58dbfb7f0c32"
    },
    {
      "cell_type": "code",
      "execution_count": 245,
      "metadata": {},
      "outputs": [],
      "source": [
        "df1 = pd.read_csv('./simulation_results/2023-05-15_00-20-42.csv')\n",
        "df2 = pd.read_csv('./simulation_results/2023-05-15_05-15-48.csv')\n",
        "df3 = pd.read_csv('./simulation_results/2023-05-15_08-26-11.csv')\n",
        "# df4 = pd.read_csv('./simulation_results/2023-04-23_13-13-49.csv')"
      ],
      "id": "754a3c72-5906-4f50-a5ff-7a355478ae95"
    },
    {
      "cell_type": "code",
      "execution_count": 246,
      "metadata": {},
      "outputs": [],
      "source": [
        "data = pd.concat([df1,df2,df3],axis=0)"
      ],
      "id": "8848acce-ac64-43e9-8e92-049a300bc10a"
    },
    {
      "cell_type": "code",
      "execution_count": 247,
      "metadata": {},
      "outputs": [],
      "source": [
        "data.to_csv('./simulation_results/DCRNN/wikimath_DCRNN.csv',index=False)"
      ],
      "id": "a0add17b-b680-4406-9cd9-689e2836fe8e"
    },
    {
      "cell_type": "code",
      "execution_count": 248,
      "metadata": {},
      "outputs": [],
      "source": [
        "data = pd.read_csv('./simulation_results/DCRNN/wikimath_DCRNN.csv')"
      ],
      "id": "30b7d2ba-53fb-4285-828e-d78d772e1a9a"
    },
    {
      "cell_type": "markdown",
      "metadata": {},
      "source": [
        "# Windmilmedium"
      ],
      "id": "07641fe5-33d4-4296-b378-debf5721f4d4"
    },
    {
      "cell_type": "code",
      "execution_count": 112,
      "metadata": {},
      "outputs": [],
      "source": [
        "df1 = pd.read_csv('./simulation_results/2023-04-15_09-06-12.csv') # GNAR\n",
        "df2 = pd.read_csv('./simulation_results/2023-04-15_09-19-44.csv') # STGCN IT-STGCN\n",
        "df3 = pd.read_csv('./simulation_results/2023-04-15_09-28-32.csv') # STGCN IT-STGCN\n",
        "df4 = pd.read_csv('./simulation_results/2023-04-15_09-36-55.csv') # STGCN IT-STGCN\n",
        "df5 = pd.read_csv('./simulation_results/2023-04-15_09-54-30.csv') # STGCN IT-STGCN\n",
        "df6 = pd.read_csv('./simulation_results/2023-04-15_10-03-08.csv') # STGCN IT-STGCN\n",
        "df7 = pd.read_csv('./simulation_results/2023-04-15_10-15-48.csv') # STGCN IT-STGCN\n",
        "df8 = pd.read_csv('./simulation_results/2023-04-15_10-25-19.csv') # STGCN IT-STGCN\n",
        "df9 = pd.read_csv('./simulation_results/2023-04-15_10-34-48.csv') # STGCN IT-STGCN\n",
        "df10 = pd.read_csv('./simulation_results/2023-04-15_10-43-02.csv') # STGCN IT-STGCN"
      ],
      "id": "e3cf855e-ba2e-4cfa-9c4f-4cae94c28042"
    },
    {
      "cell_type": "code",
      "execution_count": 113,
      "metadata": {},
      "outputs": [],
      "source": [
        "data = pd.concat([df1,df2,df3,df4,df5,df6,df7,df8,df9,df10],axis=0)"
      ],
      "id": "5cfa109f-8d25-42ae-8d4e-0ab59f741750"
    },
    {
      "cell_type": "code",
      "execution_count": 114,
      "metadata": {},
      "outputs": [],
      "source": [
        "data.query(\"method=='GNAR'\")"
      ],
      "id": "d745d354-6059-4573-9491-82cc0bdd9a33"
    },
    {
      "cell_type": "code",
      "execution_count": 115,
      "metadata": {},
      "outputs": [],
      "source": [
        "data.query(\"method!='GNAR' and method=='STGCN'\").sort_values(['mrate','nof_filters'])"
      ],
      "id": "5797788f-236b-47dd-91f0-cb51d3ecb84e"
    },
    {
      "cell_type": "code",
      "execution_count": 116,
      "metadata": {},
      "outputs": [],
      "source": [
        "data.query(\"method!='GNAR' and method!='STGCN'\").sort_values(['mrate','nof_filters'])"
      ],
      "id": "5512de84-85b1-46ad-bfcd-73eed7a8785c"
    },
    {
      "cell_type": "markdown",
      "metadata": {},
      "source": [
        "linear, 0.7\\~0.9, 4,8,"
      ],
      "id": "f360dac3-a79e-4e0c-80c7-ff928e74cf12"
    },
    {
      "cell_type": "code",
      "execution_count": 117,
      "metadata": {},
      "outputs": [],
      "source": [
        "data.to_csv('./simulation_results/Real_simulation/windmilmedium_Simulation.csv',index=False)"
      ],
      "id": "d3fed4da-325b-4882-b366-dfb560596eb4"
    },
    {
      "cell_type": "code",
      "execution_count": 118,
      "metadata": {},
      "outputs": [],
      "source": [
        "data.query(\"method!='GNAR'\")['calculation_time'].mean(),data.query(\"method!='GNAR'\")['calculation_time'].max(),data.query(\"method!='GNAR'\")['calculation_time'].min()"
      ],
      "id": "9babba82-aec7-4a8e-8c0d-b74b4d622a24"
    },
    {
      "cell_type": "markdown",
      "metadata": {},
      "source": [
        "# Windmillmedium simulation result"
      ],
      "id": "fb77dd96-cc5b-4833-8b92-2c5c0f074770"
    },
    {
      "cell_type": "code",
      "execution_count": 189,
      "metadata": {},
      "outputs": [],
      "source": [
        "# df1 = pd.read_csv('./simulation_results/2023-05-08_02-08-10.csv')\n",
        "df2 = pd.read_csv('./simulation_results/2023-05-08_14-58-04.csv')\n",
        "df3 = pd.read_csv('./simulation_results/2023-05-09_03-44-04.csv')\n",
        "df4 = pd.read_csv('./simulation_results/2023-05-09_19-32-04.csv') # STGCN IT-STGCN\n",
        "df5 = pd.read_csv('./simulation_results/2023-05-10_01-07-21.csv') # STGCN IT-STGCN\n",
        "df6 = pd.read_csv('./simulation_results/2023-05-10_06-15-13.csv') # \n",
        "df7 = pd.read_csv('./simulation_results/2023-05-10_10-15-50.csv') # STGCN IT-STGCN\n",
        "df8 = pd.read_csv('./simulation_results/2023-05-10_14-09-03.csv') # STGCN IT-STGCN\n",
        "df9 = pd.read_csv('./simulation_results/2023-05-10_17-09-38.csv') # GNAR\n",
        "df10 = pd.read_csv('./simulation_results/2023-05-10_18-00-11.csv') # STGCN IT-STGCN\n",
        "df11 = pd.read_csv('./simulation_results/2023-05-10_21-50-37.csv') # STGCN IT-STGCN\n",
        "df12 = pd.read_csv('./simulation_results/2023-05-11_01-41-04.csv') # STGCN IT-STGCN\n",
        "df13 = pd.read_csv('./simulation_results/2023-05-11_05-31-29.csv') # STGCN IT-STGCN\n",
        "df14 = pd.read_csv('./simulation_results/2023-05-11_13-25-58.csv') # STGCN IT-STGCN\n",
        "df15 = pd.read_csv('./simulation_results/2023-05-11_13-26-45.csv') # STGCN IT-STGCN\n",
        "df16 = pd.read_csv('./simulation_results/2023-05-11_18-33-31.csv') # STGCN IT-STGCN\n",
        "df17 = pd.read_csv('./simulation_results/2023-05-11_18-39-14.csv') # STGCN IT-STGCN\n",
        "df18 = pd.read_csv('./simulation_results/2023-05-12_00-06-22.csv') # STGCN IT-STGCN\n",
        "df19 = pd.read_csv('./simulation_results/2023-05-12_00-10-51.csv') # STGCN IT-STGCN\n",
        "df20 = pd.read_csv('./simulation_results/2023-05-12_05-17-16.csv') # STGCN IT-STGCN\n",
        "df21 = pd.read_csv('./simulation_results/2023-05-12_05-17-50.csv') # STGCN IT-STGCN\n",
        "df22 = pd.read_csv('./simulation_results/2023-05-13_18-46-25.csv') # STGCN IT-STGCN\n",
        "df23 = pd.read_csv('./simulation_results/2023-05-13_18-47-00.csv') # STGCN IT-STGCN\n",
        "df24 = pd.read_csv('./simulation_results/2023-05-13_23-16-09.csv') # STGCN IT-STGCN\n",
        "df25 = pd.read_csv('./simulation_results/2023-05-13_23-20-14.csv') # STGCN IT-STGCN\n",
        "df26 = pd.read_csv('./simulation_results/2023-05-14_03-54-19.csv') # STGCN IT-STGCN\n",
        "df27 = pd.read_csv('./simulation_results/2023-05-14_08-16-42.csv') # STGCN IT-STGCN\n",
        "# df28 = pd.read_csv('./simulation_results/2023-05-03_13-43-11.csv') # STGCN IT-STGCN\n",
        "# df29 = pd.read_csv('./simulation_results/2023-05-03_21-58-04.csv') # STGCN IT-STGCN\n",
        "# df30 = pd.read_csv('./simulation_results/2023-05-04_04-39-00.csv') # STGCN IT-STGCN\n",
        "# df31 = pd.read_csv('./simulation_results/2023-04-23_15-22-36.csv') # \n",
        "# df32 = pd.read_csv('./simulation_results/2023-04-29_06-54-40.csv') #  \n",
        "# df33 = pd.read_csv('./simulation_results/2023-04-30_18-55-12.csv')\n",
        "# df34 = pd.read_csv('./simulation_results/2023-05-01_02-55-33.csv')\n",
        "# df35 = pd.read_csv('./simulation_results/2023-05-01_10-21-15.csv')\n",
        "# df36 = pd.read_csv('./simulation_results/2023-05-01_19-23-57.csv')\n",
        "# df37 = pd.read_csv('./simulation_results/2023-05-02_01-10-53.csv')\n",
        "# df38 = pd.read_csv('./simulation_results/2023-05-02_08-26-53.csv')\n",
        "# df39 = pd.read_csv('./simulation_results/2023-05-02_16-00-40.csv')\n",
        "# df40 = pd.read_csv('./simulation_results/2023-05-03_00-34-09.csv')\n",
        "# df41 = pd.read_csv('./simulation_results/2023-05-03_08-04-42.csv')\n",
        "# df42 = pd.read_csv('./simulation_results/2023-05-03_15-50-50.csv')\n",
        "# df43 = pd.read_csv('./simulation_results/2023-05-03_23-46-56.csv')\n",
        "# df44 = pd.read_csv('./simulation_results/2023-05-04_05-22-59.csv')\n",
        "# df45 = pd.read_csv('./simulation_results/2023-05-04_09-22-37.csv')\n",
        "# df46 = pd.read_csv('./simulation_results/2023-05-04_15-00-57.csv')\n",
        "# df47 = pd.read_csv('./simulation_results/2023-05-04_23-41-21.csv')\n",
        "# df48 = pd.read_csv('./simulation_results/2023-05-05_07-23-04.csv')\n",
        "# df49 = pd.read_csv('./simulation_results/2023-05-05_15-03-17.csv')\n",
        "# df50 = pd.read_csv('./simulation_results/2023-05-06_05-18-07.csv')\n",
        "# df51 = pd.read_csv('./simulation_results/2023-05-06_12-57-14.csv')\n",
        "# df52 = pd.read_csv('./simulation_results/2023-05-06_19-10-23.csv')\n",
        "# df53 = pd.read_csv('./simulation_results/2023-05-07_03-20-10.csv')\n",
        "# df54 = pd.read_csv('./simulation_results/2023-05-07_11-26-24.csv')\n",
        "# df55 = pd.read_csv('./simulation_results/2023-05-08_00-04-56.csv')\n",
        "# df56 = pd.read_csv('./simulation_results/2023-05-08_04-27-01.csv')\n",
        "# df57 = pd.read_csv('./simulation_results/2023-05-08_10-06-55.csv')\n",
        "# df58 = pd.read_csv('./simulation_results/2023-05-08_17-50-36.csv')\n",
        "# df59 = pd.read_csv('./simulation_results/2023-05-09_03-28-08.csv')\n",
        "# df60 = pd.read_csv('./simulation_results/2023-05-09_11-08-10.csv')\n",
        "# df61 = pd.read_csv('./simulation_results/2023-05-09_20-11-45.csv')"
      ],
      "id": "04c93a81-c9fe-4afc-9a7a-25352ed05028"
    },
    {
      "cell_type": "code",
      "execution_count": 190,
      "metadata": {},
      "outputs": [],
      "source": [
        "data = pd.concat([df2,df3,df4,df5,df6,df7,df8,df9,df10,df11,df12,df13,df14,\n",
        "                 df15,df16,df17,df18,df19,df20,df21,df22,df23,df24,df25,\n",
        "                 df26,df27],axis=0)"
      ],
      "id": "2da9ab36-fc9f-4fa2-baa4-18897fef14d6"
    },
    {
      "cell_type": "code",
      "execution_count": 191,
      "metadata": {},
      "outputs": [],
      "source": [
        "data.to_csv('./simulation_results/Real_simulation/windmillmedium.csv',index=False)"
      ],
      "id": "aed3993e-4f12-45ee-8c2a-c9642f7c2453"
    },
    {
      "cell_type": "code",
      "execution_count": 192,
      "metadata": {},
      "outputs": [],
      "source": [
        "data = pd.read_csv('./simulation_results/Real_simulation/windmillmedium.csv')"
      ],
      "id": "d5b2760a-bddd-4974-8614-474051d3fbf1"
    },
    {
      "cell_type": "code",
      "execution_count": 193,
      "metadata": {},
      "outputs": [],
      "source": [
        "data.query(\"method=='GNAR'\")['mse'].unique()"
      ],
      "id": "8c8b8c8c-0870-4cd6-9f45-bcfc66b5816c"
    },
    {
      "cell_type": "code",
      "execution_count": 194,
      "metadata": {},
      "outputs": [],
      "source": [
        "data.query(\"method!='GNAR' and mrate ==0\").plot.box(backend='plotly',x='mrate',color='method',y='mse',facet_col='lags',height=800)\n"
      ],
      "id": "efc1e5d4-2786-4e43-bf3d-63c7a7bf20d2"
    },
    {
      "cell_type": "code",
      "execution_count": 195,
      "metadata": {},
      "outputs": [],
      "source": [
        "data.query(\"method!='GNAR' and mrate !=0\").plot.box(backend='plotly',x='mrate',color='method',y='mse',facet_col='lags',height=800)\n"
      ],
      "id": "b0c09e08-e23e-4d52-a628-4ebb8ebf38ad"
    },
    {
      "cell_type": "markdown",
      "metadata": {},
      "source": [
        "# Windmilsmall"
      ],
      "id": "78deb828-7b0b-4ff4-b1e2-9255935879fa"
    },
    {
      "cell_type": "code",
      "execution_count": 125,
      "metadata": {},
      "outputs": [],
      "source": [
        "df1 = pd.read_csv('./simulation_results/2023-04-15_10-59-28.csv') # GNAR\n",
        "df2 = pd.read_csv('./simulation_results/2023-04-15_11-15-05.csv') # STGCN IT-STGCN\n",
        "df3 = pd.read_csv('./simulation_results/2023-04-15_11-30-48.csv') # STGCN IT-STGCN\n",
        "df4 = pd.read_csv('./simulation_results/2023-04-15_11-46-45.csv') # STGCN IT-STGCN\n",
        "df5 = pd.read_csv('./simulation_results/2023-04-15_12-02-19.csv') # STGCN IT-STGCN\n",
        "df6 = pd.read_csv('./simulation_results/2023-04-15_15-00-32.csv') # STGCN IT-STGCN\n",
        "# df7 = pd.read_csv('./simulation_results/2023-04-15_10-15-48.csv') # STGCN IT-STGCN\n",
        "# df8 = pd.read_csv('./simulation_results/2023-04-15_10-25-19.csv') # STGCN IT-STGCN\n",
        "# df9 = pd.read_csv('./simulation_results/2023-04-15_10-34-48.csv') # STGCN IT-STGCN\n",
        "# df10 = pd.read_csv('./simulation_results/2023-04-15_10-43-02.csv') # STGCN IT-STGCN"
      ],
      "id": "927978e7-5780-46fb-914c-d0b15aa10adf"
    },
    {
      "cell_type": "code",
      "execution_count": 126,
      "metadata": {},
      "outputs": [],
      "source": [
        "data = pd.concat([df1,df2,df3,df4,df5,df6],axis=0)"
      ],
      "id": "6f143e56-a7be-4701-aecb-5e93a9e79697"
    },
    {
      "cell_type": "code",
      "execution_count": 127,
      "metadata": {},
      "outputs": [],
      "source": [
        "data.query(\"method=='GNAR'\").sort_values(['mrate','nof_filters'])"
      ],
      "id": "76c93e16-d256-4686-b22f-b63c78f20669"
    },
    {
      "cell_type": "code",
      "execution_count": 128,
      "metadata": {},
      "outputs": [],
      "source": [
        "data.query(\"method!='GNAR' and method=='STGCN'\").sort_values(['mrate','nof_filters'])"
      ],
      "id": "29273ff6-1aa5-43c2-bfbd-c848657dde7f"
    },
    {
      "cell_type": "code",
      "execution_count": 129,
      "metadata": {},
      "outputs": [],
      "source": [
        "data.query(\"method!='GNAR' and method!='STGCN'\").sort_values(['mrate','nof_filters'])"
      ],
      "id": "27c063ff-b0e2-4c9c-8ba6-9cd08033af13"
    },
    {
      "cell_type": "markdown",
      "metadata": {},
      "source": [
        "linear, lags 4,8. filter 8,12\n",
        "\n",
        "# Windmillsmall simulation result\n",
        "\n",
        "## Baseline"
      ],
      "id": "321394b6-8ece-4504-a630-2959f985536a"
    },
    {
      "cell_type": "code",
      "execution_count": 130,
      "metadata": {},
      "outputs": [],
      "source": [
        "df1 = pd.read_csv('./simulation_results/2023-04-17_06-05-37.csv') # STGCN IT-STGCN 70%\n",
        "df2 = pd.read_csv('./simulation_results/2023-04-17_08-05-26.csv') # STGCN IT-STGCN\n",
        "df3 = pd.read_csv('./simulation_results/2023-04-17_13-41-19.csv') # STGCN IT-STGCN\n",
        "df4 = pd.read_csv('./simulation_results/2023-04-17_15-44-21.csv') # STGCN IT-STGCN\n",
        "df5 = pd.read_csv('./simulation_results/2023-04-17_21-27-38.csv') # STGCN IT-STGCN\n",
        "# df6 = pd.read_csv('./simulation_results/2023-04-15_15-00-32.csv') # GNAR 30%, 50%, 70% # 뭔가 일단 필요없어서 데이터셋에서 뺌\n",
        "df7 = pd.read_csv('./simulation_results/2023-04-18_05-01-55.csv') # STGCN IT-STGCN\n",
        "df8 = pd.read_csv('./simulation_results/2023-04-18_06-14-06.csv') # STGCN IT-STGCN\n",
        "df9 = pd.read_csv('./simulation_results/2023-04-18_17-32-30.csv') # STGCN IT-STGCN\n",
        "df10 = pd.read_csv('./simulation_results/2023-04-19_01-52-24.csv') # STGCN IT-STGCN\n",
        "df11 = pd.read_csv('./simulation_results/2023-04-19_07-50-52.csv') # STGCN IT-STGCN\n",
        "df12 = pd.read_csv('./simulation_results/2023-04-19_09-30-25.csv') # STGCN IT-STGCN\n",
        "df13 = pd.read_csv('./simulation_results/2023-04-19_15-32-55.csv') # STGCN IT-STGCN\n",
        "df14 = pd.read_csv('./simulation_results/2023-04-19_17-12-06.csv') # STGCN IT-STGCN\n",
        "df15 = pd.read_csv('./simulation_results/2023-04-19_23-07-36.csv') # STGCN IT-STGCN\n",
        "df16 = pd.read_csv('./simulation_results/2023-04-20_00-46-43.csv') # STGCN IT-STGCN\n",
        "df17 = pd.read_csv('./simulation_results/2023-04-20_06-51-34.csv') # STGCN IT-STGCN\n",
        "df18 = pd.read_csv('./simulation_results/2023-04-20_08-30-27.csv') # STGCN IT-STGCN\n",
        "df19 = pd.read_csv('./simulation_results/2023-04-20_14-28-35.csv') # STGCN IT-STGCN\n",
        "df20 = pd.read_csv('./simulation_results/2023-04-20_16-08-39.csv') # STGCN IT-STGCN\n",
        "df21 = pd.read_csv('./simulation_results/2023-04-20_22-09-37.csv') # STGCN IT-STGCN\n",
        "df22 = pd.read_csv('./simulation_results/2023-04-20_23-48-26.csv') # STGCN IT-STGCN\n",
        "df23 = pd.read_csv('./simulation_results/2023-04-21_05-36-47.csv') # STGCN IT-STGCN\n",
        "df24 = pd.read_csv('./simulation_results/2023-04-21_15-26-00.csv') # STGCN IT-STGCN\n",
        "df25 = pd.read_csv('./simulation_results/2023-04-21_23-27-11.csv') # STGCN IT-STGCN\n",
        "df26 = pd.read_csv('./simulation_results/2023-04-22_07-46-08.csv') # STGCN IT-STGCN\n",
        "df27 = pd.read_csv('./simulation_results/2023-04-22_15-45-20.csv') # STGCN IT-STGCN\n",
        "df28 = pd.read_csv('./simulation_results/2023-04-22_22-57-31.csv') # STGCN IT-STGCN\n",
        "df29 = pd.read_csv('./simulation_results/2023-04-23_07-00-15.csv') # STGCN IT-STGCN\n",
        "df30 = pd.read_csv('./simulation_results/2023-04-23_15-18-02.csv') # STGCN IT-STGCN\n",
        "df31 = pd.read_csv('./simulation_results/2023-04-23_15-22-36.csv') # GNAR 70%\n",
        "# baseline\n",
        "df32 = pd.read_csv('./simulation_results/2023-04-29_06-54-40.csv') # GNAR \n",
        "df33 = pd.read_csv('./simulation_results/2023-04-30_18-55-12.csv')\n",
        "df34 = pd.read_csv('./simulation_results/2023-05-01_02-55-33.csv')\n",
        "df35 = pd.read_csv('./simulation_results/2023-05-01_10-21-15.csv')\n",
        "df36 = pd.read_csv('./simulation_results/2023-05-01_19-23-57.csv')\n",
        "df37 = pd.read_csv('./simulation_results/2023-05-02_01-10-53.csv')\n",
        "df38 = pd.read_csv('./simulation_results/2023-05-02_08-26-53.csv')\n",
        "df39 = pd.read_csv('./simulation_results/2023-05-02_16-00-40.csv')\n",
        "df40 = pd.read_csv('./simulation_results/2023-05-03_00-34-09.csv')\n",
        "df41 = pd.read_csv('./simulation_results/2023-05-03_08-04-42.csv')\n",
        "df42 = pd.read_csv('./simulation_results/2023-05-03_15-50-50.csv')\n",
        "df43 = pd.read_csv('./simulation_results/2023-05-03_23-46-56.csv')\n",
        "df44 = pd.read_csv('./simulation_results/2023-05-04_05-22-59.csv')\n",
        "df45 = pd.read_csv('./simulation_results/2023-05-04_09-22-37.csv')\n",
        "df46 = pd.read_csv('./simulation_results/2023-05-04_15-00-57.csv')\n",
        "df47 = pd.read_csv('./simulation_results/2023-05-04_23-41-21.csv')\n",
        "df48 = pd.read_csv('./simulation_results/2023-05-05_07-23-04.csv')\n",
        "df49 = pd.read_csv('./simulation_results/2023-05-05_15-03-17.csv')\n",
        "df50 = pd.read_csv('./simulation_results/2023-05-06_05-18-07.csv')\n",
        "df51 = pd.read_csv('./simulation_results/2023-05-06_12-57-14.csv')\n",
        "df52 = pd.read_csv('./simulation_results/2023-05-06_19-10-23.csv')\n",
        "df53 = pd.read_csv('./simulation_results/2023-05-07_03-20-10.csv')\n",
        "df54 = pd.read_csv('./simulation_results/2023-05-07_11-26-24.csv')\n",
        "df55 = pd.read_csv('./simulation_results/2023-05-08_00-04-56.csv')\n",
        "df56 = pd.read_csv('./simulation_results/2023-05-08_04-27-01.csv')\n",
        "df57 = pd.read_csv('./simulation_results/2023-05-08_10-06-55.csv')\n",
        "df58 = pd.read_csv('./simulation_results/2023-05-08_17-50-36.csv')\n",
        "df59 = pd.read_csv('./simulation_results/2023-05-09_03-28-08.csv')\n",
        "df60 = pd.read_csv('./simulation_results/2023-05-09_11-08-10.csv')\n",
        "df61 = pd.read_csv('./simulation_results/2023-05-09_20-11-45.csv')"
      ],
      "id": "ce649b33-c064-4313-9e03-48066a67d54b"
    },
    {
      "cell_type": "code",
      "execution_count": 131,
      "metadata": {},
      "outputs": [],
      "source": [
        "data = pd.concat([df1,df2,df3,df4,df5,df7,df8,df9,df10,df11,df12,df13,df14,df15,df16,df17,df18,\n",
        "                 df19,df20,df21,df22,df23,df24,df25,df26,df27,df28,df29,df30,df31,df32,df33,df34,\n",
        "                 df35,df36,df37,df38,df39,df40,df41,df42,df43,df44,df45,df46,df47,df48,df49,df50,\n",
        "                 df51,df52,df53,df54,df55,df56,df57,df58,df59,df60,df61],axis=0)"
      ],
      "id": "e82645ca-4225-4ac6-91ec-c918c48d2c60"
    },
    {
      "cell_type": "code",
      "execution_count": 132,
      "metadata": {},
      "outputs": [],
      "source": [
        "data.to_csv('./simulation_results/Real_simulation/windmillsmall.csv',index=False)"
      ],
      "id": "95d02236-fdd9-4a0a-92d7-b6d9da9c3c25"
    },
    {
      "cell_type": "code",
      "execution_count": 133,
      "metadata": {},
      "outputs": [],
      "source": [
        "data = pd.read_csv('./simulation_results/Real_simulation/windmillsmall.csv')"
      ],
      "id": "9988d367-a366-4c1d-ae3b-30678d210349"
    },
    {
      "cell_type": "code",
      "execution_count": 134,
      "metadata": {},
      "outputs": [],
      "source": [
        "data.query(\"method=='GNAR' and mrate ==0\")['mse'].unique()"
      ],
      "id": "fc81c858-7095-48d7-9765-d7bd51b3f0a4"
    },
    {
      "cell_type": "code",
      "execution_count": 135,
      "metadata": {},
      "outputs": [],
      "source": [
        "data.query(\"method!='GNAR' and mrate ==0 \").plot.box(backend='plotly',x='mrate',color='method',y='mse',facet_col='lags',height=800)\n"
      ],
      "id": "978cc066-401a-494a-b81b-8ccf022ea663"
    },
    {
      "cell_type": "markdown",
      "metadata": {},
      "source": [
        "## random"
      ],
      "id": "6dbe6590-8612-4412-b70d-44c5453218b8"
    },
    {
      "cell_type": "code",
      "execution_count": 136,
      "metadata": {},
      "outputs": [],
      "source": [
        "data.query(\"method=='GNAR' and mrate !=0\")['mse'].unique()"
      ],
      "id": "ab6aac4b-d0d3-4f6f-b86c-5a3d4421db1a"
    },
    {
      "cell_type": "code",
      "execution_count": 137,
      "metadata": {},
      "outputs": [],
      "source": [
        "data.query(\"method!='GNAR' and mtype =='rand' \").plot.box(backend='plotly',x='mrate',color='method',y='mse',facet_col='lags',facet_row='inter_method',height=800)\n"
      ],
      "id": "b4edd909-5e70-461f-afc7-e1d56b1948b6"
    },
    {
      "cell_type": "markdown",
      "metadata": {},
      "source": [
        "## block"
      ],
      "id": "ed972acd-ec8e-46df-b410-163eda1a1da3"
    },
    {
      "cell_type": "code",
      "execution_count": 138,
      "metadata": {
        "tags": []
      },
      "outputs": [],
      "source": [
        "df1 = pd.read_csv('./simulation_results/2023-04-24_02-48-08.csv') # STGCN IT-STGCN block\n",
        "df2 = pd.read_csv('./simulation_results/2023-04-24_10-57-10.csv') # STGCN IT-STGCN\n",
        "df3 = pd.read_csv('./simulation_results/2023-04-24_18-53-34.csv') # STGCN IT-STGCN\n",
        "df4 = pd.read_csv('./simulation_results/2023-04-25_02-30-27.csv') # STGCN IT-STGCN\n",
        "df5 = pd.read_csv('./simulation_results/2023-04-25_10-48-46.csv') # STGCN IT-STGCN\n",
        "df6 = pd.read_csv('./simulation_results/2023-04-25_10-53-14.csv') # GNAR \n",
        "df7 = pd.read_csv('./simulation_results/2023-04-25_18-40-53.csv') # STGCN IT-STGCN\n",
        "df8 = pd.read_csv('./simulation_results/2023-04-25_23-30-08.csv') # STGCN IT-STGCN\n",
        "df9 = pd.read_csv('./simulation_results/2023-04-26_04-15-00.csv') # STGCN IT-STGCN\n",
        "df10 = pd.read_csv('./simulation_results/2023-04-27_07-59-36.csv') # STGCN IT-STGCN\n",
        "df11 = pd.read_csv('./simulation_results/2023-04-27_15-29-00.csv') # STGCN IT-STGCN\n",
        "df12 = pd.read_csv('./simulation_results/2023-04-27_23-37-18.csv') # STGCN IT-STGCN\n",
        "df13 = pd.read_csv('./simulation_results/2023-04-28_08-21-54.csv') # STGCN IT-STGCN\n",
        "df14 = pd.read_csv('./simulation_results/2023-04-28_16-06-55.csv') # STGCN IT-STGCN\n",
        "df15 = pd.read_csv('./simulation_results/2023-04-28_21-19-37.csv') # STGCN IT-STGCN\n",
        "df16 = pd.read_csv('./simulation_results/2023-04-29_03-07-03.csv') # STGCN IT-STGCN\n",
        "df17 = pd.read_csv('./simulation_results/2023-04-29_09-00-42.csv') # STGCN IT-STGCN\n",
        "df18 = pd.read_csv('./simulation_results/2023-04-29_19-07-49.csv') # STGCN IT-STGCN\n",
        "df19 = pd.read_csv('./simulation_results/2023-04-30_05-14-07.csv') # STGCN IT-STGCN\n",
        "df20 = pd.read_csv('./simulation_results/2023-04-30_15-23-16.csv') # STGCN IT-STGCN\n",
        "df21 = pd.read_csv('./simulation_results/2023-05-01_00-16-37.csv') # STGCN IT-STGCN\n",
        "df22 = pd.read_csv('./simulation_results/2023-05-01_07-41-52.csv') # STGCN IT-STGCN\n",
        "df23 = pd.read_csv('./simulation_results/2023-05-01_16-21-41.csv') # STGCN IT-STGCN\n",
        "df24 = pd.read_csv('./simulation_results/2023-05-01_23-38-23.csv') # STGCN IT-STGCN\n",
        "df25 = pd.read_csv('./simulation_results/2023-05-02_13-51-13.csv') # STGCN IT-STGCN\n",
        "df26 = pd.read_csv('./simulation_results/2023-05-02_21-43-26.csv') # STGCN IT-STGCN\n",
        "df27 = pd.read_csv('./simulation_results/2023-05-03_06-04-32.csv') # STGCN IT-STGCN\n",
        "df28 = pd.read_csv('./simulation_results/2023-05-03_13-43-11.csv') # STGCN IT-STGCN\n",
        "df29 = pd.read_csv('./simulation_results/2023-05-03_21-58-04.csv') # STGCN IT-STGCN\n",
        "df30 = pd.read_csv('./simulation_results/2023-05-04_04-39-00.csv') # STGCN IT-STGCN"
      ],
      "id": "2370943c-58dc-45a7-83dc-1a4358a769ee"
    },
    {
      "cell_type": "code",
      "execution_count": 139,
      "metadata": {},
      "outputs": [],
      "source": [
        "data = pd.concat([df1,df2,df3,df4,df5,df6,df7,df8,df9,df10,df11,df12,df13,df14,df15,df16,\n",
        "                 df17,df18,df19,df20,df21,df22,df23,df24,df25,df26,df27,df28,df29,df30],axis=0)"
      ],
      "id": "d23d91eb-e5b3-4889-a67e-bf7e12cdb2f5"
    },
    {
      "cell_type": "code",
      "execution_count": 140,
      "metadata": {},
      "outputs": [],
      "source": [
        "data.to_csv('./simulation_results/Real_simulation/windmillsmall_block.csv',index=False)"
      ],
      "id": "a9f8c108-798d-4b5d-88f0-49b18e48bb54"
    },
    {
      "cell_type": "code",
      "execution_count": 141,
      "metadata": {},
      "outputs": [],
      "source": [
        "data = pd.read_csv('./simulation_results/Real_simulation/windmillsmall_block.csv')"
      ],
      "id": "6b144ed7-57ec-4def-88ca-98023a2d8506"
    },
    {
      "cell_type": "code",
      "execution_count": 142,
      "metadata": {},
      "outputs": [],
      "source": [
        "data.query(\"method=='GNAR'\")['mse'].unique()"
      ],
      "id": "f8208c91-efbc-4bb2-aa9f-93faedbb797b"
    },
    {
      "cell_type": "code",
      "execution_count": 143,
      "metadata": {},
      "outputs": [],
      "source": [
        "data.query(\"method!='GNAR' and mtype =='block' \").plot.box(backend='plotly',x='mrate',color='method',y='mse',facet_col='lags',facet_row='inter_method',height=800)\n"
      ],
      "id": "90738be1-1139-45a8-b747-38a6aad8dbeb"
    },
    {
      "cell_type": "markdown",
      "metadata": {},
      "source": [
        "# Windmillsmall DCRNN result"
      ],
      "id": "df6560df-d89b-42e0-ac16-a379408bea6b"
    },
    {
      "cell_type": "code",
      "execution_count": 249,
      "metadata": {},
      "outputs": [],
      "source": [
        "df1 = pd.read_csv('./simulation_results/2023-05-15_11-59-18.csv')\n",
        "# df2 = pd.read_csv('./simulation_results/2023-05-15_05-15-48.csv')\n",
        "# df3 = pd.read_csv('./simulation_results/2023-05-15_08-26-11.csv')\n",
        "# df4 = pd.read_csv('./simulation_results/2023-04-23_13-13-49.csv')"
      ],
      "id": "ebc07625-78d5-4de0-a31f-a9760a6bc7d3"
    },
    {
      "cell_type": "code",
      "execution_count": 250,
      "metadata": {},
      "outputs": [],
      "source": [
        "data = pd.concat([df1],axis=0)"
      ],
      "id": "c66bc151-c231-4e99-aa25-ca5e9f3757ae"
    },
    {
      "cell_type": "code",
      "execution_count": 251,
      "metadata": {},
      "outputs": [],
      "source": [
        "data.to_csv('./simulation_results/DCRNN/windmillsmall_DCRNN.csv',index=False)"
      ],
      "id": "b65f9048-1182-4371-9c0a-b3beee644715"
    },
    {
      "cell_type": "code",
      "execution_count": 252,
      "metadata": {},
      "outputs": [],
      "source": [
        "data = pd.read_csv('./simulation_results/DCRNN/windmillsmall_DCRNN.csv')"
      ],
      "id": "1f513f74-4bfd-430c-b3e0-6cd3a9fb521e"
    },
    {
      "cell_type": "markdown",
      "metadata": {},
      "source": [
        "# Montevideobus"
      ],
      "id": "82942926-ab23-4114-bf06-6d84594d81c8"
    },
    {
      "cell_type": "code",
      "execution_count": 144,
      "metadata": {},
      "outputs": [],
      "source": [
        "df1 = pd.read_csv('./simulation_results/2023-04-30_23-28-01.csv') # lags 8\n",
        "df2 = pd.read_csv('./simulation_results/2023-05-01_01-48-57.csv') # lags 8\n",
        "df3 = pd.read_csv('./simulation_results/2023-05-01_04-10-06.csv') # lags 8\n",
        "df4 = pd.read_csv('./simulation_results/2023-05-01_06-29-43.csv') # lags 8\n",
        "df5 = pd.read_csv('./simulation_results/2023-05-01_08-56-25.csv') # lags 8\n",
        "df6 = pd.read_csv('./simulation_results/2023-05-01_11-21-53.csv') # lags 8\n",
        "df7 = pd.read_csv('./simulation_results/2023-05-01_14-35-28.csv') # lags 4\n",
        "df8 = pd.read_csv('./simulation_results/2023-05-01_17-41-15.csv')\n",
        "df9 = pd.read_csv('./simulation_results/2023-05-01_22-34-25.csv')\n",
        "df10 = pd.read_csv('./simulation_results/2023-05-01_20-14-49.csv')\n",
        "df11 = pd.read_csv('./simulation_results/2023-05-02_01-12-01.csv')\n",
        "df12 = pd.read_csv('./simulation_results/2023-05-02_03-31-06.csv')\n",
        "df13 = pd.read_csv('./simulation_results/2023-05-02_05-47-02.csv') # STGCN IT-STGCN\n",
        "df14 = pd.read_csv('./simulation_results/2023-05-02_08-06-05.csv') # STGCN IT-STGCN\n",
        "df15 = pd.read_csv('./simulation_results/2023-05-02_10-22-46.csv') # STGCN IT-STGCN\n",
        "df16 = pd.read_csv('./simulation_results/2023-05-02_12-55-51.csv') # STGCN IT-STGCN\n",
        "df17 = pd.read_csv('./simulation_results/2023-05-02_15-20-11.csv') # STGCN IT-STGCN\n",
        "df18 = pd.read_csv('./simulation_results/2023-05-02_18-02-21.csv') # STGCN IT-STGCN\n",
        "df19 = pd.read_csv('./simulation_results/2023-05-02_20-30-09.csv') # STGCN IT-STGCN\n",
        "df20 = pd.read_csv('./simulation_results/2023-05-02_23-27-13.csv') # STGCN IT-STGCN\n",
        "df21 = pd.read_csv('./simulation_results/2023-05-03_06-49-15.csv') # STGCN IT-STGCN\n",
        "df22 = pd.read_csv('./simulation_results/2023-05-03_04-25-39.csv') # STGCN IT-STGCN\n",
        "df23 = pd.read_csv('./simulation_results/2023-05-03_02-15-10.csv') # STGCN IT-STGCN\n",
        "df24 = pd.read_csv('./simulation_results/2023-05-03_09-11-42.csv') # STGCN IT-STGCN\n",
        "df25 = pd.read_csv('./simulation_results/2023-05-03_11-51-31.csv') # STGCN IT-STGCN\n",
        "df26 = pd.read_csv('./simulation_results/2023-05-03_14-26-55.csv') # STGCN IT-STGCN\n",
        "df27 = pd.read_csv('./simulation_results/2023-05-03_16-53-12.csv') # STGCN IT-STGCN\n",
        "df28 = pd.read_csv('./simulation_results/2023-05-03_19-26-00.csv') # STGCN IT-STGCN\n",
        "df29 = pd.read_csv('./simulation_results/2023-05-04_00-44-17.csv') # STGCN IT-STGCN\n",
        "df30 = pd.read_csv('./simulation_results/2023-05-04_03-00-08.csv') # STGCN IT-STGCN"
      ],
      "id": "f0736d07-9e76-4afb-b161-8d8a3826c7c0"
    },
    {
      "cell_type": "code",
      "execution_count": 145,
      "metadata": {},
      "outputs": [],
      "source": [
        "data = pd.concat([df1,df2,df3,df4,df5,df6,df7,df8,df9,df10,df11,df12,df13,df14,df15,df16,df17,df18,\n",
        "                 df19,df20,df21,df22,df23,df24,df25,df26,df27,df28,df29,df30],axis=0)"
      ],
      "id": "b074e81f-8453-4275-8437-3b2348845aed"
    },
    {
      "cell_type": "code",
      "execution_count": 146,
      "metadata": {},
      "outputs": [],
      "source": [
        "data.to_csv('./simulation_results/Real_simulation/monte.csv',index=False)"
      ],
      "id": "dba6a0c4-36d1-4f60-8c80-3ace39d1e9b9"
    },
    {
      "cell_type": "code",
      "execution_count": 147,
      "metadata": {},
      "outputs": [],
      "source": [
        "data = pd.read_csv('./simulation_results/Real_simulation/monte.csv')"
      ],
      "id": "1d14fdc3-21e1-412e-a1fe-ffcee4d3416f"
    },
    {
      "cell_type": "markdown",
      "metadata": {},
      "source": [
        "## Baseline"
      ],
      "id": "7cecd615-00ae-4af4-8584-39328926e9f7"
    },
    {
      "cell_type": "code",
      "execution_count": 148,
      "metadata": {},
      "outputs": [],
      "source": [
        "data.query(\"mrate==0 and method!='GNAR'\").plot.box(backend='plotly',x='mrate',color='method',y='mse',facet_col='lags',facet_row='nof_filters',height=600)"
      ],
      "id": "660805e2-42fd-4b86-b707-9cdda10bf896"
    },
    {
      "cell_type": "markdown",
      "metadata": {},
      "source": [
        "## random"
      ],
      "id": "4208fa5d-8bd2-4602-bc47-130cce131bdf"
    },
    {
      "cell_type": "code",
      "execution_count": 149,
      "metadata": {},
      "outputs": [],
      "source": [
        "data.query(\"method=='GNAR'\").groupby('mrate')['mse'].unique()"
      ],
      "id": "54c64782-0688-421b-b029-de01d12937be"
    },
    {
      "cell_type": "code",
      "execution_count": 150,
      "metadata": {},
      "outputs": [],
      "source": [
        "data.query(\"mtype=='rand' and mrate !=0 and method!='GNAR' and mrate!=0.8 and mrate!=0.9\").sort_values('lags').plot.box(backend='plotly',x='mrate',color='method',y='mse',facet_col='lags',facet_row='inter_method',height=800)\n"
      ],
      "id": "e1d17fb2-0d2c-4348-9d7e-abcff1055a56"
    },
    {
      "cell_type": "code",
      "execution_count": 151,
      "metadata": {},
      "outputs": [],
      "source": [
        "data.query(\"mtype=='rand' and mrate !=0 and method!='GNAR' and mrate!=0.3 and mrate!=0.4\").plot.box(backend='plotly',x='mrate',color='method',y='mse',facet_col='lags',facet_row='inter_method',height=800)\n"
      ],
      "id": "974fa987-9aa6-4ae2-a611-81d198596a04"
    },
    {
      "cell_type": "markdown",
      "metadata": {},
      "source": [
        "## block"
      ],
      "id": "a83468a0-2f90-4d80-a8c6-355b7195fc1e"
    },
    {
      "cell_type": "code",
      "execution_count": 152,
      "metadata": {},
      "outputs": [],
      "source": [
        "df1 = pd.read_csv('./simulation_results/2023-05-04_21-03-21.csv')\n",
        "df2 = pd.read_csv('./simulation_results/2023-05-05_12-10-44.csv')\n",
        "df3 = pd.read_csv('./simulation_results/2023-05-06_12-42-22.csv')\n",
        "df4 = pd.read_csv('./simulation_results/2023-05-06_15-40-47.csv')"
      ],
      "id": "2e6481c4-05bb-4ef6-b954-a1d573d2df33"
    },
    {
      "cell_type": "code",
      "execution_count": 153,
      "metadata": {},
      "outputs": [],
      "source": [
        "data = pd.concat([df1,df2,df3,df4],axis=0)"
      ],
      "id": "1b91defa-bbbe-4751-90d7-cf2844db5875"
    },
    {
      "cell_type": "code",
      "execution_count": 154,
      "metadata": {},
      "outputs": [],
      "source": [
        "data.to_csv('./simulation_results/Real_simulation/monte_block.csv',index=False)"
      ],
      "id": "99bf7144-ad4f-44ce-8e10-64008d065e7e"
    },
    {
      "cell_type": "code",
      "execution_count": 155,
      "metadata": {},
      "outputs": [],
      "source": [
        "data = pd.read_csv('./simulation_results/Real_simulation/monte_block.csv')"
      ],
      "id": "3a739a54-6eb3-4a60-a3a8-66d5639c694b"
    },
    {
      "cell_type": "code",
      "execution_count": 156,
      "metadata": {},
      "outputs": [],
      "source": [
        "data.query(\"mtype=='block' and method=='GNAR'\")['mse'].mean()"
      ],
      "id": "3b8eead2-bb40-482e-8a32-9c0c0cc36a23"
    },
    {
      "cell_type": "code",
      "execution_count": 157,
      "metadata": {},
      "outputs": [],
      "source": [
        "data.query(\"mtype=='block' and method!='GNAR'\").plot.box(backend='plotly',x='mrate',color='method',y='mse',facet_col='lags',facet_row='nof_filters',height=1200)\n"
      ],
      "id": "a9044077-436f-4666-9f16-187331ac490b"
    }
  ],
  "nbformat": 4,
  "nbformat_minor": 5,
  "metadata": {
    "kernelspec": {
      "name": "python3",
      "display_name": "Python 3",
      "language": "python"
    },
    "language_info": {
      "name": "python",
      "codemirror_mode": {
        "name": "ipython",
        "version": "3"
      },
      "file_extension": ".py",
      "mimetype": "text/x-python",
      "nbconvert_exporter": "python",
      "pygments_lexer": "ipython3",
      "version": "3.8.0"
    }
  }
}
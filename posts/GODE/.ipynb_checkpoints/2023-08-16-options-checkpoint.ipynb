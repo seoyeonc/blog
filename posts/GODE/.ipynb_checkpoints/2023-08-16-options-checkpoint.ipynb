{
 "cells": [
  {
   "cell_type": "raw",
   "id": "f1f6e883-baab-4f7c-af7d-0d8e4d2e772c",
   "metadata": {
    "id": "cac470df-29e7-4148-9bbd-d8b9a32fa570",
    "tags": []
   },
   "source": [
    "---\n",
    "title: \"The options of Outlier Detection method\"\n",
    "author: \"SEOYEON CHOI\"\n",
    "date: \"2023-08-16\"\n",
    "---"
   ]
  },
  {
   "cell_type": "code",
   "execution_count": 1,
   "id": "f7c6034a-9ac1-4170-b214-520150df448e",
   "metadata": {},
   "outputs": [
    {
     "name": "stderr",
     "output_type": "stream",
     "text": [
      "2023-08-07 20:44:37.488664: I tensorflow/core/util/port.cc:110] oneDNN custom operations are on. You may see slightly different numerical results due to floating-point round-off errors from different computation orders. To turn them off, set the environment variable `TF_ENABLE_ONEDNN_OPTS=0`.\n",
      "/home/csy/anaconda3/envs/pygsp/lib/python3.10/site-packages/tqdm/auto.py:21: TqdmWarning: IProgress not found. Please update jupyter and ipywidgets. See https://ipywidgets.readthedocs.io/en/stable/user_install.html\n",
      "  from .autonotebook import tqdm as notebook_tqdm\n"
     ]
    }
   ],
   "source": [
    "import numpy as np\n",
    "import matplotlib.pyplot as plt\n",
    "import matplotlib\n",
    "import pandas as pd\n",
    "import random\n",
    "\n",
    "import warnings\n",
    "warnings.simplefilter(\"ignore\", np.ComplexWarning)\n",
    "from haversine import haversine\n",
    "from IPython.display import HTML\n",
    "import plotly.graph_objects as go\n",
    "import copy \n",
    "\n",
    "import tqdm\n",
    "from rpy2.robjects.packages import importr\n",
    "from rpy2.robjects.vectors import FloatVector \n",
    "\n",
    "from pygsp import graphs, filters, plotting, utils\n",
    "\n",
    "from sklearn.metrics import confusion_matrix\n",
    "from sklearn.metrics import precision_score, recall_score, f1_score, accuracy_score\n",
    "\n",
    "from sklearn.neighbors import LocalOutlierFactor\n",
    "from pyod.models.knn import KNN\n",
    "from pyod.models.cblof import CBLOF\n",
    "from sklearn import svm\n",
    "from pyod.models.mcd import MCD\n",
    "from pyod.models.feature_bagging import FeatureBagging\n",
    "from pyod.models.abod import ABOD\n",
    "from alibi_detect.od import IForest\n",
    "from pyod.models.hbos import HBOS\n",
    "from pyod.models.sos import SOS\n",
    "from pyod.models.so_gaal import SO_GAAL\n",
    "from pyod.models.mo_gaal import MO_GAAL\n",
    "from pyod.models.lscp import LSCP\n",
    "from pyod.models.lof import LOF\n",
    "from pyod.models.ocsvm import OCSVM\n",
    "from sklearn.svm import OneClassSVM"
   ]
  },
  {
   "cell_type": "markdown",
   "id": "dec53004-a992-45ed-8cc9-4f7106dd881a",
   "metadata": {},
   "source": [
    "|Simple Linear 논문|Accuracy|Precision|Recall|F1|\n",
    "|:--:|:--:|:--:|:--:|:--:|\n",
    "|GODE|**0.998**|0.999|**0.999**|**0.999**|\n",
    "|LOF (Breunig et al., 2000)|0.926|0.961|0.961|0.961|\n",
    "|kNN (Ramaswamy et al., 2000)|0.950|**1.000**|0.947|0.973|\n",
    "|CBLOF (He et al., 2003)|0.972|0.985|0.985|0.985|\n",
    "|OCSVM (Sch ̈olkopf et al., 2001)|0.935|0.991|0.940|0.965|\n",
    "|MCD (Hardin and Rocke, 2004)|0.998|0.999|**0.999**|**0.999**|\n",
    "|Feature Bagging (Lazarevic and Kumar, 2005)|0.986|0.993|0.993|0.993|\n",
    "|ABOD (Kriegel et al., 2008)|0.988|0.994|0.994|0.994|\n",
    "|Isolation Forest (Liu et al., 2008)|0.868|0.999|0.862|0.925|\n",
    "|HBOS (Goldstein and Dengel, 2012)|0.960|0.978|0.980|0.979|\n",
    "|SOS (Janssens et al., 2012)|0.916|0.956|0.956|0.956|\n",
    "|SO-GAAL (Liu et al., 2019)|0.936|0.966|0.966|0.966|\n",
    "|MO-GAAL (Liu et al., 2019)|0.940|0.965|0.972|0.969|\n",
    "|LSCP (Zhao et al., 2019)|0.988|0.994|0.994|0.994|"
   ]
  },
  {
   "cell_type": "markdown",
   "id": "c8fd20f7-a706-4845-8bf5-10d5c9f5a0a9",
   "metadata": {},
   "source": [
    "### LOF(LocalOutlierFactor)"
   ]
  },
  {
   "cell_type": "markdown",
   "id": "f1cdab97-890e-4a9d-bd7f-f2ae919070d3",
   "metadata": {},
   "source": [
    "|Parameter|Description|\n",
    "|:--|:--|\n",
    "|n_neighbors|Number of neighbors to use by default for k-neighbors queries. If n_neighbors is larger than the number of provided samples, all samples will be used.\n",
    "|algorithm|Algorithm used to compute the nearest neighbors. It can be one of 'ball_tree', 'kd_tree', 'brute', or 'auto'.|\n",
    "|leaf_size|Leaf size passed to BallTree or KDTree. This can affect the speed of construction and query, as well as the memory required to store the tree. The optimal value depends on the nature of the problem.|\n",
    "|metric|Metric used for distance computation. Default is \"minkowski,\" which results in the standard Euclidean distance when p = 2. Other valid metrics can be found in the documentation of scipy.spatial.distance.|\n",
    "|p|Parameter for the Minkowski metric. When p = 1, it is equivalent to using Manhattan distance (l1), and Euclidean distance (l2) for p = 2. For arbitrary p, Minkowski distance (l_p) is used.|\n",
    "|metric_params|Additional keyword arguments for the metric function.|\n",
    "|contamination|The amount of contamination of the dataset, i.e., the proportion of outliers in the dataset. If \"auto,\" the threshold is determined as in the original paper. If a float, the contamination should be in the range (0, 0.5].|\n",
    "|novelty|By default, LocalOutlierFactor is only meant for outlier detection (novelty=False). Set novelty to True if you want to use LocalOutlierFactor for novelty detection. In this case, use predict, decision_function, and score_samples only on new unseen data, not on the training set. The results obtained this way may differ from the standard LOF results.|\n",
    "|n_jobs|The number of parallel jobs to run for neighbors search. None means 1, and -1 means using all processors.|"
   ]
  },
  {
   "cell_type": "code",
   "execution_count": null,
   "id": "87ff57bf-d6c0-437a-b99b-049974829bc8",
   "metadata": {},
   "outputs": [],
   "source": []
  },
  {
   "cell_type": "code",
   "execution_count": null,
   "id": "0dca2c04-eb81-43df-a6c9-63f29c81c4a7",
   "metadata": {},
   "outputs": [],
   "source": []
  }
 ],
 "metadata": {
  "kernelspec": {
   "display_name": "Python 3 (ipykernel)",
   "language": "python",
   "name": "python3"
  },
  "language_info": {
   "codemirror_mode": {
    "name": "ipython",
    "version": 3
   },
   "file_extension": ".py",
   "mimetype": "text/x-python",
   "name": "python",
   "nbconvert_exporter": "python",
   "pygments_lexer": "ipython3",
   "version": "3.10.11"
  }
 },
 "nbformat": 4,
 "nbformat_minor": 5
}

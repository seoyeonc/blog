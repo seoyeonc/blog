{
 "cells": [
  {
   "cell_type": "raw",
   "id": "19a1409b-8eb6-49f1-8c2d-aa227c14b8b5",
   "metadata": {
    "id": "cac470df-29e7-4148-9bbd-d8b9a32fa570",
    "tags": []
   },
   "source": [
    "---\n",
    "title: \"**[LLM]**LLAMA2\"\n",
    "author: \"SEOYEON CHOI\"\n",
    "date: \"2023-08-01\"\n",
    "---"
   ]
  },
  {
   "cell_type": "markdown",
   "id": "4c6ffc2c-4e9f-4df9-bec0-2108ad6672d8",
   "metadata": {},
   "source": [
    "https://huggingface.co/Trelis"
   ]
  },
  {
   "cell_type": "markdown",
   "id": "f51d3976-300d-4665-9e63-64506d6f9d55",
   "metadata": {},
   "source": [
    "# Import"
   ]
  },
  {
   "cell_type": "code",
   "execution_count": 44,
   "id": "05ea4af3-1006-4a87-89d6-9cb8630d4aa9",
   "metadata": {},
   "outputs": [],
   "source": [
    "# !pip install -q transformers accelerate sentencepiece\n",
    "# !huggingface-cli login\n",
    "from transformers import AutoTokenizer\n",
    "import transformers\n",
    "import torch\n",
    "import matplotlib.pyplot as plt\n",
    "import pandas as pd\n",
    "import re\n",
    "\n",
    "from sklearn.feature_extraction.text import CountVectorizer\n",
    "from sklearn.preprocessing import LabelEncoder\n",
    "import numpy as np"
   ]
  },
  {
   "cell_type": "markdown",
   "id": "575835bb-7149-4095-9503-928eb7c7cac0",
   "metadata": {},
   "source": [
    "# 사용가능한 pretrained된 model"
   ]
  },
  {
   "cell_type": "markdown",
   "id": "e9a73e9e-b171-4ddf-b220-7dd681a940db",
   "metadata": {},
   "source": [
    "사용가능한 pretrained된 model들 종류 아직 llama2는 업데이트되지 않은듯"
   ]
  },
  {
   "cell_type": "markdown",
   "id": "f48cc943-ba46-4bbf-b877-04bf5e67414c",
   "metadata": {},
   "source": [
    "    - **albert** -- [`AlbertTokenizer`] or [`AlbertTokenizerFast`] (ALBERT model)\n",
    "    - **align** -- [`BertTokenizer`] or [`BertTokenizerFast`] (ALIGN model)\n",
    "    - **bart** -- [`BartTokenizer`] or [`BartTokenizerFast`] (BART model)\n",
    "    - **barthez** -- [`BarthezTokenizer`] or [`BarthezTokenizerFast`] (BARThez model)\n",
    "    - **bartpho** -- [`BartphoTokenizer`] (BARTpho model)\n",
    "    - **bert** -- [`BertTokenizer`] or [`BertTokenizerFast`] (BERT model)\n",
    "    - **bert-generation** -- [`BertGenerationTokenizer`] (Bert Generation model)\n",
    "    - **bert-japanese** -- [`BertJapaneseTokenizer`] (BertJapanese model)\n",
    "    - **bertweet** -- [`BertweetTokenizer`] (BERTweet model)\n",
    "    - **big_bird** -- [`BigBirdTokenizer`] or [`BigBirdTokenizerFast`] (BigBird model)\n",
    "    - **bigbird_pegasus** -- [`PegasusTokenizer`] or [`PegasusTokenizerFast`] (BigBird-Pegasus model)\n",
    "    - **biogpt** -- [`BioGptTokenizer`] (BioGpt model)\n",
    "    - **blenderbot** -- [`BlenderbotTokenizer`] or [`BlenderbotTokenizerFast`] (Blenderbot model)\n",
    "    - **blenderbot-small** -- [`BlenderbotSmallTokenizer`] (BlenderbotSmall model)\n",
    "    - **blip** -- [`BertTokenizer`] or [`BertTokenizerFast`] (BLIP model)\n",
    "    - **blip-2** -- [`GPT2Tokenizer`] or [`GPT2TokenizerFast`] (BLIP-2 model)\n",
    "    - **bloom** -- [`BloomTokenizerFast`] (BLOOM model)\n",
    "    - **bridgetower** -- [`RobertaTokenizer`] or [`RobertaTokenizerFast`] (BridgeTower model)\n",
    "    - **byt5** -- [`ByT5Tokenizer`] (ByT5 model)\n",
    "    - **camembert** -- [`CamembertTokenizer`] or [`CamembertTokenizerFast`] (CamemBERT model)\n",
    "    - **canine** -- [`CanineTokenizer`] (CANINE model)\n",
    "    - **chinese_clip** -- [`BertTokenizer`] or [`BertTokenizerFast`] (Chinese-CLIP model)\n",
    "    - **clap** -- [`RobertaTokenizer`] or [`RobertaTokenizerFast`] (CLAP model)\n",
    "    - **clip** -- [`CLIPTokenizer`] or [`CLIPTokenizerFast`] (CLIP model)\n",
    "    - **clipseg** -- [`CLIPTokenizer`] or [`CLIPTokenizerFast`] (CLIPSeg model)\n",
    "    - **codegen** -- [`CodeGenTokenizer`] or [`CodeGenTokenizerFast`] (CodeGen model)\n",
    "    - **convbert** -- [`ConvBertTokenizer`] or [`ConvBertTokenizerFast`] (ConvBERT model)\n",
    "    - **cpm** -- [`CpmTokenizer`] or [`CpmTokenizerFast`] (CPM model)\n",
    "    - **cpmant** -- [`CpmAntTokenizer`] (CPM-Ant model)\n",
    "    - **ctrl** -- [`CTRLTokenizer`] (CTRL model)\n",
    "    - **data2vec-text** -- [`RobertaTokenizer`] or [`RobertaTokenizerFast`] (Data2VecText model)\n",
    "    - **deberta** -- [`DebertaTokenizer`] or [`DebertaTokenizerFast`] (DeBERTa model)\n",
    "    - **deberta-v2** -- [`DebertaV2Tokenizer`] or [`DebertaV2TokenizerFast`] (DeBERTa-v2 model)\n",
    "    - **distilbert** -- [`DistilBertTokenizer`] or [`DistilBertTokenizerFast`] (DistilBERT model)\n",
    "    - **dpr** -- [`DPRQuestionEncoderTokenizer`] or [`DPRQuestionEncoderTokenizerFast`] (DPR model)\n",
    "    - **electra** -- [`ElectraTokenizer`] or [`ElectraTokenizerFast`] (ELECTRA model)\n",
    "    - **ernie** -- [`BertTokenizer`] or [`BertTokenizerFast`] (ERNIE model)\n",
    "    - **ernie_m** -- [`ErnieMTokenizer`] (ErnieM model)\n",
    "    - **esm** -- [`EsmTokenizer`] (ESM model)\n",
    "    - **flaubert** -- [`FlaubertTokenizer`] (FlauBERT model)\n",
    "    - **fnet** -- [`FNetTokenizer`] or [`FNetTokenizerFast`] (FNet model)\n",
    "    - **fsmt** -- [`FSMTTokenizer`] (FairSeq Machine-Translation model)\n",
    "    - **funnel** -- [`FunnelTokenizer`] or [`FunnelTokenizerFast`] (Funnel Transformer model)\n",
    "    - **git** -- [`BertTokenizer`] or [`BertTokenizerFast`] (GIT model)\n",
    "    - **gpt-sw3** -- [`GPTSw3Tokenizer`] (GPT-Sw3 model)\n",
    "    - **gpt2** -- [`GPT2Tokenizer`] or [`GPT2TokenizerFast`] (OpenAI GPT-2 model)\n",
    "    - **gpt_bigcode** -- [`GPT2Tokenizer`] or [`GPT2TokenizerFast`] (GPTBigCode model)\n",
    "    - **gpt_neo** -- [`GPT2Tokenizer`] or [`GPT2TokenizerFast`] (GPT Neo model)\n",
    "    - **gpt_neox** -- [`GPTNeoXTokenizerFast`] (GPT NeoX model)\n",
    "    - **gpt_neox_japanese** -- [`GPTNeoXJapaneseTokenizer`] (GPT NeoX Japanese model)\n",
    "    - **gptj** -- [`GPT2Tokenizer`] or [`GPT2TokenizerFast`] (GPT-J model)\n",
    "    - **gptsan-japanese** -- [`GPTSanJapaneseTokenizer`] (GPTSAN-japanese model)\n",
    "    - **groupvit** -- [`CLIPTokenizer`] or [`CLIPTokenizerFast`] (GroupViT model)\n",
    "    - **herbert** -- [`HerbertTokenizer`] or [`HerbertTokenizerFast`] (HerBERT model)\n",
    "    - **hubert** -- [`Wav2Vec2CTCTokenizer`] (Hubert model)\n",
    "    - **ibert** -- [`RobertaTokenizer`] or [`RobertaTokenizerFast`] (I-BERT model)\n",
    "    - **jukebox** -- [`JukeboxTokenizer`] (Jukebox model)\n",
    "    - **layoutlm** -- [`LayoutLMTokenizer`] or [`LayoutLMTokenizerFast`] (LayoutLM model)\n",
    "    - **layoutlmv2** -- [`LayoutLMv2Tokenizer`] or [`LayoutLMv2TokenizerFast`] (LayoutLMv2 model)\n",
    "    - **layoutlmv3** -- [`LayoutLMv3Tokenizer`] or [`LayoutLMv3TokenizerFast`] (LayoutLMv3 model)\n",
    "    - **layoutxlm** -- [`LayoutXLMTokenizer`] or [`LayoutXLMTokenizerFast`] (LayoutXLM model)\n",
    "    - **led** -- [`LEDTokenizer`] or [`LEDTokenizerFast`] (LED model)\n",
    "    - **lilt** -- [`LayoutLMv3Tokenizer`] or [`LayoutLMv3TokenizerFast`] (LiLT model)\n",
    "    - **llama** -- [`LlamaTokenizer`] or [`LlamaTokenizerFast`] (LLaMA model)\n",
    "    - **longformer** -- [`LongformerTokenizer`] or [`LongformerTokenizerFast`] (Longformer model)\n",
    "    - **longt5** -- [`T5Tokenizer`] or [`T5TokenizerFast`] (LongT5 model)\n",
    "    - **luke** -- [`LukeTokenizer`] (LUKE model)\n",
    "    - **lxmert** -- [`LxmertTokenizer`] or [`LxmertTokenizerFast`] (LXMERT model)\n",
    "    - **m2m_100** -- [`M2M100Tokenizer`] (M2M100 model)\n",
    "    - **marian** -- [`MarianTokenizer`] (Marian model)\n",
    "    - **mbart** -- [`MBartTokenizer`] or [`MBartTokenizerFast`] (mBART model)\n",
    "    - **mbart50** -- [`MBart50Tokenizer`] or [`MBart50TokenizerFast`] (mBART-50 model)\n",
    "    - **mega** -- [`RobertaTokenizer`] or [`RobertaTokenizerFast`] (MEGA model)\n",
    "    - **megatron-bert** -- [`BertTokenizer`] or [`BertTokenizerFast`] (Megatron-BERT model)\n",
    "    - **mgp-str** -- [`MgpstrTokenizer`] (MGP-STR model)\n",
    "    - **mluke** -- [`MLukeTokenizer`] (mLUKE model)\n",
    "    - **mobilebert** -- [`MobileBertTokenizer`] or [`MobileBertTokenizerFast`] (MobileBERT model)\n",
    "    - **mpnet** -- [`MPNetTokenizer`] or [`MPNetTokenizerFast`] (MPNet model)\n",
    "    - **mt5** -- [`MT5Tokenizer`] or [`MT5TokenizerFast`] (MT5 model)\n",
    "    - **mvp** -- [`MvpTokenizer`] or [`MvpTokenizerFast`] (MVP model)\n",
    "    - **nezha** -- [`BertTokenizer`] or [`BertTokenizerFast`] (Nezha model)\n",
    "    - **nllb** -- [`NllbTokenizer`] or [`NllbTokenizerFast`] (NLLB model)\n",
    "    - **nllb-moe** -- [`NllbTokenizer`] or [`NllbTokenizerFast`] (NLLB-MOE model)\n",
    "    - **nystromformer** -- [`AlbertTokenizer`] or [`AlbertTokenizerFast`] (Nyströmformer model)\n",
    "    - **oneformer** -- [`CLIPTokenizer`] or [`CLIPTokenizerFast`] (OneFormer model)\n",
    "    - **openai-gpt** -- [`OpenAIGPTTokenizer`] or [`OpenAIGPTTokenizerFast`] (OpenAI GPT model)\n",
    "    - **opt** -- [`GPT2Tokenizer`] or [`GPT2TokenizerFast`] (OPT model)\n",
    "    - **owlvit** -- [`CLIPTokenizer`] or [`CLIPTokenizerFast`] (OWL-ViT model)\n",
    "    - **pegasus** -- [`PegasusTokenizer`] or [`PegasusTokenizerFast`] (Pegasus model)\n",
    "    - **pegasus_x** -- [`PegasusTokenizer`] or [`PegasusTokenizerFast`] (PEGASUS-X model)\n",
    "    - **perceiver** -- [`PerceiverTokenizer`] (Perceiver model)\n",
    "    - **phobert** -- [`PhobertTokenizer`] (PhoBERT model)\n",
    "    - **pix2struct** -- [`T5Tokenizer`] or [`T5TokenizerFast`] (Pix2Struct model)\n",
    "    - **plbart** -- [`PLBartTokenizer`] (PLBart model)\n",
    "    - **prophetnet** -- [`ProphetNetTokenizer`] (ProphetNet model)\n",
    "    - **qdqbert** -- [`BertTokenizer`] or [`BertTokenizerFast`] (QDQBert model)\n",
    "    - **rag** -- [`RagTokenizer`] (RAG model)\n",
    "    - **realm** -- [`RealmTokenizer`] or [`RealmTokenizerFast`] (REALM model)\n",
    "    - **reformer** -- [`ReformerTokenizer`] or [`ReformerTokenizerFast`] (Reformer model)\n",
    "    - **rembert** -- [`RemBertTokenizer`] or [`RemBertTokenizerFast`] (RemBERT model)\n",
    "    - **retribert** -- [`RetriBertTokenizer`] or [`RetriBertTokenizerFast`] (RetriBERT model)\n",
    "    - **roberta** -- [`RobertaTokenizer`] or [`RobertaTokenizerFast`] (RoBERTa model)\n",
    "    - **roberta-prelayernorm** -- [`RobertaTokenizer`] or [`RobertaTokenizerFast`] (RoBERTa-PreLayerNorm model)\n",
    "    - **roc_bert** -- [`RoCBertTokenizer`] (RoCBert model)\n",
    "    - **roformer** -- [`RoFormerTokenizer`] or [`RoFormerTokenizerFast`] (RoFormer model)\n",
    "    - **rwkv** -- [`GPTNeoXTokenizerFast`] (RWKV model)\n",
    "    - **speech_to_text** -- [`Speech2TextTokenizer`] (Speech2Text model)\n",
    "    - **speech_to_text_2** -- [`Speech2Text2Tokenizer`] (Speech2Text2 model)\n",
    "    - **speecht5** -- [`SpeechT5Tokenizer`] (SpeechT5 model)\n",
    "    - **splinter** -- [`SplinterTokenizer`] or [`SplinterTokenizerFast`] (Splinter model)\n",
    "    - **squeezebert** -- [`SqueezeBertTokenizer`] or [`SqueezeBertTokenizerFast`] (SqueezeBERT model)\n",
    "    - **switch_transformers** -- [`T5Tokenizer`] or [`T5TokenizerFast`] (SwitchTransformers model)\n",
    "    - **t5** -- [`T5Tokenizer`] or [`T5TokenizerFast`] (T5 model)\n",
    "    - **tapas** -- [`TapasTokenizer`] (TAPAS model)\n",
    "    - **tapex** -- [`TapexTokenizer`] (TAPEX model)\n",
    "    - **transfo-xl** -- [`TransfoXLTokenizer`] (Transformer-XL model)\n",
    "    - **vilt** -- [`BertTokenizer`] or [`BertTokenizerFast`] (ViLT model)\n",
    "    - **visual_bert** -- [`BertTokenizer`] or [`BertTokenizerFast`] (VisualBERT model)\n",
    "    - **wav2vec2** -- [`Wav2Vec2CTCTokenizer`] (Wav2Vec2 model)\n",
    "    - **wav2vec2-conformer** -- [`Wav2Vec2CTCTokenizer`] (Wav2Vec2-Conformer model)\n",
    "    - **wav2vec2_phoneme** -- [`Wav2Vec2PhonemeCTCTokenizer`] (Wav2Vec2Phoneme model)\n",
    "    - **whisper** -- [`WhisperTokenizer`] or [`WhisperTokenizerFast`] (Whisper model)\n",
    "    - **xclip** -- [`CLIPTokenizer`] or [`CLIPTokenizerFast`] (X-CLIP model)\n",
    "    - **xglm** -- [`XGLMTokenizer`] or [`XGLMTokenizerFast`] (XGLM model)\n",
    "    - **xlm** -- [`XLMTokenizer`] (XLM model)\n",
    "    - **xlm-prophetnet** -- [`XLMProphetNetTokenizer`] (XLM-ProphetNet model)\n",
    "    - **xlm-roberta** -- [`XLMRobertaTokenizer`] or [`XLMRobertaTokenizerFast`] (XLM-RoBERTa model)\n",
    "    - **xlm-roberta-xl** -- [`XLMRobertaTokenizer`] or [`XLMRobertaTokenizerFast`] (XLM-RoBERTa-XL model)\n",
    "    - **xlnet** -- [`XLNetTokenizer`] or [`XLNetTokenizerFast`] (XLNet model)\n",
    "    - **xmod** -- [`XLMRobertaTokenizer`] or [`XLMRobertaTokenizerFast`] (X-MOD model)\n",
    "    - **yoso** -- [`AlbertTokenizer`] or [`AlbertTokenizerFast`] (YOSO model)"
   ]
  },
  {
   "cell_type": "markdown",
   "id": "f400f77c-8e7d-402c-8fc3-b2d614dcef63",
   "metadata": {},
   "source": [
    "# 텍스트 생성"
   ]
  },
  {
   "cell_type": "markdown",
   "id": "241bdb5c-5e67-428e-8fb9-c5413e5cff40",
   "metadata": {},
   "source": [
    "jupyter 에서 돌아갈 수 있도록 transformers.pipeline의 옵션 수정\n",
    "\n",
    "- 해결책 1.\n",
    "    - https://stackoverflow.com/questions/73530569/pytorch-matmul-runtimeerror-addmm-impl-cpu-not-implemented-for-half\n",
    "    - 위에서 얻은 답, 데이터 타입을float16이 아닌 float32를 사용\n",
    "\n",
    "- 해결책 2.\n",
    "    - device_map = 'auto'를 사용하지 않음.\n",
    "    - device_map=None 이 default,\n",
    "    - device_map = 'auto'를 하면 gpu 혹은 cpu를 자동으로 잡는데, 이것을 못해서 오류가 난 듯>???"
   ]
  },
  {
   "cell_type": "markdown",
   "id": "4c07d631-7530-4b7e-ae29-53db514cbe0d",
   "metadata": {},
   "source": [
    "## Load a model & tokenizer"
   ]
  },
  {
   "cell_type": "markdown",
   "id": "c2e93d75-0be8-4eaa-bf97-a49f4354b30a",
   "metadata": {},
   "source": [
    "### 1. chat version은 txt 주고 받는 모델"
   ]
  },
  {
   "cell_type": "code",
   "execution_count": 69,
   "id": "054c1247-d20c-4fb4-a31a-9198167645f4",
   "metadata": {},
   "outputs": [],
   "source": [
    "model = \"meta-llama/Llama-2-7b-chat-hf\""
   ]
  },
  {
   "cell_type": "markdown",
   "id": "af522a75-5d53-421f-9e83-dbfd91d32e5c",
   "metadata": {},
   "source": [
    "`AutoTokenizer.from_pretrained`\n",
    "\n",
    "- 사전 훈련된 model 가져와\n",
    "- 인증한 tokenizer를 자동으로 선택하고 사용"
   ]
  },
  {
   "cell_type": "markdown",
   "id": "5865fdd3-040b-46f6-ae27-653f0ca1ea1d",
   "metadata": {},
   "source": [
    "*꼭 모델을 지정해주고 입력, 바로 모델을 pretrainded에 넣으면 에러 뜸*"
   ]
  },
  {
   "cell_type": "code",
   "execution_count": 70,
   "id": "50183d44-5a52-4e0e-bfb6-3584b20a4bbc",
   "metadata": {},
   "outputs": [],
   "source": [
    "tokenizer = AutoTokenizer.from_pretrained(\n",
    "    model,\n",
    "    use_auth_token=True,\n",
    ")"
   ]
  },
  {
   "cell_type": "markdown",
   "id": "29d877f8-83a8-4ad2-835a-25de6df926e2",
   "metadata": {},
   "source": [
    "transformers.pipeline\n",
    "\n",
    "- 사전 훈련된 모델과 tokenizer를 자동으로 선택\n",
    "- `torch_dtype`=torch.float16 데이터 타입 지정\n",
    "- `\"text-generation\"` 쓰면 입력 문장 이어서 텍스트 생성하도록 함.\n",
    "- `device_map=\"auto\"` 쓰면 gpu 혹은 cpu 자동 할당 "
   ]
  },
  {
   "cell_type": "code",
   "execution_count": 71,
   "id": "dbcefe88-9c5a-4236-8613-67784f47f7d5",
   "metadata": {},
   "outputs": [
    {
     "name": "stderr",
     "output_type": "stream",
     "text": [
      "Loading checkpoint shards: 100%|██████████| 2/2 [00:05<00:00,  2.53s/it]\n"
     ]
    }
   ],
   "source": [
    "pipeline = transformers.pipeline(\n",
    "    \"text-generation\",\n",
    "    model=model,\n",
    "    torch_dtype=torch.float32,\n",
    "    # device_map=\"gpu\"\n",
    ")"
   ]
  },
  {
   "cell_type": "markdown",
   "id": "45c59db1-4427-4c32-a540-c235d7f67f01",
   "metadata": {},
   "source": [
    "`\"text-generation\"`이외에 쓸 수 있는 task option 들"
   ]
  },
  {
   "cell_type": "markdown",
   "id": "6ef53af1-cbd8-482b-a5bc-d0e74e3a43fa",
   "metadata": {},
   "source": [
    " task (`str`):\n",
    "            The task defining which pipeline will be returned. Currently accepted tasks are:\n",
    "\n",
    "            - `\"audio-classification\"`: will return a [`AudioClassificationPipeline`].\n",
    "            - `\"automatic-speech-recognition\"`: will return a [`AutomaticSpeechRecognitionPipeline`].\n",
    "            - `\"conversational\"`: will return a [`ConversationalPipeline`].\n",
    "            - `\"depth-estimation\"`: will return a [`DepthEstimationPipeline`].\n",
    "            - `\"document-question-answering\"`: will return a [`DocumentQuestionAnsweringPipeline`].\n",
    "            - `\"feature-extraction\"`: will return a [`FeatureExtractionPipeline`].\n",
    "            - `\"fill-mask\"`: will return a [`FillMaskPipeline`]:.\n",
    "            - `\"image-classification\"`: will return a [`ImageClassificationPipeline`].\n",
    "            - `\"image-segmentation\"`: will return a [`ImageSegmentationPipeline`].\n",
    "            - `\"image-to-text\"`: will return a [`ImageToTextPipeline`].\n",
    "            - `\"mask-generation\"`: will return a [`MaskGenerationPipeline`].\n",
    "            - `\"object-detection\"`: will return a [`ObjectDetectionPipeline`].\n",
    "            - `\"question-answering\"`: will return a [`QuestionAnsweringPipeline`].\n",
    "            - `\"summarization\"`: will return a [`SummarizationPipeline`].\n",
    "            - `\"table-question-answering\"`: will return a [`TableQuestionAnsweringPipeline`].\n",
    "            - `\"text2text-generation\"`: will return a [`Text2TextGenerationPipeline`].\n",
    "            - `\"text-classification\"` (alias `\"sentiment-analysis\"` available): will return a\n",
    "              [`TextClassificationPipeline`].\n",
    "            - `\"text-generation\"`: will return a [`TextGenerationPipeline`]:.\n",
    "            - `\"token-classification\"` (alias `\"ner\"` available): will return a [`TokenClassificationPipeline`].\n",
    "            - `\"translation\"`: will return a [`TranslationPipeline`].\n",
    "            - `\"translation_xx_to_yy\"`: will return a [`TranslationPipeline`].\n",
    "            - `\"video-classification\"`: will return a [`VideoClassificationPipeline`].\n",
    "            - `\"visual-question-answering\"`: will return a [`VisualQuestionAnsweringPipeline`].\n",
    "            - `\"zero-shot-classification\"`: will return a [`ZeroShotClassificationPipeline`].\n",
    "            - `\"zero-shot-image-classification\"`: will return a [`ZeroShotImageClassificationPipeline`].\n",
    "            - `\"zero-shot-audio-classification\"`: will return a [`ZeroShotAudioClassificationPipeline`].\n",
    "            - `\"zero-shot-object-detection\"`: will return a [`ZeroShotObjectDetectionPipeline`]."
   ]
  },
  {
   "cell_type": "code",
   "execution_count": 72,
   "id": "70a1db02-9d06-458e-80b0-ccc6ad3d7117",
   "metadata": {},
   "outputs": [],
   "source": [
    "def gen(x, max_length=200):\n",
    "    sequences = pipeline(\n",
    "        x,\n",
    "        do_sample=True,\n",
    "        top_k=10,\n",
    "        num_return_sequences=1,\n",
    "        eos_token_id=tokenizer.eos_token_id,\n",
    "        max_length=max_length,\n",
    "    )\n",
    "\n",
    "    return sequences[0][\"generated_text\"].replace(x, \"\")"
   ]
  },
  {
   "cell_type": "code",
   "execution_count": 73,
   "id": "3c1b599c-a119-44ec-9c2e-7f272a03bb0a",
   "metadata": {},
   "outputs": [
    {
     "name": "stdout",
     "output_type": "stream",
     "text": [
      "\n",
      "Answer: Yes, definitely! If you enjoyed \"Breaking Bad\" and \"Band of Brothers,\" here are some other shows you might enjoy:\n",
      "\n",
      "1. \"The Sopranos\" - This HBO series is a crime drama that follows the life of a New Jersey mob boss, Tony Soprano, as he navigates the criminal underworld and deals with personal and family issues.\n",
      "\n",
      "2. \"The Wire\" - This HBO series explores the drug trade in Baltimore from multiple perspectives, including law enforcement, drug dealers, and politicians. It's known for its gritty realism and complex characters.\n",
      "\n",
      "3. \"Mad Men\" - Set in the 1960s, this AMC series follows the lives ofбад advertising execut\n"
     ]
    }
   ],
   "source": [
    "print(gen('I liked \"Breaking Bad\" and \"Band of Brothers\". Do you have any recommendations of other shows I might like?\\n'))"
   ]
  },
  {
   "cell_type": "code",
   "execution_count": 74,
   "id": "55228d89-8e25-4afc-b8aa-64ca1de75aae",
   "metadata": {},
   "outputs": [
    {
     "name": "stdout",
     "output_type": "stream",
     "text": [
      "\n",
      "\n",
      "1. 블랙파티 (Black Party) - 약 200만 subscribe, 3000만 조회수\n",
      "2. 프로젝트 (Project) - 약 150만 subscribe, 2000만 조회수\n",
      "3. 파이널 (Final) - 약 100만 subscribe, 1500만 조회수\n"
     ]
    }
   ],
   "source": [
    "print(gen(\"대한민국에서 유명한 인공지능 유튜버 3명만 나열해봐.\", 500))"
   ]
  },
  {
   "cell_type": "code",
   "execution_count": 75,
   "id": "8f6b02e7-24a4-4e48-b09d-28c7008d0f4f",
   "metadata": {},
   "outputs": [
    {
     "name": "stdout",
     "output_type": "stream",
     "text": [
      "\n",
      " (2023-02-17)  \n",
      "\n",
      "👀 빵형의 개발도상국 채널 알아? 🤔\n",
      "\n",
      "💡 YouTube 빵형의 개발도상국 채널 알아? 🎯\n",
      "\n",
      "🔍 빵형의 개발도상국 채널 알아? 🔍\n",
      "\n",
      "📢 빵형의 개발도상국 채널 알아? 📢\n",
      "\n",
      "👉 빵형의 개발도상국 채널 알아? 👈\n",
      "\n",
      "🤝 빵형의 개발도상국 채널 알아? 🤝\n",
      "\n",
      "🎯 빵형의 개발도상국 채널 알아? 🎯\n",
      "\n",
      "👍 빵형의 개발도상국 채널 알아? 👍\n",
      "\n",
      "🤔 빵형의 개발도상국 채널 알아? 🤔\n",
      "\n",
      "👀 빵형의 개발도상국 채널 알아? 👀\n",
      "\n",
      "📢 빵형의 개발도상국 채널 알아? 📢\n",
      "\n",
      "🤝 �\n"
     ]
    }
   ],
   "source": [
    "print(gen(\"유튜브 빵형의 개발도상국 채널 알아?\", 500))"
   ]
  },
  {
   "cell_type": "markdown",
   "id": "de8ba6e1-3e6a-4cf8-a878-b9c2b27d3b15",
   "metadata": {},
   "source": [
    "### 2. 단순 txt 생성하는 모델"
   ]
  },
  {
   "cell_type": "code",
   "execution_count": 64,
   "id": "e6e930d8-4c30-4f09-9ed4-0bc543622f78",
   "metadata": {},
   "outputs": [
    {
     "name": "stderr",
     "output_type": "stream",
     "text": [
      "Loading checkpoint shards: 100%|██████████| 2/2 [00:05<00:00,  2.62s/it]\n"
     ]
    }
   ],
   "source": [
    "model2 = \"meta-llama/Llama-2-7b-hf\"\n",
    "\n",
    "tokenizer2 = AutoTokenizer.from_pretrained(\n",
    "    model2,\n",
    "    use_auth_token=True,\n",
    ")\n",
    "\n",
    "pipeline2 = transformers.pipeline(\n",
    "    \"text-generation\",\n",
    "    model=model2,\n",
    "    torch_dtype=torch.float32,\n",
    "    # device_map=\"auto\",\n",
    ")"
   ]
  },
  {
   "cell_type": "code",
   "execution_count": 65,
   "id": "627dc998-dd32-4053-8789-9d0e3ac89ec3",
   "metadata": {},
   "outputs": [],
   "source": [
    "def gen2(x, max_length=200):\n",
    "    sequences = pipeline2(\n",
    "        x,\n",
    "        do_sample=True,\n",
    "        top_k=10,\n",
    "        num_return_sequences=1,\n",
    "        eos_token_id=tokenizer2.eos_token_id,\n",
    "        max_length=max_length,\n",
    "    )\n",
    "\n",
    "    return sequences[0][\"generated_text\"].replace(x, \"\")"
   ]
  },
  {
   "cell_type": "code",
   "execution_count": 66,
   "id": "ad258ca8-8e8e-437a-8e93-f07ed18874a9",
   "metadata": {},
   "outputs": [
    {
     "name": "stdout",
     "output_type": "stream",
     "text": [
      "I'm a fan of \"The Wire\" and \"The Sopranos\" but I'm not sure if you're into gangster movies.\n",
      "I'm not sure if you're into gangster movies.\n",
      "I'm a fan of \"The Wire\" and \"The Sopranos\"\n",
      "I'm not a big fan of gangster movies. I've seen a few and they are OK but I don't go out of my way to watch them. I'm not sure if I've ever seen \"The Wire\" or \"The Sopranos\".\n",
      "I'm not sure if I've ever seen \"The Wire\" or \"The Sopranos\".\n",
      "I'm a big fan of \"The Wire\" and\n"
     ]
    }
   ],
   "source": [
    "print(gen2('I liked \"Breaking Bad\" and \"Band of Brothers\". Do you have any recommendations of other shows I might like?\\n'))"
   ]
  },
  {
   "cell_type": "markdown",
   "id": "6f1b70bc-c1db-4dd5-964a-b238ed89434b",
   "metadata": {},
   "source": [
    "# feature-extraction"
   ]
  },
  {
   "cell_type": "markdown",
   "id": "fecf62a4-ad43-43ba-af54-980b5d8ed6af",
   "metadata": {},
   "source": [
    "- ref: checkpoint 사용 가능 https://huggingface.co/models?pipeline_tag=feature-extraction"
   ]
  },
  {
   "cell_type": "markdown",
   "id": "88ea35dd-59ff-4daa-9de5-e33587f85a9d",
   "metadata": {},
   "source": [
    "- `checkpoint` 사전 학습된 모델 지정하기, 위에 400개 이상의 모델 존재\n",
    "- `framework=\"pt\"`or - `framework=True`  파이토치 이용하겠다.\n",
    "- `framework=\"tf\"` 라면 텐서플로우 이용하겠다.\n",
    "    - framework 사용할 수 있는 모델..다 적용되지는 않는다."
   ]
  },
  {
   "cell_type": "code",
   "execution_count": 16,
   "id": "80df3051-dec2-48dd-aafd-8e1e94f66ccb",
   "metadata": {},
   "outputs": [],
   "source": [
    "checkpoint = \"facebook/bart-base\"\n",
    "tokenizer = AutoTokenizer.from_pretrained('distilroberta-base')\n",
    "feature_extractor = transformers.pipeline(\"feature-extraction\",framework=\"pt\",model=checkpoint,tokenizer=tokenizer)\n",
    "text = \"Transformers is an awesome library!\""
   ]
  },
  {
   "cell_type": "markdown",
   "id": "58b5f31a-bcb6-4114-a5f5-d45d39695d8a",
   "metadata": {},
   "source": [
    "## 공식 예제"
   ]
  },
  {
   "cell_type": "markdown",
   "id": "785bb381-c881-4faf-8045-d8ad0a68dfb3",
   "metadata": {},
   "source": [
    "### 특징화 1(text에서 특징 추출)"
   ]
  },
  {
   "cell_type": "markdown",
   "id": "45abfa39-0f33-4f4f-9026-7daa2f89e8f5",
   "metadata": {},
   "source": [
    "- 9개의 토큰으로 분리됌.\n",
    "- 768차원"
   ]
  },
  {
   "cell_type": "code",
   "execution_count": 17,
   "id": "827dabe5-3e15-4ad9-8396-294f42dc439a",
   "metadata": {},
   "outputs": [
    {
     "data": {
      "text/plain": [
       "torch.Size([9, 768])"
      ]
     },
     "execution_count": 17,
     "metadata": {},
     "output_type": "execute_result"
    }
   ],
   "source": [
    "#Reducing along the first dimension to get a 768 dimensional array\n",
    "feature_extractor(text,return_tensors = \"pt\")[0].shape"
   ]
  },
  {
   "cell_type": "markdown",
   "id": "f369a81c-806a-4cba-be68-b681755c9c0b",
   "metadata": {},
   "source": [
    "- feature_extractor의 결과는 torch로 지정해줘서 torch 로 나옴"
   ]
  },
  {
   "cell_type": "code",
   "execution_count": 18,
   "id": "8c04f2e4-28b7-4fab-9e9c-ef9f46dc556d",
   "metadata": {},
   "outputs": [
    {
     "data": {
      "text/plain": [
       "(768,)"
      ]
     },
     "execution_count": 18,
     "metadata": {},
     "output_type": "execute_result"
    }
   ],
   "source": [
    "feature_extractor(text,return_tensors = \"pt\")[0].numpy().mean(axis=0).shape"
   ]
  },
  {
   "cell_type": "code",
   "execution_count": 19,
   "id": "d4f97bd1-11db-4f43-b498-9d56642a2775",
   "metadata": {},
   "outputs": [
    {
     "data": {
      "text/plain": [
       "(9,)"
      ]
     },
     "execution_count": 19,
     "metadata": {},
     "output_type": "execute_result"
    }
   ],
   "source": [
    "feature_extractor(text,return_tensors = \"pt\")[0].numpy().mean(axis=1).shape"
   ]
  },
  {
   "cell_type": "markdown",
   "id": "a62155b9-77f1-4ea1-9553-1fb27a9c6643",
   "metadata": {},
   "source": [
    "- 특징 추출"
   ]
  },
  {
   "cell_type": "code",
   "execution_count": 20,
   "id": "7a003a70-642e-4757-8f35-d43e7900c885",
   "metadata": {},
   "outputs": [
    {
     "data": {
      "text/plain": [
       "[<matplotlib.lines.Line2D at 0x7efc883d8580>]"
      ]
     },
     "execution_count": 20,
     "metadata": {},
     "output_type": "execute_result"
    },
    {
     "data": {
      "image/png": "[encoded data removed]",
      "text/plain": [
       "<Figure size 432x288 with 1 Axes>"
      ]
     },
     "metadata": {
      "needs_background": "light"
     },
     "output_type": "display_data"
    }
   ],
   "source": [
    "plt.plot(feature_extractor(text,return_tensors = \"pt\")[0].numpy().mean(axis=0)) # 특징 추출"
   ]
  },
  {
   "cell_type": "code",
   "execution_count": 21,
   "id": "15c7f82b-0969-4934-90be-4cfc9f98cccd",
   "metadata": {},
   "outputs": [
    {
     "data": {
      "text/html": [
       "<div>\n",
       "<style scoped>\n",
       "    .dataframe tbody tr th:only-of-type {\n",
       "        vertical-align: middle;\n",
       "    }\n",
       "\n",
       "    .dataframe tbody tr th {\n",
       "        vertical-align: top;\n",
       "    }\n",
       "\n",
       "    .dataframe thead th {\n",
       "        text-align: right;\n",
       "    }\n",
       "</style>\n",
       "<table border=\"1\" class=\"dataframe\">\n",
       "  <thead>\n",
       "    <tr style=\"text-align: right;\">\n",
       "      <th></th>\n",
       "      <th>0</th>\n",
       "    </tr>\n",
       "  </thead>\n",
       "  <tbody>\n",
       "    <tr>\n",
       "      <th>count</th>\n",
       "      <td>768.000000</td>\n",
       "    </tr>\n",
       "    <tr>\n",
       "      <th>mean</th>\n",
       "      <td>0.083737</td>\n",
       "    </tr>\n",
       "    <tr>\n",
       "      <th>std</th>\n",
       "      <td>0.882607</td>\n",
       "    </tr>\n",
       "    <tr>\n",
       "      <th>min</th>\n",
       "      <td>-4.869781</td>\n",
       "    </tr>\n",
       "    <tr>\n",
       "      <th>25%</th>\n",
       "      <td>-0.423363</td>\n",
       "    </tr>\n",
       "    <tr>\n",
       "      <th>50%</th>\n",
       "      <td>0.095451</td>\n",
       "    </tr>\n",
       "    <tr>\n",
       "      <th>75%</th>\n",
       "      <td>0.632395</td>\n",
       "    </tr>\n",
       "    <tr>\n",
       "      <th>max</th>\n",
       "      <td>2.976899</td>\n",
       "    </tr>\n",
       "  </tbody>\n",
       "</table>\n",
       "</div>"
      ],
      "text/plain": [
       "                0\n",
       "count  768.000000\n",
       "mean     0.083737\n",
       "std      0.882607\n",
       "min     -4.869781\n",
       "25%     -0.423363\n",
       "50%      0.095451\n",
       "75%      0.632395\n",
       "max      2.976899"
      ]
     },
     "execution_count": 21,
     "metadata": {},
     "output_type": "execute_result"
    }
   ],
   "source": [
    "pd.DataFrame(feature_extractor(text,return_tensors = \"pt\")[0].numpy().mean(axis=0)).describe()"
   ]
  },
  {
   "cell_type": "code",
   "execution_count": 52,
   "id": "9950bafb-6817-4c71-913e-4e8c80f4f2b4",
   "metadata": {},
   "outputs": [
    {
     "data": {
      "text/plain": [
       "array([0.04353118, 0.07581159, 0.0764325 , 0.09305001, 0.08523342,\n",
       "       0.09044287, 0.09453633, 0.09341192, 0.10118499], dtype=float32)"
      ]
     },
     "execution_count": 52,
     "metadata": {},
     "output_type": "execute_result"
    }
   ],
   "source": [
    "feature_extractor(text,return_tensors = \"pt\")[0].numpy().mean(axis=1)"
   ]
  },
  {
   "cell_type": "code",
   "execution_count": 57,
   "id": "38a26d7f-e51a-4990-a11e-7ea7cdb79b81",
   "metadata": {},
   "outputs": [
    {
     "data": {
      "text/plain": [
       "array([0.04564792, 0.0685828 , 0.09174387, 0.08442586, 0.09680472,\n",
       "       0.0981098 ])"
      ]
     },
     "execution_count": 57,
     "metadata": {},
     "output_type": "execute_result"
    }
   ],
   "source": [
    "np.array(feature_extractor.predict(\"I do not know\")[0]).mean(axis=1)"
   ]
  },
  {
   "cell_type": "markdown",
   "id": "de978d0d-47ca-415a-a7d2-833b3cffa1cb",
   "metadata": {},
   "source": [
    "### 특징화 2(토큰화한 후 특징 추출)"
   ]
  },
  {
   "cell_type": "code",
   "execution_count": 25,
   "id": "99729ec1-c61d-4215-ae1c-471e797179ba",
   "metadata": {},
   "outputs": [
    {
     "name": "stderr",
     "output_type": "stream",
     "text": [
      "Truncation was not explicitly activated but `max_length` is provided a specific value, please use `truncation=True` to explicitly truncate examples to max length. Defaulting to 'longest_first' truncation strategy. If you encode pairs of sequences (GLUE-style) with the tokenizer you can select this strategy more precisely by providing a specific strategy to `truncation`.\n"
     ]
    },
    {
     "data": {
      "text/plain": [
       "{'input_ids': tensor([[    0, 44820,   268,    16,    41,  6344,  5560,   328,     2]]), 'attention_mask': tensor([[1, 1, 1, 1, 1, 1, 1, 1, 1]])}"
      ]
     },
     "execution_count": 25,
     "metadata": {},
     "output_type": "execute_result"
    }
   ],
   "source": [
    "inputs = tokenizer(text,return_tensors=\"pt\",max_length=9);inputs"
   ]
  },
  {
   "cell_type": "code",
   "execution_count": 26,
   "id": "d8397645-c64e-4a03-8aeb-35526b0a7886",
   "metadata": {},
   "outputs": [
    {
     "data": {
      "text/plain": [
       "(9, 9)"
      ]
     },
     "execution_count": 26,
     "metadata": {},
     "output_type": "execute_result"
    }
   ],
   "source": [
    "len(inputs.input_ids[0]), len(inputs.attention_mask[0])"
   ]
  },
  {
   "cell_type": "code",
   "execution_count": 27,
   "id": "25770e01-e6e4-4dad-b40f-dd69b444ccf1",
   "metadata": {},
   "outputs": [
    {
     "data": {
      "text/plain": [
       "Encoding(num_tokens=9, attributes=[ids, type_ids, tokens, offsets, attention_mask, special_tokens_mask, overflowing])"
      ]
     },
     "execution_count": 27,
     "metadata": {},
     "output_type": "execute_result"
    }
   ],
   "source": [
    "inputs[0]"
   ]
  },
  {
   "cell_type": "code",
   "execution_count": 28,
   "id": "d5efe3dd-3e77-4b92-843f-a25957314533",
   "metadata": {},
   "outputs": [
    {
     "data": {
      "text/plain": [
       "'<s>Transformers is an awesome library!</s>'"
      ]
     },
     "execution_count": 28,
     "metadata": {},
     "output_type": "execute_result"
    }
   ],
   "source": [
    "tokenizer.decode(inputs.input_ids[0])"
   ]
  },
  {
   "cell_type": "markdown",
   "id": "3c94b404-342a-4b6e-bd8d-3475d25e912a",
   "metadata": {},
   "source": [
    "- 특징 추출(outputs[0][0]~outputs[0][4] 까지 존재)"
   ]
  },
  {
   "cell_type": "code",
   "execution_count": 29,
   "id": "9abab761-92a0-4a29-a74c-e41f4db2d26a",
   "metadata": {},
   "outputs": [
    {
     "name": "stderr",
     "output_type": "stream",
     "text": [
      "Ignoring args : ('attention_mask',)\n"
     ]
    },
    {
     "data": {
      "text/plain": [
       "[<matplotlib.lines.Line2D at 0x7efc859d55e0>]"
      ]
     },
     "execution_count": 29,
     "metadata": {},
     "output_type": "execute_result"
    },
    {
     "data": {
      "image/png": "[encoded data removed]",
      "text/plain": [
       "<Figure size 432x288 with 1 Axes>"
      ]
     },
     "metadata": {
      "needs_background": "light"
     },
     "output_type": "display_data"
    }
   ],
   "source": [
    "outputs = feature_extractor(*inputs);plt.plot(outputs[0][0])"
   ]
  },
  {
   "cell_type": "code",
   "execution_count": 30,
   "id": "01774365-2729-420d-a4e3-65881296491d",
   "metadata": {},
   "outputs": [
    {
     "data": {
      "text/plain": [
       "768"
      ]
     },
     "execution_count": 30,
     "metadata": {},
     "output_type": "execute_result"
    }
   ],
   "source": [
    "len(outputs[0][0])"
   ]
  },
  {
   "cell_type": "markdown",
   "id": "3c54b046-fe89-4a2b-ad9f-25135956f3c2",
   "metadata": {},
   "source": [
    "# Fine-tuning"
   ]
  },
  {
   "cell_type": "markdown",
   "id": "3b8e394b-d360-4109-ac1c-48c47436a4f5",
   "metadata": {},
   "source": [
    "https://github.com/facebookresearch/llama-recipes"
   ]
  },
  {
   "cell_type": "code",
   "execution_count": null,
   "id": "7c8254dc-6fef-415b-8fb8-4f417c9b47b8",
   "metadata": {},
   "outputs": [],
   "source": []
  },
  {
   "cell_type": "code",
   "execution_count": null,
   "id": "91d35d1a-b294-4e1a-bee0-ec8a2c7ad456",
   "metadata": {},
   "outputs": [],
   "source": []
  },
  {
   "cell_type": "code",
   "execution_count": null,
   "id": "6089aa5d-f6fb-4d16-ad51-0af87e3850ab",
   "metadata": {},
   "outputs": [],
   "source": []
  }
 ],
 "metadata": {
  "kernelspec": {
   "display_name": "Python 3 (ipykernel)",
   "language": "python",
   "name": "python3"
  },
  "language_info": {
   "codemirror_mode": {
    "name": "ipython",
    "version": 3
   },
   "file_extension": ".py",
   "mimetype": "text/x-python",
   "name": "python",
   "nbconvert_exporter": "python",
   "pygments_lexer": "ipython3",
   "version": "3.11.4"
  }
 },
 "nbformat": 4,
 "nbformat_minor": 5
}

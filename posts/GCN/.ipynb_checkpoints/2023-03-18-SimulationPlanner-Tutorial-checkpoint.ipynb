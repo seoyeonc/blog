{
 "cells": [
  {
   "cell_type": "raw",
   "id": "43e511fe-f020-4da6-a9ca-f80abb6cddbf",
   "metadata": {
    "id": "cac470df-29e7-4148-9bbd-d8b9a32fa570",
    "tags": []
   },
   "source": [
    "---\n",
    "title: \"SimualtionPlanner-Tutorial\"\n",
    "author: \"SEOYEON CHOI\"\n",
    "date: \"2023-03-18\"\n",
    "categories:\n",
    "  - ST-GCN\n",
    "---"
   ]
  },
  {
   "cell_type": "markdown",
   "id": "edd8b536-1515-4b51-9a99-95974bad6c75",
   "metadata": {},
   "source": [
    "# imports"
   ]
  },
  {
   "cell_type": "code",
   "execution_count": 22,
   "id": "b0c2e707-a477-4cbd-b8ff-3dd35c65266e",
   "metadata": {},
   "outputs": [],
   "source": [
    "import itstgcn\n",
    "import torch\n",
    "import itstgcn.planner "
   ]
  },
  {
   "cell_type": "markdown",
   "id": "9831dd41-f751-46de-a7c5-927d1a82cb3b",
   "metadata": {},
   "source": [
    "# read data"
   ]
  },
  {
   "cell_type": "code",
   "execution_count": 23,
   "id": "32330e84-252e-4009-8076-cd44cd9704cd",
   "metadata": {},
   "outputs": [],
   "source": [
    "_data = itstgcn.load_data('./data/fivenodes.pkl')\n",
    "_edges = torch.tensor(_data['edges']).nonzero().tolist()\n",
    "_FX = _data['f'].tolist()\n",
    "_node_ids = {'node1':0, 'node2':1, 'node3':2, 'node4':3, 'node5':4} \n",
    "data_dict = {'edges':_edges, 'node_ids':_node_ids, 'FX':_FX}\n",
    "loader = itstgcn.DatasetLoader(data_dict)"
   ]
  },
  {
   "cell_type": "markdown",
   "id": "ec8a3c6f-83fa-4b5a-bb13-7cad1a5fe803",
   "metadata": {},
   "source": [
    "## PLNR_STGCN_RAND"
   ]
  },
  {
   "cell_type": "code",
   "execution_count": 24,
   "id": "85a34aef-fbcf-4099-b30d-7c482eb1c799",
   "metadata": {},
   "outputs": [],
   "source": [
    "plans_stgcn_rand = {\n",
    "    'max_iteration': 2, \n",
    "    'method': ['STGCN', 'IT-STGCN'], \n",
    "    'mrate': [0.0, 0.2],\n",
    "    'lags': [2, 4], \n",
    "    'nof_filters': [4, 8], \n",
    "    'inter_method': ['nearest'],\n",
    "    'epoch': [3]\n",
    "}"
   ]
  },
  {
   "cell_type": "code",
   "execution_count": 25,
   "id": "75b50571-546d-448a-9479-750ba3d127f5",
   "metadata": {},
   "outputs": [],
   "source": [
    "plnr = itstgcn.planner.PLNR_STGCN_RAND(plans_stgcn_rand,loader,dataset_name='five_nodes')"
   ]
  },
  {
   "cell_type": "code",
   "execution_count": 26,
   "id": "52a4b08f-9894-4e37-b515-27146639c559",
   "metadata": {},
   "outputs": [
    {
     "name": "stdout",
     "output_type": "stream",
     "text": [
      "1/2 is done\n",
      "2/2 is done\n",
      "All results are stored in ./simulation_results/2023-03-18_11-56-03.csv\n"
     ]
    }
   ],
   "source": [
    "plnr.simulate()"
   ]
  },
  {
   "cell_type": "markdown",
   "id": "60bdffed-7236-4c53-9749-f28e161b5c0c",
   "metadata": {},
   "source": [
    "## PLNR_STGCN_MANUAL"
   ]
  },
  {
   "cell_type": "code",
   "execution_count": 27,
   "id": "426dd25a-d198-4b0e-be4b-24c028c11fc1",
   "metadata": {},
   "outputs": [],
   "source": [
    "_data = itstgcn.load_data('./data/fivenodes.pkl')\n",
    "_edges = torch.tensor(_data['edges']).nonzero().tolist()\n",
    "_FX = _data['f'].tolist()\n",
    "_node_ids = {'node1':0, 'node2':1, 'node3':2, 'node4':3, 'node5':4} \n",
    "data_dict = {'edges':_edges, 'node_ids':_node_ids, 'FX':_FX}\n",
    "loader = itstgcn.DatasetLoader(data_dict)"
   ]
  },
  {
   "cell_type": "code",
   "execution_count": 28,
   "id": "9415555a-5de6-43fd-99ee-59f501fe45fa",
   "metadata": {},
   "outputs": [],
   "source": [
    "mindex= [list(range(10,100)),[],list(range(50,80)),[],[]]\n",
    "plans_stgcn_block = {\n",
    "    'max_iteration': 3, \n",
    "    'method': ['STGCN', 'IT-STGCN'], \n",
    "    'mindex': [mindex],\n",
    "    'lags': [2, 4], \n",
    "    'nof_filters': [8,16], \n",
    "    'inter_method': ['nearest','linear'],\n",
    "    'epoch': [1]\n",
    "}"
   ]
  },
  {
   "cell_type": "code",
   "execution_count": 29,
   "id": "0e7ea177-9e4e-4f87-8265-db5161d40d70",
   "metadata": {},
   "outputs": [],
   "source": [
    "plnr = itstgcn.planner.PLNR_STGCN_MANUAL(plans_stgcn_block,loader,dataset_name='five_nodes')"
   ]
  },
  {
   "cell_type": "code",
   "execution_count": 30,
   "id": "94e645c6-7c31-4aa1-9024-ab90a3a6e886",
   "metadata": {},
   "outputs": [
    {
     "name": "stdout",
     "output_type": "stream",
     "text": [
      "1/3 is done\n",
      "2/3 is done\n",
      "3/3 is done\n",
      "All results are stored in ./simulation_results/2023-03-18_11-56-55.csv\n"
     ]
    }
   ],
   "source": [
    "plnr.simulate(mindex=mindex,mtype='block')"
   ]
  },
  {
   "cell_type": "markdown",
   "id": "78d4a03e-ee3e-4395-917a-a3a670a48f2e",
   "metadata": {},
   "source": [
    "## PLNR_GNAR_RAND"
   ]
  },
  {
   "cell_type": "code",
   "execution_count": 31,
   "id": "3926b3bb-6dfb-4cc6-9cba-f8ed8163a49a",
   "metadata": {},
   "outputs": [],
   "source": [
    "_data = itstgcn.load_data('./data/fivenodes.pkl')\n",
    "_edges = torch.tensor(_data['edges']).nonzero().tolist()\n",
    "_FX = _data['f'].tolist()\n",
    "_node_ids = {'node1':0, 'node2':1, 'node3':2, 'node4':3, 'node5':4} \n",
    "data_dict = {'edges':_edges, 'node_ids':_node_ids, 'FX':_FX}\n",
    "loader = itstgcn.DatasetLoader(data_dict)"
   ]
  },
  {
   "cell_type": "code",
   "execution_count": 32,
   "id": "5bb50c50-5323-43a1-9b47-2bbbac309b05",
   "metadata": {},
   "outputs": [],
   "source": [
    "plans_gnar_rand = {\n",
    "    'max_iteration': 3, \n",
    "#    'method': ['GNAR'], \n",
    "    'mrate': [0.0, 0.2, 0.4],\n",
    "    'lags': [2, 4], \n",
    "#    'nof_filters': [8,16], \n",
    "    'inter_method': ['nearest','linear'],\n",
    "#    'epoch': [1]\n",
    "}"
   ]
  },
  {
   "cell_type": "code",
   "execution_count": 33,
   "id": "0a7bb64b-95b6-4550-824b-063540279276",
   "metadata": {},
   "outputs": [
    {
     "name": "stdout",
     "output_type": "stream",
     "text": [
      "WARNING: diagonal entries present in original matrix, these will be removed\n",
      "WARNING: diagonal entries present in original matrix, these will be removed\n",
      "WARNING: diagonal entries present in original matrix, these will be removed\n",
      "WARNING: diagonal entries present in original matrix, these will be removed\n",
      "WARNING: diagonal entries present in original matrix, these will be removed\n",
      "WARNING: diagonal entries present in original matrix, these will be removed\n",
      "WARNING: diagonal entries present in original matrix, these will be removed\n",
      "WARNING: diagonal entries present in original matrix, these will be removed\n",
      "WARNING: diagonal entries present in original matrix, these will be removed\n",
      "WARNING: diagonal entries present in original matrix, these will be removed\n",
      "WARNING: diagonal entries present in original matrix, these will be removed\n",
      "WARNING: diagonal entries present in original matrix, these will be removed\n",
      "WARNING: diagonal entries present in original matrix, these will be removed\n",
      "WARNING: diagonal entries present in original matrix, these will be removed\n",
      "WARNING: diagonal entries present in original matrix, these will be removed\n",
      "WARNING: diagonal entries present in original matrix, these will be removed\n",
      "WARNING: diagonal entries present in original matrix, these will be removed\n",
      "WARNING: diagonal entries present in original matrix, these will be removed\n",
      "WARNING: diagonal entries present in original matrix, these will be removed\n",
      "WARNING: diagonal entries present in original matrix, these will be removed\n",
      "WARNING: diagonal entries present in original matrix, these will be removed\n",
      "WARNING: diagonal entries present in original matrix, these will be removed\n",
      "WARNING: diagonal entries present in original matrix, these will be removed\n",
      "WARNING: diagonal entries present in original matrix, these will be removed\n",
      "WARNING: diagonal entries present in original matrix, these will be removed\n",
      "WARNING: diagonal entries present in original matrix, these will be removed\n",
      "WARNING: diagonal entries present in original matrix, these will be removed\n",
      "WARNING: diagonal entries present in original matrix, these will be removed\n",
      "WARNING: diagonal entries present in original matrix, these will be removed\n",
      "WARNING: diagonal entries present in original matrix, these will be removed\n",
      "WARNING: diagonal entries present in original matrix, these will be removed\n",
      "WARNING: diagonal entries present in original matrix, these will be removed\n",
      "WARNING: diagonal entries present in original matrix, these will be removed\n",
      "WARNING: diagonal entries present in original matrix, these will be removed\n",
      "WARNING: diagonal entries present in original matrix, these will be removed\n",
      "WARNING: diagonal entries present in original matrix, these will be removed\n",
      "1/3 is done\n",
      "WARNING: diagonal entries present in original matrix, these will be removed\n",
      "WARNING: diagonal entries present in original matrix, these will be removed\n",
      "WARNING: diagonal entries present in original matrix, these will be removed\n",
      "WARNING: diagonal entries present in original matrix, these will be removed\n",
      "WARNING: diagonal entries present in original matrix, these will be removed\n",
      "WARNING: diagonal entries present in original matrix, these will be removed\n",
      "WARNING: diagonal entries present in original matrix, these will be removed\n",
      "WARNING: diagonal entries present in original matrix, these will be removed\n",
      "WARNING: diagonal entries present in original matrix, these will be removed\n",
      "WARNING: diagonal entries present in original matrix, these will be removed\n",
      "WARNING: diagonal entries present in original matrix, these will be removed\n",
      "WARNING: diagonal entries present in original matrix, these will be removed\n",
      "WARNING: diagonal entries present in original matrix, these will be removed\n",
      "WARNING: diagonal entries present in original matrix, these will be removed\n",
      "WARNING: diagonal entries present in original matrix, these will be removed\n",
      "WARNING: diagonal entries present in original matrix, these will be removed\n",
      "WARNING: diagonal entries present in original matrix, these will be removed\n",
      "WARNING: diagonal entries present in original matrix, these will be removed\n",
      "WARNING: diagonal entries present in original matrix, these will be removed\n",
      "WARNING: diagonal entries present in original matrix, these will be removed\n",
      "WARNING: diagonal entries present in original matrix, these will be removed\n",
      "WARNING: diagonal entries present in original matrix, these will be removed\n",
      "WARNING: diagonal entries present in original matrix, these will be removed\n",
      "WARNING: diagonal entries present in original matrix, these will be removed\n",
      "WARNING: diagonal entries present in original matrix, these will be removed\n",
      "WARNING: diagonal entries present in original matrix, these will be removed\n",
      "WARNING: diagonal entries present in original matrix, these will be removed\n",
      "WARNING: diagonal entries present in original matrix, these will be removed\n",
      "WARNING: diagonal entries present in original matrix, these will be removed\n",
      "WARNING: diagonal entries present in original matrix, these will be removed\n",
      "WARNING: diagonal entries present in original matrix, these will be removed\n",
      "WARNING: diagonal entries present in original matrix, these will be removed\n",
      "WARNING: diagonal entries present in original matrix, these will be removed\n",
      "WARNING: diagonal entries present in original matrix, these will be removed\n",
      "WARNING: diagonal entries present in original matrix, these will be removed\n",
      "WARNING: diagonal entries present in original matrix, these will be removed\n",
      "2/3 is done\n",
      "WARNING: diagonal entries present in original matrix, these will be removed\n",
      "WARNING: diagonal entries present in original matrix, these will be removed\n",
      "WARNING: diagonal entries present in original matrix, these will be removed\n",
      "WARNING: diagonal entries present in original matrix, these will be removed\n",
      "WARNING: diagonal entries present in original matrix, these will be removed\n",
      "WARNING: diagonal entries present in original matrix, these will be removed\n",
      "WARNING: diagonal entries present in original matrix, these will be removed\n",
      "WARNING: diagonal entries present in original matrix, these will be removed\n",
      "WARNING: diagonal entries present in original matrix, these will be removed\n",
      "WARNING: diagonal entries present in original matrix, these will be removed\n",
      "WARNING: diagonal entries present in original matrix, these will be removed\n",
      "WARNING: diagonal entries present in original matrix, these will be removed\n",
      "WARNING: diagonal entries present in original matrix, these will be removed\n",
      "WARNING: diagonal entries present in original matrix, these will be removed\n",
      "WARNING: diagonal entries present in original matrix, these will be removed\n",
      "WARNING: diagonal entries present in original matrix, these will be removed\n",
      "WARNING: diagonal entries present in original matrix, these will be removed\n",
      "WARNING: diagonal entries present in original matrix, these will be removed\n",
      "WARNING: diagonal entries present in original matrix, these will be removed\n",
      "WARNING: diagonal entries present in original matrix, these will be removed\n",
      "WARNING: diagonal entries present in original matrix, these will be removed\n",
      "WARNING: diagonal entries present in original matrix, these will be removed\n",
      "WARNING: diagonal entries present in original matrix, these will be removed\n",
      "WARNING: diagonal entries present in original matrix, these will be removed\n",
      "WARNING: diagonal entries present in original matrix, these will be removed\n",
      "WARNING: diagonal entries present in original matrix, these will be removed\n",
      "WARNING: diagonal entries present in original matrix, these will be removed\n",
      "WARNING: diagonal entries present in original matrix, these will be removed\n",
      "WARNING: diagonal entries present in original matrix, these will be removed\n",
      "WARNING: diagonal entries present in original matrix, these will be removed\n",
      "WARNING: diagonal entries present in original matrix, these will be removed\n",
      "WARNING: diagonal entries present in original matrix, these will be removed\n",
      "WARNING: diagonal entries present in original matrix, these will be removed\n",
      "WARNING: diagonal entries present in original matrix, these will be removed\n",
      "WARNING: diagonal entries present in original matrix, these will be removed\n",
      "WARNING: diagonal entries present in original matrix, these will be removed\n",
      "3/3 is done\n",
      "All results are stored in ./simulation_results/2023-03-18_11-56-56.csv\n"
     ]
    }
   ],
   "source": [
    "plnr = itstgcn.planner.PLNR_GNAR_RAND(plans_gnar_rand,loader,dataset_name='five_nodes')\n",
    "plnr.simulate()"
   ]
  },
  {
   "cell_type": "markdown",
   "id": "f1c4fc60-b552-4cb0-990d-40ab420d2188",
   "metadata": {},
   "source": [
    "## PLNR_GNAR_BLOCK"
   ]
  },
  {
   "cell_type": "code",
   "execution_count": 34,
   "id": "f3d394fb-2e5f-4b39-9538-822986c1cc36",
   "metadata": {},
   "outputs": [],
   "source": [
    "_data = itstgcn.load_data('./data/fivenodes.pkl')\n",
    "_edges = torch.tensor(_data['edges']).nonzero().tolist()\n",
    "_FX = _data['f'].tolist()\n",
    "_node_ids = {'node1':0, 'node2':1, 'node3':2, 'node4':3, 'node5':4} \n",
    "data_dict = {'edges':_edges, 'node_ids':_node_ids, 'FX':_FX}\n",
    "loader = itstgcn.DatasetLoader(data_dict)"
   ]
  },
  {
   "cell_type": "code",
   "execution_count": 35,
   "id": "f18eaef3-c133-4950-9b89-93bb32b17681",
   "metadata": {},
   "outputs": [],
   "source": [
    "mindex = [list(range(10,100)),[],list(range(50,80)),[],[]]\n",
    "plans_gnar_block = {\n",
    "    'max_iteration': 3, \n",
    "    'method': ['GNAR'], \n",
    "    'mindex': [mindex],\n",
    "    'lags': [2, 4], \n",
    "    'inter_method': ['nearest','linear'],\n",
    "}"
   ]
  },
  {
   "cell_type": "code",
   "execution_count": 36,
   "id": "8927c785-de8a-4740-95e6-2f720658f3d5",
   "metadata": {},
   "outputs": [
    {
     "name": "stdout",
     "output_type": "stream",
     "text": [
      "WARNING: diagonal entries present in original matrix, these will be removed\n",
      "WARNING: diagonal entries present in original matrix, these will be removed\n",
      "WARNING: diagonal entries present in original matrix, these will be removed\n",
      "WARNING: diagonal entries present in original matrix, these will be removed\n",
      "WARNING: diagonal entries present in original matrix, these will be removed\n",
      "WARNING: diagonal entries present in original matrix, these will be removed\n",
      "WARNING: diagonal entries present in original matrix, these will be removed\n",
      "WARNING: diagonal entries present in original matrix, these will be removed\n",
      "WARNING: diagonal entries present in original matrix, these will be removed\n",
      "WARNING: diagonal entries present in original matrix, these will be removed\n",
      "WARNING: diagonal entries present in original matrix, these will be removed\n",
      "WARNING: diagonal entries present in original matrix, these will be removed\n",
      "1/3 is done\n",
      "WARNING: diagonal entries present in original matrix, these will be removed\n",
      "WARNING: diagonal entries present in original matrix, these will be removed\n",
      "WARNING: diagonal entries present in original matrix, these will be removed\n",
      "WARNING: diagonal entries present in original matrix, these will be removed\n",
      "WARNING: diagonal entries present in original matrix, these will be removed\n",
      "WARNING: diagonal entries present in original matrix, these will be removed\n",
      "WARNING: diagonal entries present in original matrix, these will be removed\n",
      "WARNING: diagonal entries present in original matrix, these will be removed\n",
      "WARNING: diagonal entries present in original matrix, these will be removed\n",
      "WARNING: diagonal entries present in original matrix, these will be removed\n",
      "WARNING: diagonal entries present in original matrix, these will be removed\n",
      "WARNING: diagonal entries present in original matrix, these will be removed\n",
      "2/3 is done\n",
      "WARNING: diagonal entries present in original matrix, these will be removed\n",
      "WARNING: diagonal entries present in original matrix, these will be removed\n",
      "WARNING: diagonal entries present in original matrix, these will be removed\n",
      "WARNING: diagonal entries present in original matrix, these will be removed\n",
      "WARNING: diagonal entries present in original matrix, these will be removed\n",
      "WARNING: diagonal entries present in original matrix, these will be removed\n",
      "WARNING: diagonal entries present in original matrix, these will be removed\n",
      "WARNING: diagonal entries present in original matrix, these will be removed\n",
      "WARNING: diagonal entries present in original matrix, these will be removed\n",
      "WARNING: diagonal entries present in original matrix, these will be removed\n",
      "WARNING: diagonal entries present in original matrix, these will be removed\n",
      "WARNING: diagonal entries present in original matrix, these will be removed\n",
      "3/3 is done\n",
      "All results are stored in ./simulation_results/2023-03-18_11-56-57.csv\n"
     ]
    }
   ],
   "source": [
    "plnr = itstgcn.planner.PLNR_GNAR_MANUAL(plans_gnar_block,loader,dataset_name='five_nodes')\n",
    "plnr.simulate(mindex,mtype='block')"
   ]
  }
 ],
 "metadata": {
  "kernelspec": {
   "display_name": "Python 3 (ipykernel)",
   "language": "python",
   "name": "python3"
  },
  "language_info": {
   "codemirror_mode": {
    "name": "ipython",
    "version": 3
   },
   "file_extension": ".py",
   "mimetype": "text/x-python",
   "name": "python",
   "nbconvert_exporter": "python",
   "pygments_lexer": "ipython3",
   "version": "3.8.12"
  }
 },
 "nbformat": 4,
 "nbformat_minor": 5
}

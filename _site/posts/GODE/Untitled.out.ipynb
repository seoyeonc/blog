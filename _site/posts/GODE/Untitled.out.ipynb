{
  "cells": [
    {
      "cell_type": "markdown",
      "metadata": {},
      "source": [
        "#"
      ],
      "id": "04effb76-9602-4e05-978f-3952084a0d94"
    },
    {
      "cell_type": "code",
      "execution_count": 72,
      "metadata": {},
      "outputs": [],
      "source": [
        "import numpy as np"
      ],
      "id": "d88f93e5-f1bb-4091-81d3-eaeb384d2d33"
    },
    {
      "cell_type": "code",
      "execution_count": 2,
      "metadata": {},
      "outputs": [],
      "source": [
        "a=10\n",
        "b=20\n",
        "n=200"
      ],
      "id": "521b1bad-7864-4790-9c65-7684075b6b56"
    },
    {
      "cell_type": "code",
      "execution_count": 66,
      "metadata": {},
      "outputs": [],
      "source": [
        "arr1 = np.array([a+(b-a)/(n-1) * (i-1) for i in range(1,n+1)])"
      ],
      "id": "33147d59-c9a4-4d8d-841d-2a04a0a34bdb"
    },
    {
      "cell_type": "markdown",
      "metadata": {},
      "source": [
        "$$a+\\frac{(b-a)i}{n-1}$$ for $i=1,2,3,\\dots, n$"
      ],
      "id": "4ee738ad-2bf9-498f-9e90-9a3a5da1d4d5"
    },
    {
      "cell_type": "code",
      "execution_count": 67,
      "metadata": {},
      "outputs": [],
      "source": [
        "arr2 = np.linspace(a,b,n)"
      ],
      "id": "0a53827e-dfd7-49a0-a724-cb1755fc7eb6"
    },
    {
      "cell_type": "code",
      "execution_count": 68,
      "metadata": {},
      "outputs": [],
      "source": [
        "arr1[:5]"
      ],
      "id": "dc4f7738-106a-4e54-bdab-842e8f35651a"
    },
    {
      "cell_type": "code",
      "execution_count": 69,
      "metadata": {},
      "outputs": [],
      "source": [
        "arr2[:5]"
      ],
      "id": "48219e30-2d38-43e8-94e9-624942af00be"
    }
  ],
  "nbformat": 4,
  "nbformat_minor": 5,
  "metadata": {
    "kernelspec": {
      "name": "python3",
      "display_name": "Python 3 (ipykernel)",
      "language": "python"
    },
    "language_info": {
      "name": "python",
      "codemirror_mode": {
        "name": "ipython",
        "version": "3"
      },
      "file_extension": ".py",
      "mimetype": "text/x-python",
      "nbconvert_exporter": "python",
      "pygments_lexer": "ipython3",
      "version": "3.8.12"
    }
  }
}
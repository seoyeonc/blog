{
  "cells": [
    {
      "cell_type": "markdown",
      "metadata": {},
      "source": [
        "# Stock on Graph\n",
        "\n",
        "SEOYEON CHOI  \n",
        "7/8/23\n",
        "\n",
        "# Import"
      ],
      "id": "49119ec3-556d-453b-a6bb-c0708a781794"
    },
    {
      "cell_type": "code",
      "execution_count": 1,
      "metadata": {},
      "outputs": [],
      "source": [
        "import tqdm\n",
        "import numpy as np\n",
        "import pandas as pd\n",
        "import matplotlib.pyplot as plt \n",
        "import plotly.express as px\n",
        "import warnings\n",
        "warnings.simplefilter(\"ignore\", np.ComplexWarning)\n",
        "from haversine import haversine\n",
        "from IPython.display import HTML\n",
        "import plotly.graph_objects as go"
      ],
      "id": "8cbb3aee-4e0b-4a9a-be77-8ad29bd6849b"
    },
    {
      "cell_type": "code",
      "execution_count": 2,
      "metadata": {},
      "outputs": [],
      "source": [
        "import rpy2\n",
        "import rpy2.robjects as ro \n",
        "from rpy2.robjects.vectors import FloatVector \n",
        "from rpy2.robjects.packages import importr"
      ],
      "id": "574d9ce1-4349-468c-949a-571d4e403083"
    },
    {
      "cell_type": "markdown",
      "metadata": {},
      "source": [
        "# Data intro(2020\\~2022)\n",
        "\n",
        "## Korea"
      ],
      "id": "72f2aeb1-86c6-46a1-adec-fbf3c7dcd8b5"
    },
    {
      "cell_type": "code",
      "execution_count": 3,
      "metadata": {},
      "outputs": [],
      "source": [
        "df_korea = pd.read_csv('./dataset/korea_kospi.csv')"
      ],
      "id": "aa76a931-c046-443a-84ea-2ce6dfe58af0"
    },
    {
      "cell_type": "code",
      "execution_count": 4,
      "metadata": {},
      "outputs": [],
      "source": [
        "df_korea = pd.concat([df_korea,pd.DataFrame({'Country': \"Korea\",\n",
        "                                             'Value':(df_korea['Close'] - df_korea['Close'].mean())/df_korea['Close'].std()})],axis=1)\n"
      ],
      "id": "5263d676-f5d1-4c93-b8e3-765e5d0484ae"
    },
    {
      "cell_type": "code",
      "execution_count": 5,
      "metadata": {},
      "outputs": [],
      "source": [
        "df_korea_add = df_korea.assign(Year = list(map(lambda x: x.split('-')[0],df_korea['Date'])),\\\n",
        "                                    Mon = list(map(lambda x: x.split('-')[1],df_korea['Date'])),\\\n",
        "                                    Day = list(map(lambda x: x.split('-')[2],df_korea['Date'])))"
      ],
      "id": "3615125a-b342-4d7e-8e2a-71e021351e6e"
    },
    {
      "cell_type": "code",
      "execution_count": 6,
      "metadata": {},
      "outputs": [],
      "source": [
        "df_korea_add.Year = df_korea_add.Year.astype(np.float64)\n",
        "df_korea_add.Mon = df_korea_add.Mon.astype(np.float64)\n",
        "df_korea_add.Day = df_korea_add.Day.astype(np.float64)"
      ],
      "id": "cdd425d6-61bb-49d0-8205-b0c7b0b06aec"
    },
    {
      "cell_type": "code",
      "execution_count": 7,
      "metadata": {},
      "outputs": [],
      "source": [
        "df_korea_covid = df_korea_add.query(\"Year>=2020 and Year <= 2022\");df_korea_covid"
      ],
      "id": "eb7dd1e4-0f5e-41b4-950e-6374ddd7a736"
    },
    {
      "cell_type": "code",
      "execution_count": 8,
      "metadata": {},
      "outputs": [],
      "source": [
        "# plt.figure(figsize=(30, 8)) \n",
        "# plt.title('Korea (close)')\n",
        "# plt.xticks(rotation=45) \n",
        "# plt.plot(df_korea_covid['Date'], df_korea_covid['Close'], 'co-')\n",
        "# plt.grid(color='gray', linestyle='--')"
      ],
      "id": "9c605390-ebea-4c9e-8c42-56529404552a"
    },
    {
      "cell_type": "markdown",
      "metadata": {},
      "source": [
        "## US"
      ],
      "id": "0c6ff720-0217-48f5-bcc2-15e9cdac5fea"
    },
    {
      "cell_type": "code",
      "execution_count": 9,
      "metadata": {},
      "outputs": [],
      "source": [
        "df_us = pd.read_csv('./dataset/us_nasdaq.csv')"
      ],
      "id": "28fc648f-a229-41d6-978a-94d98ef7b28f"
    },
    {
      "cell_type": "code",
      "execution_count": 10,
      "metadata": {},
      "outputs": [],
      "source": [
        "df_us = pd.concat([df_us,pd.DataFrame({'Country': 'United States of America',\n",
        "                                             'Value':(df_us['Close'] - df_us['Close'].mean())/df_us['Close'].std()})],axis=1)"
      ],
      "id": "290ef6ee-20f9-416b-ad82-012c428b0ff5"
    },
    {
      "cell_type": "code",
      "execution_count": 11,
      "metadata": {},
      "outputs": [],
      "source": [
        "df_us_add = df_us.assign(Year = list(map(lambda x: x.split('-')[0],df_us['Date'])),\\\n",
        "                            Mon = list(map(lambda x: x.split('-')[1],df_us['Date'])),\\\n",
        "                            Day = list(map(lambda x: x.split('-')[2],df_us['Date'])))"
      ],
      "id": "4bdf50bc-736d-498a-bc04-f4f35ab8573c"
    },
    {
      "cell_type": "code",
      "execution_count": 12,
      "metadata": {},
      "outputs": [],
      "source": [
        "df_us_add.Year = df_us_add.Year.astype(np.float64)\n",
        "df_us_add.Mon = df_us_add.Mon.astype(np.float64)\n",
        "df_us_add.Day = df_us_add.Day.astype(np.float64)"
      ],
      "id": "4429dc97-14f7-434a-b638-c23c96838c9b"
    },
    {
      "cell_type": "code",
      "execution_count": 13,
      "metadata": {},
      "outputs": [],
      "source": [
        "df_us_covid = df_us_add.query(\"Year>=2020 and Year <=2022\");df_us_covid"
      ],
      "id": "5afd4f6f-3646-4956-8bc0-870b3d720007"
    },
    {
      "cell_type": "code",
      "execution_count": 14,
      "metadata": {},
      "outputs": [],
      "source": [
        "# plt.figure(figsize=(30, 8)) \n",
        "# plt.title('US (close)')\n",
        "# plt.xticks(rotation=45) \n",
        "# plt.plot(df_us_covid['Date'], df_us_covid['Close'], 'co-')\n",
        "# plt.grid(color='gray', linestyle='--')"
      ],
      "id": "fcd9a7e0-6479-432c-9029-bf57535ef9e2"
    },
    {
      "cell_type": "markdown",
      "metadata": {},
      "source": [
        "## China"
      ],
      "id": "ba1fbf65-f69b-4cda-b143-7f693e1ba455"
    },
    {
      "cell_type": "code",
      "execution_count": 15,
      "metadata": {},
      "outputs": [],
      "source": [
        "df_china = pd.read_csv('./dataset/china_ssec.csv')"
      ],
      "id": "0dcd8462-9322-43da-97f6-b1908bf87a47"
    },
    {
      "cell_type": "code",
      "execution_count": 16,
      "metadata": {},
      "outputs": [],
      "source": [
        "df_china = pd.concat([df_china,pd.DataFrame({'Country': 'China',\n",
        "                                             'Value':(df_china['Close'] - df_china['Close'].mean())/df_china['Close'].std()})],axis=1)"
      ],
      "id": "87235c77-5a0f-409b-8d68-30097aae8397"
    },
    {
      "cell_type": "code",
      "execution_count": 17,
      "metadata": {},
      "outputs": [],
      "source": [
        "df_china_add = df_china.assign(Year = list(map(lambda x: x.split('-')[0],df_china['Date'])),\\\n",
        "                                    Mon = list(map(lambda x: x.split('-')[1],df_china['Date'])),\\\n",
        "                                    Day = list(map(lambda x: x.split('-')[2],df_china['Date'])))"
      ],
      "id": "f33f77f7-0eee-431b-b3cb-9e32c44a39c0"
    },
    {
      "cell_type": "code",
      "execution_count": 18,
      "metadata": {},
      "outputs": [],
      "source": [
        "df_china_add.Year = df_china_add.Year.astype(np.float64)\n",
        "df_china_add.Mon = df_china_add.Mon.astype(np.float64)\n",
        "df_china_add.Day = df_china_add.Day.astype(np.float64)"
      ],
      "id": "407b03d9-cb10-43c2-86ca-c2cd24e1a1f6"
    },
    {
      "cell_type": "code",
      "execution_count": 19,
      "metadata": {},
      "outputs": [],
      "source": [
        "df_china_covid = df_china_add.query(\"Year>=2020 and Year <=2022\");df_china_covid"
      ],
      "id": "57ccdb80-ec1f-4a16-9996-58bd3b640cc3"
    },
    {
      "cell_type": "code",
      "execution_count": 20,
      "metadata": {},
      "outputs": [],
      "source": [
        "# plt.figure(figsize=(30, 8)) \n",
        "# plt.title('China (close)')\n",
        "# plt.xticks(rotation=45) \n",
        "# plt.plot(df_china_covid['Date'], df_china_covid['Close'], 'co-')\n",
        "# plt.grid(color='gray', linestyle='--')"
      ],
      "id": "46493223-6d24-4b7b-bfb9-1382cfe70c33"
    },
    {
      "cell_type": "markdown",
      "metadata": {},
      "source": [
        "## Japan"
      ],
      "id": "6cc2bba5-cc09-4f10-ac25-0cd75d275c89"
    },
    {
      "cell_type": "code",
      "execution_count": 21,
      "metadata": {},
      "outputs": [],
      "source": [
        "df_japan = pd.read_csv('./dataset/japan_n225.csv')"
      ],
      "id": "481afe33-ed90-4929-b10d-c6689aaa12f9"
    },
    {
      "cell_type": "code",
      "execution_count": 22,
      "metadata": {},
      "outputs": [],
      "source": [
        "df_japan = pd.concat([df_japan,pd.DataFrame({'Country': 'Japan',\n",
        "                                             'Value':(df_japan['Close'] - df_japan['Close'].mean())/df_japan['Close'].std()})],axis=1)"
      ],
      "id": "bcfd9144-c3f7-4764-a614-8ded10a8c3a3"
    },
    {
      "cell_type": "code",
      "execution_count": 23,
      "metadata": {},
      "outputs": [],
      "source": [
        "df_japan_add = df_japan.assign(Year = list(map(lambda x: x.split('-')[0],df_japan['Date'])),\\\n",
        "                                    Mon = list(map(lambda x: x.split('-')[1],df_japan['Date'])),\\\n",
        "                                    Day = list(map(lambda x: x.split('-')[2],df_japan['Date'])))"
      ],
      "id": "f0206b51-5254-4823-ba9b-7feaea94a149"
    },
    {
      "cell_type": "code",
      "execution_count": 24,
      "metadata": {},
      "outputs": [],
      "source": [
        "df_japan_add.Year = df_japan_add.Year.astype(np.float64)\n",
        "df_japan_add.Mon = df_japan_add.Mon.astype(np.float64)\n",
        "df_japan_add.Day = df_japan_add.Day.astype(np.float64)"
      ],
      "id": "ba639e18-e318-4f05-9ccb-6eb483f2d6ca"
    },
    {
      "cell_type": "code",
      "execution_count": 25,
      "metadata": {},
      "outputs": [],
      "source": [
        "df_japan_covid = df_japan_add.query(\"Year>=2020 and Year<=2022\");df_japan_covid"
      ],
      "id": "69cc9a67-b905-49da-8859-a5a440a30d27"
    },
    {
      "cell_type": "code",
      "execution_count": 26,
      "metadata": {},
      "outputs": [],
      "source": [
        "# plt.figure(figsize=(30, 8)) \n",
        "# plt.title('Japan (close)')\n",
        "# plt.xticks(rotation=45) \n",
        "# plt.plot(df_japan_covid['Date'], df_japan_covid['Close'], 'co-')\n",
        "# plt.grid(color='gray', linestyle='--')"
      ],
      "id": "01f21be8-ec53-4b3d-be53-4617ce7fb7cd"
    },
    {
      "cell_type": "code",
      "execution_count": 27,
      "metadata": {},
      "outputs": [],
      "source": [
        "# with plt.style.context('seaborn-white'):\n",
        "#     fig, ((ax1, ax2), (ax3, ax4)) = plt.subplots(2, 2,figsize=(30,15))\n",
        "#     ax1.plot(df_korea_covid['Date'], df_korea_covid['Close'])\n",
        "#     ax2.plot(df_us_covid['Date'], df_us_covid['Close'])\n",
        "#     ax3.plot(df_china_covid['Date'], df_china_covid['Close'])\n",
        "#     ax4.plot(df_japan_covid['Date'], df_japan_covid['Close'])"
      ],
      "id": "0fb4af64-bf2b-4608-a172-73c473192adf"
    },
    {
      "cell_type": "code",
      "execution_count": 28,
      "metadata": {},
      "outputs": [],
      "source": [
        "df = pd.concat([df_korea_covid,df_us_covid,df_china_covid,df_japan_covid]);df"
      ],
      "id": "4ec1f09c-bc7d-4979-a390-b7a0297a4ce1"
    },
    {
      "cell_type": "code",
      "execution_count": 29,
      "metadata": {},
      "outputs": [],
      "source": [
        "df['Country'].unique()"
      ],
      "id": "0e5c3214-8f58-4a54-8290-b27cfd8b4ebc"
    },
    {
      "cell_type": "markdown",
      "metadata": {},
      "source": [
        "# COVID(2020\\~2022)\n",
        "\n",
        "Ref: [WHO](https://covid19.who.int/data),\n",
        "[질병관리청](https://ncov.kdca.go.kr/)"
      ],
      "id": "5cacc2a8-4baa-4ce5-9621-238538e627e2"
    },
    {
      "cell_type": "code",
      "execution_count": 30,
      "metadata": {},
      "outputs": [],
      "source": [
        "covid = pd.read_csv('./dataset/WHO-COVID-19-global-data.csv').iloc[:,[0,1,2,4,6]];covid"
      ],
      "id": "99038350-dd03-47f5-bb41-b9418b4f68de"
    },
    {
      "cell_type": "code",
      "execution_count": 31,
      "metadata": {},
      "outputs": [],
      "source": [
        "covid['Country'].unique()"
      ],
      "id": "2b48ace3-e772-487e-aaef-3f25078cc537"
    },
    {
      "cell_type": "code",
      "execution_count": 32,
      "metadata": {},
      "outputs": [],
      "source": [
        "covid.query(\"Country_code =='KP'\")['New_cases'].unique()"
      ],
      "id": "0bbdd5e9-0a78-4232-8aee-b7ae81865d79"
    },
    {
      "cell_type": "code",
      "execution_count": 33,
      "metadata": {},
      "outputs": [],
      "source": [
        "_korea_covid = pd.read_excel('./dataset/covid_korea.csv');_korea_covid[:10]"
      ],
      "id": "72cb3c8f-2fb2-469c-b299-a850161230bc"
    },
    {
      "cell_type": "code",
      "execution_count": 34,
      "metadata": {},
      "outputs": [],
      "source": [
        "korea_covid = _korea_covid.assign(New_cases=np.where(_korea_covid['Unnamed: 2'] == '-', 0, _korea_covid['Unnamed: 2']),\\\n",
        "                                  New_deaths=np.where(_korea_covid['Unnamed: 4'] == '-', 0, _korea_covid['Unnamed: 4']),\\\n",
        "                                  Date_reported=list(map(lambda x: str(x).split()[0],_korea_covid['Unnamed: 0'])),\\\n",
        "                                  Country='Korea',Country_code='KP').\\\n",
        "                             iloc[5:,[7,9,8,6,5]];korea_covid"
      ],
      "id": "c3391197-c413-4d95-a2ed-770cf649f061"
    },
    {
      "cell_type": "code",
      "execution_count": 35,
      "metadata": {},
      "outputs": [],
      "source": [
        "covid_final = pd.concat([covid, korea_covid]).rename(columns={'Date_reported': 'Date'});covid_final"
      ],
      "id": "9ffe9411-4370-4971-ab34-b5e2dc8f34d1"
    },
    {
      "cell_type": "code",
      "execution_count": 36,
      "metadata": {},
      "outputs": [],
      "source": [
        "covid_final_add = covid_final.assign(Year = list(map(lambda x: x.split('-')[0],covid_final['Date'])),\\\n",
        "                                    Mon = list(map(lambda x: x.split('-')[1],covid_final['Date'])),\\\n",
        "                                    Day = list(map(lambda x: x.split('-')[2],covid_final['Date'])))"
      ],
      "id": "36c6438d-bedc-4bca-bed4-ca9c61f8011e"
    },
    {
      "cell_type": "code",
      "execution_count": 37,
      "metadata": {},
      "outputs": [],
      "source": [
        "covid_final_add"
      ],
      "id": "d98ce23e-4025-4bf5-8442-bdb13be4d976"
    },
    {
      "cell_type": "code",
      "execution_count": 38,
      "metadata": {},
      "outputs": [],
      "source": [
        "# with plt.style.context('seaborn-white'):\n",
        "#     fig, ((ax1, ax2), (ax3, ax4)) = plt.subplots(2, 2,figsize=(30,15))\n",
        "#     ax1.plot(covid_final_add.query(\"Country =='Korea'\")['Date'], covid_final_add.query(\"Country =='Korea'\")['New_cases'])\n",
        "#     ax2.plot(covid_final_add.query(\"Country =='United States of America'\")['Date'], covid_final_add.query(\"Country =='United States of America'\")['New_cases'])\n",
        "#     ax3.plot(covid_final_add.query(\"Country =='China'\")['Date'], covid_final_add.query(\"Country =='China'\")['New_cases'])\n",
        "#     ax4.plot(covid_final_add.query(\"Country =='Japan'\")['Date'], covid_final_add.query(\"Country =='Japan'\")['New_cases'])"
      ],
      "id": "c53a5c7a-6ea6-4040-85f2-f8fc241ef923"
    },
    {
      "cell_type": "markdown",
      "metadata": {},
      "source": [
        "# define class"
      ],
      "id": "70fc260b-a757-4f23-b6e0-8dfc976edba3"
    },
    {
      "cell_type": "code",
      "execution_count": 41,
      "metadata": {},
      "outputs": [],
      "source": [
        "class Stock_graph:\n",
        "    def __init__(self,df):\n",
        "        self.df = df \n",
        "        self.f = df.Value.to_numpy()\n",
        "        self.year = df.Year.to_numpy()\n",
        "        self.mon = df.Mon.to_numpy()\n",
        "        self.day = df.Day.to_numpy()\n",
        "        self.country = df.Country\n",
        "        self.n = len(self.f)\n",
        "        \n",
        "        self.theta= None\n",
        "    def get_distance(self):\n",
        "        self.D = np.zeros([self.n,self.n])\n",
        "        locations = np.stack([self.lat, self.long],axis=1)\n",
        "        for i in tqdm.tqdm(range(self.n)):\n",
        "            for j in range(i,self.n): \n",
        "                self.D[i,j]=haversine(locations[i],locations[j])\n",
        "        self.D = self.D+self.D.T\n",
        "    def get_weightmatrix(self,theta=1,beta=0.5,kappa=4000):\n",
        "        self.theta = theta\n",
        "        dist = np.where(self.D<kappa,self.D,0)\n",
        "        self.W = np.exp(-(dist/self.theta)**2)\n",
        "\n",
        "    def _eigen(self):\n",
        "        d= self.W.sum(axis=1)\n",
        "        D= np.diag(d)\n",
        "        self.L = np.diag(1/np.sqrt(d)) @ (D-self.W) @ np.diag(1/np.sqrt(d))\n",
        "        self.lamb, self.Psi = np.linalg.eigh(self.L)\n",
        "        self.Lamb = np.diag(self.lamb)    \n",
        "        \n",
        "    def fit(self,ref=0.5): # fit with ebayesthresh\n",
        "        self._eigen()\n",
        "        self.fbar = self.Psi.T @ self.f # fbar := graph fourier transform of f\n",
        "        self.power = self.fbar**2 \n",
        "        ebayesthresh = importr('EbayesThresh').ebayesthresh\n",
        "        self.power_threshed=np.array(ebayesthresh(FloatVector(self.fbar**2)))\n",
        "        self.fbar_threshed = np.where(self.power_threshed>0,self.fbar,0)\n",
        "        self.fhat = self.Psi@self.fbar_threshed\n",
        "        self.df = self.df.assign(ValueHat = self.fhat)\n",
        "        self.df = self.df.assign(Residual = self.df.Value- self.df.ValueHat)"
      ],
      "id": "05406b7c-40be-431a-9770-54592c54a5ce"
    },
    {
      "cell_type": "markdown",
      "metadata": {},
      "source": [
        "# 시도 1"
      ],
      "id": "a867fa0d-a8b6-4b36-b2aa-f4a9d3bdfb75"
    },
    {
      "cell_type": "code",
      "execution_count": 42,
      "metadata": {},
      "outputs": [],
      "source": [
        "rst = Stock_graph(df)"
      ],
      "id": "f9970358-771e-42b6-b5b9-d280a7a11a80"
    },
    {
      "cell_type": "code",
      "execution_count": 43,
      "metadata": {},
      "outputs": [],
      "source": [
        "len(rst.df)"
      ],
      "id": "53de48a6-9e3b-44df-a502-7c8d3bbc6c29"
    },
    {
      "cell_type": "code",
      "execution_count": 44,
      "metadata": {},
      "outputs": [],
      "source": [
        "T = len(rst.df)"
      ],
      "id": "206df577-eedc-40fd-8ef7-9d3a6626226d"
    },
    {
      "cell_type": "code",
      "execution_count": 55,
      "metadata": {},
      "outputs": [
        {
          "output_type": "display_data",
          "metadata": {},
          "data": {
            "image/png": "[encoded data removed]"
          }
        }
      ],
      "source": [
        "plt.scatter(rst.df[rst.df['Country']=='Korea'].iloc[:,[8,9]],rst.df[rst.df['Country']=='Japan'].iloc[:,[8,9]])"
      ],
      "id": "ce303556-90f2-4d3c-820a-9a0416e664fe"
    },
    {
      "cell_type": "code",
      "execution_count": 53,
      "metadata": {},
      "outputs": [],
      "source": [
        "rst.df[rst.df['Country']=='Japan'].iloc[:,[8,9]]"
      ],
      "id": "80c74905-7321-4afd-96f4-af1dddb8ac14"
    },
    {
      "cell_type": "code",
      "execution_count": null,
      "metadata": {},
      "outputs": [],
      "source": [
        "W = np.zeros((T,T))\n",
        "for i in range(T):\n",
        "    for j in range(T):\n",
        "        if np.abs(i-j) ==1 :\n",
        "            W[i,j] = 1\n",
        "        else:\n",
        "            W[i,j] = 0"
      ],
      "id": "79aefbfe-f36b-4c57-ae1f-2ad5654ffd98"
    },
    {
      "cell_type": "code",
      "execution_count": null,
      "metadata": {},
      "outputs": [],
      "source": [
        "W"
      ],
      "id": "894fe297-1e2c-4576-b629-a24a3760223d"
    },
    {
      "cell_type": "code",
      "execution_count": null,
      "metadata": {},
      "outputs": [],
      "source": [
        "rst.W = W"
      ],
      "id": "1428a8d4-d93f-4afb-b7f9-f3d17214312b"
    },
    {
      "cell_type": "code",
      "execution_count": null,
      "metadata": {},
      "outputs": [],
      "source": [
        "rst.fit()"
      ],
      "id": "09fd2e7a-37e0-4fd0-8f4b-9b50268375c8"
    },
    {
      "cell_type": "markdown",
      "metadata": {},
      "source": [
        "## Result"
      ],
      "id": "b98545bd-727d-43ed-a801-6dfb310712e6"
    },
    {
      "cell_type": "code",
      "execution_count": null,
      "metadata": {},
      "outputs": [],
      "source": [
        "rst.df.merge(covid_final_add,on='Date').sort_values(\"Residual\",ascending=False).iloc[:30,:]"
      ],
      "id": "c65e0513-27d3-4378-b08e-86e623f76b58"
    },
    {
      "cell_type": "markdown",
      "metadata": {},
      "source": [
        "# 시도 2"
      ],
      "id": "ed3bb8ba-dd4b-4f3b-9bb1-37c9014246a8"
    },
    {
      "cell_type": "code",
      "execution_count": null,
      "metadata": {},
      "outputs": [],
      "source": [
        "rst2 = Stock_graph(df)"
      ],
      "id": "7ef24f61-ae34-459f-938a-2796b35a07ab"
    },
    {
      "cell_type": "code",
      "execution_count": null,
      "metadata": {},
      "outputs": [],
      "source": [
        "len(rst2.df)"
      ],
      "id": "73b1dfbf-33b4-431d-b589-f0c49bc76e7e"
    },
    {
      "cell_type": "code",
      "execution_count": null,
      "metadata": {},
      "outputs": [],
      "source": [
        "T"
      ],
      "id": "05ecf6d8-4a7a-4ac5-9636-f6ac2143aba4"
    },
    {
      "cell_type": "code",
      "execution_count": null,
      "metadata": {},
      "outputs": [],
      "source": [
        "rst2.df"
      ],
      "id": "85ec1c1f-1131-461f-b512-d0a56e0dc8df"
    },
    {
      "cell_type": "code",
      "execution_count": null,
      "metadata": {},
      "outputs": [],
      "source": [
        "rst2.df.sort_values('Country').iloc[:,[9,10]].reset_index().iloc[:,1:].pivot(columns='Country', values='Value').iloc[:,1].dropna()"
      ],
      "id": "9e5a19d3-9f88-49e3-adf0-18be6129a011"
    },
    {
      "cell_type": "markdown",
      "metadata": {},
      "source": [
        "## Result"
      ],
      "id": "ce7dd99a-da4d-44ca-97fa-615bac46bad5"
    },
    {
      "cell_type": "code",
      "execution_count": null,
      "metadata": {},
      "outputs": [],
      "source": [
        "covid_final_add"
      ],
      "id": "3fa3306b-fe5f-42e0-8f85-19a9047b5457"
    }
  ],
  "nbformat": 4,
  "nbformat_minor": 5,
  "metadata": {
    "kernelspec": {
      "name": "python3",
      "display_name": "Python 3",
      "language": "python"
    },
    "language_info": {
      "name": "python",
      "codemirror_mode": {
        "name": "ipython",
        "version": "3"
      },
      "file_extension": ".py",
      "mimetype": "text/x-python",
      "nbconvert_exporter": "python",
      "pygments_lexer": "ipython3",
      "version": "3.8.0"
    }
  }
}
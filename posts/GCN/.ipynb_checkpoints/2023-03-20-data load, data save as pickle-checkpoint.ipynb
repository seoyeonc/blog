{
 "cells": [
  {
   "cell_type": "raw",
   "id": "1cc48b07-a38a-489a-a96b-d9b89394d431",
   "metadata": {
    "id": "cac470df-29e7-4148-9bbd-d8b9a32fa570",
    "tags": []
   },
   "source": [
    "---\n",
    "title: \"data load, data save as pickle\"\n",
    "author: \"SEOYEON CHOI\"\n",
    "date: \"2023-03-20\"\n",
    "categories:\n",
    "  - data\n",
    "---"
   ]
  },
  {
   "cell_type": "markdown",
   "id": "a1e49560-a8ba-4b9f-a5e1-739f1e638ea2",
   "metadata": {
    "tags": []
   },
   "source": [
    "> data load, data save as pickle"
   ]
  },
  {
   "cell_type": "markdown",
   "id": "970e51be-5a7e-4c8a-8fd0-8cbe30cf7732",
   "metadata": {},
   "source": [
    "https://pytorch-geometric-temporal.readthedocs.io/en/latest/_modules/index.html"
   ]
  },
  {
   "cell_type": "markdown",
   "id": "86795540-4df9-4ace-bc7c-b94fe41809db",
   "metadata": {},
   "source": [
    "\n",
    "\n",
    "- GNAR warning message 위한 uppressWarnings "
   ]
  },
  {
   "cell_type": "code",
   "execution_count": 2,
   "id": "7715439f-e588-417a-a45f-e01f3a79111a",
   "metadata": {},
   "outputs": [
    {
     "ename": "NameError",
     "evalue": "name 'torch_geometric_temporal' is not defined",
     "output_type": "error",
     "traceback": [
      "\u001b[0;31m---------------------------------------------------------------------------\u001b[0m",
      "\u001b[0;31mNameError\u001b[0m                                 Traceback (most recent call last)",
      "\u001b[0;32m/tmp/ipykernel_6930/2929322815.py\u001b[0m in \u001b[0;36m<module>\u001b[0;34m\u001b[0m\n\u001b[0;32m----> 1\u001b[0;31m \u001b[0;32mclass\u001b[0m \u001b[0mFivenodesDatasetLoader\u001b[0m\u001b[0;34m(\u001b[0m\u001b[0mobject\u001b[0m\u001b[0;34m)\u001b[0m\u001b[0;34m:\u001b[0m\u001b[0;34m\u001b[0m\u001b[0;34m\u001b[0m\u001b[0m\n\u001b[0m\u001b[1;32m      2\u001b[0m     \"\"\"The Fivenodes dataset has five nodes with different velues.\n\u001b[1;32m      3\u001b[0m        \u001b[0mThe\u001b[0m\u001b[0;34m\u001b[0m\u001b[0;34m\u001b[0m\u001b[0m\n\u001b[1;32m      4\u001b[0m     \"\"\"\n\u001b[1;32m      5\u001b[0m     \u001b[0;32mdef\u001b[0m \u001b[0m__init__\u001b[0m\u001b[0;34m(\u001b[0m\u001b[0mself\u001b[0m\u001b[0;34m)\u001b[0m\u001b[0;34m:\u001b[0m\u001b[0;34m\u001b[0m\u001b[0;34m\u001b[0m\u001b[0m\n",
      "\u001b[0;32m/tmp/ipykernel_6930/2929322815.py\u001b[0m in \u001b[0;36mFivenodesDatasetLoader\u001b[0;34m()\u001b[0m\n\u001b[1;32m     25\u001b[0m         ]\n\u001b[1;32m     26\u001b[0m \u001b[0;34m\u001b[0m\u001b[0m\n\u001b[0;32m---> 27\u001b[0;31m     \u001b[0;32mdef\u001b[0m \u001b[0mget_dataset\u001b[0m\u001b[0;34m(\u001b[0m\u001b[0mself\u001b[0m\u001b[0;34m,\u001b[0m \u001b[0mlags\u001b[0m\u001b[0;34m:\u001b[0m \u001b[0mint\u001b[0m \u001b[0;34m=\u001b[0m \u001b[0;36m4\u001b[0m\u001b[0;34m)\u001b[0m \u001b[0;34m->\u001b[0m \u001b[0mtorch_geometric_temporal\u001b[0m\u001b[0;34m.\u001b[0m\u001b[0msignal\u001b[0m\u001b[0;34m.\u001b[0m\u001b[0mStaticGraphTemporalSignal\u001b[0m\u001b[0;34m:\u001b[0m\u001b[0;34m\u001b[0m\u001b[0;34m\u001b[0m\u001b[0m\n\u001b[0m\u001b[1;32m     28\u001b[0m         \"\"\"Returning the Fivenodes data iterator.\n\u001b[1;32m     29\u001b[0m \u001b[0;34m\u001b[0m\u001b[0m\n",
      "\u001b[0;31mNameError\u001b[0m: name 'torch_geometric_temporal' is not defined"
     ]
    }
   ],
   "source": [
    "class FivenodesDatasetLoader(object):\n",
    "    \"\"\"The Fivenodes dataset has five nodes with different velues.\n",
    "       The \n",
    "    \"\"\"\n",
    "    def __init__(self):\n",
    "        url = 'https://github.com/seoyeonc/IT-STGCN/raw/main/fivenodes.pkl'\n",
    "        response = requests.get(url)\n",
    "        data_dict  = pickle.loads(response.content)        \n",
    "        self._dataset = data_dict \n",
    "    def _get_edges(self):\n",
    "        self._edges = np.array(self._dataset[\"edges\"]).T\n",
    "\n",
    "    def _get_edge_weights(self):\n",
    "        self._edge_weights = np.ones(self._edges.shape[1])\n",
    "\n",
    "    def _get_targets_and_features(self):\n",
    "        stacked_target = np.array(self._dataset[\"FX\"])\n",
    "        self.features = [\n",
    "            stacked_target[i : i + self.lags, :].T\n",
    "            for i in range(stacked_target.shape[0] - self.lags)\n",
    "        ]\n",
    "        self.targets = [\n",
    "            stacked_target[i + self.lags, :].T\n",
    "            for i in range(stacked_target.shape[0] - self.lags)\n",
    "        ]\n",
    "\n",
    "    def get_dataset(self, lags: int = 4) -> torch_geometric_temporal.signal.StaticGraphTemporalSignal:\n",
    "        \"\"\"Returning the Fivenodes data iterator.\n",
    "\n",
    "        Args types:\n",
    "            * **lags** *(int)* - The number of time lags.\n",
    "        Return types:\n",
    "            * **dataset** *(torch_geometric_temporal.signal.StaticGraphTemporalSignal)* - The Fivenodes dataset.\n",
    "        \"\"\"\n",
    "        self.lags = lags\n",
    "        self._get_edges()\n",
    "        self._get_edge_weights()\n",
    "        self._get_targets_and_features()\n",
    "        dataset = torch_geometric_temporal.signal.StaticGraphTemporalSignal(\n",
    "            self._edges, self._edge_weights, self.features, self.targets\n",
    "        )\n",
    "        return dataset"
   ]
  },
  {
   "cell_type": "code",
   "execution_count": 526,
   "id": "6073382e-ebad-4194-ab62-4d60cbd2bd14",
   "metadata": {},
   "outputs": [],
   "source": [
    "loader = FivenodesDatasetLoader()"
   ]
  },
  {
   "cell_type": "code",
   "execution_count": 527,
   "id": "70dbfda3-7604-4ed2-b6fc-2a478219991b",
   "metadata": {},
   "outputs": [],
   "source": [
    "#loader = itstgcn.DatasetLoader(data_dict)\n",
    "dataset = loader.get_dataset(lags=2)\n",
    "train_dataset, test_dataset = itstgcn.utils.temporal_signal_split(dataset, train_ratio=0.8)"
   ]
  },
  {
   "cell_type": "code",
   "execution_count": 529,
   "id": "9e43894b-a320-4e9b-82f3-4f9ed4e2cbff",
   "metadata": {},
   "outputs": [
    {
     "name": "stderr",
     "output_type": "stream",
     "text": [
      "/home/csy/Dropbox/blog/posts/GCN/itstgcn/learners.py:84: UserWarning: Creating a tensor from a list of numpy.ndarrays is extremely slow. Please consider converting the list to a single numpy.ndarray with numpy.array() before converting to a tensor. (Triggered internally at  /opt/conda/conda-bld/pytorch_1639180588308/work/torch/csrc/utils/tensor_new.cpp:201.)\n",
      "  self.lags = torch.tensor(train_dataset.features).shape[-1]\n"
     ]
    }
   ],
   "source": [
    "lrnr = itstgcn.StgcnLearner(train_dataset,dataset_name='five_nodes')"
   ]
  },
  {
   "cell_type": "code",
   "execution_count": 530,
   "id": "4656c41e-5bc9-45b2-a7a6-87bdbe722f86",
   "metadata": {},
   "outputs": [
    {
     "name": "stdout",
     "output_type": "stream",
     "text": [
      "5/5\r"
     ]
    }
   ],
   "source": [
    "lrnr.learn(filters=4,epoch=5)"
   ]
  },
  {
   "cell_type": "markdown",
   "id": "47d43258-786b-4357-9d58-0fa342fb5dcd",
   "metadata": {},
   "source": [
    "# Import"
   ]
  },
  {
   "cell_type": "code",
   "execution_count": null,
   "id": "1f1ab7d5-531d-4bb6-8441-65997379bec9",
   "metadata": {},
   "outputs": [],
   "source": [
    "import numpy as np"
   ]
  },
  {
   "cell_type": "code",
   "execution_count": null,
   "id": "a283925d-94b2-4613-bd31-f1050c7927fc",
   "metadata": {},
   "outputs": [],
   "source": [
    "import json\n",
    "import urllib"
   ]
  },
  {
   "cell_type": "code",
   "execution_count": null,
   "id": "ed7475ea-cd7b-4cde-8d52-3ead6b5da52e",
   "metadata": {},
   "outputs": [],
   "source": [
    "def load_data(fname):\n",
    "    with open(fname, 'rb') as outfile:\n",
    "        data_dict = pickle.load(outfile)\n",
    "    return data_dict"
   ]
  },
  {
   "cell_type": "code",
   "execution_count": null,
   "id": "edb42b82-296b-42ba-9c08-954f952c4529",
   "metadata": {},
   "outputs": [],
   "source": [
    "def save_data(data_dict,fname):\n",
    "    with open(fname,'wb') as outfile:\n",
    "        pickle.dump(data_dict,outfile)"
   ]
  },
  {
   "cell_type": "code",
   "execution_count": 3,
   "id": "fd1c5de8-21a8-4741-9bfb-dc6f585340e3",
   "metadata": {},
   "outputs": [],
   "source": [
    "import pickle"
   ]
  },
  {
   "cell_type": "code",
   "execution_count": null,
   "id": "ab0dca99-96cf-44e8-b1a7-5ed34f54a363",
   "metadata": {},
   "outputs": [],
   "source": [
    "save_data(df_gnar, './data/EnglandCovid_gnar_randomly_by_rate.pkl')"
   ]
  },
  {
   "cell_type": "code",
   "execution_count": null,
   "id": "157e55c4-49f1-4c4d-8911-84a04b0c58e2",
   "metadata": {},
   "outputs": [],
   "source": [
    "load_data('./data/GNAR_stgcn_randomly_by_rate.pkl')"
   ]
  },
  {
   "cell_type": "markdown",
   "id": "7265c881-61ed-4eb2-9480-1f41a0c54dd2",
   "metadata": {},
   "source": [
    "```\n",
    "!git add .\n",
    "!git commit -m .\n",
    "!git push \n",
    "!quarto publish --no-browser --no-prompt \n",
    "```"
   ]
  },
  {
   "cell_type": "code",
   "execution_count": 9,
   "id": "9eb935f4-4d1d-42d3-9ea7-bf0207e29ea6",
   "metadata": {},
   "outputs": [],
   "source": [
    "_data = itstgcn.load_data('./data/fivenodes.pkl')"
   ]
  },
  {
   "cell_type": "code",
   "execution_count": 10,
   "id": "5573a029-b9c7-4067-a92b-50fabe434334",
   "metadata": {},
   "outputs": [],
   "source": [
    "_edges = torch.tensor(_data['edges']).nonzero().tolist()\n",
    "_FX = _data['f'].tolist()\n",
    "_node_ids = {'node1':0, 'node2':1, 'node3':2, 'node4':3, 'node5':4} "
   ]
  },
  {
   "cell_type": "code",
   "execution_count": 11,
   "id": "1073ddac-3581-425c-a4fc-01f1c3a58ee4",
   "metadata": {},
   "outputs": [],
   "source": [
    "data_dict = {'edges':_edges, 'node_ids':_node_ids, 'FX':_FX}\n",
    "#data_dict = itstgcn.load_data('./data/fivenodes.pkl')"
   ]
  },
  {
   "cell_type": "code",
   "execution_count": 17,
   "id": "d90bfe66-0e69-4ed8-94fa-3d6094fe5988",
   "metadata": {},
   "outputs": [],
   "source": [
    "save_data(data_dict, './data/fivenodes.pkl')"
   ]
  },
  {
   "cell_type": "code",
   "execution_count": null,
   "id": "11f95d6c-a74f-43f7-bb3c-67aa0ae1d77a",
   "metadata": {},
   "outputs": [],
   "source": [
    "load_data('./data/GNAR_stgcn_randomly_by_rate.pkl')"
   ]
  },
  {
   "cell_type": "markdown",
   "id": "fa1dbc6a-d538-414c-9511-1b3352039302",
   "metadata": {},
   "source": [
    "## ChickenpoxDatasetLoader"
   ]
  },
  {
   "cell_type": "markdown",
   "id": "1f3e23ee-8376-4909-bef9-fdb6c690174a",
   "metadata": {},
   "source": [
    "Chickenpox Hungary\n",
    "\n",
    "- A spatiotemporal dataset about the officially reported cases of chickenpox in Hungary. The nodes are counties and edges describe direct neighbourhood relationships. The dataset covers the weeks between 2005 and 2015 without missingness."
   ]
  },
  {
   "cell_type": "markdown",
   "id": "437a2d9b-8012-436d-a09c-92010be6b1d9",
   "metadata": {},
   "source": [
    "데이터정리 \n",
    "\n",
    "- T = 519\n",
    "- N = 20 # number of nodes \n",
    "- E = 102 # edges \n",
    "- $f(v,t)$의 차원? (1,)\n",
    "- 시간에 따라서 Number of nodes가 변하는지? False\n",
    "- 시간에 따라서 Number of nodes가 변하는지? False\n",
    "- X: (20,4) (N,4), $f(v,t_0),f(v,t_1),f(v,t_2),f(v,t_3)$\n",
    "- y: (20,) (N,), $f(v,t_4)$\n",
    "- 예제코드적용가능여부: Yes"
   ]
  },
  {
   "cell_type": "markdown",
   "id": "c60549fb-4294-4b53-9373-a8e74faa836a",
   "metadata": {},
   "source": [
    "`-` Nodes : `20`\n",
    "\n",
    "- vertices are counties\n",
    "\n",
    "`-`Edges : `102`\n",
    "\n",
    "- edges are neighbourhoods\n",
    "\n",
    "`-` Time : `519`\n",
    "\n",
    "- between 2004 and 2014\n",
    "- per weeks"
   ]
  },
  {
   "cell_type": "code",
   "execution_count": 209,
   "id": "78c55f21-49fd-491e-91ad-8f9a8bbe6190",
   "metadata": {},
   "outputs": [
    {
     "data": {
      "text/plain": [
       "dict_keys(['edges', 'node_ids', 'FX'])"
      ]
     },
     "execution_count": 209,
     "metadata": {},
     "output_type": "execute_result"
    }
   ],
   "source": [
    "url = \"https://raw.githubusercontent.com/benedekrozemberczki/pytorch_geometric_temporal/master/dataset/chickenpox.json\"\n",
    "data_dict = json.loads(urllib.request.urlopen(url).read())\n",
    "data_dict.keys()"
   ]
  },
  {
   "cell_type": "code",
   "execution_count": 210,
   "id": "8b63f176-c933-45ae-bce8-e266867a64c4",
   "metadata": {},
   "outputs": [],
   "source": [
    "_edges = np.array(data_dict['edges']).T\n",
    "_FX  =np.array(data_dict['FX'])\n",
    "_node_ids = data_dict['node_ids']"
   ]
  },
  {
   "cell_type": "code",
   "execution_count": 26,
   "id": "ae184237-64be-49c3-80f6-b4eee96e476c",
   "metadata": {},
   "outputs": [],
   "source": [
    "data_dict = {'edges':_edges, 'node_ids':_node_ids, 'FX':_FX}"
   ]
  },
  {
   "cell_type": "code",
   "execution_count": 28,
   "id": "ec6a932d-0d0d-4e3c-8106-098e9d6e1b56",
   "metadata": {},
   "outputs": [],
   "source": [
    "save_data(data_dict, './data/chickenpox.pkl')"
   ]
  },
  {
   "cell_type": "code",
   "execution_count": 301,
   "id": "3385d34a-685d-4c87-90ac-7995be930dc6",
   "metadata": {},
   "outputs": [],
   "source": [
    "_a = load_data('./data/chickenpox.pkl')"
   ]
  },
  {
   "cell_type": "markdown",
   "id": "9373561d-babb-49b7-86b6-e541827bef28",
   "metadata": {},
   "source": [
    "## PedalMeDatasetLoader"
   ]
  },
  {
   "cell_type": "markdown",
   "id": "15ee87ba-e100-4b44-8853-bf48caea00a9",
   "metadata": {},
   "source": [
    "Pedal Me Deliveries\n",
    "\n",
    "- A dataset about the number of weekly bicycle package deliveries by Pedal Me in London during 2020 and 2021. Nodes in the graph represent geographical units and edges are proximity based mutual adjacency relationships."
   ]
  },
  {
   "cell_type": "markdown",
   "id": "85e61c98-e8c2-4f99-94e0-cc7aaddb9fb0",
   "metadata": {},
   "source": [
    "데이터정리 \n",
    "\n",
    "- T = 33\n",
    "- V = 지역의 집합\n",
    "- N = 15 # number of nodes \n",
    "- E = 225 # edges \n",
    "- $f(v,t)$의 차원? (1,) #  number of deliveries\n",
    "- 시간에 따라서 N이 변하는지? False\n",
    "- 시간에 따라서 E가 변하는지? False\n",
    "- X: (15,4) (N,4), $f(v,t_0),f(v,t_1),f(v,t_2),f(v,t_3)$\n",
    "- y: (15,) (N,), $f(v,t_4)$\n",
    "- 예제코드적용가능여부: Yes"
   ]
  },
  {
   "cell_type": "markdown",
   "id": "228c0b6a-8edc-4e6e-adb6-507a189ebad5",
   "metadata": {},
   "source": [
    "`-` Nodes : `15`\n",
    "\n",
    "- vertices are localities\n",
    "\n",
    "`-`Edges : `225`\n",
    "\n",
    "- edges are spatial_connections\n",
    "\n",
    "`-` Time : `33`\n",
    "\n",
    "- between 2020 and 2021\n",
    "- per weeks"
   ]
  },
  {
   "cell_type": "code",
   "execution_count": 303,
   "id": "6327e53a-c988-4fd9-92e0-025d082844ac",
   "metadata": {},
   "outputs": [
    {
     "data": {
      "text/plain": [
       "dict_keys(['edges', 'weights', 'X'])"
      ]
     },
     "execution_count": 303,
     "metadata": {},
     "output_type": "execute_result"
    }
   ],
   "source": [
    "url = \"https://raw.githubusercontent.com/benedekrozemberczki/pytorch_geometric_temporal/master/dataset/pedalme_london.json\"\n",
    "data_dict = json.loads(urllib.request.urlopen(url).read())\n",
    "data_dict.keys()"
   ]
  },
  {
   "cell_type": "code",
   "execution_count": 77,
   "id": "71cf75f4-536b-4085-8f35-fca3633c052a",
   "metadata": {},
   "outputs": [
    {
     "data": {
      "text/plain": [
       "array([[1.        , 0.42545896, 0.15735536, 0.20650019, 0.56414813,\n",
       "        0.51859797, 0.40042574, 0.02668175, 0.22467534, 0.50121882,\n",
       "        0.64503515, 0.30179997, 0.22087142, 0.29127399, 0.29527949],\n",
       "       [0.42545896, 1.        , 0.06751402, 0.26196443, 0.37806185,\n",
       "        0.30432223, 0.49569003, 0.01263971, 0.47355091, 0.21467316,\n",
       "        0.64402823, 0.14052395, 0.11996362, 0.23693215, 0.51565904],\n",
       "       [0.15735536, 0.06751402, 1.        , 0.05798271, 0.1244827 ,\n",
       "        0.18162298, 0.08399139, 0.12995215, 0.03943154, 0.31389513,\n",
       "        0.10445439, 0.27302428, 0.26539619, 0.08478134, 0.04896277],\n",
       "       [0.20650019, 0.26196443, 0.05798271, 1.        , 0.12786537,\n",
       "        0.29948689, 0.49413664, 0.01934854, 0.36407383, 0.14409976,\n",
       "        0.27176461, 0.06598468, 0.18161413, 0.06925856, 0.13727667],\n",
       "       [0.56414813, 0.37806185, 0.1244827 , 0.12786537, 1.        ,\n",
       "        0.29314346, 0.25767438, 0.01818941, 0.17957025, 0.36075049,\n",
       "        0.46699732, 0.3473374 , 0.13115146, 0.51606088, 0.37603554],\n",
       "       [0.51859797, 0.30432223, 0.18162298, 0.29948689, 0.29314346,\n",
       "        1.        , 0.45926632, 0.04112293, 0.2103538 , 0.47875054,\n",
       "        0.45503552, 0.20945964, 0.39265129, 0.15172156, 0.17483032],\n",
       "       [0.40042574, 0.49569003, 0.08399139, 0.49413664, 0.25767438,\n",
       "        0.45926632, 1.        , 0.02010014, 0.45313915, 0.24326482,\n",
       "        0.54973893, 0.12222274, 0.20121591, 0.14014092, 0.25568112],\n",
       "       [0.02668175, 0.01263971, 0.12995215, 0.01934854, 0.01818941,\n",
       "        0.04112293, 0.02010014, 1.        , 0.00915734, 0.05020362,\n",
       "        0.01938813, 0.03550756, 0.09973705, 0.01137724, 0.00787923],\n",
       "       [0.22467534, 0.47355091, 0.03943154, 0.36407383, 0.17957025,\n",
       "        0.2103538 , 0.45313915, 0.00915734, 1.        , 0.12034543,\n",
       "        0.34697301, 0.0693228 , 0.0918139 , 0.11436482, 0.3017965 ],\n",
       "       [0.50121882, 0.21467316, 0.31389513, 0.14409976, 0.36075049,\n",
       "        0.47875054, 0.24326482, 0.05020362, 0.12034543, 1.        ,\n",
       "        0.3310439 , 0.42103771, 0.32534428, 0.20866859, 0.15230294],\n",
       "       [0.64503515, 0.64402823, 0.10445439, 0.27176461, 0.46699732,\n",
       "        0.45503552, 0.54973893, 0.01938813, 0.34697301, 0.3310439 ,\n",
       "        1.        , 0.19897042, 0.17881621, 0.25430316, 0.38294481],\n",
       "       [0.30179997, 0.14052395, 0.27302428, 0.06598468, 0.3473374 ,\n",
       "        0.20945964, 0.12222274, 0.03550756, 0.0693228 , 0.42103771,\n",
       "        0.19897042, 1.        , 0.14679896, 0.29501695, 0.13161974],\n",
       "       [0.22087142, 0.11996362, 0.26539619, 0.18161413, 0.13115146,\n",
       "        0.39265129, 0.20121591, 0.09973705, 0.0918139 , 0.32534428,\n",
       "        0.17881621, 0.14679896, 1.        , 0.07069877, 0.06899971],\n",
       "       [0.29127399, 0.23693215, 0.08478134, 0.06925856, 0.51606088,\n",
       "        0.15172156, 0.14014092, 0.01137724, 0.11436482, 0.20866859,\n",
       "        0.25430316, 0.29501695, 0.07069877, 1.        , 0.32983841],\n",
       "       [0.29527949, 0.51565904, 0.04896277, 0.13727667, 0.37603554,\n",
       "        0.17483032, 0.25568112, 0.00787923, 0.3017965 , 0.15230294,\n",
       "        0.38294481, 0.13161974, 0.06899971, 0.32983841, 1.        ]])"
      ]
     },
     "execution_count": 77,
     "metadata": {},
     "output_type": "execute_result"
    }
   ],
   "source": [
    "np.array(data_dict['weights']).reshape(15,15)"
   ]
  },
  {
   "cell_type": "code",
   "execution_count": 304,
   "id": "218a4bbf-9c36-4aa2-9191-be6262576e76",
   "metadata": {},
   "outputs": [],
   "source": [
    "_node_ids = {}\n",
    "for i in range(15): # 노드 수\n",
    "    _node_ids['node'+str(i+1)] = i"
   ]
  },
  {
   "cell_type": "code",
   "execution_count": 306,
   "id": "28bed140-85e6-430c-88de-78cbbab5ef83",
   "metadata": {},
   "outputs": [],
   "source": [
    "_edges = np.array(data_dict['edges']).T\n",
    "_FX  =np.array(data_dict['X'])\n",
    "# _node_ids = data_dict['node_ids']"
   ]
  },
  {
   "cell_type": "code",
   "execution_count": 307,
   "id": "5a621318-2cbd-4f2f-b65a-a127656373da",
   "metadata": {},
   "outputs": [],
   "source": [
    "data_dict = {'edges':_edges, 'node_ids':_node_ids, 'FX':_FX}"
   ]
  },
  {
   "cell_type": "code",
   "execution_count": 308,
   "id": "4a68bc05-faa1-4817-b7ae-db893cc7c203",
   "metadata": {},
   "outputs": [],
   "source": [
    "save_data(data_dict, './data/pedalme.pkl')"
   ]
  },
  {
   "cell_type": "code",
   "execution_count": 309,
   "id": "7dd857b0-d6f4-4122-8da5-f7afdb6ac436",
   "metadata": {},
   "outputs": [],
   "source": [
    "_a = load_data('./data/pedalme.pkl')"
   ]
  },
  {
   "cell_type": "markdown",
   "id": "cbd1771e-6079-4634-8290-6c0316d9cffe",
   "metadata": {},
   "source": [
    "## WikiMathsDatasetLoader"
   ]
  },
  {
   "cell_type": "markdown",
   "id": "976e87d5-fe39-4915-8af0-e06166ab8130",
   "metadata": {},
   "source": [
    "Wikipedia Math\n",
    "\n",
    "- Contains Wikipedia pages about popular mathematics topics and edges describe the links from one page to another. Features describe the number of daily visits between 2019 and 2021 March."
   ]
  },
  {
   "cell_type": "markdown",
   "id": "f1b5634d-d8fe-46ce-bc7a-e9fa946186d4",
   "metadata": {},
   "source": [
    "데이터정리 \n",
    "\n",
    "- T = 730\n",
    "- V = 위키피디아 페이지\n",
    "- N = 1068 # number of nodes \n",
    "- E = 27079 # edges \n",
    "- $f(v,t)$의 차원? (1,) # 해당페이지를 유저가 방문한 횟수 \n",
    "- 시간에 따라서 N이 변하는지? False\n",
    "- 시간에 따라서 E가 변하는지? False\n",
    "- X: (1068,8) (N,8), $f(v,t_0),f(v,t_1),f(v,t_2),f(v,t_3),f(v,t_4),f(v,t_5),f(v,t_6),f(v,t_7)$\n",
    "- y: (1068,) (N,), $f(v,t_8)$\n",
    "- 예제코드적용가능여부: Yes"
   ]
  },
  {
   "cell_type": "markdown",
   "id": "608da6ae-166d-4d9e-90f7-c634cb254558",
   "metadata": {},
   "source": [
    "`-` Nodes : `1068`\n",
    "\n",
    "- vertices are Wikipedia pages\n",
    "\n",
    "`-`Edges : `27079`\n",
    "\n",
    "- edges are links between them\n",
    "\n",
    "`-` Time : `730`\n",
    "\n",
    "- Wikipedia pages between March 16th 2019 and March 15th 2021\n",
    "- per weeks"
   ]
  },
  {
   "cell_type": "code",
   "execution_count": 345,
   "id": "25921a13-0570-48f1-9a5e-bb4e88d2b6d7",
   "metadata": {},
   "outputs": [
    {
     "data": {
      "text/plain": [
       "dict_keys(['edges', 'weights', 'node_ids', 'time_periods', '0', '1', '2', '3', '4', '5', '6', '7', '8', '9', '10', '11', '12', '13', '14', '15', '16', '17', '18', '19', '20', '21', '22', '23', '24', '25', '26', '27', '28', '29', '30', '31', '32', '33', '34', '35', '36', '37', '38', '39', '40', '41', '42', '43', '44', '45', '46', '47', '48', '49', '50', '51', '52', '53', '54', '55', '56', '57', '58', '59', '60', '61', '62', '63', '64', '65', '66', '67', '68', '69', '70', '71', '72', '73', '74', '75', '76', '77', '78', '79', '80', '81', '82', '83', '84', '85', '86', '87', '88', '89', '90', '91', '92', '93', '94', '95', '96', '97', '98', '99', '100', '101', '102', '103', '104', '105', '106', '107', '108', '109', '110', '111', '112', '113', '114', '115', '116', '117', '118', '119', '120', '121', '122', '123', '124', '125', '126', '127', '128', '129', '130', '131', '132', '133', '134', '135', '136', '137', '138', '139', '140', '141', '142', '143', '144', '145', '146', '147', '148', '149', '150', '151', '152', '153', '154', '155', '156', '157', '158', '159', '160', '161', '162', '163', '164', '165', '166', '167', '168', '169', '170', '171', '172', '173', '174', '175', '176', '177', '178', '179', '180', '181', '182', '183', '184', '185', '186', '187', '188', '189', '190', '191', '192', '193', '194', '195', '196', '197', '198', '199', '200', '201', '202', '203', '204', '205', '206', '207', '208', '209', '210', '211', '212', '213', '214', '215', '216', '217', '218', '219', '220', '221', '222', '223', '224', '225', '226', '227', '228', '229', '230', '231', '232', '233', '234', '235', '236', '237', '238', '239', '240', '241', '242', '243', '244', '245', '246', '247', '248', '249', '250', '251', '252', '253', '254', '255', '256', '257', '258', '259', '260', '261', '262', '263', '264', '265', '266', '267', '268', '269', '270', '271', '272', '273', '274', '275', '276', '277', '278', '279', '280', '281', '282', '283', '284', '285', '286', '287', '288', '289', '290', '291', '292', '293', '294', '295', '296', '297', '298', '299', '300', '301', '302', '303', '304', '305', '306', '307', '308', '309', '310', '311', '312', '313', '314', '315', '316', '317', '318', '319', '320', '321', '322', '323', '324', '325', '326', '327', '328', '329', '330', '331', '332', '333', '334', '335', '336', '337', '338', '339', '340', '341', '342', '343', '344', '345', '346', '347', '348', '349', '350', '351', '352', '353', '354', '355', '356', '357', '358', '359', '360', '361', '362', '363', '364', '365', '366', '367', '368', '369', '370', '371', '372', '373', '374', '375', '376', '377', '378', '379', '380', '381', '382', '383', '384', '385', '386', '387', '388', '389', '390', '391', '392', '393', '394', '395', '396', '397', '398', '399', '400', '401', '402', '403', '404', '405', '406', '407', '408', '409', '410', '411', '412', '413', '414', '415', '416', '417', '418', '419', '420', '421', '422', '423', '424', '425', '426', '427', '428', '429', '430', '431', '432', '433', '434', '435', '436', '437', '438', '439', '440', '441', '442', '443', '444', '445', '446', '447', '448', '449', '450', '451', '452', '453', '454', '455', '456', '457', '458', '459', '460', '461', '462', '463', '464', '465', '466', '467', '468', '469', '470', '471', '472', '473', '474', '475', '476', '477', '478', '479', '480', '481', '482', '483', '484', '485', '486', '487', '488', '489', '490', '491', '492', '493', '494', '495', '496', '497', '498', '499', '500', '501', '502', '503', '504', '505', '506', '507', '508', '509', '510', '511', '512', '513', '514', '515', '516', '517', '518', '519', '520', '521', '522', '523', '524', '525', '526', '527', '528', '529', '530', '531', '532', '533', '534', '535', '536', '537', '538', '539', '540', '541', '542', '543', '544', '545', '546', '547', '548', '549', '550', '551', '552', '553', '554', '555', '556', '557', '558', '559', '560', '561', '562', '563', '564', '565', '566', '567', '568', '569', '570', '571', '572', '573', '574', '575', '576', '577', '578', '579', '580', '581', '582', '583', '584', '585', '586', '587', '588', '589', '590', '591', '592', '593', '594', '595', '596', '597', '598', '599', '600', '601', '602', '603', '604', '605', '606', '607', '608', '609', '610', '611', '612', '613', '614', '615', '616', '617', '618', '619', '620', '621', '622', '623', '624', '625', '626', '627', '628', '629', '630', '631', '632', '633', '634', '635', '636', '637', '638', '639', '640', '641', '642', '643', '644', '645', '646', '647', '648', '649', '650', '651', '652', '653', '654', '655', '656', '657', '658', '659', '660', '661', '662', '663', '664', '665', '666', '667', '668', '669', '670', '671', '672', '673', '674', '675', '676', '677', '678', '679', '680', '681', '682', '683', '684', '685', '686', '687', '688', '689', '690', '691', '692', '693', '694', '695', '696', '697', '698', '699', '700', '701', '702', '703', '704', '705', '706', '707', '708', '709', '710', '711', '712', '713', '714', '715', '716', '717', '718', '719', '720', '721', '722', '723', '724', '725', '726', '727', '728', '729', '730'])"
      ]
     },
     "execution_count": 345,
     "metadata": {},
     "output_type": "execute_result"
    }
   ],
   "source": [
    "url = \"https://raw.githubusercontent.com/benedekrozemberczki/pytorch_geometric_temporal/master/dataset/wikivital_mathematics.json\"\n",
    "data_dict = json.loads(urllib.request.urlopen(url).read())\n",
    "data_dict.keys()"
   ]
  },
  {
   "cell_type": "code",
   "execution_count": 346,
   "id": "bb22f6bc-5d68-445e-98b7-9e30bd535b2a",
   "metadata": {},
   "outputs": [
    {
     "data": {
      "text/plain": [
       "27079"
      ]
     },
     "execution_count": 346,
     "metadata": {},
     "output_type": "execute_result"
    }
   ],
   "source": [
    "len(data_dict['weights']) # time"
   ]
  },
  {
   "cell_type": "code",
   "execution_count": 351,
   "id": "eca84731-e090-495e-84fc-1b0e27cbab74",
   "metadata": {},
   "outputs": [
    {
     "data": {
      "text/plain": [
       "[1, 4, 2, 2, 5, 4, 4, 2, 1, 2]"
      ]
     },
     "execution_count": 351,
     "metadata": {},
     "output_type": "execute_result"
    }
   ],
   "source": [
    "data_dict['weights'][:10]"
   ]
  },
  {
   "cell_type": "code",
   "execution_count": 171,
   "id": "beeb2e83-6264-4d9c-b28f-80b5d0306b8d",
   "metadata": {},
   "outputs": [],
   "source": [
    "a = []\n",
    "for i in range(data_dict['time_periods']):\n",
    "    a.append(data_dict[str(i)]['y'])"
   ]
  },
  {
   "cell_type": "code",
   "execution_count": 173,
   "id": "406ac22a-aba2-4f02-b575-53056b787b5d",
   "metadata": {},
   "outputs": [],
   "source": [
    "_edges = np.array(data_dict['edges']).T\n",
    "_FX  =np.array(a)\n",
    "_node_ids = data_dict['node_ids']"
   ]
  },
  {
   "cell_type": "code",
   "execution_count": 174,
   "id": "068b0a1f-c274-4f88-87b9-b21742774fb3",
   "metadata": {},
   "outputs": [],
   "source": [
    "data_dict = {'edges':_edges, 'node_ids':_node_ids, 'FX':_FX}"
   ]
  },
  {
   "cell_type": "code",
   "execution_count": 175,
   "id": "e144dd1e-d8e1-4372-b3cf-beb18aea4204",
   "metadata": {},
   "outputs": [],
   "source": [
    "save_data(data_dict, './data/wikimath.pkl')"
   ]
  },
  {
   "cell_type": "code",
   "execution_count": 176,
   "id": "39cb043b-c8f1-49bf-8163-92f35e312ab9",
   "metadata": {},
   "outputs": [],
   "source": [
    "_a = load_data('./data/wikimath.pkl')"
   ]
  },
  {
   "cell_type": "markdown",
   "id": "ee97147d-92a1-4e11-b6c7-24afda90a8ef",
   "metadata": {},
   "source": [
    "## WindmillOutputLargeDatasetLoader"
   ]
  },
  {
   "cell_type": "markdown",
   "id": "12114fe2-fec8-4722-b793-57724d493a76",
   "metadata": {},
   "source": [
    "Hourly energy output of windmills from a European country for more than 2 years. Vertices represent 319 windmills and weighted edges describe the strength of relationships. The target variable allows for regression tasks."
   ]
  },
  {
   "cell_type": "markdown",
   "id": "992990e1-2beb-48d3-9c24-3ecd13b47fb8",
   "metadata": {},
   "source": [
    "데이터정리 \n",
    "\n",
    "- T = 17470\n",
    "- V = 풍력발전소\n",
    "- N = 319 # number of nodes \n",
    "- E = 101761 = N^2 # edges \n",
    "- $f(v,t)$의 차원? (1,) # Hourly energy output \n",
    "- 시간에 따라서 N이 변하는지? False\n",
    "- 시간에 따라서 E가 변하는지? False\n",
    "- X: (319,4) (N,4), $f(v,t_0),f(v,t_1),f(v,t_2),f(v,t_3)$\n",
    "- y: (319,) (N,), $f(v,t_4)$\n",
    "- 예제코드적용가능여부: Yes"
   ]
  },
  {
   "cell_type": "markdown",
   "id": "9db15143-3b02-4fb3-90bf-cf7b0ddbeaf9",
   "metadata": {},
   "source": [
    "`-` Nodes : `319`\n",
    "\n",
    "- vertices represent 319 windmills\n",
    "\n",
    "`-`Edges : `101761`\n",
    "\n",
    "- weighted edges describe the strength of relationships.\n",
    "\n",
    "`-` Time : `17470`\n",
    "\n",
    "- more than 2 years"
   ]
  },
  {
   "cell_type": "code",
   "execution_count": 365,
   "id": "6b24d4a6-dace-43e5-af1e-81f108d2d9b5",
   "metadata": {},
   "outputs": [
    {
     "data": {
      "text/plain": [
       "dict_keys(['block', 'time_periods', 'weights', 'edges'])"
      ]
     },
     "execution_count": 365,
     "metadata": {},
     "output_type": "execute_result"
    }
   ],
   "source": [
    "url = \"https://graphmining.ai/temporal_datasets/windmill_output.json\"\n",
    "data_dict = json.loads(urllib.request.urlopen(url).read())\n",
    "data_dict.keys()"
   ]
  },
  {
   "cell_type": "code",
   "execution_count": 366,
   "id": "1cfd648a-8cd3-46c8-ac2e-6fa18d2fd18b",
   "metadata": {},
   "outputs": [
    {
     "data": {
      "text/plain": [
       "array([[1.        , 0.83313653, 0.76403123, ..., 0.03572003, 0.02756888,\n",
       "        0.01799128],\n",
       "       [0.83313653, 1.        , 0.91705372, ..., 0.03025762, 0.0241852 ,\n",
       "        0.01583424],\n",
       "       [0.76403123, 0.91705372, 1.        , ..., 0.02794797, 0.02269021,\n",
       "        0.01487937],\n",
       "       ...,\n",
       "       [0.03572003, 0.03025762, 0.02794797, ..., 1.        , 0.29412671,\n",
       "        0.21992883],\n",
       "       [0.02756888, 0.0241852 , 0.02269021, ..., 0.29412671, 1.        ,\n",
       "        0.64651593],\n",
       "       [0.01799128, 0.01583424, 0.01487937, ..., 0.21992883, 0.64651593,\n",
       "        1.        ]])"
      ]
     },
     "execution_count": 366,
     "metadata": {},
     "output_type": "execute_result"
    }
   ],
   "source": [
    "np.array(data_dict['weights']).reshape(319,319)"
   ]
  },
  {
   "cell_type": "code",
   "execution_count": 360,
   "id": "e195adf8-2eb8-44cb-849e-dff6154830f8",
   "metadata": {},
   "outputs": [
    {
     "data": {
      "text/plain": [
       "array([[  0,   0,   0, ..., 318, 318, 318],\n",
       "       [  0,   1,   2, ..., 316, 317, 318]])"
      ]
     },
     "execution_count": 360,
     "metadata": {},
     "output_type": "execute_result"
    }
   ],
   "source": [
    "np.array(data_dict['edges']).T"
   ]
  },
  {
   "cell_type": "code",
   "execution_count": 311,
   "id": "07f02344-1efb-4bb4-89fe-1912ea059566",
   "metadata": {},
   "outputs": [],
   "source": [
    "_edges = np.array(data_dict['edges']).T\n",
    "_FX  =np.array(data_dict['block'])\n",
    "# _node_ids = data_dict['node_ids']"
   ]
  },
  {
   "cell_type": "code",
   "execution_count": 312,
   "id": "0c6b04bd-0e7e-4d5c-bbd7-c823c2326751",
   "metadata": {},
   "outputs": [],
   "source": [
    "_node_ids = {}\n",
    "for i in range(319): # 노드 수\n",
    "    _node_ids['node'+str(i+1)] = i"
   ]
  },
  {
   "cell_type": "code",
   "execution_count": 313,
   "id": "500bf79c-df67-4058-a7bf-c0bb3bdcb62b",
   "metadata": {},
   "outputs": [],
   "source": [
    "data_dict = {'edges':_edges, 'node_ids':_node_ids, 'FX':_FX}"
   ]
  },
  {
   "cell_type": "code",
   "execution_count": 314,
   "id": "00b7842e-5baf-4491-b045-c03a183c5a31",
   "metadata": {},
   "outputs": [],
   "source": [
    "save_data(data_dict, './data/windmiloutputlarge.pkl')"
   ]
  },
  {
   "cell_type": "code",
   "execution_count": 315,
   "id": "37ccda7a-8163-417b-9282-d77cc3a47639",
   "metadata": {},
   "outputs": [],
   "source": [
    "_a = load_data('./data/windmiloutputlarge.pkl')"
   ]
  },
  {
   "cell_type": "markdown",
   "id": "079657e9-e9b0-4f3b-a280-0defead423f1",
   "metadata": {},
   "source": [
    "## WindmillOutputMediumDatasetLoader"
   ]
  },
  {
   "cell_type": "markdown",
   "id": "6d02edcd-b21a-4404-bdb1-4711fa2a26ec",
   "metadata": {},
   "source": [
    "Hourly energy output of windmills from a European country for more than 2 years. Vertices represent 26 windmills and weighted edges describe the strength of relationships. The target variable allows for regression tasks.\n",
    "\n"
   ]
  },
  {
   "cell_type": "markdown",
   "id": "60c355ca-e3c8-4e61-aeaf-a4373ee575e1",
   "metadata": {},
   "source": [
    "데이터정리 \n",
    "\n",
    "- T = 17470\n",
    "- V = 풍력발전소\n",
    "- N = 319 # number of nodes \n",
    "- E = 101761 = N^2 # edges \n",
    "- $f(v,t)$의 차원? (1,) # Hourly energy output \n",
    "- 시간에 따라서 N이 변하는지? False\n",
    "- 시간에 따라서 E가 변하는지? False\n",
    "- X: (319,4) (N,4), $f(v,t_0),f(v,t_1),f(v,t_2),f(v,t_3)$\n",
    "- y: (319,) (N,), $f(v,t_4)$\n",
    "- 예제코드적용가능여부: Yes"
   ]
  },
  {
   "cell_type": "markdown",
   "id": "e7c77b91-f945-4523-9002-6fed5c91f3f7",
   "metadata": {},
   "source": [
    "`-` Nodes : `26`\n",
    "\n",
    "- vertices represent 26 windmills\n",
    "\n",
    "`-`Edges : `225`\n",
    "\n",
    "- weighted edges describe the strength of relationships\n",
    "\n",
    "`-` Time : `676`\n",
    "\n",
    "-  more than 2 years"
   ]
  },
  {
   "cell_type": "code",
   "execution_count": 367,
   "id": "c0f57b17-42af-442d-ac47-984fffa547cf",
   "metadata": {},
   "outputs": [
    {
     "data": {
      "text/plain": [
       "dict_keys(['block', 'time_periods', 'weights', 'edges'])"
      ]
     },
     "execution_count": 367,
     "metadata": {},
     "output_type": "execute_result"
    }
   ],
   "source": [
    "url = \"https://graphmining.ai/temporal_datasets/windmill_output_medium.json\"\n",
    "data_dict = json.loads(urllib.request.urlopen(url).read())\n",
    "data_dict.keys()"
   ]
  },
  {
   "cell_type": "code",
   "execution_count": 368,
   "id": "7dd830b7-f61b-4b95-be42-dbdb20afc06c",
   "metadata": {},
   "outputs": [
    {
     "data": {
      "text/plain": [
       "676"
      ]
     },
     "execution_count": 368,
     "metadata": {},
     "output_type": "execute_result"
    }
   ],
   "source": [
    "len(data_dict['weights']) # time"
   ]
  },
  {
   "cell_type": "code",
   "execution_count": 317,
   "id": "c6bc57f5-0e31-4387-8239-303ea0099aae",
   "metadata": {},
   "outputs": [],
   "source": [
    "_edges = np.array(data_dict['edges']).T\n",
    "_FX  =np.array(data_dict['block'])\n",
    "# _node_ids = data_dict['node_ids']"
   ]
  },
  {
   "cell_type": "code",
   "execution_count": 320,
   "id": "f9c6c892-fe43-4069-be34-bf3fde11b06c",
   "metadata": {},
   "outputs": [],
   "source": [
    "_node_ids = {}\n",
    "for i in range(26): # 노드 수\n",
    "    _node_ids['node'+str(i+1)] = i"
   ]
  },
  {
   "cell_type": "code",
   "execution_count": 321,
   "id": "91b68c74-5c0b-4dab-a980-03b0f9488b2a",
   "metadata": {},
   "outputs": [],
   "source": [
    "data_dict = {'edges':_edges, 'node_ids':_node_ids, 'FX':_FX}"
   ]
  },
  {
   "cell_type": "code",
   "execution_count": 322,
   "id": "fda77b81-39e6-4174-b78f-0e0a234d2fc8",
   "metadata": {},
   "outputs": [],
   "source": [
    "save_data(data_dict, './data/windmiloutputmedium.pkl')"
   ]
  },
  {
   "cell_type": "code",
   "execution_count": 323,
   "id": "3989607c-4c93-4476-82cf-87c810252656",
   "metadata": {},
   "outputs": [],
   "source": [
    "_a = load_data('./data/windmiloutputmedium.pkl')"
   ]
  },
  {
   "cell_type": "markdown",
   "id": "aef62c2d-6d8f-4249-baf7-0642768792ae",
   "metadata": {},
   "source": [
    "## WindmillOutputSmallDatasetLoader"
   ]
  },
  {
   "cell_type": "markdown",
   "id": "2b7c853b-3b66-432e-8909-7aff55cfbf07",
   "metadata": {},
   "source": [
    "Hourly energy output of windmills from a European country for more than 2 years. Vertices represent 11 windmills and weighted edges describe the strength of relationships. The target variable allows for regression tasks."
   ]
  },
  {
   "cell_type": "markdown",
   "id": "e8b475d0-7d12-4548-af02-45e40c87bb0f",
   "metadata": {},
   "source": [
    "데이터정리 \n",
    "\n",
    "- T = 17470\n",
    "- V = 풍력발전소\n",
    "- N = 319 # number of nodes \n",
    "- E = 101761 = N^2 # edges \n",
    "- $f(v,t)$의 차원? (1,) # Hourly energy output \n",
    "- 시간에 따라서 N이 변하는지? False\n",
    "- 시간에 따라서 E가 변하는지? False\n",
    "- X: (319,4) (N,4), $f(v,t_0),f(v,t_1),f(v,t_2),f(v,t_3)$\n",
    "- y: (319,) (N,), $f(v,t_4)$\n",
    "- 예제코드적용가능여부: Yes"
   ]
  },
  {
   "cell_type": "markdown",
   "id": "b940aa97-c98c-45f4-8d8b-123035e84e21",
   "metadata": {},
   "source": [
    "`-` Nodes : `11`\n",
    "\n",
    "- vertices represent 11 windmills\n",
    "\n",
    "`-`Edges : `121`\n",
    "\n",
    "- weighted edges describe the strength of relationships\n",
    "\n",
    "`-` Time : `17470`\n",
    "\n",
    "- more than 2 years"
   ]
  },
  {
   "cell_type": "code",
   "execution_count": 369,
   "id": "b58901ac-8a96-4419-b572-17b70e8af688",
   "metadata": {},
   "outputs": [
    {
     "data": {
      "text/plain": [
       "dict_keys(['block', 'time_periods', 'weights', 'edges'])"
      ]
     },
     "execution_count": 369,
     "metadata": {},
     "output_type": "execute_result"
    }
   ],
   "source": [
    "url = \"https://graphmining.ai/temporal_datasets/windmill_output_small.json\"\n",
    "data_dict = json.loads(urllib.request.urlopen(url).read())\n",
    "data_dict.keys()"
   ]
  },
  {
   "cell_type": "code",
   "execution_count": 373,
   "id": "3df6df58-c7ae-42fa-b75c-ba1b529fd08b",
   "metadata": {},
   "outputs": [
    {
     "data": {
      "text/plain": [
       "array([[1.00000000e+00, 6.53449779e-01, 6.88720384e-01, 9.50684990e-05,\n",
       "        1.35965452e-04, 1.38024037e-04, 2.71798291e-04, 2.78334508e-04,\n",
       "        1.70754759e-04, 1.55671262e-04, 1.42897986e-04],\n",
       "       [6.53449779e-01, 1.00000000e+00, 6.10555928e-01, 9.47825053e-05,\n",
       "        1.36722216e-04, 1.35232801e-04, 2.67822236e-04, 2.74920329e-04,\n",
       "        1.59076387e-04, 1.44522804e-04, 1.31402211e-04],\n",
       "       [6.88720384e-01, 6.10555928e-01, 1.00000000e+00, 6.62694081e-05,\n",
       "        9.49669821e-05, 9.58832593e-05, 1.89043088e-04, 1.93682141e-04,\n",
       "        1.17816378e-04, 1.07377523e-04, 9.85009508e-05],\n",
       "       [9.50684990e-05, 9.47825053e-05, 6.62694081e-05, 1.00000000e+00,\n",
       "        6.66529580e-01, 5.94252803e-01, 3.42248182e-01, 3.37293354e-01,\n",
       "        2.14443864e-01, 2.04545504e-01, 1.69910060e-01],\n",
       "       [1.35965452e-04, 1.36722216e-04, 9.49669821e-05, 6.66529580e-01,\n",
       "        1.00000000e+00, 5.80722593e-01, 4.51471657e-01, 4.52216799e-01,\n",
       "        2.02522211e-01, 1.88295941e-01, 1.52898882e-01],\n",
       "       [1.38024037e-04, 1.35232801e-04, 9.58832593e-05, 5.94252803e-01,\n",
       "        5.80722593e-01, 1.00000000e+00, 5.01447850e-01, 4.84756420e-01,\n",
       "        3.44433933e-01, 3.22469510e-01, 2.62739486e-01],\n",
       "       [2.71798291e-04, 2.67822236e-04, 1.89043088e-04, 3.42248182e-01,\n",
       "        4.51471657e-01, 5.01447850e-01, 1.00000000e+00, 9.48840520e-01,\n",
       "        2.93765234e-01, 2.63470751e-01, 2.11367696e-01],\n",
       "       [2.78334508e-04, 2.74920329e-04, 1.93682141e-04, 3.37293354e-01,\n",
       "        4.52216799e-01, 4.84756420e-01, 9.48840520e-01, 1.00000000e+00,\n",
       "        2.78896869e-01, 2.50073763e-01, 2.00640996e-01],\n",
       "       [1.70754759e-04, 1.59076387e-04, 1.17816378e-04, 2.14443864e-01,\n",
       "        2.02522211e-01, 3.44433933e-01, 2.93765234e-01, 2.78896869e-01,\n",
       "        1.00000000e+00, 8.87956667e-01, 7.18617802e-01],\n",
       "       [1.55671262e-04, 1.44522804e-04, 1.07377523e-04, 2.04545504e-01,\n",
       "        1.88295941e-01, 3.22469510e-01, 2.63470751e-01, 2.50073763e-01,\n",
       "        8.87956667e-01, 1.00000000e+00, 8.01212509e-01],\n",
       "       [1.42897986e-04, 1.31402211e-04, 9.85009508e-05, 1.69910060e-01,\n",
       "        1.52898882e-01, 2.62739486e-01, 2.11367696e-01, 2.00640996e-01,\n",
       "        7.18617802e-01, 8.01212509e-01, 1.00000000e+00]])"
      ]
     },
     "execution_count": 373,
     "metadata": {},
     "output_type": "execute_result"
    }
   ],
   "source": [
    "np.array(data_dict['weights']).reshape(11,11)"
   ]
  },
  {
   "cell_type": "code",
   "execution_count": 328,
   "id": "a73775d7-dc77-4c64-97ec-df4507ab335c",
   "metadata": {},
   "outputs": [],
   "source": [
    "_edges = np.array(data_dict['edges']).T\n",
    "_FX  =np.array(data_dict['block'])\n",
    "# _node_ids = data_dict['node_ids']"
   ]
  },
  {
   "cell_type": "code",
   "execution_count": 329,
   "id": "b3152671-11e3-4a32-86ef-8c32b525b4e9",
   "metadata": {},
   "outputs": [],
   "source": [
    "_node_ids = {}\n",
    "for i in range(11): # 노드 수\n",
    "    _node_ids['node'+str(i+1)] = i"
   ]
  },
  {
   "cell_type": "code",
   "execution_count": 330,
   "id": "91899e4a-93c0-476c-a154-43f442f385e7",
   "metadata": {},
   "outputs": [],
   "source": [
    "data_dict = {'edges':_edges, 'node_ids':_node_ids, 'FX':_FX}"
   ]
  },
  {
   "cell_type": "code",
   "execution_count": 331,
   "id": "7874ef29-69da-4a61-b5bc-eb0ad6e8c6ec",
   "metadata": {},
   "outputs": [],
   "source": [
    "save_data(data_dict, './data/windmiloutputsmall.pkl')"
   ]
  },
  {
   "cell_type": "code",
   "execution_count": 332,
   "id": "3fb1d05d-b9da-4c06-b5c4-25aab1f10e32",
   "metadata": {},
   "outputs": [],
   "source": [
    "_a = load_data('./data/windmiloutputsmall.pkl')"
   ]
  },
  {
   "cell_type": "markdown",
   "id": "06e956a0-5256-44ff-9a4b-842b7b91cf37",
   "metadata": {},
   "source": [
    "## METRLADatasetLoader_real world traffic dataset"
   ]
  },
  {
   "cell_type": "markdown",
   "id": "cb959e40-f34e-4c60-9e13-af9e4dde1f0e",
   "metadata": {},
   "source": [
    "A traffic forecasting dataset based on Los Angeles Metropolitan traffic conditions. The dataset contains traffic readings collected from 207 loop detectors on highways in Los Angeles County in aggregated 5 minute intervals for 4 months between March 2012 to June 2012."
   ]
  },
  {
   "cell_type": "markdown",
   "id": "967e5857-a1c8-4e9e-b83b-c24ae5693706",
   "metadata": {},
   "source": [
    "데이터정리 \n",
    "\n",
    "- T = 33\n",
    "- V = 구역\n",
    "- N = 207 # number of nodes \n",
    "- E = 225 \n",
    "- $f(v,t)$의 차원? (3,) # Hourly energy output \n",
    "- 시간에 따라서 N이 변하는지? False\n",
    "- 시간에 따라서 E가 변하는지? False\n",
    "- X: (207,4) (N,2,12), $x_0,x_1,x_2,x_3,x_4,x_5,x_6,x_7,x_8,x_9,x_{10},x_{11},z_0,z_1,z_2,z_3,z_4,z_5,z_6,z_7,z_8,z_9,z_{10},z_{11}$\n",
    "- y: (207,) (N,), $(x_{12})$\n",
    "- 예제코드적용가능여부: No"
   ]
  },
  {
   "cell_type": "markdown",
   "id": "0efac122-2304-4813-918e-318558896192",
   "metadata": {},
   "source": [
    "https://arxiv.org/pdf/1707.01926.pdf"
   ]
  },
  {
   "cell_type": "markdown",
   "id": "3a7c7d75-6b78-4e4c-a4cb-a3900b0f96d6",
   "metadata": {},
   "source": [
    "`-` Nodes : `207`\n",
    "\n",
    "- vertices are localities\n",
    "\n",
    "`-`Edges : `225`\n",
    "\n",
    "- edges are spatial_connections\n",
    "\n",
    "`-` Time : `33`\n",
    "\n",
    "- between 2020 and 2021\n",
    "- per weeks"
   ]
  },
  {
   "cell_type": "code",
   "execution_count": null,
   "id": "d8ef23de-9214-48fd-8818-523529299a2a",
   "metadata": {},
   "outputs": [],
   "source": [
    "url = \"https://graphmining.ai/temporal_datasets/METR-LA.zip\"\n",
    "data_dict = json.loads(urllib.request.urlopen(url).read())\n",
    "data_dict.keys()"
   ]
  },
  {
   "cell_type": "code",
   "execution_count": 24,
   "id": "1448e225-d5e1-44ba-bf3c-732cbc4ccbc0",
   "metadata": {},
   "outputs": [],
   "source": [
    "_edges = np.array(data_dict['edges']).T\n",
    "_FX  =np.array(data_dict['FX'])\n",
    "_node_ids = data_dict['node_ids']"
   ]
  },
  {
   "cell_type": "code",
   "execution_count": 26,
   "id": "55f096fa-e521-441e-b073-ff5a5abd912c",
   "metadata": {},
   "outputs": [],
   "source": [
    "data_dict = {'edges':_edges, 'node_ids':_node_ids, 'FX':_FX}"
   ]
  },
  {
   "cell_type": "code",
   "execution_count": 28,
   "id": "89e13480-a768-44a9-871f-15849d7d6984",
   "metadata": {},
   "outputs": [],
   "source": [
    "save_data(data_dict, './data/chickenpox.pkl')"
   ]
  },
  {
   "cell_type": "code",
   "execution_count": 29,
   "id": "d307af91-bb95-4939-b9fc-c3cd4be615b5",
   "metadata": {},
   "outputs": [],
   "source": [
    "_a = load_data('./data/chickenpox.pkl')"
   ]
  },
  {
   "cell_type": "markdown",
   "id": "98513e92-a5e1-44e1-b5d8-b0b7a6a2e547",
   "metadata": {
    "tags": []
   },
   "source": [
    "## PemsBayDatasetLoader"
   ]
  },
  {
   "cell_type": "markdown",
   "id": "5d5e70d7-4441-479a-96f1-c2b34e534c81",
   "metadata": {},
   "source": [
    "https://onlinelibrary.wiley.com/doi/pdf/10.1111/tgis.12644"
   ]
  },
  {
   "cell_type": "markdown",
   "id": "02eac145-28a9-44e6-986f-584f41b9c7cb",
   "metadata": {},
   "source": [
    "A traffic forecasting dataset as described in Diffusion Convolution Layer Paper.\n",
    "\n",
    "This traffic dataset is collected by California Transportation Agencies (CalTrans) Performance Measurement System (PeMS). It is represented by a network of 325 traffic sensors in the Bay Area with 6 months of traffic readings ranging from Jan 1st 2017 to May 31th 2017 in 5 minute intervals."
   ]
  },
  {
   "cell_type": "markdown",
   "id": "dbef28ce-8031-4b3e-b913-e2422ed463e4",
   "metadata": {},
   "source": [
    "데이터정리 \n",
    "\n",
    "- T = 17470\n",
    "- V = 풍력발전소\n",
    "- N = 325 # number of nodes \n",
    "- E = 101761 = N^2 # edges \n",
    "- $f(v,t)$의 차원? (1,) # Hourly energy output \n",
    "- 시간에 따라서 N이 변하는지? False\n",
    "- 시간에 따라서 E가 변하는지? False\n",
    "- X: (325,2,12) (N,2,12), \n",
    "    - $x_0,x_1,x_2,x_3,x_4,x_5,x_6,x_7,x_8,x_9,x_{10},x_{11}$ \n",
    "    - $z_0,z_1,z_2,z_3,z_4,z_5,z_6,z_7,z_8,z_9,z_{10},z_{11}$\n",
    "- y: (325,) (N,2,12), \n",
    "    - $x_{13},x_{14},x_{15},x_{16},x_{17},x_{18},x_{19},x_{20},x_{21},x_{22},x_{23},x_{24}$\n",
    "    - $z_{13},z_{14},z_{15},z_{16},z_{17},z_{18},z_{19},z_{20},z_{21},z_{22},z_{23},z_{24}$\n",
    "- 예제코드적용가능여부: No"
   ]
  },
  {
   "cell_type": "markdown",
   "id": "4a5f597b-1898-4ca4-b5be-6a3119290650",
   "metadata": {},
   "source": [
    "`-` Nodes : `325`\n",
    "\n",
    "- vertices are sensors\n",
    "\n",
    "`-`Edges : `2694`\n",
    "\n",
    "- weighted edges are between seonsor paris measured by the road nretwork distance\n",
    "\n",
    "`-` Time : `52081`\n",
    "\n",
    "- 6 months of traffic readings ranging from Jan 1st 2017 to May 31th 2017 in 5 minute intervals"
   ]
  },
  {
   "cell_type": "code",
   "execution_count": 209,
   "id": "e1a7b2b9-4dbf-442b-aeff-07aa1c9a4333",
   "metadata": {},
   "outputs": [
    {
     "data": {
      "text/plain": [
       "dict_keys(['edges', 'node_ids', 'FX'])"
      ]
     },
     "execution_count": 209,
     "metadata": {},
     "output_type": "execute_result"
    }
   ],
   "source": [
    "url = \"https://graphmining.ai/temporal_datasets/PEMS-BAY.zip\"\n",
    "data_dict = json.loads(urllib.request.urlopen(url).read())\n",
    "data_dict.keys()"
   ]
  },
  {
   "cell_type": "code",
   "execution_count": 210,
   "id": "d22e0016-9125-49c9-948f-b2f8b30061cc",
   "metadata": {},
   "outputs": [],
   "source": [
    "_edges = np.array(data_dict['edges']).T\n",
    "_FX  =np.array(data_dict['FX'])\n",
    "_node_ids = data_dict['node_ids']"
   ]
  },
  {
   "cell_type": "code",
   "execution_count": 26,
   "id": "64e5484d-9806-494d-ba05-96283d430879",
   "metadata": {},
   "outputs": [],
   "source": [
    "data_dict = {'edges':_edges, 'node_ids':_node_ids, 'FX':_FX}"
   ]
  },
  {
   "cell_type": "code",
   "execution_count": 28,
   "id": "577584a9-f6f6-420a-a358-1020b1f2d4d3",
   "metadata": {},
   "outputs": [],
   "source": [
    "save_data(data_dict, './data/pemsbay.pkl')"
   ]
  },
  {
   "cell_type": "code",
   "execution_count": 301,
   "id": "f58c72db-e688-4e0a-8a3c-e52f6a2af274",
   "metadata": {},
   "outputs": [],
   "source": [
    "_a = load_data('./data/pemsbay.pkl')"
   ]
  },
  {
   "cell_type": "markdown",
   "id": "314331ae-7c4b-4298-ad31-51da0736242b",
   "metadata": {},
   "source": [
    "## EnglandCovidDatasetLoader"
   ]
  },
  {
   "cell_type": "markdown",
   "id": "cc55841f-00cd-4ba1-8cb2-dd6a75e00fc8",
   "metadata": {},
   "source": [
    "Covid19 England\n",
    "\n",
    "- A dataset about mass mobility between regions in England and the number of confirmed COVID-19 cases from March to May 2020 [38]. Each day contains a different mobility graph and node features corresponding to the number of cases in the previous days. Mobility stems from Facebook Data For Good 1 and cases from gov.uk 2"
   ]
  },
  {
   "cell_type": "markdown",
   "id": "38dc3ed1-6c6e-4ae4-b2c6-b7e233abbde2",
   "metadata": {},
   "source": [
    "https://arxiv.org/pdf/2009.08388.pdf"
   ]
  },
  {
   "cell_type": "markdown",
   "id": "9d480491-77c7-4885-945e-1cdcb3eadcc1",
   "metadata": {},
   "source": [
    "데이터정리 \n",
    "\n",
    "- T = 60\n",
    "- V = 지역\n",
    "- N = 129 # number of nodes \n",
    "- E = 2158\n",
    "- $f(v,t)$의 차원? (1,) # 코로나확진자수\n",
    "- 시간에 따라서 Number of nodes가 변하는지? False\n",
    "- 시간에 따라서 Number of edge가 변하는지? TRUE\n",
    "- X: (20,4) (N,4), $f(v,t_0),f(v,t_1),f(v,t_2),f(v,t_3)$\n",
    "- y: (20,) (N,), $f(v,t_4)$\n",
    "- 예제코드적용가능여부: Yes"
   ]
  },
  {
   "cell_type": "markdown",
   "id": "d0f18497-1fe2-414f-9605-b44ab16b291d",
   "metadata": {},
   "source": [
    "`-` Nodes : `129`\n",
    "\n",
    "- vertices are correspond to the number of COVID-19 cases in the region in the past window days.\n",
    "\n",
    "`-`Edges : `2158`\n",
    "\n",
    "- the spatial edges capture county-to-county movement at a specific date, and a county is connected to a number of past instances of itself with temporal edges.\n",
    "\n",
    "`-` Time : `61`\n",
    "\n",
    "- from 3 March to 12 of May"
   ]
  },
  {
   "cell_type": "code",
   "execution_count": 395,
   "id": "8eef8f54-02a3-4893-bdfa-459102c091f4",
   "metadata": {},
   "outputs": [
    {
     "data": {
      "text/plain": [
       "dict_keys(['edge_mapping', 'time_periods', 'y'])"
      ]
     },
     "execution_count": 395,
     "metadata": {},
     "output_type": "execute_result"
    }
   ],
   "source": [
    "url = \"https://raw.githubusercontent.com/benedekrozemberczki/pytorch_geometric_temporal/master/dataset/england_covid.json\"\n",
    "data_dict = json.loads(urllib.request.urlopen(url).read())\n",
    "data_dict.keys()"
   ]
  },
  {
   "cell_type": "code",
   "execution_count": 396,
   "id": "33334061-dc23-4456-8638-c2870b966f78",
   "metadata": {},
   "outputs": [
    {
     "data": {
      "text/plain": [
       "dict_keys(['edge_index', 'edge_weight'])"
      ]
     },
     "execution_count": 396,
     "metadata": {},
     "output_type": "execute_result"
    }
   ],
   "source": [
    "data_dict['edge_mapping'].keys()"
   ]
  },
  {
   "cell_type": "code",
   "execution_count": 397,
   "id": "fdbc4dc5-b170-48a9-b882-e55c45f0caf4",
   "metadata": {},
   "outputs": [
    {
     "data": {
      "text/plain": [
       "61"
      ]
     },
     "execution_count": 397,
     "metadata": {},
     "output_type": "execute_result"
    }
   ],
   "source": [
    "len(data_dict['edge_mapping']['edge_weight'])"
   ]
  },
  {
   "cell_type": "code",
   "execution_count": 398,
   "id": "4927d30d-7961-4d2a-859d-fe239266a23a",
   "metadata": {},
   "outputs": [
    {
     "data": {
      "text/plain": [
       "1048"
      ]
     },
     "execution_count": 398,
     "metadata": {},
     "output_type": "execute_result"
    }
   ],
   "source": [
    "len(data_dict['edge_mapping']['edge_weight']['50'])"
   ]
  },
  {
   "cell_type": "code",
   "execution_count": 405,
   "id": "c1b739b3-6a01-4ef6-97fb-4ec1887f469a",
   "metadata": {},
   "outputs": [],
   "source": [
    "a = []\n",
    "for i in range(data_dict['time_periods']):\n",
    "    a.append(np.array(data_dict['edge_mapping']['edge_index'][str(i)]).T)"
   ]
  },
  {
   "cell_type": "code",
   "execution_count": 419,
   "id": "5916f565-f994-4ae6-bbe0-09abb53151a4",
   "metadata": {},
   "outputs": [],
   "source": [
    "b = []\n",
    "for i in range(data_dict['time_periods']):\n",
    "    b.append(np.array(data_dict['edge_mapping']['edge_weight'][str(i)]))"
   ]
  },
  {
   "cell_type": "code",
   "execution_count": null,
   "id": "6c22ba2a-d2d2-4fd8-84ad-0231eb3c65b9",
   "metadata": {},
   "outputs": [],
   "source": [
    "_edges = np.array(a)\n",
    "_FX  =np.array(data_dict['y'])\n",
    "# _node_ids = data_dict['y']"
   ]
  },
  {
   "cell_type": "code",
   "execution_count": 78,
   "id": "cce8fbba-961b-4ee9-a040-4d62fcd32901",
   "metadata": {},
   "outputs": [],
   "source": [
    "_node_ids = {'node1':0, 'node2':1, 'node3':2, 'node4':3, 'node5':4,\n",
    "            'node6':6, 'node7':7, 'node8':8, 'node9':9, 'node10':10,\n",
    "            'node11':11, 'node12':12, 'node13':13, 'node14':14, 'node15':15} "
   ]
  },
  {
   "cell_type": "code",
   "execution_count": 26,
   "id": "7271b611-3244-4f10-9bc2-1fbe6a010a8f",
   "metadata": {},
   "outputs": [],
   "source": [
    "data_dict = {'edges':_edges, 'node_ids':_node_ids, 'FX':_FX}"
   ]
  },
  {
   "cell_type": "code",
   "execution_count": 28,
   "id": "bbe6d57e-1680-4164-871c-cdaee051f9d3",
   "metadata": {},
   "outputs": [],
   "source": [
    "save_data(data_dict, './data/chickenpox.pkl')"
   ]
  },
  {
   "cell_type": "code",
   "execution_count": 29,
   "id": "790c6638-cf67-4683-ab0c-28c93cf475d8",
   "metadata": {},
   "outputs": [],
   "source": [
    "_a = load_data('./data/chickenpox.pkl')"
   ]
  },
  {
   "cell_type": "markdown",
   "id": "560bd710-2e8b-4260-8135-4498edc6b4bd",
   "metadata": {},
   "source": [
    "## MontevideoBusDatasetLoader"
   ]
  },
  {
   "cell_type": "markdown",
   "id": "8c40fd14-0caa-40ea-ae58-a1e2593b8213",
   "metadata": {},
   "source": [
    "https://www.fing.edu.uy/~renzom/msc/uploads/msc-thesis.pdf"
   ]
  },
  {
   "cell_type": "markdown",
   "id": "893524d2-89df-4622-98e1-efe5b1ef9186",
   "metadata": {},
   "source": [
    "Montevideo Buses\n",
    "\n",
    "- A dataset about the hourly passenger inflow at bus stop level for eleven bus lines from the city of Montevideo. Nodes are bus stops and edges represent connections between the stops; the dataset covers a whole month of traffic patterns."
   ]
  },
  {
   "cell_type": "markdown",
   "id": "39fefc6c-96a8-4808-9c5c-28bf012082b0",
   "metadata": {},
   "source": [
    "데이터정리 \n",
    "\n",
    "- T = 743\n",
    "- V = 버스정류장 \n",
    "- N = 675 # number of nodes \n",
    "- E = 101761 = N^2 # edges \n",
    "- $f(v,t)$의 차원? (1,) # passenger inflow \n",
    "- 시간에 따라서 Number of nodes가 변하는지? False\n",
    "- 시간에 따라서 Number of nodes가 변하는지? False\n",
    "- X: (675,4) (N,4), $f(v,t_0),f(v,t_1),f(v,t_2),f(v,t_3)$\n",
    "- y: (675,,) (N,), $f(v,t_4)$\n",
    "- 예제코드적용가능여부: Yes"
   ]
  },
  {
   "cell_type": "markdown",
   "id": "708ec2ba-9770-426f-9ba2-0a733696a296",
   "metadata": {},
   "source": [
    "`-` Nodes : `675`\n",
    "\n",
    "- vertices are bus stops\n",
    "\n",
    "`-`Edges : `690`\n",
    "\n",
    "- edges are links between bus stops when a bus line connects them and the weight represent the road distance\n",
    "\n",
    "`-` Time : `743`\n",
    "\n",
    "-  hourly inflow passenger data at bus stop level for 11 bus lines during October 2020 from Montevideo city (Uruguay)."
   ]
  },
  {
   "cell_type": "code",
   "execution_count": 424,
   "id": "e8d80206-fdd8-42f8-9f66-d9e03b7a5943",
   "metadata": {},
   "outputs": [
    {
     "data": {
      "text/plain": [
       "dict_keys(['directed', 'multigraph', 'graph', 'nodes', 'links'])"
      ]
     },
     "execution_count": 424,
     "metadata": {},
     "output_type": "execute_result"
    }
   ],
   "source": [
    "url = \"https://raw.githubusercontent.com/benedekrozemberczki/pytorch_geometric_temporal/master/dataset/montevideo_bus.json\"\n",
    "data_dict = json.loads(urllib.request.urlopen(url).read())\n",
    "data_dict.keys()"
   ]
  },
  {
   "cell_type": "code",
   "execution_count": 455,
   "id": "a01cf79d-e2ef-424d-890a-99843f4fd5f7",
   "metadata": {},
   "outputs": [
    {
     "data": {
      "text/plain": [
       "True"
      ]
     },
     "execution_count": 455,
     "metadata": {},
     "output_type": "execute_result"
    }
   ],
   "source": [
    "data_dict['directed']"
   ]
  },
  {
   "cell_type": "code",
   "execution_count": 457,
   "id": "850c077c-b6cd-44a6-bd29-4464d08adcb3",
   "metadata": {},
   "outputs": [
    {
     "data": {
      "text/plain": [
       "False"
      ]
     },
     "execution_count": 457,
     "metadata": {},
     "output_type": "execute_result"
    }
   ],
   "source": [
    "data_dict['multigraph']"
   ]
  },
  {
   "cell_type": "code",
   "execution_count": 458,
   "id": "ebe5cd64-62c6-4fdf-aaee-2f296299e015",
   "metadata": {},
   "outputs": [
    {
     "data": {
      "text/plain": [
       "{'name': 'Bus lines of Montevideo'}"
      ]
     },
     "execution_count": 458,
     "metadata": {},
     "output_type": "execute_result"
    }
   ],
   "source": [
    "data_dict['graph']"
   ]
  },
  {
   "cell_type": "code",
   "execution_count": 430,
   "id": "e690ad05-af9b-43ea-a74f-dce3af6409f8",
   "metadata": {},
   "outputs": [
    {
     "data": {
      "text/plain": [
       "5289"
      ]
     },
     "execution_count": 430,
     "metadata": {},
     "output_type": "execute_result"
    }
   ],
   "source": [
    "data_dict['nodes'][0]['bus_stop']"
   ]
  },
  {
   "cell_type": "code",
   "execution_count": 431,
   "id": "9a123c90-b2c1-449f-9cdf-641d92a1eae1",
   "metadata": {},
   "outputs": [
    {
     "data": {
      "text/plain": [
       "0"
      ]
     },
     "execution_count": 431,
     "metadata": {},
     "output_type": "execute_result"
    }
   ],
   "source": [
    "data_dict['nodes'][0]['in_degree']"
   ]
  },
  {
   "cell_type": "code",
   "execution_count": 432,
   "id": "0ad1db9b-4ffe-4152-94ef-193f52b4757a",
   "metadata": {},
   "outputs": [
    {
     "data": {
      "text/plain": [
       "589196"
      ]
     },
     "execution_count": 432,
     "metadata": {},
     "output_type": "execute_result"
    }
   ],
   "source": [
    "data_dict['nodes'][0]['lon']"
   ]
  },
  {
   "cell_type": "code",
   "execution_count": 434,
   "id": "8214dfa8-4784-4afc-8596-a227d6f28bff",
   "metadata": {},
   "outputs": [
    {
     "data": {
      "text/plain": [
       "6151987"
      ]
     },
     "execution_count": 434,
     "metadata": {},
     "output_type": "execute_result"
    }
   ],
   "source": [
    "data_dict['nodes'][0]['lat']"
   ]
  },
  {
   "cell_type": "code",
   "execution_count": 242,
   "id": "09774111-83c9-493a-8424-beea366e69ab",
   "metadata": {},
   "outputs": [
    {
     "data": {
      "text/plain": [
       "744"
      ]
     },
     "execution_count": 242,
     "metadata": {},
     "output_type": "execute_result"
    }
   ],
   "source": [
    "len(data_dict['nodes'][0]['y'])"
   ]
  },
  {
   "cell_type": "code",
   "execution_count": 438,
   "id": "12aa9309-89f1-4c73-8b40-1a9cc7a75bbf",
   "metadata": {},
   "outputs": [
    {
     "data": {
      "text/plain": [
       "744"
      ]
     },
     "execution_count": 438,
     "metadata": {},
     "output_type": "execute_result"
    }
   ],
   "source": [
    "len(data_dict['nodes'][0]['X']['y'])"
   ]
  },
  {
   "cell_type": "code",
   "execution_count": 442,
   "id": "2417f1f0-8e39-44fb-be1a-4fd9cf1e904f",
   "metadata": {},
   "outputs": [
    {
     "data": {
      "text/plain": [
       "dict_keys(['weight', 'source', 'target'])"
      ]
     },
     "execution_count": 442,
     "metadata": {},
     "output_type": "execute_result"
    }
   ],
   "source": [
    "data_dict['links'][0].keys()"
   ]
  },
  {
   "cell_type": "code",
   "execution_count": 449,
   "id": "ab5e9d2a-ed51-44e0-aee5-012f2860baeb",
   "metadata": {},
   "outputs": [],
   "source": [
    "a = []\n",
    "for i in range(len(data_dict['links'])):\n",
    "    a.append(data_dict['links'][i]['weight'])"
   ]
  },
  {
   "cell_type": "code",
   "execution_count": 451,
   "id": "8b2c2f69-554f-40b1-87d5-cf85101a403e",
   "metadata": {},
   "outputs": [],
   "source": [
    "b = []\n",
    "for i in range(len(data_dict['links'])):\n",
    "    b.append(data_dict['links'][i]['source'])"
   ]
  },
  {
   "cell_type": "code",
   "execution_count": 453,
   "id": "dbcc75f9-6f13-478d-a8d7-fedb46fd3a00",
   "metadata": {},
   "outputs": [],
   "source": [
    "c = []\n",
    "for i in range(len(data_dict['links'])):\n",
    "    c.append(data_dict['links'][i]['target'])"
   ]
  },
  {
   "cell_type": "code",
   "execution_count": 454,
   "id": "d837914d-26be-47d3-baa0-1f44433d345f",
   "metadata": {},
   "outputs": [],
   "source": [
    "_node_ids = {}\n",
    "for i in range(675): # 노드 수\n",
    "    _node_ids['node'+str(i+1)] = i"
   ]
  },
  {
   "cell_type": "code",
   "execution_count": null,
   "id": "26dc389f-404e-41c2-870d-6e0e83e86137",
   "metadata": {},
   "outputs": [],
   "source": [
    "_edges = np.array(data_dict['edges']).T\n",
    "_FX  =np.array(c)\n",
    "_node_ids = data_dict['node_ids']"
   ]
  },
  {
   "cell_type": "code",
   "execution_count": 26,
   "id": "d2f6f575-7279-4ff3-9677-80c7965b2056",
   "metadata": {},
   "outputs": [],
   "source": [
    "data_dict = {'edges':_edges, 'node_ids':_node_ids, 'FX':_FX}"
   ]
  },
  {
   "cell_type": "code",
   "execution_count": 28,
   "id": "fface4be-0336-478a-bf12-e91a08d2d230",
   "metadata": {},
   "outputs": [],
   "source": [
    "save_data(data_dict, './data/chickenpox.pkl')"
   ]
  },
  {
   "cell_type": "code",
   "execution_count": 29,
   "id": "5411128e-894e-407b-a8f0-541c4cd0a010",
   "metadata": {},
   "outputs": [],
   "source": [
    "_a = load_data('./data/chickenpox.pkl')"
   ]
  },
  {
   "cell_type": "markdown",
   "id": "769b8a46-526b-4c24-9e86-a777569374d6",
   "metadata": {},
   "source": [
    "## TwitterTennisDatasetLoader"
   ]
  },
  {
   "cell_type": "markdown",
   "id": "fd68e4a2-71b7-47ac-b54d-d8f745ac0220",
   "metadata": {},
   "source": [
    "https://appliednetsci.springeropen.com/articles/10.1007/s41109-018-0080-5?ref=https://githubhelp.com"
   ]
  },
  {
   "cell_type": "markdown",
   "id": "34bd76d7-cfac-4c97-95fc-dd55d90970a8",
   "metadata": {},
   "source": [
    "Twitter Tennis RG and UO\n",
    "\n",
    "- Twitter mention graphs of major tennis tournaments from 2017. Each snapshot contains the graph of popular player or sport news accounts and mentions between them [5, 6]. Node labels encode the number of mentions received and vertex features are structural properties"
   ]
  },
  {
   "cell_type": "markdown",
   "id": "c6522549-67d3-426a-b17c-f7d489fd3063",
   "metadata": {},
   "source": [
    "데이터정리 \n",
    "\n",
    "- T = 52081\n",
    "- V = 트위터계정  \n",
    "- N = 1000 # number of nodes \n",
    "- E = 119 = N^2 # edges \n",
    "- $f(v,t)$의 차원? (1,) # passenger inflow \n",
    "- 시간에 따라서 N이 변하는지? ??\n",
    "- 시간에 따라서 E가 변하는지? True\n",
    "- X: ?\n",
    "- y: ?\n",
    "- 예제코드적용가능여부: No"
   ]
  },
  {
   "cell_type": "markdown",
   "id": "51351c1e-1271-42fa-b232-95a7d821bac2",
   "metadata": {},
   "source": [
    "`-` Nodes : `1000`\n",
    "\n",
    "- vertices are Twitter accounts\n",
    "\n",
    "`-`Edges : `119`\n",
    "\n",
    "- edges are mentions between them\n",
    "\n",
    "`-` Time : `52081`\n",
    "\n",
    "- Twitter mention graphs related to major tennis tournaments from 2017"
   ]
  },
  {
   "cell_type": "code",
   "execution_count": 250,
   "id": "3994bc65-540f-4981-bb1b-49ae5914c114",
   "metadata": {},
   "outputs": [
    {
     "data": {
      "text/plain": [
       "dict_keys(['0', '1', '2', '3', '4', '5', '6', '7', '8', '9', '10', '11', '12', '13', '14', '15', '16', '17', '18', '19', '20', '21', '22', '23', '24', '25', '26', '27', '28', '29', '30', '31', '32', '33', '34', '35', '36', '37', '38', '39', '40', '41', '42', '43', '44', '45', '46', '47', '48', '49', '50', '51', '52', '53', '54', '55', '56', '57', '58', '59', '60', '61', '62', '63', '64', '65', '66', '67', '68', '69', '70', '71', '72', '73', '74', '75', '76', '77', '78', '79', '80', '81', '82', '83', '84', '85', '86', '87', '88', '89', '90', '91', '92', '93', '94', '95', '96', '97', '98', '99', '100', '101', '102', '103', '104', '105', '106', '107', '108', '109', '110', '111', '112', '113', '114', '115', '116', '117', '118', '119', 'time_periods', 'node_ids'])"
      ]
     },
     "execution_count": 250,
     "metadata": {},
     "output_type": "execute_result"
    }
   ],
   "source": [
    "url = \"https://raw.githubusercontent.com/benedekrozemberczki/pytorch_geometric_temporal/master/dataset/twitter_tennis_rg17.json\"\n",
    "data_dict = json.loads(urllib.request.urlopen(url).read())\n",
    "data_dict.keys()"
   ]
  },
  {
   "cell_type": "code",
   "execution_count": 265,
   "id": "8b007943-c0c6-43b0-91fc-3a05e94efcaf",
   "metadata": {},
   "outputs": [],
   "source": [
    "# a = []\n",
    "# for i in range(data_dict['time_periods']):\n",
    "#     a.append(np.array(data_dict[str(i)]['edges']).T)"
   ]
  },
  {
   "cell_type": "code",
   "execution_count": 263,
   "id": "0cd60f28-821a-4467-9365-ee1b6145f66a",
   "metadata": {},
   "outputs": [
    {
     "data": {
      "text/plain": [
       "1000"
      ]
     },
     "execution_count": 263,
     "metadata": {},
     "output_type": "execute_result"
    }
   ],
   "source": [
    "len(data_dict['0']['y'])"
   ]
  },
  {
   "cell_type": "code",
   "execution_count": 264,
   "id": "e0a21d81-4e67-457e-8ead-b273c73b5a6f",
   "metadata": {},
   "outputs": [
    {
     "data": {
      "text/plain": [
       "1000"
      ]
     },
     "execution_count": 264,
     "metadata": {},
     "output_type": "execute_result"
    }
   ],
   "source": [
    "len(data_dict['0']['X'])"
   ]
  },
  {
   "cell_type": "code",
   "execution_count": 24,
   "id": "7c10398f-1bf3-4031-afd2-525b0d0f37b8",
   "metadata": {},
   "outputs": [],
   "source": [
    "_edges = np.array(a)\n",
    "_FX  =np.array(data_dict['FX'])\n",
    "_node_ids = data_dict['node_ids']"
   ]
  },
  {
   "cell_type": "code",
   "execution_count": 26,
   "id": "48cce087-1b76-41f0-b58b-9d198c2c68c4",
   "metadata": {},
   "outputs": [],
   "source": [
    "data_dict = {'edges':_edges, 'node_ids':_node_ids, 'FX':_FX}"
   ]
  },
  {
   "cell_type": "code",
   "execution_count": 28,
   "id": "3f2caf30-8257-4eb2-9e52-e478e010da58",
   "metadata": {},
   "outputs": [],
   "source": [
    "save_data(data_dict, './data/chickenpox.pkl')"
   ]
  },
  {
   "cell_type": "code",
   "execution_count": 29,
   "id": "b6528fce-a0e4-4d67-9151-67e352ff2420",
   "metadata": {},
   "outputs": [],
   "source": [
    "_a = load_data('./data/chickenpox.pkl')"
   ]
  },
  {
   "cell_type": "markdown",
   "id": "de4d3cf4-b1d3-48ab-84d6-e663e2960e18",
   "metadata": {},
   "source": [
    "## MTMDatasetLoader"
   ]
  },
  {
   "cell_type": "markdown",
   "id": "f723087d-051b-4a7a-891b-c0f05456eec7",
   "metadata": {},
   "source": [
    "MTM-1 Hand Motions\n",
    "\n",
    "- A temporal dataset of MethodsTime Measurement-1 [36] motions, signalled as consecutive graph frames of 21 3D hand key points that were acquired via MediaPipe Hands [64] from original RGB-Video material. Node features encode the normalized xyz-coordinates of each finger joint and the vertices are connected according to the human hand structure."
   ]
  },
  {
   "cell_type": "markdown",
   "id": "f4df0e95-caa0-4507-95c0-692a153f324b",
   "metadata": {},
   "source": [
    "데이터정리 \n",
    "\n",
    "- T = 14452\n",
    "- V = 손의 shape에 대응하는 dot    \n",
    "- N = 325 # number of nodes \n",
    "- E = 19 = N^2 # edges \n",
    "- $f(v,t)$의 차원? (Grasp, Release, Move, Reach, Poision, -1)\n",
    "- 시간에 따라서 N이 변하는지? ??\n",
    "- 시간에 따라서 E가 변하는지? ??\n",
    "- X: ?\n",
    "- y: ?\n",
    "- 예제코드적용가능여부: No"
   ]
  },
  {
   "cell_type": "markdown",
   "id": "f65ed5d2-f1d2-40b4-80aa-0bac683d95ad",
   "metadata": {},
   "source": [
    "`-` Nodes : `325`\n",
    "\n",
    "- vertices are are the finger joints of the human hand\n",
    "\n",
    "`-`Edges : `19`\n",
    "\n",
    "- edges are the bones connecting them\n",
    "\n",
    "`-` Time : `14452`"
   ]
  },
  {
   "cell_type": "code",
   "execution_count": 266,
   "id": "ea898243-b1bd-4ad3-a237-c95ff97d5a27",
   "metadata": {},
   "outputs": [
    {
     "data": {
      "text/plain": [
       "dict_keys(['0', '1', '2', '3', '4', '5', '6', '7', '8', '9', '10', '11', '12', '13', '14', '15', '16', '17', '18', '19', '20', 'LABEL', 'edges'])"
      ]
     },
     "execution_count": 266,
     "metadata": {},
     "output_type": "execute_result"
    }
   ],
   "source": [
    "  url = \"https://raw.githubusercontent.com/benedekrozemberczki/pytorch_geometric_temporal/master/dataset/mtm_1.json\"\n",
    "data_dict = json.loads(urllib.request.urlopen(url).read())\n",
    "data_dict.keys()"
   ]
  },
  {
   "cell_type": "code",
   "execution_count": 273,
   "id": "d1b23c30-9a65-421b-8b2e-ac7845ed2409",
   "metadata": {},
   "outputs": [
    {
     "data": {
      "text/plain": [
       "14469"
      ]
     },
     "execution_count": 273,
     "metadata": {},
     "output_type": "execute_result"
    }
   ],
   "source": [
    "len(data_dict['0'])"
   ]
  },
  {
   "cell_type": "code",
   "execution_count": 24,
   "id": "3005541a-7253-466b-a1d1-63542e2aa6ab",
   "metadata": {},
   "outputs": [],
   "source": [
    "_edges = np.array(data_dict['edges']).T\n",
    "_FX  =np.array(data_dict['FX'])\n",
    "_node_ids = data_dict['node_ids']"
   ]
  },
  {
   "cell_type": "code",
   "execution_count": 26,
   "id": "043dacf3-d3ea-4630-99cc-4be06ca9f31f",
   "metadata": {},
   "outputs": [],
   "source": [
    "data_dict = {'edges':_edges, 'node_ids':_node_ids, 'FX':_FX}"
   ]
  },
  {
   "cell_type": "code",
   "execution_count": 28,
   "id": "76c207d0-64e2-4a71-b927-6665ae7841aa",
   "metadata": {},
   "outputs": [],
   "source": [
    "save_data(data_dict, './data/chickenpox.pkl')"
   ]
  },
  {
   "cell_type": "code",
   "execution_count": 29,
   "id": "79562ae5-2ba9-4dc9-8904-d11ab7a02919",
   "metadata": {},
   "outputs": [],
   "source": [
    "_a = load_data('./data/chickenpox.pkl')"
   ]
  },
  {
   "cell_type": "code",
   "execution_count": null,
   "id": "ea292f3e-c6c9-46fe-b471-5842cb8358e0",
   "metadata": {},
   "outputs": [],
   "source": []
  }
 ],
 "metadata": {
  "kernelspec": {
   "display_name": "Python 3 (ipykernel)",
   "language": "python",
   "name": "python3"
  },
  "language_info": {
   "codemirror_mode": {
    "name": "ipython",
    "version": 3
   },
   "file_extension": ".py",
   "mimetype": "text/x-python",
   "name": "python",
   "nbconvert_exporter": "python",
   "pygments_lexer": "ipython3",
   "version": "3.8.12"
  }
 },
 "nbformat": 4,
 "nbformat_minor": 5
}

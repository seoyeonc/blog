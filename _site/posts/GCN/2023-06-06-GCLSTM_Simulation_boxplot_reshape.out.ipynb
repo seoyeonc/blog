{
  "cells": [
    {
      "cell_type": "markdown",
      "metadata": {},
      "source": [
        "# GCLSTM_Simulation_reshape\n",
        "\n",
        "SEOYEON CHOI  \n",
        "6/6/23\n",
        "\n",
        "> Simulation Study"
      ],
      "id": "dd583f89-f2a2-4df6-a169-22a0284aa35a"
    },
    {
      "cell_type": "code",
      "execution_count": 30,
      "metadata": {},
      "outputs": [],
      "source": [
        "import itstgcnGCLSTM\n",
        "import torch\n",
        "import itstgcnGCLSTM.planner \n",
        "import pandas as pd\n",
        "\n",
        "import numpy as np\n",
        "import random"
      ],
      "id": "c6d24e07-5382-4b04-9458-6358e286a941"
    },
    {
      "cell_type": "code",
      "execution_count": 11,
      "metadata": {},
      "outputs": [],
      "source": [
        "from torch_geometric_temporal.dataset import WikiMathsDatasetLoader\n",
        "loader3 = WikiMathsDatasetLoader()"
      ],
      "id": "30c68665-51e2-4285-b378-137c6471c9d6"
    },
    {
      "cell_type": "code",
      "execution_count": 12,
      "metadata": {},
      "outputs": [],
      "source": [
        "from torch_geometric_temporal.dataset import MontevideoBusDatasetLoader\n",
        "loader10 = MontevideoBusDatasetLoader()"
      ],
      "id": "9e217bb9-3030-4e7a-a839-eb733fcc5f0d"
    },
    {
      "cell_type": "markdown",
      "metadata": {},
      "source": [
        "# wiki, monte 안 돌림"
      ],
      "id": "4462cc3d-0cf7-44d7-a9d4-7d244e2430d2"
    },
    {
      "cell_type": "code",
      "execution_count": null,
      "metadata": {},
      "outputs": [],
      "source": [
        "plans_stgcn_rand = {\n",
        "    'max_iteration': 5, \n",
        "    'method': ['STGCN', 'IT-STGCN'],\n",
        "    'mrate': [0.5],\n",
        "    'lags': [8], \n",
        "    'nof_filters': [64], \n",
        "    'inter_method': ['linear'],\n",
        "    'epoch': [50]\n",
        "}"
      ],
      "id": "004b6266-59a5-4bf7-98e1-09441142ab55"
    },
    {
      "cell_type": "code",
      "execution_count": null,
      "metadata": {},
      "outputs": [],
      "source": [
        "plnr = itstgcnGCLSTM.planner.PLNR_STGCN_RAND(plans_stgcn_rand,loader3,dataset_name='wikimath')\n",
        "plnr.simulate()"
      ],
      "id": "7d28a650-2f7c-48a8-a548-46cdd8d7b148"
    },
    {
      "cell_type": "code",
      "execution_count": null,
      "metadata": {},
      "outputs": [],
      "source": [
        "plnr = itstgcnGCLSTM.planner.PLNR_STGCN_RAND(plans_stgcn_rand,loader3,dataset_name='wikimath')\n",
        "plnr.simulate()"
      ],
      "id": "658127d5-6c12-4b10-8408-492f00652679"
    },
    {
      "cell_type": "code",
      "execution_count": null,
      "metadata": {},
      "outputs": [],
      "source": [
        "plnr = itstgcnGCLSTM.planner.PLNR_STGCN_RAND(plans_stgcn_rand,loader3,dataset_name='wikimath')\n",
        "plnr.simulate()"
      ],
      "id": "92f47fff-a96f-4d62-b878-fda7f46a78c4"
    },
    {
      "cell_type": "code",
      "execution_count": null,
      "metadata": {},
      "outputs": [],
      "source": [
        "plnr = itstgcnGCLSTM.planner.PLNR_STGCN_RAND(plans_stgcn_rand,loader3,dataset_name='wikimath')\n",
        "plnr.simulate()"
      ],
      "id": "274c15d8-dfe6-4021-9c7c-72521ccdae72"
    },
    {
      "cell_type": "code",
      "execution_count": null,
      "metadata": {},
      "outputs": [],
      "source": [
        "plnr = itstgcnGCLSTM.planner.PLNR_STGCN_RAND(plans_stgcn_rand,loader3,dataset_name='wikimath')\n",
        "plnr.simulate()"
      ],
      "id": "e90790c3-52cb-4a82-bdbd-f64f8f9ea244"
    },
    {
      "cell_type": "code",
      "execution_count": null,
      "metadata": {},
      "outputs": [],
      "source": [
        "plnr = itstgcnGCLSTM.planner.PLNR_STGCN_RAND(plans_stgcn_rand,loader3,dataset_name='wikimath')\n",
        "plnr.simulate()"
      ],
      "id": "0e9592c8-e305-4c83-82d2-fc0ca7e7fdcb"
    },
    {
      "cell_type": "code",
      "execution_count": null,
      "metadata": {},
      "outputs": [],
      "source": [
        "plans_stgcn_rand = {\n",
        "    'max_iteration': 5, \n",
        "    'method': ['STGCN', 'IT-STGCN'],\n",
        "    'mrate': [0.6],\n",
        "    'lags': [8], \n",
        "    'nof_filters': [64], \n",
        "    'inter_method': ['linear'],\n",
        "    'epoch': [50]\n",
        "}"
      ],
      "id": "f0a4f922-7cdb-40d6-b386-20007ed7a9d3"
    },
    {
      "cell_type": "code",
      "execution_count": null,
      "metadata": {},
      "outputs": [],
      "source": [
        "plnr = itstgcnGCLSTM.planner.PLNR_STGCN_RAND(plans_stgcn_rand,loader3,dataset_name='wikimath')\n",
        "plnr.simulate()"
      ],
      "id": "e493a1a7-4a3f-48f4-b42c-33133c35d7be"
    },
    {
      "cell_type": "code",
      "execution_count": null,
      "metadata": {},
      "outputs": [],
      "source": [
        "plnr = itstgcnGCLSTM.planner.PLNR_STGCN_RAND(plans_stgcn_rand,loader3,dataset_name='wikimath')\n",
        "plnr.simulate()"
      ],
      "id": "7838ca09-9f51-4e92-885b-bdd62917cbb1"
    },
    {
      "cell_type": "code",
      "execution_count": null,
      "metadata": {},
      "outputs": [],
      "source": [
        "plnr = itstgcnGCLSTM.planner.PLNR_STGCN_RAND(plans_stgcn_rand,loader3,dataset_name='wikimath')\n",
        "plnr.simulate()"
      ],
      "id": "962c587f-11f1-4380-9ddb-57272daaedf4"
    },
    {
      "cell_type": "code",
      "execution_count": null,
      "metadata": {},
      "outputs": [],
      "source": [
        "plnr = itstgcnGCLSTM.planner.PLNR_STGCN_RAND(plans_stgcn_rand,loader3,dataset_name='wikimath')\n",
        "plnr.simulate()"
      ],
      "id": "b3a90047-c7cc-4516-9191-31f43ac4773e"
    },
    {
      "cell_type": "code",
      "execution_count": null,
      "metadata": {},
      "outputs": [],
      "source": [
        "plnr = itstgcnGCLSTM.planner.PLNR_STGCN_RAND(plans_stgcn_rand,loader3,dataset_name='wikimath')\n",
        "plnr.simulate()"
      ],
      "id": "3549fdf1-ed57-43a3-b5f4-966535e4def3"
    },
    {
      "cell_type": "code",
      "execution_count": null,
      "metadata": {},
      "outputs": [],
      "source": [
        "plnr = itstgcnGCLSTM.planner.PLNR_STGCN_RAND(plans_stgcn_rand,loader3,dataset_name='wikimath')\n",
        "plnr.simulate()"
      ],
      "id": "3c891fbd-01c5-4204-8c7e-ed0cb96dbe62"
    },
    {
      "cell_type": "code",
      "execution_count": null,
      "metadata": {},
      "outputs": [],
      "source": [
        "plans_stgcn_rand = {\n",
        "    'max_iteration': 10, \n",
        "    'method': ['STGCN', 'IT-STGCN'],\n",
        "    'mrate': [0.3],\n",
        "    'lags': [4], \n",
        "    'nof_filters': [12], \n",
        "    'inter_method': ['nearest'],\n",
        "    'epoch': [50]\n",
        "}"
      ],
      "id": "f37487e2-062d-4640-9fc2-3753f7e885d4"
    },
    {
      "cell_type": "code",
      "execution_count": null,
      "metadata": {},
      "outputs": [],
      "source": [
        "plnr = itstgcnGCLSTM.planner.PLNR_STGCN_RAND(plans_stgcn_rand,loader10,dataset_name='monte')\n",
        "plnr.simulate()"
      ],
      "id": "4299b7e1-0c09-40a6-9d43-a83e5eba59dd"
    },
    {
      "cell_type": "code",
      "execution_count": null,
      "metadata": {},
      "outputs": [],
      "source": [
        "plnr = itstgcnGCLSTM.planner.PLNR_STGCN_RAND(plans_stgcn_rand,loader10,dataset_name='monte')\n",
        "plnr.simulate()"
      ],
      "id": "1473e964-7f5e-41c2-a6a5-786ae67e1d33"
    },
    {
      "cell_type": "code",
      "execution_count": null,
      "metadata": {},
      "outputs": [],
      "source": [
        "plnr = itstgcnGCLSTM.planner.PLNR_STGCN_RAND(plans_stgcn_rand,loader10,dataset_name='monte')\n",
        "plnr.simulate()"
      ],
      "id": "3174db7b-2f16-4ec3-a1c3-50c9ad26ba6c"
    },
    {
      "cell_type": "code",
      "execution_count": null,
      "metadata": {},
      "outputs": [],
      "source": [
        "plans_stgcn_rand = {\n",
        "    'max_iteration': 10, \n",
        "    'method': ['STGCN', 'IT-STGCN'],\n",
        "    'mrate': [0.5],\n",
        "    'lags': [4], \n",
        "    'nof_filters': [12], \n",
        "    'inter_method': ['nearest'],\n",
        "    'epoch': [50]\n",
        "}"
      ],
      "id": "56aa79ce-7f24-464f-978c-ddc76de96e63"
    },
    {
      "cell_type": "code",
      "execution_count": null,
      "metadata": {},
      "outputs": [],
      "source": [
        "plnr = itstgcnGCLSTM.planner.PLNR_STGCN_RAND(plans_stgcn_rand,loader10,dataset_name='monte')\n",
        "plnr.simulate()"
      ],
      "id": "b18e319a-b601-4513-8336-d4c7ce09b8f8"
    },
    {
      "cell_type": "code",
      "execution_count": null,
      "metadata": {},
      "outputs": [],
      "source": [
        "plnr = itstgcnGCLSTM.planner.PLNR_STGCN_RAND(plans_stgcn_rand,loader10,dataset_name='monte')\n",
        "plnr.simulate()"
      ],
      "id": "b143e2e6-8c5f-41bb-91e6-b435cbc1d651"
    },
    {
      "cell_type": "code",
      "execution_count": null,
      "metadata": {},
      "outputs": [],
      "source": [
        "plnr = itstgcnGCLSTM.planner.PLNR_STGCN_RAND(plans_stgcn_rand,loader10,dataset_name='monte')\n",
        "plnr.simulate()"
      ],
      "id": "1a367be3-76d1-4dc0-90b0-9dcdb242ab1c"
    },
    {
      "cell_type": "code",
      "execution_count": null,
      "metadata": {},
      "outputs": [],
      "source": [
        "plans_stgcn_rand = {\n",
        "    'max_iteration': 10, \n",
        "    'method': ['STGCN', 'IT-STGCN'],\n",
        "    'mrate': [0.7],\n",
        "    'lags': [4], \n",
        "    'nof_filters': [12], \n",
        "    'inter_method': ['nearest'],\n",
        "    'epoch': [50]\n",
        "}"
      ],
      "id": "b5f5cfcb-ee29-4db4-9d3d-9cba1c9c497d"
    },
    {
      "cell_type": "code",
      "execution_count": null,
      "metadata": {},
      "outputs": [],
      "source": [
        "plnr = itstgcnGCLSTM.planner.PLNR_STGCN_RAND(plans_stgcn_rand,loader10,dataset_name='monte')\n",
        "plnr.simulate()"
      ],
      "id": "99f4166e-ed90-4131-b30d-a851928c2fb7"
    },
    {
      "cell_type": "code",
      "execution_count": null,
      "metadata": {},
      "outputs": [],
      "source": [
        "plnr = itstgcnGCLSTM.planner.PLNR_STGCN_RAND(plans_stgcn_rand,loader10,dataset_name='monte')\n",
        "plnr.simulate()"
      ],
      "id": "d0ddec7d-5159-42fd-9816-51a5db1c6ece"
    },
    {
      "cell_type": "code",
      "execution_count": null,
      "metadata": {},
      "outputs": [],
      "source": [
        "plnr = itstgcnGCLSTM.planner.PLNR_STGCN_RAND(plans_stgcn_rand,loader10,dataset_name='monte')\n",
        "plnr.simulate()"
      ],
      "id": "105cabc9-a01f-4f6a-acc4-9fbc90160662"
    },
    {
      "cell_type": "markdown",
      "metadata": {},
      "source": [
        "# Import"
      ],
      "id": "3bbce8dd-c017-4139-8eca-fe574172f831"
    },
    {
      "cell_type": "code",
      "execution_count": 2,
      "metadata": {},
      "outputs": [],
      "source": [
        "import matplotlib.pyplot as plt\n",
        "import pandas as pd\n",
        "import numpy as np"
      ],
      "id": "e6138af0-1e03-45cc-b452-e0f2fad60006"
    },
    {
      "cell_type": "markdown",
      "metadata": {},
      "source": [
        "# Fivenodes"
      ],
      "id": "b6031cb5-b22f-4fdb-babf-0d83fceaa4f0"
    },
    {
      "cell_type": "code",
      "execution_count": 33,
      "metadata": {},
      "outputs": [],
      "source": [
        "df1 = pd.read_csv('./simulation_results/2023-06-13_07-17-07.csv')\n",
        "df2 = pd.read_csv('./simulation_results/2023-06-13_07-44-52.csv')\n",
        "df3 = pd.read_csv('./simulation_results/2023-06-13_08-12-37.csv')\n",
        "df4 = pd.read_csv('./simulation_results/2023-06-13_08-40-19.csv')\n",
        "df5 = pd.read_csv('./simulation_results/2023-06-13_12-54-53.csv')\n",
        "df6 = pd.read_csv('./simulation_results/2023-06-13_13-22-41.csv')\n",
        "df7 = pd.read_csv('./simulation_results/2023-06-13_13-50-26.csv')\n",
        "df8 = pd.read_csv('./simulation_results/2023-06-13_14-17-59.csv')"
      ],
      "id": "c532b2c5-b5d1-450b-9d13-822269c26238"
    },
    {
      "cell_type": "code",
      "execution_count": 33,
      "metadata": {},
      "outputs": [],
      "source": [
        "df9 = pd.read_csv('./simulation_results/2023-07-17_07-35-15.csv')\n",
        "df10 = pd.read_csv('./simulation_results/2023-07-17_08-03-56.csv')\n",
        "df11 = pd.read_csv('./simulation_results/2023-07-17_08-32-12.csv')\n",
        "df12 = pd.read_csv('./simulation_results/2023-07-17_08-59-03.csv')\n",
        "df13 = pd.read_csv('./simulation_results/2023-07-17_09-25-30.csv')\n",
        "df14 = pd.read_csv('./simulation_results/2023-07-17_09-53-40.csv')"
      ],
      "id": "a71c7f70-6b33-4c48-a780-7bc71f22dd60"
    },
    {
      "cell_type": "code",
      "execution_count": 34,
      "metadata": {},
      "outputs": [],
      "source": [
        "data = pd.concat([df1,df2,df3,df4,df5,df6,df7,df8,df9,df10,df11,df12,df13,df14],axis=0)"
      ],
      "id": "a39c0070-9cb1-449e-8127-0f5fe88b8595"
    },
    {
      "cell_type": "code",
      "execution_count": 35,
      "metadata": {},
      "outputs": [],
      "source": [
        "data.to_csv('./simulation_results/Real_simulation_reshape/GCLSTM_fivedones_Simulation.csv',index=False)"
      ],
      "id": "f5d14302-ee56-422b-99af-c96ab71d249b"
    },
    {
      "cell_type": "code",
      "execution_count": 36,
      "metadata": {},
      "outputs": [],
      "source": [
        "data = pd.read_csv('./simulation_results/Real_simulation_reshape/GCLSTM_fivedones_Simulation.csv')"
      ],
      "id": "17c4c893-bc46-4fa6-a02a-29a5cc7db8c2"
    },
    {
      "cell_type": "markdown",
      "metadata": {},
      "source": [
        "## Baseline"
      ],
      "id": "25ab1554-2f87-4e2a-8572-9c2403fa6a86"
    },
    {
      "cell_type": "code",
      "execution_count": 37,
      "metadata": {
        "tags": []
      },
      "outputs": [],
      "source": [
        "data.query(\"method!='GNAR' and mrate==0\").plot.box(backend='plotly',x='mrate',color='method',y='mse',facet_col='lags',facet_row='nof_filters',height=600)\n"
      ],
      "id": "a1439d62-0057-4fdb-a9c2-82ab4b52ad67"
    },
    {
      "cell_type": "markdown",
      "metadata": {},
      "source": [
        "## Random"
      ],
      "id": "15afc243-5efa-4170-81be-c55eb8ca6697"
    },
    {
      "cell_type": "code",
      "execution_count": 38,
      "metadata": {},
      "outputs": [],
      "source": [
        "data.query(\"method!='GNAR' and mtype =='rand'\").plot.box(backend='plotly',x='mrate',color='method',y='mse',facet_col='inter_method',facet_row='nof_filters',height=600)\n",
        "\n"
      ],
      "id": "b910bf66-bb54-4b52-812f-96077b8f3283"
    },
    {
      "cell_type": "markdown",
      "metadata": {},
      "source": [
        "## Block"
      ],
      "id": "47590bce-3ae6-4145-8dd0-3a0346195bd5"
    },
    {
      "cell_type": "code",
      "execution_count": 39,
      "metadata": {},
      "outputs": [],
      "source": [
        "data.query(\"method!='GNAR' and mtype =='block' \").plot.box(backend='plotly',x='mrate',color='method',y='mse',facet_col='inter_method',facet_row='nof_filters',height=600)\n"
      ],
      "id": "10918864-6c92-4702-98a6-6d45e7bbcda8"
    },
    {
      "cell_type": "markdown",
      "metadata": {},
      "source": [
        "# chickenpox"
      ],
      "id": "0cab1356-5304-442b-a5f5-bdc34fb8b9ea"
    },
    {
      "cell_type": "code",
      "execution_count": 31,
      "metadata": {},
      "outputs": [],
      "source": [
        "df1 = pd.read_csv('./simulation_results/2023-06-13_15-38-39.csv') # GNAR random\n",
        "df2 = pd.read_csv('./simulation_results/2023-06-13_16-57-23.csv') # GNAR block\n",
        "df3 = pd.read_csv('./simulation_results/2023-06-13_17-36-42.csv') # STGCN, ITSTGCN random 30%\n",
        "df4 = pd.read_csv('./simulation_results/2023-06-13_18-16-50.csv') \n",
        "df5 = pd.read_csv('./simulation_results/2023-06-13_19-43-23.csv') \n",
        "df6 = pd.read_csv('./simulation_results/2023-06-13_21-07-40.csv') "
      ],
      "id": "77144771-97f4-47cb-8f5f-18df80c9cfd7"
    },
    {
      "cell_type": "code",
      "execution_count": 32,
      "metadata": {},
      "outputs": [],
      "source": [
        "df7 = pd.read_csv('./simulation_results/2023-07-17_10-37-55.csv') # GNAR random\n",
        "df8 = pd.read_csv('./simulation_results/2023-07-17_11-21-39.csv') # GNAR block\n",
        "df9 = pd.read_csv('./simulation_results/2023-07-17_12-03-49.csv') # STGCN, ITSTGCN random 30%\n",
        "df10 = pd.read_csv('./simulation_results/2023-07-17_12-47-06.csv') "
      ],
      "id": "74b09002-1c1f-477e-812c-486bc6455022"
    },
    {
      "cell_type": "code",
      "execution_count": 33,
      "metadata": {},
      "outputs": [],
      "source": [
        "data = pd.concat([df1,df2,df3,df4,df5,df6,df7,df8,df9,df10],axis=0)"
      ],
      "id": "60a194a5-8fe1-44ba-8b0e-763bfec5170a"
    },
    {
      "cell_type": "code",
      "execution_count": 34,
      "metadata": {},
      "outputs": [],
      "source": [
        "data.to_csv('./simulation_results/Real_simulation_reshape/GCLSTM_chikenpox_Simulation.csv',index=False)"
      ],
      "id": "f3754ce0-fb48-41b0-8207-daccd1d98b81"
    },
    {
      "cell_type": "code",
      "execution_count": 35,
      "metadata": {},
      "outputs": [],
      "source": [
        "data = pd.read_csv('./simulation_results/Real_simulation_reshape/GCLSTM_chikenpox_Simulation.csv')"
      ],
      "id": "13a16e2f-f79c-4e56-976f-ad123f753048"
    },
    {
      "cell_type": "markdown",
      "metadata": {},
      "source": [
        "## Baseline"
      ],
      "id": "3b47ebd0-68f9-4620-ae7b-9a4570168a8c"
    },
    {
      "cell_type": "code",
      "execution_count": 36,
      "metadata": {},
      "outputs": [],
      "source": [
        "data.query(\"method!='GNAR' and mrate ==0 \").plot.box(backend='plotly',x='mrate',color='method',y='mse',facet_col='nof_filters',height=600)\n"
      ],
      "id": "a3069f9e-ee93-48e1-b7fb-096ef57b9d71"
    },
    {
      "cell_type": "markdown",
      "metadata": {},
      "source": [
        "## Random"
      ],
      "id": "741f9c7e-2cc4-4a50-bcc6-6c61f1720635"
    },
    {
      "cell_type": "code",
      "execution_count": 37,
      "metadata": {},
      "outputs": [],
      "source": [
        "data.query(\"method!='GNAR' and mtype =='rand'\").plot.box(backend='plotly',x='mrate',color='method',y='mse',facet_col='nof_filters',facet_row='inter_method',height=800)\n"
      ],
      "id": "73fbb247-719c-4733-8d87-330e91f9bc5e"
    },
    {
      "cell_type": "markdown",
      "metadata": {},
      "source": [
        "## Block"
      ],
      "id": "4a0dcf35-af89-4c8c-be25-2e423981aa03"
    },
    {
      "cell_type": "code",
      "execution_count": 38,
      "metadata": {},
      "outputs": [],
      "source": [
        "data.query(\"method!='GNAR' and mtype =='block'\").plot.box(backend='plotly',x='mrate',color='method',y='mse',facet_col='inter_method',facet_row='lags',height=800)\n"
      ],
      "id": "9126a0bf-74d9-4980-94ec-f4ce9578b604"
    },
    {
      "cell_type": "markdown",
      "metadata": {},
      "source": [
        "# Pedalme"
      ],
      "id": "c52bc41c-b0a6-46ab-9d08-95aeee4a352b"
    },
    {
      "cell_type": "code",
      "execution_count": 40,
      "metadata": {},
      "outputs": [],
      "source": [
        "df1 = pd.read_csv('./simulation_results/2023-06-07_07-17-13.csv') \n",
        "df2 = pd.read_csv('./simulation_results/2023-06-07_07-27-02.csv')  "
      ],
      "id": "3997ccd8-def3-4e27-8795-2244451f4d38"
    },
    {
      "cell_type": "code",
      "execution_count": 41,
      "metadata": {},
      "outputs": [],
      "source": [
        "df3 = pd.read_csv('./simulation_results/2023-07-17_13-06-02.csv') "
      ],
      "id": "b11a8fe8-94b6-4d3d-b43f-b98ef8d05820"
    },
    {
      "cell_type": "code",
      "execution_count": 42,
      "metadata": {},
      "outputs": [],
      "source": [
        "data = pd.concat([df1,df2,df3],axis=0)"
      ],
      "id": "2c183870-efe4-44b9-8b37-6fb79a92b206"
    },
    {
      "cell_type": "code",
      "execution_count": 43,
      "metadata": {},
      "outputs": [],
      "source": [
        "data.to_csv('./simulation_results/Real_simulation_reshape/GCLSTM_pedalme_Simulation.csv',index=False)"
      ],
      "id": "8a316f80-a3a1-4b93-9009-f0023e7a4722"
    },
    {
      "cell_type": "code",
      "execution_count": 44,
      "metadata": {},
      "outputs": [],
      "source": [
        "data = pd.read_csv('./simulation_results/Real_simulation_reshape/GCLSTM_pedalme_Simulation.csv')"
      ],
      "id": "ae980e81-54eb-41b1-b6c7-056fad357542"
    },
    {
      "cell_type": "markdown",
      "metadata": {},
      "source": [
        "## Baseline"
      ],
      "id": "e917a628-f39f-44db-ae07-0df900aac0e7"
    },
    {
      "cell_type": "code",
      "execution_count": 45,
      "metadata": {},
      "outputs": [],
      "source": [
        "data.query(\"mrate ==0 and lags!=2\").plot.box(backend='plotly',x='epoch',color='method',y='mse',facet_col='nof_filters',facet_row='lags',height=400)\n"
      ],
      "id": "38a6a1d9-9010-4fff-a305-e49633aa11fe"
    },
    {
      "cell_type": "markdown",
      "metadata": {},
      "source": [
        "## random"
      ],
      "id": "ee8b3e63-4af4-4668-a507-e185d544a272"
    },
    {
      "cell_type": "code",
      "execution_count": 46,
      "metadata": {},
      "outputs": [],
      "source": [
        "data.query(\"method!='GNAR' and mtype =='rand' and lags!=2\").plot.box(backend='plotly',x='mrate',color='method',y='mse',facet_col='nof_filters',facet_row='inter_method',height=800)\n"
      ],
      "id": "947b37f6-2311-4030-8997-f01f53a20264"
    },
    {
      "cell_type": "markdown",
      "metadata": {},
      "source": [
        "## block"
      ],
      "id": "bb5fe4cd-79a4-4b74-b76b-5c8e553cac02"
    },
    {
      "cell_type": "code",
      "execution_count": 47,
      "metadata": {},
      "outputs": [],
      "source": [
        "data.query(\"method!='GNAR' and mtype =='block' and lags!=2 \").plot.box(backend='plotly',x='mrate',color='method',y='mse',facet_col='nof_filters',facet_row='inter_method',height=800)\n"
      ],
      "id": "effab4b0-09a2-4e61-bcdc-acc4d95201c1"
    },
    {
      "cell_type": "markdown",
      "metadata": {},
      "source": [
        "## weight matrix time, node 고려한 결과"
      ],
      "id": "f6c70cc9-fea1-4253-abfd-4cf244a1bf39"
    },
    {
      "cell_type": "code",
      "execution_count": 252,
      "metadata": {},
      "outputs": [],
      "source": [
        "# df1 = pd.read_csv('./simulation_results/2023-06-13_18-41-53.csv') # gclm 잘못 돌림\n",
        "df1 = pd.read_csv('./simulation_results/2023-06-13_18-14-13.csv')\n",
        "df2 = pd.read_csv('./simulation_results/2023-06-16_20-25-15.csv')"
      ],
      "id": "b0832a6e-0109-47ae-a51e-b95953939581"
    },
    {
      "cell_type": "code",
      "execution_count": 174,
      "metadata": {},
      "outputs": [],
      "source": [
        "data2 = pd.concat([df1,df2],axis=0)"
      ],
      "id": "8610ae9a-5e7f-45ae-a3d3-e4030628a788"
    },
    {
      "cell_type": "code",
      "execution_count": 175,
      "metadata": {},
      "outputs": [],
      "source": [
        "data2.to_csv('./simulation_results/Real_simulation_reshape/GCLSTM_pedalme_Simulation_itstgcnsnd.csv',index=False)"
      ],
      "id": "5116cf83-b9e7-4cfc-88a2-99f1d93929ea"
    },
    {
      "cell_type": "code",
      "execution_count": 176,
      "metadata": {},
      "outputs": [],
      "source": [
        "data2 = pd.read_csv('./simulation_results/Real_simulation_reshape/GCLSTM_pedalme_Simulation_itstgcnsnd.csv')"
      ],
      "id": "7835d80b-8c9f-4d26-8efd-0b6784c1285e"
    },
    {
      "cell_type": "code",
      "execution_count": 177,
      "metadata": {},
      "outputs": [],
      "source": [
        "data2.query(\"mtype=='rand'\").plot.box(backend='plotly',x='mrate',color='method',y='mse',facet_col='inter_method',facet_row='nof_filters',height=1000)"
      ],
      "id": "97bc6ab6-b28f-4203-b1da-bcc6a696d166"
    },
    {
      "cell_type": "code",
      "execution_count": 178,
      "metadata": {},
      "outputs": [],
      "source": [
        "data2.query(\"mtype=='block'\").plot.box(backend='plotly',x='mrate',color='method',y='mse',facet_col='inter_method',facet_row='nof_filters',height=1000)"
      ],
      "id": "a4ef4c24-d5a1-4f60-85b9-723d9a2bfa5a"
    },
    {
      "cell_type": "markdown",
      "metadata": {},
      "source": [
        "# Wikimath"
      ],
      "id": "85383bb3-8b69-4e96-8aeb-ff4638eff69d"
    },
    {
      "cell_type": "code",
      "execution_count": 276,
      "metadata": {},
      "outputs": [],
      "source": [
        "df1 = pd.read_csv('./simulation_results/2023-06-16_10-32-29.csv')\n",
        "df2 = pd.read_csv('./simulation_results/2023-06-16_15-13-14.csv')\n",
        "df3 = pd.read_csv('./simulation_results/2023-06-16_21-20-31.csv')\n",
        "df4 = pd.read_csv('./simulation_results/2023-06-17_10-12-36.csv')\n",
        "df5 = pd.read_csv('./simulation_results/2023-06-17_12-49-46.csv')\n",
        "df6 = pd.read_csv('./simulation_results/2023-06-17_14-45-14.csv')\n",
        "df7 = pd.read_csv('./simulation_results/2023-06-17_16-56-50.csv') \n",
        "df8 = pd.read_csv('./simulation_results/2023-06-17_20-23-03.csv')\n",
        "df9 = pd.read_csv('./simulation_results/2023-06-16_21-11-03.csv') # block\n",
        "df10 = pd.read_csv('./simulation_results/2023-06-16_15-10-06.csv') # block\n",
        "df11 = pd.read_csv('./simulation_results/2023-06-16_10-31-28.csv') # block\n",
        "## block 3개 끝나면 같은 노드로 넘어가기"
      ],
      "id": "c0d71d0b-75dc-40d4-931b-652821a61eeb"
    },
    {
      "cell_type": "code",
      "execution_count": 222,
      "metadata": {},
      "outputs": [],
      "source": [
        "data = pd.concat([df1,df2,df3,df4,df5,df6,df7,df8,df9,df10,df11],axis=0)"
      ],
      "id": "6b831329-fc53-433f-844d-821e084216ea"
    },
    {
      "cell_type": "code",
      "execution_count": 223,
      "metadata": {},
      "outputs": [],
      "source": [
        "data.to_csv('./simulation_results/Real_simulation_reshape/GCLSTM_wikimath.csv',index=False)"
      ],
      "id": "7d57afcf-25ae-4ba6-bd59-2b253dadcc47"
    },
    {
      "cell_type": "code",
      "execution_count": 224,
      "metadata": {},
      "outputs": [],
      "source": [
        "data = pd.read_csv('./simulation_results/Real_simulation_reshape/GCLSTM_wikimath.csv')"
      ],
      "id": "7c94cdfa-48a3-494c-83a0-a3414dde2891"
    },
    {
      "cell_type": "markdown",
      "metadata": {},
      "source": [
        "## Baseline"
      ],
      "id": "f6a98c58-37c0-4249-957b-602ccf31ee46"
    },
    {
      "cell_type": "code",
      "execution_count": 225,
      "metadata": {},
      "outputs": [],
      "source": [
        "data.query(\"mrate==0 and method!='GNAR'\").plot.box(backend='plotly',x='mrate',color='method',y='mse',height=600)"
      ],
      "id": "7c371970-f6cf-4230-a6f1-2341c030aece"
    },
    {
      "cell_type": "markdown",
      "metadata": {},
      "source": [
        "## random"
      ],
      "id": "700857fd-8c0b-47be-9ccb-5eb4a5f70f72"
    },
    {
      "cell_type": "code",
      "execution_count": 226,
      "metadata": {},
      "outputs": [],
      "source": [
        "data.query(\"mtype=='rand' and mrate !=0 and method!='GNAR'\").plot.box(backend='plotly',x='mrate',color='method',y='mse',facet_col='lags',facet_row='nof_filters',height=800)\n"
      ],
      "id": "04b33f9b-a005-45b2-9b76-1cb3d705d561"
    },
    {
      "cell_type": "markdown",
      "metadata": {},
      "source": [
        "## block"
      ],
      "id": "409d2c26-d012-4beb-bfb1-a275e61216d9"
    },
    {
      "cell_type": "code",
      "execution_count": 227,
      "metadata": {},
      "outputs": [],
      "source": [
        "data.query(\"mtype=='block' and method!='GNAR'\").plot.box(backend='plotly',x='mrate',color='method',y='mse',facet_col='lags',facet_row='nof_filters',height=1200)\n"
      ],
      "id": "5e255852-a3af-48df-8706-c887fc7432dc"
    },
    {
      "cell_type": "markdown",
      "metadata": {},
      "source": [
        "## missing values on the same nodes"
      ],
      "id": "e75798f9-6c43-4a33-a0aa-c1e280da5afc"
    },
    {
      "cell_type": "code",
      "execution_count": 332,
      "metadata": {
        "tags": []
      },
      "outputs": [],
      "source": [
        "df1 = pd.read_csv('./simulation_results/2023-06-17_01-42-41.csv') # STGCN IT-STGCN block\n",
        "# df2 = pd.read_csv('./simulation_results/2023-06-17_03-35-20.csv') # STGCN IT-STGCN\n",
        "df3 = pd.read_csv('./simulation_results/2023-06-17_10-06-34.csv') \n",
        "\n",
        "df4 = pd.read_csv('./simulation_results/2023-07-10_05-37-15.csv') \n",
        "df5 = pd.read_csv('./simulation_results/2023-07-10_11-00-23.csv') \n",
        "df6 = pd.read_csv('./simulation_results/2023-07-10_16-03-18.csv') "
      ],
      "id": "2a689851-1d55-4a6f-8551-0a433fddb537"
    },
    {
      "cell_type": "code",
      "execution_count": 333,
      "metadata": {},
      "outputs": [],
      "source": [
        "data = pd.concat([df1,df3,df4,df5,df6],axis=0)"
      ],
      "id": "a19d752a-750f-4250-8542-7cdbcf1eb655"
    },
    {
      "cell_type": "code",
      "execution_count": 334,
      "metadata": {},
      "outputs": [],
      "source": [
        "data.to_csv('./simulation_results/Real_simulation_reshape/GCLSTM_wikimath_GSO_st.csv',index=False)"
      ],
      "id": "3bb48b5d-2b85-468a-9d02-1fb845f2494a"
    },
    {
      "cell_type": "code",
      "execution_count": 335,
      "metadata": {},
      "outputs": [],
      "source": [
        "data = pd.read_csv('./simulation_results/Real_simulation_reshape/GCLSTM_wikimath_GSO_st.csv')"
      ],
      "id": "def4481f-d6a5-49ec-ad2f-7630157b30c3"
    },
    {
      "cell_type": "code",
      "execution_count": 336,
      "metadata": {},
      "outputs": [],
      "source": [
        "data.query(\"method!='GNAR' and mtype =='block' \").plot.box(backend='plotly',x='mrate',color='method',y='mse',facet_col='inter_method',facet_row='lags',height=800)\n"
      ],
      "id": "5327dbba-3bed-4573-8a8e-891a8586cdc9"
    },
    {
      "cell_type": "markdown",
      "metadata": {},
      "source": [
        "# Windmilsmall"
      ],
      "id": "9cfb3ea5-2945-4d8f-9814-77f85c27b5bd"
    },
    {
      "cell_type": "code",
      "execution_count": 105,
      "metadata": {},
      "outputs": [],
      "source": [
        "df1 = pd.read_csv('./simulation_results/2023-07-08_16-46-22.csv') # STGCN IT-STGCN 70%\n",
        "df2 = pd.read_csv('./simulation_results/2023-07-09_01-43-03.csv') # STGCN IT-STGCN\n",
        "df3 = pd.read_csv('./simulation_results/2023-07-09_10-40-50.csv') # STGCN IT-STGCN\n",
        "df4 = pd.read_csv('./simulation_results/2023-07-09_10-40-50.csv') # STGCN IT-STGCN\n",
        "df5 = pd.read_csv('./simulation_results/2023-07-09_19-35-52.csv') # STGCN IT-STGCN\n",
        "df6 = pd.read_csv('./simulation_results/2023-07-09_19-35-52.csv') # GNAR 30%, 50%, 70% # 뭔가 일단 필요없어서 데이터셋에서 뺌\n",
        "df7 = pd.read_csv('./simulation_results/2023-07-10_05-19-00.csv') # STGCN IT-STGCN\n",
        "df8 = pd.read_csv('./simulation_results/2023-07-10_15-38-09.csv') # STGCN IT-STGCN\n",
        "df9 = pd.read_csv('./simulation_results/2023-07-11_00-47-18.csv') # STGCN IT-STGCN\n",
        "df10 = pd.read_csv('./simulation_results/2023-07-11_09-43-29.csv') # STGCN IT-STGCN\n",
        "df11 = pd.read_csv('./simulation_results/2023-07-11_18-37-15.csv') # STGCN IT-STGCN\n",
        "df12 = pd.read_csv('./simulation_results/2023-07-12_03-27-10.csv') # STGCN IT-STGCN\n",
        "df13 = pd.read_csv('./simulation_results/2023-07-12_12-12-07.csv') # STGCN IT-STGCN\n",
        "df14 = pd.read_csv('./simulation_results/2023-07-12_20-57-30.csv') # STGCN IT-STGCN\n",
        "df15 = pd.read_csv('./simulation_results/2023-07-13_05-53-36.csv') # STGCN IT-STGCN\n",
        "df16 = pd.read_csv('./simulation_results/2023-07-12_19-07-41.csv') # STGCN IT-STGCN\n",
        "df17 = pd.read_csv('./simulation_results/2023-07-13_04-09-38.csv') # STGCN IT-STGCN\n",
        "df18 = pd.read_csv('./simulation_results/2023-04-20_08-30-27.csv') # STGCN IT-STGCN\n",
        "df19 = pd.read_csv('./simulation_results/2023-04-20_14-28-35.csv') # STGCN IT-STGCN\n",
        "df20 = pd.read_csv('./simulation_results/2023-04-20_16-08-39.csv') # STGCN IT-STGCN\n",
        "df21 = pd.read_csv('./simulation_results/2023-07-13_20-26-31.csv') # STGCN IT-STGCN\n",
        "df22 = pd.read_csv('./simulation_results/2023-07-13_21-36-49.csv') # STGCN IT-STGCN\n",
        "df23 = pd.read_csv('./simulation_results/2023-07-14_03-03-03.csv') # STGCN IT-STGCN\n",
        "df24 = pd.read_csv('./simulation_results/2023-07-14_04-13-48.csv') # STGCN IT-STGCN\n",
        "df25 = pd.read_csv('./simulation_results/2023-07-14_10-49-08.csv') # STGCN IT-STGCN\n",
        "df26 = pd.read_csv('./simulation_results/2023-07-14_13-01-02.csv') # STGCN IT-STGCN\n",
        "df27 = pd.read_csv('./simulation_results/2023-07-14_21-09-47.csv') # STGCN IT-STGCN\n",
        "df28 = pd.read_csv('./simulation_results/2023-07-14_22-48-18.csv') # STGCN IT-STGCN\n",
        "df29 = pd.read_csv('./simulation_results/2023-07-15_07-24-08.csv') # STGCN IT-STGCN\n",
        "df30 = pd.read_csv('./simulation_results/2023-07-15_09-28-06.csv') # STGCN IT-STGCN\n",
        "df31 = pd.read_csv('./simulation_results/2023-07-15_16-22-58.csv') # GNAR 70%\n",
        "df32 = pd.read_csv('./simulation_results/2023-07-15_18-56-34.csv') # GNAR \n",
        "df33 = pd.read_csv('./simulation_results/2023-07-16_02-27-30.csv')\n",
        "df34 = pd.read_csv('./simulation_results/2023-07-16_04-39-55.csv')\n",
        "df35 = pd.read_csv('./simulation_results/2023-07-16_08-52-31.csv')\n",
        "df36 = pd.read_csv('./simulation_results/2023-07-16_13-46-01.csv')\n",
        "df37 = pd.read_csv('./simulation_results/2023-07-16_16-24-14.csv')\n",
        "df38 = pd.read_csv('./simulation_results/2023-07-16_20-42-20.csv')\n",
        "df39 = pd.read_csv('./simulation_results/2023-07-17_02-06-35.csv')\n",
        "df40 = pd.read_csv('./simulation_results/2023-07-17_04-36-34.csv')\n",
        "df41 = pd.read_csv('./simulation_results/2023-07-17_08-38-54.csv')\n",
        "df42 = pd.read_csv('./simulation_results/2023-07-17_13-34-00.csv')\n",
        "df43 = pd.read_csv('./simulation_results/2023-07-17_15-23-22.csv')\n",
        "df44 = pd.read_csv('./simulation_results/2023-07-17_19-53-20.csv')\n",
        "df45 = pd.read_csv('./simulation_results/2023-07-18_00-22-34.csv')\n",
        "df46 = pd.read_csv('./simulation_results/2023-07-18_02-06-38.csv')\n",
        "df47 = pd.read_csv('./simulation_results/2023-07-18_06-34-10.csv')\n",
        "df48 = pd.read_csv('./simulation_results/2023-07-18_11-10-06.csv')\n",
        "df49 = pd.read_csv('./simulation_results/2023-07-18_12-50-31.csv')\n",
        "df50 = pd.read_csv('./simulation_results/2023-07-18_17-52-05.csv')\n",
        "df51 = pd.read_csv('./simulation_results/2023-07-18_22-00-41.csv')\n",
        "df52 = pd.read_csv('./simulation_results/2023-07-18_23-42-45.csv')\n",
        "df53 = pd.read_csv('./simulation_results/2023-07-19_04-59-21.csv')\n",
        "df54 = pd.read_csv('./simulation_results/2023-07-19_08-48-28.csv')\n",
        "df55 = pd.read_csv('./simulation_results/2023-07-19_17-01-57.csv')\n",
        "df56 = pd.read_csv('./simulation_results/2023-07-19_21-26-20.csv')\n",
        "df57 = pd.read_csv('./simulation_results/2023-07-20_06-05-43.csv')\n",
        "df58 = pd.read_csv('./simulation_results/2023-07-20_10-08-26.csv')\n",
        "# df59 = pd.read_csv('./simulation_results/2023-05-09_03-28-08.csv')\n",
        "# df60 = pd.read_csv('./simulation_results/2023-05-09_11-08-10.csv')\n",
        "# df61 = pd.read_csv('./simulation_results/2023-05-09_20-11-45.csv')\n",
        "# df62 = pd.read_csv('./simulation_results/2023-06-16_06-13-50.csv')\n",
        "# df63 = pd.read_csv('./simulation_results/2023-06-16_14-18-52.csv')\n",
        "# df64 = pd.read_csv('./simulation_results/2023-06-16_18-21-01.csv')\n",
        "# df65 = pd.read_csv('./simulation_results/2023-06-17_02-04-16.csv')\n",
        "# df66 = pd.read_csv('./simulation_results/2023-06-17_12-31-27.csv')\n",
        "# df67 = pd.read_csv('./simulation_results/2023-06-17_19-20-19.csv')\n",
        "# df68 = pd.read_csv('./simulation_results/2023-06-18_02-32-26.csv') # 확인 후 block 만 넣기!\n",
        "# df69 = pd.read_csv('./simulation_results/2023-06-18_12-20-16.csv')\n",
        "# df70 = pd.read_csv('./simulation_results/2023-06-18_22-03-52.csv')\n",
        "# df71 = pd.read_csv('./simulation_results/2023-06-19_07-54-07.csv')\n",
        "# df72 = pd.read_csv('./simulation_results/2023-06-19_17-32-15.csv')\n",
        "# df73 = pd.read_csv('./simulation_results/2023-06-20_02-27-48.csv')\n",
        "# df74 = pd.read_csv('./simulation_results/2023-06-20_11-25-00.csv')\n",
        "# df75 = pd.read_csv('./simulation_results/2023-06-21_08-22-10.csv')\n",
        "# df76 = pd.read_csv('./simulation_results/2023-06-21_18-02-06.csv')\n",
        "# df77 = pd.read_csv('./simulation_results/2023-06-22_03-53-20.csv')\n",
        "# df78 = pd.read_csv('./simulation_results/2023-06-22_14-30-51.csv')\n",
        "# df79 = pd.read_csv('./simulation_results/2023-06-22_23-58-03.csv')\n",
        "# df80 = pd.read_csv('./simulation_results/2023-06-23_07-50-27.csv')\n",
        "# df81 = pd.read_csv('./simulation_results/2023-06-23_15-44-00.csv')\n",
        "# df82 = pd.read_csv('./simulation_results/2023-06-24_00-32-09.csv')\n",
        "# df83 = pd.read_csv('./simulation_results/2023-06-24_10-30-38.csv')\n",
        "# df84 = pd.read_csv('./simulation_results/2023-06-24_20-29-14.csv')\n",
        "# df85 = pd.read_csv('./simulation_results/2023-06-25_06-26-42.csv')\n",
        "# df86 = pd.read_csv('./simulation_results/2023-06-25_16-24-38.csv')\n",
        "# df87 = pd.read_csv('./simulation_results/2023-06-26_02-35-43.csv')\n",
        "# df88 = pd.read_csv('./simulation_results/2023-06-26_23-22-25.csv')\n",
        "# df89 = pd.read_csv('./simulation_results/2023-06-26_13-18-29.csv')\n",
        "# df90 = pd.read_csv('./simulation_results/2023-06-26_23-22-25.csv')"
      ],
      "id": "8996bf9d-0a93-4be9-8b77-f39eacc8bd9d"
    },
    {
      "cell_type": "code",
      "execution_count": 106,
      "metadata": {},
      "outputs": [],
      "source": [
        "data = pd.concat([df1,df2,df3,df4,df5,df6,df7,df8,df9,df10,df11,df12,df13,df14,df15,df16,df17,\n",
        "                 df18,df19,df20,df21,df22,df23,df24,df25,df26,df27,df28,df29,df30,df31,df32,df33,df34,\n",
        "                 df35,df36,df37,df38,df39,df40,df41,df42,df43,df44,df45,df46,df47,df48,df49,df50,\n",
        "                 df51, df52, df53,df54,df55,df56,df57,df58],axis=0)"
      ],
      "id": "db67adea-be84-405f-b64c-714081a5be44"
    },
    {
      "cell_type": "code",
      "execution_count": 107,
      "metadata": {},
      "outputs": [],
      "source": [
        "data.to_csv('./simulation_results/Real_simulation_reshape/GCLSTM_windmillsmall.csv',index=False)"
      ],
      "id": "48b9baeb-6748-45db-8e94-6b5cba56ebb7"
    },
    {
      "cell_type": "code",
      "execution_count": 108,
      "metadata": {},
      "outputs": [],
      "source": [
        "data = pd.read_csv('./simulation_results/Real_simulation_reshape/GCLSTM_windmillsmall.csv')"
      ],
      "id": "9bac3426-2d1d-4c7e-9b50-dc9f1970ac28"
    },
    {
      "cell_type": "markdown",
      "metadata": {},
      "source": [
        "## Baseline"
      ],
      "id": "60000a5c-d1b0-4332-b17e-213603128fe2"
    },
    {
      "cell_type": "code",
      "execution_count": 109,
      "metadata": {},
      "outputs": [],
      "source": [
        "data.query(\"method!='GNAR' and mrate ==0 \").plot.box(backend='plotly',x='mrate',color='method',y='mse',facet_col='lags',height=800)\n"
      ],
      "id": "8a0aeadf-eb8a-4ccb-81c3-8ea2674fcc0c"
    },
    {
      "cell_type": "markdown",
      "metadata": {},
      "source": [
        "## random"
      ],
      "id": "1203f3aa-dcf2-41f5-b475-2cd3cab1ecb9"
    },
    {
      "cell_type": "code",
      "execution_count": 110,
      "metadata": {},
      "outputs": [],
      "source": [
        "data.query(\"method!='GNAR' and mtype =='rand' \").plot.box(backend='plotly',x='mrate',color='method',y='mse',facet_col='lags',facet_row='inter_method',height=800)\n"
      ],
      "id": "6dfe94c6-67f1-4822-b698-1b667834473b"
    },
    {
      "cell_type": "markdown",
      "metadata": {},
      "source": [
        "## block"
      ],
      "id": "092af700-fcd3-482d-80ad-2deb6e5d5f0d"
    },
    {
      "cell_type": "code",
      "execution_count": 111,
      "metadata": {},
      "outputs": [],
      "source": [
        "data.query(\"method!='GNAR' and mtype =='block' \").plot.box(backend='plotly',x='mrate',color='method',y='mse',facet_col='lags',facet_row='inter_method',height=800)\n"
      ],
      "id": "33e36a8e-4711-4673-a6d1-006a5c1daa1d"
    },
    {
      "cell_type": "markdown",
      "metadata": {},
      "source": [
        "# Montevideobus"
      ],
      "id": "f276abfa-471f-4aac-83aa-bc431a69c264"
    },
    {
      "cell_type": "code",
      "execution_count": 138,
      "metadata": {},
      "outputs": [],
      "source": [
        "# k=1\n",
        "df1 = pd.read_csv('./simulation_results/2023-06-14_00-09-03.csv') # lags 8\n",
        "df2 = pd.read_csv('./simulation_results/2023-06-14_00-09-03.csv') # lags 8\n",
        "df3 = pd.read_csv('./simulation_results/2023-06-14_03-15-40.csv') # lags 8\n",
        "df4 = pd.read_csv('./simulation_results/2023-06-14_06-23-01.csv') # lags 8\n",
        "df5 = pd.read_csv('./simulation_results/2023-06-14_09-31-21.csv') # lags 8\n",
        "df6 = pd.read_csv('./simulation_results/2023-06-14_12-29-12.csv') # lags 8\n",
        "df7 = pd.read_csv('./simulation_results/2023-06-14_15-27-41.csv') # lags 8"
      ],
      "id": "ca1a1fc8-5eaa-43a7-a9c8-e0005cfd96a7"
    },
    {
      "cell_type": "code",
      "execution_count": 139,
      "metadata": {},
      "outputs": [],
      "source": [
        "data = pd.concat([df1,df2,df3,df4,df5,df6,df7],axis=0)"
      ],
      "id": "0f9c4bde-9110-4e84-b2d2-d75ce2b9580e"
    },
    {
      "cell_type": "code",
      "execution_count": 140,
      "metadata": {},
      "outputs": [],
      "source": [
        "data.to_csv('./simulation_results/Real_simulation_reshape/GCLSTM_monte.csv',index=False)"
      ],
      "id": "34c735fd-b641-439f-aa8f-5e2a7376e701"
    },
    {
      "cell_type": "code",
      "execution_count": 141,
      "metadata": {},
      "outputs": [],
      "source": [
        "data = pd.read_csv('./simulation_results/Real_simulation_reshape/GCLSTM_monte.csv')"
      ],
      "id": "61b474b4-4edb-4e6e-8d84-e653b2def845"
    },
    {
      "cell_type": "markdown",
      "metadata": {},
      "source": [
        "## Baseline"
      ],
      "id": "f1299f58-b2fb-47de-9d38-70f4fbdca045"
    },
    {
      "cell_type": "code",
      "execution_count": 142,
      "metadata": {},
      "outputs": [],
      "source": [
        "data.query(\"mrate==0 and method!='GNAR'\").plot.box(backend='plotly',x='mrate',color='method',y='mse',facet_col='lags',facet_row='nof_filters',height=600)"
      ],
      "id": "245ca8ec-a831-4fc9-b4cf-bd3788eaf6e0"
    },
    {
      "cell_type": "markdown",
      "metadata": {},
      "source": [
        "## random"
      ],
      "id": "b8cee246-7839-4abc-ac17-210abb59f6cc"
    },
    {
      "cell_type": "code",
      "execution_count": 143,
      "metadata": {},
      "outputs": [],
      "source": [
        "data.query(\"mtype=='rand' and mrate !=0 and method!='GNAR'\").plot.box(backend='plotly',x='mrate',color='method',y='mse',facet_col='lags',facet_row='inter_method',height=800)\n"
      ],
      "id": "22eac417-6ea1-4a81-8edf-2c68509bf437"
    },
    {
      "cell_type": "markdown",
      "metadata": {},
      "source": [
        "## block"
      ],
      "id": "05a518ac-d0ed-450a-ab09-70f85f7160d5"
    },
    {
      "cell_type": "code",
      "execution_count": 144,
      "metadata": {},
      "outputs": [],
      "source": [
        "data.query(\"mtype=='block' and method!='GNAR'\").plot.box(backend='plotly',x='mrate',color='method',y='mse',facet_col='lags',facet_row='nof_filters',height=1200)\n"
      ],
      "id": "d4a01799-1b6a-4f55-aa05-108b1a253cea"
    }
  ],
  "nbformat": 4,
  "nbformat_minor": 5,
  "metadata": {
    "kernelspec": {
      "name": "python3",
      "display_name": "Python 3",
      "language": "python"
    },
    "language_info": {
      "name": "python",
      "codemirror_mode": {
        "name": "ipython",
        "version": "3"
      },
      "file_extension": ".py",
      "mimetype": "text/x-python",
      "nbconvert_exporter": "python",
      "pygments_lexer": "ipython3",
      "version": "3.8.0"
    }
  }
}
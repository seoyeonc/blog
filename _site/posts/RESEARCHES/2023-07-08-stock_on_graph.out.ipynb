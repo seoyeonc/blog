{
  "cells": [
    {
      "cell_type": "markdown",
      "metadata": {},
      "source": [
        "# Stock on Graph\n",
        "\n",
        "SEOYEON CHOI  \n",
        "2023-07-08\n",
        "\n",
        "# Import"
      ],
      "id": "b2a30db0-f88c-4e1b-94c7-86d08bb664a5"
    },
    {
      "cell_type": "code",
      "execution_count": 1,
      "metadata": {},
      "outputs": [],
      "source": [
        "import tqdm\n",
        "import numpy as np\n",
        "import pandas as pd\n",
        "import matplotlib.pyplot as plt \n",
        "import plotly.express as px\n",
        "import warnings\n",
        "warnings.simplefilter(\"ignore\", np.ComplexWarning)\n",
        "from haversine import haversine\n",
        "from IPython.display import HTML\n",
        "import plotly.graph_objects as go"
      ],
      "id": "ba4c06aa-47b5-421a-8fbe-0ec5b91e5842"
    },
    {
      "cell_type": "code",
      "execution_count": 2,
      "metadata": {},
      "outputs": [],
      "source": [
        "import rpy2\n",
        "import rpy2.robjects as ro \n",
        "from rpy2.robjects.vectors import FloatVector \n",
        "from rpy2.robjects.packages import importr"
      ],
      "id": "cae83057-0fd2-4365-a379-d74ab241b916"
    },
    {
      "cell_type": "markdown",
      "metadata": {},
      "source": [
        "# Data intro(2020~2022)\n",
        "\n",
        "## Korea"
      ],
      "id": "720a3e67-e771-447b-b3d6-9a6f2380acc4"
    },
    {
      "cell_type": "code",
      "execution_count": 3,
      "metadata": {},
      "outputs": [],
      "source": [
        "df_korea = pd.read_csv('./dataset/korea_kospi.csv')"
      ],
      "id": "18e91de3-8932-46a9-945c-a0ef892365ec"
    },
    {
      "cell_type": "code",
      "execution_count": 4,
      "metadata": {},
      "outputs": [],
      "source": [
        "df_korea = pd.concat([df_korea,pd.DataFrame({'Country': \"Korea\",\n",
        "                                             'Value':(df_korea['Close'] - df_korea['Close'].mean())/df_korea['Close'].std()})],axis=1)\n"
      ],
      "id": "89101fb1-70b8-4f2a-85eb-b47573620505"
    },
    {
      "cell_type": "code",
      "execution_count": 5,
      "metadata": {},
      "outputs": [],
      "source": [
        "df_korea_add = df_korea.assign(Year = list(map(lambda x: x.split('-')[0],df_korea['Date'])),\\\n",
        "                                    Mon = list(map(lambda x: x.split('-')[1],df_korea['Date'])),\\\n",
        "                                    Day = list(map(lambda x: x.split('-')[2],df_korea['Date'])))"
      ],
      "id": "c026a7ed-2fde-4dfd-a27b-29f3f5d60e29"
    },
    {
      "cell_type": "code",
      "execution_count": 6,
      "metadata": {},
      "outputs": [],
      "source": [
        "df_korea_add.Year = df_korea_add.Year.astype(np.float64)\n",
        "df_korea_add.Mon = df_korea_add.Mon.astype(np.float64)\n",
        "df_korea_add.Day = df_korea_add.Day.astype(np.float64)"
      ],
      "id": "59371117-44aa-4387-8a48-97f1f81940ed"
    },
    {
      "cell_type": "code",
      "execution_count": 7,
      "metadata": {},
      "outputs": [],
      "source": [
        "df_korea_covid = df_korea_add.query(\"Year>=2020 and Year <= 2022\");df_korea_covid"
      ],
      "id": "f25619e4-f2e8-42fb-a5b6-295a3e8d9500"
    },
    {
      "cell_type": "code",
      "execution_count": 8,
      "metadata": {},
      "outputs": [],
      "source": [
        "# plt.figure(figsize=(30, 8)) \n",
        "# plt.title('Korea (close)')\n",
        "# plt.xticks(rotation=45) \n",
        "# plt.plot(df_korea_covid['Date'], df_korea_covid['Close'], 'co-')\n",
        "# plt.grid(color='gray', linestyle='--')"
      ],
      "id": "715304e5-a179-42c1-95a7-c7f937c2092d"
    },
    {
      "cell_type": "markdown",
      "metadata": {},
      "source": [
        "## US"
      ],
      "id": "9d0e4788-90ac-4ba1-8dc8-76c5d5c9e4f3"
    },
    {
      "cell_type": "code",
      "execution_count": 9,
      "metadata": {},
      "outputs": [],
      "source": [
        "df_us = pd.read_csv('./dataset/us_nasdaq.csv')"
      ],
      "id": "f9dc8d69-0882-46c1-8208-6ad5655872a0"
    },
    {
      "cell_type": "code",
      "execution_count": 10,
      "metadata": {},
      "outputs": [],
      "source": [
        "df_us = pd.concat([df_us,pd.DataFrame({'Country': 'United States of America',\n",
        "                                             'Value':(df_us['Close'] - df_us['Close'].mean())/df_us['Close'].std()})],axis=1)"
      ],
      "id": "a4f4b9af-e6fd-4bed-8c63-165ea5d3786c"
    },
    {
      "cell_type": "code",
      "execution_count": 11,
      "metadata": {},
      "outputs": [],
      "source": [
        "df_us_add = df_us.assign(Year = list(map(lambda x: x.split('-')[0],df_us['Date'])),\\\n",
        "                            Mon = list(map(lambda x: x.split('-')[1],df_us['Date'])),\\\n",
        "                            Day = list(map(lambda x: x.split('-')[2],df_us['Date'])))"
      ],
      "id": "36da8591-d590-41bc-9d1b-d5936d9a88b8"
    },
    {
      "cell_type": "code",
      "execution_count": 12,
      "metadata": {},
      "outputs": [],
      "source": [
        "df_us_add.Year = df_us_add.Year.astype(np.float64)\n",
        "df_us_add.Mon = df_us_add.Mon.astype(np.float64)\n",
        "df_us_add.Day = df_us_add.Day.astype(np.float64)"
      ],
      "id": "fd0bbaba-6a48-4b73-b7d7-26b72ba6e3da"
    },
    {
      "cell_type": "code",
      "execution_count": 13,
      "metadata": {},
      "outputs": [],
      "source": [
        "df_us_covid = df_us_add.query(\"Year>=2020 and Year <=2022\");df_us_covid"
      ],
      "id": "d3e2a9d6-73cb-4017-8610-07fb730b62fc"
    },
    {
      "cell_type": "code",
      "execution_count": 14,
      "metadata": {},
      "outputs": [],
      "source": [
        "# plt.figure(figsize=(30, 8)) \n",
        "# plt.title('US (close)')\n",
        "# plt.xticks(rotation=45) \n",
        "# plt.plot(df_us_covid['Date'], df_us_covid['Close'], 'co-')\n",
        "# plt.grid(color='gray', linestyle='--')"
      ],
      "id": "6ea35bca-ece9-47d1-ac43-8990af211134"
    },
    {
      "cell_type": "markdown",
      "metadata": {},
      "source": [
        "## China"
      ],
      "id": "77bcd013-d6f1-4efc-b445-6c19f460d19e"
    },
    {
      "cell_type": "code",
      "execution_count": 15,
      "metadata": {},
      "outputs": [],
      "source": [
        "df_china = pd.read_csv('./dataset/china_ssec.csv')"
      ],
      "id": "8eaeabae-8eeb-4db6-b4e3-d9f29e95c266"
    },
    {
      "cell_type": "code",
      "execution_count": 16,
      "metadata": {},
      "outputs": [],
      "source": [
        "df_china = pd.concat([df_china,pd.DataFrame({'Country': 'China',\n",
        "                                             'Value':(df_china['Close'] - df_china['Close'].mean())/df_china['Close'].std()})],axis=1)"
      ],
      "id": "a510dca8-abc1-4f47-a195-7ac52f6a3595"
    },
    {
      "cell_type": "code",
      "execution_count": 17,
      "metadata": {},
      "outputs": [],
      "source": [
        "df_china_add = df_china.assign(Year = list(map(lambda x: x.split('-')[0],df_china['Date'])),\\\n",
        "                                    Mon = list(map(lambda x: x.split('-')[1],df_china['Date'])),\\\n",
        "                                    Day = list(map(lambda x: x.split('-')[2],df_china['Date'])))"
      ],
      "id": "9163b16f-98d1-4f25-8c57-66d61ad9cfe4"
    },
    {
      "cell_type": "code",
      "execution_count": 18,
      "metadata": {},
      "outputs": [],
      "source": [
        "df_china_add.Year = df_china_add.Year.astype(np.float64)\n",
        "df_china_add.Mon = df_china_add.Mon.astype(np.float64)\n",
        "df_china_add.Day = df_china_add.Day.astype(np.float64)"
      ],
      "id": "41e8721c-c121-4f4e-a1f1-4bccd8322f44"
    },
    {
      "cell_type": "code",
      "execution_count": 19,
      "metadata": {},
      "outputs": [],
      "source": [
        "df_china_covid = df_china_add.query(\"Year>=2020 and Year <=2022\");df_china_covid"
      ],
      "id": "356f25e0-9d52-40f6-bbd5-e0a3e664ccbb"
    },
    {
      "cell_type": "code",
      "execution_count": 20,
      "metadata": {},
      "outputs": [],
      "source": [
        "# plt.figure(figsize=(30, 8)) \n",
        "# plt.title('China (close)')\n",
        "# plt.xticks(rotation=45) \n",
        "# plt.plot(df_china_covid['Date'], df_china_covid['Close'], 'co-')\n",
        "# plt.grid(color='gray', linestyle='--')"
      ],
      "id": "e66b66db-4f29-4e36-ad4c-469802de6261"
    },
    {
      "cell_type": "markdown",
      "metadata": {},
      "source": [
        "## Japan"
      ],
      "id": "5b2d1a35-2910-4327-9d31-bdc8aebcee25"
    },
    {
      "cell_type": "code",
      "execution_count": 21,
      "metadata": {},
      "outputs": [],
      "source": [
        "df_japan = pd.read_csv('./dataset/japan_n225.csv')"
      ],
      "id": "8bd135a3-d76b-4fb7-8646-ab17ddea717c"
    },
    {
      "cell_type": "code",
      "execution_count": 22,
      "metadata": {},
      "outputs": [],
      "source": [
        "df_japan = pd.concat([df_japan,pd.DataFrame({'Country': 'Japan',\n",
        "                                             'Value':(df_japan['Close'] - df_japan['Close'].mean())/df_japan['Close'].std()})],axis=1)"
      ],
      "id": "be5d63cb-55ed-427c-b8f1-694426e7af35"
    },
    {
      "cell_type": "code",
      "execution_count": 23,
      "metadata": {},
      "outputs": [],
      "source": [
        "df_japan_add = df_japan.assign(Year = list(map(lambda x: x.split('-')[0],df_japan['Date'])),\\\n",
        "                                    Mon = list(map(lambda x: x.split('-')[1],df_japan['Date'])),\\\n",
        "                                    Day = list(map(lambda x: x.split('-')[2],df_japan['Date'])))"
      ],
      "id": "23baf5e8-1aac-48c9-8492-4710a1858524"
    },
    {
      "cell_type": "code",
      "execution_count": 24,
      "metadata": {},
      "outputs": [],
      "source": [
        "df_japan_add.Year = df_japan_add.Year.astype(np.float64)\n",
        "df_japan_add.Mon = df_japan_add.Mon.astype(np.float64)\n",
        "df_japan_add.Day = df_japan_add.Day.astype(np.float64)"
      ],
      "id": "6b152a20-5368-4928-b3cc-4fee5b98700b"
    },
    {
      "cell_type": "code",
      "execution_count": 25,
      "metadata": {},
      "outputs": [],
      "source": [
        "df_japan_covid = df_japan_add.query(\"Year>=2020 and Year<=2022\");df_japan_covid"
      ],
      "id": "2db394a1-5b25-4b43-9c62-7199033c3c98"
    },
    {
      "cell_type": "code",
      "execution_count": 26,
      "metadata": {},
      "outputs": [],
      "source": [
        "# plt.figure(figsize=(30, 8)) \n",
        "# plt.title('Japan (close)')\n",
        "# plt.xticks(rotation=45) \n",
        "# plt.plot(df_japan_covid['Date'], df_japan_covid['Close'], 'co-')\n",
        "# plt.grid(color='gray', linestyle='--')"
      ],
      "id": "940c1849-b70d-496b-b69f-1600792af048"
    },
    {
      "cell_type": "code",
      "execution_count": 27,
      "metadata": {},
      "outputs": [],
      "source": [
        "# with plt.style.context('seaborn-white'):\n",
        "#     fig, ((ax1, ax2), (ax3, ax4)) = plt.subplots(2, 2,figsize=(30,15))\n",
        "#     ax1.plot(df_korea_covid['Date'], df_korea_covid['Close'])\n",
        "#     ax2.plot(df_us_covid['Date'], df_us_covid['Close'])\n",
        "#     ax3.plot(df_china_covid['Date'], df_china_covid['Close'])\n",
        "#     ax4.plot(df_japan_covid['Date'], df_japan_covid['Close'])"
      ],
      "id": "6ee76868-4b9b-4aec-8c2c-cb494d05d225"
    },
    {
      "cell_type": "code",
      "execution_count": 28,
      "metadata": {},
      "outputs": [],
      "source": [
        "df = pd.concat([df_korea_covid,df_us_covid,df_china_covid,df_japan_covid]);df"
      ],
      "id": "605a137c-6ca3-4074-8c4a-44effc6b950e"
    },
    {
      "cell_type": "code",
      "execution_count": 29,
      "metadata": {},
      "outputs": [],
      "source": [
        "df['Country'].unique()"
      ],
      "id": "fe5ac761-8d70-427f-8d83-20ad3f26db91"
    },
    {
      "cell_type": "markdown",
      "metadata": {},
      "source": [
        "# COVID(2020~2022)\n",
        "\n",
        "Ref: [WHO](https://covid19.who.int/data),\n",
        "[질병관리청](https://ncov.kdca.go.kr/)"
      ],
      "id": "dd5e9b9f-d7f9-4561-9e23-f8334eed7ae9"
    },
    {
      "cell_type": "code",
      "execution_count": 30,
      "metadata": {},
      "outputs": [],
      "source": [
        "covid = pd.read_csv('./dataset/WHO-COVID-19-global-data.csv').iloc[:,[0,1,2,4,6]];covid"
      ],
      "id": "b8b4c8f2-fe16-40c8-96b9-79f5c31a8fa2"
    },
    {
      "cell_type": "code",
      "execution_count": 31,
      "metadata": {},
      "outputs": [],
      "source": [
        "covid['Country'].unique()"
      ],
      "id": "044e3a67-d204-4516-ad1a-bc5ecc207c03"
    },
    {
      "cell_type": "code",
      "execution_count": 32,
      "metadata": {},
      "outputs": [],
      "source": [
        "covid.query(\"Country_code =='KP'\")['New_cases'].unique()"
      ],
      "id": "d38a429e-f334-4170-ab24-725729bd9870"
    },
    {
      "cell_type": "code",
      "execution_count": 33,
      "metadata": {},
      "outputs": [],
      "source": [
        "_korea_covid = pd.read_excel('./dataset/covid_korea.csv');_korea_covid[:10]"
      ],
      "id": "d716e793-490b-42d5-b47e-a23b507961d5"
    },
    {
      "cell_type": "code",
      "execution_count": 34,
      "metadata": {},
      "outputs": [],
      "source": [
        "korea_covid = _korea_covid.assign(New_cases=np.where(_korea_covid['Unnamed: 2'] == '-', 0, _korea_covid['Unnamed: 2']),\\\n",
        "                                  New_deaths=np.where(_korea_covid['Unnamed: 4'] == '-', 0, _korea_covid['Unnamed: 4']),\\\n",
        "                                  Date_reported=list(map(lambda x: str(x).split()[0],_korea_covid['Unnamed: 0'])),\\\n",
        "                                  Country='Korea',Country_code='KP').\\\n",
        "                             iloc[5:,[7,9,8,6,5]];korea_covid"
      ],
      "id": "f22949ef-9952-471b-bba9-6489fcdafccd"
    },
    {
      "cell_type": "code",
      "execution_count": 35,
      "metadata": {},
      "outputs": [],
      "source": [
        "covid_final = pd.concat([covid, korea_covid]).rename(columns={'Date_reported': 'Date'});covid_final"
      ],
      "id": "024bfd55-7cd9-4ccd-8373-e306fd62a25d"
    },
    {
      "cell_type": "code",
      "execution_count": 36,
      "metadata": {},
      "outputs": [],
      "source": [
        "covid_final_add = covid_final.assign(Year = list(map(lambda x: x.split('-')[0],covid_final['Date'])),\\\n",
        "                                    Mon = list(map(lambda x: x.split('-')[1],covid_final['Date'])),\\\n",
        "                                    Day = list(map(lambda x: x.split('-')[2],covid_final['Date'])))"
      ],
      "id": "e788e223-de94-49fa-862c-e5db3b28e202"
    },
    {
      "cell_type": "code",
      "execution_count": 37,
      "metadata": {},
      "outputs": [],
      "source": [
        "covid_final_add"
      ],
      "id": "89c41baf-458b-4fe3-acba-56cb5519ee2c"
    },
    {
      "cell_type": "code",
      "execution_count": 38,
      "metadata": {},
      "outputs": [],
      "source": [
        "# with plt.style.context('seaborn-white'):\n",
        "#     fig, ((ax1, ax2), (ax3, ax4)) = plt.subplots(2, 2,figsize=(30,15))\n",
        "#     ax1.plot(covid_final_add.query(\"Country =='Korea'\")['Date'], covid_final_add.query(\"Country =='Korea'\")['New_cases'])\n",
        "#     ax2.plot(covid_final_add.query(\"Country =='United States of America'\")['Date'], covid_final_add.query(\"Country =='United States of America'\")['New_cases'])\n",
        "#     ax3.plot(covid_final_add.query(\"Country =='China'\")['Date'], covid_final_add.query(\"Country =='China'\")['New_cases'])\n",
        "#     ax4.plot(covid_final_add.query(\"Country =='Japan'\")['Date'], covid_final_add.query(\"Country =='Japan'\")['New_cases'])"
      ],
      "id": "70735998-fa20-4342-b31e-7781672567fc"
    },
    {
      "cell_type": "markdown",
      "metadata": {},
      "source": [
        "# define class"
      ],
      "id": "3805d7aa-2067-4662-919d-1f3335b73ffc"
    },
    {
      "cell_type": "code",
      "execution_count": 41,
      "metadata": {},
      "outputs": [],
      "source": [
        "class Stock_graph:\n",
        "    def __init__(self,df):\n",
        "        self.df = df \n",
        "        self.f = df.Value.to_numpy()\n",
        "        self.year = df.Year.to_numpy()\n",
        "        self.mon = df.Mon.to_numpy()\n",
        "        self.day = df.Day.to_numpy()\n",
        "        self.country = df.Country\n",
        "        self.n = len(self.f)\n",
        "        \n",
        "        self.theta= None\n",
        "    def get_distance(self):\n",
        "        self.D = np.zeros([self.n,self.n])\n",
        "        locations = np.stack([self.lat, self.long],axis=1)\n",
        "        for i in tqdm.tqdm(range(self.n)):\n",
        "            for j in range(i,self.n): \n",
        "                self.D[i,j]=haversine(locations[i],locations[j])\n",
        "        self.D = self.D+self.D.T\n",
        "    def get_weightmatrix(self,theta=1,beta=0.5,kappa=4000):\n",
        "        self.theta = theta\n",
        "        dist = np.where(self.D<kappa,self.D,0)\n",
        "        self.W = np.exp(-(dist/self.theta)**2)\n",
        "\n",
        "    def _eigen(self):\n",
        "        d= self.W.sum(axis=1)\n",
        "        D= np.diag(d)\n",
        "        self.L = np.diag(1/np.sqrt(d)) @ (D-self.W) @ np.diag(1/np.sqrt(d))\n",
        "        self.lamb, self.Psi = np.linalg.eigh(self.L)\n",
        "        self.Lamb = np.diag(self.lamb)    \n",
        "        \n",
        "    def fit(self,ref=0.5): # fit with ebayesthresh\n",
        "        self._eigen()\n",
        "        self.fbar = self.Psi.T @ self.f # fbar := graph fourier transform of f\n",
        "        self.power = self.fbar**2 \n",
        "        ebayesthresh = importr('EbayesThresh').ebayesthresh\n",
        "        self.power_threshed=np.array(ebayesthresh(FloatVector(self.fbar**2)))\n",
        "        self.fbar_threshed = np.where(self.power_threshed>0,self.fbar,0)\n",
        "        self.fhat = self.Psi@self.fbar_threshed\n",
        "        self.df = self.df.assign(ValueHat = self.fhat)\n",
        "        self.df = self.df.assign(Residual = self.df.Value- self.df.ValueHat)"
      ],
      "id": "f1b4afb1-8923-42a8-8114-c97161c30265"
    },
    {
      "cell_type": "markdown",
      "metadata": {},
      "source": [
        "# 시도 1"
      ],
      "id": "c3cef845-a118-4e4c-8b2c-5f22c088c4ed"
    },
    {
      "cell_type": "code",
      "execution_count": 42,
      "metadata": {},
      "outputs": [],
      "source": [
        "rst = Stock_graph(df)"
      ],
      "id": "7ed8ed1d-d96f-439e-889b-7c67ff5a0f59"
    },
    {
      "cell_type": "code",
      "execution_count": 43,
      "metadata": {},
      "outputs": [],
      "source": [
        "len(rst.df)"
      ],
      "id": "41b1ba98-46f6-4902-90b4-2b375939fb04"
    },
    {
      "cell_type": "code",
      "execution_count": 44,
      "metadata": {},
      "outputs": [],
      "source": [
        "T = len(rst.df)"
      ],
      "id": "d6f0e1f4-a7a3-4e77-b648-5b83f1515439"
    },
    {
      "cell_type": "code",
      "execution_count": 55,
      "metadata": {},
      "outputs": [
        {
          "output_type": "display_data",
          "metadata": {},
          "data": {
            "image/png": "[encoded data removed]"
          }
        }
      ],
      "source": [
        "plt.scatter(rst.df[rst.df['Country']=='Korea'].iloc[:,[8,9]],rst.df[rst.df['Country']=='Japan'].iloc[:,[8,9]])"
      ],
      "id": "ea22af24-8acf-4705-a1ad-e15e832902cd"
    },
    {
      "cell_type": "code",
      "execution_count": 53,
      "metadata": {},
      "outputs": [],
      "source": [
        "rst.df[rst.df['Country']=='Japan'].iloc[:,[8,9]]"
      ],
      "id": "bd078f10-bc82-4ebd-a6da-1cdc88007068"
    },
    {
      "cell_type": "code",
      "execution_count": null,
      "metadata": {},
      "outputs": [],
      "source": [
        "W = np.zeros((T,T))\n",
        "for i in range(T):\n",
        "    for j in range(T):\n",
        "        if np.abs(i-j) ==1 :\n",
        "            W[i,j] = 1\n",
        "        else:\n",
        "            W[i,j] = 0"
      ],
      "id": "b38da63e-9f19-4e7e-95cf-494de4055bc7"
    },
    {
      "cell_type": "code",
      "execution_count": null,
      "metadata": {},
      "outputs": [],
      "source": [
        "W"
      ],
      "id": "010cd2d4-bc7a-4f39-8e53-264dd5c65519"
    },
    {
      "cell_type": "code",
      "execution_count": null,
      "metadata": {},
      "outputs": [],
      "source": [
        "rst.W = W"
      ],
      "id": "b2f397b7-36e3-4c04-b49c-128b29be3a67"
    },
    {
      "cell_type": "code",
      "execution_count": null,
      "metadata": {},
      "outputs": [],
      "source": [
        "rst.fit()"
      ],
      "id": "f1f62334-1af0-4692-bf95-225bc7b27233"
    },
    {
      "cell_type": "markdown",
      "metadata": {},
      "source": [
        "## Result"
      ],
      "id": "3cee4bb4-191a-40c8-ba9d-a29cd512bfad"
    },
    {
      "cell_type": "code",
      "execution_count": null,
      "metadata": {},
      "outputs": [],
      "source": [
        "rst.df.merge(covid_final_add,on='Date').sort_values(\"Residual\",ascending=False).iloc[:30,:]"
      ],
      "id": "cfa28182-9c56-4c5f-867c-e02fffdf0fb5"
    },
    {
      "cell_type": "markdown",
      "metadata": {},
      "source": [
        "# 시도 2"
      ],
      "id": "025973cd-8221-4c5e-8a86-8f3ea5a6c640"
    },
    {
      "cell_type": "code",
      "execution_count": null,
      "metadata": {},
      "outputs": [],
      "source": [
        "rst2 = Stock_graph(df)"
      ],
      "id": "e211fcc0-fd26-4a12-841d-811b27fa3652"
    },
    {
      "cell_type": "code",
      "execution_count": null,
      "metadata": {},
      "outputs": [],
      "source": [
        "len(rst2.df)"
      ],
      "id": "d2f7e20e-c15d-499a-b33e-35650e1cc155"
    },
    {
      "cell_type": "code",
      "execution_count": null,
      "metadata": {},
      "outputs": [],
      "source": [
        "T"
      ],
      "id": "d32416ea-ddc8-4304-95bd-bcb045947b67"
    },
    {
      "cell_type": "code",
      "execution_count": null,
      "metadata": {},
      "outputs": [],
      "source": [
        "rst2.df"
      ],
      "id": "af159714-e458-46b4-9522-b5c575366758"
    },
    {
      "cell_type": "code",
      "execution_count": null,
      "metadata": {},
      "outputs": [],
      "source": [
        "rst2.df.sort_values('Country').iloc[:,[9,10]].reset_index().iloc[:,1:].pivot(columns='Country', values='Value').iloc[:,1].dropna()"
      ],
      "id": "cb4bdd6f-d23d-4255-b5f0-e1460dd47654"
    },
    {
      "cell_type": "markdown",
      "metadata": {},
      "source": [
        "## Result"
      ],
      "id": "16b6a5ff-0a18-43fc-899b-d4257d9dcf92"
    },
    {
      "cell_type": "code",
      "execution_count": null,
      "metadata": {},
      "outputs": [],
      "source": [
        "covid_final_add"
      ],
      "id": "23cc73ea-807f-48d3-8129-db409549d5e1"
    }
  ],
  "nbformat": 4,
  "nbformat_minor": 5,
  "metadata": {
    "kernelspec": {
      "name": "python3",
      "display_name": "Python 3",
      "language": "python"
    },
    "language_info": {
      "name": "python",
      "codemirror_mode": {
        "name": "ipython",
        "version": "3"
      },
      "file_extension": ".py",
      "mimetype": "text/x-python",
      "nbconvert_exporter": "python",
      "pygments_lexer": "ipython3",
      "version": "3.8.0"
    }
  }
}
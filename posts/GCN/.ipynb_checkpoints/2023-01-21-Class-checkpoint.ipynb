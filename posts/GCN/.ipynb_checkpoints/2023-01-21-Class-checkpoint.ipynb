{
 "cells": [
  {
   "cell_type": "raw",
   "id": "6c8f0bf9-e110-4e30-8596-b2dd384e79e0",
   "metadata": {
    "id": "cac470df-29e7-4148-9bbd-d8b9a32fa570",
    "tags": []
   },
   "source": [
    "---\n",
    "title: \"Class of Method\"\n",
    "author: \"SEOYEON CHOI\"\n",
    "date: \"2023-01-21\"\n",
    "categories:\n",
    "  - ST-GCN\n",
    "---"
   ]
  },
  {
   "cell_type": "markdown",
   "id": "ccf50ae2-58ec-4c6e-9cc8-393c473767eb",
   "metadata": {},
   "source": [
    "> Class"
   ]
  },
  {
   "cell_type": "markdown",
   "id": "1463f6e7-0b6c-490d-b7ee-4022ce4345a8",
   "metadata": {
    "tags": []
   },
   "source": [
    "# import"
   ]
  },
  {
   "cell_type": "code",
   "execution_count": 1,
   "id": "f90af573-4bc0-4c9e-ad94-e9739160055e",
   "metadata": {},
   "outputs": [],
   "source": [
    "import rpy2\n",
    "import rpy2.robjects as ro \n",
    "from rpy2.robjects.vectors import FloatVector \n",
    "from rpy2.robjects.packages import importr\n",
    "\n",
    "import torch\n",
    "import numpy as np\n",
    "from tqdm import tqdm\n",
    "\n",
    "import torch.nn.functional as F\n",
    "from torch_geometric_temporal.nn.recurrent import GConvGRU\n",
    "\n",
    "import matplotlib.pyplot as plt\n",
    "import pandas as pd\n",
    "\n",
    "import time\n",
    "\n",
    "from scipy.interpolate import interp1d"
   ]
  },
  {
   "cell_type": "code",
   "execution_count": 2,
   "id": "dbbe91df-66c9-46da-abf9-379f37061d5e",
   "metadata": {},
   "outputs": [],
   "source": [
    "class RecurrentGCN(torch.nn.Module):\n",
    "    def __init__(self, node_features, filters):\n",
    "        super(RecurrentGCN, self).__init__()\n",
    "        self.recurrent = GConvGRU(node_features, filters, 2)\n",
    "        self.linear = torch.nn.Linear(filters, 1)\n",
    "\n",
    "    def forward(self, x, edge_index, edge_weight):\n",
    "        h = self.recurrent(x, edge_index, edge_weight)\n",
    "        h = F.relu(h)\n",
    "        h = self.linear(h)\n",
    "        return h"
   ]
  },
  {
   "cell_type": "markdown",
   "id": "354a98c5-e3bc-4e2b-9b25-4266752c5f3c",
   "metadata": {},
   "source": [
    "# R"
   ]
  },
  {
   "cell_type": "code",
   "execution_count": 232,
   "id": "c1238fc5-7532-4649-8fe5-f259eb4417af",
   "metadata": {},
   "outputs": [
    {
     "name": "stdout",
     "output_type": "stream",
     "text": [
      "The rpy2.ipython extension is already loaded. To reload it, use:\n",
      "  %reload_ext rpy2.ipython\n"
     ]
    }
   ],
   "source": [
    "%load_ext rpy2.ipython"
   ]
  },
  {
   "cell_type": "code",
   "execution_count": 233,
   "id": "a4a34de3-d22c-49f1-9b49-6bc5ea42dbdf",
   "metadata": {},
   "outputs": [],
   "source": [
    "%%R\n",
    "library(GNAR)\n",
    "library(igraph)"
   ]
  },
  {
   "cell_type": "markdown",
   "id": "7aa770db-3946-4d25-aa99-414f58cbb354",
   "metadata": {},
   "source": [
    "# Data"
   ]
  },
  {
   "cell_type": "code",
   "execution_count": 234,
   "id": "16085974-e53c-4f25-a20a-d6656903cb9b",
   "metadata": {},
   "outputs": [],
   "source": [
    "%%R\n",
    "edges <- as.matrix(fiveNet)\n",
    "data(\"fiveNode\")"
   ]
  },
  {
   "cell_type": "code",
   "execution_count": 235,
   "id": "d32414c4-4daf-4a53-a6b2-9c1c2607d854",
   "metadata": {},
   "outputs": [],
   "source": [
    "%R -o fiveVTS\n",
    "%R -o edges"
   ]
  },
  {
   "cell_type": "markdown",
   "id": "0739b940-3083-4d50-a190-e3d89e4e7531",
   "metadata": {},
   "source": [
    "- node: 5\n",
    "- time 200"
   ]
  },
  {
   "cell_type": "markdown",
   "id": "2337308d-7c56-458c-976f-3533b75e9d57",
   "metadata": {
    "tags": []
   },
   "source": [
    "# functions "
   ]
  },
  {
   "cell_type": "code",
   "execution_count": 236,
   "id": "6da192de-76ae-40f9-837a-16bbabe44822",
   "metadata": {},
   "outputs": [],
   "source": [
    "def vis(spatiotemporaldata):\n",
    "    N = spatiotemporaldata.shape[1]\n",
    "    fig, ax = plt.subplots(N,1)\n",
    "    for n in range(N):\n",
    "        ax[n].plot(spatiotemporaldata[:,n])\n",
    "        ax[n].set_title('node='+str(n))\n",
    "    #fig.set_width()\n",
    "    fig.set_figheight(N*2) \n",
    "    fig.tight_layout()\n",
    "    return fig "
   ]
  },
  {
   "cell_type": "code",
   "execution_count": 237,
   "id": "b4bd19c6-1949-4564-9f6b-37c0542a7f7d",
   "metadata": {},
   "outputs": [],
   "source": [
    "def vis2(spatiotemporaldata1,spatiotemporaldata2):\n",
    "    N = spatiotemporaldata1.shape[1]\n",
    "    fig, ax = plt.subplots(N,1)\n",
    "    for n in range(N):\n",
    "        ax[n].plot(spatiotemporaldata1[:,n],label='data1')\n",
    "        ax[n].plot(spatiotemporaldata2[:,n],label='data2')\n",
    "        ax[n].set_title('node='+str(n))\n",
    "        ax[n].legend()\n",
    "    #fig.set_width()\n",
    "    fig.set_figheight(N*2) \n",
    "    fig.tight_layout()\n",
    "    return fig "
   ]
  },
  {
   "cell_type": "code",
   "execution_count": 238,
   "id": "5428f479-98b4-47bd-8d6e-8591dc4f12ff",
   "metadata": {},
   "outputs": [],
   "source": [
    "edges_tensor = torch.tensor(edges)"
   ]
  },
  {
   "cell_type": "code",
   "execution_count": 239,
   "id": "133f03cf-c836-409a-8d21-f3d2d52289b1",
   "metadata": {},
   "outputs": [],
   "source": [
    "nonzero_indices = edges_tensor.nonzero()"
   ]
  },
  {
   "cell_type": "code",
   "execution_count": 240,
   "id": "925da35c-3ec1-4cf3-9bac-c4245ef0cf3b",
   "metadata": {},
   "outputs": [],
   "source": [
    "fiveNet_edge = np.array(nonzero_indices).T"
   ]
  },
  {
   "cell_type": "code",
   "execution_count": 241,
   "id": "af0ff662-d913-462b-b35c-ae377533c16c",
   "metadata": {},
   "outputs": [],
   "source": [
    "T = 200\n",
    "N = 5 # number of Nodes\n",
    "E = fiveNet_edge\n",
    "V = np.array([1,2,3,4,5])\n",
    "t = np.arange(0,T)\n",
    "node_features = 1"
   ]
  },
  {
   "cell_type": "code",
   "execution_count": 242,
   "id": "cef13f89-df0c-467f-b856-7145f554e428",
   "metadata": {},
   "outputs": [],
   "source": [
    "edge_index = torch.tensor(E)\n",
    "edge_attr = torch.tensor(np.array([1,1,1,1,1,1,1,1,1,1]),dtype=torch.float32)"
   ]
  },
  {
   "cell_type": "code",
   "execution_count": 243,
   "id": "939af11d-b1fe-4077-8b31-0853e435b47d",
   "metadata": {},
   "outputs": [],
   "source": [
    "fiveVTS_train = fiveVTS[:int(len(fiveVTS)*0.8)]\n",
    "fiveVTS_test = fiveVTS[int(len(fiveVTS)*0.8):]"
   ]
  },
  {
   "cell_type": "markdown",
   "id": "b984ecff-ebeb-4d3f-97de-297aa69aa487",
   "metadata": {},
   "source": [
    "# Random Missing Values"
   ]
  },
  {
   "cell_type": "code",
   "execution_count": 260,
   "id": "a9c2d697-7649-4ed0-a0c7-e4b66c4fd45c",
   "metadata": {},
   "outputs": [],
   "source": [
    "class Missing:\n",
    "    def __init__(self,df):\n",
    "        self.df = df\n",
    "        self.N = N\n",
    "        self.number = []\n",
    "    def miss(self,percent=0.5):\n",
    "        self.missing = self.df.copy()\n",
    "        self.percent = percent\n",
    "        for i in range(self.N):\n",
    "            self.seed = np.random.choice(1000,1,replace=False)\n",
    "            np.random.seed(self.seed)\n",
    "            self.number.append(np.random.choice(int(len(self.df)),int(len(self.df)*self.percent),replace=False))\n",
    "            self.missing[self.number[i],i] = float('nan')\n",
    "    def first_mean(self):\n",
    "        self.train_mean = self.missing.copy()\n",
    "        for i in range(self.N):\n",
    "            self.train_mean[self.number[i],i] = np.nanmean(self.missing[:,i])\n",
    "    def second_linear(self):\n",
    "        self.train_linear = pd.DataFrame(self.missing)\n",
    "        self.train_linear.interpolate(method='linear', inplace=True)\n",
    "        self.train_linear = self.train_linear.fillna(0)\n",
    "        self.train_linear = np.array(self.train_linear).reshape(int(len(self.df)),N)"
   ]
  },
  {
   "cell_type": "code",
   "execution_count": 261,
   "id": "038c3192-cfed-4b3b-9bf1-ebc0101e814b",
   "metadata": {},
   "outputs": [],
   "source": [
    "_zero = Missing(fiveVTS_train)"
   ]
  },
  {
   "cell_type": "code",
   "execution_count": 262,
   "id": "6d4e89ac-0dc3-4450-8ab6-112b78f87633",
   "metadata": {},
   "outputs": [],
   "source": [
    "_zero.miss(percent = 0.5)"
   ]
  },
  {
   "cell_type": "code",
   "execution_count": null,
   "id": "e70b6cf1-ae8c-4073-9eec-f18dd13b0324",
   "metadata": {},
   "outputs": [],
   "source": [
    "vis(_zero.missing);"
   ]
  },
  {
   "cell_type": "code",
   "execution_count": 263,
   "id": "b33810aa-4e6c-4a8e-9546-6eccbdb6c6c3",
   "metadata": {},
   "outputs": [],
   "source": [
    "_zero.first_mean()"
   ]
  },
  {
   "cell_type": "code",
   "execution_count": null,
   "id": "31d76c0d-dd86-44a4-9a66-650a489f8c99",
   "metadata": {},
   "outputs": [],
   "source": [
    "vis(_zero.train_mean);"
   ]
  },
  {
   "cell_type": "code",
   "execution_count": 264,
   "id": "22206382-ee72-4861-a8cc-5f9223faec7d",
   "metadata": {},
   "outputs": [],
   "source": [
    "_zero.second_linear()"
   ]
  },
  {
   "cell_type": "code",
   "execution_count": null,
   "id": "04af9eec-97b7-4c89-a993-7ec5b53d7e62",
   "metadata": {},
   "outputs": [],
   "source": [
    "vis(np.array(_zero.train_linear).reshape(160,5));"
   ]
  },
  {
   "cell_type": "markdown",
   "id": "b54e1b8d-36be-48dc-81e7-9c86e792b0ef",
   "metadata": {},
   "source": [
    "# 1. Mean Dataset Name : Calss.first_mean"
   ]
  },
  {
   "cell_type": "code",
   "execution_count": null,
   "id": "fc220896-e8f5-4269-b50d-6e165c05bb3b",
   "metadata": {},
   "outputs": [],
   "source": []
  },
  {
   "cell_type": "code",
   "execution_count": null,
   "id": "b3476c09-24ea-4adf-a523-a880d7a96d61",
   "metadata": {},
   "outputs": [],
   "source": []
  },
  {
   "cell_type": "markdown",
   "id": "54c80a17-2286-40b1-98f4-ce826c3422c7",
   "metadata": {},
   "source": [
    "# 2. Linear Interpolation Dataset Name : Calss.second_linear"
   ]
  },
  {
   "cell_type": "code",
   "execution_count": null,
   "id": "3998ebec-3dcc-4930-bb13-855bfc308864",
   "metadata": {},
   "outputs": [],
   "source": []
  }
 ],
 "metadata": {
  "kernelspec": {
   "display_name": "Python 3 (ipykernel)",
   "language": "python",
   "name": "python3"
  },
  "language_info": {
   "codemirror_mode": {
    "name": "ipython",
    "version": 3
   },
   "file_extension": ".py",
   "mimetype": "text/x-python",
   "name": "python",
   "nbconvert_exporter": "python",
   "pygments_lexer": "ipython3",
   "version": "3.8.12"
  }
 },
 "nbformat": 4,
 "nbformat_minor": 5
}

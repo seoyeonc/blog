{
  "cells": [
    {
      "cell_type": "markdown",
      "metadata": {},
      "source": [
        "# GConvGRU_Simulation Tables_reshape\n",
        "\n",
        "SEOYEON CHOI  \n",
        "2023-05-25\n",
        "\n",
        "> Simulation Tables\n",
        "\n",
        "# import"
      ],
      "id": "5b3c866f-7d56-4873-99c9-1427b62ec766"
    },
    {
      "cell_type": "code",
      "execution_count": 1,
      "metadata": {},
      "outputs": [],
      "source": [
        "import pandas as pd"
      ],
      "id": "2b94623d-9fcc-475e-888b-fab04f70cb53"
    },
    {
      "cell_type": "code",
      "execution_count": 14,
      "metadata": {},
      "outputs": [],
      "source": [
        "data_fivenodes = pd.read_csv('./simulation_results/Real_simulation_reshape/fivedones_Simulation.csv')"
      ],
      "id": "3eb9818e-ae88-4ab1-b477-15622f336a9d"
    },
    {
      "cell_type": "code",
      "execution_count": 15,
      "metadata": {},
      "outputs": [],
      "source": [
        "data_chickenpox = pd.read_csv('./simulation_results/Real_simulation_reshape/chikenpox_Simulation.csv')"
      ],
      "id": "017dcc04-f3c5-44d0-ae40-ec506dbfd630"
    },
    {
      "cell_type": "code",
      "execution_count": 16,
      "metadata": {},
      "outputs": [],
      "source": [
        "data_pedal = pd.read_csv('./simulation_results/Real_simulation_reshape/pedalme_Simulation.csv')"
      ],
      "id": "0b711bcf-b2e4-4502-a6ad-a1313f7560fc"
    },
    {
      "cell_type": "code",
      "execution_count": 17,
      "metadata": {},
      "outputs": [],
      "source": [
        "data_pedal2 = pd.read_csv('./simulation_results/Real_simulation_reshape/pedalme_Simulation_itstgcnsnd.csv')"
      ],
      "id": "13bf364d-2d1f-4286-b0df-1b35b21e7105"
    },
    {
      "cell_type": "code",
      "execution_count": 18,
      "metadata": {},
      "outputs": [],
      "source": [
        "data__wiki = pd.read_csv('./simulation_results/Real_simulation_reshape/wikimath.csv')"
      ],
      "id": "bb0a52c3-a3ea-4d2d-9da3-e607195c9066"
    },
    {
      "cell_type": "code",
      "execution_count": 19,
      "metadata": {},
      "outputs": [],
      "source": [
        "data_wiki_GSO = pd.read_csv('./simulation_results/Real_simulation_reshape/wikimath_GSO_st.csv')"
      ],
      "id": "7322674b-592f-428b-8b70-93a3ffd2802d"
    },
    {
      "cell_type": "code",
      "execution_count": 20,
      "metadata": {},
      "outputs": [],
      "source": [
        "data_windmillsmall = pd.read_csv('./simulation_results/Real_simulation_reshape/windmillsmall.csv')"
      ],
      "id": "d5aef84f-e4fc-4735-b966-73ff530ae56b"
    },
    {
      "cell_type": "code",
      "execution_count": 21,
      "metadata": {},
      "outputs": [],
      "source": [
        "data_monte = pd.read_csv('./simulation_results/Real_simulation_reshape/monte.csv')"
      ],
      "id": "59532f6b-12df-4cea-9edb-101aedc988a7"
    },
    {
      "cell_type": "code",
      "execution_count": 22,
      "metadata": {},
      "outputs": [],
      "source": [
        "data = pd.concat([data_fivenodes,data_chickenpox,data_pedal,data__wiki,data_windmillsmall,data_monte]);data"
      ],
      "id": "6fe62078-eeb6-419c-a91e-cca745e7877b"
    },
    {
      "cell_type": "markdown",
      "metadata": {},
      "source": [
        "# Fivenodes\n",
        "\n",
        "## Baseline"
      ],
      "id": "7d19aa9c-f641-404f-9581-5891ebd8d029"
    },
    {
      "cell_type": "code",
      "execution_count": 41,
      "metadata": {},
      "outputs": [],
      "source": [
        "pd.merge(data.query(\"dataset=='fivenodes' and mtype!='rand' and mtype!='block'\").groupby(['nof_filters','method','lags'])['mse'].mean().reset_index(),\n",
        "         data.query(\"dataset=='fivenodes' and mtype!='rand' and mtype!='block'\").groupby(['nof_filters','method','lags'])['mse'].std().reset_index(),\n",
        "         on=['method','nof_filters','lags']).rename(columns={'mse_x':'mean','mse_y':'std'}).round(3)"
      ],
      "id": "156e2353-5ee1-4cf9-ada3-161447f901fa"
    },
    {
      "cell_type": "markdown",
      "metadata": {},
      "source": [
        "## Random"
      ],
      "id": "470d5c0d-23f6-45ba-9654-a0c6200746f3"
    },
    {
      "cell_type": "code",
      "execution_count": 42,
      "metadata": {},
      "outputs": [],
      "source": [
        "pd.merge(data.query(\"dataset=='fivenodes' and mtype=='rand'\").groupby(['mrate','nof_filters','method','lags'])['mse'].mean().reset_index(),\n",
        "         data.query(\"dataset=='fivenodes' and mtype=='rand'\").groupby(['mrate','nof_filters','method','lags'])['mse'].std().reset_index(),\n",
        "         on=['method','nof_filters','mrate','lags']).rename(columns={'mse_x':'mean','mse_y':'std'}).round(3).query(\"nof_filters==12\")"
      ],
      "id": "8eaefdd1-eabe-4452-97e9-2c79d3e510fa"
    },
    {
      "cell_type": "markdown",
      "metadata": {},
      "source": [
        "## Block"
      ],
      "id": "73fc070c-f404-44f2-8023-d599f7b7a7fa"
    },
    {
      "cell_type": "code",
      "execution_count": 43,
      "metadata": {},
      "outputs": [],
      "source": [
        "pd.merge(data.query(\"dataset=='fivenodes' and mtype=='block'\").groupby(['mrate','nof_filters','method'])['mse'].mean().reset_index(),\n",
        "         data.query(\"dataset=='fivenodes' and mtype=='block'\").groupby(['mrate','nof_filters','method'])['mse'].std().reset_index(),\n",
        "         on=['method','nof_filters','mrate']).rename(columns={'mse_x':'mean','mse_y':'std'}).round(3)"
      ],
      "id": "6f2c31a3-2d9c-487c-a43e-9c49657f2586"
    },
    {
      "cell_type": "markdown",
      "metadata": {},
      "source": [
        "# ChickenpoxDatasetLoader(lags=4)\n",
        "\n",
        "## Baseline"
      ],
      "id": "7829e7d8-3e3e-45a7-b882-e37059fb792c"
    },
    {
      "cell_type": "code",
      "execution_count": 108,
      "metadata": {},
      "outputs": [],
      "source": [
        "pd.merge(data.query(\"dataset=='chickenpox' and mtype!='rand' and mtype!='block'\").groupby(['nof_filters','method'])['mse'].mean().reset_index(),\n",
        "         data.query(\"dataset=='chickenpox' and mtype!='rand' and mtype!='block'\").groupby(['nof_filters','method'])['mse'].std().reset_index(),\n",
        "         on=['method','nof_filters']).rename(columns={'mse_x':'mean','mse_y':'std'}).round(3).query(\"nof_filters==16\")"
      ],
      "id": "bb9e8543-d7f7-4024-b5dd-38309dcbcedf"
    },
    {
      "cell_type": "markdown",
      "metadata": {},
      "source": [
        "## Random"
      ],
      "id": "80e3a625-b4b0-477e-9650-98f1f4653782"
    },
    {
      "cell_type": "code",
      "execution_count": 109,
      "metadata": {},
      "outputs": [],
      "source": [
        "pd.merge(data.query(\"dataset=='chickenpox' and mtype=='rand'\").groupby(['mrate','inter_method','nof_filters','method'])['mse'].mean().reset_index(),\n",
        "         data.query(\"dataset=='chickenpox' and mtype=='rand'\").groupby(['mrate','inter_method','nof_filters','method'])['mse'].std().reset_index(),\n",
        "         on=['method','inter_method','mrate','nof_filters']).rename(columns={'mse_x':'mean','mse_y':'std'}).round(3)"
      ],
      "id": "c57cc44c-dce2-436d-8d3e-2527ecfc2556"
    },
    {
      "cell_type": "markdown",
      "metadata": {},
      "source": [
        "## Block"
      ],
      "id": "36c908dc-f5dd-409e-95a2-ec7addf09c8b"
    },
    {
      "cell_type": "code",
      "execution_count": 110,
      "metadata": {},
      "outputs": [],
      "source": [
        "pd.merge(data.query(\"dataset=='chickenpox' and mtype=='block'\").groupby(['inter_method','mrate','nof_filters','method'])['mse'].mean().reset_index(),\n",
        "         data.query(\"dataset=='chickenpox' and mtype=='block'\").groupby(['inter_method','mrate','nof_filters','method'])['mse'].std().reset_index(),\n",
        "         on=['method','inter_method','mrate','nof_filters']).rename(columns={'mse_x':'mean','mse_y':'std'})"
      ],
      "id": "4f347949-8d0a-4074-aa3c-1c73e94c1c34"
    },
    {
      "cell_type": "markdown",
      "metadata": {},
      "source": [
        "# PedalMeDatasetLoader (lags=4)\n",
        "\n",
        "## Baseline"
      ],
      "id": "e9cc6b2b-9815-4d43-a5e9-b784cd87b7c7"
    },
    {
      "cell_type": "code",
      "execution_count": 47,
      "metadata": {},
      "outputs": [],
      "source": [
        "pd.merge(data.query(\"dataset=='pedalme' and mtype!='rand' and mtype!='block'\").groupby(['lags','nof_filters','method'])['mse'].mean().reset_index(),\n",
        "         data.query(\"dataset=='pedalme' and mtype!='rand' and mtype!='block'\").groupby(['lags','nof_filters','method'])['mse'].std().reset_index(),\n",
        "         on=['method','lags','nof_filters']).rename(columns={'mse_x':'mean','mse_y':'std'}).round(3).query(\"lags==4\")"
      ],
      "id": "a300e109-1780-49c1-a4e7-c2e97f89f62d"
    },
    {
      "cell_type": "markdown",
      "metadata": {},
      "source": [
        "## Random"
      ],
      "id": "5429c81d-b746-4ba1-a247-7d8686a08488"
    },
    {
      "cell_type": "code",
      "execution_count": 48,
      "metadata": {},
      "outputs": [],
      "source": [
        "pd.merge(data.query(\"dataset=='pedalme' and mtype=='rand'\").groupby(['mrate','lags','inter_method','method'])['mse'].mean().reset_index(),\n",
        "         data.query(\"dataset=='pedalme' and mtype=='rand'\").groupby(['mrate','lags','inter_method','method'])['mse'].std().reset_index(),\n",
        "         on=['method','mrate','lags','inter_method']).rename(columns={'mse_x':'mean','mse_y':'std'}).round(3)"
      ],
      "id": "4d2b77ef-5564-4992-8169-b5ed790d199e"
    },
    {
      "cell_type": "markdown",
      "metadata": {},
      "source": [
        "## Block"
      ],
      "id": "0c53e37f-df07-454c-b73c-a6590ea132a9"
    },
    {
      "cell_type": "code",
      "execution_count": 49,
      "metadata": {},
      "outputs": [],
      "source": [
        "pd.merge(data.query(\"dataset=='pedalme' and mtype=='block'\").groupby(['mrate','lags','inter_method','method'])['mse'].mean().reset_index(),\n",
        "         data.query(\"dataset=='pedalme' and mtype=='block'\").groupby(['mrate','lags','inter_method','method'])['mse'].std().reset_index(),\n",
        "         on=['method','mrate','lags','inter_method']).rename(columns={'mse_x':'mean','mse_y':'std'}).round(3).query(\"lags==4\")"
      ],
      "id": "577831cf-8f43-4096-b889-ed611aff3fcf"
    },
    {
      "cell_type": "markdown",
      "metadata": {},
      "source": [
        "## W_st"
      ],
      "id": "62f7a40b-9716-4588-94c7-ceb0595a73a4"
    },
    {
      "cell_type": "code",
      "execution_count": 71,
      "metadata": {},
      "outputs": [],
      "source": [
        "pd.merge(data_pedal2.query(\"mtype=='rand'\").groupby(['mrate','lags','inter_method','method'])['mse'].mean().reset_index(),\n",
        "         data_pedal2.query(\"mtype=='rand'\").groupby(['mrate','lags','inter_method','method'])['mse'].std().reset_index(),\n",
        "         on=['method','mrate','lags','inter_method']).rename(columns={'mse_x':'mean','mse_y':'std'}).round(3).query(\"lags==4\")"
      ],
      "id": "342d5e6e-1e72-4ad2-8e70-04e095ce5368"
    },
    {
      "cell_type": "code",
      "execution_count": 72,
      "metadata": {},
      "outputs": [],
      "source": [
        "pd.merge(data_pedal2.query(\"mtype=='block'\").groupby(['mrate','lags','inter_method','method'])['mse'].mean().reset_index(),\n",
        "         data_pedal2.query(\"mtype=='block'\").groupby(['mrate','lags','inter_method','method'])['mse'].std().reset_index(),\n",
        "         on=['method','mrate','lags','inter_method']).rename(columns={'mse_x':'mean','mse_y':'std'}).round(3).query(\"lags==4\")"
      ],
      "id": "c0c626dd-3d91-4622-93ad-9497378fae27"
    },
    {
      "cell_type": "markdown",
      "metadata": {},
      "source": [
        "# WikiMathsDatasetLoader (lags=8)\n",
        "\n",
        "## Baseline"
      ],
      "id": "586b498e-5be2-47a6-96f0-e4fdb92bef6d"
    },
    {
      "cell_type": "code",
      "execution_count": 142,
      "metadata": {},
      "outputs": [],
      "source": [
        "pd.merge(data.query(\"dataset=='wikimath' and mrate==0\").groupby(['lags','nof_filters','method'])['mse'].mean().reset_index(),\n",
        "         data.query(\"dataset=='wikimath' and mrate==0\").groupby(['lags','nof_filters','method'])['mse'].std().reset_index(),\n",
        "         on=['lags','nof_filters','method']).rename(columns={'mse_x':'mean','mse_y':'std'}).round(3)"
      ],
      "id": "f6c27c05-9c04-4430-8825-5e6036641655"
    },
    {
      "cell_type": "markdown",
      "metadata": {},
      "source": [
        "## Random"
      ],
      "id": "17683e51-07f7-4d40-bbb6-6f69dfbfbad0"
    },
    {
      "cell_type": "code",
      "execution_count": 143,
      "metadata": {},
      "outputs": [],
      "source": [
        "pd.merge(data.query(\"dataset=='wikimath' and mtype=='rand'\").groupby(['mrate','lags','method'])['mse'].mean().reset_index(),\n",
        "         data.query(\"dataset=='wikimath' and mtype=='rand'\").groupby(['mrate','lags','method'])['mse'].std().reset_index(),\n",
        "         on=['method','mrate','lags']).rename(columns={'mse_x':'mean','mse_y':'std'}).round(3)"
      ],
      "id": "93355d49-98a5-4317-a23b-cab8ce09b74b"
    },
    {
      "cell_type": "markdown",
      "metadata": {},
      "source": [
        "## Block"
      ],
      "id": "b097fb60-9bba-44eb-8c66-bbb9c35a2d7c"
    },
    {
      "cell_type": "code",
      "execution_count": 144,
      "metadata": {},
      "outputs": [],
      "source": [
        "pd.merge(data.query(\"dataset=='wikimath' and mtype=='block'\").groupby(['mrate','lags','method'])['mse'].mean().reset_index(),\n",
        "         data.query(\"dataset=='wikimath' and mtype=='block'\").groupby(['mrate','lags','method'])['mse'].std().reset_index(),\n",
        "         on=['method','mrate','lags']).rename(columns={'mse_x':'mean','mse_y':'std'})"
      ],
      "id": "3a9cdb61-9ba7-454c-b31b-6c9066b83dc8"
    },
    {
      "cell_type": "markdown",
      "metadata": {},
      "source": [
        "## missing values on the same nodes"
      ],
      "id": "95615913-7fb4-4daf-9378-87de1c324842"
    },
    {
      "cell_type": "code",
      "execution_count": 161,
      "metadata": {},
      "outputs": [],
      "source": [
        "pd.merge(data_wiki_GSO.groupby(['mrate','lags','method'])['mse'].mean().reset_index(),\n",
        "        data_wiki_GSO.groupby(['mrate','lags','method'])['mse'].std().reset_index(),\n",
        "         on=['method','mrate','lags']).rename(columns={'mse_x':'mean','mse_y':'std'}).round(3)"
      ],
      "id": "183e30ca-717e-4b81-a3bd-af5bb6310fbf"
    },
    {
      "cell_type": "markdown",
      "metadata": {},
      "source": [
        "# WindmillOutputSmallDatasetLoader (lags=8)\n",
        "\n",
        "## Baseline"
      ],
      "id": "f4155dcf-0a83-4d84-a7fc-2431985614ac"
    },
    {
      "cell_type": "code",
      "execution_count": 23,
      "metadata": {},
      "outputs": [],
      "source": [
        "pd.merge(data.query(\"dataset=='windmillsmall' and mrate==0\").groupby(['lags','method'])['mse'].mean().reset_index(),\n",
        "         data.query(\"dataset=='windmillsmall' and mrate==0\").groupby(['lags','method'])['mse'].std().reset_index(),\n",
        "         on=['method','lags']).rename(columns={'mse_x':'mean','mse_y':'std'}).round(3)"
      ],
      "id": "49b9fab5-a442-4d99-808f-8f9bfa70e094"
    },
    {
      "cell_type": "markdown",
      "metadata": {},
      "source": [
        "## Random"
      ],
      "id": "f80ec4b1-7deb-47d0-9b1a-f6e8a213b60b"
    },
    {
      "cell_type": "code",
      "execution_count": 24,
      "metadata": {},
      "outputs": [],
      "source": [
        "pd.merge(data.query(\"dataset=='windmillsmall' and mtype=='rand'\").groupby(['mrate','lags','method'])['mse'].mean().reset_index(),\n",
        "         data.query(\"dataset=='windmillsmall' and mtype=='rand'\").groupby(['mrate','lags','method'])['mse'].std().reset_index(),\n",
        "         on=['method','mrate','lags']).rename(columns={'mse_x':'mean','mse_y':'std'}).round(3)"
      ],
      "id": "8902439c-dd57-4b4a-9ee7-a4a6f834b748"
    },
    {
      "cell_type": "markdown",
      "metadata": {},
      "source": [
        "## Block"
      ],
      "id": "17a74c0c-376e-42f4-beb8-c0f8813f4cfb"
    },
    {
      "cell_type": "code",
      "execution_count": 13,
      "metadata": {},
      "outputs": [],
      "source": [
        "pd.merge(data.query(\"dataset=='windmillsmall' and mtype=='block'\").groupby(['mrate','lags','method'])['mse'].mean().reset_index(),\n",
        "         data.query(\"dataset=='windmillsmall' and mtype=='block'\").groupby(['mrate','lags','method'])['mse'].std().reset_index(),\n",
        "         on=['method','mrate','lags']).rename(columns={'mse_x':'mean','mse_y':'std'}).round(3)"
      ],
      "id": "e6a097b4-c47c-48ff-92aa-fefa3472dba2"
    },
    {
      "cell_type": "markdown",
      "metadata": {},
      "source": [
        "# Montevideobus (lags=4)\n",
        "\n",
        "## Baseline"
      ],
      "id": "1e4780ee-022c-418a-a4a0-e24b2e4a45c7"
    },
    {
      "cell_type": "code",
      "execution_count": 100,
      "metadata": {},
      "outputs": [],
      "source": [
        "pd.merge(data.query(\"dataset=='monte' and mrate==0\").groupby(['lags','method'])['mse'].mean().reset_index(),\n",
        "         data.query(\"dataset=='monte' and mrate==0\").groupby(['lags','method'])['mse'].std().reset_index(),\n",
        "         on=['method','lags']).rename(columns={'mse_x':'mean','mse_y':'std'}).round(3)"
      ],
      "id": "80ca776b-e0ac-46cf-877c-50db022936cf"
    },
    {
      "cell_type": "markdown",
      "metadata": {},
      "source": [
        "## Random"
      ],
      "id": "d668ff2d-c1bc-46e5-9e12-5cc4c8fbb50b"
    },
    {
      "cell_type": "code",
      "execution_count": 101,
      "metadata": {},
      "outputs": [],
      "source": [
        "pd.merge(data.query(\"dataset=='monte' and mtype=='rand'\").groupby(['mrate','lags','inter_method','method'])['mse'].mean().reset_index(),\n",
        "         data.query(\"dataset=='monte' and mtype=='rand'\").groupby(['mrate','lags','inter_method','method'])['mse'].std().reset_index(),\n",
        "         on=['mrate','inter_method','method','mrate','lags']).rename(columns={'mse_x':'mean','mse_y':'std'})"
      ],
      "id": "0d19690b-1489-4e96-9a01-d5a8f755fb28"
    },
    {
      "cell_type": "markdown",
      "metadata": {},
      "source": [
        "## Block"
      ],
      "id": "26856c6e-3040-4fb0-948c-debe2cd1a828"
    },
    {
      "cell_type": "code",
      "execution_count": 102,
      "metadata": {},
      "outputs": [],
      "source": [
        "pd.merge(data.query(\"dataset=='monte' and mtype=='block'\").groupby(['mrate','lags','inter_method','method'])['mse'].mean().reset_index(),\n",
        "         data.query(\"dataset=='monte' and mtype=='block'\").groupby(['mrate','lags','inter_method','method'])['mse'].std().reset_index(),\n",
        "         on=['method','mrate','inter_method','lags']).rename(columns={'mse_x':'mean','mse_y':'std'})"
      ],
      "id": "76aea718-eb75-4a87-a72f-d3e1e60c3cbe"
    }
  ],
  "nbformat": 4,
  "nbformat_minor": 5,
  "metadata": {
    "kernelspec": {
      "name": "python3",
      "display_name": "Python 3",
      "language": "python"
    },
    "language_info": {
      "name": "python",
      "codemirror_mode": {
        "name": "ipython",
        "version": "3"
      },
      "file_extension": ".py",
      "mimetype": "text/x-python",
      "nbconvert_exporter": "python",
      "pygments_lexer": "ipython3",
      "version": "3.8.0"
    },
    "toc-autonumbering": false,
    "toc-showcode": false
  }
}
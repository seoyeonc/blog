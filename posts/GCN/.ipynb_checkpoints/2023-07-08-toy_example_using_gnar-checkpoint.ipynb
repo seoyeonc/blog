{
 "cells": [
  {
   "cell_type": "raw",
   "id": "dc21eaa1-f478-4feb-8688-af964d48d2bb",
   "metadata": {
    "id": "cac470df-29e7-4148-9bbd-d8b9a32fa570",
    "tags": []
   },
   "source": [
    "---\n",
    "title: \"Toy example using GNAR\"\n",
    "author: \"SEOYEON CHOI\"\n",
    "date: \"2023-07-08\"\n",
    "categories:\n",
    "  - STGCN\n",
    "---"
   ]
  },
  {
   "cell_type": "markdown",
   "id": "7ab86549-34f3-4c04-9397-26a3505079ed",
   "metadata": {},
   "source": [
    "# Import"
   ]
  },
  {
   "cell_type": "code",
   "execution_count": 1,
   "id": "a55790db-3ca7-4626-8687-f84c327d6032",
   "metadata": {},
   "outputs": [
    {
     "name": "stderr",
     "output_type": "stream",
     "text": [
      "/home/csy/anaconda3/envs/temp_csy/lib/python3.8/site-packages/tqdm/auto.py:21: TqdmWarning: IProgress not found. Please update jupyter and ipywidgets. See https://ipywidgets.readthedocs.io/en/stable/user_install.html\n",
      "  from .autonotebook import tqdm as notebook_tqdm\n"
     ]
    }
   ],
   "source": [
    "import rpy2\n",
    "import rpy2.robjects as ro \n",
    "from rpy2.robjects.vectors import FloatVector \n",
    "from rpy2.robjects.packages import importr\n",
    "import numpy as np\n",
    "import matplotlib.pyplot as plt\n",
    "import pandas as pd\n",
    "import pickle\n",
    "import torch\n",
    "import itstgcn\n",
    "import random"
   ]
  },
  {
   "cell_type": "code",
   "execution_count": 2,
   "id": "b848e341-166f-4187-ac0e-1ddd19ab2616",
   "metadata": {},
   "outputs": [],
   "source": [
    "def save_data(data_dict,fname):\n",
    "    with open(fname,'wb') as outfile:\n",
    "        pickle.dump(data_dict,outfile)"
   ]
  },
  {
   "cell_type": "code",
   "execution_count": 3,
   "id": "078cffd0-50ec-4e01-904d-79ab8aa26702",
   "metadata": {},
   "outputs": [],
   "source": [
    "def load_data(fname):\n",
    "    with open(fname, 'rb') as outfile:\n",
    "        data_dict = pickle.load(outfile)\n",
    "    return data_dict"
   ]
  },
  {
   "cell_type": "markdown",
   "id": "69cb817a-e999-48a8-9c9d-4193693ce90b",
   "metadata": {},
   "source": [
    "# GNAR Data copy"
   ]
  },
  {
   "cell_type": "code",
   "execution_count": 4,
   "id": "8a6ac3c5-c6d4-4d4f-8318-52383e80d6d9",
   "metadata": {},
   "outputs": [],
   "source": [
    "%load_ext rpy2.ipython"
   ]
  },
  {
   "cell_type": "code",
   "execution_count": 5,
   "id": "2ac56cd1-2667-4655-8f35-3ce33b207060",
   "metadata": {},
   "outputs": [],
   "source": [
    "%%R\n",
    "library(GNAR)\n",
    "library(igraph)"
   ]
  },
  {
   "cell_type": "markdown",
   "id": "f29799d5-a6fc-4860-bfdf-5393b62af3a9",
   "metadata": {},
   "source": [
    "- edge(list)\n",
    "- dist(list)"
   ]
  },
  {
   "cell_type": "code",
   "execution_count": 6,
   "id": "37121556-b657-48e6-b075-5d5ad01f5694",
   "metadata": {},
   "outputs": [
    {
     "data": {
      "image/png": "[encoded data removed]"
     },
     "metadata": {},
     "output_type": "display_data"
    }
   ],
   "source": [
    "%%R\n",
    "plot(fiveNet, vertex.label = c(\"A\", \"B\", \"C\", \"D\", \"E\"))"
   ]
  },
  {
   "cell_type": "code",
   "execution_count": 7,
   "id": "8e2fa9ef-21f2-4c33-ab2e-9cf2d24728db",
   "metadata": {},
   "outputs": [
    {
     "name": "stdout",
     "output_type": "stream",
     "text": [
      "     [,1] [,2] [,3] [,4] [,5]\n",
      "[1,]    0    0    0    1    1\n",
      "[2,]    0    0    1    1    0\n",
      "[3,]    0    1    0    1    0\n",
      "[4,]    1    1    1    0    0\n",
      "[5,]    1    0    0    0    0\n"
     ]
    }
   ],
   "source": [
    "%%R\n",
    "as.matrix(fiveNet)"
   ]
  },
  {
   "cell_type": "code",
   "execution_count": 8,
   "id": "0817c6e5-1a71-421d-bc76-5dc0fd62a846",
   "metadata": {},
   "outputs": [
    {
     "name": "stdout",
     "output_type": "stream",
     "text": [
      "Model: \n",
      "GNAR(2,[1,1]) \n",
      "\n",
      "Call:\n",
      "lm(formula = yvec ~ dmat + 0)\n",
      "\n",
      "Coefficients:\n",
      " dmatalpha1  dmatbeta1.1   dmatalpha2  dmatbeta2.1  \n",
      "    0.20624      0.50277      0.02124     -0.09523  \n",
      "\n"
     ]
    }
   ],
   "source": [
    "%%R\n",
    "data(\"fiveNode\")\n",
    "answer <- GNARfit(vts = fiveVTS, net = fiveNet, alphaOrder = 2, betaOrder = c(1, 1))\n",
    "answer"
   ]
  },
  {
   "cell_type": "markdown",
   "id": "aca5dbe2-f5f1-43b3-821f-07d4a2ec27ee",
   "metadata": {},
   "source": [
    "$$X_{i,t} = \\sum^p_{j=1}\\big( \\alpha_{i,j} X_{i,t-j} + \\sum^C_{c=1} \\sum^{s_j}_{r=1} \\beta_{j,r,c} \\sum_{1 \\in \\cal{N}^{(r)}_t (i)} \\omega^{(t)}_{i,q,c} X_{q,t-j} \\big) + u_{i,t}$$"
   ]
  },
  {
   "cell_type": "markdown",
   "id": "3f7417d3-25dc-4c73-90ba-e7f12c938029",
   "metadata": {},
   "source": [
    "- $p \\in \\mathbb{N}$ is the maximum time lag\n",
    "- $[s] = (s_1, \\dots , s_p)$ and $s_j \\in \\mathbb{N}_0$ is the maximum stage of neighbor dependence for time lag $j$, with $\\mathbb{N}_0 = \\mathbb{N} \\cup \\{ 0\\}$\n",
    "- $\\cal{N}^{(r)}_t (i)$ is the $r$th stage neighbour set of node $i$ at time $t$\n",
    "- $\\omega^{(t)}_{i,q,c} \\in [0,1]$ is the connection weight between node $i$ and node $q$ at time $t$ if the path corresponds to covariate $c$"
   ]
  },
  {
   "cell_type": "markdown",
   "id": "92e1a08e-3463-4672-aa03-5cba393258ed",
   "metadata": {},
   "source": [
    "$$X_{A,t} = 0.206 X_{A,t−1}+0.503 (X_{E,t−1}+X_{D,t−1})/2+0.021 X_{A,t−2}−0.095(X_{E,t−2}+X_{D,t−2})/2+u_{A,t}$$\n",
    "\n",
    "$$X_{B,t} = 0.206 X_{B,t−1}+0.503 (X_{C,t−1}+X_{D,t−1})/2+0.021 X_{B,t−2}−0.095(X_{C,t−2}+X_{D,t−2})/2+u_{B,t}$$\n",
    "\n",
    "$$X_{C,t} = 0.206 X_{C,t−1}+0.503 (X_{B,t−1}+X_{D,t−1})/2+0.021 X_{C,t−2}−0.095(X_{B,t−2}+X_{D,t−2})/2+u_{C,t}$$\n",
    "\n",
    "$$X_{D,t} = 0.206 X_{D,t−1}+0.503 (X_{A,t−1}+X_{B,t−1}+X_{C,t−1})/3+0.021 X_{D,t−2}−0.095(X_{A,t−1}+X_{B,t−1}+X_{C,t−1})/3+u_{D,t}$$\n",
    "\n",
    "$$X_{E,t} = 0.206 X_{E,t−1}+0.503 (X_{A,t−1})+0.021 X_{E,t−2}−0.095(X_{A,t−1})+u_{E,t}$$"
   ]
  },
  {
   "cell_type": "code",
   "execution_count": 9,
   "id": "39d9f3bb-a865-46a2-97e0-83ed41f04a00",
   "metadata": {},
   "outputs": [],
   "source": [
    "from statsmodels.tsa.arima.model import ARIMA"
   ]
  },
  {
   "cell_type": "markdown",
   "id": "75c53e0c-4afa-4b86-aeac-0800aa900e91",
   "metadata": {},
   "source": [
    "https://communities.sas.com/t5/SAS-Tech-Tip/SAS-%ED%99%9C%EC%9A%A9-%EB%85%B8%ED%95%98%EC%9A%B0-%EC%8B%9C%EA%B3%84%EC%97%B4-AR-1-%EA%B3%BC-AR-2/ta-p/792106"
   ]
  },
  {
   "cell_type": "code",
   "execution_count": 183,
   "id": "9550502c-8a42-4e97-98c2-93dbb936d6f4",
   "metadata": {},
   "outputs": [],
   "source": [
    "a_ylag1 = np.random.normal(size=1)\n",
    "a_ylag2 = np.random.normal(size=1)"
   ]
  },
  {
   "cell_type": "code",
   "execution_count": 184,
   "id": "31ee4d27-17ca-4621-aab1-2b4a2ba12619",
   "metadata": {},
   "outputs": [],
   "source": [
    "b_ylag1 = np.random.normal(size=1)\n",
    "b_ylag2 = np.random.normal(size=1)"
   ]
  },
  {
   "cell_type": "code",
   "execution_count": 185,
   "id": "ef8d674e-731b-4feb-8f35-7adb2aec902d",
   "metadata": {},
   "outputs": [],
   "source": [
    "# alpha1 = 0.15\n",
    "alpha1 = 0.5\n",
    "alpha2 = 0.3\n",
    "# alpha2 = 0.01\n",
    "# beta1 = 0.503\n",
    "beta1 = - 0.01\n",
    "beta2 = 0.1\n",
    "a_ar_values = []\n",
    "a_ar_values_true = []\n",
    "b_ar_values = []\n",
    "b_ar_values_true = []"
   ]
  },
  {
   "cell_type": "code",
   "execution_count": 186,
   "id": "3f89a382-6dae-4e8f-8af1-7867c12a58e3",
   "metadata": {},
   "outputs": [],
   "source": [
    "for i in range(500):\n",
    "    a_e = np.random.normal(size=1) * 0.1\n",
    "    b_e = np.random.normal(size=1) * 0.1\n",
    "    \n",
    "    # a_y = alpha1 * a_ylag1 + alpha2 * a_ylag2 + a_e + beta1 * (e_ylag1 + d_ylag1) / 2 + beta2 * (e_ylag2 + d_ylag2) / 2\n",
    "    # b_y = alpha1 * b_ylag1 + alpha2 * b_ylag2 + b_e + beta1 * (c_ylag1 + d_ylag1) / 2 + beta2 * (c_ylag2 + d_ylag2) / 2\n",
    "    # c_y = alpha1 * c_ylag1 + alpha2 * c_ylag2 + c_e + beta1 * (b_ylag1 + d_ylag1) / 2 + beta2 * (b_ylag2 + d_ylag2) / 2\n",
    "    # d_y = alpha1 * d_ylag1 + alpha2 * d_ylag2 + d_e + beta1 * (a_ylag1 + b_ylag1 + c_ylag1) / 3 + beta2 * (a_ylag2 + b_ylag2 + c_ylag2) / 3\n",
    "    # e_y = alpha1 * e_ylag1 + alpha2 * e_ylag2 + e_e + beta1 * a_ylag1 + beta2 * a_ylag2\n",
    "    a_y_true = alpha1 * a_ylag1 + alpha2 * a_ylag2 + beta1 * (b_ylag1) + beta2 * (a_ylag2)\n",
    "    a_y = a_y_true + a_e\n",
    "    b_y_true = alpha1 * b_ylag1 + alpha2 * b_ylag2 + beta1 * (a_ylag1) + beta2 * (b_ylag2)\n",
    "    b_y = b_y_true + b_e\n",
    "    \n",
    "    a_ar_values_true.append(a_y_true[0])\n",
    "    a_ar_values.append(a_y[0])\n",
    "    b_ar_values_true.append(b_y_true[0])\n",
    "    b_ar_values.append(b_y[0])\n",
    "    \n",
    "    a_ylag2 = a_ylag1\n",
    "    b_ylag2 = b_ylag1\n",
    "    \n",
    "    a_ylag1 = a_y\n",
    "    b_ylag1 = b_y"
   ]
  },
  {
   "cell_type": "code",
   "execution_count": 187,
   "id": "e2ef354f-6ec7-45b2-a7d0-894d0a308e23",
   "metadata": {},
   "outputs": [
    {
     "data": {
      "text/plain": [
       "-8.740032574077741"
      ]
     },
     "execution_count": 187,
     "metadata": {},
     "output_type": "execute_result"
    }
   ],
   "source": [
    "np.sum(a_ar_values)"
   ]
  },
  {
   "cell_type": "code",
   "execution_count": 188,
   "id": "bb6b44c2-215c-4e12-a2a9-a2113f023cb1",
   "metadata": {},
   "outputs": [
    {
     "data": {
      "text/plain": [
       "-10.144698523930003"
      ]
     },
     "execution_count": 188,
     "metadata": {},
     "output_type": "execute_result"
    }
   ],
   "source": [
    "np.sum(b_ar_values)"
   ]
  },
  {
   "cell_type": "code",
   "execution_count": 189,
   "id": "41836a25-0aae-4b29-92ce-b81d0cb72f95",
   "metadata": {},
   "outputs": [
    {
     "data": {
      "text/plain": [
       "[<matplotlib.lines.Line2D at 0x7f5ff7b9c8b0>]"
      ]
     },
     "execution_count": 189,
     "metadata": {},
     "output_type": "execute_result"
    },
    {
     "data": {
      "image/png": "[encoded data removed]",
      "text/plain": [
       "<Figure size 432x288 with 1 Axes>"
      ]
     },
     "metadata": {
      "needs_background": "light"
     },
     "output_type": "display_data"
    }
   ],
   "source": [
    "plt.plot(a_ar_values_true)"
   ]
  },
  {
   "cell_type": "code",
   "execution_count": 190,
   "id": "1c76531d-7fcf-4dd7-b628-e07106366d68",
   "metadata": {},
   "outputs": [
    {
     "data": {
      "text/plain": [
       "[<matplotlib.lines.Line2D at 0x7f5ffcb963d0>]"
      ]
     },
     "execution_count": 190,
     "metadata": {},
     "output_type": "execute_result"
    },
    {
     "data": {
      "image/png": "[encoded data removed]",
      "text/plain": [
       "<Figure size 432x288 with 1 Axes>"
      ]
     },
     "metadata": {
      "needs_background": "light"
     },
     "output_type": "display_data"
    }
   ],
   "source": [
    "plt.plot(a_ar_values)"
   ]
  },
  {
   "cell_type": "code",
   "execution_count": 191,
   "id": "1a7b9924-c136-4c8e-9d32-6f9819f6cdb6",
   "metadata": {},
   "outputs": [
    {
     "data": {
      "text/plain": [
       "[<matplotlib.lines.Line2D at 0x7f5ffcb039a0>]"
      ]
     },
     "execution_count": 191,
     "metadata": {},
     "output_type": "execute_result"
    },
    {
     "data": {
      "image/png": "[encoded data removed]",
      "text/plain": [
       "<Figure size 432x288 with 1 Axes>"
      ]
     },
     "metadata": {
      "needs_background": "light"
     },
     "output_type": "display_data"
    }
   ],
   "source": [
    "plt.plot(b_ar_values_true)"
   ]
  },
  {
   "cell_type": "code",
   "execution_count": 192,
   "id": "5d15346d-4005-40a5-b24b-384962662d06",
   "metadata": {},
   "outputs": [
    {
     "data": {
      "text/plain": [
       "[<matplotlib.lines.Line2D at 0x7f5ffcafa7f0>]"
      ]
     },
     "execution_count": 192,
     "metadata": {},
     "output_type": "execute_result"
    },
    {
     "data": {
      "image/png": "[encoded data removed]",
      "text/plain": [
       "<Figure size 432x288 with 1 Axes>"
      ]
     },
     "metadata": {
      "needs_background": "light"
     },
     "output_type": "display_data"
    }
   ],
   "source": [
    "plt.plot(b_ar_values)"
   ]
  },
  {
   "cell_type": "code",
   "execution_count": 193,
   "id": "3b612a1a-a660-459d-a0b2-4880ff37949f",
   "metadata": {},
   "outputs": [],
   "source": [
    "df = {'A' : a_ar_values, 'B' : b_ar_values}"
   ]
  },
  {
   "cell_type": "code",
   "execution_count": 194,
   "id": "154494d5-f41b-4fa9-ac69-8c8fb1852be0",
   "metadata": {},
   "outputs": [],
   "source": [
    "_node_ids = {'node1':0, 'node2':1}"
   ]
  },
  {
   "cell_type": "code",
   "execution_count": 195,
   "id": "fa785f8f-32b6-43cb-a7c6-9e8fd369448f",
   "metadata": {},
   "outputs": [],
   "source": [
    "_edges = torch.tensor([[0,1],[1,0]]).tolist()"
   ]
  },
  {
   "cell_type": "code",
   "execution_count": 196,
   "id": "2ca1d98e-a61f-42b0-b3f1-4a0fd0f6caa5",
   "metadata": {},
   "outputs": [],
   "source": [
    "_FX1 = np.stack([a_ar_values,b_ar_values],axis=1).tolist()"
   ]
  },
  {
   "cell_type": "code",
   "execution_count": 197,
   "id": "426d2660-8b21-4002-9b05-26e4f3510591",
   "metadata": {},
   "outputs": [],
   "source": [
    "data_dict = {'edges':_edges, 'node_ids':_node_ids, 'FX':_FX1}"
   ]
  },
  {
   "cell_type": "code",
   "execution_count": 198,
   "id": "a41ccb3f-e024-4378-b459-a691b5f4d28f",
   "metadata": {},
   "outputs": [],
   "source": [
    "save_data(data_dict,'toy_ex_dataset.pkl')"
   ]
  },
  {
   "cell_type": "markdown",
   "id": "f6d286f2-22c0-4e96-8d91-39c44d998ea1",
   "metadata": {},
   "source": [
    "# Random"
   ]
  },
  {
   "cell_type": "code",
   "execution_count": 199,
   "id": "326eeb35-3f7b-4109-aab6-847e0a134c3e",
   "metadata": {},
   "outputs": [],
   "source": [
    "data_dict = load_data('toy_ex_dataset.pkl')"
   ]
  },
  {
   "cell_type": "code",
   "execution_count": 200,
   "id": "4ff5419c-a07c-4dfe-aa12-f1952f578401",
   "metadata": {},
   "outputs": [],
   "source": [
    "loader = itstgcn.DatasetLoader(data_dict)"
   ]
  },
  {
   "cell_type": "code",
   "execution_count": 201,
   "id": "2d6cb5ab-3308-494a-9c5b-a9d0395b5bce",
   "metadata": {},
   "outputs": [],
   "source": [
    "dataset = loader.get_dataset(lags=2)"
   ]
  },
  {
   "cell_type": "code",
   "execution_count": 202,
   "id": "38b8029d-d5f6-4923-b032-7d26d2331d69",
   "metadata": {},
   "outputs": [],
   "source": [
    "train_dataset, test_dataset = itstgcn.temporal_signal_split(dataset, train_ratio=0.8)"
   ]
  },
  {
   "cell_type": "code",
   "execution_count": 203,
   "id": "c0c26fb7-686c-4eb8-93db-93af6eab9c14",
   "metadata": {},
   "outputs": [],
   "source": [
    "mindex_rand = itstgcn.rand_mindex(train_dataset,mrate=0.7)"
   ]
  },
  {
   "cell_type": "code",
   "execution_count": 204,
   "id": "4e3c15bd-15ce-43ec-a5d9-9c93d6f4779b",
   "metadata": {},
   "outputs": [],
   "source": [
    "train_dataset_miss_rand = itstgcn.miss(train_dataset,mindex_rand,mtype='rand')"
   ]
  },
  {
   "cell_type": "code",
   "execution_count": 205,
   "id": "da39a7ff-9682-4695-9e5a-d67a8a88ecc9",
   "metadata": {},
   "outputs": [],
   "source": [
    "train_dataset_padded_rand = itstgcn.padding(train_dataset_miss_rand) # padding(train_dataset_miss,method='linear'와 같음)"
   ]
  },
  {
   "cell_type": "markdown",
   "id": "91c68bab-ac6e-41ed-84ca-5af305114247",
   "metadata": {},
   "source": [
    "`-` 학습"
   ]
  },
  {
   "cell_type": "code",
   "execution_count": 206,
   "id": "29e7780b-a711-4db2-99ef-8d752a3fb510",
   "metadata": {},
   "outputs": [],
   "source": [
    "lrnr_rand = itstgcn.StgcnLearner(train_dataset_padded_rand)"
   ]
  },
  {
   "cell_type": "code",
   "execution_count": null,
   "id": "990288e7-87bf-4cdc-92eb-ea50b9af23fe",
   "metadata": {},
   "outputs": [
    {
     "name": "stdout",
     "output_type": "stream",
     "text": [
      "3/5\r"
     ]
    }
   ],
   "source": [
    "lrnr_rand.learn(filters=12,epoch=5)"
   ]
  },
  {
   "cell_type": "code",
   "execution_count": null,
   "id": "d525b769-0529-4b8f-a664-b3396037914a",
   "metadata": {},
   "outputs": [],
   "source": [
    "lrnr_rand_it = itstgcn.ITStgcnLearner(train_dataset_padded_rand)"
   ]
  },
  {
   "cell_type": "code",
   "execution_count": null,
   "id": "7ad9e6bb-459f-45ee-aa77-4ffcc708da78",
   "metadata": {},
   "outputs": [],
   "source": [
    "lrnr_rand_it.learn(filters=12,epoch=5)"
   ]
  },
  {
   "cell_type": "markdown",
   "id": "08bce0de-5be0-419f-8ba5-b148bb86666d",
   "metadata": {},
   "source": [
    "`-` 모형 평가 및 시각화"
   ]
  },
  {
   "cell_type": "code",
   "execution_count": null,
   "id": "93f0e626-9dce-4660-a1ec-0c2886c01664",
   "metadata": {},
   "outputs": [],
   "source": [
    "evtor_rand = itstgcn.Evaluator(lrnr_rand,train_dataset_padded_rand,test_dataset)"
   ]
  },
  {
   "cell_type": "code",
   "execution_count": null,
   "id": "abc57bd3-9acc-4c0d-adbb-3548641a6b23",
   "metadata": {},
   "outputs": [],
   "source": [
    "fig = evtor_rand.plot('--.',h=5,max_node=2,label='complete data',alpha=0.5) # max_nodes 는 1보다 커야함\n",
    "fig.set_figwidth(20)\n",
    "fig.set_figheight(10)\n",
    "fig.tight_layout()\n",
    "fig"
   ]
  },
  {
   "cell_type": "code",
   "execution_count": null,
   "id": "42c44bbe-5af4-407e-9b96-f1e057b66452",
   "metadata": {},
   "outputs": [],
   "source": [
    "evtor_rand_it = itstgcn.Evaluator(lrnr_rand_it,train_dataset_padded_rand,test_dataset)"
   ]
  },
  {
   "cell_type": "code",
   "execution_count": null,
   "id": "bf047158-6e75-4b3b-bd42-63092fe461a4",
   "metadata": {},
   "outputs": [],
   "source": [
    "fig = evtor_rand_it.plot('--.',h=5,max_node=2,label='complete data',alpha=0.5) # max_nodes 는 1보다 커야함\n",
    "fig.set_figwidth(20)\n",
    "fig.set_figheight(10)\n",
    "fig.tight_layout()\n",
    "fig"
   ]
  },
  {
   "cell_type": "code",
   "execution_count": null,
   "id": "4c899fae-61c8-4209-8e39-123f30262a93",
   "metadata": {},
   "outputs": [],
   "source": [
    "with plt.style.context('seaborn-white'):\n",
    "    fig, ((ax1, ax2), (ax3, ax4), (ax5,ax6)) = plt.subplots(3, 2,figsize=(40,20))\n",
    "    # fig.suptitle('Figure 1(node 1)',fontsize=40)\n",
    "    ax1.plot(a_ar_values_true,label='Ground Truth')\n",
    "    ax1.legend(fontsize=20,loc='lower left',facecolor='white', frameon=True)\n",
    "    \n",
    "    ax2.plot(np.array(data_dict['FX'])[:,0],'-',color='C3',label='Complete Data')\n",
    "    ax2.legend(fontsize=20,loc='lower left',facecolor='white', frameon=True)\n",
    "    ax2.tick_params(axis='y', labelsize=20)\n",
    "    ax2.tick_params(axis='x', labelsize=20)\n",
    "    \n",
    "    ax3.plot(np.array(data_dict['FX'])[:,0],'--',color='C5',alpha=0.5,label='Complete Data')\n",
    "    ax3.plot(torch.cat([torch.tensor(dataset.features)[:2,0,0],torch.tensor(train_dataset_miss_rand.targets).reshape(-1,2)[:,0]],dim=0),'--o',color='C3',label='Observed Data')\n",
    "    ax3.legend(fontsize=20,loc='lower left',facecolor='white', frameon=True)\n",
    "    ax3.tick_params(axis='y', labelsize=20)\n",
    "    ax3.tick_params(axis='x', labelsize=20)\n",
    "    \n",
    "    ax4.plot(np.array(data_dict['FX'])[:,0],'--',color='C5',alpha=0.5,label='Complete Data')\n",
    "    ax4.plot(torch.cat([torch.tensor(dataset.features)[:2,0,0],torch.tensor(train_dataset_padded_rand.targets).reshape(-1,2)[:,0]],dim=0),'--o',color='C3',alpha=0.8,label='Linear Interpolation')\n",
    "    ax4.legend(fontsize=20,loc='lower left',facecolor='white', frameon=True)\n",
    "    ax4.tick_params(axis='y', labelsize=20)\n",
    "    ax4.tick_params(axis='x', labelsize=20)\n",
    "    \n",
    "    ax5.plot(torch.tensor(data_dict['FX'])[:400,0],'--',color='C5',alpha=0.5,label='Complete Data')\n",
    "    ax5.plot(a_ar_values_true[:400],color='black',label='Ground Truth',lw=3)\n",
    "    ax5.plot(evtor_rand.fhat_tr[:,0],color='brown',lw=3,label='GConvGRU',alpha=0.5)\n",
    "    ax5.plot(evtor_rand_it.fhat_tr[:,0],color='blue',lw=3,label='IT-TGNN',alpha=0.5)\n",
    "    # ax4.plot(55, 0, 'o', markersize=100, markerfacecolor='none', markeredgecolor='red',markeredgewidth=3)\n",
    "    # ax4.plot(150, 0, 'o', markersize=80, markerfacecolor='none', markeredgecolor='red',markeredgewidth=3)\n",
    "    # ax4.plot(185, 0, 'o', markersize=80, markerfacecolor='none', markeredgecolor='red',markeredgewidth=3)\n",
    "    ax5.legend(fontsize=20,loc='lower left',facecolor='white', frameon=True)\n",
    "    ax5.tick_params(axis='y', labelsize=20)\n",
    "    ax5.tick_params(axis='x', labelsize=20)\n",
    "    \n",
    "    ax6.plot(torch.tensor(data_dict['FX'])[400:,0],'--',color='C5',alpha=0.5,label='Test')\n",
    "    ax6.plot(a_ar_values_true[400:],color='black',label='Ground Truth',lw=3)\n",
    "    ax6.plot(evtor_rand.fhat_test[:,0],color='brown',lw=3,label='GConvGRU',alpha=0.5)\n",
    "    ax6.plot(evtor_rand_it.fhat_test[:,0],color='blue',lw=3,label='IT-TGNN',alpha=0.5)\n",
    "    ax6.legend(fontsize=20,loc='lower left',facecolor='white', frameon=True)\n",
    "    ax6.tick_params(axis='y', labelsize=20)\n",
    "    ax6.tick_params(axis='x', labelsize=20)\n",
    "# # plt.savefig('try2_node1.png')"
   ]
  },
  {
   "cell_type": "code",
   "execution_count": null,
   "id": "7e2b3f38-d51e-4235-9288-d55934115bd8",
   "metadata": {},
   "outputs": [],
   "source": [
    "with plt.style.context('seaborn-white'):\n",
    "    fig, ((ax1, ax2), (ax3, ax4), (ax5,ax6)) = plt.subplots(3, 2,figsize=(40,20))\n",
    "    # fig.suptitle('Figure 1(node 1)',fontsize=40)\n",
    "    \n",
    "    ax1.plot(b_ar_values_true,label='Ground Truth')\n",
    "    ax1.legend(fontsize=20,loc='lower left',facecolor='white', frameon=True)\n",
    "    \n",
    "    ax2.plot(np.array(data_dict['FX'])[:,1],'-',color='C3',label='Complete Data')\n",
    "    ax2.legend(fontsize=20,loc='lower left',facecolor='white', frameon=True)\n",
    "    ax2.tick_params(axis='y', labelsize=20)\n",
    "    ax2.tick_params(axis='x', labelsize=20)\n",
    "    \n",
    "    ax3.plot(np.array(data_dict['FX'])[:,1],'--',color='C5',alpha=0.5,label='Complete Data')\n",
    "    ax3.plot(torch.cat([torch.tensor(dataset.features)[:2,1,0],torch.tensor(train_dataset_miss_rand.targets).reshape(-1,2)[:,1]],dim=0),'--o',color='C3',label='Observed Data')\n",
    "    ax3.legend(fontsize=20,loc='lower left',facecolor='white', frameon=True)\n",
    "    ax3.tick_params(axis='y', labelsize=20)\n",
    "    ax3.tick_params(axis='x', labelsize=20)\n",
    "    \n",
    "    ax4.plot(np.array(data_dict['FX'])[:,0],'--',color='C5',alpha=0.5,label='Complete Data')\n",
    "    ax4.plot(torch.cat([torch.tensor(dataset.features)[:2,1,0],torch.tensor(train_dataset_padded_rand.targets).reshape(-1,2)[:,1]],dim=0),'--o',color='C3',alpha=0.8,label='Linear Interpolation')\n",
    "    ax4.legend(fontsize=20,loc='lower left',facecolor='white', frameon=True)\n",
    "    ax4.tick_params(axis='y', labelsize=20)\n",
    "    ax4.tick_params(axis='x', labelsize=20)\n",
    "    \n",
    "    ax5.plot(torch.tensor(data_dict['FX'])[:399,1],'--',color='C5',alpha=0.5,label='Complete Data')\n",
    "    ax5.plot(b_ar_values_true[:400],color='black',label='Ground Truth',lw=3)\n",
    "    ax5.plot(evtor_rand.fhat_tr[:,1],color='brown',lw=3,label='GConvGRU',alpha=0.5)\n",
    "    ax5.plot(evtor_rand_it.fhat_tr[:,1],color='blue',lw=3,label='IT-TGNN',alpha=0.5)\n",
    "    # ax5.plot(55, 0, 'o', markersize=100, markerfacecolor='none', markeredgecolor='red',markeredgewidth=3)\n",
    "    # ax5.plot(150, 0, 'o', markersize=80, markerfacecolor='none', markeredgecolor='red',markeredgewidth=3)\n",
    "    # ax5.plot(185, 0, 'o', markersize=80, markerfacecolor='none', markeredgecolor='red',markeredgewidth=3)\n",
    "    ax5.legend(fontsize=20,loc='lower left',facecolor='white', frameon=True)\n",
    "    ax5.tick_params(axis='y', labelsize=20)\n",
    "    ax5.tick_params(axis='x', labelsize=20)\n",
    "    \n",
    "    ax6.plot(torch.tensor(data_dict['FX'])[400:,1],'--',color='C5',alpha=0.5,label='Test')\n",
    "    ax6.plot(b_ar_values_true[400:],color='black',label='Ground Truth',lw=3)\n",
    "    ax6.plot(evtor_rand.fhat_test[:,1],color='brown',lw=3,label='GConvGRU',alpha=0.5)\n",
    "    ax6.plot(evtor_rand_it.fhat_test[:,1],color='blue',lw=3,label='IT-TGNN',alpha=0.5)\n",
    "    ax6.legend(fontsize=20,loc='lower left',facecolor='white', frameon=True)\n",
    "    ax6.tick_params(axis='y', labelsize=20)\n",
    "    ax6.tick_params(axis='x', labelsize=20)\n",
    "# # plt.savefig('try2_node1.png')"
   ]
  },
  {
   "cell_type": "markdown",
   "id": "80a7580a-29d8-444b-aa71-cd96c19a7f35",
   "metadata": {},
   "source": [
    "# Block"
   ]
  },
  {
   "cell_type": "code",
   "execution_count": null,
   "id": "534037ae-f6bc-4055-aa50-05ed62d72c0f",
   "metadata": {},
   "outputs": [],
   "source": [
    "data_dict = load_data('toy_ex_dataset.pkl')"
   ]
  },
  {
   "cell_type": "code",
   "execution_count": null,
   "id": "922c1c89-f0f6-49f5-8802-209b96a755d7",
   "metadata": {},
   "outputs": [],
   "source": [
    "loader = itstgcn.DatasetLoader(data_dict)"
   ]
  },
  {
   "cell_type": "code",
   "execution_count": null,
   "id": "f2deaa36-a986-4798-b03e-d33c7cf714d6",
   "metadata": {},
   "outputs": [],
   "source": [
    "dataset = loader.get_dataset(lags=2)"
   ]
  },
  {
   "cell_type": "code",
   "execution_count": null,
   "id": "a1d42ae7-216a-4b6b-9550-ef8e9e1202cd",
   "metadata": {},
   "outputs": [],
   "source": [
    "train_dataset, test_dataset = itstgcn.temporal_signal_split(dataset, train_ratio=0.8)"
   ]
  },
  {
   "cell_type": "code",
   "execution_count": null,
   "id": "6163f031-30de-48c9-b32b-58d27f01c3e9",
   "metadata": {},
   "outputs": [],
   "source": [
    "mindex_block = [list(range(80,180)),list(range(100,190))]"
   ]
  },
  {
   "cell_type": "code",
   "execution_count": null,
   "id": "98cec238-b785-49f2-abdf-241bdb851c09",
   "metadata": {},
   "outputs": [],
   "source": [
    "train_dataset_miss_block = itstgcn.miss(train_dataset,mindex_block,mtype='block')"
   ]
  },
  {
   "cell_type": "code",
   "execution_count": null,
   "id": "ba0dddef-77c1-4625-a3a6-227f494c431a",
   "metadata": {},
   "outputs": [],
   "source": [
    "train_dataset_padded_block = itstgcn.padding(train_dataset_miss_block) # padding(train_dataset_miss,method='linear'와 같음)"
   ]
  },
  {
   "cell_type": "markdown",
   "id": "3cb24099-8528-444f-a3c4-a0efb7f6df03",
   "metadata": {},
   "source": [
    "`-` 학습"
   ]
  },
  {
   "cell_type": "code",
   "execution_count": null,
   "id": "1ef3723e-8df7-4aeb-85d0-dda3dd82f33a",
   "metadata": {},
   "outputs": [],
   "source": [
    "lrnr_block = itstgcn.StgcnLearner(train_dataset_padded_block)"
   ]
  },
  {
   "cell_type": "code",
   "execution_count": null,
   "id": "2624ca01-effb-44b2-8bd8-4416c455a226",
   "metadata": {},
   "outputs": [],
   "source": [
    "lrnr_block.learn(filters=12,epoch=5)"
   ]
  },
  {
   "cell_type": "code",
   "execution_count": null,
   "id": "477b1c23-659e-4957-aa6d-c5a405f43ad3",
   "metadata": {},
   "outputs": [],
   "source": [
    "lrnr_block_it = itstgcn.ITStgcnLearner(train_dataset_padded_block)"
   ]
  },
  {
   "cell_type": "code",
   "execution_count": null,
   "id": "8fbffd55-f156-4907-860e-9b249c424cca",
   "metadata": {},
   "outputs": [],
   "source": [
    "lrnr_block_it.learn(filters=12,epoch=5)"
   ]
  },
  {
   "cell_type": "markdown",
   "id": "e62e407c-2eed-4059-bd35-a4d5c78c9c29",
   "metadata": {},
   "source": [
    "`-` 모형 평가 및 시각화"
   ]
  },
  {
   "cell_type": "code",
   "execution_count": null,
   "id": "36071a7a-2a72-4da8-946a-05ac40d422d8",
   "metadata": {},
   "outputs": [],
   "source": [
    "evtor_block = itstgcn.Evaluator(lrnr_block,train_dataset_padded_block,test_dataset)"
   ]
  },
  {
   "cell_type": "code",
   "execution_count": null,
   "id": "e236ad95-11ca-427d-8a7e-10841299f24d",
   "metadata": {},
   "outputs": [],
   "source": [
    "fig = evtor_block.plot('--.',h=5,max_node=2,label='complete data',alpha=0.5) # max_nodes 는 1보다 커야함\n",
    "fig.set_figwidth(20)\n",
    "fig.set_figheight(10)\n",
    "fig.tight_layout()\n",
    "fig"
   ]
  },
  {
   "cell_type": "code",
   "execution_count": null,
   "id": "14cfdb2e-312f-4af0-b5cb-cdf40d21bf7a",
   "metadata": {},
   "outputs": [],
   "source": [
    "evtor_block_it = itstgcn.Evaluator(lrnr_block_it,train_dataset_padded_block,test_dataset)"
   ]
  },
  {
   "cell_type": "code",
   "execution_count": null,
   "id": "c7811c35-4d7d-4f71-9465-8aaef17d4848",
   "metadata": {},
   "outputs": [],
   "source": [
    "fig = evtor_block_it.plot('--.',h=5,max_node=2,label='complete data',alpha=0.5) # max_nodes 는 1보다 커야함\n",
    "fig.set_figwidth(20)\n",
    "fig.set_figheight(10)\n",
    "fig.tight_layout()\n",
    "fig"
   ]
  },
  {
   "cell_type": "code",
   "execution_count": null,
   "id": "d37c5b5d-36c6-474d-af31-554462742b11",
   "metadata": {},
   "outputs": [],
   "source": [
    "with plt.style.context('seaborn-white'):\n",
    "    fig, ((ax1, ax2), (ax3, ax4), (ax5,ax6)) = plt.subplots(3, 2,figsize=(40,20))\n",
    "    # fig.suptitle('Figure 1(node 1)',fontsize=40)\n",
    "    \n",
    "    ax1.plot(a_ar_values_true,label='Ground Truth')\n",
    "    ax1.legend(fontsize=20,loc='lower left',facecolor='white', frameon=True)\n",
    "    \n",
    "    ax2.plot(np.array(data_dict['FX'])[:,0],'-',color='C3',label='Complete Data')\n",
    "    ax2.legend(fontsize=20,loc='lower left',facecolor='white', frameon=True)\n",
    "    ax2.tick_params(axis='y', labelsize=20)\n",
    "    ax2.tick_params(axis='x', labelsize=20)\n",
    "    \n",
    "    ax3.plot(np.array(data_dict['FX'])[:,0],'--',color='C5',alpha=0.5,label='Complete Data')\n",
    "    ax3.plot(torch.cat([torch.tensor(dataset.features)[:2,0,0],torch.tensor(train_dataset_miss_block.targets).reshape(-1,2)[:,0]],dim=0),'--o',color='C3',label='Observed Data')\n",
    "    ax3.legend(fontsize=20,loc='lower left',facecolor='white', frameon=True)\n",
    "    ax3.tick_params(axis='y', labelsize=20)\n",
    "    ax3.tick_params(axis='x', labelsize=20)\n",
    "    \n",
    "    ax4.plot(np.array(data_dict['FX'])[:,0],'--',color='C5',alpha=0.5,label='Complete Data')\n",
    "    ax4.plot(torch.cat([torch.tensor(dataset.features)[:2,0,0],torch.tensor(train_dataset_padded_block.targets).reshape(-1,2)[:,0]],dim=0),'--o',color='C3',alpha=0.8,label='Linear Interpolation')\n",
    "    ax4.legend(fontsize=20,loc='lower left',facecolor='white', frameon=True)\n",
    "    ax4.tick_params(axis='y', labelsize=20)\n",
    "    ax4.tick_params(axis='x', labelsize=20)\n",
    "    \n",
    "    ax5.plot(torch.tensor(data_dict['FX'])[:399,0],'--',color='C5',alpha=0.5,label='Complete Data')\n",
    "    ax5.plot(a_ar_values_true[:400],color='black',label='Ground Truth',lw=3)\n",
    "    ax5.plot(evtor_block.fhat_tr[:,0],color='brown',lw=3,label='GConvGRU',alpha=0.5)\n",
    "    ax5.plot(evtor_block_it.fhat_tr[:,0],color='blue',lw=3,label='IT-TGNN',alpha=0.5)\n",
    "    # ax5.plot(55, 0, 'o', markersize=100, markerfacecolor='none', markeredgecolor='red',markeredgewidth=3)\n",
    "    # ax5.plot(150, 0, 'o', markersize=80, markerfacecolor='none', markeredgecolor='red',markeredgewidth=3)\n",
    "    # ax5.plot(185, 0, 'o', markersize=80, markerfacecolor='none', markeredgecolor='red',markeredgewidth=3)\n",
    "    ax5.legend(fontsize=20,loc='lower left',facecolor='white', frameon=True)\n",
    "    ax5.tick_params(axis='y', labelsize=20)\n",
    "    ax5.tick_params(axis='x', labelsize=20)\n",
    "    \n",
    "    ax6.plot(torch.tensor(data_dict['FX'])[400:,0],'--',color='C5',alpha=0.5,label='Test')\n",
    "    ax6.plot(a_ar_values_true[400:],color='black',label='Ground Truth',lw=3)\n",
    "    ax6.plot(evtor_block.fhat_test[:,0],color='brown',lw=3,label='GConvGRU',alpha=0.5)\n",
    "    ax6.plot(evtor_block_it.fhat_test[:,0],color='blue',lw=3,label='IT-TGNN',alpha=0.5)\n",
    "    ax6.legend(fontsize=20,loc='lower left',facecolor='white', frameon=True)\n",
    "    ax6.tick_params(axis='y', labelsize=20)\n",
    "    ax6.tick_params(axis='x', labelsize=20)\n",
    "# # plt.savefig('try2_node1.png')"
   ]
  },
  {
   "cell_type": "code",
   "execution_count": null,
   "id": "5fe355ad-6671-4b5b-8b7b-a0210f406828",
   "metadata": {},
   "outputs": [],
   "source": [
    "with plt.style.context('seaborn-white'):\n",
    "    fig, ((ax1, ax2), (ax3, ax4), (ax5,ax6)) = plt.subplots(3, 2,figsize=(40,20))\n",
    "    # fig.suptitle('Figure 1(node 1)',fontsize=40)\n",
    "    \n",
    "    ax1.plot(b_ar_values_true,label='TrGround Truthue')\n",
    "    ax1.legend(fontsize=20,loc='lower left',facecolor='white', frameon=True)\n",
    "    \n",
    "    ax2.plot(np.array(data_dict['FX'])[:,1],'-',color='C3',label='Complete Data')\n",
    "    ax2.legend(fontsize=20,loc='lower left',facecolor='white', frameon=True)\n",
    "    ax2.tick_params(axis='y', labelsize=20)\n",
    "    ax2.tick_params(axis='x', labelsize=20)\n",
    "    \n",
    "    ax3.plot(np.array(data_dict['FX'])[:,1],'--',color='C5',alpha=0.5,label='Complete Data')\n",
    "    ax3.plot(torch.cat([torch.tensor(dataset.features)[:2,1,0],torch.tensor(train_dataset_miss_block.targets).reshape(-1,2)[:,1]],dim=0),'--o',color='C3',label='Observed Data')\n",
    "    ax3.legend(fontsize=20,loc='lower left',facecolor='white', frameon=True)\n",
    "    ax3.tick_params(axis='y', labelsize=20)\n",
    "    ax3.tick_params(axis='x', labelsize=20)\n",
    "    \n",
    "    ax4.plot(np.array(data_dict['FX'])[:,0],'--',color='C5',alpha=0.5,label='Complete Data')\n",
    "    ax4.plot(torch.cat([torch.tensor(dataset.features)[:2,1,0],torch.tensor(train_dataset_padded_block.targets).reshape(-1,2)[:,1]],dim=0),'--o',color='C3',alpha=0.8,label='Linear Interpolation')\n",
    "    ax4.legend(fontsize=20,loc='lower left',facecolor='white', frameon=True)\n",
    "    ax4.tick_params(axis='y', labelsize=20)\n",
    "    ax4.tick_params(axis='x', labelsize=20)\n",
    "    \n",
    "    ax5.plot(torch.tensor(data_dict['FX'])[:399,1],'--',color='C5',alpha=0.5,label='Complete Data')\n",
    "    ax5.plot(b_ar_values_true[:400],color='black',label='Ground Truth',lw=3)\n",
    "    ax5.plot(evtor_block.fhat_tr[:,1],color='brown',lw=3,label='GConvGRU',alpha=0.5)\n",
    "    ax5.plot(evtor_block_it.fhat_tr[:,1],color='blue',lw=3,label='IT-TGNN',alpha=0.5)\n",
    "    # ax5.plot(55, 0, 'o', markersize=100, markerfacecolor='none', markeredgecolor='red',markeredgewidth=3)\n",
    "    # ax5.plot(150, 0, 'o', markersize=80, markerfacecolor='none', markeredgecolor='red',markeredgewidth=3)\n",
    "    # ax5.plot(185, 0, 'o', markersize=80, markerfacecolor='none', markeredgecolor='red',markeredgewidth=3)\n",
    "    ax5.legend(fontsize=20,loc='lower left',facecolor='white', frameon=True)\n",
    "    ax5.tick_params(axis='y', labelsize=20)\n",
    "    ax5.tick_params(axis='x', labelsize=20)\n",
    "    \n",
    "    ax6.plot(torch.tensor(data_dict['FX'])[400:,1],'--',color='C5',alpha=0.5,label='Test')\n",
    "    ax6.plot(b_ar_values_true[400:],color='black',label='Ground Truth',lw=3)\n",
    "    ax6.plot(evtor_block.fhat_test[:,1],color='brown',lw=3,label='GConvGRU',alpha=0.5)\n",
    "    ax6.plot(evtor_block_it.fhat_test[:,1],color='blue',lw=3,label='IT-TGNN',alpha=0.5)\n",
    "    ax6.legend(fontsize=20,loc='lower left',facecolor='white', frameon=True)\n",
    "    ax6.tick_params(axis='y', labelsize=20)\n",
    "    ax6.tick_params(axis='x', labelsize=20)\n",
    "# # plt.savefig('try2_node1.png')"
   ]
  },
  {
   "cell_type": "markdown",
   "id": "4d2ad5ef-482a-49ee-b856-e53d4ca37b8c",
   "metadata": {},
   "source": [
    "# Random & Block"
   ]
  },
  {
   "cell_type": "code",
   "execution_count": null,
   "id": "140240d6-e0cd-4b0a-aaa8-2630134a731c",
   "metadata": {},
   "outputs": [],
   "source": [
    "data_dict = load_data('toy_ex_dataset.pkl')"
   ]
  },
  {
   "cell_type": "code",
   "execution_count": null,
   "id": "cd630941-d9e8-48a1-ad81-166cd063928c",
   "metadata": {},
   "outputs": [],
   "source": [
    "loader = itstgcn.DatasetLoader(data_dict)"
   ]
  },
  {
   "cell_type": "code",
   "execution_count": null,
   "id": "3c06c1f6-c901-481e-b391-2f84186e83a2",
   "metadata": {},
   "outputs": [],
   "source": [
    "dataset = loader.get_dataset(lags=2)"
   ]
  },
  {
   "cell_type": "code",
   "execution_count": null,
   "id": "d595ee63-4780-45e9-aa01-c82347ab42b8",
   "metadata": {},
   "outputs": [],
   "source": [
    "train_dataset, test_dataset = itstgcn.temporal_signal_split(dataset, train_ratio=0.8)"
   ]
  },
  {
   "cell_type": "code",
   "execution_count": null,
   "id": "6999ffc5-a3ba-4fe0-b5f9-2c566f0a12d7",
   "metadata": {},
   "outputs": [],
   "source": [
    "mindex_rdbl = [random.sample(range(0, 400), int(400*0.7)),[np.array(list(range(150,220)))]]"
   ]
  },
  {
   "cell_type": "code",
   "execution_count": null,
   "id": "ab3587e2-8e83-4af5-a168-a54bb0640b12",
   "metadata": {},
   "outputs": [],
   "source": [
    "train_dataset_miss_rdbl = itstgcn.miss(train_dataset,mindex_rdbl,mtype='block')"
   ]
  },
  {
   "cell_type": "code",
   "execution_count": null,
   "id": "e9b5e71e-93dc-4139-9446-eab4aab1a0b5",
   "metadata": {},
   "outputs": [],
   "source": [
    "train_dataset_padded_rdbl = itstgcn.padding(train_dataset_miss_rdbl) # padding(train_dataset_miss,method='linear'와 같음)"
   ]
  },
  {
   "cell_type": "markdown",
   "id": "a06bd186-e55b-4d8f-9344-8762a9aa37a4",
   "metadata": {},
   "source": [
    "`-` 학습"
   ]
  },
  {
   "cell_type": "code",
   "execution_count": null,
   "id": "df5f21bb-1388-495a-8914-f118c2d9879a",
   "metadata": {},
   "outputs": [],
   "source": [
    "lrnr_rdbl = itstgcn.StgcnLearner(train_dataset_padded_rdbl)"
   ]
  },
  {
   "cell_type": "code",
   "execution_count": null,
   "id": "1d79c847-8c48-4a59-81af-b12b9212cac0",
   "metadata": {},
   "outputs": [],
   "source": [
    "lrnr_rdbl.learn(filters=12,epoch=5)"
   ]
  },
  {
   "cell_type": "code",
   "execution_count": null,
   "id": "4285ff46-121e-4de4-ace4-3f25d05e8820",
   "metadata": {},
   "outputs": [],
   "source": [
    "lrnr_rdbl_it = itstgcn.ITStgcnLearner(train_dataset_padded_rdbl)"
   ]
  },
  {
   "cell_type": "code",
   "execution_count": null,
   "id": "aaf67f50-43ff-4fc0-b194-2b455c663f2f",
   "metadata": {},
   "outputs": [],
   "source": [
    "lrnr_rdbl_it.learn(filters=12,epoch=5)"
   ]
  },
  {
   "cell_type": "markdown",
   "id": "61cba664-b4a4-47b3-87bd-bf23528256ac",
   "metadata": {},
   "source": [
    "`-` 모형 평가 및 시각화"
   ]
  },
  {
   "cell_type": "code",
   "execution_count": null,
   "id": "e3ad57a3-9801-4f1b-b963-9ca03d6fab50",
   "metadata": {},
   "outputs": [],
   "source": [
    "evtor_rdbl = itstgcn.Evaluator(lrnr_rdbl,train_dataset_padded_rdbl,test_dataset)"
   ]
  },
  {
   "cell_type": "code",
   "execution_count": null,
   "id": "8fa9f744-9dd3-4918-8060-385d84e81508",
   "metadata": {},
   "outputs": [],
   "source": [
    "fig = evtor_rdbl.plot('--.',h=5,max_node=2,label='complete data',alpha=0.5) # max_nodes 는 1보다 커야함\n",
    "fig.set_figwidth(20)\n",
    "fig.set_figheight(10)\n",
    "fig.tight_layout()\n",
    "fig"
   ]
  },
  {
   "cell_type": "code",
   "execution_count": null,
   "id": "5585ddd8-aa1e-47fd-8800-6a8243edead8",
   "metadata": {},
   "outputs": [],
   "source": [
    "evtor_rdbl_it = itstgcn.Evaluator(lrnr_rdbl_it,train_dataset_padded_rdbl,test_dataset)"
   ]
  },
  {
   "cell_type": "code",
   "execution_count": null,
   "id": "1caf8021-aa29-43fa-a2f6-8b840fc89549",
   "metadata": {},
   "outputs": [],
   "source": [
    "fig = evtor_rdbl_it.plot('--.',h=5,max_node=2,label='complete data',alpha=0.5) # max_nodes 는 1보다 커야함\n",
    "fig.set_figwidth(20)\n",
    "fig.set_figheight(10)\n",
    "fig.tight_layout()\n",
    "fig"
   ]
  },
  {
   "cell_type": "code",
   "execution_count": null,
   "id": "7e061174-f566-4db9-bb59-0ebc339ba34c",
   "metadata": {},
   "outputs": [],
   "source": [
    "with plt.style.context('seaborn-white'):\n",
    "    fig, ((ax1, ax2), (ax3, ax4), (ax5,ax6)) = plt.subplots(3, 2,figsize=(40,20))\n",
    "    # fig.suptitle('Figure 1(node 1)',fontsize=40)\n",
    "    \n",
    "    ax1.plot(a_ar_values_true,label='Ground Truth')\n",
    "    ax1.legend(fontsize=20,loc='lower left',facecolor='white', frameon=True)\n",
    "    \n",
    "    ax2.plot(np.array(data_dict['FX'])[:,0],'-',color='C3',label='Complete Data')\n",
    "    ax2.legend(fontsize=20,loc='lower left',facecolor='white', frameon=True)\n",
    "    ax2.tick_params(axis='y', labelsize=20)\n",
    "    ax2.tick_params(axis='x', labelsize=20)\n",
    "    \n",
    "    ax3.plot(np.array(data_dict['FX'])[:,0],'--',color='C5',alpha=0.5,label='Complete Data')\n",
    "    ax3.plot(torch.cat([torch.tensor(dataset.features)[:2,0,0],torch.tensor(train_dataset_miss_rdbl.targets).reshape(-1,2)[:,0]],dim=0),'--o',color='C3',label='Observed Data')\n",
    "    ax3.legend(fontsize=20,loc='lower left',facecolor='white', frameon=True)\n",
    "    ax3.tick_params(axis='y', labelsize=20)\n",
    "    ax3.tick_params(axis='x', labelsize=20)\n",
    "    \n",
    "    ax4.plot(np.array(data_dict['FX'])[:,0],'--',color='C5',alpha=0.5,label='Complete Data')\n",
    "    ax4.plot(torch.cat([torch.tensor(dataset.features)[:2,0,0],torch.tensor(train_dataset_padded_rdbl.targets).reshape(-1,2)[:,0]],dim=0),'--o',color='C3',alpha=0.8,label='Linear Interpolation')\n",
    "    ax4.legend(fontsize=20,loc='lower left',facecolor='white', frameon=True)\n",
    "    ax4.tick_params(axis='y', labelsize=20)\n",
    "    ax4.tick_params(axis='x', labelsize=20)\n",
    "    \n",
    "    ax5.plot(torch.tensor(data_dict['FX'])[:399,0],'--',color='C5',alpha=0.5,label='Complete Data')\n",
    "    ax5.plot(a_ar_values_true[:400],color='black',label='Ground Truth',lw=3)\n",
    "    ax5.plot(evtor_rdbl.fhat_tr[:,0],color='brown',lw=3,label='GConvGRU',alpha=0.5)\n",
    "    ax5.plot(evtor_rdbl_it.fhat_tr[:,0],color='blue',lw=3,label='IT-TGNN',alpha=0.5)\n",
    "    # ax5.plot(55, 0, 'o', markersize=100, markerfacecolor='none', markeredgecolor='red',markeredgewidth=3)\n",
    "    # ax5.plot(150, 0, 'o', markersize=80, markerfacecolor='none', markeredgecolor='red',markeredgewidth=3)\n",
    "    # ax5.plot(185, 0, 'o', markersize=80, markerfacecolor='none', markeredgecolor='red',markeredgewidth=3)\n",
    "    ax5.legend(fontsize=20,loc='lower left',facecolor='white', frameon=True)\n",
    "    ax5.tick_params(axis='y', labelsize=20)\n",
    "    ax5.tick_params(axis='x', labelsize=20)\n",
    "    \n",
    "    ax6.plot(torch.tensor(data_dict['FX'])[400:,0],'--',color='C5',alpha=0.5,label='Test')\n",
    "    ax6.plot(a_ar_values_true[400:],color='black',label='Ground Truth',lw=3)\n",
    "    ax6.plot(evtor_rdbl.fhat_test[:,0],color='brown',lw=3,label='GConvGRU',alpha=0.5)\n",
    "    ax6.plot(evtor_rdbl_it.fhat_test[:,0],color='blue',lw=3,label='IT-TGNN',alpha=0.5)\n",
    "    ax6.legend(fontsize=20,loc='lower left',facecolor='white', frameon=True)\n",
    "    ax6.tick_params(axis='y', labelsize=20)\n",
    "    ax6.tick_params(axis='x', labelsize=20)\n",
    "# # plt.savefig('try2_node1.png')"
   ]
  },
  {
   "cell_type": "code",
   "execution_count": null,
   "id": "c0da6ec3-80f5-43a8-a8ee-065c7c25a9e7",
   "metadata": {},
   "outputs": [],
   "source": [
    "with plt.style.context('seaborn-white'):\n",
    "    fig, ((ax1, ax2), (ax3, ax4), (ax5, ax6)) = plt.subplots(3, 2,figsize=(40,20))\n",
    "    # fig.suptitle('Figure 1(node 1)',fontsize=40)\n",
    "    \n",
    "    ax1.plot(b_ar_values_true,label='Ground Truth')\n",
    "    ax1.legend(fontsize=20,loc='lower left',facecolor='white', frameon=True)\n",
    "    \n",
    "    ax2.plot(np.array(data_dict['FX'])[:,1],'-',color='C3',label='Complete Data')\n",
    "    ax2.legend(fontsize=20,loc='lower left',facecolor='white', frameon=True)\n",
    "    ax2.tick_params(axis='y', labelsize=20)\n",
    "    ax2.tick_params(axis='x', labelsize=20)\n",
    "    \n",
    "    ax3.plot(np.array(data_dict['FX'])[:,1],'--',color='C5',alpha=0.5,label='Complete Data')\n",
    "    ax3.plot(torch.cat([torch.tensor(dataset.features)[:2,1,0],torch.tensor(train_dataset_miss_rand.targets).reshape(-1,2)[:,1]],dim=0),'--o',color='C3',label='Observed Data')\n",
    "    ax3.legend(fontsize=20,loc='lower left',facecolor='white', frameon=True)\n",
    "    ax3.tick_params(axis='y', labelsize=20)\n",
    "    ax3.tick_params(axis='x', labelsize=20)\n",
    "    \n",
    "    ax4.plot(np.array(data_dict['FX'])[:,0],'--',color='C5',alpha=0.5,label='Complete Data')\n",
    "    ax4.plot(torch.cat([torch.tensor(dataset.features)[:2,1,0],torch.tensor(train_dataset_padded_rdbl.targets).reshape(-1,2)[:,1]],dim=0),'--o',color='C3',alpha=0.8,label='Linear Interpolation')\n",
    "    ax4.legend(fontsize=20,loc='lower left',facecolor='white', frameon=True)\n",
    "    ax4.tick_params(axis='y', labelsize=20)\n",
    "    ax4.tick_params(axis='x', labelsize=20)\n",
    "    \n",
    "    ax5.plot(torch.tensor(data_dict['FX'])[:400,1],'--',color='C5',alpha=0.5,label='Complete Data')\n",
    "    ax5.plot(b_ar_values_true[:400],color='black',label='Ground Truth',lw=3)\n",
    "    ax5.plot(evtor_rdbl.fhat_tr[:,1],color='brown',lw=3,label='GConvGRU',alpha=0.5)\n",
    "    ax5.plot(evtor_rdbl_it.fhat_tr[:,1],color='blue',lw=3,label='IT-TGNN',alpha=0.5)\n",
    "    # ax5.plot(55, 0, 'o', markersize=100, markerfacecolor='none', markeredgecolor='red',markeredgewidth=3)\n",
    "    # ax5.plot(150, 0, 'o', markersize=80, markerfacecolor='none', markeredgecolor='red',markeredgewidth=3)\n",
    "    # ax5.plot(185, 0, 'o', markersize=80, markerfacecolor='none', markeredgecolor='red',markeredgewidth=3)\n",
    "    ax5.legend(fontsize=20,loc='lower left',facecolor='white', frameon=True)\n",
    "    ax5.tick_params(axis='y', labelsize=20)\n",
    "    ax5.tick_params(axis='x', labelsize=20)\n",
    "    \n",
    "    ax6.plot(torch.tensor(data_dict['FX'])[399:,1],'--',color='C5',alpha=0.5,label='Test')\n",
    "    ax6.plot(b_ar_values_true[400:],color='black',label='Ground Truth',lw=3)\n",
    "    ax6.plot(evtor_rdbl.fhat_test[:,1],color='brown',lw=3,label='GConvGRU',alpha=0.5)\n",
    "    ax6.plot(evtor_rdbl_it.fhat_test[:,1],color='blue',lw=3,label='IT-TGNN',alpha=0.5)\n",
    "    ax6.legend(fontsize=20,loc='lower left',facecolor='white', frameon=True)\n",
    "    ax6.tick_params(axis='y', labelsize=20)\n",
    "    ax6.tick_params(axis='x', labelsize=20)\n",
    "# # plt.savefig('try2_node1.png')"
   ]
  },
  {
   "cell_type": "code",
   "execution_count": null,
   "id": "53fb3e5f-1008-4f41-9b99-5694ddeb4bd1",
   "metadata": {},
   "outputs": [],
   "source": []
  },
  {
   "cell_type": "code",
   "execution_count": null,
   "id": "41c3ae96-0e7a-4ef5-8160-5db4d7d011bf",
   "metadata": {},
   "outputs": [],
   "source": []
  },
  {
   "cell_type": "code",
   "execution_count": null,
   "id": "8a4e86eb-cf8c-411b-a3ff-39fc02f2d276",
   "metadata": {},
   "outputs": [],
   "source": []
  },
  {
   "cell_type": "code",
   "execution_count": null,
   "id": "33beca4a-4186-4ed6-9aef-3eb040393dfd",
   "metadata": {},
   "outputs": [],
   "source": []
  },
  {
   "cell_type": "code",
   "execution_count": null,
   "id": "47bc5594-ad4a-4ce9-a5b9-6c8257b2cbb0",
   "metadata": {},
   "outputs": [],
   "source": []
  },
  {
   "cell_type": "code",
   "execution_count": null,
   "id": "ca1942fe-4a53-4d7b-a025-15a07b6ef1e0",
   "metadata": {},
   "outputs": [],
   "source": []
  },
  {
   "cell_type": "code",
   "execution_count": null,
   "id": "7542038e-5838-43c4-bf6e-fd19c790e840",
   "metadata": {},
   "outputs": [],
   "source": []
  }
 ],
 "metadata": {
  "kernelspec": {
   "display_name": "Python 3",
   "language": "python",
   "name": "python3"
  },
  "language_info": {
   "codemirror_mode": {
    "name": "ipython",
    "version": 3
   },
   "file_extension": ".py",
   "mimetype": "text/x-python",
   "name": "python",
   "nbconvert_exporter": "python",
   "pygments_lexer": "ipython3",
   "version": "3.8.0"
  }
 },
 "nbformat": 4,
 "nbformat_minor": 5
}

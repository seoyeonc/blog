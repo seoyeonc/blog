{
 "cells": [
  {
   "cell_type": "raw",
   "id": "6c8f0bf9-e110-4e30-8596-b2dd384e79e0",
   "metadata": {
    "id": "cac470df-29e7-4148-9bbd-d8b9a32fa570",
    "tags": []
   },
   "source": [
    "---\n",
    "title: \"Class of Method\"\n",
    "author: \"SEOYEON CHOI\"\n",
    "date: \"2023-01-21\"\n",
    "categories:\n",
    "  - ST-GCN\n",
    "---"
   ]
  },
  {
   "cell_type": "markdown",
   "id": "ccf50ae2-58ec-4c6e-9cc8-393c473767eb",
   "metadata": {},
   "source": [
    "> Class"
   ]
  },
  {
   "cell_type": "markdown",
   "id": "1463f6e7-0b6c-490d-b7ee-4022ce4345a8",
   "metadata": {
    "tags": []
   },
   "source": [
    "# import"
   ]
  },
  {
   "cell_type": "code",
   "execution_count": 1,
   "id": "f90af573-4bc0-4c9e-ad94-e9739160055e",
   "metadata": {},
   "outputs": [],
   "source": [
    "import rpy2\n",
    "import rpy2.robjects as ro \n",
    "from rpy2.robjects.vectors import FloatVector \n",
    "from rpy2.robjects.packages import importr\n",
    "\n",
    "import torch\n",
    "import numpy as np\n",
    "from tqdm import tqdm\n",
    "\n",
    "import torch.nn.functional as F\n",
    "from torch_geometric_temporal.nn.recurrent import GConvGRU\n",
    "\n",
    "import matplotlib.pyplot as plt\n",
    "import pandas as pd\n",
    "\n",
    "import time\n",
    "\n",
    "from scipy.interpolate import interp1d"
   ]
  },
  {
   "cell_type": "code",
   "execution_count": 2,
   "id": "dbbe91df-66c9-46da-abf9-379f37061d5e",
   "metadata": {},
   "outputs": [],
   "source": [
    "class RecurrentGCN(torch.nn.Module):\n",
    "    def __init__(self, node_features, filters):\n",
    "        super(RecurrentGCN, self).__init__()\n",
    "        self.recurrent = GConvGRU(node_features, filters, 2)\n",
    "        self.linear = torch.nn.Linear(filters, 1)\n",
    "\n",
    "    def forward(self, x, edge_index, edge_weight):\n",
    "        h = self.recurrent(x, edge_index, edge_weight)\n",
    "        h = F.relu(h)\n",
    "        h = self.linear(h)\n",
    "        return h"
   ]
  },
  {
   "cell_type": "markdown",
   "id": "ef9e1ca0-470f-4c06-95c0-b9380b9a1824",
   "metadata": {},
   "source": [
    "# 시간 측정 방법"
   ]
  },
  {
   "cell_type": "markdown",
   "id": "d293f16e-ed9a-4e19-a864-8b61dcc9cb7d",
   "metadata": {},
   "source": [
    "```python\n",
    "t1= time.time()\n",
    "for epoc in range(1000):\n",
    "    ## 1 \n",
    "    yhat = net(x) \n",
    "    ## 2 \n",
    "    loss = loss_fn(yhat,y)\n",
    "    ## 3 \n",
    "    loss.backward()\n",
    "    ## 4 \n",
    "    optimizr.step()\n",
    "    optimizr.zero_grad()\n",
    "t2 = time.time()\n",
    "t2-t1\n",
    "```"
   ]
  },
  {
   "cell_type": "markdown",
   "id": "354a98c5-e3bc-4e2b-9b25-4266752c5f3c",
   "metadata": {},
   "source": [
    "# R"
   ]
  },
  {
   "cell_type": "code",
   "execution_count": 3,
   "id": "c1238fc5-7532-4649-8fe5-f259eb4417af",
   "metadata": {},
   "outputs": [],
   "source": [
    "%load_ext rpy2.ipython"
   ]
  },
  {
   "cell_type": "code",
   "execution_count": 4,
   "id": "a4a34de3-d22c-49f1-9b49-6bc5ea42dbdf",
   "metadata": {},
   "outputs": [
    {
     "name": "stderr",
     "output_type": "stream",
     "text": [
      "R[write to console]: Loading required package: igraph\n",
      "\n",
      "R[write to console]: \n",
      "Attaching package: ‘igraph’\n",
      "\n",
      "\n",
      "R[write to console]: The following objects are masked from ‘package:stats’:\n",
      "\n",
      "    decompose, spectrum\n",
      "\n",
      "\n",
      "R[write to console]: The following object is masked from ‘package:base’:\n",
      "\n",
      "    union\n",
      "\n",
      "\n",
      "R[write to console]: Loading required package: wordcloud\n",
      "\n",
      "R[write to console]: Loading required package: RColorBrewer\n",
      "\n"
     ]
    }
   ],
   "source": [
    "%%R\n",
    "library(GNAR)\n",
    "library(igraph)"
   ]
  },
  {
   "cell_type": "markdown",
   "id": "7aa770db-3946-4d25-aa99-414f58cbb354",
   "metadata": {},
   "source": [
    "# Data"
   ]
  },
  {
   "cell_type": "code",
   "execution_count": 5,
   "id": "16085974-e53c-4f25-a20a-d6656903cb9b",
   "metadata": {},
   "outputs": [],
   "source": [
    "%%R\n",
    "edges <- as.matrix(fiveNet)\n",
    "data(\"fiveNode\")"
   ]
  },
  {
   "cell_type": "code",
   "execution_count": 6,
   "id": "d32414c4-4daf-4a53-a6b2-9c1c2607d854",
   "metadata": {},
   "outputs": [],
   "source": [
    "%R -o fiveVTS\n",
    "%R -o edges"
   ]
  },
  {
   "cell_type": "markdown",
   "id": "0739b940-3083-4d50-a190-e3d89e4e7531",
   "metadata": {},
   "source": [
    "- node: 5\n",
    "- time 200"
   ]
  },
  {
   "cell_type": "markdown",
   "id": "2337308d-7c56-458c-976f-3533b75e9d57",
   "metadata": {
    "tags": []
   },
   "source": [
    "# functions "
   ]
  },
  {
   "cell_type": "code",
   "execution_count": 7,
   "id": "6da192de-76ae-40f9-837a-16bbabe44822",
   "metadata": {},
   "outputs": [],
   "source": [
    "def vis(spatiotemporaldata):\n",
    "    N = spatiotemporaldata.shape[1]\n",
    "    fig, ax = plt.subplots(N,1)\n",
    "    for n in range(N):\n",
    "        ax[n].plot(spatiotemporaldata[:,n])\n",
    "        ax[n].set_title('node='+str(n))\n",
    "    #fig.set_width()\n",
    "    fig.set_figheight(N*2) \n",
    "    fig.tight_layout()\n",
    "    return fig "
   ]
  },
  {
   "cell_type": "code",
   "execution_count": 8,
   "id": "b4bd19c6-1949-4564-9f6b-37c0542a7f7d",
   "metadata": {},
   "outputs": [],
   "source": [
    "def vis2(spatiotemporaldata1,spatiotemporaldata2):\n",
    "    N = spatiotemporaldata1.shape[1]\n",
    "    fig, ax = plt.subplots(N,1)\n",
    "    for n in range(N):\n",
    "        ax[n].plot(spatiotemporaldata1[:,n],label='data1')\n",
    "        ax[n].plot(spatiotemporaldata2[:,n],label='data2')\n",
    "        ax[n].set_title('node='+str(n))\n",
    "        ax[n].legend()\n",
    "    #fig.set_width()\n",
    "    fig.set_figheight(N*2) \n",
    "    fig.tight_layout()\n",
    "    return fig "
   ]
  },
  {
   "cell_type": "code",
   "execution_count": 9,
   "id": "5428f479-98b4-47bd-8d6e-8591dc4f12ff",
   "metadata": {},
   "outputs": [],
   "source": [
    "edges_tensor = torch.tensor(edges)"
   ]
  },
  {
   "cell_type": "code",
   "execution_count": 10,
   "id": "133f03cf-c836-409a-8d21-f3d2d52289b1",
   "metadata": {},
   "outputs": [],
   "source": [
    "nonzero_indices = edges_tensor.nonzero()"
   ]
  },
  {
   "cell_type": "code",
   "execution_count": 11,
   "id": "925da35c-3ec1-4cf3-9bac-c4245ef0cf3b",
   "metadata": {},
   "outputs": [],
   "source": [
    "fiveNet_edge = np.array(nonzero_indices).T"
   ]
  },
  {
   "cell_type": "code",
   "execution_count": 12,
   "id": "af0ff662-d913-462b-b35c-ae377533c16c",
   "metadata": {},
   "outputs": [],
   "source": [
    "T = 200\n",
    "N = 5 # number of Nodes\n",
    "E = fiveNet_edge\n",
    "V = np.array([1,2,3,4,5])\n",
    "t = np.arange(0,T)\n",
    "node_features = 1"
   ]
  },
  {
   "cell_type": "code",
   "execution_count": 13,
   "id": "cef13f89-df0c-467f-b856-7145f554e428",
   "metadata": {},
   "outputs": [],
   "source": [
    "edge_index = torch.tensor(E)\n",
    "edge_attr = torch.tensor(np.array([1,1,1,1,1,1,1,1,1,1]),dtype=torch.float32)"
   ]
  },
  {
   "cell_type": "code",
   "execution_count": 14,
   "id": "939af11d-b1fe-4077-8b31-0853e435b47d",
   "metadata": {},
   "outputs": [],
   "source": [
    "fiveVTS_train = fiveVTS[:int(len(fiveVTS)*0.8)]\n",
    "fiveVTS_test = fiveVTS[int(len(fiveVTS)*0.8):]"
   ]
  },
  {
   "cell_type": "markdown",
   "id": "b984ecff-ebeb-4d3f-97de-297aa69aa487",
   "metadata": {},
   "source": [
    "# Random Missing Values"
   ]
  },
  {
   "cell_type": "code",
   "execution_count": 15,
   "id": "a9c2d697-7649-4ed0-a0c7-e4b66c4fd45c",
   "metadata": {},
   "outputs": [],
   "source": [
    "class Missing:\n",
    "    def __init__(self,df):\n",
    "        self.df = df\n",
    "        self.N = N\n",
    "        self.number = []\n",
    "    def miss(self,percent=0.5):\n",
    "        self.missing = self.df.copy()\n",
    "        self.percent = percent\n",
    "        for i in range(self.N):\n",
    "            self.seed = np.random.choice(1000,1,replace=False)\n",
    "            np.random.seed(self.seed)\n",
    "            self.number.append(np.random.choice(int(len(self.df)),int(len(self.df)*self.percent),replace=False))\n",
    "            self.missing[self.number[i],i] = float('nan')\n",
    "    def first_mean(self):\n",
    "        self.train_mean = self.missing.copy()\n",
    "        for i in range(self.N):\n",
    "            self.train_mean[self.number[i],i] = np.nanmean(self.missing[:,i])\n",
    "    def second_linear(self):\n",
    "        self.train_linear = pd.DataFrame(self.missing)\n",
    "        self.train_linear.interpolate(method='linear', inplace=True)\n",
    "        self.train_linear = self.train_linear.fillna(0)\n",
    "        self.train_linear = np.array(self.train_linear).reshape(int(len(self.df)),N)"
   ]
  },
  {
   "cell_type": "code",
   "execution_count": 16,
   "id": "038c3192-cfed-4b3b-9bf1-ebc0101e814b",
   "metadata": {},
   "outputs": [],
   "source": [
    "_zero = Missing(fiveVTS_train)"
   ]
  },
  {
   "cell_type": "code",
   "execution_count": 17,
   "id": "6d4e89ac-0dc3-4450-8ab6-112b78f87633",
   "metadata": {},
   "outputs": [],
   "source": [
    "_zero.miss(percent = 0.5)"
   ]
  },
  {
   "cell_type": "code",
   "execution_count": null,
   "id": "bae11f7f-b378-43ab-8772-5cf3ae5cd616",
   "metadata": {},
   "outputs": [],
   "source": [
    "vis(_zero.missing);"
   ]
  },
  {
   "cell_type": "code",
   "execution_count": 19,
   "id": "b33810aa-4e6c-4a8e-9546-6eccbdb6c6c3",
   "metadata": {},
   "outputs": [],
   "source": [
    "_zero.first_mean()"
   ]
  },
  {
   "cell_type": "code",
   "execution_count": null,
   "id": "94674bfa-1eba-4aab-a456-5f5870a66239",
   "metadata": {},
   "outputs": [],
   "source": [
    "vis(_zero.train_mean);"
   ]
  },
  {
   "cell_type": "code",
   "execution_count": 21,
   "id": "22206382-ee72-4861-a8cc-5f9223faec7d",
   "metadata": {},
   "outputs": [],
   "source": [
    "_zero.second_linear()"
   ]
  },
  {
   "cell_type": "code",
   "execution_count": null,
   "id": "958d938e-300c-4564-b8de-6ac4c5a240c6",
   "metadata": {},
   "outputs": [],
   "source": [
    "vis(np.array(_zero.train_linear).reshape(160,5));"
   ]
  },
  {
   "cell_type": "code",
   "execution_count": 23,
   "id": "fc220896-e8f5-4269-b50d-6e165c05bb3b",
   "metadata": {},
   "outputs": [],
   "source": [
    "class Method:\n",
    "    def __init__(self,df,time):\n",
    "        self.df = df\n",
    "        self.test_data = fiveVTS_test\n",
    "        self.N = N\n",
    "        self.time = time\n",
    "        self.edge_index = edge_index\n",
    "        self.edge_attr = edge_attr\n",
    "        self.node_features = node_features\n",
    "        self.xt_test = torch.tensor(self.test_data.reshape(int(len(self.test_data)),self.N,1)[:-1,:,:]).float()\n",
    "        self.w = np.zeros(((self.time-1)*self.N,(self.time-1)*self.N))\n",
    "        self.mse = []\n",
    "        self.mae = []\n",
    "    def _weight(self):\n",
    "        for i in range((self.time-1)*self.N):\n",
    "            for j in range((self.time-1)*self.N):\n",
    "                if i==j :\n",
    "                    self.w[i,j] = 0\n",
    "                elif np.abs(i-j) <= 1 : \n",
    "                    self.w[i,j] = 1\n",
    "    def _STGCN(self):\n",
    "        self.df2 = torch.tensor(self.df).reshape(self.time,self.N,1).float()\n",
    "        self.X = self.df2[:self.time-1,:,:]\n",
    "        self.y = self.df2[1:,:,:]\n",
    "        model = RecurrentGCN(node_features=1, filters=4)\n",
    "        optimizer = torch.optim.Adam(model.parameters(), lr=0.01)\n",
    "        model.train()\n",
    "        for epoch in tqdm(range(50)):\n",
    "            for time, (xt,yt) in enumerate(zip(self.X,self.y)):\n",
    "                y_hat = model(xt, edge_index, edge_attr)\n",
    "                cost = torch.mean((y_hat-yt)**2)\n",
    "                cost.backward()\n",
    "                optimizer.step()\n",
    "                optimizer.zero_grad()\n",
    "        self.train_result = torch.stack([model(xt, edge_index, edge_attr) for xt in self.X]).detach().numpy()\n",
    "        self.test_result = torch.stack([model(xt, edge_index, edge_attr) for xt in self.xt_test]).detach().numpy()\n",
    "        for i in range(self.N):\n",
    "            self.mse.append(np.mean((self.test_data[1:,i] - self.test_result.reshape(int(len(self.xt_test)),self.N)[:,i])**2))\n",
    "        for i in range(self.N):\n",
    "            self.mae.append(np.mean(np.abs(self.test_data[1:,i] - self.test_result.reshape(int(len(self.xt_test)),self.N)[:,i])))\n",
    "    def FT(self):\n",
    "        self._weight()\n",
    "        self._STGCN()\n",
    "        self.d = np.array(self.w.sum(axis=1))\n",
    "        self.D = np.diag(self.d)\n",
    "        self.L = np.array(np.diag(1/np.sqrt(self.d)) @ (self.D-self.w) @ np.diag(1/np.sqrt(self.d)))\n",
    "        self.lamb, self.Psi = np.linalg.eigh(self.L)\n",
    "        self.Lamb = np.diag(self.lamb)\n",
    "        self.fhatbar = self.Psi.T @ self.train_result.reshape((self.time-1)*self.N,1)\n",
    "        ebayesthresh = importr('EbayesThresh').ebayesthresh\n",
    "        self.fhatbar_threshed = ebayesthresh(FloatVector(self.fhatbar))\n",
    "        self.fhatbarhat = self.Psi @ self.fhatbar_threshed\n",
    "        self.FT_result = self.fhatbarhat.reshape((self.time-1),self.N,1)"
   ]
  },
  {
   "cell_type": "markdown",
   "id": "691a0af2-1f3f-4414-90f8-48bcf89bbd2f",
   "metadata": {},
   "source": [
    "# missing: 50%"
   ]
  },
  {
   "cell_type": "markdown",
   "id": "b54e1b8d-36be-48dc-81e7-9c86e792b0ef",
   "metadata": {},
   "source": [
    "## Mean"
   ]
  },
  {
   "cell_type": "markdown",
   "id": "1380e4cb-70b7-4335-bb7a-7e8e5e925b86",
   "metadata": {},
   "source": [
    "mean result"
   ]
  },
  {
   "cell_type": "code",
   "execution_count": null,
   "id": "80f5a4a5-da46-4d33-9247-f45ce1d0aeff",
   "metadata": {},
   "outputs": [],
   "source": [
    "vis(_zero.train_mean);"
   ]
  },
  {
   "cell_type": "code",
   "execution_count": 25,
   "id": "b6c6b180-4a84-46ee-b315-4f3d57245151",
   "metadata": {},
   "outputs": [],
   "source": [
    "_two = Method(_zero.train_mean,160)"
   ]
  },
  {
   "cell_type": "code",
   "execution_count": 26,
   "id": "4e533451-aeb6-4b8d-9bc7-7c92dc903e10",
   "metadata": {},
   "outputs": [
    {
     "name": "stderr",
     "output_type": "stream",
     "text": [
      "100%|██████████| 50/50 [00:26<00:00,  1.88it/s]\n"
     ]
    }
   ],
   "source": [
    "_two.FT()"
   ]
  },
  {
   "cell_type": "markdown",
   "id": "cfc65267-6511-4c51-a596-c73182100c78",
   "metadata": {},
   "source": [
    "ST-GCN"
   ]
  },
  {
   "cell_type": "code",
   "execution_count": null,
   "id": "caaa80f6-7dc6-4e7b-a5e6-521261954c3d",
   "metadata": {},
   "outputs": [],
   "source": [
    "vis2(fiveVTS_test[1:],_two.test_result);"
   ]
  },
  {
   "cell_type": "code",
   "execution_count": null,
   "id": "303d1b12-d3c0-4e53-98b2-688e67bf333a",
   "metadata": {},
   "outputs": [],
   "source": [
    "vis2(_zero.train_mean,_two.train_result);"
   ]
  },
  {
   "cell_type": "markdown",
   "id": "c3d7fa15-c28a-42fd-a076-2c5ed9397db5",
   "metadata": {},
   "source": [
    "Ebayes result"
   ]
  },
  {
   "cell_type": "code",
   "execution_count": null,
   "id": "fbd632a2-90be-40bf-9ef4-904ec2d4a56a",
   "metadata": {},
   "outputs": [],
   "source": [
    "plt.plot(_two.fhatbar)\n",
    "plt.plot(_two.fhatbar_threshed)"
   ]
  },
  {
   "cell_type": "markdown",
   "id": "6b88dd00-5260-4d93-a3cd-ea2295b5875d",
   "metadata": {},
   "source": [
    "Inverse FT result"
   ]
  },
  {
   "cell_type": "code",
   "execution_count": null,
   "id": "ed1722f3-6c33-4275-ae81-45d432563114",
   "metadata": {},
   "outputs": [],
   "source": [
    "vis2(_zero.train_mean,_two.FT_result.reshape(159,5));"
   ]
  },
  {
   "cell_type": "code",
   "execution_count": 31,
   "id": "a22799a3-cd5e-49e9-9955-d0bf7dabdfbc",
   "metadata": {},
   "outputs": [],
   "source": [
    "_three = Method(_two.FT_result,159)"
   ]
  },
  {
   "cell_type": "code",
   "execution_count": 32,
   "id": "b753fd9a-0d69-4920-8f92-8cf7001e56d8",
   "metadata": {},
   "outputs": [
    {
     "name": "stderr",
     "output_type": "stream",
     "text": [
      "100%|██████████| 50/50 [00:26<00:00,  1.89it/s]\n"
     ]
    }
   ],
   "source": [
    "_three.FT()"
   ]
  },
  {
   "cell_type": "markdown",
   "id": "58ed4473-b7b6-4485-ae37-8ccba0cc4561",
   "metadata": {},
   "source": [
    "ST-GCN"
   ]
  },
  {
   "cell_type": "code",
   "execution_count": null,
   "id": "23f40da3-2c50-4174-826e-03a9e7fef3c8",
   "metadata": {},
   "outputs": [],
   "source": [
    "vis2(fiveVTS_test[1:],_three.test_result);"
   ]
  },
  {
   "cell_type": "code",
   "execution_count": null,
   "id": "fe5f79ae-9d56-4a85-b22b-af50d04f02b3",
   "metadata": {},
   "outputs": [],
   "source": [
    "vis2(_zero.train_mean,_three.train_result);"
   ]
  },
  {
   "cell_type": "markdown",
   "id": "6f228703-4a98-4231-8bda-b0c21778e527",
   "metadata": {},
   "source": [
    "Ebayes result"
   ]
  },
  {
   "cell_type": "code",
   "execution_count": null,
   "id": "9574f026-f32b-4334-aac3-ecbe0f2db2b6",
   "metadata": {},
   "outputs": [],
   "source": [
    "plt.plot(_three.fhatbar)\n",
    "plt.plot(_three.fhatbar_threshed)"
   ]
  },
  {
   "cell_type": "markdown",
   "id": "d4bc757a-7d01-483d-8af4-46bfb70943d3",
   "metadata": {},
   "source": [
    "Inverse FT result"
   ]
  },
  {
   "cell_type": "code",
   "execution_count": null,
   "id": "4af94754-fa73-458d-88f2-8d33d465f100",
   "metadata": {},
   "outputs": [],
   "source": [
    "vis2(_zero.train_mean,_three.FT_result.reshape(158,5));"
   ]
  },
  {
   "cell_type": "code",
   "execution_count": 37,
   "id": "7dedbab3-db7c-41dc-8e59-323e7df773d5",
   "metadata": {},
   "outputs": [
    {
     "data": {
      "text/html": [
       "<div>\n",
       "<style scoped>\n",
       "    .dataframe tbody tr th:only-of-type {\n",
       "        vertical-align: middle;\n",
       "    }\n",
       "\n",
       "    .dataframe tbody tr th {\n",
       "        vertical-align: top;\n",
       "    }\n",
       "\n",
       "    .dataframe thead th {\n",
       "        text-align: right;\n",
       "    }\n",
       "</style>\n",
       "<table border=\"1\" class=\"dataframe\">\n",
       "  <thead>\n",
       "    <tr style=\"text-align: right;\">\n",
       "      <th></th>\n",
       "      <th>1</th>\n",
       "      <th>2</th>\n",
       "    </tr>\n",
       "  </thead>\n",
       "  <tbody>\n",
       "    <tr>\n",
       "      <th>0</th>\n",
       "      <td>1.127840</td>\n",
       "      <td>1.185874</td>\n",
       "    </tr>\n",
       "    <tr>\n",
       "      <th>1</th>\n",
       "      <td>1.136627</td>\n",
       "      <td>1.239555</td>\n",
       "    </tr>\n",
       "    <tr>\n",
       "      <th>2</th>\n",
       "      <td>1.041937</td>\n",
       "      <td>1.024299</td>\n",
       "    </tr>\n",
       "    <tr>\n",
       "      <th>3</th>\n",
       "      <td>0.873353</td>\n",
       "      <td>0.793870</td>\n",
       "    </tr>\n",
       "    <tr>\n",
       "      <th>4</th>\n",
       "      <td>1.581547</td>\n",
       "      <td>1.532444</td>\n",
       "    </tr>\n",
       "  </tbody>\n",
       "</table>\n",
       "</div>"
      ],
      "text/plain": [
       "          1         2\n",
       "0  1.127840  1.185874\n",
       "1  1.136627  1.239555\n",
       "2  1.041937  1.024299\n",
       "3  0.873353  0.793870\n",
       "4  1.581547  1.532444"
      ]
     },
     "execution_count": 37,
     "metadata": {},
     "output_type": "execute_result"
    }
   ],
   "source": [
    "pd.DataFrame({'1':_two.mse,'2':_three.mse})"
   ]
  },
  {
   "cell_type": "code",
   "execution_count": 38,
   "id": "e39eea85-6d9a-41b9-830a-8175eefb0638",
   "metadata": {},
   "outputs": [
    {
     "data": {
      "text/html": [
       "<div>\n",
       "<style scoped>\n",
       "    .dataframe tbody tr th:only-of-type {\n",
       "        vertical-align: middle;\n",
       "    }\n",
       "\n",
       "    .dataframe tbody tr th {\n",
       "        vertical-align: top;\n",
       "    }\n",
       "\n",
       "    .dataframe thead th {\n",
       "        text-align: right;\n",
       "    }\n",
       "</style>\n",
       "<table border=\"1\" class=\"dataframe\">\n",
       "  <thead>\n",
       "    <tr style=\"text-align: right;\">\n",
       "      <th></th>\n",
       "      <th>1</th>\n",
       "      <th>2</th>\n",
       "    </tr>\n",
       "  </thead>\n",
       "  <tbody>\n",
       "    <tr>\n",
       "      <th>0</th>\n",
       "      <td>0.810725</td>\n",
       "      <td>0.833354</td>\n",
       "    </tr>\n",
       "    <tr>\n",
       "      <th>1</th>\n",
       "      <td>0.859093</td>\n",
       "      <td>0.889160</td>\n",
       "    </tr>\n",
       "    <tr>\n",
       "      <th>2</th>\n",
       "      <td>0.832850</td>\n",
       "      <td>0.847244</td>\n",
       "    </tr>\n",
       "    <tr>\n",
       "      <th>3</th>\n",
       "      <td>0.736444</td>\n",
       "      <td>0.699711</td>\n",
       "    </tr>\n",
       "    <tr>\n",
       "      <th>4</th>\n",
       "      <td>1.014850</td>\n",
       "      <td>1.000413</td>\n",
       "    </tr>\n",
       "  </tbody>\n",
       "</table>\n",
       "</div>"
      ],
      "text/plain": [
       "          1         2\n",
       "0  0.810725  0.833354\n",
       "1  0.859093  0.889160\n",
       "2  0.832850  0.847244\n",
       "3  0.736444  0.699711\n",
       "4  1.014850  1.000413"
      ]
     },
     "execution_count": 38,
     "metadata": {},
     "output_type": "execute_result"
    }
   ],
   "source": [
    "pd.DataFrame({'1':_two.mae,'2':_three.mae})"
   ]
  },
  {
   "cell_type": "markdown",
   "id": "54c80a17-2286-40b1-98f4-ce826c3422c7",
   "metadata": {
    "tags": []
   },
   "source": [
    "## Linear"
   ]
  },
  {
   "cell_type": "code",
   "execution_count": null,
   "id": "0346a434-98ee-4201-8e17-251c5a969663",
   "metadata": {},
   "outputs": [],
   "source": [
    "vis(np.array(_zero.train_linear).reshape(160,5));"
   ]
  },
  {
   "cell_type": "code",
   "execution_count": 40,
   "id": "fd44bcb5-07d6-49ff-9816-40c04ffe5ba7",
   "metadata": {},
   "outputs": [],
   "source": [
    "__two = Method(_zero.train_linear,160)"
   ]
  },
  {
   "cell_type": "code",
   "execution_count": 41,
   "id": "5e2b8778-ec29-4025-9ed8-7ed8e6fa2d05",
   "metadata": {},
   "outputs": [
    {
     "name": "stderr",
     "output_type": "stream",
     "text": [
      "100%|██████████| 50/50 [00:26<00:00,  1.87it/s]\n"
     ]
    }
   ],
   "source": [
    "__two.FT()"
   ]
  },
  {
   "cell_type": "markdown",
   "id": "f7a7576b-6d7a-4b38-ac12-b34a7d0baca2",
   "metadata": {},
   "source": [
    "ST-GCN"
   ]
  },
  {
   "cell_type": "code",
   "execution_count": null,
   "id": "618539a6-b965-447d-a774-1cefcc156d41",
   "metadata": {},
   "outputs": [],
   "source": [
    "vis2(fiveVTS_test[1:],__two.test_result);"
   ]
  },
  {
   "cell_type": "code",
   "execution_count": null,
   "id": "dedf3aa0-5f23-4b31-8b0c-796efa0af2d9",
   "metadata": {},
   "outputs": [],
   "source": [
    "vis2(_zero.train_linear,__two.train_result);"
   ]
  },
  {
   "cell_type": "markdown",
   "id": "a8b62dbb-6cff-4084-b9a9-7bc6dc0aa257",
   "metadata": {},
   "source": [
    "Ebayes result"
   ]
  },
  {
   "cell_type": "code",
   "execution_count": null,
   "id": "76333984-aee4-461f-ac88-e8ccf945f7ed",
   "metadata": {},
   "outputs": [],
   "source": [
    "plt.plot(__two.fhatbar)\n",
    "plt.plot(__two.fhatbar_threshed)"
   ]
  },
  {
   "cell_type": "markdown",
   "id": "f54a20d0-9ead-4294-982e-0bcd09441de4",
   "metadata": {},
   "source": [
    "Inverse FT result"
   ]
  },
  {
   "cell_type": "code",
   "execution_count": null,
   "id": "dcc9b476-b824-4e6f-8a66-74bce7790726",
   "metadata": {},
   "outputs": [],
   "source": [
    "vis2(_zero.train_mean,__two.FT_result.reshape(159,5));"
   ]
  },
  {
   "cell_type": "code",
   "execution_count": 46,
   "id": "4675fa9d-d2dd-42e1-97a0-8fb8e3a6c2d3",
   "metadata": {},
   "outputs": [],
   "source": [
    "__three = Method(__two.FT_result,159)"
   ]
  },
  {
   "cell_type": "code",
   "execution_count": 47,
   "id": "861a153b-0753-4365-9d3e-853499bc7809",
   "metadata": {},
   "outputs": [
    {
     "name": "stderr",
     "output_type": "stream",
     "text": [
      "100%|██████████| 50/50 [00:26<00:00,  1.90it/s]\n"
     ]
    }
   ],
   "source": [
    "__three.FT()"
   ]
  },
  {
   "cell_type": "markdown",
   "id": "14fdc0bb-68c6-4362-8399-37ff399b95b0",
   "metadata": {},
   "source": [
    "ST-GCN"
   ]
  },
  {
   "cell_type": "code",
   "execution_count": null,
   "id": "9602afc7-8581-4e25-b2f2-0edb5481797f",
   "metadata": {},
   "outputs": [],
   "source": [
    "vis2(fiveVTS_test[1:],__three.test_result);"
   ]
  },
  {
   "cell_type": "code",
   "execution_count": null,
   "id": "f4723e10-4a18-41f0-894a-713ff4891636",
   "metadata": {},
   "outputs": [],
   "source": [
    "vis2(_zero.train_linear,__three.train_result);"
   ]
  },
  {
   "cell_type": "markdown",
   "id": "761ac87b-03de-4ea5-881b-714177059198",
   "metadata": {},
   "source": [
    "Ebayes result"
   ]
  },
  {
   "cell_type": "code",
   "execution_count": null,
   "id": "fe1312cc-da66-4f92-966e-52855d6ab18d",
   "metadata": {},
   "outputs": [],
   "source": [
    "plt.plot(__three.fhatbar)\n",
    "plt.plot(__three.fhatbar_threshed)"
   ]
  },
  {
   "cell_type": "markdown",
   "id": "f2f5f3b3-7c9a-4752-9c39-687d48a9f2b6",
   "metadata": {},
   "source": [
    "Inverse FT result"
   ]
  },
  {
   "cell_type": "code",
   "execution_count": null,
   "id": "db971dfc-4a9f-41e3-9534-90bb6ad4d9ce",
   "metadata": {},
   "outputs": [],
   "source": [
    "vis2(_zero.train_mean,__three.FT_result.reshape(158,5));"
   ]
  },
  {
   "cell_type": "code",
   "execution_count": 52,
   "id": "007726ea-3efd-4c64-ae98-e2193031a706",
   "metadata": {},
   "outputs": [
    {
     "data": {
      "text/html": [
       "<div>\n",
       "<style scoped>\n",
       "    .dataframe tbody tr th:only-of-type {\n",
       "        vertical-align: middle;\n",
       "    }\n",
       "\n",
       "    .dataframe tbody tr th {\n",
       "        vertical-align: top;\n",
       "    }\n",
       "\n",
       "    .dataframe thead th {\n",
       "        text-align: right;\n",
       "    }\n",
       "</style>\n",
       "<table border=\"1\" class=\"dataframe\">\n",
       "  <thead>\n",
       "    <tr style=\"text-align: right;\">\n",
       "      <th></th>\n",
       "      <th>1</th>\n",
       "      <th>2</th>\n",
       "    </tr>\n",
       "  </thead>\n",
       "  <tbody>\n",
       "    <tr>\n",
       "      <th>0</th>\n",
       "      <td>1.281765</td>\n",
       "      <td>1.400721</td>\n",
       "    </tr>\n",
       "    <tr>\n",
       "      <th>1</th>\n",
       "      <td>1.486607</td>\n",
       "      <td>1.592832</td>\n",
       "    </tr>\n",
       "    <tr>\n",
       "      <th>2</th>\n",
       "      <td>1.113505</td>\n",
       "      <td>1.165222</td>\n",
       "    </tr>\n",
       "    <tr>\n",
       "      <th>3</th>\n",
       "      <td>0.940647</td>\n",
       "      <td>0.923844</td>\n",
       "    </tr>\n",
       "    <tr>\n",
       "      <th>4</th>\n",
       "      <td>1.392708</td>\n",
       "      <td>1.508399</td>\n",
       "    </tr>\n",
       "  </tbody>\n",
       "</table>\n",
       "</div>"
      ],
      "text/plain": [
       "          1         2\n",
       "0  1.281765  1.400721\n",
       "1  1.486607  1.592832\n",
       "2  1.113505  1.165222\n",
       "3  0.940647  0.923844\n",
       "4  1.392708  1.508399"
      ]
     },
     "execution_count": 52,
     "metadata": {},
     "output_type": "execute_result"
    }
   ],
   "source": [
    "pd.DataFrame({'1':__two.mse,'2':__three.mse})"
   ]
  },
  {
   "cell_type": "code",
   "execution_count": 53,
   "id": "fea77627-8f4f-4576-a2cc-06b870b7e817",
   "metadata": {},
   "outputs": [
    {
     "data": {
      "text/html": [
       "<div>\n",
       "<style scoped>\n",
       "    .dataframe tbody tr th:only-of-type {\n",
       "        vertical-align: middle;\n",
       "    }\n",
       "\n",
       "    .dataframe tbody tr th {\n",
       "        vertical-align: top;\n",
       "    }\n",
       "\n",
       "    .dataframe thead th {\n",
       "        text-align: right;\n",
       "    }\n",
       "</style>\n",
       "<table border=\"1\" class=\"dataframe\">\n",
       "  <thead>\n",
       "    <tr style=\"text-align: right;\">\n",
       "      <th></th>\n",
       "      <th>1</th>\n",
       "      <th>2</th>\n",
       "    </tr>\n",
       "  </thead>\n",
       "  <tbody>\n",
       "    <tr>\n",
       "      <th>0</th>\n",
       "      <td>0.900372</td>\n",
       "      <td>0.917123</td>\n",
       "    </tr>\n",
       "    <tr>\n",
       "      <th>1</th>\n",
       "      <td>0.958798</td>\n",
       "      <td>1.001564</td>\n",
       "    </tr>\n",
       "    <tr>\n",
       "      <th>2</th>\n",
       "      <td>0.877698</td>\n",
       "      <td>0.912896</td>\n",
       "    </tr>\n",
       "    <tr>\n",
       "      <th>3</th>\n",
       "      <td>0.777983</td>\n",
       "      <td>0.791293</td>\n",
       "    </tr>\n",
       "    <tr>\n",
       "      <th>4</th>\n",
       "      <td>0.959073</td>\n",
       "      <td>1.004081</td>\n",
       "    </tr>\n",
       "  </tbody>\n",
       "</table>\n",
       "</div>"
      ],
      "text/plain": [
       "          1         2\n",
       "0  0.900372  0.917123\n",
       "1  0.958798  1.001564\n",
       "2  0.877698  0.912896\n",
       "3  0.777983  0.791293\n",
       "4  0.959073  1.004081"
      ]
     },
     "execution_count": 53,
     "metadata": {},
     "output_type": "execute_result"
    }
   ],
   "source": [
    "pd.DataFrame({'1':__two.mae,'2':__three.mae})"
   ]
  },
  {
   "cell_type": "markdown",
   "id": "6ea2c686-4fbb-47fd-a585-8403d00e3797",
   "metadata": {},
   "source": [
    "# missing : 40%"
   ]
  },
  {
   "cell_type": "code",
   "execution_count": 54,
   "id": "afed377c-f3b7-48e4-b6da-a4b37a36aa48",
   "metadata": {},
   "outputs": [],
   "source": [
    "__zero = Missing(fiveVTS_train)"
   ]
  },
  {
   "cell_type": "code",
   "execution_count": 55,
   "id": "f923b898-e164-441d-8d3f-b3cc6e8fbc78",
   "metadata": {},
   "outputs": [],
   "source": [
    "__zero.miss(percent = 0.4)"
   ]
  },
  {
   "cell_type": "code",
   "execution_count": 56,
   "id": "4f85abe3-91d0-4e50-919b-fac0682036f9",
   "metadata": {},
   "outputs": [],
   "source": [
    "__zero.first_mean()"
   ]
  },
  {
   "cell_type": "code",
   "execution_count": 57,
   "id": "c58fb889-a63d-402d-91c5-cc70a3f4fb52",
   "metadata": {},
   "outputs": [],
   "source": [
    "__zero.second_linear()"
   ]
  },
  {
   "cell_type": "markdown",
   "id": "e0df5b87-7e86-4592-85f5-edbec44d59fe",
   "metadata": {},
   "source": [
    "## Mean"
   ]
  },
  {
   "cell_type": "code",
   "execution_count": 58,
   "id": "67f7e03c-010a-4c71-8276-372466842fb5",
   "metadata": {},
   "outputs": [],
   "source": [
    "_two1 = Method(__zero.train_mean,160)"
   ]
  },
  {
   "cell_type": "code",
   "execution_count": 59,
   "id": "68bf5c93-6c55-4a01-9ce9-7cf6ff412a9f",
   "metadata": {},
   "outputs": [
    {
     "name": "stderr",
     "output_type": "stream",
     "text": [
      "100%|██████████| 50/50 [00:26<00:00,  1.89it/s]\n"
     ]
    }
   ],
   "source": [
    "_two1.FT()"
   ]
  },
  {
   "cell_type": "markdown",
   "id": "8c3ed392-ed05-4ead-a24a-a3142a073d53",
   "metadata": {},
   "source": [
    "ST-GCN"
   ]
  },
  {
   "cell_type": "code",
   "execution_count": null,
   "id": "349b5618-e648-4948-9b0c-87de5338f84a",
   "metadata": {},
   "outputs": [],
   "source": [
    "vis2(fiveVTS_test[1:],_two1.test_result);"
   ]
  },
  {
   "cell_type": "code",
   "execution_count": null,
   "id": "212c26b4-3851-42e3-baa1-a512bf4c19d1",
   "metadata": {},
   "outputs": [],
   "source": [
    "vis2(_zero.train_mean,_two1.train_result);"
   ]
  },
  {
   "cell_type": "markdown",
   "id": "d1de8ca3-a48f-40c7-8fdc-fdab84c1cd49",
   "metadata": {},
   "source": [
    "Ebayes result"
   ]
  },
  {
   "cell_type": "code",
   "execution_count": null,
   "id": "83020b7e-175e-4df5-b31a-7911196f40a6",
   "metadata": {},
   "outputs": [],
   "source": [
    "plt.plot(_two1.fhatbar)\n",
    "plt.plot(_two1.fhatbar_threshed)"
   ]
  },
  {
   "cell_type": "markdown",
   "id": "840ea6e9-885d-4bd3-95b2-2d9af7ad552d",
   "metadata": {},
   "source": [
    "Inverse FT result"
   ]
  },
  {
   "cell_type": "code",
   "execution_count": null,
   "id": "d4d2c7e5-6d61-4f94-99f6-cca0ba1783a6",
   "metadata": {},
   "outputs": [],
   "source": [
    "vis2(_zero.train_mean,_two1.FT_result.reshape(159,5));"
   ]
  },
  {
   "cell_type": "code",
   "execution_count": 64,
   "id": "ef691990-6278-449b-a22b-0842444d20de",
   "metadata": {},
   "outputs": [],
   "source": [
    "_three1 = Method(_two1.FT_result,159)"
   ]
  },
  {
   "cell_type": "code",
   "execution_count": 65,
   "id": "2a449c88-a20f-4f69-9752-eaa753081824",
   "metadata": {},
   "outputs": [
    {
     "name": "stderr",
     "output_type": "stream",
     "text": [
      "100%|██████████| 50/50 [00:26<00:00,  1.88it/s]\n"
     ]
    }
   ],
   "source": [
    "_three1.FT()"
   ]
  },
  {
   "cell_type": "markdown",
   "id": "3b82802e-f8d4-441a-93cc-076acd47d40b",
   "metadata": {},
   "source": [
    "ST-GCN"
   ]
  },
  {
   "cell_type": "code",
   "execution_count": null,
   "id": "3011c9d0-b01e-4ade-90b5-6031bec33a3a",
   "metadata": {},
   "outputs": [],
   "source": [
    "vis2(fiveVTS_test[1:],_three1.test_result);"
   ]
  },
  {
   "cell_type": "code",
   "execution_count": null,
   "id": "4c3ac62e-7d0d-4a05-8c5e-526285051241",
   "metadata": {},
   "outputs": [],
   "source": [
    "vis2(_zero.train_mean,_three1.train_result);"
   ]
  },
  {
   "cell_type": "markdown",
   "id": "90873b66-016b-4c37-9833-cb1e2f77749f",
   "metadata": {},
   "source": [
    "Ebayes result"
   ]
  },
  {
   "cell_type": "code",
   "execution_count": null,
   "id": "4bdfa3fa-3e71-482b-ae41-2a2ca8143e7f",
   "metadata": {},
   "outputs": [],
   "source": [
    "plt.plot(_three1.fhatbar)\n",
    "plt.plot(_three1.fhatbar_threshed)"
   ]
  },
  {
   "cell_type": "markdown",
   "id": "0bbbe29e-2fed-4453-a203-493717c3f733",
   "metadata": {},
   "source": [
    "Inverse FT result"
   ]
  },
  {
   "cell_type": "code",
   "execution_count": null,
   "id": "aacd7ed4-7f05-4fe3-a921-a43a286b27ad",
   "metadata": {},
   "outputs": [],
   "source": [
    "vis2(_zero.train_mean,_three1.FT_result.reshape(158,5));"
   ]
  },
  {
   "cell_type": "code",
   "execution_count": 70,
   "id": "250a878b-9d24-43cd-9294-ef68857afac8",
   "metadata": {},
   "outputs": [],
   "source": [
    "_four1 = Method(_three1.FT_result,158)"
   ]
  },
  {
   "cell_type": "code",
   "execution_count": 71,
   "id": "38fe8eca-c3d2-43b8-aff8-b8bd9054e1f8",
   "metadata": {},
   "outputs": [
    {
     "name": "stderr",
     "output_type": "stream",
     "text": [
      "100%|██████████| 50/50 [00:26<00:00,  1.90it/s]\n"
     ]
    }
   ],
   "source": [
    "_four1.FT()"
   ]
  },
  {
   "cell_type": "markdown",
   "id": "529e8d9e-1cd8-4298-b163-deea71e13681",
   "metadata": {},
   "source": [
    "ST-GCN"
   ]
  },
  {
   "cell_type": "code",
   "execution_count": null,
   "id": "1aeb2d0c-9b3e-457a-bf7a-a957ea117d20",
   "metadata": {},
   "outputs": [],
   "source": [
    "vis2(fiveVTS_test[1:],_four1.test_result);"
   ]
  },
  {
   "cell_type": "code",
   "execution_count": null,
   "id": "99590716-2375-43ce-b07a-f4dbefea0fef",
   "metadata": {},
   "outputs": [],
   "source": [
    "vis2(_zero.train_mean,_four1.train_result);"
   ]
  },
  {
   "cell_type": "markdown",
   "id": "bc37b802-e2ab-4ef1-85e7-d6e64aea155b",
   "metadata": {},
   "source": [
    "Ebayes result"
   ]
  },
  {
   "cell_type": "code",
   "execution_count": null,
   "id": "395dd65f-db3b-42d0-a0c4-b676044fd66b",
   "metadata": {},
   "outputs": [],
   "source": [
    "plt.plot(_four1.fhatbar)\n",
    "plt.plot(_four1.fhatbar_threshed)"
   ]
  },
  {
   "cell_type": "markdown",
   "id": "3ac4ff9d-e5e6-4797-a1c7-687242e38bf4",
   "metadata": {},
   "source": [
    "Inverse FT result"
   ]
  },
  {
   "cell_type": "code",
   "execution_count": null,
   "id": "b9f53a46-ecbb-4e0d-b82a-4a1b850805fc",
   "metadata": {},
   "outputs": [],
   "source": [
    "vis2(_zero.train_mean,_four1.FT_result.reshape(157,5));"
   ]
  },
  {
   "cell_type": "code",
   "execution_count": 76,
   "id": "61e45d48-4c1f-41c5-bff0-45c53638f79a",
   "metadata": {},
   "outputs": [],
   "source": [
    "_five1 = Method(_four1.FT_result,157)"
   ]
  },
  {
   "cell_type": "code",
   "execution_count": 77,
   "id": "01555637-92e0-49f1-bfa5-76a92c254821",
   "metadata": {},
   "outputs": [
    {
     "name": "stderr",
     "output_type": "stream",
     "text": [
      "100%|██████████| 50/50 [00:26<00:00,  1.91it/s]\n"
     ]
    }
   ],
   "source": [
    "_five1.FT()"
   ]
  },
  {
   "cell_type": "code",
   "execution_count": 78,
   "id": "2536b169-84ec-4255-9a1b-596fa4641e41",
   "metadata": {},
   "outputs": [
    {
     "data": {
      "text/html": [
       "<div>\n",
       "<style scoped>\n",
       "    .dataframe tbody tr th:only-of-type {\n",
       "        vertical-align: middle;\n",
       "    }\n",
       "\n",
       "    .dataframe tbody tr th {\n",
       "        vertical-align: top;\n",
       "    }\n",
       "\n",
       "    .dataframe thead th {\n",
       "        text-align: right;\n",
       "    }\n",
       "</style>\n",
       "<table border=\"1\" class=\"dataframe\">\n",
       "  <thead>\n",
       "    <tr style=\"text-align: right;\">\n",
       "      <th></th>\n",
       "      <th>1</th>\n",
       "      <th>2</th>\n",
       "      <th>3</th>\n",
       "      <th>4</th>\n",
       "    </tr>\n",
       "  </thead>\n",
       "  <tbody>\n",
       "    <tr>\n",
       "      <th>0</th>\n",
       "      <td>1.168309</td>\n",
       "      <td>1.230553</td>\n",
       "      <td>1.192988</td>\n",
       "      <td>1.175019</td>\n",
       "    </tr>\n",
       "    <tr>\n",
       "      <th>1</th>\n",
       "      <td>1.066498</td>\n",
       "      <td>1.276368</td>\n",
       "      <td>1.177094</td>\n",
       "      <td>1.171697</td>\n",
       "    </tr>\n",
       "    <tr>\n",
       "      <th>2</th>\n",
       "      <td>1.010410</td>\n",
       "      <td>1.012038</td>\n",
       "      <td>1.015355</td>\n",
       "      <td>1.067709</td>\n",
       "    </tr>\n",
       "    <tr>\n",
       "      <th>3</th>\n",
       "      <td>0.778463</td>\n",
       "      <td>0.888485</td>\n",
       "      <td>0.769993</td>\n",
       "      <td>0.772112</td>\n",
       "    </tr>\n",
       "    <tr>\n",
       "      <th>4</th>\n",
       "      <td>1.423373</td>\n",
       "      <td>1.625111</td>\n",
       "      <td>1.490132</td>\n",
       "      <td>1.584657</td>\n",
       "    </tr>\n",
       "  </tbody>\n",
       "</table>\n",
       "</div>"
      ],
      "text/plain": [
       "          1         2         3         4\n",
       "0  1.168309  1.230553  1.192988  1.175019\n",
       "1  1.066498  1.276368  1.177094  1.171697\n",
       "2  1.010410  1.012038  1.015355  1.067709\n",
       "3  0.778463  0.888485  0.769993  0.772112\n",
       "4  1.423373  1.625111  1.490132  1.584657"
      ]
     },
     "execution_count": 78,
     "metadata": {},
     "output_type": "execute_result"
    }
   ],
   "source": [
    "pd.DataFrame({'1':_two1.mse,'2':_three1.mse,'3':_four1.mse,'4':_five1.mse})"
   ]
  },
  {
   "cell_type": "code",
   "execution_count": 79,
   "id": "45b069fe-8991-4039-a283-7b491bb2c094",
   "metadata": {},
   "outputs": [
    {
     "data": {
      "text/plain": [
       "[<matplotlib.lines.Line2D at 0x7f76e4af1ee0>,\n",
       " <matplotlib.lines.Line2D at 0x7f76e4af1220>,\n",
       " <matplotlib.lines.Line2D at 0x7f76e4af1400>,\n",
       " <matplotlib.lines.Line2D at 0x7f76e4af10a0>]"
      ]
     },
     "execution_count": 79,
     "metadata": {},
     "output_type": "execute_result"
    },
    {
     "data": {
      "image/png": "[encoded data removed]",
      "text/plain": [
       "<Figure size 432x288 with 1 Axes>"
      ]
     },
     "metadata": {
      "needs_background": "light"
     },
     "output_type": "display_data"
    }
   ],
   "source": [
    "plt.plot(pd.DataFrame({'1':_two1.mse,'2':_three1.mse,'3':_four1.mse,'4':_five1.mse}))"
   ]
  },
  {
   "cell_type": "code",
   "execution_count": 80,
   "id": "d52c00a1-8f8a-4a43-a40e-753ed8c64549",
   "metadata": {},
   "outputs": [
    {
     "data": {
      "text/html": [
       "<div>\n",
       "<style scoped>\n",
       "    .dataframe tbody tr th:only-of-type {\n",
       "        vertical-align: middle;\n",
       "    }\n",
       "\n",
       "    .dataframe tbody tr th {\n",
       "        vertical-align: top;\n",
       "    }\n",
       "\n",
       "    .dataframe thead th {\n",
       "        text-align: right;\n",
       "    }\n",
       "</style>\n",
       "<table border=\"1\" class=\"dataframe\">\n",
       "  <thead>\n",
       "    <tr style=\"text-align: right;\">\n",
       "      <th></th>\n",
       "      <th>1</th>\n",
       "      <th>2</th>\n",
       "      <th>3</th>\n",
       "      <th>4</th>\n",
       "    </tr>\n",
       "  </thead>\n",
       "  <tbody>\n",
       "    <tr>\n",
       "      <th>0</th>\n",
       "      <td>0.799169</td>\n",
       "      <td>0.864659</td>\n",
       "      <td>0.826029</td>\n",
       "      <td>0.829156</td>\n",
       "    </tr>\n",
       "    <tr>\n",
       "      <th>1</th>\n",
       "      <td>0.850051</td>\n",
       "      <td>0.903948</td>\n",
       "      <td>0.878605</td>\n",
       "      <td>0.868525</td>\n",
       "    </tr>\n",
       "    <tr>\n",
       "      <th>2</th>\n",
       "      <td>0.861471</td>\n",
       "      <td>0.824245</td>\n",
       "      <td>0.852739</td>\n",
       "      <td>0.869433</td>\n",
       "    </tr>\n",
       "    <tr>\n",
       "      <th>3</th>\n",
       "      <td>0.678440</td>\n",
       "      <td>0.752933</td>\n",
       "      <td>0.675502</td>\n",
       "      <td>0.674261</td>\n",
       "    </tr>\n",
       "    <tr>\n",
       "      <th>4</th>\n",
       "      <td>0.986608</td>\n",
       "      <td>1.034750</td>\n",
       "      <td>0.997042</td>\n",
       "      <td>1.016092</td>\n",
       "    </tr>\n",
       "  </tbody>\n",
       "</table>\n",
       "</div>"
      ],
      "text/plain": [
       "          1         2         3         4\n",
       "0  0.799169  0.864659  0.826029  0.829156\n",
       "1  0.850051  0.903948  0.878605  0.868525\n",
       "2  0.861471  0.824245  0.852739  0.869433\n",
       "3  0.678440  0.752933  0.675502  0.674261\n",
       "4  0.986608  1.034750  0.997042  1.016092"
      ]
     },
     "execution_count": 80,
     "metadata": {},
     "output_type": "execute_result"
    }
   ],
   "source": [
    "pd.DataFrame({'1':_two1.mae,'2':_three1.mae,'3':_four1.mae,'4':_five1.mae})"
   ]
  },
  {
   "cell_type": "code",
   "execution_count": null,
   "id": "a64e342a-0068-4c91-8363-115c9a46774e",
   "metadata": {},
   "outputs": [],
   "source": [
    "vis2(fiveVTS_test[1:],_two1.test_result);"
   ]
  },
  {
   "cell_type": "code",
   "execution_count": null,
   "id": "459a9e90-473d-48cb-9fc4-c5f843a8b77d",
   "metadata": {},
   "outputs": [],
   "source": [
    "vis2(fiveVTS_test[1:],_three1.test_result);"
   ]
  },
  {
   "cell_type": "code",
   "execution_count": null,
   "id": "07a4d5c2-76f8-48fd-ad16-b939cacb7c51",
   "metadata": {},
   "outputs": [],
   "source": [
    "vis2(fiveVTS_test[1:],_four1.test_result);"
   ]
  },
  {
   "cell_type": "code",
   "execution_count": null,
   "id": "a3e12375-65f4-497c-828b-2a4f39db1bdb",
   "metadata": {},
   "outputs": [],
   "source": [
    "vis2(fiveVTS_test[1:],_five1.test_result);"
   ]
  },
  {
   "cell_type": "markdown",
   "id": "1feb634f-cc4c-45b4-b80b-ac0aa39e791c",
   "metadata": {
    "tags": []
   },
   "source": [
    "## Linear"
   ]
  },
  {
   "cell_type": "code",
   "execution_count": 85,
   "id": "aa1fbe93-c95a-473b-b134-d29d008bcf62",
   "metadata": {},
   "outputs": [],
   "source": [
    "__two1 = Method(__zero.train_linear,160)"
   ]
  },
  {
   "cell_type": "code",
   "execution_count": 86,
   "id": "525a608a-15da-4bfd-8d36-f3ace92ff306",
   "metadata": {},
   "outputs": [
    {
     "name": "stderr",
     "output_type": "stream",
     "text": [
      "100%|██████████| 50/50 [00:27<00:00,  1.85it/s]\n"
     ]
    }
   ],
   "source": [
    "__two1.FT()"
   ]
  },
  {
   "cell_type": "code",
   "execution_count": 87,
   "id": "537feac7-ad48-4ff2-8ced-7ef5b4bdb7b9",
   "metadata": {},
   "outputs": [],
   "source": [
    "__three1 = Method(__two1.FT_result,159)"
   ]
  },
  {
   "cell_type": "code",
   "execution_count": 88,
   "id": "e871f2a1-4605-4366-be6f-019748c3a9db",
   "metadata": {},
   "outputs": [
    {
     "name": "stderr",
     "output_type": "stream",
     "text": [
      "100%|██████████| 50/50 [00:26<00:00,  1.88it/s]\n"
     ]
    }
   ],
   "source": [
    "__three1.FT()"
   ]
  },
  {
   "cell_type": "code",
   "execution_count": 89,
   "id": "78cbaf56-ac48-4b77-b049-4adb0494bc1b",
   "metadata": {},
   "outputs": [],
   "source": [
    "__four1 = Method(__three1.FT_result,158)"
   ]
  },
  {
   "cell_type": "code",
   "execution_count": 90,
   "id": "ae21b3f1-c18f-4414-b255-e80470b76326",
   "metadata": {},
   "outputs": [
    {
     "name": "stderr",
     "output_type": "stream",
     "text": [
      "100%|██████████| 50/50 [00:26<00:00,  1.89it/s]\n"
     ]
    }
   ],
   "source": [
    "__four1.FT()"
   ]
  },
  {
   "cell_type": "code",
   "execution_count": 91,
   "id": "7a3cd291-8edb-41b8-9f30-708b26a1ee3e",
   "metadata": {},
   "outputs": [],
   "source": [
    "__five1 = Method(__four1.FT_result,157)"
   ]
  },
  {
   "cell_type": "code",
   "execution_count": 92,
   "id": "30f5fb72-dc31-4df0-a01a-77a948aad38f",
   "metadata": {},
   "outputs": [
    {
     "name": "stderr",
     "output_type": "stream",
     "text": [
      "100%|██████████| 50/50 [00:26<00:00,  1.91it/s]\n"
     ]
    }
   ],
   "source": [
    "__five1.FT()"
   ]
  },
  {
   "cell_type": "code",
   "execution_count": 93,
   "id": "722c51ff-95c3-4796-9d9e-d94334788a77",
   "metadata": {},
   "outputs": [
    {
     "data": {
      "text/html": [
       "<div>\n",
       "<style scoped>\n",
       "    .dataframe tbody tr th:only-of-type {\n",
       "        vertical-align: middle;\n",
       "    }\n",
       "\n",
       "    .dataframe tbody tr th {\n",
       "        vertical-align: top;\n",
       "    }\n",
       "\n",
       "    .dataframe thead th {\n",
       "        text-align: right;\n",
       "    }\n",
       "</style>\n",
       "<table border=\"1\" class=\"dataframe\">\n",
       "  <thead>\n",
       "    <tr style=\"text-align: right;\">\n",
       "      <th></th>\n",
       "      <th>1</th>\n",
       "      <th>2</th>\n",
       "      <th>3</th>\n",
       "      <th>4</th>\n",
       "    </tr>\n",
       "  </thead>\n",
       "  <tbody>\n",
       "    <tr>\n",
       "      <th>0</th>\n",
       "      <td>1.322930</td>\n",
       "      <td>1.515256</td>\n",
       "      <td>1.433440</td>\n",
       "      <td>1.285924</td>\n",
       "    </tr>\n",
       "    <tr>\n",
       "      <th>1</th>\n",
       "      <td>1.392571</td>\n",
       "      <td>1.781884</td>\n",
       "      <td>1.672098</td>\n",
       "      <td>1.457686</td>\n",
       "    </tr>\n",
       "    <tr>\n",
       "      <th>2</th>\n",
       "      <td>1.064279</td>\n",
       "      <td>1.333298</td>\n",
       "      <td>1.263279</td>\n",
       "      <td>1.111698</td>\n",
       "    </tr>\n",
       "    <tr>\n",
       "      <th>3</th>\n",
       "      <td>0.850177</td>\n",
       "      <td>0.953438</td>\n",
       "      <td>0.938495</td>\n",
       "      <td>0.894633</td>\n",
       "    </tr>\n",
       "    <tr>\n",
       "      <th>4</th>\n",
       "      <td>1.383176</td>\n",
       "      <td>1.599101</td>\n",
       "      <td>1.574063</td>\n",
       "      <td>1.538558</td>\n",
       "    </tr>\n",
       "  </tbody>\n",
       "</table>\n",
       "</div>"
      ],
      "text/plain": [
       "          1         2         3         4\n",
       "0  1.322930  1.515256  1.433440  1.285924\n",
       "1  1.392571  1.781884  1.672098  1.457686\n",
       "2  1.064279  1.333298  1.263279  1.111698\n",
       "3  0.850177  0.953438  0.938495  0.894633\n",
       "4  1.383176  1.599101  1.574063  1.538558"
      ]
     },
     "execution_count": 93,
     "metadata": {},
     "output_type": "execute_result"
    }
   ],
   "source": [
    "pd.DataFrame({'1':__two1.mse,'2':__three1.mse,'3':__four1.mse,'4':__five1.mse})"
   ]
  },
  {
   "cell_type": "code",
   "execution_count": 94,
   "id": "051d07d4-7f5e-4bc8-a296-2c5486049d24",
   "metadata": {},
   "outputs": [
    {
     "data": {
      "text/plain": [
       "[<matplotlib.lines.Line2D at 0x7f76def70b20>,\n",
       " <matplotlib.lines.Line2D at 0x7f76def70a00>,\n",
       " <matplotlib.lines.Line2D at 0x7f76def70c70>,\n",
       " <matplotlib.lines.Line2D at 0x7f76def70520>]"
      ]
     },
     "execution_count": 94,
     "metadata": {},
     "output_type": "execute_result"
    },
    {
     "data": {
      "image/png": "[encoded data removed]",
      "text/plain": [
       "<Figure size 432x288 with 1 Axes>"
      ]
     },
     "metadata": {
      "needs_background": "light"
     },
     "output_type": "display_data"
    }
   ],
   "source": [
    "plt.plot(pd.DataFrame({'1':__two1.mse,'2':__three1.mse,'3':__four1.mse,'4':__five1.mse}))"
   ]
  },
  {
   "cell_type": "code",
   "execution_count": 95,
   "id": "3da391ff-043c-4a5d-95a4-e305ce2f8984",
   "metadata": {},
   "outputs": [
    {
     "data": {
      "text/html": [
       "<div>\n",
       "<style scoped>\n",
       "    .dataframe tbody tr th:only-of-type {\n",
       "        vertical-align: middle;\n",
       "    }\n",
       "\n",
       "    .dataframe tbody tr th {\n",
       "        vertical-align: top;\n",
       "    }\n",
       "\n",
       "    .dataframe thead th {\n",
       "        text-align: right;\n",
       "    }\n",
       "</style>\n",
       "<table border=\"1\" class=\"dataframe\">\n",
       "  <thead>\n",
       "    <tr style=\"text-align: right;\">\n",
       "      <th></th>\n",
       "      <th>1</th>\n",
       "      <th>2</th>\n",
       "      <th>3</th>\n",
       "      <th>4</th>\n",
       "    </tr>\n",
       "  </thead>\n",
       "  <tbody>\n",
       "    <tr>\n",
       "      <th>0</th>\n",
       "      <td>0.898631</td>\n",
       "      <td>0.958182</td>\n",
       "      <td>0.948353</td>\n",
       "      <td>0.867740</td>\n",
       "    </tr>\n",
       "    <tr>\n",
       "      <th>1</th>\n",
       "      <td>0.929860</td>\n",
       "      <td>1.050781</td>\n",
       "      <td>1.015666</td>\n",
       "      <td>0.972589</td>\n",
       "    </tr>\n",
       "    <tr>\n",
       "      <th>2</th>\n",
       "      <td>0.854576</td>\n",
       "      <td>0.975453</td>\n",
       "      <td>0.945135</td>\n",
       "      <td>0.883765</td>\n",
       "    </tr>\n",
       "    <tr>\n",
       "      <th>3</th>\n",
       "      <td>0.733181</td>\n",
       "      <td>0.808303</td>\n",
       "      <td>0.797947</td>\n",
       "      <td>0.770136</td>\n",
       "    </tr>\n",
       "    <tr>\n",
       "      <th>4</th>\n",
       "      <td>0.957883</td>\n",
       "      <td>1.028632</td>\n",
       "      <td>1.034039</td>\n",
       "      <td>1.012992</td>\n",
       "    </tr>\n",
       "  </tbody>\n",
       "</table>\n",
       "</div>"
      ],
      "text/plain": [
       "          1         2         3         4\n",
       "0  0.898631  0.958182  0.948353  0.867740\n",
       "1  0.929860  1.050781  1.015666  0.972589\n",
       "2  0.854576  0.975453  0.945135  0.883765\n",
       "3  0.733181  0.808303  0.797947  0.770136\n",
       "4  0.957883  1.028632  1.034039  1.012992"
      ]
     },
     "execution_count": 95,
     "metadata": {},
     "output_type": "execute_result"
    }
   ],
   "source": [
    "pd.DataFrame({'1':__two1.mae,'2':__three1.mae,'3':__four1.mae,'4':__five1.mae})"
   ]
  },
  {
   "cell_type": "code",
   "execution_count": null,
   "id": "bfeef045-a28e-4a29-a363-a814dc5d4300",
   "metadata": {},
   "outputs": [],
   "source": [
    "vis2(fiveVTS_test[1:],__two1.test_result);"
   ]
  },
  {
   "cell_type": "code",
   "execution_count": null,
   "id": "89673bdc-3232-42a5-b42c-0cf2b556c529",
   "metadata": {},
   "outputs": [],
   "source": [
    "vis2(fiveVTS_test[1:],__three1.test_result);"
   ]
  },
  {
   "cell_type": "code",
   "execution_count": null,
   "id": "d6414667-c9fa-415c-b366-19b55b18a666",
   "metadata": {},
   "outputs": [],
   "source": [
    "vis2(fiveVTS_test[1:],__four1.test_result);"
   ]
  },
  {
   "cell_type": "code",
   "execution_count": null,
   "id": "63a5343d-4cf9-4ed5-8a9b-2b7c3cd54658",
   "metadata": {},
   "outputs": [],
   "source": [
    "vis2(fiveVTS_test[1:],__five1.test_result);"
   ]
  },
  {
   "cell_type": "markdown",
   "id": "510d1b80-cc42-44c1-8c99-f3eef8e6ed6c",
   "metadata": {},
   "source": [
    "# missing : 70%"
   ]
  },
  {
   "cell_type": "code",
   "execution_count": 100,
   "id": "4333c8f4-dae6-48fc-a7e0-cb117adb5472",
   "metadata": {},
   "outputs": [],
   "source": [
    "____zero = Missing(fiveVTS_train)"
   ]
  },
  {
   "cell_type": "code",
   "execution_count": 101,
   "id": "74b66f46-8a38-4523-8919-da11e0322c39",
   "metadata": {},
   "outputs": [],
   "source": [
    "____zero.miss(percent = 0.7)"
   ]
  },
  {
   "cell_type": "code",
   "execution_count": 102,
   "id": "3e0728aa-4dc3-49fc-a441-8716abc49550",
   "metadata": {},
   "outputs": [],
   "source": [
    "____zero.first_mean()"
   ]
  },
  {
   "cell_type": "code",
   "execution_count": 103,
   "id": "8eafcdaa-d030-46e3-aee2-3ee1335cff77",
   "metadata": {},
   "outputs": [],
   "source": [
    "____zero.second_linear()"
   ]
  },
  {
   "cell_type": "markdown",
   "id": "9cd262be-bd72-4d6d-9c72-1e7f82f5c91a",
   "metadata": {},
   "source": [
    "## Mean"
   ]
  },
  {
   "cell_type": "code",
   "execution_count": 104,
   "id": "5dc9ebae-6763-4359-b787-e4b2a971c684",
   "metadata": {},
   "outputs": [],
   "source": [
    "_two3 = Method(____zero.train_mean,160)"
   ]
  },
  {
   "cell_type": "code",
   "execution_count": 105,
   "id": "d1f4a237-37fb-4bb5-b31e-4045ba7c31e1",
   "metadata": {},
   "outputs": [
    {
     "name": "stderr",
     "output_type": "stream",
     "text": [
      "100%|██████████| 50/50 [00:26<00:00,  1.88it/s]\n"
     ]
    }
   ],
   "source": [
    "_two3.FT()"
   ]
  },
  {
   "cell_type": "code",
   "execution_count": 106,
   "id": "04b87572-2814-49fa-9050-5d3632b1229b",
   "metadata": {},
   "outputs": [],
   "source": [
    "_three3 = Method(_two3.FT_result,159)"
   ]
  },
  {
   "cell_type": "code",
   "execution_count": 107,
   "id": "11cb7b87-4254-4747-8c7e-999af3914376",
   "metadata": {},
   "outputs": [
    {
     "name": "stderr",
     "output_type": "stream",
     "text": [
      "100%|██████████| 50/50 [00:26<00:00,  1.88it/s]\n"
     ]
    }
   ],
   "source": [
    "_three3.FT()"
   ]
  },
  {
   "cell_type": "code",
   "execution_count": 108,
   "id": "14f6ed83-f1ac-42b1-bf66-bca38fce8390",
   "metadata": {},
   "outputs": [],
   "source": [
    "_four3 = Method(_three3.FT_result,158)"
   ]
  },
  {
   "cell_type": "code",
   "execution_count": 109,
   "id": "60b1a2eb-1d0a-4a58-bd08-b23927fa1e32",
   "metadata": {},
   "outputs": [
    {
     "name": "stderr",
     "output_type": "stream",
     "text": [
      "100%|██████████| 50/50 [00:26<00:00,  1.89it/s]\n"
     ]
    }
   ],
   "source": [
    "_four3.FT()"
   ]
  },
  {
   "cell_type": "code",
   "execution_count": 110,
   "id": "e6818151-89cd-4bae-be64-e39882a8c189",
   "metadata": {},
   "outputs": [],
   "source": [
    "_five3 = Method(_four3.FT_result,157)"
   ]
  },
  {
   "cell_type": "code",
   "execution_count": 111,
   "id": "f7ca580c-80fd-413e-a258-9b16aaa98d71",
   "metadata": {},
   "outputs": [
    {
     "name": "stderr",
     "output_type": "stream",
     "text": [
      "100%|██████████| 50/50 [00:26<00:00,  1.90it/s]\n"
     ]
    }
   ],
   "source": [
    "_five3.FT()"
   ]
  },
  {
   "cell_type": "code",
   "execution_count": 112,
   "id": "2afe8fcf-f06c-4162-a9f1-528a7a47a6d5",
   "metadata": {},
   "outputs": [
    {
     "data": {
      "text/html": [
       "<div>\n",
       "<style scoped>\n",
       "    .dataframe tbody tr th:only-of-type {\n",
       "        vertical-align: middle;\n",
       "    }\n",
       "\n",
       "    .dataframe tbody tr th {\n",
       "        vertical-align: top;\n",
       "    }\n",
       "\n",
       "    .dataframe thead th {\n",
       "        text-align: right;\n",
       "    }\n",
       "</style>\n",
       "<table border=\"1\" class=\"dataframe\">\n",
       "  <thead>\n",
       "    <tr style=\"text-align: right;\">\n",
       "      <th></th>\n",
       "      <th>1</th>\n",
       "      <th>2</th>\n",
       "      <th>3</th>\n",
       "      <th>4</th>\n",
       "    </tr>\n",
       "  </thead>\n",
       "  <tbody>\n",
       "    <tr>\n",
       "      <th>0</th>\n",
       "      <td>1.448017</td>\n",
       "      <td>1.364855</td>\n",
       "      <td>1.201664</td>\n",
       "      <td>1.213758</td>\n",
       "    </tr>\n",
       "    <tr>\n",
       "      <th>1</th>\n",
       "      <td>1.247535</td>\n",
       "      <td>1.253670</td>\n",
       "      <td>1.192967</td>\n",
       "      <td>1.163686</td>\n",
       "    </tr>\n",
       "    <tr>\n",
       "      <th>2</th>\n",
       "      <td>1.036282</td>\n",
       "      <td>1.106526</td>\n",
       "      <td>1.083865</td>\n",
       "      <td>1.088754</td>\n",
       "    </tr>\n",
       "    <tr>\n",
       "      <th>3</th>\n",
       "      <td>0.941918</td>\n",
       "      <td>0.934027</td>\n",
       "      <td>0.839766</td>\n",
       "      <td>0.874371</td>\n",
       "    </tr>\n",
       "    <tr>\n",
       "      <th>4</th>\n",
       "      <td>1.737001</td>\n",
       "      <td>1.859111</td>\n",
       "      <td>1.650749</td>\n",
       "      <td>1.680171</td>\n",
       "    </tr>\n",
       "  </tbody>\n",
       "</table>\n",
       "</div>"
      ],
      "text/plain": [
       "          1         2         3         4\n",
       "0  1.448017  1.364855  1.201664  1.213758\n",
       "1  1.247535  1.253670  1.192967  1.163686\n",
       "2  1.036282  1.106526  1.083865  1.088754\n",
       "3  0.941918  0.934027  0.839766  0.874371\n",
       "4  1.737001  1.859111  1.650749  1.680171"
      ]
     },
     "execution_count": 112,
     "metadata": {},
     "output_type": "execute_result"
    }
   ],
   "source": [
    "pd.DataFrame({'1':_two3.mse,'2':_three3.mse,'3':_four3.mse,'4':_five3.mse})"
   ]
  },
  {
   "cell_type": "code",
   "execution_count": 113,
   "id": "f261fa39-9bed-4354-b308-f56281799c23",
   "metadata": {},
   "outputs": [
    {
     "data": {
      "text/plain": [
       "[<matplotlib.lines.Line2D at 0x7f76d454dca0>,\n",
       " <matplotlib.lines.Line2D at 0x7f76d454d6a0>,\n",
       " <matplotlib.lines.Line2D at 0x7f76d454dbe0>,\n",
       " <matplotlib.lines.Line2D at 0x7f76d454ddc0>]"
      ]
     },
     "execution_count": 113,
     "metadata": {},
     "output_type": "execute_result"
    },
    {
     "data": {
      "image/png": "[encoded data removed]",
      "text/plain": [
       "<Figure size 432x288 with 1 Axes>"
      ]
     },
     "metadata": {
      "needs_background": "light"
     },
     "output_type": "display_data"
    }
   ],
   "source": [
    "plt.plot(pd.DataFrame({'1':_two3.mse,'2':_three3.mse,'3':_four3.mse,'4':_five3.mse}))"
   ]
  },
  {
   "cell_type": "code",
   "execution_count": 114,
   "id": "8e4f6653-1043-4899-a739-46e4fee696f3",
   "metadata": {},
   "outputs": [
    {
     "data": {
      "text/html": [
       "<div>\n",
       "<style scoped>\n",
       "    .dataframe tbody tr th:only-of-type {\n",
       "        vertical-align: middle;\n",
       "    }\n",
       "\n",
       "    .dataframe tbody tr th {\n",
       "        vertical-align: top;\n",
       "    }\n",
       "\n",
       "    .dataframe thead th {\n",
       "        text-align: right;\n",
       "    }\n",
       "</style>\n",
       "<table border=\"1\" class=\"dataframe\">\n",
       "  <thead>\n",
       "    <tr style=\"text-align: right;\">\n",
       "      <th></th>\n",
       "      <th>1</th>\n",
       "      <th>2</th>\n",
       "      <th>3</th>\n",
       "      <th>4</th>\n",
       "    </tr>\n",
       "  </thead>\n",
       "  <tbody>\n",
       "    <tr>\n",
       "      <th>0</th>\n",
       "      <td>0.927395</td>\n",
       "      <td>0.927923</td>\n",
       "      <td>0.854297</td>\n",
       "      <td>0.858955</td>\n",
       "    </tr>\n",
       "    <tr>\n",
       "      <th>1</th>\n",
       "      <td>0.887239</td>\n",
       "      <td>0.895229</td>\n",
       "      <td>0.885876</td>\n",
       "      <td>0.882910</td>\n",
       "    </tr>\n",
       "    <tr>\n",
       "      <th>2</th>\n",
       "      <td>0.821978</td>\n",
       "      <td>0.853594</td>\n",
       "      <td>0.863880</td>\n",
       "      <td>0.855449</td>\n",
       "    </tr>\n",
       "    <tr>\n",
       "      <th>3</th>\n",
       "      <td>0.752587</td>\n",
       "      <td>0.759081</td>\n",
       "      <td>0.719327</td>\n",
       "      <td>0.727041</td>\n",
       "    </tr>\n",
       "    <tr>\n",
       "      <th>4</th>\n",
       "      <td>1.087924</td>\n",
       "      <td>1.113979</td>\n",
       "      <td>1.056868</td>\n",
       "      <td>1.065154</td>\n",
       "    </tr>\n",
       "  </tbody>\n",
       "</table>\n",
       "</div>"
      ],
      "text/plain": [
       "          1         2         3         4\n",
       "0  0.927395  0.927923  0.854297  0.858955\n",
       "1  0.887239  0.895229  0.885876  0.882910\n",
       "2  0.821978  0.853594  0.863880  0.855449\n",
       "3  0.752587  0.759081  0.719327  0.727041\n",
       "4  1.087924  1.113979  1.056868  1.065154"
      ]
     },
     "execution_count": 114,
     "metadata": {},
     "output_type": "execute_result"
    }
   ],
   "source": [
    "pd.DataFrame({'1':_two3.mae,'2':_three3.mae,'3':_four3.mae,'4':_five3.mae})"
   ]
  },
  {
   "cell_type": "code",
   "execution_count": null,
   "id": "9d90a814-348e-4418-90fa-cd38ab6b6e94",
   "metadata": {},
   "outputs": [],
   "source": [
    "vis2(fiveVTS_test[1:],_two3.test_result);"
   ]
  },
  {
   "cell_type": "code",
   "execution_count": null,
   "id": "a7fa1d8a-2888-46cc-9756-2a98b46236b7",
   "metadata": {},
   "outputs": [],
   "source": [
    "vis2(fiveVTS_test[1:],_three3.test_result);"
   ]
  },
  {
   "cell_type": "code",
   "execution_count": null,
   "id": "ea803546-e47e-4b87-b069-ae7e93b5460b",
   "metadata": {},
   "outputs": [],
   "source": [
    "vis2(fiveVTS_test[1:],_four3.test_result);"
   ]
  },
  {
   "cell_type": "code",
   "execution_count": null,
   "id": "3d0ed015-ad5b-4ccc-b8ad-9e40eb833143",
   "metadata": {},
   "outputs": [],
   "source": [
    "vis2(fiveVTS_test[1:],_five3.test_result);"
   ]
  },
  {
   "cell_type": "markdown",
   "id": "b9ad97bf-f0f1-424a-a3b1-1e7f5b3928f2",
   "metadata": {
    "tags": []
   },
   "source": [
    "## Linear"
   ]
  },
  {
   "cell_type": "code",
   "execution_count": 119,
   "id": "b0cc4637-42b0-4a64-a3e0-141cff0c4da8",
   "metadata": {},
   "outputs": [],
   "source": [
    "__two3 = Method(____zero.train_linear,160)"
   ]
  },
  {
   "cell_type": "code",
   "execution_count": 120,
   "id": "a49711d2-3785-4042-8229-4cfb1b2e3bb6",
   "metadata": {},
   "outputs": [
    {
     "name": "stderr",
     "output_type": "stream",
     "text": [
      "100%|██████████| 50/50 [00:26<00:00,  1.86it/s]\n"
     ]
    }
   ],
   "source": [
    "__two3.FT()"
   ]
  },
  {
   "cell_type": "code",
   "execution_count": 121,
   "id": "7ec68ba6-ddc2-4c27-88e1-254d9e30158f",
   "metadata": {},
   "outputs": [],
   "source": [
    "__three3 = Method(__two3.FT_result,159)"
   ]
  },
  {
   "cell_type": "code",
   "execution_count": 122,
   "id": "4ffc549b-c6bb-4c21-a9d1-6e281656b30f",
   "metadata": {},
   "outputs": [
    {
     "name": "stderr",
     "output_type": "stream",
     "text": [
      "100%|██████████| 50/50 [00:26<00:00,  1.87it/s]\n"
     ]
    }
   ],
   "source": [
    "__three3.FT()"
   ]
  },
  {
   "cell_type": "code",
   "execution_count": 123,
   "id": "c0d69682-c369-41f3-96cd-4e6e1bda875f",
   "metadata": {},
   "outputs": [],
   "source": [
    "__four3 = Method(__three3.FT_result,158)"
   ]
  },
  {
   "cell_type": "code",
   "execution_count": 124,
   "id": "2efe8df1-0a50-4990-87ac-43c821f96dcf",
   "metadata": {},
   "outputs": [
    {
     "name": "stderr",
     "output_type": "stream",
     "text": [
      "100%|██████████| 50/50 [00:26<00:00,  1.86it/s]\n"
     ]
    }
   ],
   "source": [
    "__four3.FT()"
   ]
  },
  {
   "cell_type": "code",
   "execution_count": 125,
   "id": "1a9671ef-6197-4402-8495-11cbcdb799f7",
   "metadata": {},
   "outputs": [],
   "source": [
    "__five3 = Method(__four3.FT_result,157)"
   ]
  },
  {
   "cell_type": "code",
   "execution_count": 126,
   "id": "54bacca6-2ad7-4d37-b7d1-5ae4e2075dae",
   "metadata": {},
   "outputs": [
    {
     "name": "stderr",
     "output_type": "stream",
     "text": [
      "100%|██████████| 50/50 [00:26<00:00,  1.89it/s]\n"
     ]
    }
   ],
   "source": [
    "__five3.FT()"
   ]
  },
  {
   "cell_type": "code",
   "execution_count": 127,
   "id": "3b5ebbb8-64f8-4e26-b4d0-2654a5d346c8",
   "metadata": {},
   "outputs": [
    {
     "data": {
      "text/html": [
       "<div>\n",
       "<style scoped>\n",
       "    .dataframe tbody tr th:only-of-type {\n",
       "        vertical-align: middle;\n",
       "    }\n",
       "\n",
       "    .dataframe tbody tr th {\n",
       "        vertical-align: top;\n",
       "    }\n",
       "\n",
       "    .dataframe thead th {\n",
       "        text-align: right;\n",
       "    }\n",
       "</style>\n",
       "<table border=\"1\" class=\"dataframe\">\n",
       "  <thead>\n",
       "    <tr style=\"text-align: right;\">\n",
       "      <th></th>\n",
       "      <th>1</th>\n",
       "      <th>2</th>\n",
       "      <th>3</th>\n",
       "      <th>4</th>\n",
       "    </tr>\n",
       "  </thead>\n",
       "  <tbody>\n",
       "    <tr>\n",
       "      <th>0</th>\n",
       "      <td>1.606461</td>\n",
       "      <td>1.560883</td>\n",
       "      <td>1.545523</td>\n",
       "      <td>1.497282</td>\n",
       "    </tr>\n",
       "    <tr>\n",
       "      <th>1</th>\n",
       "      <td>1.847612</td>\n",
       "      <td>1.941934</td>\n",
       "      <td>1.835855</td>\n",
       "      <td>1.759470</td>\n",
       "    </tr>\n",
       "    <tr>\n",
       "      <th>2</th>\n",
       "      <td>1.330572</td>\n",
       "      <td>1.329310</td>\n",
       "      <td>1.316518</td>\n",
       "      <td>1.261980</td>\n",
       "    </tr>\n",
       "    <tr>\n",
       "      <th>3</th>\n",
       "      <td>1.027761</td>\n",
       "      <td>0.999007</td>\n",
       "      <td>0.997890</td>\n",
       "      <td>1.029145</td>\n",
       "    </tr>\n",
       "    <tr>\n",
       "      <th>4</th>\n",
       "      <td>1.625325</td>\n",
       "      <td>1.592073</td>\n",
       "      <td>1.593470</td>\n",
       "      <td>1.626432</td>\n",
       "    </tr>\n",
       "  </tbody>\n",
       "</table>\n",
       "</div>"
      ],
      "text/plain": [
       "          1         2         3         4\n",
       "0  1.606461  1.560883  1.545523  1.497282\n",
       "1  1.847612  1.941934  1.835855  1.759470\n",
       "2  1.330572  1.329310  1.316518  1.261980\n",
       "3  1.027761  0.999007  0.997890  1.029145\n",
       "4  1.625325  1.592073  1.593470  1.626432"
      ]
     },
     "execution_count": 127,
     "metadata": {},
     "output_type": "execute_result"
    }
   ],
   "source": [
    "pd.DataFrame({'1':__two3.mse,'2':__three3.mse,'3':__four3.mse,'4':__five3.mse})"
   ]
  },
  {
   "cell_type": "code",
   "execution_count": 128,
   "id": "b6293383-b158-47fe-8c2f-40a350a486e0",
   "metadata": {},
   "outputs": [
    {
     "data": {
      "text/plain": [
       "[<matplotlib.lines.Line2D at 0x7f76e49d5610>]"
      ]
     },
     "execution_count": 128,
     "metadata": {},
     "output_type": "execute_result"
    },
    {
     "data": {
      "image/png": "[encoded data removed]",
      "text/plain": [
       "<Figure size 432x288 with 1 Axes>"
      ]
     },
     "metadata": {
      "needs_background": "light"
     },
     "output_type": "display_data"
    }
   ],
   "source": [
    "plt.plot(pd.DataFrame({'1':__two3.mse,'2':__three3.mse,'3':__four3.mse,'4':__five3.mse}).iloc[:,:3])\n",
    "plt.plot(pd.DataFrame({'1':__two3.mse,'2':__three3.mse,'3':__four3.mse,'4':__five3.mse}).iloc[:,3:],'r')"
   ]
  },
  {
   "cell_type": "markdown",
   "id": "16a7690d-6dc6-47f2-83a2-8517ad362823",
   "metadata": {},
   "source": [
    "# missing : 10%"
   ]
  },
  {
   "cell_type": "code",
   "execution_count": 129,
   "id": "758ac054-72e0-4bdb-8039-158bd632a3c5",
   "metadata": {},
   "outputs": [],
   "source": [
    "___zero = Missing(fiveVTS_train)"
   ]
  },
  {
   "cell_type": "code",
   "execution_count": 130,
   "id": "498896a1-01be-4c77-b2f1-8aa9cb1d3bdf",
   "metadata": {},
   "outputs": [],
   "source": [
    "___zero.miss(percent = 0.1)"
   ]
  },
  {
   "cell_type": "code",
   "execution_count": 131,
   "id": "49800b7c-393f-4ef5-9259-af3d5bf2bdaf",
   "metadata": {},
   "outputs": [],
   "source": [
    "___zero.first_mean()"
   ]
  },
  {
   "cell_type": "code",
   "execution_count": 132,
   "id": "96e945c2-8694-4a35-a5c5-51a6becd5009",
   "metadata": {},
   "outputs": [],
   "source": [
    "___zero.second_linear()"
   ]
  },
  {
   "cell_type": "markdown",
   "id": "e7728c92-63e6-4aef-9396-3da9177e80c6",
   "metadata": {},
   "source": [
    "## Mean"
   ]
  },
  {
   "cell_type": "code",
   "execution_count": 133,
   "id": "09c2be8c-69d7-4828-8373-e4cfef06fb66",
   "metadata": {},
   "outputs": [],
   "source": [
    "_two2 = Method(___zero.train_mean,160)"
   ]
  },
  {
   "cell_type": "code",
   "execution_count": 134,
   "id": "d01bc5cd-d773-4f33-8a89-847c97036071",
   "metadata": {},
   "outputs": [
    {
     "name": "stderr",
     "output_type": "stream",
     "text": [
      "100%|██████████| 50/50 [00:26<00:00,  1.88it/s]\n"
     ]
    }
   ],
   "source": [
    "_two2.FT()"
   ]
  },
  {
   "cell_type": "code",
   "execution_count": 135,
   "id": "7f51acbe-d074-4a40-835a-8ab5501fb0ba",
   "metadata": {},
   "outputs": [],
   "source": [
    "_three2 = Method(_two2.FT_result,159)"
   ]
  },
  {
   "cell_type": "code",
   "execution_count": 136,
   "id": "a6c3fc12-8f0f-4566-beaf-d5f7b772b98b",
   "metadata": {},
   "outputs": [
    {
     "name": "stderr",
     "output_type": "stream",
     "text": [
      "100%|██████████| 50/50 [00:26<00:00,  1.89it/s]\n"
     ]
    }
   ],
   "source": [
    "_three2.FT()"
   ]
  },
  {
   "cell_type": "code",
   "execution_count": 137,
   "id": "76dcc391-b3c9-4c6b-bcec-c857cd60d5f1",
   "metadata": {},
   "outputs": [],
   "source": [
    "_four2 = Method(_three2.FT_result,158)"
   ]
  },
  {
   "cell_type": "code",
   "execution_count": 138,
   "id": "c4abfcd4-5380-4193-aac6-f9babb2e1a20",
   "metadata": {},
   "outputs": [
    {
     "name": "stderr",
     "output_type": "stream",
     "text": [
      "100%|██████████| 50/50 [00:26<00:00,  1.90it/s]\n"
     ]
    }
   ],
   "source": [
    "_four2.FT()"
   ]
  },
  {
   "cell_type": "code",
   "execution_count": 139,
   "id": "b74f1164-252f-4e42-b11d-5a1f961c65c2",
   "metadata": {},
   "outputs": [
    {
     "data": {
      "text/html": [
       "<div>\n",
       "<style scoped>\n",
       "    .dataframe tbody tr th:only-of-type {\n",
       "        vertical-align: middle;\n",
       "    }\n",
       "\n",
       "    .dataframe tbody tr th {\n",
       "        vertical-align: top;\n",
       "    }\n",
       "\n",
       "    .dataframe thead th {\n",
       "        text-align: right;\n",
       "    }\n",
       "</style>\n",
       "<table border=\"1\" class=\"dataframe\">\n",
       "  <thead>\n",
       "    <tr style=\"text-align: right;\">\n",
       "      <th></th>\n",
       "      <th>1</th>\n",
       "      <th>2</th>\n",
       "      <th>3</th>\n",
       "    </tr>\n",
       "  </thead>\n",
       "  <tbody>\n",
       "    <tr>\n",
       "      <th>0</th>\n",
       "      <td>1.137904</td>\n",
       "      <td>1.157075</td>\n",
       "      <td>1.192053</td>\n",
       "    </tr>\n",
       "    <tr>\n",
       "      <th>1</th>\n",
       "      <td>1.167234</td>\n",
       "      <td>1.250587</td>\n",
       "      <td>1.265843</td>\n",
       "    </tr>\n",
       "    <tr>\n",
       "      <th>2</th>\n",
       "      <td>1.062204</td>\n",
       "      <td>0.993897</td>\n",
       "      <td>0.995095</td>\n",
       "    </tr>\n",
       "    <tr>\n",
       "      <th>3</th>\n",
       "      <td>0.779682</td>\n",
       "      <td>0.814248</td>\n",
       "      <td>0.823841</td>\n",
       "    </tr>\n",
       "    <tr>\n",
       "      <th>4</th>\n",
       "      <td>1.362454</td>\n",
       "      <td>1.477629</td>\n",
       "      <td>1.510099</td>\n",
       "    </tr>\n",
       "  </tbody>\n",
       "</table>\n",
       "</div>"
      ],
      "text/plain": [
       "          1         2         3\n",
       "0  1.137904  1.157075  1.192053\n",
       "1  1.167234  1.250587  1.265843\n",
       "2  1.062204  0.993897  0.995095\n",
       "3  0.779682  0.814248  0.823841\n",
       "4  1.362454  1.477629  1.510099"
      ]
     },
     "execution_count": 139,
     "metadata": {},
     "output_type": "execute_result"
    }
   ],
   "source": [
    "pd.DataFrame({'1':_two2.mse,'2':_three2.mse,'3':_four2.mse})"
   ]
  },
  {
   "cell_type": "code",
   "execution_count": 140,
   "id": "58e0246c-8ba3-4989-bc3b-73d7e2da8a1e",
   "metadata": {},
   "outputs": [
    {
     "data": {
      "text/plain": [
       "[<matplotlib.lines.Line2D at 0x7f76d4776be0>,\n",
       " <matplotlib.lines.Line2D at 0x7f76d4776820>,\n",
       " <matplotlib.lines.Line2D at 0x7f76d4776c40>]"
      ]
     },
     "execution_count": 140,
     "metadata": {},
     "output_type": "execute_result"
    },
    {
     "data": {
      "image/png": "[encoded data removed]",
      "text/plain": [
       "<Figure size 432x288 with 1 Axes>"
      ]
     },
     "metadata": {
      "needs_background": "light"
     },
     "output_type": "display_data"
    }
   ],
   "source": [
    "plt.plot(pd.DataFrame({'1':_two2.mse,'2':_three2.mse,'3':_four2.mse}))"
   ]
  },
  {
   "cell_type": "markdown",
   "id": "1e0a624a-9ae4-4b4b-89ea-821daae57be4",
   "metadata": {
    "tags": []
   },
   "source": [
    "## Linear"
   ]
  },
  {
   "cell_type": "code",
   "execution_count": 141,
   "id": "b2f5f0be-2b6c-401e-bab2-035f3b6e7957",
   "metadata": {},
   "outputs": [],
   "source": [
    "__two2 = Method(__zero.train_linear,160)"
   ]
  },
  {
   "cell_type": "code",
   "execution_count": 142,
   "id": "a44e4ce8-ce24-45e4-9454-d9928c9d07a3",
   "metadata": {},
   "outputs": [
    {
     "name": "stderr",
     "output_type": "stream",
     "text": [
      "100%|██████████| 50/50 [00:26<00:00,  1.86it/s]\n"
     ]
    }
   ],
   "source": [
    "__two2.FT()"
   ]
  },
  {
   "cell_type": "code",
   "execution_count": 143,
   "id": "44917d7d-3767-4d60-9403-769f87dc3342",
   "metadata": {},
   "outputs": [],
   "source": [
    "__three2 = Method(__two2.FT_result,159)"
   ]
  },
  {
   "cell_type": "code",
   "execution_count": 144,
   "id": "716becb0-053a-445e-8191-b170e8c39c72",
   "metadata": {},
   "outputs": [
    {
     "name": "stderr",
     "output_type": "stream",
     "text": [
      "100%|██████████| 50/50 [00:26<00:00,  1.86it/s]\n"
     ]
    }
   ],
   "source": [
    "__three2.FT()"
   ]
  },
  {
   "cell_type": "code",
   "execution_count": 145,
   "id": "f55baf35-6344-44d5-a1ba-85382a72b27e",
   "metadata": {},
   "outputs": [],
   "source": [
    "__four2 = Method(__three2.FT_result,158)"
   ]
  },
  {
   "cell_type": "code",
   "execution_count": 146,
   "id": "4409fccc-09cd-47cf-bcfb-a5afa4d2988c",
   "metadata": {},
   "outputs": [
    {
     "name": "stderr",
     "output_type": "stream",
     "text": [
      "100%|██████████| 50/50 [00:26<00:00,  1.91it/s]\n"
     ]
    }
   ],
   "source": [
    "__four2.FT()"
   ]
  },
  {
   "cell_type": "code",
   "execution_count": 147,
   "id": "1ab1e45a-2bfa-4cab-8171-bf2088596827",
   "metadata": {},
   "outputs": [
    {
     "data": {
      "text/html": [
       "<div>\n",
       "<style scoped>\n",
       "    .dataframe tbody tr th:only-of-type {\n",
       "        vertical-align: middle;\n",
       "    }\n",
       "\n",
       "    .dataframe tbody tr th {\n",
       "        vertical-align: top;\n",
       "    }\n",
       "\n",
       "    .dataframe thead th {\n",
       "        text-align: right;\n",
       "    }\n",
       "</style>\n",
       "<table border=\"1\" class=\"dataframe\">\n",
       "  <thead>\n",
       "    <tr style=\"text-align: right;\">\n",
       "      <th></th>\n",
       "      <th>1</th>\n",
       "      <th>2</th>\n",
       "      <th>3</th>\n",
       "    </tr>\n",
       "  </thead>\n",
       "  <tbody>\n",
       "    <tr>\n",
       "      <th>0</th>\n",
       "      <td>1.276037</td>\n",
       "      <td>1.489909</td>\n",
       "      <td>1.427462</td>\n",
       "    </tr>\n",
       "    <tr>\n",
       "      <th>1</th>\n",
       "      <td>1.454765</td>\n",
       "      <td>1.681969</td>\n",
       "      <td>1.715689</td>\n",
       "    </tr>\n",
       "    <tr>\n",
       "      <th>2</th>\n",
       "      <td>1.104015</td>\n",
       "      <td>1.232047</td>\n",
       "      <td>1.253699</td>\n",
       "    </tr>\n",
       "    <tr>\n",
       "      <th>3</th>\n",
       "      <td>0.899755</td>\n",
       "      <td>0.944587</td>\n",
       "      <td>0.947889</td>\n",
       "    </tr>\n",
       "    <tr>\n",
       "      <th>4</th>\n",
       "      <td>1.403635</td>\n",
       "      <td>1.535966</td>\n",
       "      <td>1.551348</td>\n",
       "    </tr>\n",
       "  </tbody>\n",
       "</table>\n",
       "</div>"
      ],
      "text/plain": [
       "          1         2         3\n",
       "0  1.276037  1.489909  1.427462\n",
       "1  1.454765  1.681969  1.715689\n",
       "2  1.104015  1.232047  1.253699\n",
       "3  0.899755  0.944587  0.947889\n",
       "4  1.403635  1.535966  1.551348"
      ]
     },
     "execution_count": 147,
     "metadata": {},
     "output_type": "execute_result"
    }
   ],
   "source": [
    "pd.DataFrame({'1':__two2.mse,'2':__three2.mse,'3':__four2.mse})"
   ]
  },
  {
   "cell_type": "code",
   "execution_count": 148,
   "id": "34765f75-7148-4e5c-919e-c6c8bd273104",
   "metadata": {},
   "outputs": [
    {
     "data": {
      "text/plain": [
       "[<matplotlib.lines.Line2D at 0x7f76dc047be0>,\n",
       " <matplotlib.lines.Line2D at 0x7f76dc047310>,\n",
       " <matplotlib.lines.Line2D at 0x7f76dc047550>]"
      ]
     },
     "execution_count": 148,
     "metadata": {},
     "output_type": "execute_result"
    },
    {
     "data": {
      "image/png": "[encoded data removed]",
      "text/plain": [
       "<Figure size 432x288 with 1 Axes>"
      ]
     },
     "metadata": {
      "needs_background": "light"
     },
     "output_type": "display_data"
    }
   ],
   "source": [
    "plt.plot(pd.DataFrame({'1':__two2.mse,'2':__three2.mse,'3':__four2.mse}))"
   ]
  },
  {
   "cell_type": "markdown",
   "id": "dd3a3fe2-99e0-4728-acdc-5ea6b33cca2c",
   "metadata": {},
   "source": [
    "# missing 50%, 100번 반복 -> 30분 정도 걸림!"
   ]
  },
  {
   "cell_type": "markdown",
   "id": "5fbf4ce1-221d-47c3-9ca8-2d90d17169a1",
   "metadata": {},
   "source": [
    "## mean"
   ]
  },
  {
   "cell_type": "code",
   "execution_count": 174,
   "id": "78759db8-c427-4f5d-828a-951b40701546",
   "metadata": {},
   "outputs": [
    {
     "name": "stderr",
     "output_type": "stream",
     "text": [
      "100%|██████████| 50/50 [00:26<00:00,  1.88it/s]\n",
      "100%|██████████| 50/50 [00:26<00:00,  1.87it/s]\n",
      "100%|██████████| 50/50 [00:26<00:00,  1.89it/s]\n",
      "100%|██████████| 50/50 [00:26<00:00,  1.91it/s]\n",
      "100%|██████████| 50/50 [00:26<00:00,  1.92it/s]\n",
      "100%|██████████| 50/50 [00:26<00:00,  1.91it/s]\n",
      "100%|██████████| 50/50 [00:25<00:00,  1.93it/s]\n",
      "100%|██████████| 50/50 [00:25<00:00,  1.94it/s]\n",
      "100%|██████████| 50/50 [00:25<00:00,  1.95it/s]\n",
      "100%|██████████| 50/50 [00:25<00:00,  1.95it/s]\n",
      "100%|██████████| 50/50 [00:25<00:00,  1.97it/s]\n",
      "100%|██████████| 50/50 [00:24<00:00,  2.01it/s]\n",
      "100%|██████████| 50/50 [00:24<00:00,  2.01it/s]\n",
      "100%|██████████| 50/50 [00:24<00:00,  2.04it/s]\n",
      "100%|██████████| 50/50 [00:24<00:00,  2.02it/s]\n",
      "100%|██████████| 50/50 [00:24<00:00,  2.04it/s]\n",
      "100%|██████████| 50/50 [00:24<00:00,  2.06it/s]\n",
      "100%|██████████| 50/50 [00:24<00:00,  2.07it/s]\n",
      "100%|██████████| 50/50 [00:23<00:00,  2.09it/s]\n",
      "100%|██████████| 50/50 [00:23<00:00,  2.10it/s]\n",
      "100%|██████████| 50/50 [00:23<00:00,  2.11it/s]\n",
      "100%|██████████| 50/50 [00:23<00:00,  2.14it/s]\n",
      "100%|██████████| 50/50 [00:23<00:00,  2.16it/s]\n",
      "100%|██████████| 50/50 [00:23<00:00,  2.16it/s]\n",
      "100%|██████████| 50/50 [00:23<00:00,  2.17it/s]\n",
      "100%|██████████| 50/50 [00:22<00:00,  2.19it/s]\n",
      "100%|██████████| 50/50 [00:22<00:00,  2.22it/s]\n",
      "100%|██████████| 50/50 [00:22<00:00,  2.25it/s]\n",
      "100%|██████████| 50/50 [00:22<00:00,  2.26it/s]\n",
      "100%|██████████| 50/50 [00:21<00:00,  2.28it/s]\n",
      "100%|██████████| 50/50 [00:21<00:00,  2.29it/s]\n",
      "100%|██████████| 50/50 [00:21<00:00,  2.31it/s]\n",
      "100%|██████████| 50/50 [00:21<00:00,  2.32it/s]\n",
      "100%|██████████| 50/50 [00:21<00:00,  2.35it/s]\n",
      "100%|██████████| 50/50 [00:21<00:00,  2.36it/s]\n",
      "100%|██████████| 50/50 [00:21<00:00,  2.38it/s]\n",
      "100%|██████████| 50/50 [00:20<00:00,  2.40it/s]\n",
      "100%|██████████| 50/50 [00:20<00:00,  2.42it/s]\n",
      "100%|██████████| 50/50 [00:20<00:00,  2.44it/s]\n",
      "100%|██████████| 50/50 [00:20<00:00,  2.46it/s]\n",
      "100%|██████████| 50/50 [00:20<00:00,  2.49it/s]\n",
      "100%|██████████| 50/50 [00:19<00:00,  2.51it/s]\n",
      "100%|██████████| 50/50 [00:19<00:00,  2.53it/s]\n",
      "100%|██████████| 50/50 [00:19<00:00,  2.56it/s]\n",
      "100%|██████████| 50/50 [00:19<00:00,  2.58it/s]\n",
      "100%|██████████| 50/50 [00:19<00:00,  2.59it/s]\n",
      "100%|██████████| 50/50 [00:19<00:00,  2.63it/s]\n",
      "100%|██████████| 50/50 [00:18<00:00,  2.64it/s]\n",
      "100%|██████████| 50/50 [00:18<00:00,  2.66it/s]\n",
      "100%|██████████| 50/50 [00:18<00:00,  2.70it/s]\n",
      "100%|██████████| 50/50 [00:18<00:00,  2.72it/s]\n",
      "100%|██████████| 50/50 [00:18<00:00,  2.73it/s]\n",
      "100%|██████████| 50/50 [00:18<00:00,  2.77it/s]\n",
      "100%|██████████| 50/50 [00:17<00:00,  2.79it/s]\n",
      "100%|██████████| 50/50 [00:17<00:00,  2.82it/s]\n",
      "100%|██████████| 50/50 [00:17<00:00,  2.85it/s]\n",
      "100%|██████████| 50/50 [00:17<00:00,  2.88it/s]\n",
      "100%|██████████| 50/50 [00:17<00:00,  2.92it/s]\n",
      "100%|██████████| 50/50 [00:16<00:00,  2.94it/s]\n",
      "100%|██████████| 50/50 [00:16<00:00,  2.97it/s]\n",
      "100%|██████████| 50/50 [00:16<00:00,  3.00it/s]\n",
      "100%|██████████| 50/50 [00:16<00:00,  3.04it/s]\n",
      "100%|██████████| 50/50 [00:16<00:00,  3.06it/s]\n",
      "100%|██████████| 50/50 [00:16<00:00,  3.09it/s]\n",
      "100%|██████████| 50/50 [00:16<00:00,  3.12it/s]\n",
      "100%|██████████| 50/50 [00:15<00:00,  3.17it/s]\n",
      "100%|██████████| 50/50 [00:15<00:00,  3.19it/s]\n",
      "100%|██████████| 50/50 [00:15<00:00,  3.26it/s]\n",
      "100%|██████████| 50/50 [00:15<00:00,  3.27it/s]\n",
      "100%|██████████| 50/50 [00:15<00:00,  3.30it/s]\n",
      "100%|██████████| 50/50 [00:14<00:00,  3.35it/s]\n",
      "100%|██████████| 50/50 [00:14<00:00,  3.38it/s]\n",
      "100%|██████████| 50/50 [00:14<00:00,  3.43it/s]\n",
      "100%|██████████| 50/50 [00:14<00:00,  3.47it/s]\n",
      "100%|██████████| 50/50 [00:14<00:00,  3.50it/s]\n",
      "100%|██████████| 50/50 [00:14<00:00,  3.53it/s]\n",
      "100%|██████████| 50/50 [00:13<00:00,  3.60it/s]\n",
      "100%|██████████| 50/50 [00:13<00:00,  3.64it/s]\n",
      "100%|██████████| 50/50 [00:13<00:00,  3.68it/s]\n",
      "100%|██████████| 50/50 [00:13<00:00,  3.74it/s]\n",
      "100%|██████████| 50/50 [00:13<00:00,  3.76it/s]\n",
      "100%|██████████| 50/50 [00:13<00:00,  3.81it/s]\n",
      "100%|██████████| 50/50 [00:12<00:00,  3.87it/s]\n",
      "100%|██████████| 50/50 [00:12<00:00,  3.92it/s]\n",
      "100%|██████████| 50/50 [00:12<00:00,  3.94it/s]\n",
      "100%|██████████| 50/50 [00:12<00:00,  4.02it/s]\n",
      "100%|██████████| 50/50 [00:12<00:00,  4.06it/s]\n",
      "100%|██████████| 50/50 [00:12<00:00,  4.11it/s]\n",
      "100%|██████████| 50/50 [00:11<00:00,  4.18it/s]\n",
      "100%|██████████| 50/50 [00:11<00:00,  4.22it/s]\n",
      "100%|██████████| 50/50 [00:11<00:00,  4.28it/s]\n",
      "100%|██████████| 50/50 [00:11<00:00,  4.34it/s]\n",
      "100%|██████████| 50/50 [00:11<00:00,  4.41it/s]\n",
      "100%|██████████| 50/50 [00:11<00:00,  4.48it/s]\n",
      "100%|██████████| 50/50 [00:10<00:00,  4.56it/s]\n",
      "100%|██████████| 50/50 [00:10<00:00,  4.62it/s]\n",
      "100%|██████████| 50/50 [00:10<00:00,  4.70it/s]\n",
      "100%|██████████| 50/50 [00:10<00:00,  4.77it/s]\n",
      "100%|██████████| 50/50 [00:10<00:00,  4.85it/s]\n",
      "100%|██████████| 50/50 [00:10<00:00,  4.91it/s]\n"
     ]
    },
    {
     "data": {
      "text/plain": [
       "1912.6949224472046"
      ]
     },
     "execution_count": 174,
     "metadata": {},
     "output_type": "execute_result"
    }
   ],
   "source": [
    "t1= time.time()\n",
    "ttt = 160\n",
    "_mse = []\n",
    "_mae = []\n",
    "b = _zero.train_mean\n",
    "for i in range(100):\n",
    "    a = Method(b,ttt)\n",
    "    a.FT()\n",
    "    _mse.append(a.mse)\n",
    "    _mae.append(a.mae)\n",
    "    ttt -= 1\n",
    "    b = a.FT_result\n",
    "t2 = time.time()\n",
    "t2-t1"
   ]
  },
  {
   "cell_type": "code",
   "execution_count": 175,
   "id": "0790d903-f891-4599-9737-1d2b4d3aa91b",
   "metadata": {},
   "outputs": [],
   "source": [
    "mean_mse100 = pd.DataFrame(_mse)"
   ]
  },
  {
   "cell_type": "code",
   "execution_count": null,
   "id": "299c65bd-8c03-4105-925f-f91e10f90ba2",
   "metadata": {},
   "outputs": [],
   "source": [
    "plt.plot(mean_mse100.T)"
   ]
  },
  {
   "cell_type": "code",
   "execution_count": 190,
   "id": "5b038497-a1c2-4762-8580-68f169d7e370",
   "metadata": {},
   "outputs": [
    {
     "data": {
      "text/plain": [
       "[<matplotlib.lines.Line2D at 0x7f76d44f1f70>]"
      ]
     },
     "execution_count": 190,
     "metadata": {},
     "output_type": "execute_result"
    },
    {
     "data": {
      "image/png": "[encoded data removed]",
      "text/plain": [
       "<Figure size 432x288 with 1 Axes>"
      ]
     },
     "metadata": {
      "needs_background": "light"
     },
     "output_type": "display_data"
    }
   ],
   "source": [
    "plt.plot(mean_mse100[0])"
   ]
  },
  {
   "cell_type": "code",
   "execution_count": 176,
   "id": "fceee48a-4926-4c0f-a858-f86e71622f05",
   "metadata": {},
   "outputs": [],
   "source": [
    "mean_mae100 = pd.DataFrame(_mae)"
   ]
  },
  {
   "cell_type": "code",
   "execution_count": null,
   "id": "4c01406e-836b-4c28-9fa8-df6a83bbed14",
   "metadata": {},
   "outputs": [],
   "source": [
    "plt.plot(mean_mae100.T)"
   ]
  },
  {
   "cell_type": "markdown",
   "id": "f1870df4-64dc-4a4f-84ca-0dc4197f2038",
   "metadata": {},
   "source": [
    "## linear"
   ]
  },
  {
   "cell_type": "code",
   "execution_count": 177,
   "id": "d4efff56-383e-4eb3-9333-3110ae5c83f7",
   "metadata": {},
   "outputs": [
    {
     "name": "stderr",
     "output_type": "stream",
     "text": [
      "100%|██████████| 50/50 [00:27<00:00,  1.85it/s]\n",
      "100%|██████████| 50/50 [00:26<00:00,  1.87it/s]\n",
      "100%|██████████| 50/50 [00:26<00:00,  1.87it/s]\n",
      "100%|██████████| 50/50 [00:26<00:00,  1.89it/s]\n",
      "100%|██████████| 50/50 [00:26<00:00,  1.92it/s]\n",
      "100%|██████████| 50/50 [00:26<00:00,  1.91it/s]\n",
      "100%|██████████| 50/50 [00:26<00:00,  1.92it/s]\n",
      "100%|██████████| 50/50 [00:25<00:00,  1.95it/s]\n",
      "100%|██████████| 50/50 [00:25<00:00,  1.97it/s]\n",
      "100%|██████████| 50/50 [00:25<00:00,  1.97it/s]\n",
      "100%|██████████| 50/50 [00:25<00:00,  1.98it/s]\n",
      "100%|██████████| 50/50 [00:25<00:00,  1.99it/s]\n",
      "100%|██████████| 50/50 [00:24<00:00,  2.01it/s]\n",
      "100%|██████████| 50/50 [00:24<00:00,  2.02it/s]\n",
      "100%|██████████| 50/50 [00:24<00:00,  2.02it/s]\n",
      "100%|██████████| 50/50 [00:24<00:00,  2.05it/s]\n",
      "100%|██████████| 50/50 [00:24<00:00,  2.07it/s]\n",
      "100%|██████████| 50/50 [00:24<00:00,  2.07it/s]\n",
      "100%|██████████| 50/50 [00:23<00:00,  2.09it/s]\n",
      "100%|██████████| 50/50 [00:23<00:00,  2.11it/s]\n",
      "100%|██████████| 50/50 [00:23<00:00,  2.13it/s]\n",
      "100%|██████████| 50/50 [00:23<00:00,  2.16it/s]\n",
      "100%|██████████| 50/50 [00:23<00:00,  2.16it/s]\n",
      "100%|██████████| 50/50 [00:23<00:00,  2.17it/s]\n",
      "100%|██████████| 50/50 [00:22<00:00,  2.19it/s]\n",
      "100%|██████████| 50/50 [00:22<00:00,  2.20it/s]\n",
      "100%|██████████| 50/50 [00:22<00:00,  2.21it/s]\n",
      "100%|██████████| 50/50 [00:22<00:00,  2.24it/s]\n",
      "100%|██████████| 50/50 [00:22<00:00,  2.26it/s]\n",
      "100%|██████████| 50/50 [00:22<00:00,  2.27it/s]\n",
      "100%|██████████| 50/50 [00:21<00:00,  2.29it/s]\n",
      "100%|██████████| 50/50 [00:21<00:00,  2.32it/s]\n",
      "100%|██████████| 50/50 [00:21<00:00,  2.33it/s]\n",
      "100%|██████████| 50/50 [00:21<00:00,  2.35it/s]\n",
      "100%|██████████| 50/50 [00:21<00:00,  2.37it/s]\n",
      "100%|██████████| 50/50 [00:20<00:00,  2.38it/s]\n",
      "100%|██████████| 50/50 [00:20<00:00,  2.40it/s]\n",
      "100%|██████████| 50/50 [00:20<00:00,  2.44it/s]\n",
      "100%|██████████| 50/50 [00:20<00:00,  2.45it/s]\n",
      "100%|██████████| 50/50 [00:20<00:00,  2.45it/s]\n",
      "100%|██████████| 50/50 [00:19<00:00,  2.50it/s]\n",
      "100%|██████████| 50/50 [00:19<00:00,  2.51it/s]\n",
      "100%|██████████| 50/50 [00:19<00:00,  2.53it/s]\n",
      "100%|██████████| 50/50 [00:19<00:00,  2.56it/s]\n",
      "100%|██████████| 50/50 [00:19<00:00,  2.58it/s]\n",
      "100%|██████████| 50/50 [00:19<00:00,  2.62it/s]\n",
      "100%|██████████| 50/50 [00:18<00:00,  2.64it/s]\n",
      "100%|██████████| 50/50 [00:18<00:00,  2.65it/s]\n",
      "100%|██████████| 50/50 [00:18<00:00,  2.70it/s]\n",
      "100%|██████████| 50/50 [00:18<00:00,  2.72it/s]\n",
      "100%|██████████| 50/50 [00:18<00:00,  2.72it/s]\n",
      "100%|██████████| 50/50 [00:18<00:00,  2.76it/s]\n",
      "100%|██████████| 50/50 [00:18<00:00,  2.78it/s]\n",
      "100%|██████████| 50/50 [00:17<00:00,  2.80it/s]\n",
      "100%|██████████| 50/50 [00:17<00:00,  2.83it/s]\n",
      "100%|██████████| 50/50 [00:17<00:00,  2.85it/s]\n",
      "100%|██████████| 50/50 [00:17<00:00,  2.87it/s]\n",
      "100%|██████████| 50/50 [00:17<00:00,  2.92it/s]\n",
      "100%|██████████| 50/50 [00:17<00:00,  2.92it/s]\n",
      "100%|██████████| 50/50 [00:16<00:00,  2.95it/s]\n",
      "100%|██████████| 50/50 [00:16<00:00,  2.98it/s]\n",
      "100%|██████████| 50/50 [00:16<00:00,  3.01it/s]\n",
      "100%|██████████| 50/50 [00:16<00:00,  3.03it/s]\n",
      "100%|██████████| 50/50 [00:16<00:00,  3.07it/s]\n",
      "100%|██████████| 50/50 [00:16<00:00,  3.10it/s]\n",
      "100%|██████████| 50/50 [00:15<00:00,  3.14it/s]\n",
      "100%|██████████| 50/50 [00:15<00:00,  3.17it/s]\n",
      "100%|██████████| 50/50 [00:15<00:00,  3.20it/s]\n",
      "100%|██████████| 50/50 [00:15<00:00,  3.23it/s]\n",
      "100%|██████████| 50/50 [00:15<00:00,  3.26it/s]\n",
      "100%|██████████| 50/50 [00:14<00:00,  3.35it/s]\n",
      "100%|██████████| 50/50 [00:14<00:00,  3.40it/s]\n",
      "100%|██████████| 50/50 [00:14<00:00,  3.43it/s]\n",
      "100%|██████████| 50/50 [00:14<00:00,  3.48it/s]\n",
      "100%|██████████| 50/50 [00:14<00:00,  3.52it/s]\n",
      "100%|██████████| 50/50 [00:14<00:00,  3.56it/s]\n",
      "100%|██████████| 50/50 [00:14<00:00,  3.52it/s]\n",
      "100%|██████████| 50/50 [00:13<00:00,  3.60it/s]\n",
      "100%|██████████| 50/50 [00:13<00:00,  3.64it/s]\n",
      "100%|██████████| 50/50 [00:13<00:00,  3.70it/s]\n",
      "100%|██████████| 50/50 [00:13<00:00,  3.74it/s]\n",
      "100%|██████████| 50/50 [00:13<00:00,  3.80it/s]\n",
      "100%|██████████| 50/50 [00:13<00:00,  3.84it/s]\n",
      "100%|██████████| 50/50 [00:12<00:00,  3.89it/s]\n",
      "100%|██████████| 50/50 [00:12<00:00,  3.94it/s]\n",
      "100%|██████████| 50/50 [00:12<00:00,  3.99it/s]\n",
      "100%|██████████| 50/50 [00:12<00:00,  4.04it/s]\n",
      "100%|██████████| 50/50 [00:12<00:00,  4.09it/s]\n",
      "100%|██████████| 50/50 [00:12<00:00,  4.15it/s]\n",
      "100%|██████████| 50/50 [00:11<00:00,  4.22it/s]\n",
      "100%|██████████| 50/50 [00:11<00:00,  4.27it/s]\n",
      "100%|██████████| 50/50 [00:11<00:00,  4.34it/s]\n",
      "100%|██████████| 50/50 [00:11<00:00,  4.38it/s]\n",
      "100%|██████████| 50/50 [00:11<00:00,  4.47it/s]\n",
      "100%|██████████| 50/50 [00:11<00:00,  4.54it/s]\n",
      "100%|██████████| 50/50 [00:10<00:00,  4.61it/s]\n",
      "100%|██████████| 50/50 [00:10<00:00,  4.67it/s]\n",
      "100%|██████████| 50/50 [00:10<00:00,  4.77it/s]\n",
      "100%|██████████| 50/50 [00:10<00:00,  4.85it/s]\n",
      "100%|██████████| 50/50 [00:10<00:00,  4.91it/s]\n"
     ]
    },
    {
     "data": {
      "text/plain": [
       "1914.069603919983"
      ]
     },
     "execution_count": 177,
     "metadata": {},
     "output_type": "execute_result"
    }
   ],
   "source": [
    "t1= time.time()\n",
    "ttt = 160\n",
    "_mse = []\n",
    "_mae = []\n",
    "b = _zero.train_linear\n",
    "for i in range(100):\n",
    "    a = Method(b,ttt)\n",
    "    a.FT()\n",
    "    _mse.append(a.mse)\n",
    "    _mae.append(a.mae)\n",
    "    ttt -= 1\n",
    "    b = a.FT_result\n",
    "t2 = time.time()\n",
    "t2-t1"
   ]
  },
  {
   "cell_type": "code",
   "execution_count": 178,
   "id": "5709f25c-e8d8-4217-87e7-f6d02d0a181e",
   "metadata": {},
   "outputs": [],
   "source": [
    "linear_mse100 = pd.DataFrame(_mse)"
   ]
  },
  {
   "cell_type": "code",
   "execution_count": null,
   "id": "8b0e8baf-f80f-4ff4-9dc6-c6434f94f260",
   "metadata": {},
   "outputs": [],
   "source": [
    "plt.plot(linear_mse100.T)"
   ]
  },
  {
   "cell_type": "code",
   "execution_count": 192,
   "id": "ec13898f-7dc1-409a-a196-4bd635c0aa67",
   "metadata": {},
   "outputs": [
    {
     "data": {
      "text/plain": [
       "[<matplotlib.lines.Line2D at 0x7f76d444f460>]"
      ]
     },
     "execution_count": 192,
     "metadata": {},
     "output_type": "execute_result"
    },
    {
     "data": {
      "image/png": "[encoded data removed]",
      "text/plain": [
       "<Figure size 432x288 with 1 Axes>"
      ]
     },
     "metadata": {
      "needs_background": "light"
     },
     "output_type": "display_data"
    }
   ],
   "source": [
    "plt.plot(linear_mse100[0])"
   ]
  },
  {
   "cell_type": "code",
   "execution_count": 179,
   "id": "84970250-25c6-48fb-91cf-e517ec884e40",
   "metadata": {},
   "outputs": [],
   "source": [
    "linear_mae100 = pd.DataFrame(_mae)"
   ]
  },
  {
   "cell_type": "code",
   "execution_count": null,
   "id": "e4a620ba-49f2-4300-9238-9a3f91eb87fd",
   "metadata": {},
   "outputs": [],
   "source": [
    "plt.plot(linear_mae100.T)"
   ]
  },
  {
   "cell_type": "markdown",
   "id": "2790e66b-6342-4aec-b47a-50a2048d2e66",
   "metadata": {},
   "source": [
    "# missing 40%, 100번 반복"
   ]
  },
  {
   "cell_type": "markdown",
   "id": "d0d82523-b894-4e9a-868e-864f7cd65748",
   "metadata": {},
   "source": [
    "## mean"
   ]
  },
  {
   "cell_type": "code",
   "execution_count": 180,
   "id": "46166e3e-672e-4c39-a8db-bbf7258b9f44",
   "metadata": {},
   "outputs": [
    {
     "name": "stderr",
     "output_type": "stream",
     "text": [
      "100%|██████████| 50/50 [00:26<00:00,  1.85it/s]\n",
      "100%|██████████| 50/50 [00:26<00:00,  1.86it/s]\n",
      "100%|██████████| 50/50 [00:26<00:00,  1.87it/s]\n",
      "100%|██████████| 50/50 [00:26<00:00,  1.90it/s]\n",
      "100%|██████████| 50/50 [00:26<00:00,  1.91it/s]\n",
      "100%|██████████| 50/50 [00:25<00:00,  1.92it/s]\n",
      "100%|██████████| 50/50 [00:25<00:00,  1.95it/s]\n",
      "100%|██████████| 50/50 [00:25<00:00,  1.96it/s]\n",
      "100%|██████████| 50/50 [00:25<00:00,  1.97it/s]\n",
      "100%|██████████| 50/50 [00:25<00:00,  1.97it/s]\n",
      "100%|██████████| 50/50 [00:25<00:00,  1.98it/s]\n",
      "100%|██████████| 50/50 [00:25<00:00,  1.98it/s]\n",
      "100%|██████████| 50/50 [00:25<00:00,  2.00it/s]\n",
      "100%|██████████| 50/50 [00:24<00:00,  2.01it/s]\n",
      "100%|██████████| 50/50 [00:24<00:00,  2.02it/s]\n",
      "100%|██████████| 50/50 [00:24<00:00,  2.05it/s]\n",
      "100%|██████████| 50/50 [00:24<00:00,  2.06it/s]\n",
      "100%|██████████| 50/50 [00:24<00:00,  2.07it/s]\n",
      "100%|██████████| 50/50 [00:23<00:00,  2.09it/s]\n",
      "100%|██████████| 50/50 [00:23<00:00,  2.11it/s]\n",
      "100%|██████████| 50/50 [00:23<00:00,  2.12it/s]\n",
      "100%|██████████| 50/50 [00:23<00:00,  2.14it/s]\n",
      "100%|██████████| 50/50 [00:23<00:00,  2.16it/s]\n",
      "100%|██████████| 50/50 [00:22<00:00,  2.20it/s]\n",
      "100%|██████████| 50/50 [00:22<00:00,  2.20it/s]\n",
      "100%|██████████| 50/50 [00:22<00:00,  2.20it/s]\n",
      "100%|██████████| 50/50 [00:22<00:00,  2.22it/s]\n",
      "100%|██████████| 50/50 [00:22<00:00,  2.24it/s]\n",
      "100%|██████████| 50/50 [00:22<00:00,  2.26it/s]\n",
      "100%|██████████| 50/50 [00:22<00:00,  2.27it/s]\n",
      "100%|██████████| 50/50 [00:21<00:00,  2.31it/s]\n",
      "100%|██████████| 50/50 [00:21<00:00,  2.34it/s]\n",
      "100%|██████████| 50/50 [00:21<00:00,  2.36it/s]\n",
      "100%|██████████| 50/50 [00:21<00:00,  2.33it/s]\n",
      "100%|██████████| 50/50 [00:21<00:00,  2.37it/s]\n",
      "100%|██████████| 50/50 [00:20<00:00,  2.39it/s]\n",
      "100%|██████████| 50/50 [00:20<00:00,  2.43it/s]\n",
      "100%|██████████| 50/50 [00:20<00:00,  2.42it/s]\n",
      "100%|██████████| 50/50 [00:20<00:00,  2.44it/s]\n",
      "100%|██████████| 50/50 [00:20<00:00,  2.46it/s]\n",
      "100%|██████████| 50/50 [00:20<00:00,  2.48it/s]\n",
      "100%|██████████| 50/50 [00:19<00:00,  2.50it/s]\n",
      "100%|██████████| 50/50 [00:19<00:00,  2.54it/s]\n",
      "100%|██████████| 50/50 [00:19<00:00,  2.57it/s]\n",
      "100%|██████████| 50/50 [00:19<00:00,  2.59it/s]\n",
      "100%|██████████| 50/50 [00:19<00:00,  2.62it/s]\n",
      "100%|██████████| 50/50 [00:18<00:00,  2.64it/s]\n",
      "100%|██████████| 50/50 [00:18<00:00,  2.66it/s]\n",
      "100%|██████████| 50/50 [00:18<00:00,  2.68it/s]\n",
      "100%|██████████| 50/50 [00:18<00:00,  2.72it/s]\n",
      "100%|██████████| 50/50 [00:18<00:00,  2.74it/s]\n",
      "100%|██████████| 50/50 [00:18<00:00,  2.77it/s]\n",
      "100%|██████████| 50/50 [00:17<00:00,  2.78it/s]\n",
      "100%|██████████| 50/50 [00:17<00:00,  2.81it/s]\n",
      "100%|██████████| 50/50 [00:17<00:00,  2.84it/s]\n",
      "100%|██████████| 50/50 [00:17<00:00,  2.87it/s]\n",
      "100%|██████████| 50/50 [00:17<00:00,  2.89it/s]\n",
      "100%|██████████| 50/50 [00:17<00:00,  2.93it/s]\n",
      "100%|██████████| 50/50 [00:16<00:00,  2.94it/s]\n",
      "100%|██████████| 50/50 [00:16<00:00,  2.97it/s]\n",
      "100%|██████████| 50/50 [00:16<00:00,  2.98it/s]\n",
      "100%|██████████| 50/50 [00:16<00:00,  3.04it/s]\n",
      "100%|██████████| 50/50 [00:16<00:00,  3.07it/s]\n",
      "100%|██████████| 50/50 [00:16<00:00,  3.09it/s]\n",
      "100%|██████████| 50/50 [00:15<00:00,  3.15it/s]\n",
      "100%|██████████| 50/50 [00:15<00:00,  3.17it/s]\n",
      "100%|██████████| 50/50 [00:15<00:00,  3.20it/s]\n",
      "100%|██████████| 50/50 [00:15<00:00,  3.24it/s]\n",
      "100%|██████████| 50/50 [00:15<00:00,  3.27it/s]\n",
      "100%|██████████| 50/50 [00:15<00:00,  3.31it/s]\n",
      "100%|██████████| 50/50 [00:14<00:00,  3.35it/s]\n",
      "100%|██████████| 50/50 [00:14<00:00,  3.38it/s]\n",
      "100%|██████████| 50/50 [00:14<00:00,  3.44it/s]\n",
      "100%|██████████| 50/50 [00:14<00:00,  3.47it/s]\n",
      "100%|██████████| 50/50 [00:14<00:00,  3.51it/s]\n",
      "100%|██████████| 50/50 [00:14<00:00,  3.55it/s]\n",
      "100%|██████████| 50/50 [00:13<00:00,  3.60it/s]\n",
      "100%|██████████| 50/50 [00:13<00:00,  3.63it/s]\n",
      "100%|██████████| 50/50 [00:13<00:00,  3.69it/s]\n",
      "100%|██████████| 50/50 [00:13<00:00,  3.74it/s]\n",
      "100%|██████████| 50/50 [00:13<00:00,  3.77it/s]\n",
      "100%|██████████| 50/50 [00:13<00:00,  3.83it/s]\n",
      "100%|██████████| 50/50 [00:12<00:00,  3.86it/s]\n",
      "100%|██████████| 50/50 [00:12<00:00,  3.91it/s]\n",
      "100%|██████████| 50/50 [00:12<00:00,  3.99it/s]\n",
      "100%|██████████| 50/50 [00:12<00:00,  4.04it/s]\n",
      "100%|██████████| 50/50 [00:12<00:00,  4.08it/s]\n",
      "100%|██████████| 50/50 [00:12<00:00,  4.13it/s]\n",
      "100%|██████████| 50/50 [00:11<00:00,  4.21it/s]\n",
      "100%|██████████| 50/50 [00:11<00:00,  4.27it/s]\n",
      "100%|██████████| 50/50 [00:11<00:00,  4.33it/s]\n",
      "100%|██████████| 50/50 [00:11<00:00,  4.40it/s]\n",
      "100%|██████████| 50/50 [00:11<00:00,  4.46it/s]\n",
      "100%|██████████| 50/50 [00:11<00:00,  4.52it/s]\n",
      "100%|██████████| 50/50 [00:10<00:00,  4.61it/s]\n",
      "100%|██████████| 50/50 [00:10<00:00,  4.67it/s]\n",
      "100%|██████████| 50/50 [00:10<00:00,  4.73it/s]\n",
      "100%|██████████| 50/50 [00:10<00:00,  4.83it/s]\n",
      "100%|██████████| 50/50 [00:10<00:00,  4.89it/s]\n",
      "100%|██████████| 50/50 [00:10<00:00,  4.97it/s]\n"
     ]
    },
    {
     "data": {
      "text/plain": [
       "1907.6452867984772"
      ]
     },
     "execution_count": 180,
     "metadata": {},
     "output_type": "execute_result"
    }
   ],
   "source": [
    "t1= time.time()\n",
    "ttt = 160\n",
    "_mse = []\n",
    "_mae = []\n",
    "b = __zero.train_mean\n",
    "for i in range(100):\n",
    "    a = Method(b,ttt)\n",
    "    a.FT()\n",
    "    _mse.append(a.mse)\n",
    "    _mae.append(a.mae)\n",
    "    ttt -= 1\n",
    "    b = a.FT_result\n",
    "t2 = time.time()\n",
    "t2-t1"
   ]
  },
  {
   "cell_type": "code",
   "execution_count": 181,
   "id": "3c3f3607-2e4a-479a-aff6-9799dce28d50",
   "metadata": {},
   "outputs": [],
   "source": [
    "mean_mse100_40 = pd.DataFrame(_mse)"
   ]
  },
  {
   "cell_type": "code",
   "execution_count": null,
   "id": "3b71d4cb-d17e-4f60-b47c-803e308f6a93",
   "metadata": {},
   "outputs": [],
   "source": [
    "plt.plot(mean_mse100_40.T)"
   ]
  },
  {
   "cell_type": "code",
   "execution_count": 193,
   "id": "551445dc-f1dc-4df3-a549-6dc2e6be2033",
   "metadata": {},
   "outputs": [
    {
     "data": {
      "text/plain": [
       "[<matplotlib.lines.Line2D at 0x7f76ded7cb80>]"
      ]
     },
     "execution_count": 193,
     "metadata": {},
     "output_type": "execute_result"
    },
    {
     "data": {
      "image/png": "[encoded data removed]",
      "text/plain": [
       "<Figure size 432x288 with 1 Axes>"
      ]
     },
     "metadata": {
      "needs_background": "light"
     },
     "output_type": "display_data"
    }
   ],
   "source": [
    "plt.plot(mean_mse100_40[0])"
   ]
  },
  {
   "cell_type": "code",
   "execution_count": 182,
   "id": "71a2855d-780e-4b56-9d85-e291c3c0e936",
   "metadata": {},
   "outputs": [],
   "source": [
    "mean_mae100_40 = pd.DataFrame(_mae)"
   ]
  },
  {
   "cell_type": "code",
   "execution_count": null,
   "id": "17ac0460-7ab1-4a83-9b47-e8863b06b97b",
   "metadata": {},
   "outputs": [],
   "source": [
    "plt.plot(mean_mae100_40.T)"
   ]
  },
  {
   "cell_type": "markdown",
   "id": "d95b56a8-47f1-4158-8d3a-7a3ae6991118",
   "metadata": {},
   "source": [
    "## linear"
   ]
  },
  {
   "cell_type": "code",
   "execution_count": 183,
   "id": "efae3be9-f096-4fcf-8bee-235b01a1c8a5",
   "metadata": {},
   "outputs": [
    {
     "name": "stderr",
     "output_type": "stream",
     "text": [
      "100%|██████████| 50/50 [00:26<00:00,  1.85it/s]\n",
      "100%|██████████| 50/50 [00:26<00:00,  1.89it/s]\n",
      "100%|██████████| 50/50 [00:26<00:00,  1.88it/s]\n",
      "100%|██████████| 50/50 [00:26<00:00,  1.89it/s]\n",
      "100%|██████████| 50/50 [00:26<00:00,  1.92it/s]\n",
      "100%|██████████| 50/50 [00:25<00:00,  1.93it/s]\n",
      "100%|██████████| 50/50 [00:25<00:00,  1.93it/s]\n",
      "100%|██████████| 50/50 [00:25<00:00,  1.94it/s]\n",
      "100%|██████████| 50/50 [00:25<00:00,  1.94it/s]\n",
      "100%|██████████| 50/50 [00:25<00:00,  1.98it/s]\n",
      "100%|██████████| 50/50 [00:25<00:00,  1.97it/s]\n",
      "100%|██████████| 50/50 [00:25<00:00,  1.97it/s]\n",
      "100%|██████████| 50/50 [00:24<00:00,  2.03it/s]\n",
      "100%|██████████| 50/50 [00:24<00:00,  2.03it/s]\n",
      "100%|██████████| 50/50 [00:24<00:00,  2.04it/s]\n",
      "100%|██████████| 50/50 [00:24<00:00,  2.06it/s]\n",
      "100%|██████████| 50/50 [00:24<00:00,  2.06it/s]\n",
      "100%|██████████| 50/50 [00:23<00:00,  2.09it/s]\n",
      "100%|██████████| 50/50 [00:23<00:00,  2.12it/s]\n",
      "100%|██████████| 50/50 [00:23<00:00,  2.12it/s]\n",
      "100%|██████████| 50/50 [00:23<00:00,  2.14it/s]\n",
      "100%|██████████| 50/50 [00:23<00:00,  2.16it/s]\n",
      "100%|██████████| 50/50 [00:23<00:00,  2.16it/s]\n",
      "100%|██████████| 50/50 [00:22<00:00,  2.18it/s]\n",
      "100%|██████████| 50/50 [00:22<00:00,  2.21it/s]\n",
      "100%|██████████| 50/50 [00:22<00:00,  2.22it/s]\n",
      "100%|██████████| 50/50 [00:22<00:00,  2.23it/s]\n",
      "100%|██████████| 50/50 [00:22<00:00,  2.27it/s]\n",
      "100%|██████████| 50/50 [00:21<00:00,  2.28it/s]\n",
      "100%|██████████| 50/50 [00:21<00:00,  2.29it/s]\n",
      "100%|██████████| 50/50 [00:21<00:00,  2.32it/s]\n",
      "100%|██████████| 50/50 [00:21<00:00,  2.34it/s]\n",
      "100%|██████████| 50/50 [00:21<00:00,  2.32it/s]\n",
      "100%|██████████| 50/50 [00:21<00:00,  2.37it/s]\n",
      "100%|██████████| 50/50 [00:21<00:00,  2.37it/s]\n",
      "100%|██████████| 50/50 [00:20<00:00,  2.38it/s]\n",
      "100%|██████████| 50/50 [00:20<00:00,  2.41it/s]\n",
      "100%|██████████| 50/50 [00:20<00:00,  2.42it/s]\n",
      "100%|██████████| 50/50 [00:20<00:00,  2.42it/s]\n",
      "100%|██████████| 50/50 [00:20<00:00,  2.45it/s]\n",
      "100%|██████████| 50/50 [00:20<00:00,  2.47it/s]\n",
      "100%|██████████| 50/50 [00:20<00:00,  2.50it/s]\n",
      "100%|██████████| 50/50 [00:19<00:00,  2.53it/s]\n",
      "100%|██████████| 50/50 [00:19<00:00,  2.55it/s]\n",
      "100%|██████████| 50/50 [00:19<00:00,  2.57it/s]\n",
      "100%|██████████| 50/50 [00:19<00:00,  2.61it/s]\n",
      "100%|██████████| 50/50 [00:19<00:00,  2.62it/s]\n",
      "100%|██████████| 50/50 [00:18<00:00,  2.65it/s]\n",
      "100%|██████████| 50/50 [00:18<00:00,  2.68it/s]\n",
      "100%|██████████| 50/50 [00:18<00:00,  2.71it/s]\n",
      "100%|██████████| 50/50 [00:18<00:00,  2.72it/s]\n",
      "100%|██████████| 50/50 [00:18<00:00,  2.76it/s]\n",
      "100%|██████████| 50/50 [00:17<00:00,  2.78it/s]\n",
      "100%|██████████| 50/50 [00:17<00:00,  2.80it/s]\n",
      "100%|██████████| 50/50 [00:17<00:00,  2.83it/s]\n",
      "100%|██████████| 50/50 [00:17<00:00,  2.86it/s]\n",
      "100%|██████████| 50/50 [00:17<00:00,  2.89it/s]\n",
      "100%|██████████| 50/50 [00:17<00:00,  2.91it/s]\n",
      "100%|██████████| 50/50 [00:16<00:00,  2.95it/s]\n",
      "100%|██████████| 50/50 [00:16<00:00,  2.98it/s]\n",
      "100%|██████████| 50/50 [00:16<00:00,  3.00it/s]\n",
      "100%|██████████| 50/50 [00:16<00:00,  3.04it/s]\n",
      "100%|██████████| 50/50 [00:16<00:00,  3.07it/s]\n",
      "100%|██████████| 50/50 [00:16<00:00,  3.11it/s]\n",
      "100%|██████████| 50/50 [00:15<00:00,  3.14it/s]\n",
      "100%|██████████| 50/50 [00:15<00:00,  3.16it/s]\n",
      "100%|██████████| 50/50 [00:15<00:00,  3.20it/s]\n",
      "100%|██████████| 50/50 [00:15<00:00,  3.23it/s]\n",
      "100%|██████████| 50/50 [00:15<00:00,  3.26it/s]\n",
      "100%|██████████| 50/50 [00:15<00:00,  3.31it/s]\n",
      "100%|██████████| 50/50 [00:14<00:00,  3.34it/s]\n",
      "100%|██████████| 50/50 [00:14<00:00,  3.38it/s]\n",
      "100%|██████████| 50/50 [00:14<00:00,  3.42it/s]\n",
      "100%|██████████| 50/50 [00:14<00:00,  3.46it/s]\n",
      "100%|██████████| 50/50 [00:14<00:00,  3.49it/s]\n",
      "100%|██████████| 50/50 [00:14<00:00,  3.55it/s]\n",
      "100%|██████████| 50/50 [00:13<00:00,  3.58it/s]\n",
      "100%|██████████| 50/50 [00:13<00:00,  3.63it/s]\n",
      "100%|██████████| 50/50 [00:13<00:00,  3.68it/s]\n",
      "100%|██████████| 50/50 [00:13<00:00,  3.70it/s]\n",
      "100%|██████████| 50/50 [00:13<00:00,  3.74it/s]\n",
      "100%|██████████| 50/50 [00:13<00:00,  3.80it/s]\n",
      "100%|██████████| 50/50 [00:13<00:00,  3.84it/s]\n",
      "100%|██████████| 50/50 [00:12<00:00,  3.91it/s]\n",
      "100%|██████████| 50/50 [00:12<00:00,  3.95it/s]\n",
      "100%|██████████| 50/50 [00:12<00:00,  4.02it/s]\n",
      "100%|██████████| 50/50 [00:12<00:00,  4.07it/s]\n",
      "100%|██████████| 50/50 [00:12<00:00,  4.12it/s]\n",
      "100%|██████████| 50/50 [00:11<00:00,  4.19it/s]\n",
      "100%|██████████| 50/50 [00:11<00:00,  4.25it/s]\n",
      "100%|██████████| 50/50 [00:11<00:00,  4.29it/s]\n",
      "100%|██████████| 50/50 [00:11<00:00,  4.39it/s]\n",
      "100%|██████████| 50/50 [00:11<00:00,  4.44it/s]\n",
      "100%|██████████| 50/50 [00:11<00:00,  4.49it/s]\n",
      "100%|██████████| 50/50 [00:10<00:00,  4.59it/s]\n",
      "100%|██████████| 50/50 [00:10<00:00,  4.65it/s]\n",
      "100%|██████████| 50/50 [00:10<00:00,  4.73it/s]\n",
      "100%|██████████| 50/50 [00:10<00:00,  4.80it/s]\n",
      "100%|██████████| 50/50 [00:10<00:00,  4.86it/s]\n",
      "100%|██████████| 50/50 [00:10<00:00,  4.96it/s]\n"
     ]
    },
    {
     "data": {
      "text/plain": [
       "1908.033264875412"
      ]
     },
     "execution_count": 183,
     "metadata": {},
     "output_type": "execute_result"
    }
   ],
   "source": [
    "t1= time.time()\n",
    "ttt = 160\n",
    "_mse = []\n",
    "_mae = []\n",
    "b = __zero.train_linear\n",
    "for i in range(100):\n",
    "    a = Method(b,ttt)\n",
    "    a.FT()\n",
    "    _mse.append(a.mse)\n",
    "    _mae.append(a.mae)\n",
    "    ttt -= 1\n",
    "    b = a.FT_result\n",
    "t2 = time.time()\n",
    "t2-t1"
   ]
  },
  {
   "cell_type": "code",
   "execution_count": 184,
   "id": "6c23ee59-bef1-4f95-909a-1f838d8a9fd6",
   "metadata": {},
   "outputs": [],
   "source": [
    "linear_mse100_40 = pd.DataFrame(_mse)"
   ]
  },
  {
   "cell_type": "code",
   "execution_count": null,
   "id": "c7942355-9341-428c-ae3e-52949d920bf2",
   "metadata": {},
   "outputs": [],
   "source": [
    "plt.plot(linear_mse100_40.T)"
   ]
  },
  {
   "cell_type": "code",
   "execution_count": 194,
   "id": "727d8c78-50bf-4c64-8669-6ea2e9c4c774",
   "metadata": {},
   "outputs": [
    {
     "data": {
      "text/plain": [
       "[<matplotlib.lines.Line2D at 0x7f773a363640>]"
      ]
     },
     "execution_count": 194,
     "metadata": {},
     "output_type": "execute_result"
    },
    {
     "data": {
      "image/png": "[encoded data removed]",
      "text/plain": [
       "<Figure size 432x288 with 1 Axes>"
      ]
     },
     "metadata": {
      "needs_background": "light"
     },
     "output_type": "display_data"
    }
   ],
   "source": [
    "plt.plot(linear_mse100_40[0])"
   ]
  },
  {
   "cell_type": "code",
   "execution_count": 185,
   "id": "ee36e4cf-8263-49d2-a8e2-0349acc25711",
   "metadata": {},
   "outputs": [],
   "source": [
    "linear_mae100_40 = pd.DataFrame(_mae)"
   ]
  },
  {
   "cell_type": "code",
   "execution_count": null,
   "id": "042989ea-2dde-47e0-9e1b-3569badcbc2a",
   "metadata": {},
   "outputs": [],
   "source": [
    "plt.plot(linear_mae100_40.T)"
   ]
  },
  {
   "cell_type": "markdown",
   "id": "d5f1fbdd-c9cb-41ce-9fbf-4a6ee7c32a08",
   "metadata": {},
   "source": [
    "# missing 70%, 100번 반복"
   ]
  },
  {
   "cell_type": "markdown",
   "id": "59e2f37f-67b0-4c37-a675-cc77d6308a20",
   "metadata": {},
   "source": [
    "## mean"
   ]
  },
  {
   "cell_type": "code",
   "execution_count": null,
   "id": "de27e7db-578c-439d-b4a3-cc5aed332009",
   "metadata": {},
   "outputs": [],
   "source": [
    "t1= time.time()\n",
    "ttt = 160\n",
    "_mse = []\n",
    "_mae = []\n",
    "b = ____zero.train_mean\n",
    "for i in range(100):\n",
    "    a = Method(b,ttt)\n",
    "    a.FT()\n",
    "    _mse.append(a.mse)\n",
    "    _mae.append(a.mae)\n",
    "    ttt -= 1\n",
    "    b = a.FT_result\n",
    "t2 = time.time()\n",
    "t2-t1"
   ]
  },
  {
   "cell_type": "code",
   "execution_count": null,
   "id": "3672f719-9b84-4fa4-bc83-cc2be4cb4f88",
   "metadata": {},
   "outputs": [],
   "source": [
    "mean_mse100_70 = pd.DataFrame(_mse)"
   ]
  },
  {
   "cell_type": "code",
   "execution_count": null,
   "id": "e7ba4016-09dc-42b6-b4d9-3d74d1f23bcc",
   "metadata": {},
   "outputs": [],
   "source": [
    "mean_mae100_70 = pd.DataFrame(_mae)"
   ]
  },
  {
   "cell_type": "markdown",
   "id": "4d00275a-2a53-4a0e-a2d6-127a1fb36ad7",
   "metadata": {},
   "source": [
    "## linear"
   ]
  },
  {
   "cell_type": "code",
   "execution_count": null,
   "id": "c7902e0e-1030-4558-9210-8800692fd29d",
   "metadata": {},
   "outputs": [],
   "source": [
    "t1= time.time()\n",
    "ttt = 160\n",
    "_mse = []\n",
    "_mae = []\n",
    "b = ____zero.train_linear\n",
    "for i in range(100):\n",
    "    a = Method(b,ttt)\n",
    "    a.FT()\n",
    "    _mse.append(a.mse)\n",
    "    _mae.append(a.mae)\n",
    "    ttt -= 1\n",
    "    b = a.FT_result\n",
    "t2 = time.time()\n",
    "t2-t1"
   ]
  },
  {
   "cell_type": "code",
   "execution_count": null,
   "id": "49625dce-d3dd-4dfe-9416-a53e5f6400ea",
   "metadata": {},
   "outputs": [],
   "source": [
    "linear_mse100_70 = pd.DataFrame(_mse)"
   ]
  },
  {
   "cell_type": "code",
   "execution_count": null,
   "id": "a4bc83d9-8388-4800-ad24-5b4e83e164db",
   "metadata": {},
   "outputs": [],
   "source": [
    "linear_mae100_70 = pd.DataFrame(_mae)"
   ]
  },
  {
   "cell_type": "code",
   "execution_count": null,
   "id": "26d41a11-13ba-496a-8727-fe622db9a1b4",
   "metadata": {},
   "outputs": [],
   "source": []
  }
 ],
 "metadata": {
  "kernelspec": {
   "display_name": "Python 3 (ipykernel)",
   "language": "python",
   "name": "python3"
  },
  "language_info": {
   "codemirror_mode": {
    "name": "ipython",
    "version": 3
   },
   "file_extension": ".py",
   "mimetype": "text/x-python",
   "name": "python",
   "nbconvert_exporter": "python",
   "pygments_lexer": "ipython3",
   "version": "3.8.12"
  }
 },
 "nbformat": 4,
 "nbformat_minor": 5
}

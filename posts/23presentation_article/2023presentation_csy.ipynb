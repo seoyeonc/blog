{
 "cells": [
  {
   "cell_type": "raw",
   "id": "f8e0294c-740a-4a98-8a04-08b5cc173243",
   "metadata": {},
   "source": [
    "---\n",
    "title: \"Iterative Threshold Spatio Temporal Graph Convolution Network\"\n",
    "bibliography: ref.bib\n",
    "subtitle: \"A method for spatiotemporal data\"\n",
    "author: \"Seoyeon Choi\"\n",
    "title-block-style: default\n",
    "title-block-banner: true\n",
    "format:\n",
    "  revealjs:\n",
    "    chalkboard: true\n",
    "    slide-number: true\n",
    "    suppress-bibliography: true\n",
    "#    theme: simple.scss\n",
    "    code-fold: true\n",
    "---"
   ]
  },
  {
   "cell_type": "markdown",
   "id": "66966902",
   "metadata": {},
   "source": [
    "# Contents \n",
    "\n",
    "- Previous work\n",
    "- Motivation \n",
    "- Related studies\n",
    "- Proposed method\n",
    "- Real data analysis\n"
   ]
  },
  {
   "cell_type": "markdown",
   "id": "1f8d7ee5-e667-44c0-a930-e987cbe751b2",
   "metadata": {
    "tags": []
   },
   "source": [
    "# Previous work\n",
    "\n",
    "## GODE\n",
    "\n",
    "- Graph fourier transform based Outlier Detection using Ebayesthresh (GODE) is a method for detecting outliers in non-Euclidean data."
   ]
  },
  {
   "cell_type": "markdown",
   "id": "f1ce9647-fc6f-4be5-9542-f8375f0b2496",
   "metadata": {
    "tags": []
   },
   "source": [
    "## GODE\n",
    "\n",
    "\n",
    "::: {.panel-tabset}\n",
    "\n",
    "### Step1 \n",
    "\n",
    "`1`. \n",
    "\n",
    "- From the graph signal $({\\cal V}, {\\cal E}, {\\boldsymbol f})$ define the (normalized) Graph Laplacian \n",
    "\n",
    "$${\\bf L}={\\bf I}-{\\bf D}^{-1/2}({\\bf D}-{\\bf W}){\\bf D}^{-1/2}$$ \n",
    "\n",
    "where ${\\bf D}$ is degree matrix.\n",
    "\n",
    "- Check ${\\bf L}$ satisfies the conditions for GSO\n",
    "\n",
    "### Step2\n",
    "\n",
    "`2`. \n",
    "\n",
    "- Decompose the Graph Laplacian ${\\bf L}$ into\n",
    "\n",
    "$${\\bf L}={\\bf V}{\\boldsymbol \\Lambda}{\\bf V}^H$$ \n",
    "\n",
    "and get the GFT of ${\\boldsymbol f}$, i.e., calculate ${\\bf V}^H{\\boldsymbol f}$. \n",
    "\n",
    "- Find periodogram of $({\\cal V},{\\cal E}, {\\boldsymbol f})$, i.e., $\\frac{1}{N}\\sum_{i=1}^{N}\\|{\\bf V}^H{\\boldsymbol f}\\|^2.$\n",
    "\n",
    "### Step2\n",
    "\n",
    "`2`. Estimate the underlying function $\\widehat{\\boldsymbol f}$\n",
    "\n",
    "- From $\\hat{F}(\\omega)$ estimate $\\hat{F}_s(\\omega)$ using ${\\tt Ebayesthresh}$. \n",
    "- Apply inverse graph Fourier transform on $\\hat{F}_s(\\omega)$. \n",
    "\n",
    "### Step3\n",
    "\n",
    "`3`. Get anomalousness score:\n",
    "\n",
    "- Calculate ${\\boldsymbol a} = \\|{\\boldsymbol f}-\\widehat{\\boldsymbol f}\\|_2^2$. \n",
    "\n",
    ":::"
   ]
  },
  {
   "cell_type": "markdown",
   "id": "87df1580-cf8a-43f1-9611-997f2abe2ad4",
   "metadata": {
    "tags": []
   },
   "source": [
    "## GODE\n",
    "\n",
    "![Fig1: Embedding results with three different distances.](fig_previous_figure.png)"
   ]
  },
  {
   "cell_type": "code",
   "execution_count": null,
   "id": "bb493c52-7d5d-4209-a727-d900813b0bcc",
   "metadata": {},
   "outputs": [],
   "source": [
    "## Slide Title {background-color=\"aquamarine\"}"
   ]
  },
  {
   "cell_type": "markdown",
   "id": "322ce155-3223-44b8-bb72-5b0b6f58440c",
   "metadata": {
    "tags": []
   },
   "source": [
    "## GODE"
   ]
  },
  {
   "cell_type": "code",
   "execution_count": 1,
   "id": "e6834661-0c7f-410f-80ed-772c54844189",
   "metadata": {},
   "outputs": [],
   "source": [
    "import numpy as np\n",
    "import pandas as pd\n",
    "import matplotlib.pyplot as plt"
   ]
  },
  {
   "cell_type": "code",
   "execution_count": 2,
   "id": "2c8e8383-e271-4c61-a60d-1adec5f4fe55",
   "metadata": {},
   "outputs": [],
   "source": [
    "df =pd.DataFrame(np.array([[0.988 , 0.988 , 1.000 , 0.994],\n",
    "[0.871 , 0.962 , 0.900 , 0.930],\n",
    "[0.950 , 1.000 , 0.947 , 0.973],\n",
    "[0.972 , 0.985 , 0.985 , 0.985],\n",
    "[0.940 , 0.994 , 0.942 , 0.968],\n",
    "[0.950 , 1.000 , 0.947 , 0.973],\n",
    "[0.950 , 1.000 , 0.947 , 0.973],\n",
    "[0.988 , 0.994 , 0.994 , 0.994],\n",
    "[0.889 , 1.000 , 0.883 , 0.938],\n",
    "[0.960 , 0.978 , 0.980 , 0.979],\n",
    "[0.960 , 0.978 , 0.980 , 0.979],\n",
    "[0.895 , 0.969 , 0.919 , 0.943],\n",
    "[0.896 , 0.970 , 0.919 , 0.944],\n",
    "[0.950 , 1.000 , 0.947 , 0.973]]))"
   ]
  },
  {
   "cell_type": "code",
   "execution_count": 3,
   "id": "6fcd5691-fd7e-42d4-9672-0592e514b612",
   "metadata": {},
   "outputs": [],
   "source": [
    "methods=[\"GODE\",\"LOF\",\"kNN\",\"CBLOF\",\"OCSVM\",\"MCD\",\"Feature Bagging\",\"ABOD\",\"Isolation Forest\",\"HBOS\",\"SOS\",\"SO-GAAL\",\"MO-GAAL\",\"LSCP\"]"
   ]
  },
  {
   "cell_type": "code",
   "execution_count": 4,
   "id": "481b0474-a661-4e0e-82b3-bd397d272c53",
   "metadata": {},
   "outputs": [],
   "source": [
    "df.columns = pd.Index(['ACC','PRE','REC','F1'])\n",
    "df.index = pd.Index(methods)"
   ]
  },
  {
   "cell_type": "code",
   "execution_count": 7,
   "id": "fede8b68-454d-4f68-9824-7238503c1e9d",
   "metadata": {},
   "outputs": [
    {
     "data": {
      "application/vnd.plotly.v1+json": {
       "config": {
        "plotlyServerURL": "https://plot.ly"
       },
       "data": [
        {
         "alignmentgroup": "True",
         "hovertemplate": "variable=ACC<br>index=%{x}<br>value=%{y}<extra></extra>",
         "legendgroup": "ACC",
         "marker": {
          "color": "#636efa",
          "pattern": {
           "shape": ""
          }
         },
         "name": "ACC",
         "offsetgroup": "ACC",
         "orientation": "v",
         "showlegend": true,
         "textposition": "auto",
         "type": "bar",
         "x": [
          "GODE",
          "LOF",
          "kNN",
          "CBLOF",
          "OCSVM",
          "MCD",
          "Feature Bagging",
          "ABOD",
          "Isolation Forest",
          "HBOS",
          "SOS",
          "SO-GAAL",
          "MO-GAAL",
          "LSCP"
         ],
         "xaxis": "x",
         "y": [
          0.988,
          0.871,
          0.95,
          0.972,
          0.94,
          0.95,
          0.95,
          0.988,
          0.889,
          0.96,
          0.96,
          0.895,
          0.896,
          0.95
         ],
         "yaxis": "y"
        },
        {
         "alignmentgroup": "True",
         "hovertemplate": "variable=REC<br>index=%{x}<br>value=%{y}<extra></extra>",
         "legendgroup": "REC",
         "marker": {
          "color": "#EF553B",
          "pattern": {
           "shape": ""
          }
         },
         "name": "REC",
         "offsetgroup": "REC",
         "orientation": "v",
         "showlegend": true,
         "textposition": "auto",
         "type": "bar",
         "x": [
          "GODE",
          "LOF",
          "kNN",
          "CBLOF",
          "OCSVM",
          "MCD",
          "Feature Bagging",
          "ABOD",
          "Isolation Forest",
          "HBOS",
          "SOS",
          "SO-GAAL",
          "MO-GAAL",
          "LSCP"
         ],
         "xaxis": "x",
         "y": [
          1,
          0.9,
          0.947,
          0.985,
          0.942,
          0.947,
          0.947,
          0.994,
          0.883,
          0.98,
          0.98,
          0.919,
          0.919,
          0.947
         ],
         "yaxis": "y"
        },
        {
         "alignmentgroup": "True",
         "hovertemplate": "variable=PRE<br>index=%{x}<br>value=%{y}<extra></extra>",
         "legendgroup": "PRE",
         "marker": {
          "color": "#00cc96",
          "pattern": {
           "shape": ""
          }
         },
         "name": "PRE",
         "offsetgroup": "PRE",
         "orientation": "v",
         "showlegend": true,
         "textposition": "auto",
         "type": "bar",
         "x": [
          "GODE",
          "LOF",
          "kNN",
          "CBLOF",
          "OCSVM",
          "MCD",
          "Feature Bagging",
          "ABOD",
          "Isolation Forest",
          "HBOS",
          "SOS",
          "SO-GAAL",
          "MO-GAAL",
          "LSCP"
         ],
         "xaxis": "x",
         "y": [
          0.988,
          0.962,
          1,
          0.985,
          0.994,
          1,
          1,
          0.994,
          1,
          0.978,
          0.978,
          0.969,
          0.97,
          1
         ],
         "yaxis": "y"
        },
        {
         "alignmentgroup": "True",
         "hovertemplate": "variable=F1<br>index=%{x}<br>value=%{y}<extra></extra>",
         "legendgroup": "F1",
         "marker": {
          "color": "#ab63fa",
          "pattern": {
           "shape": ""
          }
         },
         "name": "F1",
         "offsetgroup": "F1",
         "orientation": "v",
         "showlegend": true,
         "textposition": "auto",
         "type": "bar",
         "x": [
          "GODE",
          "LOF",
          "kNN",
          "CBLOF",
          "OCSVM",
          "MCD",
          "Feature Bagging",
          "ABOD",
          "Isolation Forest",
          "HBOS",
          "SOS",
          "SO-GAAL",
          "MO-GAAL",
          "LSCP"
         ],
         "xaxis": "x",
         "y": [
          0.994,
          0.93,
          0.973,
          0.985,
          0.968,
          0.973,
          0.973,
          0.994,
          0.938,
          0.979,
          0.979,
          0.943,
          0.944,
          0.973
         ],
         "yaxis": "y"
        }
       ],
       "layout": {
        "autosize": true,
        "barmode": "relative",
        "legend": {
         "title": {
          "text": "variable"
         },
         "tracegroupgap": 0
        },
        "margin": {
         "t": 60
        },
        "template": {
         "data": {
          "bar": [
           {
            "error_x": {
             "color": "#2a3f5f"
            },
            "error_y": {
             "color": "#2a3f5f"
            },
            "marker": {
             "line": {
              "color": "#E5ECF6",
              "width": 0.5
             },
             "pattern": {
              "fillmode": "overlay",
              "size": 10,
              "solidity": 0.2
             }
            },
            "type": "bar"
           }
          ],
          "barpolar": [
           {
            "marker": {
             "line": {
              "color": "#E5ECF6",
              "width": 0.5
             },
             "pattern": {
              "fillmode": "overlay",
              "size": 10,
              "solidity": 0.2
             }
            },
            "type": "barpolar"
           }
          ],
          "carpet": [
           {
            "aaxis": {
             "endlinecolor": "#2a3f5f",
             "gridcolor": "white",
             "linecolor": "white",
             "minorgridcolor": "white",
             "startlinecolor": "#2a3f5f"
            },
            "baxis": {
             "endlinecolor": "#2a3f5f",
             "gridcolor": "white",
             "linecolor": "white",
             "minorgridcolor": "white",
             "startlinecolor": "#2a3f5f"
            },
            "type": "carpet"
           }
          ],
          "choropleth": [
           {
            "colorbar": {
             "outlinewidth": 0,
             "ticks": ""
            },
            "type": "choropleth"
           }
          ],
          "contour": [
           {
            "colorbar": {
             "outlinewidth": 0,
             "ticks": ""
            },
            "colorscale": [
             [
              0,
              "#0d0887"
             ],
             [
              0.1111111111111111,
              "#46039f"
             ],
             [
              0.2222222222222222,
              "#7201a8"
             ],
             [
              0.3333333333333333,
              "#9c179e"
             ],
             [
              0.4444444444444444,
              "#bd3786"
             ],
             [
              0.5555555555555556,
              "#d8576b"
             ],
             [
              0.6666666666666666,
              "#ed7953"
             ],
             [
              0.7777777777777778,
              "#fb9f3a"
             ],
             [
              0.8888888888888888,
              "#fdca26"
             ],
             [
              1,
              "#f0f921"
             ]
            ],
            "type": "contour"
           }
          ],
          "contourcarpet": [
           {
            "colorbar": {
             "outlinewidth": 0,
             "ticks": ""
            },
            "type": "contourcarpet"
           }
          ],
          "heatmap": [
           {
            "colorbar": {
             "outlinewidth": 0,
             "ticks": ""
            },
            "colorscale": [
             [
              0,
              "#0d0887"
             ],
             [
              0.1111111111111111,
              "#46039f"
             ],
             [
              0.2222222222222222,
              "#7201a8"
             ],
             [
              0.3333333333333333,
              "#9c179e"
             ],
             [
              0.4444444444444444,
              "#bd3786"
             ],
             [
              0.5555555555555556,
              "#d8576b"
             ],
             [
              0.6666666666666666,
              "#ed7953"
             ],
             [
              0.7777777777777778,
              "#fb9f3a"
             ],
             [
              0.8888888888888888,
              "#fdca26"
             ],
             [
              1,
              "#f0f921"
             ]
            ],
            "type": "heatmap"
           }
          ],
          "heatmapgl": [
           {
            "colorbar": {
             "outlinewidth": 0,
             "ticks": ""
            },
            "colorscale": [
             [
              0,
              "#0d0887"
             ],
             [
              0.1111111111111111,
              "#46039f"
             ],
             [
              0.2222222222222222,
              "#7201a8"
             ],
             [
              0.3333333333333333,
              "#9c179e"
             ],
             [
              0.4444444444444444,
              "#bd3786"
             ],
             [
              0.5555555555555556,
              "#d8576b"
             ],
             [
              0.6666666666666666,
              "#ed7953"
             ],
             [
              0.7777777777777778,
              "#fb9f3a"
             ],
             [
              0.8888888888888888,
              "#fdca26"
             ],
             [
              1,
              "#f0f921"
             ]
            ],
            "type": "heatmapgl"
           }
          ],
          "histogram": [
           {
            "marker": {
             "pattern": {
              "fillmode": "overlay",
              "size": 10,
              "solidity": 0.2
             }
            },
            "type": "histogram"
           }
          ],
          "histogram2d": [
           {
            "colorbar": {
             "outlinewidth": 0,
             "ticks": ""
            },
            "colorscale": [
             [
              0,
              "#0d0887"
             ],
             [
              0.1111111111111111,
              "#46039f"
             ],
             [
              0.2222222222222222,
              "#7201a8"
             ],
             [
              0.3333333333333333,
              "#9c179e"
             ],
             [
              0.4444444444444444,
              "#bd3786"
             ],
             [
              0.5555555555555556,
              "#d8576b"
             ],
             [
              0.6666666666666666,
              "#ed7953"
             ],
             [
              0.7777777777777778,
              "#fb9f3a"
             ],
             [
              0.8888888888888888,
              "#fdca26"
             ],
             [
              1,
              "#f0f921"
             ]
            ],
            "type": "histogram2d"
           }
          ],
          "histogram2dcontour": [
           {
            "colorbar": {
             "outlinewidth": 0,
             "ticks": ""
            },
            "colorscale": [
             [
              0,
              "#0d0887"
             ],
             [
              0.1111111111111111,
              "#46039f"
             ],
             [
              0.2222222222222222,
              "#7201a8"
             ],
             [
              0.3333333333333333,
              "#9c179e"
             ],
             [
              0.4444444444444444,
              "#bd3786"
             ],
             [
              0.5555555555555556,
              "#d8576b"
             ],
             [
              0.6666666666666666,
              "#ed7953"
             ],
             [
              0.7777777777777778,
              "#fb9f3a"
             ],
             [
              0.8888888888888888,
              "#fdca26"
             ],
             [
              1,
              "#f0f921"
             ]
            ],
            "type": "histogram2dcontour"
           }
          ],
          "mesh3d": [
           {
            "colorbar": {
             "outlinewidth": 0,
             "ticks": ""
            },
            "type": "mesh3d"
           }
          ],
          "parcoords": [
           {
            "line": {
             "colorbar": {
              "outlinewidth": 0,
              "ticks": ""
             }
            },
            "type": "parcoords"
           }
          ],
          "pie": [
           {
            "automargin": true,
            "type": "pie"
           }
          ],
          "scatter": [
           {
            "fillpattern": {
             "fillmode": "overlay",
             "size": 10,
             "solidity": 0.2
            },
            "type": "scatter"
           }
          ],
          "scatter3d": [
           {
            "line": {
             "colorbar": {
              "outlinewidth": 0,
              "ticks": ""
             }
            },
            "marker": {
             "colorbar": {
              "outlinewidth": 0,
              "ticks": ""
             }
            },
            "type": "scatter3d"
           }
          ],
          "scattercarpet": [
           {
            "marker": {
             "colorbar": {
              "outlinewidth": 0,
              "ticks": ""
             }
            },
            "type": "scattercarpet"
           }
          ],
          "scattergeo": [
           {
            "marker": {
             "colorbar": {
              "outlinewidth": 0,
              "ticks": ""
             }
            },
            "type": "scattergeo"
           }
          ],
          "scattergl": [
           {
            "marker": {
             "colorbar": {
              "outlinewidth": 0,
              "ticks": ""
             }
            },
            "type": "scattergl"
           }
          ],
          "scattermapbox": [
           {
            "marker": {
             "colorbar": {
              "outlinewidth": 0,
              "ticks": ""
             }
            },
            "type": "scattermapbox"
           }
          ],
          "scatterpolar": [
           {
            "marker": {
             "colorbar": {
              "outlinewidth": 0,
              "ticks": ""
             }
            },
            "type": "scatterpolar"
           }
          ],
          "scatterpolargl": [
           {
            "marker": {
             "colorbar": {
              "outlinewidth": 0,
              "ticks": ""
             }
            },
            "type": "scatterpolargl"
           }
          ],
          "scatterternary": [
           {
            "marker": {
             "colorbar": {
              "outlinewidth": 0,
              "ticks": ""
             }
            },
            "type": "scatterternary"
           }
          ],
          "surface": [
           {
            "colorbar": {
             "outlinewidth": 0,
             "ticks": ""
            },
            "colorscale": [
             [
              0,
              "#0d0887"
             ],
             [
              0.1111111111111111,
              "#46039f"
             ],
             [
              0.2222222222222222,
              "#7201a8"
             ],
             [
              0.3333333333333333,
              "#9c179e"
             ],
             [
              0.4444444444444444,
              "#bd3786"
             ],
             [
              0.5555555555555556,
              "#d8576b"
             ],
             [
              0.6666666666666666,
              "#ed7953"
             ],
             [
              0.7777777777777778,
              "#fb9f3a"
             ],
             [
              0.8888888888888888,
              "#fdca26"
             ],
             [
              1,
              "#f0f921"
             ]
            ],
            "type": "surface"
           }
          ],
          "table": [
           {
            "cells": {
             "fill": {
              "color": "#EBF0F8"
             },
             "line": {
              "color": "white"
             }
            },
            "header": {
             "fill": {
              "color": "#C8D4E3"
             },
             "line": {
              "color": "white"
             }
            },
            "type": "table"
           }
          ]
         },
         "layout": {
          "annotationdefaults": {
           "arrowcolor": "#2a3f5f",
           "arrowhead": 0,
           "arrowwidth": 1
          },
          "autotypenumbers": "strict",
          "coloraxis": {
           "colorbar": {
            "outlinewidth": 0,
            "ticks": ""
           }
          },
          "colorscale": {
           "diverging": [
            [
             0,
             "#8e0152"
            ],
            [
             0.1,
             "#c51b7d"
            ],
            [
             0.2,
             "#de77ae"
            ],
            [
             0.3,
             "#f1b6da"
            ],
            [
             0.4,
             "#fde0ef"
            ],
            [
             0.5,
             "#f7f7f7"
            ],
            [
             0.6,
             "#e6f5d0"
            ],
            [
             0.7,
             "#b8e186"
            ],
            [
             0.8,
             "#7fbc41"
            ],
            [
             0.9,
             "#4d9221"
            ],
            [
             1,
             "#276419"
            ]
           ],
           "sequential": [
            [
             0,
             "#0d0887"
            ],
            [
             0.1111111111111111,
             "#46039f"
            ],
            [
             0.2222222222222222,
             "#7201a8"
            ],
            [
             0.3333333333333333,
             "#9c179e"
            ],
            [
             0.4444444444444444,
             "#bd3786"
            ],
            [
             0.5555555555555556,
             "#d8576b"
            ],
            [
             0.6666666666666666,
             "#ed7953"
            ],
            [
             0.7777777777777778,
             "#fb9f3a"
            ],
            [
             0.8888888888888888,
             "#fdca26"
            ],
            [
             1,
             "#f0f921"
            ]
           ],
           "sequentialminus": [
            [
             0,
             "#0d0887"
            ],
            [
             0.1111111111111111,
             "#46039f"
            ],
            [
             0.2222222222222222,
             "#7201a8"
            ],
            [
             0.3333333333333333,
             "#9c179e"
            ],
            [
             0.4444444444444444,
             "#bd3786"
            ],
            [
             0.5555555555555556,
             "#d8576b"
            ],
            [
             0.6666666666666666,
             "#ed7953"
            ],
            [
             0.7777777777777778,
             "#fb9f3a"
            ],
            [
             0.8888888888888888,
             "#fdca26"
            ],
            [
             1,
             "#f0f921"
            ]
           ]
          },
          "colorway": [
           "#636efa",
           "#EF553B",
           "#00cc96",
           "#ab63fa",
           "#FFA15A",
           "#19d3f3",
           "#FF6692",
           "#B6E880",
           "#FF97FF",
           "#FECB52"
          ],
          "font": {
           "color": "#2a3f5f"
          },
          "geo": {
           "bgcolor": "white",
           "lakecolor": "white",
           "landcolor": "#E5ECF6",
           "showlakes": true,
           "showland": true,
           "subunitcolor": "white"
          },
          "hoverlabel": {
           "align": "left"
          },
          "hovermode": "closest",
          "mapbox": {
           "style": "light"
          },
          "paper_bgcolor": "white",
          "plot_bgcolor": "#E5ECF6",
          "polar": {
           "angularaxis": {
            "gridcolor": "white",
            "linecolor": "white",
            "ticks": ""
           },
           "bgcolor": "#E5ECF6",
           "radialaxis": {
            "gridcolor": "white",
            "linecolor": "white",
            "ticks": ""
           }
          },
          "scene": {
           "xaxis": {
            "backgroundcolor": "#E5ECF6",
            "gridcolor": "white",
            "gridwidth": 2,
            "linecolor": "white",
            "showbackground": true,
            "ticks": "",
            "zerolinecolor": "white"
           },
           "yaxis": {
            "backgroundcolor": "#E5ECF6",
            "gridcolor": "white",
            "gridwidth": 2,
            "linecolor": "white",
            "showbackground": true,
            "ticks": "",
            "zerolinecolor": "white"
           },
           "zaxis": {
            "backgroundcolor": "#E5ECF6",
            "gridcolor": "white",
            "gridwidth": 2,
            "linecolor": "white",
            "showbackground": true,
            "ticks": "",
            "zerolinecolor": "white"
           }
          },
          "shapedefaults": {
           "line": {
            "color": "#2a3f5f"
           }
          },
          "ternary": {
           "aaxis": {
            "gridcolor": "white",
            "linecolor": "white",
            "ticks": ""
           },
           "baxis": {
            "gridcolor": "white",
            "linecolor": "white",
            "ticks": ""
           },
           "bgcolor": "#E5ECF6",
           "caxis": {
            "gridcolor": "white",
            "linecolor": "white",
            "ticks": ""
           }
          },
          "title": {
           "x": 0.05
          },
          "xaxis": {
           "automargin": true,
           "gridcolor": "white",
           "linecolor": "white",
           "ticks": "",
           "title": {
            "standoff": 15
           },
           "zerolinecolor": "white",
           "zerolinewidth": 2
          },
          "yaxis": {
           "automargin": true,
           "gridcolor": "white",
           "linecolor": "white",
           "ticks": "",
           "title": {
            "standoff": 15
           },
           "zerolinecolor": "white",
           "zerolinewidth": 2
          }
         }
        },
        "xaxis": {
         "anchor": "y",
         "autorange": true,
         "domain": [
          0,
          1
         ],
         "range": [
          -0.5,
          13.5
         ],
         "title": {
          "text": "index"
         },
         "type": "category"
        },
        "yaxis": {
         "anchor": "x",
         "autorange": true,
         "domain": [
          0,
          1
         ],
         "range": [
          0,
          4.178947368421053
         ],
         "title": {
          "text": "value"
         },
         "type": "linear"
        }
       }
      },
      "text/html": [
       "<div>                            <div id=\"e55404ae-e3e0-4bc1-b6fd-f41cb2b18b8f\" class=\"plotly-graph-div\" style=\"height:525px; width:100%;\"></div>            <script type=\"text/javascript\">                require([\"plotly\"], function(Plotly) {                    window.PLOTLYENV=window.PLOTLYENV || {};                                    if (document.getElementById(\"e55404ae-e3e0-4bc1-b6fd-f41cb2b18b8f\")) {                    Plotly.newPlot(                        \"e55404ae-e3e0-4bc1-b6fd-f41cb2b18b8f\",                        [{\"alignmentgroup\":\"True\",\"hovertemplate\":\"variable=ACC<br>index=%{x}<br>value=%{y}<extra></extra>\",\"legendgroup\":\"ACC\",\"marker\":{\"color\":\"#636efa\",\"pattern\":{\"shape\":\"\"}},\"name\":\"ACC\",\"offsetgroup\":\"ACC\",\"orientation\":\"v\",\"showlegend\":true,\"textposition\":\"auto\",\"x\":[\"GODE\",\"LOF\",\"kNN\",\"CBLOF\",\"OCSVM\",\"MCD\",\"Feature Bagging\",\"ABOD\",\"Isolation Forest\",\"HBOS\",\"SOS\",\"SO-GAAL\",\"MO-GAAL\",\"LSCP\"],\"xaxis\":\"x\",\"y\":[0.988,0.871,0.95,0.972,0.94,0.95,0.95,0.988,0.889,0.96,0.96,0.895,0.896,0.95],\"yaxis\":\"y\",\"type\":\"bar\"},{\"alignmentgroup\":\"True\",\"hovertemplate\":\"variable=REC<br>index=%{x}<br>value=%{y}<extra></extra>\",\"legendgroup\":\"REC\",\"marker\":{\"color\":\"#EF553B\",\"pattern\":{\"shape\":\"\"}},\"name\":\"REC\",\"offsetgroup\":\"REC\",\"orientation\":\"v\",\"showlegend\":true,\"textposition\":\"auto\",\"x\":[\"GODE\",\"LOF\",\"kNN\",\"CBLOF\",\"OCSVM\",\"MCD\",\"Feature Bagging\",\"ABOD\",\"Isolation Forest\",\"HBOS\",\"SOS\",\"SO-GAAL\",\"MO-GAAL\",\"LSCP\"],\"xaxis\":\"x\",\"y\":[1.0,0.9,0.947,0.985,0.942,0.947,0.947,0.994,0.883,0.98,0.98,0.919,0.919,0.947],\"yaxis\":\"y\",\"type\":\"bar\"},{\"alignmentgroup\":\"True\",\"hovertemplate\":\"variable=PRE<br>index=%{x}<br>value=%{y}<extra></extra>\",\"legendgroup\":\"PRE\",\"marker\":{\"color\":\"#00cc96\",\"pattern\":{\"shape\":\"\"}},\"name\":\"PRE\",\"offsetgroup\":\"PRE\",\"orientation\":\"v\",\"showlegend\":true,\"textposition\":\"auto\",\"x\":[\"GODE\",\"LOF\",\"kNN\",\"CBLOF\",\"OCSVM\",\"MCD\",\"Feature Bagging\",\"ABOD\",\"Isolation Forest\",\"HBOS\",\"SOS\",\"SO-GAAL\",\"MO-GAAL\",\"LSCP\"],\"xaxis\":\"x\",\"y\":[0.988,0.962,1.0,0.985,0.994,1.0,1.0,0.994,1.0,0.978,0.978,0.969,0.97,1.0],\"yaxis\":\"y\",\"type\":\"bar\"},{\"alignmentgroup\":\"True\",\"hovertemplate\":\"variable=F1<br>index=%{x}<br>value=%{y}<extra></extra>\",\"legendgroup\":\"F1\",\"marker\":{\"color\":\"#ab63fa\",\"pattern\":{\"shape\":\"\"}},\"name\":\"F1\",\"offsetgroup\":\"F1\",\"orientation\":\"v\",\"showlegend\":true,\"textposition\":\"auto\",\"x\":[\"GODE\",\"LOF\",\"kNN\",\"CBLOF\",\"OCSVM\",\"MCD\",\"Feature Bagging\",\"ABOD\",\"Isolation Forest\",\"HBOS\",\"SOS\",\"SO-GAAL\",\"MO-GAAL\",\"LSCP\"],\"xaxis\":\"x\",\"y\":[0.994,0.93,0.973,0.985,0.968,0.973,0.973,0.994,0.938,0.979,0.979,0.943,0.944,0.973],\"yaxis\":\"y\",\"type\":\"bar\"}],                        {\"template\":{\"data\":{\"histogram2dcontour\":[{\"type\":\"histogram2dcontour\",\"colorbar\":{\"outlinewidth\":0,\"ticks\":\"\"},\"colorscale\":[[0.0,\"#0d0887\"],[0.1111111111111111,\"#46039f\"],[0.2222222222222222,\"#7201a8\"],[0.3333333333333333,\"#9c179e\"],[0.4444444444444444,\"#bd3786\"],[0.5555555555555556,\"#d8576b\"],[0.6666666666666666,\"#ed7953\"],[0.7777777777777778,\"#fb9f3a\"],[0.8888888888888888,\"#fdca26\"],[1.0,\"#f0f921\"]]}],\"choropleth\":[{\"type\":\"choropleth\",\"colorbar\":{\"outlinewidth\":0,\"ticks\":\"\"}}],\"histogram2d\":[{\"type\":\"histogram2d\",\"colorbar\":{\"outlinewidth\":0,\"ticks\":\"\"},\"colorscale\":[[0.0,\"#0d0887\"],[0.1111111111111111,\"#46039f\"],[0.2222222222222222,\"#7201a8\"],[0.3333333333333333,\"#9c179e\"],[0.4444444444444444,\"#bd3786\"],[0.5555555555555556,\"#d8576b\"],[0.6666666666666666,\"#ed7953\"],[0.7777777777777778,\"#fb9f3a\"],[0.8888888888888888,\"#fdca26\"],[1.0,\"#f0f921\"]]}],\"heatmap\":[{\"type\":\"heatmap\",\"colorbar\":{\"outlinewidth\":0,\"ticks\":\"\"},\"colorscale\":[[0.0,\"#0d0887\"],[0.1111111111111111,\"#46039f\"],[0.2222222222222222,\"#7201a8\"],[0.3333333333333333,\"#9c179e\"],[0.4444444444444444,\"#bd3786\"],[0.5555555555555556,\"#d8576b\"],[0.6666666666666666,\"#ed7953\"],[0.7777777777777778,\"#fb9f3a\"],[0.8888888888888888,\"#fdca26\"],[1.0,\"#f0f921\"]]}],\"heatmapgl\":[{\"type\":\"heatmapgl\",\"colorbar\":{\"outlinewidth\":0,\"ticks\":\"\"},\"colorscale\":[[0.0,\"#0d0887\"],[0.1111111111111111,\"#46039f\"],[0.2222222222222222,\"#7201a8\"],[0.3333333333333333,\"#9c179e\"],[0.4444444444444444,\"#bd3786\"],[0.5555555555555556,\"#d8576b\"],[0.6666666666666666,\"#ed7953\"],[0.7777777777777778,\"#fb9f3a\"],[0.8888888888888888,\"#fdca26\"],[1.0,\"#f0f921\"]]}],\"contourcarpet\":[{\"type\":\"contourcarpet\",\"colorbar\":{\"outlinewidth\":0,\"ticks\":\"\"}}],\"contour\":[{\"type\":\"contour\",\"colorbar\":{\"outlinewidth\":0,\"ticks\":\"\"},\"colorscale\":[[0.0,\"#0d0887\"],[0.1111111111111111,\"#46039f\"],[0.2222222222222222,\"#7201a8\"],[0.3333333333333333,\"#9c179e\"],[0.4444444444444444,\"#bd3786\"],[0.5555555555555556,\"#d8576b\"],[0.6666666666666666,\"#ed7953\"],[0.7777777777777778,\"#fb9f3a\"],[0.8888888888888888,\"#fdca26\"],[1.0,\"#f0f921\"]]}],\"surface\":[{\"type\":\"surface\",\"colorbar\":{\"outlinewidth\":0,\"ticks\":\"\"},\"colorscale\":[[0.0,\"#0d0887\"],[0.1111111111111111,\"#46039f\"],[0.2222222222222222,\"#7201a8\"],[0.3333333333333333,\"#9c179e\"],[0.4444444444444444,\"#bd3786\"],[0.5555555555555556,\"#d8576b\"],[0.6666666666666666,\"#ed7953\"],[0.7777777777777778,\"#fb9f3a\"],[0.8888888888888888,\"#fdca26\"],[1.0,\"#f0f921\"]]}],\"mesh3d\":[{\"type\":\"mesh3d\",\"colorbar\":{\"outlinewidth\":0,\"ticks\":\"\"}}],\"scatter\":[{\"fillpattern\":{\"fillmode\":\"overlay\",\"size\":10,\"solidity\":0.2},\"type\":\"scatter\"}],\"parcoords\":[{\"type\":\"parcoords\",\"line\":{\"colorbar\":{\"outlinewidth\":0,\"ticks\":\"\"}}}],\"scatterpolargl\":[{\"type\":\"scatterpolargl\",\"marker\":{\"colorbar\":{\"outlinewidth\":0,\"ticks\":\"\"}}}],\"bar\":[{\"error_x\":{\"color\":\"#2a3f5f\"},\"error_y\":{\"color\":\"#2a3f5f\"},\"marker\":{\"line\":{\"color\":\"#E5ECF6\",\"width\":0.5},\"pattern\":{\"fillmode\":\"overlay\",\"size\":10,\"solidity\":0.2}},\"type\":\"bar\"}],\"scattergeo\":[{\"type\":\"scattergeo\",\"marker\":{\"colorbar\":{\"outlinewidth\":0,\"ticks\":\"\"}}}],\"scatterpolar\":[{\"type\":\"scatterpolar\",\"marker\":{\"colorbar\":{\"outlinewidth\":0,\"ticks\":\"\"}}}],\"histogram\":[{\"marker\":{\"pattern\":{\"fillmode\":\"overlay\",\"size\":10,\"solidity\":0.2}},\"type\":\"histogram\"}],\"scattergl\":[{\"type\":\"scattergl\",\"marker\":{\"colorbar\":{\"outlinewidth\":0,\"ticks\":\"\"}}}],\"scatter3d\":[{\"type\":\"scatter3d\",\"line\":{\"colorbar\":{\"outlinewidth\":0,\"ticks\":\"\"}},\"marker\":{\"colorbar\":{\"outlinewidth\":0,\"ticks\":\"\"}}}],\"scattermapbox\":[{\"type\":\"scattermapbox\",\"marker\":{\"colorbar\":{\"outlinewidth\":0,\"ticks\":\"\"}}}],\"scatterternary\":[{\"type\":\"scatterternary\",\"marker\":{\"colorbar\":{\"outlinewidth\":0,\"ticks\":\"\"}}}],\"scattercarpet\":[{\"type\":\"scattercarpet\",\"marker\":{\"colorbar\":{\"outlinewidth\":0,\"ticks\":\"\"}}}],\"carpet\":[{\"aaxis\":{\"endlinecolor\":\"#2a3f5f\",\"gridcolor\":\"white\",\"linecolor\":\"white\",\"minorgridcolor\":\"white\",\"startlinecolor\":\"#2a3f5f\"},\"baxis\":{\"endlinecolor\":\"#2a3f5f\",\"gridcolor\":\"white\",\"linecolor\":\"white\",\"minorgridcolor\":\"white\",\"startlinecolor\":\"#2a3f5f\"},\"type\":\"carpet\"}],\"table\":[{\"cells\":{\"fill\":{\"color\":\"#EBF0F8\"},\"line\":{\"color\":\"white\"}},\"header\":{\"fill\":{\"color\":\"#C8D4E3\"},\"line\":{\"color\":\"white\"}},\"type\":\"table\"}],\"barpolar\":[{\"marker\":{\"line\":{\"color\":\"#E5ECF6\",\"width\":0.5},\"pattern\":{\"fillmode\":\"overlay\",\"size\":10,\"solidity\":0.2}},\"type\":\"barpolar\"}],\"pie\":[{\"automargin\":true,\"type\":\"pie\"}]},\"layout\":{\"autotypenumbers\":\"strict\",\"colorway\":[\"#636efa\",\"#EF553B\",\"#00cc96\",\"#ab63fa\",\"#FFA15A\",\"#19d3f3\",\"#FF6692\",\"#B6E880\",\"#FF97FF\",\"#FECB52\"],\"font\":{\"color\":\"#2a3f5f\"},\"hovermode\":\"closest\",\"hoverlabel\":{\"align\":\"left\"},\"paper_bgcolor\":\"white\",\"plot_bgcolor\":\"#E5ECF6\",\"polar\":{\"bgcolor\":\"#E5ECF6\",\"angularaxis\":{\"gridcolor\":\"white\",\"linecolor\":\"white\",\"ticks\":\"\"},\"radialaxis\":{\"gridcolor\":\"white\",\"linecolor\":\"white\",\"ticks\":\"\"}},\"ternary\":{\"bgcolor\":\"#E5ECF6\",\"aaxis\":{\"gridcolor\":\"white\",\"linecolor\":\"white\",\"ticks\":\"\"},\"baxis\":{\"gridcolor\":\"white\",\"linecolor\":\"white\",\"ticks\":\"\"},\"caxis\":{\"gridcolor\":\"white\",\"linecolor\":\"white\",\"ticks\":\"\"}},\"coloraxis\":{\"colorbar\":{\"outlinewidth\":0,\"ticks\":\"\"}},\"colorscale\":{\"sequential\":[[0.0,\"#0d0887\"],[0.1111111111111111,\"#46039f\"],[0.2222222222222222,\"#7201a8\"],[0.3333333333333333,\"#9c179e\"],[0.4444444444444444,\"#bd3786\"],[0.5555555555555556,\"#d8576b\"],[0.6666666666666666,\"#ed7953\"],[0.7777777777777778,\"#fb9f3a\"],[0.8888888888888888,\"#fdca26\"],[1.0,\"#f0f921\"]],\"sequentialminus\":[[0.0,\"#0d0887\"],[0.1111111111111111,\"#46039f\"],[0.2222222222222222,\"#7201a8\"],[0.3333333333333333,\"#9c179e\"],[0.4444444444444444,\"#bd3786\"],[0.5555555555555556,\"#d8576b\"],[0.6666666666666666,\"#ed7953\"],[0.7777777777777778,\"#fb9f3a\"],[0.8888888888888888,\"#fdca26\"],[1.0,\"#f0f921\"]],\"diverging\":[[0,\"#8e0152\"],[0.1,\"#c51b7d\"],[0.2,\"#de77ae\"],[0.3,\"#f1b6da\"],[0.4,\"#fde0ef\"],[0.5,\"#f7f7f7\"],[0.6,\"#e6f5d0\"],[0.7,\"#b8e186\"],[0.8,\"#7fbc41\"],[0.9,\"#4d9221\"],[1,\"#276419\"]]},\"xaxis\":{\"gridcolor\":\"white\",\"linecolor\":\"white\",\"ticks\":\"\",\"title\":{\"standoff\":15},\"zerolinecolor\":\"white\",\"automargin\":true,\"zerolinewidth\":2},\"yaxis\":{\"gridcolor\":\"white\",\"linecolor\":\"white\",\"ticks\":\"\",\"title\":{\"standoff\":15},\"zerolinecolor\":\"white\",\"automargin\":true,\"zerolinewidth\":2},\"scene\":{\"xaxis\":{\"backgroundcolor\":\"#E5ECF6\",\"gridcolor\":\"white\",\"linecolor\":\"white\",\"showbackground\":true,\"ticks\":\"\",\"zerolinecolor\":\"white\",\"gridwidth\":2},\"yaxis\":{\"backgroundcolor\":\"#E5ECF6\",\"gridcolor\":\"white\",\"linecolor\":\"white\",\"showbackground\":true,\"ticks\":\"\",\"zerolinecolor\":\"white\",\"gridwidth\":2},\"zaxis\":{\"backgroundcolor\":\"#E5ECF6\",\"gridcolor\":\"white\",\"linecolor\":\"white\",\"showbackground\":true,\"ticks\":\"\",\"zerolinecolor\":\"white\",\"gridwidth\":2}},\"shapedefaults\":{\"line\":{\"color\":\"#2a3f5f\"}},\"annotationdefaults\":{\"arrowcolor\":\"#2a3f5f\",\"arrowhead\":0,\"arrowwidth\":1},\"geo\":{\"bgcolor\":\"white\",\"landcolor\":\"#E5ECF6\",\"subunitcolor\":\"white\",\"showland\":true,\"showlakes\":true,\"lakecolor\":\"white\"},\"title\":{\"x\":0.05},\"mapbox\":{\"style\":\"light\"}}},\"xaxis\":{\"anchor\":\"y\",\"domain\":[0.0,1.0],\"title\":{\"text\":\"index\"}},\"yaxis\":{\"anchor\":\"x\",\"domain\":[0.0,1.0],\"title\":{\"text\":\"value\"}},\"legend\":{\"title\":{\"text\":\"variable\"},\"tracegroupgap\":0},\"margin\":{\"t\":60},\"barmode\":\"relative\"},                        {\"responsive\": true}                    ).then(function(){\n",
       "                            \n",
       "var gd = document.getElementById('e55404ae-e3e0-4bc1-b6fd-f41cb2b18b8f');\n",
       "var x = new MutationObserver(function (mutations, observer) {{\n",
       "        var display = window.getComputedStyle(gd).display;\n",
       "        if (!display || display === 'none') {{\n",
       "            console.log([gd, 'removed!']);\n",
       "            Plotly.purge(gd);\n",
       "            observer.disconnect();\n",
       "        }}\n",
       "}});\n",
       "\n",
       "// Listen for the removal of the full notebook cells\n",
       "var notebookContainer = gd.closest('#notebook-container');\n",
       "if (notebookContainer) {{\n",
       "    x.observe(notebookContainer, {childList: true});\n",
       "}}\n",
       "\n",
       "// Listen for the clearing of the current output cell\n",
       "var outputEl = gd.closest('.output');\n",
       "if (outputEl) {{\n",
       "    x.observe(outputEl, {childList: true});\n",
       "}}\n",
       "\n",
       "                        })                };                });            </script>        </div>"
      ]
     },
     "metadata": {},
     "output_type": "display_data"
    }
   ],
   "source": [
    "df.plot.bar(backend='plotly',y=['ACC','REC','PRE','F1'])"
   ]
  },
  {
   "cell_type": "markdown",
   "id": "e864e868-e9d7-4a4c-a9d0-2681a42fddd3",
   "metadata": {},
   "source": [
    "## Previous work{.scrollable}\n",
    "\n",
    "| Simple Linear/Orbit/Stanford Bunny         | ${\\tt ACC}$ | ${\\tt PRE}$ | ${\\tt REC}$ | ${\\tt F_1}$ || ${\\tt ACC}$ | ${\\tt PRE}$ | ${\\tt REC}$ | ${\\tt F_1}$ || ${\\tt ACC}$ | ${\\tt PRE}$ | ${\\tt REC}$ | ${\\tt F_1}$ |\n",
    "|:-------------------------------------------|:-----:|:-----:|:-----:|:-----:|:-----:|:-----:|:-----:|:-----:|:-----:|:-----:|:-----:|:-----:|:-----:|:-----:|\n",
    "| GODE                                       | 0.988 | 0.988 | 1.000 | 0.994 |       | 0.997 | 0.997 | 1.000 | 0.998 |       | 0.995 | 0.995 | 0.999 | 0.997 |\n",
    "| LOF [@breunig2000lof]                      | 0.871 | 0.962 | 0.900 | 0.930 |       | 0.886 | 0.987 | 0.892 | 0.937 |       | 0.928 | 0.957 | 0.869 | 0.963 |\n",
    "| kNN [@ramaswamy2000efficient]              | 0.950 | 1.000 | 0.947 | 0.973 |       | 0.948 | 0.999 | 0.946 | 0.972 |       | 0.940 | 0.996 | 0.941 | 0.968 |\n",
    "| CBLOF [@he2003discovering]                 | 0.972 | 0.985 | 0.985 | 0.985 |       | 0.918 | 0.957 | 0.957 | 0.957 |       | 0.978 | 0.989 | 0.987 | 0.988 |\n",
    "| OCSVM [@manevitz2001one]                   | 0.940 | 0.994 | 0.942 | 0.968 |       | 0.923 | 0.988 | 0.931 | 0.958 |       | 0.932 | 0.991 | 0.937 | 0.963 |\n",
    "| MCD [@hardin2004outlier]                   | 0.950 | 1.000 | 0.947 | 0.973 |       | 0.866 | 0.953 | 0.903 | 0.928 |       | 0.935 | 0.993 | 0.938 | 0.965 |\n",
    "| Feature Bagging [@lazarevic2005feature]    | 0.950 | 1.000 | 0.947 | 0.973 |       | 0.912 | 0.979 | 0.927 | 0.952 |       | 0.915 | 0.982 | 0.928 | 0.965 |\n",
    "| ABOD [@kriegel2008angle]                   | 0.988 | 0.994 | 0.994 | 0.994 |       | 0.988 | 0.994 | 0.994 | 0.994 |       | 0.977 | 0.989 | 0.987 | 0.988 |\n",
    "| Isolation Forest [@liu2008isolation]       | 0.889 | 1.000 | 0.883 | 0.938 |       | 0.378 | 0.997 | 0.346 | 0.514 |       | 0.794 | 0.995 | 0.788 | 0.879 |\n",
    "| HBOS [@goldstein2012histogram]             | 0.960 | 0.978 | 0.980 | 0.979 |       | 0.881 | 0.961 | 0.912 | 0.936 |       | 0.895 | 0.969 | 0.919 | 0.944 |\n",
    "| SOS [@janssens2012stochastic]              | 0.960 | 0.978 | 0.980 | 0.979 |       | 0.881 | 0.961 | 0.912 | 0.936 |       | 0.895 | 0.969 | 0.919 | 0.944 |\n",
    "| SO-GAAL [@liu2019generative]               | 0.895 | 0.969 | 0.919 | 0.943 |       | 0.876 | 0.959 | 0.908 | 0.933 |       | 0.952 | 0.952 | 1.000 | 0.975 |\n",
    "| MO-GAAL [@liu2019generative]               | 0.896 | 0.970 | 0.919 | 0.944 |       | 0.950 | 0.950 | 1.000 | 0.974 |       | 0.952 | 0.952 | 1.000 | 0.975 |\n",
    "| LSCP [@zhao2019lscp]                       | 0.950 | 1.000 | 0.947 | 0.973 |       | 0.948 | 0.999 | 0.946 | 0.972 |       | 0.940 | 0.996 | 0.941 | 0.967 |\n",
    "\n",
    ": Simulation Result {#tbl-previous_tb}\n",
    ": {tbl-colwidths=\"[15,15,15,15,15,15,15,15,15,15,15,15,15,15,15]\"}"
   ]
  },
  {
   "cell_type": "markdown",
   "id": "43f4ce4d-0f1a-4c6d-96f0-2abccb08751a",
   "metadata": {
    "tags": []
   },
   "source": [
    "## Previous work"
   ]
  },
  {
   "cell_type": "markdown",
   "id": "d4c74357-85b8-46e5-9de6-dc28fa85aa81",
   "metadata": {
    "tags": []
   },
   "source": [
    "### Real data Result\n",
    "\n",
    "![Fig2: Embedding results with three different distances.](fig_previous_figure_map.png)"
   ]
  },
  {
   "cell_type": "markdown",
   "id": "4c6e637c-d9eb-4a37-87db-11894e704ec6",
   "metadata": {},
   "source": [
    "## Motivation\n",
    "\n",
    "::: {.panel-tabset}\n",
    "\n",
    "### Spatiotemporal data\n",
    "\n",
    "- Spatiotemporal data is collected across space and time and describes a phenomenon in a specific location and time.\n",
    "\n",
    "### Example\n",
    "\n",
    "- The Sensors' of machines,  traffic data, and temporal data.\n",
    "- Neuroimaging data include brain activity, spatial location, and time of measurement, and web-search requests have space and time data which include a geographic location and time from which they are made[@atluri2018spatio].\n",
    "    \n",
    ":::"
   ]
  },
  {
   "cell_type": "markdown",
   "id": "e91f2643-1c0a-4078-abc7-b4fbd5b9ef9d",
   "metadata": {},
   "source": [
    "## Motivation\n",
    "\n",
    "::: {.panel-tabset}\n",
    "\n",
    "### Missing Values\n",
    "\n",
    "- Most spatiotemporal dataset based on observed values includes observations with missing values.\n",
    "\n",
    "\n",
    "### Example\n",
    "\n",
    "- Example(many natural and man-made factors)[@li2018missing]\n",
    "    - Malfunctioning devices\n",
    "    - data transfer problem\n",
    "    - some sensor readings are lost at unexpected moments\n",
    "\n",
    ":::"
   ]
  },
  {
   "cell_type": "markdown",
   "id": "2cbd847c-1a97-4997-acbc-cc3c01a2f9ba",
   "metadata": {},
   "source": [
    "## Motivation\n",
    "\n",
    "::: {.panel-tabset}\n",
    "\n",
    "### The point\n",
    "\n",
    "- The dataset should be complete on time domain.\n",
    "- We will make the dataset to complete data like other articles.\n",
    "- The simple way to make the dataset complete data is using the Interpolation method.\n",
    "\n",
    "### The Interpolation methods\n",
    "\n",
    "![Fig3: We use the interpolation method on the data which have 75% missing values](fig1.png){width=100%}\n",
    "\n",
    ":::"
   ]
  },
  {
   "cell_type": "markdown",
   "id": "4f017814-99ae-4952-b277-c3dbb6197026",
   "metadata": {},
   "source": [
    "## Motivation\n",
    "\n",
    "### Simple Steps for our method\n",
    "\n",
    "1. There is a dataset that has missing values(more than 50%)\n",
    "2. Make the incomplete data as complete data using the interpolation method\n",
    "3. Update missing data using $\\tt{Ebayesthresh}$ and $\\tt{Self Consistent Estimator}$\n",
    "4. Compare other deep learning models with our method"
   ]
  },
  {
   "cell_type": "markdown",
   "id": "9f465e8a-1805-43b9-b05e-adb237f7540a",
   "metadata": {},
   "source": [
    "## Motivation\n",
    "\n",
    "![Fig3: We get $y = \\alpha \\sin \\beta x$ and has 70% missing values. First(left-upper side) has the complete data, Second(right-upper side) has the observed data, third(left-down dise) has the values that has done with the linear interpolation method. Fourth(right-down side) has the result of STGCN(red line) and IT-STGCN(blue line).](try1_node1.png)"
   ]
  },
  {
   "cell_type": "markdown",
   "id": "9255182a-6c3d-4c35-bfd5-0a7992bbf492",
   "metadata": {
    "tags": []
   },
   "source": [
    "## Related studies\n",
    "\n",
    "### Ebayesthresh\n",
    "\n",
    "![Fig3: Simulated data $x$ (left) and estimate $\\mu_i$ for sparse example (right).\n",
    "Only 25 of the 1000 underlying parameters $\\mu_i$ are nonzero. [@johnstone2005ebayesthresh]](Ebayesthresh.png){width=50%}"
   ]
  },
  {
   "cell_type": "markdown",
   "id": "1a6cf4a4-1822-4fbd-aabd-f65c4979cdaa",
   "metadata": {},
   "source": [
    "## Related studies{.smaller}\n",
    "\n",
    "### Self-Consistent Estimator\n",
    "\n",
    "[@lee2007self] assessed a self-consistent regression estimator in the context of incomplete data. They proposed an estimate $\\hat{f}$ of the underlying obs function $f$ based on observed data $x_{obs}$ that is the solution of the following self-consistent equation\n",
    "$$E(\\hat{f}_{com} | x_{obs}, f = \\hat{f}_{obs}) = \\hat{f}_{obs}$$\n",
    "where $\\hat{f}$ indicates an estimate of $f$ derived from the hypothetical complete data $x_{com} = (x_{obs},x_{mis})$. $x_{mis}$ means missing data and $E(\\cdot)$ denotes the expectation operator. We note that $x_{mis}$ still needs to be completed in practice. \n",
    "\n",
    "In practice, the missing values $\\{ f(n) : n \\in M \\}$ are not acceptable, and thus, considering imputed values $\\{ \\tilde{f}(n) : n \\in M \\}$, we obtain an estimated complete dataset $\\{ \\hat{f}(n)\\} = \\{ f(n) : n \\in O \\} \\cup \\{ \\tilde{f}(n) : n \\in M \\}$."
   ]
  },
  {
   "cell_type": "markdown",
   "id": "d40b1cea-d38b-4aba-9e43-276a77e98f17",
   "metadata": {},
   "source": [
    "## Related studies\n",
    "\n",
    "### Self-Consistent Estimator\n",
    "\n",
    "![Fig3: The Figure 3 is a result of Self Consistent Estimator. When we get the incomplete data and if we update missing values, it would converge to the true function.](Self_consistency_Toy.png){width=100%}"
   ]
  },
  {
   "cell_type": "markdown",
   "id": "f0de6d15-dd45-4349-879d-4d1d4aa37e56",
   "metadata": {},
   "source": [
    "## Related studies\n",
    "\n",
    "### Riview of other deep learning models\n",
    "\n",
    "- GConvGRU\n",
    "- GConvLSTM\n",
    "- GLSTM\n",
    "- .."
   ]
  },
  {
   "cell_type": "markdown",
   "id": "0dcc4d23-c53f-497f-b976-0afed64109b1",
   "metadata": {
    "jp-MarkdownHeadingCollapsed": true,
    "tags": []
   },
   "source": [
    "## Proposed method\n",
    "\n",
    "**Step 1**\n",
    "\n",
    "For given graph signal $({\\cal V},{\\cal E}, {\\bf f})$, calculate its Discrete Fourier Transform. \n",
    "$$d(f) = \\frac{1}{\\sqrt{n}} \\sum^n_{t=1} f_t e^{-2\\pi  i f_t}$$"
   ]
  },
  {
   "cell_type": "markdown",
   "id": "b0ad3e55-d58a-43fd-8fc3-270a1fa40458",
   "metadata": {
    "jp-MarkdownHeadingCollapsed": true,
    "tags": []
   },
   "source": [
    "## Proposed method\n",
    "\n",
    "**Step 2. Estimate** $f$\n",
    "\n",
    "1.Define the weight matrix ${\\bf W}$ as considering the adjacency matrix.\n",
    "- Proof some properties in heavysnow process.\n",
    "\n",
    "2. Get graph Laplacian ${\\bf L}={\\bf D}-{\\bf W}$ and normalized graph Laplacian ${\\bf \\tilde L}={\\bf I}-({\\bf D^+})^{1/2}{\\bf L}({\\bf D^+})^{1/2}$ where ${\\bf D}$ is degree matrix and ${\\bf D}^+$ is the Moore–Penrose inverse.\n",
    "\n",
    "3. Decompose ${\\bf \\tilde L}$ into ${\\bf \\tilde L}={\\bf V}{\\bf \\Lambda}{\\bf V}^\\top$ and get the DFT of ${\\bf f}$, i.e., calculate ${\\bf V}^\\top{\\bf f}$.\n",
    "\n",
    "- Find periodogram of $({\\cal V},{\\cal E}, {\\bf f}){}$, i.e., $\\frac{1}{N}\\sum_{i=1}^{N}|{\\bf V}^\\top{\\bf f_{\\tt threshed}}|^2.$"
   ]
  },
  {
   "cell_type": "markdown",
   "id": "dadae1f8-ed67-4ac1-a1bd-2fe24f7bb7d5",
   "metadata": {
    "jp-MarkdownHeadingCollapsed": true,
    "tags": []
   },
   "source": [
    "## Proposed method\n",
    "\n",
    "**Step 3. Estimate the underlying function** $f$\n",
    "\n",
    "- From $f$ estimate $f_{\\tt trimed}$ on each ${\\cal V}$ using Ebayesthresh.\n",
    "- Apply inverse graph Fourier transform on $f_{\\tt trimed}$. "
   ]
  },
  {
   "cell_type": "markdown",
   "id": "a47eba12-985d-4afd-b514-2030764445e8",
   "metadata": {},
   "source": [
    "## Real data analysis\n",
    "\n",
    "### WikiMaths\n",
    "\n",
    "- Nodes are wikipedia pages, edges are links between nodes, targets($y$) are the daily user visits."
   ]
  },
  {
   "cell_type": "code",
   "execution_count": 78,
   "id": "324bf157-65f4-480f-958b-0ff729759c38",
   "metadata": {},
   "outputs": [],
   "source": [
    "# | echo: true\n",
    "import matplotlib.pyplot as plt\n",
    "import pandas as pd\n",
    "import seaborn as sns\n",
    "\n",
    "_df = pd.read_csv('./presentation.csv')"
   ]
  },
  {
   "cell_type": "code",
   "execution_count": 109,
   "id": "07d48517-00d9-418e-9cf1-54354d924952",
   "metadata": {},
   "outputs": [
    {
     "name": "stdout",
     "output_type": "stream",
     "text": [
      "GNAR MSE value:  1.287\n"
     ]
    }
   ],
   "source": [
    "print('GNAR MSE value: ',_df.query(\"dataset=='wikimath' and method=='GNAR'\")['mse'].mean().round(3))"
   ]
  },
  {
   "cell_type": "markdown",
   "id": "14f91dd3-adaf-410c-99bb-9da718d150ed",
   "metadata": {},
   "source": [
    "## Real data analysis\n",
    "\n",
    "### WikiMaths"
   ]
  },
  {
   "cell_type": "code",
   "execution_count": 141,
   "id": "650e10d3-1908-48e9-a0b4-e6f6bcb9e7d3",
   "metadata": {},
   "outputs": [
    {
     "data": {
      "text/plain": [
       "Text(0.5, 43.32800000000003, 'Missing Rate')"
      ]
     },
     "execution_count": 141,
     "metadata": {},
     "output_type": "execute_result"
    },
    {
     "data": {
      "image/png": "[encoded data removed]",
      "text/plain": [
       "<Figure size 1027.78x576 with 1 Axes>"
      ]
     },
     "metadata": {
      "needs_background": "light"
     },
     "output_type": "display_data"
    }
   ],
   "source": [
    "sns.set_context(\"talk\", font_scale=1.2)\n",
    "sns.catplot(x='mrate', \n",
    "            y='mse',\n",
    "            hue=\"method\",\n",
    "            kind=\"box\",\n",
    "            data=_df.query(\"dataset=='wikimath' and method!='GNAR' and mtype=='rand' and mrate==0.8\"), \n",
    "            height=8, \n",
    "            aspect=1.5);\n",
    "# plt.title(\"The boxplot with STGCN, IT-STGCN on Wikimaths dataset\", size=18)\n",
    "plt.ylabel(\"Mean Squared Error\", size=14)\n",
    "plt.xlabel(\"Missing Rate\",size=14)"
   ]
  },
  {
   "cell_type": "markdown",
   "id": "7adb2662-c347-41ef-baca-e020a10025e8",
   "metadata": {},
   "source": [
    "## Real data analysis{.scrollable}\n",
    "\n",
    "|Dataset|RecurrentGCN|Method|Missing Rate|Filters|Lags|Mean|SD|\n",
    "|:--:|:--:|:--:|:--:|:--:|:--:|:--:|:--:|\n",
    "|fivenodes|GConvGRU|IT-STGCN|0.7|12|2|1.167|0.059|\n",
    "|fivenodes|GConvGRU|STGCN|0.7|12|2|2.077|0.252|\n",
    "|chickenpox|GConvGRU|IT-STGCN|0.8|16|4|1.586|0.199|\n",
    "|chickenpox|GConvGRU|STGCN|0.8|16|4|2.529|0.292|\n",
    "|pedalme|GConvGRU|IT-STGCN|0.6|12|4|1.571|0.277|\n",
    "|pedalme|GConvGRU|STGCN|0.6|12|4|1.753|0.239|\n",
    "|wikimath|GConvGRU|IT-STGCN|0.8|12|8|0.687|0.021|\n",
    "|wikimath|GConvGRU|STGCN|0.8|12|8|0.932|0.04|\n",
    "|windmillsmall|GConvGRU|IT-STGCN|0.7|12|8|1.180|0.035|\n",
    "|windmillsmall|GConvGRU|STGCN|0.7|12|8|1.636|0.088|\n",
    "|monte|GConvGRU|IT-STGCN|0.8|12|4|1.096|0.019|\n",
    "|monte|GConvGRU|STGCN|0.8|12|4|1.516|0.040|"
   ]
  },
  {
   "cell_type": "markdown",
   "id": "33a802e7-07fc-478a-bec0-2b4641baac0f",
   "metadata": {},
   "source": [
    "## Conclusion\n",
    "\n",
    "::: {.incremental}\n",
    "- If we consider nodes information when we calculate the weight matrix, we will extend Graph Fourier Transform. It would give you more accurate results because it would view nodes and time information simultaneously. \n",
    "- In this article, we only use static spatiotemporal datasets. However, it will also operate on dynamic spatiotemporal datasets.\n",
    ":::"
   ]
  },
  {
   "cell_type": "markdown",
   "id": "fb8a429b-1664-4f21-905a-668522ac53a9",
   "metadata": {},
   "source": [
    "## Thank you"
   ]
  },
  {
   "cell_type": "code",
   "execution_count": null,
   "id": "dcdbcda1-f5bc-4f58-8898-886dd51720c4",
   "metadata": {},
   "outputs": [],
   "source": []
  },
  {
   "cell_type": "code",
   "execution_count": 155,
   "id": "3bc1609f-3e85-4899-9831-d4e7f8428b2a",
   "metadata": {},
   "outputs": [],
   "source": [
    "# pd.merge(_df.query(\"mtype=='rand'\").groupby(['dataset','method','mrate','nof_filters','lags'])['mse'].mean().reset_index(),\n",
    "#          _df.query(\"mtype=='rand'\").groupby(['dataset','method','mrate','nof_filters','lags'])['mse'].std().reset_index(),\n",
    "#          on=['dataset','method','mrate','nof_filters','lags']).rename(columns={'mse_x':'mean','mse_y':'std'}).round(3)"
   ]
  }
 ],
 "metadata": {
  "kernelspec": {
   "display_name": "Python 3",
   "language": "python",
   "name": "python3"
  },
  "language_info": {
   "codemirror_mode": {
    "name": "ipython",
    "version": 3
   },
   "file_extension": ".py",
   "mimetype": "text/x-python",
   "name": "python",
   "nbconvert_exporter": "python",
   "pygments_lexer": "ipython3",
   "version": "3.8.16"
  }
 },
 "nbformat": 4,
 "nbformat_minor": 5
}

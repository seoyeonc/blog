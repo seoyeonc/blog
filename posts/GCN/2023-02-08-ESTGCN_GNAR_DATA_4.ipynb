{
 "cells": [
  {
   "cell_type": "raw",
   "id": "6c8f0bf9-e110-4e30-8596-b2dd384e79e0",
   "metadata": {
    "id": "cac470df-29e7-4148-9bbd-d8b9a32fa570",
    "tags": []
   },
   "source": [
    "---\n",
    "title: \"Class of Method(GNAR) lag 1 Block Missing repeat\"\n",
    "author: \"SEOYEON CHOI\"\n",
    "date: \"2023-02-08\"\n",
    "categories:\n",
    "  - ST-GCN\n",
    "---"
   ]
  },
  {
   "cell_type": "markdown",
   "id": "ccf50ae2-58ec-4c6e-9cc8-393c473767eb",
   "metadata": {},
   "source": [
    "> GNAR fiveNet,fivenodes lag 1"
   ]
  },
  {
   "cell_type": "markdown",
   "id": "1463f6e7-0b6c-490d-b7ee-4022ce4345a8",
   "metadata": {
    "tags": []
   },
   "source": [
    "# import"
   ]
  },
  {
   "cell_type": "code",
   "execution_count": 70,
   "id": "f90af573-4bc0-4c9e-ad94-e9739160055e",
   "metadata": {},
   "outputs": [],
   "source": [
    "import numpy as np\n",
    "import pandas as pd\n",
    "import matplotlib.pyplot as plt\n",
    "from matplotlib import animation\n",
    "\n",
    "# torch\n",
    "import torch\n",
    "import torch.nn.functional as F\n",
    "from torch_geometric_temporal.nn.recurrent import GConvGRU\n",
    "\n",
    "# scipy \n",
    "from scipy.interpolate import interp1d\n",
    "\n",
    "# utils\n",
    "import time\n",
    "import pickle\n",
    "from tqdm import tqdm\n",
    "\n",
    "# rpy2\n",
    "import rpy2\n",
    "import rpy2.robjects as ro \n",
    "from rpy2.robjects.vectors import FloatVector \n",
    "from rpy2.robjects.packages import importr\n",
    "\n",
    "import rpy2.robjects.numpy2ri as rpyn\n",
    "import rpy2.robjects as robjects"
   ]
  },
  {
   "cell_type": "code",
   "execution_count": 2,
   "id": "dbbe91df-66c9-46da-abf9-379f37061d5e",
   "metadata": {},
   "outputs": [],
   "source": [
    "class RecurrentGCN(torch.nn.Module):\n",
    "    def __init__(self, node_features, filters):\n",
    "        super(RecurrentGCN, self).__init__()\n",
    "        self.recurrent = GConvGRU(node_features, filters, 2)\n",
    "        self.linear = torch.nn.Linear(filters, 1)\n",
    "\n",
    "    def forward(self, x, edge_index, edge_weight):\n",
    "        h = self.recurrent(x, edge_index, edge_weight)\n",
    "        h = F.relu(h)\n",
    "        h = self.linear(h)\n",
    "        return h"
   ]
  },
  {
   "cell_type": "markdown",
   "id": "4ad5f9f9-20fb-489c-9a8d-0f47cf681b1e",
   "metadata": {},
   "source": [
    "# my functions"
   ]
  },
  {
   "cell_type": "code",
   "execution_count": 3,
   "id": "227faf0a-4609-4fb1-bb57-f72308e2b23d",
   "metadata": {},
   "outputs": [],
   "source": [
    "def load_data(fname):\n",
    "    with open(fname, 'rb') as outfile:\n",
    "        data_dict = pickle.load(outfile)\n",
    "    return data_dict"
   ]
  },
  {
   "cell_type": "code",
   "execution_count": 4,
   "id": "a159f970-32cf-4719-b3b7-d16eeb939f5e",
   "metadata": {},
   "outputs": [],
   "source": [
    "def save_data(data_dict,fname):\n",
    "    with open(fname,'wb') as outfile:\n",
    "        pickle.dump(data_dict,outfile)"
   ]
  },
  {
   "cell_type": "code",
   "execution_count": 5,
   "id": "46b2f8de-d7db-4a8a-8b56-68987ea54c0e",
   "metadata": {},
   "outputs": [],
   "source": [
    "def plot(f,*args,t=None,h=2.5,**kwargs):\n",
    "    T,N = f.shape\n",
    "    if t == None: t = range(T)\n",
    "    fig = plt.figure()\n",
    "    ax = fig.subplots(N,1)\n",
    "    for n in range(N):\n",
    "        ax[n].plot(t,f[:,n],*args,**kwargs)\n",
    "        ax[n].set_title('node='+str(n))\n",
    "    fig.set_figheight(N*h)\n",
    "    fig.tight_layout()\n",
    "    plt.close()\n",
    "    return fig"
   ]
  },
  {
   "cell_type": "code",
   "execution_count": 6,
   "id": "dfd30cd2-1daf-474d-b132-7b41af02e5f5",
   "metadata": {},
   "outputs": [],
   "source": [
    "def plot_add(fig,f,*args,t=None,**kwargs):\n",
    "    T = f.shape[0]\n",
    "    N = f.shape[1] \n",
    "    if t == None: t = range(T)   \n",
    "    ax = fig.get_axes()\n",
    "    for n in range(N):\n",
    "        ax[n].plot(t,f[:,n],*args,**kwargs)\n",
    "    return fig"
   ]
  },
  {
   "cell_type": "code",
   "execution_count": 7,
   "id": "5422d968-a917-483b-8e82-4ab2bf569bc5",
   "metadata": {},
   "outputs": [],
   "source": [
    "def make_Psi(T):\n",
    "    W = np.zeros((T,T))\n",
    "    for i in range(T):\n",
    "        for j in range(T):\n",
    "            if i==j :\n",
    "                W[i,j] = 0\n",
    "            elif np.abs(i-j) <= 1 : \n",
    "                W[i,j] = 1\n",
    "    d = np.array(W.sum(axis=1))\n",
    "    D = np.diag(d)\n",
    "    L = np.array(np.diag(1/np.sqrt(d)) @ (D-W) @ np.diag(1/np.sqrt(d)))\n",
    "    lamb, Psi = np.linalg.eigh(L)\n",
    "    return Psi"
   ]
  },
  {
   "cell_type": "code",
   "execution_count": 8,
   "id": "6fdbd67c-4d90-4d7f-9a4f-2f73dac5485c",
   "metadata": {},
   "outputs": [],
   "source": [
    "ebayesthresh = importr('EbayesThresh').ebayesthresh"
   ]
  },
  {
   "cell_type": "code",
   "execution_count": 9,
   "id": "7da0eb4f-5518-4e35-b392-9762da230d53",
   "metadata": {},
   "outputs": [],
   "source": [
    "def trim(f):\n",
    "    f = np.array(f)\n",
    "    if len(f.shape)==1: f = f.reshape(-1,1)\n",
    "    T,N = f.shape\n",
    "    Psi = make_Psi(T)\n",
    "    fbar = Psi.T @ f # apply dft \n",
    "    fbar_threshed = np.stack([ebayesthresh(FloatVector(fbar[:,i])) for i in range(N)],axis=1)\n",
    "    fhat = Psi @ fbar_threshed # inverse dft \n",
    "    return fhat"
   ]
  },
  {
   "cell_type": "code",
   "execution_count": 10,
   "id": "3036d47a-8211-4f46-9cd3-c316e01e5dce",
   "metadata": {},
   "outputs": [],
   "source": [
    "def update_from_freq_domain(signal, start, end, node):\n",
    "    signal = np.array(signal)\n",
    "    T,N = signal.shape \n",
    "    signal_trimed = trim(signal)\n",
    "    signal[start:end,node] = signal_trimed[start:end,node]\n",
    "    return signal"
   ]
  },
  {
   "cell_type": "markdown",
   "id": "c337c101-5cff-4aec-9f7b-fe41c9c16b47",
   "metadata": {},
   "source": [
    "# data 정리 "
   ]
  },
  {
   "cell_type": "markdown",
   "id": "f8e4e297-0e68-4b57-adc2-2abafc28cc03",
   "metadata": {},
   "source": [
    "`-` 데이터정리 "
   ]
  },
  {
   "cell_type": "code",
   "execution_count": 11,
   "id": "0bcaefae-0b23-4dbd-b35b-30a36b84095b",
   "metadata": {},
   "outputs": [],
   "source": [
    "data = load_data('./data/fivenodes.pkl')"
   ]
  },
  {
   "cell_type": "code",
   "execution_count": 12,
   "id": "50d881f0-65fc-49c4-acab-1c7b4d371a11",
   "metadata": {},
   "outputs": [],
   "source": [
    "edges_tensor = torch.tensor(data['edges'])\n",
    "fiveVTS = np.array(data['f'])\n",
    "nonzero_indices = edges_tensor.nonzero()\n",
    "fiveNet_edge = np.array(nonzero_indices).T\n",
    "T = 200\n",
    "N = 5 # number of Nodes\n",
    "E = fiveNet_edge\n",
    "V = np.array([1,2,3,4,5])\n",
    "t = np.arange(0,T)\n",
    "node_features = 1\n",
    "edge_index = torch.tensor(E)\n",
    "edge_attr = torch.tensor(np.array([1,1,1,1,1,1,1,1,1,1]),dtype=torch.float32)"
   ]
  },
  {
   "cell_type": "markdown",
   "id": "4fed58fa-3cd6-428b-a6d0-52e3460d9e1f",
   "metadata": {},
   "source": [
    "`-` train / test "
   ]
  },
  {
   "cell_type": "code",
   "execution_count": 13,
   "id": "cef13f89-df0c-467f-b856-7145f554e428",
   "metadata": {},
   "outputs": [],
   "source": [
    "fiveVTS_train = fiveVTS[:int(len(fiveVTS)*0.8)]\n",
    "fiveVTS_test = fiveVTS[int(len(fiveVTS)*0.8):]"
   ]
  },
  {
   "cell_type": "markdown",
   "id": "b984ecff-ebeb-4d3f-97de-297aa69aa487",
   "metadata": {},
   "source": [
    "# BLock Missing Values"
   ]
  },
  {
   "cell_type": "code",
   "execution_count": 14,
   "id": "a9c2d697-7649-4ed0-a0c7-e4b66c4fd45c",
   "metadata": {},
   "outputs": [],
   "source": [
    "class Missing:\n",
    "    def __init__(self,df):\n",
    "        self.df = df\n",
    "        self.number = []\n",
    "    def miss(self,start = 50,end = 150,node = 2):\n",
    "        self.missing = self.df.copy()\n",
    "        self.start = start\n",
    "        self.end = end\n",
    "        self.node = node\n",
    "        self.missing[self.start:self.end,self.node] = float('nan')\n",
    "    def first_mean(self):\n",
    "        self.train_mean = self.missing.copy()\n",
    "        self.train_mean[self.start-1:self.end,self.node] = np.mean(self.df[:(self.start-1),self.node].tolist()+self.df[self.end:,self.node].tolist())\n",
    "    def second_linear(self):\n",
    "        self.train_linear = pd.DataFrame(self.missing)\n",
    "        self.train_linear.interpolate(method='linear', inplace=True)\n",
    "        self.train_linear = self.train_linear.fillna(0)\n",
    "        self.train_linear = np.array(self.train_linear).reshape(int(len(self.df)),N)"
   ]
  },
  {
   "cell_type": "markdown",
   "id": "598937ab-8425-4955-8448-c99e94b847df",
   "metadata": {},
   "source": [
    "# STGCN "
   ]
  },
  {
   "cell_type": "markdown",
   "id": "c7c52d53-0875-48ac-81ec-f5ec23cbe7b7",
   "metadata": {},
   "source": [
    "- missing rate: 80% \n",
    "- 보간방법: linear"
   ]
  },
  {
   "cell_type": "code",
   "execution_count": null,
   "id": "1f388102-d6b1-4af0-ad0a-ff7028efb8c6",
   "metadata": {
    "tags": []
   },
   "outputs": [],
   "source": [
    "stgcn_train1 = []\n",
    "stgcn_test1 = []\n",
    "\n",
    "_zero = Missing(fiveVTS_train)\n",
    "_zero.miss(50,150,2)\n",
    "_zero.second_linear()\n",
    "\n",
    "missing_index = _zero.number\n",
    "interpolated_signal = _zero.train_linear\n",
    "\n",
    "X = torch.tensor(interpolated_signal).reshape(int(T*0.8),N,1).float()[:int(T*0.8-1),:,:]\n",
    "y = torch.tensor(interpolated_signal).reshape(int(T*0.8),N,1).float()[1:,:,:]\n",
    "\n",
    "XX = torch.tensor(fiveVTS_test.reshape(int(T*0.2),N,1)[:-1,:,:]).float()\n",
    "yy = torch.tensor(fiveVTS_test.reshape(int(T*0.2),N,1)[1:,:,:]).float()\n",
    "\n",
    "real_y = torch.tensor(fiveVTS_train).reshape(int(T*0.8),N,1).float()[1:,:,:]\n",
    "\n",
    "for i in range(100):\n",
    "    net = RecurrentGCN(node_features=1, filters=4)\n",
    "    optimizer = torch.optim.Adam(net.parameters(), lr=0.01)\n",
    "    net.train()\n",
    "    for epoch in range(50):\n",
    "        for time, (xt,yt) in enumerate(zip(X,y)):\n",
    "            yt_hat = net(xt, edge_index, edge_attr)\n",
    "            cost = torch.mean((yt_hat-yt)**2)\n",
    "            cost.backward()\n",
    "            optimizer.step()\n",
    "            optimizer.zero_grad()\n",
    "\n",
    "    yhat = torch.stack([net(xt, edge_index, edge_attr) for xt in X]).detach().numpy()\n",
    "    yyhat = torch.stack([net(xt, edge_index, edge_attr) for xt in XX]).detach().numpy()\n",
    "    \n",
    "    train_mse_total_stgcn = (((real_y-yhat).squeeze())**2).mean()\n",
    "    test_mse_total_stgcn = (((yy-yyhat).squeeze())**2).mean()\n",
    "    \n",
    "    stgcn_train1.append(train_mse_total_stgcn.tolist())\n",
    "    stgcn_test1.append(test_mse_total_stgcn.tolist())"
   ]
  },
  {
   "cell_type": "code",
   "execution_count": 46,
   "id": "28518e96-7808-41b6-b21a-40d57870eb88",
   "metadata": {},
   "outputs": [
    {
     "data": {
      "image/png": "[encoded data removed]",
      "text/plain": [
       "<Figure size 864x576 with 1 Axes>"
      ]
     },
     "metadata": {
      "needs_background": "light"
     },
     "output_type": "display_data"
    }
   ],
   "source": [
    "plt.figure(figsize=(12, 8))\n",
    "plt.boxplot(stgcn_train1);"
   ]
  },
  {
   "cell_type": "code",
   "execution_count": 47,
   "id": "5a331f38-4760-4be2-b00b-6d6d866f56a3",
   "metadata": {},
   "outputs": [
    {
     "data": {
      "image/png": "[encoded data removed]",
      "text/plain": [
       "<Figure size 864x576 with 1 Axes>"
      ]
     },
     "metadata": {
      "needs_background": "light"
     },
     "output_type": "display_data"
    }
   ],
   "source": [
    "plt.figure(figsize=(12, 8))\n",
    "plt.boxplot(stgcn_test1);"
   ]
  },
  {
   "cell_type": "markdown",
   "id": "1a2b48dc-3f12-4a81-9484-536237841aed",
   "metadata": {},
   "source": [
    "# Enhencement of STGCN "
   ]
  },
  {
   "cell_type": "markdown",
   "id": "86363be8-823e-45af-a3d7-9ae274bab66c",
   "metadata": {},
   "source": [
    "- missing rate: 80% \n",
    "- 보간방법: linear"
   ]
  },
  {
   "cell_type": "markdown",
   "id": "4eed0ff9-98cd-410a-9046-79a933d5f0c0",
   "metadata": {},
   "source": [
    "`-` 결측치생성 + 보간"
   ]
  },
  {
   "cell_type": "code",
   "execution_count": null,
   "id": "728f07ff-172a-43e2-a44d-2ea3e9734f1d",
   "metadata": {
    "tags": []
   },
   "outputs": [],
   "source": [
    "estgcn_train1 = []\n",
    "estgcn_test1 = []\n",
    "\n",
    "_zero = Missing(fiveVTS_train)\n",
    "_zero.miss(50,150,2)\n",
    "_zero.second_linear()\n",
    "\n",
    "missing_index = _zero.number\n",
    "interpolated_signal = _zero.train_linear\n",
    "\n",
    "X = torch.tensor(interpolated_signal).reshape(int(T*0.8),N,1).float()[:int(T*0.8-1),:,:]\n",
    "y = torch.tensor(interpolated_signal).reshape(int(T*0.8),N,1).float()[1:,:,:]\n",
    "\n",
    "XX = torch.tensor(fiveVTS_test.reshape(int(T*0.2),N,1)[:-1,:,:]).float()\n",
    "yy = torch.tensor(fiveVTS_test.reshape(int(T*0.2),N,1)[1:,:,:]).float()\n",
    "\n",
    "real_y = torch.tensor(fiveVTS_train).reshape(int(T*0.8),N,1).float()[1:,:,:]\n",
    "\n",
    "for i in range(100):\n",
    "    net = RecurrentGCN(node_features=1, filters=4)\n",
    "    optimizer = torch.optim.Adam(net.parameters(), lr=0.01)\n",
    "    net.train()\n",
    "    signal = interpolated_signal.copy()\n",
    "    for epoch in range(50):\n",
    "        signal = update_from_freq_domain(signal,50,150,2)\n",
    "        X = torch.tensor(signal).reshape(int(T*0.8),N,1).float()[:int(T*0.8-1),:,:]\n",
    "        y = torch.tensor(signal).reshape(int(T*0.8),N,1).float()[1:,:,:]\n",
    "        for time, (xt,yt) in enumerate(zip(X,y)):        \n",
    "            yt_hat = net(xt, edge_index, edge_attr)\n",
    "            cost = torch.mean((yt_hat-yt)**2)\n",
    "            cost.backward()\n",
    "            optimizer.step()\n",
    "            optimizer.zero_grad()\n",
    "        signal = torch.concat([X.squeeze(),yt_hat.detach().squeeze().reshape(1,-1)])        \n",
    "\n",
    "    yhat = torch.stack([net(xt, edge_index, edge_attr) for xt in X]).detach().numpy()\n",
    "    yyhat = torch.stack([net(xt, edge_index, edge_attr) for xt in XX]).detach().numpy()\n",
    "\n",
    "    train_mse_total_estgcn = (((real_y-yhat).squeeze())**2).mean()\n",
    "    test_mse_total_estgcn = (((yy-yyhat).squeeze())**2).mean()\n",
    "    \n",
    "    estgcn_train1.append(train_mse_total_estgcn.tolist())\n",
    "    estgcn_test1.append(test_mse_total_estgcn.tolist())"
   ]
  },
  {
   "cell_type": "code",
   "execution_count": 50,
   "id": "102a64ce-cb5f-4344-9905-6d0e5c9db8a4",
   "metadata": {},
   "outputs": [
    {
     "data": {
      "image/png": "[encoded data removed]",
      "text/plain": [
       "<Figure size 864x576 with 1 Axes>"
      ]
     },
     "metadata": {
      "needs_background": "light"
     },
     "output_type": "display_data"
    }
   ],
   "source": [
    "plt.figure(figsize=(12, 8))\n",
    "plt.boxplot(estgcn_train1); "
   ]
  },
  {
   "cell_type": "code",
   "execution_count": 51,
   "id": "ceedc655-7822-4491-8a1a-11b48c98da7b",
   "metadata": {},
   "outputs": [
    {
     "data": {
      "image/png": "[encoded data removed]",
      "text/plain": [
       "<Figure size 864x576 with 1 Axes>"
      ]
     },
     "metadata": {
      "needs_background": "light"
     },
     "output_type": "display_data"
    }
   ],
   "source": [
    "plt.figure(figsize=(12, 8))\n",
    "plt.boxplot(estgcn_test1); "
   ]
  },
  {
   "cell_type": "markdown",
   "id": "4f82d617-3751-43f1-8d0a-dcc140028938",
   "metadata": {},
   "source": [
    "# GNAR"
   ]
  },
  {
   "cell_type": "code",
   "execution_count": 62,
   "id": "4fb0a76b-517c-42f1-a6c2-19066ecee127",
   "metadata": {},
   "outputs": [
    {
     "name": "stdout",
     "output_type": "stream",
     "text": [
      "The rpy2.ipython extension is already loaded. To reload it, use:\n",
      "  %reload_ext rpy2.ipython\n"
     ]
    }
   ],
   "source": [
    "%load_ext rpy2.ipython"
   ]
  },
  {
   "cell_type": "code",
   "execution_count": 63,
   "id": "d78f987c-4d58-41d6-b81d-12a9d6d2f174",
   "metadata": {},
   "outputs": [],
   "source": [
    "%%R\n",
    "library(GNAR)\n",
    "library(igraph)\n",
    "library(zoo)"
   ]
  },
  {
   "cell_type": "code",
   "execution_count": 64,
   "id": "65e10141-e237-4971-986e-268ff9b98634",
   "metadata": {},
   "outputs": [],
   "source": [
    "GNAR = importr('GNAR') # import GNAR \n",
    "igraph = importr('igraph') # import igraph "
   ]
  },
  {
   "cell_type": "code",
   "execution_count": 67,
   "id": "62422100-3b63-4b59-abd6-d8195ebc4939",
   "metadata": {},
   "outputs": [
    {
     "name": "stdout",
     "output_type": "stream",
     "text": [
      "     [,1] [,2] [,3] [,4] [,5]\n",
      "[1,]    0    0    0    1    1\n",
      "[2,]    0    0    1    1    0\n",
      "[3,]    0    1    0    1    0\n",
      "[4,]    1    1    1    0    0\n",
      "[5,]    1    0    0    0    0\n",
      "\n"
     ]
    }
   ],
   "source": [
    "m = robjects.r.matrix(FloatVector([0,0,0,1,1,0,0,1,1,0,0,1,0,1,0,1,1,1,0,0,1,0,0,0,0]), nrow = 5, ncol = 5)\n",
    "print(m)"
   ]
  },
  {
   "cell_type": "code",
   "execution_count": 68,
   "id": "28460033-fc43-4d9a-8f1c-2300e4311135",
   "metadata": {},
   "outputs": [],
   "source": [
    "gnar_train1 = []\n",
    "gnar_test1 = []\n",
    "\n",
    "_zero = Missing(fiveVTS_train)\n",
    "_zero.miss(50,150,2)\n",
    "_zero.second_linear()\n",
    "\n",
    "missing_index = _zero.number\n",
    "interpolated_signal = _zero.train_linear\n",
    "\n",
    "X = torch.tensor(interpolated_signal).reshape(int(T*0.8),N,1).float()[:int(T*0.8-2),:,:]\n",
    "\n",
    "yy = torch.tensor(fiveVTS_test.reshape(int(T*0.2),N,1)[1:,:,:]).float()"
   ]
  },
  {
   "cell_type": "code",
   "execution_count": 71,
   "id": "74b62abe-3d19-456b-ac67-94ded815bb82",
   "metadata": {
    "tags": []
   },
   "outputs": [],
   "source": [
    "for i in range(100):\n",
    "    \n",
    "    answer = GNAR.GNARfit(vts=robjects.r.matrix(rpyn.numpy2rpy(np.array(X).squeeze()), nrow = 160, ncol = 5),net = GNAR.matrixtoGNAR(m), alphaOrder = 2, betaOrder = FloatVector([1, 1]))             \n",
    "    predict = GNAR.predict_GNARfit(answer,n_ahead=40)\n",
    "\n",
    "    \n",
    "    train_mse_total_gnar = ((pd.DataFrame(GNAR.residuals_GNARfit(answer)).values.reshape(-1,5))**2).mean()\n",
    "    test_mse_total_gnar = ((yy.squeeze() - pd.DataFrame(predict).values.reshape(-1,5)[:-1,:])**2).mean()\n",
    "    \n",
    "    gnar_train1.append(train_mse_total_gnar.tolist())\n",
    "    gnar_test1.append(test_mse_total_gnar.tolist())"
   ]
  },
  {
   "cell_type": "code",
   "execution_count": 72,
   "id": "df1883d4-9580-4347-9d53-4ebe8109111b",
   "metadata": {},
   "outputs": [],
   "source": [
    "%R -o gnar_train1\n",
    "%R -o gnar_test1"
   ]
  },
  {
   "cell_type": "code",
   "execution_count": 73,
   "id": "ffba4699-62a7-419e-b586-0c903483ebd3",
   "metadata": {},
   "outputs": [
    {
     "data": {
      "image/png": "[encoded data removed]",
      "text/plain": [
       "<Figure size 864x576 with 1 Axes>"
      ]
     },
     "metadata": {
      "needs_background": "light"
     },
     "output_type": "display_data"
    }
   ],
   "source": [
    "plt.figure(figsize=(12, 8))\n",
    "plt.boxplot(gnar_train1);"
   ]
  },
  {
   "cell_type": "code",
   "execution_count": 74,
   "id": "47c31763-ca0c-4d40-83ab-4d6051ef767a",
   "metadata": {},
   "outputs": [
    {
     "data": {
      "image/png": "[encoded data removed]",
      "text/plain": [
       "<Figure size 864x576 with 1 Axes>"
      ]
     },
     "metadata": {
      "needs_background": "light"
     },
     "output_type": "display_data"
    }
   ],
   "source": [
    "plt.figure(figsize=(12, 8))\n",
    "plt.boxplot(gnar_test1);"
   ]
  },
  {
   "cell_type": "markdown",
   "id": "6fbdcace-e207-4856-a96f-db3ebb903224",
   "metadata": {},
   "source": [
    "# Visualization"
   ]
  },
  {
   "cell_type": "code",
   "execution_count": 75,
   "id": "9d46dd8f-fceb-44aa-9752-0970df421059",
   "metadata": {},
   "outputs": [
    {
     "data": {
      "image/png": "[encoded data removed]",
      "text/plain": [
       "<Figure size 864x720 with 1 Axes>"
      ]
     },
     "metadata": {
      "needs_background": "light"
     },
     "output_type": "display_data"
    }
   ],
   "source": [
    "fig = plt.figure(figsize = (12,10))\n",
    "ax = fig.add_subplot(111)\n",
    "\n",
    "bp1 = ax.boxplot(stgcn_train1, positions=[1], notch=True, widths=0.35, patch_artist=True, boxprops=dict(facecolor=\"C0\"))\n",
    "bp2 = ax.boxplot(estgcn_train1, positions=[2], notch=True, widths=0.35, patch_artist=True, boxprops=dict(facecolor=\"C1\"))\n",
    "bp3 = ax.boxplot(gnar_train1, positions=[3], notch=True, widths=0.35, patch_artist=True, boxprops=dict(facecolor=\"C2\"))\n",
    "ax.legend([bp1[\"boxes\"][0], bp2[\"boxes\"][0], bp3[\"boxes\"][0]], [\"STGCN\", \"ESTGCN\", \"GNAR\"], loc='upper right')\n",
    "\n",
    "plt.text(x=0.5, y=0.94, s=\"TRAIN_Fix missing number_Block Missing\", fontsize=25, ha=\"center\", transform=fig.transFigure)\n",
    "fig.tight_layout()\n",
    "plt.show()"
   ]
  },
  {
   "cell_type": "code",
   "execution_count": 76,
   "id": "cebb0ab0-33d1-4ff3-9262-59e2ae5822fc",
   "metadata": {},
   "outputs": [
    {
     "data": {
      "image/png": "[encoded data removed]",
      "text/plain": [
       "<Figure size 864x720 with 1 Axes>"
      ]
     },
     "metadata": {
      "needs_background": "light"
     },
     "output_type": "display_data"
    }
   ],
   "source": [
    "fig = plt.figure(figsize = (12,10))\n",
    "ax = fig.add_subplot(111)\n",
    "\n",
    "bp1 = ax.boxplot(stgcn_test1, positions=[1], notch=True, widths=0.35, patch_artist=True, boxprops=dict(facecolor=\"C0\"))\n",
    "bp2 = ax.boxplot(estgcn_test1, positions=[2], notch=True, widths=0.35, patch_artist=True, boxprops=dict(facecolor=\"C1\"))\n",
    "bp3 = ax.boxplot(gnar_test1, positions=[3], notch=True, widths=0.35, patch_artist=True, boxprops=dict(facecolor=\"C2\"))\n",
    "ax.legend([bp1[\"boxes\"][0], bp2[\"boxes\"][0], bp3[\"boxes\"][0]], [\"STGCN\", \"ESTGCN\", \"GNAR\"], loc='upper right')\n",
    "\n",
    "plt.text(x=0.5, y=0.94, s=\"TEST_Fix missing number_Block Missing\", fontsize=25, ha=\"center\", transform=fig.transFigure)\n",
    "fig.tight_layout()\n",
    "plt.show()"
   ]
  },
  {
   "cell_type": "code",
   "execution_count": null,
   "id": "6ebdc288-f709-4995-b1d0-5f8173f99df7",
   "metadata": {},
   "outputs": [],
   "source": []
  },
  {
   "cell_type": "code",
   "execution_count": null,
   "id": "b90387ce-bf72-4042-a512-afbe2ec4e30c",
   "metadata": {},
   "outputs": [],
   "source": []
  },
  {
   "cell_type": "code",
   "execution_count": null,
   "id": "7786bb6d-8772-47fe-9d5a-b41a973a49ee",
   "metadata": {},
   "outputs": [],
   "source": []
  }
 ],
 "metadata": {
  "kernelspec": {
   "display_name": "Python 3 (ipykernel)",
   "language": "python",
   "name": "python3"
  },
  "language_info": {
   "codemirror_mode": {
    "name": "ipython",
    "version": 3
   },
   "file_extension": ".py",
   "mimetype": "text/x-python",
   "name": "python",
   "nbconvert_exporter": "python",
   "pygments_lexer": "ipython3",
   "version": "3.8.12"
  },
  "toc-showcode": false
 },
 "nbformat": 4,
 "nbformat_minor": 5
}

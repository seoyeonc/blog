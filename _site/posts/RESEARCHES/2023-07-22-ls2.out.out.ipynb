{
  "cells": [
    {
      "cell_type": "markdown",
      "metadata": {},
      "source": [
        "# PyG lesson2: 벤치마크 데이터셋 (train/test분리)\n",
        "\n",
        "신록예찬  \n",
        "2023-07-07\n",
        "\n",
        "summary\n",
        "\n",
        "-   노드 정보와 엣지 정보는 건들지 않은채로 true false를 부여하는\n",
        "    것만으로 train test validation 데이터를 구분할 수 있는 신기한 논리.."
      ],
      "id": "2fcc45e4-bf5b-4408-99c3-bc4949188a97"
    },
    {
      "cell_type": "code",
      "execution_count": 86,
      "metadata": {},
      "outputs": [],
      "source": [
        "import torch_geometric\n",
        "import networkx as nx\n",
        "import matplotlib.pyplot as plt\n",
        "import torch\n",
        "import pandas as pd\n",
        "import numpy as np"
      ],
      "id": "44af97d4-7f7d-469f-9283-f0c535784cba"
    },
    {
      "cell_type": "markdown",
      "metadata": {},
      "source": [
        "# Download notebook\n",
        "\n",
        "``` default\n",
        "!wget https://raw.githubusercontent.com/miruetoto/yechan3/main/posts/2_Studies/PyG/ls2.ipynb\n",
        "```\n",
        "\n",
        "# Ref\n",
        "\n",
        "-   <https://pytorch-geometric.readthedocs.io/en/latest/get_started/introduction.html>\n",
        "-   <https://pytorch-geometric.readthedocs.io/en/latest/cheatsheet/data_cheatsheet.html>\n",
        "\n",
        "# 벤치마크 데이터셋\n",
        "\n",
        "`-` 데이터셋은 아래의 모듈안에 정리되어 있음"
      ],
      "id": "f3c59ff8-7546-4d4d-8adc-66ae6a937c58"
    },
    {
      "cell_type": "code",
      "execution_count": 49,
      "metadata": {},
      "outputs": [],
      "source": [
        "dir(torch_geometric.datasets)[:5]"
      ],
      "id": "39fb8fd6-7dbc-4525-8913-9d42bbea329c"
    },
    {
      "cell_type": "markdown",
      "metadata": {},
      "source": [
        "# **데이터셋1**: TUDataset\n",
        "\n",
        "`-` 다운로드"
      ],
      "id": "b79868e0-4fba-4794-ac7c-f1cd76bc3e92"
    },
    {
      "cell_type": "code",
      "execution_count": 50,
      "metadata": {},
      "outputs": [],
      "source": [
        "dataset = torch_geometric.datasets.TUDataset(root='/tmp/ENZYMES', name='ENZYMES')"
      ],
      "id": "4d8aaec4-6056-466e-b30c-dec74abc72ee"
    },
    {
      "cell_type": "code",
      "execution_count": 51,
      "metadata": {},
      "outputs": [
        {
          "output_type": "stream",
          "name": "stdout",
          "text": [
            "Cora\n",
            "ENZYMES\n",
            "Rtmp0d0w4u\n",
            "Rtmp1uvosb\n",
            "Rtmp3D2vcG\n",
            "Rtmp44FGCf\n",
            "Rtmp4ekp1G\n",
            "Rtmp5zQZ7f\n",
            "Rtmp6Aqjn9\n",
            "Rtmp8SRqeA\n",
            "Rtmp8iV8GY\n",
            "Rtmp9RDC4h\n",
            "RtmpBOkgTD\n",
            "RtmpDr9n3o\n",
            "RtmpEgYVqu\n",
            "RtmpEl7QTm\n",
            "RtmpFeImCs\n",
            "RtmpFmhp1e\n",
            "RtmpL7P0uL\n",
            "RtmpLcdCbN\n",
            "RtmpMpEHD4\n",
            "RtmpOBjmj9\n",
            "RtmpOldkCG\n",
            "RtmpPL5aqG\n",
            "RtmpPPPXuL\n",
            "RtmpQdjXXP\n",
            "RtmpTnWgqy\n",
            "RtmpUu8TkG\n",
            "RtmpVZ8b1G\n",
            "RtmpWPuxY0\n",
            "RtmpXaQxuK\n",
            "RtmpZQXbWV\n",
            "RtmpZVl5wD\n",
            "RtmpZbltsD\n",
            "Rtmpf3XUWv\n",
            "Rtmphh0IeU\n",
            "RtmpiMl5X7\n",
            "RtmpiYetgv\n",
            "RtmpkuWMxJ\n",
            "RtmpnEvGCG\n",
            "RtmpnhtMSB\n",
            "Rtmpp50EUq\n",
            "RtmptUcaRd\n",
            "Rtmptfuzcf\n",
            "RtmpudULKs\n",
            "RtmpuyoGfm\n",
            "RtmpveCzOk\n",
            "Rtmpw3VuI5\n",
            "Rtmpy89nyf\n",
            "RtmpyQeKId\n",
            "__autograph_generated_file430lm2pd.py\n",
            "__autograph_generated_file52srl_jv.py\n",
            "__autograph_generated_file6_nk4ksw.py\n",
            "__autograph_generated_fileamhf1l7g.py\n",
            "__autograph_generated_filegjdd1fac.py\n",
            "__autograph_generated_filemy63yhq6.py\n",
            "__autograph_generated_filenb5xfoyk.py\n",
            "__autograph_generated_fileyzbye00x.py\n",
            "__autograph_generated_filezr0_2k4f.py\n",
            "__pycache__\n",
            "pymp-4hbgfo48\n",
            "pymp-595nrv8o\n",
            "pymp-71z0yfzn\n",
            "pymp-lkwub_4z\n",
            "pymp-nk_fy8vp\n",
            "pymp-v_psr5y6\n",
            "pymp-vs8hkilv\n",
            "quarto-session152a4cba\n",
            "quarto-session1686cca4\n",
            "quarto-session2a43de6f\n",
            "quarto-session2a944a7b\n",
            "quarto-session534bf3db\n",
            "quarto-session9f442f6c\n",
            "quarto-sessiona3c0156c\n",
            "quarto-sessionb632f660\n",
            "quarto-sessionbcbd8145\n",
            "quarto-sessionbf2ff88d\n",
            "quarto-sessionda8525d4\n",
            "quarto-sessionec0b2ed4\n",
            "quarto-sessionf3d60c95\n",
            "snap-private-tmp\n",
            "systemd-private-39daab962ea2479c8b8ce3f60ea86a38-ModemManager.service-cB7j4i\n",
            "systemd-private-39daab962ea2479c8b8ce3f60ea86a38-colord.service-YdaPNi\n",
            "systemd-private-39daab962ea2479c8b8ce3f60ea86a38-switcheroo-control.service-2a7hSg\n",
            "systemd-private-39daab962ea2479c8b8ce3f60ea86a38-systemd-logind.service-FATPQg\n",
            "systemd-private-39daab962ea2479c8b8ce3f60ea86a38-systemd-resolved.service-oRk1Ei\n",
            "systemd-private-39daab962ea2479c8b8ce3f60ea86a38-systemd-timesyncd.service-rxKFnh\n",
            "systemd-private-39daab962ea2479c8b8ce3f60ea86a38-upower.service-z0HyVh\n",
            "tfhub_modules\n",
            "tmp_h0vghma.json\n",
            "tracker-extract-files.1000\n",
            "tracker-extract-files.125"
          ]
        }
      ],
      "source": [
        "!ls /tmp"
      ],
      "id": "8ffca1b8-bf9c-4036-add6-a0c319e17207"
    },
    {
      "cell_type": "markdown",
      "metadata": {},
      "source": [
        "-   `/tmp` 에 다운로드되어있음\n",
        "\n",
        "## 정보\n",
        "\n",
        "`-` 기본정보: ENZYMES dataset\n",
        "\n",
        "> (ChatGPT) ENZYMES는 그래프 분류를 위한 벤치마크 데이터셋 중\n",
        "> 하나입니다. 이 데이터셋은 600개의 그래프로 구성되어 있으며, 6개의\n",
        "> 클래스로 분류됩니다. 각 그래프는 효소(enzyme) 분자의 구조를 나타내며,\n",
        "> 그래프의 노드는 원자(atom)를 나타내고, 엣지(edge)는 원자 간의 연결을\n",
        "> 나타냅니다. ENZYMES 데이터셋은 화학 및 생물 정보학 분야에서 그래프\n",
        "> 분류 알고리즘의 성능을 평가하기 위해 사용될 수 있습니다. 그래프 분류\n",
        "> 알고리즘은 주어진 그래프를 특정 클래스 레이블로 분류하는 작업을\n",
        "> 수행하는데 사용됩니다. 예를 들어, ENZYMES 데이터셋의 그래프는 특정\n",
        "> 효소 종류를 나타내며, 그래프 분류 알고리즘은 주어진 효소 그래프가 어떤\n",
        "> 종류의 효소인지 예측할 수 있습니다. PyG를 사용하여 ENZYMES 데이터셋을\n",
        "> 초기화하면 해당 데이터셋을 다운로드하고 필요한 전처리를 자동으로\n",
        "> 수행할 수 있습니다. 그래프 데이터를 다루는 머신 러닝 모델을 구축하고\n",
        "> 훈련시키기 위해 ENZYMES 데이터셋을 사용할 수 있습니다."
      ],
      "id": "7b34acab-788e-4077-b283-f27a43f01239"
    },
    {
      "cell_type": "code",
      "execution_count": 52,
      "metadata": {},
      "outputs": [],
      "source": [
        "dataset # 데이터셋 이름"
      ],
      "id": "5f8bb4a6-9b2c-4942-8a5a-472332a9f9da"
    },
    {
      "cell_type": "code",
      "execution_count": 53,
      "metadata": {},
      "outputs": [],
      "source": [
        "len(dataset) # 이 데이터셋에는 600개의 그래프가 있음"
      ],
      "id": "705120a8-1d4c-45a4-a6d7-24741b0dbde4"
    },
    {
      "cell_type": "code",
      "execution_count": 54,
      "metadata": {},
      "outputs": [],
      "source": [
        "dataset.num_classes # 6개의 클래스"
      ],
      "id": "e8d99470-cc2e-4b33-93c4-9cea3d0a0a31"
    },
    {
      "cell_type": "code",
      "execution_count": 55,
      "metadata": {},
      "outputs": [],
      "source": [
        "dataset.num_node_features # 각 노드에는 3개의 피처가 있음"
      ],
      "id": "145b90c8-eb1f-401a-bbf2-0f1f4891850c"
    },
    {
      "cell_type": "markdown",
      "metadata": {},
      "source": [
        "`-` 600개의 그래프중 첫번째 그래프에 접근"
      ],
      "id": "5ef45b6b-9ee9-44c2-812e-8ad1d9171eec"
    },
    {
      "cell_type": "code",
      "execution_count": 56,
      "metadata": {},
      "outputs": [],
      "source": [
        "dataset[0]"
      ],
      "id": "f2dee83e-37b1-4cad-8bc2-057268bdc495"
    },
    {
      "cell_type": "markdown",
      "metadata": {},
      "source": [
        "-   `x=[37, 3]`: $|{\\cal V}|=37$, $f \\in \\mathbb{R}^3$\n",
        "-   `edge_index=[2, 168]`: $|{\\cal E}|=168$\n",
        "\n",
        "## Train/Test 분리\n",
        "\n",
        "`-` 600개의 그래프중 540를 train으로, 60개를 test로"
      ],
      "id": "367cb89b-64f1-407f-83c3-beb43aacb52a"
    },
    {
      "cell_type": "code",
      "execution_count": 57,
      "metadata": {},
      "outputs": [],
      "source": [
        "train_dataset = dataset[:540]\n",
        "test_dataset = dataset[540:] "
      ],
      "id": "9dd87618-121f-432e-bd22-44d6c0d1647a"
    },
    {
      "cell_type": "markdown",
      "metadata": {},
      "source": [
        "# **데이터셋2**: Cora\n",
        "\n",
        "`-` 다운로드"
      ],
      "id": "14b1d4d7-9685-46e1-acc7-4ddfce4f178e"
    },
    {
      "cell_type": "code",
      "execution_count": 58,
      "metadata": {},
      "outputs": [],
      "source": [
        "dataset = torch_geometric.datasets.Planetoid(root='/tmp/Cora', name='Cora')"
      ],
      "id": "86cf2f19-8dc3-459e-a2d1-4b41a8d3260f"
    },
    {
      "cell_type": "markdown",
      "metadata": {},
      "source": [
        "## 정보\n",
        "\n",
        "> ChatGPT: Cora는 그래프 분류를 위한 벤치마크 데이터셋 중 하나로,\n",
        "> PyG에서도 사용할 수 있습니다. 이 데이터셋은 기계 학습 및 정보 검색\n",
        "> 분야에서 널리 사용되는 학술 논문들의 인용 네트워크를 나타냅니다. Cora\n",
        "> 데이터셋은 컴퓨터 과학 분야의 논문을 대상으로 합니다. 각 논문은\n",
        "> 그래프의 노드로 표현되며, 노드는 논문을 나타냅니다. 노드 간의 엣지는\n",
        "> 논문들 사이의 인용 관계를 나타냅니다. 따라서 Cora 데이터셋은 논문의\n",
        "> 텍스트 기반 정보와 인용 관계에 대한 그래프 구조를 제공합니다. Cora\n",
        "> 데이터셋은 7개의 클래스로 분류되며, 각 논문은 특성 벡터(feature\n",
        "> vector)로 표현됩니다. 이 특성 벡터에는 논문의 단어 등 다양한 정보가\n",
        "> 포함될 수 있습니다. PyG를 사용하여 Cora 데이터셋을 초기화하면 해당\n",
        "> 데이터셋을 다운로드하고 전처리를 자동으로 수행할 수 있습니다. 이를\n",
        "> 통해 머신 러닝 모델을 훈련시켜 Cora 데이터셋의 논문을 분류하거나\n",
        "> 다양한 작업을 수행할 수 있습니다.\n",
        "\n",
        "`-` 기본정보"
      ],
      "id": "43385f78-55a6-4f0e-8d5d-b9808c57b07b"
    },
    {
      "cell_type": "code",
      "execution_count": 59,
      "metadata": {},
      "outputs": [],
      "source": [
        "len(dataset) # 하나의 그래프가 있음"
      ],
      "id": "1dbbf891-1185-4d20-b1e5-476f93fc8b2e"
    },
    {
      "cell_type": "code",
      "execution_count": 60,
      "metadata": {},
      "outputs": [],
      "source": [
        "dataset.num_classes # 7개의 클래스가 있음"
      ],
      "id": "90ce480e-e877-4cbb-ab83-adf3bd3e6fb1"
    },
    {
      "cell_type": "code",
      "execution_count": 61,
      "metadata": {},
      "outputs": [],
      "source": [
        "dataset.num_node_features # 각 노드는 1433개의 특징이 있음. (논문에 포함된 단어등 다양한 특성이 담겨있을 수 있음) "
      ],
      "id": "e965c6a5-b869-4e36-8eeb-6124da19558e"
    },
    {
      "cell_type": "markdown",
      "metadata": {},
      "source": [
        "`-` 그래프에 접근"
      ],
      "id": "f95ae5c8-4b0d-41fb-bd52-1efd398f2ccc"
    },
    {
      "cell_type": "code",
      "execution_count": 62,
      "metadata": {},
      "outputs": [],
      "source": [
        "dataset[0] # 기본정보"
      ],
      "id": "43bbdb7f-4364-4230-8a4e-fa47a95d2a58"
    },
    {
      "cell_type": "markdown",
      "metadata": {},
      "source": [
        "-   `x=[2708, 1433]`: 2708개의 논문이 있고, 각 논문은 1433개의\n",
        "    특징벡터들로 이루어져 있음.\n",
        "-   `edge_index=[2, 10556]`: 논문간의 인용은 약 10556.\n",
        "-   `y=[2708]`:"
      ],
      "id": "548e9068-9a96-4896-806b-e4e20da1061e"
    },
    {
      "cell_type": "code",
      "execution_count": 63,
      "metadata": {},
      "outputs": [],
      "source": [
        "dataset[0].x.shape # 2708개의 논문이 있고 1433개의 특징벡터를 가짐"
      ],
      "id": "54134d06-d056-4f3f-93d9-d5e2250e16ee"
    },
    {
      "cell_type": "code",
      "execution_count": 64,
      "metadata": {},
      "outputs": [],
      "source": [
        "dataset[0].y.unique() # 논문이 7개의 카테고리로 분류되는듯"
      ],
      "id": "cf1a3e04-da71-4c0a-a1ee-6fe8f3a4cace"
    },
    {
      "cell_type": "markdown",
      "metadata": {},
      "source": [
        "## Train/Test (이미 분리되어 있음)"
      ],
      "id": "1da2fc2e-0e7b-4d0c-a475-341530b35f69"
    },
    {
      "cell_type": "code",
      "execution_count": 65,
      "metadata": {},
      "outputs": [],
      "source": [
        "dataset[0].train_mask \n",
        "# dataset[0].train_mask 는 True, False로 이루어져 있는 길이가 2708(=노드수=논문수)인 벡터\n",
        "# 여기에서 True인 노드만 훈련함"
      ],
      "id": "4877157e-389d-46f3-89fe-f2cf66555b74"
    },
    {
      "cell_type": "code",
      "execution_count": 66,
      "metadata": {},
      "outputs": [],
      "source": [
        "dataset[0].train_mask.sum() # 140개의 노드만 훈련함? "
      ],
      "id": "0e17b790-3677-44e5-b5a1-939480bbf95b"
    },
    {
      "cell_type": "code",
      "execution_count": 67,
      "metadata": {},
      "outputs": [],
      "source": [
        "dataset[0].val_mask.sum() # val은 500개의 노드?"
      ],
      "id": "4896026c-df7f-48e3-b530-e76fc3c0016c"
    },
    {
      "cell_type": "code",
      "execution_count": 68,
      "metadata": {},
      "outputs": [],
      "source": [
        "dataset[0].test_mask.sum() # test set은 1000?"
      ],
      "id": "d6ea59ec-07e7-40aa-acbe-d0ae7acd08aa"
    },
    {
      "cell_type": "code",
      "execution_count": 69,
      "metadata": {},
      "outputs": [],
      "source": [
        "dataset.edge_index"
      ],
      "id": "28da7b2d-8200-4de6-9c96-3c6a5f62abe4"
    },
    {
      "cell_type": "code",
      "execution_count": 94,
      "metadata": {},
      "outputs": [],
      "source": [
        "pd.DataFrame(dataset[0].train_mask)[0].eq('True')"
      ],
      "id": "c4084520-e911-47f1-b5e4-16a732dce86f"
    }
  ],
  "nbformat": 4,
  "nbformat_minor": 5,
  "metadata": {
    "kernelspec": {
      "name": "python3",
      "display_name": "Python 3",
      "language": "python"
    },
    "language_info": {
      "name": "python",
      "codemirror_mode": {
        "name": "ipython",
        "version": "3"
      },
      "file_extension": ".py",
      "mimetype": "text/x-python",
      "nbconvert_exporter": "python",
      "pygments_lexer": "ipython3",
      "version": "3.8.0"
    }
  }
}
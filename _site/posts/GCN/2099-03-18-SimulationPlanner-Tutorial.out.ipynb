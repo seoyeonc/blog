{
  "cells": [
    {
      "cell_type": "markdown",
      "metadata": {},
      "source": [
        "# SimualtionPlanner-Tutorial\n",
        "\n",
        "SEOYEON CHOI  \n",
        "3/18/23\n",
        "\n",
        "> table\n",
        "\n",
        "# BLOCK\n",
        "\n",
        "# List\n",
        "\n",
        "1.  \n",
        "\n",
        "-   max_iter=30/linear/epoch=50\\~200/STGCN,IT-STGCN\n",
        "\n",
        "1.  \n",
        "\n",
        "-   missing 만드는 법(block 생각)\n",
        "\n",
        "1.  \n",
        "\n",
        "-   \n",
        "\n",
        "4.반복의미 없음, 고정된 값 출력되어서\n",
        "\n",
        "-   \n",
        "\n",
        "할 거\n",
        "\n",
        "-   missing 0일 때 STGCN/GNAR 비교(CHECK)\n",
        "-   baseline 제시될만한 데이터셋 뭘까.\n",
        "-   GNAR warning 안 나오는 법 찾아보기\n",
        "-   mindex가 중요ㅡ mtype은 기록용으로만 사용됨\n",
        "\n",
        "`_df = pd.concat([_a,,_b,_c],axis=0)`\n",
        "\n",
        "`save_data(_df, './data/Pedal_estgcn_randomly_by_rate.pkl')`\n",
        "\n",
        "# imports\n",
        "\n",
        "https://pytorch-geometric-temporal.readthedocs.io/en/latest/\\_modules/index.html"
      ],
      "id": "290eb4b4-e775-4e84-b947-6d2128a65839"
    },
    {
      "cell_type": "code",
      "execution_count": null,
      "metadata": {},
      "outputs": [],
      "source": [
        "import itstgcnGCLSTM\n",
        "import torch\n",
        "import itstgcnGCLSTM.planner "
      ],
      "id": "4cbde8c2-ac1f-4c2d-b97a-f41eaa2a691a"
    },
    {
      "cell_type": "code",
      "execution_count": null,
      "metadata": {},
      "outputs": [],
      "source": [
        "from torch_geometric_temporal.dataset import ChickenpoxDatasetLoader\n",
        "loader1 = ChickenpoxDatasetLoader()"
      ],
      "id": "5e61a52e-b620-4a00-82b9-83a205737f78"
    },
    {
      "cell_type": "code",
      "execution_count": null,
      "metadata": {},
      "outputs": [],
      "source": [
        "from torch_geometric_temporal.dataset import PedalMeDatasetLoader\n",
        "loader2 = PedalMeDatasetLoader()"
      ],
      "id": "2c8376fb-030e-4561-ae83-27960cabc41c"
    },
    {
      "cell_type": "code",
      "execution_count": null,
      "metadata": {},
      "outputs": [],
      "source": [
        "from torch_geometric_temporal.dataset import WikiMathsDatasetLoader\n",
        "loader3 = WikiMathsDatasetLoader()"
      ],
      "id": "1ce3f200-a9da-49ee-a972-df87558c99c7"
    },
    {
      "cell_type": "code",
      "execution_count": null,
      "metadata": {},
      "outputs": [],
      "source": [
        "from torch_geometric_temporal.dataset import WindmillOutputLargeDatasetLoader\n",
        "loader4 = WindmillOutputLargeDatasetLoader()"
      ],
      "id": "4308abd3-ef14-4d4e-bd4d-5f16a2f48a44"
    },
    {
      "cell_type": "code",
      "execution_count": null,
      "metadata": {},
      "outputs": [],
      "source": [
        "from torch_geometric_temporal.dataset import WindmillOutputMediumDatasetLoader\n",
        "loader5 = WindmillOutputMediumDatasetLoader()"
      ],
      "id": "ae035745-e0b7-40a2-9987-9cf43d890de7"
    },
    {
      "cell_type": "code",
      "execution_count": null,
      "metadata": {},
      "outputs": [],
      "source": [
        "from torch_geometric_temporal.dataset import WindmillOutputSmallDatasetLoader\n",
        "loader6 = WindmillOutputSmallDatasetLoader()"
      ],
      "id": "6fdc8cc8-be02-40e2-b224-c912bfdc3f06"
    },
    {
      "cell_type": "code",
      "execution_count": 2,
      "metadata": {},
      "outputs": [],
      "source": [
        "loader6 = itstgcnGCLSTM.load_data('./data/Windmillsmall.pkl')"
      ],
      "id": "339fca0c-bd2a-4b08-bdb8-3055bfb439d3"
    },
    {
      "cell_type": "code",
      "execution_count": null,
      "metadata": {},
      "outputs": [],
      "source": [
        "# dataset6 = _a.get_dataset(lags=8)"
      ],
      "id": "42162c7d-d5ed-4412-b141-6e4a7135ef4b"
    },
    {
      "cell_type": "code",
      "execution_count": null,
      "metadata": {},
      "outputs": [],
      "source": [
        "from torch_geometric_temporal.dataset import MontevideoBusDatasetLoader\n",
        "loader10 = MontevideoBusDatasetLoader()"
      ],
      "id": "c45e3cfe-3d37-468d-85e5-1e46a846d267"
    },
    {
      "cell_type": "code",
      "execution_count": null,
      "metadata": {},
      "outputs": [],
      "source": [
        "import numpy as np"
      ],
      "id": "d343758d-2367-4cf7-bf58-eccbd9a9ae9e"
    },
    {
      "cell_type": "code",
      "execution_count": null,
      "metadata": {},
      "outputs": [],
      "source": [
        "import pandas as pd"
      ],
      "id": "f8c147db-e56b-49ae-bda2-7560ffa9500d"
    },
    {
      "cell_type": "markdown",
      "metadata": {},
      "source": [
        "# read data"
      ],
      "id": "bd075542-19ee-4546-a929-58e27a1426ae"
    },
    {
      "cell_type": "code",
      "execution_count": null,
      "metadata": {},
      "outputs": [],
      "source": [
        "# _data = itstgcn.load_data('./data/fivenodes.pkl')\n",
        "# _edges = torch.tensor(_data['edges']).nonzero().tolist()\n",
        "# _FX = _data['f'].tolist()\n",
        "# _node_ids = {'node1':0, 'node2':1, 'node3':2, 'node4':3, 'node5':4} \n",
        "# data_dict = {'edges':_edges, 'node_ids':_node_ids, 'FX':_FX}\n",
        "data_dict = itstgcn.load_data('./data/fivenodes.pkl')\n",
        "loader = itstgcn.DatasetLoader(data_dict)"
      ],
      "id": "4173033b-a8d4-4e27-80dc-fb86e2babe72"
    },
    {
      "cell_type": "markdown",
      "metadata": {},
      "source": [
        "## PLNR_STGCN_RAND"
      ],
      "id": "7413d280-de6d-49f2-aca2-bdadf89b01b9"
    },
    {
      "cell_type": "code",
      "execution_count": null,
      "metadata": {},
      "outputs": [],
      "source": [
        "plans_stgcn_rand = {\n",
        "    'max_iteration': 30, \n",
        "    'method': ['STGCN', 'IT-STGCN'],\n",
        "    'mrate': [0,0.7,0.8],\n",
        "    'lags': [2], \n",
        "    'nof_filters': [12], \n",
        "    'inter_method': ['linear','nearest'],\n",
        "    'epoch': [50]\n",
        "}"
      ],
      "id": "01cee6f6-606a-4363-8b4a-20511c5cca4e"
    },
    {
      "cell_type": "code",
      "execution_count": null,
      "metadata": {},
      "outputs": [],
      "source": [
        "plnr = itstgcn.planner.PLNR_STGCN_RAND(plans_stgcn_rand,loader1,dataset_name='fivenodes')\n",
        "plnr.simulate()"
      ],
      "id": "7703ad18-e66f-408a-8a8c-71991d057f9d"
    },
    {
      "cell_type": "code",
      "execution_count": null,
      "metadata": {},
      "outputs": [],
      "source": [
        "plans_stgcn_rand = {\n",
        "    'max_iteration': 30, \n",
        "    'method': ['STGCN', 'IT-STGCN'],\n",
        "    'mrate': [0.3,0.8],\n",
        "    'lags': [4], \n",
        "    'nof_filters': [16], \n",
        "    'inter_method': ['linear'],\n",
        "    'epoch': [50]\n",
        "}"
      ],
      "id": "6d58a60c-24a9-42e2-b4ad-21bed000c347"
    },
    {
      "cell_type": "code",
      "execution_count": null,
      "metadata": {},
      "outputs": [],
      "source": [
        "plnr = itstgcn.planner.PLNR_STGCN_RAND(plans_stgcn_rand,loader1,dataset_name='chickenpox')\n",
        "plnr.simulate()"
      ],
      "id": "42b35167-6e54-40d7-b42f-07202a047243"
    },
    {
      "cell_type": "code",
      "execution_count": null,
      "metadata": {},
      "outputs": [],
      "source": [
        "plans_stgcn_rand = {\n",
        "    'max_iteration': 30, \n",
        "    'method': ['STGCN', 'IT-STGCN'],\n",
        "    'mrate': [0],\n",
        "    'lags': [4], \n",
        "    'nof_filters': [16], \n",
        "    'inter_method': ['linear'],\n",
        "    'epoch': [50]\n",
        "}"
      ],
      "id": "ba29ae7c-5bf9-4870-8247-8e14c84da170"
    },
    {
      "cell_type": "code",
      "execution_count": null,
      "metadata": {},
      "outputs": [],
      "source": [
        "plnr = itstgcn.planner.PLNR_STGCN_RAND(plans_stgcn_rand,loader1,dataset_name='chickenpox')\n",
        "plnr.simulate()"
      ],
      "id": "557e0a0c-3ac5-4591-b514-8936d95d774c"
    },
    {
      "cell_type": "code",
      "execution_count": null,
      "metadata": {},
      "outputs": [],
      "source": [
        "plans_stgcn_rand = {\n",
        "    'max_iteration': 1, \n",
        "    'method': ['STGCN', 'IT-STGCN'], \n",
        "    'mrate': [0],\n",
        "    'lags': [8], \n",
        "    'nof_filters': [12], \n",
        "    'inter_method': ['linear'],\n",
        "    'epoch': [50]\n",
        "}"
      ],
      "id": "7eae8351-c012-4593-a641-b7104a5dcb75"
    },
    {
      "cell_type": "code",
      "execution_count": null,
      "metadata": {},
      "outputs": [],
      "source": [
        "plnr = itstgcn.planner.PLNR_STGCN_RAND(plans_stgcn_rand,loader6,dataset_name='windmillsmall')\n",
        "plnr.simulate()"
      ],
      "id": "7f53ccff-dd60-44ae-b968-68c02adbf160"
    },
    {
      "cell_type": "code",
      "execution_count": null,
      "metadata": {},
      "outputs": [],
      "source": [
        "plans_stgcn_rand = {\n",
        "    'max_iteration': 10, \n",
        "    'method': ['STGCN', 'IT-STGCN'], \n",
        "    'mrate': [0.3],\n",
        "    'lags': [2, 4], \n",
        "    'nof_filters': [12], \n",
        "    'inter_method': ['linear'],\n",
        "    'epoch': [50]\n",
        "}"
      ],
      "id": "69e6bd4b-9416-4b27-89c7-4696ab25ec7c"
    },
    {
      "cell_type": "code",
      "execution_count": null,
      "metadata": {},
      "outputs": [],
      "source": [
        "plnr = itstgcnadd.planner.PLNR_STGCN_RAND(plans_stgcn_rand,loader3,dataset_name='wikimath')"
      ],
      "id": "c8c4b939-2e98-4c61-84f0-a6246b846209"
    },
    {
      "cell_type": "code",
      "execution_count": null,
      "metadata": {},
      "outputs": [],
      "source": [
        "plnr.simulate()"
      ],
      "id": "07521bd1-8c5a-4baf-8fb1-deed40cd56aa"
    },
    {
      "cell_type": "code",
      "execution_count": null,
      "metadata": {},
      "outputs": [],
      "source": [
        "plans_stgcn_rand = {\n",
        "    'max_iteration': 1, \n",
        "    'method': ['STGCN', 'IT-STGCN'], \n",
        "    'RecurrentGCN' : ['DCRNN'],\n",
        "    'mrate': [0],\n",
        "    'lags': [8], \n",
        "    'nof_filters': [12], \n",
        "    'inter_method': ['linear'],\n",
        "    'epoch': [50]\n",
        "}"
      ],
      "id": "bf88fab8-b40f-4e9d-8416-33ce5ebc500c"
    },
    {
      "cell_type": "code",
      "execution_count": null,
      "metadata": {},
      "outputs": [],
      "source": [
        "plnr = itstgcnadd.planner.PLNR_STGCN_RAND(plans_stgcn_rand,loader6,dataset_name='windmillsmall')\n",
        "plnr.simulate()"
      ],
      "id": "91011d10-b53a-495d-848d-db2e3ed265b2"
    },
    {
      "cell_type": "code",
      "execution_count": 3,
      "metadata": {},
      "outputs": [],
      "source": [
        "my_list = [[] for _ in range(11)] #windmilsmall\n",
        "another_list = list(range(5000,7500)) # 17470*0.8 = 13976.0\n",
        "my_list[1] = another_list\n",
        "my_list[3] = another_list\n",
        "my_list[5] = another_list\n",
        "my_list[7] = another_list\n",
        "my_list[9] = another_list\n",
        "mindex = my_list"
      ],
      "id": "b6f53a22-8871-4b2a-ba07-a9909ec77944"
    },
    {
      "cell_type": "code",
      "execution_count": 4,
      "metadata": {},
      "outputs": [],
      "source": [
        "# mindex= [[],[],[],list(range(50,150)),[]]  # node 1\n",
        "# mindex= [list(range(10,100)),[],list(range(50,80)),[],[]] # node 2\n",
        "# mindex= [list(range(10,100)),[],list(range(50,80)),list(range(50,150)),[]] # node3\n",
        "plans_stgcn_block = {\n",
        "    'max_iteration': 1, \n",
        "    'method': ['STGCN', 'IT-STGCN'], \n",
        "    'mindex': [mindex],\n",
        "    'lags': [8], \n",
        "    'nof_filters': [16], \n",
        "    'inter_method': ['linear'],\n",
        "    'epoch': [50]\n",
        "}"
      ],
      "id": "894a55ed-0792-4d0e-8488-66e18ae77434"
    },
    {
      "cell_type": "code",
      "execution_count": null,
      "metadata": {},
      "outputs": [
        {
          "output_type": "stream",
          "name": "stderr",
          "text": [
            "/home/csy/Dropbox/blog/posts/GCN/itstgcnGCLSTM/utils.py:71: UserWarning: Creating a tensor from a list of numpy.ndarrays is extremely slow. Please consider converting the list to a single numpy.ndarray with numpy.array() before converting to a tensor. (Triggered internally at /opt/conda/conda-bld/pytorch_1682343998658/work/torch/csrc/utils/tensor_new.cpp:245.)\n",
            "  lags = torch.tensor(train_dataset.features).shape[-1]"
          ]
        }
      ],
      "source": [
        "plnr = itstgcnGCLSTM.planner.PLNR_STGCN_MANUAL(plans_stgcn_block,loader6,dataset_name='windmillsmall')\n",
        "plnr.simulate(mindex=mindex,mtype='block')"
      ],
      "id": "beac2eaa-2fb5-46d3-b341-0c4ba45a9cd2"
    },
    {
      "cell_type": "code",
      "execution_count": null,
      "metadata": {},
      "outputs": [],
      "source": [
        "plnr = itstgcnGCLSTM.planner.PLNR_STGCN_MANUAL(plans_stgcn_block,loader6,dataset_name='windmillsmall')\n",
        "plnr.simulate(mindex=mindex,mtype='block')"
      ],
      "id": "6bcc13e3-d9c1-470c-926a-4c5fc40a23ec"
    },
    {
      "cell_type": "code",
      "execution_count": null,
      "metadata": {},
      "outputs": [],
      "source": [
        "plnr = itstgcnGCLSTM.planner.PLNR_STGCN_MANUAL(plans_stgcn_block,loader6,dataset_name='windmillsmall')\n",
        "plnr.simulate(mindex=mindex,mtype='block')"
      ],
      "id": "da3cd74d-484a-409d-84a4-3565e693e233"
    },
    {
      "cell_type": "code",
      "execution_count": null,
      "metadata": {},
      "outputs": [],
      "source": [
        "plnr = itstgcnGCLSTM.planner.PLNR_STGCN_MANUAL(plans_stgcn_block,loader6,dataset_name='windmillsmall')\n",
        "plnr.simulate(mindex=mindex,mtype='block')"
      ],
      "id": "2ed04d9a-53af-488e-a032-fe49493402be"
    },
    {
      "cell_type": "code",
      "execution_count": null,
      "metadata": {},
      "outputs": [],
      "source": [
        "plnr = itstgcnGCLSTM.planner.PLNR_STGCN_MANUAL(plans_stgcn_block,loader6,dataset_name='windmillsmall')\n",
        "plnr.simulate(mindex=mindex,mtype='block')"
      ],
      "id": "65d39139-4b99-4c30-869e-dc3bc78ec296"
    },
    {
      "cell_type": "code",
      "execution_count": null,
      "metadata": {},
      "outputs": [],
      "source": [
        "plnr = itstgcnGCLSTM.planner.PLNR_STGCN_MANUAL(plans_stgcn_block,loader6,dataset_name='windmillsmall')\n",
        "plnr.simulate(mindex=mindex,mtype='block')"
      ],
      "id": "43f4dd68-1aa4-43e0-a85d-fed787c50da0"
    },
    {
      "cell_type": "code",
      "execution_count": null,
      "metadata": {},
      "outputs": [],
      "source": [
        "plnr = itstgcnGCLSTM.planner.PLNR_STGCN_MANUAL(plans_stgcn_block,loader6,dataset_name='windmillsmall')\n",
        "plnr.simulate(mindex=mindex,mtype='block')"
      ],
      "id": "a8baf0de-3f07-478f-8302-b600df24c759"
    },
    {
      "cell_type": "code",
      "execution_count": null,
      "metadata": {},
      "outputs": [],
      "source": [
        "plnr = itstgcnGCLSTM.planner.PLNR_STGCN_MANUAL(plans_stgcn_block,loader6,dataset_name='windmillsmall')\n",
        "plnr.simulate(mindex=mindex,mtype='block')"
      ],
      "id": "0736fa07-5aa7-4f6e-bb4e-53017e498ecf"
    },
    {
      "cell_type": "code",
      "execution_count": null,
      "metadata": {},
      "outputs": [],
      "source": [
        "plnr = itstgcnGCLSTM.planner.PLNR_STGCN_MANUAL(plans_stgcn_block,loader6,dataset_name='windmillsmall')\n",
        "plnr.simulate(mindex=mindex,mtype='block')"
      ],
      "id": "aae4ae7f-49a9-482b-9e11-37b4ac63b606"
    },
    {
      "cell_type": "code",
      "execution_count": null,
      "metadata": {},
      "outputs": [],
      "source": [
        "plnr = itstgcnGCLSTM.planner.PLNR_STGCN_MANUAL(plans_stgcn_block,loader6,dataset_name='windmillsmall')\n",
        "plnr.simulate(mindex=mindex,mtype='block')"
      ],
      "id": "1ea2f267-2eff-42dc-98a2-2cf16b3b8465"
    },
    {
      "cell_type": "code",
      "execution_count": null,
      "metadata": {},
      "outputs": [],
      "source": [
        "plnr = itstgcnGCLSTM.planner.PLNR_STGCN_MANUAL(plans_stgcn_block,loader6,dataset_name='windmillsmall')\n",
        "plnr.simulate(mindex=mindex,mtype='block')"
      ],
      "id": "77636575-231c-49e4-878e-fc893bf01f65"
    },
    {
      "cell_type": "code",
      "execution_count": null,
      "metadata": {},
      "outputs": [],
      "source": [
        "plnr = itstgcnGCLSTM.planner.PLNR_STGCN_MANUAL(plans_stgcn_block,loader6,dataset_name='windmillsmall')\n",
        "plnr.simulate(mindex=mindex,mtype='block')"
      ],
      "id": "23dd7cb6-165d-409d-82b3-2c5a9c5ce1c6"
    },
    {
      "cell_type": "code",
      "execution_count": null,
      "metadata": {},
      "outputs": [],
      "source": [
        "plnr = itstgcnGCLSTM.planner.PLNR_STGCN_MANUAL(plans_stgcn_block,loader6,dataset_name='windmillsmall')\n",
        "plnr.simulate(mindex=mindex,mtype='block')"
      ],
      "id": "d1939874-ceab-4536-9b2f-5953df8a4f6f"
    },
    {
      "cell_type": "code",
      "execution_count": null,
      "metadata": {},
      "outputs": [],
      "source": [
        "plnr = itstgcnGCLSTM.planner.PLNR_STGCN_MANUAL(plans_stgcn_block,loader6,dataset_name='windmillsmall')\n",
        "plnr.simulate(mindex=mindex,mtype='block')"
      ],
      "id": "4232ee24-e1d3-4b45-ae58-f031f1502313"
    },
    {
      "cell_type": "code",
      "execution_count": null,
      "metadata": {},
      "outputs": [],
      "source": [
        "plnr = itstgcnGCLSTM.planner.PLNR_STGCN_MANUAL(plans_stgcn_block,loader6,dataset_name='windmillsmall')\n",
        "plnr.simulate(mindex=mindex,mtype='block')"
      ],
      "id": "f53a5044-0a28-4151-bafd-7a1a4862ff65"
    },
    {
      "cell_type": "code",
      "execution_count": null,
      "metadata": {},
      "outputs": [],
      "source": [
        "plnr = itstgcnGCLSTM.planner.PLNR_STGCN_MANUAL(plans_stgcn_block,loader6,dataset_name='windmillsmall')\n",
        "plnr.simulate(mindex=mindex,mtype='block')"
      ],
      "id": "56796ddb-56d9-4479-a402-af504b07f10f"
    },
    {
      "cell_type": "code",
      "execution_count": null,
      "metadata": {},
      "outputs": [],
      "source": [
        "plnr = itstgcnGCLSTM.planner.PLNR_STGCN_MANUAL(plans_stgcn_block,loader6,dataset_name='windmillsmall')\n",
        "plnr.simulate(mindex=mindex,mtype='block')"
      ],
      "id": "99e20492-560e-4eff-b8f3-7973d48a6c3a"
    },
    {
      "cell_type": "code",
      "execution_count": null,
      "metadata": {},
      "outputs": [],
      "source": [
        "plnr = itstgcnGCLSTM.planner.PLNR_STGCN_MANUAL(plans_stgcn_block,loader6,dataset_name='windmillsmall')\n",
        "plnr.simulate(mindex=mindex,mtype='block')"
      ],
      "id": "b0e2e850-c95a-48cd-9c07-254e611c577e"
    },
    {
      "cell_type": "code",
      "execution_count": null,
      "metadata": {},
      "outputs": [],
      "source": [
        "plnr = itstgcnGCLSTM.planner.PLNR_STGCN_MANUAL(plans_stgcn_block,loader6,dataset_name='windmillsmall')\n",
        "plnr.simulate(mindex=mindex,mtype='block')"
      ],
      "id": "6018ec22-dae7-4da9-b067-9f4c1a1d5673"
    },
    {
      "cell_type": "code",
      "execution_count": null,
      "metadata": {},
      "outputs": [],
      "source": [
        "plnr = itstgcnGCLSTM.planner.PLNR_STGCN_MANUAL(plans_stgcn_block,loader6,dataset_name='windmillsmall')\n",
        "plnr.simulate(mindex=mindex,mtype='block')"
      ],
      "id": "c30b6f1b-25cd-470b-8cb4-f8062d2034ec"
    },
    {
      "cell_type": "code",
      "execution_count": null,
      "metadata": {},
      "outputs": [],
      "source": [
        "plnr = itstgcnGCLSTM.planner.PLNR_STGCN_MANUAL(plans_stgcn_block,loader6,dataset_name='windmillsmall')\n",
        "plnr.simulate(mindex=mindex,mtype='block')"
      ],
      "id": "b6b6b4bb-cdd6-47e9-b896-c477e06c54c8"
    },
    {
      "cell_type": "code",
      "execution_count": null,
      "metadata": {},
      "outputs": [],
      "source": [
        "plnr = itstgcnGCLSTM.planner.PLNR_STGCN_MANUAL(plans_stgcn_block,loader6,dataset_name='windmillsmall')\n",
        "plnr.simulate(mindex=mindex,mtype='block')"
      ],
      "id": "e9b22cb8-7f05-4cfb-bd15-b7c373e3a67a"
    },
    {
      "cell_type": "code",
      "execution_count": null,
      "metadata": {},
      "outputs": [],
      "source": [
        "plnr = itstgcnGCLSTM.planner.PLNR_STGCN_MANUAL(plans_stgcn_block,loader6,dataset_name='windmillsmall')\n",
        "plnr.simulate(mindex=mindex,mtype='block')"
      ],
      "id": "ea34ebf2-2c25-437d-85ac-bc01b54f50a6"
    },
    {
      "cell_type": "code",
      "execution_count": null,
      "metadata": {},
      "outputs": [],
      "source": [
        "plnr = itstgcnGCLSTM.planner.PLNR_STGCN_MANUAL(plans_stgcn_block,loader6,dataset_name='windmillsmall')\n",
        "plnr.simulate(mindex=mindex,mtype='block')"
      ],
      "id": "40354f20-542c-4d4c-9717-ce751bad2834"
    },
    {
      "cell_type": "code",
      "execution_count": null,
      "metadata": {},
      "outputs": [],
      "source": [
        "plnr = itstgcnGCLSTM.planner.PLNR_STGCN_MANUAL(plans_stgcn_block,loader6,dataset_name='windmillsmall')\n",
        "plnr.simulate(mindex=mindex,mtype='block')"
      ],
      "id": "1f727b35-5b6c-4397-b557-557e7935d682"
    },
    {
      "cell_type": "code",
      "execution_count": null,
      "metadata": {},
      "outputs": [],
      "source": [
        "plnr = itstgcnGCLSTM.planner.PLNR_STGCN_MANUAL(plans_stgcn_block,loader6,dataset_name='windmillsmall')\n",
        "plnr.simulate(mindex=mindex,mtype='block')"
      ],
      "id": "0997e7e0-e626-4b53-b126-f45fadac54db"
    },
    {
      "cell_type": "code",
      "execution_count": null,
      "metadata": {},
      "outputs": [],
      "source": [
        "plnr = itstgcnGCLSTM.planner.PLNR_STGCN_MANUAL(plans_stgcn_block,loader6,dataset_name='windmillsmall')\n",
        "plnr.simulate(mindex=mindex,mtype='block')"
      ],
      "id": "56616b5c-3a68-4cea-a936-3ce587c8e30d"
    },
    {
      "cell_type": "code",
      "execution_count": null,
      "metadata": {},
      "outputs": [],
      "source": [
        "plnr = itstgcnGCLSTM.planner.PLNR_STGCN_MANUAL(plans_stgcn_block,loader6,dataset_name='windmillsmall')\n",
        "plnr.simulate(mindex=mindex,mtype='block')"
      ],
      "id": "9d9084a9-85d1-4803-9ef2-7187f47e5952"
    },
    {
      "cell_type": "code",
      "execution_count": null,
      "metadata": {},
      "outputs": [],
      "source": [
        "plnr = itstgcnGCLSTM.planner.PLNR_STGCN_MANUAL(plans_stgcn_block,loader6,dataset_name='windmillsmall')\n",
        "plnr.simulate(mindex=mindex,mtype='block')"
      ],
      "id": "df39ec35-7d26-4cab-a33b-9587b93769eb"
    },
    {
      "cell_type": "code",
      "execution_count": null,
      "metadata": {},
      "outputs": [],
      "source": [
        "plnr = itstgcnGCLSTM.planner.PLNR_STGCN_MANUAL(plans_stgcn_block,loader6,dataset_name='windmillsmall')\n",
        "plnr.simulate(mindex=mindex,mtype='block')"
      ],
      "id": "210ead35-1ab8-415f-b4a9-3b93c630a966"
    },
    {
      "cell_type": "markdown",
      "metadata": {},
      "source": [
        "## PLNR_STGCN_MANUAL"
      ],
      "id": "93462e35-d7fd-4e31-a9bf-6ecd648d1aad"
    },
    {
      "cell_type": "code",
      "execution_count": null,
      "metadata": {},
      "outputs": [],
      "source": [
        "my_list = [[] for _ in range(20)] #chickenpox\n",
        "another_list = list(range(100,400))\n",
        "my_list[1] = another_list\n",
        "my_list[3] = another_list\n",
        "my_list[5] = another_list\n",
        "my_list[7] = another_list\n",
        "my_list[9] = another_list\n",
        "my_list[11] = another_list\n",
        "my_list[13] = another_list\n",
        "my_list[15] = another_list\n",
        "mindex = my_list"
      ],
      "id": "d7f1e792-acdf-4f70-b0f7-ffa6716c7bad"
    },
    {
      "cell_type": "code",
      "execution_count": null,
      "metadata": {},
      "outputs": [],
      "source": [
        "my_list = [[] for _ in range(15)] #pedalme\n",
        "another_list = list(range(5,35))\n",
        "my_list[2] = another_list\n",
        "my_list[4] = another_list\n",
        "my_list[7] = another_list\n",
        "my_list[11] = another_list\n",
        "mindex = my_list"
      ],
      "id": "8a3cb987-3ba1-4e45-815d-b867387a4f2b"
    },
    {
      "cell_type": "code",
      "execution_count": null,
      "metadata": {},
      "outputs": [],
      "source": [
        "import random\n",
        "my_list = [[] for _ in range(1068)] # wikimath\n",
        "another_list = random.sample(range(570), 72)\n",
        "# my_list에서 250개 요소 무작위 선택\n",
        "selected_indexes = random.sample(range(len(my_list)), 250)\n",
        "# 선택된 요소에 해당하는 값들을 another_list에 할당\n",
        "for index in selected_indexes:\n",
        "    my_list[index] = another_list"
      ],
      "id": "574e9ff1-7047-4ab1-bee9-f2df99ad75fc"
    },
    {
      "cell_type": "code",
      "execution_count": null,
      "metadata": {},
      "outputs": [],
      "source": [
        "# _data = itstgcn.load_data('./data/fivenodes.pkl')\n",
        "# _edges = torch.tensor(_data['edges']).nonzero().tolist()\n",
        "# _FX = _data['f'].tolist()\n",
        "# _node_ids = {'node1':0, 'node2':1, 'node3':2, 'node4':3, 'node5':4} \n",
        "# data_dict = {'edges':_edges, 'node_ids':_node_ids, 'FX':_FX}\n",
        "# loader = itstgcn.DatasetLoader(data_dict)\n",
        "# data_dict = itstgcn.load_data('./data/fivenodes.pkl')\n",
        "# loader = itstgcn.DatasetLoader(data_dict)"
      ],
      "id": "98578d45-0f75-4910-87f2-a6977dcc113f"
    },
    {
      "cell_type": "code",
      "execution_count": null,
      "metadata": {},
      "outputs": [],
      "source": [
        "# mindex= [[],[],[],list(range(50,150)),[]]\n",
        "# mindex= [list(range(50,150)),[],list(range(50,90)),list(range(50,150)),[]] # node 2\n",
        "plans_stgcn_block = {\n",
        "    'max_iteration': 10, \n",
        "    'method': ['STGCN', 'IT-STGCN'],\n",
        "    'RecurrentGCN' : ['GConvGRU','GConvLSTM'],\n",
        "    'mindex': [mindex],\n",
        "    'lags': [4], \n",
        "    'nof_filters': [16], \n",
        "    'inter_method': ['linear'],\n",
        "    'epoch': [50],\n",
        "    'lr': [0.01]\n",
        "}"
      ],
      "id": "c2dc3162-b674-4bb2-8892-19ccac61b069"
    },
    {
      "cell_type": "code",
      "execution_count": null,
      "metadata": {},
      "outputs": [],
      "source": [
        "plnr = itstgcn.planner.PLNR_STGCN_MANUAL(plans_stgcn_block,loader1,dataset_name='chickenpox')\n",
        "\n",
        "plnr.simulate(mindex=mindex,mtype='block')"
      ],
      "id": "a4176fc6-b6c2-404a-a82c-8d128e4834b0"
    },
    {
      "cell_type": "code",
      "execution_count": null,
      "metadata": {},
      "outputs": [],
      "source": [
        "plnr = itstgcn.planner.PLNR_STGCN_MANUAL(plans_stgcn_block,loader1,dataset_name='chickenpox')\n",
        "\n",
        "plnr.simulate(mindex=mindex,mtype='block')"
      ],
      "id": "6ac79f2b-13ed-4ec3-8507-4028788b9abf"
    },
    {
      "cell_type": "code",
      "execution_count": null,
      "metadata": {},
      "outputs": [],
      "source": [
        "plnr = itstgcnadd.planner.PLNR_STGCN_MANUAL(plans_stgcn_block,loader2,dataset_name='pedalme')"
      ],
      "id": "9eaee031-1b23-4446-a823-313af5509c55"
    },
    {
      "cell_type": "code",
      "execution_count": null,
      "metadata": {},
      "outputs": [],
      "source": [
        "plnr.simulate(mindex=mindex,mtype='block')"
      ],
      "id": "767e3935-4620-49de-b691-50345085aa72"
    },
    {
      "cell_type": "code",
      "execution_count": null,
      "metadata": {},
      "outputs": [],
      "source": [
        "# mindex= [[],[],[],list(range(50,150)),[]]\n",
        "# mindex= [list(range(50,150)),[],list(range(50,90)),list(range(50,150)),[]] # node 2\n",
        "plans_stgcn_block = {\n",
        "    'max_iteration': 10, \n",
        "    'method': ['STGCN', 'IT-STGCN'], \n",
        "    'RecurrentGCN' : ['GConvGRU','GConvLSTM'],\n",
        "    'mindex': [mindex],\n",
        "    'lags': [2,4], \n",
        "    'nof_filters': [12], \n",
        "    'inter_method': ['linear'],\n",
        "    'epoch': [50]\n",
        "}"
      ],
      "id": "bd2a8131-c534-4883-9409-acfa71228e36"
    },
    {
      "cell_type": "code",
      "execution_count": null,
      "metadata": {},
      "outputs": [],
      "source": [
        "plnr = itstgcnadd.planner.PLNR_STGCN_MANUAL(plans_stgcn_block,loader3,dataset_name='wikimath')"
      ],
      "id": "b5663e4d-2574-4b37-92a4-f68b61116317"
    },
    {
      "cell_type": "code",
      "execution_count": null,
      "metadata": {},
      "outputs": [],
      "source": [
        "plnr.simulate(mindex=mindex,mtype='block')"
      ],
      "id": "36ee2c69-e913-44d5-9307-7bbe0a15c535"
    },
    {
      "cell_type": "markdown",
      "metadata": {},
      "source": [
        "## PLNR_GNAR_RAND"
      ],
      "id": "a20f45c7-86ba-45cf-99cc-22ec5a570a74"
    },
    {
      "cell_type": "code",
      "execution_count": null,
      "metadata": {},
      "outputs": [],
      "source": [
        "# _data = itstgcn.load_data('./data/fivenodes.pkl')\n",
        "# _edges = torch.tensor(_data['edges']).nonzero().tolist()\n",
        "# _FX = _data['f'].tolist()\n",
        "# _node_ids = {'node1':0, 'node2':1, 'node3':2, 'node4':3, 'node5':4} \n",
        "# data_dict = {'edges':_edges, 'node_ids':_node_ids, 'FX':_FX}\n",
        "# loader = itstgcn.DatasetLoader(data_dict)\n",
        "# data_dict=itstgcn.load_data('./data/fivenodes.pkl')\n",
        "# loader = itstgcn.DatasetLoader(data_dict)"
      ],
      "id": "0f0f2aa7-29de-493e-b24f-dbeef3e67159"
    },
    {
      "cell_type": "code",
      "execution_count": null,
      "metadata": {},
      "outputs": [],
      "source": [
        "plans_gnar_rand = {\n",
        "    'max_iteration': 30, \n",
        "#    'method': ['GNAR'], \n",
        "    'mrate': [0.1],\n",
        "    'lags': [4], \n",
        "#    'nof_filters': [8,16], \n",
        "    'inter_method': ['linear','cubic'],\n",
        "#    'epoch': [1]\n",
        "}"
      ],
      "id": "8cf19c9b-65f3-4270-88ae-1f5efba51ba8"
    },
    {
      "cell_type": "code",
      "execution_count": null,
      "metadata": {
        "tags": []
      },
      "outputs": [],
      "source": [
        "plnr = itstgcn.planner.PLNR_GNAR_RAND(plans_gnar_rand,loader2,dataset_name='pedalme')\n",
        "plnr.simulate()"
      ],
      "id": "4720be8c-0ea9-43e1-943d-f3662b3ec88b"
    },
    {
      "cell_type": "code",
      "execution_count": null,
      "metadata": {},
      "outputs": [],
      "source": [
        "plans_gnar_rand = {\n",
        "    'max_iteration': 3, \n",
        "#    'method': ['GNAR'], \n",
        "    'mrate': [0],\n",
        "    'lags': [2,4], \n",
        "#    'nof_filters': [8,16], \n",
        "    'inter_method': ['linear'],\n",
        "#    'epoch': [1]\n",
        "}"
      ],
      "id": "d505faa7-764d-44f9-9b41-716863623e2e"
    },
    {
      "cell_type": "code",
      "execution_count": null,
      "metadata": {
        "tags": []
      },
      "outputs": [],
      "source": [
        "plnr = itstgcn.planner.PLNR_GNAR_RAND(plans_gnar_rand,loader3,dataset_name='wikimath')\n",
        "plnr.simulate()"
      ],
      "id": "63692918-0221-4712-bf38-3597f7c4f0a0"
    },
    {
      "cell_type": "code",
      "execution_count": null,
      "metadata": {},
      "outputs": [],
      "source": [
        "plans_gnar_rand = {\n",
        "    'max_iteration': 3, \n",
        "#    'method': ['GNAR'], \n",
        "    'mrate': [0,0.3],\n",
        "    'lags': [8], \n",
        "#    'nof_filters': [8,16], \n",
        "    'inter_method': ['linear'],\n",
        "#    'epoch': [1]\n",
        "}"
      ],
      "id": "1af55530-49ae-4dbc-bf41-433f24855b24"
    },
    {
      "cell_type": "code",
      "execution_count": null,
      "metadata": {
        "tags": []
      },
      "outputs": [],
      "source": [
        "plnr = itstgcn.planner.PLNR_GNAR_RAND(plans_gnar_rand,loader5,dataset_name='windmillmedium')\n",
        "plnr.simulate()"
      ],
      "id": "447a5caa-89b9-4df2-bfb4-4a6749886310"
    },
    {
      "cell_type": "markdown",
      "metadata": {},
      "source": [
        "------------------------------------------------------------------------\n",
        "\n",
        "## PLNR_GNAR_BLOCK"
      ],
      "id": "191d39d6-c53d-48da-9852-8a9ef2a5e4dd"
    },
    {
      "cell_type": "code",
      "execution_count": null,
      "metadata": {},
      "outputs": [],
      "source": [
        "# _data = itstgcn.load_data('./data/fivenodes.pkl')\n",
        "# _edges = torch.tensor(_data['edges']).nonzero().tolist()\n",
        "# _FX = _data['f'].tolist()\n",
        "# _node_ids = {'node1':0, 'node2':1, 'node3':2, 'node4':3, 'node5':4} \n",
        "# data_dict = {'edges':_edges, 'node_ids':_node_ids, 'FX':_FX}\n",
        "# loader = itstgcn.DatasetLoader(data_dict)\n",
        "# loader = itstgcn.load_data('./data/fivenodes.pkl')"
      ],
      "id": "8a7a599d-3b60-485d-9605-9d0b6441312e"
    },
    {
      "cell_type": "code",
      "execution_count": null,
      "metadata": {},
      "outputs": [],
      "source": [
        " Nodes : 26\n",
        "\n",
        "vertices represent 26 windmills\n",
        "-Edges : 676\n",
        "\n",
        "weighted edges describe the strength of relationships\n",
        "- Time : 17464"
      ],
      "id": "06657282-1e7e-4d65-8308-3f10593f6638"
    },
    {
      "cell_type": "code",
      "execution_count": null,
      "metadata": {},
      "outputs": [],
      "source": [
        "my_list = [[] for _ in range(26)] #medium\n",
        "another_list = list(range(1000,2000))+list(range(4000,5000))+list(range(7000,8000)) #17464\n",
        "\n",
        "for i in np.array(random.sample(range(0, 26), 15)):\n",
        "    my_list[i] = another_list\n",
        "mindex = my_list"
      ],
      "id": "09f16697-b688-4301-beae-38f4db396384"
    },
    {
      "cell_type": "code",
      "execution_count": null,
      "metadata": {},
      "outputs": [],
      "source": [
        "my_list = [[] for _ in range(20)] #chickenpox\n",
        "another_list = list(range(100,400))\n",
        "my_list[2] = another_list\n",
        "my_list[4] = another_list\n",
        "my_list[6] = another_list\n",
        "my_list[8] = another_list\n",
        "my_list[10] = another_list\n",
        "my_list[12] = another_list\n",
        "my_list[14] = another_list\n",
        "my_list[16] = another_list\n",
        "mindex = my_list"
      ],
      "id": "01287c07-9e3d-486f-b488-3229b12ace13"
    },
    {
      "cell_type": "code",
      "execution_count": null,
      "metadata": {},
      "outputs": [],
      "source": [
        "# mindex= [[],[],[],list(range(50,150)),[]]\n",
        "# mindex= [list(range(50,150)),[],list(range(50,90)),list(range(50,150)),[]] # node 2\n",
        "plans_gnar_block = {\n",
        "    'max_iteration': 3, \n",
        "    'method': ['GNAR'], \n",
        "    'mindex': [mindex],\n",
        "    'lags': [4], \n",
        "    'inter_method': ['cubic','linear'],\n",
        "}"
      ],
      "id": "f104ab5c-61b4-4487-99ca-fcb345b7fa3e"
    },
    {
      "cell_type": "code",
      "execution_count": null,
      "metadata": {},
      "outputs": [],
      "source": [
        "plnr = itstgcn.planner.PLNR_GNAR_MANUAL(plans_gnar_block,loader1,dataset_name='chickenpox')\n",
        "plnr.simulate(mindex,mtype='block')"
      ],
      "id": "954f74d0-82e1-4bb8-976c-ba3b987ed868"
    },
    {
      "cell_type": "code",
      "execution_count": null,
      "metadata": {},
      "outputs": [],
      "source": [
        "# mindex= [[],[],[],list(range(50,150)),[]]\n",
        "# mindex= [list(range(50,150)),[],list(range(50,90)),list(range(50,150)),[]] # node 2\n",
        "plans_gnar_block = {\n",
        "    'max_iteration': 3, \n",
        "    'method': ['GNAR'], \n",
        "    'mindex': [mindex],\n",
        "    'lags': [2,4], \n",
        "    'inter_method': ['linear'],\n",
        "}"
      ],
      "id": "8d568d5d-cdb7-4b1b-b9c1-ec2bb300f5f2"
    },
    {
      "cell_type": "code",
      "execution_count": null,
      "metadata": {},
      "outputs": [],
      "source": [
        "plnr = itstgcn.planner.PLNR_GNAR_MANUAL(plans_gnar_block,loader3,dataset_name='wikimath')\n",
        "plnr.simulate(mindex,mtype='block')"
      ],
      "id": "4e1dba35-cec6-4607-8300-0ef1b1ae8a40"
    }
  ],
  "nbformat": 4,
  "nbformat_minor": 5,
  "metadata": {
    "kernelspec": {
      "name": "python3",
      "display_name": "Python 3",
      "language": "python"
    },
    "language_info": {
      "name": "python",
      "codemirror_mode": {
        "name": "ipython",
        "version": "3"
      },
      "file_extension": ".py",
      "mimetype": "text/x-python",
      "nbconvert_exporter": "python",
      "pygments_lexer": "ipython3",
      "version": "3.8.0"
    }
  }
}
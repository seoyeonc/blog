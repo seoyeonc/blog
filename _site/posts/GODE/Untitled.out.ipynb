{
  "cells": [
    {
      "cell_type": "markdown",
      "metadata": {},
      "source": [
        "#"
      ],
      "id": "06012f99-4c1f-4510-972f-e28abcf1ae54"
    },
    {
      "cell_type": "code",
      "execution_count": 72,
      "metadata": {},
      "outputs": [],
      "source": [
        "import numpy as np"
      ],
      "id": "8ff7cd0d-acb5-465a-8e82-c69f36db4f7c"
    },
    {
      "cell_type": "code",
      "execution_count": 2,
      "metadata": {},
      "outputs": [],
      "source": [
        "a=10\n",
        "b=20\n",
        "n=200"
      ],
      "id": "7cc10015-8543-4ff7-96b3-8c9e132cd983"
    },
    {
      "cell_type": "code",
      "execution_count": 66,
      "metadata": {},
      "outputs": [],
      "source": [
        "arr1 = np.array([a+(b-a)/(n-1) * (i-1) for i in range(1,n+1)])"
      ],
      "id": "9489833d-7501-4ed9-b8c3-64f1ed26cf08"
    },
    {
      "cell_type": "markdown",
      "metadata": {},
      "source": [
        "$$a+\\frac{(b-a)i}{n-1}$$ for $i=1,2,3,\\dots, n$"
      ],
      "id": "1abec0d2-a5cd-43b5-93c8-4928fbf579e3"
    },
    {
      "cell_type": "code",
      "execution_count": 67,
      "metadata": {},
      "outputs": [],
      "source": [
        "arr2 = np.linspace(a,b,n)"
      ],
      "id": "6a2c063d-96d8-450a-9435-86c3d7aac87e"
    },
    {
      "cell_type": "code",
      "execution_count": 68,
      "metadata": {},
      "outputs": [],
      "source": [
        "arr1[:5]"
      ],
      "id": "65f6cfb9-d4ef-4238-bc8d-c0b735f65698"
    },
    {
      "cell_type": "code",
      "execution_count": 69,
      "metadata": {},
      "outputs": [],
      "source": [
        "arr2[:5]"
      ],
      "id": "3aabc92c-990e-4139-9878-ddf148f53195"
    }
  ],
  "nbformat": 4,
  "nbformat_minor": 5,
  "metadata": {
    "kernelspec": {
      "name": "python3",
      "display_name": "Python 3 (ipykernel)",
      "language": "python"
    },
    "language_info": {
      "name": "python",
      "codemirror_mode": {
        "name": "ipython",
        "version": "3"
      },
      "file_extension": ".py",
      "mimetype": "text/x-python",
      "nbconvert_exporter": "python",
      "pygments_lexer": "ipython3",
      "version": "3.8.12"
    }
  }
}
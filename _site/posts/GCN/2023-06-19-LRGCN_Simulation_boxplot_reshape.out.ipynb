{
  "cells": [
    {
      "cell_type": "markdown",
      "metadata": {},
      "source": [
        "# LRGCN_Simulation_reshape\n",
        "\n",
        "SEOYEON CHOI  \n",
        "6/13/23\n",
        "\n",
        "> Simulation Study"
      ],
      "id": "ab608fc0-72f1-4993-9f70-884219aa6af7"
    },
    {
      "cell_type": "code",
      "execution_count": 17,
      "metadata": {},
      "outputs": [],
      "source": [
        "import itstgcnLRGCN\n",
        "import torch\n",
        "import itstgcnLRGCN.planner \n",
        "import pandas as pd\n",
        "\n",
        "import numpy as np\n",
        "import random"
      ],
      "id": "0b199bcb-cd37-466d-a962-18f7e36bd23a"
    },
    {
      "cell_type": "code",
      "execution_count": 21,
      "metadata": {},
      "outputs": [],
      "source": [
        "from torch_geometric_temporal.dataset import WikiMathsDatasetLoader\n",
        "loader3 = WikiMathsDatasetLoader()"
      ],
      "id": "64b1bcba-f788-415d-a578-05c209e58ae7"
    },
    {
      "cell_type": "code",
      "execution_count": 22,
      "metadata": {},
      "outputs": [],
      "source": [
        "from torch_geometric_temporal.dataset import MontevideoBusDatasetLoader\n",
        "loader10 = MontevideoBusDatasetLoader()"
      ],
      "id": "663c53c4-beec-4cb3-b804-0d622fcc5654"
    },
    {
      "cell_type": "markdown",
      "metadata": {},
      "source": [
        "# wiki, monte 안 돌림"
      ],
      "id": "34e649c0-5e1f-4a2b-915f-13ba65609fb0"
    },
    {
      "cell_type": "code",
      "execution_count": null,
      "metadata": {},
      "outputs": [],
      "source": [
        "plans_stgcn_rand = {\n",
        "    'max_iteration': 5, \n",
        "    'method': ['STGCN', 'IT-STGCN'],\n",
        "    'mrate': [0.5],\n",
        "    'lags': [8], \n",
        "    'nof_filters': [32], \n",
        "    'inter_method': ['linear'],\n",
        "    'epoch': [50]\n",
        "}"
      ],
      "id": "474b12e5-dbf6-4068-9b30-dc4891e4b15f"
    },
    {
      "cell_type": "code",
      "execution_count": null,
      "metadata": {},
      "outputs": [],
      "source": [
        "plnr = itstgcnLRGCN.planner.PLNR_STGCN_RAND(plans_stgcn_rand,loader3,dataset_name='wikimath')\n",
        "plnr.simulate()"
      ],
      "id": "e197e917-5cec-42cc-a2de-2da8a0025aac"
    },
    {
      "cell_type": "code",
      "execution_count": null,
      "metadata": {},
      "outputs": [],
      "source": [
        "plnr = itstgcnLRGCN.planner.PLNR_STGCN_RAND(plans_stgcn_rand,loader3,dataset_name='wikimath')\n",
        "plnr.simulate()"
      ],
      "id": "09fc5127-e702-481c-91c6-7e6adc503a4b"
    },
    {
      "cell_type": "code",
      "execution_count": null,
      "metadata": {},
      "outputs": [],
      "source": [
        "plnr = itstgcnLRGCN.planner.PLNR_STGCN_RAND(plans_stgcn_rand,loader3,dataset_name='wikimath')\n",
        "plnr.simulate()"
      ],
      "id": "0402e11a-c79f-4a53-b073-4190c35aad9e"
    },
    {
      "cell_type": "code",
      "execution_count": null,
      "metadata": {},
      "outputs": [],
      "source": [
        "plnr = itstgcnLRGCN.planner.PLNR_STGCN_RAND(plans_stgcn_rand,loader3,dataset_name='wikimath')\n",
        "plnr.simulate()"
      ],
      "id": "7b643143-ba7a-47ae-9264-a75ce0555ec7"
    },
    {
      "cell_type": "code",
      "execution_count": null,
      "metadata": {},
      "outputs": [],
      "source": [
        "plnr = itstgcnLRGCN.planner.PLNR_STGCN_RAND(plans_stgcn_rand,loader3,dataset_name='wikimath')\n",
        "plnr.simulate()"
      ],
      "id": "12fe89f1-9bf2-445b-b030-1519ddaa1f95"
    },
    {
      "cell_type": "code",
      "execution_count": null,
      "metadata": {},
      "outputs": [],
      "source": [
        "plnr = itstgcnLRGCN.planner.PLNR_STGCN_RAND(plans_stgcn_rand,loader3,dataset_name='wikimath')\n",
        "plnr.simulate()"
      ],
      "id": "04805d18-d6a4-465f-abf8-203c2e4c7c91"
    },
    {
      "cell_type": "code",
      "execution_count": null,
      "metadata": {},
      "outputs": [],
      "source": [
        "plans_stgcn_rand = {\n",
        "    'max_iteration': 5, \n",
        "    'method': ['STGCN', 'IT-STGCN'],\n",
        "    'mrate': [0.6],\n",
        "    'lags': [8], \n",
        "    'nof_filters': [32], \n",
        "    'inter_method': ['linear'],\n",
        "    'epoch': [50]\n",
        "}"
      ],
      "id": "08974079-aae8-42f0-94f7-d25d7d69c255"
    },
    {
      "cell_type": "code",
      "execution_count": null,
      "metadata": {},
      "outputs": [],
      "source": [
        "plnr = itstgcnLRGCN.planner.PLNR_STGCN_RAND(plans_stgcn_rand,loader3,dataset_name='wikimath')\n",
        "plnr.simulate()"
      ],
      "id": "e220babb-cb37-4604-b5cc-584d62f2fe5e"
    },
    {
      "cell_type": "code",
      "execution_count": null,
      "metadata": {},
      "outputs": [],
      "source": [
        "plnr = itstgcnLRGCN.planner.PLNR_STGCN_RAND(plans_stgcn_rand,loader3,dataset_name='wikimath')\n",
        "plnr.simulate()"
      ],
      "id": "88f3f58a-451d-4944-8fac-94c2c711da9f"
    },
    {
      "cell_type": "code",
      "execution_count": null,
      "metadata": {},
      "outputs": [],
      "source": [
        "plnr = itstgcnLRGCN.planner.PLNR_STGCN_RAND(plans_stgcn_rand,loader3,dataset_name='wikimath')\n",
        "plnr.simulate()"
      ],
      "id": "b6cc06dc-9d39-436a-ba83-c10bd0a724de"
    },
    {
      "cell_type": "code",
      "execution_count": null,
      "metadata": {},
      "outputs": [],
      "source": [
        "plnr = itstgcnLRGCN.planner.PLNR_STGCN_RAND(plans_stgcn_rand,loader3,dataset_name='wikimath')\n",
        "plnr.simulate()"
      ],
      "id": "0f8282dc-cef0-4355-b7a6-586955db8b40"
    },
    {
      "cell_type": "code",
      "execution_count": null,
      "metadata": {},
      "outputs": [],
      "source": [
        "plnr = itstgcnLRGCN.planner.PLNR_STGCN_RAND(plans_stgcn_rand,loader3,dataset_name='wikimath')\n",
        "plnr.simulate()"
      ],
      "id": "cc106c91-a1bc-4b97-adef-86a699aa268d"
    },
    {
      "cell_type": "code",
      "execution_count": null,
      "metadata": {},
      "outputs": [],
      "source": [
        "plnr = itstgcnLRGCN.planner.PLNR_STGCN_RAND(plans_stgcn_rand,loader3,dataset_name='wikimath')\n",
        "plnr.simulate()"
      ],
      "id": "0f489282-a988-4d38-af6f-fc82a63b7e78"
    },
    {
      "cell_type": "code",
      "execution_count": null,
      "metadata": {},
      "outputs": [],
      "source": [
        "plans_stgcn_rand = {\n",
        "    'max_iteration': 10, \n",
        "    'method': ['STGCN', 'IT-STGCN'],\n",
        "    'mrate': [0.3],\n",
        "    'lags': [4], \n",
        "    'nof_filters': [2], \n",
        "    'inter_method': ['nearest'],\n",
        "    'epoch': [50]\n",
        "}"
      ],
      "id": "e0d79206-b43c-431f-ad83-eb175d8a1aa8"
    },
    {
      "cell_type": "code",
      "execution_count": null,
      "metadata": {},
      "outputs": [],
      "source": [
        "plnr = itstgcnLRGCN.planner.PLNR_STGCN_RAND(plans_stgcn_rand,loader10,dataset_name='monte')\n",
        "plnr.simulate()"
      ],
      "id": "b6629833-b615-44e9-914a-80cb8a5f3e71"
    },
    {
      "cell_type": "code",
      "execution_count": null,
      "metadata": {},
      "outputs": [],
      "source": [
        "plnr = itstgcnLRGCN.planner.PLNR_STGCN_RAND(plans_stgcn_rand,loader10,dataset_name='monte')\n",
        "plnr.simulate()"
      ],
      "id": "4c3e2b5d-a4de-473b-b1d6-e116f8c6337d"
    },
    {
      "cell_type": "code",
      "execution_count": null,
      "metadata": {},
      "outputs": [],
      "source": [
        "plnr = itstgcnLRGCN.planner.PLNR_STGCN_RAND(plans_stgcn_rand,loader10,dataset_name='monte')\n",
        "plnr.simulate()"
      ],
      "id": "fdb4b5b8-0875-4648-844c-5065d3e6f24d"
    },
    {
      "cell_type": "code",
      "execution_count": null,
      "metadata": {},
      "outputs": [],
      "source": [
        "plans_stgcn_rand = {\n",
        "    'max_iteration': 10, \n",
        "    'method': ['STGCN', 'IT-STGCN'],\n",
        "    'mrate': [0.5],\n",
        "    'lags': [4], \n",
        "    'nof_filters': [2], \n",
        "    'inter_method': ['nearest'],\n",
        "    'epoch': [50]\n",
        "}"
      ],
      "id": "02834c20-fe89-46bd-959b-7aeb8eb80b68"
    },
    {
      "cell_type": "code",
      "execution_count": null,
      "metadata": {},
      "outputs": [],
      "source": [
        "plnr = itstgcnLRGCN.planner.PLNR_STGCN_RAND(plans_stgcn_rand,loader10,dataset_name='monte')\n",
        "plnr.simulate()"
      ],
      "id": "614b91bc-6ff3-4c5b-bdfc-b5ec3c7e7918"
    },
    {
      "cell_type": "code",
      "execution_count": null,
      "metadata": {},
      "outputs": [],
      "source": [
        "plnr = itstgcnLRGCN.planner.PLNR_STGCN_RAND(plans_stgcn_rand,loader10,dataset_name='monte')\n",
        "plnr.simulate()"
      ],
      "id": "b940561a-1147-47c5-9fd6-874faa9f6f70"
    },
    {
      "cell_type": "code",
      "execution_count": null,
      "metadata": {},
      "outputs": [],
      "source": [
        "plnr = itstgcnLRGCN.planner.PLNR_STGCN_RAND(plans_stgcn_rand,loader10,dataset_name='monte')\n",
        "plnr.simulate()"
      ],
      "id": "0860047e-83ba-47cc-b314-22bdf486cff0"
    },
    {
      "cell_type": "code",
      "execution_count": null,
      "metadata": {},
      "outputs": [],
      "source": [
        "plans_stgcn_rand = {\n",
        "    'max_iteration': 10, \n",
        "    'method': ['STGCN', 'IT-STGCN'],\n",
        "    'mrate': [0.7],\n",
        "    'lags': [4], \n",
        "    'nof_filters': [2], \n",
        "    'inter_method': ['nearest'],\n",
        "    'epoch': [50]\n",
        "}"
      ],
      "id": "d2dd2dd1-996d-4c76-95ef-4c3f95d99e98"
    },
    {
      "cell_type": "code",
      "execution_count": null,
      "metadata": {},
      "outputs": [],
      "source": [
        "plnr = itstgcnLRGCN.planner.PLNR_STGCN_RAND(plans_stgcn_rand,loader10,dataset_name='monte')\n",
        "plnr.simulate()"
      ],
      "id": "e0c11525-430d-47fd-96ae-39cf205b3d56"
    },
    {
      "cell_type": "code",
      "execution_count": null,
      "metadata": {},
      "outputs": [],
      "source": [
        "plnr = itstgcnLRGCN.planner.PLNR_STGCN_RAND(plans_stgcn_rand,loader10,dataset_name='monte')\n",
        "plnr.simulate()"
      ],
      "id": "37dd2432-7317-4cd3-84c6-c458b1cb9dcd"
    },
    {
      "cell_type": "code",
      "execution_count": null,
      "metadata": {},
      "outputs": [],
      "source": [
        "plnr = itstgcnLRGCN.planner.PLNR_STGCN_RAND(plans_stgcn_rand,loader10,dataset_name='monte')\n",
        "plnr.simulate()"
      ],
      "id": "27454bc6-af54-4735-8286-c3715075a144"
    },
    {
      "cell_type": "markdown",
      "metadata": {},
      "source": [
        "# Import"
      ],
      "id": "09fab917-b482-44e8-aaca-d98d75c6401a"
    },
    {
      "cell_type": "code",
      "execution_count": 2,
      "metadata": {},
      "outputs": [],
      "source": [
        "import matplotlib.pyplot as plt\n",
        "import pandas as pd\n",
        "import numpy as np"
      ],
      "id": "cc7963a9-187f-47fb-8415-dd0451ad2082"
    },
    {
      "cell_type": "markdown",
      "metadata": {},
      "source": [
        "# Fivenodes"
      ],
      "id": "c1e15c8c-4f27-4868-a1d0-f43bc3da2106"
    },
    {
      "cell_type": "code",
      "execution_count": 46,
      "metadata": {},
      "outputs": [],
      "source": [
        "df1 = pd.read_csv('./simulation_results/2023-06-19_14-50-01.csv')\n",
        "df2 = pd.read_csv('./simulation_results/2023-06-19_15-28-49.csv')\n",
        "df3 = pd.read_csv('./simulation_results/2023-06-19_16-07-15.csv')\n",
        "df4 = pd.read_csv('./simulation_results/2023-06-19_19-11-20.csv')\n",
        "df5 = pd.read_csv('./simulation_results/2023-06-19_16-43-35.csv')\n",
        "df6 = pd.read_csv('./simulation_results/2023-06-19_17-20-21.csv')\n",
        "df7 = pd.read_csv('./simulation_results/2023-06-19_17-55-56.csv')\n",
        "df8 = pd.read_csv('./simulation_results/2023-06-19_18-31-52.csv')"
      ],
      "id": "ca5826f6-694e-44c5-a892-5bb1fd62d922"
    },
    {
      "cell_type": "code",
      "execution_count": 47,
      "metadata": {},
      "outputs": [],
      "source": [
        "df9 = pd.read_csv('./simulation_results/2023-07-18_07-04-57.csv')\n",
        "df10 = pd.read_csv('./simulation_results/2023-07-18_07-45-38.csv')\n",
        "df11 = pd.read_csv('./simulation_results/2023-07-18_08-27-17.csv')\n",
        "df12 = pd.read_csv('./simulation_results/2023-07-18_09-09-01.csv')\n",
        "df13 = pd.read_csv('./simulation_results/2023-07-18_09-49-56.csv')\n",
        "df14 = pd.read_csv('./simulation_results/2023-07-18_10-31-29.csv')"
      ],
      "id": "141ba6ce-59e5-4784-ae94-1082c98a0e83"
    },
    {
      "cell_type": "code",
      "execution_count": 48,
      "metadata": {},
      "outputs": [],
      "source": [
        "data = pd.concat([df1,df2,df3,df4,df5,df6,df7,df8,df9,df10,df11,df12,df13,df14],axis=0)"
      ],
      "id": "dd644c22-2ab0-4a48-8907-d5b759f1e714"
    },
    {
      "cell_type": "code",
      "execution_count": 49,
      "metadata": {},
      "outputs": [],
      "source": [
        "data.to_csv('./simulation_results/Real_simulation_reshape/LRGCN_fivedones_Simulation.csv',index=False)"
      ],
      "id": "c69f6027-28c7-441c-b185-ab0b9fb2bbf5"
    },
    {
      "cell_type": "code",
      "execution_count": 50,
      "metadata": {},
      "outputs": [],
      "source": [
        "data = pd.read_csv('./simulation_results/Real_simulation_reshape/LRGCN_fivedones_Simulation.csv')"
      ],
      "id": "2b8f7041-c4eb-46ce-96b8-67cf79040500"
    },
    {
      "cell_type": "markdown",
      "metadata": {},
      "source": [
        "## Baseline"
      ],
      "id": "c76b8b97-f23e-40a8-8be4-d4338578d07f"
    },
    {
      "cell_type": "code",
      "execution_count": 51,
      "metadata": {
        "tags": []
      },
      "outputs": [],
      "source": [
        "data.query(\"method!='GNAR' and mrate==0\").plot.box(backend='plotly',x='mrate',color='method',y='mse',facet_col='lags',facet_row='nof_filters',height=600)\n"
      ],
      "id": "6bb19486-d0e7-4bb5-b2d5-309adc6668f5"
    },
    {
      "cell_type": "markdown",
      "metadata": {},
      "source": [
        "## Random"
      ],
      "id": "4a232b3c-9405-417b-b869-620d1b993312"
    },
    {
      "cell_type": "code",
      "execution_count": 52,
      "metadata": {},
      "outputs": [],
      "source": [
        "data.query(\"method!='GNAR' and mtype =='rand'\").plot.box(backend='plotly',x='mrate',color='method',y='mse',facet_col='inter_method',facet_row='nof_filters',height=600)\n",
        "\n"
      ],
      "id": "7bc181b3-3d81-4d4c-9d6e-f4a6408ba844"
    },
    {
      "cell_type": "markdown",
      "metadata": {},
      "source": [
        "## Block"
      ],
      "id": "0773c308-de18-4256-aec8-59612af96f27"
    },
    {
      "cell_type": "code",
      "execution_count": 53,
      "metadata": {},
      "outputs": [],
      "source": [
        "data.query(\"method!='GNAR' and mtype =='block' \").plot.box(backend='plotly',x='mrate',color='method',y='mse',facet_col='inter_method',facet_row='nof_filters',height=600)\n"
      ],
      "id": "33ab70d3-ec95-4639-b1ef-531a4a8bf7d9"
    },
    {
      "cell_type": "markdown",
      "metadata": {},
      "source": [
        "# chickenpox"
      ],
      "id": "a241a789-a345-456d-bba8-fc6a5e12e4be"
    },
    {
      "cell_type": "code",
      "execution_count": 54,
      "metadata": {},
      "outputs": [],
      "source": [
        "df1 = pd.read_csv('./simulation_results/2023-06-19_21-16-21.csv') # GNAR random\n",
        "df2 = pd.read_csv('./simulation_results/2023-06-19_23-17-46.csv') # GNAR block\n",
        "df3 = pd.read_csv('./simulation_results/2023-06-20_00-19-25.csv') # STGCN, ITSTGCN random 30%\n",
        "df4 = pd.read_csv('./simulation_results/2023-06-20_01-21-25.csv') \n",
        "df5 = pd.read_csv('./simulation_results/2023-06-20_10-19-58.csv') \n",
        "df6 = pd.read_csv('./simulation_results/2023-06-20_12-07-01.csv') "
      ],
      "id": "b27e9cb7-652f-4fe6-8c4b-df79466189c7"
    },
    {
      "cell_type": "code",
      "execution_count": 55,
      "metadata": {},
      "outputs": [],
      "source": [
        "df7 = pd.read_csv('./simulation_results/2023-07-18_11-34-37.csv') # GNAR random\n",
        "df8 = pd.read_csv('./simulation_results/2023-07-18_12-40-07.csv') # GNAR block\n",
        "df9 = pd.read_csv('./simulation_results/2023-07-18_13-42-11.csv') # STGCN, ITSTGCN random 30%\n",
        "df10 = pd.read_csv('./simulation_results/2023-07-18_14-46-05.csv') "
      ],
      "id": "37cb5ba0-8fcb-4aad-bd49-f99fd16e9679"
    },
    {
      "cell_type": "code",
      "execution_count": 56,
      "metadata": {},
      "outputs": [],
      "source": [
        "data = pd.concat([df1,df2,df3,df4,df5,df6,df7,df8,df9,df10],axis=0)"
      ],
      "id": "47415632-e204-404d-9f54-4def907630a6"
    },
    {
      "cell_type": "code",
      "execution_count": 57,
      "metadata": {},
      "outputs": [],
      "source": [
        "data.to_csv('./simulation_results/Real_simulation_reshape/LRGCN_chikenpox_Simulation.csv',index=False)"
      ],
      "id": "db79d0c5-f1a8-4069-beee-8c9c78d7ae69"
    },
    {
      "cell_type": "code",
      "execution_count": 58,
      "metadata": {},
      "outputs": [],
      "source": [
        "data = pd.read_csv('./simulation_results/Real_simulation_reshape/LRGCN_chikenpox_Simulation.csv')"
      ],
      "id": "4247488d-476f-4e33-8a32-e3152e8cdb28"
    },
    {
      "cell_type": "markdown",
      "metadata": {},
      "source": [
        "## Baseline"
      ],
      "id": "50c1928e-91c1-47d4-81dc-372addd63758"
    },
    {
      "cell_type": "code",
      "execution_count": 59,
      "metadata": {},
      "outputs": [],
      "source": [
        "data.query(\"method!='GNAR' and mrate ==0 \").plot.box(backend='plotly',x='mrate',color='method',y='mse',facet_col='nof_filters',height=600)\n"
      ],
      "id": "2b530d8d-72b2-4e4c-a63b-4d4404ccac90"
    },
    {
      "cell_type": "markdown",
      "metadata": {},
      "source": [
        "## Random"
      ],
      "id": "027231db-9894-47d4-9e92-0ccdd9ef92e2"
    },
    {
      "cell_type": "code",
      "execution_count": 60,
      "metadata": {},
      "outputs": [],
      "source": [
        "data.query(\"method!='GNAR' and mtype =='rand'\").plot.box(backend='plotly',x='mrate',color='method',y='mse',facet_col='nof_filters',facet_row='inter_method',height=800)\n"
      ],
      "id": "a3758ca7-320d-451f-bced-b5ec1034395e"
    },
    {
      "cell_type": "markdown",
      "metadata": {},
      "source": [
        "## Block"
      ],
      "id": "bef73a09-568b-4c8e-8c8e-2a10470e8b92"
    },
    {
      "cell_type": "code",
      "execution_count": 61,
      "metadata": {},
      "outputs": [],
      "source": [
        "data.query(\"method!='GNAR' and mtype =='block'\").plot.box(backend='plotly',x='mrate',color='method',y='mse',facet_col='inter_method',facet_row='lags',height=800)\n"
      ],
      "id": "77963286-f226-412e-a3cb-79489b69fc84"
    },
    {
      "cell_type": "markdown",
      "metadata": {},
      "source": [
        "# Pedalme"
      ],
      "id": "0a7215d8-34d6-4650-91b7-9cea6a3e30bd"
    },
    {
      "cell_type": "code",
      "execution_count": 67,
      "metadata": {},
      "outputs": [],
      "source": [
        "df1 = pd.read_csv('./simulation_results/2023-06-19_13-57-33.csv') \n",
        "df2 = pd.read_csv('./simulation_results/2023-06-19_14-10-25.csv')  "
      ],
      "id": "8300c6bd-c135-4936-abda-091bfda781ba"
    },
    {
      "cell_type": "code",
      "execution_count": 68,
      "metadata": {},
      "outputs": [],
      "source": [
        "df3 = pd.read_csv('./simulation_results/2023-07-18_15-12-36.csv') "
      ],
      "id": "83566e22-3f3a-46eb-a93f-18c45d00f588"
    },
    {
      "cell_type": "code",
      "execution_count": 69,
      "metadata": {},
      "outputs": [],
      "source": [
        "data = pd.concat([df1,df2,df3],axis=0)"
      ],
      "id": "739e1485-b18e-4491-87c6-4b38243dd99a"
    },
    {
      "cell_type": "code",
      "execution_count": 70,
      "metadata": {},
      "outputs": [],
      "source": [
        "data.to_csv('./simulation_results/Real_simulation_reshape/LRGCN_pedalme_Simulation.csv',index=False)"
      ],
      "id": "45b43d2d-e8a1-44a6-bcf2-369642e27ed7"
    },
    {
      "cell_type": "code",
      "execution_count": 71,
      "metadata": {},
      "outputs": [],
      "source": [
        "data = pd.read_csv('./simulation_results/Real_simulation_reshape/LRGCN_pedalme_Simulation.csv')"
      ],
      "id": "5455fd84-46b7-407f-a4df-1a14dafc7cbf"
    },
    {
      "cell_type": "markdown",
      "metadata": {},
      "source": [
        "## Baseline"
      ],
      "id": "a9ea1b2c-6677-416f-9e67-af53022d2dfb"
    },
    {
      "cell_type": "code",
      "execution_count": 72,
      "metadata": {},
      "outputs": [],
      "source": [
        "data.query(\"mrate ==0 and lags!=2\").plot.box(backend='plotly',x='epoch',color='method',y='mse',facet_col='nof_filters',facet_row='lags',height=400)\n"
      ],
      "id": "e5cdab3d-4ba3-4b58-b202-a44a47cff1a0"
    },
    {
      "cell_type": "markdown",
      "metadata": {},
      "source": [
        "## random"
      ],
      "id": "a08819a3-fbcb-4ceb-b51b-45fe796fcfd1"
    },
    {
      "cell_type": "code",
      "execution_count": 73,
      "metadata": {},
      "outputs": [],
      "source": [
        "data.query(\"method!='GNAR' and mtype =='rand' and lags!=2\").plot.box(backend='plotly',x='mrate',color='method',y='mse',facet_col='nof_filters',facet_row='inter_method',height=800)\n"
      ],
      "id": "512b498a-db33-4687-847c-3b6ce5f3b3e4"
    },
    {
      "cell_type": "markdown",
      "metadata": {},
      "source": [
        "## block"
      ],
      "id": "8136430a-04b1-453d-b08b-3f61a4cbe0c3"
    },
    {
      "cell_type": "code",
      "execution_count": 74,
      "metadata": {},
      "outputs": [],
      "source": [
        "data.query(\"method!='GNAR' and mtype =='block' and lags!=2 \").plot.box(backend='plotly',x='mrate',color='method',y='mse',facet_col='nof_filters',facet_row='inter_method',height=800)\n"
      ],
      "id": "f37a5d5e-c18e-4f18-8ae9-2b880ffcd174"
    },
    {
      "cell_type": "markdown",
      "metadata": {},
      "source": [
        "## weight matrix time, node 고려한 결과"
      ],
      "id": "256e1ad3-d9a3-411d-b57e-760946b56f8a"
    },
    {
      "cell_type": "code",
      "execution_count": 103,
      "metadata": {},
      "outputs": [],
      "source": [
        "df1 = pd.read_csv('./simulation_results/2023-06-20_19-13-42.csv')\n",
        "df2 = pd.read_csv('./simulation_results/2023-06-20_19-46-03.csv')"
      ],
      "id": "0a81b857-4a62-4eb1-9933-f7eb65b2a335"
    },
    {
      "cell_type": "code",
      "execution_count": 104,
      "metadata": {},
      "outputs": [],
      "source": [
        "data2 = pd.concat([df1,df2],axis=0)"
      ],
      "id": "b89aaed9-7c6a-467b-8a2c-580ec707b2ab"
    },
    {
      "cell_type": "code",
      "execution_count": 105,
      "metadata": {},
      "outputs": [],
      "source": [
        "data2.to_csv('./simulation_results/Real_simulation_reshape/LRGCN_pedalme_Simulation_itstgcnsnd.csv',index=False)"
      ],
      "id": "74d1fc41-2190-4b3d-88c4-0300de0343c2"
    },
    {
      "cell_type": "code",
      "execution_count": 106,
      "metadata": {},
      "outputs": [],
      "source": [
        "data2 = pd.read_csv('./simulation_results/Real_simulation_reshape/LRGCN_pedalme_Simulation_itstgcnsnd.csv')"
      ],
      "id": "d8ddbad0-d034-4ac1-8ac8-3bbdcfba8d5d"
    },
    {
      "cell_type": "code",
      "execution_count": 107,
      "metadata": {},
      "outputs": [],
      "source": [
        "data2.query(\"mtype=='rand'\").plot.box(backend='plotly',x='mrate',color='method',y='mse',facet_col='inter_method',facet_row='nof_filters',height=1000)"
      ],
      "id": "3ef25a48-71fd-4880-8cb7-3231f8bc72c8"
    },
    {
      "cell_type": "code",
      "execution_count": 108,
      "metadata": {},
      "outputs": [],
      "source": [
        "data2.query(\"mtype=='block'\").plot.box(backend='plotly',x='mrate',color='method',y='mse',facet_col='inter_method',facet_row='nof_filters',height=1000)"
      ],
      "id": "ab01f43a-985c-4a57-977f-e9dff5a7c583"
    },
    {
      "cell_type": "markdown",
      "metadata": {},
      "source": [
        "# Wikimath"
      ],
      "id": "8229a933-77b0-4343-afa7-10960e5bdd7a"
    },
    {
      "cell_type": "code",
      "execution_count": 223,
      "metadata": {},
      "outputs": [],
      "source": [
        "df1 = pd.read_csv('./simulation_results/2023-06-20_09-26-34.csv')\n",
        "df2 = pd.read_csv('./simulation_results/2023-06-20_12-04-37.csv')\n",
        "df3 = pd.read_csv('./simulation_results/2023-06-20_15-15-41.csv')\n",
        "df4 = pd.read_csv('./simulation_results/2023-06-20_21-03-52.csv')\n",
        "df5 = pd.read_csv('./simulation_results/2023-06-21_01-43-09.csv')\n",
        "df6 = pd.read_csv('./simulation_results/2023-06-21_04-30-41.csv')\n",
        "df7 = pd.read_csv('./simulation_results/2023-06-21_07-09-30.csv')\n",
        "df8 = pd.read_csv('./simulation_results/2023-06-21_09-20-57.csv')\n",
        "df9 = pd.read_csv('./simulation_results/2023-06-21_11-51-57.csv') # block\n",
        "df10 = pd.read_csv('./simulation_results/2023-06-21_14-36-43.csv') # block\n",
        "df11 = pd.read_csv('./simulation_results/2023-06-21_17-19-18.csv') # block"
      ],
      "id": "8207c2e0-3748-4a71-a6e3-d995172f46c0"
    },
    {
      "cell_type": "code",
      "execution_count": 224,
      "metadata": {},
      "outputs": [],
      "source": [
        "data = pd.concat([df1,df2,df3,df4,df5,df6,df7,df8,df9,df10,df11],axis=0)"
      ],
      "id": "3345b0bb-7697-4fbf-8ef7-3599f3cd8dc5"
    },
    {
      "cell_type": "code",
      "execution_count": 225,
      "metadata": {},
      "outputs": [],
      "source": [
        "data.to_csv('./simulation_results/Real_simulation_reshape/LRGCN_wikimath.csv',index=False)"
      ],
      "id": "bc593ced-5a6c-4cb0-b3b2-2d628e4b0328"
    },
    {
      "cell_type": "code",
      "execution_count": 226,
      "metadata": {},
      "outputs": [],
      "source": [
        "data = pd.read_csv('./simulation_results/Real_simulation_reshape/LRGCN_wikimath.csv')"
      ],
      "id": "26494041-6bbc-4cdf-9dc6-eb1818616e81"
    },
    {
      "cell_type": "markdown",
      "metadata": {},
      "source": [
        "## Baseline"
      ],
      "id": "fe19a294-141a-495d-892d-d70b6251ea30"
    },
    {
      "cell_type": "code",
      "execution_count": 227,
      "metadata": {},
      "outputs": [],
      "source": [
        "data.query(\"mrate==0 and method!='GNAR'\").plot.box(backend='plotly',x='mrate',color='method',y='mse',height=600)"
      ],
      "id": "528a4b79-7494-4b51-a8cb-79d7afd91958"
    },
    {
      "cell_type": "markdown",
      "metadata": {},
      "source": [
        "## random"
      ],
      "id": "de31e378-536d-416f-b0f9-00b1ef6a3cf4"
    },
    {
      "cell_type": "code",
      "execution_count": 228,
      "metadata": {},
      "outputs": [],
      "source": [
        "data.query(\"mtype=='rand' and mrate !=0 and method!='GNAR'\").plot.box(backend='plotly',x='mrate',color='method',y='mse',facet_col='lags',facet_row='nof_filters',height=800)\n"
      ],
      "id": "d8abc06a-703d-4574-ada8-13158e23b97d"
    },
    {
      "cell_type": "markdown",
      "metadata": {},
      "source": [
        "## block"
      ],
      "id": "57ffcd1d-ab95-465f-b988-13be24714e7b"
    },
    {
      "cell_type": "code",
      "execution_count": 229,
      "metadata": {},
      "outputs": [],
      "source": [
        "data.query(\"mtype=='block' and method!='GNAR'\").plot.box(backend='plotly',x='mrate',color='method',y='mse',facet_col='lags',facet_row='nof_filters',height=1200)\n"
      ],
      "id": "f2946475-6805-40ae-bedb-a45bf949b687"
    },
    {
      "cell_type": "markdown",
      "metadata": {},
      "source": [
        "## missing values on the same nodes"
      ],
      "id": "d8d90a25-4ba0-4a0e-b24e-a9d7ee787f20"
    },
    {
      "cell_type": "code",
      "execution_count": 241,
      "metadata": {
        "tags": []
      },
      "outputs": [],
      "source": [
        "df1 = pd.read_csv('./simulation_results/2023-06-21_19-31-38.csv') # STGCN IT-STGCN block\n",
        "df2 = pd.read_csv('./simulation_results/2023-06-21_22-43-39.csv') # STGCN IT-STGCN\n",
        "df3 = pd.read_csv('./simulation_results/2023-06-22_02-04-05.csv') "
      ],
      "id": "4c1cdb9f-0d04-45e2-9049-9e6c6bd4ad76"
    },
    {
      "cell_type": "code",
      "execution_count": 242,
      "metadata": {},
      "outputs": [],
      "source": [
        "data = pd.concat([df1,df2,df3],axis=0)"
      ],
      "id": "92a79cdc-4023-4d50-8e27-3a525f5221cd"
    },
    {
      "cell_type": "code",
      "execution_count": 243,
      "metadata": {},
      "outputs": [],
      "source": [
        "data.to_csv('./simulation_results/Real_simulation_reshape/LRGCN_wikimath_GSO_st.csv',index=False)"
      ],
      "id": "90974539-243f-401b-b6e5-f09e81170b64"
    },
    {
      "cell_type": "code",
      "execution_count": 244,
      "metadata": {},
      "outputs": [],
      "source": [
        "data = pd.read_csv('./simulation_results/Real_simulation_reshape/LRGCN_wikimath_GSO_st.csv')"
      ],
      "id": "9e802629-344a-4ce0-80e5-7bf601dcec64"
    },
    {
      "cell_type": "code",
      "execution_count": 245,
      "metadata": {},
      "outputs": [],
      "source": [
        "data.query(\"method!='GNAR' and mtype =='block' \").plot.box(backend='plotly',x='mrate',color='method',y='mse',facet_col='inter_method',facet_row='lags',height=800)\n"
      ],
      "id": "63a642ba-1217-4ce8-a926-66931c845318"
    },
    {
      "cell_type": "markdown",
      "metadata": {},
      "source": [
        "# Windmilsmall"
      ],
      "id": "6f3f2dc0-71d7-4a38-92e8-abc858936450"
    },
    {
      "cell_type": "code",
      "execution_count": null,
      "metadata": {},
      "outputs": [],
      "source": [
        "# df1 = pd.read_csv('./simulation_results/2023-05-27_03-20-28.csv') # STGCN IT-STGCN 70%\n",
        "# df2 = pd.read_csv('./simulation_results/2023-05-27_11-15-19.csv') # STGCN IT-STGCN\n",
        "# df3 = pd.read_csv('./simulation_results/2023-05-27_21-50-00.csv') # STGCN IT-STGCN\n",
        "# df4 = pd.read_csv('./simulation_results/2023-05-28_07-53-57.csv') # STGCN IT-STGCN\n",
        "# df5 = pd.read_csv('./simulation_results/2023-05-28_15-11-36.csv') # STGCN IT-STGCN\n",
        "# df6 = pd.read_csv('./simulation_results/2023-05-28_19-57-23.csv') # GNAR 30%, 50%, 70% # 뭔가 일단 필요없어서 데이터셋에서 뺌\n",
        "# df7 = pd.read_csv('./simulation_results/2023-05-29_01-36-37.csv') # STGCN IT-STGCN\n",
        "# df8 = pd.read_csv('./simulation_results/2023-05-29_05-55-43.csv') # STGCN IT-STGCN\n",
        "# df9 = pd.read_csv('./simulation_results/2023-05-29_11-00-42.csv') # STGCN IT-STGCN\n",
        "# df10 = pd.read_csv('./simulation_results/2023-05-29_15-58-56.csv') # STGCN IT-STGCN\n",
        "# df11 = pd.read_csv('./simulation_results/2023-05-29_21-01-58.csv') # STGCN IT-STGCN\n",
        "# df12 = pd.read_csv('./simulation_results/2023-05-30_02-08-43.csv') # STGCN IT-STGCN\n",
        "# df13 = pd.read_csv('./simulation_results/2023-05-30_06-27-00.csv') # STGCN IT-STGCN\n",
        "# df14 = pd.read_csv('./simulation_results/2023-05-30_11-59-01.csv') # STGCN IT-STGCN\n",
        "# df15 = pd.read_csv('./simulation_results/2023-05-30_15-59-12.csv') # STGCN IT-STGCN\n",
        "# df16 = pd.read_csv('./simulation_results/2023-04-20_00-46-43.csv') # STGCN IT-STGCN\n",
        "# df17 = pd.read_csv('./simulation_results/2023-04-20_06-51-34.csv') # STGCN IT-STGCN\n",
        "# df18 = pd.read_csv('./simulation_results/2023-04-20_08-30-27.csv') # STGCN IT-STGCN\n",
        "# df19 = pd.read_csv('./simulation_results/2023-04-20_14-28-35.csv') # STGCN IT-STGCN\n",
        "# df20 = pd.read_csv('./simulation_results/2023-04-20_16-08-39.csv') # STGCN IT-STGCN\n",
        "# df21 = pd.read_csv('./simulation_results/2023-04-20_22-09-37.csv') # STGCN IT-STGCN\n",
        "# df22 = pd.read_csv('./simulation_results/2023-04-20_23-48-26.csv') # STGCN IT-STGCN\n",
        "# df23 = pd.read_csv('./simulation_results/2023-04-21_05-36-47.csv') # STGCN IT-STGCN\n",
        "# df24 = pd.read_csv('./simulation_results/2023-04-21_15-26-00.csv') # STGCN IT-STGCN\n",
        "# df25 = pd.read_csv('./simulation_results/2023-04-21_23-27-11.csv') # STGCN IT-STGCN\n",
        "# df26 = pd.read_csv('./simulation_results/2023-04-22_07-46-08.csv') # STGCN IT-STGCN\n",
        "# df27 = pd.read_csv('./simulation_results/2023-04-22_15-45-20.csv') # STGCN IT-STGCN\n",
        "# df28 = pd.read_csv('./simulation_results/2023-04-22_22-57-31.csv') # STGCN IT-STGCN\n",
        "# df29 = pd.read_csv('./simulation_results/2023-04-23_07-00-15.csv') # STGCN IT-STGCN\n",
        "# df30 = pd.read_csv('./simulation_results/2023-04-23_15-18-02.csv') # STGCN IT-STGCN\n",
        "# df31 = pd.read_csv('./simulation_results/2023-04-23_15-22-36.csv') # GNAR 70%\n",
        "# # baseline\n",
        "# df32 = pd.read_csv('./simulation_results/2023-04-29_06-54-40.csv') # GNAR \n",
        "# df33 = pd.read_csv('./simulation_results/2023-04-30_18-55-12.csv')\n",
        "# df34 = pd.read_csv('./simulation_results/2023-05-01_02-55-33.csv')\n",
        "# df35 = pd.read_csv('./simulation_results/2023-05-01_10-21-15.csv')\n",
        "# df36 = pd.read_csv('./simulation_results/2023-05-01_19-23-57.csv')\n",
        "# df37 = pd.read_csv('./simulation_results/2023-05-02_01-10-53.csv')\n",
        "# df38 = pd.read_csv('./simulation_results/2023-05-02_08-26-53.csv')\n",
        "# df39 = pd.read_csv('./simulation_results/2023-05-02_16-00-40.csv')\n",
        "# df40 = pd.read_csv('./simulation_results/2023-05-03_00-34-09.csv')\n",
        "# df41 = pd.read_csv('./simulation_results/2023-05-03_08-04-42.csv')\n",
        "# df42 = pd.read_csv('./simulation_results/2023-05-03_15-50-50.csv')\n",
        "# df43 = pd.read_csv('./simulation_results/2023-05-03_23-46-56.csv')\n",
        "# df44 = pd.read_csv('./simulation_results/2023-05-04_05-22-59.csv')\n",
        "# df45 = pd.read_csv('./simulation_results/2023-05-04_09-22-37.csv')\n",
        "# df46 = pd.read_csv('./simulation_results/2023-05-04_15-00-57.csv')\n",
        "# df47 = pd.read_csv('./simulation_results/2023-05-04_23-41-21.csv')\n",
        "# df48 = pd.read_csv('./simulation_results/2023-05-05_07-23-04.csv')\n",
        "# df49 = pd.read_csv('./simulation_results/2023-05-05_15-03-17.csv')\n",
        "# df50 = pd.read_csv('./simulation_results/2023-05-06_05-18-07.csv')\n",
        "# df51 = pd.read_csv('./simulation_results/2023-05-06_12-57-14.csv')\n",
        "# df52 = pd.read_csv('./simulation_results/2023-05-06_19-10-23.csv')\n",
        "# df53 = pd.read_csv('./simulation_results/2023-05-07_03-20-10.csv')\n",
        "# df54 = pd.read_csv('./simulation_results/2023-05-07_11-26-24.csv')\n",
        "# df55 = pd.read_csv('./simulation_results/2023-05-08_00-04-56.csv')\n",
        "# df56 = pd.read_csv('./simulation_results/2023-05-08_04-27-01.csv')\n",
        "# df57 = pd.read_csv('./simulation_results/2023-05-08_10-06-55.csv')\n",
        "# df58 = pd.read_csv('./simulation_results/2023-05-08_17-50-36.csv')\n",
        "# df59 = pd.read_csv('./simulation_results/2023-05-09_03-28-08.csv')\n",
        "# df60 = pd.read_csv('./simulation_results/2023-05-09_11-08-10.csv')\n",
        "# df61 = pd.read_csv('./simulation_results/2023-05-09_20-11-45.csv')"
      ],
      "id": "6e1e2b88-aa3a-4fec-bcca-b84e8199e511"
    },
    {
      "cell_type": "code",
      "execution_count": null,
      "metadata": {},
      "outputs": [],
      "source": [
        "data = pd.concat([df1],axis=0)"
      ],
      "id": "fe535dce-128b-4ee7-986b-16e8fa3bd8ae"
    },
    {
      "cell_type": "code",
      "execution_count": null,
      "metadata": {},
      "outputs": [],
      "source": [
        "data.to_csv('./simulation_results/Real_simulation_reshape/LRGCN_windmillsmall.csv',index=False)"
      ],
      "id": "a11b2ea3-dab7-43db-afdc-8abded33476c"
    },
    {
      "cell_type": "code",
      "execution_count": null,
      "metadata": {},
      "outputs": [],
      "source": [
        "data = pd.read_csv('./simulation_results/Real_simulation_reshape/LRGCN_windmillsmall.csv')"
      ],
      "id": "ebbcc44f-bfcf-4a5b-bed7-28bf6bc20754"
    },
    {
      "cell_type": "markdown",
      "metadata": {},
      "source": [
        "## Baseline"
      ],
      "id": "020886b1-84bd-4558-ab14-b6bb69bd3bea"
    },
    {
      "cell_type": "code",
      "execution_count": null,
      "metadata": {},
      "outputs": [],
      "source": [
        "data.query(\"method!='GNAR' and mrate ==0 \").plot.box(backend='plotly',x='mrate',color='method',y='mse',facet_col='lags',height=800)\n"
      ],
      "id": "aa8afc24-098c-4738-a9bf-2ee690cd9e29"
    },
    {
      "cell_type": "markdown",
      "metadata": {},
      "source": [
        "## random"
      ],
      "id": "96110560-0201-4986-bbbd-8e2bc10fbd69"
    },
    {
      "cell_type": "code",
      "execution_count": null,
      "metadata": {},
      "outputs": [],
      "source": [
        "data.query(\"method!='GNAR' and mtype =='rand' \").plot.box(backend='plotly',x='mrate',color='method',y='mse',facet_col='lags',facet_row='inter_method',height=800)\n"
      ],
      "id": "60558d26-eba0-4693-ae40-20aabeae4f5e"
    },
    {
      "cell_type": "markdown",
      "metadata": {},
      "source": [
        "## block"
      ],
      "id": "4c412c86-5bc1-4504-9fd5-469f020b7c3a"
    },
    {
      "cell_type": "code",
      "execution_count": null,
      "metadata": {},
      "outputs": [],
      "source": [
        "data.query(\"method!='GNAR' and mtype =='block' \").plot.box(backend='plotly',x='mrate',color='method',y='mse',facet_col='lags',facet_row='inter_method',height=800)\n"
      ],
      "id": "17c4dcdc-4758-4fd4-bf23-f83b8fad0c98"
    },
    {
      "cell_type": "markdown",
      "metadata": {},
      "source": [
        "# Montevideobus"
      ],
      "id": "75e4dd4b-7427-4e2c-96b5-a4601b71c606"
    },
    {
      "cell_type": "code",
      "execution_count": 184,
      "metadata": {},
      "outputs": [],
      "source": [
        "df1 = pd.read_csv('./simulation_results/2023-06-20_14-22-23.csv') # lags 8\n",
        "df2 = pd.read_csv('./simulation_results/2023-06-20_16-44-49.csv') # lags 8\n",
        "df3 = pd.read_csv('./simulation_results/2023-06-20_19-09-29.csv') # lags 8\n",
        "df4 = pd.read_csv('./simulation_results/2023-06-20_21-32-02.csv') # lags 8\n",
        "df5 = pd.read_csv('./simulation_results/2023-06-20_23-35-39.csv') # lags 8\n",
        "df6 = pd.read_csv('./simulation_results/2023-06-21_01-53-54.csv') # lags 8"
      ],
      "id": "482a2386-c709-4ea9-bc74-0f1deeaf010e"
    },
    {
      "cell_type": "code",
      "execution_count": 170,
      "metadata": {},
      "outputs": [],
      "source": [
        "data = pd.concat([df1,df2,df3,df4,df5,df6],axis=0)"
      ],
      "id": "57939c96-8db7-4c92-b146-d49a298148fd"
    },
    {
      "cell_type": "code",
      "execution_count": 171,
      "metadata": {},
      "outputs": [],
      "source": [
        "data.to_csv('./simulation_results/Real_simulation_reshape/LRGCN_monte.csv',index=False)"
      ],
      "id": "89e99f12-2730-44d7-bb05-d164f7095943"
    },
    {
      "cell_type": "code",
      "execution_count": 172,
      "metadata": {},
      "outputs": [],
      "source": [
        "data = pd.read_csv('./simulation_results/Real_simulation_reshape/LRGCN_monte.csv')"
      ],
      "id": "788aa612-5ffd-42f9-b7fe-8471db579413"
    },
    {
      "cell_type": "markdown",
      "metadata": {},
      "source": [
        "## Baseline"
      ],
      "id": "4994c707-a63e-4bea-8870-c485c3d0aa71"
    },
    {
      "cell_type": "code",
      "execution_count": 173,
      "metadata": {},
      "outputs": [],
      "source": [
        "data.query(\"mrate==0 and method!='GNAR'\").plot.box(backend='plotly',x='mrate',color='method',y='mse',facet_col='lags',facet_row='nof_filters',height=600)"
      ],
      "id": "6445c7f8-7c54-42e3-ba69-0d8b626ca74b"
    },
    {
      "cell_type": "markdown",
      "metadata": {},
      "source": [
        "## random"
      ],
      "id": "79f8f71a-af99-4c3e-8bb6-a1d5bea31c45"
    },
    {
      "cell_type": "code",
      "execution_count": 174,
      "metadata": {},
      "outputs": [],
      "source": [
        "data.query(\"mtype=='rand' and mrate !=0 and method!='GNAR'\").plot.box(backend='plotly',x='mrate',color='method',y='mse',facet_col='lags',facet_row='inter_method',height=800)\n"
      ],
      "id": "7ded1472-4558-4d33-be07-c3cccb7ee7b9"
    },
    {
      "cell_type": "markdown",
      "metadata": {},
      "source": [
        "## block"
      ],
      "id": "5a6039c4-5506-4e3a-b40c-58004757ed75"
    },
    {
      "cell_type": "code",
      "execution_count": 175,
      "metadata": {},
      "outputs": [],
      "source": [
        "data.query(\"mtype=='block' and method!='GNAR'\").plot.box(backend='plotly',x='mrate',color='method',y='mse',facet_col='lags',facet_row='nof_filters',height=1200)\n"
      ],
      "id": "b19bf955-f582-45e1-a4f0-ac2d100d9779"
    }
  ],
  "nbformat": 4,
  "nbformat_minor": 5,
  "metadata": {
    "kernelspec": {
      "name": "python3",
      "display_name": "Python 3",
      "language": "python"
    },
    "language_info": {
      "name": "python",
      "codemirror_mode": {
        "name": "ipython",
        "version": "3"
      },
      "file_extension": ".py",
      "mimetype": "text/x-python",
      "nbconvert_exporter": "python",
      "pygments_lexer": "ipython3",
      "version": "3.8.0"
    }
  }
}
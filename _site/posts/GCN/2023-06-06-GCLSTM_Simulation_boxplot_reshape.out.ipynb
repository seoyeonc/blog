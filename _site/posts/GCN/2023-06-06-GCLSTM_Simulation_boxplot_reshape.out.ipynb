{
  "cells": [
    {
      "cell_type": "markdown",
      "metadata": {},
      "source": [
        "# GCLSTM_Simulation_reshape\n",
        "\n",
        "SEOYEON CHOI  \n",
        "6/6/23\n",
        "\n",
        "> Simulation Study"
      ],
      "id": "19523abe-bc88-4acb-ba59-4989bf3742dd"
    },
    {
      "cell_type": "code",
      "execution_count": 30,
      "metadata": {},
      "outputs": [],
      "source": [
        "import itstgcnGCLSTM\n",
        "import torch\n",
        "import itstgcnGCLSTM.planner \n",
        "import pandas as pd\n",
        "\n",
        "import numpy as np\n",
        "import random"
      ],
      "id": "81b8b131-be38-4ab2-863b-5084ad167cb1"
    },
    {
      "cell_type": "code",
      "execution_count": 11,
      "metadata": {},
      "outputs": [],
      "source": [
        "from torch_geometric_temporal.dataset import WikiMathsDatasetLoader\n",
        "loader3 = WikiMathsDatasetLoader()"
      ],
      "id": "7cd9b7dd-bc73-438e-9dcc-2a8420a35673"
    },
    {
      "cell_type": "code",
      "execution_count": 12,
      "metadata": {},
      "outputs": [],
      "source": [
        "from torch_geometric_temporal.dataset import MontevideoBusDatasetLoader\n",
        "loader10 = MontevideoBusDatasetLoader()"
      ],
      "id": "9bbff35c-940e-40da-9244-5108b8d50a3c"
    },
    {
      "cell_type": "markdown",
      "metadata": {},
      "source": [
        "# wiki 안 돌림"
      ],
      "id": "c2733ff5-4128-47e6-9dfc-cec0aedc73a1"
    },
    {
      "cell_type": "code",
      "execution_count": null,
      "metadata": {},
      "outputs": [],
      "source": [
        "plans_stgcn_rand = {\n",
        "    'max_iteration': 5, \n",
        "    'method': ['STGCN', 'IT-STGCN'],\n",
        "    'mrate': [0.5],\n",
        "    'lags': [8], \n",
        "    'nof_filters': [64], \n",
        "    'inter_method': ['linear'],\n",
        "    'epoch': [50]\n",
        "}"
      ],
      "id": "7dcc4455-5335-4abc-87a9-4b3d63246696"
    },
    {
      "cell_type": "code",
      "execution_count": null,
      "metadata": {},
      "outputs": [],
      "source": [
        "plnr = itstgcnGCLSTM.planner.PLNR_STGCN_RAND(plans_stgcn_rand,loader3,dataset_name='wikimath')\n",
        "plnr.simulate()"
      ],
      "id": "6c24b49b-86df-4522-9346-7b5dc0205c52"
    },
    {
      "cell_type": "code",
      "execution_count": null,
      "metadata": {},
      "outputs": [],
      "source": [
        "plnr = itstgcnGCLSTM.planner.PLNR_STGCN_RAND(plans_stgcn_rand,loader3,dataset_name='wikimath')\n",
        "plnr.simulate()"
      ],
      "id": "92ea5ae8-d0ae-4e25-a6c1-b60e5e6305cd"
    },
    {
      "cell_type": "code",
      "execution_count": null,
      "metadata": {},
      "outputs": [],
      "source": [
        "plnr = itstgcnGCLSTM.planner.PLNR_STGCN_RAND(plans_stgcn_rand,loader3,dataset_name='wikimath')\n",
        "plnr.simulate()"
      ],
      "id": "31a37b1b-97a0-45fb-a614-11defb989528"
    },
    {
      "cell_type": "code",
      "execution_count": null,
      "metadata": {},
      "outputs": [],
      "source": [
        "plnr = itstgcnGCLSTM.planner.PLNR_STGCN_RAND(plans_stgcn_rand,loader3,dataset_name='wikimath')\n",
        "plnr.simulate()"
      ],
      "id": "e5e7a8b5-1a20-4d71-8eff-f8bdc94f5a9e"
    },
    {
      "cell_type": "code",
      "execution_count": null,
      "metadata": {},
      "outputs": [],
      "source": [
        "plnr = itstgcnGCLSTM.planner.PLNR_STGCN_RAND(plans_stgcn_rand,loader3,dataset_name='wikimath')\n",
        "plnr.simulate()"
      ],
      "id": "64ebb62e-a74c-4de2-9072-e061abcfdfb3"
    },
    {
      "cell_type": "code",
      "execution_count": null,
      "metadata": {},
      "outputs": [],
      "source": [
        "plnr = itstgcnGCLSTM.planner.PLNR_STGCN_RAND(plans_stgcn_rand,loader3,dataset_name='wikimath')\n",
        "plnr.simulate()"
      ],
      "id": "5dcedff2-969e-4d29-afdb-2e058b7c2d2b"
    },
    {
      "cell_type": "code",
      "execution_count": null,
      "metadata": {},
      "outputs": [],
      "source": [
        "plans_stgcn_rand = {\n",
        "    'max_iteration': 5, \n",
        "    'method': ['STGCN', 'IT-STGCN'],\n",
        "    'mrate': [0.6],\n",
        "    'lags': [8], \n",
        "    'nof_filters': [64], \n",
        "    'inter_method': ['linear'],\n",
        "    'epoch': [50]\n",
        "}"
      ],
      "id": "91850fd1-796c-48f6-91fd-cf228e9aceaf"
    },
    {
      "cell_type": "code",
      "execution_count": null,
      "metadata": {},
      "outputs": [],
      "source": [
        "plnr = itstgcnGCLSTM.planner.PLNR_STGCN_RAND(plans_stgcn_rand,loader3,dataset_name='wikimath')\n",
        "plnr.simulate()"
      ],
      "id": "3cf4aae0-7ecd-4856-a037-3f1fb3340117"
    },
    {
      "cell_type": "code",
      "execution_count": null,
      "metadata": {},
      "outputs": [],
      "source": [
        "plnr = itstgcnGCLSTM.planner.PLNR_STGCN_RAND(plans_stgcn_rand,loader3,dataset_name='wikimath')\n",
        "plnr.simulate()"
      ],
      "id": "4449372a-c409-4b94-a693-bf4cac8d3fc7"
    },
    {
      "cell_type": "code",
      "execution_count": null,
      "metadata": {},
      "outputs": [],
      "source": [
        "plnr = itstgcnGCLSTM.planner.PLNR_STGCN_RAND(plans_stgcn_rand,loader3,dataset_name='wikimath')\n",
        "plnr.simulate()"
      ],
      "id": "2a5ede9a-3319-46d7-886e-de4322ea7225"
    },
    {
      "cell_type": "code",
      "execution_count": null,
      "metadata": {},
      "outputs": [],
      "source": [
        "plnr = itstgcnGCLSTM.planner.PLNR_STGCN_RAND(plans_stgcn_rand,loader3,dataset_name='wikimath')\n",
        "plnr.simulate()"
      ],
      "id": "b1fdf764-a722-478f-a8ff-3f850e03ad1a"
    },
    {
      "cell_type": "code",
      "execution_count": null,
      "metadata": {},
      "outputs": [],
      "source": [
        "plnr = itstgcnGCLSTM.planner.PLNR_STGCN_RAND(plans_stgcn_rand,loader3,dataset_name='wikimath')\n",
        "plnr.simulate()"
      ],
      "id": "10f80104-dca5-4132-8b24-a7ab912a4c1e"
    },
    {
      "cell_type": "code",
      "execution_count": null,
      "metadata": {},
      "outputs": [],
      "source": [
        "plnr = itstgcnGCLSTM.planner.PLNR_STGCN_RAND(plans_stgcn_rand,loader3,dataset_name='wikimath')\n",
        "plnr.simulate()"
      ],
      "id": "d487e662-5cbe-4a11-8d67-a5d7df99e716"
    },
    {
      "cell_type": "code",
      "execution_count": null,
      "metadata": {},
      "outputs": [],
      "source": [
        "plans_stgcn_rand = {\n",
        "    'max_iteration': 10, \n",
        "    'method': ['STGCN', 'IT-STGCN'],\n",
        "    'mrate': [0.7],\n",
        "    'lags': [4], \n",
        "    'nof_filters': [12], \n",
        "    'inter_method': ['nearest'],\n",
        "    'epoch': [50]\n",
        "}"
      ],
      "id": "693aaba2-2c80-40dd-9ba1-dab4f3caaeb0"
    },
    {
      "cell_type": "code",
      "execution_count": null,
      "metadata": {},
      "outputs": [],
      "source": [
        "plnr = itstgcnGCLSTM.planner.PLNR_STGCN_RAND(plans_stgcn_rand,loader10,dataset_name='monte')\n",
        "plnr.simulate()"
      ],
      "id": "c70b636b-6f77-418d-a2e0-a2d3e9af05d4"
    },
    {
      "cell_type": "markdown",
      "metadata": {},
      "source": [
        "# Import"
      ],
      "id": "2bffe443-7291-4068-88b4-8218ed8a81c5"
    },
    {
      "cell_type": "code",
      "execution_count": 2,
      "metadata": {},
      "outputs": [],
      "source": [
        "import matplotlib.pyplot as plt\n",
        "import pandas as pd\n",
        "import numpy as np"
      ],
      "id": "ba803c39-a38b-460d-b58b-08e461ac7465"
    },
    {
      "cell_type": "markdown",
      "metadata": {},
      "source": [
        "# Fivenodes"
      ],
      "id": "12901fde-d636-42cb-936c-746e541bff4c"
    },
    {
      "cell_type": "code",
      "execution_count": 33,
      "metadata": {},
      "outputs": [],
      "source": [
        "df1 = pd.read_csv('./simulation_results/2023-06-13_07-17-07.csv')\n",
        "df2 = pd.read_csv('./simulation_results/2023-06-13_07-44-52.csv')\n",
        "df3 = pd.read_csv('./simulation_results/2023-06-13_08-12-37.csv')\n",
        "df4 = pd.read_csv('./simulation_results/2023-06-13_08-40-19.csv')\n",
        "df5 = pd.read_csv('./simulation_results/2023-06-13_12-54-53.csv')\n",
        "df6 = pd.read_csv('./simulation_results/2023-06-13_13-22-41.csv')\n",
        "df7 = pd.read_csv('./simulation_results/2023-06-13_13-50-26.csv')\n",
        "df8 = pd.read_csv('./simulation_results/2023-06-13_14-17-59.csv')"
      ],
      "id": "d5632985-5014-43dc-9c7c-509fca61e65f"
    },
    {
      "cell_type": "code",
      "execution_count": 33,
      "metadata": {},
      "outputs": [],
      "source": [
        "df9 = pd.read_csv('./simulation_results/2023-07-17_07-35-15.csv')\n",
        "df10 = pd.read_csv('./simulation_results/2023-07-17_08-03-56.csv')\n",
        "df11 = pd.read_csv('./simulation_results/2023-07-17_08-32-12.csv')\n",
        "df12 = pd.read_csv('./simulation_results/2023-07-17_08-59-03.csv')\n",
        "df13 = pd.read_csv('./simulation_results/2023-07-17_09-25-30.csv')\n",
        "df14 = pd.read_csv('./simulation_results/2023-07-17_09-53-40.csv')"
      ],
      "id": "446eef57-942a-4f42-83aa-cc5f5e1ab1f2"
    },
    {
      "cell_type": "code",
      "execution_count": 34,
      "metadata": {},
      "outputs": [],
      "source": [
        "data = pd.concat([df1,df2,df3,df4,df5,df6,df7,df8,df9,df10,df11,df12,df13,df14],axis=0)"
      ],
      "id": "57ce2490-21fd-44fc-9e6c-2c019b8ea1a1"
    },
    {
      "cell_type": "code",
      "execution_count": 35,
      "metadata": {},
      "outputs": [],
      "source": [
        "data.to_csv('./simulation_results/Real_simulation_reshape/GCLSTM_fivedones_Simulation.csv',index=False)"
      ],
      "id": "f4439f45-ec60-4f3a-bd3f-827fc3b099a5"
    },
    {
      "cell_type": "code",
      "execution_count": 36,
      "metadata": {},
      "outputs": [],
      "source": [
        "data = pd.read_csv('./simulation_results/Real_simulation_reshape/GCLSTM_fivedones_Simulation.csv')"
      ],
      "id": "bad71dc8-7131-46b5-926c-a83b7825aaf3"
    },
    {
      "cell_type": "markdown",
      "metadata": {},
      "source": [
        "## Baseline"
      ],
      "id": "9f283ebb-5c4f-4dc4-baef-aaa7569e3a70"
    },
    {
      "cell_type": "code",
      "execution_count": 37,
      "metadata": {
        "tags": []
      },
      "outputs": [],
      "source": [
        "data.query(\"method!='GNAR' and mrate==0\").plot.box(backend='plotly',x='mrate',color='method',y='mse',facet_col='lags',facet_row='nof_filters',height=600)\n"
      ],
      "id": "340f74ec-0e7e-468c-be79-13c93218fe49"
    },
    {
      "cell_type": "markdown",
      "metadata": {},
      "source": [
        "## Random"
      ],
      "id": "5f345799-f5d1-4007-89c1-7cdf0e05e332"
    },
    {
      "cell_type": "code",
      "execution_count": 38,
      "metadata": {},
      "outputs": [],
      "source": [
        "data.query(\"method!='GNAR' and mtype =='rand'\").plot.box(backend='plotly',x='mrate',color='method',y='mse',facet_col='inter_method',facet_row='nof_filters',height=600)\n",
        "\n"
      ],
      "id": "3a592cbb-7552-4261-a137-cca4073dc392"
    },
    {
      "cell_type": "markdown",
      "metadata": {},
      "source": [
        "## Block"
      ],
      "id": "4bb33680-acfd-4e88-be32-674fa0a49890"
    },
    {
      "cell_type": "code",
      "execution_count": 39,
      "metadata": {},
      "outputs": [],
      "source": [
        "data.query(\"method!='GNAR' and mtype =='block' \").plot.box(backend='plotly',x='mrate',color='method',y='mse',facet_col='inter_method',facet_row='nof_filters',height=600)\n"
      ],
      "id": "34a7847e-ef41-46f9-968b-317ba7fe18f5"
    },
    {
      "cell_type": "markdown",
      "metadata": {},
      "source": [
        "# chickenpox"
      ],
      "id": "9fb7051f-89bf-46c0-994f-fe976fc59146"
    },
    {
      "cell_type": "code",
      "execution_count": 31,
      "metadata": {},
      "outputs": [],
      "source": [
        "df1 = pd.read_csv('./simulation_results/2023-06-13_15-38-39.csv') # GNAR random\n",
        "df2 = pd.read_csv('./simulation_results/2023-06-13_16-57-23.csv') # GNAR block\n",
        "df3 = pd.read_csv('./simulation_results/2023-06-13_17-36-42.csv') # STGCN, ITSTGCN random 30%\n",
        "df4 = pd.read_csv('./simulation_results/2023-06-13_18-16-50.csv') \n",
        "df5 = pd.read_csv('./simulation_results/2023-06-13_19-43-23.csv') \n",
        "df6 = pd.read_csv('./simulation_results/2023-06-13_21-07-40.csv') "
      ],
      "id": "65acf64c-b0ea-4e7c-8368-731594ba798f"
    },
    {
      "cell_type": "code",
      "execution_count": 32,
      "metadata": {},
      "outputs": [],
      "source": [
        "df7 = pd.read_csv('./simulation_results/2023-07-17_10-37-55.csv') # GNAR random\n",
        "df8 = pd.read_csv('./simulation_results/2023-07-17_11-21-39.csv') # GNAR block\n",
        "df9 = pd.read_csv('./simulation_results/2023-07-17_12-03-49.csv') # STGCN, ITSTGCN random 30%\n",
        "df10 = pd.read_csv('./simulation_results/2023-07-17_12-47-06.csv') "
      ],
      "id": "4b23209a-35ef-4e5b-b9bb-98d7704a8a73"
    },
    {
      "cell_type": "code",
      "execution_count": 33,
      "metadata": {},
      "outputs": [],
      "source": [
        "data = pd.concat([df1,df2,df3,df4,df5,df6,df7,df8,df9,df10],axis=0)"
      ],
      "id": "af35d535-71ec-4136-a075-fa0675464bd2"
    },
    {
      "cell_type": "code",
      "execution_count": 34,
      "metadata": {},
      "outputs": [],
      "source": [
        "data.to_csv('./simulation_results/Real_simulation_reshape/GCLSTM_chikenpox_Simulation.csv',index=False)"
      ],
      "id": "6487d845-3de4-4ed2-977d-3dc1321b5c8f"
    },
    {
      "cell_type": "code",
      "execution_count": 35,
      "metadata": {},
      "outputs": [],
      "source": [
        "data = pd.read_csv('./simulation_results/Real_simulation_reshape/GCLSTM_chikenpox_Simulation.csv')"
      ],
      "id": "d31123f0-5ea9-4197-be17-77ede5b51a52"
    },
    {
      "cell_type": "markdown",
      "metadata": {},
      "source": [
        "## Baseline"
      ],
      "id": "4923d3ec-d31b-4700-bcf1-e479a4cc95b8"
    },
    {
      "cell_type": "code",
      "execution_count": 36,
      "metadata": {},
      "outputs": [],
      "source": [
        "data.query(\"method!='GNAR' and mrate ==0 \").plot.box(backend='plotly',x='mrate',color='method',y='mse',facet_col='nof_filters',height=600)\n"
      ],
      "id": "7ce6dc1d-ec87-4a8f-a747-7ff5e84703a8"
    },
    {
      "cell_type": "markdown",
      "metadata": {},
      "source": [
        "## Random"
      ],
      "id": "0616f147-f176-434e-aedf-f0357a326e30"
    },
    {
      "cell_type": "code",
      "execution_count": 37,
      "metadata": {},
      "outputs": [],
      "source": [
        "data.query(\"method!='GNAR' and mtype =='rand'\").plot.box(backend='plotly',x='mrate',color='method',y='mse',facet_col='nof_filters',facet_row='inter_method',height=800)\n"
      ],
      "id": "08e38f57-0d42-457e-812a-07ab4d7d393d"
    },
    {
      "cell_type": "markdown",
      "metadata": {},
      "source": [
        "## Block"
      ],
      "id": "af2c7d82-a61f-48c9-93e7-ab2f25e09507"
    },
    {
      "cell_type": "code",
      "execution_count": 38,
      "metadata": {},
      "outputs": [],
      "source": [
        "data.query(\"method!='GNAR' and mtype =='block'\").plot.box(backend='plotly',x='mrate',color='method',y='mse',facet_col='inter_method',facet_row='lags',height=800)\n"
      ],
      "id": "abf00a62-b914-405e-9fb4-f88a026732fc"
    },
    {
      "cell_type": "markdown",
      "metadata": {},
      "source": [
        "# Pedalme"
      ],
      "id": "e0d43c2a-0fa4-4d49-a306-de2483713b9e"
    },
    {
      "cell_type": "code",
      "execution_count": 40,
      "metadata": {},
      "outputs": [],
      "source": [
        "df1 = pd.read_csv('./simulation_results/2023-06-07_07-17-13.csv') \n",
        "df2 = pd.read_csv('./simulation_results/2023-06-07_07-27-02.csv')  "
      ],
      "id": "ed761b48-a2da-4e2a-9cab-6b117a648a4d"
    },
    {
      "cell_type": "code",
      "execution_count": 41,
      "metadata": {},
      "outputs": [],
      "source": [
        "df3 = pd.read_csv('./simulation_results/2023-07-17_13-06-02.csv') "
      ],
      "id": "6c3b0058-e00d-4cc4-a3a9-55335a970a47"
    },
    {
      "cell_type": "code",
      "execution_count": 42,
      "metadata": {},
      "outputs": [],
      "source": [
        "data = pd.concat([df1,df2,df3],axis=0)"
      ],
      "id": "ef0c68b1-ccc1-4c73-9712-39b8b47edcf9"
    },
    {
      "cell_type": "code",
      "execution_count": 43,
      "metadata": {},
      "outputs": [],
      "source": [
        "data.to_csv('./simulation_results/Real_simulation_reshape/GCLSTM_pedalme_Simulation.csv',index=False)"
      ],
      "id": "1416a0d9-28b3-40f6-b98e-53b6be442a95"
    },
    {
      "cell_type": "code",
      "execution_count": 44,
      "metadata": {},
      "outputs": [],
      "source": [
        "data = pd.read_csv('./simulation_results/Real_simulation_reshape/GCLSTM_pedalme_Simulation.csv')"
      ],
      "id": "3f1f65a5-ef28-4482-a071-72875f2ed69c"
    },
    {
      "cell_type": "markdown",
      "metadata": {},
      "source": [
        "## Baseline"
      ],
      "id": "7ffc1cfd-136e-45c4-aa46-8fbf74261ce6"
    },
    {
      "cell_type": "code",
      "execution_count": 45,
      "metadata": {},
      "outputs": [],
      "source": [
        "data.query(\"mrate ==0 and lags!=2\").plot.box(backend='plotly',x='epoch',color='method',y='mse',facet_col='nof_filters',facet_row='lags',height=400)\n"
      ],
      "id": "88a986df-9b37-4e12-9bdb-b29157d12c44"
    },
    {
      "cell_type": "markdown",
      "metadata": {},
      "source": [
        "## random"
      ],
      "id": "b544d545-0576-4ae1-8e04-c48ffca5be09"
    },
    {
      "cell_type": "code",
      "execution_count": 46,
      "metadata": {},
      "outputs": [],
      "source": [
        "data.query(\"method!='GNAR' and mtype =='rand' and lags!=2\").plot.box(backend='plotly',x='mrate',color='method',y='mse',facet_col='nof_filters',facet_row='inter_method',height=800)\n"
      ],
      "id": "e8f56d90-0452-4b5a-bf25-f522be6d7957"
    },
    {
      "cell_type": "markdown",
      "metadata": {},
      "source": [
        "## block"
      ],
      "id": "cfc3d48a-61b4-4405-bf8b-f67354d6141f"
    },
    {
      "cell_type": "code",
      "execution_count": 47,
      "metadata": {},
      "outputs": [],
      "source": [
        "data.query(\"method!='GNAR' and mtype =='block' and lags!=2 \").plot.box(backend='plotly',x='mrate',color='method',y='mse',facet_col='nof_filters',facet_row='inter_method',height=800)\n"
      ],
      "id": "5b72e4dc-faa6-482f-88b2-f381c789b931"
    },
    {
      "cell_type": "markdown",
      "metadata": {},
      "source": [
        "## weight matrix time, node 고려한 결과"
      ],
      "id": "1b2ceced-bdad-40e9-98f3-fc4b717667fc"
    },
    {
      "cell_type": "code",
      "execution_count": 252,
      "metadata": {},
      "outputs": [],
      "source": [
        "# df1 = pd.read_csv('./simulation_results/2023-06-13_18-41-53.csv') # gclm 잘못 돌림\n",
        "df1 = pd.read_csv('./simulation_results/2023-06-13_18-14-13.csv')\n",
        "df2 = pd.read_csv('./simulation_results/2023-06-16_20-25-15.csv')"
      ],
      "id": "c35830e4-a0ba-462b-a7a4-1cb91a9524b1"
    },
    {
      "cell_type": "code",
      "execution_count": 174,
      "metadata": {},
      "outputs": [],
      "source": [
        "data2 = pd.concat([df1,df2],axis=0)"
      ],
      "id": "3ea29ede-8f55-4467-ac9c-8de9dc6bd999"
    },
    {
      "cell_type": "code",
      "execution_count": 175,
      "metadata": {},
      "outputs": [],
      "source": [
        "data2.to_csv('./simulation_results/Real_simulation_reshape/GCLSTM_pedalme_Simulation_itstgcnsnd.csv',index=False)"
      ],
      "id": "99567e66-f065-4a83-8be8-969ff1f85b26"
    },
    {
      "cell_type": "code",
      "execution_count": 176,
      "metadata": {},
      "outputs": [],
      "source": [
        "data2 = pd.read_csv('./simulation_results/Real_simulation_reshape/GCLSTM_pedalme_Simulation_itstgcnsnd.csv')"
      ],
      "id": "f946e3fb-799f-425b-8805-5903c4e23435"
    },
    {
      "cell_type": "code",
      "execution_count": 177,
      "metadata": {},
      "outputs": [],
      "source": [
        "data2.query(\"mtype=='rand'\").plot.box(backend='plotly',x='mrate',color='method',y='mse',facet_col='inter_method',facet_row='nof_filters',height=1000)"
      ],
      "id": "b40095b8-77e7-4722-8c65-193bd92f58c5"
    },
    {
      "cell_type": "code",
      "execution_count": 178,
      "metadata": {},
      "outputs": [],
      "source": [
        "data2.query(\"mtype=='block'\").plot.box(backend='plotly',x='mrate',color='method',y='mse',facet_col='inter_method',facet_row='nof_filters',height=1000)"
      ],
      "id": "3173ac22-a7d9-41ae-abe3-a509f6377b95"
    },
    {
      "cell_type": "markdown",
      "metadata": {},
      "source": [
        "# Wikimath"
      ],
      "id": "530e37ee-647f-4848-8824-3f1615114c05"
    },
    {
      "cell_type": "code",
      "execution_count": 276,
      "metadata": {},
      "outputs": [],
      "source": [
        "df1 = pd.read_csv('./simulation_results/2023-06-16_10-32-29.csv')\n",
        "df2 = pd.read_csv('./simulation_results/2023-06-16_15-13-14.csv')\n",
        "df3 = pd.read_csv('./simulation_results/2023-06-16_21-20-31.csv')\n",
        "df4 = pd.read_csv('./simulation_results/2023-06-17_10-12-36.csv')\n",
        "df5 = pd.read_csv('./simulation_results/2023-06-17_12-49-46.csv')\n",
        "df6 = pd.read_csv('./simulation_results/2023-06-17_14-45-14.csv')\n",
        "df7 = pd.read_csv('./simulation_results/2023-06-17_16-56-50.csv') \n",
        "df8 = pd.read_csv('./simulation_results/2023-06-17_20-23-03.csv')\n",
        "df9 = pd.read_csv('./simulation_results/2023-06-16_21-11-03.csv') # block\n",
        "df10 = pd.read_csv('./simulation_results/2023-06-16_15-10-06.csv') # block\n",
        "df11 = pd.read_csv('./simulation_results/2023-06-16_10-31-28.csv') # block\n",
        "## block 3개 끝나면 같은 노드로 넘어가기"
      ],
      "id": "4b3a673a-3d89-45e8-88ca-e4885aada83f"
    },
    {
      "cell_type": "code",
      "execution_count": 222,
      "metadata": {},
      "outputs": [],
      "source": [
        "data = pd.concat([df1,df2,df3,df4,df5,df6,df7,df8,df9,df10,df11],axis=0)"
      ],
      "id": "168d40db-fa32-4859-8da3-fe50db1a8ed1"
    },
    {
      "cell_type": "code",
      "execution_count": 223,
      "metadata": {},
      "outputs": [],
      "source": [
        "data.to_csv('./simulation_results/Real_simulation_reshape/GCLSTM_wikimath.csv',index=False)"
      ],
      "id": "e4354b12-d9b6-4b62-a741-12a8b40dabec"
    },
    {
      "cell_type": "code",
      "execution_count": 224,
      "metadata": {},
      "outputs": [],
      "source": [
        "data = pd.read_csv('./simulation_results/Real_simulation_reshape/GCLSTM_wikimath.csv')"
      ],
      "id": "d37e94f4-9a75-459b-9e76-2387785d1fd5"
    },
    {
      "cell_type": "markdown",
      "metadata": {},
      "source": [
        "## Baseline"
      ],
      "id": "ca426913-d7f7-4a60-a965-e63cc4cba640"
    },
    {
      "cell_type": "code",
      "execution_count": 225,
      "metadata": {},
      "outputs": [],
      "source": [
        "data.query(\"mrate==0 and method!='GNAR'\").plot.box(backend='plotly',x='mrate',color='method',y='mse',height=600)"
      ],
      "id": "78b4c2f0-9d36-42bd-9d51-936224d20079"
    },
    {
      "cell_type": "markdown",
      "metadata": {},
      "source": [
        "## random"
      ],
      "id": "b1c694aa-f9e1-4ffd-b4e6-4096af0e41ff"
    },
    {
      "cell_type": "code",
      "execution_count": 226,
      "metadata": {},
      "outputs": [],
      "source": [
        "data.query(\"mtype=='rand' and mrate !=0 and method!='GNAR'\").plot.box(backend='plotly',x='mrate',color='method',y='mse',facet_col='lags',facet_row='nof_filters',height=800)\n"
      ],
      "id": "214a4335-23e4-4afb-b2e1-fe9b64cc96fb"
    },
    {
      "cell_type": "markdown",
      "metadata": {},
      "source": [
        "## block"
      ],
      "id": "992e14ae-72fc-4118-9cca-ef171c5a88c8"
    },
    {
      "cell_type": "code",
      "execution_count": 227,
      "metadata": {},
      "outputs": [],
      "source": [
        "data.query(\"mtype=='block' and method!='GNAR'\").plot.box(backend='plotly',x='mrate',color='method',y='mse',facet_col='lags',facet_row='nof_filters',height=1200)\n"
      ],
      "id": "f08bd091-2401-4093-9f88-49362831ccf5"
    },
    {
      "cell_type": "markdown",
      "metadata": {},
      "source": [
        "## missing values on the same nodes"
      ],
      "id": "b5339822-cc60-4bc9-a995-e5c08bbc0751"
    },
    {
      "cell_type": "code",
      "execution_count": 332,
      "metadata": {
        "tags": []
      },
      "outputs": [],
      "source": [
        "df1 = pd.read_csv('./simulation_results/2023-06-17_01-42-41.csv') # STGCN IT-STGCN block\n",
        "# df2 = pd.read_csv('./simulation_results/2023-06-17_03-35-20.csv') # STGCN IT-STGCN\n",
        "df3 = pd.read_csv('./simulation_results/2023-06-17_10-06-34.csv') \n",
        "\n",
        "df4 = pd.read_csv('./simulation_results/2023-07-10_05-37-15.csv') \n",
        "df5 = pd.read_csv('./simulation_results/2023-07-10_11-00-23.csv') \n",
        "df6 = pd.read_csv('./simulation_results/2023-07-10_16-03-18.csv') "
      ],
      "id": "ce22e337-84fe-4668-b9b2-ce1366b5a025"
    },
    {
      "cell_type": "code",
      "execution_count": 333,
      "metadata": {},
      "outputs": [],
      "source": [
        "data = pd.concat([df1,df3,df4,df5,df6],axis=0)"
      ],
      "id": "5e6b139a-abe6-45b1-8113-dc9705b66fd6"
    },
    {
      "cell_type": "code",
      "execution_count": 334,
      "metadata": {},
      "outputs": [],
      "source": [
        "data.to_csv('./simulation_results/Real_simulation_reshape/GCLSTM_wikimath_GSO_st.csv',index=False)"
      ],
      "id": "52d2e5fb-604b-43bf-9a61-11cc6998f204"
    },
    {
      "cell_type": "code",
      "execution_count": 335,
      "metadata": {},
      "outputs": [],
      "source": [
        "data = pd.read_csv('./simulation_results/Real_simulation_reshape/GCLSTM_wikimath_GSO_st.csv')"
      ],
      "id": "5527dd21-6f53-464a-8e66-5d6a6e30b9bd"
    },
    {
      "cell_type": "code",
      "execution_count": 336,
      "metadata": {},
      "outputs": [],
      "source": [
        "data.query(\"method!='GNAR' and mtype =='block' \").plot.box(backend='plotly',x='mrate',color='method',y='mse',facet_col='inter_method',facet_row='lags',height=800)\n"
      ],
      "id": "5ea0580f-5bd0-49a2-b750-798942387c3f"
    },
    {
      "cell_type": "markdown",
      "metadata": {},
      "source": [
        "# Windmilsmall"
      ],
      "id": "038d7cd2-41b4-4d76-8ff5-2c5fef0b63b6"
    },
    {
      "cell_type": "code",
      "execution_count": 112,
      "metadata": {
        "tags": []
      },
      "outputs": [],
      "source": [
        "df1 = pd.read_csv('./simulation_results/2023-07-08_16-46-22.csv') # STGCN IT-STGCN 70%\n",
        "df2 = pd.read_csv('./simulation_results/2023-07-09_01-43-03.csv') # STGCN IT-STGCN\n",
        "df3 = pd.read_csv('./simulation_results/2023-07-09_10-40-50.csv') # STGCN IT-STGCN\n",
        "df4 = pd.read_csv('./simulation_results/2023-07-09_10-40-50.csv') # STGCN IT-STGCN\n",
        "df5 = pd.read_csv('./simulation_results/2023-07-09_19-35-52.csv') # STGCN IT-STGCN\n",
        "df6 = pd.read_csv('./simulation_results/2023-07-09_19-35-52.csv') # GNAR 30%, 50%, 70% # 뭔가 일단 필요없어서 데이터셋에서 뺌\n",
        "df7 = pd.read_csv('./simulation_results/2023-07-10_05-19-00.csv') # STGCN IT-STGCN\n",
        "df8 = pd.read_csv('./simulation_results/2023-07-10_15-38-09.csv') # STGCN IT-STGCN\n",
        "df9 = pd.read_csv('./simulation_results/2023-07-11_00-47-18.csv') # STGCN IT-STGCN\n",
        "df10 = pd.read_csv('./simulation_results/2023-07-11_09-43-29.csv') # STGCN IT-STGCN\n",
        "df11 = pd.read_csv('./simulation_results/2023-07-11_18-37-15.csv') # STGCN IT-STGCN\n",
        "df12 = pd.read_csv('./simulation_results/2023-07-12_03-27-10.csv') # STGCN IT-STGCN\n",
        "df13 = pd.read_csv('./simulation_results/2023-07-12_12-12-07.csv') # STGCN IT-STGCN\n",
        "df14 = pd.read_csv('./simulation_results/2023-07-12_20-57-30.csv') # STGCN IT-STGCN\n",
        "df15 = pd.read_csv('./simulation_results/2023-07-13_05-53-36.csv') # STGCN IT-STGCN\n",
        "df16 = pd.read_csv('./simulation_results/2023-07-12_19-07-41.csv') # STGCN IT-STGCN\n",
        "df17 = pd.read_csv('./simulation_results/2023-07-13_04-09-38.csv') # STGCN IT-STGCN\n",
        "df18 = pd.read_csv('./simulation_results/2023-04-20_08-30-27.csv') # STGCN IT-STGCN\n",
        "df19 = pd.read_csv('./simulation_results/2023-04-20_14-28-35.csv') # STGCN IT-STGCN\n",
        "df20 = pd.read_csv('./simulation_results/2023-04-20_16-08-39.csv') # STGCN IT-STGCN\n",
        "df21 = pd.read_csv('./simulation_results/2023-07-13_20-26-31.csv') # STGCN IT-STGCN\n",
        "df22 = pd.read_csv('./simulation_results/2023-07-13_21-36-49.csv') # STGCN IT-STGCN\n",
        "df23 = pd.read_csv('./simulation_results/2023-07-14_03-03-03.csv') # STGCN IT-STGCN\n",
        "df24 = pd.read_csv('./simulation_results/2023-07-14_04-13-48.csv') # STGCN IT-STGCN\n",
        "df25 = pd.read_csv('./simulation_results/2023-07-14_10-49-08.csv') # STGCN IT-STGCN\n",
        "df26 = pd.read_csv('./simulation_results/2023-07-14_13-01-02.csv') # STGCN IT-STGCN\n",
        "df27 = pd.read_csv('./simulation_results/2023-07-14_21-09-47.csv') # STGCN IT-STGCN\n",
        "df28 = pd.read_csv('./simulation_results/2023-07-14_22-48-18.csv') # STGCN IT-STGCN\n",
        "df29 = pd.read_csv('./simulation_results/2023-07-15_07-24-08.csv') # STGCN IT-STGCN\n",
        "df30 = pd.read_csv('./simulation_results/2023-07-15_09-28-06.csv') # STGCN IT-STGCN\n",
        "df31 = pd.read_csv('./simulation_results/2023-07-15_16-22-58.csv') # GNAR 70%\n",
        "df32 = pd.read_csv('./simulation_results/2023-07-15_18-56-34.csv') # GNAR \n",
        "df33 = pd.read_csv('./simulation_results/2023-07-16_02-27-30.csv')\n",
        "df34 = pd.read_csv('./simulation_results/2023-07-16_04-39-55.csv')\n",
        "df35 = pd.read_csv('./simulation_results/2023-07-16_08-52-31.csv')\n",
        "df36 = pd.read_csv('./simulation_results/2023-07-16_13-46-01.csv')\n",
        "df37 = pd.read_csv('./simulation_results/2023-07-16_16-24-14.csv')\n",
        "df38 = pd.read_csv('./simulation_results/2023-07-16_20-42-20.csv')\n",
        "df39 = pd.read_csv('./simulation_results/2023-07-17_02-06-35.csv')\n",
        "df40 = pd.read_csv('./simulation_results/2023-07-17_04-36-34.csv')\n",
        "df41 = pd.read_csv('./simulation_results/2023-07-17_08-38-54.csv')\n",
        "df42 = pd.read_csv('./simulation_results/2023-07-17_13-34-00.csv')\n",
        "df43 = pd.read_csv('./simulation_results/2023-07-17_15-23-22.csv')\n",
        "df44 = pd.read_csv('./simulation_results/2023-07-17_19-53-20.csv')\n",
        "df45 = pd.read_csv('./simulation_results/2023-07-18_00-22-34.csv')\n",
        "df46 = pd.read_csv('./simulation_results/2023-07-18_02-06-38.csv')\n",
        "df47 = pd.read_csv('./simulation_results/2023-07-18_06-34-10.csv')\n",
        "df48 = pd.read_csv('./simulation_results/2023-07-18_11-10-06.csv')\n",
        "df49 = pd.read_csv('./simulation_results/2023-07-18_12-50-31.csv')\n",
        "df50 = pd.read_csv('./simulation_results/2023-07-18_17-52-05.csv')\n",
        "df51 = pd.read_csv('./simulation_results/2023-07-18_22-00-41.csv')\n",
        "df52 = pd.read_csv('./simulation_results/2023-07-18_23-42-45.csv')\n",
        "df53 = pd.read_csv('./simulation_results/2023-07-19_04-59-21.csv')\n",
        "df54 = pd.read_csv('./simulation_results/2023-07-19_08-48-28.csv')\n",
        "df55 = pd.read_csv('./simulation_results/2023-07-19_17-01-57.csv')\n",
        "df56 = pd.read_csv('./simulation_results/2023-07-19_21-26-20.csv')\n",
        "df57 = pd.read_csv('./simulation_results/2023-07-20_06-05-43.csv')\n",
        "df58 = pd.read_csv('./simulation_results/2023-07-20_10-08-26.csv')\n",
        "df59 = pd.read_csv('./simulation_results/2023-07-20_19-15-18.csv')\n",
        "df60 = pd.read_csv('./simulation_results/2023-07-20_22-32-18.csv')\n",
        "df61 = pd.read_csv('./simulation_results/2023-07-21_06-57-23.csv')\n",
        "df62 = pd.read_csv('./simulation_results/2023-07-21_10-56-01.csv')\n",
        "df63 = pd.read_csv('./simulation_results/2023-07-21_17-56-21.csv')\n",
        "df64 = pd.read_csv('./simulation_results/2023-07-21_17-56-21.csv')\n",
        "df65 = pd.read_csv('./simulation_results/2023-07-21_20-36-27.csv')\n",
        "df66 = pd.read_csv('./simulation_results/2023-07-22_04-31-53.csv')\n",
        "# df67 = pd.read_csv('./simulation_results/2023-06-17_19-20-19.csv')\n",
        "# df68 = pd.read_csv('./simulation_results/2023-06-18_02-32-26.csv') # 확인 후 block 만 넣기!\n",
        "# df69 = pd.read_csv('./simulation_results/2023-06-18_12-20-16.csv')\n",
        "# df70 = pd.read_csv('./simulation_results/2023-06-18_22-03-52.csv')\n",
        "# df71 = pd.read_csv('./simulation_results/2023-06-19_07-54-07.csv')\n",
        "# df72 = pd.read_csv('./simulation_results/2023-06-19_17-32-15.csv')\n",
        "# df73 = pd.read_csv('./simulation_results/2023-06-20_02-27-48.csv')\n",
        "# df74 = pd.read_csv('./simulation_results/2023-06-20_11-25-00.csv')\n",
        "# df75 = pd.read_csv('./simulation_results/2023-06-21_08-22-10.csv')\n",
        "# df76 = pd.read_csv('./simulation_results/2023-06-21_18-02-06.csv')\n",
        "# df77 = pd.read_csv('./simulation_results/2023-06-22_03-53-20.csv')\n",
        "# df78 = pd.read_csv('./simulation_results/2023-06-22_14-30-51.csv')\n",
        "# df79 = pd.read_csv('./simulation_results/2023-06-22_23-58-03.csv')\n",
        "# df80 = pd.read_csv('./simulation_results/2023-06-23_07-50-27.csv')\n",
        "# df81 = pd.read_csv('./simulation_results/2023-06-23_15-44-00.csv')\n",
        "# df82 = pd.read_csv('./simulation_results/2023-06-24_00-32-09.csv')\n",
        "# df83 = pd.read_csv('./simulation_results/2023-06-24_10-30-38.csv')\n",
        "# df84 = pd.read_csv('./simulation_results/2023-06-24_20-29-14.csv')\n",
        "# df85 = pd.read_csv('./simulation_results/2023-06-25_06-26-42.csv')\n",
        "# df86 = pd.read_csv('./simulation_results/2023-06-25_16-24-38.csv')\n",
        "# df87 = pd.read_csv('./simulation_results/2023-06-26_02-35-43.csv')\n",
        "# df88 = pd.read_csv('./simulation_results/2023-06-26_23-22-25.csv')\n",
        "# df89 = pd.read_csv('./simulation_results/2023-06-26_13-18-29.csv')\n",
        "# df90 = pd.read_csv('./simulation_results/2023-06-26_23-22-25.csv')"
      ],
      "id": "e3bb8b16-c5de-4492-be14-9b8d336f7cce"
    },
    {
      "cell_type": "code",
      "execution_count": 113,
      "metadata": {},
      "outputs": [],
      "source": [
        "data = pd.concat([df1,df2,df3,df4,df5,df6,df7,df8,df9,df10,df11,df12,df13,df14,df15,df16,df17,\n",
        "                 df18,df19,df20,df21,df22,df23,df24,df25,df26,df27,df28,df29,df30,df31,df32,df33,df34,\n",
        "                 df35,df36,df37,df38,df39,df40,df41,df42,df43,df44,df45,df46,df47,df48,df49,df50,\n",
        "                 df51, df52, df53,df54,df55,df56,df57,df58,df59,df60,df61,df62,df63,df64,df65,df66],axis=0)"
      ],
      "id": "f220a985-a8b1-4385-9365-23e7a393c07e"
    },
    {
      "cell_type": "code",
      "execution_count": 114,
      "metadata": {},
      "outputs": [],
      "source": [
        "data.to_csv('./simulation_results/Real_simulation_reshape/GCLSTM_windmillsmall.csv',index=False)"
      ],
      "id": "0a6d00d0-cf3a-40ef-b6b2-927f62ecae17"
    },
    {
      "cell_type": "code",
      "execution_count": 115,
      "metadata": {},
      "outputs": [],
      "source": [
        "data = pd.read_csv('./simulation_results/Real_simulation_reshape/GCLSTM_windmillsmall.csv')"
      ],
      "id": "998336f8-e8cf-4449-8489-36edac6d0975"
    },
    {
      "cell_type": "markdown",
      "metadata": {},
      "source": [
        "## Baseline"
      ],
      "id": "f16cc071-2707-4a1e-896e-46e6265a7e65"
    },
    {
      "cell_type": "code",
      "execution_count": 116,
      "metadata": {},
      "outputs": [],
      "source": [
        "data.query(\"method!='GNAR' and mrate ==0 \").plot.box(backend='plotly',x='mrate',color='method',y='mse',facet_col='lags',height=800)\n"
      ],
      "id": "1b01793a-56a1-4dd6-8612-0a8b67940a72"
    },
    {
      "cell_type": "markdown",
      "metadata": {},
      "source": [
        "## random"
      ],
      "id": "78d91273-6762-4371-9c5d-d8682ffd170b"
    },
    {
      "cell_type": "code",
      "execution_count": 117,
      "metadata": {},
      "outputs": [],
      "source": [
        "data.query(\"method!='GNAR' and mtype =='rand' \").plot.box(backend='plotly',x='mrate',color='method',y='mse',facet_col='lags',facet_row='inter_method',height=800)\n"
      ],
      "id": "54524cb3-ea15-4736-87f8-7285923fcae7"
    },
    {
      "cell_type": "markdown",
      "metadata": {},
      "source": [
        "## block"
      ],
      "id": "bf9c5f82-9a8d-484b-8970-cd545a425621"
    },
    {
      "cell_type": "code",
      "execution_count": 118,
      "metadata": {},
      "outputs": [],
      "source": [
        "data.query(\"method!='GNAR' and mtype =='block' \").plot.box(backend='plotly',x='mrate',color='method',y='mse',facet_col='lags',facet_row='inter_method',height=800)\n"
      ],
      "id": "b3c46abb-49af-4d4e-b213-8a94bbaa2cff"
    },
    {
      "cell_type": "markdown",
      "metadata": {},
      "source": [
        "# Montevideobus"
      ],
      "id": "db89c53e-7802-474b-9a20-8f8dd9aebd35"
    },
    {
      "cell_type": "code",
      "execution_count": 138,
      "metadata": {},
      "outputs": [],
      "source": [
        "# k=1\n",
        "df1 = pd.read_csv('./simulation_results/2023-06-14_00-09-03.csv') # lags 8\n",
        "df2 = pd.read_csv('./simulation_results/2023-06-14_00-09-03.csv') # lags 8\n",
        "df3 = pd.read_csv('./simulation_results/2023-06-14_03-15-40.csv') # lags 8\n",
        "df4 = pd.read_csv('./simulation_results/2023-06-14_06-23-01.csv') # lags 8\n",
        "df5 = pd.read_csv('./simulation_results/2023-06-14_09-31-21.csv') # lags 8\n",
        "df6 = pd.read_csv('./simulation_results/2023-06-14_12-29-12.csv') # lags 8\n",
        "df7 = pd.read_csv('./simulation_results/2023-06-14_15-27-41.csv') # lags 8"
      ],
      "id": "6250329a-d735-46ad-8503-72f30833eb92"
    },
    {
      "cell_type": "code",
      "execution_count": 138,
      "metadata": {},
      "outputs": [],
      "source": [
        "df8 = pd.read_csv('./simulation_results/2023-07-21_14-15-40.csv') # lags 8\n",
        "df9 = pd.read_csv('./simulation_results/2023-07-21_18-40-37.csv') # lags 8\n",
        "df10 = pd.read_csv('./simulation_results/2023-07-21_20-32-41.csv') # lags 8\n",
        "df11 = pd.read_csv('./simulation_results/2023-07-21_22-22-45.csv') # lags 8\n",
        "df12 = pd.read_csv('./simulation_results/2023-07-22_00-21-56.csv') # lags 8\n",
        "df13 = pd.read_csv('./simulation_results/2023-07-22_02-21-47.csv') # lags 8\n",
        "df14 = pd.read_csv('./simulation_results/2023-07-22_04-09-40.csv') # lags 8\n",
        "df15 = pd.read_csv('./simulation_results/2023-07-22_05-50-30.csv')\n",
        "# df16 = pd.read_csv('./simulation_results/2023-07-22_05-50-30.csv')"
      ],
      "id": "7787aa11-02ff-4e5a-804d-bbcebdfc4454"
    },
    {
      "cell_type": "code",
      "execution_count": 139,
      "metadata": {},
      "outputs": [],
      "source": [
        "data = pd.concat([df1,df2,df3,df4,df5,df6,df7,df8,df9,df10,df11,df12,df13,df14,df15],axis=0)"
      ],
      "id": "f37d031d-575f-4d61-84c3-8d5c864a3902"
    },
    {
      "cell_type": "code",
      "execution_count": 140,
      "metadata": {},
      "outputs": [],
      "source": [
        "data.to_csv('./simulation_results/Real_simulation_reshape/GCLSTM_monte.csv',index=False)"
      ],
      "id": "7d26eba8-c63e-425c-9f49-728edbeef380"
    },
    {
      "cell_type": "code",
      "execution_count": 141,
      "metadata": {},
      "outputs": [],
      "source": [
        "data = pd.read_csv('./simulation_results/Real_simulation_reshape/GCLSTM_monte.csv')"
      ],
      "id": "99ce2bbb-a726-4f9e-b6c5-d3e8f0a2a30d"
    },
    {
      "cell_type": "markdown",
      "metadata": {},
      "source": [
        "## Baseline"
      ],
      "id": "34af7fa6-f3de-47a2-a59b-627949a89761"
    },
    {
      "cell_type": "code",
      "execution_count": 142,
      "metadata": {},
      "outputs": [],
      "source": [
        "data.query(\"mrate==0 and method!='GNAR'\").plot.box(backend='plotly',x='mrate',color='method',y='mse',facet_col='lags',facet_row='nof_filters',height=600)"
      ],
      "id": "921980e5-dbbd-4b86-88ba-143c9114b1a1"
    },
    {
      "cell_type": "markdown",
      "metadata": {},
      "source": [
        "## random"
      ],
      "id": "f5e45be1-1eb1-42c4-9720-6bfacdbaf7e4"
    },
    {
      "cell_type": "code",
      "execution_count": 143,
      "metadata": {},
      "outputs": [],
      "source": [
        "data.query(\"mtype=='rand' and mrate !=0 and method!='GNAR'\").plot.box(backend='plotly',x='mrate',color='method',y='mse',facet_col='lags',facet_row='inter_method',height=800)\n"
      ],
      "id": "fab8f982-60c6-4ecd-86c9-2d55cca02601"
    },
    {
      "cell_type": "markdown",
      "metadata": {},
      "source": [
        "## block"
      ],
      "id": "7042edb2-0927-463b-9c37-42f10817bc23"
    },
    {
      "cell_type": "code",
      "execution_count": 144,
      "metadata": {},
      "outputs": [],
      "source": [
        "data.query(\"mtype=='block' and method!='GNAR'\").plot.box(backend='plotly',x='mrate',color='method',y='mse',facet_col='lags',facet_row='nof_filters',height=1200)\n"
      ],
      "id": "d18c1ecf-f2a8-489e-8544-5514a064a011"
    }
  ],
  "nbformat": 4,
  "nbformat_minor": 5,
  "metadata": {
    "kernelspec": {
      "name": "python3",
      "display_name": "Python 3",
      "language": "python"
    },
    "language_info": {
      "name": "python",
      "codemirror_mode": {
        "name": "ipython",
        "version": "3"
      },
      "file_extension": ".py",
      "mimetype": "text/x-python",
      "nbconvert_exporter": "python",
      "pygments_lexer": "ipython3",
      "version": "3.8.0"
    }
  }
}
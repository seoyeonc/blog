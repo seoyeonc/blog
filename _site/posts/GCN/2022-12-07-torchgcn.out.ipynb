{
  "cells": [
    {
      "cell_type": "markdown",
      "metadata": {},
      "source": [
        "# TORCH_GEOMETRIC.NN\n",
        "\n",
        "SEOYEON CHOI  \n",
        "2022-12-05\n",
        "\n",
        "221207\n",
        "\n",
        "https://pytorch-geometric.readthedocs.io/en/latest/modules/nn.html"
      ],
      "id": "97796521-7365-454a-a99d-f0bc77f5a3cf"
    },
    {
      "cell_type": "code",
      "execution_count": 1,
      "metadata": {},
      "outputs": [],
      "source": [
        "import torch\n",
        "from torch_geometric.data import Data"
      ],
      "id": "7e016877-89ed-4c3c-a16a-d4705e320190"
    },
    {
      "cell_type": "code",
      "execution_count": 2,
      "metadata": {},
      "outputs": [],
      "source": [
        "edge_index = torch.tensor([[0, 1, 1, 2],\n",
        "                           [1, 0, 2, 1]], dtype=torch.long)\n",
        "x = torch.tensor([[-1], [0], [1]], dtype=torch.float)\n",
        "data = Data(x=x, edge_index=edge_index)"
      ],
      "id": "14ba0f60-3d98-478b-8d2d-763bef0382bd"
    },
    {
      "cell_type": "code",
      "execution_count": 3,
      "metadata": {},
      "outputs": [],
      "source": [
        "data"
      ],
      "id": "f9f28a89-254e-4ab9-98a0-bf805f2b9e44"
    },
    {
      "cell_type": "code",
      "execution_count": 4,
      "metadata": {},
      "outputs": [],
      "source": [
        "import networkx as nx\n",
        "import matplotlib.pyplot as plt"
      ],
      "id": "e117b8b5-8e62-4ba4-b0af-79256c0f3d0d"
    },
    {
      "cell_type": "code",
      "execution_count": 5,
      "metadata": {},
      "outputs": [
        {
          "output_type": "display_data",
          "metadata": {},
          "data": {
            "image/png": "[encoded data removed]"
          }
        }
      ],
      "source": [
        "G=nx.Graph()\n",
        "G.add_node('0')\n",
        "G.add_node('1')\n",
        "G.add_node('2')\n",
        "G.add_edge('0','1')\n",
        "G.add_edge('1','2')\n",
        "pos = {}\n",
        "pos['0'] = (0,0)\n",
        "pos['1'] = (1,1)\n",
        "pos['2'] = (2,0)\n",
        "nx.draw(G,pos,with_labels=True)\n",
        "plt.show()"
      ],
      "id": "dcd4833f-ddcf-40aa-ba06-2e4115707aaa"
    },
    {
      "cell_type": "code",
      "execution_count": 6,
      "metadata": {},
      "outputs": [],
      "source": [
        "from torch.nn import Linear, ReLU\n",
        "from torch_geometric.nn import Sequential, GCNConv"
      ],
      "id": "a70c1ec4-8099-43d9-a54d-d794111e8ef2"
    },
    {
      "cell_type": "markdown",
      "metadata": {},
      "source": [
        "ex\n",
        "\n",
        "``` python\n",
        "model = Sequential('x, edge_index', [\n",
        "    (GCNConv(in_channels, 64), 'x, edge_index -> x'),\n",
        "    ReLU(inplace=True),\n",
        "    (GCNConv(64, 64), 'x, edge_index -> x'),\n",
        "    ReLU(inplace=True),\n",
        "    Linear(64, out_channels),\n",
        "])\n",
        "```"
      ],
      "id": "0c9347c8-966e-47ef-9b95-eb3d942c5d36"
    },
    {
      "cell_type": "code",
      "execution_count": 7,
      "metadata": {},
      "outputs": [],
      "source": [
        "model = Sequential('x, edge_index', [\n",
        "    (GCNConv(3, 64), 'x, edge_index -> x'),\n",
        "    ReLU(inplace=True),\n",
        "    (GCNConv(64, 64), 'x, edge_index -> x'),\n",
        "    ReLU(inplace=True),\n",
        "    Linear(64, 3),\n",
        "])"
      ],
      "id": "7857547b-5368-4b08-977b-0a81cb553c16"
    },
    {
      "cell_type": "code",
      "execution_count": null,
      "metadata": {},
      "outputs": [],
      "source": [
        "model(x,edge_index)"
      ],
      "id": "886d54f0-a6cf-4d2f-a449-178448ac63d5"
    },
    {
      "cell_type": "code",
      "execution_count": 9,
      "metadata": {},
      "outputs": [],
      "source": [
        "from torch.nn import Linear, ReLU, Dropout\n",
        "from torch_geometric.nn import Sequential, GCNConv, JumpingKnowledge\n",
        "from torch_geometric.nn import global_mean_pool"
      ],
      "id": "a7c3fdfd-beca-4c86-b5f4-7aae6c8cfab4"
    },
    {
      "cell_type": "markdown",
      "metadata": {},
      "source": [
        "``` python\n",
        "model = Sequential('x, edge_index, batch', [\n",
        "    (Dropout(p=0.5), 'x -> x'),\n",
        "    (GCNConv(dataset.num_features, 64), 'x, edge_index -> x1'),\n",
        "    ReLU(inplace=True),\n",
        "    (GCNConv(64, 64), 'x1, edge_index -> x2'),\n",
        "    ReLU(inplace=True),\n",
        "    (lambda x1, x2: [x1, x2], 'x1, x2 -> xs'),\n",
        "    (JumpingKnowledge(\"cat\", 64, num_layers=2), 'xs -> x'),\n",
        "    (global_mean_pool, 'x, batch -> x'),\n",
        "    Linear(2 * 64, dataset.num_classes),\n",
        "])\n",
        "```"
      ],
      "id": "df99ef80-14e8-42db-b46e-755fe903eb5a"
    },
    {
      "cell_type": "code",
      "execution_count": null,
      "metadata": {},
      "outputs": [],
      "source": [
        "model = Sequential('x, edge_index, batch', [\n",
        "    (Dropout(p=0.5), 'x -> x'),\n",
        "    (GCNConv(dataset.num_features, 64), 'x, edge_index -> x1'),\n",
        "    ReLU(inplace=True),\n",
        "    (GCNConv(64, 64), 'x1, edge_index -> x2'),\n",
        "    ReLU(inplace=True),\n",
        "    (lambda x1, x2: [x1, x2], 'x1, x2 -> xs'),\n",
        "    (JumpingKnowledge(\"cat\", 64, num_layers=2), 'xs -> x'),\n",
        "    (global_mean_pool, 'x, batch -> x'),\n",
        "    Linear(2 * 64, dataset.num_classes),\n",
        "])"
      ],
      "id": "fdd4c69c-d1d8-4904-a12a-e0f1cef3a748"
    },
    {
      "cell_type": "code",
      "execution_count": null,
      "metadata": {},
      "outputs": [],
      "source": [
        "torch_geometric.nn.Linear()"
      ],
      "id": "7acbf177-bc92-4bef-9029-6766e1e8907b"
    }
  ],
  "nbformat": 4,
  "nbformat_minor": 5,
  "metadata": {
    "kernelspec": {
      "name": "python3",
      "display_name": "Python 3 (ipykernel)",
      "language": "python"
    },
    "language_info": {
      "name": "python",
      "codemirror_mode": {
        "name": "ipython",
        "version": "3"
      },
      "file_extension": ".py",
      "mimetype": "text/x-python",
      "nbconvert_exporter": "python",
      "pygments_lexer": "ipython3",
      "version": "3.8.12"
    }
  }
}
{
  "cells": [
    {
      "cell_type": "markdown",
      "metadata": {},
      "source": [
        "# PyG Geometric Temporal CPU vs GPU\n",
        "\n",
        "SEOYEON CHOI  \n",
        "5/11/23\n",
        "\n",
        "> CPU vs GPU"
      ],
      "id": "107f9efd-9b1e-4f3a-ab49-3488cf16c7f1"
    },
    {
      "cell_type": "code",
      "execution_count": 1,
      "metadata": {},
      "outputs": [
        {
          "output_type": "stream",
          "name": "stdout",
          "text": [
            "Fri May 12 06:42:19 2023       \n",
            "+-----------------------------------------------------------------------------+\n",
            "| NVIDIA-SMI 495.46       Driver Version: 495.46       CUDA Version: 11.5     |\n",
            "|-------------------------------+----------------------+----------------------+\n",
            "| GPU  Name        Persistence-M| Bus-Id        Disp.A | Volatile Uncorr. ECC |\n",
            "| Fan  Temp  Perf  Pwr:Usage/Cap|         Memory-Usage | GPU-Util  Compute M. |\n",
            "|                               |                      |               MIG M. |\n",
            "|===============================+======================+======================|\n",
            "|   0  NVIDIA GeForce ...  Off  | 00000000:65:00.0 Off |                  N/A |\n",
            "|  0%   37C    P8    35W / 420W |     19MiB / 24268MiB |      0%      Default |\n",
            "|                               |                      |                  N/A |\n",
            "+-------------------------------+----------------------+----------------------+\n",
            "                                                                               \n",
            "+-----------------------------------------------------------------------------+\n",
            "| Processes:                                                                  |\n",
            "|  GPU   GI   CI        PID   Type   Process name                  GPU Memory |\n",
            "|        ID   ID                                                   Usage      |\n",
            "|=============================================================================|\n",
            "|    0   N/A  N/A      1062      G   /usr/lib/xorg/Xorg                  9MiB |\n",
            "|    0   N/A  N/A      1309      G   /usr/bin/gnome-shell                8MiB |\n",
            "+-----------------------------------------------------------------------------+"
          ]
        }
      ],
      "source": [
        "!nvidia-smi"
      ],
      "id": "70aa1fcf-ff2b-4216-9706-1d045869d6c7"
    },
    {
      "cell_type": "code",
      "execution_count": 2,
      "metadata": {},
      "outputs": [],
      "source": [
        "import time"
      ],
      "id": "0758f6ba-cfc4-4edc-845a-0d0109367d25"
    },
    {
      "cell_type": "code",
      "execution_count": 3,
      "metadata": {},
      "outputs": [],
      "source": [
        "import torch"
      ],
      "id": "0f92ff39-155a-4e8c-a985-93bf46b515c1"
    },
    {
      "cell_type": "code",
      "execution_count": 4,
      "metadata": {},
      "outputs": [],
      "source": [
        "torch.cuda.is_available()"
      ],
      "id": "d75e8f4b-b6c1-448b-a2fe-8acfe0288d7c"
    },
    {
      "cell_type": "code",
      "execution_count": null,
      "metadata": {
        "tags": []
      },
      "outputs": [],
      "source": [
        "from torch_geometric_temporal.dataset import ChickenpoxDatasetLoader\n",
        "from torch_geometric_temporal.signal import temporal_signal_split\n",
        "\n",
        "loader = ChickenpoxDatasetLoader()\n",
        "\n",
        "dataset = loader.get_dataset()\n",
        "\n",
        "train_dataset, test_dataset = temporal_signal_split(dataset, train_ratio=0.8)"
      ],
      "id": "b7893718-3fd8-4c80-8d94-7fd62f61af48"
    },
    {
      "cell_type": "code",
      "execution_count": 24,
      "metadata": {},
      "outputs": [],
      "source": [
        "import torch\n",
        "import torch.nn.functional as F\n",
        "from torch_geometric_temporal.nn.recurrent import DCRNN\n",
        "\n",
        "class RecurrentGCN(torch.nn.Module):\n",
        "    def __init__(self, node_features):\n",
        "        super(RecurrentGCN, self).__init__()\n",
        "        self.recurrent = DCRNN(node_features, 32, 1)\n",
        "        self.linear = torch.nn.Linear(32, 1)\n",
        "\n",
        "    def forward(self, x, edge_index, edge_weight):\n",
        "        h = self.recurrent(x, edge_index, edge_weight)\n",
        "        h = F.relu(h)\n",
        "        h = self.linear(h)\n",
        "        return h\n"
      ],
      "id": "3c18f0dc-d923-4052-889f-16ceaa45bc8c"
    },
    {
      "cell_type": "code",
      "execution_count": 25,
      "metadata": {},
      "outputs": [],
      "source": [
        "from tqdm import tqdm"
      ],
      "id": "36de479e-72cb-439c-9e97-bfc801540a66"
    },
    {
      "cell_type": "markdown",
      "metadata": {},
      "source": [
        "# GPU"
      ],
      "id": "50a84fc3-63af-49a5-9495-869d1d0ea4cf"
    },
    {
      "cell_type": "code",
      "execution_count": 26,
      "metadata": {},
      "outputs": [],
      "source": [
        "model = RecurrentGCN(node_features = 4)"
      ],
      "id": "09daf3ca-81ca-418b-a93e-cdba2fbc291e"
    },
    {
      "cell_type": "code",
      "execution_count": 27,
      "metadata": {},
      "outputs": [],
      "source": [
        "optimizer = torch.optim.Adam(model.parameters(), lr=0.01)"
      ],
      "id": "fe57745f-1ed8-431f-b516-cb2124bd070a"
    },
    {
      "cell_type": "code",
      "execution_count": 28,
      "metadata": {},
      "outputs": [],
      "source": [
        "time.time()"
      ],
      "id": "2b2bffe9-26df-4a87-b36f-b1d79d817bd9"
    },
    {
      "cell_type": "code",
      "execution_count": 29,
      "metadata": {},
      "outputs": [
        {
          "output_type": "stream",
          "name": "stderr",
          "text": [
            "100%|██████████| 200/200 [03:05<00:00,  1.08it/s]"
          ]
        }
      ],
      "source": [
        "t1=time.time()\n",
        "for epoch in tqdm(range(200)):\n",
        "    cost = 0\n",
        "    for time, snapshot in enumerate(train_dataset):\n",
        "        y_hat = model(snapshot.x, snapshot.edge_index, snapshot.edge_attr).to(\"cuda:0\")\n",
        "        cost = cost + torch.mean((y_hat-snapshot.y.to(\"cuda:0\"))**2)\n",
        "    cost = cost / (time+1)\n",
        "    cost.backward()\n",
        "    optimizer.step()\n",
        "    optimizer.zero_grad()"
      ],
      "id": "16e0b4c6-c968-42a4-b64c-a52932ade860"
    },
    {
      "cell_type": "code",
      "execution_count": 30,
      "metadata": {},
      "outputs": [],
      "source": [
        "import time"
      ],
      "id": "3543c583-60b2-478c-9cab-5f8e2dbef50d"
    },
    {
      "cell_type": "code",
      "execution_count": 31,
      "metadata": {},
      "outputs": [],
      "source": [
        "t2=time.time()"
      ],
      "id": "6897f231-71aa-4480-93ba-6f49be9e7388"
    },
    {
      "cell_type": "code",
      "execution_count": 32,
      "metadata": {},
      "outputs": [],
      "source": [
        "t2-t1"
      ],
      "id": "d7062386-3cf6-4d96-8e1b-0855c9e77b89"
    },
    {
      "cell_type": "code",
      "execution_count": 33,
      "metadata": {},
      "outputs": [
        {
          "output_type": "stream",
          "name": "stdout",
          "text": [
            "MSE: 1.0507"
          ]
        }
      ],
      "source": [
        "model.eval()\n",
        "cost = 0\n",
        "for time, snapshot in enumerate(test_dataset):\n",
        "    y_hat = model(snapshot.x, snapshot.edge_index, snapshot.edge_attr)\n",
        "    cost = cost + torch.mean((y_hat-snapshot.y)**2)\n",
        "cost = cost / (time+1)\n",
        "cost = cost.item()\n",
        "print(\"MSE: {:.4f}\".format(cost))"
      ],
      "id": "b6f692ba-1a61-4c70-b2df-add3f8a44907"
    },
    {
      "cell_type": "markdown",
      "metadata": {},
      "source": [
        "# CPU"
      ],
      "id": "3b198dd5-3904-4b31-b64f-a593cc64cdb4"
    },
    {
      "cell_type": "code",
      "execution_count": 34,
      "metadata": {},
      "outputs": [],
      "source": [
        "model = RecurrentGCN(node_features = 4)"
      ],
      "id": "1ae29eb1-164b-4d80-b291-d4b92c6c46a0"
    },
    {
      "cell_type": "code",
      "execution_count": 35,
      "metadata": {},
      "outputs": [],
      "source": [
        "optimizer = torch.optim.Adam(model.parameters(), lr=0.01)"
      ],
      "id": "51c4adbb-8ff8-47a0-b4d6-921a4c788739"
    },
    {
      "cell_type": "code",
      "execution_count": 37,
      "metadata": {},
      "outputs": [],
      "source": [
        "import time"
      ],
      "id": "bfaa2382-972c-4c17-b280-4a4be1a4858c"
    },
    {
      "cell_type": "code",
      "execution_count": 38,
      "metadata": {},
      "outputs": [
        {
          "output_type": "stream",
          "name": "stderr",
          "text": [
            "100%|██████████| 200/200 [05:08<00:00,  1.54s/it]"
          ]
        }
      ],
      "source": [
        "t1=time.time()\n",
        "for epoch in tqdm(range(200)):\n",
        "    cost = 0\n",
        "    for time, snapshot in enumerate(train_dataset):\n",
        "        y_hat = model(snapshot.x, snapshot.edge_index, snapshot.edge_attr)\n",
        "        cost = cost + torch.mean((y_hat-snapshot.y)**2)\n",
        "    cost = cost / (time+1)\n",
        "    cost.backward()\n",
        "    optimizer.step()\n",
        "    optimizer.zero_grad()"
      ],
      "id": "6805644d-d45b-48ee-af52-4489e40a84e0"
    },
    {
      "cell_type": "code",
      "execution_count": 39,
      "metadata": {},
      "outputs": [],
      "source": [
        "import time"
      ],
      "id": "5b94183b-807c-4d7e-aa49-664f6432c022"
    },
    {
      "cell_type": "code",
      "execution_count": 40,
      "metadata": {},
      "outputs": [],
      "source": [
        "t2=time.time()"
      ],
      "id": "f69fd3b6-443d-44cf-90ee-983d6dad386b"
    },
    {
      "cell_type": "code",
      "execution_count": 41,
      "metadata": {},
      "outputs": [],
      "source": [
        "t2-t1"
      ],
      "id": "4bd4906a-5651-4839-add5-fe7b9e539d30"
    },
    {
      "cell_type": "code",
      "execution_count": 42,
      "metadata": {},
      "outputs": [
        {
          "output_type": "stream",
          "name": "stdout",
          "text": [
            "MSE: 1.0542"
          ]
        }
      ],
      "source": [
        "model.eval()\n",
        "cost = 0\n",
        "for time, snapshot in enumerate(test_dataset):\n",
        "    y_hat = model(snapshot.x, snapshot.edge_index, snapshot.edge_attr)\n",
        "    cost = cost + torch.mean((y_hat-snapshot.y)**2)\n",
        "cost = cost / (time+1)\n",
        "cost = cost.item()\n",
        "print(\"MSE: {:.4f}\".format(cost))"
      ],
      "id": "e58b6970-8fce-4c6d-93a2-38def22ba7d6"
    }
  ],
  "nbformat": 4,
  "nbformat_minor": 5,
  "metadata": {
    "kernelspec": {
      "name": "python3",
      "display_name": "Python 3 (ipykernel)",
      "language": "python"
    },
    "language_info": {
      "name": "python",
      "codemirror_mode": {
        "name": "ipython",
        "version": "3"
      },
      "file_extension": ".py",
      "mimetype": "text/x-python",
      "nbconvert_exporter": "python",
      "pygments_lexer": "ipython3",
      "version": "3.8.12"
    }
  }
}
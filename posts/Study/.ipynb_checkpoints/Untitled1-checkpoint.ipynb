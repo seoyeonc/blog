{
 "cells": [
  {
   "cell_type": "raw",
   "id": "e6ef6608-a036-4dc8-8ce4-fc78370e7c84",
   "metadata": {},
   "source": [
    "---\n",
    "title: \"Old Faithful\"\n",
    "format: html\n",
    "server: shiny\n",
    "---"
   ]
  },
  {
   "cell_type": "markdown",
   "id": "79f3bddb-033e-4d27-ba6d-f59a07f33741",
   "metadata": {},
   "source": [
    "import"
   ]
  },
  {
   "cell_type": "markdown",
   "id": "6d0368e3-710f-43ad-a739-f48ffecf3811",
   "metadata": {},
   "source": [
    "https://quarto.org/docs/interactive/shiny/"
   ]
  },
  {
   "cell_type": "code",
   "execution_count": null,
   "id": "ee236d5f-0da0-4647-aae3-bde232d7c4b9",
   "metadata": {
    "tags": []
   },
   "outputs": [],
   "source": [
    "# rpy2\n",
    "import rpy2\n",
    "import rpy2.robjects as ro \n",
    "from rpy2.robjects.vectors import FloatVector \n",
    "from rpy2.robjects.packages import importr\n",
    "\n",
    "import copy\n",
    "\n",
    "import rpy2.robjects.numpy2ri as rpyn\n",
    "import rpy2.robjects as robjects"
   ]
  },
  {
   "cell_type": "code",
   "execution_count": null,
   "id": "15db0680-c95c-4830-9ef7-16b0953a5561",
   "metadata": {},
   "outputs": [],
   "source": [
    "\n",
    "\n",
    "```{r}\n",
    "sliderInput(\"bins\", \"Number of bins:\", \n",
    "            min = 1, max = 50, value = 30)\n",
    "plotOutput(\"distPlot\")\n",
    "```\n",
    "\n",
    "```{r}\n",
    "#| context: server\n",
    "output$distPlot <- renderPlot({\n",
    "  x <- faithful[, 2]  # Old Faithful Geyser data\n",
    "  bins <- seq(min(x), max(x), length.out = input$bins + 1)\n",
    "  hist(x, breaks = bins, col = 'darkgray', border = 'white')\n",
    "})\n",
    "```"
   ]
  },
  {
   "cell_type": "code",
   "execution_count": null,
   "id": "47707eda-ac26-4f34-8121-15c9057a3222",
   "metadata": {},
   "outputs": [],
   "source": []
  }
 ],
 "metadata": {
  "kernelspec": {
   "display_name": "Python 3 (ipykernel)",
   "language": "python",
   "name": "python3"
  },
  "language_info": {
   "name": ""
  }
 },
 "nbformat": 4,
 "nbformat_minor": 5
}

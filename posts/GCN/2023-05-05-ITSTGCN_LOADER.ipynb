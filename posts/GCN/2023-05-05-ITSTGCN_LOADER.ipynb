{
 "cells": [
  {
   "cell_type": "raw",
   "id": "6c8f0bf9-e110-4e30-8596-b2dd384e79e0",
   "metadata": {
    "id": "cac470df-29e7-4148-9bbd-d8b9a32fa570",
    "tags": []
   },
   "source": [
    "---\n",
    "title: \"ITSTGCN LOADERS Version\"\n",
    "author: \"SEOYEON CHOI\"\n",
    "date: \"2023-05-05\"\n",
    "categories:\n",
    "  - ITSTGCN\n",
    "---"
   ]
  },
  {
   "cell_type": "markdown",
   "id": "ccf50ae2-58ec-4c6e-9cc8-393c473767eb",
   "metadata": {
    "tags": []
   },
   "source": [
    "> edit"
   ]
  },
  {
   "cell_type": "markdown",
   "id": "1463f6e7-0b6c-490d-b7ee-4022ce4345a8",
   "metadata": {
    "tags": [],
    "toc-hr-collapsed": true
   },
   "source": [
    "# import"
   ]
  },
  {
   "cell_type": "code",
   "execution_count": null,
   "id": "6a0706bf-961a-4883-91bc-a4e795afb4a6",
   "metadata": {},
   "outputs": [],
   "source": [
    "import itstgcntry\n",
    "import torch"
   ]
  },
  {
   "cell_type": "code",
   "execution_count": 42,
   "id": "7414cc19-d0d6-46ec-9097-2317c650a9b4",
   "metadata": {},
   "outputs": [],
   "source": [
    "from torch_geometric_temporal.dataset import EnglandCovidDatasetLoader"
   ]
  },
  {
   "cell_type": "markdown",
   "id": "cf4fb7b6-2a98-4d27-abc6-be4d36a3f2f8",
   "metadata": {},
   "source": [
    "# 예제7: iterative thresholded STGCN (IT-STGCN) with random missing"
   ]
  },
  {
   "cell_type": "markdown",
   "id": "24e20ea4-0163-4b95-b8be-dafefe44a17b",
   "metadata": {},
   "source": [
    "`-` data"
   ]
  },
  {
   "cell_type": "code",
   "execution_count": 66,
   "id": "6d142bcc-4567-451c-8449-2d8cde2e90d1",
   "metadata": {},
   "outputs": [],
   "source": [
    "loader = EnglandCovidDatasetLoader()"
   ]
  },
  {
   "cell_type": "code",
   "execution_count": 67,
   "id": "694a6c22-8cb8-4cb8-b2ca-9dcda5dd2e20",
   "metadata": {},
   "outputs": [],
   "source": [
    "dataset = loader.get_dataset(lags=1)"
   ]
  },
  {
   "cell_type": "code",
   "execution_count": 69,
   "id": "b8dc8558-1c79-4845-ac1c-8e766d7d29be",
   "metadata": {},
   "outputs": [],
   "source": [
    "train_dataset, test_dataset = itstgcntry.temporal_signal_split(dataset, train_ratio=0.8)"
   ]
  },
  {
   "cell_type": "code",
   "execution_count": 70,
   "id": "3187d867-cacc-446e-8338-e80533626728",
   "metadata": {},
   "outputs": [],
   "source": [
    "mindex = itstgcntry.rand_mindex(train_dataset,mrate=0.5)"
   ]
  },
  {
   "cell_type": "code",
   "execution_count": 71,
   "id": "9194f408-0ddd-49ae-8b68-98f32b010a14",
   "metadata": {},
   "outputs": [],
   "source": [
    "train_dataset_miss = itstgcntry.miss(EnglandCovidDatasetLoader,train_dataset,mindex,mtype='rand')"
   ]
  },
  {
   "cell_type": "code",
   "execution_count": 76,
   "id": "852cd8c7-2f79-463d-ba20-cb6945266ac6",
   "metadata": {},
   "outputs": [
    {
     "data": {
      "text/plain": [
       "torch.Size([2, 2158])"
      ]
     },
     "execution_count": 76,
     "metadata": {},
     "output_type": "execute_result"
    }
   ],
   "source": [
    "torch.tensor(dataset.edge_indices[0]).shape"
   ]
  },
  {
   "cell_type": "code",
   "execution_count": 83,
   "id": "22e271e6-9e23-482f-be23-d41f7437e6ac",
   "metadata": {},
   "outputs": [],
   "source": [
    "_a = [train_dataset_miss.edge_indices[j].tolist() for j in range(T-1)]"
   ]
  },
  {
   "cell_type": "code",
   "execution_count": 84,
   "id": "f6106b63-f42c-4fbf-9229-f60270f0cc3b",
   "metadata": {},
   "outputs": [
    {
     "data": {
      "text/plain": [
       "torch.Size([2, 2158])"
      ]
     },
     "execution_count": 84,
     "metadata": {},
     "output_type": "execute_result"
    }
   ],
   "source": [
    "torch.tensor(_a[0]).shape"
   ]
  },
  {
   "cell_type": "code",
   "execution_count": 85,
   "id": "5930d2d4-f072-477c-acb3-42001adaa10c",
   "metadata": {},
   "outputs": [],
   "source": [
    " data_dict = {\n",
    "            'edges':[train_dataset_miss.edge_indices[j].tolist() for j in range(T-1)],\n",
    "            'node_ids':{'node'+str(i):i for i in range(N)}, \n",
    "            'FX':FX}"
   ]
  },
  {
   "cell_type": "code",
   "execution_count": 86,
   "id": "d00adca6-c605-43d1-8e9d-31e2df162365",
   "metadata": {},
   "outputs": [
    {
     "ename": "TypeError",
     "evalue": "__init__() takes 1 positional argument but 2 were given",
     "output_type": "error",
     "traceback": [
      "\u001b[0;31m---------------------------------------------------------------------------\u001b[0m",
      "\u001b[0;31mTypeError\u001b[0m                                 Traceback (most recent call last)",
      "\u001b[0;32m/tmp/ipykernel_132771/2482087250.py\u001b[0m in \u001b[0;36m<module>\u001b[0;34m\u001b[0m\n\u001b[0;32m----> 1\u001b[0;31m \u001b[0mEnglandCovidDatasetLoader\u001b[0m\u001b[0;34m(\u001b[0m\u001b[0mdata_dict\u001b[0m\u001b[0;34m)\u001b[0m\u001b[0;34m.\u001b[0m\u001b[0mget_dataset\u001b[0m\u001b[0;34m(\u001b[0m\u001b[0mlags\u001b[0m\u001b[0;34m=\u001b[0m\u001b[0mlags\u001b[0m\u001b[0;34m)\u001b[0m\u001b[0;34m\u001b[0m\u001b[0;34m\u001b[0m\u001b[0m\n\u001b[0m",
      "\u001b[0;31mTypeError\u001b[0m: __init__() takes 1 positional argument but 2 were given"
     ]
    }
   ],
   "source": [
    "EnglandCovidDatasetLoader(data_dict).get_dataset(lags=lags)"
   ]
  },
  {
   "cell_type": "code",
   "execution_count": 24,
   "id": "ecdd70a2-40f2-4eb3-808b-203ff0417e10",
   "metadata": {},
   "outputs": [
    {
     "ename": "UnboundLocalError",
     "evalue": "local variable 'train_dataset_padded' referenced before assignment",
     "output_type": "error",
     "traceback": [
      "\u001b[0;31m---------------------------------------------------------------------------\u001b[0m",
      "\u001b[0;31mUnboundLocalError\u001b[0m                         Traceback (most recent call last)",
      "\u001b[0;32m/tmp/ipykernel_132771/4006111918.py\u001b[0m in \u001b[0;36m<module>\u001b[0;34m\u001b[0m\n\u001b[0;32m----> 1\u001b[0;31m \u001b[0mtrain_dataset_padded\u001b[0m \u001b[0;34m=\u001b[0m \u001b[0mitstgcntry\u001b[0m\u001b[0;34m.\u001b[0m\u001b[0mpadding\u001b[0m\u001b[0;34m(\u001b[0m\u001b[0mEnglandCovidDatasetLoader\u001b[0m\u001b[0;34m,\u001b[0m\u001b[0mtrain_dataset_miss\u001b[0m\u001b[0;34m)\u001b[0m \u001b[0;31m# padding(train_dataset_miss,method='linear'와 같음)\u001b[0m\u001b[0;34m\u001b[0m\u001b[0;34m\u001b[0m\u001b[0m\n\u001b[0m",
      "\u001b[0;32m~/Dropbox/blog/posts/GCN/itstgcntry/missing.py\u001b[0m in \u001b[0;36mpadding\u001b[0;34m(DL, train_dataset_miss, interpolation_method, num_timesteps_in, num_timesteps_out, frames, *args, **kwargs)\u001b[0m\n\u001b[1;32m     63\u001b[0m         \u001b[0mtrain_dataset_padded\u001b[0m\u001b[0;34m.\u001b[0m\u001b[0mmrate_total\u001b[0m \u001b[0;34m=\u001b[0m \u001b[0mtrain_dataset_miss\u001b[0m\u001b[0;34m.\u001b[0m\u001b[0mmrate_total\u001b[0m\u001b[0;34m\u001b[0m\u001b[0;34m\u001b[0m\u001b[0m\n\u001b[1;32m     64\u001b[0m         \u001b[0mtrain_dataset_padded\u001b[0m\u001b[0;34m.\u001b[0m\u001b[0mmtype\u001b[0m\u001b[0;34m=\u001b[0m \u001b[0mtrain_dataset_miss\u001b[0m\u001b[0;34m.\u001b[0m\u001b[0mmtype\u001b[0m\u001b[0;34m\u001b[0m\u001b[0;34m\u001b[0m\u001b[0m\n\u001b[0;32m---> 65\u001b[0;31m         \u001b[0mtrain_dataset_padded\u001b[0m\u001b[0;34m.\u001b[0m\u001b[0minterpolation_method\u001b[0m \u001b[0;34m=\u001b[0m \u001b[0minterpolation_method\u001b[0m\u001b[0;34m\u001b[0m\u001b[0;34m\u001b[0m\u001b[0m\n\u001b[0m\u001b[1;32m     66\u001b[0m \u001b[0;34m\u001b[0m\u001b[0m\n\u001b[1;32m     67\u001b[0m     \u001b[0;32melif\u001b[0m \u001b[0misinstance\u001b[0m\u001b[0;34m(\u001b[0m\u001b[0mDL\u001b[0m\u001b[0;34m,\u001b[0m \u001b[0;34m(\u001b[0m\u001b[0mMTMDatasetLoader\u001b[0m\u001b[0;34m)\u001b[0m\u001b[0;34m)\u001b[0m\u001b[0;34m:\u001b[0m\u001b[0;34m\u001b[0m\u001b[0;34m\u001b[0m\u001b[0m\n",
      "\u001b[0;31mUnboundLocalError\u001b[0m: local variable 'train_dataset_padded' referenced before assignment"
     ]
    }
   ],
   "source": [
    "train_dataset_padded = itstgcntry.padding(EnglandCovidDatasetLoader,train_dataset_miss) # padding(train_dataset_miss,method='linear'와 같음)a"
   ]
  },
  {
   "cell_type": "markdown",
   "id": "35c6a1c2-0393-4df2-8199-77b2f4f45e96",
   "metadata": {},
   "source": [
    "`-` 학습"
   ]
  },
  {
   "cell_type": "code",
   "execution_count": null,
   "id": "70d9136b-49c3-4c57-a0f1-25d318d28f29",
   "metadata": {},
   "outputs": [],
   "source": [
    "learn(self,DatasetLoader=DatasetLoader,typ=1,filters=32,epoch=50,lr=0.01,num_timesteps_in = None, num_timesteps_out = None,frames = None):"
   ]
  },
  {
   "cell_type": "code",
   "execution_count": null,
   "id": "ce4a2677-bb1a-4141-8ed5-9fa2362b0797",
   "metadata": {},
   "outputs": [],
   "source": [
    "lrnr = itstgcn.ITStgcnLearner(train_dataset_padded)"
   ]
  },
  {
   "cell_type": "code",
   "execution_count": null,
   "id": "ca79afe1-f87d-44a9-9dd7-680a928d50c6",
   "metadata": {},
   "outputs": [],
   "source": [
    "lrnr.learn(filters=4,epoch=5)"
   ]
  },
  {
   "cell_type": "markdown",
   "id": "e3d2a3d6-27a8-4607-80ad-88309ec887d2",
   "metadata": {},
   "source": [
    "`-` 적합값"
   ]
  },
  {
   "cell_type": "code",
   "execution_count": null,
   "id": "dc055d8b-a58e-4cbb-8b49-b8b41747f12e",
   "metadata": {},
   "outputs": [],
   "source": [
    "#lrnr(train_dataset_padded) \n",
    "#lrnr(test_dataset)['yhat'].shape"
   ]
  },
  {
   "cell_type": "markdown",
   "id": "ffe78a61-11e6-47a0-b610-89887bf28712",
   "metadata": {},
   "source": [
    "- 실행하면 X,y,yhat 출력 "
   ]
  },
  {
   "cell_type": "markdown",
   "id": "caf57c39-0c99-437f-bcda-51bfec49d06e",
   "metadata": {},
   "source": [
    "`-` 모형 평가 및 시각화"
   ]
  },
  {
   "cell_type": "code",
   "execution_count": null,
   "id": "631cf04b-aca6-4198-bba3-7ae8f4c2d860",
   "metadata": {},
   "outputs": [],
   "source": [
    "evtor = itstgcn.Evaluator(lrnr,train_dataset_padded,test_dataset)"
   ]
  },
  {
   "cell_type": "code",
   "execution_count": null,
   "id": "a1b4606f-946c-43c8-adc8-dee81dc43884",
   "metadata": {},
   "outputs": [],
   "source": [
    "fig = evtor.plot('--.',h=5,max_node=3,label='complete data',alpha=0.5) # max_nodes 는 1보다 커야함\n",
    "fig.set_figwidth(12)\n",
    "fig.tight_layout()\n",
    "fig"
   ]
  },
  {
   "cell_type": "markdown",
   "id": "72ff4726-d7c9-4ccd-85c6-cd50a787c59e",
   "metadata": {},
   "source": [
    "# 예제8: iterative thresholded STGCN (IT-STGCN) with block missing"
   ]
  },
  {
   "cell_type": "markdown",
   "id": "99d00c38-981d-401c-be21-16cb0b8222d2",
   "metadata": {},
   "source": [
    "`-` data"
   ]
  },
  {
   "cell_type": "code",
   "execution_count": null,
   "id": "0b74965f-b3ca-4629-b847-ddc3a6098eae",
   "metadata": {},
   "outputs": [],
   "source": [
    "_data = itstgcn.load_data('./data/fivenodes.pkl')\n",
    "_edges = torch.tensor(_data['edges']).nonzero().tolist()\n",
    "_FX = _data['f'].tolist()\n",
    "_node_ids = {'node1':0, 'node2':1, 'node3':2, 'node4':3, 'node5':4} \n",
    "data_dict = {'edges':_edges, 'node_ids':_node_ids, 'FX':_FX}"
   ]
  },
  {
   "cell_type": "code",
   "execution_count": null,
   "id": "38bfa27b-8649-413b-b998-d718f9643654",
   "metadata": {},
   "outputs": [],
   "source": [
    "loader = itstgcn.DatasetLoader(data_dict)\n",
    "dataset = loader.get_dataset(lags=2)\n",
    "train_dataset, test_dataset = itstgcn.temporal_signal_split(dataset, train_ratio=0.8)"
   ]
  },
  {
   "cell_type": "code",
   "execution_count": null,
   "id": "bcb5e3b0-e41c-488a-96d5-9e92f19acf82",
   "metadata": {},
   "outputs": [],
   "source": [
    "mindex = [list(range(10,100)),[],list(range(50,80)),[],[]]\n",
    "train_dataset_miss = itstgcn.miss(train_dataset,mindex,mtype='block')\n",
    "train_dataset_padded = itstgcn.padding(train_dataset_miss) # padding(train_dataset_miss,method='linear'와 같음)"
   ]
  },
  {
   "cell_type": "markdown",
   "id": "56ac2a8a-a221-4a52-ba44-89b95cb04c07",
   "metadata": {},
   "source": [
    "`-` 학습"
   ]
  },
  {
   "cell_type": "code",
   "execution_count": null,
   "id": "9f5adcd8-21bc-4b3a-abba-4f8f8a91ca85",
   "metadata": {},
   "outputs": [],
   "source": [
    "lrnr = itstgcn.ITStgcnLearner(train_dataset_padded)"
   ]
  },
  {
   "cell_type": "code",
   "execution_count": null,
   "id": "25ff4518-a6e8-44bf-9f5a-36c8351b7847",
   "metadata": {},
   "outputs": [],
   "source": [
    "lrnr.learn(filters=4,epoch=5)"
   ]
  },
  {
   "cell_type": "markdown",
   "id": "42661d65-473a-45d9-b0b7-862bffe0941d",
   "metadata": {},
   "source": [
    "`-` 적합값"
   ]
  },
  {
   "cell_type": "code",
   "execution_count": null,
   "id": "8ac7555e-46e0-48d2-b72d-a0021706851b",
   "metadata": {},
   "outputs": [],
   "source": [
    "#lrnr(train_dataset_padded) \n",
    "#lrnr(test_dataset)['yhat'].shape"
   ]
  },
  {
   "cell_type": "markdown",
   "id": "c1a6325b-c521-4af3-a36a-9e49f34727c5",
   "metadata": {},
   "source": [
    "- 실행하면 X,y,yhat 출력 "
   ]
  },
  {
   "cell_type": "markdown",
   "id": "280e8cca-4efa-42dc-aea9-8709b0fda813",
   "metadata": {},
   "source": [
    "`-` 모형 평가 및 시각화"
   ]
  },
  {
   "cell_type": "code",
   "execution_count": null,
   "id": "86aec2c4-7fb0-42d1-aef7-b0c8b7830768",
   "metadata": {},
   "outputs": [],
   "source": [
    "evtor = itstgcn.Evaluator(lrnr,train_dataset_padded,test_dataset)"
   ]
  },
  {
   "cell_type": "code",
   "execution_count": null,
   "id": "12b923b3-314a-415d-be38-0eae3c7a015e",
   "metadata": {},
   "outputs": [],
   "source": [
    "fig = evtor.plot('--.',h=5,max_node=3,label='complete data',alpha=0.5) # max_nodes 는 1보다 커야함\n",
    "fig.set_figwidth(12)\n",
    "fig.tight_layout()\n",
    "fig"
   ]
  }
 ],
 "metadata": {
  "kernelspec": {
   "display_name": "Python 3 (ipykernel)",
   "language": "python",
   "name": "python3"
  },
  "language_info": {
   "codemirror_mode": {
    "name": "ipython",
    "version": 3
   },
   "file_extension": ".py",
   "mimetype": "text/x-python",
   "name": "python",
   "nbconvert_exporter": "python",
   "pygments_lexer": "ipython3",
   "version": "3.8.12"
  },
  "toc-showcode": false
 },
 "nbformat": 4,
 "nbformat_minor": 5
}

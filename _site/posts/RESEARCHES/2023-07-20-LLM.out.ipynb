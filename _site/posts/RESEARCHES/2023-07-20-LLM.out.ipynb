{
  "cells": [
    {
      "cell_type": "markdown",
      "metadata": {},
      "source": [
        "# LLM\n",
        "\n",
        "SEOYEON CHOI  \n",
        "7/20/23\n",
        "\n",
        "# Import"
      ],
      "id": "e8e81e14-1232-4b4d-ae59-d8bfc4bc10f9"
    },
    {
      "cell_type": "code",
      "execution_count": 52,
      "metadata": {},
      "outputs": [],
      "source": [
        "import pandas as pd\n",
        "import torch\n",
        "from transformers import GPT2Tokenizer, TFGPT2LMHeadModel\n",
        "import tensorflow as tf"
      ],
      "id": "035d152a-e04c-4710-9340-926363c5898c"
    },
    {
      "cell_type": "markdown",
      "metadata": {},
      "source": [
        "# Data\n",
        "\n",
        "ref:\n",
        "[kaggle](https://www.kaggle.com/datasets/mazlumi/mbti-personality-type-twitter-dataset/code)"
      ],
      "id": "31f5d946-02ec-46df-a27f-7466b2830913"
    },
    {
      "cell_type": "code",
      "execution_count": 43,
      "metadata": {},
      "outputs": [],
      "source": [
        "# df2 = pd.read_csv('./dataset/twitter_MBTI.csv').iloc[:,1:]"
      ],
      "id": "c31d2849-9fda-46bb-83f7-dd313503ff3f"
    },
    {
      "cell_type": "code",
      "execution_count": 44,
      "metadata": {},
      "outputs": [],
      "source": [
        "df2"
      ],
      "id": "12d1af3d-aecd-443b-9007-985441bdf5d6"
    },
    {
      "cell_type": "code",
      "execution_count": 74,
      "metadata": {},
      "outputs": [],
      "source": [
        "def add_quotes(data):\n",
        "    return f'\"{data}\"'"
      ],
      "id": "b34bc19e-8cd9-43d6-a9ef-34d788141fbf"
    },
    {
      "cell_type": "code",
      "execution_count": 75,
      "metadata": {},
      "outputs": [],
      "source": [
        "df2 = df2.applymap(add_quotes)\n"
      ],
      "id": "33bb3023-f143-4bdc-9a25-20d4c450ab69"
    },
    {
      "cell_type": "code",
      "execution_count": 76,
      "metadata": {},
      "outputs": [],
      "source": [
        "df2"
      ],
      "id": "bec09e78-900f-4d18-b745-02d9e594a706"
    },
    {
      "cell_type": "code",
      "execution_count": 77,
      "metadata": {},
      "outputs": [
        {
          "output_type": "stream",
          "name": "stderr",
          "text": [
            "All PyTorch model weights were used when initializing TFGPT2LMHeadModel.\n",
            "\n",
            "All the weights of TFGPT2LMHeadModel were initialized from the PyTorch model.\n",
            "If your task is similar to the task the model of the checkpoint was trained on, you can already use TFGPT2LMHeadModel for predictions without further training."
          ]
        }
      ],
      "source": [
        "tokenizer = GPT2Tokenizer.from_pretrained(\"gpt2\")\n",
        "model = TFGPT2LMHeadModel.from_pretrained(\"gpt2\")\n"
      ],
      "id": "2dd64c53-3731-4c57-bb1b-9f10660f684f"
    },
    {
      "cell_type": "markdown",
      "metadata": {},
      "source": [
        "https://wikidocs.net/152922\n",
        "\n",
        "https://dacon.io/codeshare/5619"
      ],
      "id": "b3fbb7ac-5a61-4a5f-949a-5695d1406d05"
    },
    {
      "cell_type": "code",
      "execution_count": 78,
      "metadata": {},
      "outputs": [],
      "source": [
        "inputs = tokenizer(df2.iloc[:,0],return_tensors=\"tf\", padding=True, truncation=True)"
      ],
      "id": "cf9c4592-4c6d-417b-a502-0ce7a0a2261f"
    }
  ],
  "nbformat": 4,
  "nbformat_minor": 5,
  "metadata": {
    "kernelspec": {
      "name": "python3",
      "display_name": "Python 3",
      "language": "python"
    },
    "language_info": {
      "name": "python",
      "codemirror_mode": {
        "name": "ipython",
        "version": "3"
      },
      "file_extension": ".py",
      "mimetype": "text/x-python",
      "nbconvert_exporter": "python",
      "pygments_lexer": "ipython3",
      "version": "3.8.0"
    }
  }
}
{
  "cells": [
    {
      "cell_type": "markdown",
      "metadata": {},
      "source": [
        "# GConvLSTM_Simulation_reshape\n",
        "\n",
        "SEOYEON CHOI  \n",
        "5/30/23\n",
        "\n",
        "> Simulation Study"
      ],
      "id": "e7ff1f64-e291-4938-bee9-132443051bd4"
    },
    {
      "cell_type": "code",
      "execution_count": null,
      "metadata": {},
      "outputs": [],
      "source": [
        "import itstgcnGConvLSTM\n",
        "import torch\n",
        "import itstgcnGConvLSTM.planner \n",
        "import pandas as pd\n",
        "\n",
        "import numpy as np\n",
        "import random"
      ],
      "id": "f6bd086a-702f-4ac2-a445-4f8a1cfbc72b"
    },
    {
      "cell_type": "code",
      "execution_count": 5,
      "metadata": {},
      "outputs": [],
      "source": [
        "from torch_geometric_temporal.dataset import WikiMathsDatasetLoader\n",
        "loader3 = WikiMathsDatasetLoader()"
      ],
      "id": "8e80eaf3-3b65-484a-8e05-f29638c40b77"
    },
    {
      "cell_type": "code",
      "execution_count": 6,
      "metadata": {},
      "outputs": [],
      "source": [
        "from torch_geometric_temporal.dataset import MontevideoBusDatasetLoader\n",
        "loader10 = MontevideoBusDatasetLoader()"
      ],
      "id": "9c121a2f-94fc-4df4-9100-c68f4933df28"
    },
    {
      "cell_type": "code",
      "execution_count": 82,
      "metadata": {},
      "outputs": [],
      "source": [
        "plans_stgcn_rand = {\n",
        "    'max_iteration': 5, \n",
        "    'method': ['STGCN', 'IT-STGCN'],\n",
        "    'mrate': [0.5],\n",
        "    'lags': [8], \n",
        "    'nof_filters': [64], \n",
        "    'inter_method': ['linear'],\n",
        "    'epoch': [50]\n",
        "}"
      ],
      "id": "1ce60538-aece-46b9-ad5c-40554649312a"
    },
    {
      "cell_type": "code",
      "execution_count": null,
      "metadata": {},
      "outputs": [
        {
          "output_type": "stream",
          "name": "stdout",
          "text": [
            "2/50"
          ]
        }
      ],
      "source": [
        "plnr = itstgcnGConvLSTM.planner.PLNR_STGCN_RAND(plans_stgcn_rand,loader3,dataset_name='wikimath')\n",
        "plnr.simulate()"
      ],
      "id": "6634266f-99c3-4bef-b686-3676800c30a3"
    },
    {
      "cell_type": "code",
      "execution_count": null,
      "metadata": {},
      "outputs": [],
      "source": [
        "plnr = itstgcnGConvLSTM.planner.PLNR_STGCN_RAND(plans_stgcn_rand,loader3,dataset_name='wikimath')\n",
        "plnr.simulate()"
      ],
      "id": "2d50820a-8f2c-4a75-be15-bf0ae74cba79"
    },
    {
      "cell_type": "code",
      "execution_count": null,
      "metadata": {},
      "outputs": [],
      "source": [
        "plnr = itstgcnGConvLSTM.planner.PLNR_STGCN_RAND(plans_stgcn_rand,loader3,dataset_name='wikimath')\n",
        "plnr.simulate()"
      ],
      "id": "4cf876ff-d4df-491b-bfe1-a020913ef055"
    },
    {
      "cell_type": "code",
      "execution_count": null,
      "metadata": {},
      "outputs": [],
      "source": [
        "plnr = itstgcnGConvLSTM.planner.PLNR_STGCN_RAND(plans_stgcn_rand,loader3,dataset_name='wikimath')\n",
        "plnr.simulate()"
      ],
      "id": "193e5f39-24c1-439f-b278-8ea8a8a97ea8"
    },
    {
      "cell_type": "code",
      "execution_count": null,
      "metadata": {},
      "outputs": [],
      "source": [
        "plnr = itstgcnGConvLSTM.planner.PLNR_STGCN_RAND(plans_stgcn_rand,loader3,dataset_name='wikimath')\n",
        "plnr.simulate()"
      ],
      "id": "58d3196f-88e9-4ccc-a71b-210dce1f5c5d"
    },
    {
      "cell_type": "code",
      "execution_count": null,
      "metadata": {},
      "outputs": [],
      "source": [
        "plnr = itstgcnGConvLSTM.planner.PLNR_STGCN_RAND(plans_stgcn_rand,loader3,dataset_name='wikimath')\n",
        "plnr.simulate()"
      ],
      "id": "a0f9c263-4fab-4bc9-9436-154c3893660b"
    },
    {
      "cell_type": "code",
      "execution_count": null,
      "metadata": {},
      "outputs": [],
      "source": [
        "plans_stgcn_rand = {\n",
        "    'max_iteration': 5, \n",
        "    'method': ['STGCN', 'IT-STGCN'],\n",
        "    'mrate': [0.6],\n",
        "    'lags': [8], \n",
        "    'nof_filters': [64], \n",
        "    'inter_method': ['linear'],\n",
        "    'epoch': [50]\n",
        "}"
      ],
      "id": "881022a1-934f-43a5-b07b-69aabda98189"
    },
    {
      "cell_type": "code",
      "execution_count": null,
      "metadata": {},
      "outputs": [],
      "source": [
        "plnr = itstgcnGConvLSTM.planner.PLNR_STGCN_RAND(plans_stgcn_rand,loader3,dataset_name='wikimath')\n",
        "plnr.simulate()"
      ],
      "id": "04bda3d4-d6be-4e08-81b0-9d809bab3bc9"
    },
    {
      "cell_type": "code",
      "execution_count": null,
      "metadata": {},
      "outputs": [],
      "source": [
        "plnr = itstgcnGConvLSTM.planner.PLNR_STGCN_RAND(plans_stgcn_rand,loader3,dataset_name='wikimath')\n",
        "plnr.simulate()"
      ],
      "id": "e6dd71f5-2a7c-4c9c-b3a5-0df482150ae0"
    },
    {
      "cell_type": "code",
      "execution_count": null,
      "metadata": {},
      "outputs": [],
      "source": [
        "plnr = itstgcnGConvLSTM.planner.PLNR_STGCN_RAND(plans_stgcn_rand,loader3,dataset_name='wikimath')\n",
        "plnr.simulate()"
      ],
      "id": "c097c351-b961-41c4-8d74-0667c1560f93"
    },
    {
      "cell_type": "code",
      "execution_count": null,
      "metadata": {},
      "outputs": [],
      "source": [
        "plnr = itstgcnGConvLSTM.planner.PLNR_STGCN_RAND(plans_stgcn_rand,loader3,dataset_name='wikimath')\n",
        "plnr.simulate()"
      ],
      "id": "b208d327-7d84-499e-a087-7be143cfe3bb"
    },
    {
      "cell_type": "code",
      "execution_count": null,
      "metadata": {},
      "outputs": [],
      "source": [
        "plnr = itstgcnGConvLSTM.planner.PLNR_STGCN_RAND(plans_stgcn_rand,loader3,dataset_name='wikimath')\n",
        "plnr.simulate()"
      ],
      "id": "8ef23cb9-04ca-4c23-acc6-43378443b46c"
    },
    {
      "cell_type": "code",
      "execution_count": null,
      "metadata": {},
      "outputs": [],
      "source": [
        "plnr = itstgcnGConvLSTM.planner.PLNR_STGCN_RAND(plans_stgcn_rand,loader3,dataset_name='wikimath')\n",
        "plnr.simulate()"
      ],
      "id": "da6009a9-5855-4e3e-af60-9ee64aa3cf6e"
    },
    {
      "cell_type": "markdown",
      "metadata": {},
      "source": [
        "# Import"
      ],
      "id": "8434381b-e7ba-4bfc-a590-02e74807c450"
    },
    {
      "cell_type": "code",
      "execution_count": 28,
      "metadata": {},
      "outputs": [],
      "source": [
        "import matplotlib.pyplot as plt\n",
        "import pandas as pd\n",
        "import numpy as np"
      ],
      "id": "abb0d300-1f12-45d2-b605-38afc76c4f55"
    },
    {
      "cell_type": "markdown",
      "metadata": {},
      "source": [
        "# Fivenodes"
      ],
      "id": "2ccf3150-240f-45d6-a0d3-53bb7c4318e7"
    },
    {
      "cell_type": "code",
      "execution_count": 29,
      "metadata": {},
      "outputs": [],
      "source": [
        "# df5 = pd.read_csv('./simulation_results/2023-06-04_13-29-16.csv')\n",
        "# df6 = pd.read_csv('./simulation_results/2023-06-04_13-39-55.csv')\n",
        "# df7 = pd.read_csv('./simulation_results/2023-06-04_13-50-24.csv')\n",
        "# k=1"
      ],
      "id": "c91aa468-2be8-431a-9ffa-dc63fa3dd322"
    },
    {
      "cell_type": "code",
      "execution_count": 30,
      "metadata": {},
      "outputs": [],
      "source": [
        "df1 = pd.read_csv('./simulation_results/2023-06-07_08-10-42.csv')\n",
        "df2 = pd.read_csv('./simulation_results/2023-06-07_09-14-08.csv')\n",
        "df3 = pd.read_csv('./simulation_results/2023-06-07_10-17-23.csv')\n",
        "df4 = pd.read_csv('./simulation_results/2023-06-07_11-20-35.csv')\n",
        "df5 = pd.read_csv('./simulation_results/2023-06-07_12-23-45.csv')\n",
        "df6 = pd.read_csv('./simulation_results/2023-06-07_13-15-54.csv')\n",
        "df7 = pd.read_csv('./simulation_results/2023-06-13_11-25-39.csv')\n",
        "df8 = pd.read_csv('./simulation_results/2023-06-13_12-25-51.csv')"
      ],
      "id": "8aba2b44-f1fb-4531-b582-e886676a8805"
    },
    {
      "cell_type": "code",
      "execution_count": 31,
      "metadata": {},
      "outputs": [],
      "source": [
        "df9 = pd.read_csv('./simulation_results/2023-07-16_09-20-23.csv')\n",
        "df10 = pd.read_csv('./simulation_results/2023-07-16_10-22-53.csv')\n",
        "df11 = pd.read_csv('./simulation_results/2023-07-16_11-27-39.csv')\n",
        "df12 = pd.read_csv('./simulation_results/2023-07-16_12-30-05.csv')\n",
        "df13 = pd.read_csv('./simulation_results/2023-07-16_13-33-28.csv')\n",
        "df14 = pd.read_csv('./simulation_results/2023-07-16_14-34-12.csv')"
      ],
      "id": "15f79ab0-da42-4220-8bf4-d17c9a4cc925"
    },
    {
      "cell_type": "code",
      "execution_count": 32,
      "metadata": {},
      "outputs": [],
      "source": [
        "data = pd.concat([df1,df2,df3,df4,df5,df6,df7,df8,df9,df10,df11,df12,df13,df14],axis=0)"
      ],
      "id": "c1b43a06-b15e-49cc-81af-6a1986d083be"
    },
    {
      "cell_type": "code",
      "execution_count": 33,
      "metadata": {},
      "outputs": [],
      "source": [
        "data.to_csv('./simulation_results/Real_simulation_reshape/GConvLSTM_fivedones_Simulation.csv',index=False)"
      ],
      "id": "19467e7b-299b-4f2b-8828-38876777a01a"
    },
    {
      "cell_type": "code",
      "execution_count": 34,
      "metadata": {},
      "outputs": [],
      "source": [
        "data = pd.read_csv('./simulation_results/Real_simulation_reshape/GConvLSTM_fivedones_Simulation.csv')"
      ],
      "id": "fd06054f-b231-4efe-8c96-71a11499224f"
    },
    {
      "cell_type": "markdown",
      "metadata": {},
      "source": [
        "## Baseline"
      ],
      "id": "cdbd01ec-41dd-416b-b12c-7b94beffb6b9"
    },
    {
      "cell_type": "code",
      "execution_count": 35,
      "metadata": {
        "tags": []
      },
      "outputs": [],
      "source": [
        "data.query(\"method!='GNAR' and mrate==0\").plot.box(backend='plotly',x='mrate',color='method',y='mse',facet_col='lags',facet_row='nof_filters',height=600)\n"
      ],
      "id": "8b8b1789-a1da-43a3-a77b-ba7a1dd1b4f5"
    },
    {
      "cell_type": "markdown",
      "metadata": {},
      "source": [
        "## Random"
      ],
      "id": "14d527f4-163d-4c8c-8fb2-7f0d8f940132"
    },
    {
      "cell_type": "code",
      "execution_count": 36,
      "metadata": {},
      "outputs": [],
      "source": [
        "data.query(\"method!='GNAR' and mtype =='rand'\").plot.box(backend='plotly',x='mrate',color='method',y='mse',facet_col='inter_method',facet_row='nof_filters',height=600)\n",
        "\n"
      ],
      "id": "25b3122c-9aea-4875-93bc-c28a4ade00ef"
    },
    {
      "cell_type": "markdown",
      "metadata": {},
      "source": [
        "## Block"
      ],
      "id": "6411a9b7-6299-498b-b451-9d09f03f8747"
    },
    {
      "cell_type": "code",
      "execution_count": 37,
      "metadata": {},
      "outputs": [],
      "source": [
        "data.query(\"method!='GNAR' and mtype =='block' \").plot.box(backend='plotly',x='mrate',color='method',y='mse',facet_col='inter_method',facet_row='nof_filters',height=600)\n"
      ],
      "id": "3a6940d1-299c-4595-bf5f-d85c0d206572"
    },
    {
      "cell_type": "markdown",
      "metadata": {},
      "source": [
        "# chickenpox"
      ],
      "id": "971c1b1d-fa3a-458c-a160-7e09583a10bd"
    },
    {
      "cell_type": "code",
      "execution_count": 38,
      "metadata": {
        "tags": []
      },
      "outputs": [],
      "source": [
        "# df1 = pd.read_csv('./simulation_results/2023-06-02_14-03-24.csv') # GNAR random\n",
        "# df2 = pd.read_csv('./simulation_results/2023-06-03_15-57-09.csv') # GNAR block\n",
        "# df3 = pd.read_csv('./simulation_results/2023-06-03_17-58-22.csv') # STGCN, ITSTGCN random 30%\n",
        "\n",
        "## 하이퍼 파라메터 조정해서 다시 함!\n",
        "df1 = pd.read_csv('./simulation_results/2023-06-07_22-08-57.csv') \n",
        "df2 = pd.read_csv('./simulation_results/2023-06-08_01-57-25.csv') \n",
        "df3 = pd.read_csv('./simulation_results/2023-06-08_03-58-56.csv') \n",
        "df4 = pd.read_csv('./simulation_results/2023-06-08_06-00-50.csv')\n",
        "df5 = pd.read_csv('./simulation_results/2023-06-08_09-11-04.csv')\n",
        "df6 = pd.read_csv('./simulation_results/2023-06-08_13-06-18.csv')"
      ],
      "id": "d133967e-604f-4063-85c0-0d374efeee9e"
    },
    {
      "cell_type": "code",
      "execution_count": 39,
      "metadata": {},
      "outputs": [],
      "source": [
        "df7 = pd.read_csv('./simulation_results/2023-07-16_18-29-09.csv')\n",
        "df8 = pd.read_csv('./simulation_results/2023-07-16_22-21-02.csv')\n",
        "df9 = pd.read_csv('./simulation_results/2023-07-17_02-20-42.csv')\n",
        "df10 = pd.read_csv('./simulation_results/2023-07-17_06-23-41.csv')"
      ],
      "id": "4b6d7522-a829-4039-87be-6d94afc156bc"
    },
    {
      "cell_type": "code",
      "execution_count": 40,
      "metadata": {},
      "outputs": [],
      "source": [
        "data = pd.concat([df1,df2,df3,df4,df5,df6,df7,df8,df9,df10],axis=0)"
      ],
      "id": "140e678b-8a16-4712-85ac-1396f26cbe97"
    },
    {
      "cell_type": "code",
      "execution_count": 41,
      "metadata": {},
      "outputs": [],
      "source": [
        "data.to_csv('./simulation_results/Real_simulation_reshape/GConvLSTM_chikenpox_Simulation.csv',index=False)"
      ],
      "id": "26870189-9bbd-437a-8700-ad83ef86f3bd"
    },
    {
      "cell_type": "code",
      "execution_count": 42,
      "metadata": {},
      "outputs": [],
      "source": [
        "data = pd.read_csv('./simulation_results/Real_simulation_reshape/GConvLSTM_chikenpox_Simulation.csv')"
      ],
      "id": "84b7b276-913f-4005-9a9e-3a92cd82d927"
    },
    {
      "cell_type": "markdown",
      "metadata": {},
      "source": [
        "## Baseline"
      ],
      "id": "c0c8f271-0250-4bc9-a06d-7dccd2824bf9"
    },
    {
      "cell_type": "code",
      "execution_count": 43,
      "metadata": {},
      "outputs": [],
      "source": [
        "data.query(\"method!='GNAR' and mrate ==0 \").plot.box(backend='plotly',x='mrate',color='method',y='mse',facet_col='nof_filters',height=600)\n"
      ],
      "id": "cba2d37b-0e0e-41cb-9acd-2e58eaa9f4ea"
    },
    {
      "cell_type": "markdown",
      "metadata": {},
      "source": [
        "## Random"
      ],
      "id": "c77609f4-027c-4a2c-89d3-3b238ce74c14"
    },
    {
      "cell_type": "code",
      "execution_count": 44,
      "metadata": {},
      "outputs": [],
      "source": [
        "data.query(\"method!='GNAR' and mtype =='rand'\").plot.box(backend='plotly',x='mrate',color='method',y='mse',facet_col='nof_filters',facet_row='inter_method',height=800)\n"
      ],
      "id": "b1399a30-82ad-49dc-8b56-bc3bc2dd7843"
    },
    {
      "cell_type": "markdown",
      "metadata": {},
      "source": [
        "## Block"
      ],
      "id": "bc083d1a-2f7a-4bb7-8837-07164d97333a"
    },
    {
      "cell_type": "code",
      "execution_count": 45,
      "metadata": {},
      "outputs": [],
      "source": [
        "data.query(\"method!='GNAR' and mtype =='block'\").plot.box(backend='plotly',x='mrate',color='method',y='mse',facet_col='inter_method',facet_row='lags',height=800)\n"
      ],
      "id": "a0b2d6ee-b64f-42f2-af59-230430b82f1e"
    },
    {
      "cell_type": "markdown",
      "metadata": {},
      "source": [
        "# Pedalme"
      ],
      "id": "ca045ed4-cffb-4af9-854a-6fe6174172bb"
    },
    {
      "cell_type": "code",
      "execution_count": null,
      "metadata": {},
      "outputs": [],
      "source": [
        "# df3 = pd.read_csv('./simulation_results/2023-06-04_13-03-18.csv') \n",
        "# df4 = pd.read_csv('./simulation_results/2023-06-04_13-19-20.csv') \n",
        "# k=1"
      ],
      "id": "4e5d7b41-718c-4971-acb8-906d5ddab7c2"
    },
    {
      "cell_type": "code",
      "execution_count": 46,
      "metadata": {},
      "outputs": [],
      "source": [
        "df1 = pd.read_csv('./simulation_results/2023-06-08_14-08-24.csv') \n",
        "df2 = pd.read_csv('./simulation_results/2023-06-10_14-21-35.csv') "
      ],
      "id": "acb46502-b4b3-4343-860b-9fae0b7a4005"
    },
    {
      "cell_type": "code",
      "execution_count": 47,
      "metadata": {},
      "outputs": [],
      "source": [
        "df3 = pd.read_csv('./simulation_results/2023-07-17_07-05-13.csv') "
      ],
      "id": "e4734f58-e1b9-40a6-a6e2-56deb34b4497"
    },
    {
      "cell_type": "code",
      "execution_count": 48,
      "metadata": {},
      "outputs": [],
      "source": [
        "data = pd.concat([df1,df2,df3],axis=0)"
      ],
      "id": "35bbc595-ed10-432c-81f6-efe3ae3fbf36"
    },
    {
      "cell_type": "code",
      "execution_count": 49,
      "metadata": {},
      "outputs": [],
      "source": [
        "data.to_csv('./simulation_results/Real_simulation_reshape/GConvLSTM_pedalme_Simulation.csv',index=False)"
      ],
      "id": "5069074b-79ad-4781-96c9-653deea399d2"
    },
    {
      "cell_type": "code",
      "execution_count": 50,
      "metadata": {},
      "outputs": [],
      "source": [
        "data = pd.read_csv('./simulation_results/Real_simulation_reshape/GConvLSTM_pedalme_Simulation.csv')"
      ],
      "id": "5b394d9e-f5c2-45e6-bdaf-581388bf1cd5"
    },
    {
      "cell_type": "markdown",
      "metadata": {},
      "source": [
        "## Baseline"
      ],
      "id": "3e0db0bd-de8b-4946-951d-3b490d1b4d83"
    },
    {
      "cell_type": "code",
      "execution_count": 51,
      "metadata": {},
      "outputs": [],
      "source": [
        "data.query(\"mrate ==0 and lags!=2\").plot.box(backend='plotly',x='epoch',color='method',y='mse',facet_col='nof_filters',facet_row='lags',height=400)\n"
      ],
      "id": "a4b52d1f-bc05-4ba5-9837-a905aca22da4"
    },
    {
      "cell_type": "markdown",
      "metadata": {},
      "source": [
        "## random"
      ],
      "id": "2f4ec1f0-f669-450d-9cf2-061f91955970"
    },
    {
      "cell_type": "code",
      "execution_count": 52,
      "metadata": {},
      "outputs": [],
      "source": [
        "data.query(\"method!='GNAR' and mtype =='rand' and lags!=2\").plot.box(backend='plotly',x='mrate',color='method',y='mse',facet_col='nof_filters',facet_row='inter_method',height=800)\n"
      ],
      "id": "d94ed362-b1d2-45d1-a7c1-e240c8ff7b5e"
    },
    {
      "cell_type": "markdown",
      "metadata": {},
      "source": [
        "## block"
      ],
      "id": "4ec18b91-cbce-4925-8e11-c0fa423e79c3"
    },
    {
      "cell_type": "code",
      "execution_count": 53,
      "metadata": {},
      "outputs": [],
      "source": [
        "data.query(\"method!='GNAR' and mtype =='block' and lags!=2 \").plot.box(backend='plotly',x='mrate',color='method',y='mse',facet_col='nof_filters',facet_row='inter_method',height=800)\n"
      ],
      "id": "0f461081-037f-46bd-b1a8-076622478d01"
    },
    {
      "cell_type": "markdown",
      "metadata": {},
      "source": [
        "## weight matrix time, node 고려한 결과"
      ],
      "id": "07208121-f618-4ef9-8a68-1645a5804df4"
    },
    {
      "cell_type": "code",
      "execution_count": 169,
      "metadata": {},
      "outputs": [],
      "source": [
        "df1 = pd.read_csv('./simulation_results/2023-06-10_15-33-00.csv')\n",
        "df2 = pd.read_csv('./simulation_results/2023-06-10_16-06-20.csv')"
      ],
      "id": "015dde24-8c7e-4b6a-9857-451d4a1a35b3"
    },
    {
      "cell_type": "code",
      "execution_count": 170,
      "metadata": {},
      "outputs": [],
      "source": [
        "data2 = pd.concat([df1,df2],axis=0)"
      ],
      "id": "e24b8e64-f9dd-411d-9ea2-b6fbcaad1e08"
    },
    {
      "cell_type": "code",
      "execution_count": 171,
      "metadata": {},
      "outputs": [],
      "source": [
        "data2.to_csv('./simulation_results/Real_simulation_reshape/GConvLSTM_pedalme_Simulation_itstgcnsnd.csv',index=False)"
      ],
      "id": "5598c839-56eb-47a6-ab7c-db6b786243a8"
    },
    {
      "cell_type": "code",
      "execution_count": 172,
      "metadata": {},
      "outputs": [],
      "source": [
        "data2 = pd.read_csv('./simulation_results/Real_simulation_reshape/GConvLSTM_pedalme_Simulation_itstgcnsnd.csv')"
      ],
      "id": "0aa5db7f-326c-41d7-8afe-248cc9202363"
    },
    {
      "cell_type": "code",
      "execution_count": 173,
      "metadata": {},
      "outputs": [],
      "source": [
        "data2.query(\"mtype=='rand'\").plot.box(backend='plotly',x='mrate',color='method',y='mse',facet_col='inter_method',facet_row='nof_filters',height=1000)"
      ],
      "id": "38ba2ee4-4b59-4a7b-806e-6ed87420268c"
    },
    {
      "cell_type": "code",
      "execution_count": 174,
      "metadata": {},
      "outputs": [],
      "source": [
        "data2.query(\"mtype=='block'\").plot.box(backend='plotly',x='mrate',color='method',y='mse',facet_col='inter_method',facet_row='nof_filters',height=1000)"
      ],
      "id": "7799e54f-6e0c-4a1e-83a2-e1988e1c815a"
    },
    {
      "cell_type": "markdown",
      "metadata": {},
      "source": [
        "# Wikimath"
      ],
      "id": "715a092b-c555-4cda-9113-bdebeda53152"
    },
    {
      "cell_type": "code",
      "execution_count": 284,
      "metadata": {},
      "outputs": [],
      "source": [
        "df1 = pd.read_csv('./simulation_results/2023-06-09_05-04-53.csv') # 0.3\n",
        "df2 = pd.read_csv('./simulation_results/2023-06-09_22-51-24.csv') # 0.3\n",
        "df3 = pd.read_csv('./simulation_results/2023-06-10_13-44-50.csv') # 0.3\n",
        "df4 = pd.read_csv('./simulation_results/2023-06-11_17-52-38.csv') # 0.8\n",
        "df5 = pd.read_csv('./simulation_results/2023-06-12_22-28-48.csv') # 0.8\n",
        "df6 = pd.read_csv('./simulation_results/2023-06-13_19-20-20.csv') # 0\n",
        "df7 = pd.read_csv('./simulation_results/2023-06-14_20-51-43.csv') # 0\n",
        "df8 = pd.read_csv('./simulation_results/2023-06-15_17-05-25.csv') # 0\n",
        "df9 = pd.read_csv('./simulation_results/2023-06-13_16-54-57.csv') # block\n",
        "df10 = pd.read_csv('./simulation_results/2023-06-12_20-55-27.csv') # block\n",
        "df11 = pd.read_csv('./simulation_results/2023-06-12_01-29-40.csv') # block\n",
        "# 11개 끝나면 같은 노드 missing 으로 넘어가기"
      ],
      "id": "615b8d3a-e8eb-4ed8-8c56-f9d23c7dd473"
    },
    {
      "cell_type": "code",
      "execution_count": 285,
      "metadata": {},
      "outputs": [],
      "source": [
        "data = pd.concat([df1,df2,df3,df4,df5,df6,df7,df8,df9,df10,df11],axis=0)"
      ],
      "id": "c2ad587b-8b8e-437b-b3f9-e4f876b77a82"
    },
    {
      "cell_type": "code",
      "execution_count": 286,
      "metadata": {},
      "outputs": [],
      "source": [
        "data.to_csv('./simulation_results/Real_simulation_reshape/GConvLSTM_wikimath.csv',index=False)"
      ],
      "id": "fa86ef4f-e4ce-4efc-afca-95cf5de4caf8"
    },
    {
      "cell_type": "code",
      "execution_count": 287,
      "metadata": {},
      "outputs": [],
      "source": [
        "data = pd.read_csv('./simulation_results/Real_simulation_reshape/GConvLSTM_wikimath.csv')"
      ],
      "id": "bdb7ff15-4d29-4743-b9ac-2eccc61663fb"
    },
    {
      "cell_type": "markdown",
      "metadata": {},
      "source": [
        "## Baseline"
      ],
      "id": "f2d4c4de-387a-4dcd-b634-78de68674a45"
    },
    {
      "cell_type": "code",
      "execution_count": 288,
      "metadata": {},
      "outputs": [],
      "source": [
        "data.query(\"mrate==0 \").plot.box(backend='plotly',x='mrate',color='method',y='mse',height=600)"
      ],
      "id": "a5735da2-b2b4-4ceb-956a-f51fbdfb6587"
    },
    {
      "cell_type": "markdown",
      "metadata": {},
      "source": [
        "## random"
      ],
      "id": "9187cf0e-2b05-4a43-805f-e0266064fa09"
    },
    {
      "cell_type": "code",
      "execution_count": 289,
      "metadata": {},
      "outputs": [],
      "source": [
        "data.query(\"mtype=='rand' and mrate !=0 and method!='GNAR'\").plot.box(backend='plotly',x='mrate',color='method',y='mse',facet_col='lags',facet_row='nof_filters',height=800)\n"
      ],
      "id": "131d9a83-4bd6-4e16-9b0d-9c82b6954a54"
    },
    {
      "cell_type": "markdown",
      "metadata": {},
      "source": [
        "## block"
      ],
      "id": "cd72b1e0-e69e-40cc-ba47-334fa5fbfd06"
    },
    {
      "cell_type": "code",
      "execution_count": 290,
      "metadata": {},
      "outputs": [],
      "source": [
        "data.query(\"mtype=='block' \").plot.box(backend='plotly',x='mrate',color='method',y='mse',facet_col='lags',facet_row='nof_filters',height=1200)\n"
      ],
      "id": "85174ac1-9157-408a-b2fe-d28659527ab9"
    },
    {
      "cell_type": "markdown",
      "metadata": {},
      "source": [
        "## missing values on the same nodes"
      ],
      "id": "31befb38-5662-4212-a071-db46aa5a124a"
    },
    {
      "cell_type": "code",
      "execution_count": 292,
      "metadata": {
        "tags": []
      },
      "outputs": [],
      "source": [
        "df1 = pd.read_csv('./simulation_results/2023-06-14_19-23-44.csv') # STGCN IT-STGCN block\n",
        "df2 = pd.read_csv('./simulation_results/2023-06-15_15-51-38.csv')\n",
        "df3 = pd.read_csv('./simulation_results/2023-06-16_04-32-51.csv')"
      ],
      "id": "7ab68152-d254-4469-af49-014316cd21f6"
    },
    {
      "cell_type": "code",
      "execution_count": 293,
      "metadata": {},
      "outputs": [],
      "source": [
        "data = pd.concat([df1,df2,df3],axis=0)"
      ],
      "id": "c1aa2607-419a-40d1-a408-7408c22e706c"
    },
    {
      "cell_type": "code",
      "execution_count": 294,
      "metadata": {},
      "outputs": [],
      "source": [
        "data.to_csv('./simulation_results/Real_simulation_reshape/GConvLSTM_wikimath_GSO_st.csv',index=False)"
      ],
      "id": "ad7df020-dcfc-4252-9a0d-bdfe65f8d0d9"
    },
    {
      "cell_type": "code",
      "execution_count": 295,
      "metadata": {},
      "outputs": [],
      "source": [
        "data = pd.read_csv('./simulation_results/Real_simulation_reshape/GConvLSTM_wikimath_GSO_st.csv')"
      ],
      "id": "725dd01e-8829-42ea-aff4-d06683302e03"
    },
    {
      "cell_type": "code",
      "execution_count": 296,
      "metadata": {},
      "outputs": [],
      "source": [
        "data.query(\"method!='GNAR' and mtype =='block' \").plot.box(backend='plotly',x='mrate',color='method',y='mse',facet_col='inter_method',facet_row='lags',height=800)\n"
      ],
      "id": "b0632e87-46f7-4020-9f9a-62f676d05b91"
    },
    {
      "cell_type": "markdown",
      "metadata": {},
      "source": [
        "# Windmilsmall"
      ],
      "id": "025f8f03-467f-444e-a628-8438ecd454b7"
    },
    {
      "cell_type": "code",
      "execution_count": 712,
      "metadata": {},
      "outputs": [],
      "source": [
        "df1 = pd.read_csv('./simulation_results/2023-06-18_08-49-16.csv') # STGCN IT-STGCN 70%\n",
        "df2 = pd.read_csv('./simulation_results/2023-06-18_19-23-41.csv') # STGCN IT-STGCN\n",
        "df3 = pd.read_csv('./simulation_results/2023-06-19_05-43-03.csv') # STGCN IT-STGCN\n",
        "df4 = pd.read_csv('./simulation_results/2023-06-19_05-43-03.csv') # STGCN IT-STGCN\n",
        "df5 = pd.read_csv('./simulation_results/2023-06-19_15-49-47.csv') # STGCN IT-STGCN\n",
        "df6 = pd.read_csv('./simulation_results/2023-06-20_01-48-58.csv') #\n",
        "df7 = pd.read_csv('./simulation_results/2023-06-20_10-46-07.csv') # STGCN IT-STGCN\n",
        "df8 = pd.read_csv('./simulation_results/2023-06-20_22-24-25.csv') # STGCN IT-STGCN\n",
        "df9 = pd.read_csv('./simulation_results/2023-06-21_08-49-11.csv') # STGCN IT-STGCN\n",
        "df10 = pd.read_csv('./simulation_results/2023-06-21_18-48-04.csv') # STGCN IT-STGCN\n",
        "df11 = pd.read_csv('./simulation_results/2023-06-22_04-57-53.csv') # STGCN IT-STGCN\n",
        "df12 = pd.read_csv('./simulation_results/2023-06-23_01-51-16.csv') # STGCN IT-STGCN\n",
        "df13 = pd.read_csv('./simulation_results/2023-06-23_09-45-30.csv') # STGCN IT-STGCN\n",
        "df14 = pd.read_csv('./simulation_results/2023-06-23_17-38-53.csv') # STGCN IT-STGCN\n",
        "df15 = pd.read_csv('./simulation_results/2023-06-24_03-32-00.csv') # STGCN IT-STGCN\n",
        "df16 = pd.read_csv('./simulation_results/2023-06-24_14-02-04.csv') # STGCN IT-STGCN\n",
        "df17 = pd.read_csv('./simulation_results/2023-06-25_00-33-49.csv') # STGCN IT-STGCN\n",
        "df18 = pd.read_csv('./simulation_results/2023-06-25_11-14-03.csv') # STGCN IT-STGCN\n",
        "df19 = pd.read_csv('./simulation_results/2023-06-25_21-52-31.csv') # STGCN IT-STGCN\n",
        "df20 = pd.read_csv('./simulation_results/2023-06-26_09-32-33.csv') # STGCN IT-STGCN\n",
        "df21 = pd.read_csv('./simulation_results/2023-06-26_20-26-47.csv') # STGCN IT-STGCN\n",
        "df22 = pd.read_csv('./simulation_results/2023-06-30_22-22-17.csv') # STGCN IT-STGCN\n",
        "df23 = pd.read_csv('./simulation_results/2023-06-27_07-38-02.csv') # STGCN IT-STGCN\n",
        "df24 = pd.read_csv('./simulation_results/2023-06-27_17-42-21.csv') # STGCN IT-STGCN\n",
        "df25 = pd.read_csv('./simulation_results/2023-06-27_23-25-36.csv') # STGCN IT-STGCN\n",
        "df26 = pd.read_csv('./simulation_results/2023-06-28_04-51-32.csv') # STGCN IT-STGCN\n",
        "df27 = pd.read_csv('./simulation_results/2023-06-28_13-42-03.csv') # STGCN IT-STGCN\n",
        "df28 = pd.read_csv('./simulation_results/2023-06-28_23-31-39.csv') # STGCN IT-STGCN\n",
        "df29 = pd.read_csv('./simulation_results/2023-06-29_07-37-23.csv') # STGCN IT-STGCN\n",
        "df30 = pd.read_csv('./simulation_results/2023-06-29_11-42-51.csv') # STGCN IT-STGCN\n",
        "df31 = pd.read_csv('./simulation_results/2023-06-29_18-56-11.csv') # GNAR 70%\n",
        "df32 = pd.read_csv('./simulation_results/2023-06-29_23-00-06.csv') # GNAR \n",
        "df33 = pd.read_csv('./simulation_results/2023-06-30_07-55-33.csv')\n",
        "df34 = pd.read_csv('./simulation_results/2023-06-30_13-16-45.csv')\n",
        "df35 = pd.read_csv('./simulation_results/2023-06-30_22-22-17.csv')\n",
        "df36 = pd.read_csv('./simulation_results/2023-07-01_02-32-38.csv')\n",
        "df37 = pd.read_csv('./simulation_results/2023-05-02_01-10-53.csv')\n",
        "df38 = pd.read_csv('./simulation_results/2023-07-01_22-06-17.csv')\n",
        "df39 = pd.read_csv('./simulation_results/2023-07-02_02-39-51.csv')\n",
        "df40 = pd.read_csv('./simulation_results/2023-07-02_10-30-04.csv')\n",
        "df41 = pd.read_csv('./simulation_results/2023-07-02_14-55-00.csv')\n",
        "df42 = pd.read_csv('./simulation_results/2023-07-02_22-39-16.csv')\n",
        "df43 = pd.read_csv('./simulation_results/2023-07-03_02-31-23.csv')\n",
        "df44 = pd.read_csv('./simulation_results/2023-07-03_09-46-01.csv')\n",
        "df45 = pd.read_csv('./simulation_results/2023-07-03_13-39-49.csv')\n",
        "df46 = pd.read_csv('./simulation_results/2023-07-03_20-27-34.csv')\n",
        "df47 = pd.read_csv('./simulation_results/2023-07-03_23-24-36.csv')\n",
        "df48 = pd.read_csv('./simulation_results/2023-07-04_04-53-17.csv')\n",
        "df49 = pd.read_csv('./simulation_results/2023-07-04_07-47-18.csv')\n",
        "df50 = pd.read_csv('./simulation_results/2023-07-04_13-19-43.csv')\n",
        "df51 = pd.read_csv('./simulation_results/2023-07-04_16-15-28.csv')\n",
        "df52 = pd.read_csv('./simulation_results/2023-07-04_21-45-58.csv')\n",
        "df53 = pd.read_csv('./simulation_results/2023-07-05_00-42-02.csv')\n",
        "df54 = pd.read_csv('./simulation_results/2023-07-05_06-10-53.csv')\n",
        "df55 = pd.read_csv('./simulation_results/2023-07-05_09-04-03.csv')\n",
        "df56 = pd.read_csv('./simulation_results/2023-07-05_14-35-14.csv')\n",
        "df57 = pd.read_csv('./simulation_results/2023-07-05_17-33-38.csv')\n",
        "df58 = pd.read_csv('./simulation_results/2023-07-05_23-06-14.csv')\n",
        "df59 = pd.read_csv('./simulation_results/2023-07-06_01-59-24.csv')\n",
        "df60 = pd.read_csv('./simulation_results/2023-07-06_07-30-43.csv')\n",
        "df61 = pd.read_csv('./simulation_results/2023-07-06_10-26-11.csv')\n",
        "df62 = pd.read_csv('./simulation_results/2023-07-06_15-56-04.csv')\n",
        "df63 = pd.read_csv('./simulation_results/2023-07-06_18-51-39.csv')\n",
        "df64 = pd.read_csv('./simulation_results/2023-07-07_00-20-44.csv')\n",
        "df65 = pd.read_csv('./simulation_results/2023-07-07_03-16-52.csv')\n",
        "df66 = pd.read_csv('./simulation_results/2023-07-07_08-45-18.csv')\n",
        "df67 = pd.read_csv('./simulation_results/2023-07-07_11-42-32.csv')\n",
        "df68 = pd.read_csv('./simulation_results/2023-07-07_17-11-59.csv')\n",
        "df69 = pd.read_csv('./simulation_results/2023-07-07_20-09-16.csv')\n",
        "df70 = pd.read_csv('./simulation_results/2023-07-08_01-39-33.csv') \n",
        "df71 = pd.read_csv('./simulation_results/2023-07-08_04-35-48.csv')\n",
        "df72 = pd.read_csv('./simulation_results/2023-07-08_10-41-29.csv')\n",
        "df73 = pd.read_csv('./simulation_results/2023-07-08_14-48-52.csv')\n",
        "df74 = pd.read_csv('./simulation_results/2023-07-08_22-15-53.csv')\n",
        "df75 = pd.read_csv('./simulation_results/2023-07-09_02-11-41.csv')\n",
        "df76 = pd.read_csv('./simulation_results/2023-07-09_09-59-35.csv')\n",
        "df77 = pd.read_csv('./simulation_results/2023-07-09_14-17-00.csv')\n",
        "df78 = pd.read_csv('./simulation_results/2023-07-09_22-10-25.csv')\n",
        "df79 = pd.read_csv('./simulation_results/2023-07-10_02-39-25.csv')\n",
        "df80 = pd.read_csv('./simulation_results/2023-07-10_12-33-23.csv')\n",
        "df81 = pd.read_csv('./simulation_results/2023-07-10_17-03-55.csv')\n",
        "df82 = pd.read_csv('./simulation_results/2023-07-11_01-43-12.csv')\n",
        "df83 = pd.read_csv('./simulation_results/2023-07-11_05-19-38.csv')\n",
        "df84 = pd.read_csv('./simulation_results/2023-07-11_13-21-44.csv')\n",
        "df85 = pd.read_csv('./simulation_results/2023-07-11_16-56-36.csv')\n",
        "df86 = pd.read_csv('./simulation_results/2023-07-12_05-06-36.csv')\n",
        "df87 = pd.read_csv('./simulation_results/2023-07-12_10-10-49.csv')\n",
        "df88 = pd.read_csv('./simulation_results/2023-07-12_17-03-55.csv')\n",
        "df89 = pd.read_csv('./simulation_results/2023-07-13_15-31-01.csv')\n",
        "df90 = pd.read_csv('./simulation_results/2023-07-14_20-29-43.csv')\n",
        "df91 = pd.read_csv('./simulation_results/2023-07-13_04-24-40.csv')\n",
        "df92 = pd.read_csv('./simulation_results/2023-07-15_09-33-11.csv')"
      ],
      "id": "aba0a31e-d4b8-48d3-8bed-645478548668"
    },
    {
      "cell_type": "code",
      "execution_count": 713,
      "metadata": {},
      "outputs": [],
      "source": [
        "data = pd.concat([df1,df2,df3,df4,df5,df6,df7,df8,df9,df10,df11,df12,df13,df14,df15,df16,df17,df18,df19,df20,df21,\n",
        "                 df22,df23,df24,df25,df26,df27,df28,df29,df30,df31,df32,df33,df34,df35,df36,df37,df38,df39,df40,\n",
        "                 df41,df42,df43,df44,df45,df46,df47,df48,df29,df50,df51,df52,df53,df54,df55,df56,df57,df58,df59,df60,df61,\n",
        "                 df62,df63,df64,df65,df66,df67,df68,df69,df70,df71,df72,df73,df74,df75,df76,df77,df78,df79,df80,df81,\n",
        "                 df82,df83,df84,df85,df86,df87,df88,df89,df90,df91,df92],axis=0)"
      ],
      "id": "3c0d4c55-a671-403d-b4d2-a73a4d2ae5f5"
    },
    {
      "cell_type": "code",
      "execution_count": 714,
      "metadata": {},
      "outputs": [],
      "source": [
        "data.to_csv('./simulation_results/Real_simulation_reshape/GConvLSTM_windmillsmall.csv',index=False)"
      ],
      "id": "b8b0ef87-bc71-4d68-983c-4d8eacb33988"
    },
    {
      "cell_type": "code",
      "execution_count": 715,
      "metadata": {},
      "outputs": [],
      "source": [
        "data = pd.read_csv('./simulation_results/Real_simulation_reshape/GConvLSTM_windmillsmall.csv')"
      ],
      "id": "d2afdc7f-6656-4d4f-822b-b977fbee84ff"
    },
    {
      "cell_type": "markdown",
      "metadata": {},
      "source": [
        "## Baseline"
      ],
      "id": "0306091f-0b87-4af9-a3b6-38d8580d6edb"
    },
    {
      "cell_type": "code",
      "execution_count": 693,
      "metadata": {},
      "outputs": [],
      "source": [
        "data.query(\"method!='GNAR' and mrate ==0 \").plot.box(backend='plotly',x='mrate',color='method',y='mse',facet_col='lags',height=800)\n"
      ],
      "id": "546f8ad5-7d32-4002-9521-3d225096f78d"
    },
    {
      "cell_type": "markdown",
      "metadata": {},
      "source": [
        "## random"
      ],
      "id": "1fd0ca8d-fcf1-40bc-b1db-bffac05aa255"
    },
    {
      "cell_type": "code",
      "execution_count": 694,
      "metadata": {},
      "outputs": [],
      "source": [
        "data.query(\"method!='GNAR' and mtype =='rand' \").plot.box(backend='plotly',x='mrate',color='method',y='mse',facet_col='lags',facet_row='inter_method',height=800)\n"
      ],
      "id": "932bbf76-b937-412c-808d-bd35a4f2815f"
    },
    {
      "cell_type": "markdown",
      "metadata": {},
      "source": [
        "## block"
      ],
      "id": "701fff9b-ab64-4a5a-bc26-9a8239a5a344"
    },
    {
      "cell_type": "code",
      "execution_count": 695,
      "metadata": {},
      "outputs": [],
      "source": [
        "data.query(\"method!='GNAR' and mtype =='block' \").plot.box(backend='plotly',x='mrate',color='method',y='mse',facet_col='lags',facet_row='inter_method',height=800)\n"
      ],
      "id": "0ccdb439-d519-41e7-853b-5d99eedce32b"
    },
    {
      "cell_type": "markdown",
      "metadata": {},
      "source": [
        "# Montevideobus"
      ],
      "id": "d641cecc-cba4-4f5b-b55b-3270586025f5"
    },
    {
      "cell_type": "code",
      "execution_count": 71,
      "metadata": {},
      "outputs": [],
      "source": [
        "df1 = pd.read_csv('./simulation_results/2023-06-09_04-44-47.csv') # lags 8\n",
        "df2 = pd.read_csv('./simulation_results/2023-06-09_10-14-28.csv') # lags 8\n",
        "df3 = pd.read_csv('./simulation_results/2023-06-09_15-02-44.csv') # lags 8\n",
        "df4 = pd.read_csv('./simulation_results/2023-06-09_20-18-35.csv') # lags 8\n",
        "df5 = pd.read_csv('./simulation_results/2023-06-10_19-55-08.csv') # lags 8\n",
        "df6 = pd.read_csv('./simulation_results/2023-06-10_23-03-00.csv') # lags 8\n",
        "df7 = pd.read_csv('./simulation_results/2023-06-11_02-22-49.csv') # lags 8"
      ],
      "id": "37220a86-5205-40ab-8eb9-d4e6a1e6c5fd"
    },
    {
      "cell_type": "code",
      "execution_count": 72,
      "metadata": {},
      "outputs": [],
      "source": [
        "df8 = pd.read_csv('./simulation_results/2023-07-20_01-06-37.csv') # lags 8\n",
        "df9 = pd.read_csv('./simulation_results/2023-07-20_06-05-46.csv') # lags 8\n",
        "df10 = pd.read_csv('./simulation_results/2023-07-20_10-50-04.csv') # lags 8\n",
        "df11 = pd.read_csv('./simulation_results/2023-07-20_15-35-45.csv') # lags 8\n",
        "df12 = pd.read_csv('./simulation_results/2023-07-20_20-12-53.csv') # lags 8\n",
        "df13 = pd.read_csv('./simulation_results/2023-07-21_00-58-20.csv') # lags 8\n",
        "df14 = pd.read_csv('./simulation_results/2023-07-21_05-45-10.csv') # lags 8\n",
        "df15 = pd.read_csv('./simulation_results/2023-07-21_10-13-49.csv') # lags 8\n",
        "df16 = pd.read_csv('./simulation_results/2023-07-21_14-15-40.csv') # lags 8"
      ],
      "id": "04dc50d7-8a7f-4ac4-858c-6cd9fc6d4bd9"
    },
    {
      "cell_type": "code",
      "execution_count": 73,
      "metadata": {},
      "outputs": [],
      "source": [
        "data = pd.concat([df1,df2,df3,df4,df5,df6,df7,df8,df9,df10,df11,df12,df13,df14,df15,df16],axis=0)"
      ],
      "id": "a86f7c16-cd66-4c00-9d73-ea608420d87b"
    },
    {
      "cell_type": "code",
      "execution_count": 74,
      "metadata": {},
      "outputs": [],
      "source": [
        "data.to_csv('./simulation_results/Real_simulation_reshape/GConvLSTM_monte.csv',index=False)"
      ],
      "id": "96b999e1-9504-430c-9ac2-76e6446bb4d3"
    },
    {
      "cell_type": "code",
      "execution_count": 75,
      "metadata": {},
      "outputs": [],
      "source": [
        "data = pd.read_csv('./simulation_results/Real_simulation_reshape/GConvLSTM_monte.csv')"
      ],
      "id": "637fdb14-bef7-4001-a86f-00b010e0e455"
    },
    {
      "cell_type": "markdown",
      "metadata": {},
      "source": [
        "## Baseline"
      ],
      "id": "42cd40a3-353d-4317-b190-2a88faa63b55"
    },
    {
      "cell_type": "code",
      "execution_count": 76,
      "metadata": {},
      "outputs": [],
      "source": [
        "data.query(\"mrate==0 and method!='GNAR'\").plot.box(backend='plotly',x='mrate',color='method',y='mse',facet_col='lags',facet_row='nof_filters',height=600)"
      ],
      "id": "51598dbe-40e9-468b-a479-99fe40a53ba6"
    },
    {
      "cell_type": "markdown",
      "metadata": {},
      "source": [
        "## random"
      ],
      "id": "3b842a29-4616-4dc4-8d12-827baf38ccfe"
    },
    {
      "cell_type": "code",
      "execution_count": 79,
      "metadata": {},
      "outputs": [],
      "source": [
        "data.query(\"mtype=='rand' and mrate !=0 and method!='GNAR'\").plot.box(backend='plotly',x='mrate',color='method',y='mse',facet_col='lags',facet_row='inter_method',height=800)\n"
      ],
      "id": "99a3335e-3e9d-450b-b995-46f091735e4c"
    },
    {
      "cell_type": "markdown",
      "metadata": {},
      "source": [
        "## block"
      ],
      "id": "5df333f6-4806-4efe-bb49-cedc72785a8d"
    },
    {
      "cell_type": "code",
      "execution_count": 78,
      "metadata": {},
      "outputs": [],
      "source": [
        "data.query(\"mtype=='block' and method!='GNAR'\").plot.box(backend='plotly',x='mrate',color='method',y='mse',facet_col='lags',facet_row='nof_filters',height=1200)\n"
      ],
      "id": "0f4c7532-04f5-49ac-9a0e-914b08f18f01"
    }
  ],
  "nbformat": 4,
  "nbformat_minor": 5,
  "metadata": {
    "kernelspec": {
      "name": "python3",
      "display_name": "Python 3",
      "language": "python"
    },
    "language_info": {
      "name": "python",
      "codemirror_mode": {
        "name": "ipython",
        "version": "3"
      },
      "file_extension": ".py",
      "mimetype": "text/x-python",
      "nbconvert_exporter": "python",
      "pygments_lexer": "ipython3",
      "version": "3.8.0"
    }
  }
}
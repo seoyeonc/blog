{
 "cells": [
  {
   "cell_type": "raw",
   "id": "1934ef7b-8352-4030-a98d-ecc9a76ed224",
   "metadata": {
    "id": "cac470df-29e7-4148-9bbd-d8b9a32fa570",
    "tags": []
   },
   "source": [
    "---\n",
    "title: \"**[ANOMALOUS]**Graph\"\n",
    "author: \"SEOYEON CHOI\"\n",
    "date: \"2023-09-07\"\n",
    "---"
   ]
  },
  {
   "cell_type": "markdown",
   "id": "efb6b603-b8fb-40fe-bd6b-c2190f63cbc9",
   "metadata": {},
   "source": [
    "https://docs.pygod.org/en/latest/generated/pygod.detector.ANOMALOUS.html\n"
   ]
  },
  {
   "cell_type": "markdown",
   "id": "2e5c2ce2-1b56-4ba7-9596-2d44c9ce7d47",
   "metadata": {},
   "source": [
    "paper: https://www.ijcai.org/Proceedings/2018/0488.pdf"
   ]
  },
  {
   "cell_type": "markdown",
   "id": "06aa2616-755a-4c12-b507-0a4171153ef7",
   "metadata": {},
   "source": [
    "교수님꼐서 알려주신 사이트 https://pycaret.gitbook.io/docs/get-started/quickstart#anomaly-detection"
   ]
  },
  {
   "cell_type": "markdown",
   "id": "bc8445d2-308d-4652-b05f-4474ac088bc7",
   "metadata": {},
   "source": [
    "`Summary`\n",
    "\n",
    "- 노드당 매핑된 attribute로 이상치를 계산해낸다.\n",
    "- 그래서 attribute 특징마다 나오는 이상치라고 칭하는 노드가 다른 것 같다.\n",
    "- 노드 정보와 네트워크를 기반으로 rare하거나 상당히 differ한 인스턴스 집합 찾는 것을 목표로 한다."
   ]
  },
  {
   "cell_type": "markdown",
   "id": "69249c97-8c1e-4a89-b2df-4e254495df6c",
   "metadata": {},
   "source": [
    "# Import"
   ]
  },
  {
   "cell_type": "code",
   "execution_count": 1,
   "id": "87e45f07-3c6b-48d0-961b-f4b290b669a0",
   "metadata": {},
   "outputs": [
    {
     "name": "stderr",
     "output_type": "stream",
     "text": [
      "/home/csy/anaconda3/envs/temp_csy/lib/python3.8/site-packages/tqdm/auto.py:22: TqdmWarning: IProgress not found. Please update jupyter and ipywidgets. See https://ipywidgets.readthedocs.io/en/stable/user_install.html\n",
      "  from .autonotebook import tqdm as notebook_tqdm\n"
     ]
    }
   ],
   "source": [
    "import pygod\n",
    "import numpy as np\n",
    "import torch_geometric.transforms as T\n",
    "from torch_geometric.datasets import Planetoid\n",
    "\n",
    "import torch\n",
    "from pygod.generator import gen_contextual_outlier, gen_structural_outlier\n",
    "\n",
    "from pygod.utils import load_data\n",
    "\n",
    "from pygod.metric import eval_roc_auc\n",
    "\n",
    "from pygod.detector import ANOMALOUS"
   ]
  },
  {
   "cell_type": "markdown",
   "id": "9f2f4d5a-f6fd-44b4-888c-6eeb157c38a5",
   "metadata": {},
   "source": [
    "# Tutorial?"
   ]
  },
  {
   "cell_type": "code",
   "execution_count": 2,
   "id": "e47924ac-d491-4ea8-b6dc-72af7a15aa9b",
   "metadata": {},
   "outputs": [],
   "source": [
    "data = Planetoid('./data/Cora', 'Cora', transform=T.NormalizeFeatures())[0]"
   ]
  },
  {
   "cell_type": "markdown",
   "id": "3411fca7-b1c8-42c8-aeb8-95e676d22b4f",
   "metadata": {},
   "source": [
    "`gen_contextual_outlier`의 역할: Generating contextual outliers\n",
    "\n",
    "- 임의로 선택한 노드 중 그 노드들끼리 얼마나 떨어져 있나?"
   ]
  },
  {
   "cell_type": "code",
   "execution_count": 3,
   "id": "772426db-36a2-4dc8-b4fd-9866550e9757",
   "metadata": {},
   "outputs": [],
   "source": [
    "data, ya = gen_contextual_outlier(data, n=100, k=50)"
   ]
  },
  {
   "cell_type": "code",
   "execution_count": 4,
   "id": "21ce5529-cbe8-4654-9aa2-05deee3d5972",
   "metadata": {},
   "outputs": [
    {
     "data": {
      "text/plain": [
       "tensor([0, 0, 0,  ..., 0, 0, 0])"
      ]
     },
     "execution_count": 4,
     "metadata": {},
     "output_type": "execute_result"
    }
   ],
   "source": [
    "ya"
   ]
  },
  {
   "cell_type": "code",
   "execution_count": 5,
   "id": "a6f6a4bd-f556-4abe-9ab9-ffa7e5cc8a8a",
   "metadata": {},
   "outputs": [
    {
     "data": {
      "text/plain": [
       "100"
      ]
     },
     "execution_count": 5,
     "metadata": {},
     "output_type": "execute_result"
    }
   ],
   "source": [
    "len(sum(np.where(ya==1)))"
   ]
  },
  {
   "cell_type": "code",
   "execution_count": 6,
   "id": "ff385719-9da6-402f-bed8-f04a5035dbfe",
   "metadata": {},
   "outputs": [
    {
     "data": {
      "text/plain": [
       "2608"
      ]
     },
     "execution_count": 6,
     "metadata": {},
     "output_type": "execute_result"
    }
   ],
   "source": [
    "len(sum(np.where(ya==0)))"
   ]
  },
  {
   "cell_type": "markdown",
   "id": "bc765d29-1e9b-4a5e-9c79-1bde5ed666a9",
   "metadata": {},
   "source": [
    "`gen_structural_outlier`의 역할: Generating structural outliers\n",
    "\n",
    "- 임의로 선택한 노드들이 fully connected 되어있을때 그 집단과 얼마나 많이 다른가??"
   ]
  },
  {
   "cell_type": "code",
   "execution_count": 7,
   "id": "c66bf49b-abc5-4a09-a778-76813c88b043",
   "metadata": {},
   "outputs": [],
   "source": [
    "data, ys = gen_structural_outlier(data, m=10, n=10)"
   ]
  },
  {
   "cell_type": "code",
   "execution_count": 8,
   "id": "3a333757-2992-4cf5-9c74-4dca85dca60a",
   "metadata": {},
   "outputs": [
    {
     "data": {
      "text/plain": [
       "tensor([0, 0, 0,  ..., 0, 0, 0])"
      ]
     },
     "execution_count": 8,
     "metadata": {},
     "output_type": "execute_result"
    }
   ],
   "source": [
    "ys"
   ]
  },
  {
   "cell_type": "code",
   "execution_count": 9,
   "id": "32e241fd-c4e8-482f-b002-c87b962e7f7f",
   "metadata": {},
   "outputs": [
    {
     "data": {
      "text/plain": [
       "100"
      ]
     },
     "execution_count": 9,
     "metadata": {},
     "output_type": "execute_result"
    }
   ],
   "source": [
    "len(sum(np.where(ys==1)))"
   ]
  },
  {
   "cell_type": "code",
   "execution_count": 10,
   "id": "00db3ead-4f8f-4432-8956-a5f17cd91f8f",
   "metadata": {},
   "outputs": [
    {
     "data": {
      "text/plain": [
       "2608"
      ]
     },
     "execution_count": 10,
     "metadata": {},
     "output_type": "execute_result"
    }
   ],
   "source": [
    "len(sum(np.where(ys==0)))"
   ]
  },
  {
   "cell_type": "markdown",
   "id": "96455143-11e0-43b3-85ec-b83622df88a3",
   "metadata": {},
   "source": [
    "위에서 찾은 이상치 간에 `torch.logical_or` 논리 or 생성"
   ]
  },
  {
   "cell_type": "code",
   "execution_count": 11,
   "id": "93847ada-b960-414b-a15b-6aeaf300e7a3",
   "metadata": {},
   "outputs": [],
   "source": [
    "data.y = torch.logical_or(ys, ya).long()"
   ]
  },
  {
   "cell_type": "code",
   "execution_count": 12,
   "id": "49b21e0b-758e-47b8-a70a-39d4881535d4",
   "metadata": {},
   "outputs": [
    {
     "data": {
      "text/plain": [
       "tensor([0, 0, 0,  ..., 0, 0, 0])"
      ]
     },
     "execution_count": 12,
     "metadata": {},
     "output_type": "execute_result"
    }
   ],
   "source": [
    "data.y"
   ]
  },
  {
   "cell_type": "code",
   "execution_count": 13,
   "id": "2028048d-f0a1-4157-b3c0-5170fcb915e2",
   "metadata": {},
   "outputs": [
    {
     "data": {
      "text/plain": [
       "198"
      ]
     },
     "execution_count": 13,
     "metadata": {},
     "output_type": "execute_result"
    }
   ],
   "source": [
    "len(sum(np.where(data.y==1)))"
   ]
  },
  {
   "cell_type": "code",
   "execution_count": 14,
   "id": "a433b9dc-ff45-4069-97a5-da4baffe4753",
   "metadata": {},
   "outputs": [
    {
     "data": {
      "text/plain": [
       "2510"
      ]
     },
     "execution_count": 14,
     "metadata": {},
     "output_type": "execute_result"
    }
   ],
   "source": [
    "len(sum(np.where(data.y==0)))"
   ]
  },
  {
   "cell_type": "code",
   "execution_count": 15,
   "id": "14b10998-c9af-4b60-be83-ec9397a429b7",
   "metadata": {},
   "outputs": [],
   "source": [
    "data = load_data('inj_cora')\n",
    "data.y = data.y.bool()"
   ]
  },
  {
   "cell_type": "code",
   "execution_count": 16,
   "id": "8949953a-4ad2-4895-bcac-f72858909172",
   "metadata": {},
   "outputs": [
    {
     "data": {
      "text/plain": [
       "tensor([False, False, False,  ..., False, False, False])"
      ]
     },
     "execution_count": 16,
     "metadata": {},
     "output_type": "execute_result"
    }
   ],
   "source": [
    "data.y"
   ]
  },
  {
   "cell_type": "markdown",
   "id": "5ac73498-a61e-4cd1-a7e3-89f028d9269b",
   "metadata": {},
   "source": [
    "`self.bool` 로 참인지 거짓인지 가릴 수 있다.\n",
    "\n",
    "- 여기서는 참이면 이상치인듯"
   ]
  },
  {
   "cell_type": "markdown",
   "id": "aff858b7-9a75-464b-bb7f-c1782b5bdf41",
   "metadata": {},
   "source": [
    "'ANOMALOUS' 함수 사용, 일단 default로 다 지정함!"
   ]
  },
  {
   "cell_type": "code",
   "execution_count": 17,
   "id": "8e8ce7b9-4759-483e-b43c-a8009f7e6434",
   "metadata": {},
   "outputs": [],
   "source": [
    "detector = ANOMALOUS(gamma=1.,\n",
    "                     weight_decay=0.,\n",
    "                     lr=0.004,\n",
    "                     epoch=50,\n",
    "                     gpu=-1,\n",
    "                     contamination=0.1,\n",
    "                     verbose=0)"
   ]
  },
  {
   "cell_type": "code",
   "execution_count": 18,
   "id": "811ba7e3-ca47-40f0-a1ef-4a7d033a656b",
   "metadata": {},
   "outputs": [
    {
     "data": {
      "text/plain": [
       "ANOMALOUS(contamination=0.1, epoch=50, gamma=1.0, gpu=None, lr=0.004,\n",
       "          verbose=0, weight_decay=0.0)"
      ]
     },
     "execution_count": 18,
     "metadata": {},
     "output_type": "execute_result"
    }
   ],
   "source": [
    "detector.fit(data)"
   ]
  },
  {
   "cell_type": "markdown",
   "id": "bd4ab563-459d-4da6-af20-96b8851a0379",
   "metadata": {},
   "source": [
    "```python\n",
    "class ANOMALOUSBase(nn.Module):\n",
    "    def __init__(self, w, r):\n",
    "        super(ANOMALOUSBase, self).__init__()\n",
    "        self.w = nn.Parameter(w)\n",
    "        self.r = nn.Parameter(r)\n",
    "\n",
    "    def forward(self, x):\n",
    "        return x @ self.w @ x, self.r\n",
    "```"
   ]
  },
  {
   "cell_type": "code",
   "execution_count": 19,
   "id": "fb252bf0-8725-46b5-8337-14525ad200a7",
   "metadata": {},
   "outputs": [
    {
     "name": "stderr",
     "output_type": "stream",
     "text": [
      "/home/csy/anaconda3/envs/temp_csy/lib/python3.8/site-packages/pygod/detector/anomalous.py:111: UserWarning: This detector is transductive only. Training from scratch with the input data.\n",
      "  warnings.warn(\"This detector is transductive only. \"\n"
     ]
    },
    {
     "data": {
      "text/plain": [
       "tensor([0.0293, 0.0284, 0.0283,  ..., 0.0304, 0.0295, 0.0287])"
      ]
     },
     "execution_count": 19,
     "metadata": {},
     "output_type": "execute_result"
    }
   ],
   "source": [
    "detector.decision_function(data)"
   ]
  },
  {
   "cell_type": "markdown",
   "id": "a07f0fd7-806e-417d-a7a8-0773099e5b1c",
   "metadata": {},
   "source": [
    "위에서 decision_function의 결과로 나오는 decision_score는 r의 제곱이며, 이 r은 model에서 나온 결과인데 이 model은 ANOMALOUSBase(w_init, r_init)의 결과이다.\n",
    "\n",
    "이 r_init은 ANOMALOUS class 내에 있는 x, s, l, w_init, r_init = self.process_graph(data) 여기서 나온다."
   ]
  },
  {
   "cell_type": "markdown",
   "id": "add33ce2-1cea-466f-a11f-83991cd8a43f",
   "metadata": {},
   "source": [
    "`-` return되는 거는 순서대로 x, s, laplacian, w_init, r_init"
   ]
  },
  {
   "cell_type": "markdown",
   "id": "0777fb71-7fe4-49a5-a691-8804c4b49c4f",
   "metadata": {},
   "source": [
    "`x`"
   ]
  },
  {
   "cell_type": "code",
   "execution_count": 20,
   "id": "6c796e59-d29e-4e02-a6b3-dcefdd3da6c1",
   "metadata": {},
   "outputs": [
    {
     "data": {
      "text/plain": [
       "tensor([[0., 0., 0.,  ..., 0., 0., 0.],\n",
       "        [0., 0., 0.,  ..., 0., 0., 0.],\n",
       "        [0., 0., 0.,  ..., 0., 0., 0.],\n",
       "        ...,\n",
       "        [0., 0., 0.,  ..., 0., 0., 0.],\n",
       "        [0., 0., 0.,  ..., 0., 0., 0.],\n",
       "        [0., 0., 0.,  ..., 0., 0., 0.]])"
      ]
     },
     "execution_count": 20,
     "metadata": {},
     "output_type": "execute_result"
    }
   ],
   "source": [
    "detector.process_graph(data)[0]"
   ]
  },
  {
   "cell_type": "code",
   "execution_count": 21,
   "id": "53882dd2-d59d-4a04-9df9-b5b09c4772d8",
   "metadata": {},
   "outputs": [
    {
     "data": {
      "text/plain": [
       "torch.Size([2708, 1433])"
      ]
     },
     "execution_count": 21,
     "metadata": {},
     "output_type": "execute_result"
    }
   ],
   "source": [
    "detector.process_graph(data)[0].shape"
   ]
  },
  {
   "cell_type": "markdown",
   "id": "eabb91b6-c98e-49ed-bca8-dae722bc1781",
   "metadata": {},
   "source": [
    "$X \\in \\mathbb{R}^{d \\times n}$"
   ]
  },
  {
   "cell_type": "markdown",
   "id": "33f80061-e29e-49d3-97e8-367c1c8d3066",
   "metadata": {},
   "source": [
    "2708 = `n` = the number of nodes\n",
    "\n",
    "1433 = `d` = dimensiotnalattribute"
   ]
  },
  {
   "cell_type": "markdown",
   "id": "31352269-8596-402a-96d4-b819c8cbe4b5",
   "metadata": {},
   "source": [
    "`s`"
   ]
  },
  {
   "cell_type": "code",
   "execution_count": 22,
   "id": "e0042a54-fb0a-4a6a-9c96-23159190582c",
   "metadata": {},
   "outputs": [
    {
     "data": {
      "text/plain": [
       "tensor([[0., 0., 0.,  ..., 0., 0., 0.],\n",
       "        [0., 0., 1.,  ..., 0., 0., 0.],\n",
       "        [0., 1., 0.,  ..., 0., 0., 0.],\n",
       "        ...,\n",
       "        [0., 0., 0.,  ..., 0., 0., 0.],\n",
       "        [0., 0., 0.,  ..., 0., 0., 1.],\n",
       "        [0., 0., 0.,  ..., 0., 1., 0.]])"
      ]
     },
     "execution_count": 22,
     "metadata": {},
     "output_type": "execute_result"
    }
   ],
   "source": [
    "detector.process_graph(data)[1]"
   ]
  },
  {
   "cell_type": "code",
   "execution_count": 23,
   "id": "abcd3863-743a-40b9-9d62-9d054d9b44d9",
   "metadata": {},
   "outputs": [
    {
     "data": {
      "text/plain": [
       "torch.Size([2708, 2708])"
      ]
     },
     "execution_count": 23,
     "metadata": {},
     "output_type": "execute_result"
    }
   ],
   "source": [
    "detector.process_graph(data)[1].shape"
   ]
  },
  {
   "cell_type": "markdown",
   "id": "56eb3a09-cc8b-42a3-9a55-1b69d4ec5c56",
   "metadata": {},
   "source": [
    "$A \\in \\mathbb{R}^{n \\times n}$"
   ]
  },
  {
   "cell_type": "markdown",
   "id": "4e10c9b8-d0be-4fda-91c4-275c09dd8a87",
   "metadata": {},
   "source": [
    "`laplacian`"
   ]
  },
  {
   "cell_type": "code",
   "execution_count": 24,
   "id": "d13496c0-414d-4367-ae28-4f38449afdc2",
   "metadata": {},
   "outputs": [
    {
     "data": {
      "text/plain": [
       "tensor([[ 3.,  0.,  0.,  ...,  0.,  0.,  0.],\n",
       "        [ 0.,  3., -1.,  ...,  0.,  0.,  0.],\n",
       "        [ 0., -1.,  5.,  ...,  0.,  0.,  0.],\n",
       "        ...,\n",
       "        [ 0.,  0.,  0.,  ...,  1.,  0.,  0.],\n",
       "        [ 0.,  0.,  0.,  ...,  0.,  4., -1.],\n",
       "        [ 0.,  0.,  0.,  ...,  0., -1.,  4.]])"
      ]
     },
     "execution_count": 24,
     "metadata": {},
     "output_type": "execute_result"
    }
   ],
   "source": [
    "detector.process_graph(data)[2]"
   ]
  },
  {
   "cell_type": "code",
   "execution_count": 25,
   "id": "efe14b3d-6f0d-4b4e-87b6-19b7cf11e380",
   "metadata": {},
   "outputs": [
    {
     "data": {
      "text/plain": [
       "torch.Size([2708, 2708])"
      ]
     },
     "execution_count": 25,
     "metadata": {},
     "output_type": "execute_result"
    }
   ],
   "source": [
    "detector.process_graph(data)[2].shape"
   ]
  },
  {
   "cell_type": "markdown",
   "id": "83d8ae55-c5fc-47ab-bed3-097f6a0d30a7",
   "metadata": {},
   "source": [
    "`generated Laplacian`"
   ]
  },
  {
   "cell_type": "markdown",
   "id": "c60f0f84-6bbb-4414-869c-b6b12d61295c",
   "metadata": {},
   "source": [
    "$\\tilde{R} L \\tilde{R}^T$"
   ]
  },
  {
   "cell_type": "markdown",
   "id": "26722728-7c61-49db-9480-382379477484",
   "metadata": {},
   "source": [
    "`w_init`"
   ]
  },
  {
   "cell_type": "code",
   "execution_count": 26,
   "id": "78e01971-967f-4ebe-a5fe-89a6475194a0",
   "metadata": {},
   "outputs": [
    {
     "data": {
      "text/plain": [
       "tensor([[ 0.3903, -0.2553, -0.0085,  ...,  0.7819, -0.7382,  0.0120],\n",
       "        [-1.2613, -0.4400, -0.7906,  ...,  0.1958,  0.4114,  0.1222],\n",
       "        [ 0.6895,  0.5003, -1.1589,  ..., -2.6043, -2.4430,  0.1333],\n",
       "        ...,\n",
       "        [ 1.6715, -1.2318,  0.8302,  ..., -0.6394,  0.8524,  0.0301],\n",
       "        [-0.6224, -2.6925,  2.3495,  ..., -0.9175, -1.1552, -0.2169],\n",
       "        [-0.3202,  2.8018, -0.8151,  ...,  1.2948, -0.6545,  0.1930]])"
      ]
     },
     "execution_count": 26,
     "metadata": {},
     "output_type": "execute_result"
    }
   ],
   "source": [
    "detector.process_graph(data)[3]"
   ]
  },
  {
   "cell_type": "code",
   "execution_count": 27,
   "id": "1d4cd42e-5c62-45e5-ab59-f8de6e56e80d",
   "metadata": {},
   "outputs": [
    {
     "data": {
      "text/plain": [
       "torch.Size([1433, 2708])"
      ]
     },
     "execution_count": 27,
     "metadata": {},
     "output_type": "execute_result"
    }
   ],
   "source": [
    "detector.process_graph(data)[3].shape"
   ]
  },
  {
   "cell_type": "markdown",
   "id": "379b85e2-0c6c-4306-a261-20eef0aefbc8",
   "metadata": {},
   "source": [
    "`r_init`"
   ]
  },
  {
   "cell_type": "code",
   "execution_count": 28,
   "id": "a31e1574-e64d-4a59-9c99-2ebccb31c81c",
   "metadata": {},
   "outputs": [
    {
     "data": {
      "text/plain": [
       "tensor([[1.1096e-04, 1.9785e-04, 4.0764e-04,  ..., 1.8104e-05, 6.9121e-03,\n",
       "         1.5390e-04],\n",
       "        [1.8015e-05, 4.5550e-05, 1.5299e-04,  ..., 1.6462e-05, 8.0427e-03,\n",
       "         4.3956e-05],\n",
       "        [3.6342e-05, 1.1395e-04, 3.9942e-04,  ..., 3.5643e-05, 1.8391e-03,\n",
       "         6.1595e-05],\n",
       "        ...,\n",
       "        [5.4851e-05, 1.2452e-04, 5.3171e-04,  ..., 1.6553e-05, 2.3374e-04,\n",
       "         2.9871e-05],\n",
       "        [2.3802e-04, 1.3623e-04, 5.8658e-04,  ..., 2.2358e-05, 1.6297e-04,\n",
       "         4.2289e-04],\n",
       "        [3.6244e-04, 1.9283e-04, 8.4447e-04,  ..., 3.0226e-05, 2.3002e-04,\n",
       "         6.4480e-04]])"
      ]
     },
     "execution_count": 28,
     "metadata": {},
     "output_type": "execute_result"
    }
   ],
   "source": [
    "detector.process_graph(data)[4]"
   ]
  },
  {
   "cell_type": "code",
   "execution_count": 29,
   "id": "cc661c59-43f3-4d70-89e1-a99f02273dd0",
   "metadata": {},
   "outputs": [
    {
     "data": {
      "text/plain": [
       "torch.Size([2708, 1433])"
      ]
     },
     "execution_count": 29,
     "metadata": {},
     "output_type": "execute_result"
    }
   ],
   "source": [
    "detector.process_graph(data)[4].shape"
   ]
  },
  {
   "cell_type": "code",
   "execution_count": null,
   "id": "da8876fe-1f00-48d0-9eca-e468a88094d1",
   "metadata": {},
   "outputs": [],
   "source": []
  }
 ],
 "metadata": {
  "kernelspec": {
   "display_name": "Python 3",
   "language": "python",
   "name": "python3"
  },
  "language_info": {
   "codemirror_mode": {
    "name": "ipython",
    "version": 3
   },
   "file_extension": ".py",
   "mimetype": "text/x-python",
   "name": "python",
   "nbconvert_exporter": "python",
   "pygments_lexer": "ipython3",
   "version": "3.8.0"
  }
 },
 "nbformat": 4,
 "nbformat_minor": 5
}

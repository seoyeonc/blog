{
  "cells": [
    {
      "cell_type": "markdown",
      "metadata": {},
      "source": [
        "# EvolveGCNH_Simulation_reshape\n",
        "\n",
        "SEOYEON CHOI  \n",
        "7/1/23\n",
        "\n",
        "> Simulation Study"
      ],
      "id": "13e1abba-59b4-4e4a-960a-06460df07317"
    },
    {
      "cell_type": "code",
      "execution_count": 93,
      "metadata": {},
      "outputs": [],
      "source": [
        "import itstgcnEvolveGCNH\n",
        "import torch\n",
        "import itstgcnEvolveGCNH.planner \n",
        "import pandas as pd\n",
        "\n",
        "import numpy as np\n",
        "import random"
      ],
      "id": "0bb525ef-0ae3-4af5-8784-68315cfac02b"
    },
    {
      "cell_type": "code",
      "execution_count": 94,
      "metadata": {},
      "outputs": [],
      "source": [
        "from torch_geometric_temporal.dataset import WikiMathsDatasetLoader\n",
        "loader3 = WikiMathsDatasetLoader()"
      ],
      "id": "c2d47572-3248-4c23-8b5b-9e679db20e2b"
    },
    {
      "cell_type": "code",
      "execution_count": 96,
      "metadata": {},
      "outputs": [],
      "source": [
        "plans_stgcn_rand = {\n",
        "    'max_iteration': 5, \n",
        "    'method': ['STGCN', 'IT-STGCN'],\n",
        "    'mrate': [0.5],\n",
        "    'lags': [8], \n",
        "    'nof_filters': [12], \n",
        "    'inter_method': ['linear'],\n",
        "    'epoch': [50]\n",
        "}"
      ],
      "id": "9ce066d5-4539-4418-be16-6bb94bf9dc3a"
    },
    {
      "cell_type": "code",
      "execution_count": null,
      "metadata": {},
      "outputs": [
        {
          "output_type": "stream",
          "name": "stdout",
          "text": [
            "1/5 is done\n",
            "2/5 is done\n",
            "8/500"
          ]
        }
      ],
      "source": [
        "plnr = itstgcnEvolveGCNH.planner.PLNR_STGCN_RAND(plans_stgcn_rand,loader3,dataset_name='wikimath')\n",
        "plnr.simulate()"
      ],
      "id": "e0140a3d-e222-4c64-a208-9cbdc9068c81"
    },
    {
      "cell_type": "code",
      "execution_count": null,
      "metadata": {},
      "outputs": [],
      "source": [
        "plnr = itstgcnEvolveGCNH.planner.PLNR_STGCN_RAND(plans_stgcn_rand,loader3,dataset_name='wikimath')\n",
        "plnr.simulate()"
      ],
      "id": "d484a138-699d-414a-9c9b-dd56f9f0f44c"
    },
    {
      "cell_type": "code",
      "execution_count": null,
      "metadata": {},
      "outputs": [],
      "source": [
        "plnr = itstgcnEvolveGCNH.planner.PLNR_STGCN_RAND(plans_stgcn_rand,loader3,dataset_name='wikimath')\n",
        "plnr.simulate()"
      ],
      "id": "11301b13-cd78-49cb-a83a-ca521aa0e789"
    },
    {
      "cell_type": "code",
      "execution_count": null,
      "metadata": {},
      "outputs": [],
      "source": [
        "plnr = itstgcnEvolveGCNH.planner.PLNR_STGCN_RAND(plans_stgcn_rand,loader3,dataset_name='wikimath')\n",
        "plnr.simulate()"
      ],
      "id": "80400a62-1dc2-4579-92e1-904e55df4733"
    },
    {
      "cell_type": "code",
      "execution_count": null,
      "metadata": {},
      "outputs": [],
      "source": [
        "plnr = itstgcnEvolveGCNH.planner.PLNR_STGCN_RAND(plans_stgcn_rand,loader3,dataset_name='wikimath')\n",
        "plnr.simulate()"
      ],
      "id": "41968a06-da20-4d75-95bc-40326904b93d"
    },
    {
      "cell_type": "code",
      "execution_count": null,
      "metadata": {},
      "outputs": [],
      "source": [
        "plnr = itstgcnEvolveGCNH.planner.PLNR_STGCN_RAND(plans_stgcn_rand,loader3,dataset_name='wikimath')\n",
        "plnr.simulate()"
      ],
      "id": "7386f0eb-4bc5-417c-af23-dfe07b568049"
    },
    {
      "cell_type": "code",
      "execution_count": null,
      "metadata": {},
      "outputs": [],
      "source": [
        "plans_stgcn_rand = {\n",
        "    'max_iteration': 5, \n",
        "    'method': ['STGCN', 'IT-STGCN'],\n",
        "    'mrate': [0.6],\n",
        "    'lags': [8], \n",
        "    'nof_filters': [12], \n",
        "    'inter_method': ['linear'],\n",
        "    'epoch': [50]\n",
        "}"
      ],
      "id": "9e7bf434-cbc3-478c-bd18-adf6a840b8aa"
    },
    {
      "cell_type": "code",
      "execution_count": null,
      "metadata": {},
      "outputs": [],
      "source": [
        "plnr = itstgcnEvolveGCNH.planner.PLNR_STGCN_RAND(plans_stgcn_rand,loader3,dataset_name='wikimath')\n",
        "plnr.simulate()"
      ],
      "id": "1db65758-d4da-48f0-b8c2-5f30a6d1d7f1"
    },
    {
      "cell_type": "code",
      "execution_count": null,
      "metadata": {},
      "outputs": [],
      "source": [
        "plnr = itstgcnEvolveGCNH.planner.PLNR_STGCN_RAND(plans_stgcn_rand,loader3,dataset_name='wikimath')\n",
        "plnr.simulate()"
      ],
      "id": "ab1f6f3f-9ba9-4f48-8464-4091548d888a"
    },
    {
      "cell_type": "code",
      "execution_count": null,
      "metadata": {},
      "outputs": [],
      "source": [
        "plnr = itstgcnEvolveGCNH.planner.PLNR_STGCN_RAND(plans_stgcn_rand,loader3,dataset_name='wikimath')\n",
        "plnr.simulate()"
      ],
      "id": "da30317a-c937-494c-9875-2533df829053"
    },
    {
      "cell_type": "code",
      "execution_count": null,
      "metadata": {},
      "outputs": [],
      "source": [
        "plnr = itstgcnEvolveGCNH.planner.PLNR_STGCN_RAND(plans_stgcn_rand,loader3,dataset_name='wikimath')\n",
        "plnr.simulate()"
      ],
      "id": "e8e5c964-e7a8-4284-8fa9-2279b832a12a"
    },
    {
      "cell_type": "code",
      "execution_count": null,
      "metadata": {},
      "outputs": [],
      "source": [
        "plnr = itstgcnEvolveGCNH.planner.PLNR_STGCN_RAND(plans_stgcn_rand,loader3,dataset_name='wikimath')\n",
        "plnr.simulate()"
      ],
      "id": "c0d1fc92-459f-4799-8d28-e6b51c97e43a"
    },
    {
      "cell_type": "code",
      "execution_count": null,
      "metadata": {},
      "outputs": [],
      "source": [
        "plnr = itstgcnEvolveGCNH.planner.PLNR_STGCN_RAND(plans_stgcn_rand,loader3,dataset_name='wikimath')\n",
        "plnr.simulate()"
      ],
      "id": "b5976354-bae0-4bfe-a0b5-f460bbf1c064"
    },
    {
      "cell_type": "markdown",
      "metadata": {},
      "source": [
        "# Import"
      ],
      "id": "a590da5a-e355-45d5-9c33-063b6feacfc2"
    },
    {
      "cell_type": "code",
      "execution_count": 2,
      "metadata": {},
      "outputs": [],
      "source": [
        "import matplotlib.pyplot as plt\n",
        "import pandas as pd\n",
        "import numpy as np"
      ],
      "id": "dd473c85-0110-4cab-b0d8-3ff33c88fc78"
    },
    {
      "cell_type": "markdown",
      "metadata": {},
      "source": [
        "# Fivenodes"
      ],
      "id": "0e51a4a2-9502-4fcd-b33a-5625c9ddc347"
    },
    {
      "cell_type": "code",
      "execution_count": 32,
      "metadata": {},
      "outputs": [],
      "source": [
        "df1 = pd.read_csv('./simulation_results/2023-07-01_09-36-19.csv')\n",
        "df2 = pd.read_csv('./simulation_results/2023-07-01_09-54-35.csv')\n",
        "df3 = pd.read_csv('./simulation_results/2023-07-01_10-13-37.csv')\n",
        "df4 = pd.read_csv('./simulation_results/2023-07-01_10-32-11.csv')\n",
        "df5 = pd.read_csv('./simulation_results/2023-07-01_10-51-03.csv')\n",
        "df6 = pd.read_csv('./simulation_results/2023-07-01_11-09-55.csv')\n",
        "df7 = pd.read_csv('./simulation_results/2023-07-01_11-27-48.csv')\n",
        "df8 = pd.read_csv('./simulation_results/2023-07-01_11-46-45.csv')"
      ],
      "id": "674aff69-05c3-4cfe-b44c-215c357f8807"
    },
    {
      "cell_type": "code",
      "execution_count": 33,
      "metadata": {},
      "outputs": [],
      "source": [
        "df9 = pd.read_csv('./simulation_results/2023-07-20_00-39-07.csv')\n",
        "df10 = pd.read_csv('./simulation_results/2023-07-20_01-02-29.csv')\n",
        "df11 = pd.read_csv('./simulation_results/2023-07-20_01-25-27.csv')\n",
        "df12 = pd.read_csv('./simulation_results/2023-07-20_01-47-51.csv')\n",
        "df13 = pd.read_csv('./simulation_results/2023-07-20_02-10-50.csv')\n",
        "df14 = pd.read_csv('./simulation_results/2023-07-20_02-33-09.csv')"
      ],
      "id": "2b27d8e4-5afb-47c7-8472-e7d76ae50443"
    },
    {
      "cell_type": "code",
      "execution_count": 34,
      "metadata": {},
      "outputs": [],
      "source": [
        "data = pd.concat([df1,df2,df3,df4,df5,df6,df7,df8,df9,df10,df11,df12,df13,df14],axis=0)"
      ],
      "id": "8d0e3565-d746-447b-80c5-9fea4791ecfe"
    },
    {
      "cell_type": "code",
      "execution_count": 35,
      "metadata": {},
      "outputs": [],
      "source": [
        "data.to_csv('./simulation_results/Real_simulation_reshape/EvolveGCNH_fivedones_Simulation.csv',index=False)"
      ],
      "id": "a5d78853-2377-4c64-8ae9-c206695b274b"
    },
    {
      "cell_type": "code",
      "execution_count": 36,
      "metadata": {},
      "outputs": [],
      "source": [
        "data = pd.read_csv('./simulation_results/Real_simulation_reshape/EvolveGCNH_fivedones_Simulation.csv')"
      ],
      "id": "10007153-1540-4af5-bd5e-150c01446bc5"
    },
    {
      "cell_type": "markdown",
      "metadata": {},
      "source": [
        "## Baseline"
      ],
      "id": "7eed7d88-f8f8-4253-b3fd-b61d0b9d72e3"
    },
    {
      "cell_type": "code",
      "execution_count": 37,
      "metadata": {
        "tags": []
      },
      "outputs": [],
      "source": [
        "data.query(\"method!='GNAR' and mrate==0\").plot.box(backend='plotly',x='mrate',color='method',y='mse',facet_col='lags',facet_row='nof_filters',height=600)\n"
      ],
      "id": "c2356cf7-6b81-4111-8d4c-edb2507bab4d"
    },
    {
      "cell_type": "markdown",
      "metadata": {},
      "source": [
        "## Random"
      ],
      "id": "0cd14b67-8935-4fda-8af9-18e1c91e1b4b"
    },
    {
      "cell_type": "code",
      "execution_count": 38,
      "metadata": {},
      "outputs": [],
      "source": [
        "data.query(\"method!='GNAR' and mtype =='rand'\").plot.box(backend='plotly',x='mrate',color='method',y='mse',facet_col='inter_method',facet_row='nof_filters',height=600)\n",
        "\n"
      ],
      "id": "29243688-8493-491e-a542-566a16675d2d"
    },
    {
      "cell_type": "markdown",
      "metadata": {},
      "source": [
        "## Block"
      ],
      "id": "28735b3c-ba4e-44ce-ad64-107b284e4941"
    },
    {
      "cell_type": "code",
      "execution_count": 39,
      "metadata": {},
      "outputs": [],
      "source": [
        "data.query(\"method!='GNAR' and mtype =='block' \").plot.box(backend='plotly',x='mrate',color='method',y='mse',facet_col='inter_method',facet_row='nof_filters',height=600)\n"
      ],
      "id": "cc57ad8c-babe-4cc0-868c-329cb5348341"
    },
    {
      "cell_type": "markdown",
      "metadata": {},
      "source": [
        "# chickenpox"
      ],
      "id": "e441adc8-1ee6-43ba-b3ec-aa3bca9d89c5"
    },
    {
      "cell_type": "code",
      "execution_count": 48,
      "metadata": {},
      "outputs": [],
      "source": [
        "df1 = pd.read_csv('./simulation_results/2023-07-01_12-47-57.csv') # GNAR random\n",
        "df2 = pd.read_csv('./simulation_results/2023-07-01_13-48-35.csv') # GNAR block\n",
        "df3 = pd.read_csv('./simulation_results/2023-07-01_14-17-12.csv')\n",
        "df4 = pd.read_csv('./simulation_results/2023-07-01_14-46-07.csv') \n",
        "df5 = pd.read_csv('./simulation_results/2023-07-01_15-43-30.csv')\n",
        "df6 = pd.read_csv('./simulation_results/2023-07-01_16-43-22.csv') "
      ],
      "id": "6687074b-d937-4a63-acba-0d829fe4cb94"
    },
    {
      "cell_type": "code",
      "execution_count": 49,
      "metadata": {},
      "outputs": [],
      "source": [
        "df7 = pd.read_csv('./simulation_results/2023-07-20_03-10-09.csv') # GNAR random\n",
        "df8 = pd.read_csv('./simulation_results/2023-07-20_03-46-59.csv') # GNAR block\n",
        "df9 = pd.read_csv('./simulation_results/2023-07-20_04-22-14.csv')\n",
        "df10 = pd.read_csv('./simulation_results/2023-07-20_04-58-38.csv') "
      ],
      "id": "bd2b716c-2bab-4149-b7a8-cb1f7edd0ba3"
    },
    {
      "cell_type": "code",
      "execution_count": 50,
      "metadata": {},
      "outputs": [],
      "source": [
        "data = pd.concat([df1,df2,df3,df4,df5,df6,df7,df8,df9,df10],axis=0)"
      ],
      "id": "42e410fc-3487-4396-8720-164c1ca8ae40"
    },
    {
      "cell_type": "code",
      "execution_count": 51,
      "metadata": {},
      "outputs": [],
      "source": [
        "data.to_csv('./simulation_results/Real_simulation_reshape/EvolveGCNH_chikenpox_Simulation.csv',index=False)"
      ],
      "id": "f78b26d1-0cf0-4e6b-bbd0-6580c5da895b"
    },
    {
      "cell_type": "code",
      "execution_count": 52,
      "metadata": {},
      "outputs": [],
      "source": [
        "data = pd.read_csv('./simulation_results/Real_simulation_reshape/EvolveGCNH_chikenpox_Simulation.csv')"
      ],
      "id": "11efe862-acf5-476f-8025-0244f545f893"
    },
    {
      "cell_type": "markdown",
      "metadata": {},
      "source": [
        "## Baseline"
      ],
      "id": "fd7b5ded-783a-4d5e-9ab7-a2017664a9f6"
    },
    {
      "cell_type": "code",
      "execution_count": 53,
      "metadata": {},
      "outputs": [],
      "source": [
        "data.query(\"method!='GNAR' and mrate ==0 \").plot.box(backend='plotly',x='mrate',color='method',y='mse',facet_col='nof_filters',height=600)\n"
      ],
      "id": "0c0bce6c-3db8-43c6-8dac-e23933bc645f"
    },
    {
      "cell_type": "markdown",
      "metadata": {},
      "source": [
        "## Random"
      ],
      "id": "407eec87-3f7f-42db-9eaa-a7badb931796"
    },
    {
      "cell_type": "code",
      "execution_count": 58,
      "metadata": {},
      "outputs": [],
      "source": [
        "data.query(\"method!='GNAR' and mtype =='rand'\").plot.box(backend='plotly',x='mrate',color='method',y='mse',facet_row='inter_method',height=800)\n"
      ],
      "id": "efae5ff4-ead5-41b3-a61d-f7f25a61237c"
    },
    {
      "cell_type": "markdown",
      "metadata": {},
      "source": [
        "## Block"
      ],
      "id": "19d05f99-22e2-4e2a-80de-36630cfafdc9"
    },
    {
      "cell_type": "code",
      "execution_count": 59,
      "metadata": {},
      "outputs": [],
      "source": [
        "data.query(\"method!='GNAR' and mtype =='block'\").plot.box(backend='plotly',x='mrate',color='method',y='mse',facet_col='inter_method',facet_row='lags',height=800)\n"
      ],
      "id": "fdc8245d-745c-47ce-b589-a43b0d42ee10"
    },
    {
      "cell_type": "markdown",
      "metadata": {},
      "source": [
        "# Pedalme"
      ],
      "id": "aa8c34d4-495f-47d2-8a97-edff198bcdd7"
    },
    {
      "cell_type": "code",
      "execution_count": 60,
      "metadata": {},
      "outputs": [],
      "source": [
        "df1 = pd.read_csv('./simulation_results/2023-07-01_17-09-48.csv') \n",
        "df2 = pd.read_csv('./simulation_results/2023-07-01_17-03-22.csv')  "
      ],
      "id": "d8085c94-b6e0-435f-9d5d-2e16249e9ce5"
    },
    {
      "cell_type": "code",
      "execution_count": 61,
      "metadata": {},
      "outputs": [],
      "source": [
        "df3 = pd.read_csv('./simulation_results/2023-07-20_05-13-15.csv') "
      ],
      "id": "de81c3bb-754c-47f6-9704-942e2d54da8e"
    },
    {
      "cell_type": "code",
      "execution_count": 62,
      "metadata": {},
      "outputs": [],
      "source": [
        "data = pd.concat([df1,df2,df3],axis=0)"
      ],
      "id": "9c069f77-dd23-4cae-91b4-7ba27fec185f"
    },
    {
      "cell_type": "code",
      "execution_count": 63,
      "metadata": {},
      "outputs": [],
      "source": [
        "data.to_csv('./simulation_results/Real_simulation_reshape/EvolveGCNH_pedalme_Simulation.csv',index=False)"
      ],
      "id": "778d43c7-5e08-42fa-bfe4-7c2c2eb8cbc0"
    },
    {
      "cell_type": "code",
      "execution_count": 64,
      "metadata": {},
      "outputs": [],
      "source": [
        "data = pd.read_csv('./simulation_results/Real_simulation_reshape/EvolveGCNH_pedalme_Simulation.csv')"
      ],
      "id": "cd64d1e4-823e-47c5-ad00-4bcc009abbf5"
    },
    {
      "cell_type": "markdown",
      "metadata": {},
      "source": [
        "## Baseline"
      ],
      "id": "59536af3-bb20-4348-a717-c59622a39910"
    },
    {
      "cell_type": "code",
      "execution_count": 65,
      "metadata": {},
      "outputs": [],
      "source": [
        "data.query(\"mrate ==0 and lags!=2\").plot.box(backend='plotly',x='epoch',color='method',y='mse',facet_col='nof_filters',facet_row='lags',height=400)\n"
      ],
      "id": "caf470dc-2dd4-4ec0-bb38-7dcc4dea50bd"
    },
    {
      "cell_type": "markdown",
      "metadata": {},
      "source": [
        "## random"
      ],
      "id": "23a07d3a-8d72-4d2e-9225-1b36944b43a4"
    },
    {
      "cell_type": "code",
      "execution_count": 68,
      "metadata": {},
      "outputs": [],
      "source": [
        "data.query(\"method!='GNAR' and mtype =='rand' and lags!=2\").plot.box(backend='plotly',x='mrate',color='method',y='mse',facet_row='inter_method',height=800)\n"
      ],
      "id": "0ccb2551-e172-4329-bbdc-9039f2f4829e"
    },
    {
      "cell_type": "markdown",
      "metadata": {},
      "source": [
        "## block"
      ],
      "id": "bb00ed75-d780-4654-adfe-7fae48745e1d"
    },
    {
      "cell_type": "code",
      "execution_count": 69,
      "metadata": {},
      "outputs": [],
      "source": [
        "data.query(\"method!='GNAR' and mtype =='block' and lags!=2 \").plot.box(backend='plotly',x='mrate',color='method',y='mse',facet_col='nof_filters',facet_row='inter_method',height=800)\n"
      ],
      "id": "2ee4ad71-7bca-42b9-b7a0-236af13e6077"
    },
    {
      "cell_type": "markdown",
      "metadata": {},
      "source": [
        "## weight matrix time, node 고려한 결과"
      ],
      "id": "7da09010-e2e2-47dc-b7f3-6da1626f7770"
    },
    {
      "cell_type": "code",
      "execution_count": 79,
      "metadata": {},
      "outputs": [],
      "source": [
        "df1 = pd.read_csv('./simulation_results/2023-07-02_07-01-12.csv')\n",
        "df2 = pd.read_csv('./simulation_results/2023-07-02_07-19-21.csv')"
      ],
      "id": "c530d82c-f872-47b0-9af5-51a84ac3443f"
    },
    {
      "cell_type": "code",
      "execution_count": 80,
      "metadata": {},
      "outputs": [],
      "source": [
        "data2 = pd.concat([df1,df2],axis=0)"
      ],
      "id": "a024df4f-863e-4bc6-9370-b23020d0c771"
    },
    {
      "cell_type": "code",
      "execution_count": 81,
      "metadata": {},
      "outputs": [],
      "source": [
        "data2.to_csv('./simulation_results/Real_simulation_reshape/EvolveGCNH_pedalme_Simulation_itstgcnsnd.csv',index=False)"
      ],
      "id": "9fe06338-f9e2-4316-8d22-43e6db65ecf4"
    },
    {
      "cell_type": "code",
      "execution_count": 82,
      "metadata": {},
      "outputs": [],
      "source": [
        "data2 = pd.read_csv('./simulation_results/Real_simulation_reshape/EvolveGCNH_pedalme_Simulation_itstgcnsnd.csv')"
      ],
      "id": "6783ec6a-7209-467a-919a-bf95b40d594c"
    },
    {
      "cell_type": "code",
      "execution_count": 83,
      "metadata": {},
      "outputs": [],
      "source": [
        "data2.query(\"mtype=='rand'\").plot.box(backend='plotly',x='mrate',color='method',y='mse',facet_col='inter_method',facet_row='nof_filters',height=1000)"
      ],
      "id": "8fecfc00-62ba-430f-bc49-4bedc9b37344"
    },
    {
      "cell_type": "code",
      "execution_count": 84,
      "metadata": {},
      "outputs": [],
      "source": [
        "data2.query(\"mtype=='block'\").plot.box(backend='plotly',x='mrate',color='method',y='mse',facet_col='inter_method',facet_row='nof_filters',height=1000)"
      ],
      "id": "c0c774fb-efe5-491c-8e60-71f0009db558"
    },
    {
      "cell_type": "markdown",
      "metadata": {},
      "source": [
        "# Wikimath"
      ],
      "id": "bb51e0dd-2425-4743-bbda-5848b4e744af"
    },
    {
      "cell_type": "code",
      "execution_count": 118,
      "metadata": {},
      "outputs": [],
      "source": [
        "df1 = pd.read_csv('./simulation_results/2023-07-02_03-31-06.csv')\n",
        "df2 = pd.read_csv('./simulation_results/2023-07-02_06-13-56.csv')\n",
        "df3 = pd.read_csv('./simulation_results/2023-07-02_09-31-51.csv')\n",
        "df4 = pd.read_csv('./simulation_results/2023-07-02_14-14-23.csv')\n",
        "df5 = pd.read_csv('./simulation_results/2023-07-02_18-46-53.csv')\n",
        "df6 = pd.read_csv('./simulation_results/2023-07-02_21-31-18.csv')\n",
        "df7 = pd.read_csv('./simulation_results/2023-07-03_00-09-30.csv')\n",
        "df8 = pd.read_csv('./simulation_results/2023-07-03_02-53-00.csv')\n",
        "df9 = pd.read_csv('./simulation_results/2023-07-03_05-33-07.csv') # block\n",
        "df10 = pd.read_csv('./simulation_results/2023-07-03_05-33-07.csv') # block\n",
        "df11 = pd.read_csv('./simulation_results/2023-07-03_10-59-17.csv') # block"
      ],
      "id": "5839c187-b890-4ffc-ab51-98e0dbb0d794"
    },
    {
      "cell_type": "code",
      "execution_count": 119,
      "metadata": {},
      "outputs": [],
      "source": [
        "df12 = pd.read_csv('./simulation_results/2023-08-07_18-04-46.csv')\n",
        "df13 = pd.read_csv('./simulation_results/2023-08-07_21-44-30.csv')\n",
        "df14 = pd.read_csv('./simulation_results/2023-08-07_23-51-44.csv')\n",
        "df15 = pd.read_csv('./simulation_results/2023-08-08_01-52-40.csv')\n",
        "df16 = pd.read_csv('./simulation_results/2023-08-08_03-44-44.csv')\n",
        "df17 = pd.read_csv('./simulation_results/2023-08-08_05-36-09.csv')\n",
        "df18 = pd.read_csv('./simulation_results/2023-08-08_07-39-50.csv')\n",
        "df19 = pd.read_csv('./simulation_results/2023-08-08_09-29-29.csv')\n",
        "df20 = pd.read_csv('./simulation_results/2023-08-08_11-16-26.csv') # block\n",
        "df21 = pd.read_csv('./simulation_results/2023-08-08_13-06-23.csv') # block\n",
        "df22 = pd.read_csv('./simulation_results/2023-08-08_14-57-34.csv') # block\n",
        "df23 = pd.read_csv('./simulation_results/2023-08-08_16-55-16.csv') # block"
      ],
      "id": "65db3c62-159a-47bc-9899-af494d74abb0"
    },
    {
      "cell_type": "code",
      "execution_count": 120,
      "metadata": {},
      "outputs": [],
      "source": [
        "data = pd.concat([df1,df2,df3,df4,df5,df6,df7,df8,df9,df10,df11,df12,df13,df14,df15,df16,df17,df18,df19,df20,df21,df22,df23],axis=0)"
      ],
      "id": "7cd05e43-943b-404b-8dad-18be846dfbc0"
    },
    {
      "cell_type": "code",
      "execution_count": 121,
      "metadata": {},
      "outputs": [],
      "source": [
        "data.to_csv('./simulation_results/Real_simulation_reshape/EvolveGCNH_wikimath.csv',index=False)"
      ],
      "id": "0eb31717-ac29-4cfb-8354-f8eb6b70a9d2"
    },
    {
      "cell_type": "code",
      "execution_count": 122,
      "metadata": {},
      "outputs": [],
      "source": [
        "data = pd.read_csv('./simulation_results/Real_simulation_reshape/EvolveGCNH_wikimath.csv')"
      ],
      "id": "7e1ef959-f024-4667-82b2-9f3f62919503"
    },
    {
      "cell_type": "markdown",
      "metadata": {},
      "source": [
        "## Baseline"
      ],
      "id": "0dec8897-7b18-4710-90d3-5fc41e3eb96f"
    },
    {
      "cell_type": "code",
      "execution_count": 123,
      "metadata": {},
      "outputs": [],
      "source": [
        "data.query(\"mrate==0 and method!='GNAR'\").plot.box(backend='plotly',x='mrate',color='method',y='mse',height=600)"
      ],
      "id": "810598a0-f01e-4016-bbbf-3126f6653d5b"
    },
    {
      "cell_type": "markdown",
      "metadata": {},
      "source": [
        "## random"
      ],
      "id": "3054d6ec-2c41-4128-962c-19368ac6376c"
    },
    {
      "cell_type": "code",
      "execution_count": 124,
      "metadata": {},
      "outputs": [],
      "source": [
        "data.query(\"mtype=='rand' and mrate !=0 and method!='GNAR'\").plot.box(backend='plotly',x='mrate',color='method',y='mse',facet_col='lags',facet_row='nof_filters',height=800)\n"
      ],
      "id": "29f3c4fd-0d14-4e7c-8380-746b6f48ccb4"
    },
    {
      "cell_type": "markdown",
      "metadata": {},
      "source": [
        "## block"
      ],
      "id": "fcabf1a8-aa76-4eb9-8f04-913c34076648"
    },
    {
      "cell_type": "code",
      "execution_count": 125,
      "metadata": {},
      "outputs": [],
      "source": [
        "data.query(\"mtype=='block' and method!='GNAR'\").plot.box(backend='plotly',x='mrate',color='method',y='mse',facet_col='lags',facet_row='nof_filters',height=1200)\n"
      ],
      "id": "26569b9a-b6b4-4534-9a24-543a38a9089d"
    },
    {
      "cell_type": "markdown",
      "metadata": {},
      "source": [
        "## missing values on the same nodes"
      ],
      "id": "6f181c9e-fd49-4c9b-ade9-b022ef320778"
    },
    {
      "cell_type": "code",
      "execution_count": 169,
      "metadata": {
        "tags": []
      },
      "outputs": [],
      "source": [
        "df1 = pd.read_csv('./simulation_results/2023-07-03_13-39-23.csv') # STGCN IT-STGCN block\n",
        "df2 = pd.read_csv('./simulation_results/2023-07-03_16-17-40.csv') # STGCN IT-STGCN\n",
        "df3 = pd.read_csv('./simulation_results/2023-07-03_19-00-05.csv') "
      ],
      "id": "092a7455-48f2-4586-84a9-f75155238b12"
    },
    {
      "cell_type": "code",
      "execution_count": 170,
      "metadata": {},
      "outputs": [],
      "source": [
        "data = pd.concat([df1,df2,df3],axis=0)"
      ],
      "id": "d088022d-8631-487b-9d64-8dabb671c644"
    },
    {
      "cell_type": "code",
      "execution_count": 171,
      "metadata": {},
      "outputs": [],
      "source": [
        "data.to_csv('./simulation_results/Real_simulation_reshape/EvolveGCNH_wikimath_GSO_st.csv',index=False)"
      ],
      "id": "d6e38519-6247-42a7-bf57-50ec41540348"
    },
    {
      "cell_type": "code",
      "execution_count": 172,
      "metadata": {},
      "outputs": [],
      "source": [
        "data = pd.read_csv('./simulation_results/Real_simulation_reshape/EvolveGCNH_wikimath_GSO_st.csv')"
      ],
      "id": "db086b7e-e5dd-48d3-b3ca-3e4a6675fec7"
    },
    {
      "cell_type": "code",
      "execution_count": 173,
      "metadata": {},
      "outputs": [],
      "source": [
        "data.query(\"method!='GNAR' and mtype =='block' \").plot.box(backend='plotly',x='mrate',color='method',y='mse',facet_col='inter_method',facet_row='lags',height=800)\n"
      ],
      "id": "92ab8e17-a89d-471c-9dc6-ad1db9fa5510"
    },
    {
      "cell_type": "markdown",
      "metadata": {},
      "source": [
        "# Windmilsmall"
      ],
      "id": "5973334b-7e3c-43f3-8b83-4bbb158b4c34"
    },
    {
      "cell_type": "code",
      "execution_count": null,
      "metadata": {},
      "outputs": [],
      "source": [
        "# df1 = pd.read_csv('./simulation_results/2023-05-27_03-20-28.csv') # STGCN IT-STGCN 70%\n",
        "# df2 = pd.read_csv('./simulation_results/2023-05-27_11-15-19.csv') # STGCN IT-STGCN\n",
        "# df3 = pd.read_csv('./simulation_results/2023-05-27_21-50-00.csv') # STGCN IT-STGCN\n",
        "# df4 = pd.read_csv('./simulation_results/2023-05-28_07-53-57.csv') # STGCN IT-STGCN\n",
        "# df5 = pd.read_csv('./simulation_results/2023-05-28_15-11-36.csv') # STGCN IT-STGCN\n",
        "# df6 = pd.read_csv('./simulation_results/2023-05-28_19-57-23.csv') # GNAR 30%, 50%, 70% # 뭔가 일단 필요없어서 데이터셋에서 뺌\n",
        "# df7 = pd.read_csv('./simulation_results/2023-05-29_01-36-37.csv') # STGCN IT-STGCN\n",
        "# df8 = pd.read_csv('./simulation_results/2023-05-29_05-55-43.csv') # STGCN IT-STGCN\n",
        "# df9 = pd.read_csv('./simulation_results/2023-05-29_11-00-42.csv') # STGCN IT-STGCN\n",
        "# df10 = pd.read_csv('./simulation_results/2023-05-29_15-58-56.csv') # STGCN IT-STGCN\n",
        "# df11 = pd.read_csv('./simulation_results/2023-05-29_21-01-58.csv') # STGCN IT-STGCN\n",
        "# df12 = pd.read_csv('./simulation_results/2023-05-30_02-08-43.csv') # STGCN IT-STGCN\n",
        "# df13 = pd.read_csv('./simulation_results/2023-05-30_06-27-00.csv') # STGCN IT-STGCN\n",
        "# df14 = pd.read_csv('./simulation_results/2023-05-30_11-59-01.csv') # STGCN IT-STGCN\n",
        "# df15 = pd.read_csv('./simulation_results/2023-05-30_15-59-12.csv') # STGCN IT-STGCN\n",
        "# df16 = pd.read_csv('./simulation_results/2023-04-20_00-46-43.csv') # STGCN IT-STGCN\n",
        "# df17 = pd.read_csv('./simulation_results/2023-04-20_06-51-34.csv') # STGCN IT-STGCN\n",
        "# df18 = pd.read_csv('./simulation_results/2023-04-20_08-30-27.csv') # STGCN IT-STGCN\n",
        "# df19 = pd.read_csv('./simulation_results/2023-04-20_14-28-35.csv') # STGCN IT-STGCN\n",
        "# df20 = pd.read_csv('./simulation_results/2023-04-20_16-08-39.csv') # STGCN IT-STGCN\n",
        "# df21 = pd.read_csv('./simulation_results/2023-04-20_22-09-37.csv') # STGCN IT-STGCN\n",
        "# df22 = pd.read_csv('./simulation_results/2023-04-20_23-48-26.csv') # STGCN IT-STGCN\n",
        "# df23 = pd.read_csv('./simulation_results/2023-04-21_05-36-47.csv') # STGCN IT-STGCN\n",
        "# df24 = pd.read_csv('./simulation_results/2023-04-21_15-26-00.csv') # STGCN IT-STGCN\n",
        "# df25 = pd.read_csv('./simulation_results/2023-04-21_23-27-11.csv') # STGCN IT-STGCN\n",
        "# df26 = pd.read_csv('./simulation_results/2023-04-22_07-46-08.csv') # STGCN IT-STGCN\n",
        "# df27 = pd.read_csv('./simulation_results/2023-04-22_15-45-20.csv') # STGCN IT-STGCN\n",
        "# df28 = pd.read_csv('./simulation_results/2023-04-22_22-57-31.csv') # STGCN IT-STGCN\n",
        "# df29 = pd.read_csv('./simulation_results/2023-04-23_07-00-15.csv') # STGCN IT-STGCN\n",
        "# df30 = pd.read_csv('./simulation_results/2023-04-23_15-18-02.csv') # STGCN IT-STGCN\n",
        "# df31 = pd.read_csv('./simulation_results/2023-04-23_15-22-36.csv') # GNAR 70%\n",
        "# # baseline\n",
        "# df32 = pd.read_csv('./simulation_results/2023-04-29_06-54-40.csv') # GNAR \n",
        "# df33 = pd.read_csv('./simulation_results/2023-04-30_18-55-12.csv')\n",
        "# df34 = pd.read_csv('./simulation_results/2023-05-01_02-55-33.csv')\n",
        "# df35 = pd.read_csv('./simulation_results/2023-05-01_10-21-15.csv')\n",
        "# df36 = pd.read_csv('./simulation_results/2023-05-01_19-23-57.csv')\n",
        "# df37 = pd.read_csv('./simulation_results/2023-05-02_01-10-53.csv')\n",
        "# df38 = pd.read_csv('./simulation_results/2023-05-02_08-26-53.csv')\n",
        "# df39 = pd.read_csv('./simulation_results/2023-05-02_16-00-40.csv')\n",
        "# df40 = pd.read_csv('./simulation_results/2023-05-03_00-34-09.csv')\n",
        "# df41 = pd.read_csv('./simulation_results/2023-05-03_08-04-42.csv')\n",
        "# df42 = pd.read_csv('./simulation_results/2023-05-03_15-50-50.csv')\n",
        "# df43 = pd.read_csv('./simulation_results/2023-05-03_23-46-56.csv')\n",
        "# df44 = pd.read_csv('./simulation_results/2023-05-04_05-22-59.csv')\n",
        "# df45 = pd.read_csv('./simulation_results/2023-05-04_09-22-37.csv')\n",
        "# df46 = pd.read_csv('./simulation_results/2023-05-04_15-00-57.csv')\n",
        "# df47 = pd.read_csv('./simulation_results/2023-05-04_23-41-21.csv')\n",
        "# df48 = pd.read_csv('./simulation_results/2023-05-05_07-23-04.csv')\n",
        "# df49 = pd.read_csv('./simulation_results/2023-05-05_15-03-17.csv')\n",
        "# df50 = pd.read_csv('./simulation_results/2023-05-06_05-18-07.csv')\n",
        "# df51 = pd.read_csv('./simulation_results/2023-05-06_12-57-14.csv')\n",
        "# df52 = pd.read_csv('./simulation_results/2023-05-06_19-10-23.csv')\n",
        "# df53 = pd.read_csv('./simulation_results/2023-05-07_03-20-10.csv')\n",
        "# df54 = pd.read_csv('./simulation_results/2023-05-07_11-26-24.csv')\n",
        "# df55 = pd.read_csv('./simulation_results/2023-05-08_00-04-56.csv')\n",
        "# df56 = pd.read_csv('./simulation_results/2023-05-08_04-27-01.csv')\n",
        "# df57 = pd.read_csv('./simulation_results/2023-05-08_10-06-55.csv')\n",
        "# df58 = pd.read_csv('./simulation_results/2023-05-08_17-50-36.csv')\n",
        "# df59 = pd.read_csv('./simulation_results/2023-05-09_03-28-08.csv')\n",
        "# df60 = pd.read_csv('./simulation_results/2023-05-09_11-08-10.csv')\n",
        "# df61 = pd.read_csv('./simulation_results/2023-05-09_20-11-45.csv')"
      ],
      "id": "3e5496ad-6003-4551-b23a-78931d10b12b"
    },
    {
      "cell_type": "code",
      "execution_count": null,
      "metadata": {},
      "outputs": [],
      "source": [
        "data = pd.concat([df1],axis=0)"
      ],
      "id": "50e2370a-8ff1-4f00-b8dc-975be539a699"
    },
    {
      "cell_type": "code",
      "execution_count": null,
      "metadata": {},
      "outputs": [],
      "source": [
        "data.to_csv('./simulation_results/Real_simulation_reshape/EvolveGCNH_windmillsmall.csv',index=False)"
      ],
      "id": "84adb4e7-c25a-4db1-b882-38717ab371a0"
    },
    {
      "cell_type": "code",
      "execution_count": null,
      "metadata": {},
      "outputs": [],
      "source": [
        "data = pd.read_csv('./simulation_results/Real_simulation_reshape/EvolveGCNH_windmillsmall.csv')"
      ],
      "id": "cba65d5d-7dff-43e5-984d-90e6203ace45"
    },
    {
      "cell_type": "markdown",
      "metadata": {},
      "source": [
        "## Baseline"
      ],
      "id": "c2fb6130-5141-4f50-947a-9ef3ac0b0dae"
    },
    {
      "cell_type": "code",
      "execution_count": null,
      "metadata": {},
      "outputs": [],
      "source": [
        "data.query(\"method!='GNAR' and mrate ==0 \").plot.box(backend='plotly',x='mrate',color='method',y='mse',facet_col='lags',height=800)\n"
      ],
      "id": "71b8a9ba-8c97-482f-a1b4-fe334cae113d"
    },
    {
      "cell_type": "markdown",
      "metadata": {},
      "source": [
        "## random"
      ],
      "id": "b37406ca-1d9a-49ab-84db-70f18ac2f9a9"
    },
    {
      "cell_type": "code",
      "execution_count": null,
      "metadata": {},
      "outputs": [],
      "source": [
        "data.query(\"method!='GNAR' and mtype =='rand' \").plot.box(backend='plotly',x='mrate',color='method',y='mse',facet_col='lags',facet_row='inter_method',height=800)\n"
      ],
      "id": "bdbc8073-2313-4cde-84ce-4e825300738d"
    },
    {
      "cell_type": "markdown",
      "metadata": {},
      "source": [
        "## block"
      ],
      "id": "590b8cfd-5f0f-40e0-854a-d22290978ed4"
    },
    {
      "cell_type": "code",
      "execution_count": null,
      "metadata": {},
      "outputs": [],
      "source": [
        "data.query(\"method!='GNAR' and mtype =='block' \").plot.box(backend='plotly',x='mrate',color='method',y='mse',facet_col='lags',facet_row='inter_method',height=800)\n"
      ],
      "id": "890b85b0-3a92-4bef-9bd0-e32e6f97642e"
    },
    {
      "cell_type": "markdown",
      "metadata": {},
      "source": [
        "# Montevideobus"
      ],
      "id": "02d32473-31e1-4df0-bdb6-c31cd6601570"
    },
    {
      "cell_type": "code",
      "execution_count": 84,
      "metadata": {},
      "outputs": [],
      "source": [
        "df1 = pd.read_csv('./simulation_results/2023-07-01_18-46-28.csv') # lags 8\n",
        "df2 = pd.read_csv('./simulation_results/2023-07-01_20-21-33.csv') # lags 8\n",
        "df3 = pd.read_csv('./simulation_results/2023-07-01_21-54-40.csv') # lags 8\n",
        "df4 = pd.read_csv('./simulation_results/2023-07-01_23-23-55.csv') # lags 8\n",
        "df5 = pd.read_csv('./simulation_results/2023-07-02_02-26-37.csv') # lags 8\n",
        "df6 = pd.read_csv('./simulation_results/2023-07-02_00-53-47.csv') # lags 8\n",
        "\n",
        "df7 = pd.read_csv('./simulation_results/2023-07-02_09-46-49.csv') # lags 8\n",
        "df8 = pd.read_csv('./simulation_results/2023-07-02_11-18-51.csv') # lags 8\n",
        "df9 = pd.read_csv('./simulation_results/2023-07-02_12-46-16.csv') # lags 8\n",
        "df10 = pd.read_csv('./simulation_results/2023-07-02_14-20-34.csv') # lags 8\n",
        "df11 = pd.read_csv('./simulation_results/2023-07-02_15-52-23.csv') # lags 8\n",
        "df12 = pd.read_csv('./simulation_results/2023-07-02_17-21-46.csv') # lags 8"
      ],
      "id": "68166434-9f75-4906-bf78-e05cf125d8c0"
    },
    {
      "cell_type": "code",
      "execution_count": 85,
      "metadata": {},
      "outputs": [],
      "source": [
        "df13 = pd.read_csv('./simulation_results/2023-07-27_08-19-01.csv') # lags 8\n",
        "df14 = pd.read_csv('./simulation_results/2023-07-27_09-39-49.csv') # lags 8\n",
        "df15 = pd.read_csv('./simulation_results/2023-07-27_10-45-40.csv') # lags 8\n",
        "df16 = pd.read_csv('./simulation_results/2023-07-27_11-50-23.csv') # lags 8\n",
        "df17 = pd.read_csv('./simulation_results/2023-07-27_12-59-27.csv') # lags 8\n",
        "df18 = pd.read_csv('./simulation_results/2023-07-27_14-09-43.csv') # lags 8\n",
        "df19 = pd.read_csv('./simulation_results/2023-07-27_15-18-30.csv') # lags 8\n",
        "df20 = pd.read_csv('./simulation_results/2023-07-27_16-21-30.csv') # lags 8\n",
        "df21 = pd.read_csv('./simulation_results/2023-07-27_17-30-16.csv') # lags 8"
      ],
      "id": "07a03b29-a399-4e98-8164-a6e745d8e659"
    },
    {
      "cell_type": "code",
      "execution_count": 87,
      "metadata": {},
      "outputs": [],
      "source": [
        "data = pd.concat([df1,df2,df3,df4,df5,df6,df7,df8,df9,df10,df11,df12,df13,df14,df15,df16,df17,df18,df19,df20,df21],axis=0)"
      ],
      "id": "767236cf-cfad-4f6b-9558-9c419fe46faf"
    },
    {
      "cell_type": "code",
      "execution_count": 88,
      "metadata": {},
      "outputs": [],
      "source": [
        "data.to_csv('./simulation_results/Real_simulation_reshape/EvolveGCNH_monte.csv',index=False)"
      ],
      "id": "9028eccf-81dc-42dc-b3e5-f8f8094d89f1"
    },
    {
      "cell_type": "code",
      "execution_count": 89,
      "metadata": {},
      "outputs": [],
      "source": [
        "data = pd.read_csv('./simulation_results/Real_simulation_reshape/EvolveGCNH_monte.csv')"
      ],
      "id": "a3bfdb99-65f6-4534-b278-ed45fd5530cd"
    },
    {
      "cell_type": "markdown",
      "metadata": {},
      "source": [
        "## Baseline"
      ],
      "id": "0e3d7ffd-5276-42fb-a33e-c09d627d2564"
    },
    {
      "cell_type": "code",
      "execution_count": 90,
      "metadata": {},
      "outputs": [],
      "source": [
        "data.query(\"mrate==0 and method!='GNAR'\").plot.box(backend='plotly',x='mrate',color='method',y='mse',facet_col='lags',facet_row='nof_filters',height=600)"
      ],
      "id": "86f350c4-e485-42db-b651-e0ed0dbbbf02"
    },
    {
      "cell_type": "markdown",
      "metadata": {},
      "source": [
        "## random"
      ],
      "id": "1578bd0d-25f7-4181-82ab-490d22e9ca5d"
    },
    {
      "cell_type": "code",
      "execution_count": 91,
      "metadata": {},
      "outputs": [],
      "source": [
        "data.query(\"mtype=='rand' and mrate !=0 and method!='GNAR'\").plot.box(backend='plotly',x='mrate',color='method',y='mse',facet_col='lags',facet_row='inter_method',height=800)\n"
      ],
      "id": "6a581c4c-b42f-4a66-81c8-d86f8fffede9"
    },
    {
      "cell_type": "markdown",
      "metadata": {},
      "source": [
        "## block"
      ],
      "id": "b1ed59d1-7933-4b60-b439-c4ec0bd37c30"
    },
    {
      "cell_type": "code",
      "execution_count": 92,
      "metadata": {},
      "outputs": [],
      "source": [
        "data.query(\"mtype=='block' and method!='GNAR'\").plot.box(backend='plotly',x='mrate',color='method',y='mse',facet_col='lags',facet_row='nof_filters',height=1200)\n"
      ],
      "id": "c843315c-f173-4b70-b207-7e45334dd2c5"
    }
  ],
  "nbformat": 4,
  "nbformat_minor": 5,
  "metadata": {
    "kernelspec": {
      "name": "python3",
      "display_name": "Python 3",
      "language": "python"
    },
    "language_info": {
      "name": "python",
      "codemirror_mode": {
        "name": "ipython",
        "version": "3"
      },
      "file_extension": ".py",
      "mimetype": "text/x-python",
      "nbconvert_exporter": "python",
      "pygments_lexer": "ipython3",
      "version": "3.8.0"
    }
  }
}
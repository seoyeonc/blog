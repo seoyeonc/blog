{
  "cells": [
    {
      "cell_type": "markdown",
      "metadata": {},
      "source": [
        "# RESEARCHES\n",
        "\n",
        "SEOYEON CHOI  \n",
        "2023-07-05\n",
        "\n",
        "About RESEARCHES"
      ],
      "id": "30e9a194-57e8-4586-ac10-4a7d115c3c45"
    }
  ],
  "nbformat": 4,
  "nbformat_minor": 5,
  "metadata": {
    "kernelspec": {
      "display_name": "Python 3",
      "language": "python",
      "name": "python3"
    }
  }
}
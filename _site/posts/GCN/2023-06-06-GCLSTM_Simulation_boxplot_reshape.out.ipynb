{
  "cells": [
    {
      "cell_type": "markdown",
      "metadata": {},
      "source": [
        "# GCLSTM_Simulation_reshape\n",
        "\n",
        "SEOYEON CHOI  \n",
        "2023-06-06\n",
        "\n",
        "> Simulation Study\n",
        "\n",
        "# Import"
      ],
      "id": "46b7c241-12c1-4fd7-b5aa-51622031817b"
    },
    {
      "cell_type": "code",
      "execution_count": 2,
      "metadata": {},
      "outputs": [],
      "source": [
        "import matplotlib.pyplot as plt\n",
        "import pandas as pd\n",
        "import numpy as np"
      ],
      "id": "97cfaa6d-11ad-460b-874c-01c8e2c14e70"
    },
    {
      "cell_type": "markdown",
      "metadata": {},
      "source": [
        "# Fivenodes"
      ],
      "id": "d7980527-9fe1-442a-a5f8-260984e0a710"
    },
    {
      "cell_type": "code",
      "execution_count": 150,
      "metadata": {},
      "outputs": [],
      "source": [
        "df1 = pd.read_csv('./simulation_results/2023-06-13_07-17-07.csv')\n",
        "df2 = pd.read_csv('./simulation_results/2023-06-13_07-44-52.csv')\n",
        "df3 = pd.read_csv('./simulation_results/2023-06-13_08-12-37.csv')\n",
        "df4 = pd.read_csv('./simulation_results/2023-06-13_08-40-19.csv')\n",
        "df5 = pd.read_csv('./simulation_results/2023-06-13_12-54-53.csv')\n",
        "df6 = pd.read_csv('./simulation_results/2023-06-13_13-22-41.csv')\n",
        "df7 = pd.read_csv('./simulation_results/2023-06-13_13-50-26.csv')\n",
        "df8 = pd.read_csv('./simulation_results/2023-06-13_14-17-59.csv')"
      ],
      "id": "58a7de0e-0147-4be6-ae52-f391e068d404"
    },
    {
      "cell_type": "code",
      "execution_count": 151,
      "metadata": {},
      "outputs": [],
      "source": [
        "df9 = pd.read_csv('./simulation_results/2023-07-17_07-35-15.csv')\n",
        "df10 = pd.read_csv('./simulation_results/2023-07-17_08-03-56.csv')\n",
        "df11 = pd.read_csv('./simulation_results/2023-07-17_08-32-12.csv')\n",
        "df12 = pd.read_csv('./simulation_results/2023-07-17_08-59-03.csv')\n",
        "df13 = pd.read_csv('./simulation_results/2023-07-17_09-25-30.csv')\n",
        "df14 = pd.read_csv('./simulation_results/2023-07-17_09-53-40.csv')"
      ],
      "id": "a58ddc9b-942f-401c-b9af-d314065315c3"
    },
    {
      "cell_type": "code",
      "execution_count": 152,
      "metadata": {},
      "outputs": [],
      "source": [
        "data = pd.concat([df1,df2,df3,df4,df5,df6,df7,df8,df9,df10,df11,df12,df13,df14],axis=0)"
      ],
      "id": "243c8ac3-63ef-463b-920c-732bcea5b27d"
    },
    {
      "cell_type": "code",
      "execution_count": 153,
      "metadata": {},
      "outputs": [],
      "source": [
        "data.to_csv('./simulation_results/Real_simulation_reshape/GCLSTM_fivedones_Simulation.csv',index=False)"
      ],
      "id": "6531c324-827c-4f7f-aef7-90da0b1f2c23"
    },
    {
      "cell_type": "code",
      "execution_count": 154,
      "metadata": {},
      "outputs": [],
      "source": [
        "data = pd.read_csv('./simulation_results/Real_simulation_reshape/GCLSTM_fivedones_Simulation.csv')"
      ],
      "id": "2029a91d-4dc4-4eb2-8f9d-63d4727f4c94"
    },
    {
      "cell_type": "markdown",
      "metadata": {},
      "source": [
        "## Baseline"
      ],
      "id": "3cb658bb-8fb5-415f-ae54-baa6de5a34c0"
    },
    {
      "cell_type": "code",
      "execution_count": 155,
      "metadata": {
        "tags": []
      },
      "outputs": [],
      "source": [
        "data.query(\"method!='GNAR' and mrate==0\").plot.box(backend='plotly',x='mrate',color='method',y='mse',facet_col='lags',facet_row='nof_filters',height=600)\n"
      ],
      "id": "0dadea37-58a9-44ee-9eb6-d1bad6a1ccdf"
    },
    {
      "cell_type": "markdown",
      "metadata": {},
      "source": [
        "## Random"
      ],
      "id": "a33c4d2d-45bb-4e98-af5b-d7691fcf6356"
    },
    {
      "cell_type": "code",
      "execution_count": 156,
      "metadata": {},
      "outputs": [],
      "source": [
        "data.query(\"method!='GNAR' and mtype =='rand'\").plot.box(backend='plotly',x='mrate',color='method',y='mse',facet_col='inter_method',facet_row='nof_filters',height=600)"
      ],
      "id": "8571d995-8823-48ef-8324-d8acc3ee8f62"
    },
    {
      "cell_type": "markdown",
      "metadata": {},
      "source": [
        "## Block"
      ],
      "id": "ef5c88eb-216b-4999-9083-d8748f96377c"
    },
    {
      "cell_type": "code",
      "execution_count": 157,
      "metadata": {},
      "outputs": [],
      "source": [
        "data.query(\"method!='GNAR' and mtype =='block' \").plot.box(backend='plotly',x='mrate',color='method',y='mse',facet_col='inter_method',facet_row='nof_filters',height=600)\n"
      ],
      "id": "1d2b0683-7351-4062-bec3-cacfba1b48f4"
    },
    {
      "cell_type": "markdown",
      "metadata": {},
      "source": [
        "# chickenpox"
      ],
      "id": "8b07fa52-3f59-4c30-9a6d-f31449f40557"
    },
    {
      "cell_type": "code",
      "execution_count": 31,
      "metadata": {},
      "outputs": [],
      "source": [
        "df1 = pd.read_csv('./simulation_results/2023-06-13_15-38-39.csv') # GNAR random\n",
        "df2 = pd.read_csv('./simulation_results/2023-06-13_16-57-23.csv') # GNAR block\n",
        "df3 = pd.read_csv('./simulation_results/2023-06-13_17-36-42.csv') # STGCN, ITSTGCN random 30%\n",
        "df4 = pd.read_csv('./simulation_results/2023-06-13_18-16-50.csv') \n",
        "df5 = pd.read_csv('./simulation_results/2023-06-13_19-43-23.csv') \n",
        "df6 = pd.read_csv('./simulation_results/2023-06-13_21-07-40.csv') "
      ],
      "id": "3e66680d-3b56-4295-b4da-c8988c6ceb77"
    },
    {
      "cell_type": "code",
      "execution_count": 32,
      "metadata": {},
      "outputs": [],
      "source": [
        "df7 = pd.read_csv('./simulation_results/2023-07-17_10-37-55.csv') # GNAR random\n",
        "df8 = pd.read_csv('./simulation_results/2023-07-17_11-21-39.csv') # GNAR block\n",
        "df9 = pd.read_csv('./simulation_results/2023-07-17_12-03-49.csv') # STGCN, ITSTGCN random 30%\n",
        "df10 = pd.read_csv('./simulation_results/2023-07-17_12-47-06.csv') "
      ],
      "id": "fe0d1ae1-c173-4306-b9c3-6a5fd740b0fb"
    },
    {
      "cell_type": "code",
      "execution_count": 33,
      "metadata": {},
      "outputs": [],
      "source": [
        "data = pd.concat([df1,df2,df3,df4,df5,df6,df7,df8,df9,df10],axis=0)"
      ],
      "id": "3a15858e-07b2-460c-86c6-49ee4deeb10d"
    },
    {
      "cell_type": "code",
      "execution_count": 34,
      "metadata": {},
      "outputs": [],
      "source": [
        "data.to_csv('./simulation_results/Real_simulation_reshape/GCLSTM_chikenpox_Simulation.csv',index=False)"
      ],
      "id": "158398fa-ae55-4525-8535-eb323b1c4b6b"
    },
    {
      "cell_type": "code",
      "execution_count": 35,
      "metadata": {},
      "outputs": [],
      "source": [
        "data = pd.read_csv('./simulation_results/Real_simulation_reshape/GCLSTM_chikenpox_Simulation.csv')"
      ],
      "id": "dc861068-2821-4447-a4b7-3cb5b4a0ed8c"
    },
    {
      "cell_type": "markdown",
      "metadata": {},
      "source": [
        "## Baseline"
      ],
      "id": "60f435b6-0b76-4582-818e-0b7f49d90d82"
    },
    {
      "cell_type": "code",
      "execution_count": 36,
      "metadata": {},
      "outputs": [],
      "source": [
        "data.query(\"method!='GNAR' and mrate ==0 \").plot.box(backend='plotly',x='mrate',color='method',y='mse',facet_col='nof_filters',height=600)\n"
      ],
      "id": "06fdf72b-bf8c-4896-99a3-fc228563d254"
    },
    {
      "cell_type": "markdown",
      "metadata": {},
      "source": [
        "## Random"
      ],
      "id": "e13e9f89-1b6f-41ae-9f17-388e344e2e15"
    },
    {
      "cell_type": "code",
      "execution_count": 37,
      "metadata": {},
      "outputs": [],
      "source": [
        "data.query(\"method!='GNAR' and mtype =='rand'\").plot.box(backend='plotly',x='mrate',color='method',y='mse',facet_col='nof_filters',facet_row='inter_method',height=800)\n"
      ],
      "id": "de6f2569-bee5-4111-8394-699cc72aaf03"
    },
    {
      "cell_type": "markdown",
      "metadata": {},
      "source": [
        "## Block"
      ],
      "id": "32f716c1-b4d7-44e4-9e2f-911c2152379f"
    },
    {
      "cell_type": "code",
      "execution_count": 38,
      "metadata": {},
      "outputs": [],
      "source": [
        "data.query(\"method!='GNAR' and mtype =='block'\").plot.box(backend='plotly',x='mrate',color='method',y='mse',facet_col='inter_method',facet_row='lags',height=800)\n"
      ],
      "id": "47c7bfbc-a5c3-4be5-bd7b-ce2911bbe992"
    },
    {
      "cell_type": "markdown",
      "metadata": {},
      "source": [
        "# Pedalme"
      ],
      "id": "ebc2a77d-e7e1-4ec4-9792-0498206346e1"
    },
    {
      "cell_type": "code",
      "execution_count": 40,
      "metadata": {},
      "outputs": [],
      "source": [
        "df1 = pd.read_csv('./simulation_results/2023-06-07_07-17-13.csv') \n",
        "df2 = pd.read_csv('./simulation_results/2023-06-07_07-27-02.csv')  "
      ],
      "id": "d4636a02-2db0-4676-a73b-9c7566c258f4"
    },
    {
      "cell_type": "code",
      "execution_count": 41,
      "metadata": {},
      "outputs": [],
      "source": [
        "df3 = pd.read_csv('./simulation_results/2023-07-17_13-06-02.csv') "
      ],
      "id": "9ac4016e-2f5e-47c8-bd57-f5656e2e752c"
    },
    {
      "cell_type": "code",
      "execution_count": 42,
      "metadata": {},
      "outputs": [],
      "source": [
        "data = pd.concat([df1,df2,df3],axis=0)"
      ],
      "id": "d22955cb-e046-49c8-890a-52ffe13e237d"
    },
    {
      "cell_type": "code",
      "execution_count": 43,
      "metadata": {},
      "outputs": [],
      "source": [
        "data.to_csv('./simulation_results/Real_simulation_reshape/GCLSTM_pedalme_Simulation.csv',index=False)"
      ],
      "id": "ee3ef5e8-7298-49dd-b21f-9644c30b5f77"
    },
    {
      "cell_type": "code",
      "execution_count": 44,
      "metadata": {},
      "outputs": [],
      "source": [
        "data = pd.read_csv('./simulation_results/Real_simulation_reshape/GCLSTM_pedalme_Simulation.csv')"
      ],
      "id": "446c16b2-85d5-4f90-b214-fe80c77bd0c9"
    },
    {
      "cell_type": "markdown",
      "metadata": {},
      "source": [
        "## Baseline"
      ],
      "id": "0b8ea45b-fda6-4795-aa4a-dc11f3970a56"
    },
    {
      "cell_type": "code",
      "execution_count": 45,
      "metadata": {},
      "outputs": [],
      "source": [
        "data.query(\"mrate ==0 and lags!=2\").plot.box(backend='plotly',x='epoch',color='method',y='mse',facet_col='nof_filters',facet_row='lags',height=400)\n"
      ],
      "id": "cd49941e-507b-496f-a9bc-9bb3936acc5e"
    },
    {
      "cell_type": "markdown",
      "metadata": {},
      "source": [
        "## random"
      ],
      "id": "602f57b3-5041-4e89-a432-5c379a61c069"
    },
    {
      "cell_type": "code",
      "execution_count": 46,
      "metadata": {},
      "outputs": [],
      "source": [
        "data.query(\"method!='GNAR' and mtype =='rand' and lags!=2\").plot.box(backend='plotly',x='mrate',color='method',y='mse',facet_col='nof_filters',facet_row='inter_method',height=800)\n"
      ],
      "id": "5375fbb0-00f5-4073-94a0-025f757cf4e8"
    },
    {
      "cell_type": "markdown",
      "metadata": {},
      "source": [
        "## block"
      ],
      "id": "38c669bd-0252-4413-9b9f-bce7634eab1b"
    },
    {
      "cell_type": "code",
      "execution_count": 47,
      "metadata": {},
      "outputs": [],
      "source": [
        "data.query(\"method!='GNAR' and mtype =='block' and lags!=2 \").plot.box(backend='plotly',x='mrate',color='method',y='mse',facet_col='nof_filters',facet_row='inter_method',height=800)\n"
      ],
      "id": "3a2b2904-0190-445f-b5e9-31f1306fb765"
    },
    {
      "cell_type": "markdown",
      "metadata": {},
      "source": [
        "## weight matrix time, node 고려한 결과"
      ],
      "id": "ef75eabb-9d3e-45b6-a3d5-03e4022b1576"
    },
    {
      "cell_type": "code",
      "execution_count": 252,
      "metadata": {},
      "outputs": [],
      "source": [
        "# df1 = pd.read_csv('./simulation_results/2023-06-13_18-41-53.csv') # gclm 잘못 돌림\n",
        "df1 = pd.read_csv('./simulation_results/2023-06-13_18-14-13.csv')\n",
        "df2 = pd.read_csv('./simulation_results/2023-06-16_20-25-15.csv')"
      ],
      "id": "720eef33-a93e-4018-9f30-867b9446b918"
    },
    {
      "cell_type": "code",
      "execution_count": 174,
      "metadata": {},
      "outputs": [],
      "source": [
        "data2 = pd.concat([df1,df2],axis=0)"
      ],
      "id": "970e0d05-641f-4e2b-83f8-7995279164c6"
    },
    {
      "cell_type": "code",
      "execution_count": 175,
      "metadata": {},
      "outputs": [],
      "source": [
        "data2.to_csv('./simulation_results/Real_simulation_reshape/GCLSTM_pedalme_Simulation_itstgcnsnd.csv',index=False)"
      ],
      "id": "e4343248-a16d-47a3-9886-4ccb53c7aa45"
    },
    {
      "cell_type": "code",
      "execution_count": 176,
      "metadata": {},
      "outputs": [],
      "source": [
        "data2 = pd.read_csv('./simulation_results/Real_simulation_reshape/GCLSTM_pedalme_Simulation_itstgcnsnd.csv')"
      ],
      "id": "68c1f3d7-7e0f-4a6d-82d7-ba671275701a"
    },
    {
      "cell_type": "code",
      "execution_count": 177,
      "metadata": {},
      "outputs": [],
      "source": [
        "data2.query(\"mtype=='rand'\").plot.box(backend='plotly',x='mrate',color='method',y='mse',facet_col='inter_method',facet_row='nof_filters',height=1000)"
      ],
      "id": "908c378b-03a2-4bab-95ad-152d13daea50"
    },
    {
      "cell_type": "code",
      "execution_count": 178,
      "metadata": {},
      "outputs": [],
      "source": [
        "data2.query(\"mtype=='block'\").plot.box(backend='plotly',x='mrate',color='method',y='mse',facet_col='inter_method',facet_row='nof_filters',height=1000)"
      ],
      "id": "71fafd85-21c2-4449-9f24-ee870b72433f"
    },
    {
      "cell_type": "markdown",
      "metadata": {},
      "source": [
        "# Wikimath"
      ],
      "id": "8da54d30-47c8-41bc-afc9-6443c5a604d2"
    },
    {
      "cell_type": "code",
      "execution_count": 294,
      "metadata": {},
      "outputs": [],
      "source": [
        "df1 = pd.read_csv('./simulation_results/2023-06-16_10-32-29.csv')\n",
        "df2 = pd.read_csv('./simulation_results/2023-06-16_15-13-14.csv')\n",
        "df3 = pd.read_csv('./simulation_results/2023-06-16_21-20-31.csv')\n",
        "df4 = pd.read_csv('./simulation_results/2023-06-17_10-12-36.csv')\n",
        "df5 = pd.read_csv('./simulation_results/2023-06-17_12-49-46.csv')\n",
        "df6 = pd.read_csv('./simulation_results/2023-06-17_14-45-14.csv')\n",
        "df7 = pd.read_csv('./simulation_results/2023-06-17_16-56-50.csv') \n",
        "df8 = pd.read_csv('./simulation_results/2023-06-17_20-23-03.csv')\n",
        "df9 = pd.read_csv('./simulation_results/2023-06-16_21-11-03.csv') # block\n",
        "df10 = pd.read_csv('./simulation_results/2023-06-16_15-10-06.csv') # block\n",
        "df11 = pd.read_csv('./simulation_results/2023-06-16_10-31-28.csv') # block\n",
        "## block 3개 끝나면 같은 노드로 넘어가기"
      ],
      "id": "72dcb6b8-b2df-41e4-8ebd-5eb2a02c97af"
    },
    {
      "cell_type": "code",
      "execution_count": 295,
      "metadata": {},
      "outputs": [],
      "source": [
        "df12 = pd.read_csv('./simulation_results/2023-07-28_20-06-46.csv')\n",
        "df13 = pd.read_csv('./simulation_results/2023-07-28_22-43-30.csv')\n",
        "df14 = pd.read_csv('./simulation_results/2023-07-29_01-05-51.csv')\n",
        "df15 = pd.read_csv('./simulation_results/2023-07-29_03-27-02.csv')\n",
        "df16 = pd.read_csv('./simulation_results/2023-07-29_06-18-47.csv')\n",
        "df17 = pd.read_csv('./simulation_results/2023-07-29_08-56-38.csv')\n",
        "df18 = pd.read_csv('./simulation_results/2023-07-29_11-15-57.csv') \n",
        "df19 = pd.read_csv('./simulation_results/2023-07-29_13-40-21.csv')\n",
        "df20 = pd.read_csv('./simulation_results/2023-07-29_16-18-43.csv') # block\n",
        "df21 = pd.read_csv('./simulation_results/2023-07-29_19-05-06.csv') # block\n",
        "df22 = pd.read_csv('./simulation_results/2023-07-29_21-15-40.csv') # block\n",
        "df23 = pd.read_csv('./simulation_results/2023-07-29_23-49-16.csv')"
      ],
      "id": "f15b4d15-2f66-455b-9a35-78a9676ce8b4"
    },
    {
      "cell_type": "code",
      "execution_count": 296,
      "metadata": {},
      "outputs": [],
      "source": [
        "data = pd.concat([df1,df2,df3,df4,df5,df6,df7,df8,df9,df10,df11,df12,df13,df14,df15,df16,df17,df18,df19,df20,df21,df22,df23],axis=0)"
      ],
      "id": "2bdf1359-250a-4f81-b2e7-bfc3f4a15907"
    },
    {
      "cell_type": "code",
      "execution_count": 297,
      "metadata": {},
      "outputs": [],
      "source": [
        "data.to_csv('./simulation_results/Real_simulation_reshape/GCLSTM_wikimath.csv',index=False)"
      ],
      "id": "fe47b372-5e6c-485c-875c-3c8d879aabe5"
    },
    {
      "cell_type": "code",
      "execution_count": 298,
      "metadata": {},
      "outputs": [],
      "source": [
        "data = pd.read_csv('./simulation_results/Real_simulation_reshape/GCLSTM_wikimath.csv')"
      ],
      "id": "0e5750a8-48a8-4f57-8650-1894b033996a"
    },
    {
      "cell_type": "markdown",
      "metadata": {},
      "source": [
        "## Baseline"
      ],
      "id": "0e28415e-3a1a-4762-ae20-c8208342d43b"
    },
    {
      "cell_type": "code",
      "execution_count": 299,
      "metadata": {},
      "outputs": [],
      "source": [
        "data.query(\"mrate==0 and method!='GNAR'\").plot.box(backend='plotly',x='mrate',color='method',y='mse',height=600)"
      ],
      "id": "b5d615c3-7255-4f7b-8c80-4f97f1d0ea9a"
    },
    {
      "cell_type": "markdown",
      "metadata": {},
      "source": [
        "## random"
      ],
      "id": "29ba61ee-3fb5-4428-9c9d-d67fc0a4647f"
    },
    {
      "cell_type": "code",
      "execution_count": 300,
      "metadata": {},
      "outputs": [],
      "source": [
        "data.query(\"mtype=='rand' and mrate !=0 and method!='GNAR'\").plot.box(backend='plotly',x='mrate',color='method',y='mse',facet_col='lags',facet_row='nof_filters',height=800)\n"
      ],
      "id": "0be1ccad-dd6e-42fe-b32d-8a4e48b17a96"
    },
    {
      "cell_type": "markdown",
      "metadata": {},
      "source": [
        "## block"
      ],
      "id": "67c41655-4bd5-429e-a34e-af1e6af22327"
    },
    {
      "cell_type": "code",
      "execution_count": 301,
      "metadata": {},
      "outputs": [],
      "source": [
        "data.query(\"mtype=='block' and method!='GNAR'\").plot.box(backend='plotly',x='mrate',color='method',y='mse',facet_col='lags',facet_row='nof_filters',height=1200)\n"
      ],
      "id": "caf335f2-3b23-463d-9b89-22df5f122ed7"
    },
    {
      "cell_type": "markdown",
      "metadata": {},
      "source": [
        "## missing values on the same nodes"
      ],
      "id": "0ba4dcc6-8b46-45cc-96d2-3675994b1121"
    },
    {
      "cell_type": "code",
      "execution_count": 332,
      "metadata": {
        "tags": []
      },
      "outputs": [],
      "source": [
        "df1 = pd.read_csv('./simulation_results/2023-06-17_01-42-41.csv') # STGCN IT-STGCN block\n",
        "# df2 = pd.read_csv('./simulation_results/2023-06-17_03-35-20.csv') # STGCN IT-STGCN\n",
        "df3 = pd.read_csv('./simulation_results/2023-06-17_10-06-34.csv') \n",
        "\n",
        "df4 = pd.read_csv('./simulation_results/2023-07-10_05-37-15.csv') \n",
        "df5 = pd.read_csv('./simulation_results/2023-07-10_11-00-23.csv') \n",
        "df6 = pd.read_csv('./simulation_results/2023-07-10_16-03-18.csv') "
      ],
      "id": "f804b18a-149e-48d5-ab30-9a0516fc611b"
    },
    {
      "cell_type": "code",
      "execution_count": 333,
      "metadata": {},
      "outputs": [],
      "source": [
        "data = pd.concat([df1,df3,df4,df5,df6],axis=0)"
      ],
      "id": "8947c20f-0acb-41e8-9a89-d122bf2c0d18"
    },
    {
      "cell_type": "code",
      "execution_count": 334,
      "metadata": {},
      "outputs": [],
      "source": [
        "data.to_csv('./simulation_results/Real_simulation_reshape/GCLSTM_wikimath_GSO_st.csv',index=False)"
      ],
      "id": "3082aa32-04c8-4a3e-9756-6634caf9c949"
    },
    {
      "cell_type": "code",
      "execution_count": 335,
      "metadata": {},
      "outputs": [],
      "source": [
        "data = pd.read_csv('./simulation_results/Real_simulation_reshape/GCLSTM_wikimath_GSO_st.csv')"
      ],
      "id": "9d39029d-2027-4858-aa8a-11a8f3628762"
    },
    {
      "cell_type": "code",
      "execution_count": 336,
      "metadata": {},
      "outputs": [],
      "source": [
        "data.query(\"method!='GNAR' and mtype =='block' \").plot.box(backend='plotly',x='mrate',color='method',y='mse',facet_col='inter_method',facet_row='lags',height=800)\n"
      ],
      "id": "5380ddb8-d5f5-49a0-b11f-89ad2db0ad41"
    },
    {
      "cell_type": "markdown",
      "metadata": {},
      "source": [
        "# Windmilsmall"
      ],
      "id": "a1b1f5b7-5024-47c4-aa3e-c81285bf7412"
    },
    {
      "cell_type": "code",
      "execution_count": 310,
      "metadata": {
        "tags": []
      },
      "outputs": [],
      "source": [
        "df1 = pd.read_csv('./simulation_results/2023-07-08_16-46-22.csv') # STGCN IT-STGCN 70%\n",
        "df2 = pd.read_csv('./simulation_results/2023-07-09_01-43-03.csv') # STGCN IT-STGCN\n",
        "df3 = pd.read_csv('./simulation_results/2023-07-09_10-40-50.csv') # STGCN IT-STGCN\n",
        "df4 = pd.read_csv('./simulation_results/2023-07-09_10-40-50.csv') # STGCN IT-STGCN\n",
        "df5 = pd.read_csv('./simulation_results/2023-07-09_19-35-52.csv') # STGCN IT-STGCN\n",
        "df6 = pd.read_csv('./simulation_results/2023-07-28_12-40-27.csv') # GNAR 30%, 50%, 70% # 뭔가 일단 필요없어서 데이터셋에서 뺌\n",
        "df7 = pd.read_csv('./simulation_results/2023-07-10_05-19-00.csv') # STGCN IT-STGCN\n",
        "df8 = pd.read_csv('./simulation_results/2023-07-10_15-38-09.csv') # STGCN IT-STGCN\n",
        "df9 = pd.read_csv('./simulation_results/2023-07-11_00-47-18.csv') # STGCN IT-STGCN\n",
        "df10 = pd.read_csv('./simulation_results/2023-07-11_09-43-29.csv') # STGCN IT-STGCN\n",
        "df11 = pd.read_csv('./simulation_results/2023-07-11_18-37-15.csv') # STGCN IT-STGCN\n",
        "df12 = pd.read_csv('./simulation_results/2023-07-12_03-27-10.csv') # STGCN IT-STGCN\n",
        "df13 = pd.read_csv('./simulation_results/2023-07-12_12-12-07.csv') # STGCN IT-STGCN\n",
        "df14 = pd.read_csv('./simulation_results/2023-07-12_20-57-30.csv') # STGCN IT-STGCN\n",
        "df15 = pd.read_csv('./simulation_results/2023-07-13_05-53-36.csv') # STGCN IT-STGCN\n",
        "df16 = pd.read_csv('./simulation_results/2023-07-12_19-07-41.csv') # STGCN IT-STGCN\n",
        "df17 = pd.read_csv('./simulation_results/2023-07-13_04-09-38.csv') # STGCN IT-STGCN\n",
        "df18 = pd.read_csv('./simulation_results/2023-04-20_08-30-27.csv') # STGCN IT-STGCN\n",
        "df19 = pd.read_csv('./simulation_results/2023-04-20_14-28-35.csv') # STGCN IT-STGCN\n",
        "df20 = pd.read_csv('./simulation_results/2023-04-20_16-08-39.csv') # STGCN IT-STGCN\n",
        "df21 = pd.read_csv('./simulation_results/2023-07-13_20-26-31.csv') # STGCN IT-STGCN\n",
        "df22 = pd.read_csv('./simulation_results/2023-07-13_21-36-49.csv') # STGCN IT-STGCN\n",
        "df23 = pd.read_csv('./simulation_results/2023-07-14_03-03-03.csv') # STGCN IT-STGCN\n",
        "df24 = pd.read_csv('./simulation_results/2023-07-14_04-13-48.csv') # STGCN IT-STGCN\n",
        "df25 = pd.read_csv('./simulation_results/2023-07-14_10-49-08.csv') # STGCN IT-STGCN\n",
        "df26 = pd.read_csv('./simulation_results/2023-07-14_13-01-02.csv') # STGCN IT-STGCN\n",
        "df27 = pd.read_csv('./simulation_results/2023-07-14_21-09-47.csv') # STGCN IT-STGCN\n",
        "df28 = pd.read_csv('./simulation_results/2023-07-14_22-48-18.csv') # STGCN IT-STGCN\n",
        "df29 = pd.read_csv('./simulation_results/2023-07-15_07-24-08.csv') # STGCN IT-STGCN\n",
        "df30 = pd.read_csv('./simulation_results/2023-07-15_09-28-06.csv') # STGCN IT-STGCN\n",
        "df31 = pd.read_csv('./simulation_results/2023-07-15_16-22-58.csv') # GNAR 70%\n",
        "df32 = pd.read_csv('./simulation_results/2023-07-15_18-56-34.csv') # GNAR \n",
        "df33 = pd.read_csv('./simulation_results/2023-07-16_02-27-30.csv')\n",
        "df34 = pd.read_csv('./simulation_results/2023-07-16_04-39-55.csv')\n",
        "df35 = pd.read_csv('./simulation_results/2023-07-16_08-52-31.csv')\n",
        "df36 = pd.read_csv('./simulation_results/2023-07-16_13-46-01.csv')\n",
        "df37 = pd.read_csv('./simulation_results/2023-07-16_16-24-14.csv')\n",
        "df38 = pd.read_csv('./simulation_results/2023-07-16_20-42-20.csv')\n",
        "df39 = pd.read_csv('./simulation_results/2023-07-17_02-06-35.csv')\n",
        "df40 = pd.read_csv('./simulation_results/2023-07-17_04-36-34.csv')\n",
        "df41 = pd.read_csv('./simulation_results/2023-07-17_08-38-54.csv')\n",
        "df42 = pd.read_csv('./simulation_results/2023-07-17_13-34-00.csv')\n",
        "df43 = pd.read_csv('./simulation_results/2023-07-17_15-23-22.csv')\n",
        "df44 = pd.read_csv('./simulation_results/2023-07-17_19-53-20.csv')\n",
        "df45 = pd.read_csv('./simulation_results/2023-07-18_00-22-34.csv')\n",
        "df46 = pd.read_csv('./simulation_results/2023-07-18_02-06-38.csv')\n",
        "df47 = pd.read_csv('./simulation_results/2023-07-18_06-34-10.csv')\n",
        "df48 = pd.read_csv('./simulation_results/2023-07-18_11-10-06.csv')\n",
        "df49 = pd.read_csv('./simulation_results/2023-07-18_12-50-31.csv')\n",
        "df50 = pd.read_csv('./simulation_results/2023-07-18_17-52-05.csv')\n",
        "df51 = pd.read_csv('./simulation_results/2023-07-18_22-00-41.csv')\n",
        "df52 = pd.read_csv('./simulation_results/2023-07-18_23-42-45.csv')\n",
        "df53 = pd.read_csv('./simulation_results/2023-07-19_04-59-21.csv')\n",
        "df54 = pd.read_csv('./simulation_results/2023-07-19_08-48-28.csv')\n",
        "df55 = pd.read_csv('./simulation_results/2023-07-19_17-01-57.csv')\n",
        "df56 = pd.read_csv('./simulation_results/2023-07-19_21-26-20.csv')\n",
        "df57 = pd.read_csv('./simulation_results/2023-07-20_06-05-43.csv')\n",
        "df58 = pd.read_csv('./simulation_results/2023-07-20_10-08-26.csv')\n",
        "df59 = pd.read_csv('./simulation_results/2023-07-20_19-15-18.csv')\n",
        "df60 = pd.read_csv('./simulation_results/2023-07-20_22-32-18.csv')\n",
        "df61 = pd.read_csv('./simulation_results/2023-07-21_06-57-23.csv')\n",
        "df62 = pd.read_csv('./simulation_results/2023-07-21_10-56-01.csv')\n",
        "df63 = pd.read_csv('./simulation_results/2023-07-21_17-56-21.csv')\n",
        "df64 = pd.read_csv('./simulation_results/2023-07-21_17-56-21.csv')\n",
        "df65 = pd.read_csv('./simulation_results/2023-07-21_20-36-27.csv')\n",
        "df66 = pd.read_csv('./simulation_results/2023-07-22_04-31-53.csv')\n",
        "df67 = pd.read_csv('./simulation_results/2023-07-22_07-03-52.csv')\n",
        "df68 = pd.read_csv('./simulation_results/2023-07-22_17-31-45.csv') # 확인 후 block 만 넣기!\n",
        "df69 = pd.read_csv('./simulation_results/2023-07-22_19-44-00.csv')\n",
        "df70 = pd.read_csv('./simulation_results/2023-07-23_05-22-58.csv')\n",
        "df71 = pd.read_csv('./simulation_results/2023-07-23_07-55-51.csv')\n",
        "df72 = pd.read_csv('./simulation_results/2023-07-23_17-42-13.csv')\n",
        "df73 = pd.read_csv('./simulation_results/2023-07-23_20-30-21.csv')\n",
        "df74 = pd.read_csv('./simulation_results/2023-07-24_05-41-08.csv')\n",
        "df75 = pd.read_csv('./simulation_results/2023-07-24_07-54-06.csv')\n",
        "df76 = pd.read_csv('./simulation_results/2023-07-24_17-39-27.csv')\n",
        "df77 = pd.read_csv('./simulation_results/2023-07-24_19-53-21.csv')\n",
        "df78 = pd.read_csv('./simulation_results/2023-07-25_05-57-37.csv')\n",
        "df79 = pd.read_csv('./simulation_results/2023-07-25_08-15-18.csv')\n",
        "df80 = pd.read_csv('./simulation_results/2023-07-25_16-42-39.csv')\n",
        "df81 = pd.read_csv('./simulation_results/2023-07-26_04-43-08.csv')\n",
        "df82 = pd.read_csv('./simulation_results/2023-07-26_17-00-20.csv')\n",
        "df83 = pd.read_csv('./simulation_results/2023-07-26_17-11-59.csv')\n",
        "df84 = pd.read_csv('./simulation_results/2023-07-27_04-12-22.csv')\n",
        "df85 = pd.read_csv('./simulation_results/2023-07-27_09-40-00.csv')\n",
        "df86 = pd.read_csv('./simulation_results/2023-07-28_01-55-45.csv')\n",
        "df87 = pd.read_csv('./simulation_results/2023-07-28_22-32-45.csv')\n",
        "df88 = pd.read_csv('./simulation_results/2023-07-29_08-57-46.csv')\n",
        "df89 = pd.read_csv('./simulation_results/2023-07-29_19-26-33.csv')\n",
        "df90 = pd.read_csv('./simulation_results/2023-07-30_05-12-15.csv')\n",
        "df91 = pd.read_csv('./simulation_results/2023-07-30_17-14-46.csv')"
      ],
      "id": "e865d7a4-d723-411e-9ee6-2a0a001f8525"
    },
    {
      "cell_type": "code",
      "execution_count": 311,
      "metadata": {},
      "outputs": [],
      "source": [
        "data = pd.concat([df1,df2,df3,df4,df5,df6,df7,df8,df9,df10,df11,df12,df13,df14,df15,df16,df17,\n",
        "                 df18,df19,df20,df21,df22,df23,df24,df25,df26,df27,df28,df29,df30,df31,df32,df33,df34,\n",
        "                 df35,df36,df37,df38,df39,df40,df41,df42,df43,df44,df45,df46,df47,df48,df49,df50,\n",
        "                 df51, df52, df53,df54,df55,df56,df57,df58,df59,df60,df61,df62,df63,df64,df65,df66,df67,\n",
        "                 df68,df69,df70,df71,df72,df73,df74,df75,df76,df77,df78,df79,df80,df81,df82,df83,df84,df85,df86,\n",
        "                 df87,df88,df89,df90,df91],axis=0)"
      ],
      "id": "37438d95-f15e-4741-b4d2-65966d48be89"
    },
    {
      "cell_type": "code",
      "execution_count": 312,
      "metadata": {},
      "outputs": [],
      "source": [
        "data.to_csv('./simulation_results/Real_simulation_reshape/GCLSTM_windmillsmall.csv',index=False)"
      ],
      "id": "129bb29a-6386-4363-9781-8a68ad4373cd"
    },
    {
      "cell_type": "code",
      "execution_count": 313,
      "metadata": {},
      "outputs": [],
      "source": [
        "data = pd.read_csv('./simulation_results/Real_simulation_reshape/GCLSTM_windmillsmall.csv')"
      ],
      "id": "e802f5c9-6428-4f87-86d8-5bec3a07099b"
    },
    {
      "cell_type": "markdown",
      "metadata": {},
      "source": [
        "## Baseline"
      ],
      "id": "166e36aa-d571-4ab5-89e3-178393155eec"
    },
    {
      "cell_type": "code",
      "execution_count": 314,
      "metadata": {},
      "outputs": [],
      "source": [
        "data.query(\"method!='GNAR' and mrate ==0 \").plot.box(backend='plotly',x='mrate',color='method',y='mse',facet_col='lags',height=800)\n"
      ],
      "id": "5d53e2e9-4cbd-46cc-bd08-7840fc5a718f"
    },
    {
      "cell_type": "markdown",
      "metadata": {},
      "source": [
        "## random"
      ],
      "id": "f430929f-45e8-44bd-9d6c-e702d59d2a8d"
    },
    {
      "cell_type": "code",
      "execution_count": 315,
      "metadata": {},
      "outputs": [],
      "source": [
        "data.query(\"method!='GNAR' and mtype =='rand' \").plot.box(backend='plotly',x='mrate',color='method',y='mse',facet_col='lags',facet_row='inter_method',height=800)\n"
      ],
      "id": "f189e38c-14f4-4f04-980c-aec583366a66"
    },
    {
      "cell_type": "markdown",
      "metadata": {},
      "source": [
        "## block"
      ],
      "id": "61ab20b5-1a72-41e9-a568-479a5570a504"
    },
    {
      "cell_type": "code",
      "execution_count": 316,
      "metadata": {},
      "outputs": [],
      "source": [
        "data.query(\"method!='GNAR' and mtype =='block' \").plot.box(backend='plotly',x='mrate',color='method',y='mse',facet_col='lags',facet_row='inter_method',height=800)\n"
      ],
      "id": "ba4ac7bd-35fb-4d0a-bd43-849cb2ff7757"
    },
    {
      "cell_type": "markdown",
      "metadata": {},
      "source": [
        "# Montevideobus"
      ],
      "id": "c8d4efd5-3cc1-4a89-bd80-d0ce0d54d8d8"
    },
    {
      "cell_type": "code",
      "execution_count": 263,
      "metadata": {},
      "outputs": [],
      "source": [
        "# k=1\n",
        "df1 = pd.read_csv('./simulation_results/2023-06-14_00-09-03.csv') # lags 8\n",
        "df2 = pd.read_csv('./simulation_results/2023-06-14_00-09-03.csv') # lags 8\n",
        "df3 = pd.read_csv('./simulation_results/2023-06-14_03-15-40.csv') # lags 8\n",
        "df4 = pd.read_csv('./simulation_results/2023-06-14_06-23-01.csv') # lags 8\n",
        "df5 = pd.read_csv('./simulation_results/2023-06-14_09-31-21.csv') # lags 8\n",
        "df6 = pd.read_csv('./simulation_results/2023-06-14_12-29-12.csv') # lags 8\n",
        "df7 = pd.read_csv('./simulation_results/2023-06-14_15-27-41.csv') # lags 8"
      ],
      "id": "ee59c5e4-e11a-4a10-a0b1-478a80afb228"
    },
    {
      "cell_type": "code",
      "execution_count": 136,
      "metadata": {},
      "outputs": [],
      "source": [
        "df8 = pd.read_csv('./simulation_results/2023-07-22_11-13-32.csv') # lags 8\n",
        "df9 = pd.read_csv('./simulation_results/2023-07-21_18-40-37.csv') # lags 8\n",
        "df10 = pd.read_csv('./simulation_results/2023-07-21_20-32-41.csv') # lags 8\n",
        "df11 = pd.read_csv('./simulation_results/2023-07-21_22-22-45.csv') # lags 8\n",
        "df12 = pd.read_csv('./simulation_results/2023-07-22_00-21-56.csv') # lags 8\n",
        "df13 = pd.read_csv('./simulation_results/2023-07-22_02-21-47.csv') # lags 8\n",
        "df14 = pd.read_csv('./simulation_results/2023-07-22_04-09-40.csv') # lags 8\n",
        "df15 = pd.read_csv('./simulation_results/2023-07-22_05-50-30.csv')\n",
        "df16 = pd.read_csv('./simulation_results/2023-07-22_07-46-56.csv')"
      ],
      "id": "5f20f2b1-df98-46b9-9cf1-7de8c52d72b9"
    },
    {
      "cell_type": "code",
      "execution_count": 137,
      "metadata": {},
      "outputs": [],
      "source": [
        "data = pd.concat([df1,df2,df3,df4,df5,df6,df7,df9,df10,df11,df12,df13,df14,df15,df16,   df8],axis=0)"
      ],
      "id": "a19d1bdd-17fe-42cf-a4c8-f270bff69e40"
    },
    {
      "cell_type": "code",
      "execution_count": 138,
      "metadata": {},
      "outputs": [],
      "source": [
        "data.to_csv('./simulation_results/Real_simulation_reshape/GCLSTM_monte.csv',index=False)"
      ],
      "id": "3858fad4-79eb-4bd2-a070-c55210e79185"
    },
    {
      "cell_type": "code",
      "execution_count": 139,
      "metadata": {},
      "outputs": [],
      "source": [
        "data = pd.read_csv('./simulation_results/Real_simulation_reshape/GCLSTM_monte.csv')"
      ],
      "id": "b6060412-5bf9-480f-8246-83eed9a2677f"
    },
    {
      "cell_type": "markdown",
      "metadata": {},
      "source": [
        "## Baseline"
      ],
      "id": "90d14a4a-75d6-418b-814a-0cdf5aa38f56"
    },
    {
      "cell_type": "code",
      "execution_count": 140,
      "metadata": {},
      "outputs": [],
      "source": [
        "data.query(\"mrate==0 and method!='GNAR'\").plot.box(backend='plotly',x='mrate',color='method',y='mse',facet_col='lags',facet_row='nof_filters',height=600)"
      ],
      "id": "ac3fe12e-c352-44be-b261-3c918542a292"
    },
    {
      "cell_type": "markdown",
      "metadata": {},
      "source": [
        "## random"
      ],
      "id": "e0a70894-d253-4268-84a2-19a756b86c31"
    },
    {
      "cell_type": "code",
      "execution_count": 141,
      "metadata": {},
      "outputs": [],
      "source": [
        "data.query(\"mtype=='rand' and mrate !=0 and method!='GNAR'\").plot.box(backend='plotly',x='mrate',color='method',y='mse',facet_col='lags',facet_row='inter_method',height=800)\n"
      ],
      "id": "7f2ffd70-8383-4974-a97a-f4474693b145"
    },
    {
      "cell_type": "markdown",
      "metadata": {},
      "source": [
        "## block"
      ],
      "id": "7923f8f5-18a1-479c-ad7b-9511d04ac422"
    },
    {
      "cell_type": "code",
      "execution_count": 142,
      "metadata": {},
      "outputs": [],
      "source": [
        "data.query(\"mtype=='block' and method!='GNAR'\").plot.box(backend='plotly',x='mrate',color='method',y='mse',facet_col='lags',facet_row='nof_filters',height=1200)\n"
      ],
      "id": "e79a6196-079c-41ea-a52b-6945fc3fa037"
    }
  ],
  "nbformat": 4,
  "nbformat_minor": 5,
  "metadata": {
    "kernelspec": {
      "name": "python3",
      "display_name": "Python 3",
      "language": "python"
    },
    "language_info": {
      "name": "python",
      "codemirror_mode": {
        "name": "ipython",
        "version": "3"
      },
      "file_extension": ".py",
      "mimetype": "text/x-python",
      "nbconvert_exporter": "python",
      "pygments_lexer": "ipython3",
      "version": "3.8.0"
    }
  }
}
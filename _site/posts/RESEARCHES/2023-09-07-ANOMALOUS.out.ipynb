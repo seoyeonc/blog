{
  "cells": [
    {
      "cell_type": "markdown",
      "metadata": {},
      "source": [
        "# \\*\\*\\[ANOMALOUS\\]\\*\\*Graph\n",
        "\n",
        "SEOYEON CHOI  \n",
        "2023-09-07\n",
        "\n",
        "# Reference\n",
        "\n",
        "[공식홈](https://docs.pygod.org/en/latest/generated/pygod.detector.ANOMALOUS.html)\n",
        "\n",
        "[paper](https://www.ijcai.org/Proceedings/2018/0488.pdf)\n",
        "\n",
        "[교수님께서 알려주신\n",
        "사이트](https://pycaret.gitbook.io/docs/get-started/quickstart#anomaly-detection)\n",
        "\n",
        "`Summary`\n",
        "\n",
        "-   노드당 매핑된 속성(attribute)으로 이상치를 계산해낸다.\n",
        "-   그래서 속성 특징마다 나오는 이상치라고 칭하는 노드가 다른 것 같다.\n",
        "-   노드 정보와 네트워크를 기반으로 rare하거나 상당히 differ한 인스턴스\n",
        "    집합 찾는 것을 목표로 한다.\n",
        "-   there may exist some outlying attributes that do not satisfy the\n",
        "    Homophily hypothesis\n",
        "    -   Homophily hypothesis을 만족하지 않는 어떤 outlying attributes가\n",
        "        존재하며 이것이 이상치로 생각한다.\n",
        "\n",
        "[데이터셋 논문](https://arxiv.org/pdf/1603.08861.pdf)\n",
        "\n",
        "# Import"
      ],
      "id": "5d22d7ce-a1eb-488a-86bc-cefe44a27013"
    },
    {
      "cell_type": "code",
      "execution_count": 1,
      "metadata": {},
      "outputs": [
        {
          "output_type": "stream",
          "name": "stderr",
          "text": [
            "/home/csy/anaconda3/envs/temp_csy/lib/python3.8/site-packages/tqdm/auto.py:22: TqdmWarning: IProgress not found. Please update jupyter and ipywidgets. See https://ipywidgets.readthedocs.io/en/stable/user_install.html\n",
            "  from .autonotebook import tqdm as notebook_tqdm"
          ]
        }
      ],
      "source": [
        "import pygod\n",
        "import numpy as np\n",
        "import torch_geometric.transforms as T\n",
        "from torch_geometric.datasets import Planetoid\n",
        "\n",
        "import torch\n",
        "from pygod.generator import gen_contextual_outlier, gen_structural_outlier\n",
        "\n",
        "from pygod.utils import load_data\n",
        "\n",
        "from pygod.metric import eval_roc_auc\n",
        "\n",
        "from pygod.detector import ANOMALOUS"
      ],
      "id": "87e45f07-3c6b-48d0-961b-f4b290b669a0"
    },
    {
      "cell_type": "markdown",
      "metadata": {},
      "source": [
        "# Tutorial"
      ],
      "id": "ee76faa1-cd83-4011-aabf-8b0917790d4b"
    },
    {
      "cell_type": "code",
      "execution_count": 105,
      "metadata": {},
      "outputs": [],
      "source": [
        "data = Planetoid('./data/Cora', 'Cora', transform=T.NormalizeFeatures())[0]"
      ],
      "id": "2942b1ea-4c11-4f31-ab95-68ec618a993a"
    },
    {
      "cell_type": "code",
      "execution_count": 106,
      "metadata": {},
      "outputs": [],
      "source": [
        "data"
      ],
      "id": "cd198673-2875-44f7-9fd0-0349470b3142"
    },
    {
      "cell_type": "markdown",
      "metadata": {},
      "source": [
        "`gen_contextual_outlier`의 역할: Generating contextual outliers\n",
        "\n",
        "-   임의로 선택한 노드 중 그 노드들끼리 얼마나 떨어져 있나?"
      ],
      "id": "7481e96b-3a4d-4d2f-b210-ddc4a27c798d"
    },
    {
      "cell_type": "code",
      "execution_count": 107,
      "metadata": {},
      "outputs": [],
      "source": [
        "data, ya = gen_contextual_outlier(data, n=100, k=50)"
      ],
      "id": "3cce0873-8fa0-4cf9-b2a1-5e42fe004692"
    },
    {
      "cell_type": "code",
      "execution_count": 108,
      "metadata": {},
      "outputs": [],
      "source": [
        "ya"
      ],
      "id": "3a565e1e-29f2-42c6-b8a6-9720dadbe4ea"
    },
    {
      "cell_type": "code",
      "execution_count": 109,
      "metadata": {},
      "outputs": [],
      "source": [
        "len(sum(np.where(ya==1)))"
      ],
      "id": "5ccae2fc-f84a-499b-a6b7-72c05b1f1705"
    },
    {
      "cell_type": "code",
      "execution_count": 110,
      "metadata": {},
      "outputs": [],
      "source": [
        "len(sum(np.where(ya==0)))"
      ],
      "id": "a4e73824-4cb2-4e69-8f59-b1797d12526a"
    },
    {
      "cell_type": "code",
      "execution_count": 111,
      "metadata": {},
      "outputs": [],
      "source": [
        "len(ya)"
      ],
      "id": "148259e2-4eb2-42c1-8534-036713b54b75"
    },
    {
      "cell_type": "markdown",
      "metadata": {},
      "source": [
        "`gen_structural_outlier`의 역할: Generating structural outliers\n",
        "\n",
        "-   임의로 선택한 노드들이 fully connected 되어있을때 그 집단과 얼마나\n",
        "    많이 다른가??"
      ],
      "id": "bd73c694-968d-4a93-9460-1be213981d68"
    },
    {
      "cell_type": "code",
      "execution_count": 112,
      "metadata": {},
      "outputs": [],
      "source": [
        "data, ys = gen_structural_outlier(data, m=10, n=10)"
      ],
      "id": "9a871f24-4f1e-4d56-bea5-84909fd6555c"
    },
    {
      "cell_type": "code",
      "execution_count": 113,
      "metadata": {},
      "outputs": [],
      "source": [
        "ys"
      ],
      "id": "a596bef8-f137-42a8-914f-5841f26a1008"
    },
    {
      "cell_type": "code",
      "execution_count": 114,
      "metadata": {},
      "outputs": [],
      "source": [
        "len(sum(np.where(ys==1)))"
      ],
      "id": "6bae7c81-251f-4ad4-ae8e-e0989f4e9624"
    },
    {
      "cell_type": "code",
      "execution_count": 115,
      "metadata": {},
      "outputs": [],
      "source": [
        "len(sum(np.where(ys==0)))"
      ],
      "id": "b8615c84-042d-475e-969c-a1b088be0af2"
    },
    {
      "cell_type": "code",
      "execution_count": 116,
      "metadata": {},
      "outputs": [],
      "source": [
        "len(ys)"
      ],
      "id": "27603dd1-0483-4bf4-b5ea-7213739cdac7"
    },
    {
      "cell_type": "markdown",
      "metadata": {},
      "source": [
        "위에서 찾은 이상치 간에 `torch.logical_or` 논리 or 생성"
      ],
      "id": "f8683627-63b5-448f-a810-070ddbf648f3"
    },
    {
      "cell_type": "code",
      "execution_count": 117,
      "metadata": {},
      "outputs": [],
      "source": [
        "data.y = torch.logical_or(ys, ya).long()"
      ],
      "id": "433cc066-3411-4f11-a496-fbbdbc53f6fc"
    },
    {
      "cell_type": "code",
      "execution_count": 118,
      "metadata": {},
      "outputs": [],
      "source": [
        "data.y"
      ],
      "id": "0f55703c-1e46-4245-9f35-06c4c941de8c"
    },
    {
      "cell_type": "code",
      "execution_count": 119,
      "metadata": {},
      "outputs": [],
      "source": [
        "len(sum(np.where(data.y==1)))"
      ],
      "id": "65501742-651e-473a-99ba-88ef576d5268"
    },
    {
      "cell_type": "code",
      "execution_count": 120,
      "metadata": {},
      "outputs": [],
      "source": [
        "len(sum(np.where(data.y==0)))"
      ],
      "id": "3b26863d-620b-452f-bb59-0672f02e1a6d"
    },
    {
      "cell_type": "code",
      "execution_count": 121,
      "metadata": {},
      "outputs": [],
      "source": [
        "len(data.y)"
      ],
      "id": "e07f564e-ff9a-4c74-a40e-361566a60db8"
    },
    {
      "cell_type": "markdown",
      "metadata": {},
      "source": [
        "load_data(‘inj_cora’)에서 쓸 수 있는 데이터\n",
        "[종류](https://github.com/pygod-team/data)"
      ],
      "id": "9a8a30e9-2d9b-4f2f-915f-2b23d424816e"
    },
    {
      "cell_type": "code",
      "execution_count": 122,
      "metadata": {},
      "outputs": [],
      "source": [
        "data = load_data('inj_cora')\n",
        "data.y = data.y.bool()"
      ],
      "id": "e38696a2-5d8d-4b74-875c-501ecb4ada30"
    },
    {
      "cell_type": "markdown",
      "metadata": {},
      "source": [
        "For injected/generated datasets, the labels meanings are as follows.\n",
        "\n",
        "`-` 0: inlier\n",
        "\n",
        "`-` 1: contextual outlier only\n",
        "\n",
        "`-` 2: structural outlier only\n",
        "\n",
        "`-` 3: both contextual outlier and structural outlier\n",
        "\n",
        "Examples to convert the labels are as follows:\n",
        "\n",
        "``` python\n",
        "y = data.y.bool()    # binary labels (inlier/outlier)\n",
        "yc = data.y >> 0 & 1 # contextual outliers\n",
        "ys = data.y >> 1 & 1 # structural outliers\n",
        "```"
      ],
      "id": "35b62e67-5e61-4537-949c-3e7017851fb1"
    },
    {
      "cell_type": "code",
      "execution_count": 123,
      "metadata": {},
      "outputs": [],
      "source": [
        "data.y"
      ],
      "id": "2b11c805-0097-4e0d-b943-545e073b5480"
    },
    {
      "cell_type": "markdown",
      "metadata": {},
      "source": [
        "‘ANOMALOUS’ 함수 사용"
      ],
      "id": "b14d57d3-7a92-476d-95f6-f5d6c57b486b"
    },
    {
      "cell_type": "code",
      "execution_count": 124,
      "metadata": {},
      "outputs": [],
      "source": [
        "detector = ANOMALOUS(gamma=1.,\n",
        "                     weight_decay=0.,\n",
        "                     lr=0.01,\n",
        "                     epoch=50,\n",
        "                     gpu=-1,\n",
        "                     contamination=0.1,\n",
        "                     verbose=0)"
      ],
      "id": "4e84ff3a-518c-40fe-bb6b-63a91efe5ef5"
    },
    {
      "cell_type": "code",
      "execution_count": 125,
      "metadata": {},
      "outputs": [],
      "source": [
        "detector.fit(data)"
      ],
      "id": "779ac84b-41ac-49f2-be04-2c33d29698b8"
    },
    {
      "cell_type": "markdown",
      "metadata": {},
      "source": [
        "``` python\n",
        "class ANOMALOUSBase(nn.Module):\n",
        "    def __init__(self, w, r):\n",
        "        super(ANOMALOUSBase, self).__init__()\n",
        "        self.w = nn.Parameter(w)\n",
        "        self.r = nn.Parameter(r)\n",
        "\n",
        "    def forward(self, x):\n",
        "        return x @ self.w @ x, self.r\n",
        "```"
      ],
      "id": "e230360f-708e-4727-b35a-0cc19b7de229"
    },
    {
      "cell_type": "code",
      "execution_count": 126,
      "metadata": {},
      "outputs": [],
      "source": [
        "detector.decision_function(data)"
      ],
      "id": "9aed2ee9-9a64-420b-bf22-b9405855fc4e"
    },
    {
      "cell_type": "markdown",
      "metadata": {},
      "source": [
        "위에서 decision_function의 결과로 나오는 decision_score는 r의 제곱이며,\n",
        "이 r은 model에서 나온 결과인데 이 model은 ANOMALOUSBase(w_init,\n",
        "r_init)의 결과이다.\n",
        "\n",
        "이 r_init은 ANOMALOUS class 내에 있는 x, s, l, w_init, r_init =\n",
        "self.process_graph(data) 여기서 나온다.\n",
        "\n",
        "`-` return되는 거는 순서대로 x, s, laplacian, w_init, r_init\n",
        "\n",
        "`x`"
      ],
      "id": "1c7c59f3-9c08-4b86-994d-8569daa8271a"
    },
    {
      "cell_type": "code",
      "execution_count": 127,
      "metadata": {},
      "outputs": [],
      "source": [
        "detector.process_graph(data)[0]"
      ],
      "id": "091e98ad-bcaa-434b-9d9c-de3f6969a9f3"
    },
    {
      "cell_type": "code",
      "execution_count": 128,
      "metadata": {},
      "outputs": [],
      "source": [
        "detector.process_graph(data)[0].shape"
      ],
      "id": "167e6ea7-52fd-4119-af83-e2d5c86ecbbb"
    },
    {
      "cell_type": "markdown",
      "metadata": {},
      "source": [
        "$X \\in \\mathbb{R}^{d \\times n}$\n",
        "\n",
        "2708 = `n` = the number of nodes\n",
        "\n",
        "1433 = `d` = dimensiotnalattribute\n",
        "\n",
        "`s`"
      ],
      "id": "bda13c05-f166-4673-8f43-2198b83189e1"
    },
    {
      "cell_type": "code",
      "execution_count": 129,
      "metadata": {},
      "outputs": [],
      "source": [
        "detector.process_graph(data)[1]"
      ],
      "id": "ddb81d8d-89a0-4472-9cdc-1175b8be9dba"
    },
    {
      "cell_type": "code",
      "execution_count": 130,
      "metadata": {},
      "outputs": [],
      "source": [
        "detector.process_graph(data)[1].shape"
      ],
      "id": "f531a45e-aaa4-4c15-99f1-5a390c00e7bf"
    },
    {
      "cell_type": "markdown",
      "metadata": {},
      "source": [
        "$A \\in \\mathbb{R}^{n \\times n}$\n",
        "\n",
        "`laplacian`"
      ],
      "id": "8286fe19-3fae-4d67-a8d7-7c0c30eb2e98"
    },
    {
      "cell_type": "code",
      "execution_count": 131,
      "metadata": {},
      "outputs": [],
      "source": [
        "detector.process_graph(data)[2]"
      ],
      "id": "e58f32eb-6b2a-46a6-91ad-19d9553f0622"
    },
    {
      "cell_type": "code",
      "execution_count": 132,
      "metadata": {},
      "outputs": [],
      "source": [
        "detector.process_graph(data)[2].shape"
      ],
      "id": "25e84ae3-27b2-4211-9e32-9feb7becc38a"
    },
    {
      "cell_type": "markdown",
      "metadata": {},
      "source": [
        "`generated Laplacian`\n",
        "\n",
        "$\\tilde{R} L \\tilde{R}^T$\n",
        "\n",
        "`w_init`"
      ],
      "id": "ca27d81b-4d4e-47a8-81e5-c474e18650b3"
    },
    {
      "cell_type": "code",
      "execution_count": 133,
      "metadata": {},
      "outputs": [],
      "source": [
        "detector.process_graph(data)[3]"
      ],
      "id": "23d97e3d-bd94-435b-ad47-fc8674363726"
    },
    {
      "cell_type": "code",
      "execution_count": 134,
      "metadata": {},
      "outputs": [],
      "source": [
        "detector.process_graph(data)[3].shape"
      ],
      "id": "56896f1c-2b26-42e3-b4ba-5d69240e14fb"
    },
    {
      "cell_type": "markdown",
      "metadata": {},
      "source": [
        "`r_init`"
      ],
      "id": "88d9e74d-0fa5-4844-965d-7ffadad69abf"
    },
    {
      "cell_type": "code",
      "execution_count": 135,
      "metadata": {},
      "outputs": [],
      "source": [
        "detector.process_graph(data)[4]"
      ],
      "id": "89abc9c8-ab2a-49eb-8486-e0d89859635e"
    },
    {
      "cell_type": "code",
      "execution_count": 136,
      "metadata": {},
      "outputs": [],
      "source": [
        "detector.process_graph(data)[4].shape"
      ],
      "id": "91ec4b8f-dc2f-4e4b-bb82-f6b3e23e65af"
    },
    {
      "cell_type": "markdown",
      "metadata": {},
      "source": [
        "# Disney\n",
        "\n",
        "Disney dataset is a network of movies including many attributes such as\n",
        "ratings, prices and the number of reviews"
      ],
      "id": "8d52d4aa-f51e-456f-842c-7c379040630b"
    },
    {
      "cell_type": "code",
      "execution_count": 186,
      "metadata": {},
      "outputs": [],
      "source": [
        "data = load_data('disney')\n",
        "data.y = data.y.bool()"
      ],
      "id": "e99a789e-288f-4690-87f1-fe88b7b48a50"
    },
    {
      "cell_type": "code",
      "execution_count": 187,
      "metadata": {},
      "outputs": [],
      "source": [
        "data.y"
      ],
      "id": "7991511c-df52-4553-9191-3b83de5b21d1"
    },
    {
      "cell_type": "code",
      "execution_count": 188,
      "metadata": {},
      "outputs": [],
      "source": [
        "sum(data.y*1)"
      ],
      "id": "9affbd72-cf38-4e0e-83e0-ea28d55ace3e"
    },
    {
      "cell_type": "code",
      "execution_count": 189,
      "metadata": {},
      "outputs": [],
      "source": [
        "data"
      ],
      "id": "30a05e35-9499-49a6-9ab3-37c9aec8fb01"
    },
    {
      "cell_type": "code",
      "execution_count": 205,
      "metadata": {},
      "outputs": [],
      "source": [
        "data.stores"
      ],
      "id": "9385580b-3748-44dc-be4a-0989b27dc25f"
    },
    {
      "cell_type": "markdown",
      "metadata": {},
      "source": [
        "-   node = 124\n",
        "-   ratio of anomalous = 4.8%"
      ],
      "id": "846140a3-ee27-4659-ba66-74e1d5f5275a"
    },
    {
      "cell_type": "code",
      "execution_count": 177,
      "metadata": {},
      "outputs": [],
      "source": [
        "detector.fit(data)"
      ],
      "id": "678f2a7c-5a8c-4dee-a357-aae7bfd98f61"
    },
    {
      "cell_type": "code",
      "execution_count": 184,
      "metadata": {},
      "outputs": [],
      "source": [
        "detector.label_"
      ],
      "id": "e1044054-c3e1-4181-aa8e-6efaa407d502"
    },
    {
      "cell_type": "code",
      "execution_count": 179,
      "metadata": {},
      "outputs": [],
      "source": [
        "detector.decision_function(data)"
      ],
      "id": "11d9d639-4a53-49fe-bd05-0031a532b46d"
    },
    {
      "cell_type": "code",
      "execution_count": 166,
      "metadata": {},
      "outputs": [
        {
          "output_type": "stream",
          "name": "stderr",
          "text": [
            "/home/csy/anaconda3/envs/temp_csy/lib/python3.8/site-packages/pygod/detector/anomalous.py:111: UserWarning: This detector is transductive only. Training from scratch with the input data.\n",
            "  warnings.warn(\"This detector is transductive only. \""
          ]
        }
      ],
      "source": [
        "detector.decision_function(data).shape"
      ],
      "id": "83b26353-f3c5-4291-8a2a-bae4863c0835"
    },
    {
      "cell_type": "code",
      "execution_count": 170,
      "metadata": {},
      "outputs": [
        {
          "output_type": "stream",
          "name": "stderr",
          "text": [
            "/home/csy/anaconda3/envs/temp_csy/lib/python3.8/site-packages/pygod/detector/anomalous.py:111: UserWarning: This detector is transductive only. Training from scratch with the input data.\n",
            "  warnings.warn(\"This detector is transductive only. \""
          ]
        }
      ],
      "source": [
        "detector.predict(data)"
      ],
      "id": "d4d50b5f-a5d0-4707-8802-7dd9b2fd387d"
    },
    {
      "cell_type": "code",
      "execution_count": 169,
      "metadata": {},
      "outputs": [],
      "source": [
        "sum(detector.predict())"
      ],
      "id": "61088a1a-a65d-4b4d-a2c3-0c9131581814"
    }
  ],
  "nbformat": 4,
  "nbformat_minor": 5,
  "metadata": {
    "kernelspec": {
      "name": "python3",
      "display_name": "Python 3",
      "language": "python"
    },
    "language_info": {
      "name": "python",
      "codemirror_mode": {
        "name": "ipython",
        "version": "3"
      },
      "file_extension": ".py",
      "mimetype": "text/x-python",
      "nbconvert_exporter": "python",
      "pygments_lexer": "ipython3",
      "version": "3.8.0"
    }
  }
}
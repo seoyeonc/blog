{
  "cells": [
    {
      "cell_type": "markdown",
      "metadata": {},
      "source": [
        "#"
      ],
      "id": "4aede84b-6b1d-47fe-b472-4481dd43e08a"
    },
    {
      "cell_type": "code",
      "execution_count": 72,
      "metadata": {},
      "outputs": [],
      "source": [
        "import numpy as np"
      ],
      "id": "a5cce7d8-3bbf-486e-b7e6-b1a429ad145f"
    },
    {
      "cell_type": "code",
      "execution_count": 2,
      "metadata": {},
      "outputs": [],
      "source": [
        "a=10\n",
        "b=20\n",
        "n=200"
      ],
      "id": "d54a9d88-9980-4912-bc66-a1b7f32978b5"
    },
    {
      "cell_type": "code",
      "execution_count": 66,
      "metadata": {},
      "outputs": [],
      "source": [
        "arr1 = np.array([a+(b-a)/(n-1) * (i-1) for i in range(1,n+1)])"
      ],
      "id": "b4e7307b-666c-4d19-9618-43c0cbf50aca"
    },
    {
      "cell_type": "markdown",
      "metadata": {},
      "source": [
        "$$a+\\frac{(b-a)i}{n-1}$$ for $i=1,2,3,\\dots, n$"
      ],
      "id": "422a9ad2-48a6-48f8-aba6-351b6edda25c"
    },
    {
      "cell_type": "code",
      "execution_count": 67,
      "metadata": {},
      "outputs": [],
      "source": [
        "arr2 = np.linspace(a,b,n)"
      ],
      "id": "e348b0dc-b03b-4960-8c4c-b313a3d0a440"
    },
    {
      "cell_type": "code",
      "execution_count": 68,
      "metadata": {},
      "outputs": [],
      "source": [
        "arr1[:5]"
      ],
      "id": "5026d8e9-fe25-4962-bc2a-b01686aaee10"
    },
    {
      "cell_type": "code",
      "execution_count": 69,
      "metadata": {},
      "outputs": [],
      "source": [
        "arr2[:5]"
      ],
      "id": "b83695e7-4ee3-48c5-95f6-151c754c530f"
    }
  ],
  "nbformat": 4,
  "nbformat_minor": 5,
  "metadata": {
    "kernelspec": {
      "name": "python3",
      "display_name": "Python 3 (ipykernel)",
      "language": "python"
    },
    "language_info": {
      "name": "python",
      "codemirror_mode": {
        "name": "ipython",
        "version": "3"
      },
      "file_extension": ".py",
      "mimetype": "text/x-python",
      "nbconvert_exporter": "python",
      "pygments_lexer": "ipython3",
      "version": "3.8.12"
    }
  }
}
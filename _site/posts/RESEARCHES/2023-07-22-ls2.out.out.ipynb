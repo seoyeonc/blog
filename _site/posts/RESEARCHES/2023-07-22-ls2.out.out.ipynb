{
  "cells": [
    {
      "cell_type": "markdown",
      "metadata": {},
      "source": [
        "# PyG lesson2: 벤치마크 데이터셋 (train/test분리)\n",
        "\n",
        "신록예찬  \n",
        "7/7/23\n",
        "\n",
        "summary\n",
        "\n",
        "-   노드 정보와 엣지 정보는 건들지 않은채로 true false를 부여하는\n",
        "    것만으로 train test validation 데이터를 구분할 수 있는 신기한 논리.."
      ],
      "id": "caae8817-61f2-4926-b749-a2886c39f366"
    },
    {
      "cell_type": "code",
      "execution_count": 86,
      "metadata": {},
      "outputs": [],
      "source": [
        "import torch_geometric\n",
        "import networkx as nx\n",
        "import matplotlib.pyplot as plt\n",
        "import torch\n",
        "import pandas as pd\n",
        "import numpy as np"
      ],
      "id": "1c376eba-55d4-4e98-815f-68b7dd317504"
    },
    {
      "cell_type": "markdown",
      "metadata": {},
      "source": [
        "# Download notebook\n",
        "\n",
        "``` default\n",
        "!wget https://raw.githubusercontent.com/miruetoto/yechan3/main/posts/2_Studies/PyG/ls2.ipynb\n",
        "```\n",
        "\n",
        "# Ref\n",
        "\n",
        "-   <https://pytorch-geometric.readthedocs.io/en/latest/get_started/introduction.html>\n",
        "-   <https://pytorch-geometric.readthedocs.io/en/latest/cheatsheet/data_cheatsheet.html>\n",
        "\n",
        "# 벤치마크 데이터셋\n",
        "\n",
        "`-` 데이터셋은 아래의 모듈안에 정리되어 있음"
      ],
      "id": "6ebc8d6f-0ddd-419d-b8e3-859aea594023"
    },
    {
      "cell_type": "code",
      "execution_count": 49,
      "metadata": {},
      "outputs": [],
      "source": [
        "dir(torch_geometric.datasets)[:5]"
      ],
      "id": "7cadcdd3-3026-4483-90a7-c39bd2f6a197"
    },
    {
      "cell_type": "markdown",
      "metadata": {},
      "source": [
        "# **데이터셋1**: TUDataset\n",
        "\n",
        "`-` 다운로드"
      ],
      "id": "5614f6a9-4953-4389-9424-5857f2ba76be"
    },
    {
      "cell_type": "code",
      "execution_count": 50,
      "metadata": {},
      "outputs": [],
      "source": [
        "dataset = torch_geometric.datasets.TUDataset(root='/tmp/ENZYMES', name='ENZYMES')"
      ],
      "id": "a9cd59ca-f92b-4ad2-8b58-a71c052ca06a"
    },
    {
      "cell_type": "code",
      "execution_count": 51,
      "metadata": {},
      "outputs": [
        {
          "output_type": "stream",
          "name": "stdout",
          "text": [
            "Cora\n",
            "ENZYMES\n",
            "Rtmp0d0w4u\n",
            "Rtmp1uvosb\n",
            "Rtmp3D2vcG\n",
            "Rtmp44FGCf\n",
            "Rtmp4ekp1G\n",
            "Rtmp5zQZ7f\n",
            "Rtmp6Aqjn9\n",
            "Rtmp8SRqeA\n",
            "Rtmp8iV8GY\n",
            "Rtmp9RDC4h\n",
            "RtmpBOkgTD\n",
            "RtmpDr9n3o\n",
            "RtmpEgYVqu\n",
            "RtmpEl7QTm\n",
            "RtmpFeImCs\n",
            "RtmpFmhp1e\n",
            "RtmpL7P0uL\n",
            "RtmpLcdCbN\n",
            "RtmpMpEHD4\n",
            "RtmpOBjmj9\n",
            "RtmpOldkCG\n",
            "RtmpPL5aqG\n",
            "RtmpPPPXuL\n",
            "RtmpQdjXXP\n",
            "RtmpTnWgqy\n",
            "RtmpUu8TkG\n",
            "RtmpVZ8b1G\n",
            "RtmpWPuxY0\n",
            "RtmpXaQxuK\n",
            "RtmpZQXbWV\n",
            "RtmpZVl5wD\n",
            "RtmpZbltsD\n",
            "Rtmpf3XUWv\n",
            "Rtmphh0IeU\n",
            "RtmpiMl5X7\n",
            "RtmpiYetgv\n",
            "RtmpkuWMxJ\n",
            "RtmpnEvGCG\n",
            "RtmpnhtMSB\n",
            "Rtmpp50EUq\n",
            "RtmptUcaRd\n",
            "Rtmptfuzcf\n",
            "RtmpudULKs\n",
            "RtmpuyoGfm\n",
            "RtmpveCzOk\n",
            "Rtmpw3VuI5\n",
            "Rtmpy89nyf\n",
            "RtmpyQeKId\n",
            "__autograph_generated_file430lm2pd.py\n",
            "__autograph_generated_file52srl_jv.py\n",
            "__autograph_generated_file6_nk4ksw.py\n",
            "__autograph_generated_fileamhf1l7g.py\n",
            "__autograph_generated_filegjdd1fac.py\n",
            "__autograph_generated_filemy63yhq6.py\n",
            "__autograph_generated_filenb5xfoyk.py\n",
            "__autograph_generated_fileyzbye00x.py\n",
            "__autograph_generated_filezr0_2k4f.py\n",
            "__pycache__\n",
            "pymp-4hbgfo48\n",
            "pymp-595nrv8o\n",
            "pymp-71z0yfzn\n",
            "pymp-lkwub_4z\n",
            "pymp-nk_fy8vp\n",
            "pymp-v_psr5y6\n",
            "pymp-vs8hkilv\n",
            "quarto-session152a4cba\n",
            "quarto-session1686cca4\n",
            "quarto-session2a43de6f\n",
            "quarto-session2a944a7b\n",
            "quarto-session534bf3db\n",
            "quarto-session9f442f6c\n",
            "quarto-sessiona3c0156c\n",
            "quarto-sessionb632f660\n",
            "quarto-sessionbcbd8145\n",
            "quarto-sessionbf2ff88d\n",
            "quarto-sessionda8525d4\n",
            "quarto-sessionec0b2ed4\n",
            "quarto-sessionf3d60c95\n",
            "snap-private-tmp\n",
            "systemd-private-39daab962ea2479c8b8ce3f60ea86a38-ModemManager.service-cB7j4i\n",
            "systemd-private-39daab962ea2479c8b8ce3f60ea86a38-colord.service-YdaPNi\n",
            "systemd-private-39daab962ea2479c8b8ce3f60ea86a38-switcheroo-control.service-2a7hSg\n",
            "systemd-private-39daab962ea2479c8b8ce3f60ea86a38-systemd-logind.service-FATPQg\n",
            "systemd-private-39daab962ea2479c8b8ce3f60ea86a38-systemd-resolved.service-oRk1Ei\n",
            "systemd-private-39daab962ea2479c8b8ce3f60ea86a38-systemd-timesyncd.service-rxKFnh\n",
            "systemd-private-39daab962ea2479c8b8ce3f60ea86a38-upower.service-z0HyVh\n",
            "tfhub_modules\n",
            "tmp_h0vghma.json\n",
            "tracker-extract-files.1000\n",
            "tracker-extract-files.125"
          ]
        }
      ],
      "source": [
        "!ls /tmp"
      ],
      "id": "fdabbeda-dad6-418a-b166-eea53fae34f5"
    },
    {
      "cell_type": "markdown",
      "metadata": {},
      "source": [
        "-   `/tmp` 에 다운로드되어있음\n",
        "\n",
        "## 정보\n",
        "\n",
        "`-` 기본정보: ENZYMES dataset\n",
        "\n",
        "> (ChatGPT) ENZYMES는 그래프 분류를 위한 벤치마크 데이터셋 중\n",
        "> 하나입니다. 이 데이터셋은 600개의 그래프로 구성되어 있으며, 6개의\n",
        "> 클래스로 분류됩니다. 각 그래프는 효소(enzyme) 분자의 구조를 나타내며,\n",
        "> 그래프의 노드는 원자(atom)를 나타내고, 엣지(edge)는 원자 간의 연결을\n",
        "> 나타냅니다. ENZYMES 데이터셋은 화학 및 생물 정보학 분야에서 그래프\n",
        "> 분류 알고리즘의 성능을 평가하기 위해 사용될 수 있습니다. 그래프 분류\n",
        "> 알고리즘은 주어진 그래프를 특정 클래스 레이블로 분류하는 작업을\n",
        "> 수행하는데 사용됩니다. 예를 들어, ENZYMES 데이터셋의 그래프는 특정\n",
        "> 효소 종류를 나타내며, 그래프 분류 알고리즘은 주어진 효소 그래프가 어떤\n",
        "> 종류의 효소인지 예측할 수 있습니다. PyG를 사용하여 ENZYMES 데이터셋을\n",
        "> 초기화하면 해당 데이터셋을 다운로드하고 필요한 전처리를 자동으로\n",
        "> 수행할 수 있습니다. 그래프 데이터를 다루는 머신 러닝 모델을 구축하고\n",
        "> 훈련시키기 위해 ENZYMES 데이터셋을 사용할 수 있습니다."
      ],
      "id": "d4defd01-b776-4c31-8847-115847465e53"
    },
    {
      "cell_type": "code",
      "execution_count": 52,
      "metadata": {},
      "outputs": [],
      "source": [
        "dataset # 데이터셋 이름"
      ],
      "id": "57f1dc7e-5868-49be-b371-38f551c13573"
    },
    {
      "cell_type": "code",
      "execution_count": 53,
      "metadata": {},
      "outputs": [],
      "source": [
        "len(dataset) # 이 데이터셋에는 600개의 그래프가 있음"
      ],
      "id": "4b42e7d9-4725-4a34-bfcb-06a942e7aed2"
    },
    {
      "cell_type": "code",
      "execution_count": 54,
      "metadata": {},
      "outputs": [],
      "source": [
        "dataset.num_classes # 6개의 클래스"
      ],
      "id": "1f772fd1-b5e8-4542-888e-efef58366e65"
    },
    {
      "cell_type": "code",
      "execution_count": 55,
      "metadata": {},
      "outputs": [],
      "source": [
        "dataset.num_node_features # 각 노드에는 3개의 피처가 있음"
      ],
      "id": "59b544ec-79b6-4e77-97b4-e2e24b43725a"
    },
    {
      "cell_type": "markdown",
      "metadata": {},
      "source": [
        "`-` 600개의 그래프중 첫번째 그래프에 접근"
      ],
      "id": "fa4d14a5-7c7a-4e53-b344-e39b460c3da2"
    },
    {
      "cell_type": "code",
      "execution_count": 56,
      "metadata": {},
      "outputs": [],
      "source": [
        "dataset[0]"
      ],
      "id": "ab48126a-2513-488d-8d31-d920aa865056"
    },
    {
      "cell_type": "markdown",
      "metadata": {},
      "source": [
        "-   `x=[37, 3]`: $|{\\cal V}|=37$, $f \\in \\mathbb{R}^3$\n",
        "-   `edge_index=[2, 168]`: $|{\\cal E}|=168$\n",
        "\n",
        "## Train/Test 분리\n",
        "\n",
        "`-` 600개의 그래프중 540를 train으로, 60개를 test로"
      ],
      "id": "ddd44dc6-0aeb-408c-a926-033e528daa57"
    },
    {
      "cell_type": "code",
      "execution_count": 57,
      "metadata": {},
      "outputs": [],
      "source": [
        "train_dataset = dataset[:540]\n",
        "test_dataset = dataset[540:] "
      ],
      "id": "2379c5bd-8f66-499f-91e3-880ad33514a6"
    },
    {
      "cell_type": "markdown",
      "metadata": {},
      "source": [
        "# **데이터셋2**: Cora\n",
        "\n",
        "`-` 다운로드"
      ],
      "id": "7fb68d73-4d29-45a5-84ef-6bc3f811cea3"
    },
    {
      "cell_type": "code",
      "execution_count": 58,
      "metadata": {},
      "outputs": [],
      "source": [
        "dataset = torch_geometric.datasets.Planetoid(root='/tmp/Cora', name='Cora')"
      ],
      "id": "7f9ae772-5fc5-423e-846b-5fb51e102d0a"
    },
    {
      "cell_type": "markdown",
      "metadata": {},
      "source": [
        "## 정보\n",
        "\n",
        "> ChatGPT: Cora는 그래프 분류를 위한 벤치마크 데이터셋 중 하나로,\n",
        "> PyG에서도 사용할 수 있습니다. 이 데이터셋은 기계 학습 및 정보 검색\n",
        "> 분야에서 널리 사용되는 학술 논문들의 인용 네트워크를 나타냅니다. Cora\n",
        "> 데이터셋은 컴퓨터 과학 분야의 논문을 대상으로 합니다. 각 논문은\n",
        "> 그래프의 노드로 표현되며, 노드는 논문을 나타냅니다. 노드 간의 엣지는\n",
        "> 논문들 사이의 인용 관계를 나타냅니다. 따라서 Cora 데이터셋은 논문의\n",
        "> 텍스트 기반 정보와 인용 관계에 대한 그래프 구조를 제공합니다. Cora\n",
        "> 데이터셋은 7개의 클래스로 분류되며, 각 논문은 특성 벡터(feature\n",
        "> vector)로 표현됩니다. 이 특성 벡터에는 논문의 단어 등 다양한 정보가\n",
        "> 포함될 수 있습니다. PyG를 사용하여 Cora 데이터셋을 초기화하면 해당\n",
        "> 데이터셋을 다운로드하고 전처리를 자동으로 수행할 수 있습니다. 이를\n",
        "> 통해 머신 러닝 모델을 훈련시켜 Cora 데이터셋의 논문을 분류하거나\n",
        "> 다양한 작업을 수행할 수 있습니다.\n",
        "\n",
        "`-` 기본정보"
      ],
      "id": "f54ee14d-e04c-431e-bcdc-89a52c27cf4f"
    },
    {
      "cell_type": "code",
      "execution_count": 59,
      "metadata": {},
      "outputs": [],
      "source": [
        "len(dataset) # 하나의 그래프가 있음"
      ],
      "id": "35e4b3de-a51d-43ee-83ae-461712c19fbf"
    },
    {
      "cell_type": "code",
      "execution_count": 60,
      "metadata": {},
      "outputs": [],
      "source": [
        "dataset.num_classes # 7개의 클래스가 있음"
      ],
      "id": "9089adaa-9ece-43fa-9505-7d7c7b132dd3"
    },
    {
      "cell_type": "code",
      "execution_count": 61,
      "metadata": {},
      "outputs": [],
      "source": [
        "dataset.num_node_features # 각 노드는 1433개의 특징이 있음. (논문에 포함된 단어등 다양한 특성이 담겨있을 수 있음) "
      ],
      "id": "6c422e0a-1146-46c8-802a-bd11e0acc575"
    },
    {
      "cell_type": "markdown",
      "metadata": {},
      "source": [
        "`-` 그래프에 접근"
      ],
      "id": "1f15433d-14d3-4940-acda-6987c323e610"
    },
    {
      "cell_type": "code",
      "execution_count": 62,
      "metadata": {},
      "outputs": [],
      "source": [
        "dataset[0] # 기본정보"
      ],
      "id": "e1d98fb9-5a93-46a5-a1b6-af3de814d907"
    },
    {
      "cell_type": "markdown",
      "metadata": {},
      "source": [
        "-   `x=[2708, 1433]`: 2708개의 논문이 있고, 각 논문은 1433개의\n",
        "    특징벡터들로 이루어져 있음.\n",
        "-   `edge_index=[2, 10556]`: 논문간의 인용은 약 10556.\n",
        "-   `y=[2708]`:"
      ],
      "id": "eb0a16ec-99e7-47aa-a1dc-71ae97d31c18"
    },
    {
      "cell_type": "code",
      "execution_count": 63,
      "metadata": {},
      "outputs": [],
      "source": [
        "dataset[0].x.shape # 2708개의 논문이 있고 1433개의 특징벡터를 가짐"
      ],
      "id": "436474ec-7250-4610-84ec-caacf8853d3b"
    },
    {
      "cell_type": "code",
      "execution_count": 64,
      "metadata": {},
      "outputs": [],
      "source": [
        "dataset[0].y.unique() # 논문이 7개의 카테고리로 분류되는듯"
      ],
      "id": "d0c250ef-e847-4e1f-9ae8-19a0ddef9d1e"
    },
    {
      "cell_type": "markdown",
      "metadata": {},
      "source": [
        "## Train/Test (이미 분리되어 있음)"
      ],
      "id": "dd770b7d-a3bf-400c-8572-1efc0b32705d"
    },
    {
      "cell_type": "code",
      "execution_count": 65,
      "metadata": {},
      "outputs": [],
      "source": [
        "dataset[0].train_mask \n",
        "# dataset[0].train_mask 는 True, False로 이루어져 있는 길이가 2708(=노드수=논문수)인 벡터\n",
        "# 여기에서 True인 노드만 훈련함"
      ],
      "id": "e3923c51-1f7f-4205-87ac-4af46365c3dc"
    },
    {
      "cell_type": "code",
      "execution_count": 66,
      "metadata": {},
      "outputs": [],
      "source": [
        "dataset[0].train_mask.sum() # 140개의 노드만 훈련함? "
      ],
      "id": "761a6f50-4939-4057-9ff1-3f4d56b9bae6"
    },
    {
      "cell_type": "code",
      "execution_count": 67,
      "metadata": {},
      "outputs": [],
      "source": [
        "dataset[0].val_mask.sum() # val은 500개의 노드?"
      ],
      "id": "626b07ac-c260-462e-bf2c-f9f654f1c292"
    },
    {
      "cell_type": "code",
      "execution_count": 68,
      "metadata": {},
      "outputs": [],
      "source": [
        "dataset[0].test_mask.sum() # test set은 1000?"
      ],
      "id": "b879ba06-4139-4552-90ee-1092a2dfafa2"
    },
    {
      "cell_type": "code",
      "execution_count": 69,
      "metadata": {},
      "outputs": [],
      "source": [
        "dataset.edge_index"
      ],
      "id": "89cfc555-002f-491b-a28b-6de823670562"
    },
    {
      "cell_type": "code",
      "execution_count": 94,
      "metadata": {},
      "outputs": [],
      "source": [
        "pd.DataFrame(dataset[0].train_mask)[0].eq('True')"
      ],
      "id": "e4fac633-b221-47e3-8321-2aada6d22c5c"
    }
  ],
  "nbformat": 4,
  "nbformat_minor": 5,
  "metadata": {
    "kernelspec": {
      "name": "python3",
      "display_name": "Python 3",
      "language": "python"
    },
    "language_info": {
      "name": "python",
      "codemirror_mode": {
        "name": "ipython",
        "version": "3"
      },
      "file_extension": ".py",
      "mimetype": "text/x-python",
      "nbconvert_exporter": "python",
      "pygments_lexer": "ipython3",
      "version": "3.8.0"
    }
  }
}
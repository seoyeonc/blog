{
 "cells": [
  {
   "cell_type": "raw",
   "id": "1934ef7b-8352-4030-a98d-ecc9a76ed224",
   "metadata": {
    "id": "cac470df-29e7-4148-9bbd-d8b9a32fa570",
    "tags": []
   },
   "source": [
    "---\n",
    "title: \"**[ANOMALOUS]**Graph\"\n",
    "author: \"SEOYEON CHOI\"\n",
    "date: \"2023-09-07\"\n",
    "---"
   ]
  },
  {
   "cell_type": "markdown",
   "id": "0790d7e7-5cd5-4d0c-abaa-244f1e67a87e",
   "metadata": {},
   "source": [
    "# Reference"
   ]
  },
  {
   "cell_type": "markdown",
   "id": "efb6b603-b8fb-40fe-bd6b-c2190f63cbc9",
   "metadata": {},
   "source": [
    "[공식홈](https://docs.pygod.org/en/latest/generated/pygod.detector.ANOMALOUS.html)"
   ]
  },
  {
   "cell_type": "markdown",
   "id": "2e5c2ce2-1b56-4ba7-9596-2d44c9ce7d47",
   "metadata": {},
   "source": [
    "[paper](https://www.ijcai.org/Proceedings/2018/0488.pdf)"
   ]
  },
  {
   "cell_type": "markdown",
   "id": "06aa2616-755a-4c12-b507-0a4171153ef7",
   "metadata": {},
   "source": [
    "[교수님께서 알려주신 사이트](https://pycaret.gitbook.io/docs/get-started/quickstart#anomaly-detection)"
   ]
  },
  {
   "cell_type": "markdown",
   "id": "bc8445d2-308d-4652-b05f-4474ac088bc7",
   "metadata": {},
   "source": [
    "`Summary`\n",
    "\n",
    "- 노드당 매핑된 속성(attribute)으로 이상치를 계산해낸다.\n",
    "- 그래서 속성 특징마다 나오는 이상치라고 칭하는 노드가 다른 것 같다.\n",
    "- 노드 정보와 네트워크를 기반으로 rare하거나 상당히 differ한 인스턴스 집합 찾는 것을 목표로 한다.\n",
    "- there may exist some outlying attributes that do not satisfy the Homophily hypothesis\n",
    "    - Homophily hypothesis을 만족하지 않는 어떤 outlying attributes가 존재하며 이것이 이상치로 생각한다."
   ]
  },
  {
   "cell_type": "markdown",
   "id": "d7b3645e-b292-438e-8fd0-e93c09f2f233",
   "metadata": {},
   "source": [
    "[데이터셋 논문](https://arxiv.org/pdf/1603.08861.pdf)"
   ]
  },
  {
   "cell_type": "markdown",
   "id": "04d66a03-86ad-4c1e-ac39-800b7520535d",
   "metadata": {},
   "source": [
    "|Abbr|Year|Backbone|Sampling|Class|\n",
    "|:--:|:--:|:--:|:--:|:--:|\n",
    "|SCAN|2007|Clustering|No|pygod.detector.SCAN|\n",
    "|GAE|2016|GNN+AE|Yes|pygod.detector.GAE|\n",
    "|Radar|2017|MF|No|pygod.detector.Radar|\n",
    "|ANOMALOUS|2018|MF|No|pygod.detector.ANOMALOUS|\n",
    "|ONE|2019|MF|No|pygod.detector.ONE|\n",
    "|DOMINANT|2019|GNN+AE|Yes|pygod.detector.DOMINANT|\n",
    "|DONE|2020|MLP+AE|Yes|pygod.detector.DONE|\n",
    "|AdONE|2020|MLP+AE|Yes|pygod.detector.AdONE|\n",
    "|AnomalyDAE|2020|GNN+AE|Yes|pygod.detector.AnomalyDAE|\n",
    "|GAAN|2020|GAN|Yes|pygod.detector.GAAN|\n",
    "|OCGNN|2021|GNN|Yes|pygod.detector.OCGNN|\n",
    "|CoLA|2021|GNN+AE+SSL|Yes|pygod.detector.CoLA|\n",
    "|GUIDE|2021|GNN+AE|Yes|pygod.detector.GUIDE|\n",
    "|CONAD|2022|GNN+AE+SSL|Yes|pygod.detector.CONAD|"
   ]
  },
  {
   "cell_type": "markdown",
   "id": "69249c97-8c1e-4a89-b2df-4e254495df6c",
   "metadata": {},
   "source": [
    "# Import"
   ]
  },
  {
   "cell_type": "code",
   "execution_count": 206,
   "id": "87e45f07-3c6b-48d0-961b-f4b290b669a0",
   "metadata": {},
   "outputs": [],
   "source": [
    "import pygod\n",
    "import numpy as np\n",
    "import torch_geometric.transforms as T\n",
    "from torch_geometric.datasets import Planetoid\n",
    "\n",
    "import torch\n",
    "from pygod.generator import gen_contextual_outlier, gen_structural_outlier\n",
    "\n",
    "from pygod.utils import load_data\n",
    "\n",
    "from pygod.metric import eval_roc_auc\n",
    "\n",
    "from pygod.detector import SCAN, GAE, Radar, ANOMALOUS, ONE, DOMINANT, DONE, AdONE, AnomalyDAE, GAAN, OCGNN, CoLA, GUIDE, CONAD"
   ]
  },
  {
   "cell_type": "markdown",
   "id": "9f2f4d5a-f6fd-44b4-888c-6eeb157c38a5",
   "metadata": {},
   "source": [
    "# Tutorial"
   ]
  },
  {
   "cell_type": "code",
   "execution_count": 105,
   "id": "2942b1ea-4c11-4f31-ab95-68ec618a993a",
   "metadata": {},
   "outputs": [],
   "source": [
    "data = Planetoid('./data/Cora', 'Cora', transform=T.NormalizeFeatures())[0]"
   ]
  },
  {
   "cell_type": "code",
   "execution_count": 106,
   "id": "cd198673-2875-44f7-9fd0-0349470b3142",
   "metadata": {},
   "outputs": [
    {
     "data": {
      "text/plain": [
       "Data(x=[2708, 1433], edge_index=[2, 10556], y=[2708], train_mask=[2708], val_mask=[2708], test_mask=[2708])"
      ]
     },
     "execution_count": 106,
     "metadata": {},
     "output_type": "execute_result"
    }
   ],
   "source": [
    "data"
   ]
  },
  {
   "cell_type": "markdown",
   "id": "edadd2ff-c9a2-4c7a-b5c9-07ec557d6035",
   "metadata": {},
   "source": [
    "`gen_contextual_outlier`의 역할: Generating contextual outliers\n",
    "\n",
    "- 임의로 선택한 노드 중 그 노드들끼리 얼마나 떨어져 있나?"
   ]
  },
  {
   "cell_type": "code",
   "execution_count": 107,
   "id": "3cce0873-8fa0-4cf9-b2a1-5e42fe004692",
   "metadata": {},
   "outputs": [],
   "source": [
    "data, ya = gen_contextual_outlier(data, n=100, k=50)"
   ]
  },
  {
   "cell_type": "code",
   "execution_count": 108,
   "id": "3a565e1e-29f2-42c6-b8a6-9720dadbe4ea",
   "metadata": {},
   "outputs": [
    {
     "data": {
      "text/plain": [
       "tensor([0, 0, 0,  ..., 0, 0, 0])"
      ]
     },
     "execution_count": 108,
     "metadata": {},
     "output_type": "execute_result"
    }
   ],
   "source": [
    "ya"
   ]
  },
  {
   "cell_type": "code",
   "execution_count": 109,
   "id": "5ccae2fc-f84a-499b-a6b7-72c05b1f1705",
   "metadata": {},
   "outputs": [
    {
     "data": {
      "text/plain": [
       "100"
      ]
     },
     "execution_count": 109,
     "metadata": {},
     "output_type": "execute_result"
    }
   ],
   "source": [
    "len(sum(np.where(ya==1)))"
   ]
  },
  {
   "cell_type": "code",
   "execution_count": 110,
   "id": "a4e73824-4cb2-4e69-8f59-b1797d12526a",
   "metadata": {},
   "outputs": [
    {
     "data": {
      "text/plain": [
       "2608"
      ]
     },
     "execution_count": 110,
     "metadata": {},
     "output_type": "execute_result"
    }
   ],
   "source": [
    "len(sum(np.where(ya==0)))"
   ]
  },
  {
   "cell_type": "code",
   "execution_count": 111,
   "id": "148259e2-4eb2-42c1-8534-036713b54b75",
   "metadata": {},
   "outputs": [
    {
     "data": {
      "text/plain": [
       "2708"
      ]
     },
     "execution_count": 111,
     "metadata": {},
     "output_type": "execute_result"
    }
   ],
   "source": [
    "len(ya)"
   ]
  },
  {
   "cell_type": "markdown",
   "id": "f0f12bca-3934-4880-a762-a90fb2cb32f4",
   "metadata": {},
   "source": [
    "`gen_structural_outlier`의 역할: Generating structural outliers\n",
    "\n",
    "- 임의로 선택한 노드들이 fully connected 되어있을때 그 집단과 얼마나 많이 다른가??"
   ]
  },
  {
   "cell_type": "code",
   "execution_count": 112,
   "id": "9a871f24-4f1e-4d56-bea5-84909fd6555c",
   "metadata": {},
   "outputs": [],
   "source": [
    "data, ys = gen_structural_outlier(data, m=10, n=10)"
   ]
  },
  {
   "cell_type": "code",
   "execution_count": 113,
   "id": "a596bef8-f137-42a8-914f-5841f26a1008",
   "metadata": {},
   "outputs": [
    {
     "data": {
      "text/plain": [
       "tensor([0, 0, 0,  ..., 0, 0, 0])"
      ]
     },
     "execution_count": 113,
     "metadata": {},
     "output_type": "execute_result"
    }
   ],
   "source": [
    "ys"
   ]
  },
  {
   "cell_type": "code",
   "execution_count": 114,
   "id": "6bae7c81-251f-4ad4-ae8e-e0989f4e9624",
   "metadata": {},
   "outputs": [
    {
     "data": {
      "text/plain": [
       "100"
      ]
     },
     "execution_count": 114,
     "metadata": {},
     "output_type": "execute_result"
    }
   ],
   "source": [
    "len(sum(np.where(ys==1)))"
   ]
  },
  {
   "cell_type": "code",
   "execution_count": 115,
   "id": "b8615c84-042d-475e-969c-a1b088be0af2",
   "metadata": {},
   "outputs": [
    {
     "data": {
      "text/plain": [
       "2608"
      ]
     },
     "execution_count": 115,
     "metadata": {},
     "output_type": "execute_result"
    }
   ],
   "source": [
    "len(sum(np.where(ys==0)))"
   ]
  },
  {
   "cell_type": "code",
   "execution_count": 116,
   "id": "27603dd1-0483-4bf4-b5ea-7213739cdac7",
   "metadata": {},
   "outputs": [
    {
     "data": {
      "text/plain": [
       "2708"
      ]
     },
     "execution_count": 116,
     "metadata": {},
     "output_type": "execute_result"
    }
   ],
   "source": [
    "len(ys)"
   ]
  },
  {
   "cell_type": "markdown",
   "id": "d4fe44ea-bf91-4d11-a69b-66ad7ecc9382",
   "metadata": {},
   "source": [
    "위에서 찾은 이상치 간에 `torch.logical_or` 논리 or 생성"
   ]
  },
  {
   "cell_type": "code",
   "execution_count": 117,
   "id": "433cc066-3411-4f11-a496-fbbdbc53f6fc",
   "metadata": {},
   "outputs": [],
   "source": [
    "data.y = torch.logical_or(ys, ya).long()"
   ]
  },
  {
   "cell_type": "code",
   "execution_count": 118,
   "id": "0f55703c-1e46-4245-9f35-06c4c941de8c",
   "metadata": {},
   "outputs": [
    {
     "data": {
      "text/plain": [
       "tensor([0, 0, 0,  ..., 0, 0, 0])"
      ]
     },
     "execution_count": 118,
     "metadata": {},
     "output_type": "execute_result"
    }
   ],
   "source": [
    "data.y"
   ]
  },
  {
   "cell_type": "code",
   "execution_count": 119,
   "id": "65501742-651e-473a-99ba-88ef576d5268",
   "metadata": {},
   "outputs": [
    {
     "data": {
      "text/plain": [
       "197"
      ]
     },
     "execution_count": 119,
     "metadata": {},
     "output_type": "execute_result"
    }
   ],
   "source": [
    "len(sum(np.where(data.y==1)))"
   ]
  },
  {
   "cell_type": "code",
   "execution_count": 120,
   "id": "3b26863d-620b-452f-bb59-0672f02e1a6d",
   "metadata": {},
   "outputs": [
    {
     "data": {
      "text/plain": [
       "2511"
      ]
     },
     "execution_count": 120,
     "metadata": {},
     "output_type": "execute_result"
    }
   ],
   "source": [
    "len(sum(np.where(data.y==0)))"
   ]
  },
  {
   "cell_type": "code",
   "execution_count": 121,
   "id": "e07f564e-ff9a-4c74-a40e-361566a60db8",
   "metadata": {},
   "outputs": [
    {
     "data": {
      "text/plain": [
       "2708"
      ]
     },
     "execution_count": 121,
     "metadata": {},
     "output_type": "execute_result"
    }
   ],
   "source": [
    "len(data.y)"
   ]
  },
  {
   "cell_type": "markdown",
   "id": "2b81f7d0-bcc9-48a6-b5c3-3d329bee0a2a",
   "metadata": {},
   "source": [
    "load_data('inj_cora')에서 쓸 수 있는 데이터 [종류](https://github.com/pygod-team/data)"
   ]
  },
  {
   "cell_type": "code",
   "execution_count": 122,
   "id": "e38696a2-5d8d-4b74-875c-501ecb4ada30",
   "metadata": {},
   "outputs": [],
   "source": [
    "data = load_data('inj_cora')\n",
    "data.y = data.y.bool()"
   ]
  },
  {
   "cell_type": "markdown",
   "id": "43c57455-8052-45fe-ab77-9d5197fde216",
   "metadata": {},
   "source": [
    "For injected/generated datasets, the labels meanings are as follows.\n",
    "\n",
    "`-` 0: inlier\n",
    "\n",
    "`-` 1: contextual outlier only\n",
    "\n",
    "`-` 2: structural outlier only\n",
    "\n",
    "`-` 3: both contextual outlier and structural outlier\n",
    "\n",
    "Examples to convert the labels are as follows:\n",
    "\n",
    "```python\n",
    "y = data.y.bool()    # binary labels (inlier/outlier)\n",
    "yc = data.y >> 0 & 1 # contextual outliers\n",
    "ys = data.y >> 1 & 1 # structural outliers\n",
    "```"
   ]
  },
  {
   "cell_type": "code",
   "execution_count": 123,
   "id": "2b11c805-0097-4e0d-b943-545e073b5480",
   "metadata": {},
   "outputs": [
    {
     "data": {
      "text/plain": [
       "tensor([False, False, False,  ..., False, False, False])"
      ]
     },
     "execution_count": 123,
     "metadata": {},
     "output_type": "execute_result"
    }
   ],
   "source": [
    "data.y"
   ]
  },
  {
   "cell_type": "markdown",
   "id": "622d6831-ec7d-44d2-94fa-ee6caaf1d612",
   "metadata": {},
   "source": [
    "'ANOMALOUS' 함수 사용"
   ]
  },
  {
   "cell_type": "code",
   "execution_count": 124,
   "id": "4e84ff3a-518c-40fe-bb6b-63a91efe5ef5",
   "metadata": {},
   "outputs": [],
   "source": [
    "detector = ANOMALOUS(gamma=1.,\n",
    "                     weight_decay=0.,\n",
    "                     lr=0.01,\n",
    "                     epoch=50,\n",
    "                     gpu=-1,\n",
    "                     contamination=0.1,\n",
    "                     verbose=0)"
   ]
  },
  {
   "cell_type": "code",
   "execution_count": 125,
   "id": "779ac84b-41ac-49f2-be04-2c33d29698b8",
   "metadata": {},
   "outputs": [
    {
     "data": {
      "text/plain": [
       "ANOMALOUS(contamination=0.1, epoch=50, gamma=1.0, gpu=None, lr=0.01,\n",
       "          verbose=0, weight_decay=0.0)"
      ]
     },
     "execution_count": 125,
     "metadata": {},
     "output_type": "execute_result"
    }
   ],
   "source": [
    "detector.fit(data)"
   ]
  },
  {
   "cell_type": "markdown",
   "id": "9fec647e-9e24-4c6b-9081-acbc428e1843",
   "metadata": {},
   "source": [
    "```python\n",
    "class ANOMALOUSBase(nn.Module):\n",
    "    def __init__(self, w, r):\n",
    "        super(ANOMALOUSBase, self).__init__()\n",
    "        self.w = nn.Parameter(w)\n",
    "        self.r = nn.Parameter(r)\n",
    "\n",
    "    def forward(self, x):\n",
    "        return x @ self.w @ x, self.r\n",
    "```"
   ]
  },
  {
   "cell_type": "code",
   "execution_count": 126,
   "id": "9aed2ee9-9a64-420b-bf22-b9405855fc4e",
   "metadata": {},
   "outputs": [
    {
     "data": {
      "text/plain": [
       "tensor([0.0749, 0.0751, 0.0744,  ..., 0.0823, 0.0795, 0.0759])"
      ]
     },
     "execution_count": 126,
     "metadata": {},
     "output_type": "execute_result"
    }
   ],
   "source": [
    "detector.decision_function(data)"
   ]
  },
  {
   "cell_type": "markdown",
   "id": "800043fb-d7f2-4fb6-a285-b3e4bd733156",
   "metadata": {},
   "source": [
    "위에서 decision_function의 결과로 나오는 decision_score는 r의 제곱이며, 이 r은 model에서 나온 결과인데 이 model은 ANOMALOUSBase(w_init, r_init)의 결과이다.\n",
    "\n",
    "이 r_init은 ANOMALOUS class 내에 있는 x, s, l, w_init, r_init = self.process_graph(data) 여기서 나온다."
   ]
  },
  {
   "cell_type": "markdown",
   "id": "9c645a36-a636-446e-9067-ccbfd175a77f",
   "metadata": {},
   "source": [
    "`-` return되는 거는 순서대로 x, s, laplacian, w_init, r_init"
   ]
  },
  {
   "cell_type": "markdown",
   "id": "7b61a3aa-5b78-40fa-a0e0-bda6d153273a",
   "metadata": {},
   "source": [
    "`x`"
   ]
  },
  {
   "cell_type": "code",
   "execution_count": 127,
   "id": "091e98ad-bcaa-434b-9d9c-de3f6969a9f3",
   "metadata": {},
   "outputs": [
    {
     "data": {
      "text/plain": [
       "tensor([[0., 0., 0.,  ..., 0., 0., 0.],\n",
       "        [0., 0., 0.,  ..., 0., 0., 0.],\n",
       "        [0., 0., 0.,  ..., 0., 0., 0.],\n",
       "        ...,\n",
       "        [0., 0., 0.,  ..., 0., 0., 0.],\n",
       "        [0., 0., 0.,  ..., 0., 0., 0.],\n",
       "        [0., 0., 0.,  ..., 0., 0., 0.]])"
      ]
     },
     "execution_count": 127,
     "metadata": {},
     "output_type": "execute_result"
    }
   ],
   "source": [
    "detector.process_graph(data)[0]"
   ]
  },
  {
   "cell_type": "code",
   "execution_count": 128,
   "id": "167e6ea7-52fd-4119-af83-e2d5c86ecbbb",
   "metadata": {},
   "outputs": [
    {
     "data": {
      "text/plain": [
       "torch.Size([2708, 1433])"
      ]
     },
     "execution_count": 128,
     "metadata": {},
     "output_type": "execute_result"
    }
   ],
   "source": [
    "detector.process_graph(data)[0].shape"
   ]
  },
  {
   "cell_type": "markdown",
   "id": "58b5d2f5-5e8c-403c-98cb-4a3dfe815c29",
   "metadata": {},
   "source": [
    "$X \\in \\mathbb{R}^{d \\times n}$"
   ]
  },
  {
   "cell_type": "markdown",
   "id": "ed1e97b0-c13d-4f73-9d1d-70819f496c93",
   "metadata": {},
   "source": [
    "2708 = `n` = the number of nodes\n",
    "\n",
    "1433 = `d` = dimensiotnalattribute"
   ]
  },
  {
   "cell_type": "markdown",
   "id": "130930c3-c9f2-45d4-892e-8a8f0ccd4967",
   "metadata": {},
   "source": [
    "`s`"
   ]
  },
  {
   "cell_type": "code",
   "execution_count": 129,
   "id": "ddb81d8d-89a0-4472-9cdc-1175b8be9dba",
   "metadata": {},
   "outputs": [
    {
     "data": {
      "text/plain": [
       "tensor([[0., 0., 0.,  ..., 0., 0., 0.],\n",
       "        [0., 0., 1.,  ..., 0., 0., 0.],\n",
       "        [0., 1., 0.,  ..., 0., 0., 0.],\n",
       "        ...,\n",
       "        [0., 0., 0.,  ..., 0., 0., 0.],\n",
       "        [0., 0., 0.,  ..., 0., 0., 1.],\n",
       "        [0., 0., 0.,  ..., 0., 1., 0.]])"
      ]
     },
     "execution_count": 129,
     "metadata": {},
     "output_type": "execute_result"
    }
   ],
   "source": [
    "detector.process_graph(data)[1]"
   ]
  },
  {
   "cell_type": "code",
   "execution_count": 130,
   "id": "f531a45e-aaa4-4c15-99f1-5a390c00e7bf",
   "metadata": {},
   "outputs": [
    {
     "data": {
      "text/plain": [
       "torch.Size([2708, 2708])"
      ]
     },
     "execution_count": 130,
     "metadata": {},
     "output_type": "execute_result"
    }
   ],
   "source": [
    "detector.process_graph(data)[1].shape"
   ]
  },
  {
   "cell_type": "markdown",
   "id": "19ea853d-985c-4b68-8f5b-7755866376cb",
   "metadata": {},
   "source": [
    "$A \\in \\mathbb{R}^{n \\times n}$"
   ]
  },
  {
   "cell_type": "markdown",
   "id": "c8ef6caa-b744-4080-a068-8db7edc94ab1",
   "metadata": {},
   "source": [
    "`laplacian`"
   ]
  },
  {
   "cell_type": "code",
   "execution_count": 131,
   "id": "e58f32eb-6b2a-46a6-91ad-19d9553f0622",
   "metadata": {},
   "outputs": [
    {
     "data": {
      "text/plain": [
       "tensor([[ 3.,  0.,  0.,  ...,  0.,  0.,  0.],\n",
       "        [ 0.,  3., -1.,  ...,  0.,  0.,  0.],\n",
       "        [ 0., -1.,  5.,  ...,  0.,  0.,  0.],\n",
       "        ...,\n",
       "        [ 0.,  0.,  0.,  ...,  1.,  0.,  0.],\n",
       "        [ 0.,  0.,  0.,  ...,  0.,  4., -1.],\n",
       "        [ 0.,  0.,  0.,  ...,  0., -1.,  4.]])"
      ]
     },
     "execution_count": 131,
     "metadata": {},
     "output_type": "execute_result"
    }
   ],
   "source": [
    "detector.process_graph(data)[2]"
   ]
  },
  {
   "cell_type": "code",
   "execution_count": 132,
   "id": "25e84ae3-27b2-4211-9e32-9feb7becc38a",
   "metadata": {},
   "outputs": [
    {
     "data": {
      "text/plain": [
       "torch.Size([2708, 2708])"
      ]
     },
     "execution_count": 132,
     "metadata": {},
     "output_type": "execute_result"
    }
   ],
   "source": [
    "detector.process_graph(data)[2].shape"
   ]
  },
  {
   "cell_type": "markdown",
   "id": "bd7f89ab-fd14-4644-a79f-e2fcc42ba853",
   "metadata": {},
   "source": [
    "`generated Laplacian`"
   ]
  },
  {
   "cell_type": "markdown",
   "id": "852994bb-db48-44cf-b7cd-9888da3f5387",
   "metadata": {},
   "source": [
    "$\\tilde{R} L \\tilde{R}^T$"
   ]
  },
  {
   "cell_type": "markdown",
   "id": "da0e997f-732e-4716-8bf6-2abb8ff889d9",
   "metadata": {},
   "source": [
    "`w_init`"
   ]
  },
  {
   "cell_type": "code",
   "execution_count": 133,
   "id": "23d97e3d-bd94-435b-ad47-fc8674363726",
   "metadata": {},
   "outputs": [
    {
     "data": {
      "text/plain": [
       "tensor([[-1.2653, -0.4034, -0.9538,  ...,  0.0590, -0.5046,  1.3625],\n",
       "        [-0.9114, -1.7293, -1.7256,  ..., -0.9320,  0.3895, -1.3825],\n",
       "        [ 0.1706, -1.8746, -0.8415,  ..., -0.7066, -0.5898,  1.0048],\n",
       "        ...,\n",
       "        [-0.1567,  1.4902,  0.2324,  ...,  0.0361, -1.5853,  1.7065],\n",
       "        [ 0.5649, -0.7216,  0.2013,  ...,  0.8480, -1.6625,  2.0873],\n",
       "        [-1.3831, -0.5322,  1.8749,  ..., -0.9381, -1.3708,  0.5029]])"
      ]
     },
     "execution_count": 133,
     "metadata": {},
     "output_type": "execute_result"
    }
   ],
   "source": [
    "detector.process_graph(data)[3]"
   ]
  },
  {
   "cell_type": "code",
   "execution_count": 134,
   "id": "56896f1c-2b26-42e3-b4ba-5d69240e14fb",
   "metadata": {},
   "outputs": [
    {
     "data": {
      "text/plain": [
       "torch.Size([1433, 2708])"
      ]
     },
     "execution_count": 134,
     "metadata": {},
     "output_type": "execute_result"
    }
   ],
   "source": [
    "detector.process_graph(data)[3].shape"
   ]
  },
  {
   "cell_type": "markdown",
   "id": "536a98ac-0793-4ce8-bb7d-ab7d12dd7f56",
   "metadata": {},
   "source": [
    "`r_init`"
   ]
  },
  {
   "cell_type": "code",
   "execution_count": 135,
   "id": "89abc9c8-ab2a-49eb-8486-e0d89859635e",
   "metadata": {},
   "outputs": [
    {
     "data": {
      "text/plain": [
       "tensor([[1.1096e-04, 1.9785e-04, 4.0764e-04,  ..., 1.8104e-05, 6.9121e-03,\n",
       "         1.5390e-04],\n",
       "        [1.8015e-05, 4.5550e-05, 1.5299e-04,  ..., 1.6462e-05, 8.0427e-03,\n",
       "         4.3956e-05],\n",
       "        [3.6342e-05, 1.1395e-04, 3.9942e-04,  ..., 3.5643e-05, 1.8391e-03,\n",
       "         6.1595e-05],\n",
       "        ...,\n",
       "        [5.4851e-05, 1.2452e-04, 5.3171e-04,  ..., 1.6553e-05, 2.3374e-04,\n",
       "         2.9871e-05],\n",
       "        [2.3802e-04, 1.3623e-04, 5.8658e-04,  ..., 2.2358e-05, 1.6297e-04,\n",
       "         4.2289e-04],\n",
       "        [3.6244e-04, 1.9283e-04, 8.4447e-04,  ..., 3.0226e-05, 2.3002e-04,\n",
       "         6.4480e-04]])"
      ]
     },
     "execution_count": 135,
     "metadata": {},
     "output_type": "execute_result"
    }
   ],
   "source": [
    "detector.process_graph(data)[4]"
   ]
  },
  {
   "cell_type": "code",
   "execution_count": 136,
   "id": "91ec4b8f-dc2f-4e4b-bb82-f6b3e23e65af",
   "metadata": {},
   "outputs": [
    {
     "data": {
      "text/plain": [
       "torch.Size([2708, 1433])"
      ]
     },
     "execution_count": 136,
     "metadata": {},
     "output_type": "execute_result"
    }
   ],
   "source": [
    "detector.process_graph(data)[4].shape"
   ]
  },
  {
   "cell_type": "markdown",
   "id": "8e43b417-baef-4864-852d-001eee33b3ca",
   "metadata": {},
   "source": [
    "# Disney"
   ]
  },
  {
   "cell_type": "markdown",
   "id": "0b4729af-badb-47ab-bac2-980845dd354e",
   "metadata": {},
   "source": [
    "Disney dataset is a network of movies including many attributes such as ratings, prices and the number of reviews"
   ]
  },
  {
   "cell_type": "code",
   "execution_count": 186,
   "id": "e99a789e-288f-4690-87f1-fe88b7b48a50",
   "metadata": {},
   "outputs": [],
   "source": [
    "data = load_data('disney')\n",
    "data.y = data.y.bool()"
   ]
  },
  {
   "cell_type": "code",
   "execution_count": 187,
   "id": "7991511c-df52-4553-9191-3b83de5b21d1",
   "metadata": {},
   "outputs": [
    {
     "data": {
      "text/plain": [
       "tensor([False, False, False, False, False, False, False, False, False, False,\n",
       "        False, False, False, False, False, False, False, False,  True, False,\n",
       "        False, False, False, False, False, False, False, False, False, False,\n",
       "        False, False, False, False, False, False,  True, False, False, False,\n",
       "        False, False, False, False, False,  True, False, False, False, False,\n",
       "        False, False, False, False, False, False, False, False, False, False,\n",
       "        False, False, False, False, False, False,  True, False, False, False,\n",
       "        False, False, False, False, False, False, False, False, False, False,\n",
       "         True, False, False, False, False, False, False, False, False, False,\n",
       "        False, False, False, False, False, False, False, False, False, False,\n",
       "        False, False, False, False, False, False, False, False, False, False,\n",
       "        False, False, False, False, False, False, False, False, False, False,\n",
       "         True, False, False, False])"
      ]
     },
     "execution_count": 187,
     "metadata": {},
     "output_type": "execute_result"
    }
   ],
   "source": [
    "data.y"
   ]
  },
  {
   "cell_type": "code",
   "execution_count": 188,
   "id": "9affbd72-cf38-4e0e-83e0-ea28d55ace3e",
   "metadata": {},
   "outputs": [
    {
     "data": {
      "text/plain": [
       "tensor(6)"
      ]
     },
     "execution_count": 188,
     "metadata": {},
     "output_type": "execute_result"
    }
   ],
   "source": [
    "sum(data.y*1)"
   ]
  },
  {
   "cell_type": "code",
   "execution_count": 189,
   "id": "30a05e35-9499-49a6-9ab3-37c9aec8fb01",
   "metadata": {},
   "outputs": [
    {
     "data": {
      "text/plain": [
       "Data(x=[124, 28], edge_index=[2, 335], y=[124])"
      ]
     },
     "execution_count": 189,
     "metadata": {},
     "output_type": "execute_result"
    }
   ],
   "source": [
    "data"
   ]
  },
  {
   "cell_type": "code",
   "execution_count": 205,
   "id": "9385580b-3748-44dc-be4a-0989b27dc25f",
   "metadata": {},
   "outputs": [
    {
     "data": {
      "text/plain": [
       "[{'x': tensor([[ 2.4900e+00,  2.8000e-01,  3.0000e+00,  ...,  2.0000e+00,\n",
       "          -1.0000e+00,  1.7333e-01],\n",
       "         [ 1.0000e-02,  2.3529e-01,  5.0000e+00,  ...,  4.0000e+00,\n",
       "          -1.0000e+00,  8.8235e-02],\n",
       "         [ 6.3200e+00,  8.1633e-02,  5.0000e+00,  ...,  5.0000e+00,\n",
       "           1.0000e+00,  1.0204e-01],\n",
       "         ...,\n",
       "         [ 1.6450e+01,  1.2685e-02,  4.0000e+00,  ...,  4.0000e+00,\n",
       "           5.0000e+00,  6.3425e-03],\n",
       "         [ 3.0640e+01,  1.1806e-01,  5.0000e+00,  ...,  4.0000e+00,\n",
       "           5.0000e+00,  1.0417e-01],\n",
       "         [ 6.2800e+00,  2.7778e-01,  4.0000e+00,  ...,  5.0000e+00,\n",
       "          -1.0000e+00,  1.1111e-01]]), 'edge_index': tensor([[ 17,  20,  28,  30,  47,  51,  63,  78,  18,  27,  56,  84,  85,  87,\n",
       "           31,  45,  50,  36,  89,   0,  51,  54,  57,  70,  72,  74,  77,   5,\n",
       "           45,  46,  50,  95,  12,  59,  64,  71,  76,  73,   6,  44,  67, 103,\n",
       "          107,   4,  34,  13,  17,   3,  29,  31,  38,  52,  58,  60,  79, 121,\n",
       "            4,  26,  73,  92, 115,  21,  29,  31,  58,  96,  51,  38,  52,  79,\n",
       "           20,  32,  97, 110,  19,  22,  23,  73,  15,  73,  37,  60,  17, 109,\n",
       "           24,  52,   5,  25,  45,  50,  95,  42,  96,  25,  45,  48,  95,  47,\n",
       "           12,  22,  23,  62,  63,  68,  69,  99, 108, 115, 121, 122,  58,  10,\n",
       "           48,  59,  64,  71,  76, 112, 118,  99, 115,  78,  65, 112,   5,   7,\n",
       "            9,  25,  45,  46,  50,   6,  14,   6,  66,  83,  10,  12,  61,  71,\n",
       "          123,   0,  77,  12,  48,  59,  64,  76,  95,   4,  23,   1,  17,  28,\n",
       "           30,  47,  51,  59,  13,  73,   0,   1,   8,  32,  39,  41,  72,  74,\n",
       "           77,  91, 100, 101, 105, 110,  82,  18,  27,  56,  85,  88,  18,  27,\n",
       "           87,  56,   2,  56,  85,  87,  44,  93,   2,  18,  27,  56,  84,  85,\n",
       "           87,  88,   1,   8,  28,  40,  41,  47,  51,  53,  55,  86,  94, 113,\n",
       "          119,  75,  11,  16,  53,  55,  80,  87,  52,  20,  39,  86, 101, 105,\n",
       "          106, 113,  22,  23,  39,  86,  98, 101, 105, 109, 113,   1,  30,  32,\n",
       "           39,  41,  70,  86, 105, 106, 110, 113,   1,   8,  17,  20,  28,  39,\n",
       "           47,  53,  54,  55,  72,  74,  81,  86,  91,  94,  98, 100, 101, 105,\n",
       "          106, 109, 113, 119,   7,  48,  89,  93,  95,  97,  98, 101, 106,  41,\n",
       "           15,  72,  91, 104,   9,  10,  12,  25,  33,  50,  59,  62,  65,  71,\n",
       "           76, 108, 116, 118, 122,  13,  20,  26,  92,  33,  43, 118,  11,  15,\n",
       "           16,  40,  53,  55,  94, 119,  11,  16,  40,  80,  94,  22,  23,  62,\n",
       "           78, 108, 120,   0,   8,  10,  57,  61,  66,  70,  77, 106, 112],\n",
       "         [  1,   1,   1,   1,   1,   1,   1,   1,   2,   2,   2,   2,   2,   2,\n",
       "            3,   5,   5,   6,   7,   8,   8,   8,   8,   8,   8,   8,   8,   9,\n",
       "            9,   9,   9,   9,  10,  10,  10,  10,  12,  13,  14,  14,  14,  14,\n",
       "           14,  15,  15,  20,  20,  21,  21,  21,  21,  21,  21,  21,  21,  21,\n",
       "           22,  22,  22,  22,  22,  24,  24,  24,  24,  24,  28,  29,  29,  29,\n",
       "           30,  30,  30,  30,  33,  34,  34,  34,  35,  35,  38,  38,  39,  39,\n",
       "           42,  42,  46,  46,  46,  46,  48,  49,  49,  50,  50,  50,  50,  51,\n",
       "           54,  54,  54,  54,  54,  54,  54,  54,  54,  54,  54,  54,  60,  61,\n",
       "           61,  61,  61,  61,  61,  61,  61,  62,  62,  63,  64,  64,  65,  65,\n",
       "           65,  65,  65,  65,  65,  66,  66,  67,  67,  67,  69,  69,  69,  69,\n",
       "           69,  70,  70,  71,  71,  71,  71,  71,  71,  73,  73,  74,  74,  74,\n",
       "           74,  74,  74,  76,  78,  78,  81,  81,  81,  81,  81,  81,  81,  81,\n",
       "           81,  81,  81,  81,  81,  81,  83,  84,  84,  84,  84,  84,  85,  85,\n",
       "           85,  87,  88,  88,  88,  88,  89,  89,  90,  90,  90,  90,  90,  90,\n",
       "           90,  90,  91,  91,  91,  91,  91,  91,  91,  91,  91,  91,  91,  91,\n",
       "           91,  93,  94,  94,  94,  94,  94,  94,  96,  98,  98,  98,  98,  98,\n",
       "           98,  98,  99,  99, 100, 100, 100, 100, 100, 100, 100, 101, 101, 101,\n",
       "          101, 101, 101, 101, 101, 101, 101, 101, 102, 102, 102, 102, 102, 102,\n",
       "          102, 102, 102, 102, 102, 102, 102, 102, 102, 102, 102, 102, 102, 102,\n",
       "          102, 102, 102, 102, 103, 103, 103, 103, 103, 109, 109, 109, 109, 110,\n",
       "          111, 111, 111, 111, 112, 112, 112, 112, 112, 112, 112, 112, 112, 112,\n",
       "          112, 112, 112, 112, 112, 113, 113, 113, 113, 114, 116, 116, 117, 117,\n",
       "          117, 117, 117, 117, 117, 117, 119, 119, 119, 119, 119, 122, 122, 122,\n",
       "          122, 122, 122, 123, 123, 123, 123, 123, 123, 123, 123, 123, 123]]), 'y': tensor([False, False, False, False, False, False, False, False, False, False,\n",
       "         False, False, False, False, False, False, False, False,  True, False,\n",
       "         False, False, False, False, False, False, False, False, False, False,\n",
       "         False, False, False, False, False, False,  True, False, False, False,\n",
       "         False, False, False, False, False,  True, False, False, False, False,\n",
       "         False, False, False, False, False, False, False, False, False, False,\n",
       "         False, False, False, False, False, False,  True, False, False, False,\n",
       "         False, False, False, False, False, False, False, False, False, False,\n",
       "          True, False, False, False, False, False, False, False, False, False,\n",
       "         False, False, False, False, False, False, False, False, False, False,\n",
       "         False, False, False, False, False, False, False, False, False, False,\n",
       "         False, False, False, False, False, False, False, False, False, False,\n",
       "          True, False, False, False])}]"
      ]
     },
     "execution_count": 205,
     "metadata": {},
     "output_type": "execute_result"
    }
   ],
   "source": [
    "data.stores"
   ]
  },
  {
   "cell_type": "markdown",
   "id": "761adb16-ef20-4406-850b-f677a9826494",
   "metadata": {},
   "source": [
    "- node = 124\n",
    "- ratio of anomalous = 4.8%"
   ]
  },
  {
   "cell_type": "code",
   "execution_count": 177,
   "id": "678f2a7c-5a8c-4dee-a357-aae7bfd98f61",
   "metadata": {},
   "outputs": [
    {
     "data": {
      "text/plain": [
       "ANOMALOUS(contamination=0.1, epoch=50, gamma=1.0, gpu=None, lr=0.01,\n",
       "          verbose=0, weight_decay=0.0)"
      ]
     },
     "execution_count": 177,
     "metadata": {},
     "output_type": "execute_result"
    }
   ],
   "source": [
    "detector.fit(data)"
   ]
  },
  {
   "cell_type": "code",
   "execution_count": 184,
   "id": "e1044054-c3e1-4181-aa8e-6efaa407d502",
   "metadata": {},
   "outputs": [
    {
     "data": {
      "text/plain": [
       "tensor([0, 0, 0, 0, 0, 0, 0, 0, 0, 0, 0, 0, 0, 0, 0, 0, 1, 0, 0, 1, 1, 0, 0, 0,\n",
       "        0, 0, 0, 1, 1, 0, 0, 0, 1, 0, 0, 0, 0, 0, 0, 0, 0, 0, 0, 0, 0, 1, 0, 0,\n",
       "        0, 0, 0, 0, 0, 0, 0, 1, 0, 0, 0, 0, 0, 0, 0, 0, 0, 0, 0, 0, 0, 0, 0, 0,\n",
       "        0, 0, 0, 0, 0, 0, 0, 0, 0, 0, 0, 0, 1, 1, 0, 0, 0, 0, 0, 0, 0, 0, 0, 0,\n",
       "        0, 1, 0, 0, 0, 0, 0, 0, 0, 0, 0, 0, 0, 0, 0, 0, 0, 0, 0, 0, 1, 1, 0, 0,\n",
       "        0, 0, 0, 0])"
      ]
     },
     "execution_count": 184,
     "metadata": {},
     "output_type": "execute_result"
    }
   ],
   "source": [
    "detector.label_"
   ]
  },
  {
   "cell_type": "code",
   "execution_count": 179,
   "id": "11d9d639-4a53-49fe-bd05-0031a532b46d",
   "metadata": {},
   "outputs": [
    {
     "data": {
      "text/plain": [
       "tensor([1.1502e+08, 1.5140e+08, 1.5849e+08, 3.0639e+07, 6.9793e+07, 1.5558e+08,\n",
       "        6.0195e+07, 9.2430e+07, 1.1318e+08, 1.7366e+08, 1.3270e+08, 1.2029e+08,\n",
       "        1.1478e+08, 1.1221e+08, 9.5897e+07, 1.4153e+08, 2.7506e+08, 1.5072e+08,\n",
       "        1.4729e+08, 3.5039e+08, 2.3370e+08, 6.9244e+07, 1.0182e+08, 9.7996e+07,\n",
       "        7.4355e+07, 1.1415e+08, 2.1775e+08, 2.3359e+08, 2.6848e+08, 1.6824e+08,\n",
       "        1.9349e+08, 3.4573e+07, 4.0007e+08, 1.1317e+08, 8.1302e+07, 5.4817e+07,\n",
       "        3.6394e+07, 9.3513e+07, 1.1712e+08, 2.2044e+08, 1.5104e+08, 1.7797e+08,\n",
       "        6.9800e+07, 7.5331e+07, 1.1465e+08, 2.2185e+08, 2.1044e+08, 1.0733e+08,\n",
       "        1.8577e+08, 8.5166e+07, 1.3704e+08, 1.1458e+08, 5.8756e+07, 1.2532e+08,\n",
       "        9.6446e+07, 2.2280e+08, 1.4341e+08, 1.7808e+08, 4.2757e+07, 1.3760e+08,\n",
       "        6.2580e+07, 1.0512e+08, 1.8225e+08, 6.8715e+07, 1.8648e+08, 1.7304e+08,\n",
       "        4.9309e+07, 4.1520e+07, 1.0575e+08, 8.5466e+07, 1.7412e+08, 1.2775e+08,\n",
       "        9.4960e+07, 6.6485e+07, 1.2649e+08, 5.0889e+07, 8.6175e+07, 9.2335e+07,\n",
       "        7.0100e+07, 1.3570e+08, 1.4953e+08, 1.4573e+08, 1.8496e+07, 4.9970e+07,\n",
       "        2.2909e+08, 2.6657e+08, 2.2142e+08, 1.5258e+08, 1.4487e+08, 6.1357e+07,\n",
       "        1.8315e+08, 1.6355e+08, 7.6684e+07, 4.0956e+07, 1.5472e+08, 1.7501e+08,\n",
       "        5.4015e+07, 4.4187e+08, 1.8220e+08, 1.0258e+08, 1.5745e+08, 1.6791e+08,\n",
       "        1.5197e+08, 9.3803e+07, 1.1776e+08, 1.9169e+08, 1.0869e+08, 9.8122e+07,\n",
       "        8.1909e+07, 1.5611e+08, 1.4555e+08, 1.0674e+08, 1.1985e+08, 1.3628e+08,\n",
       "        6.4720e+07, 1.2194e+08, 2.5340e+08, 2.5233e+08, 1.1018e+08, 1.6862e+08,\n",
       "        1.9417e+08, 1.2930e+08, 1.0061e+08, 1.0417e+08])"
      ]
     },
     "execution_count": 179,
     "metadata": {},
     "output_type": "execute_result"
    }
   ],
   "source": [
    "detector.decision_function(data)"
   ]
  },
  {
   "cell_type": "code",
   "execution_count": 166,
   "id": "83b26353-f3c5-4291-8a2a-bae4863c0835",
   "metadata": {},
   "outputs": [
    {
     "name": "stderr",
     "output_type": "stream",
     "text": [
      "/home/csy/anaconda3/envs/temp_csy/lib/python3.8/site-packages/pygod/detector/anomalous.py:111: UserWarning: This detector is transductive only. Training from scratch with the input data.\n",
      "  warnings.warn(\"This detector is transductive only. \"\n"
     ]
    },
    {
     "data": {
      "text/plain": [
       "torch.Size([124])"
      ]
     },
     "execution_count": 166,
     "metadata": {},
     "output_type": "execute_result"
    }
   ],
   "source": [
    "detector.decision_function(data).shape"
   ]
  },
  {
   "cell_type": "code",
   "execution_count": 170,
   "id": "d4d50b5f-a5d0-4707-8802-7dd9b2fd387d",
   "metadata": {},
   "outputs": [
    {
     "name": "stderr",
     "output_type": "stream",
     "text": [
      "/home/csy/anaconda3/envs/temp_csy/lib/python3.8/site-packages/pygod/detector/anomalous.py:111: UserWarning: This detector is transductive only. Training from scratch with the input data.\n",
      "  warnings.warn(\"This detector is transductive only. \"\n"
     ]
    },
    {
     "data": {
      "text/plain": [
       "tensor([0, 0, 0, 0, 0, 0, 0, 0, 0, 0, 0, 0, 0, 0, 0, 0, 1, 0, 0, 1, 1, 0, 0, 0,\n",
       "        0, 0, 0, 1, 1, 0, 0, 0, 1, 0, 0, 0, 0, 0, 0, 0, 0, 0, 0, 0, 0, 1, 0, 0,\n",
       "        0, 0, 0, 0, 0, 0, 0, 1, 0, 0, 0, 0, 0, 0, 0, 0, 0, 0, 0, 0, 0, 0, 0, 0,\n",
       "        0, 0, 0, 0, 0, 0, 0, 0, 0, 0, 0, 0, 1, 1, 0, 0, 0, 0, 0, 0, 0, 0, 0, 0,\n",
       "        0, 1, 0, 0, 0, 0, 0, 0, 0, 0, 0, 0, 0, 0, 0, 0, 0, 0, 0, 0, 1, 1, 0, 0,\n",
       "        0, 0, 0, 0])"
      ]
     },
     "execution_count": 170,
     "metadata": {},
     "output_type": "execute_result"
    }
   ],
   "source": [
    "detector.predict(data)"
   ]
  },
  {
   "cell_type": "code",
   "execution_count": 169,
   "id": "61088a1a-a65d-4b4d-a2c3-0c9131581814",
   "metadata": {},
   "outputs": [
    {
     "data": {
      "text/plain": [
       "tensor(13)"
      ]
     },
     "execution_count": 169,
     "metadata": {},
     "output_type": "execute_result"
    }
   ],
   "source": [
    "sum(detector.predict())"
   ]
  },
  {
   "cell_type": "code",
   "execution_count": null,
   "id": "b294f1b3-f4aa-4d8b-86c4-3aa3e2a56150",
   "metadata": {},
   "outputs": [],
   "source": []
  }
 ],
 "metadata": {
  "kernelspec": {
   "display_name": "Python 3",
   "language": "python",
   "name": "python3"
  },
  "language_info": {
   "codemirror_mode": {
    "name": "ipython",
    "version": 3
   },
   "file_extension": ".py",
   "mimetype": "text/x-python",
   "name": "python",
   "nbconvert_exporter": "python",
   "pygments_lexer": "ipython3",
   "version": "3.8.0"
  }
 },
 "nbformat": 4,
 "nbformat_minor": 5
}

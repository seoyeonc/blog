{
  "cells": [
    {
      "cell_type": "markdown",
      "metadata": {},
      "source": [
        "# Earthquake\n",
        "\n",
        "SEOYEON CHOI  \n",
        "11/24/22\n",
        "\n",
        "Real analysis\n",
        "\n",
        "## imports"
      ],
      "id": "9e402cc5-97b0-4e65-8d78-70d789bbd815"
    },
    {
      "cell_type": "code",
      "execution_count": 6,
      "metadata": {},
      "outputs": [],
      "source": [
        "import tqdm\n",
        "import numpy as np\n",
        "import pandas as pd\n",
        "import matplotlib.pyplot as plt \n",
        "import plotly.express as px\n",
        "import warnings\n",
        "warnings.simplefilter(\"ignore\", np.ComplexWarning)\n",
        "from haversine import haversine\n",
        "from IPython.display import HTML\n",
        "import plotly.graph_objects as go"
      ],
      "id": "f246ecfb-0d91-4cee-8bf5-26e7566b2fdc"
    },
    {
      "cell_type": "code",
      "execution_count": 7,
      "metadata": {},
      "outputs": [],
      "source": [
        "import rpy2\n",
        "import rpy2.robjects as ro \n",
        "from rpy2.robjects.vectors import FloatVector \n",
        "from rpy2.robjects.packages import importr"
      ],
      "id": "23851569-c90b-4a48-974c-b4025c3e0817"
    },
    {
      "cell_type": "markdown",
      "metadata": {},
      "source": [
        "## load data and clean it\n",
        "\n",
        "`-` load"
      ],
      "id": "f1391641-87af-4c03-ac1e-c415f7bc6302"
    },
    {
      "cell_type": "code",
      "execution_count": 8,
      "metadata": {},
      "outputs": [],
      "source": [
        "df= pd.read_csv('https://raw.githubusercontent.com/plotly/datasets/master/earthquakes-23k.csv')\n",
        "df"
      ],
      "id": "40475d5b-547b-4f31-9225-830e9a0b687d"
    },
    {
      "cell_type": "code",
      "execution_count": 9,
      "metadata": {},
      "outputs": [],
      "source": [
        "df_korea= pd.read_csv('earthquake_korea2.csv').iloc[:,[1,2,5,6]].rename(columns={'규모':'Magnitude'})"
      ],
      "id": "ab28ffc8-c5e5-432f-93ec-2aa6fc674cac"
    },
    {
      "cell_type": "markdown",
      "metadata": {},
      "source": [
        "https://www.weather.go.kr/w/eqk-vol/search/korea.do?schOption=&xls=0&startTm=2012-01-02&endTm=2022-06-17&startSize=2&endSize=&startLat=&endLat=&startLon=&endLon=&lat=&lon=&dist=&keyword=&dpType=m"
      ],
      "id": "0d8e98df-bddd-468f-9498-e096b9bca534"
    },
    {
      "cell_type": "code",
      "execution_count": 10,
      "metadata": {},
      "outputs": [],
      "source": [
        "df_global= pd.concat([pd.read_csv('00_05.csv'),pd.read_csv('05_10.csv'),pd.read_csv('10_15.csv'),pd.read_csv('15_20.csv')]).iloc[:,[0,1,2,4]].rename(columns={'latitude':'Latitude','longitude':'Longitude','mag':'Magnitude'}).reset_index().iloc[:,1:]"
      ],
      "id": "7c17b6e1-1395-42b1-b466-fd26482294b6"
    },
    {
      "cell_type": "markdown",
      "metadata": {},
      "source": [
        "https://www.usgs.gov/programs/earthquake-hazards/lists-maps-and-statistics\n",
        "\n",
        "`-` cleaning"
      ],
      "id": "3d3e5d9b-c3b4-4d9d-b30e-38d5aa38d603"
    },
    {
      "cell_type": "code",
      "execution_count": 11,
      "metadata": {},
      "outputs": [],
      "source": [
        "df.Date[df.Date == '1975-02-23T02:58:41.000Z']"
      ],
      "id": "44eaa2ca-2c6e-43fb-ad6c-8c2968e14c06"
    },
    {
      "cell_type": "code",
      "execution_count": 12,
      "metadata": {},
      "outputs": [],
      "source": [
        "df.iloc[3378,0] = '02/03/1975'"
      ],
      "id": "941adeff-3e03-41b5-9094-d13dfe688329"
    },
    {
      "cell_type": "code",
      "execution_count": 13,
      "metadata": {},
      "outputs": [],
      "source": [
        "df.Date[df.Date == '1985-04-28T02:53:41.530Z']"
      ],
      "id": "419da1fc-dfbb-45f5-a371-e77c1d4f8512"
    },
    {
      "cell_type": "code",
      "execution_count": 14,
      "metadata": {},
      "outputs": [],
      "source": [
        "df.iloc[7512,0] = '04/28/1985'"
      ],
      "id": "7d967bd7-97e8-4770-b9ee-62ef5b1a865b"
    },
    {
      "cell_type": "code",
      "execution_count": 15,
      "metadata": {},
      "outputs": [],
      "source": [
        "df.Date[df.Date == '2011-03-13T02:23:34.520Z']"
      ],
      "id": "51f97447-afc9-48b1-ae9a-3f1403239270"
    },
    {
      "cell_type": "code",
      "execution_count": 16,
      "metadata": {},
      "outputs": [],
      "source": [
        "df.iloc[20650,0] = '03/13/2011'"
      ],
      "id": "f14253d5-d2c2-444a-8e84-ada152a7ee5d"
    },
    {
      "cell_type": "code",
      "execution_count": 17,
      "metadata": {},
      "outputs": [],
      "source": [
        "df= df.assign(Year=list(map(lambda x: x.split('/')[-1], df.Date))).iloc[:,1:]\n",
        "df"
      ],
      "id": "2a922b3c-0751-4ea9-808a-44e8b6fa7fb4"
    },
    {
      "cell_type": "code",
      "execution_count": 18,
      "metadata": {},
      "outputs": [],
      "source": [
        "df.Year = df.Year.astype(np.float64)"
      ],
      "id": "c26e857c-9daa-4257-ab26-864b1206801c"
    },
    {
      "cell_type": "code",
      "execution_count": 19,
      "metadata": {},
      "outputs": [],
      "source": [
        "df_korea = df_korea.assign(Year=list(map(lambda x: x.split('/')[0], df_korea.발생시각))).iloc[:,1:]\n",
        "df_korea = df_korea.assign(Latitude=list(map(lambda x: x.split(' ')[0], df_korea.위도))).iloc[:,[0,2,3,4]]\n",
        "df_korea = df_korea.assign(Longitude=list(map(lambda x: x.split(' ')[0], df_korea.경도))).iloc[:,[0,2,3,4]]"
      ],
      "id": "24ef8ab9-eb01-41f2-9ff8-c2f50f0b1881"
    },
    {
      "cell_type": "code",
      "execution_count": 20,
      "metadata": {},
      "outputs": [],
      "source": [
        "df_global = df_global.assign(Year=list(map(lambda x: x.split('-')[0], df_global.time))).iloc[:,1:]"
      ],
      "id": "1c1b1121-bfe2-42e0-a8c6-7ef148676786"
    },
    {
      "cell_type": "code",
      "execution_count": 21,
      "metadata": {},
      "outputs": [],
      "source": [
        "df_korea.Year = df_korea.Year.astype(np.float64)\n",
        "df_korea.Latitude = df_korea.Latitude.astype(np.float64)\n",
        "df_korea.Longitude = df_korea.Longitude.astype(np.float64)\n",
        "df_global.Year = df_global.Year.astype(np.float64)"
      ],
      "id": "c701e88c-a79d-4e05-8a04-fa1e79f8cfc5"
    },
    {
      "cell_type": "markdown",
      "metadata": {},
      "source": [
        "## define class"
      ],
      "id": "562cf1e3-ece8-44af-9688-6def714ec6c7"
    },
    {
      "cell_type": "code",
      "execution_count": 22,
      "metadata": {},
      "outputs": [],
      "source": [
        "class MooYaHo:\n",
        "    def __init__(self,df):\n",
        "        self.df = df \n",
        "        self.f = df.Magnitude.to_numpy()\n",
        "        self.year = df.Year.to_numpy()\n",
        "        self.lat = df.Latitude.to_numpy()\n",
        "        self.long = df.Longitude.to_numpy()\n",
        "        self.n = len(self.f)\n",
        "        \n",
        "        self.theta= None\n",
        "    def get_distance(self):\n",
        "        self.D = np.zeros([self.n,self.n])\n",
        "        locations = np.stack([self.lat, self.long],axis=1)\n",
        "        for i in tqdm.tqdm(range(self.n)):\n",
        "            for j in range(i,self.n): \n",
        "                self.D[i,j]=haversine(locations[i],locations[j])\n",
        "        self.D = self.D+self.D.T\n",
        "    def get_weightmatrix(self,theta=1,beta=0.5,kappa=4000):\n",
        "        self.theta = theta\n",
        "        dist = np.where(self.D<kappa,self.D,0)\n",
        "        self.W = np.exp(-(dist/self.theta)**2)\n",
        "\n",
        "    def _eigen(self):\n",
        "        d= self.W.sum(axis=1)\n",
        "        D= np.diag(d)\n",
        "        self.L = np.diag(1/np.sqrt(d)) @ (D-self.W) @ np.diag(1/np.sqrt(d))\n",
        "        self.lamb, self.Psi = np.linalg.eigh(self.L)\n",
        "        self.Lamb = np.diag(self.lamb)        \n",
        "    def fit(self,m):\n",
        "        self._eigen()\n",
        "        self.fhat = self.Psi[:,0:m]@self.Psi[:,0:m].T@self.f\n",
        "        self.df = self.df.assign(MagnitudeHat = self.fhat)\n",
        "        self.df = self.df.assign(Residual = self.df.Magnitude- self.df.MagnitudeHat)\n",
        "        plt.plot(self.f,'.')\n",
        "        plt.plot(self.fhat,'x')\n",
        "        \n",
        "    def vis(self,MagThresh=7,ResThresh=1):\n",
        "        fig = px.density_mapbox(self.df, \n",
        "                        lat='Latitude', \n",
        "                        lon='Longitude', \n",
        "                        z='Magnitude', \n",
        "                        radius=5,\n",
        "                        center=dict(lat=37, lon=160), \n",
        "                        zoom=1.5,\n",
        "                        height=900,\n",
        "                        opacity = 0.4,\n",
        "                        mapbox_style=\"stamen-terrain\",\n",
        "                        range_color=[-7,7])\n",
        "        fig.update_layout(margin={\"r\":0,\"t\":0,\"l\":0,\"b\":0})\n",
        "        fig.add_scattermapbox(lat = self.df.query('Magnitude > @MagThresh')['Latitude'],\n",
        "                      lon = self.df.query('Magnitude > @MagThresh')['Longitude'],\n",
        "                      text = self.df.query('Magnitude > @MagThresh')['Magnitude'],\n",
        "                      marker_size= 8,\n",
        "                      marker_color= 'red',\n",
        "                      opacity = 0.6\n",
        "                      )\n",
        "        fig.add_scattermapbox(lat = self.df.query('Residual**2 > @ResThresh')['Latitude'],\n",
        "                      lon = self.df.query('Residual**2 > @ResThresh')['Longitude'],\n",
        "                      text = self.df.query('Magnitude > @ResThresh')['Magnitude'],\n",
        "                      marker_size= 8,\n",
        "                      marker_color= 'blue',\n",
        "                      opacity = 0.5\n",
        "                      )\n",
        "        return HTML(fig.to_html(include_mathjax=False, config=dict({'scrollZoom':False})))\n",
        "    def visf(self):\n",
        "        fig = px.density_mapbox(self.df, \n",
        "                        lat='Latitude', \n",
        "                        lon='Longitude', \n",
        "                        z='Magnitude', \n",
        "                        radius=5,\n",
        "                        center=dict(lat=37, lon=160), \n",
        "                        zoom=1.5,\n",
        "                        height=900,\n",
        "                        opacity = 0.7,\n",
        "                        mapbox_style=\"stamen-terrain\",\n",
        "                        range_color=[-7,7])\n",
        "        fig.update_layout(margin={\"r\":0,\"t\":0,\"l\":0,\"b\":0})\n",
        "        return HTML(fig.to_html(include_mathjax=False, config=dict({'scrollZoom':False})))\n",
        "    def visfhat(self):\n",
        "        fig = px.density_mapbox(self.df, \n",
        "                        lat='Latitude', \n",
        "                        lon='Longitude', \n",
        "                        z='MagnitudeHat', \n",
        "                        radius=5,\n",
        "                        center=dict(lat=37, lon=160), \n",
        "                        zoom=1.5,\n",
        "                        height=900,\n",
        "                        opacity = 0.7,\n",
        "                        mapbox_style=\"stamen-terrain\",\n",
        "                        range_color=[-7,7])\n",
        "        fig.update_layout(margin={\"r\":0,\"t\":0,\"l\":0,\"b\":0})\n",
        "        return HTML(fig.to_html(include_mathjax=False, config=dict({'scrollZoom':False})))\n",
        "    def visres(self,MagThresh=7,ResThresh=1):\n",
        "        fig = px.density_mapbox(self.df, \n",
        "                        lat='Latitude', \n",
        "                        lon='Longitude', \n",
        "                        z=[0] * len(self.df), \n",
        "                        radius=5,\n",
        "                        center=dict(lat=37, lon=160), \n",
        "                        zoom=1.5,\n",
        "                        height=900,\n",
        "                        opacity = 0.7,\n",
        "                        mapbox_style=\"stamen-terrain\",\n",
        "                        range_color=[-7,7])\n",
        "        fig.update_layout(margin={\"r\":0,\"t\":0,\"l\":0,\"b\":0})\n",
        "        fig.add_scattermapbox(lat = self.df.query('Residual**2 > @ResThresh')['Latitude'],\n",
        "                      lon = self.df.query('Residual**2 > @ResThresh')['Longitude'],\n",
        "                      text = self.df.query('Magnitude > @ResThresh')['Magnitude'],\n",
        "                      marker_size= 8,\n",
        "                      marker_color= 'blue',\n",
        "                      opacity = 0.7\n",
        "                      )\n",
        "        return HTML(fig.to_html(include_mathjax=False, config=dict({'scrollZoom':False})))"
      ],
      "id": "e0e0948f-3961-49a6-826f-b23671859313"
    },
    {
      "cell_type": "code",
      "execution_count": 23,
      "metadata": {},
      "outputs": [],
      "source": [
        "class MooYaHo2(MooYaHo): # ebayesthresh 기능추가\n",
        "    def fit2(self,ref=0.5): # fit with ebayesthresh\n",
        "        self._eigen()\n",
        "        self.fbar = self.Psi.T @ self.f # fbar := graph fourier transform of f\n",
        "        self.power = self.fbar**2 \n",
        "        ebayesthresh = importr('EbayesThresh').ebayesthresh\n",
        "        self.power_threshed=np.array(ebayesthresh(FloatVector(self.fbar**2)))\n",
        "        self.fbar_threshed = np.where(self.power_threshed>0,self.fbar,0)\n",
        "        self.fhat = self.Psi@self.fbar_threshed\n",
        "        self.df = self.df.assign(MagnitudeHat = self.fhat)\n",
        "        self.df = self.df.assign(Residual = self.df.Magnitude- self.df.MagnitudeHat)\n",
        "        self.con = np.where(self.df.Residual>0.7,1,0)\n",
        "        #plt.plot(self.f,'.')\n",
        "        #plt.plot(self.fhat,'x')\n",
        "\n",
        "#         fig, axs = plt.subplots(2,2,figsize=(16,10))\n",
        "\n",
        "#         axs[0,0].plot(self.f,'b')\n",
        "#         axs[0,0].set_title('Magnitude')\n",
        "#         axs[0,0].set_ylim([4.5,9])\n",
        "\n",
        "#         axs[0,1].plot(self.fhat,'k')\n",
        "#         axs[0,1].set_title('MagnitudeHat')\n",
        "#         axs[0,1].set_ylim([4.5,9])\n",
        "\n",
        "#         axs[1,0].plot(self.con,'r*')\n",
        "#         axs[1,0].set_title('Residual square')\n",
        "\n",
        "#         axs[1,1].plot(self.f,'b')\n",
        "#         axs[1,1].plot(self.fhat,'k')\n",
        "#         axs[1,1].plot(self.con,'r*')\n",
        "#         axs[1,1].set_title('Graph')\n",
        "#         axs[1,1].set_ylim([4.5,9])\n",
        "\n",
        "#         plt.tight_layout()\n",
        "#         plt.show()"
      ],
      "id": "c34202f1-bf48-4551-b4ac-79d79f49f68d"
    },
    {
      "cell_type": "code",
      "execution_count": 24,
      "metadata": {},
      "outputs": [],
      "source": [
        "class MooYaHo3(MooYaHo2):\n",
        "    def vis(self,MagThresh=7,ResThresh=1):\n",
        "        fig = px.density_mapbox(self.df, \n",
        "                        lat='Latitude', \n",
        "                        lon='Longitude', \n",
        "                        z='Magnitude', \n",
        "                        radius=5,\n",
        "                        center=dict(lat=37, lon=126), \n",
        "                        zoom=5.7,\n",
        "                        height=900,\n",
        "                        opacity = 0.3,\n",
        "                        mapbox_style=\"stamen-terrain\")\n",
        "        fig.update_layout(margin={\"r\":0,\"t\":0,\"l\":0,\"b\":0})\n",
        "        fig.add_scattermapbox(lat = self.df.query('Magnitude > @MagThresh')['Latitude'],\n",
        "                      lon = self.df.query('Magnitude > @MagThresh')['Longitude'],\n",
        "                      text = self.df.query('Magnitude > @MagThresh')['Magnitude'],\n",
        "                      marker_size= 8,\n",
        "                      marker_color= 'red',\n",
        "                      opacity = 0.5\n",
        "                      )\n",
        "        fig.add_scattermapbox(lat = self.df.query('Residual**2 > @ResThresh')['Latitude'],\n",
        "                      lon = self.df.query('Residual**2 > @ResThresh')['Longitude'],\n",
        "                      text = self.df.query('Magnitude > @ResThresh')['Magnitude'],\n",
        "                      marker_size= 8,\n",
        "                      marker_color= 'blue',\n",
        "                      opacity = 0.5\n",
        "                      )\n",
        "        return HTML(fig.to_html(include_mathjax=False, config=dict({'scrollZoom':False})))"
      ],
      "id": "d190a50d-1624-4d10-a9b4-ca0147a8148b"
    },
    {
      "cell_type": "code",
      "execution_count": 25,
      "metadata": {},
      "outputs": [],
      "source": [
        "       ebayesthresh = importr('EbayesThresh').ebayesthresh"
      ],
      "id": "cd275c0c-7bf4-41b6-8daa-1916ef807fa9"
    },
    {
      "cell_type": "markdown",
      "metadata": {},
      "source": [
        "## analysis_df_global(2010\\~2015)\n",
        "\n",
        "`-` make instance for analysis"
      ],
      "id": "5f013545-1a6f-40dd-a1f7-6e701e1a8d65"
    },
    {
      "cell_type": "code",
      "execution_count": 32,
      "metadata": {},
      "outputs": [],
      "source": [
        "moo_global=MooYaHo2(df_global.query(\"2010 <= Year < 2015\"))"
      ],
      "id": "ce269637-b116-40a9-a994-86daff7f8d3f"
    },
    {
      "cell_type": "markdown",
      "metadata": {},
      "source": [
        "`-` get distance"
      ],
      "id": "8ffec63b-a085-4f68-b370-e18f234fcebd"
    },
    {
      "cell_type": "code",
      "execution_count": 33,
      "metadata": {},
      "outputs": [
        {
          "output_type": "stream",
          "name": "stderr",
          "text": [
            "100%|██████████| 10762/10762 [05:32<00:00, 32.36it/s] "
          ]
        }
      ],
      "source": [
        "moo_global.get_distance()"
      ],
      "id": "2460ba2b-58e7-4552-a2f2-dab9f5a8854f"
    },
    {
      "cell_type": "code",
      "execution_count": 34,
      "metadata": {},
      "outputs": [],
      "source": [
        "moo_global.D[moo_global.D>0].mean()"
      ],
      "id": "aaef0613-0648-4f3d-85d0-ea22febdcded"
    },
    {
      "cell_type": "code",
      "execution_count": 35,
      "metadata": {},
      "outputs": [
        {
          "output_type": "display_data",
          "metadata": {},
          "data": {
            "image/png": "[encoded data removed]"
          }
        }
      ],
      "source": [
        "plt.hist(moo_global.D[moo_global.D>0])"
      ],
      "id": "f42ce212-f276-45f5-a431-798e2c569fa9"
    },
    {
      "cell_type": "markdown",
      "metadata": {},
      "source": [
        "`-` weight matrix"
      ],
      "id": "a655a40a-e299-445b-9448-632688f2969f"
    },
    {
      "cell_type": "code",
      "execution_count": 36,
      "metadata": {},
      "outputs": [],
      "source": [
        "moo_global.get_weightmatrix(theta=(8810.865423093777),kappa=2500) "
      ],
      "id": "62abf7cb-161f-4e3a-8105-de6b898292ab"
    },
    {
      "cell_type": "markdown",
      "metadata": {},
      "source": [
        "`-` fit"
      ],
      "id": "037a7dc1-534c-4c5a-ac18-1a6b174ef56f"
    },
    {
      "cell_type": "code",
      "execution_count": 37,
      "metadata": {},
      "outputs": [],
      "source": [
        "moo_global.fit2()"
      ],
      "id": "54fce59e-2d30-44c1-be44-9fe814db91ee"
    },
    {
      "cell_type": "code",
      "execution_count": 38,
      "metadata": {},
      "outputs": [],
      "source": [
        "moo_global.df.sort_values(\"Residual\",ascending=False).iloc[:40,:]"
      ],
      "id": "c96a01a9-3be2-48dd-8000-5b46ef02a877"
    },
    {
      "cell_type": "markdown",
      "metadata": {},
      "source": [
        "(2010\\~2014 시도) - 21번째 Ouest Department, Haiti 아이티 지진 2010년\n",
        "진도 7.0 - 24번째 Puchuncavi, Valparaíso, Chile 칠레 지진 2014년 진도\n",
        "6.4 - 28번째 Baoxing County, Yaan, Sichuan, China 중국 쓰촨성 지진\n",
        "2013년 진도 6.6\n",
        "\n",
        "(2010\\~2015 시도_결과 좋지 않음?!) - 23번째 2010년 West New Britain\n",
        "Province, Papua New Guinea 진도 7.3 - 24번째 2011년 Kuzawa Terayama,\n",
        "Tanagura, Higashishirakawa District, Fukushima 963-5671, Japan 진도\n",
        "6.6 - 29번째 2015년 Kishim, Afghanistan 진도 7.5\n",
        "\n",
        "`-` vis"
      ],
      "id": "003ef5eb-a84c-4c46-bb66-7d6bd552f403"
    },
    {
      "cell_type": "code",
      "execution_count": 39,
      "metadata": {},
      "outputs": [],
      "source": [
        "#moo_global.visf()"
      ],
      "id": "cc9b87d0-ba55-4d6f-811b-7a96c85b2a9f"
    },
    {
      "cell_type": "code",
      "execution_count": 40,
      "metadata": {},
      "outputs": [],
      "source": [
        "#moo_global.visfhat()"
      ],
      "id": "f4d6e2ac-af23-4c94-9323-5bb89fcd686f"
    },
    {
      "cell_type": "code",
      "execution_count": 41,
      "metadata": {},
      "outputs": [],
      "source": [
        "#moo_global.visres()"
      ],
      "id": "e0aca85c-e938-47f0-8e25-11ce883e3288"
    },
    {
      "cell_type": "code",
      "execution_count": 42,
      "metadata": {},
      "outputs": [],
      "source": [
        "#moo_global.vis(MagThresh=6.9,ResThresh=0.5)"
      ],
      "id": "ec50df7c-16bb-4733-8baa-a35f9bed84d5"
    },
    {
      "cell_type": "markdown",
      "metadata": {},
      "source": [
        "------------------------------------------------------------------------\n",
        "\n",
        "## analysis_df_global(2015\\~2020)\n",
        "\n",
        "`-` make instance for analysis"
      ],
      "id": "dfa9b298-98bc-4389-82f5-aeed26e34dbb"
    },
    {
      "cell_type": "code",
      "execution_count": 43,
      "metadata": {},
      "outputs": [],
      "source": [
        "moo_global=MooYaHo2(df_global.query(\"2015 <= Year <= 2020\"))"
      ],
      "id": "265eee2f-c4a8-4135-b818-cc77286d3248"
    },
    {
      "cell_type": "markdown",
      "metadata": {},
      "source": [
        "`-` get distance"
      ],
      "id": "2bbbc191-e9aa-4c81-8759-29f705626194"
    },
    {
      "cell_type": "code",
      "execution_count": 44,
      "metadata": {},
      "outputs": [
        {
          "output_type": "stream",
          "name": "stderr",
          "text": [
            "100%|██████████| 11239/11239 [04:35<00:00, 40.84it/s] "
          ]
        }
      ],
      "source": [
        "moo_global.get_distance()"
      ],
      "id": "a7f15561-89d4-4537-bd67-c0ff9ed6dc45"
    },
    {
      "cell_type": "code",
      "execution_count": 45,
      "metadata": {},
      "outputs": [],
      "source": [
        "moo_global.D[moo_global.D>0].mean()"
      ],
      "id": "7bb58ea3-e214-4e75-a39d-0bc78a4503b3"
    },
    {
      "cell_type": "code",
      "execution_count": 46,
      "metadata": {},
      "outputs": [
        {
          "output_type": "display_data",
          "metadata": {},
          "data": {
            "image/png": "[encoded data removed]"
          }
        }
      ],
      "source": [
        "plt.hist(moo_global.D[moo_global.D>0])"
      ],
      "id": "67ab57c8-5c85-4b01-92b1-7ddd9d705d5e"
    },
    {
      "cell_type": "markdown",
      "metadata": {},
      "source": [
        "`-` weight matrix"
      ],
      "id": "50ee9fd2-ccd2-46c8-8822-47f09bff8b55"
    },
    {
      "cell_type": "code",
      "execution_count": 47,
      "metadata": {},
      "outputs": [],
      "source": [
        "moo_global.get_weightmatrix(theta=(8814.318793468068),kappa=2500) "
      ],
      "id": "561e3f75-d966-4622-92f0-ebf8cadb713a"
    },
    {
      "cell_type": "markdown",
      "metadata": {},
      "source": [
        "`-` fit"
      ],
      "id": "e102576b-6127-4e41-a982-06ee5b7fcac7"
    },
    {
      "cell_type": "code",
      "execution_count": 48,
      "metadata": {},
      "outputs": [],
      "source": [
        "moo_global.fit2()"
      ],
      "id": "1d7be08f-c364-49f4-b876-74112397edd9"
    },
    {
      "cell_type": "code",
      "execution_count": 49,
      "metadata": {},
      "outputs": [],
      "source": [
        "moo_global.df.sort_values(\"Residual\",ascending=False).iloc[:30,:]"
      ],
      "id": "b01252ab-2268-462a-9d4a-c376bac43181"
    },
    {
      "cell_type": "markdown",
      "metadata": {},
      "source": [
        "바다 아닌 거 - 8번째 2016년 Rotherham, New Zealand 뉴질랜드 카이코우라\n",
        "지진 진도 7.8 - 9번째 2015년 Langkuru Utara, Pureman, Alor Regency, East\n",
        "Nusa Tenggara, Indonesia 수마트라 진도 6.5 - 15번째 2018년 Hela\n",
        "Province, Papua New Guinea 파푸아뉴기니 진도 7.5 - 20번째 2015년\n",
        "Kalinchok, Nepal 네팔 진도 7.3 - 26번째 2019년 Coquimbo, Chile 칠레\n",
        "코킴보주 진도 6.7\n",
        "\n",
        "`-` vis"
      ],
      "id": "41dd96f8-e754-4ebc-ac46-5d3c82dfa594"
    },
    {
      "cell_type": "code",
      "execution_count": 50,
      "metadata": {},
      "outputs": [],
      "source": [
        "#moo_global.vis(MagThresh=7,ResThresh=0.3)"
      ],
      "id": "e897c7e8-fa40-4f4f-a6b2-f6b97f016b5a"
    },
    {
      "cell_type": "markdown",
      "metadata": {},
      "source": [
        "------------------------------------------------------------------------"
      ],
      "id": "1fcb6c7b-5f6d-4bb1-ab8d-5bc5c2c1ef18"
    },
    {
      "cell_type": "code",
      "execution_count": null,
      "metadata": {},
      "outputs": [],
      "source": [
        "pd.read_html('https://en.wikipedia.org/wiki/Lists_of_21st-century_earthquakes',encoding='utf-8')[0].query('Magnitude<=7')# List of deadliest earthquakes"
      ],
      "id": "9f6a6bde-7857-48b2-af74-54c582e20182"
    },
    {
      "cell_type": "code",
      "execution_count": null,
      "metadata": {},
      "outputs": [],
      "source": [
        "pd.read_html('https://en.wikipedia.org/wiki/Lists_of_21st-century_earthquakes',encoding='utf-8')[3] # Deadliest earthquakes by year"
      ],
      "id": "98ff285d-ddfe-486c-b284-2de553f76122"
    },
    {
      "cell_type": "markdown",
      "metadata": {},
      "source": [
        "------------------------------------------------------------------------"
      ],
      "id": "6113971f-1f46-499d-ba55-28a62d3e72aa"
    },
    {
      "cell_type": "code",
      "execution_count": 52,
      "metadata": {},
      "outputs": [],
      "source": [
        "class eachlocation(MooYaHo2):\n",
        "    def haiti(self,MagThresh=7,ResThresh=1,adjzoom=5,adjmarkersize = 40):\n",
        "        fig = px.density_mapbox(self.df, \n",
        "                        lat='Latitude', \n",
        "                        lon='Longitude', \n",
        "                        z='Magnitude', \n",
        "                        radius=15,\n",
        "                        center=dict(lat=18.4430, lon=-72.5710), \n",
        "                        zoom= adjzoom,\n",
        "                        height=900,\n",
        "                        opacity = 0.8,\n",
        "                        mapbox_style=\"stamen-terrain\",\n",
        "                        range_color=[-3,3])\n",
        "        fig.update_layout(margin={\"r\":0,\"t\":0,\"l\":0,\"b\":0})\n",
        "        fig.add_scattermapbox(lat = self.df.query('Magnitude > @MagThresh')['Latitude'],\n",
        "                      lon = self.df.query('Magnitude > @MagThresh')['Longitude'],\n",
        "                      text = self.df.query('Magnitude > @MagThresh')['Magnitude'],\n",
        "                      marker_size= 5,\n",
        "                      marker_color= 'blue',\n",
        "                      opacity = 0.1\n",
        "                      )\n",
        "        fig.add_scattermapbox(lat = self.df.query('Residual**2 > @ResThresh')['Latitude'],\n",
        "                      lon = self.df.query('Residual**2 > @ResThresh')['Longitude'],\n",
        "                      text = self.df.query('Magnitude > @ResThresh')['Magnitude'],\n",
        "                      marker_size= adjmarkersize,\n",
        "                      marker_color= 'red',\n",
        "                      opacity = 0.8\n",
        "                      )\n",
        "        fig.add_trace(go.Scattermapbox(\n",
        "                    lat=self.df.query('Residual**2 > @ResThresh')['Latitude'],\n",
        "                    lon=self.df.query('Residual**2 > @ResThresh')['Longitude'],\n",
        "                    mode='markers',\n",
        "                    marker=go.scattermapbox.Marker(\n",
        "                        size=20,\n",
        "                        color='rgb(255, 255, 255)',\n",
        "                        opacity=0.4\n",
        "                    )\n",
        "                ))\n",
        "        return fig \n",
        "    def lquique(self,MagThresh=7,ResThresh=1,adjzoom=5, adjmarkersize= 40):\n",
        "        fig = px.density_mapbox(self.df, \n",
        "                        lat='Latitude', \n",
        "                        lon='Longitude', \n",
        "                        z='Magnitude', \n",
        "                        radius=15,\n",
        "                        center=dict(lat=-32.6953, lon=-71.4416), \n",
        "                        zoom=adjzoom,\n",
        "                        height=900,\n",
        "                        opacity = 0.8,\n",
        "                        mapbox_style=\"stamen-terrain\",\n",
        "                        range_color=[-7,7])\n",
        "        fig.update_layout(margin={\"r\":0,\"t\":0,\"l\":0,\"b\":0})\n",
        "        fig.add_scattermapbox(lat = self.df.query('Magnitude > @MagThresh')['Latitude'],\n",
        "                      lon = self.df.query('Magnitude > @MagThresh')['Longitude'],\n",
        "                      text = self.df.query('Magnitude > @MagThresh')['Magnitude'],\n",
        "                      marker_size= 5,\n",
        "                      marker_color= 'blue',\n",
        "                      opacity = 0.1\n",
        "                      )\n",
        "        fig.add_scattermapbox(lat = self.df.query('Residual**2 > @ResThresh')['Latitude'],\n",
        "                      lon = self.df.query('Residual**2 > @ResThresh')['Longitude'],\n",
        "                      text = self.df.query('Magnitude > @ResThresh')['Magnitude'],\n",
        "                      marker_size= adjmarkersize,\n",
        "                      marker_color= 'red',\n",
        "                      opacity = 0.8\n",
        "                      )\n",
        "        fig.add_trace(go.Scattermapbox(\n",
        "                    lat=self.df.query('Residual**2 > @ResThresh')['Latitude'],\n",
        "                    lon=self.df.query('Residual**2 > @ResThresh')['Longitude'],\n",
        "                    mode='markers',\n",
        "                    marker=go.scattermapbox.Marker(\n",
        "                        size=20,\n",
        "                        color='rgb(255, 255, 255)',\n",
        "                        opacity=0.8\n",
        "                    )\n",
        "                ))\n",
        "        return fig \n",
        "    def sichuan(self,MagThresh=7,ResThresh=1,adjzoom=5,adjmarkersize=40):\n",
        "        fig = px.density_mapbox(self.df, \n",
        "                        lat='Latitude', \n",
        "                        lon='Longitude', \n",
        "                        z='Magnitude', \n",
        "                        radius=15,\n",
        "                        center=dict(lat=30.3080, lon=102.8880), \n",
        "                        zoom=adjzoom,\n",
        "                        height=900,\n",
        "                        opacity = 0.6,\n",
        "                        mapbox_style=\"stamen-terrain\",\n",
        "                        range_color=[-7,7])\n",
        "        fig.update_layout(margin={\"r\":0,\"t\":0,\"l\":0,\"b\":0})\n",
        "        fig.add_scattermapbox(lat = self.df.query('Magnitude > @MagThresh')['Latitude'],\n",
        "                      lon = self.df.query('Magnitude > @MagThresh')['Longitude'],\n",
        "                      text = self.df.query('Magnitude > @MagThresh')['Magnitude'],\n",
        "                      marker_size= 5,\n",
        "                      marker_color= 'blue',\n",
        "                      opacity = 0.1\n",
        "                      )\n",
        "        fig.add_scattermapbox(lat = self.df.query('Residual**2 > @ResThresh')['Latitude'],\n",
        "                      lon = self.df.query('Residual**2 > @ResThresh')['Longitude'],\n",
        "                      text = self.df.query('Magnitude > @ResThresh')['Magnitude'],\n",
        "                      marker_size= adjmarkersize,\n",
        "                      marker_color= 'red',\n",
        "                      opacity = 0.8\n",
        "                      )\n",
        "        fig.add_trace(go.Scattermapbox(\n",
        "                    lat=self.df.query('Residual**2 > @ResThresh')['Latitude'],\n",
        "                    lon=self.df.query('Residual**2 > @ResThresh')['Longitude'],\n",
        "                    mode='markers',\n",
        "                    marker=go.scattermapbox.Marker(\n",
        "                        size=20,\n",
        "                        color='rgb(255, 255, 255)',\n",
        "                        opacity=0.8\n",
        "                    )\n",
        "                ))\n",
        "        return fig "
      ],
      "id": "0b6e9465-33db-4853-b727-f74b5ca91466"
    },
    {
      "cell_type": "code",
      "execution_count": 53,
      "metadata": {},
      "outputs": [],
      "source": [
        "each_location=eachlocation(df_global.query(\"2010 <= Year < 2015\"))"
      ],
      "id": "670caab3-1616-4e0b-98df-3cc69bdd1a4e"
    },
    {
      "cell_type": "markdown",
      "metadata": {},
      "source": [
        "`-` get distance"
      ],
      "id": "6cd84360-ae44-47c9-8391-26dea089b808"
    },
    {
      "cell_type": "code",
      "execution_count": 54,
      "metadata": {},
      "outputs": [
        {
          "output_type": "stream",
          "name": "stderr",
          "text": [
            "100%|██████████| 12498/12498 [05:55<00:00, 35.16it/s] "
          ]
        }
      ],
      "source": [
        "each_location.get_distance()"
      ],
      "id": "1805ffd4-f6c4-44b2-838c-81fa85dfcc00"
    },
    {
      "cell_type": "code",
      "execution_count": 55,
      "metadata": {},
      "outputs": [],
      "source": [
        "each_location.D[each_location.D>0].mean()"
      ],
      "id": "4250677a-ea82-40ab-ac93-b4f071951a70"
    },
    {
      "cell_type": "code",
      "execution_count": 56,
      "metadata": {},
      "outputs": [
        {
          "output_type": "display_data",
          "metadata": {},
          "data": {
            "image/png": "[encoded data removed]"
          }
        }
      ],
      "source": [
        "plt.hist(each_location.D[each_location.D>0])"
      ],
      "id": "c3feeb16-e30c-4feb-8d31-d783f5bcf866"
    },
    {
      "cell_type": "markdown",
      "metadata": {},
      "source": [
        "`-` weight matrix"
      ],
      "id": "bc38e377-3066-4cdd-b388-b832ed016aeb"
    },
    {
      "cell_type": "code",
      "execution_count": 57,
      "metadata": {},
      "outputs": [],
      "source": [
        "each_location.get_weightmatrix(theta=(8810.865423093777),kappa=2500) "
      ],
      "id": "90fb3931-7d20-413b-9840-b90da0bbeb99"
    },
    {
      "cell_type": "markdown",
      "metadata": {},
      "source": [
        "`-` fit"
      ],
      "id": "67683a4b-e362-46fa-9154-dd05a1d53939"
    },
    {
      "cell_type": "code",
      "execution_count": 58,
      "metadata": {},
      "outputs": [],
      "source": [
        "each_location.fit2()"
      ],
      "id": "3de3c2d7-52c0-486d-bab6-fb17e98f659c"
    },
    {
      "cell_type": "code",
      "execution_count": 59,
      "metadata": {
        "tags": []
      },
      "outputs": [],
      "source": [
        "each_location.haiti(MagThresh=6.9,ResThresh=0.5)"
      ],
      "id": "9b01f358-9d7c-4984-8386-b76ff1e5c034"
    },
    {
      "cell_type": "code",
      "execution_count": 60,
      "metadata": {
        "tags": []
      },
      "outputs": [],
      "source": [
        "each_location.lquique(MagThresh=8,ResThresh=0.4,adjzoom=4.3)"
      ],
      "id": "99c038f4-634a-4c40-9693-fec203facedc"
    },
    {
      "cell_type": "code",
      "execution_count": 61,
      "metadata": {},
      "outputs": [],
      "source": [
        "each_location.sichuan(MagThresh=6.5,ResThresh=0.4)"
      ],
      "id": "45efd3ed-122a-418b-82f9-063371743962"
    },
    {
      "cell_type": "markdown",
      "metadata": {},
      "source": [
        "------------------------------------------------------------------------\n",
        "\n",
        "## 칠레"
      ],
      "id": "3e8b4733-b76d-4a09-8d51-7102a3525d96"
    },
    {
      "cell_type": "code",
      "execution_count": 62,
      "metadata": {},
      "outputs": [],
      "source": [
        "df_chile_ex= pd.concat([pd.read_csv('05_10.csv'),pd.read_csv('10_15.csv')]).iloc[:,[0,1,2,4]].rename(columns={'latitude':'Latitude','longitude':'Longitude','mag':'Magnitude'}).reset_index().iloc[:,1:]"
      ],
      "id": "dc9f73e1-cc4e-460f-84b6-fdfb4fd7587e"
    },
    {
      "cell_type": "code",
      "execution_count": 63,
      "metadata": {},
      "outputs": [],
      "source": [
        "df_chile = df_chile_ex.assign(Year=list(map(lambda x: x.split('-')[0], df_chile_ex.time))).iloc[:,1:]"
      ],
      "id": "fb9bd1d5-6bf1-44ae-8ca7-2bc462d169ad"
    },
    {
      "cell_type": "code",
      "execution_count": 64,
      "metadata": {},
      "outputs": [],
      "source": [
        "df_chile = df_chile.assign(Month=list(map(lambda x: x.split('-')[1], df_chile_ex.time)))"
      ],
      "id": "b9fcd3f1-f457-4200-936d-3e07bacbc3bb"
    },
    {
      "cell_type": "code",
      "execution_count": 65,
      "metadata": {},
      "outputs": [],
      "source": [
        "df_chile.Year = df_chile.Year.astype(np.float64)\n",
        "df_chile.Month = df_chile.Month.astype(np.float64)"
      ],
      "id": "2c0a46b6-84d1-4925-9552-5016ea8925ca"
    },
    {
      "cell_type": "code",
      "execution_count": 66,
      "metadata": {},
      "outputs": [],
      "source": [
        "chile_location=eachlocation(df_chile.query(\"2010 <= Year < 2015\"))"
      ],
      "id": "0f9a4101-2802-466e-9baf-a5a4b692ccc5"
    },
    {
      "cell_type": "code",
      "execution_count": 67,
      "metadata": {},
      "outputs": [
        {
          "output_type": "stream",
          "name": "stderr",
          "text": [
            "100%|██████████| 12498/12498 [06:28<00:00, 32.19it/s] "
          ]
        }
      ],
      "source": [
        "chile_location.get_distance()"
      ],
      "id": "cbe3efcb-ad33-4e5c-a1d9-62bce0b39e90"
    },
    {
      "cell_type": "code",
      "execution_count": 68,
      "metadata": {},
      "outputs": [],
      "source": [
        "chile_location.get_weightmatrix(theta=(chile_location.D[chile_location.D>0].mean()),kappa=2500) "
      ],
      "id": "e2f5679f-5c85-4d11-b6ea-5ab3c8cdc031"
    },
    {
      "cell_type": "code",
      "execution_count": 69,
      "metadata": {},
      "outputs": [],
      "source": [
        "chile_location.fit2()"
      ],
      "id": "693c6392-75ad-4728-99ad-5e7f17507f76"
    },
    {
      "cell_type": "markdown",
      "metadata": {},
      "source": [
        "아이티"
      ],
      "id": "4356e3bd-d060-4d7f-bea9-d303334e94f7"
    },
    {
      "cell_type": "code",
      "execution_count": 70,
      "metadata": {},
      "outputs": [],
      "source": [
        "chile_location.df.assign(Residual2 = chile_location.df.Residual**2).reset_index().iloc[2324:2330,:]"
      ],
      "id": "7f2b0ada-85ee-48ea-8cb1-d1cba053c6e2"
    },
    {
      "cell_type": "markdown",
      "metadata": {},
      "source": [
        "칠레"
      ],
      "id": "99ff3b48-bd6a-42e8-9fa6-710445e4eec2"
    },
    {
      "cell_type": "code",
      "execution_count": 71,
      "metadata": {},
      "outputs": [],
      "source": [
        "chile_location.df.assign(Residual2 = chile_location.df.Residual**2).reset_index().query(\"-56.5 < Latitude & Latitude <-17.4 & -81.5 < Longitude & Longitude < -61.5 & Year == 2014 & Month == 8\")"
      ],
      "id": "50dcb055-9559-432d-a66a-ffc77e169a6b"
    },
    {
      "cell_type": "markdown",
      "metadata": {},
      "source": [
        "중국"
      ],
      "id": "6329fa05-63b2-4d11-a0fa-933b92cec458"
    },
    {
      "cell_type": "code",
      "execution_count": 72,
      "metadata": {},
      "outputs": [],
      "source": [
        "chile_location.df.assign(Residual2 = chile_location.df.Residual**2).reset_index().iloc[5136:5142,:]"
      ],
      "id": "9965a9ea-9593-4fcf-8a34-5fffee85cccb"
    }
  ],
  "nbformat": 4,
  "nbformat_minor": 5,
  "metadata": {
    "kernelspec": {
      "name": "python3",
      "display_name": "Python 3",
      "language": "python"
    },
    "language_info": {
      "name": "python",
      "codemirror_mode": {
        "name": "ipython",
        "version": "3"
      },
      "file_extension": ".py",
      "mimetype": "text/x-python",
      "nbconvert_exporter": "python",
      "pygments_lexer": "ipython3",
      "version": "3.8.0"
    }
  }
}
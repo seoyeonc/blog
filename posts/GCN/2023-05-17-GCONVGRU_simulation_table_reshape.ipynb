{
 "cells": [
  {
   "cell_type": "raw",
   "id": "687798dd-c373-49b0-a4c2-b5c9d14dbedc",
   "metadata": {
    "id": "cac470df-29e7-4148-9bbd-d8b9a32fa570",
    "tags": []
   },
   "source": [
    "---\n",
    "title: \"GConvGRU_Simulation Tables_reshape\"\n",
    "author: \"SEOYEON CHOI\"\n",
    "date: \"2023-05-17\"\n",
    "categories:\n",
    "  - ITSTGCN\n",
    "---"
   ]
  },
  {
   "cell_type": "markdown",
   "id": "2c57a9de-08c3-4218-82e2-234876739bb1",
   "metadata": {
    "tags": []
   },
   "source": [
    "> Simulation Tables"
   ]
  },
  {
   "cell_type": "markdown",
   "id": "ffec7c69-7d8a-460a-b98f-6e31fef545e1",
   "metadata": {},
   "source": [
    "# import"
   ]
  },
  {
   "cell_type": "code",
   "execution_count": 33,
   "id": "2b94623d-9fcc-475e-888b-fab04f70cb53",
   "metadata": {},
   "outputs": [],
   "source": [
    "import pandas as pd"
   ]
  },
  {
   "cell_type": "code",
   "execution_count": 59,
   "id": "3eb9818e-ae88-4ab1-b477-15622f336a9d",
   "metadata": {},
   "outputs": [],
   "source": [
    "data_fivenodes = pd.read_csv('./simulation_results/Real_simulation_reshape/fivedones_Simulation.csv')"
   ]
  },
  {
   "cell_type": "code",
   "execution_count": 104,
   "id": "017dcc04-f3c5-44d0-ae40-ec506dbfd630",
   "metadata": {},
   "outputs": [],
   "source": [
    "data_chickenpox = pd.read_csv('./simulation_results/Real_simulation_reshape/chikenpox_Simulation.csv')"
   ]
  },
  {
   "cell_type": "code",
   "execution_count": 61,
   "id": "0b711bcf-b2e4-4502-a6ad-a1313f7560fc",
   "metadata": {},
   "outputs": [],
   "source": [
    "data_pedal = pd.read_csv('./simulation_results/Real_simulation_reshape/pedalme_Simulation.csv')"
   ]
  },
  {
   "cell_type": "code",
   "execution_count": 70,
   "id": "13bf364d-2d1f-4286-b0df-1b35b21e7105",
   "metadata": {},
   "outputs": [],
   "source": [
    "data_pedal2 = pd.read_csv('./simulation_results/Real_simulation_reshape/pedalme_Simulation_itstgcnsnd.csv')"
   ]
  },
  {
   "cell_type": "code",
   "execution_count": 73,
   "id": "bb0a52c3-a3ea-4d2d-9da3-e607195c9066",
   "metadata": {},
   "outputs": [],
   "source": [
    "data__wiki = pd.read_csv('./simulation_results/Real_simulation_reshape/wikimath.csv')"
   ]
  },
  {
   "cell_type": "code",
   "execution_count": 113,
   "id": "d5aef84f-e4fc-4735-b966-73ff530ae56b",
   "metadata": {},
   "outputs": [],
   "source": [
    "data_windmillsmall = pd.read_csv('./simulation_results/Real_simulation_reshape/windmillsmall.csv')"
   ]
  },
  {
   "cell_type": "code",
   "execution_count": 114,
   "id": "59532f6b-12df-4cea-9edb-101aedc988a7",
   "metadata": {},
   "outputs": [],
   "source": [
    "data_monte = pd.read_csv('./simulation_results/Real_simulation_reshape/monte.csv')"
   ]
  },
  {
   "cell_type": "code",
   "execution_count": 115,
   "id": "6fe62078-eeb6-419c-a91e-cca745e7877b",
   "metadata": {},
   "outputs": [
    {
     "data": {
      "text/html": [
       "<div>\n",
       "<style scoped>\n",
       "    .dataframe tbody tr th:only-of-type {\n",
       "        vertical-align: middle;\n",
       "    }\n",
       "\n",
       "    .dataframe tbody tr th {\n",
       "        vertical-align: top;\n",
       "    }\n",
       "\n",
       "    .dataframe thead th {\n",
       "        text-align: right;\n",
       "    }\n",
       "</style>\n",
       "<table border=\"1\" class=\"dataframe\">\n",
       "  <thead>\n",
       "    <tr style=\"text-align: right;\">\n",
       "      <th></th>\n",
       "      <th>dataset</th>\n",
       "      <th>method</th>\n",
       "      <th>mrate</th>\n",
       "      <th>mtype</th>\n",
       "      <th>lags</th>\n",
       "      <th>nof_filters</th>\n",
       "      <th>inter_method</th>\n",
       "      <th>epoch</th>\n",
       "      <th>mse</th>\n",
       "      <th>calculation_time</th>\n",
       "    </tr>\n",
       "  </thead>\n",
       "  <tbody>\n",
       "    <tr>\n",
       "      <th>0</th>\n",
       "      <td>fivenodes</td>\n",
       "      <td>STGCN</td>\n",
       "      <td>0.000000</td>\n",
       "      <td>NaN</td>\n",
       "      <td>2</td>\n",
       "      <td>12</td>\n",
       "      <td>NaN</td>\n",
       "      <td>50</td>\n",
       "      <td>0.729374</td>\n",
       "      <td>80.985221</td>\n",
       "    </tr>\n",
       "    <tr>\n",
       "      <th>1</th>\n",
       "      <td>fivenodes</td>\n",
       "      <td>STGCN</td>\n",
       "      <td>0.000000</td>\n",
       "      <td>NaN</td>\n",
       "      <td>2</td>\n",
       "      <td>12</td>\n",
       "      <td>NaN</td>\n",
       "      <td>50</td>\n",
       "      <td>0.729082</td>\n",
       "      <td>80.891788</td>\n",
       "    </tr>\n",
       "    <tr>\n",
       "      <th>2</th>\n",
       "      <td>fivenodes</td>\n",
       "      <td>STGCN</td>\n",
       "      <td>0.700000</td>\n",
       "      <td>rand</td>\n",
       "      <td>2</td>\n",
       "      <td>12</td>\n",
       "      <td>linear</td>\n",
       "      <td>50</td>\n",
       "      <td>1.892262</td>\n",
       "      <td>81.976547</td>\n",
       "    </tr>\n",
       "    <tr>\n",
       "      <th>3</th>\n",
       "      <td>fivenodes</td>\n",
       "      <td>STGCN</td>\n",
       "      <td>0.700000</td>\n",
       "      <td>rand</td>\n",
       "      <td>2</td>\n",
       "      <td>12</td>\n",
       "      <td>nearest</td>\n",
       "      <td>50</td>\n",
       "      <td>2.211288</td>\n",
       "      <td>87.803869</td>\n",
       "    </tr>\n",
       "    <tr>\n",
       "      <th>4</th>\n",
       "      <td>fivenodes</td>\n",
       "      <td>STGCN</td>\n",
       "      <td>0.800000</td>\n",
       "      <td>rand</td>\n",
       "      <td>2</td>\n",
       "      <td>12</td>\n",
       "      <td>linear</td>\n",
       "      <td>50</td>\n",
       "      <td>2.072818</td>\n",
       "      <td>103.648742</td>\n",
       "    </tr>\n",
       "    <tr>\n",
       "      <th>...</th>\n",
       "      <td>...</td>\n",
       "      <td>...</td>\n",
       "      <td>...</td>\n",
       "      <td>...</td>\n",
       "      <td>...</td>\n",
       "      <td>...</td>\n",
       "      <td>...</td>\n",
       "      <td>...</td>\n",
       "      <td>...</td>\n",
       "      <td>...</td>\n",
       "    </tr>\n",
       "    <tr>\n",
       "      <th>385</th>\n",
       "      <td>monte</td>\n",
       "      <td>IT-STGCN</td>\n",
       "      <td>0.149142</td>\n",
       "      <td>block</td>\n",
       "      <td>4</td>\n",
       "      <td>12</td>\n",
       "      <td>nearest</td>\n",
       "      <td>50</td>\n",
       "      <td>0.932036</td>\n",
       "      <td>472.003806</td>\n",
       "    </tr>\n",
       "    <tr>\n",
       "      <th>386</th>\n",
       "      <td>monte</td>\n",
       "      <td>STGCN</td>\n",
       "      <td>0.149142</td>\n",
       "      <td>block</td>\n",
       "      <td>4</td>\n",
       "      <td>12</td>\n",
       "      <td>nearest</td>\n",
       "      <td>50</td>\n",
       "      <td>0.936046</td>\n",
       "      <td>384.706071</td>\n",
       "    </tr>\n",
       "    <tr>\n",
       "      <th>387</th>\n",
       "      <td>monte</td>\n",
       "      <td>IT-STGCN</td>\n",
       "      <td>0.149142</td>\n",
       "      <td>block</td>\n",
       "      <td>4</td>\n",
       "      <td>12</td>\n",
       "      <td>nearest</td>\n",
       "      <td>50</td>\n",
       "      <td>0.933899</td>\n",
       "      <td>449.077441</td>\n",
       "    </tr>\n",
       "    <tr>\n",
       "      <th>388</th>\n",
       "      <td>monte</td>\n",
       "      <td>STGCN</td>\n",
       "      <td>0.149142</td>\n",
       "      <td>block</td>\n",
       "      <td>4</td>\n",
       "      <td>12</td>\n",
       "      <td>nearest</td>\n",
       "      <td>50</td>\n",
       "      <td>0.933985</td>\n",
       "      <td>332.606736</td>\n",
       "    </tr>\n",
       "    <tr>\n",
       "      <th>389</th>\n",
       "      <td>monte</td>\n",
       "      <td>IT-STGCN</td>\n",
       "      <td>0.149142</td>\n",
       "      <td>block</td>\n",
       "      <td>4</td>\n",
       "      <td>12</td>\n",
       "      <td>nearest</td>\n",
       "      <td>50</td>\n",
       "      <td>0.931460</td>\n",
       "      <td>476.834988</td>\n",
       "    </tr>\n",
       "  </tbody>\n",
       "</table>\n",
       "<p>1878 rows × 10 columns</p>\n",
       "</div>"
      ],
      "text/plain": [
       "       dataset    method     mrate  mtype  lags  nof_filters inter_method  \\\n",
       "0    fivenodes     STGCN  0.000000    NaN     2           12          NaN   \n",
       "1    fivenodes     STGCN  0.000000    NaN     2           12          NaN   \n",
       "2    fivenodes     STGCN  0.700000   rand     2           12       linear   \n",
       "3    fivenodes     STGCN  0.700000   rand     2           12      nearest   \n",
       "4    fivenodes     STGCN  0.800000   rand     2           12       linear   \n",
       "..         ...       ...       ...    ...   ...          ...          ...   \n",
       "385      monte  IT-STGCN  0.149142  block     4           12      nearest   \n",
       "386      monte     STGCN  0.149142  block     4           12      nearest   \n",
       "387      monte  IT-STGCN  0.149142  block     4           12      nearest   \n",
       "388      monte     STGCN  0.149142  block     4           12      nearest   \n",
       "389      monte  IT-STGCN  0.149142  block     4           12      nearest   \n",
       "\n",
       "     epoch       mse  calculation_time  \n",
       "0       50  0.729374         80.985221  \n",
       "1       50  0.729082         80.891788  \n",
       "2       50  1.892262         81.976547  \n",
       "3       50  2.211288         87.803869  \n",
       "4       50  2.072818        103.648742  \n",
       "..     ...       ...               ...  \n",
       "385     50  0.932036        472.003806  \n",
       "386     50  0.936046        384.706071  \n",
       "387     50  0.933899        449.077441  \n",
       "388     50  0.933985        332.606736  \n",
       "389     50  0.931460        476.834988  \n",
       "\n",
       "[1878 rows x 10 columns]"
      ]
     },
     "execution_count": 115,
     "metadata": {},
     "output_type": "execute_result"
    }
   ],
   "source": [
    "data = pd.concat([data_fivenodes,data_chickenpox,data_pedal,data__wiki,data_windmillsmall,data_monte]);data"
   ]
  },
  {
   "cell_type": "markdown",
   "id": "938a1646-d52d-48c5-bd19-27cb7593b9f8",
   "metadata": {
    "tags": []
   },
   "source": [
    "# Fivenodes"
   ]
  },
  {
   "cell_type": "markdown",
   "id": "2cd2994e-1510-4cdf-b07a-8d0d50d55b38",
   "metadata": {},
   "source": [
    "## Baseline"
   ]
  },
  {
   "cell_type": "code",
   "execution_count": 41,
   "id": "156e2353-5ee1-4cf9-ada3-161447f901fa",
   "metadata": {},
   "outputs": [
    {
     "data": {
      "text/html": [
       "<div>\n",
       "<style scoped>\n",
       "    .dataframe tbody tr th:only-of-type {\n",
       "        vertical-align: middle;\n",
       "    }\n",
       "\n",
       "    .dataframe tbody tr th {\n",
       "        vertical-align: top;\n",
       "    }\n",
       "\n",
       "    .dataframe thead th {\n",
       "        text-align: right;\n",
       "    }\n",
       "</style>\n",
       "<table border=\"1\" class=\"dataframe\">\n",
       "  <thead>\n",
       "    <tr style=\"text-align: right;\">\n",
       "      <th></th>\n",
       "      <th>nof_filters</th>\n",
       "      <th>method</th>\n",
       "      <th>lags</th>\n",
       "      <th>mean</th>\n",
       "      <th>std</th>\n",
       "    </tr>\n",
       "  </thead>\n",
       "  <tbody>\n",
       "    <tr>\n",
       "      <th>0</th>\n",
       "      <td>12</td>\n",
       "      <td>IT-STGCN</td>\n",
       "      <td>2</td>\n",
       "      <td>0.732</td>\n",
       "      <td>0.005</td>\n",
       "    </tr>\n",
       "    <tr>\n",
       "      <th>1</th>\n",
       "      <td>12</td>\n",
       "      <td>STGCN</td>\n",
       "      <td>2</td>\n",
       "      <td>0.732</td>\n",
       "      <td>0.005</td>\n",
       "    </tr>\n",
       "  </tbody>\n",
       "</table>\n",
       "</div>"
      ],
      "text/plain": [
       "   nof_filters    method  lags   mean    std\n",
       "0           12  IT-STGCN     2  0.732  0.005\n",
       "1           12     STGCN     2  0.732  0.005"
      ]
     },
     "execution_count": 41,
     "metadata": {},
     "output_type": "execute_result"
    }
   ],
   "source": [
    "pd.merge(data.query(\"dataset=='fivenodes' and mtype!='rand' and mtype!='block'\").groupby(['nof_filters','method','lags'])['mse'].mean().reset_index(),\n",
    "         data.query(\"dataset=='fivenodes' and mtype!='rand' and mtype!='block'\").groupby(['nof_filters','method','lags'])['mse'].std().reset_index(),\n",
    "         on=['method','nof_filters','lags']).rename(columns={'mse_x':'mean','mse_y':'std'}).round(3)"
   ]
  },
  {
   "cell_type": "markdown",
   "id": "753413f0-1b30-4efe-98b6-9149ea65975e",
   "metadata": {},
   "source": [
    "## Random"
   ]
  },
  {
   "cell_type": "code",
   "execution_count": 42,
   "id": "8eaefdd1-eabe-4452-97e9-2c79d3e510fa",
   "metadata": {},
   "outputs": [
    {
     "data": {
      "text/html": [
       "<div>\n",
       "<style scoped>\n",
       "    .dataframe tbody tr th:only-of-type {\n",
       "        vertical-align: middle;\n",
       "    }\n",
       "\n",
       "    .dataframe tbody tr th {\n",
       "        vertical-align: top;\n",
       "    }\n",
       "\n",
       "    .dataframe thead th {\n",
       "        text-align: right;\n",
       "    }\n",
       "</style>\n",
       "<table border=\"1\" class=\"dataframe\">\n",
       "  <thead>\n",
       "    <tr style=\"text-align: right;\">\n",
       "      <th></th>\n",
       "      <th>mrate</th>\n",
       "      <th>nof_filters</th>\n",
       "      <th>method</th>\n",
       "      <th>lags</th>\n",
       "      <th>mean</th>\n",
       "      <th>std</th>\n",
       "    </tr>\n",
       "  </thead>\n",
       "  <tbody>\n",
       "    <tr>\n",
       "      <th>0</th>\n",
       "      <td>0.7</td>\n",
       "      <td>12</td>\n",
       "      <td>IT-STGCN</td>\n",
       "      <td>2</td>\n",
       "      <td>1.167</td>\n",
       "      <td>0.059</td>\n",
       "    </tr>\n",
       "    <tr>\n",
       "      <th>1</th>\n",
       "      <td>0.7</td>\n",
       "      <td>12</td>\n",
       "      <td>STGCN</td>\n",
       "      <td>2</td>\n",
       "      <td>2.077</td>\n",
       "      <td>0.252</td>\n",
       "    </tr>\n",
       "    <tr>\n",
       "      <th>2</th>\n",
       "      <td>0.8</td>\n",
       "      <td>12</td>\n",
       "      <td>IT-STGCN</td>\n",
       "      <td>2</td>\n",
       "      <td>1.371</td>\n",
       "      <td>0.097</td>\n",
       "    </tr>\n",
       "    <tr>\n",
       "      <th>3</th>\n",
       "      <td>0.8</td>\n",
       "      <td>12</td>\n",
       "      <td>STGCN</td>\n",
       "      <td>2</td>\n",
       "      <td>2.432</td>\n",
       "      <td>0.263</td>\n",
       "    </tr>\n",
       "  </tbody>\n",
       "</table>\n",
       "</div>"
      ],
      "text/plain": [
       "   mrate  nof_filters    method  lags   mean    std\n",
       "0    0.7           12  IT-STGCN     2  1.167  0.059\n",
       "1    0.7           12     STGCN     2  2.077  0.252\n",
       "2    0.8           12  IT-STGCN     2  1.371  0.097\n",
       "3    0.8           12     STGCN     2  2.432  0.263"
      ]
     },
     "execution_count": 42,
     "metadata": {},
     "output_type": "execute_result"
    }
   ],
   "source": [
    "pd.merge(data.query(\"dataset=='fivenodes' and mtype=='rand'\").groupby(['mrate','nof_filters','method','lags'])['mse'].mean().reset_index(),\n",
    "         data.query(\"dataset=='fivenodes' and mtype=='rand'\").groupby(['mrate','nof_filters','method','lags'])['mse'].std().reset_index(),\n",
    "         on=['method','nof_filters','mrate','lags']).rename(columns={'mse_x':'mean','mse_y':'std'}).round(3).query(\"nof_filters==12\")"
   ]
  },
  {
   "cell_type": "markdown",
   "id": "71261a14-74a1-4050-b063-91a46c649010",
   "metadata": {},
   "source": [
    "## Block"
   ]
  },
  {
   "cell_type": "code",
   "execution_count": 43,
   "id": "6f2c31a3-2d9c-487c-a43e-9c49657f2586",
   "metadata": {},
   "outputs": [
    {
     "data": {
      "text/html": [
       "<div>\n",
       "<style scoped>\n",
       "    .dataframe tbody tr th:only-of-type {\n",
       "        vertical-align: middle;\n",
       "    }\n",
       "\n",
       "    .dataframe tbody tr th {\n",
       "        vertical-align: top;\n",
       "    }\n",
       "\n",
       "    .dataframe thead th {\n",
       "        text-align: right;\n",
       "    }\n",
       "</style>\n",
       "<table border=\"1\" class=\"dataframe\">\n",
       "  <thead>\n",
       "    <tr style=\"text-align: right;\">\n",
       "      <th></th>\n",
       "      <th>mrate</th>\n",
       "      <th>nof_filters</th>\n",
       "      <th>method</th>\n",
       "      <th>mean</th>\n",
       "      <th>std</th>\n",
       "    </tr>\n",
       "  </thead>\n",
       "  <tbody>\n",
       "    <tr>\n",
       "      <th>0</th>\n",
       "      <td>0.125</td>\n",
       "      <td>12</td>\n",
       "      <td>IT-STGCN</td>\n",
       "      <td>1.160</td>\n",
       "      <td>0.042</td>\n",
       "    </tr>\n",
       "    <tr>\n",
       "      <th>1</th>\n",
       "      <td>0.125</td>\n",
       "      <td>12</td>\n",
       "      <td>STGCN</td>\n",
       "      <td>1.215</td>\n",
       "      <td>0.036</td>\n",
       "    </tr>\n",
       "  </tbody>\n",
       "</table>\n",
       "</div>"
      ],
      "text/plain": [
       "   mrate  nof_filters    method   mean    std\n",
       "0  0.125           12  IT-STGCN  1.160  0.042\n",
       "1  0.125           12     STGCN  1.215  0.036"
      ]
     },
     "execution_count": 43,
     "metadata": {},
     "output_type": "execute_result"
    }
   ],
   "source": [
    "pd.merge(data.query(\"dataset=='fivenodes' and mtype=='block'\").groupby(['mrate','nof_filters','method'])['mse'].mean().reset_index(),\n",
    "         data.query(\"dataset=='fivenodes' and mtype=='block'\").groupby(['mrate','nof_filters','method'])['mse'].std().reset_index(),\n",
    "         on=['method','nof_filters','mrate']).rename(columns={'mse_x':'mean','mse_y':'std'}).round(3)"
   ]
  },
  {
   "cell_type": "markdown",
   "id": "4c94ed76-1825-417a-8c8f-0020ce464dcc",
   "metadata": {},
   "source": [
    "# ChickenpoxDatasetLoader(lags=4)"
   ]
  },
  {
   "cell_type": "markdown",
   "id": "bd047f57-044e-48b3-a1be-9be472c7ee83",
   "metadata": {},
   "source": [
    "## Baseline"
   ]
  },
  {
   "cell_type": "code",
   "execution_count": 108,
   "id": "bb9e8543-d7f7-4024-b5dd-38309dcbcedf",
   "metadata": {},
   "outputs": [
    {
     "data": {
      "text/html": [
       "<div>\n",
       "<style scoped>\n",
       "    .dataframe tbody tr th:only-of-type {\n",
       "        vertical-align: middle;\n",
       "    }\n",
       "\n",
       "    .dataframe tbody tr th {\n",
       "        vertical-align: top;\n",
       "    }\n",
       "\n",
       "    .dataframe thead th {\n",
       "        text-align: right;\n",
       "    }\n",
       "</style>\n",
       "<table border=\"1\" class=\"dataframe\">\n",
       "  <thead>\n",
       "    <tr style=\"text-align: right;\">\n",
       "      <th></th>\n",
       "      <th>nof_filters</th>\n",
       "      <th>method</th>\n",
       "      <th>mean</th>\n",
       "      <th>std</th>\n",
       "    </tr>\n",
       "  </thead>\n",
       "  <tbody>\n",
       "    <tr>\n",
       "      <th>0</th>\n",
       "      <td>16</td>\n",
       "      <td>IT-STGCN</td>\n",
       "      <td>0.752</td>\n",
       "      <td>0.013</td>\n",
       "    </tr>\n",
       "    <tr>\n",
       "      <th>1</th>\n",
       "      <td>16</td>\n",
       "      <td>STGCN</td>\n",
       "      <td>0.752</td>\n",
       "      <td>0.012</td>\n",
       "    </tr>\n",
       "  </tbody>\n",
       "</table>\n",
       "</div>"
      ],
      "text/plain": [
       "   nof_filters    method   mean    std\n",
       "0           16  IT-STGCN  0.752  0.013\n",
       "1           16     STGCN  0.752  0.012"
      ]
     },
     "execution_count": 108,
     "metadata": {},
     "output_type": "execute_result"
    }
   ],
   "source": [
    "pd.merge(data.query(\"dataset=='chickenpox' and mtype!='rand' and mtype!='block'\").groupby(['nof_filters','method'])['mse'].mean().reset_index(),\n",
    "         data.query(\"dataset=='chickenpox' and mtype!='rand' and mtype!='block'\").groupby(['nof_filters','method'])['mse'].std().reset_index(),\n",
    "         on=['method','nof_filters']).rename(columns={'mse_x':'mean','mse_y':'std'}).round(3).query(\"nof_filters==16\")"
   ]
  },
  {
   "cell_type": "markdown",
   "id": "9f9ccd59-7b8b-441c-94da-36153f45fbc2",
   "metadata": {},
   "source": [
    "## Random"
   ]
  },
  {
   "cell_type": "code",
   "execution_count": 109,
   "id": "c57cc44c-dce2-436d-8d3e-2527ecfc2556",
   "metadata": {},
   "outputs": [
    {
     "data": {
      "text/html": [
       "<div>\n",
       "<style scoped>\n",
       "    .dataframe tbody tr th:only-of-type {\n",
       "        vertical-align: middle;\n",
       "    }\n",
       "\n",
       "    .dataframe tbody tr th {\n",
       "        vertical-align: top;\n",
       "    }\n",
       "\n",
       "    .dataframe thead th {\n",
       "        text-align: right;\n",
       "    }\n",
       "</style>\n",
       "<table border=\"1\" class=\"dataframe\">\n",
       "  <thead>\n",
       "    <tr style=\"text-align: right;\">\n",
       "      <th></th>\n",
       "      <th>mrate</th>\n",
       "      <th>inter_method</th>\n",
       "      <th>nof_filters</th>\n",
       "      <th>method</th>\n",
       "      <th>mean</th>\n",
       "      <th>std</th>\n",
       "    </tr>\n",
       "  </thead>\n",
       "  <tbody>\n",
       "    <tr>\n",
       "      <th>0</th>\n",
       "      <td>0.3</td>\n",
       "      <td>linear</td>\n",
       "      <td>16</td>\n",
       "      <td>IT-STGCN</td>\n",
       "      <td>0.851</td>\n",
       "      <td>0.031</td>\n",
       "    </tr>\n",
       "    <tr>\n",
       "      <th>1</th>\n",
       "      <td>0.3</td>\n",
       "      <td>linear</td>\n",
       "      <td>16</td>\n",
       "      <td>STGCN</td>\n",
       "      <td>1.087</td>\n",
       "      <td>0.046</td>\n",
       "    </tr>\n",
       "    <tr>\n",
       "      <th>2</th>\n",
       "      <td>0.8</td>\n",
       "      <td>linear</td>\n",
       "      <td>16</td>\n",
       "      <td>IT-STGCN</td>\n",
       "      <td>1.586</td>\n",
       "      <td>0.199</td>\n",
       "    </tr>\n",
       "    <tr>\n",
       "      <th>3</th>\n",
       "      <td>0.8</td>\n",
       "      <td>linear</td>\n",
       "      <td>16</td>\n",
       "      <td>STGCN</td>\n",
       "      <td>2.529</td>\n",
       "      <td>0.292</td>\n",
       "    </tr>\n",
       "  </tbody>\n",
       "</table>\n",
       "</div>"
      ],
      "text/plain": [
       "   mrate inter_method  nof_filters    method   mean    std\n",
       "0    0.3       linear           16  IT-STGCN  0.851  0.031\n",
       "1    0.3       linear           16     STGCN  1.087  0.046\n",
       "2    0.8       linear           16  IT-STGCN  1.586  0.199\n",
       "3    0.8       linear           16     STGCN  2.529  0.292"
      ]
     },
     "execution_count": 109,
     "metadata": {},
     "output_type": "execute_result"
    }
   ],
   "source": [
    "pd.merge(data.query(\"dataset=='chickenpox' and mtype=='rand'\").groupby(['mrate','inter_method','nof_filters','method'])['mse'].mean().reset_index(),\n",
    "         data.query(\"dataset=='chickenpox' and mtype=='rand'\").groupby(['mrate','inter_method','nof_filters','method'])['mse'].std().reset_index(),\n",
    "         on=['method','inter_method','mrate','nof_filters']).rename(columns={'mse_x':'mean','mse_y':'std'}).round(3)"
   ]
  },
  {
   "cell_type": "markdown",
   "id": "1b80894b-356c-4627-92c9-7b8bf3b19a04",
   "metadata": {},
   "source": [
    "## Block"
   ]
  },
  {
   "cell_type": "code",
   "execution_count": 110,
   "id": "4f347949-8d0a-4074-aa3c-1c73e94c1c34",
   "metadata": {},
   "outputs": [
    {
     "data": {
      "text/html": [
       "<div>\n",
       "<style scoped>\n",
       "    .dataframe tbody tr th:only-of-type {\n",
       "        vertical-align: middle;\n",
       "    }\n",
       "\n",
       "    .dataframe tbody tr th {\n",
       "        vertical-align: top;\n",
       "    }\n",
       "\n",
       "    .dataframe thead th {\n",
       "        text-align: right;\n",
       "    }\n",
       "</style>\n",
       "<table border=\"1\" class=\"dataframe\">\n",
       "  <thead>\n",
       "    <tr style=\"text-align: right;\">\n",
       "      <th></th>\n",
       "      <th>inter_method</th>\n",
       "      <th>mrate</th>\n",
       "      <th>nof_filters</th>\n",
       "      <th>method</th>\n",
       "      <th>mean</th>\n",
       "      <th>std</th>\n",
       "    </tr>\n",
       "  </thead>\n",
       "  <tbody>\n",
       "    <tr>\n",
       "      <th>0</th>\n",
       "      <td>linear</td>\n",
       "      <td>0.28777</td>\n",
       "      <td>16</td>\n",
       "      <td>IT-STGCN</td>\n",
       "      <td>0.807041</td>\n",
       "      <td>0.016362</td>\n",
       "    </tr>\n",
       "    <tr>\n",
       "      <th>1</th>\n",
       "      <td>linear</td>\n",
       "      <td>0.28777</td>\n",
       "      <td>16</td>\n",
       "      <td>STGCN</td>\n",
       "      <td>0.828224</td>\n",
       "      <td>0.021919</td>\n",
       "    </tr>\n",
       "    <tr>\n",
       "      <th>2</th>\n",
       "      <td>nearest</td>\n",
       "      <td>0.28777</td>\n",
       "      <td>16</td>\n",
       "      <td>IT-STGCN</td>\n",
       "      <td>0.823756</td>\n",
       "      <td>0.022918</td>\n",
       "    </tr>\n",
       "    <tr>\n",
       "      <th>3</th>\n",
       "      <td>nearest</td>\n",
       "      <td>0.28777</td>\n",
       "      <td>16</td>\n",
       "      <td>STGCN</td>\n",
       "      <td>0.828498</td>\n",
       "      <td>0.022007</td>\n",
       "    </tr>\n",
       "  </tbody>\n",
       "</table>\n",
       "</div>"
      ],
      "text/plain": [
       "  inter_method    mrate  nof_filters    method      mean       std\n",
       "0       linear  0.28777           16  IT-STGCN  0.807041  0.016362\n",
       "1       linear  0.28777           16     STGCN  0.828224  0.021919\n",
       "2      nearest  0.28777           16  IT-STGCN  0.823756  0.022918\n",
       "3      nearest  0.28777           16     STGCN  0.828498  0.022007"
      ]
     },
     "execution_count": 110,
     "metadata": {},
     "output_type": "execute_result"
    }
   ],
   "source": [
    "pd.merge(data.query(\"dataset=='chickenpox' and mtype=='block'\").groupby(['inter_method','mrate','nof_filters','method'])['mse'].mean().reset_index(),\n",
    "         data.query(\"dataset=='chickenpox' and mtype=='block'\").groupby(['inter_method','mrate','nof_filters','method'])['mse'].std().reset_index(),\n",
    "         on=['method','inter_method','mrate','nof_filters']).rename(columns={'mse_x':'mean','mse_y':'std'})"
   ]
  },
  {
   "cell_type": "markdown",
   "id": "33dfc1e5-ec10-4b12-b561-71bc36edfcbe",
   "metadata": {},
   "source": [
    "# PedalMeDatasetLoader (lags=4)"
   ]
  },
  {
   "cell_type": "markdown",
   "id": "0286bfba-94aa-40d6-b478-42e405564961",
   "metadata": {},
   "source": [
    "## Baseline"
   ]
  },
  {
   "cell_type": "code",
   "execution_count": 47,
   "id": "a300e109-1780-49c1-a4e7-c2e97f89f62d",
   "metadata": {},
   "outputs": [
    {
     "data": {
      "text/html": [
       "<div>\n",
       "<style scoped>\n",
       "    .dataframe tbody tr th:only-of-type {\n",
       "        vertical-align: middle;\n",
       "    }\n",
       "\n",
       "    .dataframe tbody tr th {\n",
       "        vertical-align: top;\n",
       "    }\n",
       "\n",
       "    .dataframe thead th {\n",
       "        text-align: right;\n",
       "    }\n",
       "</style>\n",
       "<table border=\"1\" class=\"dataframe\">\n",
       "  <thead>\n",
       "    <tr style=\"text-align: right;\">\n",
       "      <th></th>\n",
       "      <th>lags</th>\n",
       "      <th>nof_filters</th>\n",
       "      <th>method</th>\n",
       "      <th>mean</th>\n",
       "      <th>std</th>\n",
       "    </tr>\n",
       "  </thead>\n",
       "  <tbody>\n",
       "    <tr>\n",
       "      <th>0</th>\n",
       "      <td>4</td>\n",
       "      <td>12</td>\n",
       "      <td>IT-STGCN</td>\n",
       "      <td>1.233</td>\n",
       "      <td>0.115</td>\n",
       "    </tr>\n",
       "    <tr>\n",
       "      <th>1</th>\n",
       "      <td>4</td>\n",
       "      <td>12</td>\n",
       "      <td>STGCN</td>\n",
       "      <td>1.233</td>\n",
       "      <td>0.099</td>\n",
       "    </tr>\n",
       "  </tbody>\n",
       "</table>\n",
       "</div>"
      ],
      "text/plain": [
       "   lags  nof_filters    method   mean    std\n",
       "0     4           12  IT-STGCN  1.233  0.115\n",
       "1     4           12     STGCN  1.233  0.099"
      ]
     },
     "execution_count": 47,
     "metadata": {},
     "output_type": "execute_result"
    }
   ],
   "source": [
    "pd.merge(data.query(\"dataset=='pedalme' and mtype!='rand' and mtype!='block'\").groupby(['lags','nof_filters','method'])['mse'].mean().reset_index(),\n",
    "         data.query(\"dataset=='pedalme' and mtype!='rand' and mtype!='block'\").groupby(['lags','nof_filters','method'])['mse'].std().reset_index(),\n",
    "         on=['method','lags','nof_filters']).rename(columns={'mse_x':'mean','mse_y':'std'}).round(3).query(\"lags==4\")"
   ]
  },
  {
   "cell_type": "markdown",
   "id": "c15ae2f3-11d9-4dad-9c52-0a73612f0237",
   "metadata": {},
   "source": [
    "## Random"
   ]
  },
  {
   "cell_type": "code",
   "execution_count": 48,
   "id": "4d2b77ef-5564-4992-8169-b5ed790d199e",
   "metadata": {},
   "outputs": [
    {
     "data": {
      "text/html": [
       "<div>\n",
       "<style scoped>\n",
       "    .dataframe tbody tr th:only-of-type {\n",
       "        vertical-align: middle;\n",
       "    }\n",
       "\n",
       "    .dataframe tbody tr th {\n",
       "        vertical-align: top;\n",
       "    }\n",
       "\n",
       "    .dataframe thead th {\n",
       "        text-align: right;\n",
       "    }\n",
       "</style>\n",
       "<table border=\"1\" class=\"dataframe\">\n",
       "  <thead>\n",
       "    <tr style=\"text-align: right;\">\n",
       "      <th></th>\n",
       "      <th>mrate</th>\n",
       "      <th>lags</th>\n",
       "      <th>inter_method</th>\n",
       "      <th>method</th>\n",
       "      <th>mean</th>\n",
       "      <th>std</th>\n",
       "    </tr>\n",
       "  </thead>\n",
       "  <tbody>\n",
       "    <tr>\n",
       "      <th>0</th>\n",
       "      <td>0.3</td>\n",
       "      <td>4</td>\n",
       "      <td>linear</td>\n",
       "      <td>IT-STGCN</td>\n",
       "      <td>1.354</td>\n",
       "      <td>0.134</td>\n",
       "    </tr>\n",
       "    <tr>\n",
       "      <th>1</th>\n",
       "      <td>0.3</td>\n",
       "      <td>4</td>\n",
       "      <td>linear</td>\n",
       "      <td>STGCN</td>\n",
       "      <td>1.575</td>\n",
       "      <td>0.198</td>\n",
       "    </tr>\n",
       "    <tr>\n",
       "      <th>2</th>\n",
       "      <td>0.3</td>\n",
       "      <td>4</td>\n",
       "      <td>nearest</td>\n",
       "      <td>IT-STGCN</td>\n",
       "      <td>1.385</td>\n",
       "      <td>0.173</td>\n",
       "    </tr>\n",
       "    <tr>\n",
       "      <th>3</th>\n",
       "      <td>0.3</td>\n",
       "      <td>4</td>\n",
       "      <td>nearest</td>\n",
       "      <td>STGCN</td>\n",
       "      <td>1.527</td>\n",
       "      <td>0.342</td>\n",
       "    </tr>\n",
       "    <tr>\n",
       "      <th>4</th>\n",
       "      <td>0.6</td>\n",
       "      <td>4</td>\n",
       "      <td>linear</td>\n",
       "      <td>IT-STGCN</td>\n",
       "      <td>1.516</td>\n",
       "      <td>0.211</td>\n",
       "    </tr>\n",
       "    <tr>\n",
       "      <th>5</th>\n",
       "      <td>0.6</td>\n",
       "      <td>4</td>\n",
       "      <td>linear</td>\n",
       "      <td>STGCN</td>\n",
       "      <td>1.655</td>\n",
       "      <td>0.179</td>\n",
       "    </tr>\n",
       "    <tr>\n",
       "      <th>6</th>\n",
       "      <td>0.6</td>\n",
       "      <td>4</td>\n",
       "      <td>nearest</td>\n",
       "      <td>IT-STGCN</td>\n",
       "      <td>1.625</td>\n",
       "      <td>0.324</td>\n",
       "    </tr>\n",
       "    <tr>\n",
       "      <th>7</th>\n",
       "      <td>0.6</td>\n",
       "      <td>4</td>\n",
       "      <td>nearest</td>\n",
       "      <td>STGCN</td>\n",
       "      <td>1.851</td>\n",
       "      <td>0.254</td>\n",
       "    </tr>\n",
       "  </tbody>\n",
       "</table>\n",
       "</div>"
      ],
      "text/plain": [
       "   mrate  lags inter_method    method   mean    std\n",
       "0    0.3     4       linear  IT-STGCN  1.354  0.134\n",
       "1    0.3     4       linear     STGCN  1.575  0.198\n",
       "2    0.3     4      nearest  IT-STGCN  1.385  0.173\n",
       "3    0.3     4      nearest     STGCN  1.527  0.342\n",
       "4    0.6     4       linear  IT-STGCN  1.516  0.211\n",
       "5    0.6     4       linear     STGCN  1.655  0.179\n",
       "6    0.6     4      nearest  IT-STGCN  1.625  0.324\n",
       "7    0.6     4      nearest     STGCN  1.851  0.254"
      ]
     },
     "execution_count": 48,
     "metadata": {},
     "output_type": "execute_result"
    }
   ],
   "source": [
    "pd.merge(data.query(\"dataset=='pedalme' and mtype=='rand'\").groupby(['mrate','lags','inter_method','method'])['mse'].mean().reset_index(),\n",
    "         data.query(\"dataset=='pedalme' and mtype=='rand'\").groupby(['mrate','lags','inter_method','method'])['mse'].std().reset_index(),\n",
    "         on=['method','mrate','lags','inter_method']).rename(columns={'mse_x':'mean','mse_y':'std'}).round(3)"
   ]
  },
  {
   "cell_type": "markdown",
   "id": "b1727f15-8934-4ec0-a5df-fb2ecaffee60",
   "metadata": {},
   "source": [
    "## Block"
   ]
  },
  {
   "cell_type": "code",
   "execution_count": 49,
   "id": "577831cf-8f43-4096-b889-ed611aff3fcf",
   "metadata": {},
   "outputs": [
    {
     "data": {
      "text/html": [
       "<div>\n",
       "<style scoped>\n",
       "    .dataframe tbody tr th:only-of-type {\n",
       "        vertical-align: middle;\n",
       "    }\n",
       "\n",
       "    .dataframe tbody tr th {\n",
       "        vertical-align: top;\n",
       "    }\n",
       "\n",
       "    .dataframe thead th {\n",
       "        text-align: right;\n",
       "    }\n",
       "</style>\n",
       "<table border=\"1\" class=\"dataframe\">\n",
       "  <thead>\n",
       "    <tr style=\"text-align: right;\">\n",
       "      <th></th>\n",
       "      <th>mrate</th>\n",
       "      <th>lags</th>\n",
       "      <th>inter_method</th>\n",
       "      <th>method</th>\n",
       "      <th>mean</th>\n",
       "      <th>std</th>\n",
       "    </tr>\n",
       "  </thead>\n",
       "  <tbody>\n",
       "    <tr>\n",
       "      <th>0</th>\n",
       "      <td>0.286</td>\n",
       "      <td>4</td>\n",
       "      <td>linear</td>\n",
       "      <td>IT-STGCN</td>\n",
       "      <td>1.329</td>\n",
       "      <td>0.131</td>\n",
       "    </tr>\n",
       "    <tr>\n",
       "      <th>1</th>\n",
       "      <td>0.286</td>\n",
       "      <td>4</td>\n",
       "      <td>linear</td>\n",
       "      <td>STGCN</td>\n",
       "      <td>1.320</td>\n",
       "      <td>0.111</td>\n",
       "    </tr>\n",
       "    <tr>\n",
       "      <th>2</th>\n",
       "      <td>0.286</td>\n",
       "      <td>4</td>\n",
       "      <td>nearest</td>\n",
       "      <td>IT-STGCN</td>\n",
       "      <td>1.289</td>\n",
       "      <td>0.115</td>\n",
       "    </tr>\n",
       "    <tr>\n",
       "      <th>3</th>\n",
       "      <td>0.286</td>\n",
       "      <td>4</td>\n",
       "      <td>nearest</td>\n",
       "      <td>STGCN</td>\n",
       "      <td>1.270</td>\n",
       "      <td>0.114</td>\n",
       "    </tr>\n",
       "  </tbody>\n",
       "</table>\n",
       "</div>"
      ],
      "text/plain": [
       "   mrate  lags inter_method    method   mean    std\n",
       "0  0.286     4       linear  IT-STGCN  1.329  0.131\n",
       "1  0.286     4       linear     STGCN  1.320  0.111\n",
       "2  0.286     4      nearest  IT-STGCN  1.289  0.115\n",
       "3  0.286     4      nearest     STGCN  1.270  0.114"
      ]
     },
     "execution_count": 49,
     "metadata": {},
     "output_type": "execute_result"
    }
   ],
   "source": [
    "pd.merge(data.query(\"dataset=='pedalme' and mtype=='block'\").groupby(['mrate','lags','inter_method','method'])['mse'].mean().reset_index(),\n",
    "         data.query(\"dataset=='pedalme' and mtype=='block'\").groupby(['mrate','lags','inter_method','method'])['mse'].std().reset_index(),\n",
    "         on=['method','mrate','lags','inter_method']).rename(columns={'mse_x':'mean','mse_y':'std'}).round(3).query(\"lags==4\")"
   ]
  },
  {
   "cell_type": "markdown",
   "id": "ca2703e3-4ca5-43fa-ace5-fd0986e0e90b",
   "metadata": {},
   "source": [
    "## W_st"
   ]
  },
  {
   "cell_type": "code",
   "execution_count": 71,
   "id": "342d5e6e-1e72-4ad2-8e70-04e095ce5368",
   "metadata": {},
   "outputs": [
    {
     "data": {
      "text/html": [
       "<div>\n",
       "<style scoped>\n",
       "    .dataframe tbody tr th:only-of-type {\n",
       "        vertical-align: middle;\n",
       "    }\n",
       "\n",
       "    .dataframe tbody tr th {\n",
       "        vertical-align: top;\n",
       "    }\n",
       "\n",
       "    .dataframe thead th {\n",
       "        text-align: right;\n",
       "    }\n",
       "</style>\n",
       "<table border=\"1\" class=\"dataframe\">\n",
       "  <thead>\n",
       "    <tr style=\"text-align: right;\">\n",
       "      <th></th>\n",
       "      <th>mrate</th>\n",
       "      <th>lags</th>\n",
       "      <th>inter_method</th>\n",
       "      <th>method</th>\n",
       "      <th>mean</th>\n",
       "      <th>std</th>\n",
       "    </tr>\n",
       "  </thead>\n",
       "  <tbody>\n",
       "    <tr>\n",
       "      <th>0</th>\n",
       "      <td>0.3</td>\n",
       "      <td>4</td>\n",
       "      <td>linear</td>\n",
       "      <td>IT-STGCN</td>\n",
       "      <td>1.270</td>\n",
       "      <td>0.163</td>\n",
       "    </tr>\n",
       "    <tr>\n",
       "      <th>1</th>\n",
       "      <td>0.3</td>\n",
       "      <td>4</td>\n",
       "      <td>linear</td>\n",
       "      <td>STGCN</td>\n",
       "      <td>1.556</td>\n",
       "      <td>0.264</td>\n",
       "    </tr>\n",
       "    <tr>\n",
       "      <th>2</th>\n",
       "      <td>0.3</td>\n",
       "      <td>4</td>\n",
       "      <td>nearest</td>\n",
       "      <td>IT-STGCN</td>\n",
       "      <td>1.324</td>\n",
       "      <td>0.163</td>\n",
       "    </tr>\n",
       "    <tr>\n",
       "      <th>3</th>\n",
       "      <td>0.3</td>\n",
       "      <td>4</td>\n",
       "      <td>nearest</td>\n",
       "      <td>STGCN</td>\n",
       "      <td>1.520</td>\n",
       "      <td>0.206</td>\n",
       "    </tr>\n",
       "    <tr>\n",
       "      <th>4</th>\n",
       "      <td>0.6</td>\n",
       "      <td>4</td>\n",
       "      <td>linear</td>\n",
       "      <td>IT-STGCN</td>\n",
       "      <td>1.434</td>\n",
       "      <td>0.222</td>\n",
       "    </tr>\n",
       "    <tr>\n",
       "      <th>5</th>\n",
       "      <td>0.6</td>\n",
       "      <td>4</td>\n",
       "      <td>linear</td>\n",
       "      <td>STGCN</td>\n",
       "      <td>1.678</td>\n",
       "      <td>0.211</td>\n",
       "    </tr>\n",
       "    <tr>\n",
       "      <th>6</th>\n",
       "      <td>0.6</td>\n",
       "      <td>4</td>\n",
       "      <td>nearest</td>\n",
       "      <td>IT-STGCN</td>\n",
       "      <td>1.410</td>\n",
       "      <td>0.208</td>\n",
       "    </tr>\n",
       "    <tr>\n",
       "      <th>7</th>\n",
       "      <td>0.6</td>\n",
       "      <td>4</td>\n",
       "      <td>nearest</td>\n",
       "      <td>STGCN</td>\n",
       "      <td>1.771</td>\n",
       "      <td>0.220</td>\n",
       "    </tr>\n",
       "  </tbody>\n",
       "</table>\n",
       "</div>"
      ],
      "text/plain": [
       "   mrate  lags inter_method    method   mean    std\n",
       "0    0.3     4       linear  IT-STGCN  1.270  0.163\n",
       "1    0.3     4       linear     STGCN  1.556  0.264\n",
       "2    0.3     4      nearest  IT-STGCN  1.324  0.163\n",
       "3    0.3     4      nearest     STGCN  1.520  0.206\n",
       "4    0.6     4       linear  IT-STGCN  1.434  0.222\n",
       "5    0.6     4       linear     STGCN  1.678  0.211\n",
       "6    0.6     4      nearest  IT-STGCN  1.410  0.208\n",
       "7    0.6     4      nearest     STGCN  1.771  0.220"
      ]
     },
     "execution_count": 71,
     "metadata": {},
     "output_type": "execute_result"
    }
   ],
   "source": [
    "pd.merge(data_pedal2.query(\"mtype=='rand'\").groupby(['mrate','lags','inter_method','method'])['mse'].mean().reset_index(),\n",
    "         data_pedal2.query(\"mtype=='rand'\").groupby(['mrate','lags','inter_method','method'])['mse'].std().reset_index(),\n",
    "         on=['method','mrate','lags','inter_method']).rename(columns={'mse_x':'mean','mse_y':'std'}).round(3).query(\"lags==4\")"
   ]
  },
  {
   "cell_type": "code",
   "execution_count": 72,
   "id": "c0c626dd-3d91-4622-93ad-9497378fae27",
   "metadata": {},
   "outputs": [
    {
     "data": {
      "text/html": [
       "<div>\n",
       "<style scoped>\n",
       "    .dataframe tbody tr th:only-of-type {\n",
       "        vertical-align: middle;\n",
       "    }\n",
       "\n",
       "    .dataframe tbody tr th {\n",
       "        vertical-align: top;\n",
       "    }\n",
       "\n",
       "    .dataframe thead th {\n",
       "        text-align: right;\n",
       "    }\n",
       "</style>\n",
       "<table border=\"1\" class=\"dataframe\">\n",
       "  <thead>\n",
       "    <tr style=\"text-align: right;\">\n",
       "      <th></th>\n",
       "      <th>mrate</th>\n",
       "      <th>lags</th>\n",
       "      <th>inter_method</th>\n",
       "      <th>method</th>\n",
       "      <th>mean</th>\n",
       "      <th>std</th>\n",
       "    </tr>\n",
       "  </thead>\n",
       "  <tbody>\n",
       "    <tr>\n",
       "      <th>0</th>\n",
       "      <td>0.286</td>\n",
       "      <td>4</td>\n",
       "      <td>linear</td>\n",
       "      <td>IT-STGCN</td>\n",
       "      <td>1.391</td>\n",
       "      <td>0.151</td>\n",
       "    </tr>\n",
       "    <tr>\n",
       "      <th>1</th>\n",
       "      <td>0.286</td>\n",
       "      <td>4</td>\n",
       "      <td>linear</td>\n",
       "      <td>STGCN</td>\n",
       "      <td>1.420</td>\n",
       "      <td>0.110</td>\n",
       "    </tr>\n",
       "    <tr>\n",
       "      <th>2</th>\n",
       "      <td>0.286</td>\n",
       "      <td>4</td>\n",
       "      <td>nearest</td>\n",
       "      <td>IT-STGCN</td>\n",
       "      <td>1.361</td>\n",
       "      <td>0.114</td>\n",
       "    </tr>\n",
       "    <tr>\n",
       "      <th>3</th>\n",
       "      <td>0.286</td>\n",
       "      <td>4</td>\n",
       "      <td>nearest</td>\n",
       "      <td>STGCN</td>\n",
       "      <td>1.430</td>\n",
       "      <td>0.145</td>\n",
       "    </tr>\n",
       "  </tbody>\n",
       "</table>\n",
       "</div>"
      ],
      "text/plain": [
       "   mrate  lags inter_method    method   mean    std\n",
       "0  0.286     4       linear  IT-STGCN  1.391  0.151\n",
       "1  0.286     4       linear     STGCN  1.420  0.110\n",
       "2  0.286     4      nearest  IT-STGCN  1.361  0.114\n",
       "3  0.286     4      nearest     STGCN  1.430  0.145"
      ]
     },
     "execution_count": 72,
     "metadata": {},
     "output_type": "execute_result"
    }
   ],
   "source": [
    "pd.merge(data_pedal2.query(\"mtype=='block'\").groupby(['mrate','lags','inter_method','method'])['mse'].mean().reset_index(),\n",
    "         data_pedal2.query(\"mtype=='block'\").groupby(['mrate','lags','inter_method','method'])['mse'].std().reset_index(),\n",
    "         on=['method','mrate','lags','inter_method']).rename(columns={'mse_x':'mean','mse_y':'std'}).round(3).query(\"lags==4\")"
   ]
  },
  {
   "cell_type": "markdown",
   "id": "6d80756b-d0bd-4663-a847-20056d29b3cd",
   "metadata": {},
   "source": [
    "# WikiMathsDatasetLoader (lags=8)"
   ]
  },
  {
   "cell_type": "markdown",
   "id": "9455377c-c4b0-4ffc-824b-883234bd90ef",
   "metadata": {
    "tags": []
   },
   "source": [
    "## Baseline"
   ]
  },
  {
   "cell_type": "code",
   "execution_count": 77,
   "id": "f6c27c05-9c04-4430-8825-5e6036641655",
   "metadata": {},
   "outputs": [
    {
     "data": {
      "text/html": [
       "<div>\n",
       "<style scoped>\n",
       "    .dataframe tbody tr th:only-of-type {\n",
       "        vertical-align: middle;\n",
       "    }\n",
       "\n",
       "    .dataframe tbody tr th {\n",
       "        vertical-align: top;\n",
       "    }\n",
       "\n",
       "    .dataframe thead th {\n",
       "        text-align: right;\n",
       "    }\n",
       "</style>\n",
       "<table border=\"1\" class=\"dataframe\">\n",
       "  <thead>\n",
       "    <tr style=\"text-align: right;\">\n",
       "      <th></th>\n",
       "      <th>lags</th>\n",
       "      <th>nof_filters</th>\n",
       "      <th>method</th>\n",
       "      <th>mean</th>\n",
       "      <th>std</th>\n",
       "    </tr>\n",
       "  </thead>\n",
       "  <tbody>\n",
       "    <tr>\n",
       "      <th>0</th>\n",
       "      <td>8</td>\n",
       "      <td>12</td>\n",
       "      <td>IT-STGCN</td>\n",
       "      <td>0.529</td>\n",
       "      <td>0.003</td>\n",
       "    </tr>\n",
       "    <tr>\n",
       "      <th>1</th>\n",
       "      <td>8</td>\n",
       "      <td>12</td>\n",
       "      <td>STGCN</td>\n",
       "      <td>0.528</td>\n",
       "      <td>0.003</td>\n",
       "    </tr>\n",
       "  </tbody>\n",
       "</table>\n",
       "</div>"
      ],
      "text/plain": [
       "   lags  nof_filters    method   mean    std\n",
       "0     8           12  IT-STGCN  0.529  0.003\n",
       "1     8           12     STGCN  0.528  0.003"
      ]
     },
     "execution_count": 77,
     "metadata": {},
     "output_type": "execute_result"
    }
   ],
   "source": [
    "pd.merge(data.query(\"dataset=='wikimath' and mrate==0\").groupby(['lags','nof_filters','method'])['mse'].mean().reset_index(),\n",
    "         data.query(\"dataset=='wikimath' and mrate==0\").groupby(['lags','nof_filters','method'])['mse'].std().reset_index(),\n",
    "         on=['lags','nof_filters','method']).rename(columns={'mse_x':'mean','mse_y':'std'}).round(3)"
   ]
  },
  {
   "cell_type": "markdown",
   "id": "e78caefd-e35a-435c-ae8b-43338b3507e9",
   "metadata": {},
   "source": [
    "## Random"
   ]
  },
  {
   "cell_type": "code",
   "execution_count": 78,
   "id": "93355d49-98a5-4317-a23b-cab8ce09b74b",
   "metadata": {},
   "outputs": [
    {
     "data": {
      "text/html": [
       "<div>\n",
       "<style scoped>\n",
       "    .dataframe tbody tr th:only-of-type {\n",
       "        vertical-align: middle;\n",
       "    }\n",
       "\n",
       "    .dataframe tbody tr th {\n",
       "        vertical-align: top;\n",
       "    }\n",
       "\n",
       "    .dataframe thead th {\n",
       "        text-align: right;\n",
       "    }\n",
       "</style>\n",
       "<table border=\"1\" class=\"dataframe\">\n",
       "  <thead>\n",
       "    <tr style=\"text-align: right;\">\n",
       "      <th></th>\n",
       "      <th>mrate</th>\n",
       "      <th>lags</th>\n",
       "      <th>method</th>\n",
       "      <th>mean</th>\n",
       "      <th>std</th>\n",
       "    </tr>\n",
       "  </thead>\n",
       "  <tbody>\n",
       "    <tr>\n",
       "      <th>0</th>\n",
       "      <td>0.3</td>\n",
       "      <td>8</td>\n",
       "      <td>IT-STGCN</td>\n",
       "      <td>0.518</td>\n",
       "      <td>0.002</td>\n",
       "    </tr>\n",
       "    <tr>\n",
       "      <th>1</th>\n",
       "      <td>0.3</td>\n",
       "      <td>8</td>\n",
       "      <td>STGCN</td>\n",
       "      <td>0.570</td>\n",
       "      <td>0.006</td>\n",
       "    </tr>\n",
       "    <tr>\n",
       "      <th>2</th>\n",
       "      <td>0.8</td>\n",
       "      <td>8</td>\n",
       "      <td>IT-STGCN</td>\n",
       "      <td>0.687</td>\n",
       "      <td>0.021</td>\n",
       "    </tr>\n",
       "    <tr>\n",
       "      <th>3</th>\n",
       "      <td>0.8</td>\n",
       "      <td>8</td>\n",
       "      <td>STGCN</td>\n",
       "      <td>0.932</td>\n",
       "      <td>0.043</td>\n",
       "    </tr>\n",
       "  </tbody>\n",
       "</table>\n",
       "</div>"
      ],
      "text/plain": [
       "   mrate  lags    method   mean    std\n",
       "0    0.3     8  IT-STGCN  0.518  0.002\n",
       "1    0.3     8     STGCN  0.570  0.006\n",
       "2    0.8     8  IT-STGCN  0.687  0.021\n",
       "3    0.8     8     STGCN  0.932  0.043"
      ]
     },
     "execution_count": 78,
     "metadata": {},
     "output_type": "execute_result"
    }
   ],
   "source": [
    "pd.merge(data.query(\"dataset=='wikimath' and mtype=='rand'\").groupby(['mrate','lags','method'])['mse'].mean().reset_index(),\n",
    "         data.query(\"dataset=='wikimath' and mtype=='rand'\").groupby(['mrate','lags','method'])['mse'].std().reset_index(),\n",
    "         on=['method','mrate','lags']).rename(columns={'mse_x':'mean','mse_y':'std'}).round(3)"
   ]
  },
  {
   "cell_type": "markdown",
   "id": "fd253819-25b6-4bc5-8857-98da4eb2b80e",
   "metadata": {},
   "source": [
    "## Block"
   ]
  },
  {
   "cell_type": "code",
   "execution_count": 79,
   "id": "3a9cdb61-9ba7-454c-b31b-6c9066b83dc8",
   "metadata": {},
   "outputs": [
    {
     "data": {
      "text/html": [
       "<div>\n",
       "<style scoped>\n",
       "    .dataframe tbody tr th:only-of-type {\n",
       "        vertical-align: middle;\n",
       "    }\n",
       "\n",
       "    .dataframe tbody tr th {\n",
       "        vertical-align: top;\n",
       "    }\n",
       "\n",
       "    .dataframe thead th {\n",
       "        text-align: right;\n",
       "    }\n",
       "</style>\n",
       "<table border=\"1\" class=\"dataframe\">\n",
       "  <thead>\n",
       "    <tr style=\"text-align: right;\">\n",
       "      <th></th>\n",
       "      <th>mrate</th>\n",
       "      <th>lags</th>\n",
       "      <th>method</th>\n",
       "      <th>mean</th>\n",
       "      <th>std</th>\n",
       "    </tr>\n",
       "  </thead>\n",
       "  <tbody>\n",
       "    <tr>\n",
       "      <th>0</th>\n",
       "      <td>0.09587</td>\n",
       "      <td>8</td>\n",
       "      <td>IT-STGCN</td>\n",
       "      <td>0.529440</td>\n",
       "      <td>0.003820</td>\n",
       "    </tr>\n",
       "    <tr>\n",
       "      <th>1</th>\n",
       "      <td>0.09587</td>\n",
       "      <td>8</td>\n",
       "      <td>STGCN</td>\n",
       "      <td>0.544176</td>\n",
       "      <td>0.010772</td>\n",
       "    </tr>\n",
       "  </tbody>\n",
       "</table>\n",
       "</div>"
      ],
      "text/plain": [
       "     mrate  lags    method      mean       std\n",
       "0  0.09587     8  IT-STGCN  0.529440  0.003820\n",
       "1  0.09587     8     STGCN  0.544176  0.010772"
      ]
     },
     "execution_count": 79,
     "metadata": {},
     "output_type": "execute_result"
    }
   ],
   "source": [
    "pd.merge(data.query(\"dataset=='wikimath' and mtype=='block'\").groupby(['mrate','lags','method'])['mse'].mean().reset_index(),\n",
    "         data.query(\"dataset=='wikimath' and mtype=='block'\").groupby(['mrate','lags','method'])['mse'].std().reset_index(),\n",
    "         on=['method','mrate','lags']).rename(columns={'mse_x':'mean','mse_y':'std'})"
   ]
  },
  {
   "cell_type": "markdown",
   "id": "14b6aff3-c706-49a3-bd8d-6edf52a0f725",
   "metadata": {},
   "source": [
    "## missing values on the same nodes"
   ]
  },
  {
   "cell_type": "code",
   "execution_count": 25,
   "id": "af243fc8-448a-4507-8320-3922f59e3e2b",
   "metadata": {},
   "outputs": [],
   "source": [
    "data_wikimath_st = pd.read_csv('./simulation_results/Real_simulation_reshape/wikimath_GSO_st.csv')"
   ]
  },
  {
   "cell_type": "code",
   "execution_count": null,
   "id": "183e30ca-717e-4b81-a3bd-af5bb6310fbf",
   "metadata": {},
   "outputs": [],
   "source": [
    "pd.merge(data_wikimath_st.groupby(['mrate','lags','method'])['mse'].mean().reset_index(),\n",
    "        data_wikimath_st.groupby(['mrate','lags','method'])['mse'].std().reset_index(),\n",
    "         on=['method','mrate','lags']).rename(columns={'mse_x':'mean','mse_y':'std'}).round(3)"
   ]
  },
  {
   "cell_type": "markdown",
   "id": "90b3f7a5-c7fb-4c23-a230-5fa9fc7ac726",
   "metadata": {
    "tags": []
   },
   "source": [
    "# WindmillOutputSmallDatasetLoader (lags=8)"
   ]
  },
  {
   "cell_type": "markdown",
   "id": "5a2e36b4-0323-4c11-a286-1f3096c8e409",
   "metadata": {},
   "source": [
    "## Baseline"
   ]
  },
  {
   "cell_type": "code",
   "execution_count": 116,
   "id": "49b9fab5-a442-4d99-808f-8f9bfa70e094",
   "metadata": {},
   "outputs": [
    {
     "data": {
      "text/html": [
       "<div>\n",
       "<style scoped>\n",
       "    .dataframe tbody tr th:only-of-type {\n",
       "        vertical-align: middle;\n",
       "    }\n",
       "\n",
       "    .dataframe tbody tr th {\n",
       "        vertical-align: top;\n",
       "    }\n",
       "\n",
       "    .dataframe thead th {\n",
       "        text-align: right;\n",
       "    }\n",
       "</style>\n",
       "<table border=\"1\" class=\"dataframe\">\n",
       "  <thead>\n",
       "    <tr style=\"text-align: right;\">\n",
       "      <th></th>\n",
       "      <th>lags</th>\n",
       "      <th>method</th>\n",
       "      <th>mean</th>\n",
       "      <th>std</th>\n",
       "    </tr>\n",
       "  </thead>\n",
       "  <tbody>\n",
       "    <tr>\n",
       "      <th>0</th>\n",
       "      <td>8</td>\n",
       "      <td>IT-STGCN</td>\n",
       "      <td>1.003</td>\n",
       "      <td>0.005</td>\n",
       "    </tr>\n",
       "    <tr>\n",
       "      <th>1</th>\n",
       "      <td>8</td>\n",
       "      <td>STGCN</td>\n",
       "      <td>1.003</td>\n",
       "      <td>0.005</td>\n",
       "    </tr>\n",
       "  </tbody>\n",
       "</table>\n",
       "</div>"
      ],
      "text/plain": [
       "   lags    method   mean    std\n",
       "0     8  IT-STGCN  1.003  0.005\n",
       "1     8     STGCN  1.003  0.005"
      ]
     },
     "execution_count": 116,
     "metadata": {},
     "output_type": "execute_result"
    }
   ],
   "source": [
    "pd.merge(data.query(\"dataset=='windmillsmall' and mrate==0\").groupby(['lags','method'])['mse'].mean().reset_index(),\n",
    "         data.query(\"dataset=='windmillsmall' and mrate==0\").groupby(['lags','method'])['mse'].std().reset_index(),\n",
    "         on=['method','lags']).rename(columns={'mse_x':'mean','mse_y':'std'}).round(3)"
   ]
  },
  {
   "cell_type": "markdown",
   "id": "a983ca2b-174b-450a-8831-03294d60f51d",
   "metadata": {},
   "source": [
    "## Random"
   ]
  },
  {
   "cell_type": "code",
   "execution_count": 117,
   "id": "8902439c-dd57-4b4a-9ee7-a4a6f834b748",
   "metadata": {},
   "outputs": [
    {
     "data": {
      "text/html": [
       "<div>\n",
       "<style scoped>\n",
       "    .dataframe tbody tr th:only-of-type {\n",
       "        vertical-align: middle;\n",
       "    }\n",
       "\n",
       "    .dataframe tbody tr th {\n",
       "        vertical-align: top;\n",
       "    }\n",
       "\n",
       "    .dataframe thead th {\n",
       "        text-align: right;\n",
       "    }\n",
       "</style>\n",
       "<table border=\"1\" class=\"dataframe\">\n",
       "  <thead>\n",
       "    <tr style=\"text-align: right;\">\n",
       "      <th></th>\n",
       "      <th>mrate</th>\n",
       "      <th>lags</th>\n",
       "      <th>method</th>\n",
       "      <th>mean</th>\n",
       "      <th>std</th>\n",
       "    </tr>\n",
       "  </thead>\n",
       "  <tbody>\n",
       "    <tr>\n",
       "      <th>0</th>\n",
       "      <td>0.7</td>\n",
       "      <td>8</td>\n",
       "      <td>IT-STGCN</td>\n",
       "      <td>1.182</td>\n",
       "      <td>0.044</td>\n",
       "    </tr>\n",
       "    <tr>\n",
       "      <th>1</th>\n",
       "      <td>0.7</td>\n",
       "      <td>8</td>\n",
       "      <td>STGCN</td>\n",
       "      <td>1.658</td>\n",
       "      <td>0.068</td>\n",
       "    </tr>\n",
       "  </tbody>\n",
       "</table>\n",
       "</div>"
      ],
      "text/plain": [
       "   mrate  lags    method   mean    std\n",
       "0    0.7     8  IT-STGCN  1.182  0.044\n",
       "1    0.7     8     STGCN  1.658  0.068"
      ]
     },
     "execution_count": 117,
     "metadata": {},
     "output_type": "execute_result"
    }
   ],
   "source": [
    "pd.merge(data.query(\"dataset=='windmillsmall' and mtype=='rand'\").groupby(['mrate','lags','method'])['mse'].mean().reset_index(),\n",
    "         data.query(\"dataset=='windmillsmall' and mtype=='rand'\").groupby(['mrate','lags','method'])['mse'].std().reset_index(),\n",
    "         on=['method','mrate','lags']).rename(columns={'mse_x':'mean','mse_y':'std'}).round(3)"
   ]
  },
  {
   "cell_type": "markdown",
   "id": "44f6a1e6-c2f3-4d8c-b071-ec58633f2ccd",
   "metadata": {},
   "source": [
    "## Block"
   ]
  },
  {
   "cell_type": "code",
   "execution_count": 118,
   "id": "e6a097b4-c47c-48ff-92aa-fefa3472dba2",
   "metadata": {},
   "outputs": [
    {
     "data": {
      "text/html": [
       "<div>\n",
       "<style scoped>\n",
       "    .dataframe tbody tr th:only-of-type {\n",
       "        vertical-align: middle;\n",
       "    }\n",
       "\n",
       "    .dataframe tbody tr th {\n",
       "        vertical-align: top;\n",
       "    }\n",
       "\n",
       "    .dataframe thead th {\n",
       "        text-align: right;\n",
       "    }\n",
       "</style>\n",
       "<table border=\"1\" class=\"dataframe\">\n",
       "  <thead>\n",
       "    <tr style=\"text-align: right;\">\n",
       "      <th></th>\n",
       "      <th>mean</th>\n",
       "      <th>mrate</th>\n",
       "      <th>lags</th>\n",
       "      <th>method</th>\n",
       "      <th>std</th>\n",
       "    </tr>\n",
       "  </thead>\n",
       "  <tbody>\n",
       "  </tbody>\n",
       "</table>\n",
       "</div>"
      ],
      "text/plain": [
       "Empty DataFrame\n",
       "Columns: [mean, mrate, lags, method, std]\n",
       "Index: []"
      ]
     },
     "execution_count": 118,
     "metadata": {},
     "output_type": "execute_result"
    }
   ],
   "source": [
    "pd.merge(data.query(\"dataset=='windmillsmall' and mtype=='block'\").groupby(['mrate','lags','method'])['mse'].mean().reset_index(),\n",
    "         data.query(\"dataset=='windmillsmall' and mtype=='block'\").groupby(['mrate','lags','method'])['mse'].std().reset_index(),\n",
    "         on=['method','mrate','lags']).rename(columns={'mse_x':'mean','mse_y':'std'}).round(3)"
   ]
  },
  {
   "cell_type": "markdown",
   "id": "8a4660bf-74f6-449d-b87f-2089ad0d118a",
   "metadata": {},
   "source": [
    "# Montevideobus (lags=4)"
   ]
  },
  {
   "cell_type": "markdown",
   "id": "2cdb4bd3-1980-47f0-afb4-4d82a3a86e70",
   "metadata": {
    "tags": []
   },
   "source": [
    "## Baseline"
   ]
  },
  {
   "cell_type": "code",
   "execution_count": 100,
   "id": "80ca776b-e0ac-46cf-877c-50db022936cf",
   "metadata": {},
   "outputs": [
    {
     "data": {
      "text/html": [
       "<div>\n",
       "<style scoped>\n",
       "    .dataframe tbody tr th:only-of-type {\n",
       "        vertical-align: middle;\n",
       "    }\n",
       "\n",
       "    .dataframe tbody tr th {\n",
       "        vertical-align: top;\n",
       "    }\n",
       "\n",
       "    .dataframe thead th {\n",
       "        text-align: right;\n",
       "    }\n",
       "</style>\n",
       "<table border=\"1\" class=\"dataframe\">\n",
       "  <thead>\n",
       "    <tr style=\"text-align: right;\">\n",
       "      <th></th>\n",
       "      <th>lags</th>\n",
       "      <th>method</th>\n",
       "      <th>mean</th>\n",
       "      <th>std</th>\n",
       "    </tr>\n",
       "  </thead>\n",
       "  <tbody>\n",
       "    <tr>\n",
       "      <th>0</th>\n",
       "      <td>4</td>\n",
       "      <td>IT-STGCN</td>\n",
       "      <td>0.931</td>\n",
       "      <td>0.001</td>\n",
       "    </tr>\n",
       "    <tr>\n",
       "      <th>1</th>\n",
       "      <td>4</td>\n",
       "      <td>STGCN</td>\n",
       "      <td>0.931</td>\n",
       "      <td>0.002</td>\n",
       "    </tr>\n",
       "  </tbody>\n",
       "</table>\n",
       "</div>"
      ],
      "text/plain": [
       "   lags    method   mean    std\n",
       "0     4  IT-STGCN  0.931  0.001\n",
       "1     4     STGCN  0.931  0.002"
      ]
     },
     "execution_count": 100,
     "metadata": {},
     "output_type": "execute_result"
    }
   ],
   "source": [
    "pd.merge(data.query(\"dataset=='monte' and mrate==0\").groupby(['lags','method'])['mse'].mean().reset_index(),\n",
    "         data.query(\"dataset=='monte' and mrate==0\").groupby(['lags','method'])['mse'].std().reset_index(),\n",
    "         on=['method','lags']).rename(columns={'mse_x':'mean','mse_y':'std'}).round(3)"
   ]
  },
  {
   "cell_type": "markdown",
   "id": "afcdfe1a-afd7-46eb-af34-2e3bcc148a17",
   "metadata": {},
   "source": [
    "## Random"
   ]
  },
  {
   "cell_type": "code",
   "execution_count": 101,
   "id": "0d19690b-1489-4e96-9a01-d5a8f755fb28",
   "metadata": {},
   "outputs": [
    {
     "data": {
      "text/html": [
       "<div>\n",
       "<style scoped>\n",
       "    .dataframe tbody tr th:only-of-type {\n",
       "        vertical-align: middle;\n",
       "    }\n",
       "\n",
       "    .dataframe tbody tr th {\n",
       "        vertical-align: top;\n",
       "    }\n",
       "\n",
       "    .dataframe thead th {\n",
       "        text-align: right;\n",
       "    }\n",
       "</style>\n",
       "<table border=\"1\" class=\"dataframe\">\n",
       "  <thead>\n",
       "    <tr style=\"text-align: right;\">\n",
       "      <th></th>\n",
       "      <th>mrate</th>\n",
       "      <th>lags</th>\n",
       "      <th>inter_method</th>\n",
       "      <th>method</th>\n",
       "      <th>mean</th>\n",
       "      <th>std</th>\n",
       "    </tr>\n",
       "  </thead>\n",
       "  <tbody>\n",
       "    <tr>\n",
       "      <th>0</th>\n",
       "      <td>0.8</td>\n",
       "      <td>4</td>\n",
       "      <td>nearest</td>\n",
       "      <td>IT-STGCN</td>\n",
       "      <td>1.09556</td>\n",
       "      <td>0.018743</td>\n",
       "    </tr>\n",
       "    <tr>\n",
       "      <th>1</th>\n",
       "      <td>0.8</td>\n",
       "      <td>4</td>\n",
       "      <td>nearest</td>\n",
       "      <td>STGCN</td>\n",
       "      <td>1.51600</td>\n",
       "      <td>0.039793</td>\n",
       "    </tr>\n",
       "  </tbody>\n",
       "</table>\n",
       "</div>"
      ],
      "text/plain": [
       "   mrate  lags inter_method    method     mean       std\n",
       "0    0.8     4      nearest  IT-STGCN  1.09556  0.018743\n",
       "1    0.8     4      nearest     STGCN  1.51600  0.039793"
      ]
     },
     "execution_count": 101,
     "metadata": {},
     "output_type": "execute_result"
    }
   ],
   "source": [
    "pd.merge(data.query(\"dataset=='monte' and mtype=='rand'\").groupby(['mrate','lags','inter_method','method'])['mse'].mean().reset_index(),\n",
    "         data.query(\"dataset=='monte' and mtype=='rand'\").groupby(['mrate','lags','inter_method','method'])['mse'].std().reset_index(),\n",
    "         on=['mrate','inter_method','method','mrate','lags']).rename(columns={'mse_x':'mean','mse_y':'std'})"
   ]
  },
  {
   "cell_type": "markdown",
   "id": "9a74d78d-a333-4c99-ad70-5985c07feae1",
   "metadata": {},
   "source": [
    "## Block"
   ]
  },
  {
   "cell_type": "code",
   "execution_count": 102,
   "id": "76aea718-eb75-4a87-a72f-d3e1e60c3cbe",
   "metadata": {},
   "outputs": [
    {
     "data": {
      "text/html": [
       "<div>\n",
       "<style scoped>\n",
       "    .dataframe tbody tr th:only-of-type {\n",
       "        vertical-align: middle;\n",
       "    }\n",
       "\n",
       "    .dataframe tbody tr th {\n",
       "        vertical-align: top;\n",
       "    }\n",
       "\n",
       "    .dataframe thead th {\n",
       "        text-align: right;\n",
       "    }\n",
       "</style>\n",
       "<table border=\"1\" class=\"dataframe\">\n",
       "  <thead>\n",
       "    <tr style=\"text-align: right;\">\n",
       "      <th></th>\n",
       "      <th>mrate</th>\n",
       "      <th>lags</th>\n",
       "      <th>inter_method</th>\n",
       "      <th>method</th>\n",
       "      <th>mean</th>\n",
       "      <th>std</th>\n",
       "    </tr>\n",
       "  </thead>\n",
       "  <tbody>\n",
       "    <tr>\n",
       "      <th>0</th>\n",
       "      <td>0.149142</td>\n",
       "      <td>4</td>\n",
       "      <td>cubic</td>\n",
       "      <td>IT-STGCN</td>\n",
       "      <td>1.022866</td>\n",
       "      <td>0.021048</td>\n",
       "    </tr>\n",
       "    <tr>\n",
       "      <th>1</th>\n",
       "      <td>0.149142</td>\n",
       "      <td>4</td>\n",
       "      <td>cubic</td>\n",
       "      <td>STGCN</td>\n",
       "      <td>1.028363</td>\n",
       "      <td>0.031275</td>\n",
       "    </tr>\n",
       "    <tr>\n",
       "      <th>2</th>\n",
       "      <td>0.149142</td>\n",
       "      <td>4</td>\n",
       "      <td>linear</td>\n",
       "      <td>IT-STGCN</td>\n",
       "      <td>0.930156</td>\n",
       "      <td>0.001956</td>\n",
       "    </tr>\n",
       "    <tr>\n",
       "      <th>3</th>\n",
       "      <td>0.149142</td>\n",
       "      <td>4</td>\n",
       "      <td>linear</td>\n",
       "      <td>STGCN</td>\n",
       "      <td>0.934719</td>\n",
       "      <td>0.004724</td>\n",
       "    </tr>\n",
       "    <tr>\n",
       "      <th>4</th>\n",
       "      <td>0.149142</td>\n",
       "      <td>4</td>\n",
       "      <td>nearest</td>\n",
       "      <td>IT-STGCN</td>\n",
       "      <td>0.931785</td>\n",
       "      <td>0.002158</td>\n",
       "    </tr>\n",
       "    <tr>\n",
       "      <th>5</th>\n",
       "      <td>0.149142</td>\n",
       "      <td>4</td>\n",
       "      <td>nearest</td>\n",
       "      <td>STGCN</td>\n",
       "      <td>0.934596</td>\n",
       "      <td>0.003562</td>\n",
       "    </tr>\n",
       "  </tbody>\n",
       "</table>\n",
       "</div>"
      ],
      "text/plain": [
       "      mrate  lags inter_method    method      mean       std\n",
       "0  0.149142     4        cubic  IT-STGCN  1.022866  0.021048\n",
       "1  0.149142     4        cubic     STGCN  1.028363  0.031275\n",
       "2  0.149142     4       linear  IT-STGCN  0.930156  0.001956\n",
       "3  0.149142     4       linear     STGCN  0.934719  0.004724\n",
       "4  0.149142     4      nearest  IT-STGCN  0.931785  0.002158\n",
       "5  0.149142     4      nearest     STGCN  0.934596  0.003562"
      ]
     },
     "execution_count": 102,
     "metadata": {},
     "output_type": "execute_result"
    }
   ],
   "source": [
    "pd.merge(data.query(\"dataset=='monte' and mtype=='block'\").groupby(['mrate','lags','inter_method','method'])['mse'].mean().reset_index(),\n",
    "         data.query(\"dataset=='monte' and mtype=='block'\").groupby(['mrate','lags','inter_method','method'])['mse'].std().reset_index(),\n",
    "         on=['method','mrate','inter_method','lags']).rename(columns={'mse_x':'mean','mse_y':'std'})"
   ]
  },
  {
   "cell_type": "code",
   "execution_count": null,
   "id": "67651767-b0a0-4a5d-b142-1aede78f8de5",
   "metadata": {},
   "outputs": [],
   "source": []
  },
  {
   "cell_type": "code",
   "execution_count": null,
   "id": "3f3f3cf2-61b4-45d1-97ef-0bda3284cb07",
   "metadata": {},
   "outputs": [],
   "source": []
  }
 ],
 "metadata": {
  "kernelspec": {
   "display_name": "Python 3",
   "language": "python",
   "name": "python3"
  },
  "language_info": {
   "codemirror_mode": {
    "name": "ipython",
    "version": 3
   },
   "file_extension": ".py",
   "mimetype": "text/x-python",
   "name": "python",
   "nbconvert_exporter": "python",
   "pygments_lexer": "ipython3",
   "version": "3.8.0"
  },
  "toc-autonumbering": false,
  "toc-showcode": false
 },
 "nbformat": 4,
 "nbformat_minor": 5
}

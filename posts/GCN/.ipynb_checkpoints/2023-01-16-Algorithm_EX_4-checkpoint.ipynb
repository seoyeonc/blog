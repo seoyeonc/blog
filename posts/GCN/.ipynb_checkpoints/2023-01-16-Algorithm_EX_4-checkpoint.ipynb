{
 "cells": [
  {
   "cell_type": "raw",
   "id": "1f53f708-cc1a-4d31-8140-d5c4701b5709",
   "metadata": {
    "id": "cac470df-29e7-4148-9bbd-d8b9a32fa570",
    "tags": []
   },
   "source": [
    "---\n",
    "title: \"GCN Algorithm Example 4\"\n",
    "author: \"SEOYEON CHOI\"\n",
    "date: \"2023-01-16\"\n",
    "categories:\n",
    "  - ST-GCN\n",
    "---"
   ]
  },
  {
   "cell_type": "markdown",
   "id": "cc58d648-4a47-48e6-81fd-aa1ec2c5169d",
   "metadata": {},
   "source": [
    "> Our method;ST-GCN Dataset Example(ChickenpoxDatasetLoader)"
   ]
  },
  {
   "cell_type": "markdown",
   "id": "bd56212c-4f5e-4bad-9005-36b03947797d",
   "metadata": {},
   "source": [
    "# import"
   ]
  },
  {
   "cell_type": "code",
   "execution_count": 1,
   "id": "7eed5cac-27aa-42f2-a2bf-f5346d8e82ca",
   "metadata": {},
   "outputs": [],
   "source": [
    "import rpy2\n",
    "import rpy2.robjects as ro \n",
    "from rpy2.robjects.vectors import FloatVector \n",
    "from rpy2.robjects.packages import importr\n",
    "\n",
    "import torch\n",
    "import numpy as np\n",
    "from tqdm import tqdm\n",
    "\n",
    "import torch.nn.functional as F\n",
    "from torch_geometric_temporal.nn.recurrent import GConvGRU\n",
    "\n",
    "import matplotlib.pyplot as plt\n",
    "import pandas as pd\n",
    "\n",
    "import time\n",
    "\n",
    "from scipy.interpolate import interp1d\n",
    "\n",
    "import tensorflow as tf"
   ]
  },
  {
   "cell_type": "code",
   "execution_count": 2,
   "id": "2f0e266e-f036-4449-95ce-f67694988030",
   "metadata": {},
   "outputs": [],
   "source": [
    "class RecurrentGCN(torch.nn.Module):\n",
    "    def __init__(self, node_features, filters):\n",
    "        super(RecurrentGCN, self).__init__()\n",
    "        self.recurrent = GConvGRU(node_features, filters, 2)\n",
    "        self.linear = torch.nn.Linear(filters, 1)\n",
    "\n",
    "    def forward(self, x, edge_index, edge_weight):\n",
    "        h = self.recurrent(x, edge_index, edge_weight)\n",
    "        h = F.relu(h)\n",
    "        h = self.linear(h)\n",
    "        return h"
   ]
  },
  {
   "cell_type": "markdown",
   "id": "ec88362e-2f38-4288-b358-232a5108cda5",
   "metadata": {},
   "source": [
    "# R"
   ]
  },
  {
   "cell_type": "code",
   "execution_count": 5,
   "id": "956cb163-e10a-4864-aa7a-02457ec8fb4f",
   "metadata": {},
   "outputs": [
    {
     "name": "stdout",
     "output_type": "stream",
     "text": [
      "The rpy2.ipython extension is already loaded. To reload it, use:\n",
      "  %reload_ext rpy2.ipython\n"
     ]
    }
   ],
   "source": [
    "%load_ext rpy2.ipython"
   ]
  },
  {
   "cell_type": "markdown",
   "id": "7e46ac00-9766-4d5a-af7f-d70efe91943a",
   "metadata": {},
   "source": [
    "# 시간측정 방법"
   ]
  },
  {
   "cell_type": "markdown",
   "id": "a24c88da-7798-4a14-8e62-7d2f857789a5",
   "metadata": {},
   "source": [
    "```python\n",
    "t1= time.time()\n",
    "for epoc in range(1000):\n",
    "    ## 1 \n",
    "    yhat = net(x) \n",
    "    ## 2 \n",
    "    loss = loss_fn(yhat,y)\n",
    "    ## 3 \n",
    "    loss.backward()\n",
    "    ## 4 \n",
    "    optimizr.step()\n",
    "    optimizr.zero_grad()\n",
    "t2 = time.time()\n",
    "t2-t1\n",
    "```"
   ]
  },
  {
   "cell_type": "markdown",
   "id": "939cb972-ac4c-4d63-a105-72af475ef3fd",
   "metadata": {
    "tags": []
   },
   "source": [
    "# EbayesThresh"
   ]
  },
  {
   "cell_type": "code",
   "execution_count": 6,
   "id": "e1e3756a-a00d-425b-8b9b-495217caa44f",
   "metadata": {},
   "outputs": [],
   "source": [
    "%%R\n",
    "library(EbayesThresh)\n",
    "set.seed(1)\n",
    "epsilon = rnorm(1000)\n",
    "signal = sample(c(runif(25,-2,-1.5), runif(25,1.5,2), rep(0,950)))\n",
    "index_of_trueoutlier = which(signal!=0)\n",
    "x_ebayes=signal+epsilon"
   ]
  },
  {
   "cell_type": "code",
   "execution_count": 7,
   "id": "d74c90f2-db31-49bf-a22e-ff91f6cb1bc4",
   "metadata": {},
   "outputs": [],
   "source": [
    "%R -o x_ebayes\n",
    "%R -o index_of_trueoutlier\n",
    "%R -o signal"
   ]
  },
  {
   "cell_type": "code",
   "execution_count": 8,
   "id": "e946bc10-0200-42b4-b01f-1e9c36e4870c",
   "metadata": {},
   "outputs": [],
   "source": [
    "ebayesthresh = importr('EbayesThresh').ebayesthresh"
   ]
  },
  {
   "cell_type": "code",
   "execution_count": null,
   "id": "9f4501b1-585c-44fb-9093-b14eae0dfcd6",
   "metadata": {},
   "outputs": [],
   "source": [
    "outlier_true_index = index_of_trueoutlier"
   ]
  },
  {
   "cell_type": "code",
   "execution_count": null,
   "id": "437a78f6-9635-40e0-be58-0c15880ce4d5",
   "metadata": {},
   "outputs": [],
   "source": [
    "outlier_true_value = x_ebayes[index_of_trueoutlier]"
   ]
  },
  {
   "cell_type": "code",
   "execution_count": null,
   "id": "71441f71-cf87-458e-a1f1-b3c8fa59bde4",
   "metadata": {},
   "outputs": [],
   "source": [
    "outlier_true_one = signal.copy()"
   ]
  },
  {
   "cell_type": "code",
   "execution_count": null,
   "id": "b395b9c5-2c34-4119-9a67-c9f7fdaa5e68",
   "metadata": {},
   "outputs": [],
   "source": [
    "outlier_true_one = list(map(lambda x: -1 if x!=0 else 1,outlier_true_one))"
   ]
  },
  {
   "cell_type": "markdown",
   "id": "4a45429b-12fe-4502-b81a-90a69e9481f6",
   "metadata": {},
   "source": [
    "# 0. 데이터 가정"
   ]
  },
  {
   "cell_type": "markdown",
   "id": "15280aed-5329-45f1-a3d7-da6b495edc39",
   "metadata": {},
   "source": [
    "데이터가정: missing (결측값) 이 있는 자료를 가정 \n",
    "\n",
    "- missing이 있는상태: ST-GCN 을 사용할 수 X $\\to$ **코드에 에러는 나지 않지만 yhat이 산출되지 않았습니다.**\n",
    "- missing이 없어야만: ST-GCN 을 사용할 수 O "
   ]
  },
  {
   "cell_type": "markdown",
   "id": "f02affbd-205c-403e-a4d0-a178395024e7",
   "metadata": {},
   "source": [
    "# ST-GCN Example Data"
   ]
  },
  {
   "cell_type": "markdown",
   "id": "6dafc189-cf4f-4a7d-999f-a4afc9f016f4",
   "metadata": {},
   "source": [
    "**증명 - missing이 있는상태: ST-GCN 을 사용할 수 X**"
   ]
  },
  {
   "cell_type": "markdown",
   "id": "7fa68bf4-77ab-4e96-add6-eda79eabcddb",
   "metadata": {},
   "source": [
    "데이터정리 \n",
    "\n",
    "- T = 519\n",
    "- N = 20 # number of nodes \n",
    "- E = 102 # edges \n",
    "- $f(v,t)$의 차원? (1,)\n",
    "- 시간에 따라서 Number of nodes가 변하는지? False\n",
    "- 시간에 따라서 Number of Edges가 변하는지? False\n",
    "- X: (20,4) (N,4), $f(v,t_0),f(v,t_1),f(v,t_2),f(v,t_3)$\n",
    "- y: (20,) (N,), $f(v,t_4)$\n",
    "- 예제코드적용가능여부: Yes"
   ]
  },
  {
   "cell_type": "markdown",
   "id": "34cc9f1a-b9ad-46a4-b75c-5f26d4946661",
   "metadata": {},
   "source": [
    "`-` Nodes : `20`\n",
    "\n",
    "- vertices are counties\n",
    "\n",
    "`-`Edges : `102`\n",
    "\n",
    "- edges are neighbourhoods\n",
    "\n",
    "`-` Time : `519`\n",
    "\n",
    "- between 2004 and 2014\n",
    "- per weeks"
   ]
  },
  {
   "cell_type": "code",
   "execution_count": 9,
   "id": "e87d200f-099d-48c0-bacd-64cd3c02f6cd",
   "metadata": {},
   "outputs": [],
   "source": [
    "from torch_geometric_temporal.dataset import ChickenpoxDatasetLoader\n",
    "from torch_geometric_temporal.signal import temporal_signal_split"
   ]
  },
  {
   "cell_type": "code",
   "execution_count": 10,
   "id": "f3b03376-e2ae-49cc-bb85-b8b428086e27",
   "metadata": {},
   "outputs": [],
   "source": [
    "loader = ChickenpoxDatasetLoader()"
   ]
  },
  {
   "cell_type": "code",
   "execution_count": 11,
   "id": "2aff69fb-128e-48e0-8b87-1abb231ed756",
   "metadata": {},
   "outputs": [],
   "source": [
    "dataset = loader.get_dataset(lags=1)"
   ]
  },
  {
   "cell_type": "code",
   "execution_count": 12,
   "id": "c6291c30-8d8a-4617-8871-86efeb4e4228",
   "metadata": {},
   "outputs": [],
   "source": [
    "train_dataset, _ = temporal_signal_split(dataset, train_ratio=1)"
   ]
  },
  {
   "cell_type": "markdown",
   "id": "59eb091d-217d-45bd-b2a0-7c32ec64d08a",
   "metadata": {
    "tags": []
   },
   "source": [
    "## 데이터 일부 missing 처리"
   ]
  },
  {
   "cell_type": "code",
   "execution_count": 13,
   "id": "55670720-8fb9-4525-b7e4-52dce598de21",
   "metadata": {},
   "outputs": [],
   "source": [
    "data=[]\n",
    "for time, snapshot in enumerate(train_dataset):\n",
    "    data.append([time,snapshot])"
   ]
  },
  {
   "cell_type": "code",
   "execution_count": 14,
   "id": "83b275bb-8656-4cc2-bbba-453d8048049d",
   "metadata": {},
   "outputs": [
    {
     "data": {
      "text/plain": [
       "(torch.Size([20, 1]),\n",
       " torch.Size([20]),\n",
       " torch.Size([2, 102]),\n",
       " torch.Size([102]))"
      ]
     },
     "execution_count": 14,
     "metadata": {},
     "output_type": "execute_result"
    }
   ],
   "source": [
    "data[0][1].x.shape,data[0][1].y.shape,data[0][1].edge_index.shape,data[0][1].edge_attr.shape"
   ]
  },
  {
   "cell_type": "code",
   "execution_count": 15,
   "id": "33a8cf52-1c24-4787-9405-e360a70a09eb",
   "metadata": {},
   "outputs": [
    {
     "data": {
      "text/plain": [
       "519"
      ]
     },
     "execution_count": 15,
     "metadata": {},
     "output_type": "execute_result"
    }
   ],
   "source": [
    "time"
   ]
  },
  {
   "cell_type": "code",
   "execution_count": 16,
   "id": "452d9329-e315-426d-a509-a6ceef05fd21",
   "metadata": {},
   "outputs": [],
   "source": [
    "T = time\n",
    "N = len(data[0][1].x)"
   ]
  },
  {
   "cell_type": "code",
   "execution_count": 17,
   "id": "2934d1a9-a995-4fd4-8f3d-cc958f0f0701",
   "metadata": {},
   "outputs": [],
   "source": [
    "edge_index = data[0][1].edge_index\n",
    "edge_attr = data[0][1].edge_attr"
   ]
  },
  {
   "cell_type": "code",
   "execution_count": 18,
   "id": "43d07184-ea28-4aa2-a524-64312a58dd5f",
   "metadata": {},
   "outputs": [],
   "source": [
    "x = []\n",
    "for i in range(time):\n",
    "    x.append(data[i][1].x)"
   ]
  },
  {
   "cell_type": "code",
   "execution_count": 20,
   "id": "d673457f-b0e9-4627-9f4e-b9c7f029890a",
   "metadata": {},
   "outputs": [
    {
     "data": {
      "text/plain": [
       "torch.Size([519, 20, 1])"
      ]
     },
     "execution_count": 20,
     "metadata": {},
     "output_type": "execute_result"
    }
   ],
   "source": [
    "data_tensor = torch.Tensor()\n",
    "# Iterate over the data points of the dataset\n",
    "for i in x:\n",
    "    # Concatenate the data point to the tensor\n",
    "    data_tensor = torch.cat((data_tensor, i), dim=0)\n",
    "x = data_tensor.reshape(time,N,-1)\n",
    "x.shape"
   ]
  },
  {
   "cell_type": "code",
   "execution_count": 27,
   "id": "d4428e4a-b646-4577-897e-e2cbe637f0e6",
   "metadata": {},
   "outputs": [],
   "source": [
    "y = []\n",
    "for i in range(time):\n",
    "    y.append(data[i][1].y)"
   ]
  },
  {
   "cell_type": "code",
   "execution_count": 28,
   "id": "a72a5501-0d23-45de-b376-26bdd58f56f0",
   "metadata": {},
   "outputs": [
    {
     "data": {
      "text/plain": [
       "torch.Size([519, 20])"
      ]
     },
     "execution_count": 28,
     "metadata": {},
     "output_type": "execute_result"
    }
   ],
   "source": [
    "data_tensor = torch.Tensor()\n",
    "# Iterate over the data points of the dataset\n",
    "for i in y:\n",
    "    # Concatenate the data point to the tensor\n",
    "    data_tensor = torch.cat((data_tensor, i), dim=0)\n",
    "y = data_tensor.reshape(time,N)\n",
    "y.shape"
   ]
  },
  {
   "cell_type": "code",
   "execution_count": 29,
   "id": "72efae6e-0185-48a0-8d98-cb26e5fd953d",
   "metadata": {},
   "outputs": [],
   "source": [
    "xblock = x.clone()"
   ]
  },
  {
   "cell_type": "code",
   "execution_count": 41,
   "id": "2e510cf3-3d25-4953-8403-53bce5beee41",
   "metadata": {},
   "outputs": [],
   "source": [
    "xblock[100:201][5] = float('nan')"
   ]
  },
  {
   "cell_type": "code",
   "execution_count": 42,
   "id": "d81fb8f1-14d3-4775-9cca-9e0921ad5bf4",
   "metadata": {},
   "outputs": [
    {
     "data": {
      "text/plain": [
       "[<matplotlib.lines.Line2D at 0x7f8c16d5b3d0>]"
      ]
     },
     "execution_count": 42,
     "metadata": {},
     "output_type": "execute_result"
    },
    {
     "data": {
      "image/png": "[encoded data removed]",
      "text/plain": [
       "<Figure size 432x288 with 1 Axes>"
      ]
     },
     "metadata": {
      "needs_background": "light"
     },
     "output_type": "display_data"
    }
   ],
   "source": [
    "plt.plot(xblock[100:201][5])"
   ]
  },
  {
   "cell_type": "code",
   "execution_count": 43,
   "id": "9d882257-53e5-4c99-9c97-cc4988e74968",
   "metadata": {},
   "outputs": [],
   "source": [
    "f = xblock"
   ]
  },
  {
   "cell_type": "code",
   "execution_count": 44,
   "id": "9e3b796e-93a7-4595-9da5-0af4272a7078",
   "metadata": {},
   "outputs": [],
   "source": [
    "X = f[:T-1,:,:]\n",
    "y = f[1:,:,:]"
   ]
  },
  {
   "cell_type": "code",
   "execution_count": 45,
   "id": "3763c163-9237-4a69-a222-abbe6366d89f",
   "metadata": {},
   "outputs": [],
   "source": [
    "model = RecurrentGCN(node_features=1, filters=4)\n",
    "\n",
    "optimizer = torch.optim.Adam(model.parameters(), lr=0.01)"
   ]
  },
  {
   "cell_type": "code",
   "execution_count": 46,
   "id": "4fe084f6-61aa-470d-8052-32d3b462f4e8",
   "metadata": {},
   "outputs": [
    {
     "name": "stderr",
     "output_type": "stream",
     "text": [
      "100%|██████████| 50/50 [01:32<00:00,  1.85s/it]\n"
     ]
    }
   ],
   "source": [
    "for epoch in tqdm(range(50)):\n",
    "    for time, (xt,yt) in enumerate(zip(X,y)):\n",
    "        y_hat = model(xt, edge_index, edge_attr)\n",
    "        cost = torch.mean((y_hat-yt)**2)\n",
    "        cost.backward()\n",
    "        optimizer.step()\n",
    "        optimizer.zero_grad()"
   ]
  },
  {
   "cell_type": "code",
   "execution_count": 47,
   "id": "1202223a-4bf6-41cf-995b-8c1d0f75ea12",
   "metadata": {},
   "outputs": [],
   "source": [
    "yhat = torch.stack([model(xt, edge_index, edge_attr) for xt in X]).detach().numpy()"
   ]
  },
  {
   "cell_type": "code",
   "execution_count": 48,
   "id": "f2a72a03-6ecc-48bb-9a21-aa1930dec658",
   "metadata": {},
   "outputs": [
    {
     "data": {
      "text/plain": [
       "[<matplotlib.lines.Line2D at 0x7f8c16cf7ca0>]"
      ]
     },
     "execution_count": 48,
     "metadata": {},
     "output_type": "execute_result"
    },
    {
     "data": {
      "image/png": "[encoded data removed]",
      "text/plain": [
       "<Figure size 432x288 with 1 Axes>"
      ]
     },
     "metadata": {
      "needs_background": "light"
     },
     "output_type": "display_data"
    }
   ],
   "source": [
    "plt.plot(yhat[100:201][5].data)"
   ]
  },
  {
   "cell_type": "markdown",
   "id": "f8fa15d8-a1b7-48ae-a4d9-222e257fe195",
   "metadata": {},
   "source": [
    "# 1. missing을 채움. (mean, linear interpolation) "
   ]
  },
  {
   "cell_type": "code",
   "execution_count": 128,
   "id": "e69fd5ed-0927-44d9-9e68-58eb06c8c8a5",
   "metadata": {},
   "outputs": [],
   "source": [
    "xrandom_mean = xrandom.clone()"
   ]
  },
  {
   "cell_type": "code",
   "execution_count": null,
   "id": "df377174-e82a-4a83-b677-50c8ce7bceea",
   "metadata": {},
   "outputs": [],
   "source": []
  },
  {
   "cell_type": "code",
   "execution_count": 135,
   "id": "c99614cf-59ec-43ba-affb-5911f9a3e027",
   "metadata": {},
   "outputs": [],
   "source": [
    "lst=[]\n",
    "for i in range(100,201):\n",
    "    lst.append(xrandom_mean[i].mean().tolist())"
   ]
  },
  {
   "cell_type": "code",
   "execution_count": 143,
   "id": "8a942bc0-c0fc-4bed-a9d5-f6dc674be6c8",
   "metadata": {},
   "outputs": [
    {
     "ename": "RuntimeError",
     "evalue": "The expanded size of the tensor (1) must match the existing size (101) at non-singleton dimension 1.  Target sizes: [20, 1].  Tensor sizes: [101]",
     "output_type": "error",
     "traceback": [
      "\u001b[0;31m---------------------------------------------------------------------------\u001b[0m",
      "\u001b[0;31mRuntimeError\u001b[0m                              Traceback (most recent call last)",
      "\u001b[0;32m/tmp/ipykernel_2888718/3242839786.py\u001b[0m in \u001b[0;36m<module>\u001b[0;34m\u001b[0m\n\u001b[0;32m----> 1\u001b[0;31m \u001b[0mxrandom_mean\u001b[0m\u001b[0;34m[\u001b[0m\u001b[0;36m100\u001b[0m\u001b[0;34m:\u001b[0m\u001b[0;36m201\u001b[0m\u001b[0;34m]\u001b[0m\u001b[0;34m[\u001b[0m\u001b[0;36m5\u001b[0m\u001b[0;34m]\u001b[0m \u001b[0;34m=\u001b[0m \u001b[0mtorch\u001b[0m\u001b[0;34m.\u001b[0m\u001b[0mtensor\u001b[0m\u001b[0;34m(\u001b[0m\u001b[0mlst\u001b[0m\u001b[0;34m,\u001b[0m\u001b[0mdtype\u001b[0m\u001b[0;34m=\u001b[0m\u001b[0mtorch\u001b[0m\u001b[0;34m.\u001b[0m\u001b[0mfloat32\u001b[0m\u001b[0;34m)\u001b[0m\u001b[0;34m\u001b[0m\u001b[0;34m\u001b[0m\u001b[0m\n\u001b[0m",
      "\u001b[0;31mRuntimeError\u001b[0m: The expanded size of the tensor (1) must match the existing size (101) at non-singleton dimension 1.  Target sizes: [20, 1].  Tensor sizes: [101]"
     ]
    }
   ],
   "source": [
    "xrandom_mean[100:201][5] = torch.tensor(lst,dtype=torch.float32)"
   ]
  },
  {
   "cell_type": "code",
   "execution_count": null,
   "id": "505b174b-4462-4495-b76b-76729283029a",
   "metadata": {},
   "outputs": [],
   "source": [
    "df = pd.DataFrame(xrandom_mean[5].tolist())\n",
    "mean_value = df.mean() # finds the mean value of the column A\n",
    "df = df.fillna(mean_value) # replace missing values with the mean value"
   ]
  },
  {
   "cell_type": "code",
   "execution_count": null,
   "id": "ac761678-3a14-458d-8468-619180b88db4",
   "metadata": {},
   "outputs": [],
   "source": [
    "xrandom_mean[5] = torch.Tensor(df.values)"
   ]
  },
  {
   "cell_type": "code",
   "execution_count": null,
   "id": "b201a288-ddf6-48a9-a718-9ad11db7e968",
   "metadata": {},
   "outputs": [],
   "source": [
    "plt.plot(xrandom_mean[5])"
   ]
  },
  {
   "cell_type": "markdown",
   "id": "9053da55-7f89-4418-9a78-69b918041f7b",
   "metadata": {},
   "source": [
    "## 1.2. linear interpolation"
   ]
  },
  {
   "cell_type": "markdown",
   "id": "f8594d5c-e11f-46ad-8cfe-7d4ffce12013",
   "metadata": {},
   "source": [
    "### 1) Block"
   ]
  },
  {
   "cell_type": "code",
   "execution_count": 130,
   "id": "118d23c4-06f5-4a69-88ce-a1acbbf71bb1",
   "metadata": {},
   "outputs": [],
   "source": [
    "xblock_linearinterpolation = xblock.clone()"
   ]
  },
  {
   "cell_type": "code",
   "execution_count": null,
   "id": "606d20ce-06c7-4f2f-a498-b03fbbb93697",
   "metadata": {},
   "outputs": [],
   "source": [
    "xblock_linearinterpolation[100:201][5]"
   ]
  },
  {
   "cell_type": "code",
   "execution_count": null,
   "id": "bd06e2a5-dee6-4e38-a7d4-9a5f8b9f0c1a",
   "metadata": {},
   "outputs": [],
   "source": [
    "# Sample data points\n",
    "x = np.array([499,1000])\n",
    "y = np.array([xblock_linearinterpolation[5][499],xblock_linearinterpolation[5][1000]])\n",
    "\n",
    "# Create interpolating function\n",
    "f = interp1d(x, y, kind='linear')\n",
    "\n",
    "# Estimate y value for x = 2.5\n",
    "y_interp = f(range(500,1000))"
   ]
  },
  {
   "cell_type": "code",
   "execution_count": null,
   "id": "34f92184-4918-4b96-91ff-06e307146745",
   "metadata": {},
   "outputs": [],
   "source": [
    "xblock_linearinterpolation[5][500:1000] = torch.Tensor(y_interp).reshape(500,1)"
   ]
  },
  {
   "cell_type": "code",
   "execution_count": null,
   "id": "02398785-dd3e-4da5-b8c2-1b08dcfd203d",
   "metadata": {},
   "outputs": [],
   "source": [
    "plt.plot(xblock_linearinterpolation[5])"
   ]
  },
  {
   "cell_type": "markdown",
   "id": "1267ed86-6c44-41ea-8821-979663b66be8",
   "metadata": {},
   "source": [
    "### 2) Random missing values"
   ]
  },
  {
   "cell_type": "code",
   "execution_count": null,
   "id": "0bcce78b-14ef-46d7-916f-bf26a1e28695",
   "metadata": {},
   "outputs": [],
   "source": [
    "xrandom_linearinterpolation = xrandom.clone()"
   ]
  },
  {
   "cell_type": "code",
   "execution_count": null,
   "id": "9202c145-8fad-497f-89fb-70faea90ebf2",
   "metadata": {},
   "outputs": [],
   "source": [
    "df = pd.DataFrame(xrandom_linearinterpolation[5].tolist())\n",
    "df.interpolate(method='linear', inplace=True)\n",
    "df = df.fillna(0)"
   ]
  },
  {
   "cell_type": "code",
   "execution_count": null,
   "id": "56572d8a-76b7-446e-a1b2-3bbe466a9de2",
   "metadata": {},
   "outputs": [],
   "source": [
    "xrandom_linearinterpolation[5] = torch.Tensor(df.values)"
   ]
  },
  {
   "cell_type": "code",
   "execution_count": null,
   "id": "c6d718c4-c1bd-4500-ab19-bdb5f68229b5",
   "metadata": {},
   "outputs": [],
   "source": [
    "plt.plot(xrandom_linearinterpolation[5])"
   ]
  },
  {
   "cell_type": "markdown",
   "id": "c3f6c59a-47dd-4428-9dba-226a0664d127",
   "metadata": {},
   "source": [
    "### 3) By 2"
   ]
  },
  {
   "cell_type": "code",
   "execution_count": null,
   "id": "98a9bad3-ea0c-4cbc-9435-683782ef4d5f",
   "metadata": {},
   "outputs": [],
   "source": [
    "xtwo_linearinterpolation = xtwo.clone()"
   ]
  },
  {
   "cell_type": "code",
   "execution_count": null,
   "id": "336f7ef4-a29a-4093-8d43-120621dfcced",
   "metadata": {},
   "outputs": [],
   "source": [
    "df = pd.DataFrame(xtwo_linearinterpolation[5].tolist())\n",
    "df.interpolate(method='linear', inplace=True)\n",
    "df = df.fillna(0)"
   ]
  },
  {
   "cell_type": "code",
   "execution_count": null,
   "id": "c83e2e43-a21d-462b-aca4-15cf9c53c842",
   "metadata": {},
   "outputs": [],
   "source": [
    "xtwo_linearinterpolation[5] = torch.Tensor(df.values)"
   ]
  },
  {
   "cell_type": "code",
   "execution_count": null,
   "id": "703f3842-56b3-4b10-822d-03ec08bb6730",
   "metadata": {},
   "outputs": [],
   "source": [
    "plt.plot(xtwo_linearinterpolation[5])"
   ]
  },
  {
   "cell_type": "markdown",
   "id": "b907b499-0076-49d7-897f-bae5190dbce1",
   "metadata": {},
   "source": [
    "## 1.3. Normal distribution Random Values"
   ]
  },
  {
   "cell_type": "markdown",
   "id": "d760e4f8-faee-4d08-acc3-28ede110eabc",
   "metadata": {},
   "source": [
    "### 1) Block"
   ]
  },
  {
   "cell_type": "code",
   "execution_count": null,
   "id": "30eabe49-dad1-4066-b1c8-143c6a3758fc",
   "metadata": {},
   "outputs": [],
   "source": [
    "xblock_normal = xblock.clone()"
   ]
  },
  {
   "cell_type": "code",
   "execution_count": null,
   "id": "4ce6d957-99e2-4c67-8195-30913f6039c1",
   "metadata": {},
   "outputs": [],
   "source": [
    "xblock_normal[5][500:1000] = torch.tensor(np.random.normal(loc=0,scale=0.2,size=500)).reshape(500,1)"
   ]
  },
  {
   "cell_type": "code",
   "execution_count": null,
   "id": "e5d4bc37-3130-4063-9aaf-aa193ee81941",
   "metadata": {},
   "outputs": [],
   "source": [
    "plt.plot(xblock_normal[5])"
   ]
  },
  {
   "cell_type": "markdown",
   "id": "776a7867-ec77-4da0-ba24-caedcdd183fa",
   "metadata": {},
   "source": [
    "### 2) Random missing values"
   ]
  },
  {
   "cell_type": "code",
   "execution_count": null,
   "id": "bf36b574-2851-419f-9046-adbfb70f6822",
   "metadata": {},
   "outputs": [],
   "source": [
    "xrandom_normal = xrandom.clone()"
   ]
  },
  {
   "cell_type": "code",
   "execution_count": null,
   "id": "bf0eca36-934a-4220-bde3-4bf1940b5eae",
   "metadata": {},
   "outputs": [],
   "source": [
    "xrandom_normal[5][seed_number] = torch.tensor(np.random.normal(loc=0,scale=0.2,size=500),dtype=torch.float32).reshape(500,1)"
   ]
  },
  {
   "cell_type": "code",
   "execution_count": null,
   "id": "31c2b162-4534-43af-8d2c-412e358fce2a",
   "metadata": {},
   "outputs": [],
   "source": [
    "plt.plot(xrandom_normal[5])"
   ]
  },
  {
   "cell_type": "markdown",
   "id": "3a0329b1-469e-4dbf-a16d-e679c416b6b1",
   "metadata": {},
   "source": [
    "### 3) By 2"
   ]
  },
  {
   "cell_type": "code",
   "execution_count": null,
   "id": "6618993f-e557-4fcc-a607-fde4e1f4c8a4",
   "metadata": {},
   "outputs": [],
   "source": [
    "xtwo_normal = xtwo.clone()"
   ]
  },
  {
   "cell_type": "code",
   "execution_count": null,
   "id": "f9c63a53-27da-4644-9eed-37e25b74bba3",
   "metadata": {},
   "outputs": [],
   "source": [
    "xtwo_normal[5][two_number] = torch.tensor(np.random.normal(loc=0,scale=0.2,size=534),dtype=torch.float32).reshape(534,1)"
   ]
  },
  {
   "cell_type": "code",
   "execution_count": null,
   "id": "556bd2b2-75eb-4f9d-8055-92ebd8d70f5e",
   "metadata": {},
   "outputs": [],
   "source": [
    "plt.plot(xtwo_normal[5])"
   ]
  },
  {
   "cell_type": "markdown",
   "id": "e8c9536a-9953-4d86-8377-f757d04c195a",
   "metadata": {
    "tags": []
   },
   "source": [
    "# 2. ST-GCN 을 사용하여 fhat을 구함. (스무딩1) "
   ]
  },
  {
   "cell_type": "markdown",
   "id": "18bbb5d5-35ef-41c1-8e14-4370b5f30730",
   "metadata": {
    "tags": []
   },
   "source": [
    "## 2.1. Mean"
   ]
  },
  {
   "cell_type": "markdown",
   "id": "54ddc89e-233c-4678-acf9-a62d58749d40",
   "metadata": {},
   "source": [
    "### 1) Block"
   ]
  },
  {
   "cell_type": "code",
   "execution_count": null,
   "id": "531fdfe4-970f-45d6-983a-a2fe0b52a897",
   "metadata": {},
   "outputs": [],
   "source": [
    "f_xblock_mean = xblock_mean.clone()"
   ]
  },
  {
   "cell_type": "code",
   "execution_count": null,
   "id": "9f69f4a7-f90b-4f21-b105-726ce85723ba",
   "metadata": {},
   "outputs": [],
   "source": [
    "X_f_xblock_mean = f_xblock_mean[:728,:,:]\n",
    "y_f_xblock_mean = f_xblock_mean[1:,:,:]"
   ]
  },
  {
   "cell_type": "code",
   "execution_count": null,
   "id": "d2972563-b290-46a4-abb6-609778db1595",
   "metadata": {},
   "outputs": [],
   "source": [
    "model = RecurrentGCN(node_features=1, filters=4)\n",
    "\n",
    "optimizer = torch.optim.Adam(model.parameters(), lr=0.01)\n",
    "\n",
    "model.train()\n",
    "\n",
    "for epoch in tqdm(range(50)):\n",
    "    for time, (xt,yt) in enumerate(zip(X_f_xblock_mean,y_f_xblock_mean)):\n",
    "        y_hat = model(xt, edge_index, edge_attr)\n",
    "        cost = torch.mean((y_hat-yt)**2)\n",
    "        cost.backward()\n",
    "        optimizer.step()\n",
    "        optimizer.zero_grad()"
   ]
  },
  {
   "cell_type": "code",
   "execution_count": null,
   "id": "b45434e8-bd5c-4b3f-a727-9d5bb6a4dae9",
   "metadata": {},
   "outputs": [],
   "source": [
    "fhat_xblock_mean = torch.stack([model(xt, edge_index, edge_attr) for xt in X_f_xblock_mean]).detach().numpy()"
   ]
  },
  {
   "cell_type": "code",
   "execution_count": null,
   "id": "52915bbe-0243-43b7-9aeb-b2af2874a840",
   "metadata": {},
   "outputs": [],
   "source": [
    "plt.plot(fhat_xblock_mean[5].data)"
   ]
  },
  {
   "cell_type": "markdown",
   "id": "776091e5-9208-46d8-8f7f-f9b2e7161562",
   "metadata": {},
   "source": [
    "### 2) Random missing values"
   ]
  },
  {
   "cell_type": "code",
   "execution_count": null,
   "id": "bf2533b1-2c44-47af-8d75-cf4bfcbc48a7",
   "metadata": {},
   "outputs": [],
   "source": [
    "f_xrandom_mean = xrandom_mean.clone()"
   ]
  },
  {
   "cell_type": "code",
   "execution_count": null,
   "id": "c631377c-fb75-454f-81db-acc6f890ba54",
   "metadata": {},
   "outputs": [],
   "source": [
    "X_f_xrandom_mean = f_xrandom_mean[:728,:,:]\n",
    "y_f_xrandom_mean = f_xrandom_mean[1:,:,:]"
   ]
  },
  {
   "cell_type": "code",
   "execution_count": null,
   "id": "2f53f120-b931-4597-85f0-07a3934293f3",
   "metadata": {},
   "outputs": [],
   "source": [
    "model = RecurrentGCN(node_features=1, filters=4)\n",
    "\n",
    "optimizer = torch.optim.Adam(model.parameters(), lr=0.01)\n",
    "\n",
    "model.train()\n",
    "\n",
    "for epoch in tqdm(range(50)):\n",
    "    for time, (xt,yt) in enumerate(zip(X_f_xrandom_mean,y_f_xrandom_mean)):\n",
    "        y_hat = model(xt, edge_index, edge_attr)\n",
    "        cost = torch.mean((y_hat-yt)**2)\n",
    "        cost.backward()\n",
    "        optimizer.step()\n",
    "        optimizer.zero_grad()"
   ]
  },
  {
   "cell_type": "code",
   "execution_count": null,
   "id": "ce4ec776-45ce-4e99-a961-3bfe6f5dac63",
   "metadata": {},
   "outputs": [],
   "source": [
    "fhat_xrandom_mean = torch.stack([model(xt, edge_index, edge_attr) for xt in X_f_xrandom_mean]).detach().numpy()"
   ]
  },
  {
   "cell_type": "code",
   "execution_count": null,
   "id": "6bac35eb-b019-47c6-9140-0580ddfec880",
   "metadata": {},
   "outputs": [],
   "source": [
    "plt.plot(fhat_xrandom_mean[5].data)"
   ]
  },
  {
   "cell_type": "markdown",
   "id": "18022d85-5a7f-43f9-8319-7bc16cb30463",
   "metadata": {},
   "source": [
    "### 3) By 2"
   ]
  },
  {
   "cell_type": "code",
   "execution_count": null,
   "id": "9530fe23-8303-45b8-931b-bb697e57c056",
   "metadata": {},
   "outputs": [],
   "source": [
    "f_xtwo_mean = xtwo_mean.clone()"
   ]
  },
  {
   "cell_type": "code",
   "execution_count": null,
   "id": "0dce450b-cb49-48db-bac0-a2d9de58c4cb",
   "metadata": {},
   "outputs": [],
   "source": [
    "X_f_xtwo_mean = f_xtwo_mean[:728,:,:]\n",
    "y_f_xtwo_mean = f_xtwo_mean[1:,:,:]"
   ]
  },
  {
   "cell_type": "code",
   "execution_count": null,
   "id": "fb25fe7e-20ef-46d8-b66f-16a5ea359901",
   "metadata": {},
   "outputs": [],
   "source": [
    "model = RecurrentGCN(node_features=1, filters=4)\n",
    "\n",
    "optimizer = torch.optim.Adam(model.parameters(), lr=0.01)\n",
    "\n",
    "model.train()\n",
    "\n",
    "for epoch in tqdm(range(50)):\n",
    "    for time, (xt,yt) in enumerate(zip(X_f_xtwo_mean,y_f_xtwo_mean)):\n",
    "        y_hat = model(xt, edge_index, edge_attr)\n",
    "        cost = torch.mean((y_hat-yt)**2)\n",
    "        cost.backward()\n",
    "        optimizer.step()\n",
    "        optimizer.zero_grad()"
   ]
  },
  {
   "cell_type": "code",
   "execution_count": null,
   "id": "2f02ca7d-fbfa-429b-a197-b0936ef4f851",
   "metadata": {},
   "outputs": [],
   "source": [
    "fhat_xtwo_mean = torch.stack([model(xt, edge_index, edge_attr) for xt in X_f_xtwo_mean]).detach().numpy()"
   ]
  },
  {
   "cell_type": "code",
   "execution_count": null,
   "id": "c51ac002-10ac-4ed8-abac-6f070474ebdd",
   "metadata": {},
   "outputs": [],
   "source": [
    "plt.plot(fhat_xtwo_mean[5].data)"
   ]
  },
  {
   "cell_type": "markdown",
   "id": "2adf36bc-2a9e-4018-95ba-449b4607796e",
   "metadata": {},
   "source": [
    "## 2.2. linear interpolation"
   ]
  },
  {
   "cell_type": "markdown",
   "id": "852ba859-cc79-4c18-87f0-75b771686234",
   "metadata": {},
   "source": [
    "### 1) Block"
   ]
  },
  {
   "cell_type": "code",
   "execution_count": null,
   "id": "3ca7a2f9-47bf-46b2-b21f-a2c6edfff353",
   "metadata": {},
   "outputs": [],
   "source": [
    "f_block_linearinterpolation = xblock_linearinterpolation.clone()"
   ]
  },
  {
   "cell_type": "code",
   "execution_count": null,
   "id": "3472c256-802f-4136-98b8-1aaa19ab43a5",
   "metadata": {},
   "outputs": [],
   "source": [
    "X_f_block_linearinterpolation = f_block_linearinterpolation[:728,:,:]\n",
    "y_f_block_linearinterpolation = f_block_linearinterpolation[1:,:,:]"
   ]
  },
  {
   "cell_type": "code",
   "execution_count": null,
   "id": "5900aa64-8c6f-4cb9-ab2d-da4d51b2485a",
   "metadata": {},
   "outputs": [],
   "source": [
    "model = RecurrentGCN(node_features=1, filters=4)\n",
    "\n",
    "optimizer = torch.optim.Adam(model.parameters(), lr=0.01)\n",
    "\n",
    "model.train()\n",
    "\n",
    "for epoch in tqdm(range(50)):\n",
    "    for time, (xt,yt) in enumerate(zip(X_f_block_linearinterpolation,y_f_block_linearinterpolation)):\n",
    "        y_hat = model(xt, edge_index, edge_attr)\n",
    "        cost = torch.mean((y_hat-yt)**2)\n",
    "        cost.backward()\n",
    "        optimizer.step()\n",
    "        optimizer.zero_grad()"
   ]
  },
  {
   "cell_type": "code",
   "execution_count": null,
   "id": "ba6c23d7-b8fa-455b-ab60-2ec6089f6cc6",
   "metadata": {},
   "outputs": [],
   "source": [
    "fhat_linearinterpolation = torch.stack([model(xt, edge_index, edge_attr) for xt in X_f_block_linearinterpolation]).detach().numpy()"
   ]
  },
  {
   "cell_type": "code",
   "execution_count": null,
   "id": "f2d0e1d7-7688-458b-bc04-85327ddc4b21",
   "metadata": {},
   "outputs": [],
   "source": [
    "plt.plot(fhat_linearinterpolation[:,2].data)"
   ]
  },
  {
   "cell_type": "markdown",
   "id": "2772fca8-97d4-4b62-9ec6-bc381fe1949f",
   "metadata": {},
   "source": [
    "### 2) Random missing values"
   ]
  },
  {
   "cell_type": "code",
   "execution_count": null,
   "id": "dea50d1f-2320-4981-b0ae-4300931a3be4",
   "metadata": {},
   "outputs": [],
   "source": [
    "f_random_linearinterpolation = xrandom_linearinterpolation.clone()"
   ]
  },
  {
   "cell_type": "code",
   "execution_count": null,
   "id": "6a39e1e3-0004-45a0-b9d9-7bd6de213e92",
   "metadata": {},
   "outputs": [],
   "source": [
    "X_f_random_linearinterpolation = f_random_linearinterpolation[:728,:,:]\n",
    "y_f_random_linearinterpolation = f_random_linearinterpolation[1:,:,:]"
   ]
  },
  {
   "cell_type": "code",
   "execution_count": null,
   "id": "a281f7da-8f2c-4073-9717-e03c50bb7bee",
   "metadata": {},
   "outputs": [],
   "source": [
    "model = RecurrentGCN(node_features=1, filters=4)\n",
    "\n",
    "optimizer = torch.optim.Adam(model.parameters(), lr=0.01)\n",
    "\n",
    "model.train()\n",
    "\n",
    "for epoch in tqdm(range(50)):\n",
    "    for time, (xt,yt) in enumerate(zip(X_f_random_linearinterpolation,y_f_random_linearinterpolation)):\n",
    "        y_hat = model(xt, edge_index, edge_attr)\n",
    "        cost = torch.mean((y_hat-yt)**2)\n",
    "        cost.backward()\n",
    "        optimizer.step()\n",
    "        optimizer.zero_grad()"
   ]
  },
  {
   "cell_type": "code",
   "execution_count": null,
   "id": "787ab7b4-8339-4a1d-9502-da41747f1178",
   "metadata": {},
   "outputs": [],
   "source": [
    "fhat_random_linearinterpolation = torch.stack([model(xt, edge_index, edge_attr) for xt in X_f_random_linearinterpolation]).detach().numpy()"
   ]
  },
  {
   "cell_type": "code",
   "execution_count": null,
   "id": "5fae3f6e-67e3-4d06-bdf4-017f1f176477",
   "metadata": {},
   "outputs": [],
   "source": [
    "plt.plot(fhat_random_linearinterpolation[5].data)"
   ]
  },
  {
   "cell_type": "markdown",
   "id": "eb1e5ae5-a358-4102-b3c7-0b6dfdd638c1",
   "metadata": {},
   "source": [
    "### 3) By 2"
   ]
  },
  {
   "cell_type": "code",
   "execution_count": null,
   "id": "79ec47f2-e255-4b7e-8180-09ad4b7e3343",
   "metadata": {},
   "outputs": [],
   "source": [
    "f_two_linearinterpolation = xtwo_linearinterpolation.clone()"
   ]
  },
  {
   "cell_type": "code",
   "execution_count": null,
   "id": "9c555243-a75b-4c77-b044-8e8e25bb069f",
   "metadata": {},
   "outputs": [],
   "source": [
    "X_f_two_linearinterpolation = f_two_linearinterpolation[:728,:,:]\n",
    "y_f_two_linearinterpolation = f_two_linearinterpolation[1:,:,:]"
   ]
  },
  {
   "cell_type": "code",
   "execution_count": null,
   "id": "097666a9-2bf1-4b78-85b0-178eaf82e7cb",
   "metadata": {},
   "outputs": [],
   "source": [
    "model = RecurrentGCN(node_features=1, filters=4)\n",
    "\n",
    "optimizer = torch.optim.Adam(model.parameters(), lr=0.01)\n",
    "\n",
    "model.train()\n",
    "\n",
    "for epoch in tqdm(range(50)):\n",
    "    for time, (xt,yt) in enumerate(zip(X_f_two_linearinterpolation,y_f_two_linearinterpolation)):\n",
    "        y_hat = model(xt, edge_index, edge_attr)\n",
    "        cost = torch.mean((y_hat-yt)**2)\n",
    "        cost.backward()\n",
    "        optimizer.step()\n",
    "        optimizer.zero_grad()"
   ]
  },
  {
   "cell_type": "code",
   "execution_count": null,
   "id": "3fcd2faf-a879-4a47-81b1-aca7f012f3e9",
   "metadata": {},
   "outputs": [],
   "source": [
    "fhat_two_linearinterpolation = torch.stack([model(xt, edge_index, edge_attr) for xt in X_f_two_linearinterpolation]).detach().numpy()"
   ]
  },
  {
   "cell_type": "code",
   "execution_count": null,
   "id": "db684d1e-596f-42e3-bc27-7eddea90f6e6",
   "metadata": {},
   "outputs": [],
   "source": [
    "plt.plot(fhat_two_linearinterpolation[5].data)"
   ]
  },
  {
   "cell_type": "markdown",
   "id": "27b5159d-bc32-4f9e-91f4-9b978c7ae1f5",
   "metadata": {
    "tags": []
   },
   "source": [
    "## 2.3. Normal distribution Random Values"
   ]
  },
  {
   "cell_type": "markdown",
   "id": "30eb1c41-bf27-4124-9b71-efa9c035c4ef",
   "metadata": {},
   "source": [
    "### 1) Block"
   ]
  },
  {
   "cell_type": "code",
   "execution_count": null,
   "id": "3b24b9c7-a8f0-4536-ae33-c73625e48b0d",
   "metadata": {},
   "outputs": [],
   "source": [
    "f_xblock_normal = xblock_normal.clone()"
   ]
  },
  {
   "cell_type": "code",
   "execution_count": null,
   "id": "fd8739dd-a4dd-42ec-a248-dcca64f03f62",
   "metadata": {},
   "outputs": [],
   "source": [
    "X_f_xblock_normal = f_xblock_normal[:728,:,:]\n",
    "y_f_xblock_normal = f_xblock_normal[1:,:,:]"
   ]
  },
  {
   "cell_type": "code",
   "execution_count": null,
   "id": "bed01093-5abf-485c-849e-b7bbe6cd772c",
   "metadata": {},
   "outputs": [],
   "source": [
    "model = RecurrentGCN(node_features=1, filters=4)\n",
    "\n",
    "optimizer = torch.optim.Adam(model.parameters(), lr=0.01)\n",
    "\n",
    "model.train()\n",
    "\n",
    "for epoch in tqdm(range(50)):\n",
    "    for time, (xt,yt) in enumerate(zip(X_f_xblock_normal,y_f_xblock_normal)):\n",
    "        y_hat = model(xt, edge_index, edge_attr)\n",
    "        cost = torch.mean((y_hat-yt)**2)\n",
    "        cost.backward()\n",
    "        optimizer.step()\n",
    "        optimizer.zero_grad()"
   ]
  },
  {
   "cell_type": "code",
   "execution_count": null,
   "id": "84f564bc-a0df-4876-95ac-aea687c5ccdb",
   "metadata": {},
   "outputs": [],
   "source": [
    "fhat_xblock_normal = torch.stack([model(xt, edge_index, edge_attr) for xt in X_f_xblock_normal]).detach().numpy()"
   ]
  },
  {
   "cell_type": "code",
   "execution_count": null,
   "id": "6f16c2d9-8df5-41c4-8cbc-b705692e7ea7",
   "metadata": {},
   "outputs": [],
   "source": [
    "plt.plot(fhat_xblock_normal[5].data)"
   ]
  },
  {
   "cell_type": "markdown",
   "id": "8989a75d-fe23-4bbf-ae3b-612f8240b13f",
   "metadata": {},
   "source": [
    "### 2) Random missing values"
   ]
  },
  {
   "cell_type": "code",
   "execution_count": null,
   "id": "7dea60ed-71e6-4663-a19e-064fcd506d87",
   "metadata": {},
   "outputs": [],
   "source": [
    "f_xrandom_normal = xrandom_normal.clone()"
   ]
  },
  {
   "cell_type": "code",
   "execution_count": null,
   "id": "5997131a-30d8-4045-85d2-0e5b7d43f819",
   "metadata": {},
   "outputs": [],
   "source": [
    "X_f_xrandom_normal = f_xrandom_normal[:728,:,:]\n",
    "y_f_xrandom_normal = f_xrandom_normal[1:,:,:]"
   ]
  },
  {
   "cell_type": "code",
   "execution_count": null,
   "id": "01500353-b739-48f7-83d7-ed2dd09a1e52",
   "metadata": {},
   "outputs": [],
   "source": [
    "model = RecurrentGCN(node_features=1, filters=4)\n",
    "\n",
    "optimizer = torch.optim.Adam(model.parameters(), lr=0.01)\n",
    "\n",
    "model.train()\n",
    "\n",
    "for epoch in tqdm(range(50)):\n",
    "    for time, (xt,yt) in enumerate(zip(X_f_xrandom_normal,y_f_xrandom_normal)):\n",
    "        y_hat = model(xt, edge_index, edge_attr)\n",
    "        cost = torch.mean((y_hat-yt)**2)\n",
    "        cost.backward()\n",
    "        optimizer.step()\n",
    "        optimizer.zero_grad()"
   ]
  },
  {
   "cell_type": "code",
   "execution_count": null,
   "id": "a23dee94-5219-4673-8457-df1a358f3c15",
   "metadata": {},
   "outputs": [],
   "source": [
    "fhat_xrandom_normal = torch.stack([model(xt, edge_index, edge_attr) for xt in X_f_xrandom_normal]).detach().numpy()"
   ]
  },
  {
   "cell_type": "code",
   "execution_count": null,
   "id": "0a9543ed-678c-4d84-9c1f-84edebe19738",
   "metadata": {},
   "outputs": [],
   "source": [
    "plt.plot(f_xrandom_normal[5].data)"
   ]
  },
  {
   "cell_type": "markdown",
   "id": "f8860d24-97fe-493e-b47f-d1b071b6db32",
   "metadata": {},
   "source": [
    "### 3) By 2"
   ]
  },
  {
   "cell_type": "code",
   "execution_count": null,
   "id": "7d11b494-6259-48f8-a1d2-000141df84e5",
   "metadata": {},
   "outputs": [],
   "source": [
    "f_xtwo_normal = xtwo_normal.clone()"
   ]
  },
  {
   "cell_type": "code",
   "execution_count": null,
   "id": "42192339-a988-48af-b977-e066fd72ac3b",
   "metadata": {},
   "outputs": [],
   "source": [
    "X_f_xtwo_normal = f_xtwo_normal[:728,:,:]\n",
    "y_f_xtwo_normal = f_xtwo_normal[1:,:,:]"
   ]
  },
  {
   "cell_type": "code",
   "execution_count": null,
   "id": "464d1c58-e548-4c67-a630-b3805e1b3065",
   "metadata": {},
   "outputs": [],
   "source": [
    "model = RecurrentGCN(node_features=1, filters=4)\n",
    "\n",
    "optimizer = torch.optim.Adam(model.parameters(), lr=0.01)\n",
    "\n",
    "model.train()\n",
    "\n",
    "for epoch in tqdm(range(50)):\n",
    "    for time, (xt,yt) in enumerate(zip(X_f_xtwo_normal,y_f_xtwo_normal)):\n",
    "        y_hat = model(xt, edge_index, edge_attr)\n",
    "        cost = torch.mean((y_hat-yt)**2)\n",
    "        cost.backward()\n",
    "        optimizer.step()\n",
    "        optimizer.zero_grad()"
   ]
  },
  {
   "cell_type": "code",
   "execution_count": null,
   "id": "7da374b2-6cc6-4ead-99c6-0cd0a18fc78f",
   "metadata": {},
   "outputs": [],
   "source": [
    "fhat_xtwo_normal = torch.stack([model(xt, edge_index, edge_attr) for xt in X_f_xtwo_normal]).detach().numpy()"
   ]
  },
  {
   "cell_type": "code",
   "execution_count": null,
   "id": "bd6137c6-ef8f-430f-9733-5842203b214d",
   "metadata": {},
   "outputs": [],
   "source": [
    "plt.plot(fhat_xtwo_normal[5].data)"
   ]
  },
  {
   "cell_type": "markdown",
   "id": "3d007949-a531-4888-ba17-c9a44dd4290c",
   "metadata": {},
   "source": [
    "# 3. 2에서 얻은 fhat을 이용하여 그래프퓨리에변환+Ebayesthresh (스무딩2)  "
   ]
  },
  {
   "cell_type": "markdown",
   "id": "f8281ebb-5a06-4fb1-8b59-9b5b16f74eb5",
   "metadata": {},
   "source": [
    "- 그래프퓨리에변환을 하는 가중치\n",
    "- 년도끼리 이어주어서 하나의 큰 그래프로 만든뒤에 GFT \n",
    "- Ebayesthresh "
   ]
  },
  {
   "cell_type": "markdown",
   "id": "3ccc19be-1677-42b6-808f-62e297182ee0",
   "metadata": {
    "tags": []
   },
   "source": [
    "## 3.1. Mean"
   ]
  },
  {
   "cell_type": "markdown",
   "id": "ae656f04-bbda-4919-8c8a-e6cc444fb14b",
   "metadata": {},
   "source": [
    "### 3.1.1. Temporal"
   ]
  },
  {
   "cell_type": "markdown",
   "id": "d68965f6-cd2f-4add-acd0-4162d4adee05",
   "metadata": {},
   "source": [
    "#### 1) Block"
   ]
  },
  {
   "cell_type": "code",
   "execution_count": null,
   "id": "2feafadc-8eb7-43d5-b105-c64f18a4aac0",
   "metadata": {},
   "outputs": [],
   "source": [
    "w=np.zeros((1068,728,728))"
   ]
  },
  {
   "cell_type": "code",
   "execution_count": null,
   "id": "55dccf28-a04a-4ee9-88ff-df2c643456d5",
   "metadata": {},
   "outputs": [],
   "source": [
    "for k in range(1068):\n",
    "    for i in range(728):\n",
    "        for j in range(728):\n",
    "            if i==j :\n",
    "                w[k,i,j] = 0\n",
    "            elif np.abs(i-j) <= 1 : \n",
    "                w[k,i,j] = 1"
   ]
  },
  {
   "cell_type": "code",
   "execution_count": null,
   "id": "7bb60443-3540-4bf1-951f-357a0562e5b8",
   "metadata": {},
   "outputs": [],
   "source": [
    "d = np.array([w[i].sum(axis=1) for i in range(1068)])\n",
    "D= np.array([np.diag(d[i]) for i in range(1068)])\n",
    "L = np.array([np.diag(1/np.sqrt(d[i])) @ (D[i]-w[i]) @ np.diag(1/np.sqrt(d[i])) for i in range(1068)])\n",
    "lamb, Psi  = np.linalg.eigh(L)[0],np.linalg.eigh(L)[1]\n",
    "Lamb = np.array([np.diag(lamb[i]) for i in range(1068)])    \n",
    "fhatbar = np.hstack([Psi[i] @ fhat_xblock_mean[:,i] for i in range(1068)])\n",
    "_fhatbar = fhatbar.reshape(1068,728)\n",
    "power = _fhatbar**2 \n",
    "ebayesthresh = importr('EbayesThresh').ebayesthresh\n",
    "power_threshed=np.array([np.array(ebayesthresh(FloatVector(_fhatbar[i]**2))) for i in range(1068)])\n",
    "fhatbar_threshed = np.where(power_threshed>0,_fhatbar,0)\n",
    "fhatbarhat = np.array([Psi[i] @ fhatbar_threshed[i] for i in range(1068)])    \n",
    "fhatbarhat_block_mean_temporal = fhatbarhat.reshape(728,-1)"
   ]
  },
  {
   "cell_type": "code",
   "execution_count": null,
   "id": "427291ad-5e9c-4539-b1c6-8c122307dff7",
   "metadata": {},
   "outputs": [],
   "source": [
    "plt.plot(fhatbarhat_block_mean_temporal[5])"
   ]
  },
  {
   "cell_type": "markdown",
   "id": "028d6f4c-048e-4e81-8113-b0a32f27659a",
   "metadata": {},
   "source": [
    "#### 2) Random missing values"
   ]
  },
  {
   "cell_type": "code",
   "execution_count": null,
   "id": "7a9ace19-e64d-446e-90a1-b66c08e850e8",
   "metadata": {},
   "outputs": [],
   "source": [
    "d = np.array([w[i].sum(axis=1) for i in range(1068)])\n",
    "D= np.array([np.diag(d[i]) for i in range(1068)])\n",
    "L = np.array([np.diag(1/np.sqrt(d[i])) @ (D[i]-w[i]) @ np.diag(1/np.sqrt(d[i])) for i in range(1068)])\n",
    "lamb, Psi  = np.linalg.eigh(L)[0],np.linalg.eigh(L)[1]\n",
    "Lamb = np.array([np.diag(lamb[i]) for i in range(1068)])    \n",
    "fhatbar = np.hstack([Psi[i] @ fhat_xrandom_mean[:,i] for i in range(1068)])\n",
    "_fhatbar = fhatbar.reshape(1068,728)\n",
    "power = _fhatbar**2 \n",
    "ebayesthresh = importr('EbayesThresh').ebayesthresh\n",
    "power_threshed=np.array([np.array(ebayesthresh(FloatVector(_fhatbar[i]**2))) for i in range(1068)])\n",
    "fhatbar_threshed = np.where(power_threshed>0,_fhatbar,0)\n",
    "fhatbarhat = np.array([Psi[i] @ fhatbar_threshed[i] for i in range(1068)])    \n",
    "fhatbarhat_random_mean_temporal = fhatbarhat.reshape(728,-1)"
   ]
  },
  {
   "cell_type": "code",
   "execution_count": null,
   "id": "77a9c0f7-afb4-4406-9d29-160c49626f0d",
   "metadata": {},
   "outputs": [],
   "source": [
    "plt.plot(fhatbarhat_random_mean_temporal[5])"
   ]
  },
  {
   "cell_type": "markdown",
   "id": "2add2d20-c2a3-4399-a086-6ce5367a0692",
   "metadata": {
    "tags": []
   },
   "source": [
    "#### 3) By 2"
   ]
  },
  {
   "cell_type": "code",
   "execution_count": null,
   "id": "967d0310-1b4a-40c2-b144-2f200a5257fe",
   "metadata": {},
   "outputs": [],
   "source": [
    "d = np.array([w[i].sum(axis=1) for i in range(1068)])\n",
    "D= np.array([np.diag(d[i]) for i in range(1068)])\n",
    "L = np.array([np.diag(1/np.sqrt(d[i])) @ (D[i]-w[i]) @ np.diag(1/np.sqrt(d[i])) for i in range(1068)])\n",
    "lamb, Psi  = np.linalg.eigh(L)[0],np.linalg.eigh(L)[1]\n",
    "Lamb = np.array([np.diag(lamb[i]) for i in range(1068)])    \n",
    "fhatbar = np.hstack([Psi[i] @ fhat_xtwo_mean[:,i] for i in range(1068)])\n",
    "_fhatbar = fhatbar.reshape(1068,728)\n",
    "power = _fhatbar**2 \n",
    "ebayesthresh = importr('EbayesThresh').ebayesthresh\n",
    "power_threshed=np.array([np.array(ebayesthresh(FloatVector(_fhatbar[i]**2))) for i in range(1068)])\n",
    "fhatbar_threshed = np.where(power_threshed>0,_fhatbar,0)\n",
    "fhatbarhat = np.array([Psi[i] @ fhatbar_threshed[i] for i in range(1068)])    \n",
    "fhatbarhat_two_mean_temporal = fhatbarhat.reshape(728,-1)"
   ]
  },
  {
   "cell_type": "code",
   "execution_count": null,
   "id": "e03c0608-8b03-4f77-af9e-117b869717f1",
   "metadata": {},
   "outputs": [],
   "source": [
    "plt.plot(fhatbarhat_two_mean_temporal[5])"
   ]
  },
  {
   "cell_type": "markdown",
   "id": "839a68a0-45dc-488b-afbb-7832eeee17b1",
   "metadata": {},
   "source": [
    "### 3.1.2. Spatio"
   ]
  },
  {
   "cell_type": "markdown",
   "id": "123c1572-1acb-4595-b473-97154a9da2b4",
   "metadata": {},
   "source": [
    "#### 1) Block"
   ]
  },
  {
   "cell_type": "code",
   "execution_count": null,
   "id": "b48bc50e-c44c-46ec-892d-66861ece0c0d",
   "metadata": {},
   "outputs": [],
   "source": [
    "w=np.zeros((1068,1068))"
   ]
  },
  {
   "cell_type": "code",
   "execution_count": null,
   "id": "83cb2f1b-80c5-41a3-bfb6-6b040b4e7e72",
   "metadata": {},
   "outputs": [],
   "source": [
    "for i in range(1068):\n",
    "    for j in range(1068):\n",
    "        if i==j :\n",
    "            w[i,j] = 0\n",
    "        elif np.abs(i-j) <= 1 : \n",
    "            w[i,j] = 1"
   ]
  },
  {
   "cell_type": "code",
   "execution_count": null,
   "id": "5a2eae6f-ae5d-46c3-8e0e-399dfec106ef",
   "metadata": {},
   "outputs": [],
   "source": [
    "d = np.array(w.sum(axis=1))\n",
    "D = np.diag(d)\n",
    "L = np.array(np.diag(1/np.sqrt(d)) @ (D-w) @ np.diag(1/np.sqrt(d)))\n",
    "lamb, Psi = np.linalg.eigh(L)\n",
    "Lamb = np.diag(lamb)\n",
    "fhatbar = Psi @ fhat_xblock_mean.reshape(1068,728)\n",
    "power = fhatbar**2 \n",
    "ebayesthresh = importr('EbayesThresh').ebayesthresh\n",
    "power_threshed=np.array([np.array(ebayesthresh(FloatVector(fhatbar[i]**2))) for i in range(1068)])\n",
    "fhatbar_threshed = np.where(power_threshed>0,fhatbar,0)\n",
    "fhatbarhat = Psi @ fhatbar_threshed\n",
    "fhatbarhat_xblock_mean_spatio = fhatbarhat.reshape(728,-1)"
   ]
  },
  {
   "cell_type": "code",
   "execution_count": null,
   "id": "e71f56c7-466e-4e0d-bd58-29258a81cd65",
   "metadata": {},
   "outputs": [],
   "source": [
    "plt.plot(fhatbarhat_xblock_mean_spatio[5])"
   ]
  },
  {
   "cell_type": "markdown",
   "id": "e60a38dc-26ee-4472-8bf9-7ad49e57f9d2",
   "metadata": {
    "tags": []
   },
   "source": [
    "#### 2) Random missing values"
   ]
  },
  {
   "cell_type": "code",
   "execution_count": null,
   "id": "358c6e67-68cb-437b-a184-ea11ed473edb",
   "metadata": {},
   "outputs": [],
   "source": [
    "d = np.array(w.sum(axis=1))\n",
    "D = np.diag(d)\n",
    "L = np.array(np.diag(1/np.sqrt(d)) @ (D-w) @ np.diag(1/np.sqrt(d)))\n",
    "lamb, Psi = np.linalg.eigh(L)\n",
    "Lamb = np.diag(lamb)\n",
    "fhatbar = Psi @ fhat_xrandom_mean.reshape(1068,728)\n",
    "power = fhatbar**2 \n",
    "ebayesthresh = importr('EbayesThresh').ebayesthresh\n",
    "power_threshed=np.array([np.array(ebayesthresh(FloatVector(fhatbar[i]**2))) for i in range(1068)])\n",
    "fhatbar_threshed = np.where(power_threshed>0,fhatbar,0)\n",
    "fhatbarhat = Psi @ fhatbar_threshed\n",
    "fhatbarhat_xrandom_mean_spatio = fhatbarhat.reshape(728,-1)"
   ]
  },
  {
   "cell_type": "code",
   "execution_count": null,
   "id": "965a4ac0-597f-4b40-b4ba-81c562db87ff",
   "metadata": {},
   "outputs": [],
   "source": [
    "plt.plot(fhatbarhat_xrandom_mean_spatio[5])"
   ]
  },
  {
   "cell_type": "markdown",
   "id": "ed184e8f-e5d0-4f89-864d-993d8ae72ac8",
   "metadata": {},
   "source": [
    "#### 3) By 2"
   ]
  },
  {
   "cell_type": "code",
   "execution_count": null,
   "id": "4e3fe18a-5004-4c69-9220-5c08b5f1c798",
   "metadata": {},
   "outputs": [],
   "source": [
    "d = np.array(w.sum(axis=1))\n",
    "D = np.diag(d)\n",
    "L = np.array(np.diag(1/np.sqrt(d)) @ (D-w) @ np.diag(1/np.sqrt(d)))\n",
    "lamb, Psi = np.linalg.eigh(L)\n",
    "Lamb = np.diag(lamb)\n",
    "fhatbar = Psi @ fhat_xtwo_mean.reshape(1068,728)\n",
    "power = fhatbar**2 \n",
    "ebayesthresh = importr('EbayesThresh').ebayesthresh\n",
    "power_threshed=np.array([np.array(ebayesthresh(FloatVector(fhatbar[i]**2))) for i in range(1068)])\n",
    "fhatbar_threshed = np.where(power_threshed>0,fhatbar,0)\n",
    "fhatbarhat = Psi @ fhatbar_threshed\n",
    "fhatbarhat_xtwo_mean_spatio = fhatbarhat.reshape(728,-1)"
   ]
  },
  {
   "cell_type": "code",
   "execution_count": null,
   "id": "fff5ca4f-9898-4f2c-bbd7-99c94aa09523",
   "metadata": {},
   "outputs": [],
   "source": [
    "plt.plot(fhatbarhat_xtwo_mean_spatio[5])"
   ]
  },
  {
   "cell_type": "markdown",
   "id": "97d404d6-93d5-4dce-9e19-a2c288831235",
   "metadata": {
    "tags": []
   },
   "source": [
    "### 3.1.3. Spatio-Temporal"
   ]
  },
  {
   "cell_type": "markdown",
   "id": "f6a40423-823c-4310-bb3d-9a2233fc8487",
   "metadata": {},
   "source": [
    "#### 1) Block"
   ]
  },
  {
   "cell_type": "code",
   "execution_count": null,
   "id": "d6e0a9b1-b072-4269-96a0-6937c93b8c6c",
   "metadata": {},
   "outputs": [],
   "source": [
    "w=np.zeros((777504,777504))"
   ]
  },
  {
   "cell_type": "code",
   "execution_count": null,
   "id": "9e666a2a-9423-461f-a60f-5158e8ae0bc1",
   "metadata": {},
   "outputs": [],
   "source": [
    "for i in range(777504):\n",
    "    for j in range(777504):\n",
    "        if i==j :\n",
    "            w[i,j] = 0\n",
    "        elif np.abs(i-j) <= 1 : \n",
    "            w[i,j] = 1"
   ]
  },
  {
   "cell_type": "code",
   "execution_count": null,
   "id": "66064009-7a62-46d0-a3cc-2f32a318fe80",
   "metadata": {},
   "outputs": [],
   "source": [
    "d = np.array(w.sum(axis=1))\n",
    "D = np.diag(d)\n",
    "L = np.array(np.diag(1/np.sqrt(d)) @ (D-w) @ np.diag(1/np.sqrt(d)))\n",
    "lamb, Psi = np.linalg.eigh(L)\n",
    "Lamb = np.diag(lamb)\n",
    "fhatbar = Psi @ fhat_xblock_mean.reshape(777504,1)\n",
    "power = fhatbar**2 \n",
    "ebayesthresh = importr('EbayesThresh').ebayesthresh\n",
    "power_threshed=np.array([np.array(ebayesthresh(FloatVector(fhatbar[i]**2))) for i in range(777504)])\n",
    "fhatbar_threshed = np.where(power_threshed>0,fhatbar,0)\n",
    "fhatbarhat = Psi @ fhatbar_threshed\n",
    "fhatbarhat_block_mean_spatio_temporal = fhatbarhat.reshape(728,1068,1)"
   ]
  },
  {
   "cell_type": "code",
   "execution_count": null,
   "id": "1fbb0280-6d27-49e1-b00a-3d3ac3231a58",
   "metadata": {},
   "outputs": [],
   "source": [
    "plt.plot(fhatbarhat_block_mean_spatio_temporal[5])"
   ]
  },
  {
   "cell_type": "markdown",
   "id": "f5f06185-52e8-4e46-995d-4f36f978e3ed",
   "metadata": {},
   "source": [
    "#### 2) Random missing values"
   ]
  },
  {
   "cell_type": "code",
   "execution_count": null,
   "id": "49036fed-28e6-4273-a39e-67bc36aa567b",
   "metadata": {},
   "outputs": [],
   "source": [
    "d = np.array(w.sum(axis=1))\n",
    "D = np.diag(d)\n",
    "L = np.array(np.diag(1/np.sqrt(d)) @ (D-w) @ np.diag(1/np.sqrt(d)))\n",
    "lamb, Psi = np.linalg.eigh(L)\n",
    "Lamb = np.diag(lamb)\n",
    "fhatbar = Psi @ fhat_xrandom_mean.reshape(777504,1)\n",
    "power = fhatbar**2 \n",
    "ebayesthresh = importr('EbayesThresh').ebayesthresh\n",
    "power_threshed=np.array([np.array(ebayesthresh(FloatVector(fhatbar[i]**2))) for i in range(777504)])\n",
    "fhatbar_threshed = np.where(power_threshed>0,fhatbar,0)\n",
    "fhatbarhat = Psi @ fhatbar_threshed\n",
    "fhatbarhat_random_mean_spatio_temporal = fhatbarhat.reshape(728,1068,1)"
   ]
  },
  {
   "cell_type": "code",
   "execution_count": null,
   "id": "9f637cc6-1bef-4ca2-858a-b7f0fcfb47bf",
   "metadata": {},
   "outputs": [],
   "source": [
    "plt.plot(fhatbarhat_random_mean_spatio_temporal[5])"
   ]
  },
  {
   "cell_type": "markdown",
   "id": "07ff3ecf-4eff-4ed9-b998-3ef0c31e7fa4",
   "metadata": {},
   "source": [
    "#### 3) By 2"
   ]
  },
  {
   "cell_type": "code",
   "execution_count": null,
   "id": "3c177f88-455a-4c74-b7b2-b6f6d7992042",
   "metadata": {},
   "outputs": [],
   "source": [
    "d = np.array(w.sum(axis=1))\n",
    "D = np.diag(d)\n",
    "L = np.array(np.diag(1/np.sqrt(d)) @ (D-w) @ np.diag(1/np.sqrt(d)))\n",
    "lamb, Psi = np.linalg.eigh(L)\n",
    "Lamb = np.diag(lamb)\n",
    "fhatbar = Psi @ fhat_xtwo_mean.reshape(777504,1)\n",
    "power = fhatbar**2 \n",
    "ebayesthresh = importr('EbayesThresh').ebayesthresh\n",
    "power_threshed=np.array([np.array(ebayesthresh(FloatVector(fhatbar[i]**2))) for i in range(777504)])\n",
    "fhatbar_threshed = np.where(power_threshed>0,fhatbar,0)\n",
    "fhatbarhat = Psi @ fhatbar_threshed\n",
    "fhatbarhat_two_mean_spatio_temporal = fhatbarhat.reshape(728,1068,1)"
   ]
  },
  {
   "cell_type": "code",
   "execution_count": null,
   "id": "4757513e-8136-4824-84dc-4811328bb5a3",
   "metadata": {},
   "outputs": [],
   "source": [
    "plt.plot(fhatbarhat_two_mean_spatio_temporal[5])"
   ]
  },
  {
   "cell_type": "markdown",
   "id": "77bbf743-f44d-432c-a805-2b0ed7a47f84",
   "metadata": {},
   "source": [
    "## 3.2.linear interpolation"
   ]
  },
  {
   "cell_type": "markdown",
   "id": "64d1dd3b-31e8-46a3-a233-7d99c264f73c",
   "metadata": {},
   "source": [
    "### 3.2.1. Temporal"
   ]
  },
  {
   "cell_type": "markdown",
   "id": "d701ab1d-9f9c-45d1-b169-8a2640691c83",
   "metadata": {
    "tags": []
   },
   "source": [
    "#### 1) Block"
   ]
  },
  {
   "cell_type": "code",
   "execution_count": null,
   "id": "89423b8f-88dd-4651-a394-fa040640458d",
   "metadata": {},
   "outputs": [],
   "source": [
    "w=np.zeros((N,728,728))"
   ]
  },
  {
   "cell_type": "code",
   "execution_count": null,
   "id": "80d2c6cc-04d7-4805-a995-9513fcf5f767",
   "metadata": {},
   "outputs": [],
   "source": [
    "for k in range(N):\n",
    "    for i in range(728):\n",
    "        for j in range(728):\n",
    "            if i==j :\n",
    "                w[k,i,j] = 0\n",
    "            elif np.abs(i-j) <= 1 : \n",
    "                w[k,i,j] = 1"
   ]
  },
  {
   "cell_type": "code",
   "execution_count": null,
   "id": "060566aa-243a-48fe-a4c4-386701bb1b48",
   "metadata": {},
   "outputs": [],
   "source": [
    "d = np.array([w[i].sum(axis=1) for i in range(N)])\n",
    "D= np.array([np.diag(d[i]) for i in range(N)])\n",
    "L = np.array([np.diag(1/np.sqrt(d[i])) @ (D[i]-w[i]) @ np.diag(1/np.sqrt(d[i])) for i in range(N)])\n",
    "lamb, Psi  = np.linalg.eigh(L)[0],np.linalg.eigh(L)[1]\n",
    "Lamb = np.array([np.diag(lamb[i]) for i in range(N)])\n",
    "fhatbar = np.hstack([Psi[i] @ fhat_linearinterpolation[:,i] for i in range(N)])\n",
    "_fhatbar = fhatbar.reshape(N,728)\n",
    "power = _fhatbar**2 \n",
    "ebayesthresh = importr('EbayesThresh').ebayesthresh\n",
    "power_threshed=np.array([np.array(ebayesthresh(FloatVector(_fhatbar[i]**2))) for i in range(N)])    \n",
    "fhatbar_threshed = np.where(power_threshed>0,_fhatbar,0)\n",
    "fhatbarhat = np.array([Psi[i] @ fhatbar_threshed[i] for i in range(N)])    \n",
    "fhatbarhat_block_linearinterpolation_temporal = fhatbarhat.reshape(728,-1)"
   ]
  },
  {
   "cell_type": "code",
   "execution_count": null,
   "id": "d76123a9-849f-44b9-820b-dbd91cc483a3",
   "metadata": {},
   "outputs": [],
   "source": [
    "plt.plot(fhatbarhat_block_linearinterpolation_temporal[5])"
   ]
  },
  {
   "cell_type": "markdown",
   "id": "877d7b7a-c6a6-46ab-80df-e60c0399cd29",
   "metadata": {
    "tags": []
   },
   "source": [
    "#### 2) Random missing values"
   ]
  },
  {
   "cell_type": "code",
   "execution_count": null,
   "id": "c250d961-ca4f-423c-bbce-dac35c7b6673",
   "metadata": {},
   "outputs": [],
   "source": [
    "d = np.array([w[i].sum(axis=1) for i in range(N)])\n",
    "D= np.array([np.diag(d[i]) for i in range(N)])\n",
    "L = np.array([np.diag(1/np.sqrt(d[i])) @ (D[i]-w[i]) @ np.diag(1/np.sqrt(d[i])) for i in range(N)])\n",
    "lamb, Psi  = np.linalg.eigh(L)[0],np.linalg.eigh(L)[1]\n",
    "Lamb = np.array([np.diag(lamb[i]) for i in range(N)])\n",
    "fhatbar = np.hstack([Psi[i] @ fhat_random_linearinterpolation[:,i] for i in range(N)])\n",
    "_fhatbar = fhatbar.reshape(N,728)\n",
    "power = _fhatbar**2 \n",
    "ebayesthresh = importr('EbayesThresh').ebayesthresh\n",
    "power_threshed=np.array([np.array(ebayesthresh(FloatVector(_fhatbar[i]**2))) for i in range(N)])    \n",
    "fhatbar_threshed = np.where(power_threshed>0,_fhatbar,0)\n",
    "fhatbarhat = np.array([Psi[i] @ fhatbar_threshed[i] for i in range(N)])    \n",
    "fhatbarhat_random_linearinterpolation_temporal = fhatbarhat.reshape(728,-1)"
   ]
  },
  {
   "cell_type": "code",
   "execution_count": null,
   "id": "2bc9dcee-32d3-4564-a2d4-51ca47f015b5",
   "metadata": {},
   "outputs": [],
   "source": [
    "plt.plot(fhatbarhat_random_linearinterpolation_temporal[5])"
   ]
  },
  {
   "cell_type": "markdown",
   "id": "8792b378-d3a6-4d5f-9096-ad589c1bd2f0",
   "metadata": {
    "tags": []
   },
   "source": [
    "#### 3) By 2"
   ]
  },
  {
   "cell_type": "code",
   "execution_count": null,
   "id": "eb0d409d-a507-4f40-beb6-2bb558b9ed06",
   "metadata": {},
   "outputs": [],
   "source": [
    "d = np.array([w[i].sum(axis=1) for i in range(N)])\n",
    "D= np.array([np.diag(d[i]) for i in range(N)])\n",
    "L = np.array([np.diag(1/np.sqrt(d[i])) @ (D[i]-w[i]) @ np.diag(1/np.sqrt(d[i])) for i in range(N)])\n",
    "lamb, Psi  = np.linalg.eigh(L)[0],np.linalg.eigh(L)[1]\n",
    "Lamb = np.array([np.diag(lamb[i]) for i in range(N)])\n",
    "fhatbar = np.hstack([Psi[i] @ fhat_two_linearinterpolation[:,i] for i in range(N)])\n",
    "_fhatbar = fhatbar.reshape(N,728)\n",
    "power = _fhatbar**2 \n",
    "ebayesthresh = importr('EbayesThresh').ebayesthresh\n",
    "power_threshed=np.array([np.array(ebayesthresh(FloatVector(_fhatbar[i]**2))) for i in range(N)])    \n",
    "fhatbar_threshed = np.where(power_threshed>0,_fhatbar,0)\n",
    "fhatbarhat = np.array([Psi[i] @ fhatbar_threshed[i] for i in range(N)])    \n",
    "fhatbarhat_two_linearinterpolation_temporal = fhatbarhat.reshape(728,-1)"
   ]
  },
  {
   "cell_type": "code",
   "execution_count": null,
   "id": "8ec43c1d-420f-431f-8d82-b2f49ab51cba",
   "metadata": {},
   "outputs": [],
   "source": [
    "plt.plot(fhatbarhat_two_linearinterpolation_temporal[5])"
   ]
  },
  {
   "cell_type": "markdown",
   "id": "45bc26df-155e-4f2b-8d1c-240528f1dfca",
   "metadata": {},
   "source": [
    "### 3.2.2. Spatio"
   ]
  },
  {
   "cell_type": "markdown",
   "id": "2898d248-eff0-456e-bcee-3fd685f2bec1",
   "metadata": {},
   "source": [
    "#### 1) Block"
   ]
  },
  {
   "cell_type": "code",
   "execution_count": null,
   "id": "71958d57-961e-497a-a2b5-c76e3c7bcf30",
   "metadata": {},
   "outputs": [],
   "source": [
    "w=np.zeros((N,N))"
   ]
  },
  {
   "cell_type": "code",
   "execution_count": null,
   "id": "c4d8518e-2cbb-4f80-9c56-b8c63a60e1c0",
   "metadata": {},
   "outputs": [],
   "source": [
    "for i in range(N):\n",
    "    for j in range(N):\n",
    "        if i==j :\n",
    "            w[i,j] = 0\n",
    "        elif np.abs(i-j) <= 1 : \n",
    "            w[i,j] = 1"
   ]
  },
  {
   "cell_type": "code",
   "execution_count": null,
   "id": "f3b887f0-a705-49bc-a0ee-7be7745f8f3f",
   "metadata": {},
   "outputs": [],
   "source": [
    "d = np.array(w.sum(axis=1))\n",
    "D = np.diag(d)\n",
    "L = np.array(np.diag(1/np.sqrt(d)) @ (D-w) @ np.diag(1/np.sqrt(d)))\n",
    "lamb, Psi = np.linalg.eigh(L)\n",
    "Lamb = np.diag(lamb)\n",
    "fhatbar = Psi @ fhat_linearinterpolation.reshape(N,728)\n",
    "power = fhatbar**2 \n",
    "ebayesthresh = importr('EbayesThresh').ebayesthresh\n",
    "power_threshed=np.array([np.array(ebayesthresh(FloatVector(fhatbar[i]**2))) for i in range(N)])    \n",
    "fhatbar_threshed = np.where(power_threshed>0,fhatbar,0)\n",
    "fhatbarhat = Psi @ fhatbar_threshed\n",
    "fhatbarhat_block_linearinterpolation_spatio = fhatbarhat.reshape(728,-1)"
   ]
  },
  {
   "cell_type": "code",
   "execution_count": null,
   "id": "8d69a874-d869-4c8d-a77c-12685ef84880",
   "metadata": {},
   "outputs": [],
   "source": [
    "plt.plot(fhatbarhat_block_linearinterpolation_spatio[5])"
   ]
  },
  {
   "cell_type": "markdown",
   "id": "2dede404-e20a-4116-9b35-90a41aa33207",
   "metadata": {
    "tags": []
   },
   "source": [
    "#### 2) Random missing values"
   ]
  },
  {
   "cell_type": "code",
   "execution_count": null,
   "id": "09163adf-165d-4e71-979b-6a714c385dfc",
   "metadata": {},
   "outputs": [],
   "source": [
    "d = np.array(w.sum(axis=1))\n",
    "D = np.diag(d)\n",
    "L = np.array(np.diag(1/np.sqrt(d)) @ (D-w) @ np.diag(1/np.sqrt(d)))\n",
    "lamb, Psi = np.linalg.eigh(L)\n",
    "Lamb = np.diag(lamb)\n",
    "fhatbar = Psi @ fhat_random_linearinterpolation.reshape(N,728)\n",
    "power = fhatbar**2 \n",
    "ebayesthresh = importr('EbayesThresh').ebayesthresh\n",
    "power_threshed=np.array([np.array(ebayesthresh(FloatVector(fhatbar[i]**2))) for i in range(N)])    \n",
    "fhatbar_threshed = np.where(power_threshed>0,fhatbar,0)\n",
    "fhatbarhat = Psi @ fhatbar_threshed\n",
    "fhatbarhat_random_linearinterpolation_spatio = fhatbarhat.reshape(728,-1)"
   ]
  },
  {
   "cell_type": "code",
   "execution_count": null,
   "id": "00c30869-5ef5-4a46-9e6e-c27007fd8eb0",
   "metadata": {},
   "outputs": [],
   "source": [
    "plt.plot(fhatbarhat_random_linearinterpolation_spatio[5])"
   ]
  },
  {
   "cell_type": "markdown",
   "id": "93d44e0b-830c-4ff7-b0a0-6efdceaf2bca",
   "metadata": {
    "tags": []
   },
   "source": [
    "#### 3) By 2"
   ]
  },
  {
   "cell_type": "code",
   "execution_count": null,
   "id": "6a1ab3c3-0e29-49c4-8e98-860951827fb4",
   "metadata": {},
   "outputs": [],
   "source": [
    "d = np.array(w.sum(axis=1))\n",
    "D = np.diag(d)\n",
    "L = np.array(np.diag(1/np.sqrt(d)) @ (D-w) @ np.diag(1/np.sqrt(d)))\n",
    "lamb, Psi = np.linalg.eigh(L)\n",
    "Lamb = np.diag(lamb)\n",
    "fhatbar = Psi @ fhat_two_linearinterpolation.reshape(N,728)\n",
    "power = fhatbar**2 \n",
    "ebayesthresh = importr('EbayesThresh').ebayesthresh\n",
    "power_threshed=np.array([np.array(ebayesthresh(FloatVector(fhatbar[i]**2))) for i in range(N)])    \n",
    "fhatbar_threshed = np.where(power_threshed>0,fhatbar,0)\n",
    "fhatbarhat = Psi @ fhatbar_threshed\n",
    "fhatbarhat_two_linearinterpolation_spatio = fhatbarhat.reshape(728,-1)"
   ]
  },
  {
   "cell_type": "code",
   "execution_count": null,
   "id": "464b2bb7-44ef-4281-8316-b5f453bf1345",
   "metadata": {},
   "outputs": [],
   "source": [
    "plt.plot(fhatbarhat_two_linearinterpolation_spatio[5])"
   ]
  },
  {
   "cell_type": "markdown",
   "id": "2b1d4ac9-58dc-4fd5-8c1a-155ebef63716",
   "metadata": {
    "tags": []
   },
   "source": [
    "### 3.2.3. Spatio-Temporal"
   ]
  },
  {
   "cell_type": "markdown",
   "id": "17c02a60-8539-4517-9b97-0430027375e3",
   "metadata": {},
   "source": [
    "#### 1) Block"
   ]
  },
  {
   "cell_type": "code",
   "execution_count": null,
   "id": "8bf2c767-0b63-474b-bbbe-746c21428cc8",
   "metadata": {},
   "outputs": [],
   "source": [
    "w=np.zeros((777504,777504))"
   ]
  },
  {
   "cell_type": "code",
   "execution_count": null,
   "id": "53a90da1-fcad-44e9-b3ef-df3896f80249",
   "metadata": {},
   "outputs": [],
   "source": [
    "for i in range(777504):\n",
    "    for j in range(777504):\n",
    "        if i==j :\n",
    "            w[i,j] = 0\n",
    "        elif np.abs(i-j) <= 1 : \n",
    "            w[i,j] = 1"
   ]
  },
  {
   "cell_type": "code",
   "execution_count": null,
   "id": "738d1b6b-290e-4860-9f73-956340e78227",
   "metadata": {},
   "outputs": [],
   "source": [
    "d = np.array(w.sum(axis=1))\n",
    "D = np.diag(d)\n",
    "L = np.array(np.diag(1/np.sqrt(d)) @ (D-w) @ np.diag(1/np.sqrt(d)))\n",
    "lamb, Psi = np.linalg.eigh(L)\n",
    "Lamb = np.diag(lamb)\n",
    "fhatbar = Psi @ fhat_linearinterpolation.reshape(777504,1)\n",
    "power = fhatbar**2 \n",
    "ebayesthresh = importr('EbayesThresh').ebayesthresh\n",
    "power_threshed=np.array([np.array(ebayesthresh(FloatVector(fhatbar[i]**2))) for i in range(777504)])\n",
    "fhatbar_threshed = np.where(power_threshed>0,fhatbar,0)\n",
    "fhatbarhat = Psi @ fhatbar_threshed\n",
    "fhat_block_linearinterpolation_spatio_temporal = fhatbarhat.reshape(728,N,1)"
   ]
  },
  {
   "cell_type": "code",
   "execution_count": null,
   "id": "52d30cd4-085f-404e-bacd-26380b7d9ae8",
   "metadata": {},
   "outputs": [],
   "source": [
    "plt.plot(fhat_block_linearinterpolation_spatio_temporal[5])"
   ]
  },
  {
   "cell_type": "markdown",
   "id": "a4d5b7fc-0731-464c-a38e-03c68d8ca03a",
   "metadata": {
    "tags": []
   },
   "source": [
    "#### 2) Random missing values"
   ]
  },
  {
   "cell_type": "code",
   "execution_count": null,
   "id": "2d0117e9-0768-4ef8-87cf-4d0007d59666",
   "metadata": {},
   "outputs": [],
   "source": [
    "d = np.array(w.sum(axis=1))\n",
    "D = np.diag(d)\n",
    "L = np.array(np.diag(1/np.sqrt(d)) @ (D-w) @ np.diag(1/np.sqrt(d)))\n",
    "lamb, Psi = np.linalg.eigh(L)\n",
    "Lamb = np.diag(lamb)\n",
    "fhatbar = Psi @ fhat_random_linearinterpolation.reshape(777504,1)\n",
    "power = fhatbar**2 \n",
    "ebayesthresh = importr('EbayesThresh').ebayesthresh\n",
    "power_threshed=np.array([np.array(ebayesthresh(FloatVector(fhatbar[i]**2))) for i in range(777504)])\n",
    "fhatbar_threshed = np.where(power_threshed>0,fhatbar,0)\n",
    "fhatbarhat = Psi @ fhatbar_threshed\n",
    "fhat_random_linearinterpolation_spatio_temporal = fhatbarhat.reshape(728,N,1)"
   ]
  },
  {
   "cell_type": "code",
   "execution_count": null,
   "id": "ae0e3943-dc87-4457-961d-42b952a34087",
   "metadata": {},
   "outputs": [],
   "source": [
    "plt.plot(fhat_random_linearinterpolation_spatio_temporal[5])"
   ]
  },
  {
   "cell_type": "markdown",
   "id": "54d4fea5-11f1-4071-9967-92b9e046b547",
   "metadata": {
    "tags": []
   },
   "source": [
    "#### 3) By 2"
   ]
  },
  {
   "cell_type": "code",
   "execution_count": null,
   "id": "0c74d5f6-5af7-484d-afea-618ff4fd656a",
   "metadata": {},
   "outputs": [],
   "source": [
    "d = np.array(w.sum(axis=1))\n",
    "D = np.diag(d)\n",
    "L = np.array(np.diag(1/np.sqrt(d)) @ (D-w) @ np.diag(1/np.sqrt(d)))\n",
    "lamb, Psi = np.linalg.eigh(L)\n",
    "Lamb = np.diag(lamb)\n",
    "fhatbar = Psi @ fhat_two_linearinterpolation.reshape(777504,1)\n",
    "power = fhatbar**2 \n",
    "ebayesthresh = importr('EbayesThresh').ebayesthresh\n",
    "power_threshed=np.array([np.array(ebayesthresh(FloatVector(fhatbar[i]**2))) for i in range(777504)])\n",
    "fhatbar_threshed = np.where(power_threshed>0,fhatbar,0)\n",
    "fhatbarhat = Psi @ fhatbar_threshed\n",
    "fhat_two_linearinterpolation_spatio_temporal = fhatbarhat.reshape(728,N,1)"
   ]
  },
  {
   "cell_type": "code",
   "execution_count": null,
   "id": "752d1650-1924-4130-8dbf-a8cd2d88cc75",
   "metadata": {},
   "outputs": [],
   "source": [
    "plt.plot(fhat_two_linearinterpolation_spatio_temporal[5])"
   ]
  },
  {
   "cell_type": "markdown",
   "id": "0e79341f-5ea1-429f-8a6e-4fb8244fc673",
   "metadata": {},
   "source": [
    "## 3.3. Normal distribution"
   ]
  },
  {
   "cell_type": "markdown",
   "id": "fe2e0617-00cc-4969-a044-b3f803bba6ee",
   "metadata": {},
   "source": [
    "### 3.3.1. Temporal"
   ]
  },
  {
   "cell_type": "markdown",
   "id": "2c032f95-60ea-4feb-b85c-5dfb0267cee1",
   "metadata": {},
   "source": [
    "#### 1) Block"
   ]
  },
  {
   "cell_type": "code",
   "execution_count": null,
   "id": "ca6b06e0-d4ae-4723-8410-844c0465f98d",
   "metadata": {},
   "outputs": [],
   "source": [
    "w=np.zeros((N,728,728))"
   ]
  },
  {
   "cell_type": "code",
   "execution_count": null,
   "id": "971bf7ef-ba9a-4036-bb60-25693175fd56",
   "metadata": {},
   "outputs": [],
   "source": [
    "for k in range(N):\n",
    "    for i in range(728):\n",
    "        for j in range(728):\n",
    "            if i==j :\n",
    "                w[k,i,j] = 0\n",
    "            elif np.abs(i-j) <= 1 : \n",
    "                w[k,i,j] = 1"
   ]
  },
  {
   "cell_type": "code",
   "execution_count": null,
   "id": "75e14970-ed2d-4b8d-88df-16d1c0d6b816",
   "metadata": {},
   "outputs": [],
   "source": [
    "d = np.array([w[i].sum(axis=1) for i in range(N)])\n",
    "D= np.array([np.diag(d[i]) for i in range(N)])\n",
    "L = np.array([np.diag(1/np.sqrt(d[i])) @ (D[i]-w[i]) @ np.diag(1/np.sqrt(d[i])) for i in range(N)])\n",
    "lamb, Psi  = np.linalg.eigh(L)[0],np.linalg.eigh(L)[1]\n",
    "Lamb = np.array([np.diag(lamb[i]) for i in range(N)])    \n",
    "fhatbar = np.hstack([Psi[i] @ fhat_xblock_normal[:,i] for i in range(N)])\n",
    "_fhatbar = fhatbar.reshape(N,728)\n",
    "power = _fhatbar**2 \n",
    "ebayesthresh = importr('EbayesThresh').ebayesthresh\n",
    "power_threshed=np.array([np.array(ebayesthresh(FloatVector(_fhatbar[i]**2))) for i in range(N)])\n",
    "fhatbar_threshed = np.where(power_threshed>0,_fhatbar,0)\n",
    "fhatbarhat = np.array([Psi[i] @ fhatbar_threshed[i] for i in range(N)])    \n",
    "fhatbarhat_block_normal_temporal = fhatbarhat.reshape(728,-1)"
   ]
  },
  {
   "cell_type": "code",
   "execution_count": null,
   "id": "3daae208-35bb-4e82-b0c1-1f52c5095924",
   "metadata": {},
   "outputs": [],
   "source": [
    "plt.plot(fhatbarhat_block_normal_temporal[5])"
   ]
  },
  {
   "cell_type": "markdown",
   "id": "550209df-9468-41f9-9be0-e8cca01f1a14",
   "metadata": {
    "tags": []
   },
   "source": [
    "#### 2) Random missing values"
   ]
  },
  {
   "cell_type": "code",
   "execution_count": null,
   "id": "343ef2a8-58f7-4403-bf32-27dcdd89fcc1",
   "metadata": {},
   "outputs": [],
   "source": [
    "d = np.array([w[i].sum(axis=1) for i in range(N)])\n",
    "D= np.array([np.diag(d[i]) for i in range(N)])\n",
    "L = np.array([np.diag(1/np.sqrt(d[i])) @ (D[i]-w[i]) @ np.diag(1/np.sqrt(d[i])) for i in range(N)])\n",
    "lamb, Psi  = np.linalg.eigh(L)[0],np.linalg.eigh(L)[1]\n",
    "Lamb = np.array([np.diag(lamb[i]) for i in range(N)])    \n",
    "fhatbar = np.hstack([Psi[i] @ fhat_xrandom_normal[:,i] for i in range(N)])\n",
    "_fhatbar = fhatbar.reshape(N,728)\n",
    "power = _fhatbar**2 \n",
    "ebayesthresh = importr('EbayesThresh').ebayesthresh\n",
    "power_threshed=np.array([np.array(ebayesthresh(FloatVector(_fhatbar[i]**2))) for i in range(N)])\n",
    "fhatbar_threshed = np.where(power_threshed>0,_fhatbar,0)\n",
    "fhatbarhat = np.array([Psi[i] @ fhatbar_threshed[i] for i in range(N)])    \n",
    "fhatbarhat_random_normal_temporal = fhatbarhat.reshape(728,-1)"
   ]
  },
  {
   "cell_type": "code",
   "execution_count": null,
   "id": "d282a245-cc96-4161-a4a1-c1e8b9d5f026",
   "metadata": {},
   "outputs": [],
   "source": [
    "plt.plot(fhatbarhat_block_normal_temporal[5])"
   ]
  },
  {
   "cell_type": "markdown",
   "id": "efa6d343-0573-46bb-9310-49d0352fd4c0",
   "metadata": {
    "tags": []
   },
   "source": [
    "#### 3) By 2"
   ]
  },
  {
   "cell_type": "code",
   "execution_count": null,
   "id": "091753c5-152b-4a80-9b3e-6db6298bea3a",
   "metadata": {},
   "outputs": [],
   "source": [
    "d = np.array([w[i].sum(axis=1) for i in range(N)])\n",
    "D= np.array([np.diag(d[i]) for i in range(N)])\n",
    "L = np.array([np.diag(1/np.sqrt(d[i])) @ (D[i]-w[i]) @ np.diag(1/np.sqrt(d[i])) for i in range(N)])\n",
    "lamb, Psi  = np.linalg.eigh(L)[0],np.linalg.eigh(L)[1]\n",
    "Lamb = np.array([np.diag(lamb[i]) for i in range(N)])    \n",
    "fhatbar = np.hstack([Psi[i] @ fhat_xtwo_normal[:,i] for i in range(N)])\n",
    "_fhatbar = fhatbar.reshape(N,728)\n",
    "power = _fhatbar**2 \n",
    "ebayesthresh = importr('EbayesThresh').ebayesthresh\n",
    "power_threshed=np.array([np.array(ebayesthresh(FloatVector(_fhatbar[i]**2))) for i in range(N)])\n",
    "fhatbar_threshed = np.where(power_threshed>0,_fhatbar,0)\n",
    "fhatbarhat = np.array([Psi[i] @ fhatbar_threshed[i] for i in range(N)])    \n",
    "fhatbarhat_two_normal_temporal = fhatbarhat.reshape(728,-1)"
   ]
  },
  {
   "cell_type": "code",
   "execution_count": null,
   "id": "74aa03cb-a895-4356-8ce9-b901c4680837",
   "metadata": {},
   "outputs": [],
   "source": [
    "plt.plot(fhatbarhat_two_normal_temporal[5])"
   ]
  },
  {
   "cell_type": "markdown",
   "id": "8284ee2f-0341-4a1f-96ad-5f0afe5ed588",
   "metadata": {},
   "source": [
    "### 3.3.2. Spatio"
   ]
  },
  {
   "cell_type": "markdown",
   "id": "60781ad6-f8ab-4f97-a8f7-57beed15a4a0",
   "metadata": {},
   "source": [
    "#### 1) Block"
   ]
  },
  {
   "cell_type": "code",
   "execution_count": null,
   "id": "ca98c7a9-f387-48b9-b1eb-71b809635d45",
   "metadata": {},
   "outputs": [],
   "source": [
    "w=np.zeros((N,N))"
   ]
  },
  {
   "cell_type": "code",
   "execution_count": null,
   "id": "19bde6d0-286d-420c-87ba-19b783b96b99",
   "metadata": {},
   "outputs": [],
   "source": [
    "for i in range(N):\n",
    "    for j in range(N):\n",
    "        if i==j :\n",
    "            w[i,j] = 0\n",
    "        elif np.abs(i-j) <= 1 : \n",
    "            w[i,j] = 1"
   ]
  },
  {
   "cell_type": "code",
   "execution_count": null,
   "id": "2d502226-29b0-4612-9525-032edb50c141",
   "metadata": {},
   "outputs": [],
   "source": [
    "d = np.array(w.sum(axis=1))\n",
    "D = np.diag(d)\n",
    "L = np.array(np.diag(1/np.sqrt(d)) @ (D-w) @ np.diag(1/np.sqrt(d)))\n",
    "lamb, Psi = np.linalg.eigh(L)\n",
    "Lamb = np.diag(lamb)\n",
    "fhatbar = Psi @ fhat_xblock_normal.reshape(N,728)\n",
    "power = fhatbar**2 \n",
    "ebayesthresh = importr('EbayesThresh').ebayesthresh\n",
    "power_threshed=np.array([np.array(ebayesthresh(FloatVector(fhatbar[i]**2))) for i in range(N)])\n",
    "fhatbar_threshed = np.where(power_threshed>0,fhatbar,0)\n",
    "fhatbarhat = Psi @ fhatbar_threshed\n",
    "fhatbarhat_block_normal_spatio = fhatbarhat.reshape(728,-1)"
   ]
  },
  {
   "cell_type": "code",
   "execution_count": null,
   "id": "ccf59a22-5f9a-4b39-8898-7b13bb0f85b9",
   "metadata": {},
   "outputs": [],
   "source": [
    "plt.plot(fhatbarhat_block_normal_spatio[5])"
   ]
  },
  {
   "cell_type": "markdown",
   "id": "9542588a-3825-489a-9f43-9a4deec52d69",
   "metadata": {
    "tags": []
   },
   "source": [
    "#### 2) Random missing values"
   ]
  },
  {
   "cell_type": "code",
   "execution_count": null,
   "id": "28cbaa75-5f94-4516-a412-a0072f245df2",
   "metadata": {},
   "outputs": [],
   "source": [
    "d = np.array(w.sum(axis=1))\n",
    "D = np.diag(d)\n",
    "L = np.array(np.diag(1/np.sqrt(d)) @ (D-w) @ np.diag(1/np.sqrt(d)))\n",
    "lamb, Psi = np.linalg.eigh(L)\n",
    "Lamb = np.diag(lamb)\n",
    "fhatbar = Psi @ fhat_xrandom_normal.reshape(N,728)\n",
    "power = fhatbar**2 \n",
    "ebayesthresh = importr('EbayesThresh').ebayesthresh\n",
    "power_threshed=np.array([np.array(ebayesthresh(FloatVector(fhatbar[i]**2))) for i in range(N)])\n",
    "fhatbar_threshed = np.where(power_threshed>0,fhatbar,0)\n",
    "fhatbarhat = Psi @ fhatbar_threshed\n",
    "fhatbarhat_random_normal_spatio = fhatbarhat.reshape(728,-1)"
   ]
  },
  {
   "cell_type": "code",
   "execution_count": null,
   "id": "da5d51d8-d09b-4856-8039-783ccfe925d3",
   "metadata": {},
   "outputs": [],
   "source": [
    "plt.plot(fhatbarhat_random_normal_spatio[5])"
   ]
  },
  {
   "cell_type": "markdown",
   "id": "47940698-3ce7-46c4-abdd-ce6a13587a1e",
   "metadata": {
    "tags": []
   },
   "source": [
    "#### 3) By 2"
   ]
  },
  {
   "cell_type": "code",
   "execution_count": null,
   "id": "13291fc3-51d0-4214-a84e-fb27aa3a6c64",
   "metadata": {},
   "outputs": [],
   "source": [
    "d = np.array(w.sum(axis=1))\n",
    "D = np.diag(d)\n",
    "L = np.array(np.diag(1/np.sqrt(d)) @ (D-w) @ np.diag(1/np.sqrt(d)))\n",
    "lamb, Psi = np.linalg.eigh(L)\n",
    "Lamb = np.diag(lamb)\n",
    "fhatbar = Psi @ fhat_xrandom_normal.reshape(N,728)\n",
    "power = fhatbar**2 \n",
    "ebayesthresh = importr('EbayesThresh').ebayesthresh\n",
    "power_threshed=np.array([np.array(ebayesthresh(FloatVector(fhatbar[i]**2))) for i in range(N)])\n",
    "fhatbar_threshed = np.where(power_threshed>0,fhatbar,0)\n",
    "fhatbarhat = Psi @ fhatbar_threshed\n",
    "fhatbarhat_random_normal_spatio = fhatbarhat.reshape(728,-1)"
   ]
  },
  {
   "cell_type": "code",
   "execution_count": null,
   "id": "50bc2f81-daf0-4924-a07e-9e02a59a7096",
   "metadata": {},
   "outputs": [],
   "source": [
    "plt.plot(fhatbarhat_random_normal_spatio[5])"
   ]
  },
  {
   "cell_type": "markdown",
   "id": "04a730d2-b325-4dbd-a990-c3bf4faae7b7",
   "metadata": {
    "tags": []
   },
   "source": [
    "### 3.3.3. Spatio-Temporal"
   ]
  },
  {
   "cell_type": "markdown",
   "id": "292a3e08-7f61-40a2-9991-2ad99a1139b1",
   "metadata": {},
   "source": [
    "#### 1) Block"
   ]
  },
  {
   "cell_type": "code",
   "execution_count": null,
   "id": "b5c6b590-8c34-4c3b-9332-f0cfe1146ae0",
   "metadata": {},
   "outputs": [],
   "source": [
    "w=np.zeros((777504,777504))"
   ]
  },
  {
   "cell_type": "code",
   "execution_count": null,
   "id": "c2ccf064-dc70-47c6-806f-da44b5910e58",
   "metadata": {},
   "outputs": [],
   "source": [
    "for i in range(777504):\n",
    "    for j in range(777504):\n",
    "        if i==j :\n",
    "            w[i,j] = 0\n",
    "        elif np.abs(i-j) <= 1 : \n",
    "            w[i,j] = 1"
   ]
  },
  {
   "cell_type": "code",
   "execution_count": null,
   "id": "23774ca2-2243-4dc3-9775-049fc281f889",
   "metadata": {},
   "outputs": [],
   "source": [
    "d = np.array(w.sum(axis=1))\n",
    "D = np.diag(d)\n",
    "L = np.array(np.diag(1/np.sqrt(d)) @ (D-w) @ np.diag(1/np.sqrt(d)))\n",
    "lamb, Psi = np.linalg.eigh(L)\n",
    "Lamb = np.diag(lamb)\n",
    "fhatbar = Psi @ fhat_xblock_normal.reshape(777504,1)\n",
    "power = fhatbar**2 \n",
    "ebayesthresh = importr('EbayesThresh').ebayesthresh\n",
    "power_threshed=np.array([np.array(ebayesthresh(FloatVector(fhatbar[i]**2))) for i in range(777504)])\n",
    "fhatbar_threshed = np.where(power_threshed>0,fhatbar,0)\n",
    "fhatbarhat = Psi @ fhatbar_threshed\n",
    "fhatbarhat_block_normal_spatio_temporal = fhatbarhat.reshape(777504,N,1)"
   ]
  },
  {
   "cell_type": "code",
   "execution_count": null,
   "id": "398a52ed-37c3-499b-9831-6bf8c3ae740c",
   "metadata": {},
   "outputs": [],
   "source": [
    "plt.plot(fhatbarhat_normal_spatio_temporal[5])"
   ]
  },
  {
   "cell_type": "markdown",
   "id": "5654415b-f677-4508-8b78-5ff53aa3f17f",
   "metadata": {
    "tags": []
   },
   "source": [
    "#### 2) Random missing values"
   ]
  },
  {
   "cell_type": "code",
   "execution_count": null,
   "id": "78324217-4292-47ac-93f5-d35593aedfc5",
   "metadata": {},
   "outputs": [],
   "source": [
    "d = np.array(w.sum(axis=1))\n",
    "D = np.diag(d)\n",
    "L = np.array(np.diag(1/np.sqrt(d)) @ (D-w) @ np.diag(1/np.sqrt(d)))\n",
    "lamb, Psi = np.linalg.eigh(L)\n",
    "Lamb = np.diag(lamb)\n",
    "fhatbar = Psi @ fhat_xrandom_normal.reshape(777504,1)\n",
    "power = fhatbar**2 \n",
    "ebayesthresh = importr('EbayesThresh').ebayesthresh\n",
    "power_threshed=np.array([np.array(ebayesthresh(FloatVector(fhatbar[i]**2))) for i in range(777504)])\n",
    "fhatbar_threshed = np.where(power_threshed>0,fhatbar,0)\n",
    "fhatbarhat = Psi @ fhatbar_threshed\n",
    "fhatbarhat_random_normal_spatio_temporal = fhatbarhat.reshape(777504,N,1)"
   ]
  },
  {
   "cell_type": "code",
   "execution_count": null,
   "id": "2a6386c9-9b75-4eb0-8c29-4fc6f91afcc3",
   "metadata": {},
   "outputs": [],
   "source": [
    "plt.plot(fhatbarhat_random_normal_spatio_temporal[5])"
   ]
  },
  {
   "cell_type": "markdown",
   "id": "9792f63a-32a3-4751-8db6-3e2f0f2b41d5",
   "metadata": {
    "tags": []
   },
   "source": [
    "#### 3) By 2"
   ]
  },
  {
   "cell_type": "code",
   "execution_count": null,
   "id": "7389464d-7e63-467b-8423-c1e7fb1ab80a",
   "metadata": {},
   "outputs": [],
   "source": [
    "d = np.array(w.sum(axis=1))\n",
    "D = np.diag(d)\n",
    "L = np.array(np.diag(1/np.sqrt(d)) @ (D-w) @ np.diag(1/np.sqrt(d)))\n",
    "lamb, Psi = np.linalg.eigh(L)\n",
    "Lamb = np.diag(lamb)\n",
    "fhatbar = Psi @ fhat_xtwo_normal.reshape(777504,1)\n",
    "power = fhatbar**2 \n",
    "ebayesthresh = importr('EbayesThresh').ebayesthresh\n",
    "power_threshed=np.array([np.array(ebayesthresh(FloatVector(fhatbar[i]**2))) for i in range(777504)])\n",
    "fhatbar_threshed = np.where(power_threshed>0,fhatbar,0)\n",
    "fhatbarhat = Psi @ fhatbar_threshed\n",
    "fhatbarhat_two_normal_spatio_temporal = fhatbarhat.reshape(777504,N,1)"
   ]
  },
  {
   "cell_type": "code",
   "execution_count": null,
   "id": "c741d93a-09c8-45a1-9a44-017fe56fd229",
   "metadata": {},
   "outputs": [],
   "source": [
    "plt.plot(fhatbarhat_two_normal_spatio_temporal[5])"
   ]
  },
  {
   "cell_type": "markdown",
   "id": "8d1a7dd2-17a3-4e56-8c62-8065ba78f7e0",
   "metadata": {},
   "source": [
    "# 4. 1로 돌아가서 반복 "
   ]
  },
  {
   "cell_type": "code",
   "execution_count": null,
   "id": "441407a9-156c-497f-b9ca-3ea257cf77da",
   "metadata": {
    "tags": []
   },
   "outputs": [],
   "source": []
  }
 ],
 "metadata": {
  "kernelspec": {
   "display_name": "Python 3 (ipykernel)",
   "language": "python",
   "name": "python3"
  },
  "language_info": {
   "codemirror_mode": {
    "name": "ipython",
    "version": 3
   },
   "file_extension": ".py",
   "mimetype": "text/x-python",
   "name": "python",
   "nbconvert_exporter": "python",
   "pygments_lexer": "ipython3",
   "version": "3.8.12"
  }
 },
 "nbformat": 4,
 "nbformat_minor": 5
}

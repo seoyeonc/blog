{
 "cells": [
  {
   "cell_type": "raw",
   "id": "687798dd-c373-49b0-a4c2-b5c9d14dbedc",
   "metadata": {
    "id": "cac470df-29e7-4148-9bbd-d8b9a32fa570",
    "tags": []
   },
   "source": [
    "---\n",
    "title: \"Simulation Tables_reshape\"\n",
    "author: \"SEOYEON CHOI\"\n",
    "date: \"2023-05-17\"\n",
    "categories:\n",
    "  - ITSTGCN\n",
    "---"
   ]
  },
  {
   "cell_type": "markdown",
   "id": "2c57a9de-08c3-4218-82e2-234876739bb1",
   "metadata": {
    "tags": []
   },
   "source": [
    "> Simulation Tables"
   ]
  },
  {
   "cell_type": "markdown",
   "id": "ffec7c69-7d8a-460a-b98f-6e31fef545e1",
   "metadata": {},
   "source": [
    "# import"
   ]
  },
  {
   "cell_type": "code",
   "execution_count": null,
   "id": "2b94623d-9fcc-475e-888b-fab04f70cb53",
   "metadata": {},
   "outputs": [],
   "source": [
    "import pandas as pd"
   ]
  },
  {
   "cell_type": "code",
   "execution_count": null,
   "id": "0b711bcf-b2e4-4502-a6ad-a1313f7560fc",
   "metadata": {},
   "outputs": [],
   "source": [
    "data_pedal = pd.read_csv('./simulation_results/Real_simulation_reshape/pedalme_Simulation.csv')"
   ]
  },
  {
   "cell_type": "code",
   "execution_count": null,
   "id": "bb0a52c3-a3ea-4d2d-9da3-e607195c9066",
   "metadata": {},
   "outputs": [],
   "source": [
    "data__wiki = pd.read_csv('./simulation_results/Real_simulation_reshape/wikimath.csv')"
   ]
  },
  {
   "cell_type": "code",
   "execution_count": null,
   "id": "6fe62078-eeb6-419c-a91e-cca745e7877b",
   "metadata": {},
   "outputs": [],
   "source": [
    "data = pd.concat([data_pedal,data__wiki]);data"
   ]
  },
  {
   "cell_type": "markdown",
   "id": "938a1646-d52d-48c5-bd19-27cb7593b9f8",
   "metadata": {
    "tags": []
   },
   "source": [
    "# Fivenodes"
   ]
  },
  {
   "cell_type": "markdown",
   "id": "2cd2994e-1510-4cdf-b07a-8d0d50d55b38",
   "metadata": {},
   "source": [
    "## Baseline"
   ]
  },
  {
   "cell_type": "code",
   "execution_count": null,
   "id": "59ddafa9-970a-41eb-9185-d3f098e97905",
   "metadata": {},
   "outputs": [],
   "source": [
    "data.query(\"dataset=='fivenodes' and mtype!='block'\")['mrate'].unique()"
   ]
  },
  {
   "cell_type": "code",
   "execution_count": null,
   "id": "c05ba1a0-f8dd-4046-8331-8945a16c0a0b",
   "metadata": {},
   "outputs": [],
   "source": [
    "pd.merge(data.query(\"dataset=='fivenodes' and mtype!='rand' and mtype!='block'\").groupby(['nof_filters','method','lags'])['mse'].mean().reset_index(),\n",
    "         data.query(\"dataset=='fivenodes' and mtype!='rand' and mtype!='block'\").groupby(['nof_filters','method','lags'])['mse'].std().reset_index(),\n",
    "         on=['method','nof_filters','lags']).rename(columns={'mse_x':'mean','mse_y':'std'}).round(3)"
   ]
  },
  {
   "cell_type": "code",
   "execution_count": null,
   "id": "063f96d6-15db-41d0-b511-ac9c063ae9c5",
   "metadata": {},
   "outputs": [],
   "source": [
    "pd.merge(data.query(\"dataset=='fivenodes' and mtype!='rand' and mtype!='block'\").groupby(['nof_filters','lags'])['mse'].mean().reset_index(),\n",
    "         data.query(\"dataset=='fivenodes' and mtype!='rand' and mtype!='block'\").groupby(['nof_filters','lags'])['mse'].std().reset_index(),\n",
    "         on=['nof_filters','lags']).rename(columns={'mse_x':'mean','mse_y':'std'}).round(3)"
   ]
  },
  {
   "cell_type": "code",
   "execution_count": null,
   "id": "f1e27cdd-298c-4d22-92f0-3fd21d843c85",
   "metadata": {},
   "outputs": [],
   "source": [
    "pd.merge(data_DCRNN_fivenodes.query(\"dataset=='fivenodes' and mtype!='rand' and mtype!='block'\").groupby(['nof_filters','lags'])['mse'].mean().reset_index(),\n",
    "         data_DCRNN_fivenodes.query(\"dataset=='fivenodes' and mtype!='rand' and mtype!='block'\").groupby(['nof_filters','lags'])['mse'].std().reset_index(),\n",
    "         on=['nof_filters','lags']).rename(columns={'mse_x':'mean','mse_y':'std'}).round(3)"
   ]
  },
  {
   "cell_type": "markdown",
   "id": "753413f0-1b30-4efe-98b6-9149ea65975e",
   "metadata": {},
   "source": [
    "## Random"
   ]
  },
  {
   "cell_type": "code",
   "execution_count": null,
   "id": "7d30a1da-e640-4d8a-a55b-05d7b3b77b59",
   "metadata": {},
   "outputs": [],
   "source": [
    "data.query(\"dataset=='fivenodes' and mtype=='rand'and method=='GNAR'\")['mse'].unique().round(3)"
   ]
  },
  {
   "cell_type": "code",
   "execution_count": null,
   "id": "8eaefdd1-eabe-4452-97e9-2c79d3e510fa",
   "metadata": {},
   "outputs": [],
   "source": [
    "pd.merge(data.query(\"dataset=='fivenodes' and mtype=='rand'\").groupby(['mrate','nof_filters','method','lags'])['mse'].mean().reset_index(),\n",
    "         data.query(\"dataset=='fivenodes' and mtype=='rand'\").groupby(['mrate','nof_filters','method','lags'])['mse'].std().reset_index(),\n",
    "         on=['method','nof_filters','mrate','lags']).rename(columns={'mse_x':'mean','mse_y':'std'}).round(3).query(\"nof_filters==12\")"
   ]
  },
  {
   "cell_type": "code",
   "execution_count": null,
   "id": "41d0c033-9017-457e-b679-b034e32d68fd",
   "metadata": {},
   "outputs": [],
   "source": [
    "pd.merge(data.query(\"dataset=='fivenodes' and mtype=='rand'\").groupby(['mrate','nof_filters','method','lags'])['mse'].mean().reset_index(),\n",
    "         data.query(\"dataset=='fivenodes' and mtype=='rand'\").groupby(['mrate','nof_filters','method','lags'])['mse'].std().reset_index(),\n",
    "         on=['method','nof_filters','mrate','lags']).rename(columns={'mse_x':'mean','mse_y':'std'}).round(3).query(\"nof_filters!=12\")"
   ]
  },
  {
   "cell_type": "code",
   "execution_count": null,
   "id": "a7277188-204b-488b-b7ea-d5d4454bd633",
   "metadata": {},
   "outputs": [],
   "source": [
    "pd.merge(data_DCRNN_fivenodes.query(\"dataset=='fivenodes' and mtype=='rand'\").groupby(['mrate','nof_filters','method','lags'])['mse'].mean().reset_index(),\n",
    "         data_DCRNN_fivenodes.query(\"dataset=='fivenodes' and mtype=='rand'\").groupby(['mrate','nof_filters','method','lags'])['mse'].std().reset_index(),\n",
    "         on=['method','nof_filters','mrate','lags']).rename(columns={'mse_x':'mean','mse_y':'std'}).round(3).query(\"nof_filters!=12 and mrate!=0.3\")"
   ]
  },
  {
   "cell_type": "markdown",
   "id": "71261a14-74a1-4050-b063-91a46c649010",
   "metadata": {},
   "source": [
    "## Block"
   ]
  },
  {
   "cell_type": "code",
   "execution_count": null,
   "id": "d16631fc-8a4a-4dda-ae4c-d5e95c1030c7",
   "metadata": {},
   "outputs": [],
   "source": [
    "data.query(\"dataset=='fivenodes' and mtype=='block'and method=='GNAR'\")['mse'].unique().round(3)"
   ]
  },
  {
   "cell_type": "code",
   "execution_count": null,
   "id": "00a4f249-358f-455b-a1b2-1e1940cadc06",
   "metadata": {},
   "outputs": [],
   "source": [
    "data.query(\"dataset=='fivenodes' and mtype=='block'\")"
   ]
  },
  {
   "cell_type": "code",
   "execution_count": null,
   "id": "6f2c31a3-2d9c-487c-a43e-9c49657f2586",
   "metadata": {},
   "outputs": [],
   "source": [
    "pd.merge(data.query(\"dataset=='fivenodes' and mtype=='block'\").groupby(['mrate','nof_filters','method'])['mse'].mean().reset_index(),\n",
    "         data.query(\"dataset=='fivenodes' and mtype=='block'\").groupby(['mrate','nof_filters','method'])['mse'].std().reset_index(),\n",
    "         on=['method','nof_filters','mrate']).rename(columns={'mse_x':'mean','mse_y':'std'}).round(3)"
   ]
  },
  {
   "cell_type": "markdown",
   "id": "bc4e6db6-db4c-4258-8ce0-23130c192ebc",
   "metadata": {},
   "source": [
    "---"
   ]
  },
  {
   "cell_type": "markdown",
   "id": "cec42213-bea9-4ab2-bc35-8cc025741ec9",
   "metadata": {},
   "source": [
    "epoch 별 보기"
   ]
  },
  {
   "cell_type": "code",
   "execution_count": null,
   "id": "cb5b28f0-490c-44b4-8c22-35d48885af53",
   "metadata": {},
   "outputs": [],
   "source": [
    "df1 = pd.read_csv('./simulation_results/fivenodes/fivenodes_STGCN_ITSTGCN_random_epoch50.csv')\n",
    "df2 = pd.read_csv('./simulation_results/fivenodes/fivenodes_STGCN_ITSTGCN_random_epoch100.csv')\n",
    "df3 = pd.read_csv('./simulation_results/fivenodes/fivenodes_STGCN_ITSTGCN_random_epoch150.csv')\n",
    "df4 = pd.read_csv('./simulation_results/fivenodes/fivenodes_STGCN_ITSTGCN_random_epoch200.csv')"
   ]
  },
  {
   "cell_type": "code",
   "execution_count": null,
   "id": "27916ec1-5efa-49ff-93e7-b6e659c26ddc",
   "metadata": {},
   "outputs": [],
   "source": [
    "df_gnar = pd.read_csv('./simulation_results/fivenodes/fivenodes_GNAR_random.csv')"
   ]
  },
  {
   "cell_type": "code",
   "execution_count": null,
   "id": "76e139cf-8ad7-401c-9ad9-3e991c928e40",
   "metadata": {},
   "outputs": [],
   "source": [
    "data_temp = pd.concat([df1,df2,df3,df4,df_gnar],axis=0)"
   ]
  },
  {
   "cell_type": "markdown",
   "id": "22038b1b-7d39-4a0e-86c4-321948e1125d",
   "metadata": {},
   "source": [
    "STGCN은 nearest에서 mse가 낮았다."
   ]
  },
  {
   "cell_type": "code",
   "execution_count": null,
   "id": "ae79b539-e94d-4524-a64b-da8f9c126564",
   "metadata": {},
   "outputs": [],
   "source": [
    "data_temp.query(\"method=='STGCN' and mtype=='rand' and mrate==0.8 and lags==2 and inter_method=='linear' and nof_filters==4\").\\\n",
    "groupby(['method','epoch','mrate','lags','nof_filters','inter_method'])['mse'].mean().reset_index()['mse'].mean()"
   ]
  },
  {
   "cell_type": "code",
   "execution_count": null,
   "id": "0002cc83-b2af-4ee6-8c4e-6543d694fe18",
   "metadata": {},
   "outputs": [],
   "source": [
    "data_temp.query(\"method=='STGCN' and mtype=='rand' and mrate==0.8 and lags==2 and inter_method=='linear' and nof_filters==4\").\\\n",
    "groupby(['method','epoch','mrate','lags','nof_filters','inter_method'])['mse'].mean().reset_index()['mse'].std()"
   ]
  },
  {
   "cell_type": "code",
   "execution_count": null,
   "id": "35bb9671-5a45-493b-b7f9-caf03507d588",
   "metadata": {},
   "outputs": [],
   "source": [
    "data_temp.query(\"method=='IT-STGCN' and mtype=='rand' and mrate==0.8 and lags==2 and inter_method=='linear' and nof_filters==4\").\\\n",
    "groupby(['method','epoch','mrate','lags','nof_filters','inter_method'])['mse'].mean().reset_index()['mse'].mean()"
   ]
  },
  {
   "cell_type": "code",
   "execution_count": null,
   "id": "2c06c2ca-3d9c-42ea-baa0-fe5768d153cb",
   "metadata": {},
   "outputs": [],
   "source": [
    "data_temp.query(\"method=='IT-STGCN' and mtype=='rand' and mrate==0.8 and lags==2 and inter_method=='linear' and nof_filters==4\").\\\n",
    "groupby(['method','epoch','mrate','lags','nof_filters','inter_method'])['mse'].mean().reset_index()['mse'].std()"
   ]
  },
  {
   "cell_type": "markdown",
   "id": "4c94ed76-1825-417a-8c8f-0020ce464dcc",
   "metadata": {},
   "source": [
    "# ChickenpoxDatasetLoader(lags=4)"
   ]
  },
  {
   "cell_type": "markdown",
   "id": "bd047f57-044e-48b3-a1be-9be472c7ee83",
   "metadata": {},
   "source": [
    "## Baseline"
   ]
  },
  {
   "cell_type": "code",
   "execution_count": null,
   "id": "bb9e8543-d7f7-4024-b5dd-38309dcbcedf",
   "metadata": {},
   "outputs": [],
   "source": [
    "pd.merge(data.query(\"dataset=='chickenpox' and mtype!='rand' and mtype!='block'\").groupby(['nof_filters','method'])['mse'].mean().reset_index(),\n",
    "         data.query(\"dataset=='chickenpox' and mtype!='rand' and mtype!='block'\").groupby(['nof_filters','method'])['mse'].std().reset_index(),\n",
    "         on=['method','nof_filters']).rename(columns={'mse_x':'mean','mse_y':'std'}).round(3).query(\"nof_filters==16\")"
   ]
  },
  {
   "cell_type": "code",
   "execution_count": null,
   "id": "657fa4f6-0fac-44c9-b474-86c8928e5124",
   "metadata": {},
   "outputs": [],
   "source": [
    "pd.merge(data_DCRNN_chickenpox.query(\"dataset=='chickenpox' and mtype!='rand' and mtype!='block'\").groupby(['nof_filters','method'])['mse'].mean().reset_index(),\n",
    "         data_DCRNN_chickenpox.query(\"dataset=='chickenpox' and mtype!='rand' and mtype!='block'\").groupby(['nof_filters','method'])['mse'].std().reset_index(),\n",
    "         on=['method','nof_filters']).rename(columns={'mse_x':'mean','mse_y':'std'}).round(3).query(\"nof_filters==16\")"
   ]
  },
  {
   "cell_type": "markdown",
   "id": "9f9ccd59-7b8b-441c-94da-36153f45fbc2",
   "metadata": {},
   "source": [
    "## Random"
   ]
  },
  {
   "cell_type": "code",
   "execution_count": null,
   "id": "f2e37331-65ce-4e6e-8d98-bd5bc5416170",
   "metadata": {},
   "outputs": [],
   "source": [
    "data.query(\"dataset=='chickenpox' and mtype=='rand'and method=='GNAR'\")['mse'].unique().round(3)"
   ]
  },
  {
   "cell_type": "code",
   "execution_count": null,
   "id": "c57cc44c-dce2-436d-8d3e-2527ecfc2556",
   "metadata": {},
   "outputs": [],
   "source": [
    "pd.merge(data.query(\"dataset=='chickenpox' and mtype=='rand'\").groupby(['mrate','inter_method','nof_filters','method'])['mse'].mean().reset_index(),\n",
    "         data.query(\"dataset=='chickenpox' and mtype=='rand'\").groupby(['mrate','inter_method','nof_filters','method'])['mse'].std().reset_index(),\n",
    "         on=['method','inter_method','mrate','nof_filters']).rename(columns={'mse_x':'mean','mse_y':'std'}).round(3).query(\"mrate==0.3 and nof_filters==16\")"
   ]
  },
  {
   "cell_type": "code",
   "execution_count": null,
   "id": "c76c54fd-77e9-4cf8-b8cf-c1f03c6721ec",
   "metadata": {},
   "outputs": [],
   "source": [
    "pd.merge(data_DCRNN_chickenpox.query(\"dataset=='chickenpox' and mtype=='rand'\").groupby(['mrate','inter_method','nof_filters','method'])['mse'].mean().reset_index(),\n",
    "         data_DCRNN_chickenpox.query(\"dataset=='chickenpox' and mtype=='rand'\").groupby(['mrate','inter_method','nof_filters','method'])['mse'].std().reset_index(),\n",
    "         on=['method','inter_method','mrate','nof_filters']).rename(columns={'mse_x':'mean','mse_y':'std'}).round(3).query(\"mrate==0.3 and nof_filters==16\")"
   ]
  },
  {
   "cell_type": "code",
   "execution_count": null,
   "id": "79ead329-f6a5-42ab-8a2f-36150b7a0a6b",
   "metadata": {},
   "outputs": [],
   "source": [
    "pd.merge(data_DCRNN_chickenpox.query(\"dataset=='chickenpox' and mtype=='rand'\").groupby(['mrate','inter_method','nof_filters','method'])['mse'].mean().reset_index(),\n",
    "         data_DCRNN_chickenpox.query(\"dataset=='chickenpox' and mtype=='rand'\").groupby(['mrate','inter_method','nof_filters','method'])['mse'].std().reset_index(),\n",
    "         on=['method','inter_method','mrate','nof_filters']).rename(columns={'mse_x':'mean','mse_y':'std'}).round(3).query(\"mrate==0.4 and nof_filters==16\")"
   ]
  },
  {
   "cell_type": "code",
   "execution_count": null,
   "id": "c53ba83c-def8-45e6-b967-461c9e373f86",
   "metadata": {},
   "outputs": [],
   "source": [
    "pd.merge(data.query(\"dataset=='chickenpox' and mtype=='rand'\").groupby(['mrate','inter_method','nof_filters','method'])['mse'].mean().reset_index(),\n",
    "         data.query(\"dataset=='chickenpox' and mtype=='rand'\").groupby(['mrate','inter_method','nof_filters','method'])['mse'].std().reset_index(),\n",
    "         on=['method','inter_method','mrate','nof_filters']).rename(columns={'mse_x':'mean','mse_y':'std'}).round(3).query(\"mrate==0.4 and nof_filters==16\")"
   ]
  },
  {
   "cell_type": "code",
   "execution_count": null,
   "id": "2b9c1896-ef6d-4e90-92a8-afc4175d609d",
   "metadata": {},
   "outputs": [],
   "source": [
    "pd.merge(data.query(\"dataset=='chickenpox' and mtype=='rand'\").groupby(['mrate','inter_method','nof_filters','method'])['mse'].mean().reset_index(),\n",
    "         data.query(\"dataset=='chickenpox' and mtype=='rand'\").groupby(['mrate','inter_method','nof_filters','method'])['mse'].std().reset_index(),\n",
    "         on=['method','inter_method','mrate','nof_filters']).rename(columns={'mse_x':'mean','mse_y':'std'}).round(3).query(\"mrate==0.5 and nof_filters==16\")"
   ]
  },
  {
   "cell_type": "code",
   "execution_count": null,
   "id": "5fefa38d-faff-414a-b41c-fd263bf8958f",
   "metadata": {},
   "outputs": [],
   "source": [
    "pd.merge(data_DCRNN_chickenpox.query(\"dataset=='chickenpox' and mtype=='rand'\").groupby(['mrate','inter_method','nof_filters','method'])['mse'].mean().reset_index(),\n",
    "         data_DCRNN_chickenpox.query(\"dataset=='chickenpox' and mtype=='rand'\").groupby(['mrate','inter_method','nof_filters','method'])['mse'].std().reset_index(),\n",
    "         on=['method','inter_method','mrate','nof_filters']).rename(columns={'mse_x':'mean','mse_y':'std'}).round(3).query(\"mrate==0.5 and nof_filters==16\")"
   ]
  },
  {
   "cell_type": "code",
   "execution_count": null,
   "id": "d8e9b8b0-7312-4772-bdb8-fa1aca25ddbb",
   "metadata": {},
   "outputs": [],
   "source": [
    "pd.merge(data.query(\"dataset=='chickenpox' and mtype=='rand'\").groupby(['mrate','inter_method','nof_filters','method'])['mse'].mean().reset_index(),\n",
    "         data.query(\"dataset=='chickenpox' and mtype=='rand'\").groupby(['mrate','inter_method','nof_filters','method'])['mse'].std().reset_index(),\n",
    "         on=['method','inter_method','mrate','nof_filters']).rename(columns={'mse_x':'mean','mse_y':'std'}).round(3).query(\"mrate==0.8 and nof_filters==16\")"
   ]
  },
  {
   "cell_type": "code",
   "execution_count": null,
   "id": "65f60453-fc86-4d0d-b1b9-a181abc81980",
   "metadata": {},
   "outputs": [],
   "source": [
    "pd.merge(data_DCRNN_chickenpox.query(\"dataset=='chickenpox' and mtype=='rand'\").groupby(['mrate','inter_method','nof_filters','method'])['mse'].mean().reset_index(),\n",
    "         data_DCRNN_chickenpox.query(\"dataset=='chickenpox' and mtype=='rand'\").groupby(['mrate','inter_method','nof_filters','method'])['mse'].std().reset_index(),\n",
    "         on=['method','inter_method','mrate','nof_filters']).rename(columns={'mse_x':'mean','mse_y':'std'}).round(3).query(\"mrate==0.8 and nof_filters==16\")"
   ]
  },
  {
   "cell_type": "code",
   "execution_count": null,
   "id": "d3f3c235-8306-469e-8ea3-b1c33bb1be25",
   "metadata": {},
   "outputs": [],
   "source": [
    "pd.merge(data.query(\"dataset=='chickenpox' and mtype=='rand'\").groupby(['mrate','inter_method','nof_filters','method'])['mse'].mean().reset_index(),\n",
    "         data.query(\"dataset=='chickenpox' and mtype=='rand'\").groupby(['mrate','inter_method','nof_filters','method'])['mse'].std().reset_index(),\n",
    "         on=['method','inter_method','mrate','nof_filters']).rename(columns={'mse_x':'mean','mse_y':'std'}).round(3).query(\"mrate==0.9 and nof_filters==16\")"
   ]
  },
  {
   "cell_type": "code",
   "execution_count": null,
   "id": "9d4d88d3-1975-4b36-af5d-020e41555382",
   "metadata": {},
   "outputs": [],
   "source": [
    "pd.merge(data_DCRNN_chickenpox.query(\"dataset=='chickenpox' and mtype=='rand'\").groupby(['mrate','inter_method','nof_filters','method'])['mse'].mean().reset_index(),\n",
    "         data_DCRNN_chickenpox.query(\"dataset=='chickenpox' and mtype=='rand'\").groupby(['mrate','inter_method','nof_filters','method'])['mse'].std().reset_index(),\n",
    "         on=['method','inter_method','mrate','nof_filters']).rename(columns={'mse_x':'mean','mse_y':'std'}).round(3).query(\"mrate==0.9 and nof_filters==16\")"
   ]
  },
  {
   "cell_type": "markdown",
   "id": "1b80894b-356c-4627-92c9-7b8bf3b19a04",
   "metadata": {},
   "source": [
    "## Block"
   ]
  },
  {
   "cell_type": "code",
   "execution_count": null,
   "id": "949ab473-53dd-4cc2-9831-a8806368a7e8",
   "metadata": {},
   "outputs": [],
   "source": [
    "data.query(\"dataset=='chickenpox' and mtype=='block'and method=='GNAR'\")['mse'].unique()"
   ]
  },
  {
   "cell_type": "code",
   "execution_count": null,
   "id": "4f347949-8d0a-4074-aa3c-1c73e94c1c34",
   "metadata": {},
   "outputs": [],
   "source": [
    "pd.merge(data.query(\"dataset=='chickenpox' and mtype=='block'\").groupby(['inter_method','mrate','nof_filters','method'])['mse'].mean().reset_index(),\n",
    "         data.query(\"dataset=='chickenpox' and mtype=='block'\").groupby(['inter_method','mrate','nof_filters','method'])['mse'].std().reset_index(),\n",
    "         on=['method','inter_method','mrate','nof_filters']).rename(columns={'mse_x':'mean','mse_y':'std'}).round(3).query(\"nof_filters==16\")"
   ]
  },
  {
   "cell_type": "markdown",
   "id": "33dfc1e5-ec10-4b12-b561-71bc36edfcbe",
   "metadata": {},
   "source": [
    "# PedalMeDatasetLoader (lags=4)"
   ]
  },
  {
   "cell_type": "markdown",
   "id": "0286bfba-94aa-40d6-b478-42e405564961",
   "metadata": {},
   "source": [
    "## Baseline"
   ]
  },
  {
   "cell_type": "code",
   "execution_count": null,
   "id": "a300e109-1780-49c1-a4e7-c2e97f89f62d",
   "metadata": {},
   "outputs": [],
   "source": [
    "pd.merge(data.query(\"dataset=='pedalme' and mtype!='rand' and mtype!='block'\").groupby(['RecurrentGCN','lags','nof_filters','method'])['mse'].mean().reset_index(),\n",
    "         data.query(\"dataset=='pedalme' and mtype!='rand' and mtype!='block'\").groupby(['RecurrentGCN','lags','nof_filters','method'])['mse'].std().reset_index(),\n",
    "         on=['RecurrentGCN','method','lags','nof_filters']).rename(columns={'mse_x':'mean','mse_y':'std'}).round(3).query(\"lags==4\")"
   ]
  },
  {
   "cell_type": "markdown",
   "id": "c15ae2f3-11d9-4dad-9c52-0a73612f0237",
   "metadata": {},
   "source": [
    "## Random"
   ]
  },
  {
   "cell_type": "code",
   "execution_count": null,
   "id": "4d2b77ef-5564-4992-8169-b5ed790d199e",
   "metadata": {},
   "outputs": [],
   "source": [
    "pd.merge(data.query(\"dataset=='pedalme' and mtype=='rand'\").groupby(['RecurrentGCN','mrate','lags','inter_method','method'])['mse'].mean().reset_index(),\n",
    "         data.query(\"dataset=='pedalme' and mtype=='rand'\").groupby(['RecurrentGCN','mrate','lags','inter_method','method'])['mse'].std().reset_index(),\n",
    "         on=['RecurrentGCN','method','mrate','lags','inter_method']).rename(columns={'mse_x':'mean','mse_y':'std'}).round(3).query(\"mrate==0.3 and lags==4\")"
   ]
  },
  {
   "cell_type": "code",
   "execution_count": null,
   "id": "15a3c5eb-4576-4439-b946-27f3699fe62c",
   "metadata": {},
   "outputs": [],
   "source": [
    "pd.merge(data.query(\"dataset=='pedalme' and mtype=='rand'\").groupby(['RecurrentGCN','mrate','lags','inter_method','method'])['mse'].mean().reset_index(),\n",
    "         data.query(\"dataset=='pedalme' and mtype=='rand'\").groupby(['RecurrentGCN','mrate','lags','inter_method','method'])['mse'].std().reset_index(),\n",
    "         on=['RecurrentGCN','method','mrate','lags','inter_method']).rename(columns={'mse_x':'mean','mse_y':'std'}).round(3).query(\"mrate==0.4 and lags==4\")"
   ]
  },
  {
   "cell_type": "code",
   "execution_count": null,
   "id": "d3b4179f-e7a4-48b5-a955-f580e8a99606",
   "metadata": {},
   "outputs": [],
   "source": [
    "pd.merge(data.query(\"dataset=='pedalme' and mtype=='rand'\").groupby(['RecurrentGCN','mrate','lags','inter_method','method'])['mse'].mean().reset_index(),\n",
    "         data.query(\"dataset=='pedalme' and mtype=='rand'\").groupby(['RecurrentGCN','mrate','lags','inter_method','method'])['mse'].std().reset_index(),\n",
    "         on=['RecurrentGCN','method','mrate','lags','inter_method']).rename(columns={'mse_x':'mean','mse_y':'std'}).round(3).query(\"mrate==0.5 and lags==4\")"
   ]
  },
  {
   "cell_type": "code",
   "execution_count": null,
   "id": "25b5ea84-fca1-428f-9329-992252606ce0",
   "metadata": {},
   "outputs": [],
   "source": [
    "pd.merge(data.query(\"dataset=='pedalme' and mtype=='rand'\").groupby(['RecurrentGCN','mrate','lags','inter_method','method'])['mse'].mean().reset_index(),\n",
    "         data.query(\"dataset=='pedalme' and mtype=='rand'\").groupby(['RecurrentGCN','mrate','lags','inter_method','method'])['mse'].std().reset_index(),\n",
    "         on=['RecurrentGCN','method','mrate','lags','inter_method']).rename(columns={'mse_x':'mean','mse_y':'std'}).round(3).query(\"mrate==0.6 and lags==4\")"
   ]
  },
  {
   "cell_type": "markdown",
   "id": "b1727f15-8934-4ec0-a5df-fb2ecaffee60",
   "metadata": {},
   "source": [
    "## Block"
   ]
  },
  {
   "cell_type": "code",
   "execution_count": null,
   "id": "577831cf-8f43-4096-b889-ed611aff3fcf",
   "metadata": {},
   "outputs": [],
   "source": [
    "pd.merge(data.query(\"dataset=='pedalme' and mtype=='block'\").groupby(['mrate','lags','inter_method','method'])['mse'].mean().reset_index(),\n",
    "         data.query(\"dataset=='pedalme' and mtype=='block'\").groupby(['mrate','lags','inter_method','method'])['mse'].std().reset_index(),\n",
    "         on=['method','mrate','lags','inter_method']).rename(columns={'mse_x':'mean','mse_y':'std'}).round(3).query(\"lags==4\")"
   ]
  },
  {
   "cell_type": "markdown",
   "id": "ca2703e3-4ca5-43fa-ace5-fd0986e0e90b",
   "metadata": {},
   "source": [
    "## W_st"
   ]
  },
  {
   "cell_type": "code",
   "execution_count": null,
   "id": "66dde198-2c7b-4f9b-b7e0-f21b7c88d260",
   "metadata": {},
   "outputs": [],
   "source": [
    "data_pedalme_wst = pd.read_csv('./simulation_results/Real_simulation/pedalme_Simulation_itstgcnsnd.csv')"
   ]
  },
  {
   "cell_type": "code",
   "execution_count": null,
   "id": "38fdfe4b-2a42-42a2-9f8b-0261a07b090c",
   "metadata": {},
   "outputs": [],
   "source": [
    "pd.merge(data_pedalme_wst.query(\"mtype=='rand'\").groupby(['mrate','lags','inter_method','method'])['mse'].mean().reset_index(),\n",
    "         data_pedalme_wst.query(\"mtype=='rand'\").groupby(['mrate','lags','inter_method','method'])['mse'].std().reset_index(),\n",
    "         on=['method','mrate','lags','inter_method']).rename(columns={'mse_x':'mean','mse_y':'std'}).round(3).query(\"lags==4\")"
   ]
  },
  {
   "cell_type": "code",
   "execution_count": null,
   "id": "8a3ff4f3-76fe-471f-9361-4765f5025709",
   "metadata": {},
   "outputs": [],
   "source": [
    "pd.merge(data_pedalme_wst.query(\"mtype=='block'\").groupby(['mrate','lags','inter_method','method'])['mse'].mean().reset_index(),\n",
    "         data_pedalme_wst.query(\"mtype=='block'\").groupby(['mrate','lags','inter_method','method'])['mse'].std().reset_index(),\n",
    "         on=['method','mrate','lags','inter_method']).rename(columns={'mse_x':'mean','mse_y':'std'}).round(3).query(\"lags==4\")"
   ]
  },
  {
   "cell_type": "markdown",
   "id": "6d80756b-d0bd-4663-a847-20056d29b3cd",
   "metadata": {},
   "source": [
    "# WikiMathsDatasetLoader (lags=8)"
   ]
  },
  {
   "cell_type": "markdown",
   "id": "9455377c-c4b0-4ffc-824b-883234bd90ef",
   "metadata": {
    "tags": []
   },
   "source": [
    "## Baseline"
   ]
  },
  {
   "cell_type": "code",
   "execution_count": null,
   "id": "b3cc2ad1-392f-424f-a3be-115070ef439d",
   "metadata": {},
   "outputs": [],
   "source": [
    "data.query(\"dataset=='wikimath' and mrate==0\").groupby(['RecurrentGCN','lags','nof_filters','method'])['mse'].mean().reset_index().round(3).query(\"lags==8\")"
   ]
  },
  {
   "cell_type": "markdown",
   "id": "e78caefd-e35a-435c-ae8b-43338b3507e9",
   "metadata": {},
   "source": [
    "## Random"
   ]
  },
  {
   "cell_type": "code",
   "execution_count": null,
   "id": "93355d49-98a5-4317-a23b-cab8ce09b74b",
   "metadata": {},
   "outputs": [],
   "source": [
    "pd.merge(data.query(\"dataset=='wikimath' and mtype=='rand'\").groupby(['RecurrentGCN','mrate','lags','method'])['mse'].mean().reset_index(),\n",
    "         data.query(\"dataset=='wikimath' and mtype=='rand'\").groupby(['RecurrentGCN','mrate','lags','method'])['mse'].std().reset_index(),\n",
    "         on=['RecurrentGCN','method','mrate','lags']).rename(columns={'mse_x':'mean','mse_y':'std'}).round(3)"
   ]
  },
  {
   "cell_type": "markdown",
   "id": "fd253819-25b6-4bc5-8857-98da4eb2b80e",
   "metadata": {},
   "source": [
    "## Block"
   ]
  },
  {
   "cell_type": "code",
   "execution_count": null,
   "id": "3a9cdb61-9ba7-454c-b31b-6c9066b83dc8",
   "metadata": {},
   "outputs": [],
   "source": [
    "pd.merge(data.query(\"dataset=='wikimath' and mtype=='block'\").groupby(['mrate','lags','method'])['mse'].mean().reset_index(),\n",
    "         data.query(\"dataset=='wikimath' and mtype=='block'\").groupby(['mrate','lags','method'])['mse'].std().reset_index(),\n",
    "         on=['method','mrate','lags']).rename(columns={'mse_x':'mean','mse_y':'std'})"
   ]
  },
  {
   "cell_type": "markdown",
   "id": "14b6aff3-c706-49a3-bd8d-6edf52a0f725",
   "metadata": {},
   "source": [
    "## missing values on the same nodes"
   ]
  },
  {
   "cell_type": "code",
   "execution_count": null,
   "id": "af243fc8-448a-4507-8320-3922f59e3e2b",
   "metadata": {},
   "outputs": [],
   "source": [
    "data_wikimath_st = pd.read_csv('./simulation_results/Real_simulation/wikimath_GSO_st.csv')"
   ]
  },
  {
   "cell_type": "code",
   "execution_count": null,
   "id": "39706648-86a5-4f84-bb28-8b349ec5e8ef",
   "metadata": {},
   "outputs": [],
   "source": [
    "pd.merge(data_wikimath_st.groupby(['mrate','lags','method'])['mse'].mean().reset_index(),\n",
    "        data_wikimath_st.groupby(['mrate','lags','method'])['mse'].std().reset_index(),\n",
    "         on=['method','mrate','lags']).rename(columns={'mse_x':'mean','mse_y':'std'}).round(3)"
   ]
  },
  {
   "cell_type": "markdown",
   "id": "90b3f7a5-c7fb-4c23-a230-5fa9fc7ac726",
   "metadata": {
    "tags": []
   },
   "source": [
    "# WindmillOutputSmallDatasetLoader (lags=8)"
   ]
  },
  {
   "cell_type": "markdown",
   "id": "5a2e36b4-0323-4c11-a286-1f3096c8e409",
   "metadata": {},
   "source": [
    "## Baseline"
   ]
  },
  {
   "cell_type": "code",
   "execution_count": null,
   "id": "49b9fab5-a442-4d99-808f-8f9bfa70e094",
   "metadata": {},
   "outputs": [],
   "source": [
    "pd.merge(data.query(\"dataset=='windmillsmall' and mrate==0\").groupby(['lags','method'])['mse'].mean().reset_index(),\n",
    "         data.query(\"dataset=='windmillsmall' and mrate==0\").groupby(['lags','method'])['mse'].std().reset_index(),\n",
    "         on=['method','lags']).rename(columns={'mse_x':'mean','mse_y':'std'}).round(3)"
   ]
  },
  {
   "cell_type": "code",
   "execution_count": null,
   "id": "533ab53b-bdf8-47a4-a589-52239f6e907a",
   "metadata": {},
   "outputs": [],
   "source": [
    "pd.merge(data_DCRNN_windmillsmall.query(\"dataset=='windmillsmall' and mrate==0\").groupby(['lags','method'])['mse'].mean().reset_index(),\n",
    "         data_DCRNN_windmillsmall.query(\"dataset=='windmillsmall' and mrate==0\").groupby(['lags','method'])['mse'].std().reset_index(),\n",
    "         on=['method','lags']).rename(columns={'mse_x':'mean','mse_y':'std'}).round(3)"
   ]
  },
  {
   "cell_type": "markdown",
   "id": "a983ca2b-174b-450a-8831-03294d60f51d",
   "metadata": {},
   "source": [
    "## Random"
   ]
  },
  {
   "cell_type": "code",
   "execution_count": null,
   "id": "8902439c-dd57-4b4a-9ee7-a4a6f834b748",
   "metadata": {},
   "outputs": [],
   "source": [
    "pd.merge(data.query(\"dataset=='windmillsmall' and mtype=='rand'\").groupby(['mrate','lags','method'])['mse'].mean().reset_index(),\n",
    "         data.query(\"dataset=='windmillsmall' and mtype=='rand'\").groupby(['mrate','lags','method'])['mse'].std().reset_index(),\n",
    "         on=['method','mrate','lags']).rename(columns={'mse_x':'mean','mse_y':'std'}).round(3)"
   ]
  },
  {
   "cell_type": "code",
   "execution_count": null,
   "id": "a5ce3e1d-0b02-4dd5-ace8-09f355030f5c",
   "metadata": {},
   "outputs": [],
   "source": [
    "pd.merge(data_DCRNN_windmillsmall.query(\"dataset=='windmillsmall' and mtype=='rand'\").groupby(['mrate','lags','method'])['mse'].mean().reset_index(),\n",
    "         data_DCRNN_windmillsmall.query(\"dataset=='windmillsmall' and mtype=='rand'\").groupby(['mrate','lags','method'])['mse'].std().reset_index(),\n",
    "         on=['method','mrate','lags']).rename(columns={'mse_x':'mean','mse_y':'std'}).round(3)"
   ]
  },
  {
   "cell_type": "markdown",
   "id": "44f6a1e6-c2f3-4d8c-b071-ec58633f2ccd",
   "metadata": {},
   "source": [
    "## Block"
   ]
  },
  {
   "cell_type": "code",
   "execution_count": null,
   "id": "e6a097b4-c47c-48ff-92aa-fefa3472dba2",
   "metadata": {},
   "outputs": [],
   "source": [
    "pd.merge(data.query(\"dataset=='windmillsmall' and mtype=='block'\").groupby(['mrate','lags','method'])['mse'].mean().reset_index(),\n",
    "         data.query(\"dataset=='windmillsmall' and mtype=='block'\").groupby(['mrate','lags','method'])['mse'].std().reset_index(),\n",
    "         on=['method','mrate','lags']).rename(columns={'mse_x':'mean','mse_y':'std'}).round(3)"
   ]
  },
  {
   "cell_type": "markdown",
   "id": "8a4660bf-74f6-449d-b87f-2089ad0d118a",
   "metadata": {},
   "source": [
    "# Montevideobus (lags=4)"
   ]
  },
  {
   "cell_type": "markdown",
   "id": "2cdb4bd3-1980-47f0-afb4-4d82a3a86e70",
   "metadata": {
    "tags": []
   },
   "source": [
    "## Baseline"
   ]
  },
  {
   "cell_type": "code",
   "execution_count": null,
   "id": "4ff2d1d2-bcad-4d74-891e-2bddb1ab76ae",
   "metadata": {},
   "outputs": [],
   "source": [
    "round(data.query(\"dataset=='monte' and mrate==0\")['mse'].mean(),3),round(data_monte.query(\"mrate==0\")['mse'].std(),3)"
   ]
  },
  {
   "cell_type": "markdown",
   "id": "afcdfe1a-afd7-46eb-af34-2e3bcc148a17",
   "metadata": {},
   "source": [
    "## Random"
   ]
  },
  {
   "cell_type": "code",
   "execution_count": null,
   "id": "0d19690b-1489-4e96-9a01-d5a8f755fb28",
   "metadata": {},
   "outputs": [],
   "source": [
    "pd.merge(data.query(\"dataset=='monte' and mtype=='rand'\").groupby(['mrate','lags','method'])['mse'].mean().reset_index(),\n",
    "         data.query(\"dataset=='monte' and mtype=='rand'\").groupby(['mrate','lags','method'])['mse'].std().reset_index(),\n",
    "         on=['method','mrate','lags']).rename(columns={'mse_x':'mean','mse_y':'std'})"
   ]
  },
  {
   "cell_type": "markdown",
   "id": "9a74d78d-a333-4c99-ad70-5985c07feae1",
   "metadata": {},
   "source": [
    "## Block"
   ]
  },
  {
   "cell_type": "code",
   "execution_count": null,
   "id": "76aea718-eb75-4a87-a72f-d3e1e60c3cbe",
   "metadata": {},
   "outputs": [],
   "source": [
    "pd.merge(data.query(\"dataset=='monte' and mtype=='block'\").groupby(['mrate','lags','method'])['mse'].mean().reset_index(),\n",
    "         data.query(\"dataset=='monte' and mtype=='block'\").groupby(['mrate','lags','method'])['mse'].std().reset_index(),\n",
    "         on=['method','mrate','lags']).rename(columns={'mse_x':'mean','mse_y':'std'})"
   ]
  }
 ],
 "metadata": {
  "kernelspec": {
   "display_name": "Python 3",
   "language": "python",
   "name": "python3"
  },
  "language_info": {
   "codemirror_mode": {
    "name": "ipython",
    "version": 3
   },
   "file_extension": ".py",
   "mimetype": "text/x-python",
   "name": "python",
   "nbconvert_exporter": "python",
   "pygments_lexer": "ipython3",
   "version": "3.8.0"
  },
  "toc-autonumbering": false,
  "toc-showcode": false
 },
 "nbformat": 4,
 "nbformat_minor": 5
}

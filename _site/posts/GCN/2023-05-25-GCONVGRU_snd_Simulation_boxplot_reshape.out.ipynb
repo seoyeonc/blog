{
  "cells": [
    {
      "cell_type": "markdown",
      "metadata": {},
      "source": [
        "# GConvGRU_Simulation Boxplot_reshape\n",
        "\n",
        "SEOYEON CHOI  \n",
        "5/25/23\n",
        "\n",
        "> Simulation Study"
      ],
      "id": "a0476b1c-6c43-425d-be2f-de2fb8e12985"
    },
    {
      "cell_type": "code",
      "execution_count": null,
      "metadata": {},
      "outputs": [],
      "source": [
        "import itstgcn\n",
        "import torch\n",
        "import itstgcn.planner \n",
        "import pandas as pd\n",
        "\n",
        "import numpy as np\n",
        "import random"
      ],
      "id": "685f5abf-cb62-4192-9b5e-d0c908e978bf"
    },
    {
      "cell_type": "code",
      "execution_count": 5,
      "metadata": {},
      "outputs": [],
      "source": [
        "from torch_geometric_temporal.dataset import WikiMathsDatasetLoader\n",
        "loader3 = WikiMathsDatasetLoader()"
      ],
      "id": "8af58b41-ba77-493c-9046-4885c22e8d29"
    },
    {
      "cell_type": "code",
      "execution_count": null,
      "metadata": {},
      "outputs": [],
      "source": [
        "plans_stgcn_rand = {\n",
        "    'max_iteration': 5, \n",
        "    'method': ['STGCN', 'IT-STGCN'],\n",
        "    'mrate': [0.5],\n",
        "    'lags': [8], \n",
        "    'nof_filters': [12], \n",
        "    'inter_method': ['linear'],\n",
        "    'epoch': [50]\n",
        "}"
      ],
      "id": "5aaa73ef-9f33-4aaa-b08a-89ab33ca5b85"
    },
    {
      "cell_type": "code",
      "execution_count": null,
      "metadata": {},
      "outputs": [],
      "source": [
        "plnr = itstgcn.planner.PLNR_STGCN_RAND(plans_stgcn_rand,loader3,dataset_name='wikimath')\n",
        "plnr.simulate()"
      ],
      "id": "c89596e2-8408-4d4f-8ed5-6a21d3ea3ad7"
    },
    {
      "cell_type": "code",
      "execution_count": null,
      "metadata": {},
      "outputs": [],
      "source": [
        "plnr = itstgcn.planner.PLNR_STGCN_RAND(plans_stgcn_rand,loader3,dataset_name='wikimath')\n",
        "plnr.simulate()"
      ],
      "id": "c03a7c3b-63cc-4539-8ed1-7ec7860bb899"
    },
    {
      "cell_type": "code",
      "execution_count": null,
      "metadata": {},
      "outputs": [],
      "source": [
        "plnr = itstgcn.planner.PLNR_STGCN_RAND(plans_stgcn_rand,loader3,dataset_name='wikimath')\n",
        "plnr.simulate()"
      ],
      "id": "fab51480-d350-44c8-8483-2bca7e2436f8"
    },
    {
      "cell_type": "code",
      "execution_count": null,
      "metadata": {},
      "outputs": [],
      "source": [
        "plnr = itstgcn.planner.PLNR_STGCN_RAND(plans_stgcn_rand,loader3,dataset_name='wikimath')\n",
        "plnr.simulate()"
      ],
      "id": "1fafdac3-700c-40ab-b31f-c50b4c513563"
    },
    {
      "cell_type": "code",
      "execution_count": null,
      "metadata": {},
      "outputs": [],
      "source": [
        "plnr = itstgcn.planner.PLNR_STGCN_RAND(plans_stgcn_rand,loader3,dataset_name='wikimath')\n",
        "plnr.simulate()"
      ],
      "id": "ab8c5f1d-378d-4a77-a82a-4f98f904f486"
    },
    {
      "cell_type": "code",
      "execution_count": null,
      "metadata": {},
      "outputs": [],
      "source": [
        "plnr = itstgcn.planner.PLNR_STGCN_RAND(plans_stgcn_rand,loader3,dataset_name='wikimath')\n",
        "plnr.simulate()"
      ],
      "id": "55e1e53d-632b-4efb-9e1a-2cf78405fe30"
    },
    {
      "cell_type": "code",
      "execution_count": null,
      "metadata": {},
      "outputs": [],
      "source": [
        "plans_stgcn_rand = {\n",
        "    'max_iteration': 5, \n",
        "    'method': ['STGCN', 'IT-STGCN'],\n",
        "    'mrate': [0.6],\n",
        "    'lags': [8], \n",
        "    'nof_filters': [12], \n",
        "    'inter_method': ['linear'],\n",
        "    'epoch': [50]\n",
        "}"
      ],
      "id": "f452951b-7958-493e-99f3-1e9ecdbba0a9"
    },
    {
      "cell_type": "code",
      "execution_count": null,
      "metadata": {},
      "outputs": [],
      "source": [
        "plnr = itstgcn.planner.PLNR_STGCN_RAND(plans_stgcn_rand,loader3,dataset_name='wikimath')\n",
        "plnr.simulate()"
      ],
      "id": "a5c48573-e5ad-47f1-9c4d-b28f1851cc5d"
    },
    {
      "cell_type": "code",
      "execution_count": null,
      "metadata": {},
      "outputs": [],
      "source": [
        "plnr = itstgcn.planner.PLNR_STGCN_RAND(plans_stgcn_rand,loader3,dataset_name='wikimath')\n",
        "plnr.simulate()"
      ],
      "id": "79de98c6-c654-417e-8ea5-b51e860b8513"
    },
    {
      "cell_type": "code",
      "execution_count": null,
      "metadata": {},
      "outputs": [],
      "source": [
        "plnr = itstgcn.planner.PLNR_STGCN_RAND(plans_stgcn_rand,loader3,dataset_name='wikimath')\n",
        "plnr.simulate()"
      ],
      "id": "dc65b942-eb85-46de-94e3-c4fe8080f8cb"
    },
    {
      "cell_type": "code",
      "execution_count": null,
      "metadata": {},
      "outputs": [],
      "source": [
        "plnr = itstgcn.planner.PLNR_STGCN_RAND(plans_stgcn_rand,loader3,dataset_name='wikimath')\n",
        "plnr.simulate()"
      ],
      "id": "87386fbd-3673-45b5-b26f-a1fa87a8668f"
    },
    {
      "cell_type": "code",
      "execution_count": null,
      "metadata": {},
      "outputs": [],
      "source": [
        "plnr = itstgcn.planner.PLNR_STGCN_RAND(plans_stgcn_rand,loader3,dataset_name='wikimath')\n",
        "plnr.simulate()"
      ],
      "id": "97b16bb7-bdee-4dc2-b38d-5a68503a49fe"
    },
    {
      "cell_type": "code",
      "execution_count": null,
      "metadata": {},
      "outputs": [],
      "source": [
        "plnr = itstgcn.planner.PLNR_STGCN_RAND(plans_stgcn_rand,loader3,dataset_name='wikimath')\n",
        "plnr.simulate()"
      ],
      "id": "e8890293-5cb7-4dd3-8a53-d22d37caf685"
    },
    {
      "cell_type": "markdown",
      "metadata": {},
      "source": [
        "# Import"
      ],
      "id": "e60c8aea-e0cf-47c9-a143-8b63a6f8bd8d"
    },
    {
      "cell_type": "code",
      "execution_count": 497,
      "metadata": {},
      "outputs": [],
      "source": [
        "import matplotlib.pyplot as plt\n",
        "import pandas as pd\n",
        "import numpy as np"
      ],
      "id": "39415731-278f-490a-aee9-65fa8745e401"
    },
    {
      "cell_type": "markdown",
      "metadata": {},
      "source": [
        "# Fivenodes\n",
        "\n",
        "``` python\n",
        "mindex= [[],[],[],list(range(50,150)),[]] # block 1\n",
        "mindex= [list(range(10,100)),[],list(range(50,80)),[],[]] # node 2 30% mmissing\n",
        "```\n",
        "\n",
        "block 조건\n",
        "\n",
        "`2023-05-20_09-53-08`\n",
        "\n",
        "epoch 150"
      ],
      "id": "7a8e33a5-9204-40ba-9fe9-08140c2d534d"
    },
    {
      "cell_type": "code",
      "execution_count": 2,
      "metadata": {},
      "outputs": [],
      "source": [
        "df1 = pd.read_csv('./simulation_results/2023-05-26_07-07-05.csv')\n",
        "df2 = pd.read_csv('./simulation_results/2023-05-27_21-02-01.csv')"
      ],
      "id": "b122d2d7-1ba2-4002-9f5e-e4525385aef0"
    },
    {
      "cell_type": "code",
      "execution_count": null,
      "metadata": {},
      "outputs": [],
      "source": [
        "df3 = pd.read_csv('./simulation_results/2023-07-14_19-15-30.csv')\n",
        "df4 = pd.read_csv('./simulation_results/2023-07-14_20-20-12.csv')\n",
        "df5 = pd.read_csv('./simulation_results/2023-07-14_21-17-16.csv')\n",
        "df6 = pd.read_csv('./simulation_results/2023-07-14_22-12-52.csv')\n",
        "df7 = pd.read_csv('./simulation_results/2023-07-14_23-13-30.csv')\n",
        "df8 = pd.read_csv('./simulation_results/2023-07-15_00-17-49.csv')"
      ],
      "id": "747eb6d0-a791-4127-a924-05fad512c78d"
    },
    {
      "cell_type": "code",
      "execution_count": 3,
      "metadata": {},
      "outputs": [],
      "source": [
        "data = pd.concat([df1,df2,df3,df4,df5,df6,df7,df8],axis=0)"
      ],
      "id": "8cc93775-49f3-4ce1-9229-d76e5261588a"
    },
    {
      "cell_type": "code",
      "execution_count": 4,
      "metadata": {},
      "outputs": [],
      "source": [
        "data.to_csv('./simulation_results/Real_simulation_reshape/fivedones_Simulation.csv',index=False)"
      ],
      "id": "ff230233-c6f2-46e3-826a-0252d69679de"
    },
    {
      "cell_type": "code",
      "execution_count": 5,
      "metadata": {},
      "outputs": [],
      "source": [
        "data = pd.read_csv('./simulation_results/Real_simulation_reshape/fivedones_Simulation.csv')"
      ],
      "id": "f3421100-afcf-4a03-a38a-bf13a8fb9e87"
    },
    {
      "cell_type": "markdown",
      "metadata": {},
      "source": [
        "## Baseline"
      ],
      "id": "29c6687e-d3a2-4c74-a5c7-c73109e50899"
    },
    {
      "cell_type": "code",
      "execution_count": 6,
      "metadata": {
        "tags": []
      },
      "outputs": [],
      "source": [
        "data.query(\"method!='GNAR' and mrate==0\").plot.box(backend='plotly',x='mrate',color='method',y='mse',facet_col='lags',facet_row='nof_filters',height=600)\n"
      ],
      "id": "ceb2ba00-f21e-4fbd-b46d-4d1265f9784e"
    },
    {
      "cell_type": "code",
      "execution_count": 7,
      "metadata": {},
      "outputs": [],
      "source": [
        "data.query(\"method!='GNAR' and mtype =='rand'\").plot.box(backend='plotly',x='mrate',color='method',y='mse',facet_col='mrate',facet_row='inter_method',height=600)\n"
      ],
      "id": "a3d01f5e-f2eb-49e1-993b-ae61cb36ec12"
    },
    {
      "cell_type": "code",
      "execution_count": 8,
      "metadata": {},
      "outputs": [],
      "source": [
        "data.query(\"method!='GNAR' and mtype =='block' \").plot.box(backend='plotly',x='mrate',color='method',y='mse',facet_col='inter_method',facet_row='lags',height=600)\n"
      ],
      "id": "49b5964b-ee7e-4481-a83c-44cf1da13faf"
    },
    {
      "cell_type": "markdown",
      "metadata": {},
      "source": [
        "# chickenpox\n",
        "\n",
        "``` python\n",
        "my_list = [[] for _ in range(20)] #chickenpox\n",
        "another_list = list(range(100,400))\n",
        "my_list[1] = another_list\n",
        "my_list[3] = another_list\n",
        "my_list[5] = another_list\n",
        "my_list[7] = another_list\n",
        "my_list[9] = another_list\n",
        "my_list[11] = another_list\n",
        "my_list[13] = another_list\n",
        "my_list[15] = another_list\n",
        "mindex = my_list\n",
        "```\n",
        "\n",
        "block 30% missing을 위한 조건"
      ],
      "id": "257306df-839b-407e-8022-6b9a74a445dd"
    },
    {
      "cell_type": "code",
      "execution_count": 9,
      "metadata": {},
      "outputs": [],
      "source": [
        "df1 = pd.read_csv('./simulation_results/2023-05-26_18-06-07.csv') # GNAR random\n",
        "df2 = pd.read_csv('./simulation_results/2023-05-28_16-17-21.csv') # GNAR block\n",
        "df3 = pd.read_csv('./simulation_results/2023-05-28_20-41-00.csv') # STGCN, ITSTGCN random 30%\n",
        "df4 = pd.read_csv('./simulation_results/2023-05-29_06-35-52.csv')"
      ],
      "id": "8e1c0960-cae0-412a-8298-a26bcd4df8a6"
    },
    {
      "cell_type": "code",
      "execution_count": null,
      "metadata": {},
      "outputs": [],
      "source": [
        "df5 = pd.read_csv('./simulation_results/2023-07-15_03-00-24.csv')\n",
        "df6 = pd.read_csv('./simulation_results/2023-07-15_05-54-45.csv')\n",
        "df7 = pd.read_csv('./simulation_results/2023-07-15_08-36-29.csv')\n",
        "df8 = pd.read_csv('./simulation_results/2023-07-15_10-39-42.csv')"
      ],
      "id": "7179fc89-4f4d-45b6-826c-9015fb3d2f1e"
    },
    {
      "cell_type": "code",
      "execution_count": 10,
      "metadata": {},
      "outputs": [],
      "source": [
        "data = pd.concat([df1,df2,df3,df4,df5,df6,df7,df8],axis=0)"
      ],
      "id": "67f88251-4d2a-4c13-99d9-b7cb349e3be8"
    },
    {
      "cell_type": "code",
      "execution_count": 11,
      "metadata": {},
      "outputs": [],
      "source": [
        "data.to_csv('./simulation_results/Real_simulation_reshape/chikenpox_Simulation.csv',index=False)"
      ],
      "id": "9d9b8b02-e3d5-4e18-8948-90cba18826a2"
    },
    {
      "cell_type": "code",
      "execution_count": 12,
      "metadata": {},
      "outputs": [],
      "source": [
        "data = pd.read_csv('./simulation_results/Real_simulation_reshape/chikenpox_Simulation.csv')"
      ],
      "id": "4bd7b860-9e04-42db-bd4b-22ab854fdeed"
    },
    {
      "cell_type": "markdown",
      "metadata": {},
      "source": [
        "## Baseline"
      ],
      "id": "9f642574-b9f7-4687-a073-aec27a649db0"
    },
    {
      "cell_type": "code",
      "execution_count": 13,
      "metadata": {},
      "outputs": [],
      "source": [
        "data.query(\"method!='GNAR' and mrate ==0 \").plot.box(backend='plotly',x='mrate',color='method',y='mse',facet_col='nof_filters',height=600)\n"
      ],
      "id": "1ddb029a-8ae5-4f4b-b94f-b43aa154be59"
    },
    {
      "cell_type": "markdown",
      "metadata": {},
      "source": [
        "## Random"
      ],
      "id": "6c9e7716-2a06-45e0-a5bc-486d39881799"
    },
    {
      "cell_type": "code",
      "execution_count": 14,
      "metadata": {},
      "outputs": [],
      "source": [
        "data.query(\"method!='GNAR' and mtype =='rand'\").plot.box(backend='plotly',x='mrate',color='method',y='mse',facet_col='nof_filters',facet_row='inter_method',height=800)\n"
      ],
      "id": "27bca7bb-9571-4268-b5ab-5fa1dceb14bf"
    },
    {
      "cell_type": "markdown",
      "metadata": {},
      "source": [
        "## Block"
      ],
      "id": "ed4a7af9-8354-4af2-8098-aa1c0ed1f9e5"
    },
    {
      "cell_type": "code",
      "execution_count": 15,
      "metadata": {},
      "outputs": [],
      "source": [
        "data.query(\"method!='GNAR' and mtype =='block'\").plot.box(backend='plotly',x='mrate',color='method',y='mse',facet_col='inter_method',facet_row='lags',height=800)\n"
      ],
      "id": "91cd1244-3865-443d-abea-3fa687a9f7c1"
    },
    {
      "cell_type": "markdown",
      "metadata": {},
      "source": [
        "# Pedalme\n",
        "\n",
        "block1\n",
        "\n",
        "``` python\n",
        "my_list = [[] for _ in range(15)] #pedalme\n",
        "another_list = list(range(5,25))\n",
        "my_list[1] = another_list\n",
        "my_list[3] = another_list\n",
        "my_list[5] = another_list\n",
        "my_list[7] = another_list\n",
        "my_list[9] = another_list\n",
        "my_list[11] = another_list\n",
        "mindex = my_list\n",
        "```\n",
        "\n",
        "block 30% missing을 위한 조건\n",
        "\n",
        "block2\n",
        "\n",
        "``` python\n",
        "my_list = [[] for _ in range(15)] #pedalme\n",
        "another_list = list(range(10,25))\n",
        "my_list[2] = another_list\n",
        "my_list[4] = another_list\n",
        "my_list[5] = another_list\n",
        "my_list[11] = another_list\n",
        "mindex = my_list\n",
        "```\n",
        "\n",
        "block 30% missing을 위한 조건"
      ],
      "id": "c70b416c-f635-4257-aaac-2567a030ba4a"
    },
    {
      "cell_type": "code",
      "execution_count": 16,
      "metadata": {},
      "outputs": [],
      "source": [
        "df1 = pd.read_csv('./simulation_results/2023-05-25_19-21-30.csv') \n",
        "df2 = pd.read_csv('./simulation_results/2023-05-25_19-52-39.csv') "
      ],
      "id": "5d1e3d82-f7ed-47e0-819a-68dc678b9b7e"
    },
    {
      "cell_type": "code",
      "execution_count": null,
      "metadata": {},
      "outputs": [],
      "source": [
        "df3 = pd.read_csv('./simulation_results/2023-07-15_11-17-37.csv')"
      ],
      "id": "a527f043-914d-4c16-a8a1-6dc59855ae9a"
    },
    {
      "cell_type": "code",
      "execution_count": 17,
      "metadata": {},
      "outputs": [],
      "source": [
        "data = pd.concat([df1,df2,df3],axis=0)"
      ],
      "id": "491a0b99-606c-4bcb-b517-9a4a9d023899"
    },
    {
      "cell_type": "code",
      "execution_count": 18,
      "metadata": {},
      "outputs": [],
      "source": [
        "data.to_csv('./simulation_results/Real_simulation_reshape/pedalme_Simulation.csv',index=False)"
      ],
      "id": "2396f2c8-8381-44fe-9c48-f6a61a5e6fc3"
    },
    {
      "cell_type": "code",
      "execution_count": 19,
      "metadata": {},
      "outputs": [],
      "source": [
        "data = pd.read_csv('./simulation_results/Real_simulation_reshape/pedalme_Simulation.csv')"
      ],
      "id": "68375939-1309-4366-9b7d-5f3a5a105f09"
    },
    {
      "cell_type": "code",
      "execution_count": 20,
      "metadata": {},
      "outputs": [],
      "source": [
        "data.query(\"method=='STGCN' and mtype == 'rand'\")['mse'].mean(),data.query(\"method=='STGCN' and mtype != 'rand'\")['mse'].mean()"
      ],
      "id": "fd0b9578-e947-49e7-b64d-5e56c9401615"
    },
    {
      "cell_type": "code",
      "execution_count": 21,
      "metadata": {},
      "outputs": [],
      "source": [
        "data.query(\"method=='IT-STGCN' and mtype == 'rand'\")['mse'].mean(),data.query(\"method=='IT-STGCN' and mtype != 'rand'\")['mse'].mean()"
      ],
      "id": "d16b9e5f-9378-4034-b5f0-50c42ce31d63"
    },
    {
      "cell_type": "markdown",
      "metadata": {},
      "source": [
        "## Baseline"
      ],
      "id": "e7498227-178a-4003-b150-9d973befdc75"
    },
    {
      "cell_type": "code",
      "execution_count": 22,
      "metadata": {},
      "outputs": [],
      "source": [
        "data.query(\"mrate ==0 \").plot.box(backend='plotly',x='epoch',color='method',y='mse',height=800)\n"
      ],
      "id": "3d5e9b20-7f4f-4205-ac42-75d11d7e071b"
    },
    {
      "cell_type": "markdown",
      "metadata": {},
      "source": [
        "## random"
      ],
      "id": "35d053d5-a5f4-4f9d-8598-1865763c9c0b"
    },
    {
      "cell_type": "code",
      "execution_count": 23,
      "metadata": {},
      "outputs": [],
      "source": [
        "data.query(\"method!='GNAR' and mtype =='rand' \").plot.box(backend='plotly',x='mrate',color='method',y='mse',facet_col='lags',facet_row='inter_method',height=800)\n"
      ],
      "id": "eef28bde-4b9b-4704-bf8b-9a505e8ca158"
    },
    {
      "cell_type": "markdown",
      "metadata": {},
      "source": [
        "## block"
      ],
      "id": "97546917-9e30-483c-b9a2-172c32ff77ce"
    },
    {
      "cell_type": "code",
      "execution_count": 24,
      "metadata": {},
      "outputs": [],
      "source": [
        "data.query(\"method!='GNAR' and mtype =='block' \").plot.box(backend='plotly',x='mrate',color='method',y='mse',facet_col='inter_method',facet_row='lags',height=600)\n"
      ],
      "id": "dba5eabc-9f57-4524-8bee-ab718a39abaa"
    },
    {
      "cell_type": "markdown",
      "metadata": {},
      "source": [
        "## weight matrix time, node 고려한 결과"
      ],
      "id": "0e987439-a474-4584-92b3-a6b944e56eae"
    },
    {
      "cell_type": "code",
      "execution_count": 25,
      "metadata": {},
      "outputs": [],
      "source": [
        "df1 = pd.read_csv('./simulation_results/2023-05-28_10-40-44.csv')\n",
        "df2 = pd.read_csv('./simulation_results/2023-05-28_11-09-06.csv')"
      ],
      "id": "4c36b68a-5236-44b9-99e1-e655b38a7d35"
    },
    {
      "cell_type": "code",
      "execution_count": 26,
      "metadata": {},
      "outputs": [],
      "source": [
        "data2 = pd.concat([df1,df2],axis=0)"
      ],
      "id": "d6426115-ee97-41fe-8504-4b1aa8e0e5ea"
    },
    {
      "cell_type": "code",
      "execution_count": 27,
      "metadata": {},
      "outputs": [],
      "source": [
        "data2.to_csv('./simulation_results/Real_simulation_reshape/pedalme_Simulation_itstgcnsnd.csv',index=False)"
      ],
      "id": "8798716b-2734-41c8-8a7d-2def5b46461c"
    },
    {
      "cell_type": "code",
      "execution_count": 28,
      "metadata": {},
      "outputs": [],
      "source": [
        "data2 = pd.read_csv('./simulation_results/Real_simulation_reshape/pedalme_Simulation_itstgcnsnd.csv')"
      ],
      "id": "ac8a3053-449f-4309-82ec-27f1de181a52"
    },
    {
      "cell_type": "code",
      "execution_count": 29,
      "metadata": {},
      "outputs": [],
      "source": [
        "data2.query(\"mtype=='rand'\").plot.box(backend='plotly',x='mrate',color='method',y='mse',facet_col='inter_method',facet_row='lags',height=1000)"
      ],
      "id": "4267be4b-c853-47cc-9f45-85eb631d5ee7"
    },
    {
      "cell_type": "code",
      "execution_count": 30,
      "metadata": {},
      "outputs": [],
      "source": [
        "data2.query(\"mtype=='block'\").plot.box(backend='plotly',x='mrate',color='method',y='mse',facet_col='inter_method',facet_row='lags',height=1000)"
      ],
      "id": "d3c3487f-4c7a-4e01-bc23-9bb17c124e9b"
    },
    {
      "cell_type": "markdown",
      "metadata": {},
      "source": [
        "# Wikimath"
      ],
      "id": "227632c4-ed34-4c40-bf66-ab1bb1f3ef7b"
    },
    {
      "cell_type": "code",
      "execution_count": 40,
      "metadata": {},
      "outputs": [],
      "source": [
        "df1 = pd.read_csv('./simulation_results/2023-05-26_03-28-39.csv')\n",
        "df2 = pd.read_csv('./simulation_results/2023-05-27_00-32-12.csv')\n",
        "df3 = pd.read_csv('./simulation_results/2023-05-27_08-08-15.csv')\n",
        "df4 = pd.read_csv('./simulation_results/2023-05-27_17-49-17.csv')\n",
        "df5 = pd.read_csv('./simulation_results/2023-05-28_03-28-19.csv')\n",
        "df6 = pd.read_csv('./simulation_results/2023-05-28_04-31-07.csv')\n",
        "df7 = pd.read_csv('./simulation_results/2023-05-28_15-46-26.csv')\n",
        "df8 = pd.read_csv('./simulation_results/2023-05-29_17-36-54.csv')\n",
        "df9 = pd.read_csv('./simulation_results/2023-05-30_04-27-01.csv')"
      ],
      "id": "4bf0c726-4989-42a0-97d8-4a60b9e0d7a9"
    },
    {
      "cell_type": "code",
      "execution_count": 41,
      "metadata": {},
      "outputs": [],
      "source": [
        "df10 = pd.read_csv('./simulation_results/2023-07-15_20-52-25.csv')\n",
        "df11 = pd.read_csv('./simulation_results/2023-07-16_08-07-41.csv')\n",
        "df12 = pd.read_csv('./simulation_results/2023-07-16_14-17-47.csv')\n",
        "df13 = pd.read_csv('./simulation_results/2023-07-16_20-55-00.csv')\n",
        "df14 = pd.read_csv('./simulation_results/2023-07-17_03-58-38.csv')\n",
        "df15 = pd.read_csv('./simulation_results/2023-07-17_10-21-14.csv')\n",
        "df16 = pd.read_csv('./simulation_results/2023-07-17_16-00-20.csv')\n",
        "df17 = pd.read_csv('./simulation_results/2023-07-17_22-08-59.csv')"
      ],
      "id": "269fface-953a-47a3-b4d8-1784c38a5575"
    },
    {
      "cell_type": "code",
      "execution_count": null,
      "metadata": {},
      "outputs": [],
      "source": [
        "df18 = pd.read_csv('./simulation_results/2023-07-19_08-35-52.csv')\n",
        "df19 = pd.read_csv('./simulation_results/2023-07-19_15-01-57.csv')\n",
        "df20 = pd.read_csv('./simulation_results/2023-07-19_22-33-07.csv')\n",
        "df21 = pd.read_csv('./simulation_results/2023-07-20_06-21-30.csv')\n",
        "df22 = pd.read_csv('./simulation_results/2023-07-20_14-07-04.csv')\n",
        "df23 = pd.read_csv('./simulation_results/2023-07-20_21-14-32.csv')\n",
        "df24 = pd.read_csv('./simulation_results/2023-07-21_04-45-06.csv')\n",
        "df25 = pd.read_csv('./simulation_results/2023-07-21_11-26-12.csv')\n",
        "# df26 = pd.read_csv('./simulation_results/2023-07-17_10-21-14.csv')\n",
        "# df27 = pd.read_csv('./simulation_results/2023-07-17_16-00-20.csv')\n",
        "# df28 = pd.read_csv('./simulation_results/2023-07-17_22-08-59.csv')"
      ],
      "id": "86c65b54-ef90-4d5a-82a8-dd5255530c00"
    },
    {
      "cell_type": "code",
      "execution_count": 42,
      "metadata": {},
      "outputs": [],
      "source": [
        "data = pd.concat([df1,df2,df3,df4,df5,df6,df7,df8,df9,df10,df11,df12,df13,df14,df15,df16,df17,\n",
        "                 df18,df19,df20,df21,df22,df23,df24,df25],axis=0)"
      ],
      "id": "e8a430f1-f257-4495-9b89-221c17fb0b43"
    },
    {
      "cell_type": "code",
      "execution_count": 43,
      "metadata": {},
      "outputs": [],
      "source": [
        "data.to_csv('./simulation_results/Real_simulation_reshape/wikimath.csv',index=False)"
      ],
      "id": "ea037715-651c-4661-aa6e-6fc07c54ea23"
    },
    {
      "cell_type": "code",
      "execution_count": 44,
      "metadata": {},
      "outputs": [],
      "source": [
        "data = pd.read_csv('./simulation_results/Real_simulation_reshape/wikimath.csv')"
      ],
      "id": "51ec85e3-6267-4a11-82df-5fd797b06edc"
    },
    {
      "cell_type": "markdown",
      "metadata": {},
      "source": [
        "## Baseline"
      ],
      "id": "9fc6e599-f008-447b-a0af-03f607359ef4"
    },
    {
      "cell_type": "code",
      "execution_count": 35,
      "metadata": {},
      "outputs": [],
      "source": [
        "data.query(\"mrate==0 and method!='GNAR'\").plot.box(backend='plotly',x='mrate',color='method',y='mse',height=600)"
      ],
      "id": "ff0f6092-b43d-4dfe-9875-4d4bc16743a0"
    },
    {
      "cell_type": "markdown",
      "metadata": {},
      "source": [
        "## random"
      ],
      "id": "e9fe8344-4a6a-4a9c-a4e8-32edb2808a36"
    },
    {
      "cell_type": "code",
      "execution_count": 36,
      "metadata": {},
      "outputs": [],
      "source": [
        "data.query(\"mtype=='rand' and mrate !=0 and method!='GNAR'\").plot.box(backend='plotly',x='mrate',color='method',y='mse',facet_col='lags',facet_row='nof_filters',height=800)\n"
      ],
      "id": "b1ea2523-72f6-4939-9397-023db250917b"
    },
    {
      "cell_type": "markdown",
      "metadata": {},
      "source": [
        "## block"
      ],
      "id": "c073972a-f064-4bed-aaf6-f354e548cf62"
    },
    {
      "cell_type": "code",
      "execution_count": 37,
      "metadata": {},
      "outputs": [],
      "source": [
        "data.query(\"mtype=='block' and method!='GNAR'\").plot.box(backend='plotly',x='mrate',color='method',y='mse',facet_col='lags',facet_row='nof_filters',height=1200)\n"
      ],
      "id": "e6056223-2bc4-41f5-b632-ebc1e179612f"
    },
    {
      "cell_type": "markdown",
      "metadata": {},
      "source": [
        "## missing values on the same nodes"
      ],
      "id": "622c2e17-627c-408d-9fa7-06f5cfdf6fd3"
    },
    {
      "cell_type": "code",
      "execution_count": 38,
      "metadata": {
        "tags": []
      },
      "outputs": [],
      "source": [
        "# 10%\n",
        "df1 = pd.read_csv('./simulation_results/2023-05-30_15-07-43.csv') # STGCN IT-STGCN block\n",
        "df2 = pd.read_csv('./simulation_results/2023-05-31_01-58-40.csv') # STGCN IT-STGCN"
      ],
      "id": "023c55b2-e7dd-49db-b879-1f9a63fb7b01"
    },
    {
      "cell_type": "code",
      "execution_count": 39,
      "metadata": {},
      "outputs": [],
      "source": [
        "data = pd.concat([df1,df2],axis=0)"
      ],
      "id": "bc3a25f9-98d1-4a17-af27-e93952c7b09b"
    },
    {
      "cell_type": "code",
      "execution_count": 40,
      "metadata": {},
      "outputs": [],
      "source": [
        "data.to_csv('./simulation_results/Real_simulation_reshape/wikimath_GSO_st.csv',index=False)"
      ],
      "id": "e15084cb-430a-4bd2-bfcd-6f93d2080844"
    },
    {
      "cell_type": "code",
      "execution_count": 41,
      "metadata": {},
      "outputs": [],
      "source": [
        "data = pd.read_csv('./simulation_results/Real_simulation_reshape/wikimath_GSO_st.csv')"
      ],
      "id": "145a5912-698c-4c6b-b1d2-912e43f30646"
    },
    {
      "cell_type": "code",
      "execution_count": 42,
      "metadata": {},
      "outputs": [],
      "source": [
        "data.query(\"method!='GNAR' and mtype =='block' \").plot.box(backend='plotly',x='mrate',color='method',y='mse',facet_col='inter_method',facet_row='lags',height=800)\n"
      ],
      "id": "dde1eba1-bd61-4837-bb50-be32bc5232d2"
    },
    {
      "cell_type": "markdown",
      "metadata": {},
      "source": [
        "# Windmilsmall"
      ],
      "id": "cf2fddae-1ccf-435d-8200-717214c26de4"
    },
    {
      "cell_type": "code",
      "execution_count": 498,
      "metadata": {},
      "outputs": [],
      "source": [
        "df1 = pd.read_csv('./simulation_results/2023-05-27_03-20-28.csv') # STGCN IT-STGCN 70%\n",
        "df2 = pd.read_csv('./simulation_results/2023-05-27_11-15-19.csv') # STGCN IT-STGCN\n",
        "df3 = pd.read_csv('./simulation_results/2023-05-27_21-50-00.csv') # STGCN IT-STGCN\n",
        "df4 = pd.read_csv('./simulation_results/2023-05-28_07-53-57.csv') # STGCN IT-STGCN\n",
        "df5 = pd.read_csv('./simulation_results/2023-05-28_15-11-36.csv') # STGCN IT-STGCN\n",
        "df6 = pd.read_csv('./simulation_results/2023-05-28_19-57-23.csv') # GNAR 30%, 50%, 70% # 뭔가 일단 필요없어서 데이터셋에서 뺌\n",
        "df7 = pd.read_csv('./simulation_results/2023-05-29_01-36-37.csv') # STGCN IT-STGCN\n",
        "df8 = pd.read_csv('./simulation_results/2023-05-29_05-55-43.csv') # STGCN IT-STGCN\n",
        "df9 = pd.read_csv('./simulation_results/2023-05-29_11-00-42.csv') # STGCN IT-STGCN\n",
        "df10 = pd.read_csv('./simulation_results/2023-05-29_15-58-56.csv') # STGCN IT-STGCN\n",
        "df11 = pd.read_csv('./simulation_results/2023-05-29_21-01-58.csv') # STGCN IT-STGCN\n",
        "df12 = pd.read_csv('./simulation_results/2023-05-30_02-08-43.csv') # STGCN IT-STGCN\n",
        "df13 = pd.read_csv('./simulation_results/2023-05-30_06-27-00.csv') # STGCN IT-STGCN\n",
        "df14 = pd.read_csv('./simulation_results/2023-05-30_11-59-01.csv') # STGCN IT-STGCN\n",
        "df15 = pd.read_csv('./simulation_results/2023-05-30_15-59-12.csv') # STGCN IT-STGCN\n",
        "df16 = pd.read_csv('./simulation_results/2023-05-30_21-52-31.csv') # STGCN IT-STGCN\n",
        "df17 = pd.read_csv('./simulation_results/2023-05-31_01-32-09.csv') # STGCN IT-STGCN\n",
        "df18 = pd.read_csv('./simulation_results/2023-05-31_09-41-08.csv') # STGCN IT-STGCN\n",
        "df19 = pd.read_csv('./simulation_results/2023-05-31_16-32-33.csv') # STGCN IT-STGCN\n",
        "df20 = pd.read_csv('./simulation_results/2023-05-31_19-24-06.csv') # STGCN IT-STGCN\n",
        "df21 = pd.read_csv('./simulation_results/2023-06-01_00-59-31.csv') # STGCN IT-STGCN\n",
        "df22 = pd.read_csv('./simulation_results/2023-06-01_08-30-50.csv') # STGCN IT-STGCN\n",
        "df23 = pd.read_csv('./simulation_results/2023-06-01_16-03-58.csv') # STGCN IT-STGCN\n",
        "df24 = pd.read_csv('./simulation_results/2023-06-02_01-48-39.csv') # STGCN IT-STGCN\n",
        "df25 = pd.read_csv('./simulation_results/2023-06-02_11-17-51.csv') # STGCN IT-STGCN\n",
        "df26 = pd.read_csv('./simulation_results/2023-06-02_20-36-02.csv') # STGCN IT-STGCN\n",
        "df27 = pd.read_csv('./simulation_results/2023-06-03_05-23-46.csv') # STGCN IT-STGCN\n",
        "df28 = pd.read_csv('./simulation_results/2023-06-03_13-33-11.csv') # STGCN IT-STGCN\n",
        "df29 = pd.read_csv('./simulation_results/2023-06-03_22-40-48.csv') # STGCN IT-STGCN\n",
        "df30 = pd.read_csv('./simulation_results/2023-06-04_08-23-50.csv') # STGCN IT-STGCN\n",
        "df31 = pd.read_csv('./simulation_results/2023-06-04_16-47-07.csv') # GNAR 70%\n",
        "df32 = pd.read_csv('./simulation_results/2023-06-05_01-40-31.csv') # GNAR \n",
        "df33 = pd.read_csv('./simulation_results/2023-06-05_11-53-37.csv')\n",
        "df34 = pd.read_csv('./simulation_results/2023-06-06_10-02-26.csv')\n",
        "df35 = pd.read_csv('./simulation_results/2023-06-06_10-06-02.csv')\n",
        "df36 = pd.read_csv('./simulation_results/2023-06-06_19-10-01.csv')\n",
        "df37 = pd.read_csv('./simulation_results/2023-06-06_19-22-47.csv')\n",
        "df38 = pd.read_csv('./simulation_results/2023-06-07_04-41-41.csv')\n",
        "df39 = pd.read_csv('./simulation_results/2023-06-07_05-00-00.csv')\n",
        "df40 = pd.read_csv('./simulation_results/2023-06-07_12-49-37.csv')\n",
        "df41 = pd.read_csv('./simulation_results/2023-06-07_13-05-52.csv')\n",
        "df42 = pd.read_csv('./simulation_results/2023-06-07_21-00-28.csv')\n",
        "df43 = pd.read_csv('./simulation_results/2023-06-07_21-30-40.csv')\n",
        "df44 = pd.read_csv('./simulation_results/2023-06-08_06-10-42.csv')\n",
        "df45 = pd.read_csv('./simulation_results/2023-06-09_00-38-32.csv')\n",
        "df46 = pd.read_csv('./simulation_results/2023-06-09_12-08-44.csv')\n",
        "df47 = pd.read_csv('./simulation_results/2023-06-10_10-10-27.csv')\n",
        "df48 = pd.read_csv('./simulation_results/2023-06-10_21-16-06.csv')\n",
        "df49 = pd.read_csv('./simulation_results/2023-06-11_09-03-26.csv')\n",
        "df50 = pd.read_csv('./simulation_results/2023-06-11_21-00-18.csv')\n",
        "df51 = pd.read_csv('./simulation_results/2023-06-12_08-58-26.csv')\n",
        "df52 = pd.read_csv('./simulation_results/2023-06-12_20-56-40.csv')\n",
        "df53 = pd.read_csv('./simulation_results/2023-06-13_09-03-43.csv')\n",
        "df54 = pd.read_csv('./simulation_results/2023-06-13_21-56-32.csv')\n",
        "df55 = pd.read_csv('./simulation_results/2023-06-14_11-11-38.csv')\n",
        "df56 = pd.read_csv('./simulation_results/2023-06-14_23-17-40.csv')\n",
        "df57 = pd.read_csv('./simulation_results/2023-06-15_05-01-21.csv')\n",
        "df58 = pd.read_csv('./simulation_results/2023-06-15_10-54-28.csv')\n",
        "df59 = pd.read_csv('./simulation_results/2023-06-15_17-35-55.csv')\n",
        "df60 = pd.read_csv('./simulation_results/2023-06-15_21-14-21.csv')\n",
        "df61 = pd.read_csv('./simulation_results/2023-06-16_03-15-32.csv')\n",
        "df62 = pd.read_csv('./simulation_results/2023-06-16_06-13-50.csv')\n",
        "df63 = pd.read_csv('./simulation_results/2023-06-16_14-18-52.csv')\n",
        "df64 = pd.read_csv('./simulation_results/2023-06-16_18-21-01.csv')\n",
        "df65 = pd.read_csv('./simulation_results/2023-06-17_02-04-16.csv')\n",
        "df66 = pd.read_csv('./simulation_results/2023-06-17_12-31-27.csv')\n",
        "df67 = pd.read_csv('./simulation_results/2023-06-17_19-20-19.csv')\n",
        "df68 = pd.read_csv('./simulation_results/2023-06-18_02-32-26.csv') # 확인 후 block 만 넣기!\n",
        "df69 = pd.read_csv('./simulation_results/2023-06-18_12-20-16.csv')\n",
        "df70 = pd.read_csv('./simulation_results/2023-06-18_22-03-52.csv')\n",
        "df71 = pd.read_csv('./simulation_results/2023-06-19_07-54-07.csv')\n",
        "df72 = pd.read_csv('./simulation_results/2023-06-19_17-32-15.csv')\n",
        "df73 = pd.read_csv('./simulation_results/2023-06-20_02-27-48.csv')\n",
        "df74 = pd.read_csv('./simulation_results/2023-06-20_11-25-00.csv')\n",
        "df75 = pd.read_csv('./simulation_results/2023-06-21_08-22-10.csv')\n",
        "df76 = pd.read_csv('./simulation_results/2023-06-21_18-02-06.csv')\n",
        "df77 = pd.read_csv('./simulation_results/2023-06-22_03-53-20.csv')\n",
        "df78 = pd.read_csv('./simulation_results/2023-06-22_14-30-51.csv')\n",
        "df79 = pd.read_csv('./simulation_results/2023-06-22_23-58-03.csv')\n",
        "df80 = pd.read_csv('./simulation_results/2023-06-23_07-50-27.csv')\n",
        "df81 = pd.read_csv('./simulation_results/2023-06-23_15-44-00.csv')\n",
        "df82 = pd.read_csv('./simulation_results/2023-06-24_00-32-09.csv')\n",
        "df83 = pd.read_csv('./simulation_results/2023-06-24_10-30-38.csv')\n",
        "df84 = pd.read_csv('./simulation_results/2023-06-24_20-29-14.csv')\n",
        "df85 = pd.read_csv('./simulation_results/2023-06-25_06-26-42.csv')\n",
        "df86 = pd.read_csv('./simulation_results/2023-06-25_16-24-38.csv')\n",
        "df87 = pd.read_csv('./simulation_results/2023-06-26_02-35-43.csv')\n",
        "df88 = pd.read_csv('./simulation_results/2023-06-26_23-22-25.csv')\n",
        "df89 = pd.read_csv('./simulation_results/2023-06-26_13-18-29.csv')\n",
        "df90 = pd.read_csv('./simulation_results/2023-06-26_23-22-25.csv')\n",
        "df91 = pd.read_csv('./simulation_results/2023-06-27_09-42-34.csv')\n",
        "df92 = pd.read_csv('./simulation_results/2023-06-27_18-43-24.csv')\n",
        "df93 = pd.read_csv('./simulation_results/2023-06-28_15-59-05.csv')"
      ],
      "id": "808c34b0-9c42-4998-87be-34158700647d"
    },
    {
      "cell_type": "code",
      "execution_count": 499,
      "metadata": {},
      "outputs": [],
      "source": [
        "data = pd.concat([df1,df2,df3,df4,df5,df6,df7,df8,df9,df10,df11,df12,df13,df14,df15,df16,df17,df18,df19,df20,\n",
        "                 df21,df22,df23,df24,df25,df26,df27,df28,df29,df30,df31,df32,df33,df34,df35,df36,df37,df38,df39,\n",
        "                 df40,df41,df42,df43,df44,df45,df46,df47,df48,df49,df50,df51,df52,df53,df54,df55,df56,df57,df58,\n",
        "                 df59,df60,df61,df62,df63,df64,df65,df66,df67,df68,df69,df70,df71,df72,df73,df74,df75,df76,df77,\n",
        "                 df78,df79,df80,df81,df82,df83,df84,df85,df86,df87,df88,df89,df90,df91,df92,df93],axis=0)"
      ],
      "id": "388c3a8f-f9fb-4dcd-a827-82ea9af371ee"
    },
    {
      "cell_type": "code",
      "execution_count": 500,
      "metadata": {},
      "outputs": [],
      "source": [
        "data.to_csv('./simulation_results/Real_simulation_reshape/windmillsmall.csv',index=False)"
      ],
      "id": "566c03e0-b399-44dc-a31a-df9c53e905e0"
    },
    {
      "cell_type": "code",
      "execution_count": 501,
      "metadata": {},
      "outputs": [],
      "source": [
        "data = pd.read_csv('./simulation_results/Real_simulation_reshape/windmillsmall.csv')"
      ],
      "id": "cce80074-4115-4547-b229-86ef67b51872"
    },
    {
      "cell_type": "markdown",
      "metadata": {},
      "source": [
        "## Baseline"
      ],
      "id": "9f094527-05cd-4446-aac6-e458f744969b"
    },
    {
      "cell_type": "code",
      "execution_count": 502,
      "metadata": {},
      "outputs": [],
      "source": [
        "data.query(\"method!='GNAR' and mrate ==0 \").plot.box(backend='plotly',x='mrate',color='method',y='mse',facet_col='lags',height=800)\n"
      ],
      "id": "05e569ce-a0c8-42a5-87d3-d6cbcbc16dd2"
    },
    {
      "cell_type": "markdown",
      "metadata": {},
      "source": [
        "## random"
      ],
      "id": "0988e76c-86ee-4d5f-a753-361cc272bf87"
    },
    {
      "cell_type": "code",
      "execution_count": 503,
      "metadata": {},
      "outputs": [],
      "source": [
        "data.query(\"method!='GNAR' and mtype =='rand' \").plot.box(backend='plotly',x='mrate',color='method',y='mse',facet_col='lags',facet_row='inter_method',height=800)\n"
      ],
      "id": "815d56d9-c349-42e8-8623-05c7d3df572e"
    },
    {
      "cell_type": "markdown",
      "metadata": {},
      "source": [
        "## block"
      ],
      "id": "a1429c6d-ddc8-4b9a-9edd-75cdf19f1bcb"
    },
    {
      "cell_type": "code",
      "execution_count": 504,
      "metadata": {},
      "outputs": [],
      "source": [
        "data.query(\"method!='GNAR' and mtype =='block' \").plot.box(backend='plotly',x='mrate',color='method',y='mse',facet_col='lags',facet_row='inter_method',height=800)\n"
      ],
      "id": "edbef2b3-478f-4ceb-af8b-9f90ec301893"
    },
    {
      "cell_type": "markdown",
      "metadata": {},
      "source": [
        "# Montevideobus"
      ],
      "id": "7f2fa9d2-7042-4c06-9839-c5c45689bbb6"
    },
    {
      "cell_type": "code",
      "execution_count": 429,
      "metadata": {},
      "outputs": [],
      "source": [
        "df1 = pd.read_csv('./simulation_results/2023-05-25_23-24-56.csv') # lags 8\n",
        "df2 = pd.read_csv('./simulation_results/2023-05-26_04-32-14.csv') # lags 8\n",
        "df3 = pd.read_csv('./simulation_results/2023-05-26_10-29-15.csv') # lags 8\n",
        "df4 = pd.read_csv('./simulation_results/2023-05-26_17-32-59.csv') # lags 8\n",
        "df5 = pd.read_csv('./simulation_results/2023-05-26_20-27-25.csv') # lags 8\n",
        "df6 = pd.read_csv('./simulation_results/2023-05-26_23-40-32.csv') # lags 8\n",
        "df7 = pd.read_csv('./simulation_results/2023-05-27_13-20-01.csv') # lags 8\n",
        "df8 = pd.read_csv('./simulation_results/2023-05-28_19-46-39.csv') # lags 8\n",
        "df9 = pd.read_csv('./simulation_results/2023-05-28_23-05-36.csv')"
      ],
      "id": "9f8e599f-47c1-4b7f-8156-d0c5845ac18e"
    },
    {
      "cell_type": "code",
      "execution_count": null,
      "metadata": {},
      "outputs": [],
      "source": [
        "df10 = pd.read_csv('./simulation_results/2023-07-18_01-12-36.csv') # lags 8\n",
        "df11 = pd.read_csv('./simulation_results/2023-07-18_04-18-26.csv') # lags 8\n",
        "df12 = pd.read_csv('./simulation_results/2023-07-18_07-21-19.csv') # lags 8\n",
        "df13 = pd.read_csv('./simulation_results/2023-07-18_10-46-11.csv') # lags 8\n",
        "df14 = pd.read_csv('./simulation_results/2023-07-18_13-55-16.csv') # lags 8\n",
        "df15 = pd.read_csv('./simulation_results/2023-07-18_17-14-12.csv') # lags 8\n",
        "df16 = pd.read_csv('./simulation_results/2023-07-18_20-29-46.csv') # lags 8\n",
        "df17 = pd.read_csv('./simulation_results/2023-07-18_23-46-52.csv') # lags 8\n",
        "df18 = pd.read_csv('./simulation_results/2023-07-19_02-55-01.csv')"
      ],
      "id": "9690b644-5d09-4ac3-a84b-0ab03a119827"
    },
    {
      "cell_type": "code",
      "execution_count": 115,
      "metadata": {},
      "outputs": [],
      "source": [
        "data = pd.concat([df1,df2,df3,df4,df5,df6,df7,df8,df9,df10,df11,df12,df13,df14,df15,df16,df17,df18],axis=0)"
      ],
      "id": "8401a091-8528-427c-94ff-39e1beb17ea2"
    },
    {
      "cell_type": "code",
      "execution_count": 59,
      "metadata": {},
      "outputs": [],
      "source": [
        "data.to_csv('./simulation_results/Real_simulation_reshape/monte.csv',index=False)"
      ],
      "id": "7d4be47e-8cf0-4784-ac1b-ca2d8985a2a0"
    },
    {
      "cell_type": "code",
      "execution_count": 60,
      "metadata": {},
      "outputs": [],
      "source": [
        "data = pd.read_csv('./simulation_results/Real_simulation_reshape/monte.csv')"
      ],
      "id": "e735635a-6f9b-42cb-9319-30bbd740b4b1"
    },
    {
      "cell_type": "markdown",
      "metadata": {},
      "source": [
        "## Baseline"
      ],
      "id": "3cdbba5b-e9a6-4ef9-b27e-ca522985fe91"
    },
    {
      "cell_type": "code",
      "execution_count": 61,
      "metadata": {},
      "outputs": [],
      "source": [
        "data.query(\"mrate==0 and method!='GNAR'\").plot.box(backend='plotly',x='mrate',color='method',y='mse',facet_col='lags',facet_row='nof_filters',height=600)"
      ],
      "id": "f43895cb-b23f-44b3-b956-f5fb4c238a08"
    },
    {
      "cell_type": "markdown",
      "metadata": {},
      "source": [
        "## random"
      ],
      "id": "305ec354-0321-43fb-bbd6-d4e9e82d949d"
    },
    {
      "cell_type": "code",
      "execution_count": 62,
      "metadata": {},
      "outputs": [],
      "source": [
        "data.query(\"mtype=='rand' and mrate !=0 and method!='GNAR' and mrate!=0.3 and mrate!=0.4\").plot.box(backend='plotly',x='mrate',color='method',y='mse',facet_col='lags',facet_row='inter_method',height=800)\n"
      ],
      "id": "cd9620db-e426-4e17-8f96-04f31962964a"
    },
    {
      "cell_type": "markdown",
      "metadata": {},
      "source": [
        "## block"
      ],
      "id": "a0f1967f-040d-4098-9979-f9f28d384f02"
    },
    {
      "cell_type": "code",
      "execution_count": 63,
      "metadata": {},
      "outputs": [],
      "source": [
        "data.query(\"mtype=='block' and method!='GNAR'\").plot.box(backend='plotly',x='mrate',color='method',y='mse',facet_col='lags',facet_row='nof_filters',height=1200)\n"
      ],
      "id": "b8af68fa-0609-43bc-b09a-27a5a1cb44fe"
    }
  ],
  "nbformat": 4,
  "nbformat_minor": 5,
  "metadata": {
    "kernelspec": {
      "name": "python3",
      "display_name": "Python 3",
      "language": "python"
    },
    "language_info": {
      "name": "python",
      "codemirror_mode": {
        "name": "ipython",
        "version": "3"
      },
      "file_extension": ".py",
      "mimetype": "text/x-python",
      "nbconvert_exporter": "python",
      "pygments_lexer": "ipython3",
      "version": "3.8.0"
    }
  }
}
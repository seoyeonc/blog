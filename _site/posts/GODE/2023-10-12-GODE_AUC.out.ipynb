{
  "cells": [
    {
      "cell_type": "markdown",
      "metadata": {},
      "source": [
        "# \\*\\*\\[GODE\\]\\*\\*AUC\n",
        "\n",
        "SEOYEON CHOI  \n",
        "2023-10-12\n",
        "\n",
        "# Import"
      ],
      "id": "ae9ebe9d-e755-4da5-a827-6d42f8ef30d0"
    },
    {
      "cell_type": "code",
      "execution_count": 152,
      "metadata": {},
      "outputs": [],
      "source": [
        "import numpy as np\n",
        "import matplotlib.pyplot as plt\n",
        "import matplotlib\n",
        "import pandas as pd\n",
        "import random\n",
        "\n",
        "import warnings\n",
        "warnings.simplefilter(\"ignore\", np.ComplexWarning)\n",
        "from haversine import haversine\n",
        "from IPython.display import HTML\n",
        "import plotly.graph_objects as go\n",
        "import copy \n",
        "\n",
        "import tqdm\n",
        "from rpy2.robjects.packages import importr\n",
        "from rpy2.robjects.vectors import FloatVector \n",
        "\n",
        "from pygsp import graphs, filters, plotting, utils\n",
        "\n",
        "from sklearn.metrics import confusion_matrix\n",
        "from sklearn.metrics import precision_score, recall_score, f1_score, accuracy_score\n",
        "\n",
        "from sklearn.neighbors import LocalOutlierFactor\n",
        "from pyod.models.knn import KNN\n",
        "from pyod.models.cblof import CBLOF\n",
        "from sklearn import svm\n",
        "from pyod.models.mcd import MCD\n",
        "from pyod.models.feature_bagging import FeatureBagging\n",
        "from pyod.models.abod import ABOD\n",
        "from alibi_detect.od import IForest\n",
        "from pyod.models.hbos import HBOS\n",
        "from pyod.models.sos import SOS\n",
        "from pyod.models.so_gaal import SO_GAAL\n",
        "from pyod.models.mo_gaal import MO_GAAL\n",
        "from pyod.models.lscp import LSCP\n",
        "from pyod.models.lof import LOF\n",
        "from pyod.models.ocsvm import OCSVM\n",
        "from sklearn.svm import OneClassSVM"
      ],
      "id": "2a4d8094-356e-4769-94d7-e221cd2f38f8"
    },
    {
      "cell_type": "markdown",
      "metadata": {},
      "source": [
        "# Purpose of Post - ROC/AUC"
      ],
      "id": "a090aebc-b15b-494a-a74e-bc20a543f5df"
    },
    {
      "cell_type": "code",
      "execution_count": 156,
      "metadata": {},
      "outputs": [
        {
          "output_type": "display_data",
          "metadata": {},
          "data": {
            "image/png": "[encoded data removed]"
          }
        }
      ],
      "source": [
        "plt.plot(np.array([0,0.2,0.4,0.6,0.8,1.0]),np.array([0,0.2,0.4,0.6,0.8,1.0]))\n",
        "plt.ylabel('TPR')\n",
        "plt.xlabel('FPR')"
      ],
      "id": "f992f513-7659-49bf-96d3-e611243655d8"
    },
    {
      "cell_type": "markdown",
      "metadata": {},
      "source": [
        "x 축 (FPR) = FP / (FP + TN)\n",
        "\n",
        "y 축 (TPR) = TP / (TP + FN)\n",
        "\n",
        "로 만들어진 곡선이 ROC 곡선, 그 아래 면적이 AUC,\n",
        "\n",
        "# Class"
      ],
      "id": "9203b914-4011-4eba-af65-a4bf5c0f1ef2"
    },
    {
      "cell_type": "code",
      "execution_count": 2,
      "metadata": {},
      "outputs": [],
      "source": [
        "class Conf_matrx:\n",
        "    def __init__(self,original,compare):\n",
        "        self.original = original\n",
        "        self.compare = compare\n",
        "    def conf(self,name):\n",
        "        self.conf_matrix = confusion_matrix(self.original, self.compare)\n",
        "        \n",
        "        fig, ax = plt.subplots(figsize=(5, 5))\n",
        "        ax.matshow(self.conf_matrix, cmap=plt.cm.Oranges, alpha=0.3)\n",
        "        for i in range(self.conf_matrix.shape[0]):\n",
        "            for j in range(self.conf_matrix.shape[1]):\n",
        "                ax.text(x=j, y=i,s=self.conf_matrix[i, j], va='center', ha='center', size='xx-large')\n",
        "        plt.xlabel('Predictions', fontsize=18)\n",
        "        plt.ylabel('Actuals', fontsize=18)\n",
        "        plt.title('Confusion Matrix', fontsize=18)\n",
        "        plt.show()\n",
        "        \n",
        "        self.acc = accuracy_score(self.original, self.compare)\n",
        "        self.pre = precision_score(self.original, self.compare)\n",
        "        self.rec = recall_score(self.original, self.compare)\n",
        "        self.f1 = f1_score(self.original, self.compare)\n",
        "        \n",
        "        print('Accuracy: %.3f' % self.acc)\n",
        "        print('Precision: %.3f' % self.pre)\n",
        "        print('Recall: %.3f' % self.rec)\n",
        "        print('F1 Score: %.3f' % self.f1)"
      ],
      "id": "cf09a4b7-f70b-483a-82e3-99c99cc3c0dc"
    },
    {
      "cell_type": "code",
      "execution_count": 3,
      "metadata": {},
      "outputs": [],
      "source": [
        "class Linear:\n",
        "    def __init__(self,df):\n",
        "        self.df = df\n",
        "        self.y = df.y.to_numpy()\n",
        "        self.x = df.x.to_numpy()\n",
        "        self.n = len(self.y)\n",
        "        self.W = w\n",
        "    def _eigen(self):\n",
        "        d= self.W.sum(axis=1)\n",
        "        D= np.diag(d)\n",
        "        self.L = np.diag(1/np.sqrt(d)) @ (D-self.W) @ np.diag(1/np.sqrt(d))\n",
        "        self.lamb, self.Psi = np.linalg.eigh(self.L)\n",
        "        self.Lamb = np.diag(self.lamb)      \n",
        "    def fit(self,threshold=0,sd=20): # fit with ebayesthresh\n",
        "        self._eigen()\n",
        "        self.ybar = self.Psi.T @ self.y # fbar := graph fourier transform of f\n",
        "        self.power = self.ybar**2 \n",
        "        ebayesthresh = importr('EbayesThresh').ebayesthresh\n",
        "        self.power_threshed=np.array(ebayesthresh(FloatVector(self.power),sd=sd))\n",
        "        self.ybar_threshed = np.where(self.power_threshed>threshold,self.ybar,0)\n",
        "        self.yhat = self.Psi@self.ybar_threshed\n",
        "        self.df = self.df.assign(yHat = self.yhat)\n",
        "        self.df = self.df.assign(Residual = self.df.y- self.df.yHat)"
      ],
      "id": "5ac59005-c866-4308-af3d-376e69928bbb"
    },
    {
      "cell_type": "code",
      "execution_count": 4,
      "metadata": {},
      "outputs": [],
      "source": [
        "class Orbit:\n",
        "    def __init__(self,df):\n",
        "        self.df = df \n",
        "        self.f = df.f.to_numpy()\n",
        "        self.x = df.x.to_numpy()\n",
        "        self.y = df.y.to_numpy()\n",
        "        self.n = len(self.f)\n",
        "        self.theta= None\n",
        "    def get_distance(self):\n",
        "        self.D = np.zeros([self.n,self.n])\n",
        "        locations = np.stack([self.x, self.y],axis=1)\n",
        "        for i in tqdm.tqdm(range(self.n)):\n",
        "            for j in range(i,self.n):\n",
        "                self.D[i,j]=np.linalg.norm(locations[i]-locations[j])\n",
        "        self.D = self.D + self.D.T\n",
        "    def get_weightmatrix(self,theta=1,beta=0.5,kappa=4000):\n",
        "        self.theta = theta\n",
        "        dist = np.where(self.D < kappa,self.D,0)\n",
        "        self.W = np.exp(-(dist/self.theta)**2)\n",
        "    def _eigen(self):\n",
        "        d= self.W.sum(axis=1)\n",
        "        D= np.diag(d)\n",
        "        self.L = np.diag(1/np.sqrt(d)) @ (D-self.W) @ np.diag(1/np.sqrt(d))\n",
        "        self.lamb, self.Psi = np.linalg.eigh(self.L)\n",
        "        self.Lamb = np.diag(self.lamb)       \n",
        "    def fit(self,threshold=0,sd=5,ref=20): # fit with ebayesthresh\n",
        "        self._eigen()\n",
        "        self.fbar = self.Psi.T @ self.f # fbar := graph fourier transform of f\n",
        "        self.power = self.fbar**2 \n",
        "        ebayesthresh = importr('EbayesThresh').ebayesthresh\n",
        "        self.power_threshed=np.array(ebayesthresh(FloatVector(self.power),sd=sd))\n",
        "        self.fbar_threshed = np.where(self.power_threshed>threshold,self.fbar,0)\n",
        "        self.fhat = self.Psi@self.fbar_threshed\n",
        "        self.df = self.df.assign(fHat = self.fhat)\n",
        "        self.df = self.df.assign(Residual = self.df.f- self.df.fHat)\n",
        "        self.bottom = np.zeros_like(self.f)\n",
        "        self.width=0.05\n",
        "        self.depth=0.05"
      ],
      "id": "cf41ddd6-2466-4bb4-a402-63ed0ba5bf67"
    },
    {
      "cell_type": "code",
      "execution_count": 5,
      "metadata": {},
      "outputs": [],
      "source": [
        "class BUNNY:\n",
        "    def __init__(self,df):\n",
        "        self.df = df \n",
        "        self.f = df.f.to_numpy()\n",
        "        self.z = df.z.to_numpy()\n",
        "        self.x = df.x.to_numpy()\n",
        "        self.y = df.y.to_numpy()\n",
        "        self.noise = df.noise.to_numpy()\n",
        "        self.fnoise = self.f + self.noise\n",
        "        self.W = _W\n",
        "        self.n = len(self.f)\n",
        "        self.theta= None\n",
        "    def _eigen(self):\n",
        "        d= self.W.sum(axis=1)\n",
        "        D= np.diag(d)\n",
        "        self.L = np.diag(1/np.sqrt(d)) @ (D-self.W) @ np.diag(1/np.sqrt(d))\n",
        "        self.lamb, self.Psi = np.linalg.eigh(self.L)\n",
        "        self.Lamb = np.diag(self.lamb)       \n",
        "    def fit(self,threshold=0,sd=5,ref=6): # fit with ebayesthresh\n",
        "        self._eigen()\n",
        "        self.fbar = self.Psi.T @ self.fnoise # fbar := graph fourier transform of f\n",
        "        self.power = self.fbar**2 \n",
        "        ebayesthresh = importr('EbayesThresh').ebayesthresh\n",
        "        self.power_threshed=np.array(ebayesthresh(FloatVector(self.power),sd=sd))\n",
        "        self.fbar_threshed = np.where(self.power_threshed>threshold,self.fbar,0)\n",
        "        self.fhat = self.Psi@self.fbar_threshed\n",
        "        self.df = self.df.assign(fnoise = self.fnoise)\n",
        "        self.df = self.df.assign(fHat = self.fhat)\n",
        "        self.df = self.df.assign(Residual = self.df.f + self.df.noise - self.df.fHat)\n",
        "        self.bottom = np.zeros_like(self.f)\n",
        "        self.width=0.05\n",
        "        self.depth=0.05"
      ],
      "id": "f1e62c61-755d-4497-a557-b54137e04f18"
    },
    {
      "cell_type": "markdown",
      "metadata": {},
      "source": [
        "# Linear"
      ],
      "id": "975f957c-cb9d-499b-b493-a58637a2541e"
    },
    {
      "cell_type": "code",
      "execution_count": 171,
      "metadata": {},
      "outputs": [],
      "source": [
        "np.random.seed(6)\n",
        "epsilon = np.around(np.random.normal(size=1000),15)\n",
        "signal = np.random.choice(np.concatenate((np.random.uniform(-7, -5, 25).round(15), np.random.uniform(5, 7, 25).round(15), np.repeat(0, 950))), 1000)\n",
        "eta = signal + epsilon\n",
        "outlier_true_one_1 = signal.copy()\n",
        "outlier_true_one_1 = list(map(lambda x: -1 if x!=0 else 1,outlier_true_one_1))"
      ],
      "id": "23dd9607-3d46-4532-bfdb-a8efe0d54cea"
    },
    {
      "cell_type": "code",
      "execution_count": 172,
      "metadata": {},
      "outputs": [],
      "source": [
        "x_1 = np.linspace(0,2,1000)\n",
        "y1_1 = 5 * x_1\n",
        "y_1 = y1_1 + eta # eta = signal + epsilon\n",
        "_df=pd.DataFrame({'x':x_1, 'y':y_1})"
      ],
      "id": "26054efc-46fb-4ee7-b033-82a2f1b7e060"
    },
    {
      "cell_type": "code",
      "execution_count": 173,
      "metadata": {},
      "outputs": [],
      "source": [
        "w=np.zeros((1000,1000))\n",
        "for i in range(1000):\n",
        "    for j in range(1000):\n",
        "        if i==j :\n",
        "            w[i,j] = 0\n",
        "        elif np.abs(i-j) <= 1 : \n",
        "            w[i,j] = 1"
      ],
      "id": "c6595059-c1e1-4b0f-8819-944d48050b0b"
    },
    {
      "cell_type": "markdown",
      "metadata": {},
      "source": [
        "## GODE_Linear"
      ],
      "id": "c683d1f0-f87d-4c0d-861b-adfc33143979"
    },
    {
      "cell_type": "code",
      "execution_count": 179,
      "metadata": {},
      "outputs": [],
      "source": [
        "_Linear = Linear(_df)\n",
        "_Linear.fit(threshold=0,sd=20)"
      ],
      "id": "b59f493d-c9a6-48fb-bce7-8f5f4382920f"
    },
    {
      "cell_type": "code",
      "execution_count": 189,
      "metadata": {},
      "outputs": [
        {
          "output_type": "display_data",
          "metadata": {},
          "data": {
            "image/png": "[encoded data removed]"
          }
        }
      ],
      "source": [
        "plt.plot(_Linear.power_threshed[500:1000])"
      ],
      "id": "f8459e94-8e0c-448d-abb9-47e11a57e49a"
    },
    {
      "cell_type": "code",
      "execution_count": 175,
      "metadata": {},
      "outputs": [],
      "source": [
        "outlier_simul_one = (_Linear.df['Residual']**2).tolist()\n",
        "sorted_data = sorted(outlier_simul_one,reverse=True)\n",
        "index = int(len(sorted_data) * 0.05)\n",
        "threshold = sorted_data[index]\n",
        "outlier_simul_one = list(map(lambda x: -1 if x > threshold else 1,outlier_simul_one))"
      ],
      "id": "902ea068-3528-4b9b-aeee-f21510192ec2"
    },
    {
      "cell_type": "code",
      "execution_count": 176,
      "metadata": {},
      "outputs": [],
      "source": [
        "outlier_simul_one.count(1)"
      ],
      "id": "cdaed96a-e6e9-45f5-805d-d05dda27fb07"
    },
    {
      "cell_type": "code",
      "execution_count": 177,
      "metadata": {},
      "outputs": [],
      "source": [
        "outlier_simul_one.count(-1)"
      ],
      "id": "7742401d-98e8-4701-9d38-b5fe0a4a2db1"
    },
    {
      "cell_type": "code",
      "execution_count": 178,
      "metadata": {},
      "outputs": [
        {
          "output_type": "display_data",
          "metadata": {},
          "data": {
            "image/png": "[encoded data removed]"
          }
        },
        {
          "output_type": "stream",
          "name": "stdout",
          "text": [
            "Accuracy: 0.999\n",
            "Precision: 0.999\n",
            "Recall: 1.000\n",
            "F1 Score: 0.999"
          ]
        }
      ],
      "source": [
        "_conf = Conf_matrx(outlier_true_one_1,outlier_simul_one)\n",
        "_conf.conf(\"GODE\")"
      ],
      "id": "13ae65c1-a6a4-4884-8ba8-16aedf63aa1f"
    },
    {
      "cell_type": "code",
      "execution_count": 169,
      "metadata": {},
      "outputs": [],
      "source": [
        "_conf.conf_matrix[0][1] / (_conf.conf_matrix[0][1] + _conf.conf_matrix[0][0])"
      ],
      "id": "3e320eba-7fb1-4468-ba3f-b2ff9b064f86"
    },
    {
      "cell_type": "markdown",
      "metadata": {},
      "source": [
        "y축(TPR)"
      ],
      "id": "cca415a7-1ebc-4a4f-8db7-2a9c55dfe026"
    },
    {
      "cell_type": "code",
      "execution_count": 170,
      "metadata": {
        "scrolled": true
      },
      "outputs": [],
      "source": [
        "_conf.conf_matrix[1][1] / (_conf.conf_matrix[1][1] + _conf.conf_matrix[0][0])"
      ],
      "id": "0eb70e24-3bee-48dd-abc6-1b53aa0c4910"
    },
    {
      "cell_type": "markdown",
      "metadata": {},
      "source": [
        "## LOF_Linear"
      ],
      "id": "13a9d643-bf4a-4fa0-a494-ab4298f04a5a"
    },
    {
      "cell_type": "code",
      "execution_count": 135,
      "metadata": {},
      "outputs": [],
      "source": [
        "np.random.seed(77)\n",
        "clf = LocalOutlierFactor(contamination=0.05)"
      ],
      "id": "5f85dda1-eb31-4692-a87c-ae62b8e6960d"
    },
    {
      "cell_type": "code",
      "execution_count": 136,
      "metadata": {},
      "outputs": [
        {
          "output_type": "display_data",
          "metadata": {},
          "data": {
            "image/png": "[encoded data removed]"
          }
        },
        {
          "output_type": "stream",
          "name": "stdout",
          "text": [
            "Accuracy: 0.991\n",
            "Precision: 0.995\n",
            "Recall: 0.996\n",
            "F1 Score: 0.995"
          ]
        }
      ],
      "source": [
        "_conf = Conf_matrx(outlier_true_one_1,clf.fit_predict(_df))\n",
        "_conf.conf(\"LOF (Breunig et al., 2000)\")"
      ],
      "id": "416f1c8c-c066-4f39-8a67-7a5d5dcae128"
    },
    {
      "cell_type": "markdown",
      "metadata": {},
      "source": [
        "x축(FPR)"
      ],
      "id": "11e46f5b-e653-41e3-a3bb-30e9a9f32814"
    },
    {
      "cell_type": "code",
      "execution_count": 137,
      "metadata": {},
      "outputs": [],
      "source": [
        "_conf.conf_matrix[0][0] / (_conf.conf_matrix[0][0] + _conf.conf_matrix[0][1])"
      ],
      "id": "31f263b3-a496-429b-855f-d3a4e0fc9435"
    },
    {
      "cell_type": "markdown",
      "metadata": {},
      "source": [
        "y축(TPR)"
      ],
      "id": "a614c62c-ca9b-4e4b-a55e-58aa7d03fed8"
    },
    {
      "cell_type": "code",
      "execution_count": 138,
      "metadata": {},
      "outputs": [],
      "source": [
        "_conf.conf_matrix[0][1] / (_conf.conf_matrix[0][0] + _conf.conf_matrix[0][1])"
      ],
      "id": "a72b30ad-1c95-40b2-958c-4990905b7826"
    },
    {
      "cell_type": "markdown",
      "metadata": {},
      "source": [
        "# Orbit"
      ],
      "id": "3351f615-1b41-4bf1-9e35-1c18c3dfe692"
    },
    {
      "cell_type": "code",
      "execution_count": 140,
      "metadata": {},
      "outputs": [],
      "source": [
        "np.random.seed(1212)\n",
        "nepsilon = np.around(np.random.normal(size=1000),15)\n",
        "signal = np.random.choice(np.concatenate((np.random.uniform(-7, -5, 25).round(15), np.random.uniform(5, 7, 25).round(15), np.repeat(0, 950))), 1000)\n",
        "eta = signal + epsilon\n",
        "np.random.seed(777)\n",
        "pi=np.pi\n",
        "n=1000\n",
        "ang=np.linspace(-pi,pi-2*pi/n,n)\n",
        "r=5+np.cos(np.linspace(0,12*pi,n))\n",
        "vx=r*np.cos(ang)\n",
        "vy=r*np.sin(ang)\n",
        "f1=10*np.sin(np.linspace(0,6*pi,n))\n",
        "f = f1 + eta\n",
        "_df = pd.DataFrame({'x' : vx, 'y' : vy, 'f' : f})\n",
        "outlier_true_one = signal.copy()\n",
        "outlier_true_one = list(map(lambda x: -1 if x!=0 else 1,outlier_true_one))"
      ],
      "id": "6898ee27-f374-4340-b1d0-00bcbaa30927"
    },
    {
      "cell_type": "markdown",
      "metadata": {},
      "source": [
        "## GODE_Orbit"
      ],
      "id": "3177c874-ce66-458d-a7c0-d57b0e6345a9"
    },
    {
      "cell_type": "code",
      "execution_count": 141,
      "metadata": {},
      "outputs": [
        {
          "output_type": "stream",
          "name": "stderr",
          "text": [
            "100%|██████████| 1000/1000 [00:01<00:00, 561.32it/s]"
          ]
        }
      ],
      "source": [
        "_Orbit = Orbit(_df)\n",
        "_Orbit.get_distance()"
      ],
      "id": "fe2e8210-9e27-4eb2-9cf1-15070bba1803"
    },
    {
      "cell_type": "code",
      "execution_count": 142,
      "metadata": {},
      "outputs": [],
      "source": [
        "_Orbit.get_weightmatrix(theta=(_Orbit.D[_Orbit.D>0].mean()),kappa=2500) \n",
        "_Orbit.fit(threshold=0,sd=15,ref=20)"
      ],
      "id": "3f73d0ae-e521-41c6-b9d8-abc3e67d27ce"
    },
    {
      "cell_type": "code",
      "execution_count": 143,
      "metadata": {},
      "outputs": [],
      "source": [
        "outlier_simul_one = (_Orbit.df['Residual']**2).tolist()\n",
        "sorted_data = sorted(outlier_simul_one,reverse=True)\n",
        "index = int(len(sorted_data) * 0.05)\n",
        "threshold = sorted_data[index]\n",
        "outlier_simul_one = list(map(lambda x: -1 if x > threshold else 1,outlier_simul_one))"
      ],
      "id": "2ed80c63-f165-4e39-94f5-23d9551af1c4"
    },
    {
      "cell_type": "code",
      "execution_count": 144,
      "metadata": {},
      "outputs": [],
      "source": [
        "outlier_simul_one.count(1)"
      ],
      "id": "f8f608e2-bcd0-4ab7-b686-db4c04a565e6"
    },
    {
      "cell_type": "code",
      "execution_count": 145,
      "metadata": {},
      "outputs": [],
      "source": [
        "outlier_simul_one.count(-1)"
      ],
      "id": "1589ba3a-9cd7-4422-ba65-9719a40aa854"
    },
    {
      "cell_type": "code",
      "execution_count": 146,
      "metadata": {},
      "outputs": [
        {
          "output_type": "display_data",
          "metadata": {},
          "data": {
            "image/png": "[encoded data removed]"
          }
        },
        {
          "output_type": "stream",
          "name": "stdout",
          "text": [
            "Accuracy: 0.999\n",
            "Precision: 1.000\n",
            "Recall: 0.999\n",
            "F1 Score: 0.999"
          ]
        }
      ],
      "source": [
        "_conf = Conf_matrx(outlier_true_one,outlier_simul_one)\n",
        "_conf.conf(\"GODE\")"
      ],
      "id": "537d33ce-968b-43af-bc33-972dc3022262"
    },
    {
      "cell_type": "markdown",
      "metadata": {},
      "source": [
        "x축(FPR)"
      ],
      "id": "cb7a5870-c79e-4803-863c-bd2d75a332ae"
    },
    {
      "cell_type": "code",
      "execution_count": 147,
      "metadata": {},
      "outputs": [],
      "source": [
        "_conf.conf_matrix[0][0] / (_conf.conf_matrix[0][0] + _conf.conf_matrix[0][1])"
      ],
      "id": "e735136e-a58b-40be-ad61-fc75c5073134"
    },
    {
      "cell_type": "markdown",
      "metadata": {},
      "source": [
        "y축(TPR)"
      ],
      "id": "4ea83d26-074b-4f8c-a784-277ad147d7a3"
    },
    {
      "cell_type": "code",
      "execution_count": 148,
      "metadata": {},
      "outputs": [],
      "source": [
        "_conf.conf_matrix[0][1] / (_conf.conf_matrix[0][0] + _conf.conf_matrix[0][1])"
      ],
      "id": "ea999397-4db1-4c8c-8847-587c06c60850"
    }
  ],
  "nbformat": 4,
  "nbformat_minor": 5,
  "metadata": {
    "kernelspec": {
      "name": "python3",
      "display_name": "Python 3 (ipykernel)",
      "language": "python"
    },
    "language_info": {
      "name": "python",
      "codemirror_mode": {
        "name": "ipython",
        "version": "3"
      },
      "file_extension": ".py",
      "mimetype": "text/x-python",
      "nbconvert_exporter": "python",
      "pygments_lexer": "ipython3",
      "version": "3.10.11"
    }
  }
}
{
  "cells": [
    {
      "cell_type": "markdown",
      "metadata": {},
      "source": [
        "# Note_weight amatrix\n",
        "\n",
        "GUEBIN CHOI  \n",
        "2023-04-25\n",
        "\n",
        "> weight matrix"
      ],
      "id": "e03ef81d-564b-41f9-bcca-f2a5a3c46285"
    },
    {
      "cell_type": "code",
      "execution_count": 41,
      "metadata": {},
      "outputs": [],
      "source": [
        "import numpy as np"
      ],
      "id": "f5b9857a-f4a7-4f05-aadd-11b49aa33e14"
    },
    {
      "cell_type": "markdown",
      "metadata": {},
      "source": [
        "`-` 하이퍼파라메터"
      ],
      "id": "1b1c867b-c238-4fdb-970e-d56c597e5f73"
    },
    {
      "cell_type": "code",
      "execution_count": 2,
      "metadata": {},
      "outputs": [],
      "source": [
        "T = 5 # time\n",
        "N = 3 # number of nodes "
      ],
      "id": "279df7c4-c1db-485f-aea0-f4ec8991c7a2"
    },
    {
      "cell_type": "markdown",
      "metadata": {},
      "source": [
        "`-` wt,ws,f"
      ],
      "id": "80ed5d38-61bb-451a-ad0e-93f4164452cb"
    },
    {
      "cell_type": "code",
      "execution_count": 3,
      "metadata": {},
      "outputs": [],
      "source": [
        "wt = np.array([abs(i-j) < 2 for i in range(T) for j in range(T)]).reshape(T,T)*1.0 - np.eye(T)\n",
        "wt"
      ],
      "id": "aeef1a3e-a953-4c39-becd-bf117b6c4c27"
    },
    {
      "cell_type": "code",
      "execution_count": 4,
      "metadata": {},
      "outputs": [],
      "source": [
        "ws = np.array([[0,1,1],[1,0,0],[1,0,0]]) + np.eye(N)\n",
        "ws"
      ],
      "id": "6516689a-5e02-469b-9c03-fe1849fc3512"
    },
    {
      "cell_type": "code",
      "execution_count": 5,
      "metadata": {},
      "outputs": [],
      "source": [
        "f = np.random.randn(T,N)\n",
        "f"
      ],
      "id": "6ad4d8ca-9e6c-44a9-9f8a-3ba46f2e7da4"
    },
    {
      "cell_type": "markdown",
      "metadata": {},
      "source": [
        "`-` f를 펼침"
      ],
      "id": "96c47497-6480-49a1-93db-92cdd3e2b540"
    },
    {
      "cell_type": "code",
      "execution_count": 6,
      "metadata": {},
      "outputs": [],
      "source": [
        "f_flatten = f.reshape(-1,1)\n",
        "f_flatten"
      ],
      "id": "c59f097f-5660-4d4c-93d0-a79431630655"
    },
    {
      "cell_type": "markdown",
      "metadata": {},
      "source": [
        "`-` 펼쳐진 f에 대응하는 W 생성"
      ],
      "id": "cd625a91-1863-4a81-b722-855bf4ed207a"
    },
    {
      "cell_type": "code",
      "execution_count": 7,
      "metadata": {},
      "outputs": [],
      "source": [
        "def flatten_weight(ws,wt):\n",
        "  N = len(ws)\n",
        "  T = len(wt)\n",
        "  Is = np.eye(N,N)\n",
        "  lst = [[0]*T for t in range(T)]\n",
        "  for i in range(T):\n",
        "    for j in range(T):\n",
        "      if i==j: \n",
        "        lst[i][j] = ws \n",
        "      elif abs(i-j)==1:\n",
        "        lst[i][j] = Is\n",
        "      else:\n",
        "        lst[i][j] = Is*0\n",
        "  return np.concatenate([np.concatenate(l,axis=1) for l in lst],axis=0)"
      ],
      "id": "1be1138b-5fdc-4e90-8a17-5999320f2bd6"
    },
    {
      "cell_type": "code",
      "execution_count": 8,
      "metadata": {},
      "outputs": [],
      "source": [
        "W_flatten = flatten_weight(ws,wt)\n",
        "W_flatten"
      ],
      "id": "888d4640-c6de-492f-a5f2-bef68158748f"
    },
    {
      "cell_type": "markdown",
      "metadata": {},
      "source": [
        "`-` trim\n",
        "\n",
        "``` python\n",
        "ftrimed_flatten = trim(f_flatten,W_flatten)\n",
        "```\n",
        "\n",
        "임의로 `ftrimed_flatten`이 `f_flatten`과 같다고 생각하자."
      ],
      "id": "80607b4e-e4b8-4e63-ad14-6b9ecd28757e"
    },
    {
      "cell_type": "code",
      "execution_count": 9,
      "metadata": {},
      "outputs": [],
      "source": [
        "ftrimed_flatten = f_flatten\n",
        "ftrimed_flatten"
      ],
      "id": "7f2292bd-81c4-4b84-acff-1a0b28f999b4"
    },
    {
      "cell_type": "markdown",
      "metadata": {},
      "source": [
        "`-` ftrimed"
      ],
      "id": "edd78a70-96ca-4ce1-a922-43f8e3576062"
    },
    {
      "cell_type": "code",
      "execution_count": 10,
      "metadata": {},
      "outputs": [],
      "source": [
        "ftrimed = ftrimed_flatten.reshape(T,N) \n",
        "ftrimed"
      ],
      "id": "531c6d0d-7910-405d-b063-9cea61f8781e"
    },
    {
      "cell_type": "code",
      "execution_count": 11,
      "metadata": {},
      "outputs": [],
      "source": [
        "f # 와 비교.. 잘 reconstructiond 되어씀 "
      ],
      "id": "8cec8957-299b-4420-a94e-a44260a06f98"
    },
    {
      "cell_type": "markdown",
      "metadata": {},
      "source": [
        "------------------------------------------------------------------------\n",
        "\n",
        "## Chickenpox"
      ],
      "id": "256c0fea-5db9-48c8-bf77-5faeeeaa0ca7"
    },
    {
      "cell_type": "code",
      "execution_count": 12,
      "metadata": {},
      "outputs": [],
      "source": [
        "from torch_geometric_temporal.dataset import ChickenpoxDatasetLoader\n",
        "loader1 = ChickenpoxDatasetLoader()"
      ],
      "id": "f8090fef-3b2b-48a7-a687-19cf23ea1507"
    },
    {
      "cell_type": "code",
      "execution_count": 13,
      "metadata": {},
      "outputs": [],
      "source": [
        "a = loader1.get_dataset(lags=1)"
      ],
      "id": "76286f7a-d620-463b-9735-bcf7c81d6e2c"
    },
    {
      "cell_type": "markdown",
      "metadata": {},
      "source": [
        "time,number of nodes"
      ],
      "id": "a17c420b-2386-46f2-b217-1e520a4c9e5b"
    },
    {
      "cell_type": "code",
      "execution_count": 14,
      "metadata": {},
      "outputs": [],
      "source": [
        "T,N,_ = np.array(a.features).shape"
      ],
      "id": "05b9bc7b-bfd1-47fe-b084-37fdda6d0c76"
    },
    {
      "cell_type": "markdown",
      "metadata": {},
      "source": [
        "`-` wt,ws,f"
      ],
      "id": "c517ff21-7d3f-4be0-a8e3-6eb18f06dcda"
    },
    {
      "cell_type": "code",
      "execution_count": 15,
      "metadata": {},
      "outputs": [],
      "source": [
        "wt = np.zeros((T,T))\n",
        "for i in range(T):\n",
        "    for j in range(T):\n",
        "        if i==j :\n",
        "            wt[i,j] = 0\n",
        "        elif np.abs(i-j) <= 1 : \n",
        "            wt[i,j] = 1"
      ],
      "id": "3445330d-3c12-49b9-bcd7-f4c3df68cf66"
    },
    {
      "cell_type": "code",
      "execution_count": 16,
      "metadata": {},
      "outputs": [],
      "source": [
        "mtr = a.edge_index\n",
        "mtr2 = a.edge_weight"
      ],
      "id": "115ec85e-eb74-4d06-b3a4-d8b3a681be0e"
    },
    {
      "cell_type": "code",
      "execution_count": 17,
      "metadata": {},
      "outputs": [],
      "source": [
        "ws = np.zeros((N,N))\n",
        "for i in range(N):\n",
        "    for j in range(mtr2.shape[0]):\n",
        "        if mtr[0][j] == i :\n",
        "            ws[i,mtr[1][j]] = mtr2[j]"
      ],
      "id": "0a2bfef2-c624-447a-a4ef-fdae5a0dac22"
    },
    {
      "cell_type": "code",
      "execution_count": 18,
      "metadata": {},
      "outputs": [],
      "source": [
        "np.array(ws).shape"
      ],
      "id": "3af7165c-2927-44ef-9fdc-0d5b300fd61d"
    },
    {
      "cell_type": "code",
      "execution_count": 19,
      "metadata": {},
      "outputs": [],
      "source": [
        "f = np.array(a.features).reshape(T,N)"
      ],
      "id": "d0745769-8b46-4081-aef8-a82162128542"
    },
    {
      "cell_type": "markdown",
      "metadata": {},
      "source": [
        "`-` f를 펼침"
      ],
      "id": "f6be72fa-79f0-449e-9d78-ef465655bb9b"
    },
    {
      "cell_type": "code",
      "execution_count": 20,
      "metadata": {},
      "outputs": [],
      "source": [
        "f_flatten = f.reshape(-1,1)\n",
        "f_flatten"
      ],
      "id": "9ac9cfbc-794e-4d5d-9cb7-c9b1df1f059f"
    },
    {
      "cell_type": "markdown",
      "metadata": {},
      "source": [
        "`-` 펼쳐진 f에 대응하는 W 생성"
      ],
      "id": "5669ca77-489e-40ca-ae76-0dd419209633"
    },
    {
      "cell_type": "code",
      "execution_count": 21,
      "metadata": {},
      "outputs": [],
      "source": [
        "def flatten_weight(ws,wt):\n",
        "  N = len(ws)\n",
        "  T = len(wt)\n",
        "  Is = np.eye(N,N)\n",
        "  lst = [[0]*T for t in range(T)]\n",
        "  for i in range(T):\n",
        "    for j in range(T):\n",
        "      if i==j: \n",
        "        lst[i][j] = ws \n",
        "      elif abs(i-j)==1:\n",
        "        lst[i][j] = Is\n",
        "      else:\n",
        "        lst[i][j] = Is*0\n",
        "  return np.concatenate([np.concatenate(l,axis=1) for l in lst],axis=0)"
      ],
      "id": "779921f2-c76f-4fbd-a5bc-df7079979409"
    },
    {
      "cell_type": "code",
      "execution_count": 22,
      "metadata": {},
      "outputs": [],
      "source": [
        "W_flatten = flatten_weight(ws,wt)\n",
        "W_flatten"
      ],
      "id": "62a2565e-b0cd-4f00-804c-242c516f7e8e"
    },
    {
      "cell_type": "code",
      "execution_count": 50,
      "metadata": {},
      "outputs": [],
      "source": [
        "np.save('./weight_st/W_chickenpox.npy', W_flatten)"
      ],
      "id": "173d9c9b-bb48-4bb2-83e5-7864d6d44be1"
    },
    {
      "cell_type": "code",
      "execution_count": 51,
      "metadata": {},
      "outputs": [],
      "source": [
        "np.load('./weight_st/W_chickenpox.npy')"
      ],
      "id": "9c4f9336-47ce-4fb1-bddc-5fddcb6d159e"
    },
    {
      "cell_type": "code",
      "execution_count": 23,
      "metadata": {},
      "outputs": [],
      "source": [
        "d = np.array(W_flatten.sum(axis=1))"
      ],
      "id": "f426caeb-35fa-40ee-9330-c785fd5eb0dd"
    },
    {
      "cell_type": "code",
      "execution_count": 24,
      "metadata": {},
      "outputs": [],
      "source": [
        "D = np.diag(d)"
      ],
      "id": "d0c22adc-fdc6-45ba-ae51-a2f78f7f44f0"
    },
    {
      "cell_type": "code",
      "execution_count": 25,
      "metadata": {},
      "outputs": [],
      "source": [
        "L = np.array(np.diag(1/np.sqrt(d)) @ (D-W_flatten) @ np.diag(1/np.sqrt(d)))"
      ],
      "id": "18ea7245-eb02-4466-b3e5-c3240d671467"
    },
    {
      "cell_type": "code",
      "execution_count": 26,
      "metadata": {},
      "outputs": [],
      "source": [
        "lamb, Psi = np.linalg.eigh(L)"
      ],
      "id": "9051f8e4-2568-4183-ae30-268b623a9d11"
    },
    {
      "cell_type": "code",
      "execution_count": 29,
      "metadata": {},
      "outputs": [],
      "source": [
        "np.save('./weight_st/Psi_chickenpox.npy', Psi)"
      ],
      "id": "b71b6b2e-9d1e-4017-9e73-89fc49f3501c"
    },
    {
      "cell_type": "code",
      "execution_count": 30,
      "metadata": {},
      "outputs": [],
      "source": [
        "np.load('./weight_st/Psi_chickenpox.npy')"
      ],
      "id": "1bfb591a-c45d-4a92-926c-d6a930d87301"
    },
    {
      "cell_type": "markdown",
      "metadata": {},
      "source": [
        "`-` trim\n",
        "\n",
        "``` python\n",
        "ftrimed_flatten = trim(f_flatten,W_flatten)\n",
        "```\n",
        "\n",
        "------------------------------------------------------------------------\n",
        "\n",
        "## Pedalme"
      ],
      "id": "21abe1a2-455b-4687-be26-a55a7166dbaa"
    },
    {
      "cell_type": "code",
      "execution_count": 55,
      "metadata": {},
      "outputs": [],
      "source": [
        "from torch_geometric_temporal.dataset import PedalMeDatasetLoader\n",
        "loader2 = PedalMeDatasetLoader()"
      ],
      "id": "54a60edd-7c79-4bef-9b4a-b1e40f4d4a91"
    },
    {
      "cell_type": "code",
      "execution_count": 56,
      "metadata": {},
      "outputs": [],
      "source": [
        "a = loader2.get_dataset(lags=1)"
      ],
      "id": "958c205b-edb9-4846-a577-fdfd00338427"
    },
    {
      "cell_type": "markdown",
      "metadata": {},
      "source": [
        "time,number of nodes"
      ],
      "id": "4c4e19e4-a759-4912-9903-ebf7fcbf3e78"
    },
    {
      "cell_type": "code",
      "execution_count": 57,
      "metadata": {},
      "outputs": [],
      "source": [
        "T,N,_ = np.array(a.features).shape"
      ],
      "id": "9a56887a-3075-417a-96a6-869710da202e"
    },
    {
      "cell_type": "markdown",
      "metadata": {},
      "source": [
        "`-` wt,ws,f"
      ],
      "id": "bc13405d-7142-430a-b97f-e98d340dde62"
    },
    {
      "cell_type": "code",
      "execution_count": 58,
      "metadata": {},
      "outputs": [],
      "source": [
        "wt = np.zeros((T,T))\n",
        "for i in range(T):\n",
        "    for j in range(T):\n",
        "        if i==j :\n",
        "            wt[i,j] = 0\n",
        "        elif np.abs(i-j) <= 1 : \n",
        "            wt[i,j] = 1"
      ],
      "id": "0a66c416-d370-445b-8bb3-a962b47d98d1"
    },
    {
      "cell_type": "code",
      "execution_count": 59,
      "metadata": {},
      "outputs": [],
      "source": [
        "mtr = a.edge_index\n",
        "mtr2 = a.edge_weight"
      ],
      "id": "8b4ab779-12bb-43cb-9582-7a8af0ed53b3"
    },
    {
      "cell_type": "code",
      "execution_count": 60,
      "metadata": {},
      "outputs": [],
      "source": [
        "ws = np.zeros((N,N))\n",
        "for i in range(N):\n",
        "    for j in range(mtr2.shape[0]):\n",
        "        if mtr[0][j] == i :\n",
        "            ws[i,mtr[1][j]] = mtr2[j]"
      ],
      "id": "e68e6a92-506f-4311-9765-a06732d36aeb"
    },
    {
      "cell_type": "code",
      "execution_count": 61,
      "metadata": {},
      "outputs": [],
      "source": [
        "np.array(wt).shape"
      ],
      "id": "3189da81-4a80-43f5-b263-087413469473"
    },
    {
      "cell_type": "code",
      "execution_count": 62,
      "metadata": {},
      "outputs": [],
      "source": [
        "np.array(ws).shape"
      ],
      "id": "76c16797-4710-40d4-91ae-9aeefb3afe2b"
    },
    {
      "cell_type": "code",
      "execution_count": 63,
      "metadata": {},
      "outputs": [],
      "source": [
        "34*15"
      ],
      "id": "9228f66c-48e3-4eb2-b5b6-3c86c0f9e691"
    },
    {
      "cell_type": "code",
      "execution_count": 64,
      "metadata": {},
      "outputs": [],
      "source": [
        "f = np.array(a.features).reshape(T,N)"
      ],
      "id": "afc7bb35-c789-44e7-bbe4-1e22cc186b43"
    },
    {
      "cell_type": "markdown",
      "metadata": {},
      "source": [
        "`-` f를 펼침"
      ],
      "id": "8bc7b7c1-b6bc-42c0-be65-44e231b9eaa7"
    },
    {
      "cell_type": "code",
      "execution_count": 65,
      "metadata": {},
      "outputs": [],
      "source": [
        "f_flatten = f.reshape(-1,1)\n",
        "# f_flatten"
      ],
      "id": "ca6080a9-dcea-4f13-a1a6-2adf5852a2e6"
    },
    {
      "cell_type": "markdown",
      "metadata": {},
      "source": [
        "`-` 펼쳐진 f에 대응하는 W 생성"
      ],
      "id": "12cedf32-7092-42a7-b410-6b5ca27495b4"
    },
    {
      "cell_type": "code",
      "execution_count": 66,
      "metadata": {},
      "outputs": [],
      "source": [
        "def flatten_weight(ws,wt):\n",
        "  N = len(ws)\n",
        "  T = len(wt)\n",
        "  Is = np.eye(N,N)\n",
        "  lst = [[0]*T for t in range(T)]\n",
        "  for i in range(T):\n",
        "    for j in range(T):\n",
        "      if i==j: \n",
        "        lst[i][j] = ws \n",
        "      elif abs(i-j)==1:\n",
        "        lst[i][j] = Is\n",
        "      else:\n",
        "        lst[i][j] = Is*0\n",
        "  return np.concatenate([np.concatenate(l,axis=1) for l in lst],axis=0)"
      ],
      "id": "666b4aea-11cd-43ea-b38f-425cbc78d063"
    },
    {
      "cell_type": "code",
      "execution_count": 67,
      "metadata": {},
      "outputs": [],
      "source": [
        "W_flatten = flatten_weight(ws,wt)\n",
        "W_flatten"
      ],
      "id": "a788844d-2409-4e62-a420-ccce39656442"
    },
    {
      "cell_type": "markdown",
      "metadata": {},
      "source": [
        "`-` trim\n",
        "\n",
        "``` python\n",
        "ftrimed_flatten = trim(f_flatten,W_flatten)\n",
        "```"
      ],
      "id": "172aaa03-3608-4585-86a8-a00155420897"
    },
    {
      "cell_type": "code",
      "execution_count": 68,
      "metadata": {},
      "outputs": [],
      "source": [
        "np.save('./weight_st/W_pedalme.npy', W_flatten)"
      ],
      "id": "b07b6636-b8f0-4185-8481-eeb767093762"
    },
    {
      "cell_type": "code",
      "execution_count": 54,
      "metadata": {},
      "outputs": [],
      "source": [
        "np.load('./weight_st/W_pedalme.npy')"
      ],
      "id": "4702fd34-d633-43b5-b73a-ea412cefb0c8"
    },
    {
      "cell_type": "code",
      "execution_count": 68,
      "metadata": {},
      "outputs": [],
      "source": [
        "d = np.array(W_flatten.sum(axis=1))"
      ],
      "id": "d834be09-0044-4bef-8ef7-5a397b846be1"
    },
    {
      "cell_type": "code",
      "execution_count": 69,
      "metadata": {},
      "outputs": [],
      "source": [
        "D = np.diag(d)"
      ],
      "id": "7da63c71-be61-4712-a578-bfc7f24439eb"
    },
    {
      "cell_type": "code",
      "execution_count": 70,
      "metadata": {},
      "outputs": [],
      "source": [
        "L = np.array(np.diag(1/np.sqrt(d)) @ (D-W_flatten) @ np.diag(1/np.sqrt(d)))"
      ],
      "id": "f1f2d433-79bd-4544-80d4-3b38da083a88"
    },
    {
      "cell_type": "code",
      "execution_count": 71,
      "metadata": {},
      "outputs": [],
      "source": [
        "lamb, Psi = np.linalg.eigh(L)"
      ],
      "id": "47ef6939-aa78-48a0-ac2d-0c28fe7d05db"
    },
    {
      "cell_type": "code",
      "execution_count": 73,
      "metadata": {},
      "outputs": [],
      "source": [
        "Psi.T.shape"
      ],
      "id": "e70ee063-1206-4ead-a1d3-674e019d3add"
    },
    {
      "cell_type": "code",
      "execution_count": 74,
      "metadata": {},
      "outputs": [],
      "source": [
        "Psi.shape"
      ],
      "id": "bd5a3feb-a56b-4936-928a-409ecd0b68cd"
    },
    {
      "cell_type": "code",
      "execution_count": 47,
      "metadata": {},
      "outputs": [],
      "source": [
        "np.save('./weight_st/Psi_pedalme.npy', Psi)"
      ],
      "id": "4fb570ec-4a7f-43ee-88cf-10e38c69c3a5"
    },
    {
      "cell_type": "code",
      "execution_count": 48,
      "metadata": {},
      "outputs": [],
      "source": [
        "np.load('./weight_st/Psi_pedalme.npy')"
      ],
      "id": "50761348-63dc-4ecd-8877-93cd27dfee62"
    },
    {
      "cell_type": "markdown",
      "metadata": {},
      "source": [
        "------------------------------------------------------------------------\n",
        "\n",
        "## Wikimath"
      ],
      "id": "1b74ccd7-5635-4011-968f-b04db277b14b"
    },
    {
      "cell_type": "code",
      "execution_count": 4,
      "metadata": {},
      "outputs": [],
      "source": [
        "from torch_geometric_temporal.dataset import WikiMathsDatasetLoader\n",
        "loader3 = WikiMathsDatasetLoader()"
      ],
      "id": "b5d2d3d0-1562-4380-acfa-73513d23351e"
    },
    {
      "cell_type": "code",
      "execution_count": 5,
      "metadata": {},
      "outputs": [],
      "source": [
        "a = loader3.get_dataset(lags=1)"
      ],
      "id": "16a73b43-e2ba-4ee5-a34d-92a18e09c69d"
    },
    {
      "cell_type": "markdown",
      "metadata": {},
      "source": [
        "time,number of nodes"
      ],
      "id": "c0b34492-c56f-46f4-bc16-30bd20a4be84"
    },
    {
      "cell_type": "code",
      "execution_count": 6,
      "metadata": {},
      "outputs": [],
      "source": [
        "T,N,_ = np.array(a.features).shape"
      ],
      "id": "df390fc3-d64a-47b8-8869-0a4726359df0"
    },
    {
      "cell_type": "markdown",
      "metadata": {},
      "source": [
        "`-` wt,ws,f"
      ],
      "id": "4bca1e07-3e6d-428b-b3de-5bda6873f04d"
    },
    {
      "cell_type": "code",
      "execution_count": 7,
      "metadata": {},
      "outputs": [],
      "source": [
        "wt = np.zeros((T,T))\n",
        "for i in range(T):\n",
        "    for j in range(T):\n",
        "        if i==j :\n",
        "            wt[i,j] = 0\n",
        "        elif np.abs(i-j) <= 1 : \n",
        "            wt[i,j] = 1"
      ],
      "id": "99369eeb-c774-41b5-a288-cec3966f2ea3"
    },
    {
      "cell_type": "code",
      "execution_count": 8,
      "metadata": {},
      "outputs": [],
      "source": [
        "mtr = a.edge_index\n",
        "mtr2 = a.edge_weight"
      ],
      "id": "d4633e9f-6399-48df-ae4d-075eff1a3f42"
    },
    {
      "cell_type": "code",
      "execution_count": 9,
      "metadata": {},
      "outputs": [],
      "source": [
        "np.array(mtr).shape"
      ],
      "id": "bf091adb-9bfe-435a-abf6-76b35db17d8f"
    },
    {
      "cell_type": "code",
      "execution_count": 10,
      "metadata": {},
      "outputs": [],
      "source": [
        "np.array(mtr2).shape"
      ],
      "id": "923369a1-0c28-4912-aecc-95f25d2a54d8"
    },
    {
      "cell_type": "code",
      "execution_count": 12,
      "metadata": {},
      "outputs": [],
      "source": [
        "mtr"
      ],
      "id": "f5744ee4-1753-4584-8bc5-2a9e12f0194b"
    },
    {
      "cell_type": "code",
      "execution_count": 40,
      "metadata": {},
      "outputs": [],
      "source": [
        "pd.DataFrame(mtr2).iloc[:,0].unique()"
      ],
      "id": "e0a78d55-fc6a-4540-83fc-a4a89b123a58"
    },
    {
      "cell_type": "code",
      "execution_count": 9,
      "metadata": {},
      "outputs": [],
      "source": [
        "ws = np.zeros((N,N))\n",
        "for i in range(N):\n",
        "    for j in range(mtr2.shape[0]):\n",
        "        if mtr[0][j] == i :\n",
        "            ws[i,mtr[1][j]] = mtr2[j]"
      ],
      "id": "034c0e66-ca93-4ba1-a08f-c490e6ddc399"
    },
    {
      "cell_type": "code",
      "execution_count": 10,
      "metadata": {},
      "outputs": [],
      "source": [
        "np.array(ws).shape"
      ],
      "id": "e2b2ac0d-8348-461a-a3fe-6b940ef0b0c8"
    },
    {
      "cell_type": "code",
      "execution_count": 11,
      "metadata": {},
      "outputs": [],
      "source": [
        "f = np.array(a.features).reshape(T,N)"
      ],
      "id": "34536770-80d9-486d-8976-8d124cde3c56"
    },
    {
      "cell_type": "markdown",
      "metadata": {},
      "source": [
        "`-` f를 펼침"
      ],
      "id": "b906cb5b-b51f-444c-a3b0-761848bedab6"
    },
    {
      "cell_type": "code",
      "execution_count": 12,
      "metadata": {},
      "outputs": [],
      "source": [
        "f_flatten = f.reshape(-1,1)\n",
        "# f_flatten"
      ],
      "id": "3008bccf-c6df-476c-85a2-5c0ccfe79a9c"
    },
    {
      "cell_type": "markdown",
      "metadata": {},
      "source": [
        "`-` 펼쳐진 f에 대응하는 W 생성"
      ],
      "id": "16256765-ae11-4c85-97e2-01772989fe8c"
    },
    {
      "cell_type": "code",
      "execution_count": 13,
      "metadata": {},
      "outputs": [],
      "source": [
        "N = len(ws)\n",
        "T = len(wt)\n",
        "Is = np.eye(N,N)\n",
        "lst = [[0]*T for t in range(T)]"
      ],
      "id": "9cae3b5e-b201-4f3b-8926-f80aaf15e5db"
    },
    {
      "cell_type": "code",
      "execution_count": 13,
      "metadata": {},
      "outputs": [],
      "source": [
        "def flatten_weight(ws,wt):\n",
        "  N = len(ws)\n",
        "  T = len(wt)\n",
        "  Is = np.eye(N,N)\n",
        "  lst = [[0]*T for t in range(T)]\n",
        "  for i in range(T):\n",
        "    for j in range(T):\n",
        "      if i==j: \n",
        "        lst[i][j] = ws \n",
        "      elif abs(i-j)==1:\n",
        "        lst[i][j] = Is\n",
        "      else:\n",
        "        lst[i][j] = Is*0\n",
        "  return np.concatenate([np.concatenate(l,axis=1) for l in lst],axis=0)"
      ],
      "id": "399f3baf-7441-438d-846b-c49dc0e3bda6"
    },
    {
      "cell_type": "code",
      "execution_count": null,
      "metadata": {},
      "outputs": [],
      "source": [
        "W_flatten = flatten_weight(ws,wt)\n",
        "W_flatten"
      ],
      "id": "35adfc4b-7866-4787-b347-9856a51de987"
    },
    {
      "cell_type": "markdown",
      "metadata": {},
      "source": [
        "`-` trim\n",
        "\n",
        "``` python\n",
        "ftrimed_flatten = trim(f_flatten,W_flatten)\n",
        "```"
      ],
      "id": "a5c20040-b7cb-4ab5-ae50-caf44f487bb3"
    },
    {
      "cell_type": "code",
      "execution_count": null,
      "metadata": {},
      "outputs": [],
      "source": [
        "np.save('./weight_st/W_wikimath.npy', W_flatten)"
      ],
      "id": "723191a6-d029-4127-a16f-50dc790fd9b6"
    },
    {
      "cell_type": "code",
      "execution_count": null,
      "metadata": {},
      "outputs": [],
      "source": [
        "np.load('./weight_st/W_wikimath.npy')"
      ],
      "id": "84ce46c9-d409-41c6-966f-e8385741d82e"
    },
    {
      "cell_type": "markdown",
      "metadata": {},
      "source": [
        "------------------------------------------------------------------------\n",
        "\n",
        "## Windmillsmall"
      ],
      "id": "1702fd3e-5450-44bd-9c8a-e1a7ebbf47c0"
    },
    {
      "cell_type": "code",
      "execution_count": 12,
      "metadata": {},
      "outputs": [],
      "source": [
        "from torch_geometric_temporal.dataset import WindmillOutputSmallDatasetLoader\n",
        "loader6 = WindmillOutputSmallDatasetLoader()"
      ],
      "id": "0e44ec0e-4143-4c35-93c3-0749e4d49c60"
    },
    {
      "cell_type": "code",
      "execution_count": 13,
      "metadata": {},
      "outputs": [],
      "source": [
        "a = loader6.get_dataset(lags=1)"
      ],
      "id": "17cf5096-8ed3-40c3-a481-ba14286b4438"
    },
    {
      "cell_type": "markdown",
      "metadata": {},
      "source": [
        "time,number of nodes"
      ],
      "id": "1cc5d693-4255-4590-8967-7df8b21dab7d"
    },
    {
      "cell_type": "code",
      "execution_count": 14,
      "metadata": {},
      "outputs": [],
      "source": [
        "T,N,_ = np.array(a.features).shape"
      ],
      "id": "523158fa-31a3-451c-8a76-1d0f7fe1ff5c"
    },
    {
      "cell_type": "markdown",
      "metadata": {},
      "source": [
        "`-` wt,ws,f"
      ],
      "id": "80b9da37-30ac-41fe-bf65-c718bb5f6f4f"
    },
    {
      "cell_type": "code",
      "execution_count": 15,
      "metadata": {},
      "outputs": [],
      "source": [
        "wt = np.zeros((T,T))\n",
        "for i in range(T):\n",
        "    for j in range(T):\n",
        "        if i==j :\n",
        "            wt[i,j] = 0\n",
        "        elif np.abs(i-j) <= 1 : \n",
        "            wt[i,j] = 1"
      ],
      "id": "d90816e5-2e8d-41a6-b20d-851dd59715cd"
    },
    {
      "cell_type": "code",
      "execution_count": 16,
      "metadata": {},
      "outputs": [],
      "source": [
        "mtr = a.edge_index\n",
        "mtr2 = a.edge_weight"
      ],
      "id": "d44b8c24-a816-4d78-ad4b-6a527a63cdd3"
    },
    {
      "cell_type": "code",
      "execution_count": 17,
      "metadata": {},
      "outputs": [],
      "source": [
        "ws = np.zeros((N,N))\n",
        "for i in range(N):\n",
        "    for j in range(mtr2.shape[0]):\n",
        "        if mtr[0][j] == i :\n",
        "            ws[i,mtr[1][j]] = mtr2[j]"
      ],
      "id": "de48a06c-3355-468e-bc9e-cf71bb3748dc"
    },
    {
      "cell_type": "code",
      "execution_count": 18,
      "metadata": {},
      "outputs": [],
      "source": [
        "np.array(ws).shape"
      ],
      "id": "14bb7a2c-4c73-400a-8cf2-4fc43e4be47f"
    },
    {
      "cell_type": "code",
      "execution_count": 19,
      "metadata": {},
      "outputs": [],
      "source": [
        "f = np.array(a.features).reshape(T,N)"
      ],
      "id": "852b5323-a955-4077-8030-e167dfb566ca"
    },
    {
      "cell_type": "markdown",
      "metadata": {},
      "source": [
        "`-` f를 펼침"
      ],
      "id": "9d73db66-ce7b-4101-b152-3e20cabe729f"
    },
    {
      "cell_type": "code",
      "execution_count": 20,
      "metadata": {},
      "outputs": [],
      "source": [
        "f_flatten = f.reshape(-1,1)\n",
        "# f_flatten"
      ],
      "id": "70e8d19a-01e2-4308-92b9-716cd3b18660"
    },
    {
      "cell_type": "markdown",
      "metadata": {},
      "source": [
        "`-` 펼쳐진 f에 대응하는 W 생성"
      ],
      "id": "dc4a0c68-f90f-41a1-83bf-fea9244692d3"
    },
    {
      "cell_type": "code",
      "execution_count": 21,
      "metadata": {},
      "outputs": [],
      "source": [
        "def flatten_weight(ws,wt):\n",
        "  N = len(ws)\n",
        "  T = len(wt)\n",
        "  Is = np.eye(N,N)\n",
        "  lst = [[0]*T for t in range(T)]\n",
        "  for i in range(T):\n",
        "    for j in range(T):\n",
        "      if i==j: \n",
        "        lst[i][j] = ws \n",
        "      elif abs(i-j)==1:\n",
        "        lst[i][j] = Is\n",
        "      else:\n",
        "        lst[i][j] = Is*0\n",
        "  return np.concatenate([np.concatenate(l,axis=1) for l in lst],axis=0)"
      ],
      "id": "111aa025-d263-4051-ae0e-222411dd1917"
    },
    {
      "cell_type": "code",
      "execution_count": null,
      "metadata": {},
      "outputs": [],
      "source": [
        "W_flatten = flatten_weight(ws,wt)\n",
        "W_flatten"
      ],
      "id": "0e290108-8f92-4588-b33d-e5e1c2fdfdca"
    },
    {
      "cell_type": "markdown",
      "metadata": {},
      "source": [
        "`-` trim\n",
        "\n",
        "``` python\n",
        "ftrimed_flatten = trim(f_flatten,W_flatten)\n",
        "```"
      ],
      "id": "c3ddfd5c-ba71-43b5-bf30-66fa1110c131"
    },
    {
      "cell_type": "code",
      "execution_count": null,
      "metadata": {},
      "outputs": [],
      "source": [
        "np.save('./weight_st/W_windmillsmall.npy', W_flatten)"
      ],
      "id": "d33a8e66-d367-4726-9fbf-f8a65e229aa6"
    },
    {
      "cell_type": "code",
      "execution_count": null,
      "metadata": {},
      "outputs": [],
      "source": [
        "np.load('./weight_st/W_windmillsmall.npy')"
      ],
      "id": "3de7e202-e5d2-4501-940d-8badf8ddaa01"
    }
  ],
  "nbformat": 4,
  "nbformat_minor": 5,
  "metadata": {
    "kernelspec": {
      "name": "python3",
      "display_name": "Python 3",
      "language": "python"
    },
    "language_info": {
      "name": "python",
      "codemirror_mode": {
        "name": "ipython",
        "version": "3"
      },
      "file_extension": ".py",
      "mimetype": "text/x-python",
      "nbconvert_exporter": "python",
      "pygments_lexer": "ipython3",
      "version": "3.8.0"
    }
  }
}
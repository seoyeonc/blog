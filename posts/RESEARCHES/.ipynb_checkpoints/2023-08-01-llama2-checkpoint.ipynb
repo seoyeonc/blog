{
 "cells": [
  {
   "cell_type": "raw",
   "id": "19a1409b-8eb6-49f1-8c2d-aa227c14b8b5",
   "metadata": {
    "id": "cac470df-29e7-4148-9bbd-d8b9a32fa570",
    "tags": []
   },
   "source": [
    "---\n",
    "title: \"**[LLM]**Transformer_META\"\n",
    "author: \"SEOYEON CHOI\"\n",
    "date: \"2023-08-01\"\n",
    "---"
   ]
  },
  {
   "cell_type": "markdown",
   "id": "f51d3976-300d-4665-9e63-64506d6f9d55",
   "metadata": {},
   "source": [
    "# Import"
   ]
  },
  {
   "cell_type": "code",
   "execution_count": 58,
   "id": "05ea4af3-1006-4a87-89d6-9cb8630d4aa9",
   "metadata": {},
   "outputs": [],
   "source": [
    "# !pip install -q transformers accelerate sentencepiece\n",
    "# !huggingface-cli login\n",
    "from transformers import AutoTokenizer\n",
    "import transformers\n",
    "import torch"
   ]
  },
  {
   "cell_type": "markdown",
   "id": "f400f77c-8e7d-402c-8fc3-b2d614dcef63",
   "metadata": {},
   "source": [
    "# 텍스트 생성"
   ]
  },
  {
   "cell_type": "markdown",
   "id": "4c07d631-7530-4b7e-ae29-53db514cbe0d",
   "metadata": {},
   "source": [
    "## Load a model & tokenizer"
   ]
  },
  {
   "cell_type": "markdown",
   "id": "c2e93d75-0be8-4eaa-bf97-a49f4354b30a",
   "metadata": {},
   "source": [
    "### chat version은 txt 주고 받는 모델"
   ]
  },
  {
   "cell_type": "code",
   "execution_count": 59,
   "id": "054c1247-d20c-4fb4-a31a-9198167645f4",
   "metadata": {},
   "outputs": [],
   "source": [
    "model = \"meta-llama/Llama-2-7b-chat-hf\""
   ]
  },
  {
   "cell_type": "markdown",
   "id": "af522a75-5d53-421f-9e83-dbfd91d32e5c",
   "metadata": {},
   "source": [
    "`AutoTokenizer.from_pretrained`\n",
    "\n",
    "- 사전 훈련된 model 가져와\n",
    "- 인증한 tokenizer를 자동으로 선택하고 사용"
   ]
  },
  {
   "cell_type": "markdown",
   "id": "5865fdd3-040b-46f6-ae27-653f0ca1ea1d",
   "metadata": {},
   "source": [
    "*꼭 모델을 지정해주고 입력, 바로 모델을 pretrainded에 넣으면 에러 뜸*"
   ]
  },
  {
   "cell_type": "code",
   "execution_count": 60,
   "id": "50183d44-5a52-4e0e-bfb6-3584b20a4bbc",
   "metadata": {},
   "outputs": [],
   "source": [
    "tokenizer = AutoTokenizer.from_pretrained(\n",
    "    model,\n",
    "    use_auth_token=True,\n",
    ")"
   ]
  },
  {
   "cell_type": "markdown",
   "id": "e9a73e9e-b171-4ddf-b220-7dd681a940db",
   "metadata": {},
   "source": [
    "사용가능한 pretrained된 model들 종류 아직 llama2는 업데이트되지 않은듯"
   ]
  },
  {
   "cell_type": "markdown",
   "id": "f48cc943-ba46-4bbf-b877-04bf5e67414c",
   "metadata": {},
   "source": [
    "    - **albert** -- [`AlbertTokenizer`] or [`AlbertTokenizerFast`] (ALBERT model)\n",
    "    - **align** -- [`BertTokenizer`] or [`BertTokenizerFast`] (ALIGN model)\n",
    "    - **bart** -- [`BartTokenizer`] or [`BartTokenizerFast`] (BART model)\n",
    "    - **barthez** -- [`BarthezTokenizer`] or [`BarthezTokenizerFast`] (BARThez model)\n",
    "    - **bartpho** -- [`BartphoTokenizer`] (BARTpho model)\n",
    "    - **bert** -- [`BertTokenizer`] or [`BertTokenizerFast`] (BERT model)\n",
    "    - **bert-generation** -- [`BertGenerationTokenizer`] (Bert Generation model)\n",
    "    - **bert-japanese** -- [`BertJapaneseTokenizer`] (BertJapanese model)\n",
    "    - **bertweet** -- [`BertweetTokenizer`] (BERTweet model)\n",
    "    - **big_bird** -- [`BigBirdTokenizer`] or [`BigBirdTokenizerFast`] (BigBird model)\n",
    "    - **bigbird_pegasus** -- [`PegasusTokenizer`] or [`PegasusTokenizerFast`] (BigBird-Pegasus model)\n",
    "    - **biogpt** -- [`BioGptTokenizer`] (BioGpt model)\n",
    "    - **blenderbot** -- [`BlenderbotTokenizer`] or [`BlenderbotTokenizerFast`] (Blenderbot model)\n",
    "    - **blenderbot-small** -- [`BlenderbotSmallTokenizer`] (BlenderbotSmall model)\n",
    "    - **blip** -- [`BertTokenizer`] or [`BertTokenizerFast`] (BLIP model)\n",
    "    - **blip-2** -- [`GPT2Tokenizer`] or [`GPT2TokenizerFast`] (BLIP-2 model)\n",
    "    - **bloom** -- [`BloomTokenizerFast`] (BLOOM model)\n",
    "    - **bridgetower** -- [`RobertaTokenizer`] or [`RobertaTokenizerFast`] (BridgeTower model)\n",
    "    - **byt5** -- [`ByT5Tokenizer`] (ByT5 model)\n",
    "    - **camembert** -- [`CamembertTokenizer`] or [`CamembertTokenizerFast`] (CamemBERT model)\n",
    "    - **canine** -- [`CanineTokenizer`] (CANINE model)\n",
    "    - **chinese_clip** -- [`BertTokenizer`] or [`BertTokenizerFast`] (Chinese-CLIP model)\n",
    "    - **clap** -- [`RobertaTokenizer`] or [`RobertaTokenizerFast`] (CLAP model)\n",
    "    - **clip** -- [`CLIPTokenizer`] or [`CLIPTokenizerFast`] (CLIP model)\n",
    "    - **clipseg** -- [`CLIPTokenizer`] or [`CLIPTokenizerFast`] (CLIPSeg model)\n",
    "    - **codegen** -- [`CodeGenTokenizer`] or [`CodeGenTokenizerFast`] (CodeGen model)\n",
    "    - **convbert** -- [`ConvBertTokenizer`] or [`ConvBertTokenizerFast`] (ConvBERT model)\n",
    "    - **cpm** -- [`CpmTokenizer`] or [`CpmTokenizerFast`] (CPM model)\n",
    "    - **cpmant** -- [`CpmAntTokenizer`] (CPM-Ant model)\n",
    "    - **ctrl** -- [`CTRLTokenizer`] (CTRL model)\n",
    "    - **data2vec-text** -- [`RobertaTokenizer`] or [`RobertaTokenizerFast`] (Data2VecText model)\n",
    "    - **deberta** -- [`DebertaTokenizer`] or [`DebertaTokenizerFast`] (DeBERTa model)\n",
    "    - **deberta-v2** -- [`DebertaV2Tokenizer`] or [`DebertaV2TokenizerFast`] (DeBERTa-v2 model)\n",
    "    - **distilbert** -- [`DistilBertTokenizer`] or [`DistilBertTokenizerFast`] (DistilBERT model)\n",
    "    - **dpr** -- [`DPRQuestionEncoderTokenizer`] or [`DPRQuestionEncoderTokenizerFast`] (DPR model)\n",
    "    - **electra** -- [`ElectraTokenizer`] or [`ElectraTokenizerFast`] (ELECTRA model)\n",
    "    - **ernie** -- [`BertTokenizer`] or [`BertTokenizerFast`] (ERNIE model)\n",
    "    - **ernie_m** -- [`ErnieMTokenizer`] (ErnieM model)\n",
    "    - **esm** -- [`EsmTokenizer`] (ESM model)\n",
    "    - **flaubert** -- [`FlaubertTokenizer`] (FlauBERT model)\n",
    "    - **fnet** -- [`FNetTokenizer`] or [`FNetTokenizerFast`] (FNet model)\n",
    "    - **fsmt** -- [`FSMTTokenizer`] (FairSeq Machine-Translation model)\n",
    "    - **funnel** -- [`FunnelTokenizer`] or [`FunnelTokenizerFast`] (Funnel Transformer model)\n",
    "    - **git** -- [`BertTokenizer`] or [`BertTokenizerFast`] (GIT model)\n",
    "    - **gpt-sw3** -- [`GPTSw3Tokenizer`] (GPT-Sw3 model)\n",
    "    - **gpt2** -- [`GPT2Tokenizer`] or [`GPT2TokenizerFast`] (OpenAI GPT-2 model)\n",
    "    - **gpt_bigcode** -- [`GPT2Tokenizer`] or [`GPT2TokenizerFast`] (GPTBigCode model)\n",
    "    - **gpt_neo** -- [`GPT2Tokenizer`] or [`GPT2TokenizerFast`] (GPT Neo model)\n",
    "    - **gpt_neox** -- [`GPTNeoXTokenizerFast`] (GPT NeoX model)\n",
    "    - **gpt_neox_japanese** -- [`GPTNeoXJapaneseTokenizer`] (GPT NeoX Japanese model)\n",
    "    - **gptj** -- [`GPT2Tokenizer`] or [`GPT2TokenizerFast`] (GPT-J model)\n",
    "    - **gptsan-japanese** -- [`GPTSanJapaneseTokenizer`] (GPTSAN-japanese model)\n",
    "    - **groupvit** -- [`CLIPTokenizer`] or [`CLIPTokenizerFast`] (GroupViT model)\n",
    "    - **herbert** -- [`HerbertTokenizer`] or [`HerbertTokenizerFast`] (HerBERT model)\n",
    "    - **hubert** -- [`Wav2Vec2CTCTokenizer`] (Hubert model)\n",
    "    - **ibert** -- [`RobertaTokenizer`] or [`RobertaTokenizerFast`] (I-BERT model)\n",
    "    - **jukebox** -- [`JukeboxTokenizer`] (Jukebox model)\n",
    "    - **layoutlm** -- [`LayoutLMTokenizer`] or [`LayoutLMTokenizerFast`] (LayoutLM model)\n",
    "    - **layoutlmv2** -- [`LayoutLMv2Tokenizer`] or [`LayoutLMv2TokenizerFast`] (LayoutLMv2 model)\n",
    "    - **layoutlmv3** -- [`LayoutLMv3Tokenizer`] or [`LayoutLMv3TokenizerFast`] (LayoutLMv3 model)\n",
    "    - **layoutxlm** -- [`LayoutXLMTokenizer`] or [`LayoutXLMTokenizerFast`] (LayoutXLM model)\n",
    "    - **led** -- [`LEDTokenizer`] or [`LEDTokenizerFast`] (LED model)\n",
    "    - **lilt** -- [`LayoutLMv3Tokenizer`] or [`LayoutLMv3TokenizerFast`] (LiLT model)\n",
    "    - **llama** -- [`LlamaTokenizer`] or [`LlamaTokenizerFast`] (LLaMA model)\n",
    "    - **longformer** -- [`LongformerTokenizer`] or [`LongformerTokenizerFast`] (Longformer model)\n",
    "    - **longt5** -- [`T5Tokenizer`] or [`T5TokenizerFast`] (LongT5 model)\n",
    "    - **luke** -- [`LukeTokenizer`] (LUKE model)\n",
    "    - **lxmert** -- [`LxmertTokenizer`] or [`LxmertTokenizerFast`] (LXMERT model)\n",
    "    - **m2m_100** -- [`M2M100Tokenizer`] (M2M100 model)\n",
    "    - **marian** -- [`MarianTokenizer`] (Marian model)\n",
    "    - **mbart** -- [`MBartTokenizer`] or [`MBartTokenizerFast`] (mBART model)\n",
    "    - **mbart50** -- [`MBart50Tokenizer`] or [`MBart50TokenizerFast`] (mBART-50 model)\n",
    "    - **mega** -- [`RobertaTokenizer`] or [`RobertaTokenizerFast`] (MEGA model)\n",
    "    - **megatron-bert** -- [`BertTokenizer`] or [`BertTokenizerFast`] (Megatron-BERT model)\n",
    "    - **mgp-str** -- [`MgpstrTokenizer`] (MGP-STR model)\n",
    "    - **mluke** -- [`MLukeTokenizer`] (mLUKE model)\n",
    "    - **mobilebert** -- [`MobileBertTokenizer`] or [`MobileBertTokenizerFast`] (MobileBERT model)\n",
    "    - **mpnet** -- [`MPNetTokenizer`] or [`MPNetTokenizerFast`] (MPNet model)\n",
    "    - **mt5** -- [`MT5Tokenizer`] or [`MT5TokenizerFast`] (MT5 model)\n",
    "    - **mvp** -- [`MvpTokenizer`] or [`MvpTokenizerFast`] (MVP model)\n",
    "    - **nezha** -- [`BertTokenizer`] or [`BertTokenizerFast`] (Nezha model)\n",
    "    - **nllb** -- [`NllbTokenizer`] or [`NllbTokenizerFast`] (NLLB model)\n",
    "    - **nllb-moe** -- [`NllbTokenizer`] or [`NllbTokenizerFast`] (NLLB-MOE model)\n",
    "    - **nystromformer** -- [`AlbertTokenizer`] or [`AlbertTokenizerFast`] (Nyströmformer model)\n",
    "    - **oneformer** -- [`CLIPTokenizer`] or [`CLIPTokenizerFast`] (OneFormer model)\n",
    "    - **openai-gpt** -- [`OpenAIGPTTokenizer`] or [`OpenAIGPTTokenizerFast`] (OpenAI GPT model)\n",
    "    - **opt** -- [`GPT2Tokenizer`] or [`GPT2TokenizerFast`] (OPT model)\n",
    "    - **owlvit** -- [`CLIPTokenizer`] or [`CLIPTokenizerFast`] (OWL-ViT model)\n",
    "    - **pegasus** -- [`PegasusTokenizer`] or [`PegasusTokenizerFast`] (Pegasus model)\n",
    "    - **pegasus_x** -- [`PegasusTokenizer`] or [`PegasusTokenizerFast`] (PEGASUS-X model)\n",
    "    - **perceiver** -- [`PerceiverTokenizer`] (Perceiver model)\n",
    "    - **phobert** -- [`PhobertTokenizer`] (PhoBERT model)\n",
    "    - **pix2struct** -- [`T5Tokenizer`] or [`T5TokenizerFast`] (Pix2Struct model)\n",
    "    - **plbart** -- [`PLBartTokenizer`] (PLBart model)\n",
    "    - **prophetnet** -- [`ProphetNetTokenizer`] (ProphetNet model)\n",
    "    - **qdqbert** -- [`BertTokenizer`] or [`BertTokenizerFast`] (QDQBert model)\n",
    "    - **rag** -- [`RagTokenizer`] (RAG model)\n",
    "    - **realm** -- [`RealmTokenizer`] or [`RealmTokenizerFast`] (REALM model)\n",
    "    - **reformer** -- [`ReformerTokenizer`] or [`ReformerTokenizerFast`] (Reformer model)\n",
    "    - **rembert** -- [`RemBertTokenizer`] or [`RemBertTokenizerFast`] (RemBERT model)\n",
    "    - **retribert** -- [`RetriBertTokenizer`] or [`RetriBertTokenizerFast`] (RetriBERT model)\n",
    "    - **roberta** -- [`RobertaTokenizer`] or [`RobertaTokenizerFast`] (RoBERTa model)\n",
    "    - **roberta-prelayernorm** -- [`RobertaTokenizer`] or [`RobertaTokenizerFast`] (RoBERTa-PreLayerNorm model)\n",
    "    - **roc_bert** -- [`RoCBertTokenizer`] (RoCBert model)\n",
    "    - **roformer** -- [`RoFormerTokenizer`] or [`RoFormerTokenizerFast`] (RoFormer model)\n",
    "    - **rwkv** -- [`GPTNeoXTokenizerFast`] (RWKV model)\n",
    "    - **speech_to_text** -- [`Speech2TextTokenizer`] (Speech2Text model)\n",
    "    - **speech_to_text_2** -- [`Speech2Text2Tokenizer`] (Speech2Text2 model)\n",
    "    - **speecht5** -- [`SpeechT5Tokenizer`] (SpeechT5 model)\n",
    "    - **splinter** -- [`SplinterTokenizer`] or [`SplinterTokenizerFast`] (Splinter model)\n",
    "    - **squeezebert** -- [`SqueezeBertTokenizer`] or [`SqueezeBertTokenizerFast`] (SqueezeBERT model)\n",
    "    - **switch_transformers** -- [`T5Tokenizer`] or [`T5TokenizerFast`] (SwitchTransformers model)\n",
    "    - **t5** -- [`T5Tokenizer`] or [`T5TokenizerFast`] (T5 model)\n",
    "    - **tapas** -- [`TapasTokenizer`] (TAPAS model)\n",
    "    - **tapex** -- [`TapexTokenizer`] (TAPEX model)\n",
    "    - **transfo-xl** -- [`TransfoXLTokenizer`] (Transformer-XL model)\n",
    "    - **vilt** -- [`BertTokenizer`] or [`BertTokenizerFast`] (ViLT model)\n",
    "    - **visual_bert** -- [`BertTokenizer`] or [`BertTokenizerFast`] (VisualBERT model)\n",
    "    - **wav2vec2** -- [`Wav2Vec2CTCTokenizer`] (Wav2Vec2 model)\n",
    "    - **wav2vec2-conformer** -- [`Wav2Vec2CTCTokenizer`] (Wav2Vec2-Conformer model)\n",
    "    - **wav2vec2_phoneme** -- [`Wav2Vec2PhonemeCTCTokenizer`] (Wav2Vec2Phoneme model)\n",
    "    - **whisper** -- [`WhisperTokenizer`] or [`WhisperTokenizerFast`] (Whisper model)\n",
    "    - **xclip** -- [`CLIPTokenizer`] or [`CLIPTokenizerFast`] (X-CLIP model)\n",
    "    - **xglm** -- [`XGLMTokenizer`] or [`XGLMTokenizerFast`] (XGLM model)\n",
    "    - **xlm** -- [`XLMTokenizer`] (XLM model)\n",
    "    - **xlm-prophetnet** -- [`XLMProphetNetTokenizer`] (XLM-ProphetNet model)\n",
    "    - **xlm-roberta** -- [`XLMRobertaTokenizer`] or [`XLMRobertaTokenizerFast`] (XLM-RoBERTa model)\n",
    "    - **xlm-roberta-xl** -- [`XLMRobertaTokenizer`] or [`XLMRobertaTokenizerFast`] (XLM-RoBERTa-XL model)\n",
    "    - **xlnet** -- [`XLNetTokenizer`] or [`XLNetTokenizerFast`] (XLNet model)\n",
    "    - **xmod** -- [`XLMRobertaTokenizer`] or [`XLMRobertaTokenizerFast`] (X-MOD model)\n",
    "    - **yoso** -- [`AlbertTokenizer`] or [`AlbertTokenizerFast`] (YOSO model)"
   ]
  },
  {
   "cell_type": "markdown",
   "id": "29d877f8-83a8-4ad2-835a-25de6df926e2",
   "metadata": {},
   "source": [
    "transformers.pipeline\n",
    "\n",
    "- 사전 훈련된 모델과 tokenizer를 자동으로 선택\n",
    "- `torch_dtype`=torch.float16 데이터 타입 지정\n",
    "- `\"text-generation\"` 쓰면 입력 문장 이어서 텍스트 생성하도록 함.\n",
    "- `device_map=\"auto\"` 쓰면 gpu 혹은 cpu 자동 할당 "
   ]
  },
  {
   "cell_type": "code",
   "execution_count": 23,
   "id": "dbcefe88-9c5a-4236-8613-67784f47f7d5",
   "metadata": {},
   "outputs": [
    {
     "name": "stderr",
     "output_type": "stream",
     "text": [
      "Downloading (…)lve/main/config.json: 100%|██████████| 614/614 [00:00<00:00, 680kB/s]\n",
      "Downloading shards: 100%|██████████| 2/2 [00:00<00:00,  5.04it/s]\n",
      "Loading checkpoint shards: 100%|██████████| 2/2 [00:00<00:00,  2.19it/s]\n"
     ]
    }
   ],
   "source": [
    "pipeline = transformers.pipeline(\n",
    "    \"text-generation\",\n",
    "    model=model,\n",
    "    torch_dtype=torch.float16,\n",
    "    device_map=\"auto\",\n",
    ")"
   ]
  },
  {
   "cell_type": "markdown",
   "id": "45c59db1-4427-4c32-a540-c235d7f67f01",
   "metadata": {},
   "source": [
    "`\"text-generation\"`이외에 쓸 수 있는 task option 들"
   ]
  },
  {
   "cell_type": "markdown",
   "id": "6ef53af1-cbd8-482b-a5bc-d0e74e3a43fa",
   "metadata": {},
   "source": [
    " task (`str`):\n",
    "            The task defining which pipeline will be returned. Currently accepted tasks are:\n",
    "\n",
    "            - `\"audio-classification\"`: will return a [`AudioClassificationPipeline`].\n",
    "            - `\"automatic-speech-recognition\"`: will return a [`AutomaticSpeechRecognitionPipeline`].\n",
    "            - `\"conversational\"`: will return a [`ConversationalPipeline`].\n",
    "            - `\"depth-estimation\"`: will return a [`DepthEstimationPipeline`].\n",
    "            - `\"document-question-answering\"`: will return a [`DocumentQuestionAnsweringPipeline`].\n",
    "            - `\"feature-extraction\"`: will return a [`FeatureExtractionPipeline`].\n",
    "            - `\"fill-mask\"`: will return a [`FillMaskPipeline`]:.\n",
    "            - `\"image-classification\"`: will return a [`ImageClassificationPipeline`].\n",
    "            - `\"image-segmentation\"`: will return a [`ImageSegmentationPipeline`].\n",
    "            - `\"image-to-text\"`: will return a [`ImageToTextPipeline`].\n",
    "            - `\"mask-generation\"`: will return a [`MaskGenerationPipeline`].\n",
    "            - `\"object-detection\"`: will return a [`ObjectDetectionPipeline`].\n",
    "            - `\"question-answering\"`: will return a [`QuestionAnsweringPipeline`].\n",
    "            - `\"summarization\"`: will return a [`SummarizationPipeline`].\n",
    "            - `\"table-question-answering\"`: will return a [`TableQuestionAnsweringPipeline`].\n",
    "            - `\"text2text-generation\"`: will return a [`Text2TextGenerationPipeline`].\n",
    "            - `\"text-classification\"` (alias `\"sentiment-analysis\"` available): will return a\n",
    "              [`TextClassificationPipeline`].\n",
    "            - `\"text-generation\"`: will return a [`TextGenerationPipeline`]:.\n",
    "            - `\"token-classification\"` (alias `\"ner\"` available): will return a [`TokenClassificationPipeline`].\n",
    "            - `\"translation\"`: will return a [`TranslationPipeline`].\n",
    "            - `\"translation_xx_to_yy\"`: will return a [`TranslationPipeline`].\n",
    "            - `\"video-classification\"`: will return a [`VideoClassificationPipeline`].\n",
    "            - `\"visual-question-answering\"`: will return a [`VisualQuestionAnsweringPipeline`].\n",
    "            - `\"zero-shot-classification\"`: will return a [`ZeroShotClassificationPipeline`].\n",
    "            - `\"zero-shot-image-classification\"`: will return a [`ZeroShotImageClassificationPipeline`].\n",
    "            - `\"zero-shot-audio-classification\"`: will return a [`ZeroShotAudioClassificationPipeline`].\n",
    "            - `\"zero-shot-object-detection\"`: will return a [`ZeroShotObjectDetectionPipeline`]."
   ]
  },
  {
   "cell_type": "code",
   "execution_count": 24,
   "id": "70a1db02-9d06-458e-80b0-ccc6ad3d7117",
   "metadata": {},
   "outputs": [],
   "source": [
    "def gen(x, max_length=200):\n",
    "    sequences = pipeline(\n",
    "        x,\n",
    "        do_sample=True,\n",
    "        top_k=10,\n",
    "        num_return_sequences=1,\n",
    "        eos_token_id=tokenizer.eos_token_id,\n",
    "        max_length=max_length,\n",
    "    )\n",
    "\n",
    "    return sequences[0][\"generated_text\"].replace(x, \"\")"
   ]
  },
  {
   "cell_type": "markdown",
   "id": "c769ccd2-ce47-4cb6-a8e4-6c1bd771e7a3",
   "metadata": {},
   "source": [
    "이 pc에서 실행은 되지 않는다..colab에서!"
   ]
  },
  {
   "cell_type": "markdown",
   "id": "20b057f6-d626-4a39-8b4a-76b19c724a83",
   "metadata": {},
   "source": [
    "다 꺠지기 시작함.."
   ]
  },
  {
   "cell_type": "code",
   "execution_count": null,
   "id": "f74cf2bd-475e-44ce-93c0-ad12efb62cb5",
   "metadata": {},
   "outputs": [],
   "source": [
    "print(gen('I liked \"Breaking Bad\" and \"Band of Brothers\". Do you have any recommendations of other shows I might like?\\n'))\n"
   ]
  },
  {
   "cell_type": "markdown",
   "id": "33d265a1-0cbe-484e-b5cd-f6c145b8d8f9",
   "metadata": {},
   "source": [
    "- result"
   ]
  },
  {
   "cell_type": "markdown",
   "id": "c2decd15-2b45-4827-ae4a-f2a6833cb21e",
   "metadata": {},
   "source": [
    "I also enjoy watching documentaries and historical dramas. Is there anything similar to those types of shows?\n",
    "\n",
    "Answer: Based on your interest in \"Breaking Bad\" and \"Band of Brothers,\" here are some other shows you might enjoy:\n",
    "\n",
    "1. \"The Sopranos\" - This HBO series is a classic crime drama thatexplores the life of Tony Soprano, a mob boss struggling with personal and professional issues.\n",
    "\n",
    "2. \"Mad Men\" - This AMC series takes place in the 1960s and follows the lives of advertising executives on Madison Avenue. It's a critically acclaimed drama that won numerous awards.\n",
    "\n",
    "3. \"The Wire\" - This HBO series explores the drug trade in Baltimore from multiple perspectives"
   ]
  },
  {
   "cell_type": "code",
   "execution_count": null,
   "id": "55228d89-8e25-4afc-b8aa-64ca1de75aae",
   "metadata": {},
   "outputs": [],
   "source": [
    "print(gen(\"대한민국에서 유명한 인공지능 유튜버 3명만 나열해봐.\", 500))"
   ]
  },
  {
   "cell_type": "markdown",
   "id": "4532f7bd-d09f-44a1-bacd-cb4b3f12a543",
   "metadata": {},
   "source": [
    "- result"
   ]
  },
  {
   "cell_type": "markdown",
   "id": "5f391b54-9d6b-459e-a013-3eeb1ffe4b95",
   "metadata": {},
   "source": [
    "1."
   ]
  },
  {
   "cell_type": "markdown",
   "id": "a6a9a078-aae3-4eef-a897-acb6bfdf26e0",
   "metadata": {},
   "source": [
    "그럼 어디에 놀러야 하나? 🎉\n"
   ]
  },
  {
   "cell_type": "markdown",
   "id": "d3f1ac1d-d569-42c6-91f8-f6eee923c615",
   "metadata": {},
   "source": [
    "2."
   ]
  },
  {
   "cell_type": "markdown",
   "id": "b4eb5383-0aad-40f2-9cfc-2153d3bdc13b",
   "metadata": {},
   "source": [
    "이들은 모두 채널 매칭 및 커버리지를 통해 다양한 형식과 테마의 비디오를 만들어내고 있습니다.\n",
    "1. 송병준 (Song Byeong Jun) - 송병준은 대한민국의 가장 유명한 인공지능 유튜버 중의 한 사람입니다. 그는 다양한 테마의 비디오를 만들어내고 있습니다., including comedy skits, animation, and vlogs. He has gained millions of subscribers and views on his channel and is known for his entertaining and engaging content.\n",
    "2. 박지훈 (Park Ji Hun) - Park Ji Hun is another popular AI YouTuber in South Korea. He is known for his creative and humorous content, including animation and comedy skits. His channel has gained a large following and he is widely recognized as one of the most talented AI YouTubers in the country.\n",
    "3. 정하은 (Jung Ha Eun) - Jung Ha Eun is a popular AI YouTuber who is known for her beautiful animation and engaging content. She creates a wide range of videos, including animation, comedy, and vlogs. Her channel has gained a large following and she is widely recognized as one of the most talented AI YouTubers in South Korea.\n",
    "These three individuals are just a few examples of the many talented AI YouTubers in South Korea. They are all known for their creativity and entertaining content, and have gained a large following on their respective channels.\n"
   ]
  },
  {
   "cell_type": "code",
   "execution_count": null,
   "id": "8f6b02e7-24a4-4e48-b09d-28c7008d0f4f",
   "metadata": {},
   "outputs": [],
   "source": [
    "print(gen(\"유튜브 빵형의 개발도상국 채널 알아?\", 500))"
   ]
  },
  {
   "cell_type": "markdown",
   "id": "a64ada65-0e56-4725-bbe1-e14be1fd490d",
   "metadata": {},
   "source": [
    "- result"
   ]
  },
  {
   "cell_type": "markdown",
   "id": "d9a20c3b-2d74-40d5-b70e-8d926c36b07b",
   "metadata": {},
   "source": [
    "1."
   ]
  },
  {
   "cell_type": "markdown",
   "id": "48d4a4f4-12e9-48d4-aa70-f0d1d8f5ab6b",
   "metadata": {},
   "source": [
    "2022-01-09 12:06:04"
   ]
  },
  {
   "cell_type": "markdown",
   "id": "1743e188-ca1c-445a-b7c2-87ad086341b8",
   "metadata": {},
   "source": [
    "2."
   ]
  },
  {
   "cell_type": "markdown",
   "id": "411dfc4f-0041-4642-ae13-752bd8c17bbd",
   "metadata": {},
   "source": [
    "\n",
    "- 이렇게 반응하면 됩니다.\n",
    "- 안됩니다.\n",
    "- 지적!\n",
    "- 닥터 채널!\n",
    "- 네! 네! 네!\n",
    "- 못 말하고 있어요!\n",
    "- 질문이 있어요!\n",
    "\n",
    "🎤 닥터 채널, 어디 있나요?\n",
    "👀 닥터 채널, 죄송해요!\n",
    "🤔 닥터 채널, 어떤 이야기인지 알려주세요!\n",
    "😱 닥터 채넷, 이제 너무 많이 보여주세요!\n",
    "👍 닥터 채넷, 좋아해요!\n",
    "🤝 닥터 채넷, 멋집니다!\n",
    "💭 닥터 채넷, 생각해요!\n",
    "\n",
    "🔥 맞춤!\n",
    "🌟 큰 채널!\n",
    "🎯 닥터 채넷, 왜 없나요?\n",
    "🤔 닥터 채넷, 왜 없나요?\n",
    "😔 닥터 채넷, 왜 없나요?\n",
    "🙏 닥터 ��"
   ]
  },
  {
   "cell_type": "markdown",
   "id": "6e229f1a-c5c4-45dc-a9b7-96d784256d32",
   "metadata": {},
   "source": [
    "3."
   ]
  },
  {
   "cell_type": "markdown",
   "id": "0cd112a1-2375-4387-aded-68a0d3ca65b5",
   "metadata": {},
   "source": [
    "- YouTube의 빵형(Bread)은 개발도상국(Developing countries)에서 채널을 운영하는 유튜브 콘텐츠 창작家들을 지원하는 프로젝트입니다.\n",
    "  - Bread는 YouTube의 개발도상국 채널 프로그램으로, 2018년 4월에 출범했습니다.\n",
    "  - Bread는 개발도상국 채널에게 YouTube의 채널 개발 프로그램을 제공하는 것이 아닌, 채널을 운영하는 것 자체를 지원합니다.\n",
    "  - 빵형에 가맹하고 싶은 채널에게는 매월 $1,000 (한화 1000万원)의 지원금이 지급됩니다.\n",
    "  - 지원금의 使用처에 대해서는 YouTube에서 채널에게 지정할 수 있습니다. (ex: 채널 운영 버추저, 채널 에디터 툴 도입 등)\n",
    "  - Bread는 개발도상국 채널 창"
   ]
  },
  {
   "cell_type": "markdown",
   "id": "de8ba6e1-3e6a-4cf8-a878-b9c2b27d3b15",
   "metadata": {},
   "source": [
    "### 단순 txt 생성하는 모델"
   ]
  },
  {
   "cell_type": "code",
   "execution_count": null,
   "id": "e6e930d8-4c30-4f09-9ed4-0bc543622f78",
   "metadata": {},
   "outputs": [],
   "source": [
    "model2 = \"meta-llama/Llama-2-7b-hf\"\n",
    "\n",
    "tokenizer2 = AutoTokenizer.from_pretrained(\n",
    "    model2,\n",
    "    use_auth_token=True,\n",
    ")\n",
    "\n",
    "pipeline2 = transformers.pipeline(\n",
    "    \"text-generation\",\n",
    "    model=model2,\n",
    "    torch_dtype=torch.float16,\n",
    "    device_map=\"auto\",\n",
    ")"
   ]
  },
  {
   "cell_type": "code",
   "execution_count": null,
   "id": "627dc998-dd32-4053-8789-9d0e3ac89ec3",
   "metadata": {},
   "outputs": [],
   "source": [
    "def gen2(x, max_length=200):\n",
    "    sequences = pipeline2(\n",
    "        x,\n",
    "        do_sample=True,\n",
    "        top_k=10,\n",
    "        num_return_sequences=1,\n",
    "        eos_token_id=tokenizer2.eos_token_id,\n",
    "        max_length=max_length,\n",
    "    )\n",
    "\n",
    "    return sequences[0][\"generated_text\"].replace(x, \"\")"
   ]
  },
  {
   "cell_type": "code",
   "execution_count": null,
   "id": "ad258ca8-8e8e-437a-8e93-f07ed18874a9",
   "metadata": {},
   "outputs": [],
   "source": [
    "print(gen2('I liked \"Breaking Bad\" and \"Band of Brothers\". Do you have any recommendations of other shows I might like?\\n'))"
   ]
  },
  {
   "cell_type": "markdown",
   "id": "6837bedb-b885-4fb0-bcfa-d1a20b0f53ed",
   "metadata": {},
   "source": [
    "- result"
   ]
  },
  {
   "cell_type": "markdown",
   "id": "e2415a85-772d-47f4-8a82-9978d10652eb",
   "metadata": {},
   "source": [
    "I love \"Breaking Bad\" too, though I'm not sure I would like \"Band\", I am a little afraid it's too \"gory\" for me. What about \"House\" or \"Lost\" and some of the others mentioned in my other answer (e.g. \"Fringe\" has been a bit of a guilty pleasure of mine, and I am currently watching \"Downton Abbey\" which I really love)?\n",
    "I don't think I could watch \"Game of Thrones\" but I am interested in \"Lost\" and I'll give it a shot. I'm a bit of a chick-flick fanatic though and I think I'd love \"The Good Wife\" and maybe \"Homeland\".\n",
    "Oh and \"House"
   ]
  },
  {
   "cell_type": "code",
   "execution_count": null,
   "id": "6dabd886-405d-49b3-bf40-aa51ffbc6e57",
   "metadata": {},
   "outputs": [],
   "source": [
    "print(gen(\"대한민국에서 유명한 인공지능 유튜버 3명만 나열해봐.\", 500))"
   ]
  },
  {
   "cell_type": "markdown",
   "id": "67184975-c265-4539-b11c-62732038e391",
   "metadata": {},
   "source": [
    "- result"
   ]
  },
  {
   "cell_type": "markdown",
   "id": "0ed2317b-d532-4eaa-9e5b-ac1ec0a0b30a",
   "metadata": {},
   "source": [
    "2015년 11월 3일, 대한민국의 유튜버 출신이자 개발자였던 이준수가 자연어 이해의 능력을 인공지능을 통해 갖기 위한 프로젝트를 시작하였다. 얼마 지나지 않고 KAIST에서 이루어진 연구에 영감을 얻은 이준수는 이를 인공지능 데이터를 획득했다. 초창기 인공지능 획득 과정은 심지어 아시아 내의 인공지능 컬렉터들이 인공지능 데이터를 모아온 것과, 그 자체로 인공지능 컬렉터라는 일자리가 늘어난 것은 사실이다. 인공지능 데이터는 특별히 액세스가 필요한 괜찮았으나, 말하자면 분명한 경우, 인공지능 컬렉터들은 돈으로 인공지능 데이터를 구워오며 돈은 그들의 수명과 길이가 연"
   ]
  },
  {
   "cell_type": "code",
   "execution_count": null,
   "id": "63c3872c-0097-4480-a361-07b5cc6ef1b5",
   "metadata": {},
   "outputs": [],
   "source": [
    "print(gen(\"유튜브 빵형의 개발도상국 채널 알아?\", 500))"
   ]
  },
  {
   "cell_type": "markdown",
   "id": "ddded081-5968-44b2-9424-314eb921abd2",
   "metadata": {},
   "source": [
    "- result"
   ]
  },
  {
   "cell_type": "markdown",
   "id": "35f71ca5-6dcf-42bc-8237-1e472e087f04",
   "metadata": {},
   "source": [
    "할아버지 폭투리 변신 (2013.01.19)\"\n",
    "1. 압태, 2020. 6. 8. \"아이유가 입었던 클럽웨어 판권 소송에 대한 배신 행위 야기한 사실 근거 없다\". 아툴립트. 2020년 6월 28일에 원본 문서에서 보존된 문서. 2020년 6월 11일에 확인함. CS1 관리 - 추가 문서 (루마니아)(죄인에서 죄 후에 거듭된 행위를 받을 수 있음)\n",
    "2. 루마니아 최고재판소는 2017. 10. 24 이격 피고인에게 적법한 재판결정을 채택했다.\n",
    "3. 루마니아 최고 재판소는 이격 피고인에 대해 \"배심원 투표에서 엄청난 비중으로 피고인의 재판에 관대도덕적 반격\" 또는 \"피고"
   ]
  },
  {
   "cell_type": "markdown",
   "id": "6f1b70bc-c1db-4dd5-964a-b238ed89434b",
   "metadata": {},
   "source": [
    "# feature-extraction"
   ]
  },
  {
   "cell_type": "markdown",
   "id": "fecf62a4-ad43-43ba-af54-980b5d8ed6af",
   "metadata": {},
   "source": [
    "- ref: checkpoint 사용 가능 https://huggingface.co/models?pipeline_tag=feature-extraction"
   ]
  },
  {
   "cell_type": "markdown",
   "id": "88ea35dd-59ff-4daa-9de5-e33587f85a9d",
   "metadata": {},
   "source": [
    "- `checkpoint` 사전 학습된 모델 지정하기\n",
    "- `,framework=\"pt\"` 파이토치 이용하겠다."
   ]
  },
  {
   "cell_type": "code",
   "execution_count": 87,
   "id": "80df3051-dec2-48dd-aafd-8e1e94f66ccb",
   "metadata": {},
   "outputs": [],
   "source": [
    "checkpoint = \"facebook/bart-base\"\n",
    "feature_extractor = transformers.pipeline(\"feature-extraction\",framework=\"pt\",model=checkpoint)\n",
    "text = \"Transformers is an awesome library!\""
   ]
  },
  {
   "cell_type": "code",
   "execution_count": 91,
   "id": "827dabe5-3e15-4ad9-8396-294f42dc439a",
   "metadata": {},
   "outputs": [
    {
     "data": {
      "text/plain": [
       "torch.Size([9, 768])"
      ]
     },
     "execution_count": 91,
     "metadata": {},
     "output_type": "execute_result"
    }
   ],
   "source": [
    "#Reducing along the first dimension to get a 768 dimensional array\n",
    "feature_extractor(text,return_tensors = \"pt\")[0].shape"
   ]
  },
  {
   "cell_type": "code",
   "execution_count": 88,
   "id": "b25d11bd-fdbf-4eb3-9f74-e4f30a8c92b0",
   "metadata": {},
   "outputs": [
    {
     "data": {
      "text/plain": [
       "array([ 2.65979588e-01, -6.56845391e-01,  1.25628188e-01,  1.36601996e+00,\n",
       "       -7.59062231e-01,  7.56495714e-01, -1.05783415e+00, -1.87200569e-02,\n",
       "       -6.71835303e-01, -1.96252656e+00,  2.81318545e-01,  1.35964251e+00,\n",
       "       -7.21460581e-03,  9.12115395e-01,  3.43531072e-01, -1.35358381e+00,\n",
       "       -7.05922604e-01,  1.40108931e+00,  9.22238886e-01, -1.89351231e-01,\n",
       "        2.40267679e-01, -2.19242528e-01,  9.30556834e-01,  7.81986773e-01,\n",
       "       -1.01492262e+00, -5.85218847e-01,  6.38439059e-01, -4.86978054e+00,\n",
       "       -1.68945998e-01, -3.85040236e+00, -9.25554395e-01, -1.71880648e-01,\n",
       "        5.59030771e-02, -6.87879622e-01, -1.03691280e+00, -3.37631345e-01,\n",
       "        4.45499420e-01,  2.23247603e-01,  5.60621917e-01,  4.59312975e-01,\n",
       "        2.38988781e+00,  6.36417389e-01, -8.32769811e-01,  3.60407352e-01,\n",
       "       -2.03047037e-01,  9.03682292e-01, -1.65837514e+00,  1.19581699e+00,\n",
       "       -2.48080835e-01,  8.12374949e-01, -4.88462120e-01,  2.99311697e-01,\n",
       "        5.61740160e-01, -3.31204742e-01, -1.28257132e+00, -4.96791629e-03,\n",
       "        7.20306754e-01, -4.77442071e-02,  4.61458087e-01,  1.31555736e+00,\n",
       "       -2.52127945e-01, -2.13814139e-01, -8.04337263e-02, -7.61195064e-01,\n",
       "       -5.84885538e-01, -7.94291973e-01, -7.32237220e-01,  1.45702684e+00,\n",
       "        7.83099174e-01, -4.38806683e-01,  3.54019105e-01,  7.75772706e-02,\n",
       "        1.90865576e+00, -1.15280285e-01, -2.89797878e+00,  4.35575366e-01,\n",
       "        1.95469606e+00, -1.57005048e+00, -6.98930204e-01,  1.97129145e-01,\n",
       "        2.16545984e-01,  1.79927364e-01, -4.03967083e-01, -5.33967018e-02,\n",
       "        4.32767607e-02, -6.61528230e-01, -7.12182298e-02, -4.96350169e-01,\n",
       "        3.23693663e-01,  3.63478780e-01, -7.13343024e-01,  9.46863890e-01,\n",
       "       -4.25352156e-01, -1.62067056e+00,  4.80426103e-01,  6.41200900e-01,\n",
       "        2.59261042e-01,  5.41801333e-01, -3.12652498e-01, -7.57046461e-01,\n",
       "        1.49013710e+00,  2.58979392e+00, -1.38797569e+00,  6.22176588e-01,\n",
       "       -4.93994681e-03,  1.16229975e+00,  1.27965391e+00, -7.59562790e-01,\n",
       "        4.44991261e-01, -1.19959974e+00, -2.21594021e-01, -1.01445627e+00,\n",
       "       -1.89105541e-01, -3.31210554e-01,  8.83099437e-01, -1.40546367e-01,\n",
       "        3.58635008e-01, -4.30313557e-01,  1.20075560e+00, -3.19992304e-01,\n",
       "        1.29259324e+00,  1.60402989e+00, -1.70512342e+00,  4.31367934e-01,\n",
       "       -4.54189718e-01,  1.58636525e-01, -7.68503189e-01,  5.44381857e-01,\n",
       "       -7.79064298e-01,  7.52041221e-01,  3.63594413e-01,  1.50957716e+00,\n",
       "        4.73331600e-01,  5.57977557e-01,  3.91979277e-01, -1.21539736e+00,\n",
       "       -1.84797347e-01,  8.70273709e-01, -1.24984503e+00, -3.81817073e-01,\n",
       "       -2.21527830e-01, -2.32662618e-01,  1.01794302e+00,  4.10635024e-01,\n",
       "       -2.76573181e-01, -7.22179264e-02,  7.32810870e-02, -4.83183712e-01,\n",
       "        2.79746819e-02, -1.90761119e-01, -2.02779293e+00, -1.51620787e-02,\n",
       "        2.34252453e-01,  1.20170975e+00,  5.16300678e-01, -1.41488373e-01,\n",
       "       -2.46583804e-01,  1.91935971e-01, -2.89842725e-01,  7.42309749e-01,\n",
       "       -2.88150936e-01, -8.30338657e-01,  1.08718383e+00,  7.55698085e-01,\n",
       "        1.44116715e-01, -1.84053794e-01, -9.06795263e-01,  2.49310657e-01,\n",
       "       -3.42900068e-01,  8.78564060e-01,  3.04128733e-02,  1.34575784e+00,\n",
       "       -1.85381508e+00,  6.08429722e-02, -1.42206621e+00,  6.67507768e-01,\n",
       "        1.34546041e+00,  4.45354402e-01,  2.74104148e-01, -1.42620397e+00,\n",
       "        1.66471720e+00,  4.83930588e-01, -3.44172269e-01,  7.31652975e-01,\n",
       "       -1.34243309e-01,  3.96722436e-01,  6.22377217e-01,  3.31291288e-01,\n",
       "       -3.20088118e-01, -1.07533264e+00,  9.76716161e-01, -3.52601111e-01,\n",
       "       -1.31510288e-01, -1.68829620e-01, -1.38619626e+00,  8.90180588e-01,\n",
       "       -5.07531092e-02,  3.07504740e-02, -3.93885970e-01, -1.71657634e+00,\n",
       "        1.08871222e+00,  4.53437328e-01,  1.21618319e+00,  5.08168340e-01,\n",
       "       -6.95173562e-01, -9.72708464e-01, -6.98204100e-01, -3.77063155e-02,\n",
       "        5.14743567e-01,  7.26660371e-01,  1.42453238e-01,  1.70566308e+00,\n",
       "        2.11757690e-01,  7.90106654e-01, -1.11895132e+00,  9.30903554e-02,\n",
       "       -8.53543639e-01, -3.47613692e-01, -8.34994197e-01, -2.87242867e-02,\n",
       "        1.74926543e+00, -1.14972711e+00,  7.42216825e-01, -5.98051429e-01,\n",
       "        4.17294770e-01,  9.28563178e-02, -1.65214336e+00,  2.74254799e-01,\n",
       "       -6.29156828e-01, -6.69885993e-01, -6.18473351e-01,  4.31622624e-01,\n",
       "       -5.20274997e-01,  1.36027837e+00,  1.14785528e+00, -7.18701959e-01,\n",
       "        7.51590729e-03,  1.28168464e+00,  4.58476692e-01, -6.67251825e-01,\n",
       "       -8.71608913e-01,  1.54485464e+00,  9.50917900e-01,  1.56043792e+00,\n",
       "        4.03212607e-01,  1.39242446e+00, -1.03511266e-01,  5.22949100e-01,\n",
       "        6.63481951e-01, -2.78571583e-02, -7.29201555e-01, -3.53718221e-01,\n",
       "       -1.51166153e+00, -1.01856446e+00,  6.35556281e-01, -1.74585104e+00,\n",
       "        1.15104520e+00,  1.59911394e+00,  1.51997840e+00,  3.44797730e-01,\n",
       "       -1.03017724e+00, -3.45429003e-01, -3.04957777e-01, -1.52944401e-01,\n",
       "       -5.44562161e-01,  2.72868156e-01, -4.63097245e-01,  1.88961005e+00,\n",
       "       -6.39784217e-01,  4.92548734e-01,  3.46446395e-01,  1.83564737e-01,\n",
       "        3.37439775e-01,  8.80384505e-01, -1.57478499e+00,  2.41358101e-01,\n",
       "        3.42919797e-01, -1.77611470e-01, -1.44021761e+00, -4.05110151e-01,\n",
       "        9.36340988e-02,  1.14355302e+00,  5.38415670e-01, -1.01677406e+00,\n",
       "       -6.91158831e-01,  1.24061994e-01,  2.08524317e-01,  9.39107835e-02,\n",
       "        9.54437494e-01, -9.73229110e-02,  1.23226762e+00,  1.23787498e+00,\n",
       "       -3.61189842e-01,  9.04120207e-01,  1.90455630e-01,  3.66958052e-01,\n",
       "       -8.37930739e-01,  5.74375391e-01, -1.30378067e-01,  1.15551591e+00,\n",
       "        7.32961297e-01, -6.51616931e-01,  1.14175546e+00,  4.53374118e-01,\n",
       "       -1.02572598e-01,  1.62613499e+00,  2.79911757e-01, -9.57021713e-01,\n",
       "       -1.28427136e+00, -3.79492015e-01,  1.21321440e+00, -6.52286828e-01,\n",
       "       -7.16956675e-01,  8.21546495e-01, -2.78385609e-01,  1.13116920e+00,\n",
       "        1.09877801e+00, -9.30897057e-01,  3.44983995e-01,  8.14801455e-01,\n",
       "       -4.39908296e-01,  3.38641524e-01, -4.09136713e-01,  1.71416864e-01,\n",
       "        5.85778169e-02,  6.26305223e-01,  1.14245963e+00, -7.30407536e-02,\n",
       "        4.70406204e-01,  2.00712681e-01, -1.10264719e+00,  6.69936895e-01,\n",
       "        1.26470220e+00,  9.37947407e-02, -9.04536903e-01,  7.71072283e-02,\n",
       "        6.09872580e-01,  4.51008111e-01,  9.30154502e-01, -3.91750187e-01,\n",
       "        6.32270396e-01,  2.91941345e-01,  6.22447252e-01,  5.41504204e-01,\n",
       "        4.00293201e-01,  5.99478662e-01,  8.12313929e-02,  8.11389536e-02,\n",
       "        4.41665590e-01,  1.10141194e+00, -9.73566175e-01, -1.45525229e+00,\n",
       "        5.64942896e-01, -2.38153726e-01,  1.41102538e-01, -7.86106169e-01,\n",
       "        8.86057198e-01, -7.10840464e-01,  3.26998651e-01,  5.97461581e-01,\n",
       "       -1.95454672e-01, -5.74278891e-01,  1.28140897e-01,  8.05716038e-01,\n",
       "       -4.99953210e-01,  3.17015916e-01,  3.11145365e-01,  2.31078172e+00,\n",
       "       -6.16071820e-02, -4.31919217e-01, -1.45732984e-01,  6.16034329e-01,\n",
       "       -9.90340769e-01, -8.43515247e-02, -8.87244463e-01, -3.43031466e-01,\n",
       "        1.29097724e+00, -6.21537268e-01,  5.30033112e-01,  2.00960350e+00,\n",
       "       -3.07886720e-01, -3.07403147e-01, -2.99033314e-01,  1.58422315e+00,\n",
       "        6.66769266e-01,  9.46137428e-01,  1.00990915e+00, -4.43266183e-01,\n",
       "       -1.53554380e+00, -3.11963648e-01, -9.86446589e-02,  2.98546813e-02,\n",
       "       -2.61717647e-01, -2.58908892e+00, -4.89793450e-01,  2.49610400e+00,\n",
       "        5.08717775e-01,  6.50167406e-01,  3.08177084e-01,  4.27573532e-01,\n",
       "        2.46583670e-01, -3.61944973e-01,  3.36508006e-01,  1.83386910e+00,\n",
       "       -3.30808498e-02,  4.69550341e-01, -2.56732136e-01, -5.89861035e-01,\n",
       "        1.82226992e+00,  4.07912374e-01, -5.95187068e-01,  8.44992623e-02,\n",
       "        2.93201566e-01,  2.97689867e+00,  1.81511581e+00,  1.09478450e+00,\n",
       "        6.32768393e-01, -3.60258907e-01, -1.17961800e+00, -6.41383111e-01,\n",
       "       -1.11094594e-01, -3.20815630e-02,  6.67171240e-01, -3.80334854e-01,\n",
       "        2.60428548e-01,  2.25518703e+00,  6.14036620e-01, -1.76677659e-01,\n",
       "       -1.77042872e-01,  2.15038228e+00, -7.47119129e-01, -6.94940329e-01,\n",
       "       -8.47301006e-01, -8.48799795e-02,  8.57782483e-01,  5.92671633e-01,\n",
       "        8.59627664e-01, -2.30567908e+00, -7.14715004e-01,  1.16440344e+00,\n",
       "       -1.58269972e-01,  1.78712100e-01,  6.23533010e-01,  5.20011187e-01,\n",
       "        1.34862185e+00,  4.30683106e-01,  1.31071460e+00,  7.05769539e-01,\n",
       "        8.79336774e-01,  1.04244888e+00, -4.27515239e-01,  1.63319200e-01,\n",
       "       -1.31811416e+00,  3.38775277e-01,  6.16424382e-01,  9.51806784e-01,\n",
       "       -4.15800810e-02,  1.17272139e+00, -1.08082771e+00, -3.87872577e-01,\n",
       "       -6.65959537e-01, -8.24503422e-01, -1.04688597e+00,  3.82273108e-01,\n",
       "       -4.10088062e-01,  6.21689379e-01, -3.57832670e-01, -2.88852960e-01,\n",
       "       -3.67524415e-01, -6.23959482e-01, -1.07977919e-01, -7.72216558e-01,\n",
       "       -3.48410279e-01,  5.99237263e-01, -3.06324065e-01,  6.41631603e-01,\n",
       "        1.45477843e+00, -2.87822872e-01,  1.15087080e+00, -8.66089880e-01,\n",
       "        1.25644159e+00,  1.78619593e-01, -3.97543073e-01,  1.23447990e+00,\n",
       "        3.76233667e-01,  2.45015562e-01,  1.80345178e-02, -1.10603809e+00,\n",
       "        8.92204046e-01,  6.63500726e-01,  1.25622487e+00, -1.29875898e-01,\n",
       "       -5.97273231e-01, -3.75237942e-01,  4.66276169e-01,  2.05122173e-01,\n",
       "        8.55794966e-01, -4.02109766e+00,  1.44663095e+00,  2.47043401e-01,\n",
       "        6.41006291e-01, -2.76828825e-01,  9.26169276e-01,  4.13330525e-01,\n",
       "        3.42507660e-01,  1.37350845e+00, -1.03768373e+00,  2.95568466e-01,\n",
       "        7.84580886e-01, -6.02753498e-02, -1.78129300e-01, -8.99840772e-01,\n",
       "        1.44705963e+00,  1.71805096e+00,  1.68697700e-01, -5.69088697e-01,\n",
       "       -1.05946392e-01, -2.80162930e-01, -6.83287084e-01, -1.20706046e+00,\n",
       "       -6.09944940e-01, -1.30536139e+00, -2.01483652e-01, -2.13535619e-03,\n",
       "        8.87428582e-01, -7.25610018e-01,  1.03411448e+00,  6.20732784e-01,\n",
       "       -2.92527050e-01, -7.22838491e-02,  2.99866319e-01, -9.95001495e-01,\n",
       "        9.87490952e-01,  2.62368709e-01,  3.95636857e-01, -8.62838507e-01,\n",
       "       -3.04034084e-01,  3.50857615e-01, -4.46894020e-02,  9.52733755e-02,\n",
       "       -1.81237280e+00,  1.28287077e+00, -1.01697350e+00,  3.33019853e-01,\n",
       "        5.44876121e-02,  8.81249607e-02, -8.30182791e-01, -1.25741243e+00,\n",
       "        1.13769174e-01,  4.17068034e-01, -3.84529978e-01, -2.24329442e-01,\n",
       "        1.64284229e-01,  2.24695846e-01, -1.52362812e+00, -1.03049386e+00,\n",
       "        5.07937372e-01,  6.00863874e-01,  6.78084850e-01,  5.73505521e-01,\n",
       "        9.01763260e-01,  2.14455649e-01, -8.64825919e-02,  5.21134973e-01,\n",
       "       -3.84391499e+00, -4.32378709e-01,  3.86084616e-01, -5.74580669e-01,\n",
       "       -6.64478019e-02,  5.68239391e-01,  1.40971825e-01,  4.91561055e-01,\n",
       "       -1.59076071e+00,  4.58788455e-01, -3.81277966e+00, -3.56775165e-01,\n",
       "       -7.03040779e-01,  4.01636481e-01, -4.14997458e-01,  9.21633184e-01,\n",
       "       -2.88249224e-01,  5.43610930e-01, -1.87583879e-01,  1.77436829e-01,\n",
       "        3.09018731e-01, -8.21537852e-01,  9.64059412e-01, -4.18443084e-01,\n",
       "       -3.74808431e-01, -7.94256568e-01,  1.79038391e-01,  1.07198262e+00,\n",
       "        7.37932086e-01, -5.71660936e-01,  4.73279536e-01, -1.12488985e+00,\n",
       "       -8.20027292e-01,  1.16821074e+00,  1.13403845e+00, -8.37849677e-01,\n",
       "       -6.94696009e-01, -5.87070644e-01, -9.37980413e-01,  2.85796598e-02,\n",
       "       -1.03944853e-01,  8.15054893e-01,  2.77217299e-01,  1.07841098e+00,\n",
       "        8.49106610e-01, -1.22114134e+00,  1.31576613e-01,  4.65511270e-02,\n",
       "       -9.81024981e-01, -1.33689559e+00,  9.66922343e-01, -1.29471350e+00,\n",
       "        1.38093859e-01,  6.99725986e-01, -3.32961828e-01,  1.33537734e+00,\n",
       "       -3.91559631e-01,  5.63475609e-01, -2.24222928e-01, -2.44365752e-01,\n",
       "       -1.46850973e-01, -1.11731672e+00, -6.03064224e-02, -4.82764363e-01,\n",
       "        9.59275901e-01,  2.19666529e+00, -9.22762990e-01,  3.80298346e-01,\n",
       "        3.07932824e-01,  1.24998808e+00,  3.42893958e-01,  9.13813338e-03,\n",
       "       -2.37316504e-01, -5.78183085e-02, -1.28482759e-01,  8.15542877e-01,\n",
       "        4.25671153e-02,  1.63983011e+00, -2.73040682e-01, -1.85593545e-01,\n",
       "       -8.31672013e-01,  9.44417119e-01, -8.35879385e-01,  8.57552737e-02,\n",
       "       -2.79763073e-01,  9.06917810e-01,  3.24907243e-01,  3.79479341e-02,\n",
       "        1.75892282e-02, -3.66291165e-01, -5.95117025e-02,  6.87757730e-01,\n",
       "        5.07672548e-01,  8.89261663e-01,  1.69253200e-01, -2.01037988e-01,\n",
       "        5.85848749e-01,  1.67553282e+00,  4.36515689e-01, -3.62416089e-01,\n",
       "        8.22769478e-02,  4.75326329e-01,  1.03972065e+00,  1.17408049e+00,\n",
       "        1.08113837e+00,  1.17782414e+00,  7.19926596e-01, -6.69488072e-01,\n",
       "        1.36961266e-01,  1.56454647e+00, -4.26550388e-01, -9.29265976e-01,\n",
       "        7.18484282e-01,  3.78708035e-01,  7.51539230e-01,  9.56289247e-02,\n",
       "        2.21472546e-01,  2.28073746e-02,  5.18462420e-01,  1.02798808e+00,\n",
       "        2.11316884e-01,  1.61214149e+00,  7.54862845e-01, -9.27333951e-01,\n",
       "       -1.86410248e-01, -1.12251151e+00,  3.68849158e-01,  4.18065041e-01,\n",
       "        7.76562452e-01,  2.79443935e-02, -3.13859850e-01, -4.47743148e-01,\n",
       "        4.84260350e-01,  1.09082317e+00,  1.55656278e+00, -3.40695232e-01,\n",
       "        4.41436172e-01,  7.73886323e-01,  6.59893215e-01, -1.66957939e+00,\n",
       "       -1.25799263e+00,  7.65725791e-01,  7.07074761e-01, -1.03319311e+00,\n",
       "        5.52314758e-01,  3.94287348e-01,  3.92046541e-01, -1.49054036e-01,\n",
       "       -5.83782852e-01, -5.09695053e-01,  5.62451899e-01,  6.57409132e-01,\n",
       "       -5.00762105e-01,  4.95451093e-01,  3.58398631e-02, -7.79512286e-01,\n",
       "        4.42656130e-01, -2.28039473e-01,  8.00640434e-02,  1.79112327e+00,\n",
       "        3.67924988e-01,  1.30259609e+00,  1.01184189e+00, -8.26271594e-01,\n",
       "       -1.88019037e-01,  1.58396041e+00, -5.49806297e-01,  5.25782466e-01,\n",
       "       -8.63638639e-01, -5.48163474e-01,  4.79666919e-01,  4.72317070e-01,\n",
       "       -3.08872432e-01,  8.75108615e-02, -8.59508991e-01,  7.50891149e-01,\n",
       "       -2.64738083e-01,  7.62562573e-01, -4.49841648e-01,  1.45645380e-01,\n",
       "        1.01997602e+00,  3.77052516e-01, -2.72836208e-01,  4.99735296e-01,\n",
       "       -1.25989294e+00, -5.44753373e-01,  2.32419327e-01,  9.05423701e-01,\n",
       "       -5.48644066e-01,  7.33481288e-01, -5.10830224e-01,  1.30848274e-01,\n",
       "        7.81548619e-01, -4.22699869e-01, -3.84840518e-01,  1.11054122e+00,\n",
       "       -9.99024689e-01,  1.36228919e+00, -6.92069948e-01, -3.62365693e-01,\n",
       "       -2.13862389e-01,  7.48088896e-01, -6.61671281e-01,  3.47316325e-01],\n",
       "      dtype=float32)"
      ]
     },
     "execution_count": 88,
     "metadata": {},
     "output_type": "execute_result"
    }
   ],
   "source": [
    "#Reducing along the first dimension to get a 768 dimensional array\n",
    "feature_extractor(text,return_tensors = \"pt\")[0].numpy().mean(axis=0)"
   ]
  },
  {
   "cell_type": "code",
   "execution_count": 86,
   "id": "9add99c9-0ea1-466a-9b6c-c2f4f4843cec",
   "metadata": {},
   "outputs": [
    {
     "name": "stderr",
     "output_type": "stream",
     "text": [
      "Downloading (…)lve/main/config.json: 100%|██████████| 498/498 [00:00<00:00, 317kB/s]\n",
      "Downloading pytorch_model.bin: 100%|██████████| 499M/499M [00:05<00:00, 96.6MB/s] \n",
      "Downloading (…)okenizer_config.json: 100%|██████████| 25.0/25.0 [00:00<00:00, 10.3kB/s]\n",
      "Downloading (…)olve/main/vocab.json: 100%|██████████| 899k/899k [00:00<00:00, 1.30MB/s]\n",
      "Downloading (…)olve/main/merges.txt: 100%|██████████| 456k/456k [00:00<00:00, 893kB/s]\n",
      "Downloading (…)cial_tokens_map.json: 100%|██████████| 150/150 [00:00<00:00, 148kB/s]\n"
     ]
    },
    {
     "data": {
      "text/plain": [
       "array([-1.05279379e-01,  1.79884776e-01,  1.78165734e-01,  7.90822208e-02,\n",
       "        8.79584476e-02,  7.82945529e-02, -9.96747166e-02,  8.14059898e-02,\n",
       "        1.02932587e-01,  2.42750589e-02, -1.37920171e-01,  1.14659166e+00,\n",
       "       -1.42273620e-01,  5.57100847e-02,  3.90794545e-01,  2.12037005e-02,\n",
       "       -1.25195742e-01,  2.66129375e-01,  8.31459016e-02,  3.45441103e-01,\n",
       "       -8.21758956e-02,  6.92870542e-02,  3.76256168e-01, -2.67717242e-01,\n",
       "        5.37005603e-01,  8.89568403e-02,  5.87411970e-02,  5.56933165e-01,\n",
       "       -9.74574015e-02,  8.39343488e-01, -3.60262871e-01, -1.73452094e-01,\n",
       "        1.67251635e+00,  4.81817983e-02,  8.37411657e-02, -6.21495098e-02,\n",
       "       -7.90823251e-02,  4.31111529e-02,  1.70363829e-01, -3.30132455e-01,\n",
       "       -6.90541491e-02,  1.62450999e-01, -1.34637511e+00,  9.60141197e-02,\n",
       "        3.79534394e-01,  1.90344587e-01,  1.80477146e-02, -1.55327499e-01,\n",
       "       -1.69174653e-02,  2.68235713e-01,  3.58302951e-01,  1.96859896e-01,\n",
       "       -5.54304302e-01, -1.89292982e-01,  2.60501444e-01,  5.04956543e-01,\n",
       "       -1.19586456e+00,  1.88619420e-01, -4.55228448e-01, -1.89983130e-01,\n",
       "        6.76422333e-03, -6.98833227e-01, -2.16910392e-01,  1.61729753e-03,\n",
       "        1.49212718e+00,  2.28122339e-01,  3.88474792e-01,  9.78541911e-01,\n",
       "       -1.35008454e-01,  6.80761486e-02, -1.62884787e-01, -4.38088834e-01,\n",
       "       -1.90018982e-01, -3.29072714e-01, -7.29755819e-01,  4.44681585e-01,\n",
       "       -4.08027798e-01, -8.15214252e+00, -1.59454077e-01,  4.64176536e-01,\n",
       "        4.71251011e-01, -2.44188726e-01,  7.81557083e-01,  2.62885820e-02,\n",
       "       -3.11953932e-01, -9.19142067e-02, -2.72930656e-02,  3.42310786e-01,\n",
       "       -9.01423156e-01, -9.91659164e-02,  5.72405122e-02,  3.73726301e-02,\n",
       "        8.07905197e-01,  9.83200371e-02, -8.08468610e-02,  5.27128935e-01,\n",
       "        4.08869654e-01, -9.03506577e-02,  2.89516300e-01, -3.38109136e-01,\n",
       "        1.23353928e-01, -5.08651376e-01,  1.21496096e-01,  1.40018150e-01,\n",
       "        2.85901457e-01, -2.44274378e-01,  4.99085575e-01, -1.46929726e-01,\n",
       "        1.41762555e-01,  1.10199206e-01,  1.44187570e-01, -1.73587158e-01,\n",
       "        2.02972829e-01,  1.77919537e-01,  1.32603228e-01, -5.08417189e-01,\n",
       "        4.64369431e-02, -8.38211104e-02,  1.88863650e-02,  1.42932117e-01,\n",
       "       -1.02904153e+00,  1.36754006e-01, -5.08038759e-01,  1.08759260e+00,\n",
       "       -1.92077011e-01,  3.74819674e-02,  5.19512184e-02, -2.33060196e-01,\n",
       "        3.29178333e-01,  3.38758439e-01, -1.19989157e+00, -1.04884863e+00,\n",
       "       -8.46000016e-02,  4.76765841e-01,  4.45946276e-01, -2.94883877e-01,\n",
       "        2.57254809e-01, -4.68358956e-03, -1.75238624e-01,  5.63542068e-01,\n",
       "       -5.60865104e-01, -1.58465177e-01, -9.29266363e-02,  4.19664294e-01,\n",
       "        4.78398114e-01,  6.95285350e-02,  2.37323210e-01,  3.45852645e-03,\n",
       "        4.12494272e-01, -4.19194430e-01, -8.64121079e-01,  1.12395845e-01,\n",
       "        1.39323854e+00, -1.74689844e-01,  3.87345366e-02, -1.65133774e+00,\n",
       "       -2.36727297e-02,  1.52569994e-01,  3.89402616e-03, -4.85780597e-01,\n",
       "        3.45338792e-01, -3.81113440e-02,  3.27481069e-02,  3.96181583e-01,\n",
       "        2.98114151e-01,  1.87468737e-01, -2.04885513e-01, -3.37704629e-01,\n",
       "        1.28274381e-01,  5.58659494e-01, -5.94094336e-01, -5.57124436e-01,\n",
       "       -5.50120652e-01, -7.33743832e-02,  1.95702597e-01,  7.48777568e-01,\n",
       "        3.78158659e-01,  4.08853479e-02, -1.01070851e-01,  1.39872742e+00,\n",
       "        1.53557673e-01, -1.50793895e-01,  2.31243968e-02, -1.99104518e-01,\n",
       "       -1.41381875e-01,  1.88952670e-01, -3.18212152e-01,  7.03245819e-01,\n",
       "       -5.68026565e-02, -9.35127214e-02, -3.31450611e-01, -1.80069014e-01,\n",
       "        1.99827448e-01,  7.68745184e-01,  1.80861577e-01,  6.89537346e-01,\n",
       "        1.36143044e-01,  3.14640641e-01,  9.62672770e-01, -2.36297082e-02,\n",
       "       -7.19315633e-02,  5.23243785e-01,  1.59923226e-01,  2.03832760e-01,\n",
       "       -1.98462278e-01,  3.89008403e-01, -1.33467987e-01,  4.06196803e-01,\n",
       "        3.35024029e-01,  1.42294669e+00,  1.89615464e+00,  5.20775676e-01,\n",
       "        1.18480712e-01, -3.86433274e-01, -1.09229982e+00, -2.41641045e-01,\n",
       "       -5.95590174e-01, -3.80697072e-01,  1.61825746e-01,  2.12655827e-01,\n",
       "       -1.51644135e+00,  2.15197429e-01, -2.44311646e-01, -1.82876438e-01,\n",
       "       -1.68208644e-01, -1.52607784e-01,  5.31781852e-01, -6.46376014e-02,\n",
       "       -1.48185626e-01, -1.61031425e-01, -2.56202102e-01,  1.76912963e-01,\n",
       "       -3.11368495e-01, -7.74419010e-02, -4.76786196e-01, -4.91914600e-01,\n",
       "       -1.64480314e-01,  1.99333593e-01,  1.96527809e-01, -1.24318540e+00,\n",
       "       -3.47540043e-02,  6.56551495e-02,  6.23123288e-01,  7.25197852e-01,\n",
       "        1.45854577e-01, -1.07091868e+00,  5.09938151e-02,  3.94061148e-01,\n",
       "        3.82624298e-01,  5.10049701e-01, -5.81781268e-02,  2.52877980e-01,\n",
       "        1.14195906e-02,  8.87563899e-02, -1.75647303e-01, -1.38866931e-01,\n",
       "       -3.03493917e-01, -1.12531386e-01,  3.74651283e-01,  2.67027521e+00,\n",
       "        1.89722851e-01,  3.00000012e-01,  7.18241930e-01, -6.28133118e-01,\n",
       "        3.86906207e-01, -4.15283680e-01,  1.03079170e-01,  2.87969679e-01,\n",
       "        3.66185367e-01,  3.86583358e-01,  1.38667929e+00,  2.85678834e-01,\n",
       "       -1.26644447e-01,  4.00625497e-01,  1.71472281e-01,  2.88468480e-01,\n",
       "        2.67388165e-01, -6.77486276e-03, -7.43884265e-01, -2.04546511e-01,\n",
       "       -2.04396904e-01, -2.62954682e-01,  1.21482290e-01, -1.12308823e-01,\n",
       "       -2.32766449e-01, -9.45826471e-02,  2.39025652e-01,  2.06327066e-01,\n",
       "       -1.83198556e-01, -4.72742729e-02,  3.83665532e-01, -5.58215976e-01,\n",
       "        9.36089396e-01, -4.59349304e-02, -3.44878852e-01, -5.14141545e-02,\n",
       "        1.97328568e-01,  1.09400183e-01,  1.09527186e-01, -5.86995304e-01,\n",
       "        1.94921449e-01,  1.36040777e-01,  1.86701238e-01,  1.60905659e-01,\n",
       "       -6.97285891e-01, -2.17953205e-01, -4.68529701e-01,  1.12993151e-01,\n",
       "        4.20372933e-02, -1.99149907e-01,  1.55959815e-01, -1.27485001e+00,\n",
       "       -5.55638522e-02, -2.81211019e-01,  1.59564182e-01, -4.67223763e-01,\n",
       "       -3.31670046e-02,  5.37711799e-01, -1.06501564e-01,  2.10232750e-01,\n",
       "        2.29144782e-01, -2.04291880e-01,  8.61319363e-01, -1.10821426e+00,\n",
       "        4.61998999e-01,  6.40123129e-01, -4.59522039e-01, -5.23353815e-01,\n",
       "       -1.90398955e+00,  1.61408544e-01, -1.15053988e+00,  1.20542586e+00,\n",
       "        3.92649293e-01,  1.76853311e+00, -1.13765049e+00, -2.27284297e-01,\n",
       "        6.76255167e-01, -3.24234307e-01,  3.49146217e-01, -4.97340053e-01,\n",
       "       -1.43436193e+00,  3.89940262e-01, -1.29613191e-01, -1.27251878e-01,\n",
       "        1.17614955e-01,  1.04396319e+00, -1.32155076e-01,  9.61371809e-02,\n",
       "        1.40315068e+00,  3.15751314e-01, -5.90163767e-01, -6.95270121e-01,\n",
       "       -2.05681115e-01, -1.89567327e-01,  2.14759871e-01,  1.97935998e+00,\n",
       "        2.93716997e-01,  3.79452705e-02,  1.27368271e-01, -1.40485808e-01,\n",
       "        2.89859056e-01,  5.25000155e-01,  2.50234157e-01,  2.00890255e+00,\n",
       "        7.46147871e-01, -7.19638318e-02, -1.61040390e+00,  1.47756010e-01,\n",
       "       -5.94716147e-02,  1.21810645e-01,  1.44677684e-01, -7.23425746e-02,\n",
       "        1.20462567e-01,  4.45473880e-01,  3.58351767e-01, -2.82270163e-01,\n",
       "        2.84274697e-01, -1.32215485e-01,  2.60917842e-03,  3.67276251e-01,\n",
       "       -7.32023001e-01,  2.05482736e-01,  2.40322296e-03,  1.34718709e-03,\n",
       "        2.07452491e-01, -1.99702322e+00,  3.58030289e-01, -3.56228381e-01,\n",
       "        1.16789830e+00, -1.60473883e-01,  5.54306172e-02,  3.67272571e-02,\n",
       "        3.72251183e-01, -1.89140126e-01, -1.21000357e-01,  9.68876779e-02,\n",
       "       -8.60875472e-02, -2.45523900e-02, -3.12775344e-01, -4.43827569e-01,\n",
       "       -2.09455907e-01,  1.53060079e-01,  1.07095605e-02,  2.56407052e-01,\n",
       "        6.46537170e-02,  1.55697003e-01, -1.26015902e-01, -2.89891720e-01,\n",
       "       -5.22483140e-02,  9.86237764e-01, -4.73633617e-01,  1.87744415e+00,\n",
       "       -2.89398313e-01,  8.81700870e-03,  9.89801362e-02,  1.29370838e-01,\n",
       "        5.38033903e-01, -1.03156209e+00, -1.14913993e-02,  5.67613184e-01,\n",
       "        2.25627735e-01,  2.07499832e-01,  4.89222109e-01, -4.46419090e-01,\n",
       "        4.88696843e-01,  1.75685301e-01, -1.70313403e-01, -6.51716441e-02,\n",
       "       -7.51557589e-01, -1.92832291e-01, -3.59513283e-01,  8.70983079e-02,\n",
       "        7.36494884e-02,  2.08258599e-01, -4.84090000e-01, -1.40009463e-01,\n",
       "       -2.94020921e-01, -4.18254256e-01,  6.63277388e-01,  1.58856243e-01,\n",
       "        4.84691083e-01,  1.04473606e-01,  2.43339226e-01,  3.04557711e-01,\n",
       "       -3.47806334e-01,  4.80125427e-01,  2.51294510e-03,  1.43543661e+00,\n",
       "        5.46293557e-01, -1.47967994e-01,  2.64275521e-01,  5.67604825e-02,\n",
       "        9.92200822e-02, -3.72932345e-01,  5.94789028e-01, -2.92109370e-01,\n",
       "        2.34632224e-01, -2.75326297e-02,  2.06733033e-01,  3.72502148e-01,\n",
       "       -1.05371788e-01, -9.38751698e-02,  3.84942859e-01, -2.15342551e-01,\n",
       "        1.00155883e-01, -1.58705950e+00,  4.17963475e-01, -3.73155266e-01,\n",
       "        4.33594257e-01,  1.95200950e-01, -8.90822649e-01,  9.93275046e-02,\n",
       "       -9.80138928e-02, -4.19724762e-01, -2.57176548e-01,  1.32580221e-01,\n",
       "       -2.38149703e-01,  1.81773424e+00,  1.33060157e-01,  2.05253506e+00,\n",
       "       -3.15015167e-02, -4.41880107e-01,  1.77034318e-01, -7.85951018e-01,\n",
       "        3.29984516e-01,  2.95887917e-01, -1.52654305e-01, -2.96866059e-01,\n",
       "        2.70051155e-02, -5.26517749e-01, -2.47908384e-01,  2.11633042e-01,\n",
       "       -1.87733904e-01,  4.68057573e-01, -3.84118855e-01,  2.80018747e-01,\n",
       "       -5.24371862e-01,  3.25822562e-01, -4.95838225e-01,  6.62681341e-01,\n",
       "        5.17203845e-03,  2.94627786e-01, -1.76349238e-01,  1.49098182e+00,\n",
       "       -1.52911752e-01,  4.06461954e-01, -5.45994818e-01,  1.13677168e+00,\n",
       "        2.08173677e-01, -4.80276272e-02, -3.75559293e-02,  4.10507679e-01,\n",
       "        1.15339601e+00,  1.30834341e-01, -9.11148190e-02,  1.69125974e-01,\n",
       "       -3.51217598e-01, -4.23071742e-01, -1.54765308e-01,  2.10161448e+00,\n",
       "        5.57792425e-01,  2.01860845e-01, -1.01399176e-01,  1.31834418e-01,\n",
       "        1.55644739e+00,  3.76186371e-02, -1.05975485e+00, -9.52656746e-01,\n",
       "        1.46039641e-02, -3.65308404e-01, -2.86413491e-01, -9.89674702e-02,\n",
       "        8.24440420e-02, -1.24060951e-01,  6.92594230e-01, -2.35391319e-01,\n",
       "       -3.59552771e-01, -1.16256557e-01, -3.13515253e-02,  2.48791590e-01,\n",
       "       -3.31950784e-02, -4.15156484e-01,  1.58174098e+00,  2.68356115e-01,\n",
       "        4.29754138e-01,  8.82777665e-03, -5.16579390e-01, -1.50816011e+00,\n",
       "       -1.75909996e-01, -2.85764337e-01,  3.81630689e-01,  2.64563501e-01,\n",
       "       -3.01099181e-01, -2.63270587e-01,  5.88537037e-01,  1.09500915e-01,\n",
       "       -8.57068449e-02,  3.16687524e-01, -1.43247828e-01,  6.79346547e-03,\n",
       "       -4.15815592e-01,  9.21707153e-01,  1.96282566e-02, -3.26020867e-01,\n",
       "        2.08585918e-01,  2.52370059e-01, -9.97889340e-02,  1.01136528e-02,\n",
       "       -9.78199183e-04, -2.64203221e-01, -2.76740885e+00,  2.53324330e-01,\n",
       "        3.12315702e-01, -1.53182134e-01,  4.53257561e-01, -8.12295265e-03,\n",
       "        8.04059207e-01, -3.57610077e-01,  1.75894484e-01,  1.95755422e-01,\n",
       "        1.38687402e-01,  1.59414613e+00,  1.76135793e-01, -1.11380322e-02,\n",
       "       -2.18350351e-01,  9.52697873e-01,  3.36732179e-01,  7.09023654e-01,\n",
       "        7.72891569e+00, -1.27415404e-01,  1.53252125e+00,  5.10196447e-01,\n",
       "        3.48307878e-01, -8.59178603e-02, -1.23594201e+00, -2.10325688e-01,\n",
       "       -1.77296609e-01, -2.73830704e-02,  2.73576304e-02,  5.06531477e-01,\n",
       "       -2.37464800e-01, -3.34815502e-01,  6.05466008e-01, -5.27725160e-01,\n",
       "       -7.91490316e-01,  3.69475365e-01,  1.36188850e-01, -4.28450555e-02,\n",
       "       -4.68502827e-02,  4.83831428e-02,  5.22465527e-01, -4.54509467e-01,\n",
       "        4.21140581e-01, -3.70995253e-02,  2.85510458e-02, -1.43145621e-01,\n",
       "       -4.10621434e-01, -1.69697076e-01, -1.10749803e-01,  4.19956088e-01,\n",
       "       -2.35816725e-02, -1.81846861e-02, -3.01397026e-01,  2.21235061e+00,\n",
       "        4.99645829e-01, -4.12348270e-01,  1.15758553e-01, -1.42971706e+00,\n",
       "        3.50581229e-01, -3.88205171e-01,  1.69814572e-01, -1.14965931e-01,\n",
       "        3.27887535e-01,  3.06993462e-02, -8.31133008e-01,  3.42808127e-01,\n",
       "        3.08249056e-01, -5.00331186e-02,  1.39464632e-01,  7.17194796e-01,\n",
       "       -7.89903030e-02, -1.99300349e-02,  3.73441398e-01,  1.43477514e-01,\n",
       "       -9.50568199e-01, -5.90841413e-01, -9.63365674e-01, -6.81815147e-01,\n",
       "       -5.83638996e-02,  6.02916896e-01,  3.29174131e-01, -1.16187334e+00,\n",
       "        3.71559501e-01, -3.33159447e-01, -4.30698574e-01,  1.67310745e-01,\n",
       "        2.99448282e-01,  2.68499523e-01,  1.78408957e+00,  7.78919220e-01,\n",
       "        2.17776239e-01, -6.87801838e-02, -1.05968982e-01, -1.24633461e-01,\n",
       "        5.74713886e-01, -2.47726411e-01,  1.40554845e-01, -5.09507418e-01,\n",
       "       -2.61108160e-01,  2.77489126e-01, -5.29232860e-01, -6.44671917e-01,\n",
       "        1.11716419e-01,  3.16389143e-01,  6.46732092e-01,  4.10131872e-01,\n",
       "        1.73730767e+00, -1.03686631e-01,  8.59343037e-02, -1.33541785e-02,\n",
       "       -9.16094065e-01,  7.49187544e-02, -7.01214671e-02, -2.89333254e-01,\n",
       "       -1.62690377e+00, -1.35907412e-01,  4.00958180e-01,  2.06638291e-01,\n",
       "        2.00926006e-01, -3.21373224e-01,  1.40831292e-01,  2.69862324e-01,\n",
       "       -2.41556510e-01, -8.46634388e-01,  3.26560676e-01, -2.10770786e-01,\n",
       "        5.13908982e-01, -4.75138938e-03, -1.74504369e-01, -4.21785831e-01,\n",
       "       -1.13232054e-01,  1.65489856e-02,  1.57811010e+00, -1.54795110e-01,\n",
       "       -9.85326841e-02,  5.26118934e-01,  1.98323548e-01, -2.30552062e-01,\n",
       "        3.99451166e-01,  1.15394723e+00, -2.19446331e-01, -2.92552918e-01,\n",
       "        1.37481198e-01, -1.90537319e-01, -1.23874269e-01, -1.47811219e-01,\n",
       "        3.51644307e-01,  9.03020024e-01, -4.90689397e-01,  2.59697080e-01,\n",
       "        6.09075308e-01,  1.33537161e+00,  5.47398806e-01, -1.06017955e-03,\n",
       "       -7.69411981e-01,  1.64816454e-02,  2.93391585e-01, -6.23428822e-02,\n",
       "       -2.87823770e-02, -5.81632316e-01, -5.27498461e-02,  1.95086133e-02,\n",
       "       -1.05188608e+00, -4.11812037e-01,  5.22321582e-01,  4.39058512e-01,\n",
       "       -6.52092695e-02, -9.58924145e-02, -2.09155023e-01,  2.31856927e-01,\n",
       "       -2.60075778e-01,  3.71816278e-01,  1.08189240e-01, -1.15832061e-01,\n",
       "        9.04357135e-02,  9.26801920e-01,  2.09705412e-01, -7.43870974e-01,\n",
       "        5.91919959e-01, -1.42459083e+00,  6.34306192e-01, -1.16857141e-01,\n",
       "        1.59165859e-01,  4.87054363e-02,  4.80435312e-01, -1.24521650e-01,\n",
       "        4.18755352e-01, -3.91169846e-01,  7.45748803e-02,  3.88557613e-02,\n",
       "       -5.77699304e-01,  5.82734406e-01, -4.07419689e-02,  3.91433090e-01,\n",
       "        9.07706380e-01,  1.31310582e-01, -4.31562364e-01,  4.48653221e-01],\n",
       "      dtype=float32)"
      ]
     },
     "execution_count": 86,
     "metadata": {},
     "output_type": "execute_result"
    }
   ],
   "source": [
    "checkpoint = \"microsoft/codebert-base\"\n",
    "feature_extractor = transformers.pipeline(\"feature-extraction\",framework=\"pt\",model=checkpoint)\n",
    "text = \"Transformers is an awesome library!\"\n",
    "\n",
    "#Reducing along the first dimension to get a 768 dimensional array\n",
    "feature_extractor(text,return_tensors = \"pt\")[0].numpy().mean(axis=0) "
   ]
  },
  {
   "cell_type": "code",
   "execution_count": null,
   "id": "8ff03827-e754-43f5-9150-962165ccaa1d",
   "metadata": {},
   "outputs": [],
   "source": []
  }
 ],
 "metadata": {
  "kernelspec": {
   "display_name": "Python 3",
   "language": "python",
   "name": "python3"
  },
  "language_info": {
   "codemirror_mode": {
    "name": "ipython",
    "version": 3
   },
   "file_extension": ".py",
   "mimetype": "text/x-python",
   "name": "python",
   "nbconvert_exporter": "python",
   "pygments_lexer": "ipython3",
   "version": "3.8.0"
  }
 },
 "nbformat": 4,
 "nbformat_minor": 5
}

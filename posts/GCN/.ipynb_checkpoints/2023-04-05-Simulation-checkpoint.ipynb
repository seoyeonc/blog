{
 "cells": [
  {
   "cell_type": "raw",
   "id": "067f09c3-5933-470c-8ebe-9d71ce8ca7e8",
   "metadata": {
    "id": "cac470df-29e7-4148-9bbd-d8b9a32fa570",
    "tags": []
   },
   "source": [
    "---\n",
    "title: \"Simulation\"\n",
    "author: \"SEOYEON CHOI\"\n",
    "date: \"2023-04-05\"\n",
    "categories:\n",
    "  - ITSTGCN\n",
    "---"
   ]
  },
  {
   "cell_type": "markdown",
   "id": "4115bb33-2ef5-4291-8c52-8fdb696fdfca",
   "metadata": {
    "tags": []
   },
   "source": [
    "> Simulation Study"
   ]
  },
  {
   "cell_type": "code",
   "execution_count": null,
   "id": "97cfaa6d-11ad-460b-874c-01c8e2c14e70",
   "metadata": {},
   "outputs": [],
   "source": []
  }
 ],
 "metadata": {
  "kernelspec": {
   "display_name": "Python 3 (ipykernel)",
   "language": "python",
   "name": "python3"
  },
  "language_info": {
   "codemirror_mode": {
    "name": "ipython",
    "version": 3
   },
   "file_extension": ".py",
   "mimetype": "text/x-python",
   "name": "python",
   "nbconvert_exporter": "python",
   "pygments_lexer": "ipython3",
   "version": "3.8.12"
  }
 },
 "nbformat": 4,
 "nbformat_minor": 5
}

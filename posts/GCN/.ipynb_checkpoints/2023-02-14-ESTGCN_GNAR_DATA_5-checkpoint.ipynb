{
 "cells": [
  {
   "cell_type": "raw",
   "id": "6c8f0bf9-e110-4e30-8596-b2dd384e79e0",
   "metadata": {
    "id": "cac470df-29e7-4148-9bbd-d8b9a32fa570",
    "tags": []
   },
   "source": [
    "---\n",
    "title: \"GNAR lag 1 Block Missing comparison Table\"\n",
    "author: \"SEOYEON CHOI\"\n",
    "date: \"2023-02-15\"\n",
    "categories:\n",
    "  - ST-GCN\n",
    "---"
   ]
  },
  {
   "cell_type": "markdown",
   "id": "ccf50ae2-58ec-4c6e-9cc8-393c473767eb",
   "metadata": {},
   "source": [
    "> GNAR fiveNet,fivenodes lag 1"
   ]
  },
  {
   "cell_type": "markdown",
   "id": "1463f6e7-0b6c-490d-b7ee-4022ce4345a8",
   "metadata": {
    "tags": []
   },
   "source": [
    "# import"
   ]
  },
  {
   "cell_type": "code",
   "execution_count": 1,
   "id": "f90af573-4bc0-4c9e-ad94-e9739160055e",
   "metadata": {},
   "outputs": [],
   "source": [
    "import numpy as np\n",
    "import pandas as pd\n",
    "import matplotlib.pyplot as plt\n",
    "from matplotlib import animation\n",
    "\n",
    "# torch\n",
    "import torch\n",
    "import torch.nn.functional as F\n",
    "from torch_geometric_temporal.nn.recurrent import GConvGRU\n",
    "\n",
    "# scipy \n",
    "from scipy.interpolate import interp1d\n",
    "\n",
    "# utils\n",
    "import time\n",
    "import pickle\n",
    "from tqdm import tqdm\n",
    "\n",
    "# rpy2\n",
    "import rpy2\n",
    "import rpy2.robjects as ro \n",
    "from rpy2.robjects.vectors import FloatVector \n",
    "from rpy2.robjects.packages import importr\n",
    "\n",
    "import rpy2.robjects.numpy2ri as rpyn\n",
    "import rpy2.robjects as robjects"
   ]
  },
  {
   "cell_type": "code",
   "execution_count": 2,
   "id": "dbbe91df-66c9-46da-abf9-379f37061d5e",
   "metadata": {},
   "outputs": [],
   "source": [
    "class RecurrentGCN(torch.nn.Module):\n",
    "    def __init__(self, node_features, filters):\n",
    "        super(RecurrentGCN, self).__init__()\n",
    "        self.recurrent = GConvGRU(node_features, filters, 2)\n",
    "        self.linear = torch.nn.Linear(filters, 1)\n",
    "\n",
    "    def forward(self, x, edge_index, edge_weight):\n",
    "        h = self.recurrent(x, edge_index, edge_weight)\n",
    "        h = F.relu(h)\n",
    "        h = self.linear(h)\n",
    "        return h"
   ]
  },
  {
   "cell_type": "markdown",
   "id": "4ad5f9f9-20fb-489c-9a8d-0f47cf681b1e",
   "metadata": {},
   "source": [
    "# my functions"
   ]
  },
  {
   "cell_type": "code",
   "execution_count": 3,
   "id": "227faf0a-4609-4fb1-bb57-f72308e2b23d",
   "metadata": {},
   "outputs": [],
   "source": [
    "def load_data(fname):\n",
    "    with open(fname, 'rb') as outfile:\n",
    "        data_dict = pickle.load(outfile)\n",
    "    return data_dict"
   ]
  },
  {
   "cell_type": "code",
   "execution_count": 4,
   "id": "a159f970-32cf-4719-b3b7-d16eeb939f5e",
   "metadata": {},
   "outputs": [],
   "source": [
    "def save_data(data_dict,fname):\n",
    "    with open(fname,'wb') as outfile:\n",
    "        pickle.dump(data_dict,outfile)"
   ]
  },
  {
   "cell_type": "code",
   "execution_count": 5,
   "id": "46b2f8de-d7db-4a8a-8b56-68987ea54c0e",
   "metadata": {},
   "outputs": [],
   "source": [
    "def plot(f,*args,t=None,h=2.5,**kwargs):\n",
    "    T,N = f.shape\n",
    "    if t == None: t = range(T)\n",
    "    fig = plt.figure()\n",
    "    ax = fig.subplots(N,1)\n",
    "    for n in range(N):\n",
    "        ax[n].plot(t,f[:,n],*args,**kwargs)\n",
    "        ax[n].set_title('node='+str(n))\n",
    "    fig.set_figheight(N*h)\n",
    "    fig.tight_layout()\n",
    "    plt.close()\n",
    "    return fig"
   ]
  },
  {
   "cell_type": "code",
   "execution_count": 6,
   "id": "dfd30cd2-1daf-474d-b132-7b41af02e5f5",
   "metadata": {},
   "outputs": [],
   "source": [
    "def plot_add(fig,f,*args,t=None,**kwargs):\n",
    "    T = f.shape[0]\n",
    "    N = f.shape[1] \n",
    "    if t == None: t = range(T)   \n",
    "    ax = fig.get_axes()\n",
    "    for n in range(N):\n",
    "        ax[n].plot(t,f[:,n],*args,**kwargs)\n",
    "    return fig"
   ]
  },
  {
   "cell_type": "code",
   "execution_count": 7,
   "id": "5422d968-a917-483b-8e82-4ab2bf569bc5",
   "metadata": {},
   "outputs": [],
   "source": [
    "def make_Psi(T):\n",
    "    W = np.zeros((T,T))\n",
    "    for i in range(T):\n",
    "        for j in range(T):\n",
    "            if i==j :\n",
    "                W[i,j] = 0\n",
    "            elif np.abs(i-j) <= 1 : \n",
    "                W[i,j] = 1\n",
    "    d = np.array(W.sum(axis=1))\n",
    "    D = np.diag(d)\n",
    "    L = np.array(np.diag(1/np.sqrt(d)) @ (D-W) @ np.diag(1/np.sqrt(d)))\n",
    "    lamb, Psi = np.linalg.eigh(L)\n",
    "    return Psi"
   ]
  },
  {
   "cell_type": "code",
   "execution_count": 8,
   "id": "6fdbd67c-4d90-4d7f-9a4f-2f73dac5485c",
   "metadata": {},
   "outputs": [],
   "source": [
    "ebayesthresh = importr('EbayesThresh').ebayesthresh"
   ]
  },
  {
   "cell_type": "code",
   "execution_count": 9,
   "id": "7da0eb4f-5518-4e35-b392-9762da230d53",
   "metadata": {},
   "outputs": [],
   "source": [
    "def trim(f):\n",
    "    f = np.array(f)\n",
    "    if len(f.shape)==1: f = f.reshape(-1,1)\n",
    "    T,N = f.shape\n",
    "    Psi = make_Psi(T)\n",
    "    fbar = Psi.T @ f # apply dft \n",
    "    fbar_threshed = np.stack([ebayesthresh(FloatVector(fbar[:,i])) for i in range(N)],axis=1)\n",
    "    fhat = Psi @ fbar_threshed # inverse dft \n",
    "    return fhat"
   ]
  },
  {
   "cell_type": "code",
   "execution_count": 10,
   "id": "3036d47a-8211-4f46-9cd3-c316e01e5dce",
   "metadata": {},
   "outputs": [],
   "source": [
    "def update_from_freq_domain(signal, start, end, node):\n",
    "    signal = np.array(signal)\n",
    "    T,N = signal.shape \n",
    "    signal_trimed = trim(signal)\n",
    "    signal[start:end,node] = signal_trimed[start:end,node]\n",
    "    return signal"
   ]
  },
  {
   "cell_type": "markdown",
   "id": "c337c101-5cff-4aec-9f7b-fe41c9c16b47",
   "metadata": {},
   "source": [
    "# data 정리 "
   ]
  },
  {
   "cell_type": "markdown",
   "id": "f8e4e297-0e68-4b57-adc2-2abafc28cc03",
   "metadata": {},
   "source": [
    "`-` 데이터정리 "
   ]
  },
  {
   "cell_type": "code",
   "execution_count": 11,
   "id": "0bcaefae-0b23-4dbd-b35b-30a36b84095b",
   "metadata": {},
   "outputs": [],
   "source": [
    "data = load_data('./data/fivenodes.pkl')"
   ]
  },
  {
   "cell_type": "code",
   "execution_count": 12,
   "id": "50d881f0-65fc-49c4-acab-1c7b4d371a11",
   "metadata": {},
   "outputs": [],
   "source": [
    "edges_tensor = torch.tensor(data['edges'])\n",
    "fiveVTS = np.array(data['f'])\n",
    "nonzero_indices = edges_tensor.nonzero()\n",
    "fiveNet_edge = np.array(nonzero_indices).T\n",
    "T = 200\n",
    "N = 5 # number of Nodes\n",
    "E = fiveNet_edge\n",
    "V = np.array([1,2,3,4,5])\n",
    "t = np.arange(0,T)\n",
    "node_features = 1\n",
    "edge_index = torch.tensor(E)\n",
    "edge_attr = torch.tensor(np.array([1,1,1,1,1,1,1,1,1,1]),dtype=torch.float32)"
   ]
  },
  {
   "cell_type": "markdown",
   "id": "4fed58fa-3cd6-428b-a6d0-52e3460d9e1f",
   "metadata": {},
   "source": [
    "`-` train / test "
   ]
  },
  {
   "cell_type": "code",
   "execution_count": 13,
   "id": "cef13f89-df0c-467f-b856-7145f554e428",
   "metadata": {},
   "outputs": [],
   "source": [
    "fiveVTS_train = fiveVTS[:int(len(fiveVTS)*0.8)]\n",
    "fiveVTS_test = fiveVTS[int(len(fiveVTS)*0.8):]"
   ]
  },
  {
   "cell_type": "markdown",
   "id": "b984ecff-ebeb-4d3f-97de-297aa69aa487",
   "metadata": {},
   "source": [
    "# BLock Missing Values"
   ]
  },
  {
   "cell_type": "code",
   "execution_count": 14,
   "id": "a9c2d697-7649-4ed0-a0c7-e4b66c4fd45c",
   "metadata": {},
   "outputs": [],
   "source": [
    "class Missing:\n",
    "    def __init__(self,df):\n",
    "        self.df = df\n",
    "        self.number = []\n",
    "    def miss(self,start = 50,end = 150,node = 2):\n",
    "        self.missing = self.df.copy()\n",
    "        self.start = start\n",
    "        self.end = end\n",
    "        self.node = node\n",
    "        self.missing[self.start:self.end,self.node] = float('nan')\n",
    "    def first_mean(self):\n",
    "        self.train_mean = self.missing.copy()\n",
    "        self.train_mean[self.start-1:self.end,self.node] = np.mean(self.df[:(self.start-1),self.node].tolist()+self.df[self.end:,self.node].tolist())\n",
    "    def second_linear(self):\n",
    "        self.train_linear = pd.DataFrame(self.missing)\n",
    "        self.train_linear.interpolate(method='linear', inplace=True)\n",
    "        self.train_linear = self.train_linear.fillna(0)\n",
    "        self.train_linear = np.array(self.train_linear).reshape(int(len(self.df)),N)"
   ]
  },
  {
   "cell_type": "markdown",
   "id": "c786cbef-da2e-49ad-9ae7-14d2a01fd407",
   "metadata": {},
   "source": [
    "# Class code by Method"
   ]
  },
  {
   "cell_type": "markdown",
   "id": "f39a12a3-dc8b-4aba-b9de-37bffcfb6e6b",
   "metadata": {},
   "source": [
    "## STGCN "
   ]
  },
  {
   "cell_type": "code",
   "execution_count": 153,
   "id": "6438e5df-c21d-4ba8-b2c9-1b26e745c13e",
   "metadata": {
    "tags": []
   },
   "outputs": [],
   "source": [
    "class STGCN_Block:\n",
    "    def __init__(self,Dataset, start,end,node,df, iterable, Method, Missingrate, Missingtype, lag, Number_of_filters, Interpolation):\n",
    "        self.Dataset = Dataset\n",
    "        self.df = df\n",
    "        self.iterable = iterable\n",
    "        self.Method = Method\n",
    "        self.Missingrate = Missingrate\n",
    "        self.Missingtype = Missingtype\n",
    "        self.lag = lag\n",
    "        self.Number_of_filters = Number_of_filters\n",
    "        self.Interpolation = Interpolation\n",
    "        self.iterable = iterable\n",
    "        self.start,self.end,self.node = start,end,node\n",
    "    def iter(self):\n",
    "        _zero = Missing(fiveVTS_train)\n",
    "        _zero.miss(self.start,self.end,self.node)\n",
    "        _zero.second_linear()\n",
    "\n",
    "        missing_index = _zero.number\n",
    "        interpolated_signal = _zero.train_linear\n",
    "\n",
    "        X = torch.tensor(interpolated_signal).reshape(int(T*0.8),N,1).float()[:int(T*0.8-1),:,:]\n",
    "        y = torch.tensor(interpolated_signal).reshape(int(T*0.8),N,1).float()[1:,:,:]\n",
    "\n",
    "        XX = torch.tensor(fiveVTS_test.reshape(int(T*0.2),N,1)[:-1,:,:]).float()\n",
    "        yy = torch.tensor(fiveVTS_test.reshape(int(T*0.2),N,1)[1:,:,:]).float()\n",
    "\n",
    "        real_y = torch.tensor(fiveVTS_train).reshape(int(T*0.8),N,1).float()[1:,:,:]\n",
    "        for i in range(self.iterable):\n",
    "            net = RecurrentGCN(node_features=self.lag, filters=self.Number_of_filters)\n",
    "            optimizer = torch.optim.Adam(net.parameters(), lr=0.01)\n",
    "            net.train()\n",
    "            for epoch in range(50):\n",
    "                for time, (xt,yt) in enumerate(zip(X,y)):\n",
    "                    yt_hat = net(xt, edge_index, edge_attr)\n",
    "                    cost = torch.mean((yt_hat-yt)**2)\n",
    "                    cost.backward()\n",
    "                    optimizer.step()\n",
    "                    optimizer.zero_grad()\n",
    "\n",
    "            yhat = torch.stack([net(xt, edge_index, edge_attr) for xt in X]).detach().numpy()\n",
    "            yyhat = torch.stack([net(xt, edge_index, edge_attr) for xt in XX]).detach().numpy()\n",
    "\n",
    "            train_mse_total_stgcn = (((real_y-yhat).squeeze())**2).mean()\n",
    "            test_mse_total_stgcn = (((yy-yyhat).squeeze())**2).mean()\n",
    "\n",
    "            df_row = pd.DataFrame(columns=col)\n",
    "            df_row['Dataset'] = self.Dataset\n",
    "            df_row['iteration'] = i+1, # 1,2,3,...,10 \n",
    "            df_row['method'] = self.Method, # 'stgcn','estgcn','gnar' \n",
    "            df_row['missingrate'] = self.Missingrate, # 0.0, 0.2, 0.4, 0.6, 0.8 \n",
    "            df_row['missingtype'] = self.Missingtype,  # None, 'randomly' and 'block' \n",
    "            df_row['lag'] = self.lag, # 1,2,3,4 ... \n",
    "            df_row['number_of_filters'] = self.Number_of_filters, # 16,24,32, ... \n",
    "            df_row['interpolation'] = self.Interpolation, # None, 'mean', 'linear'\n",
    "            df_row['MSE_train'] = train_mse_total_stgcn.tolist()\n",
    "            df_row['MSE_test'] = test_mse_total_stgcn.tolist()\n",
    "\n",
    "            self.df = pd.concat([self.df,df_row])"
   ]
  },
  {
   "cell_type": "markdown",
   "id": "94555b5b-66cf-4e4f-8be3-9364a7a74416",
   "metadata": {},
   "source": [
    "## Enhencement of STGCN "
   ]
  },
  {
   "cell_type": "code",
   "execution_count": 94,
   "id": "e5237dd7-2543-472c-8ce6-808e503993a2",
   "metadata": {
    "tags": []
   },
   "outputs": [],
   "source": [
    "class ESTGCN_Block:\n",
    "    def __init__(self,Dataset, start,end,node,df, iterable, Method, Missingrate, Missingtype, lag, Number_of_filters, Interpolation):\n",
    "        self.Dataset = Dataset\n",
    "        self.df = df\n",
    "        self.iterable = iterable\n",
    "        self.Method = Method\n",
    "        self.Missingrate = Missingrate\n",
    "        self.Missingtype = Missingtype\n",
    "        self.lag = lag\n",
    "        self.Number_of_filters = Number_of_filters\n",
    "        self.Interpolation = Interpolation\n",
    "        self.start,self.end,self.node = start,end,node\n",
    "        self.iterable = iterable\n",
    "    def iter(self):\n",
    "        _zero = Missing(fiveVTS_train)\n",
    "        _zero.miss(self.start,self.end,self.node)\n",
    "        _zero.second_linear()\n",
    "\n",
    "        missing_index = _zero.number\n",
    "        interpolated_signal = _zero.train_linear\n",
    "\n",
    "        X = torch.tensor(interpolated_signal).reshape(int(T*0.8),N,1).float()[:int(T*0.8-1),:,:]\n",
    "        y = torch.tensor(interpolated_signal).reshape(int(T*0.8),N,1).float()[1:,:,:]\n",
    "\n",
    "        XX = torch.tensor(fiveVTS_test.reshape(int(T*0.2),N,1)[:-1,:,:]).float()\n",
    "        yy = torch.tensor(fiveVTS_test.reshape(int(T*0.2),N,1)[1:,:,:]).float()\n",
    "\n",
    "        real_y = torch.tensor(fiveVTS_train).reshape(int(T*0.8),N,1).float()[1:,:,:]\n",
    "\n",
    "        for i in range(self.iterable):\n",
    "            net = RecurrentGCN(node_features=self.lag, filters=self.Number_of_filters)\n",
    "            optimizer = torch.optim.Adam(net.parameters(), lr=0.01)\n",
    "            net.train()\n",
    "            signal = interpolated_signal.copy()\n",
    "            for epoch in range(50):\n",
    "                signal = update_from_freq_domain(signal,self.start,self.end,self.node)\n",
    "                X = torch.tensor(signal).reshape(int(T*0.8),N,1).float()[:int(T*0.8-1),:,:]\n",
    "                y = torch.tensor(signal).reshape(int(T*0.8),N,1).float()[1:,:,:]\n",
    "                for time, (xt,yt) in enumerate(zip(X,y)):        \n",
    "                    yt_hat = net(xt, edge_index, edge_attr)\n",
    "                    cost = torch.mean((yt_hat-yt)**2)\n",
    "                    cost.backward()\n",
    "                    optimizer.step()\n",
    "                    optimizer.zero_grad()\n",
    "                signal = torch.concat([X.squeeze(),yt_hat.detach().squeeze().reshape(1,-1)])        \n",
    "\n",
    "            yhat = torch.stack([net(xt, edge_index, edge_attr) for xt in X]).detach().numpy()\n",
    "            yyhat = torch.stack([net(xt, edge_index, edge_attr) for xt in XX]).detach().numpy()\n",
    "\n",
    "            train_mse_total_estgcn = (((real_y-yhat).squeeze())**2).mean()\n",
    "            test_mse_total_estgcn = (((yy-yyhat).squeeze())**2).mean()\n",
    "\n",
    "            df_row = pd.DataFrame(columns=col)\n",
    "            df_row['Dataset'] = self.Dataset\n",
    "            df_row['iteration'] = i+1, # 1,2,3,...,10 \n",
    "            df_row['method'] = self.Method, # 'stgcn','estgcn','gnar' \n",
    "            df_row['missingrate'] = self.Missingrate, # 0.0, 0.2, 0.4, 0.6, 0.8 \n",
    "            df_row['missingtype'] = self.Missingtype,  # None, 'randomly' and 'block' \n",
    "            df_row['lag'] = self.lag, # 1,2,3,4 ... \n",
    "            df_row['number_of_filters'] = self.Number_of_filters, # 16,24,32, ... \n",
    "            df_row['interpolation'] = self.Interpolation, # None, 'mean', 'linear'\n",
    "            df_row['MSE_train'] = train_mse_total_estgcn.tolist()\n",
    "            df_row['MSE_test'] = test_mse_total_estgcn.tolist()\n",
    "\n",
    "            self.df = pd.concat([self.df,df_row])"
   ]
  },
  {
   "cell_type": "markdown",
   "id": "6eebb4f2-a236-40b9-b19b-8fccc5a2395e",
   "metadata": {},
   "source": [
    "## GNAR"
   ]
  },
  {
   "cell_type": "code",
   "execution_count": 95,
   "id": "4a6a1adf-2f9c-4096-a4c6-865ef19f93fd",
   "metadata": {},
   "outputs": [
    {
     "name": "stdout",
     "output_type": "stream",
     "text": [
      "The rpy2.ipython extension is already loaded. To reload it, use:\n",
      "  %reload_ext rpy2.ipython\n"
     ]
    }
   ],
   "source": [
    "%load_ext rpy2.ipython"
   ]
  },
  {
   "cell_type": "code",
   "execution_count": 96,
   "id": "e2ef15f2-9744-4c6b-925f-7b29570587d2",
   "metadata": {},
   "outputs": [],
   "source": [
    "%%R\n",
    "library(GNAR)\n",
    "library(igraph)\n",
    "library(zoo)"
   ]
  },
  {
   "cell_type": "code",
   "execution_count": 97,
   "id": "7192eeab-6858-460f-9632-78a7a57944a8",
   "metadata": {},
   "outputs": [],
   "source": [
    "GNAR = importr('GNAR') # import GNAR \n",
    "igraph = importr('igraph') # import igraph "
   ]
  },
  {
   "cell_type": "code",
   "execution_count": 98,
   "id": "fccb92d1-03a7-4d2c-bc6a-39a76c4fa9d3",
   "metadata": {
    "tags": []
   },
   "outputs": [],
   "source": [
    "m = robjects.r.matrix(FloatVector([0,0,0,1,1,0,0,1,1,0,0,1,0,1,0,1,1,1,0,0,1,0,0,0,0]), nrow = 5, ncol = 5)"
   ]
  },
  {
   "cell_type": "code",
   "execution_count": 99,
   "id": "fcb2746a-f038-4ed1-a1bb-ad6c65fa2022",
   "metadata": {},
   "outputs": [],
   "source": [
    "class GNAR_Block:\n",
    "    def __init__(self,Dataset, start,end,node,df, iterable, Method, Missingrate, Missingtype, lag, Number_of_filters, Interpolation):\n",
    "        self.Dataset = Dataset\n",
    "        self.df = df\n",
    "        self.iterable = iterable\n",
    "        self.Method = Method\n",
    "        self.Missingrate = Missingrate\n",
    "        self.Missingtype = Missingtype\n",
    "        self.lag = lag\n",
    "        self.Number_of_filters = Number_of_filters\n",
    "        self.Interpolation = Interpolation\n",
    "        self.iterable = iterable\n",
    "        self.start,self.end,self.node = start,end,node\n",
    "    def iter(self):\n",
    "        _zero = Missing(fiveVTS_train)\n",
    "        _zero.miss(self.start,self.end,self.node)\n",
    "        _zero.second_linear()\n",
    "\n",
    "        missing_index = _zero.number\n",
    "        interpolated_signal = _zero.train_linear\n",
    "\n",
    "        X = torch.tensor(interpolated_signal).reshape(int(T*0.8),N,1).float()[:int(T*0.8-2),:,:]\n",
    "\n",
    "        yy = torch.tensor(fiveVTS_test.reshape(int(T*0.2),N,1)[1:,:,:]).float()\n",
    "        \n",
    "        for i in range(self.iterable):\n",
    "    \n",
    "            answer = GNAR.GNARfit(vts=robjects.r.matrix(rpyn.numpy2rpy(np.array(X).squeeze()), nrow = 160, ncol = 5),net = GNAR.matrixtoGNAR(m), alphaOrder = 2, betaOrder = FloatVector([1, 1]))             \n",
    "            predict = GNAR.predict_GNARfit(answer,n_ahead=40)\n",
    "\n",
    "\n",
    "            train_mse_total_gnar = ((pd.DataFrame(GNAR.residuals_GNARfit(answer)).values.reshape(-1,5))**2).mean()\n",
    "            test_mse_total_gnar = ((yy.squeeze() - pd.DataFrame(predict).values.reshape(-1,5)[:-1,:])**2).mean()\n",
    "\n",
    "            df_row = pd.DataFrame(columns=col)\n",
    "            df_row['Dataset'] = self.Dataset,\n",
    "            df_row['iteration'] = i+1, # 1,2,3,...,10 \n",
    "            df_row['method'] = self.Method, # 'stgcn','estgcn','gnar' \n",
    "            df_row['missingrate'] = self.Missingrate, # 0.0, 0.2, 0.4, 0.6, 0.8 \n",
    "            df_row['missingtype'] = self.Missingtype,  # None, 'randomly' and 'block' \n",
    "            df_row['lag'] = self.lag, # 1,2,3,4 ... \n",
    "            df_row['number_of_filters'] = self.Number_of_filters, # 16,24,32, ... \n",
    "            df_row['interpolation'] = self.Interpolation, # None, 'mean', 'linear'\n",
    "            df_row['MSE_train'] = train_mse_total_gnar.tolist()\n",
    "            df_row['MSE_test'] = test_mse_total_gnar.tolist()\n",
    "\n",
    "            self.df = pd.concat([self.df,df_row])"
   ]
  },
  {
   "cell_type": "markdown",
   "id": "598937ab-8425-4955-8448-c99e94b847df",
   "metadata": {},
   "source": [
    "## STGCN "
   ]
  },
  {
   "cell_type": "code",
   "execution_count": 24,
   "id": "c69896fd-2a56-4ec1-ab32-a7afa8959126",
   "metadata": {},
   "outputs": [],
   "source": [
    "Dataset = 'fivenodes'\n",
    "Method = 'stgcn' # 'stgcn','estgcn','gnar' \n",
    "Missingrate = None # 0.0, 0.2, 0.4, 0.6, 0.8 \n",
    "Missingtype = 'block'  # None, 'randomly' and 'block' \n",
    "lag = 1 # 1,2,3,4 ... \n",
    "Number_of_filters = 4 # 16,24,32, ... \n",
    "Interpolation = 'Linear' # None, 'mean', 'linear'\n",
    "iterable = 100"
   ]
  },
  {
   "cell_type": "code",
   "execution_count": 25,
   "id": "a3279846-23ec-42c6-975b-aa646176fa9a",
   "metadata": {},
   "outputs": [],
   "source": [
    "col = ['Dataset', 'iteration', 'method', 'missingrate', 'missingtype', 'lag', 'number_of_filters', 'interpolation','MSE_train', 'MSE_test']"
   ]
  },
  {
   "cell_type": "code",
   "execution_count": 26,
   "id": "5e83a4ea-b823-4bbc-af00-1066d58077fd",
   "metadata": {},
   "outputs": [],
   "source": [
    "df = pd.DataFrame(columns=col)"
   ]
  },
  {
   "cell_type": "code",
   "execution_count": 27,
   "id": "5ebbfa60-112c-4900-a321-5e6b570aabf8",
   "metadata": {},
   "outputs": [],
   "source": [
    "stgcn = STGCN_Block(Dataset, 50,150,2,df, iterable,Method, Missingrate, Missingtype, lag, Number_of_filters, Interpolation)"
   ]
  },
  {
   "cell_type": "code",
   "execution_count": null,
   "id": "d90a3ad3-c664-484a-af73-ea7cd8d13db6",
   "metadata": {},
   "outputs": [],
   "source": [
    "stgcn.iter()"
   ]
  },
  {
   "cell_type": "code",
   "execution_count": null,
   "id": "ac22823d-0c8e-4908-9622-45e0d140a210",
   "metadata": {},
   "outputs": [],
   "source": [
    "df_stgcn = stgcn.df.copy()"
   ]
  },
  {
   "cell_type": "code",
   "execution_count": null,
   "id": "3c613803-dba2-4cb5-bc3f-92207e306cab",
   "metadata": {},
   "outputs": [],
   "source": [
    "save_data(df_stgcn, './data/GNAT_DATA_stgcn_block_node2.pkl')"
   ]
  },
  {
   "cell_type": "markdown",
   "id": "1a2b48dc-3f12-4a81-9484-536237841aed",
   "metadata": {},
   "source": [
    "## Enhencement of STGCN "
   ]
  },
  {
   "cell_type": "code",
   "execution_count": 86,
   "id": "36bca6f5-a3be-43e9-90ea-6c0dfdf004e2",
   "metadata": {},
   "outputs": [],
   "source": [
    "Dataset = 'fivenodes'\n",
    "Method = 'estgcn' # 'stgcn','estgcn','gnar' \n",
    "Missingrate = None # 0.0, 0.2, 0.4, 0.6, 0.8 \n",
    "Missingtype = 'block'  # None, 'randomly' and 'block' \n",
    "lag = 1 # 1,2,3,4 ... \n",
    "Number_of_filters = 4 # 16,24,32, ... \n",
    "Interpolation = 'Linear' # None, 'mean', 'linear'\n",
    "iterable = 100"
   ]
  },
  {
   "cell_type": "code",
   "execution_count": 87,
   "id": "8adc71ec-d71f-450e-8635-1bccbd64bf95",
   "metadata": {},
   "outputs": [],
   "source": [
    "col = ['Dataset', 'iteration', 'method', 'missingrate', 'missingtype', 'lag', 'number_of_filters', 'interpolation','MSE_train', 'MSE_test']"
   ]
  },
  {
   "cell_type": "code",
   "execution_count": 88,
   "id": "32a53868-37d3-44b1-8d8c-9a2be0e486b6",
   "metadata": {},
   "outputs": [],
   "source": [
    "df = pd.DataFrame(columns=col)"
   ]
  },
  {
   "cell_type": "code",
   "execution_count": 89,
   "id": "86e31d13-4d20-4474-b45c-4b5fc4db311c",
   "metadata": {},
   "outputs": [],
   "source": [
    "estgcn = ESTGCN_Block(Dataset, 50,150,2,df, iterable,Method, Missingrate, Missingtype, lag, Number_of_filters, Interpolation)"
   ]
  },
  {
   "cell_type": "code",
   "execution_count": 90,
   "id": "56b8a4f3-a08d-4c2e-a715-94db2cc4287d",
   "metadata": {},
   "outputs": [],
   "source": [
    "estgcn.iter()"
   ]
  },
  {
   "cell_type": "code",
   "execution_count": 91,
   "id": "9bab7f0d-185b-4e32-8dc9-a6176ed45af8",
   "metadata": {},
   "outputs": [],
   "source": [
    "df_estgcn = estgcn.df.copy()"
   ]
  },
  {
   "cell_type": "code",
   "execution_count": 92,
   "id": "acf040f3-8500-41f3-aa44-db726591d6df",
   "metadata": {},
   "outputs": [],
   "source": [
    "save_data(df_estgcn, './data/GNAR_DATA_estgcn_block_node2.pkl')"
   ]
  },
  {
   "cell_type": "markdown",
   "id": "4f82d617-3751-43f1-8d0a-dcc140028938",
   "metadata": {},
   "source": [
    "## GNAR"
   ]
  },
  {
   "cell_type": "code",
   "execution_count": 79,
   "id": "f972146e-2924-455d-b2c6-e366be2bf6ba",
   "metadata": {},
   "outputs": [],
   "source": [
    "Dataset = 'fivedodes'\n",
    "Method = 'gnar' # 'stgcn','estgcn','gnar' \n",
    "Missingrate = None # 0.0, 0.2, 0.4, 0.6, 0.8 \n",
    "Missingtype = 'block'  # None, 'randomly' and 'block' \n",
    "lag = 1 # 1,2,3,4 ... \n",
    "Number_of_filters = None # 16,24,32, ... \n",
    "Interpolation = 'Linear' # None, 'mean', 'linear'\n",
    "iterable = 100"
   ]
  },
  {
   "cell_type": "code",
   "execution_count": 80,
   "id": "fa9f2f1f-fdd3-44a7-aeda-f6f18075cf9e",
   "metadata": {},
   "outputs": [],
   "source": [
    "col = ['Dataset', 'iteration', 'method', 'missingrate', 'missingtype', 'lag', 'number_of_filters', 'interpolation','MSE_train', 'MSE_test']"
   ]
  },
  {
   "cell_type": "code",
   "execution_count": 81,
   "id": "2411c070-c0ba-4d44-8d98-e025a501024f",
   "metadata": {},
   "outputs": [],
   "source": [
    "df = pd.DataFrame(columns=col)"
   ]
  },
  {
   "cell_type": "code",
   "execution_count": 82,
   "id": "0094822c-b756-4b6b-96ec-8238659f8764",
   "metadata": {},
   "outputs": [],
   "source": [
    "gnar = GNAR_Block(Dataset, 50,150,2,df, iterable,Method, Missingrate, Missingtype, lag, Number_of_filters, Interpolation)"
   ]
  },
  {
   "cell_type": "code",
   "execution_count": 83,
   "id": "3e38a219-deef-4666-8352-19ea23d0aedb",
   "metadata": {},
   "outputs": [],
   "source": [
    "gnar.iter()"
   ]
  },
  {
   "cell_type": "code",
   "execution_count": 84,
   "id": "dbdb6acf-fe15-4b6e-a6cb-e13f08dd604e",
   "metadata": {},
   "outputs": [],
   "source": [
    "df_gnar = gnar.df.copy()"
   ]
  },
  {
   "cell_type": "code",
   "execution_count": 85,
   "id": "84358fe9-2044-494c-9e4e-516845d9aca1",
   "metadata": {},
   "outputs": [],
   "source": [
    "save_data(df_gnar, './data/GNAR_DATA_gnar_block_node2.pkl')"
   ]
  },
  {
   "cell_type": "markdown",
   "id": "894f2e8d-14bf-49db-a323-e91b87cf4886",
   "metadata": {},
   "source": [
    "# When the number of missing node is 2"
   ]
  },
  {
   "cell_type": "markdown",
   "id": "7a6b9624-6bd7-4946-a2a8-53fd6572b45f",
   "metadata": {},
   "source": [
    "## STGCN"
   ]
  },
  {
   "cell_type": "code",
   "execution_count": 123,
   "id": "fbd85ff0-22b6-4a1f-b884-861bfbcecbda",
   "metadata": {
    "tags": []
   },
   "outputs": [],
   "source": [
    "class STGCN_Block:\n",
    "    def __init__(self,Dataset, df, iterable, Method, Missingrate, Missingtype, lag, Number_of_filters, Interpolation):\n",
    "        self.Dataset = Dataset\n",
    "        self.df = df\n",
    "        self.iterable = iterable\n",
    "        self.Method = Method\n",
    "        self.Missingrate = Missingrate\n",
    "        self.Missingtype = Missingtype\n",
    "        self.lag = lag\n",
    "        self.Number_of_filters = Number_of_filters\n",
    "        self.Interpolation = Interpolation\n",
    "        self.iterable = iterable\n",
    "    def iter(self):\n",
    " \n",
    "        for i in range(self.iterable):\n",
    "            net = RecurrentGCN(node_features=self.lag, filters=self.Number_of_filters)\n",
    "            optimizer = torch.optim.Adam(net.parameters(), lr=0.01)\n",
    "            net.train()\n",
    "            for epoch in range(50):\n",
    "                for time, (xt,yt) in enumerate(zip(X,y)):\n",
    "                    yt_hat = net(xt, edge_index, edge_attr)\n",
    "                    cost = torch.mean((yt_hat-yt)**2)\n",
    "                    cost.backward()\n",
    "                    optimizer.step()\n",
    "                    optimizer.zero_grad()\n",
    "\n",
    "            yhat = torch.stack([net(xt, edge_index, edge_attr) for xt in X]).detach().numpy()\n",
    "            yyhat = torch.stack([net(xt, edge_index, edge_attr) for xt in XX]).detach().numpy()\n",
    "\n",
    "            train_mse_total_stgcn = (((real_y-yhat).squeeze())**2).mean()\n",
    "            test_mse_total_stgcn = (((yy-yyhat).squeeze())**2).mean()\n",
    "\n",
    "            df_row = pd.DataFrame(columns=col)\n",
    "            df_row['Dataset'] = self.Dataset\n",
    "            df_row['iteration'] = i+1, # 1,2,3,...,10 \n",
    "            df_row['method'] = self.Method, # 'stgcn','estgcn','gnar' \n",
    "            df_row['missingrate'] = self.Missingrate, # 0.0, 0.2, 0.4, 0.6, 0.8 \n",
    "            df_row['missingtype'] = self.Missingtype,  # None, 'randomly' and 'block' \n",
    "            df_row['lag'] = self.lag, # 1,2,3,4 ... \n",
    "            df_row['number_of_filters'] = self.Number_of_filters, # 16,24,32, ... \n",
    "            df_row['interpolation'] = self.Interpolation, # None, 'mean', 'linear'\n",
    "            df_row['MSE_train'] = train_mse_total_stgcn.tolist()\n",
    "            df_row['MSE_test'] = test_mse_total_stgcn.tolist()\n",
    "\n",
    "            self.df = pd.concat([self.df,df_row])"
   ]
  },
  {
   "cell_type": "markdown",
   "id": "dfdf0f5f-2b07-49dd-8bc7-7d30729a184e",
   "metadata": {},
   "source": [
    "## ESTGCN"
   ]
  },
  {
   "cell_type": "code",
   "execution_count": 124,
   "id": "af68d4c5-665c-4092-b26d-09adc20b32ba",
   "metadata": {
    "tags": []
   },
   "outputs": [],
   "source": [
    "class ESTGCN_Block:\n",
    "    def __init__(self,Dataset,df, iterable, Method, Missingrate, Missingtype, lag, Number_of_filters, Interpolation):\n",
    "        self.Dataset = Dataset\n",
    "        self.df = df\n",
    "        self.iterable = iterable\n",
    "        self.Method = Method\n",
    "        self.Missingrate = Missingrate\n",
    "        self.Missingtype = Missingtype\n",
    "        self.lag = lag\n",
    "        self.Number_of_filters = Number_of_filters\n",
    "        self.Interpolation = Interpolation\n",
    "        self.iterable = iterable\n",
    "    def iter(self):\n",
    "        for i in range(self.iterable):\n",
    "            net = RecurrentGCN(node_features=self.lag, filters=self.Number_of_filters)\n",
    "            optimizer = torch.optim.Adam(net.parameters(), lr=0.01)\n",
    "            net.train()\n",
    "            signal = interpolated_signal.copy()\n",
    "            for epoch in range(50):\n",
    "                signal = update_from_freq_domain(signal,self.start,self.end,self.node)\n",
    "                X = torch.tensor(signal).reshape(int(T*0.8),N,1).float()[:int(T*0.8-1),:,:]\n",
    "                y = torch.tensor(signal).reshape(int(T*0.8),N,1).float()[1:,:,:]\n",
    "                for time, (xt,yt) in enumerate(zip(X,y)):        \n",
    "                    yt_hat = net(xt, edge_index, edge_attr)\n",
    "                    cost = torch.mean((yt_hat-yt)**2)\n",
    "                    cost.backward()\n",
    "                    optimizer.step()\n",
    "                    optimizer.zero_grad()\n",
    "                signal = torch.concat([X.squeeze(),yt_hat.detach().squeeze().reshape(1,-1)])        \n",
    "\n",
    "            yhat = torch.stack([net(xt, edge_index, edge_attr) for xt in X]).detach().numpy()\n",
    "            yyhat = torch.stack([net(xt, edge_index, edge_attr) for xt in XX]).detach().numpy()\n",
    "\n",
    "            train_mse_total_estgcn = (((real_y-yhat).squeeze())**2).mean()\n",
    "            test_mse_total_estgcn = (((yy-yyhat).squeeze())**2).mean()\n",
    "\n",
    "            df_row = pd.DataFrame(columns=col)\n",
    "            df_row['Dataset'] = self.Dataset\n",
    "            df_row['iteration'] = i+1, # 1,2,3,...,10 \n",
    "            df_row['method'] = self.Method, # 'stgcn','estgcn','gnar' \n",
    "            df_row['missingrate'] = self.Missingrate, # 0.0, 0.2, 0.4, 0.6, 0.8 \n",
    "            df_row['missingtype'] = self.Missingtype,  # None, 'randomly' and 'block' \n",
    "            df_row['lag'] = self.lag, # 1,2,3,4 ... \n",
    "            df_row['number_of_filters'] = self.Number_of_filters, # 16,24,32, ... \n",
    "            df_row['interpolation'] = self.Interpolation, # None, 'mean', 'linear'\n",
    "            df_row['MSE_train'] = train_mse_total_estgcn.tolist()\n",
    "            df_row['MSE_test'] = test_mse_total_estgcn.tolist()\n",
    "\n",
    "            self.df = pd.concat([self.df,df_row])"
   ]
  },
  {
   "cell_type": "markdown",
   "id": "2dfd7c1e-80cb-42a5-b523-5f7eb56d61f3",
   "metadata": {},
   "source": [
    "## GNAR"
   ]
  },
  {
   "cell_type": "code",
   "execution_count": 125,
   "id": "cba3b821-239b-4374-ac4f-74c94d2e4d49",
   "metadata": {},
   "outputs": [],
   "source": [
    "class GNAR_Block:\n",
    "    def __init__(self,Dataset,df, iterable, Method, Missingrate, Missingtype, lag, Number_of_filters, Interpolation):\n",
    "        self.Dataset = Dataset\n",
    "        self.df = df\n",
    "        self.iterable = iterable\n",
    "        self.Method = Method\n",
    "        self.Missingrate = Missingrate\n",
    "        self.Missingtype = Missingtype\n",
    "        self.lag = lag\n",
    "        self.Number_of_filters = Number_of_filters\n",
    "        self.Interpolation = Interpolation\n",
    "        self.iterable = iterable\n",
    "    def iter(self):        \n",
    "        for i in range(self.iterable):\n",
    "    \n",
    "            answer = GNAR.GNARfit(vts=robjects.r.matrix(rpyn.numpy2rpy(np.array(X).squeeze()), nrow = 160, ncol = 5),net = GNAR.matrixtoGNAR(m), alphaOrder = 2, betaOrder = FloatVector([1, 1]))             \n",
    "            predict = GNAR.predict_GNARfit(answer,n_ahead=40)\n",
    "\n",
    "\n",
    "            train_mse_total_gnar = ((pd.DataFrame(GNAR.residuals_GNARfit(answer)).values.reshape(-1,5))**2).mean()\n",
    "            test_mse_total_gnar = ((yy.squeeze() - pd.DataFrame(predict).values.reshape(-1,5)[:-1,:])**2).mean()\n",
    "\n",
    "            df_row = pd.DataFrame(columns=col)\n",
    "            df_row['Dataset'] = self.Dataset,\n",
    "            df_row['iteration'] = i+1, # 1,2,3,...,10 \n",
    "            df_row['method'] = self.Method, # 'stgcn','estgcn','gnar' \n",
    "            df_row['missingrate'] = self.Missingrate, # 0.0, 0.2, 0.4, 0.6, 0.8 \n",
    "            df_row['missingtype'] = self.Missingtype,  # None, 'randomly' and 'block' \n",
    "            df_row['lag'] = self.lag, # 1,2,3,4 ... \n",
    "            df_row['number_of_filters'] = self.Number_of_filters, # 16,24,32, ... \n",
    "            df_row['interpolation'] = self.Interpolation, # None, 'mean', 'linear'\n",
    "            df_row['MSE_train'] = train_mse_total_gnar.tolist()\n",
    "            df_row['MSE_test'] = test_mse_total_gnar.tolist()\n",
    "\n",
    "            self.df = pd.concat([self.df,df_row])"
   ]
  },
  {
   "cell_type": "markdown",
   "id": "e9a3c250-ad42-4ac3-bdff-5a448eae7b7e",
   "metadata": {},
   "source": [
    "## STGCN "
   ]
  },
  {
   "cell_type": "code",
   "execution_count": 139,
   "id": "5042cd37-f0ba-41f6-9118-cc9fe2d43c34",
   "metadata": {},
   "outputs": [],
   "source": [
    "_zero = Missing(fiveVTS_train)\n",
    "_zero.miss(50,150,2)\n",
    "_zero1 = Missing(_zero.missing)\n",
    "_zero1.miss(40,140,3)\n",
    "_zero1.second_linear()\n",
    "\n",
    "missing_index = _zero1.number\n",
    "interpolated_signal = _zero1.train_linear\n",
    "\n",
    "X = torch.tensor(interpolated_signal).reshape(int(T*0.8),N,1).float()[:int(T*0.8-1),:,:]\n",
    "y = torch.tensor(interpolated_signal).reshape(int(T*0.8),N,1).float()[1:,:,:]\n",
    "\n",
    "XX = torch.tensor(fiveVTS_test.reshape(int(T*0.2),N,1)[:-1,:,:]).float()\n",
    "yy = torch.tensor(fiveVTS_test.reshape(int(T*0.2),N,1)[1:,:,:]).float()\n",
    "\n",
    "real_y = torch.tensor(fiveVTS_train).reshape(int(T*0.8),N,1).float()[1:,:,:]"
   ]
  },
  {
   "cell_type": "code",
   "execution_count": 140,
   "id": "59e9227b-9fae-441b-abd1-6bb5c6b2f1a0",
   "metadata": {},
   "outputs": [],
   "source": [
    "Dataset = 'fivenodes'\n",
    "Method = 'stgcn' # 'stgcn','estgcn','gnar' \n",
    "Missingrate = None # 0.0, 0.2, 0.4, 0.6, 0.8 \n",
    "Missingtype = 'block'  # None, 'randomly' and 'block' \n",
    "lag = 1 # 1,2,3,4 ... \n",
    "Number_of_filters = 4 # 16,24,32, ... \n",
    "Interpolation = 'Linear' # None, 'mean', 'linear'\n",
    "iterable = 100"
   ]
  },
  {
   "cell_type": "code",
   "execution_count": 141,
   "id": "f7cfe45f-ed1e-454e-b468-5a4861ef3529",
   "metadata": {},
   "outputs": [],
   "source": [
    "col = ['Dataset', 'iteration', 'method', 'missingrate', 'missingtype', 'lag', 'number_of_filters', 'interpolation','MSE_train', 'MSE_test']"
   ]
  },
  {
   "cell_type": "code",
   "execution_count": 142,
   "id": "a68649be-8df8-4a20-9b5b-737b68c91fdb",
   "metadata": {},
   "outputs": [],
   "source": [
    "df = pd.DataFrame(columns=col)"
   ]
  },
  {
   "cell_type": "code",
   "execution_count": 143,
   "id": "1bca17dc-0a66-4c3d-ba27-1564ca04c271",
   "metadata": {},
   "outputs": [],
   "source": [
    "stgcn = STGCN_Block(Dataset,df, iterable,Method, Missingrate, Missingtype, lag, Number_of_filters, Interpolation)"
   ]
  },
  {
   "cell_type": "code",
   "execution_count": null,
   "id": "ffb20810-aaff-4241-a753-41c747121f1a",
   "metadata": {},
   "outputs": [],
   "source": [
    "stgcn.iter()"
   ]
  },
  {
   "cell_type": "code",
   "execution_count": null,
   "id": "b3cd26e2-62b1-43ef-9155-111b36dcfb7c",
   "metadata": {},
   "outputs": [],
   "source": [
    "df_stgcn = stgcn.df.copy()"
   ]
  },
  {
   "cell_type": "code",
   "execution_count": null,
   "id": "344293c9-db60-4786-9ea3-09179a2a6048",
   "metadata": {},
   "outputs": [],
   "source": [
    "save_data(df_stgcn, './data/GNAR_DATA_stgcn_block_twododes.pkl')"
   ]
  },
  {
   "cell_type": "markdown",
   "id": "bc839792-1206-43b8-9d74-60a9b87ad9c7",
   "metadata": {},
   "source": [
    "## Enhencement of STGCN "
   ]
  },
  {
   "cell_type": "code",
   "execution_count": null,
   "id": "c5d20347-e651-4309-8d2a-07128244b12a",
   "metadata": {},
   "outputs": [],
   "source": [
    "_zero = Missing(fiveVTS_train)\n",
    "_zero.miss(50,150,2)\n",
    "_zero1 = Missing(_zero.missing)\n",
    "_zero1.miss(40,140,3)\n",
    "_zero1.second_linear()\n",
    "\n",
    "missing_index = _zero1.number\n",
    "interpolated_signal = _zero1.train_linear\n",
    "\n",
    "X = torch.tensor(interpolated_signal).reshape(int(T*0.8),N,1).float()[:int(T*0.8-2),:,:]\n",
    "y = torch.tensor(interpolated_signal).reshape(int(T*0.8),N,1).float()[1:,:,:]\n",
    "\n",
    "XX = torch.tensor(fiveVTS_test.reshape(int(T*0.2),N,1)[:-1,:,:]).float()\n",
    "yy = torch.tensor(fiveVTS_test.reshape(int(T*0.2),N,1)[1:,:,:]).float()\n",
    "real_y = torch.tensor(fiveVTS_train).reshape(int(T*0.8),N,1).float()[1:,:,:]"
   ]
  },
  {
   "cell_type": "code",
   "execution_count": null,
   "id": "f63ee3ce-843e-4b59-9ef8-8fb44f5406e1",
   "metadata": {},
   "outputs": [],
   "source": [
    "Dataset = 'fivenodes'\n",
    "Method = 'estgcn' # 'stgcn','estgcn','gnar' \n",
    "Missingrate = None # 0.0, 0.2, 0.4, 0.6, 0.8 \n",
    "Missingtype = 'block'  # None, 'randomly' and 'block' \n",
    "lag = 1 # 1,2,3,4 ... \n",
    "Number_of_filters = 4 # 16,24,32, ... \n",
    "Interpolation = 'Linear' # None, 'mean', 'linear'\n",
    "iterable = 100"
   ]
  },
  {
   "cell_type": "code",
   "execution_count": null,
   "id": "b6bad10f-af0b-4f0e-bb0d-84384b8e22c7",
   "metadata": {},
   "outputs": [],
   "source": [
    "col = ['Dataset', 'iteration', 'method', 'missingrate', 'missingtype', 'lag', 'number_of_filters', 'interpolation','MSE_train', 'MSE_test']"
   ]
  },
  {
   "cell_type": "code",
   "execution_count": null,
   "id": "8acf1a0d-81b8-489d-8a46-19148d5bc47e",
   "metadata": {},
   "outputs": [],
   "source": [
    "df = pd.DataFrame(columns=col)"
   ]
  },
  {
   "cell_type": "code",
   "execution_count": null,
   "id": "46591095-e275-4c3c-a2fb-e7a99bad645d",
   "metadata": {},
   "outputs": [],
   "source": [
    "estgcn = ESTGCN_Block(Dataset, 50,150,2,df, iterable,Method, Missingrate, Missingtype, lag, Number_of_filters, Interpolation)"
   ]
  },
  {
   "cell_type": "code",
   "execution_count": null,
   "id": "05c80c56-7e43-4173-bccd-d76684084ccb",
   "metadata": {},
   "outputs": [],
   "source": [
    "estgcn.iter()"
   ]
  },
  {
   "cell_type": "code",
   "execution_count": null,
   "id": "8381184a-5da1-4635-860c-64638cc15daf",
   "metadata": {},
   "outputs": [],
   "source": [
    "df_estgcn = estgcn.df.copy()"
   ]
  },
  {
   "cell_type": "code",
   "execution_count": null,
   "id": "56754e41-e444-45ac-9dd3-95758ee843db",
   "metadata": {},
   "outputs": [],
   "source": [
    "save_data(df_estgcn, './data/GNAR_DATA_estgcn_block_twonodes.pkl')"
   ]
  },
  {
   "cell_type": "markdown",
   "id": "11a246c2-b6a9-4e4d-9bdf-0a4425886eaf",
   "metadata": {},
   "source": [
    "## GNAR"
   ]
  },
  {
   "cell_type": "code",
   "execution_count": null,
   "id": "dd6073e9-66d1-4b95-a8f8-29000355dba9",
   "metadata": {},
   "outputs": [],
   "source": [
    "_zero = Missing(fiveVTS_train)\n",
    "_zero.miss(50,150,2)\n",
    "_zero1 = Missing(_zero.missing)\n",
    "_zero1.miss(40,140,3)\n",
    "_zero1.second_linear()\n",
    "\n",
    "missing_index = _zero1.number\n",
    "interpolated_signal = _zero1.train_linear\n",
    "\n",
    "X = torch.tensor(interpolated_signal).reshape(int(T*0.8),N,1).float()[:int(T*0.8-2),:,:]\n",
    "y = torch.tensor(interpolated_signal).reshape(int(T*0.8),N,1).float()[1:,:,:]\n",
    "\n",
    "yy = torch.tensor(fiveVTS_test.reshape(int(T*0.2),N,1)[1:,:,:]).float()\n",
    "real_y = torch.tensor(fiveVTS_train).reshape(int(T*0.8),N,1).float()[1:,:,:]"
   ]
  },
  {
   "cell_type": "code",
   "execution_count": null,
   "id": "ca52e253-fd87-42a5-b7b9-d363e891f1d8",
   "metadata": {},
   "outputs": [],
   "source": [
    "Dataset = 'fivedodes'\n",
    "Method = 'gnar' # 'stgcn','estgcn','gnar' \n",
    "Missingrate = None # 0.0, 0.2, 0.4, 0.6, 0.8 \n",
    "Missingtype = 'block'  # None, 'randomly' and 'block' \n",
    "lag = 1 # 1,2,3,4 ... \n",
    "Number_of_filters = None # 16,24,32, ... \n",
    "Interpolation = 'Linear' # None, 'mean', 'linear'\n",
    "iterable = 100"
   ]
  },
  {
   "cell_type": "code",
   "execution_count": null,
   "id": "e81d6b11-f78c-4fbe-94a9-2ce2b2d18838",
   "metadata": {},
   "outputs": [],
   "source": [
    "col = ['Dataset', 'iteration', 'method', 'missingrate', 'missingtype', 'lag', 'number_of_filters', 'interpolation','MSE_train', 'MSE_test']"
   ]
  },
  {
   "cell_type": "code",
   "execution_count": null,
   "id": "62e9ddbf-aa52-447a-9e2f-5b95b06fcefe",
   "metadata": {},
   "outputs": [],
   "source": [
    "df = pd.DataFrame(columns=col)"
   ]
  },
  {
   "cell_type": "code",
   "execution_count": null,
   "id": "09a9aa14-8759-44f7-8862-f6e29b4138ec",
   "metadata": {},
   "outputs": [],
   "source": [
    "gnar = GNAR_Block(Dataset, 50,150,2,df, iterable,Method, Missingrate, Missingtype, lag, Number_of_filters, Interpolation)"
   ]
  },
  {
   "cell_type": "code",
   "execution_count": null,
   "id": "7a44a194-269e-4afc-bea0-10a01580bb26",
   "metadata": {},
   "outputs": [],
   "source": [
    "gnar.iter()"
   ]
  },
  {
   "cell_type": "code",
   "execution_count": null,
   "id": "8f7efc16-b844-410e-bab0-31927f899d48",
   "metadata": {},
   "outputs": [],
   "source": [
    "df_gnar = gnar.df.copy()"
   ]
  },
  {
   "cell_type": "code",
   "execution_count": null,
   "id": "e8ab97ab-2414-4b28-a075-96cc74583209",
   "metadata": {},
   "outputs": [],
   "source": [
    "save_data(df_gnar, './data/GNAR_DATA_gnar_block_twonodes.pkl')"
   ]
  },
  {
   "cell_type": "code",
   "execution_count": null,
   "id": "4f186a21-4945-4a41-a3c5-42fbcf9abee3",
   "metadata": {},
   "outputs": [],
   "source": []
  },
  {
   "cell_type": "code",
   "execution_count": null,
   "id": "4f6245f5-1963-4d16-ae8a-6010e1c1f3e4",
   "metadata": {},
   "outputs": [],
   "source": []
  }
 ],
 "metadata": {
  "kernelspec": {
   "display_name": "Python 3 (ipykernel)",
   "language": "python",
   "name": "python3"
  },
  "language_info": {
   "codemirror_mode": {
    "name": "ipython",
    "version": 3
   },
   "file_extension": ".py",
   "mimetype": "text/x-python",
   "name": "python",
   "nbconvert_exporter": "python",
   "pygments_lexer": "ipython3",
   "version": "3.8.12"
  },
  "toc-showcode": false
 },
 "nbformat": 4,
 "nbformat_minor": 5
}

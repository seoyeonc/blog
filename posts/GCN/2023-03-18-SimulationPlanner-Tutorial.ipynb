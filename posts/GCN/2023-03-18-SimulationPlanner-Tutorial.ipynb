{
 "cells": [
  {
   "cell_type": "raw",
   "id": "43e511fe-f020-4da6-a9ca-f80abb6cddbf",
   "metadata": {
    "id": "cac470df-29e7-4148-9bbd-d8b9a32fa570",
    "tags": []
   },
   "source": [
    "---\n",
    "title: \"SimualtionPlanner-Tutorial\"\n",
    "author: \"SEOYEON CHOI\"\n",
    "date: \"2023-03-18\"\n",
    "categories:\n",
    "  - ST-GCN\n",
    "---"
   ]
  },
  {
   "cell_type": "markdown",
   "id": "f4865201-e9bc-4c2e-bcd8-3a19d2f95745",
   "metadata": {},
   "source": [
    "> table"
   ]
  },
  {
   "cell_type": "markdown",
   "id": "f80ae2a4-6d40-4d3f-9580-6bee1283a3aa",
   "metadata": {},
   "source": [
    "[GNN-Ensemble: Towards Random Decision Graph Neural Networks](https://arxiv.org/pdf/2303.11376.pdf)"
   ]
  },
  {
   "cell_type": "markdown",
   "id": "0cba273b-b215-412d-8f72-44d5216b14a4",
   "metadata": {},
   "source": [
    "https://papers.nips.cc/papers/search?q=GNN"
   ]
  },
  {
   "cell_type": "markdown",
   "id": "53844e96-b667-4791-9d0c-5941aea8ca23",
   "metadata": {},
   "source": [
    "# List"
   ]
  },
  {
   "cell_type": "markdown",
   "id": "946b4c2d-3623-4535-84ca-d4300c617684",
   "metadata": {},
   "source": [
    "1.\n",
    "\n",
    "- max_iter=30/linear/epoch=50~200/STGCN,IT-STGCN\n",
    "\n",
    "2.\n",
    "\n",
    "- missing 만드는 법(block 생각)\n",
    "\n",
    "3.\n",
    "\n",
    "-\n",
    "\n",
    "4.반복의미 없음, 고정된 값 출력되어서\n",
    "\n",
    "- \n",
    "\n",
    "할 거\n",
    "\n",
    "- missing 0일 때 STGCN/GNAR 비교(CHECK)\n",
    "- baseline 제시될만한 데이터셋 뭘까.\n",
    "- GNAR warning 안 나오는 법 찾아보기\n",
    "- mindex가 중요ㅡ mtype은 기록용으로만 사용됨"
   ]
  },
  {
   "cell_type": "markdown",
   "id": "9d5d75dc-142d-4a0a-b7c9-05f39905ff50",
   "metadata": {},
   "source": [
    "`_df = pd.concat([_a,,_b,_c],axis=0)`\n",
    "\n",
    "`save_data(_df, './data/Pedal_estgcn_randomly_by_rate.pkl')`"
   ]
  },
  {
   "cell_type": "markdown",
   "id": "edd8b536-1515-4b51-9a99-95974bad6c75",
   "metadata": {},
   "source": [
    "# imports"
   ]
  },
  {
   "cell_type": "markdown",
   "id": "d1cec205-84b2-40db-9bff-706736a53c50",
   "metadata": {},
   "source": [
    "https://pytorch-geometric-temporal.readthedocs.io/en/latest/_modules/index.html"
   ]
  },
  {
   "cell_type": "code",
   "execution_count": 6,
   "id": "b0c2e707-a477-4cbd-b8ff-3dd35c65266e",
   "metadata": {},
   "outputs": [],
   "source": [
    "import itstgcn\n",
    "import torch\n",
    "import itstgcn.planner "
   ]
  },
  {
   "cell_type": "code",
   "execution_count": 10,
   "id": "16756a05-f15e-4262-8afa-ad4c5a780617",
   "metadata": {},
   "outputs": [],
   "source": [
    "from torch_geometric_temporal.dataset import ChickenpoxDatasetLoader\n",
    "loader1 = ChickenpoxDatasetLoader()"
   ]
  },
  {
   "cell_type": "markdown",
   "id": "9831dd41-f751-46de-a7c5-927d1a82cb3b",
   "metadata": {},
   "source": [
    "# read data"
   ]
  },
  {
   "cell_type": "code",
   "execution_count": 9,
   "id": "32330e84-252e-4009-8076-cd44cd9704cd",
   "metadata": {},
   "outputs": [],
   "source": [
    "# _data = itstgcn.load_data('./data/fivenodes.pkl')\n",
    "# _edges = torch.tensor(_data['edges']).nonzero().tolist()\n",
    "# _FX = _data['f'].tolist()\n",
    "# _node_ids = {'node1':0, 'node2':1, 'node3':2, 'node4':3, 'node5':4} \n",
    "# data_dict = {'edges':_edges, 'node_ids':_node_ids, 'FX':_FX}\n",
    "# data_dict = itstgcn.load_data('./data/fivenodes.pkl')\n",
    "# loader = itstgcn.DatasetLoader(data_dict)"
   ]
  },
  {
   "cell_type": "markdown",
   "id": "ec8a3c6f-83fa-4b5a-bb13-7cad1a5fe803",
   "metadata": {},
   "source": [
    "## PLNR_STGCN_RAND"
   ]
  },
  {
   "cell_type": "code",
   "execution_count": null,
   "id": "f0dbba6a-1e3e-44b8-bfaf-bb329c155cd9",
   "metadata": {},
   "outputs": [],
   "source": [
    "plans_stgcn_rand = {\n",
    "    'max_iteration': 30, \n",
    "    'method': ['STGCN', 'IT-STGCN'], \n",
    "    'mrate': [0.5],\n",
    "    'lags': [4], \n",
    "    'nof_filters': [16,24,32], \n",
    "    'inter_method': ['linear','cubic'],\n",
    "    'epoch': [50]\n",
    "}"
   ]
  },
  {
   "cell_type": "code",
   "execution_count": null,
   "id": "57d97a77-97ab-4f57-958e-ca63aae9590f",
   "metadata": {
    "tags": []
   },
   "outputs": [],
   "source": [
    "plnr = itstgcn.planner.PLNR_STGCN_RAND(plans_stgcn_rand,loader1,dataset_name='chickenpox')"
   ]
  },
  {
   "cell_type": "code",
   "execution_count": null,
   "id": "7f5462cf-8a86-437c-9bed-f354e18dcbd8",
   "metadata": {},
   "outputs": [],
   "source": [
    "plnr.simulate()"
   ]
  },
  {
   "cell_type": "markdown",
   "id": "60bdffed-7236-4c53-9749-f28e161b5c0c",
   "metadata": {
    "tags": []
   },
   "source": [
    "## PLNR_STGCN_MANUAL"
   ]
  },
  {
   "cell_type": "code",
   "execution_count": null,
   "id": "bb823029-a3f8-498c-8144-258f9f5bbcf5",
   "metadata": {},
   "outputs": [],
   "source": [
    "my_list = [[] for _ in range(20)] #chickenpox\n",
    "another_list = list(range(100,400))\n",
    "my_list[1] = another_list\n",
    "my_list[3] = another_list\n",
    "my_list[5] = another_list\n",
    "my_list[7] = another_list\n",
    "my_list[9] = another_list\n",
    "my_list[11] = another_list\n",
    "my_list[13] = another_list\n",
    "my_list[15] = another_list\n",
    "mindex = my_list"
   ]
  },
  {
   "cell_type": "code",
   "execution_count": 26,
   "id": "426dd25a-d198-4b0e-be4b-24c028c11fc1",
   "metadata": {},
   "outputs": [],
   "source": [
    "# _data = itstgcn.load_data('./data/fivenodes.pkl')\n",
    "# _edges = torch.tensor(_data['edges']).nonzero().tolist()\n",
    "# _FX = _data['f'].tolist()\n",
    "# _node_ids = {'node1':0, 'node2':1, 'node3':2, 'node4':3, 'node5':4} \n",
    "# data_dict = {'edges':_edges, 'node_ids':_node_ids, 'FX':_FX}\n",
    "# loader = itstgcn.DatasetLoader(data_dict)\n",
    "# data_dict = itstgcn.load_data('./data/fivenodes.pkl')\n",
    "# loader = itstgcn.DatasetLoader(data_dict)"
   ]
  },
  {
   "cell_type": "code",
   "execution_count": null,
   "id": "eabc26b5-f79c-40db-8b37-aadcd8c13c7e",
   "metadata": {},
   "outputs": [],
   "source": [
    "# mindex= [[],[],[],list(range(50,150)),[]]\n",
    "# mindex= [list(range(50,150)),[],list(range(50,90)),list(range(50,150)),[]] # node 2\n",
    "plans_stgcn_block = {\n",
    "    'max_iteration': 30, \n",
    "    'method': ['STGCN', 'IT-STGCN'], \n",
    "    'mindex': [mindex],\n",
    "    'lags': [4], \n",
    "    'nof_filters': [16,24,32], \n",
    "    'inter_method': ['linear','cubic'],\n",
    "    'epoch': [50]\n",
    "}"
   ]
  },
  {
   "cell_type": "code",
   "execution_count": null,
   "id": "a876d225-6e30-4ef6-a431-0222014d5079",
   "metadata": {},
   "outputs": [],
   "source": [
    "plnr = itstgcn.planner.PLNR_STGCN_MANUAL(plans_stgcn_block,loader1,dataset_name='chickenpox')"
   ]
  },
  {
   "cell_type": "code",
   "execution_count": null,
   "id": "ff7f570d-fd17-4d8c-9551-48692b0f20d0",
   "metadata": {},
   "outputs": [],
   "source": [
    "plnr.simulate(mindex=mindex,mtype='block')"
   ]
  },
  {
   "cell_type": "markdown",
   "id": "78d4a03e-ee3e-4395-917a-a3a670a48f2e",
   "metadata": {},
   "source": [
    "## PLNR_GNAR_RAND"
   ]
  },
  {
   "cell_type": "code",
   "execution_count": null,
   "id": "3926b3bb-6dfb-4cc6-9cba-f8ed8163a49a",
   "metadata": {},
   "outputs": [],
   "source": [
    "# _data = itstgcn.load_data('./data/fivenodes.pkl')\n",
    "# _edges = torch.tensor(_data['edges']).nonzero().tolist()\n",
    "# _FX = _data['f'].tolist()\n",
    "# _node_ids = {'node1':0, 'node2':1, 'node3':2, 'node4':3, 'node5':4} \n",
    "# data_dict = {'edges':_edges, 'node_ids':_node_ids, 'FX':_FX}\n",
    "# loader = itstgcn.DatasetLoader(data_dict)\n",
    "# data_dict=itstgcn.load_data('./data/fivenodes.pkl')\n",
    "# loader = itstgcn.DatasetLoader(data_dict)"
   ]
  },
  {
   "cell_type": "code",
   "execution_count": 13,
   "id": "79183350-4811-4273-bbe1-c5678a46e09a",
   "metadata": {},
   "outputs": [],
   "source": [
    "plans_gnar_rand = {\n",
    "    'max_iteration': 30, \n",
    "#    'method': ['GNAR'], \n",
    "    'mrate': [0.3,0.4,0.5],\n",
    "    'lags': [4], \n",
    "#    'nof_filters': [8,16], \n",
    "    'inter_method': ['linear','cubic'],\n",
    "#    'epoch': [1]\n",
    "}"
   ]
  },
  {
   "cell_type": "code",
   "execution_count": null,
   "id": "6a86ff9c-485d-43c3-8aa1-2b7d7af65679",
   "metadata": {
    "tags": []
   },
   "outputs": [],
   "source": [
    "plnr = itstgcn.planner.PLNR_GNAR_RAND(plans_gnar_rand,loader1,dataset_name='chickenpox')\n",
    "plnr.simulate()"
   ]
  },
  {
   "cell_type": "markdown",
   "id": "f1c4fc60-b552-4cb0-990d-40ab420d2188",
   "metadata": {},
   "source": [
    "## PLNR_GNAR_BLOCK"
   ]
  },
  {
   "cell_type": "code",
   "execution_count": 6,
   "id": "f3d394fb-2e5f-4b39-9538-822986c1cc36",
   "metadata": {},
   "outputs": [],
   "source": [
    "# _data = itstgcn.load_data('./data/fivenodes.pkl')\n",
    "# _edges = torch.tensor(_data['edges']).nonzero().tolist()\n",
    "# _FX = _data['f'].tolist()\n",
    "# _node_ids = {'node1':0, 'node2':1, 'node3':2, 'node4':3, 'node5':4} \n",
    "# data_dict = {'edges':_edges, 'node_ids':_node_ids, 'FX':_FX}\n",
    "# loader = itstgcn.DatasetLoader(data_dict)\n",
    "# loader = itstgcn.load_data('./data/fivenodes.pkl')"
   ]
  },
  {
   "cell_type": "code",
   "execution_count": 21,
   "id": "9779f175-8b00-4879-86a2-48f854abab5d",
   "metadata": {},
   "outputs": [],
   "source": [
    "# mindex= [[],[],[],list(range(50,150)),[]]\n",
    "# mindex= [list(range(50,150)),[],list(range(50,90)),list(range(50,150)),[]] # node 2\n",
    "plans_gnar_block = {\n",
    "    'max_iteration': 3, \n",
    "    'method': ['GNAR'], \n",
    "    'mindex': [mindex],\n",
    "    'lags': [4], \n",
    "    'inter_method': ['cubic','linear'],\n",
    "}"
   ]
  },
  {
   "cell_type": "code",
   "execution_count": null,
   "id": "260e38e1-63bb-4ade-a305-d2f83c367399",
   "metadata": {},
   "outputs": [],
   "source": [
    "plnr = itstgcn.planner.PLNR_GNAR_MANUAL(plans_gnar_block,loader1,dataset_name='chikenpox')\n",
    "plnr.simulate(mindex,mtype='block')"
   ]
  },
  {
   "cell_type": "code",
   "execution_count": null,
   "id": "578f4d89-d485-4f41-bddf-469a455bbb9b",
   "metadata": {},
   "outputs": [],
   "source": []
  }
 ],
 "metadata": {
  "kernelspec": {
   "display_name": "Python 3 (ipykernel)",
   "language": "python",
   "name": "python3"
  },
  "language_info": {
   "codemirror_mode": {
    "name": "ipython",
    "version": 3
   },
   "file_extension": ".py",
   "mimetype": "text/x-python",
   "name": "python",
   "nbconvert_exporter": "python",
   "pygments_lexer": "ipython3",
   "version": "3.8.12"
  }
 },
 "nbformat": 4,
 "nbformat_minor": 5
}

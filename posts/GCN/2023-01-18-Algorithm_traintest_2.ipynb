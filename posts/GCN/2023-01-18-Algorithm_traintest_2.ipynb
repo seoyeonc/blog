{
 "cells": [
  {
   "cell_type": "raw",
   "id": "7332526f-9bd3-47f8-b721-6180f1986ae1",
   "metadata": {
    "id": "cac470df-29e7-4148-9bbd-d8b9a32fa570",
    "tags": []
   },
   "source": [
    "---\n",
    "title: \"2nd ST-GCN Example dividing train and test\"\n",
    "author: \"SEOYEON CHOI\"\n",
    "date: \"2023-01-17\"\n",
    "categories:\n",
    "  - ST-GCN\n",
    "---"
   ]
  },
  {
   "cell_type": "markdown",
   "id": "915b6d18-9ab7-48f0-9a7e-63bb8af98a45",
   "metadata": {},
   "source": [
    "> Try to divide train and test(ST-GCN WikiMathsDatasetLoader)"
   ]
  },
  {
   "cell_type": "markdown",
   "id": "bf913a43-cf86-47d2-bdf3-ae880e1c61df",
   "metadata": {
    "tags": []
   },
   "source": [
    "# import"
   ]
  },
  {
   "cell_type": "code",
   "execution_count": 1,
   "id": "2b820011-2a41-4156-a3b8-158a2f763a7c",
   "metadata": {},
   "outputs": [],
   "source": [
    "import rpy2\n",
    "import rpy2.robjects as ro \n",
    "from rpy2.robjects.vectors import FloatVector \n",
    "from rpy2.robjects.packages import importr\n",
    "\n",
    "import torch\n",
    "import numpy as np\n",
    "from tqdm import tqdm\n",
    "\n",
    "import torch.nn.functional as F\n",
    "from torch_geometric_temporal.nn.recurrent import GConvGRU\n",
    "\n",
    "import matplotlib.pyplot as plt\n",
    "import pandas as pd\n",
    "\n",
    "import time\n",
    "\n",
    "from scipy.interpolate import interp1d"
   ]
  },
  {
   "cell_type": "code",
   "execution_count": 2,
   "id": "2b9bf384-3729-49ee-82a0-82469aa25554",
   "metadata": {},
   "outputs": [],
   "source": [
    "class RecurrentGCN(torch.nn.Module):\n",
    "    def __init__(self, node_features, filters):\n",
    "        super(RecurrentGCN, self).__init__()\n",
    "        self.recurrent = GConvGRU(node_features, filters, 2)\n",
    "        self.linear = torch.nn.Linear(filters, 1)\n",
    "\n",
    "    def forward(self, x, edge_index, edge_weight):\n",
    "        h = self.recurrent(x, edge_index, edge_weight)\n",
    "        h = F.relu(h)\n",
    "        h = self.linear(h)\n",
    "        return h"
   ]
  },
  {
   "cell_type": "markdown",
   "id": "f017c897-6610-4448-b0cc-d2fb229c7120",
   "metadata": {},
   "source": [
    "# Data"
   ]
  },
  {
   "cell_type": "code",
   "execution_count": 110,
   "id": "d597960f-eb9a-4274-837a-ceba9b59fe67",
   "metadata": {},
   "outputs": [],
   "source": [
    "from torch_geometric_temporal.dataset import WikiMathsDatasetLoader\n",
    "from torch_geometric_temporal.signal import temporal_signal_split"
   ]
  },
  {
   "cell_type": "code",
   "execution_count": 111,
   "id": "f613cda8-c31a-4495-947f-fa18ccf2b0ab",
   "metadata": {},
   "outputs": [],
   "source": [
    "loader = WikiMathsDatasetLoader()"
   ]
  },
  {
   "cell_type": "code",
   "execution_count": 112,
   "id": "b2e887ca-ac26-4a01-a04c-3e0ff102d064",
   "metadata": {},
   "outputs": [],
   "source": [
    "dataset = loader.get_dataset(lags=1)"
   ]
  },
  {
   "cell_type": "code",
   "execution_count": 113,
   "id": "8aed3f43-2c80-409a-aa2a-9e59cb450e80",
   "metadata": {},
   "outputs": [],
   "source": [
    "train_dataset, test_dataset = temporal_signal_split(dataset, train_ratio=0.8)"
   ]
  },
  {
   "cell_type": "markdown",
   "id": "fc64f339-59ae-45c9-8c85-8a8a09c30320",
   "metadata": {},
   "source": [
    "## Train"
   ]
  },
  {
   "cell_type": "code",
   "execution_count": 114,
   "id": "c08c3d9c-429d-437c-bbb5-ecb54f6106e5",
   "metadata": {},
   "outputs": [],
   "source": [
    "data_train=[]\n",
    "for time, snapshot in enumerate(train_dataset):\n",
    "    data_train.append([time,snapshot])"
   ]
  },
  {
   "cell_type": "code",
   "execution_count": 115,
   "id": "7018c288-1138-441a-a15f-cdf2b760d039",
   "metadata": {},
   "outputs": [
    {
     "data": {
      "text/plain": [
       "(torch.Size([1068, 1]),\n",
       " torch.Size([1068]),\n",
       " torch.Size([2, 27079]),\n",
       " torch.Size([27079]))"
      ]
     },
     "execution_count": 115,
     "metadata": {},
     "output_type": "execute_result"
    }
   ],
   "source": [
    "data_train[0][1].x.shape,data_train[0][1].y.shape,data_train[0][1].edge_index.shape,data_train[0][1].edge_attr.shape"
   ]
  },
  {
   "cell_type": "code",
   "execution_count": 116,
   "id": "c243b5fb-9cde-4e77-8a1c-935bc8e27a8d",
   "metadata": {},
   "outputs": [
    {
     "data": {
      "text/plain": [
       "583"
      ]
     },
     "execution_count": 116,
     "metadata": {},
     "output_type": "execute_result"
    }
   ],
   "source": [
    "time"
   ]
  },
  {
   "cell_type": "code",
   "execution_count": 117,
   "id": "161027f1-3a23-4439-9ada-fb0e87143029",
   "metadata": {},
   "outputs": [],
   "source": [
    "T_train = time\n",
    "N = len(data[0][1].x)"
   ]
  },
  {
   "cell_type": "code",
   "execution_count": 118,
   "id": "d37fc5d6-7301-470a-9152-646aec927204",
   "metadata": {},
   "outputs": [],
   "source": [
    "edge_index = data_train[0][1].edge_index\n",
    "edge_attr = data_train[0][1].edge_attr"
   ]
  },
  {
   "cell_type": "code",
   "execution_count": 119,
   "id": "9a666cc2-88da-45c2-920b-d499aaad67cc",
   "metadata": {},
   "outputs": [],
   "source": [
    "x_train = []\n",
    "for i in range(time):\n",
    "    x_train.append(data_train[i][1].x)"
   ]
  },
  {
   "cell_type": "code",
   "execution_count": 120,
   "id": "6611df8d-be7d-43a5-b4b5-8bb63dba31c7",
   "metadata": {},
   "outputs": [
    {
     "data": {
      "text/plain": [
       "torch.Size([583, 1068, 1])"
      ]
     },
     "execution_count": 120,
     "metadata": {},
     "output_type": "execute_result"
    }
   ],
   "source": [
    "data_tensor = torch.Tensor()\n",
    "# Iterate over the data points of the dataset\n",
    "for i in x_train:\n",
    "    # Concatenate the data point to the tensor\n",
    "    data_tensor = torch.cat((data_tensor, i), dim=0)\n",
    "x_train = data_tensor.reshape(time,1068,-1)\n",
    "x_train.shape"
   ]
  },
  {
   "cell_type": "code",
   "execution_count": 121,
   "id": "b738746e-3f01-4991-bd80-320160ac92e5",
   "metadata": {},
   "outputs": [],
   "source": [
    "y_train = []\n",
    "for i in range(time):\n",
    "    y_train.append(data_train[i][1].y)"
   ]
  },
  {
   "cell_type": "code",
   "execution_count": 122,
   "id": "2a9f29bb-b801-47c5-9444-a5bf62d674a6",
   "metadata": {},
   "outputs": [
    {
     "data": {
      "text/plain": [
       "torch.Size([583, 1068])"
      ]
     },
     "execution_count": 122,
     "metadata": {},
     "output_type": "execute_result"
    }
   ],
   "source": [
    "data_tensor = torch.Tensor()\n",
    "# Iterate over the data points of the dataset\n",
    "for i in y_train:\n",
    "    # Concatenate the data point to the tensor\n",
    "    data_tensor = torch.cat((data_tensor, i), dim=0)\n",
    "y_train = data_tensor.reshape(time,1068)\n",
    "y_train.shape"
   ]
  },
  {
   "cell_type": "code",
   "execution_count": 123,
   "id": "8c010b87-42f0-45e6-9351-f93c4404ce9e",
   "metadata": {},
   "outputs": [
    {
     "data": {
      "text/plain": [
       "(torch.Size([583, 1068, 1]), torch.Size([583, 1068]))"
      ]
     },
     "execution_count": 123,
     "metadata": {},
     "output_type": "execute_result"
    }
   ],
   "source": [
    "x_train.shape, y_train.shape"
   ]
  },
  {
   "cell_type": "markdown",
   "id": "5764aef0-36fc-4239-bcad-a5bbf5b7a6c5",
   "metadata": {},
   "source": [
    "## Test"
   ]
  },
  {
   "cell_type": "code",
   "execution_count": 124,
   "id": "4131ac6f-6531-444c-ad32-9723969c9bec",
   "metadata": {},
   "outputs": [],
   "source": [
    "data_test=[]\n",
    "for time, snapshot in enumerate(test_dataset):\n",
    "    data_test.append([time,snapshot])"
   ]
  },
  {
   "cell_type": "code",
   "execution_count": 125,
   "id": "577ec4af-89c3-42a8-8b58-9eb130ddc9a1",
   "metadata": {},
   "outputs": [
    {
     "data": {
      "text/plain": [
       "(torch.Size([1068, 1]),\n",
       " torch.Size([1068]),\n",
       " torch.Size([2, 27079]),\n",
       " torch.Size([27079]))"
      ]
     },
     "execution_count": 125,
     "metadata": {},
     "output_type": "execute_result"
    }
   ],
   "source": [
    "data_test[0][1].x.shape,data_test[0][1].y.shape,data_test[0][1].edge_index.shape,data_test[0][1].edge_attr.shape"
   ]
  },
  {
   "cell_type": "code",
   "execution_count": 126,
   "id": "b35f6225-ea3b-4891-8138-9cca330f9e83",
   "metadata": {},
   "outputs": [
    {
     "data": {
      "text/plain": [
       "145"
      ]
     },
     "execution_count": 126,
     "metadata": {},
     "output_type": "execute_result"
    }
   ],
   "source": [
    "time"
   ]
  },
  {
   "cell_type": "code",
   "execution_count": 127,
   "id": "2f68a911-ffa6-47a7-9d1c-cc6463824dfc",
   "metadata": {},
   "outputs": [],
   "source": [
    "T_test = time"
   ]
  },
  {
   "cell_type": "code",
   "execution_count": 128,
   "id": "3b9e2512-e9e8-4acc-9681-7e320555fe36",
   "metadata": {},
   "outputs": [],
   "source": [
    "x_test = []\n",
    "for i in range(time):\n",
    "    x_test.append(data_test[i][1].x)"
   ]
  },
  {
   "cell_type": "code",
   "execution_count": 129,
   "id": "16576436-3873-468e-b9e5-b94fcbba6666",
   "metadata": {},
   "outputs": [
    {
     "data": {
      "text/plain": [
       "torch.Size([145, 1068, 1])"
      ]
     },
     "execution_count": 129,
     "metadata": {},
     "output_type": "execute_result"
    }
   ],
   "source": [
    "data_tensor = torch.Tensor()\n",
    "# Iterate over the data points of the dataset\n",
    "for i in x_test:\n",
    "    # Concatenate the data point to the tensor\n",
    "    data_tensor = torch.cat((data_tensor, i), dim=0)\n",
    "x_test = data_tensor.reshape(time,1068,-1)\n",
    "x_test.shape"
   ]
  },
  {
   "cell_type": "code",
   "execution_count": 130,
   "id": "07e634c6-d79c-48c0-836e-dec875cc77f5",
   "metadata": {},
   "outputs": [],
   "source": [
    "y_test = []\n",
    "for i in range(time):\n",
    "    y_test.append(data_test[i][1].y)"
   ]
  },
  {
   "cell_type": "code",
   "execution_count": 131,
   "id": "ace30173-12cc-4f49-a578-eb25d2272b33",
   "metadata": {},
   "outputs": [
    {
     "data": {
      "text/plain": [
       "torch.Size([145, 1068])"
      ]
     },
     "execution_count": 131,
     "metadata": {},
     "output_type": "execute_result"
    }
   ],
   "source": [
    "data_tensor = torch.Tensor()\n",
    "# Iterate over the data points of the dataset\n",
    "for i in y_test:\n",
    "    # Concatenate the data point to the tensor\n",
    "    data_tensor = torch.cat((data_tensor, i), dim=0)\n",
    "y_test = data_tensor.reshape(time,1068)\n",
    "y_test.shape"
   ]
  },
  {
   "cell_type": "code",
   "execution_count": 132,
   "id": "b41812ac-fb56-4842-82c2-b66a7fdfacef",
   "metadata": {},
   "outputs": [
    {
     "data": {
      "text/plain": [
       "(torch.Size([145, 1068, 1]), torch.Size([145, 1068]))"
      ]
     },
     "execution_count": 132,
     "metadata": {},
     "output_type": "execute_result"
    }
   ],
   "source": [
    "x_test.shape, y_test.shape"
   ]
  },
  {
   "cell_type": "markdown",
   "id": "760e50ec-1b57-45be-9a33-11e04fe61ef1",
   "metadata": {
    "tags": []
   },
   "source": [
    "# Randomly Missing Values"
   ]
  },
  {
   "cell_type": "code",
   "execution_count": 189,
   "id": "e6fbab16-d964-4b11-8fe4-2290a4c2cd0c",
   "metadata": {},
   "outputs": [],
   "source": [
    "x_train = x_train.reshape(-1,N)"
   ]
  },
  {
   "cell_type": "code",
   "execution_count": 190,
   "id": "89382a4a-99f4-49c6-9ed3-f2826ff85a2e",
   "metadata": {},
   "outputs": [],
   "source": [
    "np.random.seed(90)\n",
    "seed_number = np.random.choice(len(x_train),290,replace=False)"
   ]
  },
  {
   "cell_type": "code",
   "execution_count": 191,
   "id": "96ba0ff6-c1bd-4f3b-ae1c-e8dc3b05858e",
   "metadata": {},
   "outputs": [],
   "source": [
    "x_train[seed_number] = float('nan')"
   ]
  },
  {
   "cell_type": "markdown",
   "id": "3c14500c-0428-4396-87da-7d03ab108c0a",
   "metadata": {},
   "source": [
    "# 1) Missing Value - Mean"
   ]
  },
  {
   "cell_type": "code",
   "execution_count": 136,
   "id": "44f2daa8-18bb-4e04-9b77-2ed6ac1128a6",
   "metadata": {},
   "outputs": [],
   "source": [
    "x_train_mean = x_train.clone()"
   ]
  },
  {
   "cell_type": "code",
   "execution_count": 140,
   "id": "0470e409-b47c-4102-ab21-d196785733aa",
   "metadata": {},
   "outputs": [],
   "source": [
    "df = pd.DataFrame(x_train_mean.tolist())\n",
    "mean_value = df.mean() # finds the mean value of the column A\n",
    "df = df.fillna(mean_value) # replace missing values with the mean value"
   ]
  },
  {
   "cell_type": "code",
   "execution_count": 143,
   "id": "6ce4e8da-0bde-4f16-b4f9-817d0652d9e8",
   "metadata": {},
   "outputs": [],
   "source": [
    "x_train_mean = torch.Tensor(df.values)"
   ]
  },
  {
   "cell_type": "markdown",
   "id": "1f9a63dc-dec3-49ac-8b71-c5fa34a09fb0",
   "metadata": {},
   "source": [
    "## ST-GCN"
   ]
  },
  {
   "cell_type": "code",
   "execution_count": 146,
   "id": "b45aa7eb-a2c5-458e-baf4-99f7697464a6",
   "metadata": {},
   "outputs": [],
   "source": [
    "mean_f_train = x_train_mean.reshape(T_train,N,1).float()"
   ]
  },
  {
   "cell_type": "code",
   "execution_count": 169,
   "id": "7a0f21d9-b9a0-438f-ae2f-82f4586eb04a",
   "metadata": {},
   "outputs": [],
   "source": [
    "mean_X = mean_f_train[:438,:,:]\n",
    "mean_y = mean_f_train[145:,:,:]"
   ]
  },
  {
   "cell_type": "code",
   "execution_count": 170,
   "id": "dab6b667-b186-4a4d-bd89-b6889f06f6b4",
   "metadata": {},
   "outputs": [
    {
     "data": {
      "text/plain": [
       "(torch.Size([438, 1068, 1]), torch.Size([438, 1068, 1]))"
      ]
     },
     "execution_count": 170,
     "metadata": {},
     "output_type": "execute_result"
    }
   ],
   "source": [
    "mean_X.shape,mean_y.shape"
   ]
  },
  {
   "cell_type": "code",
   "execution_count": 153,
   "id": "1d685430-2a45-4ecb-9344-187644ad10db",
   "metadata": {},
   "outputs": [
    {
     "name": "stderr",
     "output_type": "stream",
     "text": [
      "100%|██████████| 50/50 [04:17<00:00,  5.15s/it]\n"
     ]
    }
   ],
   "source": [
    "model = RecurrentGCN(node_features=1, filters=4)\n",
    "\n",
    "optimizer = torch.optim.Adam(model.parameters(), lr=0.01)\n",
    "\n",
    "model.train()\n",
    "\n",
    "for epoch in tqdm(range(50)):\n",
    "    for time, (xt,yt) in enumerate(zip(mean_X,mean_y)):\n",
    "        y_hat = model(xt, edge_index, edge_attr)\n",
    "        cost = torch.mean((y_hat-yt)**2)\n",
    "        cost.backward()\n",
    "        optimizer.step()\n",
    "        optimizer.zero_grad()"
   ]
  },
  {
   "cell_type": "code",
   "execution_count": 210,
   "id": "660f4fb6-0626-483a-aba9-2ed4c32d6f27",
   "metadata": {},
   "outputs": [],
   "source": [
    "mean_X_fore = mean_f_train[438:,:]"
   ]
  },
  {
   "cell_type": "code",
   "execution_count": 212,
   "id": "d8cd9f49-24f5-4829-80b0-30251b62009b",
   "metadata": {},
   "outputs": [],
   "source": [
    "mean_fhat = torch.stack([model(xt, edge_index, edge_attr) for xt in mean_X_fore]).detach().numpy()"
   ]
  },
  {
   "cell_type": "code",
   "execution_count": 213,
   "id": "b20d7707-35d0-4f58-a6b6-9b8da30b1e16",
   "metadata": {},
   "outputs": [
    {
     "data": {
      "text/plain": [
       "(torch.Size([145, 1068, 1]), torch.Size([145, 1068, 1]))"
      ]
     },
     "execution_count": 213,
     "metadata": {},
     "output_type": "execute_result"
    }
   ],
   "source": [
    "mean_X_fore.shape,x_test.shape"
   ]
  },
  {
   "cell_type": "markdown",
   "id": "11faa652-0266-4c64-a4e4-afd93d11375f",
   "metadata": {},
   "source": [
    "# 2) Missing Value - Linear Interpolation"
   ]
  },
  {
   "cell_type": "code",
   "execution_count": 192,
   "id": "6a4eeffd-d513-4d2a-8940-7ed7ece48dd2",
   "metadata": {},
   "outputs": [],
   "source": [
    "df = pd.DataFrame(x_train.tolist())\n",
    "df.interpolate(method='linear', inplace=True)\n",
    "df = df.fillna(0)"
   ]
  },
  {
   "cell_type": "code",
   "execution_count": 196,
   "id": "4626e907-6d9e-490c-9c69-995878247048",
   "metadata": {},
   "outputs": [],
   "source": [
    "x_train_linear = torch.Tensor(df.values).reshape(T_train,N,1)"
   ]
  },
  {
   "cell_type": "markdown",
   "id": "c21efcb0-b804-4c18-a553-184899e8d2ab",
   "metadata": {},
   "source": [
    "## ST-GCN"
   ]
  },
  {
   "cell_type": "code",
   "execution_count": 197,
   "id": "d41a63ba-bdb2-46c6-abdc-bbf29cf6b0ad",
   "metadata": {},
   "outputs": [],
   "source": [
    "linear_f_train = x_train_linear.clone()"
   ]
  },
  {
   "cell_type": "code",
   "execution_count": 199,
   "id": "625fa6ec-f9c1-42fa-8118-63a571deb76b",
   "metadata": {},
   "outputs": [],
   "source": [
    "linear_X = linear_f_train[:438,:,:]\n",
    "linear_y = linear_f_train[145:,:,:]"
   ]
  },
  {
   "cell_type": "code",
   "execution_count": 200,
   "id": "b91722fc-f691-4680-a94e-c65644b5a25a",
   "metadata": {},
   "outputs": [
    {
     "name": "stderr",
     "output_type": "stream",
     "text": [
      "100%|██████████| 50/50 [04:20<00:00,  5.22s/it]\n"
     ]
    }
   ],
   "source": [
    "model = RecurrentGCN(node_features=1, filters=4)\n",
    "\n",
    "optimizer = torch.optim.Adam(model.parameters(), lr=0.01)\n",
    "\n",
    "model.train()\n",
    "\n",
    "for epoch in tqdm(range(50)):\n",
    "    for time, (xt,yt) in enumerate(zip(linear_X,linear_y)):\n",
    "        y_hat = model(xt, edge_index, edge_attr)\n",
    "        cost = torch.mean((y_hat-yt)**2)\n",
    "        cost.backward()\n",
    "        optimizer.step()\n",
    "        optimizer.zero_grad()"
   ]
  },
  {
   "cell_type": "code",
   "execution_count": 237,
   "id": "1358c4c3-32f7-47d8-adf5-6ba0f8d0fa6b",
   "metadata": {},
   "outputs": [],
   "source": [
    "linear_X_fore = linear_f_train[438:,:]"
   ]
  },
  {
   "cell_type": "code",
   "execution_count": 238,
   "id": "ebe1c44f-d77a-4fd2-ba92-5ebc93f59d01",
   "metadata": {},
   "outputs": [
    {
     "data": {
      "text/plain": [
       "torch.Size([145, 1068, 1])"
      ]
     },
     "execution_count": 238,
     "metadata": {},
     "output_type": "execute_result"
    }
   ],
   "source": [
    "linear_X_fore.shape"
   ]
  },
  {
   "cell_type": "code",
   "execution_count": 239,
   "id": "dcac16da-782f-42bd-8003-4eb9ce1aad68",
   "metadata": {},
   "outputs": [],
   "source": [
    "linear_fhat = torch.stack([model(xt, edge_index, edge_attr) for xt in linear_X_fore]).detach().numpy()"
   ]
  },
  {
   "cell_type": "code",
   "execution_count": 240,
   "id": "ca881d03-bc63-4316-a96e-6c5198d15b68",
   "metadata": {},
   "outputs": [
    {
     "data": {
      "text/plain": [
       "(torch.Size([145, 1068, 1]), torch.Size([145, 1068, 1]))"
      ]
     },
     "execution_count": 240,
     "metadata": {},
     "output_type": "execute_result"
    }
   ],
   "source": [
    "linear_X_fore.shape,x_test.shape"
   ]
  },
  {
   "cell_type": "markdown",
   "id": "03d3001c-c4bd-4046-8b0f-7e5d4a069ad2",
   "metadata": {},
   "source": [
    "# Comparison"
   ]
  },
  {
   "cell_type": "markdown",
   "id": "5199a5d3-f1fd-4774-be35-311eda1451b8",
   "metadata": {},
   "source": [
    "MSE"
   ]
  },
  {
   "cell_type": "code",
   "execution_count": 235,
   "id": "fa0ba64e-46cb-487f-8a3a-e12a68b7ed74",
   "metadata": {},
   "outputs": [
    {
     "data": {
      "text/plain": [
       "0       0.802389\n",
       "1       0.442226\n",
       "2       1.248909\n",
       "3       0.389663\n",
       "4       0.823464\n",
       "          ...   \n",
       "1063    0.170553\n",
       "1064    0.774679\n",
       "1065    0.701724\n",
       "1066    1.213499\n",
       "1067    0.787685\n",
       "Length: 1068, dtype: float64"
      ]
     },
     "execution_count": 235,
     "metadata": {},
     "output_type": "execute_result"
    }
   ],
   "source": [
    "((pd.DataFrame(mean_fhat.reshape(T_test,N)) -  pd.DataFrame(x_test.reshape(T_test,N)))**2).mean()"
   ]
  },
  {
   "cell_type": "code",
   "execution_count": 241,
   "id": "a2b21a11-6a5c-408f-8e91-42f4584c3e07",
   "metadata": {},
   "outputs": [
    {
     "data": {
      "text/plain": [
       "0       0.802464\n",
       "1       0.441771\n",
       "2       1.248262\n",
       "3       0.389308\n",
       "4       0.822545\n",
       "          ...   \n",
       "1063    0.183206\n",
       "1064    0.774763\n",
       "1065    0.690184\n",
       "1066    1.213436\n",
       "1067    0.787685\n",
       "Length: 1068, dtype: float64"
      ]
     },
     "execution_count": 241,
     "metadata": {},
     "output_type": "execute_result"
    }
   ],
   "source": [
    "((pd.DataFrame(linear_fhat.reshape(T_test,N)) -  pd.DataFrame(x_test.reshape(T_test,N)))**2).mean()"
   ]
  }
 ],
 "metadata": {
  "kernelspec": {
   "display_name": "Python 3 (ipykernel)",
   "language": "python",
   "name": "python3"
  },
  "language_info": {
   "codemirror_mode": {
    "name": "ipython",
    "version": 3
   },
   "file_extension": ".py",
   "mimetype": "text/x-python",
   "name": "python",
   "nbconvert_exporter": "python",
   "pygments_lexer": "ipython3",
   "version": "3.8.12"
  }
 },
 "nbformat": 4,
 "nbformat_minor": 5
}

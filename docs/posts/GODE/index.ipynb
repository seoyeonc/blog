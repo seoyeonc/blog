{
  "cells": [
    {
      "cell_type": "markdown",
      "metadata": {},
      "source": [
        "# GODE\n",
        "\n",
        "SEOYEON CHOI  \n",
        "2022-09-01\n",
        "\n",
        "About GODE paper"
      ],
      "id": "80bdaa43-4bb6-4a77-8bbd-b5deb29c7f8e"
    }
  ],
  "nbformat": 4,
  "nbformat_minor": 5,
  "metadata": {
    "kernelspec": {
      "display_name": "Python 3",
      "language": "python",
      "name": "python3"
    }
  }
}
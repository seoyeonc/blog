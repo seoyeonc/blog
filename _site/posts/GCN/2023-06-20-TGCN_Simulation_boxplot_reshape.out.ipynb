{
  "cells": [
    {
      "cell_type": "markdown",
      "metadata": {},
      "source": [
        "# TGCN_Simulation_reshape\n",
        "\n",
        "SEOYEON CHOI  \n",
        "2023-06-20\n",
        "\n",
        "> Simulation Study\n",
        "\n",
        "# Import"
      ],
      "id": "75810048-c501-48ab-8b2d-1c7a4e2c38e4"
    },
    {
      "cell_type": "code",
      "execution_count": 1,
      "metadata": {},
      "outputs": [],
      "source": [
        "import matplotlib.pyplot as plt\n",
        "import pandas as pd\n",
        "import numpy as np"
      ],
      "id": "97cfaa6d-11ad-460b-874c-01c8e2c14e70"
    },
    {
      "cell_type": "markdown",
      "metadata": {},
      "source": [
        "# Fivenodes"
      ],
      "id": "8c8157a5-23d0-40c7-a729-c3ea48b0c69c"
    },
    {
      "cell_type": "code",
      "execution_count": 25,
      "metadata": {},
      "outputs": [],
      "source": [
        "df1 = pd.read_csv('./simulation_results/2023-06-21_22-15-12.csv')\n",
        "df2 = pd.read_csv('./simulation_results/2023-06-21_22-40-10.csv')\n",
        "df3 = pd.read_csv('./simulation_results/2023-06-21_23-05-22.csv')\n",
        "df4 = pd.read_csv('./simulation_results/2023-06-21_23-30-38.csv')\n",
        "df5 = pd.read_csv('./simulation_results/2023-06-21_23-56-42.csv')\n",
        "df6 = pd.read_csv('./simulation_results/2023-06-22_00-22-04.csv')\n",
        "df7 = pd.read_csv('./simulation_results/2023-06-22_00-47-43.csv')\n",
        "df8 = pd.read_csv('./simulation_results/2023-06-22_01-12-10.csv')"
      ],
      "id": "58a7de0e-0147-4be6-ae52-f391e068d404"
    },
    {
      "cell_type": "code",
      "execution_count": 26,
      "metadata": {},
      "outputs": [],
      "source": [
        "df9 = pd.read_csv('./simulation_results/2023-07-18_18-27-03.csv')\n",
        "df10 = pd.read_csv('./simulation_results/2023-07-18_18-53-09.csv')\n",
        "df11 = pd.read_csv('./simulation_results/2023-07-18_19-20-02.csv')\n",
        "df12 = pd.read_csv('./simulation_results/2023-07-18_19-47-32.csv')\n",
        "df13 = pd.read_csv('./simulation_results/2023-07-18_20-14-25.csv')\n",
        "df14 = pd.read_csv('./simulation_results/2023-07-18_20-41-14.csv')"
      ],
      "id": "060005f7-6f87-4e1b-a77c-bcaf35a81f28"
    },
    {
      "cell_type": "code",
      "execution_count": 27,
      "metadata": {},
      "outputs": [],
      "source": [
        "data = pd.concat([df1,df2,df3,df4,df5,df6,df7,df8,df9,df10,df11,df12,df13,df14],axis=0)"
      ],
      "id": "243c8ac3-63ef-463b-920c-732bcea5b27d"
    },
    {
      "cell_type": "code",
      "execution_count": 28,
      "metadata": {},
      "outputs": [],
      "source": [
        "data.to_csv('./simulation_results/Real_simulation_reshape/TGCN_fivedones_Simulation.csv',index=False)"
      ],
      "id": "6531c324-827c-4f7f-aef7-90da0b1f2c23"
    },
    {
      "cell_type": "code",
      "execution_count": 29,
      "metadata": {},
      "outputs": [],
      "source": [
        "data = pd.read_csv('./simulation_results/Real_simulation_reshape/TGCN_fivedones_Simulation.csv')"
      ],
      "id": "2029a91d-4dc4-4eb2-8f9d-63d4727f4c94"
    },
    {
      "cell_type": "markdown",
      "metadata": {},
      "source": [
        "## Baseline"
      ],
      "id": "73cb8166-78c2-4895-bd98-fdf27018f71a"
    },
    {
      "cell_type": "code",
      "execution_count": 30,
      "metadata": {
        "tags": []
      },
      "outputs": [],
      "source": [
        "data.query(\"method!='GNAR' and mrate==0\").plot.box(backend='plotly',x='mrate',color='method',y='mse',facet_col='lags',facet_row='nof_filters',height=600)\n"
      ],
      "id": "14023051-c860-4a46-9df4-5408996cdce4"
    },
    {
      "cell_type": "markdown",
      "metadata": {},
      "source": [
        "## Random"
      ],
      "id": "9c617b09-8faf-4037-810c-5141787a6e98"
    },
    {
      "cell_type": "code",
      "execution_count": 31,
      "metadata": {},
      "outputs": [],
      "source": [
        "data.query(\"method!='GNAR' and mtype =='rand'\").plot.box(backend='plotly',x='mrate',color='method',y='mse',facet_col='inter_method',facet_row='nof_filters',height=600)\n",
        "\n"
      ],
      "id": "8571d995-8823-48ef-8324-d8acc3ee8f62"
    },
    {
      "cell_type": "markdown",
      "metadata": {},
      "source": [
        "## Block"
      ],
      "id": "e5deea75-050d-44e7-b7a1-be4349c9a1bf"
    },
    {
      "cell_type": "code",
      "execution_count": 32,
      "metadata": {},
      "outputs": [],
      "source": [
        "data.query(\"method!='GNAR' and mtype =='block' \").plot.box(backend='plotly',x='mrate',color='method',y='mse',facet_col='inter_method',facet_row='nof_filters',height=600)\n"
      ],
      "id": "d92ed59b-42da-442b-a3e7-42a1e6e89aea"
    },
    {
      "cell_type": "markdown",
      "metadata": {},
      "source": [
        "# chickenpox"
      ],
      "id": "a6caf847-64ac-499b-89e6-5b793856e401"
    },
    {
      "cell_type": "code",
      "execution_count": 33,
      "metadata": {},
      "outputs": [],
      "source": [
        "df1 = pd.read_csv('./simulation_results/2023-06-22_02-27-00.csv') # GNAR random\n",
        "df2 = pd.read_csv('./simulation_results/2023-06-22_03-45-52.csv') # GNAR block\n",
        "df3 = pd.read_csv('./simulation_results/2023-06-22_04-18-03.csv') # STGCN, ITSTGCN random 30%\n",
        "df4 = pd.read_csv('./simulation_results/2023-06-22_04-50-08.csv') \n",
        "df5 = pd.read_csv('./simulation_results/2023-06-22_05-54-21.csv') \n",
        "df6 = pd.read_csv('./simulation_results/2023-06-22_07-05-46.csv') "
      ],
      "id": "3e66680d-3b56-4295-b4da-c8988c6ceb77"
    },
    {
      "cell_type": "code",
      "execution_count": 34,
      "metadata": {},
      "outputs": [],
      "source": [
        "df7 = pd.read_csv('./simulation_results/2023-07-18_21-22-24.csv') # GNAR random\n",
        "df8 = pd.read_csv('./simulation_results/2023-07-18_22-04-58.csv') # GNAR block\n",
        "df9 = pd.read_csv('./simulation_results/2023-07-18_22-44-53.csv') # STGCN, ITSTGCN random 30%\n",
        "df10 = pd.read_csv('./simulation_results/2023-07-18_23-28-12.csv') "
      ],
      "id": "bcc44693-cad9-4361-b0f8-1bf079037c64"
    },
    {
      "cell_type": "code",
      "execution_count": 35,
      "metadata": {},
      "outputs": [],
      "source": [
        "data = pd.concat([df1,df2,df3,df4,df5,df6,df7,df8,df9,df10],axis=0)"
      ],
      "id": "3a15858e-07b2-460c-86c6-49ee4deeb10d"
    },
    {
      "cell_type": "code",
      "execution_count": 36,
      "metadata": {},
      "outputs": [],
      "source": [
        "data.to_csv('./simulation_results/Real_simulation_reshape/TGCN_chikenpox_Simulation.csv',index=False)"
      ],
      "id": "158398fa-ae55-4525-8535-eb323b1c4b6b"
    },
    {
      "cell_type": "code",
      "execution_count": 37,
      "metadata": {},
      "outputs": [],
      "source": [
        "data = pd.read_csv('./simulation_results/Real_simulation_reshape/TGCN_chikenpox_Simulation.csv')"
      ],
      "id": "dc861068-2821-4447-a4b7-3cb5b4a0ed8c"
    },
    {
      "cell_type": "markdown",
      "metadata": {},
      "source": [
        "## Baseline"
      ],
      "id": "9cbf7915-f3c1-4f72-b364-ade1143a73e4"
    },
    {
      "cell_type": "code",
      "execution_count": 38,
      "metadata": {},
      "outputs": [],
      "source": [
        "data.query(\"method!='GNAR' and mrate ==0 \").plot.box(backend='plotly',x='mrate',color='method',y='mse',facet_col='nof_filters',height=600)\n"
      ],
      "id": "1cb5fa6e-48a8-4931-95f2-08903b76569f"
    },
    {
      "cell_type": "markdown",
      "metadata": {},
      "source": [
        "## Random"
      ],
      "id": "cce00d8e-b60d-4080-9e34-f3d15d38649c"
    },
    {
      "cell_type": "code",
      "execution_count": 39,
      "metadata": {},
      "outputs": [],
      "source": [
        "data.query(\"method!='GNAR' and mtype =='rand'\").plot.box(backend='plotly',x='mrate',color='method',y='mse',facet_col='nof_filters',facet_row='inter_method',height=800)\n"
      ],
      "id": "de6f2569-bee5-4111-8394-699cc72aaf03"
    },
    {
      "cell_type": "markdown",
      "metadata": {},
      "source": [
        "## Block"
      ],
      "id": "b09c0f1f-8903-4ef0-84a6-951ff5fd4f40"
    },
    {
      "cell_type": "code",
      "execution_count": 40,
      "metadata": {},
      "outputs": [],
      "source": [
        "data.query(\"method!='GNAR' and mtype =='block'\").plot.box(backend='plotly',x='mrate',color='method',y='mse',facet_col='inter_method',facet_row='lags',height=800)\n"
      ],
      "id": "9b5ad264-8a84-46ae-a866-33587dc9e160"
    },
    {
      "cell_type": "markdown",
      "metadata": {},
      "source": [
        "# Pedalme"
      ],
      "id": "65e7f717-8c8e-4495-8626-46da05eac13a"
    },
    {
      "cell_type": "code",
      "execution_count": 41,
      "metadata": {},
      "outputs": [],
      "source": [
        "df1 = pd.read_csv('./simulation_results/2023-06-22_07-32-36.csv') \n",
        "df2 = pd.read_csv('./simulation_results/2023-06-22_10-37-27.csv')  "
      ],
      "id": "d4636a02-2db0-4676-a73b-9c7566c258f4"
    },
    {
      "cell_type": "code",
      "execution_count": 42,
      "metadata": {},
      "outputs": [],
      "source": [
        "df3 = pd.read_csv('./simulation_results/2023-07-18_23-46-13.csv') "
      ],
      "id": "9de8674b-0d96-4e24-af64-6ecccf1a9ac7"
    },
    {
      "cell_type": "code",
      "execution_count": 43,
      "metadata": {},
      "outputs": [],
      "source": [
        "data = pd.concat([df1,df2,df3],axis=0)"
      ],
      "id": "d22955cb-e046-49c8-890a-52ffe13e237d"
    },
    {
      "cell_type": "code",
      "execution_count": 44,
      "metadata": {},
      "outputs": [],
      "source": [
        "data.to_csv('./simulation_results/Real_simulation_reshape/TGCN_pedalme_Simulation.csv',index=False)"
      ],
      "id": "ee3ef5e8-7298-49dd-b21f-9644c30b5f77"
    },
    {
      "cell_type": "code",
      "execution_count": 45,
      "metadata": {},
      "outputs": [],
      "source": [
        "data = pd.read_csv('./simulation_results/Real_simulation_reshape/TGCN_pedalme_Simulation.csv')"
      ],
      "id": "446c16b2-85d5-4f90-b214-fe80c77bd0c9"
    },
    {
      "cell_type": "markdown",
      "metadata": {},
      "source": [
        "## Baseline"
      ],
      "id": "c7346498-92d4-4be5-9717-29d5f8d25905"
    },
    {
      "cell_type": "code",
      "execution_count": 46,
      "metadata": {},
      "outputs": [],
      "source": [
        "data.query(\"mrate ==0 and lags!=2\").plot.box(backend='plotly',x='epoch',color='method',y='mse',facet_col='nof_filters',facet_row='lags',height=400)\n"
      ],
      "id": "cd49941e-507b-496f-a9bc-9bb3936acc5e"
    },
    {
      "cell_type": "markdown",
      "metadata": {},
      "source": [
        "## random"
      ],
      "id": "910d6a2e-f76d-44c5-83f5-33fe69644ae9"
    },
    {
      "cell_type": "code",
      "execution_count": 47,
      "metadata": {},
      "outputs": [],
      "source": [
        "data.query(\"method!='GNAR' and mtype =='rand' and lags!=2\").plot.box(backend='plotly',x='mrate',color='method',y='mse',facet_col='nof_filters',facet_row='inter_method',height=800)\n"
      ],
      "id": "5375fbb0-00f5-4073-94a0-025f757cf4e8"
    },
    {
      "cell_type": "markdown",
      "metadata": {},
      "source": [
        "## block"
      ],
      "id": "ee329fb7-c40b-4728-b53d-c7fe30e59955"
    },
    {
      "cell_type": "code",
      "execution_count": 48,
      "metadata": {},
      "outputs": [],
      "source": [
        "data.query(\"method!='GNAR' and mtype =='block' and lags!=2 \").plot.box(backend='plotly',x='mrate',color='method',y='mse',facet_col='nof_filters',facet_row='inter_method',height=800)\n"
      ],
      "id": "3a2b2904-0190-445f-b5e9-31f1306fb765"
    },
    {
      "cell_type": "markdown",
      "metadata": {},
      "source": [
        "## weight matrix time, node 고려한 결과"
      ],
      "id": "0894e170-ddf0-4601-b131-3292ec811577"
    },
    {
      "cell_type": "code",
      "execution_count": 13,
      "metadata": {},
      "outputs": [],
      "source": [
        "df1 = pd.read_csv('./simulation_results/2023-06-21_22-29-02.csv')\n",
        "df2 = pd.read_csv('./simulation_results/2023-06-21_22-51-34.csv')"
      ],
      "id": "720eef33-a93e-4018-9f30-867b9446b918"
    },
    {
      "cell_type": "code",
      "execution_count": 14,
      "metadata": {},
      "outputs": [],
      "source": [
        "data2 = pd.concat([df1,df2],axis=0)"
      ],
      "id": "970e0d05-641f-4e2b-83f8-7995279164c6"
    },
    {
      "cell_type": "code",
      "execution_count": 15,
      "metadata": {},
      "outputs": [],
      "source": [
        "data2.to_csv('./simulation_results/Real_simulation_reshape/TGCN_pedalme_Simulation_itstgcnsnd.csv',index=False)"
      ],
      "id": "e4343248-a16d-47a3-9886-4ccb53c7aa45"
    },
    {
      "cell_type": "code",
      "execution_count": 16,
      "metadata": {},
      "outputs": [],
      "source": [
        "data2 = pd.read_csv('./simulation_results/Real_simulation_reshape/TGCN_pedalme_Simulation_itstgcnsnd.csv')"
      ],
      "id": "68c1f3d7-7e0f-4a6d-82d7-ba671275701a"
    },
    {
      "cell_type": "code",
      "execution_count": 17,
      "metadata": {},
      "outputs": [],
      "source": [
        "data2.query(\"mtype=='rand'\").plot.box(backend='plotly',x='mrate',color='method',y='mse',facet_col='inter_method',facet_row='nof_filters',height=1000)"
      ],
      "id": "908c378b-03a2-4bab-95ad-152d13daea50"
    },
    {
      "cell_type": "code",
      "execution_count": 18,
      "metadata": {},
      "outputs": [],
      "source": [
        "data2.query(\"mtype=='block'\").plot.box(backend='plotly',x='mrate',color='method',y='mse',facet_col='inter_method',facet_row='nof_filters',height=1000)"
      ],
      "id": "8a7f8af4-b4e1-4d20-8d06-3f6df5850440"
    },
    {
      "cell_type": "markdown",
      "metadata": {},
      "source": [
        "# Wikimath"
      ],
      "id": "2f08d0ba-0f1d-4207-81cc-4e8afab12522"
    },
    {
      "cell_type": "code",
      "execution_count": 85,
      "metadata": {},
      "outputs": [],
      "source": [
        "df1 = pd.read_csv('./simulation_results/2023-06-22_15-11-43.csv')\n",
        "df2 = pd.read_csv('./simulation_results/2023-06-24_03-36-59.csv')\n",
        "df3 = pd.read_csv('./simulation_results/2023-06-24_10-08-34.csv')\n",
        "df4 = pd.read_csv('./simulation_results/2023-06-24_19-33-58.csv')\n",
        "df5 = pd.read_csv('./simulation_results/2023-06-25_04-53-42.csv')\n",
        "df6 = pd.read_csv('./simulation_results/2023-06-25_11-10-17.csv')\n",
        "df7 = pd.read_csv('./simulation_results/2023-06-25_17-18-10.csv')\n",
        "df8 = pd.read_csv('./simulation_results/2023-06-25_23-36-43.csv')\n",
        "df9 = pd.read_csv('./simulation_results/2023-06-26_06-47-01.csv') # block\n",
        "df10 = pd.read_csv('./simulation_results/2023-06-26_13-53-42.csv') # block\n",
        "df11 = pd.read_csv('./simulation_results/2023-06-26_20-18-18.csv') # block"
      ],
      "id": "72dcb6b8-b2df-41e4-8ebd-5eb2a02c97af"
    },
    {
      "cell_type": "code",
      "execution_count": 86,
      "metadata": {},
      "outputs": [],
      "source": [
        "df12 = pd.read_csv('./simulation_results/2023-08-02_04-31-56.csv')\n",
        "df13 = pd.read_csv('./simulation_results/2023-08-02_09-27-54.csv')\n",
        "df14 = pd.read_csv('./simulation_results/2023-08-02_13-51-08.csv')\n",
        "df15 = pd.read_csv('./simulation_results/2023-08-02_18-39-58.csv')\n",
        "df16 = pd.read_csv('./simulation_results/2023-08-02_23-07-03.csv')\n",
        "df17 = pd.read_csv('./simulation_results/2023-08-03_03-56-12.csv')\n",
        "df18 = pd.read_csv('./simulation_results/2023-08-03_08-46-30.csv')\n",
        "df19 = pd.read_csv('./simulation_results/2023-08-03_13-12-15.csv')\n",
        "df20 = pd.read_csv('./simulation_results/2023-08-03_17-55-50.csv') # block\n",
        "df21 = pd.read_csv('./simulation_results/2023-08-03_22-21-01.csv') # block\n",
        "df22 = pd.read_csv('./simulation_results/2023-08-04_03-06-37.csv') # block\n",
        "df23 = pd.read_csv('./simulation_results/2023-08-04_07-53-37.csv') # block"
      ],
      "id": "10a5bd89-9ba7-499f-9cc9-2f773f2c2325"
    },
    {
      "cell_type": "code",
      "execution_count": 87,
      "metadata": {},
      "outputs": [],
      "source": [
        "data = pd.concat([df1,df2,df3,df4,df5,df6,df7,df8,df9,df10,df11,df12,df13,df14,df15,df16,df17,df18,df19,df20,df21,df22,df23],axis=0)"
      ],
      "id": "2bdf1359-250a-4f81-b2e7-bfc3f4a15907"
    },
    {
      "cell_type": "code",
      "execution_count": 88,
      "metadata": {},
      "outputs": [],
      "source": [
        "data.to_csv('./simulation_results/Real_simulation_reshape/TGCN_wikimath.csv',index=False)"
      ],
      "id": "fe47b372-5e6c-485c-875c-3c8d879aabe5"
    },
    {
      "cell_type": "code",
      "execution_count": 89,
      "metadata": {},
      "outputs": [],
      "source": [
        "data = pd.read_csv('./simulation_results/Real_simulation_reshape/TGCN_wikimath.csv')"
      ],
      "id": "0e5750a8-48a8-4f57-8650-1894b033996a"
    },
    {
      "cell_type": "markdown",
      "metadata": {},
      "source": [
        "## Baseline"
      ],
      "id": "9f4d97b7-db08-486b-bebf-f86be4ccd16a"
    },
    {
      "cell_type": "code",
      "execution_count": 90,
      "metadata": {},
      "outputs": [],
      "source": [
        "data.query(\"mrate==0 and method!='GNAR'\").plot.box(backend='plotly',x='mrate',color='method',y='mse',height=600)"
      ],
      "id": "b5d615c3-7255-4f7b-8c80-4f97f1d0ea9a"
    },
    {
      "cell_type": "markdown",
      "metadata": {},
      "source": [
        "## random"
      ],
      "id": "043bb411-72c4-4374-960a-c44aadd62429"
    },
    {
      "cell_type": "code",
      "execution_count": 91,
      "metadata": {},
      "outputs": [],
      "source": [
        "data.query(\"mtype=='rand' and mrate !=0 and method!='GNAR'\").plot.box(backend='plotly',x='mrate',color='method',y='mse',facet_col='lags',facet_row='nof_filters',height=800)\n"
      ],
      "id": "0be1ccad-dd6e-42fe-b32d-8a4e48b17a96"
    },
    {
      "cell_type": "markdown",
      "metadata": {},
      "source": [
        "## block"
      ],
      "id": "85cf5904-561a-4342-ba81-7ae305f1e6ba"
    },
    {
      "cell_type": "code",
      "execution_count": 92,
      "metadata": {},
      "outputs": [],
      "source": [
        "data.query(\"mtype=='block' and method!='GNAR'\").plot.box(backend='plotly',x='mrate',color='method',y='mse',facet_col='lags',facet_row='nof_filters',height=1200)\n"
      ],
      "id": "0ba62ead-c608-429b-94f0-1a38a5f47267"
    },
    {
      "cell_type": "markdown",
      "metadata": {},
      "source": [
        "## missing values on the same nodes"
      ],
      "id": "33c45b86-0329-457c-a6c7-ea61eb6a70d9"
    },
    {
      "cell_type": "code",
      "execution_count": 93,
      "metadata": {
        "tags": []
      },
      "outputs": [],
      "source": [
        "df1 = pd.read_csv('./simulation_results/2023-06-27_03-08-38.csv') # STGCN IT-STGCN block\n",
        "df2 = pd.read_csv('./simulation_results/2023-06-27_15-49-21.csv') # STGCN IT-STGCN\n",
        "df3 = pd.read_csv('./simulation_results/2023-06-27_09-33-29.csv') "
      ],
      "id": "f804b18a-149e-48d5-ab30-9a0516fc611b"
    },
    {
      "cell_type": "code",
      "execution_count": 94,
      "metadata": {},
      "outputs": [],
      "source": [
        "data = pd.concat([df1],axis=0)"
      ],
      "id": "8947c20f-0acb-41e8-9a89-d122bf2c0d18"
    },
    {
      "cell_type": "code",
      "execution_count": 178,
      "metadata": {},
      "outputs": [],
      "source": [
        "data.to_csv('./simulation_results/Real_simulation_reshape/TGCN_wikimath_GSO_st.csv',index=False)"
      ],
      "id": "3082aa32-04c8-4a3e-9756-6634caf9c949"
    },
    {
      "cell_type": "code",
      "execution_count": 179,
      "metadata": {},
      "outputs": [],
      "source": [
        "data = pd.read_csv('./simulation_results/Real_simulation_reshape/TGCN_wikimath_GSO_st.csv')"
      ],
      "id": "9d39029d-2027-4858-aa8a-11a8f3628762"
    },
    {
      "cell_type": "code",
      "execution_count": 180,
      "metadata": {},
      "outputs": [],
      "source": [
        "data.query(\"method!='GNAR' and mtype =='block' \").plot.box(backend='plotly',x='mrate',color='method',y='mse',facet_col='inter_method',facet_row='lags',height=800)\n"
      ],
      "id": "5380ddb8-d5f5-49a0-b11f-89ad2db0ad41"
    },
    {
      "cell_type": "markdown",
      "metadata": {},
      "source": [
        "# Windmilsmall"
      ],
      "id": "7fe2abf7-0487-4a7f-8f7e-0c8039e4f92b"
    },
    {
      "cell_type": "code",
      "execution_count": 49,
      "metadata": {},
      "outputs": [],
      "source": [
        "df1 = pd.read_csv('./simulation_results/2023-08-16_19-42-08.csv') # STGCN IT-STGCN 70%\n",
        "df2 = pd.read_csv('./simulation_results/2023-08-17_08-35-00.csv') # STGCN IT-STGCN\n",
        "df3 = pd.read_csv('./simulation_results/2023-08-17_20-55-05.csv') # STGCN IT-STGCN\n",
        "df4 = pd.read_csv('./simulation_results/2023-08-18_09-48-46.csv') # STGCN IT-STGCN\n",
        "df5 = pd.read_csv('./simulation_results/2023-08-18_22-44-05.csv') # STGCN IT-STGCN\n",
        "df6 = pd.read_csv('./simulation_results/2023-08-19_11-47-24.csv') # GNAR 30%, 50%, 70% # 뭔가 일단 필요없어서 데이터셋에서 뺌\n",
        "df7 = pd.read_csv('./simulation_results/2023-08-20_00-42-42.csv') # STGCN IT-STGCN\n",
        "df8 = pd.read_csv('./simulation_results/2023-08-20_13-37-41.csv') # STGCN IT-STGCN\n",
        "df9 = pd.read_csv('./simulation_results/2023-08-21_02-04-28.csv') # STGCN IT-STGCN\n",
        "df10 = pd.read_csv('./simulation_results/2023-08-21_14-58-42.csv') # STGCN IT-STGCN\n",
        "df11 = pd.read_csv('./simulation_results/2023-08-22_03-53-21.csv') # STGCN IT-STGCN\n",
        "df12 = pd.read_csv('./simulation_results/2023-08-22_15-38-15.csv') # STGCN IT-STGCN\n",
        "df13 = pd.read_csv('./simulation_results/2023-08-23_00-02-26.csv') # STGCN IT-STGCN\n",
        "df14 = pd.read_csv('./simulation_results/2023-08-23_09-48-41.csv') # STGCN IT-STGCN\n",
        "df15 = pd.read_csv('./simulation_results/2023-08-23_23-24-27.csv') # STGCN IT-STGCN\n",
        "df16 = pd.read_csv('./simulation_results/2023-08-24_09-32-34.csv') # STGCN IT-STGCN\n",
        "df17 = pd.read_csv('./simulation_results/2023-08-24_22-10-18.csv') # STGCN IT-STGCN\n",
        "df18 = pd.read_csv('./simulation_results/2023-08-26_11-12-49.csv') # STGCN IT-STGCN\n",
        "df19 = pd.read_csv('./simulation_results/2023-08-26_20-03-41.csv') # STGCN IT-STGCN\n",
        "df20 = pd.read_csv('./simulation_results/2023-08-27_04-46-19.csv') # STGCN IT-STGCN\n",
        "df21 = pd.read_csv('./simulation_results/2023-08-28_12-14-20.csv') # STGCN IT-STGCN\n",
        "df22 = pd.read_csv('./simulation_results/2023-08-28_20-59-57.csv') # STGCN IT-STGCN\n",
        "df23 = pd.read_csv('./simulation_results/2023-08-29_05-48-59.csv') # STGCN IT-STGCN\n",
        "df24 = pd.read_csv('./simulation_results/2023-08-30_02-48-51.csv') # STGCN IT-STGCN\n",
        "df25 = pd.read_csv('./simulation_results/2023-08-30_11-42-39.csv') # STGCN IT-STGCN\n",
        "# df26 = pd.read_csv('./simulation_results/2023-04-22_07-46-08.csv') # STGCN IT-STGCN\n",
        "# df27 = pd.read_csv('./simulation_results/2023-04-22_15-45-20.csv') # STGCN IT-STGCN\n",
        "# df28 = pd.read_csv('./simulation_results/2023-04-22_22-57-31.csv') # STGCN IT-STGCN\n",
        "# df29 = pd.read_csv('./simulation_results/2023-04-23_07-00-15.csv') # STGCN IT-STGCN\n",
        "# df30 = pd.read_csv('./simulation_results/2023-04-23_15-18-02.csv') # STGCN IT-STGCN\n",
        "# block\n",
        "df31 = pd.read_csv('./simulation_results/2023-08-24_15-22-46.csv') # GNAR 70%\n",
        "df32 = pd.read_csv('./simulation_results/2023-08-26_10-59-04.csv') # GNAR \n",
        "df33 = pd.read_csv('./simulation_results/2023-08-26_19-42-49.csv')\n",
        "df34 = pd.read_csv('./simulation_results/2023-08-27_04-09-13.csv')\n",
        "df35 = pd.read_csv('./simulation_results/2023-08-27_12-43-40.csv')\n",
        "df36 = pd.read_csv('./simulation_results/2023-08-27_22-09-30.csv')\n",
        "df37 = pd.read_csv('./simulation_results/2023-08-28_10-42-12.csv')\n",
        "df38 = pd.read_csv('./simulation_results/2023-08-28_19-25-57.csv')\n",
        "df39 = pd.read_csv('./simulation_results/2023-08-29_03-54-36.csv')\n",
        "df40 = pd.read_csv('./simulation_results/2023-08-29_15-15-30.csv')\n",
        "df41 = pd.read_csv('./simulation_results/2023-08-30_00-10-00.csv')\n",
        "df42 = pd.read_csv('./simulation_results/2023-08-30_08-53-22.csv')\n",
        "df43 = pd.read_csv('./simulation_results/2023-08-30_17-30-31.csv')\n",
        "# df44 = pd.read_csv('./simulation_results/2023-05-04_05-22-59.csv')\n",
        "# df45 = pd.read_csv('./simulation_results/2023-05-04_09-22-37.csv')\n",
        "# df46 = pd.read_csv('./simulation_results/2023-05-04_15-00-57.csv')\n",
        "# df47 = pd.read_csv('./simulation_results/2023-05-04_23-41-21.csv')\n",
        "# df48 = pd.read_csv('./simulation_results/2023-05-05_07-23-04.csv')\n",
        "# df49 = pd.read_csv('./simulation_results/2023-05-05_15-03-17.csv')\n",
        "# df50 = pd.read_csv('./simulation_results/2023-05-06_05-18-07.csv')\n",
        "# df51 = pd.read_csv('./simulation_results/2023-05-06_12-57-14.csv')\n",
        "# df52 = pd.read_csv('./simulation_results/2023-05-06_19-10-23.csv')\n",
        "# df53 = pd.read_csv('./simulation_results/2023-05-07_03-20-10.csv')\n",
        "# df54 = pd.read_csv('./simulation_results/2023-05-07_11-26-24.csv')\n",
        "# df55 = pd.read_csv('./simulation_results/2023-05-08_00-04-56.csv')\n",
        "# df56 = pd.read_csv('./simulation_results/2023-05-08_04-27-01.csv')\n",
        "# df57 = pd.read_csv('./simulation_results/2023-05-08_10-06-55.csv')\n",
        "# df58 = pd.read_csv('./simulation_results/2023-05-08_17-50-36.csv')\n",
        "# df59 = pd.read_csv('./simulation_results/2023-05-09_03-28-08.csv')\n",
        "# df60 = pd.read_csv('./simulation_results/2023-05-09_11-08-10.csv')\n",
        "# baseline\n",
        "df61 = pd.read_csv('./simulation_results/2023-08-29_22-19-12.csv')\n",
        "df62 = pd.read_csv('./simulation_results/2023-08-30_07-18-55.csv')\n",
        "df63 = pd.read_csv('./simulation_results/2023-08-30_16-15-48.csv')\n",
        "# df64 = pd.read_csv('./simulation_results/2023-08-15_12-04-42.csv')\n",
        "# df65 = pd.read_csv('./simulation_results/2023-08-16_01-40-15.csv')\n",
        "# df66 = pd.read_csv('./simulation_results/2023-08-02_03-01-38.csv')\n",
        "# df67 = pd.read_csv('./simulation_results/2023-07-22_07-03-52.csv')\n",
        "# df68 = pd.read_csv('./simulation_results/2023-07-22_17-31-45.csv') # 확인 후 block 만 넣기!\n",
        "# df69 = pd.read_csv('./simulation_results/2023-07-22_19-44-00.csv')\n",
        "# df70 = pd.read_csv('./simulation_results/2023-07-23_05-22-58.csv')\n",
        "# df71 = pd.read_csv('./simulation_results/2023-07-23_07-55-51.csv')\n",
        "# df72 = pd.read_csv('./simulation_results/2023-07-23_17-42-13.csv')\n",
        "# df73 = pd.read_csv('./simulation_results/2023-07-23_20-30-21.csv')\n",
        "# df74 = pd.read_csv('./simulation_results/2023-07-24_05-41-08.csv')\n",
        "# df75 = pd.read_csv('./simulation_results/2023-07-24_07-54-06.csv')\n",
        "# df76 = pd.read_csv('./simulation_results/2023-07-24_17-39-27.csv')\n",
        "# df77 = pd.read_csv('./simulation_results/2023-07-24_19-53-21.csv')\n",
        "# df78 = pd.read_csv('./simulation_results/2023-07-25_05-57-37.csv')\n",
        "# df79 = pd.read_csv('./simulation_results/2023-07-25_08-15-18.csv')\n",
        "# df80 = pd.read_csv('./simulation_results/2023-07-25_16-42-39.csv')\n",
        "# df81 = pd.read_csv('./simulation_results/2023-07-26_04-43-08.csv')\n",
        "# df82 = pd.read_csv('./simulation_results/2023-07-26_17-00-20.csv')\n",
        "# df83 = pd.read_csv('./simulation_results/2023-07-26_17-11-59.csv')\n",
        "# df84 = pd.read_csv('./simulation_results/2023-07-27_04-12-22.csv')\n",
        "# df85 = pd.read_csv('./simulation_results/2023-07-27_09-40-00.csv')\n",
        "# df86 = pd.read_csv('./simulation_results/2023-07-28_01-55-45.csv')\n",
        "# df87 = pd.read_csv('./simulation_results/2023-07-28_22-32-45.csv')\n",
        "# df88 = pd.read_csv('./simulation_results/2023-07-29_08-57-46.csv')\n",
        "# df89 = pd.read_csv('./simulation_results/2023-07-29_19-26-33.csv')\n",
        "# df90 = pd.read_csv('./simulation_results/2023-07-30_05-12-15.csv')"
      ],
      "id": "e865d7a4-d723-411e-9ee6-2a0a001f8525"
    },
    {
      "cell_type": "code",
      "execution_count": 50,
      "metadata": {},
      "outputs": [],
      "source": [
        "data = pd.concat([df1,df2,df3,df4,df5,df6,df7,df8,df9,df10,df11,df12,df13,df14,df15,df16,df17,df18,df19,df20,df21,df22,df23,df24,df25,\n",
        "                  df31,df32,df33,df34,df35,df36,df37,df38,df39,df40,df41,df42,df43,\n",
        "                  df61,df62,df63\n",
        "                 ],axis=0)"
      ],
      "id": "37438d95-f15e-4741-b4d2-65966d48be89"
    },
    {
      "cell_type": "code",
      "execution_count": 51,
      "metadata": {},
      "outputs": [],
      "source": [
        "data.to_csv('./simulation_results/Real_simulation_reshape/TGCN_windmillsmall.csv',index=False)"
      ],
      "id": "129bb29a-6386-4363-9781-8a68ad4373cd"
    },
    {
      "cell_type": "code",
      "execution_count": 52,
      "metadata": {},
      "outputs": [],
      "source": [
        "data = pd.read_csv('./simulation_results/Real_simulation_reshape/TGCN_windmillsmall.csv')"
      ],
      "id": "e802f5c9-6428-4f87-86d8-5bec3a07099b"
    },
    {
      "cell_type": "markdown",
      "metadata": {},
      "source": [
        "## Baseline"
      ],
      "id": "3a285c99-9c58-4c04-a2cc-33f82c9e08f2"
    },
    {
      "cell_type": "code",
      "execution_count": 53,
      "metadata": {},
      "outputs": [],
      "source": [
        "data.query(\"method!='GNAR' and mrate ==0 \").plot.box(backend='plotly',x='mrate',color='method',y='mse',facet_col='lags',height=800)\n"
      ],
      "id": "4ba6d785-85db-49b7-ac89-70736bf5ef11"
    },
    {
      "cell_type": "markdown",
      "metadata": {},
      "source": [
        "## random"
      ],
      "id": "7e037750-4c4a-4aa6-b82c-569d26d7efcf"
    },
    {
      "cell_type": "code",
      "execution_count": 54,
      "metadata": {},
      "outputs": [],
      "source": [
        "data.query(\"method!='GNAR' and mtype =='rand' \").plot.box(backend='plotly',x='mrate',color='method',y='mse',facet_col='lags',facet_row='inter_method',height=800)\n"
      ],
      "id": "f189e38c-14f4-4f04-980c-aec583366a66"
    },
    {
      "cell_type": "markdown",
      "metadata": {},
      "source": [
        "## block"
      ],
      "id": "37877cbd-79d5-4be1-8950-206fa7195bb6"
    },
    {
      "cell_type": "code",
      "execution_count": 55,
      "metadata": {},
      "outputs": [],
      "source": [
        "data.query(\"method!='GNAR' and mtype =='block' \").plot.box(backend='plotly',x='mrate',color='method',y='mse',facet_col='lags',facet_row='inter_method',height=800)\n"
      ],
      "id": "54936c23-95c1-40bd-b826-35e65b146c0c"
    },
    {
      "cell_type": "markdown",
      "metadata": {},
      "source": [
        "# Montevideobus"
      ],
      "id": "0e90aade-eccf-4a6b-949a-4767d296395e"
    },
    {
      "cell_type": "code",
      "execution_count": 62,
      "metadata": {},
      "outputs": [],
      "source": [
        "df1 = pd.read_csv('./simulation_results/2023-06-22_10-28-10.csv') # lags 8\n",
        "df2 = pd.read_csv('./simulation_results/2023-06-22_13-31-48.csv') # lags 8\n",
        "df3 = pd.read_csv('./simulation_results/2023-06-22_15-51-24.csv') # lags 8\n",
        "df4 = pd.read_csv('./simulation_results/2023-06-22_17-59-22.csv') # lags 8\n",
        "df5 = pd.read_csv('./simulation_results/2023-06-22_20-08-49.csv') # lags 8\n",
        "df6 = pd.read_csv('./simulation_results/2023-06-22_22-23-50.csv') # lags 8"
      ],
      "id": "ee59c5e4-e11a-4a10-a0b1-478a80afb228"
    },
    {
      "cell_type": "code",
      "execution_count": 63,
      "metadata": {},
      "outputs": [],
      "source": [
        "df7 = pd.read_csv('./simulation_results/2023-07-25_01-37-20.csv') # lags 8\n",
        "df8 = pd.read_csv('./simulation_results/2023-07-25_03-55-32.csv') # lags 8\n",
        "df9 = pd.read_csv('./simulation_results/2023-07-25_06-16-34.csv') # lags 8\n",
        "df10 = pd.read_csv('./simulation_results/2023-07-25_08-33-19.csv') # lags 8\n",
        "df11 = pd.read_csv('./simulation_results/2023-07-25_10-34-08.csv') # lags 8\n",
        "df12 = pd.read_csv('./simulation_results/2023-07-25_12-34-19.csv') # lags 8\n",
        "df13 = pd.read_csv('./simulation_results/2023-07-25_14-26-43.csv') # lags 8\n",
        "df14 = pd.read_csv('./simulation_results/2023-07-25_16-24-54.csv') # lags 8\n",
        "df15 = pd.read_csv('./simulation_results/2023-07-25_18-28-28.csv') # lags 8"
      ],
      "id": "11bd4dc5-812c-416b-b93a-a5e1bc3750e9"
    },
    {
      "cell_type": "code",
      "execution_count": 65,
      "metadata": {},
      "outputs": [],
      "source": [
        "data = pd.concat([df1,df2,df3,df4,df5,df6,df7,df8,df9,df10,df11,df12,df13,df14,df15],axis=0)"
      ],
      "id": "a19d1bdd-17fe-42cf-a4c8-f270bff69e40"
    },
    {
      "cell_type": "code",
      "execution_count": 66,
      "metadata": {},
      "outputs": [],
      "source": [
        "data.to_csv('./simulation_results/Real_simulation_reshape/TGCN_monte.csv',index=False)"
      ],
      "id": "3858fad4-79eb-4bd2-a070-c55210e79185"
    },
    {
      "cell_type": "code",
      "execution_count": 67,
      "metadata": {},
      "outputs": [],
      "source": [
        "data = pd.read_csv('./simulation_results/Real_simulation_reshape/TGCN_monte.csv')"
      ],
      "id": "b6060412-5bf9-480f-8246-83eed9a2677f"
    },
    {
      "cell_type": "markdown",
      "metadata": {},
      "source": [
        "## Baseline"
      ],
      "id": "307ba6d9-5b48-4b3c-a2e2-35e2fa34a9e9"
    },
    {
      "cell_type": "code",
      "execution_count": 68,
      "metadata": {},
      "outputs": [],
      "source": [
        "data.query(\"mrate==0 and method!='GNAR'\").plot.box(backend='plotly',x='mrate',color='method',y='mse',facet_col='lags',facet_row='nof_filters',height=600)"
      ],
      "id": "f88253f6-73f8-418a-9fb8-31ab090519dd"
    },
    {
      "cell_type": "markdown",
      "metadata": {},
      "source": [
        "## random"
      ],
      "id": "05691e33-6f4f-4e11-87c8-3dd801e44c50"
    },
    {
      "cell_type": "code",
      "execution_count": 69,
      "metadata": {},
      "outputs": [],
      "source": [
        "data.query(\"mtype=='rand' and mrate !=0 and method!='GNAR'\").plot.box(backend='plotly',x='mrate',color='method',y='mse',facet_col='lags',facet_row='inter_method',height=800)\n"
      ],
      "id": "7f2ffd70-8383-4974-a97a-f4474693b145"
    },
    {
      "cell_type": "markdown",
      "metadata": {},
      "source": [
        "## block"
      ],
      "id": "3c11be96-d42d-4432-9f0d-5c385f1dacfc"
    },
    {
      "cell_type": "code",
      "execution_count": 70,
      "metadata": {},
      "outputs": [],
      "source": [
        "data.query(\"mtype=='block' and method!='GNAR'\").plot.box(backend='plotly',x='mrate',color='method',y='mse',facet_col='lags',facet_row='nof_filters',height=1200)\n"
      ],
      "id": "e2f51539-457e-4065-ae36-c65413cf5c6c"
    }
  ],
  "nbformat": 4,
  "nbformat_minor": 5,
  "metadata": {
    "kernelspec": {
      "name": "python3",
      "display_name": "Python 3",
      "language": "python"
    },
    "language_info": {
      "name": "python",
      "codemirror_mode": {
        "name": "ipython",
        "version": "3"
      },
      "file_extension": ".py",
      "mimetype": "text/x-python",
      "nbconvert_exporter": "python",
      "pygments_lexer": "ipython3",
      "version": "3.8.0"
    }
  }
}
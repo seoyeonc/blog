{
 "cells": [
  {
   "cell_type": "raw",
   "id": "1cc48b07-a38a-489a-a96b-d9b89394d431",
   "metadata": {
    "id": "cac470df-29e7-4148-9bbd-d8b9a32fa570",
    "tags": []
   },
   "source": [
    "---\n",
    "title: \"asdf\"\n",
    "author: \"SEOYEON CHOI\"\n",
    "date: \"2023-02-13\"\n",
    "categories:\n",
    "  - Power Spectral Density and its Estimators\n",
    "---"
   ]
  },
  {
   "cell_type": "code",
   "execution_count": 2,
   "id": "3cef00f4-3d91-44cd-8e3d-73749d87a6c8",
   "metadata": {
    "tags": []
   },
   "outputs": [
    {
     "data": {
      "text/plain": [
       "2"
      ]
     },
     "execution_count": 2,
     "metadata": {},
     "output_type": "execute_result"
    }
   ],
   "source": [
    "1+1"
   ]
  },
  {
   "cell_type": "code",
   "execution_count": 3,
   "id": "b7f63ec4-4dbc-4eb4-af7a-d5ec02943d72",
   "metadata": {},
   "outputs": [
    {
     "name": "stdout",
     "output_type": "stream",
     "text": [
      "[main 0eda2b1] .\n",
      " 2 files changed, 146 insertions(+)\n",
      " create mode 100644 posts/Study/.ipynb_checkpoints/Untitled-checkpoint.ipynb\n",
      " create mode 100644 posts/Study/Untitled.ipynb\n",
      "Enumerating objects: 10, done.\n",
      "Counting objects: 100% (10/10), done.\n",
      "Delta compression using up to 28 threads\n",
      "Compressing objects: 100% (6/6), done.\n",
      "Writing objects: 100% (6/6), 1.07 KiB | 1.07 MiB/s, done.\n",
      "Total 6 (delta 4), reused 0 (delta 0)\n",
      "remote: Resolving deltas: 100% (4/4), completed with 4 local objects.\u001b[K\n",
      "To https://github.com/seoyeonc/blog.git\n",
      "   4e1306e..0eda2b1  main -> main\n",
      "From https://github.com/seoyeonc/blog\n",
      " * branch            gh-pages   -> FETCH_HEAD\n",
      "\u001b[1m\u001b[34mRendering for publish:\n",
      "\u001b[39m\u001b[22m\n",
      "\u001b[1m\u001b[34m[ 1/45] index.qmd\u001b[39m\u001b[22m\n",
      "\u001b[33mWARNING: File /home/csy/Dropbox/blog/posts/Study/2022-12-31-Space-study.ipynb in the listing 'listing' contains no metadata.\u001b[39m\n",
      "\u001b[33mWARNING: File /home/csy/Dropbox/blog/posts/Study/2023-02-01-ch8_DFT.ipynb in the listing 'listing' contains no metadata.\u001b[39m\n",
      "\u001b[33mWARNING: File /home/csy/Dropbox/blog/posts/Study/Untitled.ipynb in the listing 'listing' contains no metadata.\u001b[39m\n",
      "\u001b[33mWARNING: File /home/csy/Dropbox/blog/posts/Study/2023-02-02-ch12.2_Weakly Stationary Graph Processes.ipynb in the listing 'listing' contains no metadata.\u001b[39m\n",
      "\u001b[33mWARNING: File /home/csy/Dropbox/blog/posts/Study/2023-02-05-ch12_2_3_Power Spectral Density and its Estimators.ipynb in the listing 'listing' contains no metadata.\u001b[39m\n",
      "\u001b[33mWARNING: File /home/csy/Dropbox/blog/posts/Quarto_tip/2023-01-02-quarto_tips.ipynb in the listing 'listing' contains no metadata.\u001b[39m\n",
      "\u001b[33mWARNING: File /home/csy/Dropbox/blog/posts/GCN/2022-12-21-ST-GCN_Dataset.ipynb in the listing 'listing' contains no metadata.\u001b[39m\n",
      "\u001b[33mWARNING: File /home/csy/Dropbox/blog/posts/GCN/2023-01-26-guebin.ipynb in the listing 'listing' contains no metadata.\u001b[39m\n",
      "\u001b[33mWARNING: File /home/csy/Dropbox/blog/posts/GCN/2023-02-19-ESTGCN_MONTEVIDEOBUS_DATA_1.ipynb in the listing 'listing' contains no metadata.\u001b[39m\n",
      "\u001b[33mWARNING: File /home/csy/Dropbox/blog/posts/GCN/2023-02-14-ESTGCN_GNAR_DATA_5.ipynb in the listing 'listing' contains no metadata.\u001b[39m\n",
      "\u001b[33mWARNING: File /home/csy/Dropbox/blog/posts/GCN/2023-01-05-GNAR.ipynb in the listing 'listing' contains no metadata.\u001b[39m\n",
      "\u001b[33mWARNING: File /home/csy/Dropbox/blog/posts/GCN/2023-01-26-ESTGCN_GNAR_DATA.ipynb in the listing 'listing' contains no metadata.\u001b[39m\n",
      "\u001b[33mWARNING: File /home/csy/Dropbox/blog/posts/GCN/2023-02-15-ESTGCN_DATASET.ipynb in the listing 'listing' contains no metadata.\u001b[39m\n",
      "\u001b[33mWARNING: File /home/csy/Dropbox/blog/posts/GCN/2023-01-20-Algorithm_traintest.ipynb in the listing 'listing' contains no metadata.\u001b[39m\n",
      "\u001b[33mWARNING: File /home/csy/Dropbox/blog/posts/GCN/2023-01-18-Algorithm_traintest_2.ipynb in the listing 'listing' contains no metadata.\u001b[39m\n",
      "\u001b[33mWARNING: File /home/csy/Dropbox/blog/posts/GCN/2023-02-16-ESTGCN_EnglandCovid_DATA_1.ipynb in the listing 'listing' contains no metadata.\u001b[39m\n",
      "\u001b[33mWARNING: File /home/csy/Dropbox/blog/posts/GCN/2023-02-15-ESTGCN_GNAR_DATA_7.ipynb in the listing 'listing' contains no metadata.\u001b[39m\n",
      "\u001b[33mWARNING: File /home/csy/Dropbox/blog/posts/GCN/2023-02-06-ESTGCN_GNAR_DATA_3.ipynb in the listing 'listing' contains no metadata.\u001b[39m\n",
      "\u001b[33mWARNING: File /home/csy/Dropbox/blog/posts/GCN/2023-02-20-ESTGCN_GNAR_edit_guebin2.ipynb in the listing 'listing' contains no metadata.\u001b[39m\n",
      "\u001b[33mWARNING: File /home/csy/Dropbox/blog/posts/GCN/2023-01-26-ESTGCN_WIKI_DATA.ipynb in the listing 'listing' contains no metadata.\u001b[39m\n",
      "\u001b[33mWARNING: File /home/csy/Dropbox/blog/posts/GCN/2023-03-03-ESTGCN_GNAR_edit_guebin2_seoyeon.ipynb in the listing 'listing' contains no metadata.\u001b[39m\n",
      "\u001b[33mWARNING: File /home/csy/Dropbox/blog/posts/GCN/2023-02-11-ESTGCN_WIKI_DATA_3.ipynb in the listing 'listing' contains no metadata.\u001b[39m\n",
      "\u001b[33mWARNING: File /home/csy/Dropbox/blog/posts/GCN/2023-02-08-ESTGCN_GNAR_DATA_4.ipynb in the listing 'listing' contains no metadata.\u001b[39m\n",
      "\u001b[33mWARNING: File /home/csy/Dropbox/blog/posts/GCN/2023-02-06-ESTGCN_GNAR_DATA_2.ipynb in the listing 'listing' contains no metadata.\u001b[39m\n",
      "\u001b[33mWARNING: File /home/csy/Dropbox/blog/posts/GCN/2022-12-07-torchgcn.ipynb in the listing 'listing' contains no metadata.\u001b[39m\n",
      "\u001b[33mWARNING: File /home/csy/Dropbox/blog/posts/GCN/2023-01-21-Class.ipynb in the listing 'listing' contains no metadata.\u001b[39m\n",
      "\u001b[33mWARNING: File /home/csy/Dropbox/blog/posts/GCN/2023-02-20-ESTGCN_GNAR_edit_guebin.ipynb in the listing 'listing' contains no metadata.\u001b[39m\n",
      "\u001b[33mWARNING: File /home/csy/Dropbox/blog/posts/GCN/2023-02-15-ESTGCN_GNAR_DATA_6.ipynb in the listing 'listing' contains no metadata.\u001b[39m\n",
      "\u001b[33mWARNING: File /home/csy/Dropbox/blog/posts/GCN/2023-02-15-ESTGCN_WIKI_DATA_4.ipynb in the listing 'listing' contains no metadata.\u001b[39m\n",
      "\u001b[33mWARNING: File /home/csy/Dropbox/blog/posts/GCN/2022-12-28-gcn_simulation.ipynb in the listing 'listing' contains no metadata.\u001b[39m\n",
      "\u001b[33mWARNING: File /home/csy/Dropbox/blog/posts/GCN/2023-02-07-ESTGCN_WIKI_DATA_2.ipynb in the listing 'listing' contains no metadata.\u001b[39m\n",
      "\u001b[33mWARNING: File /home/csy/Dropbox/blog/posts/GCN/2023-02-16-ESTGCN_PEDAL_DATA_1.ipynb in the listing 'listing' contains no metadata.\u001b[39m\n",
      "\u001b[33mWARNING: File /home/csy/Dropbox/blog/posts/GCN/2023-01-11-Algorithm_EX_1.ipynb in the listing 'listing' contains no metadata.\u001b[39m\n",
      "\u001b[33mWARNING: File /home/csy/Dropbox/blog/posts/GODE/2022-12-01-graph_code_guebin.ipynb in the listing 'listing' contains no metadata.\u001b[39m\n",
      "\u001b[33mWARNING: File /home/csy/Dropbox/blog/posts/GODE/2022-11-19-class_code_for_paper.ipynb in the listing 'listing' contains no metadata.\u001b[39m\n",
      "\u001b[33mWARNING: File /home/csy/Dropbox/blog/posts/GODE/2022-09-02-paper_simulation.ipynb in the listing 'listing' contains no metadata.\u001b[39m\n",
      "\u001b[33mWARNING: File /home/csy/Dropbox/blog/posts/GODE/2022-10-02-Earthquake_real.ipynb in the listing 'listing' contains no metadata.\u001b[39m\n",
      "\u001b[33mWARNING: File /home/csy/Dropbox/blog/posts/GODE/2022-12-27-DFT_study.ipynb in the listing 'listing' contains no metadata.\u001b[39m\n",
      "\u001b[33mWARNING: File /home/csy/Dropbox/blog/posts/GODE/Untitled.ipynb in the listing 'listing' contains no metadata.\u001b[39m\n",
      "\u001b[1m\u001b[34m[ 2/45] posts/Study/index.qmd\u001b[39m\u001b[22m\n",
      "\u001b[1m\u001b[34m[ 3/45] posts/Study/2022-12-31-Space-study.ipynb\u001b[39m\u001b[22m\n",
      "\u001b[1m\u001b[34m[ 4/45] posts/Study/2023-02-01-ch8_DFT.ipynb\u001b[39m\u001b[22m\n",
      "\u001b[1m\u001b[34m[ 5/45] posts/Study/Untitled.ipynb\u001b[39m\u001b[22m\n",
      "\u001b[1m\u001b[34m[ 6/45] posts/Study/2023-02-02-ch12.2_Weakly Stationary Graph Processes.ipynb\u001b[39m\u001b[22m\n",
      "\u001b[1m\u001b[34m[ 7/45] posts/Study/2023-02-05-ch12_2_3_Power Spectral Density and its Estimators.ipynb\u001b[39m\u001b[22m\n",
      "\u001b[1m\u001b[34m[ 8/45] posts/Quarto_tip/index.qmd\u001b[39m\u001b[22m\n",
      "\u001b[1m\u001b[34m[ 9/45] posts/Quarto_tip/2023-01-02-quarto_tips.ipynb\u001b[39m\u001b[22m\n",
      "\u001b[1m\u001b[34m[10/45] posts/GCN/2022-12-21-ST-GCN_Dataset.ipynb\u001b[39m\u001b[22m\n",
      "\u001b[1m\u001b[34m[11/45] posts/GCN/index.qmd\u001b[39m\u001b[22m\n",
      "\u001b[1m\u001b[34m[12/45] posts/GCN/2023-01-26-guebin.ipynb\u001b[39m\u001b[22m\n",
      "\u001b[1m\u001b[34m[13/45] posts/GCN/2023-02-19-ESTGCN_MONTEVIDEOBUS_DATA_1.ipynb\u001b[39m\u001b[22m\n",
      "\u001b[1m\u001b[34m[14/45] posts/GCN/2023-02-14-ESTGCN_GNAR_DATA_5.ipynb\u001b[39m\u001b[22m\n",
      "\u001b[1m\u001b[34m[15/45] posts/GCN/2023-01-05-GNAR.ipynb\u001b[39m\u001b[22m\n",
      "\u001b[1m\u001b[34m[16/45] posts/GCN/2023-01-26-ESTGCN_GNAR_DATA.ipynb\u001b[39m\u001b[22m\n",
      "\u001b[1m\u001b[34m[17/45] posts/GCN/2023-02-15-ESTGCN_DATASET.ipynb\u001b[39m\u001b[22m\n",
      "\u001b[1m\u001b[34m[18/45] posts/GCN/2023-01-20-Algorithm_traintest.ipynb\u001b[39m\u001b[22m\n",
      "\u001b[1m\u001b[34m[19/45] posts/GCN/2023-01-18-Algorithm_traintest_2.ipynb\u001b[39m\u001b[22m\n",
      "\u001b[1m\u001b[34m[20/45] posts/GCN/2023-02-16-ESTGCN_EnglandCovid_DATA_1.ipynb\u001b[39m\u001b[22m\n",
      "\u001b[1m\u001b[34m[21/45] posts/GCN/2023-02-15-ESTGCN_GNAR_DATA_7.ipynb\u001b[39m\u001b[22m\n",
      "\u001b[1m\u001b[34m[22/45] posts/GCN/2023-02-06-ESTGCN_GNAR_DATA_3.ipynb\u001b[39m\u001b[22m\n",
      "\u001b[1m\u001b[34m[23/45] posts/GCN/2023-02-20-ESTGCN_GNAR_edit_guebin2.ipynb\u001b[39m\u001b[22m\n",
      "\u001b[1m\u001b[34m[24/45] posts/GCN/2023-01-26-ESTGCN_WIKI_DATA.ipynb\u001b[39m\u001b[22m\n",
      "\u001b[1m\u001b[34m[25/45] posts/GCN/2023-03-03-ESTGCN_GNAR_edit_guebin2_seoyeon.ipynb\u001b[39m\u001b[22m\n",
      "\u001b[1m\u001b[34m[26/45] posts/GCN/2023-02-11-ESTGCN_WIKI_DATA_3.ipynb\u001b[39m\u001b[22m\n",
      "\u001b[1m\u001b[34m[27/45] posts/GCN/2023-02-08-ESTGCN_GNAR_DATA_4.ipynb\u001b[39m\u001b[22m\n",
      "\u001b[1m\u001b[34m[28/45] posts/GCN/2023-02-06-ESTGCN_GNAR_DATA_2.ipynb\u001b[39m\u001b[22m\n",
      "\u001b[1m\u001b[34m[29/45] posts/GCN/2022-12-07-torchgcn.ipynb\u001b[39m\u001b[22m\n",
      "\u001b[1m\u001b[34m[30/45] posts/GCN/2023-01-21-Class.ipynb\u001b[39m\u001b[22m\n",
      "\u001b[1m\u001b[34m[31/45] posts/GCN/2023-02-20-ESTGCN_GNAR_edit_guebin.ipynb\u001b[39m\u001b[22m\n",
      "\u001b[1m\u001b[34m[32/45] posts/GCN/2023-02-15-ESTGCN_GNAR_DATA_6.ipynb\u001b[39m\u001b[22m\n",
      "\u001b[1m\u001b[34m[33/45] posts/GCN/2023-02-15-ESTGCN_WIKI_DATA_4.ipynb\u001b[39m\u001b[22m\n",
      "\u001b[1m\u001b[34m[34/45] posts/GCN/2022-12-28-gcn_simulation.ipynb\u001b[39m\u001b[22m\n",
      "\u001b[1m\u001b[34m[35/45] posts/GCN/2023-02-07-ESTGCN_WIKI_DATA_2.ipynb\u001b[39m\u001b[22m\n",
      "\u001b[1m\u001b[34m[36/45] posts/GCN/2023-02-16-ESTGCN_PEDAL_DATA_1.ipynb\u001b[39m\u001b[22m\n",
      "\u001b[1m\u001b[34m[37/45] posts/GCN/2023-01-11-Algorithm_EX_1.ipynb\u001b[39m\u001b[22m\n",
      "\u001b[1m\u001b[34m[38/45] posts/GODE/2022-12-01-graph_code_guebin.ipynb\u001b[39m\u001b[22m\n",
      "\u001b[1m\u001b[34m[39/45] posts/GODE/index.qmd\u001b[39m\u001b[22m\n",
      "\u001b[1m\u001b[34m[40/45] posts/GODE/2022-11-19-class_code_for_paper.ipynb\u001b[39m\u001b[22m\n",
      "\u001b[1m\u001b[34m[41/45] posts/GODE/2022-09-02-paper_simulation.ipynb\u001b[39m\u001b[22m\n",
      "\u001b[1m\u001b[34m[42/45] posts/GODE/2022-10-02-Earthquake_real.ipynb\u001b[39m\u001b[22m\n",
      "\u001b[1m\u001b[34m[43/45] posts/GODE/2022-12-27-DFT_study.ipynb\u001b[39m\u001b[22m\n",
      "\u001b[1m\u001b[34m[44/45] posts/GODE/Untitled.ipynb\u001b[39m\u001b[22m\n",
      "\u001b[1m\u001b[34m[45/45] about.qmd\u001b[39m\u001b[22m\n",
      "\n",
      "Preparing worktree (resetting branch 'gh-pages'; was at 4d28be3)\n",
      "Branch 'gh-pages' set up to track remote branch 'gh-pages' from 'origin'.\n",
      "HEAD is now at 4d28be3 Built site for gh-pages\n",
      "[gh-pages 74dec2f] Built site for gh-pages\n",
      " 50 files changed, 2350 insertions(+), 1522 deletions(-)\n",
      " create mode 100644 posts/Study/Untitled.html\n",
      "origin\thttps://github.com/seoyeonc/blog.git (fetch)\n",
      "origin\thttps://github.com/seoyeonc/blog.git (push)\n",
      "To https://github.com/seoyeonc/blog.git\n",
      "   4d28be3..74dec2f  HEAD -> gh-pages\n",
      "\n",
      "\u001b[33mNOTE: GitHub Pages sites use caching so you might need to click the refresh\n",
      "button within your web browser to see changes after deployment.\n",
      "\u001b[39m\n",
      "[✓] Published to https://seoyeonc.github.io/blog/\n",
      "\n",
      "\u001b[33mNOTE: GitHub Pages deployments normally take a few minutes (your site updates\n",
      "will be visible once the deploy completes)\n",
      "\u001b[39m\n"
     ]
    }
   ],
   "source": [
    "!git add .\n",
    "!git commit -m .\n",
    "!git push \n",
    "!quarto publish --no-browser --no-prompt "
   ]
  },
  {
   "cell_type": "code",
   "execution_count": null,
   "id": "b57190ef-9db4-4edd-ad80-518dd068eb71",
   "metadata": {},
   "outputs": [],
   "source": []
  }
 ],
 "metadata": {
  "kernelspec": {
   "display_name": "Python 3 (ipykernel)",
   "language": "python",
   "name": "python3"
  },
  "language_info": {
   "codemirror_mode": {
    "name": "ipython",
    "version": 3
   },
   "file_extension": ".py",
   "mimetype": "text/x-python",
   "name": "python",
   "nbconvert_exporter": "python",
   "pygments_lexer": "ipython3",
   "version": "3.8.12"
  }
 },
 "nbformat": 4,
 "nbformat_minor": 5
}

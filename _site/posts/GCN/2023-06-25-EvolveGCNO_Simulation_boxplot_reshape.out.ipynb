{
  "cells": [
    {
      "cell_type": "markdown",
      "metadata": {},
      "source": [
        "# EvolveGCNO_Simulation_reshape\n",
        "\n",
        "SEOYEON CHOI  \n",
        "2023-06-25\n",
        "\n",
        "> Simulation Study\n",
        "\n",
        "# Import"
      ],
      "id": "86f3c729-9faf-4a78-803f-4251c18cd9d4"
    },
    {
      "cell_type": "code",
      "execution_count": 1,
      "metadata": {},
      "outputs": [],
      "source": [
        "import matplotlib.pyplot as plt\n",
        "import pandas as pd\n",
        "import numpy as np"
      ],
      "id": "97cfaa6d-11ad-460b-874c-01c8e2c14e70"
    },
    {
      "cell_type": "markdown",
      "metadata": {},
      "source": [
        "# Fivenodes"
      ],
      "id": "6143b677-a768-45eb-a9ed-26d5897e8c24"
    },
    {
      "cell_type": "code",
      "execution_count": 25,
      "metadata": {},
      "outputs": [],
      "source": [
        "df1 = pd.read_csv('./simulation_results/2023-06-26_00-55-36.csv')\n",
        "df2 = pd.read_csv('./simulation_results/2023-06-26_01-09-23.csv')\n",
        "df3 = pd.read_csv('./simulation_results/2023-06-26_01-23-14.csv')\n",
        "df4 = pd.read_csv('./simulation_results/2023-06-26_01-36-42.csv')\n",
        "df5 = pd.read_csv('./simulation_results/2023-06-26_01-49-58.csv')\n",
        "df6 = pd.read_csv('./simulation_results/2023-06-26_02-03-37.csv')\n",
        "df7 = pd.read_csv('./simulation_results/2023-06-26_02-17-20.csv')\n",
        "df8 = pd.read_csv('./simulation_results/2023-06-26_02-31-49.csv')"
      ],
      "id": "58a7de0e-0147-4be6-ae52-f391e068d404"
    },
    {
      "cell_type": "code",
      "execution_count": 26,
      "metadata": {},
      "outputs": [],
      "source": [
        "df9 = pd.read_csv('./simulation_results/2023-07-19_06-44-18.csv')\n",
        "df10 = pd.read_csv('./simulation_results/2023-07-19_06-58-20.csv')\n",
        "df11 = pd.read_csv('./simulation_results/2023-07-19_07-12-30.csv')\n",
        "df12 = pd.read_csv('./simulation_results/2023-07-19_07-28-02.csv')\n",
        "df13 = pd.read_csv('./simulation_results/2023-07-19_07-43-42.csv')\n",
        "df14 = pd.read_csv('./simulation_results/2023-07-19_07-58-52.csv')"
      ],
      "id": "c2eedd6f-0157-4670-8560-887b72792222"
    },
    {
      "cell_type": "code",
      "execution_count": 27,
      "metadata": {},
      "outputs": [],
      "source": [
        "data = pd.concat([df1,df2,df3,df4,df5,df6,df7,df8,df9,df10,df11,df12,df13,df14],axis=0)"
      ],
      "id": "243c8ac3-63ef-463b-920c-732bcea5b27d"
    },
    {
      "cell_type": "code",
      "execution_count": 28,
      "metadata": {},
      "outputs": [],
      "source": [
        "data.to_csv('./simulation_results/Real_simulation_reshape/EvolveGCNO_fivedones_Simulation.csv',index=False)"
      ],
      "id": "6531c324-827c-4f7f-aef7-90da0b1f2c23"
    },
    {
      "cell_type": "code",
      "execution_count": 29,
      "metadata": {},
      "outputs": [],
      "source": [
        "data = pd.read_csv('./simulation_results/Real_simulation_reshape/EvolveGCNO_fivedones_Simulation.csv')"
      ],
      "id": "2029a91d-4dc4-4eb2-8f9d-63d4727f4c94"
    },
    {
      "cell_type": "markdown",
      "metadata": {},
      "source": [
        "## Baseline"
      ],
      "id": "7ed10966-23a0-490d-b88c-5d8bdb0e898f"
    },
    {
      "cell_type": "code",
      "execution_count": 30,
      "metadata": {
        "tags": []
      },
      "outputs": [],
      "source": [
        "data.query(\"method!='GNAR' and mrate==0\").plot.box(backend='plotly',x='mrate',color='method',y='mse',facet_col='lags',facet_row='nof_filters',height=600)\n"
      ],
      "id": "14023051-c860-4a46-9df4-5408996cdce4"
    },
    {
      "cell_type": "markdown",
      "metadata": {},
      "source": [
        "## Random"
      ],
      "id": "4ed6021b-78d5-4114-8e15-b142226c8186"
    },
    {
      "cell_type": "code",
      "execution_count": 31,
      "metadata": {},
      "outputs": [],
      "source": [
        "data.query(\"method!='GNAR' and mtype =='rand'\").plot.box(backend='plotly',x='mrate',color='method',y='mse',facet_col='inter_method',facet_row='nof_filters',height=600)\n",
        "\n"
      ],
      "id": "8571d995-8823-48ef-8324-d8acc3ee8f62"
    },
    {
      "cell_type": "markdown",
      "metadata": {},
      "source": [
        "## Block"
      ],
      "id": "21dcf2f3-40b5-442e-a564-086c19971832"
    },
    {
      "cell_type": "code",
      "execution_count": 32,
      "metadata": {},
      "outputs": [],
      "source": [
        "data.query(\"method!='GNAR' and mtype =='block' \").plot.box(backend='plotly',x='mrate',color='method',y='mse',facet_col='inter_method',facet_row='nof_filters',height=600)\n"
      ],
      "id": "d92ed59b-42da-442b-a3e7-42a1e6e89aea"
    },
    {
      "cell_type": "markdown",
      "metadata": {},
      "source": [
        "# chickenpox"
      ],
      "id": "cf394141-8394-4ff5-83b9-7e96e99987ae"
    },
    {
      "cell_type": "code",
      "execution_count": 34,
      "metadata": {},
      "outputs": [],
      "source": [
        "df1 = pd.read_csv('./simulation_results/2023-06-26_03-09-21.csv') # GNAR random\n",
        "df2 = pd.read_csv('./simulation_results/2023-06-26_03-47-41.csv') # GNAR block\n",
        "df3 = pd.read_csv('./simulation_results/2023-06-26_04-10-16.csv') # STGCN, ITSTGCN random 30%\n",
        "df4 = pd.read_csv('./simulation_results/2023-06-26_04-33-08.csv') \n",
        "df5 = pd.read_csv('./simulation_results/2023-06-26_05-18-31.csv') \n",
        "df6 = pd.read_csv('./simulation_results/2023-06-26_06-01-38.csv') "
      ],
      "id": "3e66680d-3b56-4295-b4da-c8988c6ceb77"
    },
    {
      "cell_type": "code",
      "execution_count": 35,
      "metadata": {},
      "outputs": [],
      "source": [
        "df7 = pd.read_csv('./simulation_results/2023-07-19_08-23-06.csv') # GNAR random\n",
        "df8 = pd.read_csv('./simulation_results/2023-07-19_08-48-36.csv') # GNAR block\n",
        "df9 = pd.read_csv('./simulation_results/2023-07-19_09-34-53.csv') # STGCN, ITSTGCN random 30%\n",
        "df10 = pd.read_csv('./simulation_results/2023-07-19_09-11-10.csv') "
      ],
      "id": "ed8627b4-7578-4eae-8626-24d84d0fd185"
    },
    {
      "cell_type": "code",
      "execution_count": 36,
      "metadata": {},
      "outputs": [],
      "source": [
        "data = pd.concat([df1,df2,df3,df4,df5,df6,df7,df8,df9,df10],axis=0)"
      ],
      "id": "3a15858e-07b2-460c-86c6-49ee4deeb10d"
    },
    {
      "cell_type": "code",
      "execution_count": 37,
      "metadata": {},
      "outputs": [],
      "source": [
        "data.to_csv('./simulation_results/Real_simulation_reshape/EvolveGCNO_chikenpox_Simulation.csv',index=False)"
      ],
      "id": "158398fa-ae55-4525-8535-eb323b1c4b6b"
    },
    {
      "cell_type": "code",
      "execution_count": 38,
      "metadata": {},
      "outputs": [],
      "source": [
        "data = pd.read_csv('./simulation_results/Real_simulation_reshape/EvolveGCNO_chikenpox_Simulation.csv')"
      ],
      "id": "dc861068-2821-4447-a4b7-3cb5b4a0ed8c"
    },
    {
      "cell_type": "markdown",
      "metadata": {},
      "source": [
        "## Baseline"
      ],
      "id": "a126e405-2c77-4a5d-b3d7-8b84876790c6"
    },
    {
      "cell_type": "code",
      "execution_count": 39,
      "metadata": {},
      "outputs": [],
      "source": [
        "data.query(\"method!='GNAR' and mrate ==0 \").plot.box(backend='plotly',x='mrate',color='method',y='mse',facet_col='nof_filters',height=600)\n"
      ],
      "id": "1cb5fa6e-48a8-4931-95f2-08903b76569f"
    },
    {
      "cell_type": "markdown",
      "metadata": {},
      "source": [
        "## Random"
      ],
      "id": "b03ccf33-1c7a-4be3-8264-55793bf71a13"
    },
    {
      "cell_type": "code",
      "execution_count": 40,
      "metadata": {},
      "outputs": [],
      "source": [
        "data.query(\"method!='GNAR' and mtype =='rand'\").plot.box(backend='plotly',x='mrate',color='method',y='mse',facet_col='nof_filters',facet_row='inter_method',height=800)\n"
      ],
      "id": "de6f2569-bee5-4111-8394-699cc72aaf03"
    },
    {
      "cell_type": "markdown",
      "metadata": {},
      "source": [
        "## Block"
      ],
      "id": "06f2826a-ca09-42cb-bf20-e07a3a7eba20"
    },
    {
      "cell_type": "code",
      "execution_count": 41,
      "metadata": {},
      "outputs": [],
      "source": [
        "data.query(\"method!='GNAR' and mtype =='block'\").plot.box(backend='plotly',x='mrate',color='method',y='mse',facet_col='inter_method',facet_row='lags',height=800)\n"
      ],
      "id": "9b5ad264-8a84-46ae-a866-33587dc9e160"
    },
    {
      "cell_type": "markdown",
      "metadata": {},
      "source": [
        "# Pedalme"
      ],
      "id": "3afea1a0-59fc-4bea-a6c7-bc79106474a0"
    },
    {
      "cell_type": "code",
      "execution_count": 42,
      "metadata": {},
      "outputs": [],
      "source": [
        "df1 = pd.read_csv('./simulation_results/2023-06-26_06-16-39.csv') \n",
        "df2 = pd.read_csv('./simulation_results/2023-06-26_06-22-00.csv')  "
      ],
      "id": "d4636a02-2db0-4676-a73b-9c7566c258f4"
    },
    {
      "cell_type": "code",
      "execution_count": 43,
      "metadata": {},
      "outputs": [],
      "source": [
        "df3 = pd.read_csv('./simulation_results/2023-07-19_09-45-34.csv')"
      ],
      "id": "9638ea6c-d3ae-4685-ae79-f61d25604d12"
    },
    {
      "cell_type": "code",
      "execution_count": 44,
      "metadata": {},
      "outputs": [],
      "source": [
        "data = pd.concat([df1,df2,df3],axis=0)"
      ],
      "id": "d22955cb-e046-49c8-890a-52ffe13e237d"
    },
    {
      "cell_type": "code",
      "execution_count": 45,
      "metadata": {},
      "outputs": [],
      "source": [
        "data.to_csv('./simulation_results/Real_simulation_reshape/EvolveGCNO_pedalme_Simulation.csv',index=False)"
      ],
      "id": "ee3ef5e8-7298-49dd-b21f-9644c30b5f77"
    },
    {
      "cell_type": "code",
      "execution_count": 46,
      "metadata": {},
      "outputs": [],
      "source": [
        "data = pd.read_csv('./simulation_results/Real_simulation_reshape/EvolveGCNO_pedalme_Simulation.csv')"
      ],
      "id": "446c16b2-85d5-4f90-b214-fe80c77bd0c9"
    },
    {
      "cell_type": "markdown",
      "metadata": {},
      "source": [
        "## Baseline"
      ],
      "id": "8c6af899-f82f-4dcd-8e3c-f387b201fb9e"
    },
    {
      "cell_type": "code",
      "execution_count": 47,
      "metadata": {},
      "outputs": [],
      "source": [
        "data.query(\"mrate ==0 and lags!=2\").plot.box(backend='plotly',x='epoch',color='method',y='mse',facet_col='nof_filters',facet_row='lags',height=400)\n"
      ],
      "id": "cd49941e-507b-496f-a9bc-9bb3936acc5e"
    },
    {
      "cell_type": "markdown",
      "metadata": {},
      "source": [
        "## random"
      ],
      "id": "44c61528-1aa6-400e-84d0-0c2039ff2a50"
    },
    {
      "cell_type": "code",
      "execution_count": 48,
      "metadata": {},
      "outputs": [],
      "source": [
        "data.query(\"method!='GNAR' and mtype =='rand' and lags!=2\").plot.box(backend='plotly',x='mrate',color='method',y='mse',facet_col='nof_filters',facet_row='inter_method',height=800)\n"
      ],
      "id": "5375fbb0-00f5-4073-94a0-025f757cf4e8"
    },
    {
      "cell_type": "markdown",
      "metadata": {},
      "source": [
        "## block"
      ],
      "id": "d593d9de-d438-4380-8287-72216fd1f812"
    },
    {
      "cell_type": "code",
      "execution_count": 49,
      "metadata": {},
      "outputs": [],
      "source": [
        "data.query(\"method!='GNAR' and mtype =='block' and lags!=2 \").plot.box(backend='plotly',x='mrate',color='method',y='mse',facet_col='nof_filters',facet_row='inter_method',height=800)\n"
      ],
      "id": "3a2b2904-0190-445f-b5e9-31f1306fb765"
    },
    {
      "cell_type": "markdown",
      "metadata": {},
      "source": [
        "## weight matrix time, node 고려한 결과"
      ],
      "id": "e04d463e-a932-481c-8628-275eac594b9b"
    },
    {
      "cell_type": "code",
      "execution_count": 34,
      "metadata": {},
      "outputs": [],
      "source": [
        "df1 = pd.read_csv('./simulation_results/2023-06-27_00-26-15.csv')\n",
        "df2 = pd.read_csv('./simulation_results/2023-06-27_00-42-14.csv')"
      ],
      "id": "720eef33-a93e-4018-9f30-867b9446b918"
    },
    {
      "cell_type": "code",
      "execution_count": 35,
      "metadata": {},
      "outputs": [],
      "source": [
        "data2 = pd.concat([df1,df2],axis=0)"
      ],
      "id": "970e0d05-641f-4e2b-83f8-7995279164c6"
    },
    {
      "cell_type": "code",
      "execution_count": 36,
      "metadata": {},
      "outputs": [],
      "source": [
        "data2.to_csv('./simulation_results/Real_simulation_reshape/EvolveGCNO_pedalme_Simulation_itstgcnsnd.csv',index=False)"
      ],
      "id": "e4343248-a16d-47a3-9886-4ccb53c7aa45"
    },
    {
      "cell_type": "code",
      "execution_count": 37,
      "metadata": {},
      "outputs": [],
      "source": [
        "data2 = pd.read_csv('./simulation_results/Real_simulation_reshape/EvolveGCNO_pedalme_Simulation_itstgcnsnd.csv')"
      ],
      "id": "68c1f3d7-7e0f-4a6d-82d7-ba671275701a"
    },
    {
      "cell_type": "code",
      "execution_count": 38,
      "metadata": {},
      "outputs": [],
      "source": [
        "data2.query(\"mtype=='rand'\").plot.box(backend='plotly',x='mrate',color='method',y='mse',facet_col='inter_method',facet_row='nof_filters',height=1000)"
      ],
      "id": "908c378b-03a2-4bab-95ad-152d13daea50"
    },
    {
      "cell_type": "code",
      "execution_count": 39,
      "metadata": {},
      "outputs": [],
      "source": [
        "data2.query(\"mtype=='block'\").plot.box(backend='plotly',x='mrate',color='method',y='mse',facet_col='inter_method',facet_row='nof_filters',height=1000)"
      ],
      "id": "8a7f8af4-b4e1-4d20-8d06-3f6df5850440"
    },
    {
      "cell_type": "markdown",
      "metadata": {},
      "source": [
        "# Wikimath"
      ],
      "id": "12e07163-e58b-4f5c-9399-7cd56316abcf"
    },
    {
      "cell_type": "code",
      "execution_count": 90,
      "metadata": {},
      "outputs": [],
      "source": [
        "df1 = pd.read_csv('./simulation_results/2023-06-28_08-28-01.csv')\n",
        "df2 = pd.read_csv('./simulation_results/2023-06-28_10-55-29.csv')\n",
        "df3 = pd.read_csv('./simulation_results/2023-06-28_13-20-19.csv')\n",
        "df4 = pd.read_csv('./simulation_results/2023-06-28_16-32-40.csv')\n",
        "df5 = pd.read_csv('./simulation_results/2023-06-28_19-10-50.csv')\n",
        "df6 = pd.read_csv('./simulation_results/2023-06-28_21-48-52.csv')\n",
        "df7 = pd.read_csv('./simulation_results/2023-06-29_00-26-13.csv')\n",
        "df8 = pd.read_csv('./simulation_results/2023-06-29_03-08-16.csv')\n",
        "df9 = pd.read_csv('./simulation_results/2023-06-29_05-55-03.csv') # block\n",
        "df10 = pd.read_csv('./simulation_results/2023-06-29_08-41-22.csv') # block\n",
        "df11 = pd.read_csv('./simulation_results/2023-06-29_11-05-52.csv') # block"
      ],
      "id": "72dcb6b8-b2df-41e4-8ebd-5eb2a02c97af"
    },
    {
      "cell_type": "code",
      "execution_count": 94,
      "metadata": {},
      "outputs": [],
      "source": [
        "df12 = pd.read_csv('./simulation_results/2023-08-05_00-22-49.csv')\n",
        "df13 = pd.read_csv('./simulation_results/2023-08-05_02-06-06.csv')\n",
        "df14 = pd.read_csv('./simulation_results/2023-08-05_03-32-39.csv')\n",
        "df15 = pd.read_csv('./simulation_results/2023-08-05_05-04-11.csv')\n",
        "df16 = pd.read_csv('./simulation_results/2023-08-05_06-40-47.csv')\n",
        "df17 = pd.read_csv('./simulation_results/2023-08-05_08-19-46.csv')\n",
        "df18 = pd.read_csv('./simulation_results/2023-08-05_10-01-56.csv')\n",
        "df19 = pd.read_csv('./simulation_results/2023-08-05_13-12-32.csv')\n",
        "df20 = pd.read_csv('./simulation_results/2023-08-05_16-04-31.csv') # block\n",
        "df21 = pd.read_csv('./simulation_results/2023-08-05_18-53-42.csv') # block\n",
        "df22 = pd.read_csv('./simulation_results/2023-08-05_21-32-52.csv') # block\n",
        "df23 = pd.read_csv('./simulation_results/2023-08-05_23-04-58.csv') # block"
      ],
      "id": "f840477b-1625-4dc8-8c0a-6fba8cc387e9"
    },
    {
      "cell_type": "code",
      "execution_count": 97,
      "metadata": {},
      "outputs": [],
      "source": [
        "data = pd.concat([df1,df2,df3,df4,df5,df6,df7,df8,df9,df10,df11,df12,df13,df14,df15,df16,df17,df18,df19,df20,df21,df22,df23],axis=0)"
      ],
      "id": "2bdf1359-250a-4f81-b2e7-bfc3f4a15907"
    },
    {
      "cell_type": "code",
      "execution_count": 98,
      "metadata": {},
      "outputs": [],
      "source": [
        "data.to_csv('./simulation_results/Real_simulation_reshape/EvolveGCNO_wikimath.csv',index=False)"
      ],
      "id": "fe47b372-5e6c-485c-875c-3c8d879aabe5"
    },
    {
      "cell_type": "code",
      "execution_count": 99,
      "metadata": {},
      "outputs": [],
      "source": [
        "data = pd.read_csv('./simulation_results/Real_simulation_reshape/EvolveGCNO_wikimath.csv')"
      ],
      "id": "0e5750a8-48a8-4f57-8650-1894b033996a"
    },
    {
      "cell_type": "markdown",
      "metadata": {},
      "source": [
        "## Baseline"
      ],
      "id": "2db4138b-240e-490b-bd52-27582a0f879f"
    },
    {
      "cell_type": "code",
      "execution_count": 100,
      "metadata": {},
      "outputs": [],
      "source": [
        "data.query(\"mrate==0 and method!='GNAR'\").plot.box(backend='plotly',x='mrate',color='method',y='mse',height=600)"
      ],
      "id": "b5d615c3-7255-4f7b-8c80-4f97f1d0ea9a"
    },
    {
      "cell_type": "markdown",
      "metadata": {},
      "source": [
        "## random"
      ],
      "id": "19a34919-ad1e-4829-bde3-c38d81f1dc50"
    },
    {
      "cell_type": "code",
      "execution_count": 101,
      "metadata": {},
      "outputs": [],
      "source": [
        "data.query(\"mtype=='rand' and mrate !=0 and method!='GNAR'\").plot.box(backend='plotly',x='mrate',color='method',y='mse',facet_col='lags',facet_row='nof_filters',height=800)\n"
      ],
      "id": "0be1ccad-dd6e-42fe-b32d-8a4e48b17a96"
    },
    {
      "cell_type": "markdown",
      "metadata": {},
      "source": [
        "## block"
      ],
      "id": "864201f1-2c0e-4f33-a507-808ad43803f2"
    },
    {
      "cell_type": "code",
      "execution_count": 102,
      "metadata": {},
      "outputs": [],
      "source": [
        "data.query(\"mtype=='block' and method!='GNAR'\").plot.box(backend='plotly',x='mrate',color='method',y='mse',facet_col='lags',facet_row='nof_filters',height=1200)\n"
      ],
      "id": "1a653dce-4c98-4792-b3a0-27bbf2cecb8c"
    },
    {
      "cell_type": "markdown",
      "metadata": {},
      "source": [
        "## missing values on the same nodes"
      ],
      "id": "577378c6-fd71-475b-a43c-e8b4910a8205"
    },
    {
      "cell_type": "code",
      "execution_count": 142,
      "metadata": {
        "tags": []
      },
      "outputs": [],
      "source": [
        "df1 = pd.read_csv('./simulation_results/2023-06-29_18-21-43.csv') # STGCN IT-STGCN block\n",
        "df2 = pd.read_csv('./simulation_results/2023-06-29_13-25-16.csv') # STGCN IT-STGCN\n",
        "df3 = pd.read_csv('./simulation_results/2023-06-29_15-50-57.csv') "
      ],
      "id": "f804b18a-149e-48d5-ab30-9a0516fc611b"
    },
    {
      "cell_type": "code",
      "execution_count": 145,
      "metadata": {},
      "outputs": [],
      "source": [
        "data = pd.concat([df1,df2,df3],axis=0)"
      ],
      "id": "8947c20f-0acb-41e8-9a89-d122bf2c0d18"
    },
    {
      "cell_type": "code",
      "execution_count": 146,
      "metadata": {},
      "outputs": [],
      "source": [
        "data.to_csv('./simulation_results/Real_simulation_reshape/EvolveGCNO_wikimath_GSO_st.csv',index=False)"
      ],
      "id": "3082aa32-04c8-4a3e-9756-6634caf9c949"
    },
    {
      "cell_type": "code",
      "execution_count": 147,
      "metadata": {},
      "outputs": [],
      "source": [
        "data = pd.read_csv('./simulation_results/Real_simulation_reshape/EvolveGCNO_wikimath_GSO_st.csv')"
      ],
      "id": "9d39029d-2027-4858-aa8a-11a8f3628762"
    },
    {
      "cell_type": "code",
      "execution_count": 148,
      "metadata": {},
      "outputs": [],
      "source": [
        "data.query(\"method!='GNAR' and mtype =='block' \").plot.box(backend='plotly',x='mrate',color='method',y='mse',facet_col='inter_method',facet_row='lags',height=800)\n"
      ],
      "id": "5380ddb8-d5f5-49a0-b11f-89ad2db0ad41"
    },
    {
      "cell_type": "markdown",
      "metadata": {},
      "source": [
        "# Windmilsmall"
      ],
      "id": "af1580b4-4360-4aa0-8bb4-edc4abc65e83"
    },
    {
      "cell_type": "code",
      "execution_count": 135,
      "metadata": {},
      "outputs": [],
      "source": [
        "df1 = pd.read_csv('./simulation_results/2023-09-03_15-33-53.csv') # STGCN IT-STGCN 70%\n",
        "df2 = pd.read_csv('./simulation_results/2023-09-03_23-30-43.csv') # STGCN IT-STGCN\n",
        "df3 = pd.read_csv('./simulation_results/2023-09-04_07-24-56.csv') # STGCN IT-STGCN\n",
        "df4 = pd.read_csv('./simulation_results/2023-09-04_15-39-20.csv') # STGCN IT-STGCN\n",
        "df5 = pd.read_csv('./simulation_results/2023-09-04_23-36-51.csv') # STGCN IT-STGCN\n",
        "df6 = pd.read_csv('./simulation_results/2023-09-05_07-31-59.csv') # GNAR 30%, 50%, 70% # 뭔가 일단 필요없어서 데이터셋에서 뺌\n",
        "df7 = pd.read_csv('./simulation_results/2023-09-05_14-29-50.csv') # STGCN IT-STGCN\n",
        "df8 = pd.read_csv('./simulation_results/2023-09-05_20-43-00.csv') # STGCN IT-STGCN\n",
        "df9 = pd.read_csv('./simulation_results/2023-09-06_02-56-11.csv') # STGCN IT-STGCN\n",
        "df10 = pd.read_csv('./simulation_results/2023-09-06_09-56-21.csv') # STGCN IT-STGCN\n",
        "df11 = pd.read_csv('./simulation_results/2023-09-06_18-13-36.csv') # STGCN IT-STGCN\n",
        "df12 = pd.read_csv('./simulation_results/2023-09-07_02-31-44.csv') # STGCN IT-STGCN\n",
        "df13 = pd.read_csv('./simulation_results/2023-09-07_10-52-05.csv') # STGCN IT-STGCN\n",
        "df14 = pd.read_csv('./simulation_results/2023-09-07_19-05-50.csv') # STGCN IT-STGCN\n",
        "df15 = pd.read_csv('./simulation_results/2023-09-08_03-32-59.csv') # STGCN IT-STGCN\n",
        "df16 = pd.read_csv('./simulation_results/2023-09-08_11-43-54.csv') # STGCN IT-STGCN\n",
        "df17 = pd.read_csv('./simulation_results/2023-09-08_20-02-50.csv') # STGCN IT-STGCN\n",
        "df18 = pd.read_csv('./simulation_results/2023-09-09_03-11-49.csv') # STGCN IT-STGCN\n",
        "df19 = pd.read_csv('./simulation_results/2023-09-09_10-07-13.csv') # STGCN IT-STGCN\n",
        "df20 = pd.read_csv('./simulation_results/2023-09-09_18-30-46.csv') # STGCN IT-STGCN\n",
        "df21 = pd.read_csv('./simulation_results/2023-09-10_02-55-37.csv') # STGCN IT-STGCN\n",
        "df22 = pd.read_csv('./simulation_results/2023-09-10_11-15-23.csv') # STGCN IT-STGCN\n",
        "df23 = pd.read_csv('./simulation_results/2023-09-10_19-29-52.csv') # STGCN IT-STGCN\n",
        "df24 = pd.read_csv('./simulation_results/2023-09-11_03-57-15.csv') # STGCN IT-STGCN\n",
        "df25 = pd.read_csv('./simulation_results/2023-09-11_12-31-37.csv') # STGCN IT-STGCN\n",
        "df26 = pd.read_csv('./simulation_results/2023-09-11_20-47-33.csv') # STGCN IT-STGCN\n",
        "df27 = pd.read_csv('./simulation_results/2023-09-12_05-13-58.csv') # STGCN IT-STGCN\n",
        "df28 = pd.read_csv('./simulation_results/2023-09-12_13-40-21.csv') # STGCN IT-STGCN\n",
        "df29 = pd.read_csv('./simulation_results/2023-09-12_22-03-52.csv') # STGCN IT-STGCN\n",
        "df30 = pd.read_csv('./simulation_results/2023-09-13_06-30-48.csv') # STGCN IT-STGCN\n",
        "# block\n",
        "df31 = pd.read_csv('./simulation_results/2023-09-06_15-10-18.csv') # GNAR 70%\n",
        "df32 = pd.read_csv('./simulation_results/2023-09-06_23-26-16.csv') # GNAR \n",
        "df33 = pd.read_csv('./simulation_results/2023-09-07_07-46-04.csv')\n",
        "df34 = pd.read_csv('./simulation_results/2023-09-07_15-51-53.csv')\n",
        "df35 = pd.read_csv('./simulation_results/2023-09-08_00-21-28.csv')\n",
        "df36 = pd.read_csv('./simulation_results/2023-09-08_08-36-46.csv')\n",
        "df37 = pd.read_csv('./simulation_results/2023-09-08_16-52-18.csv')\n",
        "df38 = pd.read_csv('./simulation_results/2023-09-09_00-54-24.csv')\n",
        "df39 = pd.read_csv('./simulation_results/2023-09-09_07-11-05.csv')\n",
        "df40 = pd.read_csv('./simulation_results/2023-09-16_12-29-11.csv')\n",
        "df41 = pd.read_csv('./simulation_results/2023-09-09_15-41-53.csv')\n",
        "df42 = pd.read_csv('./simulation_results/2023-09-10_00-05-13.csv')\n",
        "df43 = pd.read_csv('./simulation_results/2023-09-10_08-34-45.csv')\n",
        "df44 = pd.read_csv('./simulation_results/2023-09-10_17-02-15.csv')\n",
        "df45 = pd.read_csv('./simulation_results/2023-09-11_01-37-07.csv')\n",
        "df46 = pd.read_csv('./simulation_results/2023-09-11_09-58-13.csv')\n",
        "df47 = pd.read_csv('./simulation_results/2023-09-11_18-31-25.csv')\n",
        "df48 = pd.read_csv('./simulation_results/2023-09-12_03-04-08.csv')\n",
        "df49 = pd.read_csv('./simulation_results/2023-09-12_11-37-15.csv')\n",
        "df50 = pd.read_csv('./simulation_results/2023-09-12_20-06-38.csv')\n",
        "df51 = pd.read_csv('./simulation_results/2023-09-13_04-38-09.csv')\n",
        "df52 = pd.read_csv('./simulation_results/2023-09-13_13-07-29.csv')\n",
        "df53 = pd.read_csv('./simulation_results/2023-09-13_20-39-32.csv')\n",
        "df54 = pd.read_csv('./simulation_results/2023-09-14_03-54-29.csv')\n",
        "df55 = pd.read_csv('./simulation_results/2023-09-14_11-33-26.csv')\n",
        "df56 = pd.read_csv('./simulation_results/2023-09-14_19-51-19.csv')\n",
        "df57 = pd.read_csv('./simulation_results/2023-09-15_02-17-07.csv')\n",
        "df58 = pd.read_csv('./simulation_results/2023-09-15_08-43-50.csv')\n",
        "df59 = pd.read_csv('./simulation_results/2023-09-15_16-54-42.csv')\n",
        "df60 = pd.read_csv('./simulation_results/2023-09-16_02-24-06.csv')\n",
        "# baseline\n",
        "df61 = pd.read_csv('./simulation_results/2023-09-09_15-49-48.csv')\n",
        "df62 = pd.read_csv('./simulation_results/2023-09-10_00-21-01.csv')\n",
        "df63 = pd.read_csv('./simulation_results/2023-09-10_08-50-32.csv')\n",
        "df64 = pd.read_csv('./simulation_results/2023-09-10_17-17-29.csv')\n",
        "df65 = pd.read_csv('./simulation_results/2023-09-11_01-52-53.csv')\n",
        "df66 = pd.read_csv('./simulation_results/2023-09-11_10-24-01.csv')\n",
        "df67 = pd.read_csv('./simulation_results/2023-09-11_18-57-21.csv')\n",
        "df68 = pd.read_csv('./simulation_results/2023-09-12_03-30-06.csv') # 확인 후 block 만 넣기!\n",
        "df69 = pd.read_csv('./simulation_results/2023-09-12_12-03-13.csv')\n",
        "df70 = pd.read_csv('./simulation_results/2023-09-12_20-32-38.csv')\n",
        "df71 = pd.read_csv('./simulation_results/2023-09-13_05-04-05.csv')\n",
        "df72 = pd.read_csv('./simulation_results/2023-09-13_13-33-57.csv')\n",
        "df73 = pd.read_csv('./simulation_results/2023-09-13_21-02-18.csv')\n",
        "df74 = pd.read_csv('./simulation_results/2023-09-14_04-10-58.csv')\n",
        "df75 = pd.read_csv('./simulation_results/2023-09-14_12-05-32.csv')\n",
        "df76 = pd.read_csv('./simulation_results/2023-09-14_20-08-52.csv')\n",
        "df77 = pd.read_csv('./simulation_results/2023-09-15_02-34-54.csv')\n",
        "df78 = pd.read_csv('./simulation_results/2023-09-15_09-01-39.csv')\n",
        "df79 = pd.read_csv('./simulation_results/2023-09-15_17-20-42.csv')\n",
        "df80 = pd.read_csv('./simulation_results/2023-09-16_02-51-31.csv')\n",
        "df81 = pd.read_csv('./simulation_results/2023-09-16_13-18-15.csv')\n",
        "df82 = pd.read_csv('./simulation_results/2023-09-16_22-36-14.csv')\n",
        "df83 = pd.read_csv('./simulation_results/2023-09-17_05-16-28.csv')\n",
        "df84 = pd.read_csv('./simulation_results/2023-09-17_13-28-50.csv')\n",
        "df85 = pd.read_csv('./simulation_results/2023-09-17_22-21-07.csv')\n",
        "df86 = pd.read_csv('./simulation_results/2023-09-18_07-09-08.csv')\n",
        "df87 = pd.read_csv('./simulation_results/2023-09-18_15-58-50.csv')\n",
        "df88 = pd.read_csv('./simulation_results/2023-09-19_01-20-55.csv')\n",
        "df89 = pd.read_csv('./simulation_results/2023-09-19_10-48-04.csv')\n",
        "df90 = pd.read_csv('./simulation_results/2023-09-19_20-21-06.csv')"
      ],
      "id": "e865d7a4-d723-411e-9ee6-2a0a001f8525"
    },
    {
      "cell_type": "code",
      "execution_count": 136,
      "metadata": {},
      "outputs": [],
      "source": [
        "data = pd.concat([df1,df2,df3,df4,df5,df6,df7,df8,df9,df10,df11,df12,df13,df14,df15,df16,df17,df18,df19,df20,df21,df22,df23,df24,df25,df26,df27,df28,df29,df30,\n",
        "                  df31,df32,df33,df34,df35,df36,df37,df38,df39,df40,df41,df42,df43,df44,df45,df46,df47,df48,df49,df50,df51,df52,df53,df54,df55,df56,df57,df58,df59,df60,\n",
        "                  df61,df62,df63,df64,df65,df66,df67,df68,df69,df70,df71,df72,df73,df74,df75,df76,df77,df78,df79,df80,df81,df82,df83,df84,df85,df86,df87,df88,df89,df90\n",
        "                 ],axis=0)"
      ],
      "id": "37438d95-f15e-4741-b4d2-65966d48be89"
    },
    {
      "cell_type": "code",
      "execution_count": 137,
      "metadata": {},
      "outputs": [],
      "source": [
        "data.to_csv('./simulation_results/Real_simulation_reshape/EvolveGCNO_windmillsmall.csv',index=False)"
      ],
      "id": "129bb29a-6386-4363-9781-8a68ad4373cd"
    },
    {
      "cell_type": "code",
      "execution_count": 138,
      "metadata": {},
      "outputs": [],
      "source": [
        "data = pd.read_csv('./simulation_results/Real_simulation_reshape/EvolveGCNO_windmillsmall.csv')"
      ],
      "id": "e802f5c9-6428-4f87-86d8-5bec3a07099b"
    },
    {
      "cell_type": "markdown",
      "metadata": {},
      "source": [
        "## Baseline"
      ],
      "id": "8a0126fc-05e8-41cb-a5ef-f6364331f119"
    },
    {
      "cell_type": "code",
      "execution_count": 139,
      "metadata": {},
      "outputs": [],
      "source": [
        "data.query(\"method!='GNAR' and mrate ==0 \").plot.box(backend='plotly',x='mrate',color='method',y='mse',facet_col='lags',height=800)\n"
      ],
      "id": "7f29004b-a079-4cbe-b3ec-e397f7153991"
    },
    {
      "cell_type": "markdown",
      "metadata": {},
      "source": [
        "## random"
      ],
      "id": "d85ebc47-7acb-4f78-8a80-510756127030"
    },
    {
      "cell_type": "code",
      "execution_count": 140,
      "metadata": {},
      "outputs": [],
      "source": [
        "data.query(\"method!='GNAR' and mtype =='rand' \").plot.box(backend='plotly',x='mrate',color='method',y='mse',facet_col='lags',facet_row='inter_method',height=800)\n"
      ],
      "id": "f189e38c-14f4-4f04-980c-aec583366a66"
    },
    {
      "cell_type": "markdown",
      "metadata": {},
      "source": [
        "## block"
      ],
      "id": "70c629f3-7bdd-45cd-8453-325a25abebba"
    },
    {
      "cell_type": "code",
      "execution_count": 141,
      "metadata": {},
      "outputs": [],
      "source": [
        "data.query(\"method!='GNAR' and mtype =='block' \").plot.box(backend='plotly',x='mrate',color='method',y='mse',facet_col='lags',facet_row='inter_method',height=800)\n"
      ],
      "id": "9b49c96a-5fcb-43be-a6fd-b1f59c3b2d13"
    },
    {
      "cell_type": "markdown",
      "metadata": {},
      "source": [
        "# Montevideobus"
      ],
      "id": "44671a76-5cfe-480e-b350-662ef49b9ba1"
    },
    {
      "cell_type": "code",
      "execution_count": 66,
      "metadata": {},
      "outputs": [],
      "source": [
        "df1 = pd.read_csv('./simulation_results/2023-06-26_07-43-06.csv') # lags 8\n",
        "df2 = pd.read_csv('./simulation_results/2023-06-26_09-04-24.csv') # lags 8\n",
        "df3 = pd.read_csv('./simulation_results/2023-06-26_10-20-16.csv') # lags 8\n",
        "df4 = pd.read_csv('./simulation_results/2023-06-26_11-33-26.csv') # lags 8\n",
        "df5 = pd.read_csv('./simulation_results/2023-06-27_01-11-52.csv') # lags 8\n",
        "df6 = pd.read_csv('./simulation_results/2023-06-27_02-33-33.csv') # lags 8"
      ],
      "id": "ee59c5e4-e11a-4a10-a0b1-478a80afb228"
    },
    {
      "cell_type": "code",
      "execution_count": 67,
      "metadata": {},
      "outputs": [],
      "source": [
        "df7 = pd.read_csv('./simulation_results/2023-07-25_19-32-08.csv') # lags 8\n",
        "df8 = pd.read_csv('./simulation_results/2023-07-25_20-35-49.csv') # lags 8\n",
        "df9 = pd.read_csv('./simulation_results/2023-07-25_21-38-32.csv') # lags 8\n",
        "df10 = pd.read_csv('./simulation_results/2023-07-25_22-43-56.csv') # lags 8\n",
        "df11 = pd.read_csv('./simulation_results/2023-07-25_23-47-06.csv') # lags 8\n",
        "df12 = pd.read_csv('./simulation_results/2023-07-26_00-49-54.csv') # lags 8\n",
        "df13 = pd.read_csv('./simulation_results/2023-07-26_01-51-39.csv') # lags 8\n",
        "df14 = pd.read_csv('./simulation_results/2023-07-26_02-55-30.csv') # lags 8\n",
        "df15 = pd.read_csv('./simulation_results/2023-07-26_03-59-13.csv') # lags 8"
      ],
      "id": "96f4049c-091e-4e8a-a055-57375d6d3a76"
    },
    {
      "cell_type": "code",
      "execution_count": 69,
      "metadata": {},
      "outputs": [],
      "source": [
        "data = pd.concat([df1,df2,df3,df4,df5,df6,df7,df8,df9,df10,df11,df12,df13,df14,df15],axis=0)"
      ],
      "id": "a19d1bdd-17fe-42cf-a4c8-f270bff69e40"
    },
    {
      "cell_type": "code",
      "execution_count": 70,
      "metadata": {},
      "outputs": [],
      "source": [
        "data.to_csv('./simulation_results/Real_simulation_reshape/EvolveGCNO_monte.csv',index=False)"
      ],
      "id": "3858fad4-79eb-4bd2-a070-c55210e79185"
    },
    {
      "cell_type": "code",
      "execution_count": 71,
      "metadata": {},
      "outputs": [],
      "source": [
        "data = pd.read_csv('./simulation_results/Real_simulation_reshape/EvolveGCNO_monte.csv')"
      ],
      "id": "b6060412-5bf9-480f-8246-83eed9a2677f"
    },
    {
      "cell_type": "markdown",
      "metadata": {},
      "source": [
        "## Baseline"
      ],
      "id": "eafeb388-6c48-4020-ba4d-0d504c3a4d25"
    },
    {
      "cell_type": "code",
      "execution_count": 72,
      "metadata": {},
      "outputs": [],
      "source": [
        "data.query(\"mrate==0 and method!='GNAR'\").plot.box(backend='plotly',x='mrate',color='method',y='mse',facet_col='lags',facet_row='nof_filters',height=600)"
      ],
      "id": "f88253f6-73f8-418a-9fb8-31ab090519dd"
    },
    {
      "cell_type": "markdown",
      "metadata": {},
      "source": [
        "## random"
      ],
      "id": "e84b94ca-c3ae-4c9d-95f7-0f469abfced4"
    },
    {
      "cell_type": "code",
      "execution_count": 73,
      "metadata": {},
      "outputs": [],
      "source": [
        "data.query(\"mtype=='rand' and mrate !=0 and method!='GNAR'\").plot.box(backend='plotly',x='mrate',color='method',y='mse',facet_col='lags',facet_row='inter_method',height=800)\n"
      ],
      "id": "7f2ffd70-8383-4974-a97a-f4474693b145"
    },
    {
      "cell_type": "markdown",
      "metadata": {},
      "source": [
        "## block"
      ],
      "id": "a7a923fe-9c5f-48db-a75c-28d53582f27c"
    },
    {
      "cell_type": "code",
      "execution_count": 74,
      "metadata": {},
      "outputs": [],
      "source": [
        "data.query(\"mtype=='block' and method!='GNAR'\").plot.box(backend='plotly',x='mrate',color='method',y='mse',facet_col='lags',facet_row='nof_filters',height=1200)\n"
      ],
      "id": "58dcb2ca-a864-43a3-ae95-d93330294398"
    }
  ],
  "nbformat": 4,
  "nbformat_minor": 5,
  "metadata": {
    "kernelspec": {
      "name": "python3",
      "display_name": "Python 3",
      "language": "python"
    },
    "language_info": {
      "name": "python",
      "codemirror_mode": {
        "name": "ipython",
        "version": "3"
      },
      "file_extension": ".py",
      "mimetype": "text/x-python",
      "nbconvert_exporter": "python",
      "pygments_lexer": "ipython3",
      "version": "3.8.0"
    }
  }
}
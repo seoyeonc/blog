{
 "cells": [
  {
   "cell_type": "raw",
   "id": "1b754dc0-1156-4a42-814a-adc31f8d2e18",
   "metadata": {
    "id": "cac470df-29e7-4148-9bbd-d8b9a32fa570",
    "tags": []
   },
   "source": [
    "---\n",
    "title: \"ITSTGCN add Model\"\n",
    "author: \"SEOYEON CHOI\"\n",
    "date: \"2023-05-31\"\n",
    "categories:\n",
    "  - ITSTGCN\n",
    "---"
   ]
  },
  {
   "cell_type": "markdown",
   "id": "22a78cab-4548-455e-939b-c424abbc08b9",
   "metadata": {
    "tags": []
   },
   "source": [
    "> summerizing it"
   ]
  },
  {
   "cell_type": "markdown",
   "id": "0039cffc-af67-4337-933a-e6e5113e62d1",
   "metadata": {},
   "source": [
    "# 예"
   ]
  },
  {
   "cell_type": "code",
   "execution_count": 27,
   "id": "15246274-7df9-4bca-b802-1904e37661a2",
   "metadata": {},
   "outputs": [],
   "source": [
    "import itstgcnDYGRENCODER\n",
    "import torch\n",
    "import itstgcnDYGRENCODER.planner \n",
    "import pandas as pd\n",
    "\n",
    "import numpy as np\n",
    "import random"
   ]
  },
  {
   "cell_type": "code",
   "execution_count": null,
   "id": "99e0f508-5733-4bc8-af59-2a372031d394",
   "metadata": {},
   "outputs": [],
   "source": [
    "data_dict = itstgcnGConvLSTM.load_data('./data/fivenodes.pkl')\n",
    "loader = itstgcnGConvLSTM.DatasetLoader(data_dict)"
   ]
  },
  {
   "cell_type": "code",
   "execution_count": 3,
   "id": "4fd05f47-c247-48d8-ad53-6051a12847d8",
   "metadata": {},
   "outputs": [],
   "source": [
    "from torch_geometric_temporal.dataset import ChickenpoxDatasetLoader\n",
    "loader1 = ChickenpoxDatasetLoader()"
   ]
  },
  {
   "cell_type": "code",
   "execution_count": 4,
   "id": "6db74e7b-37c3-41c7-bbf2-1d93284df3e0",
   "metadata": {},
   "outputs": [],
   "source": [
    "from torch_geometric_temporal.dataset import PedalMeDatasetLoader\n",
    "loader2 = PedalMeDatasetLoader()"
   ]
  },
  {
   "cell_type": "code",
   "execution_count": 29,
   "id": "d26449c4-7005-4e9b-9f60-6038a605f7e4",
   "metadata": {},
   "outputs": [],
   "source": [
    "from torch_geometric_temporal.dataset import WikiMathsDatasetLoader\n",
    "loader3 = WikiMathsDatasetLoader()"
   ]
  },
  {
   "cell_type": "code",
   "execution_count": 6,
   "id": "3ebf680c-ad7c-42eb-a84d-8f09dcf03f5c",
   "metadata": {},
   "outputs": [],
   "source": [
    "# from torch_geometric_temporal.dataset import WindmillOutputLargeDatasetLoader\n",
    "# loader4 = WindmillOutputLargeDatasetLoader()"
   ]
  },
  {
   "cell_type": "code",
   "execution_count": 7,
   "id": "3e30d013-249d-4922-8322-9aa8c549a970",
   "metadata": {},
   "outputs": [],
   "source": [
    "# from torch_geometric_temporal.dataset import WindmillOutputMediumDatasetLoader\n",
    "# loader5 = WindmillOutputMediumDatasetLoader()"
   ]
  },
  {
   "cell_type": "code",
   "execution_count": 8,
   "id": "8db9149e-822a-4186-891c-d30876ae0f8e",
   "metadata": {},
   "outputs": [],
   "source": [
    "from torch_geometric_temporal.dataset import WindmillOutputSmallDatasetLoader\n",
    "loader6 = WindmillOutputSmallDatasetLoader()"
   ]
  },
  {
   "cell_type": "code",
   "execution_count": 9,
   "id": "f055d119-2c28-442c-b9df-944bd89d698e",
   "metadata": {},
   "outputs": [],
   "source": [
    "from torch_geometric_temporal.dataset import MontevideoBusDatasetLoader\n",
    "loader10 = MontevideoBusDatasetLoader()"
   ]
  },
  {
   "cell_type": "markdown",
   "id": "1d3bb421-5a6b-4ec7-98a8-2717034f3814",
   "metadata": {},
   "source": [
    "# Simulation"
   ]
  },
  {
   "cell_type": "code",
   "execution_count": 10,
   "id": "185e43f2-32c7-4e90-9ca9-a45cc560b45f",
   "metadata": {},
   "outputs": [],
   "source": [
    "plans_stgcn_rand = {\n",
    "    'max_iteration': 15, \n",
    "    'method': ['STGCN', 'IT-STGCN'], \n",
    "    'mrate': [0.7],\n",
    "    'lags': [2], \n",
    "    'nof_filters': [12], \n",
    "    'inter_method': ['linear','nearest'],\n",
    "    'epoch': [50]\n",
    "}"
   ]
  },
  {
   "cell_type": "code",
   "execution_count": null,
   "id": "5a19c6d2-1e51-4923-9267-7bb53fa8e1c5",
   "metadata": {},
   "outputs": [
    {
     "name": "stderr",
     "output_type": "stream",
     "text": [
      "/home/csy/Dropbox/blog/posts/GCN/itstgcnGConvLSTM/utils.py:71: UserWarning: Creating a tensor from a list of numpy.ndarrays is extremely slow. Please consider converting the list to a single numpy.ndarray with numpy.array() before converting to a tensor. (Triggered internally at /opt/conda/conda-bld/pytorch_1682343998658/work/torch/csrc/utils/tensor_new.cpp:245.)\n",
      "  lags = torch.tensor(train_dataset.features).shape[-1]\n"
     ]
    },
    {
     "name": "stdout",
     "output_type": "stream",
     "text": [
      "34/50\r"
     ]
    }
   ],
   "source": [
    "plnr = itstgcnGConvLSTM.planner.PLNR_STGCN_RAND(plans_stgcn_rand,loader,dataset_name='fivenodes')\n",
    "\n",
    "plnr.simulate()"
   ]
  },
  {
   "cell_type": "code",
   "execution_count": null,
   "id": "e4fdd0a8-a897-4c41-afc6-a681b333e9b3",
   "metadata": {},
   "outputs": [],
   "source": [
    "plnr = itstgcnGConvLSTM.planner.PLNR_STGCN_RAND(plans_stgcn_rand,loader,dataset_name='fivenodes')\n",
    "\n",
    "plnr.simulate()"
   ]
  },
  {
   "cell_type": "code",
   "execution_count": null,
   "id": "17ad47a2-f006-451f-bf0f-bef51a701b3d",
   "metadata": {},
   "outputs": [],
   "source": [
    "plans_stgcn_rand = {\n",
    "    'max_iteration': 15, \n",
    "    'method': ['STGCN', 'IT-STGCN'], \n",
    "    'mrate': [0.8],\n",
    "    'lags': [2], \n",
    "    'nof_filters': [12], \n",
    "    'inter_method': ['linear','nearest'],\n",
    "    'epoch': [50]\n",
    "}"
   ]
  },
  {
   "cell_type": "code",
   "execution_count": null,
   "id": "8bc8eb60-44ef-46ac-92c0-12be7dba2542",
   "metadata": {},
   "outputs": [],
   "source": [
    "plnr = itstgcnGConvLSTM.planner.PLNR_STGCN_RAND(plans_stgcn_rand,loader,dataset_name='fivenodes')\n",
    "\n",
    "plnr.simulate()"
   ]
  },
  {
   "cell_type": "code",
   "execution_count": null,
   "id": "8eda2c35-fdd8-42eb-8228-fc06a69cb114",
   "metadata": {},
   "outputs": [],
   "source": [
    "plnr = itstgcnGConvLSTM.planner.PLNR_STGCN_RAND(plans_stgcn_rand,loader,dataset_name='fivenodes')\n",
    "\n",
    "plnr.simulate()"
   ]
  },
  {
   "cell_type": "code",
   "execution_count": null,
   "id": "27c17a6e-01a2-44c9-a2e6-19025646d3a0",
   "metadata": {},
   "outputs": [],
   "source": [
    "plans_stgcn_rand = {\n",
    "    'max_iteration': 15, \n",
    "    'method': ['STGCN', 'IT-STGCN'], \n",
    "    'mrate': [0],\n",
    "    'lags': [2], \n",
    "    'nof_filters': [12], \n",
    "    'inter_method': ['linear','nearest'],\n",
    "    'epoch': [50]\n",
    "}"
   ]
  },
  {
   "cell_type": "code",
   "execution_count": null,
   "id": "dbdc772e-ffe3-43b2-8dd9-49274a690e53",
   "metadata": {},
   "outputs": [],
   "source": [
    "plnr = itstgcnGConvLSTM.planner.PLNR_STGCN_RAND(plans_stgcn_rand,loader,dataset_name='fivenodes')\n",
    "\n",
    "plnr.simulate()"
   ]
  },
  {
   "cell_type": "code",
   "execution_count": null,
   "id": "2ade4cd7-2e12-4106-ba5b-a3104497b920",
   "metadata": {},
   "outputs": [],
   "source": [
    "plnr = itstgcnGConvLSTM.planner.PLNR_STGCN_RAND(plans_stgcn_rand,loader,dataset_name='fivenodes')\n",
    "\n",
    "plnr.simulate()"
   ]
  },
  {
   "cell_type": "code",
   "execution_count": null,
   "id": "f217e4ff-b0e5-4dc5-b1ea-d171a27aeb1d",
   "metadata": {},
   "outputs": [],
   "source": [
    "mindex= [[],[],[],list(range(50,150)),[]]\n",
    "# mindex= [list(range(50,150)),[],list(range(50,90)),list(range(50,150)),[]] # node 2\n",
    "plans_stgcn_block = {\n",
    "    'max_iteration': 15, \n",
    "    'method': ['STGCN', 'IT-STGCN'],\n",
    "    'mindex': [mindex],\n",
    "    'lags': [2], \n",
    "    'nof_filters': [12], \n",
    "    'inter_method': ['linear','nearest'],\n",
    "    'epoch': [50]\n",
    "}"
   ]
  },
  {
   "cell_type": "code",
   "execution_count": null,
   "id": "3c924430-b362-4b08-a524-112ee8ab7e9e",
   "metadata": {},
   "outputs": [],
   "source": [
    "plnr = itstgcnGConvLSTM.planner.PLNR_STGCN_MANUAL(plans_stgcn_block,loader,dataset_name='fivenodes')\n",
    "\n",
    "plnr.simulate(mindex=mindex,mtype='block')"
   ]
  },
  {
   "cell_type": "code",
   "execution_count": null,
   "id": "5aa8569b-0c45-4efc-be2d-4fc20f4809da",
   "metadata": {},
   "outputs": [],
   "source": [
    "plnr = itstgcnGConvLSTM.planner.PLNR_STGCN_MANUAL(plans_stgcn_block,loader,dataset_name='fivenodes')\n",
    "\n",
    "plnr.simulate(mindex=mindex,mtype='block')"
   ]
  },
  {
   "cell_type": "code",
   "execution_count": null,
   "id": "b102929b-4b82-4a02-99df-634e5d4270be",
   "metadata": {},
   "outputs": [],
   "source": []
  },
  {
   "cell_type": "code",
   "execution_count": null,
   "id": "cfd73050-3805-4914-877a-59490e78791b",
   "metadata": {},
   "outputs": [],
   "source": [
    "plans_stgcn_rand = {\n",
    "    'max_iteration': 15, \n",
    "    'method': ['STGCN', 'IT-STGCN'],\n",
    "    'mrate': [0.3,0.8],\n",
    "    'lags': [4], \n",
    "    'nof_filters': [32], \n",
    "    'inter_method': ['linear'],\n",
    "    'epoch': [50]\n",
    "}"
   ]
  },
  {
   "cell_type": "code",
   "execution_count": null,
   "id": "34c7ad15-ca6f-43eb-a142-1a6b9a9fc401",
   "metadata": {},
   "outputs": [],
   "source": [
    "plnr = itstgcnGConvLSTM.planner.PLNR_STGCN_RAND(plans_stgcn_rand,loader1,dataset_name='chickenpox')\n",
    "plnr.simulate()"
   ]
  },
  {
   "cell_type": "code",
   "execution_count": null,
   "id": "c4eaf5f6-b7f2-4865-922f-0a705c667e7f",
   "metadata": {},
   "outputs": [],
   "source": [
    "plnr = itstgcnGConvLSTM.planner.PLNR_STGCN_RAND(plans_stgcn_rand,loader1,dataset_name='chickenpox')\n",
    "plnr.simulate()"
   ]
  },
  {
   "cell_type": "code",
   "execution_count": null,
   "id": "33e7913c-98af-4231-8f9b-3fe2f28e16fa",
   "metadata": {},
   "outputs": [],
   "source": [
    "plans_stgcn_rand = {\n",
    "    'max_iteration': 15, \n",
    "    'method': ['STGCN', 'IT-STGCN'],\n",
    "    'mrate': [0],\n",
    "    'lags': [4], \n",
    "    'nof_filters': [32], \n",
    "    'inter_method': ['linear'],\n",
    "    'epoch': [50]\n",
    "}"
   ]
  },
  {
   "cell_type": "code",
   "execution_count": null,
   "id": "51521341-96d3-48bb-8184-9a65b2b92ce2",
   "metadata": {},
   "outputs": [],
   "source": [
    "plnr = itstgcnGConvLSTM.planner.PLNR_STGCN_RAND(plans_stgcn_rand,loader1,dataset_name='chickenpox')\n",
    "plnr.simulate()"
   ]
  },
  {
   "cell_type": "code",
   "execution_count": null,
   "id": "1bd02f90-c6a5-4b3d-b3b9-de1c8031d850",
   "metadata": {},
   "outputs": [],
   "source": [
    "plnr = itstgcnGConvLSTM.planner.PLNR_STGCN_RAND(plans_stgcn_rand,loader1,dataset_name='chickenpox')\n",
    "plnr.simulate()"
   ]
  },
  {
   "cell_type": "code",
   "execution_count": null,
   "id": "577dc58f-77d5-4c9b-b90b-d4e95aba4f69",
   "metadata": {},
   "outputs": [],
   "source": [
    "my_list = [[] for _ in range(20)] #chickenpox\n",
    "another_list = list(range(100,400))\n",
    "my_list[1] = another_list\n",
    "my_list[3] = another_list\n",
    "my_list[5] = another_list\n",
    "my_list[7] = another_list\n",
    "my_list[9] = another_list\n",
    "my_list[11] = another_list\n",
    "my_list[13] = another_list\n",
    "my_list[15] = another_list\n",
    "mindex = my_list"
   ]
  },
  {
   "cell_type": "code",
   "execution_count": null,
   "id": "a1754584-bcfa-4f01-b464-49737c1b1299",
   "metadata": {},
   "outputs": [],
   "source": [
    "# mindex= [[],[],[],list(range(50,150)),[]]\n",
    "# mindex= [list(range(50,150)),[],list(range(50,90)),list(range(50,150)),[]] # node 2\n",
    "plans_stgcn_block = {\n",
    "    'max_iteration': 15, \n",
    "    'method': ['STGCN', 'IT-STGCN'],\n",
    "    'mindex': [mindex],\n",
    "    'lags': [4], \n",
    "    'nof_filters': [32], \n",
    "    'inter_method': ['linear','nearest'],\n",
    "    'epoch': [50]\n",
    "}"
   ]
  },
  {
   "cell_type": "code",
   "execution_count": null,
   "id": "98fbed71-5807-41ef-b99b-d51ee32b8069",
   "metadata": {},
   "outputs": [],
   "source": [
    "plnr = itstgcnGConvLSTM.planner.PLNR_STGCN_MANUAL(plans_stgcn_block,loader1,dataset_name='chickenpox')\n",
    "\n",
    "plnr.simulate(mindex=mindex,mtype='block')"
   ]
  },
  {
   "cell_type": "code",
   "execution_count": null,
   "id": "2728a3b1-3fc4-4289-a9a2-7319009cba24",
   "metadata": {},
   "outputs": [],
   "source": [
    "plnr = itstgcnGConvLSTM.planner.PLNR_STGCN_MANUAL(plans_stgcn_block,loader1,dataset_name='chickenpox')\n",
    "\n",
    "plnr.simulate(mindex=mindex,mtype='block')"
   ]
  },
  {
   "cell_type": "code",
   "execution_count": null,
   "id": "3bad3c8e-e90c-4ab4-b672-3de941c326bc",
   "metadata": {},
   "outputs": [],
   "source": []
  },
  {
   "cell_type": "code",
   "execution_count": null,
   "id": "7e3d0318-33bc-416a-a0aa-bf676adf695c",
   "metadata": {},
   "outputs": [],
   "source": [
    "plans_stgcn_rand = {\n",
    "    'max_iteration': 30, \n",
    "    'method': ['STGCN', 'IT-STGCN'],\n",
    "    'mrate': [0,0.3,0.6],\n",
    "    'lags': [4], \n",
    "    'nof_filters': [2], \n",
    "    'inter_method': ['linear','nearest'],\n",
    "    'epoch': [50]\n",
    "}"
   ]
  },
  {
   "cell_type": "code",
   "execution_count": null,
   "id": "908cd78f-897c-4ec0-94f9-3dec6e80d252",
   "metadata": {},
   "outputs": [],
   "source": [
    "plnr = itstgcnGConvLSTM.planner.PLNR_STGCN_RAND(plans_stgcn_rand,loader2,dataset_name='pedalme')\n",
    "\n",
    "plnr.simulate()"
   ]
  },
  {
   "cell_type": "code",
   "execution_count": null,
   "id": "f8174433-099f-416a-bc15-f899b309fb01",
   "metadata": {},
   "outputs": [],
   "source": [
    "my_list = [[] for _ in range(15)] #pedalme\n",
    "another_list = list(range(5,25))\n",
    "my_list[1] = another_list\n",
    "my_list[3] = another_list\n",
    "my_list[5] = another_list\n",
    "my_list[7] = another_list\n",
    "my_list[9] = another_list\n",
    "my_list[11] = another_list\n",
    "mindex = my_list"
   ]
  },
  {
   "cell_type": "code",
   "execution_count": null,
   "id": "522577c4-9739-4816-a537-f3aea7d822a7",
   "metadata": {},
   "outputs": [],
   "source": [
    "# mindex= [[],[],[],list(range(50,150)),[]]  # node 1\n",
    "# mindex= [list(range(10,100)),[],list(range(50,80)),[],[]] # node 2\n",
    "# mindex= [list(range(10,100)),[],list(range(50,80)),list(range(50,150)),[]] # node3\n",
    "plans_stgcn_block = {\n",
    "    'max_iteration': 30, \n",
    "    'method': ['STGCN', 'IT-STGCN'], \n",
    "    'mindex': [mindex],\n",
    "    'lags': [4], \n",
    "    'nof_filters': [2], \n",
    "    'inter_method': ['linear','nearest'],\n",
    "    'epoch': [50]\n",
    "}"
   ]
  },
  {
   "cell_type": "code",
   "execution_count": null,
   "id": "d5ac2cc1-87e1-4a10-8931-ddb8a04dcd92",
   "metadata": {},
   "outputs": [],
   "source": [
    "plnr = itstgcnGConvLSTM.planner.PLNR_STGCN_MANUAL(plans_stgcn_block,loader2,dataset_name='pedalme')\n",
    "plnr.simulate(mindex=mindex,mtype='block')"
   ]
  },
  {
   "cell_type": "code",
   "execution_count": null,
   "id": "df8aca49-5ee9-4fc0-9ffd-45d2e153be7b",
   "metadata": {},
   "outputs": [],
   "source": []
  },
  {
   "cell_type": "code",
   "execution_count": 30,
   "id": "cc3ddae2-18bc-46fd-a654-912abfb38ecb",
   "metadata": {},
   "outputs": [],
   "source": [
    "plans_stgcn_rand = {\n",
    "    'max_iteration': 10, \n",
    "    'method': ['STGCN', 'IT-STGCN'],\n",
    "    'mrate': [0.3],\n",
    "    'lags': [8], \n",
    "    'nof_filters': [12], \n",
    "    'inter_method': ['linear'],\n",
    "    'epoch': [50]\n",
    "}"
   ]
  },
  {
   "cell_type": "code",
   "execution_count": null,
   "id": "47ea63ca-1d47-4616-a3c8-bd4b4cd2ea5c",
   "metadata": {},
   "outputs": [
    {
     "name": "stdout",
     "output_type": "stream",
     "text": [
      "3/50\r"
     ]
    }
   ],
   "source": [
    "plnr = itstgcnDYGRENCODER.planner.PLNR_STGCN_RAND(plans_stgcn_rand,loader3,dataset_name='wikimath')\n",
    "plnr.simulate()"
   ]
  },
  {
   "cell_type": "code",
   "execution_count": null,
   "id": "b0984f5b-8792-4064-b951-d5e2cfd607c5",
   "metadata": {},
   "outputs": [],
   "source": [
    "plnr = itstgcnDYGRENCODER.planner.PLNR_STGCN_RAND(plans_stgcn_rand,loader3,dataset_name='wikimath')\n",
    "plnr.simulate()"
   ]
  },
  {
   "cell_type": "code",
   "execution_count": null,
   "id": "5c74419c-f6ac-4779-82f4-1fa3c5e44db1",
   "metadata": {},
   "outputs": [],
   "source": [
    "plnr = itstgcnDYGRENCODER.planner.PLNR_STGCN_RAND(plans_stgcn_rand,loader3,dataset_name='wikimath')\n",
    "plnr.simulate()"
   ]
  },
  {
   "cell_type": "code",
   "execution_count": null,
   "id": "7a0cbe86-c70f-40bd-b63b-2952cf5c62d1",
   "metadata": {},
   "outputs": [],
   "source": [
    "plans_stgcn_rand = {\n",
    "    'max_iteration': 15, \n",
    "    'method': ['STGCN', 'IT-STGCN'],\n",
    "    'mrate': [0.8],\n",
    "    'lags': [8], \n",
    "    'nof_filters': [12], \n",
    "    'inter_method': ['linear'],\n",
    "    'epoch': [50]\n",
    "}"
   ]
  },
  {
   "cell_type": "code",
   "execution_count": null,
   "id": "fff254f1-8cc2-4bea-8498-e631f0db82ec",
   "metadata": {},
   "outputs": [],
   "source": [
    "plnr = itstgcnDYGRENCODER.planner.PLNR_STGCN_RAND(plans_stgcn_rand,loader3,dataset_name='wikimath')\n",
    "plnr.simulate()"
   ]
  },
  {
   "cell_type": "code",
   "execution_count": null,
   "id": "1bc83277-7ece-4d55-9999-b8b4392dbcb2",
   "metadata": {},
   "outputs": [],
   "source": [
    "plnr = itstgcnDYGRENCODER.planner.PLNR_STGCN_RAND(plans_stgcn_rand,loader3,dataset_name='wikimath')\n",
    "plnr.simulate()"
   ]
  },
  {
   "cell_type": "code",
   "execution_count": null,
   "id": "995841f6-ddd8-4207-af50-e7d9aab50658",
   "metadata": {},
   "outputs": [],
   "source": [
    "plans_stgcn_rand = {\n",
    "    'max_iteration': 10, \n",
    "    'method': ['STGCN', 'IT-STGCN'],\n",
    "    'mrate': [0],\n",
    "    'lags': [8], \n",
    "    'nof_filters': [12], \n",
    "    'inter_method': ['linear'],\n",
    "    'epoch': [50]\n",
    "}"
   ]
  },
  {
   "cell_type": "code",
   "execution_count": null,
   "id": "36d3d9c7-d6d0-4c80-8dec-2159851d7549",
   "metadata": {},
   "outputs": [],
   "source": [
    "plnr = itstgcnDYGRENCODER.planner.PLNR_STGCN_RAND(plans_stgcn_rand,loader3,dataset_name='wikimath')\n",
    "plnr.simulate()"
   ]
  },
  {
   "cell_type": "code",
   "execution_count": null,
   "id": "aa8b38a6-3342-4139-ad4c-3ac0322b4c36",
   "metadata": {},
   "outputs": [],
   "source": [
    "plnr = itstgcnDYGRENCODER.planner.PLNR_STGCN_RAND(plans_stgcn_rand,loader3,dataset_name='wikimath')\n",
    "plnr.simulate()"
   ]
  },
  {
   "cell_type": "code",
   "execution_count": null,
   "id": "dc692018-8e62-4aa0-9a94-e1ef89629351",
   "metadata": {},
   "outputs": [],
   "source": [
    "plnr = itstgcnDYGRENCODER.planner.PLNR_STGCN_RAND(plans_stgcn_rand,loader3,dataset_name='wikimath')\n",
    "plnr.simulate()"
   ]
  },
  {
   "cell_type": "markdown",
   "id": "7b195353-b18c-4247-b2c1-5720784c9d9d",
   "metadata": {
    "tags": []
   },
   "source": [
    "```python\n",
    "import random\n",
    "my_list = [[] for _ in range(1068)] # wikimath\n",
    "another_list = random.sample(range(570), 72)\n",
    "# my_list에서 250개 요소 무작위 선택\n",
    "selected_indexes = random.sample(range(len(my_list)), 250)\n",
    "# 선택된 요소에 해당하는 값들을 another_list에 할당\n",
    "for index in selected_indexes:\n",
    "    my_list[index] = another_list\n",
    "```"
   ]
  },
  {
   "cell_type": "code",
   "execution_count": null,
   "id": "a64fd0b2-f7d4-4bd5-80a5-07fe88bb1a2b",
   "metadata": {},
   "outputs": [],
   "source": [
    "import random\n",
    "my_list = [[] for _ in range(1068)] # wikimath\n",
    "another_list = random.sample(range(570), 150)\n",
    "# my_list에서 250개 요소 무작위 선택\n",
    "selected_indexes = random.sample(range(len(my_list)), 500)\n",
    "# 선택된 요소에 해당하는 값들을 another_list에 할당\n",
    "for index in selected_indexes:\n",
    "    my_list[index] = another_list\n",
    "mindex = my_list"
   ]
  },
  {
   "cell_type": "code",
   "execution_count": null,
   "id": "4deda134-0889-4f11-b39e-65474db5c1ea",
   "metadata": {},
   "outputs": [],
   "source": [
    "# mindex= [[],[],[],list(range(50,150)),[]]  # node 1\n",
    "# mindex= [list(range(10,100)),[],list(range(50,80)),[],[]] # node 2\n",
    "# mindex= [list(range(10,100)),[],list(range(50,80)),list(range(50,150)),[]] # node3\n",
    "plans_stgcn_block = {\n",
    "    'max_iteration': 10, \n",
    "    'method': ['STGCN', 'IT-STGCN'], \n",
    "    'mindex': [mindex],\n",
    "    'lags': [8], \n",
    "    'nof_filters': [12], \n",
    "    'inter_method': ['linear'],\n",
    "    'epoch': [50]\n",
    "}"
   ]
  },
  {
   "cell_type": "code",
   "execution_count": null,
   "id": "d6460bad-5a9e-4edd-ac98-4b8c86826363",
   "metadata": {},
   "outputs": [],
   "source": [
    "plnr = itstgcnDYGRENCODER.planner.PLNR_STGCN_MANUAL(plans_stgcn_block,loader3,dataset_name='wikimath')\n",
    "plnr.simulate(mindex=mindex,mtype='block')"
   ]
  },
  {
   "cell_type": "code",
   "execution_count": null,
   "id": "bdb7c455-a34a-43cc-9f77-258c4abb832d",
   "metadata": {},
   "outputs": [],
   "source": [
    "plnr = itstgcnDYGRENCODER.planner.PLNR_STGCN_MANUAL(plans_stgcn_block,loader3,dataset_name='wikimath')\n",
    "plnr.simulate(mindex=mindex,mtype='block')"
   ]
  },
  {
   "cell_type": "code",
   "execution_count": null,
   "id": "b69499e7-6504-4f49-ab10-79aa0dcfe6bf",
   "metadata": {},
   "outputs": [],
   "source": [
    "plnr = itstgcnDYGRENCODER.planner.PLNR_STGCN_MANUAL(plans_stgcn_block,loader3,dataset_name='wikimath')\n",
    "plnr.simulate(mindex=mindex,mtype='block')"
   ]
  },
  {
   "cell_type": "markdown",
   "id": "62e101bf-7812-4dca-9763-c71fda0588ed",
   "metadata": {},
   "source": [
    "같은 노드 같은 missing"
   ]
  },
  {
   "cell_type": "code",
   "execution_count": null,
   "id": "61a575a4-53bd-4ec7-8899-3a94739cfb40",
   "metadata": {},
   "outputs": [],
   "source": [
    "my_list = [[] for _ in range(1068)] #wikimath\n",
    "another_list = random.sample(range(0, 576), 300)\n",
    "for i in range(0, 1068):\n",
    "    my_list[i] = another_list\n",
    "mindex = my_list"
   ]
  },
  {
   "cell_type": "code",
   "execution_count": null,
   "id": "3b9dd17c-2e70-4539-ba25-f70083efc402",
   "metadata": {},
   "outputs": [],
   "source": [
    "plans_stgcn_block = {\n",
    "    'max_iteration': 10, \n",
    "    'method': ['STGCN', 'IT-STGCN'], \n",
    "    'mindex': [mindex],\n",
    "    'lags': [8], \n",
    "    'nof_filters': [12], \n",
    "    'inter_method': ['linear'],\n",
    "    'epoch': [50]\n",
    "}"
   ]
  },
  {
   "cell_type": "code",
   "execution_count": null,
   "id": "5d6ba2ac-4bfa-41c6-8908-55811ee4692f",
   "metadata": {},
   "outputs": [],
   "source": [
    "plnr = itstgcnDYGRENCODER.planner.PLNR_STGCN_MANUAL(plans_stgcn_block,loader3,dataset_name='wikimath')\n",
    "plnr.simulate(mindex=mindex,mtype='block')"
   ]
  },
  {
   "cell_type": "code",
   "execution_count": null,
   "id": "4a0a2891-6726-4edd-96c1-92803a52a23c",
   "metadata": {},
   "outputs": [],
   "source": [
    "plnr = itstgcnDYGRENCODER.planner.PLNR_STGCN_MANUAL(plans_stgcn_block,loader3,dataset_name='wikimath')\n",
    "plnr.simulate(mindex=mindex,mtype='block')"
   ]
  },
  {
   "cell_type": "code",
   "execution_count": null,
   "id": "00d8804f-df30-4b43-982c-0a64a3b272cc",
   "metadata": {},
   "outputs": [],
   "source": [
    "plnr = itstgcnDYGRENCODER.planner.PLNR_STGCN_MANUAL(plans_stgcn_block,loader3,dataset_name='wikimath')\n",
    "plnr.simulate(mindex=mindex,mtype='block')"
   ]
  },
  {
   "cell_type": "code",
   "execution_count": null,
   "id": "2c1ab254-65bf-4de6-96be-785e245eddf6",
   "metadata": {},
   "outputs": [],
   "source": []
  },
  {
   "cell_type": "code",
   "execution_count": null,
   "id": "c604d8e0-a4bc-47bd-a8ef-4267645d09a3",
   "metadata": {},
   "outputs": [],
   "source": [
    "plans_stgcn_rand = {\n",
    "    'max_iteration': 15, \n",
    "    'method': ['STGCN', 'IT-STGCN'],\n",
    "    'mrate': [0.8],\n",
    "    'lags': [4], \n",
    "    'nof_filters': [12], \n",
    "    'inter_method': ['nearest'],\n",
    "    'epoch': [50]\n",
    "}"
   ]
  },
  {
   "cell_type": "code",
   "execution_count": null,
   "id": "2ce1d4c8-f95d-468d-bf31-84187231397c",
   "metadata": {},
   "outputs": [],
   "source": [
    "plnr = itstgcnGConvLSTM.planner.PLNR_STGCN_RAND(plans_stgcn_rand,loader10,dataset_name='monte')\n",
    "plnr.simulate()"
   ]
  },
  {
   "cell_type": "code",
   "execution_count": null,
   "id": "9b1b8d70-2925-4d22-9f58-cbdfb318be30",
   "metadata": {},
   "outputs": [],
   "source": [
    "plnr = itstgcnGConvLSTM.planner.PLNR_STGCN_RAND(plans_stgcn_rand,loader10,dataset_name='monte')\n",
    "plnr.simulate()"
   ]
  },
  {
   "cell_type": "code",
   "execution_count": null,
   "id": "272a3288-26fb-42ee-bf65-a5b2068b9c24",
   "metadata": {},
   "outputs": [],
   "source": [
    "plans_stgcn_rand = {\n",
    "    'max_iteration': 15, \n",
    "    'method': ['STGCN', 'IT-STGCN'],\n",
    "    'mrate': [0],\n",
    "    'lags': [4], \n",
    "    'nof_filters': [12], \n",
    "    'inter_method': ['nearest'],\n",
    "    'epoch': [50]\n",
    "}"
   ]
  },
  {
   "cell_type": "code",
   "execution_count": null,
   "id": "5b021a7d-f524-43f5-a633-506a587090a4",
   "metadata": {},
   "outputs": [],
   "source": [
    "plnr = itstgcnGConvLSTM.planner.PLNR_STGCN_RAND(plans_stgcn_rand,loader10,dataset_name='monte')\n",
    "plnr.simulate()"
   ]
  },
  {
   "cell_type": "code",
   "execution_count": null,
   "id": "6f69e62a-3fd9-4d08-8f0a-282654978f6e",
   "metadata": {},
   "outputs": [],
   "source": [
    "plnr = itstgcnGConvLSTM.planner.PLNR_STGCN_RAND(plans_stgcn_rand,loader10,dataset_name='monte')\n",
    "plnr.simulate()"
   ]
  },
  {
   "cell_type": "code",
   "execution_count": null,
   "id": "3c5d69be-a188-4463-ad49-7a36986976f9",
   "metadata": {},
   "outputs": [],
   "source": [
    "my_list = [[] for _ in range(675)] #monte\n",
    "another_list = list(range(200,350)) #743\n",
    "\n",
    "for i in np.array(random.sample(range(0, 675), 400)):\n",
    "    my_list[i] = another_list\n",
    "mindex = my_list"
   ]
  },
  {
   "cell_type": "code",
   "execution_count": null,
   "id": "49145e35-fb13-4a91-9e9d-11461e239bee",
   "metadata": {},
   "outputs": [],
   "source": [
    "# mindex= [[],[],[],list(range(50,150)),[]]  # node 1\n",
    "# mindex= [list(range(10,100)),[],list(range(50,80)),[],[]] # node 2\n",
    "# mindex= [list(range(10,100)),[],list(range(50,80)),list(range(50,150)),[]] # node3\n",
    "plans_stgcn_block = {\n",
    "    'max_iteration': 15, \n",
    "    'method': ['STGCN', 'IT-STGCN'], \n",
    "    'mindex': [mindex],\n",
    "    'lags': [4], \n",
    "    'nof_filters': [12], \n",
    "    'inter_method': ['nearest'],\n",
    "    'epoch': [50]\n",
    "}"
   ]
  },
  {
   "cell_type": "code",
   "execution_count": null,
   "id": "9da28cb1-a8c3-4573-9b5c-6f82e383fc76",
   "metadata": {},
   "outputs": [],
   "source": [
    "plnr = itstgcnGConvLSTM.planner.PLNR_STGCN_MANUAL(plans_stgcn_block,loader10,dataset_name='monte')\n",
    "plnr.simulate(mindex=mindex,mtype='block')"
   ]
  },
  {
   "cell_type": "code",
   "execution_count": null,
   "id": "1330002c-9f79-45ae-b1a3-a7e532bda367",
   "metadata": {},
   "outputs": [],
   "source": [
    "plnr = itstgcnGConvLSTM.planner.PLNR_STGCN_MANUAL(plans_stgcn_block,loader10,dataset_name='monte')\n",
    "plnr.simulate(mindex=mindex,mtype='block')"
   ]
  },
  {
   "cell_type": "code",
   "execution_count": null,
   "id": "4532d4b3-de94-4f82-9b1c-4228db7545d0",
   "metadata": {},
   "outputs": [],
   "source": []
  }
 ],
 "metadata": {
  "kernelspec": {
   "display_name": "Python 3",
   "language": "python",
   "name": "python3"
  },
  "language_info": {
   "codemirror_mode": {
    "name": "ipython",
    "version": 3
   },
   "file_extension": ".py",
   "mimetype": "text/x-python",
   "name": "python",
   "nbconvert_exporter": "python",
   "pygments_lexer": "ipython3",
   "version": "3.8.0"
  }
 },
 "nbformat": 4,
 "nbformat_minor": 5
}

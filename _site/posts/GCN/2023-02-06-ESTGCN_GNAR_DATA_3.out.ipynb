{
  "cells": [
    {
      "cell_type": "markdown",
      "metadata": {},
      "source": [
        "# Class of Method(GNAR) lag 1 80% Missing repeat\n",
        "\n",
        "SEOYEON CHOI  \n",
        "2023-02-06\n",
        "\n",
        "> GNAR fiveNet,fivenodes lag 1\n",
        "\n",
        "# import"
      ],
      "id": "f13b64cb-8c2a-4710-bd3d-bba6a1a12029"
    },
    {
      "cell_type": "code",
      "execution_count": 1,
      "metadata": {},
      "outputs": [],
      "source": [
        "import numpy as np\n",
        "import pandas as pd\n",
        "import matplotlib.pyplot as plt\n",
        "from matplotlib import animation\n",
        "\n",
        "# torch\n",
        "import torch\n",
        "import torch.nn.functional as F\n",
        "from torch_geometric_temporal.nn.recurrent import GConvGRU\n",
        "\n",
        "# scipy \n",
        "from scipy.interpolate import interp1d\n",
        "\n",
        "# utils\n",
        "import time\n",
        "import pickle\n",
        "from tqdm import tqdm\n",
        "\n",
        "# rpy2\n",
        "import rpy2\n",
        "import rpy2.robjects as ro \n",
        "from rpy2.robjects.vectors import FloatVector\n",
        "import rpy2.robjects as robjects\n",
        "from rpy2.robjects.packages import importr\n",
        "\n",
        "import rpy2.robjects.numpy2ri as rpyn"
      ],
      "id": "f90af573-4bc0-4c9e-ad94-e9739160055e"
    },
    {
      "cell_type": "code",
      "execution_count": 2,
      "metadata": {},
      "outputs": [],
      "source": [
        "class RecurrentGCN(torch.nn.Module):\n",
        "    def __init__(self, node_features, filters):\n",
        "        super(RecurrentGCN, self).__init__()\n",
        "        self.recurrent = GConvGRU(node_features, filters, 2)\n",
        "        self.linear = torch.nn.Linear(filters, 1)\n",
        "\n",
        "    def forward(self, x, edge_index, edge_weight):\n",
        "        h = self.recurrent(x, edge_index, edge_weight)\n",
        "        h = F.relu(h)\n",
        "        h = self.linear(h)\n",
        "        return h"
      ],
      "id": "dbbe91df-66c9-46da-abf9-379f37061d5e"
    },
    {
      "cell_type": "markdown",
      "metadata": {},
      "source": [
        "# my functions"
      ],
      "id": "a9a6cbf4-3e54-4178-8c82-9273fed63533"
    },
    {
      "cell_type": "code",
      "execution_count": 3,
      "metadata": {},
      "outputs": [],
      "source": [
        "def load_data(fname):\n",
        "    with open(fname, 'rb') as outfile:\n",
        "        data_dict = pickle.load(outfile)\n",
        "    return data_dict"
      ],
      "id": "227faf0a-4609-4fb1-bb57-f72308e2b23d"
    },
    {
      "cell_type": "code",
      "execution_count": 4,
      "metadata": {},
      "outputs": [],
      "source": [
        "def save_data(data_dict,fname):\n",
        "    with open(fname,'wb') as outfile:\n",
        "        pickle.dump(data_dict,outfile)"
      ],
      "id": "a159f970-32cf-4719-b3b7-d16eeb939f5e"
    },
    {
      "cell_type": "code",
      "execution_count": 5,
      "metadata": {},
      "outputs": [],
      "source": [
        "def plot(f,*args,t=None,h=2.5,**kwargs):\n",
        "    T,N = f.shape\n",
        "    if t == None: t = range(T)\n",
        "    fig = plt.figure()\n",
        "    ax = fig.subplots(N,1)\n",
        "    for n in range(N):\n",
        "        ax[n].plot(t,f[:,n],*args,**kwargs)\n",
        "        ax[n].set_title('node='+str(n))\n",
        "    fig.set_figheight(N*h)\n",
        "    fig.tight_layout()\n",
        "    plt.close()\n",
        "    return fig"
      ],
      "id": "46b2f8de-d7db-4a8a-8b56-68987ea54c0e"
    },
    {
      "cell_type": "code",
      "execution_count": 6,
      "metadata": {},
      "outputs": [],
      "source": [
        "def plot_add(fig,f,*args,t=None,**kwargs):\n",
        "    T = f.shape[0]\n",
        "    N = f.shape[1] \n",
        "    if t == None: t = range(T)   \n",
        "    ax = fig.get_axes()\n",
        "    for n in range(N):\n",
        "        ax[n].plot(t,f[:,n],*args,**kwargs)\n",
        "    return fig"
      ],
      "id": "dfd30cd2-1daf-474d-b132-7b41af02e5f5"
    },
    {
      "cell_type": "code",
      "execution_count": 7,
      "metadata": {},
      "outputs": [],
      "source": [
        "def make_Psi(T):\n",
        "    W = np.zeros((T,T))\n",
        "    for i in range(T):\n",
        "        for j in range(T):\n",
        "            if i==j :\n",
        "                W[i,j] = 0\n",
        "            elif np.abs(i-j) <= 1 : \n",
        "                W[i,j] = 1\n",
        "    d = np.array(W.sum(axis=1))\n",
        "    D = np.diag(d)\n",
        "    L = np.array(np.diag(1/np.sqrt(d)) @ (D-W) @ np.diag(1/np.sqrt(d)))\n",
        "    lamb, Psi = np.linalg.eigh(L)\n",
        "    return Psi"
      ],
      "id": "5422d968-a917-483b-8e82-4ab2bf569bc5"
    },
    {
      "cell_type": "code",
      "execution_count": 8,
      "metadata": {},
      "outputs": [],
      "source": [
        "ebayesthresh = importr('EbayesThresh').ebayesthresh"
      ],
      "id": "6fdbd67c-4d90-4d7f-9a4f-2f73dac5485c"
    },
    {
      "cell_type": "code",
      "execution_count": 9,
      "metadata": {},
      "outputs": [],
      "source": [
        "def trim(f):\n",
        "    f = np.array(f)\n",
        "    if len(f.shape)==1: f = f.reshape(-1,1)\n",
        "    T,N = f.shape\n",
        "    Psi = make_Psi(T)\n",
        "    fbar = Psi.T @ f # apply dft \n",
        "    fbar_threshed = np.stack([ebayesthresh(FloatVector(fbar[:,i])) for i in range(N)],axis=1)\n",
        "    fhat = Psi @ fbar_threshed # inverse dft \n",
        "    return fhat"
      ],
      "id": "7da0eb4f-5518-4e35-b392-9762da230d53"
    },
    {
      "cell_type": "code",
      "execution_count": 10,
      "metadata": {},
      "outputs": [],
      "source": [
        "def update_from_freq_domain(signal, missing_index):\n",
        "    signal = np.array(signal)\n",
        "    T,N = signal.shape \n",
        "    signal_trimed = trim(signal)\n",
        "    for i in range(N):\n",
        "        signal[missing_index[i],i] = signal_trimed[missing_index[i],i]\n",
        "    return signal"
      ],
      "id": "3036d47a-8211-4f46-9cd3-c316e01e5dce"
    },
    {
      "cell_type": "markdown",
      "metadata": {},
      "source": [
        "# data 정리\n",
        "\n",
        "`-` 데이터정리"
      ],
      "id": "c29b5415-8eaf-4f0d-904b-f6e74095940f"
    },
    {
      "cell_type": "code",
      "execution_count": 11,
      "metadata": {},
      "outputs": [],
      "source": [
        "data = load_data('./data/fivenodes.pkl')"
      ],
      "id": "0bcaefae-0b23-4dbd-b35b-30a36b84095b"
    },
    {
      "cell_type": "code",
      "execution_count": null,
      "metadata": {},
      "outputs": [],
      "source": [
        "edges_tensor = torch.tensor(data['edges'])\n",
        "fiveVTS = np.array(data['f'])\n",
        "nonzero_indices = edges_tensor.nonzero()\n",
        "fiveNet_edge = np.array(nonzero_indices).T\n",
        "T = 200\n",
        "N = 5 # number of Nodes\n",
        "E = fiveNet_edge\n",
        "V = np.array([1,2,3,4,5])\n",
        "t = np.arange(0,T)\n",
        "node_features = 1\n",
        "edge_index = torch.tensor(E)\n",
        "edge_attr = torch.tensor(np.array([1,1,1,1,1,1,1,1,1,1]),dtype=torch.float32)"
      ],
      "id": "ba6b8986-e017-4237-b1d1-8637cad55a49"
    },
    {
      "cell_type": "markdown",
      "metadata": {},
      "source": [
        "`-` train / test"
      ],
      "id": "3e956e2e-673e-4b40-85d8-04519659bca9"
    },
    {
      "cell_type": "code",
      "execution_count": 13,
      "metadata": {},
      "outputs": [],
      "source": [
        "fiveVTS_train = fiveVTS[:int(len(fiveVTS)*0.8)]\n",
        "fiveVTS_test = fiveVTS[int(len(fiveVTS)*0.8):]"
      ],
      "id": "cef13f89-df0c-467f-b856-7145f554e428"
    },
    {
      "cell_type": "markdown",
      "metadata": {},
      "source": [
        "# Random Missing Values"
      ],
      "id": "57804a3c-285a-4bfa-a527-a93aad6b34a5"
    },
    {
      "cell_type": "code",
      "execution_count": 14,
      "metadata": {},
      "outputs": [],
      "source": [
        "class Missing:\n",
        "    def __init__(self,df):\n",
        "        self.df = df\n",
        "        self.N = N\n",
        "        self.number = []\n",
        "    def miss(self,percent=0.5):\n",
        "        self.missing = self.df.copy()\n",
        "        self.percent = percent\n",
        "        for i in range(self.N):\n",
        "            #self.seed = np.random.choice(1000,1,replace=False)\n",
        "            #np.random.seed(self.seed)\n",
        "            self.number.append(np.random.choice(int(len(self.df))-1,int(len(self.df)*self.percent),replace=False))\n",
        "            self.missing[self.number[i],i] = float('nan')\n",
        "    def first_mean(self):\n",
        "        self.train_mean = self.missing.copy()\n",
        "        for i in range(self.N):\n",
        "            self.train_mean[self.number[i],i] = np.nanmean(self.missing[:,i])\n",
        "    def second_linear(self):\n",
        "        self.train_linear = pd.DataFrame(self.missing)\n",
        "        self.train_linear.interpolate(method='linear', inplace=True)\n",
        "        self.train_linear = self.train_linear.fillna(0)\n",
        "        self.train_linear = np.array(self.train_linear).reshape(int(len(self.df)),N)"
      ],
      "id": "a9c2d697-7649-4ed0-a0c7-e4b66c4fd45c"
    },
    {
      "cell_type": "markdown",
      "metadata": {},
      "source": [
        "# STGCN\n",
        "\n",
        "-   missing rate: 80%\n",
        "-   보간방법: linear\n",
        "\n",
        "## missing 일정"
      ],
      "id": "251fd412-82a9-4298-8141-9d0889d51c1b"
    },
    {
      "cell_type": "code",
      "execution_count": null,
      "metadata": {},
      "outputs": [],
      "source": [
        "stgcn_train1 = []\n",
        "stgcn_test1 = []\n",
        "\n",
        "_zero = Missing(fiveVTS_train)\n",
        "_zero.miss(percent = 0.8)\n",
        "_zero.second_linear()\n",
        "\n",
        "missing_index = _zero.number\n",
        "interpolated_signal = _zero.train_linear\n",
        "\n",
        "X = torch.tensor(interpolated_signal).reshape(int(T*0.8),N,1).float()[:int(T*0.8-1),:,:]\n",
        "y = torch.tensor(interpolated_signal).reshape(int(T*0.8),N,1).float()[1:,:,:]\n",
        "\n",
        "XX = torch.tensor(fiveVTS_test.reshape(int(T*0.2),N,1)[:-1,:,:]).float()\n",
        "yy = torch.tensor(fiveVTS_test.reshape(int(T*0.2),N,1)[1:,:,:]).float()\n",
        "\n",
        "real_y = torch.tensor(fiveVTS_train).reshape(int(T*0.8),N,1).float()[1:,:,:]"
      ],
      "id": "b6050e14-2f9d-4844-9d16-7d92234820f7"
    },
    {
      "cell_type": "code",
      "execution_count": null,
      "metadata": {
        "tags": []
      },
      "outputs": [],
      "source": [
        "for i in range(100):\n",
        "    net = RecurrentGCN(node_features=1, filters=4)\n",
        "    optimizer = torch.optim.Adam(net.parameters(), lr=0.01)\n",
        "    net.train()\n",
        "    for epoch in range(50):\n",
        "        for time, (xt,yt) in enumerate(zip(X,y)):\n",
        "            yt_hat = net(xt, edge_index, edge_attr)\n",
        "            cost = torch.mean((yt_hat-yt)**2)\n",
        "            cost.backward()\n",
        "            optimizer.step()\n",
        "            optimizer.zero_grad()\n",
        "\n",
        "    yhat = torch.stack([net(xt, edge_index, edge_attr) for xt in X]).detach().numpy()\n",
        "    yyhat = torch.stack([net(xt, edge_index, edge_attr) for xt in XX]).detach().numpy()\n",
        "    \n",
        "    train_mse_total_stgcn = (((real_y-yhat).squeeze())**2).mean()\n",
        "    test_mse_total_stgcn = (((yy-yyhat).squeeze())**2).mean()\n",
        "    \n",
        "    stgcn_train1.append(train_mse_total_stgcn.tolist())\n",
        "    stgcn_test1.append(test_mse_total_stgcn.tolist())"
      ],
      "id": "1f388102-d6b1-4af0-ad0a-ff7028efb8c6"
    },
    {
      "cell_type": "code",
      "execution_count": null,
      "metadata": {},
      "outputs": [
        {
          "output_type": "display_data",
          "metadata": {},
          "data": {
            "image/png": "[encoded data removed]"
          }
        }
      ],
      "source": [
        "plt.figure(figsize=(12, 8))\n",
        "plt.boxplot(stgcn_train1);"
      ],
      "id": "621c92db-973c-4bc5-afa0-f0c2bf382b7a"
    },
    {
      "cell_type": "code",
      "execution_count": null,
      "metadata": {},
      "outputs": [
        {
          "output_type": "display_data",
          "metadata": {},
          "data": {
            "image/png": "[encoded data removed]"
          }
        }
      ],
      "source": [
        "plt.figure(figsize=(12, 8))\n",
        "plt.boxplot(stgcn_test1);"
      ],
      "id": "fe6be1a2-f155-4a95-9afd-dfc59c5249b0"
    },
    {
      "cell_type": "markdown",
      "metadata": {},
      "source": [
        "## missing 다르게"
      ],
      "id": "37befab5-0297-4dc2-a54e-4f6dac85cc6d"
    },
    {
      "cell_type": "code",
      "execution_count": null,
      "metadata": {},
      "outputs": [],
      "source": [
        "stgcn_train2 = []\n",
        "stgcn_test2 = []\n",
        "\n",
        "XX = torch.tensor(fiveVTS_test.reshape(int(T*0.2),N,1)[:-1,:,:]).float()\n",
        "yy = torch.tensor(fiveVTS_test.reshape(int(T*0.2),N,1)[1:,:,:]).float()\n",
        "\n",
        "real_y = torch.tensor(fiveVTS_train).reshape(int(T*0.8),N,1).float()[1:,:,:]"
      ],
      "id": "965266a3-8dc1-496f-8f5a-530d863b1e20"
    },
    {
      "cell_type": "code",
      "execution_count": null,
      "metadata": {
        "tags": []
      },
      "outputs": [],
      "source": [
        "for i in range(100):\n",
        "    \n",
        "    _zero = Missing(fiveVTS_train)\n",
        "    _zero.miss(percent = 0.8)\n",
        "    _zero.second_linear()\n",
        "\n",
        "    missing_index = _zero.number\n",
        "    interpolated_signal = _zero.train_linear\n",
        "\n",
        "\n",
        "    X = torch.tensor(interpolated_signal).reshape(int(T*0.8),N,1).float()[:int(T*0.8-1),:,:]\n",
        "    y = torch.tensor(interpolated_signal).reshape(int(T*0.8),N,1).float()[1:,:,:]\n",
        "\n",
        "    net = RecurrentGCN(node_features=1, filters=4)\n",
        "    optimizer = torch.optim.Adam(net.parameters(), lr=0.01)\n",
        "    net.train()\n",
        "    for epoch in range(50):\n",
        "        for time, (xt,yt) in enumerate(zip(X,y)):\n",
        "            yt_hat = net(xt, edge_index, edge_attr)\n",
        "            cost = torch.mean((yt_hat-yt)**2)\n",
        "            cost.backward()\n",
        "            optimizer.step()\n",
        "            optimizer.zero_grad()\n",
        "\n",
        "    yhat = torch.stack([net(xt, edge_index, edge_attr) for xt in X]).detach().numpy()\n",
        "    yyhat = torch.stack([net(xt, edge_index, edge_attr) for xt in XX]).detach().numpy()\n",
        "    \n",
        "    train_mse_total_stgcn = (((real_y-yhat).squeeze())**2).mean()\n",
        "    test_mse_total_stgcn = (((yy-yyhat).squeeze())**2).mean() \n",
        "    \n",
        "    stgcn_train2.append(train_mse_total_stgcn.tolist())\n",
        "    stgcn_test2.append(test_mse_total_stgcn.tolist())"
      ],
      "id": "44a9bff8-42b1-46de-9dbb-9e4c2d67a981"
    },
    {
      "cell_type": "code",
      "execution_count": null,
      "metadata": {},
      "outputs": [
        {
          "output_type": "display_data",
          "metadata": {},
          "data": {
            "image/png": "[encoded data removed]"
          }
        }
      ],
      "source": [
        "plt.figure(figsize=(12, 8))\n",
        "plt.boxplot(stgcn_train2);"
      ],
      "id": "047fb2cf-5f0c-4e9e-81de-762512f69eee"
    },
    {
      "cell_type": "code",
      "execution_count": null,
      "metadata": {},
      "outputs": [
        {
          "output_type": "display_data",
          "metadata": {},
          "data": {
            "image/png": "[encoded data removed]"
          }
        }
      ],
      "source": [
        "plt.figure(figsize=(12, 8))\n",
        "plt.boxplot(stgcn_test2);"
      ],
      "id": "9ab05cd5-17f3-422c-9ad8-b1f109c28675"
    },
    {
      "cell_type": "markdown",
      "metadata": {},
      "source": [
        "# Enhencement of STGCN\n",
        "\n",
        "-   missing rate: 80%\n",
        "-   보간방법: linear\n",
        "\n",
        "`-` 결측치생성 + 보간\n",
        "\n",
        "## missing 일정"
      ],
      "id": "c77639fd-1908-445e-b19e-b3af28da1ee6"
    },
    {
      "cell_type": "code",
      "execution_count": null,
      "metadata": {},
      "outputs": [],
      "source": [
        "estgcn_train1 = []\n",
        "estgcn_test1 = []\n",
        "\n",
        "_zero = Missing(fiveVTS_train)\n",
        "_zero.miss(percent = 0.8)\n",
        "_zero.second_linear()\n",
        "\n",
        "missing_index = _zero.number\n",
        "interpolated_signal = _zero.train_linear\n",
        "\n",
        "X = torch.tensor(interpolated_signal).reshape(int(T*0.8),N,1).float()[:int(T*0.8-1),:,:]\n",
        "y = torch.tensor(interpolated_signal).reshape(int(T*0.8),N,1).float()[1:,:,:]\n",
        "\n",
        "XX = torch.tensor(fiveVTS_test.reshape(int(T*0.2),N,1)[:-1,:,:]).float()\n",
        "yy = torch.tensor(fiveVTS_test.reshape(int(T*0.2),N,1)[1:,:,:]).float()\n",
        "\n",
        "real_y = torch.tensor(fiveVTS_train).reshape(int(T*0.8),N,1).float()[1:,:,:]"
      ],
      "id": "dccb8a60-2a91-4a09-a0c8-1eadc78a75ce"
    },
    {
      "cell_type": "code",
      "execution_count": null,
      "metadata": {
        "tags": []
      },
      "outputs": [],
      "source": [
        "for i in range(100):\n",
        "    net = RecurrentGCN(node_features=1, filters=4)\n",
        "    optimizer = torch.optim.Adam(net.parameters(), lr=0.01)\n",
        "    net.train()\n",
        "    signal = interpolated_signal.copy()\n",
        "    for epoch in range(50):\n",
        "        signal = update_from_freq_domain(signal,missing_index)\n",
        "        X = torch.tensor(signal).reshape(int(T*0.8),N,1).float()[:int(T*0.8-1),:,:]\n",
        "        y = torch.tensor(signal).reshape(int(T*0.8),N,1).float()[1:,:,:]\n",
        "        for time, (xt,yt) in enumerate(zip(X,y)):        \n",
        "            yt_hat = net(xt, edge_index, edge_attr)\n",
        "            cost = torch.mean((yt_hat-yt)**2)\n",
        "            cost.backward()\n",
        "            optimizer.step()\n",
        "            optimizer.zero_grad()\n",
        "        signal = torch.concat([X.squeeze(),yt_hat.detach().squeeze().reshape(1,-1)])        \n",
        "\n",
        "    yhat = torch.stack([net(xt, edge_index, edge_attr) for xt in X]).detach().numpy()\n",
        "    yyhat = torch.stack([net(xt, edge_index, edge_attr) for xt in XX]).detach().numpy()\n",
        "\n",
        "    train_mse_total_estgcn = (((real_y-yhat).squeeze())**2).mean()\n",
        "    test_mse_total_estgcn = (((yy-yyhat).squeeze())**2).mean()\n",
        "    \n",
        "    estgcn_train1.append(train_mse_total_estgcn.tolist())\n",
        "    estgcn_test1.append(test_mse_total_estgcn.tolist())"
      ],
      "id": "728f07ff-172a-43e2-a44d-2ea3e9734f1d"
    },
    {
      "cell_type": "code",
      "execution_count": null,
      "metadata": {},
      "outputs": [
        {
          "output_type": "display_data",
          "metadata": {},
          "data": {
            "image/png": "[encoded data removed]"
          }
        }
      ],
      "source": [
        "plt.figure(figsize=(12, 8))\n",
        "plt.boxplot(estgcn_train1); "
      ],
      "id": "488bd27d-50ea-4832-ab47-3b985cbecfa9"
    },
    {
      "cell_type": "code",
      "execution_count": null,
      "metadata": {},
      "outputs": [
        {
          "output_type": "display_data",
          "metadata": {},
          "data": {
            "image/png": "[encoded data removed]"
          }
        }
      ],
      "source": [
        "plt.figure(figsize=(12, 8))\n",
        "plt.boxplot(estgcn_test1); "
      ],
      "id": "61476626-1cb9-4f06-9cbe-5b7a1018083e"
    },
    {
      "cell_type": "markdown",
      "metadata": {},
      "source": [
        "## missing 매번 다르게"
      ],
      "id": "40016a40-c682-46c5-bf50-9d7c1b98b4dc"
    },
    {
      "cell_type": "code",
      "execution_count": null,
      "metadata": {},
      "outputs": [],
      "source": [
        "estgcn_train2 = []\n",
        "estgcn_test2 = []\n",
        "\n",
        "XX = torch.tensor(fiveVTS_test.reshape(int(T*0.2),N,1)[:-1,:,:]).float()\n",
        "yy = torch.tensor(fiveVTS_test.reshape(int(T*0.2),N,1)[1:,:,:]).float()\n",
        "\n",
        "real_y = torch.tensor(fiveVTS_train).reshape(int(T*0.8),N,1).float()[1:,:,:]"
      ],
      "id": "04284420-c31e-45f8-9205-d9961933a5b2"
    },
    {
      "cell_type": "code",
      "execution_count": null,
      "metadata": {
        "tags": []
      },
      "outputs": [],
      "source": [
        "for i in range(100):\n",
        "    \n",
        "    _zero = Missing(fiveVTS_train)\n",
        "    _zero.miss(percent = 0.8)\n",
        "    _zero.second_linear()\n",
        "\n",
        "    missing_index = _zero.number\n",
        "    interpolated_signal = _zero.train_linear\n",
        "\n",
        "    X = torch.tensor(interpolated_signal).reshape(int(T*0.8),N,1).float()[:int(T*0.8-1),:,:]\n",
        "    y = torch.tensor(interpolated_signal).reshape(int(T*0.8),N,1).float()[1:,:,:]\n",
        "\n",
        "\n",
        "    net = RecurrentGCN(node_features=1, filters=4)\n",
        "    optimizer = torch.optim.Adam(net.parameters(), lr=0.01)\n",
        "    net.train()\n",
        "    signal = interpolated_signal.copy()\n",
        "    for epoch in range(50):\n",
        "        signal = update_from_freq_domain(signal,missing_index)\n",
        "        X = torch.tensor(signal).reshape(int(T*0.8),N,1).float()[:int(T*0.8-1),:,:]\n",
        "        y = torch.tensor(signal).reshape(int(T*0.8),N,1).float()[1:,:,:]\n",
        "        for time, (xt,yt) in enumerate(zip(X,y)):        \n",
        "            yt_hat = net(xt, edge_index, edge_attr)\n",
        "            cost = torch.mean((yt_hat-yt)**2)\n",
        "            cost.backward()\n",
        "            optimizer.step()\n",
        "            optimizer.zero_grad()\n",
        "        signal = torch.concat([X.squeeze(),yt_hat.detach().squeeze().reshape(1,-1)])               \n",
        "\n",
        "    yhat = torch.stack([net(xt, edge_index, edge_attr) for xt in X]).detach().numpy()\n",
        "    yyhat = torch.stack([net(xt, edge_index, edge_attr) for xt in XX]).detach().numpy()\n",
        "\n",
        "    train_mse_total_estgcn = (((real_y-yhat).squeeze())**2).mean()\n",
        "    test_mse_total_estgcn = (((yy-yyhat).squeeze())**2).mean()\n",
        "    \n",
        "    estgcn_train2.append(train_mse_total_estgcn.tolist())\n",
        "    estgcn_test2.append(test_mse_total_estgcn.tolist())"
      ],
      "id": "03bde09f-c589-4426-897b-976717c82416"
    },
    {
      "cell_type": "code",
      "execution_count": null,
      "metadata": {},
      "outputs": [
        {
          "output_type": "display_data",
          "metadata": {},
          "data": {
            "image/png": "[encoded data removed]"
          }
        }
      ],
      "source": [
        "plt.figure(figsize=(12, 8))\n",
        "plt.boxplot(estgcn_train2);"
      ],
      "id": "2ce491cb-cbd2-4f1e-b72a-b2d76d44a999"
    },
    {
      "cell_type": "code",
      "execution_count": null,
      "metadata": {},
      "outputs": [
        {
          "output_type": "display_data",
          "metadata": {},
          "data": {
            "image/png": "[encoded data removed]"
          }
        }
      ],
      "source": [
        "plt.figure(figsize=(12, 8))\n",
        "plt.boxplot(estgcn_test2);"
      ],
      "id": "8b1a1e17-6ded-4cf7-953c-9bc148ba60fc"
    },
    {
      "cell_type": "markdown",
      "metadata": {},
      "source": [
        "# GNAR"
      ],
      "id": "75fc1b45-f743-41ae-a9fb-0c7f21e4d02f"
    },
    {
      "cell_type": "code",
      "execution_count": 17,
      "metadata": {},
      "outputs": [],
      "source": [
        "%load_ext rpy2.ipython"
      ],
      "id": "8381f21a-b8da-4ed7-befb-a308868ad854"
    },
    {
      "cell_type": "code",
      "execution_count": 18,
      "metadata": {},
      "outputs": [
        {
          "output_type": "stream",
          "name": "stderr",
          "text": [
            "R[write to console]: Loading required package: igraph\n",
            "\n",
            "R[write to console]: \n",
            "Attaching package: ‘igraph’\n",
            "\n",
            "\n",
            "R[write to console]: The following objects are masked from ‘package:stats’:\n",
            "\n",
            "    decompose, spectrum\n",
            "\n",
            "\n",
            "R[write to console]: The following object is masked from ‘package:base’:\n",
            "\n",
            "    union\n",
            "\n",
            "\n",
            "R[write to console]: Loading required package: wordcloud\n",
            "\n",
            "R[write to console]: Loading required package: RColorBrewer\n",
            "\n",
            "R[write to console]: \n",
            "Attaching package: ‘zoo’\n",
            "\n",
            "\n",
            "R[write to console]: The following objects are masked from ‘package:base’:\n",
            "\n",
            "    as.Date, as.Date.numeric\n",
            "\n"
          ]
        }
      ],
      "source": [
        "%%R\n",
        "library(GNAR)\n",
        "library(igraph)\n",
        "library(zoo)"
      ],
      "id": "5b2acf2d-e0ae-4857-99a4-7b9d174fae9b"
    },
    {
      "cell_type": "code",
      "execution_count": 19,
      "metadata": {},
      "outputs": [],
      "source": [
        "%%R\n",
        "fiveNet_m <- as.matrix(fiveNet)"
      ],
      "id": "d054b87d-a1a2-471d-98df-15012606960e"
    },
    {
      "cell_type": "code",
      "execution_count": 20,
      "metadata": {},
      "outputs": [],
      "source": [
        "%R -o fiveNet_m"
      ],
      "id": "b3966f3d-fcc4-4568-a2b1-ba12e653ff3d"
    },
    {
      "cell_type": "code",
      "execution_count": 21,
      "metadata": {},
      "outputs": [],
      "source": [
        "GNAR = importr('GNAR') # import GNAR \n",
        "igraph = importr('igraph') # import igraph "
      ],
      "id": "bd6da55e-9f1a-4e73-b7cc-111ee5c36d75"
    },
    {
      "cell_type": "markdown",
      "metadata": {},
      "source": [
        "## missing 일정"
      ],
      "id": "714c9133-6466-4c29-a062-d89bd1746509"
    },
    {
      "cell_type": "code",
      "execution_count": 22,
      "metadata": {},
      "outputs": [],
      "source": [
        "_zero = Missing(fiveVTS_train)\n",
        "_zero.miss(percent = 0.8)\n",
        "_zero.second_linear()\n",
        "\n",
        "missing_index = _zero.number\n",
        "interpolated_signal = _zero.train_linear\n",
        "\n",
        "X = np.array(torch.tensor(interpolated_signal).reshape(int(T*0.8),N,1).float()[:int(T*0.8-1),:,:].squeeze())\n",
        "y = np.array(torch.tensor(interpolated_signal).reshape(int(T*0.8),N,1).float()[1:,:,:].squeeze())\n",
        "\n",
        "XX = np.array(torch.tensor(fiveVTS_test.reshape(int(T*0.2),N,1)[:-1,:,:]).float().squeeze())\n",
        "yy = np.array(torch.tensor(fiveVTS_test.reshape(int(T*0.2),N,1)[1:,:,:]).float().squeeze())\n",
        "\n",
        "real_y = np.array(torch.tensor(fiveVTS_train).reshape(int(T*0.8),N,1).float()[1:,:,:])"
      ],
      "id": "17a71c71-5c9c-4302-829d-2ae2ff64e7ff"
    },
    {
      "cell_type": "code",
      "execution_count": 23,
      "metadata": {},
      "outputs": [],
      "source": [
        "%R -i X\n",
        "%R -i XX"
      ],
      "id": "ec3271ce-95f3-4f71-86ff-3433b43b1829"
    },
    {
      "cell_type": "code",
      "execution_count": 24,
      "metadata": {},
      "outputs": [],
      "source": [
        "%%R\n",
        "gnar_train1 <- matrix(ncol=1,nrow=100)\n",
        "gnar_test1 <- matrix(ncol=1,nrow=100)\n",
        "for(i in 1:100){\n",
        "  answer <- GNARfit(vts = X, net = fiveNet, alphaOrder = 2, betaOrder = c(1, 1))\n",
        "  prediction <- predict(answer,n.ahead=40)\n",
        "  \n",
        "  train_mse_total_gnar <- mean(residuals(answer)**2)\n",
        "  test_mse_total_gnar <- mean((XX - prediction[1:40])**2)\n",
        "  \n",
        "  gnar_train1[i] <- train_mse_total_gnar\n",
        "  gnar_test1[i] <- train_mse_total_gnar\n",
        "}"
      ],
      "id": "8df94c2c-39b4-40b6-93b6-bf6d6e6f2b73"
    },
    {
      "cell_type": "code",
      "execution_count": 25,
      "metadata": {},
      "outputs": [],
      "source": [
        "%R -o gnar_train1\n",
        "%R -o gnar_test1"
      ],
      "id": "a2dae1bb-2cea-428d-94ce-92c43ff5d459"
    },
    {
      "cell_type": "code",
      "execution_count": null,
      "metadata": {},
      "outputs": [
        {
          "output_type": "display_data",
          "metadata": {},
          "data": {
            "image/png": "[encoded data removed]"
          }
        }
      ],
      "source": [
        "plt.figure(figsize=(12, 8))\n",
        "plt.boxplot(gnar_train1);"
      ],
      "id": "335bdf2b-e7e1-48a8-a481-092b5407feac"
    },
    {
      "cell_type": "code",
      "execution_count": null,
      "metadata": {},
      "outputs": [
        {
          "output_type": "display_data",
          "metadata": {},
          "data": {
            "image/png": "[encoded data removed]"
          }
        }
      ],
      "source": [
        "plt.figure(figsize=(12, 8))\n",
        "plt.boxplot(gnar_test1);"
      ],
      "id": "73229724-aabd-4a94-a77a-6de3c4f3a18b"
    },
    {
      "cell_type": "markdown",
      "metadata": {},
      "source": [
        "## missing 다르게"
      ],
      "id": "5b808e9c-de06-492b-b478-9c10635baf97"
    },
    {
      "cell_type": "code",
      "execution_count": 30,
      "metadata": {},
      "outputs": [
        {
          "output_type": "stream",
          "name": "stdout",
          "text": [
            "     [,1] [,2] [,3] [,4] [,5]\n",
            "[1,]    0    0    0    1    1\n",
            "[2,]    0    0    1    1    0\n",
            "[3,]    0    1    0    1    0\n",
            "[4,]    1    1    1    0    0\n",
            "[5,]    1    0    0    0    0\n"
          ]
        }
      ],
      "source": [
        "m = robjects.r.matrix(FloatVector([0,0,0,1,1,0,0,1,1,0,0,1,0,1,0,1,1,1,0,0,1,0,0,0,0]), nrow = 5, ncol = 5)\n",
        "print(m)"
      ],
      "id": "21df3df3-c37e-428b-bbc3-c54b158ae1be"
    },
    {
      "cell_type": "code",
      "execution_count": 44,
      "metadata": {},
      "outputs": [],
      "source": [
        "gnar_train2 = []\n",
        "gnar_test2 = []\n",
        "\n",
        "yy = torch.tensor(fiveVTS_test.reshape(int(T*0.2),N,1)[1:,:,:]).float()"
      ],
      "id": "d8d45748-acc3-4a01-9c2b-f4b48522730e"
    },
    {
      "cell_type": "code",
      "execution_count": 45,
      "metadata": {
        "tags": []
      },
      "outputs": [],
      "source": [
        "for i in range(100):\n",
        "    \n",
        "    _zero = Missing(fiveVTS_train)\n",
        "    _zero.miss(percent = 0.8)\n",
        "    _zero.second_linear()\n",
        "\n",
        "    missing_index = _zero.number\n",
        "    interpolated_signal = _zero.train_linear\n",
        "\n",
        "    X = torch.tensor(interpolated_signal).reshape(int(T*0.8),N,1).float()[:int(T*0.8-2),:,:]\n",
        "\n",
        "    answer = GNAR.GNARfit(vts=robjects.r.matrix(rpyn.numpy2rpy(np.array(X).squeeze()), nrow = 160, ncol = 5),net = GNAR.matrixtoGNAR(m), alphaOrder = 2, betaOrder = FloatVector([1, 1]))             \n",
        "    predict = GNAR.predict_GNARfit(answer,n_ahead=40)\n",
        "\n",
        "    \n",
        "    train_mse_total_gnar = ((pd.DataFrame(GNAR.residuals_GNARfit(answer)).values.reshape(-1,5))**2).mean()\n",
        "    test_mse_total_gnar = ((yy.squeeze() - pd.DataFrame(predict).values.reshape(-1,5)[:-1,:])**2).mean()\n",
        "    \n",
        "    gnar_train2.append(train_mse_total_gnar.tolist())\n",
        "    gnar_test2.append(test_mse_total_gnar.tolist())"
      ],
      "id": "b3b1a71d-b7bb-428b-be4f-458a2aa1dfbf"
    },
    {
      "cell_type": "code",
      "execution_count": 46,
      "metadata": {},
      "outputs": [
        {
          "output_type": "display_data",
          "metadata": {},
          "data": {
            "image/png": "[encoded data removed]"
          }
        }
      ],
      "source": [
        "plt.figure(figsize=(12, 8))\n",
        "plt.boxplot(gnar_train2);"
      ],
      "id": "d1e41737-e6ec-4ed7-b21f-b48db9cceeab"
    },
    {
      "cell_type": "code",
      "execution_count": null,
      "metadata": {},
      "outputs": [
        {
          "output_type": "display_data",
          "metadata": {},
          "data": {
            "image/png": "[encoded data removed]"
          }
        }
      ],
      "source": [
        "plt.figure(figsize=(12, 8))\n",
        "plt.boxplot(gnar_test2);"
      ],
      "id": "0e1bbeb9-83f1-4f4d-8f15-383f4bb5b913"
    },
    {
      "cell_type": "markdown",
      "metadata": {},
      "source": [
        "# Visualization"
      ],
      "id": "c4cc656f-6f41-42a1-9e31-1476929dc572"
    },
    {
      "cell_type": "code",
      "execution_count": null,
      "metadata": {},
      "outputs": [
        {
          "output_type": "display_data",
          "metadata": {},
          "data": {
            "image/png": "[encoded data removed]"
          }
        }
      ],
      "source": [
        "fig = plt.figure(figsize = (12,10))\n",
        "ax = fig.add_subplot(111)\n",
        "\n",
        "bp1 = ax.boxplot(stgcn_train1, positions=[1], notch=True, widths=0.35, patch_artist=True, boxprops=dict(facecolor=\"C0\"))\n",
        "bp2 = ax.boxplot(estgcn_train1, positions=[2], notch=True, widths=0.35, patch_artist=True, boxprops=dict(facecolor=\"C1\"))\n",
        "bp3 = ax.boxplot(gnar_train1, positions=[3], notch=True, widths=0.35, patch_artist=True, boxprops=dict(facecolor=\"C2\"))\n",
        "ax.legend([bp1[\"boxes\"][0], bp2[\"boxes\"][0], bp3[\"boxes\"][0]], [\"STGCN\", \"ESTGCN\", \"GNAR\"], loc='upper right')\n",
        "ax.legend([bp1[\"boxes\"][0], bp2[\"boxes\"][0]], [\"STGCN\", \"ESTGCN\"], loc='upper right')\n",
        "\n",
        "plt.text(x=0.5, y=0.94, s=\"TRAIN_Fix missing number_80% Missing\", fontsize=25, ha=\"center\", transform=fig.transFigure)\n",
        "fig.tight_layout()\n",
        "plt.show()"
      ],
      "id": "9d46dd8f-fceb-44aa-9752-0970df421059"
    },
    {
      "cell_type": "code",
      "execution_count": null,
      "metadata": {},
      "outputs": [
        {
          "output_type": "display_data",
          "metadata": {},
          "data": {
            "image/png": "[encoded data removed]"
          }
        }
      ],
      "source": [
        "fig = plt.figure(figsize = (12,10))\n",
        "ax = fig.add_subplot(111)\n",
        "\n",
        "bp1 = ax.boxplot(stgcn_test1, positions=[1], notch=True, widths=0.35, patch_artist=True, boxprops=dict(facecolor=\"C0\"))\n",
        "bp2 = ax.boxplot(estgcn_test1, positions=[2], notch=True, widths=0.35, patch_artist=True, boxprops=dict(facecolor=\"C1\"))\n",
        "bp3 = ax.boxplot(gnar_test1, positions=[3], notch=True, widths=0.35, patch_artist=True, boxprops=dict(facecolor=\"C2\"))\n",
        "ax.legend([bp1[\"boxes\"][0], bp2[\"boxes\"][0], bp3[\"boxes\"][0]], [\"STGCN\", \"ESTGCN\", \"GNAR\"], loc='upper right')\n",
        "ax.legend([bp1[\"boxes\"][0], bp2[\"boxes\"][0]], [\"STGCN\", \"ESTGCN\"], loc='upper right')\n",
        "\n",
        "plt.text(x=0.5, y=0.94, s=\"TEST_Fix missing number_80% Missing\", fontsize=25, ha=\"center\", transform=fig.transFigure)\n",
        "fig.tight_layout()\n",
        "plt.show()"
      ],
      "id": "cebb0ab0-33d1-4ff3-9262-59e2ae5822fc"
    },
    {
      "cell_type": "code",
      "execution_count": null,
      "metadata": {},
      "outputs": [
        {
          "output_type": "display_data",
          "metadata": {},
          "data": {
            "image/png": "[encoded data removed]"
          }
        }
      ],
      "source": [
        "fig = plt.figure(figsize = (12,10))\n",
        "ax = fig.add_subplot(111)\n",
        "\n",
        "bp1 = ax.boxplot(stgcn_train2, positions=[1], notch=True, widths=0.35, patch_artist=True, boxprops=dict(facecolor=\"C0\"))\n",
        "bp2 = ax.boxplot(estgcn_train2, positions=[2], notch=True, widths=0.35, patch_artist=True, boxprops=dict(facecolor=\"C1\"))\n",
        "bp3 = ax.boxplot(gnar_train2, positions=[3], notch=True, widths=0.35, patch_artist=True, boxprops=dict(facecolor=\"C2\"))\n",
        "ax.legend([bp1[\"boxes\"][0], bp2[\"boxes\"][0], bp3[\"boxes\"][0]], [\"STGCN\", \"ESTGCN\", \"GNAR\"], loc='upper right')\n",
        "\n",
        "plt.text(x=0.5, y=0.94, s=\"TRAIN_Different missing number_80% Missing\", fontsize=25, ha=\"center\", transform=fig.transFigure)\n",
        "fig.tight_layout()\n",
        "plt.show()"
      ],
      "id": "358e27d2-4780-4349-9742-41b8da0ff144"
    },
    {
      "cell_type": "code",
      "execution_count": null,
      "metadata": {},
      "outputs": [
        {
          "output_type": "display_data",
          "metadata": {},
          "data": {
            "image/png": "[encoded data removed]"
          }
        }
      ],
      "source": [
        "fig = plt.figure(figsize = (12,10))\n",
        "ax = fig.add_subplot(111)\n",
        "\n",
        "bp1 = ax.boxplot(stgcn_test2, positions=[1], notch=True, widths=0.35, patch_artist=True, boxprops=dict(facecolor=\"C0\"))\n",
        "bp2 = ax.boxplot(estgcn_test2, positions=[2], notch=True, widths=0.35, patch_artist=True, boxprops=dict(facecolor=\"C1\"))\n",
        "bp3 = ax.boxplot(gnar_test2, positions=[3], notch=True, widths=0.35, patch_artist=True, boxprops=dict(facecolor=\"C2\"))\n",
        "ax.legend([bp1[\"boxes\"][0], bp2[\"boxes\"][0], bp3[\"boxes\"][0]], [\"STGCN\", \"ESTGCN\", \"GNAR\"], loc='upper right')\n",
        "\n",
        "plt.text(x=0.5, y=0.94, s=\"TEST_Different missing number_80% Missing\", fontsize=25, ha=\"center\", transform=fig.transFigure)\n",
        "fig.tight_layout()\n",
        "plt.show()"
      ],
      "id": "a1e8c594-4d3d-47fe-b5f3-746248551853"
    }
  ],
  "nbformat": 4,
  "nbformat_minor": 5,
  "metadata": {
    "kernelspec": {
      "name": "python3",
      "display_name": "Python 3 (ipykernel)",
      "language": "python"
    },
    "language_info": {
      "name": "python",
      "codemirror_mode": {
        "name": "ipython",
        "version": "3"
      },
      "file_extension": ".py",
      "mimetype": "text/x-python",
      "nbconvert_exporter": "python",
      "pygments_lexer": "ipython3",
      "version": "3.8.12"
    },
    "toc-showcode": false
  }
}
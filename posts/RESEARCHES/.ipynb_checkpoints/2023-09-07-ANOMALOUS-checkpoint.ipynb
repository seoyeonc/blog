{
 "cells": [
  {
   "cell_type": "raw",
   "id": "1934ef7b-8352-4030-a98d-ecc9a76ed224",
   "metadata": {
    "id": "cac470df-29e7-4148-9bbd-d8b9a32fa570",
    "tags": []
   },
   "source": [
    "---\n",
    "title: \"**[ANOMALOUS]**Graph\"\n",
    "author: \"SEOYEON CHOI\"\n",
    "date: \"2023-09-07\"\n",
    "---"
   ]
  },
  {
   "cell_type": "markdown",
   "id": "0790d7e7-5cd5-4d0c-abaa-244f1e67a87e",
   "metadata": {},
   "source": [
    "# Reference"
   ]
  },
  {
   "cell_type": "markdown",
   "id": "efb6b603-b8fb-40fe-bd6b-c2190f63cbc9",
   "metadata": {},
   "source": [
    "[공식홈](https://docs.pygod.org/en/latest/generated/pygod.detector.ANOMALOUS.html)"
   ]
  },
  {
   "cell_type": "markdown",
   "id": "2e5c2ce2-1b56-4ba7-9596-2d44c9ce7d47",
   "metadata": {},
   "source": [
    "[paper](https://www.ijcai.org/Proceedings/2018/0488.pdf)"
   ]
  },
  {
   "cell_type": "markdown",
   "id": "06aa2616-755a-4c12-b507-0a4171153ef7",
   "metadata": {},
   "source": [
    "[교수님께서 알려주신 사이트](https://pycaret.gitbook.io/docs/get-started/quickstart#anomaly-detection)"
   ]
  },
  {
   "cell_type": "markdown",
   "id": "bc8445d2-308d-4652-b05f-4474ac088bc7",
   "metadata": {},
   "source": [
    "`Summary`\n",
    "\n",
    "- 노드당 매핑된 attribute로 이상치를 계산해낸다.\n",
    "- 그래서 attribute 특징마다 나오는 이상치라고 칭하는 노드가 다른 것 같다.\n",
    "- 노드 정보와 네트워크를 기반으로 rare하거나 상당히 differ한 인스턴스 집합 찾는 것을 목표로 한다."
   ]
  },
  {
   "cell_type": "markdown",
   "id": "d7b3645e-b292-438e-8fd0-e93c09f2f233",
   "metadata": {},
   "source": [
    "[데이터셋 논문](https://arxiv.org/pdf/1603.08861.pdf)"
   ]
  },
  {
   "cell_type": "markdown",
   "id": "69249c97-8c1e-4a89-b2df-4e254495df6c",
   "metadata": {},
   "source": [
    "# Import"
   ]
  },
  {
   "cell_type": "code",
   "execution_count": 1,
   "id": "87e45f07-3c6b-48d0-961b-f4b290b669a0",
   "metadata": {},
   "outputs": [
    {
     "name": "stderr",
     "output_type": "stream",
     "text": [
      "/home/csy/anaconda3/envs/temp_csy/lib/python3.8/site-packages/tqdm/auto.py:22: TqdmWarning: IProgress not found. Please update jupyter and ipywidgets. See https://ipywidgets.readthedocs.io/en/stable/user_install.html\n",
      "  from .autonotebook import tqdm as notebook_tqdm\n"
     ]
    }
   ],
   "source": [
    "import pygod\n",
    "import numpy as np\n",
    "import torch_geometric.transforms as T\n",
    "from torch_geometric.datasets import Planetoid\n",
    "\n",
    "import torch\n",
    "from pygod.generator import gen_contextual_outlier, gen_structural_outlier\n",
    "\n",
    "from pygod.utils import load_data\n",
    "\n",
    "from pygod.metric import eval_roc_auc\n",
    "\n",
    "from pygod.detector import ANOMALOUS"
   ]
  },
  {
   "cell_type": "markdown",
   "id": "9f2f4d5a-f6fd-44b4-888c-6eeb157c38a5",
   "metadata": {},
   "source": [
    "# Tutorial"
   ]
  },
  {
   "cell_type": "markdown",
   "id": "03bcffcb-1998-419e-92f2-1b98eb020389",
   "metadata": {},
   "source": [
    "## CiteSeer Dataset"
   ]
  },
  {
   "cell_type": "code",
   "execution_count": 68,
   "id": "2942b1ea-4c11-4f31-ab95-68ec618a993a",
   "metadata": {},
   "outputs": [],
   "source": [
    "data = Planetoid('./data/CiteSeer', 'CiteSeer', transform=T.NormalizeFeatures())[0]"
   ]
  },
  {
   "cell_type": "code",
   "execution_count": 69,
   "id": "cd198673-2875-44f7-9fd0-0349470b3142",
   "metadata": {},
   "outputs": [
    {
     "data": {
      "text/plain": [
       "Data(x=[3327, 3703], edge_index=[2, 9104], y=[3327], train_mask=[3327], val_mask=[3327], test_mask=[3327])"
      ]
     },
     "execution_count": 69,
     "metadata": {},
     "output_type": "execute_result"
    }
   ],
   "source": [
    "data"
   ]
  },
  {
   "cell_type": "markdown",
   "id": "edadd2ff-c9a2-4c7a-b5c9-07ec557d6035",
   "metadata": {},
   "source": [
    "`gen_contextual_outlier`의 역할: Generating contextual outliers\n",
    "\n",
    "- 임의로 선택한 노드 중 그 노드들끼리 얼마나 떨어져 있나?"
   ]
  },
  {
   "cell_type": "code",
   "execution_count": 70,
   "id": "3cce0873-8fa0-4cf9-b2a1-5e42fe004692",
   "metadata": {},
   "outputs": [],
   "source": [
    "data, ya = gen_contextual_outlier(data, n=100, k=50)"
   ]
  },
  {
   "cell_type": "code",
   "execution_count": 71,
   "id": "3a565e1e-29f2-42c6-b8a6-9720dadbe4ea",
   "metadata": {},
   "outputs": [
    {
     "data": {
      "text/plain": [
       "tensor([0, 0, 0,  ..., 0, 0, 0])"
      ]
     },
     "execution_count": 71,
     "metadata": {},
     "output_type": "execute_result"
    }
   ],
   "source": [
    "ya"
   ]
  },
  {
   "cell_type": "code",
   "execution_count": 72,
   "id": "5ccae2fc-f84a-499b-a6b7-72c05b1f1705",
   "metadata": {},
   "outputs": [
    {
     "data": {
      "text/plain": [
       "100"
      ]
     },
     "execution_count": 72,
     "metadata": {},
     "output_type": "execute_result"
    }
   ],
   "source": [
    "len(sum(np.where(ya==1)))"
   ]
  },
  {
   "cell_type": "code",
   "execution_count": 73,
   "id": "a4e73824-4cb2-4e69-8f59-b1797d12526a",
   "metadata": {},
   "outputs": [
    {
     "data": {
      "text/plain": [
       "3227"
      ]
     },
     "execution_count": 73,
     "metadata": {},
     "output_type": "execute_result"
    }
   ],
   "source": [
    "len(sum(np.where(ya==0)))"
   ]
  },
  {
   "cell_type": "code",
   "execution_count": 74,
   "id": "148259e2-4eb2-42c1-8534-036713b54b75",
   "metadata": {},
   "outputs": [
    {
     "data": {
      "text/plain": [
       "3327"
      ]
     },
     "execution_count": 74,
     "metadata": {},
     "output_type": "execute_result"
    }
   ],
   "source": [
    "len(ya)"
   ]
  },
  {
   "cell_type": "markdown",
   "id": "f0f12bca-3934-4880-a762-a90fb2cb32f4",
   "metadata": {},
   "source": [
    "`gen_structural_outlier`의 역할: Generating structural outliers\n",
    "\n",
    "- 임의로 선택한 노드들이 fully connected 되어있을때 그 집단과 얼마나 많이 다른가??"
   ]
  },
  {
   "cell_type": "code",
   "execution_count": 75,
   "id": "9a871f24-4f1e-4d56-bea5-84909fd6555c",
   "metadata": {},
   "outputs": [],
   "source": [
    "data, ys = gen_structural_outlier(data, m=10, n=10)"
   ]
  },
  {
   "cell_type": "code",
   "execution_count": 76,
   "id": "a596bef8-f137-42a8-914f-5841f26a1008",
   "metadata": {},
   "outputs": [
    {
     "data": {
      "text/plain": [
       "tensor([0, 1, 0,  ..., 0, 0, 0])"
      ]
     },
     "execution_count": 76,
     "metadata": {},
     "output_type": "execute_result"
    }
   ],
   "source": [
    "ys"
   ]
  },
  {
   "cell_type": "code",
   "execution_count": 77,
   "id": "6bae7c81-251f-4ad4-ae8e-e0989f4e9624",
   "metadata": {},
   "outputs": [
    {
     "data": {
      "text/plain": [
       "100"
      ]
     },
     "execution_count": 77,
     "metadata": {},
     "output_type": "execute_result"
    }
   ],
   "source": [
    "len(sum(np.where(ys==1)))"
   ]
  },
  {
   "cell_type": "code",
   "execution_count": 78,
   "id": "b8615c84-042d-475e-969c-a1b088be0af2",
   "metadata": {},
   "outputs": [
    {
     "data": {
      "text/plain": [
       "3227"
      ]
     },
     "execution_count": 78,
     "metadata": {},
     "output_type": "execute_result"
    }
   ],
   "source": [
    "len(sum(np.where(ys==0)))"
   ]
  },
  {
   "cell_type": "code",
   "execution_count": 79,
   "id": "27603dd1-0483-4bf4-b5ea-7213739cdac7",
   "metadata": {},
   "outputs": [
    {
     "data": {
      "text/plain": [
       "3327"
      ]
     },
     "execution_count": 79,
     "metadata": {},
     "output_type": "execute_result"
    }
   ],
   "source": [
    "len(ys)"
   ]
  },
  {
   "cell_type": "markdown",
   "id": "d4fe44ea-bf91-4d11-a69b-66ad7ecc9382",
   "metadata": {},
   "source": [
    "위에서 찾은 이상치 간에 `torch.logical_or` 논리 or 생성"
   ]
  },
  {
   "cell_type": "code",
   "execution_count": 80,
   "id": "433cc066-3411-4f11-a496-fbbdbc53f6fc",
   "metadata": {},
   "outputs": [],
   "source": [
    "data.y = torch.logical_or(ys, ya).long()"
   ]
  },
  {
   "cell_type": "code",
   "execution_count": 81,
   "id": "0f55703c-1e46-4245-9f35-06c4c941de8c",
   "metadata": {},
   "outputs": [
    {
     "data": {
      "text/plain": [
       "tensor([0, 1, 0,  ..., 0, 0, 0])"
      ]
     },
     "execution_count": 81,
     "metadata": {},
     "output_type": "execute_result"
    }
   ],
   "source": [
    "data.y"
   ]
  },
  {
   "cell_type": "code",
   "execution_count": 82,
   "id": "65501742-651e-473a-99ba-88ef576d5268",
   "metadata": {},
   "outputs": [
    {
     "data": {
      "text/plain": [
       "196"
      ]
     },
     "execution_count": 82,
     "metadata": {},
     "output_type": "execute_result"
    }
   ],
   "source": [
    "len(sum(np.where(data.y==1)))"
   ]
  },
  {
   "cell_type": "code",
   "execution_count": 83,
   "id": "3b26863d-620b-452f-bb59-0672f02e1a6d",
   "metadata": {},
   "outputs": [
    {
     "data": {
      "text/plain": [
       "3131"
      ]
     },
     "execution_count": 83,
     "metadata": {},
     "output_type": "execute_result"
    }
   ],
   "source": [
    "len(sum(np.where(data.y==0)))"
   ]
  },
  {
   "cell_type": "code",
   "execution_count": 84,
   "id": "e07f564e-ff9a-4c74-a40e-361566a60db8",
   "metadata": {},
   "outputs": [
    {
     "data": {
      "text/plain": [
       "3327"
      ]
     },
     "execution_count": 84,
     "metadata": {},
     "output_type": "execute_result"
    }
   ],
   "source": [
    "len(data.y)"
   ]
  },
  {
   "cell_type": "code",
   "execution_count": 85,
   "id": "e38696a2-5d8d-4b74-875c-501ecb4ada30",
   "metadata": {},
   "outputs": [],
   "source": [
    "data = load_data('inj_cora')\n",
    "data.y = data.y.bool()"
   ]
  },
  {
   "cell_type": "code",
   "execution_count": 86,
   "id": "2b11c805-0097-4e0d-b943-545e073b5480",
   "metadata": {},
   "outputs": [
    {
     "data": {
      "text/plain": [
       "tensor([False, False, False,  ..., False, False, False])"
      ]
     },
     "execution_count": 86,
     "metadata": {},
     "output_type": "execute_result"
    }
   ],
   "source": [
    "data.y"
   ]
  },
  {
   "cell_type": "markdown",
   "id": "7d11e599-d0d3-41fa-9fb7-a70f6b1d1ee8",
   "metadata": {},
   "source": [
    "`self.bool` 로 참인지 거짓인지 가릴 수 있다.\n",
    "\n",
    "- 여기서는 참이면 이상치인듯"
   ]
  },
  {
   "cell_type": "markdown",
   "id": "622d6831-ec7d-44d2-94fa-ee6caaf1d612",
   "metadata": {},
   "source": [
    "'ANOMALOUS' 함수 사용"
   ]
  },
  {
   "cell_type": "code",
   "execution_count": 87,
   "id": "4e84ff3a-518c-40fe-bb6b-63a91efe5ef5",
   "metadata": {},
   "outputs": [],
   "source": [
    "detector = ANOMALOUS(gamma=1.,\n",
    "                     weight_decay=0.,\n",
    "                     lr=0.01,\n",
    "                     epoch=50,\n",
    "                     gpu=-1,\n",
    "                     contamination=0.1,\n",
    "                     verbose=0)"
   ]
  },
  {
   "cell_type": "code",
   "execution_count": 88,
   "id": "779ac84b-41ac-49f2-be04-2c33d29698b8",
   "metadata": {},
   "outputs": [
    {
     "data": {
      "text/plain": [
       "ANOMALOUS(contamination=0.1, epoch=50, gamma=1.0, gpu=None, lr=0.01,\n",
       "          verbose=0, weight_decay=0.0)"
      ]
     },
     "execution_count": 88,
     "metadata": {},
     "output_type": "execute_result"
    }
   ],
   "source": [
    "detector.fit(data)"
   ]
  },
  {
   "cell_type": "markdown",
   "id": "9fec647e-9e24-4c6b-9081-acbc428e1843",
   "metadata": {},
   "source": [
    "```python\n",
    "class ANOMALOUSBase(nn.Module):\n",
    "    def __init__(self, w, r):\n",
    "        super(ANOMALOUSBase, self).__init__()\n",
    "        self.w = nn.Parameter(w)\n",
    "        self.r = nn.Parameter(r)\n",
    "\n",
    "    def forward(self, x):\n",
    "        return x @ self.w @ x, self.r\n",
    "```"
   ]
  },
  {
   "cell_type": "code",
   "execution_count": 89,
   "id": "9aed2ee9-9a64-420b-bf22-b9405855fc4e",
   "metadata": {},
   "outputs": [
    {
     "name": "stderr",
     "output_type": "stream",
     "text": [
      "/home/csy/anaconda3/envs/temp_csy/lib/python3.8/site-packages/pygod/detector/anomalous.py:111: UserWarning: This detector is transductive only. Training from scratch with the input data.\n",
      "  warnings.warn(\"This detector is transductive only. \"\n"
     ]
    },
    {
     "data": {
      "text/plain": [
       "tensor([0.0754, 0.0740, 0.0731,  ..., 0.0788, 0.0767, 0.0741])"
      ]
     },
     "execution_count": 89,
     "metadata": {},
     "output_type": "execute_result"
    }
   ],
   "source": [
    "detector.decision_function(data)"
   ]
  },
  {
   "cell_type": "markdown",
   "id": "800043fb-d7f2-4fb6-a285-b3e4bd733156",
   "metadata": {},
   "source": [
    "위에서 decision_function의 결과로 나오는 decision_score는 r의 제곱이며, 이 r은 model에서 나온 결과인데 이 model은 ANOMALOUSBase(w_init, r_init)의 결과이다.\n",
    "\n",
    "이 r_init은 ANOMALOUS class 내에 있는 x, s, l, w_init, r_init = self.process_graph(data) 여기서 나온다."
   ]
  },
  {
   "cell_type": "markdown",
   "id": "9c645a36-a636-446e-9067-ccbfd175a77f",
   "metadata": {},
   "source": [
    "`-` return되는 거는 순서대로 x, s, laplacian, w_init, r_init"
   ]
  },
  {
   "cell_type": "markdown",
   "id": "7b61a3aa-5b78-40fa-a0e0-bda6d153273a",
   "metadata": {},
   "source": [
    "`x`"
   ]
  },
  {
   "cell_type": "code",
   "execution_count": 90,
   "id": "091e98ad-bcaa-434b-9d9c-de3f6969a9f3",
   "metadata": {},
   "outputs": [
    {
     "data": {
      "text/plain": [
       "tensor([[0., 0., 0.,  ..., 0., 0., 0.],\n",
       "        [0., 0., 0.,  ..., 0., 0., 0.],\n",
       "        [0., 0., 0.,  ..., 0., 0., 0.],\n",
       "        ...,\n",
       "        [0., 0., 0.,  ..., 0., 0., 0.],\n",
       "        [0., 0., 0.,  ..., 0., 0., 0.],\n",
       "        [0., 0., 0.,  ..., 0., 0., 0.]])"
      ]
     },
     "execution_count": 90,
     "metadata": {},
     "output_type": "execute_result"
    }
   ],
   "source": [
    "detector.process_graph(data)[0]"
   ]
  },
  {
   "cell_type": "code",
   "execution_count": 91,
   "id": "167e6ea7-52fd-4119-af83-e2d5c86ecbbb",
   "metadata": {},
   "outputs": [
    {
     "data": {
      "text/plain": [
       "torch.Size([2708, 1433])"
      ]
     },
     "execution_count": 91,
     "metadata": {},
     "output_type": "execute_result"
    }
   ],
   "source": [
    "detector.process_graph(data)[0].shape"
   ]
  },
  {
   "cell_type": "markdown",
   "id": "58b5d2f5-5e8c-403c-98cb-4a3dfe815c29",
   "metadata": {},
   "source": [
    "$X \\in \\mathbb{R}^{d \\times n}$"
   ]
  },
  {
   "cell_type": "markdown",
   "id": "ed1e97b0-c13d-4f73-9d1d-70819f496c93",
   "metadata": {},
   "source": [
    "2708 = `n` = the number of nodes\n",
    "\n",
    "1433 = `d` = dimensiotnalattribute"
   ]
  },
  {
   "cell_type": "markdown",
   "id": "130930c3-c9f2-45d4-892e-8a8f0ccd4967",
   "metadata": {},
   "source": [
    "`s`"
   ]
  },
  {
   "cell_type": "code",
   "execution_count": 92,
   "id": "ddb81d8d-89a0-4472-9cdc-1175b8be9dba",
   "metadata": {},
   "outputs": [
    {
     "data": {
      "text/plain": [
       "tensor([[0., 0., 0.,  ..., 0., 0., 0.],\n",
       "        [0., 0., 1.,  ..., 0., 0., 0.],\n",
       "        [0., 1., 0.,  ..., 0., 0., 0.],\n",
       "        ...,\n",
       "        [0., 0., 0.,  ..., 0., 0., 0.],\n",
       "        [0., 0., 0.,  ..., 0., 0., 1.],\n",
       "        [0., 0., 0.,  ..., 0., 1., 0.]])"
      ]
     },
     "execution_count": 92,
     "metadata": {},
     "output_type": "execute_result"
    }
   ],
   "source": [
    "detector.process_graph(data)[1]"
   ]
  },
  {
   "cell_type": "code",
   "execution_count": 93,
   "id": "f531a45e-aaa4-4c15-99f1-5a390c00e7bf",
   "metadata": {},
   "outputs": [
    {
     "data": {
      "text/plain": [
       "torch.Size([2708, 2708])"
      ]
     },
     "execution_count": 93,
     "metadata": {},
     "output_type": "execute_result"
    }
   ],
   "source": [
    "detector.process_graph(data)[1].shape"
   ]
  },
  {
   "cell_type": "markdown",
   "id": "19ea853d-985c-4b68-8f5b-7755866376cb",
   "metadata": {},
   "source": [
    "$A \\in \\mathbb{R}^{n \\times n}$"
   ]
  },
  {
   "cell_type": "markdown",
   "id": "c8ef6caa-b744-4080-a068-8db7edc94ab1",
   "metadata": {},
   "source": [
    "`laplacian`"
   ]
  },
  {
   "cell_type": "code",
   "execution_count": 94,
   "id": "e58f32eb-6b2a-46a6-91ad-19d9553f0622",
   "metadata": {},
   "outputs": [
    {
     "data": {
      "text/plain": [
       "tensor([[ 3.,  0.,  0.,  ...,  0.,  0.,  0.],\n",
       "        [ 0.,  3., -1.,  ...,  0.,  0.,  0.],\n",
       "        [ 0., -1.,  5.,  ...,  0.,  0.,  0.],\n",
       "        ...,\n",
       "        [ 0.,  0.,  0.,  ...,  1.,  0.,  0.],\n",
       "        [ 0.,  0.,  0.,  ...,  0.,  4., -1.],\n",
       "        [ 0.,  0.,  0.,  ...,  0., -1.,  4.]])"
      ]
     },
     "execution_count": 94,
     "metadata": {},
     "output_type": "execute_result"
    }
   ],
   "source": [
    "detector.process_graph(data)[2]"
   ]
  },
  {
   "cell_type": "code",
   "execution_count": 95,
   "id": "25e84ae3-27b2-4211-9e32-9feb7becc38a",
   "metadata": {},
   "outputs": [
    {
     "data": {
      "text/plain": [
       "torch.Size([2708, 2708])"
      ]
     },
     "execution_count": 95,
     "metadata": {},
     "output_type": "execute_result"
    }
   ],
   "source": [
    "detector.process_graph(data)[2].shape"
   ]
  },
  {
   "cell_type": "markdown",
   "id": "bd7f89ab-fd14-4644-a79f-e2fcc42ba853",
   "metadata": {},
   "source": [
    "`generated Laplacian`"
   ]
  },
  {
   "cell_type": "markdown",
   "id": "852994bb-db48-44cf-b7cd-9888da3f5387",
   "metadata": {},
   "source": [
    "$\\tilde{R} L \\tilde{R}^T$"
   ]
  },
  {
   "cell_type": "markdown",
   "id": "da0e997f-732e-4716-8bf6-2abb8ff889d9",
   "metadata": {},
   "source": [
    "`w_init`"
   ]
  },
  {
   "cell_type": "code",
   "execution_count": 96,
   "id": "23d97e3d-bd94-435b-ad47-fc8674363726",
   "metadata": {},
   "outputs": [
    {
     "data": {
      "text/plain": [
       "tensor([[ 2.0754,  1.2338,  0.9617,  ...,  2.6156, -1.0217,  1.8668],\n",
       "        [ 1.4610, -0.8811,  1.3313,  ..., -0.2908,  1.3030,  0.0659],\n",
       "        [ 0.3992,  2.1653, -0.8973,  ...,  2.0430, -2.0153, -1.2801],\n",
       "        ...,\n",
       "        [ 0.7717, -0.0710,  0.6834,  ...,  0.2379, -0.1838, -0.1985],\n",
       "        [-1.5314,  1.1365,  0.4966,  ...,  1.5934, -0.5084,  0.1991],\n",
       "        [ 0.1556,  0.3437,  0.3008,  ...,  0.4034,  0.5208, -0.8790]])"
      ]
     },
     "execution_count": 96,
     "metadata": {},
     "output_type": "execute_result"
    }
   ],
   "source": [
    "detector.process_graph(data)[3]"
   ]
  },
  {
   "cell_type": "code",
   "execution_count": 97,
   "id": "56896f1c-2b26-42e3-b4ba-5d69240e14fb",
   "metadata": {},
   "outputs": [
    {
     "data": {
      "text/plain": [
       "torch.Size([1433, 2708])"
      ]
     },
     "execution_count": 97,
     "metadata": {},
     "output_type": "execute_result"
    }
   ],
   "source": [
    "detector.process_graph(data)[3].shape"
   ]
  },
  {
   "cell_type": "markdown",
   "id": "536a98ac-0793-4ce8-bb7d-ab7d12dd7f56",
   "metadata": {},
   "source": [
    "`r_init`"
   ]
  },
  {
   "cell_type": "code",
   "execution_count": 98,
   "id": "89abc9c8-ab2a-49eb-8486-e0d89859635e",
   "metadata": {},
   "outputs": [
    {
     "data": {
      "text/plain": [
       "tensor([[1.1096e-04, 1.9785e-04, 4.0764e-04,  ..., 1.8104e-05, 6.9121e-03,\n",
       "         1.5390e-04],\n",
       "        [1.8015e-05, 4.5550e-05, 1.5299e-04,  ..., 1.6462e-05, 8.0427e-03,\n",
       "         4.3956e-05],\n",
       "        [3.6342e-05, 1.1395e-04, 3.9942e-04,  ..., 3.5643e-05, 1.8391e-03,\n",
       "         6.1595e-05],\n",
       "        ...,\n",
       "        [5.4851e-05, 1.2452e-04, 5.3171e-04,  ..., 1.6553e-05, 2.3374e-04,\n",
       "         2.9871e-05],\n",
       "        [2.3802e-04, 1.3623e-04, 5.8658e-04,  ..., 2.2358e-05, 1.6297e-04,\n",
       "         4.2289e-04],\n",
       "        [3.6244e-04, 1.9283e-04, 8.4447e-04,  ..., 3.0226e-05, 2.3002e-04,\n",
       "         6.4480e-04]])"
      ]
     },
     "execution_count": 98,
     "metadata": {},
     "output_type": "execute_result"
    }
   ],
   "source": [
    "detector.process_graph(data)[4]"
   ]
  },
  {
   "cell_type": "code",
   "execution_count": 99,
   "id": "91ec4b8f-dc2f-4e4b-bb82-f6b3e23e65af",
   "metadata": {},
   "outputs": [
    {
     "data": {
      "text/plain": [
       "torch.Size([2708, 1433])"
      ]
     },
     "execution_count": 99,
     "metadata": {},
     "output_type": "execute_result"
    }
   ],
   "source": [
    "detector.process_graph(data)[4].shape"
   ]
  },
  {
   "cell_type": "code",
   "execution_count": null,
   "id": "da8876fe-1f00-48d0-9eca-e468a88094d1",
   "metadata": {},
   "outputs": [],
   "source": []
  },
  {
   "cell_type": "code",
   "execution_count": null,
   "id": "fc0bff05-cce6-4757-93d7-385acb49081a",
   "metadata": {},
   "outputs": [],
   "source": []
  }
 ],
 "metadata": {
  "kernelspec": {
   "display_name": "Python 3",
   "language": "python",
   "name": "python3"
  },
  "language_info": {
   "codemirror_mode": {
    "name": "ipython",
    "version": 3
   },
   "file_extension": ".py",
   "mimetype": "text/x-python",
   "name": "python",
   "nbconvert_exporter": "python",
   "pygments_lexer": "ipython3",
   "version": "3.8.0"
  }
 },
 "nbformat": 4,
 "nbformat_minor": 5
}

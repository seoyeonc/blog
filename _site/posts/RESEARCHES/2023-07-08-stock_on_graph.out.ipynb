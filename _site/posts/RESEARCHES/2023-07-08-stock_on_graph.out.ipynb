{
  "cells": [
    {
      "cell_type": "markdown",
      "metadata": {},
      "source": [
        "# Stock on Graph\n",
        "\n",
        "SEOYEON CHOI  \n",
        "7/8/23\n",
        "\n",
        "# Import"
      ],
      "id": "c3352acd-3c93-4c8c-a2d1-4687019634f0"
    },
    {
      "cell_type": "code",
      "execution_count": 1,
      "metadata": {},
      "outputs": [],
      "source": [
        "import tqdm\n",
        "import numpy as np\n",
        "import pandas as pd\n",
        "import matplotlib.pyplot as plt \n",
        "import plotly.express as px\n",
        "import warnings\n",
        "warnings.simplefilter(\"ignore\", np.ComplexWarning)\n",
        "from haversine import haversine\n",
        "from IPython.display import HTML\n",
        "import plotly.graph_objects as go"
      ],
      "id": "3db3e22a-7dfe-466b-b231-43b42032811a"
    },
    {
      "cell_type": "code",
      "execution_count": 2,
      "metadata": {},
      "outputs": [],
      "source": [
        "import rpy2\n",
        "import rpy2.robjects as ro \n",
        "from rpy2.robjects.vectors import FloatVector \n",
        "from rpy2.robjects.packages import importr"
      ],
      "id": "97f6df56-6789-4a53-8e07-e9d0c1037cc9"
    },
    {
      "cell_type": "markdown",
      "metadata": {},
      "source": [
        "# Data intro(2020\\~2022)\n",
        "\n",
        "## Korea"
      ],
      "id": "81f8af9f-adb1-4e41-b4db-9ec965acb773"
    },
    {
      "cell_type": "code",
      "execution_count": 3,
      "metadata": {},
      "outputs": [],
      "source": [
        "df_korea = pd.read_csv('./dataset/korea_kospi.csv')"
      ],
      "id": "e5ab9212-2418-407a-879c-ac86ce29bf42"
    },
    {
      "cell_type": "code",
      "execution_count": 4,
      "metadata": {},
      "outputs": [],
      "source": [
        "df_korea = pd.concat([df_korea,pd.DataFrame({'Country': \"Korea\",\n",
        "                                             'Value':(df_korea['Close'] - df_korea['Close'].mean())/df_korea['Close'].std()})],axis=1)\n"
      ],
      "id": "022534ed-7c0c-45a9-9e4c-900db8fd07fe"
    },
    {
      "cell_type": "code",
      "execution_count": 5,
      "metadata": {},
      "outputs": [],
      "source": [
        "df_korea_add = df_korea.assign(Year = list(map(lambda x: x.split('-')[0],df_korea['Date'])),\\\n",
        "                                    Mon = list(map(lambda x: x.split('-')[1],df_korea['Date'])),\\\n",
        "                                    Day = list(map(lambda x: x.split('-')[2],df_korea['Date'])))"
      ],
      "id": "fafd416e-bc72-4940-a7e2-4572204023c4"
    },
    {
      "cell_type": "code",
      "execution_count": 6,
      "metadata": {},
      "outputs": [],
      "source": [
        "df_korea_add.Year = df_korea_add.Year.astype(np.float64)\n",
        "df_korea_add.Mon = df_korea_add.Mon.astype(np.float64)\n",
        "df_korea_add.Day = df_korea_add.Day.astype(np.float64)"
      ],
      "id": "6b4438bd-8f1d-44c4-aabe-eed6f84278b6"
    },
    {
      "cell_type": "code",
      "execution_count": 7,
      "metadata": {},
      "outputs": [],
      "source": [
        "df_korea_covid = df_korea_add.query(\"Year>=2020 and Year <= 2022\");df_korea_covid"
      ],
      "id": "72927326-a2a1-4950-b002-baae4905ea37"
    },
    {
      "cell_type": "code",
      "execution_count": 8,
      "metadata": {},
      "outputs": [],
      "source": [
        "# plt.figure(figsize=(30, 8)) \n",
        "# plt.title('Korea (close)')\n",
        "# plt.xticks(rotation=45) \n",
        "# plt.plot(df_korea_covid['Date'], df_korea_covid['Close'], 'co-')\n",
        "# plt.grid(color='gray', linestyle='--')"
      ],
      "id": "9368da5e-a9b1-4643-891e-9d47d7630273"
    },
    {
      "cell_type": "markdown",
      "metadata": {},
      "source": [
        "## US"
      ],
      "id": "aad956b7-630c-485b-9087-a33ab2ad431e"
    },
    {
      "cell_type": "code",
      "execution_count": 9,
      "metadata": {},
      "outputs": [],
      "source": [
        "df_us = pd.read_csv('./dataset/us_nasdaq.csv')"
      ],
      "id": "f59de305-f6bd-4612-80de-050e1d5e1bec"
    },
    {
      "cell_type": "code",
      "execution_count": 10,
      "metadata": {},
      "outputs": [],
      "source": [
        "df_us = pd.concat([df_us,pd.DataFrame({'Country': 'United States of America',\n",
        "                                             'Value':(df_us['Close'] - df_us['Close'].mean())/df_us['Close'].std()})],axis=1)"
      ],
      "id": "aab81801-4ffa-445f-8440-049ea0973449"
    },
    {
      "cell_type": "code",
      "execution_count": 11,
      "metadata": {},
      "outputs": [],
      "source": [
        "df_us_add = df_us.assign(Year = list(map(lambda x: x.split('-')[0],df_us['Date'])),\\\n",
        "                            Mon = list(map(lambda x: x.split('-')[1],df_us['Date'])),\\\n",
        "                            Day = list(map(lambda x: x.split('-')[2],df_us['Date'])))"
      ],
      "id": "c6c1d7e1-e0d1-4257-9453-caf2c2ad1c48"
    },
    {
      "cell_type": "code",
      "execution_count": 12,
      "metadata": {},
      "outputs": [],
      "source": [
        "df_us_add.Year = df_us_add.Year.astype(np.float64)\n",
        "df_us_add.Mon = df_us_add.Mon.astype(np.float64)\n",
        "df_us_add.Day = df_us_add.Day.astype(np.float64)"
      ],
      "id": "7a9fc2dd-e646-4d9e-99d7-d8df6d911ea1"
    },
    {
      "cell_type": "code",
      "execution_count": 13,
      "metadata": {},
      "outputs": [],
      "source": [
        "df_us_covid = df_us_add.query(\"Year>=2020 and Year <=2022\");df_us_covid"
      ],
      "id": "84fde0eb-3b7d-4a73-8f85-c914383b2e5a"
    },
    {
      "cell_type": "code",
      "execution_count": 14,
      "metadata": {},
      "outputs": [],
      "source": [
        "# plt.figure(figsize=(30, 8)) \n",
        "# plt.title('US (close)')\n",
        "# plt.xticks(rotation=45) \n",
        "# plt.plot(df_us_covid['Date'], df_us_covid['Close'], 'co-')\n",
        "# plt.grid(color='gray', linestyle='--')"
      ],
      "id": "7f6984c2-2814-4806-be31-30f97d72a76b"
    },
    {
      "cell_type": "markdown",
      "metadata": {},
      "source": [
        "## China"
      ],
      "id": "460032ef-c0ed-4d12-b3eb-138803af2fc1"
    },
    {
      "cell_type": "code",
      "execution_count": 15,
      "metadata": {},
      "outputs": [],
      "source": [
        "df_china = pd.read_csv('./dataset/china_ssec.csv')"
      ],
      "id": "e3fec674-7ce1-49ec-9bdc-8edec12f0758"
    },
    {
      "cell_type": "code",
      "execution_count": 16,
      "metadata": {},
      "outputs": [],
      "source": [
        "df_china = pd.concat([df_china,pd.DataFrame({'Country': 'China',\n",
        "                                             'Value':(df_china['Close'] - df_china['Close'].mean())/df_china['Close'].std()})],axis=1)"
      ],
      "id": "a5dca647-1824-45bd-8ce7-f5f90c9d6362"
    },
    {
      "cell_type": "code",
      "execution_count": 17,
      "metadata": {},
      "outputs": [],
      "source": [
        "df_china_add = df_china.assign(Year = list(map(lambda x: x.split('-')[0],df_china['Date'])),\\\n",
        "                                    Mon = list(map(lambda x: x.split('-')[1],df_china['Date'])),\\\n",
        "                                    Day = list(map(lambda x: x.split('-')[2],df_china['Date'])))"
      ],
      "id": "91192143-8644-4818-b980-97c51c68df7f"
    },
    {
      "cell_type": "code",
      "execution_count": 18,
      "metadata": {},
      "outputs": [],
      "source": [
        "df_china_add.Year = df_china_add.Year.astype(np.float64)\n",
        "df_china_add.Mon = df_china_add.Mon.astype(np.float64)\n",
        "df_china_add.Day = df_china_add.Day.astype(np.float64)"
      ],
      "id": "5ed0cbd2-0396-4b30-8a5e-26cd011a00a0"
    },
    {
      "cell_type": "code",
      "execution_count": 19,
      "metadata": {},
      "outputs": [],
      "source": [
        "df_china_covid = df_china_add.query(\"Year>=2020 and Year <=2022\");df_china_covid"
      ],
      "id": "2abecbf0-3b2f-459b-aa94-e15b2286cfbc"
    },
    {
      "cell_type": "code",
      "execution_count": 20,
      "metadata": {},
      "outputs": [],
      "source": [
        "# plt.figure(figsize=(30, 8)) \n",
        "# plt.title('China (close)')\n",
        "# plt.xticks(rotation=45) \n",
        "# plt.plot(df_china_covid['Date'], df_china_covid['Close'], 'co-')\n",
        "# plt.grid(color='gray', linestyle='--')"
      ],
      "id": "15ce160a-fad0-4a64-abd0-70d353f877c1"
    },
    {
      "cell_type": "markdown",
      "metadata": {},
      "source": [
        "## Japan"
      ],
      "id": "f320e7ac-9bf0-4a04-a03e-54729dfe9ad1"
    },
    {
      "cell_type": "code",
      "execution_count": 21,
      "metadata": {},
      "outputs": [],
      "source": [
        "df_japan = pd.read_csv('./dataset/japan_n225.csv')"
      ],
      "id": "27ebba19-bcd8-4828-9457-28472628b1eb"
    },
    {
      "cell_type": "code",
      "execution_count": 22,
      "metadata": {},
      "outputs": [],
      "source": [
        "df_japan = pd.concat([df_japan,pd.DataFrame({'Country': 'Japan',\n",
        "                                             'Value':(df_japan['Close'] - df_japan['Close'].mean())/df_japan['Close'].std()})],axis=1)"
      ],
      "id": "7e36b425-eff6-495d-9709-35143493d692"
    },
    {
      "cell_type": "code",
      "execution_count": 23,
      "metadata": {},
      "outputs": [],
      "source": [
        "df_japan_add = df_japan.assign(Year = list(map(lambda x: x.split('-')[0],df_japan['Date'])),\\\n",
        "                                    Mon = list(map(lambda x: x.split('-')[1],df_japan['Date'])),\\\n",
        "                                    Day = list(map(lambda x: x.split('-')[2],df_japan['Date'])))"
      ],
      "id": "70f77d95-42cd-4457-904e-b8ab161a9f9d"
    },
    {
      "cell_type": "code",
      "execution_count": 24,
      "metadata": {},
      "outputs": [],
      "source": [
        "df_japan_add.Year = df_japan_add.Year.astype(np.float64)\n",
        "df_japan_add.Mon = df_japan_add.Mon.astype(np.float64)\n",
        "df_japan_add.Day = df_japan_add.Day.astype(np.float64)"
      ],
      "id": "0d65b93e-8e89-4d25-a6d9-ae384c9343a9"
    },
    {
      "cell_type": "code",
      "execution_count": 25,
      "metadata": {},
      "outputs": [],
      "source": [
        "df_japan_covid = df_japan_add.query(\"Year>=2020 and Year<=2022\");df_japan_covid"
      ],
      "id": "2c724e2b-f23b-40c7-98cf-ee643ca1a4fb"
    },
    {
      "cell_type": "code",
      "execution_count": 26,
      "metadata": {},
      "outputs": [],
      "source": [
        "# plt.figure(figsize=(30, 8)) \n",
        "# plt.title('Japan (close)')\n",
        "# plt.xticks(rotation=45) \n",
        "# plt.plot(df_japan_covid['Date'], df_japan_covid['Close'], 'co-')\n",
        "# plt.grid(color='gray', linestyle='--')"
      ],
      "id": "1ffc168a-60a8-45c0-aa51-f2d194719b79"
    },
    {
      "cell_type": "code",
      "execution_count": 27,
      "metadata": {},
      "outputs": [],
      "source": [
        "# with plt.style.context('seaborn-white'):\n",
        "#     fig, ((ax1, ax2), (ax3, ax4)) = plt.subplots(2, 2,figsize=(30,15))\n",
        "#     ax1.plot(df_korea_covid['Date'], df_korea_covid['Close'])\n",
        "#     ax2.plot(df_us_covid['Date'], df_us_covid['Close'])\n",
        "#     ax3.plot(df_china_covid['Date'], df_china_covid['Close'])\n",
        "#     ax4.plot(df_japan_covid['Date'], df_japan_covid['Close'])"
      ],
      "id": "f73e902a-ef1a-45c9-96c9-d01c63ba1184"
    },
    {
      "cell_type": "code",
      "execution_count": 28,
      "metadata": {},
      "outputs": [],
      "source": [
        "df = pd.concat([df_korea_covid,df_us_covid,df_china_covid,df_japan_covid]);df"
      ],
      "id": "fcf0c6ac-c94e-43e5-956f-fe1803e85980"
    },
    {
      "cell_type": "code",
      "execution_count": 29,
      "metadata": {},
      "outputs": [],
      "source": [
        "df['Country'].unique()"
      ],
      "id": "ab826242-ab4f-43ae-94f8-d5798e82078c"
    },
    {
      "cell_type": "markdown",
      "metadata": {},
      "source": [
        "# COVID(2020\\~2022)\n",
        "\n",
        "Ref: [WHO](https://covid19.who.int/data),\n",
        "[질병관리청](https://ncov.kdca.go.kr/)"
      ],
      "id": "96c0f558-f805-4abb-97d6-b1bac0ed8c8d"
    },
    {
      "cell_type": "code",
      "execution_count": 30,
      "metadata": {},
      "outputs": [],
      "source": [
        "covid = pd.read_csv('./dataset/WHO-COVID-19-global-data.csv').iloc[:,[0,1,2,4,6]];covid"
      ],
      "id": "0788f683-e6a5-4e97-bab7-99e79150c5cf"
    },
    {
      "cell_type": "code",
      "execution_count": 31,
      "metadata": {},
      "outputs": [],
      "source": [
        "covid['Country'].unique()"
      ],
      "id": "15632106-6e78-4d25-ae75-1cc5caa1beba"
    },
    {
      "cell_type": "code",
      "execution_count": 32,
      "metadata": {},
      "outputs": [],
      "source": [
        "covid.query(\"Country_code =='KP'\")['New_cases'].unique()"
      ],
      "id": "28f56e71-5b61-43d2-92fb-9057defd3e39"
    },
    {
      "cell_type": "code",
      "execution_count": 33,
      "metadata": {},
      "outputs": [],
      "source": [
        "_korea_covid = pd.read_excel('./dataset/covid_korea.csv');_korea_covid[:10]"
      ],
      "id": "dc1bf481-a8da-4667-8d78-b9ffa93b91f4"
    },
    {
      "cell_type": "code",
      "execution_count": 34,
      "metadata": {},
      "outputs": [],
      "source": [
        "korea_covid = _korea_covid.assign(New_cases=np.where(_korea_covid['Unnamed: 2'] == '-', 0, _korea_covid['Unnamed: 2']),\\\n",
        "                                  New_deaths=np.where(_korea_covid['Unnamed: 4'] == '-', 0, _korea_covid['Unnamed: 4']),\\\n",
        "                                  Date_reported=list(map(lambda x: str(x).split()[0],_korea_covid['Unnamed: 0'])),\\\n",
        "                                  Country='Korea',Country_code='KP').\\\n",
        "                             iloc[5:,[7,9,8,6,5]];korea_covid"
      ],
      "id": "54e15480-6a94-471c-bc17-9cd98acd11b5"
    },
    {
      "cell_type": "code",
      "execution_count": 35,
      "metadata": {},
      "outputs": [],
      "source": [
        "covid_final = pd.concat([covid, korea_covid]).rename(columns={'Date_reported': 'Date'});covid_final"
      ],
      "id": "ead486b2-322b-4674-9ecd-102a33f56a7d"
    },
    {
      "cell_type": "code",
      "execution_count": 36,
      "metadata": {},
      "outputs": [],
      "source": [
        "covid_final_add = covid_final.assign(Year = list(map(lambda x: x.split('-')[0],covid_final['Date'])),\\\n",
        "                                    Mon = list(map(lambda x: x.split('-')[1],covid_final['Date'])),\\\n",
        "                                    Day = list(map(lambda x: x.split('-')[2],covid_final['Date'])))"
      ],
      "id": "dad6f6d0-83fc-42aa-86fb-8633e544fc77"
    },
    {
      "cell_type": "code",
      "execution_count": 37,
      "metadata": {},
      "outputs": [],
      "source": [
        "covid_final_add"
      ],
      "id": "ab213453-1d09-4480-bda4-e832ef10eb88"
    },
    {
      "cell_type": "code",
      "execution_count": 38,
      "metadata": {},
      "outputs": [],
      "source": [
        "# with plt.style.context('seaborn-white'):\n",
        "#     fig, ((ax1, ax2), (ax3, ax4)) = plt.subplots(2, 2,figsize=(30,15))\n",
        "#     ax1.plot(covid_final_add.query(\"Country =='Korea'\")['Date'], covid_final_add.query(\"Country =='Korea'\")['New_cases'])\n",
        "#     ax2.plot(covid_final_add.query(\"Country =='United States of America'\")['Date'], covid_final_add.query(\"Country =='United States of America'\")['New_cases'])\n",
        "#     ax3.plot(covid_final_add.query(\"Country =='China'\")['Date'], covid_final_add.query(\"Country =='China'\")['New_cases'])\n",
        "#     ax4.plot(covid_final_add.query(\"Country =='Japan'\")['Date'], covid_final_add.query(\"Country =='Japan'\")['New_cases'])"
      ],
      "id": "cb5bfeb3-6fa7-436d-af0c-b52607a036ec"
    },
    {
      "cell_type": "markdown",
      "metadata": {},
      "source": [
        "# define class"
      ],
      "id": "37030712-c0b2-4c9f-a034-7da050b596fa"
    },
    {
      "cell_type": "code",
      "execution_count": 41,
      "metadata": {},
      "outputs": [],
      "source": [
        "class Stock_graph:\n",
        "    def __init__(self,df):\n",
        "        self.df = df \n",
        "        self.f = df.Value.to_numpy()\n",
        "        self.year = df.Year.to_numpy()\n",
        "        self.mon = df.Mon.to_numpy()\n",
        "        self.day = df.Day.to_numpy()\n",
        "        self.country = df.Country\n",
        "        self.n = len(self.f)\n",
        "        \n",
        "        self.theta= None\n",
        "    def get_distance(self):\n",
        "        self.D = np.zeros([self.n,self.n])\n",
        "        locations = np.stack([self.lat, self.long],axis=1)\n",
        "        for i in tqdm.tqdm(range(self.n)):\n",
        "            for j in range(i,self.n): \n",
        "                self.D[i,j]=haversine(locations[i],locations[j])\n",
        "        self.D = self.D+self.D.T\n",
        "    def get_weightmatrix(self,theta=1,beta=0.5,kappa=4000):\n",
        "        self.theta = theta\n",
        "        dist = np.where(self.D<kappa,self.D,0)\n",
        "        self.W = np.exp(-(dist/self.theta)**2)\n",
        "\n",
        "    def _eigen(self):\n",
        "        d= self.W.sum(axis=1)\n",
        "        D= np.diag(d)\n",
        "        self.L = np.diag(1/np.sqrt(d)) @ (D-self.W) @ np.diag(1/np.sqrt(d))\n",
        "        self.lamb, self.Psi = np.linalg.eigh(self.L)\n",
        "        self.Lamb = np.diag(self.lamb)    \n",
        "        \n",
        "    def fit(self,ref=0.5): # fit with ebayesthresh\n",
        "        self._eigen()\n",
        "        self.fbar = self.Psi.T @ self.f # fbar := graph fourier transform of f\n",
        "        self.power = self.fbar**2 \n",
        "        ebayesthresh = importr('EbayesThresh').ebayesthresh\n",
        "        self.power_threshed=np.array(ebayesthresh(FloatVector(self.fbar**2)))\n",
        "        self.fbar_threshed = np.where(self.power_threshed>0,self.fbar,0)\n",
        "        self.fhat = self.Psi@self.fbar_threshed\n",
        "        self.df = self.df.assign(ValueHat = self.fhat)\n",
        "        self.df = self.df.assign(Residual = self.df.Value- self.df.ValueHat)"
      ],
      "id": "f5bf616a-694d-433a-a0e2-44b64cf673af"
    },
    {
      "cell_type": "markdown",
      "metadata": {},
      "source": [
        "# 시도 1"
      ],
      "id": "6336b88b-33ec-4ab6-bc34-b90663797a46"
    },
    {
      "cell_type": "code",
      "execution_count": 42,
      "metadata": {},
      "outputs": [],
      "source": [
        "rst = Stock_graph(df)"
      ],
      "id": "4436a8e7-29a1-4361-9ea1-6beebb35a01d"
    },
    {
      "cell_type": "code",
      "execution_count": 43,
      "metadata": {},
      "outputs": [],
      "source": [
        "len(rst.df)"
      ],
      "id": "a13bfdf9-553c-4e77-842a-8c99c117674c"
    },
    {
      "cell_type": "code",
      "execution_count": 44,
      "metadata": {},
      "outputs": [],
      "source": [
        "T = len(rst.df)"
      ],
      "id": "c8160ab0-08f7-4c66-aee6-225cbb116d19"
    },
    {
      "cell_type": "code",
      "execution_count": 55,
      "metadata": {},
      "outputs": [
        {
          "output_type": "display_data",
          "metadata": {},
          "data": {
            "image/png": "[encoded data removed]"
          }
        }
      ],
      "source": [
        "plt.scatter(rst.df[rst.df['Country']=='Korea'].iloc[:,[8,9]],rst.df[rst.df['Country']=='Japan'].iloc[:,[8,9]])"
      ],
      "id": "f2677b5b-1877-4718-9de0-2accea879874"
    },
    {
      "cell_type": "code",
      "execution_count": 53,
      "metadata": {},
      "outputs": [],
      "source": [
        "rst.df[rst.df['Country']=='Japan'].iloc[:,[8,9]]"
      ],
      "id": "39657bf2-e8a9-4963-a1ef-8b34174cc6d7"
    },
    {
      "cell_type": "code",
      "execution_count": null,
      "metadata": {},
      "outputs": [],
      "source": [
        "W = np.zeros((T,T))\n",
        "for i in range(T):\n",
        "    for j in range(T):\n",
        "        if np.abs(i-j) ==1 :\n",
        "            W[i,j] = 1\n",
        "        else:\n",
        "            W[i,j] = 0"
      ],
      "id": "44945955-7d4a-48e1-aacf-b82724feb12a"
    },
    {
      "cell_type": "code",
      "execution_count": null,
      "metadata": {},
      "outputs": [],
      "source": [
        "W"
      ],
      "id": "45847675-c567-4850-863d-4e88a0012305"
    },
    {
      "cell_type": "code",
      "execution_count": null,
      "metadata": {},
      "outputs": [],
      "source": [
        "rst.W = W"
      ],
      "id": "e97cd656-2ba5-45c4-a60d-90f2bd1a98ec"
    },
    {
      "cell_type": "code",
      "execution_count": null,
      "metadata": {},
      "outputs": [],
      "source": [
        "rst.fit()"
      ],
      "id": "db773c16-bc4d-4e54-b6b1-a0301073b43f"
    },
    {
      "cell_type": "markdown",
      "metadata": {},
      "source": [
        "## Result"
      ],
      "id": "b623d9d4-87fe-4502-b024-2abeaf2008c9"
    },
    {
      "cell_type": "code",
      "execution_count": null,
      "metadata": {},
      "outputs": [],
      "source": [
        "rst.df.merge(covid_final_add,on='Date').sort_values(\"Residual\",ascending=False).iloc[:30,:]"
      ],
      "id": "f07bf22e-6830-42ec-84c4-c691323ad04c"
    },
    {
      "cell_type": "markdown",
      "metadata": {},
      "source": [
        "# 시도 2"
      ],
      "id": "3cf9653c-a10b-4937-8c21-14b11c069921"
    },
    {
      "cell_type": "code",
      "execution_count": null,
      "metadata": {},
      "outputs": [],
      "source": [
        "rst2 = Stock_graph(df)"
      ],
      "id": "95ff50b0-e582-4dee-a700-97b323dd1d62"
    },
    {
      "cell_type": "code",
      "execution_count": null,
      "metadata": {},
      "outputs": [],
      "source": [
        "len(rst2.df)"
      ],
      "id": "03b03bc3-4c28-4015-888d-f3009e867cea"
    },
    {
      "cell_type": "code",
      "execution_count": null,
      "metadata": {},
      "outputs": [],
      "source": [
        "T"
      ],
      "id": "1beeea63-24bd-405d-a0fb-4b8a712ddb08"
    },
    {
      "cell_type": "code",
      "execution_count": null,
      "metadata": {},
      "outputs": [],
      "source": [
        "rst2.df"
      ],
      "id": "1a615a4b-ef2c-49d1-81cc-59ea66887db0"
    },
    {
      "cell_type": "code",
      "execution_count": null,
      "metadata": {},
      "outputs": [],
      "source": [
        "rst2.df.sort_values('Country').iloc[:,[9,10]].reset_index().iloc[:,1:].pivot(columns='Country', values='Value').iloc[:,1].dropna()"
      ],
      "id": "1d59f58e-09ea-4fe3-8a76-c03a34027c36"
    },
    {
      "cell_type": "markdown",
      "metadata": {},
      "source": [
        "## Result"
      ],
      "id": "e515e5de-7e37-4647-9805-e130457781e5"
    },
    {
      "cell_type": "code",
      "execution_count": null,
      "metadata": {},
      "outputs": [],
      "source": [
        "covid_final_add"
      ],
      "id": "05f3908f-8f60-4586-baf6-3b6e8d69e86f"
    }
  ],
  "nbformat": 4,
  "nbformat_minor": 5,
  "metadata": {
    "kernelspec": {
      "name": "python3",
      "display_name": "Python 3",
      "language": "python"
    },
    "language_info": {
      "name": "python",
      "codemirror_mode": {
        "name": "ipython",
        "version": "3"
      },
      "file_extension": ".py",
      "mimetype": "text/x-python",
      "nbconvert_exporter": "python",
      "pygments_lexer": "ipython3",
      "version": "3.8.0"
    }
  }
}
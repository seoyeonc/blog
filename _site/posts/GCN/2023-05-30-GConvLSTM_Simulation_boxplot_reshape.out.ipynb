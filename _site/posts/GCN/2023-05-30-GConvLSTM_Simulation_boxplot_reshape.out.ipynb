{
  "cells": [
    {
      "cell_type": "markdown",
      "metadata": {},
      "source": [
        "# GConvLSTM_Simulation_reshape\n",
        "\n",
        "SEOYEON CHOI  \n",
        "5/30/23\n",
        "\n",
        "> Simulation Study"
      ],
      "id": "0ba1741e-dd02-41f0-a2e8-3d8912f9de7e"
    },
    {
      "cell_type": "code",
      "execution_count": 27,
      "metadata": {},
      "outputs": [],
      "source": [
        "import itstgcnGConvLSTM\n",
        "import torch\n",
        "import itstgcnGConvLSTM.planner \n",
        "import pandas as pd\n",
        "\n",
        "import numpy as np\n",
        "import random"
      ],
      "id": "bdb9dbfc-3ab3-4a82-bebe-f648aceb0df4"
    },
    {
      "cell_type": "code",
      "execution_count": 5,
      "metadata": {},
      "outputs": [],
      "source": [
        "from torch_geometric_temporal.dataset import WikiMathsDatasetLoader\n",
        "loader3 = WikiMathsDatasetLoader()"
      ],
      "id": "94a452e2-544d-4b5d-8c88-b8bd4be49dde"
    },
    {
      "cell_type": "code",
      "execution_count": 6,
      "metadata": {},
      "outputs": [],
      "source": [
        "from torch_geometric_temporal.dataset import MontevideoBusDatasetLoader\n",
        "loader10 = MontevideoBusDatasetLoader()"
      ],
      "id": "7249732a-22ba-4466-bdbb-28504b9707ee"
    },
    {
      "cell_type": "markdown",
      "metadata": {},
      "source": [
        "# wiki 안 돌림"
      ],
      "id": "e1561620-edac-44ff-b6e5-362f2f175174"
    },
    {
      "cell_type": "code",
      "execution_count": null,
      "metadata": {},
      "outputs": [],
      "source": [
        "plans_stgcn_rand = {\n",
        "    'max_iteration': 5, \n",
        "    'method': ['STGCN', 'IT-STGCN'],\n",
        "    'mrate': [0.5],\n",
        "    'lags': [8], \n",
        "    'nof_filters': [12], \n",
        "    'inter_method': ['linear'],\n",
        "    'epoch': [50]\n",
        "}"
      ],
      "id": "ab22bb82-3f02-4e1c-8ae2-12dbdd9b0cae"
    },
    {
      "cell_type": "code",
      "execution_count": null,
      "metadata": {},
      "outputs": [],
      "source": [
        "plnr = itstgcn.planner.PLNR_STGCN_RAND(plans_stgcn_rand,loader3,dataset_name='wikimath')\n",
        "plnr.simulate()"
      ],
      "id": "1211ddbd-4151-4030-8772-20dc096b23c6"
    },
    {
      "cell_type": "code",
      "execution_count": null,
      "metadata": {},
      "outputs": [],
      "source": [
        "plnr = itstgcn.planner.PLNR_STGCN_RAND(plans_stgcn_rand,loader3,dataset_name='wikimath')\n",
        "plnr.simulate()"
      ],
      "id": "87091aa0-bae6-4ec5-9177-557c79c57af5"
    },
    {
      "cell_type": "code",
      "execution_count": null,
      "metadata": {},
      "outputs": [],
      "source": [
        "plnr = itstgcn.planner.PLNR_STGCN_RAND(plans_stgcn_rand,loader3,dataset_name='wikimath')\n",
        "plnr.simulate()"
      ],
      "id": "2fb8b87c-1197-4670-a476-877f5021aa74"
    },
    {
      "cell_type": "code",
      "execution_count": null,
      "metadata": {},
      "outputs": [],
      "source": [
        "plnr = itstgcn.planner.PLNR_STGCN_RAND(plans_stgcn_rand,loader3,dataset_name='wikimath')\n",
        "plnr.simulate()"
      ],
      "id": "2df966a6-5348-4a7b-b7d0-7abe2c1cdc69"
    },
    {
      "cell_type": "code",
      "execution_count": null,
      "metadata": {},
      "outputs": [],
      "source": [
        "plnr = itstgcn.planner.PLNR_STGCN_RAND(plans_stgcn_rand,loader3,dataset_name='wikimath')\n",
        "plnr.simulate()"
      ],
      "id": "1e1eb798-8a97-4287-9c15-e80db59511b4"
    },
    {
      "cell_type": "code",
      "execution_count": null,
      "metadata": {},
      "outputs": [],
      "source": [
        "plnr = itstgcn.planner.PLNR_STGCN_RAND(plans_stgcn_rand,loader3,dataset_name='wikimath')\n",
        "plnr.simulate()"
      ],
      "id": "de89a0cd-3db5-41d4-80c2-ff28449053de"
    },
    {
      "cell_type": "code",
      "execution_count": null,
      "metadata": {},
      "outputs": [],
      "source": [
        "plans_stgcn_rand = {\n",
        "    'max_iteration': 5, \n",
        "    'method': ['STGCN', 'IT-STGCN'],\n",
        "    'mrate': [0.6],\n",
        "    'lags': [8], \n",
        "    'nof_filters': [12], \n",
        "    'inter_method': ['linear'],\n",
        "    'epoch': [50]\n",
        "}"
      ],
      "id": "94cc44be-3949-49b6-8155-39f557bc1a12"
    },
    {
      "cell_type": "code",
      "execution_count": null,
      "metadata": {},
      "outputs": [],
      "source": [
        "plnr = itstgcn.planner.PLNR_STGCN_RAND(plans_stgcn_rand,loader3,dataset_name='wikimath')\n",
        "plnr.simulate()"
      ],
      "id": "a15d2400-03b2-456a-966a-c70b2e271a42"
    },
    {
      "cell_type": "code",
      "execution_count": null,
      "metadata": {},
      "outputs": [],
      "source": [
        "plnr = itstgcn.planner.PLNR_STGCN_RAND(plans_stgcn_rand,loader3,dataset_name='wikimath')\n",
        "plnr.simulate()"
      ],
      "id": "5026c710-08f6-4b8b-9f0e-5b6181052925"
    },
    {
      "cell_type": "code",
      "execution_count": null,
      "metadata": {},
      "outputs": [],
      "source": [
        "plnr = itstgcn.planner.PLNR_STGCN_RAND(plans_stgcn_rand,loader3,dataset_name='wikimath')\n",
        "plnr.simulate()"
      ],
      "id": "235bdd65-a876-4c11-8354-993c85004ba7"
    },
    {
      "cell_type": "code",
      "execution_count": null,
      "metadata": {},
      "outputs": [],
      "source": [
        "plnr = itstgcn.planner.PLNR_STGCN_RAND(plans_stgcn_rand,loader3,dataset_name='wikimath')\n",
        "plnr.simulate()"
      ],
      "id": "d14d089d-241e-44ec-9d32-79496ceb6dd0"
    },
    {
      "cell_type": "code",
      "execution_count": null,
      "metadata": {},
      "outputs": [],
      "source": [
        "plnr = itstgcn.planner.PLNR_STGCN_RAND(plans_stgcn_rand,loader3,dataset_name='wikimath')\n",
        "plnr.simulate()"
      ],
      "id": "598bdfa8-6805-40bc-b699-1cbeb18656be"
    },
    {
      "cell_type": "code",
      "execution_count": null,
      "metadata": {},
      "outputs": [],
      "source": [
        "plnr = itstgcn.planner.PLNR_STGCN_RAND(plans_stgcn_rand,loader3,dataset_name='wikimath')\n",
        "plnr.simulate()"
      ],
      "id": "19331afb-3644-4654-94cb-2dd858fe9304"
    },
    {
      "cell_type": "code",
      "execution_count": 56,
      "metadata": {},
      "outputs": [],
      "source": [
        "plans_stgcn_rand = {\n",
        "    'max_iteration': 10, \n",
        "    'method': ['STGCN', 'IT-STGCN'],\n",
        "    'mrate': [0.3],\n",
        "    'lags': [4], \n",
        "    'nof_filters': [12], \n",
        "    'inter_method': ['nearest'],\n",
        "    'epoch': [50]\n",
        "}"
      ],
      "id": "be7266d2-0d47-46a4-bb94-e1394f678a40"
    },
    {
      "cell_type": "code",
      "execution_count": null,
      "metadata": {},
      "outputs": [
        {
          "output_type": "stream",
          "name": "stdout",
          "text": [
            "24/50"
          ]
        }
      ],
      "source": [
        "plnr = itstgcnGConvLSTM.planner.PLNR_STGCN_RAND(plans_stgcn_rand,loader10,dataset_name='monte')\n",
        "plnr.simulate()"
      ],
      "id": "c36db426-d057-4477-aca5-7933b39d4bb9"
    },
    {
      "cell_type": "code",
      "execution_count": null,
      "metadata": {},
      "outputs": [],
      "source": [
        "plnr = itstgcnGConvLSTM.planner.PLNR_STGCN_RAND(plans_stgcn_rand,loader10,dataset_name='monte')\n",
        "plnr.simulate()"
      ],
      "id": "ca277e23-aead-47e6-ad92-c1f538e2644e"
    },
    {
      "cell_type": "code",
      "execution_count": null,
      "metadata": {},
      "outputs": [],
      "source": [
        "plnr = itstgcnGConvLSTM.planner.PLNR_STGCN_RAND(plans_stgcn_rand,loader10,dataset_name='monte')\n",
        "plnr.simulate()"
      ],
      "id": "1e0c44e2-7ffd-4dc7-b103-08c92d398ef7"
    },
    {
      "cell_type": "code",
      "execution_count": null,
      "metadata": {},
      "outputs": [],
      "source": [
        "plans_stgcn_rand = {\n",
        "    'max_iteration': 10, \n",
        "    'method': ['STGCN', 'IT-STGCN'],\n",
        "    'mrate': [0.5],\n",
        "    'lags': [4], \n",
        "    'nof_filters': [12], \n",
        "    'inter_method': ['nearest'],\n",
        "    'epoch': [50]\n",
        "}"
      ],
      "id": "2f3a202f-5289-4a4d-b556-949c6b60313e"
    },
    {
      "cell_type": "code",
      "execution_count": null,
      "metadata": {},
      "outputs": [],
      "source": [
        "plnr = itstgcnGConvLSTM.planner.PLNR_STGCN_RAND(plans_stgcn_rand,loader10,dataset_name='monte')\n",
        "plnr.simulate()"
      ],
      "id": "2286ae40-498c-4aae-835f-0cf640ee85a2"
    },
    {
      "cell_type": "code",
      "execution_count": null,
      "metadata": {},
      "outputs": [],
      "source": [
        "plnr = itstgcnGConvLSTM.planner.PLNR_STGCN_RAND(plans_stgcn_rand,loader10,dataset_name='monte')\n",
        "plnr.simulate()"
      ],
      "id": "243e7531-aa70-4d70-a731-454d759a9192"
    },
    {
      "cell_type": "code",
      "execution_count": null,
      "metadata": {},
      "outputs": [],
      "source": [
        "plnr = itstgcnGConvLSTM.planner.PLNR_STGCN_RAND(plans_stgcn_rand,loader10,dataset_name='monte')\n",
        "plnr.simulate()"
      ],
      "id": "60cc4616-936f-482a-8948-d7afd237ee47"
    },
    {
      "cell_type": "code",
      "execution_count": null,
      "metadata": {},
      "outputs": [],
      "source": [
        "plans_stgcn_rand = {\n",
        "    'max_iteration': 10, \n",
        "    'method': ['STGCN', 'IT-STGCN'],\n",
        "    'mrate': [0.7],\n",
        "    'lags': [4], \n",
        "    'nof_filters': [12], \n",
        "    'inter_method': ['nearest'],\n",
        "    'epoch': [50]\n",
        "}"
      ],
      "id": "b472912d-e815-44ea-9dea-c30188f73de2"
    },
    {
      "cell_type": "code",
      "execution_count": null,
      "metadata": {},
      "outputs": [],
      "source": [
        "plnr = itstgcnGConvLSTM.planner.PLNR_STGCN_RAND(plans_stgcn_rand,loader10,dataset_name='monte')\n",
        "plnr.simulate()"
      ],
      "id": "31921858-4f4a-40f5-a209-e76106027f12"
    },
    {
      "cell_type": "code",
      "execution_count": null,
      "metadata": {},
      "outputs": [],
      "source": [
        "plnr = itstgcnGConvLSTM.planner.PLNR_STGCN_RAND(plans_stgcn_rand,loader10,dataset_name='monte')\n",
        "plnr.simulate()"
      ],
      "id": "e66622f3-50a6-44cd-87de-10e39f29d761"
    },
    {
      "cell_type": "code",
      "execution_count": null,
      "metadata": {},
      "outputs": [],
      "source": [
        "plnr = itstgcnGConvLSTM.planner.PLNR_STGCN_RAND(plans_stgcn_rand,loader10,dataset_name='monte')\n",
        "plnr.simulate()"
      ],
      "id": "827396c9-22b6-4aa5-8ab7-dfaec53ae96d"
    },
    {
      "cell_type": "markdown",
      "metadata": {},
      "source": [
        "# Import"
      ],
      "id": "3148226e-c56f-4a40-b8f8-c99b48ee1955"
    },
    {
      "cell_type": "code",
      "execution_count": 28,
      "metadata": {},
      "outputs": [],
      "source": [
        "import matplotlib.pyplot as plt\n",
        "import pandas as pd\n",
        "import numpy as np"
      ],
      "id": "4a6c896e-6e73-4975-bbce-6fdf61b4f53c"
    },
    {
      "cell_type": "markdown",
      "metadata": {},
      "source": [
        "# Fivenodes"
      ],
      "id": "6dfb6a96-8542-484e-8eb8-91b5155bbe53"
    },
    {
      "cell_type": "code",
      "execution_count": 29,
      "metadata": {},
      "outputs": [],
      "source": [
        "# df5 = pd.read_csv('./simulation_results/2023-06-04_13-29-16.csv')\n",
        "# df6 = pd.read_csv('./simulation_results/2023-06-04_13-39-55.csv')\n",
        "# df7 = pd.read_csv('./simulation_results/2023-06-04_13-50-24.csv')\n",
        "# k=1"
      ],
      "id": "99cfe616-3a4d-4aef-b061-acc83b1cc54e"
    },
    {
      "cell_type": "code",
      "execution_count": 30,
      "metadata": {},
      "outputs": [],
      "source": [
        "df1 = pd.read_csv('./simulation_results/2023-06-07_08-10-42.csv')\n",
        "df2 = pd.read_csv('./simulation_results/2023-06-07_09-14-08.csv')\n",
        "df3 = pd.read_csv('./simulation_results/2023-06-07_10-17-23.csv')\n",
        "df4 = pd.read_csv('./simulation_results/2023-06-07_11-20-35.csv')\n",
        "df5 = pd.read_csv('./simulation_results/2023-06-07_12-23-45.csv')\n",
        "df6 = pd.read_csv('./simulation_results/2023-06-07_13-15-54.csv')\n",
        "df7 = pd.read_csv('./simulation_results/2023-06-13_11-25-39.csv')\n",
        "df8 = pd.read_csv('./simulation_results/2023-06-13_12-25-51.csv')"
      ],
      "id": "37709f6b-b241-4160-8e48-e6de4c7c37d1"
    },
    {
      "cell_type": "code",
      "execution_count": 31,
      "metadata": {},
      "outputs": [],
      "source": [
        "df9 = pd.read_csv('./simulation_results/2023-07-16_09-20-23.csv')\n",
        "df10 = pd.read_csv('./simulation_results/2023-07-16_10-22-53.csv')\n",
        "df11 = pd.read_csv('./simulation_results/2023-07-16_11-27-39.csv')\n",
        "df12 = pd.read_csv('./simulation_results/2023-07-16_12-30-05.csv')\n",
        "df13 = pd.read_csv('./simulation_results/2023-07-16_13-33-28.csv')\n",
        "df14 = pd.read_csv('./simulation_results/2023-07-16_14-34-12.csv')"
      ],
      "id": "c1543de8-21b4-4d6c-9eae-c24bdfb33d8b"
    },
    {
      "cell_type": "code",
      "execution_count": 32,
      "metadata": {},
      "outputs": [],
      "source": [
        "data = pd.concat([df1,df2,df3,df4,df5,df6,df7,df8,df9,df10,df11,df12,df13,df14],axis=0)"
      ],
      "id": "4bbaa229-1564-4ea3-9cc9-6eb631726830"
    },
    {
      "cell_type": "code",
      "execution_count": 33,
      "metadata": {},
      "outputs": [],
      "source": [
        "data.to_csv('./simulation_results/Real_simulation_reshape/GConvLSTM_fivedones_Simulation.csv',index=False)"
      ],
      "id": "3fa8efb5-f292-4fd2-8a3f-e52f6e9fce15"
    },
    {
      "cell_type": "code",
      "execution_count": 34,
      "metadata": {},
      "outputs": [],
      "source": [
        "data = pd.read_csv('./simulation_results/Real_simulation_reshape/GConvLSTM_fivedones_Simulation.csv')"
      ],
      "id": "b48ae7cb-4177-4549-af7d-40db6ea81443"
    },
    {
      "cell_type": "markdown",
      "metadata": {},
      "source": [
        "## Baseline"
      ],
      "id": "80bc27d3-958c-46e9-a13f-b19964d2d7aa"
    },
    {
      "cell_type": "code",
      "execution_count": 35,
      "metadata": {
        "tags": []
      },
      "outputs": [],
      "source": [
        "data.query(\"method!='GNAR' and mrate==0\").plot.box(backend='plotly',x='mrate',color='method',y='mse',facet_col='lags',facet_row='nof_filters',height=600)\n"
      ],
      "id": "b949a9b3-4360-4cdc-a273-9881c11d569d"
    },
    {
      "cell_type": "markdown",
      "metadata": {},
      "source": [
        "## Random"
      ],
      "id": "9331480a-1c04-4cd1-9fd1-d5d952de1c58"
    },
    {
      "cell_type": "code",
      "execution_count": 36,
      "metadata": {},
      "outputs": [],
      "source": [
        "data.query(\"method!='GNAR' and mtype =='rand'\").plot.box(backend='plotly',x='mrate',color='method',y='mse',facet_col='inter_method',facet_row='nof_filters',height=600)\n",
        "\n"
      ],
      "id": "9007ab3f-d305-45cb-b053-6aa682a504db"
    },
    {
      "cell_type": "markdown",
      "metadata": {},
      "source": [
        "## Block"
      ],
      "id": "8fa70836-da22-420d-aa59-9de8c6cbecf5"
    },
    {
      "cell_type": "code",
      "execution_count": 37,
      "metadata": {},
      "outputs": [],
      "source": [
        "data.query(\"method!='GNAR' and mtype =='block' \").plot.box(backend='plotly',x='mrate',color='method',y='mse',facet_col='inter_method',facet_row='nof_filters',height=600)\n"
      ],
      "id": "00fa94d3-59fa-405b-aa6e-1c4c295d7e7d"
    },
    {
      "cell_type": "markdown",
      "metadata": {},
      "source": [
        "# chickenpox"
      ],
      "id": "7cc0bc5c-ea5e-4cce-8617-b71463d5ec71"
    },
    {
      "cell_type": "code",
      "execution_count": 38,
      "metadata": {
        "tags": []
      },
      "outputs": [],
      "source": [
        "# df1 = pd.read_csv('./simulation_results/2023-06-02_14-03-24.csv') # GNAR random\n",
        "# df2 = pd.read_csv('./simulation_results/2023-06-03_15-57-09.csv') # GNAR block\n",
        "# df3 = pd.read_csv('./simulation_results/2023-06-03_17-58-22.csv') # STGCN, ITSTGCN random 30%\n",
        "\n",
        "## 하이퍼 파라메터 조정해서 다시 함!\n",
        "df1 = pd.read_csv('./simulation_results/2023-06-07_22-08-57.csv') \n",
        "df2 = pd.read_csv('./simulation_results/2023-06-08_01-57-25.csv') \n",
        "df3 = pd.read_csv('./simulation_results/2023-06-08_03-58-56.csv') \n",
        "df4 = pd.read_csv('./simulation_results/2023-06-08_06-00-50.csv')\n",
        "df5 = pd.read_csv('./simulation_results/2023-06-08_09-11-04.csv')\n",
        "df6 = pd.read_csv('./simulation_results/2023-06-08_13-06-18.csv')"
      ],
      "id": "aef424f0-a997-464f-8778-027c668b4237"
    },
    {
      "cell_type": "code",
      "execution_count": 39,
      "metadata": {},
      "outputs": [],
      "source": [
        "df7 = pd.read_csv('./simulation_results/2023-07-16_18-29-09.csv')\n",
        "df8 = pd.read_csv('./simulation_results/2023-07-16_22-21-02.csv')\n",
        "df9 = pd.read_csv('./simulation_results/2023-07-17_02-20-42.csv')\n",
        "df10 = pd.read_csv('./simulation_results/2023-07-17_06-23-41.csv')"
      ],
      "id": "9c1fda92-4aea-4b89-b227-15a78a7b60cb"
    },
    {
      "cell_type": "code",
      "execution_count": 40,
      "metadata": {},
      "outputs": [],
      "source": [
        "data = pd.concat([df1,df2,df3,df4,df5,df6,df7,df8,df9,df10],axis=0)"
      ],
      "id": "5bb34ea0-a352-4bb6-88cc-a8bc50203c5b"
    },
    {
      "cell_type": "code",
      "execution_count": 41,
      "metadata": {},
      "outputs": [],
      "source": [
        "data.to_csv('./simulation_results/Real_simulation_reshape/GConvLSTM_chikenpox_Simulation.csv',index=False)"
      ],
      "id": "c9a87a34-a710-405a-9f1b-ba598e721ae1"
    },
    {
      "cell_type": "code",
      "execution_count": 42,
      "metadata": {},
      "outputs": [],
      "source": [
        "data = pd.read_csv('./simulation_results/Real_simulation_reshape/GConvLSTM_chikenpox_Simulation.csv')"
      ],
      "id": "cc678b87-39ab-4625-9044-a35b0e3841ae"
    },
    {
      "cell_type": "markdown",
      "metadata": {},
      "source": [
        "## Baseline"
      ],
      "id": "178473e2-521c-4b00-9054-6d540e1261be"
    },
    {
      "cell_type": "code",
      "execution_count": 43,
      "metadata": {},
      "outputs": [],
      "source": [
        "data.query(\"method!='GNAR' and mrate ==0 \").plot.box(backend='plotly',x='mrate',color='method',y='mse',facet_col='nof_filters',height=600)\n"
      ],
      "id": "1315c2a7-b23a-4237-8570-12da747c1155"
    },
    {
      "cell_type": "markdown",
      "metadata": {},
      "source": [
        "## Random"
      ],
      "id": "9da24bb5-e8c0-4fc3-a352-99eca5bed05c"
    },
    {
      "cell_type": "code",
      "execution_count": 44,
      "metadata": {},
      "outputs": [],
      "source": [
        "data.query(\"method!='GNAR' and mtype =='rand'\").plot.box(backend='plotly',x='mrate',color='method',y='mse',facet_col='nof_filters',facet_row='inter_method',height=800)\n"
      ],
      "id": "bfc6fb2b-b650-46d6-a0b6-bb817d936d29"
    },
    {
      "cell_type": "markdown",
      "metadata": {},
      "source": [
        "## Block"
      ],
      "id": "0c198702-ccd2-43a3-9d68-1428f33c2042"
    },
    {
      "cell_type": "code",
      "execution_count": 45,
      "metadata": {},
      "outputs": [],
      "source": [
        "data.query(\"method!='GNAR' and mtype =='block'\").plot.box(backend='plotly',x='mrate',color='method',y='mse',facet_col='inter_method',facet_row='lags',height=800)\n"
      ],
      "id": "fa265bcd-65db-46b0-a0ad-280944f72bd0"
    },
    {
      "cell_type": "markdown",
      "metadata": {},
      "source": [
        "# Pedalme"
      ],
      "id": "c311ad5b-19af-499c-ac31-b28a745e5498"
    },
    {
      "cell_type": "code",
      "execution_count": null,
      "metadata": {},
      "outputs": [],
      "source": [
        "# df3 = pd.read_csv('./simulation_results/2023-06-04_13-03-18.csv') \n",
        "# df4 = pd.read_csv('./simulation_results/2023-06-04_13-19-20.csv') \n",
        "# k=1"
      ],
      "id": "5b260eb7-4f64-4831-832d-8096d100de01"
    },
    {
      "cell_type": "code",
      "execution_count": 46,
      "metadata": {},
      "outputs": [],
      "source": [
        "df1 = pd.read_csv('./simulation_results/2023-06-08_14-08-24.csv') \n",
        "df2 = pd.read_csv('./simulation_results/2023-06-10_14-21-35.csv') "
      ],
      "id": "502ea414-1f39-4bc6-8522-017d09ce8595"
    },
    {
      "cell_type": "code",
      "execution_count": 47,
      "metadata": {},
      "outputs": [],
      "source": [
        "df3 = pd.read_csv('./simulation_results/2023-07-17_07-05-13.csv') "
      ],
      "id": "1e1a8ad8-f766-4be0-82b1-150c6a5c0156"
    },
    {
      "cell_type": "code",
      "execution_count": 48,
      "metadata": {},
      "outputs": [],
      "source": [
        "data = pd.concat([df1,df2,df3],axis=0)"
      ],
      "id": "a0f16ab5-8470-46d2-af95-c399f93a4282"
    },
    {
      "cell_type": "code",
      "execution_count": 49,
      "metadata": {},
      "outputs": [],
      "source": [
        "data.to_csv('./simulation_results/Real_simulation_reshape/GConvLSTM_pedalme_Simulation.csv',index=False)"
      ],
      "id": "985b07f0-50f8-4a4c-af93-14ea7220e5c1"
    },
    {
      "cell_type": "code",
      "execution_count": 50,
      "metadata": {},
      "outputs": [],
      "source": [
        "data = pd.read_csv('./simulation_results/Real_simulation_reshape/GConvLSTM_pedalme_Simulation.csv')"
      ],
      "id": "6a077866-d7c2-4282-b34c-446ac67841a6"
    },
    {
      "cell_type": "markdown",
      "metadata": {},
      "source": [
        "## Baseline"
      ],
      "id": "50ca5575-0047-4c46-b89e-c579a3dcf421"
    },
    {
      "cell_type": "code",
      "execution_count": 51,
      "metadata": {},
      "outputs": [],
      "source": [
        "data.query(\"mrate ==0 and lags!=2\").plot.box(backend='plotly',x='epoch',color='method',y='mse',facet_col='nof_filters',facet_row='lags',height=400)\n"
      ],
      "id": "fb7e7c3b-a27c-4122-9646-c814df9d870b"
    },
    {
      "cell_type": "markdown",
      "metadata": {},
      "source": [
        "## random"
      ],
      "id": "fd75af7d-80fe-40d2-87cb-1e863d1eaac9"
    },
    {
      "cell_type": "code",
      "execution_count": 52,
      "metadata": {},
      "outputs": [],
      "source": [
        "data.query(\"method!='GNAR' and mtype =='rand' and lags!=2\").plot.box(backend='plotly',x='mrate',color='method',y='mse',facet_col='nof_filters',facet_row='inter_method',height=800)\n"
      ],
      "id": "55c26ea0-f78c-4605-ab1a-92a58419f854"
    },
    {
      "cell_type": "markdown",
      "metadata": {},
      "source": [
        "## block"
      ],
      "id": "c4ca39c7-6980-46d1-98f9-003bf4bcfe85"
    },
    {
      "cell_type": "code",
      "execution_count": 53,
      "metadata": {},
      "outputs": [],
      "source": [
        "data.query(\"method!='GNAR' and mtype =='block' and lags!=2 \").plot.box(backend='plotly',x='mrate',color='method',y='mse',facet_col='nof_filters',facet_row='inter_method',height=800)\n"
      ],
      "id": "a4348d4f-7215-47ad-a979-150fa43d9b72"
    },
    {
      "cell_type": "markdown",
      "metadata": {},
      "source": [
        "## weight matrix time, node 고려한 결과"
      ],
      "id": "955bd94b-67c2-47c0-bfbb-bf76173d3a90"
    },
    {
      "cell_type": "code",
      "execution_count": 169,
      "metadata": {},
      "outputs": [],
      "source": [
        "df1 = pd.read_csv('./simulation_results/2023-06-10_15-33-00.csv')\n",
        "df2 = pd.read_csv('./simulation_results/2023-06-10_16-06-20.csv')"
      ],
      "id": "c4901527-d909-4dfc-9996-02b563a29ed7"
    },
    {
      "cell_type": "code",
      "execution_count": 170,
      "metadata": {},
      "outputs": [],
      "source": [
        "data2 = pd.concat([df1,df2],axis=0)"
      ],
      "id": "80b4fedc-7ae8-4385-8e1a-fa54bce4f6a8"
    },
    {
      "cell_type": "code",
      "execution_count": 171,
      "metadata": {},
      "outputs": [],
      "source": [
        "data2.to_csv('./simulation_results/Real_simulation_reshape/GConvLSTM_pedalme_Simulation_itstgcnsnd.csv',index=False)"
      ],
      "id": "24ac186b-826a-4c73-b192-b01f5d0dbcc5"
    },
    {
      "cell_type": "code",
      "execution_count": 172,
      "metadata": {},
      "outputs": [],
      "source": [
        "data2 = pd.read_csv('./simulation_results/Real_simulation_reshape/GConvLSTM_pedalme_Simulation_itstgcnsnd.csv')"
      ],
      "id": "c335ea99-6e90-4914-902d-fa8e77855c39"
    },
    {
      "cell_type": "code",
      "execution_count": 173,
      "metadata": {},
      "outputs": [],
      "source": [
        "data2.query(\"mtype=='rand'\").plot.box(backend='plotly',x='mrate',color='method',y='mse',facet_col='inter_method',facet_row='nof_filters',height=1000)"
      ],
      "id": "f2deb953-1d7c-448d-a942-7c750880c90e"
    },
    {
      "cell_type": "code",
      "execution_count": 174,
      "metadata": {},
      "outputs": [],
      "source": [
        "data2.query(\"mtype=='block'\").plot.box(backend='plotly',x='mrate',color='method',y='mse',facet_col='inter_method',facet_row='nof_filters',height=1000)"
      ],
      "id": "4943a8db-22a7-498d-ad9a-c65d5cea9f2d"
    },
    {
      "cell_type": "markdown",
      "metadata": {},
      "source": [
        "# Wikimath"
      ],
      "id": "bd8cd467-3e36-47a1-bf5a-059ba57fe041"
    },
    {
      "cell_type": "code",
      "execution_count": 284,
      "metadata": {},
      "outputs": [],
      "source": [
        "df1 = pd.read_csv('./simulation_results/2023-06-09_05-04-53.csv') # 0.3\n",
        "df2 = pd.read_csv('./simulation_results/2023-06-09_22-51-24.csv') # 0.3\n",
        "df3 = pd.read_csv('./simulation_results/2023-06-10_13-44-50.csv') # 0.3\n",
        "df4 = pd.read_csv('./simulation_results/2023-06-11_17-52-38.csv') # 0.8\n",
        "df5 = pd.read_csv('./simulation_results/2023-06-12_22-28-48.csv') # 0.8\n",
        "df6 = pd.read_csv('./simulation_results/2023-06-13_19-20-20.csv') # 0\n",
        "df7 = pd.read_csv('./simulation_results/2023-06-14_20-51-43.csv') # 0\n",
        "df8 = pd.read_csv('./simulation_results/2023-06-15_17-05-25.csv') # 0\n",
        "df9 = pd.read_csv('./simulation_results/2023-06-13_16-54-57.csv') # block\n",
        "df10 = pd.read_csv('./simulation_results/2023-06-12_20-55-27.csv') # block\n",
        "df11 = pd.read_csv('./simulation_results/2023-06-12_01-29-40.csv') # block\n",
        "# 11개 끝나면 같은 노드 missing 으로 넘어가기"
      ],
      "id": "0fc1d062-7ab9-4d24-b042-0d4a486cb411"
    },
    {
      "cell_type": "code",
      "execution_count": 285,
      "metadata": {},
      "outputs": [],
      "source": [
        "data = pd.concat([df1,df2,df3,df4,df5,df6,df7,df8,df9,df10,df11],axis=0)"
      ],
      "id": "bc4a61dc-53ac-4238-91c1-82271471177b"
    },
    {
      "cell_type": "code",
      "execution_count": 286,
      "metadata": {},
      "outputs": [],
      "source": [
        "data.to_csv('./simulation_results/Real_simulation_reshape/GConvLSTM_wikimath.csv',index=False)"
      ],
      "id": "ed3976ba-959e-42c6-baca-c668498ee17b"
    },
    {
      "cell_type": "code",
      "execution_count": 287,
      "metadata": {},
      "outputs": [],
      "source": [
        "data = pd.read_csv('./simulation_results/Real_simulation_reshape/GConvLSTM_wikimath.csv')"
      ],
      "id": "2ca3e98d-22f6-4d89-8dea-9ca7be8fdc93"
    },
    {
      "cell_type": "markdown",
      "metadata": {},
      "source": [
        "## Baseline"
      ],
      "id": "be444dbb-cba4-4b0a-9f4e-f082ae80acfb"
    },
    {
      "cell_type": "code",
      "execution_count": 288,
      "metadata": {},
      "outputs": [],
      "source": [
        "data.query(\"mrate==0 \").plot.box(backend='plotly',x='mrate',color='method',y='mse',height=600)"
      ],
      "id": "911f19c2-a3c5-4fa9-bb71-b84c80ea497b"
    },
    {
      "cell_type": "markdown",
      "metadata": {},
      "source": [
        "## random"
      ],
      "id": "7a57ec80-9ca4-4f8b-b5c9-522c01b6889b"
    },
    {
      "cell_type": "code",
      "execution_count": 289,
      "metadata": {},
      "outputs": [],
      "source": [
        "data.query(\"mtype=='rand' and mrate !=0 and method!='GNAR'\").plot.box(backend='plotly',x='mrate',color='method',y='mse',facet_col='lags',facet_row='nof_filters',height=800)\n"
      ],
      "id": "2bfcf148-906a-4137-8b8e-ad3efa84ad92"
    },
    {
      "cell_type": "markdown",
      "metadata": {},
      "source": [
        "## block"
      ],
      "id": "b602bc19-1a94-4d33-87cb-81e5a40ceb37"
    },
    {
      "cell_type": "code",
      "execution_count": 290,
      "metadata": {},
      "outputs": [],
      "source": [
        "data.query(\"mtype=='block' \").plot.box(backend='plotly',x='mrate',color='method',y='mse',facet_col='lags',facet_row='nof_filters',height=1200)\n"
      ],
      "id": "7639592a-fce1-4318-ac9c-db8e889db935"
    },
    {
      "cell_type": "markdown",
      "metadata": {},
      "source": [
        "## missing values on the same nodes"
      ],
      "id": "090a23ff-c2ed-4a67-9f91-8daf14877fa2"
    },
    {
      "cell_type": "code",
      "execution_count": 292,
      "metadata": {
        "tags": []
      },
      "outputs": [],
      "source": [
        "df1 = pd.read_csv('./simulation_results/2023-06-14_19-23-44.csv') # STGCN IT-STGCN block\n",
        "df2 = pd.read_csv('./simulation_results/2023-06-15_15-51-38.csv')\n",
        "df3 = pd.read_csv('./simulation_results/2023-06-16_04-32-51.csv')"
      ],
      "id": "dffae905-29e5-44d4-b1ae-4c6169bc5cf2"
    },
    {
      "cell_type": "code",
      "execution_count": 293,
      "metadata": {},
      "outputs": [],
      "source": [
        "data = pd.concat([df1,df2,df3],axis=0)"
      ],
      "id": "f03c63ce-6e94-4c4b-a1fb-07c68702ac70"
    },
    {
      "cell_type": "code",
      "execution_count": 294,
      "metadata": {},
      "outputs": [],
      "source": [
        "data.to_csv('./simulation_results/Real_simulation_reshape/GConvLSTM_wikimath_GSO_st.csv',index=False)"
      ],
      "id": "b8f5d3f1-c5b5-44b8-86e0-fd1aa259a2f4"
    },
    {
      "cell_type": "code",
      "execution_count": 295,
      "metadata": {},
      "outputs": [],
      "source": [
        "data = pd.read_csv('./simulation_results/Real_simulation_reshape/GConvLSTM_wikimath_GSO_st.csv')"
      ],
      "id": "f5046369-1209-41b1-952b-49cfb002b871"
    },
    {
      "cell_type": "code",
      "execution_count": 296,
      "metadata": {},
      "outputs": [],
      "source": [
        "data.query(\"method!='GNAR' and mtype =='block' \").plot.box(backend='plotly',x='mrate',color='method',y='mse',facet_col='inter_method',facet_row='lags',height=800)\n"
      ],
      "id": "d6a2b7ab-f23f-4917-ab8e-eba984d581f2"
    },
    {
      "cell_type": "markdown",
      "metadata": {},
      "source": [
        "# Windmilsmall"
      ],
      "id": "19af8a89-bd67-4306-a17f-8c904e4381e3"
    },
    {
      "cell_type": "code",
      "execution_count": 712,
      "metadata": {},
      "outputs": [],
      "source": [
        "df1 = pd.read_csv('./simulation_results/2023-06-18_08-49-16.csv') # STGCN IT-STGCN 70%\n",
        "df2 = pd.read_csv('./simulation_results/2023-06-18_19-23-41.csv') # STGCN IT-STGCN\n",
        "df3 = pd.read_csv('./simulation_results/2023-06-19_05-43-03.csv') # STGCN IT-STGCN\n",
        "df4 = pd.read_csv('./simulation_results/2023-06-19_05-43-03.csv') # STGCN IT-STGCN\n",
        "df5 = pd.read_csv('./simulation_results/2023-06-19_15-49-47.csv') # STGCN IT-STGCN\n",
        "df6 = pd.read_csv('./simulation_results/2023-06-20_01-48-58.csv') #\n",
        "df7 = pd.read_csv('./simulation_results/2023-06-20_10-46-07.csv') # STGCN IT-STGCN\n",
        "df8 = pd.read_csv('./simulation_results/2023-06-20_22-24-25.csv') # STGCN IT-STGCN\n",
        "df9 = pd.read_csv('./simulation_results/2023-06-21_08-49-11.csv') # STGCN IT-STGCN\n",
        "df10 = pd.read_csv('./simulation_results/2023-06-21_18-48-04.csv') # STGCN IT-STGCN\n",
        "df11 = pd.read_csv('./simulation_results/2023-06-22_04-57-53.csv') # STGCN IT-STGCN\n",
        "df12 = pd.read_csv('./simulation_results/2023-06-23_01-51-16.csv') # STGCN IT-STGCN\n",
        "df13 = pd.read_csv('./simulation_results/2023-06-23_09-45-30.csv') # STGCN IT-STGCN\n",
        "df14 = pd.read_csv('./simulation_results/2023-06-23_17-38-53.csv') # STGCN IT-STGCN\n",
        "df15 = pd.read_csv('./simulation_results/2023-06-24_03-32-00.csv') # STGCN IT-STGCN\n",
        "df16 = pd.read_csv('./simulation_results/2023-06-24_14-02-04.csv') # STGCN IT-STGCN\n",
        "df17 = pd.read_csv('./simulation_results/2023-06-25_00-33-49.csv') # STGCN IT-STGCN\n",
        "df18 = pd.read_csv('./simulation_results/2023-06-25_11-14-03.csv') # STGCN IT-STGCN\n",
        "df19 = pd.read_csv('./simulation_results/2023-06-25_21-52-31.csv') # STGCN IT-STGCN\n",
        "df20 = pd.read_csv('./simulation_results/2023-06-26_09-32-33.csv') # STGCN IT-STGCN\n",
        "df21 = pd.read_csv('./simulation_results/2023-06-26_20-26-47.csv') # STGCN IT-STGCN\n",
        "df22 = pd.read_csv('./simulation_results/2023-06-30_22-22-17.csv') # STGCN IT-STGCN\n",
        "df23 = pd.read_csv('./simulation_results/2023-06-27_07-38-02.csv') # STGCN IT-STGCN\n",
        "df24 = pd.read_csv('./simulation_results/2023-06-27_17-42-21.csv') # STGCN IT-STGCN\n",
        "df25 = pd.read_csv('./simulation_results/2023-06-27_23-25-36.csv') # STGCN IT-STGCN\n",
        "df26 = pd.read_csv('./simulation_results/2023-06-28_04-51-32.csv') # STGCN IT-STGCN\n",
        "df27 = pd.read_csv('./simulation_results/2023-06-28_13-42-03.csv') # STGCN IT-STGCN\n",
        "df28 = pd.read_csv('./simulation_results/2023-06-28_23-31-39.csv') # STGCN IT-STGCN\n",
        "df29 = pd.read_csv('./simulation_results/2023-06-29_07-37-23.csv') # STGCN IT-STGCN\n",
        "df30 = pd.read_csv('./simulation_results/2023-06-29_11-42-51.csv') # STGCN IT-STGCN\n",
        "df31 = pd.read_csv('./simulation_results/2023-06-29_18-56-11.csv') # GNAR 70%\n",
        "df32 = pd.read_csv('./simulation_results/2023-06-29_23-00-06.csv') # GNAR \n",
        "df33 = pd.read_csv('./simulation_results/2023-06-30_07-55-33.csv')\n",
        "df34 = pd.read_csv('./simulation_results/2023-06-30_13-16-45.csv')\n",
        "df35 = pd.read_csv('./simulation_results/2023-06-30_22-22-17.csv')\n",
        "df36 = pd.read_csv('./simulation_results/2023-07-01_02-32-38.csv')\n",
        "df37 = pd.read_csv('./simulation_results/2023-05-02_01-10-53.csv')\n",
        "df38 = pd.read_csv('./simulation_results/2023-07-01_22-06-17.csv')\n",
        "df39 = pd.read_csv('./simulation_results/2023-07-02_02-39-51.csv')\n",
        "df40 = pd.read_csv('./simulation_results/2023-07-02_10-30-04.csv')\n",
        "df41 = pd.read_csv('./simulation_results/2023-07-02_14-55-00.csv')\n",
        "df42 = pd.read_csv('./simulation_results/2023-07-02_22-39-16.csv')\n",
        "df43 = pd.read_csv('./simulation_results/2023-07-03_02-31-23.csv')\n",
        "df44 = pd.read_csv('./simulation_results/2023-07-03_09-46-01.csv')\n",
        "df45 = pd.read_csv('./simulation_results/2023-07-03_13-39-49.csv')\n",
        "df46 = pd.read_csv('./simulation_results/2023-07-03_20-27-34.csv')\n",
        "df47 = pd.read_csv('./simulation_results/2023-07-03_23-24-36.csv')\n",
        "df48 = pd.read_csv('./simulation_results/2023-07-04_04-53-17.csv')\n",
        "df49 = pd.read_csv('./simulation_results/2023-07-04_07-47-18.csv')\n",
        "df50 = pd.read_csv('./simulation_results/2023-07-04_13-19-43.csv')\n",
        "df51 = pd.read_csv('./simulation_results/2023-07-04_16-15-28.csv')\n",
        "df52 = pd.read_csv('./simulation_results/2023-07-04_21-45-58.csv')\n",
        "df53 = pd.read_csv('./simulation_results/2023-07-05_00-42-02.csv')\n",
        "df54 = pd.read_csv('./simulation_results/2023-07-05_06-10-53.csv')\n",
        "df55 = pd.read_csv('./simulation_results/2023-07-05_09-04-03.csv')\n",
        "df56 = pd.read_csv('./simulation_results/2023-07-05_14-35-14.csv')\n",
        "df57 = pd.read_csv('./simulation_results/2023-07-05_17-33-38.csv')\n",
        "df58 = pd.read_csv('./simulation_results/2023-07-05_23-06-14.csv')\n",
        "df59 = pd.read_csv('./simulation_results/2023-07-06_01-59-24.csv')\n",
        "df60 = pd.read_csv('./simulation_results/2023-07-06_07-30-43.csv')\n",
        "df61 = pd.read_csv('./simulation_results/2023-07-06_10-26-11.csv')\n",
        "df62 = pd.read_csv('./simulation_results/2023-07-06_15-56-04.csv')\n",
        "df63 = pd.read_csv('./simulation_results/2023-07-06_18-51-39.csv')\n",
        "df64 = pd.read_csv('./simulation_results/2023-07-07_00-20-44.csv')\n",
        "df65 = pd.read_csv('./simulation_results/2023-07-07_03-16-52.csv')\n",
        "df66 = pd.read_csv('./simulation_results/2023-07-07_08-45-18.csv')\n",
        "df67 = pd.read_csv('./simulation_results/2023-07-07_11-42-32.csv')\n",
        "df68 = pd.read_csv('./simulation_results/2023-07-07_17-11-59.csv')\n",
        "df69 = pd.read_csv('./simulation_results/2023-07-07_20-09-16.csv')\n",
        "df70 = pd.read_csv('./simulation_results/2023-07-08_01-39-33.csv') \n",
        "df71 = pd.read_csv('./simulation_results/2023-07-08_04-35-48.csv')\n",
        "df72 = pd.read_csv('./simulation_results/2023-07-08_10-41-29.csv')\n",
        "df73 = pd.read_csv('./simulation_results/2023-07-08_14-48-52.csv')\n",
        "df74 = pd.read_csv('./simulation_results/2023-07-08_22-15-53.csv')\n",
        "df75 = pd.read_csv('./simulation_results/2023-07-09_02-11-41.csv')\n",
        "df76 = pd.read_csv('./simulation_results/2023-07-09_09-59-35.csv')\n",
        "df77 = pd.read_csv('./simulation_results/2023-07-09_14-17-00.csv')\n",
        "df78 = pd.read_csv('./simulation_results/2023-07-09_22-10-25.csv')\n",
        "df79 = pd.read_csv('./simulation_results/2023-07-10_02-39-25.csv')\n",
        "df80 = pd.read_csv('./simulation_results/2023-07-10_12-33-23.csv')\n",
        "df81 = pd.read_csv('./simulation_results/2023-07-10_17-03-55.csv')\n",
        "df82 = pd.read_csv('./simulation_results/2023-07-11_01-43-12.csv')\n",
        "df83 = pd.read_csv('./simulation_results/2023-07-11_05-19-38.csv')\n",
        "df84 = pd.read_csv('./simulation_results/2023-07-11_13-21-44.csv')\n",
        "df85 = pd.read_csv('./simulation_results/2023-07-11_16-56-36.csv')\n",
        "df86 = pd.read_csv('./simulation_results/2023-07-12_05-06-36.csv')\n",
        "df87 = pd.read_csv('./simulation_results/2023-07-12_10-10-49.csv')\n",
        "df88 = pd.read_csv('./simulation_results/2023-07-12_17-03-55.csv')\n",
        "df89 = pd.read_csv('./simulation_results/2023-07-13_15-31-01.csv')\n",
        "df90 = pd.read_csv('./simulation_results/2023-07-14_20-29-43.csv')\n",
        "df91 = pd.read_csv('./simulation_results/2023-07-13_04-24-40.csv')\n",
        "df92 = pd.read_csv('./simulation_results/2023-07-15_09-33-11.csv')"
      ],
      "id": "a636fd37-c6be-40c6-97ae-38fa58338fe8"
    },
    {
      "cell_type": "code",
      "execution_count": 713,
      "metadata": {},
      "outputs": [],
      "source": [
        "data = pd.concat([df1,df2,df3,df4,df5,df6,df7,df8,df9,df10,df11,df12,df13,df14,df15,df16,df17,df18,df19,df20,df21,\n",
        "                 df22,df23,df24,df25,df26,df27,df28,df29,df30,df31,df32,df33,df34,df35,df36,df37,df38,df39,df40,\n",
        "                 df41,df42,df43,df44,df45,df46,df47,df48,df29,df50,df51,df52,df53,df54,df55,df56,df57,df58,df59,df60,df61,\n",
        "                 df62,df63,df64,df65,df66,df67,df68,df69,df70,df71,df72,df73,df74,df75,df76,df77,df78,df79,df80,df81,\n",
        "                 df82,df83,df84,df85,df86,df87,df88,df89,df90,df91,df92],axis=0)"
      ],
      "id": "df75bcbf-8d54-431c-9d66-ad3e670da7aa"
    },
    {
      "cell_type": "code",
      "execution_count": 714,
      "metadata": {},
      "outputs": [],
      "source": [
        "data.to_csv('./simulation_results/Real_simulation_reshape/GConvLSTM_windmillsmall.csv',index=False)"
      ],
      "id": "31ba8ea2-0bfd-41f2-920a-5055f09be528"
    },
    {
      "cell_type": "code",
      "execution_count": 715,
      "metadata": {},
      "outputs": [],
      "source": [
        "data = pd.read_csv('./simulation_results/Real_simulation_reshape/GConvLSTM_windmillsmall.csv')"
      ],
      "id": "b6672cd8-b917-4613-b928-229bcbd93441"
    },
    {
      "cell_type": "markdown",
      "metadata": {},
      "source": [
        "## Baseline"
      ],
      "id": "715fff60-29f9-4794-8dae-805ac0af49eb"
    },
    {
      "cell_type": "code",
      "execution_count": 693,
      "metadata": {},
      "outputs": [],
      "source": [
        "data.query(\"method!='GNAR' and mrate ==0 \").plot.box(backend='plotly',x='mrate',color='method',y='mse',facet_col='lags',height=800)\n"
      ],
      "id": "bfbcc9a0-7d5b-432d-b515-364adf90c676"
    },
    {
      "cell_type": "markdown",
      "metadata": {},
      "source": [
        "## random"
      ],
      "id": "7aa31e1e-bef9-4aca-9c1d-53b772d4177d"
    },
    {
      "cell_type": "code",
      "execution_count": 694,
      "metadata": {},
      "outputs": [],
      "source": [
        "data.query(\"method!='GNAR' and mtype =='rand' \").plot.box(backend='plotly',x='mrate',color='method',y='mse',facet_col='lags',facet_row='inter_method',height=800)\n"
      ],
      "id": "8b9894c5-e3d1-4283-9e71-e527282e07e9"
    },
    {
      "cell_type": "markdown",
      "metadata": {},
      "source": [
        "## block"
      ],
      "id": "85b688f0-1aef-44e7-b2cc-59ef36915d30"
    },
    {
      "cell_type": "code",
      "execution_count": 695,
      "metadata": {},
      "outputs": [],
      "source": [
        "data.query(\"method!='GNAR' and mtype =='block' \").plot.box(backend='plotly',x='mrate',color='method',y='mse',facet_col='lags',facet_row='inter_method',height=800)\n"
      ],
      "id": "da4e5caf-f7b9-42f2-a459-b95b337eefd3"
    },
    {
      "cell_type": "markdown",
      "metadata": {},
      "source": [
        "# Montevideobus"
      ],
      "id": "ebd91fb2-53cb-4482-8791-d9c8c1f709c5"
    },
    {
      "cell_type": "code",
      "execution_count": 592,
      "metadata": {},
      "outputs": [],
      "source": [
        "df1 = pd.read_csv('./simulation_results/2023-06-09_04-44-47.csv') # lags 8\n",
        "df2 = pd.read_csv('./simulation_results/2023-06-09_10-14-28.csv') # lags 8\n",
        "df3 = pd.read_csv('./simulation_results/2023-06-09_15-02-44.csv') # lags 8\n",
        "df4 = pd.read_csv('./simulation_results/2023-06-09_20-18-35.csv') # lags 8\n",
        "df5 = pd.read_csv('./simulation_results/2023-06-10_19-55-08.csv') # lags 8\n",
        "df6 = pd.read_csv('./simulation_results/2023-06-10_23-03-00.csv') # lags 8\n",
        "df7 = pd.read_csv('./simulation_results/2023-06-11_02-22-49.csv') # lags 8"
      ],
      "id": "ae85e805-dc13-4b1c-b14e-00cd3831527b"
    },
    {
      "cell_type": "code",
      "execution_count": 592,
      "metadata": {},
      "outputs": [],
      "source": [
        "df8 = pd.read_csv('./simulation_results/2023-07-20_01-06-37.csv') # lags 8\n",
        "df9 = pd.read_csv('./simulation_results/2023-07-20_06-05-46.csv') # lags 8\n",
        "df10 = pd.read_csv('./simulation_results/2023-07-20_10-50-04.csv') # lags 8\n",
        "# df11 = pd.read_csv('./simulation_results/2023-06-09_20-18-35.csv') # lags 8\n",
        "# df12 = pd.read_csv('./simulation_results/2023-06-10_19-55-08.csv') # lags 8\n",
        "# df13 = pd.read_csv('./simulation_results/2023-06-10_23-03-00.csv') # lags 8\n",
        "# df14 = pd.read_csv('./simulation_results/2023-06-11_02-22-49.csv') # lags 8"
      ],
      "id": "3bf4649b-ad5f-40cc-b8de-72df2a6a3775"
    },
    {
      "cell_type": "code",
      "execution_count": 195,
      "metadata": {},
      "outputs": [],
      "source": [
        "data = pd.concat([df1,df2,df3,df4,df5,df6,df7,df8,df9,df10],axis=0)"
      ],
      "id": "ada31638-b5b4-4683-8a94-75a417324c61"
    },
    {
      "cell_type": "code",
      "execution_count": 196,
      "metadata": {},
      "outputs": [],
      "source": [
        "data.to_csv('./simulation_results/Real_simulation_reshape/GConvLSTM_monte.csv',index=False)"
      ],
      "id": "0476d8e4-3500-4f3a-8558-4129702c8275"
    },
    {
      "cell_type": "code",
      "execution_count": 197,
      "metadata": {},
      "outputs": [],
      "source": [
        "data = pd.read_csv('./simulation_results/Real_simulation_reshape/GConvLSTM_monte.csv')"
      ],
      "id": "1207992a-2dfa-4d93-a2a6-49277ca3cad6"
    },
    {
      "cell_type": "markdown",
      "metadata": {},
      "source": [
        "## Baseline"
      ],
      "id": "0eb9d9c2-bb5e-4648-9139-92e3b04faefe"
    },
    {
      "cell_type": "code",
      "execution_count": 198,
      "metadata": {},
      "outputs": [],
      "source": [
        "data.query(\"mrate==0 and method!='GNAR'\").plot.box(backend='plotly',x='mrate',color='method',y='mse',facet_col='lags',facet_row='nof_filters',height=600)"
      ],
      "id": "b87fc607-6f3b-4ea5-83ed-06234b9acf4d"
    },
    {
      "cell_type": "markdown",
      "metadata": {},
      "source": [
        "## random"
      ],
      "id": "2515e649-a8c8-4f7f-afc6-25ed7e6803eb"
    },
    {
      "cell_type": "code",
      "execution_count": 199,
      "metadata": {},
      "outputs": [],
      "source": [
        "data.query(\"mtype=='rand' and mrate !=0 and method!='GNAR' and mrate!=0.3 and mrate!=0.4\").plot.box(backend='plotly',x='mrate',color='method',y='mse',facet_col='lags',facet_row='inter_method',height=800)\n"
      ],
      "id": "342f86ed-b74e-4d7a-9f36-9f1324322629"
    },
    {
      "cell_type": "markdown",
      "metadata": {},
      "source": [
        "## block"
      ],
      "id": "6df74524-cf72-488d-8d3c-a8583d71500c"
    },
    {
      "cell_type": "code",
      "execution_count": 200,
      "metadata": {},
      "outputs": [],
      "source": [
        "data.query(\"mtype=='block' and method!='GNAR'\").plot.box(backend='plotly',x='mrate',color='method',y='mse',facet_col='lags',facet_row='nof_filters',height=1200)\n"
      ],
      "id": "2de7c582-6d81-4212-9fcf-4e7ed05deba9"
    }
  ],
  "nbformat": 4,
  "nbformat_minor": 5,
  "metadata": {
    "kernelspec": {
      "name": "python3",
      "display_name": "Python 3",
      "language": "python"
    },
    "language_info": {
      "name": "python",
      "codemirror_mode": {
        "name": "ipython",
        "version": "3"
      },
      "file_extension": ".py",
      "mimetype": "text/x-python",
      "nbconvert_exporter": "python",
      "pygments_lexer": "ipython3",
      "version": "3.8.0"
    }
  }
}
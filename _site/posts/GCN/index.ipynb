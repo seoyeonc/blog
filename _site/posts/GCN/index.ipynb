{
  "cells": [
    {
      "cell_type": "markdown",
      "metadata": {},
      "source": [
        "# GCN\n",
        "\n",
        "SEOYEON CHOI  \n",
        "12/5/22\n",
        "\n",
        "About GCN Study"
      ],
      "id": "b6f639c4-6934-47b7-b482-b946c4381eb5"
    }
  ],
  "nbformat": 4,
  "nbformat_minor": 5,
  "metadata": {
    "kernelspec": {
      "display_name": "Python 3",
      "language": "python",
      "name": "python3"
    }
  }
}
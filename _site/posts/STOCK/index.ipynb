{
  "cells": [
    {
      "cell_type": "markdown",
      "metadata": {},
      "source": [
        "# STOCK\n",
        "\n",
        "SEOYEON CHOI  \n",
        "7/5/23\n",
        "\n",
        "About Stock Crawling"
      ],
      "id": "606c681f-bd43-47dc-b41f-ff9408e20003"
    }
  ],
  "nbformat": 4,
  "nbformat_minor": 5,
  "metadata": {
    "kernelspec": {
      "display_name": "Python 3",
      "language": "python",
      "name": "python3"
    }
  }
}
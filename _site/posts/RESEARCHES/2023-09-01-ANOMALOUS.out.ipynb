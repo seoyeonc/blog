{
  "cells": [
    {
      "cell_type": "markdown",
      "metadata": {},
      "source": [
        "# \\*\\*\\[ANOMALOUS\\]\\*\\*Graph\n",
        "\n",
        "SEOYEON CHOI  \n",
        "2023-09-01\n",
        "\n",
        "https://docs.pygod.org/en/latest/generated/pygod.detector.ANOMALOUS.html\n",
        "\n",
        "# Import"
      ],
      "id": "1ebb8de2-ce64-4e4f-b0aa-e44f72145b2e"
    },
    {
      "cell_type": "code",
      "execution_count": 1,
      "metadata": {},
      "outputs": [
        {
          "output_type": "stream",
          "name": "stderr",
          "text": [
            "/home/csy/anaconda3/envs/temp_csy/lib/python3.8/site-packages/tqdm/auto.py:22: TqdmWarning: IProgress not found. Please update jupyter and ipywidgets. See https://ipywidgets.readthedocs.io/en/stable/user_install.html\n",
            "  from .autonotebook import tqdm as notebook_tqdm"
          ]
        }
      ],
      "source": [
        "import pygod\n",
        "\n",
        "import torch_geometric.transforms as T\n",
        "from torch_geometric.datasets import Planetoid\n",
        "\n",
        "import torch\n",
        "from pygod.generator import gen_contextual_outlier, gen_structural_outlier\n",
        "\n",
        "from pygod.utils import load_data\n",
        "\n",
        "from pygod.metric import eval_roc_auc\n",
        "\n",
        "from pygod.detector import ANOMALOUS"
      ],
      "id": "87e45f07-3c6b-48d0-961b-f4b290b669a0"
    },
    {
      "cell_type": "markdown",
      "metadata": {},
      "source": [
        "# Tutorial?"
      ],
      "id": "833f5bea-dcae-4a3b-9572-0d09e5542265"
    },
    {
      "cell_type": "code",
      "execution_count": 2,
      "metadata": {},
      "outputs": [],
      "source": [
        "data = Planetoid('./data/Cora', 'Cora', transform=T.NormalizeFeatures())[0]"
      ],
      "id": "e47924ac-d491-4ea8-b6dc-72af7a15aa9b"
    },
    {
      "cell_type": "markdown",
      "metadata": {},
      "source": [
        "`gen_contextual_outlier`의 역할: Generating contextual outliers\n",
        "\n",
        "-   임의로 선택한 노드 중 그 노드들끼리 얼마나 떨어져 있나?\n",
        "\n",
        "`gen_structural_outlier`의 역할: Generating structural outliers\n",
        "\n",
        "-   임의로 선택한 노드들이 fully connected 되어있을때 그 집단과 얼마나\n",
        "    많이 다른가??\n",
        "\n",
        "위에서 찾은 이상치 간에 `torch.logical_or` 논리 or 생성"
      ],
      "id": "454f6c88-8a28-4eb0-abae-54064d0a80aa"
    },
    {
      "cell_type": "code",
      "execution_count": 24,
      "metadata": {},
      "outputs": [],
      "source": [
        "data, ya = gen_contextual_outlier(data, n=100, k=50)\n",
        "data, ys = gen_structural_outlier(data, m=10, n=10)\n",
        "data.y = torch.logical_or(ys, ya).long()"
      ],
      "id": "93847ada-b960-414b-a15b-6aeaf300e7a3"
    },
    {
      "cell_type": "code",
      "execution_count": 25,
      "metadata": {},
      "outputs": [],
      "source": [
        "ya"
      ],
      "id": "a6f6a4bd-f556-4abe-9ab9-ffa7e5cc8a8a"
    },
    {
      "cell_type": "code",
      "execution_count": 26,
      "metadata": {},
      "outputs": [],
      "source": [
        "ys"
      ],
      "id": "60c1980c-78d0-48fa-8fcf-44d6f5d54d3f"
    },
    {
      "cell_type": "code",
      "execution_count": 27,
      "metadata": {},
      "outputs": [],
      "source": [
        "data.y"
      ],
      "id": "49b21e0b-758e-47b8-a70a-39d4881535d4"
    },
    {
      "cell_type": "code",
      "execution_count": 28,
      "metadata": {},
      "outputs": [],
      "source": [
        "data = load_data('inj_cora')\n",
        "data.y = data.y.bool()"
      ],
      "id": "14b10998-c9af-4b60-be83-ec9397a429b7"
    },
    {
      "cell_type": "code",
      "execution_count": 29,
      "metadata": {},
      "outputs": [],
      "source": [
        "data.y"
      ],
      "id": "8949953a-4ad2-4895-bcac-f72858909172"
    },
    {
      "cell_type": "markdown",
      "metadata": {},
      "source": [
        "`self..bool` 로 참인지 거짓인지 가릴 수 있다.\n",
        "\n",
        "-   여기서는 참이면 이상치인듯\n",
        "\n",
        "일단 default로 다 지정함!"
      ],
      "id": "62b748b4-c2e8-4715-b857-ec52dc21115e"
    },
    {
      "cell_type": "code",
      "execution_count": 38,
      "metadata": {},
      "outputs": [],
      "source": [
        "ANOMALOUS??"
      ],
      "id": "4d5b0185-5f4d-46c9-a424-2bebf9412290"
    },
    {
      "cell_type": "code",
      "execution_count": 7,
      "metadata": {},
      "outputs": [],
      "source": [
        "detector = ANOMALOUS(\n",
        "                     gamma=1.,\n",
        "                     weight_decay=0.,\n",
        "                     lr=0.004,\n",
        "                     epoch=50,\n",
        "                     gpu=-1,\n",
        "                     contamination=0.1,\n",
        "                     verbose=1)"
      ],
      "id": "8e8ce7b9-4759-483e-b43c-a8009f7e6434"
    },
    {
      "cell_type": "code",
      "execution_count": 8,
      "metadata": {},
      "outputs": [
        {
          "output_type": "stream",
          "name": "stdout",
          "text": [
            "Epoch 0000: Loss 237.0171 | \n",
            "Epoch 0001: Loss 356.7674 | \n",
            "Epoch 0002: Loss 310.8181 | \n",
            "Epoch 0003: Loss 275.8468 | \n",
            "Epoch 0004: Loss 280.3098 | \n",
            "Epoch 0005: Loss 268.1898 | \n",
            "Epoch 0006: Loss 243.2306 | \n",
            "Epoch 0007: Loss 229.1043 | \n",
            "Epoch 0008: Loss 229.6093 | \n",
            "Epoch 0009: Loss 229.9764 | \n",
            "Epoch 0010: Loss 220.9659 | \n",
            "Epoch 0011: Loss 207.6987 | \n",
            "Epoch 0012: Loss 198.8828 | \n",
            "Epoch 0013: Loss 196.9338 | \n",
            "Epoch 0014: Loss 197.5060 | \n",
            "Epoch 0015: Loss 195.5079 | \n",
            "Epoch 0016: Loss 189.9688 | \n",
            "Epoch 0017: Loss 183.4905 | \n",
            "Epoch 0018: Loss 178.8282 | \n",
            "Epoch 0019: Loss 176.6092 | \n",
            "Epoch 0020: Loss 175.4680 | \n",
            "Epoch 0021: Loss 173.7039 | \n",
            "Epoch 0022: Loss 170.7700 | \n",
            "Epoch 0023: Loss 167.3733 | \n",
            "Epoch 0024: Loss 164.4996 | \n",
            "Epoch 0025: Loss 162.5093 | \n",
            "Epoch 0026: Loss 160.9978 | \n",
            "Epoch 0027: Loss 159.3299 | \n",
            "Epoch 0028: Loss 157.2655 | \n",
            "Epoch 0029: Loss 155.0807 | \n",
            "Epoch 0030: Loss 153.1761 | \n",
            "Epoch 0031: Loss 151.6431 | \n",
            "Epoch 0032: Loss 150.2250 | \n",
            "Epoch 0033: Loss 148.6562 | \n",
            "Epoch 0034: Loss 146.9522 | \n",
            "Epoch 0035: Loss 145.3403 | \n",
            "Epoch 0036: Loss 143.9650 | \n",
            "Epoch 0037: Loss 142.7339 | \n",
            "Epoch 0038: Loss 141.4505 | \n",
            "Epoch 0039: Loss 140.0465 | \n",
            "Epoch 0040: Loss 138.6338 | \n",
            "Epoch 0041: Loss 137.3520 | \n",
            "Epoch 0042: Loss 136.2077 | \n",
            "Epoch 0043: Loss 135.0914 | \n",
            "Epoch 0044: Loss 133.9177 | \n",
            "Epoch 0045: Loss 132.7070 | \n",
            "Epoch 0046: Loss 131.5411 | \n",
            "Epoch 0047: Loss 130.4572 | \n",
            "Epoch 0048: Loss 129.4178 | \n",
            "Epoch 0049: Loss 128.3680 | "
          ]
        }
      ],
      "source": [
        "detector.fit(data)"
      ],
      "id": "811ba7e3-ca47-40f0-a1ef-4a7d033a656b"
    },
    {
      "cell_type": "markdown",
      "metadata": {},
      "source": [
        "decision_function의 결과로 나오는 decision_score는 r의 제곱이며, 이 r은\n",
        "model에서 나온 결과인데 이 model은 ANOMALOUSBase(w_init, r_init)의\n",
        "결과이다.\n",
        "\n",
        "이 r_init은 ANOMALOUS class 내에 있는 x, s, l, w_init, r_init =\n",
        "self.process_graph(data) 여기서 나온다.\n",
        "\n",
        "``` python\n",
        "class ANOMALOUSBase(nn.Module):\n",
        "    def __init__(self, w, r):\n",
        "        super(ANOMALOUSBase, self).__init__()\n",
        "        self.w = nn.Parameter(w)\n",
        "        self.r = nn.Parameter(r)\n",
        "\n",
        "    def forward(self, x):\n",
        "        return x @ self.w @ x, self.r\n",
        "```"
      ],
      "id": "758527a2-ed17-45d3-bf4d-e54c59ce6578"
    },
    {
      "cell_type": "code",
      "execution_count": 33,
      "metadata": {},
      "outputs": [
        {
          "output_type": "stream",
          "name": "stdout",
          "text": [
            "Epoch 0000: Loss 238.6000 | \n",
            "Epoch 0001: Loss 355.9728 | \n",
            "Epoch 0002: Loss 311.7197 | \n",
            "Epoch 0003: Loss 277.0152 | \n",
            "Epoch 0004: Loss 281.0936 | \n",
            "Epoch 0005: Loss 269.0146 | \n",
            "Epoch 0006: Loss 244.2045 | \n",
            "Epoch 0007: Loss 230.1487 | \n",
            "Epoch 0008: Loss 230.6535 | \n",
            "Epoch 0009: Loss 231.0334 | \n",
            "Epoch 0010: Loss 222.0815 | \n",
            "Epoch 0011: Loss 208.8804 | \n",
            "Epoch 0012: Loss 200.1095 | \n",
            "Epoch 0013: Loss 198.1850 | \n",
            "Epoch 0014: Loss 198.7811 | \n",
            "Epoch 0015: Loss 196.8214 | \n",
            "Epoch 0016: Loss 191.3329 | \n",
            "Epoch 0017: Loss 184.9027 | \n",
            "Epoch 0018: Loss 180.2879 | \n",
            "Epoch 0019: Loss 178.1177 | \n",
            "Epoch 0020: Loss 177.0156 | \n",
            "Epoch 0021: Loss 175.2700 | \n",
            "Epoch 0022: Loss 172.3453 | \n",
            "Epoch 0023: Loss 168.9704 | \n",
            "Epoch 0024: Loss 166.1346 | \n",
            "Epoch 0025: Loss 164.1824 | \n",
            "Epoch 0026: Loss 162.6945 | \n",
            "Epoch 0027: Loss 161.0458 | \n",
            "Epoch 0028: Loss 159.0115 | \n",
            "Epoch 0029: Loss 156.8679 | \n",
            "Epoch 0030: Loss 155.0013 | \n",
            "Epoch 0031: Loss 153.4898 | \n",
            "Epoch 0032: Loss 152.0841 | \n",
            "Epoch 0033: Loss 150.5321 | \n",
            "Epoch 0034: Loss 148.8531 | \n",
            "Epoch 0035: Loss 147.2667 | \n",
            "Epoch 0036: Loss 145.9125 | \n",
            "Epoch 0037: Loss 144.6985 | \n",
            "Epoch 0038: Loss 143.4330 | \n",
            "Epoch 0039: Loss 142.0480 | \n",
            "Epoch 0040: Loss 140.6532 | \n",
            "Epoch 0041: Loss 139.3850 | \n",
            "Epoch 0042: Loss 138.2538 | \n",
            "Epoch 0043: Loss 137.1535 | \n",
            "Epoch 0044: Loss 135.9950 | \n",
            "Epoch 0045: Loss 134.7979 | \n",
            "Epoch 0046: Loss 133.6421 | \n",
            "Epoch 0047: Loss 132.5681 | \n",
            "Epoch 0048: Loss 131.5393 | \n",
            "Epoch 0049: Loss 130.4998 | "
          ]
        }
      ],
      "source": [
        "detector.decision_function(data)"
      ],
      "id": "fb252bf0-8725-46b5-8337-14525ad200a7"
    },
    {
      "cell_type": "code",
      "execution_count": 35,
      "metadata": {},
      "outputs": [],
      "source": [
        "detector.process_graph(data)"
      ],
      "id": "ff646dfc-4b34-42c6-8261-de92c837ad5c"
    }
  ],
  "nbformat": 4,
  "nbformat_minor": 5,
  "metadata": {
    "kernelspec": {
      "name": "python3",
      "display_name": "Python 3",
      "language": "python"
    },
    "language_info": {
      "name": "python",
      "codemirror_mode": {
        "name": "ipython",
        "version": "3"
      },
      "file_extension": ".py",
      "mimetype": "text/x-python",
      "nbconvert_exporter": "python",
      "pygments_lexer": "ipython3",
      "version": "3.8.0"
    }
  }
}
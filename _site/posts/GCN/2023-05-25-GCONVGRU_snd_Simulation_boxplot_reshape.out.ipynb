{
  "cells": [
    {
      "cell_type": "markdown",
      "metadata": {},
      "source": [
        "# GConvGRU_Simulation Boxplot_reshape\n",
        "\n",
        "SEOYEON CHOI  \n",
        "5/25/23\n",
        "\n",
        "> Simulation Study\n",
        "\n",
        "# Import"
      ],
      "id": "fbf44d67-07b4-4b9d-930e-61301e1716ef"
    },
    {
      "cell_type": "code",
      "execution_count": 497,
      "metadata": {},
      "outputs": [],
      "source": [
        "import matplotlib.pyplot as plt\n",
        "import pandas as pd\n",
        "import numpy as np"
      ],
      "id": "bc4b2ee2-01fa-4dcb-92e5-0a9e7b3a50e0"
    },
    {
      "cell_type": "markdown",
      "metadata": {},
      "source": [
        "# Fivenodes\n",
        "\n",
        "``` python\n",
        "mindex= [[],[],[],list(range(50,150)),[]] # block 1\n",
        "mindex= [list(range(10,100)),[],list(range(50,80)),[],[]] # node 2 30% mmissing\n",
        "```\n",
        "\n",
        "block 조건\n",
        "\n",
        "`2023-05-20_09-53-08`\n",
        "\n",
        "epoch 150"
      ],
      "id": "49bf9207-aadb-46a4-9884-8ecb9f0ad202"
    },
    {
      "cell_type": "code",
      "execution_count": 52,
      "metadata": {},
      "outputs": [],
      "source": [
        "df1 = pd.read_csv('./simulation_results/2023-05-26_07-07-05.csv')\n",
        "df2 = pd.read_csv('./simulation_results/2023-05-27_21-02-01.csv')"
      ],
      "id": "abc98d94-727d-4c10-a900-9bdb47c705b4"
    },
    {
      "cell_type": "code",
      "execution_count": 53,
      "metadata": {},
      "outputs": [],
      "source": [
        "df3 = pd.read_csv('./simulation_results/2023-07-14_19-15-30.csv')\n",
        "df4 = pd.read_csv('./simulation_results/2023-07-14_20-20-12.csv')\n",
        "df5 = pd.read_csv('./simulation_results/2023-07-14_21-17-16.csv')\n",
        "df6 = pd.read_csv('./simulation_results/2023-07-14_22-12-52.csv')\n",
        "df7 = pd.read_csv('./simulation_results/2023-07-14_23-13-30.csv')\n",
        "df8 = pd.read_csv('./simulation_results/2023-07-15_00-17-49.csv')"
      ],
      "id": "0ab58154-ecf2-45c8-b502-93c51a2f84b5"
    },
    {
      "cell_type": "code",
      "execution_count": 54,
      "metadata": {},
      "outputs": [],
      "source": [
        "data = pd.concat([df1,df2,df3,df4,df5,df6,df7,df8],axis=0)"
      ],
      "id": "91ad522e-bd8c-4afd-b5ab-711cf10de5fc"
    },
    {
      "cell_type": "code",
      "execution_count": 55,
      "metadata": {},
      "outputs": [],
      "source": [
        "data.to_csv('./simulation_results/Real_simulation_reshape/fivedones_Simulation.csv',index=False)"
      ],
      "id": "86af91e8-aad4-4b98-9272-451d8bda3217"
    },
    {
      "cell_type": "code",
      "execution_count": 56,
      "metadata": {},
      "outputs": [],
      "source": [
        "data = pd.read_csv('./simulation_results/Real_simulation_reshape/fivedones_Simulation.csv')"
      ],
      "id": "4e2c7b10-5f01-486b-8218-57e77146b668"
    },
    {
      "cell_type": "markdown",
      "metadata": {},
      "source": [
        "## Baseline"
      ],
      "id": "754318f9-eb6c-4a98-9c53-421a560b3ee8"
    },
    {
      "cell_type": "code",
      "execution_count": 57,
      "metadata": {
        "tags": []
      },
      "outputs": [],
      "source": [
        "data.query(\"method!='GNAR' and mrate==0\").plot.box(backend='plotly',x='mrate',color='method',y='mse',facet_col='lags',facet_row='nof_filters',height=600)\n"
      ],
      "id": "85c1a3c1-00fe-49ca-947b-31f0cec16eb0"
    },
    {
      "cell_type": "code",
      "execution_count": 58,
      "metadata": {},
      "outputs": [],
      "source": [
        "data.query(\"method!='GNAR' and mtype =='rand'\").plot.box(backend='plotly',x='mrate',color='method',y='mse',facet_col='mrate',facet_row='inter_method',height=600)\n"
      ],
      "id": "128bfa07-8d43-4d14-adb8-b25a517bbdd6"
    },
    {
      "cell_type": "code",
      "execution_count": 59,
      "metadata": {},
      "outputs": [],
      "source": [
        "data.query(\"method!='GNAR' and mtype =='block' \").plot.box(backend='plotly',x='mrate',color='method',y='mse',facet_col='inter_method',facet_row='lags',height=600)\n"
      ],
      "id": "553a8811-f207-4813-b2b6-e22b7b58616d"
    },
    {
      "cell_type": "markdown",
      "metadata": {},
      "source": [
        "# chickenpox\n",
        "\n",
        "``` python\n",
        "my_list = [[] for _ in range(20)] #chickenpox\n",
        "another_list = list(range(100,400))\n",
        "my_list[1] = another_list\n",
        "my_list[3] = another_list\n",
        "my_list[5] = another_list\n",
        "my_list[7] = another_list\n",
        "my_list[9] = another_list\n",
        "my_list[11] = another_list\n",
        "my_list[13] = another_list\n",
        "my_list[15] = another_list\n",
        "mindex = my_list\n",
        "```\n",
        "\n",
        "block 30% missing을 위한 조건"
      ],
      "id": "f7249433-244e-481a-b8fd-31cbf2bae468"
    },
    {
      "cell_type": "code",
      "execution_count": 60,
      "metadata": {},
      "outputs": [],
      "source": [
        "df1 = pd.read_csv('./simulation_results/2023-05-26_18-06-07.csv') # GNAR random\n",
        "df2 = pd.read_csv('./simulation_results/2023-05-28_16-17-21.csv') # GNAR block\n",
        "df3 = pd.read_csv('./simulation_results/2023-05-28_20-41-00.csv') # STGCN, ITSTGCN random 30%\n",
        "df4 = pd.read_csv('./simulation_results/2023-05-29_06-35-52.csv')"
      ],
      "id": "ce66281f-4ba0-4d9a-9da2-60c913c0261d"
    },
    {
      "cell_type": "code",
      "execution_count": 61,
      "metadata": {},
      "outputs": [],
      "source": [
        "df5 = pd.read_csv('./simulation_results/2023-07-15_03-00-24.csv')\n",
        "df6 = pd.read_csv('./simulation_results/2023-07-15_05-54-45.csv')\n",
        "df7 = pd.read_csv('./simulation_results/2023-07-15_08-36-29.csv')\n",
        "df8 = pd.read_csv('./simulation_results/2023-07-15_10-39-42.csv')"
      ],
      "id": "6e84dac9-cb7c-478c-b2ab-b7e8ed77e7bf"
    },
    {
      "cell_type": "code",
      "execution_count": 62,
      "metadata": {},
      "outputs": [],
      "source": [
        "data = pd.concat([df1,df2,df3,df4,df5,df6,df7,df8],axis=0)"
      ],
      "id": "bfff9740-8ca1-435e-a727-588a8bd901d2"
    },
    {
      "cell_type": "code",
      "execution_count": 63,
      "metadata": {},
      "outputs": [],
      "source": [
        "data.to_csv('./simulation_results/Real_simulation_reshape/chikenpox_Simulation.csv',index=False)"
      ],
      "id": "9da35fa5-e134-479b-a936-2c3399e1a4d9"
    },
    {
      "cell_type": "code",
      "execution_count": 64,
      "metadata": {},
      "outputs": [],
      "source": [
        "data = pd.read_csv('./simulation_results/Real_simulation_reshape/chikenpox_Simulation.csv')"
      ],
      "id": "c26b7faf-4476-425c-8c28-ddaaed020005"
    },
    {
      "cell_type": "markdown",
      "metadata": {},
      "source": [
        "## Baseline"
      ],
      "id": "5fb92bdf-7428-4937-b3f1-cf1f4a6418d3"
    },
    {
      "cell_type": "code",
      "execution_count": 65,
      "metadata": {},
      "outputs": [],
      "source": [
        "data.query(\"method!='GNAR' and mrate ==0 \").plot.box(backend='plotly',x='mrate',color='method',y='mse',facet_col='nof_filters',height=600)\n"
      ],
      "id": "2c4ceef9-be83-4bbd-ae88-44987df8f6e9"
    },
    {
      "cell_type": "markdown",
      "metadata": {},
      "source": [
        "## Random"
      ],
      "id": "2fed2873-50fe-43c0-a31d-d1c3fc667b51"
    },
    {
      "cell_type": "code",
      "execution_count": 66,
      "metadata": {},
      "outputs": [],
      "source": [
        "data.query(\"method!='GNAR' and mtype =='rand'\").plot.box(backend='plotly',x='mrate',color='method',y='mse',facet_col='nof_filters',facet_row='inter_method',height=800)\n"
      ],
      "id": "ebad6951-aee8-469c-a00d-1bccf0b4b044"
    },
    {
      "cell_type": "markdown",
      "metadata": {},
      "source": [
        "## Block"
      ],
      "id": "74392d97-f910-4799-afd7-882e3c6c8f45"
    },
    {
      "cell_type": "code",
      "execution_count": 67,
      "metadata": {},
      "outputs": [],
      "source": [
        "data.query(\"method!='GNAR' and mtype =='block'\").plot.box(backend='plotly',x='mrate',color='method',y='mse',facet_col='inter_method',facet_row='lags',height=800)\n"
      ],
      "id": "9c43dc46-5f88-4167-bc13-6b488067b74e"
    },
    {
      "cell_type": "markdown",
      "metadata": {},
      "source": [
        "# Pedalme\n",
        "\n",
        "block1\n",
        "\n",
        "``` python\n",
        "my_list = [[] for _ in range(15)] #pedalme\n",
        "another_list = list(range(5,25))\n",
        "my_list[1] = another_list\n",
        "my_list[3] = another_list\n",
        "my_list[5] = another_list\n",
        "my_list[7] = another_list\n",
        "my_list[9] = another_list\n",
        "my_list[11] = another_list\n",
        "mindex = my_list\n",
        "```\n",
        "\n",
        "block 30% missing을 위한 조건\n",
        "\n",
        "block2\n",
        "\n",
        "``` python\n",
        "my_list = [[] for _ in range(15)] #pedalme\n",
        "another_list = list(range(10,25))\n",
        "my_list[2] = another_list\n",
        "my_list[4] = another_list\n",
        "my_list[5] = another_list\n",
        "my_list[11] = another_list\n",
        "mindex = my_list\n",
        "```\n",
        "\n",
        "block 30% missing을 위한 조건"
      ],
      "id": "d3657f52-5964-4582-8c74-6eb0134d3260"
    },
    {
      "cell_type": "code",
      "execution_count": 68,
      "metadata": {},
      "outputs": [],
      "source": [
        "df1 = pd.read_csv('./simulation_results/2023-05-25_19-21-30.csv') \n",
        "df2 = pd.read_csv('./simulation_results/2023-05-25_19-52-39.csv') "
      ],
      "id": "75913f6e-6440-423b-bae3-81692774f786"
    },
    {
      "cell_type": "code",
      "execution_count": 69,
      "metadata": {},
      "outputs": [],
      "source": [
        "df3 = pd.read_csv('./simulation_results/2023-07-15_11-17-37.csv')"
      ],
      "id": "e85be6f4-5100-45bd-878b-6c5a3ea06bce"
    },
    {
      "cell_type": "code",
      "execution_count": 70,
      "metadata": {},
      "outputs": [],
      "source": [
        "data = pd.concat([df1,df2,df3],axis=0)"
      ],
      "id": "3873e03d-4cfd-48b8-8a1f-89bad4d9d2da"
    },
    {
      "cell_type": "code",
      "execution_count": 71,
      "metadata": {},
      "outputs": [],
      "source": [
        "data.to_csv('./simulation_results/Real_simulation_reshape/pedalme_Simulation.csv',index=False)"
      ],
      "id": "45b43091-1e07-4096-944e-063e2badf489"
    },
    {
      "cell_type": "code",
      "execution_count": 72,
      "metadata": {},
      "outputs": [],
      "source": [
        "data = pd.read_csv('./simulation_results/Real_simulation_reshape/pedalme_Simulation.csv')"
      ],
      "id": "bf86b9a9-14c1-4b32-8b51-1d00484ce7c2"
    },
    {
      "cell_type": "code",
      "execution_count": 73,
      "metadata": {},
      "outputs": [],
      "source": [
        "data.query(\"method=='STGCN' and mtype == 'rand'\")['mse'].mean(),data.query(\"method=='STGCN' and mtype != 'rand'\")['mse'].mean()"
      ],
      "id": "5278711c-3eaf-429e-b6fa-26b0eeeeef1f"
    },
    {
      "cell_type": "code",
      "execution_count": 74,
      "metadata": {},
      "outputs": [],
      "source": [
        "data.query(\"method=='IT-STGCN' and mtype == 'rand'\")['mse'].mean(),data.query(\"method=='IT-STGCN' and mtype != 'rand'\")['mse'].mean()"
      ],
      "id": "9c9ce981-ec75-4d82-ae27-71ab40893d93"
    },
    {
      "cell_type": "markdown",
      "metadata": {},
      "source": [
        "## Baseline"
      ],
      "id": "dc706e19-d2cf-49a2-bdf4-4cdbe0a05586"
    },
    {
      "cell_type": "code",
      "execution_count": 75,
      "metadata": {},
      "outputs": [],
      "source": [
        "data.query(\"mrate ==0 \").plot.box(backend='plotly',x='epoch',color='method',y='mse',height=800)\n"
      ],
      "id": "49ce873c-4553-4d12-9024-0a5ab17a1c8e"
    },
    {
      "cell_type": "markdown",
      "metadata": {},
      "source": [
        "## random"
      ],
      "id": "686a3784-c399-4458-b68a-7515efc179a6"
    },
    {
      "cell_type": "code",
      "execution_count": 76,
      "metadata": {},
      "outputs": [],
      "source": [
        "data.query(\"method!='GNAR' and mtype =='rand' \").plot.box(backend='plotly',x='mrate',color='method',y='mse',facet_col='lags',facet_row='inter_method',height=800)\n"
      ],
      "id": "fcfda0d4-e299-4e76-80a9-ba77d256f8ba"
    },
    {
      "cell_type": "markdown",
      "metadata": {},
      "source": [
        "## block"
      ],
      "id": "3a27216a-7c80-46ca-b03b-ce343ae89981"
    },
    {
      "cell_type": "code",
      "execution_count": 77,
      "metadata": {},
      "outputs": [],
      "source": [
        "data.query(\"method!='GNAR' and mtype =='block' \").plot.box(backend='plotly',x='mrate',color='method',y='mse',facet_col='inter_method',facet_row='lags',height=600)\n"
      ],
      "id": "ee963316-2ac6-4ef3-8cbb-b0ce53e03270"
    },
    {
      "cell_type": "markdown",
      "metadata": {},
      "source": [
        "## weight matrix time, node 고려한 결과"
      ],
      "id": "ba5c6a27-ec7e-4dba-b17f-363459c48e6f"
    },
    {
      "cell_type": "code",
      "execution_count": 25,
      "metadata": {},
      "outputs": [],
      "source": [
        "df1 = pd.read_csv('./simulation_results/2023-05-28_10-40-44.csv')\n",
        "df2 = pd.read_csv('./simulation_results/2023-05-28_11-09-06.csv')"
      ],
      "id": "e15fd849-9545-44f2-80d5-a9ef0a963011"
    },
    {
      "cell_type": "code",
      "execution_count": 26,
      "metadata": {},
      "outputs": [],
      "source": [
        "data2 = pd.concat([df1,df2],axis=0)"
      ],
      "id": "9781ddea-e0be-48e5-8d67-7ac9400b4cb5"
    },
    {
      "cell_type": "code",
      "execution_count": 27,
      "metadata": {},
      "outputs": [],
      "source": [
        "data2.to_csv('./simulation_results/Real_simulation_reshape/pedalme_Simulation_itstgcnsnd.csv',index=False)"
      ],
      "id": "d73b9aba-f687-483a-9351-0496fea4291c"
    },
    {
      "cell_type": "code",
      "execution_count": 28,
      "metadata": {},
      "outputs": [],
      "source": [
        "data2 = pd.read_csv('./simulation_results/Real_simulation_reshape/pedalme_Simulation_itstgcnsnd.csv')"
      ],
      "id": "259740dd-f9dd-4ec6-9cf7-b64ffa08f954"
    },
    {
      "cell_type": "code",
      "execution_count": 29,
      "metadata": {},
      "outputs": [],
      "source": [
        "data2.query(\"mtype=='rand'\").plot.box(backend='plotly',x='mrate',color='method',y='mse',facet_col='inter_method',facet_row='lags',height=1000)"
      ],
      "id": "a02eec54-e687-43a2-9e57-2511c13e6f71"
    },
    {
      "cell_type": "code",
      "execution_count": 30,
      "metadata": {},
      "outputs": [],
      "source": [
        "data2.query(\"mtype=='block'\").plot.box(backend='plotly',x='mrate',color='method',y='mse',facet_col='inter_method',facet_row='lags',height=1000)"
      ],
      "id": "faff24da-5130-49b4-81d1-567651538c56"
    },
    {
      "cell_type": "markdown",
      "metadata": {},
      "source": [
        "# Wikimath"
      ],
      "id": "d00224e6-5d59-4469-91f4-6015e652d722"
    },
    {
      "cell_type": "code",
      "execution_count": 78,
      "metadata": {},
      "outputs": [],
      "source": [
        "df1 = pd.read_csv('./simulation_results/2023-05-26_03-28-39.csv')\n",
        "df2 = pd.read_csv('./simulation_results/2023-05-27_00-32-12.csv')\n",
        "df3 = pd.read_csv('./simulation_results/2023-05-27_08-08-15.csv')\n",
        "df4 = pd.read_csv('./simulation_results/2023-05-27_17-49-17.csv')\n",
        "df5 = pd.read_csv('./simulation_results/2023-05-28_03-28-19.csv')\n",
        "df6 = pd.read_csv('./simulation_results/2023-05-28_04-31-07.csv')\n",
        "df7 = pd.read_csv('./simulation_results/2023-05-28_15-46-26.csv')\n",
        "df8 = pd.read_csv('./simulation_results/2023-05-29_17-36-54.csv')\n",
        "df9 = pd.read_csv('./simulation_results/2023-05-30_04-27-01.csv')"
      ],
      "id": "389149d9-b44e-474d-8817-62e31be48fe1"
    },
    {
      "cell_type": "code",
      "execution_count": 79,
      "metadata": {},
      "outputs": [],
      "source": [
        "df10 = pd.read_csv('./simulation_results/2023-07-15_20-52-25.csv')\n",
        "df11 = pd.read_csv('./simulation_results/2023-07-16_08-07-41.csv')\n",
        "df12 = pd.read_csv('./simulation_results/2023-07-16_14-17-47.csv')\n",
        "df13 = pd.read_csv('./simulation_results/2023-07-16_20-55-00.csv')\n",
        "df14 = pd.read_csv('./simulation_results/2023-07-17_03-58-38.csv')\n",
        "df15 = pd.read_csv('./simulation_results/2023-07-17_10-21-14.csv')\n",
        "df16 = pd.read_csv('./simulation_results/2023-07-17_16-00-20.csv')\n",
        "df17 = pd.read_csv('./simulation_results/2023-07-17_22-08-59.csv')"
      ],
      "id": "45188889-7b9b-43d5-9653-fbc0442b53ac"
    },
    {
      "cell_type": "code",
      "execution_count": 80,
      "metadata": {},
      "outputs": [],
      "source": [
        "df18 = pd.read_csv('./simulation_results/2023-07-19_08-35-52.csv')\n",
        "df19 = pd.read_csv('./simulation_results/2023-07-19_15-01-57.csv')\n",
        "df20 = pd.read_csv('./simulation_results/2023-07-19_22-33-07.csv')\n",
        "df21 = pd.read_csv('./simulation_results/2023-07-20_06-21-30.csv')\n",
        "df22 = pd.read_csv('./simulation_results/2023-07-20_14-07-04.csv')\n",
        "df23 = pd.read_csv('./simulation_results/2023-07-20_21-14-32.csv')\n",
        "df24 = pd.read_csv('./simulation_results/2023-07-21_04-45-06.csv')\n",
        "df25 = pd.read_csv('./simulation_results/2023-07-21_11-26-12.csv')"
      ],
      "id": "6de63be2-c455-4289-abec-d01baeab8f2c"
    },
    {
      "cell_type": "code",
      "execution_count": 81,
      "metadata": {},
      "outputs": [],
      "source": [
        "data = pd.concat([df1,df2,df3,df4,df5,df6,df7,df8,df9,df10,df11,df12,df13,df14,df15,df16,df17,\n",
        "                 df18,df19,df20,df21,df22,df23,df24,df25],axis=0)"
      ],
      "id": "b3859873-acfd-41cf-9974-bc0828f5ed44"
    },
    {
      "cell_type": "code",
      "execution_count": 82,
      "metadata": {},
      "outputs": [],
      "source": [
        "data.to_csv('./simulation_results/Real_simulation_reshape/wikimath.csv',index=False)"
      ],
      "id": "b65a7020-887f-480a-a2be-69c0f83391b2"
    },
    {
      "cell_type": "code",
      "execution_count": 83,
      "metadata": {},
      "outputs": [],
      "source": [
        "data = pd.read_csv('./simulation_results/Real_simulation_reshape/wikimath.csv')"
      ],
      "id": "05f65ff1-84e2-4d92-8875-c329c19f0992"
    },
    {
      "cell_type": "markdown",
      "metadata": {},
      "source": [
        "## Baseline"
      ],
      "id": "90221f6e-e0f6-49e1-9d7d-c6f39f9a7e2a"
    },
    {
      "cell_type": "code",
      "execution_count": 84,
      "metadata": {},
      "outputs": [],
      "source": [
        "data.query(\"mrate==0 and method!='GNAR'\").plot.box(backend='plotly',x='mrate',color='method',y='mse',height=600)"
      ],
      "id": "a2343263-32df-4db0-8226-f2d6f7625afe"
    },
    {
      "cell_type": "markdown",
      "metadata": {},
      "source": [
        "## random"
      ],
      "id": "e43f56fa-5408-452a-ac47-24b2489e0b9d"
    },
    {
      "cell_type": "code",
      "execution_count": 85,
      "metadata": {},
      "outputs": [],
      "source": [
        "data.query(\"mtype=='rand' and mrate !=0 and method!='GNAR'\").plot.box(backend='plotly',x='mrate',color='method',y='mse',facet_col='lags',facet_row='nof_filters',height=800)\n"
      ],
      "id": "7657c92e-9224-4656-a3b8-de60e9deba6b"
    },
    {
      "cell_type": "markdown",
      "metadata": {},
      "source": [
        "## block"
      ],
      "id": "07c428de-3d6f-446a-a543-d1062e3e95b1"
    },
    {
      "cell_type": "code",
      "execution_count": 86,
      "metadata": {},
      "outputs": [],
      "source": [
        "data.query(\"mtype=='block' and method!='GNAR'\").plot.box(backend='plotly',x='mrate',color='method',y='mse',facet_col='lags',facet_row='nof_filters',height=1200)\n"
      ],
      "id": "feca27cc-32d2-4e69-81d6-6cc3b52f4cb0"
    },
    {
      "cell_type": "markdown",
      "metadata": {},
      "source": [
        "## missing values on the same nodes"
      ],
      "id": "e6734953-39d0-4321-bf09-927d661f9db5"
    },
    {
      "cell_type": "code",
      "execution_count": 38,
      "metadata": {
        "tags": []
      },
      "outputs": [],
      "source": [
        "# 10%\n",
        "df1 = pd.read_csv('./simulation_results/2023-05-30_15-07-43.csv') # STGCN IT-STGCN block\n",
        "df2 = pd.read_csv('./simulation_results/2023-05-31_01-58-40.csv') # STGCN IT-STGCN"
      ],
      "id": "3f4587b4-e64f-4385-8c02-71ea065050d8"
    },
    {
      "cell_type": "code",
      "execution_count": 39,
      "metadata": {},
      "outputs": [],
      "source": [
        "data = pd.concat([df1,df2],axis=0)"
      ],
      "id": "dc55e285-b166-45f7-8936-f2084907d569"
    },
    {
      "cell_type": "code",
      "execution_count": 40,
      "metadata": {},
      "outputs": [],
      "source": [
        "data.to_csv('./simulation_results/Real_simulation_reshape/wikimath_GSO_st.csv',index=False)"
      ],
      "id": "d5ce0a60-6f74-4266-9489-a3661e370130"
    },
    {
      "cell_type": "code",
      "execution_count": 41,
      "metadata": {},
      "outputs": [],
      "source": [
        "data = pd.read_csv('./simulation_results/Real_simulation_reshape/wikimath_GSO_st.csv')"
      ],
      "id": "4bd71a72-f31c-4dc0-a763-9018ec612406"
    },
    {
      "cell_type": "code",
      "execution_count": 42,
      "metadata": {},
      "outputs": [],
      "source": [
        "data.query(\"method!='GNAR' and mtype =='block' \").plot.box(backend='plotly',x='mrate',color='method',y='mse',facet_col='inter_method',facet_row='lags',height=800)\n"
      ],
      "id": "0c706860-65fc-457c-83e5-485637dce0ae"
    },
    {
      "cell_type": "markdown",
      "metadata": {},
      "source": [
        "# Windmilsmall"
      ],
      "id": "a7ba20c1-03e9-4259-b6fe-0166f3df7754"
    },
    {
      "cell_type": "code",
      "execution_count": 498,
      "metadata": {},
      "outputs": [],
      "source": [
        "df1 = pd.read_csv('./simulation_results/2023-05-27_03-20-28.csv') # STGCN IT-STGCN 70%\n",
        "df2 = pd.read_csv('./simulation_results/2023-05-27_11-15-19.csv') # STGCN IT-STGCN\n",
        "df3 = pd.read_csv('./simulation_results/2023-05-27_21-50-00.csv') # STGCN IT-STGCN\n",
        "df4 = pd.read_csv('./simulation_results/2023-05-28_07-53-57.csv') # STGCN IT-STGCN\n",
        "df5 = pd.read_csv('./simulation_results/2023-05-28_15-11-36.csv') # STGCN IT-STGCN\n",
        "df6 = pd.read_csv('./simulation_results/2023-05-28_19-57-23.csv') # GNAR 30%, 50%, 70% # 뭔가 일단 필요없어서 데이터셋에서 뺌\n",
        "df7 = pd.read_csv('./simulation_results/2023-05-29_01-36-37.csv') # STGCN IT-STGCN\n",
        "df8 = pd.read_csv('./simulation_results/2023-05-29_05-55-43.csv') # STGCN IT-STGCN\n",
        "df9 = pd.read_csv('./simulation_results/2023-05-29_11-00-42.csv') # STGCN IT-STGCN\n",
        "df10 = pd.read_csv('./simulation_results/2023-05-29_15-58-56.csv') # STGCN IT-STGCN\n",
        "df11 = pd.read_csv('./simulation_results/2023-05-29_21-01-58.csv') # STGCN IT-STGCN\n",
        "df12 = pd.read_csv('./simulation_results/2023-05-30_02-08-43.csv') # STGCN IT-STGCN\n",
        "df13 = pd.read_csv('./simulation_results/2023-05-30_06-27-00.csv') # STGCN IT-STGCN\n",
        "df14 = pd.read_csv('./simulation_results/2023-05-30_11-59-01.csv') # STGCN IT-STGCN\n",
        "df15 = pd.read_csv('./simulation_results/2023-05-30_15-59-12.csv') # STGCN IT-STGCN\n",
        "df16 = pd.read_csv('./simulation_results/2023-05-30_21-52-31.csv') # STGCN IT-STGCN\n",
        "df17 = pd.read_csv('./simulation_results/2023-05-31_01-32-09.csv') # STGCN IT-STGCN\n",
        "df18 = pd.read_csv('./simulation_results/2023-05-31_09-41-08.csv') # STGCN IT-STGCN\n",
        "df19 = pd.read_csv('./simulation_results/2023-05-31_16-32-33.csv') # STGCN IT-STGCN\n",
        "df20 = pd.read_csv('./simulation_results/2023-05-31_19-24-06.csv') # STGCN IT-STGCN\n",
        "df21 = pd.read_csv('./simulation_results/2023-06-01_00-59-31.csv') # STGCN IT-STGCN\n",
        "df22 = pd.read_csv('./simulation_results/2023-06-01_08-30-50.csv') # STGCN IT-STGCN\n",
        "df23 = pd.read_csv('./simulation_results/2023-06-01_16-03-58.csv') # STGCN IT-STGCN\n",
        "df24 = pd.read_csv('./simulation_results/2023-06-02_01-48-39.csv') # STGCN IT-STGCN\n",
        "df25 = pd.read_csv('./simulation_results/2023-06-02_11-17-51.csv') # STGCN IT-STGCN\n",
        "df26 = pd.read_csv('./simulation_results/2023-06-02_20-36-02.csv') # STGCN IT-STGCN\n",
        "df27 = pd.read_csv('./simulation_results/2023-06-03_05-23-46.csv') # STGCN IT-STGCN\n",
        "df28 = pd.read_csv('./simulation_results/2023-06-03_13-33-11.csv') # STGCN IT-STGCN\n",
        "df29 = pd.read_csv('./simulation_results/2023-06-03_22-40-48.csv') # STGCN IT-STGCN\n",
        "df30 = pd.read_csv('./simulation_results/2023-06-04_08-23-50.csv') # STGCN IT-STGCN\n",
        "df31 = pd.read_csv('./simulation_results/2023-06-04_16-47-07.csv') # GNAR 70%\n",
        "df32 = pd.read_csv('./simulation_results/2023-06-05_01-40-31.csv') # GNAR \n",
        "df33 = pd.read_csv('./simulation_results/2023-06-05_11-53-37.csv')\n",
        "df34 = pd.read_csv('./simulation_results/2023-06-06_10-02-26.csv')\n",
        "df35 = pd.read_csv('./simulation_results/2023-06-06_10-06-02.csv')\n",
        "df36 = pd.read_csv('./simulation_results/2023-06-06_19-10-01.csv')\n",
        "df37 = pd.read_csv('./simulation_results/2023-06-06_19-22-47.csv')\n",
        "df38 = pd.read_csv('./simulation_results/2023-06-07_04-41-41.csv')\n",
        "df39 = pd.read_csv('./simulation_results/2023-06-07_05-00-00.csv')\n",
        "df40 = pd.read_csv('./simulation_results/2023-06-07_12-49-37.csv')\n",
        "df41 = pd.read_csv('./simulation_results/2023-06-07_13-05-52.csv')\n",
        "df42 = pd.read_csv('./simulation_results/2023-06-07_21-00-28.csv')\n",
        "df43 = pd.read_csv('./simulation_results/2023-06-07_21-30-40.csv')\n",
        "df44 = pd.read_csv('./simulation_results/2023-06-08_06-10-42.csv')\n",
        "df45 = pd.read_csv('./simulation_results/2023-06-09_00-38-32.csv')\n",
        "df46 = pd.read_csv('./simulation_results/2023-06-09_12-08-44.csv')\n",
        "df47 = pd.read_csv('./simulation_results/2023-06-10_10-10-27.csv')\n",
        "df48 = pd.read_csv('./simulation_results/2023-06-10_21-16-06.csv')\n",
        "df49 = pd.read_csv('./simulation_results/2023-06-11_09-03-26.csv')\n",
        "df50 = pd.read_csv('./simulation_results/2023-06-11_21-00-18.csv')\n",
        "df51 = pd.read_csv('./simulation_results/2023-06-12_08-58-26.csv')\n",
        "df52 = pd.read_csv('./simulation_results/2023-06-12_20-56-40.csv')\n",
        "df53 = pd.read_csv('./simulation_results/2023-06-13_09-03-43.csv')\n",
        "df54 = pd.read_csv('./simulation_results/2023-06-13_21-56-32.csv')\n",
        "df55 = pd.read_csv('./simulation_results/2023-06-14_11-11-38.csv')\n",
        "df56 = pd.read_csv('./simulation_results/2023-06-14_23-17-40.csv')\n",
        "df57 = pd.read_csv('./simulation_results/2023-06-15_05-01-21.csv')\n",
        "df58 = pd.read_csv('./simulation_results/2023-06-15_10-54-28.csv')\n",
        "df59 = pd.read_csv('./simulation_results/2023-06-15_17-35-55.csv')\n",
        "df60 = pd.read_csv('./simulation_results/2023-06-15_21-14-21.csv')\n",
        "df61 = pd.read_csv('./simulation_results/2023-06-16_03-15-32.csv')\n",
        "df62 = pd.read_csv('./simulation_results/2023-06-16_06-13-50.csv')\n",
        "df63 = pd.read_csv('./simulation_results/2023-06-16_14-18-52.csv')\n",
        "df64 = pd.read_csv('./simulation_results/2023-06-16_18-21-01.csv')\n",
        "df65 = pd.read_csv('./simulation_results/2023-06-17_02-04-16.csv')\n",
        "df66 = pd.read_csv('./simulation_results/2023-06-17_12-31-27.csv')\n",
        "df67 = pd.read_csv('./simulation_results/2023-06-17_19-20-19.csv')\n",
        "df68 = pd.read_csv('./simulation_results/2023-06-18_02-32-26.csv') # 확인 후 block 만 넣기!\n",
        "df69 = pd.read_csv('./simulation_results/2023-06-18_12-20-16.csv')\n",
        "df70 = pd.read_csv('./simulation_results/2023-06-18_22-03-52.csv')\n",
        "df71 = pd.read_csv('./simulation_results/2023-06-19_07-54-07.csv')\n",
        "df72 = pd.read_csv('./simulation_results/2023-06-19_17-32-15.csv')\n",
        "df73 = pd.read_csv('./simulation_results/2023-06-20_02-27-48.csv')\n",
        "df74 = pd.read_csv('./simulation_results/2023-06-20_11-25-00.csv')\n",
        "df75 = pd.read_csv('./simulation_results/2023-06-21_08-22-10.csv')\n",
        "df76 = pd.read_csv('./simulation_results/2023-06-21_18-02-06.csv')\n",
        "df77 = pd.read_csv('./simulation_results/2023-06-22_03-53-20.csv')\n",
        "df78 = pd.read_csv('./simulation_results/2023-06-22_14-30-51.csv')\n",
        "df79 = pd.read_csv('./simulation_results/2023-06-22_23-58-03.csv')\n",
        "df80 = pd.read_csv('./simulation_results/2023-06-23_07-50-27.csv')\n",
        "df81 = pd.read_csv('./simulation_results/2023-06-23_15-44-00.csv')\n",
        "df82 = pd.read_csv('./simulation_results/2023-06-24_00-32-09.csv')\n",
        "df83 = pd.read_csv('./simulation_results/2023-06-24_10-30-38.csv')\n",
        "df84 = pd.read_csv('./simulation_results/2023-06-24_20-29-14.csv')\n",
        "df85 = pd.read_csv('./simulation_results/2023-06-25_06-26-42.csv')\n",
        "df86 = pd.read_csv('./simulation_results/2023-06-25_16-24-38.csv')\n",
        "df87 = pd.read_csv('./simulation_results/2023-06-26_02-35-43.csv')\n",
        "df88 = pd.read_csv('./simulation_results/2023-06-26_23-22-25.csv')\n",
        "df89 = pd.read_csv('./simulation_results/2023-06-26_13-18-29.csv')\n",
        "df90 = pd.read_csv('./simulation_results/2023-06-26_23-22-25.csv')\n",
        "df91 = pd.read_csv('./simulation_results/2023-06-27_09-42-34.csv')\n",
        "df92 = pd.read_csv('./simulation_results/2023-06-27_18-43-24.csv')\n",
        "df93 = pd.read_csv('./simulation_results/2023-06-28_15-59-05.csv')"
      ],
      "id": "812fa1f9-eecb-440e-9527-79fffc2e153d"
    },
    {
      "cell_type": "code",
      "execution_count": 499,
      "metadata": {},
      "outputs": [],
      "source": [
        "data = pd.concat([df1,df2,df3,df4,df5,df6,df7,df8,df9,df10,df11,df12,df13,df14,df15,df16,df17,df18,df19,df20,\n",
        "                 df21,df22,df23,df24,df25,df26,df27,df28,df29,df30,df31,df32,df33,df34,df35,df36,df37,df38,df39,\n",
        "                 df40,df41,df42,df43,df44,df45,df46,df47,df48,df49,df50,df51,df52,df53,df54,df55,df56,df57,df58,\n",
        "                 df59,df60,df61,df62,df63,df64,df65,df66,df67,df68,df69,df70,df71,df72,df73,df74,df75,df76,df77,\n",
        "                 df78,df79,df80,df81,df82,df83,df84,df85,df86,df87,df88,df89,df90,df91,df92,df93],axis=0)"
      ],
      "id": "fb4b2cb4-ad18-4411-b539-302c9af69b8c"
    },
    {
      "cell_type": "code",
      "execution_count": 500,
      "metadata": {},
      "outputs": [],
      "source": [
        "data.to_csv('./simulation_results/Real_simulation_reshape/windmillsmall.csv',index=False)"
      ],
      "id": "a66bb077-6aa9-44ed-a075-fd8a63b9b05d"
    },
    {
      "cell_type": "code",
      "execution_count": 501,
      "metadata": {},
      "outputs": [],
      "source": [
        "data = pd.read_csv('./simulation_results/Real_simulation_reshape/windmillsmall.csv')"
      ],
      "id": "4808f0fc-e23b-4c4c-991b-ec2313d0f244"
    },
    {
      "cell_type": "markdown",
      "metadata": {},
      "source": [
        "## Baseline"
      ],
      "id": "b4ec0004-52af-4d7e-af27-3ddc031f1e13"
    },
    {
      "cell_type": "code",
      "execution_count": 502,
      "metadata": {},
      "outputs": [],
      "source": [
        "data.query(\"method!='GNAR' and mrate ==0 \").plot.box(backend='plotly',x='mrate',color='method',y='mse',facet_col='lags',height=800)\n"
      ],
      "id": "86736067-4bd5-402f-9e4e-093cd9dec1fd"
    },
    {
      "cell_type": "markdown",
      "metadata": {},
      "source": [
        "## random"
      ],
      "id": "fada2781-2b86-4ba7-b4f6-95365dea5646"
    },
    {
      "cell_type": "code",
      "execution_count": 503,
      "metadata": {},
      "outputs": [],
      "source": [
        "data.query(\"method!='GNAR' and mtype =='rand' \").plot.box(backend='plotly',x='mrate',color='method',y='mse',facet_col='lags',facet_row='inter_method',height=800)\n"
      ],
      "id": "46da6b5f-f8d7-4b17-b11b-76b4d09d304b"
    },
    {
      "cell_type": "markdown",
      "metadata": {},
      "source": [
        "## block"
      ],
      "id": "096c213f-3625-406a-98cc-a4a708fb50c7"
    },
    {
      "cell_type": "code",
      "execution_count": 504,
      "metadata": {},
      "outputs": [],
      "source": [
        "data.query(\"method!='GNAR' and mtype =='block' \").plot.box(backend='plotly',x='mrate',color='method',y='mse',facet_col='lags',facet_row='inter_method',height=800)\n"
      ],
      "id": "e0e7aa93-1ae1-45d5-8542-8f88da268321"
    },
    {
      "cell_type": "markdown",
      "metadata": {},
      "source": [
        "# Montevideobus"
      ],
      "id": "9a4667ce-7b0f-491a-b187-25f8330fd1f0"
    },
    {
      "cell_type": "code",
      "execution_count": 87,
      "metadata": {},
      "outputs": [],
      "source": [
        "df1 = pd.read_csv('./simulation_results/2023-05-25_23-24-56.csv') # lags 8\n",
        "df2 = pd.read_csv('./simulation_results/2023-05-26_04-32-14.csv') # lags 8\n",
        "df3 = pd.read_csv('./simulation_results/2023-05-26_10-29-15.csv') # lags 8\n",
        "df4 = pd.read_csv('./simulation_results/2023-05-26_17-32-59.csv') # lags 8\n",
        "df5 = pd.read_csv('./simulation_results/2023-05-26_20-27-25.csv') # lags 8\n",
        "df6 = pd.read_csv('./simulation_results/2023-05-26_23-40-32.csv') # lags 8\n",
        "df7 = pd.read_csv('./simulation_results/2023-05-27_13-20-01.csv') # lags 8\n",
        "df8 = pd.read_csv('./simulation_results/2023-05-28_19-46-39.csv') # lags 8\n",
        "df9 = pd.read_csv('./simulation_results/2023-05-28_23-05-36.csv')"
      ],
      "id": "a188076b-1ef3-49cd-8e4c-fef2876538a3"
    },
    {
      "cell_type": "code",
      "execution_count": 88,
      "metadata": {},
      "outputs": [],
      "source": [
        "df10 = pd.read_csv('./simulation_results/2023-07-18_01-12-36.csv') # lags 8\n",
        "df11 = pd.read_csv('./simulation_results/2023-07-18_04-18-26.csv') # lags 8\n",
        "df12 = pd.read_csv('./simulation_results/2023-07-18_07-21-19.csv') # lags 8\n",
        "df13 = pd.read_csv('./simulation_results/2023-07-18_10-46-11.csv') # lags 8\n",
        "df14 = pd.read_csv('./simulation_results/2023-07-18_13-55-16.csv') # lags 8\n",
        "df15 = pd.read_csv('./simulation_results/2023-07-18_17-14-12.csv') # lags 8\n",
        "df16 = pd.read_csv('./simulation_results/2023-07-18_20-29-46.csv') # lags 8\n",
        "df17 = pd.read_csv('./simulation_results/2023-07-18_23-46-52.csv') # lags 8\n",
        "df18 = pd.read_csv('./simulation_results/2023-07-19_02-55-01.csv')"
      ],
      "id": "c332674d-45b3-4092-b5ad-4d9218d34183"
    },
    {
      "cell_type": "code",
      "execution_count": 89,
      "metadata": {},
      "outputs": [],
      "source": [
        "data = pd.concat([df1,df2,df3,df4,df5,df6,df7,df8,df9,df10,df11,df12,df13,df14,df15,df16,df17,df18],axis=0)"
      ],
      "id": "76927d4c-d4b3-41e7-a274-4bc2da9d4570"
    },
    {
      "cell_type": "code",
      "execution_count": 90,
      "metadata": {},
      "outputs": [],
      "source": [
        "data.to_csv('./simulation_results/Real_simulation_reshape/monte.csv',index=False)"
      ],
      "id": "c42ef847-ffd4-4079-bad6-8a6b32817002"
    },
    {
      "cell_type": "code",
      "execution_count": 91,
      "metadata": {},
      "outputs": [],
      "source": [
        "data = pd.read_csv('./simulation_results/Real_simulation_reshape/monte.csv')"
      ],
      "id": "a0c4efa2-11df-4999-a3c6-7b5ebd02cd12"
    },
    {
      "cell_type": "markdown",
      "metadata": {},
      "source": [
        "## Baseline"
      ],
      "id": "731f29e1-d38f-40d6-99f4-8b09e24026f9"
    },
    {
      "cell_type": "code",
      "execution_count": 92,
      "metadata": {},
      "outputs": [],
      "source": [
        "data.query(\"mrate==0 and method!='GNAR'\").plot.box(backend='plotly',x='mrate',color='method',y='mse',facet_col='lags',facet_row='nof_filters',height=600)"
      ],
      "id": "9a2e66b9-2cc9-4ee6-9d10-c9d12eafac62"
    },
    {
      "cell_type": "markdown",
      "metadata": {},
      "source": [
        "## random"
      ],
      "id": "e8831fff-f6f3-4e66-bfb8-8c4fadf64ace"
    },
    {
      "cell_type": "code",
      "execution_count": 95,
      "metadata": {},
      "outputs": [],
      "source": [
        "data.query(\"mtype=='rand' and mrate !=0 and method!='GNAR'\").plot.box(backend='plotly',x='mrate',color='method',y='mse',facet_col='lags',facet_row='inter_method',height=800)\n"
      ],
      "id": "9d0d316a-2fef-4e2d-915f-de4db135a6af"
    },
    {
      "cell_type": "markdown",
      "metadata": {},
      "source": [
        "## block"
      ],
      "id": "9d896495-3f86-40c1-a5d1-90e96771162e"
    },
    {
      "cell_type": "code",
      "execution_count": 94,
      "metadata": {},
      "outputs": [],
      "source": [
        "data.query(\"mtype=='block' and method!='GNAR'\").plot.box(backend='plotly',x='mrate',color='method',y='mse',facet_col='lags',facet_row='nof_filters',height=1200)\n"
      ],
      "id": "8943d4d5-3c02-4b34-b2bd-80ca1db344ab"
    }
  ],
  "nbformat": 4,
  "nbformat_minor": 5,
  "metadata": {
    "kernelspec": {
      "name": "python3",
      "display_name": "Python 3",
      "language": "python"
    },
    "language_info": {
      "name": "python",
      "codemirror_mode": {
        "name": "ipython",
        "version": "3"
      },
      "file_extension": ".py",
      "mimetype": "text/x-python",
      "nbconvert_exporter": "python",
      "pygments_lexer": "ipython3",
      "version": "3.8.0"
    }
  }
}
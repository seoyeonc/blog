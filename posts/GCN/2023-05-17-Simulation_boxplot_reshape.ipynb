{
 "cells": [
  {
   "cell_type": "raw",
   "id": "067f09c3-5933-470c-8ebe-9d71ce8ca7e8",
   "metadata": {
    "id": "cac470df-29e7-4148-9bbd-d8b9a32fa570",
    "tags": []
   },
   "source": [
    "---\n",
    "title: \"Simulation_reshape\"\n",
    "author: \"SEOYEON CHOI\"\n",
    "date: \"2023-04-05\"\n",
    "categories:\n",
    "  - ITSTGCN\n",
    "---"
   ]
  },
  {
   "cell_type": "markdown",
   "id": "4115bb33-2ef5-4291-8c52-8fdb696fdfca",
   "metadata": {
    "tags": []
   },
   "source": [
    "> Simulation Study"
   ]
  },
  {
   "cell_type": "markdown",
   "id": "b92006c7-9a60-46f8-b641-11c92133d7c4",
   "metadata": {},
   "source": [
    "# Import"
   ]
  },
  {
   "cell_type": "code",
   "execution_count": 2,
   "id": "97cfaa6d-11ad-460b-874c-01c8e2c14e70",
   "metadata": {},
   "outputs": [],
   "source": [
    "import matplotlib.pyplot as plt\n",
    "import pandas as pd\n",
    "import numpy as np"
   ]
  },
  {
   "cell_type": "markdown",
   "id": "1460df2f-e24d-44b3-876a-27140dc8d810",
   "metadata": {},
   "source": [
    "# Fivenodes"
   ]
  },
  {
   "cell_type": "markdown",
   "id": "5c7180c6-599b-4121-a5a1-64d8097843fc",
   "metadata": {},
   "source": [
    "```python\n",
    "mindex= [[],[],[],list(range(50,150)),[]] # block 1\n",
    "mindex= [list(range(10,100)),[],list(range(50,80)),[],[]] # node 2 30% mmissing\n",
    "```\n",
    "block 조건"
   ]
  },
  {
   "cell_type": "code",
   "execution_count": null,
   "id": "58a7de0e-0147-4be6-ae52-f391e068d404",
   "metadata": {},
   "outputs": [],
   "source": [
    "# df1 = pd.read_csv('./simulation_results/2023-04-09_23-37-17.csv') # GNAR random\n",
    "# df2 = pd.read_csv('./simulation_results/2023-04-10_07-06-32.csv') # STGCN, ITSTGCN random 70%, 75%\n",
    "# df3 = pd.read_csv('./simulation_results/2023-04-10_14-54-51.csv') # STGCN, ITSTGCN random 80%, 85%\n",
    "# df4 = pd.read_csv('./simulation_results/2023-04-10_15-54-03.csv') # GNAR block 1\n",
    "# df5 = pd.read_csv('./simulation_results/2023-04-10_15-56-27.csv') # GNAR block 2\n",
    "# df6 = pd.read_csv('./simulation_results/2023-04-10_23-44-52.csv') # STGCN, ITSTGCN block 1\n",
    "# df7 = pd.read_csv('./simulation_results/2023-04-11_04-40-00.csv') # STGCN, ITSTGCN block 2\n",
    "# df8 = pd.read_csv('./simulation_results/2023-04-14_21-21-34.csv') # S/TGCN, ITSTGCN missing 0"
   ]
  },
  {
   "cell_type": "code",
   "execution_count": null,
   "id": "243c8ac3-63ef-463b-920c-732bcea5b27d",
   "metadata": {},
   "outputs": [],
   "source": [
    "data = pd.concat([df1,df2, df3, df4,df5,df6,df7,df8],axis=0);data"
   ]
  },
  {
   "cell_type": "code",
   "execution_count": null,
   "id": "6531c324-827c-4f7f-aef7-90da0b1f2c23",
   "metadata": {},
   "outputs": [],
   "source": [
    "data.to_csv('./simulation_results/Real_simulation/fivedones_Simulation.csv',index=False)"
   ]
  },
  {
   "cell_type": "code",
   "execution_count": null,
   "id": "2029a91d-4dc4-4eb2-8f9d-63d4727f4c94",
   "metadata": {},
   "outputs": [],
   "source": [
    "data = pd.read_csv('./simulation_results/Real_simulation/fivedones_Simulation.csv')"
   ]
  },
  {
   "cell_type": "code",
   "execution_count": null,
   "id": "6b4c69a2-d1f8-4994-a68d-28a1f555f02f",
   "metadata": {},
   "outputs": [],
   "source": [
    "data.query(\"method=='GNAR' and mtype == 'rand'\")['mse'].mean(),data.query(\"method=='GNAR' and mtype != 'rand'\")['mse'].mean()"
   ]
  },
  {
   "cell_type": "code",
   "execution_count": null,
   "id": "7cbc39c5-ff31-4a66-ae07-0a76ffaf7c0d",
   "metadata": {},
   "outputs": [],
   "source": [
    "data.query(\"method=='STGCN' and mtype == 'rand'\")['mse'].mean(),data.query(\"method=='STGCN' and mtype != 'rand'\")['mse'].mean()"
   ]
  },
  {
   "cell_type": "code",
   "execution_count": null,
   "id": "d724b6e9-fb35-43ad-a792-4bd28ad46bc5",
   "metadata": {},
   "outputs": [],
   "source": [
    "data.query(\"method=='IT-STGCN' and mtype == 'rand'\")['mse'].mean(),data.query(\"method=='IT-STGCN' and mtype != 'rand'\")['mse'].mean()"
   ]
  },
  {
   "cell_type": "markdown",
   "id": "9fbc1a8b-e19b-4c83-a1ad-caaff18d47ce",
   "metadata": {},
   "source": [
    "Baseline"
   ]
  },
  {
   "cell_type": "code",
   "execution_count": null,
   "id": "e731ba6e-761a-4f9c-9399-2d1980ea0edb",
   "metadata": {
    "tags": []
   },
   "outputs": [],
   "source": [
    "data.query(\"method!='GNAR' and mrate==0\").plot.box(backend='plotly',x='mrate',color='method',y='mse',facet_col='nof_filters',height=600)\n"
   ]
  },
  {
   "cell_type": "code",
   "execution_count": null,
   "id": "8bfafe06-1c82-4ed4-9864-1ca6641c00f1",
   "metadata": {},
   "outputs": [],
   "source": [
    "data.query(\"method!='GNAR' and mtype =='rand' and (mrate==0.7 or mrate==0.75)\").plot.box(backend='plotly',x='mrate',color='method',y='mse',facet_col='nof_filters',facet_row='inter_method',height=600)\n"
   ]
  },
  {
   "cell_type": "code",
   "execution_count": null,
   "id": "480e6854-3dbe-4928-b7ff-c0776f7cc181",
   "metadata": {},
   "outputs": [],
   "source": [
    "data.query(\"method!='GNAR' and mtype =='rand'  and (mrate==0.8 or mrate==0.85)\").plot.box(backend='plotly',x='mrate',color='method',y='mse',facet_col='nof_filters',facet_row='inter_method',height=600)\n"
   ]
  },
  {
   "cell_type": "code",
   "execution_count": null,
   "id": "74a84105-e37e-46da-8eb4-f99429013213",
   "metadata": {},
   "outputs": [],
   "source": [
    "data.query(\"method!='GNAR' and mtype =='block' and inter_method=='linear' \").plot.box(backend='plotly',x='mrate',color='method',y='mse',facet_col='nof_filters',facet_row='inter_method',height=600)\n"
   ]
  },
  {
   "cell_type": "markdown",
   "id": "377ebf75-d15f-4c92-971b-c26f28ace9b3",
   "metadata": {},
   "source": [
    "# chickenpox"
   ]
  },
  {
   "cell_type": "markdown",
   "id": "7e33b9d8-8264-4de9-9b0c-12c7ecaa9c80",
   "metadata": {},
   "source": [
    "```python\n",
    "my_list = [[] for _ in range(20)] #chickenpox\n",
    "another_list = list(range(100,400))\n",
    "my_list[1] = another_list\n",
    "my_list[3] = another_list\n",
    "my_list[5] = another_list\n",
    "my_list[7] = another_list\n",
    "my_list[9] = another_list\n",
    "my_list[11] = another_list\n",
    "my_list[13] = another_list\n",
    "my_list[15] = another_list\n",
    "mindex = my_list\n",
    "```\n",
    "block 30% missing을 위한 조건"
   ]
  },
  {
   "cell_type": "code",
   "execution_count": null,
   "id": "3e66680d-3b56-4295-b4da-c8988c6ceb77",
   "metadata": {},
   "outputs": [],
   "source": [
    "# df1 = pd.read_csv('./simulation_results/2023-04-11_06-56-35.csv') # GNAR random\n",
    "# df2 = pd.read_csv('./simulation_results/2023-04-11_07-01-42.csv') # GNAR block\n",
    "# df3 = pd.read_csv('./simulation_results/2023-04-11_18-20-22.csv') # STGCN, ITSTGCN random 30%\n",
    "# df4 = pd.read_csv('./simulation_results/2023-04-12_05-44-19.csv') # STGCN, ITSTGCN random 40%\n",
    "# df5 = pd.read_csv('./simulation_results/2023-04-12_17-03-28.csv') # STGCN, ITSTGCN random 50%\n",
    "# df6 = pd.read_csv('./simulation_results/2023-04-13_18-59-17.csv') # STGCN, ITSTGCN block cubic\n",
    "# df7 = pd.read_csv('./simulation_results/2023-04-14_00-57-11.csv') # STGCN, ITSTGCN block linear\n",
    "# df8 = pd.read_csv('./simulation_results/2023-04-14_12-55-58.csv') # STGCN, ITSTGCN 0% missing\n",
    "# df9 = pd.read_csv('./simulation_results/2023-05-08_01-09-23.csv')\n",
    "# df10 = pd.read_csv('./simulation_results/2023-05-08_05-47-08.csv')"
   ]
  },
  {
   "cell_type": "code",
   "execution_count": null,
   "id": "3a15858e-07b2-460c-86c6-49ee4deeb10d",
   "metadata": {},
   "outputs": [],
   "source": [
    "data = pd.concat([df1,df2,df3,df4,df5,df6,df7,df8,df9,df10],axis=0);data"
   ]
  },
  {
   "cell_type": "code",
   "execution_count": null,
   "id": "158398fa-ae55-4525-8535-eb323b1c4b6b",
   "metadata": {},
   "outputs": [],
   "source": [
    "data.to_csv('./simulation_results/Real_simulation/chikenpox_Simulation.csv',index=False)"
   ]
  },
  {
   "cell_type": "code",
   "execution_count": null,
   "id": "dc861068-2821-4447-a4b7-3cb5b4a0ed8c",
   "metadata": {},
   "outputs": [],
   "source": [
    "data = pd.read_csv('./simulation_results/Real_simulation/chikenpox_Simulation.csv')"
   ]
  },
  {
   "cell_type": "code",
   "execution_count": null,
   "id": "9a0b2a6e-a412-4f1f-a294-796fb82b3f74",
   "metadata": {},
   "outputs": [],
   "source": [
    "data.query(\"method=='GNAR' and mtype == 'rand'\")['mse'].mean(),data.query(\"method=='GNAR' and mtype != 'rand'\")['mse'].mean()"
   ]
  },
  {
   "cell_type": "code",
   "execution_count": null,
   "id": "29b99b70-5334-4686-b0e3-b89b4e60d244",
   "metadata": {},
   "outputs": [],
   "source": [
    "data.query(\"method=='STGCN' and mtype == 'rand'\")['mse'].mean(),data.query(\"method=='STGCN' and mtype != 'rand'\")['mse'].mean()"
   ]
  },
  {
   "cell_type": "code",
   "execution_count": null,
   "id": "0800e188-aac3-45b9-8e46-31fea135e611",
   "metadata": {},
   "outputs": [],
   "source": [
    "data.query(\"method=='IT-STGCN' and mtype == 'rand'\")['mse'].mean(),data.query(\"method=='IT-STGCN' and mtype != 'rand'\")['mse'].mean()"
   ]
  },
  {
   "cell_type": "code",
   "execution_count": null,
   "id": "46143ee6-6a73-4599-9cf2-77bf474a4efb",
   "metadata": {},
   "outputs": [],
   "source": [
    "data.query(\"method!='GNAR' and mrate ==0 \").plot.box(backend='plotly',x='mrate',color='method',y='mse',facet_col='nof_filters',height=600)\n"
   ]
  },
  {
   "cell_type": "code",
   "execution_count": null,
   "id": "75afe265-7926-4124-aca8-00b94ba52c2f",
   "metadata": {},
   "outputs": [],
   "source": [
    "data.query(\"method!='GNAR' and mtype =='rand' and mrate !=0.8 and mrate!=0.9 \").plot.box(backend='plotly',x='mrate',color='method',y='mse',facet_col='nof_filters',facet_row='inter_method',height=800)\n"
   ]
  },
  {
   "cell_type": "code",
   "execution_count": null,
   "id": "7ec01707-8dc4-4239-a079-1c2a32863028",
   "metadata": {},
   "outputs": [],
   "source": [
    "data.query(\"method!='GNAR' and mtype =='rand' and (mrate==0.8 or mrate==0.9)\").plot.box(backend='plotly',x='mrate',color='method',y='mse',facet_col='nof_filters',facet_row='inter_method',height=800)\n"
   ]
  },
  {
   "cell_type": "code",
   "execution_count": null,
   "id": "e257e6a0-bfa1-4113-9849-950527d91ff8",
   "metadata": {},
   "outputs": [],
   "source": [
    "data.query(\"method!='GNAR' and mtype =='block' \").plot.box(backend='plotly',x='mrate',color='method',y='mse',facet_col='nof_filters',facet_row='inter_method',height=800)\n"
   ]
  },
  {
   "cell_type": "markdown",
   "id": "0b266f04-9b84-4fc1-95e1-c031dcf5d268",
   "metadata": {},
   "source": [
    "# Pedalme"
   ]
  },
  {
   "cell_type": "markdown",
   "id": "1342849b-804e-4f92-be45-17f202ed6efb",
   "metadata": {},
   "source": [
    "block1\n",
    "```python\n",
    "my_list = [[] for _ in range(15)] #pedalme\n",
    "another_list = list(range(5,25))\n",
    "my_list[1] = another_list\n",
    "my_list[3] = another_list\n",
    "my_list[5] = another_list\n",
    "my_list[7] = another_list\n",
    "my_list[9] = another_list\n",
    "my_list[11] = another_list\n",
    "mindex = my_list\n",
    "```\n",
    "block 30% missing을 위한 조건"
   ]
  },
  {
   "cell_type": "markdown",
   "id": "abac5035-951a-4277-abab-6ea16058d19c",
   "metadata": {},
   "source": [
    "block2\n",
    "```python\n",
    "my_list = [[] for _ in range(15)] #pedalme\n",
    "another_list = list(range(10,25))\n",
    "my_list[2] = another_list\n",
    "my_list[4] = another_list\n",
    "my_list[5] = another_list\n",
    "my_list[11] = another_list\n",
    "mindex = my_list\n",
    "```\n",
    "block 30% missing을 위한 조건"
   ]
  },
  {
   "cell_type": "code",
   "execution_count": 3,
   "id": "d4636a02-2db0-4676-a73b-9c7566c258f4",
   "metadata": {},
   "outputs": [],
   "source": [
    "df1 = pd.read_csv('./simulation_results/2023-05-17_21-43-30.csv') \n",
    "df2 = pd.read_csv('./simulation_results/2023-05-17_22-40-43.csv') # STGCN, ITSTGCN random 50%, 60%\n",
    "# df3 = pd.read_csv('./simulation_results/2023-04-15_01-08-16.csv') # GNAR random 30%, 40%, 50%, 60%\n",
    "# df4 = pd.read_csv('./simulation_results/2023-04-13_21-56-36.csv') # GNAR block 30%\n",
    "# df5 = pd.read_csv('./simulation_results/2023-04-15_01-08-16.csv') # GNAR random 30%, 40%, 50%\n",
    "# df6 = pd.read_csv('./simulation_results/2023-04-15_01-38-46.csv') # STGCN, ITSTGCN block 2\n",
    "# df7 = pd.read_csv('./simulation_results/2023-04-23_15-17-33.csv') # GNAR 60%\n",
    "# df8 = pd.read_csv('./simulation_results/2023-04-23_15-25-09.csv') # GNAR block 1\n",
    "# df9 = pd.read_csv('./simulation_results/2023-04-23_15-41-20.csv') # GNAR block 2\n",
    "# df10 = pd.read_csv('./simulation_results/2023-04-23_16-25-28.csv') # STGCN,IT-STGCN block 2\n",
    "# df11 = pd.read_csv('./simulation_results/2023-04-19_00-13-29.csv')\n",
    "# df12 = pd.read_csv('./simulation_results/2023-05-14_21-01-41.csv')"
   ]
  },
  {
   "cell_type": "code",
   "execution_count": 4,
   "id": "d22955cb-e046-49c8-890a-52ffe13e237d",
   "metadata": {},
   "outputs": [],
   "source": [
    "data = pd.concat([df1,df2],axis=0)"
   ]
  },
  {
   "cell_type": "code",
   "execution_count": 11,
   "id": "de9f5c18-b671-4a06-9c34-4900e97db7fb",
   "metadata": {},
   "outputs": [
    {
     "data": {
      "text/html": [
       "<div>\n",
       "<style scoped>\n",
       "    .dataframe tbody tr th:only-of-type {\n",
       "        vertical-align: middle;\n",
       "    }\n",
       "\n",
       "    .dataframe tbody tr th {\n",
       "        vertical-align: top;\n",
       "    }\n",
       "\n",
       "    .dataframe thead th {\n",
       "        text-align: right;\n",
       "    }\n",
       "</style>\n",
       "<table border=\"1\" class=\"dataframe\">\n",
       "  <thead>\n",
       "    <tr style=\"text-align: right;\">\n",
       "      <th></th>\n",
       "      <th>dataset</th>\n",
       "      <th>method</th>\n",
       "      <th>RecurrentGCN</th>\n",
       "      <th>mrate</th>\n",
       "      <th>mtype</th>\n",
       "      <th>lags</th>\n",
       "      <th>nof_filters</th>\n",
       "      <th>inter_method</th>\n",
       "      <th>epoch</th>\n",
       "      <th>mse</th>\n",
       "      <th>calculation_time</th>\n",
       "    </tr>\n",
       "  </thead>\n",
       "  <tbody>\n",
       "    <tr>\n",
       "      <th>0</th>\n",
       "      <td>pedalme</td>\n",
       "      <td>STGCN</td>\n",
       "      <td>GConvGRU</td>\n",
       "      <td>0.0</td>\n",
       "      <td>NaN</td>\n",
       "      <td>4</td>\n",
       "      <td>12</td>\n",
       "      <td>NaN</td>\n",
       "      <td>50</td>\n",
       "      <td>1.245332</td>\n",
       "      <td>6.113272</td>\n",
       "    </tr>\n",
       "    <tr>\n",
       "      <th>1</th>\n",
       "      <td>pedalme</td>\n",
       "      <td>STGCN</td>\n",
       "      <td>GConvGRU</td>\n",
       "      <td>0.0</td>\n",
       "      <td>NaN</td>\n",
       "      <td>4</td>\n",
       "      <td>12</td>\n",
       "      <td>NaN</td>\n",
       "      <td>50</td>\n",
       "      <td>1.294905</td>\n",
       "      <td>5.369255</td>\n",
       "    </tr>\n",
       "    <tr>\n",
       "      <th>2</th>\n",
       "      <td>pedalme</td>\n",
       "      <td>STGCN</td>\n",
       "      <td>GConvGRU</td>\n",
       "      <td>0.0</td>\n",
       "      <td>NaN</td>\n",
       "      <td>4</td>\n",
       "      <td>12</td>\n",
       "      <td>NaN</td>\n",
       "      <td>50</td>\n",
       "      <td>1.225396</td>\n",
       "      <td>6.224143</td>\n",
       "    </tr>\n",
       "    <tr>\n",
       "      <th>3</th>\n",
       "      <td>pedalme</td>\n",
       "      <td>STGCN</td>\n",
       "      <td>GConvGRU</td>\n",
       "      <td>0.3</td>\n",
       "      <td>rand</td>\n",
       "      <td>4</td>\n",
       "      <td>12</td>\n",
       "      <td>cubic</td>\n",
       "      <td>50</td>\n",
       "      <td>1.430083</td>\n",
       "      <td>6.952694</td>\n",
       "    </tr>\n",
       "    <tr>\n",
       "      <th>4</th>\n",
       "      <td>pedalme</td>\n",
       "      <td>STGCN</td>\n",
       "      <td>GConvGRU</td>\n",
       "      <td>0.3</td>\n",
       "      <td>rand</td>\n",
       "      <td>4</td>\n",
       "      <td>12</td>\n",
       "      <td>linear</td>\n",
       "      <td>50</td>\n",
       "      <td>1.240261</td>\n",
       "      <td>6.723966</td>\n",
       "    </tr>\n",
       "    <tr>\n",
       "      <th>...</th>\n",
       "      <td>...</td>\n",
       "      <td>...</td>\n",
       "      <td>...</td>\n",
       "      <td>...</td>\n",
       "      <td>...</td>\n",
       "      <td>...</td>\n",
       "      <td>...</td>\n",
       "      <td>...</td>\n",
       "      <td>...</td>\n",
       "      <td>...</td>\n",
       "      <td>...</td>\n",
       "    </tr>\n",
       "    <tr>\n",
       "      <th>1795</th>\n",
       "      <td>pedalme</td>\n",
       "      <td>IT-STGCN</td>\n",
       "      <td>DCRNN</td>\n",
       "      <td>0.5</td>\n",
       "      <td>rand</td>\n",
       "      <td>4</td>\n",
       "      <td>12</td>\n",
       "      <td>linear</td>\n",
       "      <td>50</td>\n",
       "      <td>1.245698</td>\n",
       "      <td>4.503643</td>\n",
       "    </tr>\n",
       "    <tr>\n",
       "      <th>1796</th>\n",
       "      <td>pedalme</td>\n",
       "      <td>IT-STGCN</td>\n",
       "      <td>DCRNN</td>\n",
       "      <td>0.5</td>\n",
       "      <td>rand</td>\n",
       "      <td>4</td>\n",
       "      <td>12</td>\n",
       "      <td>nearest</td>\n",
       "      <td>50</td>\n",
       "      <td>1.212377</td>\n",
       "      <td>4.493834</td>\n",
       "    </tr>\n",
       "    <tr>\n",
       "      <th>1797</th>\n",
       "      <td>pedalme</td>\n",
       "      <td>IT-STGCN</td>\n",
       "      <td>DCRNN</td>\n",
       "      <td>0.6</td>\n",
       "      <td>rand</td>\n",
       "      <td>4</td>\n",
       "      <td>12</td>\n",
       "      <td>cubic</td>\n",
       "      <td>50</td>\n",
       "      <td>1.249781</td>\n",
       "      <td>4.511548</td>\n",
       "    </tr>\n",
       "    <tr>\n",
       "      <th>1798</th>\n",
       "      <td>pedalme</td>\n",
       "      <td>IT-STGCN</td>\n",
       "      <td>DCRNN</td>\n",
       "      <td>0.6</td>\n",
       "      <td>rand</td>\n",
       "      <td>4</td>\n",
       "      <td>12</td>\n",
       "      <td>linear</td>\n",
       "      <td>50</td>\n",
       "      <td>1.214137</td>\n",
       "      <td>4.503176</td>\n",
       "    </tr>\n",
       "    <tr>\n",
       "      <th>1799</th>\n",
       "      <td>pedalme</td>\n",
       "      <td>IT-STGCN</td>\n",
       "      <td>DCRNN</td>\n",
       "      <td>0.6</td>\n",
       "      <td>rand</td>\n",
       "      <td>4</td>\n",
       "      <td>12</td>\n",
       "      <td>nearest</td>\n",
       "      <td>50</td>\n",
       "      <td>1.167456</td>\n",
       "      <td>4.498950</td>\n",
       "    </tr>\n",
       "  </tbody>\n",
       "</table>\n",
       "<p>1800 rows × 11 columns</p>\n",
       "</div>"
      ],
      "text/plain": [
       "      dataset    method RecurrentGCN  mrate mtype  lags  nof_filters  \\\n",
       "0     pedalme     STGCN     GConvGRU    0.0   NaN     4           12   \n",
       "1     pedalme     STGCN     GConvGRU    0.0   NaN     4           12   \n",
       "2     pedalme     STGCN     GConvGRU    0.0   NaN     4           12   \n",
       "3     pedalme     STGCN     GConvGRU    0.3  rand     4           12   \n",
       "4     pedalme     STGCN     GConvGRU    0.3  rand     4           12   \n",
       "...       ...       ...          ...    ...   ...   ...          ...   \n",
       "1795  pedalme  IT-STGCN        DCRNN    0.5  rand     4           12   \n",
       "1796  pedalme  IT-STGCN        DCRNN    0.5  rand     4           12   \n",
       "1797  pedalme  IT-STGCN        DCRNN    0.6  rand     4           12   \n",
       "1798  pedalme  IT-STGCN        DCRNN    0.6  rand     4           12   \n",
       "1799  pedalme  IT-STGCN        DCRNN    0.6  rand     4           12   \n",
       "\n",
       "     inter_method  epoch       mse  calculation_time  \n",
       "0             NaN     50  1.245332          6.113272  \n",
       "1             NaN     50  1.294905          5.369255  \n",
       "2             NaN     50  1.225396          6.224143  \n",
       "3           cubic     50  1.430083          6.952694  \n",
       "4          linear     50  1.240261          6.723966  \n",
       "...           ...    ...       ...               ...  \n",
       "1795       linear     50  1.245698          4.503643  \n",
       "1796      nearest     50  1.212377          4.493834  \n",
       "1797        cubic     50  1.249781          4.511548  \n",
       "1798       linear     50  1.214137          4.503176  \n",
       "1799      nearest     50  1.167456          4.498950  \n",
       "\n",
       "[1800 rows x 11 columns]"
      ]
     },
     "execution_count": 11,
     "metadata": {},
     "output_type": "execute_result"
    }
   ],
   "source": [
    "data"
   ]
  },
  {
   "cell_type": "code",
   "execution_count": 6,
   "id": "ee3ef5e8-7298-49dd-b21f-9644c30b5f77",
   "metadata": {},
   "outputs": [],
   "source": [
    "data.to_csv('./simulation_results/Real_simulation_reshape/pedalme_Simulation.csv',index=False)"
   ]
  },
  {
   "cell_type": "code",
   "execution_count": 7,
   "id": "446c16b2-85d5-4f90-b214-fe80c77bd0c9",
   "metadata": {},
   "outputs": [],
   "source": [
    "data = pd.read_csv('./simulation_results/Real_simulation_reshape/pedalme_Simulation.csv')"
   ]
  },
  {
   "cell_type": "code",
   "execution_count": null,
   "id": "4882bc33-3f7f-4654-a6ad-7010a27fc23e",
   "metadata": {},
   "outputs": [
    {
     "name": "stdout",
     "output_type": "stream",
     "text": [
      "From https://github.com/seoyeonc/blog\n",
      " * branch            gh-pages   -> FETCH_HEAD\n",
      "\u001b[1m\u001b[34mRendering for publish:\n",
      "\u001b[39m\u001b[22m\n",
      "\u001b[1m\u001b[34m[ 1/66] index.qmd\u001b[39m\u001b[22m\n",
      "\u001b[33mWARNING: File /home/csy/Dropbox/blog/posts/Study/2023-04-10-GCRN_riview.ipynb in the listing 'listing' contains no metadata.\u001b[39m\n",
      "\u001b[33mWARNING: File /home/csy/Dropbox/blog/posts/Study/2023-04-10-STGCN_Existing_Method_Review.ipynb in the listing 'listing' contains no metadata.\u001b[39m\n",
      "\u001b[33mWARNING: File /home/csy/Dropbox/blog/posts/Study/2022-04-03-(5주차) 4월2일.ipynb in the listing 'listing' contains no metadata.\u001b[39m\n",
      "\u001b[33mWARNING: File /home/csy/Dropbox/blog/posts/Study/2022-12-31-Space-study.ipynb in the listing 'listing' contains no metadata.\u001b[39m\n",
      "\u001b[33mWARNING: File /home/csy/Dropbox/blog/posts/Study/2023-04-08-wrting_down_algorithm.ipynb in the listing 'listing' contains no metadata.\u001b[39m\n",
      "\u001b[33mWARNING: File /home/csy/Dropbox/blog/posts/Study/2022-03-28-(4주차) 3월28일.ipynb in the listing 'listing' contains no metadata.\u001b[39m\n",
      "\u001b[33mWARNING: File /home/csy/Dropbox/blog/posts/Study/2023-03-16-stgcn_paper_review_1.ipynb in the listing 'listing' contains no metadata.\u001b[39m\n",
      "\u001b[33mWARNING: File /home/csy/Dropbox/blog/posts/Study/2023-02-01-ch8_DFT.ipynb in the listing 'listing' contains no metadata.\u001b[39m\n",
      "\u001b[33mWARNING: File /home/csy/Dropbox/blog/posts/Study/2023-05-10-EbayesThreshold.ipynb in the listing 'listing' contains no metadata.\u001b[39m\n",
      "\u001b[33mWARNING: File /home/csy/Dropbox/blog/posts/Study/2023-04-04-nomalized graph laplacian.ipynb in the listing 'listing' contains no metadata.\u001b[39m\n",
      "\u001b[33mWARNING: File /home/csy/Dropbox/blog/posts/Study/2023-04-23-lebesque_decompposition_therem.ipynb in the listing 'listing' contains no metadata.\u001b[39m\n",
      "\u001b[33mWARNING: File /home/csy/Dropbox/blog/posts/Study/2023-04-12-.ipynb in the listing 'listing' contains no metadata.\u001b[39m\n",
      "\u001b[33mWARNING: File /home/csy/Dropbox/blog/posts/Study/2023-02-02-ch12.2_Weakly Stationary Graph Processes.ipynb in the listing 'listing' contains no metadata.\u001b[39m\n",
      "\u001b[33mWARNING: File /home/csy/Dropbox/blog/posts/Study/2023-02-05-ch12_2_3_Power Spectral Density and its Estimators.ipynb in the listing 'listing' contains no metadata.\u001b[39m\n",
      "\u001b[33mWARNING: File /home/csy/Dropbox/blog/posts/Quarto_tip/2023-01-02-quarto_tips.ipynb in the listing 'listing' contains no metadata.\u001b[39m\n",
      "\u001b[33mWARNING: File /home/csy/Dropbox/blog/posts/GCN/2022-12-21-ST-GCN_Dataset.ipynb in the listing 'listing' contains no metadata.\u001b[39m\n",
      "\u001b[33mWARNING: File /home/csy/Dropbox/blog/posts/GCN/2023-01-26-guebin.ipynb in the listing 'listing' contains no metadata.\u001b[39m\n",
      "\u001b[33mWARNING: File /home/csy/Dropbox/blog/posts/GCN/2023-03-18-SimulationPlanner-Tutorial.ipynb in the listing 'listing' contains no metadata.\u001b[39m\n",
      "\u001b[33mWARNING: File /home/csy/Dropbox/blog/posts/GCN/2023-04-06-METRLADatasetLoader.ipynb in the listing 'listing' contains no metadata.\u001b[39m\n",
      "\u001b[33mWARNING: File /home/csy/Dropbox/blog/posts/GCN/2023-04-27-simulation_table.ipynb in the listing 'listing' contains no metadata.\u001b[39m\n",
      "\u001b[33mWARNING: File /home/csy/Dropbox/blog/posts/GCN/2023-01-05-GNAR.ipynb in the listing 'listing' contains no metadata.\u001b[39m\n",
      "\u001b[33mWARNING: File /home/csy/Dropbox/blog/posts/GCN/2023-05-06-article_refer.ipynb in the listing 'listing' contains no metadata.\u001b[39m\n",
      "\u001b[33mWARNING: File /home/csy/Dropbox/blog/posts/GCN/2023-01-26-ESTGCN_GNAR_DATA.ipynb in the listing 'listing' contains no metadata.\u001b[39m\n",
      "\u001b[33mWARNING: File /home/csy/Dropbox/blog/posts/GCN/2023-03-22-SimulationPlanner-Tutorial_test_test.ipynb in the listing 'listing' contains no metadata.\u001b[39m\n",
      "\u001b[33mWARNING: File /home/csy/Dropbox/blog/posts/GCN/2023-01-20-Algorithm_traintest.ipynb in the listing 'listing' contains no metadata.\u001b[39m\n",
      "\u001b[33mWARNING: File /home/csy/Dropbox/blog/posts/GCN/2023-05-11-Keras_st.ipynb in the listing 'listing' contains no metadata.\u001b[39m\n",
      "\u001b[33mWARNING: File /home/csy/Dropbox/blog/posts/GCN/2023-03-17-ITSTGCN-Tutorial.ipynb in the listing 'listing' contains no metadata.\u001b[39m\n",
      "\u001b[33mWARNING: File /home/csy/Dropbox/blog/posts/GCN/2023-01-18-Algorithm_traintest_2.ipynb in the listing 'listing' contains no metadata.\u001b[39m\n",
      "\u001b[33mWARNING: File /home/csy/Dropbox/blog/posts/GCN/2023-05-05-ITSTGCN_LOADER.ipynb in the listing 'listing' contains no metadata.\u001b[39m\n",
      "\u001b[33mWARNING: File /home/csy/Dropbox/blog/posts/GCN/2023-04-29-pedalme_GSO_st.ipynb in the listing 'listing' contains no metadata.\u001b[39m\n",
      "\u001b[33mWARNING: File /home/csy/Dropbox/blog/posts/GCN/2023-05-13-Other Method.ipynb in the listing 'listing' contains no metadata.\u001b[39m\n",
      "\u001b[33mWARNING: File /home/csy/Dropbox/blog/posts/GCN/2023-02-06-ESTGCN_GNAR_DATA_3.ipynb in the listing 'listing' contains no metadata.\u001b[39m\n",
      "\u001b[33mWARNING: File /home/csy/Dropbox/blog/posts/GCN/2023-04-05-Simulation_boxplot.ipynb in the listing 'listing' contains no metadata.\u001b[39m\n",
      "\u001b[33mWARNING: File /home/csy/Dropbox/blog/posts/GCN/2023-04-25-note_matrix.ipynb in the listing 'listing' contains no metadata.\u001b[39m\n",
      "\u001b[33mWARNING: File /home/csy/Dropbox/blog/posts/GCN/2023-05-04-questions of pytorch geometric temporal.ipynb in the listing 'listing' contains no metadata.\u001b[39m\n",
      "\u001b[33mWARNING: File /home/csy/Dropbox/blog/posts/GCN/2023-02-20-ESTGCN_GNAR_edit_guebin2.ipynb in the listing 'listing' contains no metadata.\u001b[39m\n",
      "\u001b[33mWARNING: File /home/csy/Dropbox/blog/posts/GCN/2023-01-26-ESTGCN_WIKI_DATA.ipynb in the listing 'listing' contains no metadata.\u001b[39m\n",
      "\u001b[33mWARNING: File /home/csy/Dropbox/blog/posts/GCN/2023-03-03-ESTGCN_GNAR_edit_guebin2_seoyeon.ipynb in the listing 'listing' contains no metadata.\u001b[39m\n",
      "\u001b[33mWARNING: File /home/csy/Dropbox/blog/posts/GCN/2023-02-06-ESTGCN_GNAR_DATA_2.ipynb in the listing 'listing' contains no metadata.\u001b[39m\n",
      "\u001b[33mWARNING: File /home/csy/Dropbox/blog/posts/GCN/2022-12-07-torchgcn.ipynb in the listing 'listing' contains no metadata.\u001b[39m\n",
      "\u001b[33mWARNING: File /home/csy/Dropbox/blog/posts/GCN/2023-01-21-Class.ipynb in the listing 'listing' contains no metadata.\u001b[39m\n",
      "\u001b[33mWARNING: File /home/csy/Dropbox/blog/posts/GCN/2023-02-20-ESTGCN_GNAR_edit_guebin.ipynb in the listing 'listing' contains no metadata.\u001b[39m\n",
      "\u001b[33mWARNING: File /home/csy/Dropbox/blog/posts/GCN/2023-04-27-toy_example_notes.ipynb in the listing 'listing' contains no metadata.\u001b[39m\n",
      "\u001b[33mWARNING: File /home/csy/Dropbox/blog/posts/GCN/2023-03-20-data load, data save as pickle.ipynb in the listing 'listing' contains no metadata.\u001b[39m\n",
      "\u001b[33mWARNING: File /home/csy/Dropbox/blog/posts/GCN/2023-04-27-toy_example_figure.ipynb in the listing 'listing' contains no metadata.\u001b[39m\n",
      "\u001b[33mWARNING: File /home/csy/Dropbox/blog/posts/GCN/2023-05-11-CPUvsGPU.ipynb in the listing 'listing' contains no metadata.\u001b[39m\n",
      "\u001b[33mWARNING: File /home/csy/Dropbox/blog/posts/GCN/2022-12-28-gcn_simulation.ipynb in the listing 'listing' contains no metadata.\u001b[39m\n",
      "\u001b[33mWARNING: File /home/csy/Dropbox/blog/posts/GCN/2023-02-07-ESTGCN_WIKI_DATA_2.ipynb in the listing 'listing' contains no metadata.\u001b[39m\n",
      "\u001b[33mWARNING: File /home/csy/Dropbox/blog/posts/GCN/2023-04-05-Simulation.ipynb in the listing 'listing' contains no metadata.\u001b[39m\n",
      "\u001b[33mWARNING: File /home/csy/Dropbox/blog/posts/GCN/2023-05-11-PyGGeometricTemporalEx.ipynb in the listing 'listing' contains no metadata.\u001b[39m\n",
      "\u001b[33mWARNING: File /home/csy/Dropbox/blog/posts/GCN/2023-05-17-Simulation_boxplot_reshape.ipynb in the listing 'listing' contains no metadata.\u001b[39m\n",
      "\u001b[33mWARNING: File /home/csy/Dropbox/blog/posts/GCN/2022-12-29-STGCN-tutorial.ipynb in the listing 'listing' contains no metadata.\u001b[39m\n",
      "\u001b[33mWARNING: File /home/csy/Dropbox/blog/posts/GCN/2023-01-11-Algorithm_EX_1.ipynb in the listing 'listing' contains no metadata.\u001b[39m\n",
      "\u001b[33mWARNING: File /home/csy/Dropbox/blog/posts/GCN/2023-05-17-simulation_table_reshape.ipynb in the listing 'listing' contains no metadata.\u001b[39m\n",
      "\u001b[33mWARNING: File /home/csy/Dropbox/blog/posts/GODE/2022-12-01-graph_code_guebin.ipynb in the listing 'listing' contains no metadata.\u001b[39m\n",
      "\u001b[33mWARNING: File /home/csy/Dropbox/blog/posts/GODE/2022-11-19-class_code_for_paper.ipynb in the listing 'listing' contains no metadata.\u001b[39m\n",
      "\u001b[33mWARNING: File /home/csy/Dropbox/blog/posts/GODE/2022-09-02-paper_simulation.ipynb in the listing 'listing' contains no metadata.\u001b[39m\n",
      "\u001b[33mWARNING: File /home/csy/Dropbox/blog/posts/GODE/2022-10-02-Earthquake_real.ipynb in the listing 'listing' contains no metadata.\u001b[39m\n",
      "\u001b[33mWARNING: File /home/csy/Dropbox/blog/posts/GODE/2022-12-27-DFT_study.ipynb in the listing 'listing' contains no metadata.\u001b[39m\n",
      "\u001b[33mWARNING: File /home/csy/Dropbox/blog/posts/GODE/Untitled.ipynb in the listing 'listing' contains no metadata.\u001b[39m\n",
      "\u001b[1m\u001b[34m[ 2/66] posts/Study/index.qmd\u001b[39m\u001b[22m\n",
      "\u001b[1m\u001b[34m[ 3/66] posts/Study/2023-04-10-GCRN_riview.ipynb\u001b[39m\u001b[22m\n",
      "\u001b[1m\u001b[34m[ 4/66] posts/Study/2023-04-10-STGCN_Existing_Method_Review.ipynb\u001b[39m\u001b[22m\n",
      "\u001b[1m\u001b[34m[ 5/66] posts/Study/2022-04-03-(5주차) 4월2일.ipynb\u001b[39m\u001b[22m\n",
      "\u001b[1m\u001b[34m[ 6/66] posts/Study/2022-12-31-Space-study.ipynb\u001b[39m\u001b[22m\n",
      "\u001b[1m\u001b[34m[ 7/66] posts/Study/2023-04-08-wrting_down_algorithm.ipynb\u001b[39m\u001b[22m\n",
      "\u001b[1m\u001b[34m[ 8/66] posts/Study/2022-03-28-(4주차) 3월28일.ipynb\u001b[39m\u001b[22m\n",
      "\u001b[1m\u001b[34m[ 9/66] posts/Study/2023-03-16-stgcn_paper_review_1.ipynb\u001b[39m\u001b[22m\n",
      "\u001b[1m\u001b[34m[10/66] posts/Study/2023-02-01-ch8_DFT.ipynb\u001b[39m\u001b[22m\n",
      "\u001b[1m\u001b[34m[11/66] posts/Study/2023-05-10-EbayesThreshold.ipynb\u001b[39m\u001b[22m\n",
      "\u001b[1m\u001b[34m[12/66] posts/Study/2023-04-04-nomalized graph laplacian.ipynb\u001b[39m\u001b[22m\n",
      "\u001b[1m\u001b[34m[13/66] posts/Study/2023-04-23-lebesque_decompposition_therem.ipynb\u001b[39m\u001b[22m\n",
      "\u001b[1m\u001b[34m[14/66] posts/Study/2023-04-12-.ipynb\u001b[39m\u001b[22m\n",
      "\u001b[1m\u001b[34m[15/66] posts/Study/2023-02-02-ch12.2_Weakly Stationary Graph Processes.ipynb\u001b[39m\u001b[22m\n",
      "\u001b[1m\u001b[34m[16/66] posts/Study/2023-02-05-ch12_2_3_Power Spectral Density and its Estimators.ipynb\u001b[39m\u001b[22m\n",
      "\u001b[1m\u001b[34m[17/66] posts/Quarto_tip/index.qmd\u001b[39m\u001b[22m\n",
      "\u001b[1m\u001b[34m[18/66] posts/Quarto_tip/2023-01-02-quarto_tips.ipynb\u001b[39m\u001b[22m\n",
      "\u001b[1m\u001b[34m[19/66] posts/GCN/2022-12-21-ST-GCN_Dataset.ipynb\u001b[39m\u001b[22m\n",
      "\u001b[1m\u001b[34m[20/66] posts/GCN/index.qmd\u001b[39m\u001b[22m\n",
      "\u001b[1m\u001b[34m[21/66] posts/GCN/2023-01-26-guebin.ipynb\u001b[39m\u001b[22m\n",
      "\u001b[1m\u001b[34m[22/66] posts/GCN/2023-03-18-SimulationPlanner-Tutorial.ipynb\u001b[39m\u001b[22m\n",
      "\u001b[1m\u001b[34m[23/66] posts/GCN/2023-04-06-METRLADatasetLoader.ipynb\u001b[39m\u001b[22m\n",
      "\u001b[1m\u001b[34m[24/66] posts/GCN/2023-04-27-simulation_table.ipynb\u001b[39m\u001b[22m\n",
      "\u001b[1m\u001b[34m[25/66] posts/GCN/2023-01-05-GNAR.ipynb\u001b[39m\u001b[22m\n",
      "\u001b[1m\u001b[34m[26/66] posts/GCN/2023-05-06-article_refer.ipynb\u001b[39m\u001b[22m\n",
      "\u001b[1m\u001b[34m[27/66] posts/GCN/2023-01-26-ESTGCN_GNAR_DATA.ipynb\u001b[39m\u001b[22m\n",
      "\u001b[1m\u001b[34m[28/66] posts/GCN/2023-03-22-SimulationPlanner-Tutorial_test_test.ipynb\u001b[39m\u001b[22m\n",
      "\u001b[1m\u001b[34m[29/66] posts/GCN/2023-01-20-Algorithm_traintest.ipynb\u001b[39m\u001b[22m\n",
      "\u001b[1m\u001b[34m[30/66] posts/GCN/2023-05-11-Keras_st.ipynb\u001b[39m\u001b[22m\n",
      "\u001b[1m\u001b[34m[31/66] posts/GCN/2023-03-17-ITSTGCN-Tutorial.ipynb\u001b[39m\u001b[22m\n",
      "\u001b[1m\u001b[34m[32/66] posts/GCN/2023-01-18-Algorithm_traintest_2.ipynb\u001b[39m\u001b[22m\n",
      "\u001b[1m\u001b[34m[33/66] posts/GCN/2023-05-05-ITSTGCN_LOADER.ipynb\u001b[39m\u001b[22m\n",
      "\u001b[1m\u001b[34m[34/66] posts/GCN/2023-04-29-pedalme_GSO_st.ipynb\u001b[39m\u001b[22m\n",
      "\u001b[1m\u001b[34m[35/66] posts/GCN/2023-05-13-Other Method.ipynb\u001b[39m\u001b[22m\n",
      "\u001b[1m\u001b[34m[36/66] posts/GCN/2023-02-06-ESTGCN_GNAR_DATA_3.ipynb\u001b[39m\u001b[22m\n",
      "\u001b[1m\u001b[34m[37/66] posts/GCN/2023-04-05-Simulation_boxplot.ipynb\u001b[39m\u001b[22m\n",
      "\u001b[1m\u001b[34m[38/66] posts/GCN/2023-04-25-note_matrix.ipynb\u001b[39m\u001b[22m\n",
      "\u001b[1m\u001b[34m[39/66] posts/GCN/2023-05-04-questions of pytorch geometric temporal.ipynb\u001b[39m\u001b[22m\n",
      "\u001b[1m\u001b[34m[40/66] posts/GCN/2023-02-20-ESTGCN_GNAR_edit_guebin2.ipynb\u001b[39m\u001b[22m\n",
      "\u001b[1m\u001b[34m[41/66] posts/GCN/2023-01-26-ESTGCN_WIKI_DATA.ipynb\u001b[39m\u001b[22m\n",
      "\u001b[1m\u001b[34m[42/66] posts/GCN/2023-03-03-ESTGCN_GNAR_edit_guebin2_seoyeon.ipynb\u001b[39m\u001b[22m\n",
      "\u001b[1m\u001b[34m[43/66] posts/GCN/2023-02-06-ESTGCN_GNAR_DATA_2.ipynb\u001b[39m\u001b[22m\n",
      "\u001b[1m\u001b[34m[44/66] posts/GCN/2022-12-07-torchgcn.ipynb\u001b[39m\u001b[22m\n",
      "\u001b[1m\u001b[34m[45/66] posts/GCN/2023-01-21-Class.ipynb\u001b[39m\u001b[22m\n",
      "\u001b[1m\u001b[34m[46/66] posts/GCN/2023-02-20-ESTGCN_GNAR_edit_guebin.ipynb\u001b[39m\u001b[22m\n",
      "\u001b[1m\u001b[34m[47/66] posts/GCN/2023-04-27-toy_example_notes.ipynb\u001b[39m\u001b[22m\n",
      "\u001b[1m\u001b[34m[48/66] posts/GCN/2023-03-20-data load, data save as pickle.ipynb\u001b[39m\u001b[22m\n",
      "\u001b[1m\u001b[34m[49/66] posts/GCN/2023-04-27-toy_example_figure.ipynb\u001b[39m\u001b[22m\n",
      "\u001b[1m\u001b[34m[50/66] posts/GCN/2023-05-11-CPUvsGPU.ipynb\u001b[39m\u001b[22m\n",
      "\u001b[1m\u001b[34m[51/66] posts/GCN/2022-12-28-gcn_simulation.ipynb\u001b[39m\u001b[22m\n",
      "\u001b[1m\u001b[34m[52/66] posts/GCN/2023-02-07-ESTGCN_WIKI_DATA_2.ipynb\u001b[39m\u001b[22m\n",
      "\u001b[1m\u001b[34m[53/66] posts/GCN/2023-04-05-Simulation.ipynb\u001b[39m\u001b[22m\n",
      "\u001b[1m\u001b[34m[54/66] posts/GCN/2023-05-11-PyGGeometricTemporalEx.ipynb\u001b[39m\u001b[22m\n",
      "\u001b[1m\u001b[34m[55/66] posts/GCN/2023-05-17-Simulation_boxplot_reshape.ipynb\u001b[39m\u001b[22m\n",
      "\u001b[1m\u001b[34m[56/66] posts/GCN/2022-12-29-STGCN-tutorial.ipynb\u001b[39m\u001b[22m\n",
      "\u001b[1m\u001b[34m[57/66] posts/GCN/2023-01-11-Algorithm_EX_1.ipynb\u001b[39m\u001b[22m\n",
      "\u001b[1m\u001b[34m[58/66] posts/GCN/2023-05-17-simulation_table_reshape.ipynb\u001b[39m\u001b[22m\n",
      "\u001b[1m\u001b[34m[59/66] posts/GODE/2022-12-01-graph_code_guebin.ipynb\u001b[39m\u001b[22m\n",
      "\u001b[1m\u001b[34m[60/66] posts/GODE/index.qmd\u001b[39m\u001b[22m\n",
      "\u001b[1m\u001b[34m[61/66] posts/GODE/2022-11-19-class_code_for_paper.ipynb\u001b[39m\u001b[22m\n",
      "\u001b[1m\u001b[34m[62/66] posts/GODE/2022-09-02-paper_simulation.ipynb\u001b[39m\u001b[22m\n",
      "\u001b[1m\u001b[34m[63/66] posts/GODE/2022-10-02-Earthquake_real.ipynb\u001b[39m\u001b[22m\n",
      "\u001b[1m\u001b[34m[64/66] posts/GODE/2022-12-27-DFT_study.ipynb\u001b[39m\u001b[22m\n",
      "\u001b[1m\u001b[34m[65/66] posts/GODE/Untitled.ipynb\u001b[39m\u001b[22m\n",
      "\u001b[1m\u001b[34m[66/66] about.qmd\u001b[39m\u001b[22m\n",
      "\n",
      "Preparing worktree (resetting branch 'gh-pages'; was at abc797b)\n",
      "Branch 'gh-pages' set up to track remote branch 'gh-pages' from 'origin'.\n",
      "HEAD is now at abc797b Built site for gh-pages\n",
      "[gh-pages 6798b69] Built site for gh-pages\n",
      " 73 files changed, 7685 insertions(+), 1940 deletions(-)\n",
      " create mode 100644 posts/GCN/2023-05-11-Keras_st_files/figure-html/cell-25-output-2.png\n",
      " create mode 100644 posts/GCN/2023-05-11-PyGGeometricTemporalEx_files/figure-html/cell-11-output-1.png\n",
      " create mode 100644 posts/GCN/2023-05-11-PyGGeometricTemporalEx_files/figure-html/cell-26-output-2.png\n",
      " create mode 100644 posts/GCN/2023-05-17-Simulation_boxplot_reshape.html\n",
      " create mode 100644 posts/GCN/2023-05-17-simulation_table_reshape.html\n",
      "origin\thttps://github.com/seoyeonc/blog.git (fetch)\n",
      "origin\thttps://github.com/seoyeonc/blog.git (push)\n",
      "Username for 'https://github.com': "
     ]
    }
   ],
   "source": [
    "!quarto publish gh-pages --no-browser --no-prompt\n",
    "!git add .\n",
    "!git commit -m .\n",
    "!git push"
   ]
  },
  {
   "cell_type": "code",
   "execution_count": 8,
   "id": "03d6db8a-fb11-4ba4-9541-06f4f67b8e04",
   "metadata": {},
   "outputs": [
    {
     "data": {
      "text/plain": [
       "(1.3080972048971389, 1.2395394126574197)"
      ]
     },
     "execution_count": 8,
     "metadata": {},
     "output_type": "execute_result"
    }
   ],
   "source": [
    "data.query(\"method=='STGCN' and mtype == 'rand'\")['mse'].mean(),data.query(\"method=='STGCN' and mtype != 'rand'\")['mse'].mean()"
   ]
  },
  {
   "cell_type": "code",
   "execution_count": 9,
   "id": "897c9ac6-4077-4cdd-912e-a8d359a540c2",
   "metadata": {},
   "outputs": [
    {
     "data": {
      "text/plain": [
       "(1.2944383851355976, 1.2251250015364752)"
      ]
     },
     "execution_count": 9,
     "metadata": {},
     "output_type": "execute_result"
    }
   ],
   "source": [
    "data.query(\"method=='IT-STGCN' and mtype == 'rand'\")['mse'].mean(),data.query(\"method=='IT-STGCN' and mtype != 'rand'\")['mse'].mean()"
   ]
  },
  {
   "cell_type": "markdown",
   "id": "cdd78537-7c03-4b56-bcf8-54a502241420",
   "metadata": {},
   "source": [
    "## Baseline"
   ]
  },
  {
   "cell_type": "code",
   "execution_count": 15,
   "id": "429ad814-50ce-46a1-bb68-fd654777cb35",
   "metadata": {},
   "outputs": [
    {
     "data": {
      "application/vnd.plotly.v1+json": {
       "config": {
        "plotlyServerURL": "https://plot.ly"
       },
       "data": [
        {
         "alignmentgroup": "True",
         "hovertemplate": "method=STGCN<br>RecurrentGCN=GConvGRU<br>epoch=%{x}<br>mse=%{y}<extra></extra>",
         "legendgroup": "STGCN",
         "marker": {
          "color": "#636efa"
         },
         "name": "STGCN",
         "notched": false,
         "offsetgroup": "STGCN",
         "orientation": "v",
         "showlegend": true,
         "type": "box",
         "x": [
          50,
          50,
          50,
          50,
          50,
          50,
          50,
          50,
          50,
          50,
          50,
          50,
          50,
          50,
          50,
          50,
          50,
          50,
          50,
          50,
          50,
          50,
          50,
          50,
          50,
          50,
          50,
          50,
          50,
          50,
          50,
          50,
          50,
          50,
          50,
          50,
          50,
          50,
          50,
          50,
          50,
          50,
          50,
          50,
          50,
          50,
          50,
          50,
          50,
          50,
          50,
          50,
          50,
          50,
          50,
          50,
          50,
          50,
          50,
          50,
          50,
          50,
          50,
          50,
          50,
          50,
          50,
          50,
          50,
          50,
          50,
          50,
          50,
          50,
          50,
          50,
          50,
          50,
          50,
          50,
          50,
          50,
          50,
          50,
          50,
          50,
          50,
          50,
          50,
          50
         ],
         "x0": " ",
         "xaxis": "x",
         "y": [
          1.2453315258026123,
          1.294905424118042,
          1.2253955602645874,
          1.2840988636016846,
          1.1753766536712646,
          1.27314555644989,
          1.2562379837036133,
          1.2463111877441406,
          1.2923318147659302,
          1.3001409769058228,
          1.2461137771606443,
          1.290164589881897,
          1.2892146110534668,
          1.2453057765960691,
          1.249194622039795,
          1.2326260805130005,
          1.2633483409881592,
          1.294475555419922,
          1.298232913017273,
          1.3254101276397705,
          1.2469608783721924,
          1.271285891532898,
          1.3714680671691897,
          1.2338448762893677,
          1.2222065925598145,
          1.287835955619812,
          1.2991135120391846,
          1.2404087781906128,
          1.2896881103515625,
          1.2537956237792969,
          1.293731689453125,
          1.3050249814987185,
          1.3075320720672607,
          1.323977828025818,
          1.34336256980896,
          1.2859883308410645,
          1.264237880706787,
          1.2273001670837402,
          1.3473856449127195,
          1.2793924808502195,
          1.3008376359939575,
          1.2263997793197632,
          1.2935302257537842,
          1.2869669198989868,
          1.296762228012085,
          1.1837689876556396,
          1.2347062826156616,
          1.2616654634475708,
          1.370274543762207,
          1.199793815612793,
          1.221044898033142,
          1.287283182144165,
          1.282212734222412,
          1.256553053855896,
          1.3218438625335691,
          1.2572108507156372,
          1.257009983062744,
          1.319900393486023,
          1.2470591068267822,
          1.3203119039535522,
          1.3168734312057495,
          1.305976390838623,
          1.2614877223968506,
          1.2638269662857056,
          1.2697303295135498,
          1.2365424633026123,
          1.279825210571289,
          1.293721318244934,
          1.208393096923828,
          1.3063197135925293,
          1.2714762687683103,
          1.2663946151733398,
          1.320096492767334,
          1.28000807762146,
          1.2229989767074585,
          1.1958487033843994,
          1.2887660264968872,
          1.2723509073257446,
          1.296479105949402,
          1.3009748458862305,
          1.2520307302474976,
          1.263744235038757,
          1.3590465784072876,
          1.1979955434799194,
          1.29129958152771,
          1.2491326332092283,
          1.284345030784607,
          1.3027504682540894,
          1.3002675771713257,
          1.2527185678482056
         ],
         "y0": " ",
         "yaxis": "y"
        },
        {
         "alignmentgroup": "True",
         "hovertemplate": "method=STGCN<br>RecurrentGCN=DCRNN<br>epoch=%{x}<br>mse=%{y}<extra></extra>",
         "legendgroup": "STGCN",
         "marker": {
          "color": "#636efa"
         },
         "name": "STGCN",
         "notched": false,
         "offsetgroup": "STGCN",
         "orientation": "v",
         "showlegend": false,
         "type": "box",
         "x": [
          50,
          50,
          50,
          50,
          50,
          50,
          50,
          50,
          50,
          50,
          50,
          50,
          50,
          50,
          50,
          50,
          50,
          50,
          50,
          50,
          50,
          50,
          50,
          50,
          50,
          50,
          50,
          50,
          50,
          50,
          50,
          50,
          50,
          50,
          50,
          50,
          50,
          50,
          50,
          50,
          50,
          50,
          50,
          50,
          50,
          50,
          50,
          50,
          50,
          50,
          50,
          50,
          50,
          50,
          50,
          50,
          50,
          50,
          50,
          50,
          50,
          50,
          50,
          50,
          50,
          50,
          50,
          50,
          50,
          50,
          50,
          50,
          50,
          50,
          50,
          50,
          50,
          50,
          50,
          50,
          50,
          50,
          50,
          50,
          50,
          50,
          50,
          50,
          50,
          50
         ],
         "x0": " ",
         "xaxis": "x2",
         "y": [
          1.2355825901031494,
          1.1905442476272583,
          1.1964722871780396,
          1.221588373184204,
          1.2240701913833618,
          1.227372407913208,
          1.2156803607940674,
          1.211328148841858,
          1.2045783996582031,
          1.221733331680298,
          1.2056657075881958,
          1.1984516382217407,
          1.1992939710617063,
          1.2037986516952517,
          1.231334924697876,
          1.2044247388839722,
          1.1800333261489868,
          1.1856329441070557,
          1.2046204805374146,
          1.2068077325820925,
          1.2214088439941406,
          1.1819612979888916,
          1.2140198945999146,
          1.2137223482131958,
          1.2296748161315918,
          1.2114988565444946,
          1.1901116371154783,
          1.191664457321167,
          1.2154786586761477,
          1.1990991830825806,
          1.241263747215271,
          1.2213574647903442,
          1.1965981721878052,
          1.202942967414856,
          1.1716705560684204,
          1.196284532546997,
          1.2056872844696045,
          1.2260786294937134,
          1.1867159605026243,
          1.1835471391677856,
          1.169048309326172,
          1.198475360870361,
          1.215883493423462,
          1.1903058290481567,
          1.208117127418518,
          1.204118728637695,
          1.182187795639038,
          1.2213866710662842,
          1.2309000492095947,
          1.227106690406799,
          1.1775989532470703,
          1.2140488624572754,
          1.2600291967391968,
          1.2069255113601685,
          1.2073149681091309,
          1.191230535507202,
          1.1882457733154297,
          1.2015246152877808,
          1.2020223140716553,
          1.2098225355148315,
          1.233738660812378,
          1.193008303642273,
          1.1902278661727903,
          1.185060739517212,
          1.212643265724182,
          1.185948133468628,
          1.1724745035171509,
          1.1860378980636597,
          1.1925101280212402,
          1.1983789205551147,
          1.2161766290664673,
          1.1901432275772097,
          1.234660267829895,
          1.2424143552780151,
          1.2049856185913086,
          1.1766594648361206,
          1.2201961278915403,
          1.2308887243270874,
          1.1933821439743042,
          1.204046607017517,
          1.182704210281372,
          1.1897294521331787,
          1.2141640186309814,
          1.202428936958313,
          1.2007851600646973,
          1.213265061378479,
          1.1966416835784912,
          1.2175942659378052,
          1.206594705581665,
          1.1950496435165403
         ],
         "y0": " ",
         "yaxis": "y2"
        },
        {
         "alignmentgroup": "True",
         "hovertemplate": "method=IT-STGCN<br>RecurrentGCN=GConvGRU<br>epoch=%{x}<br>mse=%{y}<extra></extra>",
         "legendgroup": "IT-STGCN",
         "marker": {
          "color": "#EF553B"
         },
         "name": "IT-STGCN",
         "notched": false,
         "offsetgroup": "IT-STGCN",
         "orientation": "v",
         "showlegend": true,
         "type": "box",
         "x": [
          50,
          50,
          50,
          50,
          50,
          50,
          50,
          50,
          50,
          50,
          50,
          50,
          50,
          50,
          50,
          50,
          50,
          50,
          50,
          50,
          50,
          50,
          50,
          50,
          50,
          50,
          50,
          50,
          50,
          50,
          50,
          50,
          50,
          50,
          50,
          50,
          50,
          50,
          50,
          50,
          50,
          50,
          50,
          50,
          50,
          50,
          50,
          50,
          50,
          50,
          50,
          50,
          50,
          50,
          50,
          50,
          50,
          50,
          50,
          50,
          50,
          50,
          50,
          50,
          50,
          50,
          50,
          50,
          50,
          50,
          50,
          50,
          50,
          50,
          50,
          50,
          50,
          50,
          50,
          50,
          50,
          50,
          50,
          50,
          50,
          50,
          50,
          50,
          50,
          50
         ],
         "x0": " ",
         "xaxis": "x",
         "y": [
          1.2109860181808472,
          1.266336441040039,
          1.3006987571716309,
          1.198051691055298,
          1.2670520544052124,
          1.2343692779541016,
          1.2162069082260132,
          1.229787826538086,
          1.331757664680481,
          1.330003023147583,
          1.2176964282989502,
          1.26370370388031,
          1.2203997373580933,
          1.273406744003296,
          1.2801721096038818,
          1.1966121196746826,
          1.282450556755066,
          1.2877517938613892,
          1.24691641330719,
          1.1855971813201904,
          1.263018250465393,
          1.226612210273743,
          1.2325817346572876,
          1.2583532333374023,
          1.29641854763031,
          1.230782389640808,
          1.3000950813293457,
          1.231156587600708,
          1.2487008571624756,
          1.2462117671966553,
          1.2401127815246582,
          1.2071399688720703,
          1.2732051610946655,
          1.272371768951416,
          1.195801854133606,
          1.229770302772522,
          1.2840038537979126,
          1.266714572906494,
          1.2627954483032229,
          1.2016029357910156,
          1.2021300792694092,
          1.2415326833724976,
          1.2597326040267944,
          1.248257756233215,
          1.231316089630127,
          1.1986210346221924,
          1.2307746410369873,
          1.3318668603897097,
          1.2274428606033323,
          1.2923630475997925,
          1.3756541013717651,
          1.2672460079193115,
          1.1985758543014526,
          1.207441806793213,
          1.2349400520324707,
          1.2234196662902832,
          1.2409343719482422,
          1.235443353652954,
          1.233359694480896,
          1.2149192094802856,
          1.2587971687316897,
          1.2518196105957031,
          1.2027617692947388,
          1.2546316385269165,
          1.2717801332473757,
          1.2380298376083374,
          1.245631217956543,
          1.2224892377853394,
          1.2279837131500244,
          1.234915852546692,
          1.232202172279358,
          1.2000378370285034,
          1.2824488878250122,
          1.231684684753418,
          1.2055360078811646,
          1.215922474861145,
          1.2026121616363523,
          1.1673221588134766,
          1.2709510326385498,
          1.2333965301513672,
          1.2406668663024902,
          1.253989338874817,
          1.3460938930511477,
          1.2571817636489868,
          1.1475085020065308,
          1.2440272569656372,
          1.2403818368911743,
          1.294932246208191,
          1.3261466026306152,
          1.2101856470108032
         ],
         "y0": " ",
         "yaxis": "y"
        },
        {
         "alignmentgroup": "True",
         "hovertemplate": "method=IT-STGCN<br>RecurrentGCN=DCRNN<br>epoch=%{x}<br>mse=%{y}<extra></extra>",
         "legendgroup": "IT-STGCN",
         "marker": {
          "color": "#EF553B"
         },
         "name": "IT-STGCN",
         "notched": false,
         "offsetgroup": "IT-STGCN",
         "orientation": "v",
         "showlegend": false,
         "type": "box",
         "x": [
          50,
          50,
          50,
          50,
          50,
          50,
          50,
          50,
          50,
          50,
          50,
          50,
          50,
          50,
          50,
          50,
          50,
          50,
          50,
          50,
          50,
          50,
          50,
          50,
          50,
          50,
          50,
          50,
          50,
          50,
          50,
          50,
          50,
          50,
          50,
          50,
          50,
          50,
          50,
          50,
          50,
          50,
          50,
          50,
          50,
          50,
          50,
          50,
          50,
          50,
          50,
          50,
          50,
          50,
          50,
          50,
          50,
          50,
          50,
          50,
          50,
          50,
          50,
          50,
          50,
          50,
          50,
          50,
          50,
          50,
          50,
          50,
          50,
          50,
          50,
          50,
          50,
          50,
          50,
          50,
          50,
          50,
          50,
          50,
          50,
          50,
          50,
          50,
          50,
          50
         ],
         "x0": " ",
         "xaxis": "x2",
         "y": [
          1.227399230003357,
          1.204148769378662,
          1.2071141004562378,
          1.194210648536682,
          1.2046256065368652,
          1.1755590438842771,
          1.1917016506195068,
          1.2069087028503418,
          1.2116632461547852,
          1.1869136095046997,
          1.206202507019043,
          1.2027086019515991,
          1.2239930629730225,
          1.2713969945907593,
          1.2092151641845703,
          1.1949708461761477,
          1.181391358375549,
          1.1953071355819702,
          1.2084203958511353,
          1.1792311668395996,
          1.1674127578735352,
          1.2266669273376465,
          1.2005066871643066,
          1.208512544631958,
          1.2332907915115356,
          1.2295984029769895,
          1.217529535293579,
          1.198988676071167,
          1.1795954704284668,
          1.1891342401504517,
          1.1799063682556152,
          1.2130306959152222,
          1.229736328125,
          1.210394263267517,
          1.196296453475952,
          1.1838979721069336,
          1.1663037538528442,
          1.1712859869003296,
          1.2127338647842407,
          1.2583510875701904,
          1.1966813802719116,
          1.1813844442367554,
          1.2108583450317385,
          1.2025370597839355,
          1.1996384859085083,
          1.1930090188980105,
          1.1965961456298828,
          1.1837893724441528,
          1.1767144203186035,
          1.1905606985092163,
          1.2051080465316772,
          1.238674879074097,
          1.177870273590088,
          1.2190303802490234,
          1.1984301805496216,
          1.21206533908844,
          1.186811923980713,
          1.1899869441986084,
          1.1829617023468018,
          1.1931604146957395,
          1.2362539768218994,
          1.2510223388671875,
          1.209830403327942,
          1.213477611541748,
          1.2119745016098022,
          1.191132426261902,
          1.199652910232544,
          1.2022618055343628,
          1.2271323204040527,
          1.204201340675354,
          1.2205960750579834,
          1.2089285850524902,
          1.2158621549606323,
          1.175451636314392,
          1.2291083335876465,
          1.1862410306930542,
          1.1803474426269531,
          1.226047158241272,
          1.2073556184768677,
          1.1763880252838137,
          1.2005939483642578,
          1.2283707857131958,
          1.2664687633514404,
          1.2082929611206057,
          1.2037962675094604,
          1.2185616493225098,
          1.2220624685287476,
          1.201996088027954,
          1.188800811767578,
          1.202721118927002
         ],
         "y0": " ",
         "yaxis": "y2"
        }
       ],
       "layout": {
        "annotations": [
         {
          "font": {},
          "showarrow": false,
          "text": "RecurrentGCN=GConvGRU",
          "x": 0.245,
          "xanchor": "center",
          "xref": "paper",
          "y": 1,
          "yanchor": "bottom",
          "yref": "paper"
         },
         {
          "font": {},
          "showarrow": false,
          "text": "RecurrentGCN=DCRNN",
          "x": 0.755,
          "xanchor": "center",
          "xref": "paper",
          "y": 1,
          "yanchor": "bottom",
          "yref": "paper"
         }
        ],
        "autosize": true,
        "boxmode": "group",
        "legend": {
         "title": {
          "text": "method"
         },
         "tracegroupgap": 0
        },
        "margin": {
         "t": 60
        },
        "template": {
         "data": {
          "bar": [
           {
            "error_x": {
             "color": "#2a3f5f"
            },
            "error_y": {
             "color": "#2a3f5f"
            },
            "marker": {
             "line": {
              "color": "#E5ECF6",
              "width": 0.5
             },
             "pattern": {
              "fillmode": "overlay",
              "size": 10,
              "solidity": 0.2
             }
            },
            "type": "bar"
           }
          ],
          "barpolar": [
           {
            "marker": {
             "line": {
              "color": "#E5ECF6",
              "width": 0.5
             },
             "pattern": {
              "fillmode": "overlay",
              "size": 10,
              "solidity": 0.2
             }
            },
            "type": "barpolar"
           }
          ],
          "carpet": [
           {
            "aaxis": {
             "endlinecolor": "#2a3f5f",
             "gridcolor": "white",
             "linecolor": "white",
             "minorgridcolor": "white",
             "startlinecolor": "#2a3f5f"
            },
            "baxis": {
             "endlinecolor": "#2a3f5f",
             "gridcolor": "white",
             "linecolor": "white",
             "minorgridcolor": "white",
             "startlinecolor": "#2a3f5f"
            },
            "type": "carpet"
           }
          ],
          "choropleth": [
           {
            "colorbar": {
             "outlinewidth": 0,
             "ticks": ""
            },
            "type": "choropleth"
           }
          ],
          "contour": [
           {
            "colorbar": {
             "outlinewidth": 0,
             "ticks": ""
            },
            "colorscale": [
             [
              0,
              "#0d0887"
             ],
             [
              0.1111111111111111,
              "#46039f"
             ],
             [
              0.2222222222222222,
              "#7201a8"
             ],
             [
              0.3333333333333333,
              "#9c179e"
             ],
             [
              0.4444444444444444,
              "#bd3786"
             ],
             [
              0.5555555555555556,
              "#d8576b"
             ],
             [
              0.6666666666666666,
              "#ed7953"
             ],
             [
              0.7777777777777778,
              "#fb9f3a"
             ],
             [
              0.8888888888888888,
              "#fdca26"
             ],
             [
              1,
              "#f0f921"
             ]
            ],
            "type": "contour"
           }
          ],
          "contourcarpet": [
           {
            "colorbar": {
             "outlinewidth": 0,
             "ticks": ""
            },
            "type": "contourcarpet"
           }
          ],
          "heatmap": [
           {
            "colorbar": {
             "outlinewidth": 0,
             "ticks": ""
            },
            "colorscale": [
             [
              0,
              "#0d0887"
             ],
             [
              0.1111111111111111,
              "#46039f"
             ],
             [
              0.2222222222222222,
              "#7201a8"
             ],
             [
              0.3333333333333333,
              "#9c179e"
             ],
             [
              0.4444444444444444,
              "#bd3786"
             ],
             [
              0.5555555555555556,
              "#d8576b"
             ],
             [
              0.6666666666666666,
              "#ed7953"
             ],
             [
              0.7777777777777778,
              "#fb9f3a"
             ],
             [
              0.8888888888888888,
              "#fdca26"
             ],
             [
              1,
              "#f0f921"
             ]
            ],
            "type": "heatmap"
           }
          ],
          "heatmapgl": [
           {
            "colorbar": {
             "outlinewidth": 0,
             "ticks": ""
            },
            "colorscale": [
             [
              0,
              "#0d0887"
             ],
             [
              0.1111111111111111,
              "#46039f"
             ],
             [
              0.2222222222222222,
              "#7201a8"
             ],
             [
              0.3333333333333333,
              "#9c179e"
             ],
             [
              0.4444444444444444,
              "#bd3786"
             ],
             [
              0.5555555555555556,
              "#d8576b"
             ],
             [
              0.6666666666666666,
              "#ed7953"
             ],
             [
              0.7777777777777778,
              "#fb9f3a"
             ],
             [
              0.8888888888888888,
              "#fdca26"
             ],
             [
              1,
              "#f0f921"
             ]
            ],
            "type": "heatmapgl"
           }
          ],
          "histogram": [
           {
            "marker": {
             "pattern": {
              "fillmode": "overlay",
              "size": 10,
              "solidity": 0.2
             }
            },
            "type": "histogram"
           }
          ],
          "histogram2d": [
           {
            "colorbar": {
             "outlinewidth": 0,
             "ticks": ""
            },
            "colorscale": [
             [
              0,
              "#0d0887"
             ],
             [
              0.1111111111111111,
              "#46039f"
             ],
             [
              0.2222222222222222,
              "#7201a8"
             ],
             [
              0.3333333333333333,
              "#9c179e"
             ],
             [
              0.4444444444444444,
              "#bd3786"
             ],
             [
              0.5555555555555556,
              "#d8576b"
             ],
             [
              0.6666666666666666,
              "#ed7953"
             ],
             [
              0.7777777777777778,
              "#fb9f3a"
             ],
             [
              0.8888888888888888,
              "#fdca26"
             ],
             [
              1,
              "#f0f921"
             ]
            ],
            "type": "histogram2d"
           }
          ],
          "histogram2dcontour": [
           {
            "colorbar": {
             "outlinewidth": 0,
             "ticks": ""
            },
            "colorscale": [
             [
              0,
              "#0d0887"
             ],
             [
              0.1111111111111111,
              "#46039f"
             ],
             [
              0.2222222222222222,
              "#7201a8"
             ],
             [
              0.3333333333333333,
              "#9c179e"
             ],
             [
              0.4444444444444444,
              "#bd3786"
             ],
             [
              0.5555555555555556,
              "#d8576b"
             ],
             [
              0.6666666666666666,
              "#ed7953"
             ],
             [
              0.7777777777777778,
              "#fb9f3a"
             ],
             [
              0.8888888888888888,
              "#fdca26"
             ],
             [
              1,
              "#f0f921"
             ]
            ],
            "type": "histogram2dcontour"
           }
          ],
          "mesh3d": [
           {
            "colorbar": {
             "outlinewidth": 0,
             "ticks": ""
            },
            "type": "mesh3d"
           }
          ],
          "parcoords": [
           {
            "line": {
             "colorbar": {
              "outlinewidth": 0,
              "ticks": ""
             }
            },
            "type": "parcoords"
           }
          ],
          "pie": [
           {
            "automargin": true,
            "type": "pie"
           }
          ],
          "scatter": [
           {
            "fillpattern": {
             "fillmode": "overlay",
             "size": 10,
             "solidity": 0.2
            },
            "type": "scatter"
           }
          ],
          "scatter3d": [
           {
            "line": {
             "colorbar": {
              "outlinewidth": 0,
              "ticks": ""
             }
            },
            "marker": {
             "colorbar": {
              "outlinewidth": 0,
              "ticks": ""
             }
            },
            "type": "scatter3d"
           }
          ],
          "scattercarpet": [
           {
            "marker": {
             "colorbar": {
              "outlinewidth": 0,
              "ticks": ""
             }
            },
            "type": "scattercarpet"
           }
          ],
          "scattergeo": [
           {
            "marker": {
             "colorbar": {
              "outlinewidth": 0,
              "ticks": ""
             }
            },
            "type": "scattergeo"
           }
          ],
          "scattergl": [
           {
            "marker": {
             "colorbar": {
              "outlinewidth": 0,
              "ticks": ""
             }
            },
            "type": "scattergl"
           }
          ],
          "scattermapbox": [
           {
            "marker": {
             "colorbar": {
              "outlinewidth": 0,
              "ticks": ""
             }
            },
            "type": "scattermapbox"
           }
          ],
          "scatterpolar": [
           {
            "marker": {
             "colorbar": {
              "outlinewidth": 0,
              "ticks": ""
             }
            },
            "type": "scatterpolar"
           }
          ],
          "scatterpolargl": [
           {
            "marker": {
             "colorbar": {
              "outlinewidth": 0,
              "ticks": ""
             }
            },
            "type": "scatterpolargl"
           }
          ],
          "scatterternary": [
           {
            "marker": {
             "colorbar": {
              "outlinewidth": 0,
              "ticks": ""
             }
            },
            "type": "scatterternary"
           }
          ],
          "surface": [
           {
            "colorbar": {
             "outlinewidth": 0,
             "ticks": ""
            },
            "colorscale": [
             [
              0,
              "#0d0887"
             ],
             [
              0.1111111111111111,
              "#46039f"
             ],
             [
              0.2222222222222222,
              "#7201a8"
             ],
             [
              0.3333333333333333,
              "#9c179e"
             ],
             [
              0.4444444444444444,
              "#bd3786"
             ],
             [
              0.5555555555555556,
              "#d8576b"
             ],
             [
              0.6666666666666666,
              "#ed7953"
             ],
             [
              0.7777777777777778,
              "#fb9f3a"
             ],
             [
              0.8888888888888888,
              "#fdca26"
             ],
             [
              1,
              "#f0f921"
             ]
            ],
            "type": "surface"
           }
          ],
          "table": [
           {
            "cells": {
             "fill": {
              "color": "#EBF0F8"
             },
             "line": {
              "color": "white"
             }
            },
            "header": {
             "fill": {
              "color": "#C8D4E3"
             },
             "line": {
              "color": "white"
             }
            },
            "type": "table"
           }
          ]
         },
         "layout": {
          "annotationdefaults": {
           "arrowcolor": "#2a3f5f",
           "arrowhead": 0,
           "arrowwidth": 1
          },
          "autotypenumbers": "strict",
          "coloraxis": {
           "colorbar": {
            "outlinewidth": 0,
            "ticks": ""
           }
          },
          "colorscale": {
           "diverging": [
            [
             0,
             "#8e0152"
            ],
            [
             0.1,
             "#c51b7d"
            ],
            [
             0.2,
             "#de77ae"
            ],
            [
             0.3,
             "#f1b6da"
            ],
            [
             0.4,
             "#fde0ef"
            ],
            [
             0.5,
             "#f7f7f7"
            ],
            [
             0.6,
             "#e6f5d0"
            ],
            [
             0.7,
             "#b8e186"
            ],
            [
             0.8,
             "#7fbc41"
            ],
            [
             0.9,
             "#4d9221"
            ],
            [
             1,
             "#276419"
            ]
           ],
           "sequential": [
            [
             0,
             "#0d0887"
            ],
            [
             0.1111111111111111,
             "#46039f"
            ],
            [
             0.2222222222222222,
             "#7201a8"
            ],
            [
             0.3333333333333333,
             "#9c179e"
            ],
            [
             0.4444444444444444,
             "#bd3786"
            ],
            [
             0.5555555555555556,
             "#d8576b"
            ],
            [
             0.6666666666666666,
             "#ed7953"
            ],
            [
             0.7777777777777778,
             "#fb9f3a"
            ],
            [
             0.8888888888888888,
             "#fdca26"
            ],
            [
             1,
             "#f0f921"
            ]
           ],
           "sequentialminus": [
            [
             0,
             "#0d0887"
            ],
            [
             0.1111111111111111,
             "#46039f"
            ],
            [
             0.2222222222222222,
             "#7201a8"
            ],
            [
             0.3333333333333333,
             "#9c179e"
            ],
            [
             0.4444444444444444,
             "#bd3786"
            ],
            [
             0.5555555555555556,
             "#d8576b"
            ],
            [
             0.6666666666666666,
             "#ed7953"
            ],
            [
             0.7777777777777778,
             "#fb9f3a"
            ],
            [
             0.8888888888888888,
             "#fdca26"
            ],
            [
             1,
             "#f0f921"
            ]
           ]
          },
          "colorway": [
           "#636efa",
           "#EF553B",
           "#00cc96",
           "#ab63fa",
           "#FFA15A",
           "#19d3f3",
           "#FF6692",
           "#B6E880",
           "#FF97FF",
           "#FECB52"
          ],
          "font": {
           "color": "#2a3f5f"
          },
          "geo": {
           "bgcolor": "white",
           "lakecolor": "white",
           "landcolor": "#E5ECF6",
           "showlakes": true,
           "showland": true,
           "subunitcolor": "white"
          },
          "hoverlabel": {
           "align": "left"
          },
          "hovermode": "closest",
          "mapbox": {
           "style": "light"
          },
          "paper_bgcolor": "white",
          "plot_bgcolor": "#E5ECF6",
          "polar": {
           "angularaxis": {
            "gridcolor": "white",
            "linecolor": "white",
            "ticks": ""
           },
           "bgcolor": "#E5ECF6",
           "radialaxis": {
            "gridcolor": "white",
            "linecolor": "white",
            "ticks": ""
           }
          },
          "scene": {
           "xaxis": {
            "backgroundcolor": "#E5ECF6",
            "gridcolor": "white",
            "gridwidth": 2,
            "linecolor": "white",
            "showbackground": true,
            "ticks": "",
            "zerolinecolor": "white"
           },
           "yaxis": {
            "backgroundcolor": "#E5ECF6",
            "gridcolor": "white",
            "gridwidth": 2,
            "linecolor": "white",
            "showbackground": true,
            "ticks": "",
            "zerolinecolor": "white"
           },
           "zaxis": {
            "backgroundcolor": "#E5ECF6",
            "gridcolor": "white",
            "gridwidth": 2,
            "linecolor": "white",
            "showbackground": true,
            "ticks": "",
            "zerolinecolor": "white"
           }
          },
          "shapedefaults": {
           "line": {
            "color": "#2a3f5f"
           }
          },
          "ternary": {
           "aaxis": {
            "gridcolor": "white",
            "linecolor": "white",
            "ticks": ""
           },
           "baxis": {
            "gridcolor": "white",
            "linecolor": "white",
            "ticks": ""
           },
           "bgcolor": "#E5ECF6",
           "caxis": {
            "gridcolor": "white",
            "linecolor": "white",
            "ticks": ""
           }
          },
          "title": {
           "x": 0.05
          },
          "xaxis": {
           "automargin": true,
           "gridcolor": "white",
           "linecolor": "white",
           "ticks": "",
           "title": {
            "standoff": 15
           },
           "zerolinecolor": "white",
           "zerolinewidth": 2
          },
          "yaxis": {
           "automargin": true,
           "gridcolor": "white",
           "linecolor": "white",
           "ticks": "",
           "title": {
            "standoff": 15
           },
           "zerolinecolor": "white",
           "zerolinewidth": 2
          }
         }
        },
        "xaxis": {
         "anchor": "y",
         "autorange": true,
         "domain": [
          0,
          0.49
         ],
         "range": [
          49.49658869949854,
          50.50341130050146
         ],
         "title": {
          "text": "epoch"
         },
         "type": "linear"
        },
        "xaxis2": {
         "anchor": "y2",
         "autorange": true,
         "domain": [
          0.51,
          1
         ],
         "matches": "x",
         "range": [
          49.49658869949854,
          50.50341130050146
         ],
         "title": {
          "text": "epoch"
         },
         "type": "linear"
        },
        "yaxis": {
         "anchor": "x",
         "autorange": true,
         "domain": [
          0,
          1
         ],
         "range": [
          1.13483374648624,
          1.388328856892056
         ],
         "title": {
          "text": "mse"
         },
         "type": "linear"
        },
        "yaxis2": {
         "anchor": "x2",
         "autorange": true,
         "domain": [
          0,
          1
         ],
         "matches": "y",
         "range": [
          1.13483374648624,
          1.388328856892056
         ],
         "showticklabels": false,
         "type": "linear"
        }
       }
      },
      "image/png": "[encoded data removed]",
      "text/html": [
       "<div>                            <div id=\"bd0bdb56-3d67-48a5-950d-3c8593a6da5e\" class=\"plotly-graph-div\" style=\"height:800px; width:100%;\"></div>            <script type=\"text/javascript\">                require([\"plotly\"], function(Plotly) {                    window.PLOTLYENV=window.PLOTLYENV || {};                                    if (document.getElementById(\"bd0bdb56-3d67-48a5-950d-3c8593a6da5e\")) {                    Plotly.newPlot(                        \"bd0bdb56-3d67-48a5-950d-3c8593a6da5e\",                        [{\"alignmentgroup\":\"True\",\"hovertemplate\":\"method=STGCN<br>RecurrentGCN=GConvGRU<br>epoch=%{x}<br>mse=%{y}<extra></extra>\",\"legendgroup\":\"STGCN\",\"marker\":{\"color\":\"#636efa\"},\"name\":\"STGCN\",\"notched\":false,\"offsetgroup\":\"STGCN\",\"orientation\":\"v\",\"showlegend\":true,\"x\":[50,50,50,50,50,50,50,50,50,50,50,50,50,50,50,50,50,50,50,50,50,50,50,50,50,50,50,50,50,50,50,50,50,50,50,50,50,50,50,50,50,50,50,50,50,50,50,50,50,50,50,50,50,50,50,50,50,50,50,50,50,50,50,50,50,50,50,50,50,50,50,50,50,50,50,50,50,50,50,50,50,50,50,50,50,50,50,50,50,50],\"x0\":\" \",\"xaxis\":\"x\",\"y\":[1.2453315258026123,1.294905424118042,1.2253955602645874,1.2840988636016846,1.1753766536712646,1.27314555644989,1.2562379837036133,1.2463111877441406,1.2923318147659302,1.3001409769058228,1.2461137771606443,1.290164589881897,1.2892146110534668,1.2453057765960691,1.249194622039795,1.2326260805130005,1.2633483409881592,1.294475555419922,1.298232913017273,1.3254101276397705,1.2469608783721924,1.271285891532898,1.3714680671691897,1.2338448762893677,1.2222065925598145,1.287835955619812,1.2991135120391846,1.2404087781906128,1.2896881103515625,1.2537956237792969,1.293731689453125,1.3050249814987185,1.3075320720672607,1.323977828025818,1.34336256980896,1.2859883308410645,1.264237880706787,1.2273001670837402,1.3473856449127195,1.2793924808502195,1.3008376359939575,1.2263997793197632,1.2935302257537842,1.2869669198989868,1.296762228012085,1.1837689876556396,1.2347062826156616,1.2616654634475708,1.370274543762207,1.199793815612793,1.221044898033142,1.287283182144165,1.282212734222412,1.256553053855896,1.3218438625335691,1.2572108507156372,1.257009983062744,1.319900393486023,1.2470591068267822,1.3203119039535522,1.3168734312057495,1.305976390838623,1.2614877223968506,1.2638269662857056,1.2697303295135498,1.2365424633026123,1.279825210571289,1.293721318244934,1.208393096923828,1.3063197135925293,1.2714762687683103,1.2663946151733398,1.320096492767334,1.28000807762146,1.2229989767074585,1.1958487033843994,1.2887660264968872,1.2723509073257446,1.296479105949402,1.3009748458862305,1.2520307302474976,1.263744235038757,1.3590465784072876,1.1979955434799194,1.29129958152771,1.2491326332092283,1.284345030784607,1.3027504682540894,1.3002675771713257,1.2527185678482056],\"y0\":\" \",\"yaxis\":\"y\",\"type\":\"box\"},{\"alignmentgroup\":\"True\",\"hovertemplate\":\"method=STGCN<br>RecurrentGCN=DCRNN<br>epoch=%{x}<br>mse=%{y}<extra></extra>\",\"legendgroup\":\"STGCN\",\"marker\":{\"color\":\"#636efa\"},\"name\":\"STGCN\",\"notched\":false,\"offsetgroup\":\"STGCN\",\"orientation\":\"v\",\"showlegend\":false,\"x\":[50,50,50,50,50,50,50,50,50,50,50,50,50,50,50,50,50,50,50,50,50,50,50,50,50,50,50,50,50,50,50,50,50,50,50,50,50,50,50,50,50,50,50,50,50,50,50,50,50,50,50,50,50,50,50,50,50,50,50,50,50,50,50,50,50,50,50,50,50,50,50,50,50,50,50,50,50,50,50,50,50,50,50,50,50,50,50,50,50,50],\"x0\":\" \",\"xaxis\":\"x2\",\"y\":[1.2355825901031494,1.1905442476272583,1.1964722871780396,1.221588373184204,1.2240701913833618,1.227372407913208,1.2156803607940674,1.211328148841858,1.2045783996582031,1.221733331680298,1.2056657075881958,1.1984516382217407,1.1992939710617063,1.2037986516952517,1.231334924697876,1.2044247388839722,1.1800333261489868,1.1856329441070557,1.2046204805374146,1.2068077325820925,1.2214088439941406,1.1819612979888916,1.2140198945999146,1.2137223482131958,1.2296748161315918,1.2114988565444946,1.1901116371154783,1.191664457321167,1.2154786586761477,1.1990991830825806,1.241263747215271,1.2213574647903442,1.1965981721878052,1.202942967414856,1.1716705560684204,1.196284532546997,1.2056872844696045,1.2260786294937134,1.1867159605026243,1.1835471391677856,1.169048309326172,1.198475360870361,1.215883493423462,1.1903058290481567,1.208117127418518,1.204118728637695,1.182187795639038,1.2213866710662842,1.2309000492095947,1.227106690406799,1.1775989532470703,1.2140488624572754,1.2600291967391968,1.2069255113601685,1.2073149681091309,1.191230535507202,1.1882457733154297,1.2015246152877808,1.2020223140716553,1.2098225355148315,1.233738660812378,1.193008303642273,1.1902278661727903,1.185060739517212,1.212643265724182,1.185948133468628,1.1724745035171509,1.1860378980636597,1.1925101280212402,1.1983789205551147,1.2161766290664673,1.1901432275772097,1.234660267829895,1.2424143552780151,1.2049856185913086,1.1766594648361206,1.2201961278915403,1.2308887243270874,1.1933821439743042,1.204046607017517,1.182704210281372,1.1897294521331787,1.2141640186309814,1.202428936958313,1.2007851600646973,1.213265061378479,1.1966416835784912,1.2175942659378052,1.206594705581665,1.1950496435165403],\"y0\":\" \",\"yaxis\":\"y2\",\"type\":\"box\"},{\"alignmentgroup\":\"True\",\"hovertemplate\":\"method=IT-STGCN<br>RecurrentGCN=GConvGRU<br>epoch=%{x}<br>mse=%{y}<extra></extra>\",\"legendgroup\":\"IT-STGCN\",\"marker\":{\"color\":\"#EF553B\"},\"name\":\"IT-STGCN\",\"notched\":false,\"offsetgroup\":\"IT-STGCN\",\"orientation\":\"v\",\"showlegend\":true,\"x\":[50,50,50,50,50,50,50,50,50,50,50,50,50,50,50,50,50,50,50,50,50,50,50,50,50,50,50,50,50,50,50,50,50,50,50,50,50,50,50,50,50,50,50,50,50,50,50,50,50,50,50,50,50,50,50,50,50,50,50,50,50,50,50,50,50,50,50,50,50,50,50,50,50,50,50,50,50,50,50,50,50,50,50,50,50,50,50,50,50,50],\"x0\":\" \",\"xaxis\":\"x\",\"y\":[1.2109860181808472,1.266336441040039,1.3006987571716309,1.198051691055298,1.2670520544052124,1.2343692779541016,1.2162069082260132,1.229787826538086,1.331757664680481,1.330003023147583,1.2176964282989502,1.26370370388031,1.2203997373580933,1.273406744003296,1.2801721096038818,1.1966121196746826,1.282450556755066,1.2877517938613892,1.24691641330719,1.1855971813201904,1.263018250465393,1.226612210273743,1.2325817346572876,1.2583532333374023,1.29641854763031,1.230782389640808,1.3000950813293457,1.231156587600708,1.2487008571624756,1.2462117671966553,1.2401127815246582,1.2071399688720703,1.2732051610946655,1.272371768951416,1.195801854133606,1.229770302772522,1.2840038537979126,1.266714572906494,1.2627954483032229,1.2016029357910156,1.2021300792694092,1.2415326833724976,1.2597326040267944,1.248257756233215,1.231316089630127,1.1986210346221924,1.2307746410369873,1.3318668603897097,1.2274428606033323,1.2923630475997925,1.3756541013717651,1.2672460079193115,1.1985758543014526,1.207441806793213,1.2349400520324707,1.2234196662902832,1.2409343719482422,1.235443353652954,1.233359694480896,1.2149192094802856,1.2587971687316897,1.2518196105957031,1.2027617692947388,1.2546316385269165,1.2717801332473757,1.2380298376083374,1.245631217956543,1.2224892377853394,1.2279837131500244,1.234915852546692,1.232202172279358,1.2000378370285034,1.2824488878250122,1.231684684753418,1.2055360078811646,1.215922474861145,1.2026121616363523,1.1673221588134766,1.2709510326385498,1.2333965301513672,1.2406668663024902,1.253989338874817,1.3460938930511477,1.2571817636489868,1.1475085020065308,1.2440272569656372,1.2403818368911743,1.294932246208191,1.3261466026306152,1.2101856470108032],\"y0\":\" \",\"yaxis\":\"y\",\"type\":\"box\"},{\"alignmentgroup\":\"True\",\"hovertemplate\":\"method=IT-STGCN<br>RecurrentGCN=DCRNN<br>epoch=%{x}<br>mse=%{y}<extra></extra>\",\"legendgroup\":\"IT-STGCN\",\"marker\":{\"color\":\"#EF553B\"},\"name\":\"IT-STGCN\",\"notched\":false,\"offsetgroup\":\"IT-STGCN\",\"orientation\":\"v\",\"showlegend\":false,\"x\":[50,50,50,50,50,50,50,50,50,50,50,50,50,50,50,50,50,50,50,50,50,50,50,50,50,50,50,50,50,50,50,50,50,50,50,50,50,50,50,50,50,50,50,50,50,50,50,50,50,50,50,50,50,50,50,50,50,50,50,50,50,50,50,50,50,50,50,50,50,50,50,50,50,50,50,50,50,50,50,50,50,50,50,50,50,50,50,50,50,50],\"x0\":\" \",\"xaxis\":\"x2\",\"y\":[1.227399230003357,1.204148769378662,1.2071141004562378,1.194210648536682,1.2046256065368652,1.1755590438842771,1.1917016506195068,1.2069087028503418,1.2116632461547852,1.1869136095046997,1.206202507019043,1.2027086019515991,1.2239930629730225,1.2713969945907593,1.2092151641845703,1.1949708461761477,1.181391358375549,1.1953071355819702,1.2084203958511353,1.1792311668395996,1.1674127578735352,1.2266669273376465,1.2005066871643066,1.208512544631958,1.2332907915115356,1.2295984029769895,1.217529535293579,1.198988676071167,1.1795954704284668,1.1891342401504517,1.1799063682556152,1.2130306959152222,1.229736328125,1.210394263267517,1.196296453475952,1.1838979721069336,1.1663037538528442,1.1712859869003296,1.2127338647842407,1.2583510875701904,1.1966813802719116,1.1813844442367554,1.2108583450317385,1.2025370597839355,1.1996384859085083,1.1930090188980105,1.1965961456298828,1.1837893724441528,1.1767144203186035,1.1905606985092163,1.2051080465316772,1.238674879074097,1.177870273590088,1.2190303802490234,1.1984301805496216,1.21206533908844,1.186811923980713,1.1899869441986084,1.1829617023468018,1.1931604146957395,1.2362539768218994,1.2510223388671875,1.209830403327942,1.213477611541748,1.2119745016098022,1.191132426261902,1.199652910232544,1.2022618055343628,1.2271323204040527,1.204201340675354,1.2205960750579834,1.2089285850524902,1.2158621549606323,1.175451636314392,1.2291083335876465,1.1862410306930542,1.1803474426269531,1.226047158241272,1.2073556184768677,1.1763880252838137,1.2005939483642578,1.2283707857131958,1.2664687633514404,1.2082929611206057,1.2037962675094604,1.2185616493225098,1.2220624685287476,1.201996088027954,1.188800811767578,1.202721118927002],\"y0\":\" \",\"yaxis\":\"y2\",\"type\":\"box\"}],                        {\"template\":{\"data\":{\"histogram2dcontour\":[{\"type\":\"histogram2dcontour\",\"colorbar\":{\"outlinewidth\":0,\"ticks\":\"\"},\"colorscale\":[[0.0,\"#0d0887\"],[0.1111111111111111,\"#46039f\"],[0.2222222222222222,\"#7201a8\"],[0.3333333333333333,\"#9c179e\"],[0.4444444444444444,\"#bd3786\"],[0.5555555555555556,\"#d8576b\"],[0.6666666666666666,\"#ed7953\"],[0.7777777777777778,\"#fb9f3a\"],[0.8888888888888888,\"#fdca26\"],[1.0,\"#f0f921\"]]}],\"choropleth\":[{\"type\":\"choropleth\",\"colorbar\":{\"outlinewidth\":0,\"ticks\":\"\"}}],\"histogram2d\":[{\"type\":\"histogram2d\",\"colorbar\":{\"outlinewidth\":0,\"ticks\":\"\"},\"colorscale\":[[0.0,\"#0d0887\"],[0.1111111111111111,\"#46039f\"],[0.2222222222222222,\"#7201a8\"],[0.3333333333333333,\"#9c179e\"],[0.4444444444444444,\"#bd3786\"],[0.5555555555555556,\"#d8576b\"],[0.6666666666666666,\"#ed7953\"],[0.7777777777777778,\"#fb9f3a\"],[0.8888888888888888,\"#fdca26\"],[1.0,\"#f0f921\"]]}],\"heatmap\":[{\"type\":\"heatmap\",\"colorbar\":{\"outlinewidth\":0,\"ticks\":\"\"},\"colorscale\":[[0.0,\"#0d0887\"],[0.1111111111111111,\"#46039f\"],[0.2222222222222222,\"#7201a8\"],[0.3333333333333333,\"#9c179e\"],[0.4444444444444444,\"#bd3786\"],[0.5555555555555556,\"#d8576b\"],[0.6666666666666666,\"#ed7953\"],[0.7777777777777778,\"#fb9f3a\"],[0.8888888888888888,\"#fdca26\"],[1.0,\"#f0f921\"]]}],\"heatmapgl\":[{\"type\":\"heatmapgl\",\"colorbar\":{\"outlinewidth\":0,\"ticks\":\"\"},\"colorscale\":[[0.0,\"#0d0887\"],[0.1111111111111111,\"#46039f\"],[0.2222222222222222,\"#7201a8\"],[0.3333333333333333,\"#9c179e\"],[0.4444444444444444,\"#bd3786\"],[0.5555555555555556,\"#d8576b\"],[0.6666666666666666,\"#ed7953\"],[0.7777777777777778,\"#fb9f3a\"],[0.8888888888888888,\"#fdca26\"],[1.0,\"#f0f921\"]]}],\"contourcarpet\":[{\"type\":\"contourcarpet\",\"colorbar\":{\"outlinewidth\":0,\"ticks\":\"\"}}],\"contour\":[{\"type\":\"contour\",\"colorbar\":{\"outlinewidth\":0,\"ticks\":\"\"},\"colorscale\":[[0.0,\"#0d0887\"],[0.1111111111111111,\"#46039f\"],[0.2222222222222222,\"#7201a8\"],[0.3333333333333333,\"#9c179e\"],[0.4444444444444444,\"#bd3786\"],[0.5555555555555556,\"#d8576b\"],[0.6666666666666666,\"#ed7953\"],[0.7777777777777778,\"#fb9f3a\"],[0.8888888888888888,\"#fdca26\"],[1.0,\"#f0f921\"]]}],\"surface\":[{\"type\":\"surface\",\"colorbar\":{\"outlinewidth\":0,\"ticks\":\"\"},\"colorscale\":[[0.0,\"#0d0887\"],[0.1111111111111111,\"#46039f\"],[0.2222222222222222,\"#7201a8\"],[0.3333333333333333,\"#9c179e\"],[0.4444444444444444,\"#bd3786\"],[0.5555555555555556,\"#d8576b\"],[0.6666666666666666,\"#ed7953\"],[0.7777777777777778,\"#fb9f3a\"],[0.8888888888888888,\"#fdca26\"],[1.0,\"#f0f921\"]]}],\"mesh3d\":[{\"type\":\"mesh3d\",\"colorbar\":{\"outlinewidth\":0,\"ticks\":\"\"}}],\"scatter\":[{\"fillpattern\":{\"fillmode\":\"overlay\",\"size\":10,\"solidity\":0.2},\"type\":\"scatter\"}],\"parcoords\":[{\"type\":\"parcoords\",\"line\":{\"colorbar\":{\"outlinewidth\":0,\"ticks\":\"\"}}}],\"scatterpolargl\":[{\"type\":\"scatterpolargl\",\"marker\":{\"colorbar\":{\"outlinewidth\":0,\"ticks\":\"\"}}}],\"bar\":[{\"error_x\":{\"color\":\"#2a3f5f\"},\"error_y\":{\"color\":\"#2a3f5f\"},\"marker\":{\"line\":{\"color\":\"#E5ECF6\",\"width\":0.5},\"pattern\":{\"fillmode\":\"overlay\",\"size\":10,\"solidity\":0.2}},\"type\":\"bar\"}],\"scattergeo\":[{\"type\":\"scattergeo\",\"marker\":{\"colorbar\":{\"outlinewidth\":0,\"ticks\":\"\"}}}],\"scatterpolar\":[{\"type\":\"scatterpolar\",\"marker\":{\"colorbar\":{\"outlinewidth\":0,\"ticks\":\"\"}}}],\"histogram\":[{\"marker\":{\"pattern\":{\"fillmode\":\"overlay\",\"size\":10,\"solidity\":0.2}},\"type\":\"histogram\"}],\"scattergl\":[{\"type\":\"scattergl\",\"marker\":{\"colorbar\":{\"outlinewidth\":0,\"ticks\":\"\"}}}],\"scatter3d\":[{\"type\":\"scatter3d\",\"line\":{\"colorbar\":{\"outlinewidth\":0,\"ticks\":\"\"}},\"marker\":{\"colorbar\":{\"outlinewidth\":0,\"ticks\":\"\"}}}],\"scattermapbox\":[{\"type\":\"scattermapbox\",\"marker\":{\"colorbar\":{\"outlinewidth\":0,\"ticks\":\"\"}}}],\"scatterternary\":[{\"type\":\"scatterternary\",\"marker\":{\"colorbar\":{\"outlinewidth\":0,\"ticks\":\"\"}}}],\"scattercarpet\":[{\"type\":\"scattercarpet\",\"marker\":{\"colorbar\":{\"outlinewidth\":0,\"ticks\":\"\"}}}],\"carpet\":[{\"aaxis\":{\"endlinecolor\":\"#2a3f5f\",\"gridcolor\":\"white\",\"linecolor\":\"white\",\"minorgridcolor\":\"white\",\"startlinecolor\":\"#2a3f5f\"},\"baxis\":{\"endlinecolor\":\"#2a3f5f\",\"gridcolor\":\"white\",\"linecolor\":\"white\",\"minorgridcolor\":\"white\",\"startlinecolor\":\"#2a3f5f\"},\"type\":\"carpet\"}],\"table\":[{\"cells\":{\"fill\":{\"color\":\"#EBF0F8\"},\"line\":{\"color\":\"white\"}},\"header\":{\"fill\":{\"color\":\"#C8D4E3\"},\"line\":{\"color\":\"white\"}},\"type\":\"table\"}],\"barpolar\":[{\"marker\":{\"line\":{\"color\":\"#E5ECF6\",\"width\":0.5},\"pattern\":{\"fillmode\":\"overlay\",\"size\":10,\"solidity\":0.2}},\"type\":\"barpolar\"}],\"pie\":[{\"automargin\":true,\"type\":\"pie\"}]},\"layout\":{\"autotypenumbers\":\"strict\",\"colorway\":[\"#636efa\",\"#EF553B\",\"#00cc96\",\"#ab63fa\",\"#FFA15A\",\"#19d3f3\",\"#FF6692\",\"#B6E880\",\"#FF97FF\",\"#FECB52\"],\"font\":{\"color\":\"#2a3f5f\"},\"hovermode\":\"closest\",\"hoverlabel\":{\"align\":\"left\"},\"paper_bgcolor\":\"white\",\"plot_bgcolor\":\"#E5ECF6\",\"polar\":{\"bgcolor\":\"#E5ECF6\",\"angularaxis\":{\"gridcolor\":\"white\",\"linecolor\":\"white\",\"ticks\":\"\"},\"radialaxis\":{\"gridcolor\":\"white\",\"linecolor\":\"white\",\"ticks\":\"\"}},\"ternary\":{\"bgcolor\":\"#E5ECF6\",\"aaxis\":{\"gridcolor\":\"white\",\"linecolor\":\"white\",\"ticks\":\"\"},\"baxis\":{\"gridcolor\":\"white\",\"linecolor\":\"white\",\"ticks\":\"\"},\"caxis\":{\"gridcolor\":\"white\",\"linecolor\":\"white\",\"ticks\":\"\"}},\"coloraxis\":{\"colorbar\":{\"outlinewidth\":0,\"ticks\":\"\"}},\"colorscale\":{\"sequential\":[[0.0,\"#0d0887\"],[0.1111111111111111,\"#46039f\"],[0.2222222222222222,\"#7201a8\"],[0.3333333333333333,\"#9c179e\"],[0.4444444444444444,\"#bd3786\"],[0.5555555555555556,\"#d8576b\"],[0.6666666666666666,\"#ed7953\"],[0.7777777777777778,\"#fb9f3a\"],[0.8888888888888888,\"#fdca26\"],[1.0,\"#f0f921\"]],\"sequentialminus\":[[0.0,\"#0d0887\"],[0.1111111111111111,\"#46039f\"],[0.2222222222222222,\"#7201a8\"],[0.3333333333333333,\"#9c179e\"],[0.4444444444444444,\"#bd3786\"],[0.5555555555555556,\"#d8576b\"],[0.6666666666666666,\"#ed7953\"],[0.7777777777777778,\"#fb9f3a\"],[0.8888888888888888,\"#fdca26\"],[1.0,\"#f0f921\"]],\"diverging\":[[0,\"#8e0152\"],[0.1,\"#c51b7d\"],[0.2,\"#de77ae\"],[0.3,\"#f1b6da\"],[0.4,\"#fde0ef\"],[0.5,\"#f7f7f7\"],[0.6,\"#e6f5d0\"],[0.7,\"#b8e186\"],[0.8,\"#7fbc41\"],[0.9,\"#4d9221\"],[1,\"#276419\"]]},\"xaxis\":{\"gridcolor\":\"white\",\"linecolor\":\"white\",\"ticks\":\"\",\"title\":{\"standoff\":15},\"zerolinecolor\":\"white\",\"automargin\":true,\"zerolinewidth\":2},\"yaxis\":{\"gridcolor\":\"white\",\"linecolor\":\"white\",\"ticks\":\"\",\"title\":{\"standoff\":15},\"zerolinecolor\":\"white\",\"automargin\":true,\"zerolinewidth\":2},\"scene\":{\"xaxis\":{\"backgroundcolor\":\"#E5ECF6\",\"gridcolor\":\"white\",\"linecolor\":\"white\",\"showbackground\":true,\"ticks\":\"\",\"zerolinecolor\":\"white\",\"gridwidth\":2},\"yaxis\":{\"backgroundcolor\":\"#E5ECF6\",\"gridcolor\":\"white\",\"linecolor\":\"white\",\"showbackground\":true,\"ticks\":\"\",\"zerolinecolor\":\"white\",\"gridwidth\":2},\"zaxis\":{\"backgroundcolor\":\"#E5ECF6\",\"gridcolor\":\"white\",\"linecolor\":\"white\",\"showbackground\":true,\"ticks\":\"\",\"zerolinecolor\":\"white\",\"gridwidth\":2}},\"shapedefaults\":{\"line\":{\"color\":\"#2a3f5f\"}},\"annotationdefaults\":{\"arrowcolor\":\"#2a3f5f\",\"arrowhead\":0,\"arrowwidth\":1},\"geo\":{\"bgcolor\":\"white\",\"landcolor\":\"#E5ECF6\",\"subunitcolor\":\"white\",\"showland\":true,\"showlakes\":true,\"lakecolor\":\"white\"},\"title\":{\"x\":0.05},\"mapbox\":{\"style\":\"light\"}}},\"xaxis\":{\"anchor\":\"y\",\"domain\":[0.0,0.49],\"title\":{\"text\":\"epoch\"}},\"yaxis\":{\"anchor\":\"x\",\"domain\":[0.0,1.0],\"title\":{\"text\":\"mse\"}},\"xaxis2\":{\"anchor\":\"y2\",\"domain\":[0.51,1.0],\"matches\":\"x\",\"title\":{\"text\":\"epoch\"}},\"yaxis2\":{\"anchor\":\"x2\",\"domain\":[0.0,1.0],\"matches\":\"y\",\"showticklabels\":false},\"annotations\":[{\"font\":{},\"showarrow\":false,\"text\":\"RecurrentGCN=GConvGRU\",\"x\":0.245,\"xanchor\":\"center\",\"xref\":\"paper\",\"y\":1.0,\"yanchor\":\"bottom\",\"yref\":\"paper\"},{\"font\":{},\"showarrow\":false,\"text\":\"RecurrentGCN=DCRNN\",\"x\":0.755,\"xanchor\":\"center\",\"xref\":\"paper\",\"y\":1.0,\"yanchor\":\"bottom\",\"yref\":\"paper\"}],\"legend\":{\"title\":{\"text\":\"method\"},\"tracegroupgap\":0},\"margin\":{\"t\":60},\"boxmode\":\"group\",\"height\":800},                        {\"responsive\": true}                    ).then(function(){\n",
       "                            \n",
       "var gd = document.getElementById('bd0bdb56-3d67-48a5-950d-3c8593a6da5e');\n",
       "var x = new MutationObserver(function (mutations, observer) {{\n",
       "        var display = window.getComputedStyle(gd).display;\n",
       "        if (!display || display === 'none') {{\n",
       "            console.log([gd, 'removed!']);\n",
       "            Plotly.purge(gd);\n",
       "            observer.disconnect();\n",
       "        }}\n",
       "}});\n",
       "\n",
       "// Listen for the removal of the full notebook cells\n",
       "var notebookContainer = gd.closest('#notebook-container');\n",
       "if (notebookContainer) {{\n",
       "    x.observe(notebookContainer, {childList: true});\n",
       "}}\n",
       "\n",
       "// Listen for the clearing of the current output cell\n",
       "var outputEl = gd.closest('.output');\n",
       "if (outputEl) {{\n",
       "    x.observe(outputEl, {childList: true});\n",
       "}}\n",
       "\n",
       "                        })                };                });            </script>        </div>"
      ]
     },
     "metadata": {},
     "output_type": "display_data"
    }
   ],
   "source": [
    "data.query(\"method!='GNAR' and mrate ==0 \").plot.box(backend='plotly',x='epoch',color='method',y='mse',facet_col='RecurrentGCN',height=800)\n"
   ]
  },
  {
   "cell_type": "markdown",
   "id": "151d9fb2-e327-4352-89f5-f85c6adcd735",
   "metadata": {},
   "source": [
    "## random"
   ]
  },
  {
   "cell_type": "code",
   "execution_count": 17,
   "id": "f636466a-c4ca-446d-8eaa-ceab2af9a683",
   "metadata": {},
   "outputs": [
    {
     "data": {
      "application/vnd.plotly.v1+json": {
       "config": {
        "plotlyServerURL": "https://plot.ly"
       },
       "data": [
        {
         "alignmentgroup": "True",
         "hovertemplate": "method=STGCN<br>inter_method=cubic<br>RecurrentGCN=GConvGRU<br>mrate=%{x}<br>mse=%{y}<extra></extra>",
         "legendgroup": "STGCN",
         "marker": {
          "color": "#636efa"
         },
         "name": "STGCN",
         "notched": false,
         "offsetgroup": "STGCN",
         "orientation": "v",
         "showlegend": true,
         "type": "box",
         "x": [
          0.3,
          0.4,
          0.5,
          0.6,
          0.3,
          0.4,
          0.5,
          0.6,
          0.3,
          0.4,
          0.5,
          0.6,
          0.3,
          0.4,
          0.5,
          0.6,
          0.3,
          0.4,
          0.5,
          0.6,
          0.3,
          0.4,
          0.5,
          0.6,
          0.3,
          0.4,
          0.5,
          0.6,
          0.3,
          0.4,
          0.5,
          0.6,
          0.3,
          0.4,
          0.5,
          0.6,
          0.3,
          0.4,
          0.5,
          0.6,
          0.3,
          0.4,
          0.5,
          0.6,
          0.3,
          0.4,
          0.5,
          0.6,
          0.3,
          0.4,
          0.5,
          0.6,
          0.3,
          0.4,
          0.5,
          0.6,
          0.3,
          0.4,
          0.5,
          0.6,
          0.3,
          0.4,
          0.5,
          0.6,
          0.3,
          0.4,
          0.5,
          0.6,
          0.3,
          0.4,
          0.5,
          0.6,
          0.3,
          0.4,
          0.5,
          0.6,
          0.3,
          0.4,
          0.5,
          0.6,
          0.3,
          0.4,
          0.5,
          0.6,
          0.3,
          0.4,
          0.5,
          0.6,
          0.3,
          0.4,
          0.5,
          0.6,
          0.3,
          0.4,
          0.5,
          0.6,
          0.3,
          0.4,
          0.5,
          0.6,
          0.3,
          0.4,
          0.5,
          0.6,
          0.3,
          0.4,
          0.5,
          0.6,
          0.3,
          0.4,
          0.5,
          0.6,
          0.3,
          0.4,
          0.5,
          0.6,
          0.3,
          0.4,
          0.5,
          0.6
         ],
         "x0": " ",
         "xaxis": "x5",
         "y": [
          1.430083394050598,
          1.265518069267273,
          1.8181501626968384,
          1.3052940368652344,
          1.2526118755340576,
          1.2568542957305908,
          1.44140362739563,
          1.3201918601989746,
          1.2728835344314575,
          1.165825366973877,
          1.2127695083618164,
          1.360352635383606,
          1.2656402587890625,
          1.391319751739502,
          1.321562886238098,
          1.2569507360458374,
          1.5461666584014893,
          1.333940505981445,
          1.4871751070022583,
          1.292580008506775,
          1.443697452545166,
          1.453558087348938,
          1.2832529544830322,
          1.1623430252075195,
          1.3141818046569824,
          1.218990683555603,
          1.1361185312271118,
          1.4544531106948853,
          1.37943696975708,
          1.298315405845642,
          1.3191121816635132,
          1.2697323560714722,
          1.3775044679641724,
          1.314373016357422,
          1.3088202476501465,
          1.49151349067688,
          1.3449254035949707,
          1.4642877578735352,
          1.3577005863189695,
          1.489551663398743,
          1.43328595161438,
          1.2294762134552002,
          1.3385009765625,
          1.5350991487503052,
          1.2771800756454468,
          1.5718703269958496,
          1.3037859201431274,
          1.373924732208252,
          1.30467689037323,
          1.5075629949569702,
          1.3285377025604248,
          1.4131865501403809,
          1.2964098453521729,
          1.25655198097229,
          1.3667092323303225,
          1.326558232307434,
          1.296786904335022,
          1.3529292345046997,
          1.3051526546478271,
          1.4373153448104858,
          1.4682990312576294,
          1.307465434074402,
          1.39822518825531,
          1.3294823169708252,
          1.1986331939697266,
          1.3326849937438965,
          1.404704213142395,
          1.298565149307251,
          1.2876498699188232,
          1.1563695669174194,
          1.4162485599517822,
          1.3216511011123655,
          1.1992013454437256,
          1.4093421697616575,
          1.380343317985535,
          1.3511825799942017,
          1.3722052574157717,
          1.4489686489105225,
          1.209606409072876,
          1.4603867530822754,
          1.1509861946105957,
          1.4783855676651,
          1.5224953889846802,
          1.3722904920578003,
          1.3600847721099854,
          1.4237371683120728,
          1.4817062616348269,
          1.3623172044754028,
          1.54211688041687,
          1.504899501800537,
          1.501727819442749,
          1.5735864639282229,
          1.3062340021133425,
          1.4328479766845703,
          1.4865031242370603,
          1.582962155342102,
          1.2125601768493652,
          1.4732285737991333,
          1.2436219453811646,
          1.3477576971054075,
          1.3751572370529177,
          1.674248218536377,
          1.399587869644165,
          1.2715448141098022,
          1.392021417617798,
          1.370936632156372,
          1.3310222625732422,
          1.4130160808563232,
          1.2896007299423218,
          1.377504587173462,
          1.261177659034729,
          1.5776454210281372,
          1.2307958602905271,
          1.539883375167847,
          1.5873948335647583,
          1.4033317565917969,
          1.348220944404602,
          1.3426473140716553,
          1.2939890623092651,
          1.494648575782776
         ],
         "y0": " ",
         "yaxis": "y5"
        },
        {
         "alignmentgroup": "True",
         "hovertemplate": "method=STGCN<br>inter_method=cubic<br>RecurrentGCN=DCRNN<br>mrate=%{x}<br>mse=%{y}<extra></extra>",
         "legendgroup": "STGCN",
         "marker": {
          "color": "#636efa"
         },
         "name": "STGCN",
         "notched": false,
         "offsetgroup": "STGCN",
         "orientation": "v",
         "showlegend": false,
         "type": "box",
         "x": [
          0.3,
          0.4,
          0.5,
          0.6,
          0.3,
          0.4,
          0.5,
          0.6,
          0.3,
          0.4,
          0.5,
          0.6,
          0.3,
          0.4,
          0.5,
          0.6,
          0.3,
          0.4,
          0.5,
          0.6,
          0.3,
          0.4,
          0.5,
          0.6,
          0.3,
          0.4,
          0.5,
          0.6,
          0.3,
          0.4,
          0.5,
          0.6,
          0.3,
          0.4,
          0.5,
          0.6,
          0.3,
          0.4,
          0.5,
          0.6,
          0.3,
          0.4,
          0.5,
          0.6,
          0.3,
          0.4,
          0.5,
          0.6,
          0.3,
          0.4,
          0.5,
          0.6,
          0.3,
          0.4,
          0.5,
          0.6,
          0.3,
          0.4,
          0.5,
          0.6,
          0.3,
          0.4,
          0.5,
          0.6,
          0.3,
          0.4,
          0.5,
          0.6,
          0.3,
          0.4,
          0.5,
          0.6,
          0.3,
          0.4,
          0.5,
          0.6,
          0.3,
          0.4,
          0.5,
          0.6,
          0.3,
          0.4,
          0.5,
          0.6,
          0.3,
          0.4,
          0.5,
          0.6,
          0.3,
          0.4,
          0.5,
          0.6,
          0.3,
          0.4,
          0.5,
          0.6,
          0.3,
          0.4,
          0.5,
          0.6,
          0.3,
          0.4,
          0.5,
          0.6,
          0.3,
          0.4,
          0.5,
          0.6,
          0.3,
          0.4,
          0.5,
          0.6,
          0.3,
          0.4,
          0.5,
          0.6,
          0.3,
          0.4,
          0.5,
          0.6
         ],
         "x0": " ",
         "xaxis": "x6",
         "y": [
          1.2669273614883425,
          1.2447242736816406,
          1.395605206489563,
          1.3007597923278809,
          1.2272125482559204,
          1.2055455446243286,
          1.297262191772461,
          1.2171710729599,
          1.2410755157470703,
          1.182844877243042,
          1.3046033382415771,
          1.3078221082687378,
          1.1703153848648071,
          1.3195068836212158,
          1.2736579179763794,
          1.487370491027832,
          1.2308025360107422,
          1.299784779548645,
          1.3454209566116333,
          1.288670301437378,
          1.3045037984848022,
          1.3574200868606567,
          1.0793612003326416,
          1.1935505867004397,
          1.2769628763198853,
          1.3046363592147827,
          1.2717478275299072,
          1.357180953025818,
          1.206692099571228,
          1.2390735149383545,
          1.3085367679595947,
          1.233712673187256,
          1.2527557611465454,
          1.2431633472442627,
          1.2266498804092407,
          1.3203331232070925,
          1.23030424118042,
          1.3003932237625122,
          1.3129520416259766,
          1.3476018905639648,
          1.2645580768585205,
          1.274348258972168,
          1.294403910636902,
          1.284108281135559,
          1.209214687347412,
          1.2818981409072876,
          1.28237783908844,
          1.135785698890686,
          1.2750952243804932,
          1.2204495668411257,
          1.2519190311431885,
          1.276614785194397,
          1.2850699424743652,
          1.3362361192703247,
          1.410725235939026,
          1.282978892326355,
          1.185344934463501,
          1.3046058416366575,
          1.2310006618499756,
          1.3243706226348877,
          1.258084774017334,
          1.2956866025924685,
          1.2672392129898071,
          1.3595764636993408,
          1.252489686012268,
          1.2470296621322632,
          1.199213624000549,
          1.130280613899231,
          1.2398451566696167,
          1.3143839836120603,
          1.1982592344284058,
          1.241870999336243,
          1.250478982925415,
          1.220832586288452,
          1.246405005455017,
          1.1558773517608645,
          1.2338241338729858,
          1.265561819076538,
          1.2070767879486084,
          1.2982558012008667,
          1.2824461460113523,
          1.324234127998352,
          1.204562783241272,
          1.2675511837005615,
          1.1574223041534424,
          1.2409663200378418,
          1.2735040187835691,
          1.168114185333252,
          1.1816041469573977,
          1.794283390045166,
          1.2707862854003906,
          1.3566069602966309,
          1.2956238985061646,
          1.3088538646697998,
          1.229856252670288,
          1.2283469438552856,
          1.2065696716308594,
          1.3121423721313477,
          1.3110313415527344,
          1.1923670768737793,
          1.2707544565200806,
          1.1843342781066897,
          1.369548201560974,
          1.300647854804993,
          1.226504921913147,
          1.3775311708450315,
          1.1583877801895142,
          1.216519117355347,
          1.2292542457580566,
          1.227389574050903,
          1.219655990600586,
          1.6603810787200928,
          1.290583610534668,
          1.2354332208633425,
          1.2540032863616943,
          1.0993478298187256,
          1.192788004875183,
          1.2112185955047607,
          1.30843186378479,
          1.313169002532959
         ],
         "y0": " ",
         "yaxis": "y6"
        },
        {
         "alignmentgroup": "True",
         "hovertemplate": "method=STGCN<br>inter_method=linear<br>RecurrentGCN=GConvGRU<br>mrate=%{x}<br>mse=%{y}<extra></extra>",
         "legendgroup": "STGCN",
         "marker": {
          "color": "#636efa"
         },
         "name": "STGCN",
         "notched": false,
         "offsetgroup": "STGCN",
         "orientation": "v",
         "showlegend": false,
         "type": "box",
         "x": [
          0.3,
          0.4,
          0.5,
          0.6,
          0.3,
          0.4,
          0.5,
          0.6,
          0.3,
          0.4,
          0.5,
          0.6,
          0.3,
          0.4,
          0.5,
          0.6,
          0.3,
          0.4,
          0.5,
          0.6,
          0.3,
          0.4,
          0.5,
          0.6,
          0.3,
          0.4,
          0.5,
          0.6,
          0.3,
          0.4,
          0.5,
          0.6,
          0.3,
          0.4,
          0.5,
          0.6,
          0.3,
          0.4,
          0.5,
          0.6,
          0.3,
          0.4,
          0.5,
          0.6,
          0.3,
          0.4,
          0.5,
          0.6,
          0.3,
          0.4,
          0.5,
          0.6,
          0.3,
          0.4,
          0.5,
          0.6,
          0.3,
          0.4,
          0.5,
          0.6,
          0.3,
          0.4,
          0.5,
          0.6,
          0.3,
          0.4,
          0.5,
          0.6,
          0.3,
          0.4,
          0.5,
          0.6,
          0.3,
          0.4,
          0.5,
          0.6,
          0.3,
          0.4,
          0.5,
          0.6,
          0.3,
          0.4,
          0.5,
          0.6,
          0.3,
          0.4,
          0.5,
          0.6,
          0.3,
          0.4,
          0.5,
          0.6,
          0.3,
          0.4,
          0.5,
          0.6,
          0.3,
          0.4,
          0.5,
          0.6,
          0.3,
          0.4,
          0.5,
          0.6,
          0.3,
          0.4,
          0.5,
          0.6,
          0.3,
          0.4,
          0.5,
          0.6,
          0.3,
          0.4,
          0.5,
          0.6,
          0.3,
          0.4,
          0.5,
          0.6
         ],
         "x0": " ",
         "xaxis": "x3",
         "y": [
          1.2402609586715698,
          1.345976948738098,
          1.3285977840423584,
          1.2944886684417725,
          1.2603548765182495,
          1.3149577379226685,
          1.3293273448944092,
          1.2450082302093506,
          1.2806556224822998,
          1.4376564025878906,
          1.1491540670394895,
          1.2343199253082275,
          1.606587529182434,
          1.2549045085906982,
          1.3190995454788208,
          1.1311752796173096,
          1.5529484748840332,
          1.4864728450775146,
          1.4316633939743042,
          1.298062801361084,
          1.6570539474487305,
          1.2150499820709229,
          1.409030556678772,
          1.2227126359939575,
          1.3674198389053345,
          1.4562230110168457,
          1.232163667678833,
          1.277312159538269,
          1.5752224922180176,
          1.4537568092346191,
          1.3492878675460815,
          1.3566275835037231,
          1.2437045574188232,
          1.3537167310714722,
          1.461910605430603,
          1.2330032587051392,
          1.2668348550796509,
          1.3372246026992798,
          1.5031057596206665,
          1.1434533596038818,
          1.4991666078567505,
          1.386856198310852,
          1.3371732234954834,
          1.265145182609558,
          1.2501046657562256,
          1.610219955444336,
          1.3069552183151243,
          1.2249926328659058,
          1.3300600051879885,
          1.484548807144165,
          1.4371259212493896,
          1.397657871246338,
          1.6827776432037354,
          1.7390402555465698,
          1.4309241771697998,
          1.3055791854858398,
          1.6726423501968384,
          1.2684797048568726,
          1.3644486665725708,
          1.2587473392486572,
          1.3400355577468872,
          1.6579723358154297,
          1.2857965230941772,
          1.3611775636672974,
          1.3119601011276243,
          1.371105670928955,
          1.262957215309143,
          1.237634301185608,
          1.826651096343994,
          1.3549082279205322,
          1.2741671800613403,
          1.493988037109375,
          1.685412883758545,
          1.1886374950408936,
          1.577298283576965,
          1.2028909921646118,
          1.3319568634033203,
          1.27477765083313,
          1.1447798013687134,
          1.462259292602539,
          1.253413438796997,
          1.306566834449768,
          1.4246090650558472,
          1.3545856475830078,
          1.522284984588623,
          1.5641824007034302,
          1.3491714000701904,
          1.3060029745101929,
          1.2858500480651855,
          1.6351377964019775,
          1.227916598320007,
          1.3639451265335083,
          1.2867562770843506,
          1.459639310836792,
          1.4277070760726929,
          1.339276671409607,
          1.3686378002166748,
          1.3335723876953125,
          1.3571056127548218,
          1.3230984210968018,
          1.3805686235427856,
          1.369823336601257,
          1.3301599025726318,
          1.280668020248413,
          1.7112154960632324,
          1.3277437686920166,
          1.3925137519836426,
          1.31817364692688,
          1.429413080215454,
          1.3538132905960083,
          1.2831206321716309,
          1.226662516593933,
          1.5162944793701172,
          1.4786601066589355,
          1.20307719707489,
          1.298655390739441,
          1.6041254997253418,
          1.3502448797225952,
          1.3838317394256592,
          1.2458622455596924
         ],
         "y0": " ",
         "yaxis": "y3"
        },
        {
         "alignmentgroup": "True",
         "hovertemplate": "method=STGCN<br>inter_method=linear<br>RecurrentGCN=DCRNN<br>mrate=%{x}<br>mse=%{y}<extra></extra>",
         "legendgroup": "STGCN",
         "marker": {
          "color": "#636efa"
         },
         "name": "STGCN",
         "notched": false,
         "offsetgroup": "STGCN",
         "orientation": "v",
         "showlegend": false,
         "type": "box",
         "x": [
          0.3,
          0.4,
          0.5,
          0.6,
          0.3,
          0.4,
          0.5,
          0.6,
          0.3,
          0.4,
          0.5,
          0.6,
          0.3,
          0.4,
          0.5,
          0.6,
          0.3,
          0.4,
          0.5,
          0.6,
          0.3,
          0.4,
          0.5,
          0.6,
          0.3,
          0.4,
          0.5,
          0.6,
          0.3,
          0.4,
          0.5,
          0.6,
          0.3,
          0.4,
          0.5,
          0.6,
          0.3,
          0.4,
          0.5,
          0.6,
          0.3,
          0.4,
          0.5,
          0.6,
          0.3,
          0.4,
          0.5,
          0.6,
          0.3,
          0.4,
          0.5,
          0.6,
          0.3,
          0.4,
          0.5,
          0.6,
          0.3,
          0.4,
          0.5,
          0.6,
          0.3,
          0.4,
          0.5,
          0.6,
          0.3,
          0.4,
          0.5,
          0.6,
          0.3,
          0.4,
          0.5,
          0.6,
          0.3,
          0.4,
          0.5,
          0.6,
          0.3,
          0.4,
          0.5,
          0.6,
          0.3,
          0.4,
          0.5,
          0.6,
          0.3,
          0.4,
          0.5,
          0.6,
          0.3,
          0.4,
          0.5,
          0.6,
          0.3,
          0.4,
          0.5,
          0.6,
          0.3,
          0.4,
          0.5,
          0.6,
          0.3,
          0.4,
          0.5,
          0.6,
          0.3,
          0.4,
          0.5,
          0.6,
          0.3,
          0.4,
          0.5,
          0.6,
          0.3,
          0.4,
          0.5,
          0.6,
          0.3,
          0.4,
          0.5,
          0.6
         ],
         "x0": " ",
         "xaxis": "x4",
         "y": [
          1.2273216247558594,
          1.276553511619568,
          1.2093790769577026,
          1.2000731229782104,
          1.2209677696228027,
          1.2163769006729126,
          1.2446306943893433,
          1.3449057340621948,
          1.197542667388916,
          1.3202383518218994,
          1.2764910459518433,
          1.3125437498092651,
          1.201251745223999,
          1.2420055866241455,
          1.308721899986267,
          1.361621379852295,
          1.2734874486923218,
          1.2692866325378418,
          1.3228697776794434,
          1.1926138401031494,
          1.2005480527877808,
          1.2498383522033691,
          1.2483052015304563,
          1.2796097993850708,
          1.253172755241394,
          1.2627674341201782,
          1.2712758779525757,
          1.1662611961364746,
          1.2360727787017822,
          1.226504921913147,
          1.3075711727142334,
          1.3488513231277466,
          1.2426788806915283,
          1.2378168106079102,
          1.3224446773529053,
          1.2574825286865234,
          1.251126408576965,
          1.2449579238891602,
          1.2609055042266846,
          1.3367055654525757,
          1.2550048828125,
          1.2510576248168943,
          1.2348843812942505,
          1.2619348764419556,
          1.2112140655517578,
          1.2478595972061155,
          1.2035119533538818,
          1.2258009910583496,
          1.2326316833496094,
          1.2139358520507812,
          1.2628414630889893,
          1.2639079093933103,
          1.2567325830459597,
          1.2612730264663696,
          1.3332760334014893,
          1.223721981048584,
          1.2626354694366455,
          1.2615537643432615,
          1.2795392274856567,
          1.246964693069458,
          1.2091922760009766,
          1.2047836780548096,
          1.2220350503921509,
          1.2550804615020752,
          1.246353268623352,
          1.2253631353378296,
          1.251775145530701,
          1.35164213180542,
          1.2493818998336792,
          1.26123309135437,
          1.2658772468566897,
          1.2622281312942505,
          1.327878475189209,
          1.2147718667984009,
          1.2629228830337524,
          1.2793928384780884,
          1.2186099290847778,
          1.240029215812683,
          1.26810884475708,
          1.305751085281372,
          1.2363216876983645,
          1.2394362688064575,
          1.2097846269607544,
          1.2435685396194458,
          1.1677086353302002,
          1.173974633216858,
          1.2234784364700315,
          1.226798176765442,
          1.2128195762634275,
          1.2070995569229126,
          1.269390344619751,
          1.2849873304367063,
          1.2131835222244265,
          1.235784888267517,
          1.275665283203125,
          1.2019864320755005,
          1.22306489944458,
          1.248303771018982,
          1.2712547779083252,
          1.3065223693847656,
          1.23939311504364,
          1.2698224782943726,
          1.2585582733154297,
          1.3032629489898682,
          1.2717247009277344,
          1.2746225595474243,
          1.2213590145111084,
          1.2890775203704834,
          1.2418935298919678,
          1.248144268989563,
          1.2726508378982544,
          1.270376682281494,
          1.198130488395691,
          1.2530230283737185,
          1.210652232170105,
          1.303897261619568,
          1.2167682647705078,
          1.1954712867736816,
          1.2784793376922607,
          1.2693853378295898
         ],
         "y0": " ",
         "yaxis": "y4"
        },
        {
         "alignmentgroup": "True",
         "hovertemplate": "method=STGCN<br>inter_method=nearest<br>RecurrentGCN=GConvGRU<br>mrate=%{x}<br>mse=%{y}<extra></extra>",
         "legendgroup": "STGCN",
         "marker": {
          "color": "#636efa"
         },
         "name": "STGCN",
         "notched": false,
         "offsetgroup": "STGCN",
         "orientation": "v",
         "showlegend": false,
         "type": "box",
         "x": [
          0.3,
          0.4,
          0.5,
          0.6,
          0.3,
          0.4,
          0.5,
          0.6,
          0.3,
          0.4,
          0.5,
          0.6,
          0.3,
          0.4,
          0.5,
          0.6,
          0.3,
          0.4,
          0.5,
          0.6,
          0.3,
          0.4,
          0.5,
          0.6,
          0.3,
          0.4,
          0.5,
          0.6,
          0.3,
          0.4,
          0.5,
          0.6,
          0.3,
          0.4,
          0.5,
          0.6,
          0.3,
          0.4,
          0.5,
          0.6,
          0.3,
          0.4,
          0.5,
          0.6,
          0.3,
          0.4,
          0.5,
          0.6,
          0.3,
          0.4,
          0.5,
          0.6,
          0.3,
          0.4,
          0.5,
          0.6,
          0.3,
          0.4,
          0.5,
          0.6,
          0.3,
          0.4,
          0.5,
          0.6,
          0.3,
          0.4,
          0.5,
          0.6,
          0.3,
          0.4,
          0.5,
          0.6,
          0.3,
          0.4,
          0.5,
          0.6,
          0.3,
          0.4,
          0.5,
          0.6,
          0.3,
          0.4,
          0.5,
          0.6,
          0.3,
          0.4,
          0.5,
          0.6,
          0.3,
          0.4,
          0.5,
          0.6,
          0.3,
          0.4,
          0.5,
          0.6,
          0.3,
          0.4,
          0.5,
          0.6,
          0.3,
          0.4,
          0.5,
          0.6,
          0.3,
          0.4,
          0.5,
          0.6,
          0.3,
          0.4,
          0.5,
          0.6,
          0.3,
          0.4,
          0.5,
          0.6,
          0.3,
          0.4,
          0.5,
          0.6
         ],
         "x0": " ",
         "xaxis": "x",
         "y": [
          1.2395256757736206,
          1.361142873764038,
          1.4016411304473877,
          1.3912705183029177,
          1.6505662202835083,
          1.268496036529541,
          1.3542946577072144,
          1.1406644582748413,
          1.2661795616149902,
          1.3166366815567017,
          1.2353153228759766,
          1.2242193222045898,
          1.2057713270187378,
          1.344321608543396,
          1.2710556983947754,
          1.1572767496109009,
          1.2433710098266602,
          1.2497494220733645,
          1.3436789512634275,
          1.3536138534545898,
          1.4770339727401731,
          1.2935539484024048,
          1.3403135538101196,
          1.2870107889175415,
          1.6256661415100098,
          1.396576166152954,
          1.3565505743026731,
          1.3459278345108032,
          1.1386785507202148,
          1.343097448348999,
          1.2678382396697998,
          1.4159005880355835,
          1.1725512742996216,
          1.3196053504943848,
          1.6580604314804075,
          1.320912480354309,
          1.3055026531219482,
          1.3384665250778198,
          1.3673560619354248,
          1.7619757652282717,
          1.6011072397232056,
          1.3112642765045166,
          1.251287579536438,
          1.4116305112838743,
          1.2690199613571167,
          1.2113792896270752,
          1.4052077531814575,
          1.3918756246566772,
          1.381506323814392,
          1.4502768516540527,
          1.3442126512527466,
          1.4545189142227173,
          1.0988394021987915,
          1.5260690450668335,
          1.2827006578445437,
          1.3792564868927002,
          1.4004416465759275,
          1.740432858467102,
          1.3203582763671875,
          1.1906782388687134,
          1.5442328453063965,
          1.2557439804077148,
          1.2894086837768557,
          1.279975414276123,
          1.4554522037506104,
          1.5051900148391724,
          1.4455342292785645,
          1.2350656986236572,
          1.47782564163208,
          1.409595012664795,
          1.6200188398361206,
          1.3874467611312866,
          1.365366816520691,
          1.1646299362182615,
          1.1922109127044678,
          1.2877321243286133,
          1.5739539861679075,
          1.0942373275756836,
          1.362336277961731,
          1.310132384300232,
          1.1902843713760376,
          1.2629458904266355,
          1.1436409950256348,
          1.4102966785430908,
          1.3964046239852903,
          1.2708885669708252,
          1.3431220054626465,
          1.253268122673035,
          1.1668038368225098,
          1.663545846939087,
          1.2272617816925049,
          1.2841593027114868,
          1.3684672117233276,
          1.268770694732666,
          1.436764121055603,
          1.365365505218506,
          1.2714215517044067,
          1.377063512802124,
          1.3211121559143066,
          1.2396347522735596,
          1.5690654516220093,
          1.2026643753051758,
          1.43107271194458,
          1.2542766332626345,
          1.3456850051879885,
          1.5547430515289309,
          1.40049147605896,
          1.3726990222930908,
          1.3427647352218628,
          1.1465133428573608,
          1.3190733194351196,
          1.2565072774887085,
          1.2600765228271484,
          1.3131920099258425,
          1.183578372001648,
          1.302727222442627,
          1.3323514461517334,
          1.3353617191314695,
          1.2983144521713257,
          1.3356553316116333
         ],
         "y0": " ",
         "yaxis": "y"
        },
        {
         "alignmentgroup": "True",
         "hovertemplate": "method=STGCN<br>inter_method=nearest<br>RecurrentGCN=DCRNN<br>mrate=%{x}<br>mse=%{y}<extra></extra>",
         "legendgroup": "STGCN",
         "marker": {
          "color": "#636efa"
         },
         "name": "STGCN",
         "notched": false,
         "offsetgroup": "STGCN",
         "orientation": "v",
         "showlegend": false,
         "type": "box",
         "x": [
          0.3,
          0.4,
          0.5,
          0.6,
          0.3,
          0.4,
          0.5,
          0.6,
          0.3,
          0.4,
          0.5,
          0.6,
          0.3,
          0.4,
          0.5,
          0.6,
          0.3,
          0.4,
          0.5,
          0.6,
          0.3,
          0.4,
          0.5,
          0.6,
          0.3,
          0.4,
          0.5,
          0.6,
          0.3,
          0.4,
          0.5,
          0.6,
          0.3,
          0.4,
          0.5,
          0.6,
          0.3,
          0.4,
          0.5,
          0.6,
          0.3,
          0.4,
          0.5,
          0.6,
          0.3,
          0.4,
          0.5,
          0.6,
          0.3,
          0.4,
          0.5,
          0.6,
          0.3,
          0.4,
          0.5,
          0.6,
          0.3,
          0.4,
          0.5,
          0.6,
          0.3,
          0.4,
          0.5,
          0.6,
          0.3,
          0.4,
          0.5,
          0.6,
          0.3,
          0.4,
          0.5,
          0.6,
          0.3,
          0.4,
          0.5,
          0.6,
          0.3,
          0.4,
          0.5,
          0.6,
          0.3,
          0.4,
          0.5,
          0.6,
          0.3,
          0.4,
          0.5,
          0.6,
          0.3,
          0.4,
          0.5,
          0.6,
          0.3,
          0.4,
          0.5,
          0.6,
          0.3,
          0.4,
          0.5,
          0.6,
          0.3,
          0.4,
          0.5,
          0.6,
          0.3,
          0.4,
          0.5,
          0.6,
          0.3,
          0.4,
          0.5,
          0.6,
          0.3,
          0.4,
          0.5,
          0.6,
          0.3,
          0.4,
          0.5,
          0.6
         ],
         "x0": " ",
         "xaxis": "x2",
         "y": [
          1.1982523202896118,
          1.242854356765747,
          1.2315438985824585,
          1.2888708114624023,
          1.2032495737075806,
          1.184617280960083,
          1.1966878175735474,
          1.2594512701034546,
          1.254888653755188,
          1.2463480234146118,
          1.2712935209274292,
          1.2595677375793457,
          1.2453744411468506,
          1.265876293182373,
          1.2402242422103882,
          1.203463792800903,
          1.274155855178833,
          1.2436842918395996,
          1.2232723236083984,
          1.280619978904724,
          1.1726428270339966,
          1.2463281154632568,
          1.3262202739715576,
          1.2911020517349243,
          1.2613219022750854,
          1.2612544298171997,
          1.218722224235535,
          1.312078595161438,
          1.3154715299606323,
          1.1968190670013428,
          1.2760939598083496,
          1.279106378555298,
          1.2274693250656128,
          1.2808328866958618,
          1.2647590637207031,
          1.1951773166656494,
          1.227415919303894,
          1.2035084962844849,
          1.2597585916519165,
          1.3447035551071167,
          1.1948379278182983,
          1.1806014776229858,
          1.2337210178375244,
          1.2860784530639648,
          1.201682448387146,
          1.258231520652771,
          1.3111141920089722,
          1.2447470426559448,
          1.2072936296463013,
          1.2110580205917358,
          1.2922979593276978,
          1.270731806755066,
          1.295073390007019,
          1.232673406600952,
          1.2382283210754397,
          1.1587305068969729,
          1.2026684284210205,
          1.2378575801849363,
          1.3127087354660034,
          1.232288479804993,
          1.2348599433898926,
          1.2076125144958496,
          1.3133350610733032,
          1.2611064910888672,
          1.2414302825927734,
          1.2903279066085815,
          1.2732429504394531,
          1.3345130681991575,
          1.21261465549469,
          1.178432822227478,
          1.1778995990753174,
          1.295086145401001,
          1.2290834188461304,
          1.2542582750320437,
          1.2764320373535156,
          1.2393289804458618,
          1.27564537525177,
          1.246888279914856,
          1.2842527627944946,
          1.2320038080215454,
          1.2316421270370483,
          1.2552779912948608,
          1.2165734767913818,
          1.2167035341262815,
          1.2057331800460815,
          1.2672408819198608,
          1.2402896881103516,
          1.2145625352859497,
          1.1972025632858276,
          1.1927111148834229,
          1.2048869132995603,
          1.2623581886291504,
          1.2417025566101074,
          1.230829119682312,
          1.2342056035995483,
          1.306879997253418,
          1.2760368585586548,
          1.194735765457153,
          1.2189537286758425,
          1.2049028873443604,
          1.191801905632019,
          1.245419979095459,
          1.2856987714767456,
          1.2740367650985718,
          1.163807392120361,
          1.241521954536438,
          1.2370332479476929,
          1.222909688949585,
          1.2359607219696045,
          1.2253276109695437,
          1.216927409172058,
          1.2596182823181152,
          1.214951753616333,
          1.2981992959976196,
          1.3204737901687622,
          1.257894515991211,
          1.322564959526062,
          1.2818437814712524,
          1.2847944498062134,
          1.287232518196106
         ],
         "y0": " ",
         "yaxis": "y2"
        },
        {
         "alignmentgroup": "True",
         "hovertemplate": "method=IT-STGCN<br>inter_method=cubic<br>RecurrentGCN=GConvGRU<br>mrate=%{x}<br>mse=%{y}<extra></extra>",
         "legendgroup": "IT-STGCN",
         "marker": {
          "color": "#EF553B"
         },
         "name": "IT-STGCN",
         "notched": false,
         "offsetgroup": "IT-STGCN",
         "orientation": "v",
         "showlegend": true,
         "type": "box",
         "x": [
          0.3,
          0.4,
          0.5,
          0.6,
          0.3,
          0.4,
          0.5,
          0.6,
          0.3,
          0.4,
          0.5,
          0.6,
          0.3,
          0.4,
          0.5,
          0.6,
          0.3,
          0.4,
          0.5,
          0.6,
          0.3,
          0.4,
          0.5,
          0.6,
          0.3,
          0.4,
          0.5,
          0.6,
          0.3,
          0.4,
          0.5,
          0.6,
          0.3,
          0.4,
          0.5,
          0.6,
          0.3,
          0.4,
          0.5,
          0.6,
          0.3,
          0.4,
          0.5,
          0.6,
          0.3,
          0.4,
          0.5,
          0.6,
          0.3,
          0.4,
          0.5,
          0.6,
          0.3,
          0.4,
          0.5,
          0.6,
          0.3,
          0.4,
          0.5,
          0.6,
          0.3,
          0.4,
          0.5,
          0.6,
          0.3,
          0.4,
          0.5,
          0.6,
          0.3,
          0.4,
          0.5,
          0.6,
          0.3,
          0.4,
          0.5,
          0.6,
          0.3,
          0.4,
          0.5,
          0.6,
          0.3,
          0.4,
          0.5,
          0.6,
          0.3,
          0.4,
          0.5,
          0.6,
          0.3,
          0.4,
          0.5,
          0.6,
          0.3,
          0.4,
          0.5,
          0.6,
          0.3,
          0.4,
          0.5,
          0.6,
          0.3,
          0.4,
          0.5,
          0.6,
          0.3,
          0.4,
          0.5,
          0.6,
          0.3,
          0.4,
          0.5,
          0.6,
          0.3,
          0.4,
          0.5,
          0.6,
          0.3,
          0.4,
          0.5,
          0.6
         ],
         "x0": " ",
         "xaxis": "x5",
         "y": [
          1.2608650922775269,
          1.406479001045227,
          1.2498234510421753,
          1.205458164215088,
          1.257005214691162,
          1.2420713901519775,
          1.2612930536270142,
          1.2602311372756958,
          1.5070563554763794,
          1.371773600578308,
          1.5938414335250854,
          1.4984307289123535,
          1.5814319849014282,
          1.3668519258499146,
          1.467847228050232,
          1.284157156944275,
          1.4538768529891968,
          1.3923717737197876,
          1.273911714553833,
          1.3906593322753906,
          1.1495572328567505,
          1.2032886743545532,
          1.2483551502227783,
          1.3205941915512085,
          1.2695624828338623,
          1.3263195753097534,
          1.2760483026504517,
          1.4390689134597778,
          1.3828020095825195,
          1.4784319400787354,
          1.30849289894104,
          1.3167543411254885,
          1.2541292905807495,
          1.5827538967132568,
          1.411952257156372,
          1.399921417236328,
          1.4287954568862915,
          1.57362163066864,
          1.3440812826156616,
          1.4227033853530884,
          1.4927619695663452,
          1.3337798118591309,
          1.2930424213409424,
          1.338703989982605,
          1.3063435554504397,
          1.2339518070220947,
          1.1961902379989624,
          1.3329098224639893,
          1.2800222635269165,
          1.216895341873169,
          2.037517547607422,
          1.4609168767929075,
          1.337603211402893,
          1.5661600828170776,
          1.2358875274658203,
          1.302615761756897,
          1.2513381242752075,
          1.3446872234344482,
          1.2628098726272583,
          1.3818225860595703,
          1.324591040611267,
          1.2376110553741455,
          1.3413057327270508,
          1.2729929685592651,
          1.2379119396209717,
          1.371319055557251,
          1.308172345161438,
          1.2186723947525024,
          1.1982070207595823,
          1.3155851364135742,
          1.39371657371521,
          1.4183367490768433,
          1.4818586111068726,
          1.491225004196167,
          1.9241394996643064,
          1.090681791305542,
          1.290860652923584,
          1.331465244293213,
          1.38950777053833,
          1.3782795667648315,
          1.49708890914917,
          1.5566548109054563,
          1.3553177118301392,
          1.3649393320083618,
          1.2439308166503906,
          1.371485948562622,
          1.4795875549316406,
          1.2700124979019165,
          1.2713708877563477,
          1.2598859071731567,
          1.3467007875442505,
          1.2593947649002075,
          1.4050297737121582,
          1.216832160949707,
          1.1956487894058228,
          1.3931986093521118,
          1.3849319219589231,
          1.2517151832580566,
          1.4834738969802856,
          1.3284425735473633,
          1.3354790210723877,
          1.3920942544937134,
          1.246143460273743,
          1.2664661407470703,
          1.3461222648620603,
          1.2950477600097656,
          1.24740731716156,
          1.3992408514022827,
          1.2386540174484253,
          1.5294103622436523,
          1.304272174835205,
          1.356393337249756,
          1.3220354318618774,
          1.2616952657699585,
          1.6333247423171997,
          1.2805216312408447,
          1.323517680168152,
          1.251265048980713,
          1.322586178779602,
          1.1962388753890991
         ],
         "y0": " ",
         "yaxis": "y5"
        },
        {
         "alignmentgroup": "True",
         "hovertemplate": "method=IT-STGCN<br>inter_method=cubic<br>RecurrentGCN=DCRNN<br>mrate=%{x}<br>mse=%{y}<extra></extra>",
         "legendgroup": "IT-STGCN",
         "marker": {
          "color": "#EF553B"
         },
         "name": "IT-STGCN",
         "notched": false,
         "offsetgroup": "IT-STGCN",
         "orientation": "v",
         "showlegend": false,
         "type": "box",
         "x": [
          0.3,
          0.4,
          0.5,
          0.6,
          0.3,
          0.4,
          0.5,
          0.6,
          0.3,
          0.4,
          0.5,
          0.6,
          0.3,
          0.4,
          0.5,
          0.6,
          0.3,
          0.4,
          0.5,
          0.6,
          0.3,
          0.4,
          0.5,
          0.6,
          0.3,
          0.4,
          0.5,
          0.6,
          0.3,
          0.4,
          0.5,
          0.6,
          0.3,
          0.4,
          0.5,
          0.6,
          0.3,
          0.4,
          0.5,
          0.6,
          0.3,
          0.4,
          0.5,
          0.6,
          0.3,
          0.4,
          0.5,
          0.6,
          0.3,
          0.4,
          0.5,
          0.6,
          0.3,
          0.4,
          0.5,
          0.6,
          0.3,
          0.4,
          0.5,
          0.6,
          0.3,
          0.4,
          0.5,
          0.6,
          0.3,
          0.4,
          0.5,
          0.6,
          0.3,
          0.4,
          0.5,
          0.6,
          0.3,
          0.4,
          0.5,
          0.6,
          0.3,
          0.4,
          0.5,
          0.6,
          0.3,
          0.4,
          0.5,
          0.6,
          0.3,
          0.4,
          0.5,
          0.6,
          0.3,
          0.4,
          0.5,
          0.6,
          0.3,
          0.4,
          0.5,
          0.6,
          0.3,
          0.4,
          0.5,
          0.6,
          0.3,
          0.4,
          0.5,
          0.6,
          0.3,
          0.4,
          0.5,
          0.6,
          0.3,
          0.4,
          0.5,
          0.6,
          0.3,
          0.4,
          0.5,
          0.6,
          0.3,
          0.4,
          0.5,
          0.6
         ],
         "x0": " ",
         "xaxis": "x6",
         "y": [
          1.1912024021148682,
          1.2357925176620483,
          1.25078022480011,
          1.2411240339279177,
          1.1653013229370115,
          1.2302900552749634,
          1.23322856426239,
          1.2235815525054932,
          1.2242497205734253,
          1.304371953010559,
          1.2378791570663452,
          1.2483432292938232,
          1.2157102823257446,
          1.2078378200531006,
          1.2389401197433472,
          1.2532576322555542,
          1.260928511619568,
          1.282861351966858,
          1.270779013633728,
          1.258992075920105,
          1.2417610883712769,
          1.2302138805389404,
          1.2248263359069824,
          1.309312105178833,
          1.1906003952026367,
          1.1968481540679932,
          1.2390648126602173,
          1.2229653596878052,
          1.2022440433502195,
          1.248232364654541,
          1.231472730636597,
          1.2356235980987549,
          1.193954348564148,
          1.3150477409362793,
          1.2659655809402466,
          1.2734202146530151,
          1.261750102043152,
          1.2321903705596924,
          1.2310640811920166,
          1.2633460760116575,
          1.2691012620925903,
          1.2270680665969849,
          1.2121881246566772,
          1.3212037086486816,
          1.2397429943084717,
          1.2213488817214966,
          1.2854825258255005,
          1.2556754350662231,
          1.2772152423858645,
          1.24638569355011,
          1.2262803316116333,
          1.2689167261123655,
          1.2376749515533447,
          1.2216717004776,
          1.2790085077285769,
          1.233160376548767,
          1.1787924766540527,
          1.2066168785095217,
          1.287270426750183,
          1.280753254890442,
          1.2220489978790283,
          1.29670512676239,
          1.2330275774002075,
          1.207236409187317,
          1.2429159879684448,
          1.3024402856826782,
          1.225020170211792,
          1.2104822397232056,
          1.2402982711791992,
          1.225723147392273,
          1.215578556060791,
          1.249848484992981,
          1.2235512733459473,
          1.251718044281006,
          1.256455898284912,
          1.2970707416534424,
          1.244586706161499,
          1.2237540483474731,
          1.2210015058517456,
          1.226876735687256,
          1.2418878078460691,
          1.2386153936386108,
          1.2339123487472534,
          1.2997653484344482,
          1.2278841733932495,
          1.2574204206466677,
          1.207358956336975,
          1.2153197526931765,
          1.2222940921783447,
          1.2654293775558472,
          1.2412980794906616,
          1.269175410270691,
          1.2244820594787598,
          1.2094576358795166,
          1.2218477725982666,
          1.226325750350952,
          1.2086604833602903,
          1.3219656944274902,
          1.260196328163147,
          1.2628726959228516,
          1.225743055343628,
          1.176032543182373,
          1.2478854656219482,
          1.2631725072860718,
          1.23123300075531,
          1.2382017374038696,
          1.264547348022461,
          1.1948448419570925,
          1.2011141777038574,
          1.165032982826233,
          1.2176655530929563,
          1.2603009939193726,
          1.2737154960632324,
          1.2990522384643557,
          1.2838068008422852,
          1.2512454986572266,
          1.244591236114502,
          1.2030363082885742,
          1.2628432512283323,
          1.2497808933258057
         ],
         "y0": " ",
         "yaxis": "y6"
        },
        {
         "alignmentgroup": "True",
         "hovertemplate": "method=IT-STGCN<br>inter_method=linear<br>RecurrentGCN=GConvGRU<br>mrate=%{x}<br>mse=%{y}<extra></extra>",
         "legendgroup": "IT-STGCN",
         "marker": {
          "color": "#EF553B"
         },
         "name": "IT-STGCN",
         "notched": false,
         "offsetgroup": "IT-STGCN",
         "orientation": "v",
         "showlegend": false,
         "type": "box",
         "x": [
          0.3,
          0.4,
          0.5,
          0.6,
          0.3,
          0.4,
          0.5,
          0.6,
          0.3,
          0.4,
          0.5,
          0.6,
          0.3,
          0.4,
          0.5,
          0.6,
          0.3,
          0.4,
          0.5,
          0.6,
          0.3,
          0.4,
          0.5,
          0.6,
          0.3,
          0.4,
          0.5,
          0.6,
          0.3,
          0.4,
          0.5,
          0.6,
          0.3,
          0.4,
          0.5,
          0.6,
          0.3,
          0.4,
          0.5,
          0.6,
          0.3,
          0.4,
          0.5,
          0.6,
          0.3,
          0.4,
          0.5,
          0.6,
          0.3,
          0.4,
          0.5,
          0.6,
          0.3,
          0.4,
          0.5,
          0.6,
          0.3,
          0.4,
          0.5,
          0.6,
          0.3,
          0.4,
          0.5,
          0.6,
          0.3,
          0.4,
          0.5,
          0.6,
          0.3,
          0.4,
          0.5,
          0.6,
          0.3,
          0.4,
          0.5,
          0.6,
          0.3,
          0.4,
          0.5,
          0.6,
          0.3,
          0.4,
          0.5,
          0.6,
          0.3,
          0.4,
          0.5,
          0.6,
          0.3,
          0.4,
          0.5,
          0.6,
          0.3,
          0.4,
          0.5,
          0.6,
          0.3,
          0.4,
          0.5,
          0.6,
          0.3,
          0.4,
          0.5,
          0.6,
          0.3,
          0.4,
          0.5,
          0.6,
          0.3,
          0.4,
          0.5,
          0.6,
          0.3,
          0.4,
          0.5,
          0.6,
          0.3,
          0.4,
          0.5,
          0.6
         ],
         "x0": " ",
         "xaxis": "x3",
         "y": [
          1.3310102224349976,
          1.1864416599273682,
          1.3307541608810425,
          1.3317991495132446,
          1.5194218158721924,
          1.4017460346221924,
          1.2534730434417725,
          1.4375916719436646,
          1.340955138206482,
          1.492411732673645,
          1.4290437698364258,
          1.3465527296066284,
          1.1999505758285522,
          1.2943949699401855,
          1.2179325819015503,
          1.33050274848938,
          1.2923177480697632,
          1.414453387260437,
          1.2736141681671145,
          1.293114185333252,
          1.3955641984939575,
          2.224423408508301,
          1.2529553174972534,
          1.331747055053711,
          1.3495951890945437,
          1.4825739860534668,
          1.0653016567230225,
          1.3409039974212646,
          1.4197866916656494,
          1.1837821006774902,
          1.4614099264144895,
          1.2879438400268557,
          1.333415389060974,
          1.2995359897613523,
          1.2876012325286863,
          1.2929679155349731,
          1.5133304595947266,
          1.4170751571655271,
          1.3522568941116333,
          1.5257935523986816,
          1.325239896774292,
          1.602719783782959,
          1.37991201877594,
          1.4994035959243774,
          1.340369701385498,
          1.3497295379638672,
          1.313725829124451,
          1.336803913116455,
          1.1843361854553225,
          1.2773033380508425,
          1.2973676919937134,
          1.2810397148132324,
          1.2352718114852903,
          1.296445608139038,
          1.2696062326431274,
          1.310531735420227,
          1.4975265264511108,
          1.3936915397644043,
          1.2305192947387695,
          1.4426844120025637,
          1.2357896566390991,
          1.2609657049179075,
          1.4335598945617676,
          1.4891986846923828,
          1.31481671333313,
          1.3655277490615845,
          1.4318491220474243,
          1.3000943660736084,
          1.2735185623168943,
          1.3683044910430908,
          1.3019614219665527,
          1.3467273712158203,
          1.340894103050232,
          1.2396106719970703,
          1.3246212005615234,
          1.3684266805648804,
          1.2904411554336548,
          1.2536590099334717,
          1.1589415073394775,
          1.2855923175811768,
          1.2922011613845823,
          1.2943040132522583,
          1.0993478298187256,
          1.4993171691894531,
          1.3877054452896118,
          1.2754204273223877,
          1.4552937746047974,
          1.275190830230713,
          1.3216285705566406,
          1.4803943634033203,
          1.506198525428772,
          1.2973638772964478,
          1.420866847038269,
          1.2421393394470217,
          1.2538121938705444,
          1.2730427980422974,
          1.2151881456375122,
          1.312755465507507,
          1.320846438407898,
          1.303090214729309,
          1.3903034925460815,
          1.3015409708023071,
          1.901484727859497,
          1.512881636619568,
          1.239816427230835,
          1.5047965049743652,
          1.31058931350708,
          1.2904821634292605,
          1.1584224700927734,
          1.311726450920105,
          1.3927619457244873,
          1.3439452648162842,
          1.3167284727096558,
          1.496773600578308,
          1.2317254543304443,
          1.382314920425415,
          1.2836748361587524,
          1.2988266944885254,
          1.1835869550704956,
          1.3366186618804932
         ],
         "y0": " ",
         "yaxis": "y3"
        },
        {
         "alignmentgroup": "True",
         "hovertemplate": "method=IT-STGCN<br>inter_method=linear<br>RecurrentGCN=DCRNN<br>mrate=%{x}<br>mse=%{y}<extra></extra>",
         "legendgroup": "IT-STGCN",
         "marker": {
          "color": "#EF553B"
         },
         "name": "IT-STGCN",
         "notched": false,
         "offsetgroup": "IT-STGCN",
         "orientation": "v",
         "showlegend": false,
         "type": "box",
         "x": [
          0.3,
          0.4,
          0.5,
          0.6,
          0.3,
          0.4,
          0.5,
          0.6,
          0.3,
          0.4,
          0.5,
          0.6,
          0.3,
          0.4,
          0.5,
          0.6,
          0.3,
          0.4,
          0.5,
          0.6,
          0.3,
          0.4,
          0.5,
          0.6,
          0.3,
          0.4,
          0.5,
          0.6,
          0.3,
          0.4,
          0.5,
          0.6,
          0.3,
          0.4,
          0.5,
          0.6,
          0.3,
          0.4,
          0.5,
          0.6,
          0.3,
          0.4,
          0.5,
          0.6,
          0.3,
          0.4,
          0.5,
          0.6,
          0.3,
          0.4,
          0.5,
          0.6,
          0.3,
          0.4,
          0.5,
          0.6,
          0.3,
          0.4,
          0.5,
          0.6,
          0.3,
          0.4,
          0.5,
          0.6,
          0.3,
          0.4,
          0.5,
          0.6,
          0.3,
          0.4,
          0.5,
          0.6,
          0.3,
          0.4,
          0.5,
          0.6,
          0.3,
          0.4,
          0.5,
          0.6,
          0.3,
          0.4,
          0.5,
          0.6,
          0.3,
          0.4,
          0.5,
          0.6,
          0.3,
          0.4,
          0.5,
          0.6,
          0.3,
          0.4,
          0.5,
          0.6,
          0.3,
          0.4,
          0.5,
          0.6,
          0.3,
          0.4,
          0.5,
          0.6,
          0.3,
          0.4,
          0.5,
          0.6,
          0.3,
          0.4,
          0.5,
          0.6,
          0.3,
          0.4,
          0.5,
          0.6,
          0.3,
          0.4,
          0.5,
          0.6
         ],
         "x0": " ",
         "xaxis": "x4",
         "y": [
          1.1782180070877075,
          1.2231460809707642,
          1.2609076499938965,
          1.1888480186462402,
          1.2052288055419922,
          1.288829684257507,
          1.244471549987793,
          1.222675919532776,
          1.2384108304977417,
          1.2055202722549438,
          1.2464367151260376,
          1.300361394882202,
          1.2259382009506226,
          1.2359460592269895,
          1.24492084980011,
          1.1660068035125732,
          1.244460940361023,
          1.2286726236343384,
          1.2079381942749023,
          1.2480800151824951,
          1.184807300567627,
          1.2931174039840698,
          1.2221434116363523,
          1.21226704120636,
          1.2306944131851196,
          1.2041641473770142,
          1.271966576576233,
          1.2667149305343628,
          1.2295700311660769,
          1.2538245916366575,
          1.1661208868026731,
          1.216080665588379,
          1.2694133520126345,
          1.1844035387039185,
          1.2485743761062622,
          1.274811029434204,
          1.1885664463043213,
          1.209648609161377,
          1.2530590295791626,
          1.1947274208068848,
          1.2549078464508057,
          1.2468438148498535,
          1.1998928785324097,
          1.1899737119674685,
          1.2344101667404177,
          1.280004858970642,
          1.2148057222366333,
          1.2372467517852783,
          1.2157223224639893,
          1.2048925161361694,
          1.271432638168335,
          1.260917901992798,
          1.2084301710128784,
          1.2716355323791504,
          1.2738462686538696,
          1.273576736450195,
          1.307334542274475,
          1.1640925407409668,
          1.2266441583633425,
          1.2429876327514648,
          1.2287589311599731,
          1.2187018394470217,
          1.1939330101013184,
          1.2606418132781982,
          1.2346631288528442,
          1.2396010160446167,
          1.291191339492798,
          1.227874517440796,
          1.212107539176941,
          1.249551773071289,
          1.229275465011597,
          1.212270736694336,
          1.212706208229065,
          1.2515833377838137,
          1.2539801597595217,
          1.3730205297470093,
          1.2291690111160278,
          1.2155494689941406,
          1.2142590284347534,
          1.274118185043335,
          1.2217992544174194,
          1.3235746622085571,
          1.2867780923843384,
          1.2524607181549072,
          1.1870392560958862,
          1.2256700992584229,
          1.2542922496795654,
          1.209389567375183,
          1.22766375541687,
          1.2442525625228882,
          1.1942883729934692,
          1.2601007223129272,
          1.2078495025634766,
          1.2067270278930664,
          1.1859771013259888,
          1.3035928010940552,
          1.2876505851745603,
          1.2673078775405884,
          1.2298542261123655,
          1.2486463785171509,
          1.243855595588684,
          1.2196608781814575,
          1.2177361249923706,
          1.201095700263977,
          1.2128132581710815,
          1.190260648727417,
          1.283410906791687,
          1.2122796773910522,
          1.1865826845169067,
          1.198514461517334,
          1.2287373542785645,
          1.2316043376922607,
          1.1976163387298584,
          1.178211331367493,
          1.175526738166809,
          1.3006690740585327,
          1.2372643947601318,
          1.2455357313156128,
          1.2456984519958496,
          1.2141366004943848
         ],
         "y0": " ",
         "yaxis": "y4"
        },
        {
         "alignmentgroup": "True",
         "hovertemplate": "method=IT-STGCN<br>inter_method=nearest<br>RecurrentGCN=GConvGRU<br>mrate=%{x}<br>mse=%{y}<extra></extra>",
         "legendgroup": "IT-STGCN",
         "marker": {
          "color": "#EF553B"
         },
         "name": "IT-STGCN",
         "notched": false,
         "offsetgroup": "IT-STGCN",
         "orientation": "v",
         "showlegend": false,
         "type": "box",
         "x": [
          0.3,
          0.4,
          0.5,
          0.6,
          0.3,
          0.4,
          0.5,
          0.6,
          0.3,
          0.4,
          0.5,
          0.6,
          0.3,
          0.4,
          0.5,
          0.6,
          0.3,
          0.4,
          0.5,
          0.6,
          0.3,
          0.4,
          0.5,
          0.6,
          0.3,
          0.4,
          0.5,
          0.6,
          0.3,
          0.4,
          0.5,
          0.6,
          0.3,
          0.4,
          0.5,
          0.6,
          0.3,
          0.4,
          0.5,
          0.6,
          0.3,
          0.4,
          0.5,
          0.6,
          0.3,
          0.4,
          0.5,
          0.6,
          0.3,
          0.4,
          0.5,
          0.6,
          0.3,
          0.4,
          0.5,
          0.6,
          0.3,
          0.4,
          0.5,
          0.6,
          0.3,
          0.4,
          0.5,
          0.6,
          0.3,
          0.4,
          0.5,
          0.6,
          0.3,
          0.4,
          0.5,
          0.6,
          0.3,
          0.4,
          0.5,
          0.6,
          0.3,
          0.4,
          0.5,
          0.6,
          0.3,
          0.4,
          0.5,
          0.6,
          0.3,
          0.4,
          0.5,
          0.6,
          0.3,
          0.4,
          0.5,
          0.6,
          0.3,
          0.4,
          0.5,
          0.6,
          0.3,
          0.4,
          0.5,
          0.6,
          0.3,
          0.4,
          0.5,
          0.6,
          0.3,
          0.4,
          0.5,
          0.6,
          0.3,
          0.4,
          0.5,
          0.6,
          0.3,
          0.4,
          0.5,
          0.6,
          0.3,
          0.4,
          0.5,
          0.6
         ],
         "x0": " ",
         "xaxis": "x",
         "y": [
          1.2500615119934082,
          1.1799261569976809,
          1.2750701904296875,
          1.2390421628952026,
          1.365225315093994,
          1.1260697841644287,
          1.6165900230407717,
          1.315092921257019,
          1.543074369430542,
          1.327049732208252,
          1.4399919509887695,
          1.4330041408538818,
          1.3073590993881226,
          1.2069377899169922,
          1.3887689113616943,
          1.334106206893921,
          1.2531733512878418,
          1.3642784357070925,
          1.3084211349487305,
          1.408684253692627,
          1.375462532043457,
          1.3893364667892456,
          1.2634117603302002,
          1.306212067604065,
          1.3449240922927856,
          1.4875116348266602,
          1.4199776649475098,
          1.2603143453598022,
          1.0920522212982178,
          1.2652724981307983,
          1.2800918817520142,
          1.3084638118743896,
          1.2866790294647217,
          1.889017105102539,
          1.225180983543396,
          1.4469462633132937,
          1.317378044128418,
          1.1607176065444946,
          1.2398085594177246,
          1.34404456615448,
          1.4006515741348269,
          1.395073175430298,
          1.4337297677993774,
          1.4510949850082395,
          1.471182942390442,
          1.4303663969039917,
          1.5924197435379028,
          1.7048169374465942,
          1.272107481956482,
          1.4108346700668335,
          1.2807011604309082,
          1.278402328491211,
          1.7034249305725098,
          1.4089010953903198,
          1.2302968502044678,
          1.4397608041763306,
          1.27657949924469,
          1.1446152925491333,
          1.3357906341552734,
          1.282681226730347,
          1.310508370399475,
          1.607040286064148,
          1.2637304067611694,
          1.3200026750564575,
          1.3040205240249634,
          1.5816220045089722,
          1.4158092737197876,
          1.4129725694656372,
          1.3424087762832642,
          1.2391680479049685,
          1.7592002153396606,
          1.435319423675537,
          1.291203498840332,
          1.316885232925415,
          1.3177410364151,
          1.3745652437210083,
          1.2657158374786377,
          1.4580905437469482,
          1.3518723249435425,
          1.3525010347366333,
          1.2482881546020508,
          1.4782006740570068,
          1.257535457611084,
          1.242153525352478,
          1.257925033569336,
          1.3564938306808472,
          1.2838255167007446,
          1.2704123258590698,
          1.266906976699829,
          1.494496464729309,
          1.1951619386672974,
          1.4537125825881958,
          1.260935664176941,
          1.1276862621307373,
          1.3001171350479126,
          1.2381428480148315,
          1.2939083576202393,
          1.2592898607254028,
          1.6937779188156128,
          1.4851824045181274,
          1.2952834367752075,
          1.3143868446350098,
          1.3141448497772217,
          1.3224892616271973,
          1.2689839601516724,
          1.2186981439590454,
          1.400465726852417,
          1.313960075378418,
          1.3095158338546753,
          1.3124622106552124,
          1.2823160886764526,
          1.400718331336975,
          1.3313809633255005,
          1.1948740482330322,
          1.2674795389175415,
          1.4399230480194092,
          1.3090468645095823,
          1.3675769567489624,
          1.285462498664856,
          1.8446470499038696
         ],
         "y0": " ",
         "yaxis": "y"
        },
        {
         "alignmentgroup": "True",
         "hovertemplate": "method=IT-STGCN<br>inter_method=nearest<br>RecurrentGCN=DCRNN<br>mrate=%{x}<br>mse=%{y}<extra></extra>",
         "legendgroup": "IT-STGCN",
         "marker": {
          "color": "#EF553B"
         },
         "name": "IT-STGCN",
         "notched": false,
         "offsetgroup": "IT-STGCN",
         "orientation": "v",
         "showlegend": false,
         "type": "box",
         "x": [
          0.3,
          0.4,
          0.5,
          0.6,
          0.3,
          0.4,
          0.5,
          0.6,
          0.3,
          0.4,
          0.5,
          0.6,
          0.3,
          0.4,
          0.5,
          0.6,
          0.3,
          0.4,
          0.5,
          0.6,
          0.3,
          0.4,
          0.5,
          0.6,
          0.3,
          0.4,
          0.5,
          0.6,
          0.3,
          0.4,
          0.5,
          0.6,
          0.3,
          0.4,
          0.5,
          0.6,
          0.3,
          0.4,
          0.5,
          0.6,
          0.3,
          0.4,
          0.5,
          0.6,
          0.3,
          0.4,
          0.5,
          0.6,
          0.3,
          0.4,
          0.5,
          0.6,
          0.3,
          0.4,
          0.5,
          0.6,
          0.3,
          0.4,
          0.5,
          0.6,
          0.3,
          0.4,
          0.5,
          0.6,
          0.3,
          0.4,
          0.5,
          0.6,
          0.3,
          0.4,
          0.5,
          0.6,
          0.3,
          0.4,
          0.5,
          0.6,
          0.3,
          0.4,
          0.5,
          0.6,
          0.3,
          0.4,
          0.5,
          0.6,
          0.3,
          0.4,
          0.5,
          0.6,
          0.3,
          0.4,
          0.5,
          0.6,
          0.3,
          0.4,
          0.5,
          0.6,
          0.3,
          0.4,
          0.5,
          0.6,
          0.3,
          0.4,
          0.5,
          0.6,
          0.3,
          0.4,
          0.5,
          0.6,
          0.3,
          0.4,
          0.5,
          0.6,
          0.3,
          0.4,
          0.5,
          0.6,
          0.3,
          0.4,
          0.5,
          0.6
         ],
         "x0": " ",
         "xaxis": "x2",
         "y": [
          1.2850960493087769,
          1.2387418746948242,
          1.250316858291626,
          1.255685329437256,
          1.2272757291793823,
          1.2197757959365845,
          1.20405113697052,
          1.2697877883911133,
          1.1943762302398682,
          1.2571579217910769,
          1.2498712539672852,
          1.231090784072876,
          1.2073715925216677,
          1.22973370552063,
          1.198948860168457,
          1.2892050743103027,
          1.2489800453186035,
          1.2648011445999146,
          1.231497049331665,
          1.189706802368164,
          1.2410677671432495,
          1.236295461654663,
          1.298543930053711,
          1.2125673294067385,
          1.232344388961792,
          1.2287606000900269,
          1.2474472522735596,
          1.2312310934066772,
          1.21297287940979,
          1.3061929941177368,
          1.2828364372253418,
          1.2621160745620728,
          1.2244939804077148,
          1.2358704805374146,
          1.2249000072479248,
          1.2630833387374878,
          1.2132017612457275,
          1.2353287935256958,
          1.242595672607422,
          1.2050905227661133,
          1.234058499336243,
          1.2671880722045898,
          1.2797608375549316,
          1.249194860458374,
          1.2242692708969116,
          1.2765016555786133,
          1.265236258506775,
          1.271398663520813,
          1.3045125007629397,
          1.250706434249878,
          1.2325328588485718,
          1.2323302030563354,
          1.2445414066314695,
          1.2348692417144775,
          1.2458441257476809,
          1.24941086769104,
          1.188832402229309,
          1.204910159111023,
          1.2370686531066897,
          1.247117519378662,
          1.2726367712020874,
          1.223786234855652,
          1.279449701309204,
          1.2761987447738647,
          1.2266408205032349,
          1.275695562362671,
          1.247581124305725,
          1.2298588752746582,
          1.2215737104415894,
          1.2492457628250122,
          1.2167466878890991,
          1.221232771873474,
          1.2078129053115845,
          1.30712890625,
          1.2363803386688232,
          1.266039490699768,
          1.2476043701171875,
          1.2410153150558472,
          1.2788184881210327,
          1.2798317670822144,
          1.23590087890625,
          1.2412363290786743,
          1.2639139890670776,
          1.2351380586624146,
          1.2513355016708374,
          1.1939618587493896,
          1.2455530166625977,
          1.258411526679993,
          1.1928467750549316,
          1.2443290948867798,
          1.265045404434204,
          1.2074642181396484,
          1.2989435195922852,
          1.2315092086791992,
          1.21021831035614,
          1.2450155019760132,
          1.2510496377944946,
          1.2670153379440308,
          1.2461642026901243,
          1.2442981004714966,
          1.234636902809143,
          1.2193948030471802,
          1.2433613538742063,
          1.1704611778259275,
          1.187817096710205,
          1.2490135431289673,
          1.2305854558944702,
          1.2304381132125854,
          1.2272260189056396,
          1.2563520669937134,
          1.288501262664795,
          1.3078197240829468,
          1.2543095350265503,
          1.2901830673217771,
          1.228973627090454,
          1.237259030342102,
          1.2354775667190552,
          1.1786061525344849,
          1.212376594543457,
          1.167455792427063
         ],
         "y0": " ",
         "yaxis": "y2"
        }
       ],
       "layout": {
        "annotations": [
         {
          "font": {},
          "showarrow": false,
          "text": "RecurrentGCN=GConvGRU",
          "x": 0.24,
          "xanchor": "center",
          "xref": "paper",
          "y": 0.9999999999999998,
          "yanchor": "bottom",
          "yref": "paper"
         },
         {
          "font": {},
          "showarrow": false,
          "text": "RecurrentGCN=DCRNN",
          "x": 0.74,
          "xanchor": "center",
          "xref": "paper",
          "y": 0.9999999999999998,
          "yanchor": "bottom",
          "yref": "paper"
         },
         {
          "font": {},
          "showarrow": false,
          "text": "inter_method=nearest",
          "textangle": 90,
          "x": 0.98,
          "xanchor": "left",
          "xref": "paper",
          "y": 0.15666666666666665,
          "yanchor": "middle",
          "yref": "paper"
         },
         {
          "font": {},
          "showarrow": false,
          "text": "inter_method=linear",
          "textangle": 90,
          "x": 0.98,
          "xanchor": "left",
          "xref": "paper",
          "y": 0.4999999999999999,
          "yanchor": "middle",
          "yref": "paper"
         },
         {
          "font": {},
          "showarrow": false,
          "text": "inter_method=cubic",
          "textangle": 90,
          "x": 0.98,
          "xanchor": "left",
          "xref": "paper",
          "y": 0.8433333333333332,
          "yanchor": "middle",
          "yref": "paper"
         }
        ],
        "autosize": true,
        "boxmode": "group",
        "legend": {
         "title": {
          "text": "method"
         },
         "tracegroupgap": 0
        },
        "margin": {
         "t": 60
        },
        "template": {
         "data": {
          "bar": [
           {
            "error_x": {
             "color": "#2a3f5f"
            },
            "error_y": {
             "color": "#2a3f5f"
            },
            "marker": {
             "line": {
              "color": "#E5ECF6",
              "width": 0.5
             },
             "pattern": {
              "fillmode": "overlay",
              "size": 10,
              "solidity": 0.2
             }
            },
            "type": "bar"
           }
          ],
          "barpolar": [
           {
            "marker": {
             "line": {
              "color": "#E5ECF6",
              "width": 0.5
             },
             "pattern": {
              "fillmode": "overlay",
              "size": 10,
              "solidity": 0.2
             }
            },
            "type": "barpolar"
           }
          ],
          "carpet": [
           {
            "aaxis": {
             "endlinecolor": "#2a3f5f",
             "gridcolor": "white",
             "linecolor": "white",
             "minorgridcolor": "white",
             "startlinecolor": "#2a3f5f"
            },
            "baxis": {
             "endlinecolor": "#2a3f5f",
             "gridcolor": "white",
             "linecolor": "white",
             "minorgridcolor": "white",
             "startlinecolor": "#2a3f5f"
            },
            "type": "carpet"
           }
          ],
          "choropleth": [
           {
            "colorbar": {
             "outlinewidth": 0,
             "ticks": ""
            },
            "type": "choropleth"
           }
          ],
          "contour": [
           {
            "colorbar": {
             "outlinewidth": 0,
             "ticks": ""
            },
            "colorscale": [
             [
              0,
              "#0d0887"
             ],
             [
              0.1111111111111111,
              "#46039f"
             ],
             [
              0.2222222222222222,
              "#7201a8"
             ],
             [
              0.3333333333333333,
              "#9c179e"
             ],
             [
              0.4444444444444444,
              "#bd3786"
             ],
             [
              0.5555555555555556,
              "#d8576b"
             ],
             [
              0.6666666666666666,
              "#ed7953"
             ],
             [
              0.7777777777777778,
              "#fb9f3a"
             ],
             [
              0.8888888888888888,
              "#fdca26"
             ],
             [
              1,
              "#f0f921"
             ]
            ],
            "type": "contour"
           }
          ],
          "contourcarpet": [
           {
            "colorbar": {
             "outlinewidth": 0,
             "ticks": ""
            },
            "type": "contourcarpet"
           }
          ],
          "heatmap": [
           {
            "colorbar": {
             "outlinewidth": 0,
             "ticks": ""
            },
            "colorscale": [
             [
              0,
              "#0d0887"
             ],
             [
              0.1111111111111111,
              "#46039f"
             ],
             [
              0.2222222222222222,
              "#7201a8"
             ],
             [
              0.3333333333333333,
              "#9c179e"
             ],
             [
              0.4444444444444444,
              "#bd3786"
             ],
             [
              0.5555555555555556,
              "#d8576b"
             ],
             [
              0.6666666666666666,
              "#ed7953"
             ],
             [
              0.7777777777777778,
              "#fb9f3a"
             ],
             [
              0.8888888888888888,
              "#fdca26"
             ],
             [
              1,
              "#f0f921"
             ]
            ],
            "type": "heatmap"
           }
          ],
          "heatmapgl": [
           {
            "colorbar": {
             "outlinewidth": 0,
             "ticks": ""
            },
            "colorscale": [
             [
              0,
              "#0d0887"
             ],
             [
              0.1111111111111111,
              "#46039f"
             ],
             [
              0.2222222222222222,
              "#7201a8"
             ],
             [
              0.3333333333333333,
              "#9c179e"
             ],
             [
              0.4444444444444444,
              "#bd3786"
             ],
             [
              0.5555555555555556,
              "#d8576b"
             ],
             [
              0.6666666666666666,
              "#ed7953"
             ],
             [
              0.7777777777777778,
              "#fb9f3a"
             ],
             [
              0.8888888888888888,
              "#fdca26"
             ],
             [
              1,
              "#f0f921"
             ]
            ],
            "type": "heatmapgl"
           }
          ],
          "histogram": [
           {
            "marker": {
             "pattern": {
              "fillmode": "overlay",
              "size": 10,
              "solidity": 0.2
             }
            },
            "type": "histogram"
           }
          ],
          "histogram2d": [
           {
            "colorbar": {
             "outlinewidth": 0,
             "ticks": ""
            },
            "colorscale": [
             [
              0,
              "#0d0887"
             ],
             [
              0.1111111111111111,
              "#46039f"
             ],
             [
              0.2222222222222222,
              "#7201a8"
             ],
             [
              0.3333333333333333,
              "#9c179e"
             ],
             [
              0.4444444444444444,
              "#bd3786"
             ],
             [
              0.5555555555555556,
              "#d8576b"
             ],
             [
              0.6666666666666666,
              "#ed7953"
             ],
             [
              0.7777777777777778,
              "#fb9f3a"
             ],
             [
              0.8888888888888888,
              "#fdca26"
             ],
             [
              1,
              "#f0f921"
             ]
            ],
            "type": "histogram2d"
           }
          ],
          "histogram2dcontour": [
           {
            "colorbar": {
             "outlinewidth": 0,
             "ticks": ""
            },
            "colorscale": [
             [
              0,
              "#0d0887"
             ],
             [
              0.1111111111111111,
              "#46039f"
             ],
             [
              0.2222222222222222,
              "#7201a8"
             ],
             [
              0.3333333333333333,
              "#9c179e"
             ],
             [
              0.4444444444444444,
              "#bd3786"
             ],
             [
              0.5555555555555556,
              "#d8576b"
             ],
             [
              0.6666666666666666,
              "#ed7953"
             ],
             [
              0.7777777777777778,
              "#fb9f3a"
             ],
             [
              0.8888888888888888,
              "#fdca26"
             ],
             [
              1,
              "#f0f921"
             ]
            ],
            "type": "histogram2dcontour"
           }
          ],
          "mesh3d": [
           {
            "colorbar": {
             "outlinewidth": 0,
             "ticks": ""
            },
            "type": "mesh3d"
           }
          ],
          "parcoords": [
           {
            "line": {
             "colorbar": {
              "outlinewidth": 0,
              "ticks": ""
             }
            },
            "type": "parcoords"
           }
          ],
          "pie": [
           {
            "automargin": true,
            "type": "pie"
           }
          ],
          "scatter": [
           {
            "fillpattern": {
             "fillmode": "overlay",
             "size": 10,
             "solidity": 0.2
            },
            "type": "scatter"
           }
          ],
          "scatter3d": [
           {
            "line": {
             "colorbar": {
              "outlinewidth": 0,
              "ticks": ""
             }
            },
            "marker": {
             "colorbar": {
              "outlinewidth": 0,
              "ticks": ""
             }
            },
            "type": "scatter3d"
           }
          ],
          "scattercarpet": [
           {
            "marker": {
             "colorbar": {
              "outlinewidth": 0,
              "ticks": ""
             }
            },
            "type": "scattercarpet"
           }
          ],
          "scattergeo": [
           {
            "marker": {
             "colorbar": {
              "outlinewidth": 0,
              "ticks": ""
             }
            },
            "type": "scattergeo"
           }
          ],
          "scattergl": [
           {
            "marker": {
             "colorbar": {
              "outlinewidth": 0,
              "ticks": ""
             }
            },
            "type": "scattergl"
           }
          ],
          "scattermapbox": [
           {
            "marker": {
             "colorbar": {
              "outlinewidth": 0,
              "ticks": ""
             }
            },
            "type": "scattermapbox"
           }
          ],
          "scatterpolar": [
           {
            "marker": {
             "colorbar": {
              "outlinewidth": 0,
              "ticks": ""
             }
            },
            "type": "scatterpolar"
           }
          ],
          "scatterpolargl": [
           {
            "marker": {
             "colorbar": {
              "outlinewidth": 0,
              "ticks": ""
             }
            },
            "type": "scatterpolargl"
           }
          ],
          "scatterternary": [
           {
            "marker": {
             "colorbar": {
              "outlinewidth": 0,
              "ticks": ""
             }
            },
            "type": "scatterternary"
           }
          ],
          "surface": [
           {
            "colorbar": {
             "outlinewidth": 0,
             "ticks": ""
            },
            "colorscale": [
             [
              0,
              "#0d0887"
             ],
             [
              0.1111111111111111,
              "#46039f"
             ],
             [
              0.2222222222222222,
              "#7201a8"
             ],
             [
              0.3333333333333333,
              "#9c179e"
             ],
             [
              0.4444444444444444,
              "#bd3786"
             ],
             [
              0.5555555555555556,
              "#d8576b"
             ],
             [
              0.6666666666666666,
              "#ed7953"
             ],
             [
              0.7777777777777778,
              "#fb9f3a"
             ],
             [
              0.8888888888888888,
              "#fdca26"
             ],
             [
              1,
              "#f0f921"
             ]
            ],
            "type": "surface"
           }
          ],
          "table": [
           {
            "cells": {
             "fill": {
              "color": "#EBF0F8"
             },
             "line": {
              "color": "white"
             }
            },
            "header": {
             "fill": {
              "color": "#C8D4E3"
             },
             "line": {
              "color": "white"
             }
            },
            "type": "table"
           }
          ]
         },
         "layout": {
          "annotationdefaults": {
           "arrowcolor": "#2a3f5f",
           "arrowhead": 0,
           "arrowwidth": 1
          },
          "autotypenumbers": "strict",
          "coloraxis": {
           "colorbar": {
            "outlinewidth": 0,
            "ticks": ""
           }
          },
          "colorscale": {
           "diverging": [
            [
             0,
             "#8e0152"
            ],
            [
             0.1,
             "#c51b7d"
            ],
            [
             0.2,
             "#de77ae"
            ],
            [
             0.3,
             "#f1b6da"
            ],
            [
             0.4,
             "#fde0ef"
            ],
            [
             0.5,
             "#f7f7f7"
            ],
            [
             0.6,
             "#e6f5d0"
            ],
            [
             0.7,
             "#b8e186"
            ],
            [
             0.8,
             "#7fbc41"
            ],
            [
             0.9,
             "#4d9221"
            ],
            [
             1,
             "#276419"
            ]
           ],
           "sequential": [
            [
             0,
             "#0d0887"
            ],
            [
             0.1111111111111111,
             "#46039f"
            ],
            [
             0.2222222222222222,
             "#7201a8"
            ],
            [
             0.3333333333333333,
             "#9c179e"
            ],
            [
             0.4444444444444444,
             "#bd3786"
            ],
            [
             0.5555555555555556,
             "#d8576b"
            ],
            [
             0.6666666666666666,
             "#ed7953"
            ],
            [
             0.7777777777777778,
             "#fb9f3a"
            ],
            [
             0.8888888888888888,
             "#fdca26"
            ],
            [
             1,
             "#f0f921"
            ]
           ],
           "sequentialminus": [
            [
             0,
             "#0d0887"
            ],
            [
             0.1111111111111111,
             "#46039f"
            ],
            [
             0.2222222222222222,
             "#7201a8"
            ],
            [
             0.3333333333333333,
             "#9c179e"
            ],
            [
             0.4444444444444444,
             "#bd3786"
            ],
            [
             0.5555555555555556,
             "#d8576b"
            ],
            [
             0.6666666666666666,
             "#ed7953"
            ],
            [
             0.7777777777777778,
             "#fb9f3a"
            ],
            [
             0.8888888888888888,
             "#fdca26"
            ],
            [
             1,
             "#f0f921"
            ]
           ]
          },
          "colorway": [
           "#636efa",
           "#EF553B",
           "#00cc96",
           "#ab63fa",
           "#FFA15A",
           "#19d3f3",
           "#FF6692",
           "#B6E880",
           "#FF97FF",
           "#FECB52"
          ],
          "font": {
           "color": "#2a3f5f"
          },
          "geo": {
           "bgcolor": "white",
           "lakecolor": "white",
           "landcolor": "#E5ECF6",
           "showlakes": true,
           "showland": true,
           "subunitcolor": "white"
          },
          "hoverlabel": {
           "align": "left"
          },
          "hovermode": "closest",
          "mapbox": {
           "style": "light"
          },
          "paper_bgcolor": "white",
          "plot_bgcolor": "#E5ECF6",
          "polar": {
           "angularaxis": {
            "gridcolor": "white",
            "linecolor": "white",
            "ticks": ""
           },
           "bgcolor": "#E5ECF6",
           "radialaxis": {
            "gridcolor": "white",
            "linecolor": "white",
            "ticks": ""
           }
          },
          "scene": {
           "xaxis": {
            "backgroundcolor": "#E5ECF6",
            "gridcolor": "white",
            "gridwidth": 2,
            "linecolor": "white",
            "showbackground": true,
            "ticks": "",
            "zerolinecolor": "white"
           },
           "yaxis": {
            "backgroundcolor": "#E5ECF6",
            "gridcolor": "white",
            "gridwidth": 2,
            "linecolor": "white",
            "showbackground": true,
            "ticks": "",
            "zerolinecolor": "white"
           },
           "zaxis": {
            "backgroundcolor": "#E5ECF6",
            "gridcolor": "white",
            "gridwidth": 2,
            "linecolor": "white",
            "showbackground": true,
            "ticks": "",
            "zerolinecolor": "white"
           }
          },
          "shapedefaults": {
           "line": {
            "color": "#2a3f5f"
           }
          },
          "ternary": {
           "aaxis": {
            "gridcolor": "white",
            "linecolor": "white",
            "ticks": ""
           },
           "baxis": {
            "gridcolor": "white",
            "linecolor": "white",
            "ticks": ""
           },
           "bgcolor": "#E5ECF6",
           "caxis": {
            "gridcolor": "white",
            "linecolor": "white",
            "ticks": ""
           }
          },
          "title": {
           "x": 0.05
          },
          "xaxis": {
           "automargin": true,
           "gridcolor": "white",
           "linecolor": "white",
           "ticks": "",
           "title": {
            "standoff": 15
           },
           "zerolinecolor": "white",
           "zerolinewidth": 2
          },
          "yaxis": {
           "automargin": true,
           "gridcolor": "white",
           "linecolor": "white",
           "ticks": "",
           "title": {
            "standoff": 15
           },
           "zerolinecolor": "white",
           "zerolinewidth": 2
          }
         }
        },
        "xaxis": {
         "anchor": "y",
         "autorange": true,
         "domain": [
          0,
          0.48
         ],
         "range": [
          0.24860763018657756,
          0.6513923698134223
         ],
         "title": {
          "text": "mrate"
         },
         "type": "linear"
        },
        "xaxis2": {
         "anchor": "y2",
         "autorange": true,
         "domain": [
          0.5,
          0.98
         ],
         "matches": "x",
         "range": [
          0.24860763018657756,
          0.6513923698134223
         ],
         "title": {
          "text": "mrate"
         },
         "type": "linear"
        },
        "xaxis3": {
         "anchor": "y3",
         "autorange": true,
         "domain": [
          0,
          0.48
         ],
         "matches": "x",
         "range": [
          0.24860763018657756,
          0.6513923698134223
         ],
         "showticklabels": false,
         "type": "linear"
        },
        "xaxis4": {
         "anchor": "y4",
         "autorange": true,
         "domain": [
          0.5,
          0.98
         ],
         "matches": "x",
         "range": [
          0.24860763018657756,
          0.6513923698134223
         ],
         "showticklabels": false,
         "type": "linear"
        },
        "xaxis5": {
         "anchor": "y5",
         "autorange": true,
         "domain": [
          0,
          0.48
         ],
         "matches": "x",
         "range": [
          0.24860763018657756,
          0.6513923698134223
         ],
         "showticklabels": false,
         "type": "linear"
        },
        "xaxis6": {
         "anchor": "y6",
         "autorange": true,
         "domain": [
          0.5,
          0.98
         ],
         "matches": "x",
         "range": [
          0.24860763018657756,
          0.6513923698134223
         ],
         "showticklabels": false,
         "type": "linear"
        },
        "yaxis": {
         "anchor": "x",
         "autorange": true,
         "domain": [
          0,
          0.3133333333333333
         ],
         "range": [
          1.0009060038460627,
          2.2888190613852606
         ],
         "title": {
          "text": "mse"
         },
         "type": "linear"
        },
        "yaxis2": {
         "anchor": "x2",
         "autorange": true,
         "domain": [
          0,
          0.3133333333333333
         ],
         "matches": "y",
         "range": [
          1.0009060038460627,
          2.2888190613852606
         ],
         "showticklabels": false,
         "type": "linear"
        },
        "yaxis3": {
         "anchor": "x3",
         "autorange": true,
         "domain": [
          0.34333333333333327,
          0.6566666666666665
         ],
         "matches": "y",
         "range": [
          1.0009060038460627,
          2.2888190613852606
         ],
         "title": {
          "text": "mse"
         },
         "type": "linear"
        },
        "yaxis4": {
         "anchor": "x4",
         "autorange": true,
         "domain": [
          0.34333333333333327,
          0.6566666666666665
         ],
         "matches": "y",
         "range": [
          1.0009060038460627,
          2.2888190613852606
         ],
         "showticklabels": false,
         "type": "linear"
        },
        "yaxis5": {
         "anchor": "x5",
         "autorange": true,
         "domain": [
          0.6866666666666665,
          0.9999999999999998
         ],
         "matches": "y",
         "range": [
          1.0009060038460627,
          2.2888190613852606
         ],
         "title": {
          "text": "mse"
         },
         "type": "linear"
        },
        "yaxis6": {
         "anchor": "x6",
         "autorange": true,
         "domain": [
          0.6866666666666665,
          0.9999999999999998
         ],
         "matches": "y",
         "range": [
          1.0009060038460627,
          2.2888190613852606
         ],
         "showticklabels": false,
         "type": "linear"
        }
       }
      },
      "image/png": "[encoded data removed]",
      "text/html": [
       "<div>                            <div id=\"38b4253a-8762-42ea-b68c-4e139692689b\" class=\"plotly-graph-div\" style=\"height:800px; width:100%;\"></div>            <script type=\"text/javascript\">                require([\"plotly\"], function(Plotly) {                    window.PLOTLYENV=window.PLOTLYENV || {};                                    if (document.getElementById(\"38b4253a-8762-42ea-b68c-4e139692689b\")) {                    Plotly.newPlot(                        \"38b4253a-8762-42ea-b68c-4e139692689b\",                        [{\"alignmentgroup\":\"True\",\"hovertemplate\":\"method=STGCN<br>inter_method=cubic<br>RecurrentGCN=GConvGRU<br>mrate=%{x}<br>mse=%{y}<extra></extra>\",\"legendgroup\":\"STGCN\",\"marker\":{\"color\":\"#636efa\"},\"name\":\"STGCN\",\"notched\":false,\"offsetgroup\":\"STGCN\",\"orientation\":\"v\",\"showlegend\":true,\"x\":[0.3,0.4,0.5,0.6,0.3,0.4,0.5,0.6,0.3,0.4,0.5,0.6,0.3,0.4,0.5,0.6,0.3,0.4,0.5,0.6,0.3,0.4,0.5,0.6,0.3,0.4,0.5,0.6,0.3,0.4,0.5,0.6,0.3,0.4,0.5,0.6,0.3,0.4,0.5,0.6,0.3,0.4,0.5,0.6,0.3,0.4,0.5,0.6,0.3,0.4,0.5,0.6,0.3,0.4,0.5,0.6,0.3,0.4,0.5,0.6,0.3,0.4,0.5,0.6,0.3,0.4,0.5,0.6,0.3,0.4,0.5,0.6,0.3,0.4,0.5,0.6,0.3,0.4,0.5,0.6,0.3,0.4,0.5,0.6,0.3,0.4,0.5,0.6,0.3,0.4,0.5,0.6,0.3,0.4,0.5,0.6,0.3,0.4,0.5,0.6,0.3,0.4,0.5,0.6,0.3,0.4,0.5,0.6,0.3,0.4,0.5,0.6,0.3,0.4,0.5,0.6,0.3,0.4,0.5,0.6],\"x0\":\" \",\"xaxis\":\"x5\",\"y\":[1.430083394050598,1.265518069267273,1.8181501626968384,1.3052940368652344,1.2526118755340576,1.2568542957305908,1.44140362739563,1.3201918601989746,1.2728835344314575,1.165825366973877,1.2127695083618164,1.360352635383606,1.2656402587890625,1.391319751739502,1.321562886238098,1.2569507360458374,1.5461666584014893,1.333940505981445,1.4871751070022583,1.292580008506775,1.443697452545166,1.453558087348938,1.2832529544830322,1.1623430252075195,1.3141818046569824,1.218990683555603,1.1361185312271118,1.4544531106948853,1.37943696975708,1.298315405845642,1.3191121816635132,1.2697323560714722,1.3775044679641724,1.314373016357422,1.3088202476501465,1.49151349067688,1.3449254035949707,1.4642877578735352,1.3577005863189695,1.489551663398743,1.43328595161438,1.2294762134552002,1.3385009765625,1.5350991487503052,1.2771800756454468,1.5718703269958496,1.3037859201431274,1.373924732208252,1.30467689037323,1.5075629949569702,1.3285377025604248,1.4131865501403809,1.2964098453521729,1.25655198097229,1.3667092323303225,1.326558232307434,1.296786904335022,1.3529292345046997,1.3051526546478271,1.4373153448104858,1.4682990312576294,1.307465434074402,1.39822518825531,1.3294823169708252,1.1986331939697266,1.3326849937438965,1.404704213142395,1.298565149307251,1.2876498699188232,1.1563695669174194,1.4162485599517822,1.3216511011123655,1.1992013454437256,1.4093421697616575,1.380343317985535,1.3511825799942017,1.3722052574157717,1.4489686489105225,1.209606409072876,1.4603867530822754,1.1509861946105957,1.4783855676651,1.5224953889846802,1.3722904920578003,1.3600847721099854,1.4237371683120728,1.4817062616348269,1.3623172044754028,1.54211688041687,1.504899501800537,1.501727819442749,1.5735864639282229,1.3062340021133425,1.4328479766845703,1.4865031242370603,1.582962155342102,1.2125601768493652,1.4732285737991333,1.2436219453811646,1.3477576971054075,1.3751572370529177,1.674248218536377,1.399587869644165,1.2715448141098022,1.392021417617798,1.370936632156372,1.3310222625732422,1.4130160808563232,1.2896007299423218,1.377504587173462,1.261177659034729,1.5776454210281372,1.2307958602905271,1.539883375167847,1.5873948335647583,1.4033317565917969,1.348220944404602,1.3426473140716553,1.2939890623092651,1.494648575782776],\"y0\":\" \",\"yaxis\":\"y5\",\"type\":\"box\"},{\"alignmentgroup\":\"True\",\"hovertemplate\":\"method=STGCN<br>inter_method=cubic<br>RecurrentGCN=DCRNN<br>mrate=%{x}<br>mse=%{y}<extra></extra>\",\"legendgroup\":\"STGCN\",\"marker\":{\"color\":\"#636efa\"},\"name\":\"STGCN\",\"notched\":false,\"offsetgroup\":\"STGCN\",\"orientation\":\"v\",\"showlegend\":false,\"x\":[0.3,0.4,0.5,0.6,0.3,0.4,0.5,0.6,0.3,0.4,0.5,0.6,0.3,0.4,0.5,0.6,0.3,0.4,0.5,0.6,0.3,0.4,0.5,0.6,0.3,0.4,0.5,0.6,0.3,0.4,0.5,0.6,0.3,0.4,0.5,0.6,0.3,0.4,0.5,0.6,0.3,0.4,0.5,0.6,0.3,0.4,0.5,0.6,0.3,0.4,0.5,0.6,0.3,0.4,0.5,0.6,0.3,0.4,0.5,0.6,0.3,0.4,0.5,0.6,0.3,0.4,0.5,0.6,0.3,0.4,0.5,0.6,0.3,0.4,0.5,0.6,0.3,0.4,0.5,0.6,0.3,0.4,0.5,0.6,0.3,0.4,0.5,0.6,0.3,0.4,0.5,0.6,0.3,0.4,0.5,0.6,0.3,0.4,0.5,0.6,0.3,0.4,0.5,0.6,0.3,0.4,0.5,0.6,0.3,0.4,0.5,0.6,0.3,0.4,0.5,0.6,0.3,0.4,0.5,0.6],\"x0\":\" \",\"xaxis\":\"x6\",\"y\":[1.2669273614883425,1.2447242736816406,1.395605206489563,1.3007597923278809,1.2272125482559204,1.2055455446243286,1.297262191772461,1.2171710729599,1.2410755157470703,1.182844877243042,1.3046033382415771,1.3078221082687378,1.1703153848648071,1.3195068836212158,1.2736579179763794,1.487370491027832,1.2308025360107422,1.299784779548645,1.3454209566116333,1.288670301437378,1.3045037984848022,1.3574200868606567,1.0793612003326416,1.1935505867004397,1.2769628763198853,1.3046363592147827,1.2717478275299072,1.357180953025818,1.206692099571228,1.2390735149383545,1.3085367679595947,1.233712673187256,1.2527557611465454,1.2431633472442627,1.2266498804092407,1.3203331232070925,1.23030424118042,1.3003932237625122,1.3129520416259766,1.3476018905639648,1.2645580768585205,1.274348258972168,1.294403910636902,1.284108281135559,1.209214687347412,1.2818981409072876,1.28237783908844,1.135785698890686,1.2750952243804932,1.2204495668411257,1.2519190311431885,1.276614785194397,1.2850699424743652,1.3362361192703247,1.410725235939026,1.282978892326355,1.185344934463501,1.3046058416366575,1.2310006618499756,1.3243706226348877,1.258084774017334,1.2956866025924685,1.2672392129898071,1.3595764636993408,1.252489686012268,1.2470296621322632,1.199213624000549,1.130280613899231,1.2398451566696167,1.3143839836120603,1.1982592344284058,1.241870999336243,1.250478982925415,1.220832586288452,1.246405005455017,1.1558773517608645,1.2338241338729858,1.265561819076538,1.2070767879486084,1.2982558012008667,1.2824461460113523,1.324234127998352,1.204562783241272,1.2675511837005615,1.1574223041534424,1.2409663200378418,1.2735040187835691,1.168114185333252,1.1816041469573977,1.794283390045166,1.2707862854003906,1.3566069602966309,1.2956238985061646,1.3088538646697998,1.229856252670288,1.2283469438552856,1.2065696716308594,1.3121423721313477,1.3110313415527344,1.1923670768737793,1.2707544565200806,1.1843342781066897,1.369548201560974,1.300647854804993,1.226504921913147,1.3775311708450315,1.1583877801895142,1.216519117355347,1.2292542457580566,1.227389574050903,1.219655990600586,1.6603810787200928,1.290583610534668,1.2354332208633425,1.2540032863616943,1.0993478298187256,1.192788004875183,1.2112185955047607,1.30843186378479,1.313169002532959],\"y0\":\" \",\"yaxis\":\"y6\",\"type\":\"box\"},{\"alignmentgroup\":\"True\",\"hovertemplate\":\"method=STGCN<br>inter_method=linear<br>RecurrentGCN=GConvGRU<br>mrate=%{x}<br>mse=%{y}<extra></extra>\",\"legendgroup\":\"STGCN\",\"marker\":{\"color\":\"#636efa\"},\"name\":\"STGCN\",\"notched\":false,\"offsetgroup\":\"STGCN\",\"orientation\":\"v\",\"showlegend\":false,\"x\":[0.3,0.4,0.5,0.6,0.3,0.4,0.5,0.6,0.3,0.4,0.5,0.6,0.3,0.4,0.5,0.6,0.3,0.4,0.5,0.6,0.3,0.4,0.5,0.6,0.3,0.4,0.5,0.6,0.3,0.4,0.5,0.6,0.3,0.4,0.5,0.6,0.3,0.4,0.5,0.6,0.3,0.4,0.5,0.6,0.3,0.4,0.5,0.6,0.3,0.4,0.5,0.6,0.3,0.4,0.5,0.6,0.3,0.4,0.5,0.6,0.3,0.4,0.5,0.6,0.3,0.4,0.5,0.6,0.3,0.4,0.5,0.6,0.3,0.4,0.5,0.6,0.3,0.4,0.5,0.6,0.3,0.4,0.5,0.6,0.3,0.4,0.5,0.6,0.3,0.4,0.5,0.6,0.3,0.4,0.5,0.6,0.3,0.4,0.5,0.6,0.3,0.4,0.5,0.6,0.3,0.4,0.5,0.6,0.3,0.4,0.5,0.6,0.3,0.4,0.5,0.6,0.3,0.4,0.5,0.6],\"x0\":\" \",\"xaxis\":\"x3\",\"y\":[1.2402609586715698,1.345976948738098,1.3285977840423584,1.2944886684417725,1.2603548765182495,1.3149577379226685,1.3293273448944092,1.2450082302093506,1.2806556224822998,1.4376564025878906,1.1491540670394895,1.2343199253082275,1.606587529182434,1.2549045085906982,1.3190995454788208,1.1311752796173096,1.5529484748840332,1.4864728450775146,1.4316633939743042,1.298062801361084,1.6570539474487305,1.2150499820709229,1.409030556678772,1.2227126359939575,1.3674198389053345,1.4562230110168457,1.232163667678833,1.277312159538269,1.5752224922180176,1.4537568092346191,1.3492878675460815,1.3566275835037231,1.2437045574188232,1.3537167310714722,1.461910605430603,1.2330032587051392,1.2668348550796509,1.3372246026992798,1.5031057596206665,1.1434533596038818,1.4991666078567505,1.386856198310852,1.3371732234954834,1.265145182609558,1.2501046657562256,1.610219955444336,1.3069552183151243,1.2249926328659058,1.3300600051879885,1.484548807144165,1.4371259212493896,1.397657871246338,1.6827776432037354,1.7390402555465698,1.4309241771697998,1.3055791854858398,1.6726423501968384,1.2684797048568726,1.3644486665725708,1.2587473392486572,1.3400355577468872,1.6579723358154297,1.2857965230941772,1.3611775636672974,1.3119601011276243,1.371105670928955,1.262957215309143,1.237634301185608,1.826651096343994,1.3549082279205322,1.2741671800613403,1.493988037109375,1.685412883758545,1.1886374950408936,1.577298283576965,1.2028909921646118,1.3319568634033203,1.27477765083313,1.1447798013687134,1.462259292602539,1.253413438796997,1.306566834449768,1.4246090650558472,1.3545856475830078,1.522284984588623,1.5641824007034302,1.3491714000701904,1.3060029745101929,1.2858500480651855,1.6351377964019775,1.227916598320007,1.3639451265335083,1.2867562770843506,1.459639310836792,1.4277070760726929,1.339276671409607,1.3686378002166748,1.3335723876953125,1.3571056127548218,1.3230984210968018,1.3805686235427856,1.369823336601257,1.3301599025726318,1.280668020248413,1.7112154960632324,1.3277437686920166,1.3925137519836426,1.31817364692688,1.429413080215454,1.3538132905960083,1.2831206321716309,1.226662516593933,1.5162944793701172,1.4786601066589355,1.20307719707489,1.298655390739441,1.6041254997253418,1.3502448797225952,1.3838317394256592,1.2458622455596924],\"y0\":\" \",\"yaxis\":\"y3\",\"type\":\"box\"},{\"alignmentgroup\":\"True\",\"hovertemplate\":\"method=STGCN<br>inter_method=linear<br>RecurrentGCN=DCRNN<br>mrate=%{x}<br>mse=%{y}<extra></extra>\",\"legendgroup\":\"STGCN\",\"marker\":{\"color\":\"#636efa\"},\"name\":\"STGCN\",\"notched\":false,\"offsetgroup\":\"STGCN\",\"orientation\":\"v\",\"showlegend\":false,\"x\":[0.3,0.4,0.5,0.6,0.3,0.4,0.5,0.6,0.3,0.4,0.5,0.6,0.3,0.4,0.5,0.6,0.3,0.4,0.5,0.6,0.3,0.4,0.5,0.6,0.3,0.4,0.5,0.6,0.3,0.4,0.5,0.6,0.3,0.4,0.5,0.6,0.3,0.4,0.5,0.6,0.3,0.4,0.5,0.6,0.3,0.4,0.5,0.6,0.3,0.4,0.5,0.6,0.3,0.4,0.5,0.6,0.3,0.4,0.5,0.6,0.3,0.4,0.5,0.6,0.3,0.4,0.5,0.6,0.3,0.4,0.5,0.6,0.3,0.4,0.5,0.6,0.3,0.4,0.5,0.6,0.3,0.4,0.5,0.6,0.3,0.4,0.5,0.6,0.3,0.4,0.5,0.6,0.3,0.4,0.5,0.6,0.3,0.4,0.5,0.6,0.3,0.4,0.5,0.6,0.3,0.4,0.5,0.6,0.3,0.4,0.5,0.6,0.3,0.4,0.5,0.6,0.3,0.4,0.5,0.6],\"x0\":\" \",\"xaxis\":\"x4\",\"y\":[1.2273216247558594,1.276553511619568,1.2093790769577026,1.2000731229782104,1.2209677696228027,1.2163769006729126,1.2446306943893433,1.3449057340621948,1.197542667388916,1.3202383518218994,1.2764910459518433,1.3125437498092651,1.201251745223999,1.2420055866241455,1.308721899986267,1.361621379852295,1.2734874486923218,1.2692866325378418,1.3228697776794434,1.1926138401031494,1.2005480527877808,1.2498383522033691,1.2483052015304563,1.2796097993850708,1.253172755241394,1.2627674341201782,1.2712758779525757,1.1662611961364746,1.2360727787017822,1.226504921913147,1.3075711727142334,1.3488513231277466,1.2426788806915283,1.2378168106079102,1.3224446773529053,1.2574825286865234,1.251126408576965,1.2449579238891602,1.2609055042266846,1.3367055654525757,1.2550048828125,1.2510576248168943,1.2348843812942505,1.2619348764419556,1.2112140655517578,1.2478595972061155,1.2035119533538818,1.2258009910583496,1.2326316833496094,1.2139358520507812,1.2628414630889893,1.2639079093933103,1.2567325830459597,1.2612730264663696,1.3332760334014893,1.223721981048584,1.2626354694366455,1.2615537643432615,1.2795392274856567,1.246964693069458,1.2091922760009766,1.2047836780548096,1.2220350503921509,1.2550804615020752,1.246353268623352,1.2253631353378296,1.251775145530701,1.35164213180542,1.2493818998336792,1.26123309135437,1.2658772468566897,1.2622281312942505,1.327878475189209,1.2147718667984009,1.2629228830337524,1.2793928384780884,1.2186099290847778,1.240029215812683,1.26810884475708,1.305751085281372,1.2363216876983645,1.2394362688064575,1.2097846269607544,1.2435685396194458,1.1677086353302002,1.173974633216858,1.2234784364700315,1.226798176765442,1.2128195762634275,1.2070995569229126,1.269390344619751,1.2849873304367063,1.2131835222244265,1.235784888267517,1.275665283203125,1.2019864320755005,1.22306489944458,1.248303771018982,1.2712547779083252,1.3065223693847656,1.23939311504364,1.2698224782943726,1.2585582733154297,1.3032629489898682,1.2717247009277344,1.2746225595474243,1.2213590145111084,1.2890775203704834,1.2418935298919678,1.248144268989563,1.2726508378982544,1.270376682281494,1.198130488395691,1.2530230283737185,1.210652232170105,1.303897261619568,1.2167682647705078,1.1954712867736816,1.2784793376922607,1.2693853378295898],\"y0\":\" \",\"yaxis\":\"y4\",\"type\":\"box\"},{\"alignmentgroup\":\"True\",\"hovertemplate\":\"method=STGCN<br>inter_method=nearest<br>RecurrentGCN=GConvGRU<br>mrate=%{x}<br>mse=%{y}<extra></extra>\",\"legendgroup\":\"STGCN\",\"marker\":{\"color\":\"#636efa\"},\"name\":\"STGCN\",\"notched\":false,\"offsetgroup\":\"STGCN\",\"orientation\":\"v\",\"showlegend\":false,\"x\":[0.3,0.4,0.5,0.6,0.3,0.4,0.5,0.6,0.3,0.4,0.5,0.6,0.3,0.4,0.5,0.6,0.3,0.4,0.5,0.6,0.3,0.4,0.5,0.6,0.3,0.4,0.5,0.6,0.3,0.4,0.5,0.6,0.3,0.4,0.5,0.6,0.3,0.4,0.5,0.6,0.3,0.4,0.5,0.6,0.3,0.4,0.5,0.6,0.3,0.4,0.5,0.6,0.3,0.4,0.5,0.6,0.3,0.4,0.5,0.6,0.3,0.4,0.5,0.6,0.3,0.4,0.5,0.6,0.3,0.4,0.5,0.6,0.3,0.4,0.5,0.6,0.3,0.4,0.5,0.6,0.3,0.4,0.5,0.6,0.3,0.4,0.5,0.6,0.3,0.4,0.5,0.6,0.3,0.4,0.5,0.6,0.3,0.4,0.5,0.6,0.3,0.4,0.5,0.6,0.3,0.4,0.5,0.6,0.3,0.4,0.5,0.6,0.3,0.4,0.5,0.6,0.3,0.4,0.5,0.6],\"x0\":\" \",\"xaxis\":\"x\",\"y\":[1.2395256757736206,1.361142873764038,1.4016411304473877,1.3912705183029177,1.6505662202835083,1.268496036529541,1.3542946577072144,1.1406644582748413,1.2661795616149902,1.3166366815567017,1.2353153228759766,1.2242193222045898,1.2057713270187378,1.344321608543396,1.2710556983947754,1.1572767496109009,1.2433710098266602,1.2497494220733645,1.3436789512634275,1.3536138534545898,1.4770339727401731,1.2935539484024048,1.3403135538101196,1.2870107889175415,1.6256661415100098,1.396576166152954,1.3565505743026731,1.3459278345108032,1.1386785507202148,1.343097448348999,1.2678382396697998,1.4159005880355835,1.1725512742996216,1.3196053504943848,1.6580604314804075,1.320912480354309,1.3055026531219482,1.3384665250778198,1.3673560619354248,1.7619757652282717,1.6011072397232056,1.3112642765045166,1.251287579536438,1.4116305112838743,1.2690199613571167,1.2113792896270752,1.4052077531814575,1.3918756246566772,1.381506323814392,1.4502768516540527,1.3442126512527466,1.4545189142227173,1.0988394021987915,1.5260690450668335,1.2827006578445437,1.3792564868927002,1.4004416465759275,1.740432858467102,1.3203582763671875,1.1906782388687134,1.5442328453063965,1.2557439804077148,1.2894086837768557,1.279975414276123,1.4554522037506104,1.5051900148391724,1.4455342292785645,1.2350656986236572,1.47782564163208,1.409595012664795,1.6200188398361206,1.3874467611312866,1.365366816520691,1.1646299362182615,1.1922109127044678,1.2877321243286133,1.5739539861679075,1.0942373275756836,1.362336277961731,1.310132384300232,1.1902843713760376,1.2629458904266355,1.1436409950256348,1.4102966785430908,1.3964046239852903,1.2708885669708252,1.3431220054626465,1.253268122673035,1.1668038368225098,1.663545846939087,1.2272617816925049,1.2841593027114868,1.3684672117233276,1.268770694732666,1.436764121055603,1.365365505218506,1.2714215517044067,1.377063512802124,1.3211121559143066,1.2396347522735596,1.5690654516220093,1.2026643753051758,1.43107271194458,1.2542766332626345,1.3456850051879885,1.5547430515289309,1.40049147605896,1.3726990222930908,1.3427647352218628,1.1465133428573608,1.3190733194351196,1.2565072774887085,1.2600765228271484,1.3131920099258425,1.183578372001648,1.302727222442627,1.3323514461517334,1.3353617191314695,1.2983144521713257,1.3356553316116333],\"y0\":\" \",\"yaxis\":\"y\",\"type\":\"box\"},{\"alignmentgroup\":\"True\",\"hovertemplate\":\"method=STGCN<br>inter_method=nearest<br>RecurrentGCN=DCRNN<br>mrate=%{x}<br>mse=%{y}<extra></extra>\",\"legendgroup\":\"STGCN\",\"marker\":{\"color\":\"#636efa\"},\"name\":\"STGCN\",\"notched\":false,\"offsetgroup\":\"STGCN\",\"orientation\":\"v\",\"showlegend\":false,\"x\":[0.3,0.4,0.5,0.6,0.3,0.4,0.5,0.6,0.3,0.4,0.5,0.6,0.3,0.4,0.5,0.6,0.3,0.4,0.5,0.6,0.3,0.4,0.5,0.6,0.3,0.4,0.5,0.6,0.3,0.4,0.5,0.6,0.3,0.4,0.5,0.6,0.3,0.4,0.5,0.6,0.3,0.4,0.5,0.6,0.3,0.4,0.5,0.6,0.3,0.4,0.5,0.6,0.3,0.4,0.5,0.6,0.3,0.4,0.5,0.6,0.3,0.4,0.5,0.6,0.3,0.4,0.5,0.6,0.3,0.4,0.5,0.6,0.3,0.4,0.5,0.6,0.3,0.4,0.5,0.6,0.3,0.4,0.5,0.6,0.3,0.4,0.5,0.6,0.3,0.4,0.5,0.6,0.3,0.4,0.5,0.6,0.3,0.4,0.5,0.6,0.3,0.4,0.5,0.6,0.3,0.4,0.5,0.6,0.3,0.4,0.5,0.6,0.3,0.4,0.5,0.6,0.3,0.4,0.5,0.6],\"x0\":\" \",\"xaxis\":\"x2\",\"y\":[1.1982523202896118,1.242854356765747,1.2315438985824585,1.2888708114624023,1.2032495737075806,1.184617280960083,1.1966878175735474,1.2594512701034546,1.254888653755188,1.2463480234146118,1.2712935209274292,1.2595677375793457,1.2453744411468506,1.265876293182373,1.2402242422103882,1.203463792800903,1.274155855178833,1.2436842918395996,1.2232723236083984,1.280619978904724,1.1726428270339966,1.2463281154632568,1.3262202739715576,1.2911020517349243,1.2613219022750854,1.2612544298171997,1.218722224235535,1.312078595161438,1.3154715299606323,1.1968190670013428,1.2760939598083496,1.279106378555298,1.2274693250656128,1.2808328866958618,1.2647590637207031,1.1951773166656494,1.227415919303894,1.2035084962844849,1.2597585916519165,1.3447035551071167,1.1948379278182983,1.1806014776229858,1.2337210178375244,1.2860784530639648,1.201682448387146,1.258231520652771,1.3111141920089722,1.2447470426559448,1.2072936296463013,1.2110580205917358,1.2922979593276978,1.270731806755066,1.295073390007019,1.232673406600952,1.2382283210754397,1.1587305068969729,1.2026684284210205,1.2378575801849363,1.3127087354660034,1.232288479804993,1.2348599433898926,1.2076125144958496,1.3133350610733032,1.2611064910888672,1.2414302825927734,1.2903279066085815,1.2732429504394531,1.3345130681991575,1.21261465549469,1.178432822227478,1.1778995990753174,1.295086145401001,1.2290834188461304,1.2542582750320437,1.2764320373535156,1.2393289804458618,1.27564537525177,1.246888279914856,1.2842527627944946,1.2320038080215454,1.2316421270370483,1.2552779912948608,1.2165734767913818,1.2167035341262815,1.2057331800460815,1.2672408819198608,1.2402896881103516,1.2145625352859497,1.1972025632858276,1.1927111148834229,1.2048869132995603,1.2623581886291504,1.2417025566101074,1.230829119682312,1.2342056035995483,1.306879997253418,1.2760368585586548,1.194735765457153,1.2189537286758425,1.2049028873443604,1.191801905632019,1.245419979095459,1.2856987714767456,1.2740367650985718,1.163807392120361,1.241521954536438,1.2370332479476929,1.222909688949585,1.2359607219696045,1.2253276109695437,1.216927409172058,1.2596182823181152,1.214951753616333,1.2981992959976196,1.3204737901687622,1.257894515991211,1.322564959526062,1.2818437814712524,1.2847944498062134,1.287232518196106],\"y0\":\" \",\"yaxis\":\"y2\",\"type\":\"box\"},{\"alignmentgroup\":\"True\",\"hovertemplate\":\"method=IT-STGCN<br>inter_method=cubic<br>RecurrentGCN=GConvGRU<br>mrate=%{x}<br>mse=%{y}<extra></extra>\",\"legendgroup\":\"IT-STGCN\",\"marker\":{\"color\":\"#EF553B\"},\"name\":\"IT-STGCN\",\"notched\":false,\"offsetgroup\":\"IT-STGCN\",\"orientation\":\"v\",\"showlegend\":true,\"x\":[0.3,0.4,0.5,0.6,0.3,0.4,0.5,0.6,0.3,0.4,0.5,0.6,0.3,0.4,0.5,0.6,0.3,0.4,0.5,0.6,0.3,0.4,0.5,0.6,0.3,0.4,0.5,0.6,0.3,0.4,0.5,0.6,0.3,0.4,0.5,0.6,0.3,0.4,0.5,0.6,0.3,0.4,0.5,0.6,0.3,0.4,0.5,0.6,0.3,0.4,0.5,0.6,0.3,0.4,0.5,0.6,0.3,0.4,0.5,0.6,0.3,0.4,0.5,0.6,0.3,0.4,0.5,0.6,0.3,0.4,0.5,0.6,0.3,0.4,0.5,0.6,0.3,0.4,0.5,0.6,0.3,0.4,0.5,0.6,0.3,0.4,0.5,0.6,0.3,0.4,0.5,0.6,0.3,0.4,0.5,0.6,0.3,0.4,0.5,0.6,0.3,0.4,0.5,0.6,0.3,0.4,0.5,0.6,0.3,0.4,0.5,0.6,0.3,0.4,0.5,0.6,0.3,0.4,0.5,0.6],\"x0\":\" \",\"xaxis\":\"x5\",\"y\":[1.2608650922775269,1.406479001045227,1.2498234510421753,1.205458164215088,1.257005214691162,1.2420713901519775,1.2612930536270142,1.2602311372756958,1.5070563554763794,1.371773600578308,1.5938414335250854,1.4984307289123535,1.5814319849014282,1.3668519258499146,1.467847228050232,1.284157156944275,1.4538768529891968,1.3923717737197876,1.273911714553833,1.3906593322753906,1.1495572328567505,1.2032886743545532,1.2483551502227783,1.3205941915512085,1.2695624828338623,1.3263195753097534,1.2760483026504517,1.4390689134597778,1.3828020095825195,1.4784319400787354,1.30849289894104,1.3167543411254885,1.2541292905807495,1.5827538967132568,1.411952257156372,1.399921417236328,1.4287954568862915,1.57362163066864,1.3440812826156616,1.4227033853530884,1.4927619695663452,1.3337798118591309,1.2930424213409424,1.338703989982605,1.3063435554504397,1.2339518070220947,1.1961902379989624,1.3329098224639893,1.2800222635269165,1.216895341873169,2.037517547607422,1.4609168767929075,1.337603211402893,1.5661600828170776,1.2358875274658203,1.302615761756897,1.2513381242752075,1.3446872234344482,1.2628098726272583,1.3818225860595703,1.324591040611267,1.2376110553741455,1.3413057327270508,1.2729929685592651,1.2379119396209717,1.371319055557251,1.308172345161438,1.2186723947525024,1.1982070207595823,1.3155851364135742,1.39371657371521,1.4183367490768433,1.4818586111068726,1.491225004196167,1.9241394996643064,1.090681791305542,1.290860652923584,1.331465244293213,1.38950777053833,1.3782795667648315,1.49708890914917,1.5566548109054563,1.3553177118301392,1.3649393320083618,1.2439308166503906,1.371485948562622,1.4795875549316406,1.2700124979019165,1.2713708877563477,1.2598859071731567,1.3467007875442505,1.2593947649002075,1.4050297737121582,1.216832160949707,1.1956487894058228,1.3931986093521118,1.3849319219589231,1.2517151832580566,1.4834738969802856,1.3284425735473633,1.3354790210723877,1.3920942544937134,1.246143460273743,1.2664661407470703,1.3461222648620603,1.2950477600097656,1.24740731716156,1.3992408514022827,1.2386540174484253,1.5294103622436523,1.304272174835205,1.356393337249756,1.3220354318618774,1.2616952657699585,1.6333247423171997,1.2805216312408447,1.323517680168152,1.251265048980713,1.322586178779602,1.1962388753890991],\"y0\":\" \",\"yaxis\":\"y5\",\"type\":\"box\"},{\"alignmentgroup\":\"True\",\"hovertemplate\":\"method=IT-STGCN<br>inter_method=cubic<br>RecurrentGCN=DCRNN<br>mrate=%{x}<br>mse=%{y}<extra></extra>\",\"legendgroup\":\"IT-STGCN\",\"marker\":{\"color\":\"#EF553B\"},\"name\":\"IT-STGCN\",\"notched\":false,\"offsetgroup\":\"IT-STGCN\",\"orientation\":\"v\",\"showlegend\":false,\"x\":[0.3,0.4,0.5,0.6,0.3,0.4,0.5,0.6,0.3,0.4,0.5,0.6,0.3,0.4,0.5,0.6,0.3,0.4,0.5,0.6,0.3,0.4,0.5,0.6,0.3,0.4,0.5,0.6,0.3,0.4,0.5,0.6,0.3,0.4,0.5,0.6,0.3,0.4,0.5,0.6,0.3,0.4,0.5,0.6,0.3,0.4,0.5,0.6,0.3,0.4,0.5,0.6,0.3,0.4,0.5,0.6,0.3,0.4,0.5,0.6,0.3,0.4,0.5,0.6,0.3,0.4,0.5,0.6,0.3,0.4,0.5,0.6,0.3,0.4,0.5,0.6,0.3,0.4,0.5,0.6,0.3,0.4,0.5,0.6,0.3,0.4,0.5,0.6,0.3,0.4,0.5,0.6,0.3,0.4,0.5,0.6,0.3,0.4,0.5,0.6,0.3,0.4,0.5,0.6,0.3,0.4,0.5,0.6,0.3,0.4,0.5,0.6,0.3,0.4,0.5,0.6,0.3,0.4,0.5,0.6],\"x0\":\" \",\"xaxis\":\"x6\",\"y\":[1.1912024021148682,1.2357925176620483,1.25078022480011,1.2411240339279177,1.1653013229370115,1.2302900552749634,1.23322856426239,1.2235815525054932,1.2242497205734253,1.304371953010559,1.2378791570663452,1.2483432292938232,1.2157102823257446,1.2078378200531006,1.2389401197433472,1.2532576322555542,1.260928511619568,1.282861351966858,1.270779013633728,1.258992075920105,1.2417610883712769,1.2302138805389404,1.2248263359069824,1.309312105178833,1.1906003952026367,1.1968481540679932,1.2390648126602173,1.2229653596878052,1.2022440433502195,1.248232364654541,1.231472730636597,1.2356235980987549,1.193954348564148,1.3150477409362793,1.2659655809402466,1.2734202146530151,1.261750102043152,1.2321903705596924,1.2310640811920166,1.2633460760116575,1.2691012620925903,1.2270680665969849,1.2121881246566772,1.3212037086486816,1.2397429943084717,1.2213488817214966,1.2854825258255005,1.2556754350662231,1.2772152423858645,1.24638569355011,1.2262803316116333,1.2689167261123655,1.2376749515533447,1.2216717004776,1.2790085077285769,1.233160376548767,1.1787924766540527,1.2066168785095217,1.287270426750183,1.280753254890442,1.2220489978790283,1.29670512676239,1.2330275774002075,1.207236409187317,1.2429159879684448,1.3024402856826782,1.225020170211792,1.2104822397232056,1.2402982711791992,1.225723147392273,1.215578556060791,1.249848484992981,1.2235512733459473,1.251718044281006,1.256455898284912,1.2970707416534424,1.244586706161499,1.2237540483474731,1.2210015058517456,1.226876735687256,1.2418878078460691,1.2386153936386108,1.2339123487472534,1.2997653484344482,1.2278841733932495,1.2574204206466677,1.207358956336975,1.2153197526931765,1.2222940921783447,1.2654293775558472,1.2412980794906616,1.269175410270691,1.2244820594787598,1.2094576358795166,1.2218477725982666,1.226325750350952,1.2086604833602903,1.3219656944274902,1.260196328163147,1.2628726959228516,1.225743055343628,1.176032543182373,1.2478854656219482,1.2631725072860718,1.23123300075531,1.2382017374038696,1.264547348022461,1.1948448419570925,1.2011141777038574,1.165032982826233,1.2176655530929563,1.2603009939193726,1.2737154960632324,1.2990522384643557,1.2838068008422852,1.2512454986572266,1.244591236114502,1.2030363082885742,1.2628432512283323,1.2497808933258057],\"y0\":\" \",\"yaxis\":\"y6\",\"type\":\"box\"},{\"alignmentgroup\":\"True\",\"hovertemplate\":\"method=IT-STGCN<br>inter_method=linear<br>RecurrentGCN=GConvGRU<br>mrate=%{x}<br>mse=%{y}<extra></extra>\",\"legendgroup\":\"IT-STGCN\",\"marker\":{\"color\":\"#EF553B\"},\"name\":\"IT-STGCN\",\"notched\":false,\"offsetgroup\":\"IT-STGCN\",\"orientation\":\"v\",\"showlegend\":false,\"x\":[0.3,0.4,0.5,0.6,0.3,0.4,0.5,0.6,0.3,0.4,0.5,0.6,0.3,0.4,0.5,0.6,0.3,0.4,0.5,0.6,0.3,0.4,0.5,0.6,0.3,0.4,0.5,0.6,0.3,0.4,0.5,0.6,0.3,0.4,0.5,0.6,0.3,0.4,0.5,0.6,0.3,0.4,0.5,0.6,0.3,0.4,0.5,0.6,0.3,0.4,0.5,0.6,0.3,0.4,0.5,0.6,0.3,0.4,0.5,0.6,0.3,0.4,0.5,0.6,0.3,0.4,0.5,0.6,0.3,0.4,0.5,0.6,0.3,0.4,0.5,0.6,0.3,0.4,0.5,0.6,0.3,0.4,0.5,0.6,0.3,0.4,0.5,0.6,0.3,0.4,0.5,0.6,0.3,0.4,0.5,0.6,0.3,0.4,0.5,0.6,0.3,0.4,0.5,0.6,0.3,0.4,0.5,0.6,0.3,0.4,0.5,0.6,0.3,0.4,0.5,0.6,0.3,0.4,0.5,0.6],\"x0\":\" \",\"xaxis\":\"x3\",\"y\":[1.3310102224349976,1.1864416599273682,1.3307541608810425,1.3317991495132446,1.5194218158721924,1.4017460346221924,1.2534730434417725,1.4375916719436646,1.340955138206482,1.492411732673645,1.4290437698364258,1.3465527296066284,1.1999505758285522,1.2943949699401855,1.2179325819015503,1.33050274848938,1.2923177480697632,1.414453387260437,1.2736141681671145,1.293114185333252,1.3955641984939575,2.224423408508301,1.2529553174972534,1.331747055053711,1.3495951890945437,1.4825739860534668,1.0653016567230225,1.3409039974212646,1.4197866916656494,1.1837821006774902,1.4614099264144895,1.2879438400268557,1.333415389060974,1.2995359897613523,1.2876012325286863,1.2929679155349731,1.5133304595947266,1.4170751571655271,1.3522568941116333,1.5257935523986816,1.325239896774292,1.602719783782959,1.37991201877594,1.4994035959243774,1.340369701385498,1.3497295379638672,1.313725829124451,1.336803913116455,1.1843361854553225,1.2773033380508425,1.2973676919937134,1.2810397148132324,1.2352718114852903,1.296445608139038,1.2696062326431274,1.310531735420227,1.4975265264511108,1.3936915397644043,1.2305192947387695,1.4426844120025637,1.2357896566390991,1.2609657049179075,1.4335598945617676,1.4891986846923828,1.31481671333313,1.3655277490615845,1.4318491220474243,1.3000943660736084,1.2735185623168943,1.3683044910430908,1.3019614219665527,1.3467273712158203,1.340894103050232,1.2396106719970703,1.3246212005615234,1.3684266805648804,1.2904411554336548,1.2536590099334717,1.1589415073394775,1.2855923175811768,1.2922011613845823,1.2943040132522583,1.0993478298187256,1.4993171691894531,1.3877054452896118,1.2754204273223877,1.4552937746047974,1.275190830230713,1.3216285705566406,1.4803943634033203,1.506198525428772,1.2973638772964478,1.420866847038269,1.2421393394470217,1.2538121938705444,1.2730427980422974,1.2151881456375122,1.312755465507507,1.320846438407898,1.303090214729309,1.3903034925460815,1.3015409708023071,1.901484727859497,1.512881636619568,1.239816427230835,1.5047965049743652,1.31058931350708,1.2904821634292605,1.1584224700927734,1.311726450920105,1.3927619457244873,1.3439452648162842,1.3167284727096558,1.496773600578308,1.2317254543304443,1.382314920425415,1.2836748361587524,1.2988266944885254,1.1835869550704956,1.3366186618804932],\"y0\":\" \",\"yaxis\":\"y3\",\"type\":\"box\"},{\"alignmentgroup\":\"True\",\"hovertemplate\":\"method=IT-STGCN<br>inter_method=linear<br>RecurrentGCN=DCRNN<br>mrate=%{x}<br>mse=%{y}<extra></extra>\",\"legendgroup\":\"IT-STGCN\",\"marker\":{\"color\":\"#EF553B\"},\"name\":\"IT-STGCN\",\"notched\":false,\"offsetgroup\":\"IT-STGCN\",\"orientation\":\"v\",\"showlegend\":false,\"x\":[0.3,0.4,0.5,0.6,0.3,0.4,0.5,0.6,0.3,0.4,0.5,0.6,0.3,0.4,0.5,0.6,0.3,0.4,0.5,0.6,0.3,0.4,0.5,0.6,0.3,0.4,0.5,0.6,0.3,0.4,0.5,0.6,0.3,0.4,0.5,0.6,0.3,0.4,0.5,0.6,0.3,0.4,0.5,0.6,0.3,0.4,0.5,0.6,0.3,0.4,0.5,0.6,0.3,0.4,0.5,0.6,0.3,0.4,0.5,0.6,0.3,0.4,0.5,0.6,0.3,0.4,0.5,0.6,0.3,0.4,0.5,0.6,0.3,0.4,0.5,0.6,0.3,0.4,0.5,0.6,0.3,0.4,0.5,0.6,0.3,0.4,0.5,0.6,0.3,0.4,0.5,0.6,0.3,0.4,0.5,0.6,0.3,0.4,0.5,0.6,0.3,0.4,0.5,0.6,0.3,0.4,0.5,0.6,0.3,0.4,0.5,0.6,0.3,0.4,0.5,0.6,0.3,0.4,0.5,0.6],\"x0\":\" \",\"xaxis\":\"x4\",\"y\":[1.1782180070877075,1.2231460809707642,1.2609076499938965,1.1888480186462402,1.2052288055419922,1.288829684257507,1.244471549987793,1.222675919532776,1.2384108304977417,1.2055202722549438,1.2464367151260376,1.300361394882202,1.2259382009506226,1.2359460592269895,1.24492084980011,1.1660068035125732,1.244460940361023,1.2286726236343384,1.2079381942749023,1.2480800151824951,1.184807300567627,1.2931174039840698,1.2221434116363523,1.21226704120636,1.2306944131851196,1.2041641473770142,1.271966576576233,1.2667149305343628,1.2295700311660769,1.2538245916366575,1.1661208868026731,1.216080665588379,1.2694133520126345,1.1844035387039185,1.2485743761062622,1.274811029434204,1.1885664463043213,1.209648609161377,1.2530590295791626,1.1947274208068848,1.2549078464508057,1.2468438148498535,1.1998928785324097,1.1899737119674685,1.2344101667404177,1.280004858970642,1.2148057222366333,1.2372467517852783,1.2157223224639893,1.2048925161361694,1.271432638168335,1.260917901992798,1.2084301710128784,1.2716355323791504,1.2738462686538696,1.273576736450195,1.307334542274475,1.1640925407409668,1.2266441583633425,1.2429876327514648,1.2287589311599731,1.2187018394470217,1.1939330101013184,1.2606418132781982,1.2346631288528442,1.2396010160446167,1.291191339492798,1.227874517440796,1.212107539176941,1.249551773071289,1.229275465011597,1.212270736694336,1.212706208229065,1.2515833377838137,1.2539801597595217,1.3730205297470093,1.2291690111160278,1.2155494689941406,1.2142590284347534,1.274118185043335,1.2217992544174194,1.3235746622085571,1.2867780923843384,1.2524607181549072,1.1870392560958862,1.2256700992584229,1.2542922496795654,1.209389567375183,1.22766375541687,1.2442525625228882,1.1942883729934692,1.2601007223129272,1.2078495025634766,1.2067270278930664,1.1859771013259888,1.3035928010940552,1.2876505851745603,1.2673078775405884,1.2298542261123655,1.2486463785171509,1.243855595588684,1.2196608781814575,1.2177361249923706,1.201095700263977,1.2128132581710815,1.190260648727417,1.283410906791687,1.2122796773910522,1.1865826845169067,1.198514461517334,1.2287373542785645,1.2316043376922607,1.1976163387298584,1.178211331367493,1.175526738166809,1.3006690740585327,1.2372643947601318,1.2455357313156128,1.2456984519958496,1.2141366004943848],\"y0\":\" \",\"yaxis\":\"y4\",\"type\":\"box\"},{\"alignmentgroup\":\"True\",\"hovertemplate\":\"method=IT-STGCN<br>inter_method=nearest<br>RecurrentGCN=GConvGRU<br>mrate=%{x}<br>mse=%{y}<extra></extra>\",\"legendgroup\":\"IT-STGCN\",\"marker\":{\"color\":\"#EF553B\"},\"name\":\"IT-STGCN\",\"notched\":false,\"offsetgroup\":\"IT-STGCN\",\"orientation\":\"v\",\"showlegend\":false,\"x\":[0.3,0.4,0.5,0.6,0.3,0.4,0.5,0.6,0.3,0.4,0.5,0.6,0.3,0.4,0.5,0.6,0.3,0.4,0.5,0.6,0.3,0.4,0.5,0.6,0.3,0.4,0.5,0.6,0.3,0.4,0.5,0.6,0.3,0.4,0.5,0.6,0.3,0.4,0.5,0.6,0.3,0.4,0.5,0.6,0.3,0.4,0.5,0.6,0.3,0.4,0.5,0.6,0.3,0.4,0.5,0.6,0.3,0.4,0.5,0.6,0.3,0.4,0.5,0.6,0.3,0.4,0.5,0.6,0.3,0.4,0.5,0.6,0.3,0.4,0.5,0.6,0.3,0.4,0.5,0.6,0.3,0.4,0.5,0.6,0.3,0.4,0.5,0.6,0.3,0.4,0.5,0.6,0.3,0.4,0.5,0.6,0.3,0.4,0.5,0.6,0.3,0.4,0.5,0.6,0.3,0.4,0.5,0.6,0.3,0.4,0.5,0.6,0.3,0.4,0.5,0.6,0.3,0.4,0.5,0.6],\"x0\":\" \",\"xaxis\":\"x\",\"y\":[1.2500615119934082,1.1799261569976809,1.2750701904296875,1.2390421628952026,1.365225315093994,1.1260697841644287,1.6165900230407717,1.315092921257019,1.543074369430542,1.327049732208252,1.4399919509887695,1.4330041408538818,1.3073590993881226,1.2069377899169922,1.3887689113616943,1.334106206893921,1.2531733512878418,1.3642784357070925,1.3084211349487305,1.408684253692627,1.375462532043457,1.3893364667892456,1.2634117603302002,1.306212067604065,1.3449240922927856,1.4875116348266602,1.4199776649475098,1.2603143453598022,1.0920522212982178,1.2652724981307983,1.2800918817520142,1.3084638118743896,1.2866790294647217,1.889017105102539,1.225180983543396,1.4469462633132937,1.317378044128418,1.1607176065444946,1.2398085594177246,1.34404456615448,1.4006515741348269,1.395073175430298,1.4337297677993774,1.4510949850082395,1.471182942390442,1.4303663969039917,1.5924197435379028,1.7048169374465942,1.272107481956482,1.4108346700668335,1.2807011604309082,1.278402328491211,1.7034249305725098,1.4089010953903198,1.2302968502044678,1.4397608041763306,1.27657949924469,1.1446152925491333,1.3357906341552734,1.282681226730347,1.310508370399475,1.607040286064148,1.2637304067611694,1.3200026750564575,1.3040205240249634,1.5816220045089722,1.4158092737197876,1.4129725694656372,1.3424087762832642,1.2391680479049685,1.7592002153396606,1.435319423675537,1.291203498840332,1.316885232925415,1.3177410364151,1.3745652437210083,1.2657158374786377,1.4580905437469482,1.3518723249435425,1.3525010347366333,1.2482881546020508,1.4782006740570068,1.257535457611084,1.242153525352478,1.257925033569336,1.3564938306808472,1.2838255167007446,1.2704123258590698,1.266906976699829,1.494496464729309,1.1951619386672974,1.4537125825881958,1.260935664176941,1.1276862621307373,1.3001171350479126,1.2381428480148315,1.2939083576202393,1.2592898607254028,1.6937779188156128,1.4851824045181274,1.2952834367752075,1.3143868446350098,1.3141448497772217,1.3224892616271973,1.2689839601516724,1.2186981439590454,1.400465726852417,1.313960075378418,1.3095158338546753,1.3124622106552124,1.2823160886764526,1.400718331336975,1.3313809633255005,1.1948740482330322,1.2674795389175415,1.4399230480194092,1.3090468645095823,1.3675769567489624,1.285462498664856,1.8446470499038696],\"y0\":\" \",\"yaxis\":\"y\",\"type\":\"box\"},{\"alignmentgroup\":\"True\",\"hovertemplate\":\"method=IT-STGCN<br>inter_method=nearest<br>RecurrentGCN=DCRNN<br>mrate=%{x}<br>mse=%{y}<extra></extra>\",\"legendgroup\":\"IT-STGCN\",\"marker\":{\"color\":\"#EF553B\"},\"name\":\"IT-STGCN\",\"notched\":false,\"offsetgroup\":\"IT-STGCN\",\"orientation\":\"v\",\"showlegend\":false,\"x\":[0.3,0.4,0.5,0.6,0.3,0.4,0.5,0.6,0.3,0.4,0.5,0.6,0.3,0.4,0.5,0.6,0.3,0.4,0.5,0.6,0.3,0.4,0.5,0.6,0.3,0.4,0.5,0.6,0.3,0.4,0.5,0.6,0.3,0.4,0.5,0.6,0.3,0.4,0.5,0.6,0.3,0.4,0.5,0.6,0.3,0.4,0.5,0.6,0.3,0.4,0.5,0.6,0.3,0.4,0.5,0.6,0.3,0.4,0.5,0.6,0.3,0.4,0.5,0.6,0.3,0.4,0.5,0.6,0.3,0.4,0.5,0.6,0.3,0.4,0.5,0.6,0.3,0.4,0.5,0.6,0.3,0.4,0.5,0.6,0.3,0.4,0.5,0.6,0.3,0.4,0.5,0.6,0.3,0.4,0.5,0.6,0.3,0.4,0.5,0.6,0.3,0.4,0.5,0.6,0.3,0.4,0.5,0.6,0.3,0.4,0.5,0.6,0.3,0.4,0.5,0.6,0.3,0.4,0.5,0.6],\"x0\":\" \",\"xaxis\":\"x2\",\"y\":[1.2850960493087769,1.2387418746948242,1.250316858291626,1.255685329437256,1.2272757291793823,1.2197757959365845,1.20405113697052,1.2697877883911133,1.1943762302398682,1.2571579217910769,1.2498712539672852,1.231090784072876,1.2073715925216677,1.22973370552063,1.198948860168457,1.2892050743103027,1.2489800453186035,1.2648011445999146,1.231497049331665,1.189706802368164,1.2410677671432495,1.236295461654663,1.298543930053711,1.2125673294067385,1.232344388961792,1.2287606000900269,1.2474472522735596,1.2312310934066772,1.21297287940979,1.3061929941177368,1.2828364372253418,1.2621160745620728,1.2244939804077148,1.2358704805374146,1.2249000072479248,1.2630833387374878,1.2132017612457275,1.2353287935256958,1.242595672607422,1.2050905227661133,1.234058499336243,1.2671880722045898,1.2797608375549316,1.249194860458374,1.2242692708969116,1.2765016555786133,1.265236258506775,1.271398663520813,1.3045125007629397,1.250706434249878,1.2325328588485718,1.2323302030563354,1.2445414066314695,1.2348692417144775,1.2458441257476809,1.24941086769104,1.188832402229309,1.204910159111023,1.2370686531066897,1.247117519378662,1.2726367712020874,1.223786234855652,1.279449701309204,1.2761987447738647,1.2266408205032349,1.275695562362671,1.247581124305725,1.2298588752746582,1.2215737104415894,1.2492457628250122,1.2167466878890991,1.221232771873474,1.2078129053115845,1.30712890625,1.2363803386688232,1.266039490699768,1.2476043701171875,1.2410153150558472,1.2788184881210327,1.2798317670822144,1.23590087890625,1.2412363290786743,1.2639139890670776,1.2351380586624146,1.2513355016708374,1.1939618587493896,1.2455530166625977,1.258411526679993,1.1928467750549316,1.2443290948867798,1.265045404434204,1.2074642181396484,1.2989435195922852,1.2315092086791992,1.21021831035614,1.2450155019760132,1.2510496377944946,1.2670153379440308,1.2461642026901243,1.2442981004714966,1.234636902809143,1.2193948030471802,1.2433613538742063,1.1704611778259275,1.187817096710205,1.2490135431289673,1.2305854558944702,1.2304381132125854,1.2272260189056396,1.2563520669937134,1.288501262664795,1.3078197240829468,1.2543095350265503,1.2901830673217771,1.228973627090454,1.237259030342102,1.2354775667190552,1.1786061525344849,1.212376594543457,1.167455792427063],\"y0\":\" \",\"yaxis\":\"y2\",\"type\":\"box\"}],                        {\"template\":{\"data\":{\"histogram2dcontour\":[{\"type\":\"histogram2dcontour\",\"colorbar\":{\"outlinewidth\":0,\"ticks\":\"\"},\"colorscale\":[[0.0,\"#0d0887\"],[0.1111111111111111,\"#46039f\"],[0.2222222222222222,\"#7201a8\"],[0.3333333333333333,\"#9c179e\"],[0.4444444444444444,\"#bd3786\"],[0.5555555555555556,\"#d8576b\"],[0.6666666666666666,\"#ed7953\"],[0.7777777777777778,\"#fb9f3a\"],[0.8888888888888888,\"#fdca26\"],[1.0,\"#f0f921\"]]}],\"choropleth\":[{\"type\":\"choropleth\",\"colorbar\":{\"outlinewidth\":0,\"ticks\":\"\"}}],\"histogram2d\":[{\"type\":\"histogram2d\",\"colorbar\":{\"outlinewidth\":0,\"ticks\":\"\"},\"colorscale\":[[0.0,\"#0d0887\"],[0.1111111111111111,\"#46039f\"],[0.2222222222222222,\"#7201a8\"],[0.3333333333333333,\"#9c179e\"],[0.4444444444444444,\"#bd3786\"],[0.5555555555555556,\"#d8576b\"],[0.6666666666666666,\"#ed7953\"],[0.7777777777777778,\"#fb9f3a\"],[0.8888888888888888,\"#fdca26\"],[1.0,\"#f0f921\"]]}],\"heatmap\":[{\"type\":\"heatmap\",\"colorbar\":{\"outlinewidth\":0,\"ticks\":\"\"},\"colorscale\":[[0.0,\"#0d0887\"],[0.1111111111111111,\"#46039f\"],[0.2222222222222222,\"#7201a8\"],[0.3333333333333333,\"#9c179e\"],[0.4444444444444444,\"#bd3786\"],[0.5555555555555556,\"#d8576b\"],[0.6666666666666666,\"#ed7953\"],[0.7777777777777778,\"#fb9f3a\"],[0.8888888888888888,\"#fdca26\"],[1.0,\"#f0f921\"]]}],\"heatmapgl\":[{\"type\":\"heatmapgl\",\"colorbar\":{\"outlinewidth\":0,\"ticks\":\"\"},\"colorscale\":[[0.0,\"#0d0887\"],[0.1111111111111111,\"#46039f\"],[0.2222222222222222,\"#7201a8\"],[0.3333333333333333,\"#9c179e\"],[0.4444444444444444,\"#bd3786\"],[0.5555555555555556,\"#d8576b\"],[0.6666666666666666,\"#ed7953\"],[0.7777777777777778,\"#fb9f3a\"],[0.8888888888888888,\"#fdca26\"],[1.0,\"#f0f921\"]]}],\"contourcarpet\":[{\"type\":\"contourcarpet\",\"colorbar\":{\"outlinewidth\":0,\"ticks\":\"\"}}],\"contour\":[{\"type\":\"contour\",\"colorbar\":{\"outlinewidth\":0,\"ticks\":\"\"},\"colorscale\":[[0.0,\"#0d0887\"],[0.1111111111111111,\"#46039f\"],[0.2222222222222222,\"#7201a8\"],[0.3333333333333333,\"#9c179e\"],[0.4444444444444444,\"#bd3786\"],[0.5555555555555556,\"#d8576b\"],[0.6666666666666666,\"#ed7953\"],[0.7777777777777778,\"#fb9f3a\"],[0.8888888888888888,\"#fdca26\"],[1.0,\"#f0f921\"]]}],\"surface\":[{\"type\":\"surface\",\"colorbar\":{\"outlinewidth\":0,\"ticks\":\"\"},\"colorscale\":[[0.0,\"#0d0887\"],[0.1111111111111111,\"#46039f\"],[0.2222222222222222,\"#7201a8\"],[0.3333333333333333,\"#9c179e\"],[0.4444444444444444,\"#bd3786\"],[0.5555555555555556,\"#d8576b\"],[0.6666666666666666,\"#ed7953\"],[0.7777777777777778,\"#fb9f3a\"],[0.8888888888888888,\"#fdca26\"],[1.0,\"#f0f921\"]]}],\"mesh3d\":[{\"type\":\"mesh3d\",\"colorbar\":{\"outlinewidth\":0,\"ticks\":\"\"}}],\"scatter\":[{\"fillpattern\":{\"fillmode\":\"overlay\",\"size\":10,\"solidity\":0.2},\"type\":\"scatter\"}],\"parcoords\":[{\"type\":\"parcoords\",\"line\":{\"colorbar\":{\"outlinewidth\":0,\"ticks\":\"\"}}}],\"scatterpolargl\":[{\"type\":\"scatterpolargl\",\"marker\":{\"colorbar\":{\"outlinewidth\":0,\"ticks\":\"\"}}}],\"bar\":[{\"error_x\":{\"color\":\"#2a3f5f\"},\"error_y\":{\"color\":\"#2a3f5f\"},\"marker\":{\"line\":{\"color\":\"#E5ECF6\",\"width\":0.5},\"pattern\":{\"fillmode\":\"overlay\",\"size\":10,\"solidity\":0.2}},\"type\":\"bar\"}],\"scattergeo\":[{\"type\":\"scattergeo\",\"marker\":{\"colorbar\":{\"outlinewidth\":0,\"ticks\":\"\"}}}],\"scatterpolar\":[{\"type\":\"scatterpolar\",\"marker\":{\"colorbar\":{\"outlinewidth\":0,\"ticks\":\"\"}}}],\"histogram\":[{\"marker\":{\"pattern\":{\"fillmode\":\"overlay\",\"size\":10,\"solidity\":0.2}},\"type\":\"histogram\"}],\"scattergl\":[{\"type\":\"scattergl\",\"marker\":{\"colorbar\":{\"outlinewidth\":0,\"ticks\":\"\"}}}],\"scatter3d\":[{\"type\":\"scatter3d\",\"line\":{\"colorbar\":{\"outlinewidth\":0,\"ticks\":\"\"}},\"marker\":{\"colorbar\":{\"outlinewidth\":0,\"ticks\":\"\"}}}],\"scattermapbox\":[{\"type\":\"scattermapbox\",\"marker\":{\"colorbar\":{\"outlinewidth\":0,\"ticks\":\"\"}}}],\"scatterternary\":[{\"type\":\"scatterternary\",\"marker\":{\"colorbar\":{\"outlinewidth\":0,\"ticks\":\"\"}}}],\"scattercarpet\":[{\"type\":\"scattercarpet\",\"marker\":{\"colorbar\":{\"outlinewidth\":0,\"ticks\":\"\"}}}],\"carpet\":[{\"aaxis\":{\"endlinecolor\":\"#2a3f5f\",\"gridcolor\":\"white\",\"linecolor\":\"white\",\"minorgridcolor\":\"white\",\"startlinecolor\":\"#2a3f5f\"},\"baxis\":{\"endlinecolor\":\"#2a3f5f\",\"gridcolor\":\"white\",\"linecolor\":\"white\",\"minorgridcolor\":\"white\",\"startlinecolor\":\"#2a3f5f\"},\"type\":\"carpet\"}],\"table\":[{\"cells\":{\"fill\":{\"color\":\"#EBF0F8\"},\"line\":{\"color\":\"white\"}},\"header\":{\"fill\":{\"color\":\"#C8D4E3\"},\"line\":{\"color\":\"white\"}},\"type\":\"table\"}],\"barpolar\":[{\"marker\":{\"line\":{\"color\":\"#E5ECF6\",\"width\":0.5},\"pattern\":{\"fillmode\":\"overlay\",\"size\":10,\"solidity\":0.2}},\"type\":\"barpolar\"}],\"pie\":[{\"automargin\":true,\"type\":\"pie\"}]},\"layout\":{\"autotypenumbers\":\"strict\",\"colorway\":[\"#636efa\",\"#EF553B\",\"#00cc96\",\"#ab63fa\",\"#FFA15A\",\"#19d3f3\",\"#FF6692\",\"#B6E880\",\"#FF97FF\",\"#FECB52\"],\"font\":{\"color\":\"#2a3f5f\"},\"hovermode\":\"closest\",\"hoverlabel\":{\"align\":\"left\"},\"paper_bgcolor\":\"white\",\"plot_bgcolor\":\"#E5ECF6\",\"polar\":{\"bgcolor\":\"#E5ECF6\",\"angularaxis\":{\"gridcolor\":\"white\",\"linecolor\":\"white\",\"ticks\":\"\"},\"radialaxis\":{\"gridcolor\":\"white\",\"linecolor\":\"white\",\"ticks\":\"\"}},\"ternary\":{\"bgcolor\":\"#E5ECF6\",\"aaxis\":{\"gridcolor\":\"white\",\"linecolor\":\"white\",\"ticks\":\"\"},\"baxis\":{\"gridcolor\":\"white\",\"linecolor\":\"white\",\"ticks\":\"\"},\"caxis\":{\"gridcolor\":\"white\",\"linecolor\":\"white\",\"ticks\":\"\"}},\"coloraxis\":{\"colorbar\":{\"outlinewidth\":0,\"ticks\":\"\"}},\"colorscale\":{\"sequential\":[[0.0,\"#0d0887\"],[0.1111111111111111,\"#46039f\"],[0.2222222222222222,\"#7201a8\"],[0.3333333333333333,\"#9c179e\"],[0.4444444444444444,\"#bd3786\"],[0.5555555555555556,\"#d8576b\"],[0.6666666666666666,\"#ed7953\"],[0.7777777777777778,\"#fb9f3a\"],[0.8888888888888888,\"#fdca26\"],[1.0,\"#f0f921\"]],\"sequentialminus\":[[0.0,\"#0d0887\"],[0.1111111111111111,\"#46039f\"],[0.2222222222222222,\"#7201a8\"],[0.3333333333333333,\"#9c179e\"],[0.4444444444444444,\"#bd3786\"],[0.5555555555555556,\"#d8576b\"],[0.6666666666666666,\"#ed7953\"],[0.7777777777777778,\"#fb9f3a\"],[0.8888888888888888,\"#fdca26\"],[1.0,\"#f0f921\"]],\"diverging\":[[0,\"#8e0152\"],[0.1,\"#c51b7d\"],[0.2,\"#de77ae\"],[0.3,\"#f1b6da\"],[0.4,\"#fde0ef\"],[0.5,\"#f7f7f7\"],[0.6,\"#e6f5d0\"],[0.7,\"#b8e186\"],[0.8,\"#7fbc41\"],[0.9,\"#4d9221\"],[1,\"#276419\"]]},\"xaxis\":{\"gridcolor\":\"white\",\"linecolor\":\"white\",\"ticks\":\"\",\"title\":{\"standoff\":15},\"zerolinecolor\":\"white\",\"automargin\":true,\"zerolinewidth\":2},\"yaxis\":{\"gridcolor\":\"white\",\"linecolor\":\"white\",\"ticks\":\"\",\"title\":{\"standoff\":15},\"zerolinecolor\":\"white\",\"automargin\":true,\"zerolinewidth\":2},\"scene\":{\"xaxis\":{\"backgroundcolor\":\"#E5ECF6\",\"gridcolor\":\"white\",\"linecolor\":\"white\",\"showbackground\":true,\"ticks\":\"\",\"zerolinecolor\":\"white\",\"gridwidth\":2},\"yaxis\":{\"backgroundcolor\":\"#E5ECF6\",\"gridcolor\":\"white\",\"linecolor\":\"white\",\"showbackground\":true,\"ticks\":\"\",\"zerolinecolor\":\"white\",\"gridwidth\":2},\"zaxis\":{\"backgroundcolor\":\"#E5ECF6\",\"gridcolor\":\"white\",\"linecolor\":\"white\",\"showbackground\":true,\"ticks\":\"\",\"zerolinecolor\":\"white\",\"gridwidth\":2}},\"shapedefaults\":{\"line\":{\"color\":\"#2a3f5f\"}},\"annotationdefaults\":{\"arrowcolor\":\"#2a3f5f\",\"arrowhead\":0,\"arrowwidth\":1},\"geo\":{\"bgcolor\":\"white\",\"landcolor\":\"#E5ECF6\",\"subunitcolor\":\"white\",\"showland\":true,\"showlakes\":true,\"lakecolor\":\"white\"},\"title\":{\"x\":0.05},\"mapbox\":{\"style\":\"light\"}}},\"xaxis\":{\"anchor\":\"y\",\"domain\":[0.0,0.48],\"title\":{\"text\":\"mrate\"}},\"yaxis\":{\"anchor\":\"x\",\"domain\":[0.0,0.3133333333333333],\"title\":{\"text\":\"mse\"}},\"xaxis2\":{\"anchor\":\"y2\",\"domain\":[0.5,0.98],\"matches\":\"x\",\"title\":{\"text\":\"mrate\"}},\"yaxis2\":{\"anchor\":\"x2\",\"domain\":[0.0,0.3133333333333333],\"matches\":\"y\",\"showticklabels\":false},\"xaxis3\":{\"anchor\":\"y3\",\"domain\":[0.0,0.48],\"matches\":\"x\",\"showticklabels\":false},\"yaxis3\":{\"anchor\":\"x3\",\"domain\":[0.34333333333333327,0.6566666666666665],\"matches\":\"y\",\"title\":{\"text\":\"mse\"}},\"xaxis4\":{\"anchor\":\"y4\",\"domain\":[0.5,0.98],\"matches\":\"x\",\"showticklabels\":false},\"yaxis4\":{\"anchor\":\"x4\",\"domain\":[0.34333333333333327,0.6566666666666665],\"matches\":\"y\",\"showticklabels\":false},\"xaxis5\":{\"anchor\":\"y5\",\"domain\":[0.0,0.48],\"matches\":\"x\",\"showticklabels\":false},\"yaxis5\":{\"anchor\":\"x5\",\"domain\":[0.6866666666666665,0.9999999999999998],\"matches\":\"y\",\"title\":{\"text\":\"mse\"}},\"xaxis6\":{\"anchor\":\"y6\",\"domain\":[0.5,0.98],\"matches\":\"x\",\"showticklabels\":false},\"yaxis6\":{\"anchor\":\"x6\",\"domain\":[0.6866666666666665,0.9999999999999998],\"matches\":\"y\",\"showticklabels\":false},\"annotations\":[{\"font\":{},\"showarrow\":false,\"text\":\"RecurrentGCN=GConvGRU\",\"x\":0.24,\"xanchor\":\"center\",\"xref\":\"paper\",\"y\":0.9999999999999998,\"yanchor\":\"bottom\",\"yref\":\"paper\"},{\"font\":{},\"showarrow\":false,\"text\":\"RecurrentGCN=DCRNN\",\"x\":0.74,\"xanchor\":\"center\",\"xref\":\"paper\",\"y\":0.9999999999999998,\"yanchor\":\"bottom\",\"yref\":\"paper\"},{\"font\":{},\"showarrow\":false,\"text\":\"inter_method=nearest\",\"textangle\":90,\"x\":0.98,\"xanchor\":\"left\",\"xref\":\"paper\",\"y\":0.15666666666666665,\"yanchor\":\"middle\",\"yref\":\"paper\"},{\"font\":{},\"showarrow\":false,\"text\":\"inter_method=linear\",\"textangle\":90,\"x\":0.98,\"xanchor\":\"left\",\"xref\":\"paper\",\"y\":0.4999999999999999,\"yanchor\":\"middle\",\"yref\":\"paper\"},{\"font\":{},\"showarrow\":false,\"text\":\"inter_method=cubic\",\"textangle\":90,\"x\":0.98,\"xanchor\":\"left\",\"xref\":\"paper\",\"y\":0.8433333333333332,\"yanchor\":\"middle\",\"yref\":\"paper\"}],\"legend\":{\"title\":{\"text\":\"method\"},\"tracegroupgap\":0},\"margin\":{\"t\":60},\"boxmode\":\"group\",\"height\":800},                        {\"responsive\": true}                    ).then(function(){\n",
       "                            \n",
       "var gd = document.getElementById('38b4253a-8762-42ea-b68c-4e139692689b');\n",
       "var x = new MutationObserver(function (mutations, observer) {{\n",
       "        var display = window.getComputedStyle(gd).display;\n",
       "        if (!display || display === 'none') {{\n",
       "            console.log([gd, 'removed!']);\n",
       "            Plotly.purge(gd);\n",
       "            observer.disconnect();\n",
       "        }}\n",
       "}});\n",
       "\n",
       "// Listen for the removal of the full notebook cells\n",
       "var notebookContainer = gd.closest('#notebook-container');\n",
       "if (notebookContainer) {{\n",
       "    x.observe(notebookContainer, {childList: true});\n",
       "}}\n",
       "\n",
       "// Listen for the clearing of the current output cell\n",
       "var outputEl = gd.closest('.output');\n",
       "if (outputEl) {{\n",
       "    x.observe(outputEl, {childList: true});\n",
       "}}\n",
       "\n",
       "                        })                };                });            </script>        </div>"
      ]
     },
     "metadata": {},
     "output_type": "display_data"
    }
   ],
   "source": [
    "data.query(\"method!='GNAR' and mtype =='rand' \").plot.box(backend='plotly',x='mrate',color='method',y='mse',facet_col='RecurrentGCN',facet_row='inter_method',height=800)\n"
   ]
  },
  {
   "cell_type": "markdown",
   "id": "64c5732a-81d2-4999-be10-2abcce32ba22",
   "metadata": {},
   "source": [
    "## block"
   ]
  },
  {
   "cell_type": "code",
   "execution_count": null,
   "id": "03830cde-6dbb-4c1c-b3f7-4f05b171fdd0",
   "metadata": {},
   "outputs": [],
   "source": [
    "data.query(\"method!='GNAR' and mtype =='block' and inter_method=='cubic' \").plot.box(backend='plotly',x='mrate',color='method',y='mse',facet_col='lags',facet_row='inter_method',height=600)\n"
   ]
  },
  {
   "cell_type": "code",
   "execution_count": null,
   "id": "5884a2cf-e147-4bf4-a6dd-7ca29012d0ec",
   "metadata": {},
   "outputs": [],
   "source": [
    "data.query(\"method!='GNAR' and mtype =='block' and inter_method!='cubic' \").plot.box(backend='plotly',x='mrate',color='method',y='mse',facet_col='lags',facet_row='inter_method',height=600)\n"
   ]
  },
  {
   "cell_type": "markdown",
   "id": "8f145dc8-8e30-4e75-bc7e-4a4524d93fc4",
   "metadata": {},
   "source": [
    "## weight matrix time, node 고려한 결과"
   ]
  },
  {
   "cell_type": "code",
   "execution_count": null,
   "id": "720eef33-a93e-4018-9f30-867b9446b918",
   "metadata": {},
   "outputs": [],
   "source": [
    "# df1 = pd.read_csv('./simulation_results/2023-04-30_13-00-12.csv')\n",
    "# df2 = pd.read_csv('./simulation_results/2023-04-30_13-31-32.csv')\n",
    "# df3 = pd.read_csv('./simulation_results/2023-04-30_14-01-49.csv')\n",
    "# df4 = pd.read_csv('./simulation_results/2023-04-30_14-31-56.csv')\n",
    "# df5 = pd.read_csv('./simulation_results/2023-04-30_15-02-23.csv')\n",
    "# df6 = pd.read_csv('./simulation_results/2023-04-30_15-33-03.csv')\n",
    "# df7 = pd.read_csv('./simulation_results/2023-04-30_16-07-43.csv')\n",
    "# df8 = pd.read_csv('./simulation_results/2023-04-30_16-41-35.csv')\n",
    "# df9 = pd.read_csv('./simulation_results/2023-04-30_17-14-51.csv')\n",
    "# df10 = pd.read_csv('./simulation_results/2023-04-30_17-49-34.csv')\n",
    "# df11 = pd.read_csv('./simulation_results/2023-04-30_18-21-29.csv')\n",
    "# df12 = pd.read_csv('./simulation_results/2023-04-30_18-50-24.csv')\n",
    "# df13 = pd.read_csv('./simulation_results/2023-04-30_20-33-28.csv')\n",
    "# df14 = pd.read_csv('./simulation_results/2023-05-04_16-40-05.csv')\n",
    "# df15 = pd.read_csv('./simulation_results/2023-05-04_17-34-00.csv')"
   ]
  },
  {
   "cell_type": "code",
   "execution_count": null,
   "id": "970e0d05-641f-4e2b-83f8-7995279164c6",
   "metadata": {},
   "outputs": [],
   "source": [
    "data2 = pd.concat([df1,df2,df3,df4,df5,df6,df7,df8,df9,df10,df11,df12,df13,df14,df15],axis=0)"
   ]
  },
  {
   "cell_type": "code",
   "execution_count": null,
   "id": "e4343248-a16d-47a3-9886-4ccb53c7aa45",
   "metadata": {},
   "outputs": [],
   "source": [
    "data2.to_csv('./simulation_results/Real_simulation/pedalme_Simulation_itstgcnsnd.csv',index=False)"
   ]
  },
  {
   "cell_type": "code",
   "execution_count": null,
   "id": "68c1f3d7-7e0f-4a6d-82d7-ba671275701a",
   "metadata": {},
   "outputs": [],
   "source": [
    "data2 = pd.read_csv('./simulation_results/Real_simulation/pedalme_Simulation_itstgcnsnd.csv')"
   ]
  },
  {
   "cell_type": "code",
   "execution_count": null,
   "id": "908c378b-03a2-4bab-95ad-152d13daea50",
   "metadata": {},
   "outputs": [],
   "source": [
    "data2.query(\"mtype!='block'\").plot.box(backend='plotly',x='mrate',color='method',y='mse',facet_col='lags',facet_row='inter_method',height=1000)"
   ]
  },
  {
   "cell_type": "code",
   "execution_count": null,
   "id": "58bc9f15-e745-45c9-94de-8985f2e887af",
   "metadata": {},
   "outputs": [],
   "source": [
    "data2.query(\"mtype=='block'\").plot.box(backend='plotly',x='mrate',color='method',y='mse',facet_col='lags',facet_row='inter_method',height=1200)"
   ]
  },
  {
   "cell_type": "markdown",
   "id": "5a133964-207a-49ed-a674-40b3ddf1bd44",
   "metadata": {},
   "source": [
    "# Wikimath"
   ]
  },
  {
   "cell_type": "code",
   "execution_count": null,
   "id": "72dcb6b8-b2df-41e4-8ebd-5eb2a02c97af",
   "metadata": {},
   "outputs": [],
   "source": [
    "# df1 = pd.read_csv('./simulation_results/2023-04-21_14-32-44.csv')\n",
    "# df2 = pd.read_csv('./simulation_results/2023-04-22_05-38-23.csv')\n",
    "# df3 = pd.read_csv('./simulation_results/2023-04-22_20-41-26.csv')\n",
    "# df4 = pd.read_csv('./simulation_results/2023-04-23_13-13-49.csv')\n",
    "# df5 = pd.read_csv('./simulation_results/2023-04-23_18-03-50.csv')\n",
    "# df6 = pd.read_csv('./simulation_results/2023-04-24_18-25-09.csv')\n",
    "# df7 = pd.read_csv('./simulation_results/2023-04-24_03-33-57.csv')\n",
    "# df8 = pd.read_csv('./simulation_results/2023-04-25_11-18-21.csv')\n",
    "# df9 = pd.read_csv('./simulation_results/2023-04-25_22-51-21.csv')\n",
    "# df10 = pd.read_csv('./simulation_results/2023-04-26_07-35-21.csv')\n",
    "# df11 = pd.read_csv('./simulation_results/2023-04-28_18-07-23.csv')\n",
    "# df12 = pd.read_csv('./simulation_results/2023-04-30_04-35-07.csv')\n",
    "# df13 = pd.read_csv('./simulation_results/2023-05-08_12-07-28.csv')\n",
    "# df14 = pd.read_csv('./simulation_results/2023-05-09_02-26-26.csv')\n",
    "# df15 = pd.read_csv('./simulation_results/2023-05-09_09-10-12.csv')\n",
    "# df16 = pd.read_csv('./simulation_results/2023-05-09_15-42-43.csv')\n",
    "# df17 = pd.read_csv('./simulation_results/2023-05-09_21-48-31.csv')\n",
    "# df18 = pd.read_csv('./simulation_results/2023-05-10_02-17-07.csv')\n",
    "# df19 = pd.read_csv('./simulation_results/2023-05-10_06-35-14.csv')"
   ]
  },
  {
   "cell_type": "code",
   "execution_count": null,
   "id": "2bdf1359-250a-4f81-b2e7-bfc3f4a15907",
   "metadata": {},
   "outputs": [],
   "source": [
    "data = pd.concat([df1,df2,df3,df4,df5,df6,df7,df8,df9,df10,df11,df12,df13,df14,df15,df16,df17,\n",
    "                 df18,df19],axis=0)"
   ]
  },
  {
   "cell_type": "code",
   "execution_count": null,
   "id": "fe47b372-5e6c-485c-875c-3c8d879aabe5",
   "metadata": {},
   "outputs": [],
   "source": [
    "data.to_csv('./simulation_results/Real_simulation/wikimath.csv',index=False)"
   ]
  },
  {
   "cell_type": "code",
   "execution_count": null,
   "id": "0e5750a8-48a8-4f57-8650-1894b033996a",
   "metadata": {},
   "outputs": [],
   "source": [
    "data = pd.read_csv('./simulation_results/Real_simulation/wikimath.csv')"
   ]
  },
  {
   "cell_type": "markdown",
   "id": "0d0c2544-b30f-4876-90f3-834c8fccdc00",
   "metadata": {},
   "source": [
    "## Baseline"
   ]
  },
  {
   "cell_type": "code",
   "execution_count": null,
   "id": "7d4918b2-c232-4662-b1be-0de7af39b71f",
   "metadata": {},
   "outputs": [],
   "source": [
    "data.query(\"mrate==0 and method!='GNAR'\").plot.box(backend='plotly',x='mrate',color='method',y='mse',facet_col='lags',facet_row='nof_filters',height=600)"
   ]
  },
  {
   "cell_type": "markdown",
   "id": "b5d6d79b-64ae-4336-9236-b8ab66a90514",
   "metadata": {},
   "source": [
    "## random"
   ]
  },
  {
   "cell_type": "code",
   "execution_count": null,
   "id": "1abc4fa9-9f37-46f4-af96-717b60ddffbe",
   "metadata": {},
   "outputs": [],
   "source": [
    "data.query(\"method=='GNAR'\").groupby('mrate')['mse'].unique()"
   ]
  },
  {
   "cell_type": "code",
   "execution_count": null,
   "id": "a9f65ed7-9c7c-41a7-8db0-bb0e155e75e4",
   "metadata": {},
   "outputs": [],
   "source": [
    "data.query(\"mtype=='rand' and mrate !=0 and method!='GNAR'\").plot.box(backend='plotly',x='mrate',color='method',y='mse',facet_col='lags',facet_row='nof_filters',height=1200)\n"
   ]
  },
  {
   "cell_type": "markdown",
   "id": "e4ec5520-cfa5-4e8d-8233-4a255cc7e557",
   "metadata": {},
   "source": [
    "## block"
   ]
  },
  {
   "cell_type": "code",
   "execution_count": null,
   "id": "704cf012-e6ee-42e3-85a2-4668982b964b",
   "metadata": {},
   "outputs": [],
   "source": [
    "df1 = pd.read_csv('./simulation_results/2023-04-27_07-50-11.csv')\n",
    "df2 = pd.read_csv('./simulation_results/2023-04-27_22-09-07.csv')\n",
    "df3 = pd.read_csv('./simulation_results/2023-04-28_14-40-59.csv')\n",
    "df4 = pd.read_csv('./simulation_results/2023-05-14_19-46-46.csv')\n",
    "# df5 = pd.read_csv('./simulation_results/2023-05-14_19-46-46.csv')"
   ]
  },
  {
   "cell_type": "code",
   "execution_count": null,
   "id": "01f04ed7-e2f8-457a-bbcb-d0a03ceb46b1",
   "metadata": {},
   "outputs": [],
   "source": [
    "data = pd.concat([df1,df2,df3,df4],axis=0)"
   ]
  },
  {
   "cell_type": "code",
   "execution_count": null,
   "id": "14397f3b-803b-4d2c-90d6-80ccc807813b",
   "metadata": {},
   "outputs": [],
   "source": [
    "data.to_csv('./simulation_results/Real_simulation/wikimath_block.csv',index=False)"
   ]
  },
  {
   "cell_type": "code",
   "execution_count": null,
   "id": "93478317-e061-4cd7-8540-6d29374e0125",
   "metadata": {},
   "outputs": [],
   "source": [
    "data = pd.read_csv('./simulation_results/Real_simulation/wikimath_block.csv')"
   ]
  },
  {
   "cell_type": "code",
   "execution_count": null,
   "id": "6014ad2b-1970-4966-8c63-abec59fdd74c",
   "metadata": {},
   "outputs": [],
   "source": [
    "data.query(\"mtype=='block' and method!='GNAR'\").plot.box(backend='plotly',x='mrate',color='method',y='mse',facet_col='lags',facet_row='nof_filters',height=1200)\n"
   ]
  },
  {
   "cell_type": "markdown",
   "id": "9e6864d0-2f7e-4df3-a80a-91fdcf9d7fb9",
   "metadata": {},
   "source": [
    "## missing values on the same nodes"
   ]
  },
  {
   "cell_type": "code",
   "execution_count": null,
   "id": "f804b18a-149e-48d5-ab30-9a0516fc611b",
   "metadata": {
    "tags": []
   },
   "outputs": [],
   "source": [
    "# 10%\n",
    "df1 = pd.read_csv('./simulation_results/2023-04-29_03-57-07.csv') # STGCN IT-STGCN block\n",
    "df2 = pd.read_csv('./simulation_results/2023-04-29_20-15-46.csv') # STGCN IT-STGCN\n",
    "df3 = pd.read_csv('./simulation_results/2023-04-30_16-19-58.csv') # STGCN IT-STGCN\n",
    "# 60% 확인하고 다시 돌리기\n",
    "df4 = pd.read_csv('./simulation_results/2023-05-05_04-21-57.csv') # STGCN IT-STGCN 60%\n",
    "df5 = pd.read_csv('./simulation_results/2023-05-06_11-34-46.csv') # STGCN IT-STGCN\n",
    "df6 = pd.read_csv('./simulation_results/2023-05-06_23-43-35.csv') # STGCN IT-STGCN\n",
    "df7 = pd.read_csv('./simulation_results/2023-05-07_14-06-44.csv') # STGCN IT-STGCN"
   ]
  },
  {
   "cell_type": "code",
   "execution_count": null,
   "id": "8947c20f-0acb-41e8-9a89-d122bf2c0d18",
   "metadata": {},
   "outputs": [],
   "source": [
    "data = pd.concat([df1,df2,df3,df4,df5,df6,df7],axis=0)"
   ]
  },
  {
   "cell_type": "code",
   "execution_count": null,
   "id": "3082aa32-04c8-4a3e-9756-6634caf9c949",
   "metadata": {},
   "outputs": [],
   "source": [
    "data.to_csv('./simulation_results/Real_simulation/wikimath_GSO_st.csv',index=False)"
   ]
  },
  {
   "cell_type": "code",
   "execution_count": null,
   "id": "9d39029d-2027-4858-aa8a-11a8f3628762",
   "metadata": {},
   "outputs": [],
   "source": [
    "data = pd.read_csv('./simulation_results/Real_simulation/wikimath_GSO_st.csv')"
   ]
  },
  {
   "cell_type": "code",
   "execution_count": null,
   "id": "17286ecf-c8b9-4ada-9058-3a364cf57d24",
   "metadata": {},
   "outputs": [],
   "source": [
    "data.query(\"method=='GNAR'\")['mse'].unique()"
   ]
  },
  {
   "cell_type": "code",
   "execution_count": null,
   "id": "5380ddb8-d5f5-49a0-b11f-89ad2db0ad41",
   "metadata": {},
   "outputs": [],
   "source": [
    "data.query(\"method!='GNAR' and mtype =='block' \").plot.box(backend='plotly',x='mrate',color='method',y='mse',facet_col='inter_method',facet_row='lags',height=800)\n"
   ]
  },
  {
   "cell_type": "markdown",
   "id": "e2f1be32-2a0a-4bb9-bc5f-fd3efbfe6a48",
   "metadata": {},
   "source": [
    "# Windmilmedium"
   ]
  },
  {
   "cell_type": "code",
   "execution_count": null,
   "id": "d1f32116-fb3c-478d-b35a-ba691314f281",
   "metadata": {},
   "outputs": [],
   "source": [
    "# df1 = pd.read_csv('./simulation_results/2023-05-08_02-08-10.csv')\n",
    "# df2 = pd.read_csv('./simulation_results/2023-05-08_14-58-04.csv')\n",
    "# df3 = pd.read_csv('./simulation_results/2023-05-09_03-44-04.csv')\n",
    "# df4 = pd.read_csv('./simulation_results/2023-05-09_19-32-04.csv') # STGCN IT-STGCN\n",
    "# df5 = pd.read_csv('./simulation_results/2023-05-10_01-07-21.csv') # STGCN IT-STGCN\n",
    "# df6 = pd.read_csv('./simulation_results/2023-05-10_06-15-13.csv') # \n",
    "# df7 = pd.read_csv('./simulation_results/2023-05-10_10-15-50.csv') # STGCN IT-STGCN\n",
    "# df8 = pd.read_csv('./simulation_results/2023-05-10_14-09-03.csv') # STGCN IT-STGCN\n",
    "# df9 = pd.read_csv('./simulation_results/2023-05-10_17-09-38.csv') # GNAR\n",
    "# df10 = pd.read_csv('./simulation_results/2023-05-10_18-00-11.csv') # STGCN IT-STGCN\n",
    "# df11 = pd.read_csv('./simulation_results/2023-05-10_21-50-37.csv') # STGCN IT-STGCN\n",
    "# df12 = pd.read_csv('./simulation_results/2023-05-11_01-41-04.csv') # STGCN IT-STGCN\n",
    "# df13 = pd.read_csv('./simulation_results/2023-05-11_05-31-29.csv') # STGCN IT-STGCN\n",
    "# df14 = pd.read_csv('./simulation_results/2023-05-11_13-25-58.csv') # STGCN IT-STGCN\n",
    "# df15 = pd.read_csv('./simulation_results/2023-05-11_13-26-45.csv') # STGCN IT-STGCN\n",
    "# df16 = pd.read_csv('./simulation_results/2023-05-11_18-33-31.csv') # STGCN IT-STGCN\n",
    "# df17 = pd.read_csv('./simulation_results/2023-05-11_18-39-14.csv') # STGCN IT-STGCN\n",
    "# df18 = pd.read_csv('./simulation_results/2023-05-12_00-06-22.csv') # STGCN IT-STGCN\n",
    "# df19 = pd.read_csv('./simulation_results/2023-05-12_00-10-51.csv') # STGCN IT-STGCN\n",
    "# df20 = pd.read_csv('./simulation_results/2023-05-12_05-17-16.csv') # STGCN IT-STGCN\n",
    "# df21 = pd.read_csv('./simulation_results/2023-05-12_05-17-50.csv') # STGCN IT-STGCN\n",
    "# df22 = pd.read_csv('./simulation_results/2023-05-13_18-46-25.csv') # STGCN IT-STGCN\n",
    "# df23 = pd.read_csv('./simulation_results/2023-05-13_18-47-00.csv') # STGCN IT-STGCN\n",
    "# df24 = pd.read_csv('./simulation_results/2023-05-13_23-16-09.csv') # STGCN IT-STGCN\n",
    "# df25 = pd.read_csv('./simulation_results/2023-05-13_23-20-14.csv') # STGCN IT-STGCN\n",
    "# df26 = pd.read_csv('./simulation_results/2023-05-14_03-54-19.csv') # STGCN IT-STGCN\n",
    "# df27 = pd.read_csv('./simulation_results/2023-05-14_08-16-42.csv') # STGCN IT-STGCN\n",
    "# df28 = pd.read_csv('./simulation_results/2023-05-03_13-43-11.csv') # STGCN IT-STGCN\n",
    "# df29 = pd.read_csv('./simulation_results/2023-05-03_21-58-04.csv') # STGCN IT-STGCN\n",
    "# df30 = pd.read_csv('./simulation_results/2023-05-04_04-39-00.csv') # STGCN IT-STGCN\n",
    "# df31 = pd.read_csv('./simulation_results/2023-04-23_15-22-36.csv') # \n",
    "# df32 = pd.read_csv('./simulation_results/2023-04-29_06-54-40.csv') #  \n",
    "# df33 = pd.read_csv('./simulation_results/2023-04-30_18-55-12.csv')\n",
    "# df34 = pd.read_csv('./simulation_results/2023-05-01_02-55-33.csv')\n",
    "# df35 = pd.read_csv('./simulation_results/2023-05-01_10-21-15.csv')\n",
    "# df36 = pd.read_csv('./simulation_results/2023-05-01_19-23-57.csv')\n",
    "# df37 = pd.read_csv('./simulation_results/2023-05-02_01-10-53.csv')\n",
    "# df38 = pd.read_csv('./simulation_results/2023-05-02_08-26-53.csv')\n",
    "# df39 = pd.read_csv('./simulation_results/2023-05-02_16-00-40.csv')\n",
    "# df40 = pd.read_csv('./simulation_results/2023-05-03_00-34-09.csv')\n",
    "# df41 = pd.read_csv('./simulation_results/2023-05-03_08-04-42.csv')\n",
    "# df42 = pd.read_csv('./simulation_results/2023-05-03_15-50-50.csv')\n",
    "# df43 = pd.read_csv('./simulation_results/2023-05-03_23-46-56.csv')\n",
    "# df44 = pd.read_csv('./simulation_results/2023-05-04_05-22-59.csv')\n",
    "# df45 = pd.read_csv('./simulation_results/2023-05-04_09-22-37.csv')\n",
    "# df46 = pd.read_csv('./simulation_results/2023-05-04_15-00-57.csv')\n",
    "# df47 = pd.read_csv('./simulation_results/2023-05-04_23-41-21.csv')\n",
    "# df48 = pd.read_csv('./simulation_results/2023-05-05_07-23-04.csv')\n",
    "# df49 = pd.read_csv('./simulation_results/2023-05-05_15-03-17.csv')\n",
    "# df50 = pd.read_csv('./simulation_results/2023-05-06_05-18-07.csv')\n",
    "# df51 = pd.read_csv('./simulation_results/2023-05-06_12-57-14.csv')\n",
    "# df52 = pd.read_csv('./simulation_results/2023-05-06_19-10-23.csv')\n",
    "# df53 = pd.read_csv('./simulation_results/2023-05-07_03-20-10.csv')\n",
    "# df54 = pd.read_csv('./simulation_results/2023-05-07_11-26-24.csv')\n",
    "# df55 = pd.read_csv('./simulation_results/2023-05-08_00-04-56.csv')\n",
    "# df56 = pd.read_csv('./simulation_results/2023-05-08_04-27-01.csv')\n",
    "# df57 = pd.read_csv('./simulation_results/2023-05-08_10-06-55.csv')\n",
    "# df58 = pd.read_csv('./simulation_results/2023-05-08_17-50-36.csv')\n",
    "# df59 = pd.read_csv('./simulation_results/2023-05-09_03-28-08.csv')\n",
    "# df60 = pd.read_csv('./simulation_results/2023-05-09_11-08-10.csv')\n",
    "# df61 = pd.read_csv('./simulation_results/2023-05-09_20-11-45.csv')"
   ]
  },
  {
   "cell_type": "code",
   "execution_count": null,
   "id": "47ecfacc-6227-4952-92a9-8587ae04df02",
   "metadata": {},
   "outputs": [],
   "source": [
    "data = pd.concat([df2,df3,df4,df5,df6,df7,df8,df9,df10,df11,df12,df13,df14,\n",
    "                 df15,df16,df17,df18,df19,df20,df21,df22,df23,df24,df25,\n",
    "                 df26,df27],axis=0)"
   ]
  },
  {
   "cell_type": "code",
   "execution_count": null,
   "id": "b90e96f6-b36c-4b7d-879a-0415d17c6ad4",
   "metadata": {},
   "outputs": [],
   "source": [
    "data.to_csv('./simulation_results/Real_simulation/windmillmedium.csv',index=False)"
   ]
  },
  {
   "cell_type": "code",
   "execution_count": null,
   "id": "8fa53c3d-9472-497f-8282-5f24d5fd5904",
   "metadata": {},
   "outputs": [],
   "source": [
    "data = pd.read_csv('./simulation_results/Real_simulation/windmillmedium.csv')"
   ]
  },
  {
   "cell_type": "code",
   "execution_count": null,
   "id": "ae647010-d364-470c-98f2-98bdd82f8530",
   "metadata": {},
   "outputs": [],
   "source": [
    "data.query(\"method=='GNAR'\")['mse'].unique()"
   ]
  },
  {
   "cell_type": "code",
   "execution_count": null,
   "id": "1beb3179-cfdc-4b3c-8514-e196213bac2c",
   "metadata": {},
   "outputs": [],
   "source": [
    "data.query(\"method!='GNAR' and mrate ==0\").plot.box(backend='plotly',x='mrate',color='method',y='mse',facet_col='lags',height=800)\n"
   ]
  },
  {
   "cell_type": "code",
   "execution_count": null,
   "id": "49a4b03b-37d2-4658-94ff-cc0a2d1a093d",
   "metadata": {},
   "outputs": [],
   "source": [
    "data.query(\"method!='GNAR' and mrate !=0\").plot.box(backend='plotly',x='mrate',color='method',y='mse',facet_col='lags',height=800)\n"
   ]
  },
  {
   "cell_type": "markdown",
   "id": "b36fdeda-2196-4918-a6c9-26be8ad4dc72",
   "metadata": {},
   "source": [
    "# Windmilsmall"
   ]
  },
  {
   "cell_type": "code",
   "execution_count": null,
   "id": "e865d7a4-d723-411e-9ee6-2a0a001f8525",
   "metadata": {},
   "outputs": [],
   "source": [
    "# df1 = pd.read_csv('./simulation_results/2023-04-17_06-05-37.csv') # STGCN IT-STGCN 70%\n",
    "# df2 = pd.read_csv('./simulation_results/2023-04-17_08-05-26.csv') # STGCN IT-STGCN\n",
    "# df3 = pd.read_csv('./simulation_results/2023-04-17_13-41-19.csv') # STGCN IT-STGCN\n",
    "# df4 = pd.read_csv('./simulation_results/2023-04-17_15-44-21.csv') # STGCN IT-STGCN\n",
    "# df5 = pd.read_csv('./simulation_results/2023-04-17_21-27-38.csv') # STGCN IT-STGCN\n",
    "# df6 = pd.read_csv('./simulation_results/2023-04-15_15-00-32.csv') # GNAR 30%, 50%, 70% # 뭔가 일단 필요없어서 데이터셋에서 뺌\n",
    "# df7 = pd.read_csv('./simulation_results/2023-04-18_05-01-55.csv') # STGCN IT-STGCN\n",
    "# df8 = pd.read_csv('./simulation_results/2023-04-18_06-14-06.csv') # STGCN IT-STGCN\n",
    "# df9 = pd.read_csv('./simulation_results/2023-04-18_17-32-30.csv') # STGCN IT-STGCN\n",
    "# df10 = pd.read_csv('./simulation_results/2023-04-19_01-52-24.csv') # STGCN IT-STGCN\n",
    "# df11 = pd.read_csv('./simulation_results/2023-04-19_07-50-52.csv') # STGCN IT-STGCN\n",
    "# df12 = pd.read_csv('./simulation_results/2023-04-19_09-30-25.csv') # STGCN IT-STGCN\n",
    "# df13 = pd.read_csv('./simulation_results/2023-04-19_15-32-55.csv') # STGCN IT-STGCN\n",
    "# df14 = pd.read_csv('./simulation_results/2023-04-19_17-12-06.csv') # STGCN IT-STGCN\n",
    "# df15 = pd.read_csv('./simulation_results/2023-04-19_23-07-36.csv') # STGCN IT-STGCN\n",
    "# df16 = pd.read_csv('./simulation_results/2023-04-20_00-46-43.csv') # STGCN IT-STGCN\n",
    "# df17 = pd.read_csv('./simulation_results/2023-04-20_06-51-34.csv') # STGCN IT-STGCN\n",
    "# df18 = pd.read_csv('./simulation_results/2023-04-20_08-30-27.csv') # STGCN IT-STGCN\n",
    "# df19 = pd.read_csv('./simulation_results/2023-04-20_14-28-35.csv') # STGCN IT-STGCN\n",
    "# df20 = pd.read_csv('./simulation_results/2023-04-20_16-08-39.csv') # STGCN IT-STGCN\n",
    "# df21 = pd.read_csv('./simulation_results/2023-04-20_22-09-37.csv') # STGCN IT-STGCN\n",
    "# df22 = pd.read_csv('./simulation_results/2023-04-20_23-48-26.csv') # STGCN IT-STGCN\n",
    "# df23 = pd.read_csv('./simulation_results/2023-04-21_05-36-47.csv') # STGCN IT-STGCN\n",
    "# df24 = pd.read_csv('./simulation_results/2023-04-21_15-26-00.csv') # STGCN IT-STGCN\n",
    "# df25 = pd.read_csv('./simulation_results/2023-04-21_23-27-11.csv') # STGCN IT-STGCN\n",
    "# df26 = pd.read_csv('./simulation_results/2023-04-22_07-46-08.csv') # STGCN IT-STGCN\n",
    "# df27 = pd.read_csv('./simulation_results/2023-04-22_15-45-20.csv') # STGCN IT-STGCN\n",
    "# df28 = pd.read_csv('./simulation_results/2023-04-22_22-57-31.csv') # STGCN IT-STGCN\n",
    "# df29 = pd.read_csv('./simulation_results/2023-04-23_07-00-15.csv') # STGCN IT-STGCN\n",
    "# df30 = pd.read_csv('./simulation_results/2023-04-23_15-18-02.csv') # STGCN IT-STGCN\n",
    "# df31 = pd.read_csv('./simulation_results/2023-04-23_15-22-36.csv') # GNAR 70%\n",
    "# # baseline\n",
    "# df32 = pd.read_csv('./simulation_results/2023-04-29_06-54-40.csv') # GNAR \n",
    "# df33 = pd.read_csv('./simulation_results/2023-04-30_18-55-12.csv')\n",
    "# df34 = pd.read_csv('./simulation_results/2023-05-01_02-55-33.csv')\n",
    "# df35 = pd.read_csv('./simulation_results/2023-05-01_10-21-15.csv')\n",
    "# df36 = pd.read_csv('./simulation_results/2023-05-01_19-23-57.csv')\n",
    "# df37 = pd.read_csv('./simulation_results/2023-05-02_01-10-53.csv')\n",
    "# df38 = pd.read_csv('./simulation_results/2023-05-02_08-26-53.csv')\n",
    "# df39 = pd.read_csv('./simulation_results/2023-05-02_16-00-40.csv')\n",
    "# df40 = pd.read_csv('./simulation_results/2023-05-03_00-34-09.csv')\n",
    "# df41 = pd.read_csv('./simulation_results/2023-05-03_08-04-42.csv')\n",
    "# df42 = pd.read_csv('./simulation_results/2023-05-03_15-50-50.csv')\n",
    "# df43 = pd.read_csv('./simulation_results/2023-05-03_23-46-56.csv')\n",
    "# df44 = pd.read_csv('./simulation_results/2023-05-04_05-22-59.csv')\n",
    "# df45 = pd.read_csv('./simulation_results/2023-05-04_09-22-37.csv')\n",
    "# df46 = pd.read_csv('./simulation_results/2023-05-04_15-00-57.csv')\n",
    "# df47 = pd.read_csv('./simulation_results/2023-05-04_23-41-21.csv')\n",
    "# df48 = pd.read_csv('./simulation_results/2023-05-05_07-23-04.csv')\n",
    "# df49 = pd.read_csv('./simulation_results/2023-05-05_15-03-17.csv')\n",
    "# df50 = pd.read_csv('./simulation_results/2023-05-06_05-18-07.csv')\n",
    "# df51 = pd.read_csv('./simulation_results/2023-05-06_12-57-14.csv')\n",
    "# df52 = pd.read_csv('./simulation_results/2023-05-06_19-10-23.csv')\n",
    "# df53 = pd.read_csv('./simulation_results/2023-05-07_03-20-10.csv')\n",
    "# df54 = pd.read_csv('./simulation_results/2023-05-07_11-26-24.csv')\n",
    "# df55 = pd.read_csv('./simulation_results/2023-05-08_00-04-56.csv')\n",
    "# df56 = pd.read_csv('./simulation_results/2023-05-08_04-27-01.csv')\n",
    "# df57 = pd.read_csv('./simulation_results/2023-05-08_10-06-55.csv')\n",
    "# df58 = pd.read_csv('./simulation_results/2023-05-08_17-50-36.csv')\n",
    "# df59 = pd.read_csv('./simulation_results/2023-05-09_03-28-08.csv')\n",
    "# df60 = pd.read_csv('./simulation_results/2023-05-09_11-08-10.csv')\n",
    "# df61 = pd.read_csv('./simulation_results/2023-05-09_20-11-45.csv')"
   ]
  },
  {
   "cell_type": "markdown",
   "id": "b418c4bf-e73d-4d04-a6df-cf6ea3795cdc",
   "metadata": {},
   "source": [
    "## Baseline"
   ]
  },
  {
   "cell_type": "code",
   "execution_count": null,
   "id": "37438d95-f15e-4741-b4d2-65966d48be89",
   "metadata": {},
   "outputs": [],
   "source": [
    "data = pd.concat([df1,df2,df3,df4,df5,df7,df8,df9,df10,df11,df12,df13,df14,df15,df16,df17,df18,\n",
    "                 df19,df20,df21,df22,df23,df24,df25,df26,df27,df28,df29,df30,df31,df32,df33,df34,\n",
    "                 df35,df36,df37,df38,df39,df40,df41,df42,df43,df44,df45,df46,df47,df48,df49,df50,\n",
    "                 df51,df52,df53,df54,df55,df56,df57,df58,df59,df60,df61],axis=0)"
   ]
  },
  {
   "cell_type": "code",
   "execution_count": null,
   "id": "129bb29a-6386-4363-9781-8a68ad4373cd",
   "metadata": {},
   "outputs": [],
   "source": [
    "data.to_csv('./simulation_results/Real_simulation/windmillsmall.csv',index=False)"
   ]
  },
  {
   "cell_type": "code",
   "execution_count": null,
   "id": "e802f5c9-6428-4f87-86d8-5bec3a07099b",
   "metadata": {},
   "outputs": [],
   "source": [
    "data = pd.read_csv('./simulation_results/Real_simulation/windmillsmall.csv')"
   ]
  },
  {
   "cell_type": "code",
   "execution_count": null,
   "id": "85766227-655d-404b-9078-3809594457e6",
   "metadata": {},
   "outputs": [],
   "source": [
    "data.query(\"method=='GNAR' and mrate ==0\")['mse'].unique()"
   ]
  },
  {
   "cell_type": "code",
   "execution_count": null,
   "id": "127a08ff-22cf-4d87-8b87-db3f7fda2b59",
   "metadata": {},
   "outputs": [],
   "source": [
    "data.query(\"method!='GNAR' and mrate ==0 \").plot.box(backend='plotly',x='mrate',color='method',y='mse',facet_col='lags',height=800)\n"
   ]
  },
  {
   "cell_type": "markdown",
   "id": "612edeb5-6890-4678-9d2d-4ae78d00866f",
   "metadata": {},
   "source": [
    "## random"
   ]
  },
  {
   "cell_type": "code",
   "execution_count": null,
   "id": "9878b9f6-40ee-4662-99c6-23b45e75ce1a",
   "metadata": {},
   "outputs": [],
   "source": [
    "data.query(\"method=='GNAR' and mrate !=0\")['mse'].unique()"
   ]
  },
  {
   "cell_type": "code",
   "execution_count": null,
   "id": "1bdf44c2-efc6-4683-9e0e-53f53e727b9b",
   "metadata": {},
   "outputs": [],
   "source": [
    "data.query(\"method!='GNAR' and mtype =='rand' \").plot.box(backend='plotly',x='mrate',color='method',y='mse',facet_col='lags',facet_row='inter_method',height=800)\n"
   ]
  },
  {
   "cell_type": "markdown",
   "id": "0d9ee832-315b-4c21-8b8a-59f2dc65bd6e",
   "metadata": {
    "tags": []
   },
   "source": [
    "## block"
   ]
  },
  {
   "cell_type": "code",
   "execution_count": null,
   "id": "5d0cb8d4-d53a-44a8-9c2d-98f29a79ccf1",
   "metadata": {
    "tags": []
   },
   "outputs": [],
   "source": [
    "# df1 = pd.read_csv('./simulation_results/2023-04-24_02-48-08.csv') # STGCN IT-STGCN block\n",
    "# df2 = pd.read_csv('./simulation_results/2023-04-24_10-57-10.csv') # STGCN IT-STGCN\n",
    "# df3 = pd.read_csv('./simulation_results/2023-04-24_18-53-34.csv') # STGCN IT-STGCN\n",
    "# df4 = pd.read_csv('./simulation_results/2023-04-25_02-30-27.csv') # STGCN IT-STGCN\n",
    "# df5 = pd.read_csv('./simulation_results/2023-04-25_10-48-46.csv') # STGCN IT-STGCN\n",
    "# df6 = pd.read_csv('./simulation_results/2023-04-25_10-53-14.csv') # GNAR \n",
    "# df7 = pd.read_csv('./simulation_results/2023-04-25_18-40-53.csv') # STGCN IT-STGCN\n",
    "# df8 = pd.read_csv('./simulation_results/2023-04-25_23-30-08.csv') # STGCN IT-STGCN\n",
    "# df9 = pd.read_csv('./simulation_results/2023-04-26_04-15-00.csv') # STGCN IT-STGCN\n",
    "# df10 = pd.read_csv('./simulation_results/2023-04-27_07-59-36.csv') # STGCN IT-STGCN\n",
    "# df11 = pd.read_csv('./simulation_results/2023-04-27_15-29-00.csv') # STGCN IT-STGCN\n",
    "# df12 = pd.read_csv('./simulation_results/2023-04-27_23-37-18.csv') # STGCN IT-STGCN\n",
    "# df13 = pd.read_csv('./simulation_results/2023-04-28_08-21-54.csv') # STGCN IT-STGCN\n",
    "# df14 = pd.read_csv('./simulation_results/2023-04-28_16-06-55.csv') # STGCN IT-STGCN\n",
    "# df15 = pd.read_csv('./simulation_results/2023-04-28_21-19-37.csv') # STGCN IT-STGCN\n",
    "# df16 = pd.read_csv('./simulation_results/2023-04-29_03-07-03.csv') # STGCN IT-STGCN\n",
    "# df17 = pd.read_csv('./simulation_results/2023-04-29_09-00-42.csv') # STGCN IT-STGCN\n",
    "# df18 = pd.read_csv('./simulation_results/2023-04-29_19-07-49.csv') # STGCN IT-STGCN\n",
    "# df19 = pd.read_csv('./simulation_results/2023-04-30_05-14-07.csv') # STGCN IT-STGCN\n",
    "# df20 = pd.read_csv('./simulation_results/2023-04-30_15-23-16.csv') # STGCN IT-STGCN\n",
    "# df21 = pd.read_csv('./simulation_results/2023-05-01_00-16-37.csv') # STGCN IT-STGCN\n",
    "# df22 = pd.read_csv('./simulation_results/2023-05-01_07-41-52.csv') # STGCN IT-STGCN\n",
    "# df23 = pd.read_csv('./simulation_results/2023-05-01_16-21-41.csv') # STGCN IT-STGCN\n",
    "# df24 = pd.read_csv('./simulation_results/2023-05-01_23-38-23.csv') # STGCN IT-STGCN\n",
    "# df25 = pd.read_csv('./simulation_results/2023-05-02_13-51-13.csv') # STGCN IT-STGCN\n",
    "# df26 = pd.read_csv('./simulation_results/2023-05-02_21-43-26.csv') # STGCN IT-STGCN\n",
    "# df27 = pd.read_csv('./simulation_results/2023-05-03_06-04-32.csv') # STGCN IT-STGCN\n",
    "# df28 = pd.read_csv('./simulation_results/2023-05-03_13-43-11.csv') # STGCN IT-STGCN\n",
    "# df29 = pd.read_csv('./simulation_results/2023-05-03_21-58-04.csv') # STGCN IT-STGCN\n",
    "# df30 = pd.read_csv('./simulation_results/2023-05-04_04-39-00.csv') # STGCN IT-STGCN"
   ]
  },
  {
   "cell_type": "code",
   "execution_count": null,
   "id": "742814e0-9f3d-48c4-9f72-6852c33febdf",
   "metadata": {},
   "outputs": [],
   "source": [
    "data = pd.concat([df1,df2,df3,df4,df5,df6,df7,df8,df9,df10,df11,df12,df13,df14,df15,df16,\n",
    "                 df17,df18,df19,df20,df21,df22,df23,df24,df25,df26,df27,df28,df29,df30],axis=0)"
   ]
  },
  {
   "cell_type": "code",
   "execution_count": null,
   "id": "07c7157f-2223-4e33-8e00-7b34ce02e328",
   "metadata": {},
   "outputs": [],
   "source": [
    "data.to_csv('./simulation_results/Real_simulation/windmillsmall_block.csv',index=False)"
   ]
  },
  {
   "cell_type": "code",
   "execution_count": null,
   "id": "d6231954-66e3-49c7-b099-9cc13885c675",
   "metadata": {},
   "outputs": [],
   "source": [
    "data = pd.read_csv('./simulation_results/Real_simulation/windmillsmall_block.csv')"
   ]
  },
  {
   "cell_type": "code",
   "execution_count": null,
   "id": "5dd14f68-acfb-4bf7-8162-6d159da15399",
   "metadata": {},
   "outputs": [],
   "source": [
    "data.query(\"method=='GNAR'\")['mse'].unique()"
   ]
  },
  {
   "cell_type": "code",
   "execution_count": null,
   "id": "dd0ddd14-b606-4b8e-8ade-5d4f6ff4e689",
   "metadata": {},
   "outputs": [],
   "source": [
    "data.query(\"method!='GNAR' and mtype =='block' \").plot.box(backend='plotly',x='mrate',color='method',y='mse',facet_col='lags',facet_row='inter_method',height=800)\n"
   ]
  },
  {
   "cell_type": "markdown",
   "id": "0a96a985-7d9c-41fc-a7bc-175074511f7b",
   "metadata": {},
   "source": [
    "# Montevideobus"
   ]
  },
  {
   "cell_type": "code",
   "execution_count": null,
   "id": "ee59c5e4-e11a-4a10-a0b1-478a80afb228",
   "metadata": {},
   "outputs": [],
   "source": [
    "# df1 = pd.read_csv('./simulation_results/2023-04-30_23-28-01.csv') # lags 8\n",
    "# df2 = pd.read_csv('./simulation_results/2023-05-01_01-48-57.csv') # lags 8\n",
    "# df3 = pd.read_csv('./simulation_results/2023-05-01_04-10-06.csv') # lags 8\n",
    "# df4 = pd.read_csv('./simulation_results/2023-05-01_06-29-43.csv') # lags 8\n",
    "# df5 = pd.read_csv('./simulation_results/2023-05-01_08-56-25.csv') # lags 8\n",
    "# df6 = pd.read_csv('./simulation_results/2023-05-01_11-21-53.csv') # lags 8\n",
    "# df7 = pd.read_csv('./simulation_results/2023-05-01_14-35-28.csv') # lags 4\n",
    "# df8 = pd.read_csv('./simulation_results/2023-05-01_17-41-15.csv')\n",
    "# df9 = pd.read_csv('./simulation_results/2023-05-01_22-34-25.csv')\n",
    "# df10 = pd.read_csv('./simulation_results/2023-05-01_20-14-49.csv')\n",
    "# df11 = pd.read_csv('./simulation_results/2023-05-02_01-12-01.csv')\n",
    "# df12 = pd.read_csv('./simulation_results/2023-05-02_03-31-06.csv')\n",
    "# df13 = pd.read_csv('./simulation_results/2023-05-02_05-47-02.csv') # STGCN IT-STGCN\n",
    "# df14 = pd.read_csv('./simulation_results/2023-05-02_08-06-05.csv') # STGCN IT-STGCN\n",
    "# df15 = pd.read_csv('./simulation_results/2023-05-02_10-22-46.csv') # STGCN IT-STGCN\n",
    "# df16 = pd.read_csv('./simulation_results/2023-05-02_12-55-51.csv') # STGCN IT-STGCN\n",
    "# df17 = pd.read_csv('./simulation_results/2023-05-02_15-20-11.csv') # STGCN IT-STGCN\n",
    "# df18 = pd.read_csv('./simulation_results/2023-05-02_18-02-21.csv') # STGCN IT-STGCN\n",
    "# df19 = pd.read_csv('./simulation_results/2023-05-02_20-30-09.csv') # STGCN IT-STGCN\n",
    "# df20 = pd.read_csv('./simulation_results/2023-05-02_23-27-13.csv') # STGCN IT-STGCN\n",
    "# df21 = pd.read_csv('./simulation_results/2023-05-03_06-49-15.csv') # STGCN IT-STGCN\n",
    "# df22 = pd.read_csv('./simulation_results/2023-05-03_04-25-39.csv') # STGCN IT-STGCN\n",
    "# df23 = pd.read_csv('./simulation_results/2023-05-03_02-15-10.csv') # STGCN IT-STGCN\n",
    "# df24 = pd.read_csv('./simulation_results/2023-05-03_09-11-42.csv') # STGCN IT-STGCN\n",
    "# df25 = pd.read_csv('./simulation_results/2023-05-03_11-51-31.csv') # STGCN IT-STGCN\n",
    "# df26 = pd.read_csv('./simulation_results/2023-05-03_14-26-55.csv') # STGCN IT-STGCN\n",
    "# df27 = pd.read_csv('./simulation_results/2023-05-03_16-53-12.csv') # STGCN IT-STGCN\n",
    "# df28 = pd.read_csv('./simulation_results/2023-05-03_19-26-00.csv') # STGCN IT-STGCN\n",
    "# df29 = pd.read_csv('./simulation_results/2023-05-04_00-44-17.csv') # STGCN IT-STGCN\n",
    "# df30 = pd.read_csv('./simulation_results/2023-05-04_03-00-08.csv') # STGCN IT-STGCN"
   ]
  },
  {
   "cell_type": "code",
   "execution_count": null,
   "id": "a19d1bdd-17fe-42cf-a4c8-f270bff69e40",
   "metadata": {},
   "outputs": [],
   "source": [
    "data = pd.concat([df1,df2,df3,df4,df5,df6,df7,df8,df9,df10,df11,df12,df13,df14,df15,df16,df17,df18,\n",
    "                 df19,df20,df21,df22,df23,df24,df25,df26,df27,df28,df29,df30],axis=0)"
   ]
  },
  {
   "cell_type": "code",
   "execution_count": null,
   "id": "3858fad4-79eb-4bd2-a070-c55210e79185",
   "metadata": {},
   "outputs": [],
   "source": [
    "data.to_csv('./simulation_results/Real_simulation/monte.csv',index=False)"
   ]
  },
  {
   "cell_type": "code",
   "execution_count": null,
   "id": "b6060412-5bf9-480f-8246-83eed9a2677f",
   "metadata": {},
   "outputs": [],
   "source": [
    "data = pd.read_csv('./simulation_results/Real_simulation/monte.csv')"
   ]
  },
  {
   "cell_type": "markdown",
   "id": "d76c86cc-14b0-486d-a7cd-e185bea9937d",
   "metadata": {},
   "source": [
    "## Baseline"
   ]
  },
  {
   "cell_type": "code",
   "execution_count": null,
   "id": "b74d02f4-6e6d-4df7-ae60-9016366a6441",
   "metadata": {},
   "outputs": [],
   "source": [
    "data.query(\"mrate==0 and method!='GNAR'\").plot.box(backend='plotly',x='mrate',color='method',y='mse',facet_col='lags',facet_row='nof_filters',height=600)"
   ]
  },
  {
   "cell_type": "markdown",
   "id": "fb6d393f-1f72-4d49-a87a-e8b618b3f82a",
   "metadata": {},
   "source": [
    "## random"
   ]
  },
  {
   "cell_type": "code",
   "execution_count": null,
   "id": "07b857c9-8c55-447e-a5ce-ea85749a21c6",
   "metadata": {},
   "outputs": [],
   "source": [
    "data.query(\"method=='GNAR'\").groupby('mrate')['mse'].unique()"
   ]
  },
  {
   "cell_type": "code",
   "execution_count": null,
   "id": "a9c733bb-fca8-46d3-9b9e-8ae79eeb6327",
   "metadata": {},
   "outputs": [],
   "source": [
    "data.query(\"mtype=='rand' and mrate !=0 and method!='GNAR' and mrate!=0.8 and mrate!=0.9\").sort_values('lags').plot.box(backend='plotly',x='mrate',color='method',y='mse',facet_col='lags',facet_row='inter_method',height=800)\n"
   ]
  },
  {
   "cell_type": "code",
   "execution_count": null,
   "id": "029ea9a2-a455-491d-91fe-908e3f950854",
   "metadata": {},
   "outputs": [],
   "source": [
    "data.query(\"mtype=='rand' and mrate !=0 and method!='GNAR' and mrate!=0.3 and mrate!=0.4\").plot.box(backend='plotly',x='mrate',color='method',y='mse',facet_col='lags',facet_row='inter_method',height=800)\n"
   ]
  },
  {
   "cell_type": "markdown",
   "id": "193a8c91-ea53-4f8d-aba2-d843468e14f8",
   "metadata": {},
   "source": [
    "## block"
   ]
  },
  {
   "cell_type": "code",
   "execution_count": null,
   "id": "1ec09aea-da18-4b50-a46f-3ec6c3ad4c51",
   "metadata": {},
   "outputs": [],
   "source": [
    "# df1 = pd.read_csv('./simulation_results/2023-05-04_21-03-21.csv')\n",
    "# df2 = pd.read_csv('./simulation_results/2023-05-05_12-10-44.csv')\n",
    "# df3 = pd.read_csv('./simulation_results/2023-05-06_12-42-22.csv')\n",
    "# df4 = pd.read_csv('./simulation_results/2023-05-06_15-40-47.csv')"
   ]
  },
  {
   "cell_type": "code",
   "execution_count": null,
   "id": "b4dbadce-6bf9-42be-ad21-a4cde9af6257",
   "metadata": {},
   "outputs": [],
   "source": [
    "data = pd.concat([df1,df2,df3,df4],axis=0)"
   ]
  },
  {
   "cell_type": "code",
   "execution_count": null,
   "id": "8143475d-f113-4ead-a209-a74c6126bb56",
   "metadata": {},
   "outputs": [],
   "source": [
    "data.to_csv('./simulation_results/Real_simulation/monte_block.csv',index=False)"
   ]
  },
  {
   "cell_type": "code",
   "execution_count": null,
   "id": "364204ca-f3af-44d1-ab87-f48692db5d2d",
   "metadata": {},
   "outputs": [],
   "source": [
    "data = pd.read_csv('./simulation_results/Real_simulation/monte_block.csv')"
   ]
  },
  {
   "cell_type": "code",
   "execution_count": null,
   "id": "a0886aa6-b117-481d-9679-c069d2f0d5e7",
   "metadata": {},
   "outputs": [],
   "source": [
    "data.query(\"mtype=='block' and method=='GNAR'\")['mse'].mean()"
   ]
  },
  {
   "cell_type": "code",
   "execution_count": null,
   "id": "8df82195-7499-4c52-8ad9-7742421b17bf",
   "metadata": {},
   "outputs": [],
   "source": [
    "data.query(\"mtype=='block' and method!='GNAR'\").plot.box(backend='plotly',x='mrate',color='method',y='mse',facet_col='lags',facet_row='nof_filters',height=1200)\n"
   ]
  },
  {
   "cell_type": "code",
   "execution_count": null,
   "id": "ce90bc2e-0614-420a-8d9b-ad39e0baeb97",
   "metadata": {},
   "outputs": [],
   "source": []
  },
  {
   "cell_type": "code",
   "execution_count": null,
   "id": "ffd41010-0d56-49d7-902f-468782d630ac",
   "metadata": {},
   "outputs": [],
   "source": []
  },
  {
   "cell_type": "code",
   "execution_count": null,
   "id": "cb64cdf6-a172-4db5-ac20-54258df2a933",
   "metadata": {},
   "outputs": [],
   "source": []
  },
  {
   "cell_type": "code",
   "execution_count": null,
   "id": "d73f828b-0592-493e-9a5c-364cd6c2ffcc",
   "metadata": {},
   "outputs": [],
   "source": []
  },
  {
   "cell_type": "code",
   "execution_count": null,
   "id": "0d13d43e-5e2d-41e4-a26e-3617356cad46",
   "metadata": {},
   "outputs": [],
   "source": []
  }
 ],
 "metadata": {
  "kernelspec": {
   "display_name": "Python 3",
   "language": "python",
   "name": "python3"
  },
  "language_info": {
   "codemirror_mode": {
    "name": "ipython",
    "version": 3
   },
   "file_extension": ".py",
   "mimetype": "text/x-python",
   "name": "python",
   "nbconvert_exporter": "python",
   "pygments_lexer": "ipython3",
   "version": "3.8.0"
  }
 },
 "nbformat": 4,
 "nbformat_minor": 5
}

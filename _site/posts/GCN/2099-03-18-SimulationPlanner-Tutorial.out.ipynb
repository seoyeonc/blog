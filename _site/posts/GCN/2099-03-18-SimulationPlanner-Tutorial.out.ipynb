{
  "cells": [
    {
      "cell_type": "markdown",
      "metadata": {},
      "source": [
        "# SimualtionPlanner-Tutorial\n",
        "\n",
        "SEOYEON CHOI  \n",
        "3/18/23\n",
        "\n",
        "> table\n",
        "\n",
        "# BLOCK\n",
        "\n",
        "# List\n",
        "\n",
        "1.  \n",
        "\n",
        "-   max_iter=30/linear/epoch=50\\~200/STGCN,IT-STGCN\n",
        "\n",
        "1.  \n",
        "\n",
        "-   missing 만드는 법(block 생각)\n",
        "\n",
        "1.  \n",
        "\n",
        "-   \n",
        "\n",
        "4.반복의미 없음, 고정된 값 출력되어서\n",
        "\n",
        "-   \n",
        "\n",
        "할 거\n",
        "\n",
        "-   missing 0일 때 STGCN/GNAR 비교(CHECK)\n",
        "-   baseline 제시될만한 데이터셋 뭘까.\n",
        "-   GNAR warning 안 나오는 법 찾아보기\n",
        "-   mindex가 중요ㅡ mtype은 기록용으로만 사용됨\n",
        "\n",
        "`_df = pd.concat([_a,,_b,_c],axis=0)`\n",
        "\n",
        "`save_data(_df, './data/Pedal_estgcn_randomly_by_rate.pkl')`\n",
        "\n",
        "# imports\n",
        "\n",
        "https://pytorch-geometric-temporal.readthedocs.io/en/latest/\\_modules/index.html"
      ],
      "id": "fcf9b2ea-2e26-4b24-b6c7-0d9707a3d116"
    },
    {
      "cell_type": "code",
      "execution_count": null,
      "metadata": {},
      "outputs": [],
      "source": [
        "import itstgcnGCLSTM\n",
        "import torch\n",
        "import itstgcnGCLSTM.planner "
      ],
      "id": "6da915ae-28f3-410b-b4e0-6cd733a8ccf7"
    },
    {
      "cell_type": "code",
      "execution_count": null,
      "metadata": {},
      "outputs": [],
      "source": [
        "from torch_geometric_temporal.dataset import ChickenpoxDatasetLoader\n",
        "loader1 = ChickenpoxDatasetLoader()"
      ],
      "id": "4fe287ae-c275-4d0e-9fe2-6a3964b649d4"
    },
    {
      "cell_type": "code",
      "execution_count": null,
      "metadata": {},
      "outputs": [],
      "source": [
        "from torch_geometric_temporal.dataset import PedalMeDatasetLoader\n",
        "loader2 = PedalMeDatasetLoader()"
      ],
      "id": "0cd9e552-b0b3-4118-812d-3cbb31fd4d04"
    },
    {
      "cell_type": "code",
      "execution_count": null,
      "metadata": {},
      "outputs": [],
      "source": [
        "from torch_geometric_temporal.dataset import WikiMathsDatasetLoader\n",
        "loader3 = WikiMathsDatasetLoader()"
      ],
      "id": "0ad901b2-1fab-4f38-b5e8-a84beb542a75"
    },
    {
      "cell_type": "code",
      "execution_count": null,
      "metadata": {},
      "outputs": [],
      "source": [
        "from torch_geometric_temporal.dataset import WindmillOutputLargeDatasetLoader\n",
        "loader4 = WindmillOutputLargeDatasetLoader()"
      ],
      "id": "0e840015-0597-4c7b-bb39-8738f1849470"
    },
    {
      "cell_type": "code",
      "execution_count": null,
      "metadata": {},
      "outputs": [],
      "source": [
        "from torch_geometric_temporal.dataset import WindmillOutputMediumDatasetLoader\n",
        "loader5 = WindmillOutputMediumDatasetLoader()"
      ],
      "id": "2c1b235a-f9dd-4a95-ab45-f63da0061626"
    },
    {
      "cell_type": "code",
      "execution_count": null,
      "metadata": {},
      "outputs": [],
      "source": [
        "from torch_geometric_temporal.dataset import WindmillOutputSmallDatasetLoader\n",
        "loader6 = WindmillOutputSmallDatasetLoader()"
      ],
      "id": "f9e1fccb-c25c-4153-8f13-a4a5bba72225"
    },
    {
      "cell_type": "code",
      "execution_count": 2,
      "metadata": {},
      "outputs": [],
      "source": [
        "loader6 = itstgcnGCLSTM.load_data('./data/Windmillsmall.pkl')"
      ],
      "id": "d85f6379-3772-4753-b37f-39cb53137ddc"
    },
    {
      "cell_type": "code",
      "execution_count": null,
      "metadata": {},
      "outputs": [],
      "source": [
        "# dataset6 = _a.get_dataset(lags=8)"
      ],
      "id": "0172b216-e2af-41bd-a6de-58a895d08966"
    },
    {
      "cell_type": "code",
      "execution_count": null,
      "metadata": {},
      "outputs": [],
      "source": [
        "from torch_geometric_temporal.dataset import MontevideoBusDatasetLoader\n",
        "loader10 = MontevideoBusDatasetLoader()"
      ],
      "id": "1a8c5091-a8e0-41c2-bc48-0cf09442f502"
    },
    {
      "cell_type": "code",
      "execution_count": null,
      "metadata": {},
      "outputs": [],
      "source": [
        "import numpy as np"
      ],
      "id": "2a30c784-82b4-45ea-905a-7c828be9e27b"
    },
    {
      "cell_type": "code",
      "execution_count": null,
      "metadata": {},
      "outputs": [],
      "source": [
        "import pandas as pd"
      ],
      "id": "24c5bb0f-75c2-461e-b1f2-542f89721670"
    },
    {
      "cell_type": "markdown",
      "metadata": {},
      "source": [
        "# read data"
      ],
      "id": "1cd59aa6-d599-4c6f-88ba-6a795bcc67cb"
    },
    {
      "cell_type": "code",
      "execution_count": null,
      "metadata": {},
      "outputs": [],
      "source": [
        "# _data = itstgcn.load_data('./data/fivenodes.pkl')\n",
        "# _edges = torch.tensor(_data['edges']).nonzero().tolist()\n",
        "# _FX = _data['f'].tolist()\n",
        "# _node_ids = {'node1':0, 'node2':1, 'node3':2, 'node4':3, 'node5':4} \n",
        "# data_dict = {'edges':_edges, 'node_ids':_node_ids, 'FX':_FX}\n",
        "data_dict = itstgcn.load_data('./data/fivenodes.pkl')\n",
        "loader = itstgcn.DatasetLoader(data_dict)"
      ],
      "id": "a496495f-ffbb-4ac2-a3f5-05d091f4c312"
    },
    {
      "cell_type": "markdown",
      "metadata": {},
      "source": [
        "## PLNR_STGCN_RAND"
      ],
      "id": "e59ab705-24bb-43df-a1ac-807c0acda5c4"
    },
    {
      "cell_type": "code",
      "execution_count": null,
      "metadata": {},
      "outputs": [],
      "source": [
        "plans_stgcn_rand = {\n",
        "    'max_iteration': 30, \n",
        "    'method': ['STGCN', 'IT-STGCN'],\n",
        "    'mrate': [0,0.7,0.8],\n",
        "    'lags': [2], \n",
        "    'nof_filters': [12], \n",
        "    'inter_method': ['linear','nearest'],\n",
        "    'epoch': [50]\n",
        "}"
      ],
      "id": "82a02b38-62eb-49e4-85dd-ccd04fc03520"
    },
    {
      "cell_type": "code",
      "execution_count": null,
      "metadata": {},
      "outputs": [],
      "source": [
        "plnr = itstgcn.planner.PLNR_STGCN_RAND(plans_stgcn_rand,loader1,dataset_name='fivenodes')\n",
        "plnr.simulate()"
      ],
      "id": "d18df1c9-6b3f-4ec7-bd1f-0dc35c3e4d6b"
    },
    {
      "cell_type": "code",
      "execution_count": null,
      "metadata": {},
      "outputs": [],
      "source": [
        "plans_stgcn_rand = {\n",
        "    'max_iteration': 30, \n",
        "    'method': ['STGCN', 'IT-STGCN'],\n",
        "    'mrate': [0.3,0.8],\n",
        "    'lags': [4], \n",
        "    'nof_filters': [16], \n",
        "    'inter_method': ['linear'],\n",
        "    'epoch': [50]\n",
        "}"
      ],
      "id": "c37eafee-e340-4b47-ab91-6314e4b0712b"
    },
    {
      "cell_type": "code",
      "execution_count": null,
      "metadata": {},
      "outputs": [],
      "source": [
        "plnr = itstgcn.planner.PLNR_STGCN_RAND(plans_stgcn_rand,loader1,dataset_name='chickenpox')\n",
        "plnr.simulate()"
      ],
      "id": "7e91c109-c57e-471a-837e-bc40c637fd5f"
    },
    {
      "cell_type": "code",
      "execution_count": null,
      "metadata": {},
      "outputs": [],
      "source": [
        "plans_stgcn_rand = {\n",
        "    'max_iteration': 30, \n",
        "    'method': ['STGCN', 'IT-STGCN'],\n",
        "    'mrate': [0],\n",
        "    'lags': [4], \n",
        "    'nof_filters': [16], \n",
        "    'inter_method': ['linear'],\n",
        "    'epoch': [50]\n",
        "}"
      ],
      "id": "5bf4a024-d7f1-456c-84e5-b2c3e91a715b"
    },
    {
      "cell_type": "code",
      "execution_count": null,
      "metadata": {},
      "outputs": [],
      "source": [
        "plnr = itstgcn.planner.PLNR_STGCN_RAND(plans_stgcn_rand,loader1,dataset_name='chickenpox')\n",
        "plnr.simulate()"
      ],
      "id": "4bfb1a4b-b582-4315-b3dc-a0e6cf0ce9aa"
    },
    {
      "cell_type": "code",
      "execution_count": null,
      "metadata": {},
      "outputs": [],
      "source": [
        "plans_stgcn_rand = {\n",
        "    'max_iteration': 1, \n",
        "    'method': ['STGCN', 'IT-STGCN'], \n",
        "    'mrate': [0],\n",
        "    'lags': [8], \n",
        "    'nof_filters': [12], \n",
        "    'inter_method': ['linear'],\n",
        "    'epoch': [50]\n",
        "}"
      ],
      "id": "02a53ab5-38a3-4cb8-8277-7db9074627a6"
    },
    {
      "cell_type": "code",
      "execution_count": null,
      "metadata": {},
      "outputs": [],
      "source": [
        "plnr = itstgcn.planner.PLNR_STGCN_RAND(plans_stgcn_rand,loader6,dataset_name='windmillsmall')\n",
        "plnr.simulate()"
      ],
      "id": "aa204cfb-8945-46da-86d7-5b39e36169f1"
    },
    {
      "cell_type": "code",
      "execution_count": null,
      "metadata": {},
      "outputs": [],
      "source": [
        "plans_stgcn_rand = {\n",
        "    'max_iteration': 10, \n",
        "    'method': ['STGCN', 'IT-STGCN'], \n",
        "    'mrate': [0.3],\n",
        "    'lags': [2, 4], \n",
        "    'nof_filters': [12], \n",
        "    'inter_method': ['linear'],\n",
        "    'epoch': [50]\n",
        "}"
      ],
      "id": "849c0e51-8372-4c15-8524-c0578704d967"
    },
    {
      "cell_type": "code",
      "execution_count": null,
      "metadata": {},
      "outputs": [],
      "source": [
        "plnr = itstgcnadd.planner.PLNR_STGCN_RAND(plans_stgcn_rand,loader3,dataset_name='wikimath')"
      ],
      "id": "18c9045b-0018-48f2-8951-2347a4adbb39"
    },
    {
      "cell_type": "code",
      "execution_count": null,
      "metadata": {},
      "outputs": [],
      "source": [
        "plnr.simulate()"
      ],
      "id": "3c4ff3fb-6f1a-4c34-b57b-cf4c2c7dc165"
    },
    {
      "cell_type": "code",
      "execution_count": null,
      "metadata": {},
      "outputs": [],
      "source": [
        "plans_stgcn_rand = {\n",
        "    'max_iteration': 1, \n",
        "    'method': ['STGCN', 'IT-STGCN'], \n",
        "    'RecurrentGCN' : ['DCRNN'],\n",
        "    'mrate': [0],\n",
        "    'lags': [8], \n",
        "    'nof_filters': [12], \n",
        "    'inter_method': ['linear'],\n",
        "    'epoch': [50]\n",
        "}"
      ],
      "id": "de1912ba-9813-4e25-8387-5e30391068fc"
    },
    {
      "cell_type": "code",
      "execution_count": null,
      "metadata": {},
      "outputs": [],
      "source": [
        "plnr = itstgcnadd.planner.PLNR_STGCN_RAND(plans_stgcn_rand,loader6,dataset_name='windmillsmall')\n",
        "plnr.simulate()"
      ],
      "id": "20da4a97-a596-47f7-871a-cde1c01b5a17"
    },
    {
      "cell_type": "code",
      "execution_count": 3,
      "metadata": {},
      "outputs": [],
      "source": [
        "my_list = [[] for _ in range(11)] #windmilsmall\n",
        "another_list = list(range(5000,7500)) # 17470*0.8 = 13976.0\n",
        "my_list[1] = another_list\n",
        "my_list[3] = another_list\n",
        "my_list[5] = another_list\n",
        "my_list[7] = another_list\n",
        "my_list[9] = another_list\n",
        "mindex = my_list"
      ],
      "id": "7db0b0af-de78-40d1-b7fc-582ed9225cc9"
    },
    {
      "cell_type": "code",
      "execution_count": 4,
      "metadata": {},
      "outputs": [],
      "source": [
        "# mindex= [[],[],[],list(range(50,150)),[]]  # node 1\n",
        "# mindex= [list(range(10,100)),[],list(range(50,80)),[],[]] # node 2\n",
        "# mindex= [list(range(10,100)),[],list(range(50,80)),list(range(50,150)),[]] # node3\n",
        "plans_stgcn_block = {\n",
        "    'max_iteration': 1, \n",
        "    'method': ['STGCN', 'IT-STGCN'], \n",
        "    'mindex': [mindex],\n",
        "    'lags': [8], \n",
        "    'nof_filters': [16], \n",
        "    'inter_method': ['linear'],\n",
        "    'epoch': [50]\n",
        "}"
      ],
      "id": "37fe37fc-89b1-4df9-b22c-50413ed65e37"
    },
    {
      "cell_type": "code",
      "execution_count": null,
      "metadata": {},
      "outputs": [
        {
          "output_type": "stream",
          "name": "stderr",
          "text": [
            "/home/csy/Dropbox/blog/posts/GCN/itstgcnGCLSTM/utils.py:71: UserWarning: Creating a tensor from a list of numpy.ndarrays is extremely slow. Please consider converting the list to a single numpy.ndarray with numpy.array() before converting to a tensor. (Triggered internally at /opt/conda/conda-bld/pytorch_1682343998658/work/torch/csrc/utils/tensor_new.cpp:245.)\n",
            "  lags = torch.tensor(train_dataset.features).shape[-1]"
          ]
        }
      ],
      "source": [
        "plnr = itstgcnGCLSTM.planner.PLNR_STGCN_MANUAL(plans_stgcn_block,loader6,dataset_name='windmillsmall')\n",
        "plnr.simulate(mindex=mindex,mtype='block')"
      ],
      "id": "81fea82c-1502-41fb-af35-71982a64b24a"
    },
    {
      "cell_type": "code",
      "execution_count": null,
      "metadata": {},
      "outputs": [],
      "source": [
        "plnr = itstgcnGCLSTM.planner.PLNR_STGCN_MANUAL(plans_stgcn_block,loader6,dataset_name='windmillsmall')\n",
        "plnr.simulate(mindex=mindex,mtype='block')"
      ],
      "id": "b9c6c7d1-dfc4-4474-8ef2-3456f00a6438"
    },
    {
      "cell_type": "code",
      "execution_count": null,
      "metadata": {},
      "outputs": [],
      "source": [
        "plnr = itstgcnGCLSTM.planner.PLNR_STGCN_MANUAL(plans_stgcn_block,loader6,dataset_name='windmillsmall')\n",
        "plnr.simulate(mindex=mindex,mtype='block')"
      ],
      "id": "431934ff-e54f-4316-ae73-f25396cc5f66"
    },
    {
      "cell_type": "code",
      "execution_count": null,
      "metadata": {},
      "outputs": [],
      "source": [
        "plnr = itstgcnGCLSTM.planner.PLNR_STGCN_MANUAL(plans_stgcn_block,loader6,dataset_name='windmillsmall')\n",
        "plnr.simulate(mindex=mindex,mtype='block')"
      ],
      "id": "47673bd4-5de7-49cf-b936-ea1ada88120b"
    },
    {
      "cell_type": "code",
      "execution_count": null,
      "metadata": {},
      "outputs": [],
      "source": [
        "plnr = itstgcnGCLSTM.planner.PLNR_STGCN_MANUAL(plans_stgcn_block,loader6,dataset_name='windmillsmall')\n",
        "plnr.simulate(mindex=mindex,mtype='block')"
      ],
      "id": "294b56c0-6ec3-44d0-a1b5-6b450b97804c"
    },
    {
      "cell_type": "code",
      "execution_count": null,
      "metadata": {},
      "outputs": [],
      "source": [
        "plnr = itstgcnGCLSTM.planner.PLNR_STGCN_MANUAL(plans_stgcn_block,loader6,dataset_name='windmillsmall')\n",
        "plnr.simulate(mindex=mindex,mtype='block')"
      ],
      "id": "f55ea325-7cda-4ef3-b794-e077be3a5a46"
    },
    {
      "cell_type": "code",
      "execution_count": null,
      "metadata": {},
      "outputs": [],
      "source": [
        "plnr = itstgcnGCLSTM.planner.PLNR_STGCN_MANUAL(plans_stgcn_block,loader6,dataset_name='windmillsmall')\n",
        "plnr.simulate(mindex=mindex,mtype='block')"
      ],
      "id": "5f3173f1-0178-43cb-9281-099794d62109"
    },
    {
      "cell_type": "code",
      "execution_count": null,
      "metadata": {},
      "outputs": [],
      "source": [
        "plnr = itstgcnGCLSTM.planner.PLNR_STGCN_MANUAL(plans_stgcn_block,loader6,dataset_name='windmillsmall')\n",
        "plnr.simulate(mindex=mindex,mtype='block')"
      ],
      "id": "60a0ea91-9bf7-495a-a870-130552a86b53"
    },
    {
      "cell_type": "code",
      "execution_count": null,
      "metadata": {},
      "outputs": [],
      "source": [
        "plnr = itstgcnGCLSTM.planner.PLNR_STGCN_MANUAL(plans_stgcn_block,loader6,dataset_name='windmillsmall')\n",
        "plnr.simulate(mindex=mindex,mtype='block')"
      ],
      "id": "a845e749-c445-4577-82c2-79f458ffb22c"
    },
    {
      "cell_type": "code",
      "execution_count": null,
      "metadata": {},
      "outputs": [],
      "source": [
        "plnr = itstgcnGCLSTM.planner.PLNR_STGCN_MANUAL(plans_stgcn_block,loader6,dataset_name='windmillsmall')\n",
        "plnr.simulate(mindex=mindex,mtype='block')"
      ],
      "id": "b6534783-92f8-43d3-9b8c-75b51a3aa76e"
    },
    {
      "cell_type": "code",
      "execution_count": null,
      "metadata": {},
      "outputs": [],
      "source": [
        "plnr = itstgcnGCLSTM.planner.PLNR_STGCN_MANUAL(plans_stgcn_block,loader6,dataset_name='windmillsmall')\n",
        "plnr.simulate(mindex=mindex,mtype='block')"
      ],
      "id": "17df71d4-fb69-41f6-acef-e8bd526321cf"
    },
    {
      "cell_type": "code",
      "execution_count": null,
      "metadata": {},
      "outputs": [],
      "source": [
        "plnr = itstgcnGCLSTM.planner.PLNR_STGCN_MANUAL(plans_stgcn_block,loader6,dataset_name='windmillsmall')\n",
        "plnr.simulate(mindex=mindex,mtype='block')"
      ],
      "id": "e839e2f3-d659-4287-839f-82b5da13f5fc"
    },
    {
      "cell_type": "code",
      "execution_count": null,
      "metadata": {},
      "outputs": [],
      "source": [
        "plnr = itstgcnGCLSTM.planner.PLNR_STGCN_MANUAL(plans_stgcn_block,loader6,dataset_name='windmillsmall')\n",
        "plnr.simulate(mindex=mindex,mtype='block')"
      ],
      "id": "e7b03727-3bae-4efe-b59d-96867636f2c5"
    },
    {
      "cell_type": "code",
      "execution_count": null,
      "metadata": {},
      "outputs": [],
      "source": [
        "plnr = itstgcnGCLSTM.planner.PLNR_STGCN_MANUAL(plans_stgcn_block,loader6,dataset_name='windmillsmall')\n",
        "plnr.simulate(mindex=mindex,mtype='block')"
      ],
      "id": "0b3568fb-f8d1-41c7-8eff-33569ff74cf7"
    },
    {
      "cell_type": "code",
      "execution_count": null,
      "metadata": {},
      "outputs": [],
      "source": [
        "plnr = itstgcnGCLSTM.planner.PLNR_STGCN_MANUAL(plans_stgcn_block,loader6,dataset_name='windmillsmall')\n",
        "plnr.simulate(mindex=mindex,mtype='block')"
      ],
      "id": "50efaf08-d8fb-44b0-8d92-f6db1f45546d"
    },
    {
      "cell_type": "code",
      "execution_count": null,
      "metadata": {},
      "outputs": [],
      "source": [
        "plnr = itstgcnGCLSTM.planner.PLNR_STGCN_MANUAL(plans_stgcn_block,loader6,dataset_name='windmillsmall')\n",
        "plnr.simulate(mindex=mindex,mtype='block')"
      ],
      "id": "a560de51-2167-42ee-8181-612fb3042143"
    },
    {
      "cell_type": "code",
      "execution_count": null,
      "metadata": {},
      "outputs": [],
      "source": [
        "plnr = itstgcnGCLSTM.planner.PLNR_STGCN_MANUAL(plans_stgcn_block,loader6,dataset_name='windmillsmall')\n",
        "plnr.simulate(mindex=mindex,mtype='block')"
      ],
      "id": "7af05f92-d0f4-42a0-a243-0c7ac3f562d2"
    },
    {
      "cell_type": "code",
      "execution_count": null,
      "metadata": {},
      "outputs": [],
      "source": [
        "plnr = itstgcnGCLSTM.planner.PLNR_STGCN_MANUAL(plans_stgcn_block,loader6,dataset_name='windmillsmall')\n",
        "plnr.simulate(mindex=mindex,mtype='block')"
      ],
      "id": "0a7bdad0-efb7-48d9-bd86-72fc6ce90a41"
    },
    {
      "cell_type": "code",
      "execution_count": null,
      "metadata": {},
      "outputs": [],
      "source": [
        "plnr = itstgcnGCLSTM.planner.PLNR_STGCN_MANUAL(plans_stgcn_block,loader6,dataset_name='windmillsmall')\n",
        "plnr.simulate(mindex=mindex,mtype='block')"
      ],
      "id": "1baadfae-3c2b-4428-aa4c-b2969ace848c"
    },
    {
      "cell_type": "code",
      "execution_count": null,
      "metadata": {},
      "outputs": [],
      "source": [
        "plnr = itstgcnGCLSTM.planner.PLNR_STGCN_MANUAL(plans_stgcn_block,loader6,dataset_name='windmillsmall')\n",
        "plnr.simulate(mindex=mindex,mtype='block')"
      ],
      "id": "628f051e-4f30-4f27-9b1f-b3e848619a48"
    },
    {
      "cell_type": "code",
      "execution_count": null,
      "metadata": {},
      "outputs": [],
      "source": [
        "plnr = itstgcnGCLSTM.planner.PLNR_STGCN_MANUAL(plans_stgcn_block,loader6,dataset_name='windmillsmall')\n",
        "plnr.simulate(mindex=mindex,mtype='block')"
      ],
      "id": "fa3e065c-8165-4b91-bda7-59fc75eafa9d"
    },
    {
      "cell_type": "code",
      "execution_count": null,
      "metadata": {},
      "outputs": [],
      "source": [
        "plnr = itstgcnGCLSTM.planner.PLNR_STGCN_MANUAL(plans_stgcn_block,loader6,dataset_name='windmillsmall')\n",
        "plnr.simulate(mindex=mindex,mtype='block')"
      ],
      "id": "e2a0651c-d9d9-4f24-af4e-c646a496e653"
    },
    {
      "cell_type": "code",
      "execution_count": null,
      "metadata": {},
      "outputs": [],
      "source": [
        "plnr = itstgcnGCLSTM.planner.PLNR_STGCN_MANUAL(plans_stgcn_block,loader6,dataset_name='windmillsmall')\n",
        "plnr.simulate(mindex=mindex,mtype='block')"
      ],
      "id": "eb996a46-fd89-4a31-a683-3b96b9b460ea"
    },
    {
      "cell_type": "code",
      "execution_count": null,
      "metadata": {},
      "outputs": [],
      "source": [
        "plnr = itstgcnGCLSTM.planner.PLNR_STGCN_MANUAL(plans_stgcn_block,loader6,dataset_name='windmillsmall')\n",
        "plnr.simulate(mindex=mindex,mtype='block')"
      ],
      "id": "326c16cd-3e5c-4c36-97cd-bcf15917f0c4"
    },
    {
      "cell_type": "code",
      "execution_count": null,
      "metadata": {},
      "outputs": [],
      "source": [
        "plnr = itstgcnGCLSTM.planner.PLNR_STGCN_MANUAL(plans_stgcn_block,loader6,dataset_name='windmillsmall')\n",
        "plnr.simulate(mindex=mindex,mtype='block')"
      ],
      "id": "2fc55a7d-e013-4043-b4a6-3a7cb46d3f7f"
    },
    {
      "cell_type": "code",
      "execution_count": null,
      "metadata": {},
      "outputs": [],
      "source": [
        "plnr = itstgcnGCLSTM.planner.PLNR_STGCN_MANUAL(plans_stgcn_block,loader6,dataset_name='windmillsmall')\n",
        "plnr.simulate(mindex=mindex,mtype='block')"
      ],
      "id": "d0fe3fde-765f-4acb-bea8-5960bbd0db35"
    },
    {
      "cell_type": "code",
      "execution_count": null,
      "metadata": {},
      "outputs": [],
      "source": [
        "plnr = itstgcnGCLSTM.planner.PLNR_STGCN_MANUAL(plans_stgcn_block,loader6,dataset_name='windmillsmall')\n",
        "plnr.simulate(mindex=mindex,mtype='block')"
      ],
      "id": "6b6ba395-83bf-44a3-8ca9-01c54567ca5b"
    },
    {
      "cell_type": "code",
      "execution_count": null,
      "metadata": {},
      "outputs": [],
      "source": [
        "plnr = itstgcnGCLSTM.planner.PLNR_STGCN_MANUAL(plans_stgcn_block,loader6,dataset_name='windmillsmall')\n",
        "plnr.simulate(mindex=mindex,mtype='block')"
      ],
      "id": "9dce95b2-4268-4989-af49-b05509eeb9c0"
    },
    {
      "cell_type": "code",
      "execution_count": null,
      "metadata": {},
      "outputs": [],
      "source": [
        "plnr = itstgcnGCLSTM.planner.PLNR_STGCN_MANUAL(plans_stgcn_block,loader6,dataset_name='windmillsmall')\n",
        "plnr.simulate(mindex=mindex,mtype='block')"
      ],
      "id": "929525ab-8650-4ec5-a45b-3d809bc7a412"
    },
    {
      "cell_type": "code",
      "execution_count": null,
      "metadata": {},
      "outputs": [],
      "source": [
        "plnr = itstgcnGCLSTM.planner.PLNR_STGCN_MANUAL(plans_stgcn_block,loader6,dataset_name='windmillsmall')\n",
        "plnr.simulate(mindex=mindex,mtype='block')"
      ],
      "id": "c1b300f1-a037-4434-86c4-beba0450e51f"
    },
    {
      "cell_type": "markdown",
      "metadata": {},
      "source": [
        "## PLNR_STGCN_MANUAL"
      ],
      "id": "e6acfc4b-c6d1-483b-908e-cb5067391385"
    },
    {
      "cell_type": "code",
      "execution_count": null,
      "metadata": {},
      "outputs": [],
      "source": [
        "my_list = [[] for _ in range(20)] #chickenpox\n",
        "another_list = list(range(100,400))\n",
        "my_list[1] = another_list\n",
        "my_list[3] = another_list\n",
        "my_list[5] = another_list\n",
        "my_list[7] = another_list\n",
        "my_list[9] = another_list\n",
        "my_list[11] = another_list\n",
        "my_list[13] = another_list\n",
        "my_list[15] = another_list\n",
        "mindex = my_list"
      ],
      "id": "158990e8-5dec-4f69-a71c-8f5fc47bd4ab"
    },
    {
      "cell_type": "code",
      "execution_count": null,
      "metadata": {},
      "outputs": [],
      "source": [
        "my_list = [[] for _ in range(15)] #pedalme\n",
        "another_list = list(range(5,35))\n",
        "my_list[2] = another_list\n",
        "my_list[4] = another_list\n",
        "my_list[7] = another_list\n",
        "my_list[11] = another_list\n",
        "mindex = my_list"
      ],
      "id": "884b0351-6ab9-4b2c-ade1-f61f79ac1f58"
    },
    {
      "cell_type": "code",
      "execution_count": null,
      "metadata": {},
      "outputs": [],
      "source": [
        "import random\n",
        "my_list = [[] for _ in range(1068)] # wikimath\n",
        "another_list = random.sample(range(570), 72)\n",
        "# my_list에서 250개 요소 무작위 선택\n",
        "selected_indexes = random.sample(range(len(my_list)), 250)\n",
        "# 선택된 요소에 해당하는 값들을 another_list에 할당\n",
        "for index in selected_indexes:\n",
        "    my_list[index] = another_list"
      ],
      "id": "96007159-d6fc-4778-9889-ecee4290b30a"
    },
    {
      "cell_type": "code",
      "execution_count": null,
      "metadata": {},
      "outputs": [],
      "source": [
        "# _data = itstgcn.load_data('./data/fivenodes.pkl')\n",
        "# _edges = torch.tensor(_data['edges']).nonzero().tolist()\n",
        "# _FX = _data['f'].tolist()\n",
        "# _node_ids = {'node1':0, 'node2':1, 'node3':2, 'node4':3, 'node5':4} \n",
        "# data_dict = {'edges':_edges, 'node_ids':_node_ids, 'FX':_FX}\n",
        "# loader = itstgcn.DatasetLoader(data_dict)\n",
        "# data_dict = itstgcn.load_data('./data/fivenodes.pkl')\n",
        "# loader = itstgcn.DatasetLoader(data_dict)"
      ],
      "id": "f5cbe6db-3ae3-47ad-bf2f-c2015581f518"
    },
    {
      "cell_type": "code",
      "execution_count": null,
      "metadata": {},
      "outputs": [],
      "source": [
        "# mindex= [[],[],[],list(range(50,150)),[]]\n",
        "# mindex= [list(range(50,150)),[],list(range(50,90)),list(range(50,150)),[]] # node 2\n",
        "plans_stgcn_block = {\n",
        "    'max_iteration': 10, \n",
        "    'method': ['STGCN', 'IT-STGCN'],\n",
        "    'RecurrentGCN' : ['GConvGRU','GConvLSTM'],\n",
        "    'mindex': [mindex],\n",
        "    'lags': [4], \n",
        "    'nof_filters': [16], \n",
        "    'inter_method': ['linear'],\n",
        "    'epoch': [50],\n",
        "    'lr': [0.01]\n",
        "}"
      ],
      "id": "a2da9a7f-0d35-4c09-b59a-9c2c66105702"
    },
    {
      "cell_type": "code",
      "execution_count": null,
      "metadata": {},
      "outputs": [],
      "source": [
        "plnr = itstgcn.planner.PLNR_STGCN_MANUAL(plans_stgcn_block,loader1,dataset_name='chickenpox')\n",
        "\n",
        "plnr.simulate(mindex=mindex,mtype='block')"
      ],
      "id": "79592a1b-44a6-4d41-b58c-063c25dc2232"
    },
    {
      "cell_type": "code",
      "execution_count": null,
      "metadata": {},
      "outputs": [],
      "source": [
        "plnr = itstgcn.planner.PLNR_STGCN_MANUAL(plans_stgcn_block,loader1,dataset_name='chickenpox')\n",
        "\n",
        "plnr.simulate(mindex=mindex,mtype='block')"
      ],
      "id": "63628471-a0bc-4c59-9037-83909021f406"
    },
    {
      "cell_type": "code",
      "execution_count": null,
      "metadata": {},
      "outputs": [],
      "source": [
        "plnr = itstgcnadd.planner.PLNR_STGCN_MANUAL(plans_stgcn_block,loader2,dataset_name='pedalme')"
      ],
      "id": "645cb78d-72c0-40be-8fce-8293e5252085"
    },
    {
      "cell_type": "code",
      "execution_count": null,
      "metadata": {},
      "outputs": [],
      "source": [
        "plnr.simulate(mindex=mindex,mtype='block')"
      ],
      "id": "af3835dc-bf83-4ccf-991f-1c044d373701"
    },
    {
      "cell_type": "code",
      "execution_count": null,
      "metadata": {},
      "outputs": [],
      "source": [
        "# mindex= [[],[],[],list(range(50,150)),[]]\n",
        "# mindex= [list(range(50,150)),[],list(range(50,90)),list(range(50,150)),[]] # node 2\n",
        "plans_stgcn_block = {\n",
        "    'max_iteration': 10, \n",
        "    'method': ['STGCN', 'IT-STGCN'], \n",
        "    'RecurrentGCN' : ['GConvGRU','GConvLSTM'],\n",
        "    'mindex': [mindex],\n",
        "    'lags': [2,4], \n",
        "    'nof_filters': [12], \n",
        "    'inter_method': ['linear'],\n",
        "    'epoch': [50]\n",
        "}"
      ],
      "id": "463236f3-e1ad-4589-9d11-ea166a0ba4bc"
    },
    {
      "cell_type": "code",
      "execution_count": null,
      "metadata": {},
      "outputs": [],
      "source": [
        "plnr = itstgcnadd.planner.PLNR_STGCN_MANUAL(plans_stgcn_block,loader3,dataset_name='wikimath')"
      ],
      "id": "abc8a295-6ea9-4c53-a742-e665fec4f8f7"
    },
    {
      "cell_type": "code",
      "execution_count": null,
      "metadata": {},
      "outputs": [],
      "source": [
        "plnr.simulate(mindex=mindex,mtype='block')"
      ],
      "id": "0772d00e-be55-46cf-995c-a93cf1a5634b"
    },
    {
      "cell_type": "markdown",
      "metadata": {},
      "source": [
        "## PLNR_GNAR_RAND"
      ],
      "id": "5af9d331-c948-4493-84e4-5a5358cb67f1"
    },
    {
      "cell_type": "code",
      "execution_count": null,
      "metadata": {},
      "outputs": [],
      "source": [
        "# _data = itstgcn.load_data('./data/fivenodes.pkl')\n",
        "# _edges = torch.tensor(_data['edges']).nonzero().tolist()\n",
        "# _FX = _data['f'].tolist()\n",
        "# _node_ids = {'node1':0, 'node2':1, 'node3':2, 'node4':3, 'node5':4} \n",
        "# data_dict = {'edges':_edges, 'node_ids':_node_ids, 'FX':_FX}\n",
        "# loader = itstgcn.DatasetLoader(data_dict)\n",
        "# data_dict=itstgcn.load_data('./data/fivenodes.pkl')\n",
        "# loader = itstgcn.DatasetLoader(data_dict)"
      ],
      "id": "2d8153f0-19f6-459d-828e-fca13dc4b76c"
    },
    {
      "cell_type": "code",
      "execution_count": null,
      "metadata": {},
      "outputs": [],
      "source": [
        "plans_gnar_rand = {\n",
        "    'max_iteration': 30, \n",
        "#    'method': ['GNAR'], \n",
        "    'mrate': [0.1],\n",
        "    'lags': [4], \n",
        "#    'nof_filters': [8,16], \n",
        "    'inter_method': ['linear','cubic'],\n",
        "#    'epoch': [1]\n",
        "}"
      ],
      "id": "0ef625fb-3fff-4d51-b2ce-5b50f9775495"
    },
    {
      "cell_type": "code",
      "execution_count": null,
      "metadata": {
        "tags": []
      },
      "outputs": [],
      "source": [
        "plnr = itstgcn.planner.PLNR_GNAR_RAND(plans_gnar_rand,loader2,dataset_name='pedalme')\n",
        "plnr.simulate()"
      ],
      "id": "f0eb405a-42cd-4dc1-8c0c-08f922867a0d"
    },
    {
      "cell_type": "code",
      "execution_count": null,
      "metadata": {},
      "outputs": [],
      "source": [
        "plans_gnar_rand = {\n",
        "    'max_iteration': 3, \n",
        "#    'method': ['GNAR'], \n",
        "    'mrate': [0],\n",
        "    'lags': [2,4], \n",
        "#    'nof_filters': [8,16], \n",
        "    'inter_method': ['linear'],\n",
        "#    'epoch': [1]\n",
        "}"
      ],
      "id": "0c21da9a-27dd-452c-bb28-c0f9c882da45"
    },
    {
      "cell_type": "code",
      "execution_count": null,
      "metadata": {
        "tags": []
      },
      "outputs": [],
      "source": [
        "plnr = itstgcn.planner.PLNR_GNAR_RAND(plans_gnar_rand,loader3,dataset_name='wikimath')\n",
        "plnr.simulate()"
      ],
      "id": "7f7cd21f-ca78-45ee-9709-80a1a72b2749"
    },
    {
      "cell_type": "code",
      "execution_count": null,
      "metadata": {},
      "outputs": [],
      "source": [
        "plans_gnar_rand = {\n",
        "    'max_iteration': 3, \n",
        "#    'method': ['GNAR'], \n",
        "    'mrate': [0,0.3],\n",
        "    'lags': [8], \n",
        "#    'nof_filters': [8,16], \n",
        "    'inter_method': ['linear'],\n",
        "#    'epoch': [1]\n",
        "}"
      ],
      "id": "31c4e444-d713-40c0-b543-8c5d7ab13e68"
    },
    {
      "cell_type": "code",
      "execution_count": null,
      "metadata": {
        "tags": []
      },
      "outputs": [],
      "source": [
        "plnr = itstgcn.planner.PLNR_GNAR_RAND(plans_gnar_rand,loader5,dataset_name='windmillmedium')\n",
        "plnr.simulate()"
      ],
      "id": "67b22006-0449-4cfe-ba55-80b8ab135383"
    },
    {
      "cell_type": "markdown",
      "metadata": {},
      "source": [
        "------------------------------------------------------------------------\n",
        "\n",
        "## PLNR_GNAR_BLOCK"
      ],
      "id": "9db6289a-6059-40a2-b021-39c700c9ca77"
    },
    {
      "cell_type": "code",
      "execution_count": null,
      "metadata": {},
      "outputs": [],
      "source": [
        "# _data = itstgcn.load_data('./data/fivenodes.pkl')\n",
        "# _edges = torch.tensor(_data['edges']).nonzero().tolist()\n",
        "# _FX = _data['f'].tolist()\n",
        "# _node_ids = {'node1':0, 'node2':1, 'node3':2, 'node4':3, 'node5':4} \n",
        "# data_dict = {'edges':_edges, 'node_ids':_node_ids, 'FX':_FX}\n",
        "# loader = itstgcn.DatasetLoader(data_dict)\n",
        "# loader = itstgcn.load_data('./data/fivenodes.pkl')"
      ],
      "id": "5ba04eff-2b0d-46e9-8585-e5bc0d20826d"
    },
    {
      "cell_type": "code",
      "execution_count": null,
      "metadata": {},
      "outputs": [],
      "source": [
        " Nodes : 26\n",
        "\n",
        "vertices represent 26 windmills\n",
        "-Edges : 676\n",
        "\n",
        "weighted edges describe the strength of relationships\n",
        "- Time : 17464"
      ],
      "id": "9d7b947e-c422-43b6-b5a5-e2730a1a99cf"
    },
    {
      "cell_type": "code",
      "execution_count": null,
      "metadata": {},
      "outputs": [],
      "source": [
        "my_list = [[] for _ in range(26)] #medium\n",
        "another_list = list(range(1000,2000))+list(range(4000,5000))+list(range(7000,8000)) #17464\n",
        "\n",
        "for i in np.array(random.sample(range(0, 26), 15)):\n",
        "    my_list[i] = another_list\n",
        "mindex = my_list"
      ],
      "id": "276663b1-93ca-482c-b5da-14ce5de2c496"
    },
    {
      "cell_type": "code",
      "execution_count": null,
      "metadata": {},
      "outputs": [],
      "source": [
        "my_list = [[] for _ in range(20)] #chickenpox\n",
        "another_list = list(range(100,400))\n",
        "my_list[2] = another_list\n",
        "my_list[4] = another_list\n",
        "my_list[6] = another_list\n",
        "my_list[8] = another_list\n",
        "my_list[10] = another_list\n",
        "my_list[12] = another_list\n",
        "my_list[14] = another_list\n",
        "my_list[16] = another_list\n",
        "mindex = my_list"
      ],
      "id": "d2869ae7-e9b5-46eb-976a-f454b0b81cb6"
    },
    {
      "cell_type": "code",
      "execution_count": null,
      "metadata": {},
      "outputs": [],
      "source": [
        "# mindex= [[],[],[],list(range(50,150)),[]]\n",
        "# mindex= [list(range(50,150)),[],list(range(50,90)),list(range(50,150)),[]] # node 2\n",
        "plans_gnar_block = {\n",
        "    'max_iteration': 3, \n",
        "    'method': ['GNAR'], \n",
        "    'mindex': [mindex],\n",
        "    'lags': [4], \n",
        "    'inter_method': ['cubic','linear'],\n",
        "}"
      ],
      "id": "d70308ec-c0f7-4d5d-bfe1-42064993ad67"
    },
    {
      "cell_type": "code",
      "execution_count": null,
      "metadata": {},
      "outputs": [],
      "source": [
        "plnr = itstgcn.planner.PLNR_GNAR_MANUAL(plans_gnar_block,loader1,dataset_name='chickenpox')\n",
        "plnr.simulate(mindex,mtype='block')"
      ],
      "id": "6a8e6c8b-09d8-4844-9a19-792ce0566ef1"
    },
    {
      "cell_type": "code",
      "execution_count": null,
      "metadata": {},
      "outputs": [],
      "source": [
        "# mindex= [[],[],[],list(range(50,150)),[]]\n",
        "# mindex= [list(range(50,150)),[],list(range(50,90)),list(range(50,150)),[]] # node 2\n",
        "plans_gnar_block = {\n",
        "    'max_iteration': 3, \n",
        "    'method': ['GNAR'], \n",
        "    'mindex': [mindex],\n",
        "    'lags': [2,4], \n",
        "    'inter_method': ['linear'],\n",
        "}"
      ],
      "id": "f8767639-2ea8-42dc-bc3f-7ef86d9cfe07"
    },
    {
      "cell_type": "code",
      "execution_count": null,
      "metadata": {},
      "outputs": [],
      "source": [
        "plnr = itstgcn.planner.PLNR_GNAR_MANUAL(plans_gnar_block,loader3,dataset_name='wikimath')\n",
        "plnr.simulate(mindex,mtype='block')"
      ],
      "id": "c52abc3f-a450-4fd7-b154-967b87866b4a"
    }
  ],
  "nbformat": 4,
  "nbformat_minor": 5,
  "metadata": {
    "kernelspec": {
      "name": "python3",
      "display_name": "Python 3",
      "language": "python"
    },
    "language_info": {
      "name": "python",
      "codemirror_mode": {
        "name": "ipython",
        "version": "3"
      },
      "file_extension": ".py",
      "mimetype": "text/x-python",
      "nbconvert_exporter": "python",
      "pygments_lexer": "ipython3",
      "version": "3.8.0"
    }
  }
}
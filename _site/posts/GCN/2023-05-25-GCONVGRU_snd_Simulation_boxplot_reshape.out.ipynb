{
  "cells": [
    {
      "cell_type": "markdown",
      "metadata": {},
      "source": [
        "# GConvGRU_Simulation Boxplot_reshape\n",
        "\n",
        "SEOYEON CHOI  \n",
        "2023-05-25\n",
        "\n",
        "> Simulation Study\n",
        "\n",
        "# Import"
      ],
      "id": "ebc2db98-c704-444f-8b39-f07ab399ebdd"
    },
    {
      "cell_type": "code",
      "execution_count": 96,
      "metadata": {},
      "outputs": [],
      "source": [
        "import matplotlib.pyplot as plt\n",
        "import pandas as pd\n",
        "import numpy as np"
      ],
      "id": "97cfaa6d-11ad-460b-874c-01c8e2c14e70"
    },
    {
      "cell_type": "markdown",
      "metadata": {},
      "source": [
        "# Fivenodes\n",
        "\n",
        "``` python\n",
        "mindex= [[],[],[],list(range(50,150)),[]] # block 1\n",
        "mindex= [list(range(10,100)),[],list(range(50,80)),[],[]] # node 2 30% mmissing\n",
        "```\n",
        "\n",
        "block 조건\n",
        "\n",
        "`2023-05-20_09-53-08`\n",
        "\n",
        "epoch 150"
      ],
      "id": "d0785f03-c54c-4b4c-bfc2-20c1bcd51643"
    },
    {
      "cell_type": "code",
      "execution_count": 52,
      "metadata": {},
      "outputs": [],
      "source": [
        "df1 = pd.read_csv('./simulation_results/2023-05-26_07-07-05.csv')\n",
        "df2 = pd.read_csv('./simulation_results/2023-05-27_21-02-01.csv')"
      ],
      "id": "58a7de0e-0147-4be6-ae52-f391e068d404"
    },
    {
      "cell_type": "code",
      "execution_count": 53,
      "metadata": {},
      "outputs": [],
      "source": [
        "df3 = pd.read_csv('./simulation_results/2023-07-14_19-15-30.csv')\n",
        "df4 = pd.read_csv('./simulation_results/2023-07-14_20-20-12.csv')\n",
        "df5 = pd.read_csv('./simulation_results/2023-07-14_21-17-16.csv')\n",
        "df6 = pd.read_csv('./simulation_results/2023-07-14_22-12-52.csv')\n",
        "df7 = pd.read_csv('./simulation_results/2023-07-14_23-13-30.csv')\n",
        "df8 = pd.read_csv('./simulation_results/2023-07-15_00-17-49.csv')"
      ],
      "id": "9fa55285-9b3c-4cd3-ae5a-ca5ae5adfec4"
    },
    {
      "cell_type": "code",
      "execution_count": 54,
      "metadata": {},
      "outputs": [],
      "source": [
        "data = pd.concat([df1,df2,df3,df4,df5,df6,df7,df8],axis=0)"
      ],
      "id": "243c8ac3-63ef-463b-920c-732bcea5b27d"
    },
    {
      "cell_type": "code",
      "execution_count": 55,
      "metadata": {},
      "outputs": [],
      "source": [
        "data.to_csv('./simulation_results/Real_simulation_reshape/fivedones_Simulation.csv',index=False)"
      ],
      "id": "6531c324-827c-4f7f-aef7-90da0b1f2c23"
    },
    {
      "cell_type": "code",
      "execution_count": 56,
      "metadata": {},
      "outputs": [],
      "source": [
        "data = pd.read_csv('./simulation_results/Real_simulation_reshape/fivedones_Simulation.csv')"
      ],
      "id": "2029a91d-4dc4-4eb2-8f9d-63d4727f4c94"
    },
    {
      "cell_type": "markdown",
      "metadata": {},
      "source": [
        "## Baseline"
      ],
      "id": "db34f425-5d33-429c-9b1b-3bab03290f6f"
    },
    {
      "cell_type": "code",
      "execution_count": 57,
      "metadata": {
        "tags": []
      },
      "outputs": [],
      "source": [
        "data.query(\"method!='GNAR' and mrate==0\").plot.box(backend='plotly',x='mrate',color='method',y='mse',facet_col='lags',facet_row='nof_filters',height=600)\n"
      ],
      "id": "d44828cd-d371-4375-9654-9c8557626266"
    },
    {
      "cell_type": "code",
      "execution_count": 58,
      "metadata": {},
      "outputs": [],
      "source": [
        "data.query(\"method!='GNAR' and mtype =='rand'\").plot.box(backend='plotly',x='mrate',color='method',y='mse',facet_col='mrate',facet_row='inter_method',height=600)\n"
      ],
      "id": "8571d995-8823-48ef-8324-d8acc3ee8f62"
    },
    {
      "cell_type": "code",
      "execution_count": 59,
      "metadata": {},
      "outputs": [],
      "source": [
        "data.query(\"method!='GNAR' and mtype =='block' \").plot.box(backend='plotly',x='mrate',color='method',y='mse',facet_col='inter_method',facet_row='lags',height=600)\n"
      ],
      "id": "88f6458e-8519-4e01-b78d-65ef37da2110"
    },
    {
      "cell_type": "markdown",
      "metadata": {},
      "source": [
        "# chickenpox\n",
        "\n",
        "``` python\n",
        "my_list = [[] for _ in range(20)] #chickenpox\n",
        "another_list = list(range(100,400))\n",
        "my_list[1] = another_list\n",
        "my_list[3] = another_list\n",
        "my_list[5] = another_list\n",
        "my_list[7] = another_list\n",
        "my_list[9] = another_list\n",
        "my_list[11] = another_list\n",
        "my_list[13] = another_list\n",
        "my_list[15] = another_list\n",
        "mindex = my_list\n",
        "```\n",
        "\n",
        "block 30% missing을 위한 조건"
      ],
      "id": "cb4620c4-fbcc-4786-bf20-975023726bb1"
    },
    {
      "cell_type": "code",
      "execution_count": 60,
      "metadata": {},
      "outputs": [],
      "source": [
        "df1 = pd.read_csv('./simulation_results/2023-05-26_18-06-07.csv') # GNAR random\n",
        "df2 = pd.read_csv('./simulation_results/2023-05-28_16-17-21.csv') # GNAR block\n",
        "df3 = pd.read_csv('./simulation_results/2023-05-28_20-41-00.csv') # STGCN, ITSTGCN random 30%\n",
        "df4 = pd.read_csv('./simulation_results/2023-05-29_06-35-52.csv')"
      ],
      "id": "3e66680d-3b56-4295-b4da-c8988c6ceb77"
    },
    {
      "cell_type": "code",
      "execution_count": 61,
      "metadata": {},
      "outputs": [],
      "source": [
        "df5 = pd.read_csv('./simulation_results/2023-07-15_03-00-24.csv')\n",
        "df6 = pd.read_csv('./simulation_results/2023-07-15_05-54-45.csv')\n",
        "df7 = pd.read_csv('./simulation_results/2023-07-15_08-36-29.csv')\n",
        "df8 = pd.read_csv('./simulation_results/2023-07-15_10-39-42.csv')"
      ],
      "id": "7415a496-2926-4f31-8469-0e5a10c64cc8"
    },
    {
      "cell_type": "code",
      "execution_count": 62,
      "metadata": {},
      "outputs": [],
      "source": [
        "data = pd.concat([df1,df2,df3,df4,df5,df6,df7,df8],axis=0)"
      ],
      "id": "3a15858e-07b2-460c-86c6-49ee4deeb10d"
    },
    {
      "cell_type": "code",
      "execution_count": 63,
      "metadata": {},
      "outputs": [],
      "source": [
        "data.to_csv('./simulation_results/Real_simulation_reshape/chikenpox_Simulation.csv',index=False)"
      ],
      "id": "158398fa-ae55-4525-8535-eb323b1c4b6b"
    },
    {
      "cell_type": "code",
      "execution_count": 64,
      "metadata": {},
      "outputs": [],
      "source": [
        "data = pd.read_csv('./simulation_results/Real_simulation_reshape/chikenpox_Simulation.csv')"
      ],
      "id": "dc861068-2821-4447-a4b7-3cb5b4a0ed8c"
    },
    {
      "cell_type": "markdown",
      "metadata": {},
      "source": [
        "## Baseline"
      ],
      "id": "ead29bbb-0447-4f2c-9c73-efc36775bd72"
    },
    {
      "cell_type": "code",
      "execution_count": 65,
      "metadata": {},
      "outputs": [],
      "source": [
        "data.query(\"method!='GNAR' and mrate ==0 \").plot.box(backend='plotly',x='mrate',color='method',y='mse',facet_col='nof_filters',height=600)\n"
      ],
      "id": "c51dfa21-9688-48bf-bd0c-636790d33162"
    },
    {
      "cell_type": "markdown",
      "metadata": {},
      "source": [
        "## Random"
      ],
      "id": "0306d3c7-ef9c-4f56-9fa7-02bb02fbdab0"
    },
    {
      "cell_type": "code",
      "execution_count": 66,
      "metadata": {},
      "outputs": [],
      "source": [
        "data.query(\"method!='GNAR' and mtype =='rand'\").plot.box(backend='plotly',x='mrate',color='method',y='mse',facet_col='nof_filters',facet_row='inter_method',height=800)\n"
      ],
      "id": "0cbb8fe6-3b99-4027-b76a-b18dd0eaf3ad"
    },
    {
      "cell_type": "markdown",
      "metadata": {},
      "source": [
        "## Block"
      ],
      "id": "cd2a6699-3c20-45f8-aefd-0da5975f0089"
    },
    {
      "cell_type": "code",
      "execution_count": 67,
      "metadata": {},
      "outputs": [],
      "source": [
        "data.query(\"method!='GNAR' and mtype =='block'\").plot.box(backend='plotly',x='mrate',color='method',y='mse',facet_col='inter_method',facet_row='lags',height=800)\n"
      ],
      "id": "b5b82122-bca7-4528-a2d2-c54ff51b522b"
    },
    {
      "cell_type": "markdown",
      "metadata": {},
      "source": [
        "# Pedalme\n",
        "\n",
        "block1\n",
        "\n",
        "``` python\n",
        "my_list = [[] for _ in range(15)] #pedalme\n",
        "another_list = list(range(5,25))\n",
        "my_list[1] = another_list\n",
        "my_list[3] = another_list\n",
        "my_list[5] = another_list\n",
        "my_list[7] = another_list\n",
        "my_list[9] = another_list\n",
        "my_list[11] = another_list\n",
        "mindex = my_list\n",
        "```\n",
        "\n",
        "block 30% missing을 위한 조건\n",
        "\n",
        "block2\n",
        "\n",
        "``` python\n",
        "my_list = [[] for _ in range(15)] #pedalme\n",
        "another_list = list(range(10,25))\n",
        "my_list[2] = another_list\n",
        "my_list[4] = another_list\n",
        "my_list[5] = another_list\n",
        "my_list[11] = another_list\n",
        "mindex = my_list\n",
        "```\n",
        "\n",
        "block 30% missing을 위한 조건"
      ],
      "id": "ea8f20df-1313-41cb-b38f-300102926182"
    },
    {
      "cell_type": "code",
      "execution_count": 68,
      "metadata": {},
      "outputs": [],
      "source": [
        "df1 = pd.read_csv('./simulation_results/2023-05-25_19-21-30.csv') \n",
        "df2 = pd.read_csv('./simulation_results/2023-05-25_19-52-39.csv') "
      ],
      "id": "d4636a02-2db0-4676-a73b-9c7566c258f4"
    },
    {
      "cell_type": "code",
      "execution_count": 69,
      "metadata": {},
      "outputs": [],
      "source": [
        "df3 = pd.read_csv('./simulation_results/2023-07-15_11-17-37.csv')"
      ],
      "id": "0dc9f0d2-41ca-4e4f-8942-b10d46418a39"
    },
    {
      "cell_type": "code",
      "execution_count": 70,
      "metadata": {},
      "outputs": [],
      "source": [
        "data = pd.concat([df1,df2,df3],axis=0)"
      ],
      "id": "d22955cb-e046-49c8-890a-52ffe13e237d"
    },
    {
      "cell_type": "code",
      "execution_count": 71,
      "metadata": {},
      "outputs": [],
      "source": [
        "data.to_csv('./simulation_results/Real_simulation_reshape/pedalme_Simulation.csv',index=False)"
      ],
      "id": "ee3ef5e8-7298-49dd-b21f-9644c30b5f77"
    },
    {
      "cell_type": "code",
      "execution_count": 72,
      "metadata": {},
      "outputs": [],
      "source": [
        "data = pd.read_csv('./simulation_results/Real_simulation_reshape/pedalme_Simulation.csv')"
      ],
      "id": "446c16b2-85d5-4f90-b214-fe80c77bd0c9"
    },
    {
      "cell_type": "code",
      "execution_count": 73,
      "metadata": {},
      "outputs": [],
      "source": [
        "data.query(\"method=='STGCN' and mtype == 'rand'\")['mse'].mean(),data.query(\"method=='STGCN' and mtype != 'rand'\")['mse'].mean()"
      ],
      "id": "03d6db8a-fb11-4ba4-9541-06f4f67b8e04"
    },
    {
      "cell_type": "code",
      "execution_count": 74,
      "metadata": {},
      "outputs": [],
      "source": [
        "data.query(\"method=='IT-STGCN' and mtype == 'rand'\")['mse'].mean(),data.query(\"method=='IT-STGCN' and mtype != 'rand'\")['mse'].mean()"
      ],
      "id": "897c9ac6-4077-4cdd-912e-a8d359a540c2"
    },
    {
      "cell_type": "markdown",
      "metadata": {},
      "source": [
        "## Baseline"
      ],
      "id": "8568200d-205a-40c9-9d5b-de3bb4e603d2"
    },
    {
      "cell_type": "code",
      "execution_count": 75,
      "metadata": {},
      "outputs": [],
      "source": [
        "data.query(\"mrate ==0 \").plot.box(backend='plotly',x='epoch',color='method',y='mse',height=800)\n"
      ],
      "id": "429ad814-50ce-46a1-bb68-fd654777cb35"
    },
    {
      "cell_type": "markdown",
      "metadata": {},
      "source": [
        "## random"
      ],
      "id": "de6bd8a8-ea46-477e-a982-d88f2a1e7a51"
    },
    {
      "cell_type": "code",
      "execution_count": 76,
      "metadata": {},
      "outputs": [],
      "source": [
        "data.query(\"method!='GNAR' and mtype =='rand' \").plot.box(backend='plotly',x='mrate',color='method',y='mse',facet_col='lags',facet_row='inter_method',height=800)\n"
      ],
      "id": "f636466a-c4ca-446d-8eaa-ceab2af9a683"
    },
    {
      "cell_type": "markdown",
      "metadata": {},
      "source": [
        "## block"
      ],
      "id": "a14f4b41-6bfa-4a05-a59c-1d856128dea9"
    },
    {
      "cell_type": "code",
      "execution_count": 77,
      "metadata": {},
      "outputs": [],
      "source": [
        "data.query(\"method!='GNAR' and mtype =='block' \").plot.box(backend='plotly',x='mrate',color='method',y='mse',facet_col='inter_method',facet_row='lags',height=600)\n"
      ],
      "id": "03830cde-6dbb-4c1c-b3f7-4f05b171fdd0"
    },
    {
      "cell_type": "markdown",
      "metadata": {},
      "source": [
        "## weight matrix time, node 고려한 결과"
      ],
      "id": "b3fde59e-89ca-4763-91b7-ee7536d59950"
    },
    {
      "cell_type": "code",
      "execution_count": 25,
      "metadata": {},
      "outputs": [],
      "source": [
        "df1 = pd.read_csv('./simulation_results/2023-05-28_10-40-44.csv')\n",
        "df2 = pd.read_csv('./simulation_results/2023-05-28_11-09-06.csv')"
      ],
      "id": "720eef33-a93e-4018-9f30-867b9446b918"
    },
    {
      "cell_type": "code",
      "execution_count": 26,
      "metadata": {},
      "outputs": [],
      "source": [
        "data2 = pd.concat([df1,df2],axis=0)"
      ],
      "id": "970e0d05-641f-4e2b-83f8-7995279164c6"
    },
    {
      "cell_type": "code",
      "execution_count": 27,
      "metadata": {},
      "outputs": [],
      "source": [
        "data2.to_csv('./simulation_results/Real_simulation_reshape/pedalme_Simulation_itstgcnsnd.csv',index=False)"
      ],
      "id": "e4343248-a16d-47a3-9886-4ccb53c7aa45"
    },
    {
      "cell_type": "code",
      "execution_count": 28,
      "metadata": {},
      "outputs": [],
      "source": [
        "data2 = pd.read_csv('./simulation_results/Real_simulation_reshape/pedalme_Simulation_itstgcnsnd.csv')"
      ],
      "id": "68c1f3d7-7e0f-4a6d-82d7-ba671275701a"
    },
    {
      "cell_type": "code",
      "execution_count": 29,
      "metadata": {},
      "outputs": [],
      "source": [
        "data2.query(\"mtype=='rand'\").plot.box(backend='plotly',x='mrate',color='method',y='mse',facet_col='inter_method',facet_row='lags',height=1000)"
      ],
      "id": "908c378b-03a2-4bab-95ad-152d13daea50"
    },
    {
      "cell_type": "code",
      "execution_count": 30,
      "metadata": {},
      "outputs": [],
      "source": [
        "data2.query(\"mtype=='block'\").plot.box(backend='plotly',x='mrate',color='method',y='mse',facet_col='inter_method',facet_row='lags',height=1000)"
      ],
      "id": "58bc9f15-e745-45c9-94de-8985f2e887af"
    },
    {
      "cell_type": "markdown",
      "metadata": {},
      "source": [
        "# Wikimath"
      ],
      "id": "de09230b-8cfb-405f-b001-652a6efeb365"
    },
    {
      "cell_type": "code",
      "execution_count": 78,
      "metadata": {},
      "outputs": [],
      "source": [
        "df1 = pd.read_csv('./simulation_results/2023-05-26_03-28-39.csv')\n",
        "df2 = pd.read_csv('./simulation_results/2023-05-27_00-32-12.csv')\n",
        "df3 = pd.read_csv('./simulation_results/2023-05-27_08-08-15.csv')\n",
        "df4 = pd.read_csv('./simulation_results/2023-05-27_17-49-17.csv')\n",
        "df5 = pd.read_csv('./simulation_results/2023-05-28_03-28-19.csv')\n",
        "df6 = pd.read_csv('./simulation_results/2023-05-28_04-31-07.csv')\n",
        "df7 = pd.read_csv('./simulation_results/2023-05-28_15-46-26.csv')\n",
        "df8 = pd.read_csv('./simulation_results/2023-05-29_17-36-54.csv')\n",
        "df9 = pd.read_csv('./simulation_results/2023-05-30_04-27-01.csv')"
      ],
      "id": "72dcb6b8-b2df-41e4-8ebd-5eb2a02c97af"
    },
    {
      "cell_type": "code",
      "execution_count": 79,
      "metadata": {},
      "outputs": [],
      "source": [
        "df10 = pd.read_csv('./simulation_results/2023-07-15_20-52-25.csv')\n",
        "df11 = pd.read_csv('./simulation_results/2023-07-16_08-07-41.csv')\n",
        "df12 = pd.read_csv('./simulation_results/2023-07-16_14-17-47.csv')\n",
        "df13 = pd.read_csv('./simulation_results/2023-07-16_20-55-00.csv')\n",
        "df14 = pd.read_csv('./simulation_results/2023-07-17_03-58-38.csv')\n",
        "df15 = pd.read_csv('./simulation_results/2023-07-17_10-21-14.csv')\n",
        "df16 = pd.read_csv('./simulation_results/2023-07-17_16-00-20.csv')\n",
        "df17 = pd.read_csv('./simulation_results/2023-07-17_22-08-59.csv')"
      ],
      "id": "0c227f1a-9ab9-4746-8130-e1565cb6d9ff"
    },
    {
      "cell_type": "code",
      "execution_count": 80,
      "metadata": {},
      "outputs": [],
      "source": [
        "df18 = pd.read_csv('./simulation_results/2023-07-19_08-35-52.csv')\n",
        "df19 = pd.read_csv('./simulation_results/2023-07-19_15-01-57.csv')\n",
        "df20 = pd.read_csv('./simulation_results/2023-07-19_22-33-07.csv')\n",
        "df21 = pd.read_csv('./simulation_results/2023-07-20_06-21-30.csv')\n",
        "df22 = pd.read_csv('./simulation_results/2023-07-20_14-07-04.csv')\n",
        "df23 = pd.read_csv('./simulation_results/2023-07-20_21-14-32.csv')\n",
        "df24 = pd.read_csv('./simulation_results/2023-07-21_04-45-06.csv')\n",
        "df25 = pd.read_csv('./simulation_results/2023-07-21_11-26-12.csv')"
      ],
      "id": "c3c68146-c26a-4a50-aae3-604cd4622305"
    },
    {
      "cell_type": "code",
      "execution_count": 81,
      "metadata": {},
      "outputs": [],
      "source": [
        "data = pd.concat([df1,df2,df3,df4,df5,df6,df7,df8,df9,df10,df11,df12,df13,df14,df15,df16,df17,\n",
        "                 df18,df19,df20,df21,df22,df23,df24,df25],axis=0)"
      ],
      "id": "2bdf1359-250a-4f81-b2e7-bfc3f4a15907"
    },
    {
      "cell_type": "code",
      "execution_count": 82,
      "metadata": {},
      "outputs": [],
      "source": [
        "data.to_csv('./simulation_results/Real_simulation_reshape/wikimath.csv',index=False)"
      ],
      "id": "fe47b372-5e6c-485c-875c-3c8d879aabe5"
    },
    {
      "cell_type": "code",
      "execution_count": 83,
      "metadata": {},
      "outputs": [],
      "source": [
        "data = pd.read_csv('./simulation_results/Real_simulation_reshape/wikimath.csv')"
      ],
      "id": "0e5750a8-48a8-4f57-8650-1894b033996a"
    },
    {
      "cell_type": "markdown",
      "metadata": {},
      "source": [
        "## Baseline"
      ],
      "id": "6f05912e-f253-4a7c-abc1-5f7c6eeae70b"
    },
    {
      "cell_type": "code",
      "execution_count": 84,
      "metadata": {},
      "outputs": [],
      "source": [
        "data.query(\"mrate==0 and method!='GNAR'\").plot.box(backend='plotly',x='mrate',color='method',y='mse',height=600)"
      ],
      "id": "4009e290-c732-4a0b-b165-2ffb5ab03479"
    },
    {
      "cell_type": "markdown",
      "metadata": {},
      "source": [
        "## random"
      ],
      "id": "dbc76ed7-6f79-4259-9826-6d96aa71e33e"
    },
    {
      "cell_type": "code",
      "execution_count": 85,
      "metadata": {},
      "outputs": [],
      "source": [
        "data.query(\"mtype=='rand' and mrate !=0 and method!='GNAR'\").plot.box(backend='plotly',x='mrate',color='method',y='mse',facet_col='lags',facet_row='nof_filters',height=800)\n"
      ],
      "id": "0be1ccad-dd6e-42fe-b32d-8a4e48b17a96"
    },
    {
      "cell_type": "markdown",
      "metadata": {},
      "source": [
        "## block"
      ],
      "id": "ddfafe44-ec13-461d-88e8-2caf04503da1"
    },
    {
      "cell_type": "code",
      "execution_count": 86,
      "metadata": {},
      "outputs": [],
      "source": [
        "data.query(\"mtype=='block' and method!='GNAR'\").plot.box(backend='plotly',x='mrate',color='method',y='mse',facet_col='lags',facet_row='nof_filters',height=1200)\n"
      ],
      "id": "8894a08f-4d93-462c-bf34-127b3031dba6"
    },
    {
      "cell_type": "markdown",
      "metadata": {},
      "source": [
        "## missing values on the same nodes"
      ],
      "id": "165b769d-9591-4b1a-a331-fc339359dfd9"
    },
    {
      "cell_type": "code",
      "execution_count": 38,
      "metadata": {
        "tags": []
      },
      "outputs": [],
      "source": [
        "# 10%\n",
        "df1 = pd.read_csv('./simulation_results/2023-05-30_15-07-43.csv') # STGCN IT-STGCN block\n",
        "df2 = pd.read_csv('./simulation_results/2023-05-31_01-58-40.csv') # STGCN IT-STGCN"
      ],
      "id": "f804b18a-149e-48d5-ab30-9a0516fc611b"
    },
    {
      "cell_type": "code",
      "execution_count": 39,
      "metadata": {},
      "outputs": [],
      "source": [
        "data = pd.concat([df1,df2],axis=0)"
      ],
      "id": "8947c20f-0acb-41e8-9a89-d122bf2c0d18"
    },
    {
      "cell_type": "code",
      "execution_count": 40,
      "metadata": {},
      "outputs": [],
      "source": [
        "data.to_csv('./simulation_results/Real_simulation_reshape/wikimath_GSO_st.csv',index=False)"
      ],
      "id": "3082aa32-04c8-4a3e-9756-6634caf9c949"
    },
    {
      "cell_type": "code",
      "execution_count": 41,
      "metadata": {},
      "outputs": [],
      "source": [
        "data = pd.read_csv('./simulation_results/Real_simulation_reshape/wikimath_GSO_st.csv')"
      ],
      "id": "9d39029d-2027-4858-aa8a-11a8f3628762"
    },
    {
      "cell_type": "code",
      "execution_count": 42,
      "metadata": {},
      "outputs": [],
      "source": [
        "data.query(\"method!='GNAR' and mtype =='block' \").plot.box(backend='plotly',x='mrate',color='method',y='mse',facet_col='inter_method',facet_row='lags',height=800)\n"
      ],
      "id": "5380ddb8-d5f5-49a0-b11f-89ad2db0ad41"
    },
    {
      "cell_type": "markdown",
      "metadata": {},
      "source": [
        "# Windmilsmall"
      ],
      "id": "a89c5aad-e720-41a4-bb26-7845744b12af"
    },
    {
      "cell_type": "code",
      "execution_count": 498,
      "metadata": {},
      "outputs": [],
      "source": [
        "df1 = pd.read_csv('./simulation_results/2023-05-27_03-20-28.csv') # STGCN IT-STGCN 70%\n",
        "df2 = pd.read_csv('./simulation_results/2023-05-27_11-15-19.csv') # STGCN IT-STGCN\n",
        "df3 = pd.read_csv('./simulation_results/2023-05-27_21-50-00.csv') # STGCN IT-STGCN\n",
        "df4 = pd.read_csv('./simulation_results/2023-05-28_07-53-57.csv') # STGCN IT-STGCN\n",
        "df5 = pd.read_csv('./simulation_results/2023-05-28_15-11-36.csv') # STGCN IT-STGCN\n",
        "df6 = pd.read_csv('./simulation_results/2023-05-28_19-57-23.csv') # GNAR 30%, 50%, 70% # 뭔가 일단 필요없어서 데이터셋에서 뺌\n",
        "df7 = pd.read_csv('./simulation_results/2023-05-29_01-36-37.csv') # STGCN IT-STGCN\n",
        "df8 = pd.read_csv('./simulation_results/2023-05-29_05-55-43.csv') # STGCN IT-STGCN\n",
        "df9 = pd.read_csv('./simulation_results/2023-05-29_11-00-42.csv') # STGCN IT-STGCN\n",
        "df10 = pd.read_csv('./simulation_results/2023-05-29_15-58-56.csv') # STGCN IT-STGCN\n",
        "df11 = pd.read_csv('./simulation_results/2023-05-29_21-01-58.csv') # STGCN IT-STGCN\n",
        "df12 = pd.read_csv('./simulation_results/2023-05-30_02-08-43.csv') # STGCN IT-STGCN\n",
        "df13 = pd.read_csv('./simulation_results/2023-05-30_06-27-00.csv') # STGCN IT-STGCN\n",
        "df14 = pd.read_csv('./simulation_results/2023-05-30_11-59-01.csv') # STGCN IT-STGCN\n",
        "df15 = pd.read_csv('./simulation_results/2023-05-30_15-59-12.csv') # STGCN IT-STGCN\n",
        "df16 = pd.read_csv('./simulation_results/2023-05-30_21-52-31.csv') # STGCN IT-STGCN\n",
        "df17 = pd.read_csv('./simulation_results/2023-05-31_01-32-09.csv') # STGCN IT-STGCN\n",
        "df18 = pd.read_csv('./simulation_results/2023-05-31_09-41-08.csv') # STGCN IT-STGCN\n",
        "df19 = pd.read_csv('./simulation_results/2023-05-31_16-32-33.csv') # STGCN IT-STGCN\n",
        "df20 = pd.read_csv('./simulation_results/2023-05-31_19-24-06.csv') # STGCN IT-STGCN\n",
        "df21 = pd.read_csv('./simulation_results/2023-06-01_00-59-31.csv') # STGCN IT-STGCN\n",
        "df22 = pd.read_csv('./simulation_results/2023-06-01_08-30-50.csv') # STGCN IT-STGCN\n",
        "df23 = pd.read_csv('./simulation_results/2023-06-01_16-03-58.csv') # STGCN IT-STGCN\n",
        "df24 = pd.read_csv('./simulation_results/2023-06-02_01-48-39.csv') # STGCN IT-STGCN\n",
        "df25 = pd.read_csv('./simulation_results/2023-06-02_11-17-51.csv') # STGCN IT-STGCN\n",
        "df26 = pd.read_csv('./simulation_results/2023-06-02_20-36-02.csv') # STGCN IT-STGCN\n",
        "df27 = pd.read_csv('./simulation_results/2023-06-03_05-23-46.csv') # STGCN IT-STGCN\n",
        "df28 = pd.read_csv('./simulation_results/2023-06-03_13-33-11.csv') # STGCN IT-STGCN\n",
        "df29 = pd.read_csv('./simulation_results/2023-06-03_22-40-48.csv') # STGCN IT-STGCN\n",
        "df30 = pd.read_csv('./simulation_results/2023-06-04_08-23-50.csv') # STGCN IT-STGCN\n",
        "df31 = pd.read_csv('./simulation_results/2023-06-04_16-47-07.csv') # GNAR 70%\n",
        "df32 = pd.read_csv('./simulation_results/2023-06-05_01-40-31.csv') # GNAR \n",
        "df33 = pd.read_csv('./simulation_results/2023-06-05_11-53-37.csv')\n",
        "df34 = pd.read_csv('./simulation_results/2023-06-06_10-02-26.csv')\n",
        "df35 = pd.read_csv('./simulation_results/2023-06-06_10-06-02.csv')\n",
        "df36 = pd.read_csv('./simulation_results/2023-06-06_19-10-01.csv')\n",
        "df37 = pd.read_csv('./simulation_results/2023-06-06_19-22-47.csv')\n",
        "df38 = pd.read_csv('./simulation_results/2023-06-07_04-41-41.csv')\n",
        "df39 = pd.read_csv('./simulation_results/2023-06-07_05-00-00.csv')\n",
        "df40 = pd.read_csv('./simulation_results/2023-06-07_12-49-37.csv')\n",
        "df41 = pd.read_csv('./simulation_results/2023-06-07_13-05-52.csv')\n",
        "df42 = pd.read_csv('./simulation_results/2023-06-07_21-00-28.csv')\n",
        "df43 = pd.read_csv('./simulation_results/2023-06-07_21-30-40.csv')\n",
        "df44 = pd.read_csv('./simulation_results/2023-06-08_06-10-42.csv')\n",
        "df45 = pd.read_csv('./simulation_results/2023-06-09_00-38-32.csv')\n",
        "df46 = pd.read_csv('./simulation_results/2023-06-09_12-08-44.csv')\n",
        "df47 = pd.read_csv('./simulation_results/2023-06-10_10-10-27.csv')\n",
        "df48 = pd.read_csv('./simulation_results/2023-06-10_21-16-06.csv')\n",
        "df49 = pd.read_csv('./simulation_results/2023-06-11_09-03-26.csv')\n",
        "df50 = pd.read_csv('./simulation_results/2023-06-11_21-00-18.csv')\n",
        "df51 = pd.read_csv('./simulation_results/2023-06-12_08-58-26.csv')\n",
        "df52 = pd.read_csv('./simulation_results/2023-06-12_20-56-40.csv')\n",
        "df53 = pd.read_csv('./simulation_results/2023-06-13_09-03-43.csv')\n",
        "df54 = pd.read_csv('./simulation_results/2023-06-13_21-56-32.csv')\n",
        "df55 = pd.read_csv('./simulation_results/2023-06-14_11-11-38.csv')\n",
        "df56 = pd.read_csv('./simulation_results/2023-06-14_23-17-40.csv')\n",
        "df57 = pd.read_csv('./simulation_results/2023-06-15_05-01-21.csv')\n",
        "df58 = pd.read_csv('./simulation_results/2023-06-15_10-54-28.csv')\n",
        "df59 = pd.read_csv('./simulation_results/2023-06-15_17-35-55.csv')\n",
        "df60 = pd.read_csv('./simulation_results/2023-06-15_21-14-21.csv')\n",
        "df61 = pd.read_csv('./simulation_results/2023-06-16_03-15-32.csv')\n",
        "df62 = pd.read_csv('./simulation_results/2023-06-16_06-13-50.csv')\n",
        "df63 = pd.read_csv('./simulation_results/2023-06-16_14-18-52.csv')\n",
        "df64 = pd.read_csv('./simulation_results/2023-06-16_18-21-01.csv')\n",
        "df65 = pd.read_csv('./simulation_results/2023-06-17_02-04-16.csv')\n",
        "df66 = pd.read_csv('./simulation_results/2023-06-17_12-31-27.csv')\n",
        "df67 = pd.read_csv('./simulation_results/2023-06-17_19-20-19.csv')\n",
        "df68 = pd.read_csv('./simulation_results/2023-06-18_02-32-26.csv') # 확인 후 block 만 넣기!\n",
        "df69 = pd.read_csv('./simulation_results/2023-06-18_12-20-16.csv')\n",
        "df70 = pd.read_csv('./simulation_results/2023-06-18_22-03-52.csv')\n",
        "df71 = pd.read_csv('./simulation_results/2023-06-19_07-54-07.csv')\n",
        "df72 = pd.read_csv('./simulation_results/2023-06-19_17-32-15.csv')\n",
        "df73 = pd.read_csv('./simulation_results/2023-06-20_02-27-48.csv')\n",
        "df74 = pd.read_csv('./simulation_results/2023-06-20_11-25-00.csv')\n",
        "df75 = pd.read_csv('./simulation_results/2023-06-21_08-22-10.csv')\n",
        "df76 = pd.read_csv('./simulation_results/2023-06-21_18-02-06.csv')\n",
        "df77 = pd.read_csv('./simulation_results/2023-06-22_03-53-20.csv')\n",
        "df78 = pd.read_csv('./simulation_results/2023-06-22_14-30-51.csv')\n",
        "df79 = pd.read_csv('./simulation_results/2023-06-22_23-58-03.csv')\n",
        "df80 = pd.read_csv('./simulation_results/2023-06-23_07-50-27.csv')\n",
        "df81 = pd.read_csv('./simulation_results/2023-06-23_15-44-00.csv')\n",
        "df82 = pd.read_csv('./simulation_results/2023-06-24_00-32-09.csv')\n",
        "df83 = pd.read_csv('./simulation_results/2023-06-24_10-30-38.csv')\n",
        "df84 = pd.read_csv('./simulation_results/2023-06-24_20-29-14.csv')\n",
        "df85 = pd.read_csv('./simulation_results/2023-06-25_06-26-42.csv')\n",
        "df86 = pd.read_csv('./simulation_results/2023-06-25_16-24-38.csv')\n",
        "df87 = pd.read_csv('./simulation_results/2023-06-26_02-35-43.csv')\n",
        "df88 = pd.read_csv('./simulation_results/2023-06-26_23-22-25.csv')\n",
        "df89 = pd.read_csv('./simulation_results/2023-06-26_13-18-29.csv')\n",
        "df90 = pd.read_csv('./simulation_results/2023-06-26_23-22-25.csv')\n",
        "df91 = pd.read_csv('./simulation_results/2023-06-27_09-42-34.csv')\n",
        "df92 = pd.read_csv('./simulation_results/2023-06-27_18-43-24.csv')\n",
        "df93 = pd.read_csv('./simulation_results/2023-06-28_15-59-05.csv')"
      ],
      "id": "e865d7a4-d723-411e-9ee6-2a0a001f8525"
    },
    {
      "cell_type": "code",
      "execution_count": 499,
      "metadata": {},
      "outputs": [],
      "source": [
        "data = pd.concat([df1,df2,df3,df4,df5,df6,df7,df8,df9,df10,df11,df12,df13,df14,df15,df16,df17,df18,df19,df20,\n",
        "                 df21,df22,df23,df24,df25,df26,df27,df28,df29,df30,df31,df32,df33,df34,df35,df36,df37,df38,df39,\n",
        "                 df40,df41,df42,df43,df44,df45,df46,df47,df48,df49,df50,df51,df52,df53,df54,df55,df56,df57,df58,\n",
        "                 df59,df60,df61,df62,df63,df64,df65,df66,df67,df68,df69,df70,df71,df72,df73,df74,df75,df76,df77,\n",
        "                 df78,df79,df80,df81,df82,df83,df84,df85,df86,df87,df88,df89,df90,df91,df92,df93],axis=0)"
      ],
      "id": "37438d95-f15e-4741-b4d2-65966d48be89"
    },
    {
      "cell_type": "code",
      "execution_count": 500,
      "metadata": {},
      "outputs": [],
      "source": [
        "data.to_csv('./simulation_results/Real_simulation_reshape/windmillsmall.csv',index=False)"
      ],
      "id": "129bb29a-6386-4363-9781-8a68ad4373cd"
    },
    {
      "cell_type": "code",
      "execution_count": 501,
      "metadata": {},
      "outputs": [],
      "source": [
        "data = pd.read_csv('./simulation_results/Real_simulation_reshape/windmillsmall.csv')"
      ],
      "id": "e802f5c9-6428-4f87-86d8-5bec3a07099b"
    },
    {
      "cell_type": "markdown",
      "metadata": {},
      "source": [
        "## Baseline"
      ],
      "id": "6a0f526b-0d6c-4f23-b563-298af08227e9"
    },
    {
      "cell_type": "code",
      "execution_count": 502,
      "metadata": {},
      "outputs": [],
      "source": [
        "data.query(\"method!='GNAR' and mrate ==0 \").plot.box(backend='plotly',x='mrate',color='method',y='mse',facet_col='lags',height=800)\n"
      ],
      "id": "127a08ff-22cf-4d87-8b87-db3f7fda2b59"
    },
    {
      "cell_type": "markdown",
      "metadata": {},
      "source": [
        "## random"
      ],
      "id": "fb3bac9c-50b9-496d-8180-24dad6137a48"
    },
    {
      "cell_type": "code",
      "execution_count": 503,
      "metadata": {},
      "outputs": [],
      "source": [
        "data.query(\"method!='GNAR' and mtype =='rand' \").plot.box(backend='plotly',x='mrate',color='method',y='mse',facet_col='lags',facet_row='inter_method',height=800)\n"
      ],
      "id": "f189e38c-14f4-4f04-980c-aec583366a66"
    },
    {
      "cell_type": "markdown",
      "metadata": {},
      "source": [
        "## block"
      ],
      "id": "d0a4f897-dce0-44f3-a7db-99664b31bb02"
    },
    {
      "cell_type": "code",
      "execution_count": 504,
      "metadata": {},
      "outputs": [],
      "source": [
        "data.query(\"method!='GNAR' and mtype =='block' \").plot.box(backend='plotly',x='mrate',color='method',y='mse',facet_col='lags',facet_row='inter_method',height=800)\n"
      ],
      "id": "7a9fcbe8-1acb-4321-a135-d038602dc7e3"
    },
    {
      "cell_type": "markdown",
      "metadata": {},
      "source": [
        "# Montevideobus"
      ],
      "id": "9bfdc4fb-c183-4b20-ad06-022c571c1cc8"
    },
    {
      "cell_type": "code",
      "execution_count": 87,
      "metadata": {},
      "outputs": [],
      "source": [
        "df1 = pd.read_csv('./simulation_results/2023-05-25_23-24-56.csv') # lags 8\n",
        "df2 = pd.read_csv('./simulation_results/2023-05-26_04-32-14.csv') # lags 8\n",
        "df3 = pd.read_csv('./simulation_results/2023-05-26_10-29-15.csv') # lags 8\n",
        "df4 = pd.read_csv('./simulation_results/2023-05-26_17-32-59.csv') # lags 8\n",
        "df5 = pd.read_csv('./simulation_results/2023-05-26_20-27-25.csv') # lags 8\n",
        "df6 = pd.read_csv('./simulation_results/2023-05-26_23-40-32.csv') # lags 8\n",
        "df7 = pd.read_csv('./simulation_results/2023-05-27_13-20-01.csv') # lags 8\n",
        "df8 = pd.read_csv('./simulation_results/2023-05-28_19-46-39.csv') # lags 8\n",
        "df9 = pd.read_csv('./simulation_results/2023-05-28_23-05-36.csv')"
      ],
      "id": "ee59c5e4-e11a-4a10-a0b1-478a80afb228"
    },
    {
      "cell_type": "code",
      "execution_count": 88,
      "metadata": {},
      "outputs": [],
      "source": [
        "df10 = pd.read_csv('./simulation_results/2023-07-18_01-12-36.csv') # lags 8\n",
        "df11 = pd.read_csv('./simulation_results/2023-07-18_04-18-26.csv') # lags 8\n",
        "df12 = pd.read_csv('./simulation_results/2023-07-18_07-21-19.csv') # lags 8\n",
        "df13 = pd.read_csv('./simulation_results/2023-07-18_10-46-11.csv') # lags 8\n",
        "df14 = pd.read_csv('./simulation_results/2023-07-18_13-55-16.csv') # lags 8\n",
        "df15 = pd.read_csv('./simulation_results/2023-07-18_17-14-12.csv') # lags 8\n",
        "df16 = pd.read_csv('./simulation_results/2023-07-18_20-29-46.csv') # lags 8\n",
        "df17 = pd.read_csv('./simulation_results/2023-07-18_23-46-52.csv') # lags 8\n",
        "df18 = pd.read_csv('./simulation_results/2023-07-19_02-55-01.csv')"
      ],
      "id": "57bf80bd-12c7-41f5-8073-93a82e3b4595"
    },
    {
      "cell_type": "code",
      "execution_count": 89,
      "metadata": {},
      "outputs": [],
      "source": [
        "data = pd.concat([df1,df2,df3,df4,df5,df6,df7,df8,df9,df10,df11,df12,df13,df14,df15,df16,df17,df18],axis=0)"
      ],
      "id": "a19d1bdd-17fe-42cf-a4c8-f270bff69e40"
    },
    {
      "cell_type": "code",
      "execution_count": 90,
      "metadata": {},
      "outputs": [],
      "source": [
        "data.to_csv('./simulation_results/Real_simulation_reshape/monte.csv',index=False)"
      ],
      "id": "3858fad4-79eb-4bd2-a070-c55210e79185"
    },
    {
      "cell_type": "code",
      "execution_count": 91,
      "metadata": {},
      "outputs": [],
      "source": [
        "data = pd.read_csv('./simulation_results/Real_simulation_reshape/monte.csv')"
      ],
      "id": "b6060412-5bf9-480f-8246-83eed9a2677f"
    },
    {
      "cell_type": "markdown",
      "metadata": {},
      "source": [
        "## Baseline"
      ],
      "id": "301253cf-858f-4d39-abfc-8f77a3a4ddda"
    },
    {
      "cell_type": "code",
      "execution_count": 92,
      "metadata": {},
      "outputs": [],
      "source": [
        "data.query(\"mrate==0 and method!='GNAR'\").plot.box(backend='plotly',x='mrate',color='method',y='mse',facet_col='lags',facet_row='nof_filters',height=600)"
      ],
      "id": "2b659b9b-fbc2-4d9a-877f-f8733e9516c1"
    },
    {
      "cell_type": "markdown",
      "metadata": {},
      "source": [
        "## random"
      ],
      "id": "78f12a89-1a80-4391-aacb-520391c7b6e6"
    },
    {
      "cell_type": "code",
      "execution_count": 95,
      "metadata": {},
      "outputs": [],
      "source": [
        "data.query(\"mtype=='rand' and mrate !=0 and method!='GNAR'\").plot.box(backend='plotly',x='mrate',color='method',y='mse',facet_col='lags',facet_row='inter_method',height=800)\n"
      ],
      "id": "029ea9a2-a455-491d-91fe-908e3f950854"
    },
    {
      "cell_type": "markdown",
      "metadata": {},
      "source": [
        "## block"
      ],
      "id": "de9d1e8d-1518-4f81-966e-db2b2e6cfe8c"
    },
    {
      "cell_type": "code",
      "execution_count": 94,
      "metadata": {},
      "outputs": [],
      "source": [
        "data.query(\"mtype=='block' and method!='GNAR'\").plot.box(backend='plotly',x='mrate',color='method',y='mse',facet_col='lags',facet_row='nof_filters',height=1200)\n"
      ],
      "id": "25aeb53b-4e42-462c-bec4-5f0faf9f624b"
    }
  ],
  "nbformat": 4,
  "nbformat_minor": 5,
  "metadata": {
    "kernelspec": {
      "name": "python3",
      "display_name": "Python 3",
      "language": "python"
    },
    "language_info": {
      "name": "python",
      "codemirror_mode": {
        "name": "ipython",
        "version": "3"
      },
      "file_extension": ".py",
      "mimetype": "text/x-python",
      "nbconvert_exporter": "python",
      "pygments_lexer": "ipython3",
      "version": "3.8.0"
    }
  }
}
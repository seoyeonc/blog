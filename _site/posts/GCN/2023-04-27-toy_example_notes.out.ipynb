{
  "cells": [
    {
      "cell_type": "markdown",
      "metadata": {},
      "source": [
        "# Toy Example Note\n",
        "\n",
        "GUEBIN CHOI  \n",
        "2023-04-27"
      ],
      "id": "0b07ae24-c19a-43ef-ad7c-48bd6bc5f6ac"
    },
    {
      "cell_type": "code",
      "execution_count": 109,
      "metadata": {},
      "outputs": [],
      "source": [
        "import numpy as np\n",
        "import matplotlib.pyplot as plt"
      ],
      "id": "8099af3e-1f1d-49d8-bcac-4ea52641054a"
    },
    {
      "cell_type": "code",
      "execution_count": 273,
      "metadata": {},
      "outputs": [],
      "source": [
        "import pandas as pd\n",
        "import pickle"
      ],
      "id": "dc64348a-b952-4795-9faa-70bf1564e248"
    },
    {
      "cell_type": "code",
      "execution_count": 268,
      "metadata": {},
      "outputs": [],
      "source": [
        "T = 50\n",
        "t = np.arange(T)/T * 10 "
      ],
      "id": "01be25e8-53bc-442f-b437-58858e656088"
    },
    {
      "cell_type": "code",
      "execution_count": null,
      "metadata": {},
      "outputs": [],
      "source": [
        "def load_data(fname):\n",
        "    with open(fname, 'rb') as outfile:\n",
        "        data_dict = pickle.load(outfile)\n",
        "    return data_dict"
      ],
      "id": "a6cea773-379d-4ca7-baba-f41e7e3f09c0"
    },
    {
      "cell_type": "code",
      "execution_count": null,
      "metadata": {},
      "outputs": [],
      "source": [
        "def save_data(data_dict,fname):\n",
        "    with open(fname,'wb') as outfile:\n",
        "        pickle.dump(data_dict,outfile)"
      ],
      "id": "6864337a-e0a3-4e16-ba3f-2651f45e2122"
    },
    {
      "cell_type": "code",
      "execution_count": 4,
      "metadata": {},
      "outputs": [],
      "source": [
        "import torch"
      ],
      "id": "285a0cfb-b9d4-4a4e-8c72-09aebc607ec0"
    },
    {
      "cell_type": "code",
      "execution_count": 271,
      "metadata": {},
      "outputs": [],
      "source": [
        "x = 50*np.sin(2*t)#+30*np.sin(5*t)\n",
        "eps_x  = np.random.normal(size=T)\n",
        "y = x.copy()\n",
        "for i in range(2,T):\n",
        "    y[i] = 0.35*x[i-1] - 0.15*x[i-2] + 50*np.cos(0.5*t[i]) \n",
        "eps_y  = np.random.normal(size=T)"
      ],
      "id": "4361c9a0-679f-4525-ba45-d39a7d84d459"
    },
    {
      "cell_type": "code",
      "execution_count": 272,
      "metadata": {},
      "outputs": [
        {
          "output_type": "display_data",
          "metadata": {},
          "data": {
            "image/png": "[encoded data removed]"
          }
        }
      ],
      "source": [
        "plt.plot(t,x,color='C0',lw=5)\n",
        "plt.plot(t,x+eps_x,alpha=0.5,color='C0')\n",
        "plt.plot(t,y,color='C1',lw=5)\n",
        "plt.plot(t,y+eps_y,alpha=0.5,color='C1')\n",
        "_node_ids = {'node1':0, 'node2':1}\n",
        "\n",
        "\n",
        "\n",
        "_node_ids = {'node1':0, 'node2':1}\n",
        "\n",
        "_FX1 = np.stack([x,y],axis=1).tolist()\n",
        "\n",
        "_edges1 = torch.tensor([[1,0]]).tolist()\n",
        "\n",
        "data_dict1 = {'edges':_edges1, 'node_ids':_node_ids, 'FX':_FX1}\n",
        "#data_dict = itstgcn.load_data('./data/fivenodes.pkl')\n",
        "\n",
        "save_data(data_dict1, './data/toy_example1.pkl')\n",
        "\n",
        "data1 = pd.DataFrame({'x':x,'y':y,'xer':x,'yer':y})\n",
        "\n",
        "save_data(data1, './data/toy_example_true1.csv')"
      ],
      "id": "9a8c8d3b-ffe2-4c48-8cc1-2296d78f6dfb"
    },
    {
      "cell_type": "code",
      "execution_count": 25,
      "metadata": {},
      "outputs": [],
      "source": [
        "np.stack([x+eps_x,y+eps_y],axis=1).shape"
      ],
      "id": "510640ab-d107-4dea-b854-60ca57e58df8"
    },
    {
      "cell_type": "code",
      "execution_count": 62,
      "metadata": {},
      "outputs": [],
      "source": [
        "_node_ids = {'node1':0, 'node2':1}"
      ],
      "id": "143e8439-773f-4384-8fb7-d42a1e42218f"
    },
    {
      "cell_type": "code",
      "execution_count": 63,
      "metadata": {},
      "outputs": [],
      "source": [
        "_FX = np.stack([x+eps_x,y+eps_y],axis=1).tolist()"
      ],
      "id": "3aa54031-d9a1-4521-b230-25ce224ec89f"
    },
    {
      "cell_type": "code",
      "execution_count": null,
      "metadata": {},
      "outputs": [],
      "source": [
        "_edges = torch.tensor([[0,0],[0,1],[1,0],[1,1]]).tolist()"
      ],
      "id": "0fe906cc-ebdd-4e23-87dd-3ad7efe327ac"
    },
    {
      "cell_type": "code",
      "execution_count": 65,
      "metadata": {},
      "outputs": [],
      "source": [
        "data_dict = {'edges':_edges, 'node_ids':_node_ids, 'FX':_FX}"
      ],
      "id": "e2b49a56-24da-4745-bd4e-f47871a11926"
    },
    {
      "cell_type": "code",
      "execution_count": 66,
      "metadata": {},
      "outputs": [],
      "source": [
        "data_dict['edges']"
      ],
      "id": "d86901b2-587d-41e3-a96e-6cff008e8693"
    },
    {
      "cell_type": "code",
      "execution_count": 67,
      "metadata": {},
      "outputs": [],
      "source": [
        "np.array(data_dict['edges']).shape"
      ],
      "id": "e8a2ddc8-99e3-4883-a094-e7e4f9cd0c5b"
    },
    {
      "cell_type": "code",
      "execution_count": 68,
      "metadata": {},
      "outputs": [],
      "source": [
        "save_data(data_dict, './data/toy_example.pkl')"
      ],
      "id": "f901c546-678c-49cd-8933-7dd33ccfc6f0"
    },
    {
      "cell_type": "code",
      "execution_count": 83,
      "metadata": {},
      "outputs": [],
      "source": [
        "data_dict = load_data('./data/toy_example.pkl')"
      ],
      "id": "37bcd967-b85b-4142-9716-2888cbe634c5"
    },
    {
      "cell_type": "code",
      "execution_count": 70,
      "metadata": {},
      "outputs": [],
      "source": [
        "data_dict.keys()"
      ],
      "id": "1d480882-2293-405c-ba60-0d0a8fbcc49f"
    },
    {
      "cell_type": "code",
      "execution_count": 71,
      "metadata": {},
      "outputs": [],
      "source": [
        "data_dict['edges']"
      ],
      "id": "b3d666de-8568-4717-945b-ed880efa6f26"
    },
    {
      "cell_type": "code",
      "execution_count": 72,
      "metadata": {},
      "outputs": [],
      "source": [
        "data_dict['node_ids']"
      ],
      "id": "6c6d27b8-6934-4109-b63f-665126ad1ac9"
    },
    {
      "cell_type": "code",
      "execution_count": 73,
      "metadata": {},
      "outputs": [],
      "source": [
        "np.array(data_dict['FX']).shape"
      ],
      "id": "2695238d-4121-4bc8-8956-14fa8fea9cf5"
    },
    {
      "cell_type": "code",
      "execution_count": 86,
      "metadata": {},
      "outputs": [],
      "source": [
        "data = pd.DataFrame({'x':x,'y':y,'xer':x+eps_x,'yer':y+eps_y})"
      ],
      "id": "6c6a4052-3b30-4b0f-9f75-b26fc9b9657f"
    },
    {
      "cell_type": "code",
      "execution_count": 87,
      "metadata": {},
      "outputs": [],
      "source": [
        "save_data(data, './data/toy_example_true.csv')"
      ],
      "id": "4f91850a-530b-4eee-b416-d6297f616016"
    },
    {
      "cell_type": "code",
      "execution_count": 88,
      "metadata": {},
      "outputs": [],
      "source": [
        "data = load_data('./data/toy_example_true.csv')"
      ],
      "id": "9a9049cf-44ca-4171-8ca2-ac15f609c269"
    },
    {
      "cell_type": "code",
      "execution_count": null,
      "metadata": {},
      "outputs": [],
      "source": [
        "_node_ids = {'node1':0, 'node2':1}"
      ],
      "id": "772eabf8-df55-441f-98c5-8ba41df2a598"
    },
    {
      "cell_type": "code",
      "execution_count": null,
      "metadata": {},
      "outputs": [],
      "source": [
        "_FX1 = np.stack([x,y],axis=1).tolist()"
      ],
      "id": "9ac6d007-1181-46a5-9d52-288ca2761339"
    },
    {
      "cell_type": "code",
      "execution_count": null,
      "metadata": {},
      "outputs": [],
      "source": [
        "_edges1 = torch.tensor([[1,0]]).tolist()"
      ],
      "id": "d6f46e83-3bdc-4a9e-b917-8cf09cee816b"
    },
    {
      "cell_type": "code",
      "execution_count": null,
      "metadata": {},
      "outputs": [],
      "source": [
        "data_dict1 = {'edges':_edges1, 'node_ids':_node_ids, 'FX':_FX1}\n",
        "#data_dict = itstgcn.load_data('./data/fivenodes.pkl')"
      ],
      "id": "badf7b26-0ae7-4e8b-9626-10fb8ef3f3d5"
    },
    {
      "cell_type": "code",
      "execution_count": null,
      "metadata": {},
      "outputs": [],
      "source": [
        "save_data(data_dict1, './data/toy_example1.pkl')"
      ],
      "id": "188b46a4-f1c2-44e5-9583-a6fc45ddaf5c"
    },
    {
      "cell_type": "code",
      "execution_count": null,
      "metadata": {},
      "outputs": [],
      "source": [
        "data1 = pd.DataFrame({'x':x,'y':y,'xer':x,'yer':y})"
      ],
      "id": "5c2eacc6-4b96-4654-a5ce-38a444d51e80"
    },
    {
      "cell_type": "code",
      "execution_count": null,
      "metadata": {},
      "outputs": [],
      "source": [
        "save_data(data1, './data/toy_example_true1.csv')"
      ],
      "id": "01346fc0-81be-4e58-9ec8-3deb8dbbe2a2"
    }
  ],
  "nbformat": 4,
  "nbformat_minor": 5,
  "metadata": {
    "kernelspec": {
      "name": "python3",
      "display_name": "Python 3 (ipykernel)",
      "language": "python"
    },
    "language_info": {
      "name": "python",
      "codemirror_mode": {
        "name": "ipython",
        "version": "3"
      },
      "file_extension": ".py",
      "mimetype": "text/x-python",
      "nbconvert_exporter": "python",
      "pygments_lexer": "ipython3",
      "version": "3.8.12"
    }
  }
}
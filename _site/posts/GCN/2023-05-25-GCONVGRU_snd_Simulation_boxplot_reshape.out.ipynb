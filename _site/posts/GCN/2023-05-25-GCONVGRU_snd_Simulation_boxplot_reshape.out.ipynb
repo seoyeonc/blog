{
  "cells": [
    {
      "cell_type": "markdown",
      "metadata": {},
      "source": [
        "# GConvGRU_Simulation Boxplot_reshape\n",
        "\n",
        "SEOYEON CHOI  \n",
        "5/25/23\n",
        "\n",
        "> Simulation Study"
      ],
      "id": "4668a447-3b57-4913-b0e0-65baf22f1f43"
    },
    {
      "cell_type": "code",
      "execution_count": null,
      "metadata": {},
      "outputs": [],
      "source": [
        "import itstgcn\n",
        "import torch\n",
        "import itstgcn.planner \n",
        "import pandas as pd\n",
        "\n",
        "import numpy as np\n",
        "import random"
      ],
      "id": "30e0b2df-69cb-4ca9-bcb0-da9b99607914"
    },
    {
      "cell_type": "code",
      "execution_count": 5,
      "metadata": {},
      "outputs": [],
      "source": [
        "from torch_geometric_temporal.dataset import WikiMathsDatasetLoader\n",
        "loader3 = WikiMathsDatasetLoader()"
      ],
      "id": "cc598172-6964-48e8-aa03-2a59015ef62d"
    },
    {
      "cell_type": "code",
      "execution_count": null,
      "metadata": {},
      "outputs": [],
      "source": [
        "plans_stgcn_rand = {\n",
        "    'max_iteration': 5, \n",
        "    'method': ['STGCN', 'IT-STGCN'],\n",
        "    'mrate': [0.5],\n",
        "    'lags': [8], \n",
        "    'nof_filters': [12], \n",
        "    'inter_method': ['linear'],\n",
        "    'epoch': [50]\n",
        "}"
      ],
      "id": "e7619790-d3fe-49d6-803f-7456815e55b4"
    },
    {
      "cell_type": "code",
      "execution_count": null,
      "metadata": {},
      "outputs": [],
      "source": [
        "plnr = itstgcn.planner.PLNR_STGCN_RAND(plans_stgcn_rand,loader3,dataset_name='wikimath')\n",
        "plnr.simulate()"
      ],
      "id": "ea6ceaa0-c7ac-4ad3-aa03-df07ee81abea"
    },
    {
      "cell_type": "code",
      "execution_count": null,
      "metadata": {},
      "outputs": [],
      "source": [
        "plnr = itstgcn.planner.PLNR_STGCN_RAND(plans_stgcn_rand,loader3,dataset_name='wikimath')\n",
        "plnr.simulate()"
      ],
      "id": "dd3b838d-4c65-4e00-8440-97d92f3bdc66"
    },
    {
      "cell_type": "code",
      "execution_count": null,
      "metadata": {},
      "outputs": [],
      "source": [
        "plnr = itstgcn.planner.PLNR_STGCN_RAND(plans_stgcn_rand,loader3,dataset_name='wikimath')\n",
        "plnr.simulate()"
      ],
      "id": "6112c28c-9638-4d13-8ce7-a6cc6f0e4dee"
    },
    {
      "cell_type": "code",
      "execution_count": null,
      "metadata": {},
      "outputs": [],
      "source": [
        "plnr = itstgcn.planner.PLNR_STGCN_RAND(plans_stgcn_rand,loader3,dataset_name='wikimath')\n",
        "plnr.simulate()"
      ],
      "id": "a91a8fda-0dd2-4f69-884e-7a848cd3c329"
    },
    {
      "cell_type": "code",
      "execution_count": null,
      "metadata": {},
      "outputs": [],
      "source": [
        "plnr = itstgcn.planner.PLNR_STGCN_RAND(plans_stgcn_rand,loader3,dataset_name='wikimath')\n",
        "plnr.simulate()"
      ],
      "id": "87d7898e-a19a-464c-a164-0aaa6f81779a"
    },
    {
      "cell_type": "code",
      "execution_count": null,
      "metadata": {},
      "outputs": [],
      "source": [
        "plnr = itstgcn.planner.PLNR_STGCN_RAND(plans_stgcn_rand,loader3,dataset_name='wikimath')\n",
        "plnr.simulate()"
      ],
      "id": "03d35b40-5c4f-4ee5-9ba6-a08fa0653995"
    },
    {
      "cell_type": "code",
      "execution_count": null,
      "metadata": {},
      "outputs": [],
      "source": [
        "plans_stgcn_rand = {\n",
        "    'max_iteration': 5, \n",
        "    'method': ['STGCN', 'IT-STGCN'],\n",
        "    'mrate': [0.6],\n",
        "    'lags': [8], \n",
        "    'nof_filters': [12], \n",
        "    'inter_method': ['linear'],\n",
        "    'epoch': [50]\n",
        "}"
      ],
      "id": "04218028-7f56-4c4c-a80b-f20081ffd00f"
    },
    {
      "cell_type": "code",
      "execution_count": null,
      "metadata": {},
      "outputs": [],
      "source": [
        "plnr = itstgcn.planner.PLNR_STGCN_RAND(plans_stgcn_rand,loader3,dataset_name='wikimath')\n",
        "plnr.simulate()"
      ],
      "id": "dca88073-b66f-4c59-b7b5-053036211952"
    },
    {
      "cell_type": "code",
      "execution_count": null,
      "metadata": {},
      "outputs": [],
      "source": [
        "plnr = itstgcn.planner.PLNR_STGCN_RAND(plans_stgcn_rand,loader3,dataset_name='wikimath')\n",
        "plnr.simulate()"
      ],
      "id": "f4172ef3-2e61-4532-b318-d886fd4d63bd"
    },
    {
      "cell_type": "code",
      "execution_count": null,
      "metadata": {},
      "outputs": [],
      "source": [
        "plnr = itstgcn.planner.PLNR_STGCN_RAND(plans_stgcn_rand,loader3,dataset_name='wikimath')\n",
        "plnr.simulate()"
      ],
      "id": "d37cb9e8-7058-4118-9df7-dd6e7785360f"
    },
    {
      "cell_type": "code",
      "execution_count": null,
      "metadata": {},
      "outputs": [],
      "source": [
        "plnr = itstgcn.planner.PLNR_STGCN_RAND(plans_stgcn_rand,loader3,dataset_name='wikimath')\n",
        "plnr.simulate()"
      ],
      "id": "1d600bf3-5712-4a8f-b089-29161b489e31"
    },
    {
      "cell_type": "code",
      "execution_count": null,
      "metadata": {},
      "outputs": [],
      "source": [
        "plnr = itstgcn.planner.PLNR_STGCN_RAND(plans_stgcn_rand,loader3,dataset_name='wikimath')\n",
        "plnr.simulate()"
      ],
      "id": "0b7c2ad0-e612-4f52-abd8-4c26eb99a28c"
    },
    {
      "cell_type": "code",
      "execution_count": null,
      "metadata": {},
      "outputs": [],
      "source": [
        "plnr = itstgcn.planner.PLNR_STGCN_RAND(plans_stgcn_rand,loader3,dataset_name='wikimath')\n",
        "plnr.simulate()"
      ],
      "id": "a33fc85e-25da-40ff-b414-74cad8968c22"
    },
    {
      "cell_type": "markdown",
      "metadata": {},
      "source": [
        "# Import"
      ],
      "id": "3ca65773-cd86-4bb5-ad71-2d0eec72a3c4"
    },
    {
      "cell_type": "code",
      "execution_count": 497,
      "metadata": {},
      "outputs": [],
      "source": [
        "import matplotlib.pyplot as plt\n",
        "import pandas as pd\n",
        "import numpy as np"
      ],
      "id": "8438b78f-9b01-4265-9bc2-1eeade09e512"
    },
    {
      "cell_type": "markdown",
      "metadata": {},
      "source": [
        "# Fivenodes\n",
        "\n",
        "``` python\n",
        "mindex= [[],[],[],list(range(50,150)),[]] # block 1\n",
        "mindex= [list(range(10,100)),[],list(range(50,80)),[],[]] # node 2 30% mmissing\n",
        "```\n",
        "\n",
        "block 조건\n",
        "\n",
        "`2023-05-20_09-53-08`\n",
        "\n",
        "epoch 150"
      ],
      "id": "98f425fd-9306-4826-8f46-6052ffd5633b"
    },
    {
      "cell_type": "code",
      "execution_count": 2,
      "metadata": {},
      "outputs": [],
      "source": [
        "df1 = pd.read_csv('./simulation_results/2023-05-26_07-07-05.csv')\n",
        "df2 = pd.read_csv('./simulation_results/2023-05-27_21-02-01.csv')"
      ],
      "id": "5a813ccb-8bc4-4d74-91aa-2f453086a7ab"
    },
    {
      "cell_type": "code",
      "execution_count": null,
      "metadata": {},
      "outputs": [],
      "source": [
        "df3 = pd.read_csv('./simulation_results/2023-07-14_19-15-30.csv')\n",
        "df4 = pd.read_csv('./simulation_results/2023-07-14_20-20-12.csv')\n",
        "df5 = pd.read_csv('./simulation_results/2023-07-14_21-17-16.csv')\n",
        "df6 = pd.read_csv('./simulation_results/2023-07-14_22-12-52.csv')\n",
        "df7 = pd.read_csv('./simulation_results/2023-07-14_23-13-30.csv')\n",
        "df8 = pd.read_csv('./simulation_results/2023-07-15_00-17-49.csv')"
      ],
      "id": "07aec730-5285-4f03-b170-0de2482f3f78"
    },
    {
      "cell_type": "code",
      "execution_count": 3,
      "metadata": {},
      "outputs": [],
      "source": [
        "data = pd.concat([df1,df2,df3,df4,df5,df6,df7,df8],axis=0)"
      ],
      "id": "8a5d6c25-73c8-4453-8d5f-2fc67887ce24"
    },
    {
      "cell_type": "code",
      "execution_count": 4,
      "metadata": {},
      "outputs": [],
      "source": [
        "data.to_csv('./simulation_results/Real_simulation_reshape/fivedones_Simulation.csv',index=False)"
      ],
      "id": "36ad6df4-0662-4828-a8a3-c85fbade54c5"
    },
    {
      "cell_type": "code",
      "execution_count": 5,
      "metadata": {},
      "outputs": [],
      "source": [
        "data = pd.read_csv('./simulation_results/Real_simulation_reshape/fivedones_Simulation.csv')"
      ],
      "id": "a9958423-2b8d-4df7-87d0-127ef27d4258"
    },
    {
      "cell_type": "markdown",
      "metadata": {},
      "source": [
        "## Baseline"
      ],
      "id": "c2322296-36ca-49a3-a0f8-5cce56736333"
    },
    {
      "cell_type": "code",
      "execution_count": 6,
      "metadata": {
        "tags": []
      },
      "outputs": [],
      "source": [
        "data.query(\"method!='GNAR' and mrate==0\").plot.box(backend='plotly',x='mrate',color='method',y='mse',facet_col='lags',facet_row='nof_filters',height=600)\n"
      ],
      "id": "51cb6c80-e83c-41c0-a4f8-0c1a25b45a17"
    },
    {
      "cell_type": "code",
      "execution_count": 7,
      "metadata": {},
      "outputs": [],
      "source": [
        "data.query(\"method!='GNAR' and mtype =='rand'\").plot.box(backend='plotly',x='mrate',color='method',y='mse',facet_col='mrate',facet_row='inter_method',height=600)\n"
      ],
      "id": "f51efea3-7eed-48cd-8ec2-0cab5b478189"
    },
    {
      "cell_type": "code",
      "execution_count": 8,
      "metadata": {},
      "outputs": [],
      "source": [
        "data.query(\"method!='GNAR' and mtype =='block' \").plot.box(backend='plotly',x='mrate',color='method',y='mse',facet_col='inter_method',facet_row='lags',height=600)\n"
      ],
      "id": "647cd7a8-ef3d-43d1-b783-b99d9b762a31"
    },
    {
      "cell_type": "markdown",
      "metadata": {},
      "source": [
        "# chickenpox\n",
        "\n",
        "``` python\n",
        "my_list = [[] for _ in range(20)] #chickenpox\n",
        "another_list = list(range(100,400))\n",
        "my_list[1] = another_list\n",
        "my_list[3] = another_list\n",
        "my_list[5] = another_list\n",
        "my_list[7] = another_list\n",
        "my_list[9] = another_list\n",
        "my_list[11] = another_list\n",
        "my_list[13] = another_list\n",
        "my_list[15] = another_list\n",
        "mindex = my_list\n",
        "```\n",
        "\n",
        "block 30% missing을 위한 조건"
      ],
      "id": "6a24cd9c-a86a-4cdf-8e10-be19e3ab96be"
    },
    {
      "cell_type": "code",
      "execution_count": 9,
      "metadata": {},
      "outputs": [],
      "source": [
        "df1 = pd.read_csv('./simulation_results/2023-05-26_18-06-07.csv') # GNAR random\n",
        "df2 = pd.read_csv('./simulation_results/2023-05-28_16-17-21.csv') # GNAR block\n",
        "df3 = pd.read_csv('./simulation_results/2023-05-28_20-41-00.csv') # STGCN, ITSTGCN random 30%\n",
        "df4 = pd.read_csv('./simulation_results/2023-05-29_06-35-52.csv')"
      ],
      "id": "404983c1-1edd-4048-9399-3980208f3c36"
    },
    {
      "cell_type": "code",
      "execution_count": null,
      "metadata": {},
      "outputs": [],
      "source": [
        "df5 = pd.read_csv('./simulation_results/2023-07-15_03-00-24.csv')\n",
        "df6 = pd.read_csv('./simulation_results/2023-07-15_05-54-45.csv')\n",
        "df7 = pd.read_csv('./simulation_results/2023-07-15_08-36-29.csv')\n",
        "df8 = pd.read_csv('./simulation_results/2023-07-15_10-39-42.csv')"
      ],
      "id": "272731ed-4c3c-44d9-9e5e-cf80bcda9889"
    },
    {
      "cell_type": "code",
      "execution_count": 10,
      "metadata": {},
      "outputs": [],
      "source": [
        "data = pd.concat([df1,df2,df3,df4,df5,df6,df7,df8],axis=0)"
      ],
      "id": "83b7eb07-8ee8-4b43-8e28-d9903cb93a96"
    },
    {
      "cell_type": "code",
      "execution_count": 11,
      "metadata": {},
      "outputs": [],
      "source": [
        "data.to_csv('./simulation_results/Real_simulation_reshape/chikenpox_Simulation.csv',index=False)"
      ],
      "id": "23bf5fd7-93a7-409c-bc9b-64e251a15b0b"
    },
    {
      "cell_type": "code",
      "execution_count": 12,
      "metadata": {},
      "outputs": [],
      "source": [
        "data = pd.read_csv('./simulation_results/Real_simulation_reshape/chikenpox_Simulation.csv')"
      ],
      "id": "a3584b34-a817-47d0-8900-3c18f7b559f0"
    },
    {
      "cell_type": "markdown",
      "metadata": {},
      "source": [
        "## Baseline"
      ],
      "id": "21d8143c-b31f-4c8b-ae05-7ee882a2340f"
    },
    {
      "cell_type": "code",
      "execution_count": 13,
      "metadata": {},
      "outputs": [],
      "source": [
        "data.query(\"method!='GNAR' and mrate ==0 \").plot.box(backend='plotly',x='mrate',color='method',y='mse',facet_col='nof_filters',height=600)\n"
      ],
      "id": "5cbc5e7e-e084-4a57-a3a7-e53baf18d7fc"
    },
    {
      "cell_type": "markdown",
      "metadata": {},
      "source": [
        "## Random"
      ],
      "id": "361d0694-99ec-42b8-b2b5-088141983cb5"
    },
    {
      "cell_type": "code",
      "execution_count": 14,
      "metadata": {},
      "outputs": [],
      "source": [
        "data.query(\"method!='GNAR' and mtype =='rand'\").plot.box(backend='plotly',x='mrate',color='method',y='mse',facet_col='nof_filters',facet_row='inter_method',height=800)\n"
      ],
      "id": "8e1edcfc-4362-4e97-9abb-cbc41620149d"
    },
    {
      "cell_type": "markdown",
      "metadata": {},
      "source": [
        "## Block"
      ],
      "id": "ec22838d-92ae-4982-b9df-3d858b8c55a3"
    },
    {
      "cell_type": "code",
      "execution_count": 15,
      "metadata": {},
      "outputs": [],
      "source": [
        "data.query(\"method!='GNAR' and mtype =='block'\").plot.box(backend='plotly',x='mrate',color='method',y='mse',facet_col='inter_method',facet_row='lags',height=800)\n"
      ],
      "id": "6af13164-3866-47f6-aa45-6b89b376b7d9"
    },
    {
      "cell_type": "markdown",
      "metadata": {},
      "source": [
        "# Pedalme\n",
        "\n",
        "block1\n",
        "\n",
        "``` python\n",
        "my_list = [[] for _ in range(15)] #pedalme\n",
        "another_list = list(range(5,25))\n",
        "my_list[1] = another_list\n",
        "my_list[3] = another_list\n",
        "my_list[5] = another_list\n",
        "my_list[7] = another_list\n",
        "my_list[9] = another_list\n",
        "my_list[11] = another_list\n",
        "mindex = my_list\n",
        "```\n",
        "\n",
        "block 30% missing을 위한 조건\n",
        "\n",
        "block2\n",
        "\n",
        "``` python\n",
        "my_list = [[] for _ in range(15)] #pedalme\n",
        "another_list = list(range(10,25))\n",
        "my_list[2] = another_list\n",
        "my_list[4] = another_list\n",
        "my_list[5] = another_list\n",
        "my_list[11] = another_list\n",
        "mindex = my_list\n",
        "```\n",
        "\n",
        "block 30% missing을 위한 조건"
      ],
      "id": "938a5cd9-8b57-43ae-b249-7def0a405576"
    },
    {
      "cell_type": "code",
      "execution_count": 16,
      "metadata": {},
      "outputs": [],
      "source": [
        "df1 = pd.read_csv('./simulation_results/2023-05-25_19-21-30.csv') \n",
        "df2 = pd.read_csv('./simulation_results/2023-05-25_19-52-39.csv') "
      ],
      "id": "6de334e1-cbbb-40f1-b8ec-d0ad94128f87"
    },
    {
      "cell_type": "code",
      "execution_count": null,
      "metadata": {},
      "outputs": [],
      "source": [
        "df3 = pd.read_csv('./simulation_results/2023-07-15_11-17-37.csv')"
      ],
      "id": "65c4d0a8-f225-40fe-bb2b-b51a2b6ae62d"
    },
    {
      "cell_type": "code",
      "execution_count": 17,
      "metadata": {},
      "outputs": [],
      "source": [
        "data = pd.concat([df1,df2,df3],axis=0)"
      ],
      "id": "8ceec35e-679e-49b0-bd49-146b52566404"
    },
    {
      "cell_type": "code",
      "execution_count": 18,
      "metadata": {},
      "outputs": [],
      "source": [
        "data.to_csv('./simulation_results/Real_simulation_reshape/pedalme_Simulation.csv',index=False)"
      ],
      "id": "9d50e527-3fb2-43d5-bd9e-2199d2204fa6"
    },
    {
      "cell_type": "code",
      "execution_count": 19,
      "metadata": {},
      "outputs": [],
      "source": [
        "data = pd.read_csv('./simulation_results/Real_simulation_reshape/pedalme_Simulation.csv')"
      ],
      "id": "d7af5780-b845-4aba-ad56-a8a553c87d66"
    },
    {
      "cell_type": "code",
      "execution_count": 20,
      "metadata": {},
      "outputs": [],
      "source": [
        "data.query(\"method=='STGCN' and mtype == 'rand'\")['mse'].mean(),data.query(\"method=='STGCN' and mtype != 'rand'\")['mse'].mean()"
      ],
      "id": "37ced47f-c7dc-4673-b15d-0a5fa3a22d1a"
    },
    {
      "cell_type": "code",
      "execution_count": 21,
      "metadata": {},
      "outputs": [],
      "source": [
        "data.query(\"method=='IT-STGCN' and mtype == 'rand'\")['mse'].mean(),data.query(\"method=='IT-STGCN' and mtype != 'rand'\")['mse'].mean()"
      ],
      "id": "f6165c3c-1e2f-4ce9-8d7d-63d8a68cab4d"
    },
    {
      "cell_type": "markdown",
      "metadata": {},
      "source": [
        "## Baseline"
      ],
      "id": "4e141b82-2557-4bbf-a16f-fea0d9cabb55"
    },
    {
      "cell_type": "code",
      "execution_count": 22,
      "metadata": {},
      "outputs": [],
      "source": [
        "data.query(\"mrate ==0 \").plot.box(backend='plotly',x='epoch',color='method',y='mse',height=800)\n"
      ],
      "id": "d4bcb7e6-3f0f-498d-9e92-61d5206b75bf"
    },
    {
      "cell_type": "markdown",
      "metadata": {},
      "source": [
        "## random"
      ],
      "id": "b92fb277-b0e9-4da1-98c4-ceb1932bf856"
    },
    {
      "cell_type": "code",
      "execution_count": 23,
      "metadata": {},
      "outputs": [],
      "source": [
        "data.query(\"method!='GNAR' and mtype =='rand' \").plot.box(backend='plotly',x='mrate',color='method',y='mse',facet_col='lags',facet_row='inter_method',height=800)\n"
      ],
      "id": "afb38802-aeba-4b72-9d57-b3d510c25591"
    },
    {
      "cell_type": "markdown",
      "metadata": {},
      "source": [
        "## block"
      ],
      "id": "363c4caa-6580-40ed-bfcc-e5ecb56ce19e"
    },
    {
      "cell_type": "code",
      "execution_count": 24,
      "metadata": {},
      "outputs": [],
      "source": [
        "data.query(\"method!='GNAR' and mtype =='block' \").plot.box(backend='plotly',x='mrate',color='method',y='mse',facet_col='inter_method',facet_row='lags',height=600)\n"
      ],
      "id": "e51c8fe3-6c2a-4b00-a2ab-a7b066cd2580"
    },
    {
      "cell_type": "markdown",
      "metadata": {},
      "source": [
        "## weight matrix time, node 고려한 결과"
      ],
      "id": "b22eac7a-d5cf-4c4f-8586-e451d2148d32"
    },
    {
      "cell_type": "code",
      "execution_count": 25,
      "metadata": {},
      "outputs": [],
      "source": [
        "df1 = pd.read_csv('./simulation_results/2023-05-28_10-40-44.csv')\n",
        "df2 = pd.read_csv('./simulation_results/2023-05-28_11-09-06.csv')"
      ],
      "id": "9cf27bd7-8f22-4866-8721-3031236c9930"
    },
    {
      "cell_type": "code",
      "execution_count": 26,
      "metadata": {},
      "outputs": [],
      "source": [
        "data2 = pd.concat([df1,df2],axis=0)"
      ],
      "id": "ed9ad07e-96ce-4af3-b2ec-622d32768e9e"
    },
    {
      "cell_type": "code",
      "execution_count": 27,
      "metadata": {},
      "outputs": [],
      "source": [
        "data2.to_csv('./simulation_results/Real_simulation_reshape/pedalme_Simulation_itstgcnsnd.csv',index=False)"
      ],
      "id": "44b16b58-aa07-49d8-85a8-444a2f86f258"
    },
    {
      "cell_type": "code",
      "execution_count": 28,
      "metadata": {},
      "outputs": [],
      "source": [
        "data2 = pd.read_csv('./simulation_results/Real_simulation_reshape/pedalme_Simulation_itstgcnsnd.csv')"
      ],
      "id": "5569189e-8cfb-4581-8fdd-cf6da21b7722"
    },
    {
      "cell_type": "code",
      "execution_count": 29,
      "metadata": {},
      "outputs": [],
      "source": [
        "data2.query(\"mtype=='rand'\").plot.box(backend='plotly',x='mrate',color='method',y='mse',facet_col='inter_method',facet_row='lags',height=1000)"
      ],
      "id": "d01248cf-4485-415c-90d0-718a4c68631c"
    },
    {
      "cell_type": "code",
      "execution_count": 30,
      "metadata": {},
      "outputs": [],
      "source": [
        "data2.query(\"mtype=='block'\").plot.box(backend='plotly',x='mrate',color='method',y='mse',facet_col='inter_method',facet_row='lags',height=1000)"
      ],
      "id": "fef8f3d2-24b2-4bf2-8385-bfd93f5053be"
    },
    {
      "cell_type": "markdown",
      "metadata": {},
      "source": [
        "# Wikimath"
      ],
      "id": "b30b5cc4-beba-4a9c-add5-781f421d925a"
    },
    {
      "cell_type": "code",
      "execution_count": 40,
      "metadata": {},
      "outputs": [],
      "source": [
        "df1 = pd.read_csv('./simulation_results/2023-05-26_03-28-39.csv')\n",
        "df2 = pd.read_csv('./simulation_results/2023-05-27_00-32-12.csv')\n",
        "df3 = pd.read_csv('./simulation_results/2023-05-27_08-08-15.csv')\n",
        "df4 = pd.read_csv('./simulation_results/2023-05-27_17-49-17.csv')\n",
        "df5 = pd.read_csv('./simulation_results/2023-05-28_03-28-19.csv')\n",
        "df6 = pd.read_csv('./simulation_results/2023-05-28_04-31-07.csv')\n",
        "df7 = pd.read_csv('./simulation_results/2023-05-28_15-46-26.csv')\n",
        "df8 = pd.read_csv('./simulation_results/2023-05-29_17-36-54.csv')\n",
        "df9 = pd.read_csv('./simulation_results/2023-05-30_04-27-01.csv')"
      ],
      "id": "f4917560-8eae-4eb3-880a-b9a7775e28d9"
    },
    {
      "cell_type": "code",
      "execution_count": 41,
      "metadata": {},
      "outputs": [],
      "source": [
        "df10 = pd.read_csv('./simulation_results/2023-07-15_20-52-25.csv')\n",
        "df11 = pd.read_csv('./simulation_results/2023-07-16_08-07-41.csv')\n",
        "df12 = pd.read_csv('./simulation_results/2023-07-16_14-17-47.csv')\n",
        "df13 = pd.read_csv('./simulation_results/2023-07-16_20-55-00.csv')\n",
        "df14 = pd.read_csv('./simulation_results/2023-07-17_03-58-38.csv')\n",
        "df15 = pd.read_csv('./simulation_results/2023-07-17_10-21-14.csv')\n",
        "df16 = pd.read_csv('./simulation_results/2023-07-17_16-00-20.csv')\n",
        "df17 = pd.read_csv('./simulation_results/2023-07-17_22-08-59.csv')"
      ],
      "id": "78a1b16f-971c-483a-8a83-2f243682275a"
    },
    {
      "cell_type": "code",
      "execution_count": null,
      "metadata": {},
      "outputs": [],
      "source": [
        "df18 = pd.read_csv('./simulation_results/2023-07-19_08-35-52.csv')\n",
        "df19 = pd.read_csv('./simulation_results/2023-07-19_15-01-57.csv')\n",
        "df20 = pd.read_csv('./simulation_results/2023-07-19_22-33-07.csv')\n",
        "df21 = pd.read_csv('./simulation_results/2023-07-20_06-21-30.csv')\n",
        "# df22 = pd.read_csv('./simulation_results/2023-07-17_03-58-38.csv')\n",
        "# df23 = pd.read_csv('./simulation_results/2023-07-17_10-21-14.csv')\n",
        "# df24 = pd.read_csv('./simulation_results/2023-07-17_16-00-20.csv')\n",
        "# df25 = pd.read_csv('./simulation_results/2023-07-17_22-08-59.csv')"
      ],
      "id": "c4f4facb-86e5-4365-8cea-1ef4289eeffa"
    },
    {
      "cell_type": "code",
      "execution_count": 42,
      "metadata": {},
      "outputs": [],
      "source": [
        "data = pd.concat([df1,df2,df3,df4,df5,df6,df7,df8,df9,df10,df11,df12,df13,df14,df15,df16,df17,\n",
        "                 df18,df19,df20,df21],axis=0)"
      ],
      "id": "2625c13d-645e-423c-9413-659c30aca4c2"
    },
    {
      "cell_type": "code",
      "execution_count": 43,
      "metadata": {},
      "outputs": [],
      "source": [
        "data.to_csv('./simulation_results/Real_simulation_reshape/wikimath.csv',index=False)"
      ],
      "id": "46108d1d-ac2f-4dda-9d1d-8ad254de4be6"
    },
    {
      "cell_type": "code",
      "execution_count": 44,
      "metadata": {},
      "outputs": [],
      "source": [
        "data = pd.read_csv('./simulation_results/Real_simulation_reshape/wikimath.csv')"
      ],
      "id": "8043cc7e-92a9-43ea-846e-eba8d6a04832"
    },
    {
      "cell_type": "markdown",
      "metadata": {},
      "source": [
        "## Baseline"
      ],
      "id": "e6e7342c-3688-4707-b49d-4cec60272448"
    },
    {
      "cell_type": "code",
      "execution_count": 35,
      "metadata": {},
      "outputs": [],
      "source": [
        "data.query(\"mrate==0 and method!='GNAR'\").plot.box(backend='plotly',x='mrate',color='method',y='mse',height=600)"
      ],
      "id": "07035b3f-3ba1-433b-9b3f-df4e48c0a035"
    },
    {
      "cell_type": "markdown",
      "metadata": {},
      "source": [
        "## random"
      ],
      "id": "5e4dfcb4-8fbb-42a3-aaca-0440e939afc7"
    },
    {
      "cell_type": "code",
      "execution_count": 36,
      "metadata": {},
      "outputs": [],
      "source": [
        "data.query(\"mtype=='rand' and mrate !=0 and method!='GNAR'\").plot.box(backend='plotly',x='mrate',color='method',y='mse',facet_col='lags',facet_row='nof_filters',height=800)\n"
      ],
      "id": "9a072322-0416-48ee-b207-cde68bc8f9b1"
    },
    {
      "cell_type": "markdown",
      "metadata": {},
      "source": [
        "## block"
      ],
      "id": "97f89d59-f1de-49cb-869d-109475aa32e8"
    },
    {
      "cell_type": "code",
      "execution_count": 37,
      "metadata": {},
      "outputs": [],
      "source": [
        "data.query(\"mtype=='block' and method!='GNAR'\").plot.box(backend='plotly',x='mrate',color='method',y='mse',facet_col='lags',facet_row='nof_filters',height=1200)\n"
      ],
      "id": "a5815bf2-1ea2-40e8-9245-60a27b2aa855"
    },
    {
      "cell_type": "markdown",
      "metadata": {},
      "source": [
        "## missing values on the same nodes"
      ],
      "id": "b463ed19-5bac-4236-91fb-a3efd16ddb48"
    },
    {
      "cell_type": "code",
      "execution_count": 38,
      "metadata": {
        "tags": []
      },
      "outputs": [],
      "source": [
        "# 10%\n",
        "df1 = pd.read_csv('./simulation_results/2023-05-30_15-07-43.csv') # STGCN IT-STGCN block\n",
        "df2 = pd.read_csv('./simulation_results/2023-05-31_01-58-40.csv') # STGCN IT-STGCN"
      ],
      "id": "872fe04d-0236-4a4c-a7fb-0a4fabdc2288"
    },
    {
      "cell_type": "code",
      "execution_count": 39,
      "metadata": {},
      "outputs": [],
      "source": [
        "data = pd.concat([df1,df2],axis=0)"
      ],
      "id": "64dfa00e-84bf-4706-b139-d4a29f9b4d10"
    },
    {
      "cell_type": "code",
      "execution_count": 40,
      "metadata": {},
      "outputs": [],
      "source": [
        "data.to_csv('./simulation_results/Real_simulation_reshape/wikimath_GSO_st.csv',index=False)"
      ],
      "id": "4339788f-dbed-4163-a5c0-b413ecf7621e"
    },
    {
      "cell_type": "code",
      "execution_count": 41,
      "metadata": {},
      "outputs": [],
      "source": [
        "data = pd.read_csv('./simulation_results/Real_simulation_reshape/wikimath_GSO_st.csv')"
      ],
      "id": "13681092-344f-442c-9c51-4323e93f391b"
    },
    {
      "cell_type": "code",
      "execution_count": 42,
      "metadata": {},
      "outputs": [],
      "source": [
        "data.query(\"method!='GNAR' and mtype =='block' \").plot.box(backend='plotly',x='mrate',color='method',y='mse',facet_col='inter_method',facet_row='lags',height=800)\n"
      ],
      "id": "b5789801-fb10-4e5e-803f-67de2c3a7c08"
    },
    {
      "cell_type": "markdown",
      "metadata": {},
      "source": [
        "# Windmilsmall"
      ],
      "id": "ed130809-6100-478e-b523-3dde3a8913e4"
    },
    {
      "cell_type": "code",
      "execution_count": 498,
      "metadata": {},
      "outputs": [],
      "source": [
        "df1 = pd.read_csv('./simulation_results/2023-05-27_03-20-28.csv') # STGCN IT-STGCN 70%\n",
        "df2 = pd.read_csv('./simulation_results/2023-05-27_11-15-19.csv') # STGCN IT-STGCN\n",
        "df3 = pd.read_csv('./simulation_results/2023-05-27_21-50-00.csv') # STGCN IT-STGCN\n",
        "df4 = pd.read_csv('./simulation_results/2023-05-28_07-53-57.csv') # STGCN IT-STGCN\n",
        "df5 = pd.read_csv('./simulation_results/2023-05-28_15-11-36.csv') # STGCN IT-STGCN\n",
        "df6 = pd.read_csv('./simulation_results/2023-05-28_19-57-23.csv') # GNAR 30%, 50%, 70% # 뭔가 일단 필요없어서 데이터셋에서 뺌\n",
        "df7 = pd.read_csv('./simulation_results/2023-05-29_01-36-37.csv') # STGCN IT-STGCN\n",
        "df8 = pd.read_csv('./simulation_results/2023-05-29_05-55-43.csv') # STGCN IT-STGCN\n",
        "df9 = pd.read_csv('./simulation_results/2023-05-29_11-00-42.csv') # STGCN IT-STGCN\n",
        "df10 = pd.read_csv('./simulation_results/2023-05-29_15-58-56.csv') # STGCN IT-STGCN\n",
        "df11 = pd.read_csv('./simulation_results/2023-05-29_21-01-58.csv') # STGCN IT-STGCN\n",
        "df12 = pd.read_csv('./simulation_results/2023-05-30_02-08-43.csv') # STGCN IT-STGCN\n",
        "df13 = pd.read_csv('./simulation_results/2023-05-30_06-27-00.csv') # STGCN IT-STGCN\n",
        "df14 = pd.read_csv('./simulation_results/2023-05-30_11-59-01.csv') # STGCN IT-STGCN\n",
        "df15 = pd.read_csv('./simulation_results/2023-05-30_15-59-12.csv') # STGCN IT-STGCN\n",
        "df16 = pd.read_csv('./simulation_results/2023-05-30_21-52-31.csv') # STGCN IT-STGCN\n",
        "df17 = pd.read_csv('./simulation_results/2023-05-31_01-32-09.csv') # STGCN IT-STGCN\n",
        "df18 = pd.read_csv('./simulation_results/2023-05-31_09-41-08.csv') # STGCN IT-STGCN\n",
        "df19 = pd.read_csv('./simulation_results/2023-05-31_16-32-33.csv') # STGCN IT-STGCN\n",
        "df20 = pd.read_csv('./simulation_results/2023-05-31_19-24-06.csv') # STGCN IT-STGCN\n",
        "df21 = pd.read_csv('./simulation_results/2023-06-01_00-59-31.csv') # STGCN IT-STGCN\n",
        "df22 = pd.read_csv('./simulation_results/2023-06-01_08-30-50.csv') # STGCN IT-STGCN\n",
        "df23 = pd.read_csv('./simulation_results/2023-06-01_16-03-58.csv') # STGCN IT-STGCN\n",
        "df24 = pd.read_csv('./simulation_results/2023-06-02_01-48-39.csv') # STGCN IT-STGCN\n",
        "df25 = pd.read_csv('./simulation_results/2023-06-02_11-17-51.csv') # STGCN IT-STGCN\n",
        "df26 = pd.read_csv('./simulation_results/2023-06-02_20-36-02.csv') # STGCN IT-STGCN\n",
        "df27 = pd.read_csv('./simulation_results/2023-06-03_05-23-46.csv') # STGCN IT-STGCN\n",
        "df28 = pd.read_csv('./simulation_results/2023-06-03_13-33-11.csv') # STGCN IT-STGCN\n",
        "df29 = pd.read_csv('./simulation_results/2023-06-03_22-40-48.csv') # STGCN IT-STGCN\n",
        "df30 = pd.read_csv('./simulation_results/2023-06-04_08-23-50.csv') # STGCN IT-STGCN\n",
        "df31 = pd.read_csv('./simulation_results/2023-06-04_16-47-07.csv') # GNAR 70%\n",
        "df32 = pd.read_csv('./simulation_results/2023-06-05_01-40-31.csv') # GNAR \n",
        "df33 = pd.read_csv('./simulation_results/2023-06-05_11-53-37.csv')\n",
        "df34 = pd.read_csv('./simulation_results/2023-06-06_10-02-26.csv')\n",
        "df35 = pd.read_csv('./simulation_results/2023-06-06_10-06-02.csv')\n",
        "df36 = pd.read_csv('./simulation_results/2023-06-06_19-10-01.csv')\n",
        "df37 = pd.read_csv('./simulation_results/2023-06-06_19-22-47.csv')\n",
        "df38 = pd.read_csv('./simulation_results/2023-06-07_04-41-41.csv')\n",
        "df39 = pd.read_csv('./simulation_results/2023-06-07_05-00-00.csv')\n",
        "df40 = pd.read_csv('./simulation_results/2023-06-07_12-49-37.csv')\n",
        "df41 = pd.read_csv('./simulation_results/2023-06-07_13-05-52.csv')\n",
        "df42 = pd.read_csv('./simulation_results/2023-06-07_21-00-28.csv')\n",
        "df43 = pd.read_csv('./simulation_results/2023-06-07_21-30-40.csv')\n",
        "df44 = pd.read_csv('./simulation_results/2023-06-08_06-10-42.csv')\n",
        "df45 = pd.read_csv('./simulation_results/2023-06-09_00-38-32.csv')\n",
        "df46 = pd.read_csv('./simulation_results/2023-06-09_12-08-44.csv')\n",
        "df47 = pd.read_csv('./simulation_results/2023-06-10_10-10-27.csv')\n",
        "df48 = pd.read_csv('./simulation_results/2023-06-10_21-16-06.csv')\n",
        "df49 = pd.read_csv('./simulation_results/2023-06-11_09-03-26.csv')\n",
        "df50 = pd.read_csv('./simulation_results/2023-06-11_21-00-18.csv')\n",
        "df51 = pd.read_csv('./simulation_results/2023-06-12_08-58-26.csv')\n",
        "df52 = pd.read_csv('./simulation_results/2023-06-12_20-56-40.csv')\n",
        "df53 = pd.read_csv('./simulation_results/2023-06-13_09-03-43.csv')\n",
        "df54 = pd.read_csv('./simulation_results/2023-06-13_21-56-32.csv')\n",
        "df55 = pd.read_csv('./simulation_results/2023-06-14_11-11-38.csv')\n",
        "df56 = pd.read_csv('./simulation_results/2023-06-14_23-17-40.csv')\n",
        "df57 = pd.read_csv('./simulation_results/2023-06-15_05-01-21.csv')\n",
        "df58 = pd.read_csv('./simulation_results/2023-06-15_10-54-28.csv')\n",
        "df59 = pd.read_csv('./simulation_results/2023-06-15_17-35-55.csv')\n",
        "df60 = pd.read_csv('./simulation_results/2023-06-15_21-14-21.csv')\n",
        "df61 = pd.read_csv('./simulation_results/2023-06-16_03-15-32.csv')\n",
        "df62 = pd.read_csv('./simulation_results/2023-06-16_06-13-50.csv')\n",
        "df63 = pd.read_csv('./simulation_results/2023-06-16_14-18-52.csv')\n",
        "df64 = pd.read_csv('./simulation_results/2023-06-16_18-21-01.csv')\n",
        "df65 = pd.read_csv('./simulation_results/2023-06-17_02-04-16.csv')\n",
        "df66 = pd.read_csv('./simulation_results/2023-06-17_12-31-27.csv')\n",
        "df67 = pd.read_csv('./simulation_results/2023-06-17_19-20-19.csv')\n",
        "df68 = pd.read_csv('./simulation_results/2023-06-18_02-32-26.csv') # 확인 후 block 만 넣기!\n",
        "df69 = pd.read_csv('./simulation_results/2023-06-18_12-20-16.csv')\n",
        "df70 = pd.read_csv('./simulation_results/2023-06-18_22-03-52.csv')\n",
        "df71 = pd.read_csv('./simulation_results/2023-06-19_07-54-07.csv')\n",
        "df72 = pd.read_csv('./simulation_results/2023-06-19_17-32-15.csv')\n",
        "df73 = pd.read_csv('./simulation_results/2023-06-20_02-27-48.csv')\n",
        "df74 = pd.read_csv('./simulation_results/2023-06-20_11-25-00.csv')\n",
        "df75 = pd.read_csv('./simulation_results/2023-06-21_08-22-10.csv')\n",
        "df76 = pd.read_csv('./simulation_results/2023-06-21_18-02-06.csv')\n",
        "df77 = pd.read_csv('./simulation_results/2023-06-22_03-53-20.csv')\n",
        "df78 = pd.read_csv('./simulation_results/2023-06-22_14-30-51.csv')\n",
        "df79 = pd.read_csv('./simulation_results/2023-06-22_23-58-03.csv')\n",
        "df80 = pd.read_csv('./simulation_results/2023-06-23_07-50-27.csv')\n",
        "df81 = pd.read_csv('./simulation_results/2023-06-23_15-44-00.csv')\n",
        "df82 = pd.read_csv('./simulation_results/2023-06-24_00-32-09.csv')\n",
        "df83 = pd.read_csv('./simulation_results/2023-06-24_10-30-38.csv')\n",
        "df84 = pd.read_csv('./simulation_results/2023-06-24_20-29-14.csv')\n",
        "df85 = pd.read_csv('./simulation_results/2023-06-25_06-26-42.csv')\n",
        "df86 = pd.read_csv('./simulation_results/2023-06-25_16-24-38.csv')\n",
        "df87 = pd.read_csv('./simulation_results/2023-06-26_02-35-43.csv')\n",
        "df88 = pd.read_csv('./simulation_results/2023-06-26_23-22-25.csv')\n",
        "df89 = pd.read_csv('./simulation_results/2023-06-26_13-18-29.csv')\n",
        "df90 = pd.read_csv('./simulation_results/2023-06-26_23-22-25.csv')\n",
        "df91 = pd.read_csv('./simulation_results/2023-06-27_09-42-34.csv')\n",
        "df92 = pd.read_csv('./simulation_results/2023-06-27_18-43-24.csv')\n",
        "df93 = pd.read_csv('./simulation_results/2023-06-28_15-59-05.csv')"
      ],
      "id": "551de88e-75c6-41e5-9a4b-cd74a9a28f14"
    },
    {
      "cell_type": "code",
      "execution_count": 499,
      "metadata": {},
      "outputs": [],
      "source": [
        "data = pd.concat([df1,df2,df3,df4,df5,df6,df7,df8,df9,df10,df11,df12,df13,df14,df15,df16,df17,df18,df19,df20,\n",
        "                 df21,df22,df23,df24,df25,df26,df27,df28,df29,df30,df31,df32,df33,df34,df35,df36,df37,df38,df39,\n",
        "                 df40,df41,df42,df43,df44,df45,df46,df47,df48,df49,df50,df51,df52,df53,df54,df55,df56,df57,df58,\n",
        "                 df59,df60,df61,df62,df63,df64,df65,df66,df67,df68,df69,df70,df71,df72,df73,df74,df75,df76,df77,\n",
        "                 df78,df79,df80,df81,df82,df83,df84,df85,df86,df87,df88,df89,df90,df91,df92,df93],axis=0)"
      ],
      "id": "2e43fd36-4362-4b6f-b408-2592057b43fd"
    },
    {
      "cell_type": "code",
      "execution_count": 500,
      "metadata": {},
      "outputs": [],
      "source": [
        "data.to_csv('./simulation_results/Real_simulation_reshape/windmillsmall.csv',index=False)"
      ],
      "id": "7d3e89d5-e2e3-4601-8749-bfe73558cc6d"
    },
    {
      "cell_type": "code",
      "execution_count": 501,
      "metadata": {},
      "outputs": [],
      "source": [
        "data = pd.read_csv('./simulation_results/Real_simulation_reshape/windmillsmall.csv')"
      ],
      "id": "c1b30e33-b44b-46b5-811b-a9d239786119"
    },
    {
      "cell_type": "markdown",
      "metadata": {},
      "source": [
        "## Baseline"
      ],
      "id": "9ca9eece-044d-43ed-8d0f-e41c6439541c"
    },
    {
      "cell_type": "code",
      "execution_count": 502,
      "metadata": {},
      "outputs": [],
      "source": [
        "data.query(\"method!='GNAR' and mrate ==0 \").plot.box(backend='plotly',x='mrate',color='method',y='mse',facet_col='lags',height=800)\n"
      ],
      "id": "4c16951f-f1b9-47a8-91f1-9d46a80ec967"
    },
    {
      "cell_type": "markdown",
      "metadata": {},
      "source": [
        "## random"
      ],
      "id": "b4821ca6-d800-4455-9e53-cce89f7809ed"
    },
    {
      "cell_type": "code",
      "execution_count": 503,
      "metadata": {},
      "outputs": [],
      "source": [
        "data.query(\"method!='GNAR' and mtype =='rand' \").plot.box(backend='plotly',x='mrate',color='method',y='mse',facet_col='lags',facet_row='inter_method',height=800)\n"
      ],
      "id": "8107c9c4-ba99-4c4f-9d9f-dd1d64b0c557"
    },
    {
      "cell_type": "markdown",
      "metadata": {},
      "source": [
        "## block"
      ],
      "id": "55b0e20c-0fcb-47c9-83e8-5e59b839f300"
    },
    {
      "cell_type": "code",
      "execution_count": 504,
      "metadata": {},
      "outputs": [],
      "source": [
        "data.query(\"method!='GNAR' and mtype =='block' \").plot.box(backend='plotly',x='mrate',color='method',y='mse',facet_col='lags',facet_row='inter_method',height=800)\n"
      ],
      "id": "556622a8-2202-46d8-b761-7922f10912b4"
    },
    {
      "cell_type": "markdown",
      "metadata": {},
      "source": [
        "# Montevideobus"
      ],
      "id": "3313277d-60bc-417f-adcf-c383b0d1d319"
    },
    {
      "cell_type": "code",
      "execution_count": 429,
      "metadata": {},
      "outputs": [],
      "source": [
        "df1 = pd.read_csv('./simulation_results/2023-05-25_23-24-56.csv') # lags 8\n",
        "df2 = pd.read_csv('./simulation_results/2023-05-26_04-32-14.csv') # lags 8\n",
        "df3 = pd.read_csv('./simulation_results/2023-05-26_10-29-15.csv') # lags 8\n",
        "df4 = pd.read_csv('./simulation_results/2023-05-26_17-32-59.csv') # lags 8\n",
        "df5 = pd.read_csv('./simulation_results/2023-05-26_20-27-25.csv') # lags 8\n",
        "df6 = pd.read_csv('./simulation_results/2023-05-26_23-40-32.csv') # lags 8\n",
        "df7 = pd.read_csv('./simulation_results/2023-05-27_13-20-01.csv') # lags 8\n",
        "df8 = pd.read_csv('./simulation_results/2023-05-28_19-46-39.csv') # lags 8\n",
        "df9 = pd.read_csv('./simulation_results/2023-05-28_23-05-36.csv')"
      ],
      "id": "bf53d7e2-cef6-4a49-b16c-440a45dafb42"
    },
    {
      "cell_type": "code",
      "execution_count": null,
      "metadata": {},
      "outputs": [],
      "source": [
        "df10 = pd.read_csv('./simulation_results/2023-07-18_01-12-36.csv') # lags 8\n",
        "df11 = pd.read_csv('./simulation_results/2023-07-18_04-18-26.csv') # lags 8\n",
        "df12 = pd.read_csv('./simulation_results/2023-07-18_07-21-19.csv') # lags 8\n",
        "df13 = pd.read_csv('./simulation_results/2023-07-18_10-46-11.csv') # lags 8\n",
        "df14 = pd.read_csv('./simulation_results/2023-07-18_13-55-16.csv') # lags 8\n",
        "df15 = pd.read_csv('./simulation_results/2023-07-18_17-14-12.csv') # lags 8\n",
        "df16 = pd.read_csv('./simulation_results/2023-07-18_20-29-46.csv') # lags 8\n",
        "df17 = pd.read_csv('./simulation_results/2023-07-18_23-46-52.csv') # lags 8\n",
        "df18 = pd.read_csv('./simulation_results/2023-07-19_02-55-01.csv')"
      ],
      "id": "e4214f53-f495-46ca-9eaf-919badfbc838"
    },
    {
      "cell_type": "code",
      "execution_count": 115,
      "metadata": {},
      "outputs": [],
      "source": [
        "data = pd.concat([df1,df2,df3,df4,df5,df6,df7,df8,df9,df10,df11,df12,df13,df14,df15,df16,df17,df18],axis=0)"
      ],
      "id": "2a981359-2cc2-41db-9927-a6579169fa36"
    },
    {
      "cell_type": "code",
      "execution_count": 59,
      "metadata": {},
      "outputs": [],
      "source": [
        "data.to_csv('./simulation_results/Real_simulation_reshape/monte.csv',index=False)"
      ],
      "id": "a8146c55-5068-4bde-8985-10f01f90489f"
    },
    {
      "cell_type": "code",
      "execution_count": 60,
      "metadata": {},
      "outputs": [],
      "source": [
        "data = pd.read_csv('./simulation_results/Real_simulation_reshape/monte.csv')"
      ],
      "id": "9ef523d7-dc4f-400a-9413-39656d805d8f"
    },
    {
      "cell_type": "markdown",
      "metadata": {},
      "source": [
        "## Baseline"
      ],
      "id": "53482a49-d411-4b43-80a5-a1e7039350c8"
    },
    {
      "cell_type": "code",
      "execution_count": 61,
      "metadata": {},
      "outputs": [],
      "source": [
        "data.query(\"mrate==0 and method!='GNAR'\").plot.box(backend='plotly',x='mrate',color='method',y='mse',facet_col='lags',facet_row='nof_filters',height=600)"
      ],
      "id": "c44c8ad5-d4f9-48c8-b06d-a96fc5d64512"
    },
    {
      "cell_type": "markdown",
      "metadata": {},
      "source": [
        "## random"
      ],
      "id": "8ebe10b1-1db9-447a-865b-01b18bbaa0ae"
    },
    {
      "cell_type": "code",
      "execution_count": 62,
      "metadata": {},
      "outputs": [],
      "source": [
        "data.query(\"mtype=='rand' and mrate !=0 and method!='GNAR' and mrate!=0.3 and mrate!=0.4\").plot.box(backend='plotly',x='mrate',color='method',y='mse',facet_col='lags',facet_row='inter_method',height=800)\n"
      ],
      "id": "5732964d-059e-418a-9b88-6a7544f438cf"
    },
    {
      "cell_type": "markdown",
      "metadata": {},
      "source": [
        "## block"
      ],
      "id": "91b2617d-cb5a-4115-b10b-4a5c4692c0ce"
    },
    {
      "cell_type": "code",
      "execution_count": 63,
      "metadata": {},
      "outputs": [],
      "source": [
        "data.query(\"mtype=='block' and method!='GNAR'\").plot.box(backend='plotly',x='mrate',color='method',y='mse',facet_col='lags',facet_row='nof_filters',height=1200)\n"
      ],
      "id": "f450a223-f6ea-4b07-9dc8-8d85a347318a"
    }
  ],
  "nbformat": 4,
  "nbformat_minor": 5,
  "metadata": {
    "kernelspec": {
      "name": "python3",
      "display_name": "Python 3",
      "language": "python"
    },
    "language_info": {
      "name": "python",
      "codemirror_mode": {
        "name": "ipython",
        "version": "3"
      },
      "file_extension": ".py",
      "mimetype": "text/x-python",
      "nbconvert_exporter": "python",
      "pygments_lexer": "ipython3",
      "version": "3.8.0"
    }
  }
}
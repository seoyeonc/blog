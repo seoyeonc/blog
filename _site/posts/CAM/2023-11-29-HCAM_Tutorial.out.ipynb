{
  "cells": [
    {
      "cell_type": "markdown",
      "metadata": {},
      "source": [
        "# \\*\\*\\[CAM\\]\\*\\*HCAM Tutorial\n",
        "\n",
        "SEOYEON CHOI  \n",
        "2023-11-29"
      ],
      "id": "b93bc46d-fe27-49ec-99c5-09ccee8ce247"
    },
    {
      "cell_type": "code",
      "execution_count": 1,
      "metadata": {},
      "outputs": [],
      "source": [
        "import HCAM"
      ],
      "id": "dd7ab288-5632-4fdc-ba7f-6b59253f3def"
    }
  ],
  "nbformat": 4,
  "nbformat_minor": 5,
  "metadata": {
    "kernelspec": {
      "name": "python3",
      "display_name": "Python 3",
      "language": "python"
    },
    "language_info": {
      "name": "python",
      "codemirror_mode": {
        "name": "ipython",
        "version": "3"
      },
      "file_extension": ".py",
      "mimetype": "text/x-python",
      "nbconvert_exporter": "python",
      "pygments_lexer": "ipython3",
      "version": "3.8.0"
    }
  }
}
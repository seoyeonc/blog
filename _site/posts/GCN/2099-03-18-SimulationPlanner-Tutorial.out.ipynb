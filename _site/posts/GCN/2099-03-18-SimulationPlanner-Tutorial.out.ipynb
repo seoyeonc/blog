{
  "cells": [
    {
      "cell_type": "markdown",
      "metadata": {},
      "source": [
        "# SimualtionPlanner-Tutorial\n",
        "\n",
        "SEOYEON CHOI  \n",
        "2023-03-18\n",
        "\n",
        "> table\n",
        "\n",
        "# BLOCK\n",
        "\n",
        "# List\n",
        "\n",
        "1.  \n",
        "\n",
        "-   max_iter=30/linear/epoch=50~200/STGCN,IT-STGCN\n",
        "\n",
        "1.  \n",
        "\n",
        "-   missing 만드는 법(block 생각)\n",
        "\n",
        "1.  \n",
        "\n",
        "-   \n",
        "\n",
        "4.반복의미 없음, 고정된 값 출력되어서\n",
        "\n",
        "-   \n",
        "\n",
        "할 거\n",
        "\n",
        "-   missing 0일 때 STGCN/GNAR 비교(CHECK)\n",
        "-   baseline 제시될만한 데이터셋 뭘까.\n",
        "-   GNAR warning 안 나오는 법 찾아보기\n",
        "-   mindex가 중요ㅡ mtype은 기록용으로만 사용됨\n",
        "\n",
        "`_df = pd.concat([_a,,_b,_c],axis=0)`\n",
        "\n",
        "`save_data(_df, './data/Pedal_estgcn_randomly_by_rate.pkl')`\n",
        "\n",
        "# imports\n",
        "\n",
        "https://pytorch-geometric-temporal.readthedocs.io/en/latest/\\_modules/index.html"
      ],
      "id": "8dd19956-49df-45cc-b77a-701cb698b59a"
    },
    {
      "cell_type": "code",
      "execution_count": 1,
      "metadata": {},
      "outputs": [
        {
          "output_type": "stream",
          "name": "stderr",
          "text": [
            "/home/csy/anaconda3/envs/temp_csy/lib/python3.8/site-packages/tqdm/auto.py:22: TqdmWarning: IProgress not found. Please update jupyter and ipywidgets. See https://ipywidgets.readthedocs.io/en/stable/user_install.html\n",
            "  from .autonotebook import tqdm as notebook_tqdm"
          ]
        }
      ],
      "source": [
        "import itstgcnDYGRENCODER\n",
        "import torch\n",
        "import itstgcnDYGRENCODER.planner "
      ],
      "id": "b0c2e707-a477-4cbd-b8ff-3dd35c65266e"
    },
    {
      "cell_type": "code",
      "execution_count": null,
      "metadata": {},
      "outputs": [],
      "source": [
        "from torch_geometric_temporal.dataset import ChickenpoxDatasetLoader\n",
        "loader1 = ChickenpoxDatasetLoader()"
      ],
      "id": "16756a05-f15e-4262-8afa-ad4c5a780617"
    },
    {
      "cell_type": "code",
      "execution_count": null,
      "metadata": {},
      "outputs": [],
      "source": [
        "from torch_geometric_temporal.dataset import PedalMeDatasetLoader\n",
        "loader2 = PedalMeDatasetLoader()"
      ],
      "id": "b2960ce7-2237-46ca-b562-7ebfc7b549bc"
    },
    {
      "cell_type": "code",
      "execution_count": null,
      "metadata": {},
      "outputs": [],
      "source": [
        "from torch_geometric_temporal.dataset import WikiMathsDatasetLoader\n",
        "loader3 = WikiMathsDatasetLoader()"
      ],
      "id": "23e27442-0481-4349-b96a-84621cb5ac8c"
    },
    {
      "cell_type": "code",
      "execution_count": null,
      "metadata": {},
      "outputs": [],
      "source": [
        "from torch_geometric_temporal.dataset import WindmillOutputLargeDatasetLoader\n",
        "loader4 = WindmillOutputLargeDatasetLoader()"
      ],
      "id": "3b297fa0-fc38-44bb-b3b3-f97c97802d3f"
    },
    {
      "cell_type": "code",
      "execution_count": null,
      "metadata": {},
      "outputs": [],
      "source": [
        "from torch_geometric_temporal.dataset import WindmillOutputMediumDatasetLoader\n",
        "loader5 = WindmillOutputMediumDatasetLoader()"
      ],
      "id": "1944c523-712d-4dfd-9ec5-d1e273ab3cf7"
    },
    {
      "cell_type": "code",
      "execution_count": null,
      "metadata": {},
      "outputs": [],
      "source": [
        "from torch_geometric_temporal.dataset import WindmillOutputSmallDatasetLoader\n",
        "loader6 = WindmillOutputSmallDatasetLoader()"
      ],
      "id": "7f3df9c9-77df-49f7-9bf6-0eb0766d9256"
    },
    {
      "cell_type": "code",
      "execution_count": 2,
      "metadata": {},
      "outputs": [],
      "source": [
        "loader6 = itstgcnDYGRENCODER.load_data('./data/Windmillsmall.pkl')"
      ],
      "id": "5a938b6b-d6a0-4314-b6d3-b8366625d99d"
    },
    {
      "cell_type": "code",
      "execution_count": null,
      "metadata": {},
      "outputs": [],
      "source": [
        "# dataset6 = _a.get_dataset(lags=8)"
      ],
      "id": "99d248af-22a0-4ccd-ba54-c694b658f78d"
    },
    {
      "cell_type": "code",
      "execution_count": null,
      "metadata": {},
      "outputs": [],
      "source": [
        "from torch_geometric_temporal.dataset import MontevideoBusDatasetLoader\n",
        "loader10 = MontevideoBusDatasetLoader()"
      ],
      "id": "2bc19553-a5dd-4ee1-9de9-271bc0c60392"
    },
    {
      "cell_type": "code",
      "execution_count": null,
      "metadata": {},
      "outputs": [],
      "source": [
        "import numpy as np"
      ],
      "id": "9ae168e9-d9f5-493b-a0c7-ef6732db2e7c"
    },
    {
      "cell_type": "code",
      "execution_count": null,
      "metadata": {},
      "outputs": [],
      "source": [
        "import pandas as pd"
      ],
      "id": "94377899-9d9e-4c8d-854e-80c6d3b24b33"
    },
    {
      "cell_type": "markdown",
      "metadata": {},
      "source": [
        "# read data"
      ],
      "id": "780a46bb-363c-425e-8408-0d5dda62c9b2"
    },
    {
      "cell_type": "code",
      "execution_count": null,
      "metadata": {},
      "outputs": [],
      "source": [
        "# _data = itstgcn.load_data('./data/fivenodes.pkl')\n",
        "# _edges = torch.tensor(_data['edges']).nonzero().tolist()\n",
        "# _FX = _data['f'].tolist()\n",
        "# _node_ids = {'node1':0, 'node2':1, 'node3':2, 'node4':3, 'node5':4} \n",
        "# data_dict = {'edges':_edges, 'node_ids':_node_ids, 'FX':_FX}\n",
        "data_dict = itstgcn.load_data('./data/fivenodes.pkl')\n",
        "loader = itstgcn.DatasetLoader(data_dict)"
      ],
      "id": "32330e84-252e-4009-8076-cd44cd9704cd"
    },
    {
      "cell_type": "markdown",
      "metadata": {},
      "source": [
        "## PLNR_STGCN_RAND"
      ],
      "id": "bdf2fe01-92e9-4432-b155-4cc88205427e"
    },
    {
      "cell_type": "code",
      "execution_count": null,
      "metadata": {},
      "outputs": [],
      "source": [
        "plans_stgcn_rand = {\n",
        "    'max_iteration': 30, \n",
        "    'method': ['STGCN', 'IT-STGCN'],\n",
        "    'mrate': [0,0.7,0.8],\n",
        "    'lags': [2], \n",
        "    'nof_filters': [12], \n",
        "    'inter_method': ['linear','nearest'],\n",
        "    'epoch': [50]\n",
        "}"
      ],
      "id": "37ae8437-00d6-4787-a8e4-a72839f9a70d"
    },
    {
      "cell_type": "code",
      "execution_count": null,
      "metadata": {},
      "outputs": [],
      "source": [
        "plnr = itstgcn.planner.PLNR_STGCN_RAND(plans_stgcn_rand,loader1,dataset_name='fivenodes')\n",
        "plnr.simulate()"
      ],
      "id": "fc58e8ec-757f-4bb1-b8ce-cddff83c6ecf"
    },
    {
      "cell_type": "code",
      "execution_count": null,
      "metadata": {},
      "outputs": [],
      "source": [
        "plans_stgcn_rand = {\n",
        "    'max_iteration': 30, \n",
        "    'method': ['STGCN', 'IT-STGCN'],\n",
        "    'mrate': [0.3,0.8],\n",
        "    'lags': [4], \n",
        "    'nof_filters': [16], \n",
        "    'inter_method': ['linear'],\n",
        "    'epoch': [50]\n",
        "}"
      ],
      "id": "f0dbba6a-1e3e-44b8-bfaf-bb329c155cd9"
    },
    {
      "cell_type": "code",
      "execution_count": null,
      "metadata": {},
      "outputs": [],
      "source": [
        "plnr = itstgcn.planner.PLNR_STGCN_RAND(plans_stgcn_rand,loader1,dataset_name='chickenpox')\n",
        "plnr.simulate()"
      ],
      "id": "6d04b017-62ba-4083-aac6-ff18da23babe"
    },
    {
      "cell_type": "code",
      "execution_count": null,
      "metadata": {},
      "outputs": [],
      "source": [
        "plans_stgcn_rand = {\n",
        "    'max_iteration': 30, \n",
        "    'method': ['STGCN', 'IT-STGCN'],\n",
        "    'mrate': [0],\n",
        "    'lags': [4], \n",
        "    'nof_filters': [16], \n",
        "    'inter_method': ['linear'],\n",
        "    'epoch': [50]\n",
        "}"
      ],
      "id": "005801a0-e5e5-4ea4-8596-6a719314ff13"
    },
    {
      "cell_type": "code",
      "execution_count": null,
      "metadata": {},
      "outputs": [],
      "source": [
        "plnr = itstgcn.planner.PLNR_STGCN_RAND(plans_stgcn_rand,loader1,dataset_name='chickenpox')\n",
        "plnr.simulate()"
      ],
      "id": "fbdb8583-d464-4659-8dd5-5582a3f4ea75"
    },
    {
      "cell_type": "code",
      "execution_count": null,
      "metadata": {},
      "outputs": [],
      "source": [
        "plans_stgcn_rand = {\n",
        "    'max_iteration': 1, \n",
        "    'method': ['STGCN', 'IT-STGCN'], \n",
        "    'mrate': [0],\n",
        "    'lags': [8], \n",
        "    'nof_filters': [12], \n",
        "    'inter_method': ['linear'],\n",
        "    'epoch': [50]\n",
        "}"
      ],
      "id": "bcd60841-8437-43f1-a1fa-ffd3d02fadc3"
    },
    {
      "cell_type": "code",
      "execution_count": null,
      "metadata": {},
      "outputs": [],
      "source": [
        "plnr = itstgcn.planner.PLNR_STGCN_RAND(plans_stgcn_rand,loader6,dataset_name='windmillsmall')\n",
        "plnr.simulate()"
      ],
      "id": "0264e6bc-bc91-43cf-8c3b-88aefcf9c21e"
    },
    {
      "cell_type": "code",
      "execution_count": null,
      "metadata": {},
      "outputs": [],
      "source": [
        "plans_stgcn_rand = {\n",
        "    'max_iteration': 10, \n",
        "    'method': ['STGCN', 'IT-STGCN'], \n",
        "    'mrate': [0.3],\n",
        "    'lags': [2, 4], \n",
        "    'nof_filters': [12], \n",
        "    'inter_method': ['linear'],\n",
        "    'epoch': [50]\n",
        "}"
      ],
      "id": "f8aac47e-ee0a-4d34-a076-a3b3c7080988"
    },
    {
      "cell_type": "code",
      "execution_count": null,
      "metadata": {},
      "outputs": [],
      "source": [
        "plnr = itstgcnadd.planner.PLNR_STGCN_RAND(plans_stgcn_rand,loader3,dataset_name='wikimath')"
      ],
      "id": "dcb54feb-54e6-4956-ab43-f57e2f8b3422"
    },
    {
      "cell_type": "code",
      "execution_count": null,
      "metadata": {},
      "outputs": [],
      "source": [
        "plnr.simulate()"
      ],
      "id": "d69c1d34-df01-4936-a1de-7323c5bf8370"
    },
    {
      "cell_type": "code",
      "execution_count": null,
      "metadata": {},
      "outputs": [],
      "source": [
        "plans_stgcn_rand = {\n",
        "    'max_iteration': 1, \n",
        "    'method': ['STGCN', 'IT-STGCN'], \n",
        "    'RecurrentGCN' : ['DCRNN'],\n",
        "    'mrate': [0],\n",
        "    'lags': [8], \n",
        "    'nof_filters': [12], \n",
        "    'inter_method': ['linear'],\n",
        "    'epoch': [50]\n",
        "}"
      ],
      "id": "e0df4d95-133c-4a3a-b2b8-bad44133e408"
    },
    {
      "cell_type": "code",
      "execution_count": null,
      "metadata": {},
      "outputs": [],
      "source": [
        "plnr = itstgcnadd.planner.PLNR_STGCN_RAND(plans_stgcn_rand,loader6,dataset_name='windmillsmall')\n",
        "plnr.simulate()"
      ],
      "id": "efe19fac-b130-4db2-89a1-b8f7f402c045"
    },
    {
      "cell_type": "code",
      "execution_count": 3,
      "metadata": {},
      "outputs": [],
      "source": [
        "my_list = [[] for _ in range(11)] #windmilsmall\n",
        "another_list = list(range(5000,7500)) # 17470*0.8 = 13976.0\n",
        "my_list[1] = another_list\n",
        "my_list[3] = another_list\n",
        "my_list[5] = another_list\n",
        "my_list[7] = another_list\n",
        "my_list[9] = another_list\n",
        "mindex = my_list"
      ],
      "id": "a5875979-2776-42f0-b065-dd36707cb79c"
    },
    {
      "cell_type": "code",
      "execution_count": 4,
      "metadata": {},
      "outputs": [],
      "source": [
        "# mindex= [[],[],[],list(range(50,150)),[]]  # node 1\n",
        "# mindex= [list(range(10,100)),[],list(range(50,80)),[],[]] # node 2\n",
        "# mindex= [list(range(10,100)),[],list(range(50,80)),list(range(50,150)),[]] # node3\n",
        "plans_stgcn_block = {\n",
        "    'max_iteration': 1, \n",
        "    'method': ['STGCN', 'IT-STGCN'], \n",
        "    'mindex': [mindex],\n",
        "    'lags': [8], \n",
        "    'nof_filters': [12], \n",
        "    'inter_method': ['linear'],\n",
        "    'epoch': [50]\n",
        "}"
      ],
      "id": "8a92b2f4-b5f5-4caf-9f8e-1db9474d9125"
    },
    {
      "cell_type": "code",
      "execution_count": null,
      "metadata": {},
      "outputs": [
        {
          "output_type": "stream",
          "name": "stderr",
          "text": [
            "/home/csy/Dropbox/blog/posts/GCN/itstgcnDYGRENCODER/utils.py:71: UserWarning: Creating a tensor from a list of numpy.ndarrays is extremely slow. Please consider converting the list to a single numpy.ndarray with numpy.array() before converting to a tensor. (Triggered internally at /opt/conda/conda-bld/pytorch_1682343998658/work/torch/csrc/utils/tensor_new.cpp:245.)\n",
            "  lags = torch.tensor(train_dataset.features).shape[-1]"
          ]
        },
        {
          "output_type": "stream",
          "name": "stdout",
          "text": [
            "3/50"
          ]
        }
      ],
      "source": [
        "plnr = itstgcnDYGRENCODER.planner.PLNR_STGCN_MANUAL(plans_stgcn_block,loader6,dataset_name='windmillsmall')\n",
        "plnr.simulate(mindex=mindex,mtype='block')"
      ],
      "id": "310d8bf2-bc4b-4437-997a-7a03c34350ec"
    },
    {
      "cell_type": "code",
      "execution_count": null,
      "metadata": {},
      "outputs": [],
      "source": [
        "plnr = itstgcnDYGRENCODER.planner.PLNR_STGCN_MANUAL(plans_stgcn_block,loader6,dataset_name='windmillsmall')\n",
        "plnr.simulate(mindex=mindex,mtype='block')"
      ],
      "id": "cab40ec1-8456-4222-aa92-c8a57c7d0a34"
    },
    {
      "cell_type": "code",
      "execution_count": null,
      "metadata": {},
      "outputs": [],
      "source": [
        "plnr = itstgcnDYGRENCODER.planner.PLNR_STGCN_MANUAL(plans_stgcn_block,loader6,dataset_name='windmillsmall')\n",
        "plnr.simulate(mindex=mindex,mtype='block')"
      ],
      "id": "e07377f8-0900-4815-96d9-bb64a6aff312"
    },
    {
      "cell_type": "code",
      "execution_count": null,
      "metadata": {},
      "outputs": [],
      "source": [
        "plnr = itstgcnDYGRENCODER.planner.PLNR_STGCN_MANUAL(plans_stgcn_block,loader6,dataset_name='windmillsmall')\n",
        "plnr.simulate(mindex=mindex,mtype='block')"
      ],
      "id": "5f819c5e-31d4-4181-a59a-f95b358c2b2c"
    },
    {
      "cell_type": "code",
      "execution_count": null,
      "metadata": {},
      "outputs": [],
      "source": [
        "plnr = itstgcnDYGRENCODER.planner.PLNR_STGCN_MANUAL(plans_stgcn_block,loader6,dataset_name='windmillsmall')\n",
        "plnr.simulate(mindex=mindex,mtype='block')"
      ],
      "id": "9192f498-e9bd-431b-a19d-fd535f5dda3a"
    },
    {
      "cell_type": "code",
      "execution_count": null,
      "metadata": {},
      "outputs": [],
      "source": [
        "plnr = itstgcnDYGRENCODER.planner.PLNR_STGCN_MANUAL(plans_stgcn_block,loader6,dataset_name='windmillsmall')\n",
        "plnr.simulate(mindex=mindex,mtype='block')"
      ],
      "id": "efd1c41e-6c3a-4076-8b37-a66af0288410"
    },
    {
      "cell_type": "code",
      "execution_count": null,
      "metadata": {},
      "outputs": [],
      "source": [
        "plnr = itstgcnDYGRENCODER.planner.PLNR_STGCN_MANUAL(plans_stgcn_block,loader6,dataset_name='windmillsmall')\n",
        "plnr.simulate(mindex=mindex,mtype='block')"
      ],
      "id": "44048c05-95c1-425b-9332-a3d5df84f770"
    },
    {
      "cell_type": "code",
      "execution_count": null,
      "metadata": {},
      "outputs": [],
      "source": [
        "plnr = itstgcnDYGRENCODER.planner.PLNR_STGCN_MANUAL(plans_stgcn_block,loader6,dataset_name='windmillsmall')\n",
        "plnr.simulate(mindex=mindex,mtype='block')"
      ],
      "id": "1174847c-ff56-4604-86ff-01cda435019f"
    },
    {
      "cell_type": "code",
      "execution_count": null,
      "metadata": {},
      "outputs": [],
      "source": [
        "plnr = itstgcnDYGRENCODER.planner.PLNR_STGCN_MANUAL(plans_stgcn_block,loader6,dataset_name='windmillsmall')\n",
        "plnr.simulate(mindex=mindex,mtype='block')"
      ],
      "id": "cdab4228-2dea-4557-b8cc-599b6f1ba3d5"
    },
    {
      "cell_type": "code",
      "execution_count": null,
      "metadata": {},
      "outputs": [],
      "source": [
        "plnr = itstgcnDYGRENCODER.planner.PLNR_STGCN_MANUAL(plans_stgcn_block,loader6,dataset_name='windmillsmall')\n",
        "plnr.simulate(mindex=mindex,mtype='block')"
      ],
      "id": "1dc10937-5197-4878-8de8-adf7b74b9ede"
    },
    {
      "cell_type": "code",
      "execution_count": null,
      "metadata": {},
      "outputs": [],
      "source": [
        "plnr = itstgcnDYGRENCODER.planner.PLNR_STGCN_MANUAL(plans_stgcn_block,loader6,dataset_name='windmillsmall')\n",
        "plnr.simulate(mindex=mindex,mtype='block')"
      ],
      "id": "c08add38-a615-4761-9218-92379c193e86"
    },
    {
      "cell_type": "code",
      "execution_count": null,
      "metadata": {},
      "outputs": [],
      "source": [
        "plnr = itstgcnDYGRENCODER.planner.PLNR_STGCN_MANUAL(plans_stgcn_block,loader6,dataset_name='windmillsmall')\n",
        "plnr.simulate(mindex=mindex,mtype='block')"
      ],
      "id": "a6035d0b-9649-4f57-afcf-ac2dd9fd367d"
    },
    {
      "cell_type": "code",
      "execution_count": null,
      "metadata": {},
      "outputs": [],
      "source": [
        "plnr = itstgcnDYGRENCODER.planner.PLNR_STGCN_MANUAL(plans_stgcn_block,loader6,dataset_name='windmillsmall')\n",
        "plnr.simulate(mindex=mindex,mtype='block')"
      ],
      "id": "260a070e-b1f6-4310-945b-8d2eaaca7e28"
    },
    {
      "cell_type": "code",
      "execution_count": null,
      "metadata": {},
      "outputs": [],
      "source": [
        "plnr = itstgcnDYGRENCODER.planner.PLNR_STGCN_MANUAL(plans_stgcn_block,loader6,dataset_name='windmillsmall')\n",
        "plnr.simulate(mindex=mindex,mtype='block')"
      ],
      "id": "bced75f2-75bc-4f4d-ab37-1a0308b8d794"
    },
    {
      "cell_type": "code",
      "execution_count": null,
      "metadata": {},
      "outputs": [],
      "source": [
        "plnr = itstgcnDYGRENCODER.planner.PLNR_STGCN_MANUAL(plans_stgcn_block,loader6,dataset_name='windmillsmall')\n",
        "plnr.simulate(mindex=mindex,mtype='block')"
      ],
      "id": "76e316d8-4df6-4d53-bb75-e9332ed5d634"
    },
    {
      "cell_type": "code",
      "execution_count": null,
      "metadata": {},
      "outputs": [],
      "source": [
        "plnr = itstgcnDYGRENCODER.planner.PLNR_STGCN_MANUAL(plans_stgcn_block,loader6,dataset_name='windmillsmall')\n",
        "plnr.simulate(mindex=mindex,mtype='block')"
      ],
      "id": "801aade5-bc9d-458a-89bc-8b74aa0a18a2"
    },
    {
      "cell_type": "code",
      "execution_count": null,
      "metadata": {},
      "outputs": [],
      "source": [
        "plnr = itstgcnDYGRENCODER.planner.PLNR_STGCN_MANUAL(plans_stgcn_block,loader6,dataset_name='windmillsmall')\n",
        "plnr.simulate(mindex=mindex,mtype='block')"
      ],
      "id": "65ffa1ea-8585-41b5-a9b0-41ccdfa70bbd"
    },
    {
      "cell_type": "code",
      "execution_count": null,
      "metadata": {},
      "outputs": [],
      "source": [
        "plnr = itstgcnDYGRENCODER.planner.PLNR_STGCN_MANUAL(plans_stgcn_block,loader6,dataset_name='windmillsmall')\n",
        "plnr.simulate(mindex=mindex,mtype='block')"
      ],
      "id": "200a58ad-0fae-4b73-bc66-e87421009c13"
    },
    {
      "cell_type": "code",
      "execution_count": null,
      "metadata": {},
      "outputs": [],
      "source": [
        "plnr = itstgcnDYGRENCODER.planner.PLNR_STGCN_MANUAL(plans_stgcn_block,loader6,dataset_name='windmillsmall')\n",
        "plnr.simulate(mindex=mindex,mtype='block')"
      ],
      "id": "d60181da-15c9-4f03-a695-4527e15a8602"
    },
    {
      "cell_type": "code",
      "execution_count": null,
      "metadata": {},
      "outputs": [],
      "source": [
        "plnr = itstgcnDYGRENCODER.planner.PLNR_STGCN_MANUAL(plans_stgcn_block,loader6,dataset_name='windmillsmall')\n",
        "plnr.simulate(mindex=mindex,mtype='block')"
      ],
      "id": "e7f712a7-1969-422e-8d5d-a77891dec0a6"
    },
    {
      "cell_type": "code",
      "execution_count": null,
      "metadata": {},
      "outputs": [],
      "source": [
        "plnr = itstgcnDYGRENCODER.planner.PLNR_STGCN_MANUAL(plans_stgcn_block,loader6,dataset_name='windmillsmall')\n",
        "plnr.simulate(mindex=mindex,mtype='block')"
      ],
      "id": "609ff7e1-51f6-4ab2-b4f0-db0bb90819ec"
    },
    {
      "cell_type": "code",
      "execution_count": null,
      "metadata": {},
      "outputs": [],
      "source": [
        "plnr = itstgcnDYGRENCODER.planner.PLNR_STGCN_MANUAL(plans_stgcn_block,loader6,dataset_name='windmillsmall')\n",
        "plnr.simulate(mindex=mindex,mtype='block')"
      ],
      "id": "5898b9c3-93b8-4640-ac59-5d3a46e42972"
    },
    {
      "cell_type": "code",
      "execution_count": null,
      "metadata": {},
      "outputs": [],
      "source": [
        "plnr = itstgcnDYGRENCODER.planner.PLNR_STGCN_MANUAL(plans_stgcn_block,loader6,dataset_name='windmillsmall')\n",
        "plnr.simulate(mindex=mindex,mtype='block')"
      ],
      "id": "b4e06a88-9e9e-416e-a66c-995ad7ab10e4"
    },
    {
      "cell_type": "code",
      "execution_count": null,
      "metadata": {},
      "outputs": [],
      "source": [
        "plnr = itstgcnDYGRENCODER.planner.PLNR_STGCN_MANUAL(plans_stgcn_block,loader6,dataset_name='windmillsmall')\n",
        "plnr.simulate(mindex=mindex,mtype='block')"
      ],
      "id": "b56de119-1e51-4013-8935-0193d1d0a61b"
    },
    {
      "cell_type": "code",
      "execution_count": null,
      "metadata": {},
      "outputs": [],
      "source": [
        "plnr = itstgcnDYGRENCODER.planner.PLNR_STGCN_MANUAL(plans_stgcn_block,loader6,dataset_name='windmillsmall')\n",
        "plnr.simulate(mindex=mindex,mtype='block')"
      ],
      "id": "413e69a4-6200-4448-9848-39b1390a0da2"
    },
    {
      "cell_type": "code",
      "execution_count": null,
      "metadata": {},
      "outputs": [],
      "source": [
        "plnr = itstgcnDYGRENCODER.planner.PLNR_STGCN_MANUAL(plans_stgcn_block,loader6,dataset_name='windmillsmall')\n",
        "plnr.simulate(mindex=mindex,mtype='block')"
      ],
      "id": "175b54c2-739f-4620-bb1d-6912039b968c"
    },
    {
      "cell_type": "code",
      "execution_count": null,
      "metadata": {},
      "outputs": [],
      "source": [
        "plnr = itstgcnDYGRENCODER.planner.PLNR_STGCN_MANUAL(plans_stgcn_block,loader6,dataset_name='windmillsmall')\n",
        "plnr.simulate(mindex=mindex,mtype='block')"
      ],
      "id": "93ce99aa-c92a-46c4-afe6-3e26e8b35bd0"
    },
    {
      "cell_type": "code",
      "execution_count": null,
      "metadata": {},
      "outputs": [],
      "source": [
        "plnr = itstgcnDYGRENCODER.planner.PLNR_STGCN_MANUAL(plans_stgcn_block,loader6,dataset_name='windmillsmall')\n",
        "plnr.simulate(mindex=mindex,mtype='block')"
      ],
      "id": "cf514de7-f62d-4e24-97f8-fa3c520156a3"
    },
    {
      "cell_type": "code",
      "execution_count": null,
      "metadata": {},
      "outputs": [],
      "source": [
        "plnr = itstgcnDYGRENCODER.planner.PLNR_STGCN_MANUAL(plans_stgcn_block,loader6,dataset_name='windmillsmall')\n",
        "plnr.simulate(mindex=mindex,mtype='block')"
      ],
      "id": "ef8999c8-a2e2-449f-bcc2-72d97fbd1ab8"
    },
    {
      "cell_type": "code",
      "execution_count": null,
      "metadata": {},
      "outputs": [],
      "source": [
        "plnr = itstgcnDYGRENCODER.planner.PLNR_STGCN_MANUAL(plans_stgcn_block,loader6,dataset_name='windmillsmall')\n",
        "plnr.simulate(mindex=mindex,mtype='block')"
      ],
      "id": "d059c938-2aaa-4339-96c4-532cffd8b30b"
    },
    {
      "cell_type": "markdown",
      "metadata": {},
      "source": [
        "## PLNR_STGCN_MANUAL"
      ],
      "id": "94ac8b71-fb0b-4256-842a-91c3a5a0f325"
    },
    {
      "cell_type": "code",
      "execution_count": null,
      "metadata": {},
      "outputs": [],
      "source": [
        "my_list = [[] for _ in range(20)] #chickenpox\n",
        "another_list = list(range(100,400))\n",
        "my_list[1] = another_list\n",
        "my_list[3] = another_list\n",
        "my_list[5] = another_list\n",
        "my_list[7] = another_list\n",
        "my_list[9] = another_list\n",
        "my_list[11] = another_list\n",
        "my_list[13] = another_list\n",
        "my_list[15] = another_list\n",
        "mindex = my_list"
      ],
      "id": "bb823029-a3f8-498c-8144-258f9f5bbcf5"
    },
    {
      "cell_type": "code",
      "execution_count": null,
      "metadata": {},
      "outputs": [],
      "source": [
        "my_list = [[] for _ in range(15)] #pedalme\n",
        "another_list = list(range(5,35))\n",
        "my_list[2] = another_list\n",
        "my_list[4] = another_list\n",
        "my_list[7] = another_list\n",
        "my_list[11] = another_list\n",
        "mindex = my_list"
      ],
      "id": "88200cd5-d379-46e7-8b7e-ed38d6129843"
    },
    {
      "cell_type": "code",
      "execution_count": null,
      "metadata": {},
      "outputs": [],
      "source": [
        "import random\n",
        "my_list = [[] for _ in range(1068)] # wikimath\n",
        "another_list = random.sample(range(570), 72)\n",
        "# my_list에서 250개 요소 무작위 선택\n",
        "selected_indexes = random.sample(range(len(my_list)), 250)\n",
        "# 선택된 요소에 해당하는 값들을 another_list에 할당\n",
        "for index in selected_indexes:\n",
        "    my_list[index] = another_list"
      ],
      "id": "94b94bcf-9d10-4540-bf3d-dc3d6f801fb6"
    },
    {
      "cell_type": "code",
      "execution_count": null,
      "metadata": {},
      "outputs": [],
      "source": [
        "# _data = itstgcn.load_data('./data/fivenodes.pkl')\n",
        "# _edges = torch.tensor(_data['edges']).nonzero().tolist()\n",
        "# _FX = _data['f'].tolist()\n",
        "# _node_ids = {'node1':0, 'node2':1, 'node3':2, 'node4':3, 'node5':4} \n",
        "# data_dict = {'edges':_edges, 'node_ids':_node_ids, 'FX':_FX}\n",
        "# loader = itstgcn.DatasetLoader(data_dict)\n",
        "# data_dict = itstgcn.load_data('./data/fivenodes.pkl')\n",
        "# loader = itstgcn.DatasetLoader(data_dict)"
      ],
      "id": "426dd25a-d198-4b0e-be4b-24c028c11fc1"
    },
    {
      "cell_type": "code",
      "execution_count": null,
      "metadata": {},
      "outputs": [],
      "source": [
        "# mindex= [[],[],[],list(range(50,150)),[]]\n",
        "# mindex= [list(range(50,150)),[],list(range(50,90)),list(range(50,150)),[]] # node 2\n",
        "plans_stgcn_block = {\n",
        "    'max_iteration': 10, \n",
        "    'method': ['STGCN', 'IT-STGCN'],\n",
        "    'RecurrentGCN' : ['GConvGRU','GConvLSTM'],\n",
        "    'mindex': [mindex],\n",
        "    'lags': [4], \n",
        "    'nof_filters': [16], \n",
        "    'inter_method': ['linear'],\n",
        "    'epoch': [50],\n",
        "    'lr': [0.01]\n",
        "}"
      ],
      "id": "db8bbddf-074e-41ef-9fdc-82f253f9e4cb"
    },
    {
      "cell_type": "code",
      "execution_count": null,
      "metadata": {},
      "outputs": [],
      "source": [
        "plnr = itstgcn.planner.PLNR_STGCN_MANUAL(plans_stgcn_block,loader1,dataset_name='chickenpox')\n",
        "\n",
        "plnr.simulate(mindex=mindex,mtype='block')"
      ],
      "id": "8afa0e95-52c3-4659-8456-9cd8c625a465"
    },
    {
      "cell_type": "code",
      "execution_count": null,
      "metadata": {},
      "outputs": [],
      "source": [
        "plnr = itstgcn.planner.PLNR_STGCN_MANUAL(plans_stgcn_block,loader1,dataset_name='chickenpox')\n",
        "\n",
        "plnr.simulate(mindex=mindex,mtype='block')"
      ],
      "id": "f21a0bc2-c3a5-449b-a155-091901324e5b"
    },
    {
      "cell_type": "code",
      "execution_count": null,
      "metadata": {},
      "outputs": [],
      "source": [
        "plnr = itstgcnadd.planner.PLNR_STGCN_MANUAL(plans_stgcn_block,loader2,dataset_name='pedalme')"
      ],
      "id": "93451ce3-4a47-43f7-9ba2-d91eb012e665"
    },
    {
      "cell_type": "code",
      "execution_count": null,
      "metadata": {},
      "outputs": [],
      "source": [
        "plnr.simulate(mindex=mindex,mtype='block')"
      ],
      "id": "39828f71-5156-4aa8-908f-d9579b8f1a85"
    },
    {
      "cell_type": "code",
      "execution_count": null,
      "metadata": {},
      "outputs": [],
      "source": [
        "# mindex= [[],[],[],list(range(50,150)),[]]\n",
        "# mindex= [list(range(50,150)),[],list(range(50,90)),list(range(50,150)),[]] # node 2\n",
        "plans_stgcn_block = {\n",
        "    'max_iteration': 10, \n",
        "    'method': ['STGCN', 'IT-STGCN'], \n",
        "    'RecurrentGCN' : ['GConvGRU','GConvLSTM'],\n",
        "    'mindex': [mindex],\n",
        "    'lags': [2,4], \n",
        "    'nof_filters': [12], \n",
        "    'inter_method': ['linear'],\n",
        "    'epoch': [50]\n",
        "}"
      ],
      "id": "9c1f0dbb-4311-42f2-99ec-1d3efd58c401"
    },
    {
      "cell_type": "code",
      "execution_count": null,
      "metadata": {},
      "outputs": [],
      "source": [
        "plnr = itstgcnadd.planner.PLNR_STGCN_MANUAL(plans_stgcn_block,loader3,dataset_name='wikimath')"
      ],
      "id": "f2f2ceae-1c12-45f7-9f6b-4110f42c7bdb"
    },
    {
      "cell_type": "code",
      "execution_count": null,
      "metadata": {},
      "outputs": [],
      "source": [
        "plnr.simulate(mindex=mindex,mtype='block')"
      ],
      "id": "d5a6398a-7d60-48fd-b51c-e2887b94a50a"
    },
    {
      "cell_type": "markdown",
      "metadata": {},
      "source": [
        "## PLNR_GNAR_RAND"
      ],
      "id": "c1b4900d-9a68-40d9-9f18-dd40a4476bde"
    },
    {
      "cell_type": "code",
      "execution_count": null,
      "metadata": {},
      "outputs": [],
      "source": [
        "# _data = itstgcn.load_data('./data/fivenodes.pkl')\n",
        "# _edges = torch.tensor(_data['edges']).nonzero().tolist()\n",
        "# _FX = _data['f'].tolist()\n",
        "# _node_ids = {'node1':0, 'node2':1, 'node3':2, 'node4':3, 'node5':4} \n",
        "# data_dict = {'edges':_edges, 'node_ids':_node_ids, 'FX':_FX}\n",
        "# loader = itstgcn.DatasetLoader(data_dict)\n",
        "# data_dict=itstgcn.load_data('./data/fivenodes.pkl')\n",
        "# loader = itstgcn.DatasetLoader(data_dict)"
      ],
      "id": "3926b3bb-6dfb-4cc6-9cba-f8ed8163a49a"
    },
    {
      "cell_type": "code",
      "execution_count": null,
      "metadata": {},
      "outputs": [],
      "source": [
        "plans_gnar_rand = {\n",
        "    'max_iteration': 30, \n",
        "#    'method': ['GNAR'], \n",
        "    'mrate': [0.1],\n",
        "    'lags': [4], \n",
        "#    'nof_filters': [8,16], \n",
        "    'inter_method': ['linear','cubic'],\n",
        "#    'epoch': [1]\n",
        "}"
      ],
      "id": "79183350-4811-4273-bbe1-c5678a46e09a"
    },
    {
      "cell_type": "code",
      "execution_count": null,
      "metadata": {
        "tags": []
      },
      "outputs": [],
      "source": [
        "plnr = itstgcn.planner.PLNR_GNAR_RAND(plans_gnar_rand,loader2,dataset_name='pedalme')\n",
        "plnr.simulate()"
      ],
      "id": "2bdf3048-6d0a-47d4-a39f-23b04dad64d6"
    },
    {
      "cell_type": "code",
      "execution_count": null,
      "metadata": {},
      "outputs": [],
      "source": [
        "plans_gnar_rand = {\n",
        "    'max_iteration': 3, \n",
        "#    'method': ['GNAR'], \n",
        "    'mrate': [0],\n",
        "    'lags': [2,4], \n",
        "#    'nof_filters': [8,16], \n",
        "    'inter_method': ['linear'],\n",
        "#    'epoch': [1]\n",
        "}"
      ],
      "id": "683beaae-7655-4062-9c91-32f4eaa32813"
    },
    {
      "cell_type": "code",
      "execution_count": null,
      "metadata": {
        "tags": []
      },
      "outputs": [],
      "source": [
        "plnr = itstgcn.planner.PLNR_GNAR_RAND(plans_gnar_rand,loader3,dataset_name='wikimath')\n",
        "plnr.simulate()"
      ],
      "id": "b9aa2507-5562-4bb3-aafd-eb2a0c876dd0"
    },
    {
      "cell_type": "code",
      "execution_count": null,
      "metadata": {},
      "outputs": [],
      "source": [
        "plans_gnar_rand = {\n",
        "    'max_iteration': 3, \n",
        "#    'method': ['GNAR'], \n",
        "    'mrate': [0,0.3],\n",
        "    'lags': [8], \n",
        "#    'nof_filters': [8,16], \n",
        "    'inter_method': ['linear'],\n",
        "#    'epoch': [1]\n",
        "}"
      ],
      "id": "480db55f-7900-4084-bc7e-305b4f89b85a"
    },
    {
      "cell_type": "code",
      "execution_count": null,
      "metadata": {
        "tags": []
      },
      "outputs": [],
      "source": [
        "plnr = itstgcn.planner.PLNR_GNAR_RAND(plans_gnar_rand,loader5,dataset_name='windmillmedium')\n",
        "plnr.simulate()"
      ],
      "id": "e3b5ac60-dcf9-4d9f-bfd9-bd067424c245"
    },
    {
      "cell_type": "markdown",
      "metadata": {},
      "source": [
        "------------------------------------------------------------------------\n",
        "\n",
        "## PLNR_GNAR_BLOCK"
      ],
      "id": "9f306907-c0be-4aa7-80be-c4bc63e4f78a"
    },
    {
      "cell_type": "code",
      "execution_count": null,
      "metadata": {},
      "outputs": [],
      "source": [
        "# _data = itstgcn.load_data('./data/fivenodes.pkl')\n",
        "# _edges = torch.tensor(_data['edges']).nonzero().tolist()\n",
        "# _FX = _data['f'].tolist()\n",
        "# _node_ids = {'node1':0, 'node2':1, 'node3':2, 'node4':3, 'node5':4} \n",
        "# data_dict = {'edges':_edges, 'node_ids':_node_ids, 'FX':_FX}\n",
        "# loader = itstgcn.DatasetLoader(data_dict)\n",
        "# loader = itstgcn.load_data('./data/fivenodes.pkl')"
      ],
      "id": "f3d394fb-2e5f-4b39-9538-822986c1cc36"
    },
    {
      "cell_type": "code",
      "execution_count": null,
      "metadata": {},
      "outputs": [],
      "source": [
        " Nodes : 26\n",
        "\n",
        "vertices represent 26 windmills\n",
        "-Edges : 676\n",
        "\n",
        "weighted edges describe the strength of relationships\n",
        "- Time : 17464"
      ],
      "id": "3466269c-3f96-4116-9cb8-eadd54264fe2"
    },
    {
      "cell_type": "code",
      "execution_count": null,
      "metadata": {},
      "outputs": [],
      "source": [
        "my_list = [[] for _ in range(26)] #medium\n",
        "another_list = list(range(1000,2000))+list(range(4000,5000))+list(range(7000,8000)) #17464\n",
        "\n",
        "for i in np.array(random.sample(range(0, 26), 15)):\n",
        "    my_list[i] = another_list\n",
        "mindex = my_list"
      ],
      "id": "1094c646-f5f4-4303-ada2-2573d83cb859"
    },
    {
      "cell_type": "code",
      "execution_count": null,
      "metadata": {},
      "outputs": [],
      "source": [
        "my_list = [[] for _ in range(20)] #chickenpox\n",
        "another_list = list(range(100,400))\n",
        "my_list[2] = another_list\n",
        "my_list[4] = another_list\n",
        "my_list[6] = another_list\n",
        "my_list[8] = another_list\n",
        "my_list[10] = another_list\n",
        "my_list[12] = another_list\n",
        "my_list[14] = another_list\n",
        "my_list[16] = another_list\n",
        "mindex = my_list"
      ],
      "id": "d2bc955b-44f2-43c4-ba5b-7a33dbf30a33"
    },
    {
      "cell_type": "code",
      "execution_count": null,
      "metadata": {},
      "outputs": [],
      "source": [
        "# mindex= [[],[],[],list(range(50,150)),[]]\n",
        "# mindex= [list(range(50,150)),[],list(range(50,90)),list(range(50,150)),[]] # node 2\n",
        "plans_gnar_block = {\n",
        "    'max_iteration': 3, \n",
        "    'method': ['GNAR'], \n",
        "    'mindex': [mindex],\n",
        "    'lags': [4], \n",
        "    'inter_method': ['cubic','linear'],\n",
        "}"
      ],
      "id": "9779f175-8b00-4879-86a2-48f854abab5d"
    },
    {
      "cell_type": "code",
      "execution_count": null,
      "metadata": {},
      "outputs": [],
      "source": [
        "plnr = itstgcn.planner.PLNR_GNAR_MANUAL(plans_gnar_block,loader1,dataset_name='chickenpox')\n",
        "plnr.simulate(mindex,mtype='block')"
      ],
      "id": "bf53c080-64a0-4fde-ae85-b6286ae8c0a5"
    },
    {
      "cell_type": "code",
      "execution_count": null,
      "metadata": {},
      "outputs": [],
      "source": [
        "# mindex= [[],[],[],list(range(50,150)),[]]\n",
        "# mindex= [list(range(50,150)),[],list(range(50,90)),list(range(50,150)),[]] # node 2\n",
        "plans_gnar_block = {\n",
        "    'max_iteration': 3, \n",
        "    'method': ['GNAR'], \n",
        "    'mindex': [mindex],\n",
        "    'lags': [2,4], \n",
        "    'inter_method': ['linear'],\n",
        "}"
      ],
      "id": "c6914e91-bd82-4e0e-bcfb-f0ee590d52aa"
    },
    {
      "cell_type": "code",
      "execution_count": null,
      "metadata": {},
      "outputs": [],
      "source": [
        "plnr = itstgcn.planner.PLNR_GNAR_MANUAL(plans_gnar_block,loader3,dataset_name='wikimath')\n",
        "plnr.simulate(mindex,mtype='block')"
      ],
      "id": "5cc59657-7711-43ca-81d7-a6d906fca956"
    }
  ],
  "nbformat": 4,
  "nbformat_minor": 5,
  "metadata": {
    "kernelspec": {
      "name": "python3",
      "display_name": "Python 3",
      "language": "python"
    },
    "language_info": {
      "name": "python",
      "codemirror_mode": {
        "name": "ipython",
        "version": "3"
      },
      "file_extension": ".py",
      "mimetype": "text/x-python",
      "nbconvert_exporter": "python",
      "pygments_lexer": "ipython3",
      "version": "3.8.0"
    }
  }
}
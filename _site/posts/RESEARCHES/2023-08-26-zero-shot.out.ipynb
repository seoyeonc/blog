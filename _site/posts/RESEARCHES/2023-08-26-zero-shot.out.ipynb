{
  "cells": [
    {
      "cell_type": "markdown",
      "metadata": {},
      "source": [
        "# \\*\\*\\[LLM\\]\\*\\*Zeroshot\n",
        "\n",
        "SEOYEON CHOI  \n",
        "2023-08-26\n",
        "\n",
        "# Purpose\n",
        "\n",
        "1.  흐릿한 점을 주변의 명확한 사진(노드)로 추론해보는것,\n",
        "\n",
        "    -   소프트맥스로 나온 결과가 애매한 것들\n",
        "\n",
        "2.  노드로 인식하고 극중 상황을 추론하는 (싸움/긴장 등)\n",
        "\n",
        "# Import"
      ],
      "id": "30f9634d-722f-43ed-aeed-1ab91fc3ac40"
    },
    {
      "cell_type": "code",
      "execution_count": 3,
      "metadata": {},
      "outputs": [],
      "source": [
        "import skimage\n",
        "import numpy as np\n",
        "from PIL import Image\n",
        "import requests\n",
        "import torch\n",
        "from transformers import pipeline"
      ],
      "id": "1aff9f33-0df6-48b2-987a-f7920398c8e7"
    },
    {
      "cell_type": "code",
      "execution_count": 4,
      "metadata": {},
      "outputs": [],
      "source": [
        "import numpy as np\n",
        "import os\n",
        "from PIL import Image, ImageDraw\n",
        "from datasets import load_dataset"
      ],
      "id": "10a42b52-ce13-4b39-b25f-ce7333b7e46e"
    },
    {
      "cell_type": "markdown",
      "metadata": {},
      "source": [
        "# graph"
      ],
      "id": "6ce04c13-f612-4f45-a43e-66c80a3a19b9"
    },
    {
      "cell_type": "code",
      "execution_count": 5,
      "metadata": {},
      "outputs": [],
      "source": [
        "cppe5 = load_dataset(\"cppe-5\")"
      ],
      "id": "d2d30d42-19db-4982-9211-cadf19f5a1e8"
    },
    {
      "cell_type": "code",
      "execution_count": 12,
      "metadata": {
        "tags": []
      },
      "outputs": [],
      "source": [
        "data_dict = {}\n",
        "for z in range(len(cppe5['train'])) :\n",
        "    image = cppe5[\"train\"][z][\"image\"]\n",
        "    annotations = cppe5[\"train\"][z][\"objects\"]\n",
        "    draw = ImageDraw.Draw(image)\n",
        "\n",
        "    categories = cppe5[\"train\"].features[\"objects\"].feature[\"category\"].names\n",
        "\n",
        "    id2label = {index: x for index, x in enumerate(categories, start=0)}\n",
        "    label2id = {v: k for k, v in id2label.items()}\n",
        "    \n",
        "    # for i in range(len(annotations[\"id\"])):\n",
        "    #     box = annotations[\"bbox\"][i - 1]\n",
        "    #     class_idx = annotations[\"category\"][i - 1]\n",
        "    #     x, y, w, h = tuple(box)\n",
        "    #     draw.rectangle((x, y, x + w, y + h), outline=\"red\", width=1)\n",
        "    #     draw.text((x, y), id2label[class_idx], fill=\"white\")\n",
        "\n",
        "#     edge_matrix = np.zeros((len(categories), len(categories)), dtype=int)\n",
        "\n",
        "#     for i in range(len(annotations['category'])-1):\n",
        "#         edge_matrix[annotations['category'][i],annotations['category'][i+1]] = 1\n",
        "\n",
        "#     edge_list = []\n",
        "\n",
        "    # for i in range(edge_matrix.shape[0]):\n",
        "    #     for j in range(edge_matrix.shape[1]):\n",
        "    #         if edge_matrix[i, j] == 1:\n",
        "    #             edge_list.append([i, j])\n",
        "                \n",
        "    data_dict[z] = {\n",
        "        \"image\": image,\n",
        "        \"annotations\": annotations,\n",
        "        # \"edge_matrix\": edge_matrix,\n",
        "        # \"edge_list\": edge_list\n",
        "    }"
      ],
      "id": "c6fabe5a-b6eb-4964-8590-33f2c3e9ab21"
    },
    {
      "cell_type": "code",
      "execution_count": 13,
      "metadata": {},
      "outputs": [],
      "source": [
        "data_dict[0]"
      ],
      "id": "d5039e0d-6932-4640-8455-41327fc359c3"
    },
    {
      "cell_type": "markdown",
      "metadata": {},
      "source": [
        "# coco data"
      ],
      "id": "fcd72ed4-98e1-4dab-9511-8c50b0922b7a"
    }
  ],
  "nbformat": 4,
  "nbformat_minor": 5,
  "metadata": {
    "kernelspec": {
      "name": "python3",
      "display_name": "Python 3 (ipykernel)",
      "language": "python"
    },
    "language_info": {
      "name": "python",
      "codemirror_mode": {
        "name": "ipython",
        "version": "3"
      },
      "file_extension": ".py",
      "mimetype": "text/x-python",
      "nbconvert_exporter": "python",
      "pygments_lexer": "ipython3",
      "version": "3.11.4"
    }
  }
}
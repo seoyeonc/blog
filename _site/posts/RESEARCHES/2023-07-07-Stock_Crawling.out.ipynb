{
  "cells": [
    {
      "cell_type": "markdown",
      "metadata": {},
      "source": [
        "# Stock Crawling\n",
        "\n",
        "SEOYEON CHOI  \n",
        "7/7/23\n",
        "\n",
        "# Import"
      ],
      "id": "0f2cf00c-af4e-4c52-a109-d1f4eb3d9cb2"
    },
    {
      "cell_type": "code",
      "execution_count": 8,
      "metadata": {},
      "outputs": [],
      "source": [
        "import pandas as pd\n",
        "import matplotlib.pyplot as plt\n",
        "import requests\n",
        "from datetime import datetime\n",
        "from matplotlib import dates as mdates\n",
        "from bs4 import BeautifulSoup as bs"
      ],
      "id": "59ed34a7-6d1c-4915-9f14-bc166e315598"
    },
    {
      "cell_type": "markdown",
      "metadata": {},
      "source": [
        "# Korea(KOSPI)"
      ],
      "id": "5bdacfba-aeb0-4290-a242-e1a06c6b7c97"
    },
    {
      "cell_type": "code",
      "execution_count": 20,
      "metadata": {},
      "outputs": [],
      "source": [
        "url = 'https://finance.naver.com/sise/sise_index_day.naver?code=KOSPI&page=1'"
      ],
      "id": "3ba505a6-393e-49fd-b17c-233252dca15a"
    },
    {
      "cell_type": "code",
      "execution_count": 21,
      "metadata": {},
      "outputs": [],
      "source": [
        "headers = {'user-agent': 'Mozilla/5.0 (Macintosh; Intel Mac OS X 10_15_7) AppleWebKit/537.36 (KHTML, like Gecko) Chrome/88.0.4324.96 Safari/537.36'}\n",
        "response = requests.get(url, headers=headers)"
      ],
      "id": "43c3130e-bc64-4b8b-9799-d61c5fd60422"
    },
    {
      "cell_type": "code",
      "execution_count": 22,
      "metadata": {},
      "outputs": [],
      "source": [
        "response.text"
      ],
      "id": "bfab6c30-6018-4aa2-ab59-3e3e27ae5751"
    },
    {
      "cell_type": "code",
      "execution_count": 23,
      "metadata": {},
      "outputs": [
        {
          "output_type": "stream",
          "name": "stdout",
          "text": [
            "파싱된 테이블의 개수 : 2"
          ]
        }
      ],
      "source": [
        "html = bs(response.text, 'html.parser')\n",
        "html_table = html.select(\"table\")\n",
        "table = pd.read_html(str(html_table))\n",
        "print('파싱된 테이블의 개수 :', len(table))"
      ],
      "id": "b28fd626-b723-4244-8847-21a2a2603a31"
    },
    {
      "cell_type": "code",
      "execution_count": 24,
      "metadata": {},
      "outputs": [],
      "source": [
        "table[0]"
      ],
      "id": "4e677678-0565-4428-aff6-b5abfc3f4bdc"
    },
    {
      "cell_type": "code",
      "execution_count": 25,
      "metadata": {},
      "outputs": [],
      "source": [
        "table[1]"
      ],
      "id": "2165e1ad-8a45-4ae7-8f38-8250f7cd3080"
    },
    {
      "cell_type": "code",
      "execution_count": 26,
      "metadata": {},
      "outputs": [],
      "source": [
        "table[0].dropna()"
      ],
      "id": "601e1170-866b-4480-a4e7-3a0a66e041ed"
    },
    {
      "cell_type": "code",
      "execution_count": 40,
      "metadata": {
        "scrolled": true,
        "tags": []
      },
      "outputs": [
        {
          "output_type": "stream",
          "name": "stdout",
          "text": [
            "https://finance.naver.com/sise/sise_index_day.naver?code=KOSPI&page=1\n",
            "https://finance.naver.com/sise/sise_index_day.naver?code=KOSPI&page=2\n",
            "https://finance.naver.com/sise/sise_index_day.naver?code=KOSPI&page=3\n",
            "https://finance.naver.com/sise/sise_index_day.naver?code=KOSPI&page=4"
          ]
        },
        {
          "output_type": "stream",
          "name": "stderr",
          "text": [
            "FutureWarning: The frame.append method is deprecated and will be removed from pandas in a future version. Use pandas.concat instead.\n",
            "  df = df.append(table[0].dropna())\n",
            "<ipython-input-40-3bcb01c44ed2>:14: FutureWarning: The frame.append method is deprecated and will be removed from pandas in a future version. Use pandas.concat instead.\n",
            "  df = df.append(table[0].dropna())\n",
            "<ipython-input-40-3bcb01c44ed2>:14: FutureWarning: The frame.append method is deprecated and will be removed from pandas in a future version. Use pandas.concat instead.\n",
            "  df = df.append(table[0].dropna())\n",
            "<ipython-input-40-3bcb01c44ed2>:14: FutureWarning: The frame.append method is deprecated and will be removed from pandas in a future version. Use pandas.concat instead.\n",
            "  df = df.append(table[0].dropna())"
          ]
        },
        {
          "output_type": "stream",
          "name": "stdout",
          "text": [
            "https://finance.naver.com/sise/sise_index_day.naver?code=KOSPI&page=5\n",
            "https://finance.naver.com/sise/sise_index_day.naver?code=KOSPI&page=6\n",
            "https://finance.naver.com/sise/sise_index_day.naver?code=KOSPI&page=7\n",
            "https://finance.naver.com/sise/sise_index_day.naver?code=KOSPI&page=8"
          ]
        },
        {
          "output_type": "stream",
          "name": "stderr",
          "text": [
            "FutureWarning: The frame.append method is deprecated and will be removed from pandas in a future version. Use pandas.concat instead.\n",
            "  df = df.append(table[0].dropna())\n",
            "<ipython-input-40-3bcb01c44ed2>:14: FutureWarning: The frame.append method is deprecated and will be removed from pandas in a future version. Use pandas.concat instead.\n",
            "  df = df.append(table[0].dropna())\n",
            "<ipython-input-40-3bcb01c44ed2>:14: FutureWarning: The frame.append method is deprecated and will be removed from pandas in a future version. Use pandas.concat instead.\n",
            "  df = df.append(table[0].dropna())\n",
            "<ipython-input-40-3bcb01c44ed2>:14: FutureWarning: The frame.append method is deprecated and will be removed from pandas in a future version. Use pandas.concat instead.\n",
            "  df = df.append(table[0].dropna())"
          ]
        },
        {
          "output_type": "stream",
          "name": "stdout",
          "text": [
            "https://finance.naver.com/sise/sise_index_day.naver?code=KOSPI&page=9\n",
            "https://finance.naver.com/sise/sise_index_day.naver?code=KOSPI&page=10\n",
            "https://finance.naver.com/sise/sise_index_day.naver?code=KOSPI&page=11\n",
            "https://finance.naver.com/sise/sise_index_day.naver?code=KOSPI&page=12"
          ]
        },
        {
          "output_type": "stream",
          "name": "stderr",
          "text": [
            "FutureWarning: The frame.append method is deprecated and will be removed from pandas in a future version. Use pandas.concat instead.\n",
            "  df = df.append(table[0].dropna())\n",
            "<ipython-input-40-3bcb01c44ed2>:14: FutureWarning: The frame.append method is deprecated and will be removed from pandas in a future version. Use pandas.concat instead.\n",
            "  df = df.append(table[0].dropna())\n",
            "<ipython-input-40-3bcb01c44ed2>:14: FutureWarning: The frame.append method is deprecated and will be removed from pandas in a future version. Use pandas.concat instead.\n",
            "  df = df.append(table[0].dropna())\n",
            "<ipython-input-40-3bcb01c44ed2>:14: FutureWarning: The frame.append method is deprecated and will be removed from pandas in a future version. Use pandas.concat instead.\n",
            "  df = df.append(table[0].dropna())"
          ]
        },
        {
          "output_type": "stream",
          "name": "stdout",
          "text": [
            "https://finance.naver.com/sise/sise_index_day.naver?code=KOSPI&page=13\n",
            "https://finance.naver.com/sise/sise_index_day.naver?code=KOSPI&page=14\n",
            "https://finance.naver.com/sise/sise_index_day.naver?code=KOSPI&page=15\n",
            "https://finance.naver.com/sise/sise_index_day.naver?code=KOSPI&page=16"
          ]
        },
        {
          "output_type": "stream",
          "name": "stderr",
          "text": [
            "FutureWarning: The frame.append method is deprecated and will be removed from pandas in a future version. Use pandas.concat instead.\n",
            "  df = df.append(table[0].dropna())\n",
            "<ipython-input-40-3bcb01c44ed2>:14: FutureWarning: The frame.append method is deprecated and will be removed from pandas in a future version. Use pandas.concat instead.\n",
            "  df = df.append(table[0].dropna())\n",
            "<ipython-input-40-3bcb01c44ed2>:14: FutureWarning: The frame.append method is deprecated and will be removed from pandas in a future version. Use pandas.concat instead.\n",
            "  df = df.append(table[0].dropna())\n",
            "<ipython-input-40-3bcb01c44ed2>:14: FutureWarning: The frame.append method is deprecated and will be removed from pandas in a future version. Use pandas.concat instead.\n",
            "  df = df.append(table[0].dropna())"
          ]
        },
        {
          "output_type": "stream",
          "name": "stdout",
          "text": [
            "https://finance.naver.com/sise/sise_index_day.naver?code=KOSPI&page=17\n",
            "https://finance.naver.com/sise/sise_index_day.naver?code=KOSPI&page=18\n",
            "https://finance.naver.com/sise/sise_index_day.naver?code=KOSPI&page=19\n",
            "https://finance.naver.com/sise/sise_index_day.naver?code=KOSPI&page=20"
          ]
        },
        {
          "output_type": "stream",
          "name": "stderr",
          "text": [
            "FutureWarning: The frame.append method is deprecated and will be removed from pandas in a future version. Use pandas.concat instead.\n",
            "  df = df.append(table[0].dropna())\n",
            "<ipython-input-40-3bcb01c44ed2>:14: FutureWarning: The frame.append method is deprecated and will be removed from pandas in a future version. Use pandas.concat instead.\n",
            "  df = df.append(table[0].dropna())\n",
            "<ipython-input-40-3bcb01c44ed2>:14: FutureWarning: The frame.append method is deprecated and will be removed from pandas in a future version. Use pandas.concat instead.\n",
            "  df = df.append(table[0].dropna())\n",
            "<ipython-input-40-3bcb01c44ed2>:14: FutureWarning: The frame.append method is deprecated and will be removed from pandas in a future version. Use pandas.concat instead.\n",
            "  df = df.append(table[0].dropna())"
          ]
        },
        {
          "output_type": "stream",
          "name": "stdout",
          "text": [
            "https://finance.naver.com/sise/sise_index_day.naver?code=KOSPI&page=21\n",
            "https://finance.naver.com/sise/sise_index_day.naver?code=KOSPI&page=22\n",
            "https://finance.naver.com/sise/sise_index_day.naver?code=KOSPI&page=23\n",
            "https://finance.naver.com/sise/sise_index_day.naver?code=KOSPI&page=24"
          ]
        },
        {
          "output_type": "stream",
          "name": "stderr",
          "text": [
            "FutureWarning: The frame.append method is deprecated and will be removed from pandas in a future version. Use pandas.concat instead.\n",
            "  df = df.append(table[0].dropna())\n",
            "<ipython-input-40-3bcb01c44ed2>:14: FutureWarning: The frame.append method is deprecated and will be removed from pandas in a future version. Use pandas.concat instead.\n",
            "  df = df.append(table[0].dropna())\n",
            "<ipython-input-40-3bcb01c44ed2>:14: FutureWarning: The frame.append method is deprecated and will be removed from pandas in a future version. Use pandas.concat instead.\n",
            "  df = df.append(table[0].dropna())\n",
            "<ipython-input-40-3bcb01c44ed2>:14: FutureWarning: The frame.append method is deprecated and will be removed from pandas in a future version. Use pandas.concat instead.\n",
            "  df = df.append(table[0].dropna())"
          ]
        },
        {
          "output_type": "stream",
          "name": "stdout",
          "text": [
            "https://finance.naver.com/sise/sise_index_day.naver?code=KOSPI&page=25\n",
            "https://finance.naver.com/sise/sise_index_day.naver?code=KOSPI&page=26\n",
            "https://finance.naver.com/sise/sise_index_day.naver?code=KOSPI&page=27\n",
            "https://finance.naver.com/sise/sise_index_day.naver?code=KOSPI&page=28"
          ]
        },
        {
          "output_type": "stream",
          "name": "stderr",
          "text": [
            "FutureWarning: The frame.append method is deprecated and will be removed from pandas in a future version. Use pandas.concat instead.\n",
            "  df = df.append(table[0].dropna())\n",
            "<ipython-input-40-3bcb01c44ed2>:14: FutureWarning: The frame.append method is deprecated and will be removed from pandas in a future version. Use pandas.concat instead.\n",
            "  df = df.append(table[0].dropna())\n",
            "<ipython-input-40-3bcb01c44ed2>:14: FutureWarning: The frame.append method is deprecated and will be removed from pandas in a future version. Use pandas.concat instead.\n",
            "  df = df.append(table[0].dropna())\n",
            "<ipython-input-40-3bcb01c44ed2>:14: FutureWarning: The frame.append method is deprecated and will be removed from pandas in a future version. Use pandas.concat instead.\n",
            "  df = df.append(table[0].dropna())"
          ]
        },
        {
          "output_type": "stream",
          "name": "stdout",
          "text": [
            "https://finance.naver.com/sise/sise_index_day.naver?code=KOSPI&page=29\n",
            "https://finance.naver.com/sise/sise_index_day.naver?code=KOSPI&page=30\n",
            "https://finance.naver.com/sise/sise_index_day.naver?code=KOSPI&page=31\n",
            "https://finance.naver.com/sise/sise_index_day.naver?code=KOSPI&page=32"
          ]
        },
        {
          "output_type": "stream",
          "name": "stderr",
          "text": [
            "FutureWarning: The frame.append method is deprecated and will be removed from pandas in a future version. Use pandas.concat instead.\n",
            "  df = df.append(table[0].dropna())\n",
            "<ipython-input-40-3bcb01c44ed2>:14: FutureWarning: The frame.append method is deprecated and will be removed from pandas in a future version. Use pandas.concat instead.\n",
            "  df = df.append(table[0].dropna())\n",
            "<ipython-input-40-3bcb01c44ed2>:14: FutureWarning: The frame.append method is deprecated and will be removed from pandas in a future version. Use pandas.concat instead.\n",
            "  df = df.append(table[0].dropna())\n",
            "<ipython-input-40-3bcb01c44ed2>:14: FutureWarning: The frame.append method is deprecated and will be removed from pandas in a future version. Use pandas.concat instead.\n",
            "  df = df.append(table[0].dropna())"
          ]
        },
        {
          "output_type": "stream",
          "name": "stdout",
          "text": [
            "https://finance.naver.com/sise/sise_index_day.naver?code=KOSPI&page=33\n",
            "https://finance.naver.com/sise/sise_index_day.naver?code=KOSPI&page=34\n",
            "https://finance.naver.com/sise/sise_index_day.naver?code=KOSPI&page=35\n",
            "https://finance.naver.com/sise/sise_index_day.naver?code=KOSPI&page=36"
          ]
        },
        {
          "output_type": "stream",
          "name": "stderr",
          "text": [
            "FutureWarning: The frame.append method is deprecated and will be removed from pandas in a future version. Use pandas.concat instead.\n",
            "  df = df.append(table[0].dropna())\n",
            "<ipython-input-40-3bcb01c44ed2>:14: FutureWarning: The frame.append method is deprecated and will be removed from pandas in a future version. Use pandas.concat instead.\n",
            "  df = df.append(table[0].dropna())\n",
            "<ipython-input-40-3bcb01c44ed2>:14: FutureWarning: The frame.append method is deprecated and will be removed from pandas in a future version. Use pandas.concat instead.\n",
            "  df = df.append(table[0].dropna())\n",
            "<ipython-input-40-3bcb01c44ed2>:14: FutureWarning: The frame.append method is deprecated and will be removed from pandas in a future version. Use pandas.concat instead.\n",
            "  df = df.append(table[0].dropna())"
          ]
        },
        {
          "output_type": "stream",
          "name": "stdout",
          "text": [
            "https://finance.naver.com/sise/sise_index_day.naver?code=KOSPI&page=37\n",
            "https://finance.naver.com/sise/sise_index_day.naver?code=KOSPI&page=38\n",
            "https://finance.naver.com/sise/sise_index_day.naver?code=KOSPI&page=39\n",
            "https://finance.naver.com/sise/sise_index_day.naver?code=KOSPI&page=40"
          ]
        },
        {
          "output_type": "stream",
          "name": "stderr",
          "text": [
            "FutureWarning: The frame.append method is deprecated and will be removed from pandas in a future version. Use pandas.concat instead.\n",
            "  df = df.append(table[0].dropna())\n",
            "<ipython-input-40-3bcb01c44ed2>:14: FutureWarning: The frame.append method is deprecated and will be removed from pandas in a future version. Use pandas.concat instead.\n",
            "  df = df.append(table[0].dropna())\n",
            "<ipython-input-40-3bcb01c44ed2>:14: FutureWarning: The frame.append method is deprecated and will be removed from pandas in a future version. Use pandas.concat instead.\n",
            "  df = df.append(table[0].dropna())\n",
            "<ipython-input-40-3bcb01c44ed2>:14: FutureWarning: The frame.append method is deprecated and will be removed from pandas in a future version. Use pandas.concat instead.\n",
            "  df = df.append(table[0].dropna())"
          ]
        },
        {
          "output_type": "stream",
          "name": "stdout",
          "text": [
            "https://finance.naver.com/sise/sise_index_day.naver?code=KOSPI&page=41\n",
            "https://finance.naver.com/sise/sise_index_day.naver?code=KOSPI&page=42\n",
            "https://finance.naver.com/sise/sise_index_day.naver?code=KOSPI&page=43\n",
            "https://finance.naver.com/sise/sise_index_day.naver?code=KOSPI&page=44"
          ]
        },
        {
          "output_type": "stream",
          "name": "stderr",
          "text": [
            "FutureWarning: The frame.append method is deprecated and will be removed from pandas in a future version. Use pandas.concat instead.\n",
            "  df = df.append(table[0].dropna())\n",
            "<ipython-input-40-3bcb01c44ed2>:14: FutureWarning: The frame.append method is deprecated and will be removed from pandas in a future version. Use pandas.concat instead.\n",
            "  df = df.append(table[0].dropna())\n",
            "<ipython-input-40-3bcb01c44ed2>:14: FutureWarning: The frame.append method is deprecated and will be removed from pandas in a future version. Use pandas.concat instead.\n",
            "  df = df.append(table[0].dropna())\n",
            "<ipython-input-40-3bcb01c44ed2>:14: FutureWarning: The frame.append method is deprecated and will be removed from pandas in a future version. Use pandas.concat instead.\n",
            "  df = df.append(table[0].dropna())"
          ]
        },
        {
          "output_type": "stream",
          "name": "stdout",
          "text": [
            "https://finance.naver.com/sise/sise_index_day.naver?code=KOSPI&page=45\n",
            "https://finance.naver.com/sise/sise_index_day.naver?code=KOSPI&page=46\n",
            "https://finance.naver.com/sise/sise_index_day.naver?code=KOSPI&page=47\n",
            "https://finance.naver.com/sise/sise_index_day.naver?code=KOSPI&page=48"
          ]
        },
        {
          "output_type": "stream",
          "name": "stderr",
          "text": [
            "FutureWarning: The frame.append method is deprecated and will be removed from pandas in a future version. Use pandas.concat instead.\n",
            "  df = df.append(table[0].dropna())\n",
            "<ipython-input-40-3bcb01c44ed2>:14: FutureWarning: The frame.append method is deprecated and will be removed from pandas in a future version. Use pandas.concat instead.\n",
            "  df = df.append(table[0].dropna())\n",
            "<ipython-input-40-3bcb01c44ed2>:14: FutureWarning: The frame.append method is deprecated and will be removed from pandas in a future version. Use pandas.concat instead.\n",
            "  df = df.append(table[0].dropna())\n",
            "<ipython-input-40-3bcb01c44ed2>:14: FutureWarning: The frame.append method is deprecated and will be removed from pandas in a future version. Use pandas.concat instead.\n",
            "  df = df.append(table[0].dropna())"
          ]
        },
        {
          "output_type": "stream",
          "name": "stdout",
          "text": [
            "https://finance.naver.com/sise/sise_index_day.naver?code=KOSPI&page=49\n",
            "https://finance.naver.com/sise/sise_index_day.naver?code=KOSPI&page=50\n",
            "https://finance.naver.com/sise/sise_index_day.naver?code=KOSPI&page=51\n",
            "https://finance.naver.com/sise/sise_index_day.naver?code=KOSPI&page=52"
          ]
        },
        {
          "output_type": "stream",
          "name": "stderr",
          "text": [
            "FutureWarning: The frame.append method is deprecated and will be removed from pandas in a future version. Use pandas.concat instead.\n",
            "  df = df.append(table[0].dropna())\n",
            "<ipython-input-40-3bcb01c44ed2>:14: FutureWarning: The frame.append method is deprecated and will be removed from pandas in a future version. Use pandas.concat instead.\n",
            "  df = df.append(table[0].dropna())\n",
            "<ipython-input-40-3bcb01c44ed2>:14: FutureWarning: The frame.append method is deprecated and will be removed from pandas in a future version. Use pandas.concat instead.\n",
            "  df = df.append(table[0].dropna())\n",
            "<ipython-input-40-3bcb01c44ed2>:14: FutureWarning: The frame.append method is deprecated and will be removed from pandas in a future version. Use pandas.concat instead.\n",
            "  df = df.append(table[0].dropna())"
          ]
        },
        {
          "output_type": "stream",
          "name": "stdout",
          "text": [
            "https://finance.naver.com/sise/sise_index_day.naver?code=KOSPI&page=53\n",
            "https://finance.naver.com/sise/sise_index_day.naver?code=KOSPI&page=54\n",
            "https://finance.naver.com/sise/sise_index_day.naver?code=KOSPI&page=55\n",
            "https://finance.naver.com/sise/sise_index_day.naver?code=KOSPI&page=56"
          ]
        },
        {
          "output_type": "stream",
          "name": "stderr",
          "text": [
            "FutureWarning: The frame.append method is deprecated and will be removed from pandas in a future version. Use pandas.concat instead.\n",
            "  df = df.append(table[0].dropna())\n",
            "<ipython-input-40-3bcb01c44ed2>:14: FutureWarning: The frame.append method is deprecated and will be removed from pandas in a future version. Use pandas.concat instead.\n",
            "  df = df.append(table[0].dropna())\n",
            "<ipython-input-40-3bcb01c44ed2>:14: FutureWarning: The frame.append method is deprecated and will be removed from pandas in a future version. Use pandas.concat instead.\n",
            "  df = df.append(table[0].dropna())\n",
            "<ipython-input-40-3bcb01c44ed2>:14: FutureWarning: The frame.append method is deprecated and will be removed from pandas in a future version. Use pandas.concat instead.\n",
            "  df = df.append(table[0].dropna())"
          ]
        },
        {
          "output_type": "stream",
          "name": "stdout",
          "text": [
            "https://finance.naver.com/sise/sise_index_day.naver?code=KOSPI&page=57\n",
            "https://finance.naver.com/sise/sise_index_day.naver?code=KOSPI&page=58\n",
            "https://finance.naver.com/sise/sise_index_day.naver?code=KOSPI&page=59\n",
            "https://finance.naver.com/sise/sise_index_day.naver?code=KOSPI&page=60"
          ]
        },
        {
          "output_type": "stream",
          "name": "stderr",
          "text": [
            "FutureWarning: The frame.append method is deprecated and will be removed from pandas in a future version. Use pandas.concat instead.\n",
            "  df = df.append(table[0].dropna())\n",
            "<ipython-input-40-3bcb01c44ed2>:14: FutureWarning: The frame.append method is deprecated and will be removed from pandas in a future version. Use pandas.concat instead.\n",
            "  df = df.append(table[0].dropna())\n",
            "<ipython-input-40-3bcb01c44ed2>:14: FutureWarning: The frame.append method is deprecated and will be removed from pandas in a future version. Use pandas.concat instead.\n",
            "  df = df.append(table[0].dropna())\n",
            "<ipython-input-40-3bcb01c44ed2>:14: FutureWarning: The frame.append method is deprecated and will be removed from pandas in a future version. Use pandas.concat instead.\n",
            "  df = df.append(table[0].dropna())"
          ]
        },
        {
          "output_type": "stream",
          "name": "stdout",
          "text": [
            "https://finance.naver.com/sise/sise_index_day.naver?code=KOSPI&page=61\n",
            "https://finance.naver.com/sise/sise_index_day.naver?code=KOSPI&page=62\n",
            "https://finance.naver.com/sise/sise_index_day.naver?code=KOSPI&page=63\n",
            "https://finance.naver.com/sise/sise_index_day.naver?code=KOSPI&page=64"
          ]
        },
        {
          "output_type": "stream",
          "name": "stderr",
          "text": [
            "FutureWarning: The frame.append method is deprecated and will be removed from pandas in a future version. Use pandas.concat instead.\n",
            "  df = df.append(table[0].dropna())\n",
            "<ipython-input-40-3bcb01c44ed2>:14: FutureWarning: The frame.append method is deprecated and will be removed from pandas in a future version. Use pandas.concat instead.\n",
            "  df = df.append(table[0].dropna())\n",
            "<ipython-input-40-3bcb01c44ed2>:14: FutureWarning: The frame.append method is deprecated and will be removed from pandas in a future version. Use pandas.concat instead.\n",
            "  df = df.append(table[0].dropna())\n",
            "<ipython-input-40-3bcb01c44ed2>:14: FutureWarning: The frame.append method is deprecated and will be removed from pandas in a future version. Use pandas.concat instead.\n",
            "  df = df.append(table[0].dropna())"
          ]
        },
        {
          "output_type": "stream",
          "name": "stdout",
          "text": [
            "https://finance.naver.com/sise/sise_index_day.naver?code=KOSPI&page=65\n",
            "https://finance.naver.com/sise/sise_index_day.naver?code=KOSPI&page=66\n",
            "https://finance.naver.com/sise/sise_index_day.naver?code=KOSPI&page=67\n",
            "https://finance.naver.com/sise/sise_index_day.naver?code=KOSPI&page=68"
          ]
        },
        {
          "output_type": "stream",
          "name": "stderr",
          "text": [
            "FutureWarning: The frame.append method is deprecated and will be removed from pandas in a future version. Use pandas.concat instead.\n",
            "  df = df.append(table[0].dropna())\n",
            "<ipython-input-40-3bcb01c44ed2>:14: FutureWarning: The frame.append method is deprecated and will be removed from pandas in a future version. Use pandas.concat instead.\n",
            "  df = df.append(table[0].dropna())\n",
            "<ipython-input-40-3bcb01c44ed2>:14: FutureWarning: The frame.append method is deprecated and will be removed from pandas in a future version. Use pandas.concat instead.\n",
            "  df = df.append(table[0].dropna())\n",
            "<ipython-input-40-3bcb01c44ed2>:14: FutureWarning: The frame.append method is deprecated and will be removed from pandas in a future version. Use pandas.concat instead.\n",
            "  df = df.append(table[0].dropna())"
          ]
        },
        {
          "output_type": "stream",
          "name": "stdout",
          "text": [
            "https://finance.naver.com/sise/sise_index_day.naver?code=KOSPI&page=69\n",
            "https://finance.naver.com/sise/sise_index_day.naver?code=KOSPI&page=70\n",
            "https://finance.naver.com/sise/sise_index_day.naver?code=KOSPI&page=71\n",
            "https://finance.naver.com/sise/sise_index_day.naver?code=KOSPI&page=72"
          ]
        },
        {
          "output_type": "stream",
          "name": "stderr",
          "text": [
            "FutureWarning: The frame.append method is deprecated and will be removed from pandas in a future version. Use pandas.concat instead.\n",
            "  df = df.append(table[0].dropna())\n",
            "<ipython-input-40-3bcb01c44ed2>:14: FutureWarning: The frame.append method is deprecated and will be removed from pandas in a future version. Use pandas.concat instead.\n",
            "  df = df.append(table[0].dropna())\n",
            "<ipython-input-40-3bcb01c44ed2>:14: FutureWarning: The frame.append method is deprecated and will be removed from pandas in a future version. Use pandas.concat instead.\n",
            "  df = df.append(table[0].dropna())\n",
            "<ipython-input-40-3bcb01c44ed2>:14: FutureWarning: The frame.append method is deprecated and will be removed from pandas in a future version. Use pandas.concat instead.\n",
            "  df = df.append(table[0].dropna())"
          ]
        },
        {
          "output_type": "stream",
          "name": "stdout",
          "text": [
            "https://finance.naver.com/sise/sise_index_day.naver?code=KOSPI&page=73\n",
            "https://finance.naver.com/sise/sise_index_day.naver?code=KOSPI&page=74\n",
            "https://finance.naver.com/sise/sise_index_day.naver?code=KOSPI&page=75\n",
            "https://finance.naver.com/sise/sise_index_day.naver?code=KOSPI&page=76"
          ]
        },
        {
          "output_type": "stream",
          "name": "stderr",
          "text": [
            "FutureWarning: The frame.append method is deprecated and will be removed from pandas in a future version. Use pandas.concat instead.\n",
            "  df = df.append(table[0].dropna())\n",
            "<ipython-input-40-3bcb01c44ed2>:14: FutureWarning: The frame.append method is deprecated and will be removed from pandas in a future version. Use pandas.concat instead.\n",
            "  df = df.append(table[0].dropna())\n",
            "<ipython-input-40-3bcb01c44ed2>:14: FutureWarning: The frame.append method is deprecated and will be removed from pandas in a future version. Use pandas.concat instead.\n",
            "  df = df.append(table[0].dropna())\n",
            "<ipython-input-40-3bcb01c44ed2>:14: FutureWarning: The frame.append method is deprecated and will be removed from pandas in a future version. Use pandas.concat instead.\n",
            "  df = df.append(table[0].dropna())"
          ]
        },
        {
          "output_type": "stream",
          "name": "stdout",
          "text": [
            "https://finance.naver.com/sise/sise_index_day.naver?code=KOSPI&page=77\n",
            "https://finance.naver.com/sise/sise_index_day.naver?code=KOSPI&page=78\n",
            "https://finance.naver.com/sise/sise_index_day.naver?code=KOSPI&page=79\n",
            "https://finance.naver.com/sise/sise_index_day.naver?code=KOSPI&page=80"
          ]
        },
        {
          "output_type": "stream",
          "name": "stderr",
          "text": [
            "FutureWarning: The frame.append method is deprecated and will be removed from pandas in a future version. Use pandas.concat instead.\n",
            "  df = df.append(table[0].dropna())\n",
            "<ipython-input-40-3bcb01c44ed2>:14: FutureWarning: The frame.append method is deprecated and will be removed from pandas in a future version. Use pandas.concat instead.\n",
            "  df = df.append(table[0].dropna())\n",
            "<ipython-input-40-3bcb01c44ed2>:14: FutureWarning: The frame.append method is deprecated and will be removed from pandas in a future version. Use pandas.concat instead.\n",
            "  df = df.append(table[0].dropna())\n",
            "<ipython-input-40-3bcb01c44ed2>:14: FutureWarning: The frame.append method is deprecated and will be removed from pandas in a future version. Use pandas.concat instead.\n",
            "  df = df.append(table[0].dropna())"
          ]
        },
        {
          "output_type": "stream",
          "name": "stdout",
          "text": [
            "https://finance.naver.com/sise/sise_index_day.naver?code=KOSPI&page=81\n",
            "https://finance.naver.com/sise/sise_index_day.naver?code=KOSPI&page=82\n",
            "https://finance.naver.com/sise/sise_index_day.naver?code=KOSPI&page=83\n",
            "https://finance.naver.com/sise/sise_index_day.naver?code=KOSPI&page=84"
          ]
        },
        {
          "output_type": "stream",
          "name": "stderr",
          "text": [
            "FutureWarning: The frame.append method is deprecated and will be removed from pandas in a future version. Use pandas.concat instead.\n",
            "  df = df.append(table[0].dropna())\n",
            "<ipython-input-40-3bcb01c44ed2>:14: FutureWarning: The frame.append method is deprecated and will be removed from pandas in a future version. Use pandas.concat instead.\n",
            "  df = df.append(table[0].dropna())\n",
            "<ipython-input-40-3bcb01c44ed2>:14: FutureWarning: The frame.append method is deprecated and will be removed from pandas in a future version. Use pandas.concat instead.\n",
            "  df = df.append(table[0].dropna())\n",
            "<ipython-input-40-3bcb01c44ed2>:14: FutureWarning: The frame.append method is deprecated and will be removed from pandas in a future version. Use pandas.concat instead.\n",
            "  df = df.append(table[0].dropna())"
          ]
        },
        {
          "output_type": "stream",
          "name": "stdout",
          "text": [
            "https://finance.naver.com/sise/sise_index_day.naver?code=KOSPI&page=85\n",
            "https://finance.naver.com/sise/sise_index_day.naver?code=KOSPI&page=86\n",
            "https://finance.naver.com/sise/sise_index_day.naver?code=KOSPI&page=87\n",
            "https://finance.naver.com/sise/sise_index_day.naver?code=KOSPI&page=88"
          ]
        },
        {
          "output_type": "stream",
          "name": "stderr",
          "text": [
            "FutureWarning: The frame.append method is deprecated and will be removed from pandas in a future version. Use pandas.concat instead.\n",
            "  df = df.append(table[0].dropna())\n",
            "<ipython-input-40-3bcb01c44ed2>:14: FutureWarning: The frame.append method is deprecated and will be removed from pandas in a future version. Use pandas.concat instead.\n",
            "  df = df.append(table[0].dropna())\n",
            "<ipython-input-40-3bcb01c44ed2>:14: FutureWarning: The frame.append method is deprecated and will be removed from pandas in a future version. Use pandas.concat instead.\n",
            "  df = df.append(table[0].dropna())\n",
            "<ipython-input-40-3bcb01c44ed2>:14: FutureWarning: The frame.append method is deprecated and will be removed from pandas in a future version. Use pandas.concat instead.\n",
            "  df = df.append(table[0].dropna())"
          ]
        },
        {
          "output_type": "stream",
          "name": "stdout",
          "text": [
            "https://finance.naver.com/sise/sise_index_day.naver?code=KOSPI&page=89\n",
            "https://finance.naver.com/sise/sise_index_day.naver?code=KOSPI&page=90\n",
            "https://finance.naver.com/sise/sise_index_day.naver?code=KOSPI&page=91"
          ]
        },
        {
          "output_type": "stream",
          "name": "stderr",
          "text": [
            "FutureWarning: The frame.append method is deprecated and will be removed from pandas in a future version. Use pandas.concat instead.\n",
            "  df = df.append(table[0].dropna())\n",
            "<ipython-input-40-3bcb01c44ed2>:14: FutureWarning: The frame.append method is deprecated and will be removed from pandas in a future version. Use pandas.concat instead.\n",
            "  df = df.append(table[0].dropna())\n",
            "<ipython-input-40-3bcb01c44ed2>:14: FutureWarning: The frame.append method is deprecated and will be removed from pandas in a future version. Use pandas.concat instead.\n",
            "  df = df.append(table[0].dropna())\n",
            "<ipython-input-40-3bcb01c44ed2>:14: FutureWarning: The frame.append method is deprecated and will be removed from pandas in a future version. Use pandas.concat instead.\n",
            "  df = df.append(table[0].dropna())\n",
            "<ipython-input-40-3bcb01c44ed2>:14: FutureWarning: The frame.append method is deprecated and will be removed from pandas in a future version. Use pandas.concat instead.\n",
            "  df = df.append(table[0].dropna())\n",
            "<ipython-input-40-3bcb01c44ed2>:14: FutureWarning: The frame.append method is deprecated and will be removed from pandas in a future version. Use pandas.concat instead.\n",
            "  df = df.append(table[0].dropna())"
          ]
        },
        {
          "output_type": "stream",
          "name": "stdout",
          "text": [
            "https://finance.naver.com/sise/sise_index_day.naver?code=KOSPI&page=92\n",
            "https://finance.naver.com/sise/sise_index_day.naver?code=KOSPI&page=93\n",
            "https://finance.naver.com/sise/sise_index_day.naver?code=KOSPI&page=94\n",
            "https://finance.naver.com/sise/sise_index_day.naver?code=KOSPI&page=95"
          ]
        },
        {
          "output_type": "stream",
          "name": "stderr",
          "text": [
            "FutureWarning: The frame.append method is deprecated and will be removed from pandas in a future version. Use pandas.concat instead.\n",
            "  df = df.append(table[0].dropna())\n",
            "<ipython-input-40-3bcb01c44ed2>:14: FutureWarning: The frame.append method is deprecated and will be removed from pandas in a future version. Use pandas.concat instead.\n",
            "  df = df.append(table[0].dropna())\n",
            "<ipython-input-40-3bcb01c44ed2>:14: FutureWarning: The frame.append method is deprecated and will be removed from pandas in a future version. Use pandas.concat instead.\n",
            "  df = df.append(table[0].dropna())\n",
            "<ipython-input-40-3bcb01c44ed2>:14: FutureWarning: The frame.append method is deprecated and will be removed from pandas in a future version. Use pandas.concat instead.\n",
            "  df = df.append(table[0].dropna())"
          ]
        },
        {
          "output_type": "stream",
          "name": "stdout",
          "text": [
            "https://finance.naver.com/sise/sise_index_day.naver?code=KOSPI&page=96\n",
            "https://finance.naver.com/sise/sise_index_day.naver?code=KOSPI&page=97\n",
            "https://finance.naver.com/sise/sise_index_day.naver?code=KOSPI&page=98\n",
            "https://finance.naver.com/sise/sise_index_day.naver?code=KOSPI&page=99"
          ]
        },
        {
          "output_type": "stream",
          "name": "stderr",
          "text": [
            "FutureWarning: The frame.append method is deprecated and will be removed from pandas in a future version. Use pandas.concat instead.\n",
            "  df = df.append(table[0].dropna())\n",
            "<ipython-input-40-3bcb01c44ed2>:14: FutureWarning: The frame.append method is deprecated and will be removed from pandas in a future version. Use pandas.concat instead.\n",
            "  df = df.append(table[0].dropna())\n",
            "<ipython-input-40-3bcb01c44ed2>:14: FutureWarning: The frame.append method is deprecated and will be removed from pandas in a future version. Use pandas.concat instead.\n",
            "  df = df.append(table[0].dropna())\n",
            "<ipython-input-40-3bcb01c44ed2>:14: FutureWarning: The frame.append method is deprecated and will be removed from pandas in a future version. Use pandas.concat instead.\n",
            "  df = df.append(table[0].dropna())"
          ]
        },
        {
          "output_type": "stream",
          "name": "stdout",
          "text": [
            "https://finance.naver.com/sise/sise_index_day.naver?code=KOSPI&page=100\n",
            "https://finance.naver.com/sise/sise_index_day.naver?code=KOSPI&page=101\n",
            "https://finance.naver.com/sise/sise_index_day.naver?code=KOSPI&page=102\n",
            "https://finance.naver.com/sise/sise_index_day.naver?code=KOSPI&page=103"
          ]
        },
        {
          "output_type": "stream",
          "name": "stderr",
          "text": [
            "FutureWarning: The frame.append method is deprecated and will be removed from pandas in a future version. Use pandas.concat instead.\n",
            "  df = df.append(table[0].dropna())\n",
            "<ipython-input-40-3bcb01c44ed2>:14: FutureWarning: The frame.append method is deprecated and will be removed from pandas in a future version. Use pandas.concat instead.\n",
            "  df = df.append(table[0].dropna())\n",
            "<ipython-input-40-3bcb01c44ed2>:14: FutureWarning: The frame.append method is deprecated and will be removed from pandas in a future version. Use pandas.concat instead.\n",
            "  df = df.append(table[0].dropna())\n",
            "<ipython-input-40-3bcb01c44ed2>:14: FutureWarning: The frame.append method is deprecated and will be removed from pandas in a future version. Use pandas.concat instead.\n",
            "  df = df.append(table[0].dropna())"
          ]
        },
        {
          "output_type": "stream",
          "name": "stdout",
          "text": [
            "https://finance.naver.com/sise/sise_index_day.naver?code=KOSPI&page=104\n",
            "https://finance.naver.com/sise/sise_index_day.naver?code=KOSPI&page=105\n",
            "https://finance.naver.com/sise/sise_index_day.naver?code=KOSPI&page=106\n",
            "https://finance.naver.com/sise/sise_index_day.naver?code=KOSPI&page=107"
          ]
        },
        {
          "output_type": "stream",
          "name": "stderr",
          "text": [
            "FutureWarning: The frame.append method is deprecated and will be removed from pandas in a future version. Use pandas.concat instead.\n",
            "  df = df.append(table[0].dropna())\n",
            "<ipython-input-40-3bcb01c44ed2>:14: FutureWarning: The frame.append method is deprecated and will be removed from pandas in a future version. Use pandas.concat instead.\n",
            "  df = df.append(table[0].dropna())\n",
            "<ipython-input-40-3bcb01c44ed2>:14: FutureWarning: The frame.append method is deprecated and will be removed from pandas in a future version. Use pandas.concat instead.\n",
            "  df = df.append(table[0].dropna())\n",
            "<ipython-input-40-3bcb01c44ed2>:14: FutureWarning: The frame.append method is deprecated and will be removed from pandas in a future version. Use pandas.concat instead.\n",
            "  df = df.append(table[0].dropna())"
          ]
        },
        {
          "output_type": "stream",
          "name": "stdout",
          "text": [
            "https://finance.naver.com/sise/sise_index_day.naver?code=KOSPI&page=108\n",
            "https://finance.naver.com/sise/sise_index_day.naver?code=KOSPI&page=109\n",
            "https://finance.naver.com/sise/sise_index_day.naver?code=KOSPI&page=110\n",
            "https://finance.naver.com/sise/sise_index_day.naver?code=KOSPI&page=111"
          ]
        },
        {
          "output_type": "stream",
          "name": "stderr",
          "text": [
            "FutureWarning: The frame.append method is deprecated and will be removed from pandas in a future version. Use pandas.concat instead.\n",
            "  df = df.append(table[0].dropna())\n",
            "<ipython-input-40-3bcb01c44ed2>:14: FutureWarning: The frame.append method is deprecated and will be removed from pandas in a future version. Use pandas.concat instead.\n",
            "  df = df.append(table[0].dropna())\n",
            "<ipython-input-40-3bcb01c44ed2>:14: FutureWarning: The frame.append method is deprecated and will be removed from pandas in a future version. Use pandas.concat instead.\n",
            "  df = df.append(table[0].dropna())\n",
            "<ipython-input-40-3bcb01c44ed2>:14: FutureWarning: The frame.append method is deprecated and will be removed from pandas in a future version. Use pandas.concat instead.\n",
            "  df = df.append(table[0].dropna())"
          ]
        },
        {
          "output_type": "stream",
          "name": "stdout",
          "text": [
            "https://finance.naver.com/sise/sise_index_day.naver?code=KOSPI&page=112\n",
            "https://finance.naver.com/sise/sise_index_day.naver?code=KOSPI&page=113\n",
            "https://finance.naver.com/sise/sise_index_day.naver?code=KOSPI&page=114\n",
            "https://finance.naver.com/sise/sise_index_day.naver?code=KOSPI&page=115"
          ]
        },
        {
          "output_type": "stream",
          "name": "stderr",
          "text": [
            "FutureWarning: The frame.append method is deprecated and will be removed from pandas in a future version. Use pandas.concat instead.\n",
            "  df = df.append(table[0].dropna())\n",
            "<ipython-input-40-3bcb01c44ed2>:14: FutureWarning: The frame.append method is deprecated and will be removed from pandas in a future version. Use pandas.concat instead.\n",
            "  df = df.append(table[0].dropna())\n",
            "<ipython-input-40-3bcb01c44ed2>:14: FutureWarning: The frame.append method is deprecated and will be removed from pandas in a future version. Use pandas.concat instead.\n",
            "  df = df.append(table[0].dropna())\n",
            "<ipython-input-40-3bcb01c44ed2>:14: FutureWarning: The frame.append method is deprecated and will be removed from pandas in a future version. Use pandas.concat instead.\n",
            "  df = df.append(table[0].dropna())"
          ]
        },
        {
          "output_type": "stream",
          "name": "stdout",
          "text": [
            "https://finance.naver.com/sise/sise_index_day.naver?code=KOSPI&page=116\n",
            "https://finance.naver.com/sise/sise_index_day.naver?code=KOSPI&page=117\n",
            "https://finance.naver.com/sise/sise_index_day.naver?code=KOSPI&page=118\n",
            "https://finance.naver.com/sise/sise_index_day.naver?code=KOSPI&page=119"
          ]
        },
        {
          "output_type": "stream",
          "name": "stderr",
          "text": [
            "FutureWarning: The frame.append method is deprecated and will be removed from pandas in a future version. Use pandas.concat instead.\n",
            "  df = df.append(table[0].dropna())\n",
            "<ipython-input-40-3bcb01c44ed2>:14: FutureWarning: The frame.append method is deprecated and will be removed from pandas in a future version. Use pandas.concat instead.\n",
            "  df = df.append(table[0].dropna())\n",
            "<ipython-input-40-3bcb01c44ed2>:14: FutureWarning: The frame.append method is deprecated and will be removed from pandas in a future version. Use pandas.concat instead.\n",
            "  df = df.append(table[0].dropna())\n",
            "<ipython-input-40-3bcb01c44ed2>:14: FutureWarning: The frame.append method is deprecated and will be removed from pandas in a future version. Use pandas.concat instead.\n",
            "  df = df.append(table[0].dropna())"
          ]
        },
        {
          "output_type": "stream",
          "name": "stdout",
          "text": [
            "https://finance.naver.com/sise/sise_index_day.naver?code=KOSPI&page=120\n",
            "https://finance.naver.com/sise/sise_index_day.naver?code=KOSPI&page=121\n",
            "https://finance.naver.com/sise/sise_index_day.naver?code=KOSPI&page=122\n",
            "https://finance.naver.com/sise/sise_index_day.naver?code=KOSPI&page=123"
          ]
        },
        {
          "output_type": "stream",
          "name": "stderr",
          "text": [
            "FutureWarning: The frame.append method is deprecated and will be removed from pandas in a future version. Use pandas.concat instead.\n",
            "  df = df.append(table[0].dropna())\n",
            "<ipython-input-40-3bcb01c44ed2>:14: FutureWarning: The frame.append method is deprecated and will be removed from pandas in a future version. Use pandas.concat instead.\n",
            "  df = df.append(table[0].dropna())\n",
            "<ipython-input-40-3bcb01c44ed2>:14: FutureWarning: The frame.append method is deprecated and will be removed from pandas in a future version. Use pandas.concat instead.\n",
            "  df = df.append(table[0].dropna())\n",
            "<ipython-input-40-3bcb01c44ed2>:14: FutureWarning: The frame.append method is deprecated and will be removed from pandas in a future version. Use pandas.concat instead.\n",
            "  df = df.append(table[0].dropna())"
          ]
        },
        {
          "output_type": "stream",
          "name": "stdout",
          "text": [
            "https://finance.naver.com/sise/sise_index_day.naver?code=KOSPI&page=124\n",
            "https://finance.naver.com/sise/sise_index_day.naver?code=KOSPI&page=125\n",
            "https://finance.naver.com/sise/sise_index_day.naver?code=KOSPI&page=126\n",
            "https://finance.naver.com/sise/sise_index_day.naver?code=KOSPI&page=127"
          ]
        },
        {
          "output_type": "stream",
          "name": "stderr",
          "text": [
            "FutureWarning: The frame.append method is deprecated and will be removed from pandas in a future version. Use pandas.concat instead.\n",
            "  df = df.append(table[0].dropna())\n",
            "<ipython-input-40-3bcb01c44ed2>:14: FutureWarning: The frame.append method is deprecated and will be removed from pandas in a future version. Use pandas.concat instead.\n",
            "  df = df.append(table[0].dropna())\n",
            "<ipython-input-40-3bcb01c44ed2>:14: FutureWarning: The frame.append method is deprecated and will be removed from pandas in a future version. Use pandas.concat instead.\n",
            "  df = df.append(table[0].dropna())\n",
            "<ipython-input-40-3bcb01c44ed2>:14: FutureWarning: The frame.append method is deprecated and will be removed from pandas in a future version. Use pandas.concat instead.\n",
            "  df = df.append(table[0].dropna())"
          ]
        },
        {
          "output_type": "stream",
          "name": "stdout",
          "text": [
            "https://finance.naver.com/sise/sise_index_day.naver?code=KOSPI&page=128\n",
            "https://finance.naver.com/sise/sise_index_day.naver?code=KOSPI&page=129\n",
            "https://finance.naver.com/sise/sise_index_day.naver?code=KOSPI&page=130\n",
            "https://finance.naver.com/sise/sise_index_day.naver?code=KOSPI&page=131"
          ]
        },
        {
          "output_type": "stream",
          "name": "stderr",
          "text": [
            "FutureWarning: The frame.append method is deprecated and will be removed from pandas in a future version. Use pandas.concat instead.\n",
            "  df = df.append(table[0].dropna())\n",
            "<ipython-input-40-3bcb01c44ed2>:14: FutureWarning: The frame.append method is deprecated and will be removed from pandas in a future version. Use pandas.concat instead.\n",
            "  df = df.append(table[0].dropna())\n",
            "<ipython-input-40-3bcb01c44ed2>:14: FutureWarning: The frame.append method is deprecated and will be removed from pandas in a future version. Use pandas.concat instead.\n",
            "  df = df.append(table[0].dropna())\n",
            "<ipython-input-40-3bcb01c44ed2>:14: FutureWarning: The frame.append method is deprecated and will be removed from pandas in a future version. Use pandas.concat instead.\n",
            "  df = df.append(table[0].dropna())"
          ]
        },
        {
          "output_type": "stream",
          "name": "stdout",
          "text": [
            "https://finance.naver.com/sise/sise_index_day.naver?code=KOSPI&page=132\n",
            "https://finance.naver.com/sise/sise_index_day.naver?code=KOSPI&page=133\n",
            "https://finance.naver.com/sise/sise_index_day.naver?code=KOSPI&page=134\n",
            "https://finance.naver.com/sise/sise_index_day.naver?code=KOSPI&page=135"
          ]
        },
        {
          "output_type": "stream",
          "name": "stderr",
          "text": [
            "FutureWarning: The frame.append method is deprecated and will be removed from pandas in a future version. Use pandas.concat instead.\n",
            "  df = df.append(table[0].dropna())\n",
            "<ipython-input-40-3bcb01c44ed2>:14: FutureWarning: The frame.append method is deprecated and will be removed from pandas in a future version. Use pandas.concat instead.\n",
            "  df = df.append(table[0].dropna())\n",
            "<ipython-input-40-3bcb01c44ed2>:14: FutureWarning: The frame.append method is deprecated and will be removed from pandas in a future version. Use pandas.concat instead.\n",
            "  df = df.append(table[0].dropna())\n",
            "<ipython-input-40-3bcb01c44ed2>:14: FutureWarning: The frame.append method is deprecated and will be removed from pandas in a future version. Use pandas.concat instead.\n",
            "  df = df.append(table[0].dropna())"
          ]
        },
        {
          "output_type": "stream",
          "name": "stdout",
          "text": [
            "https://finance.naver.com/sise/sise_index_day.naver?code=KOSPI&page=136\n",
            "https://finance.naver.com/sise/sise_index_day.naver?code=KOSPI&page=137\n",
            "https://finance.naver.com/sise/sise_index_day.naver?code=KOSPI&page=138\n",
            "https://finance.naver.com/sise/sise_index_day.naver?code=KOSPI&page=139"
          ]
        },
        {
          "output_type": "stream",
          "name": "stderr",
          "text": [
            "FutureWarning: The frame.append method is deprecated and will be removed from pandas in a future version. Use pandas.concat instead.\n",
            "  df = df.append(table[0].dropna())\n",
            "<ipython-input-40-3bcb01c44ed2>:14: FutureWarning: The frame.append method is deprecated and will be removed from pandas in a future version. Use pandas.concat instead.\n",
            "  df = df.append(table[0].dropna())\n",
            "<ipython-input-40-3bcb01c44ed2>:14: FutureWarning: The frame.append method is deprecated and will be removed from pandas in a future version. Use pandas.concat instead.\n",
            "  df = df.append(table[0].dropna())\n",
            "<ipython-input-40-3bcb01c44ed2>:14: FutureWarning: The frame.append method is deprecated and will be removed from pandas in a future version. Use pandas.concat instead.\n",
            "  df = df.append(table[0].dropna())"
          ]
        },
        {
          "output_type": "stream",
          "name": "stdout",
          "text": [
            "https://finance.naver.com/sise/sise_index_day.naver?code=KOSPI&page=140\n",
            "https://finance.naver.com/sise/sise_index_day.naver?code=KOSPI&page=141\n",
            "https://finance.naver.com/sise/sise_index_day.naver?code=KOSPI&page=142\n",
            "https://finance.naver.com/sise/sise_index_day.naver?code=KOSPI&page=143"
          ]
        },
        {
          "output_type": "stream",
          "name": "stderr",
          "text": [
            "FutureWarning: The frame.append method is deprecated and will be removed from pandas in a future version. Use pandas.concat instead.\n",
            "  df = df.append(table[0].dropna())\n",
            "<ipython-input-40-3bcb01c44ed2>:14: FutureWarning: The frame.append method is deprecated and will be removed from pandas in a future version. Use pandas.concat instead.\n",
            "  df = df.append(table[0].dropna())\n",
            "<ipython-input-40-3bcb01c44ed2>:14: FutureWarning: The frame.append method is deprecated and will be removed from pandas in a future version. Use pandas.concat instead.\n",
            "  df = df.append(table[0].dropna())\n",
            "<ipython-input-40-3bcb01c44ed2>:14: FutureWarning: The frame.append method is deprecated and will be removed from pandas in a future version. Use pandas.concat instead.\n",
            "  df = df.append(table[0].dropna())"
          ]
        },
        {
          "output_type": "stream",
          "name": "stdout",
          "text": [
            "https://finance.naver.com/sise/sise_index_day.naver?code=KOSPI&page=144\n",
            "https://finance.naver.com/sise/sise_index_day.naver?code=KOSPI&page=145\n",
            "https://finance.naver.com/sise/sise_index_day.naver?code=KOSPI&page=146\n",
            "https://finance.naver.com/sise/sise_index_day.naver?code=KOSPI&page=147"
          ]
        },
        {
          "output_type": "stream",
          "name": "stderr",
          "text": [
            "FutureWarning: The frame.append method is deprecated and will be removed from pandas in a future version. Use pandas.concat instead.\n",
            "  df = df.append(table[0].dropna())\n",
            "<ipython-input-40-3bcb01c44ed2>:14: FutureWarning: The frame.append method is deprecated and will be removed from pandas in a future version. Use pandas.concat instead.\n",
            "  df = df.append(table[0].dropna())\n",
            "<ipython-input-40-3bcb01c44ed2>:14: FutureWarning: The frame.append method is deprecated and will be removed from pandas in a future version. Use pandas.concat instead.\n",
            "  df = df.append(table[0].dropna())\n",
            "<ipython-input-40-3bcb01c44ed2>:14: FutureWarning: The frame.append method is deprecated and will be removed from pandas in a future version. Use pandas.concat instead.\n",
            "  df = df.append(table[0].dropna())"
          ]
        },
        {
          "output_type": "stream",
          "name": "stdout",
          "text": [
            "https://finance.naver.com/sise/sise_index_day.naver?code=KOSPI&page=148\n",
            "https://finance.naver.com/sise/sise_index_day.naver?code=KOSPI&page=149\n",
            "https://finance.naver.com/sise/sise_index_day.naver?code=KOSPI&page=150\n",
            "https://finance.naver.com/sise/sise_index_day.naver?code=KOSPI&page=151"
          ]
        },
        {
          "output_type": "stream",
          "name": "stderr",
          "text": [
            "FutureWarning: The frame.append method is deprecated and will be removed from pandas in a future version. Use pandas.concat instead.\n",
            "  df = df.append(table[0].dropna())\n",
            "<ipython-input-40-3bcb01c44ed2>:14: FutureWarning: The frame.append method is deprecated and will be removed from pandas in a future version. Use pandas.concat instead.\n",
            "  df = df.append(table[0].dropna())\n",
            "<ipython-input-40-3bcb01c44ed2>:14: FutureWarning: The frame.append method is deprecated and will be removed from pandas in a future version. Use pandas.concat instead.\n",
            "  df = df.append(table[0].dropna())\n",
            "<ipython-input-40-3bcb01c44ed2>:14: FutureWarning: The frame.append method is deprecated and will be removed from pandas in a future version. Use pandas.concat instead.\n",
            "  df = df.append(table[0].dropna())"
          ]
        },
        {
          "output_type": "stream",
          "name": "stdout",
          "text": [
            "https://finance.naver.com/sise/sise_index_day.naver?code=KOSPI&page=152\n",
            "https://finance.naver.com/sise/sise_index_day.naver?code=KOSPI&page=153\n",
            "https://finance.naver.com/sise/sise_index_day.naver?code=KOSPI&page=154\n",
            "https://finance.naver.com/sise/sise_index_day.naver?code=KOSPI&page=155"
          ]
        },
        {
          "output_type": "stream",
          "name": "stderr",
          "text": [
            "FutureWarning: The frame.append method is deprecated and will be removed from pandas in a future version. Use pandas.concat instead.\n",
            "  df = df.append(table[0].dropna())\n",
            "<ipython-input-40-3bcb01c44ed2>:14: FutureWarning: The frame.append method is deprecated and will be removed from pandas in a future version. Use pandas.concat instead.\n",
            "  df = df.append(table[0].dropna())\n",
            "<ipython-input-40-3bcb01c44ed2>:14: FutureWarning: The frame.append method is deprecated and will be removed from pandas in a future version. Use pandas.concat instead.\n",
            "  df = df.append(table[0].dropna())\n",
            "<ipython-input-40-3bcb01c44ed2>:14: FutureWarning: The frame.append method is deprecated and will be removed from pandas in a future version. Use pandas.concat instead.\n",
            "  df = df.append(table[0].dropna())"
          ]
        },
        {
          "output_type": "stream",
          "name": "stdout",
          "text": [
            "https://finance.naver.com/sise/sise_index_day.naver?code=KOSPI&page=156\n",
            "https://finance.naver.com/sise/sise_index_day.naver?code=KOSPI&page=157\n",
            "https://finance.naver.com/sise/sise_index_day.naver?code=KOSPI&page=158\n",
            "https://finance.naver.com/sise/sise_index_day.naver?code=KOSPI&page=159"
          ]
        },
        {
          "output_type": "stream",
          "name": "stderr",
          "text": [
            "FutureWarning: The frame.append method is deprecated and will be removed from pandas in a future version. Use pandas.concat instead.\n",
            "  df = df.append(table[0].dropna())\n",
            "<ipython-input-40-3bcb01c44ed2>:14: FutureWarning: The frame.append method is deprecated and will be removed from pandas in a future version. Use pandas.concat instead.\n",
            "  df = df.append(table[0].dropna())\n",
            "<ipython-input-40-3bcb01c44ed2>:14: FutureWarning: The frame.append method is deprecated and will be removed from pandas in a future version. Use pandas.concat instead.\n",
            "  df = df.append(table[0].dropna())\n",
            "<ipython-input-40-3bcb01c44ed2>:14: FutureWarning: The frame.append method is deprecated and will be removed from pandas in a future version. Use pandas.concat instead.\n",
            "  df = df.append(table[0].dropna())"
          ]
        },
        {
          "output_type": "stream",
          "name": "stdout",
          "text": [
            "https://finance.naver.com/sise/sise_index_day.naver?code=KOSPI&page=160\n",
            "https://finance.naver.com/sise/sise_index_day.naver?code=KOSPI&page=161\n",
            "https://finance.naver.com/sise/sise_index_day.naver?code=KOSPI&page=162\n",
            "https://finance.naver.com/sise/sise_index_day.naver?code=KOSPI&page=163"
          ]
        },
        {
          "output_type": "stream",
          "name": "stderr",
          "text": [
            "FutureWarning: The frame.append method is deprecated and will be removed from pandas in a future version. Use pandas.concat instead.\n",
            "  df = df.append(table[0].dropna())\n",
            "<ipython-input-40-3bcb01c44ed2>:14: FutureWarning: The frame.append method is deprecated and will be removed from pandas in a future version. Use pandas.concat instead.\n",
            "  df = df.append(table[0].dropna())\n",
            "<ipython-input-40-3bcb01c44ed2>:14: FutureWarning: The frame.append method is deprecated and will be removed from pandas in a future version. Use pandas.concat instead.\n",
            "  df = df.append(table[0].dropna())\n",
            "<ipython-input-40-3bcb01c44ed2>:14: FutureWarning: The frame.append method is deprecated and will be removed from pandas in a future version. Use pandas.concat instead.\n",
            "  df = df.append(table[0].dropna())"
          ]
        },
        {
          "output_type": "stream",
          "name": "stdout",
          "text": [
            "https://finance.naver.com/sise/sise_index_day.naver?code=KOSPI&page=164\n",
            "https://finance.naver.com/sise/sise_index_day.naver?code=KOSPI&page=165\n",
            "https://finance.naver.com/sise/sise_index_day.naver?code=KOSPI&page=166\n",
            "https://finance.naver.com/sise/sise_index_day.naver?code=KOSPI&page=167"
          ]
        },
        {
          "output_type": "stream",
          "name": "stderr",
          "text": [
            "FutureWarning: The frame.append method is deprecated and will be removed from pandas in a future version. Use pandas.concat instead.\n",
            "  df = df.append(table[0].dropna())\n",
            "<ipython-input-40-3bcb01c44ed2>:14: FutureWarning: The frame.append method is deprecated and will be removed from pandas in a future version. Use pandas.concat instead.\n",
            "  df = df.append(table[0].dropna())\n",
            "<ipython-input-40-3bcb01c44ed2>:14: FutureWarning: The frame.append method is deprecated and will be removed from pandas in a future version. Use pandas.concat instead.\n",
            "  df = df.append(table[0].dropna())\n",
            "<ipython-input-40-3bcb01c44ed2>:14: FutureWarning: The frame.append method is deprecated and will be removed from pandas in a future version. Use pandas.concat instead.\n",
            "  df = df.append(table[0].dropna())"
          ]
        },
        {
          "output_type": "stream",
          "name": "stdout",
          "text": [
            "https://finance.naver.com/sise/sise_index_day.naver?code=KOSPI&page=168\n",
            "https://finance.naver.com/sise/sise_index_day.naver?code=KOSPI&page=169\n",
            "https://finance.naver.com/sise/sise_index_day.naver?code=KOSPI&page=170\n",
            "https://finance.naver.com/sise/sise_index_day.naver?code=KOSPI&page=171"
          ]
        },
        {
          "output_type": "stream",
          "name": "stderr",
          "text": [
            "FutureWarning: The frame.append method is deprecated and will be removed from pandas in a future version. Use pandas.concat instead.\n",
            "  df = df.append(table[0].dropna())\n",
            "<ipython-input-40-3bcb01c44ed2>:14: FutureWarning: The frame.append method is deprecated and will be removed from pandas in a future version. Use pandas.concat instead.\n",
            "  df = df.append(table[0].dropna())\n",
            "<ipython-input-40-3bcb01c44ed2>:14: FutureWarning: The frame.append method is deprecated and will be removed from pandas in a future version. Use pandas.concat instead.\n",
            "  df = df.append(table[0].dropna())\n",
            "<ipython-input-40-3bcb01c44ed2>:14: FutureWarning: The frame.append method is deprecated and will be removed from pandas in a future version. Use pandas.concat instead.\n",
            "  df = df.append(table[0].dropna())"
          ]
        },
        {
          "output_type": "stream",
          "name": "stdout",
          "text": [
            "https://finance.naver.com/sise/sise_index_day.naver?code=KOSPI&page=172\n",
            "https://finance.naver.com/sise/sise_index_day.naver?code=KOSPI&page=173\n",
            "https://finance.naver.com/sise/sise_index_day.naver?code=KOSPI&page=174\n",
            "https://finance.naver.com/sise/sise_index_day.naver?code=KOSPI&page=175"
          ]
        },
        {
          "output_type": "stream",
          "name": "stderr",
          "text": [
            "FutureWarning: The frame.append method is deprecated and will be removed from pandas in a future version. Use pandas.concat instead.\n",
            "  df = df.append(table[0].dropna())\n",
            "<ipython-input-40-3bcb01c44ed2>:14: FutureWarning: The frame.append method is deprecated and will be removed from pandas in a future version. Use pandas.concat instead.\n",
            "  df = df.append(table[0].dropna())\n",
            "<ipython-input-40-3bcb01c44ed2>:14: FutureWarning: The frame.append method is deprecated and will be removed from pandas in a future version. Use pandas.concat instead.\n",
            "  df = df.append(table[0].dropna())\n",
            "<ipython-input-40-3bcb01c44ed2>:14: FutureWarning: The frame.append method is deprecated and will be removed from pandas in a future version. Use pandas.concat instead.\n",
            "  df = df.append(table[0].dropna())"
          ]
        },
        {
          "output_type": "stream",
          "name": "stdout",
          "text": [
            "https://finance.naver.com/sise/sise_index_day.naver?code=KOSPI&page=176\n",
            "https://finance.naver.com/sise/sise_index_day.naver?code=KOSPI&page=177\n",
            "https://finance.naver.com/sise/sise_index_day.naver?code=KOSPI&page=178\n",
            "https://finance.naver.com/sise/sise_index_day.naver?code=KOSPI&page=179"
          ]
        },
        {
          "output_type": "stream",
          "name": "stderr",
          "text": [
            "FutureWarning: The frame.append method is deprecated and will be removed from pandas in a future version. Use pandas.concat instead.\n",
            "  df = df.append(table[0].dropna())\n",
            "<ipython-input-40-3bcb01c44ed2>:14: FutureWarning: The frame.append method is deprecated and will be removed from pandas in a future version. Use pandas.concat instead.\n",
            "  df = df.append(table[0].dropna())\n",
            "<ipython-input-40-3bcb01c44ed2>:14: FutureWarning: The frame.append method is deprecated and will be removed from pandas in a future version. Use pandas.concat instead.\n",
            "  df = df.append(table[0].dropna())\n",
            "<ipython-input-40-3bcb01c44ed2>:14: FutureWarning: The frame.append method is deprecated and will be removed from pandas in a future version. Use pandas.concat instead.\n",
            "  df = df.append(table[0].dropna())"
          ]
        },
        {
          "output_type": "stream",
          "name": "stdout",
          "text": [
            "https://finance.naver.com/sise/sise_index_day.naver?code=KOSPI&page=180\n",
            "https://finance.naver.com/sise/sise_index_day.naver?code=KOSPI&page=181\n",
            "https://finance.naver.com/sise/sise_index_day.naver?code=KOSPI&page=182\n",
            "https://finance.naver.com/sise/sise_index_day.naver?code=KOSPI&page=183"
          ]
        },
        {
          "output_type": "stream",
          "name": "stderr",
          "text": [
            "FutureWarning: The frame.append method is deprecated and will be removed from pandas in a future version. Use pandas.concat instead.\n",
            "  df = df.append(table[0].dropna())\n",
            "<ipython-input-40-3bcb01c44ed2>:14: FutureWarning: The frame.append method is deprecated and will be removed from pandas in a future version. Use pandas.concat instead.\n",
            "  df = df.append(table[0].dropna())\n",
            "<ipython-input-40-3bcb01c44ed2>:14: FutureWarning: The frame.append method is deprecated and will be removed from pandas in a future version. Use pandas.concat instead.\n",
            "  df = df.append(table[0].dropna())\n",
            "<ipython-input-40-3bcb01c44ed2>:14: FutureWarning: The frame.append method is deprecated and will be removed from pandas in a future version. Use pandas.concat instead.\n",
            "  df = df.append(table[0].dropna())"
          ]
        },
        {
          "output_type": "stream",
          "name": "stdout",
          "text": [
            "https://finance.naver.com/sise/sise_index_day.naver?code=KOSPI&page=184\n",
            "https://finance.naver.com/sise/sise_index_day.naver?code=KOSPI&page=185\n",
            "https://finance.naver.com/sise/sise_index_day.naver?code=KOSPI&page=186\n",
            "https://finance.naver.com/sise/sise_index_day.naver?code=KOSPI&page=187"
          ]
        },
        {
          "output_type": "stream",
          "name": "stderr",
          "text": [
            "FutureWarning: The frame.append method is deprecated and will be removed from pandas in a future version. Use pandas.concat instead.\n",
            "  df = df.append(table[0].dropna())\n",
            "<ipython-input-40-3bcb01c44ed2>:14: FutureWarning: The frame.append method is deprecated and will be removed from pandas in a future version. Use pandas.concat instead.\n",
            "  df = df.append(table[0].dropna())\n",
            "<ipython-input-40-3bcb01c44ed2>:14: FutureWarning: The frame.append method is deprecated and will be removed from pandas in a future version. Use pandas.concat instead.\n",
            "  df = df.append(table[0].dropna())\n",
            "<ipython-input-40-3bcb01c44ed2>:14: FutureWarning: The frame.append method is deprecated and will be removed from pandas in a future version. Use pandas.concat instead.\n",
            "  df = df.append(table[0].dropna())"
          ]
        },
        {
          "output_type": "stream",
          "name": "stdout",
          "text": [
            "https://finance.naver.com/sise/sise_index_day.naver?code=KOSPI&page=188\n",
            "https://finance.naver.com/sise/sise_index_day.naver?code=KOSPI&page=189\n",
            "https://finance.naver.com/sise/sise_index_day.naver?code=KOSPI&page=190\n",
            "https://finance.naver.com/sise/sise_index_day.naver?code=KOSPI&page=191"
          ]
        },
        {
          "output_type": "stream",
          "name": "stderr",
          "text": [
            "FutureWarning: The frame.append method is deprecated and will be removed from pandas in a future version. Use pandas.concat instead.\n",
            "  df = df.append(table[0].dropna())\n",
            "<ipython-input-40-3bcb01c44ed2>:14: FutureWarning: The frame.append method is deprecated and will be removed from pandas in a future version. Use pandas.concat instead.\n",
            "  df = df.append(table[0].dropna())\n",
            "<ipython-input-40-3bcb01c44ed2>:14: FutureWarning: The frame.append method is deprecated and will be removed from pandas in a future version. Use pandas.concat instead.\n",
            "  df = df.append(table[0].dropna())\n",
            "<ipython-input-40-3bcb01c44ed2>:14: FutureWarning: The frame.append method is deprecated and will be removed from pandas in a future version. Use pandas.concat instead.\n",
            "  df = df.append(table[0].dropna())"
          ]
        },
        {
          "output_type": "stream",
          "name": "stdout",
          "text": [
            "https://finance.naver.com/sise/sise_index_day.naver?code=KOSPI&page=192\n",
            "https://finance.naver.com/sise/sise_index_day.naver?code=KOSPI&page=193\n",
            "https://finance.naver.com/sise/sise_index_day.naver?code=KOSPI&page=194\n",
            "https://finance.naver.com/sise/sise_index_day.naver?code=KOSPI&page=195"
          ]
        },
        {
          "output_type": "stream",
          "name": "stderr",
          "text": [
            "FutureWarning: The frame.append method is deprecated and will be removed from pandas in a future version. Use pandas.concat instead.\n",
            "  df = df.append(table[0].dropna())\n",
            "<ipython-input-40-3bcb01c44ed2>:14: FutureWarning: The frame.append method is deprecated and will be removed from pandas in a future version. Use pandas.concat instead.\n",
            "  df = df.append(table[0].dropna())\n",
            "<ipython-input-40-3bcb01c44ed2>:14: FutureWarning: The frame.append method is deprecated and will be removed from pandas in a future version. Use pandas.concat instead.\n",
            "  df = df.append(table[0].dropna())\n",
            "<ipython-input-40-3bcb01c44ed2>:14: FutureWarning: The frame.append method is deprecated and will be removed from pandas in a future version. Use pandas.concat instead.\n",
            "  df = df.append(table[0].dropna())"
          ]
        },
        {
          "output_type": "stream",
          "name": "stdout",
          "text": [
            "https://finance.naver.com/sise/sise_index_day.naver?code=KOSPI&page=196\n",
            "https://finance.naver.com/sise/sise_index_day.naver?code=KOSPI&page=197\n",
            "https://finance.naver.com/sise/sise_index_day.naver?code=KOSPI&page=198\n",
            "https://finance.naver.com/sise/sise_index_day.naver?code=KOSPI&page=199"
          ]
        },
        {
          "output_type": "stream",
          "name": "stderr",
          "text": [
            "FutureWarning: The frame.append method is deprecated and will be removed from pandas in a future version. Use pandas.concat instead.\n",
            "  df = df.append(table[0].dropna())\n",
            "<ipython-input-40-3bcb01c44ed2>:14: FutureWarning: The frame.append method is deprecated and will be removed from pandas in a future version. Use pandas.concat instead.\n",
            "  df = df.append(table[0].dropna())\n",
            "<ipython-input-40-3bcb01c44ed2>:14: FutureWarning: The frame.append method is deprecated and will be removed from pandas in a future version. Use pandas.concat instead.\n",
            "  df = df.append(table[0].dropna())\n",
            "<ipython-input-40-3bcb01c44ed2>:14: FutureWarning: The frame.append method is deprecated and will be removed from pandas in a future version. Use pandas.concat instead.\n",
            "  df = df.append(table[0].dropna())"
          ]
        },
        {
          "output_type": "stream",
          "name": "stdout",
          "text": [
            "https://finance.naver.com/sise/sise_index_day.naver?code=KOSPI&page=200\n",
            "https://finance.naver.com/sise/sise_index_day.naver?code=KOSPI&page=201\n",
            "https://finance.naver.com/sise/sise_index_day.naver?code=KOSPI&page=202\n",
            "https://finance.naver.com/sise/sise_index_day.naver?code=KOSPI&page=203"
          ]
        },
        {
          "output_type": "stream",
          "name": "stderr",
          "text": [
            "FutureWarning: The frame.append method is deprecated and will be removed from pandas in a future version. Use pandas.concat instead.\n",
            "  df = df.append(table[0].dropna())\n",
            "<ipython-input-40-3bcb01c44ed2>:14: FutureWarning: The frame.append method is deprecated and will be removed from pandas in a future version. Use pandas.concat instead.\n",
            "  df = df.append(table[0].dropna())\n",
            "<ipython-input-40-3bcb01c44ed2>:14: FutureWarning: The frame.append method is deprecated and will be removed from pandas in a future version. Use pandas.concat instead.\n",
            "  df = df.append(table[0].dropna())\n",
            "<ipython-input-40-3bcb01c44ed2>:14: FutureWarning: The frame.append method is deprecated and will be removed from pandas in a future version. Use pandas.concat instead.\n",
            "  df = df.append(table[0].dropna())"
          ]
        },
        {
          "output_type": "stream",
          "name": "stdout",
          "text": [
            "https://finance.naver.com/sise/sise_index_day.naver?code=KOSPI&page=204\n",
            "https://finance.naver.com/sise/sise_index_day.naver?code=KOSPI&page=205\n",
            "https://finance.naver.com/sise/sise_index_day.naver?code=KOSPI&page=206\n",
            "https://finance.naver.com/sise/sise_index_day.naver?code=KOSPI&page=207"
          ]
        },
        {
          "output_type": "stream",
          "name": "stderr",
          "text": [
            "FutureWarning: The frame.append method is deprecated and will be removed from pandas in a future version. Use pandas.concat instead.\n",
            "  df = df.append(table[0].dropna())\n",
            "<ipython-input-40-3bcb01c44ed2>:14: FutureWarning: The frame.append method is deprecated and will be removed from pandas in a future version. Use pandas.concat instead.\n",
            "  df = df.append(table[0].dropna())\n",
            "<ipython-input-40-3bcb01c44ed2>:14: FutureWarning: The frame.append method is deprecated and will be removed from pandas in a future version. Use pandas.concat instead.\n",
            "  df = df.append(table[0].dropna())\n",
            "<ipython-input-40-3bcb01c44ed2>:14: FutureWarning: The frame.append method is deprecated and will be removed from pandas in a future version. Use pandas.concat instead.\n",
            "  df = df.append(table[0].dropna())"
          ]
        },
        {
          "output_type": "stream",
          "name": "stdout",
          "text": [
            "https://finance.naver.com/sise/sise_index_day.naver?code=KOSPI&page=208\n",
            "https://finance.naver.com/sise/sise_index_day.naver?code=KOSPI&page=209\n",
            "https://finance.naver.com/sise/sise_index_day.naver?code=KOSPI&page=210\n",
            "https://finance.naver.com/sise/sise_index_day.naver?code=KOSPI&page=211"
          ]
        },
        {
          "output_type": "stream",
          "name": "stderr",
          "text": [
            "FutureWarning: The frame.append method is deprecated and will be removed from pandas in a future version. Use pandas.concat instead.\n",
            "  df = df.append(table[0].dropna())\n",
            "<ipython-input-40-3bcb01c44ed2>:14: FutureWarning: The frame.append method is deprecated and will be removed from pandas in a future version. Use pandas.concat instead.\n",
            "  df = df.append(table[0].dropna())\n",
            "<ipython-input-40-3bcb01c44ed2>:14: FutureWarning: The frame.append method is deprecated and will be removed from pandas in a future version. Use pandas.concat instead.\n",
            "  df = df.append(table[0].dropna())\n",
            "<ipython-input-40-3bcb01c44ed2>:14: FutureWarning: The frame.append method is deprecated and will be removed from pandas in a future version. Use pandas.concat instead.\n",
            "  df = df.append(table[0].dropna())"
          ]
        },
        {
          "output_type": "stream",
          "name": "stdout",
          "text": [
            "https://finance.naver.com/sise/sise_index_day.naver?code=KOSPI&page=212\n",
            "https://finance.naver.com/sise/sise_index_day.naver?code=KOSPI&page=213\n",
            "https://finance.naver.com/sise/sise_index_day.naver?code=KOSPI&page=214\n",
            "https://finance.naver.com/sise/sise_index_day.naver?code=KOSPI&page=215"
          ]
        },
        {
          "output_type": "stream",
          "name": "stderr",
          "text": [
            "FutureWarning: The frame.append method is deprecated and will be removed from pandas in a future version. Use pandas.concat instead.\n",
            "  df = df.append(table[0].dropna())\n",
            "<ipython-input-40-3bcb01c44ed2>:14: FutureWarning: The frame.append method is deprecated and will be removed from pandas in a future version. Use pandas.concat instead.\n",
            "  df = df.append(table[0].dropna())\n",
            "<ipython-input-40-3bcb01c44ed2>:14: FutureWarning: The frame.append method is deprecated and will be removed from pandas in a future version. Use pandas.concat instead.\n",
            "  df = df.append(table[0].dropna())\n",
            "<ipython-input-40-3bcb01c44ed2>:14: FutureWarning: The frame.append method is deprecated and will be removed from pandas in a future version. Use pandas.concat instead.\n",
            "  df = df.append(table[0].dropna())"
          ]
        },
        {
          "output_type": "stream",
          "name": "stdout",
          "text": [
            "https://finance.naver.com/sise/sise_index_day.naver?code=KOSPI&page=216\n",
            "https://finance.naver.com/sise/sise_index_day.naver?code=KOSPI&page=217\n",
            "https://finance.naver.com/sise/sise_index_day.naver?code=KOSPI&page=218\n",
            "https://finance.naver.com/sise/sise_index_day.naver?code=KOSPI&page=219"
          ]
        },
        {
          "output_type": "stream",
          "name": "stderr",
          "text": [
            "FutureWarning: The frame.append method is deprecated and will be removed from pandas in a future version. Use pandas.concat instead.\n",
            "  df = df.append(table[0].dropna())\n",
            "<ipython-input-40-3bcb01c44ed2>:14: FutureWarning: The frame.append method is deprecated and will be removed from pandas in a future version. Use pandas.concat instead.\n",
            "  df = df.append(table[0].dropna())\n",
            "<ipython-input-40-3bcb01c44ed2>:14: FutureWarning: The frame.append method is deprecated and will be removed from pandas in a future version. Use pandas.concat instead.\n",
            "  df = df.append(table[0].dropna())\n",
            "<ipython-input-40-3bcb01c44ed2>:14: FutureWarning: The frame.append method is deprecated and will be removed from pandas in a future version. Use pandas.concat instead.\n",
            "  df = df.append(table[0].dropna())"
          ]
        },
        {
          "output_type": "stream",
          "name": "stdout",
          "text": [
            "https://finance.naver.com/sise/sise_index_day.naver?code=KOSPI&page=220\n",
            "https://finance.naver.com/sise/sise_index_day.naver?code=KOSPI&page=221\n",
            "https://finance.naver.com/sise/sise_index_day.naver?code=KOSPI&page=222\n",
            "https://finance.naver.com/sise/sise_index_day.naver?code=KOSPI&page=223"
          ]
        },
        {
          "output_type": "stream",
          "name": "stderr",
          "text": [
            "FutureWarning: The frame.append method is deprecated and will be removed from pandas in a future version. Use pandas.concat instead.\n",
            "  df = df.append(table[0].dropna())\n",
            "<ipython-input-40-3bcb01c44ed2>:14: FutureWarning: The frame.append method is deprecated and will be removed from pandas in a future version. Use pandas.concat instead.\n",
            "  df = df.append(table[0].dropna())\n",
            "<ipython-input-40-3bcb01c44ed2>:14: FutureWarning: The frame.append method is deprecated and will be removed from pandas in a future version. Use pandas.concat instead.\n",
            "  df = df.append(table[0].dropna())\n",
            "<ipython-input-40-3bcb01c44ed2>:14: FutureWarning: The frame.append method is deprecated and will be removed from pandas in a future version. Use pandas.concat instead.\n",
            "  df = df.append(table[0].dropna())"
          ]
        },
        {
          "output_type": "stream",
          "name": "stdout",
          "text": [
            "https://finance.naver.com/sise/sise_index_day.naver?code=KOSPI&page=224\n",
            "https://finance.naver.com/sise/sise_index_day.naver?code=KOSPI&page=225\n",
            "https://finance.naver.com/sise/sise_index_day.naver?code=KOSPI&page=226\n",
            "https://finance.naver.com/sise/sise_index_day.naver?code=KOSPI&page=227"
          ]
        },
        {
          "output_type": "stream",
          "name": "stderr",
          "text": [
            "FutureWarning: The frame.append method is deprecated and will be removed from pandas in a future version. Use pandas.concat instead.\n",
            "  df = df.append(table[0].dropna())\n",
            "<ipython-input-40-3bcb01c44ed2>:14: FutureWarning: The frame.append method is deprecated and will be removed from pandas in a future version. Use pandas.concat instead.\n",
            "  df = df.append(table[0].dropna())\n",
            "<ipython-input-40-3bcb01c44ed2>:14: FutureWarning: The frame.append method is deprecated and will be removed from pandas in a future version. Use pandas.concat instead.\n",
            "  df = df.append(table[0].dropna())\n",
            "<ipython-input-40-3bcb01c44ed2>:14: FutureWarning: The frame.append method is deprecated and will be removed from pandas in a future version. Use pandas.concat instead.\n",
            "  df = df.append(table[0].dropna())"
          ]
        },
        {
          "output_type": "stream",
          "name": "stdout",
          "text": [
            "https://finance.naver.com/sise/sise_index_day.naver?code=KOSPI&page=228\n",
            "https://finance.naver.com/sise/sise_index_day.naver?code=KOSPI&page=229\n",
            "https://finance.naver.com/sise/sise_index_day.naver?code=KOSPI&page=230\n",
            "https://finance.naver.com/sise/sise_index_day.naver?code=KOSPI&page=231"
          ]
        },
        {
          "output_type": "stream",
          "name": "stderr",
          "text": [
            "FutureWarning: The frame.append method is deprecated and will be removed from pandas in a future version. Use pandas.concat instead.\n",
            "  df = df.append(table[0].dropna())\n",
            "<ipython-input-40-3bcb01c44ed2>:14: FutureWarning: The frame.append method is deprecated and will be removed from pandas in a future version. Use pandas.concat instead.\n",
            "  df = df.append(table[0].dropna())\n",
            "<ipython-input-40-3bcb01c44ed2>:14: FutureWarning: The frame.append method is deprecated and will be removed from pandas in a future version. Use pandas.concat instead.\n",
            "  df = df.append(table[0].dropna())\n",
            "<ipython-input-40-3bcb01c44ed2>:14: FutureWarning: The frame.append method is deprecated and will be removed from pandas in a future version. Use pandas.concat instead.\n",
            "  df = df.append(table[0].dropna())"
          ]
        },
        {
          "output_type": "stream",
          "name": "stdout",
          "text": [
            "https://finance.naver.com/sise/sise_index_day.naver?code=KOSPI&page=232\n",
            "https://finance.naver.com/sise/sise_index_day.naver?code=KOSPI&page=233\n",
            "https://finance.naver.com/sise/sise_index_day.naver?code=KOSPI&page=234\n",
            "https://finance.naver.com/sise/sise_index_day.naver?code=KOSPI&page=235"
          ]
        },
        {
          "output_type": "stream",
          "name": "stderr",
          "text": [
            "FutureWarning: The frame.append method is deprecated and will be removed from pandas in a future version. Use pandas.concat instead.\n",
            "  df = df.append(table[0].dropna())\n",
            "<ipython-input-40-3bcb01c44ed2>:14: FutureWarning: The frame.append method is deprecated and will be removed from pandas in a future version. Use pandas.concat instead.\n",
            "  df = df.append(table[0].dropna())\n",
            "<ipython-input-40-3bcb01c44ed2>:14: FutureWarning: The frame.append method is deprecated and will be removed from pandas in a future version. Use pandas.concat instead.\n",
            "  df = df.append(table[0].dropna())\n",
            "<ipython-input-40-3bcb01c44ed2>:14: FutureWarning: The frame.append method is deprecated and will be removed from pandas in a future version. Use pandas.concat instead.\n",
            "  df = df.append(table[0].dropna())"
          ]
        },
        {
          "output_type": "stream",
          "name": "stdout",
          "text": [
            "https://finance.naver.com/sise/sise_index_day.naver?code=KOSPI&page=236\n",
            "https://finance.naver.com/sise/sise_index_day.naver?code=KOSPI&page=237\n",
            "https://finance.naver.com/sise/sise_index_day.naver?code=KOSPI&page=238\n",
            "https://finance.naver.com/sise/sise_index_day.naver?code=KOSPI&page=239"
          ]
        },
        {
          "output_type": "stream",
          "name": "stderr",
          "text": [
            "FutureWarning: The frame.append method is deprecated and will be removed from pandas in a future version. Use pandas.concat instead.\n",
            "  df = df.append(table[0].dropna())\n",
            "<ipython-input-40-3bcb01c44ed2>:14: FutureWarning: The frame.append method is deprecated and will be removed from pandas in a future version. Use pandas.concat instead.\n",
            "  df = df.append(table[0].dropna())\n",
            "<ipython-input-40-3bcb01c44ed2>:14: FutureWarning: The frame.append method is deprecated and will be removed from pandas in a future version. Use pandas.concat instead.\n",
            "  df = df.append(table[0].dropna())\n",
            "<ipython-input-40-3bcb01c44ed2>:14: FutureWarning: The frame.append method is deprecated and will be removed from pandas in a future version. Use pandas.concat instead.\n",
            "  df = df.append(table[0].dropna())"
          ]
        },
        {
          "output_type": "stream",
          "name": "stdout",
          "text": [
            "https://finance.naver.com/sise/sise_index_day.naver?code=KOSPI&page=240\n",
            "https://finance.naver.com/sise/sise_index_day.naver?code=KOSPI&page=241\n",
            "https://finance.naver.com/sise/sise_index_day.naver?code=KOSPI&page=242\n",
            "https://finance.naver.com/sise/sise_index_day.naver?code=KOSPI&page=243"
          ]
        },
        {
          "output_type": "stream",
          "name": "stderr",
          "text": [
            "FutureWarning: The frame.append method is deprecated and will be removed from pandas in a future version. Use pandas.concat instead.\n",
            "  df = df.append(table[0].dropna())\n",
            "<ipython-input-40-3bcb01c44ed2>:14: FutureWarning: The frame.append method is deprecated and will be removed from pandas in a future version. Use pandas.concat instead.\n",
            "  df = df.append(table[0].dropna())\n",
            "<ipython-input-40-3bcb01c44ed2>:14: FutureWarning: The frame.append method is deprecated and will be removed from pandas in a future version. Use pandas.concat instead.\n",
            "  df = df.append(table[0].dropna())\n",
            "<ipython-input-40-3bcb01c44ed2>:14: FutureWarning: The frame.append method is deprecated and will be removed from pandas in a future version. Use pandas.concat instead.\n",
            "  df = df.append(table[0].dropna())"
          ]
        },
        {
          "output_type": "stream",
          "name": "stdout",
          "text": [
            "https://finance.naver.com/sise/sise_index_day.naver?code=KOSPI&page=244\n",
            "https://finance.naver.com/sise/sise_index_day.naver?code=KOSPI&page=245\n",
            "https://finance.naver.com/sise/sise_index_day.naver?code=KOSPI&page=246\n",
            "https://finance.naver.com/sise/sise_index_day.naver?code=KOSPI&page=247"
          ]
        },
        {
          "output_type": "stream",
          "name": "stderr",
          "text": [
            "FutureWarning: The frame.append method is deprecated and will be removed from pandas in a future version. Use pandas.concat instead.\n",
            "  df = df.append(table[0].dropna())\n",
            "<ipython-input-40-3bcb01c44ed2>:14: FutureWarning: The frame.append method is deprecated and will be removed from pandas in a future version. Use pandas.concat instead.\n",
            "  df = df.append(table[0].dropna())\n",
            "<ipython-input-40-3bcb01c44ed2>:14: FutureWarning: The frame.append method is deprecated and will be removed from pandas in a future version. Use pandas.concat instead.\n",
            "  df = df.append(table[0].dropna())\n",
            "<ipython-input-40-3bcb01c44ed2>:14: FutureWarning: The frame.append method is deprecated and will be removed from pandas in a future version. Use pandas.concat instead.\n",
            "  df = df.append(table[0].dropna())"
          ]
        },
        {
          "output_type": "stream",
          "name": "stdout",
          "text": [
            "https://finance.naver.com/sise/sise_index_day.naver?code=KOSPI&page=248\n",
            "https://finance.naver.com/sise/sise_index_day.naver?code=KOSPI&page=249\n",
            "https://finance.naver.com/sise/sise_index_day.naver?code=KOSPI&page=250\n",
            "https://finance.naver.com/sise/sise_index_day.naver?code=KOSPI&page=251"
          ]
        },
        {
          "output_type": "stream",
          "name": "stderr",
          "text": [
            "FutureWarning: The frame.append method is deprecated and will be removed from pandas in a future version. Use pandas.concat instead.\n",
            "  df = df.append(table[0].dropna())\n",
            "<ipython-input-40-3bcb01c44ed2>:14: FutureWarning: The frame.append method is deprecated and will be removed from pandas in a future version. Use pandas.concat instead.\n",
            "  df = df.append(table[0].dropna())\n",
            "<ipython-input-40-3bcb01c44ed2>:14: FutureWarning: The frame.append method is deprecated and will be removed from pandas in a future version. Use pandas.concat instead.\n",
            "  df = df.append(table[0].dropna())\n",
            "<ipython-input-40-3bcb01c44ed2>:14: FutureWarning: The frame.append method is deprecated and will be removed from pandas in a future version. Use pandas.concat instead.\n",
            "  df = df.append(table[0].dropna())"
          ]
        },
        {
          "output_type": "stream",
          "name": "stdout",
          "text": [
            "https://finance.naver.com/sise/sise_index_day.naver?code=KOSPI&page=252\n",
            "https://finance.naver.com/sise/sise_index_day.naver?code=KOSPI&page=253\n",
            "https://finance.naver.com/sise/sise_index_day.naver?code=KOSPI&page=254\n",
            "https://finance.naver.com/sise/sise_index_day.naver?code=KOSPI&page=255"
          ]
        },
        {
          "output_type": "stream",
          "name": "stderr",
          "text": [
            "FutureWarning: The frame.append method is deprecated and will be removed from pandas in a future version. Use pandas.concat instead.\n",
            "  df = df.append(table[0].dropna())\n",
            "<ipython-input-40-3bcb01c44ed2>:14: FutureWarning: The frame.append method is deprecated and will be removed from pandas in a future version. Use pandas.concat instead.\n",
            "  df = df.append(table[0].dropna())\n",
            "<ipython-input-40-3bcb01c44ed2>:14: FutureWarning: The frame.append method is deprecated and will be removed from pandas in a future version. Use pandas.concat instead.\n",
            "  df = df.append(table[0].dropna())\n",
            "<ipython-input-40-3bcb01c44ed2>:14: FutureWarning: The frame.append method is deprecated and will be removed from pandas in a future version. Use pandas.concat instead.\n",
            "  df = df.append(table[0].dropna())"
          ]
        },
        {
          "output_type": "stream",
          "name": "stdout",
          "text": [
            "https://finance.naver.com/sise/sise_index_day.naver?code=KOSPI&page=256\n",
            "https://finance.naver.com/sise/sise_index_day.naver?code=KOSPI&page=257\n",
            "https://finance.naver.com/sise/sise_index_day.naver?code=KOSPI&page=258\n",
            "https://finance.naver.com/sise/sise_index_day.naver?code=KOSPI&page=259"
          ]
        },
        {
          "output_type": "stream",
          "name": "stderr",
          "text": [
            "FutureWarning: The frame.append method is deprecated and will be removed from pandas in a future version. Use pandas.concat instead.\n",
            "  df = df.append(table[0].dropna())\n",
            "<ipython-input-40-3bcb01c44ed2>:14: FutureWarning: The frame.append method is deprecated and will be removed from pandas in a future version. Use pandas.concat instead.\n",
            "  df = df.append(table[0].dropna())\n",
            "<ipython-input-40-3bcb01c44ed2>:14: FutureWarning: The frame.append method is deprecated and will be removed from pandas in a future version. Use pandas.concat instead.\n",
            "  df = df.append(table[0].dropna())\n",
            "<ipython-input-40-3bcb01c44ed2>:14: FutureWarning: The frame.append method is deprecated and will be removed from pandas in a future version. Use pandas.concat instead.\n",
            "  df = df.append(table[0].dropna())"
          ]
        },
        {
          "output_type": "stream",
          "name": "stdout",
          "text": [
            "https://finance.naver.com/sise/sise_index_day.naver?code=KOSPI&page=260\n",
            "https://finance.naver.com/sise/sise_index_day.naver?code=KOSPI&page=261\n",
            "https://finance.naver.com/sise/sise_index_day.naver?code=KOSPI&page=262\n",
            "https://finance.naver.com/sise/sise_index_day.naver?code=KOSPI&page=263"
          ]
        },
        {
          "output_type": "stream",
          "name": "stderr",
          "text": [
            "FutureWarning: The frame.append method is deprecated and will be removed from pandas in a future version. Use pandas.concat instead.\n",
            "  df = df.append(table[0].dropna())\n",
            "<ipython-input-40-3bcb01c44ed2>:14: FutureWarning: The frame.append method is deprecated and will be removed from pandas in a future version. Use pandas.concat instead.\n",
            "  df = df.append(table[0].dropna())\n",
            "<ipython-input-40-3bcb01c44ed2>:14: FutureWarning: The frame.append method is deprecated and will be removed from pandas in a future version. Use pandas.concat instead.\n",
            "  df = df.append(table[0].dropna())\n",
            "<ipython-input-40-3bcb01c44ed2>:14: FutureWarning: The frame.append method is deprecated and will be removed from pandas in a future version. Use pandas.concat instead.\n",
            "  df = df.append(table[0].dropna())"
          ]
        },
        {
          "output_type": "stream",
          "name": "stdout",
          "text": [
            "https://finance.naver.com/sise/sise_index_day.naver?code=KOSPI&page=264\n",
            "https://finance.naver.com/sise/sise_index_day.naver?code=KOSPI&page=265\n",
            "https://finance.naver.com/sise/sise_index_day.naver?code=KOSPI&page=266\n",
            "https://finance.naver.com/sise/sise_index_day.naver?code=KOSPI&page=267"
          ]
        },
        {
          "output_type": "stream",
          "name": "stderr",
          "text": [
            "FutureWarning: The frame.append method is deprecated and will be removed from pandas in a future version. Use pandas.concat instead.\n",
            "  df = df.append(table[0].dropna())\n",
            "<ipython-input-40-3bcb01c44ed2>:14: FutureWarning: The frame.append method is deprecated and will be removed from pandas in a future version. Use pandas.concat instead.\n",
            "  df = df.append(table[0].dropna())\n",
            "<ipython-input-40-3bcb01c44ed2>:14: FutureWarning: The frame.append method is deprecated and will be removed from pandas in a future version. Use pandas.concat instead.\n",
            "  df = df.append(table[0].dropna())\n",
            "<ipython-input-40-3bcb01c44ed2>:14: FutureWarning: The frame.append method is deprecated and will be removed from pandas in a future version. Use pandas.concat instead.\n",
            "  df = df.append(table[0].dropna())"
          ]
        },
        {
          "output_type": "stream",
          "name": "stdout",
          "text": [
            "https://finance.naver.com/sise/sise_index_day.naver?code=KOSPI&page=268\n",
            "https://finance.naver.com/sise/sise_index_day.naver?code=KOSPI&page=269\n",
            "https://finance.naver.com/sise/sise_index_day.naver?code=KOSPI&page=270\n",
            "https://finance.naver.com/sise/sise_index_day.naver?code=KOSPI&page=271"
          ]
        },
        {
          "output_type": "stream",
          "name": "stderr",
          "text": [
            "FutureWarning: The frame.append method is deprecated and will be removed from pandas in a future version. Use pandas.concat instead.\n",
            "  df = df.append(table[0].dropna())\n",
            "<ipython-input-40-3bcb01c44ed2>:14: FutureWarning: The frame.append method is deprecated and will be removed from pandas in a future version. Use pandas.concat instead.\n",
            "  df = df.append(table[0].dropna())\n",
            "<ipython-input-40-3bcb01c44ed2>:14: FutureWarning: The frame.append method is deprecated and will be removed from pandas in a future version. Use pandas.concat instead.\n",
            "  df = df.append(table[0].dropna())\n",
            "<ipython-input-40-3bcb01c44ed2>:14: FutureWarning: The frame.append method is deprecated and will be removed from pandas in a future version. Use pandas.concat instead.\n",
            "  df = df.append(table[0].dropna())"
          ]
        },
        {
          "output_type": "stream",
          "name": "stdout",
          "text": [
            "https://finance.naver.com/sise/sise_index_day.naver?code=KOSPI&page=272\n",
            "https://finance.naver.com/sise/sise_index_day.naver?code=KOSPI&page=273\n",
            "https://finance.naver.com/sise/sise_index_day.naver?code=KOSPI&page=274\n",
            "https://finance.naver.com/sise/sise_index_day.naver?code=KOSPI&page=275"
          ]
        },
        {
          "output_type": "stream",
          "name": "stderr",
          "text": [
            "FutureWarning: The frame.append method is deprecated and will be removed from pandas in a future version. Use pandas.concat instead.\n",
            "  df = df.append(table[0].dropna())\n",
            "<ipython-input-40-3bcb01c44ed2>:14: FutureWarning: The frame.append method is deprecated and will be removed from pandas in a future version. Use pandas.concat instead.\n",
            "  df = df.append(table[0].dropna())\n",
            "<ipython-input-40-3bcb01c44ed2>:14: FutureWarning: The frame.append method is deprecated and will be removed from pandas in a future version. Use pandas.concat instead.\n",
            "  df = df.append(table[0].dropna())\n",
            "<ipython-input-40-3bcb01c44ed2>:14: FutureWarning: The frame.append method is deprecated and will be removed from pandas in a future version. Use pandas.concat instead.\n",
            "  df = df.append(table[0].dropna())"
          ]
        },
        {
          "output_type": "stream",
          "name": "stdout",
          "text": [
            "https://finance.naver.com/sise/sise_index_day.naver?code=KOSPI&page=276\n",
            "https://finance.naver.com/sise/sise_index_day.naver?code=KOSPI&page=277\n",
            "https://finance.naver.com/sise/sise_index_day.naver?code=KOSPI&page=278\n",
            "https://finance.naver.com/sise/sise_index_day.naver?code=KOSPI&page=279"
          ]
        },
        {
          "output_type": "stream",
          "name": "stderr",
          "text": [
            "FutureWarning: The frame.append method is deprecated and will be removed from pandas in a future version. Use pandas.concat instead.\n",
            "  df = df.append(table[0].dropna())\n",
            "<ipython-input-40-3bcb01c44ed2>:14: FutureWarning: The frame.append method is deprecated and will be removed from pandas in a future version. Use pandas.concat instead.\n",
            "  df = df.append(table[0].dropna())\n",
            "<ipython-input-40-3bcb01c44ed2>:14: FutureWarning: The frame.append method is deprecated and will be removed from pandas in a future version. Use pandas.concat instead.\n",
            "  df = df.append(table[0].dropna())\n",
            "<ipython-input-40-3bcb01c44ed2>:14: FutureWarning: The frame.append method is deprecated and will be removed from pandas in a future version. Use pandas.concat instead.\n",
            "  df = df.append(table[0].dropna())"
          ]
        },
        {
          "output_type": "stream",
          "name": "stdout",
          "text": [
            "https://finance.naver.com/sise/sise_index_day.naver?code=KOSPI&page=280\n",
            "https://finance.naver.com/sise/sise_index_day.naver?code=KOSPI&page=281\n",
            "https://finance.naver.com/sise/sise_index_day.naver?code=KOSPI&page=282\n",
            "https://finance.naver.com/sise/sise_index_day.naver?code=KOSPI&page=283"
          ]
        },
        {
          "output_type": "stream",
          "name": "stderr",
          "text": [
            "FutureWarning: The frame.append method is deprecated and will be removed from pandas in a future version. Use pandas.concat instead.\n",
            "  df = df.append(table[0].dropna())\n",
            "<ipython-input-40-3bcb01c44ed2>:14: FutureWarning: The frame.append method is deprecated and will be removed from pandas in a future version. Use pandas.concat instead.\n",
            "  df = df.append(table[0].dropna())\n",
            "<ipython-input-40-3bcb01c44ed2>:14: FutureWarning: The frame.append method is deprecated and will be removed from pandas in a future version. Use pandas.concat instead.\n",
            "  df = df.append(table[0].dropna())\n",
            "<ipython-input-40-3bcb01c44ed2>:14: FutureWarning: The frame.append method is deprecated and will be removed from pandas in a future version. Use pandas.concat instead.\n",
            "  df = df.append(table[0].dropna())"
          ]
        },
        {
          "output_type": "stream",
          "name": "stdout",
          "text": [
            "https://finance.naver.com/sise/sise_index_day.naver?code=KOSPI&page=284\n",
            "https://finance.naver.com/sise/sise_index_day.naver?code=KOSPI&page=285\n",
            "https://finance.naver.com/sise/sise_index_day.naver?code=KOSPI&page=286\n",
            "https://finance.naver.com/sise/sise_index_day.naver?code=KOSPI&page=287"
          ]
        },
        {
          "output_type": "stream",
          "name": "stderr",
          "text": [
            "FutureWarning: The frame.append method is deprecated and will be removed from pandas in a future version. Use pandas.concat instead.\n",
            "  df = df.append(table[0].dropna())\n",
            "<ipython-input-40-3bcb01c44ed2>:14: FutureWarning: The frame.append method is deprecated and will be removed from pandas in a future version. Use pandas.concat instead.\n",
            "  df = df.append(table[0].dropna())\n",
            "<ipython-input-40-3bcb01c44ed2>:14: FutureWarning: The frame.append method is deprecated and will be removed from pandas in a future version. Use pandas.concat instead.\n",
            "  df = df.append(table[0].dropna())\n",
            "<ipython-input-40-3bcb01c44ed2>:14: FutureWarning: The frame.append method is deprecated and will be removed from pandas in a future version. Use pandas.concat instead.\n",
            "  df = df.append(table[0].dropna())"
          ]
        },
        {
          "output_type": "stream",
          "name": "stdout",
          "text": [
            "https://finance.naver.com/sise/sise_index_day.naver?code=KOSPI&page=288\n",
            "https://finance.naver.com/sise/sise_index_day.naver?code=KOSPI&page=289\n",
            "https://finance.naver.com/sise/sise_index_day.naver?code=KOSPI&page=290\n",
            "https://finance.naver.com/sise/sise_index_day.naver?code=KOSPI&page=291"
          ]
        },
        {
          "output_type": "stream",
          "name": "stderr",
          "text": [
            "FutureWarning: The frame.append method is deprecated and will be removed from pandas in a future version. Use pandas.concat instead.\n",
            "  df = df.append(table[0].dropna())\n",
            "<ipython-input-40-3bcb01c44ed2>:14: FutureWarning: The frame.append method is deprecated and will be removed from pandas in a future version. Use pandas.concat instead.\n",
            "  df = df.append(table[0].dropna())\n",
            "<ipython-input-40-3bcb01c44ed2>:14: FutureWarning: The frame.append method is deprecated and will be removed from pandas in a future version. Use pandas.concat instead.\n",
            "  df = df.append(table[0].dropna())\n",
            "<ipython-input-40-3bcb01c44ed2>:14: FutureWarning: The frame.append method is deprecated and will be removed from pandas in a future version. Use pandas.concat instead.\n",
            "  df = df.append(table[0].dropna())"
          ]
        },
        {
          "output_type": "stream",
          "name": "stdout",
          "text": [
            "https://finance.naver.com/sise/sise_index_day.naver?code=KOSPI&page=292\n",
            "https://finance.naver.com/sise/sise_index_day.naver?code=KOSPI&page=293\n",
            "https://finance.naver.com/sise/sise_index_day.naver?code=KOSPI&page=294\n",
            "https://finance.naver.com/sise/sise_index_day.naver?code=KOSPI&page=295"
          ]
        },
        {
          "output_type": "stream",
          "name": "stderr",
          "text": [
            "FutureWarning: The frame.append method is deprecated and will be removed from pandas in a future version. Use pandas.concat instead.\n",
            "  df = df.append(table[0].dropna())\n",
            "<ipython-input-40-3bcb01c44ed2>:14: FutureWarning: The frame.append method is deprecated and will be removed from pandas in a future version. Use pandas.concat instead.\n",
            "  df = df.append(table[0].dropna())\n",
            "<ipython-input-40-3bcb01c44ed2>:14: FutureWarning: The frame.append method is deprecated and will be removed from pandas in a future version. Use pandas.concat instead.\n",
            "  df = df.append(table[0].dropna())\n",
            "<ipython-input-40-3bcb01c44ed2>:14: FutureWarning: The frame.append method is deprecated and will be removed from pandas in a future version. Use pandas.concat instead.\n",
            "  df = df.append(table[0].dropna())"
          ]
        },
        {
          "output_type": "stream",
          "name": "stdout",
          "text": [
            "https://finance.naver.com/sise/sise_index_day.naver?code=KOSPI&page=296\n",
            "https://finance.naver.com/sise/sise_index_day.naver?code=KOSPI&page=297\n",
            "https://finance.naver.com/sise/sise_index_day.naver?code=KOSPI&page=298\n",
            "https://finance.naver.com/sise/sise_index_day.naver?code=KOSPI&page=299"
          ]
        },
        {
          "output_type": "stream",
          "name": "stderr",
          "text": [
            "FutureWarning: The frame.append method is deprecated and will be removed from pandas in a future version. Use pandas.concat instead.\n",
            "  df = df.append(table[0].dropna())\n",
            "<ipython-input-40-3bcb01c44ed2>:14: FutureWarning: The frame.append method is deprecated and will be removed from pandas in a future version. Use pandas.concat instead.\n",
            "  df = df.append(table[0].dropna())\n",
            "<ipython-input-40-3bcb01c44ed2>:14: FutureWarning: The frame.append method is deprecated and will be removed from pandas in a future version. Use pandas.concat instead.\n",
            "  df = df.append(table[0].dropna())\n",
            "<ipython-input-40-3bcb01c44ed2>:14: FutureWarning: The frame.append method is deprecated and will be removed from pandas in a future version. Use pandas.concat instead.\n",
            "  df = df.append(table[0].dropna())"
          ]
        },
        {
          "output_type": "stream",
          "name": "stdout",
          "text": [
            "https://finance.naver.com/sise/sise_index_day.naver?code=KOSPI&page=300\n",
            "https://finance.naver.com/sise/sise_index_day.naver?code=KOSPI&page=301\n",
            "https://finance.naver.com/sise/sise_index_day.naver?code=KOSPI&page=302\n",
            "https://finance.naver.com/sise/sise_index_day.naver?code=KOSPI&page=303"
          ]
        },
        {
          "output_type": "stream",
          "name": "stderr",
          "text": [
            "FutureWarning: The frame.append method is deprecated and will be removed from pandas in a future version. Use pandas.concat instead.\n",
            "  df = df.append(table[0].dropna())\n",
            "<ipython-input-40-3bcb01c44ed2>:14: FutureWarning: The frame.append method is deprecated and will be removed from pandas in a future version. Use pandas.concat instead.\n",
            "  df = df.append(table[0].dropna())\n",
            "<ipython-input-40-3bcb01c44ed2>:14: FutureWarning: The frame.append method is deprecated and will be removed from pandas in a future version. Use pandas.concat instead.\n",
            "  df = df.append(table[0].dropna())\n",
            "<ipython-input-40-3bcb01c44ed2>:14: FutureWarning: The frame.append method is deprecated and will be removed from pandas in a future version. Use pandas.concat instead.\n",
            "  df = df.append(table[0].dropna())"
          ]
        },
        {
          "output_type": "stream",
          "name": "stdout",
          "text": [
            "https://finance.naver.com/sise/sise_index_day.naver?code=KOSPI&page=304\n",
            "https://finance.naver.com/sise/sise_index_day.naver?code=KOSPI&page=305\n",
            "https://finance.naver.com/sise/sise_index_day.naver?code=KOSPI&page=306\n",
            "https://finance.naver.com/sise/sise_index_day.naver?code=KOSPI&page=307"
          ]
        },
        {
          "output_type": "stream",
          "name": "stderr",
          "text": [
            "FutureWarning: The frame.append method is deprecated and will be removed from pandas in a future version. Use pandas.concat instead.\n",
            "  df = df.append(table[0].dropna())\n",
            "<ipython-input-40-3bcb01c44ed2>:14: FutureWarning: The frame.append method is deprecated and will be removed from pandas in a future version. Use pandas.concat instead.\n",
            "  df = df.append(table[0].dropna())\n",
            "<ipython-input-40-3bcb01c44ed2>:14: FutureWarning: The frame.append method is deprecated and will be removed from pandas in a future version. Use pandas.concat instead.\n",
            "  df = df.append(table[0].dropna())\n",
            "<ipython-input-40-3bcb01c44ed2>:14: FutureWarning: The frame.append method is deprecated and will be removed from pandas in a future version. Use pandas.concat instead.\n",
            "  df = df.append(table[0].dropna())"
          ]
        },
        {
          "output_type": "stream",
          "name": "stdout",
          "text": [
            "https://finance.naver.com/sise/sise_index_day.naver?code=KOSPI&page=308\n",
            "https://finance.naver.com/sise/sise_index_day.naver?code=KOSPI&page=309\n",
            "https://finance.naver.com/sise/sise_index_day.naver?code=KOSPI&page=310\n",
            "https://finance.naver.com/sise/sise_index_day.naver?code=KOSPI&page=311"
          ]
        },
        {
          "output_type": "stream",
          "name": "stderr",
          "text": [
            "FutureWarning: The frame.append method is deprecated and will be removed from pandas in a future version. Use pandas.concat instead.\n",
            "  df = df.append(table[0].dropna())\n",
            "<ipython-input-40-3bcb01c44ed2>:14: FutureWarning: The frame.append method is deprecated and will be removed from pandas in a future version. Use pandas.concat instead.\n",
            "  df = df.append(table[0].dropna())\n",
            "<ipython-input-40-3bcb01c44ed2>:14: FutureWarning: The frame.append method is deprecated and will be removed from pandas in a future version. Use pandas.concat instead.\n",
            "  df = df.append(table[0].dropna())\n",
            "<ipython-input-40-3bcb01c44ed2>:14: FutureWarning: The frame.append method is deprecated and will be removed from pandas in a future version. Use pandas.concat instead.\n",
            "  df = df.append(table[0].dropna())"
          ]
        },
        {
          "output_type": "stream",
          "name": "stdout",
          "text": [
            "https://finance.naver.com/sise/sise_index_day.naver?code=KOSPI&page=312\n",
            "https://finance.naver.com/sise/sise_index_day.naver?code=KOSPI&page=313\n",
            "https://finance.naver.com/sise/sise_index_day.naver?code=KOSPI&page=314\n",
            "https://finance.naver.com/sise/sise_index_day.naver?code=KOSPI&page=315"
          ]
        },
        {
          "output_type": "stream",
          "name": "stderr",
          "text": [
            "FutureWarning: The frame.append method is deprecated and will be removed from pandas in a future version. Use pandas.concat instead.\n",
            "  df = df.append(table[0].dropna())\n",
            "<ipython-input-40-3bcb01c44ed2>:14: FutureWarning: The frame.append method is deprecated and will be removed from pandas in a future version. Use pandas.concat instead.\n",
            "  df = df.append(table[0].dropna())\n",
            "<ipython-input-40-3bcb01c44ed2>:14: FutureWarning: The frame.append method is deprecated and will be removed from pandas in a future version. Use pandas.concat instead.\n",
            "  df = df.append(table[0].dropna())\n",
            "<ipython-input-40-3bcb01c44ed2>:14: FutureWarning: The frame.append method is deprecated and will be removed from pandas in a future version. Use pandas.concat instead.\n",
            "  df = df.append(table[0].dropna())"
          ]
        },
        {
          "output_type": "stream",
          "name": "stdout",
          "text": [
            "https://finance.naver.com/sise/sise_index_day.naver?code=KOSPI&page=316\n",
            "https://finance.naver.com/sise/sise_index_day.naver?code=KOSPI&page=317\n",
            "https://finance.naver.com/sise/sise_index_day.naver?code=KOSPI&page=318\n",
            "https://finance.naver.com/sise/sise_index_day.naver?code=KOSPI&page=319"
          ]
        },
        {
          "output_type": "stream",
          "name": "stderr",
          "text": [
            "FutureWarning: The frame.append method is deprecated and will be removed from pandas in a future version. Use pandas.concat instead.\n",
            "  df = df.append(table[0].dropna())\n",
            "<ipython-input-40-3bcb01c44ed2>:14: FutureWarning: The frame.append method is deprecated and will be removed from pandas in a future version. Use pandas.concat instead.\n",
            "  df = df.append(table[0].dropna())\n",
            "<ipython-input-40-3bcb01c44ed2>:14: FutureWarning: The frame.append method is deprecated and will be removed from pandas in a future version. Use pandas.concat instead.\n",
            "  df = df.append(table[0].dropna())\n",
            "<ipython-input-40-3bcb01c44ed2>:14: FutureWarning: The frame.append method is deprecated and will be removed from pandas in a future version. Use pandas.concat instead.\n",
            "  df = df.append(table[0].dropna())"
          ]
        },
        {
          "output_type": "stream",
          "name": "stdout",
          "text": [
            "https://finance.naver.com/sise/sise_index_day.naver?code=KOSPI&page=320\n",
            "https://finance.naver.com/sise/sise_index_day.naver?code=KOSPI&page=321\n",
            "https://finance.naver.com/sise/sise_index_day.naver?code=KOSPI&page=322\n",
            "https://finance.naver.com/sise/sise_index_day.naver?code=KOSPI&page=323"
          ]
        },
        {
          "output_type": "stream",
          "name": "stderr",
          "text": [
            "FutureWarning: The frame.append method is deprecated and will be removed from pandas in a future version. Use pandas.concat instead.\n",
            "  df = df.append(table[0].dropna())\n",
            "<ipython-input-40-3bcb01c44ed2>:14: FutureWarning: The frame.append method is deprecated and will be removed from pandas in a future version. Use pandas.concat instead.\n",
            "  df = df.append(table[0].dropna())\n",
            "<ipython-input-40-3bcb01c44ed2>:14: FutureWarning: The frame.append method is deprecated and will be removed from pandas in a future version. Use pandas.concat instead.\n",
            "  df = df.append(table[0].dropna())\n",
            "<ipython-input-40-3bcb01c44ed2>:14: FutureWarning: The frame.append method is deprecated and will be removed from pandas in a future version. Use pandas.concat instead.\n",
            "  df = df.append(table[0].dropna())"
          ]
        },
        {
          "output_type": "stream",
          "name": "stdout",
          "text": [
            "https://finance.naver.com/sise/sise_index_day.naver?code=KOSPI&page=324\n",
            "https://finance.naver.com/sise/sise_index_day.naver?code=KOSPI&page=325\n",
            "https://finance.naver.com/sise/sise_index_day.naver?code=KOSPI&page=326\n",
            "https://finance.naver.com/sise/sise_index_day.naver?code=KOSPI&page=327"
          ]
        },
        {
          "output_type": "stream",
          "name": "stderr",
          "text": [
            "FutureWarning: The frame.append method is deprecated and will be removed from pandas in a future version. Use pandas.concat instead.\n",
            "  df = df.append(table[0].dropna())\n",
            "<ipython-input-40-3bcb01c44ed2>:14: FutureWarning: The frame.append method is deprecated and will be removed from pandas in a future version. Use pandas.concat instead.\n",
            "  df = df.append(table[0].dropna())\n",
            "<ipython-input-40-3bcb01c44ed2>:14: FutureWarning: The frame.append method is deprecated and will be removed from pandas in a future version. Use pandas.concat instead.\n",
            "  df = df.append(table[0].dropna())\n",
            "<ipython-input-40-3bcb01c44ed2>:14: FutureWarning: The frame.append method is deprecated and will be removed from pandas in a future version. Use pandas.concat instead.\n",
            "  df = df.append(table[0].dropna())"
          ]
        },
        {
          "output_type": "stream",
          "name": "stdout",
          "text": [
            "https://finance.naver.com/sise/sise_index_day.naver?code=KOSPI&page=328\n",
            "https://finance.naver.com/sise/sise_index_day.naver?code=KOSPI&page=329\n",
            "https://finance.naver.com/sise/sise_index_day.naver?code=KOSPI&page=330\n",
            "https://finance.naver.com/sise/sise_index_day.naver?code=KOSPI&page=331"
          ]
        },
        {
          "output_type": "stream",
          "name": "stderr",
          "text": [
            "FutureWarning: The frame.append method is deprecated and will be removed from pandas in a future version. Use pandas.concat instead.\n",
            "  df = df.append(table[0].dropna())\n",
            "<ipython-input-40-3bcb01c44ed2>:14: FutureWarning: The frame.append method is deprecated and will be removed from pandas in a future version. Use pandas.concat instead.\n",
            "  df = df.append(table[0].dropna())\n",
            "<ipython-input-40-3bcb01c44ed2>:14: FutureWarning: The frame.append method is deprecated and will be removed from pandas in a future version. Use pandas.concat instead.\n",
            "  df = df.append(table[0].dropna())\n",
            "<ipython-input-40-3bcb01c44ed2>:14: FutureWarning: The frame.append method is deprecated and will be removed from pandas in a future version. Use pandas.concat instead.\n",
            "  df = df.append(table[0].dropna())"
          ]
        },
        {
          "output_type": "stream",
          "name": "stdout",
          "text": [
            "https://finance.naver.com/sise/sise_index_day.naver?code=KOSPI&page=332\n",
            "https://finance.naver.com/sise/sise_index_day.naver?code=KOSPI&page=333\n",
            "https://finance.naver.com/sise/sise_index_day.naver?code=KOSPI&page=334\n",
            "https://finance.naver.com/sise/sise_index_day.naver?code=KOSPI&page=335"
          ]
        },
        {
          "output_type": "stream",
          "name": "stderr",
          "text": [
            "FutureWarning: The frame.append method is deprecated and will be removed from pandas in a future version. Use pandas.concat instead.\n",
            "  df = df.append(table[0].dropna())\n",
            "<ipython-input-40-3bcb01c44ed2>:14: FutureWarning: The frame.append method is deprecated and will be removed from pandas in a future version. Use pandas.concat instead.\n",
            "  df = df.append(table[0].dropna())\n",
            "<ipython-input-40-3bcb01c44ed2>:14: FutureWarning: The frame.append method is deprecated and will be removed from pandas in a future version. Use pandas.concat instead.\n",
            "  df = df.append(table[0].dropna())\n",
            "<ipython-input-40-3bcb01c44ed2>:14: FutureWarning: The frame.append method is deprecated and will be removed from pandas in a future version. Use pandas.concat instead.\n",
            "  df = df.append(table[0].dropna())"
          ]
        },
        {
          "output_type": "stream",
          "name": "stdout",
          "text": [
            "https://finance.naver.com/sise/sise_index_day.naver?code=KOSPI&page=336\n",
            "https://finance.naver.com/sise/sise_index_day.naver?code=KOSPI&page=337\n",
            "https://finance.naver.com/sise/sise_index_day.naver?code=KOSPI&page=338\n",
            "https://finance.naver.com/sise/sise_index_day.naver?code=KOSPI&page=339"
          ]
        },
        {
          "output_type": "stream",
          "name": "stderr",
          "text": [
            "FutureWarning: The frame.append method is deprecated and will be removed from pandas in a future version. Use pandas.concat instead.\n",
            "  df = df.append(table[0].dropna())\n",
            "<ipython-input-40-3bcb01c44ed2>:14: FutureWarning: The frame.append method is deprecated and will be removed from pandas in a future version. Use pandas.concat instead.\n",
            "  df = df.append(table[0].dropna())\n",
            "<ipython-input-40-3bcb01c44ed2>:14: FutureWarning: The frame.append method is deprecated and will be removed from pandas in a future version. Use pandas.concat instead.\n",
            "  df = df.append(table[0].dropna())\n",
            "<ipython-input-40-3bcb01c44ed2>:14: FutureWarning: The frame.append method is deprecated and will be removed from pandas in a future version. Use pandas.concat instead.\n",
            "  df = df.append(table[0].dropna())"
          ]
        },
        {
          "output_type": "stream",
          "name": "stdout",
          "text": [
            "https://finance.naver.com/sise/sise_index_day.naver?code=KOSPI&page=340\n",
            "https://finance.naver.com/sise/sise_index_day.naver?code=KOSPI&page=341\n",
            "https://finance.naver.com/sise/sise_index_day.naver?code=KOSPI&page=342\n",
            "https://finance.naver.com/sise/sise_index_day.naver?code=KOSPI&page=343"
          ]
        },
        {
          "output_type": "stream",
          "name": "stderr",
          "text": [
            "FutureWarning: The frame.append method is deprecated and will be removed from pandas in a future version. Use pandas.concat instead.\n",
            "  df = df.append(table[0].dropna())\n",
            "<ipython-input-40-3bcb01c44ed2>:14: FutureWarning: The frame.append method is deprecated and will be removed from pandas in a future version. Use pandas.concat instead.\n",
            "  df = df.append(table[0].dropna())"
          ]
        },
        {
          "output_type": "stream",
          "name": "stdout",
          "text": [
            "https://finance.naver.com/sise/sise_index_day.naver?code=KOSPI&page=344\n",
            "https://finance.naver.com/sise/sise_index_day.naver?code=KOSPI&page=345"
          ]
        },
        {
          "output_type": "stream",
          "name": "stderr",
          "text": [
            "FutureWarning: The frame.append method is deprecated and will be removed from pandas in a future version. Use pandas.concat instead.\n",
            "  df = df.append(table[0].dropna())\n",
            "<ipython-input-40-3bcb01c44ed2>:14: FutureWarning: The frame.append method is deprecated and will be removed from pandas in a future version. Use pandas.concat instead.\n",
            "  df = df.append(table[0].dropna())\n",
            "<ipython-input-40-3bcb01c44ed2>:14: FutureWarning: The frame.append method is deprecated and will be removed from pandas in a future version. Use pandas.concat instead.\n",
            "  df = df.append(table[0].dropna())\n",
            "<ipython-input-40-3bcb01c44ed2>:14: FutureWarning: The frame.append method is deprecated and will be removed from pandas in a future version. Use pandas.concat instead.\n",
            "  df = df.append(table[0].dropna())"
          ]
        },
        {
          "output_type": "stream",
          "name": "stdout",
          "text": [
            "https://finance.naver.com/sise/sise_index_day.naver?code=KOSPI&page=346\n",
            "https://finance.naver.com/sise/sise_index_day.naver?code=KOSPI&page=347\n",
            "https://finance.naver.com/sise/sise_index_day.naver?code=KOSPI&page=348\n",
            "https://finance.naver.com/sise/sise_index_day.naver?code=KOSPI&page=349"
          ]
        },
        {
          "output_type": "stream",
          "name": "stderr",
          "text": [
            "FutureWarning: The frame.append method is deprecated and will be removed from pandas in a future version. Use pandas.concat instead.\n",
            "  df = df.append(table[0].dropna())\n",
            "<ipython-input-40-3bcb01c44ed2>:14: FutureWarning: The frame.append method is deprecated and will be removed from pandas in a future version. Use pandas.concat instead.\n",
            "  df = df.append(table[0].dropna())\n",
            "<ipython-input-40-3bcb01c44ed2>:14: FutureWarning: The frame.append method is deprecated and will be removed from pandas in a future version. Use pandas.concat instead.\n",
            "  df = df.append(table[0].dropna())\n",
            "<ipython-input-40-3bcb01c44ed2>:14: FutureWarning: The frame.append method is deprecated and will be removed from pandas in a future version. Use pandas.concat instead.\n",
            "  df = df.append(table[0].dropna())"
          ]
        },
        {
          "output_type": "stream",
          "name": "stdout",
          "text": [
            "https://finance.naver.com/sise/sise_index_day.naver?code=KOSPI&page=350\n",
            "https://finance.naver.com/sise/sise_index_day.naver?code=KOSPI&page=351\n",
            "https://finance.naver.com/sise/sise_index_day.naver?code=KOSPI&page=352\n",
            "https://finance.naver.com/sise/sise_index_day.naver?code=KOSPI&page=353"
          ]
        },
        {
          "output_type": "stream",
          "name": "stderr",
          "text": [
            "FutureWarning: The frame.append method is deprecated and will be removed from pandas in a future version. Use pandas.concat instead.\n",
            "  df = df.append(table[0].dropna())\n",
            "<ipython-input-40-3bcb01c44ed2>:14: FutureWarning: The frame.append method is deprecated and will be removed from pandas in a future version. Use pandas.concat instead.\n",
            "  df = df.append(table[0].dropna())\n",
            "<ipython-input-40-3bcb01c44ed2>:14: FutureWarning: The frame.append method is deprecated and will be removed from pandas in a future version. Use pandas.concat instead.\n",
            "  df = df.append(table[0].dropna())\n",
            "<ipython-input-40-3bcb01c44ed2>:14: FutureWarning: The frame.append method is deprecated and will be removed from pandas in a future version. Use pandas.concat instead.\n",
            "  df = df.append(table[0].dropna())"
          ]
        },
        {
          "output_type": "stream",
          "name": "stdout",
          "text": [
            "https://finance.naver.com/sise/sise_index_day.naver?code=KOSPI&page=354\n",
            "https://finance.naver.com/sise/sise_index_day.naver?code=KOSPI&page=355\n",
            "https://finance.naver.com/sise/sise_index_day.naver?code=KOSPI&page=356\n",
            "https://finance.naver.com/sise/sise_index_day.naver?code=KOSPI&page=357"
          ]
        },
        {
          "output_type": "stream",
          "name": "stderr",
          "text": [
            "FutureWarning: The frame.append method is deprecated and will be removed from pandas in a future version. Use pandas.concat instead.\n",
            "  df = df.append(table[0].dropna())\n",
            "<ipython-input-40-3bcb01c44ed2>:14: FutureWarning: The frame.append method is deprecated and will be removed from pandas in a future version. Use pandas.concat instead.\n",
            "  df = df.append(table[0].dropna())\n",
            "<ipython-input-40-3bcb01c44ed2>:14: FutureWarning: The frame.append method is deprecated and will be removed from pandas in a future version. Use pandas.concat instead.\n",
            "  df = df.append(table[0].dropna())\n",
            "<ipython-input-40-3bcb01c44ed2>:14: FutureWarning: The frame.append method is deprecated and will be removed from pandas in a future version. Use pandas.concat instead.\n",
            "  df = df.append(table[0].dropna())"
          ]
        },
        {
          "output_type": "stream",
          "name": "stdout",
          "text": [
            "https://finance.naver.com/sise/sise_index_day.naver?code=KOSPI&page=358\n",
            "https://finance.naver.com/sise/sise_index_day.naver?code=KOSPI&page=359\n",
            "https://finance.naver.com/sise/sise_index_day.naver?code=KOSPI&page=360\n",
            "https://finance.naver.com/sise/sise_index_day.naver?code=KOSPI&page=361"
          ]
        },
        {
          "output_type": "stream",
          "name": "stderr",
          "text": [
            "FutureWarning: The frame.append method is deprecated and will be removed from pandas in a future version. Use pandas.concat instead.\n",
            "  df = df.append(table[0].dropna())\n",
            "<ipython-input-40-3bcb01c44ed2>:14: FutureWarning: The frame.append method is deprecated and will be removed from pandas in a future version. Use pandas.concat instead.\n",
            "  df = df.append(table[0].dropna())\n",
            "<ipython-input-40-3bcb01c44ed2>:14: FutureWarning: The frame.append method is deprecated and will be removed from pandas in a future version. Use pandas.concat instead.\n",
            "  df = df.append(table[0].dropna())\n",
            "<ipython-input-40-3bcb01c44ed2>:14: FutureWarning: The frame.append method is deprecated and will be removed from pandas in a future version. Use pandas.concat instead.\n",
            "  df = df.append(table[0].dropna())"
          ]
        },
        {
          "output_type": "stream",
          "name": "stdout",
          "text": [
            "https://finance.naver.com/sise/sise_index_day.naver?code=KOSPI&page=362\n",
            "https://finance.naver.com/sise/sise_index_day.naver?code=KOSPI&page=363\n",
            "https://finance.naver.com/sise/sise_index_day.naver?code=KOSPI&page=364\n",
            "https://finance.naver.com/sise/sise_index_day.naver?code=KOSPI&page=365"
          ]
        },
        {
          "output_type": "stream",
          "name": "stderr",
          "text": [
            "FutureWarning: The frame.append method is deprecated and will be removed from pandas in a future version. Use pandas.concat instead.\n",
            "  df = df.append(table[0].dropna())\n",
            "<ipython-input-40-3bcb01c44ed2>:14: FutureWarning: The frame.append method is deprecated and will be removed from pandas in a future version. Use pandas.concat instead.\n",
            "  df = df.append(table[0].dropna())\n",
            "<ipython-input-40-3bcb01c44ed2>:14: FutureWarning: The frame.append method is deprecated and will be removed from pandas in a future version. Use pandas.concat instead.\n",
            "  df = df.append(table[0].dropna())\n",
            "<ipython-input-40-3bcb01c44ed2>:14: FutureWarning: The frame.append method is deprecated and will be removed from pandas in a future version. Use pandas.concat instead.\n",
            "  df = df.append(table[0].dropna())"
          ]
        },
        {
          "output_type": "stream",
          "name": "stdout",
          "text": [
            "https://finance.naver.com/sise/sise_index_day.naver?code=KOSPI&page=366\n",
            "https://finance.naver.com/sise/sise_index_day.naver?code=KOSPI&page=367\n",
            "https://finance.naver.com/sise/sise_index_day.naver?code=KOSPI&page=368\n",
            "https://finance.naver.com/sise/sise_index_day.naver?code=KOSPI&page=369"
          ]
        },
        {
          "output_type": "stream",
          "name": "stderr",
          "text": [
            "FutureWarning: The frame.append method is deprecated and will be removed from pandas in a future version. Use pandas.concat instead.\n",
            "  df = df.append(table[0].dropna())\n",
            "<ipython-input-40-3bcb01c44ed2>:14: FutureWarning: The frame.append method is deprecated and will be removed from pandas in a future version. Use pandas.concat instead.\n",
            "  df = df.append(table[0].dropna())\n",
            "<ipython-input-40-3bcb01c44ed2>:14: FutureWarning: The frame.append method is deprecated and will be removed from pandas in a future version. Use pandas.concat instead.\n",
            "  df = df.append(table[0].dropna())\n",
            "<ipython-input-40-3bcb01c44ed2>:14: FutureWarning: The frame.append method is deprecated and will be removed from pandas in a future version. Use pandas.concat instead.\n",
            "  df = df.append(table[0].dropna())"
          ]
        },
        {
          "output_type": "stream",
          "name": "stdout",
          "text": [
            "https://finance.naver.com/sise/sise_index_day.naver?code=KOSPI&page=370\n",
            "https://finance.naver.com/sise/sise_index_day.naver?code=KOSPI&page=371\n",
            "https://finance.naver.com/sise/sise_index_day.naver?code=KOSPI&page=372\n",
            "https://finance.naver.com/sise/sise_index_day.naver?code=KOSPI&page=373"
          ]
        },
        {
          "output_type": "stream",
          "name": "stderr",
          "text": [
            "FutureWarning: The frame.append method is deprecated and will be removed from pandas in a future version. Use pandas.concat instead.\n",
            "  df = df.append(table[0].dropna())\n",
            "<ipython-input-40-3bcb01c44ed2>:14: FutureWarning: The frame.append method is deprecated and will be removed from pandas in a future version. Use pandas.concat instead.\n",
            "  df = df.append(table[0].dropna())\n",
            "<ipython-input-40-3bcb01c44ed2>:14: FutureWarning: The frame.append method is deprecated and will be removed from pandas in a future version. Use pandas.concat instead.\n",
            "  df = df.append(table[0].dropna())\n",
            "<ipython-input-40-3bcb01c44ed2>:14: FutureWarning: The frame.append method is deprecated and will be removed from pandas in a future version. Use pandas.concat instead.\n",
            "  df = df.append(table[0].dropna())"
          ]
        },
        {
          "output_type": "stream",
          "name": "stdout",
          "text": [
            "https://finance.naver.com/sise/sise_index_day.naver?code=KOSPI&page=374\n",
            "https://finance.naver.com/sise/sise_index_day.naver?code=KOSPI&page=375\n",
            "https://finance.naver.com/sise/sise_index_day.naver?code=KOSPI&page=376\n",
            "https://finance.naver.com/sise/sise_index_day.naver?code=KOSPI&page=377"
          ]
        },
        {
          "output_type": "stream",
          "name": "stderr",
          "text": [
            "FutureWarning: The frame.append method is deprecated and will be removed from pandas in a future version. Use pandas.concat instead.\n",
            "  df = df.append(table[0].dropna())\n",
            "<ipython-input-40-3bcb01c44ed2>:14: FutureWarning: The frame.append method is deprecated and will be removed from pandas in a future version. Use pandas.concat instead.\n",
            "  df = df.append(table[0].dropna())\n",
            "<ipython-input-40-3bcb01c44ed2>:14: FutureWarning: The frame.append method is deprecated and will be removed from pandas in a future version. Use pandas.concat instead.\n",
            "  df = df.append(table[0].dropna())\n",
            "<ipython-input-40-3bcb01c44ed2>:14: FutureWarning: The frame.append method is deprecated and will be removed from pandas in a future version. Use pandas.concat instead.\n",
            "  df = df.append(table[0].dropna())"
          ]
        },
        {
          "output_type": "stream",
          "name": "stdout",
          "text": [
            "https://finance.naver.com/sise/sise_index_day.naver?code=KOSPI&page=378\n",
            "https://finance.naver.com/sise/sise_index_day.naver?code=KOSPI&page=379\n",
            "https://finance.naver.com/sise/sise_index_day.naver?code=KOSPI&page=380\n",
            "https://finance.naver.com/sise/sise_index_day.naver?code=KOSPI&page=381"
          ]
        },
        {
          "output_type": "stream",
          "name": "stderr",
          "text": [
            "FutureWarning: The frame.append method is deprecated and will be removed from pandas in a future version. Use pandas.concat instead.\n",
            "  df = df.append(table[0].dropna())\n",
            "<ipython-input-40-3bcb01c44ed2>:14: FutureWarning: The frame.append method is deprecated and will be removed from pandas in a future version. Use pandas.concat instead.\n",
            "  df = df.append(table[0].dropna())\n",
            "<ipython-input-40-3bcb01c44ed2>:14: FutureWarning: The frame.append method is deprecated and will be removed from pandas in a future version. Use pandas.concat instead.\n",
            "  df = df.append(table[0].dropna())\n",
            "<ipython-input-40-3bcb01c44ed2>:14: FutureWarning: The frame.append method is deprecated and will be removed from pandas in a future version. Use pandas.concat instead.\n",
            "  df = df.append(table[0].dropna())"
          ]
        },
        {
          "output_type": "stream",
          "name": "stdout",
          "text": [
            "https://finance.naver.com/sise/sise_index_day.naver?code=KOSPI&page=382\n",
            "https://finance.naver.com/sise/sise_index_day.naver?code=KOSPI&page=383\n",
            "https://finance.naver.com/sise/sise_index_day.naver?code=KOSPI&page=384\n",
            "https://finance.naver.com/sise/sise_index_day.naver?code=KOSPI&page=385"
          ]
        },
        {
          "output_type": "stream",
          "name": "stderr",
          "text": [
            "FutureWarning: The frame.append method is deprecated and will be removed from pandas in a future version. Use pandas.concat instead.\n",
            "  df = df.append(table[0].dropna())\n",
            "<ipython-input-40-3bcb01c44ed2>:14: FutureWarning: The frame.append method is deprecated and will be removed from pandas in a future version. Use pandas.concat instead.\n",
            "  df = df.append(table[0].dropna())\n",
            "<ipython-input-40-3bcb01c44ed2>:14: FutureWarning: The frame.append method is deprecated and will be removed from pandas in a future version. Use pandas.concat instead.\n",
            "  df = df.append(table[0].dropna())\n",
            "<ipython-input-40-3bcb01c44ed2>:14: FutureWarning: The frame.append method is deprecated and will be removed from pandas in a future version. Use pandas.concat instead.\n",
            "  df = df.append(table[0].dropna())"
          ]
        },
        {
          "output_type": "stream",
          "name": "stdout",
          "text": [
            "https://finance.naver.com/sise/sise_index_day.naver?code=KOSPI&page=386\n",
            "https://finance.naver.com/sise/sise_index_day.naver?code=KOSPI&page=387\n",
            "https://finance.naver.com/sise/sise_index_day.naver?code=KOSPI&page=388\n",
            "https://finance.naver.com/sise/sise_index_day.naver?code=KOSPI&page=389"
          ]
        },
        {
          "output_type": "stream",
          "name": "stderr",
          "text": [
            "FutureWarning: The frame.append method is deprecated and will be removed from pandas in a future version. Use pandas.concat instead.\n",
            "  df = df.append(table[0].dropna())\n",
            "<ipython-input-40-3bcb01c44ed2>:14: FutureWarning: The frame.append method is deprecated and will be removed from pandas in a future version. Use pandas.concat instead.\n",
            "  df = df.append(table[0].dropna())\n",
            "<ipython-input-40-3bcb01c44ed2>:14: FutureWarning: The frame.append method is deprecated and will be removed from pandas in a future version. Use pandas.concat instead.\n",
            "  df = df.append(table[0].dropna())\n",
            "<ipython-input-40-3bcb01c44ed2>:14: FutureWarning: The frame.append method is deprecated and will be removed from pandas in a future version. Use pandas.concat instead.\n",
            "  df = df.append(table[0].dropna())"
          ]
        },
        {
          "output_type": "stream",
          "name": "stdout",
          "text": [
            "https://finance.naver.com/sise/sise_index_day.naver?code=KOSPI&page=390\n",
            "https://finance.naver.com/sise/sise_index_day.naver?code=KOSPI&page=391\n",
            "https://finance.naver.com/sise/sise_index_day.naver?code=KOSPI&page=392\n",
            "https://finance.naver.com/sise/sise_index_day.naver?code=KOSPI&page=393"
          ]
        },
        {
          "output_type": "stream",
          "name": "stderr",
          "text": [
            "FutureWarning: The frame.append method is deprecated and will be removed from pandas in a future version. Use pandas.concat instead.\n",
            "  df = df.append(table[0].dropna())\n",
            "<ipython-input-40-3bcb01c44ed2>:14: FutureWarning: The frame.append method is deprecated and will be removed from pandas in a future version. Use pandas.concat instead.\n",
            "  df = df.append(table[0].dropna())\n",
            "<ipython-input-40-3bcb01c44ed2>:14: FutureWarning: The frame.append method is deprecated and will be removed from pandas in a future version. Use pandas.concat instead.\n",
            "  df = df.append(table[0].dropna())\n",
            "<ipython-input-40-3bcb01c44ed2>:14: FutureWarning: The frame.append method is deprecated and will be removed from pandas in a future version. Use pandas.concat instead.\n",
            "  df = df.append(table[0].dropna())"
          ]
        },
        {
          "output_type": "stream",
          "name": "stdout",
          "text": [
            "https://finance.naver.com/sise/sise_index_day.naver?code=KOSPI&page=394\n",
            "https://finance.naver.com/sise/sise_index_day.naver?code=KOSPI&page=395\n",
            "https://finance.naver.com/sise/sise_index_day.naver?code=KOSPI&page=396\n",
            "https://finance.naver.com/sise/sise_index_day.naver?code=KOSPI&page=397"
          ]
        },
        {
          "output_type": "stream",
          "name": "stderr",
          "text": [
            "FutureWarning: The frame.append method is deprecated and will be removed from pandas in a future version. Use pandas.concat instead.\n",
            "  df = df.append(table[0].dropna())\n",
            "<ipython-input-40-3bcb01c44ed2>:14: FutureWarning: The frame.append method is deprecated and will be removed from pandas in a future version. Use pandas.concat instead.\n",
            "  df = df.append(table[0].dropna())\n",
            "<ipython-input-40-3bcb01c44ed2>:14: FutureWarning: The frame.append method is deprecated and will be removed from pandas in a future version. Use pandas.concat instead.\n",
            "  df = df.append(table[0].dropna())\n",
            "<ipython-input-40-3bcb01c44ed2>:14: FutureWarning: The frame.append method is deprecated and will be removed from pandas in a future version. Use pandas.concat instead.\n",
            "  df = df.append(table[0].dropna())"
          ]
        },
        {
          "output_type": "stream",
          "name": "stdout",
          "text": [
            "https://finance.naver.com/sise/sise_index_day.naver?code=KOSPI&page=398\n",
            "https://finance.naver.com/sise/sise_index_day.naver?code=KOSPI&page=399\n",
            "https://finance.naver.com/sise/sise_index_day.naver?code=KOSPI&page=400\n",
            "https://finance.naver.com/sise/sise_index_day.naver?code=KOSPI&page=401"
          ]
        },
        {
          "output_type": "stream",
          "name": "stderr",
          "text": [
            "FutureWarning: The frame.append method is deprecated and will be removed from pandas in a future version. Use pandas.concat instead.\n",
            "  df = df.append(table[0].dropna())\n",
            "<ipython-input-40-3bcb01c44ed2>:14: FutureWarning: The frame.append method is deprecated and will be removed from pandas in a future version. Use pandas.concat instead.\n",
            "  df = df.append(table[0].dropna())\n",
            "<ipython-input-40-3bcb01c44ed2>:14: FutureWarning: The frame.append method is deprecated and will be removed from pandas in a future version. Use pandas.concat instead.\n",
            "  df = df.append(table[0].dropna())\n",
            "<ipython-input-40-3bcb01c44ed2>:14: FutureWarning: The frame.append method is deprecated and will be removed from pandas in a future version. Use pandas.concat instead.\n",
            "  df = df.append(table[0].dropna())"
          ]
        },
        {
          "output_type": "stream",
          "name": "stdout",
          "text": [
            "https://finance.naver.com/sise/sise_index_day.naver?code=KOSPI&page=402\n",
            "https://finance.naver.com/sise/sise_index_day.naver?code=KOSPI&page=403\n",
            "https://finance.naver.com/sise/sise_index_day.naver?code=KOSPI&page=404\n",
            "https://finance.naver.com/sise/sise_index_day.naver?code=KOSPI&page=405"
          ]
        },
        {
          "output_type": "stream",
          "name": "stderr",
          "text": [
            "FutureWarning: The frame.append method is deprecated and will be removed from pandas in a future version. Use pandas.concat instead.\n",
            "  df = df.append(table[0].dropna())\n",
            "<ipython-input-40-3bcb01c44ed2>:14: FutureWarning: The frame.append method is deprecated and will be removed from pandas in a future version. Use pandas.concat instead.\n",
            "  df = df.append(table[0].dropna())\n",
            "<ipython-input-40-3bcb01c44ed2>:14: FutureWarning: The frame.append method is deprecated and will be removed from pandas in a future version. Use pandas.concat instead.\n",
            "  df = df.append(table[0].dropna())\n",
            "<ipython-input-40-3bcb01c44ed2>:14: FutureWarning: The frame.append method is deprecated and will be removed from pandas in a future version. Use pandas.concat instead.\n",
            "  df = df.append(table[0].dropna())"
          ]
        },
        {
          "output_type": "stream",
          "name": "stdout",
          "text": [
            "https://finance.naver.com/sise/sise_index_day.naver?code=KOSPI&page=406\n",
            "https://finance.naver.com/sise/sise_index_day.naver?code=KOSPI&page=407\n",
            "https://finance.naver.com/sise/sise_index_day.naver?code=KOSPI&page=408\n",
            "https://finance.naver.com/sise/sise_index_day.naver?code=KOSPI&page=409"
          ]
        },
        {
          "output_type": "stream",
          "name": "stderr",
          "text": [
            "FutureWarning: The frame.append method is deprecated and will be removed from pandas in a future version. Use pandas.concat instead.\n",
            "  df = df.append(table[0].dropna())\n",
            "<ipython-input-40-3bcb01c44ed2>:14: FutureWarning: The frame.append method is deprecated and will be removed from pandas in a future version. Use pandas.concat instead.\n",
            "  df = df.append(table[0].dropna())\n",
            "<ipython-input-40-3bcb01c44ed2>:14: FutureWarning: The frame.append method is deprecated and will be removed from pandas in a future version. Use pandas.concat instead.\n",
            "  df = df.append(table[0].dropna())\n",
            "<ipython-input-40-3bcb01c44ed2>:14: FutureWarning: The frame.append method is deprecated and will be removed from pandas in a future version. Use pandas.concat instead.\n",
            "  df = df.append(table[0].dropna())"
          ]
        },
        {
          "output_type": "stream",
          "name": "stdout",
          "text": [
            "https://finance.naver.com/sise/sise_index_day.naver?code=KOSPI&page=410\n",
            "https://finance.naver.com/sise/sise_index_day.naver?code=KOSPI&page=411\n",
            "https://finance.naver.com/sise/sise_index_day.naver?code=KOSPI&page=412\n",
            "https://finance.naver.com/sise/sise_index_day.naver?code=KOSPI&page=413"
          ]
        },
        {
          "output_type": "stream",
          "name": "stderr",
          "text": [
            "FutureWarning: The frame.append method is deprecated and will be removed from pandas in a future version. Use pandas.concat instead.\n",
            "  df = df.append(table[0].dropna())\n",
            "<ipython-input-40-3bcb01c44ed2>:14: FutureWarning: The frame.append method is deprecated and will be removed from pandas in a future version. Use pandas.concat instead.\n",
            "  df = df.append(table[0].dropna())\n",
            "<ipython-input-40-3bcb01c44ed2>:14: FutureWarning: The frame.append method is deprecated and will be removed from pandas in a future version. Use pandas.concat instead.\n",
            "  df = df.append(table[0].dropna())\n",
            "<ipython-input-40-3bcb01c44ed2>:14: FutureWarning: The frame.append method is deprecated and will be removed from pandas in a future version. Use pandas.concat instead.\n",
            "  df = df.append(table[0].dropna())"
          ]
        },
        {
          "output_type": "stream",
          "name": "stdout",
          "text": [
            "https://finance.naver.com/sise/sise_index_day.naver?code=KOSPI&page=414\n",
            "https://finance.naver.com/sise/sise_index_day.naver?code=KOSPI&page=415\n",
            "https://finance.naver.com/sise/sise_index_day.naver?code=KOSPI&page=416\n",
            "https://finance.naver.com/sise/sise_index_day.naver?code=KOSPI&page=417"
          ]
        },
        {
          "output_type": "stream",
          "name": "stderr",
          "text": [
            "FutureWarning: The frame.append method is deprecated and will be removed from pandas in a future version. Use pandas.concat instead.\n",
            "  df = df.append(table[0].dropna())\n",
            "<ipython-input-40-3bcb01c44ed2>:14: FutureWarning: The frame.append method is deprecated and will be removed from pandas in a future version. Use pandas.concat instead.\n",
            "  df = df.append(table[0].dropna())\n",
            "<ipython-input-40-3bcb01c44ed2>:14: FutureWarning: The frame.append method is deprecated and will be removed from pandas in a future version. Use pandas.concat instead.\n",
            "  df = df.append(table[0].dropna())\n",
            "<ipython-input-40-3bcb01c44ed2>:14: FutureWarning: The frame.append method is deprecated and will be removed from pandas in a future version. Use pandas.concat instead.\n",
            "  df = df.append(table[0].dropna())"
          ]
        },
        {
          "output_type": "stream",
          "name": "stdout",
          "text": [
            "https://finance.naver.com/sise/sise_index_day.naver?code=KOSPI&page=418\n",
            "https://finance.naver.com/sise/sise_index_day.naver?code=KOSPI&page=419\n",
            "https://finance.naver.com/sise/sise_index_day.naver?code=KOSPI&page=420\n",
            "https://finance.naver.com/sise/sise_index_day.naver?code=KOSPI&page=421"
          ]
        },
        {
          "output_type": "stream",
          "name": "stderr",
          "text": [
            "FutureWarning: The frame.append method is deprecated and will be removed from pandas in a future version. Use pandas.concat instead.\n",
            "  df = df.append(table[0].dropna())\n",
            "<ipython-input-40-3bcb01c44ed2>:14: FutureWarning: The frame.append method is deprecated and will be removed from pandas in a future version. Use pandas.concat instead.\n",
            "  df = df.append(table[0].dropna())\n",
            "<ipython-input-40-3bcb01c44ed2>:14: FutureWarning: The frame.append method is deprecated and will be removed from pandas in a future version. Use pandas.concat instead.\n",
            "  df = df.append(table[0].dropna())\n",
            "<ipython-input-40-3bcb01c44ed2>:14: FutureWarning: The frame.append method is deprecated and will be removed from pandas in a future version. Use pandas.concat instead.\n",
            "  df = df.append(table[0].dropna())"
          ]
        },
        {
          "output_type": "stream",
          "name": "stdout",
          "text": [
            "https://finance.naver.com/sise/sise_index_day.naver?code=KOSPI&page=422\n",
            "https://finance.naver.com/sise/sise_index_day.naver?code=KOSPI&page=423\n",
            "https://finance.naver.com/sise/sise_index_day.naver?code=KOSPI&page=424\n",
            "https://finance.naver.com/sise/sise_index_day.naver?code=KOSPI&page=425"
          ]
        },
        {
          "output_type": "stream",
          "name": "stderr",
          "text": [
            "FutureWarning: The frame.append method is deprecated and will be removed from pandas in a future version. Use pandas.concat instead.\n",
            "  df = df.append(table[0].dropna())\n",
            "<ipython-input-40-3bcb01c44ed2>:14: FutureWarning: The frame.append method is deprecated and will be removed from pandas in a future version. Use pandas.concat instead.\n",
            "  df = df.append(table[0].dropna())\n",
            "<ipython-input-40-3bcb01c44ed2>:14: FutureWarning: The frame.append method is deprecated and will be removed from pandas in a future version. Use pandas.concat instead.\n",
            "  df = df.append(table[0].dropna())"
          ]
        },
        {
          "output_type": "stream",
          "name": "stdout",
          "text": [
            "https://finance.naver.com/sise/sise_index_day.naver?code=KOSPI&page=426\n",
            "https://finance.naver.com/sise/sise_index_day.naver?code=KOSPI&page=427\n",
            "https://finance.naver.com/sise/sise_index_day.naver?code=KOSPI&page=428"
          ]
        },
        {
          "output_type": "stream",
          "name": "stderr",
          "text": [
            "FutureWarning: The frame.append method is deprecated and will be removed from pandas in a future version. Use pandas.concat instead.\n",
            "  df = df.append(table[0].dropna())\n",
            "<ipython-input-40-3bcb01c44ed2>:14: FutureWarning: The frame.append method is deprecated and will be removed from pandas in a future version. Use pandas.concat instead.\n",
            "  df = df.append(table[0].dropna())\n",
            "<ipython-input-40-3bcb01c44ed2>:14: FutureWarning: The frame.append method is deprecated and will be removed from pandas in a future version. Use pandas.concat instead.\n",
            "  df = df.append(table[0].dropna())\n",
            "<ipython-input-40-3bcb01c44ed2>:14: FutureWarning: The frame.append method is deprecated and will be removed from pandas in a future version. Use pandas.concat instead.\n",
            "  df = df.append(table[0].dropna())"
          ]
        },
        {
          "output_type": "stream",
          "name": "stdout",
          "text": [
            "https://finance.naver.com/sise/sise_index_day.naver?code=KOSPI&page=429\n",
            "https://finance.naver.com/sise/sise_index_day.naver?code=KOSPI&page=430\n",
            "https://finance.naver.com/sise/sise_index_day.naver?code=KOSPI&page=431\n",
            "https://finance.naver.com/sise/sise_index_day.naver?code=KOSPI&page=432"
          ]
        },
        {
          "output_type": "stream",
          "name": "stderr",
          "text": [
            "FutureWarning: The frame.append method is deprecated and will be removed from pandas in a future version. Use pandas.concat instead.\n",
            "  df = df.append(table[0].dropna())\n",
            "<ipython-input-40-3bcb01c44ed2>:14: FutureWarning: The frame.append method is deprecated and will be removed from pandas in a future version. Use pandas.concat instead.\n",
            "  df = df.append(table[0].dropna())\n",
            "<ipython-input-40-3bcb01c44ed2>:14: FutureWarning: The frame.append method is deprecated and will be removed from pandas in a future version. Use pandas.concat instead.\n",
            "  df = df.append(table[0].dropna())\n",
            "<ipython-input-40-3bcb01c44ed2>:14: FutureWarning: The frame.append method is deprecated and will be removed from pandas in a future version. Use pandas.concat instead.\n",
            "  df = df.append(table[0].dropna())"
          ]
        },
        {
          "output_type": "stream",
          "name": "stdout",
          "text": [
            "https://finance.naver.com/sise/sise_index_day.naver?code=KOSPI&page=433\n",
            "https://finance.naver.com/sise/sise_index_day.naver?code=KOSPI&page=434\n",
            "https://finance.naver.com/sise/sise_index_day.naver?code=KOSPI&page=435\n",
            "https://finance.naver.com/sise/sise_index_day.naver?code=KOSPI&page=436"
          ]
        },
        {
          "output_type": "stream",
          "name": "stderr",
          "text": [
            "FutureWarning: The frame.append method is deprecated and will be removed from pandas in a future version. Use pandas.concat instead.\n",
            "  df = df.append(table[0].dropna())\n",
            "<ipython-input-40-3bcb01c44ed2>:14: FutureWarning: The frame.append method is deprecated and will be removed from pandas in a future version. Use pandas.concat instead.\n",
            "  df = df.append(table[0].dropna())\n",
            "<ipython-input-40-3bcb01c44ed2>:14: FutureWarning: The frame.append method is deprecated and will be removed from pandas in a future version. Use pandas.concat instead.\n",
            "  df = df.append(table[0].dropna())\n",
            "<ipython-input-40-3bcb01c44ed2>:14: FutureWarning: The frame.append method is deprecated and will be removed from pandas in a future version. Use pandas.concat instead.\n",
            "  df = df.append(table[0].dropna())"
          ]
        },
        {
          "output_type": "stream",
          "name": "stdout",
          "text": [
            "https://finance.naver.com/sise/sise_index_day.naver?code=KOSPI&page=437\n",
            "https://finance.naver.com/sise/sise_index_day.naver?code=KOSPI&page=438\n",
            "https://finance.naver.com/sise/sise_index_day.naver?code=KOSPI&page=439\n",
            "https://finance.naver.com/sise/sise_index_day.naver?code=KOSPI&page=440"
          ]
        },
        {
          "output_type": "stream",
          "name": "stderr",
          "text": [
            "FutureWarning: The frame.append method is deprecated and will be removed from pandas in a future version. Use pandas.concat instead.\n",
            "  df = df.append(table[0].dropna())\n",
            "<ipython-input-40-3bcb01c44ed2>:14: FutureWarning: The frame.append method is deprecated and will be removed from pandas in a future version. Use pandas.concat instead.\n",
            "  df = df.append(table[0].dropna())\n",
            "<ipython-input-40-3bcb01c44ed2>:14: FutureWarning: The frame.append method is deprecated and will be removed from pandas in a future version. Use pandas.concat instead.\n",
            "  df = df.append(table[0].dropna())\n",
            "<ipython-input-40-3bcb01c44ed2>:14: FutureWarning: The frame.append method is deprecated and will be removed from pandas in a future version. Use pandas.concat instead.\n",
            "  df = df.append(table[0].dropna())"
          ]
        },
        {
          "output_type": "stream",
          "name": "stdout",
          "text": [
            "https://finance.naver.com/sise/sise_index_day.naver?code=KOSPI&page=441\n",
            "https://finance.naver.com/sise/sise_index_day.naver?code=KOSPI&page=442\n",
            "https://finance.naver.com/sise/sise_index_day.naver?code=KOSPI&page=443\n",
            "https://finance.naver.com/sise/sise_index_day.naver?code=KOSPI&page=444"
          ]
        },
        {
          "output_type": "stream",
          "name": "stderr",
          "text": [
            "FutureWarning: The frame.append method is deprecated and will be removed from pandas in a future version. Use pandas.concat instead.\n",
            "  df = df.append(table[0].dropna())\n",
            "<ipython-input-40-3bcb01c44ed2>:14: FutureWarning: The frame.append method is deprecated and will be removed from pandas in a future version. Use pandas.concat instead.\n",
            "  df = df.append(table[0].dropna())\n",
            "<ipython-input-40-3bcb01c44ed2>:14: FutureWarning: The frame.append method is deprecated and will be removed from pandas in a future version. Use pandas.concat instead.\n",
            "  df = df.append(table[0].dropna())\n",
            "<ipython-input-40-3bcb01c44ed2>:14: FutureWarning: The frame.append method is deprecated and will be removed from pandas in a future version. Use pandas.concat instead.\n",
            "  df = df.append(table[0].dropna())"
          ]
        },
        {
          "output_type": "stream",
          "name": "stdout",
          "text": [
            "https://finance.naver.com/sise/sise_index_day.naver?code=KOSPI&page=445\n",
            "https://finance.naver.com/sise/sise_index_day.naver?code=KOSPI&page=446\n",
            "https://finance.naver.com/sise/sise_index_day.naver?code=KOSPI&page=447\n",
            "https://finance.naver.com/sise/sise_index_day.naver?code=KOSPI&page=448"
          ]
        },
        {
          "output_type": "stream",
          "name": "stderr",
          "text": [
            "FutureWarning: The frame.append method is deprecated and will be removed from pandas in a future version. Use pandas.concat instead.\n",
            "  df = df.append(table[0].dropna())\n",
            "<ipython-input-40-3bcb01c44ed2>:14: FutureWarning: The frame.append method is deprecated and will be removed from pandas in a future version. Use pandas.concat instead.\n",
            "  df = df.append(table[0].dropna())\n",
            "<ipython-input-40-3bcb01c44ed2>:14: FutureWarning: The frame.append method is deprecated and will be removed from pandas in a future version. Use pandas.concat instead.\n",
            "  df = df.append(table[0].dropna())\n",
            "<ipython-input-40-3bcb01c44ed2>:14: FutureWarning: The frame.append method is deprecated and will be removed from pandas in a future version. Use pandas.concat instead.\n",
            "  df = df.append(table[0].dropna())"
          ]
        },
        {
          "output_type": "stream",
          "name": "stdout",
          "text": [
            "https://finance.naver.com/sise/sise_index_day.naver?code=KOSPI&page=449\n",
            "https://finance.naver.com/sise/sise_index_day.naver?code=KOSPI&page=450\n",
            "https://finance.naver.com/sise/sise_index_day.naver?code=KOSPI&page=451\n",
            "https://finance.naver.com/sise/sise_index_day.naver?code=KOSPI&page=452"
          ]
        },
        {
          "output_type": "stream",
          "name": "stderr",
          "text": [
            "FutureWarning: The frame.append method is deprecated and will be removed from pandas in a future version. Use pandas.concat instead.\n",
            "  df = df.append(table[0].dropna())\n",
            "<ipython-input-40-3bcb01c44ed2>:14: FutureWarning: The frame.append method is deprecated and will be removed from pandas in a future version. Use pandas.concat instead.\n",
            "  df = df.append(table[0].dropna())\n",
            "<ipython-input-40-3bcb01c44ed2>:14: FutureWarning: The frame.append method is deprecated and will be removed from pandas in a future version. Use pandas.concat instead.\n",
            "  df = df.append(table[0].dropna())\n",
            "<ipython-input-40-3bcb01c44ed2>:14: FutureWarning: The frame.append method is deprecated and will be removed from pandas in a future version. Use pandas.concat instead.\n",
            "  df = df.append(table[0].dropna())"
          ]
        },
        {
          "output_type": "stream",
          "name": "stdout",
          "text": [
            "https://finance.naver.com/sise/sise_index_day.naver?code=KOSPI&page=453\n",
            "https://finance.naver.com/sise/sise_index_day.naver?code=KOSPI&page=454\n",
            "https://finance.naver.com/sise/sise_index_day.naver?code=KOSPI&page=455\n",
            "https://finance.naver.com/sise/sise_index_day.naver?code=KOSPI&page=456"
          ]
        },
        {
          "output_type": "stream",
          "name": "stderr",
          "text": [
            "FutureWarning: The frame.append method is deprecated and will be removed from pandas in a future version. Use pandas.concat instead.\n",
            "  df = df.append(table[0].dropna())\n",
            "<ipython-input-40-3bcb01c44ed2>:14: FutureWarning: The frame.append method is deprecated and will be removed from pandas in a future version. Use pandas.concat instead.\n",
            "  df = df.append(table[0].dropna())\n",
            "<ipython-input-40-3bcb01c44ed2>:14: FutureWarning: The frame.append method is deprecated and will be removed from pandas in a future version. Use pandas.concat instead.\n",
            "  df = df.append(table[0].dropna())\n",
            "<ipython-input-40-3bcb01c44ed2>:14: FutureWarning: The frame.append method is deprecated and will be removed from pandas in a future version. Use pandas.concat instead.\n",
            "  df = df.append(table[0].dropna())"
          ]
        },
        {
          "output_type": "stream",
          "name": "stdout",
          "text": [
            "https://finance.naver.com/sise/sise_index_day.naver?code=KOSPI&page=457\n",
            "https://finance.naver.com/sise/sise_index_day.naver?code=KOSPI&page=458\n",
            "https://finance.naver.com/sise/sise_index_day.naver?code=KOSPI&page=459\n",
            "https://finance.naver.com/sise/sise_index_day.naver?code=KOSPI&page=460"
          ]
        },
        {
          "output_type": "stream",
          "name": "stderr",
          "text": [
            "FutureWarning: The frame.append method is deprecated and will be removed from pandas in a future version. Use pandas.concat instead.\n",
            "  df = df.append(table[0].dropna())\n",
            "<ipython-input-40-3bcb01c44ed2>:14: FutureWarning: The frame.append method is deprecated and will be removed from pandas in a future version. Use pandas.concat instead.\n",
            "  df = df.append(table[0].dropna())\n",
            "<ipython-input-40-3bcb01c44ed2>:14: FutureWarning: The frame.append method is deprecated and will be removed from pandas in a future version. Use pandas.concat instead.\n",
            "  df = df.append(table[0].dropna())\n",
            "<ipython-input-40-3bcb01c44ed2>:14: FutureWarning: The frame.append method is deprecated and will be removed from pandas in a future version. Use pandas.concat instead.\n",
            "  df = df.append(table[0].dropna())"
          ]
        },
        {
          "output_type": "stream",
          "name": "stdout",
          "text": [
            "https://finance.naver.com/sise/sise_index_day.naver?code=KOSPI&page=461\n",
            "https://finance.naver.com/sise/sise_index_day.naver?code=KOSPI&page=462\n",
            "https://finance.naver.com/sise/sise_index_day.naver?code=KOSPI&page=463\n",
            "https://finance.naver.com/sise/sise_index_day.naver?code=KOSPI&page=464"
          ]
        },
        {
          "output_type": "stream",
          "name": "stderr",
          "text": [
            "FutureWarning: The frame.append method is deprecated and will be removed from pandas in a future version. Use pandas.concat instead.\n",
            "  df = df.append(table[0].dropna())\n",
            "<ipython-input-40-3bcb01c44ed2>:14: FutureWarning: The frame.append method is deprecated and will be removed from pandas in a future version. Use pandas.concat instead.\n",
            "  df = df.append(table[0].dropna())\n",
            "<ipython-input-40-3bcb01c44ed2>:14: FutureWarning: The frame.append method is deprecated and will be removed from pandas in a future version. Use pandas.concat instead.\n",
            "  df = df.append(table[0].dropna())\n",
            "<ipython-input-40-3bcb01c44ed2>:14: FutureWarning: The frame.append method is deprecated and will be removed from pandas in a future version. Use pandas.concat instead.\n",
            "  df = df.append(table[0].dropna())"
          ]
        },
        {
          "output_type": "stream",
          "name": "stdout",
          "text": [
            "https://finance.naver.com/sise/sise_index_day.naver?code=KOSPI&page=465\n",
            "https://finance.naver.com/sise/sise_index_day.naver?code=KOSPI&page=466\n",
            "https://finance.naver.com/sise/sise_index_day.naver?code=KOSPI&page=467\n",
            "https://finance.naver.com/sise/sise_index_day.naver?code=KOSPI&page=468"
          ]
        },
        {
          "output_type": "stream",
          "name": "stderr",
          "text": [
            "FutureWarning: The frame.append method is deprecated and will be removed from pandas in a future version. Use pandas.concat instead.\n",
            "  df = df.append(table[0].dropna())\n",
            "<ipython-input-40-3bcb01c44ed2>:14: FutureWarning: The frame.append method is deprecated and will be removed from pandas in a future version. Use pandas.concat instead.\n",
            "  df = df.append(table[0].dropna())\n",
            "<ipython-input-40-3bcb01c44ed2>:14: FutureWarning: The frame.append method is deprecated and will be removed from pandas in a future version. Use pandas.concat instead.\n",
            "  df = df.append(table[0].dropna())\n",
            "<ipython-input-40-3bcb01c44ed2>:14: FutureWarning: The frame.append method is deprecated and will be removed from pandas in a future version. Use pandas.concat instead.\n",
            "  df = df.append(table[0].dropna())"
          ]
        },
        {
          "output_type": "stream",
          "name": "stdout",
          "text": [
            "https://finance.naver.com/sise/sise_index_day.naver?code=KOSPI&page=469\n",
            "https://finance.naver.com/sise/sise_index_day.naver?code=KOSPI&page=470\n",
            "https://finance.naver.com/sise/sise_index_day.naver?code=KOSPI&page=471\n",
            "https://finance.naver.com/sise/sise_index_day.naver?code=KOSPI&page=472"
          ]
        },
        {
          "output_type": "stream",
          "name": "stderr",
          "text": [
            "FutureWarning: The frame.append method is deprecated and will be removed from pandas in a future version. Use pandas.concat instead.\n",
            "  df = df.append(table[0].dropna())\n",
            "<ipython-input-40-3bcb01c44ed2>:14: FutureWarning: The frame.append method is deprecated and will be removed from pandas in a future version. Use pandas.concat instead.\n",
            "  df = df.append(table[0].dropna())\n",
            "<ipython-input-40-3bcb01c44ed2>:14: FutureWarning: The frame.append method is deprecated and will be removed from pandas in a future version. Use pandas.concat instead.\n",
            "  df = df.append(table[0].dropna())\n",
            "<ipython-input-40-3bcb01c44ed2>:14: FutureWarning: The frame.append method is deprecated and will be removed from pandas in a future version. Use pandas.concat instead.\n",
            "  df = df.append(table[0].dropna())"
          ]
        },
        {
          "output_type": "stream",
          "name": "stdout",
          "text": [
            "https://finance.naver.com/sise/sise_index_day.naver?code=KOSPI&page=473\n",
            "https://finance.naver.com/sise/sise_index_day.naver?code=KOSPI&page=474\n",
            "https://finance.naver.com/sise/sise_index_day.naver?code=KOSPI&page=475\n",
            "https://finance.naver.com/sise/sise_index_day.naver?code=KOSPI&page=476"
          ]
        },
        {
          "output_type": "stream",
          "name": "stderr",
          "text": [
            "FutureWarning: The frame.append method is deprecated and will be removed from pandas in a future version. Use pandas.concat instead.\n",
            "  df = df.append(table[0].dropna())\n",
            "<ipython-input-40-3bcb01c44ed2>:14: FutureWarning: The frame.append method is deprecated and will be removed from pandas in a future version. Use pandas.concat instead.\n",
            "  df = df.append(table[0].dropna())\n",
            "<ipython-input-40-3bcb01c44ed2>:14: FutureWarning: The frame.append method is deprecated and will be removed from pandas in a future version. Use pandas.concat instead.\n",
            "  df = df.append(table[0].dropna())\n",
            "<ipython-input-40-3bcb01c44ed2>:14: FutureWarning: The frame.append method is deprecated and will be removed from pandas in a future version. Use pandas.concat instead.\n",
            "  df = df.append(table[0].dropna())"
          ]
        },
        {
          "output_type": "stream",
          "name": "stdout",
          "text": [
            "https://finance.naver.com/sise/sise_index_day.naver?code=KOSPI&page=477\n",
            "https://finance.naver.com/sise/sise_index_day.naver?code=KOSPI&page=478\n",
            "https://finance.naver.com/sise/sise_index_day.naver?code=KOSPI&page=479\n",
            "https://finance.naver.com/sise/sise_index_day.naver?code=KOSPI&page=480"
          ]
        },
        {
          "output_type": "stream",
          "name": "stderr",
          "text": [
            "FutureWarning: The frame.append method is deprecated and will be removed from pandas in a future version. Use pandas.concat instead.\n",
            "  df = df.append(table[0].dropna())\n",
            "<ipython-input-40-3bcb01c44ed2>:14: FutureWarning: The frame.append method is deprecated and will be removed from pandas in a future version. Use pandas.concat instead.\n",
            "  df = df.append(table[0].dropna())\n",
            "<ipython-input-40-3bcb01c44ed2>:14: FutureWarning: The frame.append method is deprecated and will be removed from pandas in a future version. Use pandas.concat instead.\n",
            "  df = df.append(table[0].dropna())\n",
            "<ipython-input-40-3bcb01c44ed2>:14: FutureWarning: The frame.append method is deprecated and will be removed from pandas in a future version. Use pandas.concat instead.\n",
            "  df = df.append(table[0].dropna())"
          ]
        },
        {
          "output_type": "stream",
          "name": "stdout",
          "text": [
            "https://finance.naver.com/sise/sise_index_day.naver?code=KOSPI&page=481\n",
            "https://finance.naver.com/sise/sise_index_day.naver?code=KOSPI&page=482\n",
            "https://finance.naver.com/sise/sise_index_day.naver?code=KOSPI&page=483\n",
            "https://finance.naver.com/sise/sise_index_day.naver?code=KOSPI&page=484"
          ]
        },
        {
          "output_type": "stream",
          "name": "stderr",
          "text": [
            "FutureWarning: The frame.append method is deprecated and will be removed from pandas in a future version. Use pandas.concat instead.\n",
            "  df = df.append(table[0].dropna())\n",
            "<ipython-input-40-3bcb01c44ed2>:14: FutureWarning: The frame.append method is deprecated and will be removed from pandas in a future version. Use pandas.concat instead.\n",
            "  df = df.append(table[0].dropna())\n",
            "<ipython-input-40-3bcb01c44ed2>:14: FutureWarning: The frame.append method is deprecated and will be removed from pandas in a future version. Use pandas.concat instead.\n",
            "  df = df.append(table[0].dropna())\n",
            "<ipython-input-40-3bcb01c44ed2>:14: FutureWarning: The frame.append method is deprecated and will be removed from pandas in a future version. Use pandas.concat instead.\n",
            "  df = df.append(table[0].dropna())"
          ]
        },
        {
          "output_type": "stream",
          "name": "stdout",
          "text": [
            "https://finance.naver.com/sise/sise_index_day.naver?code=KOSPI&page=485\n",
            "https://finance.naver.com/sise/sise_index_day.naver?code=KOSPI&page=486\n",
            "https://finance.naver.com/sise/sise_index_day.naver?code=KOSPI&page=487\n",
            "https://finance.naver.com/sise/sise_index_day.naver?code=KOSPI&page=488"
          ]
        },
        {
          "output_type": "stream",
          "name": "stderr",
          "text": [
            "FutureWarning: The frame.append method is deprecated and will be removed from pandas in a future version. Use pandas.concat instead.\n",
            "  df = df.append(table[0].dropna())\n",
            "<ipython-input-40-3bcb01c44ed2>:14: FutureWarning: The frame.append method is deprecated and will be removed from pandas in a future version. Use pandas.concat instead.\n",
            "  df = df.append(table[0].dropna())\n",
            "<ipython-input-40-3bcb01c44ed2>:14: FutureWarning: The frame.append method is deprecated and will be removed from pandas in a future version. Use pandas.concat instead.\n",
            "  df = df.append(table[0].dropna())\n",
            "<ipython-input-40-3bcb01c44ed2>:14: FutureWarning: The frame.append method is deprecated and will be removed from pandas in a future version. Use pandas.concat instead.\n",
            "  df = df.append(table[0].dropna())"
          ]
        },
        {
          "output_type": "stream",
          "name": "stdout",
          "text": [
            "https://finance.naver.com/sise/sise_index_day.naver?code=KOSPI&page=489\n",
            "https://finance.naver.com/sise/sise_index_day.naver?code=KOSPI&page=490\n",
            "https://finance.naver.com/sise/sise_index_day.naver?code=KOSPI&page=491\n",
            "https://finance.naver.com/sise/sise_index_day.naver?code=KOSPI&page=492"
          ]
        },
        {
          "output_type": "stream",
          "name": "stderr",
          "text": [
            "FutureWarning: The frame.append method is deprecated and will be removed from pandas in a future version. Use pandas.concat instead.\n",
            "  df = df.append(table[0].dropna())\n",
            "<ipython-input-40-3bcb01c44ed2>:14: FutureWarning: The frame.append method is deprecated and will be removed from pandas in a future version. Use pandas.concat instead.\n",
            "  df = df.append(table[0].dropna())\n",
            "<ipython-input-40-3bcb01c44ed2>:14: FutureWarning: The frame.append method is deprecated and will be removed from pandas in a future version. Use pandas.concat instead.\n",
            "  df = df.append(table[0].dropna())\n",
            "<ipython-input-40-3bcb01c44ed2>:14: FutureWarning: The frame.append method is deprecated and will be removed from pandas in a future version. Use pandas.concat instead.\n",
            "  df = df.append(table[0].dropna())"
          ]
        },
        {
          "output_type": "stream",
          "name": "stdout",
          "text": [
            "https://finance.naver.com/sise/sise_index_day.naver?code=KOSPI&page=493\n",
            "https://finance.naver.com/sise/sise_index_day.naver?code=KOSPI&page=494\n",
            "https://finance.naver.com/sise/sise_index_day.naver?code=KOSPI&page=495\n",
            "https://finance.naver.com/sise/sise_index_day.naver?code=KOSPI&page=496\n",
            "https://finance.naver.com/sise/sise_index_day.naver?code=KOSPI&page=497\n",
            "https://finance.naver.com/sise/sise_index_day.naver?code=KOSPI&page=498\n",
            "https://finance.naver.com/sise/sise_index_day.naver?code=KOSPI&page=499"
          ]
        },
        {
          "output_type": "stream",
          "name": "stderr",
          "text": [
            "FutureWarning: The frame.append method is deprecated and will be removed from pandas in a future version. Use pandas.concat instead.\n",
            "  df = df.append(table[0].dropna())\n",
            "<ipython-input-40-3bcb01c44ed2>:14: FutureWarning: The frame.append method is deprecated and will be removed from pandas in a future version. Use pandas.concat instead.\n",
            "  df = df.append(table[0].dropna())\n",
            "<ipython-input-40-3bcb01c44ed2>:14: FutureWarning: The frame.append method is deprecated and will be removed from pandas in a future version. Use pandas.concat instead.\n",
            "  df = df.append(table[0].dropna())\n",
            "<ipython-input-40-3bcb01c44ed2>:14: FutureWarning: The frame.append method is deprecated and will be removed from pandas in a future version. Use pandas.concat instead.\n",
            "  df = df.append(table[0].dropna())"
          ]
        }
      ],
      "source": [
        "df = pd.DataFrame()\n",
        "sise_url = 'https://finance.naver.com/sise/sise_index_day.naver?code=KOSPI'  \n",
        "for page in range(1, 500):\n",
        "    page_url = '{}&page={}'.format(sise_url, page)\n",
        "    print(page_url)\n",
        "\n",
        "    # 위에서 했던 일련의 과정들을 각 url에 대해서 (99페이지에 대해서 반복)\n",
        "    response = requests.get(page_url, headers=headers)\n",
        "    html = bs(response.text, 'html.parser')\n",
        "    html_table = html.select(\"table\")\n",
        "    table = pd.read_html(str(html_table))\n",
        "\n",
        "    # 현재 얻은 데이터프레임을 기존 데이터프레임에 누적.\n",
        "    df = df.append(table[0].dropna())"
      ],
      "id": "771a1354-a1ce-4e19-ae06-d5862bb57637"
    },
    {
      "cell_type": "code",
      "execution_count": 41,
      "metadata": {},
      "outputs": [],
      "source": [
        "df"
      ],
      "id": "c4e9cdc9-ed14-4489-8c11-df0fbd9ed250"
    },
    {
      "cell_type": "code",
      "execution_count": 42,
      "metadata": {},
      "outputs": [],
      "source": [
        "df = df.dropna()\n",
        "# df = df.iloc[0:30] \n",
        "df = df.sort_values(by='날짜')\n",
        "df"
      ],
      "id": "288c8ea9-0c23-4153-9ecf-753d98a59de3"
    },
    {
      "cell_type": "code",
      "execution_count": 43,
      "metadata": {},
      "outputs": [
        {
          "output_type": "display_data",
          "metadata": {},
          "data": {
            "image/png": "[encoded data removed]"
          }
        }
      ],
      "source": [
        "plt.figure(figsize=(15, 5)) \n",
        "plt.title('Celltrion (close)')\n",
        "plt.xticks(rotation=45) \n",
        "plt.plot(df['날짜'], df['체결가'], 'co-')\n",
        "plt.grid(color='gray', linestyle='--')\n",
        "plt.show()"
      ],
      "id": "2f046ac3-fd31-4610-ad84-ca7e1ca38885"
    },
    {
      "cell_type": "code",
      "execution_count": 44,
      "metadata": {},
      "outputs": [],
      "source": [
        "df.to_csv('korea_kospi.csv')"
      ],
      "id": "28a3317e-fe85-45fc-9459-aa94f0652c02"
    },
    {
      "cell_type": "markdown",
      "metadata": {},
      "source": [
        "# US(NASDAQ)"
      ],
      "id": "cf150e83-4e33-46ac-9233-c5241427ba88"
    },
    {
      "cell_type": "code",
      "execution_count": 49,
      "metadata": {},
      "outputs": [],
      "source": [
        "url = 'https://finance.naver.com/world/sise.naver?symbol=NAS@IXIC#&page=1'"
      ],
      "id": "7cfdec71-59b0-4f02-8ca3-ba85880c68bb"
    },
    {
      "cell_type": "code",
      "execution_count": 50,
      "metadata": {},
      "outputs": [],
      "source": [
        "headers = {'user-agent': 'Mozilla/5.0 (Macintosh; Intel Mac OS X 10_15_7) AppleWebKit/537.36 (KHTML, like Gecko) Chrome/88.0.4324.96 Safari/537.36'}\n",
        "response = requests.get(url, headers=headers)"
      ],
      "id": "5a0c7905-c76d-4d92-a137-d69d19c41aa8"
    },
    {
      "cell_type": "code",
      "execution_count": 51,
      "metadata": {},
      "outputs": [],
      "source": [
        "response.text"
      ],
      "id": "fb7d2274-61bf-4c6a-ab77-f74794001574"
    },
    {
      "cell_type": "code",
      "execution_count": 52,
      "metadata": {},
      "outputs": [
        {
          "output_type": "stream",
          "name": "stdout",
          "text": [
            "파싱된 테이블의 개수 : 3"
          ]
        }
      ],
      "source": [
        "html = bs(response.text, 'html.parser')\n",
        "html_table = html.select(\"table\")\n",
        "table = pd.read_html(str(html_table))\n",
        "print('파싱된 테이블의 개수 :', len(table))"
      ],
      "id": "ea8e5ef8-a0e5-479f-ae08-eb623c32f705"
    },
    {
      "cell_type": "code",
      "execution_count": 53,
      "metadata": {},
      "outputs": [],
      "source": [
        "table[0]"
      ],
      "id": "cad7a131-f012-48b2-9409-83be87ef330d"
    },
    {
      "cell_type": "code",
      "execution_count": 54,
      "metadata": {},
      "outputs": [],
      "source": [
        "table[1]"
      ],
      "id": "c432e52c-699d-4b58-960f-2b3ed8c1152c"
    },
    {
      "cell_type": "code",
      "execution_count": 55,
      "metadata": {},
      "outputs": [],
      "source": [
        "table[2]"
      ],
      "id": "3523800c-18dc-4561-8559-543301118320"
    },
    {
      "cell_type": "code",
      "execution_count": 56,
      "metadata": {},
      "outputs": [],
      "source": [
        "table[1].dropna()"
      ],
      "id": "d31256bf-6cce-472f-91c5-672c4b658ab9"
    },
    {
      "cell_type": "code",
      "execution_count": 61,
      "metadata": {
        "scrolled": true,
        "tags": []
      },
      "outputs": [
        {
          "output_type": "stream",
          "name": "stdout",
          "text": [
            "https://finance.naver.com/world/sise.naver?symbol=NAS@IXIC#&page=1\n",
            "https://finance.naver.com/world/sise.naver?symbol=NAS@IXIC#&page=2"
          ]
        },
        {
          "output_type": "stream",
          "name": "stderr",
          "text": [
            "FutureWarning: The frame.append method is deprecated and will be removed from pandas in a future version. Use pandas.concat instead.\n",
            "  df = df.append(table[1].dropna())\n",
            "<ipython-input-61-77dee5e93da6>:14: FutureWarning: The frame.append method is deprecated and will be removed from pandas in a future version. Use pandas.concat instead.\n",
            "  df = df.append(table[1].dropna())"
          ]
        },
        {
          "output_type": "stream",
          "name": "stdout",
          "text": [
            "https://finance.naver.com/world/sise.naver?symbol=NAS@IXIC#&page=3\n",
            "https://finance.naver.com/world/sise.naver?symbol=NAS@IXIC#&page=4"
          ]
        },
        {
          "output_type": "stream",
          "name": "stderr",
          "text": [
            "FutureWarning: The frame.append method is deprecated and will be removed from pandas in a future version. Use pandas.concat instead.\n",
            "  df = df.append(table[1].dropna())\n",
            "<ipython-input-61-77dee5e93da6>:14: FutureWarning: The frame.append method is deprecated and will be removed from pandas in a future version. Use pandas.concat instead.\n",
            "  df = df.append(table[1].dropna())"
          ]
        },
        {
          "output_type": "stream",
          "name": "stdout",
          "text": [
            "https://finance.naver.com/world/sise.naver?symbol=NAS@IXIC#&page=5\n",
            "https://finance.naver.com/world/sise.naver?symbol=NAS@IXIC#&page=6"
          ]
        },
        {
          "output_type": "stream",
          "name": "stderr",
          "text": [
            "FutureWarning: The frame.append method is deprecated and will be removed from pandas in a future version. Use pandas.concat instead.\n",
            "  df = df.append(table[1].dropna())\n",
            "<ipython-input-61-77dee5e93da6>:14: FutureWarning: The frame.append method is deprecated and will be removed from pandas in a future version. Use pandas.concat instead.\n",
            "  df = df.append(table[1].dropna())"
          ]
        },
        {
          "output_type": "stream",
          "name": "stdout",
          "text": [
            "https://finance.naver.com/world/sise.naver?symbol=NAS@IXIC#&page=7\n",
            "https://finance.naver.com/world/sise.naver?symbol=NAS@IXIC#&page=8"
          ]
        },
        {
          "output_type": "stream",
          "name": "stderr",
          "text": [
            "FutureWarning: The frame.append method is deprecated and will be removed from pandas in a future version. Use pandas.concat instead.\n",
            "  df = df.append(table[1].dropna())\n",
            "<ipython-input-61-77dee5e93da6>:14: FutureWarning: The frame.append method is deprecated and will be removed from pandas in a future version. Use pandas.concat instead.\n",
            "  df = df.append(table[1].dropna())"
          ]
        },
        {
          "output_type": "stream",
          "name": "stdout",
          "text": [
            "https://finance.naver.com/world/sise.naver?symbol=NAS@IXIC#&page=9\n",
            "https://finance.naver.com/world/sise.naver?symbol=NAS@IXIC#&page=10"
          ]
        },
        {
          "output_type": "stream",
          "name": "stderr",
          "text": [
            "FutureWarning: The frame.append method is deprecated and will be removed from pandas in a future version. Use pandas.concat instead.\n",
            "  df = df.append(table[1].dropna())\n",
            "<ipython-input-61-77dee5e93da6>:14: FutureWarning: The frame.append method is deprecated and will be removed from pandas in a future version. Use pandas.concat instead.\n",
            "  df = df.append(table[1].dropna())"
          ]
        },
        {
          "output_type": "stream",
          "name": "stdout",
          "text": [
            "https://finance.naver.com/world/sise.naver?symbol=NAS@IXIC#&page=11\n",
            "https://finance.naver.com/world/sise.naver?symbol=NAS@IXIC#&page=12"
          ]
        },
        {
          "output_type": "stream",
          "name": "stderr",
          "text": [
            "FutureWarning: The frame.append method is deprecated and will be removed from pandas in a future version. Use pandas.concat instead.\n",
            "  df = df.append(table[1].dropna())\n",
            "<ipython-input-61-77dee5e93da6>:14: FutureWarning: The frame.append method is deprecated and will be removed from pandas in a future version. Use pandas.concat instead.\n",
            "  df = df.append(table[1].dropna())"
          ]
        },
        {
          "output_type": "stream",
          "name": "stdout",
          "text": [
            "https://finance.naver.com/world/sise.naver?symbol=NAS@IXIC#&page=13\n",
            "https://finance.naver.com/world/sise.naver?symbol=NAS@IXIC#&page=14"
          ]
        },
        {
          "output_type": "stream",
          "name": "stderr",
          "text": [
            "FutureWarning: The frame.append method is deprecated and will be removed from pandas in a future version. Use pandas.concat instead.\n",
            "  df = df.append(table[1].dropna())\n",
            "<ipython-input-61-77dee5e93da6>:14: FutureWarning: The frame.append method is deprecated and will be removed from pandas in a future version. Use pandas.concat instead.\n",
            "  df = df.append(table[1].dropna())"
          ]
        },
        {
          "output_type": "stream",
          "name": "stdout",
          "text": [
            "https://finance.naver.com/world/sise.naver?symbol=NAS@IXIC#&page=15\n",
            "https://finance.naver.com/world/sise.naver?symbol=NAS@IXIC#&page=16"
          ]
        },
        {
          "output_type": "stream",
          "name": "stderr",
          "text": [
            "FutureWarning: The frame.append method is deprecated and will be removed from pandas in a future version. Use pandas.concat instead.\n",
            "  df = df.append(table[1].dropna())\n",
            "<ipython-input-61-77dee5e93da6>:14: FutureWarning: The frame.append method is deprecated and will be removed from pandas in a future version. Use pandas.concat instead.\n",
            "  df = df.append(table[1].dropna())\n",
            "<ipython-input-61-77dee5e93da6>:14: FutureWarning: The frame.append method is deprecated and will be removed from pandas in a future version. Use pandas.concat instead.\n",
            "  df = df.append(table[1].dropna())"
          ]
        },
        {
          "output_type": "stream",
          "name": "stdout",
          "text": [
            "https://finance.naver.com/world/sise.naver?symbol=NAS@IXIC#&page=17\n",
            "https://finance.naver.com/world/sise.naver?symbol=NAS@IXIC#&page=18"
          ]
        },
        {
          "output_type": "stream",
          "name": "stderr",
          "text": [
            "FutureWarning: The frame.append method is deprecated and will be removed from pandas in a future version. Use pandas.concat instead.\n",
            "  df = df.append(table[1].dropna())\n",
            "<ipython-input-61-77dee5e93da6>:14: FutureWarning: The frame.append method is deprecated and will be removed from pandas in a future version. Use pandas.concat instead.\n",
            "  df = df.append(table[1].dropna())"
          ]
        },
        {
          "output_type": "stream",
          "name": "stdout",
          "text": [
            "https://finance.naver.com/world/sise.naver?symbol=NAS@IXIC#&page=19\n",
            "https://finance.naver.com/world/sise.naver?symbol=NAS@IXIC#&page=20"
          ]
        },
        {
          "output_type": "stream",
          "name": "stderr",
          "text": [
            "FutureWarning: The frame.append method is deprecated and will be removed from pandas in a future version. Use pandas.concat instead.\n",
            "  df = df.append(table[1].dropna())\n",
            "<ipython-input-61-77dee5e93da6>:14: FutureWarning: The frame.append method is deprecated and will be removed from pandas in a future version. Use pandas.concat instead.\n",
            "  df = df.append(table[1].dropna())"
          ]
        },
        {
          "output_type": "stream",
          "name": "stdout",
          "text": [
            "https://finance.naver.com/world/sise.naver?symbol=NAS@IXIC#&page=21\n",
            "https://finance.naver.com/world/sise.naver?symbol=NAS@IXIC#&page=22"
          ]
        },
        {
          "output_type": "stream",
          "name": "stderr",
          "text": [
            "FutureWarning: The frame.append method is deprecated and will be removed from pandas in a future version. Use pandas.concat instead.\n",
            "  df = df.append(table[1].dropna())"
          ]
        },
        {
          "output_type": "stream",
          "name": "stdout",
          "text": [
            "https://finance.naver.com/world/sise.naver?symbol=NAS@IXIC#&page=23"
          ]
        },
        {
          "output_type": "stream",
          "name": "stderr",
          "text": [
            "FutureWarning: The frame.append method is deprecated and will be removed from pandas in a future version. Use pandas.concat instead.\n",
            "  df = df.append(table[1].dropna())"
          ]
        },
        {
          "output_type": "stream",
          "name": "stdout",
          "text": [
            "https://finance.naver.com/world/sise.naver?symbol=NAS@IXIC#&page=24"
          ]
        },
        {
          "output_type": "stream",
          "name": "stderr",
          "text": [
            "FutureWarning: The frame.append method is deprecated and will be removed from pandas in a future version. Use pandas.concat instead.\n",
            "  df = df.append(table[1].dropna())\n",
            "<ipython-input-61-77dee5e93da6>:14: FutureWarning: The frame.append method is deprecated and will be removed from pandas in a future version. Use pandas.concat instead.\n",
            "  df = df.append(table[1].dropna())"
          ]
        },
        {
          "output_type": "stream",
          "name": "stdout",
          "text": [
            "https://finance.naver.com/world/sise.naver?symbol=NAS@IXIC#&page=25\n",
            "https://finance.naver.com/world/sise.naver?symbol=NAS@IXIC#&page=26"
          ]
        },
        {
          "output_type": "stream",
          "name": "stderr",
          "text": [
            "FutureWarning: The frame.append method is deprecated and will be removed from pandas in a future version. Use pandas.concat instead.\n",
            "  df = df.append(table[1].dropna())\n",
            "<ipython-input-61-77dee5e93da6>:14: FutureWarning: The frame.append method is deprecated and will be removed from pandas in a future version. Use pandas.concat instead.\n",
            "  df = df.append(table[1].dropna())"
          ]
        },
        {
          "output_type": "stream",
          "name": "stdout",
          "text": [
            "https://finance.naver.com/world/sise.naver?symbol=NAS@IXIC#&page=27\n",
            "https://finance.naver.com/world/sise.naver?symbol=NAS@IXIC#&page=28"
          ]
        },
        {
          "output_type": "stream",
          "name": "stderr",
          "text": [
            "FutureWarning: The frame.append method is deprecated and will be removed from pandas in a future version. Use pandas.concat instead.\n",
            "  df = df.append(table[1].dropna())\n",
            "<ipython-input-61-77dee5e93da6>:14: FutureWarning: The frame.append method is deprecated and will be removed from pandas in a future version. Use pandas.concat instead.\n",
            "  df = df.append(table[1].dropna())"
          ]
        },
        {
          "output_type": "stream",
          "name": "stdout",
          "text": [
            "https://finance.naver.com/world/sise.naver?symbol=NAS@IXIC#&page=29\n",
            "https://finance.naver.com/world/sise.naver?symbol=NAS@IXIC#&page=30"
          ]
        },
        {
          "output_type": "stream",
          "name": "stderr",
          "text": [
            "FutureWarning: The frame.append method is deprecated and will be removed from pandas in a future version. Use pandas.concat instead.\n",
            "  df = df.append(table[1].dropna())"
          ]
        },
        {
          "output_type": "stream",
          "name": "stdout",
          "text": [
            "https://finance.naver.com/world/sise.naver?symbol=NAS@IXIC#&page=31"
          ]
        },
        {
          "output_type": "stream",
          "name": "stderr",
          "text": [
            "FutureWarning: The frame.append method is deprecated and will be removed from pandas in a future version. Use pandas.concat instead.\n",
            "  df = df.append(table[1].dropna())\n",
            "<ipython-input-61-77dee5e93da6>:14: FutureWarning: The frame.append method is deprecated and will be removed from pandas in a future version. Use pandas.concat instead.\n",
            "  df = df.append(table[1].dropna())"
          ]
        },
        {
          "output_type": "stream",
          "name": "stdout",
          "text": [
            "https://finance.naver.com/world/sise.naver?symbol=NAS@IXIC#&page=32\n",
            "https://finance.naver.com/world/sise.naver?symbol=NAS@IXIC#&page=33"
          ]
        },
        {
          "output_type": "stream",
          "name": "stderr",
          "text": [
            "FutureWarning: The frame.append method is deprecated and will be removed from pandas in a future version. Use pandas.concat instead.\n",
            "  df = df.append(table[1].dropna())\n",
            "<ipython-input-61-77dee5e93da6>:14: FutureWarning: The frame.append method is deprecated and will be removed from pandas in a future version. Use pandas.concat instead.\n",
            "  df = df.append(table[1].dropna())"
          ]
        },
        {
          "output_type": "stream",
          "name": "stdout",
          "text": [
            "https://finance.naver.com/world/sise.naver?symbol=NAS@IXIC#&page=34\n",
            "https://finance.naver.com/world/sise.naver?symbol=NAS@IXIC#&page=35"
          ]
        },
        {
          "output_type": "stream",
          "name": "stderr",
          "text": [
            "FutureWarning: The frame.append method is deprecated and will be removed from pandas in a future version. Use pandas.concat instead.\n",
            "  df = df.append(table[1].dropna())\n",
            "<ipython-input-61-77dee5e93da6>:14: FutureWarning: The frame.append method is deprecated and will be removed from pandas in a future version. Use pandas.concat instead.\n",
            "  df = df.append(table[1].dropna())"
          ]
        },
        {
          "output_type": "stream",
          "name": "stdout",
          "text": [
            "https://finance.naver.com/world/sise.naver?symbol=NAS@IXIC#&page=36\n",
            "https://finance.naver.com/world/sise.naver?symbol=NAS@IXIC#&page=37"
          ]
        },
        {
          "output_type": "stream",
          "name": "stderr",
          "text": [
            "FutureWarning: The frame.append method is deprecated and will be removed from pandas in a future version. Use pandas.concat instead.\n",
            "  df = df.append(table[1].dropna())\n",
            "<ipython-input-61-77dee5e93da6>:14: FutureWarning: The frame.append method is deprecated and will be removed from pandas in a future version. Use pandas.concat instead.\n",
            "  df = df.append(table[1].dropna())"
          ]
        },
        {
          "output_type": "stream",
          "name": "stdout",
          "text": [
            "https://finance.naver.com/world/sise.naver?symbol=NAS@IXIC#&page=38\n",
            "https://finance.naver.com/world/sise.naver?symbol=NAS@IXIC#&page=39"
          ]
        },
        {
          "output_type": "stream",
          "name": "stderr",
          "text": [
            "FutureWarning: The frame.append method is deprecated and will be removed from pandas in a future version. Use pandas.concat instead.\n",
            "  df = df.append(table[1].dropna())\n",
            "<ipython-input-61-77dee5e93da6>:14: FutureWarning: The frame.append method is deprecated and will be removed from pandas in a future version. Use pandas.concat instead.\n",
            "  df = df.append(table[1].dropna())"
          ]
        },
        {
          "output_type": "stream",
          "name": "stdout",
          "text": [
            "https://finance.naver.com/world/sise.naver?symbol=NAS@IXIC#&page=40\n",
            "https://finance.naver.com/world/sise.naver?symbol=NAS@IXIC#&page=41"
          ]
        },
        {
          "output_type": "stream",
          "name": "stderr",
          "text": [
            "FutureWarning: The frame.append method is deprecated and will be removed from pandas in a future version. Use pandas.concat instead.\n",
            "  df = df.append(table[1].dropna())\n",
            "<ipython-input-61-77dee5e93da6>:14: FutureWarning: The frame.append method is deprecated and will be removed from pandas in a future version. Use pandas.concat instead.\n",
            "  df = df.append(table[1].dropna())"
          ]
        },
        {
          "output_type": "stream",
          "name": "stdout",
          "text": [
            "https://finance.naver.com/world/sise.naver?symbol=NAS@IXIC#&page=42\n",
            "https://finance.naver.com/world/sise.naver?symbol=NAS@IXIC#&page=43"
          ]
        },
        {
          "output_type": "stream",
          "name": "stderr",
          "text": [
            "FutureWarning: The frame.append method is deprecated and will be removed from pandas in a future version. Use pandas.concat instead.\n",
            "  df = df.append(table[1].dropna())\n",
            "<ipython-input-61-77dee5e93da6>:14: FutureWarning: The frame.append method is deprecated and will be removed from pandas in a future version. Use pandas.concat instead.\n",
            "  df = df.append(table[1].dropna())"
          ]
        },
        {
          "output_type": "stream",
          "name": "stdout",
          "text": [
            "https://finance.naver.com/world/sise.naver?symbol=NAS@IXIC#&page=44\n",
            "https://finance.naver.com/world/sise.naver?symbol=NAS@IXIC#&page=45"
          ]
        },
        {
          "output_type": "stream",
          "name": "stderr",
          "text": [
            "FutureWarning: The frame.append method is deprecated and will be removed from pandas in a future version. Use pandas.concat instead.\n",
            "  df = df.append(table[1].dropna())\n",
            "<ipython-input-61-77dee5e93da6>:14: FutureWarning: The frame.append method is deprecated and will be removed from pandas in a future version. Use pandas.concat instead.\n",
            "  df = df.append(table[1].dropna())"
          ]
        },
        {
          "output_type": "stream",
          "name": "stdout",
          "text": [
            "https://finance.naver.com/world/sise.naver?symbol=NAS@IXIC#&page=46\n",
            "https://finance.naver.com/world/sise.naver?symbol=NAS@IXIC#&page=47"
          ]
        },
        {
          "output_type": "stream",
          "name": "stderr",
          "text": [
            "FutureWarning: The frame.append method is deprecated and will be removed from pandas in a future version. Use pandas.concat instead.\n",
            "  df = df.append(table[1].dropna())\n",
            "<ipython-input-61-77dee5e93da6>:14: FutureWarning: The frame.append method is deprecated and will be removed from pandas in a future version. Use pandas.concat instead.\n",
            "  df = df.append(table[1].dropna())"
          ]
        },
        {
          "output_type": "stream",
          "name": "stdout",
          "text": [
            "https://finance.naver.com/world/sise.naver?symbol=NAS@IXIC#&page=48\n",
            "https://finance.naver.com/world/sise.naver?symbol=NAS@IXIC#&page=49"
          ]
        },
        {
          "output_type": "stream",
          "name": "stderr",
          "text": [
            "FutureWarning: The frame.append method is deprecated and will be removed from pandas in a future version. Use pandas.concat instead.\n",
            "  df = df.append(table[1].dropna())\n",
            "<ipython-input-61-77dee5e93da6>:14: FutureWarning: The frame.append method is deprecated and will be removed from pandas in a future version. Use pandas.concat instead.\n",
            "  df = df.append(table[1].dropna())"
          ]
        },
        {
          "output_type": "stream",
          "name": "stdout",
          "text": [
            "https://finance.naver.com/world/sise.naver?symbol=NAS@IXIC#&page=50\n",
            "https://finance.naver.com/world/sise.naver?symbol=NAS@IXIC#&page=51"
          ]
        },
        {
          "output_type": "stream",
          "name": "stderr",
          "text": [
            "FutureWarning: The frame.append method is deprecated and will be removed from pandas in a future version. Use pandas.concat instead.\n",
            "  df = df.append(table[1].dropna())\n",
            "<ipython-input-61-77dee5e93da6>:14: FutureWarning: The frame.append method is deprecated and will be removed from pandas in a future version. Use pandas.concat instead.\n",
            "  df = df.append(table[1].dropna())"
          ]
        },
        {
          "output_type": "stream",
          "name": "stdout",
          "text": [
            "https://finance.naver.com/world/sise.naver?symbol=NAS@IXIC#&page=52\n",
            "https://finance.naver.com/world/sise.naver?symbol=NAS@IXIC#&page=53"
          ]
        },
        {
          "output_type": "stream",
          "name": "stderr",
          "text": [
            "FutureWarning: The frame.append method is deprecated and will be removed from pandas in a future version. Use pandas.concat instead.\n",
            "  df = df.append(table[1].dropna())\n",
            "<ipython-input-61-77dee5e93da6>:14: FutureWarning: The frame.append method is deprecated and will be removed from pandas in a future version. Use pandas.concat instead.\n",
            "  df = df.append(table[1].dropna())"
          ]
        },
        {
          "output_type": "stream",
          "name": "stdout",
          "text": [
            "https://finance.naver.com/world/sise.naver?symbol=NAS@IXIC#&page=54\n",
            "https://finance.naver.com/world/sise.naver?symbol=NAS@IXIC#&page=55"
          ]
        },
        {
          "output_type": "stream",
          "name": "stderr",
          "text": [
            "FutureWarning: The frame.append method is deprecated and will be removed from pandas in a future version. Use pandas.concat instead.\n",
            "  df = df.append(table[1].dropna())\n",
            "<ipython-input-61-77dee5e93da6>:14: FutureWarning: The frame.append method is deprecated and will be removed from pandas in a future version. Use pandas.concat instead.\n",
            "  df = df.append(table[1].dropna())"
          ]
        },
        {
          "output_type": "stream",
          "name": "stdout",
          "text": [
            "https://finance.naver.com/world/sise.naver?symbol=NAS@IXIC#&page=56\n",
            "https://finance.naver.com/world/sise.naver?symbol=NAS@IXIC#&page=57"
          ]
        },
        {
          "output_type": "stream",
          "name": "stderr",
          "text": [
            "FutureWarning: The frame.append method is deprecated and will be removed from pandas in a future version. Use pandas.concat instead.\n",
            "  df = df.append(table[1].dropna())\n",
            "<ipython-input-61-77dee5e93da6>:14: FutureWarning: The frame.append method is deprecated and will be removed from pandas in a future version. Use pandas.concat instead.\n",
            "  df = df.append(table[1].dropna())"
          ]
        },
        {
          "output_type": "stream",
          "name": "stdout",
          "text": [
            "https://finance.naver.com/world/sise.naver?symbol=NAS@IXIC#&page=58\n",
            "https://finance.naver.com/world/sise.naver?symbol=NAS@IXIC#&page=59"
          ]
        },
        {
          "output_type": "stream",
          "name": "stderr",
          "text": [
            "FutureWarning: The frame.append method is deprecated and will be removed from pandas in a future version. Use pandas.concat instead.\n",
            "  df = df.append(table[1].dropna())\n",
            "<ipython-input-61-77dee5e93da6>:14: FutureWarning: The frame.append method is deprecated and will be removed from pandas in a future version. Use pandas.concat instead.\n",
            "  df = df.append(table[1].dropna())"
          ]
        },
        {
          "output_type": "stream",
          "name": "stdout",
          "text": [
            "https://finance.naver.com/world/sise.naver?symbol=NAS@IXIC#&page=60\n",
            "https://finance.naver.com/world/sise.naver?symbol=NAS@IXIC#&page=61"
          ]
        },
        {
          "output_type": "stream",
          "name": "stderr",
          "text": [
            "FutureWarning: The frame.append method is deprecated and will be removed from pandas in a future version. Use pandas.concat instead.\n",
            "  df = df.append(table[1].dropna())\n",
            "<ipython-input-61-77dee5e93da6>:14: FutureWarning: The frame.append method is deprecated and will be removed from pandas in a future version. Use pandas.concat instead.\n",
            "  df = df.append(table[1].dropna())"
          ]
        },
        {
          "output_type": "stream",
          "name": "stdout",
          "text": [
            "https://finance.naver.com/world/sise.naver?symbol=NAS@IXIC#&page=62\n",
            "https://finance.naver.com/world/sise.naver?symbol=NAS@IXIC#&page=63"
          ]
        },
        {
          "output_type": "stream",
          "name": "stderr",
          "text": [
            "FutureWarning: The frame.append method is deprecated and will be removed from pandas in a future version. Use pandas.concat instead.\n",
            "  df = df.append(table[1].dropna())\n",
            "<ipython-input-61-77dee5e93da6>:14: FutureWarning: The frame.append method is deprecated and will be removed from pandas in a future version. Use pandas.concat instead.\n",
            "  df = df.append(table[1].dropna())"
          ]
        },
        {
          "output_type": "stream",
          "name": "stdout",
          "text": [
            "https://finance.naver.com/world/sise.naver?symbol=NAS@IXIC#&page=64\n",
            "https://finance.naver.com/world/sise.naver?symbol=NAS@IXIC#&page=65"
          ]
        },
        {
          "output_type": "stream",
          "name": "stderr",
          "text": [
            "FutureWarning: The frame.append method is deprecated and will be removed from pandas in a future version. Use pandas.concat instead.\n",
            "  df = df.append(table[1].dropna())\n",
            "<ipython-input-61-77dee5e93da6>:14: FutureWarning: The frame.append method is deprecated and will be removed from pandas in a future version. Use pandas.concat instead.\n",
            "  df = df.append(table[1].dropna())"
          ]
        },
        {
          "output_type": "stream",
          "name": "stdout",
          "text": [
            "https://finance.naver.com/world/sise.naver?symbol=NAS@IXIC#&page=66\n",
            "https://finance.naver.com/world/sise.naver?symbol=NAS@IXIC#&page=67"
          ]
        },
        {
          "output_type": "stream",
          "name": "stderr",
          "text": [
            "FutureWarning: The frame.append method is deprecated and will be removed from pandas in a future version. Use pandas.concat instead.\n",
            "  df = df.append(table[1].dropna())\n",
            "<ipython-input-61-77dee5e93da6>:14: FutureWarning: The frame.append method is deprecated and will be removed from pandas in a future version. Use pandas.concat instead.\n",
            "  df = df.append(table[1].dropna())"
          ]
        },
        {
          "output_type": "stream",
          "name": "stdout",
          "text": [
            "https://finance.naver.com/world/sise.naver?symbol=NAS@IXIC#&page=68\n",
            "https://finance.naver.com/world/sise.naver?symbol=NAS@IXIC#&page=69"
          ]
        },
        {
          "output_type": "stream",
          "name": "stderr",
          "text": [
            "FutureWarning: The frame.append method is deprecated and will be removed from pandas in a future version. Use pandas.concat instead.\n",
            "  df = df.append(table[1].dropna())\n",
            "<ipython-input-61-77dee5e93da6>:14: FutureWarning: The frame.append method is deprecated and will be removed from pandas in a future version. Use pandas.concat instead.\n",
            "  df = df.append(table[1].dropna())"
          ]
        },
        {
          "output_type": "stream",
          "name": "stdout",
          "text": [
            "https://finance.naver.com/world/sise.naver?symbol=NAS@IXIC#&page=70\n",
            "https://finance.naver.com/world/sise.naver?symbol=NAS@IXIC#&page=71"
          ]
        },
        {
          "output_type": "stream",
          "name": "stderr",
          "text": [
            "FutureWarning: The frame.append method is deprecated and will be removed from pandas in a future version. Use pandas.concat instead.\n",
            "  df = df.append(table[1].dropna())\n",
            "<ipython-input-61-77dee5e93da6>:14: FutureWarning: The frame.append method is deprecated and will be removed from pandas in a future version. Use pandas.concat instead.\n",
            "  df = df.append(table[1].dropna())"
          ]
        },
        {
          "output_type": "stream",
          "name": "stdout",
          "text": [
            "https://finance.naver.com/world/sise.naver?symbol=NAS@IXIC#&page=72\n",
            "https://finance.naver.com/world/sise.naver?symbol=NAS@IXIC#&page=73"
          ]
        },
        {
          "output_type": "stream",
          "name": "stderr",
          "text": [
            "FutureWarning: The frame.append method is deprecated and will be removed from pandas in a future version. Use pandas.concat instead.\n",
            "  df = df.append(table[1].dropna())\n",
            "<ipython-input-61-77dee5e93da6>:14: FutureWarning: The frame.append method is deprecated and will be removed from pandas in a future version. Use pandas.concat instead.\n",
            "  df = df.append(table[1].dropna())"
          ]
        },
        {
          "output_type": "stream",
          "name": "stdout",
          "text": [
            "https://finance.naver.com/world/sise.naver?symbol=NAS@IXIC#&page=74\n",
            "https://finance.naver.com/world/sise.naver?symbol=NAS@IXIC#&page=75"
          ]
        },
        {
          "output_type": "stream",
          "name": "stderr",
          "text": [
            "FutureWarning: The frame.append method is deprecated and will be removed from pandas in a future version. Use pandas.concat instead.\n",
            "  df = df.append(table[1].dropna())\n",
            "<ipython-input-61-77dee5e93da6>:14: FutureWarning: The frame.append method is deprecated and will be removed from pandas in a future version. Use pandas.concat instead.\n",
            "  df = df.append(table[1].dropna())"
          ]
        },
        {
          "output_type": "stream",
          "name": "stdout",
          "text": [
            "https://finance.naver.com/world/sise.naver?symbol=NAS@IXIC#&page=76\n",
            "https://finance.naver.com/world/sise.naver?symbol=NAS@IXIC#&page=77"
          ]
        },
        {
          "output_type": "stream",
          "name": "stderr",
          "text": [
            "FutureWarning: The frame.append method is deprecated and will be removed from pandas in a future version. Use pandas.concat instead.\n",
            "  df = df.append(table[1].dropna())\n",
            "<ipython-input-61-77dee5e93da6>:14: FutureWarning: The frame.append method is deprecated and will be removed from pandas in a future version. Use pandas.concat instead.\n",
            "  df = df.append(table[1].dropna())"
          ]
        },
        {
          "output_type": "stream",
          "name": "stdout",
          "text": [
            "https://finance.naver.com/world/sise.naver?symbol=NAS@IXIC#&page=78\n",
            "https://finance.naver.com/world/sise.naver?symbol=NAS@IXIC#&page=79"
          ]
        },
        {
          "output_type": "stream",
          "name": "stderr",
          "text": [
            "FutureWarning: The frame.append method is deprecated and will be removed from pandas in a future version. Use pandas.concat instead.\n",
            "  df = df.append(table[1].dropna())\n",
            "<ipython-input-61-77dee5e93da6>:14: FutureWarning: The frame.append method is deprecated and will be removed from pandas in a future version. Use pandas.concat instead.\n",
            "  df = df.append(table[1].dropna())"
          ]
        },
        {
          "output_type": "stream",
          "name": "stdout",
          "text": [
            "https://finance.naver.com/world/sise.naver?symbol=NAS@IXIC#&page=80\n",
            "https://finance.naver.com/world/sise.naver?symbol=NAS@IXIC#&page=81"
          ]
        },
        {
          "output_type": "stream",
          "name": "stderr",
          "text": [
            "FutureWarning: The frame.append method is deprecated and will be removed from pandas in a future version. Use pandas.concat instead.\n",
            "  df = df.append(table[1].dropna())\n",
            "<ipython-input-61-77dee5e93da6>:14: FutureWarning: The frame.append method is deprecated and will be removed from pandas in a future version. Use pandas.concat instead.\n",
            "  df = df.append(table[1].dropna())"
          ]
        },
        {
          "output_type": "stream",
          "name": "stdout",
          "text": [
            "https://finance.naver.com/world/sise.naver?symbol=NAS@IXIC#&page=82\n",
            "https://finance.naver.com/world/sise.naver?symbol=NAS@IXIC#&page=83"
          ]
        },
        {
          "output_type": "stream",
          "name": "stderr",
          "text": [
            "FutureWarning: The frame.append method is deprecated and will be removed from pandas in a future version. Use pandas.concat instead.\n",
            "  df = df.append(table[1].dropna())\n",
            "<ipython-input-61-77dee5e93da6>:14: FutureWarning: The frame.append method is deprecated and will be removed from pandas in a future version. Use pandas.concat instead.\n",
            "  df = df.append(table[1].dropna())"
          ]
        },
        {
          "output_type": "stream",
          "name": "stdout",
          "text": [
            "https://finance.naver.com/world/sise.naver?symbol=NAS@IXIC#&page=84\n",
            "https://finance.naver.com/world/sise.naver?symbol=NAS@IXIC#&page=85"
          ]
        },
        {
          "output_type": "stream",
          "name": "stderr",
          "text": [
            "FutureWarning: The frame.append method is deprecated and will be removed from pandas in a future version. Use pandas.concat instead.\n",
            "  df = df.append(table[1].dropna())\n",
            "<ipython-input-61-77dee5e93da6>:14: FutureWarning: The frame.append method is deprecated and will be removed from pandas in a future version. Use pandas.concat instead.\n",
            "  df = df.append(table[1].dropna())"
          ]
        },
        {
          "output_type": "stream",
          "name": "stdout",
          "text": [
            "https://finance.naver.com/world/sise.naver?symbol=NAS@IXIC#&page=86\n",
            "https://finance.naver.com/world/sise.naver?symbol=NAS@IXIC#&page=87"
          ]
        },
        {
          "output_type": "stream",
          "name": "stderr",
          "text": [
            "FutureWarning: The frame.append method is deprecated and will be removed from pandas in a future version. Use pandas.concat instead.\n",
            "  df = df.append(table[1].dropna())\n",
            "<ipython-input-61-77dee5e93da6>:14: FutureWarning: The frame.append method is deprecated and will be removed from pandas in a future version. Use pandas.concat instead.\n",
            "  df = df.append(table[1].dropna())"
          ]
        },
        {
          "output_type": "stream",
          "name": "stdout",
          "text": [
            "https://finance.naver.com/world/sise.naver?symbol=NAS@IXIC#&page=88\n",
            "https://finance.naver.com/world/sise.naver?symbol=NAS@IXIC#&page=89"
          ]
        },
        {
          "output_type": "stream",
          "name": "stderr",
          "text": [
            "FutureWarning: The frame.append method is deprecated and will be removed from pandas in a future version. Use pandas.concat instead.\n",
            "  df = df.append(table[1].dropna())\n",
            "<ipython-input-61-77dee5e93da6>:14: FutureWarning: The frame.append method is deprecated and will be removed from pandas in a future version. Use pandas.concat instead.\n",
            "  df = df.append(table[1].dropna())"
          ]
        },
        {
          "output_type": "stream",
          "name": "stdout",
          "text": [
            "https://finance.naver.com/world/sise.naver?symbol=NAS@IXIC#&page=90\n",
            "https://finance.naver.com/world/sise.naver?symbol=NAS@IXIC#&page=91"
          ]
        },
        {
          "output_type": "stream",
          "name": "stderr",
          "text": [
            "FutureWarning: The frame.append method is deprecated and will be removed from pandas in a future version. Use pandas.concat instead.\n",
            "  df = df.append(table[1].dropna())\n",
            "<ipython-input-61-77dee5e93da6>:14: FutureWarning: The frame.append method is deprecated and will be removed from pandas in a future version. Use pandas.concat instead.\n",
            "  df = df.append(table[1].dropna())"
          ]
        },
        {
          "output_type": "stream",
          "name": "stdout",
          "text": [
            "https://finance.naver.com/world/sise.naver?symbol=NAS@IXIC#&page=92\n",
            "https://finance.naver.com/world/sise.naver?symbol=NAS@IXIC#&page=93"
          ]
        },
        {
          "output_type": "stream",
          "name": "stderr",
          "text": [
            "FutureWarning: The frame.append method is deprecated and will be removed from pandas in a future version. Use pandas.concat instead.\n",
            "  df = df.append(table[1].dropna())\n",
            "<ipython-input-61-77dee5e93da6>:14: FutureWarning: The frame.append method is deprecated and will be removed from pandas in a future version. Use pandas.concat instead.\n",
            "  df = df.append(table[1].dropna())"
          ]
        },
        {
          "output_type": "stream",
          "name": "stdout",
          "text": [
            "https://finance.naver.com/world/sise.naver?symbol=NAS@IXIC#&page=94\n",
            "https://finance.naver.com/world/sise.naver?symbol=NAS@IXIC#&page=95"
          ]
        },
        {
          "output_type": "stream",
          "name": "stderr",
          "text": [
            "FutureWarning: The frame.append method is deprecated and will be removed from pandas in a future version. Use pandas.concat instead.\n",
            "  df = df.append(table[1].dropna())\n",
            "<ipython-input-61-77dee5e93da6>:14: FutureWarning: The frame.append method is deprecated and will be removed from pandas in a future version. Use pandas.concat instead.\n",
            "  df = df.append(table[1].dropna())"
          ]
        },
        {
          "output_type": "stream",
          "name": "stdout",
          "text": [
            "https://finance.naver.com/world/sise.naver?symbol=NAS@IXIC#&page=96\n",
            "https://finance.naver.com/world/sise.naver?symbol=NAS@IXIC#&page=97"
          ]
        },
        {
          "output_type": "stream",
          "name": "stderr",
          "text": [
            "FutureWarning: The frame.append method is deprecated and will be removed from pandas in a future version. Use pandas.concat instead.\n",
            "  df = df.append(table[1].dropna())\n",
            "<ipython-input-61-77dee5e93da6>:14: FutureWarning: The frame.append method is deprecated and will be removed from pandas in a future version. Use pandas.concat instead.\n",
            "  df = df.append(table[1].dropna())"
          ]
        },
        {
          "output_type": "stream",
          "name": "stdout",
          "text": [
            "https://finance.naver.com/world/sise.naver?symbol=NAS@IXIC#&page=98\n",
            "https://finance.naver.com/world/sise.naver?symbol=NAS@IXIC#&page=99"
          ]
        },
        {
          "output_type": "stream",
          "name": "stderr",
          "text": [
            "FutureWarning: The frame.append method is deprecated and will be removed from pandas in a future version. Use pandas.concat instead.\n",
            "  df = df.append(table[1].dropna())\n",
            "<ipython-input-61-77dee5e93da6>:14: FutureWarning: The frame.append method is deprecated and will be removed from pandas in a future version. Use pandas.concat instead.\n",
            "  df = df.append(table[1].dropna())"
          ]
        },
        {
          "output_type": "stream",
          "name": "stdout",
          "text": [
            "https://finance.naver.com/world/sise.naver?symbol=NAS@IXIC#&page=100\n",
            "https://finance.naver.com/world/sise.naver?symbol=NAS@IXIC#&page=101"
          ]
        },
        {
          "output_type": "stream",
          "name": "stderr",
          "text": [
            "FutureWarning: The frame.append method is deprecated and will be removed from pandas in a future version. Use pandas.concat instead.\n",
            "  df = df.append(table[1].dropna())\n",
            "<ipython-input-61-77dee5e93da6>:14: FutureWarning: The frame.append method is deprecated and will be removed from pandas in a future version. Use pandas.concat instead.\n",
            "  df = df.append(table[1].dropna())"
          ]
        },
        {
          "output_type": "stream",
          "name": "stdout",
          "text": [
            "https://finance.naver.com/world/sise.naver?symbol=NAS@IXIC#&page=102\n",
            "https://finance.naver.com/world/sise.naver?symbol=NAS@IXIC#&page=103"
          ]
        },
        {
          "output_type": "stream",
          "name": "stderr",
          "text": [
            "FutureWarning: The frame.append method is deprecated and will be removed from pandas in a future version. Use pandas.concat instead.\n",
            "  df = df.append(table[1].dropna())\n",
            "<ipython-input-61-77dee5e93da6>:14: FutureWarning: The frame.append method is deprecated and will be removed from pandas in a future version. Use pandas.concat instead.\n",
            "  df = df.append(table[1].dropna())"
          ]
        },
        {
          "output_type": "stream",
          "name": "stdout",
          "text": [
            "https://finance.naver.com/world/sise.naver?symbol=NAS@IXIC#&page=104\n",
            "https://finance.naver.com/world/sise.naver?symbol=NAS@IXIC#&page=105"
          ]
        },
        {
          "output_type": "stream",
          "name": "stderr",
          "text": [
            "FutureWarning: The frame.append method is deprecated and will be removed from pandas in a future version. Use pandas.concat instead.\n",
            "  df = df.append(table[1].dropna())\n",
            "<ipython-input-61-77dee5e93da6>:14: FutureWarning: The frame.append method is deprecated and will be removed from pandas in a future version. Use pandas.concat instead.\n",
            "  df = df.append(table[1].dropna())"
          ]
        },
        {
          "output_type": "stream",
          "name": "stdout",
          "text": [
            "https://finance.naver.com/world/sise.naver?symbol=NAS@IXIC#&page=106\n",
            "https://finance.naver.com/world/sise.naver?symbol=NAS@IXIC#&page=107"
          ]
        },
        {
          "output_type": "stream",
          "name": "stderr",
          "text": [
            "FutureWarning: The frame.append method is deprecated and will be removed from pandas in a future version. Use pandas.concat instead.\n",
            "  df = df.append(table[1].dropna())\n",
            "<ipython-input-61-77dee5e93da6>:14: FutureWarning: The frame.append method is deprecated and will be removed from pandas in a future version. Use pandas.concat instead.\n",
            "  df = df.append(table[1].dropna())"
          ]
        },
        {
          "output_type": "stream",
          "name": "stdout",
          "text": [
            "https://finance.naver.com/world/sise.naver?symbol=NAS@IXIC#&page=108\n",
            "https://finance.naver.com/world/sise.naver?symbol=NAS@IXIC#&page=109"
          ]
        },
        {
          "output_type": "stream",
          "name": "stderr",
          "text": [
            "FutureWarning: The frame.append method is deprecated and will be removed from pandas in a future version. Use pandas.concat instead.\n",
            "  df = df.append(table[1].dropna())\n",
            "<ipython-input-61-77dee5e93da6>:14: FutureWarning: The frame.append method is deprecated and will be removed from pandas in a future version. Use pandas.concat instead.\n",
            "  df = df.append(table[1].dropna())"
          ]
        },
        {
          "output_type": "stream",
          "name": "stdout",
          "text": [
            "https://finance.naver.com/world/sise.naver?symbol=NAS@IXIC#&page=110\n",
            "https://finance.naver.com/world/sise.naver?symbol=NAS@IXIC#&page=111"
          ]
        },
        {
          "output_type": "stream",
          "name": "stderr",
          "text": [
            "FutureWarning: The frame.append method is deprecated and will be removed from pandas in a future version. Use pandas.concat instead.\n",
            "  df = df.append(table[1].dropna())\n",
            "<ipython-input-61-77dee5e93da6>:14: FutureWarning: The frame.append method is deprecated and will be removed from pandas in a future version. Use pandas.concat instead.\n",
            "  df = df.append(table[1].dropna())"
          ]
        },
        {
          "output_type": "stream",
          "name": "stdout",
          "text": [
            "https://finance.naver.com/world/sise.naver?symbol=NAS@IXIC#&page=112\n",
            "https://finance.naver.com/world/sise.naver?symbol=NAS@IXIC#&page=113"
          ]
        },
        {
          "output_type": "stream",
          "name": "stderr",
          "text": [
            "FutureWarning: The frame.append method is deprecated and will be removed from pandas in a future version. Use pandas.concat instead.\n",
            "  df = df.append(table[1].dropna())\n",
            "<ipython-input-61-77dee5e93da6>:14: FutureWarning: The frame.append method is deprecated and will be removed from pandas in a future version. Use pandas.concat instead.\n",
            "  df = df.append(table[1].dropna())"
          ]
        },
        {
          "output_type": "stream",
          "name": "stdout",
          "text": [
            "https://finance.naver.com/world/sise.naver?symbol=NAS@IXIC#&page=114\n",
            "https://finance.naver.com/world/sise.naver?symbol=NAS@IXIC#&page=115"
          ]
        },
        {
          "output_type": "stream",
          "name": "stderr",
          "text": [
            "FutureWarning: The frame.append method is deprecated and will be removed from pandas in a future version. Use pandas.concat instead.\n",
            "  df = df.append(table[1].dropna())"
          ]
        },
        {
          "output_type": "stream",
          "name": "stdout",
          "text": [
            "https://finance.naver.com/world/sise.naver?symbol=NAS@IXIC#&page=116"
          ]
        },
        {
          "output_type": "stream",
          "name": "stderr",
          "text": [
            "FutureWarning: The frame.append method is deprecated and will be removed from pandas in a future version. Use pandas.concat instead.\n",
            "  df = df.append(table[1].dropna())\n",
            "<ipython-input-61-77dee5e93da6>:14: FutureWarning: The frame.append method is deprecated and will be removed from pandas in a future version. Use pandas.concat instead.\n",
            "  df = df.append(table[1].dropna())"
          ]
        },
        {
          "output_type": "stream",
          "name": "stdout",
          "text": [
            "https://finance.naver.com/world/sise.naver?symbol=NAS@IXIC#&page=117\n",
            "https://finance.naver.com/world/sise.naver?symbol=NAS@IXIC#&page=118"
          ]
        },
        {
          "output_type": "stream",
          "name": "stderr",
          "text": [
            "FutureWarning: The frame.append method is deprecated and will be removed from pandas in a future version. Use pandas.concat instead.\n",
            "  df = df.append(table[1].dropna())\n",
            "<ipython-input-61-77dee5e93da6>:14: FutureWarning: The frame.append method is deprecated and will be removed from pandas in a future version. Use pandas.concat instead.\n",
            "  df = df.append(table[1].dropna())"
          ]
        },
        {
          "output_type": "stream",
          "name": "stdout",
          "text": [
            "https://finance.naver.com/world/sise.naver?symbol=NAS@IXIC#&page=119\n",
            "https://finance.naver.com/world/sise.naver?symbol=NAS@IXIC#&page=120"
          ]
        },
        {
          "output_type": "stream",
          "name": "stderr",
          "text": [
            "FutureWarning: The frame.append method is deprecated and will be removed from pandas in a future version. Use pandas.concat instead.\n",
            "  df = df.append(table[1].dropna())\n",
            "<ipython-input-61-77dee5e93da6>:14: FutureWarning: The frame.append method is deprecated and will be removed from pandas in a future version. Use pandas.concat instead.\n",
            "  df = df.append(table[1].dropna())"
          ]
        },
        {
          "output_type": "stream",
          "name": "stdout",
          "text": [
            "https://finance.naver.com/world/sise.naver?symbol=NAS@IXIC#&page=121\n",
            "https://finance.naver.com/world/sise.naver?symbol=NAS@IXIC#&page=122"
          ]
        },
        {
          "output_type": "stream",
          "name": "stderr",
          "text": [
            "FutureWarning: The frame.append method is deprecated and will be removed from pandas in a future version. Use pandas.concat instead.\n",
            "  df = df.append(table[1].dropna())\n",
            "<ipython-input-61-77dee5e93da6>:14: FutureWarning: The frame.append method is deprecated and will be removed from pandas in a future version. Use pandas.concat instead.\n",
            "  df = df.append(table[1].dropna())"
          ]
        },
        {
          "output_type": "stream",
          "name": "stdout",
          "text": [
            "https://finance.naver.com/world/sise.naver?symbol=NAS@IXIC#&page=123\n",
            "https://finance.naver.com/world/sise.naver?symbol=NAS@IXIC#&page=124"
          ]
        },
        {
          "output_type": "stream",
          "name": "stderr",
          "text": [
            "FutureWarning: The frame.append method is deprecated and will be removed from pandas in a future version. Use pandas.concat instead.\n",
            "  df = df.append(table[1].dropna())\n",
            "<ipython-input-61-77dee5e93da6>:14: FutureWarning: The frame.append method is deprecated and will be removed from pandas in a future version. Use pandas.concat instead.\n",
            "  df = df.append(table[1].dropna())"
          ]
        },
        {
          "output_type": "stream",
          "name": "stdout",
          "text": [
            "https://finance.naver.com/world/sise.naver?symbol=NAS@IXIC#&page=125\n",
            "https://finance.naver.com/world/sise.naver?symbol=NAS@IXIC#&page=126"
          ]
        },
        {
          "output_type": "stream",
          "name": "stderr",
          "text": [
            "FutureWarning: The frame.append method is deprecated and will be removed from pandas in a future version. Use pandas.concat instead.\n",
            "  df = df.append(table[1].dropna())\n",
            "<ipython-input-61-77dee5e93da6>:14: FutureWarning: The frame.append method is deprecated and will be removed from pandas in a future version. Use pandas.concat instead.\n",
            "  df = df.append(table[1].dropna())"
          ]
        },
        {
          "output_type": "stream",
          "name": "stdout",
          "text": [
            "https://finance.naver.com/world/sise.naver?symbol=NAS@IXIC#&page=127\n",
            "https://finance.naver.com/world/sise.naver?symbol=NAS@IXIC#&page=128"
          ]
        },
        {
          "output_type": "stream",
          "name": "stderr",
          "text": [
            "FutureWarning: The frame.append method is deprecated and will be removed from pandas in a future version. Use pandas.concat instead.\n",
            "  df = df.append(table[1].dropna())\n",
            "<ipython-input-61-77dee5e93da6>:14: FutureWarning: The frame.append method is deprecated and will be removed from pandas in a future version. Use pandas.concat instead.\n",
            "  df = df.append(table[1].dropna())"
          ]
        },
        {
          "output_type": "stream",
          "name": "stdout",
          "text": [
            "https://finance.naver.com/world/sise.naver?symbol=NAS@IXIC#&page=129\n",
            "https://finance.naver.com/world/sise.naver?symbol=NAS@IXIC#&page=130"
          ]
        },
        {
          "output_type": "stream",
          "name": "stderr",
          "text": [
            "FutureWarning: The frame.append method is deprecated and will be removed from pandas in a future version. Use pandas.concat instead.\n",
            "  df = df.append(table[1].dropna())\n",
            "<ipython-input-61-77dee5e93da6>:14: FutureWarning: The frame.append method is deprecated and will be removed from pandas in a future version. Use pandas.concat instead.\n",
            "  df = df.append(table[1].dropna())"
          ]
        },
        {
          "output_type": "stream",
          "name": "stdout",
          "text": [
            "https://finance.naver.com/world/sise.naver?symbol=NAS@IXIC#&page=131\n",
            "https://finance.naver.com/world/sise.naver?symbol=NAS@IXIC#&page=132"
          ]
        },
        {
          "output_type": "stream",
          "name": "stderr",
          "text": [
            "FutureWarning: The frame.append method is deprecated and will be removed from pandas in a future version. Use pandas.concat instead.\n",
            "  df = df.append(table[1].dropna())\n",
            "<ipython-input-61-77dee5e93da6>:14: FutureWarning: The frame.append method is deprecated and will be removed from pandas in a future version. Use pandas.concat instead.\n",
            "  df = df.append(table[1].dropna())"
          ]
        },
        {
          "output_type": "stream",
          "name": "stdout",
          "text": [
            "https://finance.naver.com/world/sise.naver?symbol=NAS@IXIC#&page=133\n",
            "https://finance.naver.com/world/sise.naver?symbol=NAS@IXIC#&page=134"
          ]
        },
        {
          "output_type": "stream",
          "name": "stderr",
          "text": [
            "FutureWarning: The frame.append method is deprecated and will be removed from pandas in a future version. Use pandas.concat instead.\n",
            "  df = df.append(table[1].dropna())\n",
            "<ipython-input-61-77dee5e93da6>:14: FutureWarning: The frame.append method is deprecated and will be removed from pandas in a future version. Use pandas.concat instead.\n",
            "  df = df.append(table[1].dropna())"
          ]
        },
        {
          "output_type": "stream",
          "name": "stdout",
          "text": [
            "https://finance.naver.com/world/sise.naver?symbol=NAS@IXIC#&page=135\n",
            "https://finance.naver.com/world/sise.naver?symbol=NAS@IXIC#&page=136"
          ]
        },
        {
          "output_type": "stream",
          "name": "stderr",
          "text": [
            "FutureWarning: The frame.append method is deprecated and will be removed from pandas in a future version. Use pandas.concat instead.\n",
            "  df = df.append(table[1].dropna())\n",
            "<ipython-input-61-77dee5e93da6>:14: FutureWarning: The frame.append method is deprecated and will be removed from pandas in a future version. Use pandas.concat instead.\n",
            "  df = df.append(table[1].dropna())"
          ]
        },
        {
          "output_type": "stream",
          "name": "stdout",
          "text": [
            "https://finance.naver.com/world/sise.naver?symbol=NAS@IXIC#&page=137\n",
            "https://finance.naver.com/world/sise.naver?symbol=NAS@IXIC#&page=138"
          ]
        },
        {
          "output_type": "stream",
          "name": "stderr",
          "text": [
            "FutureWarning: The frame.append method is deprecated and will be removed from pandas in a future version. Use pandas.concat instead.\n",
            "  df = df.append(table[1].dropna())\n",
            "<ipython-input-61-77dee5e93da6>:14: FutureWarning: The frame.append method is deprecated and will be removed from pandas in a future version. Use pandas.concat instead.\n",
            "  df = df.append(table[1].dropna())"
          ]
        },
        {
          "output_type": "stream",
          "name": "stdout",
          "text": [
            "https://finance.naver.com/world/sise.naver?symbol=NAS@IXIC#&page=139\n",
            "https://finance.naver.com/world/sise.naver?symbol=NAS@IXIC#&page=140"
          ]
        },
        {
          "output_type": "stream",
          "name": "stderr",
          "text": [
            "FutureWarning: The frame.append method is deprecated and will be removed from pandas in a future version. Use pandas.concat instead.\n",
            "  df = df.append(table[1].dropna())\n",
            "<ipython-input-61-77dee5e93da6>:14: FutureWarning: The frame.append method is deprecated and will be removed from pandas in a future version. Use pandas.concat instead.\n",
            "  df = df.append(table[1].dropna())"
          ]
        },
        {
          "output_type": "stream",
          "name": "stdout",
          "text": [
            "https://finance.naver.com/world/sise.naver?symbol=NAS@IXIC#&page=141\n",
            "https://finance.naver.com/world/sise.naver?symbol=NAS@IXIC#&page=142"
          ]
        },
        {
          "output_type": "stream",
          "name": "stderr",
          "text": [
            "FutureWarning: The frame.append method is deprecated and will be removed from pandas in a future version. Use pandas.concat instead.\n",
            "  df = df.append(table[1].dropna())\n",
            "<ipython-input-61-77dee5e93da6>:14: FutureWarning: The frame.append method is deprecated and will be removed from pandas in a future version. Use pandas.concat instead.\n",
            "  df = df.append(table[1].dropna())"
          ]
        },
        {
          "output_type": "stream",
          "name": "stdout",
          "text": [
            "https://finance.naver.com/world/sise.naver?symbol=NAS@IXIC#&page=143\n",
            "https://finance.naver.com/world/sise.naver?symbol=NAS@IXIC#&page=144"
          ]
        },
        {
          "output_type": "stream",
          "name": "stderr",
          "text": [
            "FutureWarning: The frame.append method is deprecated and will be removed from pandas in a future version. Use pandas.concat instead.\n",
            "  df = df.append(table[1].dropna())\n",
            "<ipython-input-61-77dee5e93da6>:14: FutureWarning: The frame.append method is deprecated and will be removed from pandas in a future version. Use pandas.concat instead.\n",
            "  df = df.append(table[1].dropna())"
          ]
        },
        {
          "output_type": "stream",
          "name": "stdout",
          "text": [
            "https://finance.naver.com/world/sise.naver?symbol=NAS@IXIC#&page=145\n",
            "https://finance.naver.com/world/sise.naver?symbol=NAS@IXIC#&page=146"
          ]
        },
        {
          "output_type": "stream",
          "name": "stderr",
          "text": [
            "FutureWarning: The frame.append method is deprecated and will be removed from pandas in a future version. Use pandas.concat instead.\n",
            "  df = df.append(table[1].dropna())\n",
            "<ipython-input-61-77dee5e93da6>:14: FutureWarning: The frame.append method is deprecated and will be removed from pandas in a future version. Use pandas.concat instead.\n",
            "  df = df.append(table[1].dropna())"
          ]
        },
        {
          "output_type": "stream",
          "name": "stdout",
          "text": [
            "https://finance.naver.com/world/sise.naver?symbol=NAS@IXIC#&page=147\n",
            "https://finance.naver.com/world/sise.naver?symbol=NAS@IXIC#&page=148"
          ]
        },
        {
          "output_type": "stream",
          "name": "stderr",
          "text": [
            "FutureWarning: The frame.append method is deprecated and will be removed from pandas in a future version. Use pandas.concat instead.\n",
            "  df = df.append(table[1].dropna())\n",
            "<ipython-input-61-77dee5e93da6>:14: FutureWarning: The frame.append method is deprecated and will be removed from pandas in a future version. Use pandas.concat instead.\n",
            "  df = df.append(table[1].dropna())"
          ]
        },
        {
          "output_type": "stream",
          "name": "stdout",
          "text": [
            "https://finance.naver.com/world/sise.naver?symbol=NAS@IXIC#&page=149\n",
            "https://finance.naver.com/world/sise.naver?symbol=NAS@IXIC#&page=150"
          ]
        },
        {
          "output_type": "stream",
          "name": "stderr",
          "text": [
            "FutureWarning: The frame.append method is deprecated and will be removed from pandas in a future version. Use pandas.concat instead.\n",
            "  df = df.append(table[1].dropna())\n",
            "<ipython-input-61-77dee5e93da6>:14: FutureWarning: The frame.append method is deprecated and will be removed from pandas in a future version. Use pandas.concat instead.\n",
            "  df = df.append(table[1].dropna())\n",
            "<ipython-input-61-77dee5e93da6>:14: FutureWarning: The frame.append method is deprecated and will be removed from pandas in a future version. Use pandas.concat instead.\n",
            "  df = df.append(table[1].dropna())"
          ]
        },
        {
          "output_type": "stream",
          "name": "stdout",
          "text": [
            "https://finance.naver.com/world/sise.naver?symbol=NAS@IXIC#&page=151\n",
            "https://finance.naver.com/world/sise.naver?symbol=NAS@IXIC#&page=152\n",
            "https://finance.naver.com/world/sise.naver?symbol=NAS@IXIC#&page=153"
          ]
        },
        {
          "output_type": "stream",
          "name": "stderr",
          "text": [
            "FutureWarning: The frame.append method is deprecated and will be removed from pandas in a future version. Use pandas.concat instead.\n",
            "  df = df.append(table[1].dropna())\n",
            "<ipython-input-61-77dee5e93da6>:14: FutureWarning: The frame.append method is deprecated and will be removed from pandas in a future version. Use pandas.concat instead.\n",
            "  df = df.append(table[1].dropna())"
          ]
        },
        {
          "output_type": "stream",
          "name": "stdout",
          "text": [
            "https://finance.naver.com/world/sise.naver?symbol=NAS@IXIC#&page=154\n",
            "https://finance.naver.com/world/sise.naver?symbol=NAS@IXIC#&page=155"
          ]
        },
        {
          "output_type": "stream",
          "name": "stderr",
          "text": [
            "FutureWarning: The frame.append method is deprecated and will be removed from pandas in a future version. Use pandas.concat instead.\n",
            "  df = df.append(table[1].dropna())\n",
            "<ipython-input-61-77dee5e93da6>:14: FutureWarning: The frame.append method is deprecated and will be removed from pandas in a future version. Use pandas.concat instead.\n",
            "  df = df.append(table[1].dropna())"
          ]
        },
        {
          "output_type": "stream",
          "name": "stdout",
          "text": [
            "https://finance.naver.com/world/sise.naver?symbol=NAS@IXIC#&page=156\n",
            "https://finance.naver.com/world/sise.naver?symbol=NAS@IXIC#&page=157"
          ]
        },
        {
          "output_type": "stream",
          "name": "stderr",
          "text": [
            "FutureWarning: The frame.append method is deprecated and will be removed from pandas in a future version. Use pandas.concat instead.\n",
            "  df = df.append(table[1].dropna())\n",
            "<ipython-input-61-77dee5e93da6>:14: FutureWarning: The frame.append method is deprecated and will be removed from pandas in a future version. Use pandas.concat instead.\n",
            "  df = df.append(table[1].dropna())"
          ]
        },
        {
          "output_type": "stream",
          "name": "stdout",
          "text": [
            "https://finance.naver.com/world/sise.naver?symbol=NAS@IXIC#&page=158\n",
            "https://finance.naver.com/world/sise.naver?symbol=NAS@IXIC#&page=159"
          ]
        },
        {
          "output_type": "stream",
          "name": "stderr",
          "text": [
            "FutureWarning: The frame.append method is deprecated and will be removed from pandas in a future version. Use pandas.concat instead.\n",
            "  df = df.append(table[1].dropna())\n",
            "<ipython-input-61-77dee5e93da6>:14: FutureWarning: The frame.append method is deprecated and will be removed from pandas in a future version. Use pandas.concat instead.\n",
            "  df = df.append(table[1].dropna())"
          ]
        },
        {
          "output_type": "stream",
          "name": "stdout",
          "text": [
            "https://finance.naver.com/world/sise.naver?symbol=NAS@IXIC#&page=160\n",
            "https://finance.naver.com/world/sise.naver?symbol=NAS@IXIC#&page=161"
          ]
        },
        {
          "output_type": "stream",
          "name": "stderr",
          "text": [
            "FutureWarning: The frame.append method is deprecated and will be removed from pandas in a future version. Use pandas.concat instead.\n",
            "  df = df.append(table[1].dropna())\n",
            "<ipython-input-61-77dee5e93da6>:14: FutureWarning: The frame.append method is deprecated and will be removed from pandas in a future version. Use pandas.concat instead.\n",
            "  df = df.append(table[1].dropna())"
          ]
        },
        {
          "output_type": "stream",
          "name": "stdout",
          "text": [
            "https://finance.naver.com/world/sise.naver?symbol=NAS@IXIC#&page=162\n",
            "https://finance.naver.com/world/sise.naver?symbol=NAS@IXIC#&page=163"
          ]
        },
        {
          "output_type": "stream",
          "name": "stderr",
          "text": [
            "FutureWarning: The frame.append method is deprecated and will be removed from pandas in a future version. Use pandas.concat instead.\n",
            "  df = df.append(table[1].dropna())\n",
            "<ipython-input-61-77dee5e93da6>:14: FutureWarning: The frame.append method is deprecated and will be removed from pandas in a future version. Use pandas.concat instead.\n",
            "  df = df.append(table[1].dropna())\n",
            "<ipython-input-61-77dee5e93da6>:14: FutureWarning: The frame.append method is deprecated and will be removed from pandas in a future version. Use pandas.concat instead.\n",
            "  df = df.append(table[1].dropna())"
          ]
        },
        {
          "output_type": "stream",
          "name": "stdout",
          "text": [
            "https://finance.naver.com/world/sise.naver?symbol=NAS@IXIC#&page=164\n",
            "https://finance.naver.com/world/sise.naver?symbol=NAS@IXIC#&page=165\n",
            "https://finance.naver.com/world/sise.naver?symbol=NAS@IXIC#&page=166"
          ]
        },
        {
          "output_type": "stream",
          "name": "stderr",
          "text": [
            "FutureWarning: The frame.append method is deprecated and will be removed from pandas in a future version. Use pandas.concat instead.\n",
            "  df = df.append(table[1].dropna())\n",
            "<ipython-input-61-77dee5e93da6>:14: FutureWarning: The frame.append method is deprecated and will be removed from pandas in a future version. Use pandas.concat instead.\n",
            "  df = df.append(table[1].dropna())"
          ]
        },
        {
          "output_type": "stream",
          "name": "stdout",
          "text": [
            "https://finance.naver.com/world/sise.naver?symbol=NAS@IXIC#&page=167\n",
            "https://finance.naver.com/world/sise.naver?symbol=NAS@IXIC#&page=168"
          ]
        },
        {
          "output_type": "stream",
          "name": "stderr",
          "text": [
            "FutureWarning: The frame.append method is deprecated and will be removed from pandas in a future version. Use pandas.concat instead.\n",
            "  df = df.append(table[1].dropna())\n",
            "<ipython-input-61-77dee5e93da6>:14: FutureWarning: The frame.append method is deprecated and will be removed from pandas in a future version. Use pandas.concat instead.\n",
            "  df = df.append(table[1].dropna())"
          ]
        },
        {
          "output_type": "stream",
          "name": "stdout",
          "text": [
            "https://finance.naver.com/world/sise.naver?symbol=NAS@IXIC#&page=169\n",
            "https://finance.naver.com/world/sise.naver?symbol=NAS@IXIC#&page=170"
          ]
        },
        {
          "output_type": "stream",
          "name": "stderr",
          "text": [
            "FutureWarning: The frame.append method is deprecated and will be removed from pandas in a future version. Use pandas.concat instead.\n",
            "  df = df.append(table[1].dropna())\n",
            "<ipython-input-61-77dee5e93da6>:14: FutureWarning: The frame.append method is deprecated and will be removed from pandas in a future version. Use pandas.concat instead.\n",
            "  df = df.append(table[1].dropna())"
          ]
        },
        {
          "output_type": "stream",
          "name": "stdout",
          "text": [
            "https://finance.naver.com/world/sise.naver?symbol=NAS@IXIC#&page=171\n",
            "https://finance.naver.com/world/sise.naver?symbol=NAS@IXIC#&page=172"
          ]
        },
        {
          "output_type": "stream",
          "name": "stderr",
          "text": [
            "FutureWarning: The frame.append method is deprecated and will be removed from pandas in a future version. Use pandas.concat instead.\n",
            "  df = df.append(table[1].dropna())\n",
            "<ipython-input-61-77dee5e93da6>:14: FutureWarning: The frame.append method is deprecated and will be removed from pandas in a future version. Use pandas.concat instead.\n",
            "  df = df.append(table[1].dropna())"
          ]
        },
        {
          "output_type": "stream",
          "name": "stdout",
          "text": [
            "https://finance.naver.com/world/sise.naver?symbol=NAS@IXIC#&page=173\n",
            "https://finance.naver.com/world/sise.naver?symbol=NAS@IXIC#&page=174"
          ]
        },
        {
          "output_type": "stream",
          "name": "stderr",
          "text": [
            "FutureWarning: The frame.append method is deprecated and will be removed from pandas in a future version. Use pandas.concat instead.\n",
            "  df = df.append(table[1].dropna())\n",
            "<ipython-input-61-77dee5e93da6>:14: FutureWarning: The frame.append method is deprecated and will be removed from pandas in a future version. Use pandas.concat instead.\n",
            "  df = df.append(table[1].dropna())"
          ]
        },
        {
          "output_type": "stream",
          "name": "stdout",
          "text": [
            "https://finance.naver.com/world/sise.naver?symbol=NAS@IXIC#&page=175\n",
            "https://finance.naver.com/world/sise.naver?symbol=NAS@IXIC#&page=176"
          ]
        },
        {
          "output_type": "stream",
          "name": "stderr",
          "text": [
            "FutureWarning: The frame.append method is deprecated and will be removed from pandas in a future version. Use pandas.concat instead.\n",
            "  df = df.append(table[1].dropna())"
          ]
        },
        {
          "output_type": "stream",
          "name": "stdout",
          "text": [
            "https://finance.naver.com/world/sise.naver?symbol=NAS@IXIC#&page=177"
          ]
        },
        {
          "output_type": "stream",
          "name": "stderr",
          "text": [
            "FutureWarning: The frame.append method is deprecated and will be removed from pandas in a future version. Use pandas.concat instead.\n",
            "  df = df.append(table[1].dropna())"
          ]
        },
        {
          "output_type": "stream",
          "name": "stdout",
          "text": [
            "https://finance.naver.com/world/sise.naver?symbol=NAS@IXIC#&page=178"
          ]
        },
        {
          "output_type": "stream",
          "name": "stderr",
          "text": [
            "FutureWarning: The frame.append method is deprecated and will be removed from pandas in a future version. Use pandas.concat instead.\n",
            "  df = df.append(table[1].dropna())\n",
            "<ipython-input-61-77dee5e93da6>:14: FutureWarning: The frame.append method is deprecated and will be removed from pandas in a future version. Use pandas.concat instead.\n",
            "  df = df.append(table[1].dropna())"
          ]
        },
        {
          "output_type": "stream",
          "name": "stdout",
          "text": [
            "https://finance.naver.com/world/sise.naver?symbol=NAS@IXIC#&page=179\n",
            "https://finance.naver.com/world/sise.naver?symbol=NAS@IXIC#&page=180"
          ]
        },
        {
          "output_type": "stream",
          "name": "stderr",
          "text": [
            "FutureWarning: The frame.append method is deprecated and will be removed from pandas in a future version. Use pandas.concat instead.\n",
            "  df = df.append(table[1].dropna())\n",
            "<ipython-input-61-77dee5e93da6>:14: FutureWarning: The frame.append method is deprecated and will be removed from pandas in a future version. Use pandas.concat instead.\n",
            "  df = df.append(table[1].dropna())"
          ]
        },
        {
          "output_type": "stream",
          "name": "stdout",
          "text": [
            "https://finance.naver.com/world/sise.naver?symbol=NAS@IXIC#&page=181\n",
            "https://finance.naver.com/world/sise.naver?symbol=NAS@IXIC#&page=182"
          ]
        },
        {
          "output_type": "stream",
          "name": "stderr",
          "text": [
            "FutureWarning: The frame.append method is deprecated and will be removed from pandas in a future version. Use pandas.concat instead.\n",
            "  df = df.append(table[1].dropna())\n",
            "<ipython-input-61-77dee5e93da6>:14: FutureWarning: The frame.append method is deprecated and will be removed from pandas in a future version. Use pandas.concat instead.\n",
            "  df = df.append(table[1].dropna())"
          ]
        },
        {
          "output_type": "stream",
          "name": "stdout",
          "text": [
            "https://finance.naver.com/world/sise.naver?symbol=NAS@IXIC#&page=183\n",
            "https://finance.naver.com/world/sise.naver?symbol=NAS@IXIC#&page=184"
          ]
        },
        {
          "output_type": "stream",
          "name": "stderr",
          "text": [
            "FutureWarning: The frame.append method is deprecated and will be removed from pandas in a future version. Use pandas.concat instead.\n",
            "  df = df.append(table[1].dropna())"
          ]
        },
        {
          "output_type": "stream",
          "name": "stdout",
          "text": [
            "https://finance.naver.com/world/sise.naver?symbol=NAS@IXIC#&page=185"
          ]
        },
        {
          "output_type": "stream",
          "name": "stderr",
          "text": [
            "FutureWarning: The frame.append method is deprecated and will be removed from pandas in a future version. Use pandas.concat instead.\n",
            "  df = df.append(table[1].dropna())\n",
            "<ipython-input-61-77dee5e93da6>:14: FutureWarning: The frame.append method is deprecated and will be removed from pandas in a future version. Use pandas.concat instead.\n",
            "  df = df.append(table[1].dropna())"
          ]
        },
        {
          "output_type": "stream",
          "name": "stdout",
          "text": [
            "https://finance.naver.com/world/sise.naver?symbol=NAS@IXIC#&page=186\n",
            "https://finance.naver.com/world/sise.naver?symbol=NAS@IXIC#&page=187"
          ]
        },
        {
          "output_type": "stream",
          "name": "stderr",
          "text": [
            "FutureWarning: The frame.append method is deprecated and will be removed from pandas in a future version. Use pandas.concat instead.\n",
            "  df = df.append(table[1].dropna())"
          ]
        },
        {
          "output_type": "stream",
          "name": "stdout",
          "text": [
            "https://finance.naver.com/world/sise.naver?symbol=NAS@IXIC#&page=188"
          ]
        },
        {
          "output_type": "stream",
          "name": "stderr",
          "text": [
            "FutureWarning: The frame.append method is deprecated and will be removed from pandas in a future version. Use pandas.concat instead.\n",
            "  df = df.append(table[1].dropna())\n",
            "<ipython-input-61-77dee5e93da6>:14: FutureWarning: The frame.append method is deprecated and will be removed from pandas in a future version. Use pandas.concat instead.\n",
            "  df = df.append(table[1].dropna())"
          ]
        },
        {
          "output_type": "stream",
          "name": "stdout",
          "text": [
            "https://finance.naver.com/world/sise.naver?symbol=NAS@IXIC#&page=189\n",
            "https://finance.naver.com/world/sise.naver?symbol=NAS@IXIC#&page=190"
          ]
        },
        {
          "output_type": "stream",
          "name": "stderr",
          "text": [
            "FutureWarning: The frame.append method is deprecated and will be removed from pandas in a future version. Use pandas.concat instead.\n",
            "  df = df.append(table[1].dropna())\n",
            "<ipython-input-61-77dee5e93da6>:14: FutureWarning: The frame.append method is deprecated and will be removed from pandas in a future version. Use pandas.concat instead.\n",
            "  df = df.append(table[1].dropna())"
          ]
        },
        {
          "output_type": "stream",
          "name": "stdout",
          "text": [
            "https://finance.naver.com/world/sise.naver?symbol=NAS@IXIC#&page=191\n",
            "https://finance.naver.com/world/sise.naver?symbol=NAS@IXIC#&page=192"
          ]
        },
        {
          "output_type": "stream",
          "name": "stderr",
          "text": [
            "FutureWarning: The frame.append method is deprecated and will be removed from pandas in a future version. Use pandas.concat instead.\n",
            "  df = df.append(table[1].dropna())\n",
            "<ipython-input-61-77dee5e93da6>:14: FutureWarning: The frame.append method is deprecated and will be removed from pandas in a future version. Use pandas.concat instead.\n",
            "  df = df.append(table[1].dropna())"
          ]
        },
        {
          "output_type": "stream",
          "name": "stdout",
          "text": [
            "https://finance.naver.com/world/sise.naver?symbol=NAS@IXIC#&page=193\n",
            "https://finance.naver.com/world/sise.naver?symbol=NAS@IXIC#&page=194"
          ]
        },
        {
          "output_type": "stream",
          "name": "stderr",
          "text": [
            "FutureWarning: The frame.append method is deprecated and will be removed from pandas in a future version. Use pandas.concat instead.\n",
            "  df = df.append(table[1].dropna())\n",
            "<ipython-input-61-77dee5e93da6>:14: FutureWarning: The frame.append method is deprecated and will be removed from pandas in a future version. Use pandas.concat instead.\n",
            "  df = df.append(table[1].dropna())"
          ]
        },
        {
          "output_type": "stream",
          "name": "stdout",
          "text": [
            "https://finance.naver.com/world/sise.naver?symbol=NAS@IXIC#&page=195\n",
            "https://finance.naver.com/world/sise.naver?symbol=NAS@IXIC#&page=196"
          ]
        },
        {
          "output_type": "stream",
          "name": "stderr",
          "text": [
            "FutureWarning: The frame.append method is deprecated and will be removed from pandas in a future version. Use pandas.concat instead.\n",
            "  df = df.append(table[1].dropna())\n",
            "<ipython-input-61-77dee5e93da6>:14: FutureWarning: The frame.append method is deprecated and will be removed from pandas in a future version. Use pandas.concat instead.\n",
            "  df = df.append(table[1].dropna())"
          ]
        },
        {
          "output_type": "stream",
          "name": "stdout",
          "text": [
            "https://finance.naver.com/world/sise.naver?symbol=NAS@IXIC#&page=197\n",
            "https://finance.naver.com/world/sise.naver?symbol=NAS@IXIC#&page=198"
          ]
        },
        {
          "output_type": "stream",
          "name": "stderr",
          "text": [
            "FutureWarning: The frame.append method is deprecated and will be removed from pandas in a future version. Use pandas.concat instead.\n",
            "  df = df.append(table[1].dropna())\n",
            "<ipython-input-61-77dee5e93da6>:14: FutureWarning: The frame.append method is deprecated and will be removed from pandas in a future version. Use pandas.concat instead.\n",
            "  df = df.append(table[1].dropna())"
          ]
        },
        {
          "output_type": "stream",
          "name": "stdout",
          "text": [
            "https://finance.naver.com/world/sise.naver?symbol=NAS@IXIC#&page=199\n",
            "https://finance.naver.com/world/sise.naver?symbol=NAS@IXIC#&page=200"
          ]
        },
        {
          "output_type": "stream",
          "name": "stderr",
          "text": [
            "FutureWarning: The frame.append method is deprecated and will be removed from pandas in a future version. Use pandas.concat instead.\n",
            "  df = df.append(table[1].dropna())\n",
            "<ipython-input-61-77dee5e93da6>:14: FutureWarning: The frame.append method is deprecated and will be removed from pandas in a future version. Use pandas.concat instead.\n",
            "  df = df.append(table[1].dropna())"
          ]
        },
        {
          "output_type": "stream",
          "name": "stdout",
          "text": [
            "https://finance.naver.com/world/sise.naver?symbol=NAS@IXIC#&page=201\n",
            "https://finance.naver.com/world/sise.naver?symbol=NAS@IXIC#&page=202"
          ]
        },
        {
          "output_type": "stream",
          "name": "stderr",
          "text": [
            "FutureWarning: The frame.append method is deprecated and will be removed from pandas in a future version. Use pandas.concat instead.\n",
            "  df = df.append(table[1].dropna())\n",
            "<ipython-input-61-77dee5e93da6>:14: FutureWarning: The frame.append method is deprecated and will be removed from pandas in a future version. Use pandas.concat instead.\n",
            "  df = df.append(table[1].dropna())"
          ]
        },
        {
          "output_type": "stream",
          "name": "stdout",
          "text": [
            "https://finance.naver.com/world/sise.naver?symbol=NAS@IXIC#&page=203\n",
            "https://finance.naver.com/world/sise.naver?symbol=NAS@IXIC#&page=204"
          ]
        },
        {
          "output_type": "stream",
          "name": "stderr",
          "text": [
            "FutureWarning: The frame.append method is deprecated and will be removed from pandas in a future version. Use pandas.concat instead.\n",
            "  df = df.append(table[1].dropna())\n",
            "<ipython-input-61-77dee5e93da6>:14: FutureWarning: The frame.append method is deprecated and will be removed from pandas in a future version. Use pandas.concat instead.\n",
            "  df = df.append(table[1].dropna())"
          ]
        },
        {
          "output_type": "stream",
          "name": "stdout",
          "text": [
            "https://finance.naver.com/world/sise.naver?symbol=NAS@IXIC#&page=205\n",
            "https://finance.naver.com/world/sise.naver?symbol=NAS@IXIC#&page=206"
          ]
        },
        {
          "output_type": "stream",
          "name": "stderr",
          "text": [
            "FutureWarning: The frame.append method is deprecated and will be removed from pandas in a future version. Use pandas.concat instead.\n",
            "  df = df.append(table[1].dropna())"
          ]
        },
        {
          "output_type": "stream",
          "name": "stdout",
          "text": [
            "https://finance.naver.com/world/sise.naver?symbol=NAS@IXIC#&page=207"
          ]
        },
        {
          "output_type": "stream",
          "name": "stderr",
          "text": [
            "FutureWarning: The frame.append method is deprecated and will be removed from pandas in a future version. Use pandas.concat instead.\n",
            "  df = df.append(table[1].dropna())\n",
            "<ipython-input-61-77dee5e93da6>:14: FutureWarning: The frame.append method is deprecated and will be removed from pandas in a future version. Use pandas.concat instead.\n",
            "  df = df.append(table[1].dropna())"
          ]
        },
        {
          "output_type": "stream",
          "name": "stdout",
          "text": [
            "https://finance.naver.com/world/sise.naver?symbol=NAS@IXIC#&page=208\n",
            "https://finance.naver.com/world/sise.naver?symbol=NAS@IXIC#&page=209"
          ]
        },
        {
          "output_type": "stream",
          "name": "stderr",
          "text": [
            "FutureWarning: The frame.append method is deprecated and will be removed from pandas in a future version. Use pandas.concat instead.\n",
            "  df = df.append(table[1].dropna())\n",
            "<ipython-input-61-77dee5e93da6>:14: FutureWarning: The frame.append method is deprecated and will be removed from pandas in a future version. Use pandas.concat instead.\n",
            "  df = df.append(table[1].dropna())"
          ]
        },
        {
          "output_type": "stream",
          "name": "stdout",
          "text": [
            "https://finance.naver.com/world/sise.naver?symbol=NAS@IXIC#&page=210\n",
            "https://finance.naver.com/world/sise.naver?symbol=NAS@IXIC#&page=211"
          ]
        },
        {
          "output_type": "stream",
          "name": "stderr",
          "text": [
            "FutureWarning: The frame.append method is deprecated and will be removed from pandas in a future version. Use pandas.concat instead.\n",
            "  df = df.append(table[1].dropna())\n",
            "<ipython-input-61-77dee5e93da6>:14: FutureWarning: The frame.append method is deprecated and will be removed from pandas in a future version. Use pandas.concat instead.\n",
            "  df = df.append(table[1].dropna())"
          ]
        },
        {
          "output_type": "stream",
          "name": "stdout",
          "text": [
            "https://finance.naver.com/world/sise.naver?symbol=NAS@IXIC#&page=212\n",
            "https://finance.naver.com/world/sise.naver?symbol=NAS@IXIC#&page=213"
          ]
        },
        {
          "output_type": "stream",
          "name": "stderr",
          "text": [
            "FutureWarning: The frame.append method is deprecated and will be removed from pandas in a future version. Use pandas.concat instead.\n",
            "  df = df.append(table[1].dropna())\n",
            "<ipython-input-61-77dee5e93da6>:14: FutureWarning: The frame.append method is deprecated and will be removed from pandas in a future version. Use pandas.concat instead.\n",
            "  df = df.append(table[1].dropna())"
          ]
        },
        {
          "output_type": "stream",
          "name": "stdout",
          "text": [
            "https://finance.naver.com/world/sise.naver?symbol=NAS@IXIC#&page=214\n",
            "https://finance.naver.com/world/sise.naver?symbol=NAS@IXIC#&page=215"
          ]
        },
        {
          "output_type": "stream",
          "name": "stderr",
          "text": [
            "FutureWarning: The frame.append method is deprecated and will be removed from pandas in a future version. Use pandas.concat instead.\n",
            "  df = df.append(table[1].dropna())\n",
            "<ipython-input-61-77dee5e93da6>:14: FutureWarning: The frame.append method is deprecated and will be removed from pandas in a future version. Use pandas.concat instead.\n",
            "  df = df.append(table[1].dropna())"
          ]
        },
        {
          "output_type": "stream",
          "name": "stdout",
          "text": [
            "https://finance.naver.com/world/sise.naver?symbol=NAS@IXIC#&page=216\n",
            "https://finance.naver.com/world/sise.naver?symbol=NAS@IXIC#&page=217"
          ]
        },
        {
          "output_type": "stream",
          "name": "stderr",
          "text": [
            "FutureWarning: The frame.append method is deprecated and will be removed from pandas in a future version. Use pandas.concat instead.\n",
            "  df = df.append(table[1].dropna())\n",
            "<ipython-input-61-77dee5e93da6>:14: FutureWarning: The frame.append method is deprecated and will be removed from pandas in a future version. Use pandas.concat instead.\n",
            "  df = df.append(table[1].dropna())"
          ]
        },
        {
          "output_type": "stream",
          "name": "stdout",
          "text": [
            "https://finance.naver.com/world/sise.naver?symbol=NAS@IXIC#&page=218\n",
            "https://finance.naver.com/world/sise.naver?symbol=NAS@IXIC#&page=219"
          ]
        },
        {
          "output_type": "stream",
          "name": "stderr",
          "text": [
            "FutureWarning: The frame.append method is deprecated and will be removed from pandas in a future version. Use pandas.concat instead.\n",
            "  df = df.append(table[1].dropna())\n",
            "<ipython-input-61-77dee5e93da6>:14: FutureWarning: The frame.append method is deprecated and will be removed from pandas in a future version. Use pandas.concat instead.\n",
            "  df = df.append(table[1].dropna())"
          ]
        },
        {
          "output_type": "stream",
          "name": "stdout",
          "text": [
            "https://finance.naver.com/world/sise.naver?symbol=NAS@IXIC#&page=220\n",
            "https://finance.naver.com/world/sise.naver?symbol=NAS@IXIC#&page=221"
          ]
        },
        {
          "output_type": "stream",
          "name": "stderr",
          "text": [
            "FutureWarning: The frame.append method is deprecated and will be removed from pandas in a future version. Use pandas.concat instead.\n",
            "  df = df.append(table[1].dropna())"
          ]
        },
        {
          "output_type": "stream",
          "name": "stdout",
          "text": [
            "https://finance.naver.com/world/sise.naver?symbol=NAS@IXIC#&page=222"
          ]
        },
        {
          "output_type": "stream",
          "name": "stderr",
          "text": [
            "FutureWarning: The frame.append method is deprecated and will be removed from pandas in a future version. Use pandas.concat instead.\n",
            "  df = df.append(table[1].dropna())\n",
            "<ipython-input-61-77dee5e93da6>:14: FutureWarning: The frame.append method is deprecated and will be removed from pandas in a future version. Use pandas.concat instead.\n",
            "  df = df.append(table[1].dropna())"
          ]
        },
        {
          "output_type": "stream",
          "name": "stdout",
          "text": [
            "https://finance.naver.com/world/sise.naver?symbol=NAS@IXIC#&page=223\n",
            "https://finance.naver.com/world/sise.naver?symbol=NAS@IXIC#&page=224"
          ]
        },
        {
          "output_type": "stream",
          "name": "stderr",
          "text": [
            "FutureWarning: The frame.append method is deprecated and will be removed from pandas in a future version. Use pandas.concat instead.\n",
            "  df = df.append(table[1].dropna())\n",
            "<ipython-input-61-77dee5e93da6>:14: FutureWarning: The frame.append method is deprecated and will be removed from pandas in a future version. Use pandas.concat instead.\n",
            "  df = df.append(table[1].dropna())"
          ]
        },
        {
          "output_type": "stream",
          "name": "stdout",
          "text": [
            "https://finance.naver.com/world/sise.naver?symbol=NAS@IXIC#&page=225\n",
            "https://finance.naver.com/world/sise.naver?symbol=NAS@IXIC#&page=226"
          ]
        },
        {
          "output_type": "stream",
          "name": "stderr",
          "text": [
            "FutureWarning: The frame.append method is deprecated and will be removed from pandas in a future version. Use pandas.concat instead.\n",
            "  df = df.append(table[1].dropna())\n",
            "<ipython-input-61-77dee5e93da6>:14: FutureWarning: The frame.append method is deprecated and will be removed from pandas in a future version. Use pandas.concat instead.\n",
            "  df = df.append(table[1].dropna())"
          ]
        },
        {
          "output_type": "stream",
          "name": "stdout",
          "text": [
            "https://finance.naver.com/world/sise.naver?symbol=NAS@IXIC#&page=227\n",
            "https://finance.naver.com/world/sise.naver?symbol=NAS@IXIC#&page=228"
          ]
        },
        {
          "output_type": "stream",
          "name": "stderr",
          "text": [
            "FutureWarning: The frame.append method is deprecated and will be removed from pandas in a future version. Use pandas.concat instead.\n",
            "  df = df.append(table[1].dropna())\n",
            "<ipython-input-61-77dee5e93da6>:14: FutureWarning: The frame.append method is deprecated and will be removed from pandas in a future version. Use pandas.concat instead.\n",
            "  df = df.append(table[1].dropna())"
          ]
        },
        {
          "output_type": "stream",
          "name": "stdout",
          "text": [
            "https://finance.naver.com/world/sise.naver?symbol=NAS@IXIC#&page=229\n",
            "https://finance.naver.com/world/sise.naver?symbol=NAS@IXIC#&page=230"
          ]
        },
        {
          "output_type": "stream",
          "name": "stderr",
          "text": [
            "FutureWarning: The frame.append method is deprecated and will be removed from pandas in a future version. Use pandas.concat instead.\n",
            "  df = df.append(table[1].dropna())\n",
            "<ipython-input-61-77dee5e93da6>:14: FutureWarning: The frame.append method is deprecated and will be removed from pandas in a future version. Use pandas.concat instead.\n",
            "  df = df.append(table[1].dropna())"
          ]
        },
        {
          "output_type": "stream",
          "name": "stdout",
          "text": [
            "https://finance.naver.com/world/sise.naver?symbol=NAS@IXIC#&page=231\n",
            "https://finance.naver.com/world/sise.naver?symbol=NAS@IXIC#&page=232"
          ]
        },
        {
          "output_type": "stream",
          "name": "stderr",
          "text": [
            "FutureWarning: The frame.append method is deprecated and will be removed from pandas in a future version. Use pandas.concat instead.\n",
            "  df = df.append(table[1].dropna())\n",
            "<ipython-input-61-77dee5e93da6>:14: FutureWarning: The frame.append method is deprecated and will be removed from pandas in a future version. Use pandas.concat instead.\n",
            "  df = df.append(table[1].dropna())"
          ]
        },
        {
          "output_type": "stream",
          "name": "stdout",
          "text": [
            "https://finance.naver.com/world/sise.naver?symbol=NAS@IXIC#&page=233\n",
            "https://finance.naver.com/world/sise.naver?symbol=NAS@IXIC#&page=234"
          ]
        },
        {
          "output_type": "stream",
          "name": "stderr",
          "text": [
            "FutureWarning: The frame.append method is deprecated and will be removed from pandas in a future version. Use pandas.concat instead.\n",
            "  df = df.append(table[1].dropna())\n",
            "<ipython-input-61-77dee5e93da6>:14: FutureWarning: The frame.append method is deprecated and will be removed from pandas in a future version. Use pandas.concat instead.\n",
            "  df = df.append(table[1].dropna())"
          ]
        },
        {
          "output_type": "stream",
          "name": "stdout",
          "text": [
            "https://finance.naver.com/world/sise.naver?symbol=NAS@IXIC#&page=235\n",
            "https://finance.naver.com/world/sise.naver?symbol=NAS@IXIC#&page=236"
          ]
        },
        {
          "output_type": "stream",
          "name": "stderr",
          "text": [
            "FutureWarning: The frame.append method is deprecated and will be removed from pandas in a future version. Use pandas.concat instead.\n",
            "  df = df.append(table[1].dropna())\n",
            "<ipython-input-61-77dee5e93da6>:14: FutureWarning: The frame.append method is deprecated and will be removed from pandas in a future version. Use pandas.concat instead.\n",
            "  df = df.append(table[1].dropna())"
          ]
        },
        {
          "output_type": "stream",
          "name": "stdout",
          "text": [
            "https://finance.naver.com/world/sise.naver?symbol=NAS@IXIC#&page=237\n",
            "https://finance.naver.com/world/sise.naver?symbol=NAS@IXIC#&page=238"
          ]
        },
        {
          "output_type": "stream",
          "name": "stderr",
          "text": [
            "FutureWarning: The frame.append method is deprecated and will be removed from pandas in a future version. Use pandas.concat instead.\n",
            "  df = df.append(table[1].dropna())"
          ]
        },
        {
          "output_type": "stream",
          "name": "stdout",
          "text": [
            "https://finance.naver.com/world/sise.naver?symbol=NAS@IXIC#&page=239"
          ]
        },
        {
          "output_type": "stream",
          "name": "stderr",
          "text": [
            "FutureWarning: The frame.append method is deprecated and will be removed from pandas in a future version. Use pandas.concat instead.\n",
            "  df = df.append(table[1].dropna())\n",
            "<ipython-input-61-77dee5e93da6>:14: FutureWarning: The frame.append method is deprecated and will be removed from pandas in a future version. Use pandas.concat instead.\n",
            "  df = df.append(table[1].dropna())"
          ]
        },
        {
          "output_type": "stream",
          "name": "stdout",
          "text": [
            "https://finance.naver.com/world/sise.naver?symbol=NAS@IXIC#&page=240\n",
            "https://finance.naver.com/world/sise.naver?symbol=NAS@IXIC#&page=241"
          ]
        },
        {
          "output_type": "stream",
          "name": "stderr",
          "text": [
            "FutureWarning: The frame.append method is deprecated and will be removed from pandas in a future version. Use pandas.concat instead.\n",
            "  df = df.append(table[1].dropna())\n",
            "<ipython-input-61-77dee5e93da6>:14: FutureWarning: The frame.append method is deprecated and will be removed from pandas in a future version. Use pandas.concat instead.\n",
            "  df = df.append(table[1].dropna())"
          ]
        },
        {
          "output_type": "stream",
          "name": "stdout",
          "text": [
            "https://finance.naver.com/world/sise.naver?symbol=NAS@IXIC#&page=242\n",
            "https://finance.naver.com/world/sise.naver?symbol=NAS@IXIC#&page=243"
          ]
        },
        {
          "output_type": "stream",
          "name": "stderr",
          "text": [
            "FutureWarning: The frame.append method is deprecated and will be removed from pandas in a future version. Use pandas.concat instead.\n",
            "  df = df.append(table[1].dropna())\n",
            "<ipython-input-61-77dee5e93da6>:14: FutureWarning: The frame.append method is deprecated and will be removed from pandas in a future version. Use pandas.concat instead.\n",
            "  df = df.append(table[1].dropna())"
          ]
        },
        {
          "output_type": "stream",
          "name": "stdout",
          "text": [
            "https://finance.naver.com/world/sise.naver?symbol=NAS@IXIC#&page=244\n",
            "https://finance.naver.com/world/sise.naver?symbol=NAS@IXIC#&page=245"
          ]
        },
        {
          "output_type": "stream",
          "name": "stderr",
          "text": [
            "FutureWarning: The frame.append method is deprecated and will be removed from pandas in a future version. Use pandas.concat instead.\n",
            "  df = df.append(table[1].dropna())\n",
            "<ipython-input-61-77dee5e93da6>:14: FutureWarning: The frame.append method is deprecated and will be removed from pandas in a future version. Use pandas.concat instead.\n",
            "  df = df.append(table[1].dropna())"
          ]
        },
        {
          "output_type": "stream",
          "name": "stdout",
          "text": [
            "https://finance.naver.com/world/sise.naver?symbol=NAS@IXIC#&page=246\n",
            "https://finance.naver.com/world/sise.naver?symbol=NAS@IXIC#&page=247"
          ]
        },
        {
          "output_type": "stream",
          "name": "stderr",
          "text": [
            "FutureWarning: The frame.append method is deprecated and will be removed from pandas in a future version. Use pandas.concat instead.\n",
            "  df = df.append(table[1].dropna())\n",
            "<ipython-input-61-77dee5e93da6>:14: FutureWarning: The frame.append method is deprecated and will be removed from pandas in a future version. Use pandas.concat instead.\n",
            "  df = df.append(table[1].dropna())"
          ]
        },
        {
          "output_type": "stream",
          "name": "stdout",
          "text": [
            "https://finance.naver.com/world/sise.naver?symbol=NAS@IXIC#&page=248\n",
            "https://finance.naver.com/world/sise.naver?symbol=NAS@IXIC#&page=249"
          ]
        },
        {
          "output_type": "stream",
          "name": "stderr",
          "text": [
            "FutureWarning: The frame.append method is deprecated and will be removed from pandas in a future version. Use pandas.concat instead.\n",
            "  df = df.append(table[1].dropna())\n",
            "<ipython-input-61-77dee5e93da6>:14: FutureWarning: The frame.append method is deprecated and will be removed from pandas in a future version. Use pandas.concat instead.\n",
            "  df = df.append(table[1].dropna())"
          ]
        },
        {
          "output_type": "stream",
          "name": "stdout",
          "text": [
            "https://finance.naver.com/world/sise.naver?symbol=NAS@IXIC#&page=250\n",
            "https://finance.naver.com/world/sise.naver?symbol=NAS@IXIC#&page=251"
          ]
        },
        {
          "output_type": "stream",
          "name": "stderr",
          "text": [
            "FutureWarning: The frame.append method is deprecated and will be removed from pandas in a future version. Use pandas.concat instead.\n",
            "  df = df.append(table[1].dropna())\n",
            "<ipython-input-61-77dee5e93da6>:14: FutureWarning: The frame.append method is deprecated and will be removed from pandas in a future version. Use pandas.concat instead.\n",
            "  df = df.append(table[1].dropna())"
          ]
        },
        {
          "output_type": "stream",
          "name": "stdout",
          "text": [
            "https://finance.naver.com/world/sise.naver?symbol=NAS@IXIC#&page=252\n",
            "https://finance.naver.com/world/sise.naver?symbol=NAS@IXIC#&page=253"
          ]
        },
        {
          "output_type": "stream",
          "name": "stderr",
          "text": [
            "FutureWarning: The frame.append method is deprecated and will be removed from pandas in a future version. Use pandas.concat instead.\n",
            "  df = df.append(table[1].dropna())\n",
            "<ipython-input-61-77dee5e93da6>:14: FutureWarning: The frame.append method is deprecated and will be removed from pandas in a future version. Use pandas.concat instead.\n",
            "  df = df.append(table[1].dropna())"
          ]
        },
        {
          "output_type": "stream",
          "name": "stdout",
          "text": [
            "https://finance.naver.com/world/sise.naver?symbol=NAS@IXIC#&page=254\n",
            "https://finance.naver.com/world/sise.naver?symbol=NAS@IXIC#&page=255"
          ]
        },
        {
          "output_type": "stream",
          "name": "stderr",
          "text": [
            "FutureWarning: The frame.append method is deprecated and will be removed from pandas in a future version. Use pandas.concat instead.\n",
            "  df = df.append(table[1].dropna())\n",
            "<ipython-input-61-77dee5e93da6>:14: FutureWarning: The frame.append method is deprecated and will be removed from pandas in a future version. Use pandas.concat instead.\n",
            "  df = df.append(table[1].dropna())"
          ]
        },
        {
          "output_type": "stream",
          "name": "stdout",
          "text": [
            "https://finance.naver.com/world/sise.naver?symbol=NAS@IXIC#&page=256\n",
            "https://finance.naver.com/world/sise.naver?symbol=NAS@IXIC#&page=257"
          ]
        },
        {
          "output_type": "stream",
          "name": "stderr",
          "text": [
            "FutureWarning: The frame.append method is deprecated and will be removed from pandas in a future version. Use pandas.concat instead.\n",
            "  df = df.append(table[1].dropna())\n",
            "<ipython-input-61-77dee5e93da6>:14: FutureWarning: The frame.append method is deprecated and will be removed from pandas in a future version. Use pandas.concat instead.\n",
            "  df = df.append(table[1].dropna())"
          ]
        },
        {
          "output_type": "stream",
          "name": "stdout",
          "text": [
            "https://finance.naver.com/world/sise.naver?symbol=NAS@IXIC#&page=258\n",
            "https://finance.naver.com/world/sise.naver?symbol=NAS@IXIC#&page=259"
          ]
        },
        {
          "output_type": "stream",
          "name": "stderr",
          "text": [
            "FutureWarning: The frame.append method is deprecated and will be removed from pandas in a future version. Use pandas.concat instead.\n",
            "  df = df.append(table[1].dropna())\n",
            "<ipython-input-61-77dee5e93da6>:14: FutureWarning: The frame.append method is deprecated and will be removed from pandas in a future version. Use pandas.concat instead.\n",
            "  df = df.append(table[1].dropna())"
          ]
        },
        {
          "output_type": "stream",
          "name": "stdout",
          "text": [
            "https://finance.naver.com/world/sise.naver?symbol=NAS@IXIC#&page=260\n",
            "https://finance.naver.com/world/sise.naver?symbol=NAS@IXIC#&page=261"
          ]
        },
        {
          "output_type": "stream",
          "name": "stderr",
          "text": [
            "FutureWarning: The frame.append method is deprecated and will be removed from pandas in a future version. Use pandas.concat instead.\n",
            "  df = df.append(table[1].dropna())\n",
            "<ipython-input-61-77dee5e93da6>:14: FutureWarning: The frame.append method is deprecated and will be removed from pandas in a future version. Use pandas.concat instead.\n",
            "  df = df.append(table[1].dropna())"
          ]
        },
        {
          "output_type": "stream",
          "name": "stdout",
          "text": [
            "https://finance.naver.com/world/sise.naver?symbol=NAS@IXIC#&page=262\n",
            "https://finance.naver.com/world/sise.naver?symbol=NAS@IXIC#&page=263"
          ]
        },
        {
          "output_type": "stream",
          "name": "stderr",
          "text": [
            "FutureWarning: The frame.append method is deprecated and will be removed from pandas in a future version. Use pandas.concat instead.\n",
            "  df = df.append(table[1].dropna())\n",
            "<ipython-input-61-77dee5e93da6>:14: FutureWarning: The frame.append method is deprecated and will be removed from pandas in a future version. Use pandas.concat instead.\n",
            "  df = df.append(table[1].dropna())"
          ]
        },
        {
          "output_type": "stream",
          "name": "stdout",
          "text": [
            "https://finance.naver.com/world/sise.naver?symbol=NAS@IXIC#&page=264\n",
            "https://finance.naver.com/world/sise.naver?symbol=NAS@IXIC#&page=265"
          ]
        },
        {
          "output_type": "stream",
          "name": "stderr",
          "text": [
            "FutureWarning: The frame.append method is deprecated and will be removed from pandas in a future version. Use pandas.concat instead.\n",
            "  df = df.append(table[1].dropna())\n",
            "<ipython-input-61-77dee5e93da6>:14: FutureWarning: The frame.append method is deprecated and will be removed from pandas in a future version. Use pandas.concat instead.\n",
            "  df = df.append(table[1].dropna())"
          ]
        },
        {
          "output_type": "stream",
          "name": "stdout",
          "text": [
            "https://finance.naver.com/world/sise.naver?symbol=NAS@IXIC#&page=266\n",
            "https://finance.naver.com/world/sise.naver?symbol=NAS@IXIC#&page=267"
          ]
        },
        {
          "output_type": "stream",
          "name": "stderr",
          "text": [
            "FutureWarning: The frame.append method is deprecated and will be removed from pandas in a future version. Use pandas.concat instead.\n",
            "  df = df.append(table[1].dropna())\n",
            "<ipython-input-61-77dee5e93da6>:14: FutureWarning: The frame.append method is deprecated and will be removed from pandas in a future version. Use pandas.concat instead.\n",
            "  df = df.append(table[1].dropna())"
          ]
        },
        {
          "output_type": "stream",
          "name": "stdout",
          "text": [
            "https://finance.naver.com/world/sise.naver?symbol=NAS@IXIC#&page=268\n",
            "https://finance.naver.com/world/sise.naver?symbol=NAS@IXIC#&page=269"
          ]
        },
        {
          "output_type": "stream",
          "name": "stderr",
          "text": [
            "FutureWarning: The frame.append method is deprecated and will be removed from pandas in a future version. Use pandas.concat instead.\n",
            "  df = df.append(table[1].dropna())"
          ]
        },
        {
          "output_type": "stream",
          "name": "stdout",
          "text": [
            "https://finance.naver.com/world/sise.naver?symbol=NAS@IXIC#&page=270"
          ]
        },
        {
          "output_type": "stream",
          "name": "stderr",
          "text": [
            "FutureWarning: The frame.append method is deprecated and will be removed from pandas in a future version. Use pandas.concat instead.\n",
            "  df = df.append(table[1].dropna())\n",
            "<ipython-input-61-77dee5e93da6>:14: FutureWarning: The frame.append method is deprecated and will be removed from pandas in a future version. Use pandas.concat instead.\n",
            "  df = df.append(table[1].dropna())"
          ]
        },
        {
          "output_type": "stream",
          "name": "stdout",
          "text": [
            "https://finance.naver.com/world/sise.naver?symbol=NAS@IXIC#&page=271\n",
            "https://finance.naver.com/world/sise.naver?symbol=NAS@IXIC#&page=272"
          ]
        },
        {
          "output_type": "stream",
          "name": "stderr",
          "text": [
            "FutureWarning: The frame.append method is deprecated and will be removed from pandas in a future version. Use pandas.concat instead.\n",
            "  df = df.append(table[1].dropna())\n",
            "<ipython-input-61-77dee5e93da6>:14: FutureWarning: The frame.append method is deprecated and will be removed from pandas in a future version. Use pandas.concat instead.\n",
            "  df = df.append(table[1].dropna())"
          ]
        },
        {
          "output_type": "stream",
          "name": "stdout",
          "text": [
            "https://finance.naver.com/world/sise.naver?symbol=NAS@IXIC#&page=273\n",
            "https://finance.naver.com/world/sise.naver?symbol=NAS@IXIC#&page=274"
          ]
        },
        {
          "output_type": "stream",
          "name": "stderr",
          "text": [
            "FutureWarning: The frame.append method is deprecated and will be removed from pandas in a future version. Use pandas.concat instead.\n",
            "  df = df.append(table[1].dropna())\n",
            "<ipython-input-61-77dee5e93da6>:14: FutureWarning: The frame.append method is deprecated and will be removed from pandas in a future version. Use pandas.concat instead.\n",
            "  df = df.append(table[1].dropna())"
          ]
        },
        {
          "output_type": "stream",
          "name": "stdout",
          "text": [
            "https://finance.naver.com/world/sise.naver?symbol=NAS@IXIC#&page=275\n",
            "https://finance.naver.com/world/sise.naver?symbol=NAS@IXIC#&page=276"
          ]
        },
        {
          "output_type": "stream",
          "name": "stderr",
          "text": [
            "FutureWarning: The frame.append method is deprecated and will be removed from pandas in a future version. Use pandas.concat instead.\n",
            "  df = df.append(table[1].dropna())\n",
            "<ipython-input-61-77dee5e93da6>:14: FutureWarning: The frame.append method is deprecated and will be removed from pandas in a future version. Use pandas.concat instead.\n",
            "  df = df.append(table[1].dropna())"
          ]
        },
        {
          "output_type": "stream",
          "name": "stdout",
          "text": [
            "https://finance.naver.com/world/sise.naver?symbol=NAS@IXIC#&page=277\n",
            "https://finance.naver.com/world/sise.naver?symbol=NAS@IXIC#&page=278"
          ]
        },
        {
          "output_type": "stream",
          "name": "stderr",
          "text": [
            "FutureWarning: The frame.append method is deprecated and will be removed from pandas in a future version. Use pandas.concat instead.\n",
            "  df = df.append(table[1].dropna())\n",
            "<ipython-input-61-77dee5e93da6>:14: FutureWarning: The frame.append method is deprecated and will be removed from pandas in a future version. Use pandas.concat instead.\n",
            "  df = df.append(table[1].dropna())"
          ]
        },
        {
          "output_type": "stream",
          "name": "stdout",
          "text": [
            "https://finance.naver.com/world/sise.naver?symbol=NAS@IXIC#&page=279\n",
            "https://finance.naver.com/world/sise.naver?symbol=NAS@IXIC#&page=280"
          ]
        },
        {
          "output_type": "stream",
          "name": "stderr",
          "text": [
            "FutureWarning: The frame.append method is deprecated and will be removed from pandas in a future version. Use pandas.concat instead.\n",
            "  df = df.append(table[1].dropna())\n",
            "<ipython-input-61-77dee5e93da6>:14: FutureWarning: The frame.append method is deprecated and will be removed from pandas in a future version. Use pandas.concat instead.\n",
            "  df = df.append(table[1].dropna())"
          ]
        },
        {
          "output_type": "stream",
          "name": "stdout",
          "text": [
            "https://finance.naver.com/world/sise.naver?symbol=NAS@IXIC#&page=281\n",
            "https://finance.naver.com/world/sise.naver?symbol=NAS@IXIC#&page=282"
          ]
        },
        {
          "output_type": "stream",
          "name": "stderr",
          "text": [
            "FutureWarning: The frame.append method is deprecated and will be removed from pandas in a future version. Use pandas.concat instead.\n",
            "  df = df.append(table[1].dropna())\n",
            "<ipython-input-61-77dee5e93da6>:14: FutureWarning: The frame.append method is deprecated and will be removed from pandas in a future version. Use pandas.concat instead.\n",
            "  df = df.append(table[1].dropna())"
          ]
        },
        {
          "output_type": "stream",
          "name": "stdout",
          "text": [
            "https://finance.naver.com/world/sise.naver?symbol=NAS@IXIC#&page=283\n",
            "https://finance.naver.com/world/sise.naver?symbol=NAS@IXIC#&page=284"
          ]
        },
        {
          "output_type": "stream",
          "name": "stderr",
          "text": [
            "FutureWarning: The frame.append method is deprecated and will be removed from pandas in a future version. Use pandas.concat instead.\n",
            "  df = df.append(table[1].dropna())\n",
            "<ipython-input-61-77dee5e93da6>:14: FutureWarning: The frame.append method is deprecated and will be removed from pandas in a future version. Use pandas.concat instead.\n",
            "  df = df.append(table[1].dropna())"
          ]
        },
        {
          "output_type": "stream",
          "name": "stdout",
          "text": [
            "https://finance.naver.com/world/sise.naver?symbol=NAS@IXIC#&page=285\n",
            "https://finance.naver.com/world/sise.naver?symbol=NAS@IXIC#&page=286"
          ]
        },
        {
          "output_type": "stream",
          "name": "stderr",
          "text": [
            "FutureWarning: The frame.append method is deprecated and will be removed from pandas in a future version. Use pandas.concat instead.\n",
            "  df = df.append(table[1].dropna())"
          ]
        },
        {
          "output_type": "stream",
          "name": "stdout",
          "text": [
            "https://finance.naver.com/world/sise.naver?symbol=NAS@IXIC#&page=287"
          ]
        },
        {
          "output_type": "stream",
          "name": "stderr",
          "text": [
            "FutureWarning: The frame.append method is deprecated and will be removed from pandas in a future version. Use pandas.concat instead.\n",
            "  df = df.append(table[1].dropna())\n",
            "<ipython-input-61-77dee5e93da6>:14: FutureWarning: The frame.append method is deprecated and will be removed from pandas in a future version. Use pandas.concat instead.\n",
            "  df = df.append(table[1].dropna())"
          ]
        },
        {
          "output_type": "stream",
          "name": "stdout",
          "text": [
            "https://finance.naver.com/world/sise.naver?symbol=NAS@IXIC#&page=288\n",
            "https://finance.naver.com/world/sise.naver?symbol=NAS@IXIC#&page=289"
          ]
        },
        {
          "output_type": "stream",
          "name": "stderr",
          "text": [
            "FutureWarning: The frame.append method is deprecated and will be removed from pandas in a future version. Use pandas.concat instead.\n",
            "  df = df.append(table[1].dropna())\n",
            "<ipython-input-61-77dee5e93da6>:14: FutureWarning: The frame.append method is deprecated and will be removed from pandas in a future version. Use pandas.concat instead.\n",
            "  df = df.append(table[1].dropna())"
          ]
        },
        {
          "output_type": "stream",
          "name": "stdout",
          "text": [
            "https://finance.naver.com/world/sise.naver?symbol=NAS@IXIC#&page=290\n",
            "https://finance.naver.com/world/sise.naver?symbol=NAS@IXIC#&page=291"
          ]
        },
        {
          "output_type": "stream",
          "name": "stderr",
          "text": [
            "FutureWarning: The frame.append method is deprecated and will be removed from pandas in a future version. Use pandas.concat instead.\n",
            "  df = df.append(table[1].dropna())\n",
            "<ipython-input-61-77dee5e93da6>:14: FutureWarning: The frame.append method is deprecated and will be removed from pandas in a future version. Use pandas.concat instead.\n",
            "  df = df.append(table[1].dropna())"
          ]
        },
        {
          "output_type": "stream",
          "name": "stdout",
          "text": [
            "https://finance.naver.com/world/sise.naver?symbol=NAS@IXIC#&page=292\n",
            "https://finance.naver.com/world/sise.naver?symbol=NAS@IXIC#&page=293"
          ]
        },
        {
          "output_type": "stream",
          "name": "stderr",
          "text": [
            "FutureWarning: The frame.append method is deprecated and will be removed from pandas in a future version. Use pandas.concat instead.\n",
            "  df = df.append(table[1].dropna())\n",
            "<ipython-input-61-77dee5e93da6>:14: FutureWarning: The frame.append method is deprecated and will be removed from pandas in a future version. Use pandas.concat instead.\n",
            "  df = df.append(table[1].dropna())"
          ]
        },
        {
          "output_type": "stream",
          "name": "stdout",
          "text": [
            "https://finance.naver.com/world/sise.naver?symbol=NAS@IXIC#&page=294\n",
            "https://finance.naver.com/world/sise.naver?symbol=NAS@IXIC#&page=295"
          ]
        },
        {
          "output_type": "stream",
          "name": "stderr",
          "text": [
            "FutureWarning: The frame.append method is deprecated and will be removed from pandas in a future version. Use pandas.concat instead.\n",
            "  df = df.append(table[1].dropna())\n",
            "<ipython-input-61-77dee5e93da6>:14: FutureWarning: The frame.append method is deprecated and will be removed from pandas in a future version. Use pandas.concat instead.\n",
            "  df = df.append(table[1].dropna())"
          ]
        },
        {
          "output_type": "stream",
          "name": "stdout",
          "text": [
            "https://finance.naver.com/world/sise.naver?symbol=NAS@IXIC#&page=296\n",
            "https://finance.naver.com/world/sise.naver?symbol=NAS@IXIC#&page=297"
          ]
        },
        {
          "output_type": "stream",
          "name": "stderr",
          "text": [
            "FutureWarning: The frame.append method is deprecated and will be removed from pandas in a future version. Use pandas.concat instead.\n",
            "  df = df.append(table[1].dropna())\n",
            "<ipython-input-61-77dee5e93da6>:14: FutureWarning: The frame.append method is deprecated and will be removed from pandas in a future version. Use pandas.concat instead.\n",
            "  df = df.append(table[1].dropna())"
          ]
        },
        {
          "output_type": "stream",
          "name": "stdout",
          "text": [
            "https://finance.naver.com/world/sise.naver?symbol=NAS@IXIC#&page=298\n",
            "https://finance.naver.com/world/sise.naver?symbol=NAS@IXIC#&page=299"
          ]
        },
        {
          "output_type": "stream",
          "name": "stderr",
          "text": [
            "FutureWarning: The frame.append method is deprecated and will be removed from pandas in a future version. Use pandas.concat instead.\n",
            "  df = df.append(table[1].dropna())"
          ]
        },
        {
          "output_type": "stream",
          "name": "stdout",
          "text": [
            "https://finance.naver.com/world/sise.naver?symbol=NAS@IXIC#&page=300"
          ]
        },
        {
          "output_type": "stream",
          "name": "stderr",
          "text": [
            "FutureWarning: The frame.append method is deprecated and will be removed from pandas in a future version. Use pandas.concat instead.\n",
            "  df = df.append(table[1].dropna())\n",
            "<ipython-input-61-77dee5e93da6>:14: FutureWarning: The frame.append method is deprecated and will be removed from pandas in a future version. Use pandas.concat instead.\n",
            "  df = df.append(table[1].dropna())"
          ]
        },
        {
          "output_type": "stream",
          "name": "stdout",
          "text": [
            "https://finance.naver.com/world/sise.naver?symbol=NAS@IXIC#&page=301\n",
            "https://finance.naver.com/world/sise.naver?symbol=NAS@IXIC#&page=302"
          ]
        },
        {
          "output_type": "stream",
          "name": "stderr",
          "text": [
            "FutureWarning: The frame.append method is deprecated and will be removed from pandas in a future version. Use pandas.concat instead.\n",
            "  df = df.append(table[1].dropna())"
          ]
        },
        {
          "output_type": "stream",
          "name": "stdout",
          "text": [
            "https://finance.naver.com/world/sise.naver?symbol=NAS@IXIC#&page=303"
          ]
        },
        {
          "output_type": "stream",
          "name": "stderr",
          "text": [
            "FutureWarning: The frame.append method is deprecated and will be removed from pandas in a future version. Use pandas.concat instead.\n",
            "  df = df.append(table[1].dropna())\n",
            "<ipython-input-61-77dee5e93da6>:14: FutureWarning: The frame.append method is deprecated and will be removed from pandas in a future version. Use pandas.concat instead.\n",
            "  df = df.append(table[1].dropna())"
          ]
        },
        {
          "output_type": "stream",
          "name": "stdout",
          "text": [
            "https://finance.naver.com/world/sise.naver?symbol=NAS@IXIC#&page=304\n",
            "https://finance.naver.com/world/sise.naver?symbol=NAS@IXIC#&page=305"
          ]
        },
        {
          "output_type": "stream",
          "name": "stderr",
          "text": [
            "FutureWarning: The frame.append method is deprecated and will be removed from pandas in a future version. Use pandas.concat instead.\n",
            "  df = df.append(table[1].dropna())\n",
            "<ipython-input-61-77dee5e93da6>:14: FutureWarning: The frame.append method is deprecated and will be removed from pandas in a future version. Use pandas.concat instead.\n",
            "  df = df.append(table[1].dropna())"
          ]
        },
        {
          "output_type": "stream",
          "name": "stdout",
          "text": [
            "https://finance.naver.com/world/sise.naver?symbol=NAS@IXIC#&page=306\n",
            "https://finance.naver.com/world/sise.naver?symbol=NAS@IXIC#&page=307"
          ]
        },
        {
          "output_type": "stream",
          "name": "stderr",
          "text": [
            "FutureWarning: The frame.append method is deprecated and will be removed from pandas in a future version. Use pandas.concat instead.\n",
            "  df = df.append(table[1].dropna())\n",
            "<ipython-input-61-77dee5e93da6>:14: FutureWarning: The frame.append method is deprecated and will be removed from pandas in a future version. Use pandas.concat instead.\n",
            "  df = df.append(table[1].dropna())"
          ]
        },
        {
          "output_type": "stream",
          "name": "stdout",
          "text": [
            "https://finance.naver.com/world/sise.naver?symbol=NAS@IXIC#&page=308\n",
            "https://finance.naver.com/world/sise.naver?symbol=NAS@IXIC#&page=309"
          ]
        },
        {
          "output_type": "stream",
          "name": "stderr",
          "text": [
            "FutureWarning: The frame.append method is deprecated and will be removed from pandas in a future version. Use pandas.concat instead.\n",
            "  df = df.append(table[1].dropna())\n",
            "<ipython-input-61-77dee5e93da6>:14: FutureWarning: The frame.append method is deprecated and will be removed from pandas in a future version. Use pandas.concat instead.\n",
            "  df = df.append(table[1].dropna())"
          ]
        },
        {
          "output_type": "stream",
          "name": "stdout",
          "text": [
            "https://finance.naver.com/world/sise.naver?symbol=NAS@IXIC#&page=310\n",
            "https://finance.naver.com/world/sise.naver?symbol=NAS@IXIC#&page=311"
          ]
        },
        {
          "output_type": "stream",
          "name": "stderr",
          "text": [
            "FutureWarning: The frame.append method is deprecated and will be removed from pandas in a future version. Use pandas.concat instead.\n",
            "  df = df.append(table[1].dropna())\n",
            "<ipython-input-61-77dee5e93da6>:14: FutureWarning: The frame.append method is deprecated and will be removed from pandas in a future version. Use pandas.concat instead.\n",
            "  df = df.append(table[1].dropna())"
          ]
        },
        {
          "output_type": "stream",
          "name": "stdout",
          "text": [
            "https://finance.naver.com/world/sise.naver?symbol=NAS@IXIC#&page=312\n",
            "https://finance.naver.com/world/sise.naver?symbol=NAS@IXIC#&page=313"
          ]
        },
        {
          "output_type": "stream",
          "name": "stderr",
          "text": [
            "FutureWarning: The frame.append method is deprecated and will be removed from pandas in a future version. Use pandas.concat instead.\n",
            "  df = df.append(table[1].dropna())"
          ]
        },
        {
          "output_type": "stream",
          "name": "stdout",
          "text": [
            "https://finance.naver.com/world/sise.naver?symbol=NAS@IXIC#&page=314"
          ]
        },
        {
          "output_type": "stream",
          "name": "stderr",
          "text": [
            "FutureWarning: The frame.append method is deprecated and will be removed from pandas in a future version. Use pandas.concat instead.\n",
            "  df = df.append(table[1].dropna())\n",
            "<ipython-input-61-77dee5e93da6>:14: FutureWarning: The frame.append method is deprecated and will be removed from pandas in a future version. Use pandas.concat instead.\n",
            "  df = df.append(table[1].dropna())"
          ]
        },
        {
          "output_type": "stream",
          "name": "stdout",
          "text": [
            "https://finance.naver.com/world/sise.naver?symbol=NAS@IXIC#&page=315\n",
            "https://finance.naver.com/world/sise.naver?symbol=NAS@IXIC#&page=316"
          ]
        },
        {
          "output_type": "stream",
          "name": "stderr",
          "text": [
            "FutureWarning: The frame.append method is deprecated and will be removed from pandas in a future version. Use pandas.concat instead.\n",
            "  df = df.append(table[1].dropna())\n",
            "<ipython-input-61-77dee5e93da6>:14: FutureWarning: The frame.append method is deprecated and will be removed from pandas in a future version. Use pandas.concat instead.\n",
            "  df = df.append(table[1].dropna())"
          ]
        },
        {
          "output_type": "stream",
          "name": "stdout",
          "text": [
            "https://finance.naver.com/world/sise.naver?symbol=NAS@IXIC#&page=317\n",
            "https://finance.naver.com/world/sise.naver?symbol=NAS@IXIC#&page=318"
          ]
        },
        {
          "output_type": "stream",
          "name": "stderr",
          "text": [
            "FutureWarning: The frame.append method is deprecated and will be removed from pandas in a future version. Use pandas.concat instead.\n",
            "  df = df.append(table[1].dropna())\n",
            "<ipython-input-61-77dee5e93da6>:14: FutureWarning: The frame.append method is deprecated and will be removed from pandas in a future version. Use pandas.concat instead.\n",
            "  df = df.append(table[1].dropna())"
          ]
        },
        {
          "output_type": "stream",
          "name": "stdout",
          "text": [
            "https://finance.naver.com/world/sise.naver?symbol=NAS@IXIC#&page=319\n",
            "https://finance.naver.com/world/sise.naver?symbol=NAS@IXIC#&page=320"
          ]
        },
        {
          "output_type": "stream",
          "name": "stderr",
          "text": [
            "FutureWarning: The frame.append method is deprecated and will be removed from pandas in a future version. Use pandas.concat instead.\n",
            "  df = df.append(table[1].dropna())\n",
            "<ipython-input-61-77dee5e93da6>:14: FutureWarning: The frame.append method is deprecated and will be removed from pandas in a future version. Use pandas.concat instead.\n",
            "  df = df.append(table[1].dropna())"
          ]
        },
        {
          "output_type": "stream",
          "name": "stdout",
          "text": [
            "https://finance.naver.com/world/sise.naver?symbol=NAS@IXIC#&page=321\n",
            "https://finance.naver.com/world/sise.naver?symbol=NAS@IXIC#&page=322"
          ]
        },
        {
          "output_type": "stream",
          "name": "stderr",
          "text": [
            "FutureWarning: The frame.append method is deprecated and will be removed from pandas in a future version. Use pandas.concat instead.\n",
            "  df = df.append(table[1].dropna())\n",
            "<ipython-input-61-77dee5e93da6>:14: FutureWarning: The frame.append method is deprecated and will be removed from pandas in a future version. Use pandas.concat instead.\n",
            "  df = df.append(table[1].dropna())"
          ]
        },
        {
          "output_type": "stream",
          "name": "stdout",
          "text": [
            "https://finance.naver.com/world/sise.naver?symbol=NAS@IXIC#&page=323\n",
            "https://finance.naver.com/world/sise.naver?symbol=NAS@IXIC#&page=324"
          ]
        },
        {
          "output_type": "stream",
          "name": "stderr",
          "text": [
            "FutureWarning: The frame.append method is deprecated and will be removed from pandas in a future version. Use pandas.concat instead.\n",
            "  df = df.append(table[1].dropna())\n",
            "<ipython-input-61-77dee5e93da6>:14: FutureWarning: The frame.append method is deprecated and will be removed from pandas in a future version. Use pandas.concat instead.\n",
            "  df = df.append(table[1].dropna())"
          ]
        },
        {
          "output_type": "stream",
          "name": "stdout",
          "text": [
            "https://finance.naver.com/world/sise.naver?symbol=NAS@IXIC#&page=325\n",
            "https://finance.naver.com/world/sise.naver?symbol=NAS@IXIC#&page=326"
          ]
        },
        {
          "output_type": "stream",
          "name": "stderr",
          "text": [
            "FutureWarning: The frame.append method is deprecated and will be removed from pandas in a future version. Use pandas.concat instead.\n",
            "  df = df.append(table[1].dropna())\n",
            "<ipython-input-61-77dee5e93da6>:14: FutureWarning: The frame.append method is deprecated and will be removed from pandas in a future version. Use pandas.concat instead.\n",
            "  df = df.append(table[1].dropna())"
          ]
        },
        {
          "output_type": "stream",
          "name": "stdout",
          "text": [
            "https://finance.naver.com/world/sise.naver?symbol=NAS@IXIC#&page=327\n",
            "https://finance.naver.com/world/sise.naver?symbol=NAS@IXIC#&page=328"
          ]
        },
        {
          "output_type": "stream",
          "name": "stderr",
          "text": [
            "FutureWarning: The frame.append method is deprecated and will be removed from pandas in a future version. Use pandas.concat instead.\n",
            "  df = df.append(table[1].dropna())\n",
            "<ipython-input-61-77dee5e93da6>:14: FutureWarning: The frame.append method is deprecated and will be removed from pandas in a future version. Use pandas.concat instead.\n",
            "  df = df.append(table[1].dropna())"
          ]
        },
        {
          "output_type": "stream",
          "name": "stdout",
          "text": [
            "https://finance.naver.com/world/sise.naver?symbol=NAS@IXIC#&page=329\n",
            "https://finance.naver.com/world/sise.naver?symbol=NAS@IXIC#&page=330"
          ]
        },
        {
          "output_type": "stream",
          "name": "stderr",
          "text": [
            "FutureWarning: The frame.append method is deprecated and will be removed from pandas in a future version. Use pandas.concat instead.\n",
            "  df = df.append(table[1].dropna())\n",
            "<ipython-input-61-77dee5e93da6>:14: FutureWarning: The frame.append method is deprecated and will be removed from pandas in a future version. Use pandas.concat instead.\n",
            "  df = df.append(table[1].dropna())"
          ]
        },
        {
          "output_type": "stream",
          "name": "stdout",
          "text": [
            "https://finance.naver.com/world/sise.naver?symbol=NAS@IXIC#&page=331\n",
            "https://finance.naver.com/world/sise.naver?symbol=NAS@IXIC#&page=332"
          ]
        },
        {
          "output_type": "stream",
          "name": "stderr",
          "text": [
            "FutureWarning: The frame.append method is deprecated and will be removed from pandas in a future version. Use pandas.concat instead.\n",
            "  df = df.append(table[1].dropna())\n",
            "<ipython-input-61-77dee5e93da6>:14: FutureWarning: The frame.append method is deprecated and will be removed from pandas in a future version. Use pandas.concat instead.\n",
            "  df = df.append(table[1].dropna())"
          ]
        },
        {
          "output_type": "stream",
          "name": "stdout",
          "text": [
            "https://finance.naver.com/world/sise.naver?symbol=NAS@IXIC#&page=333\n",
            "https://finance.naver.com/world/sise.naver?symbol=NAS@IXIC#&page=334"
          ]
        },
        {
          "output_type": "stream",
          "name": "stderr",
          "text": [
            "FutureWarning: The frame.append method is deprecated and will be removed from pandas in a future version. Use pandas.concat instead.\n",
            "  df = df.append(table[1].dropna())\n",
            "<ipython-input-61-77dee5e93da6>:14: FutureWarning: The frame.append method is deprecated and will be removed from pandas in a future version. Use pandas.concat instead.\n",
            "  df = df.append(table[1].dropna())"
          ]
        },
        {
          "output_type": "stream",
          "name": "stdout",
          "text": [
            "https://finance.naver.com/world/sise.naver?symbol=NAS@IXIC#&page=335\n",
            "https://finance.naver.com/world/sise.naver?symbol=NAS@IXIC#&page=336"
          ]
        },
        {
          "output_type": "stream",
          "name": "stderr",
          "text": [
            "FutureWarning: The frame.append method is deprecated and will be removed from pandas in a future version. Use pandas.concat instead.\n",
            "  df = df.append(table[1].dropna())\n",
            "<ipython-input-61-77dee5e93da6>:14: FutureWarning: The frame.append method is deprecated and will be removed from pandas in a future version. Use pandas.concat instead.\n",
            "  df = df.append(table[1].dropna())"
          ]
        },
        {
          "output_type": "stream",
          "name": "stdout",
          "text": [
            "https://finance.naver.com/world/sise.naver?symbol=NAS@IXIC#&page=337\n",
            "https://finance.naver.com/world/sise.naver?symbol=NAS@IXIC#&page=338"
          ]
        },
        {
          "output_type": "stream",
          "name": "stderr",
          "text": [
            "FutureWarning: The frame.append method is deprecated and will be removed from pandas in a future version. Use pandas.concat instead.\n",
            "  df = df.append(table[1].dropna())\n",
            "<ipython-input-61-77dee5e93da6>:14: FutureWarning: The frame.append method is deprecated and will be removed from pandas in a future version. Use pandas.concat instead.\n",
            "  df = df.append(table[1].dropna())"
          ]
        },
        {
          "output_type": "stream",
          "name": "stdout",
          "text": [
            "https://finance.naver.com/world/sise.naver?symbol=NAS@IXIC#&page=339\n",
            "https://finance.naver.com/world/sise.naver?symbol=NAS@IXIC#&page=340"
          ]
        },
        {
          "output_type": "stream",
          "name": "stderr",
          "text": [
            "FutureWarning: The frame.append method is deprecated and will be removed from pandas in a future version. Use pandas.concat instead.\n",
            "  df = df.append(table[1].dropna())\n",
            "<ipython-input-61-77dee5e93da6>:14: FutureWarning: The frame.append method is deprecated and will be removed from pandas in a future version. Use pandas.concat instead.\n",
            "  df = df.append(table[1].dropna())"
          ]
        },
        {
          "output_type": "stream",
          "name": "stdout",
          "text": [
            "https://finance.naver.com/world/sise.naver?symbol=NAS@IXIC#&page=341\n",
            "https://finance.naver.com/world/sise.naver?symbol=NAS@IXIC#&page=342"
          ]
        },
        {
          "output_type": "stream",
          "name": "stderr",
          "text": [
            "FutureWarning: The frame.append method is deprecated and will be removed from pandas in a future version. Use pandas.concat instead.\n",
            "  df = df.append(table[1].dropna())\n",
            "<ipython-input-61-77dee5e93da6>:14: FutureWarning: The frame.append method is deprecated and will be removed from pandas in a future version. Use pandas.concat instead.\n",
            "  df = df.append(table[1].dropna())"
          ]
        },
        {
          "output_type": "stream",
          "name": "stdout",
          "text": [
            "https://finance.naver.com/world/sise.naver?symbol=NAS@IXIC#&page=343\n",
            "https://finance.naver.com/world/sise.naver?symbol=NAS@IXIC#&page=344"
          ]
        },
        {
          "output_type": "stream",
          "name": "stderr",
          "text": [
            "FutureWarning: The frame.append method is deprecated and will be removed from pandas in a future version. Use pandas.concat instead.\n",
            "  df = df.append(table[1].dropna())\n",
            "<ipython-input-61-77dee5e93da6>:14: FutureWarning: The frame.append method is deprecated and will be removed from pandas in a future version. Use pandas.concat instead.\n",
            "  df = df.append(table[1].dropna())"
          ]
        },
        {
          "output_type": "stream",
          "name": "stdout",
          "text": [
            "https://finance.naver.com/world/sise.naver?symbol=NAS@IXIC#&page=345\n",
            "https://finance.naver.com/world/sise.naver?symbol=NAS@IXIC#&page=346"
          ]
        },
        {
          "output_type": "stream",
          "name": "stderr",
          "text": [
            "FutureWarning: The frame.append method is deprecated and will be removed from pandas in a future version. Use pandas.concat instead.\n",
            "  df = df.append(table[1].dropna())\n",
            "<ipython-input-61-77dee5e93da6>:14: FutureWarning: The frame.append method is deprecated and will be removed from pandas in a future version. Use pandas.concat instead.\n",
            "  df = df.append(table[1].dropna())"
          ]
        },
        {
          "output_type": "stream",
          "name": "stdout",
          "text": [
            "https://finance.naver.com/world/sise.naver?symbol=NAS@IXIC#&page=347\n",
            "https://finance.naver.com/world/sise.naver?symbol=NAS@IXIC#&page=348"
          ]
        },
        {
          "output_type": "stream",
          "name": "stderr",
          "text": [
            "FutureWarning: The frame.append method is deprecated and will be removed from pandas in a future version. Use pandas.concat instead.\n",
            "  df = df.append(table[1].dropna())\n",
            "<ipython-input-61-77dee5e93da6>:14: FutureWarning: The frame.append method is deprecated and will be removed from pandas in a future version. Use pandas.concat instead.\n",
            "  df = df.append(table[1].dropna())"
          ]
        },
        {
          "output_type": "stream",
          "name": "stdout",
          "text": [
            "https://finance.naver.com/world/sise.naver?symbol=NAS@IXIC#&page=349\n",
            "https://finance.naver.com/world/sise.naver?symbol=NAS@IXIC#&page=350"
          ]
        },
        {
          "output_type": "stream",
          "name": "stderr",
          "text": [
            "FutureWarning: The frame.append method is deprecated and will be removed from pandas in a future version. Use pandas.concat instead.\n",
            "  df = df.append(table[1].dropna())\n",
            "<ipython-input-61-77dee5e93da6>:14: FutureWarning: The frame.append method is deprecated and will be removed from pandas in a future version. Use pandas.concat instead.\n",
            "  df = df.append(table[1].dropna())"
          ]
        },
        {
          "output_type": "stream",
          "name": "stdout",
          "text": [
            "https://finance.naver.com/world/sise.naver?symbol=NAS@IXIC#&page=351\n",
            "https://finance.naver.com/world/sise.naver?symbol=NAS@IXIC#&page=352"
          ]
        },
        {
          "output_type": "stream",
          "name": "stderr",
          "text": [
            "FutureWarning: The frame.append method is deprecated and will be removed from pandas in a future version. Use pandas.concat instead.\n",
            "  df = df.append(table[1].dropna())\n",
            "<ipython-input-61-77dee5e93da6>:14: FutureWarning: The frame.append method is deprecated and will be removed from pandas in a future version. Use pandas.concat instead.\n",
            "  df = df.append(table[1].dropna())"
          ]
        },
        {
          "output_type": "stream",
          "name": "stdout",
          "text": [
            "https://finance.naver.com/world/sise.naver?symbol=NAS@IXIC#&page=353\n",
            "https://finance.naver.com/world/sise.naver?symbol=NAS@IXIC#&page=354"
          ]
        },
        {
          "output_type": "stream",
          "name": "stderr",
          "text": [
            "FutureWarning: The frame.append method is deprecated and will be removed from pandas in a future version. Use pandas.concat instead.\n",
            "  df = df.append(table[1].dropna())\n",
            "<ipython-input-61-77dee5e93da6>:14: FutureWarning: The frame.append method is deprecated and will be removed from pandas in a future version. Use pandas.concat instead.\n",
            "  df = df.append(table[1].dropna())"
          ]
        },
        {
          "output_type": "stream",
          "name": "stdout",
          "text": [
            "https://finance.naver.com/world/sise.naver?symbol=NAS@IXIC#&page=355\n",
            "https://finance.naver.com/world/sise.naver?symbol=NAS@IXIC#&page=356"
          ]
        },
        {
          "output_type": "stream",
          "name": "stderr",
          "text": [
            "FutureWarning: The frame.append method is deprecated and will be removed from pandas in a future version. Use pandas.concat instead.\n",
            "  df = df.append(table[1].dropna())\n",
            "<ipython-input-61-77dee5e93da6>:14: FutureWarning: The frame.append method is deprecated and will be removed from pandas in a future version. Use pandas.concat instead.\n",
            "  df = df.append(table[1].dropna())"
          ]
        },
        {
          "output_type": "stream",
          "name": "stdout",
          "text": [
            "https://finance.naver.com/world/sise.naver?symbol=NAS@IXIC#&page=357\n",
            "https://finance.naver.com/world/sise.naver?symbol=NAS@IXIC#&page=358"
          ]
        },
        {
          "output_type": "stream",
          "name": "stderr",
          "text": [
            "FutureWarning: The frame.append method is deprecated and will be removed from pandas in a future version. Use pandas.concat instead.\n",
            "  df = df.append(table[1].dropna())\n",
            "<ipython-input-61-77dee5e93da6>:14: FutureWarning: The frame.append method is deprecated and will be removed from pandas in a future version. Use pandas.concat instead.\n",
            "  df = df.append(table[1].dropna())"
          ]
        },
        {
          "output_type": "stream",
          "name": "stdout",
          "text": [
            "https://finance.naver.com/world/sise.naver?symbol=NAS@IXIC#&page=359\n",
            "https://finance.naver.com/world/sise.naver?symbol=NAS@IXIC#&page=360"
          ]
        },
        {
          "output_type": "stream",
          "name": "stderr",
          "text": [
            "FutureWarning: The frame.append method is deprecated and will be removed from pandas in a future version. Use pandas.concat instead.\n",
            "  df = df.append(table[1].dropna())"
          ]
        },
        {
          "output_type": "stream",
          "name": "stdout",
          "text": [
            "https://finance.naver.com/world/sise.naver?symbol=NAS@IXIC#&page=361"
          ]
        },
        {
          "output_type": "stream",
          "name": "stderr",
          "text": [
            "FutureWarning: The frame.append method is deprecated and will be removed from pandas in a future version. Use pandas.concat instead.\n",
            "  df = df.append(table[1].dropna())\n",
            "<ipython-input-61-77dee5e93da6>:14: FutureWarning: The frame.append method is deprecated and will be removed from pandas in a future version. Use pandas.concat instead.\n",
            "  df = df.append(table[1].dropna())"
          ]
        },
        {
          "output_type": "stream",
          "name": "stdout",
          "text": [
            "https://finance.naver.com/world/sise.naver?symbol=NAS@IXIC#&page=362\n",
            "https://finance.naver.com/world/sise.naver?symbol=NAS@IXIC#&page=363"
          ]
        },
        {
          "output_type": "stream",
          "name": "stderr",
          "text": [
            "FutureWarning: The frame.append method is deprecated and will be removed from pandas in a future version. Use pandas.concat instead.\n",
            "  df = df.append(table[1].dropna())\n",
            "<ipython-input-61-77dee5e93da6>:14: FutureWarning: The frame.append method is deprecated and will be removed from pandas in a future version. Use pandas.concat instead.\n",
            "  df = df.append(table[1].dropna())"
          ]
        },
        {
          "output_type": "stream",
          "name": "stdout",
          "text": [
            "https://finance.naver.com/world/sise.naver?symbol=NAS@IXIC#&page=364\n",
            "https://finance.naver.com/world/sise.naver?symbol=NAS@IXIC#&page=365"
          ]
        },
        {
          "output_type": "stream",
          "name": "stderr",
          "text": [
            "FutureWarning: The frame.append method is deprecated and will be removed from pandas in a future version. Use pandas.concat instead.\n",
            "  df = df.append(table[1].dropna())\n",
            "<ipython-input-61-77dee5e93da6>:14: FutureWarning: The frame.append method is deprecated and will be removed from pandas in a future version. Use pandas.concat instead.\n",
            "  df = df.append(table[1].dropna())"
          ]
        },
        {
          "output_type": "stream",
          "name": "stdout",
          "text": [
            "https://finance.naver.com/world/sise.naver?symbol=NAS@IXIC#&page=366\n",
            "https://finance.naver.com/world/sise.naver?symbol=NAS@IXIC#&page=367"
          ]
        },
        {
          "output_type": "stream",
          "name": "stderr",
          "text": [
            "FutureWarning: The frame.append method is deprecated and will be removed from pandas in a future version. Use pandas.concat instead.\n",
            "  df = df.append(table[1].dropna())\n",
            "<ipython-input-61-77dee5e93da6>:14: FutureWarning: The frame.append method is deprecated and will be removed from pandas in a future version. Use pandas.concat instead.\n",
            "  df = df.append(table[1].dropna())"
          ]
        },
        {
          "output_type": "stream",
          "name": "stdout",
          "text": [
            "https://finance.naver.com/world/sise.naver?symbol=NAS@IXIC#&page=368\n",
            "https://finance.naver.com/world/sise.naver?symbol=NAS@IXIC#&page=369"
          ]
        },
        {
          "output_type": "stream",
          "name": "stderr",
          "text": [
            "FutureWarning: The frame.append method is deprecated and will be removed from pandas in a future version. Use pandas.concat instead.\n",
            "  df = df.append(table[1].dropna())\n",
            "<ipython-input-61-77dee5e93da6>:14: FutureWarning: The frame.append method is deprecated and will be removed from pandas in a future version. Use pandas.concat instead.\n",
            "  df = df.append(table[1].dropna())"
          ]
        },
        {
          "output_type": "stream",
          "name": "stdout",
          "text": [
            "https://finance.naver.com/world/sise.naver?symbol=NAS@IXIC#&page=370\n",
            "https://finance.naver.com/world/sise.naver?symbol=NAS@IXIC#&page=371"
          ]
        },
        {
          "output_type": "stream",
          "name": "stderr",
          "text": [
            "FutureWarning: The frame.append method is deprecated and will be removed from pandas in a future version. Use pandas.concat instead.\n",
            "  df = df.append(table[1].dropna())"
          ]
        },
        {
          "output_type": "stream",
          "name": "stdout",
          "text": [
            "https://finance.naver.com/world/sise.naver?symbol=NAS@IXIC#&page=372"
          ]
        },
        {
          "output_type": "stream",
          "name": "stderr",
          "text": [
            "FutureWarning: The frame.append method is deprecated and will be removed from pandas in a future version. Use pandas.concat instead.\n",
            "  df = df.append(table[1].dropna())\n",
            "<ipython-input-61-77dee5e93da6>:14: FutureWarning: The frame.append method is deprecated and will be removed from pandas in a future version. Use pandas.concat instead.\n",
            "  df = df.append(table[1].dropna())"
          ]
        },
        {
          "output_type": "stream",
          "name": "stdout",
          "text": [
            "https://finance.naver.com/world/sise.naver?symbol=NAS@IXIC#&page=373\n",
            "https://finance.naver.com/world/sise.naver?symbol=NAS@IXIC#&page=374"
          ]
        },
        {
          "output_type": "stream",
          "name": "stderr",
          "text": [
            "FutureWarning: The frame.append method is deprecated and will be removed from pandas in a future version. Use pandas.concat instead.\n",
            "  df = df.append(table[1].dropna())\n",
            "<ipython-input-61-77dee5e93da6>:14: FutureWarning: The frame.append method is deprecated and will be removed from pandas in a future version. Use pandas.concat instead.\n",
            "  df = df.append(table[1].dropna())"
          ]
        },
        {
          "output_type": "stream",
          "name": "stdout",
          "text": [
            "https://finance.naver.com/world/sise.naver?symbol=NAS@IXIC#&page=375\n",
            "https://finance.naver.com/world/sise.naver?symbol=NAS@IXIC#&page=376"
          ]
        },
        {
          "output_type": "stream",
          "name": "stderr",
          "text": [
            "FutureWarning: The frame.append method is deprecated and will be removed from pandas in a future version. Use pandas.concat instead.\n",
            "  df = df.append(table[1].dropna())\n",
            "<ipython-input-61-77dee5e93da6>:14: FutureWarning: The frame.append method is deprecated and will be removed from pandas in a future version. Use pandas.concat instead.\n",
            "  df = df.append(table[1].dropna())"
          ]
        },
        {
          "output_type": "stream",
          "name": "stdout",
          "text": [
            "https://finance.naver.com/world/sise.naver?symbol=NAS@IXIC#&page=377\n",
            "https://finance.naver.com/world/sise.naver?symbol=NAS@IXIC#&page=378"
          ]
        },
        {
          "output_type": "stream",
          "name": "stderr",
          "text": [
            "FutureWarning: The frame.append method is deprecated and will be removed from pandas in a future version. Use pandas.concat instead.\n",
            "  df = df.append(table[1].dropna())\n",
            "<ipython-input-61-77dee5e93da6>:14: FutureWarning: The frame.append method is deprecated and will be removed from pandas in a future version. Use pandas.concat instead.\n",
            "  df = df.append(table[1].dropna())"
          ]
        },
        {
          "output_type": "stream",
          "name": "stdout",
          "text": [
            "https://finance.naver.com/world/sise.naver?symbol=NAS@IXIC#&page=379\n",
            "https://finance.naver.com/world/sise.naver?symbol=NAS@IXIC#&page=380"
          ]
        },
        {
          "output_type": "stream",
          "name": "stderr",
          "text": [
            "FutureWarning: The frame.append method is deprecated and will be removed from pandas in a future version. Use pandas.concat instead.\n",
            "  df = df.append(table[1].dropna())\n",
            "<ipython-input-61-77dee5e93da6>:14: FutureWarning: The frame.append method is deprecated and will be removed from pandas in a future version. Use pandas.concat instead.\n",
            "  df = df.append(table[1].dropna())"
          ]
        },
        {
          "output_type": "stream",
          "name": "stdout",
          "text": [
            "https://finance.naver.com/world/sise.naver?symbol=NAS@IXIC#&page=381\n",
            "https://finance.naver.com/world/sise.naver?symbol=NAS@IXIC#&page=382"
          ]
        },
        {
          "output_type": "stream",
          "name": "stderr",
          "text": [
            "FutureWarning: The frame.append method is deprecated and will be removed from pandas in a future version. Use pandas.concat instead.\n",
            "  df = df.append(table[1].dropna())\n",
            "<ipython-input-61-77dee5e93da6>:14: FutureWarning: The frame.append method is deprecated and will be removed from pandas in a future version. Use pandas.concat instead.\n",
            "  df = df.append(table[1].dropna())"
          ]
        },
        {
          "output_type": "stream",
          "name": "stdout",
          "text": [
            "https://finance.naver.com/world/sise.naver?symbol=NAS@IXIC#&page=383\n",
            "https://finance.naver.com/world/sise.naver?symbol=NAS@IXIC#&page=384"
          ]
        },
        {
          "output_type": "stream",
          "name": "stderr",
          "text": [
            "FutureWarning: The frame.append method is deprecated and will be removed from pandas in a future version. Use pandas.concat instead.\n",
            "  df = df.append(table[1].dropna())\n",
            "<ipython-input-61-77dee5e93da6>:14: FutureWarning: The frame.append method is deprecated and will be removed from pandas in a future version. Use pandas.concat instead.\n",
            "  df = df.append(table[1].dropna())"
          ]
        },
        {
          "output_type": "stream",
          "name": "stdout",
          "text": [
            "https://finance.naver.com/world/sise.naver?symbol=NAS@IXIC#&page=385\n",
            "https://finance.naver.com/world/sise.naver?symbol=NAS@IXIC#&page=386"
          ]
        },
        {
          "output_type": "stream",
          "name": "stderr",
          "text": [
            "FutureWarning: The frame.append method is deprecated and will be removed from pandas in a future version. Use pandas.concat instead.\n",
            "  df = df.append(table[1].dropna())\n",
            "<ipython-input-61-77dee5e93da6>:14: FutureWarning: The frame.append method is deprecated and will be removed from pandas in a future version. Use pandas.concat instead.\n",
            "  df = df.append(table[1].dropna())"
          ]
        },
        {
          "output_type": "stream",
          "name": "stdout",
          "text": [
            "https://finance.naver.com/world/sise.naver?symbol=NAS@IXIC#&page=387\n",
            "https://finance.naver.com/world/sise.naver?symbol=NAS@IXIC#&page=388"
          ]
        },
        {
          "output_type": "stream",
          "name": "stderr",
          "text": [
            "FutureWarning: The frame.append method is deprecated and will be removed from pandas in a future version. Use pandas.concat instead.\n",
            "  df = df.append(table[1].dropna())\n",
            "<ipython-input-61-77dee5e93da6>:14: FutureWarning: The frame.append method is deprecated and will be removed from pandas in a future version. Use pandas.concat instead.\n",
            "  df = df.append(table[1].dropna())"
          ]
        },
        {
          "output_type": "stream",
          "name": "stdout",
          "text": [
            "https://finance.naver.com/world/sise.naver?symbol=NAS@IXIC#&page=389\n",
            "https://finance.naver.com/world/sise.naver?symbol=NAS@IXIC#&page=390"
          ]
        },
        {
          "output_type": "stream",
          "name": "stderr",
          "text": [
            "FutureWarning: The frame.append method is deprecated and will be removed from pandas in a future version. Use pandas.concat instead.\n",
            "  df = df.append(table[1].dropna())\n",
            "<ipython-input-61-77dee5e93da6>:14: FutureWarning: The frame.append method is deprecated and will be removed from pandas in a future version. Use pandas.concat instead.\n",
            "  df = df.append(table[1].dropna())"
          ]
        },
        {
          "output_type": "stream",
          "name": "stdout",
          "text": [
            "https://finance.naver.com/world/sise.naver?symbol=NAS@IXIC#&page=391\n",
            "https://finance.naver.com/world/sise.naver?symbol=NAS@IXIC#&page=392"
          ]
        },
        {
          "output_type": "stream",
          "name": "stderr",
          "text": [
            "FutureWarning: The frame.append method is deprecated and will be removed from pandas in a future version. Use pandas.concat instead.\n",
            "  df = df.append(table[1].dropna())"
          ]
        },
        {
          "output_type": "stream",
          "name": "stdout",
          "text": [
            "https://finance.naver.com/world/sise.naver?symbol=NAS@IXIC#&page=393"
          ]
        },
        {
          "output_type": "stream",
          "name": "stderr",
          "text": [
            "FutureWarning: The frame.append method is deprecated and will be removed from pandas in a future version. Use pandas.concat instead.\n",
            "  df = df.append(table[1].dropna())\n",
            "<ipython-input-61-77dee5e93da6>:14: FutureWarning: The frame.append method is deprecated and will be removed from pandas in a future version. Use pandas.concat instead.\n",
            "  df = df.append(table[1].dropna())"
          ]
        },
        {
          "output_type": "stream",
          "name": "stdout",
          "text": [
            "https://finance.naver.com/world/sise.naver?symbol=NAS@IXIC#&page=394\n",
            "https://finance.naver.com/world/sise.naver?symbol=NAS@IXIC#&page=395"
          ]
        },
        {
          "output_type": "stream",
          "name": "stderr",
          "text": [
            "FutureWarning: The frame.append method is deprecated and will be removed from pandas in a future version. Use pandas.concat instead.\n",
            "  df = df.append(table[1].dropna())\n",
            "<ipython-input-61-77dee5e93da6>:14: FutureWarning: The frame.append method is deprecated and will be removed from pandas in a future version. Use pandas.concat instead.\n",
            "  df = df.append(table[1].dropna())"
          ]
        },
        {
          "output_type": "stream",
          "name": "stdout",
          "text": [
            "https://finance.naver.com/world/sise.naver?symbol=NAS@IXIC#&page=396\n",
            "https://finance.naver.com/world/sise.naver?symbol=NAS@IXIC#&page=397"
          ]
        },
        {
          "output_type": "stream",
          "name": "stderr",
          "text": [
            "FutureWarning: The frame.append method is deprecated and will be removed from pandas in a future version. Use pandas.concat instead.\n",
            "  df = df.append(table[1].dropna())\n",
            "<ipython-input-61-77dee5e93da6>:14: FutureWarning: The frame.append method is deprecated and will be removed from pandas in a future version. Use pandas.concat instead.\n",
            "  df = df.append(table[1].dropna())"
          ]
        },
        {
          "output_type": "stream",
          "name": "stdout",
          "text": [
            "https://finance.naver.com/world/sise.naver?symbol=NAS@IXIC#&page=398\n",
            "https://finance.naver.com/world/sise.naver?symbol=NAS@IXIC#&page=399"
          ]
        },
        {
          "output_type": "stream",
          "name": "stderr",
          "text": [
            "FutureWarning: The frame.append method is deprecated and will be removed from pandas in a future version. Use pandas.concat instead.\n",
            "  df = df.append(table[1].dropna())\n",
            "<ipython-input-61-77dee5e93da6>:14: FutureWarning: The frame.append method is deprecated and will be removed from pandas in a future version. Use pandas.concat instead.\n",
            "  df = df.append(table[1].dropna())"
          ]
        },
        {
          "output_type": "stream",
          "name": "stdout",
          "text": [
            "https://finance.naver.com/world/sise.naver?symbol=NAS@IXIC#&page=400\n",
            "https://finance.naver.com/world/sise.naver?symbol=NAS@IXIC#&page=401"
          ]
        },
        {
          "output_type": "stream",
          "name": "stderr",
          "text": [
            "FutureWarning: The frame.append method is deprecated and will be removed from pandas in a future version. Use pandas.concat instead.\n",
            "  df = df.append(table[1].dropna())\n",
            "<ipython-input-61-77dee5e93da6>:14: FutureWarning: The frame.append method is deprecated and will be removed from pandas in a future version. Use pandas.concat instead.\n",
            "  df = df.append(table[1].dropna())"
          ]
        },
        {
          "output_type": "stream",
          "name": "stdout",
          "text": [
            "https://finance.naver.com/world/sise.naver?symbol=NAS@IXIC#&page=402\n",
            "https://finance.naver.com/world/sise.naver?symbol=NAS@IXIC#&page=403"
          ]
        },
        {
          "output_type": "stream",
          "name": "stderr",
          "text": [
            "FutureWarning: The frame.append method is deprecated and will be removed from pandas in a future version. Use pandas.concat instead.\n",
            "  df = df.append(table[1].dropna())\n",
            "<ipython-input-61-77dee5e93da6>:14: FutureWarning: The frame.append method is deprecated and will be removed from pandas in a future version. Use pandas.concat instead.\n",
            "  df = df.append(table[1].dropna())"
          ]
        },
        {
          "output_type": "stream",
          "name": "stdout",
          "text": [
            "https://finance.naver.com/world/sise.naver?symbol=NAS@IXIC#&page=404\n",
            "https://finance.naver.com/world/sise.naver?symbol=NAS@IXIC#&page=405"
          ]
        },
        {
          "output_type": "stream",
          "name": "stderr",
          "text": [
            "FutureWarning: The frame.append method is deprecated and will be removed from pandas in a future version. Use pandas.concat instead.\n",
            "  df = df.append(table[1].dropna())\n",
            "<ipython-input-61-77dee5e93da6>:14: FutureWarning: The frame.append method is deprecated and will be removed from pandas in a future version. Use pandas.concat instead.\n",
            "  df = df.append(table[1].dropna())"
          ]
        },
        {
          "output_type": "stream",
          "name": "stdout",
          "text": [
            "https://finance.naver.com/world/sise.naver?symbol=NAS@IXIC#&page=406\n",
            "https://finance.naver.com/world/sise.naver?symbol=NAS@IXIC#&page=407"
          ]
        },
        {
          "output_type": "stream",
          "name": "stderr",
          "text": [
            "FutureWarning: The frame.append method is deprecated and will be removed from pandas in a future version. Use pandas.concat instead.\n",
            "  df = df.append(table[1].dropna())\n",
            "<ipython-input-61-77dee5e93da6>:14: FutureWarning: The frame.append method is deprecated and will be removed from pandas in a future version. Use pandas.concat instead.\n",
            "  df = df.append(table[1].dropna())"
          ]
        },
        {
          "output_type": "stream",
          "name": "stdout",
          "text": [
            "https://finance.naver.com/world/sise.naver?symbol=NAS@IXIC#&page=408\n",
            "https://finance.naver.com/world/sise.naver?symbol=NAS@IXIC#&page=409"
          ]
        },
        {
          "output_type": "stream",
          "name": "stderr",
          "text": [
            "FutureWarning: The frame.append method is deprecated and will be removed from pandas in a future version. Use pandas.concat instead.\n",
            "  df = df.append(table[1].dropna())\n",
            "<ipython-input-61-77dee5e93da6>:14: FutureWarning: The frame.append method is deprecated and will be removed from pandas in a future version. Use pandas.concat instead.\n",
            "  df = df.append(table[1].dropna())"
          ]
        },
        {
          "output_type": "stream",
          "name": "stdout",
          "text": [
            "https://finance.naver.com/world/sise.naver?symbol=NAS@IXIC#&page=410\n",
            "https://finance.naver.com/world/sise.naver?symbol=NAS@IXIC#&page=411"
          ]
        },
        {
          "output_type": "stream",
          "name": "stderr",
          "text": [
            "FutureWarning: The frame.append method is deprecated and will be removed from pandas in a future version. Use pandas.concat instead.\n",
            "  df = df.append(table[1].dropna())\n",
            "<ipython-input-61-77dee5e93da6>:14: FutureWarning: The frame.append method is deprecated and will be removed from pandas in a future version. Use pandas.concat instead.\n",
            "  df = df.append(table[1].dropna())"
          ]
        },
        {
          "output_type": "stream",
          "name": "stdout",
          "text": [
            "https://finance.naver.com/world/sise.naver?symbol=NAS@IXIC#&page=412\n",
            "https://finance.naver.com/world/sise.naver?symbol=NAS@IXIC#&page=413"
          ]
        },
        {
          "output_type": "stream",
          "name": "stderr",
          "text": [
            "FutureWarning: The frame.append method is deprecated and will be removed from pandas in a future version. Use pandas.concat instead.\n",
            "  df = df.append(table[1].dropna())\n",
            "<ipython-input-61-77dee5e93da6>:14: FutureWarning: The frame.append method is deprecated and will be removed from pandas in a future version. Use pandas.concat instead.\n",
            "  df = df.append(table[1].dropna())"
          ]
        },
        {
          "output_type": "stream",
          "name": "stdout",
          "text": [
            "https://finance.naver.com/world/sise.naver?symbol=NAS@IXIC#&page=414\n",
            "https://finance.naver.com/world/sise.naver?symbol=NAS@IXIC#&page=415"
          ]
        },
        {
          "output_type": "stream",
          "name": "stderr",
          "text": [
            "FutureWarning: The frame.append method is deprecated and will be removed from pandas in a future version. Use pandas.concat instead.\n",
            "  df = df.append(table[1].dropna())\n",
            "<ipython-input-61-77dee5e93da6>:14: FutureWarning: The frame.append method is deprecated and will be removed from pandas in a future version. Use pandas.concat instead.\n",
            "  df = df.append(table[1].dropna())"
          ]
        },
        {
          "output_type": "stream",
          "name": "stdout",
          "text": [
            "https://finance.naver.com/world/sise.naver?symbol=NAS@IXIC#&page=416\n",
            "https://finance.naver.com/world/sise.naver?symbol=NAS@IXIC#&page=417"
          ]
        },
        {
          "output_type": "stream",
          "name": "stderr",
          "text": [
            "FutureWarning: The frame.append method is deprecated and will be removed from pandas in a future version. Use pandas.concat instead.\n",
            "  df = df.append(table[1].dropna())\n",
            "<ipython-input-61-77dee5e93da6>:14: FutureWarning: The frame.append method is deprecated and will be removed from pandas in a future version. Use pandas.concat instead.\n",
            "  df = df.append(table[1].dropna())"
          ]
        },
        {
          "output_type": "stream",
          "name": "stdout",
          "text": [
            "https://finance.naver.com/world/sise.naver?symbol=NAS@IXIC#&page=418\n",
            "https://finance.naver.com/world/sise.naver?symbol=NAS@IXIC#&page=419"
          ]
        },
        {
          "output_type": "stream",
          "name": "stderr",
          "text": [
            "FutureWarning: The frame.append method is deprecated and will be removed from pandas in a future version. Use pandas.concat instead.\n",
            "  df = df.append(table[1].dropna())\n",
            "<ipython-input-61-77dee5e93da6>:14: FutureWarning: The frame.append method is deprecated and will be removed from pandas in a future version. Use pandas.concat instead.\n",
            "  df = df.append(table[1].dropna())"
          ]
        },
        {
          "output_type": "stream",
          "name": "stdout",
          "text": [
            "https://finance.naver.com/world/sise.naver?symbol=NAS@IXIC#&page=420\n",
            "https://finance.naver.com/world/sise.naver?symbol=NAS@IXIC#&page=421"
          ]
        },
        {
          "output_type": "stream",
          "name": "stderr",
          "text": [
            "FutureWarning: The frame.append method is deprecated and will be removed from pandas in a future version. Use pandas.concat instead.\n",
            "  df = df.append(table[1].dropna())\n",
            "<ipython-input-61-77dee5e93da6>:14: FutureWarning: The frame.append method is deprecated and will be removed from pandas in a future version. Use pandas.concat instead.\n",
            "  df = df.append(table[1].dropna())"
          ]
        },
        {
          "output_type": "stream",
          "name": "stdout",
          "text": [
            "https://finance.naver.com/world/sise.naver?symbol=NAS@IXIC#&page=422\n",
            "https://finance.naver.com/world/sise.naver?symbol=NAS@IXIC#&page=423"
          ]
        },
        {
          "output_type": "stream",
          "name": "stderr",
          "text": [
            "FutureWarning: The frame.append method is deprecated and will be removed from pandas in a future version. Use pandas.concat instead.\n",
            "  df = df.append(table[1].dropna())"
          ]
        },
        {
          "output_type": "stream",
          "name": "stdout",
          "text": [
            "https://finance.naver.com/world/sise.naver?symbol=NAS@IXIC#&page=424"
          ]
        },
        {
          "output_type": "stream",
          "name": "stderr",
          "text": [
            "FutureWarning: The frame.append method is deprecated and will be removed from pandas in a future version. Use pandas.concat instead.\n",
            "  df = df.append(table[1].dropna())\n",
            "<ipython-input-61-77dee5e93da6>:14: FutureWarning: The frame.append method is deprecated and will be removed from pandas in a future version. Use pandas.concat instead.\n",
            "  df = df.append(table[1].dropna())"
          ]
        },
        {
          "output_type": "stream",
          "name": "stdout",
          "text": [
            "https://finance.naver.com/world/sise.naver?symbol=NAS@IXIC#&page=425\n",
            "https://finance.naver.com/world/sise.naver?symbol=NAS@IXIC#&page=426"
          ]
        },
        {
          "output_type": "stream",
          "name": "stderr",
          "text": [
            "FutureWarning: The frame.append method is deprecated and will be removed from pandas in a future version. Use pandas.concat instead.\n",
            "  df = df.append(table[1].dropna())\n",
            "<ipython-input-61-77dee5e93da6>:14: FutureWarning: The frame.append method is deprecated and will be removed from pandas in a future version. Use pandas.concat instead.\n",
            "  df = df.append(table[1].dropna())"
          ]
        },
        {
          "output_type": "stream",
          "name": "stdout",
          "text": [
            "https://finance.naver.com/world/sise.naver?symbol=NAS@IXIC#&page=427\n",
            "https://finance.naver.com/world/sise.naver?symbol=NAS@IXIC#&page=428"
          ]
        },
        {
          "output_type": "stream",
          "name": "stderr",
          "text": [
            "FutureWarning: The frame.append method is deprecated and will be removed from pandas in a future version. Use pandas.concat instead.\n",
            "  df = df.append(table[1].dropna())\n",
            "<ipython-input-61-77dee5e93da6>:14: FutureWarning: The frame.append method is deprecated and will be removed from pandas in a future version. Use pandas.concat instead.\n",
            "  df = df.append(table[1].dropna())"
          ]
        },
        {
          "output_type": "stream",
          "name": "stdout",
          "text": [
            "https://finance.naver.com/world/sise.naver?symbol=NAS@IXIC#&page=429\n",
            "https://finance.naver.com/world/sise.naver?symbol=NAS@IXIC#&page=430"
          ]
        },
        {
          "output_type": "stream",
          "name": "stderr",
          "text": [
            "FutureWarning: The frame.append method is deprecated and will be removed from pandas in a future version. Use pandas.concat instead.\n",
            "  df = df.append(table[1].dropna())\n",
            "<ipython-input-61-77dee5e93da6>:14: FutureWarning: The frame.append method is deprecated and will be removed from pandas in a future version. Use pandas.concat instead.\n",
            "  df = df.append(table[1].dropna())"
          ]
        },
        {
          "output_type": "stream",
          "name": "stdout",
          "text": [
            "https://finance.naver.com/world/sise.naver?symbol=NAS@IXIC#&page=431\n",
            "https://finance.naver.com/world/sise.naver?symbol=NAS@IXIC#&page=432"
          ]
        },
        {
          "output_type": "stream",
          "name": "stderr",
          "text": [
            "FutureWarning: The frame.append method is deprecated and will be removed from pandas in a future version. Use pandas.concat instead.\n",
            "  df = df.append(table[1].dropna())\n",
            "<ipython-input-61-77dee5e93da6>:14: FutureWarning: The frame.append method is deprecated and will be removed from pandas in a future version. Use pandas.concat instead.\n",
            "  df = df.append(table[1].dropna())"
          ]
        },
        {
          "output_type": "stream",
          "name": "stdout",
          "text": [
            "https://finance.naver.com/world/sise.naver?symbol=NAS@IXIC#&page=433\n",
            "https://finance.naver.com/world/sise.naver?symbol=NAS@IXIC#&page=434"
          ]
        },
        {
          "output_type": "stream",
          "name": "stderr",
          "text": [
            "FutureWarning: The frame.append method is deprecated and will be removed from pandas in a future version. Use pandas.concat instead.\n",
            "  df = df.append(table[1].dropna())\n",
            "<ipython-input-61-77dee5e93da6>:14: FutureWarning: The frame.append method is deprecated and will be removed from pandas in a future version. Use pandas.concat instead.\n",
            "  df = df.append(table[1].dropna())"
          ]
        },
        {
          "output_type": "stream",
          "name": "stdout",
          "text": [
            "https://finance.naver.com/world/sise.naver?symbol=NAS@IXIC#&page=435\n",
            "https://finance.naver.com/world/sise.naver?symbol=NAS@IXIC#&page=436"
          ]
        },
        {
          "output_type": "stream",
          "name": "stderr",
          "text": [
            "FutureWarning: The frame.append method is deprecated and will be removed from pandas in a future version. Use pandas.concat instead.\n",
            "  df = df.append(table[1].dropna())\n",
            "<ipython-input-61-77dee5e93da6>:14: FutureWarning: The frame.append method is deprecated and will be removed from pandas in a future version. Use pandas.concat instead.\n",
            "  df = df.append(table[1].dropna())"
          ]
        },
        {
          "output_type": "stream",
          "name": "stdout",
          "text": [
            "https://finance.naver.com/world/sise.naver?symbol=NAS@IXIC#&page=437\n",
            "https://finance.naver.com/world/sise.naver?symbol=NAS@IXIC#&page=438"
          ]
        },
        {
          "output_type": "stream",
          "name": "stderr",
          "text": [
            "FutureWarning: The frame.append method is deprecated and will be removed from pandas in a future version. Use pandas.concat instead.\n",
            "  df = df.append(table[1].dropna())\n",
            "<ipython-input-61-77dee5e93da6>:14: FutureWarning: The frame.append method is deprecated and will be removed from pandas in a future version. Use pandas.concat instead.\n",
            "  df = df.append(table[1].dropna())"
          ]
        },
        {
          "output_type": "stream",
          "name": "stdout",
          "text": [
            "https://finance.naver.com/world/sise.naver?symbol=NAS@IXIC#&page=439\n",
            "https://finance.naver.com/world/sise.naver?symbol=NAS@IXIC#&page=440"
          ]
        },
        {
          "output_type": "stream",
          "name": "stderr",
          "text": [
            "FutureWarning: The frame.append method is deprecated and will be removed from pandas in a future version. Use pandas.concat instead.\n",
            "  df = df.append(table[1].dropna())\n",
            "<ipython-input-61-77dee5e93da6>:14: FutureWarning: The frame.append method is deprecated and will be removed from pandas in a future version. Use pandas.concat instead.\n",
            "  df = df.append(table[1].dropna())"
          ]
        },
        {
          "output_type": "stream",
          "name": "stdout",
          "text": [
            "https://finance.naver.com/world/sise.naver?symbol=NAS@IXIC#&page=441\n",
            "https://finance.naver.com/world/sise.naver?symbol=NAS@IXIC#&page=442"
          ]
        },
        {
          "output_type": "stream",
          "name": "stderr",
          "text": [
            "FutureWarning: The frame.append method is deprecated and will be removed from pandas in a future version. Use pandas.concat instead.\n",
            "  df = df.append(table[1].dropna())\n",
            "<ipython-input-61-77dee5e93da6>:14: FutureWarning: The frame.append method is deprecated and will be removed from pandas in a future version. Use pandas.concat instead.\n",
            "  df = df.append(table[1].dropna())"
          ]
        },
        {
          "output_type": "stream",
          "name": "stdout",
          "text": [
            "https://finance.naver.com/world/sise.naver?symbol=NAS@IXIC#&page=443\n",
            "https://finance.naver.com/world/sise.naver?symbol=NAS@IXIC#&page=444"
          ]
        },
        {
          "output_type": "stream",
          "name": "stderr",
          "text": [
            "FutureWarning: The frame.append method is deprecated and will be removed from pandas in a future version. Use pandas.concat instead.\n",
            "  df = df.append(table[1].dropna())\n",
            "<ipython-input-61-77dee5e93da6>:14: FutureWarning: The frame.append method is deprecated and will be removed from pandas in a future version. Use pandas.concat instead.\n",
            "  df = df.append(table[1].dropna())"
          ]
        },
        {
          "output_type": "stream",
          "name": "stdout",
          "text": [
            "https://finance.naver.com/world/sise.naver?symbol=NAS@IXIC#&page=445\n",
            "https://finance.naver.com/world/sise.naver?symbol=NAS@IXIC#&page=446"
          ]
        },
        {
          "output_type": "stream",
          "name": "stderr",
          "text": [
            "FutureWarning: The frame.append method is deprecated and will be removed from pandas in a future version. Use pandas.concat instead.\n",
            "  df = df.append(table[1].dropna())\n",
            "<ipython-input-61-77dee5e93da6>:14: FutureWarning: The frame.append method is deprecated and will be removed from pandas in a future version. Use pandas.concat instead.\n",
            "  df = df.append(table[1].dropna())"
          ]
        },
        {
          "output_type": "stream",
          "name": "stdout",
          "text": [
            "https://finance.naver.com/world/sise.naver?symbol=NAS@IXIC#&page=447\n",
            "https://finance.naver.com/world/sise.naver?symbol=NAS@IXIC#&page=448"
          ]
        },
        {
          "output_type": "stream",
          "name": "stderr",
          "text": [
            "FutureWarning: The frame.append method is deprecated and will be removed from pandas in a future version. Use pandas.concat instead.\n",
            "  df = df.append(table[1].dropna())\n",
            "<ipython-input-61-77dee5e93da6>:14: FutureWarning: The frame.append method is deprecated and will be removed from pandas in a future version. Use pandas.concat instead.\n",
            "  df = df.append(table[1].dropna())"
          ]
        },
        {
          "output_type": "stream",
          "name": "stdout",
          "text": [
            "https://finance.naver.com/world/sise.naver?symbol=NAS@IXIC#&page=449\n",
            "https://finance.naver.com/world/sise.naver?symbol=NAS@IXIC#&page=450"
          ]
        },
        {
          "output_type": "stream",
          "name": "stderr",
          "text": [
            "FutureWarning: The frame.append method is deprecated and will be removed from pandas in a future version. Use pandas.concat instead.\n",
            "  df = df.append(table[1].dropna())\n",
            "<ipython-input-61-77dee5e93da6>:14: FutureWarning: The frame.append method is deprecated and will be removed from pandas in a future version. Use pandas.concat instead.\n",
            "  df = df.append(table[1].dropna())"
          ]
        },
        {
          "output_type": "stream",
          "name": "stdout",
          "text": [
            "https://finance.naver.com/world/sise.naver?symbol=NAS@IXIC#&page=451\n",
            "https://finance.naver.com/world/sise.naver?symbol=NAS@IXIC#&page=452"
          ]
        },
        {
          "output_type": "stream",
          "name": "stderr",
          "text": [
            "FutureWarning: The frame.append method is deprecated and will be removed from pandas in a future version. Use pandas.concat instead.\n",
            "  df = df.append(table[1].dropna())\n",
            "<ipython-input-61-77dee5e93da6>:14: FutureWarning: The frame.append method is deprecated and will be removed from pandas in a future version. Use pandas.concat instead.\n",
            "  df = df.append(table[1].dropna())"
          ]
        },
        {
          "output_type": "stream",
          "name": "stdout",
          "text": [
            "https://finance.naver.com/world/sise.naver?symbol=NAS@IXIC#&page=453\n",
            "https://finance.naver.com/world/sise.naver?symbol=NAS@IXIC#&page=454"
          ]
        },
        {
          "output_type": "stream",
          "name": "stderr",
          "text": [
            "FutureWarning: The frame.append method is deprecated and will be removed from pandas in a future version. Use pandas.concat instead.\n",
            "  df = df.append(table[1].dropna())\n",
            "<ipython-input-61-77dee5e93da6>:14: FutureWarning: The frame.append method is deprecated and will be removed from pandas in a future version. Use pandas.concat instead.\n",
            "  df = df.append(table[1].dropna())"
          ]
        },
        {
          "output_type": "stream",
          "name": "stdout",
          "text": [
            "https://finance.naver.com/world/sise.naver?symbol=NAS@IXIC#&page=455\n",
            "https://finance.naver.com/world/sise.naver?symbol=NAS@IXIC#&page=456"
          ]
        },
        {
          "output_type": "stream",
          "name": "stderr",
          "text": [
            "FutureWarning: The frame.append method is deprecated and will be removed from pandas in a future version. Use pandas.concat instead.\n",
            "  df = df.append(table[1].dropna())\n",
            "<ipython-input-61-77dee5e93da6>:14: FutureWarning: The frame.append method is deprecated and will be removed from pandas in a future version. Use pandas.concat instead.\n",
            "  df = df.append(table[1].dropna())"
          ]
        },
        {
          "output_type": "stream",
          "name": "stdout",
          "text": [
            "https://finance.naver.com/world/sise.naver?symbol=NAS@IXIC#&page=457\n",
            "https://finance.naver.com/world/sise.naver?symbol=NAS@IXIC#&page=458"
          ]
        },
        {
          "output_type": "stream",
          "name": "stderr",
          "text": [
            "FutureWarning: The frame.append method is deprecated and will be removed from pandas in a future version. Use pandas.concat instead.\n",
            "  df = df.append(table[1].dropna())\n",
            "<ipython-input-61-77dee5e93da6>:14: FutureWarning: The frame.append method is deprecated and will be removed from pandas in a future version. Use pandas.concat instead.\n",
            "  df = df.append(table[1].dropna())"
          ]
        },
        {
          "output_type": "stream",
          "name": "stdout",
          "text": [
            "https://finance.naver.com/world/sise.naver?symbol=NAS@IXIC#&page=459\n",
            "https://finance.naver.com/world/sise.naver?symbol=NAS@IXIC#&page=460"
          ]
        },
        {
          "output_type": "stream",
          "name": "stderr",
          "text": [
            "FutureWarning: The frame.append method is deprecated and will be removed from pandas in a future version. Use pandas.concat instead.\n",
            "  df = df.append(table[1].dropna())\n",
            "<ipython-input-61-77dee5e93da6>:14: FutureWarning: The frame.append method is deprecated and will be removed from pandas in a future version. Use pandas.concat instead.\n",
            "  df = df.append(table[1].dropna())"
          ]
        },
        {
          "output_type": "stream",
          "name": "stdout",
          "text": [
            "https://finance.naver.com/world/sise.naver?symbol=NAS@IXIC#&page=461\n",
            "https://finance.naver.com/world/sise.naver?symbol=NAS@IXIC#&page=462"
          ]
        },
        {
          "output_type": "stream",
          "name": "stderr",
          "text": [
            "FutureWarning: The frame.append method is deprecated and will be removed from pandas in a future version. Use pandas.concat instead.\n",
            "  df = df.append(table[1].dropna())"
          ]
        },
        {
          "output_type": "stream",
          "name": "stdout",
          "text": [
            "https://finance.naver.com/world/sise.naver?symbol=NAS@IXIC#&page=463"
          ]
        },
        {
          "output_type": "stream",
          "name": "stderr",
          "text": [
            "FutureWarning: The frame.append method is deprecated and will be removed from pandas in a future version. Use pandas.concat instead.\n",
            "  df = df.append(table[1].dropna())\n",
            "<ipython-input-61-77dee5e93da6>:14: FutureWarning: The frame.append method is deprecated and will be removed from pandas in a future version. Use pandas.concat instead.\n",
            "  df = df.append(table[1].dropna())"
          ]
        },
        {
          "output_type": "stream",
          "name": "stdout",
          "text": [
            "https://finance.naver.com/world/sise.naver?symbol=NAS@IXIC#&page=464\n",
            "https://finance.naver.com/world/sise.naver?symbol=NAS@IXIC#&page=465"
          ]
        },
        {
          "output_type": "stream",
          "name": "stderr",
          "text": [
            "FutureWarning: The frame.append method is deprecated and will be removed from pandas in a future version. Use pandas.concat instead.\n",
            "  df = df.append(table[1].dropna())\n",
            "<ipython-input-61-77dee5e93da6>:14: FutureWarning: The frame.append method is deprecated and will be removed from pandas in a future version. Use pandas.concat instead.\n",
            "  df = df.append(table[1].dropna())"
          ]
        },
        {
          "output_type": "stream",
          "name": "stdout",
          "text": [
            "https://finance.naver.com/world/sise.naver?symbol=NAS@IXIC#&page=466\n",
            "https://finance.naver.com/world/sise.naver?symbol=NAS@IXIC#&page=467"
          ]
        },
        {
          "output_type": "stream",
          "name": "stderr",
          "text": [
            "FutureWarning: The frame.append method is deprecated and will be removed from pandas in a future version. Use pandas.concat instead.\n",
            "  df = df.append(table[1].dropna())\n",
            "<ipython-input-61-77dee5e93da6>:14: FutureWarning: The frame.append method is deprecated and will be removed from pandas in a future version. Use pandas.concat instead.\n",
            "  df = df.append(table[1].dropna())"
          ]
        },
        {
          "output_type": "stream",
          "name": "stdout",
          "text": [
            "https://finance.naver.com/world/sise.naver?symbol=NAS@IXIC#&page=468\n",
            "https://finance.naver.com/world/sise.naver?symbol=NAS@IXIC#&page=469"
          ]
        },
        {
          "output_type": "stream",
          "name": "stderr",
          "text": [
            "FutureWarning: The frame.append method is deprecated and will be removed from pandas in a future version. Use pandas.concat instead.\n",
            "  df = df.append(table[1].dropna())\n",
            "<ipython-input-61-77dee5e93da6>:14: FutureWarning: The frame.append method is deprecated and will be removed from pandas in a future version. Use pandas.concat instead.\n",
            "  df = df.append(table[1].dropna())"
          ]
        },
        {
          "output_type": "stream",
          "name": "stdout",
          "text": [
            "https://finance.naver.com/world/sise.naver?symbol=NAS@IXIC#&page=470\n",
            "https://finance.naver.com/world/sise.naver?symbol=NAS@IXIC#&page=471"
          ]
        },
        {
          "output_type": "stream",
          "name": "stderr",
          "text": [
            "FutureWarning: The frame.append method is deprecated and will be removed from pandas in a future version. Use pandas.concat instead.\n",
            "  df = df.append(table[1].dropna())\n",
            "<ipython-input-61-77dee5e93da6>:14: FutureWarning: The frame.append method is deprecated and will be removed from pandas in a future version. Use pandas.concat instead.\n",
            "  df = df.append(table[1].dropna())"
          ]
        },
        {
          "output_type": "stream",
          "name": "stdout",
          "text": [
            "https://finance.naver.com/world/sise.naver?symbol=NAS@IXIC#&page=472\n",
            "https://finance.naver.com/world/sise.naver?symbol=NAS@IXIC#&page=473"
          ]
        },
        {
          "output_type": "stream",
          "name": "stderr",
          "text": [
            "FutureWarning: The frame.append method is deprecated and will be removed from pandas in a future version. Use pandas.concat instead.\n",
            "  df = df.append(table[1].dropna())\n",
            "<ipython-input-61-77dee5e93da6>:14: FutureWarning: The frame.append method is deprecated and will be removed from pandas in a future version. Use pandas.concat instead.\n",
            "  df = df.append(table[1].dropna())"
          ]
        },
        {
          "output_type": "stream",
          "name": "stdout",
          "text": [
            "https://finance.naver.com/world/sise.naver?symbol=NAS@IXIC#&page=474\n",
            "https://finance.naver.com/world/sise.naver?symbol=NAS@IXIC#&page=475"
          ]
        },
        {
          "output_type": "stream",
          "name": "stderr",
          "text": [
            "FutureWarning: The frame.append method is deprecated and will be removed from pandas in a future version. Use pandas.concat instead.\n",
            "  df = df.append(table[1].dropna())\n",
            "<ipython-input-61-77dee5e93da6>:14: FutureWarning: The frame.append method is deprecated and will be removed from pandas in a future version. Use pandas.concat instead.\n",
            "  df = df.append(table[1].dropna())"
          ]
        },
        {
          "output_type": "stream",
          "name": "stdout",
          "text": [
            "https://finance.naver.com/world/sise.naver?symbol=NAS@IXIC#&page=476\n",
            "https://finance.naver.com/world/sise.naver?symbol=NAS@IXIC#&page=477"
          ]
        },
        {
          "output_type": "stream",
          "name": "stderr",
          "text": [
            "FutureWarning: The frame.append method is deprecated and will be removed from pandas in a future version. Use pandas.concat instead.\n",
            "  df = df.append(table[1].dropna())\n",
            "<ipython-input-61-77dee5e93da6>:14: FutureWarning: The frame.append method is deprecated and will be removed from pandas in a future version. Use pandas.concat instead.\n",
            "  df = df.append(table[1].dropna())"
          ]
        },
        {
          "output_type": "stream",
          "name": "stdout",
          "text": [
            "https://finance.naver.com/world/sise.naver?symbol=NAS@IXIC#&page=478\n",
            "https://finance.naver.com/world/sise.naver?symbol=NAS@IXIC#&page=479"
          ]
        },
        {
          "output_type": "stream",
          "name": "stderr",
          "text": [
            "FutureWarning: The frame.append method is deprecated and will be removed from pandas in a future version. Use pandas.concat instead.\n",
            "  df = df.append(table[1].dropna())\n",
            "<ipython-input-61-77dee5e93da6>:14: FutureWarning: The frame.append method is deprecated and will be removed from pandas in a future version. Use pandas.concat instead.\n",
            "  df = df.append(table[1].dropna())"
          ]
        },
        {
          "output_type": "stream",
          "name": "stdout",
          "text": [
            "https://finance.naver.com/world/sise.naver?symbol=NAS@IXIC#&page=480\n",
            "https://finance.naver.com/world/sise.naver?symbol=NAS@IXIC#&page=481"
          ]
        },
        {
          "output_type": "stream",
          "name": "stderr",
          "text": [
            "FutureWarning: The frame.append method is deprecated and will be removed from pandas in a future version. Use pandas.concat instead.\n",
            "  df = df.append(table[1].dropna())\n",
            "<ipython-input-61-77dee5e93da6>:14: FutureWarning: The frame.append method is deprecated and will be removed from pandas in a future version. Use pandas.concat instead.\n",
            "  df = df.append(table[1].dropna())"
          ]
        },
        {
          "output_type": "stream",
          "name": "stdout",
          "text": [
            "https://finance.naver.com/world/sise.naver?symbol=NAS@IXIC#&page=482\n",
            "https://finance.naver.com/world/sise.naver?symbol=NAS@IXIC#&page=483"
          ]
        },
        {
          "output_type": "stream",
          "name": "stderr",
          "text": [
            "FutureWarning: The frame.append method is deprecated and will be removed from pandas in a future version. Use pandas.concat instead.\n",
            "  df = df.append(table[1].dropna())\n",
            "<ipython-input-61-77dee5e93da6>:14: FutureWarning: The frame.append method is deprecated and will be removed from pandas in a future version. Use pandas.concat instead.\n",
            "  df = df.append(table[1].dropna())"
          ]
        },
        {
          "output_type": "stream",
          "name": "stdout",
          "text": [
            "https://finance.naver.com/world/sise.naver?symbol=NAS@IXIC#&page=484\n",
            "https://finance.naver.com/world/sise.naver?symbol=NAS@IXIC#&page=485"
          ]
        },
        {
          "output_type": "stream",
          "name": "stderr",
          "text": [
            "FutureWarning: The frame.append method is deprecated and will be removed from pandas in a future version. Use pandas.concat instead.\n",
            "  df = df.append(table[1].dropna())"
          ]
        },
        {
          "output_type": "stream",
          "name": "stdout",
          "text": [
            "https://finance.naver.com/world/sise.naver?symbol=NAS@IXIC#&page=486"
          ]
        },
        {
          "output_type": "stream",
          "name": "stderr",
          "text": [
            "FutureWarning: The frame.append method is deprecated and will be removed from pandas in a future version. Use pandas.concat instead.\n",
            "  df = df.append(table[1].dropna())\n",
            "<ipython-input-61-77dee5e93da6>:14: FutureWarning: The frame.append method is deprecated and will be removed from pandas in a future version. Use pandas.concat instead.\n",
            "  df = df.append(table[1].dropna())"
          ]
        },
        {
          "output_type": "stream",
          "name": "stdout",
          "text": [
            "https://finance.naver.com/world/sise.naver?symbol=NAS@IXIC#&page=487\n",
            "https://finance.naver.com/world/sise.naver?symbol=NAS@IXIC#&page=488"
          ]
        },
        {
          "output_type": "stream",
          "name": "stderr",
          "text": [
            "FutureWarning: The frame.append method is deprecated and will be removed from pandas in a future version. Use pandas.concat instead.\n",
            "  df = df.append(table[1].dropna())\n",
            "<ipython-input-61-77dee5e93da6>:14: FutureWarning: The frame.append method is deprecated and will be removed from pandas in a future version. Use pandas.concat instead.\n",
            "  df = df.append(table[1].dropna())"
          ]
        },
        {
          "output_type": "stream",
          "name": "stdout",
          "text": [
            "https://finance.naver.com/world/sise.naver?symbol=NAS@IXIC#&page=489\n",
            "https://finance.naver.com/world/sise.naver?symbol=NAS@IXIC#&page=490"
          ]
        },
        {
          "output_type": "stream",
          "name": "stderr",
          "text": [
            "FutureWarning: The frame.append method is deprecated and will be removed from pandas in a future version. Use pandas.concat instead.\n",
            "  df = df.append(table[1].dropna())\n",
            "<ipython-input-61-77dee5e93da6>:14: FutureWarning: The frame.append method is deprecated and will be removed from pandas in a future version. Use pandas.concat instead.\n",
            "  df = df.append(table[1].dropna())"
          ]
        },
        {
          "output_type": "stream",
          "name": "stdout",
          "text": [
            "https://finance.naver.com/world/sise.naver?symbol=NAS@IXIC#&page=491\n",
            "https://finance.naver.com/world/sise.naver?symbol=NAS@IXIC#&page=492"
          ]
        },
        {
          "output_type": "stream",
          "name": "stderr",
          "text": [
            "FutureWarning: The frame.append method is deprecated and will be removed from pandas in a future version. Use pandas.concat instead.\n",
            "  df = df.append(table[1].dropna())\n",
            "<ipython-input-61-77dee5e93da6>:14: FutureWarning: The frame.append method is deprecated and will be removed from pandas in a future version. Use pandas.concat instead.\n",
            "  df = df.append(table[1].dropna())"
          ]
        },
        {
          "output_type": "stream",
          "name": "stdout",
          "text": [
            "https://finance.naver.com/world/sise.naver?symbol=NAS@IXIC#&page=493\n",
            "https://finance.naver.com/world/sise.naver?symbol=NAS@IXIC#&page=494"
          ]
        },
        {
          "output_type": "stream",
          "name": "stderr",
          "text": [
            "FutureWarning: The frame.append method is deprecated and will be removed from pandas in a future version. Use pandas.concat instead.\n",
            "  df = df.append(table[1].dropna())\n",
            "<ipython-input-61-77dee5e93da6>:14: FutureWarning: The frame.append method is deprecated and will be removed from pandas in a future version. Use pandas.concat instead.\n",
            "  df = df.append(table[1].dropna())"
          ]
        },
        {
          "output_type": "stream",
          "name": "stdout",
          "text": [
            "https://finance.naver.com/world/sise.naver?symbol=NAS@IXIC#&page=495\n",
            "https://finance.naver.com/world/sise.naver?symbol=NAS@IXIC#&page=496"
          ]
        },
        {
          "output_type": "stream",
          "name": "stderr",
          "text": [
            "FutureWarning: The frame.append method is deprecated and will be removed from pandas in a future version. Use pandas.concat instead.\n",
            "  df = df.append(table[1].dropna())\n",
            "<ipython-input-61-77dee5e93da6>:14: FutureWarning: The frame.append method is deprecated and will be removed from pandas in a future version. Use pandas.concat instead.\n",
            "  df = df.append(table[1].dropna())"
          ]
        },
        {
          "output_type": "stream",
          "name": "stdout",
          "text": [
            "https://finance.naver.com/world/sise.naver?symbol=NAS@IXIC#&page=497\n",
            "https://finance.naver.com/world/sise.naver?symbol=NAS@IXIC#&page=498\n",
            "https://finance.naver.com/world/sise.naver?symbol=NAS@IXIC#&page=499"
          ]
        },
        {
          "output_type": "stream",
          "name": "stderr",
          "text": [
            "FutureWarning: The frame.append method is deprecated and will be removed from pandas in a future version. Use pandas.concat instead.\n",
            "  df = df.append(table[1].dropna())\n",
            "<ipython-input-61-77dee5e93da6>:14: FutureWarning: The frame.append method is deprecated and will be removed from pandas in a future version. Use pandas.concat instead.\n",
            "  df = df.append(table[1].dropna())"
          ]
        }
      ],
      "source": [
        "df = pd.DataFrame()\n",
        "sise_url = 'https://finance.naver.com/world/sise.naver?symbol=NAS@IXIC#'  \n",
        "for page in range(1, 500):\n",
        "    page_url = '{}&page={}'.format(sise_url, page)\n",
        "    print(page_url)\n",
        "\n",
        "    # 위에서 했던 일련의 과정들을 각 url에 대해서 (99페이지에 대해서 반복)\n",
        "    response = requests.get(page_url, headers=headers)\n",
        "    html = bs(response.text, 'html.parser')\n",
        "    html_table = html.select(\"table\")\n",
        "    table = pd.read_html(str(html_table))\n",
        "\n",
        "    # 현재 얻은 데이터프레임을 기존 데이터프레임에 누적.\n",
        "    df = df.append(table[1].dropna())"
      ],
      "id": "b79c8188-83a7-4e57-94e2-4bd9dd5a8f8a"
    },
    {
      "cell_type": "code",
      "execution_count": 67,
      "metadata": {},
      "outputs": [],
      "source": [
        "df"
      ],
      "id": "8e86a982-0418-430f-b222-46a2a32e68cc"
    },
    {
      "cell_type": "code",
      "execution_count": 65,
      "metadata": {},
      "outputs": [],
      "source": [
        "df = df.dropna()\n",
        "# df = df.iloc[0:30] \n",
        "df = df.sort_values(by='일자')\n",
        "df"
      ],
      "id": "ee00d6c0-6a62-49f4-bfab-4ef2ffb79e2a"
    },
    {
      "cell_type": "code",
      "execution_count": 66,
      "metadata": {},
      "outputs": [
        {
          "output_type": "display_data",
          "metadata": {},
          "data": {
            "image/png": "[encoded data removed]"
          }
        }
      ],
      "source": [
        "plt.figure(figsize=(15, 5)) \n",
        "plt.title('Celltrion (close)')\n",
        "plt.xticks(rotation=45) \n",
        "plt.plot(df['일자'], df['종가'], 'co-')\n",
        "plt.grid(color='gray', linestyle='--')\n",
        "plt.show()"
      ],
      "id": "0b18eae8-9396-4fd7-bde0-4bae847b4741"
    }
  ],
  "nbformat": 4,
  "nbformat_minor": 5,
  "metadata": {
    "kernelspec": {
      "name": "python3",
      "display_name": "Python 3",
      "language": "python"
    },
    "language_info": {
      "name": "python",
      "codemirror_mode": {
        "name": "ipython",
        "version": "3"
      },
      "file_extension": ".py",
      "mimetype": "text/x-python",
      "nbconvert_exporter": "python",
      "pygments_lexer": "ipython3",
      "version": "3.8.0"
    }
  }
}
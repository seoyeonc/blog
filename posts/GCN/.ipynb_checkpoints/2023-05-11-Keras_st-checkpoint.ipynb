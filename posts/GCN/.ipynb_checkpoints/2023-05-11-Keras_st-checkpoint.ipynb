{
 "cells": [
  {
   "cell_type": "raw",
   "id": "11a64360-0e10-4615-a9a7-c5a24259fa02",
   "metadata": {
    "id": "cac470df-29e7-4148-9bbd-d8b9a32fa570",
    "tags": []
   },
   "source": [
    "---\n",
    "title: \"STGCN on Keras\"\n",
    "author: \"SEOYEON CHOI\"\n",
    "date: \"2023-05-15\"\n",
    "categories:\n",
    "  - ITSTGCN\n",
    "---"
   ]
  },
  {
   "cell_type": "markdown",
   "id": "5f1d226b-96cb-4015-88f1-b1176a4bc84f",
   "metadata": {
    "tags": []
   },
   "source": [
    "> Keras"
   ]
  },
  {
   "cell_type": "markdown",
   "id": "643d1d0f-40a0-445a-93a9-0adbdf53b647",
   "metadata": {},
   "source": [
    "[Keras Official](https://keras.io/)"
   ]
  },
  {
   "cell_type": "markdown",
   "id": "ab2e44be-343a-4e18-84d6-232daf05e336",
   "metadata": {
    "tags": []
   },
   "source": [
    "# import"
   ]
  },
  {
   "cell_type": "code",
   "execution_count": 1,
   "id": "d72f665f-3fd5-4884-8f4d-f28b0d60df42",
   "metadata": {},
   "outputs": [],
   "source": [
    "import itstgcn \n",
    "import torch\n",
    "import numpy as np"
   ]
  },
  {
   "cell_type": "code",
   "execution_count": 2,
   "id": "40903fae-18df-4c0d-b5d0-5c4ae24f22f2",
   "metadata": {},
   "outputs": [],
   "source": [
    "import matplotlib.pyplot as plt"
   ]
  },
  {
   "cell_type": "code",
   "execution_count": 3,
   "id": "1f720bc7-caf1-4a5e-982b-6fff8a983bb1",
   "metadata": {},
   "outputs": [],
   "source": [
    "import random"
   ]
  },
  {
   "cell_type": "code",
   "execution_count": 129,
   "id": "0a7eef04-53cf-4d33-b7fe-041d1984e517",
   "metadata": {},
   "outputs": [],
   "source": [
    "from torch_geometric.nn import ChebConv"
   ]
  },
  {
   "cell_type": "code",
   "execution_count": 6,
   "id": "61133742-b958-41c8-ae5c-6ac2ebb47cc5",
   "metadata": {},
   "outputs": [],
   "source": [
    "import pandas as pd"
   ]
  },
  {
   "cell_type": "markdown",
   "id": "4ac16e80-763a-4b72-b263-b672ec1594dc",
   "metadata": {},
   "source": [
    "```python\n",
    "def load_data(fname):\n",
    "    with open(fname, 'rb') as outfile:\n",
    "        data_dict = pickle.load(outfile)\n",
    "    return data_dict\n",
    "\n",
    "def save_data(data_dict,fname):\n",
    "    with open(fname,'wb') as outfile:\n",
    "        pickle.dump(data_dict,outfile)\n",
    "```"
   ]
  },
  {
   "cell_type": "code",
   "execution_count": 7,
   "id": "2ae4c651-8a9a-4e70-8093-ceb3e3cd2e40",
   "metadata": {},
   "outputs": [],
   "source": [
    "from plotnine import *"
   ]
  },
  {
   "cell_type": "code",
   "execution_count": 8,
   "id": "192be6ea-cb2d-44ef-acba-be98c524be59",
   "metadata": {},
   "outputs": [],
   "source": [
    "import numpy as np\n",
    "import pandas as pd\n",
    "\n",
    "# torch\n",
    "import torch\n",
    "import torch.nn.functional as F\n",
    "from torch_geometric_temporal.nn.recurrent import GConvGRU\n",
    "\n",
    "# utils\n",
    "import copy\n",
    "# rpy2\n",
    "from rpy2.robjects.vectors import FloatVector\n",
    "import rpy2.robjects as robjects\n",
    "from rpy2.robjects.packages import importr\n",
    "import rpy2.robjects.numpy2ri as rpyn\n",
    "GNAR = importr('GNAR') # import GNAR \n",
    "#igraph = importr('igraph') # import igraph \n",
    "ebayesthresh = importr('EbayesThresh').ebayesthresh"
   ]
  },
  {
   "cell_type": "code",
   "execution_count": 9,
   "id": "b8f38096-256a-46e2-88aa-b694dfe25e4d",
   "metadata": {},
   "outputs": [],
   "source": [
    "def make_Psi(T):\n",
    "    W = np.zeros((T,T))\n",
    "    for i in range(T):\n",
    "        for j in range(T):\n",
    "            if i==j :\n",
    "                W[i,j] = 0\n",
    "            elif np.abs(i-j) <= 1 : \n",
    "                W[i,j] = 1\n",
    "    d = np.array(W.sum(axis=1))\n",
    "    D = np.diag(d)\n",
    "    L = np.array(np.diag(1/np.sqrt(d)) @ (D-W) @ np.diag(1/np.sqrt(d)))\n",
    "    lamb, Psi = np.linalg.eigh(L)\n",
    "    return Psi"
   ]
  },
  {
   "cell_type": "code",
   "execution_count": 10,
   "id": "39f7b804-3148-40a5-b620-72f23a9a9cee",
   "metadata": {},
   "outputs": [],
   "source": [
    "def trim(f):\n",
    "    f = np.array(f)\n",
    "    if len(f.shape)==1: f = f.reshape(-1,1)\n",
    "    T,N = f.shape\n",
    "    Psi = make_Psi(T)\n",
    "    fbar = Psi.T @ f # apply dft \n",
    "    fbar_threshed = np.stack([ebayesthresh(FloatVector(fbar[:,i])) for i in range(N)],axis=1)\n",
    "    fhat = Psi @ fbar_threshed # inverse dft \n",
    "    return fhat"
   ]
  },
  {
   "cell_type": "code",
   "execution_count": 11,
   "id": "55ccfa0b-eddb-4421-bad5-7afe6c36c409",
   "metadata": {},
   "outputs": [],
   "source": [
    "def update_from_freq_domain(signal, missing_index):\n",
    "    signal = np.array(signal)\n",
    "    T,N = signal.shape \n",
    "    signal_trimed = trim(signal)\n",
    "    for i in range(N):\n",
    "        try: \n",
    "            signal[missing_index[i],i] = signal_trimed[missing_index[i],i]\n",
    "        except: \n",
    "            pass \n",
    "    return signal"
   ]
  },
  {
   "cell_type": "code",
   "execution_count": 12,
   "id": "11fbb789-2518-48fb-a991-7e2191b205c9",
   "metadata": {},
   "outputs": [],
   "source": [
    "import tensorflow as tf"
   ]
  },
  {
   "cell_type": "code",
   "execution_count": 13,
   "id": "c14ab4a0-26f6-4bf4-af61-c135aa838e94",
   "metadata": {},
   "outputs": [],
   "source": [
    "from tensorflow.keras.layers import Conv2D, Activation, Permute, BatchNormalization\n",
    "from tensorflow.keras import Model"
   ]
  },
  {
   "cell_type": "code",
   "execution_count": 14,
   "id": "2e784c9f-08b1-48dd-bffc-f32895066fcb",
   "metadata": {},
   "outputs": [],
   "source": [
    "import tensorflow.experimental.numpy as tnp"
   ]
  },
  {
   "cell_type": "code",
   "execution_count": 15,
   "id": "615366d8-9c9b-4a38-8323-3d01afc86c2a",
   "metadata": {},
   "outputs": [],
   "source": [
    "from dgl.nn import ChebConv"
   ]
  },
  {
   "cell_type": "code",
   "execution_count": 16,
   "id": "22643974-2094-4961-a2d8-ef5050dde2a2",
   "metadata": {},
   "outputs": [],
   "source": [
    "from torch_geometric_temporal.dataset import ChickenpoxDatasetLoader\n",
    "loader1 = ChickenpoxDatasetLoader()"
   ]
  },
  {
   "cell_type": "code",
   "execution_count": 17,
   "id": "5c0d30b9-20dc-4dad-812c-cd1a301eaf36",
   "metadata": {},
   "outputs": [],
   "source": [
    "dataset = loader1.get_dataset(lags=1)"
   ]
  },
  {
   "cell_type": "code",
   "execution_count": 18,
   "id": "8e281904-f0f4-45b3-889d-8a18ff9d7b8a",
   "metadata": {},
   "outputs": [],
   "source": [
    "train_dataset, test_dataset = itstgcn.temporal_signal_split(dataset, train_ratio=0.8)"
   ]
  },
  {
   "cell_type": "code",
   "execution_count": 19,
   "id": "99bfb26f-ff12-4e65-970d-f87a0df7be0f",
   "metadata": {},
   "outputs": [],
   "source": [
    "from tensorflow.keras.layers import Input"
   ]
  },
  {
   "cell_type": "code",
   "execution_count": 20,
   "id": "0bb46f04-826c-4641-b727-ce90f6f57770",
   "metadata": {},
   "outputs": [],
   "source": [
    "import matplotlib.pyplot as plt"
   ]
  },
  {
   "cell_type": "code",
   "execution_count": 96,
   "id": "e0d4817f-bb4c-41d3-b99b-76439c42520a",
   "metadata": {},
   "outputs": [],
   "source": [
    "T = 100\n",
    "N = 4 # number of Nodes\n",
    "E = np.array([[0,1],[1,2],[2,3],[3,0]]).T\n",
    "V = np.array([1,2,3,4])\n",
    "AMP = np.array([3,2,1,2.2])\n",
    "t = np.arange(0,T)\n",
    "node_features = 1"
   ]
  },
  {
   "cell_type": "code",
   "execution_count": 97,
   "id": "e70f2d8e-ac42-4609-9007-8e5ce8db0b4c",
   "metadata": {},
   "outputs": [],
   "source": [
    "f = np.stack([a*np.sin(2*t**2/1000)+np.random.normal(loc=0,scale=0.2,size=T) for a in AMP],axis=1).reshape(T,N,node_features)\n",
    "f = torch.tensor(f).float()"
   ]
  },
  {
   "cell_type": "code",
   "execution_count": 98,
   "id": "62d6c8f8-3159-427e-90d4-76f347edd6ee",
   "metadata": {},
   "outputs": [
    {
     "data": {
      "text/plain": [
       "torch.Size([100, 4, 1])"
      ]
     },
     "execution_count": 98,
     "metadata": {},
     "output_type": "execute_result"
    }
   ],
   "source": [
    "f.shape"
   ]
  },
  {
   "cell_type": "code",
   "execution_count": 99,
   "id": "533021c9-b422-4705-a959-db125d334329",
   "metadata": {},
   "outputs": [],
   "source": [
    "X = f[:99,:,:]\n",
    "y = f[1:,:,:]"
   ]
  },
  {
   "cell_type": "markdown",
   "id": "b668de28-defa-4a24-a3c4-d2c0e01c502d",
   "metadata": {},
   "source": [
    "```python\n",
    "X = tf.constant(x_train.reshape(-1,28,28,1),dtype=tf.float64)\n",
    "y = tf.keras.utils.to_categorical(y_train)\n",
    "XX = tf.constant(x_test.reshape(-1,28,28,1),dtype=tf.float64)\n",
    "yy = tf.keras.utils.to_categorical(y_test)\n",
    "```"
   ]
  },
  {
   "cell_type": "code",
   "execution_count": 100,
   "id": "48a03513-42a5-4b2b-ba39-06407c6b6d65",
   "metadata": {},
   "outputs": [
    {
     "data": {
      "text/plain": [
       "<matplotlib.legend.Legend at 0x7f33c45819d0>"
      ]
     },
     "execution_count": 100,
     "metadata": {},
     "output_type": "execute_result"
    },
    {
     "data": {
      "image/png": "[encoded data removed]",
      "text/plain": [
       "<Figure size 432x288 with 1 Axes>"
      ]
     },
     "metadata": {
      "needs_background": "light"
     },
     "output_type": "display_data"
    }
   ],
   "source": [
    "plt.plot(y[:,0,0],label=\"v1\")\n",
    "plt.plot(y[:,1,0],label=\"v2\")\n",
    "plt.plot(y[:,2,0],label=\"v3\")\n",
    "plt.plot(y[:,3,0],label=\"v4\")\n",
    "plt.legend()"
   ]
  },
  {
   "cell_type": "code",
   "execution_count": 101,
   "id": "5b2c9547-0759-438f-830a-4a2a658d6ea9",
   "metadata": {},
   "outputs": [],
   "source": [
    "edge_index = torch.tensor(E)\n",
    "edge_attr = torch.tensor(np.array([1,1,1,1]),dtype=torch.float32)"
   ]
  },
  {
   "cell_type": "code",
   "execution_count": 66,
   "id": "2030c74a-3fc4-4dd8-89bd-7a1e3363c32b",
   "metadata": {},
   "outputs": [],
   "source": [
    "_ee = enumerate(zip(X,y))"
   ]
  },
  {
   "cell_type": "code",
   "execution_count": 102,
   "id": "bfc9e104-e669-46c6-89c3-2b5ef8621310",
   "metadata": {},
   "outputs": [],
   "source": [
    "class TemporalConv(Model):\n",
    "    def __init__(self, in_channels, out_channels, kernel_size=3):\n",
    "        super(TemporalConv, self).__init__()\n",
    "        self.conv_1 = Conv2D(filters=out_channels, kernel_size=(1, kernel_size), input_shape=(None, None, in_channels))\n",
    "        self.conv_2 = Conv2D(filters=out_channels, kernel_size=(1, kernel_size), input_shape=(None, None, in_channels))\n",
    "        self.conv_3 = Conv2D(filters=out_channels, kernel_size=(1, kernel_size), input_shape=(None, None, in_channels))\n",
    "        self.activation_1 = Activation('relu')\n",
    "        self.activation_2 = Activation('sigmoid')\n",
    "\n",
    "    def call(self, inputs):\n",
    "        # X = Permute((1,3,2))(inputs)\n",
    "        X = tf.transpose(inputs, perm=(0, 3, 2, 1))\n",
    "        P = self.conv_1(X)\n",
    "        Q = self.activation_2(self.conv_2(X))\n",
    "        PQ = P * Q\n",
    "        H = self.activation_1(PQ + self.conv_3(X))\n",
    "        # H = Permute((1,3,2))(H)\n",
    "        H = tf.transpose(H, perm=(0, 3, 2, 1))\n",
    "        return H"
   ]
  },
  {
   "cell_type": "code",
   "execution_count": 114,
   "id": "a8999245-c159-456f-a9a9-da0c9bb5245a",
   "metadata": {},
   "outputs": [],
   "source": [
    "class STConv(Model):\n",
    "    def __init__(self, num_nodes, in_channels, hidden_channels, out_channels, kernel_size, K, normalization=\"sym\", bias=True):\n",
    "        super(STConv, self).__init__()\n",
    "        self.num_nodes = num_nodes\n",
    "        self.in_channels = in_channels\n",
    "        self.hidden_channels = hidden_channels\n",
    "        self.out_channels = out_channels\n",
    "        self.kernel_size = kernel_size\n",
    "        self.K = K\n",
    "        self.normalization = normalization\n",
    "        self.bias = bias\n",
    "\n",
    "        self._temporal_conv1 = TemporalConv(in_channels=in_channels, out_channels=hidden_channels, kernel_size=kernel_size)\n",
    "        self._graph_conv = ChebConv(in_feats=hidden_channels, out_feats=hidden_channels, k=K, bias=True)\n",
    "        self._temporal_conv2 = TemporalConv(in_channels=hidden_channels, out_channels=out_channels, kernel_size=kernel_size)\n",
    "        self._batch_norm = BatchNormalization(axis=2)\n",
    "        self.activation = Activation('relu')\n",
    "\n",
    "    def call(self, inputs):\n",
    "        X, edge_index, edge_weight = inputs\n",
    "\n",
    "        T_0 = self._temporal_conv1(X)\n",
    "        T = tf.zeros_like(T_0)\n",
    "        for b in range(T_0.shape[0]):\n",
    "            for t in range(T_0.shape[1]):\n",
    "                T[b, t] = self._graph_conv(T_0[b, t], edge_index, edge_weight)\n",
    "\n",
    "        T = self.activation(T)\n",
    "        T = self._temporal_conv2(T)\n",
    "        # T = Permute((1, 3, 2))(T)\n",
    "        T = tf.transpose(T, perm=(0, 3, 2, 1))\n",
    "        T = self._batch_norm(T)\n",
    "        # T = Permute((1, 3, 2))(T)\n",
    "        T = tf.transpose(T, perm=(0, 3, 2, 1))\n",
    "        return T"
   ]
  },
  {
   "cell_type": "code",
   "execution_count": 140,
   "id": "ced090c5-c1cd-48f8-a1c1-c7c849f0a528",
   "metadata": {},
   "outputs": [],
   "source": [
    "from spektral.layers import ChebConv"
   ]
  },
  {
   "cell_type": "code",
   "execution_count": 156,
   "id": "8511216f-27b2-4585-9c2e-51968e2bead9",
   "metadata": {},
   "outputs": [],
   "source": [
    "class STConv(Model):\n",
    "    def __init__(self, num_nodes, in_channels, hidden_channels, out_channels, kernel_size, K, normalization=\"sym\", bias=True):\n",
    "        super(STConv, self).__init__()\n",
    "        self.num_nodes = num_nodes\n",
    "        self.in_channels = in_channels\n",
    "        self.hidden_channels = hidden_channels\n",
    "        self.out_channels = out_channels\n",
    "        self.kernel_size = kernel_size\n",
    "        self.K = K\n",
    "        self.normalization = normalization\n",
    "        self.bias = bias\n",
    "\n",
    "        self._temporal_conv1 = TemporalConv(in_channels=in_channels, out_channels=hidden_channels, kernel_size=kernel_size)\n",
    "        self._graph_conv = ChebConv(hidden_channels,bias=True)\n",
    "        self._temporal_conv2 = TemporalConv(in_channels=hidden_channels, out_channels=out_channels, kernel_size=kernel_size)\n",
    "        self._batch_norm = BatchNormalization(axis=2)\n",
    "        self.activation = Activation('relu')\n",
    "\n",
    "    def call(self, inputs):\n",
    "        X, edge_index, edge_weight = inputs\n",
    "\n",
    "        T_0 = self._temporal_conv1(X)\n",
    "        T = tf.zeros_like(T_0)\n",
    "        for b in range(T_0.shape[0]):\n",
    "            for t in range(T_0.shape[1]):\n",
    "                T[b, t] = self._graph_conv(T_0[b, t], edge_index, edge_weight)\n",
    "\n",
    "        T = self.activation(T)\n",
    "        T = self._temporal_conv2(T)\n",
    "        T = Permute((1, 3, 2))(T)\n",
    "        T = self._batch_norm(T)\n",
    "        T = Permute((1, 3, 2))(T)\n",
    "        return T\n"
   ]
  },
  {
   "cell_type": "code",
   "execution_count": 157,
   "id": "83e3b49e-974e-4c84-a2ab-4b1bce5c6c41",
   "metadata": {},
   "outputs": [],
   "source": [
    "num_nodes = 4\n",
    "in_channels = 5\n",
    "hidden_channels = 8\n",
    "out_channels = 4\n",
    "kernel_size = 3\n",
    "K = 2\n",
    "normalization = \"sym\"\n",
    "bias = True"
   ]
  },
  {
   "cell_type": "code",
   "execution_count": 158,
   "id": "a51a6cbe-41fa-49a4-b394-d3456491c28b",
   "metadata": {},
   "outputs": [],
   "source": [
    "_X = X.reshape(3,3,4,-1)"
   ]
  },
  {
   "cell_type": "code",
   "execution_count": 159,
   "id": "45006d30-21e2-498b-af81-35377add8a21",
   "metadata": {},
   "outputs": [],
   "source": [
    "model = STConv(num_nodes, in_channels, hidden_channels, out_channels, kernel_size, K, normalization, bias)"
   ]
  },
  {
   "cell_type": "code",
   "execution_count": 160,
   "id": "7eff4f37-c21e-4883-b213-1e150887e207",
   "metadata": {},
   "outputs": [],
   "source": [
    "X_tensor = tf.convert_to_tensor(_X, dtype=tf.float32)"
   ]
  },
  {
   "cell_type": "code",
   "execution_count": 161,
   "id": "85034c8c-e1ea-445b-afa7-df0b61dee04c",
   "metadata": {},
   "outputs": [],
   "source": [
    "edge_index_tensor = tf.convert_to_tensor(edge_index, dtype=tf.float32)\n",
    "edge_weight_tensor = tf.convert_to_tensor(edge_weight, dtype=tf.float32)"
   ]
  },
  {
   "cell_type": "code",
   "execution_count": 163,
   "id": "0205b66e-1412-4a55-9db1-0d38e0698422",
   "metadata": {},
   "outputs": [],
   "source": [
    "a,b,c = (X_tensor, edge_index_tensor, edge_weight_tensor)"
   ]
  },
  {
   "cell_type": "code",
   "execution_count": null,
   "id": "5941fdac-f101-4fae-9aaf-d2d5fef2ce08",
   "metadata": {},
   "outputs": [],
   "source": [
    "output = model((X_tensor, edge_index_tensor, edge_weight_tensor))"
   ]
  },
  {
   "cell_type": "code",
   "execution_count": null,
   "id": "e3c85b16-3a6f-4682-b466-e03d0fb55125",
   "metadata": {},
   "outputs": [],
   "source": [
    "print(output.shape)"
   ]
  },
  {
   "cell_type": "code",
   "execution_count": null,
   "id": "c5f30c0d-49ec-4d2d-8cb1-94a1685c50c2",
   "metadata": {},
   "outputs": [],
   "source": []
  },
  {
   "cell_type": "code",
   "execution_count": null,
   "id": "6ff9822b-cc92-4390-8158-4977a3011b50",
   "metadata": {},
   "outputs": [],
   "source": []
  },
  {
   "cell_type": "code",
   "execution_count": null,
   "id": "18b7bcc3-dcac-479f-9258-3e33871137a1",
   "metadata": {},
   "outputs": [],
   "source": []
  },
  {
   "cell_type": "code",
   "execution_count": null,
   "id": "f78f4f87-3aa1-4fe1-9708-6d9e342a0250",
   "metadata": {},
   "outputs": [],
   "source": []
  },
  {
   "cell_type": "code",
   "execution_count": null,
   "id": "8a2bfcc3-5a99-4a40-aba9-8d29aec042c8",
   "metadata": {},
   "outputs": [],
   "source": []
  },
  {
   "cell_type": "code",
   "execution_count": null,
   "id": "a30946bd-cf6b-44ed-b2c1-0b8efe383d67",
   "metadata": {},
   "outputs": [],
   "source": []
  },
  {
   "cell_type": "code",
   "execution_count": null,
   "id": "033b326d-2972-4019-ba97-04063d7ed1ce",
   "metadata": {},
   "outputs": [],
   "source": []
  },
  {
   "cell_type": "code",
   "execution_count": null,
   "id": "e56fe523-588a-451a-bc6a-66cc8c3f51a0",
   "metadata": {},
   "outputs": [],
   "source": []
  },
  {
   "cell_type": "code",
   "execution_count": null,
   "id": "f33d37af-4cb4-44e9-9427-a5110b55c35c",
   "metadata": {},
   "outputs": [],
   "source": []
  },
  {
   "cell_type": "code",
   "execution_count": null,
   "id": "0e77ca97-c033-4245-95e9-937ad5590808",
   "metadata": {},
   "outputs": [],
   "source": []
  },
  {
   "cell_type": "code",
   "execution_count": null,
   "id": "7ad21ca6-35e1-49f5-a6b1-82108bd110ee",
   "metadata": {},
   "outputs": [],
   "source": [
    "class RecurrentGCN(torch.nn.Module):\n",
    "    def __init__(self, node_features, filters):\n",
    "        super(RecurrentGCN, self).__init__()\n",
    "        self.recurrent = GConvGRU(node_features, filters, 2)\n",
    "        self.linear = torch.nn.Linear(filters, 1)\n",
    "\n",
    "    def forward(self, x, edge_index, edge_weight):\n",
    "        h = self.recurrent(x, edge_index, edge_weight)\n",
    "        h = F.relu(h)\n",
    "        h = self.linear(h)\n",
    "        return h"
   ]
  },
  {
   "cell_type": "code",
   "execution_count": null,
   "id": "a621db26-56dc-47e3-b8e6-5c21352b5192",
   "metadata": {},
   "outputs": [],
   "source": [
    "class StgcnLearner:\n",
    "    def __init__(self,train_dataset,dataset_name = None):\n",
    "        self.train_dataset = train_dataset\n",
    "        self.lags = torch.tensor(train_dataset.features).shape[-1]\n",
    "        self.dataset_name = str(train_dataset) if dataset_name is None else dataset_name\n",
    "        self.mindex= getattr(self.train_dataset,'mindex',None)\n",
    "        self.mrate_eachnode = getattr(self.train_dataset,'mrate_eachnode',0)\n",
    "        self.mrate_total = getattr(self.train_dataset,'mrate_total',0)\n",
    "        self.mtype = getattr(self.train_dataset,'mtype',None)\n",
    "        self.interpolation_method = getattr(self.train_dataset,'interpolation_method',None)\n",
    "        self.method = 'STGCN'\n",
    "    def learn(self,filters=32,epoch=50):\n",
    "        self.model = RecurrentGCN(node_features=self.lags, filters=filters)\n",
    "        self.optimizer = torch.optim.Adam(self.model.parameters(), lr=0.01)\n",
    "        self.model.train()\n",
    "        for e in range(epoch):\n",
    "            for t, snapshot in enumerate(self.train_dataset):\n",
    "                yt_hat = self.model(snapshot.x, snapshot.edge_index, snapshot.edge_attr)\n",
    "                cost = torch.mean((yt_hat.reshape(-1)-snapshot.y.reshape(-1))**2)\n",
    "                cost.backward()\n",
    "                self.optimizer.step()\n",
    "                self.optimizer.zero_grad()\n",
    "            print('{}/{}'.format(e+1,epoch),end='\\r')\n",
    "        # recording HP\n",
    "        self.nof_filters = filters\n",
    "        self.epochs = epoch+1\n",
    "    def __call__(self,dataset):\n",
    "        X = torch.tensor(dataset.features).float()\n",
    "        y = torch.tensor(dataset.targets).float()\n",
    "        yhat = torch.stack([self.model(snapshot.x, snapshot.edge_index, snapshot.edge_attr) for snapshot in dataset]).detach().squeeze().float()\n",
    "        return {'X':X, 'y':y, 'yhat':yhat} "
   ]
  },
  {
   "cell_type": "code",
   "execution_count": null,
   "id": "563980fb-01d0-430d-ab8d-8449c7a1c591",
   "metadata": {},
   "outputs": [],
   "source": [
    "class ITStgcnLearner(StgcnLearner):\n",
    "    def __init__(self,train_dataset,dataset_name = None):\n",
    "        super().__init__(train_dataset)\n",
    "        self.method = 'IT-STGCN'\n",
    "    def learn(self,filters=32,epoch=50):\n",
    "        self.model = RecurrentGCN(node_features=self.lags, filters=filters)\n",
    "        self.optimizer = torch.optim.Adam(self.model.parameters(), lr=0.01)\n",
    "        self.model.train()\n",
    "        train_dataset_temp = copy.copy(self.train_dataset)\n",
    "        for e in range(epoch):\n",
    "            f,lags = convert_train_dataset(train_dataset_temp)\n",
    "            f = update_from_freq_domain(f,self.mindex)\n",
    "            T,N = f.shape \n",
    "            data_dict_temp = {\n",
    "                'edges':self.train_dataset.edge_index.T.tolist(), \n",
    "                'node_ids':{'node'+str(i):i for i in range(N)}, \n",
    "                'FX':f\n",
    "            }\n",
    "            train_dataset_temp = DatasetLoader(data_dict_temp).get_dataset(lags=self.lags)  \n",
    "            for t, snapshot in enumerate(train_dataset_temp):\n",
    "                yt_hat = self.model(snapshot.x, snapshot.edge_index, snapshot.edge_attr)\n",
    "                cost = torch.mean((yt_hat.reshape(-1)-snapshot.y.reshape(-1))**2)\n",
    "                cost.backward()\n",
    "                self.optimizer.step()\n",
    "                self.optimizer.zero_grad()\n",
    "            print('{}/{}'.format(e+1,epoch),end='\\r')\n",
    "        # record\n",
    "        self.nof_filters = filters\n",
    "        self.epochs = epoch+1"
   ]
  },
  {
   "cell_type": "markdown",
   "id": "b4c11306-5df3-4f1a-b71b-9e4856fb79fe",
   "metadata": {},
   "source": [
    "# Example"
   ]
  },
  {
   "cell_type": "code",
   "execution_count": null,
   "id": "464b73cb-a5aa-4798-8288-c794a2377c4d",
   "metadata": {},
   "outputs": [],
   "source": [
    "T = 200\n",
    "t = np.arange(T)/T * 10\n",
    "x = 0.1*np.sin(2*t)+0.2*np.sin(4*t)+0.1*np.sin(8*t)+0.2*np.sin(16*t)\n",
    "eps_x  = np.random.normal(size=T)*0\n",
    "y = x.copy()\n",
    "# for i in range(2,T):\n",
    "#     y[i] = 0.35*x[i-1] - 0.15*x[i-2] + 0.5*np.cos(0.5*t[i]) \n",
    "eps_y  = np.random.normal(size=T)*0\n",
    "x = x*0.35\n",
    "y = y*0.3\n",
    "plt.plot(t,x,color='C0',lw=5)\n",
    "plt.plot(t,x+eps_x,alpha=0.5,color='C0')\n",
    "plt.plot(t,y,color='C1',lw=5)\n",
    "plt.plot(t,y+eps_y,alpha=0.5,color='C1')\n",
    "_node_ids = {'node1':0, 'node2':1}\n",
    "\n",
    "_FX1 = np.stack([x+eps_x,y+eps_y],axis=1).tolist()\n",
    "\n",
    "_edges1 = torch.tensor([[0,1],[1,0]]).tolist()\n",
    "\n",
    "data_dict1 = {'edges':_edges1, 'node_ids':_node_ids, 'FX':_FX1}\n",
    "\n",
    "# save_data(data_dict1, './data/toy_example1.pkl')\n",
    "\n",
    "data1 = pd.DataFrame({'x':x,'y':y,'xer':x,'yer':y})\n",
    "\n",
    "# save_data(data1, './data/toy_example_true1.csv')\n"
   ]
  },
  {
   "cell_type": "code",
   "execution_count": null,
   "id": "56a2cf40-dc77-411d-83bf-97358a20aff5",
   "metadata": {},
   "outputs": [],
   "source": [
    "data_dict1 = itstgcn.load_data('./data/toy_example1.pkl')\n",
    "loader1 = itstgcn.DatasetLoader(data_dict1)"
   ]
  },
  {
   "cell_type": "code",
   "execution_count": null,
   "id": "2388b39f-be52-46d6-a88e-de8267744e60",
   "metadata": {},
   "outputs": [],
   "source": [
    "dataset = loader1.get_dataset(lags=1)"
   ]
  },
  {
   "cell_type": "code",
   "execution_count": null,
   "id": "66750291-f205-4ec4-bde1-58e427cd521d",
   "metadata": {},
   "outputs": [],
   "source": [
    "mindex = [random.sample(range(0, T), int(T*0.5)),[np.array(list(range(100,120)))]]\n",
    "dataset_miss = itstgcn.miss(dataset,mindex,mtype='block')"
   ]
  },
  {
   "cell_type": "code",
   "execution_count": null,
   "id": "ca927795-091b-4893-8468-0232dc48630a",
   "metadata": {},
   "outputs": [],
   "source": [
    "dataset_padded = itstgcn.padding(dataset_miss,imputation_method='cubic')"
   ]
  },
  {
   "cell_type": "code",
   "execution_count": null,
   "id": "4443fc2a-19c5-44ed-840b-3e35e143da9d",
   "metadata": {},
   "outputs": [],
   "source": []
  },
  {
   "cell_type": "code",
   "execution_count": null,
   "id": "979574e0-6365-4099-81db-34abf3a7c928",
   "metadata": {},
   "outputs": [],
   "source": []
  },
  {
   "cell_type": "code",
   "execution_count": null,
   "id": "9213cb44-8ca8-417a-802d-60885e964887",
   "metadata": {},
   "outputs": [],
   "source": []
  },
  {
   "cell_type": "code",
   "execution_count": null,
   "id": "114e0f2a-9a7b-4879-96b9-5ec329f5099d",
   "metadata": {},
   "outputs": [],
   "source": []
  },
  {
   "cell_type": "code",
   "execution_count": null,
   "id": "f00baef2-bf53-42b0-b0dc-663f412f98b4",
   "metadata": {},
   "outputs": [],
   "source": []
  },
  {
   "cell_type": "code",
   "execution_count": null,
   "id": "cfd7889c-b0a8-45ad-ae2c-225b8a3a9d73",
   "metadata": {},
   "outputs": [],
   "source": [
    "from tqdm import tqdm\n",
    "\n",
    "model = RecurrentGCN(node_features=1, filters=4)\n",
    "\n",
    "optimizer = torch.optim.Adam(model.parameters(), lr=0.01)\n",
    "\n",
    "model.train()\n",
    "\n",
    "for epoch in tqdm(range(50)):\n",
    "    for time, (xt,yt) in enumerate(zip(X,y)):\n",
    "        y_hat = model(xt, edge_index, edge_attr)\n",
    "        cost = torch.mean((y_hat-yt)**2)\n",
    "        cost.backward()\n",
    "        optimizer.step()\n",
    "        optimizer.zero_grad()"
   ]
  },
  {
   "cell_type": "code",
   "execution_count": null,
   "id": "a36155c1-5263-46bd-b469-a911b671f9a0",
   "metadata": {},
   "outputs": [],
   "source": [
    "yhat = torch.stack([model(xt, edge_index, edge_attr) for xt in X]).detach().numpy()"
   ]
  },
  {
   "cell_type": "code",
   "execution_count": null,
   "id": "21601f6c-ce4e-4b61-ab99-1fa1ef0798f2",
   "metadata": {},
   "outputs": [],
   "source": [
    "plt.plot(y[:,0,0],label=\"y in V1\")\n",
    "plt.plot(yhat[:,0,0],label=\"yhat in V1\")\n",
    "plt.legend()"
   ]
  },
  {
   "cell_type": "code",
   "execution_count": null,
   "id": "4a162774-3bc7-49b0-af18-2f91634ad651",
   "metadata": {},
   "outputs": [],
   "source": [
    "plt.plot(y[:,1,0],label=\"y in V2\")\n",
    "plt.plot(yhat[:,1,0],label=\"yhat in V2\")\n",
    "plt.legend()"
   ]
  },
  {
   "cell_type": "code",
   "execution_count": null,
   "id": "4a601450-8064-4fc9-9a9c-7cc182eedf6d",
   "metadata": {},
   "outputs": [],
   "source": [
    "plt.plot(y[:,2,0],label=\"y in V3\")\n",
    "plt.plot(yhat[:,2,0],label=\"yhat in V3\")\n",
    "plt.legend()"
   ]
  },
  {
   "cell_type": "code",
   "execution_count": null,
   "id": "53877895-2722-4a81-ac16-2c65bdc285ed",
   "metadata": {},
   "outputs": [],
   "source": [
    "plt.plot(y[:,3,0],label=\"y in V4\")\n",
    "plt.plot(yhat[:,3,0],label=\"yhat in V4\")\n",
    "plt.legend()"
   ]
  },
  {
   "cell_type": "code",
   "execution_count": null,
   "id": "ab920b5a-bb54-4712-967d-24aaa9a88375",
   "metadata": {},
   "outputs": [],
   "source": []
  }
 ],
 "metadata": {
  "kernelspec": {
   "display_name": "Python 3",
   "language": "python",
   "name": "python3"
  },
  "language_info": {
   "codemirror_mode": {
    "name": "ipython",
    "version": 3
   },
   "file_extension": ".py",
   "mimetype": "text/x-python",
   "name": "python",
   "nbconvert_exporter": "python",
   "pygments_lexer": "ipython3",
   "version": "3.8.0"
  }
 },
 "nbformat": 4,
 "nbformat_minor": 5
}

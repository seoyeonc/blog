{
 "cells": [
  {
   "cell_type": "raw",
   "id": "9d42625b-ddd6-469b-be87-4811cc8f6f85",
   "metadata": {
    "id": "cac470df-29e7-4148-9bbd-d8b9a32fa570",
    "tags": []
   },
   "source": [
    "---\n",
    "title: \"Old Faithful\"\n",
    "author: \"SEOYEON CHOI\"\n",
    "date: \"2023-03-15\"\n",
    "format: html\n",
    "server: shiny\n",
    "categories:\n",
    "  - Shiny\n",
    "---"
   ]
  },
  {
   "cell_type": "markdown",
   "id": "d7f2a9ed-4721-4808-9d84-c06e63d46026",
   "metadata": {},
   "source": [
    "> test"
   ]
  },
  {
   "cell_type": "markdown",
   "id": "79f3bddb-033e-4d27-ba6d-f59a07f33741",
   "metadata": {},
   "source": [
    "# import"
   ]
  },
  {
   "cell_type": "code",
   "execution_count": 5,
   "id": "6080cc43-251c-4342-971a-9d9511c143eb",
   "metadata": {},
   "outputs": [
    {
     "ename": "ERROR",
     "evalue": "Error in sliderInput(\"bins\", \"Number of bins:\", min = 1, max = 50, value = 30): could not find function \"sliderInput\"\n",
     "output_type": "error",
     "traceback": [
      "Error in sliderInput(\"bins\", \"Number of bins:\", min = 1, max = 50, value = 30): could not find function \"sliderInput\"\nTraceback:\n"
     ]
    }
   ],
   "source": [
    "sliderInput(\"bins\", \"Number of bins:\", \n",
    "            min = 1, max = 50, value = 30)\n",
    "plotOutput(\"distPlot\")"
   ]
  },
  {
   "cell_type": "code",
   "execution_count": null,
   "id": "7cbada26-fbca-4be5-9f31-aba4992e87b0",
   "metadata": {},
   "outputs": [],
   "source": [
    "#| context: server\n",
    "output$distPlot <- renderPlot({\n",
    "  x <- faithful[, 2]  # Old Faithful Geyser data\n",
    "  bins <- seq(min(x), max(x), length.out = input$bins + 1)\n",
    "  hist(x, breaks = bins, col = 'darkgray', border = 'white')\n",
    "})"
   ]
  },
  {
   "cell_type": "code",
   "execution_count": null,
   "id": "47707eda-ac26-4f34-8121-15c9057a3222",
   "metadata": {},
   "outputs": [],
   "source": []
  }
 ],
 "metadata": {
  "kernelspec": {
   "display_name": "R",
   "language": "R",
   "name": "ir"
  },
  "language_info": {
   "codemirror_mode": "r",
   "file_extension": ".r",
   "mimetype": "text/x-r-source",
   "name": "R",
   "pygments_lexer": "r",
   "version": "4.1.2"
  }
 },
 "nbformat": 4,
 "nbformat_minor": 5
}

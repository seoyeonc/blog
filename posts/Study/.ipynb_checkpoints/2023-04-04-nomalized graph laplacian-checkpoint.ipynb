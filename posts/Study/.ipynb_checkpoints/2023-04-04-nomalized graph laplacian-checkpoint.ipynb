{
 "cells": [
  {
   "cell_type": "raw",
   "id": "1ebe567d-46c7-4852-b8dd-f5201c0b47a6",
   "metadata": {
    "id": "cac470df-29e7-4148-9bbd-d8b9a32fa570",
    "tags": []
   },
   "source": [
    "---\n",
    "title: \"Nomalized Graph Laplacian\"\n",
    "author: \"SEOYEON CHOI\"\n",
    "date: \"2023-04-04\"\n",
    "categories:\n",
    "  - Graph Laplacian\n",
    "---"
   ]
  },
  {
   "cell_type": "markdown",
   "id": "4da4d834-f676-4df1-bd8b-a3c57da72849",
   "metadata": {},
   "source": [
    "> Graph Laplacian"
   ]
  },
  {
   "cell_type": "markdown",
   "id": "333ca733-79c4-4b16-b086-8fd1661a8b3e",
   "metadata": {},
   "source": [
    "https://en.wikipedia.org/wiki/Laplacian_matrix"
   ]
  },
  {
   "cell_type": "markdown",
   "id": "b85f91ff-8c23-4dbf-ab37-b20de3481107",
   "metadata": {},
   "source": [
    "$L = D-W$\n",
    "\n",
    "$D$ is a diagonal degree matrix.\n",
    "\n",
    "$W$ is a weight matrix.\n",
    "\n",
    "$\\tilde{L} = D^{-1/2}LD^{-1/2}$\n",
    "\n",
    "$= D^{-1/2}(D-W)D^{-1/2}$\n",
    "\n",
    "$= D^{-1/2}DD^{-1/2}-D^{-1/2}WD^{-1/2}$\n",
    "\n",
    "$= I-D^{-1/2}WD^{-1/2}$\n",
    "\n",
    "$I$ is an identity matrix.\n",
    "\n",
    "$\\tilde{L}$ nomalizes weights using $D^{-1/2}WD^{-1/2}$ by degree of each node and retain the information of graph structiure.\n",
    "\n",
    "$0 < L< 1$"
   ]
  },
  {
   "cell_type": "code",
   "execution_count": null,
   "id": "09360c9d-8220-4e53-9b51-9e783021e587",
   "metadata": {},
   "outputs": [],
   "source": []
  }
 ],
 "metadata": {
  "kernelspec": {
   "display_name": "Python 3 (ipykernel)",
   "language": "python",
   "name": "python3"
  },
  "language_info": {
   "codemirror_mode": {
    "name": "ipython",
    "version": 3
   },
   "file_extension": ".py",
   "mimetype": "text/x-python",
   "name": "python",
   "nbconvert_exporter": "python",
   "pygments_lexer": "ipython3",
   "version": "3.8.12"
  }
 },
 "nbformat": 4,
 "nbformat_minor": 5
}

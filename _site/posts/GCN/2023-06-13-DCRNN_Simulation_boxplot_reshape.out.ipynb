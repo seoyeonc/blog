{
  "cells": [
    {
      "cell_type": "markdown",
      "metadata": {},
      "source": [
        "# DCRNN_Simulation_reshape\n",
        "\n",
        "SEOYEON CHOI  \n",
        "6/13/23\n",
        "\n",
        "> Simulation Study\n",
        "\n",
        "# Import"
      ],
      "id": "0555228f-f400-409d-a75c-22a471be5ef6"
    },
    {
      "cell_type": "code",
      "execution_count": 32,
      "metadata": {},
      "outputs": [],
      "source": [
        "import matplotlib.pyplot as plt\n",
        "import pandas as pd\n",
        "import numpy as np"
      ],
      "id": "8844c6c5-af41-411a-bf1a-593ebac223bc"
    },
    {
      "cell_type": "markdown",
      "metadata": {},
      "source": [
        "# Fivenodes"
      ],
      "id": "406cbfe1-77b0-4079-bd63-dc73e044d884"
    },
    {
      "cell_type": "code",
      "execution_count": 33,
      "metadata": {},
      "outputs": [],
      "source": [
        "df1 = pd.read_csv('./simulation_results/2023-06-16_06-51-22.csv')\n",
        "df2 = pd.read_csv('./simulation_results/2023-06-16_07-11-45.csv')\n",
        "df3 = pd.read_csv('./simulation_results/2023-06-16_07-32-31.csv')\n",
        "df4 = pd.read_csv('./simulation_results/2023-06-16_07-53-49.csv')\n",
        "df5 = pd.read_csv('./simulation_results/2023-06-16_08-16-16.csv')\n",
        "df6 = pd.read_csv('./simulation_results/2023-06-16_08-37-16.csv')\n",
        "df7 = pd.read_csv('./simulation_results/2023-06-16_08-59-15.csv')\n",
        "df8 = pd.read_csv('./simulation_results/2023-06-16_09-20-30.csv')"
      ],
      "id": "2fdb9399-de8c-45a4-9d6a-03c8a583101a"
    },
    {
      "cell_type": "code",
      "execution_count": 34,
      "metadata": {},
      "outputs": [],
      "source": [
        "df9 = pd.read_csv('./simulation_results/2023-07-17_16-01-46.csv')\n",
        "df10 = pd.read_csv('./simulation_results/2023-07-17_16-25-07.csv')\n",
        "df11 = pd.read_csv('./simulation_results/2023-07-17_16-48-19.csv')\n",
        "df12 = pd.read_csv('./simulation_results/2023-07-17_17-11-42.csv')\n",
        "df13 = pd.read_csv('./simulation_results/2023-07-17_17-34-51.csv')\n",
        "df14 = pd.read_csv('./simulation_results/2023-07-17_17-57-55.csv')"
      ],
      "id": "386a60f8-d1e7-42c6-b782-8f2656e2db00"
    },
    {
      "cell_type": "code",
      "execution_count": 35,
      "metadata": {},
      "outputs": [],
      "source": [
        "data = pd.concat([df1,df2,df3,df4,df5,df6,df7,df8,df9,df10,df11,df12,df13,df14],axis=0)"
      ],
      "id": "78531f1a-5b35-4952-89d6-adcb07992c67"
    },
    {
      "cell_type": "code",
      "execution_count": 36,
      "metadata": {},
      "outputs": [],
      "source": [
        "data.to_csv('./simulation_results/Real_simulation_reshape/DCRNN_fivedones_Simulation.csv',index=False)"
      ],
      "id": "c4347c00-d7ad-46b6-9f0f-c0812976caca"
    },
    {
      "cell_type": "code",
      "execution_count": 37,
      "metadata": {},
      "outputs": [],
      "source": [
        "data = pd.read_csv('./simulation_results/Real_simulation_reshape/DCRNN_fivedones_Simulation.csv')"
      ],
      "id": "d5a640d0-9776-4d0c-a6d9-745b7b4d4e82"
    },
    {
      "cell_type": "markdown",
      "metadata": {},
      "source": [
        "## Baseline"
      ],
      "id": "b78eec4d-1cb0-41af-86a2-78dd536acf15"
    },
    {
      "cell_type": "code",
      "execution_count": 38,
      "metadata": {
        "tags": []
      },
      "outputs": [],
      "source": [
        "data.query(\"method!='GNAR' and mrate==0\").plot.box(backend='plotly',x='mrate',color='method',y='mse',facet_col='lags',facet_row='nof_filters',height=600)\n"
      ],
      "id": "9d435cd8-4347-4840-9cf3-a7a6a62f9b74"
    },
    {
      "cell_type": "markdown",
      "metadata": {},
      "source": [
        "## Random"
      ],
      "id": "6290f29d-2920-4d61-8dd7-7ec15c0b96fb"
    },
    {
      "cell_type": "code",
      "execution_count": 39,
      "metadata": {},
      "outputs": [],
      "source": [
        "data.query(\"method!='GNAR' and mtype =='rand'\").plot.box(backend='plotly',x='mrate',color='method',y='mse',facet_col='inter_method',facet_row='nof_filters',height=600)\n",
        "\n"
      ],
      "id": "ce5bff3a-f484-4942-964c-37dc12e3b2d8"
    },
    {
      "cell_type": "markdown",
      "metadata": {},
      "source": [
        "## Block"
      ],
      "id": "01ea840c-41bd-4b62-b5ce-1e199266be5d"
    },
    {
      "cell_type": "code",
      "execution_count": 40,
      "metadata": {},
      "outputs": [],
      "source": [
        "data.query(\"method!='GNAR' and mtype =='block' \").plot.box(backend='plotly',x='mrate',color='method',y='mse',facet_col='inter_method',facet_row='nof_filters',height=600)\n"
      ],
      "id": "929468a7-4176-4a4b-80a8-d4d1f290d0f2"
    },
    {
      "cell_type": "markdown",
      "metadata": {},
      "source": [
        "# chickenpox"
      ],
      "id": "3244f924-7f92-424a-88c5-9bfe99a2859e"
    },
    {
      "cell_type": "code",
      "execution_count": 41,
      "metadata": {},
      "outputs": [],
      "source": [
        "df1 = pd.read_csv('./simulation_results/2023-06-16_10-27-14.csv') # GNAR random\n",
        "df2 = pd.read_csv('./simulation_results/2023-06-16_11-34-08.csv') # GNAR block\n",
        "df3 = pd.read_csv('./simulation_results/2023-06-16_12-07-20.csv') # STGCN, ITSTGCN random 30%\n",
        "df4 = pd.read_csv('./simulation_results/2023-06-16_12-40-41.csv') \n",
        "df5 = pd.read_csv('./simulation_results/2023-06-16_13-46-55.csv') \n",
        "df6 = pd.read_csv('./simulation_results/2023-06-16_14-52-07.csv') "
      ],
      "id": "5616f9af-d1d4-452d-8c6a-7d1e519fd308"
    },
    {
      "cell_type": "code",
      "execution_count": 42,
      "metadata": {},
      "outputs": [],
      "source": [
        "df7 = pd.read_csv('./simulation_results/2023-07-17_18-33-49.csv') # GNAR random\n",
        "df8 = pd.read_csv('./simulation_results/2023-07-17_19-12-06.csv') # GNAR block\n",
        "df9 = pd.read_csv('./simulation_results/2023-07-17_19-52-32.csv') # STGCN, ITSTGCN random 30%\n",
        "df10 = pd.read_csv('./simulation_results/2023-07-17_20-27-47.csv') "
      ],
      "id": "6102f9e2-c0a2-4656-be07-82238c153d4d"
    },
    {
      "cell_type": "code",
      "execution_count": 43,
      "metadata": {},
      "outputs": [],
      "source": [
        "data = pd.concat([df1,df2,df3,df4,df5,df6,df7,df8,df9,df10],axis=0)"
      ],
      "id": "257bb048-cef2-427a-8036-da0b3e51845a"
    },
    {
      "cell_type": "code",
      "execution_count": 44,
      "metadata": {},
      "outputs": [],
      "source": [
        "data.to_csv('./simulation_results/Real_simulation_reshape/DCRNN_chikenpox_Simulation.csv',index=False)"
      ],
      "id": "97e0f68e-23ca-4dd0-b10c-f42fce9d1343"
    },
    {
      "cell_type": "code",
      "execution_count": 45,
      "metadata": {},
      "outputs": [],
      "source": [
        "data = pd.read_csv('./simulation_results/Real_simulation_reshape/DCRNN_chikenpox_Simulation.csv')"
      ],
      "id": "199a5abc-546b-4a39-a1ad-cfc05c193111"
    },
    {
      "cell_type": "markdown",
      "metadata": {},
      "source": [
        "## Baseline"
      ],
      "id": "8f025c1e-e55a-4be6-ba08-abe8d632092f"
    },
    {
      "cell_type": "code",
      "execution_count": 46,
      "metadata": {},
      "outputs": [],
      "source": [
        "data.query(\"method!='GNAR' and mrate ==0 \").plot.box(backend='plotly',x='mrate',color='method',y='mse',facet_col='nof_filters',height=600)\n"
      ],
      "id": "0e4289b5-29fb-4ec1-9b3f-df11c7ca75cf"
    },
    {
      "cell_type": "markdown",
      "metadata": {},
      "source": [
        "## Random"
      ],
      "id": "de0d2b38-510f-4a4b-ad48-f07e370082c3"
    },
    {
      "cell_type": "code",
      "execution_count": 47,
      "metadata": {},
      "outputs": [],
      "source": [
        "data.query(\"method!='GNAR' and mtype =='rand'\").plot.box(backend='plotly',x='mrate',color='method',y='mse',facet_col='nof_filters',facet_row='inter_method',height=800)\n"
      ],
      "id": "d3c500c7-8bd7-42cf-b807-f3336b79f390"
    },
    {
      "cell_type": "markdown",
      "metadata": {},
      "source": [
        "## Block"
      ],
      "id": "f0b6a4d5-b266-4049-8209-e3dd355baa29"
    },
    {
      "cell_type": "code",
      "execution_count": 48,
      "metadata": {},
      "outputs": [],
      "source": [
        "data.query(\"method!='GNAR' and mtype =='block'\").plot.box(backend='plotly',x='mrate',color='method',y='mse',facet_col='inter_method',facet_row='lags',height=800)\n"
      ],
      "id": "3c14c52b-5d33-4442-a830-86d53b6180ba"
    },
    {
      "cell_type": "markdown",
      "metadata": {},
      "source": [
        "# Pedalme"
      ],
      "id": "c56165fa-a086-4cbd-9af6-2148b3454803"
    },
    {
      "cell_type": "code",
      "execution_count": 49,
      "metadata": {},
      "outputs": [],
      "source": [
        "df1 = pd.read_csv('./simulation_results/2023-06-16_06-23-09.csv') \n",
        "df2 = pd.read_csv('./simulation_results/2023-06-16_06-30-51.csv')  "
      ],
      "id": "16f93bf3-e878-4c0a-9b28-c04a1e839354"
    },
    {
      "cell_type": "code",
      "execution_count": 50,
      "metadata": {},
      "outputs": [],
      "source": [
        "df3 = pd.read_csv('./simulation_results/2023-07-17_20-44-11.csv') "
      ],
      "id": "d0252f05-cdf8-4d05-8589-b9aedb041dcb"
    },
    {
      "cell_type": "code",
      "execution_count": 51,
      "metadata": {},
      "outputs": [],
      "source": [
        "data = pd.concat([df1,df2,df3],axis=0)"
      ],
      "id": "37f563ed-8aa6-4e8e-90ff-d16e0a293925"
    },
    {
      "cell_type": "code",
      "execution_count": 52,
      "metadata": {},
      "outputs": [],
      "source": [
        "data.to_csv('./simulation_results/Real_simulation_reshape/DCRNN_pedalme_Simulation.csv',index=False)"
      ],
      "id": "522c6c27-a7e7-495d-be92-be337a5351c6"
    },
    {
      "cell_type": "code",
      "execution_count": 53,
      "metadata": {},
      "outputs": [],
      "source": [
        "data = pd.read_csv('./simulation_results/Real_simulation_reshape/DCRNN_pedalme_Simulation.csv')"
      ],
      "id": "0ccc5a0b-5951-47c2-bc8f-2a9a638e8c31"
    },
    {
      "cell_type": "markdown",
      "metadata": {},
      "source": [
        "## Baseline"
      ],
      "id": "dfc9f2e5-4f49-4dad-81f4-a1a598258b9d"
    },
    {
      "cell_type": "code",
      "execution_count": 54,
      "metadata": {},
      "outputs": [],
      "source": [
        "data.query(\"mrate ==0 and lags!=2\").plot.box(backend='plotly',x='epoch',color='method',y='mse',facet_col='nof_filters',facet_row='lags',height=400)\n"
      ],
      "id": "b6a39f23-cf7b-4d25-9f5c-dc1230e960ec"
    },
    {
      "cell_type": "markdown",
      "metadata": {},
      "source": [
        "## random"
      ],
      "id": "945b45e2-d0b5-4d21-a509-b147dc6266ff"
    },
    {
      "cell_type": "code",
      "execution_count": 55,
      "metadata": {},
      "outputs": [],
      "source": [
        "data.query(\"method!='GNAR' and mtype =='rand' and lags!=2\").plot.box(backend='plotly',x='mrate',color='method',y='mse',facet_col='nof_filters',facet_row='inter_method',height=800)\n"
      ],
      "id": "adf3cb74-f2ab-4a99-87bd-cd5005698f9a"
    },
    {
      "cell_type": "markdown",
      "metadata": {},
      "source": [
        "## block"
      ],
      "id": "a4e0344f-dc8f-4261-a5aa-e8730523653a"
    },
    {
      "cell_type": "code",
      "execution_count": 56,
      "metadata": {},
      "outputs": [],
      "source": [
        "data.query(\"method!='GNAR' and mtype =='block' and lags!=2 \").plot.box(backend='plotly',x='mrate',color='method',y='mse',facet_col='nof_filters',facet_row='inter_method',height=800)\n"
      ],
      "id": "15a0a545-21f5-4bed-9f09-6342704b9bb6"
    },
    {
      "cell_type": "markdown",
      "metadata": {},
      "source": [
        "## weight matrix time, node 고려한 결과"
      ],
      "id": "43c52acc-147d-43c2-8bf0-846cc92f9914"
    },
    {
      "cell_type": "code",
      "execution_count": 78,
      "metadata": {},
      "outputs": [],
      "source": [
        "df1 = pd.read_csv('./simulation_results/2023-06-16_21-09-11.csv')\n",
        "df2 = pd.read_csv('./simulation_results/2023-06-16_21-30-17.csv')"
      ],
      "id": "12cb8b8b-a99d-458a-92d1-345a63d4de81"
    },
    {
      "cell_type": "code",
      "execution_count": 79,
      "metadata": {},
      "outputs": [],
      "source": [
        "data2 = pd.concat([df1,df2],axis=0)"
      ],
      "id": "d555fd9f-23fe-4355-94e1-80c8f6d507d0"
    },
    {
      "cell_type": "code",
      "execution_count": 80,
      "metadata": {},
      "outputs": [],
      "source": [
        "data2.to_csv('./simulation_results/Real_simulation_reshape/DCRNN_pedalme_Simulation_itstgcnsnd.csv',index=False)"
      ],
      "id": "9a366429-c233-4b83-8bc6-a1832502f5ca"
    },
    {
      "cell_type": "code",
      "execution_count": 81,
      "metadata": {},
      "outputs": [],
      "source": [
        "data2 = pd.read_csv('./simulation_results/Real_simulation_reshape/DCRNN_pedalme_Simulation_itstgcnsnd.csv')"
      ],
      "id": "ddc43cb5-1505-4118-b5b8-9a9ecaeb57c6"
    },
    {
      "cell_type": "code",
      "execution_count": 82,
      "metadata": {},
      "outputs": [],
      "source": [
        "data2.query(\"mtype=='rand'\").plot.box(backend='plotly',x='mrate',color='method',y='mse',facet_col='inter_method',facet_row='nof_filters',height=1000)"
      ],
      "id": "8e282749-c861-4813-b035-73b5df42d0a2"
    },
    {
      "cell_type": "code",
      "execution_count": 83,
      "metadata": {},
      "outputs": [],
      "source": [
        "data2.query(\"mtype=='block'\").plot.box(backend='plotly',x='mrate',color='method',y='mse',facet_col='inter_method',facet_row='nof_filters',height=1000)"
      ],
      "id": "172c632b-10e9-4c42-a9df-9c19bcd8e25a"
    },
    {
      "cell_type": "markdown",
      "metadata": {},
      "source": [
        "# Wikimath"
      ],
      "id": "129279cc-b6c2-42f1-afce-ba5326e95a43"
    },
    {
      "cell_type": "code",
      "execution_count": 206,
      "metadata": {},
      "outputs": [],
      "source": [
        "df1 = pd.read_csv('./simulation_results/2023-06-18_01-40-15.csv')\n",
        "df2 = pd.read_csv('./simulation_results/2023-06-18_04-35-40.csv')\n",
        "df3 = pd.read_csv('./simulation_results/2023-06-18_07-54-10.csv')\n",
        "df4 = pd.read_csv('./simulation_results/2023-06-18_12-30-04.csv')\n",
        "df5 = pd.read_csv('./simulation_results/2023-06-18_17-20-27.csv')\n",
        "df6 = pd.read_csv('./simulation_results/2023-06-18_20-20-28.csv')\n",
        "df7 = pd.read_csv('./simulation_results/2023-06-18_23-01-51.csv')\n",
        "df8 = pd.read_csv('./simulation_results/2023-06-19_02-02-23.csv')\n",
        "df9 = pd.read_csv('./simulation_results/2023-06-19_05-09-39.csv') # block\n",
        "df10 = pd.read_csv('./simulation_results/2023-06-19_08-03-26.csv') # block\n",
        "df11 = pd.read_csv('./simulation_results/2023-06-19_10-51-20.csv') # block"
      ],
      "id": "ed356e04-cba6-484c-9614-4eef5ad4f76c"
    },
    {
      "cell_type": "code",
      "execution_count": 216,
      "metadata": {},
      "outputs": [],
      "source": [
        "df12 = pd.read_csv('./simulation_results/2023-07-30_09-06-07.csv')\n",
        "df13 = pd.read_csv('./simulation_results/2023-07-30_11-57-06.csv')\n",
        "df14 = pd.read_csv('./simulation_results/2023-07-30_14-23-06.csv')\n",
        "df15 = pd.read_csv('./simulation_results/2023-07-30_18-59-54.csv')\n",
        "df16 = pd.read_csv('./simulation_results/2023-07-30_21-37-43.csv')\n",
        "df17 = pd.read_csv('./simulation_results/2023-07-31_00-06-09.csv')\n",
        "df18 = pd.read_csv('./simulation_results/2023-07-31_02-43-42.csv')\n",
        "df19 = pd.read_csv('./simulation_results/2023-07-31_04-47-50.csv')\n",
        "df20 = pd.read_csv('./simulation_results/2023-07-31_07-15-37.csv') # block\n",
        "df21 = pd.read_csv('./simulation_results/2023-07-31_09-47-31.csv') # block\n",
        "df22 = pd.read_csv('./simulation_results/2023-07-31_12-16-28.csv') # block\n",
        "df23 = pd.read_csv('./simulation_results/2023-07-30_16-56-00.csv') # block"
      ],
      "id": "71eb7e37-217d-47b8-a34c-f52276f9ed40"
    },
    {
      "cell_type": "code",
      "execution_count": 218,
      "metadata": {},
      "outputs": [],
      "source": [
        "data = pd.concat([df1,df2,df3,df4,df5,df6,df7,df8,df9,df10,df11,df12,df13,df14,df15,df16,df17,df18,df19,df20,df21,df22,df23],axis=0)"
      ],
      "id": "0a0b216e-1bfa-442a-80ca-0bb5fdadc121"
    },
    {
      "cell_type": "code",
      "execution_count": 219,
      "metadata": {},
      "outputs": [],
      "source": [
        "data.to_csv('./simulation_results/Real_simulation_reshape/DCRNN_wikimath.csv',index=False)"
      ],
      "id": "27a0a834-26a9-4569-b0b8-a04b7c25f084"
    },
    {
      "cell_type": "code",
      "execution_count": 220,
      "metadata": {},
      "outputs": [],
      "source": [
        "data = pd.read_csv('./simulation_results/Real_simulation_reshape/DCRNN_wikimath.csv')"
      ],
      "id": "0e513e34-e9d4-435a-b586-661c8093affb"
    },
    {
      "cell_type": "markdown",
      "metadata": {},
      "source": [
        "## Baseline"
      ],
      "id": "a33e65e3-ff5f-4e44-8a6b-6fe327e893db"
    },
    {
      "cell_type": "code",
      "execution_count": 221,
      "metadata": {},
      "outputs": [],
      "source": [
        "data.query(\"mrate==0 and method!='GNAR'\").plot.box(backend='plotly',x='mrate',color='method',y='mse',height=600)"
      ],
      "id": "3a54bb85-4820-4aef-a053-ce94329c0c72"
    },
    {
      "cell_type": "markdown",
      "metadata": {},
      "source": [
        "## random"
      ],
      "id": "8fe91d94-a58b-4f54-8653-eae0795cfcd4"
    },
    {
      "cell_type": "code",
      "execution_count": 222,
      "metadata": {},
      "outputs": [],
      "source": [
        "data.query(\"mtype=='rand' and mrate !=0 and method!='GNAR'\").plot.box(backend='plotly',x='mrate',color='method',y='mse',facet_col='lags',facet_row='nof_filters',height=800)\n"
      ],
      "id": "f00b1536-4d36-4c1c-b96b-80f4618e444e"
    },
    {
      "cell_type": "markdown",
      "metadata": {},
      "source": [
        "## block"
      ],
      "id": "cb4b9675-c7dc-44c8-91ff-be4841773fda"
    },
    {
      "cell_type": "code",
      "execution_count": 223,
      "metadata": {},
      "outputs": [],
      "source": [
        "data.query(\"mtype=='block' and method!='GNAR'\").plot.box(backend='plotly',x='mrate',color='method',y='mse',facet_col='lags',facet_row='nof_filters',height=1200)\n"
      ],
      "id": "fb693a2f-456c-43e8-b0c3-d9b3e1717c7a"
    },
    {
      "cell_type": "markdown",
      "metadata": {},
      "source": [
        "## missing values on the same nodes"
      ],
      "id": "c5cb9e94-5cb8-4d3e-bb96-34cd1f4f4a9a"
    },
    {
      "cell_type": "code",
      "execution_count": 159,
      "metadata": {
        "tags": []
      },
      "outputs": [],
      "source": [
        "df1 = pd.read_csv('./simulation_results/2023-06-19_15-43-50.csv') # STGCN IT-STGCN block\n",
        "df2 = pd.read_csv('./simulation_results/2023-06-19_18-35-04.csv') # STGCN IT-STGCN\n",
        "df3 = pd.read_csv('./simulation_results/2023-06-19_22-00-09.csv') "
      ],
      "id": "0877957f-fb85-4172-bfa1-94d6b9863699"
    },
    {
      "cell_type": "code",
      "execution_count": 160,
      "metadata": {},
      "outputs": [],
      "source": [
        "data = pd.concat([df1,df2,df3],axis=0)"
      ],
      "id": "db553437-7c70-4e9f-a6f7-a4e48b87c022"
    },
    {
      "cell_type": "code",
      "execution_count": 161,
      "metadata": {},
      "outputs": [],
      "source": [
        "data.to_csv('./simulation_results/Real_simulation_reshape/DCRNN_wikimath_GSO_st.csv',index=False)"
      ],
      "id": "af40172a-a4cf-4539-8d0b-d19362aabd18"
    },
    {
      "cell_type": "code",
      "execution_count": 162,
      "metadata": {},
      "outputs": [],
      "source": [
        "data = pd.read_csv('./simulation_results/Real_simulation_reshape/DCRNN_wikimath_GSO_st.csv')"
      ],
      "id": "3467c3e9-01e1-484b-9635-dab9be92165c"
    },
    {
      "cell_type": "code",
      "execution_count": 163,
      "metadata": {},
      "outputs": [],
      "source": [
        "data.query(\"method!='GNAR' and mtype =='block' \").plot.box(backend='plotly',x='mrate',color='method',y='mse',facet_col='inter_method',facet_row='lags',height=800)\n"
      ],
      "id": "98b74777-fe57-47e8-8b6e-90fcc718de2a"
    },
    {
      "cell_type": "markdown",
      "metadata": {},
      "source": [
        "# Windmilsmall"
      ],
      "id": "8393d81c-0f7b-447d-bf4f-fe9991c9e32b"
    },
    {
      "cell_type": "code",
      "execution_count": 411,
      "metadata": {},
      "outputs": [],
      "source": [
        "# Random\n",
        "df1 = pd.read_csv('./simulation_results/2023-07-19_18-22-01.csv') # STGCN IT-STGCN 70%\n",
        "df2 = pd.read_csv('./simulation_results/2023-07-20_07-10-38.csv') # STGCN IT-STGCN\n",
        "df3 = pd.read_csv('./simulation_results/2023-07-20_19-15-18.csv') # STGCN IT-STGCN\n",
        "df4 = pd.read_csv('./simulation_results/2023-07-21_07-21-29.csv') # STGCN IT-STGCN\n",
        "df5 = pd.read_csv('./simulation_results/2023-07-21_17-46-04.csv') # STGCN IT-STGCN\n",
        "df6 = pd.read_csv('./simulation_results/2023-07-29_12-59-12.csv') # GNAR 30%, 50%, 70% # 뭔가 일단 필요없어서 데이터셋에서 뺌\n",
        "df7 = pd.read_csv('./simulation_results/2023-07-22_03-50-07.csv') # STGCN IT-STGCN\n",
        "df8 = pd.read_csv('./simulation_results/2023-07-22_16-25-18.csv') # STGCN IT-STGCN\n",
        "df9 = pd.read_csv('./simulation_results/2023-07-23_03-42-00.csv') # STGCN IT-STGCN\n",
        "df10 = pd.read_csv('./simulation_results/2023-07-23_15-50-05.csv') # STGCN IT-STGCN\n",
        "df11 = pd.read_csv('./simulation_results/2023-07-24_03-42-46.csv') # STGCN IT-STGCN\n",
        "df12 = pd.read_csv('./simulation_results/2023-07-24_14-50-24.csv') # STGCN IT-STGCN\n",
        "df13 = pd.read_csv('./simulation_results/2023-07-25_02-23-22.csv') # STGCN IT-STGCN\n",
        "df14 = pd.read_csv('./simulation_results/2023-07-25_13-32-09.csv') # STGCN IT-STGCN\n",
        "df15 = pd.read_csv('./simulation_results/2023-07-26_00-35-48.csv') # STGCN IT-STGCN\n",
        "df16 = pd.read_csv('./simulation_results/2023-07-26_12-00-23.csv') # STGCN IT-STGCN\n",
        "df17 = pd.read_csv('./simulation_results/2023-07-26_23-10-00.csv') # STGCN IT-STGCN\n",
        "df18 = pd.read_csv('./simulation_results/2023-07-27_10-36-07.csv') # STGCN IT-STGCN\n",
        "df19 = pd.read_csv('./simulation_results/2023-07-27_20-28-26.csv') # STGCN IT-STGCN\n",
        "df20 = pd.read_csv('./simulation_results/2023-07-28_06-55-37.csv') # STGCN IT-STGCN\n",
        "df21 = pd.read_csv('./simulation_results/2023-07-28_16-41-52.csv') # STGCN IT-STGCN\n",
        "df22 = pd.read_csv('./simulation_results/2023-07-29_02-50-06.csv') # STGCN IT-STGCN\n",
        "df23 = pd.read_csv('./simulation_results/2023-07-29_23-06-25.csv') # STGCN IT-STGCN\n",
        "df24 = pd.read_csv('./simulation_results/2023-07-30_07-20-33.csv') # STGCN IT-STGCN\n",
        "df25 = pd.read_csv('./simulation_results/2023-07-30_17-21-37.csv') # STGCN IT-STGCN\n",
        "df26 = pd.read_csv('./simulation_results/2023-07-31_03-22-49.csv') # STGCN IT-STGCN\n",
        "df27 = pd.read_csv('./simulation_results/2023-07-31_13-35-50.csv') # STGCN IT-STGCN\n",
        "df28 = pd.read_csv('./simulation_results/2023-07-31_22-18-43.csv') # STGCN IT-STGCN\n",
        "df29 = pd.read_csv('./simulation_results/2023-08-01_08-16-24.csv') # STGCN IT-STGCN\n",
        "df30 = pd.read_csv('./simulation_results/2023-08-01_18-29-43.csv') # STGCN IT-STGCN\n",
        "# Block\n",
        "df31 = pd.read_csv('./simulation_results/2023-07-28_03-25-42.csv') \n",
        "df32 = pd.read_csv('./simulation_results/2023-07-28_13-57-27.csv') # GNAR \n",
        "df33 = pd.read_csv('./simulation_results/2023-07-28_23-11-14.csv')\n",
        "df34 = pd.read_csv('./simulation_results/2023-07-29_09-17-50.csv')\n",
        "df35 = pd.read_csv('./simulation_results/2023-07-29_19-18-59.csv')\n",
        "df36 = pd.read_csv('./simulation_results/2023-07-30_04-26-30.csv')\n",
        "df37 = pd.read_csv('./simulation_results/2023-07-30_13-35-46.csv')\n",
        "df38 = pd.read_csv('./simulation_results/2023-07-30_23-39-49.csv')\n",
        "df39 = pd.read_csv('./simulation_results/2023-07-31_09-52-08.csv')\n",
        "df40 = pd.read_csv('./simulation_results/2023-07-31_18-36-29.csv')\n",
        "df41 = pd.read_csv('./simulation_results/2023-08-01_03-33-28.csv')\n",
        "df42 = pd.read_csv('./simulation_results/2023-08-01_13-34-15.csv')\n",
        "df43 = pd.read_csv('./simulation_results/2023-08-01_22-48-25.csv')\n",
        "df44 = pd.read_csv('./simulation_results/2023-08-02_08-30-35.csv')\n",
        "df45 = pd.read_csv('./simulation_results/2023-08-02_18-19-42.csv')\n",
        "df46 = pd.read_csv('./simulation_results/2023-08-03_04-15-51.csv')\n",
        "df47 = pd.read_csv('./simulation_results/2023-08-03_14-12-39.csv')\n",
        "df48 = pd.read_csv('./simulation_results/2023-08-04_00-10-17.csv')\n",
        "df49 = pd.read_csv('./simulation_results/2023-08-04_09-57-02.csv')\n",
        "df50 = pd.read_csv('./simulation_results/2023-08-04_18-24-11.csv')\n",
        "df51 = pd.read_csv('./simulation_results/2023-08-05_03-23-42.csv')\n",
        "df52 = pd.read_csv('./simulation_results/2023-08-05_14-55-17.csv')\n",
        "df53 = pd.read_csv('./simulation_results/2023-08-06_02-56-16.csv')\n",
        "df54 = pd.read_csv('./simulation_results/2023-08-06_15-31-03.csv')\n",
        "df55 = pd.read_csv('./simulation_results/2023-08-07_05-01-10.csv')\n",
        "df56 = pd.read_csv('./simulation_results/2023-08-07_17-16-26.csv')\n",
        "df57 = pd.read_csv('./simulation_results/2023-08-08_04-59-49.csv')\n",
        "df58 = pd.read_csv('./simulation_results/2023-08-08_14-54-14.csv')\n",
        "df59 = pd.read_csv('./simulation_results/2023-08-08_23-35-40.csv')\n",
        "df60 = pd.read_csv('./simulation_results/2023-08-09_08-04-30.csv')\n",
        "# Baseline\n",
        "df61 = pd.read_csv('./simulation_results/2023-07-31_03-42-43.csv')\n",
        "df62 = pd.read_csv('./simulation_results/2023-07-31_13-35-49.csv')\n",
        "df63 = pd.read_csv('./simulation_results/2023-07-31_22-10-45.csv')\n",
        "df64 = pd.read_csv('./simulation_results/2023-08-01_08-16-01.csv')\n",
        "df65 = pd.read_csv('./simulation_results/2023-08-01_18-18-12.csv')\n",
        "df66 = pd.read_csv('./simulation_results/2023-08-02_03-01-38.csv')\n",
        "df67 = pd.read_csv('./simulation_results/2023-08-02_13-05-38.csv')\n",
        "df68 = pd.read_csv('./simulation_results/2023-08-03_09-02-04.csv') # 확인 후 block 만 넣기!\n",
        "df69 = pd.read_csv('./simulation_results/2023-08-03_18-57-42.csv')\n",
        "df70 = pd.read_csv('./simulation_results/2023-08-04_05-05-29.csv')\n",
        "df71 = pd.read_csv('./simulation_results/2023-08-04_13-56-30.csv')\n",
        "df72 = pd.read_csv('./simulation_results/2023-08-04_22-24-22.csv')\n",
        "df73 = pd.read_csv('./simulation_results/2023-08-05_08-29-13.csv')\n",
        "df74 = pd.read_csv('./simulation_results/2023-08-05_21-53-37.csv')\n",
        "df75 = pd.read_csv('./simulation_results/2023-08-06_10-18-13.csv')\n",
        "df76 = pd.read_csv('./simulation_results/2023-08-06_22-41-02.csv')\n",
        "df77 = pd.read_csv('./simulation_results/2023-08-07_10-21-28.csv')\n",
        "df78 = pd.read_csv('./simulation_results/2023-08-07_23-53-43.csv')\n",
        "df79 = pd.read_csv('./simulation_results/2023-08-08_09-59-02.csv')\n",
        "df80 = pd.read_csv('./simulation_results/2023-08-08_19-42-33.csv')\n",
        "df81 = pd.read_csv('./simulation_results/2023-08-09_04-34-06.csv')\n",
        "df82 = pd.read_csv('./simulation_results/2023-08-09_13-22-15.csv')\n",
        "df83 = pd.read_csv('./simulation_results/2023-08-09_22-13-30.csv')\n",
        "df84 = pd.read_csv('./simulation_results/2023-08-10_06-14-52.csv')\n",
        "df85 = pd.read_csv('./simulation_results/2023-08-10_14-23-48.csv')\n",
        "df86 = pd.read_csv('./simulation_results/2023-08-11_01-48-28.csv')\n",
        "# df87 = pd.read_csv('./simulation_results/2023-07-28_22-32-45.csv')\n",
        "# df88 = pd.read_csv('./simulation_results/2023-07-29_08-57-46.csv')\n",
        "# df89 = pd.read_csv('./simulation_results/2023-07-29_19-26-33.csv')\n",
        "# df90 = pd.read_csv('./simulation_results/2023-07-30_05-12-15.csv')"
      ],
      "id": "569670bb-63d3-47bc-b5f4-efd8341d1cc7"
    },
    {
      "cell_type": "code",
      "execution_count": 412,
      "metadata": {},
      "outputs": [],
      "source": [
        "data = pd.concat([df1,df2,df3,df4,df5,df6,df7,df8,df9,df10,df11,df12,df13,df14,df15,df16,df17,df18,df19,df20,df21,df22,df23,df24,df25,df26,df27,df28,df29,df30,\n",
        "                 df31,df32,df33,df34,df35,df36,df37,df38,df39,df40,df41,df42,df43,df44,df45,df46,df47,df48,df49,df50,df51,df52,df53,df54,df55,df56,df57,df58,df59,df60,\n",
        "                 df61,df62,df63,df64,df65,df66,df67,df68,df69,df70,df71,df72,df73,df74,df75,df76,df77,df78,df79,df80,df81,df82,df83,df84,df85,df86],axis=0)"
      ],
      "id": "39840991-f2ac-4b0d-9731-ac1806aa2a11"
    },
    {
      "cell_type": "code",
      "execution_count": 413,
      "metadata": {},
      "outputs": [],
      "source": [
        "data.to_csv('./simulation_results/Real_simulation_reshape/DCRNN_windmillsmall.csv',index=False)"
      ],
      "id": "eefe7348-551d-4a2b-a616-509ba93cdc77"
    },
    {
      "cell_type": "code",
      "execution_count": 414,
      "metadata": {},
      "outputs": [],
      "source": [
        "data = pd.read_csv('./simulation_results/Real_simulation_reshape/DCRNN_windmillsmall.csv')"
      ],
      "id": "99df0ac8-1d85-456f-9a95-176542f5a07c"
    },
    {
      "cell_type": "markdown",
      "metadata": {},
      "source": [
        "## Baseline"
      ],
      "id": "9433d080-5d6b-4ce5-ae56-f8b3dc433a76"
    },
    {
      "cell_type": "code",
      "execution_count": 415,
      "metadata": {},
      "outputs": [],
      "source": [
        "data.query(\"method!='GNAR' and mrate ==0 \").plot.box(backend='plotly',x='mrate',color='method',y='mse',facet_col='lags',height=800)\n"
      ],
      "id": "5d89b7f3-7f7c-4bda-9d9c-4dcbf97c5d40"
    },
    {
      "cell_type": "markdown",
      "metadata": {},
      "source": [
        "## random"
      ],
      "id": "14861f35-89e5-4aaf-8ff3-17947360ca6b"
    },
    {
      "cell_type": "code",
      "execution_count": 416,
      "metadata": {},
      "outputs": [],
      "source": [
        "data.query(\"method!='GNAR' and mtype =='rand' \").plot.box(backend='plotly',x='mrate',color='method',y='mse',facet_col='lags',facet_row='inter_method',height=800)\n"
      ],
      "id": "eaf9121a-7256-46fe-98bb-fa917c423957"
    },
    {
      "cell_type": "markdown",
      "metadata": {},
      "source": [
        "## block"
      ],
      "id": "cc5f4cc5-81dd-4eff-b856-5fdc930088f2"
    },
    {
      "cell_type": "code",
      "execution_count": 417,
      "metadata": {},
      "outputs": [],
      "source": [
        "data.query(\"method!='GNAR' and mtype =='block' \").plot.box(backend='plotly',x='mrate',color='method',y='mse',facet_col='lags',facet_row='inter_method',height=800)\n"
      ],
      "id": "207e5c5c-5348-4ba2-b054-e66d09b52fad"
    },
    {
      "cell_type": "markdown",
      "metadata": {},
      "source": [
        "# Montevideobus"
      ],
      "id": "84378037-1064-4e4b-b4db-2cf57d432ed0"
    },
    {
      "cell_type": "code",
      "execution_count": 370,
      "metadata": {},
      "outputs": [],
      "source": [
        "df1 = pd.read_csv('./simulation_results/2023-06-16_18-45-23.csv') # lags 8\n",
        "df2 = pd.read_csv('./simulation_results/2023-06-16_23-16-24.csv') # lags 8\n",
        "df3 = pd.read_csv('./simulation_results/2023-06-17_02-09-15.csv') # lags 8\n",
        "df4 = pd.read_csv('./simulation_results/2023-06-17_04-41-43.csv') # lags 8\n",
        "df5 = pd.read_csv('./simulation_results/2023-06-17_07-37-37.csv') # lags 8\n",
        "df6 = pd.read_csv('./simulation_results/2023-06-17_10-24-46.csv') # lags 8\n",
        "df7 = pd.read_csv('./simulation_results/2023-06-17_12-33-00.csv') # lags 8\n",
        "df8 = pd.read_csv('./simulation_results/2023-06-17_10-24-46.csv') # lags 8"
      ],
      "id": "8ace0bb1-7587-46ec-ac83-5bc4647c5d0c"
    },
    {
      "cell_type": "code",
      "execution_count": 101,
      "metadata": {},
      "outputs": [],
      "source": [
        "df9 = pd.read_csv('./simulation_results/2023-07-23_01-37-04.csv') # lags 8\n",
        "df10 = pd.read_csv('./simulation_results/2023-07-23_04-24-31.csv') # lags 8\n",
        "df11 = pd.read_csv('./simulation_results/2023-07-23_07-27-13.csv') # lags 8\n",
        "df12 = pd.read_csv('./simulation_results/2023-07-23_10-30-03.csv') # lags 8\n",
        "df13 = pd.read_csv('./simulation_results/2023-07-23_13-28-37.csv') # lags 8\n",
        "df14 = pd.read_csv('./simulation_results/2023-07-23_16-44-13.csv') # lags 8\n",
        "df15 = pd.read_csv('./simulation_results/2023-07-23_19-44-53.csv') # lags 8\n",
        "df16 = pd.read_csv('./simulation_results/2023-07-23_22-50-45.csv') # lags 8\n",
        "df17 = pd.read_csv('./simulation_results/2023-07-24_02-24-01.csv') # lags 8"
      ],
      "id": "8118282a-17b1-4779-9a06-71512a59ee2c"
    },
    {
      "cell_type": "code",
      "execution_count": 102,
      "metadata": {},
      "outputs": [],
      "source": [
        "data = pd.concat([df1,df2,df3,df4,df5,df6,df7,df8,df9,df10,df11,df12,df13,df14,df15,df16,df17],axis=0)"
      ],
      "id": "163ac956-135b-4cf3-ac78-79e8c42aa5af"
    },
    {
      "cell_type": "code",
      "execution_count": 103,
      "metadata": {},
      "outputs": [],
      "source": [
        "data.to_csv('./simulation_results/Real_simulation_reshape/DCRNN_monte.csv',index=False)"
      ],
      "id": "652acd60-7e99-4ae7-aefc-1f4fb20c1b9b"
    },
    {
      "cell_type": "code",
      "execution_count": 104,
      "metadata": {},
      "outputs": [],
      "source": [
        "data = pd.read_csv('./simulation_results/Real_simulation_reshape/DCRNN_monte.csv')"
      ],
      "id": "a1e26f6e-ddcd-47d1-8318-4c35def00683"
    },
    {
      "cell_type": "markdown",
      "metadata": {},
      "source": [
        "## Baseline"
      ],
      "id": "d9982d24-a555-4dba-86ee-ef4d344f19a0"
    },
    {
      "cell_type": "code",
      "execution_count": 105,
      "metadata": {},
      "outputs": [],
      "source": [
        "data.query(\"mrate==0 and method!='GNAR'\").plot.box(backend='plotly',x='mrate',color='method',y='mse',facet_col='lags',facet_row='nof_filters',height=600)"
      ],
      "id": "daa4c888-e501-4cbc-b649-b4b4be5af8f0"
    },
    {
      "cell_type": "markdown",
      "metadata": {},
      "source": [
        "## random"
      ],
      "id": "8766e7f8-54b8-4177-9ca5-bb1ed6ed7f45"
    },
    {
      "cell_type": "code",
      "execution_count": 106,
      "metadata": {},
      "outputs": [],
      "source": [
        "data.query(\"mtype=='rand' and mrate !=0 and method!='GNAR'\").plot.box(backend='plotly',x='mrate',color='method',y='mse',facet_col='lags',facet_row='inter_method',height=800)\n"
      ],
      "id": "7865d648-2286-40fa-9896-a4b0959b0419"
    },
    {
      "cell_type": "markdown",
      "metadata": {},
      "source": [
        "## block"
      ],
      "id": "9fdcc70b-9233-4fce-a95a-d9eae5621350"
    },
    {
      "cell_type": "code",
      "execution_count": 107,
      "metadata": {},
      "outputs": [],
      "source": [
        "data.query(\"mtype=='block' and method!='GNAR'\").plot.box(backend='plotly',x='mrate',color='method',y='mse',facet_col='lags',facet_row='nof_filters',height=1200)\n"
      ],
      "id": "4e8503ee-357d-4c16-9069-b8339cd178c7"
    }
  ],
  "nbformat": 4,
  "nbformat_minor": 5,
  "metadata": {
    "kernelspec": {
      "name": "python3",
      "display_name": "Python 3",
      "language": "python"
    },
    "language_info": {
      "name": "python",
      "codemirror_mode": {
        "name": "ipython",
        "version": "3"
      },
      "file_extension": ".py",
      "mimetype": "text/x-python",
      "nbconvert_exporter": "python",
      "pygments_lexer": "ipython3",
      "version": "3.8.0"
    }
  }
}
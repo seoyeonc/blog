{
  "cells": [
    {
      "cell_type": "markdown",
      "metadata": {},
      "source": [
        "# 2nd ST-GCN Example dividing train and test\n",
        "\n",
        "SEOYEON CHOI  \n",
        "1/17/23\n",
        "\n",
        "> Try to divide train and test(ST-GCN WikiMathsDatasetLoader)\n",
        "\n",
        "# import"
      ],
      "id": "96d983e6-dccf-4673-8be9-ce4f1c5e9418"
    },
    {
      "cell_type": "code",
      "execution_count": 1,
      "metadata": {},
      "outputs": [],
      "source": [
        "import rpy2\n",
        "import rpy2.robjects as ro \n",
        "from rpy2.robjects.vectors import FloatVector \n",
        "from rpy2.robjects.packages import importr\n",
        "\n",
        "import torch\n",
        "import numpy as np\n",
        "from tqdm import tqdm\n",
        "\n",
        "import torch.nn.functional as F\n",
        "from torch_geometric_temporal.nn.recurrent import GConvGRU\n",
        "\n",
        "import matplotlib.pyplot as plt\n",
        "import pandas as pd\n",
        "\n",
        "import time\n",
        "\n",
        "from scipy.interpolate import interp1d"
      ],
      "id": "95d26e8a-1b05-45fb-88e8-864e21104465"
    },
    {
      "cell_type": "code",
      "execution_count": 2,
      "metadata": {},
      "outputs": [],
      "source": [
        "class RecurrentGCN(torch.nn.Module):\n",
        "    def __init__(self, node_features, filters):\n",
        "        super(RecurrentGCN, self).__init__()\n",
        "        self.recurrent = GConvGRU(node_features, filters, 2)\n",
        "        self.linear = torch.nn.Linear(filters, 1)\n",
        "\n",
        "    def forward(self, x, edge_index, edge_weight):\n",
        "        h = self.recurrent(x, edge_index, edge_weight)\n",
        "        h = F.relu(h)\n",
        "        h = self.linear(h)\n",
        "        return h"
      ],
      "id": "4b085e63-eb87-4b7e-bd53-5d66e59fabd6"
    },
    {
      "cell_type": "markdown",
      "metadata": {},
      "source": [
        "# Data"
      ],
      "id": "636c121a-fe22-4914-bcef-377d96d12356"
    },
    {
      "cell_type": "code",
      "execution_count": 110,
      "metadata": {},
      "outputs": [],
      "source": [
        "from torch_geometric_temporal.dataset import WikiMathsDatasetLoader\n",
        "from torch_geometric_temporal.signal import temporal_signal_split"
      ],
      "id": "34c53139-ef08-44f6-941e-9a385be0e143"
    },
    {
      "cell_type": "code",
      "execution_count": 111,
      "metadata": {},
      "outputs": [],
      "source": [
        "loader = WikiMathsDatasetLoader()"
      ],
      "id": "bf5a5a97-485d-408e-871a-65b3486500f2"
    },
    {
      "cell_type": "code",
      "execution_count": 112,
      "metadata": {},
      "outputs": [],
      "source": [
        "dataset = loader.get_dataset(lags=1)"
      ],
      "id": "6adc8924-87f4-4f78-badc-0cc7069f3d2b"
    },
    {
      "cell_type": "code",
      "execution_count": 113,
      "metadata": {},
      "outputs": [],
      "source": [
        "train_dataset, test_dataset = temporal_signal_split(dataset, train_ratio=0.8)"
      ],
      "id": "38966641-c1f4-4935-b1ce-2e440a21f6bd"
    },
    {
      "cell_type": "markdown",
      "metadata": {},
      "source": [
        "## Train"
      ],
      "id": "0424b40c-1e9f-4796-934b-193478f88bfe"
    },
    {
      "cell_type": "code",
      "execution_count": 114,
      "metadata": {},
      "outputs": [],
      "source": [
        "data_train=[]\n",
        "for time, snapshot in enumerate(train_dataset):\n",
        "    data_train.append([time,snapshot])"
      ],
      "id": "a08f78c2-1633-4210-94c1-de8d06596474"
    },
    {
      "cell_type": "code",
      "execution_count": 115,
      "metadata": {},
      "outputs": [],
      "source": [
        "data_train[0][1].x.shape,data_train[0][1].y.shape,data_train[0][1].edge_index.shape,data_train[0][1].edge_attr.shape"
      ],
      "id": "89c1e4ec-3a6a-425b-aceb-b699a2add8fa"
    },
    {
      "cell_type": "code",
      "execution_count": 116,
      "metadata": {},
      "outputs": [],
      "source": [
        "time"
      ],
      "id": "e53093aa-4a20-4b64-aa3d-dc5f407b91d0"
    },
    {
      "cell_type": "code",
      "execution_count": 117,
      "metadata": {},
      "outputs": [],
      "source": [
        "T_train = time\n",
        "N = len(data[0][1].x)"
      ],
      "id": "b6accb83-c811-4df8-b6e3-4fbfacf2bb21"
    },
    {
      "cell_type": "code",
      "execution_count": 118,
      "metadata": {},
      "outputs": [],
      "source": [
        "edge_index = data_train[0][1].edge_index\n",
        "edge_attr = data_train[0][1].edge_attr"
      ],
      "id": "81e1c735-f0ee-4d30-a1cb-f898181207f9"
    },
    {
      "cell_type": "code",
      "execution_count": 119,
      "metadata": {},
      "outputs": [],
      "source": [
        "x_train = []\n",
        "for i in range(time):\n",
        "    x_train.append(data_train[i][1].x)"
      ],
      "id": "a6007926-d642-455c-b600-e74e31358495"
    },
    {
      "cell_type": "code",
      "execution_count": 120,
      "metadata": {},
      "outputs": [],
      "source": [
        "data_tensor = torch.Tensor()\n",
        "# Iterate over the data points of the dataset\n",
        "for i in x_train:\n",
        "    # Concatenate the data point to the tensor\n",
        "    data_tensor = torch.cat((data_tensor, i), dim=0)\n",
        "x_train = data_tensor.reshape(time,1068,-1)\n",
        "x_train.shape"
      ],
      "id": "655b5cc4-adda-44fe-a3a4-1b64ce3a14e4"
    },
    {
      "cell_type": "code",
      "execution_count": 121,
      "metadata": {},
      "outputs": [],
      "source": [
        "y_train = []\n",
        "for i in range(time):\n",
        "    y_train.append(data_train[i][1].y)"
      ],
      "id": "d090525d-8cc8-44fe-9151-394cbf642b10"
    },
    {
      "cell_type": "code",
      "execution_count": 122,
      "metadata": {},
      "outputs": [],
      "source": [
        "data_tensor = torch.Tensor()\n",
        "# Iterate over the data points of the dataset\n",
        "for i in y_train:\n",
        "    # Concatenate the data point to the tensor\n",
        "    data_tensor = torch.cat((data_tensor, i), dim=0)\n",
        "y_train = data_tensor.reshape(time,1068)\n",
        "y_train.shape"
      ],
      "id": "072e2357-fc15-4c96-bdc5-d2d24014531e"
    },
    {
      "cell_type": "code",
      "execution_count": 123,
      "metadata": {},
      "outputs": [],
      "source": [
        "x_train.shape, y_train.shape"
      ],
      "id": "89ae6715-0a65-4662-8f1c-edaf1faa4e77"
    },
    {
      "cell_type": "markdown",
      "metadata": {},
      "source": [
        "## Test"
      ],
      "id": "4634b922-1105-40d4-9218-b7b24ff76ee0"
    },
    {
      "cell_type": "code",
      "execution_count": 124,
      "metadata": {},
      "outputs": [],
      "source": [
        "data_test=[]\n",
        "for time, snapshot in enumerate(test_dataset):\n",
        "    data_test.append([time,snapshot])"
      ],
      "id": "03947c15-7fda-494a-9a23-fc5173c0e585"
    },
    {
      "cell_type": "code",
      "execution_count": 125,
      "metadata": {},
      "outputs": [],
      "source": [
        "data_test[0][1].x.shape,data_test[0][1].y.shape,data_test[0][1].edge_index.shape,data_test[0][1].edge_attr.shape"
      ],
      "id": "42346fa4-055f-4063-9bee-adac52119e2b"
    },
    {
      "cell_type": "code",
      "execution_count": 126,
      "metadata": {},
      "outputs": [],
      "source": [
        "time"
      ],
      "id": "3c5f6841-b377-45f7-9879-d79a8f8cdc07"
    },
    {
      "cell_type": "code",
      "execution_count": 127,
      "metadata": {},
      "outputs": [],
      "source": [
        "T_test = time"
      ],
      "id": "74ac01d7-bd5e-4e16-91d2-ff87a15e007b"
    },
    {
      "cell_type": "code",
      "execution_count": 128,
      "metadata": {},
      "outputs": [],
      "source": [
        "x_test = []\n",
        "for i in range(time):\n",
        "    x_test.append(data_test[i][1].x)"
      ],
      "id": "5b674b8b-fe2f-49ec-8afe-5ddbaed62d13"
    },
    {
      "cell_type": "code",
      "execution_count": 129,
      "metadata": {},
      "outputs": [],
      "source": [
        "data_tensor = torch.Tensor()\n",
        "# Iterate over the data points of the dataset\n",
        "for i in x_test:\n",
        "    # Concatenate the data point to the tensor\n",
        "    data_tensor = torch.cat((data_tensor, i), dim=0)\n",
        "x_test = data_tensor.reshape(time,1068,-1)\n",
        "x_test.shape"
      ],
      "id": "cde6a58a-c445-4461-ae73-37b4f6f56d06"
    },
    {
      "cell_type": "code",
      "execution_count": 130,
      "metadata": {},
      "outputs": [],
      "source": [
        "y_test = []\n",
        "for i in range(time):\n",
        "    y_test.append(data_test[i][1].y)"
      ],
      "id": "278f2ae2-5219-4cdb-ba37-64ddb06345f7"
    },
    {
      "cell_type": "code",
      "execution_count": 131,
      "metadata": {},
      "outputs": [],
      "source": [
        "data_tensor = torch.Tensor()\n",
        "# Iterate over the data points of the dataset\n",
        "for i in y_test:\n",
        "    # Concatenate the data point to the tensor\n",
        "    data_tensor = torch.cat((data_tensor, i), dim=0)\n",
        "y_test = data_tensor.reshape(time,1068)\n",
        "y_test.shape"
      ],
      "id": "7ace0731-e308-4d7d-8164-aeea2bc1e6ee"
    },
    {
      "cell_type": "code",
      "execution_count": 132,
      "metadata": {},
      "outputs": [],
      "source": [
        "x_test.shape, y_test.shape"
      ],
      "id": "e7cba773-9436-4185-b765-6e97716145bc"
    },
    {
      "cell_type": "markdown",
      "metadata": {},
      "source": [
        "# Randomly Missing Values"
      ],
      "id": "132c5865-a3b1-44cc-a38a-48b4cdfd2af2"
    },
    {
      "cell_type": "code",
      "execution_count": 189,
      "metadata": {},
      "outputs": [],
      "source": [
        "x_train = x_train.reshape(-1,N)"
      ],
      "id": "34be7465-f9fa-4edc-a68f-c809216ca6fa"
    },
    {
      "cell_type": "code",
      "execution_count": 190,
      "metadata": {},
      "outputs": [],
      "source": [
        "np.random.seed(90)\n",
        "seed_number = np.random.choice(len(x_train),290,replace=False)"
      ],
      "id": "fedf9190-29be-44e4-b4c7-ec94c9e8a3df"
    },
    {
      "cell_type": "code",
      "execution_count": 191,
      "metadata": {},
      "outputs": [],
      "source": [
        "x_train[seed_number] = float('nan')"
      ],
      "id": "d1f52c7e-1fd0-424a-b6a2-c703dc396372"
    },
    {
      "cell_type": "markdown",
      "metadata": {},
      "source": [
        "# 1) Missing Value - Mean"
      ],
      "id": "f61efba4-81ce-4957-9f5c-d239d35af165"
    },
    {
      "cell_type": "code",
      "execution_count": 136,
      "metadata": {},
      "outputs": [],
      "source": [
        "x_train_mean = x_train.clone()"
      ],
      "id": "f743f0e7-28b6-4464-8182-e21031017362"
    },
    {
      "cell_type": "code",
      "execution_count": 140,
      "metadata": {},
      "outputs": [],
      "source": [
        "df = pd.DataFrame(x_train_mean.tolist())\n",
        "mean_value = df.mean() # finds the mean value of the column A\n",
        "df = df.fillna(mean_value) # replace missing values with the mean value"
      ],
      "id": "e55d3da0-e8ef-4bd9-8ec3-bd961af6a5ad"
    },
    {
      "cell_type": "code",
      "execution_count": 143,
      "metadata": {},
      "outputs": [],
      "source": [
        "x_train_mean = torch.Tensor(df.values)"
      ],
      "id": "daba2c86-57a3-4d8e-8f3f-164046ca747f"
    },
    {
      "cell_type": "markdown",
      "metadata": {},
      "source": [
        "## ST-GCN"
      ],
      "id": "2321381e-f7cd-41f4-9611-bb9eec58a304"
    },
    {
      "cell_type": "code",
      "execution_count": 146,
      "metadata": {},
      "outputs": [],
      "source": [
        "mean_f_train = x_train_mean.reshape(T_train,N,1).float()"
      ],
      "id": "ddbd6e5b-b308-40ba-ad8e-d198f821d97b"
    },
    {
      "cell_type": "code",
      "execution_count": 169,
      "metadata": {},
      "outputs": [],
      "source": [
        "mean_X = mean_f_train[:438,:,:]\n",
        "mean_y = mean_f_train[145:,:,:]"
      ],
      "id": "93992f94-4bd7-44d4-95bc-550f81669b91"
    },
    {
      "cell_type": "code",
      "execution_count": 170,
      "metadata": {},
      "outputs": [],
      "source": [
        "mean_X.shape,mean_y.shape"
      ],
      "id": "7cbdd5c4-24e6-4956-b49d-4119a2a6176d"
    },
    {
      "cell_type": "code",
      "execution_count": 153,
      "metadata": {},
      "outputs": [
        {
          "output_type": "stream",
          "name": "stderr",
          "text": [
            "100%|██████████| 50/50 [04:17<00:00,  5.15s/it]"
          ]
        }
      ],
      "source": [
        "model = RecurrentGCN(node_features=1, filters=4)\n",
        "\n",
        "optimizer = torch.optim.Adam(model.parameters(), lr=0.01)\n",
        "\n",
        "model.train()\n",
        "\n",
        "for epoch in tqdm(range(50)):\n",
        "    for time, (xt,yt) in enumerate(zip(mean_X,mean_y)):\n",
        "        y_hat = model(xt, edge_index, edge_attr)\n",
        "        cost = torch.mean((y_hat-yt)**2)\n",
        "        cost.backward()\n",
        "        optimizer.step()\n",
        "        optimizer.zero_grad()"
      ],
      "id": "844ec0c0-1685-49c0-937d-76c7a70aa583"
    },
    {
      "cell_type": "code",
      "execution_count": 210,
      "metadata": {},
      "outputs": [],
      "source": [
        "mean_X_fore = mean_f_train[438:,:]"
      ],
      "id": "401bec35-b9b9-4ac6-8ef2-cd9e1e9e6943"
    },
    {
      "cell_type": "code",
      "execution_count": 212,
      "metadata": {},
      "outputs": [],
      "source": [
        "mean_fhat = torch.stack([model(xt, edge_index, edge_attr) for xt in mean_X_fore]).detach().numpy()"
      ],
      "id": "cb46c9ed-634e-4b7f-88dd-59528a9dda18"
    },
    {
      "cell_type": "code",
      "execution_count": 213,
      "metadata": {},
      "outputs": [],
      "source": [
        "mean_X_fore.shape,x_test.shape"
      ],
      "id": "c4ec58c5-17b4-49e6-81b9-662684163f08"
    },
    {
      "cell_type": "markdown",
      "metadata": {},
      "source": [
        "# 2) Missing Value - Linear Interpolation"
      ],
      "id": "4d8e50b1-ec33-4fe4-8db5-d674c923a8b1"
    },
    {
      "cell_type": "code",
      "execution_count": 192,
      "metadata": {},
      "outputs": [],
      "source": [
        "df = pd.DataFrame(x_train.tolist())\n",
        "df.interpolate(method='linear', inplace=True)\n",
        "df = df.fillna(0)"
      ],
      "id": "c71b3bf6-42ed-4096-9b2d-ca3e7c5c0347"
    },
    {
      "cell_type": "code",
      "execution_count": 196,
      "metadata": {},
      "outputs": [],
      "source": [
        "x_train_linear = torch.Tensor(df.values).reshape(T_train,N,1)"
      ],
      "id": "fffbb634-b174-4140-b654-a76c739131fc"
    },
    {
      "cell_type": "markdown",
      "metadata": {},
      "source": [
        "## ST-GCN"
      ],
      "id": "e5ebf9dc-24c0-4d28-ad8d-e3d91fff8ecb"
    },
    {
      "cell_type": "code",
      "execution_count": 197,
      "metadata": {},
      "outputs": [],
      "source": [
        "linear_f_train = x_train_linear.clone()"
      ],
      "id": "9e5dd39a-2829-4c8b-96d1-057401c57752"
    },
    {
      "cell_type": "code",
      "execution_count": 199,
      "metadata": {},
      "outputs": [],
      "source": [
        "linear_X = linear_f_train[:438,:,:]\n",
        "linear_y = linear_f_train[145:,:,:]"
      ],
      "id": "5d562beb-4295-4c53-a42c-04397b0eb494"
    },
    {
      "cell_type": "code",
      "execution_count": 200,
      "metadata": {},
      "outputs": [
        {
          "output_type": "stream",
          "name": "stderr",
          "text": [
            "100%|██████████| 50/50 [04:20<00:00,  5.22s/it]"
          ]
        }
      ],
      "source": [
        "model = RecurrentGCN(node_features=1, filters=4)\n",
        "\n",
        "optimizer = torch.optim.Adam(model.parameters(), lr=0.01)\n",
        "\n",
        "model.train()\n",
        "\n",
        "for epoch in tqdm(range(50)):\n",
        "    for time, (xt,yt) in enumerate(zip(linear_X,linear_y)):\n",
        "        y_hat = model(xt, edge_index, edge_attr)\n",
        "        cost = torch.mean((y_hat-yt)**2)\n",
        "        cost.backward()\n",
        "        optimizer.step()\n",
        "        optimizer.zero_grad()"
      ],
      "id": "cb6ce1c9-6da5-48a7-a595-bd16fdcf5928"
    },
    {
      "cell_type": "code",
      "execution_count": 237,
      "metadata": {},
      "outputs": [],
      "source": [
        "linear_X_fore = linear_f_train[438:,:]"
      ],
      "id": "3671fdfe-2927-4606-8293-e415d4daa7ac"
    },
    {
      "cell_type": "code",
      "execution_count": 238,
      "metadata": {},
      "outputs": [],
      "source": [
        "linear_X_fore.shape"
      ],
      "id": "13a2bcb2-4a3b-457e-b129-a85571fc3b32"
    },
    {
      "cell_type": "code",
      "execution_count": 239,
      "metadata": {},
      "outputs": [],
      "source": [
        "linear_fhat = torch.stack([model(xt, edge_index, edge_attr) for xt in linear_X_fore]).detach().numpy()"
      ],
      "id": "446cbc5a-9d11-4888-9e9f-62b1f2fe310b"
    },
    {
      "cell_type": "code",
      "execution_count": 240,
      "metadata": {},
      "outputs": [],
      "source": [
        "linear_X_fore.shape,x_test.shape"
      ],
      "id": "1cd76588-3cc0-4157-aa0b-7d576fff643e"
    },
    {
      "cell_type": "markdown",
      "metadata": {},
      "source": [
        "# Comparison\n",
        "\n",
        "MSE"
      ],
      "id": "0cff8617-d8ac-4bc6-acc5-52ce59845e35"
    },
    {
      "cell_type": "code",
      "execution_count": 235,
      "metadata": {},
      "outputs": [],
      "source": [
        "((pd.DataFrame(mean_fhat.reshape(T_test,N)) -  pd.DataFrame(x_test.reshape(T_test,N)))**2).mean()"
      ],
      "id": "0bdcdb05-bd50-4731-9ba5-b48951b5289f"
    },
    {
      "cell_type": "code",
      "execution_count": 241,
      "metadata": {},
      "outputs": [],
      "source": [
        "((pd.DataFrame(linear_fhat.reshape(T_test,N)) -  pd.DataFrame(x_test.reshape(T_test,N)))**2).mean()"
      ],
      "id": "3774de6b-839d-41ce-a659-c1abda5b1ce0"
    }
  ],
  "nbformat": 4,
  "nbformat_minor": 5,
  "metadata": {
    "kernelspec": {
      "name": "python3",
      "display_name": "Python 3 (ipykernel)",
      "language": "python"
    },
    "language_info": {
      "name": "python",
      "codemirror_mode": {
        "name": "ipython",
        "version": "3"
      },
      "file_extension": ".py",
      "mimetype": "text/x-python",
      "nbconvert_exporter": "python",
      "pygments_lexer": "ipython3",
      "version": "3.8.12"
    }
  }
}
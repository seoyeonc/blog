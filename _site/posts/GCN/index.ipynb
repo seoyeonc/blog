{
  "cells": [
    {
      "cell_type": "markdown",
      "metadata": {},
      "source": [
        "# GCN\n",
        "\n",
        "SEOYEON CHOI  \n",
        "2022-12-05\n",
        "\n",
        "About GCN Study"
      ],
      "id": "13fa9bd9-6495-403e-90f8-b6fc7c6ece78"
    }
  ],
  "nbformat": 4,
  "nbformat_minor": 5,
  "metadata": {
    "kernelspec": {
      "display_name": "Python 3",
      "language": "python",
      "name": "python3"
    }
  }
}
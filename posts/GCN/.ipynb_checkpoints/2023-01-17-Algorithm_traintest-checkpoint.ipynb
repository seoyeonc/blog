{
 "cells": [
  {
   "cell_type": "raw",
   "id": "7332526f-9bd3-47f8-b721-6180f1986ae1",
   "metadata": {
    "id": "cac470df-29e7-4148-9bbd-d8b9a32fa570",
    "tags": []
   },
   "source": [
    "---\n",
    "title: \"1st ST-GCN Example dividing train and test\"\n",
    "author: \"SEOYEON CHOI\"\n",
    "date: \"2023-01-17\"\n",
    "categories:\n",
    "  - ST-GCN\n",
    "---"
   ]
  },
  {
   "cell_type": "markdown",
   "id": "915b6d18-9ab7-48f0-9a7e-63bb8af98a45",
   "metadata": {},
   "source": [
    "> Try to divide train and test(GNAR fivenet)"
   ]
  },
  {
   "cell_type": "markdown",
   "id": "bf913a43-cf86-47d2-bdf3-ae880e1c61df",
   "metadata": {
    "tags": []
   },
   "source": [
    "# import"
   ]
  },
  {
   "cell_type": "code",
   "execution_count": 1,
   "id": "2b820011-2a41-4156-a3b8-158a2f763a7c",
   "metadata": {},
   "outputs": [],
   "source": [
    "import rpy2\n",
    "import rpy2.robjects as ro \n",
    "from rpy2.robjects.vectors import FloatVector \n",
    "from rpy2.robjects.packages import importr\n",
    "\n",
    "import torch\n",
    "import numpy as np\n",
    "from tqdm import tqdm\n",
    "\n",
    "import torch.nn.functional as F\n",
    "from torch_geometric_temporal.nn.recurrent import GConvGRU\n",
    "\n",
    "import matplotlib.pyplot as plt\n",
    "import pandas as pd\n",
    "\n",
    "import time\n",
    "\n",
    "from scipy.interpolate import interp1d"
   ]
  },
  {
   "cell_type": "code",
   "execution_count": 2,
   "id": "2b9bf384-3729-49ee-82a0-82469aa25554",
   "metadata": {},
   "outputs": [],
   "source": [
    "class RecurrentGCN(torch.nn.Module):\n",
    "    def __init__(self, node_features, filters):\n",
    "        super(RecurrentGCN, self).__init__()\n",
    "        self.recurrent = GConvGRU(node_features, filters, 2)\n",
    "        self.linear = torch.nn.Linear(filters, 1)\n",
    "\n",
    "    def forward(self, x, edge_index, edge_weight):\n",
    "        h = self.recurrent(x, edge_index, edge_weight)\n",
    "        h = F.relu(h)\n",
    "        h = self.linear(h)\n",
    "        return h"
   ]
  },
  {
   "cell_type": "markdown",
   "id": "b980f72a-138e-4faf-965f-8f7268256681",
   "metadata": {},
   "source": [
    "# R"
   ]
  },
  {
   "cell_type": "code",
   "execution_count": 3,
   "id": "590ee4c5-6ada-4cca-9985-30b9f32a38b6",
   "metadata": {},
   "outputs": [],
   "source": [
    "%load_ext rpy2.ipython"
   ]
  },
  {
   "cell_type": "code",
   "execution_count": 101,
   "id": "927294dc-892e-41ed-afc4-7d4bd7802528",
   "metadata": {},
   "outputs": [],
   "source": [
    "%%R\n",
    "library(GNAR)\n",
    "library(igraph)"
   ]
  },
  {
   "cell_type": "markdown",
   "id": "8bb1c0a6-042c-4f96-b181-8d8a26585b00",
   "metadata": {},
   "source": [
    "# Data"
   ]
  },
  {
   "cell_type": "code",
   "execution_count": 8,
   "id": "77ce1261-4347-4281-8a9c-e3b63f3043e7",
   "metadata": {},
   "outputs": [
    {
     "name": "stdout",
     "output_type": "stream",
     "text": [
      "GNARnet with 5 nodes and 10 edges\n",
      " of equal length  1"
     ]
    }
   ],
   "source": [
    "%%R\n",
    "summary(fiveNet)"
   ]
  },
  {
   "cell_type": "code",
   "execution_count": 9,
   "id": "f53e1ad9-46f5-486a-8298-201c0800ab89",
   "metadata": {},
   "outputs": [],
   "source": [
    "%%R\n",
    "edges <- as.matrix(fiveNet)\n",
    "data(\"fiveNode\")"
   ]
  },
  {
   "cell_type": "code",
   "execution_count": 10,
   "id": "50256c64-4865-4431-8248-2eb16e9026e8",
   "metadata": {},
   "outputs": [],
   "source": [
    "%R -o fiveVTS\n",
    "%R -o edges"
   ]
  },
  {
   "cell_type": "markdown",
   "id": "329902a3-1538-4b1a-9d33-17ec2a6aacba",
   "metadata": {},
   "source": [
    "- node: 5\n",
    "- time 200"
   ]
  },
  {
   "cell_type": "code",
   "execution_count": 11,
   "id": "6d425e07-5761-431c-8dbb-afb045dc17b8",
   "metadata": {},
   "outputs": [],
   "source": [
    "edges_tensor = torch.tensor(edges)"
   ]
  },
  {
   "cell_type": "code",
   "execution_count": 12,
   "id": "ee0143e8-9738-4f86-8633-988dd0ec035b",
   "metadata": {},
   "outputs": [],
   "source": [
    "nonzero_indices = edges_tensor.nonzero()"
   ]
  },
  {
   "cell_type": "code",
   "execution_count": 13,
   "id": "943d6ba8-4974-488f-8ea7-1d53d86b3e51",
   "metadata": {},
   "outputs": [],
   "source": [
    "fiveNet_edge = np.array(nonzero_indices).T"
   ]
  },
  {
   "cell_type": "code",
   "execution_count": 14,
   "id": "ed83942b-538f-402c-9ab1-cc4bd173147b",
   "metadata": {},
   "outputs": [],
   "source": [
    "T = 200\n",
    "N = 5 # number of Nodes\n",
    "E = fiveNet_edge\n",
    "V = np.array([1,2,3,4,5])\n",
    "t = np.arange(0,T)\n",
    "node_features = 1"
   ]
  },
  {
   "cell_type": "code",
   "execution_count": 15,
   "id": "8964a107-ccff-4284-af34-ed396d2245e6",
   "metadata": {},
   "outputs": [],
   "source": [
    "edge_index = torch.tensor(E)\n",
    "edge_attr = torch.tensor(np.array([1,1,1,1,1,1,1,1,1,1]),dtype=torch.float32)"
   ]
  },
  {
   "cell_type": "code",
   "execution_count": 16,
   "id": "1dcaa54a-6337-4c04-b838-b0e530a2aaca",
   "metadata": {},
   "outputs": [
    {
     "data": {
      "text/plain": [
       "(200, 5)"
      ]
     },
     "execution_count": 16,
     "metadata": {},
     "output_type": "execute_result"
    }
   ],
   "source": [
    "fiveVTS.shape"
   ]
  },
  {
   "cell_type": "code",
   "execution_count": 17,
   "id": "1a75afdb-a2b8-436a-96f4-8a38f4869f88",
   "metadata": {},
   "outputs": [],
   "source": [
    "fiveVTS_train = fiveVTS[:int(len(fiveVTS)*0.8)]\n",
    "fiveVTS_test = fiveVTS[int(len(fiveVTS)*0.8):]"
   ]
  },
  {
   "cell_type": "code",
   "execution_count": 18,
   "id": "bb58ee0f-c479-4e80-b243-0acd71d5c440",
   "metadata": {},
   "outputs": [
    {
     "data": {
      "text/plain": [
       "((160, 5), (40, 5))"
      ]
     },
     "execution_count": 18,
     "metadata": {},
     "output_type": "execute_result"
    }
   ],
   "source": [
    "fiveVTS_train.shape, fiveVTS_test.shape"
   ]
  },
  {
   "cell_type": "markdown",
   "id": "760e50ec-1b57-45be-9a33-11e04fe61ef1",
   "metadata": {},
   "source": [
    "# Randomly Missing Values"
   ]
  },
  {
   "cell_type": "code",
   "execution_count": 19,
   "id": "a71eac6b-8fdb-4c60-8257-e7bdbf9d1eb9",
   "metadata": {},
   "outputs": [],
   "source": [
    "np.random.seed(1)\n",
    "seed_number1 = np.random.choice(160,80,replace=False)"
   ]
  },
  {
   "cell_type": "code",
   "execution_count": 20,
   "id": "21b4211d-ac99-44cc-b9ca-3aa7556af074",
   "metadata": {},
   "outputs": [],
   "source": [
    "np.random.seed(3)\n",
    "seed_number2 = np.random.choice(160,80,replace=False)"
   ]
  },
  {
   "cell_type": "code",
   "execution_count": 21,
   "id": "1f5c328e-8d4f-48cb-b80f-ef542bcd5b8c",
   "metadata": {},
   "outputs": [],
   "source": [
    "np.random.seed(5)\n",
    "seed_number3 = np.random.choice(160,80,replace=False)"
   ]
  },
  {
   "cell_type": "code",
   "execution_count": 22,
   "id": "897c5959-a8c1-4197-b6ce-7a69a3377424",
   "metadata": {},
   "outputs": [],
   "source": [
    "np.random.seed(7)\n",
    "seed_number4 = np.random.choice(160,80,replace=False)"
   ]
  },
  {
   "cell_type": "code",
   "execution_count": 23,
   "id": "89382a4a-99f4-49c6-9ed3-f2826ff85a2e",
   "metadata": {},
   "outputs": [],
   "source": [
    "np.random.seed(9)\n",
    "seed_number5 = np.random.choice(160,80,replace=False)"
   ]
  },
  {
   "cell_type": "code",
   "execution_count": 24,
   "id": "d13b08c6-8330-4da6-acef-381d7004fed3",
   "metadata": {},
   "outputs": [],
   "source": [
    "fiveVTS_train[seed_number1,0] = float('nan')"
   ]
  },
  {
   "cell_type": "code",
   "execution_count": 25,
   "id": "983efa4a-c0e7-483f-baad-2534ae514070",
   "metadata": {},
   "outputs": [],
   "source": [
    "fiveVTS_train[seed_number2,1] = float('nan')"
   ]
  },
  {
   "cell_type": "code",
   "execution_count": 26,
   "id": "a7d36b7f-8975-40a6-ad4b-7c6004662292",
   "metadata": {},
   "outputs": [],
   "source": [
    "fiveVTS_train[seed_number3,2] = float('nan')"
   ]
  },
  {
   "cell_type": "code",
   "execution_count": 27,
   "id": "7abc2e1d-fbf5-4e8e-ab47-a499611bfa43",
   "metadata": {},
   "outputs": [],
   "source": [
    "fiveVTS_train[seed_number4,3] = float('nan')"
   ]
  },
  {
   "cell_type": "code",
   "execution_count": 28,
   "id": "011f2b37-df5e-46b2-9b77-57b0397cee0d",
   "metadata": {},
   "outputs": [],
   "source": [
    "fiveVTS_train[seed_number5,4] = float('nan')"
   ]
  },
  {
   "cell_type": "markdown",
   "id": "3c14500c-0428-4396-87da-7d03ab108c0a",
   "metadata": {},
   "source": [
    "# 1) Missing Value - Mean"
   ]
  },
  {
   "cell_type": "code",
   "execution_count": 29,
   "id": "44f2daa8-18bb-4e04-9b77-2ed6ac1128a6",
   "metadata": {},
   "outputs": [],
   "source": [
    "fiveVTS_train_mean = fiveVTS_train.copy()"
   ]
  },
  {
   "cell_type": "code",
   "execution_count": 30,
   "id": "b4882817-056b-4715-93df-1442b976516b",
   "metadata": {},
   "outputs": [],
   "source": [
    "fiveVTS_train_mean[seed_number1,0] = np.nanmean(fiveVTS_train_mean[:,0])"
   ]
  },
  {
   "cell_type": "code",
   "execution_count": 31,
   "id": "6dde1073-00bf-4367-9937-e4abaee32e01",
   "metadata": {},
   "outputs": [],
   "source": [
    "fiveVTS_train_mean[seed_number2,1] = np.nanmean(fiveVTS_train_mean[:,1])"
   ]
  },
  {
   "cell_type": "code",
   "execution_count": 32,
   "id": "fecea7f3-92c4-41b2-aa85-048db083d5ac",
   "metadata": {},
   "outputs": [],
   "source": [
    "fiveVTS_train_mean[seed_number3,2] = np.nanmean(fiveVTS_train_mean[:,2])"
   ]
  },
  {
   "cell_type": "code",
   "execution_count": 33,
   "id": "6252cd96-31f1-4b81-a72d-b9080c2108a5",
   "metadata": {},
   "outputs": [],
   "source": [
    "fiveVTS_train_mean[seed_number4,3] = np.nanmean(fiveVTS_train_mean[:,3])"
   ]
  },
  {
   "cell_type": "code",
   "execution_count": 34,
   "id": "ea4cf3f6-4807-4692-9fa6-8b776f31d786",
   "metadata": {},
   "outputs": [],
   "source": [
    "fiveVTS_train_mean[seed_number5,4] = np.nanmean(fiveVTS_train_mean[:,4])"
   ]
  },
  {
   "cell_type": "markdown",
   "id": "1f9a63dc-dec3-49ac-8b71-c5fa34a09fb0",
   "metadata": {},
   "source": [
    "## ST-GCN"
   ]
  },
  {
   "cell_type": "code",
   "execution_count": 71,
   "id": "b45aa7eb-a2c5-458e-baf4-99f7697464a6",
   "metadata": {},
   "outputs": [],
   "source": [
    "mean_f_fiveVTS_train = torch.tensor(fiveVTS_train_mean).reshape(160,5,1).float()"
   ]
  },
  {
   "cell_type": "code",
   "execution_count": 72,
   "id": "7a0f21d9-b9a0-438f-ae2f-82f4586eb04a",
   "metadata": {},
   "outputs": [],
   "source": [
    "mean_X_fiveVTS = mean_f_fiveVTS_train[:120,:,:]\n",
    "mean_y_fiveVTS = mean_f_fiveVTS_train[40:,:,:]"
   ]
  },
  {
   "cell_type": "code",
   "execution_count": 73,
   "id": "dab6b667-b186-4a4d-bd89-b6889f06f6b4",
   "metadata": {},
   "outputs": [
    {
     "data": {
      "text/plain": [
       "(torch.Size([120, 5, 1]), torch.Size([120, 5, 1]))"
      ]
     },
     "execution_count": 73,
     "metadata": {},
     "output_type": "execute_result"
    }
   ],
   "source": [
    "mean_X_fiveVTS.shape,mean_y_fiveVTS.shape"
   ]
  },
  {
   "cell_type": "code",
   "execution_count": 74,
   "id": "1d685430-2a45-4ecb-9344-187644ad10db",
   "metadata": {},
   "outputs": [
    {
     "name": "stderr",
     "output_type": "stream",
     "text": [
      "100%|██████████| 50/50 [00:20<00:00,  2.48it/s]\n"
     ]
    }
   ],
   "source": [
    "model = RecurrentGCN(node_features=1, filters=4)\n",
    "\n",
    "optimizer = torch.optim.Adam(model.parameters(), lr=0.01)\n",
    "\n",
    "model.train()\n",
    "\n",
    "for epoch in tqdm(range(50)):\n",
    "    for time, (xt,yt) in enumerate(zip(mean_X_fiveVTS,mean_y_fiveVTS)):\n",
    "        y_hat = model(xt, edge_index, edge_attr)\n",
    "        cost = torch.mean((y_hat-yt)**2)\n",
    "        cost.backward()\n",
    "        optimizer.step()\n",
    "        optimizer.zero_grad()"
   ]
  },
  {
   "cell_type": "code",
   "execution_count": 75,
   "id": "660f4fb6-0626-483a-aba9-2ed4c32d6f27",
   "metadata": {},
   "outputs": [],
   "source": [
    "mean_X_fore_fiveVTS = f_fiveVTS_train[120:,:,:]"
   ]
  },
  {
   "cell_type": "code",
   "execution_count": 76,
   "id": "a2ecc5c8-85c2-4c71-a518-904d013fdf78",
   "metadata": {},
   "outputs": [
    {
     "data": {
      "text/plain": [
       "torch.Size([40, 5, 1])"
      ]
     },
     "execution_count": 76,
     "metadata": {},
     "output_type": "execute_result"
    }
   ],
   "source": [
    "mean_X_fore_fiveVTS.shape"
   ]
  },
  {
   "cell_type": "code",
   "execution_count": 77,
   "id": "023e297f-1f69-4713-84ba-2f6b23dd2af1",
   "metadata": {},
   "outputs": [],
   "source": [
    "mean_fhat_fiveVTS = torch.stack([model(xt, edge_index, edge_attr) for xt in mean_X_fore_fiveVTS]).detach().numpy()"
   ]
  },
  {
   "cell_type": "code",
   "execution_count": 79,
   "id": "b20d7707-35d0-4f58-a6b6-9b8da30b1e16",
   "metadata": {},
   "outputs": [
    {
     "data": {
      "text/plain": [
       "((40, 5, 1), (40, 5, 1))"
      ]
     },
     "execution_count": 79,
     "metadata": {},
     "output_type": "execute_result"
    }
   ],
   "source": [
    "mean_fhat_fiveVTS.shape,fiveVTS_test.reshape(40,5,1).shape"
   ]
  },
  {
   "cell_type": "markdown",
   "id": "11faa652-0266-4c64-a4e4-afd93d11375f",
   "metadata": {},
   "source": [
    "# 2) Missing Value - Linear Interpolation"
   ]
  },
  {
   "cell_type": "code",
   "execution_count": 81,
   "id": "27e3ed3f-314b-4320-9cf3-f21ac06f3da4",
   "metadata": {},
   "outputs": [],
   "source": [
    "_df = pd.DataFrame(fiveVTS_train)\n",
    "_df.interpolate(method='linear', inplace=True)\n",
    "_df = _df.fillna(0)"
   ]
  },
  {
   "cell_type": "code",
   "execution_count": 83,
   "id": "e2efbcfb-610a-4f5d-9338-5b4ff29a651d",
   "metadata": {},
   "outputs": [],
   "source": [
    "linear_fiveVTS_train = np.array(_df).reshape(160,5)"
   ]
  },
  {
   "cell_type": "markdown",
   "id": "c21efcb0-b804-4c18-a553-184899e8d2ab",
   "metadata": {},
   "source": [
    "## ST-GCN"
   ]
  },
  {
   "cell_type": "code",
   "execution_count": 85,
   "id": "73832082-af41-44a4-b092-4d7fe6fb2f9f",
   "metadata": {},
   "outputs": [],
   "source": [
    "linear_f_fiveVTS_train = torch.tensor(linear_fiveVTS_train).reshape(160,5,1).float()"
   ]
  },
  {
   "cell_type": "code",
   "execution_count": 86,
   "id": "d95c8e9d-29e9-4ad4-9cc5-1d0a619e14c0",
   "metadata": {},
   "outputs": [],
   "source": [
    "linear_X_fiveVTS = linear_f_fiveVTS_train[:120,:,:]\n",
    "linear_y_fiveVTS = linear_f_fiveVTS_train[40:,:,:]"
   ]
  },
  {
   "cell_type": "code",
   "execution_count": 87,
   "id": "0842851e-4527-4769-94af-f1a04d6fe8c8",
   "metadata": {},
   "outputs": [
    {
     "data": {
      "text/plain": [
       "(torch.Size([120, 5, 1]), torch.Size([120, 5, 1]))"
      ]
     },
     "execution_count": 87,
     "metadata": {},
     "output_type": "execute_result"
    }
   ],
   "source": [
    "linear_X_fiveVTS.shape,linear_y_fiveVTS.shape"
   ]
  },
  {
   "cell_type": "code",
   "execution_count": 88,
   "id": "c0c4624b-d350-4aef-8bb7-03f194a362f9",
   "metadata": {},
   "outputs": [
    {
     "name": "stderr",
     "output_type": "stream",
     "text": [
      "100%|██████████| 50/50 [00:20<00:00,  2.48it/s]\n"
     ]
    }
   ],
   "source": [
    "model = RecurrentGCN(node_features=1, filters=4)\n",
    "\n",
    "optimizer = torch.optim.Adam(model.parameters(), lr=0.01)\n",
    "\n",
    "model.train()\n",
    "\n",
    "for epoch in tqdm(range(50)):\n",
    "    for time, (xt,yt) in enumerate(zip(linear_X_fiveVTS,linear_y_fiveVTS)):\n",
    "        y_hat = model(xt, edge_index, edge_attr)\n",
    "        cost = torch.mean((y_hat-yt)**2)\n",
    "        cost.backward()\n",
    "        optimizer.step()\n",
    "        optimizer.zero_grad()"
   ]
  },
  {
   "cell_type": "code",
   "execution_count": 89,
   "id": "c9038099-6448-4e3d-a7a6-9e07d50b0a1a",
   "metadata": {},
   "outputs": [],
   "source": [
    "linear_X_fore_fiveVTS = f_fiveVTS_train[120:,:,:]"
   ]
  },
  {
   "cell_type": "code",
   "execution_count": 90,
   "id": "7ad5da0e-c862-4c2b-b943-3df01463da89",
   "metadata": {},
   "outputs": [
    {
     "data": {
      "text/plain": [
       "torch.Size([40, 5, 1])"
      ]
     },
     "execution_count": 90,
     "metadata": {},
     "output_type": "execute_result"
    }
   ],
   "source": [
    "linear_X_fore_fiveVTS.shape"
   ]
  },
  {
   "cell_type": "code",
   "execution_count": 91,
   "id": "8e1cc6f9-e0f0-43a4-b1b9-994be2f8e382",
   "metadata": {},
   "outputs": [],
   "source": [
    "linear_fhat_fiveVTS = torch.stack([model(xt, edge_index, edge_attr) for xt in linear_X_fore_fiveVTS]).detach().numpy()"
   ]
  },
  {
   "cell_type": "code",
   "execution_count": 92,
   "id": "97abd43b-226b-4b22-b945-563f985047a5",
   "metadata": {},
   "outputs": [
    {
     "data": {
      "text/plain": [
       "((40, 5, 1), (40, 5, 1))"
      ]
     },
     "execution_count": 92,
     "metadata": {},
     "output_type": "execute_result"
    }
   ],
   "source": [
    "linear_fhat_fiveVTS.shape,fiveVTS_test.reshape(40,5,1).shape"
   ]
  },
  {
   "cell_type": "markdown",
   "id": "03d3001c-c4bd-4046-8b0f-7e5d4a069ad2",
   "metadata": {},
   "source": [
    "# Comparison"
   ]
  },
  {
   "cell_type": "markdown",
   "id": "5199a5d3-f1fd-4774-be35-311eda1451b8",
   "metadata": {},
   "source": [
    "SSE"
   ]
  },
  {
   "cell_type": "markdown",
   "id": "6d04597c-711c-4e3c-9862-005e754f5083",
   "metadata": {},
   "source": [
    "- mean"
   ]
  },
  {
   "cell_type": "code",
   "execution_count": 131,
   "id": "f86b21ef-39c8-4c8a-b4dd-f0a7c43854f2",
   "metadata": {},
   "outputs": [
    {
     "data": {
      "text/plain": [
       "3.985381562776022"
      ]
     },
     "execution_count": 131,
     "metadata": {},
     "output_type": "execute_result"
    }
   ],
   "source": [
    "sum((mean_fhat_fiveVTS.reshape(40,5)[1] -  fiveVTS_test[1])**2)"
   ]
  },
  {
   "cell_type": "markdown",
   "id": "9d5837b0-eac1-4fe3-882b-99745cf00284",
   "metadata": {},
   "source": [
    "- linearinter"
   ]
  },
  {
   "cell_type": "code",
   "execution_count": 134,
   "id": "e582b248-a6e9-43c0-9d23-562f5cbeffe6",
   "metadata": {},
   "outputs": [
    {
     "data": {
      "text/plain": [
       "3.7671484888508258"
      ]
     },
     "execution_count": 134,
     "metadata": {},
     "output_type": "execute_result"
    }
   ],
   "source": [
    "sum((linear_fhat_fiveVTS.reshape(40,5)[1] -  fiveVTS_test[1])**2)"
   ]
  },
  {
   "cell_type": "markdown",
   "id": "fbea8944-5a16-4813-93db-e350af5259d9",
   "metadata": {},
   "source": [
    "## GNAR"
   ]
  },
  {
   "cell_type": "code",
   "execution_count": 230,
   "id": "820952c0-fa40-4888-afb8-e93e0562328c",
   "metadata": {},
   "outputs": [],
   "source": [
    "%%R\n",
    "fiveVTStrain <- fiveVTS[1:160,]\n",
    "fiveVTStest <- fiveVTS[161:200,]"
   ]
  },
  {
   "cell_type": "code",
   "execution_count": 231,
   "id": "b6431a24-1cd0-419f-9395-eb02f2122e97",
   "metadata": {},
   "outputs": [],
   "source": [
    "%%R\n",
    "set.seed(1)\n",
    "sampleindex1 = sort(sample(1:160, 80))\n",
    "fiveVTStrain[sampleindex1,1] <- NA"
   ]
  },
  {
   "cell_type": "code",
   "execution_count": 232,
   "id": "15c3226a-f92b-4325-ae96-0ad98cfc31d5",
   "metadata": {},
   "outputs": [],
   "source": [
    "%%R\n",
    "set.seed(2)\n",
    "sampleindex2 = sort(sample(1:160, 80))\n",
    "fiveVTStrain[sampleindex2,2] <- NA"
   ]
  },
  {
   "cell_type": "code",
   "execution_count": 233,
   "id": "1d812d36-1bb5-4aa0-9a53-e77e2e3c3ba5",
   "metadata": {},
   "outputs": [],
   "source": [
    "%%R\n",
    "set.seed(3)\n",
    "sampleindex3 = sort(sample(1:160, 80))\n",
    "fiveVTStrain[sampleindex3,3] <- NA"
   ]
  },
  {
   "cell_type": "code",
   "execution_count": 234,
   "id": "3faa2806-06a3-4326-a053-64c5003ebcbb",
   "metadata": {},
   "outputs": [],
   "source": [
    "%%R\n",
    "set.seed(4)\n",
    "sampleindex4 = sort(sample(1:160, 80))\n",
    "fiveVTStrain[sampleindex4,4] <- NA"
   ]
  },
  {
   "cell_type": "code",
   "execution_count": 235,
   "id": "d7a77a29-5a6b-4984-970d-eac532158d9c",
   "metadata": {},
   "outputs": [],
   "source": [
    "%%R\n",
    "set.seed(5)\n",
    "sampleindex5 = sort(sample(1:160, 80))\n",
    "fiveVTStrain[sampleindex5,5] <- NA"
   ]
  },
  {
   "cell_type": "markdown",
   "id": "4b88e20e-ff5a-4b2e-9d2f-11f565207915",
   "metadata": {},
   "source": [
    "**mean**"
   ]
  },
  {
   "cell_type": "code",
   "execution_count": 236,
   "id": "a42e0d5e-378b-4deb-966f-77252ea6dda2",
   "metadata": {},
   "outputs": [],
   "source": [
    "%%R\n",
    "mean <- fiveVTStrain"
   ]
  },
  {
   "cell_type": "code",
   "execution_count": 237,
   "id": "ad7d6a10-779f-4ff5-8491-4a48c4b0560f",
   "metadata": {},
   "outputs": [],
   "source": [
    "%%R\n",
    "mean[sampleindex1,1] <- mean(fiveVTStrain[-sampleindex1,1])\n",
    "mean[sampleindex2,2] <- mean(fiveVTStrain[-sampleindex2,2])\n",
    "mean[sampleindex3,3] <- mean(fiveVTStrain[-sampleindex3,3])\n",
    "mean[sampleindex4,4] <- mean(fiveVTStrain[-sampleindex4,4])\n",
    "mean[sampleindex5,5] <- mean(fiveVTStrain[-sampleindex5,5])"
   ]
  },
  {
   "cell_type": "code",
   "execution_count": 242,
   "id": "d785c94a-c96c-4d2a-ba1f-629158d32a7d",
   "metadata": {},
   "outputs": [],
   "source": [
    "%%R\n",
    "meanprediction <- predict(GNARfit(vts = mean[1:160,], net = fiveNet, alphaOrder = 2, betaOrder = c(1, 1)))"
   ]
  },
  {
   "cell_type": "code",
   "execution_count": 244,
   "id": "6799f7a4-87d4-41e5-85e0-d46c525cf056",
   "metadata": {},
   "outputs": [
    {
     "name": "stdout",
     "output_type": "stream",
     "text": [
      "[1] 13.97314\n"
     ]
    }
   ],
   "source": [
    "%%R\n",
    "sum((meanprediction - fiveVTStest[1,])^2)"
   ]
  }
 ],
 "metadata": {
  "kernelspec": {
   "display_name": "Python 3 (ipykernel)",
   "language": "python",
   "name": "python3"
  },
  "language_info": {
   "codemirror_mode": {
    "name": "ipython",
    "version": 3
   },
   "file_extension": ".py",
   "mimetype": "text/x-python",
   "name": "python",
   "nbconvert_exporter": "python",
   "pygments_lexer": "ipython3",
   "version": "3.8.12"
  }
 },
 "nbformat": 4,
 "nbformat_minor": 5
}

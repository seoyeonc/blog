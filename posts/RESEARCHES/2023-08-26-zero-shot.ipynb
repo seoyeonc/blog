{
 "cells": [
  {
   "cell_type": "raw",
   "id": "19a1409b-8eb6-49f1-8c2d-aa227c14b8b5",
   "metadata": {
    "id": "cac470df-29e7-4148-9bbd-d8b9a32fa570",
    "tags": []
   },
   "source": [
    "---\n",
    "title: \"**[LLM]**Zeroshot\"\n",
    "author: \"SEOYEON CHOI\"\n",
    "date: \"2023-08-26\"\n",
    "---"
   ]
  },
  {
   "cell_type": "markdown",
   "id": "90fa3912-5257-43d6-9758-0ef3f353bb9a",
   "metadata": {},
   "source": [
    "# Purpose\n",
    "\n",
    "1. 흐릿한 점을 주변의 명확한 사진(노드)로 추론해보는것, 소프트맥스로 나온 결과가 애매한 것들\n",
    "2. 노드로 인식하고 극중 상황을 추론하는 (싸움/긴장 등)"
   ]
  },
  {
   "cell_type": "markdown",
   "id": "f51d3976-300d-4665-9e63-64506d6f9d55",
   "metadata": {},
   "source": [
    "# Import"
   ]
  },
  {
   "cell_type": "code",
   "execution_count": 3,
   "id": "1aff9f33-0df6-48b2-987a-f7920398c8e7",
   "metadata": {},
   "outputs": [],
   "source": [
    "import skimage\n",
    "import numpy as np\n",
    "from PIL import Image\n",
    "import requests\n",
    "import torch\n",
    "from transformers import pipeline"
   ]
  },
  {
   "cell_type": "code",
   "execution_count": 4,
   "id": "10a42b52-ce13-4b39-b25f-ce7333b7e46e",
   "metadata": {},
   "outputs": [],
   "source": [
    "import numpy as np\n",
    "import os\n",
    "from PIL import Image, ImageDraw\n",
    "from datasets import load_dataset"
   ]
  },
  {
   "cell_type": "markdown",
   "id": "ca9e57a4-4258-4330-a7ce-d1c63206bbe3",
   "metadata": {},
   "source": [
    "# graph"
   ]
  },
  {
   "cell_type": "code",
   "execution_count": 5,
   "id": "d2d30d42-19db-4982-9211-cadf19f5a1e8",
   "metadata": {},
   "outputs": [],
   "source": [
    "cppe5 = load_dataset(\"cppe-5\")"
   ]
  },
  {
   "cell_type": "code",
   "execution_count": 12,
   "id": "c6fabe5a-b6eb-4964-8590-33f2c3e9ab21",
   "metadata": {
    "tags": []
   },
   "outputs": [],
   "source": [
    "data_dict = {}\n",
    "for z in range(len(cppe5['train'])) :\n",
    "    image = cppe5[\"train\"][z][\"image\"]\n",
    "    annotations = cppe5[\"train\"][z][\"objects\"]\n",
    "    draw = ImageDraw.Draw(image)\n",
    "\n",
    "    categories = cppe5[\"train\"].features[\"objects\"].feature[\"category\"].names\n",
    "\n",
    "    id2label = {index: x for index, x in enumerate(categories, start=0)}\n",
    "    label2id = {v: k for k, v in id2label.items()}\n",
    "    \n",
    "    # for i in range(len(annotations[\"id\"])):\n",
    "    #     box = annotations[\"bbox\"][i - 1]\n",
    "    #     class_idx = annotations[\"category\"][i - 1]\n",
    "    #     x, y, w, h = tuple(box)\n",
    "    #     draw.rectangle((x, y, x + w, y + h), outline=\"red\", width=1)\n",
    "    #     draw.text((x, y), id2label[class_idx], fill=\"white\")\n",
    "\n",
    "#     edge_matrix = np.zeros((len(categories), len(categories)), dtype=int)\n",
    "\n",
    "#     for i in range(len(annotations['category'])-1):\n",
    "#         edge_matrix[annotations['category'][i],annotations['category'][i+1]] = 1\n",
    "\n",
    "#     edge_list = []\n",
    "\n",
    "    # for i in range(edge_matrix.shape[0]):\n",
    "    #     for j in range(edge_matrix.shape[1]):\n",
    "    #         if edge_matrix[i, j] == 1:\n",
    "    #             edge_list.append([i, j])\n",
    "                \n",
    "    data_dict[z] = {\n",
    "        \"image\": image,\n",
    "        \"annotations\": annotations,\n",
    "        # \"edge_matrix\": edge_matrix,\n",
    "        # \"edge_list\": edge_list\n",
    "    }"
   ]
  },
  {
   "cell_type": "code",
   "execution_count": 13,
   "id": "d5039e0d-6932-4640-8455-41327fc359c3",
   "metadata": {},
   "outputs": [
    {
     "data": {
      "text/plain": [
       "{'image': <PIL.JpegImagePlugin.JpegImageFile image mode=RGB size=943x663>,\n",
       " 'annotations': {'id': [114, 115, 116, 117],\n",
       "  'area': [3796, 1596, 152768, 81002],\n",
       "  'bbox': [[302.0, 109.0, 73.0, 52.0],\n",
       "   [810.0, 100.0, 57.0, 28.0],\n",
       "   [160.0, 31.0, 248.0, 616.0],\n",
       "   [741.0, 68.0, 202.0, 401.0]],\n",
       "  'category': [4, 4, 0, 0]}}"
      ]
     },
     "execution_count": 13,
     "metadata": {},
     "output_type": "execute_result"
    }
   ],
   "source": [
    "data_dict[0]"
   ]
  },
  {
   "cell_type": "code",
   "execution_count": null,
   "id": "eb3ee66b-1b61-4669-8232-80c603f40b69",
   "metadata": {},
   "outputs": [],
   "source": []
  }
 ],
 "metadata": {
  "kernelspec": {
   "display_name": "Python 3",
   "language": "python",
   "name": "python3"
  },
  "language_info": {
   "codemirror_mode": {
    "name": "ipython",
    "version": 3
   },
   "file_extension": ".py",
   "mimetype": "text/x-python",
   "name": "python",
   "nbconvert_exporter": "python",
   "pygments_lexer": "ipython3",
   "version": "3.8.0"
  }
 },
 "nbformat": 4,
 "nbformat_minor": 5
}

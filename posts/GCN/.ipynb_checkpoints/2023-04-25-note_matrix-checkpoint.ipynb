{
 "cells": [
  {
   "cell_type": "raw",
   "id": "d5d6e3e2-f746-460f-97ee-e03221cb6241",
   "metadata": {},
   "source": [
    "---\n",
    "title: \"Note_weight amatrix\"\n",
    "author: \"GUEBIN CHOI\"\n",
    "date: \"04/25/2023\"\n",
    "---"
   ]
  },
  {
   "cell_type": "markdown",
   "id": "8f12dbc6-f65c-4693-8765-6eabfe93a6e4",
   "metadata": {},
   "source": [
    "> weight matrix"
   ]
  },
  {
   "cell_type": "code",
   "execution_count": 41,
   "id": "f5b9857a-f4a7-4f05-aadd-11b49aa33e14",
   "metadata": {},
   "outputs": [],
   "source": [
    "import numpy as np"
   ]
  },
  {
   "cell_type": "markdown",
   "id": "3c38799e-47a5-420e-898a-69c81603c6ee",
   "metadata": {},
   "source": [
    "`-` 하이퍼파라메터 "
   ]
  },
  {
   "cell_type": "code",
   "execution_count": 2,
   "id": "279df7c4-c1db-485f-aea0-f4ec8991c7a2",
   "metadata": {},
   "outputs": [],
   "source": [
    "T = 5 # time\n",
    "N = 3 # number of nodes "
   ]
  },
  {
   "cell_type": "markdown",
   "id": "26f4ebfb-1a43-498d-8e8a-8ecb2065b251",
   "metadata": {},
   "source": [
    "`-` wt,ws,f"
   ]
  },
  {
   "cell_type": "code",
   "execution_count": 3,
   "id": "aeef1a3e-a953-4c39-becd-bf117b6c4c27",
   "metadata": {},
   "outputs": [
    {
     "data": {
      "text/plain": [
       "array([[0., 1., 0., 0., 0.],\n",
       "       [1., 0., 1., 0., 0.],\n",
       "       [0., 1., 0., 1., 0.],\n",
       "       [0., 0., 1., 0., 1.],\n",
       "       [0., 0., 0., 1., 0.]])"
      ]
     },
     "execution_count": 3,
     "metadata": {},
     "output_type": "execute_result"
    }
   ],
   "source": [
    "wt = np.array([abs(i-j) < 2 for i in range(T) for j in range(T)]).reshape(T,T)*1.0 - np.eye(T)\n",
    "wt"
   ]
  },
  {
   "cell_type": "code",
   "execution_count": 4,
   "id": "6516689a-5e02-469b-9c03-fe1849fc3512",
   "metadata": {},
   "outputs": [
    {
     "data": {
      "text/plain": [
       "array([[1., 1., 1.],\n",
       "       [1., 1., 0.],\n",
       "       [1., 0., 1.]])"
      ]
     },
     "execution_count": 4,
     "metadata": {},
     "output_type": "execute_result"
    }
   ],
   "source": [
    "ws = np.array([[0,1,1],[1,0,0],[1,0,0]]) + np.eye(N)\n",
    "ws"
   ]
  },
  {
   "cell_type": "code",
   "execution_count": 5,
   "id": "6ad4d8ca-9e6c-44a9-9f8a-3ba46f2e7da4",
   "metadata": {},
   "outputs": [
    {
     "data": {
      "text/plain": [
       "array([[-0.73176413, -0.95155223, -0.00206147],\n",
       "       [ 1.39680239,  0.84786031,  0.0152849 ],\n",
       "       [ 0.06111198, -1.37704116, -0.28557273],\n",
       "       [-0.88306776, -0.65056859,  0.05926914],\n",
       "       [ 0.3802191 , -0.76405896,  0.90468637]])"
      ]
     },
     "execution_count": 5,
     "metadata": {},
     "output_type": "execute_result"
    }
   ],
   "source": [
    "f = np.random.randn(T,N)\n",
    "f"
   ]
  },
  {
   "cell_type": "markdown",
   "id": "184c4523-16c3-4519-b212-8c0d17df36d9",
   "metadata": {},
   "source": [
    "`-` f를 펼침 "
   ]
  },
  {
   "cell_type": "code",
   "execution_count": 6,
   "id": "c59f097f-5660-4d4c-93d0-a79431630655",
   "metadata": {},
   "outputs": [
    {
     "data": {
      "text/plain": [
       "array([[-0.73176413],\n",
       "       [-0.95155223],\n",
       "       [-0.00206147],\n",
       "       [ 1.39680239],\n",
       "       [ 0.84786031],\n",
       "       [ 0.0152849 ],\n",
       "       [ 0.06111198],\n",
       "       [-1.37704116],\n",
       "       [-0.28557273],\n",
       "       [-0.88306776],\n",
       "       [-0.65056859],\n",
       "       [ 0.05926914],\n",
       "       [ 0.3802191 ],\n",
       "       [-0.76405896],\n",
       "       [ 0.90468637]])"
      ]
     },
     "execution_count": 6,
     "metadata": {},
     "output_type": "execute_result"
    }
   ],
   "source": [
    "f_flatten = f.reshape(-1,1)\n",
    "f_flatten"
   ]
  },
  {
   "cell_type": "markdown",
   "id": "7a237452-df7f-47dd-818f-f40f66822890",
   "metadata": {},
   "source": [
    "`-` 펼쳐진 f에 대응하는 W 생성 "
   ]
  },
  {
   "cell_type": "code",
   "execution_count": 7,
   "id": "1be1138b-5fdc-4e90-8a17-5999320f2bd6",
   "metadata": {},
   "outputs": [],
   "source": [
    "def flatten_weight(ws,wt):\n",
    "  N = len(ws)\n",
    "  T = len(wt)\n",
    "  Is = np.eye(N,N)\n",
    "  lst = [[0]*T for t in range(T)]\n",
    "  for i in range(T):\n",
    "    for j in range(T):\n",
    "      if i==j: \n",
    "        lst[i][j] = ws \n",
    "      elif abs(i-j)==1:\n",
    "        lst[i][j] = Is\n",
    "      else:\n",
    "        lst[i][j] = Is*0\n",
    "  return np.concatenate([np.concatenate(l,axis=1) for l in lst],axis=0)"
   ]
  },
  {
   "cell_type": "code",
   "execution_count": 8,
   "id": "888d4640-c6de-492f-a5f2-bef68158748f",
   "metadata": {},
   "outputs": [
    {
     "data": {
      "text/plain": [
       "array([[1., 1., 1., 1., 0., 0., 0., 0., 0., 0., 0., 0., 0., 0., 0.],\n",
       "       [1., 1., 0., 0., 1., 0., 0., 0., 0., 0., 0., 0., 0., 0., 0.],\n",
       "       [1., 0., 1., 0., 0., 1., 0., 0., 0., 0., 0., 0., 0., 0., 0.],\n",
       "       [1., 0., 0., 1., 1., 1., 1., 0., 0., 0., 0., 0., 0., 0., 0.],\n",
       "       [0., 1., 0., 1., 1., 0., 0., 1., 0., 0., 0., 0., 0., 0., 0.],\n",
       "       [0., 0., 1., 1., 0., 1., 0., 0., 1., 0., 0., 0., 0., 0., 0.],\n",
       "       [0., 0., 0., 1., 0., 0., 1., 1., 1., 1., 0., 0., 0., 0., 0.],\n",
       "       [0., 0., 0., 0., 1., 0., 1., 1., 0., 0., 1., 0., 0., 0., 0.],\n",
       "       [0., 0., 0., 0., 0., 1., 1., 0., 1., 0., 0., 1., 0., 0., 0.],\n",
       "       [0., 0., 0., 0., 0., 0., 1., 0., 0., 1., 1., 1., 1., 0., 0.],\n",
       "       [0., 0., 0., 0., 0., 0., 0., 1., 0., 1., 1., 0., 0., 1., 0.],\n",
       "       [0., 0., 0., 0., 0., 0., 0., 0., 1., 1., 0., 1., 0., 0., 1.],\n",
       "       [0., 0., 0., 0., 0., 0., 0., 0., 0., 1., 0., 0., 1., 1., 1.],\n",
       "       [0., 0., 0., 0., 0., 0., 0., 0., 0., 0., 1., 0., 1., 1., 0.],\n",
       "       [0., 0., 0., 0., 0., 0., 0., 0., 0., 0., 0., 1., 1., 0., 1.]])"
      ]
     },
     "execution_count": 8,
     "metadata": {},
     "output_type": "execute_result"
    }
   ],
   "source": [
    "W_flatten = flatten_weight(ws,wt)\n",
    "W_flatten"
   ]
  },
  {
   "cell_type": "markdown",
   "id": "791a2261-1059-479f-b267-1f7f09192534",
   "metadata": {},
   "source": [
    "`-` trim\n",
    "\n",
    "```Python\n",
    "ftrimed_flatten = trim(f_flatten,W_flatten)\n",
    "```"
   ]
  },
  {
   "cell_type": "markdown",
   "id": "6380b134-e943-49df-bb88-e446f7bd2ab5",
   "metadata": {},
   "source": [
    "임의로 `ftrimed_flatten`이 `f_flatten`과 같다고 생각하자. "
   ]
  },
  {
   "cell_type": "code",
   "execution_count": 9,
   "id": "7f2292bd-81c4-4b84-acff-1a0b28f999b4",
   "metadata": {},
   "outputs": [
    {
     "data": {
      "text/plain": [
       "array([[-0.73176413],\n",
       "       [-0.95155223],\n",
       "       [-0.00206147],\n",
       "       [ 1.39680239],\n",
       "       [ 0.84786031],\n",
       "       [ 0.0152849 ],\n",
       "       [ 0.06111198],\n",
       "       [-1.37704116],\n",
       "       [-0.28557273],\n",
       "       [-0.88306776],\n",
       "       [-0.65056859],\n",
       "       [ 0.05926914],\n",
       "       [ 0.3802191 ],\n",
       "       [-0.76405896],\n",
       "       [ 0.90468637]])"
      ]
     },
     "execution_count": 9,
     "metadata": {},
     "output_type": "execute_result"
    }
   ],
   "source": [
    "ftrimed_flatten = f_flatten\n",
    "ftrimed_flatten"
   ]
  },
  {
   "cell_type": "markdown",
   "id": "0b80345f-07dd-4540-a5cb-c83e3428a4c9",
   "metadata": {},
   "source": [
    "`-` ftrimed"
   ]
  },
  {
   "cell_type": "code",
   "execution_count": 10,
   "id": "531c6d0d-7910-405d-b063-9cea61f8781e",
   "metadata": {},
   "outputs": [
    {
     "data": {
      "text/plain": [
       "array([[-0.73176413, -0.95155223, -0.00206147],\n",
       "       [ 1.39680239,  0.84786031,  0.0152849 ],\n",
       "       [ 0.06111198, -1.37704116, -0.28557273],\n",
       "       [-0.88306776, -0.65056859,  0.05926914],\n",
       "       [ 0.3802191 , -0.76405896,  0.90468637]])"
      ]
     },
     "execution_count": 10,
     "metadata": {},
     "output_type": "execute_result"
    }
   ],
   "source": [
    "ftrimed = ftrimed_flatten.reshape(T,N) \n",
    "ftrimed"
   ]
  },
  {
   "cell_type": "code",
   "execution_count": 11,
   "id": "8cec8957-299b-4420-a94e-a44260a06f98",
   "metadata": {},
   "outputs": [
    {
     "data": {
      "text/plain": [
       "array([[-0.73176413, -0.95155223, -0.00206147],\n",
       "       [ 1.39680239,  0.84786031,  0.0152849 ],\n",
       "       [ 0.06111198, -1.37704116, -0.28557273],\n",
       "       [-0.88306776, -0.65056859,  0.05926914],\n",
       "       [ 0.3802191 , -0.76405896,  0.90468637]])"
      ]
     },
     "execution_count": 11,
     "metadata": {},
     "output_type": "execute_result"
    }
   ],
   "source": [
    "f # 와 비교.. 잘 reconstructiond 되어씀 "
   ]
  },
  {
   "cell_type": "markdown",
   "id": "81cbfe40-211e-493f-963b-6ad0588f2346",
   "metadata": {},
   "source": [
    "---"
   ]
  },
  {
   "cell_type": "markdown",
   "id": "3f836eee-4b2d-4dd0-8c9f-c5fb3b5fb751",
   "metadata": {},
   "source": [
    "## Chickenpox"
   ]
  },
  {
   "cell_type": "code",
   "execution_count": 12,
   "id": "f8090fef-3b2b-48a7-a687-19cf23ea1507",
   "metadata": {},
   "outputs": [],
   "source": [
    "from torch_geometric_temporal.dataset import ChickenpoxDatasetLoader\n",
    "loader1 = ChickenpoxDatasetLoader()"
   ]
  },
  {
   "cell_type": "code",
   "execution_count": 13,
   "id": "76286f7a-d620-463b-9735-bcf7c81d6e2c",
   "metadata": {},
   "outputs": [],
   "source": [
    "a = loader1.get_dataset(lags=1)"
   ]
  },
  {
   "cell_type": "markdown",
   "id": "5c11bdfe-1bd2-41e5-a91e-91d54add2883",
   "metadata": {},
   "source": [
    "time,number of nodes "
   ]
  },
  {
   "cell_type": "code",
   "execution_count": 14,
   "id": "05b9bc7b-bfd1-47fe-b084-37fdda6d0c76",
   "metadata": {},
   "outputs": [],
   "source": [
    "T,N,_ = np.array(a.features).shape"
   ]
  },
  {
   "cell_type": "markdown",
   "id": "7232f614-63f7-450f-8762-8e64b12d8f97",
   "metadata": {},
   "source": [
    "`-` wt,ws,f"
   ]
  },
  {
   "cell_type": "code",
   "execution_count": 15,
   "id": "3445330d-3c12-49b9-bcd7-f4c3df68cf66",
   "metadata": {},
   "outputs": [],
   "source": [
    "wt = np.zeros((T,T))\n",
    "for i in range(T):\n",
    "    for j in range(T):\n",
    "        if i==j :\n",
    "            wt[i,j] = 0\n",
    "        elif np.abs(i-j) <= 1 : \n",
    "            wt[i,j] = 1"
   ]
  },
  {
   "cell_type": "code",
   "execution_count": 16,
   "id": "115ec85e-eb74-4d06-b3a4-d8b3a681be0e",
   "metadata": {},
   "outputs": [],
   "source": [
    "mtr = a.edge_index\n",
    "mtr2 = a.edge_weight"
   ]
  },
  {
   "cell_type": "code",
   "execution_count": 17,
   "id": "0a2bfef2-c624-447a-a4ef-fdae5a0dac22",
   "metadata": {},
   "outputs": [],
   "source": [
    "ws = np.zeros((N,N))\n",
    "for i in range(N):\n",
    "    for j in range(mtr2.shape[0]):\n",
    "        if mtr[0][j] == i :\n",
    "            ws[i,mtr[1][j]] = mtr2[j]"
   ]
  },
  {
   "cell_type": "code",
   "execution_count": 18,
   "id": "3af7165c-2927-44ef-9fdc-0d5b300fd61d",
   "metadata": {},
   "outputs": [
    {
     "data": {
      "text/plain": [
       "(20, 20)"
      ]
     },
     "execution_count": 18,
     "metadata": {},
     "output_type": "execute_result"
    }
   ],
   "source": [
    "np.array(ws).shape"
   ]
  },
  {
   "cell_type": "code",
   "execution_count": 19,
   "id": "d0745769-8b46-4081-aef8-a82162128542",
   "metadata": {},
   "outputs": [],
   "source": [
    "f = np.array(a.features).reshape(T,N)"
   ]
  },
  {
   "cell_type": "markdown",
   "id": "c56ccc4d-fba6-4b76-9b4e-0ae1c0473854",
   "metadata": {},
   "source": [
    "`-` f를 펼침 "
   ]
  },
  {
   "cell_type": "code",
   "execution_count": 20,
   "id": "9ac9cfbc-794e-4d5d-9cb7-c9b1df1f059f",
   "metadata": {},
   "outputs": [
    {
     "data": {
      "text/plain": [
       "array([[-1.08135724e-03],\n",
       "       [-7.11136085e-01],\n",
       "       [-3.22808515e+00],\n",
       "       ...,\n",
       "       [ 4.71099041e-02],\n",
       "       [ 2.45684924e+00],\n",
       "       [-3.44296107e-01]])"
      ]
     },
     "execution_count": 20,
     "metadata": {},
     "output_type": "execute_result"
    }
   ],
   "source": [
    "f_flatten = f.reshape(-1,1)\n",
    "f_flatten"
   ]
  },
  {
   "cell_type": "markdown",
   "id": "cde45c85-eb50-4f07-bc2f-285d497d4fcc",
   "metadata": {},
   "source": [
    "`-` 펼쳐진 f에 대응하는 W 생성 "
   ]
  },
  {
   "cell_type": "code",
   "execution_count": 21,
   "id": "779921f2-c76f-4fbd-a5bc-df7079979409",
   "metadata": {},
   "outputs": [],
   "source": [
    "def flatten_weight(ws,wt):\n",
    "  N = len(ws)\n",
    "  T = len(wt)\n",
    "  Is = np.eye(N,N)\n",
    "  lst = [[0]*T for t in range(T)]\n",
    "  for i in range(T):\n",
    "    for j in range(T):\n",
    "      if i==j: \n",
    "        lst[i][j] = ws \n",
    "      elif abs(i-j)==1:\n",
    "        lst[i][j] = Is\n",
    "      else:\n",
    "        lst[i][j] = Is*0\n",
    "  return np.concatenate([np.concatenate(l,axis=1) for l in lst],axis=0)"
   ]
  },
  {
   "cell_type": "code",
   "execution_count": 22,
   "id": "62a2565e-b0cd-4f00-804c-242c516f7e8e",
   "metadata": {},
   "outputs": [
    {
     "data": {
      "text/plain": [
       "array([[1., 1., 0., ..., 0., 0., 0.],\n",
       "       [1., 1., 0., ..., 0., 0., 0.],\n",
       "       [0., 0., 1., ..., 0., 0., 0.],\n",
       "       ...,\n",
       "       [0., 0., 0., ..., 1., 1., 1.],\n",
       "       [0., 0., 0., ..., 1., 1., 1.],\n",
       "       [0., 0., 0., ..., 1., 1., 1.]])"
      ]
     },
     "execution_count": 22,
     "metadata": {},
     "output_type": "execute_result"
    }
   ],
   "source": [
    "W_flatten = flatten_weight(ws,wt)\n",
    "W_flatten"
   ]
  },
  {
   "cell_type": "code",
   "execution_count": 50,
   "id": "173d9c9b-bb48-4bb2-83e5-7864d6d44be1",
   "metadata": {},
   "outputs": [],
   "source": [
    "np.save('./weight_st/W_chickenpox.npy', W_flatten)"
   ]
  },
  {
   "cell_type": "code",
   "execution_count": 51,
   "id": "9c4f9336-47ce-4fb1-bddc-5fddcb6d159e",
   "metadata": {},
   "outputs": [
    {
     "data": {
      "text/plain": [
       "array([[1., 1., 0., ..., 0., 0., 0.],\n",
       "       [1., 1., 0., ..., 0., 0., 0.],\n",
       "       [0., 0., 1., ..., 0., 0., 0.],\n",
       "       ...,\n",
       "       [0., 0., 0., ..., 1., 1., 1.],\n",
       "       [0., 0., 0., ..., 1., 1., 1.],\n",
       "       [0., 0., 0., ..., 1., 1., 1.]])"
      ]
     },
     "execution_count": 51,
     "metadata": {},
     "output_type": "execute_result"
    }
   ],
   "source": [
    "np.load('./weight_st/W_chickenpox.npy')"
   ]
  },
  {
   "cell_type": "code",
   "execution_count": 23,
   "id": "f426caeb-35fa-40ee-9330-c785fd5eb0dd",
   "metadata": {},
   "outputs": [],
   "source": [
    "d = np.array(W_flatten.sum(axis=1))"
   ]
  },
  {
   "cell_type": "code",
   "execution_count": 24,
   "id": "d0c22adc-fdc6-45ba-ae51-a2f78f7f44f0",
   "metadata": {},
   "outputs": [],
   "source": [
    "D = np.diag(d)"
   ]
  },
  {
   "cell_type": "code",
   "execution_count": 25,
   "id": "18ea7245-eb02-4466-b3e5-c3240d671467",
   "metadata": {},
   "outputs": [],
   "source": [
    "L = np.array(np.diag(1/np.sqrt(d)) @ (D-W_flatten) @ np.diag(1/np.sqrt(d)))"
   ]
  },
  {
   "cell_type": "code",
   "execution_count": 26,
   "id": "9051f8e4-2568-4183-ae30-268b623a9d11",
   "metadata": {},
   "outputs": [],
   "source": [
    "lamb, Psi = np.linalg.eigh(L)"
   ]
  },
  {
   "cell_type": "code",
   "execution_count": 29,
   "id": "b71b6b2e-9d1e-4017-9e73-89fc49f3501c",
   "metadata": {},
   "outputs": [],
   "source": [
    "np.save('./weight_st/Psi_chickenpox.npy', Psi)"
   ]
  },
  {
   "cell_type": "code",
   "execution_count": 30,
   "id": "1bfb591a-c45d-4a92-926c-d6a930d87301",
   "metadata": {},
   "outputs": [
    {
     "data": {
      "text/plain": [
       "array([[ 1.04115841e-02, -1.47242159e-02,  1.47242532e-02, ...,\n",
       "         6.41186713e-04, -4.27546925e-04,  2.13800213e-04],\n",
       "       [ 8.23107997e-03, -1.16404883e-02,  1.16404382e-02, ...,\n",
       "        -4.77715858e-04,  3.18549731e-04, -1.59296626e-04],\n",
       "       [ 8.23107997e-03, -1.16404502e-02,  1.16402861e-02, ...,\n",
       "         2.85275946e-04, -1.90235274e-04,  9.51330388e-05],\n",
       "       ...,\n",
       "       [ 8.23107997e-03,  1.16404565e-02,  1.16403112e-02, ...,\n",
       "        -6.65738542e-04, -4.43946869e-04, -2.22009806e-04],\n",
       "       [ 1.04115841e-02,  1.47242028e-02,  1.47242009e-02, ...,\n",
       "         1.35543431e-04,  9.03781585e-05,  4.51938438e-05],\n",
       "       [ 8.23107997e-03,  1.16404680e-02,  1.16403570e-02, ...,\n",
       "         5.65995233e-04,  3.77431091e-04,  1.88745843e-04]])"
      ]
     },
     "execution_count": 30,
     "metadata": {},
     "output_type": "execute_result"
    }
   ],
   "source": [
    "np.load('./weight_st/Psi_chickenpox.npy')"
   ]
  },
  {
   "cell_type": "markdown",
   "id": "0e065cd9-da71-4fb5-b89f-305355452780",
   "metadata": {},
   "source": [
    "`-` trim\n",
    "\n",
    "```Python\n",
    "ftrimed_flatten = trim(f_flatten,W_flatten)\n",
    "```"
   ]
  },
  {
   "cell_type": "markdown",
   "id": "9c0077c7-8f2c-40c9-9a8a-404c6e9f93fb",
   "metadata": {},
   "source": [
    "---"
   ]
  },
  {
   "cell_type": "markdown",
   "id": "6550a17e-439b-4efd-a9d1-53db84c744d4",
   "metadata": {},
   "source": [
    "## Pedalme"
   ]
  },
  {
   "cell_type": "code",
   "execution_count": 55,
   "id": "54a60edd-7c79-4bef-9b4a-b1e40f4d4a91",
   "metadata": {},
   "outputs": [],
   "source": [
    "from torch_geometric_temporal.dataset import PedalMeDatasetLoader\n",
    "loader2 = PedalMeDatasetLoader()"
   ]
  },
  {
   "cell_type": "code",
   "execution_count": 56,
   "id": "958c205b-edb9-4846-a577-fdfd00338427",
   "metadata": {},
   "outputs": [],
   "source": [
    "a = loader2.get_dataset(lags=1)"
   ]
  },
  {
   "cell_type": "markdown",
   "id": "926fe5b7-d137-431b-99f4-fbb2063ed789",
   "metadata": {},
   "source": [
    "time,number of nodes "
   ]
  },
  {
   "cell_type": "code",
   "execution_count": 57,
   "id": "9a56887a-3075-417a-96a6-869710da202e",
   "metadata": {},
   "outputs": [],
   "source": [
    "T,N,_ = np.array(a.features).shape"
   ]
  },
  {
   "cell_type": "markdown",
   "id": "7e248e15-052c-40b9-bc19-5fd87b7aa6d4",
   "metadata": {},
   "source": [
    "`-` wt,ws,f"
   ]
  },
  {
   "cell_type": "code",
   "execution_count": 58,
   "id": "0a66c416-d370-445b-8bb3-a962b47d98d1",
   "metadata": {},
   "outputs": [],
   "source": [
    "wt = np.zeros((T,T))\n",
    "for i in range(T):\n",
    "    for j in range(T):\n",
    "        if i==j :\n",
    "            wt[i,j] = 0\n",
    "        elif np.abs(i-j) <= 1 : \n",
    "            wt[i,j] = 1"
   ]
  },
  {
   "cell_type": "code",
   "execution_count": 59,
   "id": "8b4ab779-12bb-43cb-9582-7a8af0ed53b3",
   "metadata": {},
   "outputs": [],
   "source": [
    "mtr = a.edge_index\n",
    "mtr2 = a.edge_weight"
   ]
  },
  {
   "cell_type": "code",
   "execution_count": 60,
   "id": "e68e6a92-506f-4311-9765-a06732d36aeb",
   "metadata": {},
   "outputs": [],
   "source": [
    "ws = np.zeros((N,N))\n",
    "for i in range(N):\n",
    "    for j in range(mtr2.shape[0]):\n",
    "        if mtr[0][j] == i :\n",
    "            ws[i,mtr[1][j]] = mtr2[j]"
   ]
  },
  {
   "cell_type": "code",
   "execution_count": 61,
   "id": "3189da81-4a80-43f5-b263-087413469473",
   "metadata": {},
   "outputs": [
    {
     "data": {
      "text/plain": [
       "(34, 34)"
      ]
     },
     "execution_count": 61,
     "metadata": {},
     "output_type": "execute_result"
    }
   ],
   "source": [
    "np.array(wt).shape"
   ]
  },
  {
   "cell_type": "code",
   "execution_count": 62,
   "id": "76c16797-4710-40d4-91ae-9aeefb3afe2b",
   "metadata": {},
   "outputs": [
    {
     "data": {
      "text/plain": [
       "(15, 15)"
      ]
     },
     "execution_count": 62,
     "metadata": {},
     "output_type": "execute_result"
    }
   ],
   "source": [
    "np.array(ws).shape"
   ]
  },
  {
   "cell_type": "code",
   "execution_count": 63,
   "id": "9228f66c-48e3-4eb2-b5b6-3c86c0f9e691",
   "metadata": {},
   "outputs": [
    {
     "data": {
      "text/plain": [
       "510"
      ]
     },
     "execution_count": 63,
     "metadata": {},
     "output_type": "execute_result"
    }
   ],
   "source": [
    "34*15"
   ]
  },
  {
   "cell_type": "code",
   "execution_count": 64,
   "id": "afc7bb35-c789-44e7-bbe4-1e22cc186b43",
   "metadata": {},
   "outputs": [],
   "source": [
    "f = np.array(a.features).reshape(T,N)"
   ]
  },
  {
   "cell_type": "markdown",
   "id": "df53a3d1-4fcf-4350-b05c-6e50b73e384b",
   "metadata": {},
   "source": [
    "`-` f를 펼침 "
   ]
  },
  {
   "cell_type": "code",
   "execution_count": 65,
   "id": "ca6080a9-dcea-4f13-a1a6-2adf5852a2e6",
   "metadata": {},
   "outputs": [],
   "source": [
    "f_flatten = f.reshape(-1,1)\n",
    "# f_flatten"
   ]
  },
  {
   "cell_type": "markdown",
   "id": "d6abba70-bc9e-4c7f-ba4b-d214016fab6a",
   "metadata": {},
   "source": [
    "`-` 펼쳐진 f에 대응하는 W 생성 "
   ]
  },
  {
   "cell_type": "code",
   "execution_count": 66,
   "id": "666b4aea-11cd-43ea-b38f-425cbc78d063",
   "metadata": {},
   "outputs": [],
   "source": [
    "def flatten_weight(ws,wt):\n",
    "  N = len(ws)\n",
    "  T = len(wt)\n",
    "  Is = np.eye(N,N)\n",
    "  lst = [[0]*T for t in range(T)]\n",
    "  for i in range(T):\n",
    "    for j in range(T):\n",
    "      if i==j: \n",
    "        lst[i][j] = ws \n",
    "      elif abs(i-j)==1:\n",
    "        lst[i][j] = Is\n",
    "      else:\n",
    "        lst[i][j] = Is*0\n",
    "  return np.concatenate([np.concatenate(l,axis=1) for l in lst],axis=0)"
   ]
  },
  {
   "cell_type": "code",
   "execution_count": 67,
   "id": "a788844d-2409-4e62-a420-ccce39656442",
   "metadata": {},
   "outputs": [
    {
     "data": {
      "text/plain": [
       "array([[1.        , 0.42545896, 0.15735536, ..., 0.        , 0.        ,\n",
       "        0.        ],\n",
       "       [0.42545896, 1.        , 0.06751402, ..., 0.        , 0.        ,\n",
       "        0.        ],\n",
       "       [0.15735536, 0.06751402, 1.        , ..., 0.        , 0.        ,\n",
       "        0.        ],\n",
       "       ...,\n",
       "       [0.        , 0.        , 0.        , ..., 1.        , 0.07069877,\n",
       "        0.06899971],\n",
       "       [0.        , 0.        , 0.        , ..., 0.07069877, 1.        ,\n",
       "        0.32983841],\n",
       "       [0.        , 0.        , 0.        , ..., 0.06899971, 0.32983841,\n",
       "        1.        ]])"
      ]
     },
     "execution_count": 67,
     "metadata": {},
     "output_type": "execute_result"
    }
   ],
   "source": [
    "W_flatten = flatten_weight(ws,wt)\n",
    "W_flatten"
   ]
  },
  {
   "cell_type": "markdown",
   "id": "e0923aad-e45a-4609-892e-abe9202af910",
   "metadata": {},
   "source": [
    "`-` trim\n",
    "\n",
    "```Python\n",
    "ftrimed_flatten = trim(f_flatten,W_flatten)\n",
    "```"
   ]
  },
  {
   "cell_type": "code",
   "execution_count": 68,
   "id": "b07b6636-b8f0-4185-8481-eeb767093762",
   "metadata": {},
   "outputs": [],
   "source": [
    "np.save('./weight_st/W_pedalme.npy', W_flatten)"
   ]
  },
  {
   "cell_type": "code",
   "execution_count": 54,
   "id": "4702fd34-d633-43b5-b73a-ea412cefb0c8",
   "metadata": {},
   "outputs": [
    {
     "data": {
      "text/plain": [
       "array([[1.        , 0.42545896, 0.15735536, ..., 0.        , 0.        ,\n",
       "        0.        ],\n",
       "       [0.42545896, 1.        , 0.06751402, ..., 0.        , 0.        ,\n",
       "        0.        ],\n",
       "       [0.15735536, 0.06751402, 1.        , ..., 0.        , 0.        ,\n",
       "        0.        ],\n",
       "       ...,\n",
       "       [0.        , 0.        , 0.        , ..., 1.        , 0.07069877,\n",
       "        0.06899971],\n",
       "       [0.        , 0.        , 0.        , ..., 0.07069877, 1.        ,\n",
       "        0.32983841],\n",
       "       [0.        , 0.        , 0.        , ..., 0.06899971, 0.32983841,\n",
       "        1.        ]])"
      ]
     },
     "execution_count": 54,
     "metadata": {},
     "output_type": "execute_result"
    }
   ],
   "source": [
    "np.load('./weight_st/W_pedalme.npy')"
   ]
  },
  {
   "cell_type": "code",
   "execution_count": 68,
   "id": "d834be09-0044-4bef-8ef7-5a397b846be1",
   "metadata": {},
   "outputs": [],
   "source": [
    "d = np.array(W_flatten.sum(axis=1))"
   ]
  },
  {
   "cell_type": "code",
   "execution_count": 69,
   "id": "7da63c71-be61-4712-a578-bfc7f24439eb",
   "metadata": {},
   "outputs": [],
   "source": [
    "D = np.diag(d)"
   ]
  },
  {
   "cell_type": "code",
   "execution_count": 70,
   "id": "f1f2d433-79bd-4544-80d4-3b38da083a88",
   "metadata": {},
   "outputs": [],
   "source": [
    "L = np.array(np.diag(1/np.sqrt(d)) @ (D-W_flatten) @ np.diag(1/np.sqrt(d)))"
   ]
  },
  {
   "cell_type": "code",
   "execution_count": 71,
   "id": "47ef6939-aa78-48a0-ac2d-0c28fe7d05db",
   "metadata": {},
   "outputs": [],
   "source": [
    "lamb, Psi = np.linalg.eigh(L)"
   ]
  },
  {
   "cell_type": "code",
   "execution_count": 73,
   "id": "e70ee063-1206-4ead-a1d3-674e019d3add",
   "metadata": {},
   "outputs": [
    {
     "data": {
      "text/plain": [
       "(510, 510)"
      ]
     },
     "execution_count": 73,
     "metadata": {},
     "output_type": "execute_result"
    }
   ],
   "source": [
    "Psi.T.shape"
   ]
  },
  {
   "cell_type": "code",
   "execution_count": 74,
   "id": "bd5a3feb-a56b-4936-928a-409ecd0b68cd",
   "metadata": {},
   "outputs": [
    {
     "data": {
      "text/plain": [
       "(510, 510)"
      ]
     },
     "execution_count": 74,
     "metadata": {},
     "output_type": "execute_result"
    }
   ],
   "source": [
    "Psi.shape"
   ]
  },
  {
   "cell_type": "code",
   "execution_count": 47,
   "id": "4fb570ec-4a7f-43ee-88cf-10e38c69c3a5",
   "metadata": {},
   "outputs": [],
   "source": [
    "np.save('./weight_st/Psi_pedalme.npy', Psi)"
   ]
  },
  {
   "cell_type": "code",
   "execution_count": 48,
   "id": "50761348-63dc-4ecd-8877-93cd27dfee62",
   "metadata": {},
   "outputs": [
    {
     "data": {
      "text/plain": [
       "array([[ 4.61219573e-02, -6.52404719e-02,  6.52791904e-02, ...,\n",
       "        -4.33862149e-04, -2.17206920e-04,  8.97548015e-05],\n",
       "       [ 4.44297451e-02, -6.28451968e-02,  6.28773329e-02, ...,\n",
       "        -2.56832039e-05, -1.49624707e-05,  7.00873447e-06],\n",
       "       [ 3.51291880e-02, -4.95907787e-02,  4.93238061e-02, ...,\n",
       "        -2.71803598e-02, -1.77647577e-02,  8.79413561e-03],\n",
       "       ...,\n",
       "       [ 3.75563137e-02,  5.30576275e-02,  5.28917644e-02, ...,\n",
       "         5.85830960e-03, -4.16888716e-03, -2.15565030e-03],\n",
       "       [ 3.87057680e-02,  5.47153694e-02,  5.46437177e-02, ...,\n",
       "         1.08555123e-03, -6.10976014e-04, -2.76608545e-04],\n",
       "       [ 4.03127107e-02,  5.70025038e-02,  5.69740769e-02, ...,\n",
       "        -2.05662084e-04,  9.91534370e-05,  4.05213281e-05]])"
      ]
     },
     "execution_count": 48,
     "metadata": {},
     "output_type": "execute_result"
    }
   ],
   "source": [
    "np.load('./weight_st/Psi_pedalme.npy')"
   ]
  },
  {
   "cell_type": "markdown",
   "id": "55d00d88-05a5-4407-976e-cc2247627c22",
   "metadata": {},
   "source": [
    "---"
   ]
  },
  {
   "cell_type": "markdown",
   "id": "3b9fee33-aad4-44cf-928a-273e349a5746",
   "metadata": {},
   "source": [
    "## Wikimath"
   ]
  },
  {
   "cell_type": "code",
   "execution_count": 4,
   "id": "b5d2d3d0-1562-4380-acfa-73513d23351e",
   "metadata": {},
   "outputs": [],
   "source": [
    "from torch_geometric_temporal.dataset import WikiMathsDatasetLoader\n",
    "loader3 = WikiMathsDatasetLoader()"
   ]
  },
  {
   "cell_type": "code",
   "execution_count": 5,
   "id": "16a73b43-e2ba-4ee5-a34d-92a18e09c69d",
   "metadata": {},
   "outputs": [],
   "source": [
    "a = loader3.get_dataset(lags=1)"
   ]
  },
  {
   "cell_type": "markdown",
   "id": "3f506136-d19f-4e4e-b78d-b374edc8d659",
   "metadata": {},
   "source": [
    "time,number of nodes "
   ]
  },
  {
   "cell_type": "code",
   "execution_count": 6,
   "id": "df390fc3-d64a-47b8-8869-0a4726359df0",
   "metadata": {},
   "outputs": [],
   "source": [
    "T,N,_ = np.array(a.features).shape"
   ]
  },
  {
   "cell_type": "markdown",
   "id": "08254680-253e-499d-86e7-77f1b836b836",
   "metadata": {},
   "source": [
    "`-` wt,ws,f"
   ]
  },
  {
   "cell_type": "code",
   "execution_count": 7,
   "id": "99369eeb-c774-41b5-a288-cec3966f2ea3",
   "metadata": {},
   "outputs": [],
   "source": [
    "wt = np.zeros((T,T))\n",
    "for i in range(T):\n",
    "    for j in range(T):\n",
    "        if i==j :\n",
    "            wt[i,j] = 0\n",
    "        elif np.abs(i-j) <= 1 : \n",
    "            wt[i,j] = 1"
   ]
  },
  {
   "cell_type": "code",
   "execution_count": 8,
   "id": "d4633e9f-6399-48df-ae4d-075eff1a3f42",
   "metadata": {},
   "outputs": [],
   "source": [
    "mtr = a.edge_index\n",
    "mtr2 = a.edge_weight"
   ]
  },
  {
   "cell_type": "code",
   "execution_count": 9,
   "id": "bf091adb-9bfe-435a-abf6-76b35db17d8f",
   "metadata": {},
   "outputs": [
    {
     "data": {
      "text/plain": [
       "(2, 27079)"
      ]
     },
     "execution_count": 9,
     "metadata": {},
     "output_type": "execute_result"
    }
   ],
   "source": [
    "np.array(mtr).shape"
   ]
  },
  {
   "cell_type": "code",
   "execution_count": 10,
   "id": "923369a1-0c28-4912-aecc-95f25d2a54d8",
   "metadata": {},
   "outputs": [
    {
     "data": {
      "text/plain": [
       "(27079,)"
      ]
     },
     "execution_count": 10,
     "metadata": {},
     "output_type": "execute_result"
    }
   ],
   "source": [
    "np.array(mtr2).shape"
   ]
  },
  {
   "cell_type": "code",
   "execution_count": 12,
   "id": "f5744ee4-1753-4584-8bc5-2a9e12f0194b",
   "metadata": {},
   "outputs": [
    {
     "data": {
      "text/plain": [
       "array([[   0,    0,    0, ..., 1056, 1063, 1065],\n",
       "       [   1,    2,    3, ..., 1059, 1064, 1066]])"
      ]
     },
     "execution_count": 12,
     "metadata": {},
     "output_type": "execute_result"
    }
   ],
   "source": [
    "mtr"
   ]
  },
  {
   "cell_type": "code",
   "execution_count": 40,
   "id": "e0a78d55-fc6a-4540-83fc-a4a89b123a58",
   "metadata": {},
   "outputs": [
    {
     "data": {
      "text/plain": [
       "array([ 1,  4,  2,  5,  3,  6,  7,  9,  8, 12, 10, 13, 16, 11])"
      ]
     },
     "execution_count": 40,
     "metadata": {},
     "output_type": "execute_result"
    }
   ],
   "source": [
    "pd.DataFrame(mtr2).iloc[:,0].unique()"
   ]
  },
  {
   "cell_type": "code",
   "execution_count": 9,
   "id": "034c0e66-ca93-4ba1-a08f-c490e6ddc399",
   "metadata": {},
   "outputs": [],
   "source": [
    "ws = np.zeros((N,N))\n",
    "for i in range(N):\n",
    "    for j in range(mtr2.shape[0]):\n",
    "        if mtr[0][j] == i :\n",
    "            ws[i,mtr[1][j]] = mtr2[j]"
   ]
  },
  {
   "cell_type": "code",
   "execution_count": 10,
   "id": "e2b2ac0d-8348-461a-a3fe-6b940ef0b0c8",
   "metadata": {},
   "outputs": [
    {
     "data": {
      "text/plain": [
       "(1068, 1068)"
      ]
     },
     "execution_count": 10,
     "metadata": {},
     "output_type": "execute_result"
    }
   ],
   "source": [
    "np.array(ws).shape"
   ]
  },
  {
   "cell_type": "code",
   "execution_count": 11,
   "id": "34536770-80d9-486d-8976-8d124cde3c56",
   "metadata": {},
   "outputs": [],
   "source": [
    "f = np.array(a.features).reshape(T,N)"
   ]
  },
  {
   "cell_type": "markdown",
   "id": "bf8da545-cefd-4436-9b45-d7bd664d2b7a",
   "metadata": {},
   "source": [
    "`-` f를 펼침 "
   ]
  },
  {
   "cell_type": "code",
   "execution_count": 12,
   "id": "3008bccf-c6df-476c-85a2-5c0ccfe79a9c",
   "metadata": {},
   "outputs": [],
   "source": [
    "f_flatten = f.reshape(-1,1)\n",
    "# f_flatten"
   ]
  },
  {
   "cell_type": "markdown",
   "id": "99c6f14a-fa3b-4b4e-a4d1-ef699cd9a96b",
   "metadata": {},
   "source": [
    "`-` 펼쳐진 f에 대응하는 W 생성 "
   ]
  },
  {
   "cell_type": "code",
   "execution_count": 13,
   "id": "9cae3b5e-b201-4f3b-8926-f80aaf15e5db",
   "metadata": {},
   "outputs": [],
   "source": [
    "N = len(ws)\n",
    "T = len(wt)\n",
    "Is = np.eye(N,N)\n",
    "lst = [[0]*T for t in range(T)]"
   ]
  },
  {
   "cell_type": "code",
   "execution_count": 13,
   "id": "399f3baf-7441-438d-846b-c49dc0e3bda6",
   "metadata": {},
   "outputs": [],
   "source": [
    "def flatten_weight(ws,wt):\n",
    "  N = len(ws)\n",
    "  T = len(wt)\n",
    "  Is = np.eye(N,N)\n",
    "  lst = [[0]*T for t in range(T)]\n",
    "  for i in range(T):\n",
    "    for j in range(T):\n",
    "      if i==j: \n",
    "        lst[i][j] = ws \n",
    "      elif abs(i-j)==1:\n",
    "        lst[i][j] = Is\n",
    "      else:\n",
    "        lst[i][j] = Is*0\n",
    "  return np.concatenate([np.concatenate(l,axis=1) for l in lst],axis=0)"
   ]
  },
  {
   "cell_type": "code",
   "execution_count": null,
   "id": "35adfc4b-7866-4787-b347-9856a51de987",
   "metadata": {},
   "outputs": [],
   "source": [
    "W_flatten = flatten_weight(ws,wt)\n",
    "W_flatten"
   ]
  },
  {
   "cell_type": "markdown",
   "id": "438e4077-6322-4eea-aa03-e644b90184da",
   "metadata": {},
   "source": [
    "`-` trim\n",
    "\n",
    "```Python\n",
    "ftrimed_flatten = trim(f_flatten,W_flatten)\n",
    "```"
   ]
  },
  {
   "cell_type": "code",
   "execution_count": null,
   "id": "723191a6-d029-4127-a16f-50dc790fd9b6",
   "metadata": {},
   "outputs": [],
   "source": [
    "np.save('./weight_st/W_wikimath.npy', W_flatten)"
   ]
  },
  {
   "cell_type": "code",
   "execution_count": null,
   "id": "84ce46c9-d409-41c6-966f-e8385741d82e",
   "metadata": {},
   "outputs": [],
   "source": [
    "np.load('./weight_st/W_wikimath.npy')"
   ]
  },
  {
   "cell_type": "markdown",
   "id": "f5036947-153a-4e44-bf88-4a1d27e8b2f5",
   "metadata": {},
   "source": [
    "---"
   ]
  },
  {
   "cell_type": "markdown",
   "id": "a8b7a82e-4037-445c-a9b5-9751f1ce86cc",
   "metadata": {},
   "source": [
    "## Windmillsmall"
   ]
  },
  {
   "cell_type": "code",
   "execution_count": 12,
   "id": "0e44ec0e-4143-4c35-93c3-0749e4d49c60",
   "metadata": {},
   "outputs": [],
   "source": [
    "from torch_geometric_temporal.dataset import WindmillOutputSmallDatasetLoader\n",
    "loader6 = WindmillOutputSmallDatasetLoader()"
   ]
  },
  {
   "cell_type": "code",
   "execution_count": 13,
   "id": "17cf5096-8ed3-40c3-a481-ba14286b4438",
   "metadata": {},
   "outputs": [],
   "source": [
    "a = loader6.get_dataset(lags=1)"
   ]
  },
  {
   "cell_type": "markdown",
   "id": "bb424d03-911c-4d3c-864a-1c9dd41707d3",
   "metadata": {},
   "source": [
    "time,number of nodes "
   ]
  },
  {
   "cell_type": "code",
   "execution_count": 14,
   "id": "523158fa-31a3-451c-8a76-1d0f7fe1ff5c",
   "metadata": {},
   "outputs": [],
   "source": [
    "T,N,_ = np.array(a.features).shape"
   ]
  },
  {
   "cell_type": "markdown",
   "id": "2b4f8ce8-23e5-4f94-b493-dcb05a17b25d",
   "metadata": {},
   "source": [
    "`-` wt,ws,f"
   ]
  },
  {
   "cell_type": "code",
   "execution_count": 15,
   "id": "d90816e5-2e8d-41a6-b20d-851dd59715cd",
   "metadata": {},
   "outputs": [],
   "source": [
    "wt = np.zeros((T,T))\n",
    "for i in range(T):\n",
    "    for j in range(T):\n",
    "        if i==j :\n",
    "            wt[i,j] = 0\n",
    "        elif np.abs(i-j) <= 1 : \n",
    "            wt[i,j] = 1"
   ]
  },
  {
   "cell_type": "code",
   "execution_count": 16,
   "id": "d44b8c24-a816-4d78-ad4b-6a527a63cdd3",
   "metadata": {},
   "outputs": [],
   "source": [
    "mtr = a.edge_index\n",
    "mtr2 = a.edge_weight"
   ]
  },
  {
   "cell_type": "code",
   "execution_count": 17,
   "id": "de48a06c-3355-468e-bc9e-cf71bb3748dc",
   "metadata": {},
   "outputs": [],
   "source": [
    "ws = np.zeros((N,N))\n",
    "for i in range(N):\n",
    "    for j in range(mtr2.shape[0]):\n",
    "        if mtr[0][j] == i :\n",
    "            ws[i,mtr[1][j]] = mtr2[j]"
   ]
  },
  {
   "cell_type": "code",
   "execution_count": 18,
   "id": "14bb7a2c-4c73-400a-8cf2-4fc43e4be47f",
   "metadata": {},
   "outputs": [
    {
     "data": {
      "text/plain": [
       "(11, 11)"
      ]
     },
     "execution_count": 18,
     "metadata": {},
     "output_type": "execute_result"
    }
   ],
   "source": [
    "np.array(ws).shape"
   ]
  },
  {
   "cell_type": "code",
   "execution_count": 19,
   "id": "852b5323-a955-4077-8030-e167dfb566ca",
   "metadata": {},
   "outputs": [],
   "source": [
    "f = np.array(a.features).reshape(T,N)"
   ]
  },
  {
   "cell_type": "markdown",
   "id": "eb14fe60-4248-4d32-bcd4-d648b53ba7da",
   "metadata": {},
   "source": [
    "`-` f를 펼침 "
   ]
  },
  {
   "cell_type": "code",
   "execution_count": 20,
   "id": "70e8d19a-01e2-4308-92b9-716cd3b18660",
   "metadata": {},
   "outputs": [],
   "source": [
    "f_flatten = f.reshape(-1,1)\n",
    "# f_flatten"
   ]
  },
  {
   "cell_type": "markdown",
   "id": "fa80760f-0300-4d44-9d81-9332809827d5",
   "metadata": {},
   "source": [
    "`-` 펼쳐진 f에 대응하는 W 생성 "
   ]
  },
  {
   "cell_type": "code",
   "execution_count": 21,
   "id": "111aa025-d263-4051-ae0e-222411dd1917",
   "metadata": {},
   "outputs": [],
   "source": [
    "def flatten_weight(ws,wt):\n",
    "  N = len(ws)\n",
    "  T = len(wt)\n",
    "  Is = np.eye(N,N)\n",
    "  lst = [[0]*T for t in range(T)]\n",
    "  for i in range(T):\n",
    "    for j in range(T):\n",
    "      if i==j: \n",
    "        lst[i][j] = ws \n",
    "      elif abs(i-j)==1:\n",
    "        lst[i][j] = Is\n",
    "      else:\n",
    "        lst[i][j] = Is*0\n",
    "  return np.concatenate([np.concatenate(l,axis=1) for l in lst],axis=0)"
   ]
  },
  {
   "cell_type": "code",
   "execution_count": null,
   "id": "0e290108-8f92-4588-b33d-e5e1c2fdfdca",
   "metadata": {},
   "outputs": [],
   "source": [
    "W_flatten = flatten_weight(ws,wt)\n",
    "W_flatten"
   ]
  },
  {
   "cell_type": "markdown",
   "id": "476f04ae-3e87-4a14-8532-ccb92c4ba440",
   "metadata": {},
   "source": [
    "`-` trim\n",
    "\n",
    "```Python\n",
    "ftrimed_flatten = trim(f_flatten,W_flatten)\n",
    "```"
   ]
  },
  {
   "cell_type": "code",
   "execution_count": null,
   "id": "d33a8e66-d367-4726-9fbf-f8a65e229aa6",
   "metadata": {},
   "outputs": [],
   "source": [
    "np.save('./weight_st/W_windmillsmall.npy', W_flatten)"
   ]
  },
  {
   "cell_type": "code",
   "execution_count": null,
   "id": "3de7e202-e5d2-4501-940d-8badf8ddaa01",
   "metadata": {},
   "outputs": [],
   "source": [
    "np.load('./weight_st/W_windmillsmall.npy')"
   ]
  },
  {
   "cell_type": "code",
   "execution_count": null,
   "id": "30b34522-8d25-4ccd-b301-18e90949f871",
   "metadata": {},
   "outputs": [],
   "source": []
  },
  {
   "cell_type": "code",
   "execution_count": null,
   "id": "fa9eee23-d7ca-4527-b523-2b925f2506a2",
   "metadata": {},
   "outputs": [],
   "source": []
  }
 ],
 "metadata": {
  "kernelspec": {
   "display_name": "Python 3 (ipykernel)",
   "language": "python",
   "name": "python3"
  },
  "language_info": {
   "codemirror_mode": {
    "name": "ipython",
    "version": 3
   },
   "file_extension": ".py",
   "mimetype": "text/x-python",
   "name": "python",
   "nbconvert_exporter": "python",
   "pygments_lexer": "ipython3",
   "version": "3.8.12"
  }
 },
 "nbformat": 4,
 "nbformat_minor": 5
}

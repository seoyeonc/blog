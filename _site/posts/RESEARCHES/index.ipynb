{
  "cells": [
    {
      "cell_type": "markdown",
      "metadata": {},
      "source": [
        "# RESEARCHES\n",
        "\n",
        "SEOYEON CHOI  \n",
        "2023-07-05\n",
        "\n",
        "About RESEARCHES"
      ],
      "id": "a54407c2-d4ec-40e3-8295-047de191a548"
    }
  ],
  "nbformat": 4,
  "nbformat_minor": 5,
  "metadata": {
    "kernelspec": {
      "display_name": "Python 3",
      "language": "python",
      "name": "python3"
    }
  }
}
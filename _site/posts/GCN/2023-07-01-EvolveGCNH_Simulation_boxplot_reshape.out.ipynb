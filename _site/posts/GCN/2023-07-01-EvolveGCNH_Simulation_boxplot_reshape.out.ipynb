{
  "cells": [
    {
      "cell_type": "markdown",
      "metadata": {},
      "source": [
        "# EvolveGCNH_Simulation_reshape\n",
        "\n",
        "SEOYEON CHOI  \n",
        "7/1/23\n",
        "\n",
        "> Simulation Study"
      ],
      "id": "6c2446ef-18d4-40b4-9730-84f2186c2a4a"
    },
    {
      "cell_type": "code",
      "execution_count": 70,
      "metadata": {},
      "outputs": [],
      "source": [
        "import itstgcnEvolveGCNH\n",
        "import torch\n",
        "import itstgcnEvolveGCNH.planner \n",
        "import pandas as pd\n",
        "\n",
        "import numpy as np\n",
        "import random"
      ],
      "id": "70e79665-b925-487c-96ce-f4d8fc4e2124"
    },
    {
      "cell_type": "code",
      "execution_count": 12,
      "metadata": {},
      "outputs": [],
      "source": [
        "from torch_geometric_temporal.dataset import WikiMathsDatasetLoader\n",
        "loader3 = WikiMathsDatasetLoader()"
      ],
      "id": "a363d0e3-98c2-46fc-aa63-6f596f84140e"
    },
    {
      "cell_type": "code",
      "execution_count": 13,
      "metadata": {},
      "outputs": [],
      "source": [
        "from torch_geometric_temporal.dataset import MontevideoBusDatasetLoader\n",
        "loader10 = MontevideoBusDatasetLoader()"
      ],
      "id": "0835ce9b-8d4f-44cf-9767-d13db5d69df6"
    },
    {
      "cell_type": "markdown",
      "metadata": {},
      "source": [
        "# wiki, monte 안 돌림"
      ],
      "id": "7927576b-bfab-412e-9cc4-d8128143df84"
    },
    {
      "cell_type": "code",
      "execution_count": null,
      "metadata": {},
      "outputs": [],
      "source": [
        "plans_stgcn_rand = {\n",
        "    'max_iteration': 5, \n",
        "    'method': ['STGCN', 'IT-STGCN'],\n",
        "    'mrate': [0.5],\n",
        "    'lags': [8], \n",
        "    'nof_filters': [12], \n",
        "    'inter_method': ['linear'],\n",
        "    'epoch': [50]\n",
        "}"
      ],
      "id": "5ece854c-cda7-4e44-9af2-ba560e75e848"
    },
    {
      "cell_type": "code",
      "execution_count": null,
      "metadata": {},
      "outputs": [],
      "source": [
        "plnr = itstgcnEvolveGCNH.planner.PLNR_STGCN_RAND(plans_stgcn_rand,loader3,dataset_name='wikimath')\n",
        "plnr.simulate()"
      ],
      "id": "37fb40f6-5008-4d58-9022-9a6d2c20e112"
    },
    {
      "cell_type": "code",
      "execution_count": null,
      "metadata": {},
      "outputs": [],
      "source": [
        "plnr = itstgcnEvolveGCNH.planner.PLNR_STGCN_RAND(plans_stgcn_rand,loader3,dataset_name='wikimath')\n",
        "plnr.simulate()"
      ],
      "id": "6e950270-2944-45c4-a160-56819544d2b3"
    },
    {
      "cell_type": "code",
      "execution_count": null,
      "metadata": {},
      "outputs": [],
      "source": [
        "plnr = itstgcnEvolveGCNH.planner.PLNR_STGCN_RAND(plans_stgcn_rand,loader3,dataset_name='wikimath')\n",
        "plnr.simulate()"
      ],
      "id": "ea95ce70-5f34-4cf5-8654-f4bbef4e1fa8"
    },
    {
      "cell_type": "code",
      "execution_count": null,
      "metadata": {},
      "outputs": [],
      "source": [
        "plnr = itstgcnEvolveGCNH.planner.PLNR_STGCN_RAND(plans_stgcn_rand,loader3,dataset_name='wikimath')\n",
        "plnr.simulate()"
      ],
      "id": "80b8b035-4ffe-47f8-9ad6-4ec67fc942bf"
    },
    {
      "cell_type": "code",
      "execution_count": null,
      "metadata": {},
      "outputs": [],
      "source": [
        "plnr = itstgcnEvolveGCNH.planner.PLNR_STGCN_RAND(plans_stgcn_rand,loader3,dataset_name='wikimath')\n",
        "plnr.simulate()"
      ],
      "id": "f726f5b0-70db-47ab-903d-2d7b19509403"
    },
    {
      "cell_type": "code",
      "execution_count": null,
      "metadata": {},
      "outputs": [],
      "source": [
        "plnr = itstgcnEvolveGCNH.planner.PLNR_STGCN_RAND(plans_stgcn_rand,loader3,dataset_name='wikimath')\n",
        "plnr.simulate()"
      ],
      "id": "37321470-2966-4777-9526-bb835397b72f"
    },
    {
      "cell_type": "code",
      "execution_count": null,
      "metadata": {},
      "outputs": [],
      "source": [
        "plans_stgcn_rand = {\n",
        "    'max_iteration': 5, \n",
        "    'method': ['STGCN', 'IT-STGCN'],\n",
        "    'mrate': [0.6],\n",
        "    'lags': [8], \n",
        "    'nof_filters': [12], \n",
        "    'inter_method': ['linear'],\n",
        "    'epoch': [50]\n",
        "}"
      ],
      "id": "78c1c798-9a40-4ac0-aaea-c6f229a1ad54"
    },
    {
      "cell_type": "code",
      "execution_count": null,
      "metadata": {},
      "outputs": [],
      "source": [
        "plnr = itstgcnEvolveGCNH.planner.PLNR_STGCN_RAND(plans_stgcn_rand,loader3,dataset_name='wikimath')\n",
        "plnr.simulate()"
      ],
      "id": "d9aa6752-be25-44e0-bf13-9a369f64e49e"
    },
    {
      "cell_type": "code",
      "execution_count": null,
      "metadata": {},
      "outputs": [],
      "source": [
        "plnr = itstgcnEvolveGCNH.planner.PLNR_STGCN_RAND(plans_stgcn_rand,loader3,dataset_name='wikimath')\n",
        "plnr.simulate()"
      ],
      "id": "82afbc4f-a499-4417-a724-fcc8ecb03990"
    },
    {
      "cell_type": "code",
      "execution_count": null,
      "metadata": {},
      "outputs": [],
      "source": [
        "plnr = itstgcnEvolveGCNH.planner.PLNR_STGCN_RAND(plans_stgcn_rand,loader3,dataset_name='wikimath')\n",
        "plnr.simulate()"
      ],
      "id": "bb35dd3c-8186-4ffc-a7d5-be77527c7c63"
    },
    {
      "cell_type": "code",
      "execution_count": null,
      "metadata": {},
      "outputs": [],
      "source": [
        "plnr = itstgcnEvolveGCNH.planner.PLNR_STGCN_RAND(plans_stgcn_rand,loader3,dataset_name='wikimath')\n",
        "plnr.simulate()"
      ],
      "id": "49ce0dc2-ec5c-42d2-9edc-dd2255809522"
    },
    {
      "cell_type": "code",
      "execution_count": null,
      "metadata": {},
      "outputs": [],
      "source": [
        "plnr = itstgcnEvolveGCNH.planner.PLNR_STGCN_RAND(plans_stgcn_rand,loader3,dataset_name='wikimath')\n",
        "plnr.simulate()"
      ],
      "id": "67029b86-5830-426b-9793-a141b7422a6b"
    },
    {
      "cell_type": "code",
      "execution_count": null,
      "metadata": {},
      "outputs": [],
      "source": [
        "plnr = itstgcnEvolveGCNH.planner.PLNR_STGCN_RAND(plans_stgcn_rand,loader3,dataset_name='wikimath')\n",
        "plnr.simulate()"
      ],
      "id": "7810f3af-b4d4-4f1c-a7a5-1d1b027fa0bf"
    },
    {
      "cell_type": "code",
      "execution_count": null,
      "metadata": {},
      "outputs": [],
      "source": [
        "plans_stgcn_rand = {\n",
        "    'max_iteration': 10, \n",
        "    'method': ['STGCN', 'IT-STGCN'],\n",
        "    'mrate': [0.3],\n",
        "    'lags': [4], \n",
        "    'nof_filters': [12], \n",
        "    'inter_method': ['nearest'],\n",
        "    'epoch': [50]\n",
        "}"
      ],
      "id": "74d3e23a-90c8-4149-b2bb-cfad68a6058c"
    },
    {
      "cell_type": "code",
      "execution_count": null,
      "metadata": {},
      "outputs": [],
      "source": [
        "plnr = itstgcnEvolveGCNH.planner.PLNR_STGCN_RAND(plans_stgcn_rand,loader10,dataset_name='monte')\n",
        "plnr.simulate()"
      ],
      "id": "af61e80d-79c8-4654-9bcf-9d68bce1682b"
    },
    {
      "cell_type": "code",
      "execution_count": null,
      "metadata": {},
      "outputs": [],
      "source": [
        "plnr = itstgcnEvolveGCNH.planner.PLNR_STGCN_RAND(plans_stgcn_rand,loader10,dataset_name='monte')\n",
        "plnr.simulate()"
      ],
      "id": "8ba35734-3712-431a-8f36-ba3bd38ba615"
    },
    {
      "cell_type": "code",
      "execution_count": null,
      "metadata": {},
      "outputs": [],
      "source": [
        "plnr = itstgcnEvolveGCNH.planner.PLNR_STGCN_RAND(plans_stgcn_rand,loader10,dataset_name='monte')\n",
        "plnr.simulate()"
      ],
      "id": "be6b5337-4c5e-4abe-9d16-5828f82ec7b0"
    },
    {
      "cell_type": "code",
      "execution_count": null,
      "metadata": {},
      "outputs": [],
      "source": [
        "plans_stgcn_rand = {\n",
        "    'max_iteration': 10, \n",
        "    'method': ['STGCN', 'IT-STGCN'],\n",
        "    'mrate': [0.5],\n",
        "    'lags': [4], \n",
        "    'nof_filters': [12], \n",
        "    'inter_method': ['nearest'],\n",
        "    'epoch': [50]\n",
        "}"
      ],
      "id": "09ecd0f3-9c73-4f2f-8351-5f87ce71f047"
    },
    {
      "cell_type": "code",
      "execution_count": null,
      "metadata": {},
      "outputs": [],
      "source": [
        "plnr = itstgcnEvolveGCNH.planner.PLNR_STGCN_RAND(plans_stgcn_rand,loader10,dataset_name='monte')\n",
        "plnr.simulate()"
      ],
      "id": "1bab8564-5515-444a-9783-27c053504e67"
    },
    {
      "cell_type": "code",
      "execution_count": null,
      "metadata": {},
      "outputs": [],
      "source": [
        "plnr = itstgcnEvolveGCNH.planner.PLNR_STGCN_RAND(plans_stgcn_rand,loader10,dataset_name='monte')\n",
        "plnr.simulate()"
      ],
      "id": "e2228f5e-fe8b-4940-83cb-fa4e3d596bda"
    },
    {
      "cell_type": "code",
      "execution_count": null,
      "metadata": {},
      "outputs": [],
      "source": [
        "plnr = itstgcnEvolveGCNH.planner.PLNR_STGCN_RAND(plans_stgcn_rand,loader10,dataset_name='monte')\n",
        "plnr.simulate()"
      ],
      "id": "c3124d21-faee-491d-8c2f-eee029d2df5c"
    },
    {
      "cell_type": "code",
      "execution_count": null,
      "metadata": {},
      "outputs": [],
      "source": [
        "plans_stgcn_rand = {\n",
        "    'max_iteration': 10, \n",
        "    'method': ['STGCN', 'IT-STGCN'],\n",
        "    'mrate': [0.7],\n",
        "    'lags': [4], \n",
        "    'nof_filters': [12], \n",
        "    'inter_method': ['nearest'],\n",
        "    'epoch': [50]\n",
        "}"
      ],
      "id": "eb61939e-7bea-490b-826e-ddcf8b7b10e6"
    },
    {
      "cell_type": "code",
      "execution_count": null,
      "metadata": {},
      "outputs": [],
      "source": [
        "plnr = itstgcnEvolveGCNH.planner.PLNR_STGCN_RAND(plans_stgcn_rand,loader10,dataset_name='monte')\n",
        "plnr.simulate()"
      ],
      "id": "71767734-4fa7-4dd5-8569-9da56036795f"
    },
    {
      "cell_type": "code",
      "execution_count": null,
      "metadata": {},
      "outputs": [],
      "source": [
        "plnr = itstgcnEvolveGCNH.planner.PLNR_STGCN_RAND(plans_stgcn_rand,loader10,dataset_name='monte')\n",
        "plnr.simulate()"
      ],
      "id": "e98341ad-df34-481f-9347-743e83321356"
    },
    {
      "cell_type": "code",
      "execution_count": null,
      "metadata": {},
      "outputs": [],
      "source": [
        "plnr = itstgcnEvolveGCNH.planner.PLNR_STGCN_RAND(plans_stgcn_rand,loader10,dataset_name='monte')\n",
        "plnr.simulate()"
      ],
      "id": "eb09e157-47f3-4d19-a9af-e7452ecaf3c3"
    },
    {
      "cell_type": "markdown",
      "metadata": {},
      "source": [
        "# Import"
      ],
      "id": "a23128db-fa81-4a3c-81bc-63e4d63c2d5a"
    },
    {
      "cell_type": "code",
      "execution_count": 2,
      "metadata": {},
      "outputs": [],
      "source": [
        "import matplotlib.pyplot as plt\n",
        "import pandas as pd\n",
        "import numpy as np"
      ],
      "id": "564cbd70-0de1-4e9d-ad86-bc3b1b9cd6d5"
    },
    {
      "cell_type": "markdown",
      "metadata": {},
      "source": [
        "# Fivenodes"
      ],
      "id": "7a081fba-c384-4780-ad67-67f808c1315e"
    },
    {
      "cell_type": "code",
      "execution_count": 32,
      "metadata": {},
      "outputs": [],
      "source": [
        "df1 = pd.read_csv('./simulation_results/2023-07-01_09-36-19.csv')\n",
        "df2 = pd.read_csv('./simulation_results/2023-07-01_09-54-35.csv')\n",
        "df3 = pd.read_csv('./simulation_results/2023-07-01_10-13-37.csv')\n",
        "df4 = pd.read_csv('./simulation_results/2023-07-01_10-32-11.csv')\n",
        "df5 = pd.read_csv('./simulation_results/2023-07-01_10-51-03.csv')\n",
        "df6 = pd.read_csv('./simulation_results/2023-07-01_11-09-55.csv')\n",
        "df7 = pd.read_csv('./simulation_results/2023-07-01_11-27-48.csv')\n",
        "df8 = pd.read_csv('./simulation_results/2023-07-01_11-46-45.csv')"
      ],
      "id": "38ae6940-7728-41ae-bd24-c5a0bc2e65c4"
    },
    {
      "cell_type": "code",
      "execution_count": 33,
      "metadata": {},
      "outputs": [],
      "source": [
        "df9 = pd.read_csv('./simulation_results/2023-07-20_00-39-07.csv')\n",
        "df10 = pd.read_csv('./simulation_results/2023-07-20_01-02-29.csv')\n",
        "df11 = pd.read_csv('./simulation_results/2023-07-20_01-25-27.csv')\n",
        "df12 = pd.read_csv('./simulation_results/2023-07-20_01-47-51.csv')\n",
        "df13 = pd.read_csv('./simulation_results/2023-07-20_02-10-50.csv')\n",
        "df14 = pd.read_csv('./simulation_results/2023-07-20_02-33-09.csv')"
      ],
      "id": "4ddb6dec-2411-4cbc-9b41-e0116a4c61ce"
    },
    {
      "cell_type": "code",
      "execution_count": 34,
      "metadata": {},
      "outputs": [],
      "source": [
        "data = pd.concat([df1,df2,df3,df4,df5,df6,df7,df8,df9,df10,df11,df12,df13,df14],axis=0)"
      ],
      "id": "126b432f-f4af-4fe8-804d-7467d732a2be"
    },
    {
      "cell_type": "code",
      "execution_count": 35,
      "metadata": {},
      "outputs": [],
      "source": [
        "data.to_csv('./simulation_results/Real_simulation_reshape/EvolveGCNH_fivedones_Simulation.csv',index=False)"
      ],
      "id": "1aca9ab3-6e26-49d6-beba-6f3fde439369"
    },
    {
      "cell_type": "code",
      "execution_count": 36,
      "metadata": {},
      "outputs": [],
      "source": [
        "data = pd.read_csv('./simulation_results/Real_simulation_reshape/EvolveGCNH_fivedones_Simulation.csv')"
      ],
      "id": "7624515a-eb0e-4526-a422-a3f6fe050c68"
    },
    {
      "cell_type": "markdown",
      "metadata": {},
      "source": [
        "## Baseline"
      ],
      "id": "f4e228a0-4b97-4e45-87cc-de88a5d25255"
    },
    {
      "cell_type": "code",
      "execution_count": 37,
      "metadata": {
        "tags": []
      },
      "outputs": [],
      "source": [
        "data.query(\"method!='GNAR' and mrate==0\").plot.box(backend='plotly',x='mrate',color='method',y='mse',facet_col='lags',facet_row='nof_filters',height=600)\n"
      ],
      "id": "9c730034-c7b5-4e11-94d2-4c625de9b976"
    },
    {
      "cell_type": "markdown",
      "metadata": {},
      "source": [
        "## Random"
      ],
      "id": "fb887b19-4375-4874-98d8-7ce50a14a04e"
    },
    {
      "cell_type": "code",
      "execution_count": 38,
      "metadata": {},
      "outputs": [],
      "source": [
        "data.query(\"method!='GNAR' and mtype =='rand'\").plot.box(backend='plotly',x='mrate',color='method',y='mse',facet_col='inter_method',facet_row='nof_filters',height=600)\n",
        "\n"
      ],
      "id": "5ffcea62-8dc7-40f5-868a-f755a047c637"
    },
    {
      "cell_type": "markdown",
      "metadata": {},
      "source": [
        "## Block"
      ],
      "id": "20d9b935-73a3-4d60-be9b-53039bfe01cd"
    },
    {
      "cell_type": "code",
      "execution_count": 39,
      "metadata": {},
      "outputs": [],
      "source": [
        "data.query(\"method!='GNAR' and mtype =='block' \").plot.box(backend='plotly',x='mrate',color='method',y='mse',facet_col='inter_method',facet_row='nof_filters',height=600)\n"
      ],
      "id": "19d05a73-e141-45dc-bba0-4a9426c1c87c"
    },
    {
      "cell_type": "markdown",
      "metadata": {},
      "source": [
        "# chickenpox"
      ],
      "id": "ba52e1f5-5820-4cde-832d-dec53940d15b"
    },
    {
      "cell_type": "code",
      "execution_count": 48,
      "metadata": {},
      "outputs": [],
      "source": [
        "df1 = pd.read_csv('./simulation_results/2023-07-01_12-47-57.csv') # GNAR random\n",
        "df2 = pd.read_csv('./simulation_results/2023-07-01_13-48-35.csv') # GNAR block\n",
        "df3 = pd.read_csv('./simulation_results/2023-07-01_14-17-12.csv')\n",
        "df4 = pd.read_csv('./simulation_results/2023-07-01_14-46-07.csv') \n",
        "df5 = pd.read_csv('./simulation_results/2023-07-01_15-43-30.csv')\n",
        "df6 = pd.read_csv('./simulation_results/2023-07-01_16-43-22.csv') "
      ],
      "id": "7350d7c5-2013-4288-9239-c391cbeca42c"
    },
    {
      "cell_type": "code",
      "execution_count": 49,
      "metadata": {},
      "outputs": [],
      "source": [
        "df7 = pd.read_csv('./simulation_results/2023-07-20_03-10-09.csv') # GNAR random\n",
        "df8 = pd.read_csv('./simulation_results/2023-07-20_03-46-59.csv') # GNAR block\n",
        "df9 = pd.read_csv('./simulation_results/2023-07-20_04-22-14.csv')\n",
        "df10 = pd.read_csv('./simulation_results/2023-07-20_04-58-38.csv') "
      ],
      "id": "5cb45080-029b-4b39-acb6-eee2d9e1a6f9"
    },
    {
      "cell_type": "code",
      "execution_count": 50,
      "metadata": {},
      "outputs": [],
      "source": [
        "data = pd.concat([df1,df2,df3,df4,df5,df6,df7,df8,df9,df10],axis=0)"
      ],
      "id": "557b0986-93e9-43ec-844f-2e93ca0390fa"
    },
    {
      "cell_type": "code",
      "execution_count": 51,
      "metadata": {},
      "outputs": [],
      "source": [
        "data.to_csv('./simulation_results/Real_simulation_reshape/EvolveGCNH_chikenpox_Simulation.csv',index=False)"
      ],
      "id": "c42ad338-6e5e-4adf-9a77-9417a187043c"
    },
    {
      "cell_type": "code",
      "execution_count": 52,
      "metadata": {},
      "outputs": [],
      "source": [
        "data = pd.read_csv('./simulation_results/Real_simulation_reshape/EvolveGCNH_chikenpox_Simulation.csv')"
      ],
      "id": "cc4fa898-da65-42c9-9e72-ba6e130c88a6"
    },
    {
      "cell_type": "markdown",
      "metadata": {},
      "source": [
        "## Baseline"
      ],
      "id": "1b0e75a6-1885-4c36-a6c9-98652fceaf4d"
    },
    {
      "cell_type": "code",
      "execution_count": 53,
      "metadata": {},
      "outputs": [],
      "source": [
        "data.query(\"method!='GNAR' and mrate ==0 \").plot.box(backend='plotly',x='mrate',color='method',y='mse',facet_col='nof_filters',height=600)\n"
      ],
      "id": "cf775c1a-68dc-4bba-a145-3ed5a68d6466"
    },
    {
      "cell_type": "markdown",
      "metadata": {},
      "source": [
        "## Random"
      ],
      "id": "d35e2f46-c053-4e17-b461-9353858ca38f"
    },
    {
      "cell_type": "code",
      "execution_count": 58,
      "metadata": {},
      "outputs": [],
      "source": [
        "data.query(\"method!='GNAR' and mtype =='rand'\").plot.box(backend='plotly',x='mrate',color='method',y='mse',facet_row='inter_method',height=800)\n"
      ],
      "id": "3e8003cf-ccf5-40cc-acce-ee52e1495864"
    },
    {
      "cell_type": "markdown",
      "metadata": {},
      "source": [
        "## Block"
      ],
      "id": "8a6fcb49-37e1-4a86-ba28-94e13402e107"
    },
    {
      "cell_type": "code",
      "execution_count": 59,
      "metadata": {},
      "outputs": [],
      "source": [
        "data.query(\"method!='GNAR' and mtype =='block'\").plot.box(backend='plotly',x='mrate',color='method',y='mse',facet_col='inter_method',facet_row='lags',height=800)\n"
      ],
      "id": "4238b763-b1d7-427b-a34c-7453b0070059"
    },
    {
      "cell_type": "markdown",
      "metadata": {},
      "source": [
        "# Pedalme"
      ],
      "id": "6182d5ad-0241-47cf-9407-b12ede6d440b"
    },
    {
      "cell_type": "code",
      "execution_count": 60,
      "metadata": {},
      "outputs": [],
      "source": [
        "df1 = pd.read_csv('./simulation_results/2023-07-01_17-09-48.csv') \n",
        "df2 = pd.read_csv('./simulation_results/2023-07-01_17-03-22.csv')  "
      ],
      "id": "71718924-8db8-49bf-8e21-6db5e52a9142"
    },
    {
      "cell_type": "code",
      "execution_count": 61,
      "metadata": {},
      "outputs": [],
      "source": [
        "df3 = pd.read_csv('./simulation_results/2023-07-20_05-13-15.csv') "
      ],
      "id": "6f5240d6-e23d-4682-b270-a0bee0a4dd3d"
    },
    {
      "cell_type": "code",
      "execution_count": 62,
      "metadata": {},
      "outputs": [],
      "source": [
        "data = pd.concat([df1,df2,df3],axis=0)"
      ],
      "id": "03ca954d-5c77-4378-ae48-d15aab6bfef3"
    },
    {
      "cell_type": "code",
      "execution_count": 63,
      "metadata": {},
      "outputs": [],
      "source": [
        "data.to_csv('./simulation_results/Real_simulation_reshape/EvolveGCNH_pedalme_Simulation.csv',index=False)"
      ],
      "id": "bb7947dc-6794-44e1-95a8-8d32c6e5af0f"
    },
    {
      "cell_type": "code",
      "execution_count": 64,
      "metadata": {},
      "outputs": [],
      "source": [
        "data = pd.read_csv('./simulation_results/Real_simulation_reshape/EvolveGCNH_pedalme_Simulation.csv')"
      ],
      "id": "70ba4a95-df8a-4cbb-9f2e-e8f798535f18"
    },
    {
      "cell_type": "markdown",
      "metadata": {},
      "source": [
        "## Baseline"
      ],
      "id": "f4875059-29ba-47cd-97db-688eab536a84"
    },
    {
      "cell_type": "code",
      "execution_count": 65,
      "metadata": {},
      "outputs": [],
      "source": [
        "data.query(\"mrate ==0 and lags!=2\").plot.box(backend='plotly',x='epoch',color='method',y='mse',facet_col='nof_filters',facet_row='lags',height=400)\n"
      ],
      "id": "cfcca7d8-3740-4098-8ea8-3323d2ac11cd"
    },
    {
      "cell_type": "markdown",
      "metadata": {},
      "source": [
        "## random"
      ],
      "id": "33554df7-6874-40e5-93e2-bbfa9e98d422"
    },
    {
      "cell_type": "code",
      "execution_count": 68,
      "metadata": {},
      "outputs": [],
      "source": [
        "data.query(\"method!='GNAR' and mtype =='rand' and lags!=2\").plot.box(backend='plotly',x='mrate',color='method',y='mse',facet_row='inter_method',height=800)\n"
      ],
      "id": "e3fbec48-922e-4d9e-88ee-6bfd5729d548"
    },
    {
      "cell_type": "markdown",
      "metadata": {},
      "source": [
        "## block"
      ],
      "id": "fdbb1667-9571-4e10-9fec-a74e14e68c62"
    },
    {
      "cell_type": "code",
      "execution_count": 69,
      "metadata": {},
      "outputs": [],
      "source": [
        "data.query(\"method!='GNAR' and mtype =='block' and lags!=2 \").plot.box(backend='plotly',x='mrate',color='method',y='mse',facet_col='nof_filters',facet_row='inter_method',height=800)\n"
      ],
      "id": "f8154052-a7ae-4861-8892-cf608754c51c"
    },
    {
      "cell_type": "markdown",
      "metadata": {},
      "source": [
        "## weight matrix time, node 고려한 결과"
      ],
      "id": "d21ae84a-b276-4526-9cf5-5c30a190a95d"
    },
    {
      "cell_type": "code",
      "execution_count": 79,
      "metadata": {},
      "outputs": [],
      "source": [
        "df1 = pd.read_csv('./simulation_results/2023-07-02_07-01-12.csv')\n",
        "df2 = pd.read_csv('./simulation_results/2023-07-02_07-19-21.csv')"
      ],
      "id": "310d53d6-b1a9-47bc-996c-a29b3ba4aee5"
    },
    {
      "cell_type": "code",
      "execution_count": 80,
      "metadata": {},
      "outputs": [],
      "source": [
        "data2 = pd.concat([df1,df2],axis=0)"
      ],
      "id": "6f687fd9-f333-491d-b12d-280a3d2d070f"
    },
    {
      "cell_type": "code",
      "execution_count": 81,
      "metadata": {},
      "outputs": [],
      "source": [
        "data2.to_csv('./simulation_results/Real_simulation_reshape/EvolveGCNH_pedalme_Simulation_itstgcnsnd.csv',index=False)"
      ],
      "id": "72b60e7d-567a-4d35-b905-b8afbc7c016d"
    },
    {
      "cell_type": "code",
      "execution_count": 82,
      "metadata": {},
      "outputs": [],
      "source": [
        "data2 = pd.read_csv('./simulation_results/Real_simulation_reshape/EvolveGCNH_pedalme_Simulation_itstgcnsnd.csv')"
      ],
      "id": "c0d1d0f1-11cc-45e8-a085-8ab2434ce083"
    },
    {
      "cell_type": "code",
      "execution_count": 83,
      "metadata": {},
      "outputs": [],
      "source": [
        "data2.query(\"mtype=='rand'\").plot.box(backend='plotly',x='mrate',color='method',y='mse',facet_col='inter_method',facet_row='nof_filters',height=1000)"
      ],
      "id": "34eeadda-fd54-470b-9edd-7413f30b01f8"
    },
    {
      "cell_type": "code",
      "execution_count": 84,
      "metadata": {},
      "outputs": [],
      "source": [
        "data2.query(\"mtype=='block'\").plot.box(backend='plotly',x='mrate',color='method',y='mse',facet_col='inter_method',facet_row='nof_filters',height=1000)"
      ],
      "id": "56fa76bf-e933-4dbf-a6a0-cd18ae293646"
    },
    {
      "cell_type": "markdown",
      "metadata": {},
      "source": [
        "# Wikimath"
      ],
      "id": "b06825b1-e44a-4123-9063-15014914426c"
    },
    {
      "cell_type": "code",
      "execution_count": 162,
      "metadata": {},
      "outputs": [],
      "source": [
        "df1 = pd.read_csv('./simulation_results/2023-07-02_03-31-06.csv')\n",
        "df2 = pd.read_csv('./simulation_results/2023-07-02_06-13-56.csv')\n",
        "df3 = pd.read_csv('./simulation_results/2023-07-02_09-31-51.csv')\n",
        "df4 = pd.read_csv('./simulation_results/2023-07-02_14-14-23.csv')\n",
        "df5 = pd.read_csv('./simulation_results/2023-07-02_18-46-53.csv')\n",
        "df6 = pd.read_csv('./simulation_results/2023-07-02_21-31-18.csv')\n",
        "df7 = pd.read_csv('./simulation_results/2023-07-03_00-09-30.csv')\n",
        "df8 = pd.read_csv('./simulation_results/2023-07-03_02-53-00.csv')\n",
        "df9 = pd.read_csv('./simulation_results/2023-07-03_05-33-07.csv') # block\n",
        "df10 = pd.read_csv('./simulation_results/2023-07-03_05-33-07.csv') # block\n",
        "df11 = pd.read_csv('./simulation_results/2023-07-03_10-59-17.csv') # block"
      ],
      "id": "bad5d1da-5077-444c-9132-841b2dedc928"
    },
    {
      "cell_type": "code",
      "execution_count": 163,
      "metadata": {},
      "outputs": [],
      "source": [
        "data = pd.concat([df1,df2,df3,df4,df5,df6,df7,df8,df9,df10,df11],axis=0)"
      ],
      "id": "81474761-cf77-485d-b3cb-1dd1177c4e89"
    },
    {
      "cell_type": "code",
      "execution_count": 164,
      "metadata": {},
      "outputs": [],
      "source": [
        "data.to_csv('./simulation_results/Real_simulation_reshape/EvolveGCNH_wikimath.csv',index=False)"
      ],
      "id": "e1cd12cc-5034-4892-9faa-50d255788f85"
    },
    {
      "cell_type": "code",
      "execution_count": 165,
      "metadata": {},
      "outputs": [],
      "source": [
        "data = pd.read_csv('./simulation_results/Real_simulation_reshape/EvolveGCNH_wikimath.csv')"
      ],
      "id": "710dcd0b-099f-4344-a176-f494ea37b48e"
    },
    {
      "cell_type": "markdown",
      "metadata": {},
      "source": [
        "## Baseline"
      ],
      "id": "25765ded-169f-4378-976c-6dfb57e72554"
    },
    {
      "cell_type": "code",
      "execution_count": 166,
      "metadata": {},
      "outputs": [],
      "source": [
        "data.query(\"mrate==0 and method!='GNAR'\").plot.box(backend='plotly',x='mrate',color='method',y='mse',height=600)"
      ],
      "id": "1a9d97a6-9ba6-4fa5-a72b-2abe1b0de180"
    },
    {
      "cell_type": "markdown",
      "metadata": {},
      "source": [
        "## random"
      ],
      "id": "17484ddb-9600-4a04-bb02-47c3d1aeec9d"
    },
    {
      "cell_type": "code",
      "execution_count": 167,
      "metadata": {},
      "outputs": [],
      "source": [
        "data.query(\"mtype=='rand' and mrate !=0 and method!='GNAR'\").plot.box(backend='plotly',x='mrate',color='method',y='mse',facet_col='lags',facet_row='nof_filters',height=800)\n"
      ],
      "id": "95f38087-f16e-44c7-a34f-679aee990ac9"
    },
    {
      "cell_type": "markdown",
      "metadata": {},
      "source": [
        "## block"
      ],
      "id": "040f1ed2-f456-4520-914a-e7b2f649b87d"
    },
    {
      "cell_type": "code",
      "execution_count": 168,
      "metadata": {},
      "outputs": [],
      "source": [
        "data.query(\"mtype=='block' and method!='GNAR'\").plot.box(backend='plotly',x='mrate',color='method',y='mse',facet_col='lags',facet_row='nof_filters',height=1200)\n"
      ],
      "id": "23751bab-7a78-4506-b5b0-606de5683db1"
    },
    {
      "cell_type": "markdown",
      "metadata": {},
      "source": [
        "## missing values on the same nodes"
      ],
      "id": "468c5429-5155-4248-a544-fa0ba94d92a8"
    },
    {
      "cell_type": "code",
      "execution_count": 169,
      "metadata": {
        "tags": []
      },
      "outputs": [],
      "source": [
        "df1 = pd.read_csv('./simulation_results/2023-07-03_13-39-23.csv') # STGCN IT-STGCN block\n",
        "df2 = pd.read_csv('./simulation_results/2023-07-03_16-17-40.csv') # STGCN IT-STGCN\n",
        "df3 = pd.read_csv('./simulation_results/2023-07-03_19-00-05.csv') "
      ],
      "id": "18068075-1f1f-4272-bc0b-5ef284084076"
    },
    {
      "cell_type": "code",
      "execution_count": 170,
      "metadata": {},
      "outputs": [],
      "source": [
        "data = pd.concat([df1,df2,df3],axis=0)"
      ],
      "id": "ef183d52-8943-4bde-b757-414abfa5f3bb"
    },
    {
      "cell_type": "code",
      "execution_count": 171,
      "metadata": {},
      "outputs": [],
      "source": [
        "data.to_csv('./simulation_results/Real_simulation_reshape/EvolveGCNH_wikimath_GSO_st.csv',index=False)"
      ],
      "id": "190d7860-494e-455a-a872-a0e0b02dcb77"
    },
    {
      "cell_type": "code",
      "execution_count": 172,
      "metadata": {},
      "outputs": [],
      "source": [
        "data = pd.read_csv('./simulation_results/Real_simulation_reshape/EvolveGCNH_wikimath_GSO_st.csv')"
      ],
      "id": "b6291980-a7c6-4409-bbd7-6c29ccc4f2f1"
    },
    {
      "cell_type": "code",
      "execution_count": 173,
      "metadata": {},
      "outputs": [],
      "source": [
        "data.query(\"method!='GNAR' and mtype =='block' \").plot.box(backend='plotly',x='mrate',color='method',y='mse',facet_col='inter_method',facet_row='lags',height=800)\n"
      ],
      "id": "6274ff58-b784-4a95-9cf9-6feeea9f132a"
    },
    {
      "cell_type": "markdown",
      "metadata": {},
      "source": [
        "# Windmilsmall"
      ],
      "id": "2bc10216-ace7-4c87-9fe3-7d316d5a59b0"
    },
    {
      "cell_type": "code",
      "execution_count": null,
      "metadata": {},
      "outputs": [],
      "source": [
        "# df1 = pd.read_csv('./simulation_results/2023-05-27_03-20-28.csv') # STGCN IT-STGCN 70%\n",
        "# df2 = pd.read_csv('./simulation_results/2023-05-27_11-15-19.csv') # STGCN IT-STGCN\n",
        "# df3 = pd.read_csv('./simulation_results/2023-05-27_21-50-00.csv') # STGCN IT-STGCN\n",
        "# df4 = pd.read_csv('./simulation_results/2023-05-28_07-53-57.csv') # STGCN IT-STGCN\n",
        "# df5 = pd.read_csv('./simulation_results/2023-05-28_15-11-36.csv') # STGCN IT-STGCN\n",
        "# df6 = pd.read_csv('./simulation_results/2023-05-28_19-57-23.csv') # GNAR 30%, 50%, 70% # 뭔가 일단 필요없어서 데이터셋에서 뺌\n",
        "# df7 = pd.read_csv('./simulation_results/2023-05-29_01-36-37.csv') # STGCN IT-STGCN\n",
        "# df8 = pd.read_csv('./simulation_results/2023-05-29_05-55-43.csv') # STGCN IT-STGCN\n",
        "# df9 = pd.read_csv('./simulation_results/2023-05-29_11-00-42.csv') # STGCN IT-STGCN\n",
        "# df10 = pd.read_csv('./simulation_results/2023-05-29_15-58-56.csv') # STGCN IT-STGCN\n",
        "# df11 = pd.read_csv('./simulation_results/2023-05-29_21-01-58.csv') # STGCN IT-STGCN\n",
        "# df12 = pd.read_csv('./simulation_results/2023-05-30_02-08-43.csv') # STGCN IT-STGCN\n",
        "# df13 = pd.read_csv('./simulation_results/2023-05-30_06-27-00.csv') # STGCN IT-STGCN\n",
        "# df14 = pd.read_csv('./simulation_results/2023-05-30_11-59-01.csv') # STGCN IT-STGCN\n",
        "# df15 = pd.read_csv('./simulation_results/2023-05-30_15-59-12.csv') # STGCN IT-STGCN\n",
        "# df16 = pd.read_csv('./simulation_results/2023-04-20_00-46-43.csv') # STGCN IT-STGCN\n",
        "# df17 = pd.read_csv('./simulation_results/2023-04-20_06-51-34.csv') # STGCN IT-STGCN\n",
        "# df18 = pd.read_csv('./simulation_results/2023-04-20_08-30-27.csv') # STGCN IT-STGCN\n",
        "# df19 = pd.read_csv('./simulation_results/2023-04-20_14-28-35.csv') # STGCN IT-STGCN\n",
        "# df20 = pd.read_csv('./simulation_results/2023-04-20_16-08-39.csv') # STGCN IT-STGCN\n",
        "# df21 = pd.read_csv('./simulation_results/2023-04-20_22-09-37.csv') # STGCN IT-STGCN\n",
        "# df22 = pd.read_csv('./simulation_results/2023-04-20_23-48-26.csv') # STGCN IT-STGCN\n",
        "# df23 = pd.read_csv('./simulation_results/2023-04-21_05-36-47.csv') # STGCN IT-STGCN\n",
        "# df24 = pd.read_csv('./simulation_results/2023-04-21_15-26-00.csv') # STGCN IT-STGCN\n",
        "# df25 = pd.read_csv('./simulation_results/2023-04-21_23-27-11.csv') # STGCN IT-STGCN\n",
        "# df26 = pd.read_csv('./simulation_results/2023-04-22_07-46-08.csv') # STGCN IT-STGCN\n",
        "# df27 = pd.read_csv('./simulation_results/2023-04-22_15-45-20.csv') # STGCN IT-STGCN\n",
        "# df28 = pd.read_csv('./simulation_results/2023-04-22_22-57-31.csv') # STGCN IT-STGCN\n",
        "# df29 = pd.read_csv('./simulation_results/2023-04-23_07-00-15.csv') # STGCN IT-STGCN\n",
        "# df30 = pd.read_csv('./simulation_results/2023-04-23_15-18-02.csv') # STGCN IT-STGCN\n",
        "# df31 = pd.read_csv('./simulation_results/2023-04-23_15-22-36.csv') # GNAR 70%\n",
        "# # baseline\n",
        "# df32 = pd.read_csv('./simulation_results/2023-04-29_06-54-40.csv') # GNAR \n",
        "# df33 = pd.read_csv('./simulation_results/2023-04-30_18-55-12.csv')\n",
        "# df34 = pd.read_csv('./simulation_results/2023-05-01_02-55-33.csv')\n",
        "# df35 = pd.read_csv('./simulation_results/2023-05-01_10-21-15.csv')\n",
        "# df36 = pd.read_csv('./simulation_results/2023-05-01_19-23-57.csv')\n",
        "# df37 = pd.read_csv('./simulation_results/2023-05-02_01-10-53.csv')\n",
        "# df38 = pd.read_csv('./simulation_results/2023-05-02_08-26-53.csv')\n",
        "# df39 = pd.read_csv('./simulation_results/2023-05-02_16-00-40.csv')\n",
        "# df40 = pd.read_csv('./simulation_results/2023-05-03_00-34-09.csv')\n",
        "# df41 = pd.read_csv('./simulation_results/2023-05-03_08-04-42.csv')\n",
        "# df42 = pd.read_csv('./simulation_results/2023-05-03_15-50-50.csv')\n",
        "# df43 = pd.read_csv('./simulation_results/2023-05-03_23-46-56.csv')\n",
        "# df44 = pd.read_csv('./simulation_results/2023-05-04_05-22-59.csv')\n",
        "# df45 = pd.read_csv('./simulation_results/2023-05-04_09-22-37.csv')\n",
        "# df46 = pd.read_csv('./simulation_results/2023-05-04_15-00-57.csv')\n",
        "# df47 = pd.read_csv('./simulation_results/2023-05-04_23-41-21.csv')\n",
        "# df48 = pd.read_csv('./simulation_results/2023-05-05_07-23-04.csv')\n",
        "# df49 = pd.read_csv('./simulation_results/2023-05-05_15-03-17.csv')\n",
        "# df50 = pd.read_csv('./simulation_results/2023-05-06_05-18-07.csv')\n",
        "# df51 = pd.read_csv('./simulation_results/2023-05-06_12-57-14.csv')\n",
        "# df52 = pd.read_csv('./simulation_results/2023-05-06_19-10-23.csv')\n",
        "# df53 = pd.read_csv('./simulation_results/2023-05-07_03-20-10.csv')\n",
        "# df54 = pd.read_csv('./simulation_results/2023-05-07_11-26-24.csv')\n",
        "# df55 = pd.read_csv('./simulation_results/2023-05-08_00-04-56.csv')\n",
        "# df56 = pd.read_csv('./simulation_results/2023-05-08_04-27-01.csv')\n",
        "# df57 = pd.read_csv('./simulation_results/2023-05-08_10-06-55.csv')\n",
        "# df58 = pd.read_csv('./simulation_results/2023-05-08_17-50-36.csv')\n",
        "# df59 = pd.read_csv('./simulation_results/2023-05-09_03-28-08.csv')\n",
        "# df60 = pd.read_csv('./simulation_results/2023-05-09_11-08-10.csv')\n",
        "# df61 = pd.read_csv('./simulation_results/2023-05-09_20-11-45.csv')"
      ],
      "id": "4b8dc7bc-f12c-4f98-b49f-50fc3227ce1f"
    },
    {
      "cell_type": "code",
      "execution_count": null,
      "metadata": {},
      "outputs": [],
      "source": [
        "data = pd.concat([df1],axis=0)"
      ],
      "id": "7f02fe95-3d87-4a54-9c89-f29d1cb66151"
    },
    {
      "cell_type": "code",
      "execution_count": null,
      "metadata": {},
      "outputs": [],
      "source": [
        "data.to_csv('./simulation_results/Real_simulation_reshape/EvolveGCNH_windmillsmall.csv',index=False)"
      ],
      "id": "725e251f-6a78-464c-94b9-dcf537489eed"
    },
    {
      "cell_type": "code",
      "execution_count": null,
      "metadata": {},
      "outputs": [],
      "source": [
        "data = pd.read_csv('./simulation_results/Real_simulation_reshape/EvolveGCNH_windmillsmall.csv')"
      ],
      "id": "c4810ee0-f879-479f-9aea-c14f55187e8a"
    },
    {
      "cell_type": "markdown",
      "metadata": {},
      "source": [
        "## Baseline"
      ],
      "id": "ca7ea484-6420-49c8-a641-5b423291b319"
    },
    {
      "cell_type": "code",
      "execution_count": null,
      "metadata": {},
      "outputs": [],
      "source": [
        "data.query(\"method!='GNAR' and mrate ==0 \").plot.box(backend='plotly',x='mrate',color='method',y='mse',facet_col='lags',height=800)\n"
      ],
      "id": "bf71b373-222e-4725-a621-5fe649bc85a5"
    },
    {
      "cell_type": "markdown",
      "metadata": {},
      "source": [
        "## random"
      ],
      "id": "40ccceac-a16c-46a0-ab7a-a52da3a2b761"
    },
    {
      "cell_type": "code",
      "execution_count": null,
      "metadata": {},
      "outputs": [],
      "source": [
        "data.query(\"method!='GNAR' and mtype =='rand' \").plot.box(backend='plotly',x='mrate',color='method',y='mse',facet_col='lags',facet_row='inter_method',height=800)\n"
      ],
      "id": "0dce0b32-3300-42a5-a197-f8ba465ee9b2"
    },
    {
      "cell_type": "markdown",
      "metadata": {},
      "source": [
        "## block"
      ],
      "id": "20bc5455-d1e3-45d1-bc3a-1b26258d6527"
    },
    {
      "cell_type": "code",
      "execution_count": null,
      "metadata": {},
      "outputs": [],
      "source": [
        "data.query(\"method!='GNAR' and mtype =='block' \").plot.box(backend='plotly',x='mrate',color='method',y='mse',facet_col='lags',facet_row='inter_method',height=800)\n"
      ],
      "id": "5ac28e54-8f1a-494b-b8da-ce9082b622a2"
    },
    {
      "cell_type": "markdown",
      "metadata": {},
      "source": [
        "# Montevideobus"
      ],
      "id": "23fb77d2-44ab-464a-9f50-a8327f3442a1"
    },
    {
      "cell_type": "code",
      "execution_count": 141,
      "metadata": {},
      "outputs": [],
      "source": [
        "df1 = pd.read_csv('./simulation_results/2023-07-01_18-46-28.csv') # lags 8\n",
        "df2 = pd.read_csv('./simulation_results/2023-07-01_20-21-33.csv') # lags 8\n",
        "df3 = pd.read_csv('./simulation_results/2023-07-01_21-54-40.csv') # lags 8\n",
        "df4 = pd.read_csv('./simulation_results/2023-07-01_23-23-55.csv') # lags 8\n",
        "df5 = pd.read_csv('./simulation_results/2023-07-02_02-26-37.csv') # lags 8\n",
        "df6 = pd.read_csv('./simulation_results/2023-07-02_00-53-47.csv') # lags 8\n",
        "\n",
        "df7 = pd.read_csv('./simulation_results/2023-07-02_09-46-49.csv') # lags 8\n",
        "df8 = pd.read_csv('./simulation_results/2023-07-02_11-18-51.csv') # lags 8\n",
        "df9 = pd.read_csv('./simulation_results/2023-07-02_12-46-16.csv') # lags 8\n",
        "df10 = pd.read_csv('./simulation_results/2023-07-02_14-20-34.csv') # lags 8\n",
        "df11 = pd.read_csv('./simulation_results/2023-07-02_15-52-23.csv') # lags 8\n",
        "df12 = pd.read_csv('./simulation_results/2023-07-02_17-21-46.csv') # lags 8"
      ],
      "id": "9ea8eafb-132f-4bcf-9d2d-6c40743694b7"
    },
    {
      "cell_type": "code",
      "execution_count": 142,
      "metadata": {},
      "outputs": [],
      "source": [
        "data = pd.concat([df1,df2,df3,df4,df5,df6,df7,df8,df9,df10,df11,df12],axis=0)"
      ],
      "id": "698e735f-85bf-4ddf-ae5f-4cf8f5521eda"
    },
    {
      "cell_type": "code",
      "execution_count": 143,
      "metadata": {},
      "outputs": [],
      "source": [
        "data.to_csv('./simulation_results/Real_simulation_reshape/EvolveGCNH_monte.csv',index=False)"
      ],
      "id": "6fee8d7e-e011-4ae2-9e01-e94d0ab5684d"
    },
    {
      "cell_type": "code",
      "execution_count": 144,
      "metadata": {},
      "outputs": [],
      "source": [
        "data = pd.read_csv('./simulation_results/Real_simulation_reshape/EvolveGCNH_monte.csv')"
      ],
      "id": "1c759624-7e14-4cd4-8ebf-e8985da0a2cb"
    },
    {
      "cell_type": "markdown",
      "metadata": {},
      "source": [
        "## Baseline"
      ],
      "id": "7f22c66b-2ea9-4d96-b946-f3ac6d17148e"
    },
    {
      "cell_type": "code",
      "execution_count": 145,
      "metadata": {},
      "outputs": [],
      "source": [
        "data.query(\"mrate==0 and method!='GNAR'\").plot.box(backend='plotly',x='mrate',color='method',y='mse',facet_col='lags',facet_row='nof_filters',height=600)"
      ],
      "id": "e42e8b5c-f7fd-4d30-ba86-0069b7313e4a"
    },
    {
      "cell_type": "markdown",
      "metadata": {},
      "source": [
        "## random"
      ],
      "id": "8d51e59e-fe95-4a21-97a9-2b5e8db393bf"
    },
    {
      "cell_type": "code",
      "execution_count": 146,
      "metadata": {},
      "outputs": [],
      "source": [
        "data.query(\"mtype=='rand' and mrate !=0 and method!='GNAR'\").plot.box(backend='plotly',x='mrate',color='method',y='mse',facet_col='lags',facet_row='inter_method',height=800)\n"
      ],
      "id": "711810d8-b326-4409-a2f8-1dc32a9e9c3d"
    },
    {
      "cell_type": "markdown",
      "metadata": {},
      "source": [
        "## block"
      ],
      "id": "2510cb9c-9d2e-4101-a8df-926a13fb59f8"
    },
    {
      "cell_type": "code",
      "execution_count": 147,
      "metadata": {},
      "outputs": [],
      "source": [
        "data.query(\"mtype=='block' and method!='GNAR'\").plot.box(backend='plotly',x='mrate',color='method',y='mse',facet_col='lags',facet_row='nof_filters',height=1200)\n"
      ],
      "id": "75401497-ba36-460d-b6e5-b37de128a10d"
    }
  ],
  "nbformat": 4,
  "nbformat_minor": 5,
  "metadata": {
    "kernelspec": {
      "name": "python3",
      "display_name": "Python 3",
      "language": "python"
    },
    "language_info": {
      "name": "python",
      "codemirror_mode": {
        "name": "ipython",
        "version": "3"
      },
      "file_extension": ".py",
      "mimetype": "text/x-python",
      "nbconvert_exporter": "python",
      "pygments_lexer": "ipython3",
      "version": "3.8.0"
    }
  }
}
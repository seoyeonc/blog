{
  "cells": [
    {
      "cell_type": "markdown",
      "metadata": {},
      "source": [
        "# PyG Geometric Temporal CPU vs GPU\n",
        "\n",
        "SEOYEON CHOI  \n",
        "2023-05-11\n",
        "\n",
        "> CPU vs GPU"
      ],
      "id": "f5e267fa-c46e-442d-921d-9e752d857650"
    },
    {
      "cell_type": "code",
      "execution_count": 1,
      "metadata": {},
      "outputs": [
        {
          "output_type": "stream",
          "name": "stdout",
          "text": [
            "Fri May 12 06:42:19 2023       \n",
            "+-----------------------------------------------------------------------------+\n",
            "| NVIDIA-SMI 495.46       Driver Version: 495.46       CUDA Version: 11.5     |\n",
            "|-------------------------------+----------------------+----------------------+\n",
            "| GPU  Name        Persistence-M| Bus-Id        Disp.A | Volatile Uncorr. ECC |\n",
            "| Fan  Temp  Perf  Pwr:Usage/Cap|         Memory-Usage | GPU-Util  Compute M. |\n",
            "|                               |                      |               MIG M. |\n",
            "|===============================+======================+======================|\n",
            "|   0  NVIDIA GeForce ...  Off  | 00000000:65:00.0 Off |                  N/A |\n",
            "|  0%   37C    P8    35W / 420W |     19MiB / 24268MiB |      0%      Default |\n",
            "|                               |                      |                  N/A |\n",
            "+-------------------------------+----------------------+----------------------+\n",
            "                                                                               \n",
            "+-----------------------------------------------------------------------------+\n",
            "| Processes:                                                                  |\n",
            "|  GPU   GI   CI        PID   Type   Process name                  GPU Memory |\n",
            "|        ID   ID                                                   Usage      |\n",
            "|=============================================================================|\n",
            "|    0   N/A  N/A      1062      G   /usr/lib/xorg/Xorg                  9MiB |\n",
            "|    0   N/A  N/A      1309      G   /usr/bin/gnome-shell                8MiB |\n",
            "+-----------------------------------------------------------------------------+"
          ]
        }
      ],
      "source": [
        "!nvidia-smi"
      ],
      "id": "5cb7a5c7-435b-448d-be22-cb15196933e6"
    },
    {
      "cell_type": "code",
      "execution_count": 2,
      "metadata": {},
      "outputs": [],
      "source": [
        "import time"
      ],
      "id": "4af578fb-8eb8-4c4b-bbed-d7b1a073b79a"
    },
    {
      "cell_type": "code",
      "execution_count": 3,
      "metadata": {},
      "outputs": [],
      "source": [
        "import torch"
      ],
      "id": "92773955-5b3b-46b0-be8d-e8b610a81599"
    },
    {
      "cell_type": "code",
      "execution_count": 4,
      "metadata": {},
      "outputs": [],
      "source": [
        "torch.cuda.is_available()"
      ],
      "id": "774d6631-d2fb-48f6-b1e8-b15da7cdd8e1"
    },
    {
      "cell_type": "code",
      "execution_count": null,
      "metadata": {
        "tags": []
      },
      "outputs": [],
      "source": [
        "from torch_geometric_temporal.dataset import ChickenpoxDatasetLoader\n",
        "from torch_geometric_temporal.signal import temporal_signal_split\n",
        "\n",
        "loader = ChickenpoxDatasetLoader()\n",
        "\n",
        "dataset = loader.get_dataset()\n",
        "\n",
        "train_dataset, test_dataset = temporal_signal_split(dataset, train_ratio=0.8)"
      ],
      "id": "5cea9ca1-8930-49a7-9700-d5e29af5f039"
    },
    {
      "cell_type": "code",
      "execution_count": 24,
      "metadata": {},
      "outputs": [],
      "source": [
        "import torch\n",
        "import torch.nn.functional as F\n",
        "from torch_geometric_temporal.nn.recurrent import DCRNN\n",
        "\n",
        "class RecurrentGCN(torch.nn.Module):\n",
        "    def __init__(self, node_features):\n",
        "        super(RecurrentGCN, self).__init__()\n",
        "        self.recurrent = DCRNN(node_features, 32, 1)\n",
        "        self.linear = torch.nn.Linear(32, 1)\n",
        "\n",
        "    def forward(self, x, edge_index, edge_weight):\n",
        "        h = self.recurrent(x, edge_index, edge_weight)\n",
        "        h = F.relu(h)\n",
        "        h = self.linear(h)\n",
        "        return h\n"
      ],
      "id": "0b3d1e06-3e3a-42ac-bd54-43366fecd055"
    },
    {
      "cell_type": "code",
      "execution_count": 25,
      "metadata": {},
      "outputs": [],
      "source": [
        "from tqdm import tqdm"
      ],
      "id": "120617c0-210f-4746-97c8-6545a2c005e1"
    },
    {
      "cell_type": "markdown",
      "metadata": {},
      "source": [
        "# GPU"
      ],
      "id": "b8a54bd5-941c-4cf9-ac34-b2ba55c84a71"
    },
    {
      "cell_type": "code",
      "execution_count": 26,
      "metadata": {},
      "outputs": [],
      "source": [
        "model = RecurrentGCN(node_features = 4)"
      ],
      "id": "646c4279-563a-420e-b222-65fbb789f8eb"
    },
    {
      "cell_type": "code",
      "execution_count": 27,
      "metadata": {},
      "outputs": [],
      "source": [
        "optimizer = torch.optim.Adam(model.parameters(), lr=0.01)"
      ],
      "id": "df5afbf1-e87b-47dd-897f-7fbfe91b481b"
    },
    {
      "cell_type": "code",
      "execution_count": 28,
      "metadata": {},
      "outputs": [],
      "source": [
        "time.time()"
      ],
      "id": "f1429d8f-8cbf-4bcd-abea-b147af5f4c58"
    },
    {
      "cell_type": "code",
      "execution_count": 29,
      "metadata": {},
      "outputs": [
        {
          "output_type": "stream",
          "name": "stderr",
          "text": [
            "100%|██████████| 200/200 [03:05<00:00,  1.08it/s]"
          ]
        }
      ],
      "source": [
        "t1=time.time()\n",
        "for epoch in tqdm(range(200)):\n",
        "    cost = 0\n",
        "    for time, snapshot in enumerate(train_dataset):\n",
        "        y_hat = model(snapshot.x, snapshot.edge_index, snapshot.edge_attr).to(\"cuda:0\")\n",
        "        cost = cost + torch.mean((y_hat-snapshot.y.to(\"cuda:0\"))**2)\n",
        "    cost = cost / (time+1)\n",
        "    cost.backward()\n",
        "    optimizer.step()\n",
        "    optimizer.zero_grad()"
      ],
      "id": "cc3b2dd7-9950-4f1a-b144-9cb80f5ad9c5"
    },
    {
      "cell_type": "code",
      "execution_count": 30,
      "metadata": {},
      "outputs": [],
      "source": [
        "import time"
      ],
      "id": "f580780e-374e-45f7-88c6-3d7d672fa81a"
    },
    {
      "cell_type": "code",
      "execution_count": 31,
      "metadata": {},
      "outputs": [],
      "source": [
        "t2=time.time()"
      ],
      "id": "66a60522-7673-460e-9f5b-f72446e343d9"
    },
    {
      "cell_type": "code",
      "execution_count": 32,
      "metadata": {},
      "outputs": [],
      "source": [
        "t2-t1"
      ],
      "id": "c906c5cb-1dc9-4c0c-a5e3-afa92372ca4b"
    },
    {
      "cell_type": "code",
      "execution_count": 33,
      "metadata": {},
      "outputs": [
        {
          "output_type": "stream",
          "name": "stdout",
          "text": [
            "MSE: 1.0507"
          ]
        }
      ],
      "source": [
        "model.eval()\n",
        "cost = 0\n",
        "for time, snapshot in enumerate(test_dataset):\n",
        "    y_hat = model(snapshot.x, snapshot.edge_index, snapshot.edge_attr)\n",
        "    cost = cost + torch.mean((y_hat-snapshot.y)**2)\n",
        "cost = cost / (time+1)\n",
        "cost = cost.item()\n",
        "print(\"MSE: {:.4f}\".format(cost))"
      ],
      "id": "a1ad29f0-5dac-46ee-8164-7bc9ac818431"
    },
    {
      "cell_type": "markdown",
      "metadata": {},
      "source": [
        "# CPU"
      ],
      "id": "cdac4386-3c9e-48c0-a75e-0d00cfe987cd"
    },
    {
      "cell_type": "code",
      "execution_count": 34,
      "metadata": {},
      "outputs": [],
      "source": [
        "model = RecurrentGCN(node_features = 4)"
      ],
      "id": "caae75f7-9bb2-4be7-b50a-436481b50c4f"
    },
    {
      "cell_type": "code",
      "execution_count": 35,
      "metadata": {},
      "outputs": [],
      "source": [
        "optimizer = torch.optim.Adam(model.parameters(), lr=0.01)"
      ],
      "id": "db0f463c-0cca-4525-99be-6a62147d1316"
    },
    {
      "cell_type": "code",
      "execution_count": 37,
      "metadata": {},
      "outputs": [],
      "source": [
        "import time"
      ],
      "id": "141b8b4c-ee43-43e2-b4df-bf69459a8081"
    },
    {
      "cell_type": "code",
      "execution_count": 38,
      "metadata": {},
      "outputs": [
        {
          "output_type": "stream",
          "name": "stderr",
          "text": [
            "100%|██████████| 200/200 [05:08<00:00,  1.54s/it]"
          ]
        }
      ],
      "source": [
        "t1=time.time()\n",
        "for epoch in tqdm(range(200)):\n",
        "    cost = 0\n",
        "    for time, snapshot in enumerate(train_dataset):\n",
        "        y_hat = model(snapshot.x, snapshot.edge_index, snapshot.edge_attr)\n",
        "        cost = cost + torch.mean((y_hat-snapshot.y)**2)\n",
        "    cost = cost / (time+1)\n",
        "    cost.backward()\n",
        "    optimizer.step()\n",
        "    optimizer.zero_grad()"
      ],
      "id": "bfecb76c-d997-4dff-89a5-39d2a8773778"
    },
    {
      "cell_type": "code",
      "execution_count": 39,
      "metadata": {},
      "outputs": [],
      "source": [
        "import time"
      ],
      "id": "39dc9c8c-d4a3-443c-bea5-4e472f55d9bb"
    },
    {
      "cell_type": "code",
      "execution_count": 40,
      "metadata": {},
      "outputs": [],
      "source": [
        "t2=time.time()"
      ],
      "id": "915ff7da-ae85-4c3a-b847-ad2937504fce"
    },
    {
      "cell_type": "code",
      "execution_count": 41,
      "metadata": {},
      "outputs": [],
      "source": [
        "t2-t1"
      ],
      "id": "0eac6754-f745-4a9c-80fe-a7907e2ac024"
    },
    {
      "cell_type": "code",
      "execution_count": 42,
      "metadata": {},
      "outputs": [
        {
          "output_type": "stream",
          "name": "stdout",
          "text": [
            "MSE: 1.0542"
          ]
        }
      ],
      "source": [
        "model.eval()\n",
        "cost = 0\n",
        "for time, snapshot in enumerate(test_dataset):\n",
        "    y_hat = model(snapshot.x, snapshot.edge_index, snapshot.edge_attr)\n",
        "    cost = cost + torch.mean((y_hat-snapshot.y)**2)\n",
        "cost = cost / (time+1)\n",
        "cost = cost.item()\n",
        "print(\"MSE: {:.4f}\".format(cost))"
      ],
      "id": "a6409be5-c9c0-4353-a9e2-a07fdbf89031"
    }
  ],
  "nbformat": 4,
  "nbformat_minor": 5,
  "metadata": {
    "kernelspec": {
      "name": "python3",
      "display_name": "Python 3 (ipykernel)",
      "language": "python"
    },
    "language_info": {
      "name": "python",
      "codemirror_mode": {
        "name": "ipython",
        "version": "3"
      },
      "file_extension": ".py",
      "mimetype": "text/x-python",
      "nbconvert_exporter": "python",
      "pygments_lexer": "ipython3",
      "version": "3.8.12"
    }
  }
}
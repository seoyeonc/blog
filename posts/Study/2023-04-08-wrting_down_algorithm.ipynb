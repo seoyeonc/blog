{
 "cells": [
  {
   "cell_type": "raw",
   "id": "0982d4c8-2e16-4a17-804b-e09ef372206c",
   "metadata": {
    "id": "cac470df-29e7-4148-9bbd-d8b9a32fa570",
    "tags": []
   },
   "source": [
    "---\n",
    "title: \"ITSTGCN\"\n",
    "author: \"SEOYEON CHOI\"\n",
    "date: \"2023-04-08\"\n",
    "categories:\n",
    "  - ITSTGCN\n",
    "---"
   ]
  },
  {
   "cell_type": "markdown",
   "id": "fc80e237-357a-406d-b302-f1e1bb8d15c9",
   "metadata": {},
   "source": [
    "> Algorithm"
   ]
  },
  {
   "cell_type": "markdown",
   "id": "0af6a42a-4377-4016-bc1b-f4002e53de98",
   "metadata": {},
   "source": [
    "1. $f_{trimed} \\leftarrow Update(f,f_{Ebayes})$\n",
    "\n",
    "2. $Construct G_{trimed} = \\{ f_{trimed}, \\mathcal{W}_{n \\times n} , \\mathcal{V} \\}$\n",
    "\n",
    "3. $\\hat{G} \\leftarrow STGCN(Construct G_{trimed} , lag, epoch)$\n",
    "\n",
    "4. from $\\hat{G}$ obtain $\\hat{f}$"
   ]
  },
  {
   "cell_type": "markdown",
   "id": "d231eb67-44ff-4547-8953-bbb96a0e403c",
   "metadata": {},
   "source": [
    "# Info"
   ]
  },
  {
   "cell_type": "markdown",
   "id": "5a0824ec-8f89-4fe6-a24d-ecc4b3b0152f",
   "metadata": {},
   "source": [
    "**data_dict**\n",
    "\n",
    "- `edges` = ? $\\times$ 2\n",
    "    - It depends on connection of each node of dataset\n",
    "- `node_ids` = N\n",
    "- `FX` = TN $\\times$ 1"
   ]
  },
  {
   "cell_type": "markdown",
   "id": "6e28eb21-9bcb-4258-8a44-0eb2fd38f633",
   "metadata": {},
   "source": [
    "# Missing"
   ]
  },
  {
   "cell_type": "markdown",
   "id": "0edda369-4228-4153-9ca3-37df70cc09a3",
   "metadata": {},
   "source": [
    "## padding"
   ]
  },
  {
   "cell_type": "markdown",
   "id": "400bd209-6001-4944-82e3-156132a69425",
   "metadata": {},
   "source": [
    "- `mindex` = 입력값, 리스트 자료형\n",
    "- `f` = TN $\\times$ 1, 리스트 자료형\n",
    "    - 보간법 이용 후 결측값 뒤, 앞으로 채우고 리스트화하여 `FX` 값으로 출력\n",
    "- `lags` = up to writer's choice\n",
    "- `T` = Time\n",
    "- `N` = Node"
   ]
  },
  {
   "cell_type": "markdown",
   "id": "46a1d9a9-299a-4fba-b435-fca577ce1e31",
   "metadata": {},
   "source": [
    ":::{.callout-tip}\n",
    "- linear: 선형 보간법(기본값)\n",
    "- time: 시계열 데이터를 위한 선형 보간법\n",
    "- index: 인덱스를 사용하여 선형 보간법\n",
    "- polynomial: 다항식 보간법\n",
    "- spline: 스플라인 보간법\n",
    "- barycentric: 바리센트릭 보간법\n",
    "- krogh: Krogh 보간법\n",
    "- piecewise_polynomial: 조각 다항식 보간법\n",
    "- pchip: PCHIP(Piecewise Cubic Hermite Interpolating Polynomial) 보간법\n",
    "- akima: Akima 보간법\n",
    ":::"
   ]
  },
  {
   "cell_type": "markdown",
   "id": "0183f5da-a146-4f53-9502-e11534924038",
   "metadata": {},
   "source": [
    ":::{.callout-note}\n",
    "`fillna(method='bfill')`\n",
    "\n",
    "이 코드는 Pandas 라이브러리를 사용하여 데이터프레임의 결측값을 뒤 방향으로(backward) 채우는(fill) 메소드입니다.\n",
    "\n",
    "'bfill'은 'backward fill'을 의미하며, 이 메소드는 결측값(missing value)을 다음으로 나타나는(non-missing) 값으로 대체합니다. 즉, 각 결측값은 그 이후에 오는 첫 번째 비 결측값으로 대체됩니다.\n",
    ":::"
   ]
  },
  {
   "cell_type": "markdown",
   "id": "a0c43a04-41c6-44b4-8925-3650d3ce5c82",
   "metadata": {},
   "source": [
    ":::{.callout-note}\n",
    "`fillna(method='ffill')`\n",
    "\n",
    "이 코드는 Pandas 라이브러리를 사용하여 데이터프레임의 결측값을 앞 방향으로(forward) 채우는(fill) 메소드입니다.\n",
    "\n",
    "'ffill'은 'forward fill'을 의미하며, 이 메소드는 결측값을 이전에 나타난(non-missing) 값으로 대체합니다. 즉, 각 결측값은 그 이전에 나타난 마지막 비 결측값으로 대체됩니다.\n",
    ":::"
   ]
  },
  {
   "cell_type": "markdown",
   "id": "3a51ff8d-6af5-4172-9fee-27d194ef6005",
   "metadata": {},
   "source": [
    "## rand_mindex"
   ]
  },
  {
   "cell_type": "markdown",
   "id": "4b822b40-d552-4fe7-aa96-3ccf182a1ff3",
   "metadata": {},
   "source": [
    "- `missing_count` = mrate $\\times$ Time\n",
    "- `mindex` = Index of random values\n",
    "    - block에서 시뮬레이션 돌리려면 나중에 트레이닝에서 missing 뽑을 거니까 트레이닝$\\times$0.8보다 작은 값으로 block 설정해야 함"
   ]
  },
  {
   "cell_type": "markdown",
   "id": "170138b7-da4c-4045-9107-b8d7e00a940b",
   "metadata": {},
   "source": [
    "# miss"
   ]
  },
  {
   "cell_type": "code",
   "execution_count": 9,
   "id": "3024af81-ef98-4d8e-be00-c0a75ee5add2",
   "metadata": {},
   "outputs": [],
   "source": [
    "mindex= [[],[],list(range(1,3))]"
   ]
  },
  {
   "cell_type": "code",
   "execution_count": 11,
   "id": "c914db7f-a989-4edf-b78e-8a4028e95a01",
   "metadata": {},
   "outputs": [
    {
     "name": "stdout",
     "output_type": "stream",
     "text": [
      "[]\n",
      "[]\n",
      "[1, 2]\n"
     ]
    }
   ],
   "source": [
    "for i,m in enumerate(mindex): \n",
    "        print(m)"
   ]
  },
  {
   "cell_type": "code",
   "execution_count": 10,
   "id": "9a6411c0-6e9a-4c25-bdb2-59c2b5ea5e3b",
   "metadata": {},
   "outputs": [
    {
     "name": "stdout",
     "output_type": "stream",
     "text": [
      "0\n",
      "1\n",
      "2\n"
     ]
    }
   ],
   "source": [
    "for i,m in enumerate(mindex): \n",
    "        print(i)"
   ]
  },
  {
   "cell_type": "markdown",
   "id": "2682303b-1b57-402f-9a7e-9e47c37b9bd0",
   "metadata": {},
   "source": [
    "```python\n",
    "for i,m in enumerate(mindex): \n",
    "        f[m,i] = np.nan\n",
    "```\n",
    "\n",
    "- mindex는 리스트 자료형으로, node 수 만큼 있으며, 그 node 안에 mindex값이 존재하게끔\n",
    "    - `m` = 각 리스트, node 수 만큼 나옴\n",
    "    - `i` = node 번호 순 0부터"
   ]
  },
  {
   "cell_type": "markdown",
   "id": "23717e73-9d03-4447-9e4f-2080318cc599",
   "metadata": {},
   "source": [
    "# leanrers"
   ]
  },
  {
   "cell_type": "markdown",
   "id": "d2f9bd35-eab0-4206-8fac-013084f9cbd1",
   "metadata": {},
   "source": [
    "## make_Psi"
   ]
  },
  {
   "cell_type": "markdown",
   "id": "43fe0c17-bf3c-4719-83df-c50050258fcd",
   "metadata": {},
   "source": [
    "- `W` = T $\\times$ T\n",
    "    - 대각선빼고 모두 1인, 모두 연결되었다고 가정하는 인접행렬(adjacency matrix)\n",
    "- `d` = sum of each row data at `W`\n",
    "    - 2차원 $\\to$ 1차원\n",
    "    - T $\\times$ 1\n",
    "- `D` = 대각선 원소가 `d`값을 가진 2차원 행렬로 변환\n",
    "    - T $\\times$ T\n",
    "- `L` = $D^{1/2} (D-W)D^{1/2}$\n",
    "- `lamb`, `Psi` = result of eigenvaluede composition at `L`\n",
    "    - `lamb` = T,\n",
    "    - `Psi` = T $\\times$ T"
   ]
  },
  {
   "cell_type": "markdown",
   "id": "1834f732-7265-4580-95bd-d081d92f31c6",
   "metadata": {},
   "source": [
    ":::{.callout-important}\n",
    "$L = D-W$\n",
    "\n",
    "$D$ is a diagonal degree matrix.\n",
    "\n",
    "$W$ is a weight matrix.\n",
    "\n",
    "$\\tilde{L} = D^{-1/2}LD^{-1/2}$\n",
    "\n",
    "$= D^{-1/2}(D-W)D^{-1/2}$\n",
    "\n",
    "$= D^{-1/2}DD^{-1/2}-D^{-1/2}WD^{-1/2}$\n",
    "\n",
    "$= I-D^{-1/2}WD^{-1/2}$\n",
    "\n",
    "$I$ is an identity matrix.\n",
    "\n",
    "$\\tilde{L}$ nomalizes weights using $D^{-1/2}WD^{-1/2}$ by degree of each node and retain the information of graph structiure.\n",
    "\n",
    "$0 < L< 1$\n",
    ":::"
   ]
  },
  {
   "cell_type": "markdown",
   "id": "e5e9a4ad-f514-4827-a93c-c5a7384f01a8",
   "metadata": {},
   "source": [
    "## trim"
   ]
  },
  {
   "cell_type": "markdown",
   "id": "df15cabf-5d73-4d79-80ca-3b90ba68aca3",
   "metadata": {},
   "source": [
    "- `f` = T $\\times$ N $\\to$ 벡터로 변환, ?$\\times$1\n",
    "\n",
    "아래와 같이"
   ]
  },
  {
   "cell_type": "code",
   "execution_count": 20,
   "id": "c9271231-80e3-44d8-b0db-e88debc3a102",
   "metadata": {},
   "outputs": [
    {
     "data": {
      "text/plain": [
       "(2,)"
      ]
     },
     "execution_count": 20,
     "metadata": {},
     "output_type": "execute_result"
    }
   ],
   "source": [
    "f = np.array([1,2]);f.shape"
   ]
  },
  {
   "cell_type": "code",
   "execution_count": 21,
   "id": "d966a93d-be90-4862-aaf8-ba5f13fa4cc8",
   "metadata": {},
   "outputs": [],
   "source": [
    "if len(f.shape)==1: f = f.reshape(-1,1)"
   ]
  },
  {
   "cell_type": "code",
   "execution_count": 22,
   "id": "e3adbd20-7d68-4b47-9646-e6145efa379c",
   "metadata": {},
   "outputs": [
    {
     "data": {
      "text/plain": [
       "(2, 1)"
      ]
     },
     "execution_count": 22,
     "metadata": {},
     "output_type": "execute_result"
    }
   ],
   "source": [
    "f.shape"
   ]
  },
  {
   "cell_type": "markdown",
   "id": "64a772ad-fa03-457c-a542-5d349f6719a9",
   "metadata": {},
   "source": [
    "- `T` = Time\n",
    "- `N` = Node\n",
    "- `Psi` = Psi from make_Psi class\n",
    "    - T $\\times$ T\n",
    "- `fbar` = trans(Psi) $\\times$ `f` = T $\\times$ N\n",
    "    - `Psi` = T$\\times$ T\n",
    "    - `f` = T $\\times$ N\n",
    "- `fbar_threshed` = fbar에서 node 수 대로 ebayes하여 step function을 detect 하여 행별로 stack 한 결과\n",
    "    - T $\\times$ N\n",
    "- `fhat` = Psi $\\times$ fbar_threshed = T $\\times$ N\n",
    "    - Psi = T $\\times$T\n",
    "    - fbar_threshed = T $\\times$ N"
   ]
  },
  {
   "cell_type": "markdown",
   "id": "8b221403-7d1c-4656-b9c8-3c0c3c4d669d",
   "metadata": {},
   "source": [
    "## update_from_freq_domain"
   ]
  },
  {
   "cell_type": "markdown",
   "id": "220863f9-9f95-402d-b7cb-fd8c1e6dc6e0",
   "metadata": {},
   "source": [
    "- `signal` = input\n",
    "- `signal_trimed` = trim(signal) = T$\\times$N\n",
    "\n",
    "`missing_index`를 입력으로 바꿔서 `signal_trimed`로 결측 index의 값만 imputation"
   ]
  },
  {
   "cell_type": "markdown",
   "id": "80958846-3401-4a75-b9a8-9390e2f5b4b2",
   "metadata": {},
   "source": [
    "## RecurrentGCN"
   ]
  },
  {
   "cell_type": "markdown",
   "id": "a273c4cc-43f9-42f6-9b41-75ec926cd4c1",
   "metadata": {},
   "source": [
    ":::{.callout-tip}\n",
    "GConvGRU를 사용하였으며, Structured Sequence Modeling with Graph Convolutional Recurrent Networks 논문에서 제안된 모델\n",
    "\n",
    "이 논문은 그래프 합성곱 신경망 (Graph Convolutional Neural Network, GCN)을 이용한 시퀀스 모델링을 위해 제안된 구조인 그래프 합성곱 순환 신경망 (Graph Convolutional Recurrent Neural Network, GCRN)에 대한 연구입니다.\n",
    "\n",
    "GCRN은 시계열 데이터를 처리하기 위해 순환 신경망 (Recurrent Neural Network, RNN)과 같은 장기 의존성(long-term dependency)을 고려하는 방법으로 그래프 합성곱 신경망(GCN)을 확장합니다. 이를 위해 GCRN은 각 시간 스텝에서 그래프 상의 노드 간 상호 작용을 잘 나타낼 수 있는 새로운 그래프 합성곱 셀(GCN cell)을 도입합니다. 이 셀은 체비셰폴리노미알 필터 (Chebyshev Polynomial Filter)를 사용하여 그래프 신호의 재귀적인 확장을 수행하며, 게이트 메카니즘(Gate Mechanism)을 통해 순환 구조를 적용합니다.\n",
    "\n",
    "논문에서 실험은 여러 시퀀스 모델링 문제에서 GCRN의 성능을 검증합니다. 실험 결과 GCRN은 기존의 RNN과 GCN을 비롯한 다른 모델들과 비교하여 높은 예측 정확도를 보입니다. 이를 통해 GCRN이 그래프 시계열 데이터 분석 분야에서 유용하게 사용될 수 있다는 가능성을 제시합니다.\n",
    "\n",
    "Chebyshev polynomial filter는 Laplacian 행렬과 함께 사용하여 그래프 신경망에서 필터링을 수행하는 데 사용됩니다. 이 필터는 임의의 그래프에 대해 일반적으로 적용될 수 있으며, 이전의 고유 벡터와 함께 Laplacian의 K차 필터링을 수행하는 데 사용됩니다. 이 때 K는 Chebyshev 다항식의 차수입니다.\n",
    ":::"
   ]
  },
  {
   "cell_type": "markdown",
   "id": "3a248f5e-4b07-4ca0-84f0-985c7fdefdf4",
   "metadata": {},
   "source": [
    "## StgcnLearner"
   ]
  },
  {
   "cell_type": "markdown",
   "id": "4edbb7d1-6a80-4352-a523-280c8c841075",
   "metadata": {},
   "source": [
    "```python\n",
    "getattr(dataset,'mindex',None)\n",
    "```\n",
    "\n",
    "dataset에서 mindex 가져오기"
   ]
  },
  {
   "cell_type": "markdown",
   "id": "68901941-613b-4173-b77d-b93996654776",
   "metadata": {},
   "source": [
    "## ITStgcnLearner"
   ]
  },
  {
   "cell_type": "markdown",
   "id": "7d5a91fd-79b4-4eb0-8432-a5e3d62af4ed",
   "metadata": {},
   "source": [
    "## GNARLearner"
   ]
  },
  {
   "cell_type": "markdown",
   "id": "c7c71998-620f-4bc7-93be-c73709ae5acb",
   "metadata": {},
   "source": []
  }
 ],
 "metadata": {
  "kernelspec": {
   "display_name": "Python 3 (ipykernel)",
   "language": "python",
   "name": "python3"
  },
  "language_info": {
   "codemirror_mode": {
    "name": "ipython",
    "version": 3
   },
   "file_extension": ".py",
   "mimetype": "text/x-python",
   "name": "python",
   "nbconvert_exporter": "python",
   "pygments_lexer": "ipython3",
   "version": "3.8.12"
  }
 },
 "nbformat": 4,
 "nbformat_minor": 5
}

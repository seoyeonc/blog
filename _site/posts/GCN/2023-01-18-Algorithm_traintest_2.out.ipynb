{
  "cells": [
    {
      "cell_type": "markdown",
      "metadata": {},
      "source": [
        "# 2nd ST-GCN Example dividing train and test\n",
        "\n",
        "SEOYEON CHOI  \n",
        "1/17/23\n",
        "\n",
        "> Try to divide train and test(ST-GCN WikiMathsDatasetLoader)\n",
        "\n",
        "# import"
      ],
      "id": "3e53eb66-e53e-46be-b95d-6ed0701e3e79"
    },
    {
      "cell_type": "code",
      "execution_count": 1,
      "metadata": {},
      "outputs": [],
      "source": [
        "import rpy2\n",
        "import rpy2.robjects as ro \n",
        "from rpy2.robjects.vectors import FloatVector \n",
        "from rpy2.robjects.packages import importr\n",
        "\n",
        "import torch\n",
        "import numpy as np\n",
        "from tqdm import tqdm\n",
        "\n",
        "import torch.nn.functional as F\n",
        "from torch_geometric_temporal.nn.recurrent import GConvGRU\n",
        "\n",
        "import matplotlib.pyplot as plt\n",
        "import pandas as pd\n",
        "\n",
        "import time\n",
        "\n",
        "from scipy.interpolate import interp1d"
      ],
      "id": "582b803b-db6c-4482-b72a-7783766f6d24"
    },
    {
      "cell_type": "code",
      "execution_count": 2,
      "metadata": {},
      "outputs": [],
      "source": [
        "class RecurrentGCN(torch.nn.Module):\n",
        "    def __init__(self, node_features, filters):\n",
        "        super(RecurrentGCN, self).__init__()\n",
        "        self.recurrent = GConvGRU(node_features, filters, 2)\n",
        "        self.linear = torch.nn.Linear(filters, 1)\n",
        "\n",
        "    def forward(self, x, edge_index, edge_weight):\n",
        "        h = self.recurrent(x, edge_index, edge_weight)\n",
        "        h = F.relu(h)\n",
        "        h = self.linear(h)\n",
        "        return h"
      ],
      "id": "0435e511-0f8a-4e05-bb76-3f5dd4d095dc"
    },
    {
      "cell_type": "markdown",
      "metadata": {},
      "source": [
        "# Data"
      ],
      "id": "19fa9315-0f99-4ab2-b780-e464c16f35f7"
    },
    {
      "cell_type": "code",
      "execution_count": 110,
      "metadata": {},
      "outputs": [],
      "source": [
        "from torch_geometric_temporal.dataset import WikiMathsDatasetLoader\n",
        "from torch_geometric_temporal.signal import temporal_signal_split"
      ],
      "id": "64934611-f255-468f-b3f3-630d6145d696"
    },
    {
      "cell_type": "code",
      "execution_count": 111,
      "metadata": {},
      "outputs": [],
      "source": [
        "loader = WikiMathsDatasetLoader()"
      ],
      "id": "265fd058-d7aa-4ba9-8fd7-bef079a6490d"
    },
    {
      "cell_type": "code",
      "execution_count": 112,
      "metadata": {},
      "outputs": [],
      "source": [
        "dataset = loader.get_dataset(lags=1)"
      ],
      "id": "32a83f66-9ea7-4fb4-92fa-4b419bcbc14c"
    },
    {
      "cell_type": "code",
      "execution_count": 113,
      "metadata": {},
      "outputs": [],
      "source": [
        "train_dataset, test_dataset = temporal_signal_split(dataset, train_ratio=0.8)"
      ],
      "id": "1384e8f3-b814-42bf-bdd9-f3504e9f4255"
    },
    {
      "cell_type": "markdown",
      "metadata": {},
      "source": [
        "## Train"
      ],
      "id": "1a5de89d-720a-4a8a-8867-18da4aba84f3"
    },
    {
      "cell_type": "code",
      "execution_count": 114,
      "metadata": {},
      "outputs": [],
      "source": [
        "data_train=[]\n",
        "for time, snapshot in enumerate(train_dataset):\n",
        "    data_train.append([time,snapshot])"
      ],
      "id": "f852b2a1-e301-4d69-a5db-2f7c19a5d791"
    },
    {
      "cell_type": "code",
      "execution_count": 115,
      "metadata": {},
      "outputs": [],
      "source": [
        "data_train[0][1].x.shape,data_train[0][1].y.shape,data_train[0][1].edge_index.shape,data_train[0][1].edge_attr.shape"
      ],
      "id": "127b7c51-2142-4d4c-a44e-3df5b6a46f77"
    },
    {
      "cell_type": "code",
      "execution_count": 116,
      "metadata": {},
      "outputs": [],
      "source": [
        "time"
      ],
      "id": "5b0747dc-ebf1-4c4b-a507-59a33ddfc929"
    },
    {
      "cell_type": "code",
      "execution_count": 117,
      "metadata": {},
      "outputs": [],
      "source": [
        "T_train = time\n",
        "N = len(data[0][1].x)"
      ],
      "id": "8a712cb8-270e-4fa2-b7dd-9f3c245c2e48"
    },
    {
      "cell_type": "code",
      "execution_count": 118,
      "metadata": {},
      "outputs": [],
      "source": [
        "edge_index = data_train[0][1].edge_index\n",
        "edge_attr = data_train[0][1].edge_attr"
      ],
      "id": "7119aadb-6aed-4232-bafc-19b6318685d7"
    },
    {
      "cell_type": "code",
      "execution_count": 119,
      "metadata": {},
      "outputs": [],
      "source": [
        "x_train = []\n",
        "for i in range(time):\n",
        "    x_train.append(data_train[i][1].x)"
      ],
      "id": "f40d5b3e-60a0-4591-bea8-f8e076f1889e"
    },
    {
      "cell_type": "code",
      "execution_count": 120,
      "metadata": {},
      "outputs": [],
      "source": [
        "data_tensor = torch.Tensor()\n",
        "# Iterate over the data points of the dataset\n",
        "for i in x_train:\n",
        "    # Concatenate the data point to the tensor\n",
        "    data_tensor = torch.cat((data_tensor, i), dim=0)\n",
        "x_train = data_tensor.reshape(time,1068,-1)\n",
        "x_train.shape"
      ],
      "id": "28e0f31c-6415-4f26-84e3-7fbafacb676e"
    },
    {
      "cell_type": "code",
      "execution_count": 121,
      "metadata": {},
      "outputs": [],
      "source": [
        "y_train = []\n",
        "for i in range(time):\n",
        "    y_train.append(data_train[i][1].y)"
      ],
      "id": "05c4ed97-0e35-48cc-a4a7-b7ef902a83a2"
    },
    {
      "cell_type": "code",
      "execution_count": 122,
      "metadata": {},
      "outputs": [],
      "source": [
        "data_tensor = torch.Tensor()\n",
        "# Iterate over the data points of the dataset\n",
        "for i in y_train:\n",
        "    # Concatenate the data point to the tensor\n",
        "    data_tensor = torch.cat((data_tensor, i), dim=0)\n",
        "y_train = data_tensor.reshape(time,1068)\n",
        "y_train.shape"
      ],
      "id": "6f12fcc8-8de5-4660-af6f-60bb733206a4"
    },
    {
      "cell_type": "code",
      "execution_count": 123,
      "metadata": {},
      "outputs": [],
      "source": [
        "x_train.shape, y_train.shape"
      ],
      "id": "c1c627bb-4cda-47df-81b3-e856729a4cea"
    },
    {
      "cell_type": "markdown",
      "metadata": {},
      "source": [
        "## Test"
      ],
      "id": "9ae34fda-00f3-44c1-92ba-79ad925e9508"
    },
    {
      "cell_type": "code",
      "execution_count": 124,
      "metadata": {},
      "outputs": [],
      "source": [
        "data_test=[]\n",
        "for time, snapshot in enumerate(test_dataset):\n",
        "    data_test.append([time,snapshot])"
      ],
      "id": "d465740e-34b4-4610-b7a2-73f253b6e024"
    },
    {
      "cell_type": "code",
      "execution_count": 125,
      "metadata": {},
      "outputs": [],
      "source": [
        "data_test[0][1].x.shape,data_test[0][1].y.shape,data_test[0][1].edge_index.shape,data_test[0][1].edge_attr.shape"
      ],
      "id": "d5fbc99c-2960-4b65-aa70-4706b726a9a8"
    },
    {
      "cell_type": "code",
      "execution_count": 126,
      "metadata": {},
      "outputs": [],
      "source": [
        "time"
      ],
      "id": "debb766f-12f5-4824-8359-90dc6ecaf6de"
    },
    {
      "cell_type": "code",
      "execution_count": 127,
      "metadata": {},
      "outputs": [],
      "source": [
        "T_test = time"
      ],
      "id": "e0572c4e-e699-4ec8-b1d0-60bc8e37cda4"
    },
    {
      "cell_type": "code",
      "execution_count": 128,
      "metadata": {},
      "outputs": [],
      "source": [
        "x_test = []\n",
        "for i in range(time):\n",
        "    x_test.append(data_test[i][1].x)"
      ],
      "id": "87853eff-b48f-41d0-9ce8-abf8116bb271"
    },
    {
      "cell_type": "code",
      "execution_count": 129,
      "metadata": {},
      "outputs": [],
      "source": [
        "data_tensor = torch.Tensor()\n",
        "# Iterate over the data points of the dataset\n",
        "for i in x_test:\n",
        "    # Concatenate the data point to the tensor\n",
        "    data_tensor = torch.cat((data_tensor, i), dim=0)\n",
        "x_test = data_tensor.reshape(time,1068,-1)\n",
        "x_test.shape"
      ],
      "id": "4ab6d738-6ce7-4178-a3e4-424e3e162b91"
    },
    {
      "cell_type": "code",
      "execution_count": 130,
      "metadata": {},
      "outputs": [],
      "source": [
        "y_test = []\n",
        "for i in range(time):\n",
        "    y_test.append(data_test[i][1].y)"
      ],
      "id": "ffdfd03d-dc14-449b-a747-3aa78532c657"
    },
    {
      "cell_type": "code",
      "execution_count": 131,
      "metadata": {},
      "outputs": [],
      "source": [
        "data_tensor = torch.Tensor()\n",
        "# Iterate over the data points of the dataset\n",
        "for i in y_test:\n",
        "    # Concatenate the data point to the tensor\n",
        "    data_tensor = torch.cat((data_tensor, i), dim=0)\n",
        "y_test = data_tensor.reshape(time,1068)\n",
        "y_test.shape"
      ],
      "id": "a1d9de3c-979c-4253-b936-5f8efabd1a30"
    },
    {
      "cell_type": "code",
      "execution_count": 132,
      "metadata": {},
      "outputs": [],
      "source": [
        "x_test.shape, y_test.shape"
      ],
      "id": "893f2add-bf00-4567-a4a5-9f15c07f9db5"
    },
    {
      "cell_type": "markdown",
      "metadata": {},
      "source": [
        "# Randomly Missing Values"
      ],
      "id": "06e75095-b260-4c97-81e1-8e07dc5e9550"
    },
    {
      "cell_type": "code",
      "execution_count": 189,
      "metadata": {},
      "outputs": [],
      "source": [
        "x_train = x_train.reshape(-1,N)"
      ],
      "id": "8547f1d6-6213-4566-a72e-8953859d4457"
    },
    {
      "cell_type": "code",
      "execution_count": 190,
      "metadata": {},
      "outputs": [],
      "source": [
        "np.random.seed(90)\n",
        "seed_number = np.random.choice(len(x_train),290,replace=False)"
      ],
      "id": "38021d8e-a6ee-4f61-88b7-fcc07a95ba76"
    },
    {
      "cell_type": "code",
      "execution_count": 191,
      "metadata": {},
      "outputs": [],
      "source": [
        "x_train[seed_number] = float('nan')"
      ],
      "id": "68823c18-c063-4d13-a8a7-07e60fb7f84d"
    },
    {
      "cell_type": "markdown",
      "metadata": {},
      "source": [
        "# 1) Missing Value - Mean"
      ],
      "id": "2d52f584-5631-438a-93a7-37436f898dc5"
    },
    {
      "cell_type": "code",
      "execution_count": 136,
      "metadata": {},
      "outputs": [],
      "source": [
        "x_train_mean = x_train.clone()"
      ],
      "id": "beeadd81-fd76-4d97-aa8b-afedd3d4a738"
    },
    {
      "cell_type": "code",
      "execution_count": 140,
      "metadata": {},
      "outputs": [],
      "source": [
        "df = pd.DataFrame(x_train_mean.tolist())\n",
        "mean_value = df.mean() # finds the mean value of the column A\n",
        "df = df.fillna(mean_value) # replace missing values with the mean value"
      ],
      "id": "da4c5c80-f244-4cc2-807b-6715d3e787e8"
    },
    {
      "cell_type": "code",
      "execution_count": 143,
      "metadata": {},
      "outputs": [],
      "source": [
        "x_train_mean = torch.Tensor(df.values)"
      ],
      "id": "0e25880a-4e51-4f13-9377-25088fd77364"
    },
    {
      "cell_type": "markdown",
      "metadata": {},
      "source": [
        "## ST-GCN"
      ],
      "id": "80500289-898f-4b5d-95bd-856f14a3ea9f"
    },
    {
      "cell_type": "code",
      "execution_count": 146,
      "metadata": {},
      "outputs": [],
      "source": [
        "mean_f_train = x_train_mean.reshape(T_train,N,1).float()"
      ],
      "id": "d945cd38-4b5f-4633-8a2b-fb39cd69b3aa"
    },
    {
      "cell_type": "code",
      "execution_count": 169,
      "metadata": {},
      "outputs": [],
      "source": [
        "mean_X = mean_f_train[:438,:,:]\n",
        "mean_y = mean_f_train[145:,:,:]"
      ],
      "id": "4a54af56-848c-4872-b170-8349cf389551"
    },
    {
      "cell_type": "code",
      "execution_count": 170,
      "metadata": {},
      "outputs": [],
      "source": [
        "mean_X.shape,mean_y.shape"
      ],
      "id": "c4661a92-991f-4aa5-8256-c44867edad53"
    },
    {
      "cell_type": "code",
      "execution_count": 153,
      "metadata": {},
      "outputs": [
        {
          "output_type": "stream",
          "name": "stderr",
          "text": [
            "100%|██████████| 50/50 [04:17<00:00,  5.15s/it]"
          ]
        }
      ],
      "source": [
        "model = RecurrentGCN(node_features=1, filters=4)\n",
        "\n",
        "optimizer = torch.optim.Adam(model.parameters(), lr=0.01)\n",
        "\n",
        "model.train()\n",
        "\n",
        "for epoch in tqdm(range(50)):\n",
        "    for time, (xt,yt) in enumerate(zip(mean_X,mean_y)):\n",
        "        y_hat = model(xt, edge_index, edge_attr)\n",
        "        cost = torch.mean((y_hat-yt)**2)\n",
        "        cost.backward()\n",
        "        optimizer.step()\n",
        "        optimizer.zero_grad()"
      ],
      "id": "17757c29-b6ce-445b-982b-851d21eec215"
    },
    {
      "cell_type": "code",
      "execution_count": 210,
      "metadata": {},
      "outputs": [],
      "source": [
        "mean_X_fore = mean_f_train[438:,:]"
      ],
      "id": "5e0a3920-120e-48b8-b197-21a83e2150b5"
    },
    {
      "cell_type": "code",
      "execution_count": 212,
      "metadata": {},
      "outputs": [],
      "source": [
        "mean_fhat = torch.stack([model(xt, edge_index, edge_attr) for xt in mean_X_fore]).detach().numpy()"
      ],
      "id": "5cb2f782-6ceb-4b13-81a6-ecfa8d86ff30"
    },
    {
      "cell_type": "code",
      "execution_count": 213,
      "metadata": {},
      "outputs": [],
      "source": [
        "mean_X_fore.shape,x_test.shape"
      ],
      "id": "0f490c3d-0ca0-49d7-a321-fb9513880b9c"
    },
    {
      "cell_type": "markdown",
      "metadata": {},
      "source": [
        "# 2) Missing Value - Linear Interpolation"
      ],
      "id": "5a5c785e-9773-4de4-8ff8-d89fb7c2ce19"
    },
    {
      "cell_type": "code",
      "execution_count": 192,
      "metadata": {},
      "outputs": [],
      "source": [
        "df = pd.DataFrame(x_train.tolist())\n",
        "df.interpolate(method='linear', inplace=True)\n",
        "df = df.fillna(0)"
      ],
      "id": "6e16f6c2-6031-49af-9ce3-7647f7e08509"
    },
    {
      "cell_type": "code",
      "execution_count": 196,
      "metadata": {},
      "outputs": [],
      "source": [
        "x_train_linear = torch.Tensor(df.values).reshape(T_train,N,1)"
      ],
      "id": "6e0b5849-c161-4c45-902d-8cb0a9c75956"
    },
    {
      "cell_type": "markdown",
      "metadata": {},
      "source": [
        "## ST-GCN"
      ],
      "id": "47eeb64d-18d6-4bde-850a-34520e64ecd1"
    },
    {
      "cell_type": "code",
      "execution_count": 197,
      "metadata": {},
      "outputs": [],
      "source": [
        "linear_f_train = x_train_linear.clone()"
      ],
      "id": "dc775e53-a11c-49c2-9fbf-7feea9e7f872"
    },
    {
      "cell_type": "code",
      "execution_count": 199,
      "metadata": {},
      "outputs": [],
      "source": [
        "linear_X = linear_f_train[:438,:,:]\n",
        "linear_y = linear_f_train[145:,:,:]"
      ],
      "id": "b1a8eb34-6725-4890-986c-04ece7d187a2"
    },
    {
      "cell_type": "code",
      "execution_count": 200,
      "metadata": {},
      "outputs": [
        {
          "output_type": "stream",
          "name": "stderr",
          "text": [
            "100%|██████████| 50/50 [04:20<00:00,  5.22s/it]"
          ]
        }
      ],
      "source": [
        "model = RecurrentGCN(node_features=1, filters=4)\n",
        "\n",
        "optimizer = torch.optim.Adam(model.parameters(), lr=0.01)\n",
        "\n",
        "model.train()\n",
        "\n",
        "for epoch in tqdm(range(50)):\n",
        "    for time, (xt,yt) in enumerate(zip(linear_X,linear_y)):\n",
        "        y_hat = model(xt, edge_index, edge_attr)\n",
        "        cost = torch.mean((y_hat-yt)**2)\n",
        "        cost.backward()\n",
        "        optimizer.step()\n",
        "        optimizer.zero_grad()"
      ],
      "id": "a84033d9-9e74-48c9-a84c-029540036184"
    },
    {
      "cell_type": "code",
      "execution_count": 237,
      "metadata": {},
      "outputs": [],
      "source": [
        "linear_X_fore = linear_f_train[438:,:]"
      ],
      "id": "2c8393de-ee4f-4855-a6aa-9075a5c25295"
    },
    {
      "cell_type": "code",
      "execution_count": 238,
      "metadata": {},
      "outputs": [],
      "source": [
        "linear_X_fore.shape"
      ],
      "id": "43dceb72-feae-423d-ac0c-108189711576"
    },
    {
      "cell_type": "code",
      "execution_count": 239,
      "metadata": {},
      "outputs": [],
      "source": [
        "linear_fhat = torch.stack([model(xt, edge_index, edge_attr) for xt in linear_X_fore]).detach().numpy()"
      ],
      "id": "ef26f646-48a2-41e8-bdef-c99ef04a9010"
    },
    {
      "cell_type": "code",
      "execution_count": 240,
      "metadata": {},
      "outputs": [],
      "source": [
        "linear_X_fore.shape,x_test.shape"
      ],
      "id": "084d2d18-7e6b-4c3f-9b8c-104f094d3b06"
    },
    {
      "cell_type": "markdown",
      "metadata": {},
      "source": [
        "# Comparison\n",
        "\n",
        "MSE"
      ],
      "id": "eb0e0d36-7263-47a4-a63e-ae85c3b724eb"
    },
    {
      "cell_type": "code",
      "execution_count": 235,
      "metadata": {},
      "outputs": [],
      "source": [
        "((pd.DataFrame(mean_fhat.reshape(T_test,N)) -  pd.DataFrame(x_test.reshape(T_test,N)))**2).mean()"
      ],
      "id": "657ba66f-2dc2-4e32-bc4f-74ae95c1f0db"
    },
    {
      "cell_type": "code",
      "execution_count": 241,
      "metadata": {},
      "outputs": [],
      "source": [
        "((pd.DataFrame(linear_fhat.reshape(T_test,N)) -  pd.DataFrame(x_test.reshape(T_test,N)))**2).mean()"
      ],
      "id": "8e5a0177-d44f-4055-a014-0ae6f762841e"
    }
  ],
  "nbformat": 4,
  "nbformat_minor": 5,
  "metadata": {
    "kernelspec": {
      "name": "python3",
      "display_name": "Python 3 (ipykernel)",
      "language": "python"
    },
    "language_info": {
      "name": "python",
      "codemirror_mode": {
        "name": "ipython",
        "version": "3"
      },
      "file_extension": ".py",
      "mimetype": "text/x-python",
      "nbconvert_exporter": "python",
      "pygments_lexer": "ipython3",
      "version": "3.8.12"
    }
  }
}
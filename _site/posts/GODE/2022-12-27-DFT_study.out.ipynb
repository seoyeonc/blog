{
  "cells": [
    {
      "cell_type": "markdown",
      "metadata": {},
      "source": [
        "# Discrete Fourier Transform\n",
        "\n",
        "SEOYEON CHOI  \n",
        "12/27/22\n",
        "\n",
        "> DFT\n",
        "\n",
        "https://miruetoto.quarto.pub/yechan/posts/CGSP/2022-12-24-CGSP-Chap-8-3-DFT.html#fnref1\n",
        "\n",
        "https://miruetoto.github.io/yechan/%EB%B2%A0%EC%9D%B4%EC%A7%80%EC%95%88/2019/11/24/(%EB%85%B8%ED%8A%B8)-%EB%B2%A0%EC%9D%B4%EC%A7%80%EC%95%88-%EC%B6%94%EB%A1%A0-%EB%B2%A0%EC%9D%B4%EC%A7%80%EC%95%88.html\n",
        "\n",
        "## import"
      ],
      "id": "5e70cbde-7754-4734-b078-c473998d1ea3"
    },
    {
      "cell_type": "code",
      "execution_count": 12,
      "metadata": {},
      "outputs": [],
      "source": [
        "import numpy as np"
      ],
      "id": "6ce9196e-9e50-493c-86ff-8d92c62b9e75"
    },
    {
      "cell_type": "markdown",
      "metadata": {},
      "source": [
        "### Forward operator A"
      ],
      "id": "ad13bba7-a05c-4a48-ba58-7909f972e5a8"
    },
    {
      "cell_type": "code",
      "execution_count": 15,
      "metadata": {},
      "outputs": [],
      "source": [
        "A = np.array([[0, 0, 0, 0, 1],\n",
        "    [1, 0, 0, 0, 0],\n",
        "    [0, 1, 0, 0, 0],\n",
        "    [0, 0, 1, 0, 0],\n",
        "    [0, 0, 0, 1, 0]])\n",
        "A"
      ],
      "id": "417064c6-5e95-4c34-9561-087f1c1b0bb1"
    },
    {
      "cell_type": "code",
      "execution_count": 21,
      "metadata": {},
      "outputs": [],
      "source": [
        "np.transpose(A)@A"
      ],
      "id": "df02eac6-0890-4b24-9670-647f1d619c72"
    },
    {
      "cell_type": "markdown",
      "metadata": {},
      "source": [
        "> note: A is orthogonal matrix"
      ],
      "id": "1146e07a-d74d-482d-8066-98cc3a79ac33"
    },
    {
      "cell_type": "code",
      "execution_count": 23,
      "metadata": {},
      "outputs": [],
      "source": [
        "s = np.array([[1],[22],[333],[4444],[55555]])\n",
        "s"
      ],
      "id": "de3f20fa-0f08-4f49-943d-f2ad01922228"
    },
    {
      "cell_type": "code",
      "execution_count": 31,
      "metadata": {},
      "outputs": [],
      "source": [
        "A@s"
      ],
      "id": "251efdc5-7ade-458b-a5f1-7b8fed5c97ce"
    },
    {
      "cell_type": "code",
      "execution_count": 33,
      "metadata": {},
      "outputs": [],
      "source": [
        "A@A@s"
      ],
      "id": "8adc5ffb-d924-414e-8d3f-fdfa29962386"
    },
    {
      "cell_type": "code",
      "execution_count": 34,
      "metadata": {},
      "outputs": [],
      "source": [
        "A@A@A@s"
      ],
      "id": "304c170a-3e57-4ea5-86ad-05fc5ec6caa8"
    },
    {
      "cell_type": "markdown",
      "metadata": {},
      "source": [
        "> note : thus A is a forward operator,A\\* is a backward operator.\n",
        "\n",
        "### DFT\n",
        "\n",
        "$A = DFT^* \\Lambda DFT$"
      ],
      "id": "c58af62d-0309-4ddf-b824-0e6afd6731d1"
    },
    {
      "cell_type": "code",
      "execution_count": 38,
      "metadata": {},
      "outputs": [],
      "source": [
        "λ, ψ = np.linalg.eig(A)\n",
        "λ, ψ"
      ],
      "id": "4f44f609-8419-478c-9e39-d710b3b7814f"
    },
    {
      "cell_type": "code",
      "execution_count": 43,
      "metadata": {},
      "outputs": [],
      "source": [
        "λ.shape, ψ.shape"
      ],
      "id": "753222f4-3b22-4838-8eff-c778f7bcfc53"
    },
    {
      "cell_type": "code",
      "execution_count": 98,
      "metadata": {},
      "outputs": [],
      "source": [
        "A "
      ],
      "id": "8c4a5ae8-fea5-4fd0-aa2c-1b7bacc4f518"
    },
    {
      "cell_type": "code",
      "execution_count": 101,
      "metadata": {},
      "outputs": [],
      "source": [
        "(ψ @ np.diag(λ) @ ψ.transpose()).round(2)"
      ],
      "id": "805c3a38-624c-4dab-b1ae-43bc7f49114c"
    },
    {
      "cell_type": "markdown",
      "metadata": {},
      "source": [
        "?\n",
        "\n",
        "define $\\psi^* = DFT$"
      ],
      "id": "6e718f12-2b91-466b-923f-963ccb9cc8c0"
    },
    {
      "cell_type": "code",
      "execution_count": 76,
      "metadata": {},
      "outputs": [],
      "source": [
        "DFT = np.transpose(ψ)\n",
        "DFT"
      ],
      "id": "de86a727-849e-4a17-beb2-ffae2069ce7b"
    },
    {
      "cell_type": "code",
      "execution_count": 89,
      "metadata": {},
      "outputs": [],
      "source": [
        "λ[3,]"
      ],
      "id": "05f264cc-b4ca-4102-99ac-c358048e5e15"
    },
    {
      "cell_type": "code",
      "execution_count": 92,
      "metadata": {},
      "outputs": [],
      "source": [
        "a=np.array([1,2,3,4])\n",
        "np.diag(np.diag(a))"
      ],
      "id": "bd31b315-a4c7-4778-a7cd-8fdc47995137"
    },
    {
      "cell_type": "code",
      "execution_count": 94,
      "metadata": {},
      "outputs": [],
      "source": [
        "λ"
      ],
      "id": "538788fe-cef7-4593-ae45-5f1f774a40e6"
    },
    {
      "cell_type": "code",
      "execution_count": 106,
      "metadata": {},
      "outputs": [],
      "source": [
        "(np.matrix(ψ)@np.matrix(np.diag(λ))@np.matrix(ψ).H).round(3)"
      ],
      "id": "22585377-b1b8-4fc9-ae54-dc51225be9b7"
    },
    {
      "cell_type": "code",
      "execution_count": 109,
      "metadata": {},
      "outputs": [],
      "source": [
        "np.matrix(ψ).H"
      ],
      "id": "96384f6e-2d38-43e9-9ae1-a52d136f77a2"
    },
    {
      "cell_type": "markdown",
      "metadata": {},
      "source": [
        "### Spectral components and Frequencies\n",
        "\n",
        "$$\\{ 1,\\psi_1, \\psi_2, \\psi_3,\\dots, \\psi_{N-1} \\}$$\n",
        "\n",
        "These vectors are called spectral components.\n",
        "\n",
        "In Physics and in operator theory, these eigenvalues are the frequencies\n",
        "of the signal.\n",
        "\n",
        "Eigenvalues of $A$"
      ],
      "id": "f801eee8-9a5f-40e0-955c-9005d348333d"
    }
  ],
  "nbformat": 4,
  "nbformat_minor": 5,
  "metadata": {
    "kernelspec": {
      "name": "python3",
      "display_name": "Python 3 (ipykernel)",
      "language": "python"
    },
    "language_info": {
      "name": "python",
      "codemirror_mode": {
        "name": "ipython",
        "version": "3"
      },
      "file_extension": ".py",
      "mimetype": "text/x-python",
      "nbconvert_exporter": "python",
      "pygments_lexer": "ipython3",
      "version": "3.8.12"
    }
  }
}
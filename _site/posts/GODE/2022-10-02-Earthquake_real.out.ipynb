{
  "cells": [
    {
      "cell_type": "markdown",
      "metadata": {},
      "source": [
        "# Earthquake\n",
        "\n",
        "SEOYEON CHOI  \n",
        "11/24/22\n",
        "\n",
        "Real analysis\n",
        "\n",
        "## imports"
      ],
      "id": "0e25a96b-e783-43ee-870c-4959bba81829"
    },
    {
      "cell_type": "code",
      "execution_count": 6,
      "metadata": {},
      "outputs": [],
      "source": [
        "import tqdm\n",
        "import numpy as np\n",
        "import pandas as pd\n",
        "import matplotlib.pyplot as plt \n",
        "import plotly.express as px\n",
        "import warnings\n",
        "warnings.simplefilter(\"ignore\", np.ComplexWarning)\n",
        "from haversine import haversine\n",
        "from IPython.display import HTML\n",
        "import plotly.graph_objects as go"
      ],
      "id": "d51bdc09-fbb1-45ef-8217-3a6ac66df5ed"
    },
    {
      "cell_type": "code",
      "execution_count": 7,
      "metadata": {},
      "outputs": [],
      "source": [
        "import rpy2\n",
        "import rpy2.robjects as ro \n",
        "from rpy2.robjects.vectors import FloatVector \n",
        "from rpy2.robjects.packages import importr"
      ],
      "id": "1a7a0076-fac7-449c-a187-f7c07ad9482c"
    },
    {
      "cell_type": "markdown",
      "metadata": {},
      "source": [
        "## load data and clean it\n",
        "\n",
        "`-` load"
      ],
      "id": "5f71417e-3fe2-4b71-bbea-b6c0eddf98fe"
    },
    {
      "cell_type": "code",
      "execution_count": 8,
      "metadata": {},
      "outputs": [],
      "source": [
        "df= pd.read_csv('https://raw.githubusercontent.com/plotly/datasets/master/earthquakes-23k.csv')\n",
        "df"
      ],
      "id": "fca4f004-9b4e-4208-87a9-14412092a2ad"
    },
    {
      "cell_type": "code",
      "execution_count": 9,
      "metadata": {},
      "outputs": [],
      "source": [
        "df_korea= pd.read_csv('earthquake_korea2.csv').iloc[:,[1,2,5,6]].rename(columns={'규모':'Magnitude'})"
      ],
      "id": "0b3422cb-fa44-43a8-b39e-358e4e375905"
    },
    {
      "cell_type": "markdown",
      "metadata": {},
      "source": [
        "https://www.weather.go.kr/w/eqk-vol/search/korea.do?schOption=&xls=0&startTm=2012-01-02&endTm=2022-06-17&startSize=2&endSize=&startLat=&endLat=&startLon=&endLon=&lat=&lon=&dist=&keyword=&dpType=m"
      ],
      "id": "2a6f9e6f-b7a2-4415-b7b0-af7a84e81d6e"
    },
    {
      "cell_type": "code",
      "execution_count": 10,
      "metadata": {},
      "outputs": [],
      "source": [
        "df_global= pd.concat([pd.read_csv('00_05.csv'),pd.read_csv('05_10.csv'),pd.read_csv('10_15.csv'),pd.read_csv('15_20.csv')]).iloc[:,[0,1,2,4]].rename(columns={'latitude':'Latitude','longitude':'Longitude','mag':'Magnitude'}).reset_index().iloc[:,1:]"
      ],
      "id": "9e110174-e345-48d3-a559-161cf669e493"
    },
    {
      "cell_type": "markdown",
      "metadata": {},
      "source": [
        "https://www.usgs.gov/programs/earthquake-hazards/lists-maps-and-statistics\n",
        "\n",
        "`-` cleaning"
      ],
      "id": "0fadd892-0a90-445b-abc6-296e9afc00f9"
    },
    {
      "cell_type": "code",
      "execution_count": 11,
      "metadata": {},
      "outputs": [],
      "source": [
        "df.Date[df.Date == '1975-02-23T02:58:41.000Z']"
      ],
      "id": "febb593a-a221-4583-ad79-cf667951ea4a"
    },
    {
      "cell_type": "code",
      "execution_count": 12,
      "metadata": {},
      "outputs": [],
      "source": [
        "df.iloc[3378,0] = '02/03/1975'"
      ],
      "id": "708bd000-56cf-4f93-99ee-3828a550c961"
    },
    {
      "cell_type": "code",
      "execution_count": 13,
      "metadata": {},
      "outputs": [],
      "source": [
        "df.Date[df.Date == '1985-04-28T02:53:41.530Z']"
      ],
      "id": "b4b38057-e46a-49a1-a4f8-12905458285c"
    },
    {
      "cell_type": "code",
      "execution_count": 14,
      "metadata": {},
      "outputs": [],
      "source": [
        "df.iloc[7512,0] = '04/28/1985'"
      ],
      "id": "051c9992-afe9-47da-9df0-32fd3070d903"
    },
    {
      "cell_type": "code",
      "execution_count": 15,
      "metadata": {},
      "outputs": [],
      "source": [
        "df.Date[df.Date == '2011-03-13T02:23:34.520Z']"
      ],
      "id": "18bf4961-6653-4ee5-8196-71e71b9557a4"
    },
    {
      "cell_type": "code",
      "execution_count": 16,
      "metadata": {},
      "outputs": [],
      "source": [
        "df.iloc[20650,0] = '03/13/2011'"
      ],
      "id": "cb5fc2e0-beed-4fc8-b293-e21f8253af68"
    },
    {
      "cell_type": "code",
      "execution_count": 17,
      "metadata": {},
      "outputs": [],
      "source": [
        "df= df.assign(Year=list(map(lambda x: x.split('/')[-1], df.Date))).iloc[:,1:]\n",
        "df"
      ],
      "id": "7075a44f-e031-4314-a8c8-f11af608da3a"
    },
    {
      "cell_type": "code",
      "execution_count": 18,
      "metadata": {},
      "outputs": [],
      "source": [
        "df.Year = df.Year.astype(np.float64)"
      ],
      "id": "d9a81f38-11da-4acf-bb8a-1867c2855641"
    },
    {
      "cell_type": "code",
      "execution_count": 19,
      "metadata": {},
      "outputs": [],
      "source": [
        "df_korea = df_korea.assign(Year=list(map(lambda x: x.split('/')[0], df_korea.발생시각))).iloc[:,1:]\n",
        "df_korea = df_korea.assign(Latitude=list(map(lambda x: x.split(' ')[0], df_korea.위도))).iloc[:,[0,2,3,4]]\n",
        "df_korea = df_korea.assign(Longitude=list(map(lambda x: x.split(' ')[0], df_korea.경도))).iloc[:,[0,2,3,4]]"
      ],
      "id": "bbe367a4-cc7b-4fca-bca2-8c441bc89400"
    },
    {
      "cell_type": "code",
      "execution_count": 20,
      "metadata": {},
      "outputs": [],
      "source": [
        "df_global = df_global.assign(Year=list(map(lambda x: x.split('-')[0], df_global.time))).iloc[:,1:]"
      ],
      "id": "9338b850-bf28-4a90-9114-8e070701cf09"
    },
    {
      "cell_type": "code",
      "execution_count": 21,
      "metadata": {},
      "outputs": [],
      "source": [
        "df_korea.Year = df_korea.Year.astype(np.float64)\n",
        "df_korea.Latitude = df_korea.Latitude.astype(np.float64)\n",
        "df_korea.Longitude = df_korea.Longitude.astype(np.float64)\n",
        "df_global.Year = df_global.Year.astype(np.float64)"
      ],
      "id": "50ab4372-fc31-460d-8604-9f297969feae"
    },
    {
      "cell_type": "markdown",
      "metadata": {},
      "source": [
        "## define class"
      ],
      "id": "6c7d51b9-cc7d-449a-9eb3-a501c422e433"
    },
    {
      "cell_type": "code",
      "execution_count": 22,
      "metadata": {},
      "outputs": [],
      "source": [
        "class MooYaHo:\n",
        "    def __init__(self,df):\n",
        "        self.df = df \n",
        "        self.f = df.Magnitude.to_numpy()\n",
        "        self.year = df.Year.to_numpy()\n",
        "        self.lat = df.Latitude.to_numpy()\n",
        "        self.long = df.Longitude.to_numpy()\n",
        "        self.n = len(self.f)\n",
        "        \n",
        "        self.theta= None\n",
        "    def get_distance(self):\n",
        "        self.D = np.zeros([self.n,self.n])\n",
        "        locations = np.stack([self.lat, self.long],axis=1)\n",
        "        for i in tqdm.tqdm(range(self.n)):\n",
        "            for j in range(i,self.n): \n",
        "                self.D[i,j]=haversine(locations[i],locations[j])\n",
        "        self.D = self.D+self.D.T\n",
        "    def get_weightmatrix(self,theta=1,beta=0.5,kappa=4000):\n",
        "        self.theta = theta\n",
        "        dist = np.where(self.D<kappa,self.D,0)\n",
        "        self.W = np.exp(-(dist/self.theta)**2)\n",
        "\n",
        "    def _eigen(self):\n",
        "        d= self.W.sum(axis=1)\n",
        "        D= np.diag(d)\n",
        "        self.L = np.diag(1/np.sqrt(d)) @ (D-self.W) @ np.diag(1/np.sqrt(d))\n",
        "        self.lamb, self.Psi = np.linalg.eigh(self.L)\n",
        "        self.Lamb = np.diag(self.lamb)        \n",
        "    def fit(self,m):\n",
        "        self._eigen()\n",
        "        self.fhat = self.Psi[:,0:m]@self.Psi[:,0:m].T@self.f\n",
        "        self.df = self.df.assign(MagnitudeHat = self.fhat)\n",
        "        self.df = self.df.assign(Residual = self.df.Magnitude- self.df.MagnitudeHat)\n",
        "        plt.plot(self.f,'.')\n",
        "        plt.plot(self.fhat,'x')\n",
        "        \n",
        "    def vis(self,MagThresh=7,ResThresh=1):\n",
        "        fig = px.density_mapbox(self.df, \n",
        "                        lat='Latitude', \n",
        "                        lon='Longitude', \n",
        "                        z='Magnitude', \n",
        "                        radius=5,\n",
        "                        center=dict(lat=37, lon=160), \n",
        "                        zoom=1.5,\n",
        "                        height=900,\n",
        "                        opacity = 0.4,\n",
        "                        mapbox_style=\"stamen-terrain\",\n",
        "                        range_color=[-7,7])\n",
        "        fig.update_layout(margin={\"r\":0,\"t\":0,\"l\":0,\"b\":0})\n",
        "        fig.add_scattermapbox(lat = self.df.query('Magnitude > @MagThresh')['Latitude'],\n",
        "                      lon = self.df.query('Magnitude > @MagThresh')['Longitude'],\n",
        "                      text = self.df.query('Magnitude > @MagThresh')['Magnitude'],\n",
        "                      marker_size= 8,\n",
        "                      marker_color= 'red',\n",
        "                      opacity = 0.6\n",
        "                      )\n",
        "        fig.add_scattermapbox(lat = self.df.query('Residual**2 > @ResThresh')['Latitude'],\n",
        "                      lon = self.df.query('Residual**2 > @ResThresh')['Longitude'],\n",
        "                      text = self.df.query('Magnitude > @ResThresh')['Magnitude'],\n",
        "                      marker_size= 8,\n",
        "                      marker_color= 'blue',\n",
        "                      opacity = 0.5\n",
        "                      )\n",
        "        return HTML(fig.to_html(include_mathjax=False, config=dict({'scrollZoom':False})))\n",
        "    def visf(self):\n",
        "        fig = px.density_mapbox(self.df, \n",
        "                        lat='Latitude', \n",
        "                        lon='Longitude', \n",
        "                        z='Magnitude', \n",
        "                        radius=5,\n",
        "                        center=dict(lat=37, lon=160), \n",
        "                        zoom=1.5,\n",
        "                        height=900,\n",
        "                        opacity = 0.7,\n",
        "                        mapbox_style=\"stamen-terrain\",\n",
        "                        range_color=[-7,7])\n",
        "        fig.update_layout(margin={\"r\":0,\"t\":0,\"l\":0,\"b\":0})\n",
        "        return HTML(fig.to_html(include_mathjax=False, config=dict({'scrollZoom':False})))\n",
        "    def visfhat(self):\n",
        "        fig = px.density_mapbox(self.df, \n",
        "                        lat='Latitude', \n",
        "                        lon='Longitude', \n",
        "                        z='MagnitudeHat', \n",
        "                        radius=5,\n",
        "                        center=dict(lat=37, lon=160), \n",
        "                        zoom=1.5,\n",
        "                        height=900,\n",
        "                        opacity = 0.7,\n",
        "                        mapbox_style=\"stamen-terrain\",\n",
        "                        range_color=[-7,7])\n",
        "        fig.update_layout(margin={\"r\":0,\"t\":0,\"l\":0,\"b\":0})\n",
        "        return HTML(fig.to_html(include_mathjax=False, config=dict({'scrollZoom':False})))\n",
        "    def visres(self,MagThresh=7,ResThresh=1):\n",
        "        fig = px.density_mapbox(self.df, \n",
        "                        lat='Latitude', \n",
        "                        lon='Longitude', \n",
        "                        z=[0] * len(self.df), \n",
        "                        radius=5,\n",
        "                        center=dict(lat=37, lon=160), \n",
        "                        zoom=1.5,\n",
        "                        height=900,\n",
        "                        opacity = 0.7,\n",
        "                        mapbox_style=\"stamen-terrain\",\n",
        "                        range_color=[-7,7])\n",
        "        fig.update_layout(margin={\"r\":0,\"t\":0,\"l\":0,\"b\":0})\n",
        "        fig.add_scattermapbox(lat = self.df.query('Residual**2 > @ResThresh')['Latitude'],\n",
        "                      lon = self.df.query('Residual**2 > @ResThresh')['Longitude'],\n",
        "                      text = self.df.query('Magnitude > @ResThresh')['Magnitude'],\n",
        "                      marker_size= 8,\n",
        "                      marker_color= 'blue',\n",
        "                      opacity = 0.7\n",
        "                      )\n",
        "        return HTML(fig.to_html(include_mathjax=False, config=dict({'scrollZoom':False})))"
      ],
      "id": "f2bac333-76e8-49d4-9304-0a7e992c84a5"
    },
    {
      "cell_type": "code",
      "execution_count": 23,
      "metadata": {},
      "outputs": [],
      "source": [
        "class MooYaHo2(MooYaHo): # ebayesthresh 기능추가\n",
        "    def fit2(self,ref=0.5): # fit with ebayesthresh\n",
        "        self._eigen()\n",
        "        self.fbar = self.Psi.T @ self.f # fbar := graph fourier transform of f\n",
        "        self.power = self.fbar**2 \n",
        "        ebayesthresh = importr('EbayesThresh').ebayesthresh\n",
        "        self.power_threshed=np.array(ebayesthresh(FloatVector(self.fbar**2)))\n",
        "        self.fbar_threshed = np.where(self.power_threshed>0,self.fbar,0)\n",
        "        self.fhat = self.Psi@self.fbar_threshed\n",
        "        self.df = self.df.assign(MagnitudeHat = self.fhat)\n",
        "        self.df = self.df.assign(Residual = self.df.Magnitude- self.df.MagnitudeHat)\n",
        "        self.con = np.where(self.df.Residual>0.7,1,0)\n",
        "        #plt.plot(self.f,'.')\n",
        "        #plt.plot(self.fhat,'x')\n",
        "\n",
        "#         fig, axs = plt.subplots(2,2,figsize=(16,10))\n",
        "\n",
        "#         axs[0,0].plot(self.f,'b')\n",
        "#         axs[0,0].set_title('Magnitude')\n",
        "#         axs[0,0].set_ylim([4.5,9])\n",
        "\n",
        "#         axs[0,1].plot(self.fhat,'k')\n",
        "#         axs[0,1].set_title('MagnitudeHat')\n",
        "#         axs[0,1].set_ylim([4.5,9])\n",
        "\n",
        "#         axs[1,0].plot(self.con,'r*')\n",
        "#         axs[1,0].set_title('Residual square')\n",
        "\n",
        "#         axs[1,1].plot(self.f,'b')\n",
        "#         axs[1,1].plot(self.fhat,'k')\n",
        "#         axs[1,1].plot(self.con,'r*')\n",
        "#         axs[1,1].set_title('Graph')\n",
        "#         axs[1,1].set_ylim([4.5,9])\n",
        "\n",
        "#         plt.tight_layout()\n",
        "#         plt.show()"
      ],
      "id": "be64c836-3d23-48e8-bd3c-c5256c58f3c7"
    },
    {
      "cell_type": "code",
      "execution_count": 24,
      "metadata": {},
      "outputs": [],
      "source": [
        "class MooYaHo3(MooYaHo2):\n",
        "    def vis(self,MagThresh=7,ResThresh=1):\n",
        "        fig = px.density_mapbox(self.df, \n",
        "                        lat='Latitude', \n",
        "                        lon='Longitude', \n",
        "                        z='Magnitude', \n",
        "                        radius=5,\n",
        "                        center=dict(lat=37, lon=126), \n",
        "                        zoom=5.7,\n",
        "                        height=900,\n",
        "                        opacity = 0.3,\n",
        "                        mapbox_style=\"stamen-terrain\")\n",
        "        fig.update_layout(margin={\"r\":0,\"t\":0,\"l\":0,\"b\":0})\n",
        "        fig.add_scattermapbox(lat = self.df.query('Magnitude > @MagThresh')['Latitude'],\n",
        "                      lon = self.df.query('Magnitude > @MagThresh')['Longitude'],\n",
        "                      text = self.df.query('Magnitude > @MagThresh')['Magnitude'],\n",
        "                      marker_size= 8,\n",
        "                      marker_color= 'red',\n",
        "                      opacity = 0.5\n",
        "                      )\n",
        "        fig.add_scattermapbox(lat = self.df.query('Residual**2 > @ResThresh')['Latitude'],\n",
        "                      lon = self.df.query('Residual**2 > @ResThresh')['Longitude'],\n",
        "                      text = self.df.query('Magnitude > @ResThresh')['Magnitude'],\n",
        "                      marker_size= 8,\n",
        "                      marker_color= 'blue',\n",
        "                      opacity = 0.5\n",
        "                      )\n",
        "        return HTML(fig.to_html(include_mathjax=False, config=dict({'scrollZoom':False})))"
      ],
      "id": "2e2212dd-4f49-4974-85d6-e03460aaaff4"
    },
    {
      "cell_type": "code",
      "execution_count": 25,
      "metadata": {},
      "outputs": [],
      "source": [
        "       ebayesthresh = importr('EbayesThresh').ebayesthresh"
      ],
      "id": "a0084d93-235b-4cd8-a9d9-70d51b19e8ed"
    },
    {
      "cell_type": "markdown",
      "metadata": {},
      "source": [
        "## analysis_df_global(2010\\~2015)\n",
        "\n",
        "`-` make instance for analysis"
      ],
      "id": "7fa66fa5-6b88-4526-879d-1b0ee57209ad"
    },
    {
      "cell_type": "code",
      "execution_count": 32,
      "metadata": {},
      "outputs": [],
      "source": [
        "moo_global=MooYaHo2(df_global.query(\"2010 <= Year < 2015\"))"
      ],
      "id": "a237e63f-ee5f-43dc-83d3-fcb7644defa4"
    },
    {
      "cell_type": "markdown",
      "metadata": {},
      "source": [
        "`-` get distance"
      ],
      "id": "51bf899c-2c48-4bc1-8b3a-232ddf539a50"
    },
    {
      "cell_type": "code",
      "execution_count": 33,
      "metadata": {},
      "outputs": [
        {
          "output_type": "stream",
          "name": "stderr",
          "text": [
            "100%|██████████| 10762/10762 [05:32<00:00, 32.36it/s] "
          ]
        }
      ],
      "source": [
        "moo_global.get_distance()"
      ],
      "id": "4439f09f-f4b0-4c0d-a7af-84befefbb37d"
    },
    {
      "cell_type": "code",
      "execution_count": 34,
      "metadata": {},
      "outputs": [],
      "source": [
        "moo_global.D[moo_global.D>0].mean()"
      ],
      "id": "6d49837f-badd-4027-a4aa-63817c13bfc3"
    },
    {
      "cell_type": "code",
      "execution_count": 35,
      "metadata": {},
      "outputs": [
        {
          "output_type": "display_data",
          "metadata": {},
          "data": {
            "image/png": "[encoded data removed]"
          }
        }
      ],
      "source": [
        "plt.hist(moo_global.D[moo_global.D>0])"
      ],
      "id": "f7c924b6-da84-4fd4-8117-e9e4236ae2c8"
    },
    {
      "cell_type": "markdown",
      "metadata": {},
      "source": [
        "`-` weight matrix"
      ],
      "id": "1b6723ee-f40a-43cf-b3af-b205ae1d76f9"
    },
    {
      "cell_type": "code",
      "execution_count": 36,
      "metadata": {},
      "outputs": [],
      "source": [
        "moo_global.get_weightmatrix(theta=(8810.865423093777),kappa=2500) "
      ],
      "id": "c455f344-03fd-43a9-a1a6-0c3936528a33"
    },
    {
      "cell_type": "markdown",
      "metadata": {},
      "source": [
        "`-` fit"
      ],
      "id": "5b0fd8dc-4233-47a9-936c-5eb886ee97f6"
    },
    {
      "cell_type": "code",
      "execution_count": 37,
      "metadata": {},
      "outputs": [],
      "source": [
        "moo_global.fit2()"
      ],
      "id": "cd6a8625-0c49-48da-811b-e9ff0f0fe2d2"
    },
    {
      "cell_type": "code",
      "execution_count": 38,
      "metadata": {},
      "outputs": [],
      "source": [
        "moo_global.df.sort_values(\"Residual\",ascending=False).iloc[:40,:]"
      ],
      "id": "96d47c52-44ef-4216-a69b-82c8b3823daa"
    },
    {
      "cell_type": "markdown",
      "metadata": {},
      "source": [
        "(2010\\~2014 시도) - 21번째 Ouest Department, Haiti 아이티 지진 2010년\n",
        "진도 7.0 - 24번째 Puchuncavi, Valparaíso, Chile 칠레 지진 2014년 진도\n",
        "6.4 - 28번째 Baoxing County, Yaan, Sichuan, China 중국 쓰촨성 지진\n",
        "2013년 진도 6.6\n",
        "\n",
        "(2010\\~2015 시도_결과 좋지 않음?!) - 23번째 2010년 West New Britain\n",
        "Province, Papua New Guinea 진도 7.3 - 24번째 2011년 Kuzawa Terayama,\n",
        "Tanagura, Higashishirakawa District, Fukushima 963-5671, Japan 진도\n",
        "6.6 - 29번째 2015년 Kishim, Afghanistan 진도 7.5\n",
        "\n",
        "`-` vis"
      ],
      "id": "96562505-14d9-42bd-bcc0-18245ae0ab79"
    },
    {
      "cell_type": "code",
      "execution_count": 39,
      "metadata": {},
      "outputs": [],
      "source": [
        "#moo_global.visf()"
      ],
      "id": "3cabd37f-6cc0-4d09-9c4e-7613066a4470"
    },
    {
      "cell_type": "code",
      "execution_count": 40,
      "metadata": {},
      "outputs": [],
      "source": [
        "#moo_global.visfhat()"
      ],
      "id": "e575b8b3-b1b7-4454-954f-4f6c8eef1d63"
    },
    {
      "cell_type": "code",
      "execution_count": 41,
      "metadata": {},
      "outputs": [],
      "source": [
        "#moo_global.visres()"
      ],
      "id": "874d7733-f9cd-405d-a811-18ae2be635f2"
    },
    {
      "cell_type": "code",
      "execution_count": 42,
      "metadata": {},
      "outputs": [],
      "source": [
        "#moo_global.vis(MagThresh=6.9,ResThresh=0.5)"
      ],
      "id": "535f7f1e-0cfa-468e-8b87-bc4eabe2a90f"
    },
    {
      "cell_type": "markdown",
      "metadata": {},
      "source": [
        "------------------------------------------------------------------------\n",
        "\n",
        "## analysis_df_global(2015\\~2020)\n",
        "\n",
        "`-` make instance for analysis"
      ],
      "id": "ee4dbf5c-6657-49f9-92c5-fe07d043d80f"
    },
    {
      "cell_type": "code",
      "execution_count": 43,
      "metadata": {},
      "outputs": [],
      "source": [
        "moo_global=MooYaHo2(df_global.query(\"2015 <= Year <= 2020\"))"
      ],
      "id": "4096a452-775a-4165-b985-6a08740e4840"
    },
    {
      "cell_type": "markdown",
      "metadata": {},
      "source": [
        "`-` get distance"
      ],
      "id": "df3f9eca-dd6d-46bb-91e9-2a7fa88f8348"
    },
    {
      "cell_type": "code",
      "execution_count": 44,
      "metadata": {},
      "outputs": [
        {
          "output_type": "stream",
          "name": "stderr",
          "text": [
            "100%|██████████| 11239/11239 [04:35<00:00, 40.84it/s] "
          ]
        }
      ],
      "source": [
        "moo_global.get_distance()"
      ],
      "id": "21b28b93-3261-4ef2-a754-3cd430c3681a"
    },
    {
      "cell_type": "code",
      "execution_count": 45,
      "metadata": {},
      "outputs": [],
      "source": [
        "moo_global.D[moo_global.D>0].mean()"
      ],
      "id": "d4cf56db-552c-41c1-89d1-8c3214b6bca4"
    },
    {
      "cell_type": "code",
      "execution_count": 46,
      "metadata": {},
      "outputs": [
        {
          "output_type": "display_data",
          "metadata": {},
          "data": {
            "image/png": "[encoded data removed]"
          }
        }
      ],
      "source": [
        "plt.hist(moo_global.D[moo_global.D>0])"
      ],
      "id": "0321cf64-bd61-4bd5-b335-1a23c7b627da"
    },
    {
      "cell_type": "markdown",
      "metadata": {},
      "source": [
        "`-` weight matrix"
      ],
      "id": "65c2f1bd-76c3-47f3-8072-827867bd9c5a"
    },
    {
      "cell_type": "code",
      "execution_count": 47,
      "metadata": {},
      "outputs": [],
      "source": [
        "moo_global.get_weightmatrix(theta=(8814.318793468068),kappa=2500) "
      ],
      "id": "b656ed98-bff8-46b8-8b89-eec2059e0152"
    },
    {
      "cell_type": "markdown",
      "metadata": {},
      "source": [
        "`-` fit"
      ],
      "id": "fa788ef1-8315-4b59-8ab0-bbc9b6679b17"
    },
    {
      "cell_type": "code",
      "execution_count": 48,
      "metadata": {},
      "outputs": [],
      "source": [
        "moo_global.fit2()"
      ],
      "id": "bb22a07e-9c94-4f2d-9099-7d2bf9b6d6fe"
    },
    {
      "cell_type": "code",
      "execution_count": 49,
      "metadata": {},
      "outputs": [],
      "source": [
        "moo_global.df.sort_values(\"Residual\",ascending=False).iloc[:30,:]"
      ],
      "id": "a93990d9-e8f3-47ef-8e4b-7faaab001aef"
    },
    {
      "cell_type": "markdown",
      "metadata": {},
      "source": [
        "바다 아닌 거 - 8번째 2016년 Rotherham, New Zealand 뉴질랜드 카이코우라\n",
        "지진 진도 7.8 - 9번째 2015년 Langkuru Utara, Pureman, Alor Regency, East\n",
        "Nusa Tenggara, Indonesia 수마트라 진도 6.5 - 15번째 2018년 Hela\n",
        "Province, Papua New Guinea 파푸아뉴기니 진도 7.5 - 20번째 2015년\n",
        "Kalinchok, Nepal 네팔 진도 7.3 - 26번째 2019년 Coquimbo, Chile 칠레\n",
        "코킴보주 진도 6.7\n",
        "\n",
        "`-` vis"
      ],
      "id": "44aec2b1-8ac4-455b-a65e-9da0f96c6b0b"
    },
    {
      "cell_type": "code",
      "execution_count": 50,
      "metadata": {},
      "outputs": [],
      "source": [
        "#moo_global.vis(MagThresh=7,ResThresh=0.3)"
      ],
      "id": "81d84ff3-1954-47b6-b936-ceb07dc95eb6"
    },
    {
      "cell_type": "markdown",
      "metadata": {},
      "source": [
        "------------------------------------------------------------------------"
      ],
      "id": "a257e4e9-5f98-4570-afe2-35b2f569e87d"
    },
    {
      "cell_type": "code",
      "execution_count": null,
      "metadata": {},
      "outputs": [],
      "source": [
        "pd.read_html('https://en.wikipedia.org/wiki/Lists_of_21st-century_earthquakes',encoding='utf-8')[0].query('Magnitude<=7')# List of deadliest earthquakes"
      ],
      "id": "c92594df-2a80-48dc-a282-e571e8e9cf3f"
    },
    {
      "cell_type": "code",
      "execution_count": null,
      "metadata": {},
      "outputs": [],
      "source": [
        "pd.read_html('https://en.wikipedia.org/wiki/Lists_of_21st-century_earthquakes',encoding='utf-8')[3] # Deadliest earthquakes by year"
      ],
      "id": "8403c739-c661-49f1-aa20-c5bb9ad770d4"
    },
    {
      "cell_type": "markdown",
      "metadata": {},
      "source": [
        "------------------------------------------------------------------------"
      ],
      "id": "3078d204-08f9-4437-876a-b2a61afcf32d"
    },
    {
      "cell_type": "code",
      "execution_count": 52,
      "metadata": {},
      "outputs": [],
      "source": [
        "class eachlocation(MooYaHo2):\n",
        "    def haiti(self,MagThresh=7,ResThresh=1,adjzoom=5,adjmarkersize = 40):\n",
        "        fig = px.density_mapbox(self.df, \n",
        "                        lat='Latitude', \n",
        "                        lon='Longitude', \n",
        "                        z='Magnitude', \n",
        "                        radius=15,\n",
        "                        center=dict(lat=18.4430, lon=-72.5710), \n",
        "                        zoom= adjzoom,\n",
        "                        height=900,\n",
        "                        opacity = 0.8,\n",
        "                        mapbox_style=\"stamen-terrain\",\n",
        "                        range_color=[-3,3])\n",
        "        fig.update_layout(margin={\"r\":0,\"t\":0,\"l\":0,\"b\":0})\n",
        "        fig.add_scattermapbox(lat = self.df.query('Magnitude > @MagThresh')['Latitude'],\n",
        "                      lon = self.df.query('Magnitude > @MagThresh')['Longitude'],\n",
        "                      text = self.df.query('Magnitude > @MagThresh')['Magnitude'],\n",
        "                      marker_size= 5,\n",
        "                      marker_color= 'blue',\n",
        "                      opacity = 0.1\n",
        "                      )\n",
        "        fig.add_scattermapbox(lat = self.df.query('Residual**2 > @ResThresh')['Latitude'],\n",
        "                      lon = self.df.query('Residual**2 > @ResThresh')['Longitude'],\n",
        "                      text = self.df.query('Magnitude > @ResThresh')['Magnitude'],\n",
        "                      marker_size= adjmarkersize,\n",
        "                      marker_color= 'red',\n",
        "                      opacity = 0.8\n",
        "                      )\n",
        "        fig.add_trace(go.Scattermapbox(\n",
        "                    lat=self.df.query('Residual**2 > @ResThresh')['Latitude'],\n",
        "                    lon=self.df.query('Residual**2 > @ResThresh')['Longitude'],\n",
        "                    mode='markers',\n",
        "                    marker=go.scattermapbox.Marker(\n",
        "                        size=20,\n",
        "                        color='rgb(255, 255, 255)',\n",
        "                        opacity=0.4\n",
        "                    )\n",
        "                ))\n",
        "        return fig \n",
        "    def lquique(self,MagThresh=7,ResThresh=1,adjzoom=5, adjmarkersize= 40):\n",
        "        fig = px.density_mapbox(self.df, \n",
        "                        lat='Latitude', \n",
        "                        lon='Longitude', \n",
        "                        z='Magnitude', \n",
        "                        radius=15,\n",
        "                        center=dict(lat=-32.6953, lon=-71.4416), \n",
        "                        zoom=adjzoom,\n",
        "                        height=900,\n",
        "                        opacity = 0.8,\n",
        "                        mapbox_style=\"stamen-terrain\",\n",
        "                        range_color=[-7,7])\n",
        "        fig.update_layout(margin={\"r\":0,\"t\":0,\"l\":0,\"b\":0})\n",
        "        fig.add_scattermapbox(lat = self.df.query('Magnitude > @MagThresh')['Latitude'],\n",
        "                      lon = self.df.query('Magnitude > @MagThresh')['Longitude'],\n",
        "                      text = self.df.query('Magnitude > @MagThresh')['Magnitude'],\n",
        "                      marker_size= 5,\n",
        "                      marker_color= 'blue',\n",
        "                      opacity = 0.1\n",
        "                      )\n",
        "        fig.add_scattermapbox(lat = self.df.query('Residual**2 > @ResThresh')['Latitude'],\n",
        "                      lon = self.df.query('Residual**2 > @ResThresh')['Longitude'],\n",
        "                      text = self.df.query('Magnitude > @ResThresh')['Magnitude'],\n",
        "                      marker_size= adjmarkersize,\n",
        "                      marker_color= 'red',\n",
        "                      opacity = 0.8\n",
        "                      )\n",
        "        fig.add_trace(go.Scattermapbox(\n",
        "                    lat=self.df.query('Residual**2 > @ResThresh')['Latitude'],\n",
        "                    lon=self.df.query('Residual**2 > @ResThresh')['Longitude'],\n",
        "                    mode='markers',\n",
        "                    marker=go.scattermapbox.Marker(\n",
        "                        size=20,\n",
        "                        color='rgb(255, 255, 255)',\n",
        "                        opacity=0.8\n",
        "                    )\n",
        "                ))\n",
        "        return fig \n",
        "    def sichuan(self,MagThresh=7,ResThresh=1,adjzoom=5,adjmarkersize=40):\n",
        "        fig = px.density_mapbox(self.df, \n",
        "                        lat='Latitude', \n",
        "                        lon='Longitude', \n",
        "                        z='Magnitude', \n",
        "                        radius=15,\n",
        "                        center=dict(lat=30.3080, lon=102.8880), \n",
        "                        zoom=adjzoom,\n",
        "                        height=900,\n",
        "                        opacity = 0.6,\n",
        "                        mapbox_style=\"stamen-terrain\",\n",
        "                        range_color=[-7,7])\n",
        "        fig.update_layout(margin={\"r\":0,\"t\":0,\"l\":0,\"b\":0})\n",
        "        fig.add_scattermapbox(lat = self.df.query('Magnitude > @MagThresh')['Latitude'],\n",
        "                      lon = self.df.query('Magnitude > @MagThresh')['Longitude'],\n",
        "                      text = self.df.query('Magnitude > @MagThresh')['Magnitude'],\n",
        "                      marker_size= 5,\n",
        "                      marker_color= 'blue',\n",
        "                      opacity = 0.1\n",
        "                      )\n",
        "        fig.add_scattermapbox(lat = self.df.query('Residual**2 > @ResThresh')['Latitude'],\n",
        "                      lon = self.df.query('Residual**2 > @ResThresh')['Longitude'],\n",
        "                      text = self.df.query('Magnitude > @ResThresh')['Magnitude'],\n",
        "                      marker_size= adjmarkersize,\n",
        "                      marker_color= 'red',\n",
        "                      opacity = 0.8\n",
        "                      )\n",
        "        fig.add_trace(go.Scattermapbox(\n",
        "                    lat=self.df.query('Residual**2 > @ResThresh')['Latitude'],\n",
        "                    lon=self.df.query('Residual**2 > @ResThresh')['Longitude'],\n",
        "                    mode='markers',\n",
        "                    marker=go.scattermapbox.Marker(\n",
        "                        size=20,\n",
        "                        color='rgb(255, 255, 255)',\n",
        "                        opacity=0.8\n",
        "                    )\n",
        "                ))\n",
        "        return fig "
      ],
      "id": "6b2e5ad8-b2f6-4b86-b321-3e385816e611"
    },
    {
      "cell_type": "code",
      "execution_count": 53,
      "metadata": {},
      "outputs": [],
      "source": [
        "each_location=eachlocation(df_global.query(\"2010 <= Year < 2015\"))"
      ],
      "id": "02a82690-37d5-4f4d-9414-4b2a17ac74c9"
    },
    {
      "cell_type": "markdown",
      "metadata": {},
      "source": [
        "`-` get distance"
      ],
      "id": "136587e2-a843-4bcc-b82f-7e5225c6cb09"
    },
    {
      "cell_type": "code",
      "execution_count": 54,
      "metadata": {},
      "outputs": [
        {
          "output_type": "stream",
          "name": "stderr",
          "text": [
            "100%|██████████| 12498/12498 [05:55<00:00, 35.16it/s] "
          ]
        }
      ],
      "source": [
        "each_location.get_distance()"
      ],
      "id": "1b62360e-1db9-4180-950b-61ef1f384c2d"
    },
    {
      "cell_type": "code",
      "execution_count": 55,
      "metadata": {},
      "outputs": [],
      "source": [
        "each_location.D[each_location.D>0].mean()"
      ],
      "id": "edb48ec4-4eff-4073-ab65-3da0a51382cd"
    },
    {
      "cell_type": "code",
      "execution_count": 56,
      "metadata": {},
      "outputs": [
        {
          "output_type": "display_data",
          "metadata": {},
          "data": {
            "image/png": "[encoded data removed]"
          }
        }
      ],
      "source": [
        "plt.hist(each_location.D[each_location.D>0])"
      ],
      "id": "c00e60ba-bd66-4106-8437-3d5e0bdf2f49"
    },
    {
      "cell_type": "markdown",
      "metadata": {},
      "source": [
        "`-` weight matrix"
      ],
      "id": "3ab83282-d871-4abe-9a8d-ca1872eed1ec"
    },
    {
      "cell_type": "code",
      "execution_count": 57,
      "metadata": {},
      "outputs": [],
      "source": [
        "each_location.get_weightmatrix(theta=(8810.865423093777),kappa=2500) "
      ],
      "id": "25eb3395-92ce-4a6d-9a40-ba0858d0e2c9"
    },
    {
      "cell_type": "markdown",
      "metadata": {},
      "source": [
        "`-` fit"
      ],
      "id": "ebdbe937-284f-4075-87f5-6a0f2a03212e"
    },
    {
      "cell_type": "code",
      "execution_count": 58,
      "metadata": {},
      "outputs": [],
      "source": [
        "each_location.fit2()"
      ],
      "id": "2a16f83b-0961-4c8b-b951-4627af27ed2c"
    },
    {
      "cell_type": "code",
      "execution_count": 59,
      "metadata": {
        "tags": []
      },
      "outputs": [],
      "source": [
        "each_location.haiti(MagThresh=6.9,ResThresh=0.5)"
      ],
      "id": "193b5951-9099-48e6-b830-6b54d6e799dc"
    },
    {
      "cell_type": "code",
      "execution_count": 60,
      "metadata": {
        "tags": []
      },
      "outputs": [],
      "source": [
        "each_location.lquique(MagThresh=8,ResThresh=0.4,adjzoom=4.3)"
      ],
      "id": "dcba3002-0a66-471d-b38e-e177cb5ef448"
    },
    {
      "cell_type": "code",
      "execution_count": 61,
      "metadata": {},
      "outputs": [],
      "source": [
        "each_location.sichuan(MagThresh=6.5,ResThresh=0.4)"
      ],
      "id": "faebf2bf-efdd-4042-8c8c-050b1a63e5fb"
    },
    {
      "cell_type": "markdown",
      "metadata": {},
      "source": [
        "------------------------------------------------------------------------\n",
        "\n",
        "## 칠레"
      ],
      "id": "4d099bcc-d71c-49e4-b854-7689a0246ba1"
    },
    {
      "cell_type": "code",
      "execution_count": 62,
      "metadata": {},
      "outputs": [],
      "source": [
        "df_chile_ex= pd.concat([pd.read_csv('05_10.csv'),pd.read_csv('10_15.csv')]).iloc[:,[0,1,2,4]].rename(columns={'latitude':'Latitude','longitude':'Longitude','mag':'Magnitude'}).reset_index().iloc[:,1:]"
      ],
      "id": "5be58133-c141-4c37-8829-630c1859aea7"
    },
    {
      "cell_type": "code",
      "execution_count": 63,
      "metadata": {},
      "outputs": [],
      "source": [
        "df_chile = df_chile_ex.assign(Year=list(map(lambda x: x.split('-')[0], df_chile_ex.time))).iloc[:,1:]"
      ],
      "id": "bcf8ab79-4508-4296-b5eb-b17450b9e855"
    },
    {
      "cell_type": "code",
      "execution_count": 64,
      "metadata": {},
      "outputs": [],
      "source": [
        "df_chile = df_chile.assign(Month=list(map(lambda x: x.split('-')[1], df_chile_ex.time)))"
      ],
      "id": "ca106085-e15b-4d0c-96d0-8efaed382bf9"
    },
    {
      "cell_type": "code",
      "execution_count": 65,
      "metadata": {},
      "outputs": [],
      "source": [
        "df_chile.Year = df_chile.Year.astype(np.float64)\n",
        "df_chile.Month = df_chile.Month.astype(np.float64)"
      ],
      "id": "7312b003-cc06-4ebf-98cd-6abde3706a87"
    },
    {
      "cell_type": "code",
      "execution_count": 66,
      "metadata": {},
      "outputs": [],
      "source": [
        "chile_location=eachlocation(df_chile.query(\"2010 <= Year < 2015\"))"
      ],
      "id": "36f8c721-2b49-419c-8901-c8eb793b83f0"
    },
    {
      "cell_type": "code",
      "execution_count": 67,
      "metadata": {},
      "outputs": [
        {
          "output_type": "stream",
          "name": "stderr",
          "text": [
            "100%|██████████| 12498/12498 [06:28<00:00, 32.19it/s] "
          ]
        }
      ],
      "source": [
        "chile_location.get_distance()"
      ],
      "id": "54548c08-49e0-4b86-bdcd-8f0593dcfe28"
    },
    {
      "cell_type": "code",
      "execution_count": 68,
      "metadata": {},
      "outputs": [],
      "source": [
        "chile_location.get_weightmatrix(theta=(chile_location.D[chile_location.D>0].mean()),kappa=2500) "
      ],
      "id": "1664b8e3-b0f0-477b-8929-30db6bf49afd"
    },
    {
      "cell_type": "code",
      "execution_count": 69,
      "metadata": {},
      "outputs": [],
      "source": [
        "chile_location.fit2()"
      ],
      "id": "1a54cb70-da48-4436-a5f4-35995965ade5"
    },
    {
      "cell_type": "markdown",
      "metadata": {},
      "source": [
        "아이티"
      ],
      "id": "529b4dd5-d52a-4d31-ade4-a82bf25839e7"
    },
    {
      "cell_type": "code",
      "execution_count": 70,
      "metadata": {},
      "outputs": [],
      "source": [
        "chile_location.df.assign(Residual2 = chile_location.df.Residual**2).reset_index().iloc[2324:2330,:]"
      ],
      "id": "8255182f-3399-40f1-a0e0-63727252fa46"
    },
    {
      "cell_type": "markdown",
      "metadata": {},
      "source": [
        "칠레"
      ],
      "id": "7214d80b-a2f4-4a82-9662-d666c897e04b"
    },
    {
      "cell_type": "code",
      "execution_count": 71,
      "metadata": {},
      "outputs": [],
      "source": [
        "chile_location.df.assign(Residual2 = chile_location.df.Residual**2).reset_index().query(\"-56.5 < Latitude & Latitude <-17.4 & -81.5 < Longitude & Longitude < -61.5 & Year == 2014 & Month == 8\")"
      ],
      "id": "121dd997-1b41-41f5-9651-a4963b9c0be0"
    },
    {
      "cell_type": "markdown",
      "metadata": {},
      "source": [
        "중국"
      ],
      "id": "1ea44852-6190-4d6e-9711-5b4803b7dd13"
    },
    {
      "cell_type": "code",
      "execution_count": 72,
      "metadata": {},
      "outputs": [],
      "source": [
        "chile_location.df.assign(Residual2 = chile_location.df.Residual**2).reset_index().iloc[5136:5142,:]"
      ],
      "id": "71cf05c7-7546-4f6b-a660-c6e3af8bb8c4"
    }
  ],
  "nbformat": 4,
  "nbformat_minor": 5,
  "metadata": {
    "kernelspec": {
      "name": "python3",
      "display_name": "Python 3",
      "language": "python"
    },
    "language_info": {
      "name": "python",
      "codemirror_mode": {
        "name": "ipython",
        "version": "3"
      },
      "file_extension": ".py",
      "mimetype": "text/x-python",
      "nbconvert_exporter": "python",
      "pygments_lexer": "ipython3",
      "version": "3.8.0"
    }
  }
}
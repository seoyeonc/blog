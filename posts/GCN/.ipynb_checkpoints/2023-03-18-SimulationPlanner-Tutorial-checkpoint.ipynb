{
 "cells": [
  {
   "cell_type": "raw",
   "id": "43e511fe-f020-4da6-a9ca-f80abb6cddbf",
   "metadata": {
    "id": "cac470df-29e7-4148-9bbd-d8b9a32fa570",
    "tags": []
   },
   "source": [
    "---\n",
    "title: \"SimualtionPlanner-Tutorial\"\n",
    "author: \"SEOYEON CHOI\"\n",
    "date: \"2023-03-18\"\n",
    "categories:\n",
    "  - ST-GCN\n",
    "---"
   ]
  },
  {
   "cell_type": "markdown",
   "id": "f4865201-e9bc-4c2e-bcd8-3a19d2f95745",
   "metadata": {},
   "source": [
    "> table"
   ]
  },
  {
   "cell_type": "markdown",
   "id": "f80ae2a4-6d40-4d3f-9580-6bee1283a3aa",
   "metadata": {},
   "source": [
    "[GNN-Ensemble: Towards Random Decision Graph Neural Networks](https://arxiv.org/pdf/2303.11376.pdf)"
   ]
  },
  {
   "cell_type": "markdown",
   "id": "0cba273b-b215-412d-8f72-44d5216b14a4",
   "metadata": {},
   "source": [
    "https://papers.nips.cc/papers/search?q=GNN"
   ]
  },
  {
   "cell_type": "markdown",
   "id": "53844e96-b667-4791-9d0c-5941aea8ca23",
   "metadata": {},
   "source": [
    "# List"
   ]
  },
  {
   "cell_type": "markdown",
   "id": "946b4c2d-3623-4535-84ca-d4300c617684",
   "metadata": {},
   "source": [
    "1.\n",
    "\n",
    "- max_iter=30/linear/epoch=50~200/STGCN,IT-STGCN\n",
    "\n",
    "2.\n",
    "\n",
    "- missing 만드는 법(block 생각)\n",
    "\n",
    "3.\n",
    "\n",
    "-\n",
    "\n",
    "4.반복의미 없음, 고정된 값 출력되어서\n",
    "\n",
    "- \n",
    "\n",
    "할 거\n",
    "\n",
    "- missing 0일 때 STGCN/GNAR 비교(CHECK)\n",
    "- baseline 제시될만한 데이터셋 뭘까.\n",
    "- GNAR warning 안 나오는 법 찾아보기\n",
    "- mindex가 중요ㅡ mtype은 기록용으로만 사용됨"
   ]
  },
  {
   "cell_type": "markdown",
   "id": "9d5d75dc-142d-4a0a-b7c9-05f39905ff50",
   "metadata": {},
   "source": [
    "`_df = pd.concat([_a,,_b,_c],axis=0)`\n",
    "\n",
    "`save_data(_df, './data/Pedal_estgcn_randomly_by_rate.pkl')`"
   ]
  },
  {
   "cell_type": "markdown",
   "id": "edd8b536-1515-4b51-9a99-95974bad6c75",
   "metadata": {},
   "source": [
    "# imports"
   ]
  },
  {
   "cell_type": "markdown",
   "id": "d1cec205-84b2-40db-9bff-706736a53c50",
   "metadata": {},
   "source": [
    "https://pytorch-geometric-temporal.readthedocs.io/en/latest/_modules/index.html"
   ]
  },
  {
   "cell_type": "code",
   "execution_count": null,
   "id": "b0c2e707-a477-4cbd-b8ff-3dd35c65266e",
   "metadata": {},
   "outputs": [],
   "source": [
    "import itstgcnadd\n",
    "import torch\n",
    "import itstgcnadd.planner "
   ]
  },
  {
   "cell_type": "code",
   "execution_count": 2,
   "id": "16756a05-f15e-4262-8afa-ad4c5a780617",
   "metadata": {},
   "outputs": [],
   "source": [
    "from torch_geometric_temporal.dataset import ChickenpoxDatasetLoader\n",
    "loader1 = ChickenpoxDatasetLoader()"
   ]
  },
  {
   "cell_type": "code",
   "execution_count": 3,
   "id": "b2960ce7-2237-46ca-b562-7ebfc7b549bc",
   "metadata": {},
   "outputs": [],
   "source": [
    "from torch_geometric_temporal.dataset import PedalMeDatasetLoader\n",
    "loader2 = PedalMeDatasetLoader()"
   ]
  },
  {
   "cell_type": "code",
   "execution_count": null,
   "id": "23e27442-0481-4349-b96a-84621cb5ac8c",
   "metadata": {},
   "outputs": [],
   "source": [
    "from torch_geometric_temporal.dataset import WikiMathsDatasetLoader\n",
    "loader3 = WikiMathsDatasetLoader()"
   ]
  },
  {
   "cell_type": "code",
   "execution_count": 5,
   "id": "3b297fa0-fc38-44bb-b3b3-f97c97802d3f",
   "metadata": {},
   "outputs": [],
   "source": [
    "from torch_geometric_temporal.dataset import WindmillOutputLargeDatasetLoader\n",
    "loader4 = WindmillOutputLargeDatasetLoader()"
   ]
  },
  {
   "cell_type": "code",
   "execution_count": 6,
   "id": "1944c523-712d-4dfd-9ec5-d1e273ab3cf7",
   "metadata": {},
   "outputs": [],
   "source": [
    "from torch_geometric_temporal.dataset import WindmillOutputMediumDatasetLoader\n",
    "loader5 = WindmillOutputMediumDatasetLoader()"
   ]
  },
  {
   "cell_type": "code",
   "execution_count": 26,
   "id": "975d2829-bf06-47eb-ba38-ada577821e63",
   "metadata": {},
   "outputs": [],
   "source": [
    "from torch_geometric_temporal.dataset import WindmillOutputSmallDatasetLoader\n",
    "loader6 = WindmillOutputSmallDatasetLoader()"
   ]
  },
  {
   "cell_type": "code",
   "execution_count": null,
   "id": "2bc19553-a5dd-4ee1-9de9-271bc0c60392",
   "metadata": {},
   "outputs": [],
   "source": [
    "from torch_geometric_temporal.dataset import MontevideoBusDatasetLoader\n",
    "loader10 = MontevideoBusDatasetLoader()"
   ]
  },
  {
   "cell_type": "code",
   "execution_count": 9,
   "id": "9ae168e9-d9f5-493b-a0c7-ef6732db2e7c",
   "metadata": {},
   "outputs": [],
   "source": [
    "import numpy as np"
   ]
  },
  {
   "cell_type": "markdown",
   "id": "9831dd41-f751-46de-a7c5-927d1a82cb3b",
   "metadata": {},
   "source": [
    "# read data"
   ]
  },
  {
   "cell_type": "code",
   "execution_count": 23,
   "id": "32330e84-252e-4009-8076-cd44cd9704cd",
   "metadata": {},
   "outputs": [],
   "source": [
    "# _data = itstgcn.load_data('./data/fivenodes.pkl')\n",
    "# _edges = torch.tensor(_data['edges']).nonzero().tolist()\n",
    "# _FX = _data['f'].tolist()\n",
    "# _node_ids = {'node1':0, 'node2':1, 'node3':2, 'node4':3, 'node5':4} \n",
    "# data_dict = {'edges':_edges, 'node_ids':_node_ids, 'FX':_FX}\n",
    "data_dict = itstgcnadd.load_data('./data/fivenodes.pkl')\n",
    "loader = itstgcnadd.DatasetLoader(data_dict)"
   ]
  },
  {
   "cell_type": "markdown",
   "id": "ec8a3c6f-83fa-4b5a-bb13-7cad1a5fe803",
   "metadata": {},
   "source": [
    "## PLNR_STGCN_RAND"
   ]
  },
  {
   "cell_type": "code",
   "execution_count": 25,
   "id": "94377899-9d9e-4c8d-854e-80c6d3b24b33",
   "metadata": {},
   "outputs": [],
   "source": [
    "import pandas as pd"
   ]
  },
  {
   "cell_type": "code",
   "execution_count": 13,
   "id": "8796860a-c382-4e8d-a6bb-2daf96bd1b1b",
   "metadata": {},
   "outputs": [],
   "source": [
    "data_chickenpox = pd.read_csv('./simulation_results/Real_simulation/chikenpox_Simulation.csv')"
   ]
  },
  {
   "cell_type": "code",
   "execution_count": null,
   "id": "909c9b11-49b6-4093-bf1a-2c5430d65fe3",
   "metadata": {},
   "outputs": [
    {
     "data": {
      "text/plain": [
       "array([0.3       , 0.4       , 0.5       , 0.28776978, 0.        ,\n",
       "       0.8       , 0.9       ])"
      ]
     },
     "execution_count": 18,
     "metadata": {},
     "output_type": "execute_result"
    }
   ],
   "source": [
    "data_chickenpox['mrate'].unique()"
   ]
  },
  {
   "cell_type": "code",
   "execution_count": null,
   "id": "f0dbba6a-1e3e-44b8-bfaf-bb329c155cd9",
   "metadata": {},
   "outputs": [],
   "source": [
    "plans_stgcn_rand = {\n",
    "    'max_iteration': 30, \n",
    "    'method': ['STGCN', 'IT-STGCN'],\n",
    "    'RecurrentGCN' : ['DCRNN'],\n",
    "    'mrate': [0,0.3,0.4,0.5,0.8,0.9],\n",
    "    'lags': [4], \n",
    "    'nof_filters': [16], \n",
    "    'inter_method': ['linear','cubic'],\n",
    "    'epoch': [50]\n",
    "}"
   ]
  },
  {
   "cell_type": "code",
   "execution_count": 20,
   "id": "57d97a77-97ab-4f57-958e-ca63aae9590f",
   "metadata": {
    "tags": []
   },
   "outputs": [],
   "source": [
    "plnr = itstgcnadd.planner.PLNR_STGCN_RAND(plans_stgcn_rand,loader1,dataset_name='chickenpox')"
   ]
  },
  {
   "cell_type": "code",
   "execution_count": null,
   "id": "5089f901-a434-4353-9333-bf548eb655a0",
   "metadata": {},
   "outputs": [
    {
     "name": "stderr",
     "output_type": "stream",
     "text": [
      "/home/csy/Dropbox/blog/posts/GCN/itstgcnadd/learners.py:101: UserWarning: Creating a tensor from a list of numpy.ndarrays is extremely slow. Please consider converting the list to a single numpy.ndarray with numpy.array() before converting to a tensor. (Triggered internally at /opt/conda/conda-bld/pytorch_1682343998658/work/torch/csrc/utils/tensor_new.cpp:245.)\n",
      "  self.lags = torch.tensor(train_dataset.features).shape[-1]\n"
     ]
    },
    {
     "name": "stdout",
     "output_type": "stream",
     "text": [
      "1/30 is done\n",
      "20/50\r"
     ]
    }
   ],
   "source": [
    "plnr.simulate()"
   ]
  },
  {
   "cell_type": "code",
   "execution_count": null,
   "id": "3da085b6-85be-4482-924a-3b4fd0705ac5",
   "metadata": {},
   "outputs": [],
   "source": []
  },
  {
   "cell_type": "code",
   "execution_count": null,
   "id": "308c2512-765e-4b6d-84b1-3a122bd6c11b",
   "metadata": {},
   "outputs": [],
   "source": []
  },
  {
   "cell_type": "code",
   "execution_count": null,
   "id": "d420bb17-b6af-4b0b-b5aa-65994c3b0f88",
   "metadata": {},
   "outputs": [],
   "source": []
  },
  {
   "cell_type": "code",
   "execution_count": 78,
   "id": "f8aac47e-ee0a-4d34-a076-a3b3c7080988",
   "metadata": {},
   "outputs": [],
   "source": [
    "plans_stgcn_rand = {\n",
    "    'max_iteration': 10, \n",
    "    'method': ['STGCN', 'IT-STGCN'], \n",
    "    'mrate': [0.3],\n",
    "    'lags': [2, 4], \n",
    "    'nof_filters': [12], \n",
    "    'inter_method': ['linear'],\n",
    "    'epoch': [50]\n",
    "}"
   ]
  },
  {
   "cell_type": "code",
   "execution_count": 79,
   "id": "dcb54feb-54e6-4956-ab43-f57e2f8b3422",
   "metadata": {},
   "outputs": [],
   "source": [
    "plnr = itstgcnadd.planner.PLNR_STGCN_RAND(plans_stgcn_rand,loader3,dataset_name='wikimath')"
   ]
  },
  {
   "cell_type": "code",
   "execution_count": null,
   "id": "d69c1d34-df01-4936-a1de-7323c5bf8370",
   "metadata": {},
   "outputs": [
    {
     "name": "stdout",
     "output_type": "stream",
     "text": [
      "11/50\r"
     ]
    }
   ],
   "source": [
    "plnr.simulate()"
   ]
  },
  {
   "cell_type": "code",
   "execution_count": null,
   "id": "a5c2a50b-961c-4a13-922d-e29b8f5bfc3f",
   "metadata": {},
   "outputs": [],
   "source": []
  },
  {
   "cell_type": "code",
   "execution_count": null,
   "id": "ff57f31f-6d97-4fca-9f4b-1929ea145aee",
   "metadata": {},
   "outputs": [],
   "source": []
  },
  {
   "cell_type": "code",
   "execution_count": null,
   "id": "0d73d9e6-90a9-4dc3-b439-640ad419c6ff",
   "metadata": {},
   "outputs": [],
   "source": []
  },
  {
   "cell_type": "code",
   "execution_count": null,
   "id": "454f8322-f470-435a-8006-8ffdf28e6104",
   "metadata": {},
   "outputs": [],
   "source": []
  },
  {
   "cell_type": "code",
   "execution_count": 29,
   "id": "e0df4d95-133c-4a3a-b2b8-bad44133e408",
   "metadata": {},
   "outputs": [],
   "source": [
    "plans_stgcn_rand = {\n",
    "    'max_iteration': 1, \n",
    "    'method': ['STGCN', 'IT-STGCN'], \n",
    "    'RecurrentGCN' : ['DCRNN'],\n",
    "    'mrate': [0],\n",
    "    'lags': [8], \n",
    "    'nof_filters': [12], \n",
    "    'inter_method': ['linear'],\n",
    "    'epoch': [50]\n",
    "}"
   ]
  },
  {
   "cell_type": "code",
   "execution_count": null,
   "id": "efe19fac-b130-4db2-89a1-b8f7f402c045",
   "metadata": {},
   "outputs": [],
   "source": [
    "plnr = itstgcnadd.planner.PLNR_STGCN_RAND(plans_stgcn_rand,loader6,dataset_name='windmillsmall')\n",
    "plnr.simulate()"
   ]
  },
  {
   "cell_type": "code",
   "execution_count": null,
   "id": "381306fc-e384-49fd-b30c-a386d409341c",
   "metadata": {},
   "outputs": [],
   "source": [
    "plnr = itstgcnadd.planner.PLNR_STGCN_RAND(plans_stgcn_rand,loader6,dataset_name='windmillsmall')\n",
    "plnr.simulate()"
   ]
  },
  {
   "cell_type": "code",
   "execution_count": null,
   "id": "76167298-3bf1-4b55-86e4-7c2c1a6d37f6",
   "metadata": {},
   "outputs": [],
   "source": [
    "plnr = itstgcnadd.planner.PLNR_STGCN_RAND(plans_stgcn_rand,loader6,dataset_name='windmillsmall')\n",
    "plnr.simulate()"
   ]
  },
  {
   "cell_type": "code",
   "execution_count": null,
   "id": "0765f8fa-1a03-4e33-8199-9ee6bfdadb9a",
   "metadata": {},
   "outputs": [],
   "source": [
    "plnr = itstgcnadd.planner.PLNR_STGCN_RAND(plans_stgcn_rand,loader6,dataset_name='windmillsmall')\n",
    "plnr.simulate()"
   ]
  },
  {
   "cell_type": "code",
   "execution_count": null,
   "id": "da6a646c-5d00-4744-bd0a-5797106a1446",
   "metadata": {},
   "outputs": [],
   "source": [
    "plnr = itstgcnadd.planner.PLNR_STGCN_RAND(plans_stgcn_rand,loader6,dataset_name='windmillsmall')\n",
    "plnr.simulate()"
   ]
  },
  {
   "cell_type": "code",
   "execution_count": null,
   "id": "ca270a83-ba3c-4a16-9aa7-2b2a40b842b1",
   "metadata": {},
   "outputs": [],
   "source": [
    "plnr = itstgcnadd.planner.PLNR_STGCN_RAND(plans_stgcn_rand,loader6,dataset_name='windmillsmall')\n",
    "plnr.simulate()"
   ]
  },
  {
   "cell_type": "code",
   "execution_count": null,
   "id": "5ef8d88c-449e-4111-8230-5151ade0c11b",
   "metadata": {},
   "outputs": [],
   "source": [
    "plnr = itstgcnadd.planner.PLNR_STGCN_RAND(plans_stgcn_rand,loader6,dataset_name='windmillsmall')\n",
    "plnr.simulate()"
   ]
  },
  {
   "cell_type": "code",
   "execution_count": null,
   "id": "febd3bbf-0164-4de5-a724-d7c8dfc3c581",
   "metadata": {},
   "outputs": [],
   "source": [
    "plnr = itstgcnadd.planner.PLNR_STGCN_RAND(plans_stgcn_rand,loader6,dataset_name='windmillsmall')\n",
    "plnr.simulate()"
   ]
  },
  {
   "cell_type": "code",
   "execution_count": null,
   "id": "053f0870-0154-4d77-9ac2-9ce075ca1338",
   "metadata": {},
   "outputs": [],
   "source": [
    "plnr = itstgcnadd.planner.PLNR_STGCN_RAND(plans_stgcn_rand,loader6,dataset_name='windmillsmall')\n",
    "plnr.simulate()"
   ]
  },
  {
   "cell_type": "code",
   "execution_count": null,
   "id": "4d1cd1af-f9b4-47bf-b21d-02ca67762a2d",
   "metadata": {},
   "outputs": [],
   "source": [
    "plnr = itstgcnadd.planner.PLNR_STGCN_RAND(plans_stgcn_rand,loader6,dataset_name='windmillsmall')\n",
    "plnr.simulate()"
   ]
  },
  {
   "cell_type": "code",
   "execution_count": null,
   "id": "dcc3cf68-d2ac-44ef-92e0-1dd846a9fe0f",
   "metadata": {},
   "outputs": [],
   "source": [
    "plnr = itstgcnadd.planner.PLNR_STGCN_RAND(plans_stgcn_rand,loader6,dataset_name='windmillsmall')\n",
    "plnr.simulate()"
   ]
  },
  {
   "cell_type": "code",
   "execution_count": null,
   "id": "37ac61ee-7b3a-4bcf-8198-e1524f2a2ae9",
   "metadata": {},
   "outputs": [],
   "source": [
    "plnr = itstgcnadd.planner.PLNR_STGCN_RAND(plans_stgcn_rand,loader6,dataset_name='windmillsmall')\n",
    "plnr.simulate()"
   ]
  },
  {
   "cell_type": "code",
   "execution_count": null,
   "id": "5ea3b5b0-658d-45d4-a93a-e23a7c94ccbb",
   "metadata": {},
   "outputs": [],
   "source": [
    "plnr = itstgcnadd.planner.PLNR_STGCN_RAND(plans_stgcn_rand,loader6,dataset_name='windmillsmall')\n",
    "plnr.simulate()"
   ]
  },
  {
   "cell_type": "code",
   "execution_count": null,
   "id": "b834c1f4-7b67-4b1d-bbcd-15b4ccd67d8a",
   "metadata": {},
   "outputs": [],
   "source": [
    "plnr = itstgcnadd.planner.PLNR_STGCN_RAND(plans_stgcn_rand,loader6,dataset_name='windmillsmall')\n",
    "plnr.simulate()"
   ]
  },
  {
   "cell_type": "code",
   "execution_count": null,
   "id": "dfe1fda5-b986-41fe-8b80-f82d2f00d484",
   "metadata": {},
   "outputs": [],
   "source": [
    "plnr = itstgcnadd.planner.PLNR_STGCN_RAND(plans_stgcn_rand,loader6,dataset_name='windmillsmall')\n",
    "plnr.simulate()"
   ]
  },
  {
   "cell_type": "code",
   "execution_count": null,
   "id": "8eac707c-ddcc-4269-90b9-34bcc21d7411",
   "metadata": {},
   "outputs": [],
   "source": [
    "plnr = itstgcnadd.planner.PLNR_STGCN_RAND(plans_stgcn_rand,loader6,dataset_name='windmillsmall')\n",
    "plnr.simulate()"
   ]
  },
  {
   "cell_type": "code",
   "execution_count": null,
   "id": "519dc64f-4009-490c-9575-2d3e366a787f",
   "metadata": {},
   "outputs": [],
   "source": [
    "plnr = itstgcnadd.planner.PLNR_STGCN_RAND(plans_stgcn_rand,loader6,dataset_name='windmillsmall')\n",
    "plnr.simulate()"
   ]
  },
  {
   "cell_type": "code",
   "execution_count": null,
   "id": "ed8e4518-1fc0-4c92-bf95-6648420bc913",
   "metadata": {},
   "outputs": [],
   "source": [
    "plnr = itstgcnadd.planner.PLNR_STGCN_RAND(plans_stgcn_rand,loader6,dataset_name='windmillsmall')\n",
    "plnr.simulate()"
   ]
  },
  {
   "cell_type": "code",
   "execution_count": null,
   "id": "282fca0f-9c9a-43d9-9765-eff85e9a3e1e",
   "metadata": {},
   "outputs": [],
   "source": [
    "plnr = itstgcnadd.planner.PLNR_STGCN_RAND(plans_stgcn_rand,loader6,dataset_name='windmillsmall')\n",
    "plnr.simulate()"
   ]
  },
  {
   "cell_type": "code",
   "execution_count": null,
   "id": "ad118d4b-4e36-4bfc-a1b7-5740e083b09f",
   "metadata": {},
   "outputs": [],
   "source": [
    "plnr = itstgcnadd.planner.PLNR_STGCN_RAND(plans_stgcn_rand,loader6,dataset_name='windmillsmall')\n",
    "plnr.simulate()"
   ]
  },
  {
   "cell_type": "code",
   "execution_count": null,
   "id": "d7fb6e07-1d56-4a60-bfb8-6f48cc39d790",
   "metadata": {},
   "outputs": [],
   "source": [
    "plnr = itstgcnadd.planner.PLNR_STGCN_RAND(plans_stgcn_rand,loader6,dataset_name='windmillsmall')\n",
    "plnr.simulate()"
   ]
  },
  {
   "cell_type": "code",
   "execution_count": null,
   "id": "b00f01c5-1c51-470e-b5e2-00e4a72cc3c2",
   "metadata": {},
   "outputs": [],
   "source": [
    "plnr = itstgcnadd.planner.PLNR_STGCN_RAND(plans_stgcn_rand,loader6,dataset_name='windmillsmall')\n",
    "plnr.simulate()"
   ]
  },
  {
   "cell_type": "code",
   "execution_count": null,
   "id": "525661a0-7307-4cdc-a064-63729a7665f9",
   "metadata": {},
   "outputs": [],
   "source": [
    "plnr = itstgcnadd.planner.PLNR_STGCN_RAND(plans_stgcn_rand,loader6,dataset_name='windmillsmall')\n",
    "plnr.simulate()"
   ]
  },
  {
   "cell_type": "code",
   "execution_count": null,
   "id": "31d8aa10-4e10-4f22-84c8-8cab06f6ab7b",
   "metadata": {},
   "outputs": [],
   "source": [
    "plnr = itstgcnadd.planner.PLNR_STGCN_RAND(plans_stgcn_rand,loader6,dataset_name='windmillsmall')\n",
    "plnr.simulate()"
   ]
  },
  {
   "cell_type": "code",
   "execution_count": null,
   "id": "45e2aa57-d1b1-46ca-b9ab-51e348b1c92d",
   "metadata": {},
   "outputs": [],
   "source": [
    "plnr = itstgcnadd.planner.PLNR_STGCN_RAND(plans_stgcn_rand,loader6,dataset_name='windmillsmall')\n",
    "plnr.simulate()"
   ]
  },
  {
   "cell_type": "code",
   "execution_count": null,
   "id": "18a850d5-5fd0-4f50-bf60-98606784c593",
   "metadata": {},
   "outputs": [],
   "source": [
    "plnr = itstgcnadd.planner.PLNR_STGCN_RAND(plans_stgcn_rand,loader6,dataset_name='windmillsmall')\n",
    "plnr.simulate()"
   ]
  },
  {
   "cell_type": "code",
   "execution_count": null,
   "id": "854e3fe5-d779-4d7b-9f81-2d2b83ff0eaf",
   "metadata": {},
   "outputs": [],
   "source": [
    "plnr = itstgcnadd.planner.PLNR_STGCN_RAND(plans_stgcn_rand,loader6,dataset_name='windmillsmall')\n",
    "plnr.simulate()"
   ]
  },
  {
   "cell_type": "code",
   "execution_count": null,
   "id": "f87bd1e7-7709-4caa-97b8-88ff775a7467",
   "metadata": {},
   "outputs": [],
   "source": [
    "plnr = itstgcnadd.planner.PLNR_STGCN_RAND(plans_stgcn_rand,loader6,dataset_name='windmillsmall')\n",
    "plnr.simulate()"
   ]
  },
  {
   "cell_type": "code",
   "execution_count": null,
   "id": "f1df3bfe-378b-44e6-9761-d60fab46bca4",
   "metadata": {},
   "outputs": [],
   "source": [
    "plnr = itstgcnadd.planner.PLNR_STGCN_RAND(plans_stgcn_rand,loader6,dataset_name='windmillsmall')\n",
    "plnr.simulate()"
   ]
  },
  {
   "cell_type": "code",
   "execution_count": null,
   "id": "9ffa8479-bb70-4191-ab86-88c2c65245e6",
   "metadata": {},
   "outputs": [],
   "source": [
    "plnr = itstgcnadd.planner.PLNR_STGCN_RAND(plans_stgcn_rand,loader6,dataset_name='windmillsmall')\n",
    "plnr.simulate()"
   ]
  },
  {
   "cell_type": "code",
   "execution_count": null,
   "id": "405ceade-6b8b-4610-bb73-450342c7b966",
   "metadata": {},
   "outputs": [],
   "source": [
    "plans_stgcn_rand = {\n",
    "    'max_iteration': 1, \n",
    "    'method': ['STGCN', 'IT-STGCN'], \n",
    "    'RecurrentGCN' : ['DCRNN'],\n",
    "    'mrate': [0.7],\n",
    "    'lags': [8], \n",
    "    'nof_filters': [12], \n",
    "    'inter_method': ['linear'],\n",
    "    'epoch': [50]\n",
    "}"
   ]
  },
  {
   "cell_type": "code",
   "execution_count": null,
   "id": "3a15d588-c1b8-4478-96b4-50f25df39743",
   "metadata": {},
   "outputs": [],
   "source": [
    "plnr = itstgcnadd.planner.PLNR_STGCN_RAND(plans_stgcn_rand,loader6,dataset_name='windmillsmall')\n",
    "plnr.simulate()"
   ]
  },
  {
   "cell_type": "code",
   "execution_count": null,
   "id": "20af94e1-c4a6-4481-ba4f-eb33b788aa8f",
   "metadata": {},
   "outputs": [],
   "source": [
    "plnr = itstgcnadd.planner.PLNR_STGCN_RAND(plans_stgcn_rand,loader6,dataset_name='windmillsmall')\n",
    "plnr.simulate()"
   ]
  },
  {
   "cell_type": "code",
   "execution_count": null,
   "id": "2e4553ec-8498-45f3-9998-6e69f3ca4a43",
   "metadata": {},
   "outputs": [],
   "source": [
    "plnr = itstgcnadd.planner.PLNR_STGCN_RAND(plans_stgcn_rand,loader6,dataset_name='windmillsmall')\n",
    "plnr.simulate()"
   ]
  },
  {
   "cell_type": "code",
   "execution_count": null,
   "id": "2fab9336-5481-43ae-8394-69b1646598b0",
   "metadata": {},
   "outputs": [],
   "source": [
    "plnr = itstgcnadd.planner.PLNR_STGCN_RAND(plans_stgcn_rand,loader6,dataset_name='windmillsmall')\n",
    "plnr.simulate()"
   ]
  },
  {
   "cell_type": "code",
   "execution_count": null,
   "id": "cac399fc-0586-454e-9a7d-268e5a61726e",
   "metadata": {},
   "outputs": [],
   "source": [
    "plnr = itstgcnadd.planner.PLNR_STGCN_RAND(plans_stgcn_rand,loader6,dataset_name='windmillsmall')\n",
    "plnr.simulate()"
   ]
  },
  {
   "cell_type": "code",
   "execution_count": null,
   "id": "d2532ec1-01c3-4c38-ac60-4caded32b0b2",
   "metadata": {},
   "outputs": [],
   "source": [
    "plnr = itstgcnadd.planner.PLNR_STGCN_RAND(plans_stgcn_rand,loader6,dataset_name='windmillsmall')\n",
    "plnr.simulate()"
   ]
  },
  {
   "cell_type": "code",
   "execution_count": null,
   "id": "17417c10-d69c-4123-b2f5-3ef657aa9ace",
   "metadata": {},
   "outputs": [],
   "source": [
    "plnr = itstgcnadd.planner.PLNR_STGCN_RAND(plans_stgcn_rand,loader6,dataset_name='windmillsmall')\n",
    "plnr.simulate()"
   ]
  },
  {
   "cell_type": "code",
   "execution_count": null,
   "id": "5238a53b-46bd-49ec-804d-0eeb7815458d",
   "metadata": {},
   "outputs": [],
   "source": [
    "plnr = itstgcnadd.planner.PLNR_STGCN_RAND(plans_stgcn_rand,loader6,dataset_name='windmillsmall')\n",
    "plnr.simulate()"
   ]
  },
  {
   "cell_type": "code",
   "execution_count": null,
   "id": "ca0e6701-69a0-4778-a2e4-6069f2988c55",
   "metadata": {},
   "outputs": [],
   "source": [
    "plnr = itstgcnadd.planner.PLNR_STGCN_RAND(plans_stgcn_rand,loader6,dataset_name='windmillsmall')\n",
    "plnr.simulate()"
   ]
  },
  {
   "cell_type": "code",
   "execution_count": null,
   "id": "d76e6ee8-611b-439e-bc3d-ef340b14756a",
   "metadata": {},
   "outputs": [],
   "source": [
    "plnr = itstgcnadd.planner.PLNR_STGCN_RAND(plans_stgcn_rand,loader6,dataset_name='windmillsmall')\n",
    "plnr.simulate()"
   ]
  },
  {
   "cell_type": "code",
   "execution_count": null,
   "id": "a9f7b5a7-ca07-4393-8ea5-2a18ad3776ee",
   "metadata": {},
   "outputs": [],
   "source": [
    "plnr = itstgcnadd.planner.PLNR_STGCN_RAND(plans_stgcn_rand,loader6,dataset_name='windmillsmall')\n",
    "plnr.simulate()"
   ]
  },
  {
   "cell_type": "code",
   "execution_count": null,
   "id": "4e517ea3-5def-403b-9381-eeb40c1d6a6c",
   "metadata": {},
   "outputs": [],
   "source": [
    "plnr = itstgcnadd.planner.PLNR_STGCN_RAND(plans_stgcn_rand,loader6,dataset_name='windmillsmall')\n",
    "plnr.simulate()"
   ]
  },
  {
   "cell_type": "code",
   "execution_count": null,
   "id": "47ddfbed-fe7b-409e-a658-7cad1c8f8490",
   "metadata": {},
   "outputs": [],
   "source": [
    "plnr = itstgcnadd.planner.PLNR_STGCN_RAND(plans_stgcn_rand,loader6,dataset_name='windmillsmall')\n",
    "plnr.simulate()"
   ]
  },
  {
   "cell_type": "code",
   "execution_count": null,
   "id": "06b26528-8f86-4aa6-b6be-38faf7c1cab5",
   "metadata": {},
   "outputs": [],
   "source": [
    "plnr = itstgcnadd.planner.PLNR_STGCN_RAND(plans_stgcn_rand,loader6,dataset_name='windmillsmall')\n",
    "plnr.simulate()"
   ]
  },
  {
   "cell_type": "code",
   "execution_count": null,
   "id": "f4ef77f3-9de3-476c-8b91-d573d1931397",
   "metadata": {},
   "outputs": [],
   "source": [
    "plnr = itstgcnadd.planner.PLNR_STGCN_RAND(plans_stgcn_rand,loader6,dataset_name='windmillsmall')\n",
    "plnr.simulate()"
   ]
  },
  {
   "cell_type": "code",
   "execution_count": null,
   "id": "3ebda16e-b543-46d7-be86-85b84638f2ae",
   "metadata": {},
   "outputs": [],
   "source": [
    "plnr = itstgcnadd.planner.PLNR_STGCN_RAND(plans_stgcn_rand,loader6,dataset_name='windmillsmall')\n",
    "plnr.simulate()"
   ]
  },
  {
   "cell_type": "code",
   "execution_count": null,
   "id": "2929fe6d-59d8-4812-a307-a867d489a4f4",
   "metadata": {},
   "outputs": [],
   "source": [
    "plnr = itstgcnadd.planner.PLNR_STGCN_RAND(plans_stgcn_rand,loader6,dataset_name='windmillsmall')\n",
    "plnr.simulate()"
   ]
  },
  {
   "cell_type": "code",
   "execution_count": null,
   "id": "fbcd7c62-408d-4351-976f-2d413262a2ec",
   "metadata": {},
   "outputs": [],
   "source": [
    "plnr = itstgcnadd.planner.PLNR_STGCN_RAND(plans_stgcn_rand,loader6,dataset_name='windmillsmall')\n",
    "plnr.simulate()"
   ]
  },
  {
   "cell_type": "code",
   "execution_count": null,
   "id": "9f9a45cb-540a-4512-8c55-217962d2f5ca",
   "metadata": {},
   "outputs": [],
   "source": [
    "plnr = itstgcnadd.planner.PLNR_STGCN_RAND(plans_stgcn_rand,loader6,dataset_name='windmillsmall')\n",
    "plnr.simulate()"
   ]
  },
  {
   "cell_type": "code",
   "execution_count": null,
   "id": "7afe2fb9-20e9-4e27-8868-9ef3810b6dff",
   "metadata": {},
   "outputs": [],
   "source": [
    "plnr = itstgcnadd.planner.PLNR_STGCN_RAND(plans_stgcn_rand,loader6,dataset_name='windmillsmall')\n",
    "plnr.simulate()"
   ]
  },
  {
   "cell_type": "code",
   "execution_count": null,
   "id": "64d45016-a1fd-41c0-9f66-f18e14608a55",
   "metadata": {},
   "outputs": [],
   "source": [
    "plnr = itstgcnadd.planner.PLNR_STGCN_RAND(plans_stgcn_rand,loader6,dataset_name='windmillsmall')\n",
    "plnr.simulate()"
   ]
  },
  {
   "cell_type": "code",
   "execution_count": null,
   "id": "49464d45-144f-4656-8433-bde0882b4a10",
   "metadata": {},
   "outputs": [],
   "source": [
    "plnr = itstgcnadd.planner.PLNR_STGCN_RAND(plans_stgcn_rand,loader6,dataset_name='windmillsmall')\n",
    "plnr.simulate()"
   ]
  },
  {
   "cell_type": "code",
   "execution_count": null,
   "id": "a63ac7c5-1572-456f-b0ea-b175c08d6318",
   "metadata": {},
   "outputs": [],
   "source": [
    "plnr = itstgcnadd.planner.PLNR_STGCN_RAND(plans_stgcn_rand,loader6,dataset_name='windmillsmall')\n",
    "plnr.simulate()"
   ]
  },
  {
   "cell_type": "code",
   "execution_count": null,
   "id": "51f3d7f6-9cf5-4c95-8cbc-b11ce1865405",
   "metadata": {},
   "outputs": [],
   "source": [
    "plnr = itstgcnadd.planner.PLNR_STGCN_RAND(plans_stgcn_rand,loader6,dataset_name='windmillsmall')\n",
    "plnr.simulate()"
   ]
  },
  {
   "cell_type": "code",
   "execution_count": null,
   "id": "43ee6c66-4f9f-403d-b121-a15b7a4ebf6f",
   "metadata": {},
   "outputs": [],
   "source": [
    "plnr = itstgcnadd.planner.PLNR_STGCN_RAND(plans_stgcn_rand,loader6,dataset_name='windmillsmall')\n",
    "plnr.simulate()"
   ]
  },
  {
   "cell_type": "code",
   "execution_count": null,
   "id": "8d1a72d8-b1c6-49f6-9ee6-722a89575d2a",
   "metadata": {},
   "outputs": [],
   "source": [
    "plnr = itstgcnadd.planner.PLNR_STGCN_RAND(plans_stgcn_rand,loader6,dataset_name='windmillsmall')\n",
    "plnr.simulate()"
   ]
  },
  {
   "cell_type": "code",
   "execution_count": null,
   "id": "6843f3c2-10e1-484c-b946-36479894ddc7",
   "metadata": {},
   "outputs": [],
   "source": [
    "plnr = itstgcnadd.planner.PLNR_STGCN_RAND(plans_stgcn_rand,loader6,dataset_name='windmillsmall')\n",
    "plnr.simulate()"
   ]
  },
  {
   "cell_type": "code",
   "execution_count": null,
   "id": "e9a4ad6e-09bb-4ba1-9de1-659f90caddcd",
   "metadata": {},
   "outputs": [],
   "source": [
    "plnr = itstgcnadd.planner.PLNR_STGCN_RAND(plans_stgcn_rand,loader6,dataset_name='windmillsmall')\n",
    "plnr.simulate()"
   ]
  },
  {
   "cell_type": "code",
   "execution_count": null,
   "id": "7e3b9840-2a04-4975-ba2c-ad372b1101d2",
   "metadata": {},
   "outputs": [],
   "source": [
    "plnr = itstgcnadd.planner.PLNR_STGCN_RAND(plans_stgcn_rand,loader6,dataset_name='windmillsmall')\n",
    "plnr.simulate()"
   ]
  },
  {
   "cell_type": "code",
   "execution_count": null,
   "id": "308f9948-dcb8-4ee2-ba83-ad9a0d4c962e",
   "metadata": {},
   "outputs": [],
   "source": [
    "plnr = itstgcnadd.planner.PLNR_STGCN_RAND(plans_stgcn_rand,loader6,dataset_name='windmillsmall')\n",
    "plnr.simulate()"
   ]
  },
  {
   "cell_type": "markdown",
   "id": "60bdffed-7236-4c53-9749-f28e161b5c0c",
   "metadata": {
    "tags": []
   },
   "source": [
    "## PLNR_STGCN_MANUAL"
   ]
  },
  {
   "cell_type": "code",
   "execution_count": 75,
   "id": "bb823029-a3f8-498c-8144-258f9f5bbcf5",
   "metadata": {},
   "outputs": [],
   "source": [
    "my_list = [[] for _ in range(20)] #chickenpox\n",
    "another_list = list(range(100,400))\n",
    "my_list[1] = another_list\n",
    "my_list[3] = another_list\n",
    "my_list[5] = another_list\n",
    "my_list[7] = another_list\n",
    "my_list[9] = another_list\n",
    "my_list[11] = another_list\n",
    "my_list[13] = another_list\n",
    "my_list[15] = another_list\n",
    "mindex = my_list"
   ]
  },
  {
   "cell_type": "code",
   "execution_count": null,
   "id": "88200cd5-d379-46e7-8b7e-ed38d6129843",
   "metadata": {},
   "outputs": [],
   "source": [
    "my_list = [[] for _ in range(15)] #pedalme\n",
    "another_list = list(range(5,35))\n",
    "my_list[2] = another_list\n",
    "my_list[4] = another_list\n",
    "my_list[7] = another_list\n",
    "my_list[11] = another_list\n",
    "mindex = my_list"
   ]
  },
  {
   "cell_type": "code",
   "execution_count": 54,
   "id": "94b94bcf-9d10-4540-bf3d-dc3d6f801fb6",
   "metadata": {},
   "outputs": [],
   "source": [
    "import random\n",
    "my_list = [[] for _ in range(1068)] # wikimath\n",
    "another_list = random.sample(range(570), 72)\n",
    "# my_list에서 250개 요소 무작위 선택\n",
    "selected_indexes = random.sample(range(len(my_list)), 250)\n",
    "# 선택된 요소에 해당하는 값들을 another_list에 할당\n",
    "for index in selected_indexes:\n",
    "    my_list[index] = another_list"
   ]
  },
  {
   "cell_type": "code",
   "execution_count": null,
   "id": "183f691b-f742-443c-b4df-4a90df3a6905",
   "metadata": {},
   "outputs": [],
   "source": []
  },
  {
   "cell_type": "code",
   "execution_count": 10,
   "id": "426dd25a-d198-4b0e-be4b-24c028c11fc1",
   "metadata": {},
   "outputs": [],
   "source": [
    "# _data = itstgcn.load_data('./data/fivenodes.pkl')\n",
    "# _edges = torch.tensor(_data['edges']).nonzero().tolist()\n",
    "# _FX = _data['f'].tolist()\n",
    "# _node_ids = {'node1':0, 'node2':1, 'node3':2, 'node4':3, 'node5':4} \n",
    "# data_dict = {'edges':_edges, 'node_ids':_node_ids, 'FX':_FX}\n",
    "# loader = itstgcn.DatasetLoader(data_dict)\n",
    "# data_dict = itstgcn.load_data('./data/fivenodes.pkl')\n",
    "# loader = itstgcn.DatasetLoader(data_dict)"
   ]
  },
  {
   "cell_type": "code",
   "execution_count": 44,
   "id": "db8bbddf-074e-41ef-9fdc-82f253f9e4cb",
   "metadata": {},
   "outputs": [],
   "source": [
    "# mindex= [[],[],[],list(range(50,150)),[]]\n",
    "# mindex= [list(range(50,150)),[],list(range(50,90)),list(range(50,150)),[]] # node 2\n",
    "plans_stgcn_block = {\n",
    "    'max_iteration': 30, \n",
    "    'method': ['STGCN', 'IT-STGCN'], \n",
    "    'mindex': [mindex],\n",
    "    'lags': [4,8], \n",
    "    'nof_filters': [12], \n",
    "    'inter_method': ['cubic'],\n",
    "    'epoch': [50]\n",
    "}"
   ]
  },
  {
   "cell_type": "code",
   "execution_count": null,
   "id": "01b2af85-b479-484d-8b56-07536c5e65e2",
   "metadata": {},
   "outputs": [],
   "source": [
    "plnr = itstgcnadd.planner.PLNR_STGCN_MANUAL(plans_stgcn_block,loader1,dataset_name='chickenpox')"
   ]
  },
  {
   "cell_type": "code",
   "execution_count": null,
   "id": "28b33643-4488-46e3-a6c9-8857e90aa674",
   "metadata": {},
   "outputs": [],
   "source": [
    "plnr.simulate(mindex=mindex,mtype='block')"
   ]
  },
  {
   "cell_type": "code",
   "execution_count": 45,
   "id": "93451ce3-4a47-43f7-9ba2-d91eb012e665",
   "metadata": {},
   "outputs": [],
   "source": [
    "plnr = itstgcnadd.planner.PLNR_STGCN_MANUAL(plans_stgcn_block,loader2,dataset_name='pedalme')"
   ]
  },
  {
   "cell_type": "code",
   "execution_count": null,
   "id": "39828f71-5156-4aa8-908f-d9579b8f1a85",
   "metadata": {},
   "outputs": [],
   "source": [
    "plnr.simulate(mindex=mindex,mtype='block')"
   ]
  },
  {
   "cell_type": "code",
   "execution_count": null,
   "id": "9a30f3ae-7a44-4dae-9476-8ec0580eea60",
   "metadata": {},
   "outputs": [],
   "source": []
  },
  {
   "cell_type": "code",
   "execution_count": null,
   "id": "1498fa82-90e0-4757-aea0-e97d9ad8d966",
   "metadata": {},
   "outputs": [],
   "source": []
  },
  {
   "cell_type": "code",
   "execution_count": null,
   "id": "4a15fbbc-6f18-42a0-b191-70ada5e20d3a",
   "metadata": {},
   "outputs": [],
   "source": []
  },
  {
   "cell_type": "code",
   "execution_count": null,
   "id": "9c1f0dbb-4311-42f2-99ec-1d3efd58c401",
   "metadata": {},
   "outputs": [],
   "source": [
    "# mindex= [[],[],[],list(range(50,150)),[]]\n",
    "# mindex= [list(range(50,150)),[],list(range(50,90)),list(range(50,150)),[]] # node 2\n",
    "plans_stgcn_block = {\n",
    "    'max_iteration': 10, \n",
    "    'method': ['STGCN', 'IT-STGCN'], \n",
    "    'mindex': [mindex],\n",
    "    'lags': [2,4], \n",
    "    'nof_filters': [12], \n",
    "    'inter_method': ['linear'],\n",
    "    'epoch': [50]\n",
    "}"
   ]
  },
  {
   "cell_type": "code",
   "execution_count": null,
   "id": "f2f2ceae-1c12-45f7-9f6b-4110f42c7bdb",
   "metadata": {},
   "outputs": [],
   "source": [
    "plnr = itstgcnadd.planner.PLNR_STGCN_MANUAL(plans_stgcn_block,loader3,dataset_name='wikimath')"
   ]
  },
  {
   "cell_type": "code",
   "execution_count": null,
   "id": "d5a6398a-7d60-48fd-b51c-e2887b94a50a",
   "metadata": {},
   "outputs": [],
   "source": [
    "plnr.simulate(mindex=mindex,mtype='block')"
   ]
  },
  {
   "cell_type": "code",
   "execution_count": null,
   "id": "ef670474-6da2-4fc0-90ba-837d4b08cf88",
   "metadata": {},
   "outputs": [],
   "source": []
  },
  {
   "cell_type": "code",
   "execution_count": null,
   "id": "8118628f-3701-4c9b-9f41-5948f728df55",
   "metadata": {},
   "outputs": [],
   "source": []
  },
  {
   "cell_type": "markdown",
   "id": "78d4a03e-ee3e-4395-917a-a3a670a48f2e",
   "metadata": {},
   "source": [
    "## PLNR_GNAR_RAND"
   ]
  },
  {
   "cell_type": "code",
   "execution_count": null,
   "id": "3926b3bb-6dfb-4cc6-9cba-f8ed8163a49a",
   "metadata": {},
   "outputs": [],
   "source": [
    "# _data = itstgcn.load_data('./data/fivenodes.pkl')\n",
    "# _edges = torch.tensor(_data['edges']).nonzero().tolist()\n",
    "# _FX = _data['f'].tolist()\n",
    "# _node_ids = {'node1':0, 'node2':1, 'node3':2, 'node4':3, 'node5':4} \n",
    "# data_dict = {'edges':_edges, 'node_ids':_node_ids, 'FX':_FX}\n",
    "# loader = itstgcn.DatasetLoader(data_dict)\n",
    "# data_dict=itstgcn.load_data('./data/fivenodes.pkl')\n",
    "# loader = itstgcn.DatasetLoader(data_dict)"
   ]
  },
  {
   "cell_type": "code",
   "execution_count": 32,
   "id": "79183350-4811-4273-bbe1-c5678a46e09a",
   "metadata": {},
   "outputs": [],
   "source": [
    "plans_gnar_rand = {\n",
    "    'max_iteration': 30, \n",
    "#    'method': ['GNAR'], \n",
    "    'mrate': [0.1],\n",
    "    'lags': [4], \n",
    "#    'nof_filters': [8,16], \n",
    "    'inter_method': ['linear','cubic'],\n",
    "#    'epoch': [1]\n",
    "}"
   ]
  },
  {
   "cell_type": "code",
   "execution_count": null,
   "id": "2bdf3048-6d0a-47d4-a39f-23b04dad64d6",
   "metadata": {
    "tags": []
   },
   "outputs": [],
   "source": [
    "plnr = itstgcn.planner.PLNR_GNAR_RAND(plans_gnar_rand,loader2,dataset_name='pedalme')\n",
    "plnr.simulate()"
   ]
  },
  {
   "cell_type": "code",
   "execution_count": 57,
   "id": "683beaae-7655-4062-9c91-32f4eaa32813",
   "metadata": {},
   "outputs": [],
   "source": [
    "plans_gnar_rand = {\n",
    "    'max_iteration': 3, \n",
    "#    'method': ['GNAR'], \n",
    "    'mrate': [0],\n",
    "    'lags': [2,4], \n",
    "#    'nof_filters': [8,16], \n",
    "    'inter_method': ['linear'],\n",
    "#    'epoch': [1]\n",
    "}"
   ]
  },
  {
   "cell_type": "code",
   "execution_count": null,
   "id": "b9aa2507-5562-4bb3-aafd-eb2a0c876dd0",
   "metadata": {
    "tags": []
   },
   "outputs": [],
   "source": [
    "plnr = itstgcn.planner.PLNR_GNAR_RAND(plans_gnar_rand,loader3,dataset_name='wikimath')\n",
    "plnr.simulate()"
   ]
  },
  {
   "cell_type": "code",
   "execution_count": 18,
   "id": "480db55f-7900-4084-bc7e-305b4f89b85a",
   "metadata": {},
   "outputs": [],
   "source": [
    "plans_gnar_rand = {\n",
    "    'max_iteration': 3, \n",
    "#    'method': ['GNAR'], \n",
    "    'mrate': [0,0.3],\n",
    "    'lags': [8], \n",
    "#    'nof_filters': [8,16], \n",
    "    'inter_method': ['linear'],\n",
    "#    'epoch': [1]\n",
    "}"
   ]
  },
  {
   "cell_type": "code",
   "execution_count": null,
   "id": "e3b5ac60-dcf9-4d9f-bfd9-bd067424c245",
   "metadata": {
    "tags": []
   },
   "outputs": [],
   "source": [
    "plnr = itstgcn.planner.PLNR_GNAR_RAND(plans_gnar_rand,loader5,dataset_name='windmillmedium')\n",
    "plnr.simulate()"
   ]
  },
  {
   "cell_type": "markdown",
   "id": "db17e4c6-dbe6-433b-822b-72944d995e8a",
   "metadata": {},
   "source": [
    "---"
   ]
  },
  {
   "cell_type": "markdown",
   "id": "f1c4fc60-b552-4cb0-990d-40ab420d2188",
   "metadata": {},
   "source": [
    "## PLNR_GNAR_BLOCK"
   ]
  },
  {
   "cell_type": "code",
   "execution_count": 6,
   "id": "f3d394fb-2e5f-4b39-9538-822986c1cc36",
   "metadata": {},
   "outputs": [],
   "source": [
    "# _data = itstgcn.load_data('./data/fivenodes.pkl')\n",
    "# _edges = torch.tensor(_data['edges']).nonzero().tolist()\n",
    "# _FX = _data['f'].tolist()\n",
    "# _node_ids = {'node1':0, 'node2':1, 'node3':2, 'node4':3, 'node5':4} \n",
    "# data_dict = {'edges':_edges, 'node_ids':_node_ids, 'FX':_FX}\n",
    "# loader = itstgcn.DatasetLoader(data_dict)\n",
    "# loader = itstgcn.load_data('./data/fivenodes.pkl')"
   ]
  },
  {
   "cell_type": "code",
   "execution_count": null,
   "id": "3466269c-3f96-4116-9cb8-eadd54264fe2",
   "metadata": {},
   "outputs": [],
   "source": [
    " Nodes : 26\n",
    "\n",
    "vertices represent 26 windmills\n",
    "-Edges : 676\n",
    "\n",
    "weighted edges describe the strength of relationships\n",
    "- Time : 17464"
   ]
  },
  {
   "cell_type": "code",
   "execution_count": null,
   "id": "1094c646-f5f4-4303-ada2-2573d83cb859",
   "metadata": {},
   "outputs": [],
   "source": [
    "my_list = [[] for _ in range(26)] #medium\n",
    "another_list = list(range(1000,2000))+list(range(4000,5000))+list(range(7000,8000)) #17464\n",
    "\n",
    "for i in np.array(random.sample(range(0, 26), 15)):\n",
    "    my_list[i] = another_list\n",
    "mindex = my_list"
   ]
  },
  {
   "cell_type": "code",
   "execution_count": null,
   "id": "856bd188-5ecd-4bf7-a417-ce3e07e6c844",
   "metadata": {},
   "outputs": [],
   "source": []
  },
  {
   "cell_type": "code",
   "execution_count": null,
   "id": "2fbe1fcf-e27a-41c3-8b18-402855df61d3",
   "metadata": {},
   "outputs": [],
   "source": []
  },
  {
   "cell_type": "code",
   "execution_count": null,
   "id": "f4568902-0211-4987-af6d-2079a6f6303a",
   "metadata": {},
   "outputs": [],
   "source": []
  },
  {
   "cell_type": "code",
   "execution_count": 14,
   "id": "d2bc955b-44f2-43c4-ba5b-7a33dbf30a33",
   "metadata": {},
   "outputs": [],
   "source": [
    "my_list = [[] for _ in range(20)] #chickenpox\n",
    "another_list = list(range(100,400))\n",
    "my_list[2] = another_list\n",
    "my_list[4] = another_list\n",
    "my_list[6] = another_list\n",
    "my_list[8] = another_list\n",
    "my_list[10] = another_list\n",
    "my_list[12] = another_list\n",
    "my_list[14] = another_list\n",
    "my_list[16] = another_list\n",
    "mindex = my_list"
   ]
  },
  {
   "cell_type": "code",
   "execution_count": 15,
   "id": "9779f175-8b00-4879-86a2-48f854abab5d",
   "metadata": {},
   "outputs": [],
   "source": [
    "# mindex= [[],[],[],list(range(50,150)),[]]\n",
    "# mindex= [list(range(50,150)),[],list(range(50,90)),list(range(50,150)),[]] # node 2\n",
    "plans_gnar_block = {\n",
    "    'max_iteration': 3, \n",
    "    'method': ['GNAR'], \n",
    "    'mindex': [mindex],\n",
    "    'lags': [4], \n",
    "    'inter_method': ['cubic','linear'],\n",
    "}"
   ]
  },
  {
   "cell_type": "code",
   "execution_count": null,
   "id": "bf53c080-64a0-4fde-ae85-b6286ae8c0a5",
   "metadata": {},
   "outputs": [],
   "source": [
    "plnr = itstgcn.planner.PLNR_GNAR_MANUAL(plans_gnar_block,loader1,dataset_name='chickenpox')\n",
    "plnr.simulate(mindex,mtype='block')"
   ]
  },
  {
   "cell_type": "code",
   "execution_count": null,
   "id": "578f4d89-d485-4f41-bddf-469a455bbb9b",
   "metadata": {},
   "outputs": [],
   "source": []
  },
  {
   "cell_type": "code",
   "execution_count": null,
   "id": "8aad3cfa-4037-4e5e-a000-d868de55cd31",
   "metadata": {},
   "outputs": [],
   "source": []
  },
  {
   "cell_type": "code",
   "execution_count": null,
   "id": "bb76b8e4-24b1-451a-a302-24c13c870537",
   "metadata": {},
   "outputs": [],
   "source": []
  },
  {
   "cell_type": "code",
   "execution_count": null,
   "id": "14d5a17a-2ec8-4d22-97a8-58997273ef4a",
   "metadata": {},
   "outputs": [],
   "source": []
  },
  {
   "cell_type": "code",
   "execution_count": null,
   "id": "5a7a9afc-6448-45f5-9ef2-803cb9bee8b1",
   "metadata": {},
   "outputs": [],
   "source": []
  },
  {
   "cell_type": "code",
   "execution_count": null,
   "id": "51973f64-f145-49f4-9ab8-3587a340098b",
   "metadata": {},
   "outputs": [],
   "source": []
  },
  {
   "cell_type": "code",
   "execution_count": null,
   "id": "c6914e91-bd82-4e0e-bcfb-f0ee590d52aa",
   "metadata": {},
   "outputs": [],
   "source": [
    "# mindex= [[],[],[],list(range(50,150)),[]]\n",
    "# mindex= [list(range(50,150)),[],list(range(50,90)),list(range(50,150)),[]] # node 2\n",
    "plans_gnar_block = {\n",
    "    'max_iteration': 3, \n",
    "    'method': ['GNAR'], \n",
    "    'mindex': [mindex],\n",
    "    'lags': [2,4], \n",
    "    'inter_method': ['linear'],\n",
    "}"
   ]
  },
  {
   "cell_type": "code",
   "execution_count": null,
   "id": "5cc59657-7711-43ca-81d7-a6d906fca956",
   "metadata": {},
   "outputs": [],
   "source": [
    "plnr = itstgcn.planner.PLNR_GNAR_MANUAL(plans_gnar_block,loader3,dataset_name='wikimath')\n",
    "plnr.simulate(mindex,mtype='block')"
   ]
  },
  {
   "cell_type": "code",
   "execution_count": null,
   "id": "ac1b005e-134a-4d10-af02-8bb2cfdc1b50",
   "metadata": {},
   "outputs": [],
   "source": []
  }
 ],
 "metadata": {
  "kernelspec": {
   "display_name": "Python 3",
   "language": "python",
   "name": "python3"
  },
  "language_info": {
   "codemirror_mode": {
    "name": "ipython",
    "version": 3
   },
   "file_extension": ".py",
   "mimetype": "text/x-python",
   "name": "python",
   "nbconvert_exporter": "python",
   "pygments_lexer": "ipython3",
   "version": "3.8.0"
  }
 },
 "nbformat": 4,
 "nbformat_minor": 5
}

{
  "cells": [
    {
      "cell_type": "markdown",
      "metadata": {},
      "source": [
        "# GCLSTM_Simulation_reshape\n",
        "\n",
        "SEOYEON CHOI  \n",
        "6/6/23\n",
        "\n",
        "> Simulation Study"
      ],
      "id": "e0526bfb-f86e-4342-aa38-5ccf4e7e8cf8"
    },
    {
      "cell_type": "code",
      "execution_count": 30,
      "metadata": {},
      "outputs": [],
      "source": [
        "import itstgcnGCLSTM\n",
        "import torch\n",
        "import itstgcnGCLSTM.planner \n",
        "import pandas as pd\n",
        "\n",
        "import numpy as np\n",
        "import random"
      ],
      "id": "3f1ee6dc-dae3-46d1-a7bf-215a8f0b5f6b"
    },
    {
      "cell_type": "code",
      "execution_count": 11,
      "metadata": {},
      "outputs": [],
      "source": [
        "from torch_geometric_temporal.dataset import WikiMathsDatasetLoader\n",
        "loader3 = WikiMathsDatasetLoader()"
      ],
      "id": "29ae0d13-c6e0-43d8-aeee-6f38019b9c20"
    },
    {
      "cell_type": "code",
      "execution_count": 12,
      "metadata": {},
      "outputs": [],
      "source": [
        "from torch_geometric_temporal.dataset import MontevideoBusDatasetLoader\n",
        "loader10 = MontevideoBusDatasetLoader()"
      ],
      "id": "aca44183-7ad8-4f47-88c7-fd38009b0372"
    },
    {
      "cell_type": "markdown",
      "metadata": {},
      "source": [
        "# wiki 안 돌림"
      ],
      "id": "3a8b82e1-4c57-48b5-8b07-381b7835cc8b"
    },
    {
      "cell_type": "code",
      "execution_count": null,
      "metadata": {},
      "outputs": [],
      "source": [
        "plans_stgcn_rand = {\n",
        "    'max_iteration': 5, \n",
        "    'method': ['STGCN', 'IT-STGCN'],\n",
        "    'mrate': [0.5],\n",
        "    'lags': [8], \n",
        "    'nof_filters': [64], \n",
        "    'inter_method': ['linear'],\n",
        "    'epoch': [50]\n",
        "}"
      ],
      "id": "9f862e24-16a6-4f16-95c0-9c1b04474781"
    },
    {
      "cell_type": "code",
      "execution_count": null,
      "metadata": {},
      "outputs": [],
      "source": [
        "plnr = itstgcnGCLSTM.planner.PLNR_STGCN_RAND(plans_stgcn_rand,loader3,dataset_name='wikimath')\n",
        "plnr.simulate()"
      ],
      "id": "9ae88cce-ff1c-40e3-8fae-555eef215de5"
    },
    {
      "cell_type": "code",
      "execution_count": null,
      "metadata": {},
      "outputs": [],
      "source": [
        "plnr = itstgcnGCLSTM.planner.PLNR_STGCN_RAND(plans_stgcn_rand,loader3,dataset_name='wikimath')\n",
        "plnr.simulate()"
      ],
      "id": "57cff1b4-048a-4228-8d74-89598a9cdfe4"
    },
    {
      "cell_type": "code",
      "execution_count": null,
      "metadata": {},
      "outputs": [],
      "source": [
        "plnr = itstgcnGCLSTM.planner.PLNR_STGCN_RAND(plans_stgcn_rand,loader3,dataset_name='wikimath')\n",
        "plnr.simulate()"
      ],
      "id": "de139368-6513-4954-86b6-5632943b0956"
    },
    {
      "cell_type": "code",
      "execution_count": null,
      "metadata": {},
      "outputs": [],
      "source": [
        "plnr = itstgcnGCLSTM.planner.PLNR_STGCN_RAND(plans_stgcn_rand,loader3,dataset_name='wikimath')\n",
        "plnr.simulate()"
      ],
      "id": "3175a0ae-30b0-464e-8476-bbfdedc21f35"
    },
    {
      "cell_type": "code",
      "execution_count": null,
      "metadata": {},
      "outputs": [],
      "source": [
        "plnr = itstgcnGCLSTM.planner.PLNR_STGCN_RAND(plans_stgcn_rand,loader3,dataset_name='wikimath')\n",
        "plnr.simulate()"
      ],
      "id": "aeb474fa-2f70-4856-9c1a-cc947f9c83c1"
    },
    {
      "cell_type": "code",
      "execution_count": null,
      "metadata": {},
      "outputs": [],
      "source": [
        "plnr = itstgcnGCLSTM.planner.PLNR_STGCN_RAND(plans_stgcn_rand,loader3,dataset_name='wikimath')\n",
        "plnr.simulate()"
      ],
      "id": "59142ff7-9636-41d6-86d8-8f3a6417e99e"
    },
    {
      "cell_type": "code",
      "execution_count": null,
      "metadata": {},
      "outputs": [],
      "source": [
        "plans_stgcn_rand = {\n",
        "    'max_iteration': 5, \n",
        "    'method': ['STGCN', 'IT-STGCN'],\n",
        "    'mrate': [0.6],\n",
        "    'lags': [8], \n",
        "    'nof_filters': [64], \n",
        "    'inter_method': ['linear'],\n",
        "    'epoch': [50]\n",
        "}"
      ],
      "id": "7cd68f2a-b5c3-4476-8934-a3f1f5d8f643"
    },
    {
      "cell_type": "code",
      "execution_count": null,
      "metadata": {},
      "outputs": [],
      "source": [
        "plnr = itstgcnGCLSTM.planner.PLNR_STGCN_RAND(plans_stgcn_rand,loader3,dataset_name='wikimath')\n",
        "plnr.simulate()"
      ],
      "id": "7540485a-3952-4990-8ade-2e7ce19d7dd9"
    },
    {
      "cell_type": "code",
      "execution_count": null,
      "metadata": {},
      "outputs": [],
      "source": [
        "plnr = itstgcnGCLSTM.planner.PLNR_STGCN_RAND(plans_stgcn_rand,loader3,dataset_name='wikimath')\n",
        "plnr.simulate()"
      ],
      "id": "ed3d7d22-91eb-4d5b-aac6-7b5a7c7f95ed"
    },
    {
      "cell_type": "code",
      "execution_count": null,
      "metadata": {},
      "outputs": [],
      "source": [
        "plnr = itstgcnGCLSTM.planner.PLNR_STGCN_RAND(plans_stgcn_rand,loader3,dataset_name='wikimath')\n",
        "plnr.simulate()"
      ],
      "id": "ae40033b-ba64-4bf8-9a9c-4a9542e528d3"
    },
    {
      "cell_type": "code",
      "execution_count": null,
      "metadata": {},
      "outputs": [],
      "source": [
        "plnr = itstgcnGCLSTM.planner.PLNR_STGCN_RAND(plans_stgcn_rand,loader3,dataset_name='wikimath')\n",
        "plnr.simulate()"
      ],
      "id": "cc6cd2af-9936-4b49-a048-dfa879107608"
    },
    {
      "cell_type": "code",
      "execution_count": null,
      "metadata": {},
      "outputs": [],
      "source": [
        "plnr = itstgcnGCLSTM.planner.PLNR_STGCN_RAND(plans_stgcn_rand,loader3,dataset_name='wikimath')\n",
        "plnr.simulate()"
      ],
      "id": "dc76210d-3f7a-4b78-ab31-1ce4f50ba3d4"
    },
    {
      "cell_type": "code",
      "execution_count": null,
      "metadata": {},
      "outputs": [],
      "source": [
        "plnr = itstgcnGCLSTM.planner.PLNR_STGCN_RAND(plans_stgcn_rand,loader3,dataset_name='wikimath')\n",
        "plnr.simulate()"
      ],
      "id": "6206d80a-54bf-4e17-9aef-228dc48edc79"
    },
    {
      "cell_type": "code",
      "execution_count": 119,
      "metadata": {},
      "outputs": [],
      "source": [
        "plans_stgcn_rand = {\n",
        "    'max_iteration': 10, \n",
        "    'method': ['STGCN', 'IT-STGCN'],\n",
        "    'mrate': [0.3],\n",
        "    'lags': [4], \n",
        "    'nof_filters': [12], \n",
        "    'inter_method': ['nearest'],\n",
        "    'epoch': [50]\n",
        "}"
      ],
      "id": "117d8fd6-b13e-4e15-9643-97459b27f652"
    },
    {
      "cell_type": "code",
      "execution_count": null,
      "metadata": {},
      "outputs": [
        {
          "output_type": "stream",
          "name": "stdout",
          "text": [
            "23/50"
          ]
        }
      ],
      "source": [
        "plnr = itstgcnGCLSTM.planner.PLNR_STGCN_RAND(plans_stgcn_rand,loader10,dataset_name='monte')\n",
        "plnr.simulate()"
      ],
      "id": "7e96fe52-ca14-4f88-8041-8f55d15ee487"
    },
    {
      "cell_type": "code",
      "execution_count": null,
      "metadata": {},
      "outputs": [],
      "source": [
        "plnr = itstgcnGCLSTM.planner.PLNR_STGCN_RAND(plans_stgcn_rand,loader10,dataset_name='monte')\n",
        "plnr.simulate()"
      ],
      "id": "7b18bb0f-26d8-40a7-9563-ec12cc6b9e71"
    },
    {
      "cell_type": "code",
      "execution_count": null,
      "metadata": {},
      "outputs": [],
      "source": [
        "plnr = itstgcnGCLSTM.planner.PLNR_STGCN_RAND(plans_stgcn_rand,loader10,dataset_name='monte')\n",
        "plnr.simulate()"
      ],
      "id": "f1612536-f424-4a3e-9214-c0535880ffee"
    },
    {
      "cell_type": "code",
      "execution_count": null,
      "metadata": {},
      "outputs": [],
      "source": [
        "plans_stgcn_rand = {\n",
        "    'max_iteration': 10, \n",
        "    'method': ['STGCN', 'IT-STGCN'],\n",
        "    'mrate': [0.5],\n",
        "    'lags': [4], \n",
        "    'nof_filters': [12], \n",
        "    'inter_method': ['nearest'],\n",
        "    'epoch': [50]\n",
        "}"
      ],
      "id": "979b5bbc-b430-4e35-9a87-2c941b59a5a6"
    },
    {
      "cell_type": "code",
      "execution_count": null,
      "metadata": {},
      "outputs": [],
      "source": [
        "plnr = itstgcnGCLSTM.planner.PLNR_STGCN_RAND(plans_stgcn_rand,loader10,dataset_name='monte')\n",
        "plnr.simulate()"
      ],
      "id": "dbd6396b-4641-4d45-bced-d651d161fda3"
    },
    {
      "cell_type": "code",
      "execution_count": null,
      "metadata": {},
      "outputs": [],
      "source": [
        "plnr = itstgcnGCLSTM.planner.PLNR_STGCN_RAND(plans_stgcn_rand,loader10,dataset_name='monte')\n",
        "plnr.simulate()"
      ],
      "id": "df56c6d2-6217-4827-bb46-d7610e78c0bd"
    },
    {
      "cell_type": "code",
      "execution_count": null,
      "metadata": {},
      "outputs": [],
      "source": [
        "plnr = itstgcnGCLSTM.planner.PLNR_STGCN_RAND(plans_stgcn_rand,loader10,dataset_name='monte')\n",
        "plnr.simulate()"
      ],
      "id": "267c7c03-3e2a-4eac-8e05-401c0e05e0e6"
    },
    {
      "cell_type": "code",
      "execution_count": null,
      "metadata": {},
      "outputs": [],
      "source": [
        "plans_stgcn_rand = {\n",
        "    'max_iteration': 10, \n",
        "    'method': ['STGCN', 'IT-STGCN'],\n",
        "    'mrate': [0.7],\n",
        "    'lags': [4], \n",
        "    'nof_filters': [12], \n",
        "    'inter_method': ['nearest'],\n",
        "    'epoch': [50]\n",
        "}"
      ],
      "id": "0730e069-6776-4339-873a-4e2efee14bae"
    },
    {
      "cell_type": "code",
      "execution_count": null,
      "metadata": {},
      "outputs": [],
      "source": [
        "plnr = itstgcnGCLSTM.planner.PLNR_STGCN_RAND(plans_stgcn_rand,loader10,dataset_name='monte')\n",
        "plnr.simulate()"
      ],
      "id": "986add03-cb1c-4c91-825b-882a2be8de25"
    },
    {
      "cell_type": "code",
      "execution_count": null,
      "metadata": {},
      "outputs": [],
      "source": [
        "plnr = itstgcnGCLSTM.planner.PLNR_STGCN_RAND(plans_stgcn_rand,loader10,dataset_name='monte')\n",
        "plnr.simulate()"
      ],
      "id": "f8ea9cac-2a91-402c-83ec-46a1dcfe7a52"
    },
    {
      "cell_type": "code",
      "execution_count": null,
      "metadata": {},
      "outputs": [],
      "source": [
        "plnr = itstgcnGCLSTM.planner.PLNR_STGCN_RAND(plans_stgcn_rand,loader10,dataset_name='monte')\n",
        "plnr.simulate()"
      ],
      "id": "0eefca9c-3785-4b3e-8f85-23e8dada5ab9"
    },
    {
      "cell_type": "markdown",
      "metadata": {},
      "source": [
        "# Import"
      ],
      "id": "1b9bbadc-96a3-4a7d-86e9-1d6b58f521bd"
    },
    {
      "cell_type": "code",
      "execution_count": 2,
      "metadata": {},
      "outputs": [],
      "source": [
        "import matplotlib.pyplot as plt\n",
        "import pandas as pd\n",
        "import numpy as np"
      ],
      "id": "33ce6160-4dbb-4695-8c4d-31677760c176"
    },
    {
      "cell_type": "markdown",
      "metadata": {},
      "source": [
        "# Fivenodes"
      ],
      "id": "3c5d7b7b-b87b-4106-a468-51bbf9d35bf4"
    },
    {
      "cell_type": "code",
      "execution_count": 33,
      "metadata": {},
      "outputs": [],
      "source": [
        "df1 = pd.read_csv('./simulation_results/2023-06-13_07-17-07.csv')\n",
        "df2 = pd.read_csv('./simulation_results/2023-06-13_07-44-52.csv')\n",
        "df3 = pd.read_csv('./simulation_results/2023-06-13_08-12-37.csv')\n",
        "df4 = pd.read_csv('./simulation_results/2023-06-13_08-40-19.csv')\n",
        "df5 = pd.read_csv('./simulation_results/2023-06-13_12-54-53.csv')\n",
        "df6 = pd.read_csv('./simulation_results/2023-06-13_13-22-41.csv')\n",
        "df7 = pd.read_csv('./simulation_results/2023-06-13_13-50-26.csv')\n",
        "df8 = pd.read_csv('./simulation_results/2023-06-13_14-17-59.csv')"
      ],
      "id": "f99144bf-459f-447e-9aab-fc60f805ded0"
    },
    {
      "cell_type": "code",
      "execution_count": 33,
      "metadata": {},
      "outputs": [],
      "source": [
        "df9 = pd.read_csv('./simulation_results/2023-07-17_07-35-15.csv')\n",
        "df10 = pd.read_csv('./simulation_results/2023-07-17_08-03-56.csv')\n",
        "df11 = pd.read_csv('./simulation_results/2023-07-17_08-32-12.csv')\n",
        "df12 = pd.read_csv('./simulation_results/2023-07-17_08-59-03.csv')\n",
        "df13 = pd.read_csv('./simulation_results/2023-07-17_09-25-30.csv')\n",
        "df14 = pd.read_csv('./simulation_results/2023-07-17_09-53-40.csv')"
      ],
      "id": "76007a25-85c1-4007-8dd3-96c08b14efcc"
    },
    {
      "cell_type": "code",
      "execution_count": 34,
      "metadata": {},
      "outputs": [],
      "source": [
        "data = pd.concat([df1,df2,df3,df4,df5,df6,df7,df8,df9,df10,df11,df12,df13,df14],axis=0)"
      ],
      "id": "17aa8d08-6b9a-4174-ab7b-bb80a25b7bf3"
    },
    {
      "cell_type": "code",
      "execution_count": 35,
      "metadata": {},
      "outputs": [],
      "source": [
        "data.to_csv('./simulation_results/Real_simulation_reshape/GCLSTM_fivedones_Simulation.csv',index=False)"
      ],
      "id": "2778abfa-a2bb-4ca7-9ad5-3ae8e18fcbff"
    },
    {
      "cell_type": "code",
      "execution_count": 36,
      "metadata": {},
      "outputs": [],
      "source": [
        "data = pd.read_csv('./simulation_results/Real_simulation_reshape/GCLSTM_fivedones_Simulation.csv')"
      ],
      "id": "c892ed1e-3264-4a20-9019-15994d50bd95"
    },
    {
      "cell_type": "markdown",
      "metadata": {},
      "source": [
        "## Baseline"
      ],
      "id": "4bd44bdf-c976-437a-964c-a86671b393ee"
    },
    {
      "cell_type": "code",
      "execution_count": 37,
      "metadata": {
        "tags": []
      },
      "outputs": [],
      "source": [
        "data.query(\"method!='GNAR' and mrate==0\").plot.box(backend='plotly',x='mrate',color='method',y='mse',facet_col='lags',facet_row='nof_filters',height=600)\n"
      ],
      "id": "c9292fa4-554a-4214-9fa2-1529ad685b16"
    },
    {
      "cell_type": "markdown",
      "metadata": {},
      "source": [
        "## Random"
      ],
      "id": "7629727c-2f19-459d-8959-080c847267bf"
    },
    {
      "cell_type": "code",
      "execution_count": 38,
      "metadata": {},
      "outputs": [],
      "source": [
        "data.query(\"method!='GNAR' and mtype =='rand'\").plot.box(backend='plotly',x='mrate',color='method',y='mse',facet_col='inter_method',facet_row='nof_filters',height=600)\n",
        "\n"
      ],
      "id": "bbfbf775-fc85-4a69-80ce-f96ab28cafe5"
    },
    {
      "cell_type": "markdown",
      "metadata": {},
      "source": [
        "## Block"
      ],
      "id": "d8cceab4-05c3-4b8a-b477-7c884902a137"
    },
    {
      "cell_type": "code",
      "execution_count": 39,
      "metadata": {},
      "outputs": [],
      "source": [
        "data.query(\"method!='GNAR' and mtype =='block' \").plot.box(backend='plotly',x='mrate',color='method',y='mse',facet_col='inter_method',facet_row='nof_filters',height=600)\n"
      ],
      "id": "01f77d54-09c1-4cdb-9651-0b9b71717668"
    },
    {
      "cell_type": "markdown",
      "metadata": {},
      "source": [
        "# chickenpox"
      ],
      "id": "e4a3aacd-aa02-4171-9492-808e607de8a4"
    },
    {
      "cell_type": "code",
      "execution_count": 31,
      "metadata": {},
      "outputs": [],
      "source": [
        "df1 = pd.read_csv('./simulation_results/2023-06-13_15-38-39.csv') # GNAR random\n",
        "df2 = pd.read_csv('./simulation_results/2023-06-13_16-57-23.csv') # GNAR block\n",
        "df3 = pd.read_csv('./simulation_results/2023-06-13_17-36-42.csv') # STGCN, ITSTGCN random 30%\n",
        "df4 = pd.read_csv('./simulation_results/2023-06-13_18-16-50.csv') \n",
        "df5 = pd.read_csv('./simulation_results/2023-06-13_19-43-23.csv') \n",
        "df6 = pd.read_csv('./simulation_results/2023-06-13_21-07-40.csv') "
      ],
      "id": "a452470b-fb52-4ca3-8e1e-1c33bc89fffb"
    },
    {
      "cell_type": "code",
      "execution_count": 32,
      "metadata": {},
      "outputs": [],
      "source": [
        "df7 = pd.read_csv('./simulation_results/2023-07-17_10-37-55.csv') # GNAR random\n",
        "df8 = pd.read_csv('./simulation_results/2023-07-17_11-21-39.csv') # GNAR block\n",
        "df9 = pd.read_csv('./simulation_results/2023-07-17_12-03-49.csv') # STGCN, ITSTGCN random 30%\n",
        "df10 = pd.read_csv('./simulation_results/2023-07-17_12-47-06.csv') "
      ],
      "id": "a938ed29-8868-493c-9f5d-543f4ac6ab52"
    },
    {
      "cell_type": "code",
      "execution_count": 33,
      "metadata": {},
      "outputs": [],
      "source": [
        "data = pd.concat([df1,df2,df3,df4,df5,df6,df7,df8,df9,df10],axis=0)"
      ],
      "id": "9c8dd603-c787-4f83-898f-34641e67beda"
    },
    {
      "cell_type": "code",
      "execution_count": 34,
      "metadata": {},
      "outputs": [],
      "source": [
        "data.to_csv('./simulation_results/Real_simulation_reshape/GCLSTM_chikenpox_Simulation.csv',index=False)"
      ],
      "id": "3aacb2e1-a7aa-4487-b6fd-aa13d037ae33"
    },
    {
      "cell_type": "code",
      "execution_count": 35,
      "metadata": {},
      "outputs": [],
      "source": [
        "data = pd.read_csv('./simulation_results/Real_simulation_reshape/GCLSTM_chikenpox_Simulation.csv')"
      ],
      "id": "6f3462ac-07a6-495c-824a-6664c7865acc"
    },
    {
      "cell_type": "markdown",
      "metadata": {},
      "source": [
        "## Baseline"
      ],
      "id": "1512b690-7034-4a1f-9b68-43f57ea043c4"
    },
    {
      "cell_type": "code",
      "execution_count": 36,
      "metadata": {},
      "outputs": [],
      "source": [
        "data.query(\"method!='GNAR' and mrate ==0 \").plot.box(backend='plotly',x='mrate',color='method',y='mse',facet_col='nof_filters',height=600)\n"
      ],
      "id": "76b98c15-9655-4efd-a4a0-ad8474df8b21"
    },
    {
      "cell_type": "markdown",
      "metadata": {},
      "source": [
        "## Random"
      ],
      "id": "3b6405c5-b2c9-4c4b-8872-cf50f2138dff"
    },
    {
      "cell_type": "code",
      "execution_count": 37,
      "metadata": {},
      "outputs": [],
      "source": [
        "data.query(\"method!='GNAR' and mtype =='rand'\").plot.box(backend='plotly',x='mrate',color='method',y='mse',facet_col='nof_filters',facet_row='inter_method',height=800)\n"
      ],
      "id": "d6a504e9-dd20-4368-8da3-401a2230d538"
    },
    {
      "cell_type": "markdown",
      "metadata": {},
      "source": [
        "## Block"
      ],
      "id": "ef7a7a55-2e0e-4744-af1e-750169f6f040"
    },
    {
      "cell_type": "code",
      "execution_count": 38,
      "metadata": {},
      "outputs": [],
      "source": [
        "data.query(\"method!='GNAR' and mtype =='block'\").plot.box(backend='plotly',x='mrate',color='method',y='mse',facet_col='inter_method',facet_row='lags',height=800)\n"
      ],
      "id": "c6bd08ac-b15c-403a-8e7d-bca8fe4bd78a"
    },
    {
      "cell_type": "markdown",
      "metadata": {},
      "source": [
        "# Pedalme"
      ],
      "id": "1bbf6e8d-0bad-4fe7-9eeb-d452866ed447"
    },
    {
      "cell_type": "code",
      "execution_count": 40,
      "metadata": {},
      "outputs": [],
      "source": [
        "df1 = pd.read_csv('./simulation_results/2023-06-07_07-17-13.csv') \n",
        "df2 = pd.read_csv('./simulation_results/2023-06-07_07-27-02.csv')  "
      ],
      "id": "e6afe773-9bc1-4c74-a5f1-281951cc752e"
    },
    {
      "cell_type": "code",
      "execution_count": 41,
      "metadata": {},
      "outputs": [],
      "source": [
        "df3 = pd.read_csv('./simulation_results/2023-07-17_13-06-02.csv') "
      ],
      "id": "e4386a76-f23a-4153-ae58-0cca2414c25e"
    },
    {
      "cell_type": "code",
      "execution_count": 42,
      "metadata": {},
      "outputs": [],
      "source": [
        "data = pd.concat([df1,df2,df3],axis=0)"
      ],
      "id": "2144142b-8e57-43eb-b0da-aeefc636fd3c"
    },
    {
      "cell_type": "code",
      "execution_count": 43,
      "metadata": {},
      "outputs": [],
      "source": [
        "data.to_csv('./simulation_results/Real_simulation_reshape/GCLSTM_pedalme_Simulation.csv',index=False)"
      ],
      "id": "821ab94a-91ad-4498-a152-bf1356fe521e"
    },
    {
      "cell_type": "code",
      "execution_count": 44,
      "metadata": {},
      "outputs": [],
      "source": [
        "data = pd.read_csv('./simulation_results/Real_simulation_reshape/GCLSTM_pedalme_Simulation.csv')"
      ],
      "id": "db2219a6-0795-404a-ac93-37f099f0480f"
    },
    {
      "cell_type": "markdown",
      "metadata": {},
      "source": [
        "## Baseline"
      ],
      "id": "5998c176-b931-4ec9-8106-a57d919751e8"
    },
    {
      "cell_type": "code",
      "execution_count": 45,
      "metadata": {},
      "outputs": [],
      "source": [
        "data.query(\"mrate ==0 and lags!=2\").plot.box(backend='plotly',x='epoch',color='method',y='mse',facet_col='nof_filters',facet_row='lags',height=400)\n"
      ],
      "id": "9bcff0b7-2a1a-498b-b1c2-4067c628bde8"
    },
    {
      "cell_type": "markdown",
      "metadata": {},
      "source": [
        "## random"
      ],
      "id": "fc63d298-4a0d-431c-98fd-2b902fb98ab6"
    },
    {
      "cell_type": "code",
      "execution_count": 46,
      "metadata": {},
      "outputs": [],
      "source": [
        "data.query(\"method!='GNAR' and mtype =='rand' and lags!=2\").plot.box(backend='plotly',x='mrate',color='method',y='mse',facet_col='nof_filters',facet_row='inter_method',height=800)\n"
      ],
      "id": "dc6cfe7d-8e4e-48dc-9ac4-77d43ef5ed62"
    },
    {
      "cell_type": "markdown",
      "metadata": {},
      "source": [
        "## block"
      ],
      "id": "adfe736e-1067-4e66-9d08-d24f2690de9a"
    },
    {
      "cell_type": "code",
      "execution_count": 47,
      "metadata": {},
      "outputs": [],
      "source": [
        "data.query(\"method!='GNAR' and mtype =='block' and lags!=2 \").plot.box(backend='plotly',x='mrate',color='method',y='mse',facet_col='nof_filters',facet_row='inter_method',height=800)\n"
      ],
      "id": "3bf9591b-ec52-48d8-ad80-301f4485a9e9"
    },
    {
      "cell_type": "markdown",
      "metadata": {},
      "source": [
        "## weight matrix time, node 고려한 결과"
      ],
      "id": "7e769d76-afac-442e-b3eb-6cd7653d906c"
    },
    {
      "cell_type": "code",
      "execution_count": 252,
      "metadata": {},
      "outputs": [],
      "source": [
        "# df1 = pd.read_csv('./simulation_results/2023-06-13_18-41-53.csv') # gclm 잘못 돌림\n",
        "df1 = pd.read_csv('./simulation_results/2023-06-13_18-14-13.csv')\n",
        "df2 = pd.read_csv('./simulation_results/2023-06-16_20-25-15.csv')"
      ],
      "id": "41a09e4d-a562-4506-b650-4176ef374f99"
    },
    {
      "cell_type": "code",
      "execution_count": 174,
      "metadata": {},
      "outputs": [],
      "source": [
        "data2 = pd.concat([df1,df2],axis=0)"
      ],
      "id": "dd6dd5f6-880c-4209-97b4-7fb34717817d"
    },
    {
      "cell_type": "code",
      "execution_count": 175,
      "metadata": {},
      "outputs": [],
      "source": [
        "data2.to_csv('./simulation_results/Real_simulation_reshape/GCLSTM_pedalme_Simulation_itstgcnsnd.csv',index=False)"
      ],
      "id": "b07008f8-f759-4459-8f71-76f980da3eae"
    },
    {
      "cell_type": "code",
      "execution_count": 176,
      "metadata": {},
      "outputs": [],
      "source": [
        "data2 = pd.read_csv('./simulation_results/Real_simulation_reshape/GCLSTM_pedalme_Simulation_itstgcnsnd.csv')"
      ],
      "id": "2be29cb2-f458-4ce6-8db6-b98dd501edd2"
    },
    {
      "cell_type": "code",
      "execution_count": 177,
      "metadata": {},
      "outputs": [],
      "source": [
        "data2.query(\"mtype=='rand'\").plot.box(backend='plotly',x='mrate',color='method',y='mse',facet_col='inter_method',facet_row='nof_filters',height=1000)"
      ],
      "id": "ee43069d-8a17-417a-9802-c6c232f85839"
    },
    {
      "cell_type": "code",
      "execution_count": 178,
      "metadata": {},
      "outputs": [],
      "source": [
        "data2.query(\"mtype=='block'\").plot.box(backend='plotly',x='mrate',color='method',y='mse',facet_col='inter_method',facet_row='nof_filters',height=1000)"
      ],
      "id": "653aba2f-b679-4836-83ae-3f1cbc3beaec"
    },
    {
      "cell_type": "markdown",
      "metadata": {},
      "source": [
        "# Wikimath"
      ],
      "id": "4b8ed554-d60d-42be-a55e-2a1ca079e497"
    },
    {
      "cell_type": "code",
      "execution_count": 276,
      "metadata": {},
      "outputs": [],
      "source": [
        "df1 = pd.read_csv('./simulation_results/2023-06-16_10-32-29.csv')\n",
        "df2 = pd.read_csv('./simulation_results/2023-06-16_15-13-14.csv')\n",
        "df3 = pd.read_csv('./simulation_results/2023-06-16_21-20-31.csv')\n",
        "df4 = pd.read_csv('./simulation_results/2023-06-17_10-12-36.csv')\n",
        "df5 = pd.read_csv('./simulation_results/2023-06-17_12-49-46.csv')\n",
        "df6 = pd.read_csv('./simulation_results/2023-06-17_14-45-14.csv')\n",
        "df7 = pd.read_csv('./simulation_results/2023-06-17_16-56-50.csv') \n",
        "df8 = pd.read_csv('./simulation_results/2023-06-17_20-23-03.csv')\n",
        "df9 = pd.read_csv('./simulation_results/2023-06-16_21-11-03.csv') # block\n",
        "df10 = pd.read_csv('./simulation_results/2023-06-16_15-10-06.csv') # block\n",
        "df11 = pd.read_csv('./simulation_results/2023-06-16_10-31-28.csv') # block\n",
        "## block 3개 끝나면 같은 노드로 넘어가기"
      ],
      "id": "d744fdb7-9619-4602-bc2f-e782c7e37768"
    },
    {
      "cell_type": "code",
      "execution_count": 222,
      "metadata": {},
      "outputs": [],
      "source": [
        "data = pd.concat([df1,df2,df3,df4,df5,df6,df7,df8,df9,df10,df11],axis=0)"
      ],
      "id": "990a0f05-b91c-4d22-9e91-aea17c0e71fa"
    },
    {
      "cell_type": "code",
      "execution_count": 223,
      "metadata": {},
      "outputs": [],
      "source": [
        "data.to_csv('./simulation_results/Real_simulation_reshape/GCLSTM_wikimath.csv',index=False)"
      ],
      "id": "160fc8c2-22a5-444f-867a-f08511b42d2b"
    },
    {
      "cell_type": "code",
      "execution_count": 224,
      "metadata": {},
      "outputs": [],
      "source": [
        "data = pd.read_csv('./simulation_results/Real_simulation_reshape/GCLSTM_wikimath.csv')"
      ],
      "id": "b0d7adfc-7481-4de1-bb07-5eacff220ea7"
    },
    {
      "cell_type": "markdown",
      "metadata": {},
      "source": [
        "## Baseline"
      ],
      "id": "00327112-eb5f-43b3-b8a4-2b1e3d835aba"
    },
    {
      "cell_type": "code",
      "execution_count": 225,
      "metadata": {},
      "outputs": [],
      "source": [
        "data.query(\"mrate==0 and method!='GNAR'\").plot.box(backend='plotly',x='mrate',color='method',y='mse',height=600)"
      ],
      "id": "861e0d32-7fb0-49e0-8c14-13dcdf7c0ef0"
    },
    {
      "cell_type": "markdown",
      "metadata": {},
      "source": [
        "## random"
      ],
      "id": "f978c603-7439-4224-9905-33f67bac7bf3"
    },
    {
      "cell_type": "code",
      "execution_count": 226,
      "metadata": {},
      "outputs": [],
      "source": [
        "data.query(\"mtype=='rand' and mrate !=0 and method!='GNAR'\").plot.box(backend='plotly',x='mrate',color='method',y='mse',facet_col='lags',facet_row='nof_filters',height=800)\n"
      ],
      "id": "e2466c24-d829-459b-80b7-8588a034d1e2"
    },
    {
      "cell_type": "markdown",
      "metadata": {},
      "source": [
        "## block"
      ],
      "id": "eac302ce-f340-46f5-90ea-5bff69817c27"
    },
    {
      "cell_type": "code",
      "execution_count": 227,
      "metadata": {},
      "outputs": [],
      "source": [
        "data.query(\"mtype=='block' and method!='GNAR'\").plot.box(backend='plotly',x='mrate',color='method',y='mse',facet_col='lags',facet_row='nof_filters',height=1200)\n"
      ],
      "id": "df4e2875-f4c5-48a5-b60e-a5dd1b8ab4f0"
    },
    {
      "cell_type": "markdown",
      "metadata": {},
      "source": [
        "## missing values on the same nodes"
      ],
      "id": "15d57296-b4e6-4cc3-8a60-b6fbeb8e976b"
    },
    {
      "cell_type": "code",
      "execution_count": 332,
      "metadata": {
        "tags": []
      },
      "outputs": [],
      "source": [
        "df1 = pd.read_csv('./simulation_results/2023-06-17_01-42-41.csv') # STGCN IT-STGCN block\n",
        "# df2 = pd.read_csv('./simulation_results/2023-06-17_03-35-20.csv') # STGCN IT-STGCN\n",
        "df3 = pd.read_csv('./simulation_results/2023-06-17_10-06-34.csv') \n",
        "\n",
        "df4 = pd.read_csv('./simulation_results/2023-07-10_05-37-15.csv') \n",
        "df5 = pd.read_csv('./simulation_results/2023-07-10_11-00-23.csv') \n",
        "df6 = pd.read_csv('./simulation_results/2023-07-10_16-03-18.csv') "
      ],
      "id": "dea5442f-3b7f-405b-8ee0-43eef10e84a1"
    },
    {
      "cell_type": "code",
      "execution_count": 333,
      "metadata": {},
      "outputs": [],
      "source": [
        "data = pd.concat([df1,df3,df4,df5,df6],axis=0)"
      ],
      "id": "33f4629b-7a08-45a8-8cf6-757d153828f4"
    },
    {
      "cell_type": "code",
      "execution_count": 334,
      "metadata": {},
      "outputs": [],
      "source": [
        "data.to_csv('./simulation_results/Real_simulation_reshape/GCLSTM_wikimath_GSO_st.csv',index=False)"
      ],
      "id": "dc1170b5-81e3-4cde-9cb0-b9e6a8f37c17"
    },
    {
      "cell_type": "code",
      "execution_count": 335,
      "metadata": {},
      "outputs": [],
      "source": [
        "data = pd.read_csv('./simulation_results/Real_simulation_reshape/GCLSTM_wikimath_GSO_st.csv')"
      ],
      "id": "1fdd4a0e-382f-4dbe-aeae-063defca0c05"
    },
    {
      "cell_type": "code",
      "execution_count": 336,
      "metadata": {},
      "outputs": [],
      "source": [
        "data.query(\"method!='GNAR' and mtype =='block' \").plot.box(backend='plotly',x='mrate',color='method',y='mse',facet_col='inter_method',facet_row='lags',height=800)\n"
      ],
      "id": "52b02366-6299-41fb-8b02-57addc9252dd"
    },
    {
      "cell_type": "markdown",
      "metadata": {},
      "source": [
        "# Windmilsmall"
      ],
      "id": "89e153d0-ded0-45a2-878e-4dd336006acd"
    },
    {
      "cell_type": "code",
      "execution_count": 112,
      "metadata": {},
      "outputs": [],
      "source": [
        "df1 = pd.read_csv('./simulation_results/2023-07-08_16-46-22.csv') # STGCN IT-STGCN 70%\n",
        "df2 = pd.read_csv('./simulation_results/2023-07-09_01-43-03.csv') # STGCN IT-STGCN\n",
        "df3 = pd.read_csv('./simulation_results/2023-07-09_10-40-50.csv') # STGCN IT-STGCN\n",
        "df4 = pd.read_csv('./simulation_results/2023-07-09_10-40-50.csv') # STGCN IT-STGCN\n",
        "df5 = pd.read_csv('./simulation_results/2023-07-09_19-35-52.csv') # STGCN IT-STGCN\n",
        "df6 = pd.read_csv('./simulation_results/2023-07-09_19-35-52.csv') # GNAR 30%, 50%, 70% # 뭔가 일단 필요없어서 데이터셋에서 뺌\n",
        "df7 = pd.read_csv('./simulation_results/2023-07-10_05-19-00.csv') # STGCN IT-STGCN\n",
        "df8 = pd.read_csv('./simulation_results/2023-07-10_15-38-09.csv') # STGCN IT-STGCN\n",
        "df9 = pd.read_csv('./simulation_results/2023-07-11_00-47-18.csv') # STGCN IT-STGCN\n",
        "df10 = pd.read_csv('./simulation_results/2023-07-11_09-43-29.csv') # STGCN IT-STGCN\n",
        "df11 = pd.read_csv('./simulation_results/2023-07-11_18-37-15.csv') # STGCN IT-STGCN\n",
        "df12 = pd.read_csv('./simulation_results/2023-07-12_03-27-10.csv') # STGCN IT-STGCN\n",
        "df13 = pd.read_csv('./simulation_results/2023-07-12_12-12-07.csv') # STGCN IT-STGCN\n",
        "df14 = pd.read_csv('./simulation_results/2023-07-12_20-57-30.csv') # STGCN IT-STGCN\n",
        "df15 = pd.read_csv('./simulation_results/2023-07-13_05-53-36.csv') # STGCN IT-STGCN\n",
        "df16 = pd.read_csv('./simulation_results/2023-07-12_19-07-41.csv') # STGCN IT-STGCN\n",
        "df17 = pd.read_csv('./simulation_results/2023-07-13_04-09-38.csv') # STGCN IT-STGCN\n",
        "df18 = pd.read_csv('./simulation_results/2023-04-20_08-30-27.csv') # STGCN IT-STGCN\n",
        "df19 = pd.read_csv('./simulation_results/2023-04-20_14-28-35.csv') # STGCN IT-STGCN\n",
        "df20 = pd.read_csv('./simulation_results/2023-04-20_16-08-39.csv') # STGCN IT-STGCN\n",
        "df21 = pd.read_csv('./simulation_results/2023-07-13_20-26-31.csv') # STGCN IT-STGCN\n",
        "df22 = pd.read_csv('./simulation_results/2023-07-13_21-36-49.csv') # STGCN IT-STGCN\n",
        "df23 = pd.read_csv('./simulation_results/2023-07-14_03-03-03.csv') # STGCN IT-STGCN\n",
        "df24 = pd.read_csv('./simulation_results/2023-07-14_04-13-48.csv') # STGCN IT-STGCN\n",
        "df25 = pd.read_csv('./simulation_results/2023-07-14_10-49-08.csv') # STGCN IT-STGCN\n",
        "df26 = pd.read_csv('./simulation_results/2023-07-14_13-01-02.csv') # STGCN IT-STGCN\n",
        "df27 = pd.read_csv('./simulation_results/2023-07-14_21-09-47.csv') # STGCN IT-STGCN\n",
        "df28 = pd.read_csv('./simulation_results/2023-07-14_22-48-18.csv') # STGCN IT-STGCN\n",
        "df29 = pd.read_csv('./simulation_results/2023-07-15_07-24-08.csv') # STGCN IT-STGCN\n",
        "df30 = pd.read_csv('./simulation_results/2023-07-15_09-28-06.csv') # STGCN IT-STGCN\n",
        "df31 = pd.read_csv('./simulation_results/2023-07-15_16-22-58.csv') # GNAR 70%\n",
        "df32 = pd.read_csv('./simulation_results/2023-07-15_18-56-34.csv') # GNAR \n",
        "df33 = pd.read_csv('./simulation_results/2023-07-16_02-27-30.csv')\n",
        "df34 = pd.read_csv('./simulation_results/2023-07-16_04-39-55.csv')\n",
        "df35 = pd.read_csv('./simulation_results/2023-07-16_08-52-31.csv')\n",
        "df36 = pd.read_csv('./simulation_results/2023-07-16_13-46-01.csv')\n",
        "df37 = pd.read_csv('./simulation_results/2023-07-16_16-24-14.csv')\n",
        "df38 = pd.read_csv('./simulation_results/2023-07-16_20-42-20.csv')\n",
        "df39 = pd.read_csv('./simulation_results/2023-07-17_02-06-35.csv')\n",
        "df40 = pd.read_csv('./simulation_results/2023-07-17_04-36-34.csv')\n",
        "df41 = pd.read_csv('./simulation_results/2023-07-17_08-38-54.csv')\n",
        "df42 = pd.read_csv('./simulation_results/2023-07-17_13-34-00.csv')\n",
        "df43 = pd.read_csv('./simulation_results/2023-07-17_15-23-22.csv')\n",
        "df44 = pd.read_csv('./simulation_results/2023-07-17_19-53-20.csv')\n",
        "df45 = pd.read_csv('./simulation_results/2023-07-18_00-22-34.csv')\n",
        "df46 = pd.read_csv('./simulation_results/2023-07-18_02-06-38.csv')\n",
        "df47 = pd.read_csv('./simulation_results/2023-07-18_06-34-10.csv')\n",
        "df48 = pd.read_csv('./simulation_results/2023-07-18_11-10-06.csv')\n",
        "df49 = pd.read_csv('./simulation_results/2023-07-18_12-50-31.csv')\n",
        "df50 = pd.read_csv('./simulation_results/2023-07-18_17-52-05.csv')\n",
        "df51 = pd.read_csv('./simulation_results/2023-07-18_22-00-41.csv')\n",
        "df52 = pd.read_csv('./simulation_results/2023-07-18_23-42-45.csv')\n",
        "df53 = pd.read_csv('./simulation_results/2023-07-19_04-59-21.csv')\n",
        "df54 = pd.read_csv('./simulation_results/2023-07-19_08-48-28.csv')\n",
        "df55 = pd.read_csv('./simulation_results/2023-07-19_17-01-57.csv')\n",
        "df56 = pd.read_csv('./simulation_results/2023-07-19_21-26-20.csv')\n",
        "df57 = pd.read_csv('./simulation_results/2023-07-20_06-05-43.csv')\n",
        "df58 = pd.read_csv('./simulation_results/2023-07-20_10-08-26.csv')\n",
        "df59 = pd.read_csv('./simulation_results/2023-07-20_19-15-18.csv')\n",
        "df60 = pd.read_csv('./simulation_results/2023-07-20_22-32-18.csv')\n",
        "df61 = pd.read_csv('./simulation_results/2023-07-21_06-57-23.csv')\n",
        "df62 = pd.read_csv('./simulation_results/2023-07-21_10-56-01.csv')\n",
        "# df63 = pd.read_csv('./simulation_results/2023-06-16_14-18-52.csv')\n",
        "# df64 = pd.read_csv('./simulation_results/2023-06-16_18-21-01.csv')\n",
        "# df65 = pd.read_csv('./simulation_results/2023-06-17_02-04-16.csv')\n",
        "# df66 = pd.read_csv('./simulation_results/2023-06-17_12-31-27.csv')\n",
        "# df67 = pd.read_csv('./simulation_results/2023-06-17_19-20-19.csv')\n",
        "# df68 = pd.read_csv('./simulation_results/2023-06-18_02-32-26.csv') # 확인 후 block 만 넣기!\n",
        "# df69 = pd.read_csv('./simulation_results/2023-06-18_12-20-16.csv')\n",
        "# df70 = pd.read_csv('./simulation_results/2023-06-18_22-03-52.csv')\n",
        "# df71 = pd.read_csv('./simulation_results/2023-06-19_07-54-07.csv')\n",
        "# df72 = pd.read_csv('./simulation_results/2023-06-19_17-32-15.csv')\n",
        "# df73 = pd.read_csv('./simulation_results/2023-06-20_02-27-48.csv')\n",
        "# df74 = pd.read_csv('./simulation_results/2023-06-20_11-25-00.csv')\n",
        "# df75 = pd.read_csv('./simulation_results/2023-06-21_08-22-10.csv')\n",
        "# df76 = pd.read_csv('./simulation_results/2023-06-21_18-02-06.csv')\n",
        "# df77 = pd.read_csv('./simulation_results/2023-06-22_03-53-20.csv')\n",
        "# df78 = pd.read_csv('./simulation_results/2023-06-22_14-30-51.csv')\n",
        "# df79 = pd.read_csv('./simulation_results/2023-06-22_23-58-03.csv')\n",
        "# df80 = pd.read_csv('./simulation_results/2023-06-23_07-50-27.csv')\n",
        "# df81 = pd.read_csv('./simulation_results/2023-06-23_15-44-00.csv')\n",
        "# df82 = pd.read_csv('./simulation_results/2023-06-24_00-32-09.csv')\n",
        "# df83 = pd.read_csv('./simulation_results/2023-06-24_10-30-38.csv')\n",
        "# df84 = pd.read_csv('./simulation_results/2023-06-24_20-29-14.csv')\n",
        "# df85 = pd.read_csv('./simulation_results/2023-06-25_06-26-42.csv')\n",
        "# df86 = pd.read_csv('./simulation_results/2023-06-25_16-24-38.csv')\n",
        "# df87 = pd.read_csv('./simulation_results/2023-06-26_02-35-43.csv')\n",
        "# df88 = pd.read_csv('./simulation_results/2023-06-26_23-22-25.csv')\n",
        "# df89 = pd.read_csv('./simulation_results/2023-06-26_13-18-29.csv')\n",
        "# df90 = pd.read_csv('./simulation_results/2023-06-26_23-22-25.csv')"
      ],
      "id": "1249cf1d-2a08-4006-ae3e-0416dec0abcc"
    },
    {
      "cell_type": "code",
      "execution_count": 113,
      "metadata": {},
      "outputs": [],
      "source": [
        "data = pd.concat([df1,df2,df3,df4,df5,df6,df7,df8,df9,df10,df11,df12,df13,df14,df15,df16,df17,\n",
        "                 df18,df19,df20,df21,df22,df23,df24,df25,df26,df27,df28,df29,df30,df31,df32,df33,df34,\n",
        "                 df35,df36,df37,df38,df39,df40,df41,df42,df43,df44,df45,df46,df47,df48,df49,df50,\n",
        "                 df51, df52, df53,df54,df55,df56,df57,df58,df59,df60,df61,df62],axis=0)"
      ],
      "id": "38435777-ce18-45c6-907e-e17bc00f6ae7"
    },
    {
      "cell_type": "code",
      "execution_count": 114,
      "metadata": {},
      "outputs": [],
      "source": [
        "data.to_csv('./simulation_results/Real_simulation_reshape/GCLSTM_windmillsmall.csv',index=False)"
      ],
      "id": "9870282b-662e-428f-b85e-00a02df831a5"
    },
    {
      "cell_type": "code",
      "execution_count": 115,
      "metadata": {},
      "outputs": [],
      "source": [
        "data = pd.read_csv('./simulation_results/Real_simulation_reshape/GCLSTM_windmillsmall.csv')"
      ],
      "id": "a373a3d6-84d3-4644-bfb7-075b29b3d96d"
    },
    {
      "cell_type": "markdown",
      "metadata": {},
      "source": [
        "## Baseline"
      ],
      "id": "22ca5dad-2e52-41e4-8ba2-479892dab8e1"
    },
    {
      "cell_type": "code",
      "execution_count": 116,
      "metadata": {},
      "outputs": [],
      "source": [
        "data.query(\"method!='GNAR' and mrate ==0 \").plot.box(backend='plotly',x='mrate',color='method',y='mse',facet_col='lags',height=800)\n"
      ],
      "id": "dd86899b-f540-49d4-9806-9ead21c02b5d"
    },
    {
      "cell_type": "markdown",
      "metadata": {},
      "source": [
        "## random"
      ],
      "id": "c142de8f-a009-4df7-9dee-014ac14a1cc1"
    },
    {
      "cell_type": "code",
      "execution_count": 117,
      "metadata": {},
      "outputs": [],
      "source": [
        "data.query(\"method!='GNAR' and mtype =='rand' \").plot.box(backend='plotly',x='mrate',color='method',y='mse',facet_col='lags',facet_row='inter_method',height=800)\n"
      ],
      "id": "ebe24cac-d497-445c-ab25-bc04324b3662"
    },
    {
      "cell_type": "markdown",
      "metadata": {},
      "source": [
        "## block"
      ],
      "id": "829527c7-fda8-48ce-99f4-b637d46a2a25"
    },
    {
      "cell_type": "code",
      "execution_count": 118,
      "metadata": {},
      "outputs": [],
      "source": [
        "data.query(\"method!='GNAR' and mtype =='block' \").plot.box(backend='plotly',x='mrate',color='method',y='mse',facet_col='lags',facet_row='inter_method',height=800)\n"
      ],
      "id": "822e3c8e-9b80-444c-86a8-d833c4df3067"
    },
    {
      "cell_type": "markdown",
      "metadata": {},
      "source": [
        "# Montevideobus"
      ],
      "id": "a0e3ae4a-502c-426b-ba1e-d36747260328"
    },
    {
      "cell_type": "code",
      "execution_count": 138,
      "metadata": {},
      "outputs": [],
      "source": [
        "# k=1\n",
        "df1 = pd.read_csv('./simulation_results/2023-06-14_00-09-03.csv') # lags 8\n",
        "df2 = pd.read_csv('./simulation_results/2023-06-14_00-09-03.csv') # lags 8\n",
        "df3 = pd.read_csv('./simulation_results/2023-06-14_03-15-40.csv') # lags 8\n",
        "df4 = pd.read_csv('./simulation_results/2023-06-14_06-23-01.csv') # lags 8\n",
        "df5 = pd.read_csv('./simulation_results/2023-06-14_09-31-21.csv') # lags 8\n",
        "df6 = pd.read_csv('./simulation_results/2023-06-14_12-29-12.csv') # lags 8\n",
        "df7 = pd.read_csv('./simulation_results/2023-06-14_15-27-41.csv') # lags 8"
      ],
      "id": "f261b372-4895-4834-9092-8f3a0bed4726"
    },
    {
      "cell_type": "code",
      "execution_count": 139,
      "metadata": {},
      "outputs": [],
      "source": [
        "data = pd.concat([df1,df2,df3,df4,df5,df6,df7],axis=0)"
      ],
      "id": "2b9a8f2b-9315-4b5a-8e67-864da9158dbe"
    },
    {
      "cell_type": "code",
      "execution_count": 140,
      "metadata": {},
      "outputs": [],
      "source": [
        "data.to_csv('./simulation_results/Real_simulation_reshape/GCLSTM_monte.csv',index=False)"
      ],
      "id": "de2db9e2-ac61-4272-b28d-dee7484555d6"
    },
    {
      "cell_type": "code",
      "execution_count": 141,
      "metadata": {},
      "outputs": [],
      "source": [
        "data = pd.read_csv('./simulation_results/Real_simulation_reshape/GCLSTM_monte.csv')"
      ],
      "id": "2f396c40-c9a7-4a80-9508-b2d020d8ccb9"
    },
    {
      "cell_type": "markdown",
      "metadata": {},
      "source": [
        "## Baseline"
      ],
      "id": "bc714763-15be-4308-babf-f6f47bc68754"
    },
    {
      "cell_type": "code",
      "execution_count": 142,
      "metadata": {},
      "outputs": [],
      "source": [
        "data.query(\"mrate==0 and method!='GNAR'\").plot.box(backend='plotly',x='mrate',color='method',y='mse',facet_col='lags',facet_row='nof_filters',height=600)"
      ],
      "id": "3d833da3-a6a5-42cf-bd43-8f7ca07bacda"
    },
    {
      "cell_type": "markdown",
      "metadata": {},
      "source": [
        "## random"
      ],
      "id": "9c9a093c-b503-4714-acf9-401f532c5373"
    },
    {
      "cell_type": "code",
      "execution_count": 143,
      "metadata": {},
      "outputs": [],
      "source": [
        "data.query(\"mtype=='rand' and mrate !=0 and method!='GNAR'\").plot.box(backend='plotly',x='mrate',color='method',y='mse',facet_col='lags',facet_row='inter_method',height=800)\n"
      ],
      "id": "9d1676db-7d02-4f99-b3e2-8712bbc1fad6"
    },
    {
      "cell_type": "markdown",
      "metadata": {},
      "source": [
        "## block"
      ],
      "id": "1f4030f6-bcf8-49d3-804c-ca2c5afbf196"
    },
    {
      "cell_type": "code",
      "execution_count": 144,
      "metadata": {},
      "outputs": [],
      "source": [
        "data.query(\"mtype=='block' and method!='GNAR'\").plot.box(backend='plotly',x='mrate',color='method',y='mse',facet_col='lags',facet_row='nof_filters',height=1200)\n"
      ],
      "id": "d0a2a43b-a7b5-4378-9711-33cf4573598d"
    }
  ],
  "nbformat": 4,
  "nbformat_minor": 5,
  "metadata": {
    "kernelspec": {
      "name": "python3",
      "display_name": "Python 3",
      "language": "python"
    },
    "language_info": {
      "name": "python",
      "codemirror_mode": {
        "name": "ipython",
        "version": "3"
      },
      "file_extension": ".py",
      "mimetype": "text/x-python",
      "nbconvert_exporter": "python",
      "pygments_lexer": "ipython3",
      "version": "3.8.0"
    }
  }
}
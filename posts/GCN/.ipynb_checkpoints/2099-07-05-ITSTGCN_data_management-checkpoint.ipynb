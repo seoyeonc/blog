{
 "cells": [
  {
   "cell_type": "raw",
   "id": "f2b1fb25-32fc-46df-9548-4362e55e5dd1",
   "metadata": {
    "id": "cac470df-29e7-4148-9bbd-d8b9a32fa570",
    "tags": []
   },
   "source": [
    "---\n",
    "title: \"Data management for ITSTGCN\"\n",
    "author: \"SEOYEON CHOI\"\n",
    "date: \"2023-07-05\"\n",
    "categories:\n",
    "  - STGCN\n",
    "---"
   ]
  },
  {
   "cell_type": "markdown",
   "id": "93a64e61-a208-405c-ab80-618bcfde87be",
   "metadata": {},
   "source": [
    "1. 순환형 구조를 가진 모델(Models with recurrent structures):\n",
    "\n",
    "- GConvGRU: 그래프 순환 유닛 (Graph Convolutional Gated Recurrent Unit)\n",
    "- GConvLSTM: 그래프 순환 LSTM (Graph Convolutional Long Short-Term Memory)\n",
    "- GCLSTM: 그래프 순환 LSTM (Graph Convolutional LSTM)\n",
    "- DCRNN: 이중 그래프 순환 신경망 (Dual Graph Convolutional Recurrent Neural Network)\n",
    "\n",
    "2. 그래프 합성곱 모델(Graph convolution models):\n",
    "\n",
    "- LRGCN: 로컬-전역 그래프 합성곱 신경망 (Local-Global Graph Convolutional Network)\n",
    "- TGCN: 전이 그래프 합성곱 신경망 (Transition Graph Convolutional Network)\n",
    "- EvolveGCNO: 진화형 그래프 합성곱 네트워크 (Evolutionary Graph Convolutional Network with Optimization)\n",
    "- EvolveGCNH: 진화형 그래프 합성곱 네트워크 (Evolutionary Graph Convolutional Network with Hypernetwork)\n",
    "\n",
    "3. 동적 값 업데이트를 활용한 모델(Models utilizing dynamic value updates):\n",
    "\n",
    "- DyGrEncoder: 동적 그래프 인코더 (Dynamic Graph Encoder)"
   ]
  },
  {
   "cell_type": "markdown",
   "id": "13fbb0dc-587d-4916-82b3-35caefeb9c28",
   "metadata": {},
   "source": [
    "논문에서 제안하는 방법은 GConvGRU (Chebyshev Graph Convolutional Gated Recurrent Unit Cell)와 GConvLSTM (Graph Convolutional Recurrent Network)이라는 두 가지 모델을 소개합니다. GConvGRU는 그래프 데이터에 대한 시간적인 의존성을 캡처하는데 사용되며, GConvLSTM은 그래프와 시퀀스 데이터를 동시에 처리하는데 활용됩니다.\n",
    "\n",
    "GConvGRU는 Chebyshev 그래프 합성곱과 Gated Recurrent Unit (GRU)을 결합하여 그래프 데이터의 시간적 의존성을 모델링합니다. 이 모델은 그래프 내 노드들 간의 연결과 그래프의 구조를 고려하여 시계열 데이터를 예측하고 분석하는데 유용합니다.\n",
    "\n"
   ]
  },
  {
   "cell_type": "markdown",
   "id": "a799e1d1-98aa-45f7-834e-f88dd5671daf",
   "metadata": {},
   "source": [
    "\"GC-LSTM: 그래프 합성곱 임베딩 LSTM을 이용한 동적 링크 예측\"이라는 논문은 동적인 그래프에서 링크 예측 작업에 그래프 합성곱 네트워크(GCN)와 Long Short-Term Memory(LSTM) 셀을 결합한 새로운 모델을 제안합니다.\n",
    "\n",
    "논문에서는 그래프 구조가 시간에 따라 변화하는 동적인 그래프에서 노드들 사이의 링크 존재 여부를 예측하는 문제를 다룹니다. 기존의 링크 예측 방법들은 동적인 그래프의 변화를 처리하는데 어려움이 있습니다.\n",
    "\n",
    "제안하는 GC-LSTM 모델은 그래프 합성곱을 사용하여 노드의 특징을 임베딩하고 그래프 구조를 파악합니다. 동시에 LSTM 셀을 활용하여 시간적 의존성과 순차적 패턴을 모델링합니다.\n",
    "\n",
    "GC-LSTM 모델은 동적인 그래프 데이터를 시간 순서대로 처리하여 변화하는 그래프 구조를 적절히 반영하고 미래의 링크를 정확하게 예측할 수 있습니다. 실험과 평가를 통해 GC-LSTM 모델이 동적인 링크 예측 작업에서 다른 최신 기법들보다 우수한 성능을 보여주며, 동적인 그래프 구조를 다루는데 유용한 접근 방법임을 입증합니다."
   ]
  },
  {
   "cell_type": "markdown",
   "id": "ea37492a-9c14-4070-bf8a-eddd7218d2ba",
   "metadata": {},
   "source": [
    "- GNAR stationary condition"
   ]
  },
  {
   "cell_type": "code",
   "execution_count": null,
   "id": "6f77e467-f8e3-4130-92da-fbcae6e83fbb",
   "metadata": {},
   "outputs": [],
   "source": [
    "import itstgcn\n",
    "import torch\n",
    "import pandas as pd\n",
    "\n",
    "import numpy as np\n",
    "import random"
   ]
  },
  {
   "cell_type": "code",
   "execution_count": null,
   "id": "33b95d56-2825-4c8d-88ce-6217dda0aeb6",
   "metadata": {},
   "outputs": [],
   "source": [
    "data_dict = itstgcn.load_data('./data/fivenodes.pkl')\n",
    "loader = itstgcn.DatasetLoader(data_dict)"
   ]
  },
  {
   "cell_type": "code",
   "execution_count": null,
   "id": "96c0ff09-db8a-4dc3-ae1a-672983ccb1e1",
   "metadata": {},
   "outputs": [],
   "source": [
    "dataset = loader.get_dataset(lags=2)"
   ]
  },
  {
   "cell_type": "code",
   "execution_count": null,
   "id": "d85dcd2f-85c4-4afb-bb57-e1c4e0893f6a",
   "metadata": {},
   "outputs": [],
   "source": [
    "sum_result = 0\n",
    "for i in range(5):\n",
    "    sum_result += np.sum(np.array(dataset.targets)[:,i])\n",
    "print(sum_result)"
   ]
  },
  {
   "cell_type": "code",
   "execution_count": null,
   "id": "b96e15cc-02ed-4a6d-b2a2-9bb1b6b6a60e",
   "metadata": {},
   "outputs": [],
   "source": [
    "from torch_geometric_temporal.dataset import ChickenpoxDatasetLoader\n",
    "loader1 = ChickenpoxDatasetLoader()"
   ]
  },
  {
   "cell_type": "code",
   "execution_count": null,
   "id": "7e6f5aea-26e4-4a2e-b58e-a2871cafa33f",
   "metadata": {},
   "outputs": [],
   "source": [
    "dataset1 = loader1.get_dataset(lags=4)"
   ]
  },
  {
   "cell_type": "code",
   "execution_count": null,
   "id": "de2408f4-9def-4ec1-a8cb-c0482732d969",
   "metadata": {},
   "outputs": [],
   "source": [
    "sum_result = 0\n",
    "for i in range(20):\n",
    "    sum_result += np.sum(np.array(dataset1.targets)[:,i])\n",
    "print(sum_result)"
   ]
  },
  {
   "cell_type": "code",
   "execution_count": null,
   "id": "b41cddf8-ad18-49d6-850b-1896ea938240",
   "metadata": {},
   "outputs": [],
   "source": [
    "from torch_geometric_temporal.dataset import PedalMeDatasetLoader\n",
    "loader2 = PedalMeDatasetLoader()"
   ]
  },
  {
   "cell_type": "code",
   "execution_count": null,
   "id": "9a506520-0f01-4963-9848-7df8057160b7",
   "metadata": {},
   "outputs": [],
   "source": [
    "dataset2 = loader2.get_dataset(lags=4)"
   ]
  },
  {
   "cell_type": "code",
   "execution_count": null,
   "id": "ff3716ec-2794-4807-919c-38a16be71242",
   "metadata": {},
   "outputs": [],
   "source": [
    "sum_result = 0\n",
    "for i in range(15):\n",
    "    sum_result += np.sum(np.array(dataset2.targets)[:,i])\n",
    "print(sum_result)"
   ]
  },
  {
   "cell_type": "code",
   "execution_count": null,
   "id": "6d63c081-80fd-4bde-8b92-a4194ceda622",
   "metadata": {},
   "outputs": [],
   "source": [
    "from torch_geometric_temporal.dataset import WikiMathsDatasetLoader\n",
    "loader3 = WikiMathsDatasetLoader()"
   ]
  },
  {
   "cell_type": "code",
   "execution_count": null,
   "id": "c9fcb692-21fb-4022-8947-614f1d8b8ba9",
   "metadata": {},
   "outputs": [],
   "source": [
    "dataset3 = loader3.get_dataset(lags=8)"
   ]
  },
  {
   "cell_type": "code",
   "execution_count": null,
   "id": "2119ee33-8a49-4c05-9e3a-113f67445225",
   "metadata": {},
   "outputs": [],
   "source": [
    "sum_result = 0\n",
    "for i in range(1068):\n",
    "    sum_result += np.sum(np.array(dataset3.targets)[:,i])\n",
    "print(sum_result)"
   ]
  },
  {
   "cell_type": "code",
   "execution_count": null,
   "id": "e9658972-a8db-410c-b260-3de9fa5ed844",
   "metadata": {},
   "outputs": [],
   "source": [
    "loader6 = itstgcn.load_data('./data/Windmillsmall.pkl')"
   ]
  },
  {
   "cell_type": "code",
   "execution_count": null,
   "id": "d00e2b0f-425b-4daa-b890-63c72e69eed5",
   "metadata": {},
   "outputs": [],
   "source": [
    "dataset6 = loader6.get_dataset(lags=8)"
   ]
  },
  {
   "cell_type": "code",
   "execution_count": null,
   "id": "75070abb-5103-443b-bb53-d73731e63dc4",
   "metadata": {},
   "outputs": [],
   "source": [
    "sum_result = 0\n",
    "for i in range(11):\n",
    "    sum_result += np.sum(np.array(dataset6.targets)[:,i])\n",
    "print(sum_result)"
   ]
  },
  {
   "cell_type": "code",
   "execution_count": null,
   "id": "2447f9ce-9f8e-41ed-954a-1a9c6990a55c",
   "metadata": {},
   "outputs": [],
   "source": [
    "from torch_geometric_temporal.dataset import MontevideoBusDatasetLoader\n",
    "loader10 = MontevideoBusDatasetLoader()"
   ]
  },
  {
   "cell_type": "code",
   "execution_count": null,
   "id": "18352602-0aa8-46d7-aa60-0a1d539bf846",
   "metadata": {},
   "outputs": [],
   "source": [
    "dataset10 = loader10.get_dataset(lags=8)"
   ]
  },
  {
   "cell_type": "code",
   "execution_count": null,
   "id": "c8909f3b-588b-46ee-b16d-538fdc40842b",
   "metadata": {},
   "outputs": [],
   "source": [
    "sum_result = 0\n",
    "for i in range(675):\n",
    "    sum_result += np.sum(np.array(dataset10.targets)[:,i])\n",
    "print(sum_result)"
   ]
  },
  {
   "cell_type": "markdown",
   "id": "21ab9dcc-9234-4d43-85c8-e48bfd67d10f",
   "metadata": {},
   "source": [
    "# Import"
   ]
  },
  {
   "cell_type": "code",
   "execution_count": null,
   "id": "e1dd60fc-63a5-4ccd-a392-f5c326f33c74",
   "metadata": {},
   "outputs": [],
   "source": [
    "import pandas as pd\n",
    "import matplotlib.pyplot as plt"
   ]
  },
  {
   "cell_type": "markdown",
   "id": "e1149678-98f7-4ae2-b566-eb14c147f2af",
   "metadata": {},
   "source": [
    "- GConvGRU"
   ]
  },
  {
   "cell_type": "code",
   "execution_count": null,
   "id": "4726eed2-1342-485b-8003-7c88187a71ef",
   "metadata": {},
   "outputs": [],
   "source": [
    "df_GConvGRU = pd.read_csv('./simulation_results/Real_simulation_reshape/Final_Simulation_GConvGRU.csv')\n",
    "\n",
    "pedal_wiki_GSO_GConvGRU = pd.read_csv('./simulation_results/Real_simulation_reshape/Final_Simulation_GConvGRU_pedal_wiki_GSO.csv')"
   ]
  },
  {
   "cell_type": "code",
   "execution_count": null,
   "id": "2a1b0373-c02f-4f4b-8985-ebe0b7145200",
   "metadata": {},
   "outputs": [],
   "source": [
    "df_GConvGRU['model']='GConvGRU'\n",
    "pedal_wiki_GSO_GConvGRU['model']='GConvGRU'"
   ]
  },
  {
   "cell_type": "code",
   "execution_count": null,
   "id": "0c9d2960-e0da-4391-ab31-6f890e8a541e",
   "metadata": {},
   "outputs": [],
   "source": [
    "df_GConvGRU['dataset'].unique()"
   ]
  },
  {
   "cell_type": "markdown",
   "id": "901c27fd-4469-4613-95f8-2dcc03d032e0",
   "metadata": {
    "tags": []
   },
   "source": [
    "- GConvLSTM"
   ]
  },
  {
   "cell_type": "code",
   "execution_count": null,
   "id": "51a9d354-e711-44aa-9ee8-702278245caa",
   "metadata": {},
   "outputs": [],
   "source": [
    "df_GConvLSTM = pd.read_csv('./simulation_results/Real_simulation_reshape/Final_Simulation_GConvLSTM.csv')\n",
    "\n",
    "pedal_wiki_GSO_GConvLSTM = pd.read_csv('./simulation_results/Real_simulation_reshape/Final_Simulation_GConvLSTM_pedal_wiki_GSO.csv')"
   ]
  },
  {
   "cell_type": "code",
   "execution_count": null,
   "id": "06a3fd31-a10b-446c-8b09-c0d7d27ffe86",
   "metadata": {},
   "outputs": [],
   "source": [
    "df_GConvLSTM['model']='GConvLSTM'\n",
    "pedal_wiki_GSO_GConvLSTM['model']='GConvLSTM'"
   ]
  },
  {
   "cell_type": "code",
   "execution_count": null,
   "id": "82e3c675-abfc-4857-9885-085d2b3c20db",
   "metadata": {},
   "outputs": [],
   "source": [
    "df_GConvLSTM['dataset'].unique()"
   ]
  },
  {
   "cell_type": "markdown",
   "id": "543ee827-a50f-4250-9544-a73b8a214e10",
   "metadata": {
    "tags": []
   },
   "source": [
    "- GCLSTM"
   ]
  },
  {
   "cell_type": "code",
   "execution_count": null,
   "id": "a9a624c4-c8ec-4aad-b687-b70a9b0714b3",
   "metadata": {},
   "outputs": [],
   "source": [
    "df_GCLSTM = pd.read_csv('./simulation_results/Real_simulation_reshape/Final_Simulation_GCLSTM.csv')\n",
    "\n",
    "pedal_wiki_GSO_GCLSTM = pd.read_csv('./simulation_results/Real_simulation_reshape/Final_Simulation_GCLSTM_pedal_wiki_GSO.csv')"
   ]
  },
  {
   "cell_type": "code",
   "execution_count": null,
   "id": "b3d0528c-42d1-47bc-8fd7-611504b5c677",
   "metadata": {},
   "outputs": [],
   "source": [
    "df_GCLSTM['model']='GCLSTM'\n",
    "pedal_wiki_GSO_GCLSTM['model']='GCLSTM'"
   ]
  },
  {
   "cell_type": "code",
   "execution_count": null,
   "id": "2b027b70-288e-4b33-9c34-ac73ed2f24c9",
   "metadata": {},
   "outputs": [],
   "source": [
    "df_GCLSTM['dataset'].unique()"
   ]
  },
  {
   "cell_type": "markdown",
   "id": "d2878f60-cf62-4fc7-b403-f6c1ff6db24c",
   "metadata": {
    "tags": []
   },
   "source": [
    "- DCRNN"
   ]
  },
  {
   "cell_type": "code",
   "execution_count": null,
   "id": "e8620f1f-9e63-4c6d-9457-b5f089b58a59",
   "metadata": {},
   "outputs": [],
   "source": [
    "df_DCRNN = pd.read_csv('./simulation_results/Real_simulation_reshape/Final_Simulation_DCRNN.csv')\n",
    "\n",
    "pedal_wiki_GSO_DCRNN = pd.read_csv('./simulation_results/Real_simulation_reshape/Final_Simulation_DCRNN_pedal_wiki_GSO.csv')"
   ]
  },
  {
   "cell_type": "code",
   "execution_count": null,
   "id": "51b9878f-8c86-4f7f-9c95-d55c8842569a",
   "metadata": {},
   "outputs": [],
   "source": [
    "df_DCRNN['model']='DCRNN'\n",
    "pedal_wiki_GSO_DCRNN['model']='DCRNN'"
   ]
  },
  {
   "cell_type": "markdown",
   "id": "7265cd49-fa2e-4138-a876-1d6d2c69c658",
   "metadata": {
    "tags": []
   },
   "source": [
    "- LRGCN"
   ]
  },
  {
   "cell_type": "code",
   "execution_count": null,
   "id": "a50510a8-f2fb-4b2c-9c6e-f4419592dc76",
   "metadata": {},
   "outputs": [],
   "source": [
    "df_LRGCN = pd.read_csv('./simulation_results/Real_simulation_reshape/Final_Simulation_LRGCN.csv')\n",
    "\n",
    "pedal_wiki_GSO_LRGCN = pd.read_csv('./simulation_results/Real_simulation_reshape/Final_Simulation_LRGCN_pedal_wiki_GSO.csv')"
   ]
  },
  {
   "cell_type": "code",
   "execution_count": null,
   "id": "3a21624f-253c-4ca2-8803-1fe6163084e3",
   "metadata": {},
   "outputs": [],
   "source": [
    "df_LRGCN['model']='LRGCN'\n",
    "pedal_wiki_GSO_LRGCN['model']='LRGCN'"
   ]
  },
  {
   "cell_type": "markdown",
   "id": "32985206-bfef-4c10-9d77-151538e76589",
   "metadata": {
    "tags": []
   },
   "source": [
    "- TGCN"
   ]
  },
  {
   "cell_type": "code",
   "execution_count": null,
   "id": "0e38f217-8dbd-49f9-b46f-d7739f42b59a",
   "metadata": {},
   "outputs": [],
   "source": [
    "df_TGCN = pd.read_csv('./simulation_results/Real_simulation_reshape/Final_Simulation_TGCN.csv')\n",
    "\n",
    "pedal_wiki_GSO_TGCN = pd.read_csv('./simulation_results/Real_simulation_reshape/Final_Simulation_TGCN_pedal_wiki_GSO.csv')"
   ]
  },
  {
   "cell_type": "code",
   "execution_count": null,
   "id": "28cb7276-43e7-4ef8-90a2-ebd8d1512fc9",
   "metadata": {},
   "outputs": [],
   "source": [
    "df_TGCN['model']='TGCN'\n",
    "pedal_wiki_GSO_TGCN['model']='TGCN'"
   ]
  },
  {
   "cell_type": "markdown",
   "id": "c995ac43-4d52-4a00-a41b-26b3cef05cc2",
   "metadata": {
    "tags": []
   },
   "source": [
    "- EvolveGCNO"
   ]
  },
  {
   "cell_type": "code",
   "execution_count": null,
   "id": "439ff32a-47fd-4ca8-87c1-55d9e6696a08",
   "metadata": {},
   "outputs": [],
   "source": [
    "df_EvolveGCNO = pd.read_csv('./simulation_results/Real_simulation_reshape/Final_Simulation_EvolveGCNO.csv')\n",
    "\n",
    "pedal_wiki_GSO_EvolveGCNO = pd.read_csv('./simulation_results/Real_simulation_reshape/Final_Simulation_EvolveGCNO_pedal_wiki_GSO.csv')"
   ]
  },
  {
   "cell_type": "code",
   "execution_count": null,
   "id": "aa73fba2-37ee-480d-a892-e3caea0c065f",
   "metadata": {},
   "outputs": [],
   "source": [
    "df_EvolveGCNO['model']='EvolveGCNO'\n",
    "pedal_wiki_GSO_EvolveGCNO['model']='EvolveGCNO'"
   ]
  },
  {
   "cell_type": "markdown",
   "id": "407f6458-e353-4002-942b-1d9f09881b08",
   "metadata": {
    "tags": []
   },
   "source": [
    "- DYGRENCODER"
   ]
  },
  {
   "cell_type": "code",
   "execution_count": null,
   "id": "1030567b-e788-4d55-92ad-f8b41af1dac7",
   "metadata": {},
   "outputs": [],
   "source": [
    "df_DYGRENCODER = pd.read_csv('./simulation_results/Real_simulation_reshape/Final_Simulation_DYGRENCODER.csv')\n",
    "\n",
    "pedal_wiki_GSO_DYGRENCODER = pd.read_csv('./simulation_results/Real_simulation_reshape/Final_Simulation_DYGRENCODER_pedal_wiki_GSO.csv')"
   ]
  },
  {
   "cell_type": "code",
   "execution_count": null,
   "id": "488f2863-c0f0-4158-82a3-503d162e317c",
   "metadata": {},
   "outputs": [],
   "source": [
    "df_DYGRENCODER['model']='DyGrEncoder'\n",
    "pedal_wiki_GSO_DYGRENCODER['model']='DyGrEncoder'"
   ]
  },
  {
   "cell_type": "markdown",
   "id": "1ee99ce5-95f2-454f-ab22-7d45fcd16d7d",
   "metadata": {
    "tags": []
   },
   "source": [
    "- EvolveGCNH"
   ]
  },
  {
   "cell_type": "code",
   "execution_count": null,
   "id": "790411bd-dc67-4599-ac46-dac4c4c7b646",
   "metadata": {},
   "outputs": [],
   "source": [
    "df_EvolveGCNH = pd.read_csv('./simulation_results/Real_simulation_reshape/Final_Simulation_EvolveGCNH.csv')\n",
    "\n",
    "pedal_wiki_GSO_EvolveGCNH = pd.read_csv('./simulation_results/Real_simulation_reshape/Final_Simulation_EvolveGCNH_pedal_wiki_GSO.csv')"
   ]
  },
  {
   "cell_type": "code",
   "execution_count": null,
   "id": "1fba96de-62b3-45cd-917e-274d83433bf4",
   "metadata": {},
   "outputs": [],
   "source": [
    "df_EvolveGCNH['model']='EvolveGCNH'\n",
    "pedal_wiki_GSO_EvolveGCNH['model']='EvolveGCNH'"
   ]
  },
  {
   "cell_type": "markdown",
   "id": "03c2d1d7-9366-45db-a113-917f70f888ce",
   "metadata": {},
   "source": [
    "- GNAR"
   ]
  },
  {
   "cell_type": "code",
   "execution_count": null,
   "id": "d50dbbb4-046a-4294-9a34-dd89c3a0725a",
   "metadata": {},
   "outputs": [],
   "source": [
    "df_GNAR = pd.read_csv('./simulation_results/Real_simulation_reshape/Final_Simulation_GNAR.csv')\n",
    "\n",
    "wiki_GSO_GNAR = pd.read_csv('./simulation_results/Real_simulation_reshape/Final_Simulation_GNAR_wiki_GSO.csv')"
   ]
  },
  {
   "cell_type": "code",
   "execution_count": null,
   "id": "41279823-fcb1-496d-abb8-a71087a9c6e3",
   "metadata": {},
   "outputs": [],
   "source": [
    "df_GNAR['model']='GNAR'\n",
    "wiki_GSO_GNAR['model']='GNAR'"
   ]
  },
  {
   "cell_type": "markdown",
   "id": "6a64c85a-7e19-4fb8-8998-b932f1080079",
   "metadata": {},
   "source": [
    "- all"
   ]
  },
  {
   "cell_type": "code",
   "execution_count": null,
   "id": "8ee6adb8-8949-4aca-bf72-b2645f049444",
   "metadata": {},
   "outputs": [],
   "source": [
    "df = pd.concat([df_GConvGRU, df_GConvLSTM, df_GCLSTM, df_DCRNN, df_LRGCN, df_TGCN, df_EvolveGCNO, df_DYGRENCODER, df_EvolveGCNH,df_GNAR]).reset_index().iloc[:,1:]"
   ]
  },
  {
   "cell_type": "code",
   "execution_count": null,
   "id": "f65cee82-42b0-4171-93b9-b952d50a0d2f",
   "metadata": {},
   "outputs": [],
   "source": [
    "df"
   ]
  },
  {
   "cell_type": "code",
   "execution_count": null,
   "id": "b3d2fc87-6305-40d1-be21-7c91ee7fdc01",
   "metadata": {},
   "outputs": [],
   "source": [
    "df.to_csv('./df_fig.csv')"
   ]
  },
  {
   "cell_type": "code",
   "execution_count": null,
   "id": "4e638c5b-e794-42f4-821c-d5d5234ed84a",
   "metadata": {},
   "outputs": [],
   "source": [
    "df2 = pd.concat([pedal_wiki_GSO_GConvGRU,pedal_wiki_GSO_GConvLSTM,pedal_wiki_GSO_GCLSTM,pedal_wiki_GSO_DCRNN,pedal_wiki_GSO_LRGCN,pedal_wiki_GSO_TGCN,pedal_wiki_GSO_EvolveGCNO,pedal_wiki_GSO_DYGRENCODER,pedal_wiki_GSO_EvolveGCNH,wiki_GSO_GNAR])"
   ]
  },
  {
   "cell_type": "code",
   "execution_count": null,
   "id": "98c510a5-9e8c-4d41-b4ff-506da2379b51",
   "metadata": {},
   "outputs": [],
   "source": [
    "df2"
   ]
  },
  {
   "cell_type": "markdown",
   "id": "a5b862a6-147b-4260-abf2-a7f1ae0ac517",
   "metadata": {},
   "source": [
    "# fivenode"
   ]
  },
  {
   "cell_type": "markdown",
   "id": "8784782b-65e1-48a0-a77e-a595c87c529a",
   "metadata": {},
   "source": [
    "## Baseline"
   ]
  },
  {
   "cell_type": "code",
   "execution_count": null,
   "id": "22c48059-5634-4d07-a2ef-7515594f9cb2",
   "metadata": {},
   "outputs": [],
   "source": [
    "df.query(\"model=='GNAR' and dataset=='fivenodes'\")"
   ]
  },
  {
   "cell_type": "code",
   "execution_count": null,
   "id": "e66ea411-b879-4b0e-90fe-9d627988a989",
   "metadata": {},
   "outputs": [],
   "source": [
    "pd.merge(df.query(\"dataset=='fivenodes' and mtype!='rand' and mtype!='block'\").groupby(['model','nof_filters','lags','epoch'])['mse'].mean().reset_index(),\n",
    "         df.query(\"dataset=='fivenodes' and mtype!='rand' and mtype!='block'\").groupby(['model','nof_filters','lags','epoch'])['mse'].std().reset_index(),\n",
    "         on=['model','nof_filters','lags','epoch']).rename(columns={'mse_x':'mean','mse_y':'std'}).round(3)"
   ]
  },
  {
   "cell_type": "markdown",
   "id": "24fcd940-a7ea-4ed1-a254-27897ba40b98",
   "metadata": {},
   "source": [
    "## Random"
   ]
  },
  {
   "cell_type": "markdown",
   "id": "536009e0-24fa-4596-9393-19d29bec111d",
   "metadata": {},
   "source": [
    "https://matplotlib.org/stable/gallery/statistics/boxplot.html#sphx-glr-gallery-statistics-boxplot-py"
   ]
  },
  {
   "cell_type": "code",
   "execution_count": null,
   "id": "b5cd79b0-883a-435a-b57c-f1d211357022",
   "metadata": {},
   "outputs": [],
   "source": [
    "# with plt.style.context('cyberpunk'):\n",
    "#     plt.rcParams['figure.figsize'] = [40,20]\n",
    "fig, ax = plt.subplots(3, 3,figsize=(40,20))\n",
    "\n",
    "df.query(\"dataset=='fivenodes' and mtype=='rand' and inter_method == 'linear' and nof_filters==12 and lags==2 and epoch==50 and model=='GConvGRU' and mrate in [0.3  , 0.5  , 0.6 ,0.7  , 0.8]\").\\\n",
    "iloc[:,[1,2,8,10]].boxplot(by=['model','mrate','method'],ax=ax[0,0],grid=False,widths=0.5)\n",
    "ax[0,0].set_title('GConvGRU')\n",
    "\n",
    "df.query(\"dataset=='fivenodes' and mtype=='rand' and inter_method == 'linear' and nof_filters==12 and lags==2 and epoch==50 and model=='GConvLSTM' and mrate in [0.3  , 0.5  , 0.6 ,0.7  , 0.8]\").\\\n",
    "iloc[:,[1,2,8,10]].boxplot(by=['model','mrate','method'],ax=ax[0,1],grid=False,widths=0.5)\n",
    "ax[0,1].set_title('GConvLSTM')\n",
    "\n",
    "df.query(\"dataset=='fivenodes' and mtype=='rand' and inter_method == 'linear' and nof_filters==4 and lags==2 and epoch==50 and model=='GCLSTM' and mrate in [0.3  , 0.5  , 0.6 ,0.7  , 0.8]\").\\\n",
    "iloc[:,[1,2,8,10]].boxplot(by=['model','mrate','method'],ax=ax[0,2],grid=False,widths=0.5)\n",
    "ax[0,2].set_title('GCLSTM')\n",
    "\n",
    "df.query(\"dataset=='fivenodes' and mtype=='rand' and inter_method == 'linear' and nof_filters==4 and lags==2 and epoch==50 and model=='LRGCN' and mrate in [0.3  , 0.5  , 0.6 ,0.7  , 0.8]\").\\\n",
    "iloc[:,[1,2,8,10]].boxplot(by=['model','mrate','method'],ax=ax[1,0],grid=False,widths=0.5)\n",
    "ax[1,0].set_title('LRGCN')\n",
    "\n",
    "df.query(\"dataset=='fivenodes' and mtype=='rand' and inter_method == 'linear' and nof_filters==12 and lags==2 and epoch==50 and model=='DyGrEncoder' and mrate in [0.3  , 0.5  , 0.6 ,0.7  , 0.8]\").\\\n",
    "iloc[:,[1,2,8,10]].boxplot(by=['model','mrate','method'],ax=ax[1,1],grid=False,widths=0.5)\n",
    "ax[1,1].set_title('DyGrEncoder')\n",
    "\n",
    "df.query(\"dataset=='fivenodes' and mtype=='rand' and inter_method == 'linear' and lags==2 and epoch==50 and model=='EvolveGCNH' and mrate in [0.3  , 0.5  , 0.6 ,0.7  , 0.8]\").\\\n",
    "iloc[:,[1,2,8,10]].boxplot(by=['model','mrate','method'],ax=ax[1,2],grid=False,widths=0.5)\n",
    "ax[1,2].set_title('EvolveGCNH')\n",
    "\n",
    "df.query(\"dataset=='fivenodes' and mtype=='rand' and inter_method == 'linear' and lags==2 and epoch==50 and model=='EvolveGCNO' and mrate in [0.3  , 0.5  , 0.6 ,0.7  , 0.8]\").\\\n",
    "iloc[:,[1,2,8,10]].boxplot(by=['model','mrate','method'],ax=ax[2,0],grid=False,widths=0.5)\n",
    "ax[2,0].set_title('EvolveGCNO')\n",
    "\n",
    "df.query(\"dataset=='fivenodes' and mtype=='rand' and inter_method == 'linear' and nof_filters==12 and lags==2 and epoch==50 and model=='TGCN' and mrate in [0.3  , 0.5  , 0.6 ,0.7  , 0.8]\").\\\n",
    "iloc[:,[1,2,8,10]].boxplot(by=['model','mrate','method'],ax=ax[2,1],grid=False,widths=0.5)\n",
    "ax[2,1].set_title('TGCN')\n",
    "\n",
    "df.query(\"dataset=='fivenodes' and mtype=='rand' and inter_method == 'linear' and nof_filters==2 and lags==2 and epoch==50 and model=='DCRNN' and mrate in [0.3  , 0.5  , 0.6 ,0.7  , 0.8]\").\\\n",
    "iloc[:,[1,2,8,10]].boxplot(by=['model','mrate','method'],ax=ax[2,2],grid=False,widths=0.5)\n",
    "ax[2,2].set_title('DCRNN')\n",
    "\n",
    "\n",
    "for ax in ax.flat:\n",
    "    ax.set_yticklabels([])\n",
    "    ax.set_yscale('log')\n",
    "    ax.axvline(x=2.5, color='black', linestyle='-')\n",
    "    ax.axvline(x=4.5, color='black', linestyle='-')\n",
    "    ax.axvline(x=6.5, color='black', linestyle='-')\n",
    "    ax.axvline(x=8.5, color='black', linestyle='-')\n",
    "    ax.set_xticklabels(['IT-TGNN','TGNN','IT-TGNN','TGNN','IT-TGNN','TGNN','IT-TGNN','TGNN','IT-TGNN','TGNN'])\n",
    "    ax.set_xlabel('')\n",
    "    ax.set_ylabel('')\n",
    "    \n",
    "fig.suptitle('',fontsize=40)"
   ]
  },
  {
   "cell_type": "code",
   "execution_count": null,
   "id": "d300b6bd-55a9-48ba-9165-36d8fe58ddc9",
   "metadata": {},
   "outputs": [],
   "source": [
    "pd.merge(df.query(\"dataset=='fivenodes' and mtype=='rand'\").groupby(['model','mrate','nof_filters','inter_method','method','lags','epoch'])['mse'].mean().reset_index(),\n",
    "         df.query(\"dataset=='fivenodes' and mtype=='rand'\").groupby(['model','mrate','nof_filters','inter_method','method','lags','epoch'])['mse'].std().reset_index(),\n",
    "         on=['model','inter_method','method','nof_filters','mrate','lags','epoch']).rename(columns={'mse_x':'mean','mse_y':'std'}).round(3).query(\"mrate==0.7 and inter_method=='linear'\")"
   ]
  },
  {
   "cell_type": "code",
   "execution_count": null,
   "id": "0146e94e-1cd8-4bcd-b17d-51d775be63b9",
   "metadata": {},
   "outputs": [],
   "source": [
    "pd.merge(df.query(\"dataset=='fivenodes' and mtype=='rand'\").groupby(['model','mrate','nof_filters','inter_method','method','lags','epoch'])['mse'].mean().reset_index(),\n",
    "         df.query(\"dataset=='fivenodes' and mtype=='rand'\").groupby(['model','mrate','nof_filters','inter_method','method','lags','epoch'])['mse'].std().reset_index(),\n",
    "         on=['model','inter_method','method','nof_filters','mrate','lags','epoch']).rename(columns={'mse_x':'mean','mse_y':'std'}).round(3).query(\"mrate==0.8\")"
   ]
  },
  {
   "cell_type": "markdown",
   "id": "1d901f7d-a2b8-402a-9a30-a576d2f5769b",
   "metadata": {},
   "source": [
    "## Block"
   ]
  },
  {
   "cell_type": "code",
   "execution_count": null,
   "id": "aabbbb15-1721-4815-8b34-bb9798cdea6f",
   "metadata": {},
   "outputs": [],
   "source": [
    "pd.merge(df.query(\"dataset=='fivenodes' and mtype=='block'\").groupby(['model','mrate','nof_filters','inter_method','method','epoch'])['mse'].mean().reset_index(),\n",
    "         df.query(\"dataset=='fivenodes' and mtype=='block'\").groupby(['model','mrate','nof_filters','inter_method','method','epoch'])['mse'].std().reset_index(),\n",
    "         on=['model','inter_method','method','nof_filters','mrate','epoch']).rename(columns={'mse_x':'mean','mse_y':'std'}).round(3)"
   ]
  },
  {
   "cell_type": "code",
   "execution_count": null,
   "id": "6b3ef616-34a4-4ba7-a863-2e7c0e393505",
   "metadata": {},
   "outputs": [],
   "source": [
    "pd.merge(df.query(\"dataset=='fivenodes' and mtype=='block'\").groupby(['model','mrate','nof_filters','inter_method','method','epoch'])['mse'].mean().reset_index(),\n",
    "         df.query(\"dataset=='fivenodes' and mtype=='block'\").groupby(['model','mrate','nof_filters','inter_method','method','epoch'])['mse'].std().reset_index(),\n",
    "         on=['model','inter_method','method','nof_filters','mrate','epoch']).rename(columns={'mse_x':'mean','mse_y':'std'}).round(3).query(\"inter_method=='linear'\")"
   ]
  },
  {
   "cell_type": "markdown",
   "id": "ab68657d-218a-46be-bb53-3384f853a4b6",
   "metadata": {},
   "source": [
    "# ChickenpoxDatasetLoader(lags=4)"
   ]
  },
  {
   "cell_type": "code",
   "execution_count": null,
   "id": "42985a95-cbd0-4ddb-a024-5371d5c1bdd6",
   "metadata": {},
   "outputs": [],
   "source": [
    "df.query(\"model=='GNAR' and dataset=='chickenpox'\")"
   ]
  },
  {
   "cell_type": "markdown",
   "id": "d9968777-c8a4-40e1-a829-4c59a7212247",
   "metadata": {},
   "source": [
    "## Baseline"
   ]
  },
  {
   "cell_type": "code",
   "execution_count": null,
   "id": "a4a5c58b-34ee-441c-a72f-2e531f4c69a1",
   "metadata": {},
   "outputs": [],
   "source": [
    "pd.merge(df.query(\"dataset=='chickenpox' and mtype!='rand' and mtype!='block'\").groupby(['model','nof_filters'])['mse'].mean().reset_index(),\n",
    "         df.query(\"dataset=='chickenpox' and mtype!='rand' and mtype!='block'\").groupby(['model','nof_filters'])['mse'].std().reset_index(),\n",
    "         on=['model','nof_filters']).rename(columns={'mse_x':'mean','mse_y':'std'}).round(3)"
   ]
  },
  {
   "cell_type": "markdown",
   "id": "88f1d0cf-53ba-4835-8924-73a5c4cd2c45",
   "metadata": {},
   "source": [
    "## Random"
   ]
  },
  {
   "cell_type": "code",
   "execution_count": null,
   "id": "633d09b1-d233-4cea-86b2-0476cb28b6d3",
   "metadata": {},
   "outputs": [],
   "source": [
    "fig, ax = plt.subplots(3, 3,figsize=(40,20))\n",
    "\n",
    "df.query(\"dataset=='chickenpox' and mtype=='rand' and inter_method == 'linear' and nof_filters==16 and lags==4 and epoch==50 and model=='GConvGRU' and mrate in [ 0.3   , 0.5   ,   0.6  , 0.8 ]\").\\\n",
    "iloc[:,[1,2,8,10]].boxplot(by=['model','mrate','method'],ax=ax[0,0],grid=False,widths=0.5)\n",
    "ax[0,0].set_title('GConvGRU')\n",
    "\n",
    "df.query(\"dataset=='chickenpox' and mtype=='rand' and inter_method == 'linear' and nof_filters==32 and lags==4 and epoch==50 and model=='GConvLSTM' and mrate in [ 0.3   , 0.5   ,   0.6  , 0.8 ]\").\\\n",
    "iloc[:,[1,2,8,10]].boxplot(by=['model','mrate','method'],ax=ax[0,1],grid=False,widths=0.5)\n",
    "ax[0,1].set_title('GConvLSTM')\n",
    "\n",
    "df.query(\"dataset=='chickenpox' and mtype=='rand' and inter_method == 'linear' and nof_filters==16 and lags==4 and epoch==50 and model=='GCLSTM' and mrate in [ 0.3   , 0.5   ,   0.6  , 0.8 ]\").\\\n",
    "iloc[:,[1,2,8,10]].boxplot(by=['model','mrate','method'],ax=ax[0,2],grid=False,widths=0.5)\n",
    "ax[0,2].set_title('GCLSTM')\n",
    "\n",
    "df.query(\"dataset=='chickenpox' and mtype=='rand' and inter_method == 'linear' and nof_filters==8 and lags==4 and epoch==50 and model=='LRGCN' and mrate in [ 0.3   , 0.5   ,   0.6  , 0.8 ]\").\\\n",
    "iloc[:,[1,2,8,10]].boxplot(by=['model','mrate','method'],ax=ax[1,0],grid=False,widths=0.5)\n",
    "ax[1,0].set_title('LRGCN')\n",
    "\n",
    "df.query(\"dataset=='chickenpox' and mtype=='rand' and inter_method == 'linear' and nof_filters==12 and lags==4 and epoch==50 and model=='DyGrEncoder' and mrate in [ 0.3   , 0.5   ,   0.6  , 0.8 ]\").\\\n",
    "iloc[:,[1,2,8,10]].boxplot(by=['model','mrate','method'],ax=ax[1,1],grid=False,widths=0.5)\n",
    "ax[1,1].set_title('DyGrEncoder')\n",
    "\n",
    "df.query(\"dataset=='chickenpox' and mtype=='rand' and inter_method == 'linear' and lags==4 and epoch==50 and model=='EvolveGCNH' and mrate in [ 0.3   , 0.5   ,   0.6  , 0.8 ]\").\\\n",
    "iloc[:,[1,2,8,10]].boxplot(by=['model','mrate','method'],ax=ax[1,2],grid=False,widths=0.5)\n",
    "ax[1,2].set_title('EvolveGCNH')\n",
    "\n",
    "df.query(\"dataset=='chickenpox' and mtype=='rand' and inter_method == 'linear' and lags==4 and epoch==50 and model=='EvolveGCNO' and mrate in [ 0.3   , 0.5   ,   0.6  , 0.8 ]\").\\\n",
    "iloc[:,[1,2,8,10]].boxplot(by=['model','mrate','method'],ax=ax[2,0],grid=False,widths=0.5)\n",
    "ax[2,0].set_title('EvolveGCNO')\n",
    "\n",
    "df.query(\"dataset=='chickenpox' and mtype=='rand' and inter_method == 'linear' and nof_filters==12 and lags==4 and epoch==50 and model=='TGCN' and mrate in [ 0.3   , 0.5   ,   0.6  , 0.8 ]\").\\\n",
    "iloc[:,[1,2,8,10]].boxplot(by=['model','mrate','method'],ax=ax[2,1],grid=False,widths=0.5)\n",
    "ax[2,1].set_title('TGCN')\n",
    "\n",
    "df.query(\"dataset=='chickenpox' and mtype=='rand' and inter_method == 'linear' and nof_filters==16 and lags==4 and epoch==50 and model=='DCRNN' and mrate in [ 0.3   , 0.5   ,   0.6  , 0.8 ]\").\\\n",
    "iloc[:,[1,2,8,10]].boxplot(by=['model','mrate','method'],ax=ax[2,2],grid=False,widths=0.5)\n",
    "ax[2,2].set_title('DCRNN')\n",
    "\n",
    "\n",
    "for ax in ax.flat:\n",
    "    ax.set_yticklabels([])\n",
    "    ax.set_yscale('log')\n",
    "    ax.axvline(x=2.5, color='black', linestyle='-')\n",
    "    ax.axvline(x=4.5, color='black', linestyle='-')\n",
    "    ax.axvline(x=6.5, color='black', linestyle='-')\n",
    "    ax.axvline(x=8.5, color='black', linestyle='-')\n",
    "    ax.set_xticklabels(['IT-TGNN','TGNN','IT-TGNN','TGNN','IT-TGNN','TGNN','IT-TGNN','TGNN'])\n",
    "    ax.set_xlabel('')\n",
    "    ax.set_ylabel('')\n",
    "    \n",
    "fig.suptitle('',fontsize=40)"
   ]
  },
  {
   "cell_type": "code",
   "execution_count": null,
   "id": "b2402d63-a68d-41cc-b5be-88edefa8b54f",
   "metadata": {},
   "outputs": [],
   "source": [
    "pd.merge(df.query(\"dataset=='chickenpox' and mtype=='rand'\").groupby(['model','mrate','inter_method','nof_filters','method'])['mse'].mean().reset_index(),\n",
    "         df.query(\"dataset=='chickenpox' and mtype=='rand'\").groupby(['model','mrate','inter_method','nof_filters','method'])['mse'].std().reset_index(),\n",
    "         on=['model','method','inter_method','mrate','nof_filters']).rename(columns={'mse_x':'mean','mse_y':'std'}).round(3).query(\"mrate==0.3\")"
   ]
  },
  {
   "cell_type": "code",
   "execution_count": null,
   "id": "873219c1-b57d-4f33-b25a-92a67a3a4d9b",
   "metadata": {},
   "outputs": [],
   "source": [
    "pd.merge(df.query(\"dataset=='chickenpox' and mtype=='rand'\").groupby(['model','mrate','inter_method','nof_filters','method'])['mse'].mean().reset_index(),\n",
    "         df.query(\"dataset=='chickenpox' and mtype=='rand'\").groupby(['model','mrate','inter_method','nof_filters','method'])['mse'].std().reset_index(),\n",
    "         on=['model','method','inter_method','mrate','nof_filters']).rename(columns={'mse_x':'mean','mse_y':'std'}).round(3).query(\"mrate!=0.3\")"
   ]
  },
  {
   "cell_type": "markdown",
   "id": "88e7a6f3-18ef-469d-9cbb-9476a361faa0",
   "metadata": {},
   "source": [
    "## Block"
   ]
  },
  {
   "cell_type": "code",
   "execution_count": null,
   "id": "39dded5b-426d-41bc-8dc9-9ac943b70b6c",
   "metadata": {},
   "outputs": [],
   "source": [
    "pd.merge(df.query(\"dataset=='chickenpox' and mtype=='block'\").groupby(['model','inter_method','mrate','nof_filters','method'])['mse'].mean().reset_index(),\n",
    "         df.query(\"dataset=='chickenpox' and mtype=='block'\").groupby(['model','inter_method','mrate','nof_filters','method'])['mse'].std().reset_index(),\n",
    "         on=['model','method','inter_method','mrate','nof_filters']).rename(columns={'mse_x':'mean','mse_y':'std'}).round(3)"
   ]
  },
  {
   "cell_type": "code",
   "execution_count": null,
   "id": "0e2f4a24-eabd-4123-a637-ad802de67f32",
   "metadata": {},
   "outputs": [],
   "source": [
    "pd.merge(df.query(\"dataset=='chickenpox' and mtype=='block'\").groupby(['model','inter_method','mrate','nof_filters','method'])['mse'].mean().reset_index(),\n",
    "         df.query(\"dataset=='chickenpox' and mtype=='block'\").groupby(['model','inter_method','mrate','nof_filters','method'])['mse'].std().reset_index(),\n",
    "         on=['model','method','inter_method','mrate','nof_filters']).rename(columns={'mse_x':'mean','mse_y':'std'}).round(3).query(\"inter_method=='linear'\")"
   ]
  },
  {
   "cell_type": "markdown",
   "id": "3e05f745-7412-48cf-b791-70d33229f1a9",
   "metadata": {},
   "source": [
    "# PedalMeDatasetLoader (lags=4)"
   ]
  },
  {
   "cell_type": "code",
   "execution_count": null,
   "id": "42441508-21c9-4aa1-9a52-89736fcece37",
   "metadata": {},
   "outputs": [],
   "source": [
    "df.query(\"model=='GNAR' and dataset=='pedalme'\")"
   ]
  },
  {
   "cell_type": "markdown",
   "id": "6e34a0cd-49bd-4d96-9142-276e2bb01900",
   "metadata": {},
   "source": [
    "## Baseline"
   ]
  },
  {
   "cell_type": "code",
   "execution_count": null,
   "id": "fe8ed661-be44-4c0a-a0ef-8ed6a7834b4f",
   "metadata": {},
   "outputs": [],
   "source": [
    "pd.merge(df.query(\"dataset=='pedalme' and mtype!='rand' and mtype!='block'\").groupby(['model','lags','nof_filters'])['mse'].mean().reset_index(),\n",
    "         df.query(\"dataset=='pedalme' and mtype!='rand' and mtype!='block'\").groupby(['model','lags','nof_filters'])['mse'].std().reset_index(),\n",
    "         on=['model','lags','nof_filters']).rename(columns={'mse_x':'mean','mse_y':'std'}).round(3).query(\"lags==4\")"
   ]
  },
  {
   "cell_type": "markdown",
   "id": "438b5acf-8cef-4972-a312-5d803646e3f0",
   "metadata": {},
   "source": [
    "## Random"
   ]
  },
  {
   "cell_type": "code",
   "execution_count": null,
   "id": "bdf825da-5762-4262-bfa7-65b911585d68",
   "metadata": {},
   "outputs": [],
   "source": [
    "fig, ax = plt.subplots(3, 3,figsize=(40,20))\n",
    "\n",
    "df.query(\"dataset=='pedalme' and mtype=='rand' and inter_method == 'linear' and nof_filters==12 and lags==4 and epoch==50 and model=='GConvGRU' and mrate in [0.3,0.5,0.6,0.8]\").\\\n",
    "iloc[:,[1,2,8,10]].boxplot(by=['model','mrate','method'],ax=ax[0,0],grid=False,widths=0.5)\n",
    "ax[0,0].set_title('GConvGRU')\n",
    "\n",
    "df.query(\"dataset=='pedalme' and mtype=='rand' and inter_method == 'linear' and nof_filters==2 and lags==4 and epoch==50 and model=='GConvLSTM' and mrate in [0.3,0.5,0.6,0.8]\").\\\n",
    "iloc[:,[1,2,8,10]].boxplot(by=['model','mrate','method'],ax=ax[0,1],grid=False,widths=0.5)\n",
    "ax[0,1].set_title('GConvLSTM')\n",
    "\n",
    "df.query(\"dataset=='pedalme' and mtype=='rand' and inter_method == 'linear' and nof_filters==4 and lags==4 and epoch==50 and model=='GCLSTM' and mrate in [0.3,0.5,0.6,0.8]\").\\\n",
    "iloc[:,[1,2,8,10]].boxplot(by=['model','mrate','method'],ax=ax[0,2],grid=False,widths=0.5)\n",
    "ax[0,2].set_title('GCLSTM')\n",
    "\n",
    "df.query(\"dataset=='pedalme' and mtype=='rand' and inter_method == 'linear' and nof_filters==8 and lags==4 and epoch==50 and model=='LRGCN' and mrate in [0.3,0.5,0.6,0.8]\").\\\n",
    "iloc[:,[1,2,8,10]].boxplot(by=['model','mrate','method'],ax=ax[1,0],grid=False,widths=0.5)\n",
    "ax[1,0].set_title('LRGCN')\n",
    "\n",
    "df.query(\"dataset=='pedalme' and mtype=='rand' and inter_method == 'linear' and nof_filters==12 and lags==4 and epoch==50 and model=='DyGrEncoder' and mrate in [0.3,0.5,0.6,0.8]\").\\\n",
    "iloc[:,[1,2,8,10]].boxplot(by=['model','mrate','method'],ax=ax[1,1],grid=False,widths=0.5)\n",
    "ax[1,1].set_title('DyGrEncoder')\n",
    "\n",
    "df.query(\"dataset=='pedalme' and mtype=='rand' and inter_method == 'linear' and lags==4 and epoch==50 and model=='EvolveGCNH' and mrate in [0.3,0.5,0.6,0.8]\").\\\n",
    "iloc[:,[1,2,8,10]].boxplot(by=['model','mrate','method'],ax=ax[1,2],grid=False,widths=0.5)\n",
    "ax[1,2].set_title('EvolveGCNH')\n",
    "\n",
    "df.query(\"dataset=='pedalme' and mtype=='rand' and inter_method == 'linear' and lags==4 and epoch==50 and model=='EvolveGCNO' and mrate in [0.3,0.5,0.6,0.8]\").\\\n",
    "iloc[:,[1,2,8,10]].boxplot(by=['model','mrate','method'],ax=ax[2,0],grid=False,widths=0.5)\n",
    "ax[2,0].set_title('EvolveGCNO')\n",
    "\n",
    "df.query(\"dataset=='pedalme' and mtype=='rand' and inter_method == 'linear' and nof_filters==12 and lags==4 and epoch==50 and model=='TGCN' and mrate in [0.3,0.5,0.6,0.8]\").\\\n",
    "iloc[:,[1,2,8,10]].boxplot(by=['model','mrate','method'],ax=ax[2,1],grid=False,widths=0.5)\n",
    "ax[2,1].set_title('TGCN')\n",
    "\n",
    "df.query(\"dataset=='pedalme' and mtype=='rand' and inter_method == 'linear' and nof_filters==8 and lags==4 and epoch==50 and model=='DCRNN' and mrate in [0.3,0.5,0.6,0.8]\").\\\n",
    "iloc[:,[1,2,8,10]].boxplot(by=['model','mrate','method'],ax=ax[2,2],grid=False,widths=0.5)\n",
    "ax[2,2].set_title('DCRNN')\n",
    "\n",
    "\n",
    "for ax in ax.flat:\n",
    "    ax.set_yticklabels([])\n",
    "    ax.set_yscale('log')\n",
    "    ax.axvline(x=2.5, color='black', linestyle='-')\n",
    "    ax.axvline(x=4.5, color='black', linestyle='-')\n",
    "    ax.axvline(x=6.5, color='black', linestyle='-')\n",
    "    ax.axvline(x=8.5, color='black', linestyle='-')\n",
    "    ax.set_xticklabels(['IT-TGNN','TGNN','IT-TGNN','TGNN','IT-TGNN','TGNN','IT-TGNN','TGNN'])\n",
    "    ax.set_xlabel('')\n",
    "    ax.set_ylabel('')\n",
    "    \n",
    "fig.suptitle('',fontsize=40)"
   ]
  },
  {
   "cell_type": "code",
   "execution_count": null,
   "id": "5e261410-e8eb-436e-9968-e5ae0aee68e3",
   "metadata": {},
   "outputs": [],
   "source": [
    "pd.merge(df.query(\"dataset=='pedalme' and mtype=='rand'\").groupby(['model','mrate','lags','nof_filters','inter_method','method'])['mse'].mean().reset_index(),\n",
    "         df.query(\"dataset=='pedalme' and mtype=='rand'\").groupby(['model','mrate','lags','nof_filters','inter_method','method'])['mse'].std().reset_index(),\n",
    "         on=['model','method','nof_filters','mrate','lags','inter_method']).rename(columns={'mse_x':'mean','mse_y':'std'}).round(3).query(\"mrate == 0.3\")"
   ]
  },
  {
   "cell_type": "code",
   "execution_count": null,
   "id": "4bc2db5c-bae9-4f89-b95b-b705074a3021",
   "metadata": {},
   "outputs": [],
   "source": [
    "pd.merge(df.query(\"dataset=='pedalme' and mtype=='rand'\").groupby(['model','mrate','lags','nof_filters','inter_method','method'])['mse'].mean().reset_index(),\n",
    "         df.query(\"dataset=='pedalme' and mtype=='rand'\").groupby(['model','mrate','lags','nof_filters','inter_method','method'])['mse'].std().reset_index(),\n",
    "         on=['model','method','nof_filters','mrate','lags','inter_method']).rename(columns={'mse_x':'mean','mse_y':'std'}).round(3).query(\"mrate != 0.3\")"
   ]
  },
  {
   "cell_type": "code",
   "execution_count": null,
   "id": "a07adc08-f3c3-4570-a605-c2fa14baf421",
   "metadata": {},
   "outputs": [],
   "source": [
    "pd.merge(df.query(\"dataset=='pedalme' and mtype=='rand'\").groupby(['model','mrate','lags','inter_method','method'])['mse'].mean().reset_index(),\n",
    "         df.query(\"dataset=='pedalme' and mtype=='rand'\").groupby(['model','mrate','lags','inter_method','method'])['mse'].std().reset_index(),\n",
    "         on=['model','method','mrate','lags','inter_method']).rename(columns={'mse_x':'mean','mse_y':'std'}).round(3).query(\"mrate != 0.3\").\\\n",
    "query(\"inter_method=='nearest'\")"
   ]
  },
  {
   "cell_type": "markdown",
   "id": "cc925b14-de08-44a4-b87a-daf52986e59b",
   "metadata": {},
   "source": [
    "## Block"
   ]
  },
  {
   "cell_type": "code",
   "execution_count": null,
   "id": "734d718b-6754-4090-9e8f-1c49414bcbb5",
   "metadata": {},
   "outputs": [],
   "source": [
    "pd.merge(df.query(\"dataset=='pedalme' and mtype=='block'\").groupby(['model','mrate','lags','inter_method','method'])['mse'].mean().reset_index(),\n",
    "         df.query(\"dataset=='pedalme' and mtype=='block'\").groupby(['model','mrate','lags','inter_method','method'])['mse'].std().reset_index(),\n",
    "         on=['model','method','mrate','lags','inter_method']).rename(columns={'mse_x':'mean','mse_y':'std'}).round(3).query(\"lags==4\")"
   ]
  },
  {
   "cell_type": "code",
   "execution_count": null,
   "id": "50157103-db4d-4b08-a869-b43322080133",
   "metadata": {},
   "outputs": [],
   "source": [
    "pd.merge(df.query(\"dataset=='pedalme' and mtype=='block'\").groupby(['model','mrate','lags','inter_method','method'])['mse'].mean().reset_index(),\n",
    "         df.query(\"dataset=='pedalme' and mtype=='block'\").groupby(['model','mrate','lags','inter_method','method'])['mse'].std().reset_index(),\n",
    "         on=['model','method','mrate','lags','inter_method']).rename(columns={'mse_x':'mean','mse_y':'std'}).round(3).\\\n",
    "query(\"lags==4 and inter_method=='nearest'\")"
   ]
  },
  {
   "cell_type": "markdown",
   "id": "fa4a0f0a-01f7-48d8-a23e-cd48100e79ec",
   "metadata": {},
   "source": [
    "## W_st"
   ]
  },
  {
   "cell_type": "code",
   "execution_count": null,
   "id": "3aae184b-d1f5-4a2e-ab6a-5397f114605a",
   "metadata": {},
   "outputs": [],
   "source": [
    "pd.merge(df2.query(\"dataset == 'pedalme' and mtype=='rand'\").groupby(['model','mrate','lags','inter_method','method'])['mse'].mean().reset_index(),\n",
    "         df2.query(\"dataset == 'pedalme' and mtype=='rand'\").groupby(['model','mrate','lags','inter_method','method'])['mse'].std().reset_index(),\n",
    "         on=['model','method','mrate','lags','inter_method']).rename(columns={'mse_x':'mean','mse_y':'std'}).round(3).query(\"lags==4 and mrate==0.3\")"
   ]
  },
  {
   "cell_type": "markdown",
   "id": "614fc037-22ab-4935-9e24-aa7f5f81191d",
   "metadata": {},
   "source": [
    "- 테이블 정리용"
   ]
  },
  {
   "cell_type": "code",
   "execution_count": null,
   "id": "3e05bc35-f869-4ca8-b464-17228778ecb4",
   "metadata": {},
   "outputs": [],
   "source": [
    "pd.merge(df2.query(\"dataset == 'pedalme' and mtype=='rand'\").groupby(['model','mrate','lags','inter_method','method'])['mse'].mean().reset_index(),\n",
    "         df2.query(\"dataset == 'pedalme' and mtype=='rand'\").groupby(['model','mrate','lags','inter_method','method'])['mse'].std().reset_index(),\n",
    "         on=['model','method','mrate','lags','inter_method']).rename(columns={'mse_x':'mean','mse_y':'std'}).round(3).query(\"lags==4 and mrate == 0.6 and inter_method=='linear'\")"
   ]
  },
  {
   "cell_type": "code",
   "execution_count": null,
   "id": "9b0d1c74-d69e-43b2-a962-a412637a78dc",
   "metadata": {},
   "outputs": [],
   "source": [
    "pd.merge(df2.query(\"dataset == 'pedalme' and mtype=='rand'\").groupby(['model','mrate','lags','inter_method','method'])['mse'].mean().reset_index(),\n",
    "         df2.query(\"dataset == 'pedalme' and mtype=='rand'\").groupby(['model','mrate','lags','inter_method','method'])['mse'].std().reset_index(),\n",
    "         on=['model','method','mrate','lags','inter_method']).rename(columns={'mse_x':'mean','mse_y':'std'}).round(3).query(\"method !='STGCN' and lags==4 and mrate == 0.6 and inter_method=='linear'\")"
   ]
  },
  {
   "cell_type": "code",
   "execution_count": null,
   "id": "49505eac-2545-42ac-a4de-f80d6761dff1",
   "metadata": {},
   "outputs": [],
   "source": [
    "pd.merge(df.query(\"dataset == 'pedalme' and mtype=='rand'\").groupby(['model','mrate','lags','inter_method','method'])['mse'].mean().reset_index(),\n",
    "         df.query(\"dataset == 'pedalme' and mtype=='rand'\").groupby(['model','mrate','lags','inter_method','method'])['mse'].std().reset_index(),\n",
    "         on=['model','method','mrate','lags','inter_method']).rename(columns={'mse_x':'mean','mse_y':'std'}).round(3).query(\"method !='STGCN' and lags==4 and mrate == 0.6 and inter_method=='linear'\")"
   ]
  },
  {
   "cell_type": "code",
   "execution_count": null,
   "id": "8d09754b-fefa-4a5d-9bbe-95f1c0a6c1e6",
   "metadata": {},
   "outputs": [],
   "source": [
    "pd.merge(df2.query(\"dataset == 'pedalme' and mtype=='rand'\").groupby(['model','mrate','lags','inter_method','method'])['mse'].mean().reset_index(),\n",
    "         df2.query(\"dataset == 'pedalme' and mtype=='rand'\").groupby(['model','mrate','lags','inter_method','method'])['mse'].std().reset_index(),\n",
    "         on=['model','method','mrate','lags','inter_method']).rename(columns={'mse_x':'mean','mse_y':'std'}).round(3).query(\"lags==4 and mrate == 0.6\")"
   ]
  },
  {
   "cell_type": "markdown",
   "id": "c2e43e8c-65eb-493e-b787-9830855da73b",
   "metadata": {},
   "source": [
    "- conclusion table"
   ]
  },
  {
   "cell_type": "code",
   "execution_count": null,
   "id": "76133a17-3f0e-4fdf-bc91-4b414f19899b",
   "metadata": {},
   "outputs": [],
   "source": [
    "pd.merge(df2.query(\"dataset == 'pedalme' and mtype=='block'\").groupby(['model','mrate','lags','inter_method','method'])['mse'].mean().reset_index(),\n",
    "         df2.query(\"dataset == 'pedalme' and mtype=='block'\").groupby(['model','mrate','lags','inter_method','method'])['mse'].std().reset_index(),\n",
    "         on=['model','method','mrate','lags','inter_method']).rename(columns={'mse_x':'mean','mse_y':'std'}).round(3).query(\"lags==4 and inter_method=='linear'\")"
   ]
  },
  {
   "cell_type": "code",
   "execution_count": null,
   "id": "ce5973a3-26fe-4c29-908e-e00ebc34efe7",
   "metadata": {},
   "outputs": [],
   "source": [
    "pd.merge(df2.query(\"dataset == 'pedalme' and mtype=='block'\").groupby(['model','mrate','lags','inter_method','method'])['mse'].mean().reset_index(),\n",
    "         df2.query(\"dataset == 'pedalme' and mtype=='block'\").groupby(['model','mrate','lags','inter_method','method'])['mse'].std().reset_index(),\n",
    "         on=['model','method','mrate','lags','inter_method']).rename(columns={'mse_x':'mean','mse_y':'std'}).round(3).query(\"lags==4\")"
   ]
  },
  {
   "cell_type": "markdown",
   "id": "6b8d328a-ab3d-4035-bb78-e50d3e2a5bed",
   "metadata": {},
   "source": [
    "# WikiMathsDatasetLoader (lags=8)"
   ]
  },
  {
   "cell_type": "code",
   "execution_count": null,
   "id": "10b31271-7106-483f-9aac-cdcc5bba10c0",
   "metadata": {},
   "outputs": [],
   "source": [
    "df.query(\"model=='GNAR' and dataset=='wikimath'\")"
   ]
  },
  {
   "cell_type": "markdown",
   "id": "d88a331e-24dc-4aec-8e7f-85efc0c821a9",
   "metadata": {
    "tags": []
   },
   "source": [
    "## Baseline"
   ]
  },
  {
   "cell_type": "code",
   "execution_count": null,
   "id": "72c4f387-fb51-4291-8506-dbeb689e6c40",
   "metadata": {},
   "outputs": [],
   "source": [
    "pd.merge(df.query(\"dataset=='wikimath' and mrate==0\").groupby(['model','lags','nof_filters','method'])['mse'].mean().reset_index(),\n",
    "         df.query(\"dataset=='wikimath' and mrate==0\").groupby(['model','lags','nof_filters','method'])['mse'].std().reset_index(),\n",
    "         on=['model','lags','nof_filters','method']).rename(columns={'mse_x':'mean','mse_y':'std'}).round(3)"
   ]
  },
  {
   "cell_type": "markdown",
   "id": "ac5b93fb-4696-4651-905e-ce73ff75ac03",
   "metadata": {},
   "source": [
    "## Random"
   ]
  },
  {
   "cell_type": "code",
   "execution_count": null,
   "id": "6e99baf9-579e-434d-8b9c-489aa6ec3b79",
   "metadata": {},
   "outputs": [],
   "source": [
    "fig, ax = plt.subplots(3, 3,figsize=(40,20))\n",
    "\n",
    "df.query(\"dataset=='wikimath' and mtype=='rand' and inter_method == 'linear' and nof_filters==12 and lags==8 and epoch==50 and model=='GConvGRU'\").\\\n",
    "iloc[:,[1,2,8,10]].boxplot(by=['model','mrate','method'],ax=ax[0,0],grid=False,widths=0.5)\n",
    "ax[0,0].set_title('GConvGRU')\n",
    "\n",
    "df.query(\"dataset=='wikimath' and mtype=='rand' and inter_method == 'linear' and nof_filters==64 and lags==8 and epoch==50 and model=='GConvLSTM'\").\\\n",
    "iloc[:,[1,2,8,10]].boxplot(by=['model','mrate','method'],ax=ax[0,1],grid=False,widths=0.5)\n",
    "ax[0,1].set_title('GConvLSTM')\n",
    "\n",
    "df.query(\"dataset=='wikimath' and mtype=='rand' and inter_method == 'linear' and nof_filters==64 and lags==8 and epoch==50 and model=='GCLSTM'\").\\\n",
    "iloc[:,[1,2,8,10]].boxplot(by=['model','mrate','method'],ax=ax[0,2],grid=False,widths=0.5)\n",
    "ax[0,2].set_title('GCLSTM')\n",
    "\n",
    "df.query(\"dataset=='wikimath' and mtype=='rand' and inter_method == 'linear' and nof_filters==32 and lags==8 and epoch==50 and model=='LRGCN'\").\\\n",
    "iloc[:,[1,2,8,10]].boxplot(by=['model','mrate','method'],ax=ax[1,0],grid=False,widths=0.5)\n",
    "ax[1,0].set_title('LRGCN')\n",
    "\n",
    "df.query(\"dataset=='wikimath' and mtype=='rand' and inter_method == 'linear' and nof_filters==12 and lags==8 and epoch==50 and model=='DyGrEncoder'\").\\\n",
    "iloc[:,[1,2,8,10]].boxplot(by=['model','mrate','method'],ax=ax[1,1],grid=False,widths=0.5)\n",
    "ax[1,1].set_title('DyGrEncoder')\n",
    "\n",
    "df.query(\"dataset=='wikimath' and mtype=='rand' and inter_method == 'linear' and lags==8 and epoch==50 and model=='EvolveGCNH'\").\\\n",
    "iloc[:,[1,2,8,10]].boxplot(by=['model','mrate','method'],ax=ax[1,2],grid=False,widths=0.5)\n",
    "ax[1,2].set_title('EvolveGCNH')\n",
    "\n",
    "df.query(\"dataset=='wikimath' and mtype=='rand' and inter_method == 'linear' and lags==8 and epoch==50 and model=='EvolveGCNO'\").\\\n",
    "iloc[:,[1,2,8,10]].boxplot(by=['model','mrate','method'],ax=ax[2,0],grid=False,widths=0.5)\n",
    "ax[2,0].set_title('EvolveGCNO')\n",
    "\n",
    "df.query(\"dataset=='wikimath' and mtype=='rand' and inter_method == 'linear' and nof_filters==12 and lags==8 and epoch==50 and model=='TGCN'\").\\\n",
    "iloc[:,[1,2,8,10]].boxplot(by=['model','mrate','method'],ax=ax[2,1],grid=False,widths=0.5)\n",
    "ax[2,1].set_title('TGCN')\n",
    "\n",
    "df.query(\"dataset=='wikimath' and mtype=='rand' and inter_method == 'linear' and nof_filters==12 and lags==8 and epoch==50 and model=='DCRNN'\").\\\n",
    "iloc[:,[1,2,8,10]].boxplot(by=['model','mrate','method'],ax=ax[2,2],grid=False,widths=0.5)\n",
    "ax[2,2].set_title('DCRNN')\n",
    "\n",
    "\n",
    "for ax in ax.flat:\n",
    "    ax.set_yticklabels([])\n",
    "    ax.axvline(x=2.5, color='black', linestyle='-')\n",
    "    ax.axvline(x=4.5, color='black', linestyle='-')\n",
    "    ax.axvline(x=6.5, color='black', linestyle='-')\n",
    "    ax.axvline(x=8.5, color='black', linestyle='-')\n",
    "    # ax.set_xticklabels(['IT-TGNN','TGNN','IT-TGNN','TGNN','IT-TGNN','TGNN','IT-TGNN','TGNN','IT-TGNN','TGNN'])\n",
    "    ax.set_xlabel('')\n",
    "    ax.set_ylabel('')\n",
    "    \n",
    "fig.suptitle('',fontsize=40)"
   ]
  },
  {
   "cell_type": "code",
   "execution_count": null,
   "id": "81df71d2-0fd8-447e-a2fc-54fc51ea2c2f",
   "metadata": {},
   "outputs": [],
   "source": [
    "pd.merge(df.query(\"dataset=='wikimath' and mtype=='rand'\").groupby(['model','mrate','lags','nof_filters','inter_method','method'])['mse'].mean().reset_index(),\n",
    "         df.query(\"dataset=='wikimath' and mtype=='rand'\").groupby(['model','mrate','lags','nof_filters','inter_method','method'])['mse'].std().reset_index(),\n",
    "         on=['model','method','nof_filters','mrate','inter_method','lags']).rename(columns={'mse_x':'mean','mse_y':'std'}).round(3).query(\"mrate == 0.3\")"
   ]
  },
  {
   "cell_type": "code",
   "execution_count": null,
   "id": "7563621c-072e-4207-8ce3-ec6ffc6491fc",
   "metadata": {},
   "outputs": [],
   "source": [
    "pd.merge(df.query(\"dataset=='wikimath' and mtype=='rand'\").groupby(['model','mrate','lags','inter_method','method'])['mse'].mean().reset_index(),\n",
    "         df.query(\"dataset=='wikimath' and mtype=='rand'\").groupby(['model','mrate','lags','inter_method','method'])['mse'].std().reset_index(),\n",
    "         on=['model','method','mrate','inter_method','lags']).rename(columns={'mse_x':'mean','mse_y':'std'}).round(3).query(\"mrate != 0.3\")"
   ]
  },
  {
   "cell_type": "markdown",
   "id": "bb38a3db-6494-4dea-a49f-3c9380f7396d",
   "metadata": {},
   "source": [
    "## Block"
   ]
  },
  {
   "cell_type": "code",
   "execution_count": null,
   "id": "0aab3c2a-573d-4251-8846-d70ea29200c8",
   "metadata": {},
   "outputs": [],
   "source": [
    "pd.merge(df.query(\"dataset=='wikimath' and mtype=='block'\").groupby(['model','mrate','lags','inter_method','method'])['mse'].mean().reset_index(),\n",
    "         df.query(\"dataset=='wikimath' and mtype=='block'\").groupby(['model','mrate','lags','inter_method','method'])['mse'].std().reset_index(),\n",
    "         on=['model','method','mrate','inter_method','lags']).rename(columns={'mse_x':'mean','mse_y':'std'}).round(3)"
   ]
  },
  {
   "cell_type": "markdown",
   "id": "502e78e4-2221-43a8-a6f8-4813f1b3135e",
   "metadata": {},
   "source": [
    "## missing values on the same nodes"
   ]
  },
  {
   "cell_type": "code",
   "execution_count": null,
   "id": "60b1de29-fba2-4daf-b95c-d8ce61146262",
   "metadata": {},
   "outputs": [],
   "source": [
    "pd.merge(df2.query(\"dataset=='wikimath'\").groupby(['model','mrate','lags','method'])['mse'].mean().reset_index(),\n",
    "        df2.query(\"dataset=='wikimath'\").groupby(['model','mrate','lags','method'])['mse'].std().reset_index(),\n",
    "         on=['model','method','mrate','lags']).rename(columns={'mse_x':'mean','mse_y':'std'}).round(3)"
   ]
  },
  {
   "cell_type": "markdown",
   "id": "0d25d56c-6290-4c21-a956-5e6b29af0cb6",
   "metadata": {},
   "source": [
    "# Windmillsmall(lags=8)"
   ]
  },
  {
   "cell_type": "code",
   "execution_count": null,
   "id": "a563c45f-6243-4595-91cb-9cdecf9101e7",
   "metadata": {},
   "outputs": [],
   "source": [
    "df.query(\"model=='GNAR' and dataset=='windmillsmall'\")"
   ]
  },
  {
   "cell_type": "markdown",
   "id": "ef5b985b-ed11-48f8-9763-fd90793ce32e",
   "metadata": {},
   "source": [
    "## Baseline"
   ]
  },
  {
   "cell_type": "code",
   "execution_count": null,
   "id": "b0144081-66ed-4f15-b4fa-b022b7ae5f90",
   "metadata": {},
   "outputs": [],
   "source": [
    "pd.merge(df.query(\"dataset=='windmillsmall' and mrate==0\").groupby(['model','lags'])['mse'].mean().reset_index(),\n",
    "         df.query(\"dataset=='windmillsmall' and mrate==0\").groupby(['model','lags'])['mse'].std().reset_index(),\n",
    "         on=['model','lags']).rename(columns={'mse_x':'mean','mse_y':'std'}).round(3)"
   ]
  },
  {
   "cell_type": "markdown",
   "id": "d391c192-8071-45d6-b55a-179b59e1fb1e",
   "metadata": {},
   "source": [
    "## Random"
   ]
  },
  {
   "cell_type": "code",
   "execution_count": null,
   "id": "78e8c611-56b9-48ce-bdb6-d37e504603ba",
   "metadata": {},
   "outputs": [],
   "source": [
    "fig, ((ax1)) = plt.subplots(nrows=1, ncols=1, figsize=(50, 6), sharey=True)\n",
    "df.query(\"dataset=='windmillsmall' and mtype=='rand' and inter_method == 'linear' and lags==8 and epoch==50\").\\\n",
    "iloc[:,[1,2,8,10]].boxplot(by=['model','mrate','method'],ax=ax1,grid=False,widths=0.5)"
   ]
  },
  {
   "cell_type": "code",
   "execution_count": null,
   "id": "4a6242f2-f900-4ce8-949e-37cdbea17900",
   "metadata": {},
   "outputs": [],
   "source": [
    "pd.merge(df.query(\"dataset=='windmillsmall' and mtype=='rand'\").groupby(['model','mrate','lags','inter_method','method'])['mse'].mean().reset_index(),\n",
    "         df.query(\"dataset=='windmillsmall' and mtype=='rand'\").groupby(['model','mrate','lags','inter_method','method'])['mse'].std().reset_index(),\n",
    "         on=['model','method','mrate','inter_method','lags']).rename(columns={'mse_x':'mean','mse_y':'std'}).round(3)"
   ]
  },
  {
   "cell_type": "markdown",
   "id": "b4ac185b-c0e5-4100-84ed-c5624165a134",
   "metadata": {},
   "source": [
    "## Block"
   ]
  },
  {
   "cell_type": "code",
   "execution_count": null,
   "id": "e57e71df-39c9-440a-9af4-ee0a3ab30dd0",
   "metadata": {},
   "outputs": [],
   "source": [
    "pd.merge(df.query(\"dataset=='windmillsmall' and mtype=='block'\").groupby(['model','mrate','nof_filters','lags','method'])['mse'].mean().reset_index(),\n",
    "         df.query(\"dataset=='windmillsmall' and mtype=='block'\").groupby(['model','mrate','nof_filters','lags','method'])['mse'].std().reset_index(),\n",
    "         on=['model','method','nof_filters','mrate','lags']).rename(columns={'mse_x':'mean','mse_y':'std'}).round(3)"
   ]
  },
  {
   "cell_type": "markdown",
   "id": "103aed66-a7df-47ec-8a25-4d745e995e3b",
   "metadata": {},
   "source": [
    "# Montevideobus (lags=4)"
   ]
  },
  {
   "cell_type": "code",
   "execution_count": null,
   "id": "04d86ec2-58e4-4cfa-b92d-9f7633945915",
   "metadata": {},
   "outputs": [],
   "source": [
    "df.query(\"model=='GNAR' and dataset=='monte'\")"
   ]
  },
  {
   "cell_type": "markdown",
   "id": "91f82283-4959-43ed-a9ae-c7be70e65d41",
   "metadata": {
    "tags": []
   },
   "source": [
    "## Baseline"
   ]
  },
  {
   "cell_type": "code",
   "execution_count": null,
   "id": "c397a148-1542-4900-9876-4c6b1a50e677",
   "metadata": {},
   "outputs": [],
   "source": [
    "pd.merge(df.query(\"dataset=='monte' and mrate==0\").groupby(['model','lags'])['mse'].mean().reset_index(),\n",
    "         df.query(\"dataset=='monte' and mrate==0\").groupby(['model','lags'])['mse'].std().reset_index(),\n",
    "         on=['model','lags']).rename(columns={'mse_x':'mean','mse_y':'std'}).round(3)"
   ]
  },
  {
   "cell_type": "markdown",
   "id": "942c832c-4e69-4185-8a2c-c0c8548a7dfe",
   "metadata": {},
   "source": [
    "## Random"
   ]
  },
  {
   "cell_type": "code",
   "execution_count": null,
   "id": "663d9d0d-a2ed-4923-a482-c812a7480b5b",
   "metadata": {},
   "outputs": [],
   "source": [
    "fig, ((ax1)) = plt.subplots(nrows=1, ncols=1, figsize=(50, 6), sharey=True)\n",
    "df.query(\"dataset=='monte' and mtype=='rand' and inter_method == 'nearest' and lags==4 and epoch==50\").\\\n",
    "iloc[:,[1,2,8,10]].boxplot(by=['model','mrate','method'],ax=ax1,grid=False,widths=0.5)"
   ]
  },
  {
   "cell_type": "code",
   "execution_count": null,
   "id": "448f4a68-2e73-4e44-8ece-f7a22854a8b2",
   "metadata": {},
   "outputs": [],
   "source": [
    "pd.merge(df.query(\"dataset=='monte' and mtype=='rand'\").groupby(['model','mrate','nof_filters','lags','inter_method','method'])['mse'].mean().reset_index(),\n",
    "         df.query(\"dataset=='monte' and mtype=='rand'\").groupby(['model','mrate','nof_filters','lags','inter_method','method'])['mse'].std().reset_index(),\n",
    "         on=['model','mrate','nof_filters','inter_method','method','mrate','lags']).rename(columns={'mse_x':'mean','mse_y':'std'}).round(3)"
   ]
  },
  {
   "cell_type": "markdown",
   "id": "3a9bd468-51e4-4dd3-93ac-1fa950c3435a",
   "metadata": {},
   "source": [
    "## Block"
   ]
  },
  {
   "cell_type": "code",
   "execution_count": null,
   "id": "bda36e58-2fa4-4258-951f-da86f14ba3d8",
   "metadata": {},
   "outputs": [],
   "source": [
    "pd.merge(df.query(\"dataset=='monte' and mtype=='block'\").groupby(['model','mrate','lags','inter_method','method'])['mse'].mean().reset_index(),\n",
    "         df.query(\"dataset=='monte' and mtype=='block'\").groupby(['model','mrate','lags','inter_method','method'])['mse'].std().reset_index(),\n",
    "         on=['model','method','mrate','inter_method','lags']).rename(columns={'mse_x':'mean','mse_y':'std'}).round(3)"
   ]
  },
  {
   "cell_type": "code",
   "execution_count": null,
   "id": "5ab4d71b-466e-4441-bc12-e2118f8df392",
   "metadata": {},
   "outputs": [],
   "source": [
    "pd.merge(df.query(\"dataset=='monte' and mtype=='block'\").groupby(['model','mrate','lags','inter_method','method'])['mse'].mean().reset_index(),\n",
    "         df.query(\"dataset=='monte' and mtype=='block'\").groupby(['model','mrate','lags','inter_method','method'])['mse'].std().reset_index(),\n",
    "         on=['model','method','mrate','inter_method','lags']).rename(columns={'mse_x':'mean','mse_y':'std'}).round(3).query(\"inter_method=='nearest'\")"
   ]
  }
 ],
 "metadata": {
  "kernelspec": {
   "display_name": "Python 3",
   "language": "python",
   "name": "python3"
  },
  "language_info": {
   "codemirror_mode": {
    "name": "ipython",
    "version": 3
   },
   "file_extension": ".py",
   "mimetype": "text/x-python",
   "name": "python",
   "nbconvert_exporter": "python",
   "pygments_lexer": "ipython3",
   "version": "3.8.0"
  }
 },
 "nbformat": 4,
 "nbformat_minor": 5
}

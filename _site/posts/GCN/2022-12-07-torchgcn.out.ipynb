{
  "cells": [
    {
      "cell_type": "markdown",
      "metadata": {},
      "source": [
        "# TORCH_GEOMETRIC.NN\n",
        "\n",
        "SEOYEON CHOI  \n",
        "12/5/22\n",
        "\n",
        "221207\n",
        "\n",
        "https://pytorch-geometric.readthedocs.io/en/latest/modules/nn.html"
      ],
      "id": "3c6d2301-e680-4e35-ba0a-f9308acb4745"
    },
    {
      "cell_type": "code",
      "execution_count": 1,
      "metadata": {},
      "outputs": [],
      "source": [
        "import torch\n",
        "from torch_geometric.data import Data"
      ],
      "id": "5f4c8197-1e3e-4df8-8011-0afd4a2215bb"
    },
    {
      "cell_type": "code",
      "execution_count": 2,
      "metadata": {},
      "outputs": [],
      "source": [
        "edge_index = torch.tensor([[0, 1, 1, 2],\n",
        "                           [1, 0, 2, 1]], dtype=torch.long)\n",
        "x = torch.tensor([[-1], [0], [1]], dtype=torch.float)\n",
        "data = Data(x=x, edge_index=edge_index)"
      ],
      "id": "862bd26b-7006-45f0-a531-8a15c75b8581"
    },
    {
      "cell_type": "code",
      "execution_count": 3,
      "metadata": {},
      "outputs": [],
      "source": [
        "data"
      ],
      "id": "a2ac5173-9ccd-4045-83c0-197709c0d4fc"
    },
    {
      "cell_type": "code",
      "execution_count": 4,
      "metadata": {},
      "outputs": [],
      "source": [
        "import networkx as nx\n",
        "import matplotlib.pyplot as plt"
      ],
      "id": "e5711b73-d6b7-4310-87f8-a52a034d63d6"
    },
    {
      "cell_type": "code",
      "execution_count": 5,
      "metadata": {},
      "outputs": [
        {
          "output_type": "display_data",
          "metadata": {},
          "data": {
            "image/png": "[encoded data removed]"
          }
        }
      ],
      "source": [
        "G=nx.Graph()\n",
        "G.add_node('0')\n",
        "G.add_node('1')\n",
        "G.add_node('2')\n",
        "G.add_edge('0','1')\n",
        "G.add_edge('1','2')\n",
        "pos = {}\n",
        "pos['0'] = (0,0)\n",
        "pos['1'] = (1,1)\n",
        "pos['2'] = (2,0)\n",
        "nx.draw(G,pos,with_labels=True)\n",
        "plt.show()"
      ],
      "id": "713006b9-326e-4305-b9db-589784050f5c"
    },
    {
      "cell_type": "code",
      "execution_count": 6,
      "metadata": {},
      "outputs": [],
      "source": [
        "from torch.nn import Linear, ReLU\n",
        "from torch_geometric.nn import Sequential, GCNConv"
      ],
      "id": "55562cc7-5b59-4159-b065-479623438bda"
    },
    {
      "cell_type": "markdown",
      "metadata": {},
      "source": [
        "ex\n",
        "\n",
        "``` python\n",
        "model = Sequential('x, edge_index', [\n",
        "    (GCNConv(in_channels, 64), 'x, edge_index -> x'),\n",
        "    ReLU(inplace=True),\n",
        "    (GCNConv(64, 64), 'x, edge_index -> x'),\n",
        "    ReLU(inplace=True),\n",
        "    Linear(64, out_channels),\n",
        "])\n",
        "```"
      ],
      "id": "02745a93-6934-4954-833f-bf45a2309666"
    },
    {
      "cell_type": "code",
      "execution_count": 7,
      "metadata": {},
      "outputs": [],
      "source": [
        "model = Sequential('x, edge_index', [\n",
        "    (GCNConv(3, 64), 'x, edge_index -> x'),\n",
        "    ReLU(inplace=True),\n",
        "    (GCNConv(64, 64), 'x, edge_index -> x'),\n",
        "    ReLU(inplace=True),\n",
        "    Linear(64, 3),\n",
        "])"
      ],
      "id": "f2e749c5-6d21-41ac-8f3e-09e256ecc80b"
    },
    {
      "cell_type": "code",
      "execution_count": null,
      "metadata": {},
      "outputs": [],
      "source": [
        "model(x,edge_index)"
      ],
      "id": "95857479-45e2-487a-9e34-ffbb3f95cd9a"
    },
    {
      "cell_type": "code",
      "execution_count": 9,
      "metadata": {},
      "outputs": [],
      "source": [
        "from torch.nn import Linear, ReLU, Dropout\n",
        "from torch_geometric.nn import Sequential, GCNConv, JumpingKnowledge\n",
        "from torch_geometric.nn import global_mean_pool"
      ],
      "id": "fc1b9f90-9583-46ea-b1c1-28a858240a40"
    },
    {
      "cell_type": "markdown",
      "metadata": {},
      "source": [
        "``` python\n",
        "model = Sequential('x, edge_index, batch', [\n",
        "    (Dropout(p=0.5), 'x -> x'),\n",
        "    (GCNConv(dataset.num_features, 64), 'x, edge_index -> x1'),\n",
        "    ReLU(inplace=True),\n",
        "    (GCNConv(64, 64), 'x1, edge_index -> x2'),\n",
        "    ReLU(inplace=True),\n",
        "    (lambda x1, x2: [x1, x2], 'x1, x2 -> xs'),\n",
        "    (JumpingKnowledge(\"cat\", 64, num_layers=2), 'xs -> x'),\n",
        "    (global_mean_pool, 'x, batch -> x'),\n",
        "    Linear(2 * 64, dataset.num_classes),\n",
        "])\n",
        "```"
      ],
      "id": "d3240eeb-3b8e-42d9-8c95-890c4454410e"
    },
    {
      "cell_type": "code",
      "execution_count": null,
      "metadata": {},
      "outputs": [],
      "source": [
        "model = Sequential('x, edge_index, batch', [\n",
        "    (Dropout(p=0.5), 'x -> x'),\n",
        "    (GCNConv(dataset.num_features, 64), 'x, edge_index -> x1'),\n",
        "    ReLU(inplace=True),\n",
        "    (GCNConv(64, 64), 'x1, edge_index -> x2'),\n",
        "    ReLU(inplace=True),\n",
        "    (lambda x1, x2: [x1, x2], 'x1, x2 -> xs'),\n",
        "    (JumpingKnowledge(\"cat\", 64, num_layers=2), 'xs -> x'),\n",
        "    (global_mean_pool, 'x, batch -> x'),\n",
        "    Linear(2 * 64, dataset.num_classes),\n",
        "])"
      ],
      "id": "e44cd703-f39b-4ae6-81ac-620967b2e43f"
    },
    {
      "cell_type": "code",
      "execution_count": null,
      "metadata": {},
      "outputs": [],
      "source": [
        "torch_geometric.nn.Linear()"
      ],
      "id": "651ff964-5a9f-4720-8b13-8d5552b7a772"
    }
  ],
  "nbformat": 4,
  "nbformat_minor": 5,
  "metadata": {
    "kernelspec": {
      "name": "python3",
      "display_name": "Python 3 (ipykernel)",
      "language": "python"
    },
    "language_info": {
      "name": "python",
      "codemirror_mode": {
        "name": "ipython",
        "version": "3"
      },
      "file_extension": ".py",
      "mimetype": "text/x-python",
      "nbconvert_exporter": "python",
      "pygments_lexer": "ipython3",
      "version": "3.8.12"
    }
  }
}
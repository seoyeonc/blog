{
  "cells": [
    {
      "cell_type": "markdown",
      "metadata": {},
      "source": [
        "# 2nd ST-GCN Example dividing train and test\n",
        "\n",
        "SEOYEON CHOI  \n",
        "1/17/23\n",
        "\n",
        "> Try to divide train and test(ST-GCN WikiMathsDatasetLoader)\n",
        "\n",
        "# import"
      ],
      "id": "eedcbd65-f285-4c0c-8285-5465727d1b44"
    },
    {
      "cell_type": "code",
      "execution_count": 1,
      "metadata": {},
      "outputs": [],
      "source": [
        "import rpy2\n",
        "import rpy2.robjects as ro \n",
        "from rpy2.robjects.vectors import FloatVector \n",
        "from rpy2.robjects.packages import importr\n",
        "\n",
        "import torch\n",
        "import numpy as np\n",
        "from tqdm import tqdm\n",
        "\n",
        "import torch.nn.functional as F\n",
        "from torch_geometric_temporal.nn.recurrent import GConvGRU\n",
        "\n",
        "import matplotlib.pyplot as plt\n",
        "import pandas as pd\n",
        "\n",
        "import time\n",
        "\n",
        "from scipy.interpolate import interp1d"
      ],
      "id": "3ac640f1-ba52-4b3b-802f-4470ea44ff07"
    },
    {
      "cell_type": "code",
      "execution_count": 2,
      "metadata": {},
      "outputs": [],
      "source": [
        "class RecurrentGCN(torch.nn.Module):\n",
        "    def __init__(self, node_features, filters):\n",
        "        super(RecurrentGCN, self).__init__()\n",
        "        self.recurrent = GConvGRU(node_features, filters, 2)\n",
        "        self.linear = torch.nn.Linear(filters, 1)\n",
        "\n",
        "    def forward(self, x, edge_index, edge_weight):\n",
        "        h = self.recurrent(x, edge_index, edge_weight)\n",
        "        h = F.relu(h)\n",
        "        h = self.linear(h)\n",
        "        return h"
      ],
      "id": "22ba9622-179c-42d4-bbaa-5cca45baf35e"
    },
    {
      "cell_type": "markdown",
      "metadata": {},
      "source": [
        "# Data"
      ],
      "id": "fae3255b-4823-4531-94c5-523d7be28217"
    },
    {
      "cell_type": "code",
      "execution_count": 110,
      "metadata": {},
      "outputs": [],
      "source": [
        "from torch_geometric_temporal.dataset import WikiMathsDatasetLoader\n",
        "from torch_geometric_temporal.signal import temporal_signal_split"
      ],
      "id": "59fee926-fbf7-4175-86f9-07e94571c252"
    },
    {
      "cell_type": "code",
      "execution_count": 111,
      "metadata": {},
      "outputs": [],
      "source": [
        "loader = WikiMathsDatasetLoader()"
      ],
      "id": "a15a83d2-5130-4edb-8c4a-735dd389168e"
    },
    {
      "cell_type": "code",
      "execution_count": 112,
      "metadata": {},
      "outputs": [],
      "source": [
        "dataset = loader.get_dataset(lags=1)"
      ],
      "id": "a519fec4-e4de-452a-bbb8-75b1a7e6368d"
    },
    {
      "cell_type": "code",
      "execution_count": 113,
      "metadata": {},
      "outputs": [],
      "source": [
        "train_dataset, test_dataset = temporal_signal_split(dataset, train_ratio=0.8)"
      ],
      "id": "80c5b941-5a29-4d8f-b391-47f8394e5de6"
    },
    {
      "cell_type": "markdown",
      "metadata": {},
      "source": [
        "## Train"
      ],
      "id": "1dc5c26b-7a96-4a74-81a1-5812522968bb"
    },
    {
      "cell_type": "code",
      "execution_count": 114,
      "metadata": {},
      "outputs": [],
      "source": [
        "data_train=[]\n",
        "for time, snapshot in enumerate(train_dataset):\n",
        "    data_train.append([time,snapshot])"
      ],
      "id": "3fc41356-b8c3-48be-bc40-fba0a271a96f"
    },
    {
      "cell_type": "code",
      "execution_count": 115,
      "metadata": {},
      "outputs": [],
      "source": [
        "data_train[0][1].x.shape,data_train[0][1].y.shape,data_train[0][1].edge_index.shape,data_train[0][1].edge_attr.shape"
      ],
      "id": "4fb77360-2c63-49b0-b28a-8504e43d07f0"
    },
    {
      "cell_type": "code",
      "execution_count": 116,
      "metadata": {},
      "outputs": [],
      "source": [
        "time"
      ],
      "id": "0f21c648-af87-41e7-b3af-d7fb39cfb952"
    },
    {
      "cell_type": "code",
      "execution_count": 117,
      "metadata": {},
      "outputs": [],
      "source": [
        "T_train = time\n",
        "N = len(data[0][1].x)"
      ],
      "id": "36994489-0aa8-4996-9c48-2597d0437a92"
    },
    {
      "cell_type": "code",
      "execution_count": 118,
      "metadata": {},
      "outputs": [],
      "source": [
        "edge_index = data_train[0][1].edge_index\n",
        "edge_attr = data_train[0][1].edge_attr"
      ],
      "id": "8df88929-b409-43b9-ac9e-4024823d3c8e"
    },
    {
      "cell_type": "code",
      "execution_count": 119,
      "metadata": {},
      "outputs": [],
      "source": [
        "x_train = []\n",
        "for i in range(time):\n",
        "    x_train.append(data_train[i][1].x)"
      ],
      "id": "539752d5-6814-4d66-a853-f7ec26a30653"
    },
    {
      "cell_type": "code",
      "execution_count": 120,
      "metadata": {},
      "outputs": [],
      "source": [
        "data_tensor = torch.Tensor()\n",
        "# Iterate over the data points of the dataset\n",
        "for i in x_train:\n",
        "    # Concatenate the data point to the tensor\n",
        "    data_tensor = torch.cat((data_tensor, i), dim=0)\n",
        "x_train = data_tensor.reshape(time,1068,-1)\n",
        "x_train.shape"
      ],
      "id": "691e1276-6c18-4ee6-a3e8-bb64dda7e92e"
    },
    {
      "cell_type": "code",
      "execution_count": 121,
      "metadata": {},
      "outputs": [],
      "source": [
        "y_train = []\n",
        "for i in range(time):\n",
        "    y_train.append(data_train[i][1].y)"
      ],
      "id": "57e991fd-e6f5-4fbf-b0cd-40b3530fa3d3"
    },
    {
      "cell_type": "code",
      "execution_count": 122,
      "metadata": {},
      "outputs": [],
      "source": [
        "data_tensor = torch.Tensor()\n",
        "# Iterate over the data points of the dataset\n",
        "for i in y_train:\n",
        "    # Concatenate the data point to the tensor\n",
        "    data_tensor = torch.cat((data_tensor, i), dim=0)\n",
        "y_train = data_tensor.reshape(time,1068)\n",
        "y_train.shape"
      ],
      "id": "e58d5aa1-221f-414b-8de8-30a07e10c04b"
    },
    {
      "cell_type": "code",
      "execution_count": 123,
      "metadata": {},
      "outputs": [],
      "source": [
        "x_train.shape, y_train.shape"
      ],
      "id": "cf6c8ca0-0772-4eaf-8431-d8f2bbabb2d1"
    },
    {
      "cell_type": "markdown",
      "metadata": {},
      "source": [
        "## Test"
      ],
      "id": "2a71b90f-c4c8-43f4-80bc-e1501bdbef52"
    },
    {
      "cell_type": "code",
      "execution_count": 124,
      "metadata": {},
      "outputs": [],
      "source": [
        "data_test=[]\n",
        "for time, snapshot in enumerate(test_dataset):\n",
        "    data_test.append([time,snapshot])"
      ],
      "id": "2c1a6812-5491-4131-a56b-9707227a3e86"
    },
    {
      "cell_type": "code",
      "execution_count": 125,
      "metadata": {},
      "outputs": [],
      "source": [
        "data_test[0][1].x.shape,data_test[0][1].y.shape,data_test[0][1].edge_index.shape,data_test[0][1].edge_attr.shape"
      ],
      "id": "c2f348c5-dfe5-499d-bfc9-59b2c5408ca8"
    },
    {
      "cell_type": "code",
      "execution_count": 126,
      "metadata": {},
      "outputs": [],
      "source": [
        "time"
      ],
      "id": "f93c85c2-241e-44ad-9e76-b6a45910b979"
    },
    {
      "cell_type": "code",
      "execution_count": 127,
      "metadata": {},
      "outputs": [],
      "source": [
        "T_test = time"
      ],
      "id": "b4b20ac1-acb3-4ed3-ae26-2db75a23f732"
    },
    {
      "cell_type": "code",
      "execution_count": 128,
      "metadata": {},
      "outputs": [],
      "source": [
        "x_test = []\n",
        "for i in range(time):\n",
        "    x_test.append(data_test[i][1].x)"
      ],
      "id": "ffbf397e-2243-4e88-8409-a396ca53eea7"
    },
    {
      "cell_type": "code",
      "execution_count": 129,
      "metadata": {},
      "outputs": [],
      "source": [
        "data_tensor = torch.Tensor()\n",
        "# Iterate over the data points of the dataset\n",
        "for i in x_test:\n",
        "    # Concatenate the data point to the tensor\n",
        "    data_tensor = torch.cat((data_tensor, i), dim=0)\n",
        "x_test = data_tensor.reshape(time,1068,-1)\n",
        "x_test.shape"
      ],
      "id": "36c93dfc-5646-4229-972e-030b2c0846f0"
    },
    {
      "cell_type": "code",
      "execution_count": 130,
      "metadata": {},
      "outputs": [],
      "source": [
        "y_test = []\n",
        "for i in range(time):\n",
        "    y_test.append(data_test[i][1].y)"
      ],
      "id": "6087bc10-dbc1-4a5b-85d8-18270379f7a5"
    },
    {
      "cell_type": "code",
      "execution_count": 131,
      "metadata": {},
      "outputs": [],
      "source": [
        "data_tensor = torch.Tensor()\n",
        "# Iterate over the data points of the dataset\n",
        "for i in y_test:\n",
        "    # Concatenate the data point to the tensor\n",
        "    data_tensor = torch.cat((data_tensor, i), dim=0)\n",
        "y_test = data_tensor.reshape(time,1068)\n",
        "y_test.shape"
      ],
      "id": "b5b5a56d-4444-41d9-9c77-0b5e003a52fe"
    },
    {
      "cell_type": "code",
      "execution_count": 132,
      "metadata": {},
      "outputs": [],
      "source": [
        "x_test.shape, y_test.shape"
      ],
      "id": "a5ffb6cf-8927-4f83-ad82-6c994885aa83"
    },
    {
      "cell_type": "markdown",
      "metadata": {},
      "source": [
        "# Randomly Missing Values"
      ],
      "id": "feea04b5-e363-4dca-88bf-4da71b4f5c69"
    },
    {
      "cell_type": "code",
      "execution_count": 189,
      "metadata": {},
      "outputs": [],
      "source": [
        "x_train = x_train.reshape(-1,N)"
      ],
      "id": "55096f4b-6a0d-4a64-b562-6f98827a748c"
    },
    {
      "cell_type": "code",
      "execution_count": 190,
      "metadata": {},
      "outputs": [],
      "source": [
        "np.random.seed(90)\n",
        "seed_number = np.random.choice(len(x_train),290,replace=False)"
      ],
      "id": "2f784c70-764f-4749-8a6f-f0f9f825b319"
    },
    {
      "cell_type": "code",
      "execution_count": 191,
      "metadata": {},
      "outputs": [],
      "source": [
        "x_train[seed_number] = float('nan')"
      ],
      "id": "9901ee78-8de8-4fbe-b2c0-183b685805ab"
    },
    {
      "cell_type": "markdown",
      "metadata": {},
      "source": [
        "# 1) Missing Value - Mean"
      ],
      "id": "d581fb72-5cb0-44d3-97d5-e00db6343e87"
    },
    {
      "cell_type": "code",
      "execution_count": 136,
      "metadata": {},
      "outputs": [],
      "source": [
        "x_train_mean = x_train.clone()"
      ],
      "id": "3fb14e42-e75d-401a-9090-3a3fe621898d"
    },
    {
      "cell_type": "code",
      "execution_count": 140,
      "metadata": {},
      "outputs": [],
      "source": [
        "df = pd.DataFrame(x_train_mean.tolist())\n",
        "mean_value = df.mean() # finds the mean value of the column A\n",
        "df = df.fillna(mean_value) # replace missing values with the mean value"
      ],
      "id": "6e31e63f-afb7-4b77-9a5d-347cba2708a2"
    },
    {
      "cell_type": "code",
      "execution_count": 143,
      "metadata": {},
      "outputs": [],
      "source": [
        "x_train_mean = torch.Tensor(df.values)"
      ],
      "id": "deba6311-2225-4a26-b7e1-17a0e2ad70d0"
    },
    {
      "cell_type": "markdown",
      "metadata": {},
      "source": [
        "## ST-GCN"
      ],
      "id": "80f9287e-7f7f-4cc5-bf86-9287af9cf815"
    },
    {
      "cell_type": "code",
      "execution_count": 146,
      "metadata": {},
      "outputs": [],
      "source": [
        "mean_f_train = x_train_mean.reshape(T_train,N,1).float()"
      ],
      "id": "ddfce4d0-1c41-4e83-a22b-1e14b73147ea"
    },
    {
      "cell_type": "code",
      "execution_count": 169,
      "metadata": {},
      "outputs": [],
      "source": [
        "mean_X = mean_f_train[:438,:,:]\n",
        "mean_y = mean_f_train[145:,:,:]"
      ],
      "id": "6118598c-c91a-4aa6-b287-4ccf16053d12"
    },
    {
      "cell_type": "code",
      "execution_count": 170,
      "metadata": {},
      "outputs": [],
      "source": [
        "mean_X.shape,mean_y.shape"
      ],
      "id": "120f9032-bee7-4e4d-ad51-272476349033"
    },
    {
      "cell_type": "code",
      "execution_count": 153,
      "metadata": {},
      "outputs": [
        {
          "output_type": "stream",
          "name": "stderr",
          "text": [
            "100%|██████████| 50/50 [04:17<00:00,  5.15s/it]"
          ]
        }
      ],
      "source": [
        "model = RecurrentGCN(node_features=1, filters=4)\n",
        "\n",
        "optimizer = torch.optim.Adam(model.parameters(), lr=0.01)\n",
        "\n",
        "model.train()\n",
        "\n",
        "for epoch in tqdm(range(50)):\n",
        "    for time, (xt,yt) in enumerate(zip(mean_X,mean_y)):\n",
        "        y_hat = model(xt, edge_index, edge_attr)\n",
        "        cost = torch.mean((y_hat-yt)**2)\n",
        "        cost.backward()\n",
        "        optimizer.step()\n",
        "        optimizer.zero_grad()"
      ],
      "id": "1f21925e-4202-46e9-8308-a33bd21fd187"
    },
    {
      "cell_type": "code",
      "execution_count": 210,
      "metadata": {},
      "outputs": [],
      "source": [
        "mean_X_fore = mean_f_train[438:,:]"
      ],
      "id": "95c2a9c1-44a6-4a0e-a621-f7e5e3d55371"
    },
    {
      "cell_type": "code",
      "execution_count": 212,
      "metadata": {},
      "outputs": [],
      "source": [
        "mean_fhat = torch.stack([model(xt, edge_index, edge_attr) for xt in mean_X_fore]).detach().numpy()"
      ],
      "id": "48932239-c2d6-4189-88cd-973f15dadbee"
    },
    {
      "cell_type": "code",
      "execution_count": 213,
      "metadata": {},
      "outputs": [],
      "source": [
        "mean_X_fore.shape,x_test.shape"
      ],
      "id": "bddd8fd6-2703-44f8-be1e-4d667001b292"
    },
    {
      "cell_type": "markdown",
      "metadata": {},
      "source": [
        "# 2) Missing Value - Linear Interpolation"
      ],
      "id": "fec07a1d-b63e-4f9c-a5a7-3da409d2caf9"
    },
    {
      "cell_type": "code",
      "execution_count": 192,
      "metadata": {},
      "outputs": [],
      "source": [
        "df = pd.DataFrame(x_train.tolist())\n",
        "df.interpolate(method='linear', inplace=True)\n",
        "df = df.fillna(0)"
      ],
      "id": "2b820586-f935-43cc-9560-07850090217b"
    },
    {
      "cell_type": "code",
      "execution_count": 196,
      "metadata": {},
      "outputs": [],
      "source": [
        "x_train_linear = torch.Tensor(df.values).reshape(T_train,N,1)"
      ],
      "id": "9a6ce81e-41b2-4ae6-b271-11fc2ca579ec"
    },
    {
      "cell_type": "markdown",
      "metadata": {},
      "source": [
        "## ST-GCN"
      ],
      "id": "9ee4c90f-dbc8-472b-b7ba-392ba43e7c62"
    },
    {
      "cell_type": "code",
      "execution_count": 197,
      "metadata": {},
      "outputs": [],
      "source": [
        "linear_f_train = x_train_linear.clone()"
      ],
      "id": "aab5946e-f679-4cac-bce1-83954b8dc0ef"
    },
    {
      "cell_type": "code",
      "execution_count": 199,
      "metadata": {},
      "outputs": [],
      "source": [
        "linear_X = linear_f_train[:438,:,:]\n",
        "linear_y = linear_f_train[145:,:,:]"
      ],
      "id": "9ab7b3cb-55a0-4122-a2f3-84a95968ead0"
    },
    {
      "cell_type": "code",
      "execution_count": 200,
      "metadata": {},
      "outputs": [
        {
          "output_type": "stream",
          "name": "stderr",
          "text": [
            "100%|██████████| 50/50 [04:20<00:00,  5.22s/it]"
          ]
        }
      ],
      "source": [
        "model = RecurrentGCN(node_features=1, filters=4)\n",
        "\n",
        "optimizer = torch.optim.Adam(model.parameters(), lr=0.01)\n",
        "\n",
        "model.train()\n",
        "\n",
        "for epoch in tqdm(range(50)):\n",
        "    for time, (xt,yt) in enumerate(zip(linear_X,linear_y)):\n",
        "        y_hat = model(xt, edge_index, edge_attr)\n",
        "        cost = torch.mean((y_hat-yt)**2)\n",
        "        cost.backward()\n",
        "        optimizer.step()\n",
        "        optimizer.zero_grad()"
      ],
      "id": "bc0da7ca-4228-4366-8cd0-95ebad817c6b"
    },
    {
      "cell_type": "code",
      "execution_count": 237,
      "metadata": {},
      "outputs": [],
      "source": [
        "linear_X_fore = linear_f_train[438:,:]"
      ],
      "id": "c83f6149-c8d5-48c8-83b9-d990864eab37"
    },
    {
      "cell_type": "code",
      "execution_count": 238,
      "metadata": {},
      "outputs": [],
      "source": [
        "linear_X_fore.shape"
      ],
      "id": "057cce6f-b61b-4451-9272-e8db5ddd11ab"
    },
    {
      "cell_type": "code",
      "execution_count": 239,
      "metadata": {},
      "outputs": [],
      "source": [
        "linear_fhat = torch.stack([model(xt, edge_index, edge_attr) for xt in linear_X_fore]).detach().numpy()"
      ],
      "id": "90074f54-2fdc-4b6f-aa30-55e4aad992e2"
    },
    {
      "cell_type": "code",
      "execution_count": 240,
      "metadata": {},
      "outputs": [],
      "source": [
        "linear_X_fore.shape,x_test.shape"
      ],
      "id": "85ea705e-8365-45c1-a0e9-5f5f10136e28"
    },
    {
      "cell_type": "markdown",
      "metadata": {},
      "source": [
        "# Comparison\n",
        "\n",
        "MSE"
      ],
      "id": "2cbc646a-d554-46db-9a59-a72cd580b4db"
    },
    {
      "cell_type": "code",
      "execution_count": 235,
      "metadata": {},
      "outputs": [],
      "source": [
        "((pd.DataFrame(mean_fhat.reshape(T_test,N)) -  pd.DataFrame(x_test.reshape(T_test,N)))**2).mean()"
      ],
      "id": "44fa892c-8f12-4ed7-87e9-0996cfea7c80"
    },
    {
      "cell_type": "code",
      "execution_count": 241,
      "metadata": {},
      "outputs": [],
      "source": [
        "((pd.DataFrame(linear_fhat.reshape(T_test,N)) -  pd.DataFrame(x_test.reshape(T_test,N)))**2).mean()"
      ],
      "id": "9e28fef5-c8cc-4922-b5a8-566e3e9446a7"
    }
  ],
  "nbformat": 4,
  "nbformat_minor": 5,
  "metadata": {
    "kernelspec": {
      "name": "python3",
      "display_name": "Python 3 (ipykernel)",
      "language": "python"
    },
    "language_info": {
      "name": "python",
      "codemirror_mode": {
        "name": "ipython",
        "version": "3"
      },
      "file_extension": ".py",
      "mimetype": "text/x-python",
      "nbconvert_exporter": "python",
      "pygments_lexer": "ipython3",
      "version": "3.8.12"
    }
  }
}
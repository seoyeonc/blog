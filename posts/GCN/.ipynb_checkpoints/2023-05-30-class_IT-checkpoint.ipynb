{
 "cells": [
  {
   "cell_type": "raw",
   "id": "7de8aa97-ef30-4a21-992c-85e4a36cd26a",
   "metadata": {
    "id": "cac470df-29e7-4148-9bbd-d8b9a32fa570",
    "tags": []
   },
   "source": [
    "---\n",
    "title: \"Class Iterative Threshold\"\n",
    "author: \"SEOYEON CHOI\"\n",
    "date: \"2023-05-30\"\n",
    "categories:\n",
    "  - Ierative Treshold\n",
    "---"
   ]
  },
  {
   "cell_type": "markdown",
   "id": "7c8bd61e-9e35-4892-982e-66831d70749c",
   "metadata": {
    "tags": []
   },
   "source": [
    "> summerizing it"
   ]
  },
  {
   "cell_type": "code",
   "execution_count": 9,
   "id": "d5a5613d-8932-4c6b-9df4-83b94994c229",
   "metadata": {},
   "outputs": [],
   "source": [
    "import itstgcnsnd\n",
    "import torch\n",
    "import itstgcnsnd.planner "
   ]
  },
  {
   "cell_type": "code",
   "execution_count": 10,
   "id": "092dc01f-b1fc-4f13-bb87-7dc147600d31",
   "metadata": {},
   "outputs": [],
   "source": [
    "from torch_geometric_temporal.dataset import PedalMeDatasetLoader\n",
    "loader2 = PedalMeDatasetLoader()"
   ]
  },
  {
   "cell_type": "code",
   "execution_count": 14,
   "id": "2bc0e7d6-be1e-41b4-9f6b-31e8627501f8",
   "metadata": {},
   "outputs": [],
   "source": [
    "my_list = [[] for _ in range(15)] #pedalme\n",
    "another_list = list(range(5,25))\n",
    "my_list[2] = another_list\n",
    "my_list[4] = another_list\n",
    "my_list[7] = another_list\n",
    "my_list[11] = another_list\n",
    "mindex = my_list"
   ]
  },
  {
   "cell_type": "code",
   "execution_count": 15,
   "id": "e3892b3a-a448-4e4f-905f-4c0979ecdbc2",
   "metadata": {},
   "outputs": [],
   "source": [
    "# mindex= [[],[],[],list(range(50,150)),[]]  # node 1\n",
    "# mindex= [list(range(10,100)),[],list(range(50,80)),[],[]] # node 2\n",
    "# mindex= [list(range(10,100)),[],list(range(50,80)),list(range(50,150)),[]] # node3\n",
    "plans_stgcn_block = {\n",
    "    'max_iteration': 30, \n",
    "    'method': ['STGCN', 'IT-STGCN'], \n",
    "    'mindex': [mindex],\n",
    "    'lags': [4], \n",
    "    'nof_filters': [12], \n",
    "    'inter_method': ['linear','nearest'],\n",
    "    'epoch': [50]\n",
    "}"
   ]
  },
  {
   "cell_type": "code",
   "execution_count": null,
   "id": "c1e61966-4446-4458-9313-1c97089d1ce0",
   "metadata": {},
   "outputs": [
    {
     "name": "stdout",
     "output_type": "stream",
     "text": [
      "1/30 is done\n",
      "2/30 is done\n",
      "3/30 is done\n",
      "4/30 is done\n",
      "5/30 is done\n",
      "6/30 is done\n",
      "7/30 is done\n",
      "8/30 is done\n",
      "9/30 is done\n",
      "11/50\r"
     ]
    }
   ],
   "source": [
    "plnr = itstgcnsnd.planner.PLNR_STGCN_MANUAL(plans_stgcn_block,loader2,dataset_name='pedalme')\n",
    "plnr.simulate(mindex=mindex,mtype='block')"
   ]
  },
  {
   "cell_type": "code",
   "execution_count": null,
   "id": "6d651a8c-783d-41de-868a-bea447e55978",
   "metadata": {},
   "outputs": [],
   "source": []
  },
  {
   "cell_type": "code",
   "execution_count": null,
   "id": "82ab37ee-4f85-4ae3-b55c-ce679d8b61a2",
   "metadata": {},
   "outputs": [],
   "source": []
  },
  {
   "cell_type": "code",
   "execution_count": null,
   "id": "db1926ae-0437-429a-8a40-3a618b90547e",
   "metadata": {},
   "outputs": [],
   "source": []
  },
  {
   "cell_type": "code",
   "execution_count": 1,
   "id": "2682bfe5-727b-4b6e-8131-873acca7b238",
   "metadata": {},
   "outputs": [],
   "source": [
    "import torch"
   ]
  },
  {
   "cell_type": "code",
   "execution_count": null,
   "id": "4427a8cc-c4e4-4e03-88ee-bf966de11fa1",
   "metadata": {},
   "outputs": [],
   "source": [
    "class IT_layer(torch.nn.Module):\n",
    "    def __init(self,in_features):\n",
    "        super().__init__()\n",
    "        if Graph_fourier:\n",
    "            self.bias = Parameter(torch.empty(out_features, **factory_kwargs))\n",
    "        else:\n",
    "            self.register_parameter('bias', None)\n",
    "        self.trim()        \n",
    "    \n",
    "    def make_Psi(T):\n",
    "        W = np.zeros((T,T))\n",
    "        for i in range(T):\n",
    "            for j in range(T):\n",
    "                if i==j :\n",
    "                    W[i,j] = 0\n",
    "                elif np.abs(i-j) <= 1 : \n",
    "                    W[i,j] = 1\n",
    "        d = np.array(W.sum(axis=1))\n",
    "        D = np.diag(d)\n",
    "        L = np.array(np.diag(1/np.sqrt(d)) @ (D-W) @ np.diag(1/np.sqrt(d)))\n",
    "        lamb, Psi = np.linalg.eigh(L)\n",
    "        return Psi\n",
    "\n",
    "    def trim(f):\n",
    "        f = np.array(f)\n",
    "        if len(f.shape)==1: f = f.reshape(-1,1)\n",
    "        T,N = f.shape\n",
    "        Psi = make_Psi(T)\n",
    "        fbar = Psi.T @ f # apply dft \n",
    "        fbar_threshed = np.stack([ebayesthresh(FloatVector(fbar[:,i])) for i in range(N)],axis=1)\n",
    "        fhat = Psi @ fbar_threshed # inverse dft \n",
    "        return fhat"
   ]
  },
  {
   "cell_type": "code",
   "execution_count": null,
   "id": "3415e166-ffb9-48f8-ae45-3d6cb6774b5d",
   "metadata": {},
   "outputs": [],
   "source": [
    "torch.nn.Module.linear?"
   ]
  },
  {
   "cell_type": "code",
   "execution_count": null,
   "id": "e86cf8b6-a0c4-4dd3-8dfd-1f1c6eaf690b",
   "metadata": {},
   "outputs": [],
   "source": [
    "def flatten_weight(T,N,ws,wt):\n",
    "    Is = np.eye(N,N)\n",
    "    lst = [[0]*T for t in range(T)]\n",
    "    for i in range(T):\n",
    "        for j in range(T):\n",
    "            if i==j: \n",
    "                lst[i][j] = ws \n",
    "            elif abs(i-j)==1:\n",
    "                lst[i][j] = Is\n",
    "            else:\n",
    "                lst[i][j] = Is*0\n",
    "    return np.concatenate([np.concatenate(l,axis=1) for l in lst],axis=0) # TN*TN matrix\n",
    "\n",
    "def make_Psi(T,N,edge_index,edge_weight):\n",
    "    wt = np.zeros((T,T))\n",
    "    for i in range(T):\n",
    "        for j in range(T):\n",
    "            if i==j :\n",
    "                wt[i,j] = 0\n",
    "            elif np.abs(i-j) <= 1 : \n",
    "                wt[i,j] = 1\n",
    "    ws = np.zeros((N,N))\n",
    "    for i in range(N):\n",
    "        for j in range(edge_weight.shape[0]):\n",
    "            if edge_index[0][j] == i :\n",
    "                ws[i,edge_index[1][j]] = edge_weight[j]\n",
    "    W = flatten_weight(T,N,ws,wt) # TN*TN matrix\n",
    "    d = np.array(W.sum(axis=1))\n",
    "    D = np.diag(d)\n",
    "    L = np.array(np.diag(1/np.sqrt(d)) @ (D-W) @ np.diag(1/np.sqrt(d)))\n",
    "    lamb, Psi = np.linalg.eigh(L)\n",
    "    return Psi # TN*TN matrix"
   ]
  },
  {
   "cell_type": "markdown",
   "id": "949388d2-a639-4a53-976e-1391370a3435",
   "metadata": {},
   "source": [
    "https://pytorch.org/vision/main/datasets.html"
   ]
  },
  {
   "cell_type": "code",
   "execution_count": 2,
   "id": "29282c15-6cf6-45a8-aebe-3a0f73676824",
   "metadata": {},
   "outputs": [
    {
     "data": {
      "text/plain": [
       "\u001b[0;31mType:\u001b[0m        module\n",
       "\u001b[0;31mString form:\u001b[0m <module 'torch.utils.data.dataloader' from '/home/csy/anaconda3/envs/temp_csy/lib/python3.8/site-packages/torch/utils/data/dataloader.py'>\n",
       "\u001b[0;31mFile:\u001b[0m        ~/anaconda3/envs/temp_csy/lib/python3.8/site-packages/torch/utils/data/dataloader.py\n",
       "\u001b[0;31mDocstring:\u001b[0m  \n",
       "Definition of the DataLoader and associated iterators that subclass _BaseDataLoaderIter\n",
       "\n",
       "To support these two classes, in `./_utils` we define many utility methods and\n",
       "functions to be run in multiprocessing. E.g., the data loading worker loop is\n",
       "in `./_utils/worker.py`.\n"
      ]
     },
     "metadata": {},
     "output_type": "display_data"
    }
   ],
   "source": [
    "torch.utils.data.dataloader?"
   ]
  },
  {
   "cell_type": "code",
   "execution_count": null,
   "id": "876c7ed4-88a6-4eea-a9c6-4b14b12d38fb",
   "metadata": {},
   "outputs": [],
   "source": []
  }
 ],
 "metadata": {
  "kernelspec": {
   "display_name": "Python 3",
   "language": "python",
   "name": "python3"
  },
  "language_info": {
   "codemirror_mode": {
    "name": "ipython",
    "version": 3
   },
   "file_extension": ".py",
   "mimetype": "text/x-python",
   "name": "python",
   "nbconvert_exporter": "python",
   "pygments_lexer": "ipython3",
   "version": "3.8.0"
  }
 },
 "nbformat": 4,
 "nbformat_minor": 5
}

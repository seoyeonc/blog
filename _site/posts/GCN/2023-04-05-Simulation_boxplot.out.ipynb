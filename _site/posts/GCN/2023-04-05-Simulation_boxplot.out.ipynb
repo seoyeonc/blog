{
  "cells": [
    {
      "cell_type": "markdown",
      "metadata": {},
      "source": [
        "# Simulation\n",
        "\n",
        "SEOYEON CHOI  \n",
        "4/5/23\n",
        "\n",
        "> Simulation Study\n",
        "\n",
        "# Import\n",
        "\n",
        "데이터 함쳐놓기\n",
        "\n",
        "``` python\n",
        "import pandas as pd\n",
        "\n",
        "_a = pd.read_csv('./simulation_results/a.csv')\n",
        "_b = pd.read_csv('./simulation_results/b.csv')\n",
        "_c = pd.read_csv('./simulation_results/STGCN_ITSTGCN_random_epoch200.csv')\n",
        "\n",
        "_df = pd.concat([_a,_b,_c],axis=0)\n",
        "\n",
        "_df\n",
        "\n",
        "_df.to_csv('./simulation_results/STGCN_ITSTGCN_random_epoch200_2.csv',index=False)\n",
        "```"
      ],
      "id": "cae1d97d-d4fc-449b-acdd-851fb37d7988"
    },
    {
      "cell_type": "code",
      "execution_count": 1,
      "metadata": {},
      "outputs": [],
      "source": [
        "import matplotlib.pyplot as plt\n",
        "import pandas as pd\n",
        "import numpy as np"
      ],
      "id": "af633e13-3e6b-4ac6-86ba-e1b7ca347eb9"
    },
    {
      "cell_type": "markdown",
      "metadata": {},
      "source": [
        "# Fivenodes\n",
        "\n",
        "**random**\n",
        "\n",
        "-   lags = 2\n",
        "    -   GNAR 문서에 나온 대로 AR(2) 모형\n",
        "\n",
        "1.  mrate = 0.8, filter = 12, epoch = 150\n",
        "2.  mrate = 0.3, filter = 8, epoch = 50\n",
        "\n",
        "-   interpolation = linear 또는 cubic, nearest 는 mse 너무 우리 방법에서\n",
        "    안 좋다.\n",
        "\n",
        "**block**\n",
        "\n",
        "random"
      ],
      "id": "d21509ad-0d3f-470a-923b-81a0cff83031"
    },
    {
      "cell_type": "code",
      "execution_count": 2,
      "metadata": {},
      "outputs": [],
      "source": [
        "df1 = pd.read_csv('./simulation_results/fivenodes/fivenodes_STGCN_ITSTGCN_random_epoch50.csv')\n",
        "df2 = pd.read_csv('./simulation_results/fivenodes/fivenodes_STGCN_ITSTGCN_random_epoch100.csv')\n",
        "df3 = pd.read_csv('./simulation_results/fivenodes/fivenodes_STGCN_ITSTGCN_random_epoch150.csv')\n",
        "df4 = pd.read_csv('./simulation_results/fivenodes/fivenodes_STGCN_ITSTGCN_random_epoch200.csv')"
      ],
      "id": "9c3dd0cf-9832-4d03-a0f9-02cdfd5e39c9"
    },
    {
      "cell_type": "code",
      "execution_count": 3,
      "metadata": {},
      "outputs": [],
      "source": [
        "df_gnar = pd.read_csv('./simulation_results/fivenodes/fivenodes_GNAR_random.csv')"
      ],
      "id": "ccd624f0-45f2-4350-9aaa-e07dba26f228"
    },
    {
      "cell_type": "code",
      "execution_count": 4,
      "metadata": {},
      "outputs": [],
      "source": [
        "data = pd.concat([df1,df2,df3,df4,df_gnar],axis=0)"
      ],
      "id": "a3c914e5-bdf1-4807-991d-5b2abe3cbb00"
    },
    {
      "cell_type": "code",
      "execution_count": 5,
      "metadata": {},
      "outputs": [],
      "source": [
        "data.query(\"method!='GNAR' and inter_method=='linear' and lags==2\").plot.box(backend='plotly',x='mrate',color='method',y='mse',facet_col='epoch',facet_row='nof_filters',height=1200)\n"
      ],
      "id": "6225a5e8-ffad-4c58-a5f0-f9ee63e3d2b3"
    },
    {
      "cell_type": "markdown",
      "metadata": {},
      "source": [
        "시뮬 예정(평균 시간, 평균mse)\n",
        "\n",
        "0.7,0.75,0.8,0.85\n",
        "\n",
        "12,16\n",
        "\n",
        "150"
      ],
      "id": "7c085b1e-fc61-49da-8e97-04d92ff7f75f"
    },
    {
      "cell_type": "code",
      "execution_count": 6,
      "metadata": {},
      "outputs": [],
      "source": [
        "# 1. mrate = 0.8, filter = 12, epoch = 150\n",
        "data.query(\"mrate==0.8 and inter_method=='linear' and nof_filters==12 and epoch==150 and lags==2\")['calculation_time'].mean(),data.query(\"mrate==0.8 and inter_method=='linear' and nof_filters==12 and epoch==150 and lags==2\")['mse'].mean()"
      ],
      "id": "79a8e03f-5654-4c21-93f6-7c0584222471"
    },
    {
      "cell_type": "code",
      "execution_count": 7,
      "metadata": {},
      "outputs": [],
      "source": [
        "data.query(\"mrate==0.8 and inter_method=='linear' and nof_filters==12 and epoch==150 and lags==2\").plot.box(backend='plotly',x='mrate',color='method',y='mse',facet_col='epoch',facet_row='nof_filters',height=400)"
      ],
      "id": "c8a679f9-250b-4c4f-9a04-ff9fbbaa8490"
    },
    {
      "cell_type": "markdown",
      "metadata": {},
      "source": [
        "block"
      ],
      "id": "f11642aa-289e-443c-be2e-8335009b7935"
    },
    {
      "cell_type": "code",
      "execution_count": 8,
      "metadata": {},
      "outputs": [],
      "source": [
        "df1 = pd.read_csv('./simulation_results/fivenodes/fivenodes_STGCN_ITSTGCN_block_node1_epoch50.csv')\n",
        "df2 = pd.read_csv('./simulation_results/fivenodes/fivenodes_STGCN_ITSTGCN_block_node1_epoch100.csv')\n",
        "df3 = pd.read_csv('./simulation_results/fivenodes/fivenodes_STGCN_ITSTGCN_block_node1_epoch150.csv')\n",
        "df4 = pd.read_csv('./simulation_results/fivenodes/fivenodes_STGCN_ITSTGCN_block_node1_epoch200.csv')\n",
        "df5 = pd.read_csv('./simulation_results/fivenodes/fivenodes_STGCN_ITSTGCN_block_node2_epoch50.csv')\n",
        "df6 = pd.read_csv('./simulation_results/fivenodes/fivenodes_STGCN_ITSTGCN_block_node2_epoch100.csv')\n",
        "df7 = pd.read_csv('./simulation_results/fivenodes/fivenodes_STGCN_ITSTGCN_block_node2_epoch150.csv')\n",
        "df8 = pd.read_csv('./simulation_results/fivenodes/fivenodes_GNAR_block_node1.csv')\n",
        "df9 = pd.read_csv('./simulation_results/fivenodes/fivenodes_GNAR_block_node2.csv')"
      ],
      "id": "29874364-754f-47f4-ae53-94df1e1e236e"
    },
    {
      "cell_type": "code",
      "execution_count": 9,
      "metadata": {},
      "outputs": [],
      "source": [
        "df1['block']=1\n",
        "df2['block']=1\n",
        "df3['block']=1\n",
        "df4['block']=1\n",
        "df5['block']=2\n",
        "df6['block']=2\n",
        "df7['block']=2\n",
        "df8['block']=1\n",
        "df9['block']=2"
      ],
      "id": "7854e8f6-a024-4f92-8fe4-2ac997a75206"
    },
    {
      "cell_type": "code",
      "execution_count": 10,
      "metadata": {},
      "outputs": [],
      "source": [
        "data2 = pd.concat([df1,df2,df3,df4,df5,df6,df7,df8,df9],axis=0)"
      ],
      "id": "144eae35-b257-4f31-8669-250e30324f05"
    },
    {
      "cell_type": "code",
      "execution_count": 11,
      "metadata": {},
      "outputs": [],
      "source": [
        "data2.query(\"method=='GNAR' and block == 1\")['mse'].mean(),data2.query(\"method=='GNAR' and block == 2\")['mse'].mean()"
      ],
      "id": "deac754f-efdf-4a8c-ab42-9622f34a0378"
    },
    {
      "cell_type": "code",
      "execution_count": 12,
      "metadata": {},
      "outputs": [],
      "source": [
        "data2.query(\"method=='GNAR' and inter_method == 'linear'\")['mse'].mean(),data2.query(\"method=='GNAR' and inter_method == 'nearest'\")['mse'].mean() # 차이 없음"
      ],
      "id": "4cbddd85-e543-4d49-bf61-6c184402e8a9"
    },
    {
      "cell_type": "code",
      "execution_count": 13,
      "metadata": {},
      "outputs": [],
      "source": [
        "data2.query(\"epoch==50\")['calculation_time'].mean(),data2.query(\"epoch==50\")['calculation_time'].max()"
      ],
      "id": "c160cf30-4c81-42d9-bbee-16fe32edbafc"
    },
    {
      "cell_type": "code",
      "execution_count": 14,
      "metadata": {},
      "outputs": [],
      "source": [
        "data2.query(\"epoch==150\")['calculation_time'].mean(),data2.query(\"epoch==150\")['calculation_time'].max()"
      ],
      "id": "1e16510f-39ce-4008-90b2-cf63471e10a8"
    },
    {
      "cell_type": "code",
      "execution_count": 15,
      "metadata": {},
      "outputs": [],
      "source": [
        "data2.query(\"method!='GNAR' and lags == 2 and inter_method=='nearest'\").plot.box(backend='plotly',x='block',color='method',y='mse',facet_col='epoch',facet_row='nof_filters',height=800)\n"
      ],
      "id": "25b42906-1f9b-4465-ba88-613198235c01"
    },
    {
      "cell_type": "code",
      "execution_count": 16,
      "metadata": {},
      "outputs": [],
      "source": [
        "data2.query(\"inter_method=='linear' and epoch==150\").plot.box(backend='plotly',x='block',color='method',y='mse',facet_col='lags',facet_row='nof_filters',height=1200)\n"
      ],
      "id": "036d5e24-34d7-4603-8edc-189c4ad7aada"
    },
    {
      "cell_type": "markdown",
      "metadata": {},
      "source": [
        "시뮬 예정(평균 시간, 평균mse)\n",
        "\n",
        "block 1,2 위 세팅 그대로\n",
        "\n",
        "랜덤ㅁ 말고 block만"
      ],
      "id": "fed86e8f-2a61-4205-a4d9-df597be23e74"
    },
    {
      "cell_type": "code",
      "execution_count": 17,
      "metadata": {},
      "outputs": [],
      "source": [
        "# 1. block = 2 interpolation = linear, filter = 12, epoch = 150\n",
        "data2.query(\"block==1 and inter_method=='linear' and nof_filters==12 and epoch==50 and lags==2\")['calculation_time'].mean(),data2.query(\"block==2 and inter_method=='linear' and nof_filters==12 and epoch==50 and lags==2\")['mse'].mean()"
      ],
      "id": "002ccd28-4181-42e5-9f99-2454cbe1b953"
    },
    {
      "cell_type": "code",
      "execution_count": 18,
      "metadata": {},
      "outputs": [],
      "source": [
        "data2.query(\"block==1 and inter_method=='linear' and nof_filters==12 and epoch==50 and lags==2\").plot.box(backend='plotly',x='block',color='method',y='mse',facet_col='epoch',facet_row='nof_filters',height=400)"
      ],
      "id": "ee40bfa6-2011-4683-b14c-7b0164114d8b"
    },
    {
      "cell_type": "markdown",
      "metadata": {},
      "source": [
        "# fivenodes simulation result\n",
        "\n",
        "``` python\n",
        "mindex= [[],[],[],list(range(50,150)),[]] # block 1\n",
        "mindex= [list(range(10,100)),[],list(range(50,80)),[],[]] # node 2 30% mmissing\n",
        "```\n",
        "\n",
        "block 조건"
      ],
      "id": "038cef04-f36d-4adb-a453-3320976d8417"
    },
    {
      "cell_type": "code",
      "execution_count": 19,
      "metadata": {},
      "outputs": [],
      "source": [
        "df1 = pd.read_csv('./simulation_results/2023-04-09_23-37-17.csv') # GNAR random\n",
        "df2 = pd.read_csv('./simulation_results/2023-04-10_07-06-32.csv') # STGCN, ITSTGCN random 70%, 75%\n",
        "df3 = pd.read_csv('./simulation_results/2023-04-10_14-54-51.csv') # STGCN, ITSTGCN random 80%, 85%\n",
        "df4 = pd.read_csv('./simulation_results/2023-04-10_15-54-03.csv') # GNAR block 1\n",
        "df5 = pd.read_csv('./simulation_results/2023-04-10_15-56-27.csv') # GNAR block 2\n",
        "df6 = pd.read_csv('./simulation_results/2023-04-10_23-44-52.csv') # STGCN, ITSTGCN block 1\n",
        "df7 = pd.read_csv('./simulation_results/2023-04-11_04-40-00.csv') # STGCN, ITSTGCN block 2\n",
        "df8 = pd.read_csv('./simulation_results/2023-04-14_21-21-34.csv') # S/TGCN, ITSTGCN missing 0"
      ],
      "id": "217f40c5-705c-4cfe-a4e5-5d2436888490"
    },
    {
      "cell_type": "code",
      "execution_count": 20,
      "metadata": {},
      "outputs": [],
      "source": [
        "data = pd.concat([df1,df2, df3, df4,df5,df6,df7,df8],axis=0);data"
      ],
      "id": "ec3b5411-8a39-457f-9c6f-02e67c66c65e"
    },
    {
      "cell_type": "code",
      "execution_count": 21,
      "metadata": {},
      "outputs": [],
      "source": [
        "data.to_csv('./simulation_results/Real_simulation/fivedones_Simulation.csv',index=False)"
      ],
      "id": "a11ecb24-aafb-41b9-b2e9-888d67ac2cb7"
    },
    {
      "cell_type": "code",
      "execution_count": 22,
      "metadata": {},
      "outputs": [],
      "source": [
        "data = pd.read_csv('./simulation_results/Real_simulation/fivedones_Simulation.csv')"
      ],
      "id": "bbb80d76-dd4b-40b4-a043-c3146355b5a1"
    },
    {
      "cell_type": "code",
      "execution_count": 23,
      "metadata": {},
      "outputs": [],
      "source": [
        "data.query(\"method=='GNAR' and mtype == 'rand'\")['mse'].mean(),data.query(\"method=='GNAR' and mtype != 'rand'\")['mse'].mean()"
      ],
      "id": "f24ea7c7-b33c-4a78-9183-9590bdc03f38"
    },
    {
      "cell_type": "code",
      "execution_count": 24,
      "metadata": {},
      "outputs": [],
      "source": [
        "data.query(\"method=='STGCN' and mtype == 'rand'\")['mse'].mean(),data.query(\"method=='STGCN' and mtype != 'rand'\")['mse'].mean()"
      ],
      "id": "e6a75973-560c-4882-a9f6-714ef1e3cf4d"
    },
    {
      "cell_type": "code",
      "execution_count": 25,
      "metadata": {},
      "outputs": [],
      "source": [
        "data.query(\"method=='IT-STGCN' and mtype == 'rand'\")['mse'].mean(),data.query(\"method=='IT-STGCN' and mtype != 'rand'\")['mse'].mean()"
      ],
      "id": "92b63070-e0fd-43ff-a680-701b38cf77d4"
    },
    {
      "cell_type": "markdown",
      "metadata": {},
      "source": [
        "Baseline"
      ],
      "id": "40e0e0f3-ff29-4016-93d2-a46adf55b9e1"
    },
    {
      "cell_type": "code",
      "execution_count": 26,
      "metadata": {
        "tags": []
      },
      "outputs": [],
      "source": [
        "data.query(\"method!='GNAR' and mrate==0\").plot.box(backend='plotly',x='mrate',color='method',y='mse',facet_col='nof_filters',height=600)\n"
      ],
      "id": "48b050a9-f196-4031-8b32-a237dc402c74"
    },
    {
      "cell_type": "code",
      "execution_count": 27,
      "metadata": {},
      "outputs": [],
      "source": [
        "data.query(\"method!='GNAR' and mtype =='rand' and (mrate==0.7 or mrate==0.75)\").plot.box(backend='plotly',x='mrate',color='method',y='mse',facet_col='nof_filters',facet_row='inter_method',height=600)\n"
      ],
      "id": "ab83d91f-2dd8-4de4-a54a-a3fe550cef4f"
    },
    {
      "cell_type": "code",
      "execution_count": 28,
      "metadata": {},
      "outputs": [],
      "source": [
        "data.query(\"method!='GNAR' and mtype =='rand'  and (mrate==0.8 or mrate==0.85)\").plot.box(backend='plotly',x='mrate',color='method',y='mse',facet_col='nof_filters',facet_row='inter_method',height=600)\n"
      ],
      "id": "509aede9-2c05-412c-9e69-06117dd3278a"
    },
    {
      "cell_type": "code",
      "execution_count": 29,
      "metadata": {},
      "outputs": [],
      "source": [
        "data.query(\"method!='GNAR' and mtype =='block' and inter_method=='linear' \").plot.box(backend='plotly',x='mrate',color='method',y='mse',facet_col='nof_filters',facet_row='inter_method',height=600)\n"
      ],
      "id": "605ed604-c799-450f-bfab-5ef2e197b65e"
    },
    {
      "cell_type": "markdown",
      "metadata": {},
      "source": [
        "# fivenodes DCRNN result"
      ],
      "id": "dd1ee785-67d0-44a1-bf27-ffb27d8ce01b"
    },
    {
      "cell_type": "code",
      "execution_count": 196,
      "metadata": {},
      "outputs": [],
      "source": [
        "df1 = pd.read_csv('./simulation_results/2023-05-14_19-10-37.csv')\n",
        "# df2 = pd.read_csv('./simulation_results/2023-04-27_22-09-07.csv')\n",
        "# df3 = pd.read_csv('./simulation_results/2023-04-28_14-40-59.csv')"
      ],
      "id": "c0b1e57f-b193-420f-88ee-b339336d4d92"
    },
    {
      "cell_type": "code",
      "execution_count": 197,
      "metadata": {},
      "outputs": [],
      "source": [
        "data = pd.concat([df1],axis=0)"
      ],
      "id": "5c52f8ff-9e23-44dc-ab2d-465072fe2cbc"
    },
    {
      "cell_type": "code",
      "execution_count": 199,
      "metadata": {},
      "outputs": [],
      "source": [
        "data"
      ],
      "id": "dced0f8c-bdf4-4602-8f2f-12bb9eb7cb8c"
    },
    {
      "cell_type": "code",
      "execution_count": 200,
      "metadata": {},
      "outputs": [],
      "source": [
        "data.to_csv('./simulation_results/DCRNN/fivenodes_DVRNN.csv',index=False)"
      ],
      "id": "ac2253c8-efc7-4171-9e67-bf79117be43a"
    },
    {
      "cell_type": "code",
      "execution_count": 202,
      "metadata": {},
      "outputs": [],
      "source": [
        "data = pd.read_csv('./simulation_results/DCRNN/fivenodes_DVRNN.csv')"
      ],
      "id": "11779fc9-064e-40d5-85c2-05e290755d10"
    },
    {
      "cell_type": "markdown",
      "metadata": {},
      "source": [
        "# chickenpox\n",
        "\n",
        "random\n",
        "\n",
        "-   공식 패키지: lags 4 지정\n",
        "-   mrate = 0.3\n",
        "    -   결측값 비율 크니까 오차 많이 커지는 경향 있어서\n",
        "-   nof_filters = 4\n",
        "    -   차이 없어서\n",
        "-   lags = 4, 8\n",
        "    -   클 수록 작아지는 경향 있어서\n",
        "-   GNAR보다 MSE는 낮음\n",
        "-   cal_time\n",
        "    -   mean = 10\n",
        "    -   max = 21\n",
        "-   block 은 임의로 한 노드만 해 본 결과임"
      ],
      "id": "b31aaaf2-a859-4961-84b7-8983f8b53287"
    },
    {
      "cell_type": "code",
      "execution_count": 30,
      "metadata": {},
      "outputs": [],
      "source": [
        "data = pd.read_csv('./simulation_results/chickenpox_random.csv').sort_values(by='lags')"
      ],
      "id": "94523958-39c5-478c-8533-bec9c9bd9e12"
    },
    {
      "cell_type": "code",
      "execution_count": 31,
      "metadata": {},
      "outputs": [],
      "source": [
        "data.query(\"method!='GNAR'\")['calculation_time'].mean(),data.query(\"method!='GNAR'\")['calculation_time'].max(),data.query(\"method!='GNAR'\")['calculation_time'].min()"
      ],
      "id": "fd581589-5d06-4ad3-b3f6-beae6e0524c8"
    },
    {
      "cell_type": "code",
      "execution_count": 32,
      "metadata": {},
      "outputs": [],
      "source": [
        "data.query(\"method!='GNAR' and inter_method=='cubic' and mrate==0.3\").plot.box(backend='plotly',x='mrate',color='method',y='mse',facet_col='lags',facet_row='nof_filters',height=1200)\n"
      ],
      "id": "91c91172-c716-4da9-96fb-7d74121d9d01"
    },
    {
      "cell_type": "code",
      "execution_count": 33,
      "metadata": {},
      "outputs": [],
      "source": [
        "data.query(\"method=='GNAR' and inter_method=='linear'\").plot.box(backend='plotly',x='mrate',color='method',y='mse',facet_col='lags',height=600)\n"
      ],
      "id": "74dbccdd-52f0-4840-b948-dd2430e7ec26"
    },
    {
      "cell_type": "markdown",
      "metadata": {},
      "source": [
        "시뮬 예정(평균 시간, 평균mse)\n",
        "\n",
        "epoch = 50\n",
        "\n",
        "mrate = 0.3\\~0.5\n",
        "\n",
        "filter 32 공식예제로 가기 하고 샆으면 3개 정도 추가로"
      ],
      "id": "69feb00e-f1cc-463d-b9b0-5efb7ea80420"
    },
    {
      "cell_type": "code",
      "execution_count": 34,
      "metadata": {},
      "outputs": [],
      "source": [
        "# 1. mrate = 0.3, filter = 4, epoch = 50, lags = 4\n",
        "data.query(\"method !='GNAR' and mrate==0.3 and inter_method=='cubic' and nof_filters==4 and lags==2\")['calculation_time'].mean(),data.query(\"method != 'GNAR' and mrate==0.3 and inter_method=='cubic' and nof_filters==4 and lags==2\")['mse'].mean()"
      ],
      "id": "04f96ea9-01dd-4cf3-a418-423e04a8aa93"
    },
    {
      "cell_type": "code",
      "execution_count": 35,
      "metadata": {},
      "outputs": [],
      "source": [
        "data.query(\"method !='GNAR' and mrate==0.3 and inter_method=='cubic' and nof_filters==4 and lags==2\").plot.box(backend='plotly',x='mrate',color='method',y='mse',facet_col='lags',facet_row='nof_filters',height=400)\n"
      ],
      "id": "28abf12a-9ba4-434f-a9d3-ff88fd83199f"
    },
    {
      "cell_type": "markdown",
      "metadata": {},
      "source": [
        "block"
      ],
      "id": "91e65842-0a88-4615-ae30-9bc37b6293cc"
    },
    {
      "cell_type": "code",
      "execution_count": 36,
      "metadata": {},
      "outputs": [],
      "source": [
        "data = pd.read_csv('./simulation_results/chickenpox_block.csv')"
      ],
      "id": "60831e99-728b-40ae-8372-5e765d946d7b"
    },
    {
      "cell_type": "code",
      "execution_count": 37,
      "metadata": {},
      "outputs": [],
      "source": [
        "data.query(\"method != 'GNAR' and lags!=4 and lags!=6 and inter_method !='linear'\").plot.box(backend='plotly',x='nof_filters',color='method',y='mse',facet_col='lags',facet_row='inter_method',height=600)\n"
      ],
      "id": "21936464-3b13-450a-a9fa-3933dba5e971"
    },
    {
      "cell_type": "code",
      "execution_count": 38,
      "metadata": {},
      "outputs": [],
      "source": [
        "data.query(\"method=='GNAR'\").plot.box(backend='plotly',x='mrate',color='inter_method',y='mse',facet_col='lags',height=600)\n"
      ],
      "id": "cd3e84fb-891e-4415-87c4-8efbc5cca7e9"
    },
    {
      "cell_type": "markdown",
      "metadata": {},
      "source": [
        "시뮬 예정(평균 시간, 평균mse)\n",
        "\n",
        "block, rand 다\n",
        "\n",
        "공식예제 수 따라\n",
        "\n",
        "epoch 50\n",
        "\n",
        "나중에 시간 남으면 100"
      ],
      "id": "b023d8fb-25d6-449b-9710-cd42982e8da5"
    },
    {
      "cell_type": "code",
      "execution_count": 39,
      "metadata": {},
      "outputs": [],
      "source": [
        "data.query(\"inter_method=='cubic' and nof_filters==4 and lags==8\").plot.box(backend='plotly',x='mrate',color='method',y='mse',facet_col='lags',facet_row='nof_filters',height=400)\n"
      ],
      "id": "746b7f9e-914a-4c9d-a762-11e0eb0eff7a"
    },
    {
      "cell_type": "markdown",
      "metadata": {},
      "source": [
        "# chickenpox simulation result\n",
        "\n",
        "``` python\n",
        "my_list = [[] for _ in range(20)] #chickenpox\n",
        "another_list = list(range(100,400))\n",
        "my_list[1] = another_list\n",
        "my_list[3] = another_list\n",
        "my_list[5] = another_list\n",
        "my_list[7] = another_list\n",
        "my_list[9] = another_list\n",
        "my_list[11] = another_list\n",
        "my_list[13] = another_list\n",
        "my_list[15] = another_list\n",
        "mindex = my_list\n",
        "```\n",
        "\n",
        "block 30% missing을 위한 조건"
      ],
      "id": "b8edfe74-3db3-4c96-b7b8-a47cf8a91a6d"
    },
    {
      "cell_type": "code",
      "execution_count": 40,
      "metadata": {},
      "outputs": [],
      "source": [
        "df1 = pd.read_csv('./simulation_results/2023-04-11_06-56-35.csv') # GNAR random\n",
        "df2 = pd.read_csv('./simulation_results/2023-04-11_07-01-42.csv') # GNAR block\n",
        "df3 = pd.read_csv('./simulation_results/2023-04-11_18-20-22.csv') # STGCN, ITSTGCN random 30%\n",
        "df4 = pd.read_csv('./simulation_results/2023-04-12_05-44-19.csv') # STGCN, ITSTGCN random 40%\n",
        "df5 = pd.read_csv('./simulation_results/2023-04-12_17-03-28.csv') # STGCN, ITSTGCN random 50%\n",
        "df6 = pd.read_csv('./simulation_results/2023-04-13_18-59-17.csv') # STGCN, ITSTGCN block cubic\n",
        "df7 = pd.read_csv('./simulation_results/2023-04-14_00-57-11.csv') # STGCN, ITSTGCN block linear\n",
        "df8 = pd.read_csv('./simulation_results/2023-04-14_12-55-58.csv') # STGCN, ITSTGCN 0% missing\n",
        "df9 = pd.read_csv('./simulation_results/2023-05-08_01-09-23.csv')\n",
        "df10 = pd.read_csv('./simulation_results/2023-05-08_05-47-08.csv')"
      ],
      "id": "4962e088-7329-4792-8926-83bce53b6a32"
    },
    {
      "cell_type": "code",
      "execution_count": 41,
      "metadata": {},
      "outputs": [],
      "source": [
        "data = pd.concat([df1,df2,df3,df4,df5,df6,df7,df8,df9,df10],axis=0);data"
      ],
      "id": "5ea2e6b7-2622-44f1-b806-1d303769591d"
    },
    {
      "cell_type": "code",
      "execution_count": 42,
      "metadata": {},
      "outputs": [],
      "source": [
        "data.to_csv('./simulation_results/Real_simulation/chikenpox_Simulation.csv',index=False)"
      ],
      "id": "0548d641-7496-43c6-925e-daf0bd2131b8"
    },
    {
      "cell_type": "code",
      "execution_count": 43,
      "metadata": {},
      "outputs": [],
      "source": [
        "data = pd.read_csv('./simulation_results/Real_simulation/chikenpox_Simulation.csv')"
      ],
      "id": "42a0005f-5244-458e-9b28-a2070399bbc1"
    },
    {
      "cell_type": "code",
      "execution_count": 44,
      "metadata": {},
      "outputs": [],
      "source": [
        "data.query(\"method=='GNAR' and mtype == 'rand'\")['mse'].mean(),data.query(\"method=='GNAR' and mtype != 'rand'\")['mse'].mean()"
      ],
      "id": "970fb1e5-bdad-4859-9543-233a3d349d5d"
    },
    {
      "cell_type": "code",
      "execution_count": 45,
      "metadata": {},
      "outputs": [],
      "source": [
        "data.query(\"method=='STGCN' and mtype == 'rand'\")['mse'].mean(),data.query(\"method=='STGCN' and mtype != 'rand'\")['mse'].mean()"
      ],
      "id": "42061bcc-175e-4c32-af89-315aa89ff530"
    },
    {
      "cell_type": "code",
      "execution_count": 46,
      "metadata": {},
      "outputs": [],
      "source": [
        "data.query(\"method=='IT-STGCN' and mtype == 'rand'\")['mse'].mean(),data.query(\"method=='IT-STGCN' and mtype != 'rand'\")['mse'].mean()"
      ],
      "id": "7f2ed576-cb27-4ca3-950d-6d6c015cfcd0"
    },
    {
      "cell_type": "code",
      "execution_count": 47,
      "metadata": {},
      "outputs": [],
      "source": [
        "data.query(\"method!='GNAR' and mrate ==0 \").plot.box(backend='plotly',x='mrate',color='method',y='mse',facet_col='nof_filters',height=600)\n"
      ],
      "id": "004be881-af2d-4de1-8e2a-cf16955adfb0"
    },
    {
      "cell_type": "code",
      "execution_count": 48,
      "metadata": {},
      "outputs": [],
      "source": [
        "data.query(\"method!='GNAR' and mtype =='rand' and mrate !=0.8 and mrate!=0.9 \").plot.box(backend='plotly',x='mrate',color='method',y='mse',facet_col='nof_filters',facet_row='inter_method',height=800)\n"
      ],
      "id": "77a0365b-a258-414b-8f64-d4f5fc594692"
    },
    {
      "cell_type": "code",
      "execution_count": 49,
      "metadata": {},
      "outputs": [],
      "source": [
        "data.query(\"method!='GNAR' and mtype =='rand' and (mrate==0.8 or mrate==0.9)\").plot.box(backend='plotly',x='mrate',color='method',y='mse',facet_col='nof_filters',facet_row='inter_method',height=800)\n"
      ],
      "id": "8d8b0c64-1fda-4f42-8d74-cc17f372b332"
    },
    {
      "cell_type": "code",
      "execution_count": 50,
      "metadata": {},
      "outputs": [],
      "source": [
        "data.query(\"method!='GNAR' and mtype =='block' \").plot.box(backend='plotly',x='mrate',color='method',y='mse',facet_col='nof_filters',facet_row='inter_method',height=800)\n"
      ],
      "id": "1db728dc-7ee1-4a7c-88c2-60975c5cdbb2"
    },
    {
      "cell_type": "markdown",
      "metadata": {},
      "source": [
        "# Chickenpox DCRNN result"
      ],
      "id": "ad33ace4-a35a-4a09-9830-b36824c735a2"
    },
    {
      "cell_type": "code",
      "execution_count": 241,
      "metadata": {},
      "outputs": [],
      "source": [
        "df1 = pd.read_csv('./simulation_results/2023-05-15_05-35-30.csv')\n",
        "# df2 = pd.read_csv('./simulation_results/2023-04-22_05-38-23.csv')\n",
        "# df3 = pd.read_csv('./simulation_results/2023-04-22_20-41-26.csv')\n",
        "# df4 = pd.read_csv('./simulation_results/2023-04-23_13-13-49.csv')\n",
        "# df5 = pd.read_csv('./simulation_results/2023-04-23_18-03-50.csv')"
      ],
      "id": "b38a4397-941e-4b88-9158-d49a200cbd16"
    },
    {
      "cell_type": "code",
      "execution_count": 242,
      "metadata": {},
      "outputs": [],
      "source": [
        "data = pd.concat([df1],axis=0)"
      ],
      "id": "1473e144-3016-428d-a0d1-92d16ed5b3e2"
    },
    {
      "cell_type": "code",
      "execution_count": 243,
      "metadata": {},
      "outputs": [],
      "source": [
        "data.to_csv('./simulation_results/DCRNN/chickenpox_DCRNN.csv',index=False)"
      ],
      "id": "6acb5b29-e214-4015-88de-be17ec34eabb"
    },
    {
      "cell_type": "code",
      "execution_count": 244,
      "metadata": {},
      "outputs": [],
      "source": [
        "data = pd.read_csv('./simulation_results/DCRNN/chickenpox_DCRNN.csv')"
      ],
      "id": "7133c701-e16e-40a9-a527-f395fc916f8b"
    },
    {
      "cell_type": "markdown",
      "metadata": {},
      "source": [
        "# Pedalme\n",
        "\n",
        "데이터셋 미싱이 0.8일때\n",
        "\n",
        "`The number of derivatives at boundaries does not match: expected 1, got 0+0`\n",
        "\n",
        "해당 오류, 즉 미분되지 않는 오류가 생긴다.\n",
        "\n",
        "-   공식 패키지: lags 4 지정\n",
        "-   mrate = 0.3\n",
        "-   nof_filters = 12\n",
        "    -   필터 클수록 mse 안정적으로 보임!\n",
        "-   lags = 4, 8\n",
        "    -   lags 클 수록 커지는 경향이 있지만,\n",
        "    -   lags 크니까 GNAR보다 mse 평균적으로 낮게 보인다.\n",
        "-   GNAR보다 MSE는 낮음\n",
        "-   cal_time\n",
        "    -   mean = 1초도 안 된다!\n",
        "    -   max = 6초!\n",
        "\n",
        "random"
      ],
      "id": "785dbc63-518e-40d0-ba16-6b37e417417c"
    },
    {
      "cell_type": "code",
      "execution_count": 58,
      "metadata": {},
      "outputs": [],
      "source": [
        "data = pd.read_csv('./simulation_results/pedalme_random.csv');data"
      ],
      "id": "147360a1-5e11-42c3-8ba7-80550745a7e5"
    },
    {
      "cell_type": "code",
      "execution_count": 59,
      "metadata": {},
      "outputs": [],
      "source": [
        "data.query(\"method!='GNAR'\")['calculation_time'].mean(),data.query(\"method!='GNAR'\")['calculation_time'].max(),data.query(\"method!='GNAR'\")['calculation_time'].min()"
      ],
      "id": "76009aab-dfb2-4d05-8cd1-f4e0aab82586"
    },
    {
      "cell_type": "code",
      "execution_count": 60,
      "metadata": {},
      "outputs": [],
      "source": [
        "data.query(\"mtype=='rand' and method!='GNAR' and lags!=4\").plot.box(backend='plotly',x='mrate',color='method',y='mse',facet_col='lags',facet_row='nof_filters',height=1200)\n"
      ],
      "id": "10c8e4f7-f300-42d5-b3ed-0e13310dbe72"
    },
    {
      "cell_type": "code",
      "execution_count": 61,
      "metadata": {},
      "outputs": [],
      "source": [
        "data.query(\"mtype=='rand' and method!='GNAR' and mrate==0.7\").plot.box(backend='plotly',x='inter_method',color='method',y='mse',facet_col='lags',facet_row='nof_filters',height=1200)\n"
      ],
      "id": "43317632-24d8-48b6-9cf1-dd389e2b7ee0"
    },
    {
      "cell_type": "code",
      "execution_count": 62,
      "metadata": {},
      "outputs": [],
      "source": [
        "data.query(\"mtype=='rand' and method!='GNAR' and mrate==0.3\").plot.box(backend='plotly',x='inter_method',color='method',y='mse',facet_col='lags',facet_row='nof_filters',height=1200)\n"
      ],
      "id": "6722b530-18eb-4593-b7e5-0d643ee28a72"
    },
    {
      "cell_type": "code",
      "execution_count": 63,
      "metadata": {},
      "outputs": [],
      "source": [
        "data.query(\"method=='GNAR'\").plot.box(backend='plotly',x='mtype',color='method',y='mse',facet_col='lags',height=600)\n"
      ],
      "id": "a7ac6dc5-298e-4d85-ad73-5b15f7f96981"
    },
    {
      "cell_type": "markdown",
      "metadata": {},
      "source": [
        "시뮬 예정(평균 시간, 평균mse)\n",
        "\n",
        "lags 4,8\n",
        "\n",
        "mrate 0.3\\~0.6"
      ],
      "id": "13466bb6-439d-44ab-9e9a-d556440130a6"
    },
    {
      "cell_type": "code",
      "execution_count": 64,
      "metadata": {},
      "outputs": [],
      "source": [
        "# 1. mrate = 0.3, filter = 4, epoch = 50, lags = 4\n",
        "data.query(\"method !='GNAR' and mrate==0.3 and inter_method=='cubic' and nof_filters==12 and lags==8\")['calculation_time'].mean(),data.query(\"method !='GNAR' and mrate==0.3 and inter_method=='cubic' and nof_filters==12 and lags==8\")['mse'].mean()"
      ],
      "id": "3c0058a1-1148-4ecd-be85-f06feab071d9"
    },
    {
      "cell_type": "code",
      "execution_count": 65,
      "metadata": {},
      "outputs": [],
      "source": [
        "data.query(\"method !='GNAR' and mrate==0.3 and inter_method=='cubic' and nof_filters==12 and lags==8\").plot.box(backend='plotly',x='mrate',color='method',y='mse',facet_col='lags',facet_row='nof_filters',height=400)"
      ],
      "id": "8c05b877-3c5b-4fbe-8d2e-ffffc95182f2"
    },
    {
      "cell_type": "markdown",
      "metadata": {},
      "source": [
        "block"
      ],
      "id": "67877bad-4fd6-41b9-867c-fcb7a2a1ad50"
    },
    {
      "cell_type": "code",
      "execution_count": 66,
      "metadata": {},
      "outputs": [],
      "source": [
        "data = pd.read_csv('./simulation_results/pedalme_block.csv');data"
      ],
      "id": "991c04c2-8056-483f-ac10-5343b6882d94"
    },
    {
      "cell_type": "markdown",
      "metadata": {},
      "source": [
        "missing rate 조정하기 30\\~50% 여러개 block 해서"
      ],
      "id": "a0cf51f0-e9e6-4bd0-9159-2a544f664518"
    },
    {
      "cell_type": "code",
      "execution_count": 67,
      "metadata": {},
      "outputs": [],
      "source": [
        "data.query(\"method!='GNAR'\").plot.box(backend='plotly',x='inter_method',color='method',y='mse',facet_col='lags',facet_row='nof_filters',height=1200)\n"
      ],
      "id": "5852b070-35f0-45e8-9b8a-d6145d791ce7"
    },
    {
      "cell_type": "markdown",
      "metadata": {},
      "source": [
        "시뮬 예정(평균 시간, 평균mse)"
      ],
      "id": "aba957e8-8a27-472c-9800-be0880f13d9b"
    },
    {
      "cell_type": "code",
      "execution_count": 68,
      "metadata": {},
      "outputs": [],
      "source": [
        "data.query(\"inter_method=='linear' and nof_filters==12 and lags==4\").plot.box(backend='plotly',x='mrate',color='method',y='mse',facet_col='lags',facet_row='nof_filters',height=400)"
      ],
      "id": "d8baa40a-c943-4551-a80e-11e1fcc68bd9"
    },
    {
      "cell_type": "markdown",
      "metadata": {},
      "source": [
        "# pedalme simulation result\n",
        "\n",
        "block1\n",
        "\n",
        "``` python\n",
        "my_list = [[] for _ in range(15)] #pedalme\n",
        "another_list = list(range(5,25))\n",
        "my_list[1] = another_list\n",
        "my_list[3] = another_list\n",
        "my_list[5] = another_list\n",
        "my_list[7] = another_list\n",
        "my_list[9] = another_list\n",
        "my_list[11] = another_list\n",
        "mindex = my_list\n",
        "```\n",
        "\n",
        "block 30% missing을 위한 조건\n",
        "\n",
        "block2\n",
        "\n",
        "``` python\n",
        "my_list = [[] for _ in range(15)] #pedalme\n",
        "another_list = list(range(10,25))\n",
        "my_list[2] = another_list\n",
        "my_list[4] = another_list\n",
        "my_list[5] = another_list\n",
        "my_list[11] = another_list\n",
        "mindex = my_list\n",
        "```\n",
        "\n",
        "block 30% missing을 위한 조건"
      ],
      "id": "59fdec5c-f413-4f9a-8d4e-1b7f9f9f378c"
    },
    {
      "cell_type": "code",
      "execution_count": 220,
      "metadata": {},
      "outputs": [],
      "source": [
        "df1 = pd.read_csv('./simulation_results/2023-04-13_20-37-59.csv') # STGCN, ITSTGCN random 0%,30%, 40%\n",
        "df2 = pd.read_csv('./simulation_results/2023-04-13_21-29-38.csv') # STGCN, ITSTGCN random 50%, 60%\n",
        "df3 = pd.read_csv('./simulation_results/2023-04-15_01-08-16.csv') # GNAR random 30%, 40%, 50%, 60%\n",
        "df4 = pd.read_csv('./simulation_results/2023-04-13_21-56-36.csv') # GNAR block 30%\n",
        "df5 = pd.read_csv('./simulation_results/2023-04-15_01-08-16.csv') # GNAR random 30%, 40%, 50%\n",
        "df6 = pd.read_csv('./simulation_results/2023-04-15_01-38-46.csv') # STGCN, ITSTGCN block 2\n",
        "df7 = pd.read_csv('./simulation_results/2023-04-23_15-17-33.csv') # GNAR 60%\n",
        "df8 = pd.read_csv('./simulation_results/2023-04-23_15-25-09.csv') # GNAR block 1\n",
        "df9 = pd.read_csv('./simulation_results/2023-04-23_15-41-20.csv') # GNAR block 2\n",
        "df10 = pd.read_csv('./simulation_results/2023-04-23_16-25-28.csv') # STGCN,IT-STGCN block 2\n",
        "df11 = pd.read_csv('./simulation_results/2023-04-19_00-13-29.csv')\n",
        "df12 = pd.read_csv('./simulation_results/2023-05-14_21-01-41.csv')"
      ],
      "id": "b1a4664c-cf7e-4a3a-bb43-e5e5da04999b"
    },
    {
      "cell_type": "code",
      "execution_count": 221,
      "metadata": {},
      "outputs": [],
      "source": [
        "data = pd.concat([df1,df2,df3,df4,df5,df6,df7,df8,df9,df10,df11,df12],axis=0)"
      ],
      "id": "798cf7c1-1bfe-4607-8db6-4f350f55b090"
    },
    {
      "cell_type": "code",
      "execution_count": 222,
      "metadata": {},
      "outputs": [],
      "source": [
        "data.to_csv('./simulation_results/Real_simulation/pedalme_Simulation.csv',index=False)"
      ],
      "id": "9fbe481e-e06e-4699-ab49-b12ea4aefa83"
    },
    {
      "cell_type": "code",
      "execution_count": 223,
      "metadata": {},
      "outputs": [],
      "source": [
        "data = pd.read_csv('./simulation_results/Real_simulation/pedalme_Simulation.csv')"
      ],
      "id": "23b8e844-0664-4497-9ac2-c98352c80d80"
    },
    {
      "cell_type": "code",
      "execution_count": 224,
      "metadata": {},
      "outputs": [],
      "source": [
        "data.query(\"method=='GNAR' and mtype == 'rand'\")['mse'].mean(),data.query(\"method=='GNAR' and mtype != 'rand'\")['mse'].mean()"
      ],
      "id": "9edde037-2f18-4b27-9e1f-8d4efbf079e3"
    },
    {
      "cell_type": "code",
      "execution_count": 225,
      "metadata": {},
      "outputs": [],
      "source": [
        "data.query(\"method=='STGCN' and mtype == 'rand'\")['mse'].mean(),data.query(\"method=='STGCN' and mtype != 'rand'\")['mse'].mean()"
      ],
      "id": "9481cb17-5de2-40c3-9035-ec9fe3107173"
    },
    {
      "cell_type": "code",
      "execution_count": 226,
      "metadata": {},
      "outputs": [],
      "source": [
        "data.query(\"method=='IT-STGCN' and mtype == 'rand'\")['mse'].mean(),data.query(\"method=='IT-STGCN' and mtype != 'rand'\")['mse'].mean()"
      ],
      "id": "1c87c78d-8bb7-4ec7-8396-c157bdd791cb"
    },
    {
      "cell_type": "markdown",
      "metadata": {},
      "source": [
        "## Baseline"
      ],
      "id": "64531aa8-c383-4f68-94db-d75f96a84033"
    },
    {
      "cell_type": "code",
      "execution_count": 227,
      "metadata": {},
      "outputs": [],
      "source": [
        "data.query(\"method!='GNAR' and mrate ==0 \").plot.box(backend='plotly',x='epoch',color='method',y='mse',facet_col='lags',height=800)\n"
      ],
      "id": "fe12456c-773c-4353-adfc-1e1e16afccf2"
    },
    {
      "cell_type": "markdown",
      "metadata": {},
      "source": [
        "## random"
      ],
      "id": "af36a5b3-ed66-4448-96ff-90c2ededdfc7"
    },
    {
      "cell_type": "code",
      "execution_count": 228,
      "metadata": {},
      "outputs": [],
      "source": [
        "data.query(\"method!='GNAR' and mtype =='rand' \").plot.box(backend='plotly',x='mrate',color='method',y='mse',facet_col='lags',facet_row='inter_method',height=800)\n"
      ],
      "id": "891536f7-0510-46cb-bb09-c63b183a3419"
    },
    {
      "cell_type": "markdown",
      "metadata": {},
      "source": [
        "## block"
      ],
      "id": "5ebc65ec-a8fa-4f59-8e1d-b4ad399e859a"
    },
    {
      "cell_type": "code",
      "execution_count": 181,
      "metadata": {},
      "outputs": [],
      "source": [
        "data.query(\"method!='GNAR' and mtype =='block' and inter_method=='cubic' \").plot.box(backend='plotly',x='mrate',color='method',y='mse',facet_col='lags',facet_row='inter_method',height=600)\n"
      ],
      "id": "d8ced1ad-ab1a-4769-ab31-16a9f0cb6dc0"
    },
    {
      "cell_type": "code",
      "execution_count": 182,
      "metadata": {},
      "outputs": [],
      "source": [
        "data.query(\"method!='GNAR' and mtype =='block' and inter_method!='cubic' \").plot.box(backend='plotly',x='mrate',color='method',y='mse',facet_col='lags',facet_row='inter_method',height=600)\n"
      ],
      "id": "5dabc5ef-5037-48c8-94a8-f13dd2454a70"
    },
    {
      "cell_type": "markdown",
      "metadata": {},
      "source": [
        "## weight matrix time, node 고려한 결과"
      ],
      "id": "01eb7f86-e3cf-4c9f-aa80-7f2a19f3c85f"
    },
    {
      "cell_type": "code",
      "execution_count": 84,
      "metadata": {},
      "outputs": [],
      "source": [
        "df1 = pd.read_csv('./simulation_results/2023-04-30_13-00-12.csv')\n",
        "df2 = pd.read_csv('./simulation_results/2023-04-30_13-31-32.csv')\n",
        "df3 = pd.read_csv('./simulation_results/2023-04-30_14-01-49.csv')\n",
        "df4 = pd.read_csv('./simulation_results/2023-04-30_14-31-56.csv')\n",
        "df5 = pd.read_csv('./simulation_results/2023-04-30_15-02-23.csv')\n",
        "df6 = pd.read_csv('./simulation_results/2023-04-30_15-33-03.csv')\n",
        "df7 = pd.read_csv('./simulation_results/2023-04-30_16-07-43.csv')\n",
        "df8 = pd.read_csv('./simulation_results/2023-04-30_16-41-35.csv')\n",
        "df9 = pd.read_csv('./simulation_results/2023-04-30_17-14-51.csv')\n",
        "df10 = pd.read_csv('./simulation_results/2023-04-30_17-49-34.csv')\n",
        "df11 = pd.read_csv('./simulation_results/2023-04-30_18-21-29.csv')\n",
        "df12 = pd.read_csv('./simulation_results/2023-04-30_18-50-24.csv')\n",
        "df13 = pd.read_csv('./simulation_results/2023-04-30_20-33-28.csv')\n",
        "df14 = pd.read_csv('./simulation_results/2023-05-04_16-40-05.csv')\n",
        "df15 = pd.read_csv('./simulation_results/2023-05-04_17-34-00.csv')"
      ],
      "id": "612cfd5e-d03d-4ae2-ae23-00b5e7b3db6a"
    },
    {
      "cell_type": "code",
      "execution_count": 85,
      "metadata": {},
      "outputs": [],
      "source": [
        "data2 = pd.concat([df1,df2,df3,df4,df5,df6,df7,df8,df9,df10,df11,df12,df13,df14,df15],axis=0)"
      ],
      "id": "5db5008f-1fa3-4f77-8a9e-273f7f2e426d"
    },
    {
      "cell_type": "code",
      "execution_count": 86,
      "metadata": {},
      "outputs": [],
      "source": [
        "data2.to_csv('./simulation_results/Real_simulation/pedalme_Simulation_itstgcnsnd.csv',index=False)"
      ],
      "id": "195aa07b-7db5-4ba4-ae3a-5e23a5e02621"
    },
    {
      "cell_type": "code",
      "execution_count": 87,
      "metadata": {},
      "outputs": [],
      "source": [
        "data2 = pd.read_csv('./simulation_results/Real_simulation/pedalme_Simulation_itstgcnsnd.csv')"
      ],
      "id": "996c1b6e-bc99-4f0c-a6b4-5d7c8a79a60a"
    },
    {
      "cell_type": "code",
      "execution_count": 88,
      "metadata": {},
      "outputs": [],
      "source": [
        "data2.query(\"mtype!='block'\").plot.box(backend='plotly',x='mrate',color='method',y='mse',facet_col='lags',facet_row='inter_method',height=1000)"
      ],
      "id": "42d2d905-9cd3-4c86-b662-9a1b235a9e04"
    },
    {
      "cell_type": "code",
      "execution_count": 89,
      "metadata": {},
      "outputs": [],
      "source": [
        "data2.query(\"mtype=='block'\").plot.box(backend='plotly',x='mrate',color='method',y='mse',facet_col='lags',facet_row='inter_method',height=1200)"
      ],
      "id": "00385bbe-c28e-44d3-98bb-5fdb0650a600"
    },
    {
      "cell_type": "markdown",
      "metadata": {},
      "source": [
        "# Pedalme DCRNN"
      ],
      "id": "05ae8afc-7a2a-44c9-af60-a58dbf83e9f6"
    },
    {
      "cell_type": "code",
      "execution_count": 210,
      "metadata": {},
      "outputs": [],
      "source": [
        "df1 = pd.read_csv('./simulation_results/2023-05-14_19-04-26.csv')\n",
        "# df2 = pd.read_csv('./simulation_results/2023-04-27_22-09-07.csv')\n",
        "# df3 = pd.read_csv('./simulation_results/2023-04-28_14-40-59.csv')"
      ],
      "id": "e9ccfe6c-bf5b-4801-9024-f1305ecb6b20"
    },
    {
      "cell_type": "code",
      "execution_count": 211,
      "metadata": {},
      "outputs": [],
      "source": [
        "data = pd.concat([df1],axis=0)"
      ],
      "id": "7e71271f-46f2-476b-b9f7-2cb60dbfe2a3"
    },
    {
      "cell_type": "code",
      "execution_count": 212,
      "metadata": {},
      "outputs": [],
      "source": [
        "data"
      ],
      "id": "02692b91-c4a5-4529-a5ee-60023d30577c"
    },
    {
      "cell_type": "code",
      "execution_count": 213,
      "metadata": {},
      "outputs": [],
      "source": [
        "data.to_csv('./simulation_results/DCRNN/pedalme_DVRNN.csv',index=False)"
      ],
      "id": "d1a270ec-9de3-4401-b1b9-515f0e4e8086"
    },
    {
      "cell_type": "code",
      "execution_count": 214,
      "metadata": {},
      "outputs": [],
      "source": [
        "data = pd.read_csv('./simulation_results/DCRNN/pedalme_DVRNN.csv')"
      ],
      "id": "0c164f31-5aa9-43e9-9551-6a4900e6efc3"
    },
    {
      "cell_type": "markdown",
      "metadata": {},
      "source": [
        "# Wikimath\n",
        "\n",
        "-   공식 패키지: lags 8 지정\n",
        "-   오히려 cuboic 보다 linear가 더 잘 맞추는 경향\n",
        "-   mrate = 0.3\n",
        "    -   크면 이상치 심하게 나와서 작게 잡기\n",
        "-   nof_filters = 12, 16\n",
        "    -   필터 크니까 mse 내려감\n",
        "-   lags = 2,\n",
        "-   cal_time\n",
        "    -   mean = 71s\n",
        "    -   max = 212s\n",
        "\n",
        "random epoch 1번"
      ],
      "id": "59c43871-3c6c-4b3f-ae19-729c12e67909"
    },
    {
      "cell_type": "code",
      "execution_count": 90,
      "metadata": {},
      "outputs": [],
      "source": [
        "df1 = pd.read_csv('./simulation_results/2023-04-15_16-58-03.csv')\n",
        "df2 = pd.read_csv('./simulation_results/2023-04-15_17-01-39.csv')\n",
        "df3 = pd.read_csv('./simulation_results/2023-04-15_17-07-23.csv')\n",
        "df4 = pd.read_csv('./simulation_results/2023-04-15_17-13-13.csv')\n",
        "df5 = pd.read_csv('./simulation_results/2023-04-15_17-29-49.csv')"
      ],
      "id": "f36fc53c-6edf-459e-b2e8-387eb2e6b346"
    },
    {
      "cell_type": "code",
      "execution_count": 91,
      "metadata": {},
      "outputs": [],
      "source": [
        "data = pd.concat([df1,df2,df3,df4,df5],axis=0)"
      ],
      "id": "0f12b491-9bad-4477-84a8-4f28d1c95566"
    },
    {
      "cell_type": "code",
      "execution_count": 92,
      "metadata": {},
      "outputs": [],
      "source": [
        "data.query(\"method=='STGCN'\").sort_values(['mrate','lags','nof_filters'])"
      ],
      "id": "2e4e6979-728f-46a6-a568-b861eb9d8b0d"
    },
    {
      "cell_type": "code",
      "execution_count": 93,
      "metadata": {},
      "outputs": [],
      "source": [
        "data.query(\"method!='STGCN'\").sort_values(['mrate','lags','nof_filters'])"
      ],
      "id": "669c7bf5-51f5-4b1f-8048-30848dd4c481"
    },
    {
      "cell_type": "markdown",
      "metadata": {},
      "source": [
        "# Wikimath simulation result"
      ],
      "id": "5e4dcf9a-3820-47cb-8abf-1466f52b4cc1"
    },
    {
      "cell_type": "code",
      "execution_count": 94,
      "metadata": {},
      "outputs": [],
      "source": [
        "df1 = pd.read_csv('./simulation_results/2023-04-21_14-32-44.csv')\n",
        "df2 = pd.read_csv('./simulation_results/2023-04-22_05-38-23.csv')\n",
        "df3 = pd.read_csv('./simulation_results/2023-04-22_20-41-26.csv')\n",
        "df4 = pd.read_csv('./simulation_results/2023-04-23_13-13-49.csv')\n",
        "df5 = pd.read_csv('./simulation_results/2023-04-23_18-03-50.csv')\n",
        "df6 = pd.read_csv('./simulation_results/2023-04-24_18-25-09.csv')\n",
        "df7 = pd.read_csv('./simulation_results/2023-04-24_03-33-57.csv')\n",
        "df8 = pd.read_csv('./simulation_results/2023-04-25_11-18-21.csv')\n",
        "df9 = pd.read_csv('./simulation_results/2023-04-25_22-51-21.csv')\n",
        "df10 = pd.read_csv('./simulation_results/2023-04-26_07-35-21.csv')\n",
        "df11 = pd.read_csv('./simulation_results/2023-04-28_18-07-23.csv')\n",
        "df12 = pd.read_csv('./simulation_results/2023-04-30_04-35-07.csv')\n",
        "df13 = pd.read_csv('./simulation_results/2023-05-08_12-07-28.csv')\n",
        "df14 = pd.read_csv('./simulation_results/2023-05-09_02-26-26.csv')\n",
        "df15 = pd.read_csv('./simulation_results/2023-05-09_09-10-12.csv')\n",
        "df16 = pd.read_csv('./simulation_results/2023-05-09_15-42-43.csv')\n",
        "df17 = pd.read_csv('./simulation_results/2023-05-09_21-48-31.csv')\n",
        "df18 = pd.read_csv('./simulation_results/2023-05-10_02-17-07.csv')\n",
        "df19 = pd.read_csv('./simulation_results/2023-05-10_06-35-14.csv')"
      ],
      "id": "01a06f91-a6d4-418b-92d7-1d340bb0df7e"
    },
    {
      "cell_type": "code",
      "execution_count": 95,
      "metadata": {},
      "outputs": [],
      "source": [
        "data = pd.concat([df1,df2,df3,df4,df5,df6,df7,df8,df9,df10,df11,df12,df13,df14,df15,df16,df17,\n",
        "                 df18,df19],axis=0)"
      ],
      "id": "db47c356-84c5-4c4c-9596-b78f2c184f6d"
    },
    {
      "cell_type": "code",
      "execution_count": 96,
      "metadata": {},
      "outputs": [],
      "source": [
        "data.to_csv('./simulation_results/Real_simulation/wikimath.csv',index=False)"
      ],
      "id": "ec3a2e0f-05a7-43f4-9e18-cd8b84cfc897"
    },
    {
      "cell_type": "code",
      "execution_count": 97,
      "metadata": {},
      "outputs": [],
      "source": [
        "data = pd.read_csv('./simulation_results/Real_simulation/wikimath.csv')"
      ],
      "id": "1824a7bc-59a2-416b-9ad3-1ea300cbbdf2"
    },
    {
      "cell_type": "markdown",
      "metadata": {},
      "source": [
        "## Baseline"
      ],
      "id": "1071fd9a-37cf-43f2-a8a9-fd6d2d310bec"
    },
    {
      "cell_type": "code",
      "execution_count": 98,
      "metadata": {},
      "outputs": [],
      "source": [
        "data.query(\"mrate==0 and method!='GNAR'\").plot.box(backend='plotly',x='mrate',color='method',y='mse',facet_col='lags',facet_row='nof_filters',height=600)"
      ],
      "id": "b8cb61fa-6df5-45bd-9125-40867c55397f"
    },
    {
      "cell_type": "markdown",
      "metadata": {},
      "source": [
        "## random"
      ],
      "id": "b28193a9-85eb-46f5-ab78-f1400161ccec"
    },
    {
      "cell_type": "code",
      "execution_count": 99,
      "metadata": {},
      "outputs": [],
      "source": [
        "data.query(\"method=='GNAR'\").groupby('mrate')['mse'].unique()"
      ],
      "id": "e17b3c6f-cc50-4cb2-8d8d-229447585703"
    },
    {
      "cell_type": "code",
      "execution_count": 100,
      "metadata": {},
      "outputs": [],
      "source": [
        "data.query(\"mtype=='rand' and mrate !=0 and method!='GNAR'\").plot.box(backend='plotly',x='mrate',color='method',y='mse',facet_col='lags',facet_row='nof_filters',height=1200)\n"
      ],
      "id": "e70288b9-7147-40ab-9c9c-91e020a693fb"
    },
    {
      "cell_type": "markdown",
      "metadata": {},
      "source": [
        "## block"
      ],
      "id": "20ce946f-0380-4f23-be35-cd3acb3c35b8"
    },
    {
      "cell_type": "code",
      "execution_count": 215,
      "metadata": {},
      "outputs": [],
      "source": [
        "df1 = pd.read_csv('./simulation_results/2023-04-27_07-50-11.csv')\n",
        "df2 = pd.read_csv('./simulation_results/2023-04-27_22-09-07.csv')\n",
        "df3 = pd.read_csv('./simulation_results/2023-04-28_14-40-59.csv')\n",
        "df4 = pd.read_csv('./simulation_results/2023-05-14_19-46-46.csv')\n",
        "# df5 = pd.read_csv('./simulation_results/2023-05-14_19-46-46.csv')"
      ],
      "id": "87604ddc-699b-4a15-bc85-3386450ff184"
    },
    {
      "cell_type": "code",
      "execution_count": 216,
      "metadata": {},
      "outputs": [],
      "source": [
        "data = pd.concat([df1,df2,df3,df4],axis=0)"
      ],
      "id": "4e35c804-bec6-445c-8694-d44e5f738e00"
    },
    {
      "cell_type": "code",
      "execution_count": 217,
      "metadata": {},
      "outputs": [],
      "source": [
        "data.to_csv('./simulation_results/Real_simulation/wikimath_block.csv',index=False)"
      ],
      "id": "581fe638-352a-4eea-9d25-9c98d42fdaf3"
    },
    {
      "cell_type": "code",
      "execution_count": 218,
      "metadata": {},
      "outputs": [],
      "source": [
        "data = pd.read_csv('./simulation_results/Real_simulation/wikimath_block.csv')"
      ],
      "id": "1f8efb65-c279-46dd-8174-5afa5e10de44"
    },
    {
      "cell_type": "code",
      "execution_count": 219,
      "metadata": {},
      "outputs": [],
      "source": [
        "data.query(\"mtype=='block' and method!='GNAR'\").plot.box(backend='plotly',x='mrate',color='method',y='mse',facet_col='lags',facet_row='nof_filters',height=1200)\n"
      ],
      "id": "ffa9c1e8-5d12-44dd-b480-1dd1d14bdf20"
    },
    {
      "cell_type": "markdown",
      "metadata": {},
      "source": [
        "## missing values on the same nodes"
      ],
      "id": "6f1cb110-0445-4fc7-beb4-0e4919eb7df2"
    },
    {
      "cell_type": "code",
      "execution_count": 106,
      "metadata": {
        "tags": []
      },
      "outputs": [],
      "source": [
        "# 10%\n",
        "df1 = pd.read_csv('./simulation_results/2023-04-29_03-57-07.csv') # STGCN IT-STGCN block\n",
        "df2 = pd.read_csv('./simulation_results/2023-04-29_20-15-46.csv') # STGCN IT-STGCN\n",
        "df3 = pd.read_csv('./simulation_results/2023-04-30_16-19-58.csv') # STGCN IT-STGCN\n",
        "# 60% 확인하고 다시 돌리기\n",
        "df4 = pd.read_csv('./simulation_results/2023-05-05_04-21-57.csv') # STGCN IT-STGCN 60%\n",
        "df5 = pd.read_csv('./simulation_results/2023-05-06_11-34-46.csv') # STGCN IT-STGCN\n",
        "df6 = pd.read_csv('./simulation_results/2023-05-06_23-43-35.csv') # STGCN IT-STGCN\n",
        "df7 = pd.read_csv('./simulation_results/2023-05-07_14-06-44.csv') # STGCN IT-STGCN"
      ],
      "id": "58e3518c-167c-48d3-b875-c64b367778af"
    },
    {
      "cell_type": "code",
      "execution_count": 107,
      "metadata": {},
      "outputs": [],
      "source": [
        "data = pd.concat([df1,df2,df3,df4,df5,df6,df7],axis=0)"
      ],
      "id": "7b9e856e-1a90-4826-b27d-c568ff46b0a2"
    },
    {
      "cell_type": "code",
      "execution_count": 108,
      "metadata": {},
      "outputs": [],
      "source": [
        "data.to_csv('./simulation_results/Real_simulation/wikimath_GSO_st.csv',index=False)"
      ],
      "id": "9d6c3b68-0bb2-40bb-8826-1be721607d17"
    },
    {
      "cell_type": "code",
      "execution_count": 109,
      "metadata": {},
      "outputs": [],
      "source": [
        "data = pd.read_csv('./simulation_results/Real_simulation/wikimath_GSO_st.csv')"
      ],
      "id": "d0750f45-e38f-4b34-a1c3-2fd06c334e3b"
    },
    {
      "cell_type": "code",
      "execution_count": 110,
      "metadata": {},
      "outputs": [],
      "source": [
        "data.query(\"method=='GNAR'\")['mse'].unique()"
      ],
      "id": "c79d94ab-892d-449c-b8da-c2838ebe6fba"
    },
    {
      "cell_type": "code",
      "execution_count": 111,
      "metadata": {},
      "outputs": [],
      "source": [
        "data.query(\"method!='GNAR' and mtype =='block' \").plot.box(backend='plotly',x='mrate',color='method',y='mse',facet_col='inter_method',facet_row='lags',height=800)\n"
      ],
      "id": "8e44a3af-3e79-408e-830b-40c53f4cd459"
    },
    {
      "cell_type": "markdown",
      "metadata": {},
      "source": [
        "# Wikimath DCRNN result"
      ],
      "id": "0aee586d-47c3-4f09-873a-f6d6b54e9c97"
    },
    {
      "cell_type": "code",
      "execution_count": 245,
      "metadata": {},
      "outputs": [],
      "source": [
        "df1 = pd.read_csv('./simulation_results/2023-05-15_00-20-42.csv')\n",
        "df2 = pd.read_csv('./simulation_results/2023-05-15_05-15-48.csv')\n",
        "df3 = pd.read_csv('./simulation_results/2023-05-15_08-26-11.csv')\n",
        "# df4 = pd.read_csv('./simulation_results/2023-04-23_13-13-49.csv')"
      ],
      "id": "ecf5760b-2d19-4816-b1ca-5cdd232c3705"
    },
    {
      "cell_type": "code",
      "execution_count": 246,
      "metadata": {},
      "outputs": [],
      "source": [
        "data = pd.concat([df1,df2,df3],axis=0)"
      ],
      "id": "2c33642c-f727-4367-a204-8a31739ddccc"
    },
    {
      "cell_type": "code",
      "execution_count": 247,
      "metadata": {},
      "outputs": [],
      "source": [
        "data.to_csv('./simulation_results/DCRNN/wikimath_DCRNN.csv',index=False)"
      ],
      "id": "629920ba-d35f-4ee1-ad02-495874dcf376"
    },
    {
      "cell_type": "code",
      "execution_count": 248,
      "metadata": {},
      "outputs": [],
      "source": [
        "data = pd.read_csv('./simulation_results/DCRNN/wikimath_DCRNN.csv')"
      ],
      "id": "182edce0-3315-4e0d-bc9f-ffa0bb66938f"
    },
    {
      "cell_type": "markdown",
      "metadata": {},
      "source": [
        "# Windmilmedium"
      ],
      "id": "22b2895c-28f9-4248-8570-308b4294b484"
    },
    {
      "cell_type": "code",
      "execution_count": 112,
      "metadata": {},
      "outputs": [],
      "source": [
        "df1 = pd.read_csv('./simulation_results/2023-04-15_09-06-12.csv') # GNAR\n",
        "df2 = pd.read_csv('./simulation_results/2023-04-15_09-19-44.csv') # STGCN IT-STGCN\n",
        "df3 = pd.read_csv('./simulation_results/2023-04-15_09-28-32.csv') # STGCN IT-STGCN\n",
        "df4 = pd.read_csv('./simulation_results/2023-04-15_09-36-55.csv') # STGCN IT-STGCN\n",
        "df5 = pd.read_csv('./simulation_results/2023-04-15_09-54-30.csv') # STGCN IT-STGCN\n",
        "df6 = pd.read_csv('./simulation_results/2023-04-15_10-03-08.csv') # STGCN IT-STGCN\n",
        "df7 = pd.read_csv('./simulation_results/2023-04-15_10-15-48.csv') # STGCN IT-STGCN\n",
        "df8 = pd.read_csv('./simulation_results/2023-04-15_10-25-19.csv') # STGCN IT-STGCN\n",
        "df9 = pd.read_csv('./simulation_results/2023-04-15_10-34-48.csv') # STGCN IT-STGCN\n",
        "df10 = pd.read_csv('./simulation_results/2023-04-15_10-43-02.csv') # STGCN IT-STGCN"
      ],
      "id": "79c6afcf-0bc1-4310-83ad-bfea187e59d1"
    },
    {
      "cell_type": "code",
      "execution_count": 113,
      "metadata": {},
      "outputs": [],
      "source": [
        "data = pd.concat([df1,df2,df3,df4,df5,df6,df7,df8,df9,df10],axis=0)"
      ],
      "id": "3d9ea4ea-a4b1-47d2-a464-53e3b51b7650"
    },
    {
      "cell_type": "code",
      "execution_count": 114,
      "metadata": {},
      "outputs": [],
      "source": [
        "data.query(\"method=='GNAR'\")"
      ],
      "id": "b5aceeaf-e0bb-419e-9e35-93555c3a1741"
    },
    {
      "cell_type": "code",
      "execution_count": 115,
      "metadata": {},
      "outputs": [],
      "source": [
        "data.query(\"method!='GNAR' and method=='STGCN'\").sort_values(['mrate','nof_filters'])"
      ],
      "id": "03cc1741-2b58-43b7-8109-600d250e86e0"
    },
    {
      "cell_type": "code",
      "execution_count": 116,
      "metadata": {},
      "outputs": [],
      "source": [
        "data.query(\"method!='GNAR' and method!='STGCN'\").sort_values(['mrate','nof_filters'])"
      ],
      "id": "bbae1f28-49dc-4c30-9e45-c182cb5e385f"
    },
    {
      "cell_type": "markdown",
      "metadata": {},
      "source": [
        "linear, 0.7\\~0.9, 4,8,"
      ],
      "id": "4174c944-1d33-4048-99a9-01f1ec5e5af9"
    },
    {
      "cell_type": "code",
      "execution_count": 117,
      "metadata": {},
      "outputs": [],
      "source": [
        "data.to_csv('./simulation_results/Real_simulation/windmilmedium_Simulation.csv',index=False)"
      ],
      "id": "d1914af2-bdf2-4dd1-af79-95301130d351"
    },
    {
      "cell_type": "code",
      "execution_count": 118,
      "metadata": {},
      "outputs": [],
      "source": [
        "data.query(\"method!='GNAR'\")['calculation_time'].mean(),data.query(\"method!='GNAR'\")['calculation_time'].max(),data.query(\"method!='GNAR'\")['calculation_time'].min()"
      ],
      "id": "11691adc-195b-459e-b1ae-6bab8dac11fd"
    },
    {
      "cell_type": "markdown",
      "metadata": {},
      "source": [
        "# Windmillmedium simulation result"
      ],
      "id": "4a4e0858-a422-4c7c-bfc6-6fe0c5b98cc2"
    },
    {
      "cell_type": "code",
      "execution_count": 189,
      "metadata": {},
      "outputs": [],
      "source": [
        "# df1 = pd.read_csv('./simulation_results/2023-05-08_02-08-10.csv')\n",
        "df2 = pd.read_csv('./simulation_results/2023-05-08_14-58-04.csv')\n",
        "df3 = pd.read_csv('./simulation_results/2023-05-09_03-44-04.csv')\n",
        "df4 = pd.read_csv('./simulation_results/2023-05-09_19-32-04.csv') # STGCN IT-STGCN\n",
        "df5 = pd.read_csv('./simulation_results/2023-05-10_01-07-21.csv') # STGCN IT-STGCN\n",
        "df6 = pd.read_csv('./simulation_results/2023-05-10_06-15-13.csv') # \n",
        "df7 = pd.read_csv('./simulation_results/2023-05-10_10-15-50.csv') # STGCN IT-STGCN\n",
        "df8 = pd.read_csv('./simulation_results/2023-05-10_14-09-03.csv') # STGCN IT-STGCN\n",
        "df9 = pd.read_csv('./simulation_results/2023-05-10_17-09-38.csv') # GNAR\n",
        "df10 = pd.read_csv('./simulation_results/2023-05-10_18-00-11.csv') # STGCN IT-STGCN\n",
        "df11 = pd.read_csv('./simulation_results/2023-05-10_21-50-37.csv') # STGCN IT-STGCN\n",
        "df12 = pd.read_csv('./simulation_results/2023-05-11_01-41-04.csv') # STGCN IT-STGCN\n",
        "df13 = pd.read_csv('./simulation_results/2023-05-11_05-31-29.csv') # STGCN IT-STGCN\n",
        "df14 = pd.read_csv('./simulation_results/2023-05-11_13-25-58.csv') # STGCN IT-STGCN\n",
        "df15 = pd.read_csv('./simulation_results/2023-05-11_13-26-45.csv') # STGCN IT-STGCN\n",
        "df16 = pd.read_csv('./simulation_results/2023-05-11_18-33-31.csv') # STGCN IT-STGCN\n",
        "df17 = pd.read_csv('./simulation_results/2023-05-11_18-39-14.csv') # STGCN IT-STGCN\n",
        "df18 = pd.read_csv('./simulation_results/2023-05-12_00-06-22.csv') # STGCN IT-STGCN\n",
        "df19 = pd.read_csv('./simulation_results/2023-05-12_00-10-51.csv') # STGCN IT-STGCN\n",
        "df20 = pd.read_csv('./simulation_results/2023-05-12_05-17-16.csv') # STGCN IT-STGCN\n",
        "df21 = pd.read_csv('./simulation_results/2023-05-12_05-17-50.csv') # STGCN IT-STGCN\n",
        "df22 = pd.read_csv('./simulation_results/2023-05-13_18-46-25.csv') # STGCN IT-STGCN\n",
        "df23 = pd.read_csv('./simulation_results/2023-05-13_18-47-00.csv') # STGCN IT-STGCN\n",
        "df24 = pd.read_csv('./simulation_results/2023-05-13_23-16-09.csv') # STGCN IT-STGCN\n",
        "df25 = pd.read_csv('./simulation_results/2023-05-13_23-20-14.csv') # STGCN IT-STGCN\n",
        "df26 = pd.read_csv('./simulation_results/2023-05-14_03-54-19.csv') # STGCN IT-STGCN\n",
        "df27 = pd.read_csv('./simulation_results/2023-05-14_08-16-42.csv') # STGCN IT-STGCN\n",
        "# df28 = pd.read_csv('./simulation_results/2023-05-03_13-43-11.csv') # STGCN IT-STGCN\n",
        "# df29 = pd.read_csv('./simulation_results/2023-05-03_21-58-04.csv') # STGCN IT-STGCN\n",
        "# df30 = pd.read_csv('./simulation_results/2023-05-04_04-39-00.csv') # STGCN IT-STGCN\n",
        "# df31 = pd.read_csv('./simulation_results/2023-04-23_15-22-36.csv') # \n",
        "# df32 = pd.read_csv('./simulation_results/2023-04-29_06-54-40.csv') #  \n",
        "# df33 = pd.read_csv('./simulation_results/2023-04-30_18-55-12.csv')\n",
        "# df34 = pd.read_csv('./simulation_results/2023-05-01_02-55-33.csv')\n",
        "# df35 = pd.read_csv('./simulation_results/2023-05-01_10-21-15.csv')\n",
        "# df36 = pd.read_csv('./simulation_results/2023-05-01_19-23-57.csv')\n",
        "# df37 = pd.read_csv('./simulation_results/2023-05-02_01-10-53.csv')\n",
        "# df38 = pd.read_csv('./simulation_results/2023-05-02_08-26-53.csv')\n",
        "# df39 = pd.read_csv('./simulation_results/2023-05-02_16-00-40.csv')\n",
        "# df40 = pd.read_csv('./simulation_results/2023-05-03_00-34-09.csv')\n",
        "# df41 = pd.read_csv('./simulation_results/2023-05-03_08-04-42.csv')\n",
        "# df42 = pd.read_csv('./simulation_results/2023-05-03_15-50-50.csv')\n",
        "# df43 = pd.read_csv('./simulation_results/2023-05-03_23-46-56.csv')\n",
        "# df44 = pd.read_csv('./simulation_results/2023-05-04_05-22-59.csv')\n",
        "# df45 = pd.read_csv('./simulation_results/2023-05-04_09-22-37.csv')\n",
        "# df46 = pd.read_csv('./simulation_results/2023-05-04_15-00-57.csv')\n",
        "# df47 = pd.read_csv('./simulation_results/2023-05-04_23-41-21.csv')\n",
        "# df48 = pd.read_csv('./simulation_results/2023-05-05_07-23-04.csv')\n",
        "# df49 = pd.read_csv('./simulation_results/2023-05-05_15-03-17.csv')\n",
        "# df50 = pd.read_csv('./simulation_results/2023-05-06_05-18-07.csv')\n",
        "# df51 = pd.read_csv('./simulation_results/2023-05-06_12-57-14.csv')\n",
        "# df52 = pd.read_csv('./simulation_results/2023-05-06_19-10-23.csv')\n",
        "# df53 = pd.read_csv('./simulation_results/2023-05-07_03-20-10.csv')\n",
        "# df54 = pd.read_csv('./simulation_results/2023-05-07_11-26-24.csv')\n",
        "# df55 = pd.read_csv('./simulation_results/2023-05-08_00-04-56.csv')\n",
        "# df56 = pd.read_csv('./simulation_results/2023-05-08_04-27-01.csv')\n",
        "# df57 = pd.read_csv('./simulation_results/2023-05-08_10-06-55.csv')\n",
        "# df58 = pd.read_csv('./simulation_results/2023-05-08_17-50-36.csv')\n",
        "# df59 = pd.read_csv('./simulation_results/2023-05-09_03-28-08.csv')\n",
        "# df60 = pd.read_csv('./simulation_results/2023-05-09_11-08-10.csv')\n",
        "# df61 = pd.read_csv('./simulation_results/2023-05-09_20-11-45.csv')"
      ],
      "id": "0d9ef084-e80d-4a92-bd8d-9fec756e54bf"
    },
    {
      "cell_type": "code",
      "execution_count": 190,
      "metadata": {},
      "outputs": [],
      "source": [
        "data = pd.concat([df2,df3,df4,df5,df6,df7,df8,df9,df10,df11,df12,df13,df14,\n",
        "                 df15,df16,df17,df18,df19,df20,df21,df22,df23,df24,df25,\n",
        "                 df26,df27],axis=0)"
      ],
      "id": "d1a9e14d-85d6-413e-9365-4fcbafefac38"
    },
    {
      "cell_type": "code",
      "execution_count": 191,
      "metadata": {},
      "outputs": [],
      "source": [
        "data.to_csv('./simulation_results/Real_simulation/windmillmedium.csv',index=False)"
      ],
      "id": "e35cd222-03ce-4a6d-93c8-9a6ee162724b"
    },
    {
      "cell_type": "code",
      "execution_count": 192,
      "metadata": {},
      "outputs": [],
      "source": [
        "data = pd.read_csv('./simulation_results/Real_simulation/windmillmedium.csv')"
      ],
      "id": "b592bc97-41b4-4f1e-b5a2-53ee6311554f"
    },
    {
      "cell_type": "code",
      "execution_count": 193,
      "metadata": {},
      "outputs": [],
      "source": [
        "data.query(\"method=='GNAR'\")['mse'].unique()"
      ],
      "id": "cad47bb8-26a8-457b-bca4-840f201e2080"
    },
    {
      "cell_type": "code",
      "execution_count": 194,
      "metadata": {},
      "outputs": [],
      "source": [
        "data.query(\"method!='GNAR' and mrate ==0\").plot.box(backend='plotly',x='mrate',color='method',y='mse',facet_col='lags',height=800)\n"
      ],
      "id": "a4d0edec-55d4-4ef7-b1da-fe0f72227051"
    },
    {
      "cell_type": "code",
      "execution_count": 195,
      "metadata": {},
      "outputs": [],
      "source": [
        "data.query(\"method!='GNAR' and mrate !=0\").plot.box(backend='plotly',x='mrate',color='method',y='mse',facet_col='lags',height=800)\n"
      ],
      "id": "538fa4d1-73ad-4a6d-9c95-989f6c24406f"
    },
    {
      "cell_type": "markdown",
      "metadata": {},
      "source": [
        "# Windmilsmall"
      ],
      "id": "1a744c0d-76da-424e-a8ad-0ff60bd9f223"
    },
    {
      "cell_type": "code",
      "execution_count": 125,
      "metadata": {},
      "outputs": [],
      "source": [
        "df1 = pd.read_csv('./simulation_results/2023-04-15_10-59-28.csv') # GNAR\n",
        "df2 = pd.read_csv('./simulation_results/2023-04-15_11-15-05.csv') # STGCN IT-STGCN\n",
        "df3 = pd.read_csv('./simulation_results/2023-04-15_11-30-48.csv') # STGCN IT-STGCN\n",
        "df4 = pd.read_csv('./simulation_results/2023-04-15_11-46-45.csv') # STGCN IT-STGCN\n",
        "df5 = pd.read_csv('./simulation_results/2023-04-15_12-02-19.csv') # STGCN IT-STGCN\n",
        "df6 = pd.read_csv('./simulation_results/2023-04-15_15-00-32.csv') # STGCN IT-STGCN\n",
        "# df7 = pd.read_csv('./simulation_results/2023-04-15_10-15-48.csv') # STGCN IT-STGCN\n",
        "# df8 = pd.read_csv('./simulation_results/2023-04-15_10-25-19.csv') # STGCN IT-STGCN\n",
        "# df9 = pd.read_csv('./simulation_results/2023-04-15_10-34-48.csv') # STGCN IT-STGCN\n",
        "# df10 = pd.read_csv('./simulation_results/2023-04-15_10-43-02.csv') # STGCN IT-STGCN"
      ],
      "id": "3dc79f4d-de6a-465e-9791-49b916973c52"
    },
    {
      "cell_type": "code",
      "execution_count": 126,
      "metadata": {},
      "outputs": [],
      "source": [
        "data = pd.concat([df1,df2,df3,df4,df5,df6],axis=0)"
      ],
      "id": "613ac349-c0f6-49fd-86c8-cda4ca633c13"
    },
    {
      "cell_type": "code",
      "execution_count": 127,
      "metadata": {},
      "outputs": [],
      "source": [
        "data.query(\"method=='GNAR'\").sort_values(['mrate','nof_filters'])"
      ],
      "id": "1fd3c008-5d34-416f-9e65-a8cebf3db806"
    },
    {
      "cell_type": "code",
      "execution_count": 128,
      "metadata": {},
      "outputs": [],
      "source": [
        "data.query(\"method!='GNAR' and method=='STGCN'\").sort_values(['mrate','nof_filters'])"
      ],
      "id": "dbf41cc7-10ac-4e04-a11e-fd8419c62474"
    },
    {
      "cell_type": "code",
      "execution_count": 129,
      "metadata": {},
      "outputs": [],
      "source": [
        "data.query(\"method!='GNAR' and method!='STGCN'\").sort_values(['mrate','nof_filters'])"
      ],
      "id": "1b29ee3f-8062-46ff-925c-9558d8a8b344"
    },
    {
      "cell_type": "markdown",
      "metadata": {},
      "source": [
        "linear, lags 4,8. filter 8,12\n",
        "\n",
        "# Windmillsmall simulation result\n",
        "\n",
        "## Baseline"
      ],
      "id": "ed2f875c-b5d0-484d-97a4-b24aad2001f6"
    },
    {
      "cell_type": "code",
      "execution_count": 130,
      "metadata": {},
      "outputs": [],
      "source": [
        "df1 = pd.read_csv('./simulation_results/2023-04-17_06-05-37.csv') # STGCN IT-STGCN 70%\n",
        "df2 = pd.read_csv('./simulation_results/2023-04-17_08-05-26.csv') # STGCN IT-STGCN\n",
        "df3 = pd.read_csv('./simulation_results/2023-04-17_13-41-19.csv') # STGCN IT-STGCN\n",
        "df4 = pd.read_csv('./simulation_results/2023-04-17_15-44-21.csv') # STGCN IT-STGCN\n",
        "df5 = pd.read_csv('./simulation_results/2023-04-17_21-27-38.csv') # STGCN IT-STGCN\n",
        "# df6 = pd.read_csv('./simulation_results/2023-04-15_15-00-32.csv') # GNAR 30%, 50%, 70% # 뭔가 일단 필요없어서 데이터셋에서 뺌\n",
        "df7 = pd.read_csv('./simulation_results/2023-04-18_05-01-55.csv') # STGCN IT-STGCN\n",
        "df8 = pd.read_csv('./simulation_results/2023-04-18_06-14-06.csv') # STGCN IT-STGCN\n",
        "df9 = pd.read_csv('./simulation_results/2023-04-18_17-32-30.csv') # STGCN IT-STGCN\n",
        "df10 = pd.read_csv('./simulation_results/2023-04-19_01-52-24.csv') # STGCN IT-STGCN\n",
        "df11 = pd.read_csv('./simulation_results/2023-04-19_07-50-52.csv') # STGCN IT-STGCN\n",
        "df12 = pd.read_csv('./simulation_results/2023-04-19_09-30-25.csv') # STGCN IT-STGCN\n",
        "df13 = pd.read_csv('./simulation_results/2023-04-19_15-32-55.csv') # STGCN IT-STGCN\n",
        "df14 = pd.read_csv('./simulation_results/2023-04-19_17-12-06.csv') # STGCN IT-STGCN\n",
        "df15 = pd.read_csv('./simulation_results/2023-04-19_23-07-36.csv') # STGCN IT-STGCN\n",
        "df16 = pd.read_csv('./simulation_results/2023-04-20_00-46-43.csv') # STGCN IT-STGCN\n",
        "df17 = pd.read_csv('./simulation_results/2023-04-20_06-51-34.csv') # STGCN IT-STGCN\n",
        "df18 = pd.read_csv('./simulation_results/2023-04-20_08-30-27.csv') # STGCN IT-STGCN\n",
        "df19 = pd.read_csv('./simulation_results/2023-04-20_14-28-35.csv') # STGCN IT-STGCN\n",
        "df20 = pd.read_csv('./simulation_results/2023-04-20_16-08-39.csv') # STGCN IT-STGCN\n",
        "df21 = pd.read_csv('./simulation_results/2023-04-20_22-09-37.csv') # STGCN IT-STGCN\n",
        "df22 = pd.read_csv('./simulation_results/2023-04-20_23-48-26.csv') # STGCN IT-STGCN\n",
        "df23 = pd.read_csv('./simulation_results/2023-04-21_05-36-47.csv') # STGCN IT-STGCN\n",
        "df24 = pd.read_csv('./simulation_results/2023-04-21_15-26-00.csv') # STGCN IT-STGCN\n",
        "df25 = pd.read_csv('./simulation_results/2023-04-21_23-27-11.csv') # STGCN IT-STGCN\n",
        "df26 = pd.read_csv('./simulation_results/2023-04-22_07-46-08.csv') # STGCN IT-STGCN\n",
        "df27 = pd.read_csv('./simulation_results/2023-04-22_15-45-20.csv') # STGCN IT-STGCN\n",
        "df28 = pd.read_csv('./simulation_results/2023-04-22_22-57-31.csv') # STGCN IT-STGCN\n",
        "df29 = pd.read_csv('./simulation_results/2023-04-23_07-00-15.csv') # STGCN IT-STGCN\n",
        "df30 = pd.read_csv('./simulation_results/2023-04-23_15-18-02.csv') # STGCN IT-STGCN\n",
        "df31 = pd.read_csv('./simulation_results/2023-04-23_15-22-36.csv') # GNAR 70%\n",
        "# baseline\n",
        "df32 = pd.read_csv('./simulation_results/2023-04-29_06-54-40.csv') # GNAR \n",
        "df33 = pd.read_csv('./simulation_results/2023-04-30_18-55-12.csv')\n",
        "df34 = pd.read_csv('./simulation_results/2023-05-01_02-55-33.csv')\n",
        "df35 = pd.read_csv('./simulation_results/2023-05-01_10-21-15.csv')\n",
        "df36 = pd.read_csv('./simulation_results/2023-05-01_19-23-57.csv')\n",
        "df37 = pd.read_csv('./simulation_results/2023-05-02_01-10-53.csv')\n",
        "df38 = pd.read_csv('./simulation_results/2023-05-02_08-26-53.csv')\n",
        "df39 = pd.read_csv('./simulation_results/2023-05-02_16-00-40.csv')\n",
        "df40 = pd.read_csv('./simulation_results/2023-05-03_00-34-09.csv')\n",
        "df41 = pd.read_csv('./simulation_results/2023-05-03_08-04-42.csv')\n",
        "df42 = pd.read_csv('./simulation_results/2023-05-03_15-50-50.csv')\n",
        "df43 = pd.read_csv('./simulation_results/2023-05-03_23-46-56.csv')\n",
        "df44 = pd.read_csv('./simulation_results/2023-05-04_05-22-59.csv')\n",
        "df45 = pd.read_csv('./simulation_results/2023-05-04_09-22-37.csv')\n",
        "df46 = pd.read_csv('./simulation_results/2023-05-04_15-00-57.csv')\n",
        "df47 = pd.read_csv('./simulation_results/2023-05-04_23-41-21.csv')\n",
        "df48 = pd.read_csv('./simulation_results/2023-05-05_07-23-04.csv')\n",
        "df49 = pd.read_csv('./simulation_results/2023-05-05_15-03-17.csv')\n",
        "df50 = pd.read_csv('./simulation_results/2023-05-06_05-18-07.csv')\n",
        "df51 = pd.read_csv('./simulation_results/2023-05-06_12-57-14.csv')\n",
        "df52 = pd.read_csv('./simulation_results/2023-05-06_19-10-23.csv')\n",
        "df53 = pd.read_csv('./simulation_results/2023-05-07_03-20-10.csv')\n",
        "df54 = pd.read_csv('./simulation_results/2023-05-07_11-26-24.csv')\n",
        "df55 = pd.read_csv('./simulation_results/2023-05-08_00-04-56.csv')\n",
        "df56 = pd.read_csv('./simulation_results/2023-05-08_04-27-01.csv')\n",
        "df57 = pd.read_csv('./simulation_results/2023-05-08_10-06-55.csv')\n",
        "df58 = pd.read_csv('./simulation_results/2023-05-08_17-50-36.csv')\n",
        "df59 = pd.read_csv('./simulation_results/2023-05-09_03-28-08.csv')\n",
        "df60 = pd.read_csv('./simulation_results/2023-05-09_11-08-10.csv')\n",
        "df61 = pd.read_csv('./simulation_results/2023-05-09_20-11-45.csv')"
      ],
      "id": "80710040-9364-4c1d-82b8-92f457ef4a84"
    },
    {
      "cell_type": "code",
      "execution_count": 131,
      "metadata": {},
      "outputs": [],
      "source": [
        "data = pd.concat([df1,df2,df3,df4,df5,df7,df8,df9,df10,df11,df12,df13,df14,df15,df16,df17,df18,\n",
        "                 df19,df20,df21,df22,df23,df24,df25,df26,df27,df28,df29,df30,df31,df32,df33,df34,\n",
        "                 df35,df36,df37,df38,df39,df40,df41,df42,df43,df44,df45,df46,df47,df48,df49,df50,\n",
        "                 df51,df52,df53,df54,df55,df56,df57,df58,df59,df60,df61],axis=0)"
      ],
      "id": "df7c86dc-e91f-443a-a15c-45867fec32cf"
    },
    {
      "cell_type": "code",
      "execution_count": 132,
      "metadata": {},
      "outputs": [],
      "source": [
        "data.to_csv('./simulation_results/Real_simulation/windmillsmall.csv',index=False)"
      ],
      "id": "10be8362-86d5-44f9-8492-ae8601687c6c"
    },
    {
      "cell_type": "code",
      "execution_count": 133,
      "metadata": {},
      "outputs": [],
      "source": [
        "data = pd.read_csv('./simulation_results/Real_simulation/windmillsmall.csv')"
      ],
      "id": "b92ab79d-d6ed-4ce7-bedd-8e2f2f077000"
    },
    {
      "cell_type": "code",
      "execution_count": 134,
      "metadata": {},
      "outputs": [],
      "source": [
        "data.query(\"method=='GNAR' and mrate ==0\")['mse'].unique()"
      ],
      "id": "852248b5-a8c4-43b5-9fee-480e07cde7a4"
    },
    {
      "cell_type": "code",
      "execution_count": 135,
      "metadata": {},
      "outputs": [],
      "source": [
        "data.query(\"method!='GNAR' and mrate ==0 \").plot.box(backend='plotly',x='mrate',color='method',y='mse',facet_col='lags',height=800)\n"
      ],
      "id": "7087846f-6924-442a-80c4-1cd748a69b4f"
    },
    {
      "cell_type": "markdown",
      "metadata": {},
      "source": [
        "## random"
      ],
      "id": "0fea7a4e-cfdf-49e1-9162-fc9ef9ffa277"
    },
    {
      "cell_type": "code",
      "execution_count": 136,
      "metadata": {},
      "outputs": [],
      "source": [
        "data.query(\"method=='GNAR' and mrate !=0\")['mse'].unique()"
      ],
      "id": "879912b6-0f81-40fc-81b3-d42d768516f7"
    },
    {
      "cell_type": "code",
      "execution_count": 137,
      "metadata": {},
      "outputs": [],
      "source": [
        "data.query(\"method!='GNAR' and mtype =='rand' \").plot.box(backend='plotly',x='mrate',color='method',y='mse',facet_col='lags',facet_row='inter_method',height=800)\n"
      ],
      "id": "efd7928f-3eb4-4a54-ad0d-a99c9b218cf4"
    },
    {
      "cell_type": "markdown",
      "metadata": {},
      "source": [
        "## block"
      ],
      "id": "bb1af752-5e3e-47d9-9f5f-0bf1b414dee2"
    },
    {
      "cell_type": "code",
      "execution_count": 138,
      "metadata": {
        "tags": []
      },
      "outputs": [],
      "source": [
        "df1 = pd.read_csv('./simulation_results/2023-04-24_02-48-08.csv') # STGCN IT-STGCN block\n",
        "df2 = pd.read_csv('./simulation_results/2023-04-24_10-57-10.csv') # STGCN IT-STGCN\n",
        "df3 = pd.read_csv('./simulation_results/2023-04-24_18-53-34.csv') # STGCN IT-STGCN\n",
        "df4 = pd.read_csv('./simulation_results/2023-04-25_02-30-27.csv') # STGCN IT-STGCN\n",
        "df5 = pd.read_csv('./simulation_results/2023-04-25_10-48-46.csv') # STGCN IT-STGCN\n",
        "df6 = pd.read_csv('./simulation_results/2023-04-25_10-53-14.csv') # GNAR \n",
        "df7 = pd.read_csv('./simulation_results/2023-04-25_18-40-53.csv') # STGCN IT-STGCN\n",
        "df8 = pd.read_csv('./simulation_results/2023-04-25_23-30-08.csv') # STGCN IT-STGCN\n",
        "df9 = pd.read_csv('./simulation_results/2023-04-26_04-15-00.csv') # STGCN IT-STGCN\n",
        "df10 = pd.read_csv('./simulation_results/2023-04-27_07-59-36.csv') # STGCN IT-STGCN\n",
        "df11 = pd.read_csv('./simulation_results/2023-04-27_15-29-00.csv') # STGCN IT-STGCN\n",
        "df12 = pd.read_csv('./simulation_results/2023-04-27_23-37-18.csv') # STGCN IT-STGCN\n",
        "df13 = pd.read_csv('./simulation_results/2023-04-28_08-21-54.csv') # STGCN IT-STGCN\n",
        "df14 = pd.read_csv('./simulation_results/2023-04-28_16-06-55.csv') # STGCN IT-STGCN\n",
        "df15 = pd.read_csv('./simulation_results/2023-04-28_21-19-37.csv') # STGCN IT-STGCN\n",
        "df16 = pd.read_csv('./simulation_results/2023-04-29_03-07-03.csv') # STGCN IT-STGCN\n",
        "df17 = pd.read_csv('./simulation_results/2023-04-29_09-00-42.csv') # STGCN IT-STGCN\n",
        "df18 = pd.read_csv('./simulation_results/2023-04-29_19-07-49.csv') # STGCN IT-STGCN\n",
        "df19 = pd.read_csv('./simulation_results/2023-04-30_05-14-07.csv') # STGCN IT-STGCN\n",
        "df20 = pd.read_csv('./simulation_results/2023-04-30_15-23-16.csv') # STGCN IT-STGCN\n",
        "df21 = pd.read_csv('./simulation_results/2023-05-01_00-16-37.csv') # STGCN IT-STGCN\n",
        "df22 = pd.read_csv('./simulation_results/2023-05-01_07-41-52.csv') # STGCN IT-STGCN\n",
        "df23 = pd.read_csv('./simulation_results/2023-05-01_16-21-41.csv') # STGCN IT-STGCN\n",
        "df24 = pd.read_csv('./simulation_results/2023-05-01_23-38-23.csv') # STGCN IT-STGCN\n",
        "df25 = pd.read_csv('./simulation_results/2023-05-02_13-51-13.csv') # STGCN IT-STGCN\n",
        "df26 = pd.read_csv('./simulation_results/2023-05-02_21-43-26.csv') # STGCN IT-STGCN\n",
        "df27 = pd.read_csv('./simulation_results/2023-05-03_06-04-32.csv') # STGCN IT-STGCN\n",
        "df28 = pd.read_csv('./simulation_results/2023-05-03_13-43-11.csv') # STGCN IT-STGCN\n",
        "df29 = pd.read_csv('./simulation_results/2023-05-03_21-58-04.csv') # STGCN IT-STGCN\n",
        "df30 = pd.read_csv('./simulation_results/2023-05-04_04-39-00.csv') # STGCN IT-STGCN"
      ],
      "id": "167756cf-8240-4319-906b-6c1c49ceb156"
    },
    {
      "cell_type": "code",
      "execution_count": 139,
      "metadata": {},
      "outputs": [],
      "source": [
        "data = pd.concat([df1,df2,df3,df4,df5,df6,df7,df8,df9,df10,df11,df12,df13,df14,df15,df16,\n",
        "                 df17,df18,df19,df20,df21,df22,df23,df24,df25,df26,df27,df28,df29,df30],axis=0)"
      ],
      "id": "99f3362e-f653-46ae-a5c5-984e32485c07"
    },
    {
      "cell_type": "code",
      "execution_count": 140,
      "metadata": {},
      "outputs": [],
      "source": [
        "data.to_csv('./simulation_results/Real_simulation/windmillsmall_block.csv',index=False)"
      ],
      "id": "83b0ffaf-1a56-44c4-a27b-483faa79faff"
    },
    {
      "cell_type": "code",
      "execution_count": 141,
      "metadata": {},
      "outputs": [],
      "source": [
        "data = pd.read_csv('./simulation_results/Real_simulation/windmillsmall_block.csv')"
      ],
      "id": "9fa7ec11-5ad4-4814-9dcf-2536933a6234"
    },
    {
      "cell_type": "code",
      "execution_count": 142,
      "metadata": {},
      "outputs": [],
      "source": [
        "data.query(\"method=='GNAR'\")['mse'].unique()"
      ],
      "id": "be2f02bc-75bd-4756-88b2-a1d3b4933f10"
    },
    {
      "cell_type": "code",
      "execution_count": 143,
      "metadata": {},
      "outputs": [],
      "source": [
        "data.query(\"method!='GNAR' and mtype =='block' \").plot.box(backend='plotly',x='mrate',color='method',y='mse',facet_col='lags',facet_row='inter_method',height=800)\n"
      ],
      "id": "73ef586d-c095-48b2-a5c4-f8ee2496a927"
    },
    {
      "cell_type": "markdown",
      "metadata": {},
      "source": [
        "# Windmillsmall DCRNN result"
      ],
      "id": "463a362a-6ce6-4df6-ad77-d8f39ad4e2df"
    },
    {
      "cell_type": "code",
      "execution_count": 249,
      "metadata": {},
      "outputs": [],
      "source": [
        "df1 = pd.read_csv('./simulation_results/2023-05-15_11-59-18.csv')\n",
        "# df2 = pd.read_csv('./simulation_results/2023-05-15_05-15-48.csv')\n",
        "# df3 = pd.read_csv('./simulation_results/2023-05-15_08-26-11.csv')\n",
        "# df4 = pd.read_csv('./simulation_results/2023-04-23_13-13-49.csv')"
      ],
      "id": "45b75e4e-3130-4d2a-b9b0-6c2668915c51"
    },
    {
      "cell_type": "code",
      "execution_count": 250,
      "metadata": {},
      "outputs": [],
      "source": [
        "data = pd.concat([df1],axis=0)"
      ],
      "id": "ae9589d2-3b9f-4d98-a265-6b142ebf545e"
    },
    {
      "cell_type": "code",
      "execution_count": 251,
      "metadata": {},
      "outputs": [],
      "source": [
        "data.to_csv('./simulation_results/DCRNN/windmillsmall_DCRNN.csv',index=False)"
      ],
      "id": "a17764db-777a-46cf-aa04-d2149d5054da"
    },
    {
      "cell_type": "code",
      "execution_count": 252,
      "metadata": {},
      "outputs": [],
      "source": [
        "data = pd.read_csv('./simulation_results/DCRNN/windmillsmall_DCRNN.csv')"
      ],
      "id": "9c47b43b-7e8c-4101-a37b-c2aa447c1677"
    },
    {
      "cell_type": "markdown",
      "metadata": {},
      "source": [
        "# Montevideobus"
      ],
      "id": "1430c38c-4a7e-4db6-819e-50071a9708ef"
    },
    {
      "cell_type": "code",
      "execution_count": 144,
      "metadata": {},
      "outputs": [],
      "source": [
        "df1 = pd.read_csv('./simulation_results/2023-04-30_23-28-01.csv') # lags 8\n",
        "df2 = pd.read_csv('./simulation_results/2023-05-01_01-48-57.csv') # lags 8\n",
        "df3 = pd.read_csv('./simulation_results/2023-05-01_04-10-06.csv') # lags 8\n",
        "df4 = pd.read_csv('./simulation_results/2023-05-01_06-29-43.csv') # lags 8\n",
        "df5 = pd.read_csv('./simulation_results/2023-05-01_08-56-25.csv') # lags 8\n",
        "df6 = pd.read_csv('./simulation_results/2023-05-01_11-21-53.csv') # lags 8\n",
        "df7 = pd.read_csv('./simulation_results/2023-05-01_14-35-28.csv') # lags 4\n",
        "df8 = pd.read_csv('./simulation_results/2023-05-01_17-41-15.csv')\n",
        "df9 = pd.read_csv('./simulation_results/2023-05-01_22-34-25.csv')\n",
        "df10 = pd.read_csv('./simulation_results/2023-05-01_20-14-49.csv')\n",
        "df11 = pd.read_csv('./simulation_results/2023-05-02_01-12-01.csv')\n",
        "df12 = pd.read_csv('./simulation_results/2023-05-02_03-31-06.csv')\n",
        "df13 = pd.read_csv('./simulation_results/2023-05-02_05-47-02.csv') # STGCN IT-STGCN\n",
        "df14 = pd.read_csv('./simulation_results/2023-05-02_08-06-05.csv') # STGCN IT-STGCN\n",
        "df15 = pd.read_csv('./simulation_results/2023-05-02_10-22-46.csv') # STGCN IT-STGCN\n",
        "df16 = pd.read_csv('./simulation_results/2023-05-02_12-55-51.csv') # STGCN IT-STGCN\n",
        "df17 = pd.read_csv('./simulation_results/2023-05-02_15-20-11.csv') # STGCN IT-STGCN\n",
        "df18 = pd.read_csv('./simulation_results/2023-05-02_18-02-21.csv') # STGCN IT-STGCN\n",
        "df19 = pd.read_csv('./simulation_results/2023-05-02_20-30-09.csv') # STGCN IT-STGCN\n",
        "df20 = pd.read_csv('./simulation_results/2023-05-02_23-27-13.csv') # STGCN IT-STGCN\n",
        "df21 = pd.read_csv('./simulation_results/2023-05-03_06-49-15.csv') # STGCN IT-STGCN\n",
        "df22 = pd.read_csv('./simulation_results/2023-05-03_04-25-39.csv') # STGCN IT-STGCN\n",
        "df23 = pd.read_csv('./simulation_results/2023-05-03_02-15-10.csv') # STGCN IT-STGCN\n",
        "df24 = pd.read_csv('./simulation_results/2023-05-03_09-11-42.csv') # STGCN IT-STGCN\n",
        "df25 = pd.read_csv('./simulation_results/2023-05-03_11-51-31.csv') # STGCN IT-STGCN\n",
        "df26 = pd.read_csv('./simulation_results/2023-05-03_14-26-55.csv') # STGCN IT-STGCN\n",
        "df27 = pd.read_csv('./simulation_results/2023-05-03_16-53-12.csv') # STGCN IT-STGCN\n",
        "df28 = pd.read_csv('./simulation_results/2023-05-03_19-26-00.csv') # STGCN IT-STGCN\n",
        "df29 = pd.read_csv('./simulation_results/2023-05-04_00-44-17.csv') # STGCN IT-STGCN\n",
        "df30 = pd.read_csv('./simulation_results/2023-05-04_03-00-08.csv') # STGCN IT-STGCN"
      ],
      "id": "d8e52eaf-eaa1-4466-a2ca-e9624df75863"
    },
    {
      "cell_type": "code",
      "execution_count": 145,
      "metadata": {},
      "outputs": [],
      "source": [
        "data = pd.concat([df1,df2,df3,df4,df5,df6,df7,df8,df9,df10,df11,df12,df13,df14,df15,df16,df17,df18,\n",
        "                 df19,df20,df21,df22,df23,df24,df25,df26,df27,df28,df29,df30],axis=0)"
      ],
      "id": "a673fa38-74fb-4e78-ab25-997fe8ff5361"
    },
    {
      "cell_type": "code",
      "execution_count": 146,
      "metadata": {},
      "outputs": [],
      "source": [
        "data.to_csv('./simulation_results/Real_simulation/monte.csv',index=False)"
      ],
      "id": "eceaa568-7ff5-4054-bbb5-9888ca9f30ce"
    },
    {
      "cell_type": "code",
      "execution_count": 147,
      "metadata": {},
      "outputs": [],
      "source": [
        "data = pd.read_csv('./simulation_results/Real_simulation/monte.csv')"
      ],
      "id": "e3ce9147-5a71-49e9-8854-d22fd7443d41"
    },
    {
      "cell_type": "markdown",
      "metadata": {},
      "source": [
        "## Baseline"
      ],
      "id": "2446c333-d9a0-46f2-a702-409fc56a6f0f"
    },
    {
      "cell_type": "code",
      "execution_count": 148,
      "metadata": {},
      "outputs": [],
      "source": [
        "data.query(\"mrate==0 and method!='GNAR'\").plot.box(backend='plotly',x='mrate',color='method',y='mse',facet_col='lags',facet_row='nof_filters',height=600)"
      ],
      "id": "b866d6fa-81a1-452d-b888-c12f4718357d"
    },
    {
      "cell_type": "markdown",
      "metadata": {},
      "source": [
        "## random"
      ],
      "id": "f95ab79a-6c66-4626-8510-0dc4fde31d1c"
    },
    {
      "cell_type": "code",
      "execution_count": 149,
      "metadata": {},
      "outputs": [],
      "source": [
        "data.query(\"method=='GNAR'\").groupby('mrate')['mse'].unique()"
      ],
      "id": "3d99504a-6a65-4f36-9c3b-836c8304d132"
    },
    {
      "cell_type": "code",
      "execution_count": 150,
      "metadata": {},
      "outputs": [],
      "source": [
        "data.query(\"mtype=='rand' and mrate !=0 and method!='GNAR' and mrate!=0.8 and mrate!=0.9\").sort_values('lags').plot.box(backend='plotly',x='mrate',color='method',y='mse',facet_col='lags',facet_row='inter_method',height=800)\n"
      ],
      "id": "cc8d727d-fafa-4fed-bb95-fc38db9cb352"
    },
    {
      "cell_type": "code",
      "execution_count": 151,
      "metadata": {},
      "outputs": [],
      "source": [
        "data.query(\"mtype=='rand' and mrate !=0 and method!='GNAR' and mrate!=0.3 and mrate!=0.4\").plot.box(backend='plotly',x='mrate',color='method',y='mse',facet_col='lags',facet_row='inter_method',height=800)\n"
      ],
      "id": "16c5bb67-358c-428d-b3ea-16c3c89d4335"
    },
    {
      "cell_type": "markdown",
      "metadata": {},
      "source": [
        "## block"
      ],
      "id": "c7af54a7-9688-4cd0-8fab-b6118dfe1ad2"
    },
    {
      "cell_type": "code",
      "execution_count": 152,
      "metadata": {},
      "outputs": [],
      "source": [
        "df1 = pd.read_csv('./simulation_results/2023-05-04_21-03-21.csv')\n",
        "df2 = pd.read_csv('./simulation_results/2023-05-05_12-10-44.csv')\n",
        "df3 = pd.read_csv('./simulation_results/2023-05-06_12-42-22.csv')\n",
        "df4 = pd.read_csv('./simulation_results/2023-05-06_15-40-47.csv')"
      ],
      "id": "f2c22b8d-0a2c-4fd8-9ab2-54079d723f54"
    },
    {
      "cell_type": "code",
      "execution_count": 153,
      "metadata": {},
      "outputs": [],
      "source": [
        "data = pd.concat([df1,df2,df3,df4],axis=0)"
      ],
      "id": "8dcdbf3c-088b-4da5-92ae-46c38b02fd98"
    },
    {
      "cell_type": "code",
      "execution_count": 154,
      "metadata": {},
      "outputs": [],
      "source": [
        "data.to_csv('./simulation_results/Real_simulation/monte_block.csv',index=False)"
      ],
      "id": "b49b7a24-d324-45da-9fbf-2886fcd0a1fd"
    },
    {
      "cell_type": "code",
      "execution_count": 155,
      "metadata": {},
      "outputs": [],
      "source": [
        "data = pd.read_csv('./simulation_results/Real_simulation/monte_block.csv')"
      ],
      "id": "a597c836-979f-4d10-8a9a-554184fa14bb"
    },
    {
      "cell_type": "code",
      "execution_count": 156,
      "metadata": {},
      "outputs": [],
      "source": [
        "data.query(\"mtype=='block' and method=='GNAR'\")['mse'].mean()"
      ],
      "id": "8fabb8b0-1b86-4cbb-a61a-76022af287a4"
    },
    {
      "cell_type": "code",
      "execution_count": 157,
      "metadata": {},
      "outputs": [],
      "source": [
        "data.query(\"mtype=='block' and method!='GNAR'\").plot.box(backend='plotly',x='mrate',color='method',y='mse',facet_col='lags',facet_row='nof_filters',height=1200)\n"
      ],
      "id": "02763979-6a32-4520-b575-51c93b5ac9ae"
    }
  ],
  "nbformat": 4,
  "nbformat_minor": 5,
  "metadata": {
    "kernelspec": {
      "name": "python3",
      "display_name": "Python 3",
      "language": "python"
    },
    "language_info": {
      "name": "python",
      "codemirror_mode": {
        "name": "ipython",
        "version": "3"
      },
      "file_extension": ".py",
      "mimetype": "text/x-python",
      "nbconvert_exporter": "python",
      "pygments_lexer": "ipython3",
      "version": "3.8.0"
    }
  }
}
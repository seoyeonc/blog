{
  "cells": [
    {
      "cell_type": "markdown",
      "metadata": {},
      "source": [
        "# GCN\n",
        "\n",
        "SEOYEON CHOI  \n",
        "2022-12-05\n",
        "\n",
        "About GCN Study"
      ],
      "id": "1fb6ee60-6a63-4097-9033-7a5e9de02533"
    }
  ],
  "nbformat": 4,
  "nbformat_minor": 5,
  "metadata": {
    "kernelspec": {
      "display_name": "Python 3",
      "language": "python",
      "name": "python3"
    }
  }
}
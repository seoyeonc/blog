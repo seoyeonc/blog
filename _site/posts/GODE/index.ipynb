{
  "cells": [
    {
      "cell_type": "markdown",
      "metadata": {},
      "source": [
        "# GODE\n",
        "\n",
        "SEOYEON CHOI  \n",
        "2022-09-01\n",
        "\n",
        "About GODE paper"
      ],
      "id": "fdb6ec64-97d8-4e08-81dd-747e6cc4515f"
    }
  ],
  "nbformat": 4,
  "nbformat_minor": 5,
  "metadata": {
    "kernelspec": {
      "display_name": "Python 3",
      "language": "python",
      "name": "python3"
    }
  }
}
{
  "cells": [
    {
      "cell_type": "markdown",
      "metadata": {},
      "source": [
        "# \\*\\*\\[LLM\\]\\*\\*Transformer_META\n",
        "\n",
        "SEOYEON CHOI  \n",
        "2023-08-01\n",
        "\n",
        "# Import"
      ],
      "id": "0ee91ed1-cfcb-4ba3-a8c2-5eb99c8c2d98"
    },
    {
      "cell_type": "code",
      "execution_count": 2,
      "metadata": {},
      "outputs": [],
      "source": [
        "# !pip install -q transformers accelerate sentencepiece\n",
        "# !huggingface-cli login\n",
        "from transformers import AutoTokenizer\n",
        "import transformers\n",
        "import torch\n",
        "import matplotlib.pyplot as plt\n",
        "import pandas as pd\n",
        "import re\n",
        "\n",
        "from sklearn.feature_extraction.text import CountVectorizer\n",
        "from sklearn.preprocessing import LabelEncoder\n",
        "import numpy as np"
      ],
      "id": "05ea4af3-1006-4a87-89d6-9cb8630d4aa9"
    },
    {
      "cell_type": "markdown",
      "metadata": {},
      "source": [
        "# 텍스트 생성\n",
        "\n",
        "## Load a model & tokenizer\n",
        "\n",
        "### chat version은 txt 주고 받는 모델"
      ],
      "id": "74738304-fb13-43d0-95ca-371ee8a4f13e"
    },
    {
      "cell_type": "code",
      "execution_count": 3,
      "metadata": {},
      "outputs": [],
      "source": [
        "model = \"meta-llama/Llama-2-7b-chat-hf\""
      ],
      "id": "054c1247-d20c-4fb4-a31a-9198167645f4"
    },
    {
      "cell_type": "markdown",
      "metadata": {},
      "source": [
        "`AutoTokenizer.from_pretrained`\n",
        "\n",
        "-   사전 훈련된 model 가져와\n",
        "-   인증한 tokenizer를 자동으로 선택하고 사용\n",
        "\n",
        "*꼭 모델을 지정해주고 입력, 바로 모델을 pretrainded에 넣으면 에러 뜸*"
      ],
      "id": "85746316-6c11-4b39-a9e6-0ce92d0b06e0"
    },
    {
      "cell_type": "code",
      "execution_count": 4,
      "metadata": {},
      "outputs": [],
      "source": [
        "tokenizer = AutoTokenizer.from_pretrained(\n",
        "    model,\n",
        "    use_auth_token=True,\n",
        ")"
      ],
      "id": "50183d44-5a52-4e0e-bfb6-3584b20a4bbc"
    },
    {
      "cell_type": "markdown",
      "metadata": {},
      "source": [
        "사용가능한 pretrained된 model들 종류 아직 llama2는 업데이트되지 않은듯\n",
        "\n",
        "    - **albert** -- [`AlbertTokenizer`] or [`AlbertTokenizerFast`] (ALBERT model)\n",
        "    - **align** -- [`BertTokenizer`] or [`BertTokenizerFast`] (ALIGN model)\n",
        "    - **bart** -- [`BartTokenizer`] or [`BartTokenizerFast`] (BART model)\n",
        "    - **barthez** -- [`BarthezTokenizer`] or [`BarthezTokenizerFast`] (BARThez model)\n",
        "    - **bartpho** -- [`BartphoTokenizer`] (BARTpho model)\n",
        "    - **bert** -- [`BertTokenizer`] or [`BertTokenizerFast`] (BERT model)\n",
        "    - **bert-generation** -- [`BertGenerationTokenizer`] (Bert Generation model)\n",
        "    - **bert-japanese** -- [`BertJapaneseTokenizer`] (BertJapanese model)\n",
        "    - **bertweet** -- [`BertweetTokenizer`] (BERTweet model)\n",
        "    - **big_bird** -- [`BigBirdTokenizer`] or [`BigBirdTokenizerFast`] (BigBird model)\n",
        "    - **bigbird_pegasus** -- [`PegasusTokenizer`] or [`PegasusTokenizerFast`] (BigBird-Pegasus model)\n",
        "    - **biogpt** -- [`BioGptTokenizer`] (BioGpt model)\n",
        "    - **blenderbot** -- [`BlenderbotTokenizer`] or [`BlenderbotTokenizerFast`] (Blenderbot model)\n",
        "    - **blenderbot-small** -- [`BlenderbotSmallTokenizer`] (BlenderbotSmall model)\n",
        "    - **blip** -- [`BertTokenizer`] or [`BertTokenizerFast`] (BLIP model)\n",
        "    - **blip-2** -- [`GPT2Tokenizer`] or [`GPT2TokenizerFast`] (BLIP-2 model)\n",
        "    - **bloom** -- [`BloomTokenizerFast`] (BLOOM model)\n",
        "    - **bridgetower** -- [`RobertaTokenizer`] or [`RobertaTokenizerFast`] (BridgeTower model)\n",
        "    - **byt5** -- [`ByT5Tokenizer`] (ByT5 model)\n",
        "    - **camembert** -- [`CamembertTokenizer`] or [`CamembertTokenizerFast`] (CamemBERT model)\n",
        "    - **canine** -- [`CanineTokenizer`] (CANINE model)\n",
        "    - **chinese_clip** -- [`BertTokenizer`] or [`BertTokenizerFast`] (Chinese-CLIP model)\n",
        "    - **clap** -- [`RobertaTokenizer`] or [`RobertaTokenizerFast`] (CLAP model)\n",
        "    - **clip** -- [`CLIPTokenizer`] or [`CLIPTokenizerFast`] (CLIP model)\n",
        "    - **clipseg** -- [`CLIPTokenizer`] or [`CLIPTokenizerFast`] (CLIPSeg model)\n",
        "    - **codegen** -- [`CodeGenTokenizer`] or [`CodeGenTokenizerFast`] (CodeGen model)\n",
        "    - **convbert** -- [`ConvBertTokenizer`] or [`ConvBertTokenizerFast`] (ConvBERT model)\n",
        "    - **cpm** -- [`CpmTokenizer`] or [`CpmTokenizerFast`] (CPM model)\n",
        "    - **cpmant** -- [`CpmAntTokenizer`] (CPM-Ant model)\n",
        "    - **ctrl** -- [`CTRLTokenizer`] (CTRL model)\n",
        "    - **data2vec-text** -- [`RobertaTokenizer`] or [`RobertaTokenizerFast`] (Data2VecText model)\n",
        "    - **deberta** -- [`DebertaTokenizer`] or [`DebertaTokenizerFast`] (DeBERTa model)\n",
        "    - **deberta-v2** -- [`DebertaV2Tokenizer`] or [`DebertaV2TokenizerFast`] (DeBERTa-v2 model)\n",
        "    - **distilbert** -- [`DistilBertTokenizer`] or [`DistilBertTokenizerFast`] (DistilBERT model)\n",
        "    - **dpr** -- [`DPRQuestionEncoderTokenizer`] or [`DPRQuestionEncoderTokenizerFast`] (DPR model)\n",
        "    - **electra** -- [`ElectraTokenizer`] or [`ElectraTokenizerFast`] (ELECTRA model)\n",
        "    - **ernie** -- [`BertTokenizer`] or [`BertTokenizerFast`] (ERNIE model)\n",
        "    - **ernie_m** -- [`ErnieMTokenizer`] (ErnieM model)\n",
        "    - **esm** -- [`EsmTokenizer`] (ESM model)\n",
        "    - **flaubert** -- [`FlaubertTokenizer`] (FlauBERT model)\n",
        "    - **fnet** -- [`FNetTokenizer`] or [`FNetTokenizerFast`] (FNet model)\n",
        "    - **fsmt** -- [`FSMTTokenizer`] (FairSeq Machine-Translation model)\n",
        "    - **funnel** -- [`FunnelTokenizer`] or [`FunnelTokenizerFast`] (Funnel Transformer model)\n",
        "    - **git** -- [`BertTokenizer`] or [`BertTokenizerFast`] (GIT model)\n",
        "    - **gpt-sw3** -- [`GPTSw3Tokenizer`] (GPT-Sw3 model)\n",
        "    - **gpt2** -- [`GPT2Tokenizer`] or [`GPT2TokenizerFast`] (OpenAI GPT-2 model)\n",
        "    - **gpt_bigcode** -- [`GPT2Tokenizer`] or [`GPT2TokenizerFast`] (GPTBigCode model)\n",
        "    - **gpt_neo** -- [`GPT2Tokenizer`] or [`GPT2TokenizerFast`] (GPT Neo model)\n",
        "    - **gpt_neox** -- [`GPTNeoXTokenizerFast`] (GPT NeoX model)\n",
        "    - **gpt_neox_japanese** -- [`GPTNeoXJapaneseTokenizer`] (GPT NeoX Japanese model)\n",
        "    - **gptj** -- [`GPT2Tokenizer`] or [`GPT2TokenizerFast`] (GPT-J model)\n",
        "    - **gptsan-japanese** -- [`GPTSanJapaneseTokenizer`] (GPTSAN-japanese model)\n",
        "    - **groupvit** -- [`CLIPTokenizer`] or [`CLIPTokenizerFast`] (GroupViT model)\n",
        "    - **herbert** -- [`HerbertTokenizer`] or [`HerbertTokenizerFast`] (HerBERT model)\n",
        "    - **hubert** -- [`Wav2Vec2CTCTokenizer`] (Hubert model)\n",
        "    - **ibert** -- [`RobertaTokenizer`] or [`RobertaTokenizerFast`] (I-BERT model)\n",
        "    - **jukebox** -- [`JukeboxTokenizer`] (Jukebox model)\n",
        "    - **layoutlm** -- [`LayoutLMTokenizer`] or [`LayoutLMTokenizerFast`] (LayoutLM model)\n",
        "    - **layoutlmv2** -- [`LayoutLMv2Tokenizer`] or [`LayoutLMv2TokenizerFast`] (LayoutLMv2 model)\n",
        "    - **layoutlmv3** -- [`LayoutLMv3Tokenizer`] or [`LayoutLMv3TokenizerFast`] (LayoutLMv3 model)\n",
        "    - **layoutxlm** -- [`LayoutXLMTokenizer`] or [`LayoutXLMTokenizerFast`] (LayoutXLM model)\n",
        "    - **led** -- [`LEDTokenizer`] or [`LEDTokenizerFast`] (LED model)\n",
        "    - **lilt** -- [`LayoutLMv3Tokenizer`] or [`LayoutLMv3TokenizerFast`] (LiLT model)\n",
        "    - **llama** -- [`LlamaTokenizer`] or [`LlamaTokenizerFast`] (LLaMA model)\n",
        "    - **longformer** -- [`LongformerTokenizer`] or [`LongformerTokenizerFast`] (Longformer model)\n",
        "    - **longt5** -- [`T5Tokenizer`] or [`T5TokenizerFast`] (LongT5 model)\n",
        "    - **luke** -- [`LukeTokenizer`] (LUKE model)\n",
        "    - **lxmert** -- [`LxmertTokenizer`] or [`LxmertTokenizerFast`] (LXMERT model)\n",
        "    - **m2m_100** -- [`M2M100Tokenizer`] (M2M100 model)\n",
        "    - **marian** -- [`MarianTokenizer`] (Marian model)\n",
        "    - **mbart** -- [`MBartTokenizer`] or [`MBartTokenizerFast`] (mBART model)\n",
        "    - **mbart50** -- [`MBart50Tokenizer`] or [`MBart50TokenizerFast`] (mBART-50 model)\n",
        "    - **mega** -- [`RobertaTokenizer`] or [`RobertaTokenizerFast`] (MEGA model)\n",
        "    - **megatron-bert** -- [`BertTokenizer`] or [`BertTokenizerFast`] (Megatron-BERT model)\n",
        "    - **mgp-str** -- [`MgpstrTokenizer`] (MGP-STR model)\n",
        "    - **mluke** -- [`MLukeTokenizer`] (mLUKE model)\n",
        "    - **mobilebert** -- [`MobileBertTokenizer`] or [`MobileBertTokenizerFast`] (MobileBERT model)\n",
        "    - **mpnet** -- [`MPNetTokenizer`] or [`MPNetTokenizerFast`] (MPNet model)\n",
        "    - **mt5** -- [`MT5Tokenizer`] or [`MT5TokenizerFast`] (MT5 model)\n",
        "    - **mvp** -- [`MvpTokenizer`] or [`MvpTokenizerFast`] (MVP model)\n",
        "    - **nezha** -- [`BertTokenizer`] or [`BertTokenizerFast`] (Nezha model)\n",
        "    - **nllb** -- [`NllbTokenizer`] or [`NllbTokenizerFast`] (NLLB model)\n",
        "    - **nllb-moe** -- [`NllbTokenizer`] or [`NllbTokenizerFast`] (NLLB-MOE model)\n",
        "    - **nystromformer** -- [`AlbertTokenizer`] or [`AlbertTokenizerFast`] (Nyströmformer model)\n",
        "    - **oneformer** -- [`CLIPTokenizer`] or [`CLIPTokenizerFast`] (OneFormer model)\n",
        "    - **openai-gpt** -- [`OpenAIGPTTokenizer`] or [`OpenAIGPTTokenizerFast`] (OpenAI GPT model)\n",
        "    - **opt** -- [`GPT2Tokenizer`] or [`GPT2TokenizerFast`] (OPT model)\n",
        "    - **owlvit** -- [`CLIPTokenizer`] or [`CLIPTokenizerFast`] (OWL-ViT model)\n",
        "    - **pegasus** -- [`PegasusTokenizer`] or [`PegasusTokenizerFast`] (Pegasus model)\n",
        "    - **pegasus_x** -- [`PegasusTokenizer`] or [`PegasusTokenizerFast`] (PEGASUS-X model)\n",
        "    - **perceiver** -- [`PerceiverTokenizer`] (Perceiver model)\n",
        "    - **phobert** -- [`PhobertTokenizer`] (PhoBERT model)\n",
        "    - **pix2struct** -- [`T5Tokenizer`] or [`T5TokenizerFast`] (Pix2Struct model)\n",
        "    - **plbart** -- [`PLBartTokenizer`] (PLBart model)\n",
        "    - **prophetnet** -- [`ProphetNetTokenizer`] (ProphetNet model)\n",
        "    - **qdqbert** -- [`BertTokenizer`] or [`BertTokenizerFast`] (QDQBert model)\n",
        "    - **rag** -- [`RagTokenizer`] (RAG model)\n",
        "    - **realm** -- [`RealmTokenizer`] or [`RealmTokenizerFast`] (REALM model)\n",
        "    - **reformer** -- [`ReformerTokenizer`] or [`ReformerTokenizerFast`] (Reformer model)\n",
        "    - **rembert** -- [`RemBertTokenizer`] or [`RemBertTokenizerFast`] (RemBERT model)\n",
        "    - **retribert** -- [`RetriBertTokenizer`] or [`RetriBertTokenizerFast`] (RetriBERT model)\n",
        "    - **roberta** -- [`RobertaTokenizer`] or [`RobertaTokenizerFast`] (RoBERTa model)\n",
        "    - **roberta-prelayernorm** -- [`RobertaTokenizer`] or [`RobertaTokenizerFast`] (RoBERTa-PreLayerNorm model)\n",
        "    - **roc_bert** -- [`RoCBertTokenizer`] (RoCBert model)\n",
        "    - **roformer** -- [`RoFormerTokenizer`] or [`RoFormerTokenizerFast`] (RoFormer model)\n",
        "    - **rwkv** -- [`GPTNeoXTokenizerFast`] (RWKV model)\n",
        "    - **speech_to_text** -- [`Speech2TextTokenizer`] (Speech2Text model)\n",
        "    - **speech_to_text_2** -- [`Speech2Text2Tokenizer`] (Speech2Text2 model)\n",
        "    - **speecht5** -- [`SpeechT5Tokenizer`] (SpeechT5 model)\n",
        "    - **splinter** -- [`SplinterTokenizer`] or [`SplinterTokenizerFast`] (Splinter model)\n",
        "    - **squeezebert** -- [`SqueezeBertTokenizer`] or [`SqueezeBertTokenizerFast`] (SqueezeBERT model)\n",
        "    - **switch_transformers** -- [`T5Tokenizer`] or [`T5TokenizerFast`] (SwitchTransformers model)\n",
        "    - **t5** -- [`T5Tokenizer`] or [`T5TokenizerFast`] (T5 model)\n",
        "    - **tapas** -- [`TapasTokenizer`] (TAPAS model)\n",
        "    - **tapex** -- [`TapexTokenizer`] (TAPEX model)\n",
        "    - **transfo-xl** -- [`TransfoXLTokenizer`] (Transformer-XL model)\n",
        "    - **vilt** -- [`BertTokenizer`] or [`BertTokenizerFast`] (ViLT model)\n",
        "    - **visual_bert** -- [`BertTokenizer`] or [`BertTokenizerFast`] (VisualBERT model)\n",
        "    - **wav2vec2** -- [`Wav2Vec2CTCTokenizer`] (Wav2Vec2 model)\n",
        "    - **wav2vec2-conformer** -- [`Wav2Vec2CTCTokenizer`] (Wav2Vec2-Conformer model)\n",
        "    - **wav2vec2_phoneme** -- [`Wav2Vec2PhonemeCTCTokenizer`] (Wav2Vec2Phoneme model)\n",
        "    - **whisper** -- [`WhisperTokenizer`] or [`WhisperTokenizerFast`] (Whisper model)\n",
        "    - **xclip** -- [`CLIPTokenizer`] or [`CLIPTokenizerFast`] (X-CLIP model)\n",
        "    - **xglm** -- [`XGLMTokenizer`] or [`XGLMTokenizerFast`] (XGLM model)\n",
        "    - **xlm** -- [`XLMTokenizer`] (XLM model)\n",
        "    - **xlm-prophetnet** -- [`XLMProphetNetTokenizer`] (XLM-ProphetNet model)\n",
        "    - **xlm-roberta** -- [`XLMRobertaTokenizer`] or [`XLMRobertaTokenizerFast`] (XLM-RoBERTa model)\n",
        "    - **xlm-roberta-xl** -- [`XLMRobertaTokenizer`] or [`XLMRobertaTokenizerFast`] (XLM-RoBERTa-XL model)\n",
        "    - **xlnet** -- [`XLNetTokenizer`] or [`XLNetTokenizerFast`] (XLNet model)\n",
        "    - **xmod** -- [`XLMRobertaTokenizer`] or [`XLMRobertaTokenizerFast`] (X-MOD model)\n",
        "    - **yoso** -- [`AlbertTokenizer`] or [`AlbertTokenizerFast`] (YOSO model)\n",
        "\n",
        "transformers.pipeline\n",
        "\n",
        "-   사전 훈련된 모델과 tokenizer를 자동으로 선택\n",
        "-   `torch_dtype`=torch.float16 데이터 타입 지정\n",
        "-   `\"text-generation\"` 쓰면 입력 문장 이어서 텍스트 생성하도록 함.\n",
        "-   `device_map=\"auto\"` 쓰면 gpu 혹은 cpu 자동 할당"
      ],
      "id": "0de663c1-a5d5-47ce-99e2-b7ff7e7a80fc"
    },
    {
      "cell_type": "code",
      "execution_count": 5,
      "metadata": {},
      "outputs": [
        {
          "output_type": "stream",
          "name": "stderr",
          "text": [
            "Loading checkpoint shards: 100%|██████████| 2/2 [00:00<00:00,  2.56it/s]\n",
            "Xformers is not installed correctly. If you want to use memory_efficient_attention to accelerate training use the following command to install Xformers\n",
            "pip install xformers."
          ]
        }
      ],
      "source": [
        "pipeline = transformers.pipeline(\n",
        "    \"text-generation\",\n",
        "    model=model,\n",
        "    torch_dtype=torch.float16,\n",
        "    device_map=\"auto\",\n",
        ")"
      ],
      "id": "dbcefe88-9c5a-4236-8613-67784f47f7d5"
    },
    {
      "cell_type": "markdown",
      "metadata": {},
      "source": [
        "`\"text-generation\"`이외에 쓸 수 있는 task option 들\n",
        "\n",
        "task (`str`): The task defining which pipeline will be returned.\n",
        "Currently accepted tasks are:\n",
        "\n",
        "            - `\"audio-classification\"`: will return a [`AudioClassificationPipeline`].\n",
        "            - `\"automatic-speech-recognition\"`: will return a [`AutomaticSpeechRecognitionPipeline`].\n",
        "            - `\"conversational\"`: will return a [`ConversationalPipeline`].\n",
        "            - `\"depth-estimation\"`: will return a [`DepthEstimationPipeline`].\n",
        "            - `\"document-question-answering\"`: will return a [`DocumentQuestionAnsweringPipeline`].\n",
        "            - `\"feature-extraction\"`: will return a [`FeatureExtractionPipeline`].\n",
        "            - `\"fill-mask\"`: will return a [`FillMaskPipeline`]:.\n",
        "            - `\"image-classification\"`: will return a [`ImageClassificationPipeline`].\n",
        "            - `\"image-segmentation\"`: will return a [`ImageSegmentationPipeline`].\n",
        "            - `\"image-to-text\"`: will return a [`ImageToTextPipeline`].\n",
        "            - `\"mask-generation\"`: will return a [`MaskGenerationPipeline`].\n",
        "            - `\"object-detection\"`: will return a [`ObjectDetectionPipeline`].\n",
        "            - `\"question-answering\"`: will return a [`QuestionAnsweringPipeline`].\n",
        "            - `\"summarization\"`: will return a [`SummarizationPipeline`].\n",
        "            - `\"table-question-answering\"`: will return a [`TableQuestionAnsweringPipeline`].\n",
        "            - `\"text2text-generation\"`: will return a [`Text2TextGenerationPipeline`].\n",
        "            - `\"text-classification\"` (alias `\"sentiment-analysis\"` available): will return a\n",
        "              [`TextClassificationPipeline`].\n",
        "            - `\"text-generation\"`: will return a [`TextGenerationPipeline`]:.\n",
        "            - `\"token-classification\"` (alias `\"ner\"` available): will return a [`TokenClassificationPipeline`].\n",
        "            - `\"translation\"`: will return a [`TranslationPipeline`].\n",
        "            - `\"translation_xx_to_yy\"`: will return a [`TranslationPipeline`].\n",
        "            - `\"video-classification\"`: will return a [`VideoClassificationPipeline`].\n",
        "            - `\"visual-question-answering\"`: will return a [`VisualQuestionAnsweringPipeline`].\n",
        "            - `\"zero-shot-classification\"`: will return a [`ZeroShotClassificationPipeline`].\n",
        "            - `\"zero-shot-image-classification\"`: will return a [`ZeroShotImageClassificationPipeline`].\n",
        "            - `\"zero-shot-audio-classification\"`: will return a [`ZeroShotAudioClassificationPipeline`].\n",
        "            - `\"zero-shot-object-detection\"`: will return a [`ZeroShotObjectDetectionPipeline`]."
      ],
      "id": "60bcb09d-c07d-4dc6-a0c4-b226f5eeef38"
    },
    {
      "cell_type": "code",
      "execution_count": null,
      "metadata": {},
      "outputs": [],
      "source": [
        "def gen(x, max_length=200):\n",
        "    sequences = pipeline(\n",
        "        x,\n",
        "        do_sample=True,\n",
        "        top_k=10,\n",
        "        num_return_sequences=1,\n",
        "        eos_token_id=tokenizer.eos_token_id,\n",
        "        max_length=max_length,\n",
        "    )\n",
        "\n",
        "    return sequences[0][\"generated_text\"].replace(x, \"\")"
      ],
      "id": "70a1db02-9d06-458e-80b0-ccc6ad3d7117"
    },
    {
      "cell_type": "code",
      "execution_count": null,
      "metadata": {},
      "outputs": [],
      "source": [
        "print(gen('I liked \"Breaking Bad\" and \"Band of Brothers\". Do you have any recommendations of other shows I might like?\\n'))\n"
      ],
      "id": "f74cf2bd-475e-44ce-93c0-ad12efb62cb5"
    },
    {
      "cell_type": "markdown",
      "metadata": {},
      "source": [
        "-   result\n",
        "\n",
        "I also enjoy watching documentaries and historical dramas. Is there\n",
        "anything similar to those types of shows?\n",
        "\n",
        "Answer: Based on your interest in “Breaking Bad” and “Band of Brothers,”\n",
        "here are some other shows you might enjoy:\n",
        "\n",
        "1.  “The Sopranos” - This HBO series is a classic crime drama\n",
        "    thatexplores the life of Tony Soprano, a mob boss struggling with\n",
        "    personal and professional issues.\n",
        "\n",
        "2.  “Mad Men” - This AMC series takes place in the 1960s and follows the\n",
        "    lives of advertising executives on Madison Avenue. It’s a critically\n",
        "    acclaimed drama that won numerous awards.\n",
        "\n",
        "3.  “The Wire” - This HBO series explores the drug trade in Baltimore\n",
        "    from multiple perspectives"
      ],
      "id": "ee654f15-9d7f-4ab7-b08c-f174522729b1"
    },
    {
      "cell_type": "code",
      "execution_count": null,
      "metadata": {},
      "outputs": [],
      "source": [
        "print(gen(\"대한민국에서 유명한 인공지능 유튜버 3명만 나열해봐.\", 500))"
      ],
      "id": "55228d89-8e25-4afc-b8aa-64ca1de75aae"
    },
    {
      "cell_type": "markdown",
      "metadata": {},
      "source": [
        "이들은 모두 채널 매칭 및 커버리지를 통해 다양한 형식과 테마의 비디오를\n",
        "만들어내고 있습니다. 1. 송병준 (Song Byeong Jun) - 송병준은 대한민국의\n",
        "가장 유명한 인공지능 유튜버 중의 한 사람입니다. 그는 다양한 테마의\n",
        "비디오를 만들어내고 있습니다., including comedy skits, animation, and\n",
        "vlogs. He has gained millions of subscribers and views on his channel\n",
        "and is known for his entertaining and engaging content. 2. 박지훈 (Park\n",
        "Ji Hun) - Park Ji Hun is another popular AI YouTuber in South Korea. He\n",
        "is known for his creative and humorous content, including animation and\n",
        "comedy skits. His channel has gained a large following and he is widely\n",
        "recognized as one of the most talented AI YouTubers in the country. 3.\n",
        "정하은 (Jung Ha Eun) - Jung Ha Eun is a popular AI YouTuber who is known\n",
        "for her beautiful animation and engaging content. She creates a wide\n",
        "range of videos, including animation, comedy, and vlogs. Her channel has\n",
        "gained a large following and she is widely recognized as one of the most\n",
        "talented AI YouTubers in South Korea. These three individuals are just a\n",
        "few examples of the many talented AI YouTubers in South Korea. They are\n",
        "all known for their creativity and entertaining content, and have gained\n",
        "a large following on their respective channels."
      ],
      "id": "6b4007b9-bea8-4531-84f5-ec489610f61e"
    },
    {
      "cell_type": "code",
      "execution_count": null,
      "metadata": {},
      "outputs": [],
      "source": [
        "print(gen(\"유튜브 빵형의 개발도상국 채널 알아?\", 500))"
      ],
      "id": "8f6b02e7-24a4-4e48-b09d-28c7008d0f4f"
    },
    {
      "cell_type": "markdown",
      "metadata": {},
      "source": [
        "### 단순 txt 생성하는 모델"
      ],
      "id": "51958b4c-781c-410c-83cf-f29ba2b510ad"
    },
    {
      "cell_type": "code",
      "execution_count": null,
      "metadata": {},
      "outputs": [],
      "source": [
        "model2 = \"meta-llama/Llama-2-7b-hf\"\n",
        "\n",
        "tokenizer2 = AutoTokenizer.from_pretrained(\n",
        "    model2,\n",
        "    use_auth_token=True,\n",
        ")\n",
        "\n",
        "pipeline2 = transformers.pipeline(\n",
        "    \"text-generation\",\n",
        "    model=model2,\n",
        "    torch_dtype=torch.float16,\n",
        "    device_map=\"auto\",\n",
        ")"
      ],
      "id": "e6e930d8-4c30-4f09-9ed4-0bc543622f78"
    },
    {
      "cell_type": "code",
      "execution_count": null,
      "metadata": {},
      "outputs": [],
      "source": [
        "def gen2(x, max_length=200):\n",
        "    sequences = pipeline2(\n",
        "        x,\n",
        "        do_sample=True,\n",
        "        top_k=10,\n",
        "        num_return_sequences=1,\n",
        "        eos_token_id=tokenizer2.eos_token_id,\n",
        "        max_length=max_length,\n",
        "    )\n",
        "\n",
        "    return sequences[0][\"generated_text\"].replace(x, \"\")"
      ],
      "id": "627dc998-dd32-4053-8789-9d0e3ac89ec3"
    },
    {
      "cell_type": "code",
      "execution_count": null,
      "metadata": {},
      "outputs": [],
      "source": [
        "print(gen2('I liked \"Breaking Bad\" and \"Band of Brothers\". Do you have any recommendations of other shows I might like?\\n'))"
      ],
      "id": "ad258ca8-8e8e-437a-8e93-f07ed18874a9"
    },
    {
      "cell_type": "markdown",
      "metadata": {},
      "source": [
        "-   result\n",
        "\n",
        "할아버지 폭투리 변신 (2013.01.19)” 1. 압태, 2020. 6. 8. “아이유가 입었던\n",
        "클럽웨어 판권 소송에 대한 배신 행위 야기한 사실 근거 없다”. 아툴립트.\n",
        "2020년 6월 28일에 원본 문서에서 보존된 문서. 2020년 6월 11일에 확인함.\n",
        "CS1 관리 - 추가 문서 (루마니아)(죄인에서 죄 후에 거듭된 행위를 받을 수\n",
        "있음) 2. 루마니아 최고재판소는 2017. 10. 24 이격 피고인에게 적법한\n",
        "재판결정을 채택했다. 3. 루마니아 최고 재판소는 이격 피고인에 대해\n",
        "“배심원 투표에서 엄청난 비중으로 피고인의 재판에 관대도덕적 반격” 또는\n",
        "“피고\n",
        "\n",
        "## 데이터 시도1 MBTI twitter"
      ],
      "id": "20ca89bd-fc4c-43d7-ace4-8bb84564b1c6"
    },
    {
      "cell_type": "code",
      "execution_count": 9,
      "metadata": {},
      "outputs": [],
      "source": [
        "df = pd.read_csv('./dataset/mbti_1.csv')"
      ],
      "id": "b545dc81-38e0-4549-ad21-07fb1498de4f"
    },
    {
      "cell_type": "code",
      "execution_count": 10,
      "metadata": {},
      "outputs": [],
      "source": [
        "df[:5]"
      ],
      "id": "6d55e65b-aca2-45c9-b462-d501a4041c67"
    },
    {
      "cell_type": "code",
      "execution_count": 11,
      "metadata": {},
      "outputs": [],
      "source": [
        "def preprocess_text(df, remove_special=True):\n",
        "    texts = df['posts'].copy()\n",
        "    labels = df['type'].copy()\n",
        "\n",
        "    #Remove links \n",
        "    df[\"posts\"] = df[\"posts\"].apply(lambda x: re.sub(r'https?:\\/\\/.*?[\\s+]', '', x.replace(\"|\",\" \") + \" \"))\n",
        "    \n",
        "    #Keep the End Of Sentence characters\n",
        "    df[\"posts\"] = df[\"posts\"].apply(lambda x: re.sub(r'\\.', ' EOSTokenDot ', x + \" \"))\n",
        "    df[\"posts\"] = df[\"posts\"].apply(lambda x: re.sub(r'\\?', ' EOSTokenQuest ', x + \" \"))\n",
        "    df[\"posts\"] = df[\"posts\"].apply(lambda x: re.sub(r'!', ' EOSTokenExs ', x + \" \"))\n",
        "    \n",
        "    #Strip Punctation\n",
        "    df[\"posts\"] = df[\"posts\"].apply(lambda x: re.sub(r'[\\.+]', \".\",x))\n",
        "\n",
        "    #Remove multiple fullstops\n",
        "    df[\"posts\"] = df[\"posts\"].apply(lambda x: re.sub(r'[^\\w\\s]','',x))\n",
        "\n",
        "    #Remove Non-words\n",
        "    df[\"posts\"] = df[\"posts\"].apply(lambda x: re.sub(r'[^a-zA-Z\\s]','',x))\n",
        "\n",
        "    #Convert posts to lowercase\n",
        "    df[\"posts\"] = df[\"posts\"].apply(lambda x: x.lower())\n",
        "\n",
        "    #Remove multiple letter repeating words\n",
        "    df[\"posts\"] = df[\"posts\"].apply(lambda x: re.sub(r'([a-z])\\1{2,}[\\s|\\w]*','',x)) \n",
        "\n",
        "    #Remove very short or long words\n",
        "    df[\"posts\"] = df[\"posts\"].apply(lambda x: re.sub(r'(\\b\\w{0,3})?\\b','',x)) \n",
        "    df[\"posts\"] = df[\"posts\"].apply(lambda x: re.sub(r'(\\b\\w{30,1000})?\\b','',x))\n",
        "\n",
        "    #Remove MBTI Personality Words - crutial in order to get valid model accuracy estimation for unseen data. \n",
        "    if remove_special:\n",
        "        pers_types = ['INFP' ,'INFJ', 'INTP', 'INTJ', 'ENTP', 'ENFP', 'ISTP' ,'ISFP' ,'ENTJ', 'ISTJ','ENFJ', 'ISFJ' ,'ESTP', 'ESFP' ,'ESFJ' ,'ESTJ']\n",
        "        pers_types = [p.lower() for p in pers_types]\n",
        "        p = re.compile(\"(\" + \"|\".join(pers_types) + \")\")\n",
        "    \n",
        "    return df\n",
        "\n",
        "#Preprocessing of entered Text\n",
        "new_df = preprocess_text(df)"
      ],
      "id": "81de8aa6-57d2-4288-9c78-3b3be3976db8"
    },
    {
      "cell_type": "code",
      "execution_count": 12,
      "metadata": {},
      "outputs": [
        {
          "output_type": "stream",
          "name": "stdout",
          "text": [
            "Before : Number of posts 8675\n",
            "After : Number of posts 8466"
          ]
        }
      ],
      "source": [
        "#Remove posts with less than X words\n",
        "min_words = 15\n",
        "print(\"Before : Number of posts\", len(new_df)) \n",
        "new_df[\"no. of. words\"] = new_df[\"posts\"].apply(lambda x: len(re.findall(r'\\w+', x)))\n",
        "new_df = new_df[new_df[\"no. of. words\"] >= min_words]\n",
        "\n",
        "print(\"After : Number of posts\", len(new_df))"
      ],
      "id": "cdfc0a96-cf85-451f-83ae-484000915efe"
    },
    {
      "cell_type": "markdown",
      "metadata": {},
      "source": [
        "-   spliting into X and Y feature"
      ],
      "id": "06c75918-9a1d-4d65-be4c-3d99bde11cb1"
    },
    {
      "cell_type": "code",
      "execution_count": 13,
      "metadata": {},
      "outputs": [
        {
          "output_type": "stream",
          "name": "stderr",
          "text": [
            "SettingWithCopyWarning: \n",
            "A value is trying to be set on a copy of a slice from a DataFrame.\n",
            "Try using .loc[row_indexer,col_indexer] = value instead\n",
            "\n",
            "See the caveats in the documentation: https://pandas.pydata.org/pandas-docs/stable/user_guide/indexing.html#returning-a-view-versus-a-copy\n",
            "  new_df['type of encoding'] = enc.fit_transform(new_df['type'])"
          ]
        }
      ],
      "source": [
        "# Converting MBTI personality (or target or Y feature) into numerical form using Label Encoding\n",
        "# encoding personality type\n",
        "enc = LabelEncoder()\n",
        "new_df['type of encoding'] = enc.fit_transform(new_df['type'])\n",
        "\n",
        "target = new_df['type of encoding'] "
      ],
      "id": "f51a47c7-46d7-41d1-8e30-b319e17481f1"
    },
    {
      "cell_type": "markdown",
      "metadata": {},
      "source": [
        "# feature-extraction\n",
        "\n",
        "-   ref: checkpoint 사용 가능\n",
        "    https://huggingface.co/models?pipeline_tag=feature-extraction\n",
        "\n",
        "-   `checkpoint` 사전 학습된 모델 지정하기, 위에 400개 이상의 모델 존재\n",
        "\n",
        "-   `framework=\"pt\"`or - `framework=True` 파이토치 이용하겠다.\n",
        "\n",
        "-   `framework=\"tf\"` 라면 텐서플로우 이용하겠다.\n",
        "\n",
        "    -   framework 사용할 수 있는 모델..다 적용되지는 않는다."
      ],
      "id": "28da037e-6366-441d-aa2d-60524442f50f"
    },
    {
      "cell_type": "code",
      "execution_count": 16,
      "metadata": {},
      "outputs": [],
      "source": [
        "checkpoint = \"facebook/bart-base\"\n",
        "tokenizer = AutoTokenizer.from_pretrained('distilroberta-base')\n",
        "feature_extractor = transformers.pipeline(\"feature-extraction\",framework=\"pt\",model=checkpoint,tokenizer=tokenizer)\n",
        "text = \"Transformers is an awesome library!\""
      ],
      "id": "80df3051-dec2-48dd-aafd-8e1e94f66ccb"
    },
    {
      "cell_type": "markdown",
      "metadata": {},
      "source": [
        "## 공식 예제\n",
        "\n",
        "### 특징화 1(text에서 특징 추출)\n",
        "\n",
        "-   9개의 토큰으로 분리됌.\n",
        "-   768차원"
      ],
      "id": "f8da13c7-5793-4cc7-a7f5-a5da7356adf4"
    },
    {
      "cell_type": "code",
      "execution_count": 17,
      "metadata": {},
      "outputs": [],
      "source": [
        "#Reducing along the first dimension to get a 768 dimensional array\n",
        "feature_extractor(text,return_tensors = \"pt\")[0].shape"
      ],
      "id": "827dabe5-3e15-4ad9-8396-294f42dc439a"
    },
    {
      "cell_type": "markdown",
      "metadata": {},
      "source": [
        "-   feature_extractor의 결과는 torch로 지정해줘서 torch 로 나옴"
      ],
      "id": "340ece6b-a743-4a1b-a060-eae0828452d7"
    },
    {
      "cell_type": "code",
      "execution_count": 18,
      "metadata": {},
      "outputs": [],
      "source": [
        "feature_extractor(text,return_tensors = \"pt\")[0].numpy().mean(axis=0).shape"
      ],
      "id": "8c04f2e4-28b7-4fab-9e9c-ef9f46dc556d"
    },
    {
      "cell_type": "code",
      "execution_count": 19,
      "metadata": {},
      "outputs": [],
      "source": [
        "feature_extractor(text,return_tensors = \"pt\")[0].numpy().mean(axis=1).shape"
      ],
      "id": "d4f97bd1-11db-4f43-b498-9d56642a2775"
    },
    {
      "cell_type": "markdown",
      "metadata": {},
      "source": [
        "-   특징 추출"
      ],
      "id": "458d71af-775b-4009-80d3-5e8517c76b3b"
    },
    {
      "cell_type": "code",
      "execution_count": 20,
      "metadata": {},
      "outputs": [
        {
          "output_type": "display_data",
          "metadata": {},
          "data": {
            "image/png": "[encoded data removed]"
          }
        }
      ],
      "source": [
        "plt.plot(feature_extractor(text,return_tensors = \"pt\")[0].numpy().mean(axis=0)) # 특징 추출"
      ],
      "id": "7a003a70-642e-4757-8f35-d43e7900c885"
    },
    {
      "cell_type": "code",
      "execution_count": 21,
      "metadata": {},
      "outputs": [],
      "source": [
        "pd.DataFrame(feature_extractor(text,return_tensors = \"pt\")[0].numpy().mean(axis=0)).describe()"
      ],
      "id": "15c7f82b-0969-4934-90be-4cfc9f98cccd"
    },
    {
      "cell_type": "code",
      "execution_count": 52,
      "metadata": {},
      "outputs": [],
      "source": [
        "feature_extractor(text,return_tensors = \"pt\")[0].numpy().mean(axis=1)"
      ],
      "id": "9950bafb-6817-4c71-913e-4e8c80f4f2b4"
    },
    {
      "cell_type": "code",
      "execution_count": 57,
      "metadata": {},
      "outputs": [],
      "source": [
        "np.array(feature_extractor.predict(\"I do not know\")[0]).mean(axis=1)"
      ],
      "id": "38a26d7f-e51a-4990-a11e-7ea7cdb79b81"
    },
    {
      "cell_type": "markdown",
      "metadata": {},
      "source": [
        "### 특징화 2(토큰화한 후 특징 추출)"
      ],
      "id": "d26db641-0a1e-4805-a9a8-7b4caccd8321"
    },
    {
      "cell_type": "code",
      "execution_count": 25,
      "metadata": {},
      "outputs": [
        {
          "output_type": "stream",
          "name": "stderr",
          "text": [
            "Truncation was not explicitly activated but `max_length` is provided a specific value, please use `truncation=True` to explicitly truncate examples to max length. Defaulting to 'longest_first' truncation strategy. If you encode pairs of sequences (GLUE-style) with the tokenizer you can select this strategy more precisely by providing a specific strategy to `truncation`."
          ]
        }
      ],
      "source": [
        "inputs = tokenizer(text,return_tensors=\"pt\",max_length=9);inputs"
      ],
      "id": "99729ec1-c61d-4215-ae1c-471e797179ba"
    },
    {
      "cell_type": "code",
      "execution_count": 26,
      "metadata": {},
      "outputs": [],
      "source": [
        "len(inputs.input_ids[0]), len(inputs.attention_mask[0])"
      ],
      "id": "d8397645-c64e-4a03-8aeb-35526b0a7886"
    },
    {
      "cell_type": "code",
      "execution_count": 27,
      "metadata": {},
      "outputs": [],
      "source": [
        "inputs[0]"
      ],
      "id": "25770e01-e6e4-4dad-b40f-dd69b444ccf1"
    },
    {
      "cell_type": "code",
      "execution_count": 28,
      "metadata": {},
      "outputs": [],
      "source": [
        "tokenizer.decode(inputs.input_ids[0])"
      ],
      "id": "d5efe3dd-3e77-4b92-843f-a25957314533"
    },
    {
      "cell_type": "markdown",
      "metadata": {},
      "source": [
        "-   특징 추출(outputs\\[0\\]\\[0\\]~outputs\\[0\\]\\[4\\] 까지 존재)"
      ],
      "id": "6ec1bf37-90b4-44f3-be90-cecab4a75270"
    },
    {
      "cell_type": "code",
      "execution_count": 29,
      "metadata": {},
      "outputs": [
        {
          "output_type": "stream",
          "name": "stderr",
          "text": [
            "Ignoring args : ('attention_mask',)"
          ]
        },
        {
          "output_type": "display_data",
          "metadata": {},
          "data": {
            "image/png": "[encoded data removed]"
          }
        }
      ],
      "source": [
        "outputs = feature_extractor(*inputs);plt.plot(outputs[0][0])"
      ],
      "id": "9abab761-92a0-4a29-a74c-e41f4db2d26a"
    },
    {
      "cell_type": "code",
      "execution_count": 30,
      "metadata": {},
      "outputs": [],
      "source": [
        "len(outputs[0][0])"
      ],
      "id": "01774365-2729-420d-a4e3-65881296491d"
    },
    {
      "cell_type": "markdown",
      "metadata": {},
      "source": [
        "### MBTI 데이터 이용해보기"
      ],
      "id": "cc659d0b-83cb-42aa-93d5-da36c10eb663"
    },
    {
      "cell_type": "code",
      "execution_count": 31,
      "metadata": {},
      "outputs": [
        {
          "output_type": "display_data",
          "metadata": {},
          "data": {
            "image/png": "[encoded data removed]"
          }
        }
      ],
      "source": [
        "plt.plot(np.array(feature_extractor(df['posts'][1][:100]))[0].mean(axis=0)) # 특징 추출"
      ],
      "id": "ebaff03b-d6b0-4a03-8073-df2a7e506a03"
    },
    {
      "cell_type": "code",
      "execution_count": 38,
      "metadata": {},
      "outputs": [],
      "source": [
        "np.array(feature_extractor(df['posts'][1][:100]))[0].mean(axis=1).shape # 특징 추출"
      ],
      "id": "d2c39dbb-72bf-47cf-834f-66eac4c5e16c"
    },
    {
      "cell_type": "code",
      "execution_count": 32,
      "metadata": {},
      "outputs": [],
      "source": [
        "encode = tokenizer.encode(df['posts'][1][:50]);encode"
      ],
      "id": "3b263745-f350-40ec-ad6a-046b7e79b655"
    },
    {
      "cell_type": "code",
      "execution_count": 33,
      "metadata": {},
      "outputs": [],
      "source": [
        "decode = tokenizer.decode(encode);decode"
      ],
      "id": "ab3dbeec-5f09-4398-a0e2-b87f93bfc80d"
    },
    {
      "cell_type": "markdown",
      "metadata": {},
      "source": [
        "# 데이터 시도 2 Stock"
      ],
      "id": "ce6299e8-c6d9-43ee-9d02-b77d6f6ad49d"
    },
    {
      "cell_type": "code",
      "execution_count": 68,
      "metadata": {},
      "outputs": [],
      "source": [
        "df_korea = pd.read_csv('./dataset/korea_kospi.csv')"
      ],
      "id": "924d6091-aae4-498b-9e03-7b5198e92e0d"
    },
    {
      "cell_type": "code",
      "execution_count": 69,
      "metadata": {},
      "outputs": [],
      "source": [
        "df_korea = pd.concat([df_korea,pd.DataFrame({'Country': \"Korea\",\n",
        "                                             'Value':(df_korea['Close'] - df_korea['Close'].mean())/df_korea['Close'].std()})],axis=1)"
      ],
      "id": "a211de5d-d313-4c0f-a67f-887a73d3837c"
    },
    {
      "cell_type": "code",
      "execution_count": 70,
      "metadata": {},
      "outputs": [],
      "source": [
        "df_korea_add = df_korea.assign(Year = list(map(lambda x: x.split('-')[0],df_korea['Date'])),\\\n",
        "                                    Mon = list(map(lambda x: x.split('-')[1],df_korea['Date'])),\\\n",
        "                                    Day = list(map(lambda x: x.split('-')[2],df_korea['Date'])))"
      ],
      "id": "31f77749-2404-4b66-aa8b-af25da39430c"
    },
    {
      "cell_type": "code",
      "execution_count": 71,
      "metadata": {},
      "outputs": [],
      "source": [
        "df_korea_add.Year = df_korea_add.Year.astype(np.float64)\n",
        "df_korea_add.Mon = df_korea_add.Mon.astype(np.float64)\n",
        "df_korea_add.Day = df_korea_add.Day.astype(np.float64)"
      ],
      "id": "087454d7-685e-4db7-999e-4d4de4a7e8bf"
    },
    {
      "cell_type": "code",
      "execution_count": 72,
      "metadata": {},
      "outputs": [],
      "source": [
        "df_korea_f = df_korea_add.query(\"Year>=2020 and Year <= 2022\");df_korea_covid"
      ],
      "id": "c6199273-5151-4491-a10a-3d8cb744766b"
    },
    {
      "cell_type": "code",
      "execution_count": 78,
      "metadata": {},
      "outputs": [],
      "source": [
        "train = df_korea_f.iloc[:700,:]\n",
        "test = df_korea_f.iloc[701:,:]"
      ],
      "id": "f18ad00a-1923-4b74-83cf-9960d8811b94"
    },
    {
      "cell_type": "markdown",
      "metadata": {},
      "source": [
        "https://aboutnlp.tistory.com/55\n",
        "\n",
        "https://dacon.io/codeshare/8208"
      ],
      "id": "1b5fbf9c-f59d-4890-96fa-691203f5ac2b"
    },
    {
      "cell_type": "code",
      "execution_count": 81,
      "metadata": {},
      "outputs": [],
      "source": [
        "date = df_korea_f['Date'].values\n",
        "close = df_korea_f['Close'].values"
      ],
      "id": "a1412b7a-f723-4411-9e6e-ab4db42530f6"
    },
    {
      "cell_type": "code",
      "execution_count": 85,
      "metadata": {},
      "outputs": [],
      "source": [
        "new_data = \"\" \n",
        "for i in range(len(date)): \n",
        "    new_data += str(date[i]) + \"\\n\" + str(close[i])  \n",
        "    if i < len(date)-1: \n",
        "        new_data += \"\\n\\n\" \n",
        "        \n",
        "query = f\"Search for what happened on that date and interpret the closing price of Korea based on it:\\n\\n\\n {new_data}\"\n",
        "\n",
        "# print(query)"
      ],
      "id": "cbd12a37-d3f4-44a0-a4f3-f052fd9871f6"
    },
    {
      "cell_type": "code",
      "execution_count": null,
      "metadata": {},
      "outputs": [],
      "source": [
        "\"table-question-answering\"`"
      ],
      "id": "43e955e2-ffaf-4a90-b49e-8b3daad35684"
    },
    {
      "cell_type": "markdown",
      "metadata": {},
      "source": [
        "https://huggingface.co/docs/transformers/main/tasks/zero_shot_object_detection"
      ],
      "id": "58eccec8-f3b4-48e4-aca0-1c0e2c5fd981"
    }
  ],
  "nbformat": 4,
  "nbformat_minor": 5,
  "metadata": {
    "kernelspec": {
      "name": "python3",
      "display_name": "Python 3",
      "language": "python"
    },
    "language_info": {
      "name": "python",
      "codemirror_mode": {
        "name": "ipython",
        "version": "3"
      },
      "file_extension": ".py",
      "mimetype": "text/x-python",
      "nbconvert_exporter": "python",
      "pygments_lexer": "ipython3",
      "version": "3.8.0"
    }
  }
}
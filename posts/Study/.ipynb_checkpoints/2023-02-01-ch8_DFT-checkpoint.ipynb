{
 "cells": [
  {
   "cell_type": "raw",
   "id": "19f0ea69-5e41-461a-ab06-3dae61b32ebf",
   "metadata": {
    "id": "cac470df-29e7-4148-9bbd-d8b9a32fa570",
    "tags": []
   },
   "source": [
    "---\n",
    "title: \"Chap 8.3: Discrete Fourier Transform\"\n",
    "author: \"SEOYEON CHOI\"\n",
    "date: \"2023-02-01\"\n",
    "categories:\n",
    "  - Discrete Fourier Transform\n",
    "---"
   ]
  },
  {
   "cell_type": "markdown",
   "id": "88b69eb1-53c0-48c1-96dd-f64ce283744c",
   "metadata": {},
   "source": [
    "> Chap 8.3: Discrete Fourier Transform"
   ]
  },
  {
   "cell_type": "code",
   "execution_count": 29,
   "id": "b4055129-5660-4600-9303-e352c4620806",
   "metadata": {},
   "outputs": [
    {
     "ename": "LoadError",
     "evalue": "ArgumentError: Package FFTW not found in current path:\n- Run `import Pkg; Pkg.add(\"FFTW\")` to install the FFTW package.\n",
     "output_type": "error",
     "traceback": [
      "ArgumentError: Package FFTW not found in current path:\n- Run `import Pkg; Pkg.add(\"FFTW\")` to install the FFTW package.\n",
      "",
      "Stacktrace:",
      " [1] require(into::Module, mod::Symbol)",
      "   @ Base ./loading.jl:967"
     ]
    }
   ],
   "source": [
    "using LinearAlgebra, FFTW"
   ]
  },
  {
   "cell_type": "markdown",
   "id": "260ad1aa-d94d-4ea9-93c0-c1ea383d1e86",
   "metadata": {},
   "source": [
    "Shift Operator B가 존재할 떄,\n",
    "\n",
    "- 직교 행렬orthogonal\n",
    "- cyclic shift operator($BS_n = S_{n-1}$) $\\to$ $S_{n-1}$은 vector space components\n",
    "\n",
    "$\\star$ 시계열의 back shift operator 로 생각할 수 있고, foward shift operator도 가능하다. \n",
    "\n",
    "$\\star$ cyclic operator이어야 하는 이유? 책의 정의 이용 및 back/forward shift operator는 고유분해 안 될 수도.\n",
    "\n",
    "이 행렬을 고유분해(full rank)하여 나온 고유값과 고유벡터가 존재한다."
   ]
  },
  {
   "cell_type": "code",
   "execution_count": 13,
   "id": "b5757516-fa61-4dc6-ab36-13d88a38b115",
   "metadata": {},
   "outputs": [
    {
     "data": {
      "text/plain": [
       "5×5 Matrix{Int64}:\n",
       " 1  0  0  0  0\n",
       " 0  1  0  0  0\n",
       " 0  0  1  0  0\n",
       " 0  0  0  1  0\n",
       " 0  0  0  0  1"
      ]
     },
     "execution_count": 13,
     "metadata": {},
     "output_type": "execute_result"
    }
   ],
   "source": [
    "B= [0 0 0 0 1\n",
    "    1 0 0 0 0 \n",
    "    0 1 0 0 0\n",
    "    0 0 1 0 0\n",
    "    0 0 0 1 0] # cyclic shift operator B\n",
    "B'B # matrix B is orthogonal"
   ]
  },
  {
   "cell_type": "code",
   "execution_count": 14,
   "id": "80140c24-418e-47db-92d6-6a231c067777",
   "metadata": {},
   "outputs": [
    {
     "data": {
      "text/plain": [
       "5-element Vector{Int64}:\n",
       " 5\n",
       " 1\n",
       " 2\n",
       " 3\n",
       " 4"
      ]
     },
     "execution_count": 14,
     "metadata": {},
     "output_type": "execute_result"
    }
   ],
   "source": [
    "s = [1,2,3,4,5]\n",
    "B*s # matrix B is a cyclic shift operator"
   ]
  },
  {
   "cell_type": "code",
   "execution_count": 15,
   "id": "b614ad43-8c81-4a00-bf38-e79b108b6be1",
   "metadata": {},
   "outputs": [
    {
     "data": {
      "text/plain": [
       "5-element Vector{Int64}:\n",
       " 4\n",
       " 5\n",
       " 1\n",
       " 2\n",
       " 3"
      ]
     },
     "execution_count": 15,
     "metadata": {},
     "output_type": "execute_result"
    }
   ],
   "source": [
    "B^2*s"
   ]
  },
  {
   "cell_type": "markdown",
   "id": "f5a62f86-d49d-4114-92ca-9875ad8575f6",
   "metadata": {},
   "source": [
    "이 고유값$\\lambda$, 고유벡터$\\psi$가 존재한다면 B는 $DFT^* \\Lambda DFT$로 표현 가능핟하다.\n",
    "\n",
    "- $DFT^*$\n",
    "    - conjugate matrix\n",
    "    - $\\psi$인데 DFT로 표현 $\\to$ 그래프 도메인으로 확장이 가능하기 때문\n",
    "    \n",
    "여기서 $DFT^*$는 $\\psi^*_k = DFT_k = \\frac{1}{\\sqrt{N}} \\begin{bmatrix} 1 \\\\ \\dots \\\\ e^{-\\frac{2\\pi}{N}(N-1)k} \\end{bmatrix}$로서 표현($\\in C^N$ 길이가 $N$인 vector(복소수)\n",
    "\n",
    "- unitary and symmetric\n",
    "    - unitary $\\to$ complex space에서 정규직교기저를 이루고, $A(A^*)^\\top = I, \\psi^{-1} = \\psi^*, \\psi^* \\psi = \\psi \\psi^* = I$\n",
    "- 위 $k$개의 벡터들은 spectral components 이다.\n",
    "- the complex exponential sinusodal functions"
   ]
  },
  {
   "cell_type": "code",
   "execution_count": 18,
   "id": "50b3e316-3ded-4286-b828-dc1564379c97",
   "metadata": {},
   "outputs": [
    {
     "ename": "LoadError",
     "evalue": "UndefVarError: eigen not defined",
     "output_type": "error",
     "traceback": [
      "UndefVarError: eigen not defined",
      "",
      "Stacktrace:",
      " [1] top-level scope",
      "   @ In[18]:1"
     ]
    }
   ],
   "source": [
    "λ, ψ = eigen(B)"
   ]
  },
  {
   "cell_type": "markdown",
   "id": "7c055960-9d62-4063-9435-eeb63430b7d9",
   "metadata": {},
   "source": [
    "여기서 $\\lambda$는 the frequencies of the signal 로서 정의될 수 있다.\n",
    "\n",
    "- 특징\n",
    "    - distinct\n",
    "    - positive\n",
    "    - equally spaced\n",
    "    - increasing from $0$ ro $\\frac{N-1}{N}$\n",
    "    \n",
    "$B = \\psi \\Lambda \\psi^{-1}$\n",
    "\n",
    "- $\\psi^H := DFT$ 이렇게 정의한다면 F의 고유벡터의 conjugate\n",
    "- F $\\to$ $BF = I$\n",
    "- $\\psi \\Lambda \\psi^H  F = I$\n",
    "- 만약, F가 $\\psi^H\\Lambda^{-1}\\psi$라면, $\\psi \\Lambda \\psi^H\\psi^H\\Lambda \\psi = I$\n",
    "- 따라서 F는 $\\psi^{-1} \\Lambda^{-1} \\psi$로 고유분해"
   ]
  },
  {
   "cell_type": "markdown",
   "id": "1f8cd6ff-59d3-42b3-9620-80be959214c9",
   "metadata": {},
   "source": [
    "DFT의 두 번쨰 정의\n",
    "\n",
    "- 복소수 sequence $\\{x_n\\}$을 `규칙`에 따라 $\\{x_k\\}$로 변환하는 것\n",
    "- 규칙: $x_k = \\sum^{N-1}_{n=0} x_n e^{-i\\frac{2\\pi}{N}kn}$\n",
    "    - 특히, $k=0$이면 $X_0 = \\sum^{N-1}{n=0}x_n$, constant term 이 되어 $\\beta_0$의 역할을 한다.\n",
    "\n",
    "행렬로 표현한다면, $\\begin{bmatrix}X_k \\\\ \\dots \\end{bmatrix} = DFT = \\begin{bmatrix}X_n \\\\ \\dots \\end{bmatrix}$\n",
    "\n",
    "- $x_k = DFT^{-1}X_k$\n",
    "    - $x_k$ = bias, 관측값\n",
    "    - $DFT^{-1}$: 설명변수, unitary라 $DFT^{-1} = DFT = DFT^*$, symmetric, orthogonal(설명변수가 독립적이라 다중공선성이 존재하지 않는다.)\n",
    "        - 다중공선성이 있으면 각 설명변수의 설명이 안 될 수도 있고 그 설명변수를 해석하기도 어려워짐.\n",
    "    - $X_k = \\beta$, codfficient(푸리에 변환의 결과이다)"
   ]
  },
  {
   "cell_type": "markdown",
   "id": "1ce93d20-6fea-4ae7-8a12-67f0c2dcb60e",
   "metadata": {},
   "source": [
    "DFT 행렬의 특징\n",
    "\n",
    "1. 유니터리unitary 행렬, 즉, $DFT^* = DFT, DFT^*DFT = I$\n",
    "2. 대칭symmetric 행렬 $\\to$ 그렇기 떄문에 이 행렬의 켤레전치는 $i = \\sqrt{-1}$ 대신 $i$를 넣은 것과 같음.\n",
    "\n",
    "- inverse DFT는 $i = -i$를 넣은 행렬, 즉 DFT의 켤레전치 = inverse DFT"
   ]
  },
  {
   "cell_type": "code",
   "execution_count": null,
   "id": "87cc8b9f-a435-4ffa-9bdc-80ebe43f0117",
   "metadata": {},
   "outputs": [],
   "source": []
  }
 ],
 "metadata": {
  "kernelspec": {
   "display_name": "Julia 1.7.2",
   "language": "julia",
   "name": "julia-1.7"
  },
  "language_info": {
   "file_extension": ".jl",
   "mimetype": "application/julia",
   "name": "julia",
   "version": "1.7.2"
  }
 },
 "nbformat": 4,
 "nbformat_minor": 5
}

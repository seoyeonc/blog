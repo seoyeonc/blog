{
 "cells": [
  {
   "cell_type": "raw",
   "id": "43e511fe-f020-4da6-a9ca-f80abb6cddbf",
   "metadata": {
    "id": "cac470df-29e7-4148-9bbd-d8b9a32fa570",
    "tags": []
   },
   "source": [
    "---\n",
    "title: \"SimualtionPlanner-Tutorial\"\n",
    "author: \"SEOYEON CHOI\"\n",
    "date: \"2023-03-22\"\n",
    "categories:\n",
    "  - ST-GCN\n",
    "---"
   ]
  },
  {
   "cell_type": "markdown",
   "id": "f4865201-e9bc-4c2e-bcd8-3a19d2f95745",
   "metadata": {},
   "source": [
    "> table"
   ]
  },
  {
   "cell_type": "markdown",
   "id": "edd8b536-1515-4b51-9a99-95974bad6c75",
   "metadata": {},
   "source": [
    "# imports"
   ]
  },
  {
   "cell_type": "code",
   "execution_count": 1,
   "id": "b0c2e707-a477-4cbd-b8ff-3dd35c65266e",
   "metadata": {},
   "outputs": [],
   "source": [
    "import itstgcn\n",
    "import torch\n",
    "import itstgcn.planner "
   ]
  },
  {
   "cell_type": "markdown",
   "id": "9831dd41-f751-46de-a7c5-927d1a82cb3b",
   "metadata": {},
   "source": [
    "# read data"
   ]
  },
  {
   "cell_type": "code",
   "execution_count": 17,
   "id": "c3d7127c-26e6-4848-828d-f80f2cf369a4",
   "metadata": {},
   "outputs": [],
   "source": [
    "from torch_geometric_temporal.dataset import ChickenpoxDatasetLoader\n",
    "loader1 = ChickenpoxDatasetLoader()"
   ]
  },
  {
   "cell_type": "code",
   "execution_count": 3,
   "id": "21b18310-1cd6-45df-9448-87d8d9c8f310",
   "metadata": {},
   "outputs": [],
   "source": [
    "from torch_geometric_temporal.dataset import PedalMeDatasetLoader\n",
    "loader2 = PedalMeDatasetLoader()"
   ]
  },
  {
   "cell_type": "code",
   "execution_count": 4,
   "id": "9ca12e28-59b0-4868-93fb-763b978260ae",
   "metadata": {},
   "outputs": [],
   "source": [
    "from torch_geometric_temporal.dataset import WikiMathsDatasetLoader\n",
    "loader3 = WikiMathsDatasetLoader()"
   ]
  },
  {
   "cell_type": "code",
   "execution_count": 5,
   "id": "7b3065b5-6056-4f8c-932a-7e431387015d",
   "metadata": {},
   "outputs": [],
   "source": [
    "from torch_geometric_temporal.dataset import WindmillOutputMediumDatasetLoader\n",
    "loader5 = WindmillOutputMediumDatasetLoader()"
   ]
  },
  {
   "cell_type": "code",
   "execution_count": 6,
   "id": "e608614b-500d-4acd-b544-11428381b7a5",
   "metadata": {},
   "outputs": [],
   "source": [
    "from torch_geometric_temporal.dataset import WindmillOutputSmallDatasetLoader\n",
    "loader6 = WindmillOutputSmallDatasetLoader()"
   ]
  },
  {
   "cell_type": "code",
   "execution_count": 7,
   "id": "f6c8fb6b-70c4-46a6-bec9-3f080696c3e7",
   "metadata": {},
   "outputs": [],
   "source": [
    "from torch_geometric_temporal.dataset import MontevideoBusDatasetLoader\n",
    "loader10 = MontevideoBusDatasetLoader()"
   ]
  },
  {
   "cell_type": "markdown",
   "id": "ec8a3c6f-83fa-4b5a-bb13-7cad1a5fe803",
   "metadata": {},
   "source": [
    "## PLNR_STGCN_RAND"
   ]
  },
  {
   "cell_type": "code",
   "execution_count": 18,
   "id": "c35be09f-1689-44ca-ac60-9fbd9a56910a",
   "metadata": {},
   "outputs": [],
   "source": [
    "plans_stgcn_rand = {\n",
    "    'max_iteration': 30, \n",
    "    'method': ['STGCN', 'IT-STGCN'], \n",
    "    'mrate': [0.8,0.9],\n",
    "    'lags': [4], \n",
    "    'nof_filters': [16,24,32], \n",
    "    'inter_method': ['cubic','linear'],\n",
    "    'epoch': [50]\n",
    "}"
   ]
  },
  {
   "cell_type": "code",
   "execution_count": 19,
   "id": "530f0f77-2c92-40ae-8946-f16be4c3cf79",
   "metadata": {},
   "outputs": [],
   "source": [
    "plnr = itstgcn.planner.PLNR_STGCN_RAND(plans_stgcn_rand,loader1,dataset_name='chickenpox')"
   ]
  },
  {
   "cell_type": "code",
   "execution_count": null,
   "id": "25565e44-a8da-40e0-bec6-99979d0707d5",
   "metadata": {},
   "outputs": [
    {
     "name": "stdout",
     "output_type": "stream",
     "text": [
      "12/50\r"
     ]
    }
   ],
   "source": [
    "plnr.simulate()"
   ]
  },
  {
   "cell_type": "code",
   "execution_count": 20,
   "id": "e625a62f-803e-45da-9c31-e508a7ab999e",
   "metadata": {},
   "outputs": [],
   "source": [
    "plnr = itstgcn.planner.PLNR_STGCN_RAND(plans_stgcn_rand,loader2,dataset_name='pedalme')"
   ]
  },
  {
   "cell_type": "code",
   "execution_count": null,
   "id": "4a3456be-08f9-4c72-915b-b34020cefe8d",
   "metadata": {},
   "outputs": [],
   "source": [
    "plnr.simulate()"
   ]
  },
  {
   "cell_type": "code",
   "execution_count": null,
   "id": "1da75b41-c7cc-44da-a16f-89b5c1edd1a7",
   "metadata": {},
   "outputs": [],
   "source": [
    "plnr = itstgcn.planner.PLNR_STGCN_RAND(plans_stgcn_rand,loader3,dataset_name='wikimath')"
   ]
  },
  {
   "cell_type": "code",
   "execution_count": null,
   "id": "53dda48e-37ec-4b99-b27e-0639a36e4156",
   "metadata": {},
   "outputs": [],
   "source": [
    "plnr.simulate()"
   ]
  },
  {
   "cell_type": "code",
   "execution_count": 8,
   "id": "e2819700-b5f4-473d-b471-8a44239c8121",
   "metadata": {},
   "outputs": [],
   "source": [
    "plnr = itstgcn.planner.PLNR_STGCN_RAND(plans_stgcn_rand,loader5,dataset_name='windmiloutputmedium')"
   ]
  },
  {
   "cell_type": "code",
   "execution_count": null,
   "id": "b6e12955-7c09-456f-8918-9112d271f83c",
   "metadata": {},
   "outputs": [],
   "source": [
    "plnr.simulate()"
   ]
  },
  {
   "cell_type": "code",
   "execution_count": null,
   "id": "747de30e-a69b-45e5-aac2-3ba6afbe524a",
   "metadata": {},
   "outputs": [],
   "source": []
  },
  {
   "cell_type": "code",
   "execution_count": null,
   "id": "699aefcf-488a-42ed-bffd-0bc834d41e32",
   "metadata": {},
   "outputs": [],
   "source": []
  },
  {
   "cell_type": "code",
   "execution_count": null,
   "id": "c1da0751-f954-4ac1-b4ff-07c12fbc448d",
   "metadata": {},
   "outputs": [],
   "source": []
  },
  {
   "cell_type": "code",
   "execution_count": null,
   "id": "1effb13e-1601-4ce8-bb36-083eebc4998a",
   "metadata": {},
   "outputs": [],
   "source": [
    "plans_stgcn_rand = {\n",
    "    'max_iteration': 10, \n",
    "    'method': ['STGCN', 'IT-STGCN'], \n",
    "    'mrate': [0],\n",
    "    'lags': [8], \n",
    "    'nof_filters': [12], \n",
    "    'inter_method': ['linear'],\n",
    "    'epoch': [50]\n",
    "}"
   ]
  },
  {
   "cell_type": "code",
   "execution_count": null,
   "id": "37ea6bd1-4e80-4cf1-ac43-06aba0a542aa",
   "metadata": {},
   "outputs": [],
   "source": [
    "plnr = itstgcn.planner.PLNR_STGCN_RAND(plans_stgcn_rand,loader10,dataset_name='monte')\n",
    "plnr.simulate()"
   ]
  },
  {
   "cell_type": "markdown",
   "id": "60bdffed-7236-4c53-9749-f28e161b5c0c",
   "metadata": {
    "tags": []
   },
   "source": [
    "## PLNR_STGCN_MANUAL"
   ]
  },
  {
   "cell_type": "code",
   "execution_count": null,
   "id": "895d2b4f-c105-4424-bdea-7c4c5f37f623",
   "metadata": {},
   "outputs": [],
   "source": [
    "my_list = [[] for _ in range(20)] #chickenpox\n",
    "another_list = list(range(100,200))\n",
    "my_list[10] = another_list\n",
    "mindex = my_list"
   ]
  },
  {
   "cell_type": "code",
   "execution_count": 24,
   "id": "d927dc0a-b2be-4cdd-9f69-559a03799785",
   "metadata": {},
   "outputs": [],
   "source": [
    "my_list = [[] for _ in range(15)] #pedalme\n",
    "another_list = list(range(5,25))\n",
    "my_list[1] = another_list\n",
    "my_list[3] = another_list\n",
    "my_list[5] = another_list\n",
    "my_list[7] = another_list\n",
    "my_list[9] = another_list\n",
    "my_list[11] = another_list\n",
    "mindex = my_list"
   ]
  },
  {
   "cell_type": "code",
   "execution_count": null,
   "id": "63ddd599-6598-4239-948c-70020be19786",
   "metadata": {},
   "outputs": [],
   "source": [
    "my_list = [[] for _ in range(1068)] #wikimath\n",
    "another_list = list(range(200,500))\n",
    "my_list[10] = another_list\n",
    "mindex = my_list"
   ]
  },
  {
   "cell_type": "code",
   "execution_count": null,
   "id": "1bab08c1-d61e-427c-ae42-61ee810bf250",
   "metadata": {},
   "outputs": [],
   "source": [
    "my_list = [[] for _ in range(26)] #windmilmedi\n",
    "another_list = list(range(200,500)) # 676*0.8 = 540.8\n",
    "my_list[10] = another_list\n",
    "mindex = my_list"
   ]
  },
  {
   "cell_type": "code",
   "execution_count": null,
   "id": "61b3449c-7543-488a-88aa-ca919110d5db",
   "metadata": {},
   "outputs": [],
   "source": [
    "my_list = [[] for _ in range(11)] #windmilsmall\n",
    "another_list = list(range(5000,10000)) # 17470*0.8 = 13976.0\n",
    "my_list[10] = another_list\n",
    "mindex = my_list"
   ]
  },
  {
   "cell_type": "code",
   "execution_count": 9,
   "id": "11f55183-252d-43ae-9bba-19b973c52b16",
   "metadata": {},
   "outputs": [],
   "source": [
    "import numpy as np"
   ]
  },
  {
   "cell_type": "code",
   "execution_count": 10,
   "id": "5e928c14-4b70-4abc-a141-a49a3f34f6ce",
   "metadata": {},
   "outputs": [],
   "source": [
    "import random"
   ]
  },
  {
   "cell_type": "code",
   "execution_count": 11,
   "id": "5fd05525-cae5-44b3-84da-6d8da4ba1ac6",
   "metadata": {},
   "outputs": [],
   "source": [
    "my_list = [[] for _ in range(675)] #monte\n",
    "another_list = list(range(200,350)) #743\n",
    "\n",
    "for i in np.array(random.sample(range(0, 675), 400)):\n",
    "    my_list[i] = another_list\n",
    "mindex = my_list"
   ]
  },
  {
   "cell_type": "code",
   "execution_count": null,
   "id": "92b0592c-52b5-42cd-9838-f7d5a5e75ee7",
   "metadata": {},
   "outputs": [],
   "source": []
  },
  {
   "cell_type": "code",
   "execution_count": 12,
   "id": "25ff57c9-c2bf-4d08-bb5f-dad81da259be",
   "metadata": {},
   "outputs": [],
   "source": [
    "# mindex= [[],[],[],list(range(50,150)),[]]  # node 1\n",
    "# mindex= [list(range(10,100)),[],list(range(50,80)),[],[]] # node 2\n",
    "# mindex= [list(range(10,100)),[],list(range(50,80)),list(range(50,150)),[]] # node3\n",
    "plans_stgcn_block = {\n",
    "    'max_iteration': 30, \n",
    "    'method': ['STGCN', 'IT-STGCN'], \n",
    "    'mindex': [mindex],\n",
    "    'lags': [4,8], \n",
    "    'nof_filters': [12], \n",
    "    'inter_method': ['linear'],\n",
    "    'epoch': [50]\n",
    "}"
   ]
  },
  {
   "cell_type": "code",
   "execution_count": null,
   "id": "07b14fc5-fd9a-44da-93e7-9232e2bc1459",
   "metadata": {},
   "outputs": [],
   "source": [
    "plnr = itstgcn.planner.PLNR_STGCN_MANUAL(plans_stgcn_block,loader1,dataset_name='chickenpox')\n",
    "plnr.simulate(mindex=mindex,mtype='block')"
   ]
  },
  {
   "cell_type": "code",
   "execution_count": null,
   "id": "c68e5fda-fcac-419f-a42a-f902e72996a7",
   "metadata": {},
   "outputs": [],
   "source": [
    "plnr = itstgcn.planner.PLNR_STGCN_MANUAL(plans_stgcn_block,loader2,dataset_name='pedalme')\n",
    "plnr.simulate(mindex=mindex,mtype='block')"
   ]
  },
  {
   "cell_type": "code",
   "execution_count": null,
   "id": "0924b0f7-8325-409a-9b3e-cade849d8760",
   "metadata": {},
   "outputs": [],
   "source": [
    "plnr = itstgcn.planner.PLNR_STGCN_MANUAL(plans_stgcn_block,loader3,dataset_name='wikimath')\n",
    "plnr.simulate(mindex=mindex,mtype='block')"
   ]
  },
  {
   "cell_type": "code",
   "execution_count": null,
   "id": "b2a5f9d9-3360-4cce-b6df-b35a3871b554",
   "metadata": {},
   "outputs": [],
   "source": [
    "plnr = itstgcn.planner.PLNR_STGCN_MANUAL(plans_stgcn_block,loader5,dataset_name='windmiloutputmedium')\n",
    "plnr.simulate(mindex=mindex,mtype='block')"
   ]
  },
  {
   "cell_type": "code",
   "execution_count": null,
   "id": "6b7a6295-d307-412d-89db-52275479d366",
   "metadata": {},
   "outputs": [],
   "source": [
    "plnr = itstgcn.planner.PLNR_STGCN_MANUAL(plans_stgcn_block,loader6,dataset_name='windmiloutputsmall')\n",
    "plnr.simulate(mindex=mindex,mtype='block')"
   ]
  },
  {
   "cell_type": "code",
   "execution_count": null,
   "id": "a11c8579-21cc-45dc-b15c-714bc2034916",
   "metadata": {},
   "outputs": [],
   "source": []
  },
  {
   "cell_type": "code",
   "execution_count": null,
   "id": "1648a435-3a61-43d9-b655-4e2026ea32fa",
   "metadata": {},
   "outputs": [],
   "source": []
  },
  {
   "cell_type": "code",
   "execution_count": null,
   "id": "45f334c5-12e0-494f-aeb2-af68304c34c5",
   "metadata": {},
   "outputs": [
    {
     "name": "stderr",
     "output_type": "stream",
     "text": [
      "/home/csy/Dropbox/blog/posts/GCN/itstgcn/utils.py:71: UserWarning: Creating a tensor from a list of numpy.ndarrays is extremely slow. Please consider converting the list to a single numpy.ndarray with numpy.array() before converting to a tensor. (Triggered internally at  /opt/conda/conda-bld/pytorch_1639180588308/work/torch/csrc/utils/tensor_new.cpp:201.)\n",
      "  lags = torch.tensor(train_dataset.features).shape[-1]\n"
     ]
    },
    {
     "name": "stdout",
     "output_type": "stream",
     "text": [
      "35/50\r"
     ]
    }
   ],
   "source": [
    "plnr = itstgcn.planner.PLNR_STGCN_MANUAL(plans_stgcn_block,loader10,dataset_name='monte')\n",
    "plnr.simulate(mindex=mindex,mtype='block')"
   ]
  },
  {
   "cell_type": "code",
   "execution_count": null,
   "id": "1db21d98-a352-4a41-80b7-230ee70d7c99",
   "metadata": {},
   "outputs": [],
   "source": [
    "plnr = itstgcn.planner.PLNR_STGCN_MANUAL(plans_stgcn_block,loader10,dataset_name='monte')\n",
    "plnr.simulate(mindex=mindex,mtype='block')"
   ]
  },
  {
   "cell_type": "code",
   "execution_count": null,
   "id": "37d5333f-a0d2-465a-ba58-f91de3c67070",
   "metadata": {},
   "outputs": [],
   "source": [
    "plnr = itstgcn.planner.PLNR_STGCN_MANUAL(plans_stgcn_block,loader10,dataset_name='monte')\n",
    "plnr.simulate(mindex=mindex,mtype='block')"
   ]
  },
  {
   "cell_type": "code",
   "execution_count": null,
   "id": "ba3e0fd6-ce08-45ec-bb3c-11a836419902",
   "metadata": {},
   "outputs": [],
   "source": [
    "plnr = itstgcn.planner.PLNR_STGCN_MANUAL(plans_stgcn_block,loader10,dataset_name='monte')\n",
    "plnr.simulate(mindex=mindex,mtype='block')"
   ]
  },
  {
   "cell_type": "code",
   "execution_count": null,
   "id": "87218a7c-1d17-46db-874a-dcf5711ad535",
   "metadata": {},
   "outputs": [],
   "source": [
    "plnr = itstgcn.planner.PLNR_STGCN_MANUAL(plans_stgcn_block,loader10,dataset_name='monte')\n",
    "plnr.simulate(mindex=mindex,mtype='block')"
   ]
  },
  {
   "cell_type": "code",
   "execution_count": null,
   "id": "63218dd5-2f01-40cf-9964-91be0b426dfa",
   "metadata": {},
   "outputs": [],
   "source": [
    "plnr = itstgcn.planner.PLNR_STGCN_MANUAL(plans_stgcn_block,loader10,dataset_name='monte')\n",
    "plnr.simulate(mindex=mindex,mtype='block')"
   ]
  },
  {
   "cell_type": "code",
   "execution_count": null,
   "id": "cfdb4d05-13a1-4d81-b715-0c19d2c23f48",
   "metadata": {},
   "outputs": [],
   "source": [
    "plnr = itstgcn.planner.PLNR_STGCN_MANUAL(plans_stgcn_block,loader10,dataset_name='monte')\n",
    "plnr.simulate(mindex=mindex,mtype='block')"
   ]
  },
  {
   "cell_type": "code",
   "execution_count": null,
   "id": "c13bfe55-3005-4b4b-9108-bd317a89201f",
   "metadata": {},
   "outputs": [],
   "source": [
    "plnr = itstgcn.planner.PLNR_STGCN_MANUAL(plans_stgcn_block,loader10,dataset_name='monte')\n",
    "plnr.simulate(mindex=mindex,mtype='block')"
   ]
  },
  {
   "cell_type": "code",
   "execution_count": null,
   "id": "cb04e6d7-afee-4dda-af49-11ab00865fc1",
   "metadata": {},
   "outputs": [],
   "source": [
    "plnr = itstgcn.planner.PLNR_STGCN_MANUAL(plans_stgcn_block,loader10,dataset_name='monte')\n",
    "plnr.simulate(mindex=mindex,mtype='block')"
   ]
  },
  {
   "cell_type": "code",
   "execution_count": null,
   "id": "ecdd0d39-8e38-42d2-8a60-25cad3d4337b",
   "metadata": {},
   "outputs": [],
   "source": [
    "plnr = itstgcn.planner.PLNR_STGCN_MANUAL(plans_stgcn_block,loader10,dataset_name='monte')\n",
    "plnr.simulate(mindex=mindex,mtype='block')"
   ]
  },
  {
   "cell_type": "code",
   "execution_count": null,
   "id": "3daa4d6e-cdcf-47cc-a1f8-f51f439d4da5",
   "metadata": {},
   "outputs": [],
   "source": [
    "plnr = itstgcn.planner.PLNR_STGCN_MANUAL(plans_stgcn_block,loader10,dataset_name='monte')\n",
    "plnr.simulate(mindex=mindex,mtype='block')"
   ]
  },
  {
   "cell_type": "code",
   "execution_count": null,
   "id": "d984bf51-4d4a-4ae7-99f4-c11315ee49e5",
   "metadata": {},
   "outputs": [],
   "source": [
    "plnr = itstgcn.planner.PLNR_STGCN_MANUAL(plans_stgcn_block,loader10,dataset_name='monte')\n",
    "plnr.simulate(mindex=mindex,mtype='block')"
   ]
  },
  {
   "cell_type": "code",
   "execution_count": null,
   "id": "400bb089-fe92-4f91-8527-223cd0ce4ebf",
   "metadata": {},
   "outputs": [],
   "source": [
    "plnr = itstgcn.planner.PLNR_STGCN_MANUAL(plans_stgcn_block,loader10,dataset_name='monte')\n",
    "plnr.simulate(mindex=mindex,mtype='block')"
   ]
  },
  {
   "cell_type": "code",
   "execution_count": null,
   "id": "82bce82a-dd50-4381-a616-2fdafaa9d710",
   "metadata": {},
   "outputs": [],
   "source": [
    "plnr = itstgcn.planner.PLNR_STGCN_MANUAL(plans_stgcn_block,loader10,dataset_name='monte')\n",
    "plnr.simulate(mindex=mindex,mtype='block')"
   ]
  },
  {
   "cell_type": "code",
   "execution_count": null,
   "id": "1e37b470-9a75-4290-9ea5-3925639ecdf9",
   "metadata": {},
   "outputs": [],
   "source": [
    "plnr = itstgcn.planner.PLNR_STGCN_MANUAL(plans_stgcn_block,loader10,dataset_name='monte')\n",
    "plnr.simulate(mindex=mindex,mtype='block')"
   ]
  },
  {
   "cell_type": "code",
   "execution_count": null,
   "id": "f66271b9-2ec7-410d-ac84-9b6562e669cf",
   "metadata": {},
   "outputs": [],
   "source": [
    "plnr = itstgcn.planner.PLNR_STGCN_MANUAL(plans_stgcn_block,loader10,dataset_name='monte')\n",
    "plnr.simulate(mindex=mindex,mtype='block')"
   ]
  },
  {
   "cell_type": "code",
   "execution_count": null,
   "id": "9c307c04-744c-4586-b79d-7a391068f52e",
   "metadata": {},
   "outputs": [],
   "source": [
    "plnr = itstgcn.planner.PLNR_STGCN_MANUAL(plans_stgcn_block,loader10,dataset_name='monte')\n",
    "plnr.simulate(mindex=mindex,mtype='block')"
   ]
  },
  {
   "cell_type": "code",
   "execution_count": null,
   "id": "a4ec693d-fe5b-4130-a7ac-994744f29c39",
   "metadata": {},
   "outputs": [],
   "source": [
    "plnr = itstgcn.planner.PLNR_STGCN_MANUAL(plans_stgcn_block,loader10,dataset_name='monte')\n",
    "plnr.simulate(mindex=mindex,mtype='block')"
   ]
  },
  {
   "cell_type": "code",
   "execution_count": null,
   "id": "a8ab652f-2c29-4d63-87c6-b123d853a572",
   "metadata": {},
   "outputs": [],
   "source": [
    "plnr = itstgcn.planner.PLNR_STGCN_MANUAL(plans_stgcn_block,loader10,dataset_name='monte')\n",
    "plnr.simulate(mindex=mindex,mtype='block')"
   ]
  },
  {
   "cell_type": "code",
   "execution_count": null,
   "id": "28544a22-1aca-4e26-ba72-e92ccb4d74fc",
   "metadata": {},
   "outputs": [],
   "source": [
    "plnr = itstgcn.planner.PLNR_STGCN_MANUAL(plans_stgcn_block,loader10,dataset_name='monte')\n",
    "plnr.simulate(mindex=mindex,mtype='block')"
   ]
  },
  {
   "cell_type": "code",
   "execution_count": null,
   "id": "1a6d75d9-93ff-41ea-98d1-f89545f39639",
   "metadata": {},
   "outputs": [],
   "source": [
    "plnr = itstgcn.planner.PLNR_STGCN_MANUAL(plans_stgcn_block,loader10,dataset_name='monte')\n",
    "plnr.simulate(mindex=mindex,mtype='block')"
   ]
  },
  {
   "cell_type": "code",
   "execution_count": null,
   "id": "30ffae86-5cd2-4e0d-af0d-e888831ee806",
   "metadata": {},
   "outputs": [],
   "source": [
    "plnr = itstgcn.planner.PLNR_STGCN_MANUAL(plans_stgcn_block,loader10,dataset_name='monte')\n",
    "plnr.simulate(mindex=mindex,mtype='block')"
   ]
  },
  {
   "cell_type": "code",
   "execution_count": null,
   "id": "5ed2ae29-6c29-4474-940c-35f2b047cfc0",
   "metadata": {},
   "outputs": [],
   "source": [
    "plnr = itstgcn.planner.PLNR_STGCN_MANUAL(plans_stgcn_block,loader10,dataset_name='monte')\n",
    "plnr.simulate(mindex=mindex,mtype='block')"
   ]
  },
  {
   "cell_type": "code",
   "execution_count": null,
   "id": "c7bcafc3-9df1-4abc-990e-3d7daff180b4",
   "metadata": {},
   "outputs": [],
   "source": [
    "plnr = itstgcn.planner.PLNR_STGCN_MANUAL(plans_stgcn_block,loader10,dataset_name='monte')\n",
    "plnr.simulate(mindex=mindex,mtype='block')"
   ]
  },
  {
   "cell_type": "code",
   "execution_count": null,
   "id": "ae26e2c1-d060-46e4-9d15-4fb7659d487a",
   "metadata": {},
   "outputs": [],
   "source": [
    "plnr = itstgcn.planner.PLNR_STGCN_MANUAL(plans_stgcn_block,loader10,dataset_name='monte')\n",
    "plnr.simulate(mindex=mindex,mtype='block')"
   ]
  },
  {
   "cell_type": "code",
   "execution_count": null,
   "id": "a89f8b69-3df0-472d-8fe7-cca37cd55a36",
   "metadata": {},
   "outputs": [],
   "source": [
    "plnr = itstgcn.planner.PLNR_STGCN_MANUAL(plans_stgcn_block,loader10,dataset_name='monte')\n",
    "plnr.simulate(mindex=mindex,mtype='block')"
   ]
  },
  {
   "cell_type": "code",
   "execution_count": null,
   "id": "81850056-238d-4705-b623-7771065a627a",
   "metadata": {},
   "outputs": [],
   "source": [
    "plnr = itstgcn.planner.PLNR_STGCN_MANUAL(plans_stgcn_block,loader10,dataset_name='monte')\n",
    "plnr.simulate(mindex=mindex,mtype='block')"
   ]
  },
  {
   "cell_type": "code",
   "execution_count": null,
   "id": "a5e29b95-70be-4f83-abde-10de3e2811f5",
   "metadata": {},
   "outputs": [],
   "source": [
    "plnr = itstgcn.planner.PLNR_STGCN_MANUAL(plans_stgcn_block,loader10,dataset_name='monte')\n",
    "plnr.simulate(mindex=mindex,mtype='block')"
   ]
  },
  {
   "cell_type": "code",
   "execution_count": null,
   "id": "3857dde8-15cd-41e0-a3fe-085f520eddab",
   "metadata": {},
   "outputs": [],
   "source": [
    "plnr = itstgcn.planner.PLNR_STGCN_MANUAL(plans_stgcn_block,loader10,dataset_name='monte')\n",
    "plnr.simulate(mindex=mindex,mtype='block')"
   ]
  },
  {
   "cell_type": "code",
   "execution_count": null,
   "id": "1fbdef9b-d17c-4898-a34d-a5a24b374138",
   "metadata": {},
   "outputs": [],
   "source": [
    "plnr = itstgcn.planner.PLNR_STGCN_MANUAL(plans_stgcn_block,loader10,dataset_name='monte')\n",
    "plnr.simulate(mindex=mindex,mtype='block')"
   ]
  },
  {
   "cell_type": "code",
   "execution_count": null,
   "id": "4521d84c-b67c-4936-9825-f69894348740",
   "metadata": {},
   "outputs": [],
   "source": []
  },
  {
   "cell_type": "code",
   "execution_count": null,
   "id": "ca79b1ef-c58a-4aef-a129-8fbc714775ef",
   "metadata": {},
   "outputs": [],
   "source": []
  },
  {
   "cell_type": "code",
   "execution_count": null,
   "id": "74bc77ad-a781-41f2-8708-fd4a9ff3907a",
   "metadata": {},
   "outputs": [],
   "source": []
  },
  {
   "cell_type": "code",
   "execution_count": null,
   "id": "675ff5d1-aada-4fc3-be97-3665bf50a61d",
   "metadata": {},
   "outputs": [],
   "source": [
    "import random"
   ]
  },
  {
   "cell_type": "code",
   "execution_count": null,
   "id": "773d794f-1e12-4ddc-985d-c6f051844c07",
   "metadata": {},
   "outputs": [],
   "source": [
    "my_list = [[] for _ in range(1068)] #wikimath\n",
    "another_list = random.sample(range(0, 576), 432)\n",
    "for i in range(0, 1068):\n",
    "    my_list[i] = another_list\n",
    "mindex = my_list"
   ]
  },
  {
   "cell_type": "code",
   "execution_count": null,
   "id": "749d2b64-ecbd-434b-9c7a-af0788e4a1b7",
   "metadata": {},
   "outputs": [],
   "source": [
    "# mindex= [[],[],[],list(range(50,150)),[]]  # node 1\n",
    "# mindex= [list(range(10,100)),[],list(range(50,80)),[],[]] # node 2\n",
    "# mindex= [list(range(10,100)),[],list(range(50,80)),list(range(50,150)),[]] # node3\n",
    "plans_stgcn_block = {\n",
    "    'max_iteration': 10, \n",
    "    'method': ['STGCN', 'IT-STGCN'], \n",
    "    'mindex': [mindex],\n",
    "    'lags': [4], \n",
    "    'nof_filters': [12], \n",
    "    'inter_method': ['nearest','linear'],\n",
    "    'epoch': [50]\n",
    "}"
   ]
  },
  {
   "cell_type": "code",
   "execution_count": null,
   "id": "096cddfb-0aec-4cd0-b359-bae97eebe777",
   "metadata": {},
   "outputs": [],
   "source": [
    "plnr = itstgcn.planner.PLNR_STGCN_MANUAL(plans_stgcn_block,loader3,dataset_name='wikimath')\n",
    "plnr.simulate(mindex=mindex,mtype='block')"
   ]
  },
  {
   "cell_type": "code",
   "execution_count": null,
   "id": "8d3eed56-75ad-4053-ab6f-065581a1c467",
   "metadata": {},
   "outputs": [],
   "source": [
    "# mindex= [[],[],[],list(range(50,150)),[]]  # node 1\n",
    "# mindex= [list(range(10,100)),[],list(range(50,80)),[],[]] # node 2\n",
    "# mindex= [list(range(10,100)),[],list(range(50,80)),list(range(50,150)),[]] # node3\n",
    "plans_stgcn_block = {\n",
    "    'max_iteration': 10, \n",
    "    'method': ['STGCN', 'IT-STGCN'], \n",
    "    'mindex': [mindex],\n",
    "    'lags': [4], \n",
    "    'nof_filters': [12], \n",
    "    'inter_method': ['nearest','linear'],\n",
    "    'epoch': [50]\n",
    "}"
   ]
  },
  {
   "cell_type": "code",
   "execution_count": null,
   "id": "4229982f-4df4-4bc2-9d39-82f5c5753465",
   "metadata": {},
   "outputs": [],
   "source": [
    "plnr = itstgcn.planner.PLNR_STGCN_MANUAL(plans_stgcn_block,loader3,dataset_name='wikimath')\n",
    "plnr.simulate(mindex=mindex,mtype='block')"
   ]
  },
  {
   "cell_type": "code",
   "execution_count": null,
   "id": "a58726a6-de20-467f-ba80-54eef401b5a4",
   "metadata": {},
   "outputs": [],
   "source": [
    "# mindex= [[],[],[],list(range(50,150)),[]]  # node 1\n",
    "# mindex= [list(range(10,100)),[],list(range(50,80)),[],[]] # node 2\n",
    "# mindex= [list(range(10,100)),[],list(range(50,80)),list(range(50,150)),[]] # node3\n",
    "plans_stgcn_block = {\n",
    "    'max_iteration': 10, \n",
    "    'method': ['STGCN', 'IT-STGCN'], \n",
    "    'mindex': [mindex],\n",
    "    'lags': [4], \n",
    "    'nof_filters': [12], \n",
    "    'inter_method': ['nearest','linear'],\n",
    "    'epoch': [50]\n",
    "}"
   ]
  },
  {
   "cell_type": "code",
   "execution_count": null,
   "id": "b0cb1d45-e8a0-4be3-b18a-3fd620a1f09d",
   "metadata": {},
   "outputs": [],
   "source": [
    "plnr = itstgcn.planner.PLNR_STGCN_MANUAL(plans_stgcn_block,loader3,dataset_name='wikimath')\n",
    "plnr.simulate(mindex=mindex,mtype='block')"
   ]
  },
  {
   "cell_type": "code",
   "execution_count": null,
   "id": "0df2a57b-e469-43fc-b845-39c8b7fa9cf5",
   "metadata": {},
   "outputs": [],
   "source": []
  },
  {
   "cell_type": "code",
   "execution_count": null,
   "id": "c87bbc31-41fb-4428-a42b-04eb1fa07a17",
   "metadata": {},
   "outputs": [],
   "source": []
  },
  {
   "cell_type": "code",
   "execution_count": null,
   "id": "181bc92d-04cd-46a3-a356-1db00efbc42f",
   "metadata": {},
   "outputs": [],
   "source": []
  },
  {
   "cell_type": "code",
   "execution_count": null,
   "id": "139739b6-0e9f-4c08-bf91-7aa579f009b8",
   "metadata": {},
   "outputs": [],
   "source": []
  },
  {
   "cell_type": "markdown",
   "id": "78d4a03e-ee3e-4395-917a-a3a670a48f2e",
   "metadata": {
    "tags": []
   },
   "source": [
    "## PLNR_GNAR_RAND"
   ]
  },
  {
   "cell_type": "code",
   "execution_count": null,
   "id": "5bb50c50-5323-43a1-9b47-2bbbac309b05",
   "metadata": {},
   "outputs": [],
   "source": [
    "plans_gnar_rand = {\n",
    "    'max_iteration': 30, \n",
    "#    'method': ['GNAR'], \n",
    "    'mrate': [0.3, 0.9],\n",
    "    'lags': [2, 8], \n",
    "#    'nof_filters': [8,16], \n",
    "    'inter_method': ['cubic','linear'],\n",
    "#    'epoch': [1]\n",
    "}"
   ]
  },
  {
   "cell_type": "code",
   "execution_count": null,
   "id": "5f49a5c5-b37c-4abe-92b7-23f0a426467b",
   "metadata": {},
   "outputs": [],
   "source": [
    "plnr = itstgcn.planner.PLNR_GNAR_RAND(plans_gnar_rand,loader1,dataset_name='chickenpox')\n",
    "plnr.simulate()"
   ]
  },
  {
   "cell_type": "code",
   "execution_count": null,
   "id": "7ee78656-807e-43a1-9c0b-78fd70c47cf6",
   "metadata": {},
   "outputs": [],
   "source": [
    "plnr = itstgcn.planner.PLNR_GNAR_RAND(plans_gnar_rand,loader2,dataset_name='pedalme')\n",
    "plnr.simulate()"
   ]
  },
  {
   "cell_type": "code",
   "execution_count": null,
   "id": "8ff41ed2-4947-49a6-9df5-52a1d6f119a9",
   "metadata": {},
   "outputs": [],
   "source": [
    "plnr = itstgcn.planner.PLNR_GNAR_RAND(plans_gnar_rand,loader3,dataset_name='wikimath')\n",
    "plnr.simulate()"
   ]
  },
  {
   "cell_type": "code",
   "execution_count": null,
   "id": "6d5efad3-776e-4731-a28b-3e558467796c",
   "metadata": {},
   "outputs": [],
   "source": [
    "plnr = itstgcn.planner.PLNR_GNAR_RAND(plans_gnar_rand,loader5,dataset_name='windmiloutputmedium')\n",
    "plnr.simulate()"
   ]
  },
  {
   "cell_type": "code",
   "execution_count": null,
   "id": "39e28c3a-27c4-4607-8971-41064dc9d568",
   "metadata": {},
   "outputs": [],
   "source": [
    "plnr = itstgcn.planner.PLNR_GNAR_RAND(plans_gnar_rand,loader6,dataset_name='windmiloutputsmall')\n",
    "plnr.simulate()"
   ]
  },
  {
   "cell_type": "code",
   "execution_count": null,
   "id": "479c0543-5f69-450c-a16b-fa478ce9a973",
   "metadata": {},
   "outputs": [],
   "source": []
  },
  {
   "cell_type": "markdown",
   "id": "f1c4fc60-b552-4cb0-990d-40ab420d2188",
   "metadata": {},
   "source": [
    "## PLNR_GNAR_BLOCK"
   ]
  },
  {
   "cell_type": "code",
   "execution_count": null,
   "id": "9393b9fd-46ec-4c14-ab69-ed0814cbacca",
   "metadata": {},
   "outputs": [],
   "source": [
    "my_list = [[] for _ in range(20)] #chickenpox\n",
    "another_list = list(range(100,200))\n",
    "my_list[10] = another_list\n",
    "mindex = my_list"
   ]
  },
  {
   "cell_type": "code",
   "execution_count": null,
   "id": "cd5b91d6-d78b-438e-a66a-a823da796999",
   "metadata": {},
   "outputs": [],
   "source": [
    "my_list = [[] for _ in range(15)] #pedalme\n",
    "another_list = list(range(5,25))\n",
    "my_list[1] = another_list\n",
    "my_list[3] = another_list\n",
    "my_list[5] = another_list\n",
    "my_list[7] = another_list\n",
    "my_list[9] = another_list\n",
    "my_list[11] = another_list\n",
    "mindex = my_list"
   ]
  },
  {
   "cell_type": "code",
   "execution_count": null,
   "id": "2c1b2f22-a877-4b11-975d-7cc96c8e5097",
   "metadata": {},
   "outputs": [],
   "source": [
    "my_list = [[] for _ in range(1068)] #wikimath\n",
    "another_list = list(range(10,20))\n",
    "my_list[10] = another_list\n",
    "mindex = my_list"
   ]
  },
  {
   "cell_type": "code",
   "execution_count": null,
   "id": "993bd637-93be-4d76-ba50-cedba674de88",
   "metadata": {},
   "outputs": [],
   "source": [
    "my_list = [[] for _ in range(26)] #windmilmedi\n",
    "another_list = list(range(200,500)) # 676*0.8 = 540.8\n",
    "my_list[10] = another_list\n",
    "mindex = my_list"
   ]
  },
  {
   "cell_type": "code",
   "execution_count": null,
   "id": "c489cea8-54db-4480-bd73-68c66ec6a5ee",
   "metadata": {},
   "outputs": [],
   "source": [
    "my_list = [[] for _ in range(11)] #windmilsmall\n",
    "another_list = list(range(5000,10000)) # 17470*0.8 = 13976.0\n",
    "my_list[10] = another_list\n",
    "mindex = my_list"
   ]
  },
  {
   "cell_type": "code",
   "execution_count": 14,
   "id": "9fabf21d-d386-481e-bec8-bbd9be20074a",
   "metadata": {},
   "outputs": [],
   "source": [
    "my_list = [[] for _ in range(675)] #monte\n",
    "another_list = list(range(200,350)) #743\n",
    "\n",
    "for i in np.array(random.sample(range(0, 675), 400)):\n",
    "    my_list[i] = another_list\n",
    "mindex = my_list"
   ]
  },
  {
   "cell_type": "code",
   "execution_count": 15,
   "id": "f18eaef3-c133-4950-9b89-93bb32b17681",
   "metadata": {},
   "outputs": [],
   "source": [
    "# mindex = [[],[],list(range(50,250)),[],[]]\n",
    "# mindex = [list(range(10,100)),[],list(range(50,80)),[],[]]\n",
    "# mindex= [list(range(10,100)),[],list(range(50,80)),list(range(50,150)),[]]\n",
    "plans_gnar_block = {\n",
    "    'max_iteration': 3, \n",
    "    'method': ['GNAR'], \n",
    "    'mindex': [mindex],\n",
    "    'lags': [4,8], \n",
    "    'inter_method': ['linear'],\n",
    "}"
   ]
  },
  {
   "cell_type": "code",
   "execution_count": null,
   "id": "1c82347a-cc2c-4c75-a119-294cba428088",
   "metadata": {},
   "outputs": [],
   "source": [
    "plnr = itstgcn.planner.PLNR_GNAR_MANUAL(plans_gnar_block,loader1,dataset_name='chickenpox')\n",
    "plnr.simulate(mindex,mtype='block')"
   ]
  },
  {
   "cell_type": "code",
   "execution_count": null,
   "id": "7b54e0e2-61f8-46fd-a387-f939af28dba8",
   "metadata": {},
   "outputs": [],
   "source": [
    "plnr = itstgcn.planner.PLNR_GNAR_MANUAL(plans_gnar_block,loader2,dataset_name='pedalme')\n",
    "plnr.simulate(mindex,mtype='block')"
   ]
  },
  {
   "cell_type": "code",
   "execution_count": null,
   "id": "079bb2bf-5beb-4f11-a9f3-3ac697e47e5b",
   "metadata": {},
   "outputs": [],
   "source": [
    "lnr = itstgcn.planner.PLNR_GNAR_MANUAL(plans_gnar_block,loader3,dataset_name='wikimath')\n",
    "plnr.simulate(mindex,mtype='block')"
   ]
  },
  {
   "cell_type": "code",
   "execution_count": null,
   "id": "f1d12b32-e6ed-4eab-8c5c-c342367fe14f",
   "metadata": {},
   "outputs": [],
   "source": [
    "plnr = itstgcn.planner.PLNR_GNAR_MANUAL(plans_gnar_block,loader5,dataset_name='windmiloutputmedium')\n",
    "plnr.simulate(mindex,mtype='block')"
   ]
  },
  {
   "cell_type": "code",
   "execution_count": null,
   "id": "7924e4eb-6593-42e5-b33d-41dd32f98e62",
   "metadata": {},
   "outputs": [],
   "source": [
    "plnr = itstgcn.planner.PLNR_GNAR_MANUAL(plans_gnar_block,loader6,dataset_name='windmiloutputsmall')\n",
    "plnr.simulate(mindex,mtype='block')"
   ]
  },
  {
   "cell_type": "code",
   "execution_count": 16,
   "id": "b823d29a-648d-4f28-8be1-7df8d7cb3a8b",
   "metadata": {},
   "outputs": [
    {
     "name": "stdout",
     "output_type": "stream",
     "text": [
      "WARNING: diagonal entries present in original matrix, these will be removed\n",
      "WARNING: diagonal entries present in original matrix, these will be removed\n",
      "WARNING: diagonal entries present in original matrix, these will be removed\n",
      "WARNING: diagonal entries present in original matrix, these will be removed\n",
      "WARNING: diagonal entries present in original matrix, these will be removed\n",
      "WARNING: diagonal entries present in original matrix, these will be removed\n",
      "1/3 is done\n",
      "WARNING: diagonal entries present in original matrix, these will be removed\n",
      "WARNING: diagonal entries present in original matrix, these will be removed\n",
      "WARNING: diagonal entries present in original matrix, these will be removed\n",
      "WARNING: diagonal entries present in original matrix, these will be removed\n",
      "WARNING: diagonal entries present in original matrix, these will be removed\n",
      "WARNING: diagonal entries present in original matrix, these will be removed\n",
      "2/3 is done\n",
      "WARNING: diagonal entries present in original matrix, these will be removed\n",
      "WARNING: diagonal entries present in original matrix, these will be removed\n",
      "WARNING: diagonal entries present in original matrix, these will be removed\n",
      "WARNING: diagonal entries present in original matrix, these will be removed\n",
      "WARNING: diagonal entries present in original matrix, these will be removed\n",
      "WARNING: diagonal entries present in original matrix, these will be removed\n",
      "3/3 is done\n",
      "All results are stored in ./simulation_results/2023-05-06_15-40-47.csv\n"
     ]
    }
   ],
   "source": [
    "plnr = itstgcn.planner.PLNR_GNAR_MANUAL(plans_gnar_block,loader10,dataset_name='monte')\n",
    "plnr.simulate(mindex,mtype='block')"
   ]
  },
  {
   "cell_type": "markdown",
   "id": "56c3c236-44cd-452e-acbe-ee35be7bdb09",
   "metadata": {},
   "source": []
  }
 ],
 "metadata": {
  "kernelspec": {
   "display_name": "Python 3 (ipykernel)",
   "language": "python",
   "name": "python3"
  },
  "language_info": {
   "codemirror_mode": {
    "name": "ipython",
    "version": 3
   },
   "file_extension": ".py",
   "mimetype": "text/x-python",
   "name": "python",
   "nbconvert_exporter": "python",
   "pygments_lexer": "ipython3",
   "version": "3.8.12"
  }
 },
 "nbformat": 4,
 "nbformat_minor": 5
}

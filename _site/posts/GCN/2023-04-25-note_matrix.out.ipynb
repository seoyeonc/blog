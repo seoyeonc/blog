{
  "cells": [
    {
      "cell_type": "markdown",
      "metadata": {},
      "source": [
        "# Note_weight amatrix\n",
        "\n",
        "GUEBIN CHOI  \n",
        "4/25/23\n",
        "\n",
        "> weight matrix"
      ],
      "id": "293d1795-236b-467a-941f-73d65f42ed70"
    },
    {
      "cell_type": "code",
      "execution_count": 41,
      "metadata": {},
      "outputs": [],
      "source": [
        "import numpy as np"
      ],
      "id": "674ea018-b567-4a7b-a8d0-31c3eb898db1"
    },
    {
      "cell_type": "markdown",
      "metadata": {},
      "source": [
        "`-` 하이퍼파라메터"
      ],
      "id": "e1d21660-0a24-4bb4-ad80-1b78419a9977"
    },
    {
      "cell_type": "code",
      "execution_count": 2,
      "metadata": {},
      "outputs": [],
      "source": [
        "T = 5 # time\n",
        "N = 3 # number of nodes "
      ],
      "id": "0174b10f-fc74-4635-a4e8-e458cd2ffa20"
    },
    {
      "cell_type": "markdown",
      "metadata": {},
      "source": [
        "`-` wt,ws,f"
      ],
      "id": "ea127e2b-b6b4-483c-b17d-fe396a71a583"
    },
    {
      "cell_type": "code",
      "execution_count": 3,
      "metadata": {},
      "outputs": [],
      "source": [
        "wt = np.array([abs(i-j) < 2 for i in range(T) for j in range(T)]).reshape(T,T)*1.0 - np.eye(T)\n",
        "wt"
      ],
      "id": "d5c8b082-11e4-4e1c-bc92-ed781b18bdd5"
    },
    {
      "cell_type": "code",
      "execution_count": 4,
      "metadata": {},
      "outputs": [],
      "source": [
        "ws = np.array([[0,1,1],[1,0,0],[1,0,0]]) + np.eye(N)\n",
        "ws"
      ],
      "id": "5b97e471-004d-4f4e-aaf9-adde2215e9ee"
    },
    {
      "cell_type": "code",
      "execution_count": 5,
      "metadata": {},
      "outputs": [],
      "source": [
        "f = np.random.randn(T,N)\n",
        "f"
      ],
      "id": "d67f8b32-12bf-49e4-a257-fd6ce706a101"
    },
    {
      "cell_type": "markdown",
      "metadata": {},
      "source": [
        "`-` f를 펼침"
      ],
      "id": "9c4a4f2a-e025-4267-a409-adc61622dd53"
    },
    {
      "cell_type": "code",
      "execution_count": 6,
      "metadata": {},
      "outputs": [],
      "source": [
        "f_flatten = f.reshape(-1,1)\n",
        "f_flatten"
      ],
      "id": "3c03c085-bf9e-4787-99b7-6f11e59864f0"
    },
    {
      "cell_type": "markdown",
      "metadata": {},
      "source": [
        "`-` 펼쳐진 f에 대응하는 W 생성"
      ],
      "id": "eef7d90b-68bf-46c4-b5a8-7b7c015107ba"
    },
    {
      "cell_type": "code",
      "execution_count": 7,
      "metadata": {},
      "outputs": [],
      "source": [
        "def flatten_weight(ws,wt):\n",
        "  N = len(ws)\n",
        "  T = len(wt)\n",
        "  Is = np.eye(N,N)\n",
        "  lst = [[0]*T for t in range(T)]\n",
        "  for i in range(T):\n",
        "    for j in range(T):\n",
        "      if i==j: \n",
        "        lst[i][j] = ws \n",
        "      elif abs(i-j)==1:\n",
        "        lst[i][j] = Is\n",
        "      else:\n",
        "        lst[i][j] = Is*0\n",
        "  return np.concatenate([np.concatenate(l,axis=1) for l in lst],axis=0)"
      ],
      "id": "8573c156-f3c0-4630-9f9f-88559f1b4434"
    },
    {
      "cell_type": "code",
      "execution_count": 8,
      "metadata": {},
      "outputs": [],
      "source": [
        "W_flatten = flatten_weight(ws,wt)\n",
        "W_flatten"
      ],
      "id": "58427e22-fc7b-4ca4-a374-7a1df64748af"
    },
    {
      "cell_type": "markdown",
      "metadata": {},
      "source": [
        "`-` trim\n",
        "\n",
        "``` python\n",
        "ftrimed_flatten = trim(f_flatten,W_flatten)\n",
        "```\n",
        "\n",
        "임의로 `ftrimed_flatten`이 `f_flatten`과 같다고 생각하자."
      ],
      "id": "3741dd2f-e835-4096-9d25-231fef8943ba"
    },
    {
      "cell_type": "code",
      "execution_count": 9,
      "metadata": {},
      "outputs": [],
      "source": [
        "ftrimed_flatten = f_flatten\n",
        "ftrimed_flatten"
      ],
      "id": "f4ad7d74-65c0-4219-9de6-c2febac7ec42"
    },
    {
      "cell_type": "markdown",
      "metadata": {},
      "source": [
        "`-` ftrimed"
      ],
      "id": "dd6763ab-9c6f-4da3-8dcc-a44b709142c9"
    },
    {
      "cell_type": "code",
      "execution_count": 10,
      "metadata": {},
      "outputs": [],
      "source": [
        "ftrimed = ftrimed_flatten.reshape(T,N) \n",
        "ftrimed"
      ],
      "id": "f7dfc07d-06bc-453a-a73b-382d1d9c04ea"
    },
    {
      "cell_type": "code",
      "execution_count": 11,
      "metadata": {},
      "outputs": [],
      "source": [
        "f # 와 비교.. 잘 reconstructiond 되어씀 "
      ],
      "id": "2560a91b-ae3b-4421-b9f7-928913241073"
    },
    {
      "cell_type": "markdown",
      "metadata": {},
      "source": [
        "------------------------------------------------------------------------\n",
        "\n",
        "## Chickenpox"
      ],
      "id": "889a44c9-cdf1-4c3b-afb6-60ea444edce7"
    },
    {
      "cell_type": "code",
      "execution_count": 12,
      "metadata": {},
      "outputs": [],
      "source": [
        "from torch_geometric_temporal.dataset import ChickenpoxDatasetLoader\n",
        "loader1 = ChickenpoxDatasetLoader()"
      ],
      "id": "b018cbb4-e674-4209-b3ef-fa1e8f84c6ad"
    },
    {
      "cell_type": "code",
      "execution_count": 13,
      "metadata": {},
      "outputs": [],
      "source": [
        "a = loader1.get_dataset(lags=1)"
      ],
      "id": "97cff898-18be-41f1-802f-22ddbc0778ae"
    },
    {
      "cell_type": "markdown",
      "metadata": {},
      "source": [
        "time,number of nodes"
      ],
      "id": "e6251d10-2633-4ac6-80f5-e0dd4d9ea4a3"
    },
    {
      "cell_type": "code",
      "execution_count": 14,
      "metadata": {},
      "outputs": [],
      "source": [
        "T,N,_ = np.array(a.features).shape"
      ],
      "id": "95190e48-ccf1-45a8-8923-97b828ce9fd5"
    },
    {
      "cell_type": "markdown",
      "metadata": {},
      "source": [
        "`-` wt,ws,f"
      ],
      "id": "a08581d0-53a0-4043-a348-30f9c04f248b"
    },
    {
      "cell_type": "code",
      "execution_count": 15,
      "metadata": {},
      "outputs": [],
      "source": [
        "wt = np.zeros((T,T))\n",
        "for i in range(T):\n",
        "    for j in range(T):\n",
        "        if i==j :\n",
        "            wt[i,j] = 0\n",
        "        elif np.abs(i-j) <= 1 : \n",
        "            wt[i,j] = 1"
      ],
      "id": "a84aa3af-c534-42bc-9828-2ce6369351b7"
    },
    {
      "cell_type": "code",
      "execution_count": 16,
      "metadata": {},
      "outputs": [],
      "source": [
        "mtr = a.edge_index\n",
        "mtr2 = a.edge_weight"
      ],
      "id": "a2618333-f666-4665-b85e-81f645fe04c7"
    },
    {
      "cell_type": "code",
      "execution_count": 17,
      "metadata": {},
      "outputs": [],
      "source": [
        "ws = np.zeros((N,N))\n",
        "for i in range(N):\n",
        "    for j in range(mtr2.shape[0]):\n",
        "        if mtr[0][j] == i :\n",
        "            ws[i,mtr[1][j]] = mtr2[j]"
      ],
      "id": "0e60d738-3ebb-4350-86db-4ad8ff28704e"
    },
    {
      "cell_type": "code",
      "execution_count": 18,
      "metadata": {},
      "outputs": [],
      "source": [
        "np.array(ws).shape"
      ],
      "id": "4fc650bd-2d1f-4582-9942-2de29c454f3b"
    },
    {
      "cell_type": "code",
      "execution_count": 19,
      "metadata": {},
      "outputs": [],
      "source": [
        "f = np.array(a.features).reshape(T,N)"
      ],
      "id": "3da3ea3a-d4da-45d5-a581-024f2cf200db"
    },
    {
      "cell_type": "markdown",
      "metadata": {},
      "source": [
        "`-` f를 펼침"
      ],
      "id": "3f820c8a-e626-446c-b576-3893f0f1320d"
    },
    {
      "cell_type": "code",
      "execution_count": 20,
      "metadata": {},
      "outputs": [],
      "source": [
        "f_flatten = f.reshape(-1,1)\n",
        "f_flatten"
      ],
      "id": "b0137541-1afc-4d21-a9c4-02cfa1c2825e"
    },
    {
      "cell_type": "markdown",
      "metadata": {},
      "source": [
        "`-` 펼쳐진 f에 대응하는 W 생성"
      ],
      "id": "db11f4d0-93be-4aae-9633-8bdd587d6207"
    },
    {
      "cell_type": "code",
      "execution_count": 21,
      "metadata": {},
      "outputs": [],
      "source": [
        "def flatten_weight(ws,wt):\n",
        "  N = len(ws)\n",
        "  T = len(wt)\n",
        "  Is = np.eye(N,N)\n",
        "  lst = [[0]*T for t in range(T)]\n",
        "  for i in range(T):\n",
        "    for j in range(T):\n",
        "      if i==j: \n",
        "        lst[i][j] = ws \n",
        "      elif abs(i-j)==1:\n",
        "        lst[i][j] = Is\n",
        "      else:\n",
        "        lst[i][j] = Is*0\n",
        "  return np.concatenate([np.concatenate(l,axis=1) for l in lst],axis=0)"
      ],
      "id": "3aa58799-1a31-4e3e-ba51-f7973946bfa1"
    },
    {
      "cell_type": "code",
      "execution_count": 22,
      "metadata": {},
      "outputs": [],
      "source": [
        "W_flatten = flatten_weight(ws,wt)\n",
        "W_flatten"
      ],
      "id": "047efe94-9d97-4120-8c50-772e10c48767"
    },
    {
      "cell_type": "code",
      "execution_count": 50,
      "metadata": {},
      "outputs": [],
      "source": [
        "np.save('./weight_st/W_chickenpox.npy', W_flatten)"
      ],
      "id": "983c6d65-cf6c-4c90-b0a3-82b93d061bb6"
    },
    {
      "cell_type": "code",
      "execution_count": 51,
      "metadata": {},
      "outputs": [],
      "source": [
        "np.load('./weight_st/W_chickenpox.npy')"
      ],
      "id": "53777fa0-d462-4985-8c6f-9368d7b870c4"
    },
    {
      "cell_type": "code",
      "execution_count": 23,
      "metadata": {},
      "outputs": [],
      "source": [
        "d = np.array(W_flatten.sum(axis=1))"
      ],
      "id": "56bbb58c-d060-4ab6-ac46-7c8373b6e2c4"
    },
    {
      "cell_type": "code",
      "execution_count": 24,
      "metadata": {},
      "outputs": [],
      "source": [
        "D = np.diag(d)"
      ],
      "id": "2ece20b4-0996-49a4-8cdc-f3b995a27150"
    },
    {
      "cell_type": "code",
      "execution_count": 25,
      "metadata": {},
      "outputs": [],
      "source": [
        "L = np.array(np.diag(1/np.sqrt(d)) @ (D-W_flatten) @ np.diag(1/np.sqrt(d)))"
      ],
      "id": "02087dd7-f35f-4fd3-a580-a33b60476b79"
    },
    {
      "cell_type": "code",
      "execution_count": 26,
      "metadata": {},
      "outputs": [],
      "source": [
        "lamb, Psi = np.linalg.eigh(L)"
      ],
      "id": "e33160fb-ebe8-42b0-a7de-193703bba037"
    },
    {
      "cell_type": "code",
      "execution_count": 29,
      "metadata": {},
      "outputs": [],
      "source": [
        "np.save('./weight_st/Psi_chickenpox.npy', Psi)"
      ],
      "id": "191f23b9-98d1-4a5d-bf4a-d928aaa6022f"
    },
    {
      "cell_type": "code",
      "execution_count": 30,
      "metadata": {},
      "outputs": [],
      "source": [
        "np.load('./weight_st/Psi_chickenpox.npy')"
      ],
      "id": "d66a1e63-d8aa-4b73-ba45-de4fc7334b9c"
    },
    {
      "cell_type": "markdown",
      "metadata": {},
      "source": [
        "`-` trim\n",
        "\n",
        "``` python\n",
        "ftrimed_flatten = trim(f_flatten,W_flatten)\n",
        "```\n",
        "\n",
        "------------------------------------------------------------------------\n",
        "\n",
        "## Pedalme"
      ],
      "id": "51cf175d-fc56-479d-8bba-9bdc4f73c24c"
    },
    {
      "cell_type": "code",
      "execution_count": 55,
      "metadata": {},
      "outputs": [],
      "source": [
        "from torch_geometric_temporal.dataset import PedalMeDatasetLoader\n",
        "loader2 = PedalMeDatasetLoader()"
      ],
      "id": "814b6787-19fc-4410-91e7-7031963eeb79"
    },
    {
      "cell_type": "code",
      "execution_count": 56,
      "metadata": {},
      "outputs": [],
      "source": [
        "a = loader2.get_dataset(lags=1)"
      ],
      "id": "2bf17232-0e96-4bf3-a1a5-4169c9d07c1f"
    },
    {
      "cell_type": "markdown",
      "metadata": {},
      "source": [
        "time,number of nodes"
      ],
      "id": "e2c3075e-49c4-47af-af77-8cc3308572b6"
    },
    {
      "cell_type": "code",
      "execution_count": 57,
      "metadata": {},
      "outputs": [],
      "source": [
        "T,N,_ = np.array(a.features).shape"
      ],
      "id": "57b5ce7c-fc76-435f-9a63-8f8092e17b95"
    },
    {
      "cell_type": "markdown",
      "metadata": {},
      "source": [
        "`-` wt,ws,f"
      ],
      "id": "d499dea6-af25-4870-86f1-c23c2ca9f490"
    },
    {
      "cell_type": "code",
      "execution_count": 58,
      "metadata": {},
      "outputs": [],
      "source": [
        "wt = np.zeros((T,T))\n",
        "for i in range(T):\n",
        "    for j in range(T):\n",
        "        if i==j :\n",
        "            wt[i,j] = 0\n",
        "        elif np.abs(i-j) <= 1 : \n",
        "            wt[i,j] = 1"
      ],
      "id": "43f23e95-db2f-48ec-aebd-8438017e02a2"
    },
    {
      "cell_type": "code",
      "execution_count": 59,
      "metadata": {},
      "outputs": [],
      "source": [
        "mtr = a.edge_index\n",
        "mtr2 = a.edge_weight"
      ],
      "id": "85a0c647-4a86-41c2-baee-29ffbd3a6b5f"
    },
    {
      "cell_type": "code",
      "execution_count": 60,
      "metadata": {},
      "outputs": [],
      "source": [
        "ws = np.zeros((N,N))\n",
        "for i in range(N):\n",
        "    for j in range(mtr2.shape[0]):\n",
        "        if mtr[0][j] == i :\n",
        "            ws[i,mtr[1][j]] = mtr2[j]"
      ],
      "id": "03f527ab-352c-4119-bd53-c91986643062"
    },
    {
      "cell_type": "code",
      "execution_count": 61,
      "metadata": {},
      "outputs": [],
      "source": [
        "np.array(wt).shape"
      ],
      "id": "68ad8d9d-0fa1-4ed3-b3a2-02fec2f9b065"
    },
    {
      "cell_type": "code",
      "execution_count": 62,
      "metadata": {},
      "outputs": [],
      "source": [
        "np.array(ws).shape"
      ],
      "id": "0def06e8-4fa4-4d17-8232-8c9f903dde60"
    },
    {
      "cell_type": "code",
      "execution_count": 63,
      "metadata": {},
      "outputs": [],
      "source": [
        "34*15"
      ],
      "id": "9667884d-5693-498b-8731-c8a574a0666f"
    },
    {
      "cell_type": "code",
      "execution_count": 64,
      "metadata": {},
      "outputs": [],
      "source": [
        "f = np.array(a.features).reshape(T,N)"
      ],
      "id": "300bde25-4288-4103-9e1c-05d2944a94e8"
    },
    {
      "cell_type": "markdown",
      "metadata": {},
      "source": [
        "`-` f를 펼침"
      ],
      "id": "8ec9e24e-3c7a-414d-9886-a8bf2c7188d7"
    },
    {
      "cell_type": "code",
      "execution_count": 65,
      "metadata": {},
      "outputs": [],
      "source": [
        "f_flatten = f.reshape(-1,1)\n",
        "# f_flatten"
      ],
      "id": "221abf5d-485f-4861-9197-103d92174ebf"
    },
    {
      "cell_type": "markdown",
      "metadata": {},
      "source": [
        "`-` 펼쳐진 f에 대응하는 W 생성"
      ],
      "id": "2916956b-0e97-4d17-8aca-f61d3b9130b0"
    },
    {
      "cell_type": "code",
      "execution_count": 66,
      "metadata": {},
      "outputs": [],
      "source": [
        "def flatten_weight(ws,wt):\n",
        "  N = len(ws)\n",
        "  T = len(wt)\n",
        "  Is = np.eye(N,N)\n",
        "  lst = [[0]*T for t in range(T)]\n",
        "  for i in range(T):\n",
        "    for j in range(T):\n",
        "      if i==j: \n",
        "        lst[i][j] = ws \n",
        "      elif abs(i-j)==1:\n",
        "        lst[i][j] = Is\n",
        "      else:\n",
        "        lst[i][j] = Is*0\n",
        "  return np.concatenate([np.concatenate(l,axis=1) for l in lst],axis=0)"
      ],
      "id": "fdb980ca-dc34-4cc1-aa1c-50652fb550a9"
    },
    {
      "cell_type": "code",
      "execution_count": 67,
      "metadata": {},
      "outputs": [],
      "source": [
        "W_flatten = flatten_weight(ws,wt)\n",
        "W_flatten"
      ],
      "id": "dd971f7f-571d-4956-9ad2-70027e5702a3"
    },
    {
      "cell_type": "markdown",
      "metadata": {},
      "source": [
        "`-` trim\n",
        "\n",
        "``` python\n",
        "ftrimed_flatten = trim(f_flatten,W_flatten)\n",
        "```"
      ],
      "id": "fbb485ed-e0de-49f6-aa3f-1b26eaf3427a"
    },
    {
      "cell_type": "code",
      "execution_count": 68,
      "metadata": {},
      "outputs": [],
      "source": [
        "np.save('./weight_st/W_pedalme.npy', W_flatten)"
      ],
      "id": "b1346836-e899-4c14-bc4e-75a8fd8bbbc7"
    },
    {
      "cell_type": "code",
      "execution_count": 54,
      "metadata": {},
      "outputs": [],
      "source": [
        "np.load('./weight_st/W_pedalme.npy')"
      ],
      "id": "a4bf1fcd-6447-4a7a-8d0f-79dc1ec71d13"
    },
    {
      "cell_type": "code",
      "execution_count": 68,
      "metadata": {},
      "outputs": [],
      "source": [
        "d = np.array(W_flatten.sum(axis=1))"
      ],
      "id": "4c1f3c7b-af99-472f-b781-27010502c6f2"
    },
    {
      "cell_type": "code",
      "execution_count": 69,
      "metadata": {},
      "outputs": [],
      "source": [
        "D = np.diag(d)"
      ],
      "id": "47b63287-4487-4fc4-8e45-ec95567e4fb8"
    },
    {
      "cell_type": "code",
      "execution_count": 70,
      "metadata": {},
      "outputs": [],
      "source": [
        "L = np.array(np.diag(1/np.sqrt(d)) @ (D-W_flatten) @ np.diag(1/np.sqrt(d)))"
      ],
      "id": "fad6e173-622d-4333-8b78-b3be8786f54e"
    },
    {
      "cell_type": "code",
      "execution_count": 71,
      "metadata": {},
      "outputs": [],
      "source": [
        "lamb, Psi = np.linalg.eigh(L)"
      ],
      "id": "ca3880b4-ff75-407c-aa5d-f54f68635ea6"
    },
    {
      "cell_type": "code",
      "execution_count": 73,
      "metadata": {},
      "outputs": [],
      "source": [
        "Psi.T.shape"
      ],
      "id": "4ab100fb-7644-4f63-b306-c060edae6cb3"
    },
    {
      "cell_type": "code",
      "execution_count": 74,
      "metadata": {},
      "outputs": [],
      "source": [
        "Psi.shape"
      ],
      "id": "555b55fd-1448-4889-a362-44b2ea688476"
    },
    {
      "cell_type": "code",
      "execution_count": 47,
      "metadata": {},
      "outputs": [],
      "source": [
        "np.save('./weight_st/Psi_pedalme.npy', Psi)"
      ],
      "id": "f1dde415-6182-4e11-9ca6-3dbdfd995763"
    },
    {
      "cell_type": "code",
      "execution_count": 48,
      "metadata": {},
      "outputs": [],
      "source": [
        "np.load('./weight_st/Psi_pedalme.npy')"
      ],
      "id": "3d3fca6e-870e-49ec-b08d-724307d11526"
    },
    {
      "cell_type": "markdown",
      "metadata": {},
      "source": [
        "------------------------------------------------------------------------\n",
        "\n",
        "## Wikimath"
      ],
      "id": "b40718fa-a9d4-4f1c-8234-517a0bfd3d5c"
    },
    {
      "cell_type": "code",
      "execution_count": 4,
      "metadata": {},
      "outputs": [],
      "source": [
        "from torch_geometric_temporal.dataset import WikiMathsDatasetLoader\n",
        "loader3 = WikiMathsDatasetLoader()"
      ],
      "id": "2f31edd6-67d9-455c-b57a-85a3b26105f5"
    },
    {
      "cell_type": "code",
      "execution_count": 5,
      "metadata": {},
      "outputs": [],
      "source": [
        "a = loader3.get_dataset(lags=1)"
      ],
      "id": "480f1081-d150-4139-b37c-d3cd5c4aa51b"
    },
    {
      "cell_type": "markdown",
      "metadata": {},
      "source": [
        "time,number of nodes"
      ],
      "id": "d8c154eb-ad76-4aa3-9515-f699e83a086a"
    },
    {
      "cell_type": "code",
      "execution_count": 6,
      "metadata": {},
      "outputs": [],
      "source": [
        "T,N,_ = np.array(a.features).shape"
      ],
      "id": "2fbcaa82-0b92-489e-8351-ce927e00c61e"
    },
    {
      "cell_type": "markdown",
      "metadata": {},
      "source": [
        "`-` wt,ws,f"
      ],
      "id": "7a3bce9e-3f90-4855-b124-57cd070dc92e"
    },
    {
      "cell_type": "code",
      "execution_count": 7,
      "metadata": {},
      "outputs": [],
      "source": [
        "wt = np.zeros((T,T))\n",
        "for i in range(T):\n",
        "    for j in range(T):\n",
        "        if i==j :\n",
        "            wt[i,j] = 0\n",
        "        elif np.abs(i-j) <= 1 : \n",
        "            wt[i,j] = 1"
      ],
      "id": "082ad86e-0649-44eb-93a0-f21ff271bf18"
    },
    {
      "cell_type": "code",
      "execution_count": 8,
      "metadata": {},
      "outputs": [],
      "source": [
        "mtr = a.edge_index\n",
        "mtr2 = a.edge_weight"
      ],
      "id": "2ad07420-a533-40c2-ba7e-ec8832fc23bf"
    },
    {
      "cell_type": "code",
      "execution_count": 9,
      "metadata": {},
      "outputs": [],
      "source": [
        "np.array(mtr).shape"
      ],
      "id": "35a4e017-c42a-4f10-ac58-a846e4cec723"
    },
    {
      "cell_type": "code",
      "execution_count": 10,
      "metadata": {},
      "outputs": [],
      "source": [
        "np.array(mtr2).shape"
      ],
      "id": "cc458b4b-7beb-43de-90e2-f6be12bdf75f"
    },
    {
      "cell_type": "code",
      "execution_count": 12,
      "metadata": {},
      "outputs": [],
      "source": [
        "mtr"
      ],
      "id": "88b9cb77-ce29-4831-bc99-6c83abe387db"
    },
    {
      "cell_type": "code",
      "execution_count": 40,
      "metadata": {},
      "outputs": [],
      "source": [
        "pd.DataFrame(mtr2).iloc[:,0].unique()"
      ],
      "id": "fed198f8-96c9-4335-8562-e3770467ef30"
    },
    {
      "cell_type": "code",
      "execution_count": 9,
      "metadata": {},
      "outputs": [],
      "source": [
        "ws = np.zeros((N,N))\n",
        "for i in range(N):\n",
        "    for j in range(mtr2.shape[0]):\n",
        "        if mtr[0][j] == i :\n",
        "            ws[i,mtr[1][j]] = mtr2[j]"
      ],
      "id": "5a91443c-4042-4fcc-b612-d6d9ad2d61df"
    },
    {
      "cell_type": "code",
      "execution_count": 10,
      "metadata": {},
      "outputs": [],
      "source": [
        "np.array(ws).shape"
      ],
      "id": "04655639-7be0-41bf-9d0d-f1bf5c4c3f87"
    },
    {
      "cell_type": "code",
      "execution_count": 11,
      "metadata": {},
      "outputs": [],
      "source": [
        "f = np.array(a.features).reshape(T,N)"
      ],
      "id": "a76390c4-3677-4783-be40-a140dd0adacf"
    },
    {
      "cell_type": "markdown",
      "metadata": {},
      "source": [
        "`-` f를 펼침"
      ],
      "id": "33562e8b-8ec7-4b3c-ba6a-461bca758e57"
    },
    {
      "cell_type": "code",
      "execution_count": 12,
      "metadata": {},
      "outputs": [],
      "source": [
        "f_flatten = f.reshape(-1,1)\n",
        "# f_flatten"
      ],
      "id": "9b7f94c4-26a3-4e93-bd1f-9b4101e0524e"
    },
    {
      "cell_type": "markdown",
      "metadata": {},
      "source": [
        "`-` 펼쳐진 f에 대응하는 W 생성"
      ],
      "id": "59f4109e-cf10-4ef2-a5d1-8402496fdb2d"
    },
    {
      "cell_type": "code",
      "execution_count": 13,
      "metadata": {},
      "outputs": [],
      "source": [
        "N = len(ws)\n",
        "T = len(wt)\n",
        "Is = np.eye(N,N)\n",
        "lst = [[0]*T for t in range(T)]"
      ],
      "id": "ce8db8a5-44d2-4927-8d21-d7a28555bbe0"
    },
    {
      "cell_type": "code",
      "execution_count": 13,
      "metadata": {},
      "outputs": [],
      "source": [
        "def flatten_weight(ws,wt):\n",
        "  N = len(ws)\n",
        "  T = len(wt)\n",
        "  Is = np.eye(N,N)\n",
        "  lst = [[0]*T for t in range(T)]\n",
        "  for i in range(T):\n",
        "    for j in range(T):\n",
        "      if i==j: \n",
        "        lst[i][j] = ws \n",
        "      elif abs(i-j)==1:\n",
        "        lst[i][j] = Is\n",
        "      else:\n",
        "        lst[i][j] = Is*0\n",
        "  return np.concatenate([np.concatenate(l,axis=1) for l in lst],axis=0)"
      ],
      "id": "feba362a-16cc-4949-8cb3-e0101756ca20"
    },
    {
      "cell_type": "code",
      "execution_count": null,
      "metadata": {},
      "outputs": [],
      "source": [
        "W_flatten = flatten_weight(ws,wt)\n",
        "W_flatten"
      ],
      "id": "d0c8e7df-dd81-4b2f-8000-12824691fa5f"
    },
    {
      "cell_type": "markdown",
      "metadata": {},
      "source": [
        "`-` trim\n",
        "\n",
        "``` python\n",
        "ftrimed_flatten = trim(f_flatten,W_flatten)\n",
        "```"
      ],
      "id": "4ab0c09e-5418-40df-92f8-d4aec68df0a9"
    },
    {
      "cell_type": "code",
      "execution_count": null,
      "metadata": {},
      "outputs": [],
      "source": [
        "np.save('./weight_st/W_wikimath.npy', W_flatten)"
      ],
      "id": "cb9c6788-e1b9-44fc-af2d-4c5d0886add3"
    },
    {
      "cell_type": "code",
      "execution_count": null,
      "metadata": {},
      "outputs": [],
      "source": [
        "np.load('./weight_st/W_wikimath.npy')"
      ],
      "id": "2e42b29d-bfba-4ec1-ae9b-3f2acd2b443d"
    },
    {
      "cell_type": "markdown",
      "metadata": {},
      "source": [
        "------------------------------------------------------------------------\n",
        "\n",
        "## Windmillsmall"
      ],
      "id": "d2a269d8-2b7b-4120-b78d-cc13b9821c97"
    },
    {
      "cell_type": "code",
      "execution_count": 12,
      "metadata": {},
      "outputs": [],
      "source": [
        "from torch_geometric_temporal.dataset import WindmillOutputSmallDatasetLoader\n",
        "loader6 = WindmillOutputSmallDatasetLoader()"
      ],
      "id": "dbd91a87-1b0a-425e-afe7-500d6d508d78"
    },
    {
      "cell_type": "code",
      "execution_count": 13,
      "metadata": {},
      "outputs": [],
      "source": [
        "a = loader6.get_dataset(lags=1)"
      ],
      "id": "e3f5ffdd-5698-4746-afa2-7fe2258651fc"
    },
    {
      "cell_type": "markdown",
      "metadata": {},
      "source": [
        "time,number of nodes"
      ],
      "id": "309c5ded-b35e-4cd2-9f36-0b2b17661c3a"
    },
    {
      "cell_type": "code",
      "execution_count": 14,
      "metadata": {},
      "outputs": [],
      "source": [
        "T,N,_ = np.array(a.features).shape"
      ],
      "id": "b51ee6fd-425e-4073-8777-4567bddacfc0"
    },
    {
      "cell_type": "markdown",
      "metadata": {},
      "source": [
        "`-` wt,ws,f"
      ],
      "id": "bde2f970-1d84-4772-bf6c-9e109dc5d7a3"
    },
    {
      "cell_type": "code",
      "execution_count": 15,
      "metadata": {},
      "outputs": [],
      "source": [
        "wt = np.zeros((T,T))\n",
        "for i in range(T):\n",
        "    for j in range(T):\n",
        "        if i==j :\n",
        "            wt[i,j] = 0\n",
        "        elif np.abs(i-j) <= 1 : \n",
        "            wt[i,j] = 1"
      ],
      "id": "9307cfa8-a19b-436b-b350-92488a722809"
    },
    {
      "cell_type": "code",
      "execution_count": 16,
      "metadata": {},
      "outputs": [],
      "source": [
        "mtr = a.edge_index\n",
        "mtr2 = a.edge_weight"
      ],
      "id": "73ba2ed0-2ad1-44ff-9fb1-a788966954a2"
    },
    {
      "cell_type": "code",
      "execution_count": 17,
      "metadata": {},
      "outputs": [],
      "source": [
        "ws = np.zeros((N,N))\n",
        "for i in range(N):\n",
        "    for j in range(mtr2.shape[0]):\n",
        "        if mtr[0][j] == i :\n",
        "            ws[i,mtr[1][j]] = mtr2[j]"
      ],
      "id": "474c1434-7520-4d8e-a5d9-e23cf3f38a2d"
    },
    {
      "cell_type": "code",
      "execution_count": 18,
      "metadata": {},
      "outputs": [],
      "source": [
        "np.array(ws).shape"
      ],
      "id": "636785c1-80aa-4759-8f25-26e3028ac788"
    },
    {
      "cell_type": "code",
      "execution_count": 19,
      "metadata": {},
      "outputs": [],
      "source": [
        "f = np.array(a.features).reshape(T,N)"
      ],
      "id": "c19be875-97f8-4fac-90e7-7d50cad9dad2"
    },
    {
      "cell_type": "markdown",
      "metadata": {},
      "source": [
        "`-` f를 펼침"
      ],
      "id": "caed57f8-1b99-4358-ab55-0df1744f751a"
    },
    {
      "cell_type": "code",
      "execution_count": 20,
      "metadata": {},
      "outputs": [],
      "source": [
        "f_flatten = f.reshape(-1,1)\n",
        "# f_flatten"
      ],
      "id": "60c36091-0a39-4225-9398-fe125168eee0"
    },
    {
      "cell_type": "markdown",
      "metadata": {},
      "source": [
        "`-` 펼쳐진 f에 대응하는 W 생성"
      ],
      "id": "7223e87f-3112-41d3-a022-e8d5373547eb"
    },
    {
      "cell_type": "code",
      "execution_count": 21,
      "metadata": {},
      "outputs": [],
      "source": [
        "def flatten_weight(ws,wt):\n",
        "  N = len(ws)\n",
        "  T = len(wt)\n",
        "  Is = np.eye(N,N)\n",
        "  lst = [[0]*T for t in range(T)]\n",
        "  for i in range(T):\n",
        "    for j in range(T):\n",
        "      if i==j: \n",
        "        lst[i][j] = ws \n",
        "      elif abs(i-j)==1:\n",
        "        lst[i][j] = Is\n",
        "      else:\n",
        "        lst[i][j] = Is*0\n",
        "  return np.concatenate([np.concatenate(l,axis=1) for l in lst],axis=0)"
      ],
      "id": "ff7d1a38-d1f7-4160-b12e-0191443e61f4"
    },
    {
      "cell_type": "code",
      "execution_count": null,
      "metadata": {},
      "outputs": [],
      "source": [
        "W_flatten = flatten_weight(ws,wt)\n",
        "W_flatten"
      ],
      "id": "1d931a4e-87f6-48a8-99c1-ba586f542449"
    },
    {
      "cell_type": "markdown",
      "metadata": {},
      "source": [
        "`-` trim\n",
        "\n",
        "``` python\n",
        "ftrimed_flatten = trim(f_flatten,W_flatten)\n",
        "```"
      ],
      "id": "b62de41a-201a-4fe3-ac42-bf63c4d50063"
    },
    {
      "cell_type": "code",
      "execution_count": null,
      "metadata": {},
      "outputs": [],
      "source": [
        "np.save('./weight_st/W_windmillsmall.npy', W_flatten)"
      ],
      "id": "8b131054-5499-499c-9af4-ea081921fb2c"
    },
    {
      "cell_type": "code",
      "execution_count": null,
      "metadata": {},
      "outputs": [],
      "source": [
        "np.load('./weight_st/W_windmillsmall.npy')"
      ],
      "id": "7455351c-2a61-4c73-8afa-1aedf1c94ff5"
    }
  ],
  "nbformat": 4,
  "nbformat_minor": 5,
  "metadata": {
    "kernelspec": {
      "name": "python3",
      "display_name": "Python 3",
      "language": "python"
    },
    "language_info": {
      "name": "python",
      "codemirror_mode": {
        "name": "ipython",
        "version": "3"
      },
      "file_extension": ".py",
      "mimetype": "text/x-python",
      "nbconvert_exporter": "python",
      "pygments_lexer": "ipython3",
      "version": "3.8.0"
    }
  }
}
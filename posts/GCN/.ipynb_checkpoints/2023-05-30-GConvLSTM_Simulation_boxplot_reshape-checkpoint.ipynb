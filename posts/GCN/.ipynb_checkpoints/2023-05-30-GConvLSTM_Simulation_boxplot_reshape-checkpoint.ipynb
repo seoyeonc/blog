{
 "cells": [
  {
   "cell_type": "raw",
   "id": "067f09c3-5933-470c-8ebe-9d71ce8ca7e8",
   "metadata": {
    "id": "cac470df-29e7-4148-9bbd-d8b9a32fa570",
    "tags": []
   },
   "source": [
    "---\n",
    "title: \"GConvLSTM_Simulation_reshape\"\n",
    "author: \"SEOYEON CHOI\"\n",
    "date: \"2023-05-30\"\n",
    "categories:\n",
    "  - ITSTGCN\n",
    "---"
   ]
  },
  {
   "cell_type": "markdown",
   "id": "4115bb33-2ef5-4291-8c52-8fdb696fdfca",
   "metadata": {
    "tags": []
   },
   "source": [
    "> Simulation Study"
   ]
  },
  {
   "cell_type": "markdown",
   "id": "b92006c7-9a60-46f8-b641-11c92133d7c4",
   "metadata": {},
   "source": [
    "# Import"
   ]
  },
  {
   "cell_type": "code",
   "execution_count": 3,
   "id": "97cfaa6d-11ad-460b-874c-01c8e2c14e70",
   "metadata": {},
   "outputs": [],
   "source": [
    "import matplotlib.pyplot as plt\n",
    "import pandas as pd\n",
    "import numpy as np"
   ]
  },
  {
   "cell_type": "markdown",
   "id": "1460df2f-e24d-44b3-876a-27140dc8d810",
   "metadata": {},
   "source": [
    "# Fivenodes"
   ]
  },
  {
   "cell_type": "code",
   "execution_count": null,
   "id": "d75c959a-d268-4716-924e-f592b8e53560",
   "metadata": {},
   "outputs": [],
   "source": [
    "# df5 = pd.read_csv('./simulation_results/2023-06-04_13-29-16.csv')\n",
    "# df6 = pd.read_csv('./simulation_results/2023-06-04_13-39-55.csv')\n",
    "# df7 = pd.read_csv('./simulation_results/2023-06-04_13-50-24.csv')\n",
    "# k=1"
   ]
  },
  {
   "cell_type": "code",
   "execution_count": 31,
   "id": "58a7de0e-0147-4be6-ae52-f391e068d404",
   "metadata": {},
   "outputs": [],
   "source": [
    "df1 = pd.read_csv('./simulation_results/2023-06-07_08-10-42.csv')\n",
    "df2 = pd.read_csv('./simulation_results/2023-06-07_09-14-08.csv')\n",
    "df3 = pd.read_csv('./simulation_results/2023-06-07_10-17-23.csv')\n",
    "df4 = pd.read_csv('./simulation_results/2023-06-07_11-20-35.csv')\n",
    "df5 = pd.read_csv('./simulation_results/2023-06-07_12-23-45.csv')\n",
    "df6 = pd.read_csv('./simulation_results/2023-06-07_13-15-54.csv')\n",
    "df7 = pd.read_csv('./simulation_results/2023-06-07_15-43-28.csv')\n",
    "df8 = pd.read_csv('./simulation_results/2023-06-07_18-38-43.csv')"
   ]
  },
  {
   "cell_type": "code",
   "execution_count": 32,
   "id": "243c8ac3-63ef-463b-920c-732bcea5b27d",
   "metadata": {},
   "outputs": [],
   "source": [
    "data = pd.concat([df1,df2,df3,df4,df5,df6,df7,df8],axis=0)"
   ]
  },
  {
   "cell_type": "code",
   "execution_count": 33,
   "id": "6531c324-827c-4f7f-aef7-90da0b1f2c23",
   "metadata": {},
   "outputs": [],
   "source": [
    "data.to_csv('./simulation_results/Real_simulation_reshape/GConvLSTM_fivedones_Simulation.csv',index=False)"
   ]
  },
  {
   "cell_type": "code",
   "execution_count": 34,
   "id": "2029a91d-4dc4-4eb2-8f9d-63d4727f4c94",
   "metadata": {},
   "outputs": [],
   "source": [
    "data = pd.read_csv('./simulation_results/Real_simulation_reshape/GConvLSTM_fivedones_Simulation.csv')"
   ]
  },
  {
   "cell_type": "markdown",
   "id": "9fbc1a8b-e19b-4c83-a1ad-caaff18d47ce",
   "metadata": {},
   "source": [
    "## Baseline"
   ]
  },
  {
   "cell_type": "code",
   "execution_count": 35,
   "id": "d44828cd-d371-4375-9654-9c8557626266",
   "metadata": {
    "tags": []
   },
   "outputs": [
    {
     "data": {
      "application/vnd.plotly.v1+json": {
       "config": {
        "plotlyServerURL": "https://plot.ly"
       },
       "data": [
        {
         "alignmentgroup": "True",
         "hovertemplate": "method=STGCN<br>nof_filters=12<br>lags=2<br>mrate=%{x}<br>mse=%{y}<extra></extra>",
         "legendgroup": "STGCN",
         "marker": {
          "color": "#636efa"
         },
         "name": "STGCN",
         "notched": false,
         "offsetgroup": "STGCN",
         "orientation": "v",
         "showlegend": true,
         "type": "box",
         "x": [
          0,
          0,
          0,
          0,
          0,
          0,
          0,
          0,
          0,
          0,
          0,
          0,
          0,
          0,
          0,
          0,
          0,
          0,
          0,
          0,
          0,
          0,
          0,
          0,
          0,
          0,
          0,
          0,
          0,
          0,
          0,
          0,
          0,
          0,
          0,
          0,
          0,
          0,
          0,
          0,
          0,
          0,
          0,
          0,
          0,
          0,
          0,
          0,
          0,
          0,
          0,
          0,
          0,
          0,
          0,
          0,
          0,
          0,
          0,
          0
         ],
         "x0": " ",
         "xaxis": "x",
         "y": [
          1.186692476272583,
          1.1020724773406982,
          1.1289823055267334,
          1.0983078479766846,
          1.101925492286682,
          1.1571537256240845,
          1.1739656925201416,
          1.1210007667541504,
          1.097760796546936,
          1.0801048278808594,
          1.1458860635757446,
          1.1117384433746338,
          1.1218905448913574,
          1.1782641410827637,
          1.1019498109817505,
          1.1822171211242676,
          1.1116348505020142,
          1.1053928136825562,
          1.130889892578125,
          1.1170647144317627,
          1.1745678186416626,
          1.1628503799438477,
          1.1489349603652954,
          1.1643221378326416,
          1.12031888961792,
          1.2122844457626345,
          1.19257915019989,
          1.1266872882843018,
          1.1354485750198364,
          1.0702162981033323,
          1.148460030555725,
          1.2604860067367554,
          1.1027878522872925,
          1.1308140754699707,
          1.0725477933883667,
          1.2334771156311035,
          1.061928391456604,
          1.0753545761108398,
          1.0948426723480225,
          1.1304625272750854,
          1.1387063264846802,
          1.1142208576202393,
          1.2394720315933228,
          1.1248520612716677,
          1.116641402244568,
          1.101080298423767,
          1.1650279760360718,
          1.071424961090088,
          1.0903278589248655,
          1.0939704179763794,
          1.163598895072937,
          1.1651774644851685,
          1.213795185089111,
          1.2639787197113037,
          1.130020022392273,
          1.1225134134292605,
          1.0979886054992676,
          1.1825854778289795,
          1.1044321060180664,
          1.1446934938430786
         ],
         "y0": " ",
         "yaxis": "y"
        },
        {
         "alignmentgroup": "True",
         "hovertemplate": "method=IT-STGCN<br>nof_filters=12<br>lags=2<br>mrate=%{x}<br>mse=%{y}<extra></extra>",
         "legendgroup": "IT-STGCN",
         "marker": {
          "color": "#EF553B"
         },
         "name": "IT-STGCN",
         "notched": false,
         "offsetgroup": "IT-STGCN",
         "orientation": "v",
         "showlegend": true,
         "type": "box",
         "x": [
          0,
          0,
          0,
          0,
          0,
          0,
          0,
          0,
          0,
          0,
          0,
          0,
          0,
          0,
          0,
          0,
          0,
          0,
          0,
          0,
          0,
          0,
          0,
          0,
          0,
          0,
          0,
          0,
          0,
          0,
          0,
          0,
          0,
          0,
          0,
          0,
          0,
          0,
          0,
          0,
          0,
          0,
          0,
          0,
          0,
          0,
          0,
          0,
          0,
          0,
          0,
          0,
          0,
          0,
          0,
          0,
          0,
          0,
          0,
          0
         ],
         "x0": " ",
         "xaxis": "x",
         "y": [
          1.1333671808242798,
          1.1716729402542114,
          1.1012054681777954,
          1.1365896463394165,
          1.17912495136261,
          1.0957326889038086,
          1.108482837677002,
          1.1126388311386108,
          1.1978765726089478,
          1.1124595403671265,
          1.083253264427185,
          1.2111482620239258,
          1.158159613609314,
          1.161616325378418,
          1.0906367301940918,
          1.151248335838318,
          1.0929276943206787,
          1.0836567878723145,
          1.163156270980835,
          1.1280977725982666,
          1.1209406852722168,
          1.1272830963134766,
          1.098283052444458,
          1.0709271430969238,
          1.1173932552337646,
          1.1372264623641968,
          1.1004267930984497,
          1.105725884437561,
          1.1104816198349,
          1.1007810831069946,
          1.141340732574463,
          1.218189358711243,
          1.1154465675354004,
          1.132720112800598,
          1.1009420156478882,
          1.1413817405700684,
          1.0991835594177246,
          1.1107643842697144,
          1.0681205987930298,
          1.1350544691085815,
          1.1408658027648926,
          1.0972903966903689,
          1.1020965576171875,
          1.1472103595733645,
          1.0780630111694336,
          1.0905582904815674,
          1.1259266138076782,
          1.1378730535507202,
          1.139386534690857,
          1.082656741142273,
          1.1632707118988037,
          1.1335378885269165,
          1.1967735290527344,
          1.1490240097045898,
          1.125135898590088,
          1.122612714767456,
          1.1189392805099487,
          1.1340205669403076,
          1.1612569093704224,
          1.0836336612701416
         ],
         "y0": " ",
         "yaxis": "y"
        }
       ],
       "layout": {
        "annotations": [
         {
          "font": {},
          "showarrow": false,
          "text": "lags=2",
          "x": 0.49,
          "xanchor": "center",
          "xref": "paper",
          "y": 1,
          "yanchor": "bottom",
          "yref": "paper"
         },
         {
          "font": {},
          "showarrow": false,
          "text": "nof_filters=12",
          "textangle": 90,
          "x": 0.98,
          "xanchor": "left",
          "xref": "paper",
          "y": 0.5,
          "yanchor": "middle",
          "yref": "paper"
         }
        ],
        "autosize": true,
        "boxmode": "group",
        "legend": {
         "title": {
          "text": "method"
         },
         "tracegroupgap": 0
        },
        "margin": {
         "t": 60
        },
        "template": {
         "data": {
          "bar": [
           {
            "error_x": {
             "color": "#2a3f5f"
            },
            "error_y": {
             "color": "#2a3f5f"
            },
            "marker": {
             "line": {
              "color": "#E5ECF6",
              "width": 0.5
             },
             "pattern": {
              "fillmode": "overlay",
              "size": 10,
              "solidity": 0.2
             }
            },
            "type": "bar"
           }
          ],
          "barpolar": [
           {
            "marker": {
             "line": {
              "color": "#E5ECF6",
              "width": 0.5
             },
             "pattern": {
              "fillmode": "overlay",
              "size": 10,
              "solidity": 0.2
             }
            },
            "type": "barpolar"
           }
          ],
          "carpet": [
           {
            "aaxis": {
             "endlinecolor": "#2a3f5f",
             "gridcolor": "white",
             "linecolor": "white",
             "minorgridcolor": "white",
             "startlinecolor": "#2a3f5f"
            },
            "baxis": {
             "endlinecolor": "#2a3f5f",
             "gridcolor": "white",
             "linecolor": "white",
             "minorgridcolor": "white",
             "startlinecolor": "#2a3f5f"
            },
            "type": "carpet"
           }
          ],
          "choropleth": [
           {
            "colorbar": {
             "outlinewidth": 0,
             "ticks": ""
            },
            "type": "choropleth"
           }
          ],
          "contour": [
           {
            "colorbar": {
             "outlinewidth": 0,
             "ticks": ""
            },
            "colorscale": [
             [
              0,
              "#0d0887"
             ],
             [
              0.1111111111111111,
              "#46039f"
             ],
             [
              0.2222222222222222,
              "#7201a8"
             ],
             [
              0.3333333333333333,
              "#9c179e"
             ],
             [
              0.4444444444444444,
              "#bd3786"
             ],
             [
              0.5555555555555556,
              "#d8576b"
             ],
             [
              0.6666666666666666,
              "#ed7953"
             ],
             [
              0.7777777777777778,
              "#fb9f3a"
             ],
             [
              0.8888888888888888,
              "#fdca26"
             ],
             [
              1,
              "#f0f921"
             ]
            ],
            "type": "contour"
           }
          ],
          "contourcarpet": [
           {
            "colorbar": {
             "outlinewidth": 0,
             "ticks": ""
            },
            "type": "contourcarpet"
           }
          ],
          "heatmap": [
           {
            "colorbar": {
             "outlinewidth": 0,
             "ticks": ""
            },
            "colorscale": [
             [
              0,
              "#0d0887"
             ],
             [
              0.1111111111111111,
              "#46039f"
             ],
             [
              0.2222222222222222,
              "#7201a8"
             ],
             [
              0.3333333333333333,
              "#9c179e"
             ],
             [
              0.4444444444444444,
              "#bd3786"
             ],
             [
              0.5555555555555556,
              "#d8576b"
             ],
             [
              0.6666666666666666,
              "#ed7953"
             ],
             [
              0.7777777777777778,
              "#fb9f3a"
             ],
             [
              0.8888888888888888,
              "#fdca26"
             ],
             [
              1,
              "#f0f921"
             ]
            ],
            "type": "heatmap"
           }
          ],
          "heatmapgl": [
           {
            "colorbar": {
             "outlinewidth": 0,
             "ticks": ""
            },
            "colorscale": [
             [
              0,
              "#0d0887"
             ],
             [
              0.1111111111111111,
              "#46039f"
             ],
             [
              0.2222222222222222,
              "#7201a8"
             ],
             [
              0.3333333333333333,
              "#9c179e"
             ],
             [
              0.4444444444444444,
              "#bd3786"
             ],
             [
              0.5555555555555556,
              "#d8576b"
             ],
             [
              0.6666666666666666,
              "#ed7953"
             ],
             [
              0.7777777777777778,
              "#fb9f3a"
             ],
             [
              0.8888888888888888,
              "#fdca26"
             ],
             [
              1,
              "#f0f921"
             ]
            ],
            "type": "heatmapgl"
           }
          ],
          "histogram": [
           {
            "marker": {
             "pattern": {
              "fillmode": "overlay",
              "size": 10,
              "solidity": 0.2
             }
            },
            "type": "histogram"
           }
          ],
          "histogram2d": [
           {
            "colorbar": {
             "outlinewidth": 0,
             "ticks": ""
            },
            "colorscale": [
             [
              0,
              "#0d0887"
             ],
             [
              0.1111111111111111,
              "#46039f"
             ],
             [
              0.2222222222222222,
              "#7201a8"
             ],
             [
              0.3333333333333333,
              "#9c179e"
             ],
             [
              0.4444444444444444,
              "#bd3786"
             ],
             [
              0.5555555555555556,
              "#d8576b"
             ],
             [
              0.6666666666666666,
              "#ed7953"
             ],
             [
              0.7777777777777778,
              "#fb9f3a"
             ],
             [
              0.8888888888888888,
              "#fdca26"
             ],
             [
              1,
              "#f0f921"
             ]
            ],
            "type": "histogram2d"
           }
          ],
          "histogram2dcontour": [
           {
            "colorbar": {
             "outlinewidth": 0,
             "ticks": ""
            },
            "colorscale": [
             [
              0,
              "#0d0887"
             ],
             [
              0.1111111111111111,
              "#46039f"
             ],
             [
              0.2222222222222222,
              "#7201a8"
             ],
             [
              0.3333333333333333,
              "#9c179e"
             ],
             [
              0.4444444444444444,
              "#bd3786"
             ],
             [
              0.5555555555555556,
              "#d8576b"
             ],
             [
              0.6666666666666666,
              "#ed7953"
             ],
             [
              0.7777777777777778,
              "#fb9f3a"
             ],
             [
              0.8888888888888888,
              "#fdca26"
             ],
             [
              1,
              "#f0f921"
             ]
            ],
            "type": "histogram2dcontour"
           }
          ],
          "mesh3d": [
           {
            "colorbar": {
             "outlinewidth": 0,
             "ticks": ""
            },
            "type": "mesh3d"
           }
          ],
          "parcoords": [
           {
            "line": {
             "colorbar": {
              "outlinewidth": 0,
              "ticks": ""
             }
            },
            "type": "parcoords"
           }
          ],
          "pie": [
           {
            "automargin": true,
            "type": "pie"
           }
          ],
          "scatter": [
           {
            "fillpattern": {
             "fillmode": "overlay",
             "size": 10,
             "solidity": 0.2
            },
            "type": "scatter"
           }
          ],
          "scatter3d": [
           {
            "line": {
             "colorbar": {
              "outlinewidth": 0,
              "ticks": ""
             }
            },
            "marker": {
             "colorbar": {
              "outlinewidth": 0,
              "ticks": ""
             }
            },
            "type": "scatter3d"
           }
          ],
          "scattercarpet": [
           {
            "marker": {
             "colorbar": {
              "outlinewidth": 0,
              "ticks": ""
             }
            },
            "type": "scattercarpet"
           }
          ],
          "scattergeo": [
           {
            "marker": {
             "colorbar": {
              "outlinewidth": 0,
              "ticks": ""
             }
            },
            "type": "scattergeo"
           }
          ],
          "scattergl": [
           {
            "marker": {
             "colorbar": {
              "outlinewidth": 0,
              "ticks": ""
             }
            },
            "type": "scattergl"
           }
          ],
          "scattermapbox": [
           {
            "marker": {
             "colorbar": {
              "outlinewidth": 0,
              "ticks": ""
             }
            },
            "type": "scattermapbox"
           }
          ],
          "scatterpolar": [
           {
            "marker": {
             "colorbar": {
              "outlinewidth": 0,
              "ticks": ""
             }
            },
            "type": "scatterpolar"
           }
          ],
          "scatterpolargl": [
           {
            "marker": {
             "colorbar": {
              "outlinewidth": 0,
              "ticks": ""
             }
            },
            "type": "scatterpolargl"
           }
          ],
          "scatterternary": [
           {
            "marker": {
             "colorbar": {
              "outlinewidth": 0,
              "ticks": ""
             }
            },
            "type": "scatterternary"
           }
          ],
          "surface": [
           {
            "colorbar": {
             "outlinewidth": 0,
             "ticks": ""
            },
            "colorscale": [
             [
              0,
              "#0d0887"
             ],
             [
              0.1111111111111111,
              "#46039f"
             ],
             [
              0.2222222222222222,
              "#7201a8"
             ],
             [
              0.3333333333333333,
              "#9c179e"
             ],
             [
              0.4444444444444444,
              "#bd3786"
             ],
             [
              0.5555555555555556,
              "#d8576b"
             ],
             [
              0.6666666666666666,
              "#ed7953"
             ],
             [
              0.7777777777777778,
              "#fb9f3a"
             ],
             [
              0.8888888888888888,
              "#fdca26"
             ],
             [
              1,
              "#f0f921"
             ]
            ],
            "type": "surface"
           }
          ],
          "table": [
           {
            "cells": {
             "fill": {
              "color": "#EBF0F8"
             },
             "line": {
              "color": "white"
             }
            },
            "header": {
             "fill": {
              "color": "#C8D4E3"
             },
             "line": {
              "color": "white"
             }
            },
            "type": "table"
           }
          ]
         },
         "layout": {
          "annotationdefaults": {
           "arrowcolor": "#2a3f5f",
           "arrowhead": 0,
           "arrowwidth": 1
          },
          "autotypenumbers": "strict",
          "coloraxis": {
           "colorbar": {
            "outlinewidth": 0,
            "ticks": ""
           }
          },
          "colorscale": {
           "diverging": [
            [
             0,
             "#8e0152"
            ],
            [
             0.1,
             "#c51b7d"
            ],
            [
             0.2,
             "#de77ae"
            ],
            [
             0.3,
             "#f1b6da"
            ],
            [
             0.4,
             "#fde0ef"
            ],
            [
             0.5,
             "#f7f7f7"
            ],
            [
             0.6,
             "#e6f5d0"
            ],
            [
             0.7,
             "#b8e186"
            ],
            [
             0.8,
             "#7fbc41"
            ],
            [
             0.9,
             "#4d9221"
            ],
            [
             1,
             "#276419"
            ]
           ],
           "sequential": [
            [
             0,
             "#0d0887"
            ],
            [
             0.1111111111111111,
             "#46039f"
            ],
            [
             0.2222222222222222,
             "#7201a8"
            ],
            [
             0.3333333333333333,
             "#9c179e"
            ],
            [
             0.4444444444444444,
             "#bd3786"
            ],
            [
             0.5555555555555556,
             "#d8576b"
            ],
            [
             0.6666666666666666,
             "#ed7953"
            ],
            [
             0.7777777777777778,
             "#fb9f3a"
            ],
            [
             0.8888888888888888,
             "#fdca26"
            ],
            [
             1,
             "#f0f921"
            ]
           ],
           "sequentialminus": [
            [
             0,
             "#0d0887"
            ],
            [
             0.1111111111111111,
             "#46039f"
            ],
            [
             0.2222222222222222,
             "#7201a8"
            ],
            [
             0.3333333333333333,
             "#9c179e"
            ],
            [
             0.4444444444444444,
             "#bd3786"
            ],
            [
             0.5555555555555556,
             "#d8576b"
            ],
            [
             0.6666666666666666,
             "#ed7953"
            ],
            [
             0.7777777777777778,
             "#fb9f3a"
            ],
            [
             0.8888888888888888,
             "#fdca26"
            ],
            [
             1,
             "#f0f921"
            ]
           ]
          },
          "colorway": [
           "#636efa",
           "#EF553B",
           "#00cc96",
           "#ab63fa",
           "#FFA15A",
           "#19d3f3",
           "#FF6692",
           "#B6E880",
           "#FF97FF",
           "#FECB52"
          ],
          "font": {
           "color": "#2a3f5f"
          },
          "geo": {
           "bgcolor": "white",
           "lakecolor": "white",
           "landcolor": "#E5ECF6",
           "showlakes": true,
           "showland": true,
           "subunitcolor": "white"
          },
          "hoverlabel": {
           "align": "left"
          },
          "hovermode": "closest",
          "mapbox": {
           "style": "light"
          },
          "paper_bgcolor": "white",
          "plot_bgcolor": "#E5ECF6",
          "polar": {
           "angularaxis": {
            "gridcolor": "white",
            "linecolor": "white",
            "ticks": ""
           },
           "bgcolor": "#E5ECF6",
           "radialaxis": {
            "gridcolor": "white",
            "linecolor": "white",
            "ticks": ""
           }
          },
          "scene": {
           "xaxis": {
            "backgroundcolor": "#E5ECF6",
            "gridcolor": "white",
            "gridwidth": 2,
            "linecolor": "white",
            "showbackground": true,
            "ticks": "",
            "zerolinecolor": "white"
           },
           "yaxis": {
            "backgroundcolor": "#E5ECF6",
            "gridcolor": "white",
            "gridwidth": 2,
            "linecolor": "white",
            "showbackground": true,
            "ticks": "",
            "zerolinecolor": "white"
           },
           "zaxis": {
            "backgroundcolor": "#E5ECF6",
            "gridcolor": "white",
            "gridwidth": 2,
            "linecolor": "white",
            "showbackground": true,
            "ticks": "",
            "zerolinecolor": "white"
           }
          },
          "shapedefaults": {
           "line": {
            "color": "#2a3f5f"
           }
          },
          "ternary": {
           "aaxis": {
            "gridcolor": "white",
            "linecolor": "white",
            "ticks": ""
           },
           "baxis": {
            "gridcolor": "white",
            "linecolor": "white",
            "ticks": ""
           },
           "bgcolor": "#E5ECF6",
           "caxis": {
            "gridcolor": "white",
            "linecolor": "white",
            "ticks": ""
           }
          },
          "title": {
           "x": 0.05
          },
          "xaxis": {
           "automargin": true,
           "gridcolor": "white",
           "linecolor": "white",
           "ticks": "",
           "title": {
            "standoff": 15
           },
           "zerolinecolor": "white",
           "zerolinewidth": 2
          },
          "yaxis": {
           "automargin": true,
           "gridcolor": "white",
           "linecolor": "white",
           "ticks": "",
           "title": {
            "standoff": 15
           },
           "zerolinecolor": "white",
           "zerolinewidth": 2
          }
         }
        },
        "xaxis": {
         "anchor": "y",
         "autorange": true,
         "domain": [
          0,
          0.98
         ],
         "range": [
          -0.5051030822616861,
          0.5051030822616861
         ],
         "title": {
          "text": "mrate"
         },
         "type": "linear"
        },
        "yaxis": {
         "anchor": "x",
         "autorange": true,
         "domain": [
          0,
          1
         ],
         "range": [
          1.0507033732202318,
          1.275203737947676
         ],
         "title": {
          "text": "mse"
         },
         "type": "linear"
        }
       }
      },
      "image/png": "[encoded data removed]",
      "text/html": [
       "<div>                            <div id=\"084aca51-3958-47b8-8f70-2dc2c0abb004\" class=\"plotly-graph-div\" style=\"height:600px; width:100%;\"></div>            <script type=\"text/javascript\">                require([\"plotly\"], function(Plotly) {                    window.PLOTLYENV=window.PLOTLYENV || {};                                    if (document.getElementById(\"084aca51-3958-47b8-8f70-2dc2c0abb004\")) {                    Plotly.newPlot(                        \"084aca51-3958-47b8-8f70-2dc2c0abb004\",                        [{\"alignmentgroup\":\"True\",\"hovertemplate\":\"method=STGCN<br>nof_filters=12<br>lags=2<br>mrate=%{x}<br>mse=%{y}<extra></extra>\",\"legendgroup\":\"STGCN\",\"marker\":{\"color\":\"#636efa\"},\"name\":\"STGCN\",\"notched\":false,\"offsetgroup\":\"STGCN\",\"orientation\":\"v\",\"showlegend\":true,\"x\":[0.0,0.0,0.0,0.0,0.0,0.0,0.0,0.0,0.0,0.0,0.0,0.0,0.0,0.0,0.0,0.0,0.0,0.0,0.0,0.0,0.0,0.0,0.0,0.0,0.0,0.0,0.0,0.0,0.0,0.0,0.0,0.0,0.0,0.0,0.0,0.0,0.0,0.0,0.0,0.0,0.0,0.0,0.0,0.0,0.0,0.0,0.0,0.0,0.0,0.0,0.0,0.0,0.0,0.0,0.0,0.0,0.0,0.0,0.0,0.0],\"x0\":\" \",\"xaxis\":\"x\",\"y\":[1.186692476272583,1.1020724773406982,1.1289823055267334,1.0983078479766846,1.101925492286682,1.1571537256240845,1.1739656925201416,1.1210007667541504,1.097760796546936,1.0801048278808594,1.1458860635757446,1.1117384433746338,1.1218905448913574,1.1782641410827637,1.1019498109817505,1.1822171211242676,1.1116348505020142,1.1053928136825562,1.130889892578125,1.1170647144317627,1.1745678186416626,1.1628503799438477,1.1489349603652954,1.1643221378326416,1.12031888961792,1.2122844457626345,1.19257915019989,1.1266872882843018,1.1354485750198364,1.0702162981033323,1.148460030555725,1.2604860067367554,1.1027878522872925,1.1308140754699707,1.0725477933883667,1.2334771156311035,1.061928391456604,1.0753545761108398,1.0948426723480225,1.1304625272750854,1.1387063264846802,1.1142208576202393,1.2394720315933228,1.1248520612716677,1.116641402244568,1.101080298423767,1.1650279760360718,1.071424961090088,1.0903278589248655,1.0939704179763794,1.163598895072937,1.1651774644851685,1.213795185089111,1.2639787197113037,1.130020022392273,1.1225134134292605,1.0979886054992676,1.1825854778289795,1.1044321060180664,1.1446934938430786],\"y0\":\" \",\"yaxis\":\"y\",\"type\":\"box\"},{\"alignmentgroup\":\"True\",\"hovertemplate\":\"method=IT-STGCN<br>nof_filters=12<br>lags=2<br>mrate=%{x}<br>mse=%{y}<extra></extra>\",\"legendgroup\":\"IT-STGCN\",\"marker\":{\"color\":\"#EF553B\"},\"name\":\"IT-STGCN\",\"notched\":false,\"offsetgroup\":\"IT-STGCN\",\"orientation\":\"v\",\"showlegend\":true,\"x\":[0.0,0.0,0.0,0.0,0.0,0.0,0.0,0.0,0.0,0.0,0.0,0.0,0.0,0.0,0.0,0.0,0.0,0.0,0.0,0.0,0.0,0.0,0.0,0.0,0.0,0.0,0.0,0.0,0.0,0.0,0.0,0.0,0.0,0.0,0.0,0.0,0.0,0.0,0.0,0.0,0.0,0.0,0.0,0.0,0.0,0.0,0.0,0.0,0.0,0.0,0.0,0.0,0.0,0.0,0.0,0.0,0.0,0.0,0.0,0.0],\"x0\":\" \",\"xaxis\":\"x\",\"y\":[1.1333671808242798,1.1716729402542114,1.1012054681777954,1.1365896463394165,1.17912495136261,1.0957326889038086,1.108482837677002,1.1126388311386108,1.1978765726089478,1.1124595403671265,1.083253264427185,1.2111482620239258,1.158159613609314,1.161616325378418,1.0906367301940918,1.151248335838318,1.0929276943206787,1.0836567878723145,1.163156270980835,1.1280977725982666,1.1209406852722168,1.1272830963134766,1.098283052444458,1.0709271430969238,1.1173932552337646,1.1372264623641968,1.1004267930984497,1.105725884437561,1.1104816198349,1.1007810831069946,1.141340732574463,1.218189358711243,1.1154465675354004,1.132720112800598,1.1009420156478882,1.1413817405700684,1.0991835594177246,1.1107643842697144,1.0681205987930298,1.1350544691085815,1.1408658027648926,1.0972903966903689,1.1020965576171875,1.1472103595733645,1.0780630111694336,1.0905582904815674,1.1259266138076782,1.1378730535507202,1.139386534690857,1.082656741142273,1.1632707118988037,1.1335378885269165,1.1967735290527344,1.1490240097045898,1.125135898590088,1.122612714767456,1.1189392805099487,1.1340205669403076,1.1612569093704224,1.0836336612701416],\"y0\":\" \",\"yaxis\":\"y\",\"type\":\"box\"}],                        {\"template\":{\"data\":{\"histogram2dcontour\":[{\"type\":\"histogram2dcontour\",\"colorbar\":{\"outlinewidth\":0,\"ticks\":\"\"},\"colorscale\":[[0.0,\"#0d0887\"],[0.1111111111111111,\"#46039f\"],[0.2222222222222222,\"#7201a8\"],[0.3333333333333333,\"#9c179e\"],[0.4444444444444444,\"#bd3786\"],[0.5555555555555556,\"#d8576b\"],[0.6666666666666666,\"#ed7953\"],[0.7777777777777778,\"#fb9f3a\"],[0.8888888888888888,\"#fdca26\"],[1.0,\"#f0f921\"]]}],\"choropleth\":[{\"type\":\"choropleth\",\"colorbar\":{\"outlinewidth\":0,\"ticks\":\"\"}}],\"histogram2d\":[{\"type\":\"histogram2d\",\"colorbar\":{\"outlinewidth\":0,\"ticks\":\"\"},\"colorscale\":[[0.0,\"#0d0887\"],[0.1111111111111111,\"#46039f\"],[0.2222222222222222,\"#7201a8\"],[0.3333333333333333,\"#9c179e\"],[0.4444444444444444,\"#bd3786\"],[0.5555555555555556,\"#d8576b\"],[0.6666666666666666,\"#ed7953\"],[0.7777777777777778,\"#fb9f3a\"],[0.8888888888888888,\"#fdca26\"],[1.0,\"#f0f921\"]]}],\"heatmap\":[{\"type\":\"heatmap\",\"colorbar\":{\"outlinewidth\":0,\"ticks\":\"\"},\"colorscale\":[[0.0,\"#0d0887\"],[0.1111111111111111,\"#46039f\"],[0.2222222222222222,\"#7201a8\"],[0.3333333333333333,\"#9c179e\"],[0.4444444444444444,\"#bd3786\"],[0.5555555555555556,\"#d8576b\"],[0.6666666666666666,\"#ed7953\"],[0.7777777777777778,\"#fb9f3a\"],[0.8888888888888888,\"#fdca26\"],[1.0,\"#f0f921\"]]}],\"heatmapgl\":[{\"type\":\"heatmapgl\",\"colorbar\":{\"outlinewidth\":0,\"ticks\":\"\"},\"colorscale\":[[0.0,\"#0d0887\"],[0.1111111111111111,\"#46039f\"],[0.2222222222222222,\"#7201a8\"],[0.3333333333333333,\"#9c179e\"],[0.4444444444444444,\"#bd3786\"],[0.5555555555555556,\"#d8576b\"],[0.6666666666666666,\"#ed7953\"],[0.7777777777777778,\"#fb9f3a\"],[0.8888888888888888,\"#fdca26\"],[1.0,\"#f0f921\"]]}],\"contourcarpet\":[{\"type\":\"contourcarpet\",\"colorbar\":{\"outlinewidth\":0,\"ticks\":\"\"}}],\"contour\":[{\"type\":\"contour\",\"colorbar\":{\"outlinewidth\":0,\"ticks\":\"\"},\"colorscale\":[[0.0,\"#0d0887\"],[0.1111111111111111,\"#46039f\"],[0.2222222222222222,\"#7201a8\"],[0.3333333333333333,\"#9c179e\"],[0.4444444444444444,\"#bd3786\"],[0.5555555555555556,\"#d8576b\"],[0.6666666666666666,\"#ed7953\"],[0.7777777777777778,\"#fb9f3a\"],[0.8888888888888888,\"#fdca26\"],[1.0,\"#f0f921\"]]}],\"surface\":[{\"type\":\"surface\",\"colorbar\":{\"outlinewidth\":0,\"ticks\":\"\"},\"colorscale\":[[0.0,\"#0d0887\"],[0.1111111111111111,\"#46039f\"],[0.2222222222222222,\"#7201a8\"],[0.3333333333333333,\"#9c179e\"],[0.4444444444444444,\"#bd3786\"],[0.5555555555555556,\"#d8576b\"],[0.6666666666666666,\"#ed7953\"],[0.7777777777777778,\"#fb9f3a\"],[0.8888888888888888,\"#fdca26\"],[1.0,\"#f0f921\"]]}],\"mesh3d\":[{\"type\":\"mesh3d\",\"colorbar\":{\"outlinewidth\":0,\"ticks\":\"\"}}],\"scatter\":[{\"fillpattern\":{\"fillmode\":\"overlay\",\"size\":10,\"solidity\":0.2},\"type\":\"scatter\"}],\"parcoords\":[{\"type\":\"parcoords\",\"line\":{\"colorbar\":{\"outlinewidth\":0,\"ticks\":\"\"}}}],\"scatterpolargl\":[{\"type\":\"scatterpolargl\",\"marker\":{\"colorbar\":{\"outlinewidth\":0,\"ticks\":\"\"}}}],\"bar\":[{\"error_x\":{\"color\":\"#2a3f5f\"},\"error_y\":{\"color\":\"#2a3f5f\"},\"marker\":{\"line\":{\"color\":\"#E5ECF6\",\"width\":0.5},\"pattern\":{\"fillmode\":\"overlay\",\"size\":10,\"solidity\":0.2}},\"type\":\"bar\"}],\"scattergeo\":[{\"type\":\"scattergeo\",\"marker\":{\"colorbar\":{\"outlinewidth\":0,\"ticks\":\"\"}}}],\"scatterpolar\":[{\"type\":\"scatterpolar\",\"marker\":{\"colorbar\":{\"outlinewidth\":0,\"ticks\":\"\"}}}],\"histogram\":[{\"marker\":{\"pattern\":{\"fillmode\":\"overlay\",\"size\":10,\"solidity\":0.2}},\"type\":\"histogram\"}],\"scattergl\":[{\"type\":\"scattergl\",\"marker\":{\"colorbar\":{\"outlinewidth\":0,\"ticks\":\"\"}}}],\"scatter3d\":[{\"type\":\"scatter3d\",\"line\":{\"colorbar\":{\"outlinewidth\":0,\"ticks\":\"\"}},\"marker\":{\"colorbar\":{\"outlinewidth\":0,\"ticks\":\"\"}}}],\"scattermapbox\":[{\"type\":\"scattermapbox\",\"marker\":{\"colorbar\":{\"outlinewidth\":0,\"ticks\":\"\"}}}],\"scatterternary\":[{\"type\":\"scatterternary\",\"marker\":{\"colorbar\":{\"outlinewidth\":0,\"ticks\":\"\"}}}],\"scattercarpet\":[{\"type\":\"scattercarpet\",\"marker\":{\"colorbar\":{\"outlinewidth\":0,\"ticks\":\"\"}}}],\"carpet\":[{\"aaxis\":{\"endlinecolor\":\"#2a3f5f\",\"gridcolor\":\"white\",\"linecolor\":\"white\",\"minorgridcolor\":\"white\",\"startlinecolor\":\"#2a3f5f\"},\"baxis\":{\"endlinecolor\":\"#2a3f5f\",\"gridcolor\":\"white\",\"linecolor\":\"white\",\"minorgridcolor\":\"white\",\"startlinecolor\":\"#2a3f5f\"},\"type\":\"carpet\"}],\"table\":[{\"cells\":{\"fill\":{\"color\":\"#EBF0F8\"},\"line\":{\"color\":\"white\"}},\"header\":{\"fill\":{\"color\":\"#C8D4E3\"},\"line\":{\"color\":\"white\"}},\"type\":\"table\"}],\"barpolar\":[{\"marker\":{\"line\":{\"color\":\"#E5ECF6\",\"width\":0.5},\"pattern\":{\"fillmode\":\"overlay\",\"size\":10,\"solidity\":0.2}},\"type\":\"barpolar\"}],\"pie\":[{\"automargin\":true,\"type\":\"pie\"}]},\"layout\":{\"autotypenumbers\":\"strict\",\"colorway\":[\"#636efa\",\"#EF553B\",\"#00cc96\",\"#ab63fa\",\"#FFA15A\",\"#19d3f3\",\"#FF6692\",\"#B6E880\",\"#FF97FF\",\"#FECB52\"],\"font\":{\"color\":\"#2a3f5f\"},\"hovermode\":\"closest\",\"hoverlabel\":{\"align\":\"left\"},\"paper_bgcolor\":\"white\",\"plot_bgcolor\":\"#E5ECF6\",\"polar\":{\"bgcolor\":\"#E5ECF6\",\"angularaxis\":{\"gridcolor\":\"white\",\"linecolor\":\"white\",\"ticks\":\"\"},\"radialaxis\":{\"gridcolor\":\"white\",\"linecolor\":\"white\",\"ticks\":\"\"}},\"ternary\":{\"bgcolor\":\"#E5ECF6\",\"aaxis\":{\"gridcolor\":\"white\",\"linecolor\":\"white\",\"ticks\":\"\"},\"baxis\":{\"gridcolor\":\"white\",\"linecolor\":\"white\",\"ticks\":\"\"},\"caxis\":{\"gridcolor\":\"white\",\"linecolor\":\"white\",\"ticks\":\"\"}},\"coloraxis\":{\"colorbar\":{\"outlinewidth\":0,\"ticks\":\"\"}},\"colorscale\":{\"sequential\":[[0.0,\"#0d0887\"],[0.1111111111111111,\"#46039f\"],[0.2222222222222222,\"#7201a8\"],[0.3333333333333333,\"#9c179e\"],[0.4444444444444444,\"#bd3786\"],[0.5555555555555556,\"#d8576b\"],[0.6666666666666666,\"#ed7953\"],[0.7777777777777778,\"#fb9f3a\"],[0.8888888888888888,\"#fdca26\"],[1.0,\"#f0f921\"]],\"sequentialminus\":[[0.0,\"#0d0887\"],[0.1111111111111111,\"#46039f\"],[0.2222222222222222,\"#7201a8\"],[0.3333333333333333,\"#9c179e\"],[0.4444444444444444,\"#bd3786\"],[0.5555555555555556,\"#d8576b\"],[0.6666666666666666,\"#ed7953\"],[0.7777777777777778,\"#fb9f3a\"],[0.8888888888888888,\"#fdca26\"],[1.0,\"#f0f921\"]],\"diverging\":[[0,\"#8e0152\"],[0.1,\"#c51b7d\"],[0.2,\"#de77ae\"],[0.3,\"#f1b6da\"],[0.4,\"#fde0ef\"],[0.5,\"#f7f7f7\"],[0.6,\"#e6f5d0\"],[0.7,\"#b8e186\"],[0.8,\"#7fbc41\"],[0.9,\"#4d9221\"],[1,\"#276419\"]]},\"xaxis\":{\"gridcolor\":\"white\",\"linecolor\":\"white\",\"ticks\":\"\",\"title\":{\"standoff\":15},\"zerolinecolor\":\"white\",\"automargin\":true,\"zerolinewidth\":2},\"yaxis\":{\"gridcolor\":\"white\",\"linecolor\":\"white\",\"ticks\":\"\",\"title\":{\"standoff\":15},\"zerolinecolor\":\"white\",\"automargin\":true,\"zerolinewidth\":2},\"scene\":{\"xaxis\":{\"backgroundcolor\":\"#E5ECF6\",\"gridcolor\":\"white\",\"linecolor\":\"white\",\"showbackground\":true,\"ticks\":\"\",\"zerolinecolor\":\"white\",\"gridwidth\":2},\"yaxis\":{\"backgroundcolor\":\"#E5ECF6\",\"gridcolor\":\"white\",\"linecolor\":\"white\",\"showbackground\":true,\"ticks\":\"\",\"zerolinecolor\":\"white\",\"gridwidth\":2},\"zaxis\":{\"backgroundcolor\":\"#E5ECF6\",\"gridcolor\":\"white\",\"linecolor\":\"white\",\"showbackground\":true,\"ticks\":\"\",\"zerolinecolor\":\"white\",\"gridwidth\":2}},\"shapedefaults\":{\"line\":{\"color\":\"#2a3f5f\"}},\"annotationdefaults\":{\"arrowcolor\":\"#2a3f5f\",\"arrowhead\":0,\"arrowwidth\":1},\"geo\":{\"bgcolor\":\"white\",\"landcolor\":\"#E5ECF6\",\"subunitcolor\":\"white\",\"showland\":true,\"showlakes\":true,\"lakecolor\":\"white\"},\"title\":{\"x\":0.05},\"mapbox\":{\"style\":\"light\"}}},\"xaxis\":{\"anchor\":\"y\",\"domain\":[0.0,0.98],\"title\":{\"text\":\"mrate\"}},\"yaxis\":{\"anchor\":\"x\",\"domain\":[0.0,1.0],\"title\":{\"text\":\"mse\"}},\"annotations\":[{\"font\":{},\"showarrow\":false,\"text\":\"lags=2\",\"x\":0.49,\"xanchor\":\"center\",\"xref\":\"paper\",\"y\":1.0,\"yanchor\":\"bottom\",\"yref\":\"paper\"},{\"font\":{},\"showarrow\":false,\"text\":\"nof_filters=12\",\"textangle\":90,\"x\":0.98,\"xanchor\":\"left\",\"xref\":\"paper\",\"y\":0.5,\"yanchor\":\"middle\",\"yref\":\"paper\"}],\"legend\":{\"title\":{\"text\":\"method\"},\"tracegroupgap\":0},\"margin\":{\"t\":60},\"boxmode\":\"group\",\"height\":600},                        {\"responsive\": true}                    ).then(function(){\n",
       "                            \n",
       "var gd = document.getElementById('084aca51-3958-47b8-8f70-2dc2c0abb004');\n",
       "var x = new MutationObserver(function (mutations, observer) {{\n",
       "        var display = window.getComputedStyle(gd).display;\n",
       "        if (!display || display === 'none') {{\n",
       "            console.log([gd, 'removed!']);\n",
       "            Plotly.purge(gd);\n",
       "            observer.disconnect();\n",
       "        }}\n",
       "}});\n",
       "\n",
       "// Listen for the removal of the full notebook cells\n",
       "var notebookContainer = gd.closest('#notebook-container');\n",
       "if (notebookContainer) {{\n",
       "    x.observe(notebookContainer, {childList: true});\n",
       "}}\n",
       "\n",
       "// Listen for the clearing of the current output cell\n",
       "var outputEl = gd.closest('.output');\n",
       "if (outputEl) {{\n",
       "    x.observe(outputEl, {childList: true});\n",
       "}}\n",
       "\n",
       "                        })                };                });            </script>        </div>"
      ]
     },
     "metadata": {},
     "output_type": "display_data"
    }
   ],
   "source": [
    "data.query(\"method!='GNAR' and mrate==0\").plot.box(backend='plotly',x='mrate',color='method',y='mse',facet_col='lags',facet_row='nof_filters',height=600)\n"
   ]
  },
  {
   "cell_type": "markdown",
   "id": "5fba0c44-8d0c-4bf3-8d36-a8193dabf854",
   "metadata": {},
   "source": [
    "## Random"
   ]
  },
  {
   "cell_type": "code",
   "execution_count": 36,
   "id": "8571d995-8823-48ef-8324-d8acc3ee8f62",
   "metadata": {},
   "outputs": [
    {
     "data": {
      "application/vnd.plotly.v1+json": {
       "config": {
        "plotlyServerURL": "https://plot.ly"
       },
       "data": [
        {
         "alignmentgroup": "True",
         "hovertemplate": "method=STGCN<br>nof_filters=12<br>inter_method=linear<br>mrate=%{x}<br>mse=%{y}<extra></extra>",
         "legendgroup": "STGCN",
         "marker": {
          "color": "#636efa"
         },
         "name": "STGCN",
         "notched": false,
         "offsetgroup": "STGCN",
         "orientation": "v",
         "showlegend": true,
         "type": "box",
         "x": [
          0.7,
          0.7,
          0.7,
          0.7,
          0.7,
          0.7,
          0.7,
          0.7,
          0.7,
          0.7,
          0.7,
          0.7,
          0.7,
          0.7,
          0.7,
          0.7,
          0.7,
          0.7,
          0.7,
          0.7,
          0.7,
          0.7,
          0.7,
          0.7,
          0.7,
          0.7,
          0.7,
          0.7,
          0.7,
          0.7,
          0.8,
          0.8,
          0.8,
          0.8,
          0.8,
          0.8,
          0.8,
          0.8,
          0.8,
          0.8,
          0.8,
          0.8,
          0.8,
          0.8,
          0.8,
          0.8,
          0.8,
          0.8,
          0.8,
          0.8,
          0.8,
          0.8,
          0.8,
          0.8,
          0.8,
          0.8,
          0.8,
          0.8,
          0.8,
          0.8
         ],
         "x0": " ",
         "xaxis": "x",
         "y": [
          1.4002809524536133,
          1.4168246984481812,
          1.5101783275604248,
          1.4826740026474,
          1.5399911403656006,
          1.509279489517212,
          1.5124162435531616,
          1.390879511833191,
          1.4901700019836426,
          1.6012585163116455,
          1.255386471748352,
          1.6504905223846436,
          1.2476059198379517,
          1.4333196878433228,
          1.2822569608688354,
          1.3686236143112185,
          1.3468283414840698,
          1.57442045211792,
          1.4887433052062988,
          1.4912012815475464,
          1.4211469888687134,
          1.1979877948760986,
          1.6741596460342407,
          1.5688273906707764,
          1.4472819566726685,
          1.70830500125885,
          1.5421446561813354,
          1.49120831489563,
          1.569929599761963,
          1.5443016290664673,
          1.4112744331359863,
          1.367152452468872,
          1.36712384223938,
          1.709606051445007,
          1.5042121410369873,
          1.3116673231124878,
          1.4451282024383545,
          1.5146915912628174,
          1.6674926280975342,
          1.3197816610336304,
          1.45403254032135,
          1.3612982034683228,
          1.4301040172576904,
          1.3677188158035278,
          1.4006060361862185,
          1.4657174348831177,
          1.3962570428848269,
          1.6131097078323364,
          1.2749885320663452,
          1.3789300918579102,
          1.3353842496871948,
          1.5282180309295654,
          1.413042426109314,
          1.306686282157898,
          1.5700464248657229,
          1.319227695465088,
          1.5272234678268433,
          1.4897215366363523,
          1.5915929079055786,
          1.4213430881500244
         ],
         "y0": " ",
         "yaxis": "y"
        },
        {
         "alignmentgroup": "True",
         "hovertemplate": "method=STGCN<br>nof_filters=12<br>inter_method=nearest<br>mrate=%{x}<br>mse=%{y}<extra></extra>",
         "legendgroup": "STGCN",
         "marker": {
          "color": "#636efa"
         },
         "name": "STGCN",
         "notched": false,
         "offsetgroup": "STGCN",
         "orientation": "v",
         "showlegend": false,
         "type": "box",
         "x": [
          0.7,
          0.7,
          0.7,
          0.7,
          0.7,
          0.7,
          0.7,
          0.7,
          0.7,
          0.7,
          0.7,
          0.7,
          0.7,
          0.7,
          0.7,
          0.7,
          0.7,
          0.7,
          0.7,
          0.7,
          0.7,
          0.7,
          0.7,
          0.7,
          0.7,
          0.7,
          0.7,
          0.7,
          0.7,
          0.7,
          0.8,
          0.8,
          0.8,
          0.8,
          0.8,
          0.8,
          0.8,
          0.8,
          0.8,
          0.8,
          0.8,
          0.8,
          0.8,
          0.8,
          0.8,
          0.8,
          0.8,
          0.8,
          0.8,
          0.8,
          0.8,
          0.8,
          0.8,
          0.8,
          0.8,
          0.8,
          0.8,
          0.8,
          0.8,
          0.8
         ],
         "x0": " ",
         "xaxis": "x2",
         "y": [
          1.3884350061416626,
          1.365992546081543,
          1.194482445716858,
          1.4028363227844238,
          1.4170130491256714,
          1.373310685157776,
          1.459578514099121,
          1.37353253364563,
          1.3602511882781982,
          1.289669394493103,
          1.468299388885498,
          1.5085034370422363,
          1.4619823694229126,
          1.3151886463165283,
          1.3935259580612185,
          1.4508570432662964,
          1.2387139797210691,
          1.379372239112854,
          1.313535451889038,
          1.4455053806304932,
          1.4114643335342407,
          1.4513499736785889,
          1.4110493659973145,
          1.3808213472366333,
          1.41865873336792,
          1.4634771347045898,
          1.630479097366333,
          1.3535759449005127,
          1.2729977369308472,
          1.4316216707229614,
          1.3742371797561646,
          1.428839921951294,
          1.5321722030639648,
          1.5178766250610352,
          1.3840947151184082,
          1.4860916137695312,
          1.5700769424438477,
          1.4221006631851196,
          1.38616681098938,
          1.313139796257019,
          1.469760775566101,
          1.3916347026824951,
          1.4141212701797483,
          1.3045001029968262,
          1.5377143621444702,
          1.4960832595825195,
          1.6716675758361816,
          1.3745014667510986,
          1.4777675867080688,
          1.3979394435882568,
          1.6194703578948977,
          1.39481520652771,
          1.3160780668258667,
          1.2868003845214844,
          1.5428766012191772,
          1.2831076383590698,
          1.5090168714523315,
          1.408573865890503,
          1.438719630241394,
          1.3440632820129397
         ],
         "y0": " ",
         "yaxis": "y2"
        },
        {
         "alignmentgroup": "True",
         "hovertemplate": "method=IT-STGCN<br>nof_filters=12<br>inter_method=linear<br>mrate=%{x}<br>mse=%{y}<extra></extra>",
         "legendgroup": "IT-STGCN",
         "marker": {
          "color": "#EF553B"
         },
         "name": "IT-STGCN",
         "notched": false,
         "offsetgroup": "IT-STGCN",
         "orientation": "v",
         "showlegend": true,
         "type": "box",
         "x": [
          0.7,
          0.7,
          0.7,
          0.7,
          0.7,
          0.7,
          0.7,
          0.7,
          0.7,
          0.7,
          0.7,
          0.7,
          0.7,
          0.7,
          0.7,
          0.7,
          0.7,
          0.7,
          0.7,
          0.7,
          0.7,
          0.7,
          0.7,
          0.7,
          0.7,
          0.7,
          0.7,
          0.7,
          0.7,
          0.7,
          0.8,
          0.8,
          0.8,
          0.8,
          0.8,
          0.8,
          0.8,
          0.8,
          0.8,
          0.8,
          0.8,
          0.8,
          0.8,
          0.8,
          0.8,
          0.8,
          0.8,
          0.8,
          0.8,
          0.8,
          0.8,
          0.8,
          0.8,
          0.8,
          0.8,
          0.8,
          0.8,
          0.8,
          0.8,
          0.8
         ],
         "x0": " ",
         "xaxis": "x",
         "y": [
          1.3976598978042605,
          1.5100915431976318,
          1.2676243782043457,
          1.247521996498108,
          1.28851318359375,
          1.199287176132202,
          1.343833327293396,
          1.3072947263717651,
          1.308873414993286,
          1.2261656522750854,
          1.2789301872253418,
          1.1604266166687012,
          1.3549946546554563,
          1.2590903043746948,
          1.3218278884887695,
          1.3744372129440308,
          1.2187548875808716,
          1.2407923936843872,
          1.3668313026428225,
          1.2017357349395752,
          1.253829002380371,
          1.2180382013320925,
          1.411244511604309,
          1.2837220430374146,
          1.2610057592391968,
          1.1936709880828855,
          1.2534817457199097,
          1.326106071472168,
          1.2640738487243652,
          1.2690421342849731,
          1.330803394317627,
          1.2478358745574951,
          1.239611029624939,
          1.3867470026016235,
          1.2742722034454346,
          1.2490586042404177,
          1.3207834959030151,
          1.3031421899795532,
          1.4436818361282349,
          1.3409501314163208,
          1.3414312601089478,
          1.2453080415725708,
          1.401309609413147,
          1.3622708320617676,
          1.241342067718506,
          1.2894505262374878,
          1.2561391592025757,
          1.3435440063476562,
          1.374652862548828,
          1.18762469291687,
          1.2726128101348877,
          1.2436065673828125,
          1.2987562417984009,
          1.2506810426712036,
          1.2553290128707886,
          1.3534971475601196,
          1.3090225458145142,
          1.223849534988403,
          1.2728681564331057,
          1.2783464193344116
         ],
         "y0": " ",
         "yaxis": "y"
        },
        {
         "alignmentgroup": "True",
         "hovertemplate": "method=IT-STGCN<br>nof_filters=12<br>inter_method=nearest<br>mrate=%{x}<br>mse=%{y}<extra></extra>",
         "legendgroup": "IT-STGCN",
         "marker": {
          "color": "#EF553B"
         },
         "name": "IT-STGCN",
         "notched": false,
         "offsetgroup": "IT-STGCN",
         "orientation": "v",
         "showlegend": false,
         "type": "box",
         "x": [
          0.7,
          0.7,
          0.7,
          0.7,
          0.7,
          0.7,
          0.7,
          0.7,
          0.7,
          0.7,
          0.7,
          0.7,
          0.7,
          0.7,
          0.7,
          0.7,
          0.7,
          0.7,
          0.7,
          0.7,
          0.7,
          0.7,
          0.7,
          0.7,
          0.7,
          0.7,
          0.7,
          0.7,
          0.7,
          0.7,
          0.8,
          0.8,
          0.8,
          0.8,
          0.8,
          0.8,
          0.8,
          0.8,
          0.8,
          0.8,
          0.8,
          0.8,
          0.8,
          0.8,
          0.8,
          0.8,
          0.8,
          0.8,
          0.8,
          0.8,
          0.8,
          0.8,
          0.8,
          0.8,
          0.8,
          0.8,
          0.8,
          0.8,
          0.8,
          0.8
         ],
         "x0": " ",
         "xaxis": "x2",
         "y": [
          1.3088388442993164,
          1.230613112449646,
          1.3314378261566162,
          1.2360413074493408,
          1.5824875831604004,
          1.2608296871185305,
          1.177209496498108,
          1.2212973833084106,
          1.249585509300232,
          1.2402290105819702,
          1.316044569015503,
          1.210738182067871,
          1.197783350944519,
          1.2284762859344482,
          1.2068469524383545,
          1.2180659770965576,
          1.2401034832000732,
          1.2570466995239258,
          1.2860815525054932,
          1.1925880908966064,
          1.3089834451675415,
          1.2145133018493652,
          1.2442665100097656,
          1.2688976526260376,
          1.2681565284729004,
          1.240777611732483,
          1.2162506580352783,
          1.38106107711792,
          1.2007125616073608,
          1.3072389364242554,
          1.3199926614761353,
          1.288875699043274,
          1.3972172737121582,
          1.2797832489013672,
          1.3466999530792236,
          1.3075467348098757,
          1.374343752861023,
          1.2385027408599854,
          1.276869297027588,
          1.2282274961471558,
          1.2436184883117676,
          1.3651119470596311,
          1.1804412603378296,
          1.4567058086395264,
          1.347164511680603,
          1.331964135169983,
          1.2611545324325562,
          1.271265983581543,
          1.4375097751617432,
          1.3131146430969238,
          1.3160104751586914,
          1.2976527214050293,
          1.2426484823226929,
          1.4004980325698853,
          1.3283779621124268,
          1.2590665817260742,
          1.402262568473816,
          1.2745949029922483,
          1.325597047805786,
          1.251904845237732
         ],
         "y0": " ",
         "yaxis": "y2"
        }
       ],
       "layout": {
        "annotations": [
         {
          "font": {},
          "showarrow": false,
          "text": "inter_method=linear",
          "x": 0.24,
          "xanchor": "center",
          "xref": "paper",
          "y": 1,
          "yanchor": "bottom",
          "yref": "paper"
         },
         {
          "font": {},
          "showarrow": false,
          "text": "inter_method=nearest",
          "x": 0.74,
          "xanchor": "center",
          "xref": "paper",
          "y": 1,
          "yanchor": "bottom",
          "yref": "paper"
         },
         {
          "font": {},
          "showarrow": false,
          "text": "nof_filters=12",
          "textangle": 90,
          "x": 0.98,
          "xanchor": "left",
          "xref": "paper",
          "y": 0.5,
          "yanchor": "middle",
          "yref": "paper"
         }
        ],
        "autosize": true,
        "boxmode": "group",
        "legend": {
         "title": {
          "text": "method"
         },
         "tracegroupgap": 0
        },
        "margin": {
         "t": 60
        },
        "template": {
         "data": {
          "bar": [
           {
            "error_x": {
             "color": "#2a3f5f"
            },
            "error_y": {
             "color": "#2a3f5f"
            },
            "marker": {
             "line": {
              "color": "#E5ECF6",
              "width": 0.5
             },
             "pattern": {
              "fillmode": "overlay",
              "size": 10,
              "solidity": 0.2
             }
            },
            "type": "bar"
           }
          ],
          "barpolar": [
           {
            "marker": {
             "line": {
              "color": "#E5ECF6",
              "width": 0.5
             },
             "pattern": {
              "fillmode": "overlay",
              "size": 10,
              "solidity": 0.2
             }
            },
            "type": "barpolar"
           }
          ],
          "carpet": [
           {
            "aaxis": {
             "endlinecolor": "#2a3f5f",
             "gridcolor": "white",
             "linecolor": "white",
             "minorgridcolor": "white",
             "startlinecolor": "#2a3f5f"
            },
            "baxis": {
             "endlinecolor": "#2a3f5f",
             "gridcolor": "white",
             "linecolor": "white",
             "minorgridcolor": "white",
             "startlinecolor": "#2a3f5f"
            },
            "type": "carpet"
           }
          ],
          "choropleth": [
           {
            "colorbar": {
             "outlinewidth": 0,
             "ticks": ""
            },
            "type": "choropleth"
           }
          ],
          "contour": [
           {
            "colorbar": {
             "outlinewidth": 0,
             "ticks": ""
            },
            "colorscale": [
             [
              0,
              "#0d0887"
             ],
             [
              0.1111111111111111,
              "#46039f"
             ],
             [
              0.2222222222222222,
              "#7201a8"
             ],
             [
              0.3333333333333333,
              "#9c179e"
             ],
             [
              0.4444444444444444,
              "#bd3786"
             ],
             [
              0.5555555555555556,
              "#d8576b"
             ],
             [
              0.6666666666666666,
              "#ed7953"
             ],
             [
              0.7777777777777778,
              "#fb9f3a"
             ],
             [
              0.8888888888888888,
              "#fdca26"
             ],
             [
              1,
              "#f0f921"
             ]
            ],
            "type": "contour"
           }
          ],
          "contourcarpet": [
           {
            "colorbar": {
             "outlinewidth": 0,
             "ticks": ""
            },
            "type": "contourcarpet"
           }
          ],
          "heatmap": [
           {
            "colorbar": {
             "outlinewidth": 0,
             "ticks": ""
            },
            "colorscale": [
             [
              0,
              "#0d0887"
             ],
             [
              0.1111111111111111,
              "#46039f"
             ],
             [
              0.2222222222222222,
              "#7201a8"
             ],
             [
              0.3333333333333333,
              "#9c179e"
             ],
             [
              0.4444444444444444,
              "#bd3786"
             ],
             [
              0.5555555555555556,
              "#d8576b"
             ],
             [
              0.6666666666666666,
              "#ed7953"
             ],
             [
              0.7777777777777778,
              "#fb9f3a"
             ],
             [
              0.8888888888888888,
              "#fdca26"
             ],
             [
              1,
              "#f0f921"
             ]
            ],
            "type": "heatmap"
           }
          ],
          "heatmapgl": [
           {
            "colorbar": {
             "outlinewidth": 0,
             "ticks": ""
            },
            "colorscale": [
             [
              0,
              "#0d0887"
             ],
             [
              0.1111111111111111,
              "#46039f"
             ],
             [
              0.2222222222222222,
              "#7201a8"
             ],
             [
              0.3333333333333333,
              "#9c179e"
             ],
             [
              0.4444444444444444,
              "#bd3786"
             ],
             [
              0.5555555555555556,
              "#d8576b"
             ],
             [
              0.6666666666666666,
              "#ed7953"
             ],
             [
              0.7777777777777778,
              "#fb9f3a"
             ],
             [
              0.8888888888888888,
              "#fdca26"
             ],
             [
              1,
              "#f0f921"
             ]
            ],
            "type": "heatmapgl"
           }
          ],
          "histogram": [
           {
            "marker": {
             "pattern": {
              "fillmode": "overlay",
              "size": 10,
              "solidity": 0.2
             }
            },
            "type": "histogram"
           }
          ],
          "histogram2d": [
           {
            "colorbar": {
             "outlinewidth": 0,
             "ticks": ""
            },
            "colorscale": [
             [
              0,
              "#0d0887"
             ],
             [
              0.1111111111111111,
              "#46039f"
             ],
             [
              0.2222222222222222,
              "#7201a8"
             ],
             [
              0.3333333333333333,
              "#9c179e"
             ],
             [
              0.4444444444444444,
              "#bd3786"
             ],
             [
              0.5555555555555556,
              "#d8576b"
             ],
             [
              0.6666666666666666,
              "#ed7953"
             ],
             [
              0.7777777777777778,
              "#fb9f3a"
             ],
             [
              0.8888888888888888,
              "#fdca26"
             ],
             [
              1,
              "#f0f921"
             ]
            ],
            "type": "histogram2d"
           }
          ],
          "histogram2dcontour": [
           {
            "colorbar": {
             "outlinewidth": 0,
             "ticks": ""
            },
            "colorscale": [
             [
              0,
              "#0d0887"
             ],
             [
              0.1111111111111111,
              "#46039f"
             ],
             [
              0.2222222222222222,
              "#7201a8"
             ],
             [
              0.3333333333333333,
              "#9c179e"
             ],
             [
              0.4444444444444444,
              "#bd3786"
             ],
             [
              0.5555555555555556,
              "#d8576b"
             ],
             [
              0.6666666666666666,
              "#ed7953"
             ],
             [
              0.7777777777777778,
              "#fb9f3a"
             ],
             [
              0.8888888888888888,
              "#fdca26"
             ],
             [
              1,
              "#f0f921"
             ]
            ],
            "type": "histogram2dcontour"
           }
          ],
          "mesh3d": [
           {
            "colorbar": {
             "outlinewidth": 0,
             "ticks": ""
            },
            "type": "mesh3d"
           }
          ],
          "parcoords": [
           {
            "line": {
             "colorbar": {
              "outlinewidth": 0,
              "ticks": ""
             }
            },
            "type": "parcoords"
           }
          ],
          "pie": [
           {
            "automargin": true,
            "type": "pie"
           }
          ],
          "scatter": [
           {
            "fillpattern": {
             "fillmode": "overlay",
             "size": 10,
             "solidity": 0.2
            },
            "type": "scatter"
           }
          ],
          "scatter3d": [
           {
            "line": {
             "colorbar": {
              "outlinewidth": 0,
              "ticks": ""
             }
            },
            "marker": {
             "colorbar": {
              "outlinewidth": 0,
              "ticks": ""
             }
            },
            "type": "scatter3d"
           }
          ],
          "scattercarpet": [
           {
            "marker": {
             "colorbar": {
              "outlinewidth": 0,
              "ticks": ""
             }
            },
            "type": "scattercarpet"
           }
          ],
          "scattergeo": [
           {
            "marker": {
             "colorbar": {
              "outlinewidth": 0,
              "ticks": ""
             }
            },
            "type": "scattergeo"
           }
          ],
          "scattergl": [
           {
            "marker": {
             "colorbar": {
              "outlinewidth": 0,
              "ticks": ""
             }
            },
            "type": "scattergl"
           }
          ],
          "scattermapbox": [
           {
            "marker": {
             "colorbar": {
              "outlinewidth": 0,
              "ticks": ""
             }
            },
            "type": "scattermapbox"
           }
          ],
          "scatterpolar": [
           {
            "marker": {
             "colorbar": {
              "outlinewidth": 0,
              "ticks": ""
             }
            },
            "type": "scatterpolar"
           }
          ],
          "scatterpolargl": [
           {
            "marker": {
             "colorbar": {
              "outlinewidth": 0,
              "ticks": ""
             }
            },
            "type": "scatterpolargl"
           }
          ],
          "scatterternary": [
           {
            "marker": {
             "colorbar": {
              "outlinewidth": 0,
              "ticks": ""
             }
            },
            "type": "scatterternary"
           }
          ],
          "surface": [
           {
            "colorbar": {
             "outlinewidth": 0,
             "ticks": ""
            },
            "colorscale": [
             [
              0,
              "#0d0887"
             ],
             [
              0.1111111111111111,
              "#46039f"
             ],
             [
              0.2222222222222222,
              "#7201a8"
             ],
             [
              0.3333333333333333,
              "#9c179e"
             ],
             [
              0.4444444444444444,
              "#bd3786"
             ],
             [
              0.5555555555555556,
              "#d8576b"
             ],
             [
              0.6666666666666666,
              "#ed7953"
             ],
             [
              0.7777777777777778,
              "#fb9f3a"
             ],
             [
              0.8888888888888888,
              "#fdca26"
             ],
             [
              1,
              "#f0f921"
             ]
            ],
            "type": "surface"
           }
          ],
          "table": [
           {
            "cells": {
             "fill": {
              "color": "#EBF0F8"
             },
             "line": {
              "color": "white"
             }
            },
            "header": {
             "fill": {
              "color": "#C8D4E3"
             },
             "line": {
              "color": "white"
             }
            },
            "type": "table"
           }
          ]
         },
         "layout": {
          "annotationdefaults": {
           "arrowcolor": "#2a3f5f",
           "arrowhead": 0,
           "arrowwidth": 1
          },
          "autotypenumbers": "strict",
          "coloraxis": {
           "colorbar": {
            "outlinewidth": 0,
            "ticks": ""
           }
          },
          "colorscale": {
           "diverging": [
            [
             0,
             "#8e0152"
            ],
            [
             0.1,
             "#c51b7d"
            ],
            [
             0.2,
             "#de77ae"
            ],
            [
             0.3,
             "#f1b6da"
            ],
            [
             0.4,
             "#fde0ef"
            ],
            [
             0.5,
             "#f7f7f7"
            ],
            [
             0.6,
             "#e6f5d0"
            ],
            [
             0.7,
             "#b8e186"
            ],
            [
             0.8,
             "#7fbc41"
            ],
            [
             0.9,
             "#4d9221"
            ],
            [
             1,
             "#276419"
            ]
           ],
           "sequential": [
            [
             0,
             "#0d0887"
            ],
            [
             0.1111111111111111,
             "#46039f"
            ],
            [
             0.2222222222222222,
             "#7201a8"
            ],
            [
             0.3333333333333333,
             "#9c179e"
            ],
            [
             0.4444444444444444,
             "#bd3786"
            ],
            [
             0.5555555555555556,
             "#d8576b"
            ],
            [
             0.6666666666666666,
             "#ed7953"
            ],
            [
             0.7777777777777778,
             "#fb9f3a"
            ],
            [
             0.8888888888888888,
             "#fdca26"
            ],
            [
             1,
             "#f0f921"
            ]
           ],
           "sequentialminus": [
            [
             0,
             "#0d0887"
            ],
            [
             0.1111111111111111,
             "#46039f"
            ],
            [
             0.2222222222222222,
             "#7201a8"
            ],
            [
             0.3333333333333333,
             "#9c179e"
            ],
            [
             0.4444444444444444,
             "#bd3786"
            ],
            [
             0.5555555555555556,
             "#d8576b"
            ],
            [
             0.6666666666666666,
             "#ed7953"
            ],
            [
             0.7777777777777778,
             "#fb9f3a"
            ],
            [
             0.8888888888888888,
             "#fdca26"
            ],
            [
             1,
             "#f0f921"
            ]
           ]
          },
          "colorway": [
           "#636efa",
           "#EF553B",
           "#00cc96",
           "#ab63fa",
           "#FFA15A",
           "#19d3f3",
           "#FF6692",
           "#B6E880",
           "#FF97FF",
           "#FECB52"
          ],
          "font": {
           "color": "#2a3f5f"
          },
          "geo": {
           "bgcolor": "white",
           "lakecolor": "white",
           "landcolor": "#E5ECF6",
           "showlakes": true,
           "showland": true,
           "subunitcolor": "white"
          },
          "hoverlabel": {
           "align": "left"
          },
          "hovermode": "closest",
          "mapbox": {
           "style": "light"
          },
          "paper_bgcolor": "white",
          "plot_bgcolor": "#E5ECF6",
          "polar": {
           "angularaxis": {
            "gridcolor": "white",
            "linecolor": "white",
            "ticks": ""
           },
           "bgcolor": "#E5ECF6",
           "radialaxis": {
            "gridcolor": "white",
            "linecolor": "white",
            "ticks": ""
           }
          },
          "scene": {
           "xaxis": {
            "backgroundcolor": "#E5ECF6",
            "gridcolor": "white",
            "gridwidth": 2,
            "linecolor": "white",
            "showbackground": true,
            "ticks": "",
            "zerolinecolor": "white"
           },
           "yaxis": {
            "backgroundcolor": "#E5ECF6",
            "gridcolor": "white",
            "gridwidth": 2,
            "linecolor": "white",
            "showbackground": true,
            "ticks": "",
            "zerolinecolor": "white"
           },
           "zaxis": {
            "backgroundcolor": "#E5ECF6",
            "gridcolor": "white",
            "gridwidth": 2,
            "linecolor": "white",
            "showbackground": true,
            "ticks": "",
            "zerolinecolor": "white"
           }
          },
          "shapedefaults": {
           "line": {
            "color": "#2a3f5f"
           }
          },
          "ternary": {
           "aaxis": {
            "gridcolor": "white",
            "linecolor": "white",
            "ticks": ""
           },
           "baxis": {
            "gridcolor": "white",
            "linecolor": "white",
            "ticks": ""
           },
           "bgcolor": "#E5ECF6",
           "caxis": {
            "gridcolor": "white",
            "linecolor": "white",
            "ticks": ""
           }
          },
          "title": {
           "x": 0.05
          },
          "xaxis": {
           "automargin": true,
           "gridcolor": "white",
           "linecolor": "white",
           "ticks": "",
           "title": {
            "standoff": 15
           },
           "zerolinecolor": "white",
           "zerolinewidth": 2
          },
          "yaxis": {
           "automargin": true,
           "gridcolor": "white",
           "linecolor": "white",
           "ticks": "",
           "title": {
            "standoff": 15
           },
           "zerolinecolor": "white",
           "zerolinewidth": 2
          }
         }
        },
        "xaxis": {
         "anchor": "y",
         "autorange": true,
         "domain": [
          0,
          0.48
         ],
         "range": [
          0.6492696465089102,
          0.8507303534910898
         ],
         "title": {
          "text": "mrate"
         },
         "type": "linear"
        },
        "xaxis2": {
         "anchor": "y2",
         "autorange": true,
         "domain": [
          0.5,
          0.98
         ],
         "matches": "x",
         "range": [
          0.6492696465089102,
          0.8507303534910898
         ],
         "title": {
          "text": "mrate"
         },
         "type": "linear"
        },
        "yaxis": {
         "anchor": "x",
         "autorange": true,
         "domain": [
          0,
          1
         ],
         "range": [
          1.1299166480700176,
          1.7401160200436907
         ],
         "title": {
          "text": "mse"
         },
         "type": "linear"
        },
        "yaxis2": {
         "anchor": "x2",
         "autorange": true,
         "domain": [
          0,
          1
         ],
         "matches": "y",
         "range": [
          1.1299166480700176,
          1.7401160200436907
         ],
         "showticklabels": false,
         "type": "linear"
        }
       }
      },
      "image/png": "[encoded data removed]",
      "text/html": [
       "<div>                            <div id=\"68190d71-96d2-44cc-8ae7-1737c59d7b4a\" class=\"plotly-graph-div\" style=\"height:600px; width:100%;\"></div>            <script type=\"text/javascript\">                require([\"plotly\"], function(Plotly) {                    window.PLOTLYENV=window.PLOTLYENV || {};                                    if (document.getElementById(\"68190d71-96d2-44cc-8ae7-1737c59d7b4a\")) {                    Plotly.newPlot(                        \"68190d71-96d2-44cc-8ae7-1737c59d7b4a\",                        [{\"alignmentgroup\":\"True\",\"hovertemplate\":\"method=STGCN<br>nof_filters=12<br>inter_method=linear<br>mrate=%{x}<br>mse=%{y}<extra></extra>\",\"legendgroup\":\"STGCN\",\"marker\":{\"color\":\"#636efa\"},\"name\":\"STGCN\",\"notched\":false,\"offsetgroup\":\"STGCN\",\"orientation\":\"v\",\"showlegend\":true,\"x\":[0.7,0.7,0.7,0.7,0.7,0.7,0.7,0.7,0.7,0.7,0.7,0.7,0.7,0.7,0.7,0.7,0.7,0.7,0.7,0.7,0.7,0.7,0.7,0.7,0.7,0.7,0.7,0.7,0.7,0.7,0.8,0.8,0.8,0.8,0.8,0.8,0.8,0.8,0.8,0.8,0.8,0.8,0.8,0.8,0.8,0.8,0.8,0.8,0.8,0.8,0.8,0.8,0.8,0.8,0.8,0.8,0.8,0.8,0.8,0.8],\"x0\":\" \",\"xaxis\":\"x\",\"y\":[1.4002809524536133,1.4168246984481812,1.5101783275604248,1.4826740026474,1.5399911403656006,1.509279489517212,1.5124162435531616,1.390879511833191,1.4901700019836426,1.6012585163116455,1.255386471748352,1.6504905223846436,1.2476059198379517,1.4333196878433228,1.2822569608688354,1.3686236143112185,1.3468283414840698,1.57442045211792,1.4887433052062988,1.4912012815475464,1.4211469888687134,1.1979877948760986,1.6741596460342407,1.5688273906707764,1.4472819566726685,1.70830500125885,1.5421446561813354,1.49120831489563,1.569929599761963,1.5443016290664673,1.4112744331359863,1.367152452468872,1.36712384223938,1.709606051445007,1.5042121410369873,1.3116673231124878,1.4451282024383545,1.5146915912628174,1.6674926280975342,1.3197816610336304,1.45403254032135,1.3612982034683228,1.4301040172576904,1.3677188158035278,1.4006060361862185,1.4657174348831177,1.3962570428848269,1.6131097078323364,1.2749885320663452,1.3789300918579102,1.3353842496871948,1.5282180309295654,1.413042426109314,1.306686282157898,1.5700464248657229,1.319227695465088,1.5272234678268433,1.4897215366363523,1.5915929079055786,1.4213430881500244],\"y0\":\" \",\"yaxis\":\"y\",\"type\":\"box\"},{\"alignmentgroup\":\"True\",\"hovertemplate\":\"method=STGCN<br>nof_filters=12<br>inter_method=nearest<br>mrate=%{x}<br>mse=%{y}<extra></extra>\",\"legendgroup\":\"STGCN\",\"marker\":{\"color\":\"#636efa\"},\"name\":\"STGCN\",\"notched\":false,\"offsetgroup\":\"STGCN\",\"orientation\":\"v\",\"showlegend\":false,\"x\":[0.7,0.7,0.7,0.7,0.7,0.7,0.7,0.7,0.7,0.7,0.7,0.7,0.7,0.7,0.7,0.7,0.7,0.7,0.7,0.7,0.7,0.7,0.7,0.7,0.7,0.7,0.7,0.7,0.7,0.7,0.8,0.8,0.8,0.8,0.8,0.8,0.8,0.8,0.8,0.8,0.8,0.8,0.8,0.8,0.8,0.8,0.8,0.8,0.8,0.8,0.8,0.8,0.8,0.8,0.8,0.8,0.8,0.8,0.8,0.8],\"x0\":\" \",\"xaxis\":\"x2\",\"y\":[1.3884350061416626,1.365992546081543,1.194482445716858,1.4028363227844238,1.4170130491256714,1.373310685157776,1.459578514099121,1.37353253364563,1.3602511882781982,1.289669394493103,1.468299388885498,1.5085034370422363,1.4619823694229126,1.3151886463165283,1.3935259580612185,1.4508570432662964,1.2387139797210691,1.379372239112854,1.313535451889038,1.4455053806304932,1.4114643335342407,1.4513499736785889,1.4110493659973145,1.3808213472366333,1.41865873336792,1.4634771347045898,1.630479097366333,1.3535759449005127,1.2729977369308472,1.4316216707229614,1.3742371797561646,1.428839921951294,1.5321722030639648,1.5178766250610352,1.3840947151184082,1.4860916137695312,1.5700769424438477,1.4221006631851196,1.38616681098938,1.313139796257019,1.469760775566101,1.3916347026824951,1.4141212701797483,1.3045001029968262,1.5377143621444702,1.4960832595825195,1.6716675758361816,1.3745014667510986,1.4777675867080688,1.3979394435882568,1.6194703578948977,1.39481520652771,1.3160780668258667,1.2868003845214844,1.5428766012191772,1.2831076383590698,1.5090168714523315,1.408573865890503,1.438719630241394,1.3440632820129397],\"y0\":\" \",\"yaxis\":\"y2\",\"type\":\"box\"},{\"alignmentgroup\":\"True\",\"hovertemplate\":\"method=IT-STGCN<br>nof_filters=12<br>inter_method=linear<br>mrate=%{x}<br>mse=%{y}<extra></extra>\",\"legendgroup\":\"IT-STGCN\",\"marker\":{\"color\":\"#EF553B\"},\"name\":\"IT-STGCN\",\"notched\":false,\"offsetgroup\":\"IT-STGCN\",\"orientation\":\"v\",\"showlegend\":true,\"x\":[0.7,0.7,0.7,0.7,0.7,0.7,0.7,0.7,0.7,0.7,0.7,0.7,0.7,0.7,0.7,0.7,0.7,0.7,0.7,0.7,0.7,0.7,0.7,0.7,0.7,0.7,0.7,0.7,0.7,0.7,0.8,0.8,0.8,0.8,0.8,0.8,0.8,0.8,0.8,0.8,0.8,0.8,0.8,0.8,0.8,0.8,0.8,0.8,0.8,0.8,0.8,0.8,0.8,0.8,0.8,0.8,0.8,0.8,0.8,0.8],\"x0\":\" \",\"xaxis\":\"x\",\"y\":[1.3976598978042605,1.5100915431976318,1.2676243782043457,1.247521996498108,1.28851318359375,1.199287176132202,1.343833327293396,1.3072947263717651,1.308873414993286,1.2261656522750854,1.2789301872253418,1.1604266166687012,1.3549946546554563,1.2590903043746948,1.3218278884887695,1.3744372129440308,1.2187548875808716,1.2407923936843872,1.3668313026428225,1.2017357349395752,1.253829002380371,1.2180382013320925,1.411244511604309,1.2837220430374146,1.2610057592391968,1.1936709880828855,1.2534817457199097,1.326106071472168,1.2640738487243652,1.2690421342849731,1.330803394317627,1.2478358745574951,1.239611029624939,1.3867470026016235,1.2742722034454346,1.2490586042404177,1.3207834959030151,1.3031421899795532,1.4436818361282349,1.3409501314163208,1.3414312601089478,1.2453080415725708,1.401309609413147,1.3622708320617676,1.241342067718506,1.2894505262374878,1.2561391592025757,1.3435440063476562,1.374652862548828,1.18762469291687,1.2726128101348877,1.2436065673828125,1.2987562417984009,1.2506810426712036,1.2553290128707886,1.3534971475601196,1.3090225458145142,1.223849534988403,1.2728681564331057,1.2783464193344116],\"y0\":\" \",\"yaxis\":\"y\",\"type\":\"box\"},{\"alignmentgroup\":\"True\",\"hovertemplate\":\"method=IT-STGCN<br>nof_filters=12<br>inter_method=nearest<br>mrate=%{x}<br>mse=%{y}<extra></extra>\",\"legendgroup\":\"IT-STGCN\",\"marker\":{\"color\":\"#EF553B\"},\"name\":\"IT-STGCN\",\"notched\":false,\"offsetgroup\":\"IT-STGCN\",\"orientation\":\"v\",\"showlegend\":false,\"x\":[0.7,0.7,0.7,0.7,0.7,0.7,0.7,0.7,0.7,0.7,0.7,0.7,0.7,0.7,0.7,0.7,0.7,0.7,0.7,0.7,0.7,0.7,0.7,0.7,0.7,0.7,0.7,0.7,0.7,0.7,0.8,0.8,0.8,0.8,0.8,0.8,0.8,0.8,0.8,0.8,0.8,0.8,0.8,0.8,0.8,0.8,0.8,0.8,0.8,0.8,0.8,0.8,0.8,0.8,0.8,0.8,0.8,0.8,0.8,0.8],\"x0\":\" \",\"xaxis\":\"x2\",\"y\":[1.3088388442993164,1.230613112449646,1.3314378261566162,1.2360413074493408,1.5824875831604004,1.2608296871185305,1.177209496498108,1.2212973833084106,1.249585509300232,1.2402290105819702,1.316044569015503,1.210738182067871,1.197783350944519,1.2284762859344482,1.2068469524383545,1.2180659770965576,1.2401034832000732,1.2570466995239258,1.2860815525054932,1.1925880908966064,1.3089834451675415,1.2145133018493652,1.2442665100097656,1.2688976526260376,1.2681565284729004,1.240777611732483,1.2162506580352783,1.38106107711792,1.2007125616073608,1.3072389364242554,1.3199926614761353,1.288875699043274,1.3972172737121582,1.2797832489013672,1.3466999530792236,1.3075467348098757,1.374343752861023,1.2385027408599854,1.276869297027588,1.2282274961471558,1.2436184883117676,1.3651119470596311,1.1804412603378296,1.4567058086395264,1.347164511680603,1.331964135169983,1.2611545324325562,1.271265983581543,1.4375097751617432,1.3131146430969238,1.3160104751586914,1.2976527214050293,1.2426484823226929,1.4004980325698853,1.3283779621124268,1.2590665817260742,1.402262568473816,1.2745949029922483,1.325597047805786,1.251904845237732],\"y0\":\" \",\"yaxis\":\"y2\",\"type\":\"box\"}],                        {\"template\":{\"data\":{\"histogram2dcontour\":[{\"type\":\"histogram2dcontour\",\"colorbar\":{\"outlinewidth\":0,\"ticks\":\"\"},\"colorscale\":[[0.0,\"#0d0887\"],[0.1111111111111111,\"#46039f\"],[0.2222222222222222,\"#7201a8\"],[0.3333333333333333,\"#9c179e\"],[0.4444444444444444,\"#bd3786\"],[0.5555555555555556,\"#d8576b\"],[0.6666666666666666,\"#ed7953\"],[0.7777777777777778,\"#fb9f3a\"],[0.8888888888888888,\"#fdca26\"],[1.0,\"#f0f921\"]]}],\"choropleth\":[{\"type\":\"choropleth\",\"colorbar\":{\"outlinewidth\":0,\"ticks\":\"\"}}],\"histogram2d\":[{\"type\":\"histogram2d\",\"colorbar\":{\"outlinewidth\":0,\"ticks\":\"\"},\"colorscale\":[[0.0,\"#0d0887\"],[0.1111111111111111,\"#46039f\"],[0.2222222222222222,\"#7201a8\"],[0.3333333333333333,\"#9c179e\"],[0.4444444444444444,\"#bd3786\"],[0.5555555555555556,\"#d8576b\"],[0.6666666666666666,\"#ed7953\"],[0.7777777777777778,\"#fb9f3a\"],[0.8888888888888888,\"#fdca26\"],[1.0,\"#f0f921\"]]}],\"heatmap\":[{\"type\":\"heatmap\",\"colorbar\":{\"outlinewidth\":0,\"ticks\":\"\"},\"colorscale\":[[0.0,\"#0d0887\"],[0.1111111111111111,\"#46039f\"],[0.2222222222222222,\"#7201a8\"],[0.3333333333333333,\"#9c179e\"],[0.4444444444444444,\"#bd3786\"],[0.5555555555555556,\"#d8576b\"],[0.6666666666666666,\"#ed7953\"],[0.7777777777777778,\"#fb9f3a\"],[0.8888888888888888,\"#fdca26\"],[1.0,\"#f0f921\"]]}],\"heatmapgl\":[{\"type\":\"heatmapgl\",\"colorbar\":{\"outlinewidth\":0,\"ticks\":\"\"},\"colorscale\":[[0.0,\"#0d0887\"],[0.1111111111111111,\"#46039f\"],[0.2222222222222222,\"#7201a8\"],[0.3333333333333333,\"#9c179e\"],[0.4444444444444444,\"#bd3786\"],[0.5555555555555556,\"#d8576b\"],[0.6666666666666666,\"#ed7953\"],[0.7777777777777778,\"#fb9f3a\"],[0.8888888888888888,\"#fdca26\"],[1.0,\"#f0f921\"]]}],\"contourcarpet\":[{\"type\":\"contourcarpet\",\"colorbar\":{\"outlinewidth\":0,\"ticks\":\"\"}}],\"contour\":[{\"type\":\"contour\",\"colorbar\":{\"outlinewidth\":0,\"ticks\":\"\"},\"colorscale\":[[0.0,\"#0d0887\"],[0.1111111111111111,\"#46039f\"],[0.2222222222222222,\"#7201a8\"],[0.3333333333333333,\"#9c179e\"],[0.4444444444444444,\"#bd3786\"],[0.5555555555555556,\"#d8576b\"],[0.6666666666666666,\"#ed7953\"],[0.7777777777777778,\"#fb9f3a\"],[0.8888888888888888,\"#fdca26\"],[1.0,\"#f0f921\"]]}],\"surface\":[{\"type\":\"surface\",\"colorbar\":{\"outlinewidth\":0,\"ticks\":\"\"},\"colorscale\":[[0.0,\"#0d0887\"],[0.1111111111111111,\"#46039f\"],[0.2222222222222222,\"#7201a8\"],[0.3333333333333333,\"#9c179e\"],[0.4444444444444444,\"#bd3786\"],[0.5555555555555556,\"#d8576b\"],[0.6666666666666666,\"#ed7953\"],[0.7777777777777778,\"#fb9f3a\"],[0.8888888888888888,\"#fdca26\"],[1.0,\"#f0f921\"]]}],\"mesh3d\":[{\"type\":\"mesh3d\",\"colorbar\":{\"outlinewidth\":0,\"ticks\":\"\"}}],\"scatter\":[{\"fillpattern\":{\"fillmode\":\"overlay\",\"size\":10,\"solidity\":0.2},\"type\":\"scatter\"}],\"parcoords\":[{\"type\":\"parcoords\",\"line\":{\"colorbar\":{\"outlinewidth\":0,\"ticks\":\"\"}}}],\"scatterpolargl\":[{\"type\":\"scatterpolargl\",\"marker\":{\"colorbar\":{\"outlinewidth\":0,\"ticks\":\"\"}}}],\"bar\":[{\"error_x\":{\"color\":\"#2a3f5f\"},\"error_y\":{\"color\":\"#2a3f5f\"},\"marker\":{\"line\":{\"color\":\"#E5ECF6\",\"width\":0.5},\"pattern\":{\"fillmode\":\"overlay\",\"size\":10,\"solidity\":0.2}},\"type\":\"bar\"}],\"scattergeo\":[{\"type\":\"scattergeo\",\"marker\":{\"colorbar\":{\"outlinewidth\":0,\"ticks\":\"\"}}}],\"scatterpolar\":[{\"type\":\"scatterpolar\",\"marker\":{\"colorbar\":{\"outlinewidth\":0,\"ticks\":\"\"}}}],\"histogram\":[{\"marker\":{\"pattern\":{\"fillmode\":\"overlay\",\"size\":10,\"solidity\":0.2}},\"type\":\"histogram\"}],\"scattergl\":[{\"type\":\"scattergl\",\"marker\":{\"colorbar\":{\"outlinewidth\":0,\"ticks\":\"\"}}}],\"scatter3d\":[{\"type\":\"scatter3d\",\"line\":{\"colorbar\":{\"outlinewidth\":0,\"ticks\":\"\"}},\"marker\":{\"colorbar\":{\"outlinewidth\":0,\"ticks\":\"\"}}}],\"scattermapbox\":[{\"type\":\"scattermapbox\",\"marker\":{\"colorbar\":{\"outlinewidth\":0,\"ticks\":\"\"}}}],\"scatterternary\":[{\"type\":\"scatterternary\",\"marker\":{\"colorbar\":{\"outlinewidth\":0,\"ticks\":\"\"}}}],\"scattercarpet\":[{\"type\":\"scattercarpet\",\"marker\":{\"colorbar\":{\"outlinewidth\":0,\"ticks\":\"\"}}}],\"carpet\":[{\"aaxis\":{\"endlinecolor\":\"#2a3f5f\",\"gridcolor\":\"white\",\"linecolor\":\"white\",\"minorgridcolor\":\"white\",\"startlinecolor\":\"#2a3f5f\"},\"baxis\":{\"endlinecolor\":\"#2a3f5f\",\"gridcolor\":\"white\",\"linecolor\":\"white\",\"minorgridcolor\":\"white\",\"startlinecolor\":\"#2a3f5f\"},\"type\":\"carpet\"}],\"table\":[{\"cells\":{\"fill\":{\"color\":\"#EBF0F8\"},\"line\":{\"color\":\"white\"}},\"header\":{\"fill\":{\"color\":\"#C8D4E3\"},\"line\":{\"color\":\"white\"}},\"type\":\"table\"}],\"barpolar\":[{\"marker\":{\"line\":{\"color\":\"#E5ECF6\",\"width\":0.5},\"pattern\":{\"fillmode\":\"overlay\",\"size\":10,\"solidity\":0.2}},\"type\":\"barpolar\"}],\"pie\":[{\"automargin\":true,\"type\":\"pie\"}]},\"layout\":{\"autotypenumbers\":\"strict\",\"colorway\":[\"#636efa\",\"#EF553B\",\"#00cc96\",\"#ab63fa\",\"#FFA15A\",\"#19d3f3\",\"#FF6692\",\"#B6E880\",\"#FF97FF\",\"#FECB52\"],\"font\":{\"color\":\"#2a3f5f\"},\"hovermode\":\"closest\",\"hoverlabel\":{\"align\":\"left\"},\"paper_bgcolor\":\"white\",\"plot_bgcolor\":\"#E5ECF6\",\"polar\":{\"bgcolor\":\"#E5ECF6\",\"angularaxis\":{\"gridcolor\":\"white\",\"linecolor\":\"white\",\"ticks\":\"\"},\"radialaxis\":{\"gridcolor\":\"white\",\"linecolor\":\"white\",\"ticks\":\"\"}},\"ternary\":{\"bgcolor\":\"#E5ECF6\",\"aaxis\":{\"gridcolor\":\"white\",\"linecolor\":\"white\",\"ticks\":\"\"},\"baxis\":{\"gridcolor\":\"white\",\"linecolor\":\"white\",\"ticks\":\"\"},\"caxis\":{\"gridcolor\":\"white\",\"linecolor\":\"white\",\"ticks\":\"\"}},\"coloraxis\":{\"colorbar\":{\"outlinewidth\":0,\"ticks\":\"\"}},\"colorscale\":{\"sequential\":[[0.0,\"#0d0887\"],[0.1111111111111111,\"#46039f\"],[0.2222222222222222,\"#7201a8\"],[0.3333333333333333,\"#9c179e\"],[0.4444444444444444,\"#bd3786\"],[0.5555555555555556,\"#d8576b\"],[0.6666666666666666,\"#ed7953\"],[0.7777777777777778,\"#fb9f3a\"],[0.8888888888888888,\"#fdca26\"],[1.0,\"#f0f921\"]],\"sequentialminus\":[[0.0,\"#0d0887\"],[0.1111111111111111,\"#46039f\"],[0.2222222222222222,\"#7201a8\"],[0.3333333333333333,\"#9c179e\"],[0.4444444444444444,\"#bd3786\"],[0.5555555555555556,\"#d8576b\"],[0.6666666666666666,\"#ed7953\"],[0.7777777777777778,\"#fb9f3a\"],[0.8888888888888888,\"#fdca26\"],[1.0,\"#f0f921\"]],\"diverging\":[[0,\"#8e0152\"],[0.1,\"#c51b7d\"],[0.2,\"#de77ae\"],[0.3,\"#f1b6da\"],[0.4,\"#fde0ef\"],[0.5,\"#f7f7f7\"],[0.6,\"#e6f5d0\"],[0.7,\"#b8e186\"],[0.8,\"#7fbc41\"],[0.9,\"#4d9221\"],[1,\"#276419\"]]},\"xaxis\":{\"gridcolor\":\"white\",\"linecolor\":\"white\",\"ticks\":\"\",\"title\":{\"standoff\":15},\"zerolinecolor\":\"white\",\"automargin\":true,\"zerolinewidth\":2},\"yaxis\":{\"gridcolor\":\"white\",\"linecolor\":\"white\",\"ticks\":\"\",\"title\":{\"standoff\":15},\"zerolinecolor\":\"white\",\"automargin\":true,\"zerolinewidth\":2},\"scene\":{\"xaxis\":{\"backgroundcolor\":\"#E5ECF6\",\"gridcolor\":\"white\",\"linecolor\":\"white\",\"showbackground\":true,\"ticks\":\"\",\"zerolinecolor\":\"white\",\"gridwidth\":2},\"yaxis\":{\"backgroundcolor\":\"#E5ECF6\",\"gridcolor\":\"white\",\"linecolor\":\"white\",\"showbackground\":true,\"ticks\":\"\",\"zerolinecolor\":\"white\",\"gridwidth\":2},\"zaxis\":{\"backgroundcolor\":\"#E5ECF6\",\"gridcolor\":\"white\",\"linecolor\":\"white\",\"showbackground\":true,\"ticks\":\"\",\"zerolinecolor\":\"white\",\"gridwidth\":2}},\"shapedefaults\":{\"line\":{\"color\":\"#2a3f5f\"}},\"annotationdefaults\":{\"arrowcolor\":\"#2a3f5f\",\"arrowhead\":0,\"arrowwidth\":1},\"geo\":{\"bgcolor\":\"white\",\"landcolor\":\"#E5ECF6\",\"subunitcolor\":\"white\",\"showland\":true,\"showlakes\":true,\"lakecolor\":\"white\"},\"title\":{\"x\":0.05},\"mapbox\":{\"style\":\"light\"}}},\"xaxis\":{\"anchor\":\"y\",\"domain\":[0.0,0.48],\"title\":{\"text\":\"mrate\"}},\"yaxis\":{\"anchor\":\"x\",\"domain\":[0.0,1.0],\"title\":{\"text\":\"mse\"}},\"xaxis2\":{\"anchor\":\"y2\",\"domain\":[0.5,0.98],\"matches\":\"x\",\"title\":{\"text\":\"mrate\"}},\"yaxis2\":{\"anchor\":\"x2\",\"domain\":[0.0,1.0],\"matches\":\"y\",\"showticklabels\":false},\"annotations\":[{\"font\":{},\"showarrow\":false,\"text\":\"inter_method=linear\",\"x\":0.24,\"xanchor\":\"center\",\"xref\":\"paper\",\"y\":1.0,\"yanchor\":\"bottom\",\"yref\":\"paper\"},{\"font\":{},\"showarrow\":false,\"text\":\"inter_method=nearest\",\"x\":0.74,\"xanchor\":\"center\",\"xref\":\"paper\",\"y\":1.0,\"yanchor\":\"bottom\",\"yref\":\"paper\"},{\"font\":{},\"showarrow\":false,\"text\":\"nof_filters=12\",\"textangle\":90,\"x\":0.98,\"xanchor\":\"left\",\"xref\":\"paper\",\"y\":0.5,\"yanchor\":\"middle\",\"yref\":\"paper\"}],\"legend\":{\"title\":{\"text\":\"method\"},\"tracegroupgap\":0},\"margin\":{\"t\":60},\"boxmode\":\"group\",\"height\":600},                        {\"responsive\": true}                    ).then(function(){\n",
       "                            \n",
       "var gd = document.getElementById('68190d71-96d2-44cc-8ae7-1737c59d7b4a');\n",
       "var x = new MutationObserver(function (mutations, observer) {{\n",
       "        var display = window.getComputedStyle(gd).display;\n",
       "        if (!display || display === 'none') {{\n",
       "            console.log([gd, 'removed!']);\n",
       "            Plotly.purge(gd);\n",
       "            observer.disconnect();\n",
       "        }}\n",
       "}});\n",
       "\n",
       "// Listen for the removal of the full notebook cells\n",
       "var notebookContainer = gd.closest('#notebook-container');\n",
       "if (notebookContainer) {{\n",
       "    x.observe(notebookContainer, {childList: true});\n",
       "}}\n",
       "\n",
       "// Listen for the clearing of the current output cell\n",
       "var outputEl = gd.closest('.output');\n",
       "if (outputEl) {{\n",
       "    x.observe(outputEl, {childList: true});\n",
       "}}\n",
       "\n",
       "                        })                };                });            </script>        </div>"
      ]
     },
     "metadata": {},
     "output_type": "display_data"
    }
   ],
   "source": [
    "data.query(\"method!='GNAR' and mtype =='rand'\").plot.box(backend='plotly',x='mrate',color='method',y='mse',facet_col='inter_method',facet_row='nof_filters',height=600)\n",
    "\n"
   ]
  },
  {
   "cell_type": "markdown",
   "id": "07861e25-b572-4d9d-8ab2-120ce17d294f",
   "metadata": {},
   "source": [
    "## Block"
   ]
  },
  {
   "cell_type": "code",
   "execution_count": 37,
   "id": "1d2b0683-7351-4062-bec3-cacfba1b48f4",
   "metadata": {},
   "outputs": [
    {
     "data": {
      "application/vnd.plotly.v1+json": {
       "config": {
        "plotlyServerURL": "https://plot.ly"
       },
       "data": [
        {
         "alignmentgroup": "True",
         "hovertemplate": "method=STGCN<br>nof_filters=12<br>inter_method=linear<br>mrate=%{x}<br>mse=%{y}<extra></extra>",
         "legendgroup": "STGCN",
         "marker": {
          "color": "#636efa"
         },
         "name": "STGCN",
         "notched": false,
         "offsetgroup": "STGCN",
         "orientation": "v",
         "showlegend": true,
         "type": "box",
         "x": [
          0.0119904076738609,
          0.0119904076738609,
          0.0119904076738609,
          0.0119904076738609,
          0.0119904076738609,
          0.0119904076738609,
          0.0119904076738609,
          0.0119904076738609,
          0.0119904076738609,
          0.0119904076738609,
          0.0119904076738609,
          0.0119904076738609,
          0.0119904076738609,
          0.0119904076738609,
          0.0119904076738609,
          0.0119904076738609,
          0.0119904076738609,
          0.0119904076738609,
          0.0119904076738609,
          0.0119904076738609,
          0.0119904076738609,
          0.0119904076738609,
          0.0119904076738609,
          0.0119904076738609,
          0.0119904076738609,
          0.0119904076738609,
          0.0119904076738609,
          0.0119904076738609,
          0.0119904076738609,
          0.0119904076738609
         ],
         "x0": " ",
         "xaxis": "x",
         "y": [
          0.8745663166046143,
          0.8733583092689514,
          0.8151822686195374,
          0.7773987054824829,
          0.9247386455535888,
          0.9670796394348145,
          0.9078099131584167,
          0.8436244130134583,
          0.8099518418312073,
          0.9043350219726562,
          0.8084923624992371,
          0.8533026576042175,
          0.8138488531112671,
          0.8273868560791016,
          0.8616682887077332,
          0.873087465763092,
          0.8519457578659058,
          0.8490082025527954,
          0.8548963069915771,
          0.8684113025665283,
          0.8736761808395386,
          0.8899630308151245,
          0.8491718173027039,
          0.7886509895324707,
          0.8638713955879211,
          0.8324243426322937,
          0.8476617932319641,
          0.9508675336837769,
          0.8669463992118835,
          0.900771141052246
         ],
         "y0": " ",
         "yaxis": "y"
        },
        {
         "alignmentgroup": "True",
         "hovertemplate": "method=STGCN<br>nof_filters=12<br>inter_method=nearest<br>mrate=%{x}<br>mse=%{y}<extra></extra>",
         "legendgroup": "STGCN",
         "marker": {
          "color": "#636efa"
         },
         "name": "STGCN",
         "notched": false,
         "offsetgroup": "STGCN",
         "orientation": "v",
         "showlegend": false,
         "type": "box",
         "x": [
          0.0119904076738609,
          0.0119904076738609,
          0.0119904076738609,
          0.0119904076738609,
          0.0119904076738609,
          0.0119904076738609,
          0.0119904076738609,
          0.0119904076738609,
          0.0119904076738609,
          0.0119904076738609,
          0.0119904076738609,
          0.0119904076738609,
          0.0119904076738609,
          0.0119904076738609,
          0.0119904076738609,
          0.0119904076738609,
          0.0119904076738609,
          0.0119904076738609,
          0.0119904076738609,
          0.0119904076738609,
          0.0119904076738609,
          0.0119904076738609,
          0.0119904076738609,
          0.0119904076738609,
          0.0119904076738609,
          0.0119904076738609,
          0.0119904076738609,
          0.0119904076738609,
          0.0119904076738609,
          0.0119904076738609
         ],
         "x0": " ",
         "xaxis": "x2",
         "y": [
          0.7934073209762573,
          0.8259259462356567,
          0.8464407920837402,
          0.8124232888221741,
          0.8422480225563049,
          0.8537935614585876,
          0.8258975744247437,
          0.886261522769928,
          0.8113890290260315,
          0.790866494178772,
          0.8471032977104187,
          0.8847035765647888,
          0.8442973494529724,
          0.8274465799331665,
          0.9149696826934814,
          0.8914812207221985,
          0.8325901031494141,
          0.8309634923934937,
          0.8787035942077637,
          0.8018369674682617,
          0.8737539649009705,
          0.8869156837463379,
          0.8400784730911255,
          0.8891814947128296,
          0.9569575786590576,
          0.8393293619155884,
          0.9119911193847656,
          0.8170709013938904,
          0.8099734783172607,
          0.857775092124939
         ],
         "y0": " ",
         "yaxis": "y2"
        },
        {
         "alignmentgroup": "True",
         "hovertemplate": "method=IT-STGCN<br>nof_filters=12<br>inter_method=linear<br>mrate=%{x}<br>mse=%{y}<extra></extra>",
         "legendgroup": "IT-STGCN",
         "marker": {
          "color": "#EF553B"
         },
         "name": "IT-STGCN",
         "notched": false,
         "offsetgroup": "IT-STGCN",
         "orientation": "v",
         "showlegend": true,
         "type": "box",
         "x": [
          0.0119904076738609,
          0.0119904076738609,
          0.0119904076738609,
          0.0119904076738609,
          0.0119904076738609,
          0.0119904076738609,
          0.0119904076738609,
          0.0119904076738609,
          0.0119904076738609,
          0.0119904076738609,
          0.0119904076738609,
          0.0119904076738609,
          0.0119904076738609,
          0.0119904076738609,
          0.0119904076738609,
          0.0119904076738609,
          0.0119904076738609,
          0.0119904076738609,
          0.0119904076738609,
          0.0119904076738609,
          0.0119904076738609,
          0.0119904076738609,
          0.0119904076738609,
          0.0119904076738609,
          0.0119904076738609,
          0.0119904076738609,
          0.0119904076738609,
          0.0119904076738609,
          0.0119904076738609,
          0.0119904076738609
         ],
         "x0": " ",
         "xaxis": "x",
         "y": [
          0.7909567952156067,
          0.828936755657196,
          0.8494626879692078,
          0.8288426399230957,
          0.8614065051078796,
          0.8676713705062866,
          0.8605337738990784,
          0.944893717765808,
          0.8728171586990356,
          0.8126055002212524,
          0.8190386295318604,
          0.8172898292541504,
          0.8064809441566467,
          0.8163353204727173,
          0.7927094101905823,
          0.8486551642417908,
          0.8100093007087708,
          0.8569185733795166,
          0.8109008073806763,
          0.8898353576660156,
          0.8594036102294922,
          0.8617992997169495,
          0.7805199027061462,
          0.9124087691307068,
          0.9176732301712036,
          0.8692806959152222,
          0.850612998008728,
          0.8091936111450195,
          0.8527892231941223,
          0.8439353108406067
         ],
         "y0": " ",
         "yaxis": "y"
        },
        {
         "alignmentgroup": "True",
         "hovertemplate": "method=IT-STGCN<br>nof_filters=12<br>inter_method=nearest<br>mrate=%{x}<br>mse=%{y}<extra></extra>",
         "legendgroup": "IT-STGCN",
         "marker": {
          "color": "#EF553B"
         },
         "name": "IT-STGCN",
         "notched": false,
         "offsetgroup": "IT-STGCN",
         "orientation": "v",
         "showlegend": false,
         "type": "box",
         "x": [
          0.0119904076738609,
          0.0119904076738609,
          0.0119904076738609,
          0.0119904076738609,
          0.0119904076738609,
          0.0119904076738609,
          0.0119904076738609,
          0.0119904076738609,
          0.0119904076738609,
          0.0119904076738609,
          0.0119904076738609,
          0.0119904076738609,
          0.0119904076738609,
          0.0119904076738609,
          0.0119904076738609,
          0.0119904076738609,
          0.0119904076738609,
          0.0119904076738609,
          0.0119904076738609,
          0.0119904076738609,
          0.0119904076738609,
          0.0119904076738609,
          0.0119904076738609,
          0.0119904076738609,
          0.0119904076738609,
          0.0119904076738609,
          0.0119904076738609,
          0.0119904076738609,
          0.0119904076738609,
          0.0119904076738609
         ],
         "x0": " ",
         "xaxis": "x2",
         "y": [
          0.866681694984436,
          0.8112157583236694,
          0.8537060618400574,
          0.970666229724884,
          0.9201626777648926,
          0.7966867685317993,
          0.8448231220245361,
          0.8157822489738464,
          0.8902512192726135,
          0.8809186220169067,
          0.8848016262054443,
          0.8331236243247986,
          0.7930017113685608,
          0.8964235186576843,
          0.8117979168891907,
          0.7863731384277344,
          0.8417338132858276,
          0.8363918662071228,
          0.8957250714302063,
          0.8670894503593445,
          0.8070386648178101,
          0.8534665703773499,
          0.8461655974388123,
          0.8171049952507019,
          0.7956928610801697,
          0.8716376423835754,
          0.8118943572044373,
          0.9346495866775512,
          0.8299874067306519,
          0.8600180149078369
         ],
         "y0": " ",
         "yaxis": "y2"
        }
       ],
       "layout": {
        "annotations": [
         {
          "font": {},
          "showarrow": false,
          "text": "inter_method=linear",
          "x": 0.24,
          "xanchor": "center",
          "xref": "paper",
          "y": 1,
          "yanchor": "bottom",
          "yref": "paper"
         },
         {
          "font": {},
          "showarrow": false,
          "text": "inter_method=nearest",
          "x": 0.74,
          "xanchor": "center",
          "xref": "paper",
          "y": 1,
          "yanchor": "bottom",
          "yref": "paper"
         },
         {
          "font": {},
          "showarrow": false,
          "text": "nof_filters=12",
          "textangle": 90,
          "x": 0.98,
          "xanchor": "left",
          "xref": "paper",
          "y": 0.5,
          "yanchor": "middle",
          "yref": "paper"
         }
        ],
        "autosize": true,
        "boxmode": "group",
        "legend": {
         "title": {
          "text": "method"
         },
         "tracegroupgap": 0
        },
        "margin": {
         "t": 60
        },
        "template": {
         "data": {
          "bar": [
           {
            "error_x": {
             "color": "#2a3f5f"
            },
            "error_y": {
             "color": "#2a3f5f"
            },
            "marker": {
             "line": {
              "color": "#E5ECF6",
              "width": 0.5
             },
             "pattern": {
              "fillmode": "overlay",
              "size": 10,
              "solidity": 0.2
             }
            },
            "type": "bar"
           }
          ],
          "barpolar": [
           {
            "marker": {
             "line": {
              "color": "#E5ECF6",
              "width": 0.5
             },
             "pattern": {
              "fillmode": "overlay",
              "size": 10,
              "solidity": 0.2
             }
            },
            "type": "barpolar"
           }
          ],
          "carpet": [
           {
            "aaxis": {
             "endlinecolor": "#2a3f5f",
             "gridcolor": "white",
             "linecolor": "white",
             "minorgridcolor": "white",
             "startlinecolor": "#2a3f5f"
            },
            "baxis": {
             "endlinecolor": "#2a3f5f",
             "gridcolor": "white",
             "linecolor": "white",
             "minorgridcolor": "white",
             "startlinecolor": "#2a3f5f"
            },
            "type": "carpet"
           }
          ],
          "choropleth": [
           {
            "colorbar": {
             "outlinewidth": 0,
             "ticks": ""
            },
            "type": "choropleth"
           }
          ],
          "contour": [
           {
            "colorbar": {
             "outlinewidth": 0,
             "ticks": ""
            },
            "colorscale": [
             [
              0,
              "#0d0887"
             ],
             [
              0.1111111111111111,
              "#46039f"
             ],
             [
              0.2222222222222222,
              "#7201a8"
             ],
             [
              0.3333333333333333,
              "#9c179e"
             ],
             [
              0.4444444444444444,
              "#bd3786"
             ],
             [
              0.5555555555555556,
              "#d8576b"
             ],
             [
              0.6666666666666666,
              "#ed7953"
             ],
             [
              0.7777777777777778,
              "#fb9f3a"
             ],
             [
              0.8888888888888888,
              "#fdca26"
             ],
             [
              1,
              "#f0f921"
             ]
            ],
            "type": "contour"
           }
          ],
          "contourcarpet": [
           {
            "colorbar": {
             "outlinewidth": 0,
             "ticks": ""
            },
            "type": "contourcarpet"
           }
          ],
          "heatmap": [
           {
            "colorbar": {
             "outlinewidth": 0,
             "ticks": ""
            },
            "colorscale": [
             [
              0,
              "#0d0887"
             ],
             [
              0.1111111111111111,
              "#46039f"
             ],
             [
              0.2222222222222222,
              "#7201a8"
             ],
             [
              0.3333333333333333,
              "#9c179e"
             ],
             [
              0.4444444444444444,
              "#bd3786"
             ],
             [
              0.5555555555555556,
              "#d8576b"
             ],
             [
              0.6666666666666666,
              "#ed7953"
             ],
             [
              0.7777777777777778,
              "#fb9f3a"
             ],
             [
              0.8888888888888888,
              "#fdca26"
             ],
             [
              1,
              "#f0f921"
             ]
            ],
            "type": "heatmap"
           }
          ],
          "heatmapgl": [
           {
            "colorbar": {
             "outlinewidth": 0,
             "ticks": ""
            },
            "colorscale": [
             [
              0,
              "#0d0887"
             ],
             [
              0.1111111111111111,
              "#46039f"
             ],
             [
              0.2222222222222222,
              "#7201a8"
             ],
             [
              0.3333333333333333,
              "#9c179e"
             ],
             [
              0.4444444444444444,
              "#bd3786"
             ],
             [
              0.5555555555555556,
              "#d8576b"
             ],
             [
              0.6666666666666666,
              "#ed7953"
             ],
             [
              0.7777777777777778,
              "#fb9f3a"
             ],
             [
              0.8888888888888888,
              "#fdca26"
             ],
             [
              1,
              "#f0f921"
             ]
            ],
            "type": "heatmapgl"
           }
          ],
          "histogram": [
           {
            "marker": {
             "pattern": {
              "fillmode": "overlay",
              "size": 10,
              "solidity": 0.2
             }
            },
            "type": "histogram"
           }
          ],
          "histogram2d": [
           {
            "colorbar": {
             "outlinewidth": 0,
             "ticks": ""
            },
            "colorscale": [
             [
              0,
              "#0d0887"
             ],
             [
              0.1111111111111111,
              "#46039f"
             ],
             [
              0.2222222222222222,
              "#7201a8"
             ],
             [
              0.3333333333333333,
              "#9c179e"
             ],
             [
              0.4444444444444444,
              "#bd3786"
             ],
             [
              0.5555555555555556,
              "#d8576b"
             ],
             [
              0.6666666666666666,
              "#ed7953"
             ],
             [
              0.7777777777777778,
              "#fb9f3a"
             ],
             [
              0.8888888888888888,
              "#fdca26"
             ],
             [
              1,
              "#f0f921"
             ]
            ],
            "type": "histogram2d"
           }
          ],
          "histogram2dcontour": [
           {
            "colorbar": {
             "outlinewidth": 0,
             "ticks": ""
            },
            "colorscale": [
             [
              0,
              "#0d0887"
             ],
             [
              0.1111111111111111,
              "#46039f"
             ],
             [
              0.2222222222222222,
              "#7201a8"
             ],
             [
              0.3333333333333333,
              "#9c179e"
             ],
             [
              0.4444444444444444,
              "#bd3786"
             ],
             [
              0.5555555555555556,
              "#d8576b"
             ],
             [
              0.6666666666666666,
              "#ed7953"
             ],
             [
              0.7777777777777778,
              "#fb9f3a"
             ],
             [
              0.8888888888888888,
              "#fdca26"
             ],
             [
              1,
              "#f0f921"
             ]
            ],
            "type": "histogram2dcontour"
           }
          ],
          "mesh3d": [
           {
            "colorbar": {
             "outlinewidth": 0,
             "ticks": ""
            },
            "type": "mesh3d"
           }
          ],
          "parcoords": [
           {
            "line": {
             "colorbar": {
              "outlinewidth": 0,
              "ticks": ""
             }
            },
            "type": "parcoords"
           }
          ],
          "pie": [
           {
            "automargin": true,
            "type": "pie"
           }
          ],
          "scatter": [
           {
            "fillpattern": {
             "fillmode": "overlay",
             "size": 10,
             "solidity": 0.2
            },
            "type": "scatter"
           }
          ],
          "scatter3d": [
           {
            "line": {
             "colorbar": {
              "outlinewidth": 0,
              "ticks": ""
             }
            },
            "marker": {
             "colorbar": {
              "outlinewidth": 0,
              "ticks": ""
             }
            },
            "type": "scatter3d"
           }
          ],
          "scattercarpet": [
           {
            "marker": {
             "colorbar": {
              "outlinewidth": 0,
              "ticks": ""
             }
            },
            "type": "scattercarpet"
           }
          ],
          "scattergeo": [
           {
            "marker": {
             "colorbar": {
              "outlinewidth": 0,
              "ticks": ""
             }
            },
            "type": "scattergeo"
           }
          ],
          "scattergl": [
           {
            "marker": {
             "colorbar": {
              "outlinewidth": 0,
              "ticks": ""
             }
            },
            "type": "scattergl"
           }
          ],
          "scattermapbox": [
           {
            "marker": {
             "colorbar": {
              "outlinewidth": 0,
              "ticks": ""
             }
            },
            "type": "scattermapbox"
           }
          ],
          "scatterpolar": [
           {
            "marker": {
             "colorbar": {
              "outlinewidth": 0,
              "ticks": ""
             }
            },
            "type": "scatterpolar"
           }
          ],
          "scatterpolargl": [
           {
            "marker": {
             "colorbar": {
              "outlinewidth": 0,
              "ticks": ""
             }
            },
            "type": "scatterpolargl"
           }
          ],
          "scatterternary": [
           {
            "marker": {
             "colorbar": {
              "outlinewidth": 0,
              "ticks": ""
             }
            },
            "type": "scatterternary"
           }
          ],
          "surface": [
           {
            "colorbar": {
             "outlinewidth": 0,
             "ticks": ""
            },
            "colorscale": [
             [
              0,
              "#0d0887"
             ],
             [
              0.1111111111111111,
              "#46039f"
             ],
             [
              0.2222222222222222,
              "#7201a8"
             ],
             [
              0.3333333333333333,
              "#9c179e"
             ],
             [
              0.4444444444444444,
              "#bd3786"
             ],
             [
              0.5555555555555556,
              "#d8576b"
             ],
             [
              0.6666666666666666,
              "#ed7953"
             ],
             [
              0.7777777777777778,
              "#fb9f3a"
             ],
             [
              0.8888888888888888,
              "#fdca26"
             ],
             [
              1,
              "#f0f921"
             ]
            ],
            "type": "surface"
           }
          ],
          "table": [
           {
            "cells": {
             "fill": {
              "color": "#EBF0F8"
             },
             "line": {
              "color": "white"
             }
            },
            "header": {
             "fill": {
              "color": "#C8D4E3"
             },
             "line": {
              "color": "white"
             }
            },
            "type": "table"
           }
          ]
         },
         "layout": {
          "annotationdefaults": {
           "arrowcolor": "#2a3f5f",
           "arrowhead": 0,
           "arrowwidth": 1
          },
          "autotypenumbers": "strict",
          "coloraxis": {
           "colorbar": {
            "outlinewidth": 0,
            "ticks": ""
           }
          },
          "colorscale": {
           "diverging": [
            [
             0,
             "#8e0152"
            ],
            [
             0.1,
             "#c51b7d"
            ],
            [
             0.2,
             "#de77ae"
            ],
            [
             0.3,
             "#f1b6da"
            ],
            [
             0.4,
             "#fde0ef"
            ],
            [
             0.5,
             "#f7f7f7"
            ],
            [
             0.6,
             "#e6f5d0"
            ],
            [
             0.7,
             "#b8e186"
            ],
            [
             0.8,
             "#7fbc41"
            ],
            [
             0.9,
             "#4d9221"
            ],
            [
             1,
             "#276419"
            ]
           ],
           "sequential": [
            [
             0,
             "#0d0887"
            ],
            [
             0.1111111111111111,
             "#46039f"
            ],
            [
             0.2222222222222222,
             "#7201a8"
            ],
            [
             0.3333333333333333,
             "#9c179e"
            ],
            [
             0.4444444444444444,
             "#bd3786"
            ],
            [
             0.5555555555555556,
             "#d8576b"
            ],
            [
             0.6666666666666666,
             "#ed7953"
            ],
            [
             0.7777777777777778,
             "#fb9f3a"
            ],
            [
             0.8888888888888888,
             "#fdca26"
            ],
            [
             1,
             "#f0f921"
            ]
           ],
           "sequentialminus": [
            [
             0,
             "#0d0887"
            ],
            [
             0.1111111111111111,
             "#46039f"
            ],
            [
             0.2222222222222222,
             "#7201a8"
            ],
            [
             0.3333333333333333,
             "#9c179e"
            ],
            [
             0.4444444444444444,
             "#bd3786"
            ],
            [
             0.5555555555555556,
             "#d8576b"
            ],
            [
             0.6666666666666666,
             "#ed7953"
            ],
            [
             0.7777777777777778,
             "#fb9f3a"
            ],
            [
             0.8888888888888888,
             "#fdca26"
            ],
            [
             1,
             "#f0f921"
            ]
           ]
          },
          "colorway": [
           "#636efa",
           "#EF553B",
           "#00cc96",
           "#ab63fa",
           "#FFA15A",
           "#19d3f3",
           "#FF6692",
           "#B6E880",
           "#FF97FF",
           "#FECB52"
          ],
          "font": {
           "color": "#2a3f5f"
          },
          "geo": {
           "bgcolor": "white",
           "lakecolor": "white",
           "landcolor": "#E5ECF6",
           "showlakes": true,
           "showland": true,
           "subunitcolor": "white"
          },
          "hoverlabel": {
           "align": "left"
          },
          "hovermode": "closest",
          "mapbox": {
           "style": "light"
          },
          "paper_bgcolor": "white",
          "plot_bgcolor": "#E5ECF6",
          "polar": {
           "angularaxis": {
            "gridcolor": "white",
            "linecolor": "white",
            "ticks": ""
           },
           "bgcolor": "#E5ECF6",
           "radialaxis": {
            "gridcolor": "white",
            "linecolor": "white",
            "ticks": ""
           }
          },
          "scene": {
           "xaxis": {
            "backgroundcolor": "#E5ECF6",
            "gridcolor": "white",
            "gridwidth": 2,
            "linecolor": "white",
            "showbackground": true,
            "ticks": "",
            "zerolinecolor": "white"
           },
           "yaxis": {
            "backgroundcolor": "#E5ECF6",
            "gridcolor": "white",
            "gridwidth": 2,
            "linecolor": "white",
            "showbackground": true,
            "ticks": "",
            "zerolinecolor": "white"
           },
           "zaxis": {
            "backgroundcolor": "#E5ECF6",
            "gridcolor": "white",
            "gridwidth": 2,
            "linecolor": "white",
            "showbackground": true,
            "ticks": "",
            "zerolinecolor": "white"
           }
          },
          "shapedefaults": {
           "line": {
            "color": "#2a3f5f"
           }
          },
          "ternary": {
           "aaxis": {
            "gridcolor": "white",
            "linecolor": "white",
            "ticks": ""
           },
           "baxis": {
            "gridcolor": "white",
            "linecolor": "white",
            "ticks": ""
           },
           "bgcolor": "#E5ECF6",
           "caxis": {
            "gridcolor": "white",
            "linecolor": "white",
            "ticks": ""
           }
          },
          "title": {
           "x": 0.05
          },
          "xaxis": {
           "automargin": true,
           "gridcolor": "white",
           "linecolor": "white",
           "ticks": "",
           "title": {
            "standoff": 15
           },
           "zerolinecolor": "white",
           "zerolinewidth": 2
          },
          "yaxis": {
           "automargin": true,
           "gridcolor": "white",
           "linecolor": "white",
           "ticks": "",
           "title": {
            "standoff": 15
           },
           "zerolinecolor": "white",
           "zerolinewidth": 2
          }
         }
        },
        "xaxis": {
         "anchor": "y",
         "autorange": true,
         "domain": [
          0,
          0.48
         ],
         "range": [
          -0.49166135978158754,
          0.5156421751293094
         ],
         "title": {
          "text": "mrate"
         },
         "type": "linear"
        },
        "xaxis2": {
         "anchor": "y2",
         "autorange": true,
         "domain": [
          0.5,
          0.98
         ],
         "matches": "x",
         "range": [
          -0.49166135978158754,
          0.5156421751293094
         ],
         "title": {
          "text": "mrate"
         },
         "type": "linear"
        },
        "yaxis": {
         "anchor": "x",
         "autorange": true,
         "domain": [
          0,
          1
         ],
         "range": [
          0.7666616208023496,
          0.9814033144050174
         ],
         "title": {
          "text": "mse"
         },
         "type": "linear"
        },
        "yaxis2": {
         "anchor": "x2",
         "autorange": true,
         "domain": [
          0,
          1
         ],
         "matches": "y",
         "range": [
          0.7666616208023496,
          0.9814033144050174
         ],
         "showticklabels": false,
         "type": "linear"
        }
       }
      },
      "image/png": "[encoded data removed]",
      "text/html": [
       "<div>                            <div id=\"a7158f14-88ce-4de3-8b73-1631020f91bc\" class=\"plotly-graph-div\" style=\"height:600px; width:100%;\"></div>            <script type=\"text/javascript\">                require([\"plotly\"], function(Plotly) {                    window.PLOTLYENV=window.PLOTLYENV || {};                                    if (document.getElementById(\"a7158f14-88ce-4de3-8b73-1631020f91bc\")) {                    Plotly.newPlot(                        \"a7158f14-88ce-4de3-8b73-1631020f91bc\",                        [{\"alignmentgroup\":\"True\",\"hovertemplate\":\"method=STGCN<br>nof_filters=12<br>inter_method=linear<br>mrate=%{x}<br>mse=%{y}<extra></extra>\",\"legendgroup\":\"STGCN\",\"marker\":{\"color\":\"#636efa\"},\"name\":\"STGCN\",\"notched\":false,\"offsetgroup\":\"STGCN\",\"orientation\":\"v\",\"showlegend\":true,\"x\":[0.0119904076738609,0.0119904076738609,0.0119904076738609,0.0119904076738609,0.0119904076738609,0.0119904076738609,0.0119904076738609,0.0119904076738609,0.0119904076738609,0.0119904076738609,0.0119904076738609,0.0119904076738609,0.0119904076738609,0.0119904076738609,0.0119904076738609,0.0119904076738609,0.0119904076738609,0.0119904076738609,0.0119904076738609,0.0119904076738609,0.0119904076738609,0.0119904076738609,0.0119904076738609,0.0119904076738609,0.0119904076738609,0.0119904076738609,0.0119904076738609,0.0119904076738609,0.0119904076738609,0.0119904076738609],\"x0\":\" \",\"xaxis\":\"x\",\"y\":[0.8745663166046143,0.8733583092689514,0.8151822686195374,0.7773987054824829,0.9247386455535888,0.9670796394348145,0.9078099131584167,0.8436244130134583,0.8099518418312073,0.9043350219726562,0.8084923624992371,0.8533026576042175,0.8138488531112671,0.8273868560791016,0.8616682887077332,0.873087465763092,0.8519457578659058,0.8490082025527954,0.8548963069915771,0.8684113025665283,0.8736761808395386,0.8899630308151245,0.8491718173027039,0.7886509895324707,0.8638713955879211,0.8324243426322937,0.8476617932319641,0.9508675336837769,0.8669463992118835,0.900771141052246],\"y0\":\" \",\"yaxis\":\"y\",\"type\":\"box\"},{\"alignmentgroup\":\"True\",\"hovertemplate\":\"method=STGCN<br>nof_filters=12<br>inter_method=nearest<br>mrate=%{x}<br>mse=%{y}<extra></extra>\",\"legendgroup\":\"STGCN\",\"marker\":{\"color\":\"#636efa\"},\"name\":\"STGCN\",\"notched\":false,\"offsetgroup\":\"STGCN\",\"orientation\":\"v\",\"showlegend\":false,\"x\":[0.0119904076738609,0.0119904076738609,0.0119904076738609,0.0119904076738609,0.0119904076738609,0.0119904076738609,0.0119904076738609,0.0119904076738609,0.0119904076738609,0.0119904076738609,0.0119904076738609,0.0119904076738609,0.0119904076738609,0.0119904076738609,0.0119904076738609,0.0119904076738609,0.0119904076738609,0.0119904076738609,0.0119904076738609,0.0119904076738609,0.0119904076738609,0.0119904076738609,0.0119904076738609,0.0119904076738609,0.0119904076738609,0.0119904076738609,0.0119904076738609,0.0119904076738609,0.0119904076738609,0.0119904076738609],\"x0\":\" \",\"xaxis\":\"x2\",\"y\":[0.7934073209762573,0.8259259462356567,0.8464407920837402,0.8124232888221741,0.8422480225563049,0.8537935614585876,0.8258975744247437,0.886261522769928,0.8113890290260315,0.790866494178772,0.8471032977104187,0.8847035765647888,0.8442973494529724,0.8274465799331665,0.9149696826934814,0.8914812207221985,0.8325901031494141,0.8309634923934937,0.8787035942077637,0.8018369674682617,0.8737539649009705,0.8869156837463379,0.8400784730911255,0.8891814947128296,0.9569575786590576,0.8393293619155884,0.9119911193847656,0.8170709013938904,0.8099734783172607,0.857775092124939],\"y0\":\" \",\"yaxis\":\"y2\",\"type\":\"box\"},{\"alignmentgroup\":\"True\",\"hovertemplate\":\"method=IT-STGCN<br>nof_filters=12<br>inter_method=linear<br>mrate=%{x}<br>mse=%{y}<extra></extra>\",\"legendgroup\":\"IT-STGCN\",\"marker\":{\"color\":\"#EF553B\"},\"name\":\"IT-STGCN\",\"notched\":false,\"offsetgroup\":\"IT-STGCN\",\"orientation\":\"v\",\"showlegend\":true,\"x\":[0.0119904076738609,0.0119904076738609,0.0119904076738609,0.0119904076738609,0.0119904076738609,0.0119904076738609,0.0119904076738609,0.0119904076738609,0.0119904076738609,0.0119904076738609,0.0119904076738609,0.0119904076738609,0.0119904076738609,0.0119904076738609,0.0119904076738609,0.0119904076738609,0.0119904076738609,0.0119904076738609,0.0119904076738609,0.0119904076738609,0.0119904076738609,0.0119904076738609,0.0119904076738609,0.0119904076738609,0.0119904076738609,0.0119904076738609,0.0119904076738609,0.0119904076738609,0.0119904076738609,0.0119904076738609],\"x0\":\" \",\"xaxis\":\"x\",\"y\":[0.7909567952156067,0.828936755657196,0.8494626879692078,0.8288426399230957,0.8614065051078796,0.8676713705062866,0.8605337738990784,0.944893717765808,0.8728171586990356,0.8126055002212524,0.8190386295318604,0.8172898292541504,0.8064809441566467,0.8163353204727173,0.7927094101905823,0.8486551642417908,0.8100093007087708,0.8569185733795166,0.8109008073806763,0.8898353576660156,0.8594036102294922,0.8617992997169495,0.7805199027061462,0.9124087691307068,0.9176732301712036,0.8692806959152222,0.850612998008728,0.8091936111450195,0.8527892231941223,0.8439353108406067],\"y0\":\" \",\"yaxis\":\"y\",\"type\":\"box\"},{\"alignmentgroup\":\"True\",\"hovertemplate\":\"method=IT-STGCN<br>nof_filters=12<br>inter_method=nearest<br>mrate=%{x}<br>mse=%{y}<extra></extra>\",\"legendgroup\":\"IT-STGCN\",\"marker\":{\"color\":\"#EF553B\"},\"name\":\"IT-STGCN\",\"notched\":false,\"offsetgroup\":\"IT-STGCN\",\"orientation\":\"v\",\"showlegend\":false,\"x\":[0.0119904076738609,0.0119904076738609,0.0119904076738609,0.0119904076738609,0.0119904076738609,0.0119904076738609,0.0119904076738609,0.0119904076738609,0.0119904076738609,0.0119904076738609,0.0119904076738609,0.0119904076738609,0.0119904076738609,0.0119904076738609,0.0119904076738609,0.0119904076738609,0.0119904076738609,0.0119904076738609,0.0119904076738609,0.0119904076738609,0.0119904076738609,0.0119904076738609,0.0119904076738609,0.0119904076738609,0.0119904076738609,0.0119904076738609,0.0119904076738609,0.0119904076738609,0.0119904076738609,0.0119904076738609],\"x0\":\" \",\"xaxis\":\"x2\",\"y\":[0.866681694984436,0.8112157583236694,0.8537060618400574,0.970666229724884,0.9201626777648926,0.7966867685317993,0.8448231220245361,0.8157822489738464,0.8902512192726135,0.8809186220169067,0.8848016262054443,0.8331236243247986,0.7930017113685608,0.8964235186576843,0.8117979168891907,0.7863731384277344,0.8417338132858276,0.8363918662071228,0.8957250714302063,0.8670894503593445,0.8070386648178101,0.8534665703773499,0.8461655974388123,0.8171049952507019,0.7956928610801697,0.8716376423835754,0.8118943572044373,0.9346495866775512,0.8299874067306519,0.8600180149078369],\"y0\":\" \",\"yaxis\":\"y2\",\"type\":\"box\"}],                        {\"template\":{\"data\":{\"histogram2dcontour\":[{\"type\":\"histogram2dcontour\",\"colorbar\":{\"outlinewidth\":0,\"ticks\":\"\"},\"colorscale\":[[0.0,\"#0d0887\"],[0.1111111111111111,\"#46039f\"],[0.2222222222222222,\"#7201a8\"],[0.3333333333333333,\"#9c179e\"],[0.4444444444444444,\"#bd3786\"],[0.5555555555555556,\"#d8576b\"],[0.6666666666666666,\"#ed7953\"],[0.7777777777777778,\"#fb9f3a\"],[0.8888888888888888,\"#fdca26\"],[1.0,\"#f0f921\"]]}],\"choropleth\":[{\"type\":\"choropleth\",\"colorbar\":{\"outlinewidth\":0,\"ticks\":\"\"}}],\"histogram2d\":[{\"type\":\"histogram2d\",\"colorbar\":{\"outlinewidth\":0,\"ticks\":\"\"},\"colorscale\":[[0.0,\"#0d0887\"],[0.1111111111111111,\"#46039f\"],[0.2222222222222222,\"#7201a8\"],[0.3333333333333333,\"#9c179e\"],[0.4444444444444444,\"#bd3786\"],[0.5555555555555556,\"#d8576b\"],[0.6666666666666666,\"#ed7953\"],[0.7777777777777778,\"#fb9f3a\"],[0.8888888888888888,\"#fdca26\"],[1.0,\"#f0f921\"]]}],\"heatmap\":[{\"type\":\"heatmap\",\"colorbar\":{\"outlinewidth\":0,\"ticks\":\"\"},\"colorscale\":[[0.0,\"#0d0887\"],[0.1111111111111111,\"#46039f\"],[0.2222222222222222,\"#7201a8\"],[0.3333333333333333,\"#9c179e\"],[0.4444444444444444,\"#bd3786\"],[0.5555555555555556,\"#d8576b\"],[0.6666666666666666,\"#ed7953\"],[0.7777777777777778,\"#fb9f3a\"],[0.8888888888888888,\"#fdca26\"],[1.0,\"#f0f921\"]]}],\"heatmapgl\":[{\"type\":\"heatmapgl\",\"colorbar\":{\"outlinewidth\":0,\"ticks\":\"\"},\"colorscale\":[[0.0,\"#0d0887\"],[0.1111111111111111,\"#46039f\"],[0.2222222222222222,\"#7201a8\"],[0.3333333333333333,\"#9c179e\"],[0.4444444444444444,\"#bd3786\"],[0.5555555555555556,\"#d8576b\"],[0.6666666666666666,\"#ed7953\"],[0.7777777777777778,\"#fb9f3a\"],[0.8888888888888888,\"#fdca26\"],[1.0,\"#f0f921\"]]}],\"contourcarpet\":[{\"type\":\"contourcarpet\",\"colorbar\":{\"outlinewidth\":0,\"ticks\":\"\"}}],\"contour\":[{\"type\":\"contour\",\"colorbar\":{\"outlinewidth\":0,\"ticks\":\"\"},\"colorscale\":[[0.0,\"#0d0887\"],[0.1111111111111111,\"#46039f\"],[0.2222222222222222,\"#7201a8\"],[0.3333333333333333,\"#9c179e\"],[0.4444444444444444,\"#bd3786\"],[0.5555555555555556,\"#d8576b\"],[0.6666666666666666,\"#ed7953\"],[0.7777777777777778,\"#fb9f3a\"],[0.8888888888888888,\"#fdca26\"],[1.0,\"#f0f921\"]]}],\"surface\":[{\"type\":\"surface\",\"colorbar\":{\"outlinewidth\":0,\"ticks\":\"\"},\"colorscale\":[[0.0,\"#0d0887\"],[0.1111111111111111,\"#46039f\"],[0.2222222222222222,\"#7201a8\"],[0.3333333333333333,\"#9c179e\"],[0.4444444444444444,\"#bd3786\"],[0.5555555555555556,\"#d8576b\"],[0.6666666666666666,\"#ed7953\"],[0.7777777777777778,\"#fb9f3a\"],[0.8888888888888888,\"#fdca26\"],[1.0,\"#f0f921\"]]}],\"mesh3d\":[{\"type\":\"mesh3d\",\"colorbar\":{\"outlinewidth\":0,\"ticks\":\"\"}}],\"scatter\":[{\"fillpattern\":{\"fillmode\":\"overlay\",\"size\":10,\"solidity\":0.2},\"type\":\"scatter\"}],\"parcoords\":[{\"type\":\"parcoords\",\"line\":{\"colorbar\":{\"outlinewidth\":0,\"ticks\":\"\"}}}],\"scatterpolargl\":[{\"type\":\"scatterpolargl\",\"marker\":{\"colorbar\":{\"outlinewidth\":0,\"ticks\":\"\"}}}],\"bar\":[{\"error_x\":{\"color\":\"#2a3f5f\"},\"error_y\":{\"color\":\"#2a3f5f\"},\"marker\":{\"line\":{\"color\":\"#E5ECF6\",\"width\":0.5},\"pattern\":{\"fillmode\":\"overlay\",\"size\":10,\"solidity\":0.2}},\"type\":\"bar\"}],\"scattergeo\":[{\"type\":\"scattergeo\",\"marker\":{\"colorbar\":{\"outlinewidth\":0,\"ticks\":\"\"}}}],\"scatterpolar\":[{\"type\":\"scatterpolar\",\"marker\":{\"colorbar\":{\"outlinewidth\":0,\"ticks\":\"\"}}}],\"histogram\":[{\"marker\":{\"pattern\":{\"fillmode\":\"overlay\",\"size\":10,\"solidity\":0.2}},\"type\":\"histogram\"}],\"scattergl\":[{\"type\":\"scattergl\",\"marker\":{\"colorbar\":{\"outlinewidth\":0,\"ticks\":\"\"}}}],\"scatter3d\":[{\"type\":\"scatter3d\",\"line\":{\"colorbar\":{\"outlinewidth\":0,\"ticks\":\"\"}},\"marker\":{\"colorbar\":{\"outlinewidth\":0,\"ticks\":\"\"}}}],\"scattermapbox\":[{\"type\":\"scattermapbox\",\"marker\":{\"colorbar\":{\"outlinewidth\":0,\"ticks\":\"\"}}}],\"scatterternary\":[{\"type\":\"scatterternary\",\"marker\":{\"colorbar\":{\"outlinewidth\":0,\"ticks\":\"\"}}}],\"scattercarpet\":[{\"type\":\"scattercarpet\",\"marker\":{\"colorbar\":{\"outlinewidth\":0,\"ticks\":\"\"}}}],\"carpet\":[{\"aaxis\":{\"endlinecolor\":\"#2a3f5f\",\"gridcolor\":\"white\",\"linecolor\":\"white\",\"minorgridcolor\":\"white\",\"startlinecolor\":\"#2a3f5f\"},\"baxis\":{\"endlinecolor\":\"#2a3f5f\",\"gridcolor\":\"white\",\"linecolor\":\"white\",\"minorgridcolor\":\"white\",\"startlinecolor\":\"#2a3f5f\"},\"type\":\"carpet\"}],\"table\":[{\"cells\":{\"fill\":{\"color\":\"#EBF0F8\"},\"line\":{\"color\":\"white\"}},\"header\":{\"fill\":{\"color\":\"#C8D4E3\"},\"line\":{\"color\":\"white\"}},\"type\":\"table\"}],\"barpolar\":[{\"marker\":{\"line\":{\"color\":\"#E5ECF6\",\"width\":0.5},\"pattern\":{\"fillmode\":\"overlay\",\"size\":10,\"solidity\":0.2}},\"type\":\"barpolar\"}],\"pie\":[{\"automargin\":true,\"type\":\"pie\"}]},\"layout\":{\"autotypenumbers\":\"strict\",\"colorway\":[\"#636efa\",\"#EF553B\",\"#00cc96\",\"#ab63fa\",\"#FFA15A\",\"#19d3f3\",\"#FF6692\",\"#B6E880\",\"#FF97FF\",\"#FECB52\"],\"font\":{\"color\":\"#2a3f5f\"},\"hovermode\":\"closest\",\"hoverlabel\":{\"align\":\"left\"},\"paper_bgcolor\":\"white\",\"plot_bgcolor\":\"#E5ECF6\",\"polar\":{\"bgcolor\":\"#E5ECF6\",\"angularaxis\":{\"gridcolor\":\"white\",\"linecolor\":\"white\",\"ticks\":\"\"},\"radialaxis\":{\"gridcolor\":\"white\",\"linecolor\":\"white\",\"ticks\":\"\"}},\"ternary\":{\"bgcolor\":\"#E5ECF6\",\"aaxis\":{\"gridcolor\":\"white\",\"linecolor\":\"white\",\"ticks\":\"\"},\"baxis\":{\"gridcolor\":\"white\",\"linecolor\":\"white\",\"ticks\":\"\"},\"caxis\":{\"gridcolor\":\"white\",\"linecolor\":\"white\",\"ticks\":\"\"}},\"coloraxis\":{\"colorbar\":{\"outlinewidth\":0,\"ticks\":\"\"}},\"colorscale\":{\"sequential\":[[0.0,\"#0d0887\"],[0.1111111111111111,\"#46039f\"],[0.2222222222222222,\"#7201a8\"],[0.3333333333333333,\"#9c179e\"],[0.4444444444444444,\"#bd3786\"],[0.5555555555555556,\"#d8576b\"],[0.6666666666666666,\"#ed7953\"],[0.7777777777777778,\"#fb9f3a\"],[0.8888888888888888,\"#fdca26\"],[1.0,\"#f0f921\"]],\"sequentialminus\":[[0.0,\"#0d0887\"],[0.1111111111111111,\"#46039f\"],[0.2222222222222222,\"#7201a8\"],[0.3333333333333333,\"#9c179e\"],[0.4444444444444444,\"#bd3786\"],[0.5555555555555556,\"#d8576b\"],[0.6666666666666666,\"#ed7953\"],[0.7777777777777778,\"#fb9f3a\"],[0.8888888888888888,\"#fdca26\"],[1.0,\"#f0f921\"]],\"diverging\":[[0,\"#8e0152\"],[0.1,\"#c51b7d\"],[0.2,\"#de77ae\"],[0.3,\"#f1b6da\"],[0.4,\"#fde0ef\"],[0.5,\"#f7f7f7\"],[0.6,\"#e6f5d0\"],[0.7,\"#b8e186\"],[0.8,\"#7fbc41\"],[0.9,\"#4d9221\"],[1,\"#276419\"]]},\"xaxis\":{\"gridcolor\":\"white\",\"linecolor\":\"white\",\"ticks\":\"\",\"title\":{\"standoff\":15},\"zerolinecolor\":\"white\",\"automargin\":true,\"zerolinewidth\":2},\"yaxis\":{\"gridcolor\":\"white\",\"linecolor\":\"white\",\"ticks\":\"\",\"title\":{\"standoff\":15},\"zerolinecolor\":\"white\",\"automargin\":true,\"zerolinewidth\":2},\"scene\":{\"xaxis\":{\"backgroundcolor\":\"#E5ECF6\",\"gridcolor\":\"white\",\"linecolor\":\"white\",\"showbackground\":true,\"ticks\":\"\",\"zerolinecolor\":\"white\",\"gridwidth\":2},\"yaxis\":{\"backgroundcolor\":\"#E5ECF6\",\"gridcolor\":\"white\",\"linecolor\":\"white\",\"showbackground\":true,\"ticks\":\"\",\"zerolinecolor\":\"white\",\"gridwidth\":2},\"zaxis\":{\"backgroundcolor\":\"#E5ECF6\",\"gridcolor\":\"white\",\"linecolor\":\"white\",\"showbackground\":true,\"ticks\":\"\",\"zerolinecolor\":\"white\",\"gridwidth\":2}},\"shapedefaults\":{\"line\":{\"color\":\"#2a3f5f\"}},\"annotationdefaults\":{\"arrowcolor\":\"#2a3f5f\",\"arrowhead\":0,\"arrowwidth\":1},\"geo\":{\"bgcolor\":\"white\",\"landcolor\":\"#E5ECF6\",\"subunitcolor\":\"white\",\"showland\":true,\"showlakes\":true,\"lakecolor\":\"white\"},\"title\":{\"x\":0.05},\"mapbox\":{\"style\":\"light\"}}},\"xaxis\":{\"anchor\":\"y\",\"domain\":[0.0,0.48],\"title\":{\"text\":\"mrate\"}},\"yaxis\":{\"anchor\":\"x\",\"domain\":[0.0,1.0],\"title\":{\"text\":\"mse\"}},\"xaxis2\":{\"anchor\":\"y2\",\"domain\":[0.5,0.98],\"matches\":\"x\",\"title\":{\"text\":\"mrate\"}},\"yaxis2\":{\"anchor\":\"x2\",\"domain\":[0.0,1.0],\"matches\":\"y\",\"showticklabels\":false},\"annotations\":[{\"font\":{},\"showarrow\":false,\"text\":\"inter_method=linear\",\"x\":0.24,\"xanchor\":\"center\",\"xref\":\"paper\",\"y\":1.0,\"yanchor\":\"bottom\",\"yref\":\"paper\"},{\"font\":{},\"showarrow\":false,\"text\":\"inter_method=nearest\",\"x\":0.74,\"xanchor\":\"center\",\"xref\":\"paper\",\"y\":1.0,\"yanchor\":\"bottom\",\"yref\":\"paper\"},{\"font\":{},\"showarrow\":false,\"text\":\"nof_filters=12\",\"textangle\":90,\"x\":0.98,\"xanchor\":\"left\",\"xref\":\"paper\",\"y\":0.5,\"yanchor\":\"middle\",\"yref\":\"paper\"}],\"legend\":{\"title\":{\"text\":\"method\"},\"tracegroupgap\":0},\"margin\":{\"t\":60},\"boxmode\":\"group\",\"height\":600},                        {\"responsive\": true}                    ).then(function(){\n",
       "                            \n",
       "var gd = document.getElementById('a7158f14-88ce-4de3-8b73-1631020f91bc');\n",
       "var x = new MutationObserver(function (mutations, observer) {{\n",
       "        var display = window.getComputedStyle(gd).display;\n",
       "        if (!display || display === 'none') {{\n",
       "            console.log([gd, 'removed!']);\n",
       "            Plotly.purge(gd);\n",
       "            observer.disconnect();\n",
       "        }}\n",
       "}});\n",
       "\n",
       "// Listen for the removal of the full notebook cells\n",
       "var notebookContainer = gd.closest('#notebook-container');\n",
       "if (notebookContainer) {{\n",
       "    x.observe(notebookContainer, {childList: true});\n",
       "}}\n",
       "\n",
       "// Listen for the clearing of the current output cell\n",
       "var outputEl = gd.closest('.output');\n",
       "if (outputEl) {{\n",
       "    x.observe(outputEl, {childList: true});\n",
       "}}\n",
       "\n",
       "                        })                };                });            </script>        </div>"
      ]
     },
     "metadata": {},
     "output_type": "display_data"
    }
   ],
   "source": [
    "data.query(\"method!='GNAR' and mtype =='block' \").plot.box(backend='plotly',x='mrate',color='method',y='mse',facet_col='inter_method',facet_row='nof_filters',height=600)\n"
   ]
  },
  {
   "cell_type": "markdown",
   "id": "377ebf75-d15f-4c92-971b-c26f28ace9b3",
   "metadata": {},
   "source": [
    "# chickenpox"
   ]
  },
  {
   "cell_type": "code",
   "execution_count": 46,
   "id": "3e66680d-3b56-4295-b4da-c8988c6ceb77",
   "metadata": {},
   "outputs": [],
   "source": [
    "# df1 = pd.read_csv('./simulation_results/2023-06-02_14-03-24.csv') # GNAR random\n",
    "# df2 = pd.read_csv('./simulation_results/2023-06-03_15-57-09.csv') # GNAR block\n",
    "# df3 = pd.read_csv('./simulation_results/2023-06-03_17-58-22.csv') # STGCN, ITSTGCN random 30%\n",
    "\n",
    "## 하이퍼 파라메터 조정해서 다시 함!\n",
    "df1 = pd.read_csv('./simulation_results/2023-06-07_22-08-57.csv') \n",
    "df2 = pd.read_csv('./simulation_results/2023-06-08_01-57-25.csv') \n",
    "df3 = pd.read_csv('./simulation_results/2023-06-08_03-58-56.csv') \n",
    "df4 = pd.read_csv('./simulation_results/2023-06-08_06-00-50.csv')"
   ]
  },
  {
   "cell_type": "code",
   "execution_count": 47,
   "id": "3a15858e-07b2-460c-86c6-49ee4deeb10d",
   "metadata": {},
   "outputs": [],
   "source": [
    "data = pd.concat([df1,df2,df3,df4],axis=0)"
   ]
  },
  {
   "cell_type": "code",
   "execution_count": 48,
   "id": "158398fa-ae55-4525-8535-eb323b1c4b6b",
   "metadata": {},
   "outputs": [],
   "source": [
    "data.to_csv('./simulation_results/Real_simulation_reshape/GConvLSTM_chikenpox_Simulation.csv',index=False)"
   ]
  },
  {
   "cell_type": "code",
   "execution_count": 49,
   "id": "dc861068-2821-4447-a4b7-3cb5b4a0ed8c",
   "metadata": {},
   "outputs": [],
   "source": [
    "data = pd.read_csv('./simulation_results/Real_simulation_reshape/GConvLSTM_chikenpox_Simulation.csv')"
   ]
  },
  {
   "cell_type": "markdown",
   "id": "bf6fa154-11bd-4265-9413-5e218e34ad04",
   "metadata": {},
   "source": [
    "## Baseline"
   ]
  },
  {
   "cell_type": "code",
   "execution_count": 50,
   "id": "3ffa71ab-651f-40d9-b823-978f701942da",
   "metadata": {},
   "outputs": [
    {
     "data": {
      "application/vnd.plotly.v1+json": {
       "config": {
        "plotlyServerURL": "https://plot.ly"
       },
       "data": [
        {
         "alignmentgroup": "True",
         "hovertemplate": "method=STGCN<br>nof_filters=32<br>mrate=%{x}<br>mse=%{y}<extra></extra>",
         "legendgroup": "STGCN",
         "marker": {
          "color": "#636efa"
         },
         "name": "STGCN",
         "notched": false,
         "offsetgroup": "STGCN",
         "orientation": "v",
         "showlegend": true,
         "type": "box",
         "x": [
          0,
          0,
          0,
          0,
          0,
          0,
          0,
          0,
          0,
          0,
          0,
          0,
          0,
          0,
          0,
          0,
          0,
          0,
          0,
          0,
          0,
          0,
          0,
          0,
          0,
          0,
          0,
          0,
          0,
          0
         ],
         "x0": " ",
         "xaxis": "x",
         "y": [
          0.878224790096283,
          0.8821834921836853,
          0.9825312495231628,
          0.9518452882766724,
          1.0329943895339966,
          0.796339750289917,
          0.9800927639007568,
          0.9608127474784852,
          1.027765870094299,
          0.907282054424286,
          0.9099218249320984,
          0.9514760971069336,
          0.9519636034965516,
          1.0024265050888062,
          0.9315527081489564,
          0.9306325316429138,
          0.9400696754455566,
          0.8051757216453552,
          0.7869590520858765,
          0.9584046602249146,
          0.9470146894454956,
          0.9959319829940796,
          0.7961194515228271,
          0.8894031047821045,
          0.9410082697868348,
          1.1162763833999634,
          0.984142243862152,
          0.9500049352645874,
          0.8508350849151611,
          1.065972924232483
         ],
         "y0": " ",
         "yaxis": "y"
        },
        {
         "alignmentgroup": "True",
         "hovertemplate": "method=IT-STGCN<br>nof_filters=32<br>mrate=%{x}<br>mse=%{y}<extra></extra>",
         "legendgroup": "IT-STGCN",
         "marker": {
          "color": "#EF553B"
         },
         "name": "IT-STGCN",
         "notched": false,
         "offsetgroup": "IT-STGCN",
         "orientation": "v",
         "showlegend": true,
         "type": "box",
         "x": [
          0,
          0,
          0,
          0,
          0,
          0,
          0,
          0,
          0,
          0,
          0,
          0,
          0,
          0,
          0,
          0,
          0,
          0,
          0,
          0,
          0,
          0,
          0,
          0,
          0,
          0,
          0,
          0,
          0,
          0
         ],
         "x0": " ",
         "xaxis": "x",
         "y": [
          0.9997382760047911,
          0.9650077223777772,
          0.971306324005127,
          0.9694689512252808,
          0.9968351125717164,
          0.9506178498268129,
          0.9200228452682496,
          0.9058720469474792,
          0.9340044856071472,
          0.9272892475128174,
          0.8837889432907104,
          0.9765868186950684,
          1.130162239074707,
          1.1813548803329468,
          1.090095281600952,
          1.0277780294418335,
          1.0028198957443235,
          1.0093005895614624,
          0.9421307444572448,
          1.005632400512695,
          0.9958528876304626,
          1.2612193822860718,
          0.8485183715820312,
          1.030606389045715,
          0.930810570716858,
          0.8305052518844604,
          0.9671956300735474,
          0.950186550617218,
          0.8598496913909912,
          0.9631581902503968
         ],
         "y0": " ",
         "yaxis": "y"
        }
       ],
       "layout": {
        "annotations": [
         {
          "font": {},
          "showarrow": false,
          "text": "nof_filters=32",
          "x": 0.5,
          "xanchor": "center",
          "xref": "paper",
          "y": 1,
          "yanchor": "bottom",
          "yref": "paper"
         }
        ],
        "autosize": true,
        "boxmode": "group",
        "legend": {
         "title": {
          "text": "method"
         },
         "tracegroupgap": 0
        },
        "margin": {
         "t": 60
        },
        "template": {
         "data": {
          "bar": [
           {
            "error_x": {
             "color": "#2a3f5f"
            },
            "error_y": {
             "color": "#2a3f5f"
            },
            "marker": {
             "line": {
              "color": "#E5ECF6",
              "width": 0.5
             },
             "pattern": {
              "fillmode": "overlay",
              "size": 10,
              "solidity": 0.2
             }
            },
            "type": "bar"
           }
          ],
          "barpolar": [
           {
            "marker": {
             "line": {
              "color": "#E5ECF6",
              "width": 0.5
             },
             "pattern": {
              "fillmode": "overlay",
              "size": 10,
              "solidity": 0.2
             }
            },
            "type": "barpolar"
           }
          ],
          "carpet": [
           {
            "aaxis": {
             "endlinecolor": "#2a3f5f",
             "gridcolor": "white",
             "linecolor": "white",
             "minorgridcolor": "white",
             "startlinecolor": "#2a3f5f"
            },
            "baxis": {
             "endlinecolor": "#2a3f5f",
             "gridcolor": "white",
             "linecolor": "white",
             "minorgridcolor": "white",
             "startlinecolor": "#2a3f5f"
            },
            "type": "carpet"
           }
          ],
          "choropleth": [
           {
            "colorbar": {
             "outlinewidth": 0,
             "ticks": ""
            },
            "type": "choropleth"
           }
          ],
          "contour": [
           {
            "colorbar": {
             "outlinewidth": 0,
             "ticks": ""
            },
            "colorscale": [
             [
              0,
              "#0d0887"
             ],
             [
              0.1111111111111111,
              "#46039f"
             ],
             [
              0.2222222222222222,
              "#7201a8"
             ],
             [
              0.3333333333333333,
              "#9c179e"
             ],
             [
              0.4444444444444444,
              "#bd3786"
             ],
             [
              0.5555555555555556,
              "#d8576b"
             ],
             [
              0.6666666666666666,
              "#ed7953"
             ],
             [
              0.7777777777777778,
              "#fb9f3a"
             ],
             [
              0.8888888888888888,
              "#fdca26"
             ],
             [
              1,
              "#f0f921"
             ]
            ],
            "type": "contour"
           }
          ],
          "contourcarpet": [
           {
            "colorbar": {
             "outlinewidth": 0,
             "ticks": ""
            },
            "type": "contourcarpet"
           }
          ],
          "heatmap": [
           {
            "colorbar": {
             "outlinewidth": 0,
             "ticks": ""
            },
            "colorscale": [
             [
              0,
              "#0d0887"
             ],
             [
              0.1111111111111111,
              "#46039f"
             ],
             [
              0.2222222222222222,
              "#7201a8"
             ],
             [
              0.3333333333333333,
              "#9c179e"
             ],
             [
              0.4444444444444444,
              "#bd3786"
             ],
             [
              0.5555555555555556,
              "#d8576b"
             ],
             [
              0.6666666666666666,
              "#ed7953"
             ],
             [
              0.7777777777777778,
              "#fb9f3a"
             ],
             [
              0.8888888888888888,
              "#fdca26"
             ],
             [
              1,
              "#f0f921"
             ]
            ],
            "type": "heatmap"
           }
          ],
          "heatmapgl": [
           {
            "colorbar": {
             "outlinewidth": 0,
             "ticks": ""
            },
            "colorscale": [
             [
              0,
              "#0d0887"
             ],
             [
              0.1111111111111111,
              "#46039f"
             ],
             [
              0.2222222222222222,
              "#7201a8"
             ],
             [
              0.3333333333333333,
              "#9c179e"
             ],
             [
              0.4444444444444444,
              "#bd3786"
             ],
             [
              0.5555555555555556,
              "#d8576b"
             ],
             [
              0.6666666666666666,
              "#ed7953"
             ],
             [
              0.7777777777777778,
              "#fb9f3a"
             ],
             [
              0.8888888888888888,
              "#fdca26"
             ],
             [
              1,
              "#f0f921"
             ]
            ],
            "type": "heatmapgl"
           }
          ],
          "histogram": [
           {
            "marker": {
             "pattern": {
              "fillmode": "overlay",
              "size": 10,
              "solidity": 0.2
             }
            },
            "type": "histogram"
           }
          ],
          "histogram2d": [
           {
            "colorbar": {
             "outlinewidth": 0,
             "ticks": ""
            },
            "colorscale": [
             [
              0,
              "#0d0887"
             ],
             [
              0.1111111111111111,
              "#46039f"
             ],
             [
              0.2222222222222222,
              "#7201a8"
             ],
             [
              0.3333333333333333,
              "#9c179e"
             ],
             [
              0.4444444444444444,
              "#bd3786"
             ],
             [
              0.5555555555555556,
              "#d8576b"
             ],
             [
              0.6666666666666666,
              "#ed7953"
             ],
             [
              0.7777777777777778,
              "#fb9f3a"
             ],
             [
              0.8888888888888888,
              "#fdca26"
             ],
             [
              1,
              "#f0f921"
             ]
            ],
            "type": "histogram2d"
           }
          ],
          "histogram2dcontour": [
           {
            "colorbar": {
             "outlinewidth": 0,
             "ticks": ""
            },
            "colorscale": [
             [
              0,
              "#0d0887"
             ],
             [
              0.1111111111111111,
              "#46039f"
             ],
             [
              0.2222222222222222,
              "#7201a8"
             ],
             [
              0.3333333333333333,
              "#9c179e"
             ],
             [
              0.4444444444444444,
              "#bd3786"
             ],
             [
              0.5555555555555556,
              "#d8576b"
             ],
             [
              0.6666666666666666,
              "#ed7953"
             ],
             [
              0.7777777777777778,
              "#fb9f3a"
             ],
             [
              0.8888888888888888,
              "#fdca26"
             ],
             [
              1,
              "#f0f921"
             ]
            ],
            "type": "histogram2dcontour"
           }
          ],
          "mesh3d": [
           {
            "colorbar": {
             "outlinewidth": 0,
             "ticks": ""
            },
            "type": "mesh3d"
           }
          ],
          "parcoords": [
           {
            "line": {
             "colorbar": {
              "outlinewidth": 0,
              "ticks": ""
             }
            },
            "type": "parcoords"
           }
          ],
          "pie": [
           {
            "automargin": true,
            "type": "pie"
           }
          ],
          "scatter": [
           {
            "fillpattern": {
             "fillmode": "overlay",
             "size": 10,
             "solidity": 0.2
            },
            "type": "scatter"
           }
          ],
          "scatter3d": [
           {
            "line": {
             "colorbar": {
              "outlinewidth": 0,
              "ticks": ""
             }
            },
            "marker": {
             "colorbar": {
              "outlinewidth": 0,
              "ticks": ""
             }
            },
            "type": "scatter3d"
           }
          ],
          "scattercarpet": [
           {
            "marker": {
             "colorbar": {
              "outlinewidth": 0,
              "ticks": ""
             }
            },
            "type": "scattercarpet"
           }
          ],
          "scattergeo": [
           {
            "marker": {
             "colorbar": {
              "outlinewidth": 0,
              "ticks": ""
             }
            },
            "type": "scattergeo"
           }
          ],
          "scattergl": [
           {
            "marker": {
             "colorbar": {
              "outlinewidth": 0,
              "ticks": ""
             }
            },
            "type": "scattergl"
           }
          ],
          "scattermapbox": [
           {
            "marker": {
             "colorbar": {
              "outlinewidth": 0,
              "ticks": ""
             }
            },
            "type": "scattermapbox"
           }
          ],
          "scatterpolar": [
           {
            "marker": {
             "colorbar": {
              "outlinewidth": 0,
              "ticks": ""
             }
            },
            "type": "scatterpolar"
           }
          ],
          "scatterpolargl": [
           {
            "marker": {
             "colorbar": {
              "outlinewidth": 0,
              "ticks": ""
             }
            },
            "type": "scatterpolargl"
           }
          ],
          "scatterternary": [
           {
            "marker": {
             "colorbar": {
              "outlinewidth": 0,
              "ticks": ""
             }
            },
            "type": "scatterternary"
           }
          ],
          "surface": [
           {
            "colorbar": {
             "outlinewidth": 0,
             "ticks": ""
            },
            "colorscale": [
             [
              0,
              "#0d0887"
             ],
             [
              0.1111111111111111,
              "#46039f"
             ],
             [
              0.2222222222222222,
              "#7201a8"
             ],
             [
              0.3333333333333333,
              "#9c179e"
             ],
             [
              0.4444444444444444,
              "#bd3786"
             ],
             [
              0.5555555555555556,
              "#d8576b"
             ],
             [
              0.6666666666666666,
              "#ed7953"
             ],
             [
              0.7777777777777778,
              "#fb9f3a"
             ],
             [
              0.8888888888888888,
              "#fdca26"
             ],
             [
              1,
              "#f0f921"
             ]
            ],
            "type": "surface"
           }
          ],
          "table": [
           {
            "cells": {
             "fill": {
              "color": "#EBF0F8"
             },
             "line": {
              "color": "white"
             }
            },
            "header": {
             "fill": {
              "color": "#C8D4E3"
             },
             "line": {
              "color": "white"
             }
            },
            "type": "table"
           }
          ]
         },
         "layout": {
          "annotationdefaults": {
           "arrowcolor": "#2a3f5f",
           "arrowhead": 0,
           "arrowwidth": 1
          },
          "autotypenumbers": "strict",
          "coloraxis": {
           "colorbar": {
            "outlinewidth": 0,
            "ticks": ""
           }
          },
          "colorscale": {
           "diverging": [
            [
             0,
             "#8e0152"
            ],
            [
             0.1,
             "#c51b7d"
            ],
            [
             0.2,
             "#de77ae"
            ],
            [
             0.3,
             "#f1b6da"
            ],
            [
             0.4,
             "#fde0ef"
            ],
            [
             0.5,
             "#f7f7f7"
            ],
            [
             0.6,
             "#e6f5d0"
            ],
            [
             0.7,
             "#b8e186"
            ],
            [
             0.8,
             "#7fbc41"
            ],
            [
             0.9,
             "#4d9221"
            ],
            [
             1,
             "#276419"
            ]
           ],
           "sequential": [
            [
             0,
             "#0d0887"
            ],
            [
             0.1111111111111111,
             "#46039f"
            ],
            [
             0.2222222222222222,
             "#7201a8"
            ],
            [
             0.3333333333333333,
             "#9c179e"
            ],
            [
             0.4444444444444444,
             "#bd3786"
            ],
            [
             0.5555555555555556,
             "#d8576b"
            ],
            [
             0.6666666666666666,
             "#ed7953"
            ],
            [
             0.7777777777777778,
             "#fb9f3a"
            ],
            [
             0.8888888888888888,
             "#fdca26"
            ],
            [
             1,
             "#f0f921"
            ]
           ],
           "sequentialminus": [
            [
             0,
             "#0d0887"
            ],
            [
             0.1111111111111111,
             "#46039f"
            ],
            [
             0.2222222222222222,
             "#7201a8"
            ],
            [
             0.3333333333333333,
             "#9c179e"
            ],
            [
             0.4444444444444444,
             "#bd3786"
            ],
            [
             0.5555555555555556,
             "#d8576b"
            ],
            [
             0.6666666666666666,
             "#ed7953"
            ],
            [
             0.7777777777777778,
             "#fb9f3a"
            ],
            [
             0.8888888888888888,
             "#fdca26"
            ],
            [
             1,
             "#f0f921"
            ]
           ]
          },
          "colorway": [
           "#636efa",
           "#EF553B",
           "#00cc96",
           "#ab63fa",
           "#FFA15A",
           "#19d3f3",
           "#FF6692",
           "#B6E880",
           "#FF97FF",
           "#FECB52"
          ],
          "font": {
           "color": "#2a3f5f"
          },
          "geo": {
           "bgcolor": "white",
           "lakecolor": "white",
           "landcolor": "#E5ECF6",
           "showlakes": true,
           "showland": true,
           "subunitcolor": "white"
          },
          "hoverlabel": {
           "align": "left"
          },
          "hovermode": "closest",
          "mapbox": {
           "style": "light"
          },
          "paper_bgcolor": "white",
          "plot_bgcolor": "#E5ECF6",
          "polar": {
           "angularaxis": {
            "gridcolor": "white",
            "linecolor": "white",
            "ticks": ""
           },
           "bgcolor": "#E5ECF6",
           "radialaxis": {
            "gridcolor": "white",
            "linecolor": "white",
            "ticks": ""
           }
          },
          "scene": {
           "xaxis": {
            "backgroundcolor": "#E5ECF6",
            "gridcolor": "white",
            "gridwidth": 2,
            "linecolor": "white",
            "showbackground": true,
            "ticks": "",
            "zerolinecolor": "white"
           },
           "yaxis": {
            "backgroundcolor": "#E5ECF6",
            "gridcolor": "white",
            "gridwidth": 2,
            "linecolor": "white",
            "showbackground": true,
            "ticks": "",
            "zerolinecolor": "white"
           },
           "zaxis": {
            "backgroundcolor": "#E5ECF6",
            "gridcolor": "white",
            "gridwidth": 2,
            "linecolor": "white",
            "showbackground": true,
            "ticks": "",
            "zerolinecolor": "white"
           }
          },
          "shapedefaults": {
           "line": {
            "color": "#2a3f5f"
           }
          },
          "ternary": {
           "aaxis": {
            "gridcolor": "white",
            "linecolor": "white",
            "ticks": ""
           },
           "baxis": {
            "gridcolor": "white",
            "linecolor": "white",
            "ticks": ""
           },
           "bgcolor": "#E5ECF6",
           "caxis": {
            "gridcolor": "white",
            "linecolor": "white",
            "ticks": ""
           }
          },
          "title": {
           "x": 0.05
          },
          "xaxis": {
           "automargin": true,
           "gridcolor": "white",
           "linecolor": "white",
           "ticks": "",
           "title": {
            "standoff": 15
           },
           "zerolinecolor": "white",
           "zerolinewidth": 2
          },
          "yaxis": {
           "automargin": true,
           "gridcolor": "white",
           "linecolor": "white",
           "ticks": "",
           "title": {
            "standoff": 15
           },
           "zerolinecolor": "white",
           "zerolinewidth": 2
          }
         }
        },
        "xaxis": {
         "anchor": "y",
         "autorange": true,
         "domain": [
          0,
          1
         ],
         "range": [
          -0.5017462165308498,
          0.5017462165308498
         ],
         "title": {
          "text": "mrate"
         },
         "type": "linear"
        },
        "yaxis": {
         "anchor": "x",
         "autorange": true,
         "domain": [
          0,
          1
         ],
         "range": [
          0.7606112559636434,
          1.287567178408305
         ],
         "title": {
          "text": "mse"
         },
         "type": "linear"
        }
       }
      },
      "image/png": "[encoded data removed]",
      "text/html": [
       "<div>                            <div id=\"252314af-fdb4-4e37-af7a-2f5978435408\" class=\"plotly-graph-div\" style=\"height:600px; width:100%;\"></div>            <script type=\"text/javascript\">                require([\"plotly\"], function(Plotly) {                    window.PLOTLYENV=window.PLOTLYENV || {};                                    if (document.getElementById(\"252314af-fdb4-4e37-af7a-2f5978435408\")) {                    Plotly.newPlot(                        \"252314af-fdb4-4e37-af7a-2f5978435408\",                        [{\"alignmentgroup\":\"True\",\"hovertemplate\":\"method=STGCN<br>nof_filters=32<br>mrate=%{x}<br>mse=%{y}<extra></extra>\",\"legendgroup\":\"STGCN\",\"marker\":{\"color\":\"#636efa\"},\"name\":\"STGCN\",\"notched\":false,\"offsetgroup\":\"STGCN\",\"orientation\":\"v\",\"showlegend\":true,\"x\":[0.0,0.0,0.0,0.0,0.0,0.0,0.0,0.0,0.0,0.0,0.0,0.0,0.0,0.0,0.0,0.0,0.0,0.0,0.0,0.0,0.0,0.0,0.0,0.0,0.0,0.0,0.0,0.0,0.0,0.0],\"x0\":\" \",\"xaxis\":\"x\",\"y\":[0.878224790096283,0.8821834921836853,0.9825312495231628,0.9518452882766724,1.0329943895339966,0.796339750289917,0.9800927639007568,0.9608127474784852,1.027765870094299,0.907282054424286,0.9099218249320984,0.9514760971069336,0.9519636034965516,1.0024265050888062,0.9315527081489564,0.9306325316429138,0.9400696754455566,0.8051757216453552,0.7869590520858765,0.9584046602249146,0.9470146894454956,0.9959319829940796,0.7961194515228271,0.8894031047821045,0.9410082697868348,1.1162763833999634,0.984142243862152,0.9500049352645874,0.8508350849151611,1.065972924232483],\"y0\":\" \",\"yaxis\":\"y\",\"type\":\"box\"},{\"alignmentgroup\":\"True\",\"hovertemplate\":\"method=IT-STGCN<br>nof_filters=32<br>mrate=%{x}<br>mse=%{y}<extra></extra>\",\"legendgroup\":\"IT-STGCN\",\"marker\":{\"color\":\"#EF553B\"},\"name\":\"IT-STGCN\",\"notched\":false,\"offsetgroup\":\"IT-STGCN\",\"orientation\":\"v\",\"showlegend\":true,\"x\":[0.0,0.0,0.0,0.0,0.0,0.0,0.0,0.0,0.0,0.0,0.0,0.0,0.0,0.0,0.0,0.0,0.0,0.0,0.0,0.0,0.0,0.0,0.0,0.0,0.0,0.0,0.0,0.0,0.0,0.0],\"x0\":\" \",\"xaxis\":\"x\",\"y\":[0.9997382760047911,0.9650077223777772,0.971306324005127,0.9694689512252808,0.9968351125717164,0.9506178498268129,0.9200228452682496,0.9058720469474792,0.9340044856071472,0.9272892475128174,0.8837889432907104,0.9765868186950684,1.130162239074707,1.1813548803329468,1.090095281600952,1.0277780294418335,1.0028198957443235,1.0093005895614624,0.9421307444572448,1.005632400512695,0.9958528876304626,1.2612193822860718,0.8485183715820312,1.030606389045715,0.930810570716858,0.8305052518844604,0.9671956300735474,0.950186550617218,0.8598496913909912,0.9631581902503968],\"y0\":\" \",\"yaxis\":\"y\",\"type\":\"box\"}],                        {\"template\":{\"data\":{\"histogram2dcontour\":[{\"type\":\"histogram2dcontour\",\"colorbar\":{\"outlinewidth\":0,\"ticks\":\"\"},\"colorscale\":[[0.0,\"#0d0887\"],[0.1111111111111111,\"#46039f\"],[0.2222222222222222,\"#7201a8\"],[0.3333333333333333,\"#9c179e\"],[0.4444444444444444,\"#bd3786\"],[0.5555555555555556,\"#d8576b\"],[0.6666666666666666,\"#ed7953\"],[0.7777777777777778,\"#fb9f3a\"],[0.8888888888888888,\"#fdca26\"],[1.0,\"#f0f921\"]]}],\"choropleth\":[{\"type\":\"choropleth\",\"colorbar\":{\"outlinewidth\":0,\"ticks\":\"\"}}],\"histogram2d\":[{\"type\":\"histogram2d\",\"colorbar\":{\"outlinewidth\":0,\"ticks\":\"\"},\"colorscale\":[[0.0,\"#0d0887\"],[0.1111111111111111,\"#46039f\"],[0.2222222222222222,\"#7201a8\"],[0.3333333333333333,\"#9c179e\"],[0.4444444444444444,\"#bd3786\"],[0.5555555555555556,\"#d8576b\"],[0.6666666666666666,\"#ed7953\"],[0.7777777777777778,\"#fb9f3a\"],[0.8888888888888888,\"#fdca26\"],[1.0,\"#f0f921\"]]}],\"heatmap\":[{\"type\":\"heatmap\",\"colorbar\":{\"outlinewidth\":0,\"ticks\":\"\"},\"colorscale\":[[0.0,\"#0d0887\"],[0.1111111111111111,\"#46039f\"],[0.2222222222222222,\"#7201a8\"],[0.3333333333333333,\"#9c179e\"],[0.4444444444444444,\"#bd3786\"],[0.5555555555555556,\"#d8576b\"],[0.6666666666666666,\"#ed7953\"],[0.7777777777777778,\"#fb9f3a\"],[0.8888888888888888,\"#fdca26\"],[1.0,\"#f0f921\"]]}],\"heatmapgl\":[{\"type\":\"heatmapgl\",\"colorbar\":{\"outlinewidth\":0,\"ticks\":\"\"},\"colorscale\":[[0.0,\"#0d0887\"],[0.1111111111111111,\"#46039f\"],[0.2222222222222222,\"#7201a8\"],[0.3333333333333333,\"#9c179e\"],[0.4444444444444444,\"#bd3786\"],[0.5555555555555556,\"#d8576b\"],[0.6666666666666666,\"#ed7953\"],[0.7777777777777778,\"#fb9f3a\"],[0.8888888888888888,\"#fdca26\"],[1.0,\"#f0f921\"]]}],\"contourcarpet\":[{\"type\":\"contourcarpet\",\"colorbar\":{\"outlinewidth\":0,\"ticks\":\"\"}}],\"contour\":[{\"type\":\"contour\",\"colorbar\":{\"outlinewidth\":0,\"ticks\":\"\"},\"colorscale\":[[0.0,\"#0d0887\"],[0.1111111111111111,\"#46039f\"],[0.2222222222222222,\"#7201a8\"],[0.3333333333333333,\"#9c179e\"],[0.4444444444444444,\"#bd3786\"],[0.5555555555555556,\"#d8576b\"],[0.6666666666666666,\"#ed7953\"],[0.7777777777777778,\"#fb9f3a\"],[0.8888888888888888,\"#fdca26\"],[1.0,\"#f0f921\"]]}],\"surface\":[{\"type\":\"surface\",\"colorbar\":{\"outlinewidth\":0,\"ticks\":\"\"},\"colorscale\":[[0.0,\"#0d0887\"],[0.1111111111111111,\"#46039f\"],[0.2222222222222222,\"#7201a8\"],[0.3333333333333333,\"#9c179e\"],[0.4444444444444444,\"#bd3786\"],[0.5555555555555556,\"#d8576b\"],[0.6666666666666666,\"#ed7953\"],[0.7777777777777778,\"#fb9f3a\"],[0.8888888888888888,\"#fdca26\"],[1.0,\"#f0f921\"]]}],\"mesh3d\":[{\"type\":\"mesh3d\",\"colorbar\":{\"outlinewidth\":0,\"ticks\":\"\"}}],\"scatter\":[{\"fillpattern\":{\"fillmode\":\"overlay\",\"size\":10,\"solidity\":0.2},\"type\":\"scatter\"}],\"parcoords\":[{\"type\":\"parcoords\",\"line\":{\"colorbar\":{\"outlinewidth\":0,\"ticks\":\"\"}}}],\"scatterpolargl\":[{\"type\":\"scatterpolargl\",\"marker\":{\"colorbar\":{\"outlinewidth\":0,\"ticks\":\"\"}}}],\"bar\":[{\"error_x\":{\"color\":\"#2a3f5f\"},\"error_y\":{\"color\":\"#2a3f5f\"},\"marker\":{\"line\":{\"color\":\"#E5ECF6\",\"width\":0.5},\"pattern\":{\"fillmode\":\"overlay\",\"size\":10,\"solidity\":0.2}},\"type\":\"bar\"}],\"scattergeo\":[{\"type\":\"scattergeo\",\"marker\":{\"colorbar\":{\"outlinewidth\":0,\"ticks\":\"\"}}}],\"scatterpolar\":[{\"type\":\"scatterpolar\",\"marker\":{\"colorbar\":{\"outlinewidth\":0,\"ticks\":\"\"}}}],\"histogram\":[{\"marker\":{\"pattern\":{\"fillmode\":\"overlay\",\"size\":10,\"solidity\":0.2}},\"type\":\"histogram\"}],\"scattergl\":[{\"type\":\"scattergl\",\"marker\":{\"colorbar\":{\"outlinewidth\":0,\"ticks\":\"\"}}}],\"scatter3d\":[{\"type\":\"scatter3d\",\"line\":{\"colorbar\":{\"outlinewidth\":0,\"ticks\":\"\"}},\"marker\":{\"colorbar\":{\"outlinewidth\":0,\"ticks\":\"\"}}}],\"scattermapbox\":[{\"type\":\"scattermapbox\",\"marker\":{\"colorbar\":{\"outlinewidth\":0,\"ticks\":\"\"}}}],\"scatterternary\":[{\"type\":\"scatterternary\",\"marker\":{\"colorbar\":{\"outlinewidth\":0,\"ticks\":\"\"}}}],\"scattercarpet\":[{\"type\":\"scattercarpet\",\"marker\":{\"colorbar\":{\"outlinewidth\":0,\"ticks\":\"\"}}}],\"carpet\":[{\"aaxis\":{\"endlinecolor\":\"#2a3f5f\",\"gridcolor\":\"white\",\"linecolor\":\"white\",\"minorgridcolor\":\"white\",\"startlinecolor\":\"#2a3f5f\"},\"baxis\":{\"endlinecolor\":\"#2a3f5f\",\"gridcolor\":\"white\",\"linecolor\":\"white\",\"minorgridcolor\":\"white\",\"startlinecolor\":\"#2a3f5f\"},\"type\":\"carpet\"}],\"table\":[{\"cells\":{\"fill\":{\"color\":\"#EBF0F8\"},\"line\":{\"color\":\"white\"}},\"header\":{\"fill\":{\"color\":\"#C8D4E3\"},\"line\":{\"color\":\"white\"}},\"type\":\"table\"}],\"barpolar\":[{\"marker\":{\"line\":{\"color\":\"#E5ECF6\",\"width\":0.5},\"pattern\":{\"fillmode\":\"overlay\",\"size\":10,\"solidity\":0.2}},\"type\":\"barpolar\"}],\"pie\":[{\"automargin\":true,\"type\":\"pie\"}]},\"layout\":{\"autotypenumbers\":\"strict\",\"colorway\":[\"#636efa\",\"#EF553B\",\"#00cc96\",\"#ab63fa\",\"#FFA15A\",\"#19d3f3\",\"#FF6692\",\"#B6E880\",\"#FF97FF\",\"#FECB52\"],\"font\":{\"color\":\"#2a3f5f\"},\"hovermode\":\"closest\",\"hoverlabel\":{\"align\":\"left\"},\"paper_bgcolor\":\"white\",\"plot_bgcolor\":\"#E5ECF6\",\"polar\":{\"bgcolor\":\"#E5ECF6\",\"angularaxis\":{\"gridcolor\":\"white\",\"linecolor\":\"white\",\"ticks\":\"\"},\"radialaxis\":{\"gridcolor\":\"white\",\"linecolor\":\"white\",\"ticks\":\"\"}},\"ternary\":{\"bgcolor\":\"#E5ECF6\",\"aaxis\":{\"gridcolor\":\"white\",\"linecolor\":\"white\",\"ticks\":\"\"},\"baxis\":{\"gridcolor\":\"white\",\"linecolor\":\"white\",\"ticks\":\"\"},\"caxis\":{\"gridcolor\":\"white\",\"linecolor\":\"white\",\"ticks\":\"\"}},\"coloraxis\":{\"colorbar\":{\"outlinewidth\":0,\"ticks\":\"\"}},\"colorscale\":{\"sequential\":[[0.0,\"#0d0887\"],[0.1111111111111111,\"#46039f\"],[0.2222222222222222,\"#7201a8\"],[0.3333333333333333,\"#9c179e\"],[0.4444444444444444,\"#bd3786\"],[0.5555555555555556,\"#d8576b\"],[0.6666666666666666,\"#ed7953\"],[0.7777777777777778,\"#fb9f3a\"],[0.8888888888888888,\"#fdca26\"],[1.0,\"#f0f921\"]],\"sequentialminus\":[[0.0,\"#0d0887\"],[0.1111111111111111,\"#46039f\"],[0.2222222222222222,\"#7201a8\"],[0.3333333333333333,\"#9c179e\"],[0.4444444444444444,\"#bd3786\"],[0.5555555555555556,\"#d8576b\"],[0.6666666666666666,\"#ed7953\"],[0.7777777777777778,\"#fb9f3a\"],[0.8888888888888888,\"#fdca26\"],[1.0,\"#f0f921\"]],\"diverging\":[[0,\"#8e0152\"],[0.1,\"#c51b7d\"],[0.2,\"#de77ae\"],[0.3,\"#f1b6da\"],[0.4,\"#fde0ef\"],[0.5,\"#f7f7f7\"],[0.6,\"#e6f5d0\"],[0.7,\"#b8e186\"],[0.8,\"#7fbc41\"],[0.9,\"#4d9221\"],[1,\"#276419\"]]},\"xaxis\":{\"gridcolor\":\"white\",\"linecolor\":\"white\",\"ticks\":\"\",\"title\":{\"standoff\":15},\"zerolinecolor\":\"white\",\"automargin\":true,\"zerolinewidth\":2},\"yaxis\":{\"gridcolor\":\"white\",\"linecolor\":\"white\",\"ticks\":\"\",\"title\":{\"standoff\":15},\"zerolinecolor\":\"white\",\"automargin\":true,\"zerolinewidth\":2},\"scene\":{\"xaxis\":{\"backgroundcolor\":\"#E5ECF6\",\"gridcolor\":\"white\",\"linecolor\":\"white\",\"showbackground\":true,\"ticks\":\"\",\"zerolinecolor\":\"white\",\"gridwidth\":2},\"yaxis\":{\"backgroundcolor\":\"#E5ECF6\",\"gridcolor\":\"white\",\"linecolor\":\"white\",\"showbackground\":true,\"ticks\":\"\",\"zerolinecolor\":\"white\",\"gridwidth\":2},\"zaxis\":{\"backgroundcolor\":\"#E5ECF6\",\"gridcolor\":\"white\",\"linecolor\":\"white\",\"showbackground\":true,\"ticks\":\"\",\"zerolinecolor\":\"white\",\"gridwidth\":2}},\"shapedefaults\":{\"line\":{\"color\":\"#2a3f5f\"}},\"annotationdefaults\":{\"arrowcolor\":\"#2a3f5f\",\"arrowhead\":0,\"arrowwidth\":1},\"geo\":{\"bgcolor\":\"white\",\"landcolor\":\"#E5ECF6\",\"subunitcolor\":\"white\",\"showland\":true,\"showlakes\":true,\"lakecolor\":\"white\"},\"title\":{\"x\":0.05},\"mapbox\":{\"style\":\"light\"}}},\"xaxis\":{\"anchor\":\"y\",\"domain\":[0.0,1.0],\"title\":{\"text\":\"mrate\"}},\"yaxis\":{\"anchor\":\"x\",\"domain\":[0.0,1.0],\"title\":{\"text\":\"mse\"}},\"annotations\":[{\"font\":{},\"showarrow\":false,\"text\":\"nof_filters=32\",\"x\":0.5,\"xanchor\":\"center\",\"xref\":\"paper\",\"y\":1.0,\"yanchor\":\"bottom\",\"yref\":\"paper\"}],\"legend\":{\"title\":{\"text\":\"method\"},\"tracegroupgap\":0},\"margin\":{\"t\":60},\"boxmode\":\"group\",\"height\":600},                        {\"responsive\": true}                    ).then(function(){\n",
       "                            \n",
       "var gd = document.getElementById('252314af-fdb4-4e37-af7a-2f5978435408');\n",
       "var x = new MutationObserver(function (mutations, observer) {{\n",
       "        var display = window.getComputedStyle(gd).display;\n",
       "        if (!display || display === 'none') {{\n",
       "            console.log([gd, 'removed!']);\n",
       "            Plotly.purge(gd);\n",
       "            observer.disconnect();\n",
       "        }}\n",
       "}});\n",
       "\n",
       "// Listen for the removal of the full notebook cells\n",
       "var notebookContainer = gd.closest('#notebook-container');\n",
       "if (notebookContainer) {{\n",
       "    x.observe(notebookContainer, {childList: true});\n",
       "}}\n",
       "\n",
       "// Listen for the clearing of the current output cell\n",
       "var outputEl = gd.closest('.output');\n",
       "if (outputEl) {{\n",
       "    x.observe(outputEl, {childList: true});\n",
       "}}\n",
       "\n",
       "                        })                };                });            </script>        </div>"
      ]
     },
     "metadata": {},
     "output_type": "display_data"
    }
   ],
   "source": [
    "data.query(\"method!='GNAR' and mrate ==0 \").plot.box(backend='plotly',x='mrate',color='method',y='mse',facet_col='nof_filters',height=600)\n"
   ]
  },
  {
   "cell_type": "markdown",
   "id": "5aaed9da-99b0-4162-9fe4-7d27bb82de32",
   "metadata": {},
   "source": [
    "## Random"
   ]
  },
  {
   "cell_type": "code",
   "execution_count": 51,
   "id": "de6f2569-bee5-4111-8394-699cc72aaf03",
   "metadata": {},
   "outputs": [
    {
     "data": {
      "application/vnd.plotly.v1+json": {
       "config": {
        "plotlyServerURL": "https://plot.ly"
       },
       "data": [
        {
         "alignmentgroup": "True",
         "hovertemplate": "method=STGCN<br>inter_method=linear<br>nof_filters=32<br>mrate=%{x}<br>mse=%{y}<extra></extra>",
         "legendgroup": "STGCN",
         "marker": {
          "color": "#636efa"
         },
         "name": "STGCN",
         "notched": false,
         "offsetgroup": "STGCN",
         "orientation": "v",
         "showlegend": true,
         "type": "box",
         "x": [
          0.3,
          0.8,
          0.3,
          0.8,
          0.3,
          0.8,
          0.3,
          0.8,
          0.3,
          0.8,
          0.3,
          0.8,
          0.3,
          0.8,
          0.3,
          0.8,
          0.3,
          0.8,
          0.3,
          0.8,
          0.3,
          0.8,
          0.3,
          0.8,
          0.3,
          0.8,
          0.3,
          0.8,
          0.3,
          0.8,
          0.3,
          0.8,
          0.3,
          0.8,
          0.3,
          0.8,
          0.3,
          0.8,
          0.3,
          0.8,
          0.3,
          0.8,
          0.3,
          0.8,
          0.3,
          0.8,
          0.3,
          0.8,
          0.3,
          0.8,
          0.3,
          0.8,
          0.3,
          0.8,
          0.3,
          0.8,
          0.3,
          0.8,
          0.3,
          0.8
         ],
         "x0": " ",
         "xaxis": "x",
         "y": [
          1.099887132644653,
          2.5444018840789795,
          1.1611595153808594,
          2.630146741867065,
          1.0309064388275146,
          2.384645700454712,
          1.1629021167755127,
          2.600013256072998,
          1.029935359954834,
          2.578941583633423,
          1.0674182176589966,
          2.505772590637207,
          1.134744644165039,
          2.56313157081604,
          1.175586819648743,
          2.578709363937378,
          1.0733338594436646,
          2.4108774662017822,
          1.041639804840088,
          2.447866916656494,
          1.124642252922058,
          2.46928334236145,
          1.0910959243774414,
          2.5726168155670166,
          1.2294284105300903,
          2.605711936950684,
          1.1775016784667969,
          2.64227294921875,
          1.0384750366210938,
          2.342793703079224,
          1.089476466178894,
          2.4923458099365234,
          1.1040196418762207,
          2.6245834827423096,
          1.1759403944015503,
          2.425903558731079,
          1.0911216735839844,
          2.7349729537963867,
          1.048393726348877,
          2.579792261123657,
          1.1442815065383911,
          2.5092198848724365,
          1.1310657262802124,
          2.324040174484253,
          1.209850788116455,
          2.3974146842956543,
          1.133663296699524,
          2.5901615619659424,
          1.1832122802734375,
          2.760765552520752,
          1.008258581161499,
          2.5665907859802246,
          1.107380986213684,
          2.505067825317383,
          1.138793706893921,
          2.53678822517395,
          1.1307646036148071,
          2.384052038192749,
          1.0817877054214478,
          2.3492677211761475
         ],
         "y0": " ",
         "yaxis": "y"
        },
        {
         "alignmentgroup": "True",
         "hovertemplate": "method=IT-STGCN<br>inter_method=linear<br>nof_filters=32<br>mrate=%{x}<br>mse=%{y}<extra></extra>",
         "legendgroup": "IT-STGCN",
         "marker": {
          "color": "#EF553B"
         },
         "name": "IT-STGCN",
         "notched": false,
         "offsetgroup": "IT-STGCN",
         "orientation": "v",
         "showlegend": true,
         "type": "box",
         "x": [
          0.3,
          0.8,
          0.3,
          0.8,
          0.3,
          0.8,
          0.3,
          0.8,
          0.3,
          0.8,
          0.3,
          0.8,
          0.3,
          0.8,
          0.3,
          0.8,
          0.3,
          0.8,
          0.3,
          0.8,
          0.3,
          0.8,
          0.3,
          0.8,
          0.3,
          0.8,
          0.3,
          0.8,
          0.3,
          0.8,
          0.3,
          0.8,
          0.3,
          0.8,
          0.3,
          0.8,
          0.3,
          0.8,
          0.3,
          0.8,
          0.3,
          0.8,
          0.3,
          0.8,
          0.3,
          0.8,
          0.3,
          0.8,
          0.3,
          0.8,
          0.3,
          0.8,
          0.3,
          0.8,
          0.3,
          0.8,
          0.3,
          0.8,
          0.3,
          0.8
         ],
         "x0": " ",
         "xaxis": "x",
         "y": [
          0.8692970871925354,
          1.408270001411438,
          0.8449809551239014,
          1.6073064804077148,
          0.8133566379547119,
          1.412209153175354,
          0.8737065196037292,
          1.4006143808364868,
          0.8675554990768433,
          1.4836331605911257,
          0.8229553699493408,
          1.3905322551727295,
          0.8808164000511169,
          1.4029542207717896,
          0.8140660524368286,
          1.5695351362228394,
          0.8815234899520874,
          1.4899485111236572,
          0.9222312569618224,
          1.3550244569778442,
          0.8699935674667358,
          1.469737887382507,
          0.8809950351715088,
          1.4317841529846191,
          0.9135943055152892,
          1.5820887088775637,
          0.9009425044059752,
          1.449971079826355,
          0.8455267548561096,
          1.4179517030715942,
          0.9043009281158448,
          1.3456062078475952,
          0.8645129799842834,
          1.4312130212783811,
          0.8610203862190247,
          1.3250055313110352,
          0.8754433393478394,
          1.3707334995269775,
          0.8422359824180603,
          1.5978103876113892,
          0.9824572801589966,
          1.293109655380249,
          0.862273633480072,
          1.4507932662963867,
          0.8421153426170349,
          1.3846514225006104,
          0.872726321220398,
          1.4221419095993042,
          0.8759350776672363,
          1.4214444160461426,
          0.8661194443702698,
          1.392616868019104,
          0.8896583914756775,
          1.313412308692932,
          0.8395102620124817,
          1.389999270439148,
          0.8486875891685486,
          1.4925079345703125,
          0.9190791845321656,
          1.4833415746688845
         ],
         "y0": " ",
         "yaxis": "y"
        }
       ],
       "layout": {
        "annotations": [
         {
          "font": {},
          "showarrow": false,
          "text": "nof_filters=32",
          "x": 0.49,
          "xanchor": "center",
          "xref": "paper",
          "y": 1,
          "yanchor": "bottom",
          "yref": "paper"
         },
         {
          "font": {},
          "showarrow": false,
          "text": "inter_method=linear",
          "textangle": 90,
          "x": 0.98,
          "xanchor": "left",
          "xref": "paper",
          "y": 0.5,
          "yanchor": "middle",
          "yref": "paper"
         }
        ],
        "autosize": true,
        "boxmode": "group",
        "legend": {
         "title": {
          "text": "method"
         },
         "tracegroupgap": 0
        },
        "margin": {
         "t": 60
        },
        "template": {
         "data": {
          "bar": [
           {
            "error_x": {
             "color": "#2a3f5f"
            },
            "error_y": {
             "color": "#2a3f5f"
            },
            "marker": {
             "line": {
              "color": "#E5ECF6",
              "width": 0.5
             },
             "pattern": {
              "fillmode": "overlay",
              "size": 10,
              "solidity": 0.2
             }
            },
            "type": "bar"
           }
          ],
          "barpolar": [
           {
            "marker": {
             "line": {
              "color": "#E5ECF6",
              "width": 0.5
             },
             "pattern": {
              "fillmode": "overlay",
              "size": 10,
              "solidity": 0.2
             }
            },
            "type": "barpolar"
           }
          ],
          "carpet": [
           {
            "aaxis": {
             "endlinecolor": "#2a3f5f",
             "gridcolor": "white",
             "linecolor": "white",
             "minorgridcolor": "white",
             "startlinecolor": "#2a3f5f"
            },
            "baxis": {
             "endlinecolor": "#2a3f5f",
             "gridcolor": "white",
             "linecolor": "white",
             "minorgridcolor": "white",
             "startlinecolor": "#2a3f5f"
            },
            "type": "carpet"
           }
          ],
          "choropleth": [
           {
            "colorbar": {
             "outlinewidth": 0,
             "ticks": ""
            },
            "type": "choropleth"
           }
          ],
          "contour": [
           {
            "colorbar": {
             "outlinewidth": 0,
             "ticks": ""
            },
            "colorscale": [
             [
              0,
              "#0d0887"
             ],
             [
              0.1111111111111111,
              "#46039f"
             ],
             [
              0.2222222222222222,
              "#7201a8"
             ],
             [
              0.3333333333333333,
              "#9c179e"
             ],
             [
              0.4444444444444444,
              "#bd3786"
             ],
             [
              0.5555555555555556,
              "#d8576b"
             ],
             [
              0.6666666666666666,
              "#ed7953"
             ],
             [
              0.7777777777777778,
              "#fb9f3a"
             ],
             [
              0.8888888888888888,
              "#fdca26"
             ],
             [
              1,
              "#f0f921"
             ]
            ],
            "type": "contour"
           }
          ],
          "contourcarpet": [
           {
            "colorbar": {
             "outlinewidth": 0,
             "ticks": ""
            },
            "type": "contourcarpet"
           }
          ],
          "heatmap": [
           {
            "colorbar": {
             "outlinewidth": 0,
             "ticks": ""
            },
            "colorscale": [
             [
              0,
              "#0d0887"
             ],
             [
              0.1111111111111111,
              "#46039f"
             ],
             [
              0.2222222222222222,
              "#7201a8"
             ],
             [
              0.3333333333333333,
              "#9c179e"
             ],
             [
              0.4444444444444444,
              "#bd3786"
             ],
             [
              0.5555555555555556,
              "#d8576b"
             ],
             [
              0.6666666666666666,
              "#ed7953"
             ],
             [
              0.7777777777777778,
              "#fb9f3a"
             ],
             [
              0.8888888888888888,
              "#fdca26"
             ],
             [
              1,
              "#f0f921"
             ]
            ],
            "type": "heatmap"
           }
          ],
          "heatmapgl": [
           {
            "colorbar": {
             "outlinewidth": 0,
             "ticks": ""
            },
            "colorscale": [
             [
              0,
              "#0d0887"
             ],
             [
              0.1111111111111111,
              "#46039f"
             ],
             [
              0.2222222222222222,
              "#7201a8"
             ],
             [
              0.3333333333333333,
              "#9c179e"
             ],
             [
              0.4444444444444444,
              "#bd3786"
             ],
             [
              0.5555555555555556,
              "#d8576b"
             ],
             [
              0.6666666666666666,
              "#ed7953"
             ],
             [
              0.7777777777777778,
              "#fb9f3a"
             ],
             [
              0.8888888888888888,
              "#fdca26"
             ],
             [
              1,
              "#f0f921"
             ]
            ],
            "type": "heatmapgl"
           }
          ],
          "histogram": [
           {
            "marker": {
             "pattern": {
              "fillmode": "overlay",
              "size": 10,
              "solidity": 0.2
             }
            },
            "type": "histogram"
           }
          ],
          "histogram2d": [
           {
            "colorbar": {
             "outlinewidth": 0,
             "ticks": ""
            },
            "colorscale": [
             [
              0,
              "#0d0887"
             ],
             [
              0.1111111111111111,
              "#46039f"
             ],
             [
              0.2222222222222222,
              "#7201a8"
             ],
             [
              0.3333333333333333,
              "#9c179e"
             ],
             [
              0.4444444444444444,
              "#bd3786"
             ],
             [
              0.5555555555555556,
              "#d8576b"
             ],
             [
              0.6666666666666666,
              "#ed7953"
             ],
             [
              0.7777777777777778,
              "#fb9f3a"
             ],
             [
              0.8888888888888888,
              "#fdca26"
             ],
             [
              1,
              "#f0f921"
             ]
            ],
            "type": "histogram2d"
           }
          ],
          "histogram2dcontour": [
           {
            "colorbar": {
             "outlinewidth": 0,
             "ticks": ""
            },
            "colorscale": [
             [
              0,
              "#0d0887"
             ],
             [
              0.1111111111111111,
              "#46039f"
             ],
             [
              0.2222222222222222,
              "#7201a8"
             ],
             [
              0.3333333333333333,
              "#9c179e"
             ],
             [
              0.4444444444444444,
              "#bd3786"
             ],
             [
              0.5555555555555556,
              "#d8576b"
             ],
             [
              0.6666666666666666,
              "#ed7953"
             ],
             [
              0.7777777777777778,
              "#fb9f3a"
             ],
             [
              0.8888888888888888,
              "#fdca26"
             ],
             [
              1,
              "#f0f921"
             ]
            ],
            "type": "histogram2dcontour"
           }
          ],
          "mesh3d": [
           {
            "colorbar": {
             "outlinewidth": 0,
             "ticks": ""
            },
            "type": "mesh3d"
           }
          ],
          "parcoords": [
           {
            "line": {
             "colorbar": {
              "outlinewidth": 0,
              "ticks": ""
             }
            },
            "type": "parcoords"
           }
          ],
          "pie": [
           {
            "automargin": true,
            "type": "pie"
           }
          ],
          "scatter": [
           {
            "fillpattern": {
             "fillmode": "overlay",
             "size": 10,
             "solidity": 0.2
            },
            "type": "scatter"
           }
          ],
          "scatter3d": [
           {
            "line": {
             "colorbar": {
              "outlinewidth": 0,
              "ticks": ""
             }
            },
            "marker": {
             "colorbar": {
              "outlinewidth": 0,
              "ticks": ""
             }
            },
            "type": "scatter3d"
           }
          ],
          "scattercarpet": [
           {
            "marker": {
             "colorbar": {
              "outlinewidth": 0,
              "ticks": ""
             }
            },
            "type": "scattercarpet"
           }
          ],
          "scattergeo": [
           {
            "marker": {
             "colorbar": {
              "outlinewidth": 0,
              "ticks": ""
             }
            },
            "type": "scattergeo"
           }
          ],
          "scattergl": [
           {
            "marker": {
             "colorbar": {
              "outlinewidth": 0,
              "ticks": ""
             }
            },
            "type": "scattergl"
           }
          ],
          "scattermapbox": [
           {
            "marker": {
             "colorbar": {
              "outlinewidth": 0,
              "ticks": ""
             }
            },
            "type": "scattermapbox"
           }
          ],
          "scatterpolar": [
           {
            "marker": {
             "colorbar": {
              "outlinewidth": 0,
              "ticks": ""
             }
            },
            "type": "scatterpolar"
           }
          ],
          "scatterpolargl": [
           {
            "marker": {
             "colorbar": {
              "outlinewidth": 0,
              "ticks": ""
             }
            },
            "type": "scatterpolargl"
           }
          ],
          "scatterternary": [
           {
            "marker": {
             "colorbar": {
              "outlinewidth": 0,
              "ticks": ""
             }
            },
            "type": "scatterternary"
           }
          ],
          "surface": [
           {
            "colorbar": {
             "outlinewidth": 0,
             "ticks": ""
            },
            "colorscale": [
             [
              0,
              "#0d0887"
             ],
             [
              0.1111111111111111,
              "#46039f"
             ],
             [
              0.2222222222222222,
              "#7201a8"
             ],
             [
              0.3333333333333333,
              "#9c179e"
             ],
             [
              0.4444444444444444,
              "#bd3786"
             ],
             [
              0.5555555555555556,
              "#d8576b"
             ],
             [
              0.6666666666666666,
              "#ed7953"
             ],
             [
              0.7777777777777778,
              "#fb9f3a"
             ],
             [
              0.8888888888888888,
              "#fdca26"
             ],
             [
              1,
              "#f0f921"
             ]
            ],
            "type": "surface"
           }
          ],
          "table": [
           {
            "cells": {
             "fill": {
              "color": "#EBF0F8"
             },
             "line": {
              "color": "white"
             }
            },
            "header": {
             "fill": {
              "color": "#C8D4E3"
             },
             "line": {
              "color": "white"
             }
            },
            "type": "table"
           }
          ]
         },
         "layout": {
          "annotationdefaults": {
           "arrowcolor": "#2a3f5f",
           "arrowhead": 0,
           "arrowwidth": 1
          },
          "autotypenumbers": "strict",
          "coloraxis": {
           "colorbar": {
            "outlinewidth": 0,
            "ticks": ""
           }
          },
          "colorscale": {
           "diverging": [
            [
             0,
             "#8e0152"
            ],
            [
             0.1,
             "#c51b7d"
            ],
            [
             0.2,
             "#de77ae"
            ],
            [
             0.3,
             "#f1b6da"
            ],
            [
             0.4,
             "#fde0ef"
            ],
            [
             0.5,
             "#f7f7f7"
            ],
            [
             0.6,
             "#e6f5d0"
            ],
            [
             0.7,
             "#b8e186"
            ],
            [
             0.8,
             "#7fbc41"
            ],
            [
             0.9,
             "#4d9221"
            ],
            [
             1,
             "#276419"
            ]
           ],
           "sequential": [
            [
             0,
             "#0d0887"
            ],
            [
             0.1111111111111111,
             "#46039f"
            ],
            [
             0.2222222222222222,
             "#7201a8"
            ],
            [
             0.3333333333333333,
             "#9c179e"
            ],
            [
             0.4444444444444444,
             "#bd3786"
            ],
            [
             0.5555555555555556,
             "#d8576b"
            ],
            [
             0.6666666666666666,
             "#ed7953"
            ],
            [
             0.7777777777777778,
             "#fb9f3a"
            ],
            [
             0.8888888888888888,
             "#fdca26"
            ],
            [
             1,
             "#f0f921"
            ]
           ],
           "sequentialminus": [
            [
             0,
             "#0d0887"
            ],
            [
             0.1111111111111111,
             "#46039f"
            ],
            [
             0.2222222222222222,
             "#7201a8"
            ],
            [
             0.3333333333333333,
             "#9c179e"
            ],
            [
             0.4444444444444444,
             "#bd3786"
            ],
            [
             0.5555555555555556,
             "#d8576b"
            ],
            [
             0.6666666666666666,
             "#ed7953"
            ],
            [
             0.7777777777777778,
             "#fb9f3a"
            ],
            [
             0.8888888888888888,
             "#fdca26"
            ],
            [
             1,
             "#f0f921"
            ]
           ]
          },
          "colorway": [
           "#636efa",
           "#EF553B",
           "#00cc96",
           "#ab63fa",
           "#FFA15A",
           "#19d3f3",
           "#FF6692",
           "#B6E880",
           "#FF97FF",
           "#FECB52"
          ],
          "font": {
           "color": "#2a3f5f"
          },
          "geo": {
           "bgcolor": "white",
           "lakecolor": "white",
           "landcolor": "#E5ECF6",
           "showlakes": true,
           "showland": true,
           "subunitcolor": "white"
          },
          "hoverlabel": {
           "align": "left"
          },
          "hovermode": "closest",
          "mapbox": {
           "style": "light"
          },
          "paper_bgcolor": "white",
          "plot_bgcolor": "#E5ECF6",
          "polar": {
           "angularaxis": {
            "gridcolor": "white",
            "linecolor": "white",
            "ticks": ""
           },
           "bgcolor": "#E5ECF6",
           "radialaxis": {
            "gridcolor": "white",
            "linecolor": "white",
            "ticks": ""
           }
          },
          "scene": {
           "xaxis": {
            "backgroundcolor": "#E5ECF6",
            "gridcolor": "white",
            "gridwidth": 2,
            "linecolor": "white",
            "showbackground": true,
            "ticks": "",
            "zerolinecolor": "white"
           },
           "yaxis": {
            "backgroundcolor": "#E5ECF6",
            "gridcolor": "white",
            "gridwidth": 2,
            "linecolor": "white",
            "showbackground": true,
            "ticks": "",
            "zerolinecolor": "white"
           },
           "zaxis": {
            "backgroundcolor": "#E5ECF6",
            "gridcolor": "white",
            "gridwidth": 2,
            "linecolor": "white",
            "showbackground": true,
            "ticks": "",
            "zerolinecolor": "white"
           }
          },
          "shapedefaults": {
           "line": {
            "color": "#2a3f5f"
           }
          },
          "ternary": {
           "aaxis": {
            "gridcolor": "white",
            "linecolor": "white",
            "ticks": ""
           },
           "baxis": {
            "gridcolor": "white",
            "linecolor": "white",
            "ticks": ""
           },
           "bgcolor": "#E5ECF6",
           "caxis": {
            "gridcolor": "white",
            "linecolor": "white",
            "ticks": ""
           }
          },
          "title": {
           "x": 0.05
          },
          "xaxis": {
           "automargin": true,
           "gridcolor": "white",
           "linecolor": "white",
           "ticks": "",
           "title": {
            "standoff": 15
           },
           "zerolinecolor": "white",
           "zerolinewidth": 2
          },
          "yaxis": {
           "automargin": true,
           "gridcolor": "white",
           "linecolor": "white",
           "ticks": "",
           "title": {
            "standoff": 15
           },
           "zerolinecolor": "white",
           "zerolinewidth": 2
          }
         }
        },
        "xaxis": {
         "anchor": "y",
         "autorange": true,
         "domain": [
          0,
          0.98
         ],
         "range": [
          0.04821801938794905,
          1.051781980612051
         ],
         "title": {
          "text": "mrate"
         },
         "type": "linear"
        },
        "yaxis": {
         "anchor": "x",
         "autorange": true,
         "domain": [
          0,
          1
         ],
         "range": [
          0.7051672538121542,
          2.8689549366633096
         ],
         "title": {
          "text": "mse"
         },
         "type": "linear"
        }
       }
      },
      "image/png": "[encoded data removed]",
      "text/html": [
       "<div>                            <div id=\"1dd70c16-1db9-45a2-9fa5-6009301332b0\" class=\"plotly-graph-div\" style=\"height:800px; width:100%;\"></div>            <script type=\"text/javascript\">                require([\"plotly\"], function(Plotly) {                    window.PLOTLYENV=window.PLOTLYENV || {};                                    if (document.getElementById(\"1dd70c16-1db9-45a2-9fa5-6009301332b0\")) {                    Plotly.newPlot(                        \"1dd70c16-1db9-45a2-9fa5-6009301332b0\",                        [{\"alignmentgroup\":\"True\",\"hovertemplate\":\"method=STGCN<br>inter_method=linear<br>nof_filters=32<br>mrate=%{x}<br>mse=%{y}<extra></extra>\",\"legendgroup\":\"STGCN\",\"marker\":{\"color\":\"#636efa\"},\"name\":\"STGCN\",\"notched\":false,\"offsetgroup\":\"STGCN\",\"orientation\":\"v\",\"showlegend\":true,\"x\":[0.3,0.8,0.3,0.8,0.3,0.8,0.3,0.8,0.3,0.8,0.3,0.8,0.3,0.8,0.3,0.8,0.3,0.8,0.3,0.8,0.3,0.8,0.3,0.8,0.3,0.8,0.3,0.8,0.3,0.8,0.3,0.8,0.3,0.8,0.3,0.8,0.3,0.8,0.3,0.8,0.3,0.8,0.3,0.8,0.3,0.8,0.3,0.8,0.3,0.8,0.3,0.8,0.3,0.8,0.3,0.8,0.3,0.8,0.3,0.8],\"x0\":\" \",\"xaxis\":\"x\",\"y\":[1.099887132644653,2.5444018840789795,1.1611595153808594,2.630146741867065,1.0309064388275146,2.384645700454712,1.1629021167755127,2.600013256072998,1.029935359954834,2.578941583633423,1.0674182176589966,2.505772590637207,1.134744644165039,2.56313157081604,1.175586819648743,2.578709363937378,1.0733338594436646,2.4108774662017822,1.041639804840088,2.447866916656494,1.124642252922058,2.46928334236145,1.0910959243774414,2.5726168155670166,1.2294284105300903,2.605711936950684,1.1775016784667969,2.64227294921875,1.0384750366210938,2.342793703079224,1.089476466178894,2.4923458099365234,1.1040196418762207,2.6245834827423096,1.1759403944015503,2.425903558731079,1.0911216735839844,2.7349729537963867,1.048393726348877,2.579792261123657,1.1442815065383911,2.5092198848724365,1.1310657262802124,2.324040174484253,1.209850788116455,2.3974146842956543,1.133663296699524,2.5901615619659424,1.1832122802734375,2.760765552520752,1.008258581161499,2.5665907859802246,1.107380986213684,2.505067825317383,1.138793706893921,2.53678822517395,1.1307646036148071,2.384052038192749,1.0817877054214478,2.3492677211761475],\"y0\":\" \",\"yaxis\":\"y\",\"type\":\"box\"},{\"alignmentgroup\":\"True\",\"hovertemplate\":\"method=IT-STGCN<br>inter_method=linear<br>nof_filters=32<br>mrate=%{x}<br>mse=%{y}<extra></extra>\",\"legendgroup\":\"IT-STGCN\",\"marker\":{\"color\":\"#EF553B\"},\"name\":\"IT-STGCN\",\"notched\":false,\"offsetgroup\":\"IT-STGCN\",\"orientation\":\"v\",\"showlegend\":true,\"x\":[0.3,0.8,0.3,0.8,0.3,0.8,0.3,0.8,0.3,0.8,0.3,0.8,0.3,0.8,0.3,0.8,0.3,0.8,0.3,0.8,0.3,0.8,0.3,0.8,0.3,0.8,0.3,0.8,0.3,0.8,0.3,0.8,0.3,0.8,0.3,0.8,0.3,0.8,0.3,0.8,0.3,0.8,0.3,0.8,0.3,0.8,0.3,0.8,0.3,0.8,0.3,0.8,0.3,0.8,0.3,0.8,0.3,0.8,0.3,0.8],\"x0\":\" \",\"xaxis\":\"x\",\"y\":[0.8692970871925354,1.408270001411438,0.8449809551239014,1.6073064804077148,0.8133566379547119,1.412209153175354,0.8737065196037292,1.4006143808364868,0.8675554990768433,1.4836331605911257,0.8229553699493408,1.3905322551727295,0.8808164000511169,1.4029542207717896,0.8140660524368286,1.5695351362228394,0.8815234899520874,1.4899485111236572,0.9222312569618224,1.3550244569778442,0.8699935674667358,1.469737887382507,0.8809950351715088,1.4317841529846191,0.9135943055152892,1.5820887088775637,0.9009425044059752,1.449971079826355,0.8455267548561096,1.4179517030715942,0.9043009281158448,1.3456062078475952,0.8645129799842834,1.4312130212783811,0.8610203862190247,1.3250055313110352,0.8754433393478394,1.3707334995269775,0.8422359824180603,1.5978103876113892,0.9824572801589966,1.293109655380249,0.862273633480072,1.4507932662963867,0.8421153426170349,1.3846514225006104,0.872726321220398,1.4221419095993042,0.8759350776672363,1.4214444160461426,0.8661194443702698,1.392616868019104,0.8896583914756775,1.313412308692932,0.8395102620124817,1.389999270439148,0.8486875891685486,1.4925079345703125,0.9190791845321656,1.4833415746688845],\"y0\":\" \",\"yaxis\":\"y\",\"type\":\"box\"}],                        {\"template\":{\"data\":{\"histogram2dcontour\":[{\"type\":\"histogram2dcontour\",\"colorbar\":{\"outlinewidth\":0,\"ticks\":\"\"},\"colorscale\":[[0.0,\"#0d0887\"],[0.1111111111111111,\"#46039f\"],[0.2222222222222222,\"#7201a8\"],[0.3333333333333333,\"#9c179e\"],[0.4444444444444444,\"#bd3786\"],[0.5555555555555556,\"#d8576b\"],[0.6666666666666666,\"#ed7953\"],[0.7777777777777778,\"#fb9f3a\"],[0.8888888888888888,\"#fdca26\"],[1.0,\"#f0f921\"]]}],\"choropleth\":[{\"type\":\"choropleth\",\"colorbar\":{\"outlinewidth\":0,\"ticks\":\"\"}}],\"histogram2d\":[{\"type\":\"histogram2d\",\"colorbar\":{\"outlinewidth\":0,\"ticks\":\"\"},\"colorscale\":[[0.0,\"#0d0887\"],[0.1111111111111111,\"#46039f\"],[0.2222222222222222,\"#7201a8\"],[0.3333333333333333,\"#9c179e\"],[0.4444444444444444,\"#bd3786\"],[0.5555555555555556,\"#d8576b\"],[0.6666666666666666,\"#ed7953\"],[0.7777777777777778,\"#fb9f3a\"],[0.8888888888888888,\"#fdca26\"],[1.0,\"#f0f921\"]]}],\"heatmap\":[{\"type\":\"heatmap\",\"colorbar\":{\"outlinewidth\":0,\"ticks\":\"\"},\"colorscale\":[[0.0,\"#0d0887\"],[0.1111111111111111,\"#46039f\"],[0.2222222222222222,\"#7201a8\"],[0.3333333333333333,\"#9c179e\"],[0.4444444444444444,\"#bd3786\"],[0.5555555555555556,\"#d8576b\"],[0.6666666666666666,\"#ed7953\"],[0.7777777777777778,\"#fb9f3a\"],[0.8888888888888888,\"#fdca26\"],[1.0,\"#f0f921\"]]}],\"heatmapgl\":[{\"type\":\"heatmapgl\",\"colorbar\":{\"outlinewidth\":0,\"ticks\":\"\"},\"colorscale\":[[0.0,\"#0d0887\"],[0.1111111111111111,\"#46039f\"],[0.2222222222222222,\"#7201a8\"],[0.3333333333333333,\"#9c179e\"],[0.4444444444444444,\"#bd3786\"],[0.5555555555555556,\"#d8576b\"],[0.6666666666666666,\"#ed7953\"],[0.7777777777777778,\"#fb9f3a\"],[0.8888888888888888,\"#fdca26\"],[1.0,\"#f0f921\"]]}],\"contourcarpet\":[{\"type\":\"contourcarpet\",\"colorbar\":{\"outlinewidth\":0,\"ticks\":\"\"}}],\"contour\":[{\"type\":\"contour\",\"colorbar\":{\"outlinewidth\":0,\"ticks\":\"\"},\"colorscale\":[[0.0,\"#0d0887\"],[0.1111111111111111,\"#46039f\"],[0.2222222222222222,\"#7201a8\"],[0.3333333333333333,\"#9c179e\"],[0.4444444444444444,\"#bd3786\"],[0.5555555555555556,\"#d8576b\"],[0.6666666666666666,\"#ed7953\"],[0.7777777777777778,\"#fb9f3a\"],[0.8888888888888888,\"#fdca26\"],[1.0,\"#f0f921\"]]}],\"surface\":[{\"type\":\"surface\",\"colorbar\":{\"outlinewidth\":0,\"ticks\":\"\"},\"colorscale\":[[0.0,\"#0d0887\"],[0.1111111111111111,\"#46039f\"],[0.2222222222222222,\"#7201a8\"],[0.3333333333333333,\"#9c179e\"],[0.4444444444444444,\"#bd3786\"],[0.5555555555555556,\"#d8576b\"],[0.6666666666666666,\"#ed7953\"],[0.7777777777777778,\"#fb9f3a\"],[0.8888888888888888,\"#fdca26\"],[1.0,\"#f0f921\"]]}],\"mesh3d\":[{\"type\":\"mesh3d\",\"colorbar\":{\"outlinewidth\":0,\"ticks\":\"\"}}],\"scatter\":[{\"fillpattern\":{\"fillmode\":\"overlay\",\"size\":10,\"solidity\":0.2},\"type\":\"scatter\"}],\"parcoords\":[{\"type\":\"parcoords\",\"line\":{\"colorbar\":{\"outlinewidth\":0,\"ticks\":\"\"}}}],\"scatterpolargl\":[{\"type\":\"scatterpolargl\",\"marker\":{\"colorbar\":{\"outlinewidth\":0,\"ticks\":\"\"}}}],\"bar\":[{\"error_x\":{\"color\":\"#2a3f5f\"},\"error_y\":{\"color\":\"#2a3f5f\"},\"marker\":{\"line\":{\"color\":\"#E5ECF6\",\"width\":0.5},\"pattern\":{\"fillmode\":\"overlay\",\"size\":10,\"solidity\":0.2}},\"type\":\"bar\"}],\"scattergeo\":[{\"type\":\"scattergeo\",\"marker\":{\"colorbar\":{\"outlinewidth\":0,\"ticks\":\"\"}}}],\"scatterpolar\":[{\"type\":\"scatterpolar\",\"marker\":{\"colorbar\":{\"outlinewidth\":0,\"ticks\":\"\"}}}],\"histogram\":[{\"marker\":{\"pattern\":{\"fillmode\":\"overlay\",\"size\":10,\"solidity\":0.2}},\"type\":\"histogram\"}],\"scattergl\":[{\"type\":\"scattergl\",\"marker\":{\"colorbar\":{\"outlinewidth\":0,\"ticks\":\"\"}}}],\"scatter3d\":[{\"type\":\"scatter3d\",\"line\":{\"colorbar\":{\"outlinewidth\":0,\"ticks\":\"\"}},\"marker\":{\"colorbar\":{\"outlinewidth\":0,\"ticks\":\"\"}}}],\"scattermapbox\":[{\"type\":\"scattermapbox\",\"marker\":{\"colorbar\":{\"outlinewidth\":0,\"ticks\":\"\"}}}],\"scatterternary\":[{\"type\":\"scatterternary\",\"marker\":{\"colorbar\":{\"outlinewidth\":0,\"ticks\":\"\"}}}],\"scattercarpet\":[{\"type\":\"scattercarpet\",\"marker\":{\"colorbar\":{\"outlinewidth\":0,\"ticks\":\"\"}}}],\"carpet\":[{\"aaxis\":{\"endlinecolor\":\"#2a3f5f\",\"gridcolor\":\"white\",\"linecolor\":\"white\",\"minorgridcolor\":\"white\",\"startlinecolor\":\"#2a3f5f\"},\"baxis\":{\"endlinecolor\":\"#2a3f5f\",\"gridcolor\":\"white\",\"linecolor\":\"white\",\"minorgridcolor\":\"white\",\"startlinecolor\":\"#2a3f5f\"},\"type\":\"carpet\"}],\"table\":[{\"cells\":{\"fill\":{\"color\":\"#EBF0F8\"},\"line\":{\"color\":\"white\"}},\"header\":{\"fill\":{\"color\":\"#C8D4E3\"},\"line\":{\"color\":\"white\"}},\"type\":\"table\"}],\"barpolar\":[{\"marker\":{\"line\":{\"color\":\"#E5ECF6\",\"width\":0.5},\"pattern\":{\"fillmode\":\"overlay\",\"size\":10,\"solidity\":0.2}},\"type\":\"barpolar\"}],\"pie\":[{\"automargin\":true,\"type\":\"pie\"}]},\"layout\":{\"autotypenumbers\":\"strict\",\"colorway\":[\"#636efa\",\"#EF553B\",\"#00cc96\",\"#ab63fa\",\"#FFA15A\",\"#19d3f3\",\"#FF6692\",\"#B6E880\",\"#FF97FF\",\"#FECB52\"],\"font\":{\"color\":\"#2a3f5f\"},\"hovermode\":\"closest\",\"hoverlabel\":{\"align\":\"left\"},\"paper_bgcolor\":\"white\",\"plot_bgcolor\":\"#E5ECF6\",\"polar\":{\"bgcolor\":\"#E5ECF6\",\"angularaxis\":{\"gridcolor\":\"white\",\"linecolor\":\"white\",\"ticks\":\"\"},\"radialaxis\":{\"gridcolor\":\"white\",\"linecolor\":\"white\",\"ticks\":\"\"}},\"ternary\":{\"bgcolor\":\"#E5ECF6\",\"aaxis\":{\"gridcolor\":\"white\",\"linecolor\":\"white\",\"ticks\":\"\"},\"baxis\":{\"gridcolor\":\"white\",\"linecolor\":\"white\",\"ticks\":\"\"},\"caxis\":{\"gridcolor\":\"white\",\"linecolor\":\"white\",\"ticks\":\"\"}},\"coloraxis\":{\"colorbar\":{\"outlinewidth\":0,\"ticks\":\"\"}},\"colorscale\":{\"sequential\":[[0.0,\"#0d0887\"],[0.1111111111111111,\"#46039f\"],[0.2222222222222222,\"#7201a8\"],[0.3333333333333333,\"#9c179e\"],[0.4444444444444444,\"#bd3786\"],[0.5555555555555556,\"#d8576b\"],[0.6666666666666666,\"#ed7953\"],[0.7777777777777778,\"#fb9f3a\"],[0.8888888888888888,\"#fdca26\"],[1.0,\"#f0f921\"]],\"sequentialminus\":[[0.0,\"#0d0887\"],[0.1111111111111111,\"#46039f\"],[0.2222222222222222,\"#7201a8\"],[0.3333333333333333,\"#9c179e\"],[0.4444444444444444,\"#bd3786\"],[0.5555555555555556,\"#d8576b\"],[0.6666666666666666,\"#ed7953\"],[0.7777777777777778,\"#fb9f3a\"],[0.8888888888888888,\"#fdca26\"],[1.0,\"#f0f921\"]],\"diverging\":[[0,\"#8e0152\"],[0.1,\"#c51b7d\"],[0.2,\"#de77ae\"],[0.3,\"#f1b6da\"],[0.4,\"#fde0ef\"],[0.5,\"#f7f7f7\"],[0.6,\"#e6f5d0\"],[0.7,\"#b8e186\"],[0.8,\"#7fbc41\"],[0.9,\"#4d9221\"],[1,\"#276419\"]]},\"xaxis\":{\"gridcolor\":\"white\",\"linecolor\":\"white\",\"ticks\":\"\",\"title\":{\"standoff\":15},\"zerolinecolor\":\"white\",\"automargin\":true,\"zerolinewidth\":2},\"yaxis\":{\"gridcolor\":\"white\",\"linecolor\":\"white\",\"ticks\":\"\",\"title\":{\"standoff\":15},\"zerolinecolor\":\"white\",\"automargin\":true,\"zerolinewidth\":2},\"scene\":{\"xaxis\":{\"backgroundcolor\":\"#E5ECF6\",\"gridcolor\":\"white\",\"linecolor\":\"white\",\"showbackground\":true,\"ticks\":\"\",\"zerolinecolor\":\"white\",\"gridwidth\":2},\"yaxis\":{\"backgroundcolor\":\"#E5ECF6\",\"gridcolor\":\"white\",\"linecolor\":\"white\",\"showbackground\":true,\"ticks\":\"\",\"zerolinecolor\":\"white\",\"gridwidth\":2},\"zaxis\":{\"backgroundcolor\":\"#E5ECF6\",\"gridcolor\":\"white\",\"linecolor\":\"white\",\"showbackground\":true,\"ticks\":\"\",\"zerolinecolor\":\"white\",\"gridwidth\":2}},\"shapedefaults\":{\"line\":{\"color\":\"#2a3f5f\"}},\"annotationdefaults\":{\"arrowcolor\":\"#2a3f5f\",\"arrowhead\":0,\"arrowwidth\":1},\"geo\":{\"bgcolor\":\"white\",\"landcolor\":\"#E5ECF6\",\"subunitcolor\":\"white\",\"showland\":true,\"showlakes\":true,\"lakecolor\":\"white\"},\"title\":{\"x\":0.05},\"mapbox\":{\"style\":\"light\"}}},\"xaxis\":{\"anchor\":\"y\",\"domain\":[0.0,0.98],\"title\":{\"text\":\"mrate\"}},\"yaxis\":{\"anchor\":\"x\",\"domain\":[0.0,1.0],\"title\":{\"text\":\"mse\"}},\"annotations\":[{\"font\":{},\"showarrow\":false,\"text\":\"nof_filters=32\",\"x\":0.49,\"xanchor\":\"center\",\"xref\":\"paper\",\"y\":1.0,\"yanchor\":\"bottom\",\"yref\":\"paper\"},{\"font\":{},\"showarrow\":false,\"text\":\"inter_method=linear\",\"textangle\":90,\"x\":0.98,\"xanchor\":\"left\",\"xref\":\"paper\",\"y\":0.5,\"yanchor\":\"middle\",\"yref\":\"paper\"}],\"legend\":{\"title\":{\"text\":\"method\"},\"tracegroupgap\":0},\"margin\":{\"t\":60},\"boxmode\":\"group\",\"height\":800},                        {\"responsive\": true}                    ).then(function(){\n",
       "                            \n",
       "var gd = document.getElementById('1dd70c16-1db9-45a2-9fa5-6009301332b0');\n",
       "var x = new MutationObserver(function (mutations, observer) {{\n",
       "        var display = window.getComputedStyle(gd).display;\n",
       "        if (!display || display === 'none') {{\n",
       "            console.log([gd, 'removed!']);\n",
       "            Plotly.purge(gd);\n",
       "            observer.disconnect();\n",
       "        }}\n",
       "}});\n",
       "\n",
       "// Listen for the removal of the full notebook cells\n",
       "var notebookContainer = gd.closest('#notebook-container');\n",
       "if (notebookContainer) {{\n",
       "    x.observe(notebookContainer, {childList: true});\n",
       "}}\n",
       "\n",
       "// Listen for the clearing of the current output cell\n",
       "var outputEl = gd.closest('.output');\n",
       "if (outputEl) {{\n",
       "    x.observe(outputEl, {childList: true});\n",
       "}}\n",
       "\n",
       "                        })                };                });            </script>        </div>"
      ]
     },
     "metadata": {},
     "output_type": "display_data"
    }
   ],
   "source": [
    "data.query(\"method!='GNAR' and mtype =='rand'\").plot.box(backend='plotly',x='mrate',color='method',y='mse',facet_col='nof_filters',facet_row='inter_method',height=800)\n"
   ]
  },
  {
   "cell_type": "markdown",
   "id": "28cd33cc-60e9-4b81-902a-acdd9004aa8c",
   "metadata": {},
   "source": [
    "## Block"
   ]
  },
  {
   "cell_type": "code",
   "execution_count": null,
   "id": "cb59b59c-ff36-4391-bd0c-8f6bf8f0dc9d",
   "metadata": {},
   "outputs": [],
   "source": [
    "data.query(\"method!='GNAR' and mtype =='block'\").plot.box(backend='plotly',x='mrate',color='method',y='mse',facet_col='inter_method',facet_row='lags',height=800)\n"
   ]
  },
  {
   "cell_type": "markdown",
   "id": "0b266f04-9b84-4fc1-95e1-c031dcf5d268",
   "metadata": {},
   "source": [
    "# Pedalme"
   ]
  },
  {
   "cell_type": "code",
   "execution_count": null,
   "id": "511861a3-37e8-439a-a7ec-e8b9ace87b40",
   "metadata": {},
   "outputs": [],
   "source": [
    "# df3 = pd.read_csv('./simulation_results/2023-06-04_13-03-18.csv') \n",
    "# df4 = pd.read_csv('./simulation_results/2023-06-04_13-19-20.csv') \n",
    "# k=1"
   ]
  },
  {
   "cell_type": "code",
   "execution_count": null,
   "id": "d4636a02-2db0-4676-a73b-9c7566c258f4",
   "metadata": {},
   "outputs": [],
   "source": [
    "# df1 = pd.read_csv('./simulation_results/2023-05-31_07-03-01.csv') \n",
    "# df2 = pd.read_csv('./simulation_results/2023-05-31_07-16-57.csv') \n",
    "# df3 = pd.read_csv('./simulation_results/2023-06-04_17-53-50.csv') \n",
    "# df4 = pd.read_csv('./simulation_results/2023-06-04_18-10-18.csv') "
   ]
  },
  {
   "cell_type": "code",
   "execution_count": null,
   "id": "d22955cb-e046-49c8-890a-52ffe13e237d",
   "metadata": {},
   "outputs": [],
   "source": [
    "data = pd.concat([df1,df2,df3,df4],axis=0)"
   ]
  },
  {
   "cell_type": "code",
   "execution_count": null,
   "id": "ee3ef5e8-7298-49dd-b21f-9644c30b5f77",
   "metadata": {},
   "outputs": [],
   "source": [
    "data.to_csv('./simulation_results/Real_simulation_reshape/GConvLSTM_pedalme_Simulation.csv',index=False)"
   ]
  },
  {
   "cell_type": "code",
   "execution_count": null,
   "id": "446c16b2-85d5-4f90-b214-fe80c77bd0c9",
   "metadata": {},
   "outputs": [],
   "source": [
    "data = pd.read_csv('./simulation_results/Real_simulation_reshape/GConvLSTM_pedalme_Simulation.csv')"
   ]
  },
  {
   "cell_type": "markdown",
   "id": "cdd78537-7c03-4b56-bcf8-54a502241420",
   "metadata": {},
   "source": [
    "## Baseline"
   ]
  },
  {
   "cell_type": "code",
   "execution_count": null,
   "id": "cd49941e-507b-496f-a9bc-9bb3936acc5e",
   "metadata": {},
   "outputs": [],
   "source": [
    "data.query(\"mrate ==0 and lags!=2\").plot.box(backend='plotly',x='epoch',color='method',y='mse',facet_col='nof_filters',facet_row='lags',height=400)\n"
   ]
  },
  {
   "cell_type": "markdown",
   "id": "151d9fb2-e327-4352-89f5-f85c6adcd735",
   "metadata": {},
   "source": [
    "## random"
   ]
  },
  {
   "cell_type": "code",
   "execution_count": null,
   "id": "5375fbb0-00f5-4073-94a0-025f757cf4e8",
   "metadata": {},
   "outputs": [],
   "source": [
    "data.query(\"method!='GNAR' and mtype =='rand' and lags!=2\").plot.box(backend='plotly',x='mrate',color='method',y='mse',facet_col='nof_filters',facet_row='inter_method',height=800)\n"
   ]
  },
  {
   "cell_type": "markdown",
   "id": "64c5732a-81d2-4999-be10-2abcce32ba22",
   "metadata": {},
   "source": [
    "## block"
   ]
  },
  {
   "cell_type": "code",
   "execution_count": null,
   "id": "3a2b2904-0190-445f-b5e9-31f1306fb765",
   "metadata": {},
   "outputs": [],
   "source": [
    "data.query(\"method!='GNAR' and mtype =='block' and lags!=2 \").plot.box(backend='plotly',x='mrate',color='method',y='mse',facet_col='nof_filters',facet_row='inter_method',height=800)\n"
   ]
  },
  {
   "cell_type": "markdown",
   "id": "8f145dc8-8e30-4e75-bc7e-4a4524d93fc4",
   "metadata": {},
   "source": [
    "## weight matrix time, node 고려한 결과"
   ]
  },
  {
   "cell_type": "code",
   "execution_count": null,
   "id": "720eef33-a93e-4018-9f30-867b9446b918",
   "metadata": {},
   "outputs": [],
   "source": [
    "# df1 = pd.read_csv('./simulation_results/2023-05-31_14-57-32.csv')\n",
    "# df2 = pd.read_csv('./simulation_results/2023-05-31_19-57-56.csv')\n",
    "# df3 = pd.read_csv('./simulation_results/2023-06-05_05-09-29.csv') \n",
    "# df4 = pd.read_csv('./simulation_results/2023-06-05_08-01-02.csv') "
   ]
  },
  {
   "cell_type": "code",
   "execution_count": null,
   "id": "970e0d05-641f-4e2b-83f8-7995279164c6",
   "metadata": {},
   "outputs": [],
   "source": [
    "data2 = pd.concat([df1,df2,df3,df4],axis=0)"
   ]
  },
  {
   "cell_type": "code",
   "execution_count": null,
   "id": "e4343248-a16d-47a3-9886-4ccb53c7aa45",
   "metadata": {},
   "outputs": [],
   "source": [
    "data2.to_csv('./simulation_results/Real_simulation_reshape/GConvLSTM_pedalme_Simulation_itstgcnsnd.csv',index=False)"
   ]
  },
  {
   "cell_type": "code",
   "execution_count": null,
   "id": "68c1f3d7-7e0f-4a6d-82d7-ba671275701a",
   "metadata": {},
   "outputs": [],
   "source": [
    "data2 = pd.read_csv('./simulation_results/Real_simulation_reshape/GConvLSTM_pedalme_Simulation_itstgcnsnd.csv')"
   ]
  },
  {
   "cell_type": "code",
   "execution_count": null,
   "id": "908c378b-03a2-4bab-95ad-152d13daea50",
   "metadata": {},
   "outputs": [],
   "source": [
    "data2.query(\"mtype=='rand'\").plot.box(backend='plotly',x='mrate',color='method',y='mse',facet_col='inter_method',facet_row='nof_filters',height=1000)"
   ]
  },
  {
   "cell_type": "code",
   "execution_count": null,
   "id": "71fafd85-21c2-4449-9f24-ee870b72433f",
   "metadata": {},
   "outputs": [],
   "source": [
    "data2.query(\"mtype=='block'\").plot.box(backend='plotly',x='mrate',color='method',y='mse',facet_col='inter_method',facet_row='nof_filters',height=1000)"
   ]
  },
  {
   "cell_type": "markdown",
   "id": "5a133964-207a-49ed-a674-40b3ddf1bd44",
   "metadata": {},
   "source": [
    "# Wikimath"
   ]
  },
  {
   "cell_type": "code",
   "execution_count": null,
   "id": "72dcb6b8-b2df-41e4-8ebd-5eb2a02c97af",
   "metadata": {},
   "outputs": [],
   "source": [
    "# df1 = pd.read_csv('./simulation_results/2023-05-31_15-17-28.csv')\n",
    "# df2 = pd.read_csv('./simulation_results/2023-05-31_21-15-47.csv')\n",
    "# df3 = pd.read_csv('./simulation_results/2023-05-31_21-15-47.csv')\n",
    "# df4 = pd.read_csv('./simulation_results/2023-06-01_01-36-28.csv')\n",
    "# df5 = pd.read_csv('./simulation_results/2023-06-01_06-02-50.csv')\n",
    "# df6 = pd.read_csv('./simulation_results/2023-06-01_10-09-37.csv')\n",
    "# df7 = pd.read_csv('./simulation_results/2023-06-01_14-43-01.csv')\n",
    "# df8 = pd.read_csv('./simulation_results/2023-06-01_22-57-39.csv')\n",
    "# df9 = pd.read_csv('./simulation_results/2023-06-02_04-36-10.csv')\n",
    "# df1 = pd.read_csv('./simulation_results/2023-05-31_15-17-28.csv')\n",
    "# df2 = pd.read_csv('./simulation_results/2023-05-31_21-15-47.csv')\n",
    "# df3 = pd.read_csv('./simulation_results/2023-05-31_21-15-47.csv')\n",
    "# df4 = pd.read_csv('./simulation_results/2023-06-01_01-36-28.csv')\n",
    "# df5 = pd.read_csv('./simulation_results/2023-06-01_06-02-50.csv')\n",
    "# df6 = pd.read_csv('./simulation_results/2023-06-01_10-09-37.csv')\n",
    "# df7 = pd.read_csv('./simulation_results/2023-06-01_14-43-01.csv')\n",
    "# df8 = pd.read_csv('./simulation_results/2023-06-01_22-57-39.csv')"
   ]
  },
  {
   "cell_type": "code",
   "execution_count": null,
   "id": "2bdf1359-250a-4f81-b2e7-bfc3f4a15907",
   "metadata": {},
   "outputs": [],
   "source": [
    "data = pd.concat([df1],axis=0)"
   ]
  },
  {
   "cell_type": "code",
   "execution_count": null,
   "id": "fe47b372-5e6c-485c-875c-3c8d879aabe5",
   "metadata": {},
   "outputs": [],
   "source": [
    "data.to_csv('./simulation_results/Real_simulation_reshape/GConvLSTM_wikimath.csv',index=False)"
   ]
  },
  {
   "cell_type": "code",
   "execution_count": null,
   "id": "0e5750a8-48a8-4f57-8650-1894b033996a",
   "metadata": {},
   "outputs": [],
   "source": [
    "data = pd.read_csv('./simulation_results/Real_simulation_reshape/GConvLSTM_wikimath.csv')"
   ]
  },
  {
   "cell_type": "markdown",
   "id": "0d0c2544-b30f-4876-90f3-834c8fccdc00",
   "metadata": {
    "tags": []
   },
   "source": [
    "## Baseline"
   ]
  },
  {
   "cell_type": "code",
   "execution_count": null,
   "id": "b5d615c3-7255-4f7b-8c80-4f97f1d0ea9a",
   "metadata": {},
   "outputs": [],
   "source": [
    "data.query(\"mrate==0 and method!='GNAR'\").plot.box(backend='plotly',x='mrate',color='method',y='mse',height=600)"
   ]
  },
  {
   "cell_type": "markdown",
   "id": "a230770f-2270-4d0b-87bf-c0048937e117",
   "metadata": {},
   "source": [
    "## random"
   ]
  },
  {
   "cell_type": "code",
   "execution_count": null,
   "id": "0be1ccad-dd6e-42fe-b32d-8a4e48b17a96",
   "metadata": {},
   "outputs": [],
   "source": [
    "data.query(\"mtype=='rand' and mrate !=0 and method!='GNAR'\").plot.box(backend='plotly',x='mrate',color='method',y='mse',facet_col='lags',facet_row='nof_filters',height=800)\n"
   ]
  },
  {
   "cell_type": "markdown",
   "id": "e4ec5520-cfa5-4e8d-8233-4a255cc7e557",
   "metadata": {},
   "source": [
    "## block"
   ]
  },
  {
   "cell_type": "code",
   "execution_count": null,
   "id": "caf335f2-3b23-463d-9b89-22df5f122ed7",
   "metadata": {},
   "outputs": [],
   "source": [
    "data.query(\"mtype=='block' and method!='GNAR'\").plot.box(backend='plotly',x='mrate',color='method',y='mse',facet_col='lags',facet_row='nof_filters',height=1200)\n"
   ]
  },
  {
   "cell_type": "markdown",
   "id": "9e6864d0-2f7e-4df3-a80a-91fdcf9d7fb9",
   "metadata": {},
   "source": [
    "## missing values on the same nodes"
   ]
  },
  {
   "cell_type": "code",
   "execution_count": 1,
   "id": "f804b18a-149e-48d5-ab30-9a0516fc611b",
   "metadata": {
    "tags": []
   },
   "outputs": [],
   "source": [
    "# df1 = pd.read_csv('./simulation_results/2023-05-30_15-07-43.csv') # STGCN IT-STGCN block\n",
    "# df2 = pd.read_csv('./simulation_results/2023-06-03_02-21-27.csv')\n",
    "# df1 = pd.read_csv('./simulation_results/2023-06-02_14-03-24.csv') \n",
    "# df2 = pd.read_csv('./simulation_results/2023-06-03_15-57-09.csv') "
   ]
  },
  {
   "cell_type": "code",
   "execution_count": null,
   "id": "8947c20f-0acb-41e8-9a89-d122bf2c0d18",
   "metadata": {},
   "outputs": [],
   "source": [
    "data = pd.concat([df1,df2],axis=0)"
   ]
  },
  {
   "cell_type": "code",
   "execution_count": null,
   "id": "3082aa32-04c8-4a3e-9756-6634caf9c949",
   "metadata": {},
   "outputs": [],
   "source": [
    "data.to_csv('./simulation_results/Real_simulation_reshape/GConvLSTM_wikimath_GSO_st.csv',index=False)"
   ]
  },
  {
   "cell_type": "code",
   "execution_count": null,
   "id": "9d39029d-2027-4858-aa8a-11a8f3628762",
   "metadata": {},
   "outputs": [],
   "source": [
    "data = pd.read_csv('./simulation_results/Real_simulation_reshape/GConvLSTM_wikimath_GSO_st.csv')"
   ]
  },
  {
   "cell_type": "code",
   "execution_count": null,
   "id": "5380ddb8-d5f5-49a0-b11f-89ad2db0ad41",
   "metadata": {},
   "outputs": [],
   "source": [
    "data.query(\"method!='GNAR' and mtype =='block' \").plot.box(backend='plotly',x='mrate',color='method',y='mse',facet_col='inter_method',facet_row='lags',height=800)\n"
   ]
  },
  {
   "cell_type": "markdown",
   "id": "b36fdeda-2196-4918-a6c9-26be8ad4dc72",
   "metadata": {},
   "source": [
    "# Windmilsmall"
   ]
  },
  {
   "cell_type": "code",
   "execution_count": null,
   "id": "e865d7a4-d723-411e-9ee6-2a0a001f8525",
   "metadata": {},
   "outputs": [],
   "source": [
    "# df1 = pd.read_csv('./simulation_results/2023-05-27_03-20-28.csv') # STGCN IT-STGCN 70%\n",
    "# df2 = pd.read_csv('./simulation_results/2023-05-27_11-15-19.csv') # STGCN IT-STGCN\n",
    "# df3 = pd.read_csv('./simulation_results/2023-05-27_21-50-00.csv') # STGCN IT-STGCN\n",
    "# df4 = pd.read_csv('./simulation_results/2023-05-28_07-53-57.csv') # STGCN IT-STGCN\n",
    "# df5 = pd.read_csv('./simulation_results/2023-05-28_15-11-36.csv') # STGCN IT-STGCN\n",
    "# df6 = pd.read_csv('./simulation_results/2023-05-28_19-57-23.csv') # GNAR 30%, 50%, 70% # 뭔가 일단 필요없어서 데이터셋에서 뺌\n",
    "# df7 = pd.read_csv('./simulation_results/2023-05-29_01-36-37.csv') # STGCN IT-STGCN\n",
    "# df8 = pd.read_csv('./simulation_results/2023-05-29_05-55-43.csv') # STGCN IT-STGCN\n",
    "# df9 = pd.read_csv('./simulation_results/2023-05-29_11-00-42.csv') # STGCN IT-STGCN\n",
    "# df10 = pd.read_csv('./simulation_results/2023-05-29_15-58-56.csv') # STGCN IT-STGCN\n",
    "# df11 = pd.read_csv('./simulation_results/2023-05-29_21-01-58.csv') # STGCN IT-STGCN\n",
    "# df12 = pd.read_csv('./simulation_results/2023-05-30_02-08-43.csv') # STGCN IT-STGCN\n",
    "# df13 = pd.read_csv('./simulation_results/2023-05-30_06-27-00.csv') # STGCN IT-STGCN\n",
    "# df14 = pd.read_csv('./simulation_results/2023-05-30_11-59-01.csv') # STGCN IT-STGCN\n",
    "# df15 = pd.read_csv('./simulation_results/2023-05-30_15-59-12.csv') # STGCN IT-STGCN\n",
    "# df16 = pd.read_csv('./simulation_results/2023-04-20_00-46-43.csv') # STGCN IT-STGCN\n",
    "# df17 = pd.read_csv('./simulation_results/2023-04-20_06-51-34.csv') # STGCN IT-STGCN\n",
    "# df18 = pd.read_csv('./simulation_results/2023-04-20_08-30-27.csv') # STGCN IT-STGCN\n",
    "# df19 = pd.read_csv('./simulation_results/2023-04-20_14-28-35.csv') # STGCN IT-STGCN\n",
    "# df20 = pd.read_csv('./simulation_results/2023-04-20_16-08-39.csv') # STGCN IT-STGCN\n",
    "# df21 = pd.read_csv('./simulation_results/2023-04-20_22-09-37.csv') # STGCN IT-STGCN\n",
    "# df22 = pd.read_csv('./simulation_results/2023-04-20_23-48-26.csv') # STGCN IT-STGCN\n",
    "# df23 = pd.read_csv('./simulation_results/2023-04-21_05-36-47.csv') # STGCN IT-STGCN\n",
    "# df24 = pd.read_csv('./simulation_results/2023-04-21_15-26-00.csv') # STGCN IT-STGCN\n",
    "# df25 = pd.read_csv('./simulation_results/2023-04-21_23-27-11.csv') # STGCN IT-STGCN\n",
    "# df26 = pd.read_csv('./simulation_results/2023-04-22_07-46-08.csv') # STGCN IT-STGCN\n",
    "# df27 = pd.read_csv('./simulation_results/2023-04-22_15-45-20.csv') # STGCN IT-STGCN\n",
    "# df28 = pd.read_csv('./simulation_results/2023-04-22_22-57-31.csv') # STGCN IT-STGCN\n",
    "# df29 = pd.read_csv('./simulation_results/2023-04-23_07-00-15.csv') # STGCN IT-STGCN\n",
    "# df30 = pd.read_csv('./simulation_results/2023-04-23_15-18-02.csv') # STGCN IT-STGCN\n",
    "# df31 = pd.read_csv('./simulation_results/2023-04-23_15-22-36.csv') # GNAR 70%\n",
    "# # baseline\n",
    "# df32 = pd.read_csv('./simulation_results/2023-04-29_06-54-40.csv') # GNAR \n",
    "# df33 = pd.read_csv('./simulation_results/2023-04-30_18-55-12.csv')\n",
    "# df34 = pd.read_csv('./simulation_results/2023-05-01_02-55-33.csv')\n",
    "# df35 = pd.read_csv('./simulation_results/2023-05-01_10-21-15.csv')\n",
    "# df36 = pd.read_csv('./simulation_results/2023-05-01_19-23-57.csv')\n",
    "# df37 = pd.read_csv('./simulation_results/2023-05-02_01-10-53.csv')\n",
    "# df38 = pd.read_csv('./simulation_results/2023-05-02_08-26-53.csv')\n",
    "# df39 = pd.read_csv('./simulation_results/2023-05-02_16-00-40.csv')\n",
    "# df40 = pd.read_csv('./simulation_results/2023-05-03_00-34-09.csv')\n",
    "# df41 = pd.read_csv('./simulation_results/2023-05-03_08-04-42.csv')\n",
    "# df42 = pd.read_csv('./simulation_results/2023-05-03_15-50-50.csv')\n",
    "# df43 = pd.read_csv('./simulation_results/2023-05-03_23-46-56.csv')\n",
    "# df44 = pd.read_csv('./simulation_results/2023-05-04_05-22-59.csv')\n",
    "# df45 = pd.read_csv('./simulation_results/2023-05-04_09-22-37.csv')\n",
    "# df46 = pd.read_csv('./simulation_results/2023-05-04_15-00-57.csv')\n",
    "# df47 = pd.read_csv('./simulation_results/2023-05-04_23-41-21.csv')\n",
    "# df48 = pd.read_csv('./simulation_results/2023-05-05_07-23-04.csv')\n",
    "# df49 = pd.read_csv('./simulation_results/2023-05-05_15-03-17.csv')\n",
    "# df50 = pd.read_csv('./simulation_results/2023-05-06_05-18-07.csv')\n",
    "# df51 = pd.read_csv('./simulation_results/2023-05-06_12-57-14.csv')\n",
    "# df52 = pd.read_csv('./simulation_results/2023-05-06_19-10-23.csv')\n",
    "# df53 = pd.read_csv('./simulation_results/2023-05-07_03-20-10.csv')\n",
    "# df54 = pd.read_csv('./simulation_results/2023-05-07_11-26-24.csv')\n",
    "# df55 = pd.read_csv('./simulation_results/2023-05-08_00-04-56.csv')\n",
    "# df56 = pd.read_csv('./simulation_results/2023-05-08_04-27-01.csv')\n",
    "# df57 = pd.read_csv('./simulation_results/2023-05-08_10-06-55.csv')\n",
    "# df58 = pd.read_csv('./simulation_results/2023-05-08_17-50-36.csv')\n",
    "# df59 = pd.read_csv('./simulation_results/2023-05-09_03-28-08.csv')\n",
    "# df60 = pd.read_csv('./simulation_results/2023-05-09_11-08-10.csv')\n",
    "# df61 = pd.read_csv('./simulation_results/2023-05-09_20-11-45.csv')"
   ]
  },
  {
   "cell_type": "code",
   "execution_count": null,
   "id": "37438d95-f15e-4741-b4d2-65966d48be89",
   "metadata": {},
   "outputs": [],
   "source": [
    "data = pd.concat([df1],axis=0)"
   ]
  },
  {
   "cell_type": "code",
   "execution_count": null,
   "id": "129bb29a-6386-4363-9781-8a68ad4373cd",
   "metadata": {},
   "outputs": [],
   "source": [
    "data.to_csv('./simulation_results/Real_simulation_reshape/GConvLSTM_windmillsmall.csv',index=False)"
   ]
  },
  {
   "cell_type": "code",
   "execution_count": null,
   "id": "e802f5c9-6428-4f87-86d8-5bec3a07099b",
   "metadata": {},
   "outputs": [],
   "source": [
    "data = pd.read_csv('./simulation_results/Real_simulation_reshape/GConvLSTM_windmillsmall.csv')"
   ]
  },
  {
   "cell_type": "markdown",
   "id": "b418c4bf-e73d-4d04-a6df-cf6ea3795cdc",
   "metadata": {},
   "source": [
    "## Baseline"
   ]
  },
  {
   "cell_type": "code",
   "execution_count": null,
   "id": "127a08ff-22cf-4d87-8b87-db3f7fda2b59",
   "metadata": {},
   "outputs": [],
   "source": [
    "data.query(\"method!='GNAR' and mrate ==0 \").plot.box(backend='plotly',x='mrate',color='method',y='mse',facet_col='lags',height=800)\n"
   ]
  },
  {
   "cell_type": "markdown",
   "id": "612edeb5-6890-4678-9d2d-4ae78d00866f",
   "metadata": {},
   "source": [
    "## random"
   ]
  },
  {
   "cell_type": "code",
   "execution_count": null,
   "id": "f189e38c-14f4-4f04-980c-aec583366a66",
   "metadata": {},
   "outputs": [],
   "source": [
    "data.query(\"method!='GNAR' and mtype =='rand' \").plot.box(backend='plotly',x='mrate',color='method',y='mse',facet_col='lags',facet_row='inter_method',height=800)\n"
   ]
  },
  {
   "cell_type": "markdown",
   "id": "0d9ee832-315b-4c21-8b8a-59f2dc65bd6e",
   "metadata": {
    "tags": []
   },
   "source": [
    "## block"
   ]
  },
  {
   "cell_type": "code",
   "execution_count": null,
   "id": "108b06c5-6201-4aa5-bb58-b381546eb656",
   "metadata": {},
   "outputs": [],
   "source": [
    "data.query(\"method!='GNAR' and mtype =='block' \").plot.box(backend='plotly',x='mrate',color='method',y='mse',facet_col='lags',facet_row='inter_method',height=800)\n"
   ]
  },
  {
   "cell_type": "markdown",
   "id": "0a96a985-7d9c-41fc-a7bc-175074511f7b",
   "metadata": {},
   "source": [
    "# Montevideobus"
   ]
  },
  {
   "cell_type": "code",
   "execution_count": null,
   "id": "ee59c5e4-e11a-4a10-a0b1-478a80afb228",
   "metadata": {},
   "outputs": [],
   "source": [
    "# df1 = pd.read_csv('./simulation_results/2023-06-01_16-40-59.csv') # lags 8\n",
    "# df2 = pd.read_csv('./simulation_results/2023-06-02_07-36-04.csv') # lags 8\n",
    "# df3 = pd.read_csv('./simulation_results/2023-06-02_10-29-33.csv') # lags 8\n",
    "# df4 = pd.read_csv('./simulation_results/2023-06-03_20-41-59.csv') # lags 8\n",
    "# df5 = pd.read_csv('./simulation_results/2023-06-04_02-03-27.csv') # lags 8\n",
    "# df6 = pd.read_csv('./simulation_results/2023-06-04_04-59-22.csv') # lags 8\n",
    "# df7 = pd.read_csv('./simulation_results/2023-06-04_07-33-21.csv') # lags 8\n",
    "# df8 = pd.read_csv('./simulation_results/2023-06-04_10-21-15.csv') # lags 8\n",
    "# df1 = pd.read_csv('./simulation_results/2023-06-05_04-33-07.csv') \n",
    "# df2 = pd.read_csv('./simulation_results/2023-06-06_03-50-03.csv') \n",
    "# df3 = pd.read_csv('./simulation_results/2023-06-06_07-54-19.csv') \n",
    "# df4 = pd.read_csv('./simulation_results/2023-06-06_11-19-55.csv') \n",
    "# df5 = pd.read_csv('./simulation_results/2023-06-06_15-31-16.csv') \n",
    "# df6 = pd.read_csv('./simulation_results/2023-06-06_19-34-56.csv') "
   ]
  },
  {
   "cell_type": "code",
   "execution_count": null,
   "id": "a19d1bdd-17fe-42cf-a4c8-f270bff69e40",
   "metadata": {},
   "outputs": [],
   "source": [
    "data = pd.concat([df1,df2,df3,df4,df5,df6],axis=0)"
   ]
  },
  {
   "cell_type": "code",
   "execution_count": null,
   "id": "3858fad4-79eb-4bd2-a070-c55210e79185",
   "metadata": {},
   "outputs": [],
   "source": [
    "data.to_csv('./simulation_results/Real_simulation_reshape/GConvLSTM_monte.csv',index=False)"
   ]
  },
  {
   "cell_type": "code",
   "execution_count": null,
   "id": "b6060412-5bf9-480f-8246-83eed9a2677f",
   "metadata": {},
   "outputs": [],
   "source": [
    "data = pd.read_csv('./simulation_results/Real_simulation_reshape/GConvLSTM_monte.csv')"
   ]
  },
  {
   "cell_type": "markdown",
   "id": "d76c86cc-14b0-486d-a7cd-e185bea9937d",
   "metadata": {},
   "source": [
    "## Baseline"
   ]
  },
  {
   "cell_type": "code",
   "execution_count": null,
   "id": "799243bd-1ec6-4523-b9dc-b9ba1b08361a",
   "metadata": {},
   "outputs": [],
   "source": [
    "data.query(\"mrate==0 and method!='GNAR'\").plot.box(backend='plotly',x='mrate',color='method',y='mse',facet_col='lags',facet_row='nof_filters',height=600)"
   ]
  },
  {
   "cell_type": "markdown",
   "id": "fb6d393f-1f72-4d49-a87a-e8b618b3f82a",
   "metadata": {},
   "source": [
    "## random"
   ]
  },
  {
   "cell_type": "code",
   "execution_count": null,
   "id": "4730104b-5808-4a7c-b90f-19bb11203f39",
   "metadata": {},
   "outputs": [],
   "source": [
    "data.query(\"mtype=='rand' and mrate !=0 and method!='GNAR' and mrate!=0.3 and mrate!=0.4\").plot.box(backend='plotly',x='mrate',color='method',y='mse',facet_col='lags',facet_row='inter_method',height=800)\n"
   ]
  },
  {
   "cell_type": "markdown",
   "id": "193a8c91-ea53-4f8d-aba2-d843468e14f8",
   "metadata": {},
   "source": [
    "## block"
   ]
  },
  {
   "cell_type": "code",
   "execution_count": null,
   "id": "9d2bd479-aa85-4947-a516-5cb0ec908281",
   "metadata": {},
   "outputs": [],
   "source": [
    "data.query(\"mtype=='block' and method!='GNAR'\").plot.box(backend='plotly',x='mrate',color='method',y='mse',facet_col='lags',facet_row='nof_filters',height=1200)\n"
   ]
  },
  {
   "cell_type": "code",
   "execution_count": null,
   "id": "55a77162-954a-4128-9c5b-284223e9a1fa",
   "metadata": {},
   "outputs": [],
   "source": []
  },
  {
   "cell_type": "code",
   "execution_count": null,
   "id": "ffd41010-0d56-49d7-902f-468782d630ac",
   "metadata": {},
   "outputs": [],
   "source": []
  },
  {
   "cell_type": "code",
   "execution_count": null,
   "id": "cb64cdf6-a172-4db5-ac20-54258df2a933",
   "metadata": {},
   "outputs": [],
   "source": []
  },
  {
   "cell_type": "code",
   "execution_count": null,
   "id": "d73f828b-0592-493e-9a5c-364cd6c2ffcc",
   "metadata": {},
   "outputs": [],
   "source": []
  },
  {
   "cell_type": "code",
   "execution_count": null,
   "id": "0d13d43e-5e2d-41e4-a26e-3617356cad46",
   "metadata": {},
   "outputs": [],
   "source": []
  }
 ],
 "metadata": {
  "kernelspec": {
   "display_name": "Python 3",
   "language": "python",
   "name": "python3"
  },
  "language_info": {
   "codemirror_mode": {
    "name": "ipython",
    "version": 3
   },
   "file_extension": ".py",
   "mimetype": "text/x-python",
   "name": "python",
   "nbconvert_exporter": "python",
   "pygments_lexer": "ipython3",
   "version": "3.8.0"
  }
 },
 "nbformat": 4,
 "nbformat_minor": 5
}

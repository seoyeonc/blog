{
 "cells": [
  {
   "cell_type": "raw",
   "id": "7332526f-9bd3-47f8-b721-6180f1986ae1",
   "metadata": {
    "id": "cac470df-29e7-4148-9bbd-d8b9a32fa570",
    "tags": []
   },
   "source": [
    "---\n",
    "title: \"1st ST-GCN Example dividing train and test\"\n",
    "author: \"SEOYEON CHOI\"\n",
    "date: \"2023-01-17\"\n",
    "categories:\n",
    "  - ST-GCN\n",
    "---"
   ]
  },
  {
   "cell_type": "markdown",
   "id": "915b6d18-9ab7-48f0-9a7e-63bb8af98a45",
   "metadata": {},
   "source": [
    "> Try to divide train and test(GNAR fivenet)"
   ]
  },
  {
   "cell_type": "markdown",
   "id": "bf913a43-cf86-47d2-bdf3-ae880e1c61df",
   "metadata": {
    "tags": []
   },
   "source": [
    "# import"
   ]
  },
  {
   "cell_type": "code",
   "execution_count": 1,
   "id": "2b820011-2a41-4156-a3b8-158a2f763a7c",
   "metadata": {},
   "outputs": [],
   "source": [
    "import rpy2\n",
    "import rpy2.robjects as ro \n",
    "from rpy2.robjects.vectors import FloatVector \n",
    "from rpy2.robjects.packages import importr\n",
    "\n",
    "import torch\n",
    "import numpy as np\n",
    "from tqdm import tqdm\n",
    "\n",
    "import torch.nn.functional as F\n",
    "from torch_geometric_temporal.nn.recurrent import GConvGRU\n",
    "\n",
    "import matplotlib.pyplot as plt\n",
    "import pandas as pd\n",
    "\n",
    "import time\n",
    "\n",
    "from scipy.interpolate import interp1d"
   ]
  },
  {
   "cell_type": "code",
   "execution_count": 2,
   "id": "2b9bf384-3729-49ee-82a0-82469aa25554",
   "metadata": {},
   "outputs": [],
   "source": [
    "class RecurrentGCN(torch.nn.Module):\n",
    "    def __init__(self, node_features, filters):\n",
    "        super(RecurrentGCN, self).__init__()\n",
    "        self.recurrent = GConvGRU(node_features, filters, 2)\n",
    "        self.linear = torch.nn.Linear(filters, 1)\n",
    "\n",
    "    def forward(self, x, edge_index, edge_weight):\n",
    "        h = self.recurrent(x, edge_index, edge_weight)\n",
    "        h = F.relu(h)\n",
    "        h = self.linear(h)\n",
    "        return h"
   ]
  },
  {
   "cell_type": "markdown",
   "id": "b980f72a-138e-4faf-965f-8f7268256681",
   "metadata": {},
   "source": [
    "# R"
   ]
  },
  {
   "cell_type": "code",
   "execution_count": 3,
   "id": "590ee4c5-6ada-4cca-9985-30b9f32a38b6",
   "metadata": {},
   "outputs": [],
   "source": [
    "%load_ext rpy2.ipython"
   ]
  },
  {
   "cell_type": "code",
   "execution_count": 154,
   "id": "927294dc-892e-41ed-afc4-7d4bd7802528",
   "metadata": {},
   "outputs": [],
   "source": [
    "%%R\n",
    "library(GNAR)\n",
    "library(igraph)"
   ]
  },
  {
   "cell_type": "markdown",
   "id": "8bb1c0a6-042c-4f96-b181-8d8a26585b00",
   "metadata": {},
   "source": [
    "# Data"
   ]
  },
  {
   "cell_type": "code",
   "execution_count": 5,
   "id": "77ce1261-4347-4281-8a9c-e3b63f3043e7",
   "metadata": {},
   "outputs": [
    {
     "name": "stdout",
     "output_type": "stream",
     "text": [
      "GNARnet with 5 nodes and 10 edges\n",
      " of equal length  1"
     ]
    }
   ],
   "source": [
    "%%R\n",
    "summary(fiveNet)"
   ]
  },
  {
   "cell_type": "code",
   "execution_count": 6,
   "id": "f53e1ad9-46f5-486a-8298-201c0800ab89",
   "metadata": {},
   "outputs": [],
   "source": [
    "%%R\n",
    "edges <- as.matrix(fiveNet)\n",
    "data(\"fiveNode\")"
   ]
  },
  {
   "cell_type": "code",
   "execution_count": 7,
   "id": "50256c64-4865-4431-8248-2eb16e9026e8",
   "metadata": {},
   "outputs": [],
   "source": [
    "%R -o fiveVTS\n",
    "%R -o edges"
   ]
  },
  {
   "cell_type": "markdown",
   "id": "329902a3-1538-4b1a-9d33-17ec2a6aacba",
   "metadata": {},
   "source": [
    "- node: 5\n",
    "- time 200"
   ]
  },
  {
   "cell_type": "code",
   "execution_count": 8,
   "id": "6d425e07-5761-431c-8dbb-afb045dc17b8",
   "metadata": {},
   "outputs": [],
   "source": [
    "edges_tensor = torch.tensor(edges)"
   ]
  },
  {
   "cell_type": "code",
   "execution_count": 9,
   "id": "ee0143e8-9738-4f86-8633-988dd0ec035b",
   "metadata": {},
   "outputs": [],
   "source": [
    "nonzero_indices = edges_tensor.nonzero()"
   ]
  },
  {
   "cell_type": "code",
   "execution_count": 10,
   "id": "943d6ba8-4974-488f-8ea7-1d53d86b3e51",
   "metadata": {},
   "outputs": [],
   "source": [
    "fiveNet_edge = np.array(nonzero_indices).T"
   ]
  },
  {
   "cell_type": "code",
   "execution_count": 11,
   "id": "ed83942b-538f-402c-9ab1-cc4bd173147b",
   "metadata": {},
   "outputs": [],
   "source": [
    "T = 200\n",
    "N = 5 # number of Nodes\n",
    "E = fiveNet_edge\n",
    "V = np.array([1,2,3,4,5])\n",
    "t = np.arange(0,T)\n",
    "node_features = 1"
   ]
  },
  {
   "cell_type": "code",
   "execution_count": 12,
   "id": "8964a107-ccff-4284-af34-ed396d2245e6",
   "metadata": {},
   "outputs": [],
   "source": [
    "edge_index = torch.tensor(E)\n",
    "edge_attr = torch.tensor(np.array([1,1,1,1,1,1,1,1,1,1]),dtype=torch.float32)"
   ]
  },
  {
   "cell_type": "code",
   "execution_count": 13,
   "id": "1dcaa54a-6337-4c04-b838-b0e530a2aaca",
   "metadata": {},
   "outputs": [
    {
     "data": {
      "text/plain": [
       "(200, 5)"
      ]
     },
     "execution_count": 13,
     "metadata": {},
     "output_type": "execute_result"
    }
   ],
   "source": [
    "fiveVTS.shape"
   ]
  },
  {
   "cell_type": "code",
   "execution_count": 14,
   "id": "1a75afdb-a2b8-436a-96f4-8a38f4869f88",
   "metadata": {},
   "outputs": [],
   "source": [
    "fiveVTS_train = fiveVTS[:int(len(fiveVTS)*0.8)]\n",
    "fiveVTS_test = fiveVTS[int(len(fiveVTS)*0.8):]"
   ]
  },
  {
   "cell_type": "code",
   "execution_count": 15,
   "id": "bb58ee0f-c479-4e80-b243-0acd71d5c440",
   "metadata": {},
   "outputs": [
    {
     "data": {
      "text/plain": [
       "((160, 5), (40, 5))"
      ]
     },
     "execution_count": 15,
     "metadata": {},
     "output_type": "execute_result"
    }
   ],
   "source": [
    "fiveVTS_train.shape, fiveVTS_test.shape"
   ]
  },
  {
   "cell_type": "markdown",
   "id": "760e50ec-1b57-45be-9a33-11e04fe61ef1",
   "metadata": {},
   "source": [
    "# Randomly Missing Values"
   ]
  },
  {
   "cell_type": "code",
   "execution_count": 160,
   "id": "a71eac6b-8fdb-4c60-8257-e7bdbf9d1eb9",
   "metadata": {},
   "outputs": [],
   "source": [
    "np.random.seed(1)\n",
    "seed_number1 = np.random.choice(160,80,replace=False)"
   ]
  },
  {
   "cell_type": "code",
   "execution_count": 161,
   "id": "21b4211d-ac99-44cc-b9ca-3aa7556af074",
   "metadata": {},
   "outputs": [],
   "source": [
    "np.random.seed(3)\n",
    "seed_number2 = np.random.choice(160,80,replace=False)"
   ]
  },
  {
   "cell_type": "code",
   "execution_count": 162,
   "id": "1f5c328e-8d4f-48cb-b80f-ef542bcd5b8c",
   "metadata": {},
   "outputs": [],
   "source": [
    "np.random.seed(5)\n",
    "seed_number3 = np.random.choice(160,80,replace=False)"
   ]
  },
  {
   "cell_type": "code",
   "execution_count": 163,
   "id": "897c5959-a8c1-4197-b6ce-7a69a3377424",
   "metadata": {},
   "outputs": [],
   "source": [
    "np.random.seed(7)\n",
    "seed_number4 = np.random.choice(160,80,replace=False)"
   ]
  },
  {
   "cell_type": "code",
   "execution_count": 164,
   "id": "89382a4a-99f4-49c6-9ed3-f2826ff85a2e",
   "metadata": {},
   "outputs": [],
   "source": [
    "np.random.seed(9)\n",
    "seed_number5 = np.random.choice(160,80,replace=False)"
   ]
  },
  {
   "cell_type": "code",
   "execution_count": 165,
   "id": "d13b08c6-8330-4da6-acef-381d7004fed3",
   "metadata": {},
   "outputs": [],
   "source": [
    "fiveVTS_train[seed_number1,0] = float('nan')"
   ]
  },
  {
   "cell_type": "code",
   "execution_count": 166,
   "id": "983efa4a-c0e7-483f-baad-2534ae514070",
   "metadata": {},
   "outputs": [],
   "source": [
    "fiveVTS_train[seed_number2,1] = float('nan')"
   ]
  },
  {
   "cell_type": "code",
   "execution_count": 167,
   "id": "a7d36b7f-8975-40a6-ad4b-7c6004662292",
   "metadata": {},
   "outputs": [],
   "source": [
    "fiveVTS_train[seed_number3,2] = float('nan')"
   ]
  },
  {
   "cell_type": "code",
   "execution_count": 168,
   "id": "7abc2e1d-fbf5-4e8e-ab47-a499611bfa43",
   "metadata": {},
   "outputs": [],
   "source": [
    "fiveVTS_train[seed_number4,3] = float('nan')"
   ]
  },
  {
   "cell_type": "code",
   "execution_count": 169,
   "id": "011f2b37-df5e-46b2-9b77-57b0397cee0d",
   "metadata": {},
   "outputs": [],
   "source": [
    "fiveVTS_train[seed_number5,4] = float('nan')"
   ]
  },
  {
   "cell_type": "markdown",
   "id": "3c14500c-0428-4396-87da-7d03ab108c0a",
   "metadata": {},
   "source": [
    "# 1. Missing Value - Mean"
   ]
  },
  {
   "cell_type": "code",
   "execution_count": 26,
   "id": "44f2daa8-18bb-4e04-9b77-2ed6ac1128a6",
   "metadata": {},
   "outputs": [],
   "source": [
    "fiveVTS_train_mean = fiveVTS_train.copy()"
   ]
  },
  {
   "cell_type": "code",
   "execution_count": 27,
   "id": "b4882817-056b-4715-93df-1442b976516b",
   "metadata": {},
   "outputs": [],
   "source": [
    "fiveVTS_train_mean[seed_number1,0] = np.nanmean(fiveVTS_train_mean[:,0])"
   ]
  },
  {
   "cell_type": "code",
   "execution_count": 28,
   "id": "6dde1073-00bf-4367-9937-e4abaee32e01",
   "metadata": {},
   "outputs": [],
   "source": [
    "fiveVTS_train_mean[seed_number2,1] = np.nanmean(fiveVTS_train_mean[:,1])"
   ]
  },
  {
   "cell_type": "code",
   "execution_count": 29,
   "id": "fecea7f3-92c4-41b2-aa85-048db083d5ac",
   "metadata": {},
   "outputs": [],
   "source": [
    "fiveVTS_train_mean[seed_number3,2] = np.nanmean(fiveVTS_train_mean[:,2])"
   ]
  },
  {
   "cell_type": "code",
   "execution_count": 30,
   "id": "6252cd96-31f1-4b81-a72d-b9080c2108a5",
   "metadata": {},
   "outputs": [],
   "source": [
    "fiveVTS_train_mean[seed_number4,3] = np.nanmean(fiveVTS_train_mean[:,3])"
   ]
  },
  {
   "cell_type": "code",
   "execution_count": 31,
   "id": "ea4cf3f6-4807-4692-9fa6-8b776f31d786",
   "metadata": {},
   "outputs": [],
   "source": [
    "fiveVTS_train_mean[seed_number5,4] = np.nanmean(fiveVTS_train_mean[:,4])"
   ]
  },
  {
   "cell_type": "markdown",
   "id": "1f9a63dc-dec3-49ac-8b71-c5fa34a09fb0",
   "metadata": {},
   "source": [
    "## 1) ST-GCN"
   ]
  },
  {
   "cell_type": "code",
   "execution_count": 32,
   "id": "b45aa7eb-a2c5-458e-baf4-99f7697464a6",
   "metadata": {},
   "outputs": [],
   "source": [
    "mean_f_fiveVTS_train = torch.tensor(fiveVTS_train_mean).reshape(160,5,1).float()"
   ]
  },
  {
   "cell_type": "code",
   "execution_count": 33,
   "id": "7a0f21d9-b9a0-438f-ae2f-82f4586eb04a",
   "metadata": {},
   "outputs": [],
   "source": [
    "mean_X_fiveVTS = mean_f_fiveVTS_train[:159,:,:]\n",
    "mean_y_fiveVTS = mean_f_fiveVTS_train[1:,:,:]"
   ]
  },
  {
   "cell_type": "code",
   "execution_count": 34,
   "id": "1d685430-2a45-4ecb-9344-187644ad10db",
   "metadata": {},
   "outputs": [
    {
     "name": "stderr",
     "output_type": "stream",
     "text": [
      "100%|██████████| 50/50 [00:26<00:00,  1.87it/s]\n"
     ]
    }
   ],
   "source": [
    "model = RecurrentGCN(node_features=1, filters=4)\n",
    "\n",
    "optimizer = torch.optim.Adam(model.parameters(), lr=0.01)\n",
    "\n",
    "model.train()\n",
    "\n",
    "for epoch in tqdm(range(50)):\n",
    "    for time, (xt,yt) in enumerate(zip(mean_X_fiveVTS,mean_y_fiveVTS)):\n",
    "        y_hat = model(xt, edge_index, edge_attr)\n",
    "        cost = torch.mean((y_hat-yt)**2)\n",
    "        cost.backward()\n",
    "        optimizer.step()\n",
    "        optimizer.zero_grad()"
   ]
  },
  {
   "cell_type": "code",
   "execution_count": 174,
   "id": "e7ca2a54-a1cf-45b5-903e-cf5ac18047ad",
   "metadata": {},
   "outputs": [
    {
     "data": {
      "text/plain": [
       "[<matplotlib.lines.Line2D at 0x7fb9edb89520>,\n",
       " <matplotlib.lines.Line2D at 0x7fb9edb89550>,\n",
       " <matplotlib.lines.Line2D at 0x7fb9edb89670>,\n",
       " <matplotlib.lines.Line2D at 0x7fb9edb89790>,\n",
       " <matplotlib.lines.Line2D at 0x7fb9edb898b0>]"
      ]
     },
     "execution_count": 174,
     "metadata": {},
     "output_type": "execute_result"
    },
    {
     "data": {
      "image/png": "[encoded data removed]",
      "text/plain": [
       "<Figure size 432x288 with 1 Axes>"
      ]
     },
     "metadata": {
      "needs_background": "light"
     },
     "output_type": "display_data"
    }
   ],
   "source": [
    "plt.plot(mean_fhat_fiveVTS[:,0])\n",
    "plt.plot(fiveVTS_test)"
   ]
  },
  {
   "cell_type": "markdown",
   "id": "03a53ec7-9c29-425c-a29a-1550e8c43817",
   "metadata": {},
   "source": [
    "### ST-GCN만 한 상태에서 true값과 비교"
   ]
  },
  {
   "cell_type": "code",
   "execution_count": 176,
   "id": "660f4fb6-0626-483a-aba9-2ed4c32d6f27",
   "metadata": {},
   "outputs": [],
   "source": [
    "mean_X_fore_fiveVTS = torch.tensor(fiveVTS_train_mean[120:,:]).reshape(40,5,1).float()"
   ]
  },
  {
   "cell_type": "code",
   "execution_count": 177,
   "id": "023e297f-1f69-4713-84ba-2f6b23dd2af1",
   "metadata": {},
   "outputs": [],
   "source": [
    "mean_fhat_fiveVTS = torch.stack([model(xt, edge_index, edge_attr) for xt in mean_X_fore_fiveVTS]).detach().numpy()"
   ]
  },
  {
   "cell_type": "code",
   "execution_count": 178,
   "id": "f86b21ef-39c8-4c8a-b4dd-f0a7c43854f2",
   "metadata": {},
   "outputs": [
    {
     "data": {
      "text/plain": [
       "array([ 0.72109859,  0.94232791, -1.24866388, -0.98387925,  0.35362056])"
      ]
     },
     "execution_count": 178,
     "metadata": {},
     "output_type": "execute_result"
    }
   ],
   "source": [
    "(mean_fhat_fiveVTS.reshape(40,5)[1] -  fiveVTS_test[1])"
   ]
  },
  {
   "cell_type": "code",
   "execution_count": 48,
   "id": "92d55332-ea31-4d45-8401-ea87db76a70e",
   "metadata": {},
   "outputs": [
    {
     "data": {
      "text/plain": [
       "{'whiskers': [<matplotlib.lines.Line2D at 0x7fba3078a7c0>,\n",
       "  <matplotlib.lines.Line2D at 0x7fba3078aa90>,\n",
       "  <matplotlib.lines.Line2D at 0x7fba3079abe0>,\n",
       "  <matplotlib.lines.Line2D at 0x7fba3079aeb0>,\n",
       "  <matplotlib.lines.Line2D at 0x7fba307a7fd0>,\n",
       "  <matplotlib.lines.Line2D at 0x7fba307342e0>,\n",
       "  <matplotlib.lines.Line2D at 0x7fba30741400>,\n",
       "  <matplotlib.lines.Line2D at 0x7fba307416d0>,\n",
       "  <matplotlib.lines.Line2D at 0x7fba3074f7f0>,\n",
       "  <matplotlib.lines.Line2D at 0x7fba3074fac0>],\n",
       " 'caps': [<matplotlib.lines.Line2D at 0x7fba3078ad90>,\n",
       "  <matplotlib.lines.Line2D at 0x7fba3079a0a0>,\n",
       "  <matplotlib.lines.Line2D at 0x7fba307a71c0>,\n",
       "  <matplotlib.lines.Line2D at 0x7fba307a7490>,\n",
       "  <matplotlib.lines.Line2D at 0x7fba307345b0>,\n",
       "  <matplotlib.lines.Line2D at 0x7fba30734880>,\n",
       "  <matplotlib.lines.Line2D at 0x7fba307419a0>,\n",
       "  <matplotlib.lines.Line2D at 0x7fba30741c70>,\n",
       "  <matplotlib.lines.Line2D at 0x7fba3074fd90>,\n",
       "  <matplotlib.lines.Line2D at 0x7fba3075d0a0>],\n",
       " 'boxes': [<matplotlib.lines.Line2D at 0x7fba3078a4f0>,\n",
       "  <matplotlib.lines.Line2D at 0x7fba3079a910>,\n",
       "  <matplotlib.lines.Line2D at 0x7fba307a7d00>,\n",
       "  <matplotlib.lines.Line2D at 0x7fba30741130>,\n",
       "  <matplotlib.lines.Line2D at 0x7fba3074f520>],\n",
       " 'medians': [<matplotlib.lines.Line2D at 0x7fba3079a370>,\n",
       "  <matplotlib.lines.Line2D at 0x7fba307a7760>,\n",
       "  <matplotlib.lines.Line2D at 0x7fba30734b50>,\n",
       "  <matplotlib.lines.Line2D at 0x7fba30741f40>,\n",
       "  <matplotlib.lines.Line2D at 0x7fba3075d370>],\n",
       " 'fliers': [<matplotlib.lines.Line2D at 0x7fba3079a640>,\n",
       "  <matplotlib.lines.Line2D at 0x7fba307a7a30>,\n",
       "  <matplotlib.lines.Line2D at 0x7fba30734e20>,\n",
       "  <matplotlib.lines.Line2D at 0x7fba3074f250>,\n",
       "  <matplotlib.lines.Line2D at 0x7fba3075d640>],\n",
       " 'means': []}"
      ]
     },
     "execution_count": 48,
     "metadata": {},
     "output_type": "execute_result"
    },
    {
     "data": {
      "image/png": "[encoded data removed]",
      "text/plain": [
       "<Figure size 1440x576 with 1 Axes>"
      ]
     },
     "metadata": {
      "needs_background": "light"
     },
     "output_type": "display_data"
    }
   ],
   "source": [
    "plt.figure(figsize=(20, 8))\n",
    "plt.boxplot((mean_fhat_fiveVTS.reshape(40,5) -  fiveVTS_test))"
   ]
  },
  {
   "cell_type": "code",
   "execution_count": 49,
   "id": "8bc9ab4c-8128-4049-b634-23d03cd94a82",
   "metadata": {},
   "outputs": [
    {
     "data": {
      "text/plain": [
       "{'whiskers': [<matplotlib.lines.Line2D at 0x7fba306d03d0>,\n",
       "  <matplotlib.lines.Line2D at 0x7fba306d06a0>],\n",
       " 'caps': [<matplotlib.lines.Line2D at 0x7fba306d0970>,\n",
       "  <matplotlib.lines.Line2D at 0x7fba306d0c40>],\n",
       " 'boxes': [<matplotlib.lines.Line2D at 0x7fba306d0100>],\n",
       " 'medians': [<matplotlib.lines.Line2D at 0x7fba306d0f10>],\n",
       " 'fliers': [<matplotlib.lines.Line2D at 0x7fba306de220>],\n",
       " 'means': []}"
      ]
     },
     "execution_count": 49,
     "metadata": {},
     "output_type": "execute_result"
    },
    {
     "data": {
      "image/png": "[encoded data removed]",
      "text/plain": [
       "<Figure size 1440x576 with 1 Axes>"
      ]
     },
     "metadata": {
      "needs_background": "light"
     },
     "output_type": "display_data"
    }
   ],
   "source": [
    "plt.figure(figsize=(20, 8))\n",
    "plt.boxplot(((mean_fhat_fiveVTS.reshape(40,5) -  fiveVTS_test)).reshape(200,1))"
   ]
  },
  {
   "cell_type": "markdown",
   "id": "de870e86-f08c-4419-bee8-329ba037e1b2",
   "metadata": {},
   "source": [
    "---"
   ]
  },
  {
   "cell_type": "markdown",
   "id": "609c8765-de47-4347-a8ab-ae57ef56feda",
   "metadata": {},
   "source": [
    "## 2) Temporal $\\to$ ST-GCN"
   ]
  },
  {
   "cell_type": "code",
   "execution_count": 50,
   "id": "1c5795ab-71f8-484d-babc-4a1078375c06",
   "metadata": {},
   "outputs": [],
   "source": [
    "mean_fhat_fiveVTS = torch.stack([model(xt, edge_index, edge_attr) for xt in mean_X_fiveVTS]).detach().numpy()"
   ]
  },
  {
   "cell_type": "code",
   "execution_count": 51,
   "id": "589cd3a7-0ae3-4ba1-a3e2-c9d2eec055a4",
   "metadata": {},
   "outputs": [],
   "source": [
    "w=np.zeros((N,159,159))"
   ]
  },
  {
   "cell_type": "code",
   "execution_count": 52,
   "id": "e76f911e-a729-41d7-869e-6f1f01b60f78",
   "metadata": {},
   "outputs": [],
   "source": [
    "for k in range(N):\n",
    "    for i in range(159):\n",
    "        for j in range(159):\n",
    "            if i==j :\n",
    "                w[k,i,j] = 0\n",
    "            elif np.abs(i-j) <= 1 : \n",
    "                w[k,i,j] = 1"
   ]
  },
  {
   "cell_type": "code",
   "execution_count": 53,
   "id": "7497a2db-22c5-4386-9f15-ca509b57e0bc",
   "metadata": {},
   "outputs": [],
   "source": [
    "d = np.array([w[i].sum(axis=1) for i in range(N)])\n",
    "D= np.array([np.diag(d[i]) for i in range(N)])\n",
    "L = np.array([np.diag(1/np.sqrt(d[i])) @ (D[i]-w[i]) @ np.diag(1/np.sqrt(d[i])) for i in range(N)])\n",
    "lamb, Psi  = np.linalg.eigh(L)[0],np.linalg.eigh(L)[1]\n",
    "Lamb = np.array([np.diag(lamb[i]) for i in range(N)])    \n",
    "fhatbar = np.hstack([Psi[i] @ mean_fhat_fiveVTS[:,i] for i in range(N)])\n",
    "_fhatbar = fhatbar.reshape(N,159)\n",
    "power = _fhatbar**2 \n",
    "ebayesthresh = importr('EbayesThresh').ebayesthresh\n",
    "power_threshed=np.array([np.array(ebayesthresh(FloatVector(_fhatbar[i]**2))) for i in range(N)])\n",
    "fhatbar_threshed = np.where(power_threshed>0,_fhatbar,0)\n",
    "fhatbarhat = np.array([Psi[i] @ fhatbar_threshed[i] for i in range(N)])    \n",
    "fhatbarhat_mean_temporal = fhatbarhat.reshape(159,-1)"
   ]
  },
  {
   "cell_type": "markdown",
   "id": "214febea-7739-40e1-b131-53f25ceb61a6",
   "metadata": {},
   "source": [
    "### ST-GCN만 한 상태에서 true값과 비교"
   ]
  },
  {
   "cell_type": "code",
   "execution_count": 54,
   "id": "448a4cea-053d-4436-bfe0-46ae760e0923",
   "metadata": {},
   "outputs": [],
   "source": [
    "mean_temporal = torch.tensor(fhatbarhat_mean_temporal).reshape(159,5,1).float()"
   ]
  },
  {
   "cell_type": "code",
   "execution_count": 55,
   "id": "ceaae340-ba46-4796-994d-be412e50029f",
   "metadata": {},
   "outputs": [],
   "source": [
    "mean_X_temporal = mean_temporal[:158,:,:]\n",
    "mean_y_temporal = mean_temporal[1:,:,:]"
   ]
  },
  {
   "cell_type": "code",
   "execution_count": 56,
   "id": "e7d5b253-03f4-46d7-bc89-b4dbcf0e7a6d",
   "metadata": {},
   "outputs": [
    {
     "name": "stderr",
     "output_type": "stream",
     "text": [
      "100%|██████████| 50/50 [00:26<00:00,  1.88it/s]\n"
     ]
    }
   ],
   "source": [
    "model = RecurrentGCN(node_features=1, filters=4)\n",
    "\n",
    "optimizer = torch.optim.Adam(model.parameters(), lr=0.01)\n",
    "\n",
    "model.train()\n",
    "\n",
    "for epoch in tqdm(range(50)):\n",
    "    for time, (xt,yt) in enumerate(zip(mean_X_temporal,mean_y_temporal)):\n",
    "        y_hat = model(xt, edge_index, edge_attr)\n",
    "        cost = torch.mean((y_hat-yt)**2)\n",
    "        cost.backward()\n",
    "        optimizer.step()\n",
    "        optimizer.zero_grad()"
   ]
  },
  {
   "cell_type": "code",
   "execution_count": 57,
   "id": "2fcc4f4c-0e1b-427f-81f2-fbdaed0364ce",
   "metadata": {},
   "outputs": [],
   "source": [
    "mean_X_temporal_fore = mean_temporal[119:,:,:]"
   ]
  },
  {
   "cell_type": "code",
   "execution_count": 59,
   "id": "a915d91c-cfa9-408b-8970-95808afb4e62",
   "metadata": {},
   "outputs": [],
   "source": [
    "mean_fhat_temporal = torch.stack([model(xt, edge_index, edge_attr) for xt in mean_X_temporal_fore]).detach().numpy()"
   ]
  },
  {
   "cell_type": "code",
   "execution_count": 60,
   "id": "1456819b-c210-4e7c-a5e6-4d504a59b11d",
   "metadata": {},
   "outputs": [
    {
     "data": {
      "text/plain": [
       "array([ 0.76215137,  0.92118497, -1.27401298, -1.01342119,  0.3446341 ])"
      ]
     },
     "execution_count": 60,
     "metadata": {},
     "output_type": "execute_result"
    }
   ],
   "source": [
    "(mean_fhat_temporal.reshape(40,5)[1] -  fiveVTS_test[1])"
   ]
  },
  {
   "cell_type": "code",
   "execution_count": 61,
   "id": "ff7e50b0-5778-4ee1-8f6b-37986e2fb67b",
   "metadata": {},
   "outputs": [
    {
     "data": {
      "text/plain": [
       "{'whiskers': [<matplotlib.lines.Line2D at 0x7fba3066f040>,\n",
       "  <matplotlib.lines.Line2D at 0x7fba3066f310>,\n",
       "  <matplotlib.lines.Line2D at 0x7fba305fc430>,\n",
       "  <matplotlib.lines.Line2D at 0x7fba305fc700>,\n",
       "  <matplotlib.lines.Line2D at 0x7fba3060b610>,\n",
       "  <matplotlib.lines.Line2D at 0x7fba3060b8e0>,\n",
       "  <matplotlib.lines.Line2D at 0x7fba30616a00>,\n",
       "  <matplotlib.lines.Line2D at 0x7fba30616cd0>,\n",
       "  <matplotlib.lines.Line2D at 0x7fba30623df0>,\n",
       "  <matplotlib.lines.Line2D at 0x7fba30630100>],\n",
       " 'caps': [<matplotlib.lines.Line2D at 0x7fba3066f5e0>,\n",
       "  <matplotlib.lines.Line2D at 0x7fba3066f8b0>,\n",
       "  <matplotlib.lines.Line2D at 0x7fba305fc9d0>,\n",
       "  <matplotlib.lines.Line2D at 0x7fba305fcca0>,\n",
       "  <matplotlib.lines.Line2D at 0x7fba3060bbb0>,\n",
       "  <matplotlib.lines.Line2D at 0x7fba3060be80>,\n",
       "  <matplotlib.lines.Line2D at 0x7fba30616fa0>,\n",
       "  <matplotlib.lines.Line2D at 0x7fba306232b0>,\n",
       "  <matplotlib.lines.Line2D at 0x7fba306303d0>,\n",
       "  <matplotlib.lines.Line2D at 0x7fba306306a0>],\n",
       " 'boxes': [<matplotlib.lines.Line2D at 0x7fba3065fe50>,\n",
       "  <matplotlib.lines.Line2D at 0x7fba305fc160>,\n",
       "  <matplotlib.lines.Line2D at 0x7fba3060b340>,\n",
       "  <matplotlib.lines.Line2D at 0x7fba30616730>,\n",
       "  <matplotlib.lines.Line2D at 0x7fba30623b20>],\n",
       " 'medians': [<matplotlib.lines.Line2D at 0x7fba3066fb80>,\n",
       "  <matplotlib.lines.Line2D at 0x7fba3ed4f700>,\n",
       "  <matplotlib.lines.Line2D at 0x7fba30616190>,\n",
       "  <matplotlib.lines.Line2D at 0x7fba30623580>,\n",
       "  <matplotlib.lines.Line2D at 0x7fba30630970>],\n",
       " 'fliers': [<matplotlib.lines.Line2D at 0x7fba3066fe50>,\n",
       "  <matplotlib.lines.Line2D at 0x7fba3060b070>,\n",
       "  <matplotlib.lines.Line2D at 0x7fba30616460>,\n",
       "  <matplotlib.lines.Line2D at 0x7fba30623850>,\n",
       "  <matplotlib.lines.Line2D at 0x7fba30630c40>],\n",
       " 'means': []}"
      ]
     },
     "execution_count": 61,
     "metadata": {},
     "output_type": "execute_result"
    },
    {
     "data": {
      "image/png": "[encoded data removed]",
      "text/plain": [
       "<Figure size 1440x576 with 1 Axes>"
      ]
     },
     "metadata": {
      "needs_background": "light"
     },
     "output_type": "display_data"
    }
   ],
   "source": [
    "plt.figure(figsize=(20, 8))\n",
    "plt.boxplot((mean_fhat_temporal.reshape(40,5) -  fiveVTS_test))"
   ]
  },
  {
   "cell_type": "code",
   "execution_count": 62,
   "id": "8d457138-76c4-487f-afb6-08ceeae38cee",
   "metadata": {},
   "outputs": [
    {
     "data": {
      "text/plain": [
       "{'whiskers': [<matplotlib.lines.Line2D at 0x7fba30596eb0>,\n",
       "  <matplotlib.lines.Line2D at 0x7fba305a51c0>],\n",
       " 'caps': [<matplotlib.lines.Line2D at 0x7fba305a5490>,\n",
       "  <matplotlib.lines.Line2D at 0x7fba305a5760>],\n",
       " 'boxes': [<matplotlib.lines.Line2D at 0x7fba30596cd0>],\n",
       " 'medians': [<matplotlib.lines.Line2D at 0x7fba305a5a30>],\n",
       " 'fliers': [<matplotlib.lines.Line2D at 0x7fba305a5d00>],\n",
       " 'means': []}"
      ]
     },
     "execution_count": 62,
     "metadata": {},
     "output_type": "execute_result"
    },
    {
     "data": {
      "image/png": "[encoded data removed]",
      "text/plain": [
       "<Figure size 1440x576 with 1 Axes>"
      ]
     },
     "metadata": {
      "needs_background": "light"
     },
     "output_type": "display_data"
    }
   ],
   "source": [
    "plt.figure(figsize=(20, 8))\n",
    "plt.boxplot(((mean_fhat_temporal.reshape(40,5) -  fiveVTS_test)).reshape(200,1))"
   ]
  },
  {
   "cell_type": "markdown",
   "id": "5f5e373a-8f72-47b4-a2a7-aa30c00cef97",
   "metadata": {},
   "source": [
    "## 3) Spatio $\\to$ ST-GCN"
   ]
  },
  {
   "cell_type": "code",
   "execution_count": 63,
   "id": "16e9bce1-b197-470d-82ba-1ddad151f898",
   "metadata": {},
   "outputs": [],
   "source": [
    "w=np.zeros((N,N))"
   ]
  },
  {
   "cell_type": "code",
   "execution_count": 64,
   "id": "5e021354-9c82-4871-b402-60e215f4aa88",
   "metadata": {},
   "outputs": [],
   "source": [
    "for i in range(N):\n",
    "    for j in range(N):\n",
    "        if i==j :\n",
    "            w[i,j] = 0\n",
    "        elif np.abs(i-j) <= 1 : \n",
    "            w[i,j] = 1"
   ]
  },
  {
   "cell_type": "code",
   "execution_count": 65,
   "id": "703694d0-3d51-43d7-b3f8-bb182bd43297",
   "metadata": {},
   "outputs": [],
   "source": [
    "d = np.array(w.sum(axis=1))\n",
    "D = np.diag(d)\n",
    "L = np.array(np.diag(1/np.sqrt(d)) @ (D-w) @ np.diag(1/np.sqrt(d)))\n",
    "lamb, Psi = np.linalg.eigh(L)\n",
    "Lamb = np.diag(lamb)\n",
    "fhatbar = Psi @ mean_fhat_fiveVTS.reshape(N,159)\n",
    "power = fhatbar**2 \n",
    "ebayesthresh = importr('EbayesThresh').ebayesthresh\n",
    "power_threshed=np.array([np.array(ebayesthresh(FloatVector(fhatbar[i]**2))) for i in range(N)])\n",
    "fhatbar_threshed = np.where(power_threshed>0,fhatbar,0)\n",
    "fhatbarhat = Psi @ fhatbar_threshed\n",
    "fhatbarhat_mean_spatio = fhatbarhat.reshape(159,-1)"
   ]
  },
  {
   "cell_type": "markdown",
   "id": "6fbfccee-1a64-4b4a-8d8f-6afeb8358754",
   "metadata": {},
   "source": [
    "### ST-GCN만 한 상태에서 true값과 비교"
   ]
  },
  {
   "cell_type": "code",
   "execution_count": 66,
   "id": "86a0fd52-076f-4cec-807f-8adb346353c5",
   "metadata": {},
   "outputs": [],
   "source": [
    "mean_spatio = torch.tensor(fhatbarhat_mean_spatio).reshape(159,5,1).float()"
   ]
  },
  {
   "cell_type": "code",
   "execution_count": 67,
   "id": "3ba55368-ed26-4756-bc16-880e8a4a8ff2",
   "metadata": {},
   "outputs": [],
   "source": [
    "mean_X_spatio = mean_spatio[:158,:,:]\n",
    "mean_y_spatio = mean_spatio[1:,:,:]"
   ]
  },
  {
   "cell_type": "code",
   "execution_count": 68,
   "id": "c4839b8f-45e3-402b-a554-18920cd50343",
   "metadata": {},
   "outputs": [
    {
     "name": "stderr",
     "output_type": "stream",
     "text": [
      "100%|██████████| 50/50 [00:27<00:00,  1.85it/s]\n"
     ]
    }
   ],
   "source": [
    "model = RecurrentGCN(node_features=1, filters=4)\n",
    "\n",
    "optimizer = torch.optim.Adam(model.parameters(), lr=0.01)\n",
    "\n",
    "model.train()\n",
    "\n",
    "for epoch in tqdm(range(50)):\n",
    "    for time, (xt,yt) in enumerate(zip(mean_X_spatio,mean_y_spatio)):\n",
    "        y_hat = model(xt, edge_index, edge_attr)\n",
    "        cost = torch.mean((y_hat-yt)**2)\n",
    "        cost.backward()\n",
    "        optimizer.step()\n",
    "        optimizer.zero_grad()"
   ]
  },
  {
   "cell_type": "code",
   "execution_count": 69,
   "id": "a479ca12-ac59-4cd7-858e-cd51fecc6a9a",
   "metadata": {},
   "outputs": [],
   "source": [
    "mean_X_spatio_fore = mean_spatio[119:,:,:]"
   ]
  },
  {
   "cell_type": "code",
   "execution_count": 70,
   "id": "9382baea-bdae-4a77-90a9-7dd0f0944616",
   "metadata": {},
   "outputs": [],
   "source": [
    "mean_fhat_spatio = torch.stack([model(xt, edge_index, edge_attr) for xt in mean_X_spatio_fore]).detach().numpy()"
   ]
  },
  {
   "cell_type": "code",
   "execution_count": 71,
   "id": "94dec512-736d-428c-b56f-9c5cfca85336",
   "metadata": {},
   "outputs": [
    {
     "data": {
      "text/plain": [
       "array([ 0.61463491,  0.76944418, -1.41762615, -1.1639043 ,  0.24719958])"
      ]
     },
     "execution_count": 71,
     "metadata": {},
     "output_type": "execute_result"
    }
   ],
   "source": [
    "(mean_fhat_spatio.reshape(40,5)[1] -  fiveVTS_test[1])"
   ]
  },
  {
   "cell_type": "code",
   "execution_count": 72,
   "id": "9363900b-fbff-452d-9847-671509ef6de6",
   "metadata": {},
   "outputs": [
    {
     "data": {
      "text/plain": [
       "{'whiskers': [<matplotlib.lines.Line2D at 0x7fba3052a940>,\n",
       "  <matplotlib.lines.Line2D at 0x7fba3052ac10>,\n",
       "  <matplotlib.lines.Line2D at 0x7fba30278d60>,\n",
       "  <matplotlib.lines.Line2D at 0x7fba30284070>,\n",
       "  <matplotlib.lines.Line2D at 0x7fba302931c0>,\n",
       "  <matplotlib.lines.Line2D at 0x7fba30293490>,\n",
       "  <matplotlib.lines.Line2D at 0x7fba3029f5b0>,\n",
       "  <matplotlib.lines.Line2D at 0x7fba3029f880>,\n",
       "  <matplotlib.lines.Line2D at 0x7fba302ad9a0>,\n",
       "  <matplotlib.lines.Line2D at 0x7fba302adc70>],\n",
       " 'caps': [<matplotlib.lines.Line2D at 0x7fba3052aee0>,\n",
       "  <matplotlib.lines.Line2D at 0x7fba302781f0>,\n",
       "  <matplotlib.lines.Line2D at 0x7fba30284340>,\n",
       "  <matplotlib.lines.Line2D at 0x7fba30284610>,\n",
       "  <matplotlib.lines.Line2D at 0x7fba30293760>,\n",
       "  <matplotlib.lines.Line2D at 0x7fba30293a30>,\n",
       "  <matplotlib.lines.Line2D at 0x7fba3029fb50>,\n",
       "  <matplotlib.lines.Line2D at 0x7fba3029fe20>,\n",
       "  <matplotlib.lines.Line2D at 0x7fba302adf40>,\n",
       "  <matplotlib.lines.Line2D at 0x7fba30238250>],\n",
       " 'boxes': [<matplotlib.lines.Line2D at 0x7fba3052a670>,\n",
       "  <matplotlib.lines.Line2D at 0x7fba30278a60>,\n",
       "  <matplotlib.lines.Line2D at 0x7fba30284eb0>,\n",
       "  <matplotlib.lines.Line2D at 0x7fba3029f2e0>,\n",
       "  <matplotlib.lines.Line2D at 0x7fba302ad6d0>],\n",
       " 'medians': [<matplotlib.lines.Line2D at 0x7fba302784c0>,\n",
       "  <matplotlib.lines.Line2D at 0x7fba302848e0>,\n",
       "  <matplotlib.lines.Line2D at 0x7fba30293d00>,\n",
       "  <matplotlib.lines.Line2D at 0x7fba302ad130>,\n",
       "  <matplotlib.lines.Line2D at 0x7fba30238520>],\n",
       " 'fliers': [<matplotlib.lines.Line2D at 0x7fba30278790>,\n",
       "  <matplotlib.lines.Line2D at 0x7fba30284be0>,\n",
       "  <matplotlib.lines.Line2D at 0x7fba30293fd0>,\n",
       "  <matplotlib.lines.Line2D at 0x7fba302ad400>,\n",
       "  <matplotlib.lines.Line2D at 0x7fba302387f0>],\n",
       " 'means': []}"
      ]
     },
     "execution_count": 72,
     "metadata": {},
     "output_type": "execute_result"
    },
    {
     "data": {
      "image/png": "[encoded data removed]",
      "text/plain": [
       "<Figure size 1440x576 with 1 Axes>"
      ]
     },
     "metadata": {
      "needs_background": "light"
     },
     "output_type": "display_data"
    }
   ],
   "source": [
    "plt.figure(figsize=(20, 8))\n",
    "plt.boxplot((mean_fhat_spatio.reshape(40,5) -  fiveVTS_test))"
   ]
  },
  {
   "cell_type": "code",
   "execution_count": 73,
   "id": "07c8d097-8ae1-4703-bfe5-40d1a0ed20a1",
   "metadata": {},
   "outputs": [
    {
     "data": {
      "text/plain": [
       "{'whiskers': [<matplotlib.lines.Line2D at 0x7fba3021ee50>,\n",
       "  <matplotlib.lines.Line2D at 0x7fba3022e160>],\n",
       " 'caps': [<matplotlib.lines.Line2D at 0x7fba3022e430>,\n",
       "  <matplotlib.lines.Line2D at 0x7fba3022e730>],\n",
       " 'boxes': [<matplotlib.lines.Line2D at 0x7fba3020f9d0>],\n",
       " 'medians': [<matplotlib.lines.Line2D at 0x7fba3022ea00>],\n",
       " 'fliers': [<matplotlib.lines.Line2D at 0x7fba3022ecd0>],\n",
       " 'means': []}"
      ]
     },
     "execution_count": 73,
     "metadata": {},
     "output_type": "execute_result"
    },
    {
     "data": {
      "image/png": "[encoded data removed]",
      "text/plain": [
       "<Figure size 1440x576 with 1 Axes>"
      ]
     },
     "metadata": {
      "needs_background": "light"
     },
     "output_type": "display_data"
    }
   ],
   "source": [
    "plt.figure(figsize=(20, 8))\n",
    "plt.boxplot(((mean_fhat_spatio.reshape(40,5) -  fiveVTS_test)).reshape(200,1))"
   ]
  },
  {
   "cell_type": "markdown",
   "id": "5364e8f3-53e1-4b1f-ad07-e1a3da611989",
   "metadata": {},
   "source": [
    "## 4) Spatio-Temporal $\\to$ ST-GCN"
   ]
  },
  {
   "cell_type": "code",
   "execution_count": 74,
   "id": "73fbed80-f9d8-4483-8eb0-c0292a544c55",
   "metadata": {},
   "outputs": [],
   "source": [
    "w=np.zeros((159*N,159*N))"
   ]
  },
  {
   "cell_type": "code",
   "execution_count": 75,
   "id": "27c70353-80c2-4954-bcc7-59b375302eff",
   "metadata": {},
   "outputs": [],
   "source": [
    "for i in range(159*N):\n",
    "    for j in range(159*N):\n",
    "        if i==j :\n",
    "            w[i,j] = 0\n",
    "        elif np.abs(i-j) <= 1 : \n",
    "            w[i,j] = 1"
   ]
  },
  {
   "cell_type": "code",
   "execution_count": 76,
   "id": "478b997b-9ac2-42eb-b720-6e54af19d2a2",
   "metadata": {},
   "outputs": [],
   "source": [
    "d = np.array(w.sum(axis=1))\n",
    "D = np.diag(d)\n",
    "L = np.array(np.diag(1/np.sqrt(d)) @ (D-w) @ np.diag(1/np.sqrt(d)))\n",
    "lamb, Psi = np.linalg.eigh(L)\n",
    "Lamb = np.diag(lamb)\n",
    "fhatbar = Psi @ mean_fhat_fiveVTS.reshape(159*N,1)\n",
    "power = fhatbar**2 \n",
    "ebayesthresh = importr('EbayesThresh').ebayesthresh\n",
    "power_threshed=np.array([np.array(ebayesthresh(FloatVector(fhatbar[i]**2))) for i in range(159*N)])\n",
    "fhatbar_threshed = np.where(power_threshed>0,fhatbar,0)\n",
    "fhatbarhat = Psi @ fhatbar_threshed\n",
    "fhatbarhat_mean_spatio_temporal = fhatbarhat.reshape(159,N,1)"
   ]
  },
  {
   "cell_type": "markdown",
   "id": "e5c1228b-3d5f-4ec0-a2b4-3dddcda8b59f",
   "metadata": {},
   "source": [
    "### ST-GCN만 한 상태에서 true값과 비교"
   ]
  },
  {
   "cell_type": "code",
   "execution_count": 77,
   "id": "9804023e-3144-476b-a829-e942ca3a9bd5",
   "metadata": {},
   "outputs": [],
   "source": [
    "mean_spatio_temporal = torch.tensor(fhatbarhat_mean_spatio_temporal).reshape(159,5,1).float()"
   ]
  },
  {
   "cell_type": "code",
   "execution_count": 78,
   "id": "080b8be1-ff58-43d7-b1d9-c0a47dbb1bb1",
   "metadata": {},
   "outputs": [],
   "source": [
    "mean_X_spatio_temporal = mean_spatio_temporal[:158,:,:]\n",
    "mean_y_spatio_temporal = mean_spatio_temporal[1:,:,:]"
   ]
  },
  {
   "cell_type": "code",
   "execution_count": 79,
   "id": "ae7da10b-97ce-488f-95fe-209f96ae7208",
   "metadata": {},
   "outputs": [
    {
     "name": "stderr",
     "output_type": "stream",
     "text": [
      "100%|██████████| 50/50 [00:27<00:00,  1.84it/s]\n"
     ]
    }
   ],
   "source": [
    "model = RecurrentGCN(node_features=1, filters=4)\n",
    "\n",
    "optimizer = torch.optim.Adam(model.parameters(), lr=0.01)\n",
    "\n",
    "model.train()\n",
    "\n",
    "for epoch in tqdm(range(50)):\n",
    "    for time, (xt,yt) in enumerate(zip(mean_X_spatio_temporal,mean_y_spatio_temporal)):\n",
    "        y_hat = model(xt, edge_index, edge_attr)\n",
    "        cost = torch.mean((y_hat-yt)**2)\n",
    "        cost.backward()\n",
    "        optimizer.step()\n",
    "        optimizer.zero_grad()"
   ]
  },
  {
   "cell_type": "code",
   "execution_count": 80,
   "id": "59df1694-5801-4c90-a1a8-37866b4267ea",
   "metadata": {},
   "outputs": [],
   "source": [
    "mean_X_spatio_temporal_fore = mean_spatio_temporal[119:,:,:]"
   ]
  },
  {
   "cell_type": "code",
   "execution_count": 81,
   "id": "7e06e8a8-1f1f-4d87-8d04-c5c11b0576bb",
   "metadata": {},
   "outputs": [],
   "source": [
    "mean_fhat_spatio_temporal = torch.stack([model(xt, edge_index, edge_attr) for xt in mean_X_spatio_temporal_fore]).detach().numpy()"
   ]
  },
  {
   "cell_type": "code",
   "execution_count": 82,
   "id": "015f3a16-d149-4764-baf6-99ad7d256f20",
   "metadata": {},
   "outputs": [
    {
     "data": {
      "text/plain": [
       "array([ 0.71870126,  0.94757683, -1.25974104, -0.9921751 ,  0.36159626])"
      ]
     },
     "execution_count": 82,
     "metadata": {},
     "output_type": "execute_result"
    }
   ],
   "source": [
    "(mean_fhat_spatio_temporal.reshape(40,5)[1] -  fiveVTS_test[1])"
   ]
  },
  {
   "cell_type": "code",
   "execution_count": 83,
   "id": "62999ba6-c564-47f0-a019-857ef0015eca",
   "metadata": {},
   "outputs": [
    {
     "data": {
      "text/plain": [
       "{'whiskers': [<matplotlib.lines.Line2D at 0x7fba3013e070>,\n",
       "  <matplotlib.lines.Line2D at 0x7fba3013e340>,\n",
       "  <matplotlib.lines.Line2D at 0x7fba30149490>,\n",
       "  <matplotlib.lines.Line2D at 0x7fba30149760>,\n",
       "  <matplotlib.lines.Line2D at 0x7fba30157880>,\n",
       "  <matplotlib.lines.Line2D at 0x7fba30157b50>,\n",
       "  <matplotlib.lines.Line2D at 0x7fba30165c70>,\n",
       "  <matplotlib.lines.Line2D at 0x7fba30165f40>,\n",
       "  <matplotlib.lines.Line2D at 0x7fba300ff0a0>,\n",
       "  <matplotlib.lines.Line2D at 0x7fba300ff370>],\n",
       " 'caps': [<matplotlib.lines.Line2D at 0x7fba3013e610>,\n",
       "  <matplotlib.lines.Line2D at 0x7fba3013e910>,\n",
       "  <matplotlib.lines.Line2D at 0x7fba30149a30>,\n",
       "  <matplotlib.lines.Line2D at 0x7fba30149d00>,\n",
       "  <matplotlib.lines.Line2D at 0x7fba30157e20>,\n",
       "  <matplotlib.lines.Line2D at 0x7fba30165130>,\n",
       "  <matplotlib.lines.Line2D at 0x7fba3016f250>,\n",
       "  <matplotlib.lines.Line2D at 0x7fba3016f520>,\n",
       "  <matplotlib.lines.Line2D at 0x7fba300ff640>,\n",
       "  <matplotlib.lines.Line2D at 0x7fba300ff910>],\n",
       " 'boxes': [<matplotlib.lines.Line2D at 0x7fba301c4160>,\n",
       "  <matplotlib.lines.Line2D at 0x7fba301491c0>,\n",
       "  <matplotlib.lines.Line2D at 0x7fba301575b0>,\n",
       "  <matplotlib.lines.Line2D at 0x7fba301659a0>,\n",
       "  <matplotlib.lines.Line2D at 0x7fba3016fd90>],\n",
       " 'medians': [<matplotlib.lines.Line2D at 0x7fba3013ebe0>,\n",
       "  <matplotlib.lines.Line2D at 0x7fba30149fd0>,\n",
       "  <matplotlib.lines.Line2D at 0x7fba30165400>,\n",
       "  <matplotlib.lines.Line2D at 0x7fba3016f7f0>,\n",
       "  <matplotlib.lines.Line2D at 0x7fba300ffbe0>],\n",
       " 'fliers': [<matplotlib.lines.Line2D at 0x7fba3013eeb0>,\n",
       "  <matplotlib.lines.Line2D at 0x7fba301572e0>,\n",
       "  <matplotlib.lines.Line2D at 0x7fba301656d0>,\n",
       "  <matplotlib.lines.Line2D at 0x7fba3016fac0>,\n",
       "  <matplotlib.lines.Line2D at 0x7fba300ffeb0>],\n",
       " 'means': []}"
      ]
     },
     "execution_count": 83,
     "metadata": {},
     "output_type": "execute_result"
    },
    {
     "data": {
      "image/png": "[encoded data removed]",
      "text/plain": [
       "<Figure size 1440x576 with 1 Axes>"
      ]
     },
     "metadata": {
      "needs_background": "light"
     },
     "output_type": "display_data"
    }
   ],
   "source": [
    "plt.figure(figsize=(20, 8))\n",
    "plt.boxplot((mean_fhat_spatio_temporal.reshape(40,5) -  fiveVTS_test))"
   ]
  },
  {
   "cell_type": "code",
   "execution_count": 84,
   "id": "0455bd04-033d-42d0-927f-5f59b3c67f1f",
   "metadata": {},
   "outputs": [
    {
     "data": {
      "text/plain": [
       "{'whiskers': [<matplotlib.lines.Line2D at 0x7fba300f08b0>,\n",
       "  <matplotlib.lines.Line2D at 0x7fba300f0b80>],\n",
       " 'caps': [<matplotlib.lines.Line2D at 0x7fba300f0e50>,\n",
       "  <matplotlib.lines.Line2D at 0x7fba3007c160>],\n",
       " 'boxes': [<matplotlib.lines.Line2D at 0x7fba300e3400>],\n",
       " 'medians': [<matplotlib.lines.Line2D at 0x7fba3007c430>],\n",
       " 'fliers': [<matplotlib.lines.Line2D at 0x7fba3007c700>],\n",
       " 'means': []}"
      ]
     },
     "execution_count": 84,
     "metadata": {},
     "output_type": "execute_result"
    },
    {
     "data": {
      "image/png": "[encoded data removed]",
      "text/plain": [
       "<Figure size 1440x576 with 1 Axes>"
      ]
     },
     "metadata": {
      "needs_background": "light"
     },
     "output_type": "display_data"
    }
   ],
   "source": [
    "plt.figure(figsize=(20, 8))\n",
    "plt.boxplot(((mean_fhat_spatio_temporal.reshape(40,5) -  fiveVTS_test)).reshape(200,1))"
   ]
  },
  {
   "cell_type": "markdown",
   "id": "11faa652-0266-4c64-a4e4-afd93d11375f",
   "metadata": {},
   "source": [
    "# 2. Missing Value - Linear Interpolation"
   ]
  },
  {
   "cell_type": "code",
   "execution_count": 85,
   "id": "27e3ed3f-314b-4320-9cf3-f21ac06f3da4",
   "metadata": {},
   "outputs": [],
   "source": [
    "_df = pd.DataFrame(fiveVTS_train)\n",
    "_df.interpolate(method='linear', inplace=True)\n",
    "_df = _df.fillna(0)"
   ]
  },
  {
   "cell_type": "code",
   "execution_count": 86,
   "id": "e2efbcfb-610a-4f5d-9338-5b4ff29a651d",
   "metadata": {},
   "outputs": [],
   "source": [
    "linear_fiveVTS_train = np.array(_df).reshape(160,5)"
   ]
  },
  {
   "cell_type": "markdown",
   "id": "c21efcb0-b804-4c18-a553-184899e8d2ab",
   "metadata": {},
   "source": [
    "## 1) ST-GCN"
   ]
  },
  {
   "cell_type": "code",
   "execution_count": 87,
   "id": "73832082-af41-44a4-b092-4d7fe6fb2f9f",
   "metadata": {},
   "outputs": [],
   "source": [
    "linear_f_fiveVTS_train = torch.tensor(linear_fiveVTS_train).reshape(160,5,1).float()"
   ]
  },
  {
   "cell_type": "code",
   "execution_count": 88,
   "id": "d95c8e9d-29e9-4ad4-9cc5-1d0a619e14c0",
   "metadata": {},
   "outputs": [],
   "source": [
    "linear_X_fiveVTS = linear_f_fiveVTS_train[:159,:,:]\n",
    "linear_y_fiveVTS = linear_f_fiveVTS_train[1:,:,:]"
   ]
  },
  {
   "cell_type": "code",
   "execution_count": 89,
   "id": "c0c4624b-d350-4aef-8bb7-03f194a362f9",
   "metadata": {},
   "outputs": [
    {
     "name": "stderr",
     "output_type": "stream",
     "text": [
      "100%|██████████| 50/50 [00:27<00:00,  1.82it/s]\n"
     ]
    }
   ],
   "source": [
    "model = RecurrentGCN(node_features=1, filters=4)\n",
    "\n",
    "optimizer = torch.optim.Adam(model.parameters(), lr=0.01)\n",
    "\n",
    "model.train()\n",
    "\n",
    "for epoch in tqdm(range(50)):\n",
    "    for time, (xt,yt) in enumerate(zip(linear_X_fiveVTS,linear_y_fiveVTS)):\n",
    "        y_hat = model(xt, edge_index, edge_attr)\n",
    "        cost = torch.mean((y_hat-yt)**2)\n",
    "        cost.backward()\n",
    "        optimizer.step()\n",
    "        optimizer.zero_grad()"
   ]
  },
  {
   "cell_type": "markdown",
   "id": "adf59d97-f928-4e50-af96-afa24e02304a",
   "metadata": {},
   "source": [
    "### ST-GCN만 한 상태에서 true값과 비교"
   ]
  },
  {
   "cell_type": "code",
   "execution_count": 90,
   "id": "09229c3f-8c46-411a-aaca-49b330852d0a",
   "metadata": {},
   "outputs": [],
   "source": [
    "linear_X_fore_fiveVTS = linear_f_fiveVTS_train[120:,:,:]"
   ]
  },
  {
   "cell_type": "code",
   "execution_count": 91,
   "id": "e39796e9-f7d0-44b9-a686-08cecb03f787",
   "metadata": {},
   "outputs": [],
   "source": [
    "linear_fhat_fiveVTS = torch.stack([model(xt, edge_index, edge_attr) for xt in linear_X_fore_fiveVTS]).detach().numpy()"
   ]
  },
  {
   "cell_type": "code",
   "execution_count": 92,
   "id": "08ed4404-55d3-44e7-8c24-a4b1900fd4de",
   "metadata": {},
   "outputs": [
    {
     "data": {
      "text/plain": [
       "array([ 0.5884296 ,  0.93915328, -0.86353006, -0.32309763,  0.81814396])"
      ]
     },
     "execution_count": 92,
     "metadata": {},
     "output_type": "execute_result"
    }
   ],
   "source": [
    "(linear_fhat_fiveVTS.reshape(40,5)[1] -  fiveVTS_test[1])"
   ]
  },
  {
   "cell_type": "code",
   "execution_count": 93,
   "id": "82513098-398d-400d-baa8-b36dc5fe2c1e",
   "metadata": {},
   "outputs": [
    {
     "data": {
      "text/plain": [
       "{'whiskers': [<matplotlib.lines.Line2D at 0x7fba283d1100>,\n",
       "  <matplotlib.lines.Line2D at 0x7fba283d1400>,\n",
       "  <matplotlib.lines.Line2D at 0x7fba283dd550>,\n",
       "  <matplotlib.lines.Line2D at 0x7fba283dd820>,\n",
       "  <matplotlib.lines.Line2D at 0x7fba28369940>,\n",
       "  <matplotlib.lines.Line2D at 0x7fba28369c10>,\n",
       "  <matplotlib.lines.Line2D at 0x7fba28376d30>,\n",
       "  <matplotlib.lines.Line2D at 0x7fba28386040>,\n",
       "  <matplotlib.lines.Line2D at 0x7fba28392160>,\n",
       "  <matplotlib.lines.Line2D at 0x7fba28392430>],\n",
       " 'caps': [<matplotlib.lines.Line2D at 0x7fba283d16d0>,\n",
       "  <matplotlib.lines.Line2D at 0x7fba283d19a0>,\n",
       "  <matplotlib.lines.Line2D at 0x7fba283ddaf0>,\n",
       "  <matplotlib.lines.Line2D at 0x7fba283dddc0>,\n",
       "  <matplotlib.lines.Line2D at 0x7fba28369ee0>,\n",
       "  <matplotlib.lines.Line2D at 0x7fba283761f0>,\n",
       "  <matplotlib.lines.Line2D at 0x7fba28386310>,\n",
       "  <matplotlib.lines.Line2D at 0x7fba283865e0>,\n",
       "  <matplotlib.lines.Line2D at 0x7fba28392700>,\n",
       "  <matplotlib.lines.Line2D at 0x7fba283929d0>],\n",
       " 'boxes': [<matplotlib.lines.Line2D at 0x7fba283c0df0>,\n",
       "  <matplotlib.lines.Line2D at 0x7fba283dd280>,\n",
       "  <matplotlib.lines.Line2D at 0x7fba28369670>,\n",
       "  <matplotlib.lines.Line2D at 0x7fba28376a60>,\n",
       "  <matplotlib.lines.Line2D at 0x7fba28386e50>],\n",
       " 'medians': [<matplotlib.lines.Line2D at 0x7fba283d1c70>,\n",
       "  <matplotlib.lines.Line2D at 0x7fba283690d0>,\n",
       "  <matplotlib.lines.Line2D at 0x7fba283764c0>,\n",
       "  <matplotlib.lines.Line2D at 0x7fba283868b0>,\n",
       "  <matplotlib.lines.Line2D at 0x7fba28392ca0>],\n",
       " 'fliers': [<matplotlib.lines.Line2D at 0x7fba283d1f40>,\n",
       "  <matplotlib.lines.Line2D at 0x7fba283693a0>,\n",
       "  <matplotlib.lines.Line2D at 0x7fba28376790>,\n",
       "  <matplotlib.lines.Line2D at 0x7fba28386b80>,\n",
       "  <matplotlib.lines.Line2D at 0x7fba28392f70>],\n",
       " 'means': []}"
      ]
     },
     "execution_count": 93,
     "metadata": {},
     "output_type": "execute_result"
    },
    {
     "data": {
      "image/png": "[encoded data removed]",
      "text/plain": [
       "<Figure size 1440x576 with 1 Axes>"
      ]
     },
     "metadata": {
      "needs_background": "light"
     },
     "output_type": "display_data"
    }
   ],
   "source": [
    "plt.figure(figsize=(20, 8))\n",
    "plt.boxplot((linear_fhat_fiveVTS.reshape(40,5) -  fiveVTS_test))"
   ]
  },
  {
   "cell_type": "code",
   "execution_count": 94,
   "id": "6b2fba1b-69a0-48b2-98b5-dd4b3ac92fd0",
   "metadata": {},
   "outputs": [
    {
     "data": {
      "text/plain": [
       "{'whiskers': [<matplotlib.lines.Line2D at 0x7fba28304760>,\n",
       "  <matplotlib.lines.Line2D at 0x7fba28304a30>],\n",
       " 'caps': [<matplotlib.lines.Line2D at 0x7fba28304d00>,\n",
       "  <matplotlib.lines.Line2D at 0x7fba28304fd0>],\n",
       " 'boxes': [<matplotlib.lines.Line2D at 0x7fba282f82b0>],\n",
       " 'medians': [<matplotlib.lines.Line2D at 0x7fba283112e0>],\n",
       " 'fliers': [<matplotlib.lines.Line2D at 0x7fba283115b0>],\n",
       " 'means': []}"
      ]
     },
     "execution_count": 94,
     "metadata": {},
     "output_type": "execute_result"
    },
    {
     "data": {
      "image/png": "[encoded data removed]",
      "text/plain": [
       "<Figure size 1440x576 with 1 Axes>"
      ]
     },
     "metadata": {
      "needs_background": "light"
     },
     "output_type": "display_data"
    }
   ],
   "source": [
    "plt.figure(figsize=(20, 8))\n",
    "plt.boxplot(((linear_fhat_fiveVTS.reshape(40,5) -  fiveVTS_test)).reshape(200,1))"
   ]
  },
  {
   "cell_type": "markdown",
   "id": "5a8b73af-5b69-4a69-9df6-b0ddf5fea5c9",
   "metadata": {},
   "source": [
    "## 2) Temporal $\\to$ ST-GCN"
   ]
  },
  {
   "cell_type": "code",
   "execution_count": 95,
   "id": "82d0686e-0324-4b65-815a-3d417a203a76",
   "metadata": {},
   "outputs": [],
   "source": [
    "linear_fhat_fiveVTS = torch.stack([model(xt, edge_index, edge_attr) for xt in linear_X_fiveVTS]).detach().numpy()"
   ]
  },
  {
   "cell_type": "code",
   "execution_count": 96,
   "id": "2df40b27-389d-4fe3-91c2-fe4228cc02d7",
   "metadata": {},
   "outputs": [],
   "source": [
    "w=np.zeros((N,159,159))"
   ]
  },
  {
   "cell_type": "code",
   "execution_count": 97,
   "id": "e592d1a1-a172-4cf5-9298-c993690f4ea6",
   "metadata": {},
   "outputs": [],
   "source": [
    "for k in range(N):\n",
    "    for i in range(159):\n",
    "        for j in range(159):\n",
    "            if i==j :\n",
    "                w[k,i,j] = 0\n",
    "            elif np.abs(i-j) <= 1 : \n",
    "                w[k,i,j] = 1"
   ]
  },
  {
   "cell_type": "code",
   "execution_count": 98,
   "id": "616229ee-d4e7-47f1-8446-8bae35a2c23b",
   "metadata": {},
   "outputs": [],
   "source": [
    "d = np.array([w[i].sum(axis=1) for i in range(N)])\n",
    "D= np.array([np.diag(d[i]) for i in range(N)])\n",
    "L = np.array([np.diag(1/np.sqrt(d[i])) @ (D[i]-w[i]) @ np.diag(1/np.sqrt(d[i])) for i in range(N)])\n",
    "lamb, Psi  = np.linalg.eigh(L)[0],np.linalg.eigh(L)[1]\n",
    "Lamb = np.array([np.diag(lamb[i]) for i in range(N)])    \n",
    "fhatbar = np.hstack([Psi[i] @ linear_fhat_fiveVTS[:,i] for i in range(N)])\n",
    "_fhatbar = fhatbar.reshape(N,159)\n",
    "power = _fhatbar**2 \n",
    "ebayesthresh = importr('EbayesThresh').ebayesthresh\n",
    "power_threshed=np.array([np.array(ebayesthresh(FloatVector(_fhatbar[i]**2))) for i in range(N)])\n",
    "fhatbar_threshed = np.where(power_threshed>0,_fhatbar,0)\n",
    "fhatbarhat = np.array([Psi[i] @ fhatbar_threshed[i] for i in range(N)])    \n",
    "fhatbarhat_linear_temporal = fhatbarhat.reshape(159,-1)"
   ]
  },
  {
   "cell_type": "markdown",
   "id": "5b75aea5-b87d-4675-bc0e-9564dcfb0844",
   "metadata": {},
   "source": [
    "### ST-GCN만 한 상태에서 true값과 비교"
   ]
  },
  {
   "cell_type": "code",
   "execution_count": 99,
   "id": "bc711074-2d93-4b50-9667-b292e334661e",
   "metadata": {},
   "outputs": [],
   "source": [
    "linear_temporal = torch.tensor(fhatbarhat_linear_temporal).reshape(159,5,1).float()"
   ]
  },
  {
   "cell_type": "code",
   "execution_count": 100,
   "id": "805b92e7-5049-41f4-ae35-b0d442ef4cf0",
   "metadata": {},
   "outputs": [],
   "source": [
    "linear_X_temporal = linear_temporal[:158,:,:]\n",
    "linear_y_temporal = linear_temporal[1:,:,:]"
   ]
  },
  {
   "cell_type": "code",
   "execution_count": 101,
   "id": "5229e2c6-7330-447b-91f3-799a0a24ce8f",
   "metadata": {},
   "outputs": [
    {
     "name": "stderr",
     "output_type": "stream",
     "text": [
      "100%|██████████| 50/50 [00:27<00:00,  1.85it/s]\n"
     ]
    }
   ],
   "source": [
    "model = RecurrentGCN(node_features=1, filters=4)\n",
    "\n",
    "optimizer = torch.optim.Adam(model.parameters(), lr=0.01)\n",
    "\n",
    "model.train()\n",
    "\n",
    "for epoch in tqdm(range(50)):\n",
    "    for time, (xt,yt) in enumerate(zip(linear_X_temporal,linear_y_temporal)):\n",
    "        y_hat = model(xt, edge_index, edge_attr)\n",
    "        cost = torch.mean((y_hat-yt)**2)\n",
    "        cost.backward()\n",
    "        optimizer.step()\n",
    "        optimizer.zero_grad()"
   ]
  },
  {
   "cell_type": "code",
   "execution_count": 102,
   "id": "40d2eb5b-a79b-4902-bcf4-458d430b4f6f",
   "metadata": {},
   "outputs": [],
   "source": [
    "linear_X_temporal_fore = linear_temporal[119:,:,:]"
   ]
  },
  {
   "cell_type": "code",
   "execution_count": 103,
   "id": "4458f06f-337a-4475-b1d8-a771e5977686",
   "metadata": {},
   "outputs": [],
   "source": [
    "linear_fhat_temporal = torch.stack([model(xt, edge_index, edge_attr) for xt in linear_X_temporal_fore]).detach().numpy()"
   ]
  },
  {
   "cell_type": "code",
   "execution_count": 104,
   "id": "3c6deb56-9f97-4041-9e05-cb3652df6faa",
   "metadata": {},
   "outputs": [
    {
     "data": {
      "text/plain": [
       "array([ 0.81009904,  1.06553185, -1.2376281 , -0.94720779,  0.39560674])"
      ]
     },
     "execution_count": 104,
     "metadata": {},
     "output_type": "execute_result"
    }
   ],
   "source": [
    "(linear_fhat_temporal.reshape(40,5)[1] -  fiveVTS_test[1])"
   ]
  },
  {
   "cell_type": "code",
   "execution_count": 105,
   "id": "7640c49e-1e80-46f0-b96e-2cf97540c059",
   "metadata": {},
   "outputs": [
    {
     "data": {
      "text/plain": [
       "{'whiskers': [<matplotlib.lines.Line2D at 0x7fba282a0dc0>,\n",
       "  <matplotlib.lines.Line2D at 0x7fba28230100>,\n",
       "  <matplotlib.lines.Line2D at 0x7fba28239220>,\n",
       "  <matplotlib.lines.Line2D at 0x7fba282394f0>,\n",
       "  <matplotlib.lines.Line2D at 0x7fba2824c0d0>,\n",
       "  <matplotlib.lines.Line2D at 0x7fba2824c3a0>,\n",
       "  <matplotlib.lines.Line2D at 0x7fba3007cee0>,\n",
       "  <matplotlib.lines.Line2D at 0x7fba3003f5b0>,\n",
       "  <matplotlib.lines.Line2D at 0x7fba301d2ca0>,\n",
       "  <matplotlib.lines.Line2D at 0x7fba30564c70>],\n",
       " 'caps': [<matplotlib.lines.Line2D at 0x7fba282303d0>,\n",
       "  <matplotlib.lines.Line2D at 0x7fba282306a0>,\n",
       "  <matplotlib.lines.Line2D at 0x7fba282ce7f0>,\n",
       "  <matplotlib.lines.Line2D at 0x7fba282dafa0>,\n",
       "  <matplotlib.lines.Line2D at 0x7fba2824c670>,\n",
       "  <matplotlib.lines.Line2D at 0x7fba2824c940>,\n",
       "  <matplotlib.lines.Line2D at 0x7fba3003f940>,\n",
       "  <matplotlib.lines.Line2D at 0x7fba3003f280>,\n",
       "  <matplotlib.lines.Line2D at 0x7fba3053b310>,\n",
       "  <matplotlib.lines.Line2D at 0x7fba30535b20>],\n",
       " 'boxes': [<matplotlib.lines.Line2D at 0x7fba282a0af0>,\n",
       "  <matplotlib.lines.Line2D at 0x7fba28230f10>,\n",
       "  <matplotlib.lines.Line2D at 0x7fba28239dc0>,\n",
       "  <matplotlib.lines.Line2D at 0x7fba2825a1f0>,\n",
       "  <matplotlib.lines.Line2D at 0x7fba30178d60>],\n",
       " 'medians': [<matplotlib.lines.Line2D at 0x7fba28230970>,\n",
       "  <matplotlib.lines.Line2D at 0x7fba28239820>,\n",
       "  <matplotlib.lines.Line2D at 0x7fba2824cc10>,\n",
       "  <matplotlib.lines.Line2D at 0x7fba30178ac0>,\n",
       "  <matplotlib.lines.Line2D at 0x7fba305418e0>],\n",
       " 'fliers': [<matplotlib.lines.Line2D at 0x7fba28230c40>,\n",
       "  <matplotlib.lines.Line2D at 0x7fba28239af0>,\n",
       "  <matplotlib.lines.Line2D at 0x7fba2824cee0>,\n",
       "  <matplotlib.lines.Line2D at 0x7fba30178b50>,\n",
       "  <matplotlib.lines.Line2D at 0x7fba305412b0>],\n",
       " 'means': []}"
      ]
     },
     "execution_count": 105,
     "metadata": {},
     "output_type": "execute_result"
    },
    {
     "data": {
      "image/png": "[encoded data removed]",
      "text/plain": [
       "<Figure size 1440x576 with 1 Axes>"
      ]
     },
     "metadata": {
      "needs_background": "light"
     },
     "output_type": "display_data"
    }
   ],
   "source": [
    "plt.figure(figsize=(20, 8))\n",
    "plt.boxplot((linear_fhat_temporal.reshape(40,5) -  fiveVTS_test))"
   ]
  },
  {
   "cell_type": "code",
   "execution_count": 106,
   "id": "1532496c-8bc0-4c75-9fb1-97167e1a5ef7",
   "metadata": {},
   "outputs": [
    {
     "data": {
      "text/plain": [
       "{'whiskers': [<matplotlib.lines.Line2D at 0x7fba306a1df0>,\n",
       "  <matplotlib.lines.Line2D at 0x7fba30184100>],\n",
       " 'caps': [<matplotlib.lines.Line2D at 0x7fba301843d0>,\n",
       "  <matplotlib.lines.Line2D at 0x7fba301846a0>],\n",
       " 'boxes': [<matplotlib.lines.Line2D at 0x7fba306a1af0>],\n",
       " 'medians': [<matplotlib.lines.Line2D at 0x7fba30184970>],\n",
       " 'fliers': [<matplotlib.lines.Line2D at 0x7fba30184c40>],\n",
       " 'means': []}"
      ]
     },
     "execution_count": 106,
     "metadata": {},
     "output_type": "execute_result"
    },
    {
     "data": {
      "image/png": "[encoded data removed]",
      "text/plain": [
       "<Figure size 1440x576 with 1 Axes>"
      ]
     },
     "metadata": {
      "needs_background": "light"
     },
     "output_type": "display_data"
    }
   ],
   "source": [
    "plt.figure(figsize=(20, 8))\n",
    "plt.boxplot(((linear_fhat_temporal.reshape(40,5) -  fiveVTS_test)).reshape(200,1))"
   ]
  },
  {
   "cell_type": "markdown",
   "id": "8a7d90af-5096-4f5f-8c21-61ed16b69ab6",
   "metadata": {},
   "source": [
    "## 3) Spatio $\\to$ ST-GCN"
   ]
  },
  {
   "cell_type": "code",
   "execution_count": 107,
   "id": "7eec7001-e625-4af1-8aff-03c9681b75c8",
   "metadata": {},
   "outputs": [],
   "source": [
    "w=np.zeros((N,N))"
   ]
  },
  {
   "cell_type": "code",
   "execution_count": 108,
   "id": "210b3d54-97c3-4729-ac40-837e35909672",
   "metadata": {},
   "outputs": [],
   "source": [
    "for i in range(N):\n",
    "    for j in range(N):\n",
    "        if i==j :\n",
    "            w[i,j] = 0\n",
    "        elif np.abs(i-j) <= 1 : \n",
    "            w[i,j] = 1"
   ]
  },
  {
   "cell_type": "code",
   "execution_count": 109,
   "id": "2d77146d-9521-45cd-9e6d-a4cf509d7417",
   "metadata": {},
   "outputs": [],
   "source": [
    "d = np.array(w.sum(axis=1))\n",
    "D = np.diag(d)\n",
    "L = np.array(np.diag(1/np.sqrt(d)) @ (D-w) @ np.diag(1/np.sqrt(d)))\n",
    "lamb, Psi = np.linalg.eigh(L)\n",
    "Lamb = np.diag(lamb)\n",
    "fhatbar = Psi @ linear_fhat_fiveVTS.reshape(N,159)\n",
    "power = fhatbar**2 \n",
    "ebayesthresh = importr('EbayesThresh').ebayesthresh\n",
    "power_threshed=np.array([np.array(ebayesthresh(FloatVector(fhatbar[i]**2))) for i in range(N)])\n",
    "fhatbar_threshed = np.where(power_threshed>0,fhatbar,0)\n",
    "fhatbarhat = Psi @ fhatbar_threshed\n",
    "fhatbarhat_linear_spatio = fhatbarhat.reshape(159,-1)"
   ]
  },
  {
   "cell_type": "markdown",
   "id": "802dbed8-8830-4495-979c-b72ad0154136",
   "metadata": {},
   "source": [
    "### ST-GCN만 한 상태에서 true값과 비교"
   ]
  },
  {
   "cell_type": "code",
   "execution_count": 110,
   "id": "b3d4af8d-2407-4367-8f96-037e3962117c",
   "metadata": {},
   "outputs": [],
   "source": [
    "linear_spatio = torch.tensor(fhatbarhat_linear_spatio).reshape(159,5,1).float()"
   ]
  },
  {
   "cell_type": "code",
   "execution_count": 111,
   "id": "45763524-ce32-4260-8c37-910b06a1dc8c",
   "metadata": {},
   "outputs": [],
   "source": [
    "linear_X_spatio = linear_spatio[:158,:,:]\n",
    "linear_y_spatio = linear_spatio[1:,:,:]"
   ]
  },
  {
   "cell_type": "code",
   "execution_count": 112,
   "id": "a469f13a-ca35-4328-9478-50d7cd4de5af",
   "metadata": {},
   "outputs": [
    {
     "name": "stderr",
     "output_type": "stream",
     "text": [
      "100%|██████████| 50/50 [00:27<00:00,  1.85it/s]\n"
     ]
    }
   ],
   "source": [
    "model = RecurrentGCN(node_features=1, filters=4)\n",
    "\n",
    "optimizer = torch.optim.Adam(model.parameters(), lr=0.01)\n",
    "\n",
    "model.train()\n",
    "\n",
    "for epoch in tqdm(range(50)):\n",
    "    for time, (xt,yt) in enumerate(zip(linear_X_spatio,linear_y_spatio)):\n",
    "        y_hat = model(xt, edge_index, edge_attr)\n",
    "        cost = torch.mean((y_hat-yt)**2)\n",
    "        cost.backward()\n",
    "        optimizer.step()\n",
    "        optimizer.zero_grad()"
   ]
  },
  {
   "cell_type": "code",
   "execution_count": 113,
   "id": "fee134f4-becf-4f72-b993-cc3962818fe1",
   "metadata": {},
   "outputs": [],
   "source": [
    "linear_X_spatio_fore = linear_spatio[119:,:,:]"
   ]
  },
  {
   "cell_type": "code",
   "execution_count": 114,
   "id": "9bbbe226-4393-49ea-b034-11d8481c6aba",
   "metadata": {},
   "outputs": [],
   "source": [
    "linear_fhat_spatio = torch.stack([model(xt, edge_index, edge_attr) for xt in linear_X_spatio_fore]).detach().numpy()"
   ]
  },
  {
   "cell_type": "code",
   "execution_count": 115,
   "id": "fd12a288-ef26-4fe7-914c-5cc8166e1fdd",
   "metadata": {},
   "outputs": [
    {
     "data": {
      "text/plain": [
       "array([ 0.36965964,  0.57035639, -2.31763076, -1.40237264,  0.00630998])"
      ]
     },
     "execution_count": 115,
     "metadata": {},
     "output_type": "execute_result"
    }
   ],
   "source": [
    "(linear_fhat_spatio.reshape(40,5)[1] -  fiveVTS_test[1])"
   ]
  },
  {
   "cell_type": "code",
   "execution_count": 116,
   "id": "06261e12-4c54-495e-98da-03cf25778570",
   "metadata": {},
   "outputs": [
    {
     "data": {
      "text/plain": [
       "{'whiskers': [<matplotlib.lines.Line2D at 0x7fba281aba60>,\n",
       "  <matplotlib.lines.Line2D at 0x7fba281abd30>,\n",
       "  <matplotlib.lines.Line2D at 0x7fba281bae50>,\n",
       "  <matplotlib.lines.Line2D at 0x7fba281c5160>,\n",
       "  <matplotlib.lines.Line2D at 0x7fba281cf280>,\n",
       "  <matplotlib.lines.Line2D at 0x7fba281cf550>,\n",
       "  <matplotlib.lines.Line2D at 0x7fba281e0670>,\n",
       "  <matplotlib.lines.Line2D at 0x7fba281e0940>,\n",
       "  <matplotlib.lines.Line2D at 0x7fba2816ba60>,\n",
       "  <matplotlib.lines.Line2D at 0x7fba2816bd30>],\n",
       " 'caps': [<matplotlib.lines.Line2D at 0x7fba281ba040>,\n",
       "  <matplotlib.lines.Line2D at 0x7fba281ba310>,\n",
       "  <matplotlib.lines.Line2D at 0x7fba281c5430>,\n",
       "  <matplotlib.lines.Line2D at 0x7fba281c5700>,\n",
       "  <matplotlib.lines.Line2D at 0x7fba281cf820>,\n",
       "  <matplotlib.lines.Line2D at 0x7fba281cfaf0>,\n",
       "  <matplotlib.lines.Line2D at 0x7fba281e0c10>,\n",
       "  <matplotlib.lines.Line2D at 0x7fba281e0ee0>,\n",
       "  <matplotlib.lines.Line2D at 0x7fba2817a040>,\n",
       "  <matplotlib.lines.Line2D at 0x7fba2817a310>],\n",
       " 'boxes': [<matplotlib.lines.Line2D at 0x7fba281ab880>,\n",
       "  <matplotlib.lines.Line2D at 0x7fba281bab80>,\n",
       "  <matplotlib.lines.Line2D at 0x7fba281c5f70>,\n",
       "  <matplotlib.lines.Line2D at 0x7fba281e03a0>,\n",
       "  <matplotlib.lines.Line2D at 0x7fba2816b790>],\n",
       " 'medians': [<matplotlib.lines.Line2D at 0x7fba281ba5e0>,\n",
       "  <matplotlib.lines.Line2D at 0x7fba281c59d0>,\n",
       "  <matplotlib.lines.Line2D at 0x7fba281cfdc0>,\n",
       "  <matplotlib.lines.Line2D at 0x7fba2816b1f0>,\n",
       "  <matplotlib.lines.Line2D at 0x7fba2817a5e0>],\n",
       " 'fliers': [<matplotlib.lines.Line2D at 0x7fba281ba8b0>,\n",
       "  <matplotlib.lines.Line2D at 0x7fba281c5ca0>,\n",
       "  <matplotlib.lines.Line2D at 0x7fba281e00d0>,\n",
       "  <matplotlib.lines.Line2D at 0x7fba2816b4c0>,\n",
       "  <matplotlib.lines.Line2D at 0x7fba2817a8b0>],\n",
       " 'means': []}"
      ]
     },
     "execution_count": 116,
     "metadata": {},
     "output_type": "execute_result"
    },
    {
     "data": {
      "image/png": "[encoded data removed]",
      "text/plain": [
       "<Figure size 1440x576 with 1 Axes>"
      ]
     },
     "metadata": {
      "needs_background": "light"
     },
     "output_type": "display_data"
    }
   ],
   "source": [
    "plt.figure(figsize=(20, 8))\n",
    "plt.boxplot((linear_fhat_spatio.reshape(40,5) -  fiveVTS_test))"
   ]
  },
  {
   "cell_type": "code",
   "execution_count": 117,
   "id": "718751fd-f2c7-4278-b6ef-627db0d59972",
   "metadata": {},
   "outputs": [
    {
     "data": {
      "text/plain": [
       "{'whiskers': [<matplotlib.lines.Line2D at 0x7fba281657c0>,\n",
       "  <matplotlib.lines.Line2D at 0x7fba28165a90>],\n",
       " 'caps': [<matplotlib.lines.Line2D at 0x7fba28165d60>,\n",
       "  <matplotlib.lines.Line2D at 0x7fba280f2070>],\n",
       " 'boxes': [<matplotlib.lines.Line2D at 0x7fba28158310>],\n",
       " 'medians': [<matplotlib.lines.Line2D at 0x7fba280f2340>],\n",
       " 'fliers': [<matplotlib.lines.Line2D at 0x7fba280f2610>],\n",
       " 'means': []}"
      ]
     },
     "execution_count": 117,
     "metadata": {},
     "output_type": "execute_result"
    },
    {
     "data": {
      "image/png": "[encoded data removed]",
      "text/plain": [
       "<Figure size 1440x576 with 1 Axes>"
      ]
     },
     "metadata": {
      "needs_background": "light"
     },
     "output_type": "display_data"
    }
   ],
   "source": [
    "plt.figure(figsize=(20, 8))\n",
    "plt.boxplot(((linear_fhat_spatio.reshape(40,5) -  fiveVTS_test)).reshape(200,1))"
   ]
  },
  {
   "cell_type": "markdown",
   "id": "438d9453-ac9a-4249-86c1-36d91895eb48",
   "metadata": {},
   "source": [
    "## 4) Spatio-Temporal $\\to$ ST-GCN"
   ]
  },
  {
   "cell_type": "code",
   "execution_count": 137,
   "id": "8e25c129-ec4f-4537-aa81-7f0f78b2bf88",
   "metadata": {},
   "outputs": [],
   "source": [
    "w=np.zeros((159*N,159*N))"
   ]
  },
  {
   "cell_type": "code",
   "execution_count": 138,
   "id": "16af4f5f-cd16-4e52-88bb-7faf4c745ba5",
   "metadata": {},
   "outputs": [],
   "source": [
    "for i in range(159*N):\n",
    "    for j in range(159*N):\n",
    "        if i==j :\n",
    "            w[i,j] = 0\n",
    "        elif np.abs(i-j) <= 1 : \n",
    "            w[i,j] = 1"
   ]
  },
  {
   "cell_type": "code",
   "execution_count": 139,
   "id": "5c067281-add9-4769-b0f3-6996c644759f",
   "metadata": {},
   "outputs": [],
   "source": [
    "d = np.array(w.sum(axis=1))\n",
    "D = np.diag(d)\n",
    "L = np.array(np.diag(1/np.sqrt(d)) @ (D-w) @ np.diag(1/np.sqrt(d)))\n",
    "lamb, Psi = np.linalg.eigh(L)\n",
    "Lamb = np.diag(lamb)\n",
    "fhatbar = Psi @ linear_fhat_fiveVTS.reshape(159*N,1)\n",
    "power = fhatbar**2 \n",
    "ebayesthresh = importr('EbayesThresh').ebayesthresh\n",
    "power_threshed=np.array([np.array(ebayesthresh(FloatVector(fhatbar[i]**2))) for i in range(159*N)])\n",
    "fhatbar_threshed = np.where(power_threshed>0,fhatbar,0)\n",
    "fhatbarhat = Psi @ fhatbar_threshed\n",
    "fhatbarhat_linear_spatio_temporal = fhatbarhat.reshape(159,N,1)"
   ]
  },
  {
   "cell_type": "markdown",
   "id": "7356fe4c-ea57-4b3b-9970-60610173462a",
   "metadata": {},
   "source": [
    "### ST-GCN만 한 상태에서 true값과 비교"
   ]
  },
  {
   "cell_type": "code",
   "execution_count": 179,
   "id": "d528470f-a44e-4587-9d4d-b0562d5c7e55",
   "metadata": {},
   "outputs": [],
   "source": [
    "linear_spatio_temporal = torch.tensor(fhatbarhat_linear_spatio_temporal).reshape(159,5,1).float()"
   ]
  },
  {
   "cell_type": "code",
   "execution_count": 180,
   "id": "9c7219be-cb2c-49fa-8abd-9b2bbd60900b",
   "metadata": {},
   "outputs": [],
   "source": [
    "linear_X_spatio_temporal = linear_spatio_temporal[:158,:,:]\n",
    "linear_y_spatio_temporal = linear_spatio_temporal[1:,:,:]"
   ]
  },
  {
   "cell_type": "code",
   "execution_count": 181,
   "id": "389b4f88-4036-472d-b2ca-09c3c9b3bf42",
   "metadata": {},
   "outputs": [
    {
     "name": "stderr",
     "output_type": "stream",
     "text": [
      "100%|██████████| 50/50 [00:27<00:00,  1.84it/s]\n"
     ]
    }
   ],
   "source": [
    "model = RecurrentGCN(node_features=1, filters=4)\n",
    "\n",
    "optimizer = torch.optim.Adam(model.parameters(), lr=0.01)\n",
    "\n",
    "model.train()\n",
    "\n",
    "for epoch in tqdm(range(50)):\n",
    "    for time, (xt,yt) in enumerate(zip(linear_X_spatio_temporal,linear_y_spatio_temporal)):\n",
    "        y_hat = model(xt, edge_index, edge_attr)\n",
    "        cost = torch.mean((y_hat-yt)**2)\n",
    "        cost.backward()\n",
    "        optimizer.step()\n",
    "        optimizer.zero_grad()"
   ]
  },
  {
   "cell_type": "code",
   "execution_count": 182,
   "id": "1bfc7c92-3dca-452a-8112-9b28372493ec",
   "metadata": {},
   "outputs": [],
   "source": [
    "linear_X_spatio_temporal_fore = linear_spatio_temporal[119:,:,:]"
   ]
  },
  {
   "cell_type": "code",
   "execution_count": 183,
   "id": "72f6192d-4161-45f4-b8a0-f796e0d1a8fc",
   "metadata": {},
   "outputs": [],
   "source": [
    "linear_fhat_spatio_temporal = torch.stack([model(xt, edge_index, edge_attr) for xt in linear_X_spatio_temporal_fore]).detach().numpy()"
   ]
  },
  {
   "cell_type": "code",
   "execution_count": 187,
   "id": "fcb55bb9-9e81-4bfb-8b1c-29ebf5662db2",
   "metadata": {},
   "outputs": [
    {
     "data": {
      "text/plain": [
       "(40, 5)"
      ]
     },
     "execution_count": 187,
     "metadata": {},
     "output_type": "execute_result"
    }
   ],
   "source": [
    "fiveVTS_test.shape"
   ]
  },
  {
   "cell_type": "code",
   "execution_count": 147,
   "id": "c0951fd1-98db-4e7d-afef-7df7d1588c1b",
   "metadata": {},
   "outputs": [
    {
     "data": {
      "text/plain": [
       "array([ 0.70990738,  0.93671374, -1.24731856, -0.99082219,  0.35342387])"
      ]
     },
     "execution_count": 147,
     "metadata": {},
     "output_type": "execute_result"
    }
   ],
   "source": [
    "(linear_fhat_spatio_temporal.reshape(40,5)[1] -  fiveVTS_test[1])"
   ]
  },
  {
   "cell_type": "code",
   "execution_count": 151,
   "id": "30185cff-24a7-4088-868c-7601a13d4235",
   "metadata": {},
   "outputs": [
    {
     "data": {
      "text/plain": [
       "{'whiskers': [<matplotlib.lines.Line2D at 0x7fba13089a30>,\n",
       "  <matplotlib.lines.Line2D at 0x7fba13089d00>,\n",
       "  <matplotlib.lines.Line2D at 0x7fba1309be50>,\n",
       "  <matplotlib.lines.Line2D at 0x7fba13029160>,\n",
       "  <matplotlib.lines.Line2D at 0x7fba13034280>,\n",
       "  <matplotlib.lines.Line2D at 0x7fba13034550>,\n",
       "  <matplotlib.lines.Line2D at 0x7fba13043670>,\n",
       "  <matplotlib.lines.Line2D at 0x7fba13043940>,\n",
       "  <matplotlib.lines.Line2D at 0x7fba1304fa60>,\n",
       "  <matplotlib.lines.Line2D at 0x7fba1304fd30>],\n",
       " 'caps': [<matplotlib.lines.Line2D at 0x7fba1309b040>,\n",
       "  <matplotlib.lines.Line2D at 0x7fba1309b310>,\n",
       "  <matplotlib.lines.Line2D at 0x7fba13029430>,\n",
       "  <matplotlib.lines.Line2D at 0x7fba13029700>,\n",
       "  <matplotlib.lines.Line2D at 0x7fba13034820>,\n",
       "  <matplotlib.lines.Line2D at 0x7fba13034af0>,\n",
       "  <matplotlib.lines.Line2D at 0x7fba13043c10>,\n",
       "  <matplotlib.lines.Line2D at 0x7fba13043ee0>,\n",
       "  <matplotlib.lines.Line2D at 0x7fba1305e040>,\n",
       "  <matplotlib.lines.Line2D at 0x7fba1305e310>],\n",
       " 'boxes': [<matplotlib.lines.Line2D at 0x7fba13089760>,\n",
       "  <matplotlib.lines.Line2D at 0x7fba1309bb80>,\n",
       "  <matplotlib.lines.Line2D at 0x7fba13029f70>,\n",
       "  <matplotlib.lines.Line2D at 0x7fba130433a0>,\n",
       "  <matplotlib.lines.Line2D at 0x7fba1304f790>],\n",
       " 'medians': [<matplotlib.lines.Line2D at 0x7fba1309b5e0>,\n",
       "  <matplotlib.lines.Line2D at 0x7fba130299d0>,\n",
       "  <matplotlib.lines.Line2D at 0x7fba13034dc0>,\n",
       "  <matplotlib.lines.Line2D at 0x7fba1304f1f0>,\n",
       "  <matplotlib.lines.Line2D at 0x7fba1305e5e0>],\n",
       " 'fliers': [<matplotlib.lines.Line2D at 0x7fba1309b8b0>,\n",
       "  <matplotlib.lines.Line2D at 0x7fba13029ca0>,\n",
       "  <matplotlib.lines.Line2D at 0x7fba130430d0>,\n",
       "  <matplotlib.lines.Line2D at 0x7fba1304f4c0>,\n",
       "  <matplotlib.lines.Line2D at 0x7fba1305e8b0>],\n",
       " 'means': []}"
      ]
     },
     "execution_count": 151,
     "metadata": {},
     "output_type": "execute_result"
    },
    {
     "data": {
      "image/png": "[encoded data removed]",
      "text/plain": [
       "<Figure size 1440x576 with 1 Axes>"
      ]
     },
     "metadata": {
      "needs_background": "light"
     },
     "output_type": "display_data"
    }
   ],
   "source": [
    "plt.figure(figsize=(20, 8))\n",
    "plt.boxplot((linear_fhat_spatio_temporal.reshape(40,5) -  fiveVTS_test))"
   ]
  },
  {
   "cell_type": "code",
   "execution_count": 150,
   "id": "91932437-5718-4271-9ffb-6ba8b6f636e1",
   "metadata": {},
   "outputs": [
    {
     "data": {
      "text/plain": [
       "{'whiskers': [<matplotlib.lines.Line2D at 0x7fba130ab7c0>,\n",
       "  <matplotlib.lines.Line2D at 0x7fba130aba90>],\n",
       " 'caps': [<matplotlib.lines.Line2D at 0x7fba130abd60>,\n",
       "  <matplotlib.lines.Line2D at 0x7fba130b8070>],\n",
       " 'boxes': [<matplotlib.lines.Line2D at 0x7fba130ab610>],\n",
       " 'medians': [<matplotlib.lines.Line2D at 0x7fba130b8340>],\n",
       " 'fliers': [<matplotlib.lines.Line2D at 0x7fba130b8610>],\n",
       " 'means': []}"
      ]
     },
     "execution_count": 150,
     "metadata": {},
     "output_type": "execute_result"
    },
    {
     "data": {
      "image/png": "[encoded data removed]",
      "text/plain": [
       "<Figure size 1440x576 with 1 Axes>"
      ]
     },
     "metadata": {
      "needs_background": "light"
     },
     "output_type": "display_data"
    }
   ],
   "source": [
    "plt.figure(figsize=(20, 8))\n",
    "plt.boxplot(((linear_fhat_spatio_temporal.reshape(40,5) -  fiveVTS_test)).reshape(200,1))"
   ]
  },
  {
   "cell_type": "markdown",
   "id": "fbea8944-5a16-4813-93db-e350af5259d9",
   "metadata": {},
   "source": [
    "## GNAR"
   ]
  },
  {
   "cell_type": "markdown",
   "id": "4b88e20e-ff5a-4b2e-9d2f-11f565207915",
   "metadata": {},
   "source": [
    "**mean**"
   ]
  },
  {
   "cell_type": "code",
   "execution_count": 129,
   "id": "6a09b933-645f-43bf-a805-61812ab270a1",
   "metadata": {},
   "outputs": [],
   "source": [
    "%R -i fiveVTS_train_mean"
   ]
  },
  {
   "cell_type": "code",
   "execution_count": 130,
   "id": "d785c94a-c96c-4d2a-ba1f-629158d32a7d",
   "metadata": {},
   "outputs": [],
   "source": [
    "%%R\n",
    "meanprediction <- predict(GNARfit(vts = fiveVTS_train_mean[1:160,], net = fiveNet, alphaOrder = 2, betaOrder = c(1, 1)),n.ahead=40)"
   ]
  },
  {
   "cell_type": "code",
   "execution_count": 131,
   "id": "3ebf4f8b-ef30-47dd-bc4e-ebdd4284b4a8",
   "metadata": {},
   "outputs": [],
   "source": [
    "%R -o meanprediction"
   ]
  },
  {
   "cell_type": "code",
   "execution_count": 132,
   "id": "d0e7e7d8-705a-4069-8322-e4644e5ad2ef",
   "metadata": {},
   "outputs": [
    {
     "data": {
      "text/plain": [
       "3.8828590908470577"
      ]
     },
     "execution_count": 132,
     "metadata": {},
     "output_type": "execute_result"
    }
   ],
   "source": [
    "sum((meanprediction.reshape(40,5)[1] -  fiveVTS_test[1])**2)"
   ]
  },
  {
   "cell_type": "code",
   "execution_count": 152,
   "id": "878f490f-f4fd-4fd0-8ad4-ad89fb4b9ba3",
   "metadata": {},
   "outputs": [
    {
     "data": {
      "text/plain": [
       "{'whiskers': [<matplotlib.lines.Line2D at 0x7fba1030bee0>,\n",
       "  <matplotlib.lines.Line2D at 0x7fba1031f1f0>,\n",
       "  <matplotlib.lines.Line2D at 0x7fba10329310>,\n",
       "  <matplotlib.lines.Line2D at 0x7fba103295e0>,\n",
       "  <matplotlib.lines.Line2D at 0x7fba102b9700>,\n",
       "  <matplotlib.lines.Line2D at 0x7fba102b99d0>,\n",
       "  <matplotlib.lines.Line2D at 0x7fba102c6af0>,\n",
       "  <matplotlib.lines.Line2D at 0x7fba102c6dc0>,\n",
       "  <matplotlib.lines.Line2D at 0x7fba102d5ee0>,\n",
       "  <matplotlib.lines.Line2D at 0x7fba102e21f0>],\n",
       " 'caps': [<matplotlib.lines.Line2D at 0x7fba1031f4c0>,\n",
       "  <matplotlib.lines.Line2D at 0x7fba1031f790>,\n",
       "  <matplotlib.lines.Line2D at 0x7fba103298b0>,\n",
       "  <matplotlib.lines.Line2D at 0x7fba10329b80>,\n",
       "  <matplotlib.lines.Line2D at 0x7fba102b9ca0>,\n",
       "  <matplotlib.lines.Line2D at 0x7fba102b9f70>,\n",
       "  <matplotlib.lines.Line2D at 0x7fba102d50d0>,\n",
       "  <matplotlib.lines.Line2D at 0x7fba102d53a0>,\n",
       "  <matplotlib.lines.Line2D at 0x7fba102e24c0>,\n",
       "  <matplotlib.lines.Line2D at 0x7fba102e2790>],\n",
       " 'boxes': [<matplotlib.lines.Line2D at 0x7fba1030bd30>,\n",
       "  <matplotlib.lines.Line2D at 0x7fba10329040>,\n",
       "  <matplotlib.lines.Line2D at 0x7fba102b9430>,\n",
       "  <matplotlib.lines.Line2D at 0x7fba102c6820>,\n",
       "  <matplotlib.lines.Line2D at 0x7fba102d5c10>],\n",
       " 'medians': [<matplotlib.lines.Line2D at 0x7fba1031fa60>,\n",
       "  <matplotlib.lines.Line2D at 0x7fba10329e50>,\n",
       "  <matplotlib.lines.Line2D at 0x7fba102c6280>,\n",
       "  <matplotlib.lines.Line2D at 0x7fba102d5670>,\n",
       "  <matplotlib.lines.Line2D at 0x7fba102e2a60>],\n",
       " 'fliers': [<matplotlib.lines.Line2D at 0x7fba1031fd30>,\n",
       "  <matplotlib.lines.Line2D at 0x7fba102b9160>,\n",
       "  <matplotlib.lines.Line2D at 0x7fba102c6550>,\n",
       "  <matplotlib.lines.Line2D at 0x7fba102d5940>,\n",
       "  <matplotlib.lines.Line2D at 0x7fba102e2d30>],\n",
       " 'means': []}"
      ]
     },
     "execution_count": 152,
     "metadata": {},
     "output_type": "execute_result"
    },
    {
     "data": {
      "image/png": "[encoded data removed]",
      "text/plain": [
       "<Figure size 1440x576 with 1 Axes>"
      ]
     },
     "metadata": {
      "needs_background": "light"
     },
     "output_type": "display_data"
    }
   ],
   "source": [
    "plt.figure(figsize=(20, 8))\n",
    "plt.boxplot((meanprediction.reshape(40,5) -  fiveVTS_test))"
   ]
  },
  {
   "cell_type": "code",
   "execution_count": 153,
   "id": "3a65a749-f9d1-4e06-80fe-2edc74706aee",
   "metadata": {},
   "outputs": [
    {
     "data": {
      "text/plain": [
       "{'whiskers': [<matplotlib.lines.Line2D at 0x7fba102544c0>,\n",
       "  <matplotlib.lines.Line2D at 0x7fba102547c0>],\n",
       " 'caps': [<matplotlib.lines.Line2D at 0x7fba10254a90>,\n",
       "  <matplotlib.lines.Line2D at 0x7fba10254d60>],\n",
       " 'boxes': [<matplotlib.lines.Line2D at 0x7fba10245040>],\n",
       " 'medians': [<matplotlib.lines.Line2D at 0x7fba10260070>],\n",
       " 'fliers': [<matplotlib.lines.Line2D at 0x7fba10260340>],\n",
       " 'means': []}"
      ]
     },
     "execution_count": 153,
     "metadata": {},
     "output_type": "execute_result"
    },
    {
     "data": {
      "image/png": "[encoded data removed]",
      "text/plain": [
       "<Figure size 1440x576 with 1 Axes>"
      ]
     },
     "metadata": {
      "needs_background": "light"
     },
     "output_type": "display_data"
    }
   ],
   "source": [
    "plt.figure(figsize=(20, 8))\n",
    "plt.boxplot(((meanprediction.reshape(40,5) -  fiveVTS_test)).reshape(200,1))"
   ]
  },
  {
   "cell_type": "code",
   "execution_count": null,
   "id": "6659807e-f529-429f-b7a4-afbcc637d7ed",
   "metadata": {},
   "outputs": [],
   "source": []
  }
 ],
 "metadata": {
  "kernelspec": {
   "display_name": "Python 3 (ipykernel)",
   "language": "python",
   "name": "python3"
  },
  "language_info": {
   "codemirror_mode": {
    "name": "ipython",
    "version": 3
   },
   "file_extension": ".py",
   "mimetype": "text/x-python",
   "name": "python",
   "nbconvert_exporter": "python",
   "pygments_lexer": "ipython3",
   "version": "3.8.12"
  }
 },
 "nbformat": 4,
 "nbformat_minor": 5
}

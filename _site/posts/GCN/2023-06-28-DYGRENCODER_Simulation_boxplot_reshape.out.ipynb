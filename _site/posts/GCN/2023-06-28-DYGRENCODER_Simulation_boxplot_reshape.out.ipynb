{
  "cells": [
    {
      "cell_type": "markdown",
      "metadata": {},
      "source": [
        "# DYGRENCODER_Simulation_reshape\n",
        "\n",
        "SEOYEON CHOI  \n",
        "2023-06-28\n",
        "\n",
        "> Simulation Study\n",
        "\n",
        "# Import"
      ],
      "id": "f90010c1-07b3-4422-a7f0-c79a2aa556a5"
    },
    {
      "cell_type": "code",
      "execution_count": 2,
      "metadata": {},
      "outputs": [],
      "source": [
        "import matplotlib.pyplot as plt\n",
        "import pandas as pd\n",
        "import numpy as np"
      ],
      "id": "97cfaa6d-11ad-460b-874c-01c8e2c14e70"
    },
    {
      "cell_type": "markdown",
      "metadata": {},
      "source": [
        "# Fivenodes"
      ],
      "id": "97d1efff-0b3b-4dab-870f-d255d7e3967e"
    },
    {
      "cell_type": "code",
      "execution_count": 3,
      "metadata": {},
      "outputs": [],
      "source": [
        "df1 = pd.read_csv('./simulation_results/2023-06-29_18-32-37.csv')\n",
        "df2 = pd.read_csv('./simulation_results/2023-06-29_19-03-08.csv')\n",
        "df3 = pd.read_csv('./simulation_results/2023-06-29_19-30-06.csv')\n",
        "df4 = pd.read_csv('./simulation_results/2023-06-29_19-56-06.csv')\n",
        "df5 = pd.read_csv('./simulation_results/2023-06-29_20-24-32.csv')\n",
        "df6 = pd.read_csv('./simulation_results/2023-06-29_20-51-36.csv')\n",
        "df7 = pd.read_csv('./simulation_results/2023-06-29_21-23-07.csv')\n",
        "df8 = pd.read_csv('./simulation_results/2023-06-29_21-51-08.csv')"
      ],
      "id": "58a7de0e-0147-4be6-ae52-f391e068d404"
    },
    {
      "cell_type": "code",
      "execution_count": 3,
      "metadata": {},
      "outputs": [],
      "source": [
        "df9 = pd.read_csv('./simulation_results/2023-07-19_11-51-08.csv')\n",
        "df10 = pd.read_csv('./simulation_results/2023-07-19_12-40-54.csv')\n",
        "df11 = pd.read_csv('./simulation_results/2023-07-19_13-33-52.csv')\n",
        "df12 = pd.read_csv('./simulation_results/2023-07-19_14-21-16.csv')\n",
        "df13 = pd.read_csv('./simulation_results/2023-07-19_15-14-51.csv')\n",
        "df14 = pd.read_csv('./simulation_results/2023-07-19_16-04-07.csv')"
      ],
      "id": "facee974-3dde-4c4c-b9cb-1226cc83c5fb"
    },
    {
      "cell_type": "code",
      "execution_count": 4,
      "metadata": {},
      "outputs": [],
      "source": [
        "data = pd.concat([df1,df2,df3,df4,df5,df6,df7,df8,df9,df10,df11,df12,df13,df14],axis=0)"
      ],
      "id": "243c8ac3-63ef-463b-920c-732bcea5b27d"
    },
    {
      "cell_type": "code",
      "execution_count": 5,
      "metadata": {},
      "outputs": [],
      "source": [
        "data.to_csv('./simulation_results/Real_simulation_reshape/DYGRENCODER_fivedones_Simulation.csv',index=False)"
      ],
      "id": "6531c324-827c-4f7f-aef7-90da0b1f2c23"
    },
    {
      "cell_type": "code",
      "execution_count": 6,
      "metadata": {},
      "outputs": [],
      "source": [
        "data = pd.read_csv('./simulation_results/Real_simulation_reshape/DYGRENCODER_fivedones_Simulation.csv')"
      ],
      "id": "2029a91d-4dc4-4eb2-8f9d-63d4727f4c94"
    },
    {
      "cell_type": "markdown",
      "metadata": {},
      "source": [
        "## Baseline"
      ],
      "id": "d32088f2-fe90-4da4-888a-a17898eec71a"
    },
    {
      "cell_type": "code",
      "execution_count": 7,
      "metadata": {
        "tags": []
      },
      "outputs": [],
      "source": [
        "data.query(\"method!='GNAR' and mrate==0\").plot.box(backend='plotly',x='mrate',color='method',y='mse',facet_col='lags',facet_row='nof_filters',height=600)\n"
      ],
      "id": "14023051-c860-4a46-9df4-5408996cdce4"
    },
    {
      "cell_type": "markdown",
      "metadata": {},
      "source": [
        "## Random"
      ],
      "id": "c8d1c453-476d-4d10-b2f7-8014c470f836"
    },
    {
      "cell_type": "code",
      "execution_count": 8,
      "metadata": {},
      "outputs": [],
      "source": [
        "data.query(\"method!='GNAR' and mtype =='rand'\").plot.box(backend='plotly',x='mrate',color='method',y='mse',facet_col='inter_method',facet_row='nof_filters',height=600)\n",
        "\n"
      ],
      "id": "8571d995-8823-48ef-8324-d8acc3ee8f62"
    },
    {
      "cell_type": "markdown",
      "metadata": {},
      "source": [
        "## Block"
      ],
      "id": "cc1a5c03-2b65-4f49-9033-077175e84e17"
    },
    {
      "cell_type": "code",
      "execution_count": 9,
      "metadata": {},
      "outputs": [],
      "source": [
        "data.query(\"method!='GNAR' and mtype =='block' \").plot.box(backend='plotly',x='mrate',color='method',y='mse',facet_col='inter_method',facet_row='nof_filters',height=600)\n"
      ],
      "id": "d92ed59b-42da-442b-a3e7-42a1e6e89aea"
    },
    {
      "cell_type": "markdown",
      "metadata": {},
      "source": [
        "# chickenpox"
      ],
      "id": "11449b87-ad55-4678-b0e0-fcd1584254e3"
    },
    {
      "cell_type": "code",
      "execution_count": 28,
      "metadata": {},
      "outputs": [],
      "source": [
        "df1 = pd.read_csv('./simulation_results/2023-06-29_22-35-38.csv') # GNAR random\n",
        "df2 = pd.read_csv('./simulation_results/2023-06-29_23-18-24.csv') # GNAR block\n",
        "df3 = pd.read_csv('./simulation_results/2023-06-30_01-07-15.csv')\n",
        "df4 = pd.read_csv('./simulation_results/2023-06-30_02-53-54.csv') \n",
        "df5 = pd.read_csv('./simulation_results/2023-06-30_20-40-01.csv')\n",
        "df6 = pd.read_csv('./simulation_results/2023-06-30_22-28-57.csv') "
      ],
      "id": "3e66680d-3b56-4295-b4da-c8988c6ceb77"
    },
    {
      "cell_type": "code",
      "execution_count": 29,
      "metadata": {},
      "outputs": [],
      "source": [
        "df7 = pd.read_csv('./simulation_results/2023-07-19_17-15-37.csv') # GNAR random\n",
        "df8 = pd.read_csv('./simulation_results/2023-07-19_18-36-12.csv') # GNAR block\n",
        "df9 = pd.read_csv('./simulation_results/2023-07-19_19-50-51.csv')\n",
        "df10 = pd.read_csv('./simulation_results/2023-07-19_21-33-18.csv') "
      ],
      "id": "a7b031fe-7ad5-4ecd-bcd4-4e2267c92054"
    },
    {
      "cell_type": "code",
      "execution_count": 30,
      "metadata": {},
      "outputs": [],
      "source": [
        "data = pd.concat([df1,df2,df3,df4,df5,df6,df7,df8,df9,df10],axis=0)"
      ],
      "id": "3a15858e-07b2-460c-86c6-49ee4deeb10d"
    },
    {
      "cell_type": "code",
      "execution_count": 31,
      "metadata": {},
      "outputs": [],
      "source": [
        "data.to_csv('./simulation_results/Real_simulation_reshape/DYGRENCODER_chikenpox_Simulation.csv',index=False)"
      ],
      "id": "158398fa-ae55-4525-8535-eb323b1c4b6b"
    },
    {
      "cell_type": "code",
      "execution_count": 32,
      "metadata": {},
      "outputs": [],
      "source": [
        "data = pd.read_csv('./simulation_results/Real_simulation_reshape/DYGRENCODER_chikenpox_Simulation.csv')"
      ],
      "id": "dc861068-2821-4447-a4b7-3cb5b4a0ed8c"
    },
    {
      "cell_type": "markdown",
      "metadata": {},
      "source": [
        "## Baseline"
      ],
      "id": "1d07e70f-2678-4d6d-960a-3e0c97ae5e63"
    },
    {
      "cell_type": "code",
      "execution_count": 33,
      "metadata": {},
      "outputs": [],
      "source": [
        "data.query(\"method!='GNAR' and mrate ==0 \").plot.box(backend='plotly',x='mrate',color='method',y='mse',facet_col='nof_filters',height=600)\n"
      ],
      "id": "3eff320e-bd1b-402d-9a5e-14f78826f5e5"
    },
    {
      "cell_type": "markdown",
      "metadata": {},
      "source": [
        "## Random"
      ],
      "id": "d681a568-f8c6-43d4-8b03-6514eaf27283"
    },
    {
      "cell_type": "code",
      "execution_count": 34,
      "metadata": {},
      "outputs": [],
      "source": [
        "data.query(\"method!='GNAR' and mtype =='rand'\").plot.box(backend='plotly',x='mrate',color='method',y='mse',facet_col='nof_filters',facet_row='inter_method',height=800)\n"
      ],
      "id": "bd4b2c53-f49c-43b0-9f30-840ff46d3db2"
    },
    {
      "cell_type": "markdown",
      "metadata": {},
      "source": [
        "## Block"
      ],
      "id": "a5b738c7-d28d-49d6-8eb6-6f54a311d98a"
    },
    {
      "cell_type": "code",
      "execution_count": 35,
      "metadata": {},
      "outputs": [],
      "source": [
        "data.query(\"method!='GNAR' and mtype =='block'\").plot.box(backend='plotly',x='mrate',color='method',y='mse',facet_col='inter_method',facet_row='lags',height=800)\n"
      ],
      "id": "9b5ad264-8a84-46ae-a866-33587dc9e160"
    },
    {
      "cell_type": "markdown",
      "metadata": {},
      "source": [
        "# Pedalme"
      ],
      "id": "dac84234-be14-44d6-84cc-cf474dafddb1"
    },
    {
      "cell_type": "code",
      "execution_count": 36,
      "metadata": {},
      "outputs": [],
      "source": [
        "df1 = pd.read_csv('./simulation_results/2023-06-30_03-34-45.csv') \n",
        "df2 = pd.read_csv('./simulation_results/2023-06-30_03-48-08.csv')  "
      ],
      "id": "d4636a02-2db0-4676-a73b-9c7566c258f4"
    },
    {
      "cell_type": "code",
      "execution_count": 37,
      "metadata": {},
      "outputs": [],
      "source": [
        "df3 = pd.read_csv('./simulation_results/2023-07-19_22-14-42.csv') "
      ],
      "id": "2d6c719b-9f37-4720-8642-2b24fa31c79f"
    },
    {
      "cell_type": "code",
      "execution_count": 38,
      "metadata": {},
      "outputs": [],
      "source": [
        "data = pd.concat([df1,df2,df3],axis=0)"
      ],
      "id": "d22955cb-e046-49c8-890a-52ffe13e237d"
    },
    {
      "cell_type": "code",
      "execution_count": 39,
      "metadata": {},
      "outputs": [],
      "source": [
        "data.to_csv('./simulation_results/Real_simulation_reshape/DYGRENCODER_pedalme_Simulation.csv',index=False)"
      ],
      "id": "ee3ef5e8-7298-49dd-b21f-9644c30b5f77"
    },
    {
      "cell_type": "code",
      "execution_count": 40,
      "metadata": {},
      "outputs": [],
      "source": [
        "data = pd.read_csv('./simulation_results/Real_simulation_reshape/DYGRENCODER_pedalme_Simulation.csv')"
      ],
      "id": "446c16b2-85d5-4f90-b214-fe80c77bd0c9"
    },
    {
      "cell_type": "markdown",
      "metadata": {},
      "source": [
        "## Baseline"
      ],
      "id": "46c8d142-a091-4102-9372-cd274608ff3a"
    },
    {
      "cell_type": "code",
      "execution_count": 41,
      "metadata": {},
      "outputs": [],
      "source": [
        "data.query(\"mrate ==0 and lags!=2\").plot.box(backend='plotly',x='epoch',color='method',y='mse',facet_col='nof_filters',facet_row='lags',height=400)\n"
      ],
      "id": "cd49941e-507b-496f-a9bc-9bb3936acc5e"
    },
    {
      "cell_type": "markdown",
      "metadata": {},
      "source": [
        "## random"
      ],
      "id": "f00c3559-2f91-4d4f-a2d2-57840bac5cb9"
    },
    {
      "cell_type": "code",
      "execution_count": 42,
      "metadata": {},
      "outputs": [],
      "source": [
        "data.query(\"method!='GNAR' and mtype =='rand' and lags!=2\").plot.box(backend='plotly',x='mrate',color='method',y='mse',facet_col='nof_filters',facet_row='inter_method',height=800)\n"
      ],
      "id": "5375fbb0-00f5-4073-94a0-025f757cf4e8"
    },
    {
      "cell_type": "markdown",
      "metadata": {},
      "source": [
        "## block"
      ],
      "id": "c350beec-5dbd-430c-82c8-90a8de30635e"
    },
    {
      "cell_type": "code",
      "execution_count": 43,
      "metadata": {},
      "outputs": [],
      "source": [
        "data.query(\"method!='GNAR' and mtype =='block' and lags!=2 \").plot.box(backend='plotly',x='mrate',color='method',y='mse',facet_col='nof_filters',facet_row='inter_method',height=800)\n"
      ],
      "id": "3a2b2904-0190-445f-b5e9-31f1306fb765"
    },
    {
      "cell_type": "markdown",
      "metadata": {},
      "source": [
        "## weight matrix time, node 고려한 결과"
      ],
      "id": "abcc0122-1ca3-47f3-9515-be2c61f65d7c"
    },
    {
      "cell_type": "code",
      "execution_count": 70,
      "metadata": {},
      "outputs": [],
      "source": [
        "df1 = pd.read_csv('./simulation_results/2023-06-30_13-25-56.csv')\n",
        "df2 = pd.read_csv('./simulation_results/2023-06-30_14-00-19.csv')"
      ],
      "id": "720eef33-a93e-4018-9f30-867b9446b918"
    },
    {
      "cell_type": "code",
      "execution_count": 71,
      "metadata": {},
      "outputs": [],
      "source": [
        "data2 = pd.concat([df1,df2],axis=0)"
      ],
      "id": "970e0d05-641f-4e2b-83f8-7995279164c6"
    },
    {
      "cell_type": "code",
      "execution_count": 72,
      "metadata": {},
      "outputs": [],
      "source": [
        "data2.to_csv('./simulation_results/Real_simulation_reshape/DYGRENCODER_pedalme_Simulation_itstgcnsnd.csv',index=False)"
      ],
      "id": "e4343248-a16d-47a3-9886-4ccb53c7aa45"
    },
    {
      "cell_type": "code",
      "execution_count": 73,
      "metadata": {},
      "outputs": [],
      "source": [
        "data2 = pd.read_csv('./simulation_results/Real_simulation_reshape/DYGRENCODER_pedalme_Simulation_itstgcnsnd.csv')"
      ],
      "id": "68c1f3d7-7e0f-4a6d-82d7-ba671275701a"
    },
    {
      "cell_type": "code",
      "execution_count": 74,
      "metadata": {},
      "outputs": [],
      "source": [
        "data2.query(\"mtype=='rand'\").plot.box(backend='plotly',x='mrate',color='method',y='mse',facet_col='inter_method',facet_row='nof_filters',height=1000)"
      ],
      "id": "908c378b-03a2-4bab-95ad-152d13daea50"
    },
    {
      "cell_type": "code",
      "execution_count": 75,
      "metadata": {},
      "outputs": [],
      "source": [
        "data2.query(\"mtype=='block'\").plot.box(backend='plotly',x='mrate',color='method',y='mse',facet_col='inter_method',facet_row='nof_filters',height=1000)"
      ],
      "id": "8a7f8af4-b4e1-4d20-8d06-3f6df5850440"
    },
    {
      "cell_type": "markdown",
      "metadata": {},
      "source": [
        "# Wikimath"
      ],
      "id": "a072028d-3fac-47ba-9d4a-253e896f84bd"
    },
    {
      "cell_type": "code",
      "execution_count": 98,
      "metadata": {},
      "outputs": [],
      "source": [
        "df1 = pd.read_csv('./simulation_results/2023-06-30_02-53-36.csv')\n",
        "df2 = pd.read_csv('./simulation_results/2023-06-30_06-31-21.csv')\n",
        "df3 = pd.read_csv('./simulation_results/2023-06-30_10-03-24.csv')\n",
        "df4 = pd.read_csv('./simulation_results/2023-06-30_15-50-56.csv')\n",
        "df5 = pd.read_csv('./simulation_results/2023-06-30_21-17-48.csv')\n",
        "df6 = pd.read_csv('./simulation_results/2023-07-01_00-13-15.csv')\n",
        "df7 = pd.read_csv('./simulation_results/2023-07-01_03-01-56.csv')\n",
        "df8 = pd.read_csv('./simulation_results/2023-07-01_05-42-24.csv')\n",
        "df9 = pd.read_csv('./simulation_results/2023-07-01_08-30-04.csv') # block\n",
        "df10 = pd.read_csv('./simulation_results/2023-07-01_11-32-33.csv') # block\n",
        "df11 = pd.read_csv('./simulation_results/2023-07-01_14-38-22.csv') # block"
      ],
      "id": "72dcb6b8-b2df-41e4-8ebd-5eb2a02c97af"
    },
    {
      "cell_type": "code",
      "execution_count": 99,
      "metadata": {},
      "outputs": [],
      "source": [
        "df12 = pd.read_csv('./simulation_results/2023-08-06_04-42-31.csv')\n",
        "df13 = pd.read_csv('./simulation_results/2023-08-06_09-09-26.csv')\n",
        "df14 = pd.read_csv('./simulation_results/2023-08-06_12-31-54.csv')\n",
        "df15 = pd.read_csv('./simulation_results/2023-08-06_14-41-11.csv')\n",
        "df16 = pd.read_csv('./simulation_results/2023-08-06_17-12-58.csv')\n",
        "df17 = pd.read_csv('./simulation_results/2023-08-06_20-50-45.csv')\n",
        "df18 = pd.read_csv('./simulation_results/2023-08-07_00-36-51.csv')\n",
        "df19 = pd.read_csv('./simulation_results/2023-08-07_04-21-24.csv')\n",
        "df20 = pd.read_csv('./simulation_results/2023-08-07_06-15-25.csv') # block\n",
        "df21 = pd.read_csv('./simulation_results/2023-08-07_08-07-18.csv') # block\n",
        "df22 = pd.read_csv('./simulation_results/2023-08-07_10-21-36.csv') # block\n",
        "df23 = pd.read_csv('./simulation_results/2023-08-07_14-07-17.csv') # block"
      ],
      "id": "956e307c-a507-42bf-84d3-eb9ca0a10447"
    },
    {
      "cell_type": "code",
      "execution_count": 100,
      "metadata": {},
      "outputs": [],
      "source": [
        "data = pd.concat([df1,df2,df3,df4,df5,df6,df7,df8,df9,df10,df11,df12,df13,df14,df15,df16,df17,df18,df19,df20,df21,df22,df23],axis=0)"
      ],
      "id": "2bdf1359-250a-4f81-b2e7-bfc3f4a15907"
    },
    {
      "cell_type": "code",
      "execution_count": 101,
      "metadata": {},
      "outputs": [],
      "source": [
        "data.to_csv('./simulation_results/Real_simulation_reshape/DYGRENCODER_wikimath.csv',index=False)"
      ],
      "id": "fe47b372-5e6c-485c-875c-3c8d879aabe5"
    },
    {
      "cell_type": "code",
      "execution_count": 102,
      "metadata": {},
      "outputs": [],
      "source": [
        "data = pd.read_csv('./simulation_results/Real_simulation_reshape/DYGRENCODER_wikimath.csv')"
      ],
      "id": "0e5750a8-48a8-4f57-8650-1894b033996a"
    },
    {
      "cell_type": "markdown",
      "metadata": {},
      "source": [
        "## Baseline"
      ],
      "id": "2a840899-eaaf-446b-8c95-f79ee2ebf8ec"
    },
    {
      "cell_type": "code",
      "execution_count": 94,
      "metadata": {},
      "outputs": [],
      "source": [
        "data.query(\"mrate==0 and method!='GNAR'\").plot.box(backend='plotly',x='mrate',color='method',y='mse',height=600)"
      ],
      "id": "b5d615c3-7255-4f7b-8c80-4f97f1d0ea9a"
    },
    {
      "cell_type": "markdown",
      "metadata": {},
      "source": [
        "## random"
      ],
      "id": "05458675-4d56-46d5-a2d1-75b4fb918b08"
    },
    {
      "cell_type": "code",
      "execution_count": 97,
      "metadata": {},
      "outputs": [],
      "source": [
        "data.query(\"mtype=='rand' and mrate !=0 and method!='GNAR'\").plot.box(backend='plotly',x='mrate',color='method',y='mse',facet_col='lags',facet_row='nof_filters',height=800)\n"
      ],
      "id": "0be1ccad-dd6e-42fe-b32d-8a4e48b17a96"
    },
    {
      "cell_type": "markdown",
      "metadata": {},
      "source": [
        "## block"
      ],
      "id": "ffd0e3aa-25bb-4b51-b206-a27f68a9e181"
    },
    {
      "cell_type": "code",
      "execution_count": 96,
      "metadata": {},
      "outputs": [],
      "source": [
        "data.query(\"mtype=='block' and method!='GNAR'\").plot.box(backend='plotly',x='mrate',color='method',y='mse',facet_col='lags',facet_row='nof_filters',height=1200)\n"
      ],
      "id": "5b6befe4-45f6-4ecc-b2ea-69fd77089b87"
    },
    {
      "cell_type": "markdown",
      "metadata": {},
      "source": [
        "## missing values on the same nodes"
      ],
      "id": "6de0eab1-7f06-4a40-956d-cf8d8134c48f"
    },
    {
      "cell_type": "code",
      "execution_count": 122,
      "metadata": {
        "tags": []
      },
      "outputs": [],
      "source": [
        "df1 = pd.read_csv('./simulation_results/2023-07-01_17-41-40.csv') # STGCN IT-STGCN block\n",
        "df2 = pd.read_csv('./simulation_results/2023-07-01_21-00-26.csv') # STGCN IT-STGCN\n",
        "df3 = pd.read_csv('./simulation_results/2023-07-02_00-17-30.csv') "
      ],
      "id": "f804b18a-149e-48d5-ab30-9a0516fc611b"
    },
    {
      "cell_type": "code",
      "execution_count": 123,
      "metadata": {},
      "outputs": [],
      "source": [
        "data = pd.concat([df1,df2,df3],axis=0)"
      ],
      "id": "8947c20f-0acb-41e8-9a89-d122bf2c0d18"
    },
    {
      "cell_type": "code",
      "execution_count": 124,
      "metadata": {},
      "outputs": [],
      "source": [
        "data.to_csv('./simulation_results/Real_simulation_reshape/DYGRENCODER_wikimath_GSO_st.csv',index=False)"
      ],
      "id": "3082aa32-04c8-4a3e-9756-6634caf9c949"
    },
    {
      "cell_type": "code",
      "execution_count": 125,
      "metadata": {},
      "outputs": [],
      "source": [
        "data = pd.read_csv('./simulation_results/Real_simulation_reshape/DYGRENCODER_wikimath_GSO_st.csv')"
      ],
      "id": "9d39029d-2027-4858-aa8a-11a8f3628762"
    },
    {
      "cell_type": "code",
      "execution_count": 126,
      "metadata": {},
      "outputs": [],
      "source": [
        "data.query(\"method!='GNAR' and mtype =='block' \").plot.box(backend='plotly',x='mrate',color='method',y='mse',facet_col='inter_method',facet_row='lags',height=800)\n"
      ],
      "id": "5380ddb8-d5f5-49a0-b11f-89ad2db0ad41"
    },
    {
      "cell_type": "markdown",
      "metadata": {},
      "source": [
        "# Windmilsmall"
      ],
      "id": "513b2f02-8a3c-4789-ad23-7a84b4d6c770"
    },
    {
      "cell_type": "code",
      "execution_count": 97,
      "metadata": {},
      "outputs": [],
      "source": [
        "df1 = pd.read_csv('./simulation_results/2023-09-13_15-52-23.csv') # STGCN IT-STGCN 70%\n",
        "df2 = pd.read_csv('./simulation_results/2023-09-15_19-33-45.csv') # STGCN IT-STGCN\n",
        "df3 = pd.read_csv('./simulation_results/2023-09-16_05-00-32.csv') # STGCN IT-STGCN\n",
        "df4 = pd.read_csv('./simulation_results/2023-09-16_16-31-32.csv') # STGCN IT-STGCN\n",
        "df5 = pd.read_csv('./simulation_results/2023-09-17_00-59-08.csv') # STGCN IT-STGCN\n",
        "df6 = pd.read_csv('./simulation_results/2023-09-17_07-51-02.csv') # GNAR 30%, 50%, 70% # 뭔가 일단 필요없어서 데이터셋에서 뺌\n",
        "df7 = pd.read_csv('./simulation_results/2023-09-17_17-03-15.csv') # STGCN IT-STGCN\n",
        "df8 = pd.read_csv('./simulation_results/2023-09-18_02-15-00.csv') # STGCN IT-STGCN\n",
        "df9 = pd.read_csv('./simulation_results/2023-09-18_11-23-54.csv') # STGCN IT-STGCN\n",
        "df10 = pd.read_csv('./simulation_results/2023-09-18_21-08-29.csv') # STGCN IT-STGCN\n",
        "df11 = pd.read_csv('./simulation_results/2023-09-19_07-24-34.csv') # STGCN IT-STGCN\n",
        "df12 = pd.read_csv('./simulation_results/2023-09-19_17-28-50.csv') # STGCN IT-STGCN\n",
        "df13 = pd.read_csv('./simulation_results/2023-09-20_04-50-34.csv') # STGCN IT-STGCN\n",
        "df14 = pd.read_csv('./simulation_results/2023-09-20_22-19-26.csv') # STGCN IT-STGCN\n",
        "df15 = pd.read_csv('./simulation_results/2023-09-21_18-35-27.csv') # STGCN IT-STGCN\n",
        "df16 = pd.read_csv('./simulation_results/2023-09-22_07-31-09.csv') # STGCN IT-STGCN\n",
        "df17 = pd.read_csv('./simulation_results/2023-09-22_16-51-15.csv') # STGCN IT-STGCN\n",
        "df18 = pd.read_csv('./simulation_results/2023-09-23_08-41-26.csv') # STGCN IT-STGCN\n",
        "df19 = pd.read_csv('./simulation_results/2023-09-23_17-58-34.csv') # STGCN IT-STGCN\n",
        "df20 = pd.read_csv('./simulation_results/2023-09-24_10-04-54.csv') # STGCN IT-STGCN\n",
        "df21 = pd.read_csv('./simulation_results/2023-09-24_19-32-31.csv') # STGCN IT-STGCN\n",
        "df22 = pd.read_csv('./simulation_results/2023-09-25_04-53-14.csv') # STGCN IT-STGCN\n",
        "df23 = pd.read_csv('./simulation_results/2023-09-25_14-24-30.csv') # STGCN IT-STGCN\n",
        "df24 = pd.read_csv('./simulation_results/2023-09-25_23-50-57.csv') # STGCN IT-STGCN\n",
        "df25 = pd.read_csv('./simulation_results/2023-09-26_09-16-40.csv') # STGCN IT-STGCN\n",
        "df26 = pd.read_csv('./simulation_results/2023-09-26_18-43-11.csv') # STGCN IT-STGCN\n",
        "df27 = pd.read_csv('./simulation_results/2023-09-27_04-10-07.csv') # STGCN IT-STGCN\n",
        "df28 = pd.read_csv('./simulation_results/2023-09-27_13-38-47.csv') # STGCN IT-STGCN\n",
        "df29 = pd.read_csv('./simulation_results/2023-09-28_01-07-05.csv') # STGCN IT-STGCN\n",
        "df30 = pd.read_csv('./simulation_results/2023-09-28_12-14-12.csv') # STGCN IT-STGCN\n",
        "# block\n",
        "df31 = pd.read_csv('./simulation_results/2023-09-17_16-43-04.csv') # GNAR 70%\n",
        "df32 = pd.read_csv('./simulation_results/2023-09-18_01-55-45.csv') # GNAR \n",
        "df33 = pd.read_csv('./simulation_results/2023-09-18_11-14-12.csv')\n",
        "df34 = pd.read_csv('./simulation_results/2023-09-18_20-58-45.csv')\n",
        "df35 = pd.read_csv('./simulation_results/2023-09-19_07-14-47.csv')\n",
        "df36 = pd.read_csv('./simulation_results/2023-09-19_17-19-09.csv')\n",
        "df37 = pd.read_csv('./simulation_results/2023-09-20_04-51-02.csv')\n",
        "df38 = pd.read_csv('./simulation_results/2023-09-20_22-19-37.csv')\n",
        "df39 = pd.read_csv('./simulation_results/2023-09-21_18-35-26.csv')\n",
        "df40 = pd.read_csv('./simulation_results/2023-09-22_07-31-17.csv')\n",
        "df41 = pd.read_csv('./simulation_results/2023-09-22_16-51-17.csv')\n",
        "df42 = pd.read_csv('./simulation_results/2023-09-23_08-41-28.csv')\n",
        "df43 = pd.read_csv('./simulation_results/2023-09-23_17-58-44.csv')\n",
        "df44 = pd.read_csv('./simulation_results/2023-09-24_10-05-26.csv')\n",
        "df45 = pd.read_csv('./simulation_results/2023-09-24_19-32-38.csv')\n",
        "df46 = pd.read_csv('./simulation_results/2023-09-25_04-53-20.csv')\n",
        "df47 = pd.read_csv('./simulation_results/2023-09-25_14-24-40.csv')\n",
        "df48 = pd.read_csv('./simulation_results/2023-09-25_23-51-08.csv')\n",
        "df49 = pd.read_csv('./simulation_results/2023-09-26_09-16-48.csv')\n",
        "df50 = pd.read_csv('./simulation_results/2023-09-26_18-43-18.csv')\n",
        "df51 = pd.read_csv('./simulation_results/2023-09-27_04-10-17.csv')\n",
        "df52 = pd.read_csv('./simulation_results/2023-09-27_13-38-50.csv')\n",
        "df53 = pd.read_csv('./simulation_results/2023-09-28_01-07-32.csv')\n",
        "df54 = pd.read_csv('./simulation_results/2023-09-28_12-14-20.csv')\n",
        "# df55 = pd.read_csv('./simulation_results/2023-05-08_00-04-56.csv')\n",
        "# df56 = pd.read_csv('./simulation_results/2023-05-08_04-27-01.csv')\n",
        "# df57 = pd.read_csv('./simulation_results/2023-05-08_10-06-55.csv')\n",
        "# df58 = pd.read_csv('./simulation_results/2023-05-08_17-50-36.csv')\n",
        "# df59 = pd.read_csv('./simulation_results/2023-05-09_03-28-08.csv')\n",
        "# df60 = pd.read_csv('./simulation_results/2023-05-09_11-08-10.csv')\n",
        "# baseline\n",
        "df61 = pd.read_csv('./simulation_results/2023-09-21_00-37-14.csv')\n",
        "df62 = pd.read_csv('./simulation_results/2023-09-21_21-44-50.csv')\n",
        "df63 = pd.read_csv('./simulation_results/2023-09-22_09-33-27.csv')\n",
        "df64 = pd.read_csv('./simulation_results/2023-09-22_18-42-59.csv')\n",
        "df65 = pd.read_csv('./simulation_results/2023-09-23_11-11-44.csv')\n",
        "df66 = pd.read_csv('./simulation_results/2023-09-23_21-10-44.csv')\n",
        "df67 = pd.read_csv('./simulation_results/2023-09-24_13-01-09.csv')\n",
        "df68 = pd.read_csv('./simulation_results/2023-09-24_22-25-31.csv') # 확인 후 block 만 넣기!\n",
        "df69 = pd.read_csv('./simulation_results/2023-09-25_07-47-26.csv')\n",
        "df70 = pd.read_csv('./simulation_results/2023-09-25_17-21-42.csv')\n",
        "df71 = pd.read_csv('./simulation_results/2023-09-26_02-45-10.csv')\n",
        "df72 = pd.read_csv('./simulation_results/2023-09-26_12-11-19.csv')\n",
        "df73 = pd.read_csv('./simulation_results/2023-09-26_21-38-35.csv')\n",
        "df74 = pd.read_csv('./simulation_results/2023-09-27_07-05-58.csv')\n",
        "df75 = pd.read_csv('./simulation_results/2023-09-27_16-33-24.csv')\n",
        "df76 = pd.read_csv('./simulation_results/2023-09-28_05-00-20.csv')\n",
        "df77 = pd.read_csv('./simulation_results/2023-09-28_13-52-38.csv')\n",
        "# df78 = pd.read_csv('./simulation_results/2023-07-25_05-57-37.csv')\n",
        "# df79 = pd.read_csv('./simulation_results/2023-07-25_08-15-18.csv')\n",
        "# df80 = pd.read_csv('./simulation_results/2023-07-25_16-42-39.csv')\n",
        "# df81 = pd.read_csv('./simulation_results/2023-07-26_04-43-08.csv')\n",
        "# df82 = pd.read_csv('./simulation_results/2023-07-26_17-00-20.csv')\n",
        "# df83 = pd.read_csv('./simulation_results/2023-07-26_17-11-59.csv')\n",
        "# df84 = pd.read_csv('./simulation_results/2023-07-27_04-12-22.csv')\n",
        "# df85 = pd.read_csv('./simulation_results/2023-07-27_09-40-00.csv')\n",
        "# df86 = pd.read_csv('./simulation_results/2023-07-28_01-55-45.csv')\n",
        "# df87 = pd.read_csv('./simulation_results/2023-07-28_22-32-45.csv')\n",
        "# df88 = pd.read_csv('./simulation_results/2023-07-29_08-57-46.csv')\n",
        "# df89 = pd.read_csv('./simulation_results/2023-07-29_19-26-33.csv')\n",
        "# df90 = pd.read_csv('./simulation_results/2023-07-30_05-12-15.csv')"
      ],
      "id": "e865d7a4-d723-411e-9ee6-2a0a001f8525"
    },
    {
      "cell_type": "code",
      "execution_count": 98,
      "metadata": {},
      "outputs": [],
      "source": [
        "data = pd.concat([df1,df2,df3,df4,df5,df6,df7,df8,df9,df10,df11,df12,df13,df14,df15,df16,df17,df18,df19,df20,df21,df22,df23,df24,df25,df26,df27,df28,df29,df30,\n",
        "                 df31,df32,df33,df34,df35,df36,df37,df38,df39,df40,df41,df42,df43,df44,df45,df46,df47,df48,df49,df50,df51,df52,df53,df54,\n",
        "                  df61,df62,df63,df64,df65,df66,df67,df68,df69,df70,df71,df72,df73,df74,df75,df76,df77\n",
        "                 ],axis=0)"
      ],
      "id": "37438d95-f15e-4741-b4d2-65966d48be89"
    },
    {
      "cell_type": "code",
      "execution_count": 99,
      "metadata": {},
      "outputs": [],
      "source": [
        "data.to_csv('./simulation_results/Real_simulation_reshape/DYGRENCODER_windmillsmall.csv',index=False)"
      ],
      "id": "129bb29a-6386-4363-9781-8a68ad4373cd"
    },
    {
      "cell_type": "code",
      "execution_count": 100,
      "metadata": {},
      "outputs": [],
      "source": [
        "data = pd.read_csv('./simulation_results/Real_simulation_reshape/DYGRENCODER_windmillsmall.csv')"
      ],
      "id": "e802f5c9-6428-4f87-86d8-5bec3a07099b"
    },
    {
      "cell_type": "markdown",
      "metadata": {},
      "source": [
        "## Baseline"
      ],
      "id": "672ba120-5acf-45f3-bdd9-3e507bd149dd"
    },
    {
      "cell_type": "code",
      "execution_count": 101,
      "metadata": {},
      "outputs": [],
      "source": [
        "data.query(\"method!='GNAR' and mrate ==0 \").plot.box(backend='plotly',x='mrate',color='method',y='mse',facet_col='lags',height=800)\n"
      ],
      "id": "c618be63-9b47-4c87-a3eb-fa89e8188d1f"
    },
    {
      "cell_type": "markdown",
      "metadata": {},
      "source": [
        "## random"
      ],
      "id": "a8465a8f-2eaa-4fd7-b99e-3d3d7a09016e"
    },
    {
      "cell_type": "code",
      "execution_count": 102,
      "metadata": {},
      "outputs": [],
      "source": [
        "data.query(\"method!='GNAR' and mtype =='rand' \").plot.box(backend='plotly',x='mrate',color='method',y='mse',facet_col='lags',facet_row='inter_method',height=800)\n"
      ],
      "id": "f189e38c-14f4-4f04-980c-aec583366a66"
    },
    {
      "cell_type": "markdown",
      "metadata": {},
      "source": [
        "## block"
      ],
      "id": "8b1cc8c2-9faf-44f7-9aa3-8007c1fff30d"
    },
    {
      "cell_type": "code",
      "execution_count": 103,
      "metadata": {},
      "outputs": [],
      "source": [
        "data.query(\"method!='GNAR' and mtype =='block' \").plot.box(backend='plotly',x='mrate',color='method',y='mse',facet_col='lags',facet_row='inter_method',height=800)\n"
      ],
      "id": "0bb341f9-51ce-422b-9983-4aab0c8890e9"
    },
    {
      "cell_type": "markdown",
      "metadata": {},
      "source": [
        "# Montevideobus"
      ],
      "id": "89da9da3-0e3b-4c4f-9571-163ac05fcfaf"
    },
    {
      "cell_type": "code",
      "execution_count": 56,
      "metadata": {},
      "outputs": [],
      "source": [
        "df1 = pd.read_csv('./simulation_results/2023-06-30_06-15-55.csv') # lags 8\n",
        "df2 = pd.read_csv('./simulation_results/2023-06-30_08-46-05.csv') # lags 8\n",
        "df3 = pd.read_csv('./simulation_results/2023-06-30_11-09-20.csv') # lags 8\n",
        "df4 = pd.read_csv('./simulation_results/2023-06-30_14-00-17.csv') # lags 8\n",
        "df5 = pd.read_csv('./simulation_results/2023-06-30_16-23-53.csv') # lags 8\n",
        "df6 = pd.read_csv('./simulation_results/2023-06-30_18-47-55.csv') # lags 8"
      ],
      "id": "ee59c5e4-e11a-4a10-a0b1-478a80afb228"
    },
    {
      "cell_type": "code",
      "execution_count": 57,
      "metadata": {},
      "outputs": [],
      "source": [
        "df7 = pd.read_csv('./simulation_results/2023-07-26_09-18-59.csv') # lags 8\n",
        "df8 = pd.read_csv('./simulation_results/2023-07-26_11-40-12.csv') # lags 8\n",
        "df9 = pd.read_csv('./simulation_results/2023-07-26_13-53-51.csv') # lags 8\n",
        "df10 = pd.read_csv('./simulation_results/2023-07-26_16-08-33.csv') # lags 8\n",
        "df11 = pd.read_csv('./simulation_results/2023-07-26_18-03-51.csv') # lags 8\n",
        "df12 = pd.read_csv('./simulation_results/2023-07-26_19-59-34.csv') # lags 8\n",
        "df13 = pd.read_csv('./simulation_results/2023-07-26_21-55-45.csv') # lags 8\n",
        "df14 = pd.read_csv('./simulation_results/2023-07-27_00-15-20.csv') # lags 8\n",
        "df15 = pd.read_csv('./simulation_results/2023-07-27_02-39-45.csv') # lags 8"
      ],
      "id": "154922d5-d4de-44e0-9520-ad5f5f4693da"
    },
    {
      "cell_type": "code",
      "execution_count": 59,
      "metadata": {},
      "outputs": [],
      "source": [
        "data = pd.concat([df1,df2,df3,df4,df5,df6,df7,df8,df9,df10,df11,df12,df13,df14,df15],axis=0)"
      ],
      "id": "a19d1bdd-17fe-42cf-a4c8-f270bff69e40"
    },
    {
      "cell_type": "code",
      "execution_count": 60,
      "metadata": {},
      "outputs": [],
      "source": [
        "data.to_csv('./simulation_results/Real_simulation_reshape/DYGRENCODER_monte.csv',index=False)"
      ],
      "id": "3858fad4-79eb-4bd2-a070-c55210e79185"
    },
    {
      "cell_type": "code",
      "execution_count": 61,
      "metadata": {},
      "outputs": [],
      "source": [
        "data = pd.read_csv('./simulation_results/Real_simulation_reshape/DYGRENCODER_monte.csv')"
      ],
      "id": "b6060412-5bf9-480f-8246-83eed9a2677f"
    },
    {
      "cell_type": "markdown",
      "metadata": {},
      "source": [
        "## Baseline"
      ],
      "id": "ec8b0e52-bade-48fd-9f30-de96943e4c26"
    },
    {
      "cell_type": "code",
      "execution_count": 62,
      "metadata": {},
      "outputs": [],
      "source": [
        "data.query(\"mrate==0 and method!='GNAR'\").plot.box(backend='plotly',x='mrate',color='method',y='mse',facet_col='lags',facet_row='nof_filters',height=600)"
      ],
      "id": "f88253f6-73f8-418a-9fb8-31ab090519dd"
    },
    {
      "cell_type": "markdown",
      "metadata": {},
      "source": [
        "## random"
      ],
      "id": "6ab9998b-6897-4d89-812a-7a879e402862"
    },
    {
      "cell_type": "code",
      "execution_count": 63,
      "metadata": {},
      "outputs": [],
      "source": [
        "data.query(\"mtype=='rand' and mrate !=0 and method!='GNAR'\").plot.box(backend='plotly',x='mrate',color='method',y='mse',facet_col='lags',facet_row='inter_method',height=800)\n"
      ],
      "id": "7f2ffd70-8383-4974-a97a-f4474693b145"
    },
    {
      "cell_type": "markdown",
      "metadata": {},
      "source": [
        "## block"
      ],
      "id": "fddbc5d8-0754-41b5-ac35-e6b1acfa14fe"
    },
    {
      "cell_type": "code",
      "execution_count": 64,
      "metadata": {},
      "outputs": [],
      "source": [
        "data.query(\"mtype=='block' and method!='GNAR'\").plot.box(backend='plotly',x='mrate',color='method',y='mse',facet_col='lags',facet_row='nof_filters',height=1200)\n"
      ],
      "id": "f1aa0e7a-f3fa-4a4b-8ba8-1e5275ad760c"
    }
  ],
  "nbformat": 4,
  "nbformat_minor": 5,
  "metadata": {
    "kernelspec": {
      "name": "python3",
      "display_name": "Python 3",
      "language": "python"
    },
    "language_info": {
      "name": "python",
      "codemirror_mode": {
        "name": "ipython",
        "version": "3"
      },
      "file_extension": ".py",
      "mimetype": "text/x-python",
      "nbconvert_exporter": "python",
      "pygments_lexer": "ipython3",
      "version": "3.8.0"
    }
  }
}
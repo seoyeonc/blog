{
  "cells": [
    {
      "cell_type": "markdown",
      "metadata": {},
      "source": [
        "# Discrete Fourier Transform\n",
        "\n",
        "SEOYEON CHOI  \n",
        "12/27/22\n",
        "\n",
        "> DFT\n",
        "\n",
        "https://miruetoto.quarto.pub/yechan/posts/CGSP/2022-12-24-CGSP-Chap-8-3-DFT.html#fnref1\n",
        "\n",
        "https://miruetoto.github.io/yechan/%EB%B2%A0%EC%9D%B4%EC%A7%80%EC%95%88/2019/11/24/(%EB%85%B8%ED%8A%B8)-%EB%B2%A0%EC%9D%B4%EC%A7%80%EC%95%88-%EC%B6%94%EB%A1%A0-%EB%B2%A0%EC%9D%B4%EC%A7%80%EC%95%88.html\n",
        "\n",
        "## import"
      ],
      "id": "19ca0f8a-1c1e-4be9-acaf-7b45696d014d"
    },
    {
      "cell_type": "code",
      "execution_count": 12,
      "metadata": {},
      "outputs": [],
      "source": [
        "import numpy as np"
      ],
      "id": "2d4b2e5d-025e-4e48-86a1-55f93f6a6baf"
    },
    {
      "cell_type": "markdown",
      "metadata": {},
      "source": [
        "### Forward operator A"
      ],
      "id": "3d87787b-b76f-4fd1-8ba2-e5de62d14e0d"
    },
    {
      "cell_type": "code",
      "execution_count": 15,
      "metadata": {},
      "outputs": [],
      "source": [
        "A = np.array([[0, 0, 0, 0, 1],\n",
        "    [1, 0, 0, 0, 0],\n",
        "    [0, 1, 0, 0, 0],\n",
        "    [0, 0, 1, 0, 0],\n",
        "    [0, 0, 0, 1, 0]])\n",
        "A"
      ],
      "id": "a32a8608-d6b2-464b-8b13-6ebaa2d59448"
    },
    {
      "cell_type": "code",
      "execution_count": 21,
      "metadata": {},
      "outputs": [],
      "source": [
        "np.transpose(A)@A"
      ],
      "id": "2ff65c2b-3b32-42d0-9a6e-e1b019ac6256"
    },
    {
      "cell_type": "markdown",
      "metadata": {},
      "source": [
        "> note: A is orthogonal matrix"
      ],
      "id": "6aa60d7d-1e38-432f-9806-c3b90e5656c9"
    },
    {
      "cell_type": "code",
      "execution_count": 23,
      "metadata": {},
      "outputs": [],
      "source": [
        "s = np.array([[1],[22],[333],[4444],[55555]])\n",
        "s"
      ],
      "id": "b6eb9172-212f-4b32-969c-dec4e2fb8c3d"
    },
    {
      "cell_type": "code",
      "execution_count": 31,
      "metadata": {},
      "outputs": [],
      "source": [
        "A@s"
      ],
      "id": "b3a2d964-9226-4551-8b14-1e0d652a2a07"
    },
    {
      "cell_type": "code",
      "execution_count": 33,
      "metadata": {},
      "outputs": [],
      "source": [
        "A@A@s"
      ],
      "id": "d0ee2e78-fa3f-42ab-9850-dfa88c4473ba"
    },
    {
      "cell_type": "code",
      "execution_count": 34,
      "metadata": {},
      "outputs": [],
      "source": [
        "A@A@A@s"
      ],
      "id": "d5d3c7e5-d3c7-4a62-8bd9-5188a5be7abc"
    },
    {
      "cell_type": "markdown",
      "metadata": {},
      "source": [
        "> note : thus A is a forward operator,A\\* is a backward operator.\n",
        "\n",
        "### DFT\n",
        "\n",
        "$A = DFT^* \\Lambda DFT$"
      ],
      "id": "11d66147-a4bd-43ba-9011-9e1a26f22ba8"
    },
    {
      "cell_type": "code",
      "execution_count": 38,
      "metadata": {},
      "outputs": [],
      "source": [
        "λ, ψ = np.linalg.eig(A)\n",
        "λ, ψ"
      ],
      "id": "2bb73df0-a4c3-4a2f-8432-fbf0c709b240"
    },
    {
      "cell_type": "code",
      "execution_count": 43,
      "metadata": {},
      "outputs": [],
      "source": [
        "λ.shape, ψ.shape"
      ],
      "id": "7f01b080-6012-41d8-aeab-979bfe09f7c5"
    },
    {
      "cell_type": "code",
      "execution_count": 98,
      "metadata": {},
      "outputs": [],
      "source": [
        "A "
      ],
      "id": "ac0e0e7d-613e-4a9b-846c-fa977f576c8d"
    },
    {
      "cell_type": "code",
      "execution_count": 101,
      "metadata": {},
      "outputs": [],
      "source": [
        "(ψ @ np.diag(λ) @ ψ.transpose()).round(2)"
      ],
      "id": "2e4d6fe8-31cb-4938-9146-9d278578d781"
    },
    {
      "cell_type": "markdown",
      "metadata": {},
      "source": [
        "?\n",
        "\n",
        "define $\\psi^* = DFT$"
      ],
      "id": "dd99dc45-c455-41a8-a7ed-fb43b5c182e7"
    },
    {
      "cell_type": "code",
      "execution_count": 76,
      "metadata": {},
      "outputs": [],
      "source": [
        "DFT = np.transpose(ψ)\n",
        "DFT"
      ],
      "id": "c4b715fa-21c1-43a5-bae3-c4c699638532"
    },
    {
      "cell_type": "code",
      "execution_count": 89,
      "metadata": {},
      "outputs": [],
      "source": [
        "λ[3,]"
      ],
      "id": "8a57478c-8d8f-45de-a42c-e5be2d9e7871"
    },
    {
      "cell_type": "code",
      "execution_count": 92,
      "metadata": {},
      "outputs": [],
      "source": [
        "a=np.array([1,2,3,4])\n",
        "np.diag(np.diag(a))"
      ],
      "id": "b8b22f84-1d0e-4b7e-a6b1-771bfff8afe1"
    },
    {
      "cell_type": "code",
      "execution_count": 94,
      "metadata": {},
      "outputs": [],
      "source": [
        "λ"
      ],
      "id": "7d002104-88a8-4b19-aadd-d3ca7e5db9fa"
    },
    {
      "cell_type": "code",
      "execution_count": 106,
      "metadata": {},
      "outputs": [],
      "source": [
        "(np.matrix(ψ)@np.matrix(np.diag(λ))@np.matrix(ψ).H).round(3)"
      ],
      "id": "93d69c32-c7a6-41fd-a82d-c55376af2aa2"
    },
    {
      "cell_type": "code",
      "execution_count": 109,
      "metadata": {},
      "outputs": [],
      "source": [
        "np.matrix(ψ).H"
      ],
      "id": "8e60809d-77e9-4d26-b211-254557c3575c"
    },
    {
      "cell_type": "markdown",
      "metadata": {},
      "source": [
        "### Spectral components and Frequencies\n",
        "\n",
        "$$\\{ 1,\\psi_1, \\psi_2, \\psi_3,\\dots, \\psi_{N-1} \\}$$\n",
        "\n",
        "These vectors are called spectral components.\n",
        "\n",
        "In Physics and in operator theory, these eigenvalues are the frequencies\n",
        "of the signal.\n",
        "\n",
        "Eigenvalues of $A$"
      ],
      "id": "39f2d06f-4567-4bd6-9173-3cb156822a96"
    }
  ],
  "nbformat": 4,
  "nbformat_minor": 5,
  "metadata": {
    "kernelspec": {
      "name": "python3",
      "display_name": "Python 3 (ipykernel)",
      "language": "python"
    },
    "language_info": {
      "name": "python",
      "codemirror_mode": {
        "name": "ipython",
        "version": "3"
      },
      "file_extension": ".py",
      "mimetype": "text/x-python",
      "nbconvert_exporter": "python",
      "pygments_lexer": "ipython3",
      "version": "3.8.12"
    }
  }
}
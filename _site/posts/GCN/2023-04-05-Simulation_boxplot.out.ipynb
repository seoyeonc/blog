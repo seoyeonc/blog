{
  "cells": [
    {
      "cell_type": "markdown",
      "metadata": {},
      "source": [
        "# Simulation\n",
        "\n",
        "SEOYEON CHOI  \n",
        "2023-04-05\n",
        "\n",
        "> Simulation Study\n",
        "\n",
        "# Import\n",
        "\n",
        "데이터 함쳐놓기\n",
        "\n",
        "``` python\n",
        "import pandas as pd\n",
        "\n",
        "_a = pd.read_csv('./simulation_results/a.csv')\n",
        "_b = pd.read_csv('./simulation_results/b.csv')\n",
        "_c = pd.read_csv('./simulation_results/STGCN_ITSTGCN_random_epoch200.csv')\n",
        "\n",
        "_df = pd.concat([_a,_b,_c],axis=0)\n",
        "\n",
        "_df\n",
        "\n",
        "_df.to_csv('./simulation_results/STGCN_ITSTGCN_random_epoch200_2.csv',index=False)\n",
        "```"
      ],
      "id": "edd04852-a24f-435a-8b48-def464cc132e"
    },
    {
      "cell_type": "code",
      "execution_count": 1,
      "metadata": {},
      "outputs": [],
      "source": [
        "import matplotlib.pyplot as plt\n",
        "import pandas as pd\n",
        "import numpy as np"
      ],
      "id": "97cfaa6d-11ad-460b-874c-01c8e2c14e70"
    },
    {
      "cell_type": "markdown",
      "metadata": {},
      "source": [
        "# Fivenodes\n",
        "\n",
        "**random**\n",
        "\n",
        "-   lags = 2\n",
        "    -   GNAR 문서에 나온 대로 AR(2) 모형\n",
        "\n",
        "1.  mrate = 0.8, filter = 12, epoch = 150\n",
        "2.  mrate = 0.3, filter = 8, epoch = 50\n",
        "\n",
        "-   interpolation = linear 또는 cubic, nearest 는 mse 너무 우리 방법에서\n",
        "    안 좋다.\n",
        "\n",
        "**block**\n",
        "\n",
        "random"
      ],
      "id": "fbc9df44-efe7-4403-85b8-a2e4109421df"
    },
    {
      "cell_type": "code",
      "execution_count": 2,
      "metadata": {},
      "outputs": [],
      "source": [
        "df1 = pd.read_csv('./simulation_results/fivenodes/fivenodes_STGCN_ITSTGCN_random_epoch50.csv')\n",
        "df2 = pd.read_csv('./simulation_results/fivenodes/fivenodes_STGCN_ITSTGCN_random_epoch100.csv')\n",
        "df3 = pd.read_csv('./simulation_results/fivenodes/fivenodes_STGCN_ITSTGCN_random_epoch150.csv')\n",
        "df4 = pd.read_csv('./simulation_results/fivenodes/fivenodes_STGCN_ITSTGCN_random_epoch200.csv')"
      ],
      "id": "d6797142-5c1b-46ce-95f5-5698a6473d3d"
    },
    {
      "cell_type": "code",
      "execution_count": 3,
      "metadata": {},
      "outputs": [],
      "source": [
        "df_gnar = pd.read_csv('./simulation_results/fivenodes/fivenodes_GNAR_random.csv')"
      ],
      "id": "278e8326-d7b5-4bfe-8078-a082cf84a429"
    },
    {
      "cell_type": "code",
      "execution_count": 4,
      "metadata": {},
      "outputs": [],
      "source": [
        "data = pd.concat([df1,df2,df3,df4,df_gnar],axis=0)"
      ],
      "id": "0b954926-beea-46f2-b707-79fb4a1ed0ee"
    },
    {
      "cell_type": "code",
      "execution_count": 5,
      "metadata": {},
      "outputs": [],
      "source": [
        "data.query(\"method!='GNAR' and inter_method=='linear' and lags==2\").plot.box(backend='plotly',x='mrate',color='method',y='mse',facet_col='epoch',facet_row='nof_filters',height=1200)\n"
      ],
      "id": "75254a80-929a-4522-8400-91ff1345f5bd"
    },
    {
      "cell_type": "markdown",
      "metadata": {},
      "source": [
        "시뮬 예정(평균 시간, 평균mse)\n",
        "\n",
        "0.7,0.75,0.8,0.85\n",
        "\n",
        "12,16\n",
        "\n",
        "150"
      ],
      "id": "22655fd8-c97b-47dc-bc07-b859dca38bbd"
    },
    {
      "cell_type": "code",
      "execution_count": 6,
      "metadata": {},
      "outputs": [],
      "source": [
        "# 1. mrate = 0.8, filter = 12, epoch = 150\n",
        "data.query(\"mrate==0.8 and inter_method=='linear' and nof_filters==12 and epoch==150 and lags==2\")['calculation_time'].mean(),data.query(\"mrate==0.8 and inter_method=='linear' and nof_filters==12 and epoch==150 and lags==2\")['mse'].mean()"
      ],
      "id": "facd1b9f-ab09-4720-aa06-b8304735d74a"
    },
    {
      "cell_type": "code",
      "execution_count": 7,
      "metadata": {},
      "outputs": [],
      "source": [
        "data.query(\"mrate==0.8 and inter_method=='linear' and nof_filters==12 and epoch==150 and lags==2\").plot.box(backend='plotly',x='mrate',color='method',y='mse',facet_col='epoch',facet_row='nof_filters',height=400)"
      ],
      "id": "94d8b196-b1a6-42aa-8474-629610d8aecf"
    },
    {
      "cell_type": "markdown",
      "metadata": {},
      "source": [
        "block"
      ],
      "id": "5a42900e-edf9-4f0d-8ffb-356116830b05"
    },
    {
      "cell_type": "code",
      "execution_count": 8,
      "metadata": {},
      "outputs": [],
      "source": [
        "df1 = pd.read_csv('./simulation_results/fivenodes/fivenodes_STGCN_ITSTGCN_block_node1_epoch50.csv')\n",
        "df2 = pd.read_csv('./simulation_results/fivenodes/fivenodes_STGCN_ITSTGCN_block_node1_epoch100.csv')\n",
        "df3 = pd.read_csv('./simulation_results/fivenodes/fivenodes_STGCN_ITSTGCN_block_node1_epoch150.csv')\n",
        "df4 = pd.read_csv('./simulation_results/fivenodes/fivenodes_STGCN_ITSTGCN_block_node1_epoch200.csv')\n",
        "df5 = pd.read_csv('./simulation_results/fivenodes/fivenodes_STGCN_ITSTGCN_block_node2_epoch50.csv')\n",
        "df6 = pd.read_csv('./simulation_results/fivenodes/fivenodes_STGCN_ITSTGCN_block_node2_epoch100.csv')\n",
        "df7 = pd.read_csv('./simulation_results/fivenodes/fivenodes_STGCN_ITSTGCN_block_node2_epoch150.csv')\n",
        "df8 = pd.read_csv('./simulation_results/fivenodes/fivenodes_GNAR_block_node1.csv')\n",
        "df9 = pd.read_csv('./simulation_results/fivenodes/fivenodes_GNAR_block_node2.csv')"
      ],
      "id": "c5b54c64-802b-410b-b79c-673380374718"
    },
    {
      "cell_type": "code",
      "execution_count": 9,
      "metadata": {},
      "outputs": [],
      "source": [
        "df1['block']=1\n",
        "df2['block']=1\n",
        "df3['block']=1\n",
        "df4['block']=1\n",
        "df5['block']=2\n",
        "df6['block']=2\n",
        "df7['block']=2\n",
        "df8['block']=1\n",
        "df9['block']=2"
      ],
      "id": "e82a80db-88a8-4116-be13-f1ef458f978e"
    },
    {
      "cell_type": "code",
      "execution_count": 10,
      "metadata": {},
      "outputs": [],
      "source": [
        "data2 = pd.concat([df1,df2,df3,df4,df5,df6,df7,df8,df9],axis=0)"
      ],
      "id": "02bb866a-df7d-4819-ab4a-c28c4cb55abe"
    },
    {
      "cell_type": "code",
      "execution_count": 11,
      "metadata": {},
      "outputs": [],
      "source": [
        "data2.query(\"method=='GNAR' and block == 1\")['mse'].mean(),data2.query(\"method=='GNAR' and block == 2\")['mse'].mean()"
      ],
      "id": "5d6b6ef6-2edb-45a2-aca2-98d4a56be22d"
    },
    {
      "cell_type": "code",
      "execution_count": 12,
      "metadata": {},
      "outputs": [],
      "source": [
        "data2.query(\"method=='GNAR' and inter_method == 'linear'\")['mse'].mean(),data2.query(\"method=='GNAR' and inter_method == 'nearest'\")['mse'].mean() # 차이 없음"
      ],
      "id": "a4de3be9-c2fc-4fd8-af6c-3d2fbaf23afb"
    },
    {
      "cell_type": "code",
      "execution_count": 13,
      "metadata": {},
      "outputs": [],
      "source": [
        "data2.query(\"epoch==50\")['calculation_time'].mean(),data2.query(\"epoch==50\")['calculation_time'].max()"
      ],
      "id": "07a44b7a-f2b6-443b-8cd6-386cf60213de"
    },
    {
      "cell_type": "code",
      "execution_count": 14,
      "metadata": {},
      "outputs": [],
      "source": [
        "data2.query(\"epoch==150\")['calculation_time'].mean(),data2.query(\"epoch==150\")['calculation_time'].max()"
      ],
      "id": "50854639-dcf1-4bb7-819c-d2417c3b4a4b"
    },
    {
      "cell_type": "code",
      "execution_count": 15,
      "metadata": {},
      "outputs": [],
      "source": [
        "data2.query(\"method!='GNAR' and lags == 2 and inter_method=='nearest'\").plot.box(backend='plotly',x='block',color='method',y='mse',facet_col='epoch',facet_row='nof_filters',height=800)\n"
      ],
      "id": "2fd07d0f-976a-4c1c-b165-b18bce40dae1"
    },
    {
      "cell_type": "code",
      "execution_count": 16,
      "metadata": {},
      "outputs": [],
      "source": [
        "data2.query(\"inter_method=='linear' and epoch==150\").plot.box(backend='plotly',x='block',color='method',y='mse',facet_col='lags',facet_row='nof_filters',height=1200)\n"
      ],
      "id": "a95b5b89-af88-4d5a-8f93-1bfd19590576"
    },
    {
      "cell_type": "markdown",
      "metadata": {},
      "source": [
        "시뮬 예정(평균 시간, 평균mse)\n",
        "\n",
        "block 1,2 위 세팅 그대로\n",
        "\n",
        "랜덤ㅁ 말고 block만"
      ],
      "id": "8dede4c2-a01f-44d8-afc1-fe50f6e4aa86"
    },
    {
      "cell_type": "code",
      "execution_count": 17,
      "metadata": {},
      "outputs": [],
      "source": [
        "# 1. block = 2 interpolation = linear, filter = 12, epoch = 150\n",
        "data2.query(\"block==1 and inter_method=='linear' and nof_filters==12 and epoch==50 and lags==2\")['calculation_time'].mean(),data2.query(\"block==2 and inter_method=='linear' and nof_filters==12 and epoch==50 and lags==2\")['mse'].mean()"
      ],
      "id": "df7cf33c-ffb1-4081-a529-e66ec3e915ea"
    },
    {
      "cell_type": "code",
      "execution_count": 18,
      "metadata": {},
      "outputs": [],
      "source": [
        "data2.query(\"block==1 and inter_method=='linear' and nof_filters==12 and epoch==50 and lags==2\").plot.box(backend='plotly',x='block',color='method',y='mse',facet_col='epoch',facet_row='nof_filters',height=400)"
      ],
      "id": "37b87600-230c-42c4-b804-0b89898239db"
    },
    {
      "cell_type": "markdown",
      "metadata": {},
      "source": [
        "# fivenodes simulation result\n",
        "\n",
        "``` python\n",
        "mindex= [[],[],[],list(range(50,150)),[]] # block 1\n",
        "mindex= [list(range(10,100)),[],list(range(50,80)),[],[]] # node 2 30% mmissing\n",
        "```\n",
        "\n",
        "block 조건"
      ],
      "id": "3508feb4-0f15-4a42-bbdb-142b7f705239"
    },
    {
      "cell_type": "code",
      "execution_count": 19,
      "metadata": {},
      "outputs": [],
      "source": [
        "df1 = pd.read_csv('./simulation_results/2023-04-09_23-37-17.csv') # GNAR random\n",
        "df2 = pd.read_csv('./simulation_results/2023-04-10_07-06-32.csv') # STGCN, ITSTGCN random 70%, 75%\n",
        "df3 = pd.read_csv('./simulation_results/2023-04-10_14-54-51.csv') # STGCN, ITSTGCN random 80%, 85%\n",
        "df4 = pd.read_csv('./simulation_results/2023-04-10_15-54-03.csv') # GNAR block 1\n",
        "df5 = pd.read_csv('./simulation_results/2023-04-10_15-56-27.csv') # GNAR block 2\n",
        "df6 = pd.read_csv('./simulation_results/2023-04-10_23-44-52.csv') # STGCN, ITSTGCN block 1\n",
        "df7 = pd.read_csv('./simulation_results/2023-04-11_04-40-00.csv') # STGCN, ITSTGCN block 2\n",
        "df8 = pd.read_csv('./simulation_results/2023-04-14_21-21-34.csv') # S/TGCN, ITSTGCN missing 0"
      ],
      "id": "58a7de0e-0147-4be6-ae52-f391e068d404"
    },
    {
      "cell_type": "code",
      "execution_count": 20,
      "metadata": {},
      "outputs": [],
      "source": [
        "data = pd.concat([df1,df2, df3, df4,df5,df6,df7,df8],axis=0);data"
      ],
      "id": "243c8ac3-63ef-463b-920c-732bcea5b27d"
    },
    {
      "cell_type": "code",
      "execution_count": 21,
      "metadata": {},
      "outputs": [],
      "source": [
        "data.to_csv('./simulation_results/Real_simulation/fivedones_Simulation.csv',index=False)"
      ],
      "id": "6531c324-827c-4f7f-aef7-90da0b1f2c23"
    },
    {
      "cell_type": "code",
      "execution_count": 22,
      "metadata": {},
      "outputs": [],
      "source": [
        "data = pd.read_csv('./simulation_results/Real_simulation/fivedones_Simulation.csv')"
      ],
      "id": "2029a91d-4dc4-4eb2-8f9d-63d4727f4c94"
    },
    {
      "cell_type": "code",
      "execution_count": 23,
      "metadata": {},
      "outputs": [],
      "source": [
        "data.query(\"method=='GNAR' and mtype == 'rand'\")['mse'].mean(),data.query(\"method=='GNAR' and mtype != 'rand'\")['mse'].mean()"
      ],
      "id": "6b4c69a2-d1f8-4994-a68d-28a1f555f02f"
    },
    {
      "cell_type": "code",
      "execution_count": 24,
      "metadata": {},
      "outputs": [],
      "source": [
        "data.query(\"method=='STGCN' and mtype == 'rand'\")['mse'].mean(),data.query(\"method=='STGCN' and mtype != 'rand'\")['mse'].mean()"
      ],
      "id": "7cbc39c5-ff31-4a66-ae07-0a76ffaf7c0d"
    },
    {
      "cell_type": "code",
      "execution_count": 25,
      "metadata": {},
      "outputs": [],
      "source": [
        "data.query(\"method=='IT-STGCN' and mtype == 'rand'\")['mse'].mean(),data.query(\"method=='IT-STGCN' and mtype != 'rand'\")['mse'].mean()"
      ],
      "id": "d724b6e9-fb35-43ad-a792-4bd28ad46bc5"
    },
    {
      "cell_type": "markdown",
      "metadata": {},
      "source": [
        "Baseline"
      ],
      "id": "c2e9de49-a04b-43e4-a7d0-650dab61589a"
    },
    {
      "cell_type": "code",
      "execution_count": 26,
      "metadata": {
        "tags": []
      },
      "outputs": [],
      "source": [
        "data.query(\"method!='GNAR' and mrate==0\").plot.box(backend='plotly',x='mrate',color='method',y='mse',facet_col='nof_filters',height=600)\n"
      ],
      "id": "e731ba6e-761a-4f9c-9399-2d1980ea0edb"
    },
    {
      "cell_type": "code",
      "execution_count": 27,
      "metadata": {},
      "outputs": [],
      "source": [
        "data.query(\"method!='GNAR' and mtype =='rand' and (mrate==0.7 or mrate==0.75)\").plot.box(backend='plotly',x='mrate',color='method',y='mse',facet_col='nof_filters',facet_row='inter_method',height=600)\n"
      ],
      "id": "8bfafe06-1c82-4ed4-9864-1ca6641c00f1"
    },
    {
      "cell_type": "code",
      "execution_count": 28,
      "metadata": {},
      "outputs": [],
      "source": [
        "data.query(\"method!='GNAR' and mtype =='rand'  and (mrate==0.8 or mrate==0.85)\").plot.box(backend='plotly',x='mrate',color='method',y='mse',facet_col='nof_filters',facet_row='inter_method',height=600)\n"
      ],
      "id": "480e6854-3dbe-4928-b7ff-c0776f7cc181"
    },
    {
      "cell_type": "code",
      "execution_count": 29,
      "metadata": {},
      "outputs": [],
      "source": [
        "data.query(\"method!='GNAR' and mtype =='block' and inter_method=='linear' \").plot.box(backend='plotly',x='mrate',color='method',y='mse',facet_col='nof_filters',facet_row='inter_method',height=600)\n"
      ],
      "id": "74a84105-e37e-46da-8eb4-f99429013213"
    },
    {
      "cell_type": "markdown",
      "metadata": {},
      "source": [
        "# fivenodes DCRNN result"
      ],
      "id": "39583e52-db9b-4f90-a5b2-743750b35d95"
    },
    {
      "cell_type": "code",
      "execution_count": 196,
      "metadata": {},
      "outputs": [],
      "source": [
        "df1 = pd.read_csv('./simulation_results/2023-05-14_19-10-37.csv')\n",
        "# df2 = pd.read_csv('./simulation_results/2023-04-27_22-09-07.csv')\n",
        "# df3 = pd.read_csv('./simulation_results/2023-04-28_14-40-59.csv')"
      ],
      "id": "8c54a34c-de05-4ad1-b926-ccccfcc937d7"
    },
    {
      "cell_type": "code",
      "execution_count": 197,
      "metadata": {},
      "outputs": [],
      "source": [
        "data = pd.concat([df1],axis=0)"
      ],
      "id": "74f58943-79e6-4784-ac33-d664490ebf50"
    },
    {
      "cell_type": "code",
      "execution_count": 199,
      "metadata": {},
      "outputs": [],
      "source": [
        "data"
      ],
      "id": "0036005f-787f-4b70-b9bc-8bebf3a7508e"
    },
    {
      "cell_type": "code",
      "execution_count": 200,
      "metadata": {},
      "outputs": [],
      "source": [
        "data.to_csv('./simulation_results/DCRNN/fivenodes_DVRNN.csv',index=False)"
      ],
      "id": "f62d4190-543e-4f5b-9517-65ac387a8dfb"
    },
    {
      "cell_type": "code",
      "execution_count": 202,
      "metadata": {},
      "outputs": [],
      "source": [
        "data = pd.read_csv('./simulation_results/DCRNN/fivenodes_DVRNN.csv')"
      ],
      "id": "1fd0200c-c8c0-4e7a-875d-cce9e7a3c5a6"
    },
    {
      "cell_type": "markdown",
      "metadata": {},
      "source": [
        "# chickenpox\n",
        "\n",
        "random\n",
        "\n",
        "-   공식 패키지: lags 4 지정\n",
        "-   mrate = 0.3\n",
        "    -   결측값 비율 크니까 오차 많이 커지는 경향 있어서\n",
        "-   nof_filters = 4\n",
        "    -   차이 없어서\n",
        "-   lags = 4, 8\n",
        "    -   클 수록 작아지는 경향 있어서\n",
        "-   GNAR보다 MSE는 낮음\n",
        "-   cal_time\n",
        "    -   mean = 10\n",
        "    -   max = 21\n",
        "-   block 은 임의로 한 노드만 해 본 결과임"
      ],
      "id": "cfb7de55-4ea0-459a-805c-7cd5511f369f"
    },
    {
      "cell_type": "code",
      "execution_count": 30,
      "metadata": {},
      "outputs": [],
      "source": [
        "data = pd.read_csv('./simulation_results/chickenpox_random.csv').sort_values(by='lags')"
      ],
      "id": "7b7c42c2-cc01-4255-9bf8-bba47950a2aa"
    },
    {
      "cell_type": "code",
      "execution_count": 31,
      "metadata": {},
      "outputs": [],
      "source": [
        "data.query(\"method!='GNAR'\")['calculation_time'].mean(),data.query(\"method!='GNAR'\")['calculation_time'].max(),data.query(\"method!='GNAR'\")['calculation_time'].min()"
      ],
      "id": "77002057-ce06-4a43-9dfd-4ba49667c9db"
    },
    {
      "cell_type": "code",
      "execution_count": 32,
      "metadata": {},
      "outputs": [],
      "source": [
        "data.query(\"method!='GNAR' and inter_method=='cubic' and mrate==0.3\").plot.box(backend='plotly',x='mrate',color='method',y='mse',facet_col='lags',facet_row='nof_filters',height=1200)\n"
      ],
      "id": "2683558c-b7dc-46a5-bb7a-ebfad7f01c48"
    },
    {
      "cell_type": "code",
      "execution_count": 33,
      "metadata": {},
      "outputs": [],
      "source": [
        "data.query(\"method=='GNAR' and inter_method=='linear'\").plot.box(backend='plotly',x='mrate',color='method',y='mse',facet_col='lags',height=600)\n"
      ],
      "id": "c6e3107a-53ad-45c2-82ba-5346bdad5360"
    },
    {
      "cell_type": "markdown",
      "metadata": {},
      "source": [
        "시뮬 예정(평균 시간, 평균mse)\n",
        "\n",
        "epoch = 50\n",
        "\n",
        "mrate = 0.3~0.5\n",
        "\n",
        "filter 32 공식예제로 가기 하고 샆으면 3개 정도 추가로"
      ],
      "id": "91b8ec8c-dfa3-4bc6-9ddb-7f0f543354da"
    },
    {
      "cell_type": "code",
      "execution_count": 34,
      "metadata": {},
      "outputs": [],
      "source": [
        "# 1. mrate = 0.3, filter = 4, epoch = 50, lags = 4\n",
        "data.query(\"method !='GNAR' and mrate==0.3 and inter_method=='cubic' and nof_filters==4 and lags==2\")['calculation_time'].mean(),data.query(\"method != 'GNAR' and mrate==0.3 and inter_method=='cubic' and nof_filters==4 and lags==2\")['mse'].mean()"
      ],
      "id": "797a85da-0fea-4c46-8405-cc08c7b6da8d"
    },
    {
      "cell_type": "code",
      "execution_count": 35,
      "metadata": {},
      "outputs": [],
      "source": [
        "data.query(\"method !='GNAR' and mrate==0.3 and inter_method=='cubic' and nof_filters==4 and lags==2\").plot.box(backend='plotly',x='mrate',color='method',y='mse',facet_col='lags',facet_row='nof_filters',height=400)\n"
      ],
      "id": "33607d85-2aa9-48b3-a625-386bc197367b"
    },
    {
      "cell_type": "markdown",
      "metadata": {},
      "source": [
        "block"
      ],
      "id": "cd0ad44d-f5a2-4e7f-8c09-281ae1df53dd"
    },
    {
      "cell_type": "code",
      "execution_count": 36,
      "metadata": {},
      "outputs": [],
      "source": [
        "data = pd.read_csv('./simulation_results/chickenpox_block.csv')"
      ],
      "id": "d0d48bdc-438f-4ab7-8e0d-ff9336f89c5d"
    },
    {
      "cell_type": "code",
      "execution_count": 37,
      "metadata": {},
      "outputs": [],
      "source": [
        "data.query(\"method != 'GNAR' and lags!=4 and lags!=6 and inter_method !='linear'\").plot.box(backend='plotly',x='nof_filters',color='method',y='mse',facet_col='lags',facet_row='inter_method',height=600)\n"
      ],
      "id": "81fbedec-b96b-479d-9a3e-65b30d68bdb1"
    },
    {
      "cell_type": "code",
      "execution_count": 38,
      "metadata": {},
      "outputs": [],
      "source": [
        "data.query(\"method=='GNAR'\").plot.box(backend='plotly',x='mrate',color='inter_method',y='mse',facet_col='lags',height=600)\n"
      ],
      "id": "6586ab33-5f10-4235-844a-7d24b275616b"
    },
    {
      "cell_type": "markdown",
      "metadata": {},
      "source": [
        "시뮬 예정(평균 시간, 평균mse)\n",
        "\n",
        "block, rand 다\n",
        "\n",
        "공식예제 수 따라\n",
        "\n",
        "epoch 50\n",
        "\n",
        "나중에 시간 남으면 100"
      ],
      "id": "90169147-1283-483d-96a7-e604a75dfb4c"
    },
    {
      "cell_type": "code",
      "execution_count": 39,
      "metadata": {},
      "outputs": [],
      "source": [
        "data.query(\"inter_method=='cubic' and nof_filters==4 and lags==8\").plot.box(backend='plotly',x='mrate',color='method',y='mse',facet_col='lags',facet_row='nof_filters',height=400)\n"
      ],
      "id": "d504ca01-da1e-4b87-87ff-998d8a3a934a"
    },
    {
      "cell_type": "markdown",
      "metadata": {},
      "source": [
        "# chickenpox simulation result\n",
        "\n",
        "``` python\n",
        "my_list = [[] for _ in range(20)] #chickenpox\n",
        "another_list = list(range(100,400))\n",
        "my_list[1] = another_list\n",
        "my_list[3] = another_list\n",
        "my_list[5] = another_list\n",
        "my_list[7] = another_list\n",
        "my_list[9] = another_list\n",
        "my_list[11] = another_list\n",
        "my_list[13] = another_list\n",
        "my_list[15] = another_list\n",
        "mindex = my_list\n",
        "```\n",
        "\n",
        "block 30% missing을 위한 조건"
      ],
      "id": "bf7bccbf-fe08-4c7a-be21-ed928f9fd05a"
    },
    {
      "cell_type": "code",
      "execution_count": 40,
      "metadata": {},
      "outputs": [],
      "source": [
        "df1 = pd.read_csv('./simulation_results/2023-04-11_06-56-35.csv') # GNAR random\n",
        "df2 = pd.read_csv('./simulation_results/2023-04-11_07-01-42.csv') # GNAR block\n",
        "df3 = pd.read_csv('./simulation_results/2023-04-11_18-20-22.csv') # STGCN, ITSTGCN random 30%\n",
        "df4 = pd.read_csv('./simulation_results/2023-04-12_05-44-19.csv') # STGCN, ITSTGCN random 40%\n",
        "df5 = pd.read_csv('./simulation_results/2023-04-12_17-03-28.csv') # STGCN, ITSTGCN random 50%\n",
        "df6 = pd.read_csv('./simulation_results/2023-04-13_18-59-17.csv') # STGCN, ITSTGCN block cubic\n",
        "df7 = pd.read_csv('./simulation_results/2023-04-14_00-57-11.csv') # STGCN, ITSTGCN block linear\n",
        "df8 = pd.read_csv('./simulation_results/2023-04-14_12-55-58.csv') # STGCN, ITSTGCN 0% missing\n",
        "df9 = pd.read_csv('./simulation_results/2023-05-08_01-09-23.csv')\n",
        "df10 = pd.read_csv('./simulation_results/2023-05-08_05-47-08.csv')"
      ],
      "id": "3e66680d-3b56-4295-b4da-c8988c6ceb77"
    },
    {
      "cell_type": "code",
      "execution_count": 41,
      "metadata": {},
      "outputs": [],
      "source": [
        "data = pd.concat([df1,df2,df3,df4,df5,df6,df7,df8,df9,df10],axis=0);data"
      ],
      "id": "3a15858e-07b2-460c-86c6-49ee4deeb10d"
    },
    {
      "cell_type": "code",
      "execution_count": 42,
      "metadata": {},
      "outputs": [],
      "source": [
        "data.to_csv('./simulation_results/Real_simulation/chikenpox_Simulation.csv',index=False)"
      ],
      "id": "158398fa-ae55-4525-8535-eb323b1c4b6b"
    },
    {
      "cell_type": "code",
      "execution_count": 43,
      "metadata": {},
      "outputs": [],
      "source": [
        "data = pd.read_csv('./simulation_results/Real_simulation/chikenpox_Simulation.csv')"
      ],
      "id": "dc861068-2821-4447-a4b7-3cb5b4a0ed8c"
    },
    {
      "cell_type": "code",
      "execution_count": 44,
      "metadata": {},
      "outputs": [],
      "source": [
        "data.query(\"method=='GNAR' and mtype == 'rand'\")['mse'].mean(),data.query(\"method=='GNAR' and mtype != 'rand'\")['mse'].mean()"
      ],
      "id": "9a0b2a6e-a412-4f1f-a294-796fb82b3f74"
    },
    {
      "cell_type": "code",
      "execution_count": 45,
      "metadata": {},
      "outputs": [],
      "source": [
        "data.query(\"method=='STGCN' and mtype == 'rand'\")['mse'].mean(),data.query(\"method=='STGCN' and mtype != 'rand'\")['mse'].mean()"
      ],
      "id": "29b99b70-5334-4686-b0e3-b89b4e60d244"
    },
    {
      "cell_type": "code",
      "execution_count": 46,
      "metadata": {},
      "outputs": [],
      "source": [
        "data.query(\"method=='IT-STGCN' and mtype == 'rand'\")['mse'].mean(),data.query(\"method=='IT-STGCN' and mtype != 'rand'\")['mse'].mean()"
      ],
      "id": "0800e188-aac3-45b9-8e46-31fea135e611"
    },
    {
      "cell_type": "code",
      "execution_count": 47,
      "metadata": {},
      "outputs": [],
      "source": [
        "data.query(\"method!='GNAR' and mrate ==0 \").plot.box(backend='plotly',x='mrate',color='method',y='mse',facet_col='nof_filters',height=600)\n"
      ],
      "id": "46143ee6-6a73-4599-9cf2-77bf474a4efb"
    },
    {
      "cell_type": "code",
      "execution_count": 48,
      "metadata": {},
      "outputs": [],
      "source": [
        "data.query(\"method!='GNAR' and mtype =='rand' and mrate !=0.8 and mrate!=0.9 \").plot.box(backend='plotly',x='mrate',color='method',y='mse',facet_col='nof_filters',facet_row='inter_method',height=800)\n"
      ],
      "id": "75afe265-7926-4124-aca8-00b94ba52c2f"
    },
    {
      "cell_type": "code",
      "execution_count": 49,
      "metadata": {},
      "outputs": [],
      "source": [
        "data.query(\"method!='GNAR' and mtype =='rand' and (mrate==0.8 or mrate==0.9)\").plot.box(backend='plotly',x='mrate',color='method',y='mse',facet_col='nof_filters',facet_row='inter_method',height=800)\n"
      ],
      "id": "7ec01707-8dc4-4239-a079-1c2a32863028"
    },
    {
      "cell_type": "code",
      "execution_count": 50,
      "metadata": {},
      "outputs": [],
      "source": [
        "data.query(\"method!='GNAR' and mtype =='block' \").plot.box(backend='plotly',x='mrate',color='method',y='mse',facet_col='nof_filters',facet_row='inter_method',height=800)\n"
      ],
      "id": "e257e6a0-bfa1-4113-9849-950527d91ff8"
    },
    {
      "cell_type": "markdown",
      "metadata": {},
      "source": [
        "# Chickenpox DCRNN result"
      ],
      "id": "2c158fd1-4649-4ded-bcae-0cbed4761e69"
    },
    {
      "cell_type": "code",
      "execution_count": 241,
      "metadata": {},
      "outputs": [],
      "source": [
        "df1 = pd.read_csv('./simulation_results/2023-05-15_05-35-30.csv')\n",
        "# df2 = pd.read_csv('./simulation_results/2023-04-22_05-38-23.csv')\n",
        "# df3 = pd.read_csv('./simulation_results/2023-04-22_20-41-26.csv')\n",
        "# df4 = pd.read_csv('./simulation_results/2023-04-23_13-13-49.csv')\n",
        "# df5 = pd.read_csv('./simulation_results/2023-04-23_18-03-50.csv')"
      ],
      "id": "28bf23d3-ec25-4a59-9dc2-c4b8a3d94745"
    },
    {
      "cell_type": "code",
      "execution_count": 242,
      "metadata": {},
      "outputs": [],
      "source": [
        "data = pd.concat([df1],axis=0)"
      ],
      "id": "c8d7dfa0-934a-4e19-8bc9-247d50f6b7df"
    },
    {
      "cell_type": "code",
      "execution_count": 243,
      "metadata": {},
      "outputs": [],
      "source": [
        "data.to_csv('./simulation_results/DCRNN/chickenpox_DCRNN.csv',index=False)"
      ],
      "id": "2978fb9e-4653-4105-935f-a01de95f44e1"
    },
    {
      "cell_type": "code",
      "execution_count": 244,
      "metadata": {},
      "outputs": [],
      "source": [
        "data = pd.read_csv('./simulation_results/DCRNN/chickenpox_DCRNN.csv')"
      ],
      "id": "009e63fb-7dd7-4795-8e3b-9b71907bbac8"
    },
    {
      "cell_type": "markdown",
      "metadata": {},
      "source": [
        "# Pedalme\n",
        "\n",
        "데이터셋 미싱이 0.8일때\n",
        "\n",
        "`The number of derivatives at boundaries does not match: expected 1, got 0+0`\n",
        "\n",
        "해당 오류, 즉 미분되지 않는 오류가 생긴다.\n",
        "\n",
        "-   공식 패키지: lags 4 지정\n",
        "-   mrate = 0.3\n",
        "-   nof_filters = 12\n",
        "    -   필터 클수록 mse 안정적으로 보임!\n",
        "-   lags = 4, 8\n",
        "    -   lags 클 수록 커지는 경향이 있지만,\n",
        "    -   lags 크니까 GNAR보다 mse 평균적으로 낮게 보인다.\n",
        "-   GNAR보다 MSE는 낮음\n",
        "-   cal_time\n",
        "    -   mean = 1초도 안 된다!\n",
        "    -   max = 6초!\n",
        "\n",
        "random"
      ],
      "id": "15d534b9-7aba-44be-93f3-b1d9a375c095"
    },
    {
      "cell_type": "code",
      "execution_count": 58,
      "metadata": {},
      "outputs": [],
      "source": [
        "data = pd.read_csv('./simulation_results/pedalme_random.csv');data"
      ],
      "id": "3677020d-9632-4d20-8ff2-8b6d02667df3"
    },
    {
      "cell_type": "code",
      "execution_count": 59,
      "metadata": {},
      "outputs": [],
      "source": [
        "data.query(\"method!='GNAR'\")['calculation_time'].mean(),data.query(\"method!='GNAR'\")['calculation_time'].max(),data.query(\"method!='GNAR'\")['calculation_time'].min()"
      ],
      "id": "d4cfa3fe-cf90-476c-87cf-ddd1931233ff"
    },
    {
      "cell_type": "code",
      "execution_count": 60,
      "metadata": {},
      "outputs": [],
      "source": [
        "data.query(\"mtype=='rand' and method!='GNAR' and lags!=4\").plot.box(backend='plotly',x='mrate',color='method',y='mse',facet_col='lags',facet_row='nof_filters',height=1200)\n"
      ],
      "id": "1e9fd913-df98-4b94-9677-f0ab05d06977"
    },
    {
      "cell_type": "code",
      "execution_count": 61,
      "metadata": {},
      "outputs": [],
      "source": [
        "data.query(\"mtype=='rand' and method!='GNAR' and mrate==0.7\").plot.box(backend='plotly',x='inter_method',color='method',y='mse',facet_col='lags',facet_row='nof_filters',height=1200)\n"
      ],
      "id": "eb294b5d-db75-49b1-9ad5-0145343c4e5c"
    },
    {
      "cell_type": "code",
      "execution_count": 62,
      "metadata": {},
      "outputs": [],
      "source": [
        "data.query(\"mtype=='rand' and method!='GNAR' and mrate==0.3\").plot.box(backend='plotly',x='inter_method',color='method',y='mse',facet_col='lags',facet_row='nof_filters',height=1200)\n"
      ],
      "id": "32411e8e-be96-43c4-af81-88d5c019e354"
    },
    {
      "cell_type": "code",
      "execution_count": 63,
      "metadata": {},
      "outputs": [],
      "source": [
        "data.query(\"method=='GNAR'\").plot.box(backend='plotly',x='mtype',color='method',y='mse',facet_col='lags',height=600)\n"
      ],
      "id": "6214ff94-d0c7-4b20-be30-000dd09c09d4"
    },
    {
      "cell_type": "markdown",
      "metadata": {},
      "source": [
        "시뮬 예정(평균 시간, 평균mse)\n",
        "\n",
        "lags 4,8\n",
        "\n",
        "mrate 0.3~0.6"
      ],
      "id": "d7e0fc6e-8415-4c09-a93e-ae05f9c2e5ff"
    },
    {
      "cell_type": "code",
      "execution_count": 64,
      "metadata": {},
      "outputs": [],
      "source": [
        "# 1. mrate = 0.3, filter = 4, epoch = 50, lags = 4\n",
        "data.query(\"method !='GNAR' and mrate==0.3 and inter_method=='cubic' and nof_filters==12 and lags==8\")['calculation_time'].mean(),data.query(\"method !='GNAR' and mrate==0.3 and inter_method=='cubic' and nof_filters==12 and lags==8\")['mse'].mean()"
      ],
      "id": "efe3f131-50c2-4ee6-9f36-741843f6674a"
    },
    {
      "cell_type": "code",
      "execution_count": 65,
      "metadata": {},
      "outputs": [],
      "source": [
        "data.query(\"method !='GNAR' and mrate==0.3 and inter_method=='cubic' and nof_filters==12 and lags==8\").plot.box(backend='plotly',x='mrate',color='method',y='mse',facet_col='lags',facet_row='nof_filters',height=400)"
      ],
      "id": "fe93f37f-33b3-46ee-ba40-959afac334ad"
    },
    {
      "cell_type": "markdown",
      "metadata": {},
      "source": [
        "block"
      ],
      "id": "a8e4cf5b-7179-4020-8d1f-dcb99af8a0b4"
    },
    {
      "cell_type": "code",
      "execution_count": 66,
      "metadata": {},
      "outputs": [],
      "source": [
        "data = pd.read_csv('./simulation_results/pedalme_block.csv');data"
      ],
      "id": "9301d873-3e67-4d9c-ba16-1c32ed052cb9"
    },
    {
      "cell_type": "markdown",
      "metadata": {},
      "source": [
        "missing rate 조정하기 30~50% 여러개 block 해서"
      ],
      "id": "6d7fbb86-de12-4a20-a243-d21fc22c425a"
    },
    {
      "cell_type": "code",
      "execution_count": 67,
      "metadata": {},
      "outputs": [],
      "source": [
        "data.query(\"method!='GNAR'\").plot.box(backend='plotly',x='inter_method',color='method',y='mse',facet_col='lags',facet_row='nof_filters',height=1200)\n"
      ],
      "id": "5c4e1ab3-bf8f-4387-a652-85b2eb0777b8"
    },
    {
      "cell_type": "markdown",
      "metadata": {},
      "source": [
        "시뮬 예정(평균 시간, 평균mse)"
      ],
      "id": "1b48c68a-8140-4207-a3d9-d2c7bec8cde5"
    },
    {
      "cell_type": "code",
      "execution_count": 68,
      "metadata": {},
      "outputs": [],
      "source": [
        "data.query(\"inter_method=='linear' and nof_filters==12 and lags==4\").plot.box(backend='plotly',x='mrate',color='method',y='mse',facet_col='lags',facet_row='nof_filters',height=400)"
      ],
      "id": "d3274662-3cad-4080-bfae-42c60e92e07e"
    },
    {
      "cell_type": "markdown",
      "metadata": {},
      "source": [
        "# pedalme simulation result\n",
        "\n",
        "block1\n",
        "\n",
        "``` python\n",
        "my_list = [[] for _ in range(15)] #pedalme\n",
        "another_list = list(range(5,25))\n",
        "my_list[1] = another_list\n",
        "my_list[3] = another_list\n",
        "my_list[5] = another_list\n",
        "my_list[7] = another_list\n",
        "my_list[9] = another_list\n",
        "my_list[11] = another_list\n",
        "mindex = my_list\n",
        "```\n",
        "\n",
        "block 30% missing을 위한 조건\n",
        "\n",
        "block2\n",
        "\n",
        "``` python\n",
        "my_list = [[] for _ in range(15)] #pedalme\n",
        "another_list = list(range(10,25))\n",
        "my_list[2] = another_list\n",
        "my_list[4] = another_list\n",
        "my_list[5] = another_list\n",
        "my_list[11] = another_list\n",
        "mindex = my_list\n",
        "```\n",
        "\n",
        "block 30% missing을 위한 조건"
      ],
      "id": "c8e98cd8-abd3-4923-9c75-80dec1cdf6cd"
    },
    {
      "cell_type": "code",
      "execution_count": 220,
      "metadata": {},
      "outputs": [],
      "source": [
        "df1 = pd.read_csv('./simulation_results/2023-04-13_20-37-59.csv') # STGCN, ITSTGCN random 0%,30%, 40%\n",
        "df2 = pd.read_csv('./simulation_results/2023-04-13_21-29-38.csv') # STGCN, ITSTGCN random 50%, 60%\n",
        "df3 = pd.read_csv('./simulation_results/2023-04-15_01-08-16.csv') # GNAR random 30%, 40%, 50%, 60%\n",
        "df4 = pd.read_csv('./simulation_results/2023-04-13_21-56-36.csv') # GNAR block 30%\n",
        "df5 = pd.read_csv('./simulation_results/2023-04-15_01-08-16.csv') # GNAR random 30%, 40%, 50%\n",
        "df6 = pd.read_csv('./simulation_results/2023-04-15_01-38-46.csv') # STGCN, ITSTGCN block 2\n",
        "df7 = pd.read_csv('./simulation_results/2023-04-23_15-17-33.csv') # GNAR 60%\n",
        "df8 = pd.read_csv('./simulation_results/2023-04-23_15-25-09.csv') # GNAR block 1\n",
        "df9 = pd.read_csv('./simulation_results/2023-04-23_15-41-20.csv') # GNAR block 2\n",
        "df10 = pd.read_csv('./simulation_results/2023-04-23_16-25-28.csv') # STGCN,IT-STGCN block 2\n",
        "df11 = pd.read_csv('./simulation_results/2023-04-19_00-13-29.csv')\n",
        "df12 = pd.read_csv('./simulation_results/2023-05-14_21-01-41.csv')"
      ],
      "id": "d4636a02-2db0-4676-a73b-9c7566c258f4"
    },
    {
      "cell_type": "code",
      "execution_count": 221,
      "metadata": {},
      "outputs": [],
      "source": [
        "data = pd.concat([df1,df2,df3,df4,df5,df6,df7,df8,df9,df10,df11,df12],axis=0)"
      ],
      "id": "d22955cb-e046-49c8-890a-52ffe13e237d"
    },
    {
      "cell_type": "code",
      "execution_count": 222,
      "metadata": {},
      "outputs": [],
      "source": [
        "data.to_csv('./simulation_results/Real_simulation/pedalme_Simulation.csv',index=False)"
      ],
      "id": "ee3ef5e8-7298-49dd-b21f-9644c30b5f77"
    },
    {
      "cell_type": "code",
      "execution_count": 223,
      "metadata": {},
      "outputs": [],
      "source": [
        "data = pd.read_csv('./simulation_results/Real_simulation/pedalme_Simulation.csv')"
      ],
      "id": "446c16b2-85d5-4f90-b214-fe80c77bd0c9"
    },
    {
      "cell_type": "code",
      "execution_count": 224,
      "metadata": {},
      "outputs": [],
      "source": [
        "data.query(\"method=='GNAR' and mtype == 'rand'\")['mse'].mean(),data.query(\"method=='GNAR' and mtype != 'rand'\")['mse'].mean()"
      ],
      "id": "e8c18362-e1fc-44f7-bb5c-e1215d33d3a9"
    },
    {
      "cell_type": "code",
      "execution_count": 225,
      "metadata": {},
      "outputs": [],
      "source": [
        "data.query(\"method=='STGCN' and mtype == 'rand'\")['mse'].mean(),data.query(\"method=='STGCN' and mtype != 'rand'\")['mse'].mean()"
      ],
      "id": "03d6db8a-fb11-4ba4-9541-06f4f67b8e04"
    },
    {
      "cell_type": "code",
      "execution_count": 226,
      "metadata": {},
      "outputs": [],
      "source": [
        "data.query(\"method=='IT-STGCN' and mtype == 'rand'\")['mse'].mean(),data.query(\"method=='IT-STGCN' and mtype != 'rand'\")['mse'].mean()"
      ],
      "id": "897c9ac6-4077-4cdd-912e-a8d359a540c2"
    },
    {
      "cell_type": "markdown",
      "metadata": {},
      "source": [
        "## Baseline"
      ],
      "id": "852a4bdb-eb59-450e-bd85-d0074d8addc9"
    },
    {
      "cell_type": "code",
      "execution_count": 227,
      "metadata": {},
      "outputs": [],
      "source": [
        "data.query(\"method!='GNAR' and mrate ==0 \").plot.box(backend='plotly',x='epoch',color='method',y='mse',facet_col='lags',height=800)\n"
      ],
      "id": "429ad814-50ce-46a1-bb68-fd654777cb35"
    },
    {
      "cell_type": "markdown",
      "metadata": {},
      "source": [
        "## random"
      ],
      "id": "9220a442-d6f2-4eb5-aae4-580f382ffb50"
    },
    {
      "cell_type": "code",
      "execution_count": 228,
      "metadata": {},
      "outputs": [],
      "source": [
        "data.query(\"method!='GNAR' and mtype =='rand' \").plot.box(backend='plotly',x='mrate',color='method',y='mse',facet_col='lags',facet_row='inter_method',height=800)\n"
      ],
      "id": "f636466a-c4ca-446d-8eaa-ceab2af9a683"
    },
    {
      "cell_type": "markdown",
      "metadata": {},
      "source": [
        "## block"
      ],
      "id": "bf185b7b-3bbd-494e-a1dc-e97d7e2a49f2"
    },
    {
      "cell_type": "code",
      "execution_count": 181,
      "metadata": {},
      "outputs": [],
      "source": [
        "data.query(\"method!='GNAR' and mtype =='block' and inter_method=='cubic' \").plot.box(backend='plotly',x='mrate',color='method',y='mse',facet_col='lags',facet_row='inter_method',height=600)\n"
      ],
      "id": "03830cde-6dbb-4c1c-b3f7-4f05b171fdd0"
    },
    {
      "cell_type": "code",
      "execution_count": 182,
      "metadata": {},
      "outputs": [],
      "source": [
        "data.query(\"method!='GNAR' and mtype =='block' and inter_method!='cubic' \").plot.box(backend='plotly',x='mrate',color='method',y='mse',facet_col='lags',facet_row='inter_method',height=600)\n"
      ],
      "id": "5884a2cf-e147-4bf4-a6dd-7ca29012d0ec"
    },
    {
      "cell_type": "markdown",
      "metadata": {},
      "source": [
        "## weight matrix time, node 고려한 결과"
      ],
      "id": "6282a43e-255f-4de9-98d3-b6e6e3ccb97e"
    },
    {
      "cell_type": "code",
      "execution_count": 84,
      "metadata": {},
      "outputs": [],
      "source": [
        "df1 = pd.read_csv('./simulation_results/2023-04-30_13-00-12.csv')\n",
        "df2 = pd.read_csv('./simulation_results/2023-04-30_13-31-32.csv')\n",
        "df3 = pd.read_csv('./simulation_results/2023-04-30_14-01-49.csv')\n",
        "df4 = pd.read_csv('./simulation_results/2023-04-30_14-31-56.csv')\n",
        "df5 = pd.read_csv('./simulation_results/2023-04-30_15-02-23.csv')\n",
        "df6 = pd.read_csv('./simulation_results/2023-04-30_15-33-03.csv')\n",
        "df7 = pd.read_csv('./simulation_results/2023-04-30_16-07-43.csv')\n",
        "df8 = pd.read_csv('./simulation_results/2023-04-30_16-41-35.csv')\n",
        "df9 = pd.read_csv('./simulation_results/2023-04-30_17-14-51.csv')\n",
        "df10 = pd.read_csv('./simulation_results/2023-04-30_17-49-34.csv')\n",
        "df11 = pd.read_csv('./simulation_results/2023-04-30_18-21-29.csv')\n",
        "df12 = pd.read_csv('./simulation_results/2023-04-30_18-50-24.csv')\n",
        "df13 = pd.read_csv('./simulation_results/2023-04-30_20-33-28.csv')\n",
        "df14 = pd.read_csv('./simulation_results/2023-05-04_16-40-05.csv')\n",
        "df15 = pd.read_csv('./simulation_results/2023-05-04_17-34-00.csv')"
      ],
      "id": "720eef33-a93e-4018-9f30-867b9446b918"
    },
    {
      "cell_type": "code",
      "execution_count": 85,
      "metadata": {},
      "outputs": [],
      "source": [
        "data2 = pd.concat([df1,df2,df3,df4,df5,df6,df7,df8,df9,df10,df11,df12,df13,df14,df15],axis=0)"
      ],
      "id": "970e0d05-641f-4e2b-83f8-7995279164c6"
    },
    {
      "cell_type": "code",
      "execution_count": 86,
      "metadata": {},
      "outputs": [],
      "source": [
        "data2.to_csv('./simulation_results/Real_simulation/pedalme_Simulation_itstgcnsnd.csv',index=False)"
      ],
      "id": "e4343248-a16d-47a3-9886-4ccb53c7aa45"
    },
    {
      "cell_type": "code",
      "execution_count": 87,
      "metadata": {},
      "outputs": [],
      "source": [
        "data2 = pd.read_csv('./simulation_results/Real_simulation/pedalme_Simulation_itstgcnsnd.csv')"
      ],
      "id": "68c1f3d7-7e0f-4a6d-82d7-ba671275701a"
    },
    {
      "cell_type": "code",
      "execution_count": 88,
      "metadata": {},
      "outputs": [],
      "source": [
        "data2.query(\"mtype!='block'\").plot.box(backend='plotly',x='mrate',color='method',y='mse',facet_col='lags',facet_row='inter_method',height=1000)"
      ],
      "id": "908c378b-03a2-4bab-95ad-152d13daea50"
    },
    {
      "cell_type": "code",
      "execution_count": 89,
      "metadata": {},
      "outputs": [],
      "source": [
        "data2.query(\"mtype=='block'\").plot.box(backend='plotly',x='mrate',color='method',y='mse',facet_col='lags',facet_row='inter_method',height=1200)"
      ],
      "id": "58bc9f15-e745-45c9-94de-8985f2e887af"
    },
    {
      "cell_type": "markdown",
      "metadata": {},
      "source": [
        "# Pedalme DCRNN"
      ],
      "id": "a1e31f7f-71ed-40ef-a94f-e58392d4cb64"
    },
    {
      "cell_type": "code",
      "execution_count": 210,
      "metadata": {},
      "outputs": [],
      "source": [
        "df1 = pd.read_csv('./simulation_results/2023-05-14_19-04-26.csv')\n",
        "# df2 = pd.read_csv('./simulation_results/2023-04-27_22-09-07.csv')\n",
        "# df3 = pd.read_csv('./simulation_results/2023-04-28_14-40-59.csv')"
      ],
      "id": "86178d3e-5f57-4929-8470-15da8ff0cfa6"
    },
    {
      "cell_type": "code",
      "execution_count": 211,
      "metadata": {},
      "outputs": [],
      "source": [
        "data = pd.concat([df1],axis=0)"
      ],
      "id": "289d8aff-acb5-46eb-8792-056a8214e82b"
    },
    {
      "cell_type": "code",
      "execution_count": 212,
      "metadata": {},
      "outputs": [],
      "source": [
        "data"
      ],
      "id": "73bd90e6-c720-4efc-a832-f196a9d45454"
    },
    {
      "cell_type": "code",
      "execution_count": 213,
      "metadata": {},
      "outputs": [],
      "source": [
        "data.to_csv('./simulation_results/DCRNN/pedalme_DVRNN.csv',index=False)"
      ],
      "id": "b0084019-c238-4ae1-bc2d-53f518915080"
    },
    {
      "cell_type": "code",
      "execution_count": 214,
      "metadata": {},
      "outputs": [],
      "source": [
        "data = pd.read_csv('./simulation_results/DCRNN/pedalme_DVRNN.csv')"
      ],
      "id": "22deff62-42f1-4498-aebe-a12df6c7ef0e"
    },
    {
      "cell_type": "markdown",
      "metadata": {},
      "source": [
        "# Wikimath\n",
        "\n",
        "-   공식 패키지: lags 8 지정\n",
        "-   오히려 cuboic 보다 linear가 더 잘 맞추는 경향\n",
        "-   mrate = 0.3\n",
        "    -   크면 이상치 심하게 나와서 작게 잡기\n",
        "-   nof_filters = 12, 16\n",
        "    -   필터 크니까 mse 내려감\n",
        "-   lags = 2,\n",
        "-   cal_time\n",
        "    -   mean = 71s\n",
        "    -   max = 212s\n",
        "\n",
        "random epoch 1번"
      ],
      "id": "6c2ce564-0fbd-4461-a1ad-dc7b6af3c880"
    },
    {
      "cell_type": "code",
      "execution_count": 90,
      "metadata": {},
      "outputs": [],
      "source": [
        "df1 = pd.read_csv('./simulation_results/2023-04-15_16-58-03.csv')\n",
        "df2 = pd.read_csv('./simulation_results/2023-04-15_17-01-39.csv')\n",
        "df3 = pd.read_csv('./simulation_results/2023-04-15_17-07-23.csv')\n",
        "df4 = pd.read_csv('./simulation_results/2023-04-15_17-13-13.csv')\n",
        "df5 = pd.read_csv('./simulation_results/2023-04-15_17-29-49.csv')"
      ],
      "id": "5761c795-86de-4eef-9674-daf1667923dd"
    },
    {
      "cell_type": "code",
      "execution_count": 91,
      "metadata": {},
      "outputs": [],
      "source": [
        "data = pd.concat([df1,df2,df3,df4,df5],axis=0)"
      ],
      "id": "08079425-eb8a-426c-930c-462db460fb87"
    },
    {
      "cell_type": "code",
      "execution_count": 92,
      "metadata": {},
      "outputs": [],
      "source": [
        "data.query(\"method=='STGCN'\").sort_values(['mrate','lags','nof_filters'])"
      ],
      "id": "dfa56665-adc0-4ff2-80ea-07c922b80347"
    },
    {
      "cell_type": "code",
      "execution_count": 93,
      "metadata": {},
      "outputs": [],
      "source": [
        "data.query(\"method!='STGCN'\").sort_values(['mrate','lags','nof_filters'])"
      ],
      "id": "7d22ba82-d462-497a-b0ca-79236c106229"
    },
    {
      "cell_type": "markdown",
      "metadata": {},
      "source": [
        "# Wikimath simulation result"
      ],
      "id": "21f0b2af-d3bc-4c22-aefe-48b5d47f5ba6"
    },
    {
      "cell_type": "code",
      "execution_count": 94,
      "metadata": {},
      "outputs": [],
      "source": [
        "df1 = pd.read_csv('./simulation_results/2023-04-21_14-32-44.csv')\n",
        "df2 = pd.read_csv('./simulation_results/2023-04-22_05-38-23.csv')\n",
        "df3 = pd.read_csv('./simulation_results/2023-04-22_20-41-26.csv')\n",
        "df4 = pd.read_csv('./simulation_results/2023-04-23_13-13-49.csv')\n",
        "df5 = pd.read_csv('./simulation_results/2023-04-23_18-03-50.csv')\n",
        "df6 = pd.read_csv('./simulation_results/2023-04-24_18-25-09.csv')\n",
        "df7 = pd.read_csv('./simulation_results/2023-04-24_03-33-57.csv')\n",
        "df8 = pd.read_csv('./simulation_results/2023-04-25_11-18-21.csv')\n",
        "df9 = pd.read_csv('./simulation_results/2023-04-25_22-51-21.csv')\n",
        "df10 = pd.read_csv('./simulation_results/2023-04-26_07-35-21.csv')\n",
        "df11 = pd.read_csv('./simulation_results/2023-04-28_18-07-23.csv')\n",
        "df12 = pd.read_csv('./simulation_results/2023-04-30_04-35-07.csv')\n",
        "df13 = pd.read_csv('./simulation_results/2023-05-08_12-07-28.csv')\n",
        "df14 = pd.read_csv('./simulation_results/2023-05-09_02-26-26.csv')\n",
        "df15 = pd.read_csv('./simulation_results/2023-05-09_09-10-12.csv')\n",
        "df16 = pd.read_csv('./simulation_results/2023-05-09_15-42-43.csv')\n",
        "df17 = pd.read_csv('./simulation_results/2023-05-09_21-48-31.csv')\n",
        "df18 = pd.read_csv('./simulation_results/2023-05-10_02-17-07.csv')\n",
        "df19 = pd.read_csv('./simulation_results/2023-05-10_06-35-14.csv')"
      ],
      "id": "72dcb6b8-b2df-41e4-8ebd-5eb2a02c97af"
    },
    {
      "cell_type": "code",
      "execution_count": 95,
      "metadata": {},
      "outputs": [],
      "source": [
        "data = pd.concat([df1,df2,df3,df4,df5,df6,df7,df8,df9,df10,df11,df12,df13,df14,df15,df16,df17,\n",
        "                 df18,df19],axis=0)"
      ],
      "id": "2bdf1359-250a-4f81-b2e7-bfc3f4a15907"
    },
    {
      "cell_type": "code",
      "execution_count": 96,
      "metadata": {},
      "outputs": [],
      "source": [
        "data.to_csv('./simulation_results/Real_simulation/wikimath.csv',index=False)"
      ],
      "id": "fe47b372-5e6c-485c-875c-3c8d879aabe5"
    },
    {
      "cell_type": "code",
      "execution_count": 97,
      "metadata": {},
      "outputs": [],
      "source": [
        "data = pd.read_csv('./simulation_results/Real_simulation/wikimath.csv')"
      ],
      "id": "0e5750a8-48a8-4f57-8650-1894b033996a"
    },
    {
      "cell_type": "markdown",
      "metadata": {},
      "source": [
        "## Baseline"
      ],
      "id": "548cf595-c1b1-4895-bd72-8200e7c95d70"
    },
    {
      "cell_type": "code",
      "execution_count": 98,
      "metadata": {},
      "outputs": [],
      "source": [
        "data.query(\"mrate==0 and method!='GNAR'\").plot.box(backend='plotly',x='mrate',color='method',y='mse',facet_col='lags',facet_row='nof_filters',height=600)"
      ],
      "id": "7d4918b2-c232-4662-b1be-0de7af39b71f"
    },
    {
      "cell_type": "markdown",
      "metadata": {},
      "source": [
        "## random"
      ],
      "id": "3c11a4b5-a5c7-47c6-8386-95e2a0683777"
    },
    {
      "cell_type": "code",
      "execution_count": 99,
      "metadata": {},
      "outputs": [],
      "source": [
        "data.query(\"method=='GNAR'\").groupby('mrate')['mse'].unique()"
      ],
      "id": "1abc4fa9-9f37-46f4-af96-717b60ddffbe"
    },
    {
      "cell_type": "code",
      "execution_count": 100,
      "metadata": {},
      "outputs": [],
      "source": [
        "data.query(\"mtype=='rand' and mrate !=0 and method!='GNAR'\").plot.box(backend='plotly',x='mrate',color='method',y='mse',facet_col='lags',facet_row='nof_filters',height=1200)\n"
      ],
      "id": "a9f65ed7-9c7c-41a7-8db0-bb0e155e75e4"
    },
    {
      "cell_type": "markdown",
      "metadata": {},
      "source": [
        "## block"
      ],
      "id": "623b9f33-6709-4f44-b1fe-8d2e8dd40e3c"
    },
    {
      "cell_type": "code",
      "execution_count": 215,
      "metadata": {},
      "outputs": [],
      "source": [
        "df1 = pd.read_csv('./simulation_results/2023-04-27_07-50-11.csv')\n",
        "df2 = pd.read_csv('./simulation_results/2023-04-27_22-09-07.csv')\n",
        "df3 = pd.read_csv('./simulation_results/2023-04-28_14-40-59.csv')\n",
        "df4 = pd.read_csv('./simulation_results/2023-05-14_19-46-46.csv')\n",
        "# df5 = pd.read_csv('./simulation_results/2023-05-14_19-46-46.csv')"
      ],
      "id": "704cf012-e6ee-42e3-85a2-4668982b964b"
    },
    {
      "cell_type": "code",
      "execution_count": 216,
      "metadata": {},
      "outputs": [],
      "source": [
        "data = pd.concat([df1,df2,df3,df4],axis=0)"
      ],
      "id": "01f04ed7-e2f8-457a-bbcb-d0a03ceb46b1"
    },
    {
      "cell_type": "code",
      "execution_count": 217,
      "metadata": {},
      "outputs": [],
      "source": [
        "data.to_csv('./simulation_results/Real_simulation/wikimath_block.csv',index=False)"
      ],
      "id": "14397f3b-803b-4d2c-90d6-80ccc807813b"
    },
    {
      "cell_type": "code",
      "execution_count": 218,
      "metadata": {},
      "outputs": [],
      "source": [
        "data = pd.read_csv('./simulation_results/Real_simulation/wikimath_block.csv')"
      ],
      "id": "93478317-e061-4cd7-8540-6d29374e0125"
    },
    {
      "cell_type": "code",
      "execution_count": 219,
      "metadata": {},
      "outputs": [],
      "source": [
        "data.query(\"mtype=='block' and method!='GNAR'\").plot.box(backend='plotly',x='mrate',color='method',y='mse',facet_col='lags',facet_row='nof_filters',height=1200)\n"
      ],
      "id": "6014ad2b-1970-4966-8c63-abec59fdd74c"
    },
    {
      "cell_type": "markdown",
      "metadata": {},
      "source": [
        "## missing values on the same nodes"
      ],
      "id": "c9a4d04e-471f-4545-8abf-809b6cc5b692"
    },
    {
      "cell_type": "code",
      "execution_count": 106,
      "metadata": {
        "tags": []
      },
      "outputs": [],
      "source": [
        "# 10%\n",
        "df1 = pd.read_csv('./simulation_results/2023-04-29_03-57-07.csv') # STGCN IT-STGCN block\n",
        "df2 = pd.read_csv('./simulation_results/2023-04-29_20-15-46.csv') # STGCN IT-STGCN\n",
        "df3 = pd.read_csv('./simulation_results/2023-04-30_16-19-58.csv') # STGCN IT-STGCN\n",
        "# 60% 확인하고 다시 돌리기\n",
        "df4 = pd.read_csv('./simulation_results/2023-05-05_04-21-57.csv') # STGCN IT-STGCN 60%\n",
        "df5 = pd.read_csv('./simulation_results/2023-05-06_11-34-46.csv') # STGCN IT-STGCN\n",
        "df6 = pd.read_csv('./simulation_results/2023-05-06_23-43-35.csv') # STGCN IT-STGCN\n",
        "df7 = pd.read_csv('./simulation_results/2023-05-07_14-06-44.csv') # STGCN IT-STGCN"
      ],
      "id": "f804b18a-149e-48d5-ab30-9a0516fc611b"
    },
    {
      "cell_type": "code",
      "execution_count": 107,
      "metadata": {},
      "outputs": [],
      "source": [
        "data = pd.concat([df1,df2,df3,df4,df5,df6,df7],axis=0)"
      ],
      "id": "8947c20f-0acb-41e8-9a89-d122bf2c0d18"
    },
    {
      "cell_type": "code",
      "execution_count": 108,
      "metadata": {},
      "outputs": [],
      "source": [
        "data.to_csv('./simulation_results/Real_simulation/wikimath_GSO_st.csv',index=False)"
      ],
      "id": "3082aa32-04c8-4a3e-9756-6634caf9c949"
    },
    {
      "cell_type": "code",
      "execution_count": 109,
      "metadata": {},
      "outputs": [],
      "source": [
        "data = pd.read_csv('./simulation_results/Real_simulation/wikimath_GSO_st.csv')"
      ],
      "id": "9d39029d-2027-4858-aa8a-11a8f3628762"
    },
    {
      "cell_type": "code",
      "execution_count": 110,
      "metadata": {},
      "outputs": [],
      "source": [
        "data.query(\"method=='GNAR'\")['mse'].unique()"
      ],
      "id": "17286ecf-c8b9-4ada-9058-3a364cf57d24"
    },
    {
      "cell_type": "code",
      "execution_count": 111,
      "metadata": {},
      "outputs": [],
      "source": [
        "data.query(\"method!='GNAR' and mtype =='block' \").plot.box(backend='plotly',x='mrate',color='method',y='mse',facet_col='inter_method',facet_row='lags',height=800)\n"
      ],
      "id": "5380ddb8-d5f5-49a0-b11f-89ad2db0ad41"
    },
    {
      "cell_type": "markdown",
      "metadata": {},
      "source": [
        "# Wikimath DCRNN result"
      ],
      "id": "7d31dc60-fffa-43b3-8b10-ee7aa37420c2"
    },
    {
      "cell_type": "code",
      "execution_count": 245,
      "metadata": {},
      "outputs": [],
      "source": [
        "df1 = pd.read_csv('./simulation_results/2023-05-15_00-20-42.csv')\n",
        "df2 = pd.read_csv('./simulation_results/2023-05-15_05-15-48.csv')\n",
        "df3 = pd.read_csv('./simulation_results/2023-05-15_08-26-11.csv')\n",
        "# df4 = pd.read_csv('./simulation_results/2023-04-23_13-13-49.csv')"
      ],
      "id": "b8ef8dc8-2158-437e-bd33-66f529136e88"
    },
    {
      "cell_type": "code",
      "execution_count": 246,
      "metadata": {},
      "outputs": [],
      "source": [
        "data = pd.concat([df1,df2,df3],axis=0)"
      ],
      "id": "a01fc0dc-a314-427e-82bc-1363c684efe3"
    },
    {
      "cell_type": "code",
      "execution_count": 247,
      "metadata": {},
      "outputs": [],
      "source": [
        "data.to_csv('./simulation_results/DCRNN/wikimath_DCRNN.csv',index=False)"
      ],
      "id": "984ac317-a39d-4475-a44e-ba567f79c036"
    },
    {
      "cell_type": "code",
      "execution_count": 248,
      "metadata": {},
      "outputs": [],
      "source": [
        "data = pd.read_csv('./simulation_results/DCRNN/wikimath_DCRNN.csv')"
      ],
      "id": "f1685486-7d8c-48d4-a630-40989761227b"
    },
    {
      "cell_type": "markdown",
      "metadata": {},
      "source": [
        "# Windmilmedium"
      ],
      "id": "72e484b6-1413-4d15-9092-74ff4af8877a"
    },
    {
      "cell_type": "code",
      "execution_count": 112,
      "metadata": {},
      "outputs": [],
      "source": [
        "df1 = pd.read_csv('./simulation_results/2023-04-15_09-06-12.csv') # GNAR\n",
        "df2 = pd.read_csv('./simulation_results/2023-04-15_09-19-44.csv') # STGCN IT-STGCN\n",
        "df3 = pd.read_csv('./simulation_results/2023-04-15_09-28-32.csv') # STGCN IT-STGCN\n",
        "df4 = pd.read_csv('./simulation_results/2023-04-15_09-36-55.csv') # STGCN IT-STGCN\n",
        "df5 = pd.read_csv('./simulation_results/2023-04-15_09-54-30.csv') # STGCN IT-STGCN\n",
        "df6 = pd.read_csv('./simulation_results/2023-04-15_10-03-08.csv') # STGCN IT-STGCN\n",
        "df7 = pd.read_csv('./simulation_results/2023-04-15_10-15-48.csv') # STGCN IT-STGCN\n",
        "df8 = pd.read_csv('./simulation_results/2023-04-15_10-25-19.csv') # STGCN IT-STGCN\n",
        "df9 = pd.read_csv('./simulation_results/2023-04-15_10-34-48.csv') # STGCN IT-STGCN\n",
        "df10 = pd.read_csv('./simulation_results/2023-04-15_10-43-02.csv') # STGCN IT-STGCN"
      ],
      "id": "3c394736-c155-43ca-91f4-d265042bc14b"
    },
    {
      "cell_type": "code",
      "execution_count": 113,
      "metadata": {},
      "outputs": [],
      "source": [
        "data = pd.concat([df1,df2,df3,df4,df5,df6,df7,df8,df9,df10],axis=0)"
      ],
      "id": "511dbe70-c9f6-49a2-ab61-a720f20c3b04"
    },
    {
      "cell_type": "code",
      "execution_count": 114,
      "metadata": {},
      "outputs": [],
      "source": [
        "data.query(\"method=='GNAR'\")"
      ],
      "id": "8e99d51b-fc73-4da1-9be5-2def5beba077"
    },
    {
      "cell_type": "code",
      "execution_count": 115,
      "metadata": {},
      "outputs": [],
      "source": [
        "data.query(\"method!='GNAR' and method=='STGCN'\").sort_values(['mrate','nof_filters'])"
      ],
      "id": "741c5ad9-a97a-48f3-bcbc-055587a431ba"
    },
    {
      "cell_type": "code",
      "execution_count": 116,
      "metadata": {},
      "outputs": [],
      "source": [
        "data.query(\"method!='GNAR' and method!='STGCN'\").sort_values(['mrate','nof_filters'])"
      ],
      "id": "5377dc50-9a6b-4560-b607-f797fb7f2f82"
    },
    {
      "cell_type": "markdown",
      "metadata": {},
      "source": [
        "linear, 0.7~0.9, 4,8,"
      ],
      "id": "d1c70746-c9e8-48d7-bf24-dc9965f88e72"
    },
    {
      "cell_type": "code",
      "execution_count": 117,
      "metadata": {},
      "outputs": [],
      "source": [
        "data.to_csv('./simulation_results/Real_simulation/windmilmedium_Simulation.csv',index=False)"
      ],
      "id": "1626990c-f510-44c9-be70-37258e85b2ca"
    },
    {
      "cell_type": "code",
      "execution_count": 118,
      "metadata": {},
      "outputs": [],
      "source": [
        "data.query(\"method!='GNAR'\")['calculation_time'].mean(),data.query(\"method!='GNAR'\")['calculation_time'].max(),data.query(\"method!='GNAR'\")['calculation_time'].min()"
      ],
      "id": "8ddaf033-9cba-4521-a1ad-b008ce80bd67"
    },
    {
      "cell_type": "markdown",
      "metadata": {},
      "source": [
        "# Windmillmedium simulation result"
      ],
      "id": "07efc1ff-36a1-442f-b430-b5ea7900ac46"
    },
    {
      "cell_type": "code",
      "execution_count": 189,
      "metadata": {},
      "outputs": [],
      "source": [
        "# df1 = pd.read_csv('./simulation_results/2023-05-08_02-08-10.csv')\n",
        "df2 = pd.read_csv('./simulation_results/2023-05-08_14-58-04.csv')\n",
        "df3 = pd.read_csv('./simulation_results/2023-05-09_03-44-04.csv')\n",
        "df4 = pd.read_csv('./simulation_results/2023-05-09_19-32-04.csv') # STGCN IT-STGCN\n",
        "df5 = pd.read_csv('./simulation_results/2023-05-10_01-07-21.csv') # STGCN IT-STGCN\n",
        "df6 = pd.read_csv('./simulation_results/2023-05-10_06-15-13.csv') # \n",
        "df7 = pd.read_csv('./simulation_results/2023-05-10_10-15-50.csv') # STGCN IT-STGCN\n",
        "df8 = pd.read_csv('./simulation_results/2023-05-10_14-09-03.csv') # STGCN IT-STGCN\n",
        "df9 = pd.read_csv('./simulation_results/2023-05-10_17-09-38.csv') # GNAR\n",
        "df10 = pd.read_csv('./simulation_results/2023-05-10_18-00-11.csv') # STGCN IT-STGCN\n",
        "df11 = pd.read_csv('./simulation_results/2023-05-10_21-50-37.csv') # STGCN IT-STGCN\n",
        "df12 = pd.read_csv('./simulation_results/2023-05-11_01-41-04.csv') # STGCN IT-STGCN\n",
        "df13 = pd.read_csv('./simulation_results/2023-05-11_05-31-29.csv') # STGCN IT-STGCN\n",
        "df14 = pd.read_csv('./simulation_results/2023-05-11_13-25-58.csv') # STGCN IT-STGCN\n",
        "df15 = pd.read_csv('./simulation_results/2023-05-11_13-26-45.csv') # STGCN IT-STGCN\n",
        "df16 = pd.read_csv('./simulation_results/2023-05-11_18-33-31.csv') # STGCN IT-STGCN\n",
        "df17 = pd.read_csv('./simulation_results/2023-05-11_18-39-14.csv') # STGCN IT-STGCN\n",
        "df18 = pd.read_csv('./simulation_results/2023-05-12_00-06-22.csv') # STGCN IT-STGCN\n",
        "df19 = pd.read_csv('./simulation_results/2023-05-12_00-10-51.csv') # STGCN IT-STGCN\n",
        "df20 = pd.read_csv('./simulation_results/2023-05-12_05-17-16.csv') # STGCN IT-STGCN\n",
        "df21 = pd.read_csv('./simulation_results/2023-05-12_05-17-50.csv') # STGCN IT-STGCN\n",
        "df22 = pd.read_csv('./simulation_results/2023-05-13_18-46-25.csv') # STGCN IT-STGCN\n",
        "df23 = pd.read_csv('./simulation_results/2023-05-13_18-47-00.csv') # STGCN IT-STGCN\n",
        "df24 = pd.read_csv('./simulation_results/2023-05-13_23-16-09.csv') # STGCN IT-STGCN\n",
        "df25 = pd.read_csv('./simulation_results/2023-05-13_23-20-14.csv') # STGCN IT-STGCN\n",
        "df26 = pd.read_csv('./simulation_results/2023-05-14_03-54-19.csv') # STGCN IT-STGCN\n",
        "df27 = pd.read_csv('./simulation_results/2023-05-14_08-16-42.csv') # STGCN IT-STGCN\n",
        "# df28 = pd.read_csv('./simulation_results/2023-05-03_13-43-11.csv') # STGCN IT-STGCN\n",
        "# df29 = pd.read_csv('./simulation_results/2023-05-03_21-58-04.csv') # STGCN IT-STGCN\n",
        "# df30 = pd.read_csv('./simulation_results/2023-05-04_04-39-00.csv') # STGCN IT-STGCN\n",
        "# df31 = pd.read_csv('./simulation_results/2023-04-23_15-22-36.csv') # \n",
        "# df32 = pd.read_csv('./simulation_results/2023-04-29_06-54-40.csv') #  \n",
        "# df33 = pd.read_csv('./simulation_results/2023-04-30_18-55-12.csv')\n",
        "# df34 = pd.read_csv('./simulation_results/2023-05-01_02-55-33.csv')\n",
        "# df35 = pd.read_csv('./simulation_results/2023-05-01_10-21-15.csv')\n",
        "# df36 = pd.read_csv('./simulation_results/2023-05-01_19-23-57.csv')\n",
        "# df37 = pd.read_csv('./simulation_results/2023-05-02_01-10-53.csv')\n",
        "# df38 = pd.read_csv('./simulation_results/2023-05-02_08-26-53.csv')\n",
        "# df39 = pd.read_csv('./simulation_results/2023-05-02_16-00-40.csv')\n",
        "# df40 = pd.read_csv('./simulation_results/2023-05-03_00-34-09.csv')\n",
        "# df41 = pd.read_csv('./simulation_results/2023-05-03_08-04-42.csv')\n",
        "# df42 = pd.read_csv('./simulation_results/2023-05-03_15-50-50.csv')\n",
        "# df43 = pd.read_csv('./simulation_results/2023-05-03_23-46-56.csv')\n",
        "# df44 = pd.read_csv('./simulation_results/2023-05-04_05-22-59.csv')\n",
        "# df45 = pd.read_csv('./simulation_results/2023-05-04_09-22-37.csv')\n",
        "# df46 = pd.read_csv('./simulation_results/2023-05-04_15-00-57.csv')\n",
        "# df47 = pd.read_csv('./simulation_results/2023-05-04_23-41-21.csv')\n",
        "# df48 = pd.read_csv('./simulation_results/2023-05-05_07-23-04.csv')\n",
        "# df49 = pd.read_csv('./simulation_results/2023-05-05_15-03-17.csv')\n",
        "# df50 = pd.read_csv('./simulation_results/2023-05-06_05-18-07.csv')\n",
        "# df51 = pd.read_csv('./simulation_results/2023-05-06_12-57-14.csv')\n",
        "# df52 = pd.read_csv('./simulation_results/2023-05-06_19-10-23.csv')\n",
        "# df53 = pd.read_csv('./simulation_results/2023-05-07_03-20-10.csv')\n",
        "# df54 = pd.read_csv('./simulation_results/2023-05-07_11-26-24.csv')\n",
        "# df55 = pd.read_csv('./simulation_results/2023-05-08_00-04-56.csv')\n",
        "# df56 = pd.read_csv('./simulation_results/2023-05-08_04-27-01.csv')\n",
        "# df57 = pd.read_csv('./simulation_results/2023-05-08_10-06-55.csv')\n",
        "# df58 = pd.read_csv('./simulation_results/2023-05-08_17-50-36.csv')\n",
        "# df59 = pd.read_csv('./simulation_results/2023-05-09_03-28-08.csv')\n",
        "# df60 = pd.read_csv('./simulation_results/2023-05-09_11-08-10.csv')\n",
        "# df61 = pd.read_csv('./simulation_results/2023-05-09_20-11-45.csv')"
      ],
      "id": "d1f32116-fb3c-478d-b35a-ba691314f281"
    },
    {
      "cell_type": "code",
      "execution_count": 190,
      "metadata": {},
      "outputs": [],
      "source": [
        "data = pd.concat([df2,df3,df4,df5,df6,df7,df8,df9,df10,df11,df12,df13,df14,\n",
        "                 df15,df16,df17,df18,df19,df20,df21,df22,df23,df24,df25,\n",
        "                 df26,df27],axis=0)"
      ],
      "id": "47ecfacc-6227-4952-92a9-8587ae04df02"
    },
    {
      "cell_type": "code",
      "execution_count": 191,
      "metadata": {},
      "outputs": [],
      "source": [
        "data.to_csv('./simulation_results/Real_simulation/windmillmedium.csv',index=False)"
      ],
      "id": "b90e96f6-b36c-4b7d-879a-0415d17c6ad4"
    },
    {
      "cell_type": "code",
      "execution_count": 192,
      "metadata": {},
      "outputs": [],
      "source": [
        "data = pd.read_csv('./simulation_results/Real_simulation/windmillmedium.csv')"
      ],
      "id": "8fa53c3d-9472-497f-8282-5f24d5fd5904"
    },
    {
      "cell_type": "code",
      "execution_count": 193,
      "metadata": {},
      "outputs": [],
      "source": [
        "data.query(\"method=='GNAR'\")['mse'].unique()"
      ],
      "id": "ae647010-d364-470c-98f2-98bdd82f8530"
    },
    {
      "cell_type": "code",
      "execution_count": 194,
      "metadata": {},
      "outputs": [],
      "source": [
        "data.query(\"method!='GNAR' and mrate ==0\").plot.box(backend='plotly',x='mrate',color='method',y='mse',facet_col='lags',height=800)\n"
      ],
      "id": "1beb3179-cfdc-4b3c-8514-e196213bac2c"
    },
    {
      "cell_type": "code",
      "execution_count": 195,
      "metadata": {},
      "outputs": [],
      "source": [
        "data.query(\"method!='GNAR' and mrate !=0\").plot.box(backend='plotly',x='mrate',color='method',y='mse',facet_col='lags',height=800)\n"
      ],
      "id": "49a4b03b-37d2-4658-94ff-cc0a2d1a093d"
    },
    {
      "cell_type": "markdown",
      "metadata": {},
      "source": [
        "# Windmilsmall"
      ],
      "id": "9c4e47e2-ad57-4e03-815b-bf0811001ceb"
    },
    {
      "cell_type": "code",
      "execution_count": 125,
      "metadata": {},
      "outputs": [],
      "source": [
        "df1 = pd.read_csv('./simulation_results/2023-04-15_10-59-28.csv') # GNAR\n",
        "df2 = pd.read_csv('./simulation_results/2023-04-15_11-15-05.csv') # STGCN IT-STGCN\n",
        "df3 = pd.read_csv('./simulation_results/2023-04-15_11-30-48.csv') # STGCN IT-STGCN\n",
        "df4 = pd.read_csv('./simulation_results/2023-04-15_11-46-45.csv') # STGCN IT-STGCN\n",
        "df5 = pd.read_csv('./simulation_results/2023-04-15_12-02-19.csv') # STGCN IT-STGCN\n",
        "df6 = pd.read_csv('./simulation_results/2023-04-15_15-00-32.csv') # STGCN IT-STGCN\n",
        "# df7 = pd.read_csv('./simulation_results/2023-04-15_10-15-48.csv') # STGCN IT-STGCN\n",
        "# df8 = pd.read_csv('./simulation_results/2023-04-15_10-25-19.csv') # STGCN IT-STGCN\n",
        "# df9 = pd.read_csv('./simulation_results/2023-04-15_10-34-48.csv') # STGCN IT-STGCN\n",
        "# df10 = pd.read_csv('./simulation_results/2023-04-15_10-43-02.csv') # STGCN IT-STGCN"
      ],
      "id": "ac02b9e4-13cf-41ab-87a3-83827f41acdb"
    },
    {
      "cell_type": "code",
      "execution_count": 126,
      "metadata": {},
      "outputs": [],
      "source": [
        "data = pd.concat([df1,df2,df3,df4,df5,df6],axis=0)"
      ],
      "id": "f8cb77c3-40ce-48c8-95cd-7a0efd67ccb9"
    },
    {
      "cell_type": "code",
      "execution_count": 127,
      "metadata": {},
      "outputs": [],
      "source": [
        "data.query(\"method=='GNAR'\").sort_values(['mrate','nof_filters'])"
      ],
      "id": "03fdfc86-06c3-44ca-b826-82e2472f049d"
    },
    {
      "cell_type": "code",
      "execution_count": 128,
      "metadata": {},
      "outputs": [],
      "source": [
        "data.query(\"method!='GNAR' and method=='STGCN'\").sort_values(['mrate','nof_filters'])"
      ],
      "id": "a0de6a57-bad2-4933-84b9-2a30d68f959b"
    },
    {
      "cell_type": "code",
      "execution_count": 129,
      "metadata": {},
      "outputs": [],
      "source": [
        "data.query(\"method!='GNAR' and method!='STGCN'\").sort_values(['mrate','nof_filters'])"
      ],
      "id": "ddc59e14-2ac7-4cc8-9502-f182cd8a000f"
    },
    {
      "cell_type": "markdown",
      "metadata": {},
      "source": [
        "linear, lags 4,8. filter 8,12\n",
        "\n",
        "# Windmillsmall simulation result\n",
        "\n",
        "## Baseline"
      ],
      "id": "52c6e6ca-eb1b-4985-900f-0697717d04e5"
    },
    {
      "cell_type": "code",
      "execution_count": 130,
      "metadata": {},
      "outputs": [],
      "source": [
        "df1 = pd.read_csv('./simulation_results/2023-04-17_06-05-37.csv') # STGCN IT-STGCN 70%\n",
        "df2 = pd.read_csv('./simulation_results/2023-04-17_08-05-26.csv') # STGCN IT-STGCN\n",
        "df3 = pd.read_csv('./simulation_results/2023-04-17_13-41-19.csv') # STGCN IT-STGCN\n",
        "df4 = pd.read_csv('./simulation_results/2023-04-17_15-44-21.csv') # STGCN IT-STGCN\n",
        "df5 = pd.read_csv('./simulation_results/2023-04-17_21-27-38.csv') # STGCN IT-STGCN\n",
        "# df6 = pd.read_csv('./simulation_results/2023-04-15_15-00-32.csv') # GNAR 30%, 50%, 70% # 뭔가 일단 필요없어서 데이터셋에서 뺌\n",
        "df7 = pd.read_csv('./simulation_results/2023-04-18_05-01-55.csv') # STGCN IT-STGCN\n",
        "df8 = pd.read_csv('./simulation_results/2023-04-18_06-14-06.csv') # STGCN IT-STGCN\n",
        "df9 = pd.read_csv('./simulation_results/2023-04-18_17-32-30.csv') # STGCN IT-STGCN\n",
        "df10 = pd.read_csv('./simulation_results/2023-04-19_01-52-24.csv') # STGCN IT-STGCN\n",
        "df11 = pd.read_csv('./simulation_results/2023-04-19_07-50-52.csv') # STGCN IT-STGCN\n",
        "df12 = pd.read_csv('./simulation_results/2023-04-19_09-30-25.csv') # STGCN IT-STGCN\n",
        "df13 = pd.read_csv('./simulation_results/2023-04-19_15-32-55.csv') # STGCN IT-STGCN\n",
        "df14 = pd.read_csv('./simulation_results/2023-04-19_17-12-06.csv') # STGCN IT-STGCN\n",
        "df15 = pd.read_csv('./simulation_results/2023-04-19_23-07-36.csv') # STGCN IT-STGCN\n",
        "df16 = pd.read_csv('./simulation_results/2023-04-20_00-46-43.csv') # STGCN IT-STGCN\n",
        "df17 = pd.read_csv('./simulation_results/2023-04-20_06-51-34.csv') # STGCN IT-STGCN\n",
        "df18 = pd.read_csv('./simulation_results/2023-04-20_08-30-27.csv') # STGCN IT-STGCN\n",
        "df19 = pd.read_csv('./simulation_results/2023-04-20_14-28-35.csv') # STGCN IT-STGCN\n",
        "df20 = pd.read_csv('./simulation_results/2023-04-20_16-08-39.csv') # STGCN IT-STGCN\n",
        "df21 = pd.read_csv('./simulation_results/2023-04-20_22-09-37.csv') # STGCN IT-STGCN\n",
        "df22 = pd.read_csv('./simulation_results/2023-04-20_23-48-26.csv') # STGCN IT-STGCN\n",
        "df23 = pd.read_csv('./simulation_results/2023-04-21_05-36-47.csv') # STGCN IT-STGCN\n",
        "df24 = pd.read_csv('./simulation_results/2023-04-21_15-26-00.csv') # STGCN IT-STGCN\n",
        "df25 = pd.read_csv('./simulation_results/2023-04-21_23-27-11.csv') # STGCN IT-STGCN\n",
        "df26 = pd.read_csv('./simulation_results/2023-04-22_07-46-08.csv') # STGCN IT-STGCN\n",
        "df27 = pd.read_csv('./simulation_results/2023-04-22_15-45-20.csv') # STGCN IT-STGCN\n",
        "df28 = pd.read_csv('./simulation_results/2023-04-22_22-57-31.csv') # STGCN IT-STGCN\n",
        "df29 = pd.read_csv('./simulation_results/2023-04-23_07-00-15.csv') # STGCN IT-STGCN\n",
        "df30 = pd.read_csv('./simulation_results/2023-04-23_15-18-02.csv') # STGCN IT-STGCN\n",
        "df31 = pd.read_csv('./simulation_results/2023-04-23_15-22-36.csv') # GNAR 70%\n",
        "# baseline\n",
        "df32 = pd.read_csv('./simulation_results/2023-04-29_06-54-40.csv') # GNAR \n",
        "df33 = pd.read_csv('./simulation_results/2023-04-30_18-55-12.csv')\n",
        "df34 = pd.read_csv('./simulation_results/2023-05-01_02-55-33.csv')\n",
        "df35 = pd.read_csv('./simulation_results/2023-05-01_10-21-15.csv')\n",
        "df36 = pd.read_csv('./simulation_results/2023-05-01_19-23-57.csv')\n",
        "df37 = pd.read_csv('./simulation_results/2023-05-02_01-10-53.csv')\n",
        "df38 = pd.read_csv('./simulation_results/2023-05-02_08-26-53.csv')\n",
        "df39 = pd.read_csv('./simulation_results/2023-05-02_16-00-40.csv')\n",
        "df40 = pd.read_csv('./simulation_results/2023-05-03_00-34-09.csv')\n",
        "df41 = pd.read_csv('./simulation_results/2023-05-03_08-04-42.csv')\n",
        "df42 = pd.read_csv('./simulation_results/2023-05-03_15-50-50.csv')\n",
        "df43 = pd.read_csv('./simulation_results/2023-05-03_23-46-56.csv')\n",
        "df44 = pd.read_csv('./simulation_results/2023-05-04_05-22-59.csv')\n",
        "df45 = pd.read_csv('./simulation_results/2023-05-04_09-22-37.csv')\n",
        "df46 = pd.read_csv('./simulation_results/2023-05-04_15-00-57.csv')\n",
        "df47 = pd.read_csv('./simulation_results/2023-05-04_23-41-21.csv')\n",
        "df48 = pd.read_csv('./simulation_results/2023-05-05_07-23-04.csv')\n",
        "df49 = pd.read_csv('./simulation_results/2023-05-05_15-03-17.csv')\n",
        "df50 = pd.read_csv('./simulation_results/2023-05-06_05-18-07.csv')\n",
        "df51 = pd.read_csv('./simulation_results/2023-05-06_12-57-14.csv')\n",
        "df52 = pd.read_csv('./simulation_results/2023-05-06_19-10-23.csv')\n",
        "df53 = pd.read_csv('./simulation_results/2023-05-07_03-20-10.csv')\n",
        "df54 = pd.read_csv('./simulation_results/2023-05-07_11-26-24.csv')\n",
        "df55 = pd.read_csv('./simulation_results/2023-05-08_00-04-56.csv')\n",
        "df56 = pd.read_csv('./simulation_results/2023-05-08_04-27-01.csv')\n",
        "df57 = pd.read_csv('./simulation_results/2023-05-08_10-06-55.csv')\n",
        "df58 = pd.read_csv('./simulation_results/2023-05-08_17-50-36.csv')\n",
        "df59 = pd.read_csv('./simulation_results/2023-05-09_03-28-08.csv')\n",
        "df60 = pd.read_csv('./simulation_results/2023-05-09_11-08-10.csv')\n",
        "df61 = pd.read_csv('./simulation_results/2023-05-09_20-11-45.csv')"
      ],
      "id": "e865d7a4-d723-411e-9ee6-2a0a001f8525"
    },
    {
      "cell_type": "code",
      "execution_count": 131,
      "metadata": {},
      "outputs": [],
      "source": [
        "data = pd.concat([df1,df2,df3,df4,df5,df7,df8,df9,df10,df11,df12,df13,df14,df15,df16,df17,df18,\n",
        "                 df19,df20,df21,df22,df23,df24,df25,df26,df27,df28,df29,df30,df31,df32,df33,df34,\n",
        "                 df35,df36,df37,df38,df39,df40,df41,df42,df43,df44,df45,df46,df47,df48,df49,df50,\n",
        "                 df51,df52,df53,df54,df55,df56,df57,df58,df59,df60,df61],axis=0)"
      ],
      "id": "37438d95-f15e-4741-b4d2-65966d48be89"
    },
    {
      "cell_type": "code",
      "execution_count": 132,
      "metadata": {},
      "outputs": [],
      "source": [
        "data.to_csv('./simulation_results/Real_simulation/windmillsmall.csv',index=False)"
      ],
      "id": "129bb29a-6386-4363-9781-8a68ad4373cd"
    },
    {
      "cell_type": "code",
      "execution_count": 133,
      "metadata": {},
      "outputs": [],
      "source": [
        "data = pd.read_csv('./simulation_results/Real_simulation/windmillsmall.csv')"
      ],
      "id": "e802f5c9-6428-4f87-86d8-5bec3a07099b"
    },
    {
      "cell_type": "code",
      "execution_count": 134,
      "metadata": {},
      "outputs": [],
      "source": [
        "data.query(\"method=='GNAR' and mrate ==0\")['mse'].unique()"
      ],
      "id": "85766227-655d-404b-9078-3809594457e6"
    },
    {
      "cell_type": "code",
      "execution_count": 135,
      "metadata": {},
      "outputs": [],
      "source": [
        "data.query(\"method!='GNAR' and mrate ==0 \").plot.box(backend='plotly',x='mrate',color='method',y='mse',facet_col='lags',height=800)\n"
      ],
      "id": "127a08ff-22cf-4d87-8b87-db3f7fda2b59"
    },
    {
      "cell_type": "markdown",
      "metadata": {},
      "source": [
        "## random"
      ],
      "id": "3aca327d-e05a-4def-b1d1-12bec656ec69"
    },
    {
      "cell_type": "code",
      "execution_count": 136,
      "metadata": {},
      "outputs": [],
      "source": [
        "data.query(\"method=='GNAR' and mrate !=0\")['mse'].unique()"
      ],
      "id": "9878b9f6-40ee-4662-99c6-23b45e75ce1a"
    },
    {
      "cell_type": "code",
      "execution_count": 137,
      "metadata": {},
      "outputs": [],
      "source": [
        "data.query(\"method!='GNAR' and mtype =='rand' \").plot.box(backend='plotly',x='mrate',color='method',y='mse',facet_col='lags',facet_row='inter_method',height=800)\n"
      ],
      "id": "1bdf44c2-efc6-4683-9e0e-53f53e727b9b"
    },
    {
      "cell_type": "markdown",
      "metadata": {},
      "source": [
        "## block"
      ],
      "id": "b4a622d4-46d1-4b33-9426-d45fede32f2e"
    },
    {
      "cell_type": "code",
      "execution_count": 138,
      "metadata": {
        "tags": []
      },
      "outputs": [],
      "source": [
        "df1 = pd.read_csv('./simulation_results/2023-04-24_02-48-08.csv') # STGCN IT-STGCN block\n",
        "df2 = pd.read_csv('./simulation_results/2023-04-24_10-57-10.csv') # STGCN IT-STGCN\n",
        "df3 = pd.read_csv('./simulation_results/2023-04-24_18-53-34.csv') # STGCN IT-STGCN\n",
        "df4 = pd.read_csv('./simulation_results/2023-04-25_02-30-27.csv') # STGCN IT-STGCN\n",
        "df5 = pd.read_csv('./simulation_results/2023-04-25_10-48-46.csv') # STGCN IT-STGCN\n",
        "df6 = pd.read_csv('./simulation_results/2023-04-25_10-53-14.csv') # GNAR \n",
        "df7 = pd.read_csv('./simulation_results/2023-04-25_18-40-53.csv') # STGCN IT-STGCN\n",
        "df8 = pd.read_csv('./simulation_results/2023-04-25_23-30-08.csv') # STGCN IT-STGCN\n",
        "df9 = pd.read_csv('./simulation_results/2023-04-26_04-15-00.csv') # STGCN IT-STGCN\n",
        "df10 = pd.read_csv('./simulation_results/2023-04-27_07-59-36.csv') # STGCN IT-STGCN\n",
        "df11 = pd.read_csv('./simulation_results/2023-04-27_15-29-00.csv') # STGCN IT-STGCN\n",
        "df12 = pd.read_csv('./simulation_results/2023-04-27_23-37-18.csv') # STGCN IT-STGCN\n",
        "df13 = pd.read_csv('./simulation_results/2023-04-28_08-21-54.csv') # STGCN IT-STGCN\n",
        "df14 = pd.read_csv('./simulation_results/2023-04-28_16-06-55.csv') # STGCN IT-STGCN\n",
        "df15 = pd.read_csv('./simulation_results/2023-04-28_21-19-37.csv') # STGCN IT-STGCN\n",
        "df16 = pd.read_csv('./simulation_results/2023-04-29_03-07-03.csv') # STGCN IT-STGCN\n",
        "df17 = pd.read_csv('./simulation_results/2023-04-29_09-00-42.csv') # STGCN IT-STGCN\n",
        "df18 = pd.read_csv('./simulation_results/2023-04-29_19-07-49.csv') # STGCN IT-STGCN\n",
        "df19 = pd.read_csv('./simulation_results/2023-04-30_05-14-07.csv') # STGCN IT-STGCN\n",
        "df20 = pd.read_csv('./simulation_results/2023-04-30_15-23-16.csv') # STGCN IT-STGCN\n",
        "df21 = pd.read_csv('./simulation_results/2023-05-01_00-16-37.csv') # STGCN IT-STGCN\n",
        "df22 = pd.read_csv('./simulation_results/2023-05-01_07-41-52.csv') # STGCN IT-STGCN\n",
        "df23 = pd.read_csv('./simulation_results/2023-05-01_16-21-41.csv') # STGCN IT-STGCN\n",
        "df24 = pd.read_csv('./simulation_results/2023-05-01_23-38-23.csv') # STGCN IT-STGCN\n",
        "df25 = pd.read_csv('./simulation_results/2023-05-02_13-51-13.csv') # STGCN IT-STGCN\n",
        "df26 = pd.read_csv('./simulation_results/2023-05-02_21-43-26.csv') # STGCN IT-STGCN\n",
        "df27 = pd.read_csv('./simulation_results/2023-05-03_06-04-32.csv') # STGCN IT-STGCN\n",
        "df28 = pd.read_csv('./simulation_results/2023-05-03_13-43-11.csv') # STGCN IT-STGCN\n",
        "df29 = pd.read_csv('./simulation_results/2023-05-03_21-58-04.csv') # STGCN IT-STGCN\n",
        "df30 = pd.read_csv('./simulation_results/2023-05-04_04-39-00.csv') # STGCN IT-STGCN"
      ],
      "id": "5d0cb8d4-d53a-44a8-9c2d-98f29a79ccf1"
    },
    {
      "cell_type": "code",
      "execution_count": 139,
      "metadata": {},
      "outputs": [],
      "source": [
        "data = pd.concat([df1,df2,df3,df4,df5,df6,df7,df8,df9,df10,df11,df12,df13,df14,df15,df16,\n",
        "                 df17,df18,df19,df20,df21,df22,df23,df24,df25,df26,df27,df28,df29,df30],axis=0)"
      ],
      "id": "742814e0-9f3d-48c4-9f72-6852c33febdf"
    },
    {
      "cell_type": "code",
      "execution_count": 140,
      "metadata": {},
      "outputs": [],
      "source": [
        "data.to_csv('./simulation_results/Real_simulation/windmillsmall_block.csv',index=False)"
      ],
      "id": "07c7157f-2223-4e33-8e00-7b34ce02e328"
    },
    {
      "cell_type": "code",
      "execution_count": 141,
      "metadata": {},
      "outputs": [],
      "source": [
        "data = pd.read_csv('./simulation_results/Real_simulation/windmillsmall_block.csv')"
      ],
      "id": "d6231954-66e3-49c7-b099-9cc13885c675"
    },
    {
      "cell_type": "code",
      "execution_count": 142,
      "metadata": {},
      "outputs": [],
      "source": [
        "data.query(\"method=='GNAR'\")['mse'].unique()"
      ],
      "id": "5dd14f68-acfb-4bf7-8162-6d159da15399"
    },
    {
      "cell_type": "code",
      "execution_count": 143,
      "metadata": {},
      "outputs": [],
      "source": [
        "data.query(\"method!='GNAR' and mtype =='block' \").plot.box(backend='plotly',x='mrate',color='method',y='mse',facet_col='lags',facet_row='inter_method',height=800)\n"
      ],
      "id": "dd0ddd14-b606-4b8e-8ade-5d4f6ff4e689"
    },
    {
      "cell_type": "markdown",
      "metadata": {},
      "source": [
        "# Windmillsmall DCRNN result"
      ],
      "id": "1dc5a332-f1b4-4882-bc22-bc7ef6ecf5e7"
    },
    {
      "cell_type": "code",
      "execution_count": 249,
      "metadata": {},
      "outputs": [],
      "source": [
        "df1 = pd.read_csv('./simulation_results/2023-05-15_11-59-18.csv')\n",
        "# df2 = pd.read_csv('./simulation_results/2023-05-15_05-15-48.csv')\n",
        "# df3 = pd.read_csv('./simulation_results/2023-05-15_08-26-11.csv')\n",
        "# df4 = pd.read_csv('./simulation_results/2023-04-23_13-13-49.csv')"
      ],
      "id": "b73e99cb-34a4-4ffe-9f8c-09771241074a"
    },
    {
      "cell_type": "code",
      "execution_count": 250,
      "metadata": {},
      "outputs": [],
      "source": [
        "data = pd.concat([df1],axis=0)"
      ],
      "id": "f9e134d1-b873-49a7-b7b8-3013e8b0292b"
    },
    {
      "cell_type": "code",
      "execution_count": 251,
      "metadata": {},
      "outputs": [],
      "source": [
        "data.to_csv('./simulation_results/DCRNN/windmillsmall_DCRNN.csv',index=False)"
      ],
      "id": "0567e250-8f9a-4772-86ae-023fbffbe0b7"
    },
    {
      "cell_type": "code",
      "execution_count": 252,
      "metadata": {},
      "outputs": [],
      "source": [
        "data = pd.read_csv('./simulation_results/DCRNN/windmillsmall_DCRNN.csv')"
      ],
      "id": "2d7a99c9-d690-498f-a60c-0c1c23d32cf2"
    },
    {
      "cell_type": "markdown",
      "metadata": {},
      "source": [
        "# Montevideobus"
      ],
      "id": "634e1e05-6357-466f-8715-73c62da2ee6b"
    },
    {
      "cell_type": "code",
      "execution_count": 144,
      "metadata": {},
      "outputs": [],
      "source": [
        "df1 = pd.read_csv('./simulation_results/2023-04-30_23-28-01.csv') # lags 8\n",
        "df2 = pd.read_csv('./simulation_results/2023-05-01_01-48-57.csv') # lags 8\n",
        "df3 = pd.read_csv('./simulation_results/2023-05-01_04-10-06.csv') # lags 8\n",
        "df4 = pd.read_csv('./simulation_results/2023-05-01_06-29-43.csv') # lags 8\n",
        "df5 = pd.read_csv('./simulation_results/2023-05-01_08-56-25.csv') # lags 8\n",
        "df6 = pd.read_csv('./simulation_results/2023-05-01_11-21-53.csv') # lags 8\n",
        "df7 = pd.read_csv('./simulation_results/2023-05-01_14-35-28.csv') # lags 4\n",
        "df8 = pd.read_csv('./simulation_results/2023-05-01_17-41-15.csv')\n",
        "df9 = pd.read_csv('./simulation_results/2023-05-01_22-34-25.csv')\n",
        "df10 = pd.read_csv('./simulation_results/2023-05-01_20-14-49.csv')\n",
        "df11 = pd.read_csv('./simulation_results/2023-05-02_01-12-01.csv')\n",
        "df12 = pd.read_csv('./simulation_results/2023-05-02_03-31-06.csv')\n",
        "df13 = pd.read_csv('./simulation_results/2023-05-02_05-47-02.csv') # STGCN IT-STGCN\n",
        "df14 = pd.read_csv('./simulation_results/2023-05-02_08-06-05.csv') # STGCN IT-STGCN\n",
        "df15 = pd.read_csv('./simulation_results/2023-05-02_10-22-46.csv') # STGCN IT-STGCN\n",
        "df16 = pd.read_csv('./simulation_results/2023-05-02_12-55-51.csv') # STGCN IT-STGCN\n",
        "df17 = pd.read_csv('./simulation_results/2023-05-02_15-20-11.csv') # STGCN IT-STGCN\n",
        "df18 = pd.read_csv('./simulation_results/2023-05-02_18-02-21.csv') # STGCN IT-STGCN\n",
        "df19 = pd.read_csv('./simulation_results/2023-05-02_20-30-09.csv') # STGCN IT-STGCN\n",
        "df20 = pd.read_csv('./simulation_results/2023-05-02_23-27-13.csv') # STGCN IT-STGCN\n",
        "df21 = pd.read_csv('./simulation_results/2023-05-03_06-49-15.csv') # STGCN IT-STGCN\n",
        "df22 = pd.read_csv('./simulation_results/2023-05-03_04-25-39.csv') # STGCN IT-STGCN\n",
        "df23 = pd.read_csv('./simulation_results/2023-05-03_02-15-10.csv') # STGCN IT-STGCN\n",
        "df24 = pd.read_csv('./simulation_results/2023-05-03_09-11-42.csv') # STGCN IT-STGCN\n",
        "df25 = pd.read_csv('./simulation_results/2023-05-03_11-51-31.csv') # STGCN IT-STGCN\n",
        "df26 = pd.read_csv('./simulation_results/2023-05-03_14-26-55.csv') # STGCN IT-STGCN\n",
        "df27 = pd.read_csv('./simulation_results/2023-05-03_16-53-12.csv') # STGCN IT-STGCN\n",
        "df28 = pd.read_csv('./simulation_results/2023-05-03_19-26-00.csv') # STGCN IT-STGCN\n",
        "df29 = pd.read_csv('./simulation_results/2023-05-04_00-44-17.csv') # STGCN IT-STGCN\n",
        "df30 = pd.read_csv('./simulation_results/2023-05-04_03-00-08.csv') # STGCN IT-STGCN"
      ],
      "id": "ee59c5e4-e11a-4a10-a0b1-478a80afb228"
    },
    {
      "cell_type": "code",
      "execution_count": 145,
      "metadata": {},
      "outputs": [],
      "source": [
        "data = pd.concat([df1,df2,df3,df4,df5,df6,df7,df8,df9,df10,df11,df12,df13,df14,df15,df16,df17,df18,\n",
        "                 df19,df20,df21,df22,df23,df24,df25,df26,df27,df28,df29,df30],axis=0)"
      ],
      "id": "a19d1bdd-17fe-42cf-a4c8-f270bff69e40"
    },
    {
      "cell_type": "code",
      "execution_count": 146,
      "metadata": {},
      "outputs": [],
      "source": [
        "data.to_csv('./simulation_results/Real_simulation/monte.csv',index=False)"
      ],
      "id": "3858fad4-79eb-4bd2-a070-c55210e79185"
    },
    {
      "cell_type": "code",
      "execution_count": 147,
      "metadata": {},
      "outputs": [],
      "source": [
        "data = pd.read_csv('./simulation_results/Real_simulation/monte.csv')"
      ],
      "id": "b6060412-5bf9-480f-8246-83eed9a2677f"
    },
    {
      "cell_type": "markdown",
      "metadata": {},
      "source": [
        "## Baseline"
      ],
      "id": "56f4952b-fd17-4e35-ace9-f9da56594c3a"
    },
    {
      "cell_type": "code",
      "execution_count": 148,
      "metadata": {},
      "outputs": [],
      "source": [
        "data.query(\"mrate==0 and method!='GNAR'\").plot.box(backend='plotly',x='mrate',color='method',y='mse',facet_col='lags',facet_row='nof_filters',height=600)"
      ],
      "id": "b74d02f4-6e6d-4df7-ae60-9016366a6441"
    },
    {
      "cell_type": "markdown",
      "metadata": {},
      "source": [
        "## random"
      ],
      "id": "d5796b26-aff3-4045-9733-6dd6a59110a1"
    },
    {
      "cell_type": "code",
      "execution_count": 149,
      "metadata": {},
      "outputs": [],
      "source": [
        "data.query(\"method=='GNAR'\").groupby('mrate')['mse'].unique()"
      ],
      "id": "07b857c9-8c55-447e-a5ce-ea85749a21c6"
    },
    {
      "cell_type": "code",
      "execution_count": 150,
      "metadata": {},
      "outputs": [],
      "source": [
        "data.query(\"mtype=='rand' and mrate !=0 and method!='GNAR' and mrate!=0.8 and mrate!=0.9\").sort_values('lags').plot.box(backend='plotly',x='mrate',color='method',y='mse',facet_col='lags',facet_row='inter_method',height=800)\n"
      ],
      "id": "a9c733bb-fca8-46d3-9b9e-8ae79eeb6327"
    },
    {
      "cell_type": "code",
      "execution_count": 151,
      "metadata": {},
      "outputs": [],
      "source": [
        "data.query(\"mtype=='rand' and mrate !=0 and method!='GNAR' and mrate!=0.3 and mrate!=0.4\").plot.box(backend='plotly',x='mrate',color='method',y='mse',facet_col='lags',facet_row='inter_method',height=800)\n"
      ],
      "id": "029ea9a2-a455-491d-91fe-908e3f950854"
    },
    {
      "cell_type": "markdown",
      "metadata": {},
      "source": [
        "## block"
      ],
      "id": "1d15eaaa-ad1a-4cb7-a213-ec28601f7eeb"
    },
    {
      "cell_type": "code",
      "execution_count": 152,
      "metadata": {},
      "outputs": [],
      "source": [
        "df1 = pd.read_csv('./simulation_results/2023-05-04_21-03-21.csv')\n",
        "df2 = pd.read_csv('./simulation_results/2023-05-05_12-10-44.csv')\n",
        "df3 = pd.read_csv('./simulation_results/2023-05-06_12-42-22.csv')\n",
        "df4 = pd.read_csv('./simulation_results/2023-05-06_15-40-47.csv')"
      ],
      "id": "1ec09aea-da18-4b50-a46f-3ec6c3ad4c51"
    },
    {
      "cell_type": "code",
      "execution_count": 153,
      "metadata": {},
      "outputs": [],
      "source": [
        "data = pd.concat([df1,df2,df3,df4],axis=0)"
      ],
      "id": "b4dbadce-6bf9-42be-ad21-a4cde9af6257"
    },
    {
      "cell_type": "code",
      "execution_count": 154,
      "metadata": {},
      "outputs": [],
      "source": [
        "data.to_csv('./simulation_results/Real_simulation/monte_block.csv',index=False)"
      ],
      "id": "8143475d-f113-4ead-a209-a74c6126bb56"
    },
    {
      "cell_type": "code",
      "execution_count": 155,
      "metadata": {},
      "outputs": [],
      "source": [
        "data = pd.read_csv('./simulation_results/Real_simulation/monte_block.csv')"
      ],
      "id": "364204ca-f3af-44d1-ab87-f48692db5d2d"
    },
    {
      "cell_type": "code",
      "execution_count": 156,
      "metadata": {},
      "outputs": [],
      "source": [
        "data.query(\"mtype=='block' and method=='GNAR'\")['mse'].mean()"
      ],
      "id": "a0886aa6-b117-481d-9679-c069d2f0d5e7"
    },
    {
      "cell_type": "code",
      "execution_count": 157,
      "metadata": {},
      "outputs": [],
      "source": [
        "data.query(\"mtype=='block' and method!='GNAR'\").plot.box(backend='plotly',x='mrate',color='method',y='mse',facet_col='lags',facet_row='nof_filters',height=1200)\n"
      ],
      "id": "8df82195-7499-4c52-8ad9-7742421b17bf"
    }
  ],
  "nbformat": 4,
  "nbformat_minor": 5,
  "metadata": {
    "kernelspec": {
      "name": "python3",
      "display_name": "Python 3",
      "language": "python"
    },
    "language_info": {
      "name": "python",
      "codemirror_mode": {
        "name": "ipython",
        "version": "3"
      },
      "file_extension": ".py",
      "mimetype": "text/x-python",
      "nbconvert_exporter": "python",
      "pygments_lexer": "ipython3",
      "version": "3.8.0"
    }
  }
}
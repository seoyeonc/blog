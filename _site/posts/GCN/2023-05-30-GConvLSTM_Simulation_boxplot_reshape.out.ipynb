{
  "cells": [
    {
      "cell_type": "markdown",
      "metadata": {},
      "source": [
        "# GConvLSTM_Simulation_reshape\n",
        "\n",
        "SEOYEON CHOI  \n",
        "5/30/23\n",
        "\n",
        "> Simulation Study"
      ],
      "id": "b9cf1def-6cf6-4b1a-b3f5-ea81af9f07e5"
    },
    {
      "cell_type": "code",
      "execution_count": null,
      "metadata": {},
      "outputs": [],
      "source": [
        "import itstgcnGConvLSTM\n",
        "import torch\n",
        "import itstgcnGConvLSTM.planner \n",
        "import pandas as pd\n",
        "\n",
        "import numpy as np\n",
        "import random"
      ],
      "id": "5ad6f8d1-a531-4981-bb70-b32859d9531c"
    },
    {
      "cell_type": "code",
      "execution_count": 5,
      "metadata": {},
      "outputs": [],
      "source": [
        "from torch_geometric_temporal.dataset import WikiMathsDatasetLoader\n",
        "loader3 = WikiMathsDatasetLoader()"
      ],
      "id": "7a5f835f-35e8-41a0-a464-c8afeb1c0510"
    },
    {
      "cell_type": "code",
      "execution_count": 6,
      "metadata": {},
      "outputs": [],
      "source": [
        "from torch_geometric_temporal.dataset import MontevideoBusDatasetLoader\n",
        "loader10 = MontevideoBusDatasetLoader()"
      ],
      "id": "253daa19-7ced-45ec-9a95-e2ad9b288d8b"
    },
    {
      "cell_type": "markdown",
      "metadata": {},
      "source": [
        "# wiki 안 돌림"
      ],
      "id": "543590dd-9eea-4b5f-879b-2c922f8b80bc"
    },
    {
      "cell_type": "code",
      "execution_count": null,
      "metadata": {},
      "outputs": [],
      "source": [
        "plans_stgcn_rand = {\n",
        "    'max_iteration': 5, \n",
        "    'method': ['STGCN', 'IT-STGCN'],\n",
        "    'mrate': [0.5],\n",
        "    'lags': [8], \n",
        "    'nof_filters': [12], \n",
        "    'inter_method': ['linear'],\n",
        "    'epoch': [50]\n",
        "}"
      ],
      "id": "70984c8f-5f77-4ea3-a231-260b36beea1d"
    },
    {
      "cell_type": "code",
      "execution_count": null,
      "metadata": {},
      "outputs": [],
      "source": [
        "plnr = itstgcn.planner.PLNR_STGCN_RAND(plans_stgcn_rand,loader3,dataset_name='wikimath')\n",
        "plnr.simulate()"
      ],
      "id": "f90d945e-ca19-437c-8f83-cd574643106a"
    },
    {
      "cell_type": "code",
      "execution_count": null,
      "metadata": {},
      "outputs": [],
      "source": [
        "plnr = itstgcn.planner.PLNR_STGCN_RAND(plans_stgcn_rand,loader3,dataset_name='wikimath')\n",
        "plnr.simulate()"
      ],
      "id": "8f73da3a-f3bc-4036-b113-74b805133dfe"
    },
    {
      "cell_type": "code",
      "execution_count": null,
      "metadata": {},
      "outputs": [],
      "source": [
        "plnr = itstgcn.planner.PLNR_STGCN_RAND(plans_stgcn_rand,loader3,dataset_name='wikimath')\n",
        "plnr.simulate()"
      ],
      "id": "2d6d0836-b43f-4926-af2f-dc2575067226"
    },
    {
      "cell_type": "code",
      "execution_count": null,
      "metadata": {},
      "outputs": [],
      "source": [
        "plnr = itstgcn.planner.PLNR_STGCN_RAND(plans_stgcn_rand,loader3,dataset_name='wikimath')\n",
        "plnr.simulate()"
      ],
      "id": "2ddaeb3b-4828-410b-a0bc-ec3f60ff7d2b"
    },
    {
      "cell_type": "code",
      "execution_count": null,
      "metadata": {},
      "outputs": [],
      "source": [
        "plnr = itstgcn.planner.PLNR_STGCN_RAND(plans_stgcn_rand,loader3,dataset_name='wikimath')\n",
        "plnr.simulate()"
      ],
      "id": "e4bf0f38-76e3-42be-9fd1-2d4048b91481"
    },
    {
      "cell_type": "code",
      "execution_count": null,
      "metadata": {},
      "outputs": [],
      "source": [
        "plnr = itstgcn.planner.PLNR_STGCN_RAND(plans_stgcn_rand,loader3,dataset_name='wikimath')\n",
        "plnr.simulate()"
      ],
      "id": "bcfea42e-bcc2-44ca-92e6-fccfc0dad3ca"
    },
    {
      "cell_type": "code",
      "execution_count": null,
      "metadata": {},
      "outputs": [],
      "source": [
        "plans_stgcn_rand = {\n",
        "    'max_iteration': 5, \n",
        "    'method': ['STGCN', 'IT-STGCN'],\n",
        "    'mrate': [0.6],\n",
        "    'lags': [8], \n",
        "    'nof_filters': [12], \n",
        "    'inter_method': ['linear'],\n",
        "    'epoch': [50]\n",
        "}"
      ],
      "id": "091ba6c6-a773-42ab-a403-1f40ef5737eb"
    },
    {
      "cell_type": "code",
      "execution_count": null,
      "metadata": {},
      "outputs": [],
      "source": [
        "plnr = itstgcn.planner.PLNR_STGCN_RAND(plans_stgcn_rand,loader3,dataset_name='wikimath')\n",
        "plnr.simulate()"
      ],
      "id": "3116cfae-86d3-4d35-a092-94bce87ba95a"
    },
    {
      "cell_type": "code",
      "execution_count": null,
      "metadata": {},
      "outputs": [],
      "source": [
        "plnr = itstgcn.planner.PLNR_STGCN_RAND(plans_stgcn_rand,loader3,dataset_name='wikimath')\n",
        "plnr.simulate()"
      ],
      "id": "5a153688-dbbd-401f-b54d-cca609e852e3"
    },
    {
      "cell_type": "code",
      "execution_count": null,
      "metadata": {},
      "outputs": [],
      "source": [
        "plnr = itstgcn.planner.PLNR_STGCN_RAND(plans_stgcn_rand,loader3,dataset_name='wikimath')\n",
        "plnr.simulate()"
      ],
      "id": "98783c04-dcdd-4991-9952-663d4e2312f4"
    },
    {
      "cell_type": "code",
      "execution_count": null,
      "metadata": {},
      "outputs": [],
      "source": [
        "plnr = itstgcn.planner.PLNR_STGCN_RAND(plans_stgcn_rand,loader3,dataset_name='wikimath')\n",
        "plnr.simulate()"
      ],
      "id": "43e254a4-7e84-4da4-952d-dac3a457e8af"
    },
    {
      "cell_type": "code",
      "execution_count": null,
      "metadata": {},
      "outputs": [],
      "source": [
        "plnr = itstgcn.planner.PLNR_STGCN_RAND(plans_stgcn_rand,loader3,dataset_name='wikimath')\n",
        "plnr.simulate()"
      ],
      "id": "975dfe28-7548-4a02-bd00-1e1bae5a21a2"
    },
    {
      "cell_type": "code",
      "execution_count": null,
      "metadata": {},
      "outputs": [],
      "source": [
        "plnr = itstgcn.planner.PLNR_STGCN_RAND(plans_stgcn_rand,loader3,dataset_name='wikimath')\n",
        "plnr.simulate()"
      ],
      "id": "332b017e-7eaa-4b2c-89de-aa2b15d4a83a"
    },
    {
      "cell_type": "code",
      "execution_count": 56,
      "metadata": {},
      "outputs": [],
      "source": [
        "plans_stgcn_rand = {\n",
        "    'max_iteration': 10, \n",
        "    'method': ['STGCN', 'IT-STGCN'],\n",
        "    'mrate': [0.3],\n",
        "    'lags': [4], \n",
        "    'nof_filters': [12], \n",
        "    'inter_method': ['nearest'],\n",
        "    'epoch': [50]\n",
        "}"
      ],
      "id": "85b71abb-7931-40d6-8716-4bfa9facbf03"
    },
    {
      "cell_type": "code",
      "execution_count": null,
      "metadata": {},
      "outputs": [
        {
          "output_type": "stream",
          "name": "stdout",
          "text": [
            "24/50"
          ]
        }
      ],
      "source": [
        "plnr = itstgcnGConvLSTM.planner.PLNR_STGCN_RAND(plans_stgcn_rand,loader10,dataset_name='monte')\n",
        "plnr.simulate()"
      ],
      "id": "386a9684-b68f-4fef-b7d9-76aae762d151"
    },
    {
      "cell_type": "code",
      "execution_count": null,
      "metadata": {},
      "outputs": [],
      "source": [
        "plnr = itstgcnGConvLSTM.planner.PLNR_STGCN_RAND(plans_stgcn_rand,loader10,dataset_name='monte')\n",
        "plnr.simulate()"
      ],
      "id": "431ccda9-335e-42bb-b995-de36963dfa92"
    },
    {
      "cell_type": "code",
      "execution_count": null,
      "metadata": {},
      "outputs": [],
      "source": [
        "plnr = itstgcnGConvLSTM.planner.PLNR_STGCN_RAND(plans_stgcn_rand,loader10,dataset_name='monte')\n",
        "plnr.simulate()"
      ],
      "id": "723287a9-3d28-4041-b83c-51d87d58c3e9"
    },
    {
      "cell_type": "code",
      "execution_count": null,
      "metadata": {},
      "outputs": [],
      "source": [
        "plans_stgcn_rand = {\n",
        "    'max_iteration': 10, \n",
        "    'method': ['STGCN', 'IT-STGCN'],\n",
        "    'mrate': [0.5],\n",
        "    'lags': [4], \n",
        "    'nof_filters': [12], \n",
        "    'inter_method': ['nearest'],\n",
        "    'epoch': [50]\n",
        "}"
      ],
      "id": "eef9f6b5-e873-40a8-b232-67b61251c13c"
    },
    {
      "cell_type": "code",
      "execution_count": null,
      "metadata": {},
      "outputs": [],
      "source": [
        "plnr = itstgcnGConvLSTM.planner.PLNR_STGCN_RAND(plans_stgcn_rand,loader10,dataset_name='monte')\n",
        "plnr.simulate()"
      ],
      "id": "77dd61e0-fddc-44cd-880a-fd88aff665cc"
    },
    {
      "cell_type": "code",
      "execution_count": null,
      "metadata": {},
      "outputs": [],
      "source": [
        "plnr = itstgcnGConvLSTM.planner.PLNR_STGCN_RAND(plans_stgcn_rand,loader10,dataset_name='monte')\n",
        "plnr.simulate()"
      ],
      "id": "5055369d-8af0-40a4-ad55-1184fb2acfa7"
    },
    {
      "cell_type": "code",
      "execution_count": null,
      "metadata": {},
      "outputs": [],
      "source": [
        "plnr = itstgcnGConvLSTM.planner.PLNR_STGCN_RAND(plans_stgcn_rand,loader10,dataset_name='monte')\n",
        "plnr.simulate()"
      ],
      "id": "89f1d9f8-2720-4ed8-93e8-45818ea99d89"
    },
    {
      "cell_type": "code",
      "execution_count": null,
      "metadata": {},
      "outputs": [],
      "source": [
        "plans_stgcn_rand = {\n",
        "    'max_iteration': 10, \n",
        "    'method': ['STGCN', 'IT-STGCN'],\n",
        "    'mrate': [0.7],\n",
        "    'lags': [4], \n",
        "    'nof_filters': [12], \n",
        "    'inter_method': ['nearest'],\n",
        "    'epoch': [50]\n",
        "}"
      ],
      "id": "5c0e98e7-ea64-4d8d-ab37-111d07e587a2"
    },
    {
      "cell_type": "code",
      "execution_count": null,
      "metadata": {},
      "outputs": [],
      "source": [
        "plnr = itstgcnGConvLSTM.planner.PLNR_STGCN_RAND(plans_stgcn_rand,loader10,dataset_name='monte')\n",
        "plnr.simulate()"
      ],
      "id": "4bc872fc-647f-4ad2-972a-06e071d2dcd1"
    },
    {
      "cell_type": "code",
      "execution_count": null,
      "metadata": {},
      "outputs": [],
      "source": [
        "plnr = itstgcnGConvLSTM.planner.PLNR_STGCN_RAND(plans_stgcn_rand,loader10,dataset_name='monte')\n",
        "plnr.simulate()"
      ],
      "id": "cf4bebfe-61a8-45a9-b105-7d46756aa782"
    },
    {
      "cell_type": "code",
      "execution_count": null,
      "metadata": {},
      "outputs": [],
      "source": [
        "plnr = itstgcnGConvLSTM.planner.PLNR_STGCN_RAND(plans_stgcn_rand,loader10,dataset_name='monte')\n",
        "plnr.simulate()"
      ],
      "id": "c310f2ba-ba75-466d-b1f1-0bf6f919975d"
    },
    {
      "cell_type": "markdown",
      "metadata": {},
      "source": [
        "# Import"
      ],
      "id": "7c4fd0b2-783b-4bcb-b569-f6db1f5a457e"
    },
    {
      "cell_type": "code",
      "execution_count": 28,
      "metadata": {},
      "outputs": [],
      "source": [
        "import matplotlib.pyplot as plt\n",
        "import pandas as pd\n",
        "import numpy as np"
      ],
      "id": "8ae15664-e12d-412d-b572-5becb0e708c6"
    },
    {
      "cell_type": "markdown",
      "metadata": {},
      "source": [
        "# Fivenodes"
      ],
      "id": "169b06e0-ca19-4010-b08c-7aabd8bc2fff"
    },
    {
      "cell_type": "code",
      "execution_count": 29,
      "metadata": {},
      "outputs": [],
      "source": [
        "# df5 = pd.read_csv('./simulation_results/2023-06-04_13-29-16.csv')\n",
        "# df6 = pd.read_csv('./simulation_results/2023-06-04_13-39-55.csv')\n",
        "# df7 = pd.read_csv('./simulation_results/2023-06-04_13-50-24.csv')\n",
        "# k=1"
      ],
      "id": "ef744833-b441-4756-8128-e95916ba0bb6"
    },
    {
      "cell_type": "code",
      "execution_count": 30,
      "metadata": {},
      "outputs": [],
      "source": [
        "df1 = pd.read_csv('./simulation_results/2023-06-07_08-10-42.csv')\n",
        "df2 = pd.read_csv('./simulation_results/2023-06-07_09-14-08.csv')\n",
        "df3 = pd.read_csv('./simulation_results/2023-06-07_10-17-23.csv')\n",
        "df4 = pd.read_csv('./simulation_results/2023-06-07_11-20-35.csv')\n",
        "df5 = pd.read_csv('./simulation_results/2023-06-07_12-23-45.csv')\n",
        "df6 = pd.read_csv('./simulation_results/2023-06-07_13-15-54.csv')\n",
        "df7 = pd.read_csv('./simulation_results/2023-06-13_11-25-39.csv')\n",
        "df8 = pd.read_csv('./simulation_results/2023-06-13_12-25-51.csv')"
      ],
      "id": "758c7ac7-68d8-4efc-9577-4d3509b7172a"
    },
    {
      "cell_type": "code",
      "execution_count": 31,
      "metadata": {},
      "outputs": [],
      "source": [
        "df9 = pd.read_csv('./simulation_results/2023-07-16_09-20-23.csv')\n",
        "df10 = pd.read_csv('./simulation_results/2023-07-16_10-22-53.csv')\n",
        "df11 = pd.read_csv('./simulation_results/2023-07-16_11-27-39.csv')\n",
        "df12 = pd.read_csv('./simulation_results/2023-07-16_12-30-05.csv')\n",
        "df13 = pd.read_csv('./simulation_results/2023-07-16_13-33-28.csv')\n",
        "df14 = pd.read_csv('./simulation_results/2023-07-16_14-34-12.csv')"
      ],
      "id": "315bd351-09a7-4101-8db5-dad97a6ea03f"
    },
    {
      "cell_type": "code",
      "execution_count": 32,
      "metadata": {},
      "outputs": [],
      "source": [
        "data = pd.concat([df1,df2,df3,df4,df5,df6,df7,df8,df9,df10,df11,df12,df13,df14],axis=0)"
      ],
      "id": "d67cf5ee-4bc5-4255-8b88-7c1af3598043"
    },
    {
      "cell_type": "code",
      "execution_count": 33,
      "metadata": {},
      "outputs": [],
      "source": [
        "data.to_csv('./simulation_results/Real_simulation_reshape/GConvLSTM_fivedones_Simulation.csv',index=False)"
      ],
      "id": "829b556b-2c04-4a40-b913-78791b64d240"
    },
    {
      "cell_type": "code",
      "execution_count": 34,
      "metadata": {},
      "outputs": [],
      "source": [
        "data = pd.read_csv('./simulation_results/Real_simulation_reshape/GConvLSTM_fivedones_Simulation.csv')"
      ],
      "id": "6b0bf604-564f-47c6-8946-9eb4b55bb9d0"
    },
    {
      "cell_type": "markdown",
      "metadata": {},
      "source": [
        "## Baseline"
      ],
      "id": "f3a89ee4-1b79-4bff-bc6a-301b5db7175e"
    },
    {
      "cell_type": "code",
      "execution_count": 35,
      "metadata": {
        "tags": []
      },
      "outputs": [],
      "source": [
        "data.query(\"method!='GNAR' and mrate==0\").plot.box(backend='plotly',x='mrate',color='method',y='mse',facet_col='lags',facet_row='nof_filters',height=600)\n"
      ],
      "id": "25387ea0-e4df-4700-9507-dfe0b8d91451"
    },
    {
      "cell_type": "markdown",
      "metadata": {},
      "source": [
        "## Random"
      ],
      "id": "6ca441a3-cb50-4e2c-9857-1d3015bb58f5"
    },
    {
      "cell_type": "code",
      "execution_count": 36,
      "metadata": {},
      "outputs": [],
      "source": [
        "data.query(\"method!='GNAR' and mtype =='rand'\").plot.box(backend='plotly',x='mrate',color='method',y='mse',facet_col='inter_method',facet_row='nof_filters',height=600)\n",
        "\n"
      ],
      "id": "9d86a366-35cd-46dd-8e17-329125e97a18"
    },
    {
      "cell_type": "markdown",
      "metadata": {},
      "source": [
        "## Block"
      ],
      "id": "6de3e93e-adc3-4599-846a-1ee08bd01222"
    },
    {
      "cell_type": "code",
      "execution_count": 37,
      "metadata": {},
      "outputs": [],
      "source": [
        "data.query(\"method!='GNAR' and mtype =='block' \").plot.box(backend='plotly',x='mrate',color='method',y='mse',facet_col='inter_method',facet_row='nof_filters',height=600)\n"
      ],
      "id": "51db1b6a-3deb-43c9-8d64-56074780fecf"
    },
    {
      "cell_type": "markdown",
      "metadata": {},
      "source": [
        "# chickenpox"
      ],
      "id": "a6cf9081-6c25-413c-a4c2-8a413491b308"
    },
    {
      "cell_type": "code",
      "execution_count": 38,
      "metadata": {
        "tags": []
      },
      "outputs": [],
      "source": [
        "# df1 = pd.read_csv('./simulation_results/2023-06-02_14-03-24.csv') # GNAR random\n",
        "# df2 = pd.read_csv('./simulation_results/2023-06-03_15-57-09.csv') # GNAR block\n",
        "# df3 = pd.read_csv('./simulation_results/2023-06-03_17-58-22.csv') # STGCN, ITSTGCN random 30%\n",
        "\n",
        "## 하이퍼 파라메터 조정해서 다시 함!\n",
        "df1 = pd.read_csv('./simulation_results/2023-06-07_22-08-57.csv') \n",
        "df2 = pd.read_csv('./simulation_results/2023-06-08_01-57-25.csv') \n",
        "df3 = pd.read_csv('./simulation_results/2023-06-08_03-58-56.csv') \n",
        "df4 = pd.read_csv('./simulation_results/2023-06-08_06-00-50.csv')\n",
        "df5 = pd.read_csv('./simulation_results/2023-06-08_09-11-04.csv')\n",
        "df6 = pd.read_csv('./simulation_results/2023-06-08_13-06-18.csv')"
      ],
      "id": "ad4d67b3-ad09-4417-a2fe-358ea966bee4"
    },
    {
      "cell_type": "code",
      "execution_count": 39,
      "metadata": {},
      "outputs": [],
      "source": [
        "df7 = pd.read_csv('./simulation_results/2023-07-16_18-29-09.csv')\n",
        "df8 = pd.read_csv('./simulation_results/2023-07-16_22-21-02.csv')\n",
        "df9 = pd.read_csv('./simulation_results/2023-07-17_02-20-42.csv')\n",
        "df10 = pd.read_csv('./simulation_results/2023-07-17_06-23-41.csv')"
      ],
      "id": "c3a8853b-ac24-4890-a6e4-abef4d567c8b"
    },
    {
      "cell_type": "code",
      "execution_count": 40,
      "metadata": {},
      "outputs": [],
      "source": [
        "data = pd.concat([df1,df2,df3,df4,df5,df6,df7,df8,df9,df10],axis=0)"
      ],
      "id": "fb7b629a-e970-4c05-9bc6-07bb571a5b1b"
    },
    {
      "cell_type": "code",
      "execution_count": 41,
      "metadata": {},
      "outputs": [],
      "source": [
        "data.to_csv('./simulation_results/Real_simulation_reshape/GConvLSTM_chikenpox_Simulation.csv',index=False)"
      ],
      "id": "b2343102-1aeb-472d-8ffd-f63403dd1fe1"
    },
    {
      "cell_type": "code",
      "execution_count": 42,
      "metadata": {},
      "outputs": [],
      "source": [
        "data = pd.read_csv('./simulation_results/Real_simulation_reshape/GConvLSTM_chikenpox_Simulation.csv')"
      ],
      "id": "6809a8b2-0c03-4a5c-a3d8-6c24fdc5f012"
    },
    {
      "cell_type": "markdown",
      "metadata": {},
      "source": [
        "## Baseline"
      ],
      "id": "8ba74aa3-17f7-4df8-909b-b91c3c1aef96"
    },
    {
      "cell_type": "code",
      "execution_count": 43,
      "metadata": {},
      "outputs": [],
      "source": [
        "data.query(\"method!='GNAR' and mrate ==0 \").plot.box(backend='plotly',x='mrate',color='method',y='mse',facet_col='nof_filters',height=600)\n"
      ],
      "id": "7af1d952-edf1-4991-8920-dcbd057ce622"
    },
    {
      "cell_type": "markdown",
      "metadata": {},
      "source": [
        "## Random"
      ],
      "id": "47d05e62-06e2-4533-9622-9dfeb695ef02"
    },
    {
      "cell_type": "code",
      "execution_count": 44,
      "metadata": {},
      "outputs": [],
      "source": [
        "data.query(\"method!='GNAR' and mtype =='rand'\").plot.box(backend='plotly',x='mrate',color='method',y='mse',facet_col='nof_filters',facet_row='inter_method',height=800)\n"
      ],
      "id": "92c8b822-2bc0-470b-b4d6-272cf85b5733"
    },
    {
      "cell_type": "markdown",
      "metadata": {},
      "source": [
        "## Block"
      ],
      "id": "1809c4d3-43a7-41fa-aff8-c3f169a5c51e"
    },
    {
      "cell_type": "code",
      "execution_count": 45,
      "metadata": {},
      "outputs": [],
      "source": [
        "data.query(\"method!='GNAR' and mtype =='block'\").plot.box(backend='plotly',x='mrate',color='method',y='mse',facet_col='inter_method',facet_row='lags',height=800)\n"
      ],
      "id": "c330f84a-88c8-41b4-93e4-512add121ee6"
    },
    {
      "cell_type": "markdown",
      "metadata": {},
      "source": [
        "# Pedalme"
      ],
      "id": "4aee9b65-2657-445a-a7ed-c698b10408f8"
    },
    {
      "cell_type": "code",
      "execution_count": null,
      "metadata": {},
      "outputs": [],
      "source": [
        "# df3 = pd.read_csv('./simulation_results/2023-06-04_13-03-18.csv') \n",
        "# df4 = pd.read_csv('./simulation_results/2023-06-04_13-19-20.csv') \n",
        "# k=1"
      ],
      "id": "d23db65b-9b4f-4d18-baa1-e613be013fe2"
    },
    {
      "cell_type": "code",
      "execution_count": 46,
      "metadata": {},
      "outputs": [],
      "source": [
        "df1 = pd.read_csv('./simulation_results/2023-06-08_14-08-24.csv') \n",
        "df2 = pd.read_csv('./simulation_results/2023-06-10_14-21-35.csv') "
      ],
      "id": "b28220c4-8081-481c-a609-da4795653be5"
    },
    {
      "cell_type": "code",
      "execution_count": 47,
      "metadata": {},
      "outputs": [],
      "source": [
        "df3 = pd.read_csv('./simulation_results/2023-07-17_07-05-13.csv') "
      ],
      "id": "414c8a4e-438b-4957-bae4-28819f5df843"
    },
    {
      "cell_type": "code",
      "execution_count": 48,
      "metadata": {},
      "outputs": [],
      "source": [
        "data = pd.concat([df1,df2,df3],axis=0)"
      ],
      "id": "18a68603-0b75-4fbc-8f45-6e476617b6c1"
    },
    {
      "cell_type": "code",
      "execution_count": 49,
      "metadata": {},
      "outputs": [],
      "source": [
        "data.to_csv('./simulation_results/Real_simulation_reshape/GConvLSTM_pedalme_Simulation.csv',index=False)"
      ],
      "id": "055e7264-3fdd-4036-a3b6-958d69be6afd"
    },
    {
      "cell_type": "code",
      "execution_count": 50,
      "metadata": {},
      "outputs": [],
      "source": [
        "data = pd.read_csv('./simulation_results/Real_simulation_reshape/GConvLSTM_pedalme_Simulation.csv')"
      ],
      "id": "ff473657-e955-49bb-93fe-07d131f5f47b"
    },
    {
      "cell_type": "markdown",
      "metadata": {},
      "source": [
        "## Baseline"
      ],
      "id": "ffa7493b-acb2-4c0a-957a-a77fe758263a"
    },
    {
      "cell_type": "code",
      "execution_count": 51,
      "metadata": {},
      "outputs": [],
      "source": [
        "data.query(\"mrate ==0 and lags!=2\").plot.box(backend='plotly',x='epoch',color='method',y='mse',facet_col='nof_filters',facet_row='lags',height=400)\n"
      ],
      "id": "24462bda-a996-4a17-9481-96e31a981570"
    },
    {
      "cell_type": "markdown",
      "metadata": {},
      "source": [
        "## random"
      ],
      "id": "0f27cb54-43d1-45be-b961-19e322cb6b21"
    },
    {
      "cell_type": "code",
      "execution_count": 52,
      "metadata": {},
      "outputs": [],
      "source": [
        "data.query(\"method!='GNAR' and mtype =='rand' and lags!=2\").plot.box(backend='plotly',x='mrate',color='method',y='mse',facet_col='nof_filters',facet_row='inter_method',height=800)\n"
      ],
      "id": "795c08e7-4e4d-4261-9df0-d79bb313c046"
    },
    {
      "cell_type": "markdown",
      "metadata": {},
      "source": [
        "## block"
      ],
      "id": "7e312271-2af4-48b1-b7a5-1e2c11eb9d67"
    },
    {
      "cell_type": "code",
      "execution_count": 53,
      "metadata": {},
      "outputs": [],
      "source": [
        "data.query(\"method!='GNAR' and mtype =='block' and lags!=2 \").plot.box(backend='plotly',x='mrate',color='method',y='mse',facet_col='nof_filters',facet_row='inter_method',height=800)\n"
      ],
      "id": "36025831-5fec-435b-88f4-5482c21a6458"
    },
    {
      "cell_type": "markdown",
      "metadata": {},
      "source": [
        "## weight matrix time, node 고려한 결과"
      ],
      "id": "889137ad-aed3-4af2-b1c7-bf4686b5b2ef"
    },
    {
      "cell_type": "code",
      "execution_count": 169,
      "metadata": {},
      "outputs": [],
      "source": [
        "df1 = pd.read_csv('./simulation_results/2023-06-10_15-33-00.csv')\n",
        "df2 = pd.read_csv('./simulation_results/2023-06-10_16-06-20.csv')"
      ],
      "id": "104e4411-9d30-4486-acff-fa7d4a491e0c"
    },
    {
      "cell_type": "code",
      "execution_count": 170,
      "metadata": {},
      "outputs": [],
      "source": [
        "data2 = pd.concat([df1,df2],axis=0)"
      ],
      "id": "dc4bbb1e-4fb8-4b0a-bdd3-11f426f7ce95"
    },
    {
      "cell_type": "code",
      "execution_count": 171,
      "metadata": {},
      "outputs": [],
      "source": [
        "data2.to_csv('./simulation_results/Real_simulation_reshape/GConvLSTM_pedalme_Simulation_itstgcnsnd.csv',index=False)"
      ],
      "id": "716ca977-7245-4eec-9b82-8c4d61a9975d"
    },
    {
      "cell_type": "code",
      "execution_count": 172,
      "metadata": {},
      "outputs": [],
      "source": [
        "data2 = pd.read_csv('./simulation_results/Real_simulation_reshape/GConvLSTM_pedalme_Simulation_itstgcnsnd.csv')"
      ],
      "id": "1d4dfd69-0aeb-4ae3-8bb4-b91c77f549e3"
    },
    {
      "cell_type": "code",
      "execution_count": 173,
      "metadata": {},
      "outputs": [],
      "source": [
        "data2.query(\"mtype=='rand'\").plot.box(backend='plotly',x='mrate',color='method',y='mse',facet_col='inter_method',facet_row='nof_filters',height=1000)"
      ],
      "id": "9be90c4a-12f4-4b62-9297-f6c32dd1f1a3"
    },
    {
      "cell_type": "code",
      "execution_count": 174,
      "metadata": {},
      "outputs": [],
      "source": [
        "data2.query(\"mtype=='block'\").plot.box(backend='plotly',x='mrate',color='method',y='mse',facet_col='inter_method',facet_row='nof_filters',height=1000)"
      ],
      "id": "f5b3c3d0-98dc-4f67-af49-49cb3bc16eed"
    },
    {
      "cell_type": "markdown",
      "metadata": {},
      "source": [
        "# Wikimath"
      ],
      "id": "c8d5165d-b576-4c4f-a135-2c5ae59d6351"
    },
    {
      "cell_type": "code",
      "execution_count": 284,
      "metadata": {},
      "outputs": [],
      "source": [
        "df1 = pd.read_csv('./simulation_results/2023-06-09_05-04-53.csv') # 0.3\n",
        "df2 = pd.read_csv('./simulation_results/2023-06-09_22-51-24.csv') # 0.3\n",
        "df3 = pd.read_csv('./simulation_results/2023-06-10_13-44-50.csv') # 0.3\n",
        "df4 = pd.read_csv('./simulation_results/2023-06-11_17-52-38.csv') # 0.8\n",
        "df5 = pd.read_csv('./simulation_results/2023-06-12_22-28-48.csv') # 0.8\n",
        "df6 = pd.read_csv('./simulation_results/2023-06-13_19-20-20.csv') # 0\n",
        "df7 = pd.read_csv('./simulation_results/2023-06-14_20-51-43.csv') # 0\n",
        "df8 = pd.read_csv('./simulation_results/2023-06-15_17-05-25.csv') # 0\n",
        "df9 = pd.read_csv('./simulation_results/2023-06-13_16-54-57.csv') # block\n",
        "df10 = pd.read_csv('./simulation_results/2023-06-12_20-55-27.csv') # block\n",
        "df11 = pd.read_csv('./simulation_results/2023-06-12_01-29-40.csv') # block\n",
        "# 11개 끝나면 같은 노드 missing 으로 넘어가기"
      ],
      "id": "398bad76-161a-4c71-b1e6-d7fa8b0f3b3e"
    },
    {
      "cell_type": "code",
      "execution_count": 285,
      "metadata": {},
      "outputs": [],
      "source": [
        "data = pd.concat([df1,df2,df3,df4,df5,df6,df7,df8,df9,df10,df11],axis=0)"
      ],
      "id": "8a51c164-eec6-4e29-a494-e37e8ef0bebc"
    },
    {
      "cell_type": "code",
      "execution_count": 286,
      "metadata": {},
      "outputs": [],
      "source": [
        "data.to_csv('./simulation_results/Real_simulation_reshape/GConvLSTM_wikimath.csv',index=False)"
      ],
      "id": "8513159e-2811-4beb-9da4-d6c4c58a6449"
    },
    {
      "cell_type": "code",
      "execution_count": 287,
      "metadata": {},
      "outputs": [],
      "source": [
        "data = pd.read_csv('./simulation_results/Real_simulation_reshape/GConvLSTM_wikimath.csv')"
      ],
      "id": "bfca75b7-c372-48de-bd19-17a9f6f77cbb"
    },
    {
      "cell_type": "markdown",
      "metadata": {},
      "source": [
        "## Baseline"
      ],
      "id": "3a1aa9e2-7f33-4cd8-a01f-b18ac937d52e"
    },
    {
      "cell_type": "code",
      "execution_count": 288,
      "metadata": {},
      "outputs": [],
      "source": [
        "data.query(\"mrate==0 \").plot.box(backend='plotly',x='mrate',color='method',y='mse',height=600)"
      ],
      "id": "66cb57ae-692a-475c-9dd3-78ff058adba6"
    },
    {
      "cell_type": "markdown",
      "metadata": {},
      "source": [
        "## random"
      ],
      "id": "78c6406a-d47b-488a-9019-26f706ca116a"
    },
    {
      "cell_type": "code",
      "execution_count": 289,
      "metadata": {},
      "outputs": [],
      "source": [
        "data.query(\"mtype=='rand' and mrate !=0 and method!='GNAR'\").plot.box(backend='plotly',x='mrate',color='method',y='mse',facet_col='lags',facet_row='nof_filters',height=800)\n"
      ],
      "id": "d17afd9c-88fd-48b8-a1ec-895a012a4af6"
    },
    {
      "cell_type": "markdown",
      "metadata": {},
      "source": [
        "## block"
      ],
      "id": "d2b9e5f1-fead-463d-9ab3-2e5e4c6ca7ef"
    },
    {
      "cell_type": "code",
      "execution_count": 290,
      "metadata": {},
      "outputs": [],
      "source": [
        "data.query(\"mtype=='block' \").plot.box(backend='plotly',x='mrate',color='method',y='mse',facet_col='lags',facet_row='nof_filters',height=1200)\n"
      ],
      "id": "70888484-1469-463b-acda-33c8a825e478"
    },
    {
      "cell_type": "markdown",
      "metadata": {},
      "source": [
        "## missing values on the same nodes"
      ],
      "id": "a11b69b0-e223-4bdd-896d-f1a41fdb2344"
    },
    {
      "cell_type": "code",
      "execution_count": 292,
      "metadata": {
        "tags": []
      },
      "outputs": [],
      "source": [
        "df1 = pd.read_csv('./simulation_results/2023-06-14_19-23-44.csv') # STGCN IT-STGCN block\n",
        "df2 = pd.read_csv('./simulation_results/2023-06-15_15-51-38.csv')\n",
        "df3 = pd.read_csv('./simulation_results/2023-06-16_04-32-51.csv')"
      ],
      "id": "2cd440a3-a825-4031-ad10-edbf999ddecf"
    },
    {
      "cell_type": "code",
      "execution_count": 293,
      "metadata": {},
      "outputs": [],
      "source": [
        "data = pd.concat([df1,df2,df3],axis=0)"
      ],
      "id": "4a3e84de-3f3e-4c3a-bb8d-d310d9de91aa"
    },
    {
      "cell_type": "code",
      "execution_count": 294,
      "metadata": {},
      "outputs": [],
      "source": [
        "data.to_csv('./simulation_results/Real_simulation_reshape/GConvLSTM_wikimath_GSO_st.csv',index=False)"
      ],
      "id": "bb7c4715-64a9-4b73-9494-e4d1c0b1d05c"
    },
    {
      "cell_type": "code",
      "execution_count": 295,
      "metadata": {},
      "outputs": [],
      "source": [
        "data = pd.read_csv('./simulation_results/Real_simulation_reshape/GConvLSTM_wikimath_GSO_st.csv')"
      ],
      "id": "2b22c505-02f5-4a49-880f-5b5f0e1ad317"
    },
    {
      "cell_type": "code",
      "execution_count": 296,
      "metadata": {},
      "outputs": [],
      "source": [
        "data.query(\"method!='GNAR' and mtype =='block' \").plot.box(backend='plotly',x='mrate',color='method',y='mse',facet_col='inter_method',facet_row='lags',height=800)\n"
      ],
      "id": "a88b0b88-d25f-403f-bc21-ae047c0f883e"
    },
    {
      "cell_type": "markdown",
      "metadata": {},
      "source": [
        "# Windmilsmall"
      ],
      "id": "01af3e99-bdfd-45aa-bff9-c9fc4e4e7e69"
    },
    {
      "cell_type": "code",
      "execution_count": 712,
      "metadata": {},
      "outputs": [],
      "source": [
        "df1 = pd.read_csv('./simulation_results/2023-06-18_08-49-16.csv') # STGCN IT-STGCN 70%\n",
        "df2 = pd.read_csv('./simulation_results/2023-06-18_19-23-41.csv') # STGCN IT-STGCN\n",
        "df3 = pd.read_csv('./simulation_results/2023-06-19_05-43-03.csv') # STGCN IT-STGCN\n",
        "df4 = pd.read_csv('./simulation_results/2023-06-19_05-43-03.csv') # STGCN IT-STGCN\n",
        "df5 = pd.read_csv('./simulation_results/2023-06-19_15-49-47.csv') # STGCN IT-STGCN\n",
        "df6 = pd.read_csv('./simulation_results/2023-06-20_01-48-58.csv') #\n",
        "df7 = pd.read_csv('./simulation_results/2023-06-20_10-46-07.csv') # STGCN IT-STGCN\n",
        "df8 = pd.read_csv('./simulation_results/2023-06-20_22-24-25.csv') # STGCN IT-STGCN\n",
        "df9 = pd.read_csv('./simulation_results/2023-06-21_08-49-11.csv') # STGCN IT-STGCN\n",
        "df10 = pd.read_csv('./simulation_results/2023-06-21_18-48-04.csv') # STGCN IT-STGCN\n",
        "df11 = pd.read_csv('./simulation_results/2023-06-22_04-57-53.csv') # STGCN IT-STGCN\n",
        "df12 = pd.read_csv('./simulation_results/2023-06-23_01-51-16.csv') # STGCN IT-STGCN\n",
        "df13 = pd.read_csv('./simulation_results/2023-06-23_09-45-30.csv') # STGCN IT-STGCN\n",
        "df14 = pd.read_csv('./simulation_results/2023-06-23_17-38-53.csv') # STGCN IT-STGCN\n",
        "df15 = pd.read_csv('./simulation_results/2023-06-24_03-32-00.csv') # STGCN IT-STGCN\n",
        "df16 = pd.read_csv('./simulation_results/2023-06-24_14-02-04.csv') # STGCN IT-STGCN\n",
        "df17 = pd.read_csv('./simulation_results/2023-06-25_00-33-49.csv') # STGCN IT-STGCN\n",
        "df18 = pd.read_csv('./simulation_results/2023-06-25_11-14-03.csv') # STGCN IT-STGCN\n",
        "df19 = pd.read_csv('./simulation_results/2023-06-25_21-52-31.csv') # STGCN IT-STGCN\n",
        "df20 = pd.read_csv('./simulation_results/2023-06-26_09-32-33.csv') # STGCN IT-STGCN\n",
        "df21 = pd.read_csv('./simulation_results/2023-06-26_20-26-47.csv') # STGCN IT-STGCN\n",
        "df22 = pd.read_csv('./simulation_results/2023-06-30_22-22-17.csv') # STGCN IT-STGCN\n",
        "df23 = pd.read_csv('./simulation_results/2023-06-27_07-38-02.csv') # STGCN IT-STGCN\n",
        "df24 = pd.read_csv('./simulation_results/2023-06-27_17-42-21.csv') # STGCN IT-STGCN\n",
        "df25 = pd.read_csv('./simulation_results/2023-06-27_23-25-36.csv') # STGCN IT-STGCN\n",
        "df26 = pd.read_csv('./simulation_results/2023-06-28_04-51-32.csv') # STGCN IT-STGCN\n",
        "df27 = pd.read_csv('./simulation_results/2023-06-28_13-42-03.csv') # STGCN IT-STGCN\n",
        "df28 = pd.read_csv('./simulation_results/2023-06-28_23-31-39.csv') # STGCN IT-STGCN\n",
        "df29 = pd.read_csv('./simulation_results/2023-06-29_07-37-23.csv') # STGCN IT-STGCN\n",
        "df30 = pd.read_csv('./simulation_results/2023-06-29_11-42-51.csv') # STGCN IT-STGCN\n",
        "df31 = pd.read_csv('./simulation_results/2023-06-29_18-56-11.csv') # GNAR 70%\n",
        "df32 = pd.read_csv('./simulation_results/2023-06-29_23-00-06.csv') # GNAR \n",
        "df33 = pd.read_csv('./simulation_results/2023-06-30_07-55-33.csv')\n",
        "df34 = pd.read_csv('./simulation_results/2023-06-30_13-16-45.csv')\n",
        "df35 = pd.read_csv('./simulation_results/2023-06-30_22-22-17.csv')\n",
        "df36 = pd.read_csv('./simulation_results/2023-07-01_02-32-38.csv')\n",
        "df37 = pd.read_csv('./simulation_results/2023-05-02_01-10-53.csv')\n",
        "df38 = pd.read_csv('./simulation_results/2023-07-01_22-06-17.csv')\n",
        "df39 = pd.read_csv('./simulation_results/2023-07-02_02-39-51.csv')\n",
        "df40 = pd.read_csv('./simulation_results/2023-07-02_10-30-04.csv')\n",
        "df41 = pd.read_csv('./simulation_results/2023-07-02_14-55-00.csv')\n",
        "df42 = pd.read_csv('./simulation_results/2023-07-02_22-39-16.csv')\n",
        "df43 = pd.read_csv('./simulation_results/2023-07-03_02-31-23.csv')\n",
        "df44 = pd.read_csv('./simulation_results/2023-07-03_09-46-01.csv')\n",
        "df45 = pd.read_csv('./simulation_results/2023-07-03_13-39-49.csv')\n",
        "df46 = pd.read_csv('./simulation_results/2023-07-03_20-27-34.csv')\n",
        "df47 = pd.read_csv('./simulation_results/2023-07-03_23-24-36.csv')\n",
        "df48 = pd.read_csv('./simulation_results/2023-07-04_04-53-17.csv')\n",
        "df49 = pd.read_csv('./simulation_results/2023-07-04_07-47-18.csv')\n",
        "df50 = pd.read_csv('./simulation_results/2023-07-04_13-19-43.csv')\n",
        "df51 = pd.read_csv('./simulation_results/2023-07-04_16-15-28.csv')\n",
        "df52 = pd.read_csv('./simulation_results/2023-07-04_21-45-58.csv')\n",
        "df53 = pd.read_csv('./simulation_results/2023-07-05_00-42-02.csv')\n",
        "df54 = pd.read_csv('./simulation_results/2023-07-05_06-10-53.csv')\n",
        "df55 = pd.read_csv('./simulation_results/2023-07-05_09-04-03.csv')\n",
        "df56 = pd.read_csv('./simulation_results/2023-07-05_14-35-14.csv')\n",
        "df57 = pd.read_csv('./simulation_results/2023-07-05_17-33-38.csv')\n",
        "df58 = pd.read_csv('./simulation_results/2023-07-05_23-06-14.csv')\n",
        "df59 = pd.read_csv('./simulation_results/2023-07-06_01-59-24.csv')\n",
        "df60 = pd.read_csv('./simulation_results/2023-07-06_07-30-43.csv')\n",
        "df61 = pd.read_csv('./simulation_results/2023-07-06_10-26-11.csv')\n",
        "df62 = pd.read_csv('./simulation_results/2023-07-06_15-56-04.csv')\n",
        "df63 = pd.read_csv('./simulation_results/2023-07-06_18-51-39.csv')\n",
        "df64 = pd.read_csv('./simulation_results/2023-07-07_00-20-44.csv')\n",
        "df65 = pd.read_csv('./simulation_results/2023-07-07_03-16-52.csv')\n",
        "df66 = pd.read_csv('./simulation_results/2023-07-07_08-45-18.csv')\n",
        "df67 = pd.read_csv('./simulation_results/2023-07-07_11-42-32.csv')\n",
        "df68 = pd.read_csv('./simulation_results/2023-07-07_17-11-59.csv')\n",
        "df69 = pd.read_csv('./simulation_results/2023-07-07_20-09-16.csv')\n",
        "df70 = pd.read_csv('./simulation_results/2023-07-08_01-39-33.csv') \n",
        "df71 = pd.read_csv('./simulation_results/2023-07-08_04-35-48.csv')\n",
        "df72 = pd.read_csv('./simulation_results/2023-07-08_10-41-29.csv')\n",
        "df73 = pd.read_csv('./simulation_results/2023-07-08_14-48-52.csv')\n",
        "df74 = pd.read_csv('./simulation_results/2023-07-08_22-15-53.csv')\n",
        "df75 = pd.read_csv('./simulation_results/2023-07-09_02-11-41.csv')\n",
        "df76 = pd.read_csv('./simulation_results/2023-07-09_09-59-35.csv')\n",
        "df77 = pd.read_csv('./simulation_results/2023-07-09_14-17-00.csv')\n",
        "df78 = pd.read_csv('./simulation_results/2023-07-09_22-10-25.csv')\n",
        "df79 = pd.read_csv('./simulation_results/2023-07-10_02-39-25.csv')\n",
        "df80 = pd.read_csv('./simulation_results/2023-07-10_12-33-23.csv')\n",
        "df81 = pd.read_csv('./simulation_results/2023-07-10_17-03-55.csv')\n",
        "df82 = pd.read_csv('./simulation_results/2023-07-11_01-43-12.csv')\n",
        "df83 = pd.read_csv('./simulation_results/2023-07-11_05-19-38.csv')\n",
        "df84 = pd.read_csv('./simulation_results/2023-07-11_13-21-44.csv')\n",
        "df85 = pd.read_csv('./simulation_results/2023-07-11_16-56-36.csv')\n",
        "df86 = pd.read_csv('./simulation_results/2023-07-12_05-06-36.csv')\n",
        "df87 = pd.read_csv('./simulation_results/2023-07-12_10-10-49.csv')\n",
        "df88 = pd.read_csv('./simulation_results/2023-07-12_17-03-55.csv')\n",
        "df89 = pd.read_csv('./simulation_results/2023-07-13_15-31-01.csv')\n",
        "df90 = pd.read_csv('./simulation_results/2023-07-14_20-29-43.csv')\n",
        "df91 = pd.read_csv('./simulation_results/2023-07-13_04-24-40.csv')\n",
        "df92 = pd.read_csv('./simulation_results/2023-07-15_09-33-11.csv')"
      ],
      "id": "f8d8ebc6-3529-491a-afd8-898df47d12b5"
    },
    {
      "cell_type": "code",
      "execution_count": 713,
      "metadata": {},
      "outputs": [],
      "source": [
        "data = pd.concat([df1,df2,df3,df4,df5,df6,df7,df8,df9,df10,df11,df12,df13,df14,df15,df16,df17,df18,df19,df20,df21,\n",
        "                 df22,df23,df24,df25,df26,df27,df28,df29,df30,df31,df32,df33,df34,df35,df36,df37,df38,df39,df40,\n",
        "                 df41,df42,df43,df44,df45,df46,df47,df48,df29,df50,df51,df52,df53,df54,df55,df56,df57,df58,df59,df60,df61,\n",
        "                 df62,df63,df64,df65,df66,df67,df68,df69,df70,df71,df72,df73,df74,df75,df76,df77,df78,df79,df80,df81,\n",
        "                 df82,df83,df84,df85,df86,df87,df88,df89,df90,df91,df92],axis=0)"
      ],
      "id": "fe6ac71a-f640-4c07-900f-c05ebfe5da51"
    },
    {
      "cell_type": "code",
      "execution_count": 714,
      "metadata": {},
      "outputs": [],
      "source": [
        "data.to_csv('./simulation_results/Real_simulation_reshape/GConvLSTM_windmillsmall.csv',index=False)"
      ],
      "id": "d6313e8e-7fad-429b-95b4-d45730dde1f2"
    },
    {
      "cell_type": "code",
      "execution_count": 715,
      "metadata": {},
      "outputs": [],
      "source": [
        "data = pd.read_csv('./simulation_results/Real_simulation_reshape/GConvLSTM_windmillsmall.csv')"
      ],
      "id": "b1f5f158-a563-40ed-ab6b-1729ce4570b5"
    },
    {
      "cell_type": "markdown",
      "metadata": {},
      "source": [
        "## Baseline"
      ],
      "id": "229a833c-888d-4f08-b5b7-4dc186aca293"
    },
    {
      "cell_type": "code",
      "execution_count": 693,
      "metadata": {},
      "outputs": [],
      "source": [
        "data.query(\"method!='GNAR' and mrate ==0 \").plot.box(backend='plotly',x='mrate',color='method',y='mse',facet_col='lags',height=800)\n"
      ],
      "id": "63297211-7662-45aa-afef-9b7a4c9a6854"
    },
    {
      "cell_type": "markdown",
      "metadata": {},
      "source": [
        "## random"
      ],
      "id": "e985a827-139f-4775-8e8d-f15b881f9e8c"
    },
    {
      "cell_type": "code",
      "execution_count": 694,
      "metadata": {},
      "outputs": [],
      "source": [
        "data.query(\"method!='GNAR' and mtype =='rand' \").plot.box(backend='plotly',x='mrate',color='method',y='mse',facet_col='lags',facet_row='inter_method',height=800)\n"
      ],
      "id": "4080ecac-8557-45a1-8b39-fe7e6d10a808"
    },
    {
      "cell_type": "markdown",
      "metadata": {},
      "source": [
        "## block"
      ],
      "id": "9dbd7d25-9906-4f5f-abcf-55c0c25e70a4"
    },
    {
      "cell_type": "code",
      "execution_count": 695,
      "metadata": {},
      "outputs": [],
      "source": [
        "data.query(\"method!='GNAR' and mtype =='block' \").plot.box(backend='plotly',x='mrate',color='method',y='mse',facet_col='lags',facet_row='inter_method',height=800)\n"
      ],
      "id": "b2c0f804-15ec-4b14-8101-aae5dfaee974"
    },
    {
      "cell_type": "markdown",
      "metadata": {},
      "source": [
        "# Montevideobus"
      ],
      "id": "eb1dac58-f2b9-4e3a-8054-4e5605661895"
    },
    {
      "cell_type": "code",
      "execution_count": 71,
      "metadata": {},
      "outputs": [],
      "source": [
        "df1 = pd.read_csv('./simulation_results/2023-06-09_04-44-47.csv') # lags 8\n",
        "df2 = pd.read_csv('./simulation_results/2023-06-09_10-14-28.csv') # lags 8\n",
        "df3 = pd.read_csv('./simulation_results/2023-06-09_15-02-44.csv') # lags 8\n",
        "df4 = pd.read_csv('./simulation_results/2023-06-09_20-18-35.csv') # lags 8\n",
        "df5 = pd.read_csv('./simulation_results/2023-06-10_19-55-08.csv') # lags 8\n",
        "df6 = pd.read_csv('./simulation_results/2023-06-10_23-03-00.csv') # lags 8\n",
        "df7 = pd.read_csv('./simulation_results/2023-06-11_02-22-49.csv') # lags 8"
      ],
      "id": "a4f2f8e2-a0c5-420e-be91-0e7ac99badfc"
    },
    {
      "cell_type": "code",
      "execution_count": 72,
      "metadata": {},
      "outputs": [],
      "source": [
        "df8 = pd.read_csv('./simulation_results/2023-07-20_01-06-37.csv') # lags 8\n",
        "df9 = pd.read_csv('./simulation_results/2023-07-20_06-05-46.csv') # lags 8\n",
        "df10 = pd.read_csv('./simulation_results/2023-07-20_10-50-04.csv') # lags 8\n",
        "df11 = pd.read_csv('./simulation_results/2023-07-20_15-35-45.csv') # lags 8\n",
        "df12 = pd.read_csv('./simulation_results/2023-07-20_20-12-53.csv') # lags 8\n",
        "df13 = pd.read_csv('./simulation_results/2023-07-21_00-58-20.csv') # lags 8\n",
        "df14 = pd.read_csv('./simulation_results/2023-07-21_05-45-10.csv') # lags 8\n",
        "df15 = pd.read_csv('./simulation_results/2023-07-21_10-13-49.csv') # lags 8\n",
        "df16 = pd.read_csv('./simulation_results/2023-07-21_14-15-40.csv') # lags 8"
      ],
      "id": "74868aeb-36f4-4116-8ca6-ab67ede08cb6"
    },
    {
      "cell_type": "code",
      "execution_count": 73,
      "metadata": {},
      "outputs": [],
      "source": [
        "data = pd.concat([df1,df2,df3,df4,df5,df6,df7,df8,df9,df10,df11,df12,df13,df14,df15,df16],axis=0)"
      ],
      "id": "7b72db9d-d55a-4a33-b28b-60cc15b43e41"
    },
    {
      "cell_type": "code",
      "execution_count": 74,
      "metadata": {},
      "outputs": [],
      "source": [
        "data.to_csv('./simulation_results/Real_simulation_reshape/GConvLSTM_monte.csv',index=False)"
      ],
      "id": "1e73ebd4-7663-4f08-b826-b612fe7fd769"
    },
    {
      "cell_type": "code",
      "execution_count": 75,
      "metadata": {},
      "outputs": [],
      "source": [
        "data = pd.read_csv('./simulation_results/Real_simulation_reshape/GConvLSTM_monte.csv')"
      ],
      "id": "205cbc57-6b48-4669-8d76-a24b0646a4ea"
    },
    {
      "cell_type": "markdown",
      "metadata": {},
      "source": [
        "## Baseline"
      ],
      "id": "d599ccb0-d387-44d1-9017-f00f076d6d0a"
    },
    {
      "cell_type": "code",
      "execution_count": 76,
      "metadata": {},
      "outputs": [],
      "source": [
        "data.query(\"mrate==0 and method!='GNAR'\").plot.box(backend='plotly',x='mrate',color='method',y='mse',facet_col='lags',facet_row='nof_filters',height=600)"
      ],
      "id": "536272a9-862f-46f6-8c64-46a2aca3c71a"
    },
    {
      "cell_type": "markdown",
      "metadata": {},
      "source": [
        "## random"
      ],
      "id": "74f00e15-ecc3-4133-948a-c4844652242b"
    },
    {
      "cell_type": "code",
      "execution_count": 79,
      "metadata": {},
      "outputs": [],
      "source": [
        "data.query(\"mtype=='rand' and mrate !=0 and method!='GNAR'\").plot.box(backend='plotly',x='mrate',color='method',y='mse',facet_col='lags',facet_row='inter_method',height=800)\n"
      ],
      "id": "28fb4a51-e2bc-4096-8564-4e84f12f18a5"
    },
    {
      "cell_type": "markdown",
      "metadata": {},
      "source": [
        "## block"
      ],
      "id": "0a793b55-a045-495d-95c9-c0a348c50ab0"
    },
    {
      "cell_type": "code",
      "execution_count": 78,
      "metadata": {},
      "outputs": [],
      "source": [
        "data.query(\"mtype=='block' and method!='GNAR'\").plot.box(backend='plotly',x='mrate',color='method',y='mse',facet_col='lags',facet_row='nof_filters',height=1200)\n"
      ],
      "id": "2ba7f4aa-4395-45ee-b68b-3b26b086cae0"
    }
  ],
  "nbformat": 4,
  "nbformat_minor": 5,
  "metadata": {
    "kernelspec": {
      "name": "python3",
      "display_name": "Python 3",
      "language": "python"
    },
    "language_info": {
      "name": "python",
      "codemirror_mode": {
        "name": "ipython",
        "version": "3"
      },
      "file_extension": ".py",
      "mimetype": "text/x-python",
      "nbconvert_exporter": "python",
      "pygments_lexer": "ipython3",
      "version": "3.8.0"
    }
  }
}
{
  "cells": [
    {
      "cell_type": "markdown",
      "metadata": {},
      "source": [
        "# ITSTGCN add Model\n",
        "\n",
        "SEOYEON CHOI  \n",
        "5/31/99\n",
        "\n",
        "> summerizing it\n",
        "\n",
        "# RANDOM\n",
        "\n",
        "# 예"
      ],
      "id": "dbb032a1-f8b9-4bcd-bd5e-21fedd10b820"
    },
    {
      "cell_type": "code",
      "execution_count": 1,
      "metadata": {},
      "outputs": [
        {
          "output_type": "stream",
          "name": "stderr",
          "text": [
            "/home/csy/anaconda3/envs/temp_csy/lib/python3.8/site-packages/tqdm/auto.py:21: TqdmWarning: IProgress not found. Please update jupyter and ipywidgets. See https://ipywidgets.readthedocs.io/en/stable/user_install.html\n",
            "  from .autonotebook import tqdm as notebook_tqdm"
          ]
        }
      ],
      "source": [
        "import itstgcnDCRNN\n",
        "import torch\n",
        "import itstgcnDCRNN.planner \n",
        "import pandas as pd\n",
        "\n",
        "import numpy as np\n",
        "import random"
      ],
      "id": "88c3a149-0278-474e-a152-fda1e01a03f1"
    },
    {
      "cell_type": "code",
      "execution_count": null,
      "metadata": {},
      "outputs": [],
      "source": [
        "data_dict = itstgcnGCLSTM.load_data('./data/fivenodes.pkl')\n",
        "loader = itstgcnGConvLSTM.DatasetLoader(data_dict)"
      ],
      "id": "6a9ddd8d-2552-49cb-96c0-601bf213b360"
    },
    {
      "cell_type": "code",
      "execution_count": null,
      "metadata": {},
      "outputs": [],
      "source": [
        "from torch_geometric_temporal.dataset import ChickenpoxDatasetLoader\n",
        "loader1 = ChickenpoxDatasetLoader()"
      ],
      "id": "ab3815f2-5505-4996-9a08-67e4bef6a3e7"
    },
    {
      "cell_type": "code",
      "execution_count": null,
      "metadata": {},
      "outputs": [],
      "source": [
        "from torch_geometric_temporal.dataset import PedalMeDatasetLoader\n",
        "loader2 = PedalMeDatasetLoader()"
      ],
      "id": "b9e4d35f-4dd4-42ea-b6e7-df5c80b5ed77"
    },
    {
      "cell_type": "code",
      "execution_count": null,
      "metadata": {},
      "outputs": [],
      "source": [
        "from torch_geometric_temporal.dataset import WikiMathsDatasetLoader\n",
        "loader3 = WikiMathsDatasetLoader()"
      ],
      "id": "16dbcbf3-06a2-4fc9-a505-021715d5be79"
    },
    {
      "cell_type": "code",
      "execution_count": null,
      "metadata": {},
      "outputs": [],
      "source": [
        "# from torch_geometric_temporal.dataset import WindmillOutputLargeDatasetLoader\n",
        "# loader4 = WindmillOutputLargeDatasetLoader()"
      ],
      "id": "4069c5a8-8c71-440b-acaf-bc825f2efa6f"
    },
    {
      "cell_type": "code",
      "execution_count": null,
      "metadata": {},
      "outputs": [],
      "source": [
        "# from torch_geometric_temporal.dataset import WindmillOutputMediumDatasetLoader\n",
        "# loader5 = WindmillOutputMediumDatasetLoader()"
      ],
      "id": "9c0a19ae-6769-470c-83ac-fab54550c7a1"
    },
    {
      "cell_type": "code",
      "execution_count": null,
      "metadata": {},
      "outputs": [],
      "source": [
        "# from torch_geometric_temporal.dataset import WindmillOutputSmallDatasetLoader\n",
        "# loader6 = WindmillOutputSmallDatasetLoader()"
      ],
      "id": "bc63adf6-25b9-4bfe-94ed-e250a5a5d218"
    },
    {
      "cell_type": "code",
      "execution_count": 2,
      "metadata": {},
      "outputs": [],
      "source": [
        "loader6 = itstgcnDCRNN.load_data('./data/Windmillsmall.pkl')"
      ],
      "id": "5281940f-f839-4276-9c31-902a6caf4d67"
    },
    {
      "cell_type": "code",
      "execution_count": null,
      "metadata": {},
      "outputs": [],
      "source": [
        "# dataset6 = _a.get_dataset(lags=8)"
      ],
      "id": "2e72dcef-59a4-4d53-bdb5-2ae053a6fc89"
    },
    {
      "cell_type": "code",
      "execution_count": null,
      "metadata": {},
      "outputs": [],
      "source": [
        "from torch_geometric_temporal.dataset import MontevideoBusDatasetLoader\n",
        "loader10 = MontevideoBusDatasetLoader()"
      ],
      "id": "bbd85a16-df3e-418c-b322-87dd276f5748"
    },
    {
      "cell_type": "markdown",
      "metadata": {},
      "source": [
        "# Simulation"
      ],
      "id": "0e119e75-e5c3-40c4-9bcb-954a9288248d"
    },
    {
      "cell_type": "code",
      "execution_count": 3,
      "metadata": {},
      "outputs": [],
      "source": [
        "plans_stgcn_rand = {\n",
        "    'max_iteration': 1, \n",
        "    'method': ['STGCN', 'IT-STGCN'],\n",
        "    'mrate': [0.7],\n",
        "    'lags': [8], \n",
        "    'nof_filters': [4], \n",
        "    'inter_method': ['linear'],\n",
        "    'epoch': [50]\n",
        "}"
      ],
      "id": "4aa67340-5669-46a6-bb35-f80bf3fc18dd"
    },
    {
      "cell_type": "code",
      "execution_count": null,
      "metadata": {},
      "outputs": [
        {
          "output_type": "stream",
          "name": "stdout",
          "text": [
            "50/50"
          ]
        }
      ],
      "source": [
        "plnr = itstgcnDCRNN.planner.PLNR_STGCN_RAND(plans_stgcn_rand,loader6,dataset_name='windmillsmall')\n",
        "plnr.simulate()"
      ],
      "id": "227e72fe-66eb-466e-81ce-13abf18dc6bc"
    },
    {
      "cell_type": "code",
      "execution_count": null,
      "metadata": {},
      "outputs": [],
      "source": [
        "plnr = itstgcnDCRNN.planner.PLNR_STGCN_RAND(plans_stgcn_rand,loader6,dataset_name='windmillsmall')\n",
        "plnr.simulate()"
      ],
      "id": "f39e86e7-5042-47a7-98d7-155fa05abc2a"
    },
    {
      "cell_type": "code",
      "execution_count": null,
      "metadata": {},
      "outputs": [],
      "source": [
        "plnr = itstgcnDCRNN.planner.PLNR_STGCN_RAND(plans_stgcn_rand,loader6,dataset_name='windmillsmall')\n",
        "plnr.simulate()"
      ],
      "id": "f48426dd-bfdb-4bb9-8e52-237b927d3664"
    },
    {
      "cell_type": "code",
      "execution_count": null,
      "metadata": {},
      "outputs": [],
      "source": [
        "plnr = itstgcnDCRNN.planner.PLNR_STGCN_RAND(plans_stgcn_rand,loader6,dataset_name='windmillsmall')\n",
        "plnr.simulate()"
      ],
      "id": "720e2d2e-44cb-490d-9f06-af28d8d688ab"
    },
    {
      "cell_type": "code",
      "execution_count": null,
      "metadata": {},
      "outputs": [],
      "source": [
        "plnr = itstgcnDCRNN.planner.PLNR_STGCN_RAND(plans_stgcn_rand,loader6,dataset_name='windmillsmall')\n",
        "plnr.simulate()"
      ],
      "id": "a798a76e-ad15-414c-a1aa-45c3423a61c7"
    },
    {
      "cell_type": "code",
      "execution_count": null,
      "metadata": {},
      "outputs": [],
      "source": [
        "plnr = itstgcnDCRNN.planner.PLNR_STGCN_RAND(plans_stgcn_rand,loader6,dataset_name='windmillsmall')\n",
        "plnr.simulate()"
      ],
      "id": "70c3a0f4-a78c-41d1-bbe8-c715b3391c88"
    },
    {
      "cell_type": "code",
      "execution_count": null,
      "metadata": {},
      "outputs": [],
      "source": [
        "plnr = itstgcnDCRNN.planner.PLNR_STGCN_RAND(plans_stgcn_rand,loader6,dataset_name='windmillsmall')\n",
        "plnr.simulate()"
      ],
      "id": "916bfe32-c416-425f-b54f-ea1c606ffb9d"
    },
    {
      "cell_type": "code",
      "execution_count": null,
      "metadata": {},
      "outputs": [],
      "source": [
        "plnr = itstgcnDCRNN.planner.PLNR_STGCN_RAND(plans_stgcn_rand,loader6,dataset_name='windmillsmall')\n",
        "plnr.simulate()"
      ],
      "id": "413302f7-b03e-4b37-920b-395762255b4c"
    },
    {
      "cell_type": "code",
      "execution_count": null,
      "metadata": {},
      "outputs": [],
      "source": [
        "plnr = itstgcnDCRNN.planner.PLNR_STGCN_RAND(plans_stgcn_rand,loader6,dataset_name='windmillsmall')\n",
        "plnr.simulate()"
      ],
      "id": "006659c8-9d87-4396-9946-c62e40f6f06e"
    },
    {
      "cell_type": "code",
      "execution_count": null,
      "metadata": {},
      "outputs": [],
      "source": [
        "plnr = itstgcnDCRNN.planner.PLNR_STGCN_RAND(plans_stgcn_rand,loader6,dataset_name='windmillsmall')\n",
        "plnr.simulate()"
      ],
      "id": "01adffc5-e17e-4b8d-a924-dce618c963d3"
    },
    {
      "cell_type": "code",
      "execution_count": null,
      "metadata": {},
      "outputs": [],
      "source": [
        "plnr = itstgcnDCRNN.planner.PLNR_STGCN_RAND(plans_stgcn_rand,loader6,dataset_name='windmillsmall')\n",
        "plnr.simulate()"
      ],
      "id": "289698db-71d2-409f-8cb7-07f38cb38cad"
    },
    {
      "cell_type": "code",
      "execution_count": null,
      "metadata": {},
      "outputs": [],
      "source": [
        "plnr = itstgcnDCRNN.planner.PLNR_STGCN_RAND(plans_stgcn_rand,loader6,dataset_name='windmillsmall')\n",
        "plnr.simulate()"
      ],
      "id": "7453d685-80c9-431f-9d9f-be34484a85a0"
    },
    {
      "cell_type": "code",
      "execution_count": null,
      "metadata": {},
      "outputs": [],
      "source": [
        "plnr = itstgcnDCRNN.planner.PLNR_STGCN_RAND(plans_stgcn_rand,loader6,dataset_name='windmillsmall')\n",
        "plnr.simulate()"
      ],
      "id": "afec4330-4d56-45dd-a88e-ed0317387152"
    },
    {
      "cell_type": "code",
      "execution_count": null,
      "metadata": {},
      "outputs": [],
      "source": [
        "plnr = itstgcnDCRNN.planner.PLNR_STGCN_RAND(plans_stgcn_rand,loader6,dataset_name='windmillsmall')\n",
        "plnr.simulate()"
      ],
      "id": "9e092854-ef4b-40d6-8bda-d84fe096fd1e"
    },
    {
      "cell_type": "code",
      "execution_count": null,
      "metadata": {},
      "outputs": [],
      "source": [
        "plnr = itstgcnDCRNN.planner.PLNR_STGCN_RAND(plans_stgcn_rand,loader6,dataset_name='windmillsmall')\n",
        "plnr.simulate()"
      ],
      "id": "dfd1db4c-1042-4ae0-9f19-6e7c5bc76da6"
    },
    {
      "cell_type": "code",
      "execution_count": null,
      "metadata": {},
      "outputs": [],
      "source": [
        "plnr = itstgcnDCRNN.planner.PLNR_STGCN_RAND(plans_stgcn_rand,loader6,dataset_name='windmillsmall')\n",
        "plnr.simulate()"
      ],
      "id": "6acb117d-395c-42f3-a12c-c015eb415dcb"
    },
    {
      "cell_type": "code",
      "execution_count": null,
      "metadata": {},
      "outputs": [],
      "source": [
        "plnr = itstgcnDCRNN.planner.PLNR_STGCN_RAND(plans_stgcn_rand,loader6,dataset_name='windmillsmall')\n",
        "plnr.simulate()"
      ],
      "id": "245fd19a-f74d-463f-afda-69b3eb9ee268"
    },
    {
      "cell_type": "code",
      "execution_count": null,
      "metadata": {},
      "outputs": [],
      "source": [
        "plnr = itstgcnDCRNN.planner.PLNR_STGCN_RAND(plans_stgcn_rand,loader6,dataset_name='windmillsmall')\n",
        "plnr.simulate()"
      ],
      "id": "1b5aef35-2ed0-4845-9bb5-f68c003d5768"
    },
    {
      "cell_type": "code",
      "execution_count": null,
      "metadata": {},
      "outputs": [],
      "source": [
        "plnr = itstgcnDCRNN.planner.PLNR_STGCN_RAND(plans_stgcn_rand,loader6,dataset_name='windmillsmall')\n",
        "plnr.simulate()"
      ],
      "id": "463b94d4-c8b8-42e2-9c01-316612eb90e8"
    },
    {
      "cell_type": "code",
      "execution_count": null,
      "metadata": {},
      "outputs": [],
      "source": [
        "plnr = itstgcnDCRNN.planner.PLNR_STGCN_RAND(plans_stgcn_rand,loader6,dataset_name='windmillsmall')\n",
        "plnr.simulate()"
      ],
      "id": "75b5041e-2ccc-4ce5-8f2a-fa9373a0b190"
    },
    {
      "cell_type": "code",
      "execution_count": null,
      "metadata": {},
      "outputs": [],
      "source": [
        "plnr = itstgcnDCRNN.planner.PLNR_STGCN_RAND(plans_stgcn_rand,loader6,dataset_name='windmillsmall')\n",
        "plnr.simulate()"
      ],
      "id": "a4ffcb13-2648-4aba-82e2-9ff282c9aa35"
    },
    {
      "cell_type": "code",
      "execution_count": null,
      "metadata": {},
      "outputs": [],
      "source": [
        "plnr = itstgcnDCRNN.planner.PLNR_STGCN_RAND(plans_stgcn_rand,loader6,dataset_name='windmillsmall')\n",
        "plnr.simulate()"
      ],
      "id": "716af205-456d-49d0-ba09-1314466eae1f"
    },
    {
      "cell_type": "code",
      "execution_count": null,
      "metadata": {},
      "outputs": [],
      "source": [
        "plnr = itstgcnDCRNN.planner.PLNR_STGCN_RAND(plans_stgcn_rand,loader6,dataset_name='windmillsmall')\n",
        "plnr.simulate()"
      ],
      "id": "6697feab-b565-41f8-9bef-e98ff8ba5594"
    },
    {
      "cell_type": "code",
      "execution_count": null,
      "metadata": {},
      "outputs": [],
      "source": [
        "plnr = itstgcnDCRNN.planner.PLNR_STGCN_RAND(plans_stgcn_rand,loader6,dataset_name='windmillsmall')\n",
        "plnr.simulate()"
      ],
      "id": "80922066-1122-47c9-8544-a71dd89a0c6b"
    },
    {
      "cell_type": "code",
      "execution_count": null,
      "metadata": {},
      "outputs": [],
      "source": [
        "plnr = itstgcnDCRNN.planner.PLNR_STGCN_RAND(plans_stgcn_rand,loader6,dataset_name='windmillsmall')\n",
        "plnr.simulate()"
      ],
      "id": "c5fa542c-2936-4bad-8119-0ce3e38c2682"
    },
    {
      "cell_type": "code",
      "execution_count": null,
      "metadata": {},
      "outputs": [],
      "source": [
        "plnr = itstgcnDCRNN.planner.PLNR_STGCN_RAND(plans_stgcn_rand,loader6,dataset_name='windmillsmall')\n",
        "plnr.simulate()"
      ],
      "id": "2dcd6177-8fde-48c9-85ab-da1efc15b767"
    },
    {
      "cell_type": "code",
      "execution_count": null,
      "metadata": {},
      "outputs": [],
      "source": [
        "plnr = itstgcnDCRNN.planner.PLNR_STGCN_RAND(plans_stgcn_rand,loader6,dataset_name='windmillsmall')\n",
        "plnr.simulate()"
      ],
      "id": "dd9f792d-fabe-4d61-b4d6-3ef86098708d"
    },
    {
      "cell_type": "code",
      "execution_count": null,
      "metadata": {},
      "outputs": [],
      "source": [
        "plnr = itstgcnDCRNN.planner.PLNR_STGCN_RAND(plans_stgcn_rand,loader6,dataset_name='windmillsmall')\n",
        "plnr.simulate()"
      ],
      "id": "02b5a0b8-7b7d-4d06-9d22-ce235a415c3e"
    },
    {
      "cell_type": "code",
      "execution_count": null,
      "metadata": {},
      "outputs": [],
      "source": [
        "plnr = itstgcnDCRNN.planner.PLNR_STGCN_RAND(plans_stgcn_rand,loader6,dataset_name='windmillsmall')\n",
        "plnr.simulate()"
      ],
      "id": "a92bb3e8-2465-4a30-a152-2d0ee0874975"
    },
    {
      "cell_type": "code",
      "execution_count": null,
      "metadata": {},
      "outputs": [],
      "source": [
        "plnr = itstgcnDCRNN.planner.PLNR_STGCN_RAND(plans_stgcn_rand,loader6,dataset_name='windmillsmall')\n",
        "plnr.simulate()"
      ],
      "id": "71b027a6-8b84-499f-a0de-4d7d604a0923"
    },
    {
      "cell_type": "code",
      "execution_count": null,
      "metadata": {},
      "outputs": [],
      "source": [
        "plans_stgcn_rand = {\n",
        "    'max_iteration': 15, \n",
        "    'method': ['STGCN', 'IT-STGCN'], \n",
        "    'mrate': [0.7],\n",
        "    'lags': [2], \n",
        "    'nof_filters': [12], \n",
        "    'inter_method': ['linear','nearest'],\n",
        "    'epoch': [50]\n",
        "}"
      ],
      "id": "de187e90-f983-4e18-8791-e808f8555b13"
    },
    {
      "cell_type": "code",
      "execution_count": null,
      "metadata": {},
      "outputs": [],
      "source": [
        "plnr = itstgcnGConvLSTM.planner.PLNR_STGCN_RAND(plans_stgcn_rand,loader,dataset_name='fivenodes')\n",
        "\n",
        "plnr.simulate()"
      ],
      "id": "13e8a3a4-3a03-4324-93c2-b64daa0ca0d3"
    },
    {
      "cell_type": "code",
      "execution_count": null,
      "metadata": {},
      "outputs": [],
      "source": [
        "plnr = itstgcnGConvLSTM.planner.PLNR_STGCN_RAND(plans_stgcn_rand,loader,dataset_name='fivenodes')\n",
        "\n",
        "plnr.simulate()"
      ],
      "id": "84a12e19-f7b1-40b8-a931-e5197738f1a0"
    },
    {
      "cell_type": "code",
      "execution_count": null,
      "metadata": {},
      "outputs": [],
      "source": [
        "plans_stgcn_rand = {\n",
        "    'max_iteration': 15, \n",
        "    'method': ['STGCN', 'IT-STGCN'], \n",
        "    'mrate': [0.8],\n",
        "    'lags': [2], \n",
        "    'nof_filters': [12], \n",
        "    'inter_method': ['linear','nearest'],\n",
        "    'epoch': [50]\n",
        "}"
      ],
      "id": "9c5bc2fd-e69b-46ee-b6e3-a8d9c575b2b8"
    },
    {
      "cell_type": "code",
      "execution_count": null,
      "metadata": {},
      "outputs": [],
      "source": [
        "plnr = itstgcnGConvLSTM.planner.PLNR_STGCN_RAND(plans_stgcn_rand,loader,dataset_name='fivenodes')\n",
        "\n",
        "plnr.simulate()"
      ],
      "id": "4d07bb02-8721-4f68-a4a2-59d310185f66"
    },
    {
      "cell_type": "code",
      "execution_count": null,
      "metadata": {},
      "outputs": [],
      "source": [
        "plnr = itstgcnGConvLSTM.planner.PLNR_STGCN_RAND(plans_stgcn_rand,loader,dataset_name='fivenodes')\n",
        "\n",
        "plnr.simulate()"
      ],
      "id": "05bac6a5-f050-4b76-87c6-e44402f1f611"
    },
    {
      "cell_type": "code",
      "execution_count": null,
      "metadata": {},
      "outputs": [],
      "source": [
        "plans_stgcn_rand = {\n",
        "    'max_iteration': 15, \n",
        "    'method': ['STGCN', 'IT-STGCN'], \n",
        "    'mrate': [0],\n",
        "    'lags': [2], \n",
        "    'nof_filters': [12], \n",
        "    'inter_method': ['linear','nearest'],\n",
        "    'epoch': [50]\n",
        "}"
      ],
      "id": "b21c5888-5b32-4345-aaa7-6a440f729460"
    },
    {
      "cell_type": "code",
      "execution_count": null,
      "metadata": {},
      "outputs": [],
      "source": [
        "plnr = itstgcnGConvLSTM.planner.PLNR_STGCN_RAND(plans_stgcn_rand,loader,dataset_name='fivenodes')\n",
        "\n",
        "plnr.simulate()"
      ],
      "id": "2161e528-8eff-494a-acf2-969756b48e3d"
    },
    {
      "cell_type": "code",
      "execution_count": null,
      "metadata": {},
      "outputs": [],
      "source": [
        "plnr = itstgcnGConvLSTM.planner.PLNR_STGCN_RAND(plans_stgcn_rand,loader,dataset_name='fivenodes')\n",
        "\n",
        "plnr.simulate()"
      ],
      "id": "e77451b7-e902-422c-9f07-17596ef42b90"
    },
    {
      "cell_type": "code",
      "execution_count": null,
      "metadata": {},
      "outputs": [],
      "source": [
        "mindex= [[],[],[],list(range(50,150)),[]]\n",
        "# mindex= [list(range(50,150)),[],list(range(50,90)),list(range(50,150)),[]] # node 2\n",
        "plans_stgcn_block = {\n",
        "    'max_iteration': 15, \n",
        "    'method': ['STGCN', 'IT-STGCN'],\n",
        "    'mindex': [mindex],\n",
        "    'lags': [2], \n",
        "    'nof_filters': [12], \n",
        "    'inter_method': ['linear','nearest'],\n",
        "    'epoch': [50]\n",
        "}"
      ],
      "id": "fad805ea-db37-4586-9eff-18f5294f487d"
    },
    {
      "cell_type": "code",
      "execution_count": null,
      "metadata": {},
      "outputs": [],
      "source": [
        "plnr = itstgcnGConvLSTM.planner.PLNR_STGCN_MANUAL(plans_stgcn_block,loader,dataset_name='fivenodes')\n",
        "\n",
        "plnr.simulate(mindex=mindex,mtype='block')"
      ],
      "id": "d33742eb-bfc5-431d-95c7-6357814dde22"
    },
    {
      "cell_type": "code",
      "execution_count": null,
      "metadata": {},
      "outputs": [],
      "source": [
        "plnr = itstgcnGConvLSTM.planner.PLNR_STGCN_MANUAL(plans_stgcn_block,loader,dataset_name='fivenodes')\n",
        "\n",
        "plnr.simulate(mindex=mindex,mtype='block')"
      ],
      "id": "7fffc595-1f3e-4ff8-bc11-474941e13292"
    },
    {
      "cell_type": "code",
      "execution_count": null,
      "metadata": {},
      "outputs": [],
      "source": [
        "plans_stgcn_rand = {\n",
        "    'max_iteration': 15, \n",
        "    'method': ['STGCN', 'IT-STGCN'],\n",
        "    'mrate': [0.3,0.8],\n",
        "    'lags': [4], \n",
        "    'nof_filters': [32], \n",
        "    'inter_method': ['linear'],\n",
        "    'epoch': [50]\n",
        "}"
      ],
      "id": "77597c13-839a-4686-89a8-30c88b0d20f4"
    },
    {
      "cell_type": "code",
      "execution_count": null,
      "metadata": {},
      "outputs": [],
      "source": [
        "plnr = itstgcnGConvLSTM.planner.PLNR_STGCN_RAND(plans_stgcn_rand,loader1,dataset_name='chickenpox')\n",
        "plnr.simulate()"
      ],
      "id": "7fb9cc82-ff5b-482b-a9b5-4b417785837f"
    },
    {
      "cell_type": "code",
      "execution_count": null,
      "metadata": {},
      "outputs": [],
      "source": [
        "plnr = itstgcnGConvLSTM.planner.PLNR_STGCN_RAND(plans_stgcn_rand,loader1,dataset_name='chickenpox')\n",
        "plnr.simulate()"
      ],
      "id": "a98c657b-3cae-4636-bb70-eb8ce7d64d54"
    },
    {
      "cell_type": "code",
      "execution_count": null,
      "metadata": {},
      "outputs": [],
      "source": [
        "plans_stgcn_rand = {\n",
        "    'max_iteration': 15, \n",
        "    'method': ['STGCN', 'IT-STGCN'],\n",
        "    'mrate': [0],\n",
        "    'lags': [4], \n",
        "    'nof_filters': [32], \n",
        "    'inter_method': ['linear'],\n",
        "    'epoch': [50]\n",
        "}"
      ],
      "id": "62ea16fb-5490-49bb-88ee-c68b61b470fa"
    },
    {
      "cell_type": "code",
      "execution_count": null,
      "metadata": {},
      "outputs": [],
      "source": [
        "plnr = itstgcnGConvLSTM.planner.PLNR_STGCN_RAND(plans_stgcn_rand,loader1,dataset_name='chickenpox')\n",
        "plnr.simulate()"
      ],
      "id": "15be15d8-486d-4076-aed1-9a9be5218ecc"
    },
    {
      "cell_type": "code",
      "execution_count": null,
      "metadata": {},
      "outputs": [],
      "source": [
        "plnr = itstgcnGConvLSTM.planner.PLNR_STGCN_RAND(plans_stgcn_rand,loader1,dataset_name='chickenpox')\n",
        "plnr.simulate()"
      ],
      "id": "cd040480-1e63-4d49-b67e-9d24a7701a67"
    },
    {
      "cell_type": "code",
      "execution_count": null,
      "metadata": {},
      "outputs": [],
      "source": [
        "my_list = [[] for _ in range(20)] #chickenpox\n",
        "another_list = list(range(100,400))\n",
        "my_list[1] = another_list\n",
        "my_list[3] = another_list\n",
        "my_list[5] = another_list\n",
        "my_list[7] = another_list\n",
        "my_list[9] = another_list\n",
        "my_list[11] = another_list\n",
        "my_list[13] = another_list\n",
        "my_list[15] = another_list\n",
        "mindex = my_list"
      ],
      "id": "0e998bd5-325f-4d98-8fcc-383586271ada"
    },
    {
      "cell_type": "code",
      "execution_count": null,
      "metadata": {},
      "outputs": [],
      "source": [
        "# mindex= [[],[],[],list(range(50,150)),[]]\n",
        "# mindex= [list(range(50,150)),[],list(range(50,90)),list(range(50,150)),[]] # node 2\n",
        "plans_stgcn_block = {\n",
        "    'max_iteration': 15, \n",
        "    'method': ['STGCN', 'IT-STGCN'],\n",
        "    'mindex': [mindex],\n",
        "    'lags': [4], \n",
        "    'nof_filters': [32], \n",
        "    'inter_method': ['linear','nearest'],\n",
        "    'epoch': [50]\n",
        "}"
      ],
      "id": "2229f095-5cfb-4a74-8dc0-55abe8061490"
    },
    {
      "cell_type": "code",
      "execution_count": null,
      "metadata": {},
      "outputs": [],
      "source": [
        "plnr = itstgcnGConvLSTM.planner.PLNR_STGCN_MANUAL(plans_stgcn_block,loader1,dataset_name='chickenpox')\n",
        "\n",
        "plnr.simulate(mindex=mindex,mtype='block')"
      ],
      "id": "a64dd423-b4ec-4e2e-911f-5c8475429622"
    },
    {
      "cell_type": "code",
      "execution_count": null,
      "metadata": {},
      "outputs": [],
      "source": [
        "plnr = itstgcnGConvLSTM.planner.PLNR_STGCN_MANUAL(plans_stgcn_block,loader1,dataset_name='chickenpox')\n",
        "\n",
        "plnr.simulate(mindex=mindex,mtype='block')"
      ],
      "id": "3a99e651-1382-4c8b-94bb-34bf898619eb"
    },
    {
      "cell_type": "code",
      "execution_count": null,
      "metadata": {},
      "outputs": [],
      "source": [
        "plans_stgcn_rand = {\n",
        "    'max_iteration': 30, \n",
        "    'method': ['STGCN', 'IT-STGCN'],\n",
        "    'mrate': [0,0.3,0.6],\n",
        "    'lags': [4], \n",
        "    'nof_filters': [2], \n",
        "    'inter_method': ['linear','nearest'],\n",
        "    'epoch': [50]\n",
        "}"
      ],
      "id": "be0c9792-de1e-4856-83e7-186bd5e6f984"
    },
    {
      "cell_type": "code",
      "execution_count": null,
      "metadata": {},
      "outputs": [],
      "source": [
        "plnr = itstgcnGConvLSTM.planner.PLNR_STGCN_RAND(plans_stgcn_rand,loader2,dataset_name='pedalme')\n",
        "\n",
        "plnr.simulate()"
      ],
      "id": "8c5b7006-c77d-4368-abc2-6677c38dffaf"
    },
    {
      "cell_type": "code",
      "execution_count": null,
      "metadata": {},
      "outputs": [],
      "source": [
        "my_list = [[] for _ in range(15)] #pedalme\n",
        "another_list = list(range(5,25))\n",
        "my_list[1] = another_list\n",
        "my_list[3] = another_list\n",
        "my_list[5] = another_list\n",
        "my_list[7] = another_list\n",
        "my_list[9] = another_list\n",
        "my_list[11] = another_list\n",
        "mindex = my_list"
      ],
      "id": "2abfede2-9aac-422c-b1c2-33a39dde1d33"
    },
    {
      "cell_type": "code",
      "execution_count": null,
      "metadata": {},
      "outputs": [],
      "source": [
        "# mindex= [[],[],[],list(range(50,150)),[]]  # node 1\n",
        "# mindex= [list(range(10,100)),[],list(range(50,80)),[],[]] # node 2\n",
        "# mindex= [list(range(10,100)),[],list(range(50,80)),list(range(50,150)),[]] # node3\n",
        "plans_stgcn_block = {\n",
        "    'max_iteration': 30, \n",
        "    'method': ['STGCN', 'IT-STGCN'], \n",
        "    'mindex': [mindex],\n",
        "    'lags': [4], \n",
        "    'nof_filters': [2], \n",
        "    'inter_method': ['linear','nearest'],\n",
        "    'epoch': [50]\n",
        "}"
      ],
      "id": "7728e01a-ed22-4b09-9a3d-a1562de2bf48"
    },
    {
      "cell_type": "code",
      "execution_count": null,
      "metadata": {
        "tags": []
      },
      "outputs": [],
      "source": [
        "plnr = itstgcnGConvLSTM.planner.PLNR_STGCN_MANUAL(plans_stgcn_block,loader2,dataset_name='pedalme')\n",
        "plnr.simulate(mindex=mindex,mtype='block')"
      ],
      "id": "e8911a71-514c-4541-adc6-e3f7350d6dfe"
    },
    {
      "cell_type": "code",
      "execution_count": null,
      "metadata": {},
      "outputs": [],
      "source": [
        "plans_stgcn_rand = {\n",
        "    'max_iteration': 10, \n",
        "    'method': ['STGCN', 'IT-STGCN'],\n",
        "    'mrate': [0.3],\n",
        "    'lags': [8], \n",
        "    'nof_filters': [12], \n",
        "    'inter_method': ['linear'],\n",
        "    'epoch': [50]\n",
        "}"
      ],
      "id": "7498b657-8ee1-461d-8b6d-a19db78550cb"
    },
    {
      "cell_type": "code",
      "execution_count": null,
      "metadata": {},
      "outputs": [],
      "source": [
        "plnr = itstgcnEvolveGCNH.planner.PLNR_STGCN_RAND(plans_stgcn_rand,loader3,dataset_name='wikimath')\n",
        "plnr.simulate()"
      ],
      "id": "29d9b507-bd30-420c-a757-79c41d500db7"
    },
    {
      "cell_type": "code",
      "execution_count": null,
      "metadata": {},
      "outputs": [],
      "source": [
        "plnr = itstgcnEvolveGCNH.planner.PLNR_STGCN_RAND(plans_stgcn_rand,loader3,dataset_name='wikimath')\n",
        "plnr.simulate()"
      ],
      "id": "06426a67-5a05-4b88-b5d5-6967c5e971d5"
    },
    {
      "cell_type": "code",
      "execution_count": null,
      "metadata": {},
      "outputs": [],
      "source": [
        "plnr = itstgcnEvolveGCNH.planner.PLNR_STGCN_RAND(plans_stgcn_rand,loader3,dataset_name='wikimath')\n",
        "plnr.simulate()"
      ],
      "id": "7c890741-8e25-4b38-b8c2-ccabe126c598"
    },
    {
      "cell_type": "code",
      "execution_count": null,
      "metadata": {},
      "outputs": [],
      "source": [
        "plans_stgcn_rand = {\n",
        "    'max_iteration': 15, \n",
        "    'method': ['STGCN', 'IT-STGCN'],\n",
        "    'mrate': [0.8],\n",
        "    'lags': [8], \n",
        "    'nof_filters': [12], \n",
        "    'inter_method': ['linear'],\n",
        "    'epoch': [50]\n",
        "}"
      ],
      "id": "fec48b84-18d0-4904-b51b-f632aa309d76"
    },
    {
      "cell_type": "code",
      "execution_count": null,
      "metadata": {},
      "outputs": [],
      "source": [
        "plnr = itstgcnEvolveGCNH.planner.PLNR_STGCN_RAND(plans_stgcn_rand,loader3,dataset_name='wikimath')\n",
        "plnr.simulate()"
      ],
      "id": "f3cd6266-041b-4f25-90cb-d842decedf4c"
    },
    {
      "cell_type": "code",
      "execution_count": null,
      "metadata": {},
      "outputs": [],
      "source": [
        "plnr = itstgcnEvolveGCNH.planner.PLNR_STGCN_RAND(plans_stgcn_rand,loader3,dataset_name='wikimath')\n",
        "plnr.simulate()"
      ],
      "id": "48cb94a1-0e30-4a5e-8358-35490169893b"
    },
    {
      "cell_type": "code",
      "execution_count": null,
      "metadata": {},
      "outputs": [],
      "source": [
        "plans_stgcn_rand = {\n",
        "    'max_iteration': 10, \n",
        "    'method': ['STGCN', 'IT-STGCN'],\n",
        "    'mrate': [0],\n",
        "    'lags': [8], \n",
        "    'nof_filters': [12], \n",
        "    'inter_method': ['linear'],\n",
        "    'epoch': [50]\n",
        "}"
      ],
      "id": "832983d4-3bdb-4c11-80ba-7a06be4f0d8d"
    },
    {
      "cell_type": "code",
      "execution_count": null,
      "metadata": {},
      "outputs": [],
      "source": [
        "plnr = itstgcnEvolveGCNH.planner.PLNR_STGCN_RAND(plans_stgcn_rand,loader3,dataset_name='wikimath')\n",
        "plnr.simulate()"
      ],
      "id": "d99d111d-4ccd-48cf-83e9-2680560fc8ec"
    },
    {
      "cell_type": "code",
      "execution_count": null,
      "metadata": {},
      "outputs": [],
      "source": [
        "plnr = itstgcnEvolveGCNH.planner.PLNR_STGCN_RAND(plans_stgcn_rand,loader3,dataset_name='wikimath')\n",
        "plnr.simulate()"
      ],
      "id": "30c17108-a684-4b83-872d-87d87baa6f82"
    },
    {
      "cell_type": "code",
      "execution_count": null,
      "metadata": {},
      "outputs": [],
      "source": [
        "plnr = itstgcnEvolveGCNH.planner.PLNR_STGCN_RAND(plans_stgcn_rand,loader3,dataset_name='wikimath')\n",
        "plnr.simulate()"
      ],
      "id": "895bc0c0-956f-4171-b2a0-b2df1663af7e"
    },
    {
      "cell_type": "markdown",
      "metadata": {},
      "source": [
        "``` python\n",
        "import random\n",
        "my_list = [[] for _ in range(1068)] # wikimath\n",
        "another_list = random.sample(range(570), 72)\n",
        "# my_list에서 250개 요소 무작위 선택\n",
        "selected_indexes = random.sample(range(len(my_list)), 250)\n",
        "# 선택된 요소에 해당하는 값들을 another_list에 할당\n",
        "for index in selected_indexes:\n",
        "    my_list[index] = another_list\n",
        "```"
      ],
      "id": "3dab12fe-0398-49a6-82e5-bb8c0cf3ee3c"
    },
    {
      "cell_type": "code",
      "execution_count": null,
      "metadata": {},
      "outputs": [],
      "source": [
        "import random\n",
        "my_list = [[] for _ in range(1068)] # wikimath\n",
        "another_list = random.sample(range(570), 150)\n",
        "# my_list에서 250개 요소 무작위 선택\n",
        "selected_indexes = random.sample(range(len(my_list)), 500)\n",
        "# 선택된 요소에 해당하는 값들을 another_list에 할당\n",
        "for index in selected_indexes:\n",
        "    my_list[index] = another_list\n",
        "mindex = my_list"
      ],
      "id": "8ea74a45-a444-4ae7-badd-91160afdabba"
    },
    {
      "cell_type": "code",
      "execution_count": null,
      "metadata": {},
      "outputs": [],
      "source": [
        "# mindex= [[],[],[],list(range(50,150)),[]]  # node 1\n",
        "# mindex= [list(range(10,100)),[],list(range(50,80)),[],[]] # node 2\n",
        "# mindex= [list(range(10,100)),[],list(range(50,80)),list(range(50,150)),[]] # node3\n",
        "plans_stgcn_block = {\n",
        "    'max_iteration': 10, \n",
        "    'method': ['STGCN', 'IT-STGCN'], \n",
        "    'mindex': [mindex],\n",
        "    'lags': [8], \n",
        "    'nof_filters': [12], \n",
        "    'inter_method': ['linear'],\n",
        "    'epoch': [50]\n",
        "}"
      ],
      "id": "d33cd879-985e-4081-91c0-6d5916cf1f95"
    },
    {
      "cell_type": "code",
      "execution_count": null,
      "metadata": {},
      "outputs": [],
      "source": [
        "plnr = itstgcnEvolveGCNH.planner.PLNR_STGCN_MANUAL(plans_stgcn_block,loader3,dataset_name='wikimath')\n",
        "plnr.simulate(mindex=mindex,mtype='block')"
      ],
      "id": "572610b2-e8ba-470c-b71a-3c12e05afec6"
    },
    {
      "cell_type": "code",
      "execution_count": null,
      "metadata": {},
      "outputs": [],
      "source": [
        "plnr = itstgcnEvolveGCNH.planner.PLNR_STGCN_MANUAL(plans_stgcn_block,loader3,dataset_name='wikimath')\n",
        "plnr.simulate(mindex=mindex,mtype='block')"
      ],
      "id": "e841dac4-1855-4b6b-a8a0-034532a29947"
    },
    {
      "cell_type": "code",
      "execution_count": null,
      "metadata": {},
      "outputs": [],
      "source": [
        "plnr = itstgcnEvolveGCNH.planner.PLNR_STGCN_MANUAL(plans_stgcn_block,loader3,dataset_name='wikimath')\n",
        "plnr.simulate(mindex=mindex,mtype='block')"
      ],
      "id": "b13cf566-22b0-48d2-9410-5270239cee63"
    },
    {
      "cell_type": "markdown",
      "metadata": {},
      "source": [
        "같은 노드 같은 missing"
      ],
      "id": "8367fca7-3d96-4a94-b07a-7477079790f4"
    },
    {
      "cell_type": "code",
      "execution_count": null,
      "metadata": {},
      "outputs": [],
      "source": [
        "my_list = [[] for _ in range(1068)] #wikimath\n",
        "another_list = random.sample(range(0, 576), 300)\n",
        "for i in range(0, 1068):\n",
        "    my_list[i] = another_list\n",
        "mindex = my_list"
      ],
      "id": "07490148-497a-49ba-9fc2-7f791380f411"
    },
    {
      "cell_type": "code",
      "execution_count": null,
      "metadata": {},
      "outputs": [],
      "source": [
        "plans_stgcn_block = {\n",
        "    'max_iteration': 10, \n",
        "    'method': ['STGCN', 'IT-STGCN'], \n",
        "    'mindex': [mindex],\n",
        "    'lags': [8], \n",
        "    'nof_filters': [12], \n",
        "    'inter_method': ['linear'],\n",
        "    'epoch': [50]\n",
        "}"
      ],
      "id": "61f2ffee-9f78-4681-844d-8051785d2505"
    },
    {
      "cell_type": "code",
      "execution_count": null,
      "metadata": {},
      "outputs": [],
      "source": [
        "plnr = itstgcnEvolveGCNH.planner.PLNR_STGCN_MANUAL(plans_stgcn_block,loader3,dataset_name='wikimath')\n",
        "plnr.simulate(mindex=mindex,mtype='block')"
      ],
      "id": "c4747458-f694-4003-96bd-c13bb2d706a0"
    },
    {
      "cell_type": "code",
      "execution_count": null,
      "metadata": {},
      "outputs": [],
      "source": [
        "plnr = itstgcnEvolveGCNH.planner.PLNR_STGCN_MANUAL(plans_stgcn_block,loader3,dataset_name='wikimath')\n",
        "plnr.simulate(mindex=mindex,mtype='block')"
      ],
      "id": "cf22ee62-6249-495c-8ed8-ac41e66c29db"
    },
    {
      "cell_type": "code",
      "execution_count": null,
      "metadata": {},
      "outputs": [],
      "source": [
        "plnr = itstgcnEvolveGCNH.planner.PLNR_STGCN_MANUAL(plans_stgcn_block,loader3,dataset_name='wikimath')\n",
        "plnr.simulate(mindex=mindex,mtype='block')"
      ],
      "id": "50a86d4c-8dc7-4763-abe1-67ab7dd63452"
    },
    {
      "cell_type": "code",
      "execution_count": null,
      "metadata": {},
      "outputs": [],
      "source": [
        "plans_stgcn_rand = {\n",
        "    'max_iteration': 15, \n",
        "    'method': ['STGCN', 'IT-STGCN'],\n",
        "    'mrate': [0.8],\n",
        "    'lags': [4], \n",
        "    'nof_filters': [12], \n",
        "    'inter_method': ['nearest'],\n",
        "    'epoch': [50]\n",
        "}"
      ],
      "id": "434db432-88b4-4762-9be3-95c43c8a099c"
    },
    {
      "cell_type": "code",
      "execution_count": null,
      "metadata": {},
      "outputs": [],
      "source": [
        "plnr = itstgcnGConvLSTM.planner.PLNR_STGCN_RAND(plans_stgcn_rand,loader10,dataset_name='monte')\n",
        "plnr.simulate()"
      ],
      "id": "be8787b8-939a-481e-944b-5073cca2d02a"
    },
    {
      "cell_type": "code",
      "execution_count": null,
      "metadata": {},
      "outputs": [],
      "source": [
        "plnr = itstgcnGConvLSTM.planner.PLNR_STGCN_RAND(plans_stgcn_rand,loader10,dataset_name='monte')\n",
        "plnr.simulate()"
      ],
      "id": "64773652-a7d2-4a60-94e4-d96af71fa9d5"
    },
    {
      "cell_type": "code",
      "execution_count": null,
      "metadata": {},
      "outputs": [],
      "source": [
        "plans_stgcn_rand = {\n",
        "    'max_iteration': 15, \n",
        "    'method': ['STGCN', 'IT-STGCN'],\n",
        "    'mrate': [0],\n",
        "    'lags': [4], \n",
        "    'nof_filters': [12], \n",
        "    'inter_method': ['nearest'],\n",
        "    'epoch': [50]\n",
        "}"
      ],
      "id": "8f60c37c-b32a-4449-bb61-c85636cfbd00"
    },
    {
      "cell_type": "code",
      "execution_count": null,
      "metadata": {},
      "outputs": [],
      "source": [
        "plnr = itstgcnGConvLSTM.planner.PLNR_STGCN_RAND(plans_stgcn_rand,loader10,dataset_name='monte')\n",
        "plnr.simulate()"
      ],
      "id": "a0b57e22-b4c5-4de6-aa4e-11a8cdfc17a3"
    },
    {
      "cell_type": "code",
      "execution_count": null,
      "metadata": {},
      "outputs": [],
      "source": [
        "plnr = itstgcnGConvLSTM.planner.PLNR_STGCN_RAND(plans_stgcn_rand,loader10,dataset_name='monte')\n",
        "plnr.simulate()"
      ],
      "id": "c1b7c15f-27f6-4325-89ec-28a0c5515c73"
    },
    {
      "cell_type": "code",
      "execution_count": null,
      "metadata": {},
      "outputs": [],
      "source": [
        "my_list = [[] for _ in range(675)] #monte\n",
        "another_list = list(range(200,350)) #743\n",
        "\n",
        "for i in np.array(random.sample(range(0, 675), 400)):\n",
        "    my_list[i] = another_list\n",
        "mindex = my_list"
      ],
      "id": "dc5a5399-e1cc-4348-a95f-eb116a6626d1"
    },
    {
      "cell_type": "code",
      "execution_count": null,
      "metadata": {},
      "outputs": [],
      "source": [
        "# mindex= [[],[],[],list(range(50,150)),[]]  # node 1\n",
        "# mindex= [list(range(10,100)),[],list(range(50,80)),[],[]] # node 2\n",
        "# mindex= [list(range(10,100)),[],list(range(50,80)),list(range(50,150)),[]] # node3\n",
        "plans_stgcn_block = {\n",
        "    'max_iteration': 15, \n",
        "    'method': ['STGCN', 'IT-STGCN'], \n",
        "    'mindex': [mindex],\n",
        "    'lags': [4], \n",
        "    'nof_filters': [12], \n",
        "    'inter_method': ['nearest'],\n",
        "    'epoch': [50]\n",
        "}"
      ],
      "id": "62afb812-2037-4741-b742-a61a90cb57e4"
    },
    {
      "cell_type": "code",
      "execution_count": null,
      "metadata": {},
      "outputs": [],
      "source": [
        "plnr = itstgcnGConvLSTM.planner.PLNR_STGCN_MANUAL(plans_stgcn_block,loader10,dataset_name='monte')\n",
        "plnr.simulate(mindex=mindex,mtype='block')"
      ],
      "id": "0f3640b3-0cbf-4f6c-83fc-b04efbbb0672"
    },
    {
      "cell_type": "code",
      "execution_count": null,
      "metadata": {},
      "outputs": [],
      "source": [
        "plnr = itstgcnGConvLSTM.planner.PLNR_STGCN_MANUAL(plans_stgcn_block,loader10,dataset_name='monte')\n",
        "plnr.simulate(mindex=mindex,mtype='block')"
      ],
      "id": "bc0fb118-3c6e-498c-96e8-00419987035b"
    }
  ],
  "nbformat": 4,
  "nbformat_minor": 5,
  "metadata": {
    "kernelspec": {
      "name": "python3",
      "display_name": "Python 3",
      "language": "python"
    },
    "language_info": {
      "name": "python",
      "codemirror_mode": {
        "name": "ipython",
        "version": "3"
      },
      "file_extension": ".py",
      "mimetype": "text/x-python",
      "nbconvert_exporter": "python",
      "pygments_lexer": "ipython3",
      "version": "3.8.0"
    }
  }
}
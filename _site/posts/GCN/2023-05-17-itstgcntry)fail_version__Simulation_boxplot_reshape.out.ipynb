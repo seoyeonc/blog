{
  "cells": [
    {
      "cell_type": "markdown",
      "metadata": {},
      "source": [
        "# Simulation_reshape\n",
        "\n",
        "SEOYEON CHOI  \n",
        "4/5/23\n",
        "\n",
        "> Simulation Study\n",
        "\n",
        "# Import"
      ],
      "id": "9bfc86b8-bfd9-4218-9b47-a658508549d7"
    },
    {
      "cell_type": "code",
      "execution_count": null,
      "metadata": {},
      "outputs": [],
      "source": [
        "import matplotlib.pyplot as plt\n",
        "import pandas as pd\n",
        "import numpy as np"
      ],
      "id": "d172dc13-ac59-4ab1-b8dd-b23bab748636"
    },
    {
      "cell_type": "markdown",
      "metadata": {},
      "source": [
        "# Fivenodes\n",
        "\n",
        "``` python\n",
        "mindex= [[],[],[],list(range(50,150)),[]] # block 1\n",
        "mindex= [list(range(10,100)),[],list(range(50,80)),[],[]] # node 2 30% mmissing\n",
        "```\n",
        "\n",
        "block 조건\n",
        "\n",
        "`2023-05-20_09-53-08`\n",
        "\n",
        "epoch 150"
      ],
      "id": "5311485a-e67b-43d9-82e9-7bc33e4d9d8f"
    },
    {
      "cell_type": "code",
      "execution_count": null,
      "metadata": {},
      "outputs": [],
      "source": [
        "df1 = pd.read_csv('./simulation_results/2023-05-21_23-18-41.csv')\n",
        "df2 = pd.read_csv('./simulation_results/2023-05-24_23-24-09.csv') # STGCN, ITSTGCN random 70%, 75%\n",
        "df3 = pd.read_csv('./simulation_results/2023-05-25_09-52-12.csv') # STGCN, ITSTGCN random 80%, 85%\n",
        "df4 = pd.read_csv('./simulation_results/2023-05-25_12-34-57.csv') # GNAR block 1\n",
        "# df5 = pd.read_csv('./simulation_results/2023-04-10_15-56a-27.csv') # GNAR block 2\n",
        "# df6 = pd.read_csv('./simulation_results/2023-04-10_23-44-52.csv') # STGCN, ITSTGCN block 1\n",
        "# df7 = pd.read_csv('./simulation_results/2023-04-11_04-40-00.csv') # STGCN, ITSTGCN block 2\n",
        "# df8 = pd.read_csv('./simulation_results/2023-04-14_21-21-34.csv') # S/TGCN, ITSTGCN missing 0"
      ],
      "id": "85de4469-26c3-4b29-9176-f2e2b980091d"
    },
    {
      "cell_type": "code",
      "execution_count": null,
      "metadata": {},
      "outputs": [],
      "source": [
        "data = pd.concat([df1,df2,df3,df4],axis=0)"
      ],
      "id": "7fadb5a6-0ddd-4bc9-ad9a-daf2e124cc52"
    },
    {
      "cell_type": "code",
      "execution_count": null,
      "metadata": {},
      "outputs": [],
      "source": [
        "data.to_csv('./simulation_results/Real_simulation_reshape/fivedones_Simulation.csv',index=False)"
      ],
      "id": "1a811cd6-9b85-4c7e-956e-9970499182ff"
    },
    {
      "cell_type": "code",
      "execution_count": null,
      "metadata": {},
      "outputs": [],
      "source": [
        "data = pd.read_csv('./simulation_results/Real_simulation_reshape/fivedones_Simulation.csv')"
      ],
      "id": "c01b1229-dd0a-4f4b-b09d-1660b20e65b7"
    },
    {
      "cell_type": "code",
      "execution_count": null,
      "metadata": {},
      "outputs": [],
      "source": [
        "data.query(\"method=='STGCN' and mtype == 'rand'\")['mse'].mean(),data.query(\"method=='STGCN' and mtype != 'rand'\")['mse'].mean()"
      ],
      "id": "471e5923-38f7-4cdf-a7e3-3ac8781adff6"
    },
    {
      "cell_type": "code",
      "execution_count": null,
      "metadata": {},
      "outputs": [],
      "source": [
        "data.query(\"method=='IT-STGCN' and mtype == 'rand'\")['mse'].mean(),data.query(\"method=='IT-STGCN' and mtype != 'rand'\")['mse'].mean()"
      ],
      "id": "44dea10b-a5f5-4a68-8477-d48b432aa796"
    },
    {
      "cell_type": "markdown",
      "metadata": {},
      "source": [
        "Baseline"
      ],
      "id": "c64a6b19-1009-4300-a5f1-171911356319"
    },
    {
      "cell_type": "code",
      "execution_count": null,
      "metadata": {
        "tags": []
      },
      "outputs": [],
      "source": [
        "data.query(\"method!='GNAR' and mrate==0\").plot.box(backend='plotly',x='mrate',color='method',y='mse',facet_col='RecurrentGCN',facet_row='nof_filters',height=600)\n"
      ],
      "id": "08ba162a-bdd0-4716-beff-1b97ef5abc76"
    },
    {
      "cell_type": "code",
      "execution_count": null,
      "metadata": {},
      "outputs": [],
      "source": [
        "data.query(\"method!='GNAR' and mtype =='rand' and (mrate==0.7 or mrate==0.75)\").plot.box(backend='plotly',x='mrate',color='method',y='mse',facet_col='RecurrentGCN',facet_row='inter_method',height=600)\n"
      ],
      "id": "098e8118-d7af-472a-9e9d-e80f76b6f6ef"
    },
    {
      "cell_type": "code",
      "execution_count": null,
      "metadata": {},
      "outputs": [],
      "source": [
        "data.query(\"method!='GNAR' and mtype =='rand'  and (mrate==0.8 or mrate==0.85)\").plot.box(backend='plotly',x='mrate',color='method',y='mse',facet_col='RecurrentGCN',facet_row='inter_method',height=600)\n"
      ],
      "id": "aee6489d-346b-41dd-b5bc-eed4dcc45a7d"
    },
    {
      "cell_type": "code",
      "execution_count": null,
      "metadata": {},
      "outputs": [],
      "source": [
        "data.query(\"method!='GNAR' and mtype =='block' and inter_method=='linear' \").plot.box(backend='plotly',x='mrate',color='method',y='mse',facet_col='RecurrentGCN',facet_row='inter_method',height=600)\n"
      ],
      "id": "164be073-312e-4fe1-b4de-fb2839730773"
    },
    {
      "cell_type": "markdown",
      "metadata": {},
      "source": [
        "# chickenpox\n",
        "\n",
        "``` python\n",
        "my_list = [[] for _ in range(20)] #chickenpox\n",
        "another_list = list(range(100,400))\n",
        "my_list[1] = another_list\n",
        "my_list[3] = another_list\n",
        "my_list[5] = another_list\n",
        "my_list[7] = another_list\n",
        "my_list[9] = another_list\n",
        "my_list[11] = another_list\n",
        "my_list[13] = another_list\n",
        "my_list[15] = another_list\n",
        "mindex = my_list\n",
        "```\n",
        "\n",
        "block 30% missing을 위한 조건"
      ],
      "id": "55528999-8aee-4304-a472-f6667a663424"
    },
    {
      "cell_type": "code",
      "execution_count": 234,
      "metadata": {},
      "outputs": [],
      "source": [
        "df1 = pd.read_csv('./simulation_results/2023-05-25_04-51-13.csv') # GNAR random\n",
        "df2 = pd.read_csv('./simulation_results/2023-05-25_11-20-11.csv') # GNAR block\n",
        "df3 = pd.read_csv('./simulation_results/2023-05-25_15-34-33.csv') # STGCN, ITSTGCN random 30%\n",
        "# df4 = pd.read_csv('./simulation_results/2023-04-12_05-44-19.csv') # STGCN, ITSTGCN random 40%\n",
        "# df5 = pd.read_csv('./simulation_results/2023-04-12_17-03-28.csv') # STGCN, ITSTGCN random 50%\n",
        "# df6 = pd.read_csv('./simulation_results/2023-04-13_18-59-17.csv') # STGCN, ITSTGCN block cubic\n",
        "# df7 = pd.read_csv('./simulation_results/2023-04-14_00-57-11.csv') # STGCN, ITSTGCN block linear\n",
        "# df8 = pd.read_csv('./simulation_results/2023-04-14_12-55-58.csv') # STGCN, ITSTGCN 0% missing\n",
        "# df9 = pd.read_csv('./simulation_results/2023-05-08_01-09-23.csv')\n",
        "# df10 = pd.read_csv('./simulation_results/2023-05-08_05-47-08.csv')"
      ],
      "id": "ec0983a9-3287-4e64-95f8-020ec0746054"
    },
    {
      "cell_type": "code",
      "execution_count": 235,
      "metadata": {},
      "outputs": [],
      "source": [
        "data = pd.concat([df1,df2,df3],axis=0)"
      ],
      "id": "1ea78bcb-2dd1-42d9-bfb2-db538a186f49"
    },
    {
      "cell_type": "code",
      "execution_count": 236,
      "metadata": {},
      "outputs": [],
      "source": [
        "data.to_csv('./simulation_results/Real_simulation_reshape/chikenpox_Simulation.csv',index=False)"
      ],
      "id": "8e39bbcb-6b60-49fc-8aa7-07ea536b136d"
    },
    {
      "cell_type": "code",
      "execution_count": 237,
      "metadata": {},
      "outputs": [],
      "source": [
        "data = pd.read_csv('./simulation_results/Real_simulation_reshape/chikenpox_Simulation.csv')"
      ],
      "id": "3a442502-f1d1-4665-8135-d6b135b9adbc"
    },
    {
      "cell_type": "code",
      "execution_count": 238,
      "metadata": {},
      "outputs": [],
      "source": [
        "data.query(\"method=='STGCN' and mtype == 'rand'\")['mse'].mean(),data.query(\"method=='STGCN' and mtype != 'rand'\")['mse'].mean()"
      ],
      "id": "847850c3-0d5f-4d4c-8adf-3752c5808bd5"
    },
    {
      "cell_type": "code",
      "execution_count": 239,
      "metadata": {},
      "outputs": [],
      "source": [
        "data.query(\"method=='IT-STGCN' and mtype == 'rand'\")['mse'].mean(),data.query(\"method=='IT-STGCN' and mtype != 'rand'\")['mse'].mean()"
      ],
      "id": "2a950f1c-debf-43d9-9a9a-727b38ad1ddf"
    },
    {
      "cell_type": "code",
      "execution_count": null,
      "metadata": {},
      "outputs": [],
      "source": [
        "data.query(\"method!='GNAR' and mrate ==0 \").plot.box(backend='plotly',x='mrate',color='method',y='mse',facet_col='nof_filters',height=600)\n"
      ],
      "id": "043818f8-e8e7-4809-b5cd-02df1bd16079"
    },
    {
      "cell_type": "code",
      "execution_count": null,
      "metadata": {},
      "outputs": [],
      "source": [
        "data.query(\"method!='GNAR' and mtype =='rand' and mrate !=0.8 and mrate!=0.9 \").plot.box(backend='plotly',x='mrate',color='method',y='mse',facet_col='nof_filters',facet_row='inter_method',height=800)\n"
      ],
      "id": "1a330c24-a62a-4ef2-b257-a2a1c2d9ab71"
    },
    {
      "cell_type": "code",
      "execution_count": null,
      "metadata": {},
      "outputs": [],
      "source": [
        "data.query(\"method!='GNAR' and mtype =='rand' and (mrate==0.8 or mrate==0.9)\").plot.box(backend='plotly',x='mrate',color='method',y='mse',facet_col='nof_filters',facet_row='inter_method',height=800)\n"
      ],
      "id": "3cdbf6c6-a9b9-48f9-a41a-00d49e3c90b4"
    },
    {
      "cell_type": "code",
      "execution_count": 241,
      "metadata": {},
      "outputs": [],
      "source": [
        "data.query(\"method!='GNAR' and mtype =='block' and RecurrentGCN =='GConvGRU\").plot.box(backend='plotly',x='mrate',color='method',y='mse',facet_col='RecurrentGCN',facet_row='inter_method',height=800)\n"
      ],
      "id": "0dcd063a-487b-4b7c-a635-2c8114537ae0"
    },
    {
      "cell_type": "markdown",
      "metadata": {},
      "source": [
        "# Pedalme\n",
        "\n",
        "block1\n",
        "\n",
        "``` python\n",
        "my_list = [[] for _ in range(15)] #pedalme\n",
        "another_list = list(range(5,25))\n",
        "my_list[1] = another_list\n",
        "my_list[3] = another_list\n",
        "my_list[5] = another_list\n",
        "my_list[7] = another_list\n",
        "my_list[9] = another_list\n",
        "my_list[11] = another_list\n",
        "mindex = my_list\n",
        "```\n",
        "\n",
        "block 30% missing을 위한 조건\n",
        "\n",
        "block2\n",
        "\n",
        "``` python\n",
        "my_list = [[] for _ in range(15)] #pedalme\n",
        "another_list = list(range(10,25))\n",
        "my_list[2] = another_list\n",
        "my_list[4] = another_list\n",
        "my_list[5] = another_list\n",
        "my_list[11] = another_list\n",
        "mindex = my_list\n",
        "```\n",
        "\n",
        "block 30% missing을 위한 조건"
      ],
      "id": "e4af7287-76a3-4843-85af-33767e6e4832"
    },
    {
      "cell_type": "code",
      "execution_count": null,
      "metadata": {},
      "outputs": [],
      "source": [
        "df1 = pd.read_csv('./simulation_results/2023-05-19_02-23-29.csv') \n",
        "df2 = pd.read_csv('./simulation_results/2023-05-19_03-56-39.csv') # STGCN, ITSTGCN random 50%, 60%\n",
        "df3 = pd.read_csv('./simulation_results/2023-05-24_00-26-51.csv') # GNAR random 30%, 40%, 50%, 60%\n",
        "df4 = pd.read_csv('./simulation_results/2023-05-24_07-06-29.csv') # GNAR block 30%\n",
        "# df5 = pd.read_csv('./simulation_results/2023-04-15_01-08-16.csv') # GNAR random 30%, 40%, 50%\n",
        "# df6 = pd.read_csv('./simulation_results/2023-04-15_01-38-46.csv') # STGCN, ITSTGCN block 2\n",
        "# df7 = pd.read_csv('./simulation_results/2023-04-23_15-17-33.csv') # GNAR 60%\n",
        "# df8 = pd.read_csv('./simulation_results/2023-04-23_15-25-09.csv') # GNAR block 1\n",
        "# df9 = pd.read_csv('./simulation_results/2023-04-23_15-41-20.csv') # GNAR block 2\n",
        "# df10 = pd.read_csv('./simulation_results/2023-04-23_16-25-28.csv') # STGCN,IT-STGCN block 2\n",
        "# df11 = pd.read_csv('./simulation_results/2023-04-19_00-13-29.csv')\n",
        "# df12 = pd.read_csv('./simulation_results/2023-05-14_21-01-41.csv')"
      ],
      "id": "6f54c5ad-b962-46c9-90ce-50fae6481475"
    },
    {
      "cell_type": "code",
      "execution_count": null,
      "metadata": {},
      "outputs": [],
      "source": [
        "data = pd.concat([df1,df2,df3,df4],axis=0)"
      ],
      "id": "c8d199da-2ca2-46cb-9c51-fb47b833a638"
    },
    {
      "cell_type": "code",
      "execution_count": null,
      "metadata": {},
      "outputs": [],
      "source": [
        "data.to_csv('./simulation_results/Real_simulation_reshape/pedalme_Simulation.csv',index=False)"
      ],
      "id": "91c92d9b-5c3a-4552-ae42-5489a9c632be"
    },
    {
      "cell_type": "code",
      "execution_count": null,
      "metadata": {},
      "outputs": [],
      "source": [
        "data = pd.read_csv('./simulation_results/Real_simulation_reshape/pedalme_Simulation.csv')"
      ],
      "id": "23d366e3-aee5-4e2a-8d0f-619daf28edb7"
    },
    {
      "cell_type": "code",
      "execution_count": null,
      "metadata": {},
      "outputs": [],
      "source": [
        "data.query(\"method=='STGCN' and mtype == 'rand'\")['mse'].mean(),data.query(\"method=='STGCN' and mtype != 'rand'\")['mse'].mean()"
      ],
      "id": "5246cf9f-44b1-4471-afc2-a72ad42cf4b0"
    },
    {
      "cell_type": "code",
      "execution_count": null,
      "metadata": {},
      "outputs": [],
      "source": [
        "data.query(\"method=='IT-STGCN' and mtype == 'rand'\")['mse'].mean(),data.query(\"method=='IT-STGCN' and mtype != 'rand'\")['mse'].mean()"
      ],
      "id": "c7669610-477d-4f43-b272-100476cf13ec"
    },
    {
      "cell_type": "markdown",
      "metadata": {},
      "source": [
        "## Baseline"
      ],
      "id": "68f273c1-89f1-42ea-943b-3de8da9621e3"
    },
    {
      "cell_type": "code",
      "execution_count": null,
      "metadata": {},
      "outputs": [],
      "source": [
        "data.query(\"method!='GNAR' and mrate ==0 \").plot.box(backend='plotly',x='epoch',color='method',y='mse',facet_col='RecurrentGCN',height=800)\n"
      ],
      "id": "ee3a6561-f2be-4c0b-86d8-c1f2e7c385ee"
    },
    {
      "cell_type": "markdown",
      "metadata": {},
      "source": [
        "## random"
      ],
      "id": "b841f597-d4f9-42aa-a86a-858599e84b79"
    },
    {
      "cell_type": "code",
      "execution_count": null,
      "metadata": {},
      "outputs": [],
      "source": [
        "data.query(\"method!='GNAR' and mtype =='rand' \").plot.box(backend='plotly',x='mrate',color='method',y='mse',facet_col='RecurrentGCN',facet_row='inter_method',height=800)\n"
      ],
      "id": "fe8b9f0c-2258-4702-91bf-1748381d5b3a"
    },
    {
      "cell_type": "markdown",
      "metadata": {},
      "source": [
        "## block"
      ],
      "id": "15e48610-55f5-4eab-b40e-9b02553d589e"
    },
    {
      "cell_type": "code",
      "execution_count": null,
      "metadata": {},
      "outputs": [],
      "source": [
        "data.query(\"method!='GNAR' and mtype =='block' \").plot.box(backend='plotly',x='mrate',color='method',y='mse',facet_col='RecurrentGCN',facet_row='inter_method',height=600)\n"
      ],
      "id": "53083fec-3b32-44c3-99f4-8d41c62a9eae"
    },
    {
      "cell_type": "markdown",
      "metadata": {},
      "source": [
        "## weight matrix time, node 고려한 결과"
      ],
      "id": "e3225a46-1cc9-426c-a202-62880058feb6"
    },
    {
      "cell_type": "code",
      "execution_count": null,
      "metadata": {},
      "outputs": [],
      "source": [
        "# df1 = pd.read_csv('./simulation_results/2023-04-30_13-00-12.csv')\n",
        "# df2 = pd.read_csv('./simulation_results/2023-04-30_13-31-32.csv')\n",
        "# df3 = pd.read_csv('./simulation_results/2023-04-30_14-01-49.csv')\n",
        "# df4 = pd.read_csv('./simulation_results/2023-04-30_14-31-56.csv')\n",
        "# df5 = pd.read_csv('./simulation_results/2023-04-30_15-02-23.csv')\n",
        "# df6 = pd.read_csv('./simulation_results/2023-04-30_15-33-03.csv')\n",
        "# df7 = pd.read_csv('./simulation_results/2023-04-30_16-07-43.csv')\n",
        "# df8 = pd.read_csv('./simulation_results/2023-04-30_16-41-35.csv')\n",
        "# df9 = pd.read_csv('./simulation_results/2023-04-30_17-14-51.csv')\n",
        "# df10 = pd.read_csv('./simulation_results/2023-04-30_17-49-34.csv')\n",
        "# df11 = pd.read_csv('./simulation_results/2023-04-30_18-21-29.csv')\n",
        "# df12 = pd.read_csv('./simulation_results/2023-04-30_18-50-24.csv')\n",
        "# df13 = pd.read_csv('./simulation_results/2023-04-30_20-33-28.csv')\n",
        "# df14 = pd.read_csv('./simulation_results/2023-05-04_16-40-05.csv')\n",
        "# df15 = pd.read_csv('./simulation_results/2023-05-04_17-34-00.csv')"
      ],
      "id": "802db8d0-8ad7-4bcd-ac90-294cbe768fe5"
    },
    {
      "cell_type": "code",
      "execution_count": null,
      "metadata": {},
      "outputs": [],
      "source": [
        "data2 = pd.concat([df1,df2,df3,df4,df5,df6,df7,df8,df9,df10,df11,df12,df13,df14,df15],axis=0)"
      ],
      "id": "8a0dbee5-4127-4555-90a5-f155c0b152e5"
    },
    {
      "cell_type": "code",
      "execution_count": null,
      "metadata": {},
      "outputs": [],
      "source": [
        "data2.to_csv('./simulation_results/Real_simulation_reshape/pedalme_Simulation_itstgcnsnd.csv',index=False)"
      ],
      "id": "b9245bd5-e89c-49d9-9967-ac4ada51acfc"
    },
    {
      "cell_type": "code",
      "execution_count": null,
      "metadata": {},
      "outputs": [],
      "source": [
        "data2 = pd.read_csv('./simulation_results/Real_simulation_reshape/pedalme_Simulation_itstgcnsnd.csv')"
      ],
      "id": "a6a632cd-44bb-4ad4-9153-f2e8349c9f50"
    },
    {
      "cell_type": "code",
      "execution_count": null,
      "metadata": {},
      "outputs": [],
      "source": [
        "data2.query(\"mtype!='block'\").plot.box(backend='plotly',x='mrate',color='method',y='mse',facet_col='lags',facet_row='inter_method',height=1000)"
      ],
      "id": "e73664d7-a77e-4914-bc3d-0aa96b8c2c56"
    },
    {
      "cell_type": "code",
      "execution_count": null,
      "metadata": {},
      "outputs": [],
      "source": [
        "data2.query(\"mtype=='block'\").plot.box(backend='plotly',x='mrate',color='method',y='mse',facet_col='lags',facet_row='inter_method',height=1200)"
      ],
      "id": "5086bbd2-f02d-4507-a9f8-fac018d818bf"
    },
    {
      "cell_type": "markdown",
      "metadata": {},
      "source": [
        "# Wikimath"
      ],
      "id": "a1f89145-41ac-4079-804c-b5b812487bc1"
    },
    {
      "cell_type": "code",
      "execution_count": null,
      "metadata": {},
      "outputs": [],
      "source": [
        "df1 = pd.read_csv('./simulation_results/2023-05-20_03-46-21.csv')\n",
        "df2 = pd.read_csv('./simulation_results/2023-05-21_11-25-07.csv')\n",
        "df3 = pd.read_csv('./simulation_results/2023-05-22_20-12-48.csv')\n",
        "df4 = pd.read_csv('./simulation_results/2023-05-23_21-43-25.csv')\n",
        "df5 = pd.read_csv('./simulation_results/2023-05-24_23-25-14.csv')\n",
        "# df6 = pd.read_csv('./simulation_results/2023-05-18_09-39-51.csv')\n",
        "# df7 = pd.read_csv('./simulation_results/2023-05-18_13-55-12.csv')\n",
        "# df8 = pd.read_csv('./simulation_results/2023-04-25_11-18-21.csv')\n",
        "# df9 = pd.read_csv('./simulation_results/2023-04-25_22-51-21.csv')\n",
        "# df10 = pd.read_csv('./simulation_results/2023-04-26_07-35-21.csv')\n",
        "# df11 = pd.read_csv('./simulation_results/2023-04-28_18-07-23.csv')\n",
        "# df12 = pd.read_csv('./simulation_results/2023-04-30_04-35-07.csv')\n",
        "# df13 = pd.read_csv('./simulation_results/2023-05-08_12-07-28.csv')\n",
        "# df14 = pd.read_csv('./simulation_results/2023-05-09_02-26-26.csv')\n",
        "# df15 = pd.read_csv('./simulation_results/2023-05-09_09-10-12.csv')\n",
        "# df16 = pd.read_csv('./simulation_results/2023-05-09_15-42-43.csv')\n",
        "# df17 = pd.read_csv('./simulation_results/2023-05-09_21-48-31.csv')\n",
        "# df18 = pd.read_csv('./simulation_results/2023-05-10_02-17-07.csv')\n",
        "# df19 = pd.read_csv('./simulation_results/2023-05-10_06-35-14.csv')"
      ],
      "id": "376e0d12-4ead-451a-9697-05296e767385"
    },
    {
      "cell_type": "code",
      "execution_count": null,
      "metadata": {},
      "outputs": [],
      "source": [
        "data = pd.concat([df1,df2,df3,df4,df5],axis=0)"
      ],
      "id": "f3f7be31-01ec-4a6b-b315-07426c7ab7d1"
    },
    {
      "cell_type": "code",
      "execution_count": null,
      "metadata": {},
      "outputs": [],
      "source": [
        "data.to_csv('./simulation_results/Real_simulation_reshape/wikimath.csv',index=False)"
      ],
      "id": "8a9c12bf-b5c3-456f-810f-8f1a19ece4c3"
    },
    {
      "cell_type": "code",
      "execution_count": null,
      "metadata": {},
      "outputs": [],
      "source": [
        "data = pd.read_csv('./simulation_results/Real_simulation_reshape/wikimath.csv')"
      ],
      "id": "5059d102-cd79-4243-935c-0f9077d3be04"
    },
    {
      "cell_type": "markdown",
      "metadata": {},
      "source": [
        "## Baseline"
      ],
      "id": "50b3c3f2-a099-4ec1-a836-6f35ba8dda69"
    },
    {
      "cell_type": "code",
      "execution_count": null,
      "metadata": {},
      "outputs": [],
      "source": [
        "data.query(\"mrate==0 and method!='GNAR'\").plot.box(backend='plotly',x='mrate',color='method',y='mse',facet_col='RecurrentGCN',facet_row='lags',height=600)"
      ],
      "id": "fdf640ba-c5db-4c02-86a5-90de99c318d0"
    },
    {
      "cell_type": "markdown",
      "metadata": {},
      "source": [
        "## random"
      ],
      "id": "9a16b4f1-7954-4f99-ae1a-f73a309eed7c"
    },
    {
      "cell_type": "code",
      "execution_count": null,
      "metadata": {},
      "outputs": [],
      "source": [
        "data.query(\"mtype=='rand' and mrate !=0 and method!='GNAR'\").plot.box(backend='plotly',x='mrate',color='method',y='mse',facet_col='RecurrentGCN',facet_row='nof_filters',height=800)\n"
      ],
      "id": "1ec08473-90c2-41a1-9755-64e50b23a225"
    },
    {
      "cell_type": "markdown",
      "metadata": {},
      "source": [
        "## block"
      ],
      "id": "be7a1017-4d86-4ff9-b9c2-41cd1c93ede9"
    },
    {
      "cell_type": "code",
      "execution_count": null,
      "metadata": {},
      "outputs": [],
      "source": [
        "df1 = pd.read_csv('./simulation_results/2023-05-24_00-26-51.csv')\n",
        "# df2 = pd.read_csv('./simulation_results/2023-04-27_22-09-07.csv')\n",
        "# df3 = pd.read_csv('./simulation_results/2023-04-28_14-40-59.csv')\n",
        "# df4 = pd.read_csv('./simulation_results/2023-05-14_19-46-46.csv')\n",
        "# df5 = pd.read_csv('./simulation_results/2023-05-14_19-46-46.csv')"
      ],
      "id": "72c54ce0-f5ab-4eda-94eb-8bdafcc3fd7e"
    },
    {
      "cell_type": "code",
      "execution_count": null,
      "metadata": {},
      "outputs": [],
      "source": [
        "data = pd.concat([df1],axis=0)"
      ],
      "id": "bffebd03-c9a2-41b3-a5fc-72a81116221a"
    },
    {
      "cell_type": "code",
      "execution_count": null,
      "metadata": {},
      "outputs": [],
      "source": [
        "data.to_csv('./simulation_results/Real_simulation_reshape/wikimath_block.csv',index=False)"
      ],
      "id": "9c903da3-7072-4259-a487-ee8d8ef92ba9"
    },
    {
      "cell_type": "code",
      "execution_count": null,
      "metadata": {},
      "outputs": [],
      "source": [
        "data = pd.read_csv('./simulation_results/Real_simulation_reshape/wikimath_block.csv')"
      ],
      "id": "0e2fd83e-eb63-4a2e-9bf7-21da679d8f69"
    },
    {
      "cell_type": "code",
      "execution_count": null,
      "metadata": {},
      "outputs": [],
      "source": [
        "data.query(\"mtype=='block' and method!='GNAR'\").plot.box(backend='plotly',x='mrate',color='method',y='mse',facet_col='lags',facet_row='nof_filters',height=1200)\n"
      ],
      "id": "288eef61-05eb-4bd2-bfe2-7d106d756653"
    },
    {
      "cell_type": "markdown",
      "metadata": {},
      "source": [
        "## missing values on the same nodes"
      ],
      "id": "5140167b-add2-452e-a8f7-10fd4fd7e3d9"
    },
    {
      "cell_type": "code",
      "execution_count": null,
      "metadata": {
        "tags": []
      },
      "outputs": [],
      "source": [
        "# 10%\n",
        "# df1 = pd.read_csv('./simulation_results/2023-04-29_03-57-07.csv') # STGCN IT-STGCN block\n",
        "# df2 = pd.read_csv('./simulation_results/2023-04-29_20-15-46.csv') # STGCN IT-STGCN\n",
        "# df3 = pd.read_csv('./simulation_results/2023-04-30_16-19-58.csv') # STGCN IT-STGCN\n",
        "# # 60% 확인하고 다시 돌리기\n",
        "# df4 = pd.read_csv('./simulation_results/2023-05-05_04-21-57.csv') # STGCN IT-STGCN 60%\n",
        "# df5 = pd.read_csv('./simulation_results/2023-05-06_11-34-46.csv') # STGCN IT-STGCN\n",
        "# df6 = pd.read_csv('./simulation_results/2023-05-06_23-43-35.csv') # STGCN IT-STGCN\n",
        "# df7 = pd.read_csv('./simulation_results/2023-05-07_14-06-44.csv') # STGCN IT-STGCN"
      ],
      "id": "7e994884-6ddf-4502-92d7-63566ddeffea"
    },
    {
      "cell_type": "code",
      "execution_count": null,
      "metadata": {},
      "outputs": [],
      "source": [
        "data = pd.concat([df1,df2,df3,df4,df5,df6,df7],axis=0)"
      ],
      "id": "d56dc468-c207-43a8-9239-3de0e76a3f37"
    },
    {
      "cell_type": "code",
      "execution_count": null,
      "metadata": {},
      "outputs": [],
      "source": [
        "data.to_csv('./simulation_results/Real_simulation_reshape/wikimath_GSO_st.csv',index=False)"
      ],
      "id": "b597464a-36e7-4781-a78d-fa01863be685"
    },
    {
      "cell_type": "code",
      "execution_count": null,
      "metadata": {},
      "outputs": [],
      "source": [
        "data = pd.read_csv('./simulation_results/Real_simulation_reshape/wikimath_GSO_st.csv')"
      ],
      "id": "78c051f4-f77e-4dc9-a33c-26cf70f8b9bb"
    },
    {
      "cell_type": "code",
      "execution_count": null,
      "metadata": {},
      "outputs": [],
      "source": [
        "data.query(\"method=='GNAR'\")['mse'].unique()"
      ],
      "id": "f48a689c-fa1b-4e85-8642-a62df67a84f1"
    },
    {
      "cell_type": "code",
      "execution_count": null,
      "metadata": {},
      "outputs": [],
      "source": [
        "data.query(\"method!='GNAR' and mtype =='block' \").plot.box(backend='plotly',x='mrate',color='method',y='mse',facet_col='inter_method',facet_row='lags',height=800)\n"
      ],
      "id": "48ad8266-4667-450d-863f-6d6bd82b239a"
    },
    {
      "cell_type": "markdown",
      "metadata": {},
      "source": [
        "# Windmilmedium"
      ],
      "id": "f235ed75-1544-4e0e-8b26-87900a224039"
    },
    {
      "cell_type": "code",
      "execution_count": null,
      "metadata": {},
      "outputs": [],
      "source": [
        "# df1 = pd.read_csv('./simulation_results/2023-05-08_02-08-10.csv')\n",
        "# df2 = pd.read_csv('./simulation_results/2023-05-08_14-58-04.csv')\n",
        "# df3 = pd.read_csv('./simulation_results/2023-05-09_03-44-04.csv')\n",
        "# df4 = pd.read_csv('./simulation_results/2023-05-09_19-32-04.csv') # STGCN IT-STGCN\n",
        "# df5 = pd.read_csv('./simulation_results/2023-05-10_01-07-21.csv') # STGCN IT-STGCN\n",
        "# df6 = pd.read_csv('./simulation_results/2023-05-10_06-15-13.csv') # \n",
        "# df7 = pd.read_csv('./simulation_results/2023-05-10_10-15-50.csv') # STGCN IT-STGCN\n",
        "# df8 = pd.read_csv('./simulation_results/2023-05-10_14-09-03.csv') # STGCN IT-STGCN\n",
        "# df9 = pd.read_csv('./simulation_results/2023-05-10_17-09-38.csv') # GNAR\n",
        "# df10 = pd.read_csv('./simulation_results/2023-05-10_18-00-11.csv') # STGCN IT-STGCN\n",
        "# df11 = pd.read_csv('./simulation_results/2023-05-10_21-50-37.csv') # STGCN IT-STGCN\n",
        "# df12 = pd.read_csv('./simulation_results/2023-05-11_01-41-04.csv') # STGCN IT-STGCN\n",
        "# df13 = pd.read_csv('./simulation_results/2023-05-11_05-31-29.csv') # STGCN IT-STGCN\n",
        "# df14 = pd.read_csv('./simulation_results/2023-05-11_13-25-58.csv') # STGCN IT-STGCN\n",
        "# df15 = pd.read_csv('./simulation_results/2023-05-11_13-26-45.csv') # STGCN IT-STGCN\n",
        "# df16 = pd.read_csv('./simulation_results/2023-05-11_18-33-31.csv') # STGCN IT-STGCN\n",
        "# df17 = pd.read_csv('./simulation_results/2023-05-11_18-39-14.csv') # STGCN IT-STGCN\n",
        "# df18 = pd.read_csv('./simulation_results/2023-05-12_00-06-22.csv') # STGCN IT-STGCN\n",
        "# df19 = pd.read_csv('./simulation_results/2023-05-12_00-10-51.csv') # STGCN IT-STGCN\n",
        "# df20 = pd.read_csv('./simulation_results/2023-05-12_05-17-16.csv') # STGCN IT-STGCN\n",
        "# df21 = pd.read_csv('./simulation_results/2023-05-12_05-17-50.csv') # STGCN IT-STGCN\n",
        "# df22 = pd.read_csv('./simulation_results/2023-05-13_18-46-25.csv') # STGCN IT-STGCN\n",
        "# df23 = pd.read_csv('./simulation_results/2023-05-13_18-47-00.csv') # STGCN IT-STGCN\n",
        "# df24 = pd.read_csv('./simulation_results/2023-05-13_23-16-09.csv') # STGCN IT-STGCN\n",
        "# df25 = pd.read_csv('./simulation_results/2023-05-13_23-20-14.csv') # STGCN IT-STGCN\n",
        "# df26 = pd.read_csv('./simulation_results/2023-05-14_03-54-19.csv') # STGCN IT-STGCN\n",
        "# df27 = pd.read_csv('./simulation_results/2023-05-14_08-16-42.csv') # STGCN IT-STGCN\n",
        "# df28 = pd.read_csv('./simulation_results/2023-05-03_13-43-11.csv') # STGCN IT-STGCN\n",
        "# df29 = pd.read_csv('./simulation_results/2023-05-03_21-58-04.csv') # STGCN IT-STGCN\n",
        "# df30 = pd.read_csv('./simulation_results/2023-05-04_04-39-00.csv') # STGCN IT-STGCN\n",
        "# df31 = pd.read_csv('./simulation_results/2023-04-23_15-22-36.csv') # \n",
        "# df32 = pd.read_csv('./simulation_results/2023-04-29_06-54-40.csv') #  \n",
        "# df33 = pd.read_csv('./simulation_results/2023-04-30_18-55-12.csv')\n",
        "# df34 = pd.read_csv('./simulation_results/2023-05-01_02-55-33.csv')\n",
        "# df35 = pd.read_csv('./simulation_results/2023-05-01_10-21-15.csv')\n",
        "# df36 = pd.read_csv('./simulation_results/2023-05-01_19-23-57.csv')\n",
        "# df37 = pd.read_csv('./simulation_results/2023-05-02_01-10-53.csv')\n",
        "# df38 = pd.read_csv('./simulation_results/2023-05-02_08-26-53.csv')\n",
        "# df39 = pd.read_csv('./simulation_results/2023-05-02_16-00-40.csv')\n",
        "# df40 = pd.read_csv('./simulation_results/2023-05-03_00-34-09.csv')\n",
        "# df41 = pd.read_csv('./simulation_results/2023-05-03_08-04-42.csv')\n",
        "# df42 = pd.read_csv('./simulation_results/2023-05-03_15-50-50.csv')\n",
        "# df43 = pd.read_csv('./simulation_results/2023-05-03_23-46-56.csv')\n",
        "# df44 = pd.read_csv('./simulation_results/2023-05-04_05-22-59.csv')\n",
        "# df45 = pd.read_csv('./simulation_results/2023-05-04_09-22-37.csv')\n",
        "# df46 = pd.read_csv('./simulation_results/2023-05-04_15-00-57.csv')\n",
        "# df47 = pd.read_csv('./simulation_results/2023-05-04_23-41-21.csv')\n",
        "# df48 = pd.read_csv('./simulation_results/2023-05-05_07-23-04.csv')\n",
        "# df49 = pd.read_csv('./simulation_results/2023-05-05_15-03-17.csv')\n",
        "# df50 = pd.read_csv('./simulation_results/2023-05-06_05-18-07.csv')\n",
        "# df51 = pd.read_csv('./simulation_results/2023-05-06_12-57-14.csv')\n",
        "# df52 = pd.read_csv('./simulation_results/2023-05-06_19-10-23.csv')\n",
        "# df53 = pd.read_csv('./simulation_results/2023-05-07_03-20-10.csv')\n",
        "# df54 = pd.read_csv('./simulation_results/2023-05-07_11-26-24.csv')\n",
        "# df55 = pd.read_csv('./simulation_results/2023-05-08_00-04-56.csv')\n",
        "# df56 = pd.read_csv('./simulation_results/2023-05-08_04-27-01.csv')\n",
        "# df57 = pd.read_csv('./simulation_results/2023-05-08_10-06-55.csv')\n",
        "# df58 = pd.read_csv('./simulation_results/2023-05-08_17-50-36.csv')\n",
        "# df59 = pd.read_csv('./simulation_results/2023-05-09_03-28-08.csv')\n",
        "# df60 = pd.read_csv('./simulation_results/2023-05-09_11-08-10.csv')\n",
        "# df61 = pd.read_csv('./simulation_results/2023-05-09_20-11-45.csv')"
      ],
      "id": "bf5810a9-a93f-4a17-a09f-800c459c19f2"
    },
    {
      "cell_type": "code",
      "execution_count": null,
      "metadata": {},
      "outputs": [],
      "source": [
        "data = pd.concat([df2,df3,df4,df5,df6,df7,df8,df9,df10,df11,df12,df13,df14,\n",
        "                 df15,df16,df17,df18,df19,df20,df21,df22,df23,df24,df25,\n",
        "                 df26,df27],axis=0)"
      ],
      "id": "041395aa-4ed7-46d4-881a-0dfa37b2b52b"
    },
    {
      "cell_type": "code",
      "execution_count": null,
      "metadata": {},
      "outputs": [],
      "source": [
        "data.to_csv('./simulation_results/Real_simulation_reshape/windmillmedium.csv',index=False)"
      ],
      "id": "b6977cc8-7f55-40ed-bd83-6091f0c03876"
    },
    {
      "cell_type": "code",
      "execution_count": null,
      "metadata": {},
      "outputs": [],
      "source": [
        "data = pd.read_csv('./simulation_results/Real_simulation_reshape/windmillmedium.csv')"
      ],
      "id": "6ff70b05-9a7c-4114-93d4-b88d4e393d0b"
    },
    {
      "cell_type": "code",
      "execution_count": null,
      "metadata": {},
      "outputs": [],
      "source": [
        "data.query(\"method=='GNAR'\")['mse'].unique()"
      ],
      "id": "4bf47c9d-18dc-47a2-a432-d64be1b1888d"
    },
    {
      "cell_type": "code",
      "execution_count": null,
      "metadata": {},
      "outputs": [],
      "source": [
        "data.query(\"method!='GNAR' and mrate ==0\").plot.box(backend='plotly',x='mrate',color='method',y='mse',facet_col='lags',height=800)\n"
      ],
      "id": "ff5934cd-e31b-4c6a-8665-7be06efb8cf9"
    },
    {
      "cell_type": "code",
      "execution_count": null,
      "metadata": {},
      "outputs": [],
      "source": [
        "data.query(\"method!='GNAR' and mrate !=0\").plot.box(backend='plotly',x='mrate',color='method',y='mse',facet_col='lags',height=800)\n"
      ],
      "id": "3e32f510-dcb8-49d4-89d1-73756ac6cf69"
    },
    {
      "cell_type": "markdown",
      "metadata": {},
      "source": [
        "# Windmilsmall"
      ],
      "id": "461bcbef-cf2d-44dc-835c-cf67f1c5b08c"
    },
    {
      "cell_type": "code",
      "execution_count": null,
      "metadata": {},
      "outputs": [],
      "source": [
        "# df1 = pd.read_csv('./simulation_results/2023-04-17_06-05-37.csv') # STGCN IT-STGCN 70%\n",
        "# df2 = pd.read_csv('./simulation_results/2023-04-17_08-05-26.csv') # STGCN IT-STGCN\n",
        "# df3 = pd.read_csv('./simulation_results/2023-04-17_13-41-19.csv') # STGCN IT-STGCN\n",
        "# df4 = pd.read_csv('./simulation_results/2023-04-17_15-44-21.csv') # STGCN IT-STGCN\n",
        "# df5 = pd.read_csv('./simulation_results/2023-04-17_21-27-38.csv') # STGCN IT-STGCN\n",
        "# df6 = pd.read_csv('./simulation_results/2023-04-15_15-00-32.csv') # GNAR 30%, 50%, 70% # 뭔가 일단 필요없어서 데이터셋에서 뺌\n",
        "# df7 = pd.read_csv('./simulation_results/2023-04-18_05-01-55.csv') # STGCN IT-STGCN\n",
        "# df8 = pd.read_csv('./simulation_results/2023-04-18_06-14-06.csv') # STGCN IT-STGCN\n",
        "# df9 = pd.read_csv('./simulation_results/2023-04-18_17-32-30.csv') # STGCN IT-STGCN\n",
        "# df10 = pd.read_csv('./simulation_results/2023-04-19_01-52-24.csv') # STGCN IT-STGCN\n",
        "# df11 = pd.read_csv('./simulation_results/2023-04-19_07-50-52.csv') # STGCN IT-STGCN\n",
        "# df12 = pd.read_csv('./simulation_results/2023-04-19_09-30-25.csv') # STGCN IT-STGCN\n",
        "# df13 = pd.read_csv('./simulation_results/2023-04-19_15-32-55.csv') # STGCN IT-STGCN\n",
        "# df14 = pd.read_csv('./simulation_results/2023-04-19_17-12-06.csv') # STGCN IT-STGCN\n",
        "# df15 = pd.read_csv('./simulation_results/2023-04-19_23-07-36.csv') # STGCN IT-STGCN\n",
        "# df16 = pd.read_csv('./simulation_results/2023-04-20_00-46-43.csv') # STGCN IT-STGCN\n",
        "# df17 = pd.read_csv('./simulation_results/2023-04-20_06-51-34.csv') # STGCN IT-STGCN\n",
        "# df18 = pd.read_csv('./simulation_results/2023-04-20_08-30-27.csv') # STGCN IT-STGCN\n",
        "# df19 = pd.read_csv('./simulation_results/2023-04-20_14-28-35.csv') # STGCN IT-STGCN\n",
        "# df20 = pd.read_csv('./simulation_results/2023-04-20_16-08-39.csv') # STGCN IT-STGCN\n",
        "# df21 = pd.read_csv('./simulation_results/2023-04-20_22-09-37.csv') # STGCN IT-STGCN\n",
        "# df22 = pd.read_csv('./simulation_results/2023-04-20_23-48-26.csv') # STGCN IT-STGCN\n",
        "# df23 = pd.read_csv('./simulation_results/2023-04-21_05-36-47.csv') # STGCN IT-STGCN\n",
        "# df24 = pd.read_csv('./simulation_results/2023-04-21_15-26-00.csv') # STGCN IT-STGCN\n",
        "# df25 = pd.read_csv('./simulation_results/2023-04-21_23-27-11.csv') # STGCN IT-STGCN\n",
        "# df26 = pd.read_csv('./simulation_results/2023-04-22_07-46-08.csv') # STGCN IT-STGCN\n",
        "# df27 = pd.read_csv('./simulation_results/2023-04-22_15-45-20.csv') # STGCN IT-STGCN\n",
        "# df28 = pd.read_csv('./simulation_results/2023-04-22_22-57-31.csv') # STGCN IT-STGCN\n",
        "# df29 = pd.read_csv('./simulation_results/2023-04-23_07-00-15.csv') # STGCN IT-STGCN\n",
        "# df30 = pd.read_csv('./simulation_results/2023-04-23_15-18-02.csv') # STGCN IT-STGCN\n",
        "# df31 = pd.read_csv('./simulation_results/2023-04-23_15-22-36.csv') # GNAR 70%\n",
        "# # baseline\n",
        "# df32 = pd.read_csv('./simulation_results/2023-04-29_06-54-40.csv') # GNAR \n",
        "# df33 = pd.read_csv('./simulation_results/2023-04-30_18-55-12.csv')\n",
        "# df34 = pd.read_csv('./simulation_results/2023-05-01_02-55-33.csv')\n",
        "# df35 = pd.read_csv('./simulation_results/2023-05-01_10-21-15.csv')\n",
        "# df36 = pd.read_csv('./simulation_results/2023-05-01_19-23-57.csv')\n",
        "# df37 = pd.read_csv('./simulation_results/2023-05-02_01-10-53.csv')\n",
        "# df38 = pd.read_csv('./simulation_results/2023-05-02_08-26-53.csv')\n",
        "# df39 = pd.read_csv('./simulation_results/2023-05-02_16-00-40.csv')\n",
        "# df40 = pd.read_csv('./simulation_results/2023-05-03_00-34-09.csv')\n",
        "# df41 = pd.read_csv('./simulation_results/2023-05-03_08-04-42.csv')\n",
        "# df42 = pd.read_csv('./simulation_results/2023-05-03_15-50-50.csv')\n",
        "# df43 = pd.read_csv('./simulation_results/2023-05-03_23-46-56.csv')\n",
        "# df44 = pd.read_csv('./simulation_results/2023-05-04_05-22-59.csv')\n",
        "# df45 = pd.read_csv('./simulation_results/2023-05-04_09-22-37.csv')\n",
        "# df46 = pd.read_csv('./simulation_results/2023-05-04_15-00-57.csv')\n",
        "# df47 = pd.read_csv('./simulation_results/2023-05-04_23-41-21.csv')\n",
        "# df48 = pd.read_csv('./simulation_results/2023-05-05_07-23-04.csv')\n",
        "# df49 = pd.read_csv('./simulation_results/2023-05-05_15-03-17.csv')\n",
        "# df50 = pd.read_csv('./simulation_results/2023-05-06_05-18-07.csv')\n",
        "# df51 = pd.read_csv('./simulation_results/2023-05-06_12-57-14.csv')\n",
        "# df52 = pd.read_csv('./simulation_results/2023-05-06_19-10-23.csv')\n",
        "# df53 = pd.read_csv('./simulation_results/2023-05-07_03-20-10.csv')\n",
        "# df54 = pd.read_csv('./simulation_results/2023-05-07_11-26-24.csv')\n",
        "# df55 = pd.read_csv('./simulation_results/2023-05-08_00-04-56.csv')\n",
        "# df56 = pd.read_csv('./simulation_results/2023-05-08_04-27-01.csv')\n",
        "# df57 = pd.read_csv('./simulation_results/2023-05-08_10-06-55.csv')\n",
        "# df58 = pd.read_csv('./simulation_results/2023-05-08_17-50-36.csv')\n",
        "# df59 = pd.read_csv('./simulation_results/2023-05-09_03-28-08.csv')\n",
        "# df60 = pd.read_csv('./simulation_results/2023-05-09_11-08-10.csv')\n",
        "# df61 = pd.read_csv('./simulation_results/2023-05-09_20-11-45.csv')"
      ],
      "id": "57496caf-7ebc-4b5b-adc0-e1a357b15c62"
    },
    {
      "cell_type": "markdown",
      "metadata": {},
      "source": [
        "## Baseline"
      ],
      "id": "68a8c9f5-8ad4-489b-b7b7-8a186e5931df"
    },
    {
      "cell_type": "code",
      "execution_count": null,
      "metadata": {},
      "outputs": [],
      "source": [
        "data = pd.concat([df1,df2,df3,df4,df5,df7,df8,df9,df10,df11,df12,df13,df14,df15,df16,df17,df18,\n",
        "                 df19,df20,df21,df22,df23,df24,df25,df26,df27,df28,df29,df30,df31,df32,df33,df34,\n",
        "                 df35,df36,df37,df38,df39,df40,df41,df42,df43,df44,df45,df46,df47,df48,df49,df50,\n",
        "                 df51,df52,df53,df54,df55,df56,df57,df58,df59,df60,df61],axis=0)"
      ],
      "id": "4f7a76b6-301f-4729-9155-2b81a1b8abc5"
    },
    {
      "cell_type": "code",
      "execution_count": null,
      "metadata": {},
      "outputs": [],
      "source": [
        "data.to_csv('./simulation_results/Real_simulation_reshape/windmillsmall.csv',index=False)"
      ],
      "id": "fd65c334-4fc4-4c22-88fc-881cd8ae87c0"
    },
    {
      "cell_type": "code",
      "execution_count": null,
      "metadata": {},
      "outputs": [],
      "source": [
        "data = pd.read_csv('./simulation_results/Real_simulation_reshape/windmillsmall.csv')"
      ],
      "id": "40f8c508-86be-489d-8881-cce2ed682ddd"
    },
    {
      "cell_type": "code",
      "execution_count": null,
      "metadata": {},
      "outputs": [],
      "source": [
        "data.query(\"method=='GNAR' and mrate ==0\")['mse'].unique()"
      ],
      "id": "a709c0ac-7430-46bf-9f1a-4fb2145784e2"
    },
    {
      "cell_type": "code",
      "execution_count": null,
      "metadata": {},
      "outputs": [],
      "source": [
        "data.query(\"method!='GNAR' and mrate ==0 \").plot.box(backend='plotly',x='mrate',color='method',y='mse',facet_col='lags',height=800)\n"
      ],
      "id": "243decb1-2802-4ad5-9cc7-447a3a11a86b"
    },
    {
      "cell_type": "markdown",
      "metadata": {},
      "source": [
        "## random"
      ],
      "id": "7ec52a04-6261-4357-89cc-bfecf0d0f7d1"
    },
    {
      "cell_type": "code",
      "execution_count": null,
      "metadata": {},
      "outputs": [],
      "source": [
        "data.query(\"method=='GNAR' and mrate !=0\")['mse'].unique()"
      ],
      "id": "daf967f6-f532-404d-b944-8794011f123c"
    },
    {
      "cell_type": "code",
      "execution_count": null,
      "metadata": {},
      "outputs": [],
      "source": [
        "data.query(\"method!='GNAR' and mtype =='rand' \").plot.box(backend='plotly',x='mrate',color='method',y='mse',facet_col='lags',facet_row='inter_method',height=800)\n"
      ],
      "id": "0e6691f8-1550-4f4a-a2ae-981de2e1287d"
    },
    {
      "cell_type": "markdown",
      "metadata": {},
      "source": [
        "## block"
      ],
      "id": "f2cf9484-f58d-4dfe-9a41-f5efeecd8f06"
    },
    {
      "cell_type": "code",
      "execution_count": null,
      "metadata": {
        "tags": []
      },
      "outputs": [],
      "source": [
        "# df1 = pd.read_csv('./simulation_results/2023-04-24_02-48-08.csv') # STGCN IT-STGCN block\n",
        "# df2 = pd.read_csv('./simulation_results/2023-04-24_10-57-10.csv') # STGCN IT-STGCN\n",
        "# df3 = pd.read_csv('./simulation_results/2023-04-24_18-53-34.csv') # STGCN IT-STGCN\n",
        "# df4 = pd.read_csv('./simulation_results/2023-04-25_02-30-27.csv') # STGCN IT-STGCN\n",
        "# df5 = pd.read_csv('./simulation_results/2023-04-25_10-48-46.csv') # STGCN IT-STGCN\n",
        "# df6 = pd.read_csv('./simulation_results/2023-04-25_10-53-14.csv') # GNAR \n",
        "# df7 = pd.read_csv('./simulation_results/2023-04-25_18-40-53.csv') # STGCN IT-STGCN\n",
        "# df8 = pd.read_csv('./simulation_results/2023-04-25_23-30-08.csv') # STGCN IT-STGCN\n",
        "# df9 = pd.read_csv('./simulation_results/2023-04-26_04-15-00.csv') # STGCN IT-STGCN\n",
        "# df10 = pd.read_csv('./simulation_results/2023-04-27_07-59-36.csv') # STGCN IT-STGCN\n",
        "# df11 = pd.read_csv('./simulation_results/2023-04-27_15-29-00.csv') # STGCN IT-STGCN\n",
        "# df12 = pd.read_csv('./simulation_results/2023-04-27_23-37-18.csv') # STGCN IT-STGCN\n",
        "# df13 = pd.read_csv('./simulation_results/2023-04-28_08-21-54.csv') # STGCN IT-STGCN\n",
        "# df14 = pd.read_csv('./simulation_results/2023-04-28_16-06-55.csv') # STGCN IT-STGCN\n",
        "# df15 = pd.read_csv('./simulation_results/2023-04-28_21-19-37.csv') # STGCN IT-STGCN\n",
        "# df16 = pd.read_csv('./simulation_results/2023-04-29_03-07-03.csv') # STGCN IT-STGCN\n",
        "# df17 = pd.read_csv('./simulation_results/2023-04-29_09-00-42.csv') # STGCN IT-STGCN\n",
        "# df18 = pd.read_csv('./simulation_results/2023-04-29_19-07-49.csv') # STGCN IT-STGCN\n",
        "# df19 = pd.read_csv('./simulation_results/2023-04-30_05-14-07.csv') # STGCN IT-STGCN\n",
        "# df20 = pd.read_csv('./simulation_results/2023-04-30_15-23-16.csv') # STGCN IT-STGCN\n",
        "# df21 = pd.read_csv('./simulation_results/2023-05-01_00-16-37.csv') # STGCN IT-STGCN\n",
        "# df22 = pd.read_csv('./simulation_results/2023-05-01_07-41-52.csv') # STGCN IT-STGCN\n",
        "# df23 = pd.read_csv('./simulation_results/2023-05-01_16-21-41.csv') # STGCN IT-STGCN\n",
        "# df24 = pd.read_csv('./simulation_results/2023-05-01_23-38-23.csv') # STGCN IT-STGCN\n",
        "# df25 = pd.read_csv('./simulation_results/2023-05-02_13-51-13.csv') # STGCN IT-STGCN\n",
        "# df26 = pd.read_csv('./simulation_results/2023-05-02_21-43-26.csv') # STGCN IT-STGCN\n",
        "# df27 = pd.read_csv('./simulation_results/2023-05-03_06-04-32.csv') # STGCN IT-STGCN\n",
        "# df28 = pd.read_csv('./simulation_results/2023-05-03_13-43-11.csv') # STGCN IT-STGCN\n",
        "# df29 = pd.read_csv('./simulation_results/2023-05-03_21-58-04.csv') # STGCN IT-STGCN\n",
        "# df30 = pd.read_csv('./simulation_results/2023-05-04_04-39-00.csv') # STGCN IT-STGCN"
      ],
      "id": "26b0130a-cae8-42c7-a10f-ddcc163f2e65"
    },
    {
      "cell_type": "code",
      "execution_count": null,
      "metadata": {},
      "outputs": [],
      "source": [
        "data = pd.concat([df1,df2,df3,df4,df5,df6,df7,df8,df9,df10,df11,df12,df13,df14,df15,df16,\n",
        "                 df17,df18,df19,df20,df21,df22,df23,df24,df25,df26,df27,df28,df29,df30],axis=0)"
      ],
      "id": "2c87b5f2-409a-4d99-a895-292e9a809160"
    },
    {
      "cell_type": "code",
      "execution_count": null,
      "metadata": {},
      "outputs": [],
      "source": [
        "data.to_csv('./simulation_results/Real_simulation_reshape/windmillsmall_block.csv',index=False)"
      ],
      "id": "0acc6f7f-e861-4006-9c67-58a9806e34f8"
    },
    {
      "cell_type": "code",
      "execution_count": null,
      "metadata": {},
      "outputs": [],
      "source": [
        "data = pd.read_csv('./simulation_results/Real_simulation_reshape/windmillsmall_block.csv')"
      ],
      "id": "f271731b-b4e8-4224-8c98-accfd11d047b"
    },
    {
      "cell_type": "code",
      "execution_count": null,
      "metadata": {},
      "outputs": [],
      "source": [
        "data.query(\"method=='GNAR'\")['mse'].unique()"
      ],
      "id": "fa5dbb37-983e-4454-9cac-c7c7a308de5d"
    },
    {
      "cell_type": "code",
      "execution_count": null,
      "metadata": {},
      "outputs": [],
      "source": [
        "data.query(\"method!='GNAR' and mtype =='block' \").plot.box(backend='plotly',x='mrate',color='method',y='mse',facet_col='lags',facet_row='inter_method',height=800)\n"
      ],
      "id": "0fbc49af-4aff-47e9-94c5-df60352a1f91"
    },
    {
      "cell_type": "markdown",
      "metadata": {},
      "source": [
        "# Montevideobus"
      ],
      "id": "03f346ed-1f38-497d-8576-3e6e6d7d9c67"
    },
    {
      "cell_type": "code",
      "execution_count": null,
      "metadata": {},
      "outputs": [],
      "source": [
        "df1 = pd.read_csv('./simulation_results/2023-05-21_04-41-44.csv') # lags 8\n",
        "df2 = pd.read_csv('./simulation_results/2023-05-23_01-25-58.csv') # lags 8\n",
        "df3 = pd.read_csv('./simulation_results/2023-05-23_06-43-46.csv') # lags 8\n",
        "df4 = pd.read_csv('./simulation_results/2023-05-24_17-35-29.csv') # lags 8\n",
        "df5 = pd.read_csv('./simulation_results/2023-05-24_23-06-24.csv') # lags 8\n",
        "# df6 = pd.read_csv('./simulation_results/2023-05-01_11-21-53.csv') # lags 8\n",
        "# df7 = pd.read_csv('./simulation_results/2023-05-01_14-35-28.csv') # lags 4\n",
        "# df8 = pd.read_csv('./simulation_results/2023-05-01_17-41-15.csv')\n",
        "# df9 = pd.read_csv('./simulation_results/2023-05-01_22-34-25.csv')\n",
        "# df10 = pd.read_csv('./simulation_results/2023-05-01_20-14-49.csv')\n",
        "# df11 = pd.read_csv('./simulation_results/2023-05-02_01-12-01.csv')\n",
        "# df12 = pd.read_csv('./simulation_results/2023-05-02_03-31-06.csv')\n",
        "# df13 = pd.read_csv('./simulation_results/2023-05-02_05-47-02.csv') # STGCN IT-STGCN\n",
        "# df14 = pd.read_csv('./simulation_results/2023-05-02_08-06-05.csv') # STGCN IT-STGCN\n",
        "# df15 = pd.read_csv('./simulation_results/2023-05-02_10-22-46.csv') # STGCN IT-STGCN\n",
        "# df16 = pd.read_csv('./simulation_results/2023-05-02_12-55-51.csv') # STGCN IT-STGCN\n",
        "# df17 = pd.read_csv('./simulation_results/2023-05-02_15-20-11.csv') # STGCN IT-STGCN\n",
        "# df18 = pd.read_csv('./simulation_results/2023-05-02_18-02-21.csv') # STGCN IT-STGCN\n",
        "# df19 = pd.read_csv('./simulation_results/2023-05-02_20-30-09.csv') # STGCN IT-STGCN\n",
        "# df20 = pd.read_csv('./simulation_results/2023-05-02_23-27-13.csv') # STGCN IT-STGCN\n",
        "# df21 = pd.read_csv('./simulation_results/2023-05-03_06-49-15.csv') # STGCN IT-STGCN\n",
        "# df22 = pd.read_csv('./simulation_results/2023-05-03_04-25-39.csv') # STGCN IT-STGCN\n",
        "# df23 = pd.read_csv('./simulation_results/2023-05-03_02-15-10.csv') # STGCN IT-STGCN\n",
        "# df24 = pd.read_csv('./simulation_results/2023-05-03_09-11-42.csv') # STGCN IT-STGCN\n",
        "# df25 = pd.read_csv('./simulation_results/2023-05-03_11-51-31.csv') # STGCN IT-STGCN\n",
        "# df26 = pd.read_csv('./simulation_results/2023-05-03_14-26-55.csv') # STGCN IT-STGCN\n",
        "# df27 = pd.read_csv('./simulation_results/2023-05-03_16-53-12.csv') # STGCN IT-STGCN\n",
        "# df28 = pd.read_csv('./simulation_results/2023-05-03_19-26-00.csv') # STGCN IT-STGCN\n",
        "# df29 = pd.read_csv('./simulation_results/2023-05-04_00-44-17.csv') # STGCN IT-STGCN\n",
        "# df30 = pd.read_csv('./simulation_results/2023-05-04_03-00-08.csv') # STGCN IT-STGCN"
      ],
      "id": "ebe2fece-7806-40a4-a381-d92f4875aa64"
    },
    {
      "cell_type": "code",
      "execution_count": null,
      "metadata": {},
      "outputs": [],
      "source": [
        "data = pd.concat([df1,df2,df3,df4,df5],axis=0)"
      ],
      "id": "afae53f4-aee8-43fd-a255-988e00a58578"
    },
    {
      "cell_type": "code",
      "execution_count": null,
      "metadata": {},
      "outputs": [],
      "source": [
        "data.to_csv('./simulation_results/Real_simulation_reshape/monte.csv',index=False)"
      ],
      "id": "3f5f2df3-af0c-4ec7-a757-55cbc32450bc"
    },
    {
      "cell_type": "code",
      "execution_count": null,
      "metadata": {},
      "outputs": [],
      "source": [
        "data = pd.read_csv('./simulation_results/Real_simulation_reshape/monte.csv')"
      ],
      "id": "3a0ffb2b-6303-4078-bbba-acb94a466603"
    },
    {
      "cell_type": "markdown",
      "metadata": {},
      "source": [
        "## Baseline"
      ],
      "id": "466f9f3e-7025-4328-b13b-f061bdfd78ff"
    },
    {
      "cell_type": "code",
      "execution_count": null,
      "metadata": {},
      "outputs": [],
      "source": [
        "data.query(\"mrate==0 and method!='GNAR'\").plot.box(backend='plotly',x='mrate',color='method',y='mse',facet_col='lags',facet_row='nof_filters',height=600)"
      ],
      "id": "c1c67e17-b9a4-49cf-ac05-f4955198345d"
    },
    {
      "cell_type": "markdown",
      "metadata": {},
      "source": [
        "## random"
      ],
      "id": "fce275cf-02e8-49fe-801a-355b7fb38bf3"
    },
    {
      "cell_type": "code",
      "execution_count": null,
      "metadata": {},
      "outputs": [],
      "source": [
        "data.query(\"mtype=='rand' and mrate !=0 and method!='GNAR' and mrate!=0.3 and mrate!=0.4\").plot.box(backend='plotly',x='mrate',color='method',y='mse',facet_col='RecurrentGCN',facet_row='inter_method',height=800)\n"
      ],
      "id": "29a7ec5c-8174-43f3-816d-a02a470786a2"
    },
    {
      "cell_type": "markdown",
      "metadata": {},
      "source": [
        "## block"
      ],
      "id": "690ef86b-4a5d-4a53-97e9-e4dd4886cffe"
    },
    {
      "cell_type": "code",
      "execution_count": null,
      "metadata": {},
      "outputs": [],
      "source": [
        "# df1 = pd.read_csv('./simulation_results/2023-05-04_21-03-21.csv')\n",
        "# df2 = pd.read_csv('./simulation_results/2023-05-05_12-10-44.csv')\n",
        "# df3 = pd.read_csv('./simulation_results/2023-05-06_12-42-22.csv')\n",
        "# df4 = pd.read_csv('./simulation_results/2023-05-06_15-40-47.csv')"
      ],
      "id": "bd358062-c7a0-422c-b63f-5577d7d5a63d"
    },
    {
      "cell_type": "code",
      "execution_count": null,
      "metadata": {},
      "outputs": [],
      "source": [
        "data = pd.concat([df1,df2,df3,df4],axis=0)"
      ],
      "id": "7919888d-f342-47fb-85e8-aac4d06414a0"
    },
    {
      "cell_type": "code",
      "execution_count": null,
      "metadata": {},
      "outputs": [],
      "source": [
        "data.to_csv('./simulation_results/Real_simulation_reshape/monte_block.csv',index=False)"
      ],
      "id": "4c037a61-2670-4ff4-be61-de4b8c1de705"
    },
    {
      "cell_type": "code",
      "execution_count": null,
      "metadata": {},
      "outputs": [],
      "source": [
        "data = pd.read_csv('./simulation_results/Real_simulation_reshape/monte_block.csv')"
      ],
      "id": "20c457f1-1c4f-4e1b-abad-89d4ca1e0750"
    },
    {
      "cell_type": "code",
      "execution_count": null,
      "metadata": {},
      "outputs": [],
      "source": [
        "data.query(\"mtype=='block' and method=='GNAR'\")['mse'].mean()"
      ],
      "id": "94963508-bef3-40e8-9253-deaa91aad21d"
    },
    {
      "cell_type": "code",
      "execution_count": null,
      "metadata": {},
      "outputs": [],
      "source": [
        "data.query(\"mtype=='block' and method!='GNAR'\").plot.box(backend='plotly',x='mrate',color='method',y='mse',facet_col='lags',facet_row='nof_filters',height=1200)\n"
      ],
      "id": "ab193aeb-2294-4d19-9b85-48f2d3fbc5cb"
    }
  ],
  "nbformat": 4,
  "nbformat_minor": 5,
  "metadata": {
    "kernelspec": {
      "name": "python3",
      "display_name": "Python 3",
      "language": "python"
    },
    "language_info": {
      "name": "python",
      "codemirror_mode": {
        "name": "ipython",
        "version": "3"
      },
      "file_extension": ".py",
      "mimetype": "text/x-python",
      "nbconvert_exporter": "python",
      "pygments_lexer": "ipython3",
      "version": "3.8.0"
    }
  }
}
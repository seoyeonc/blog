{
 "cells": [
  {
   "cell_type": "raw",
   "id": "dc21eaa1-f478-4feb-8688-af964d48d2bb",
   "metadata": {
    "id": "cac470df-29e7-4148-9bbd-d8b9a32fa570",
    "tags": []
   },
   "source": [
    "---\n",
    "title: \"Toy example using GNAR\"\n",
    "author: \"SEOYEON CHOI\"\n",
    "date: \"2023-07-08\"\n",
    "categories:\n",
    "  - STGCN\n",
    "---"
   ]
  },
  {
   "cell_type": "markdown",
   "id": "7ab86549-34f3-4c04-9397-26a3505079ed",
   "metadata": {},
   "source": [
    "# Import"
   ]
  },
  {
   "cell_type": "code",
   "execution_count": 1,
   "id": "0682ccb7-b03a-43b8-b480-88a22a5f72b8",
   "metadata": {},
   "outputs": [],
   "source": [
    "import rpy2\n",
    "import rpy2.robjects as ro \n",
    "from rpy2.robjects.vectors import FloatVector \n",
    "from rpy2.robjects.packages import importr\n",
    "import numpy as np\n",
    "import matplotlib.pyplot as plt\n",
    "import pandas as pd\n",
    "import pickle\n",
    "import torch\n",
    "import itstgcn_gb as itstgcn\n",
    "import random\n",
    "\n",
    "def save_data(data_dict,fname):\n",
    "    with open(fname,'wb') as outfile:\n",
    "        pickle.dump(data_dict,outfile)\n",
    "\n",
    "def load_data(fname):\n",
    "    with open(fname, 'rb') as outfile:\n",
    "        data_dict = pickle.load(outfile)\n",
    "    return data_dict\n",
    "\n",
    "def toy_analyze(FX,edges,lags,train_ratio,mrate,filters,epoch,mtype): \n",
    "    data_dict = {'edges':edges, 'node_ids':{i:'node'+str(i) for i in range(FX.shape[-1])}, 'FX':FX}\n",
    "    save_data(data_dict,'toy_ex_dataset.pkl')\n",
    "    data_dict = load_data('toy_ex_dataset.pkl')\n",
    "    loader = itstgcn.DatasetLoader(data_dict)\n",
    "    dataset = loader.get_dataset(lags=lags)\n",
    "    train_dataset, test_dataset = itstgcn.temporal_signal_split(dataset, train_ratio=train_ratio)\n",
    "    mindex_rand = itstgcn.rand_mindex(train_dataset,mrate=mrate)\n",
    "    train_dataset_miss_rand = itstgcn.miss(train_dataset,mindex_rand,mtype=mtype)\n",
    "    train_dataset_padded_rand = itstgcn.padding(train_dataset_miss_rand) # padding(train_dataset_miss,method='linear'와 같음)\n",
    "    lrnr_classic = itstgcn.StgcnLearner(train_dataset_padded_rand)\n",
    "    lrnr_proposed = itstgcn.ITStgcnLearner(train_dataset_padded_rand)\n",
    "    lrnr_classic.learn(filters=filters,epoch=epoch)\n",
    "    lrnr_proposed.learn(filters=filters,epoch=epoch)\n",
    "    yhat_classic=lrnr_classic(dataset)['yhat']\n",
    "    yhat_proposed=lrnr_proposed(dataset)['yhat']    \n",
    "    return yhat_classic,yhat_proposed"
   ]
  },
  {
   "cell_type": "markdown",
   "id": "fd25cfb4-0fe2-40b5-b1c9-6c4835a2de25",
   "metadata": {},
   "source": [
    "# Data"
   ]
  },
  {
   "cell_type": "code",
   "execution_count": null,
   "id": "783f4cb2-3e20-45e2-bd5e-48a953657066",
   "metadata": {},
   "outputs": [
    {
     "name": "stdout",
     "output_type": "stream",
     "text": [
      "11/50\r"
     ]
    }
   ],
   "source": [
    "T = 50\n",
    "t = np.linspace(0,np.pi*2,T)\n",
    "e = np.random.randn(T)*0.1\n",
    "y1 = np.cos(3*t)\n",
    "y2 = np.cos(4*t)\n",
    "y3 = y1+y2+e\n",
    "y = np.stack([y1,y2,y3],axis=1)\n",
    "_, N = y.shape \n",
    "train_ratio = 0.9\n",
    "test_len = int(T*(1-train_ratio))\n",
    "tr_len = T - test_len\n",
    "test_index = [False]*tr_len + [True]*test_len \n",
    "edges = [[0,2],[1,2]]\n",
    "lags = 8\n",
    "mrate = 0.5\n",
    "filters = 2\n",
    "epoch = 50\n",
    "mtype = 'rand' \n",
    "### \n",
    "yhat_classic,yhat_proposed = toy_analyze(y,edges,lags,train_ratio,mrate,filters,epoch,mtype)"
   ]
  },
  {
   "cell_type": "code",
   "execution_count": null,
   "id": "2f252ef0-41c9-4b2a-91fd-05bf3024a5b7",
   "metadata": {},
   "outputs": [],
   "source": [
    "node = 2\n",
    "plt.rcParams['figure.dpi'] = 200\n",
    "plt.plot(y[lags:,node],'.')\n",
    "plt.plot(yhat_classic[:,node],'--',label='classic')\n",
    "plt.plot(yhat_proposed[:,node],'--',label='proposed')\n",
    "plt.plot(y[lags:,0]+y[lags:,1],'-',label='true')\n",
    "plt.legend()"
   ]
  }
 ],
 "metadata": {
  "kernelspec": {
   "display_name": "Python 3",
   "language": "python",
   "name": "python3"
  },
  "language_info": {
   "codemirror_mode": {
    "name": "ipython",
    "version": 3
   },
   "file_extension": ".py",
   "mimetype": "text/x-python",
   "name": "python",
   "nbconvert_exporter": "python",
   "pygments_lexer": "ipython3",
   "version": "3.8.0"
  }
 },
 "nbformat": 4,
 "nbformat_minor": 5
}

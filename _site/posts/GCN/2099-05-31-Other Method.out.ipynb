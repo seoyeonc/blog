{
  "cells": [
    {
      "cell_type": "markdown",
      "metadata": {},
      "source": [
        "# ITSTGCN add Model\n",
        "\n",
        "SEOYEON CHOI  \n",
        "2099-05-31\n",
        "\n",
        "> summerizing it\n",
        "\n",
        "# RANDOM\n",
        "\n",
        "# 예"
      ],
      "id": "405b3404-1a82-4711-809b-22c5bec1b1f2"
    },
    {
      "cell_type": "code",
      "execution_count": 1,
      "metadata": {},
      "outputs": [],
      "source": [
        "import itstgcnEvolveGCNH\n",
        "import torch\n",
        "import itstgcnEvolveGCNH.planner \n",
        "import pandas as pd\n",
        "\n",
        "import numpy as np\n",
        "import random"
      ],
      "id": "15246274-7df9-4bca-b802-1904e37661a2"
    },
    {
      "cell_type": "code",
      "execution_count": null,
      "metadata": {},
      "outputs": [],
      "source": [
        "data_dict = itstgcnGCLSTM.load_data('./data/fivenodes.pkl')\n",
        "loader = itstgcnGConvLSTM.DatasetLoader(data_dict)"
      ],
      "id": "99e0f508-5733-4bc8-af59-2a372031d394"
    },
    {
      "cell_type": "code",
      "execution_count": null,
      "metadata": {},
      "outputs": [],
      "source": [
        "from torch_geometric_temporal.dataset import ChickenpoxDatasetLoader\n",
        "loader1 = ChickenpoxDatasetLoader()"
      ],
      "id": "4fd05f47-c247-48d8-ad53-6051a12847d8"
    },
    {
      "cell_type": "code",
      "execution_count": null,
      "metadata": {},
      "outputs": [],
      "source": [
        "from torch_geometric_temporal.dataset import PedalMeDatasetLoader\n",
        "loader2 = PedalMeDatasetLoader()"
      ],
      "id": "6db74e7b-37c3-41c7-bbf2-1d93284df3e0"
    },
    {
      "cell_type": "code",
      "execution_count": null,
      "metadata": {},
      "outputs": [],
      "source": [
        "from torch_geometric_temporal.dataset import WikiMathsDatasetLoader\n",
        "loader3 = WikiMathsDatasetLoader()"
      ],
      "id": "d26449c4-7005-4e9b-9f60-6038a605f7e4"
    },
    {
      "cell_type": "code",
      "execution_count": null,
      "metadata": {},
      "outputs": [],
      "source": [
        "# from torch_geometric_temporal.dataset import WindmillOutputLargeDatasetLoader\n",
        "# loader4 = WindmillOutputLargeDatasetLoader()"
      ],
      "id": "3ebf680c-ad7c-42eb-a84d-8f09dcf03f5c"
    },
    {
      "cell_type": "code",
      "execution_count": null,
      "metadata": {},
      "outputs": [],
      "source": [
        "# from torch_geometric_temporal.dataset import WindmillOutputMediumDatasetLoader\n",
        "# loader5 = WindmillOutputMediumDatasetLoader()"
      ],
      "id": "3e30d013-249d-4922-8322-9aa8c549a970"
    },
    {
      "cell_type": "code",
      "execution_count": null,
      "metadata": {},
      "outputs": [],
      "source": [
        "# from torch_geometric_temporal.dataset import WindmillOutputSmallDatasetLoader\n",
        "# loader6 = WindmillOutputSmallDatasetLoader()"
      ],
      "id": "8db9149e-822a-4186-891c-d30876ae0f8e"
    },
    {
      "cell_type": "code",
      "execution_count": 3,
      "metadata": {},
      "outputs": [],
      "source": [
        "loader6 = itstgcnEvolveGCNH.load_data('./data/Windmillsmall.pkl')"
      ],
      "id": "3141ca5f-5aec-4fa1-a0c3-60223f37c937"
    },
    {
      "cell_type": "code",
      "execution_count": null,
      "metadata": {},
      "outputs": [],
      "source": [
        "# dataset6 = _a.get_dataset(lags=8)"
      ],
      "id": "5aff2de4-f431-4436-a48e-50f36ec041ef"
    },
    {
      "cell_type": "code",
      "execution_count": null,
      "metadata": {},
      "outputs": [],
      "source": [
        "from torch_geometric_temporal.dataset import MontevideoBusDatasetLoader\n",
        "loader10 = MontevideoBusDatasetLoader()"
      ],
      "id": "f055d119-2c28-442c-b9df-944bd89d698e"
    },
    {
      "cell_type": "markdown",
      "metadata": {},
      "source": [
        "# Simulation"
      ],
      "id": "9540a7f8-7b9a-48e8-a9bc-63301e19be0b"
    },
    {
      "cell_type": "code",
      "execution_count": 4,
      "metadata": {},
      "outputs": [],
      "source": [
        "plans_stgcn_rand = {\n",
        "    'max_iteration': 1, \n",
        "    'method': ['STGCN', 'IT-STGCN'],\n",
        "    'mrate': [0.7],\n",
        "    'lags': [8], \n",
        "    'nof_filters': [12], \n",
        "    'inter_method': ['linear'],\n",
        "    'epoch': [50]\n",
        "}"
      ],
      "id": "1de9b217-494e-44ab-b100-bc6c0393b82e"
    },
    {
      "cell_type": "code",
      "execution_count": null,
      "metadata": {},
      "outputs": [
        {
          "output_type": "stream",
          "name": "stderr",
          "text": [
            "/home/csy/Dropbox/blog/posts/GCN/itstgcnEvolveGCNH/utils.py:71: UserWarning: Creating a tensor from a list of numpy.ndarrays is extremely slow. Please consider converting the list to a single numpy.ndarray with numpy.array() before converting to a tensor. (Triggered internally at /opt/conda/conda-bld/pytorch_1682343998658/work/torch/csrc/utils/tensor_new.cpp:245.)\n",
            "  lags = torch.tensor(train_dataset.features).shape[-1]"
          ]
        },
        {
          "output_type": "stream",
          "name": "stdout",
          "text": [
            "1/50"
          ]
        }
      ],
      "source": [
        "plnr = itstgcnEvolveGCNH.planner.PLNR_STGCN_RAND(plans_stgcn_rand,loader6,dataset_name='windmillsmall')\n",
        "plnr.simulate()"
      ],
      "id": "4abd50c1-6ec6-4c31-9555-a9252975ae10"
    },
    {
      "cell_type": "code",
      "execution_count": null,
      "metadata": {},
      "outputs": [],
      "source": [
        "plnr = itstgcnEvolveGCNH.planner.PLNR_STGCN_RAND(plans_stgcn_rand,loader6,dataset_name='windmillsmall')\n",
        "plnr.simulate()"
      ],
      "id": "4bf2ff26-9869-4105-9e5d-c2848b2b414c"
    },
    {
      "cell_type": "code",
      "execution_count": null,
      "metadata": {},
      "outputs": [],
      "source": [
        "plnr = itstgcnEvolveGCNH.planner.PLNR_STGCN_RAND(plans_stgcn_rand,loader6,dataset_name='windmillsmall')\n",
        "plnr.simulate()"
      ],
      "id": "a9ea7d79-1264-4a5d-9f5e-47ad03a91368"
    },
    {
      "cell_type": "code",
      "execution_count": null,
      "metadata": {},
      "outputs": [],
      "source": [
        "plnr = itstgcnEvolveGCNH.planner.PLNR_STGCN_RAND(plans_stgcn_rand,loader6,dataset_name='windmillsmall')\n",
        "plnr.simulate()"
      ],
      "id": "ad3df234-60d1-4e9e-b25f-f56f89914b8b"
    },
    {
      "cell_type": "code",
      "execution_count": null,
      "metadata": {},
      "outputs": [],
      "source": [
        "plnr = itstgcnEvolveGCNH.planner.PLNR_STGCN_RAND(plans_stgcn_rand,loader6,dataset_name='windmillsmall')\n",
        "plnr.simulate()"
      ],
      "id": "527ed89d-2ef7-4dcd-bc48-3b047b8fc40d"
    },
    {
      "cell_type": "code",
      "execution_count": null,
      "metadata": {},
      "outputs": [],
      "source": [
        "plnr = itstgcnEvolveGCNH.planner.PLNR_STGCN_RAND(plans_stgcn_rand,loader6,dataset_name='windmillsmall')\n",
        "plnr.simulate()"
      ],
      "id": "2ca21832-a1ec-477d-88c9-6a888f8727d8"
    },
    {
      "cell_type": "code",
      "execution_count": null,
      "metadata": {},
      "outputs": [],
      "source": [
        "plnr = itstgcnEvolveGCNH.planner.PLNR_STGCN_RAND(plans_stgcn_rand,loader6,dataset_name='windmillsmall')\n",
        "plnr.simulate()"
      ],
      "id": "69c78309-173b-4f56-b61d-85f758c8dc2d"
    },
    {
      "cell_type": "code",
      "execution_count": null,
      "metadata": {},
      "outputs": [],
      "source": [
        "plnr = itstgcnEvolveGCNH.planner.PLNR_STGCN_RAND(plans_stgcn_rand,loader6,dataset_name='windmillsmall')\n",
        "plnr.simulate()"
      ],
      "id": "a2366b8f-a71d-4cf3-b8f5-128386ffb0bd"
    },
    {
      "cell_type": "code",
      "execution_count": null,
      "metadata": {},
      "outputs": [],
      "source": [
        "plnr = itstgcnEvolveGCNH.planner.PLNR_STGCN_RAND(plans_stgcn_rand,loader6,dataset_name='windmillsmall')\n",
        "plnr.simulate()"
      ],
      "id": "38b63bc5-bbe7-406a-8421-134392688402"
    },
    {
      "cell_type": "code",
      "execution_count": null,
      "metadata": {},
      "outputs": [],
      "source": [
        "plnr = itstgcnEvolveGCNH.planner.PLNR_STGCN_RAND(plans_stgcn_rand,loader6,dataset_name='windmillsmall')\n",
        "plnr.simulate()"
      ],
      "id": "480b73f9-cac0-4560-b3dc-10b1b432a1c2"
    },
    {
      "cell_type": "code",
      "execution_count": null,
      "metadata": {},
      "outputs": [],
      "source": [
        "plnr = itstgcnEvolveGCNH.planner.PLNR_STGCN_RAND(plans_stgcn_rand,loader6,dataset_name='windmillsmall')\n",
        "plnr.simulate()"
      ],
      "id": "0ff1da96-8eb8-4526-ba23-da0e8fbc2fcf"
    },
    {
      "cell_type": "code",
      "execution_count": null,
      "metadata": {},
      "outputs": [],
      "source": [
        "plnr = itstgcnEvolveGCNH.planner.PLNR_STGCN_RAND(plans_stgcn_rand,loader6,dataset_name='windmillsmall')\n",
        "plnr.simulate()"
      ],
      "id": "618e8165-de44-4706-8739-5ce889456ca7"
    },
    {
      "cell_type": "code",
      "execution_count": null,
      "metadata": {},
      "outputs": [],
      "source": [
        "plnr = itstgcnEvolveGCNH.planner.PLNR_STGCN_RAND(plans_stgcn_rand,loader6,dataset_name='windmillsmall')\n",
        "plnr.simulate()"
      ],
      "id": "01073752-e3a6-42e7-9b40-7489d85c2544"
    },
    {
      "cell_type": "code",
      "execution_count": null,
      "metadata": {},
      "outputs": [],
      "source": [
        "plnr = itstgcnEvolveGCNH.planner.PLNR_STGCN_RAND(plans_stgcn_rand,loader6,dataset_name='windmillsmall')\n",
        "plnr.simulate()"
      ],
      "id": "cfe84637-56fd-46ec-9c37-0d2a43d80c21"
    },
    {
      "cell_type": "code",
      "execution_count": null,
      "metadata": {},
      "outputs": [],
      "source": [
        "plnr = itstgcnEvolveGCNH.planner.PLNR_STGCN_RAND(plans_stgcn_rand,loader6,dataset_name='windmillsmall')\n",
        "plnr.simulate()"
      ],
      "id": "63f9ac50-a4a0-46d8-94cd-8a86ad3c3aa0"
    },
    {
      "cell_type": "code",
      "execution_count": null,
      "metadata": {},
      "outputs": [],
      "source": [
        "plnr = itstgcnEvolveGCNH.planner.PLNR_STGCN_RAND(plans_stgcn_rand,loader6,dataset_name='windmillsmall')\n",
        "plnr.simulate()"
      ],
      "id": "a57ec997-10d8-4d89-91f8-cd3d66ef226b"
    },
    {
      "cell_type": "code",
      "execution_count": null,
      "metadata": {},
      "outputs": [],
      "source": [
        "plnr = itstgcnEvolveGCNH.planner.PLNR_STGCN_RAND(plans_stgcn_rand,loader6,dataset_name='windmillsmall')\n",
        "plnr.simulate()"
      ],
      "id": "738ff4da-2234-4ffc-a29b-a5670c823e37"
    },
    {
      "cell_type": "code",
      "execution_count": null,
      "metadata": {},
      "outputs": [],
      "source": [
        "plnr = itstgcnEvolveGCNH.planner.PLNR_STGCN_RAND(plans_stgcn_rand,loader6,dataset_name='windmillsmall')\n",
        "plnr.simulate()"
      ],
      "id": "8d7d0f56-629a-4d80-b7db-12295bdf40b8"
    },
    {
      "cell_type": "code",
      "execution_count": null,
      "metadata": {},
      "outputs": [],
      "source": [
        "plnr = itstgcnEvolveGCNH.planner.PLNR_STGCN_RAND(plans_stgcn_rand,loader6,dataset_name='windmillsmall')\n",
        "plnr.simulate()"
      ],
      "id": "864e2d15-5600-43ea-bd84-cd183c649591"
    },
    {
      "cell_type": "code",
      "execution_count": null,
      "metadata": {},
      "outputs": [],
      "source": [
        "plnr = itstgcnEvolveGCNH.planner.PLNR_STGCN_RAND(plans_stgcn_rand,loader6,dataset_name='windmillsmall')\n",
        "plnr.simulate()"
      ],
      "id": "e22d182e-c027-460a-a7ce-b6ebe0dfe981"
    },
    {
      "cell_type": "code",
      "execution_count": null,
      "metadata": {},
      "outputs": [],
      "source": [
        "plnr = itstgcnEvolveGCNH.planner.PLNR_STGCN_RAND(plans_stgcn_rand,loader6,dataset_name='windmillsmall')\n",
        "plnr.simulate()"
      ],
      "id": "3e78cd57-8cb2-4cbd-b86e-eb4c2e99a820"
    },
    {
      "cell_type": "code",
      "execution_count": null,
      "metadata": {},
      "outputs": [],
      "source": [
        "plnr = itstgcnEvolveGCNH.planner.PLNR_STGCN_RAND(plans_stgcn_rand,loader6,dataset_name='windmillsmall')\n",
        "plnr.simulate()"
      ],
      "id": "6ce208da-60d5-4dde-b3bd-21c50f52cf74"
    },
    {
      "cell_type": "code",
      "execution_count": null,
      "metadata": {},
      "outputs": [],
      "source": [
        "plnr = itstgcnEvolveGCNH.planner.PLNR_STGCN_RAND(plans_stgcn_rand,loader6,dataset_name='windmillsmall')\n",
        "plnr.simulate()"
      ],
      "id": "f5e9f752-9c98-462e-b352-200d90d32f7d"
    },
    {
      "cell_type": "code",
      "execution_count": null,
      "metadata": {},
      "outputs": [],
      "source": [
        "plnr = itstgcnEvolveGCNH.planner.PLNR_STGCN_RAND(plans_stgcn_rand,loader6,dataset_name='windmillsmall')\n",
        "plnr.simulate()"
      ],
      "id": "5978eca5-167a-4a4b-af50-564dbcc6a6cd"
    },
    {
      "cell_type": "code",
      "execution_count": null,
      "metadata": {},
      "outputs": [],
      "source": [
        "plnr = itstgcnEvolveGCNH.planner.PLNR_STGCN_RAND(plans_stgcn_rand,loader6,dataset_name='windmillsmall')\n",
        "plnr.simulate()"
      ],
      "id": "746653b7-4c89-439c-a7eb-39a3f90b1033"
    },
    {
      "cell_type": "code",
      "execution_count": null,
      "metadata": {},
      "outputs": [],
      "source": [
        "plnr = itstgcnEvolveGCNH.planner.PLNR_STGCN_RAND(plans_stgcn_rand,loader6,dataset_name='windmillsmall')\n",
        "plnr.simulate()"
      ],
      "id": "661fc11d-1681-48ae-92f8-7b072cd36875"
    },
    {
      "cell_type": "code",
      "execution_count": null,
      "metadata": {},
      "outputs": [],
      "source": [
        "plnr = itstgcnEvolveGCNH.planner.PLNR_STGCN_RAND(plans_stgcn_rand,loader6,dataset_name='windmillsmall')\n",
        "plnr.simulate()"
      ],
      "id": "aeb1ac34-7a01-4e97-b1de-e5759341c42a"
    },
    {
      "cell_type": "code",
      "execution_count": null,
      "metadata": {},
      "outputs": [],
      "source": [
        "plnr = itstgcnEvolveGCNH.planner.PLNR_STGCN_RAND(plans_stgcn_rand,loader6,dataset_name='windmillsmall')\n",
        "plnr.simulate()"
      ],
      "id": "89734009-7541-4f38-ac14-7c788d2e2be6"
    },
    {
      "cell_type": "code",
      "execution_count": null,
      "metadata": {},
      "outputs": [],
      "source": [
        "plnr = itstgcnEvolveGCNH.planner.PLNR_STGCN_RAND(plans_stgcn_rand,loader6,dataset_name='windmillsmall')\n",
        "plnr.simulate()"
      ],
      "id": "22548375-d6c2-4806-bccb-301fc353ecd8"
    },
    {
      "cell_type": "code",
      "execution_count": null,
      "metadata": {},
      "outputs": [],
      "source": [
        "plnr = itstgcnEvolveGCNH.planner.PLNR_STGCN_RAND(plans_stgcn_rand,loader6,dataset_name='windmillsmall')\n",
        "plnr.simulate()"
      ],
      "id": "fb139b23-fa5f-41c4-a799-4810254426c6"
    },
    {
      "cell_type": "code",
      "execution_count": null,
      "metadata": {},
      "outputs": [],
      "source": [
        "plans_stgcn_rand = {\n",
        "    'max_iteration': 15, \n",
        "    'method': ['STGCN', 'IT-STGCN'], \n",
        "    'mrate': [0.7],\n",
        "    'lags': [2], \n",
        "    'nof_filters': [12], \n",
        "    'inter_method': ['linear','nearest'],\n",
        "    'epoch': [50]\n",
        "}"
      ],
      "id": "185e43f2-32c7-4e90-9ca9-a45cc560b45f"
    },
    {
      "cell_type": "code",
      "execution_count": null,
      "metadata": {},
      "outputs": [],
      "source": [
        "plnr = itstgcnGConvLSTM.planner.PLNR_STGCN_RAND(plans_stgcn_rand,loader,dataset_name='fivenodes')\n",
        "\n",
        "plnr.simulate()"
      ],
      "id": "5a19c6d2-1e51-4923-9267-7bb53fa8e1c5"
    },
    {
      "cell_type": "code",
      "execution_count": null,
      "metadata": {},
      "outputs": [],
      "source": [
        "plnr = itstgcnGConvLSTM.planner.PLNR_STGCN_RAND(plans_stgcn_rand,loader,dataset_name='fivenodes')\n",
        "\n",
        "plnr.simulate()"
      ],
      "id": "e4fdd0a8-a897-4c41-afc6-a681b333e9b3"
    },
    {
      "cell_type": "code",
      "execution_count": null,
      "metadata": {},
      "outputs": [],
      "source": [
        "plans_stgcn_rand = {\n",
        "    'max_iteration': 15, \n",
        "    'method': ['STGCN', 'IT-STGCN'], \n",
        "    'mrate': [0.8],\n",
        "    'lags': [2], \n",
        "    'nof_filters': [12], \n",
        "    'inter_method': ['linear','nearest'],\n",
        "    'epoch': [50]\n",
        "}"
      ],
      "id": "17ad47a2-f006-451f-bf0f-bef51a701b3d"
    },
    {
      "cell_type": "code",
      "execution_count": null,
      "metadata": {},
      "outputs": [],
      "source": [
        "plnr = itstgcnGConvLSTM.planner.PLNR_STGCN_RAND(plans_stgcn_rand,loader,dataset_name='fivenodes')\n",
        "\n",
        "plnr.simulate()"
      ],
      "id": "8bc8eb60-44ef-46ac-92c0-12be7dba2542"
    },
    {
      "cell_type": "code",
      "execution_count": null,
      "metadata": {},
      "outputs": [],
      "source": [
        "plnr = itstgcnGConvLSTM.planner.PLNR_STGCN_RAND(plans_stgcn_rand,loader,dataset_name='fivenodes')\n",
        "\n",
        "plnr.simulate()"
      ],
      "id": "8eda2c35-fdd8-42eb-8228-fc06a69cb114"
    },
    {
      "cell_type": "code",
      "execution_count": null,
      "metadata": {},
      "outputs": [],
      "source": [
        "plans_stgcn_rand = {\n",
        "    'max_iteration': 15, \n",
        "    'method': ['STGCN', 'IT-STGCN'], \n",
        "    'mrate': [0],\n",
        "    'lags': [2], \n",
        "    'nof_filters': [12], \n",
        "    'inter_method': ['linear','nearest'],\n",
        "    'epoch': [50]\n",
        "}"
      ],
      "id": "27c17a6e-01a2-44c9-a2e6-19025646d3a0"
    },
    {
      "cell_type": "code",
      "execution_count": null,
      "metadata": {},
      "outputs": [],
      "source": [
        "plnr = itstgcnGConvLSTM.planner.PLNR_STGCN_RAND(plans_stgcn_rand,loader,dataset_name='fivenodes')\n",
        "\n",
        "plnr.simulate()"
      ],
      "id": "dbdc772e-ffe3-43b2-8dd9-49274a690e53"
    },
    {
      "cell_type": "code",
      "execution_count": null,
      "metadata": {},
      "outputs": [],
      "source": [
        "plnr = itstgcnGConvLSTM.planner.PLNR_STGCN_RAND(plans_stgcn_rand,loader,dataset_name='fivenodes')\n",
        "\n",
        "plnr.simulate()"
      ],
      "id": "2ade4cd7-2e12-4106-ba5b-a3104497b920"
    },
    {
      "cell_type": "code",
      "execution_count": null,
      "metadata": {},
      "outputs": [],
      "source": [
        "mindex= [[],[],[],list(range(50,150)),[]]\n",
        "# mindex= [list(range(50,150)),[],list(range(50,90)),list(range(50,150)),[]] # node 2\n",
        "plans_stgcn_block = {\n",
        "    'max_iteration': 15, \n",
        "    'method': ['STGCN', 'IT-STGCN'],\n",
        "    'mindex': [mindex],\n",
        "    'lags': [2], \n",
        "    'nof_filters': [12], \n",
        "    'inter_method': ['linear','nearest'],\n",
        "    'epoch': [50]\n",
        "}"
      ],
      "id": "f217e4ff-b0e5-4dc5-b1ea-d171a27aeb1d"
    },
    {
      "cell_type": "code",
      "execution_count": null,
      "metadata": {},
      "outputs": [],
      "source": [
        "plnr = itstgcnGConvLSTM.planner.PLNR_STGCN_MANUAL(plans_stgcn_block,loader,dataset_name='fivenodes')\n",
        "\n",
        "plnr.simulate(mindex=mindex,mtype='block')"
      ],
      "id": "3c924430-b362-4b08-a524-112ee8ab7e9e"
    },
    {
      "cell_type": "code",
      "execution_count": null,
      "metadata": {},
      "outputs": [],
      "source": [
        "plnr = itstgcnGConvLSTM.planner.PLNR_STGCN_MANUAL(plans_stgcn_block,loader,dataset_name='fivenodes')\n",
        "\n",
        "plnr.simulate(mindex=mindex,mtype='block')"
      ],
      "id": "5aa8569b-0c45-4efc-be2d-4fc20f4809da"
    },
    {
      "cell_type": "code",
      "execution_count": null,
      "metadata": {},
      "outputs": [],
      "source": [
        "plans_stgcn_rand = {\n",
        "    'max_iteration': 15, \n",
        "    'method': ['STGCN', 'IT-STGCN'],\n",
        "    'mrate': [0.3,0.8],\n",
        "    'lags': [4], \n",
        "    'nof_filters': [32], \n",
        "    'inter_method': ['linear'],\n",
        "    'epoch': [50]\n",
        "}"
      ],
      "id": "cfd73050-3805-4914-877a-59490e78791b"
    },
    {
      "cell_type": "code",
      "execution_count": null,
      "metadata": {},
      "outputs": [],
      "source": [
        "plnr = itstgcnGConvLSTM.planner.PLNR_STGCN_RAND(plans_stgcn_rand,loader1,dataset_name='chickenpox')\n",
        "plnr.simulate()"
      ],
      "id": "34c7ad15-ca6f-43eb-a142-1a6b9a9fc401"
    },
    {
      "cell_type": "code",
      "execution_count": null,
      "metadata": {},
      "outputs": [],
      "source": [
        "plnr = itstgcnGConvLSTM.planner.PLNR_STGCN_RAND(plans_stgcn_rand,loader1,dataset_name='chickenpox')\n",
        "plnr.simulate()"
      ],
      "id": "c4eaf5f6-b7f2-4865-922f-0a705c667e7f"
    },
    {
      "cell_type": "code",
      "execution_count": null,
      "metadata": {},
      "outputs": [],
      "source": [
        "plans_stgcn_rand = {\n",
        "    'max_iteration': 15, \n",
        "    'method': ['STGCN', 'IT-STGCN'],\n",
        "    'mrate': [0],\n",
        "    'lags': [4], \n",
        "    'nof_filters': [32], \n",
        "    'inter_method': ['linear'],\n",
        "    'epoch': [50]\n",
        "}"
      ],
      "id": "33e7913c-98af-4231-8f9b-3fe2f28e16fa"
    },
    {
      "cell_type": "code",
      "execution_count": null,
      "metadata": {},
      "outputs": [],
      "source": [
        "plnr = itstgcnGConvLSTM.planner.PLNR_STGCN_RAND(plans_stgcn_rand,loader1,dataset_name='chickenpox')\n",
        "plnr.simulate()"
      ],
      "id": "51521341-96d3-48bb-8184-9a65b2b92ce2"
    },
    {
      "cell_type": "code",
      "execution_count": null,
      "metadata": {},
      "outputs": [],
      "source": [
        "plnr = itstgcnGConvLSTM.planner.PLNR_STGCN_RAND(plans_stgcn_rand,loader1,dataset_name='chickenpox')\n",
        "plnr.simulate()"
      ],
      "id": "1bd02f90-c6a5-4b3d-b3b9-de1c8031d850"
    },
    {
      "cell_type": "code",
      "execution_count": null,
      "metadata": {},
      "outputs": [],
      "source": [
        "my_list = [[] for _ in range(20)] #chickenpox\n",
        "another_list = list(range(100,400))\n",
        "my_list[1] = another_list\n",
        "my_list[3] = another_list\n",
        "my_list[5] = another_list\n",
        "my_list[7] = another_list\n",
        "my_list[9] = another_list\n",
        "my_list[11] = another_list\n",
        "my_list[13] = another_list\n",
        "my_list[15] = another_list\n",
        "mindex = my_list"
      ],
      "id": "577dc58f-77d5-4c9b-b90b-d4e95aba4f69"
    },
    {
      "cell_type": "code",
      "execution_count": null,
      "metadata": {},
      "outputs": [],
      "source": [
        "# mindex= [[],[],[],list(range(50,150)),[]]\n",
        "# mindex= [list(range(50,150)),[],list(range(50,90)),list(range(50,150)),[]] # node 2\n",
        "plans_stgcn_block = {\n",
        "    'max_iteration': 15, \n",
        "    'method': ['STGCN', 'IT-STGCN'],\n",
        "    'mindex': [mindex],\n",
        "    'lags': [4], \n",
        "    'nof_filters': [32], \n",
        "    'inter_method': ['linear','nearest'],\n",
        "    'epoch': [50]\n",
        "}"
      ],
      "id": "a1754584-bcfa-4f01-b464-49737c1b1299"
    },
    {
      "cell_type": "code",
      "execution_count": null,
      "metadata": {},
      "outputs": [],
      "source": [
        "plnr = itstgcnGConvLSTM.planner.PLNR_STGCN_MANUAL(plans_stgcn_block,loader1,dataset_name='chickenpox')\n",
        "\n",
        "plnr.simulate(mindex=mindex,mtype='block')"
      ],
      "id": "98fbed71-5807-41ef-b99b-d51ee32b8069"
    },
    {
      "cell_type": "code",
      "execution_count": null,
      "metadata": {},
      "outputs": [],
      "source": [
        "plnr = itstgcnGConvLSTM.planner.PLNR_STGCN_MANUAL(plans_stgcn_block,loader1,dataset_name='chickenpox')\n",
        "\n",
        "plnr.simulate(mindex=mindex,mtype='block')"
      ],
      "id": "2728a3b1-3fc4-4289-a9a2-7319009cba24"
    },
    {
      "cell_type": "code",
      "execution_count": null,
      "metadata": {},
      "outputs": [],
      "source": [
        "plans_stgcn_rand = {\n",
        "    'max_iteration': 30, \n",
        "    'method': ['STGCN', 'IT-STGCN'],\n",
        "    'mrate': [0,0.3,0.6],\n",
        "    'lags': [4], \n",
        "    'nof_filters': [2], \n",
        "    'inter_method': ['linear','nearest'],\n",
        "    'epoch': [50]\n",
        "}"
      ],
      "id": "7e3d0318-33bc-416a-a0aa-bf676adf695c"
    },
    {
      "cell_type": "code",
      "execution_count": null,
      "metadata": {},
      "outputs": [],
      "source": [
        "plnr = itstgcnGConvLSTM.planner.PLNR_STGCN_RAND(plans_stgcn_rand,loader2,dataset_name='pedalme')\n",
        "\n",
        "plnr.simulate()"
      ],
      "id": "908cd78f-897c-4ec0-94f9-3dec6e80d252"
    },
    {
      "cell_type": "code",
      "execution_count": null,
      "metadata": {},
      "outputs": [],
      "source": [
        "my_list = [[] for _ in range(15)] #pedalme\n",
        "another_list = list(range(5,25))\n",
        "my_list[1] = another_list\n",
        "my_list[3] = another_list\n",
        "my_list[5] = another_list\n",
        "my_list[7] = another_list\n",
        "my_list[9] = another_list\n",
        "my_list[11] = another_list\n",
        "mindex = my_list"
      ],
      "id": "f8174433-099f-416a-bc15-f899b309fb01"
    },
    {
      "cell_type": "code",
      "execution_count": null,
      "metadata": {},
      "outputs": [],
      "source": [
        "# mindex= [[],[],[],list(range(50,150)),[]]  # node 1\n",
        "# mindex= [list(range(10,100)),[],list(range(50,80)),[],[]] # node 2\n",
        "# mindex= [list(range(10,100)),[],list(range(50,80)),list(range(50,150)),[]] # node3\n",
        "plans_stgcn_block = {\n",
        "    'max_iteration': 30, \n",
        "    'method': ['STGCN', 'IT-STGCN'], \n",
        "    'mindex': [mindex],\n",
        "    'lags': [4], \n",
        "    'nof_filters': [2], \n",
        "    'inter_method': ['linear','nearest'],\n",
        "    'epoch': [50]\n",
        "}"
      ],
      "id": "522577c4-9739-4816-a537-f3aea7d822a7"
    },
    {
      "cell_type": "code",
      "execution_count": null,
      "metadata": {
        "tags": []
      },
      "outputs": [],
      "source": [
        "plnr = itstgcnGConvLSTM.planner.PLNR_STGCN_MANUAL(plans_stgcn_block,loader2,dataset_name='pedalme')\n",
        "plnr.simulate(mindex=mindex,mtype='block')"
      ],
      "id": "d5ac2cc1-87e1-4a10-8931-ddb8a04dcd92"
    },
    {
      "cell_type": "code",
      "execution_count": null,
      "metadata": {},
      "outputs": [],
      "source": [
        "plans_stgcn_rand = {\n",
        "    'max_iteration': 10, \n",
        "    'method': ['STGCN', 'IT-STGCN'],\n",
        "    'mrate': [0.3],\n",
        "    'lags': [8], \n",
        "    'nof_filters': [12], \n",
        "    'inter_method': ['linear'],\n",
        "    'epoch': [50]\n",
        "}"
      ],
      "id": "cc3ddae2-18bc-46fd-a654-912abfb38ecb"
    },
    {
      "cell_type": "code",
      "execution_count": null,
      "metadata": {},
      "outputs": [],
      "source": [
        "plnr = itstgcnEvolveGCNH.planner.PLNR_STGCN_RAND(plans_stgcn_rand,loader3,dataset_name='wikimath')\n",
        "plnr.simulate()"
      ],
      "id": "47ea63ca-1d47-4616-a3c8-bd4b4cd2ea5c"
    },
    {
      "cell_type": "code",
      "execution_count": null,
      "metadata": {},
      "outputs": [],
      "source": [
        "plnr = itstgcnEvolveGCNH.planner.PLNR_STGCN_RAND(plans_stgcn_rand,loader3,dataset_name='wikimath')\n",
        "plnr.simulate()"
      ],
      "id": "b0984f5b-8792-4064-b951-d5e2cfd607c5"
    },
    {
      "cell_type": "code",
      "execution_count": null,
      "metadata": {},
      "outputs": [],
      "source": [
        "plnr = itstgcnEvolveGCNH.planner.PLNR_STGCN_RAND(plans_stgcn_rand,loader3,dataset_name='wikimath')\n",
        "plnr.simulate()"
      ],
      "id": "5c74419c-f6ac-4779-82f4-1fa3c5e44db1"
    },
    {
      "cell_type": "code",
      "execution_count": null,
      "metadata": {},
      "outputs": [],
      "source": [
        "plans_stgcn_rand = {\n",
        "    'max_iteration': 15, \n",
        "    'method': ['STGCN', 'IT-STGCN'],\n",
        "    'mrate': [0.8],\n",
        "    'lags': [8], \n",
        "    'nof_filters': [12], \n",
        "    'inter_method': ['linear'],\n",
        "    'epoch': [50]\n",
        "}"
      ],
      "id": "7a0cbe86-c70f-40bd-b63b-2952cf5c62d1"
    },
    {
      "cell_type": "code",
      "execution_count": null,
      "metadata": {},
      "outputs": [],
      "source": [
        "plnr = itstgcnEvolveGCNH.planner.PLNR_STGCN_RAND(plans_stgcn_rand,loader3,dataset_name='wikimath')\n",
        "plnr.simulate()"
      ],
      "id": "fff254f1-8cc2-4bea-8498-e631f0db82ec"
    },
    {
      "cell_type": "code",
      "execution_count": null,
      "metadata": {},
      "outputs": [],
      "source": [
        "plnr = itstgcnEvolveGCNH.planner.PLNR_STGCN_RAND(plans_stgcn_rand,loader3,dataset_name='wikimath')\n",
        "plnr.simulate()"
      ],
      "id": "1bc83277-7ece-4d55-9999-b8b4392dbcb2"
    },
    {
      "cell_type": "code",
      "execution_count": null,
      "metadata": {},
      "outputs": [],
      "source": [
        "plans_stgcn_rand = {\n",
        "    'max_iteration': 10, \n",
        "    'method': ['STGCN', 'IT-STGCN'],\n",
        "    'mrate': [0],\n",
        "    'lags': [8], \n",
        "    'nof_filters': [12], \n",
        "    'inter_method': ['linear'],\n",
        "    'epoch': [50]\n",
        "}"
      ],
      "id": "995841f6-ddd8-4207-af50-e7d9aab50658"
    },
    {
      "cell_type": "code",
      "execution_count": null,
      "metadata": {},
      "outputs": [],
      "source": [
        "plnr = itstgcnEvolveGCNH.planner.PLNR_STGCN_RAND(plans_stgcn_rand,loader3,dataset_name='wikimath')\n",
        "plnr.simulate()"
      ],
      "id": "36d3d9c7-d6d0-4c80-8dec-2159851d7549"
    },
    {
      "cell_type": "code",
      "execution_count": null,
      "metadata": {},
      "outputs": [],
      "source": [
        "plnr = itstgcnEvolveGCNH.planner.PLNR_STGCN_RAND(plans_stgcn_rand,loader3,dataset_name='wikimath')\n",
        "plnr.simulate()"
      ],
      "id": "aa8b38a6-3342-4139-ad4c-3ac0322b4c36"
    },
    {
      "cell_type": "code",
      "execution_count": null,
      "metadata": {},
      "outputs": [],
      "source": [
        "plnr = itstgcnEvolveGCNH.planner.PLNR_STGCN_RAND(plans_stgcn_rand,loader3,dataset_name='wikimath')\n",
        "plnr.simulate()"
      ],
      "id": "dc692018-8e62-4aa0-9a94-e1ef89629351"
    },
    {
      "cell_type": "markdown",
      "metadata": {},
      "source": [
        "``` python\n",
        "import random\n",
        "my_list = [[] for _ in range(1068)] # wikimath\n",
        "another_list = random.sample(range(570), 72)\n",
        "# my_list에서 250개 요소 무작위 선택\n",
        "selected_indexes = random.sample(range(len(my_list)), 250)\n",
        "# 선택된 요소에 해당하는 값들을 another_list에 할당\n",
        "for index in selected_indexes:\n",
        "    my_list[index] = another_list\n",
        "```"
      ],
      "id": "e948c071-725f-45aa-a601-110df8ad493d"
    },
    {
      "cell_type": "code",
      "execution_count": null,
      "metadata": {},
      "outputs": [],
      "source": [
        "import random\n",
        "my_list = [[] for _ in range(1068)] # wikimath\n",
        "another_list = random.sample(range(570), 150)\n",
        "# my_list에서 250개 요소 무작위 선택\n",
        "selected_indexes = random.sample(range(len(my_list)), 500)\n",
        "# 선택된 요소에 해당하는 값들을 another_list에 할당\n",
        "for index in selected_indexes:\n",
        "    my_list[index] = another_list\n",
        "mindex = my_list"
      ],
      "id": "a64fd0b2-f7d4-4bd5-80a5-07fe88bb1a2b"
    },
    {
      "cell_type": "code",
      "execution_count": null,
      "metadata": {},
      "outputs": [],
      "source": [
        "# mindex= [[],[],[],list(range(50,150)),[]]  # node 1\n",
        "# mindex= [list(range(10,100)),[],list(range(50,80)),[],[]] # node 2\n",
        "# mindex= [list(range(10,100)),[],list(range(50,80)),list(range(50,150)),[]] # node3\n",
        "plans_stgcn_block = {\n",
        "    'max_iteration': 10, \n",
        "    'method': ['STGCN', 'IT-STGCN'], \n",
        "    'mindex': [mindex],\n",
        "    'lags': [8], \n",
        "    'nof_filters': [12], \n",
        "    'inter_method': ['linear'],\n",
        "    'epoch': [50]\n",
        "}"
      ],
      "id": "4deda134-0889-4f11-b39e-65474db5c1ea"
    },
    {
      "cell_type": "code",
      "execution_count": null,
      "metadata": {},
      "outputs": [],
      "source": [
        "plnr = itstgcnEvolveGCNH.planner.PLNR_STGCN_MANUAL(plans_stgcn_block,loader3,dataset_name='wikimath')\n",
        "plnr.simulate(mindex=mindex,mtype='block')"
      ],
      "id": "d6460bad-5a9e-4edd-ac98-4b8c86826363"
    },
    {
      "cell_type": "code",
      "execution_count": null,
      "metadata": {},
      "outputs": [],
      "source": [
        "plnr = itstgcnEvolveGCNH.planner.PLNR_STGCN_MANUAL(plans_stgcn_block,loader3,dataset_name='wikimath')\n",
        "plnr.simulate(mindex=mindex,mtype='block')"
      ],
      "id": "bdb7c455-a34a-43cc-9f77-258c4abb832d"
    },
    {
      "cell_type": "code",
      "execution_count": null,
      "metadata": {},
      "outputs": [],
      "source": [
        "plnr = itstgcnEvolveGCNH.planner.PLNR_STGCN_MANUAL(plans_stgcn_block,loader3,dataset_name='wikimath')\n",
        "plnr.simulate(mindex=mindex,mtype='block')"
      ],
      "id": "b69499e7-6504-4f49-ab10-79aa0dcfe6bf"
    },
    {
      "cell_type": "markdown",
      "metadata": {},
      "source": [
        "같은 노드 같은 missing"
      ],
      "id": "0292d983-7a9d-4e4b-bf86-db08124ff2e0"
    },
    {
      "cell_type": "code",
      "execution_count": null,
      "metadata": {},
      "outputs": [],
      "source": [
        "my_list = [[] for _ in range(1068)] #wikimath\n",
        "another_list = random.sample(range(0, 576), 300)\n",
        "for i in range(0, 1068):\n",
        "    my_list[i] = another_list\n",
        "mindex = my_list"
      ],
      "id": "61a575a4-53bd-4ec7-8899-3a94739cfb40"
    },
    {
      "cell_type": "code",
      "execution_count": null,
      "metadata": {},
      "outputs": [],
      "source": [
        "plans_stgcn_block = {\n",
        "    'max_iteration': 10, \n",
        "    'method': ['STGCN', 'IT-STGCN'], \n",
        "    'mindex': [mindex],\n",
        "    'lags': [8], \n",
        "    'nof_filters': [12], \n",
        "    'inter_method': ['linear'],\n",
        "    'epoch': [50]\n",
        "}"
      ],
      "id": "3b9dd17c-2e70-4539-ba25-f70083efc402"
    },
    {
      "cell_type": "code",
      "execution_count": null,
      "metadata": {},
      "outputs": [],
      "source": [
        "plnr = itstgcnEvolveGCNH.planner.PLNR_STGCN_MANUAL(plans_stgcn_block,loader3,dataset_name='wikimath')\n",
        "plnr.simulate(mindex=mindex,mtype='block')"
      ],
      "id": "5d6ba2ac-4bfa-41c6-8908-55811ee4692f"
    },
    {
      "cell_type": "code",
      "execution_count": null,
      "metadata": {},
      "outputs": [],
      "source": [
        "plnr = itstgcnEvolveGCNH.planner.PLNR_STGCN_MANUAL(plans_stgcn_block,loader3,dataset_name='wikimath')\n",
        "plnr.simulate(mindex=mindex,mtype='block')"
      ],
      "id": "4a0a2891-6726-4edd-96c1-92803a52a23c"
    },
    {
      "cell_type": "code",
      "execution_count": null,
      "metadata": {},
      "outputs": [],
      "source": [
        "plnr = itstgcnEvolveGCNH.planner.PLNR_STGCN_MANUAL(plans_stgcn_block,loader3,dataset_name='wikimath')\n",
        "plnr.simulate(mindex=mindex,mtype='block')"
      ],
      "id": "00d8804f-df30-4b43-982c-0a64a3b272cc"
    },
    {
      "cell_type": "code",
      "execution_count": null,
      "metadata": {},
      "outputs": [],
      "source": [
        "plans_stgcn_rand = {\n",
        "    'max_iteration': 15, \n",
        "    'method': ['STGCN', 'IT-STGCN'],\n",
        "    'mrate': [0.8],\n",
        "    'lags': [4], \n",
        "    'nof_filters': [12], \n",
        "    'inter_method': ['nearest'],\n",
        "    'epoch': [50]\n",
        "}"
      ],
      "id": "c604d8e0-a4bc-47bd-a8ef-4267645d09a3"
    },
    {
      "cell_type": "code",
      "execution_count": null,
      "metadata": {},
      "outputs": [],
      "source": [
        "plnr = itstgcnGConvLSTM.planner.PLNR_STGCN_RAND(plans_stgcn_rand,loader10,dataset_name='monte')\n",
        "plnr.simulate()"
      ],
      "id": "2ce1d4c8-f95d-468d-bf31-84187231397c"
    },
    {
      "cell_type": "code",
      "execution_count": null,
      "metadata": {},
      "outputs": [],
      "source": [
        "plnr = itstgcnGConvLSTM.planner.PLNR_STGCN_RAND(plans_stgcn_rand,loader10,dataset_name='monte')\n",
        "plnr.simulate()"
      ],
      "id": "9b1b8d70-2925-4d22-9f58-cbdfb318be30"
    },
    {
      "cell_type": "code",
      "execution_count": null,
      "metadata": {},
      "outputs": [],
      "source": [
        "plans_stgcn_rand = {\n",
        "    'max_iteration': 15, \n",
        "    'method': ['STGCN', 'IT-STGCN'],\n",
        "    'mrate': [0],\n",
        "    'lags': [4], \n",
        "    'nof_filters': [12], \n",
        "    'inter_method': ['nearest'],\n",
        "    'epoch': [50]\n",
        "}"
      ],
      "id": "272a3288-26fb-42ee-bf65-a5b2068b9c24"
    },
    {
      "cell_type": "code",
      "execution_count": null,
      "metadata": {},
      "outputs": [],
      "source": [
        "plnr = itstgcnGConvLSTM.planner.PLNR_STGCN_RAND(plans_stgcn_rand,loader10,dataset_name='monte')\n",
        "plnr.simulate()"
      ],
      "id": "5b021a7d-f524-43f5-a633-506a587090a4"
    },
    {
      "cell_type": "code",
      "execution_count": null,
      "metadata": {},
      "outputs": [],
      "source": [
        "plnr = itstgcnGConvLSTM.planner.PLNR_STGCN_RAND(plans_stgcn_rand,loader10,dataset_name='monte')\n",
        "plnr.simulate()"
      ],
      "id": "6f69e62a-3fd9-4d08-8f0a-282654978f6e"
    },
    {
      "cell_type": "code",
      "execution_count": null,
      "metadata": {},
      "outputs": [],
      "source": [
        "my_list = [[] for _ in range(675)] #monte\n",
        "another_list = list(range(200,350)) #743\n",
        "\n",
        "for i in np.array(random.sample(range(0, 675), 400)):\n",
        "    my_list[i] = another_list\n",
        "mindex = my_list"
      ],
      "id": "3c5d69be-a188-4463-ad49-7a36986976f9"
    },
    {
      "cell_type": "code",
      "execution_count": null,
      "metadata": {},
      "outputs": [],
      "source": [
        "# mindex= [[],[],[],list(range(50,150)),[]]  # node 1\n",
        "# mindex= [list(range(10,100)),[],list(range(50,80)),[],[]] # node 2\n",
        "# mindex= [list(range(10,100)),[],list(range(50,80)),list(range(50,150)),[]] # node3\n",
        "plans_stgcn_block = {\n",
        "    'max_iteration': 15, \n",
        "    'method': ['STGCN', 'IT-STGCN'], \n",
        "    'mindex': [mindex],\n",
        "    'lags': [4], \n",
        "    'nof_filters': [12], \n",
        "    'inter_method': ['nearest'],\n",
        "    'epoch': [50]\n",
        "}"
      ],
      "id": "49145e35-fb13-4a91-9e9d-11461e239bee"
    },
    {
      "cell_type": "code",
      "execution_count": null,
      "metadata": {},
      "outputs": [],
      "source": [
        "plnr = itstgcnGConvLSTM.planner.PLNR_STGCN_MANUAL(plans_stgcn_block,loader10,dataset_name='monte')\n",
        "plnr.simulate(mindex=mindex,mtype='block')"
      ],
      "id": "9da28cb1-a8c3-4573-9b5c-6f82e383fc76"
    },
    {
      "cell_type": "code",
      "execution_count": null,
      "metadata": {},
      "outputs": [],
      "source": [
        "plnr = itstgcnGConvLSTM.planner.PLNR_STGCN_MANUAL(plans_stgcn_block,loader10,dataset_name='monte')\n",
        "plnr.simulate(mindex=mindex,mtype='block')"
      ],
      "id": "1330002c-9f79-45ae-b1a3-a7e532bda367"
    }
  ],
  "nbformat": 4,
  "nbformat_minor": 5,
  "metadata": {
    "kernelspec": {
      "name": "python3",
      "display_name": "Python 3",
      "language": "python"
    },
    "language_info": {
      "name": "python",
      "codemirror_mode": {
        "name": "ipython",
        "version": "3"
      },
      "file_extension": ".py",
      "mimetype": "text/x-python",
      "nbconvert_exporter": "python",
      "pygments_lexer": "ipython3",
      "version": "3.8.0"
    }
  }
}
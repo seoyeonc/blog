{
  "cells": [
    {
      "cell_type": "markdown",
      "metadata": {},
      "source": [
        "# Earthquake\n",
        "\n",
        "SEOYEON CHOI  \n",
        "11/24/22\n",
        "\n",
        "Real analysis\n",
        "\n",
        "## imports"
      ],
      "id": "1aad2e9a-1113-42b2-8372-e497df77134a"
    },
    {
      "cell_type": "code",
      "execution_count": 6,
      "metadata": {},
      "outputs": [],
      "source": [
        "import tqdm\n",
        "import numpy as np\n",
        "import pandas as pd\n",
        "import matplotlib.pyplot as plt \n",
        "import plotly.express as px\n",
        "import warnings\n",
        "warnings.simplefilter(\"ignore\", np.ComplexWarning)\n",
        "from haversine import haversine\n",
        "from IPython.display import HTML\n",
        "import plotly.graph_objects as go"
      ],
      "id": "a0b93129-0e67-40fb-bb11-a78402962607"
    },
    {
      "cell_type": "code",
      "execution_count": 7,
      "metadata": {},
      "outputs": [],
      "source": [
        "import rpy2\n",
        "import rpy2.robjects as ro \n",
        "from rpy2.robjects.vectors import FloatVector \n",
        "from rpy2.robjects.packages import importr"
      ],
      "id": "7aaa8bde-96fc-485f-9a4c-94498057d5b3"
    },
    {
      "cell_type": "markdown",
      "metadata": {},
      "source": [
        "## load data and clean it\n",
        "\n",
        "`-` load"
      ],
      "id": "a711c4e4-75ca-4d10-a43a-c325913b4e09"
    },
    {
      "cell_type": "code",
      "execution_count": 8,
      "metadata": {},
      "outputs": [],
      "source": [
        "df= pd.read_csv('https://raw.githubusercontent.com/plotly/datasets/master/earthquakes-23k.csv')\n",
        "df"
      ],
      "id": "febb0d5b-d539-42db-aca0-e745ddc6c631"
    },
    {
      "cell_type": "code",
      "execution_count": 9,
      "metadata": {},
      "outputs": [],
      "source": [
        "df_korea= pd.read_csv('earthquake_korea2.csv').iloc[:,[1,2,5,6]].rename(columns={'규모':'Magnitude'})"
      ],
      "id": "2f0bf82f-429d-4f7d-8bf9-4ea70addc92e"
    },
    {
      "cell_type": "markdown",
      "metadata": {},
      "source": [
        "https://www.weather.go.kr/w/eqk-vol/search/korea.do?schOption=&xls=0&startTm=2012-01-02&endTm=2022-06-17&startSize=2&endSize=&startLat=&endLat=&startLon=&endLon=&lat=&lon=&dist=&keyword=&dpType=m"
      ],
      "id": "f81b2605-1cb8-43a4-a527-bf7c3994b507"
    },
    {
      "cell_type": "code",
      "execution_count": 10,
      "metadata": {},
      "outputs": [],
      "source": [
        "df_global= pd.concat([pd.read_csv('00_05.csv'),pd.read_csv('05_10.csv'),pd.read_csv('10_15.csv'),pd.read_csv('15_20.csv')]).iloc[:,[0,1,2,4]].rename(columns={'latitude':'Latitude','longitude':'Longitude','mag':'Magnitude'}).reset_index().iloc[:,1:]"
      ],
      "id": "d76cdbbb-a0b6-49b0-ae72-a63c7a02c34e"
    },
    {
      "cell_type": "markdown",
      "metadata": {},
      "source": [
        "https://www.usgs.gov/programs/earthquake-hazards/lists-maps-and-statistics\n",
        "\n",
        "`-` cleaning"
      ],
      "id": "320d58dc-99c9-4bdd-8bc9-1ce342e60cf7"
    },
    {
      "cell_type": "code",
      "execution_count": 11,
      "metadata": {},
      "outputs": [],
      "source": [
        "df.Date[df.Date == '1975-02-23T02:58:41.000Z']"
      ],
      "id": "c1b6a687-b70e-4a5a-951d-68268315c692"
    },
    {
      "cell_type": "code",
      "execution_count": 12,
      "metadata": {},
      "outputs": [],
      "source": [
        "df.iloc[3378,0] = '02/03/1975'"
      ],
      "id": "e41d8103-4aee-41bf-baf1-957e255f9d23"
    },
    {
      "cell_type": "code",
      "execution_count": 13,
      "metadata": {},
      "outputs": [],
      "source": [
        "df.Date[df.Date == '1985-04-28T02:53:41.530Z']"
      ],
      "id": "77872014-b56d-47e5-bf43-884b9b20686f"
    },
    {
      "cell_type": "code",
      "execution_count": 14,
      "metadata": {},
      "outputs": [],
      "source": [
        "df.iloc[7512,0] = '04/28/1985'"
      ],
      "id": "7a51af54-9e82-46e5-b445-614ca72debb8"
    },
    {
      "cell_type": "code",
      "execution_count": 15,
      "metadata": {},
      "outputs": [],
      "source": [
        "df.Date[df.Date == '2011-03-13T02:23:34.520Z']"
      ],
      "id": "3aca4638-7c12-4d11-a103-083cde509cd2"
    },
    {
      "cell_type": "code",
      "execution_count": 16,
      "metadata": {},
      "outputs": [],
      "source": [
        "df.iloc[20650,0] = '03/13/2011'"
      ],
      "id": "8e02ab95-6866-471d-aec9-581539224b92"
    },
    {
      "cell_type": "code",
      "execution_count": 17,
      "metadata": {},
      "outputs": [],
      "source": [
        "df= df.assign(Year=list(map(lambda x: x.split('/')[-1], df.Date))).iloc[:,1:]\n",
        "df"
      ],
      "id": "61d5534b-637a-4f6f-ac15-6cd44add274e"
    },
    {
      "cell_type": "code",
      "execution_count": 18,
      "metadata": {},
      "outputs": [],
      "source": [
        "df.Year = df.Year.astype(np.float64)"
      ],
      "id": "ba7c1998-d603-4ef4-bc5b-b9c594e4bc3c"
    },
    {
      "cell_type": "code",
      "execution_count": 19,
      "metadata": {},
      "outputs": [],
      "source": [
        "df_korea = df_korea.assign(Year=list(map(lambda x: x.split('/')[0], df_korea.발생시각))).iloc[:,1:]\n",
        "df_korea = df_korea.assign(Latitude=list(map(lambda x: x.split(' ')[0], df_korea.위도))).iloc[:,[0,2,3,4]]\n",
        "df_korea = df_korea.assign(Longitude=list(map(lambda x: x.split(' ')[0], df_korea.경도))).iloc[:,[0,2,3,4]]"
      ],
      "id": "caef6d04-85b9-42c1-a8a6-40917c52064e"
    },
    {
      "cell_type": "code",
      "execution_count": 20,
      "metadata": {},
      "outputs": [],
      "source": [
        "df_global = df_global.assign(Year=list(map(lambda x: x.split('-')[0], df_global.time))).iloc[:,1:]"
      ],
      "id": "aa8775d5-b5fe-4a64-9179-fa1133afbd04"
    },
    {
      "cell_type": "code",
      "execution_count": 21,
      "metadata": {},
      "outputs": [],
      "source": [
        "df_korea.Year = df_korea.Year.astype(np.float64)\n",
        "df_korea.Latitude = df_korea.Latitude.astype(np.float64)\n",
        "df_korea.Longitude = df_korea.Longitude.astype(np.float64)\n",
        "df_global.Year = df_global.Year.astype(np.float64)"
      ],
      "id": "ca2e2fdc-3b4e-49fb-8922-e7dc5e696807"
    },
    {
      "cell_type": "markdown",
      "metadata": {},
      "source": [
        "## define class"
      ],
      "id": "eb4d6cfc-4f1c-4637-ae00-9365c5fa5d2f"
    },
    {
      "cell_type": "code",
      "execution_count": 22,
      "metadata": {},
      "outputs": [],
      "source": [
        "class MooYaHo:\n",
        "    def __init__(self,df):\n",
        "        self.df = df \n",
        "        self.f = df.Magnitude.to_numpy()\n",
        "        self.year = df.Year.to_numpy()\n",
        "        self.lat = df.Latitude.to_numpy()\n",
        "        self.long = df.Longitude.to_numpy()\n",
        "        self.n = len(self.f)\n",
        "        \n",
        "        self.theta= None\n",
        "    def get_distance(self):\n",
        "        self.D = np.zeros([self.n,self.n])\n",
        "        locations = np.stack([self.lat, self.long],axis=1)\n",
        "        for i in tqdm.tqdm(range(self.n)):\n",
        "            for j in range(i,self.n): \n",
        "                self.D[i,j]=haversine(locations[i],locations[j])\n",
        "        self.D = self.D+self.D.T\n",
        "    def get_weightmatrix(self,theta=1,beta=0.5,kappa=4000):\n",
        "        self.theta = theta\n",
        "        dist = np.where(self.D<kappa,self.D,0)\n",
        "        self.W = np.exp(-(dist/self.theta)**2)\n",
        "\n",
        "    def _eigen(self):\n",
        "        d= self.W.sum(axis=1)\n",
        "        D= np.diag(d)\n",
        "        self.L = np.diag(1/np.sqrt(d)) @ (D-self.W) @ np.diag(1/np.sqrt(d))\n",
        "        self.lamb, self.Psi = np.linalg.eigh(self.L)\n",
        "        self.Lamb = np.diag(self.lamb)        \n",
        "    def fit(self,m):\n",
        "        self._eigen()\n",
        "        self.fhat = self.Psi[:,0:m]@self.Psi[:,0:m].T@self.f\n",
        "        self.df = self.df.assign(MagnitudeHat = self.fhat)\n",
        "        self.df = self.df.assign(Residual = self.df.Magnitude- self.df.MagnitudeHat)\n",
        "        plt.plot(self.f,'.')\n",
        "        plt.plot(self.fhat,'x')\n",
        "        \n",
        "    def vis(self,MagThresh=7,ResThresh=1):\n",
        "        fig = px.density_mapbox(self.df, \n",
        "                        lat='Latitude', \n",
        "                        lon='Longitude', \n",
        "                        z='Magnitude', \n",
        "                        radius=5,\n",
        "                        center=dict(lat=37, lon=160), \n",
        "                        zoom=1.5,\n",
        "                        height=900,\n",
        "                        opacity = 0.4,\n",
        "                        mapbox_style=\"stamen-terrain\",\n",
        "                        range_color=[-7,7])\n",
        "        fig.update_layout(margin={\"r\":0,\"t\":0,\"l\":0,\"b\":0})\n",
        "        fig.add_scattermapbox(lat = self.df.query('Magnitude > @MagThresh')['Latitude'],\n",
        "                      lon = self.df.query('Magnitude > @MagThresh')['Longitude'],\n",
        "                      text = self.df.query('Magnitude > @MagThresh')['Magnitude'],\n",
        "                      marker_size= 8,\n",
        "                      marker_color= 'red',\n",
        "                      opacity = 0.6\n",
        "                      )\n",
        "        fig.add_scattermapbox(lat = self.df.query('Residual**2 > @ResThresh')['Latitude'],\n",
        "                      lon = self.df.query('Residual**2 > @ResThresh')['Longitude'],\n",
        "                      text = self.df.query('Magnitude > @ResThresh')['Magnitude'],\n",
        "                      marker_size= 8,\n",
        "                      marker_color= 'blue',\n",
        "                      opacity = 0.5\n",
        "                      )\n",
        "        return HTML(fig.to_html(include_mathjax=False, config=dict({'scrollZoom':False})))\n",
        "    def visf(self):\n",
        "        fig = px.density_mapbox(self.df, \n",
        "                        lat='Latitude', \n",
        "                        lon='Longitude', \n",
        "                        z='Magnitude', \n",
        "                        radius=5,\n",
        "                        center=dict(lat=37, lon=160), \n",
        "                        zoom=1.5,\n",
        "                        height=900,\n",
        "                        opacity = 0.7,\n",
        "                        mapbox_style=\"stamen-terrain\",\n",
        "                        range_color=[-7,7])\n",
        "        fig.update_layout(margin={\"r\":0,\"t\":0,\"l\":0,\"b\":0})\n",
        "        return HTML(fig.to_html(include_mathjax=False, config=dict({'scrollZoom':False})))\n",
        "    def visfhat(self):\n",
        "        fig = px.density_mapbox(self.df, \n",
        "                        lat='Latitude', \n",
        "                        lon='Longitude', \n",
        "                        z='MagnitudeHat', \n",
        "                        radius=5,\n",
        "                        center=dict(lat=37, lon=160), \n",
        "                        zoom=1.5,\n",
        "                        height=900,\n",
        "                        opacity = 0.7,\n",
        "                        mapbox_style=\"stamen-terrain\",\n",
        "                        range_color=[-7,7])\n",
        "        fig.update_layout(margin={\"r\":0,\"t\":0,\"l\":0,\"b\":0})\n",
        "        return HTML(fig.to_html(include_mathjax=False, config=dict({'scrollZoom':False})))\n",
        "    def visres(self,MagThresh=7,ResThresh=1):\n",
        "        fig = px.density_mapbox(self.df, \n",
        "                        lat='Latitude', \n",
        "                        lon='Longitude', \n",
        "                        z=[0] * len(self.df), \n",
        "                        radius=5,\n",
        "                        center=dict(lat=37, lon=160), \n",
        "                        zoom=1.5,\n",
        "                        height=900,\n",
        "                        opacity = 0.7,\n",
        "                        mapbox_style=\"stamen-terrain\",\n",
        "                        range_color=[-7,7])\n",
        "        fig.update_layout(margin={\"r\":0,\"t\":0,\"l\":0,\"b\":0})\n",
        "        fig.add_scattermapbox(lat = self.df.query('Residual**2 > @ResThresh')['Latitude'],\n",
        "                      lon = self.df.query('Residual**2 > @ResThresh')['Longitude'],\n",
        "                      text = self.df.query('Magnitude > @ResThresh')['Magnitude'],\n",
        "                      marker_size= 8,\n",
        "                      marker_color= 'blue',\n",
        "                      opacity = 0.7\n",
        "                      )\n",
        "        return HTML(fig.to_html(include_mathjax=False, config=dict({'scrollZoom':False})))"
      ],
      "id": "b0354805-b258-4bea-99a1-de9b0b54598c"
    },
    {
      "cell_type": "code",
      "execution_count": 23,
      "metadata": {},
      "outputs": [],
      "source": [
        "class MooYaHo2(MooYaHo): # ebayesthresh 기능추가\n",
        "    def fit2(self,ref=0.5): # fit with ebayesthresh\n",
        "        self._eigen()\n",
        "        self.fbar = self.Psi.T @ self.f # fbar := graph fourier transform of f\n",
        "        self.power = self.fbar**2 \n",
        "        ebayesthresh = importr('EbayesThresh').ebayesthresh\n",
        "        self.power_threshed=np.array(ebayesthresh(FloatVector(self.fbar**2)))\n",
        "        self.fbar_threshed = np.where(self.power_threshed>0,self.fbar,0)\n",
        "        self.fhat = self.Psi@self.fbar_threshed\n",
        "        self.df = self.df.assign(MagnitudeHat = self.fhat)\n",
        "        self.df = self.df.assign(Residual = self.df.Magnitude- self.df.MagnitudeHat)\n",
        "        self.con = np.where(self.df.Residual>0.7,1,0)\n",
        "        #plt.plot(self.f,'.')\n",
        "        #plt.plot(self.fhat,'x')\n",
        "\n",
        "#         fig, axs = plt.subplots(2,2,figsize=(16,10))\n",
        "\n",
        "#         axs[0,0].plot(self.f,'b')\n",
        "#         axs[0,0].set_title('Magnitude')\n",
        "#         axs[0,0].set_ylim([4.5,9])\n",
        "\n",
        "#         axs[0,1].plot(self.fhat,'k')\n",
        "#         axs[0,1].set_title('MagnitudeHat')\n",
        "#         axs[0,1].set_ylim([4.5,9])\n",
        "\n",
        "#         axs[1,0].plot(self.con,'r*')\n",
        "#         axs[1,0].set_title('Residual square')\n",
        "\n",
        "#         axs[1,1].plot(self.f,'b')\n",
        "#         axs[1,1].plot(self.fhat,'k')\n",
        "#         axs[1,1].plot(self.con,'r*')\n",
        "#         axs[1,1].set_title('Graph')\n",
        "#         axs[1,1].set_ylim([4.5,9])\n",
        "\n",
        "#         plt.tight_layout()\n",
        "#         plt.show()"
      ],
      "id": "cce4322f-b90a-496e-b6f9-407aa91996b5"
    },
    {
      "cell_type": "code",
      "execution_count": 24,
      "metadata": {},
      "outputs": [],
      "source": [
        "class MooYaHo3(MooYaHo2):\n",
        "    def vis(self,MagThresh=7,ResThresh=1):\n",
        "        fig = px.density_mapbox(self.df, \n",
        "                        lat='Latitude', \n",
        "                        lon='Longitude', \n",
        "                        z='Magnitude', \n",
        "                        radius=5,\n",
        "                        center=dict(lat=37, lon=126), \n",
        "                        zoom=5.7,\n",
        "                        height=900,\n",
        "                        opacity = 0.3,\n",
        "                        mapbox_style=\"stamen-terrain\")\n",
        "        fig.update_layout(margin={\"r\":0,\"t\":0,\"l\":0,\"b\":0})\n",
        "        fig.add_scattermapbox(lat = self.df.query('Magnitude > @MagThresh')['Latitude'],\n",
        "                      lon = self.df.query('Magnitude > @MagThresh')['Longitude'],\n",
        "                      text = self.df.query('Magnitude > @MagThresh')['Magnitude'],\n",
        "                      marker_size= 8,\n",
        "                      marker_color= 'red',\n",
        "                      opacity = 0.5\n",
        "                      )\n",
        "        fig.add_scattermapbox(lat = self.df.query('Residual**2 > @ResThresh')['Latitude'],\n",
        "                      lon = self.df.query('Residual**2 > @ResThresh')['Longitude'],\n",
        "                      text = self.df.query('Magnitude > @ResThresh')['Magnitude'],\n",
        "                      marker_size= 8,\n",
        "                      marker_color= 'blue',\n",
        "                      opacity = 0.5\n",
        "                      )\n",
        "        return HTML(fig.to_html(include_mathjax=False, config=dict({'scrollZoom':False})))"
      ],
      "id": "f2bfc009-c85d-42a2-af9d-b0d043b0af65"
    },
    {
      "cell_type": "code",
      "execution_count": 25,
      "metadata": {},
      "outputs": [],
      "source": [
        "       ebayesthresh = importr('EbayesThresh').ebayesthresh"
      ],
      "id": "9bbe7b0a-99ea-4f55-a69a-a2dbbe77bd48"
    },
    {
      "cell_type": "markdown",
      "metadata": {},
      "source": [
        "## analysis_df_global(2010\\~2015)\n",
        "\n",
        "`-` make instance for analysis"
      ],
      "id": "7ea68307-1da7-42c6-9fc9-bde9a6f2c17b"
    },
    {
      "cell_type": "code",
      "execution_count": 32,
      "metadata": {},
      "outputs": [],
      "source": [
        "moo_global=MooYaHo2(df_global.query(\"2010 <= Year < 2015\"))"
      ],
      "id": "2192c48f-05dd-407b-bc21-7f7c138c44a2"
    },
    {
      "cell_type": "markdown",
      "metadata": {},
      "source": [
        "`-` get distance"
      ],
      "id": "176d54ed-29da-4b6c-8ad4-8350701e8694"
    },
    {
      "cell_type": "code",
      "execution_count": 33,
      "metadata": {},
      "outputs": [
        {
          "output_type": "stream",
          "name": "stderr",
          "text": [
            "100%|██████████| 10762/10762 [05:32<00:00, 32.36it/s] "
          ]
        }
      ],
      "source": [
        "moo_global.get_distance()"
      ],
      "id": "c4c97d1c-93c0-405f-af63-2eb440a0834c"
    },
    {
      "cell_type": "code",
      "execution_count": 34,
      "metadata": {},
      "outputs": [],
      "source": [
        "moo_global.D[moo_global.D>0].mean()"
      ],
      "id": "69e25a98-a386-4a4e-9807-cac0bff43ad9"
    },
    {
      "cell_type": "code",
      "execution_count": 35,
      "metadata": {},
      "outputs": [
        {
          "output_type": "display_data",
          "metadata": {},
          "data": {
            "image/png": "[encoded data removed]"
          }
        }
      ],
      "source": [
        "plt.hist(moo_global.D[moo_global.D>0])"
      ],
      "id": "9c3f4852-5706-47bd-8535-7e93de61bc39"
    },
    {
      "cell_type": "markdown",
      "metadata": {},
      "source": [
        "`-` weight matrix"
      ],
      "id": "5054ca08-374e-4f18-8454-18ae1a210948"
    },
    {
      "cell_type": "code",
      "execution_count": 36,
      "metadata": {},
      "outputs": [],
      "source": [
        "moo_global.get_weightmatrix(theta=(8810.865423093777),kappa=2500) "
      ],
      "id": "20b88814-72c3-404b-b4dc-38f76966d067"
    },
    {
      "cell_type": "markdown",
      "metadata": {},
      "source": [
        "`-` fit"
      ],
      "id": "00a7b3c2-b016-4cac-aa58-9ce3f2762793"
    },
    {
      "cell_type": "code",
      "execution_count": 37,
      "metadata": {},
      "outputs": [],
      "source": [
        "moo_global.fit2()"
      ],
      "id": "bd2db1a0-9840-4b13-b435-20fff189db08"
    },
    {
      "cell_type": "code",
      "execution_count": 38,
      "metadata": {},
      "outputs": [],
      "source": [
        "moo_global.df.sort_values(\"Residual\",ascending=False).iloc[:40,:]"
      ],
      "id": "71b21259-0f9a-40d6-b4c5-6c73aab9dad5"
    },
    {
      "cell_type": "markdown",
      "metadata": {},
      "source": [
        "(2010\\~2014 시도) - 21번째 Ouest Department, Haiti 아이티 지진 2010년\n",
        "진도 7.0 - 24번째 Puchuncavi, Valparaíso, Chile 칠레 지진 2014년 진도\n",
        "6.4 - 28번째 Baoxing County, Yaan, Sichuan, China 중국 쓰촨성 지진\n",
        "2013년 진도 6.6\n",
        "\n",
        "(2010\\~2015 시도_결과 좋지 않음?!) - 23번째 2010년 West New Britain\n",
        "Province, Papua New Guinea 진도 7.3 - 24번째 2011년 Kuzawa Terayama,\n",
        "Tanagura, Higashishirakawa District, Fukushima 963-5671, Japan 진도\n",
        "6.6 - 29번째 2015년 Kishim, Afghanistan 진도 7.5\n",
        "\n",
        "`-` vis"
      ],
      "id": "d9440123-4629-4722-8727-83fd3f22821b"
    },
    {
      "cell_type": "code",
      "execution_count": 39,
      "metadata": {},
      "outputs": [],
      "source": [
        "#moo_global.visf()"
      ],
      "id": "c96182df-e375-4fc3-966c-a517913a1c19"
    },
    {
      "cell_type": "code",
      "execution_count": 40,
      "metadata": {},
      "outputs": [],
      "source": [
        "#moo_global.visfhat()"
      ],
      "id": "45bbe310-05f5-40d0-92bc-3d139e63a3d9"
    },
    {
      "cell_type": "code",
      "execution_count": 41,
      "metadata": {},
      "outputs": [],
      "source": [
        "#moo_global.visres()"
      ],
      "id": "7f48327f-454d-4546-8e32-27495bf51838"
    },
    {
      "cell_type": "code",
      "execution_count": 42,
      "metadata": {},
      "outputs": [],
      "source": [
        "#moo_global.vis(MagThresh=6.9,ResThresh=0.5)"
      ],
      "id": "afc68446-e858-4f02-b558-222b73951e64"
    },
    {
      "cell_type": "markdown",
      "metadata": {},
      "source": [
        "------------------------------------------------------------------------\n",
        "\n",
        "## analysis_df_global(2015\\~2020)\n",
        "\n",
        "`-` make instance for analysis"
      ],
      "id": "fa144ee8-dc04-4060-9c16-750f9a4badf6"
    },
    {
      "cell_type": "code",
      "execution_count": 43,
      "metadata": {},
      "outputs": [],
      "source": [
        "moo_global=MooYaHo2(df_global.query(\"2015 <= Year <= 2020\"))"
      ],
      "id": "7bde1715-4b81-4732-8a57-cd083af053e2"
    },
    {
      "cell_type": "markdown",
      "metadata": {},
      "source": [
        "`-` get distance"
      ],
      "id": "c992085a-0fad-46ed-88f1-0f827e8cdb23"
    },
    {
      "cell_type": "code",
      "execution_count": 44,
      "metadata": {},
      "outputs": [
        {
          "output_type": "stream",
          "name": "stderr",
          "text": [
            "100%|██████████| 11239/11239 [04:35<00:00, 40.84it/s] "
          ]
        }
      ],
      "source": [
        "moo_global.get_distance()"
      ],
      "id": "da38b0cc-3b91-49ec-b27b-05a418657335"
    },
    {
      "cell_type": "code",
      "execution_count": 45,
      "metadata": {},
      "outputs": [],
      "source": [
        "moo_global.D[moo_global.D>0].mean()"
      ],
      "id": "a26db8f7-25b8-4061-8bfc-cf37b38ed0d5"
    },
    {
      "cell_type": "code",
      "execution_count": 46,
      "metadata": {},
      "outputs": [
        {
          "output_type": "display_data",
          "metadata": {},
          "data": {
            "image/png": "[encoded data removed]"
          }
        }
      ],
      "source": [
        "plt.hist(moo_global.D[moo_global.D>0])"
      ],
      "id": "c6cdf02d-89ab-417d-9640-907820905da0"
    },
    {
      "cell_type": "markdown",
      "metadata": {},
      "source": [
        "`-` weight matrix"
      ],
      "id": "eb9c9bcd-ab80-42d4-b28a-40b29e3ef876"
    },
    {
      "cell_type": "code",
      "execution_count": 47,
      "metadata": {},
      "outputs": [],
      "source": [
        "moo_global.get_weightmatrix(theta=(8814.318793468068),kappa=2500) "
      ],
      "id": "9edb54ae-20f9-42bf-a29c-e67d87bd2d71"
    },
    {
      "cell_type": "markdown",
      "metadata": {},
      "source": [
        "`-` fit"
      ],
      "id": "9083375e-24f8-404c-bb2a-68b63e727e60"
    },
    {
      "cell_type": "code",
      "execution_count": 48,
      "metadata": {},
      "outputs": [],
      "source": [
        "moo_global.fit2()"
      ],
      "id": "605d9fd0-60f2-4e07-89b6-3f9de0bed5c5"
    },
    {
      "cell_type": "code",
      "execution_count": 49,
      "metadata": {},
      "outputs": [],
      "source": [
        "moo_global.df.sort_values(\"Residual\",ascending=False).iloc[:30,:]"
      ],
      "id": "5caf917f-ab05-434f-a9d0-f94c4dfeb7d4"
    },
    {
      "cell_type": "markdown",
      "metadata": {},
      "source": [
        "바다 아닌 거 - 8번째 2016년 Rotherham, New Zealand 뉴질랜드 카이코우라\n",
        "지진 진도 7.8 - 9번째 2015년 Langkuru Utara, Pureman, Alor Regency, East\n",
        "Nusa Tenggara, Indonesia 수마트라 진도 6.5 - 15번째 2018년 Hela\n",
        "Province, Papua New Guinea 파푸아뉴기니 진도 7.5 - 20번째 2015년\n",
        "Kalinchok, Nepal 네팔 진도 7.3 - 26번째 2019년 Coquimbo, Chile 칠레\n",
        "코킴보주 진도 6.7\n",
        "\n",
        "`-` vis"
      ],
      "id": "8510d0c4-75cc-4f49-95e8-e267fca91185"
    },
    {
      "cell_type": "code",
      "execution_count": 50,
      "metadata": {},
      "outputs": [],
      "source": [
        "#moo_global.vis(MagThresh=7,ResThresh=0.3)"
      ],
      "id": "609d9171-1e37-4c79-982d-c348167579b1"
    },
    {
      "cell_type": "markdown",
      "metadata": {},
      "source": [
        "------------------------------------------------------------------------"
      ],
      "id": "a0e30c61-dc3e-4849-91bc-4419053d48fe"
    },
    {
      "cell_type": "code",
      "execution_count": null,
      "metadata": {},
      "outputs": [],
      "source": [
        "pd.read_html('https://en.wikipedia.org/wiki/Lists_of_21st-century_earthquakes',encoding='utf-8')[0].query('Magnitude<=7')# List of deadliest earthquakes"
      ],
      "id": "ca9a67bf-479f-43b8-a27e-6e632b0c2ba0"
    },
    {
      "cell_type": "code",
      "execution_count": null,
      "metadata": {},
      "outputs": [],
      "source": [
        "pd.read_html('https://en.wikipedia.org/wiki/Lists_of_21st-century_earthquakes',encoding='utf-8')[3] # Deadliest earthquakes by year"
      ],
      "id": "3a587db8-f69e-45e2-b89a-2ceb49b6a34d"
    },
    {
      "cell_type": "markdown",
      "metadata": {},
      "source": [
        "------------------------------------------------------------------------"
      ],
      "id": "04dd3e0a-7eb8-42fa-97c2-da5b75112f20"
    },
    {
      "cell_type": "code",
      "execution_count": 52,
      "metadata": {},
      "outputs": [],
      "source": [
        "class eachlocation(MooYaHo2):\n",
        "    def haiti(self,MagThresh=7,ResThresh=1,adjzoom=5,adjmarkersize = 40):\n",
        "        fig = px.density_mapbox(self.df, \n",
        "                        lat='Latitude', \n",
        "                        lon='Longitude', \n",
        "                        z='Magnitude', \n",
        "                        radius=15,\n",
        "                        center=dict(lat=18.4430, lon=-72.5710), \n",
        "                        zoom= adjzoom,\n",
        "                        height=900,\n",
        "                        opacity = 0.8,\n",
        "                        mapbox_style=\"stamen-terrain\",\n",
        "                        range_color=[-3,3])\n",
        "        fig.update_layout(margin={\"r\":0,\"t\":0,\"l\":0,\"b\":0})\n",
        "        fig.add_scattermapbox(lat = self.df.query('Magnitude > @MagThresh')['Latitude'],\n",
        "                      lon = self.df.query('Magnitude > @MagThresh')['Longitude'],\n",
        "                      text = self.df.query('Magnitude > @MagThresh')['Magnitude'],\n",
        "                      marker_size= 5,\n",
        "                      marker_color= 'blue',\n",
        "                      opacity = 0.1\n",
        "                      )\n",
        "        fig.add_scattermapbox(lat = self.df.query('Residual**2 > @ResThresh')['Latitude'],\n",
        "                      lon = self.df.query('Residual**2 > @ResThresh')['Longitude'],\n",
        "                      text = self.df.query('Magnitude > @ResThresh')['Magnitude'],\n",
        "                      marker_size= adjmarkersize,\n",
        "                      marker_color= 'red',\n",
        "                      opacity = 0.8\n",
        "                      )\n",
        "        fig.add_trace(go.Scattermapbox(\n",
        "                    lat=self.df.query('Residual**2 > @ResThresh')['Latitude'],\n",
        "                    lon=self.df.query('Residual**2 > @ResThresh')['Longitude'],\n",
        "                    mode='markers',\n",
        "                    marker=go.scattermapbox.Marker(\n",
        "                        size=20,\n",
        "                        color='rgb(255, 255, 255)',\n",
        "                        opacity=0.4\n",
        "                    )\n",
        "                ))\n",
        "        return fig \n",
        "    def lquique(self,MagThresh=7,ResThresh=1,adjzoom=5, adjmarkersize= 40):\n",
        "        fig = px.density_mapbox(self.df, \n",
        "                        lat='Latitude', \n",
        "                        lon='Longitude', \n",
        "                        z='Magnitude', \n",
        "                        radius=15,\n",
        "                        center=dict(lat=-32.6953, lon=-71.4416), \n",
        "                        zoom=adjzoom,\n",
        "                        height=900,\n",
        "                        opacity = 0.8,\n",
        "                        mapbox_style=\"stamen-terrain\",\n",
        "                        range_color=[-7,7])\n",
        "        fig.update_layout(margin={\"r\":0,\"t\":0,\"l\":0,\"b\":0})\n",
        "        fig.add_scattermapbox(lat = self.df.query('Magnitude > @MagThresh')['Latitude'],\n",
        "                      lon = self.df.query('Magnitude > @MagThresh')['Longitude'],\n",
        "                      text = self.df.query('Magnitude > @MagThresh')['Magnitude'],\n",
        "                      marker_size= 5,\n",
        "                      marker_color= 'blue',\n",
        "                      opacity = 0.1\n",
        "                      )\n",
        "        fig.add_scattermapbox(lat = self.df.query('Residual**2 > @ResThresh')['Latitude'],\n",
        "                      lon = self.df.query('Residual**2 > @ResThresh')['Longitude'],\n",
        "                      text = self.df.query('Magnitude > @ResThresh')['Magnitude'],\n",
        "                      marker_size= adjmarkersize,\n",
        "                      marker_color= 'red',\n",
        "                      opacity = 0.8\n",
        "                      )\n",
        "        fig.add_trace(go.Scattermapbox(\n",
        "                    lat=self.df.query('Residual**2 > @ResThresh')['Latitude'],\n",
        "                    lon=self.df.query('Residual**2 > @ResThresh')['Longitude'],\n",
        "                    mode='markers',\n",
        "                    marker=go.scattermapbox.Marker(\n",
        "                        size=20,\n",
        "                        color='rgb(255, 255, 255)',\n",
        "                        opacity=0.8\n",
        "                    )\n",
        "                ))\n",
        "        return fig \n",
        "    def sichuan(self,MagThresh=7,ResThresh=1,adjzoom=5,adjmarkersize=40):\n",
        "        fig = px.density_mapbox(self.df, \n",
        "                        lat='Latitude', \n",
        "                        lon='Longitude', \n",
        "                        z='Magnitude', \n",
        "                        radius=15,\n",
        "                        center=dict(lat=30.3080, lon=102.8880), \n",
        "                        zoom=adjzoom,\n",
        "                        height=900,\n",
        "                        opacity = 0.6,\n",
        "                        mapbox_style=\"stamen-terrain\",\n",
        "                        range_color=[-7,7])\n",
        "        fig.update_layout(margin={\"r\":0,\"t\":0,\"l\":0,\"b\":0})\n",
        "        fig.add_scattermapbox(lat = self.df.query('Magnitude > @MagThresh')['Latitude'],\n",
        "                      lon = self.df.query('Magnitude > @MagThresh')['Longitude'],\n",
        "                      text = self.df.query('Magnitude > @MagThresh')['Magnitude'],\n",
        "                      marker_size= 5,\n",
        "                      marker_color= 'blue',\n",
        "                      opacity = 0.1\n",
        "                      )\n",
        "        fig.add_scattermapbox(lat = self.df.query('Residual**2 > @ResThresh')['Latitude'],\n",
        "                      lon = self.df.query('Residual**2 > @ResThresh')['Longitude'],\n",
        "                      text = self.df.query('Magnitude > @ResThresh')['Magnitude'],\n",
        "                      marker_size= adjmarkersize,\n",
        "                      marker_color= 'red',\n",
        "                      opacity = 0.8\n",
        "                      )\n",
        "        fig.add_trace(go.Scattermapbox(\n",
        "                    lat=self.df.query('Residual**2 > @ResThresh')['Latitude'],\n",
        "                    lon=self.df.query('Residual**2 > @ResThresh')['Longitude'],\n",
        "                    mode='markers',\n",
        "                    marker=go.scattermapbox.Marker(\n",
        "                        size=20,\n",
        "                        color='rgb(255, 255, 255)',\n",
        "                        opacity=0.8\n",
        "                    )\n",
        "                ))\n",
        "        return fig "
      ],
      "id": "92069677-c776-4dfe-9ea3-802e18ff685d"
    },
    {
      "cell_type": "code",
      "execution_count": 53,
      "metadata": {},
      "outputs": [],
      "source": [
        "each_location=eachlocation(df_global.query(\"2010 <= Year < 2015\"))"
      ],
      "id": "c73e3796-eb9b-45b4-b1d7-cedaed8cd0fd"
    },
    {
      "cell_type": "markdown",
      "metadata": {},
      "source": [
        "`-` get distance"
      ],
      "id": "eb0a9c1a-6ae7-4a83-ac11-35fda6c7af71"
    },
    {
      "cell_type": "code",
      "execution_count": 54,
      "metadata": {},
      "outputs": [
        {
          "output_type": "stream",
          "name": "stderr",
          "text": [
            "100%|██████████| 12498/12498 [05:55<00:00, 35.16it/s] "
          ]
        }
      ],
      "source": [
        "each_location.get_distance()"
      ],
      "id": "b8977ccc-0b12-4389-aeda-967f0ae89c85"
    },
    {
      "cell_type": "code",
      "execution_count": 55,
      "metadata": {},
      "outputs": [],
      "source": [
        "each_location.D[each_location.D>0].mean()"
      ],
      "id": "973ebeea-dc4a-4744-90d0-1aa372ba8c5d"
    },
    {
      "cell_type": "code",
      "execution_count": 56,
      "metadata": {},
      "outputs": [
        {
          "output_type": "display_data",
          "metadata": {},
          "data": {
            "image/png": "[encoded data removed]"
          }
        }
      ],
      "source": [
        "plt.hist(each_location.D[each_location.D>0])"
      ],
      "id": "41c0b33c-d89d-441e-8b15-239a59dfb7b1"
    },
    {
      "cell_type": "markdown",
      "metadata": {},
      "source": [
        "`-` weight matrix"
      ],
      "id": "f61112e6-b861-4c33-ae0e-d1bfd600ad11"
    },
    {
      "cell_type": "code",
      "execution_count": 57,
      "metadata": {},
      "outputs": [],
      "source": [
        "each_location.get_weightmatrix(theta=(8810.865423093777),kappa=2500) "
      ],
      "id": "c4b692e4-4d13-4d5b-8de1-09473d168a97"
    },
    {
      "cell_type": "markdown",
      "metadata": {},
      "source": [
        "`-` fit"
      ],
      "id": "d0ab6254-bcfd-4030-a059-2645a033dd54"
    },
    {
      "cell_type": "code",
      "execution_count": 58,
      "metadata": {},
      "outputs": [],
      "source": [
        "each_location.fit2()"
      ],
      "id": "2efb23ce-ab90-453d-a4e6-d50542355b32"
    },
    {
      "cell_type": "code",
      "execution_count": 59,
      "metadata": {
        "tags": []
      },
      "outputs": [],
      "source": [
        "each_location.haiti(MagThresh=6.9,ResThresh=0.5)"
      ],
      "id": "20687469-27f0-48e4-991e-c661d314f9e4"
    },
    {
      "cell_type": "code",
      "execution_count": 60,
      "metadata": {
        "tags": []
      },
      "outputs": [],
      "source": [
        "each_location.lquique(MagThresh=8,ResThresh=0.4,adjzoom=4.3)"
      ],
      "id": "08550811-9aa1-42c6-ad49-dfe49b68b5f8"
    },
    {
      "cell_type": "code",
      "execution_count": 61,
      "metadata": {},
      "outputs": [],
      "source": [
        "each_location.sichuan(MagThresh=6.5,ResThresh=0.4)"
      ],
      "id": "4885c1c7-b654-47c0-be55-df76a81f0c07"
    },
    {
      "cell_type": "markdown",
      "metadata": {},
      "source": [
        "------------------------------------------------------------------------\n",
        "\n",
        "## 칠레"
      ],
      "id": "bfcff6c0-a40a-45df-8d73-496a43d21197"
    },
    {
      "cell_type": "code",
      "execution_count": 62,
      "metadata": {},
      "outputs": [],
      "source": [
        "df_chile_ex= pd.concat([pd.read_csv('05_10.csv'),pd.read_csv('10_15.csv')]).iloc[:,[0,1,2,4]].rename(columns={'latitude':'Latitude','longitude':'Longitude','mag':'Magnitude'}).reset_index().iloc[:,1:]"
      ],
      "id": "b2398383-5953-4dce-940e-1c706787248e"
    },
    {
      "cell_type": "code",
      "execution_count": 63,
      "metadata": {},
      "outputs": [],
      "source": [
        "df_chile = df_chile_ex.assign(Year=list(map(lambda x: x.split('-')[0], df_chile_ex.time))).iloc[:,1:]"
      ],
      "id": "dfead5b6-f2dd-4def-b62c-bf45d7810ba7"
    },
    {
      "cell_type": "code",
      "execution_count": 64,
      "metadata": {},
      "outputs": [],
      "source": [
        "df_chile = df_chile.assign(Month=list(map(lambda x: x.split('-')[1], df_chile_ex.time)))"
      ],
      "id": "e4125ec0-5c34-4dea-a30e-5db7a46d7d0b"
    },
    {
      "cell_type": "code",
      "execution_count": 65,
      "metadata": {},
      "outputs": [],
      "source": [
        "df_chile.Year = df_chile.Year.astype(np.float64)\n",
        "df_chile.Month = df_chile.Month.astype(np.float64)"
      ],
      "id": "5fddd553-9ec3-4c54-9eff-2d2f9c5b655e"
    },
    {
      "cell_type": "code",
      "execution_count": 66,
      "metadata": {},
      "outputs": [],
      "source": [
        "chile_location=eachlocation(df_chile.query(\"2010 <= Year < 2015\"))"
      ],
      "id": "86eeb566-c09e-4f16-bc67-149bb21cdd8c"
    },
    {
      "cell_type": "code",
      "execution_count": 67,
      "metadata": {},
      "outputs": [
        {
          "output_type": "stream",
          "name": "stderr",
          "text": [
            "100%|██████████| 12498/12498 [06:28<00:00, 32.19it/s] "
          ]
        }
      ],
      "source": [
        "chile_location.get_distance()"
      ],
      "id": "7f443eca-0af0-4d10-96b9-157b0e7b83eb"
    },
    {
      "cell_type": "code",
      "execution_count": 68,
      "metadata": {},
      "outputs": [],
      "source": [
        "chile_location.get_weightmatrix(theta=(chile_location.D[chile_location.D>0].mean()),kappa=2500) "
      ],
      "id": "8e254ed1-7143-498a-9131-909e1ded3bcf"
    },
    {
      "cell_type": "code",
      "execution_count": 69,
      "metadata": {},
      "outputs": [],
      "source": [
        "chile_location.fit2()"
      ],
      "id": "38d0ef83-2279-4efc-aa2f-6358e215604c"
    },
    {
      "cell_type": "markdown",
      "metadata": {},
      "source": [
        "아이티"
      ],
      "id": "f2061c33-ca50-4fa5-83f2-eec7bb632f9b"
    },
    {
      "cell_type": "code",
      "execution_count": 70,
      "metadata": {},
      "outputs": [],
      "source": [
        "chile_location.df.assign(Residual2 = chile_location.df.Residual**2).reset_index().iloc[2324:2330,:]"
      ],
      "id": "0df192ee-c874-47c3-aeec-9c37dea09459"
    },
    {
      "cell_type": "markdown",
      "metadata": {},
      "source": [
        "칠레"
      ],
      "id": "0cb16cd2-e23b-4cbb-917b-21cd70857a1c"
    },
    {
      "cell_type": "code",
      "execution_count": 71,
      "metadata": {},
      "outputs": [],
      "source": [
        "chile_location.df.assign(Residual2 = chile_location.df.Residual**2).reset_index().query(\"-56.5 < Latitude & Latitude <-17.4 & -81.5 < Longitude & Longitude < -61.5 & Year == 2014 & Month == 8\")"
      ],
      "id": "df5fd1c0-96d8-49ea-8f58-7ace0bdf6e3b"
    },
    {
      "cell_type": "markdown",
      "metadata": {},
      "source": [
        "중국"
      ],
      "id": "56c128f4-43c6-4e05-a179-af1195c620cd"
    },
    {
      "cell_type": "code",
      "execution_count": 72,
      "metadata": {},
      "outputs": [],
      "source": [
        "chile_location.df.assign(Residual2 = chile_location.df.Residual**2).reset_index().iloc[5136:5142,:]"
      ],
      "id": "8a34a517-cda7-4978-9cfe-1ad1a0056304"
    }
  ],
  "nbformat": 4,
  "nbformat_minor": 5,
  "metadata": {
    "kernelspec": {
      "name": "python3",
      "display_name": "Python 3",
      "language": "python"
    },
    "language_info": {
      "name": "python",
      "codemirror_mode": {
        "name": "ipython",
        "version": "3"
      },
      "file_extension": ".py",
      "mimetype": "text/x-python",
      "nbconvert_exporter": "python",
      "pygments_lexer": "ipython3",
      "version": "3.8.0"
    }
  }
}
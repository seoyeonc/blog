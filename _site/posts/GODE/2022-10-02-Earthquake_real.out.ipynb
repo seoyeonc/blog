{
  "cells": [
    {
      "cell_type": "markdown",
      "metadata": {},
      "source": [
        "# Earthquake\n",
        "\n",
        "SEOYEON CHOI  \n",
        "11/24/22\n",
        "\n",
        "Real analysis\n",
        "\n",
        "## imports"
      ],
      "id": "2f673031-8576-4420-81d7-a215bd00c0a6"
    },
    {
      "cell_type": "code",
      "execution_count": 6,
      "metadata": {},
      "outputs": [],
      "source": [
        "import tqdm\n",
        "import numpy as np\n",
        "import pandas as pd\n",
        "import matplotlib.pyplot as plt \n",
        "import plotly.express as px\n",
        "import warnings\n",
        "warnings.simplefilter(\"ignore\", np.ComplexWarning)\n",
        "from haversine import haversine\n",
        "from IPython.display import HTML\n",
        "import plotly.graph_objects as go"
      ],
      "id": "8dc34d78-9eff-42e7-a71c-7aa56f64ade5"
    },
    {
      "cell_type": "code",
      "execution_count": 7,
      "metadata": {},
      "outputs": [],
      "source": [
        "import rpy2\n",
        "import rpy2.robjects as ro \n",
        "from rpy2.robjects.vectors import FloatVector \n",
        "from rpy2.robjects.packages import importr"
      ],
      "id": "fa6be08c-6a8d-4107-822e-11aacb5bd2d5"
    },
    {
      "cell_type": "markdown",
      "metadata": {},
      "source": [
        "## load data and clean it\n",
        "\n",
        "`-` load"
      ],
      "id": "fd25dde0-14ad-456d-b3d1-773b9e3069a2"
    },
    {
      "cell_type": "code",
      "execution_count": 8,
      "metadata": {},
      "outputs": [],
      "source": [
        "df= pd.read_csv('https://raw.githubusercontent.com/plotly/datasets/master/earthquakes-23k.csv')\n",
        "df"
      ],
      "id": "4ec1eb90-73fb-4f5f-86bd-92ecf80fb23d"
    },
    {
      "cell_type": "code",
      "execution_count": 9,
      "metadata": {},
      "outputs": [],
      "source": [
        "df_korea= pd.read_csv('earthquake_korea2.csv').iloc[:,[1,2,5,6]].rename(columns={'규모':'Magnitude'})"
      ],
      "id": "caa024a7-e599-4b20-be35-9a34a743bb01"
    },
    {
      "cell_type": "markdown",
      "metadata": {},
      "source": [
        "https://www.weather.go.kr/w/eqk-vol/search/korea.do?schOption=&xls=0&startTm=2012-01-02&endTm=2022-06-17&startSize=2&endSize=&startLat=&endLat=&startLon=&endLon=&lat=&lon=&dist=&keyword=&dpType=m"
      ],
      "id": "a11e3aa3-a65f-4b22-911f-cd616c3930da"
    },
    {
      "cell_type": "code",
      "execution_count": 10,
      "metadata": {},
      "outputs": [],
      "source": [
        "df_global= pd.concat([pd.read_csv('00_05.csv'),pd.read_csv('05_10.csv'),pd.read_csv('10_15.csv'),pd.read_csv('15_20.csv')]).iloc[:,[0,1,2,4]].rename(columns={'latitude':'Latitude','longitude':'Longitude','mag':'Magnitude'}).reset_index().iloc[:,1:]"
      ],
      "id": "089853ae-ab65-47eb-b6a2-12450e0e6846"
    },
    {
      "cell_type": "markdown",
      "metadata": {},
      "source": [
        "https://www.usgs.gov/programs/earthquake-hazards/lists-maps-and-statistics\n",
        "\n",
        "`-` cleaning"
      ],
      "id": "b59127b4-108d-4738-893e-c831db70454c"
    },
    {
      "cell_type": "code",
      "execution_count": 11,
      "metadata": {},
      "outputs": [],
      "source": [
        "df.Date[df.Date == '1975-02-23T02:58:41.000Z']"
      ],
      "id": "541e65b4-03f2-4769-8903-0fc47b531f49"
    },
    {
      "cell_type": "code",
      "execution_count": 12,
      "metadata": {},
      "outputs": [],
      "source": [
        "df.iloc[3378,0] = '02/03/1975'"
      ],
      "id": "a2db6279-985b-43ab-b4dc-2728e37cdd6d"
    },
    {
      "cell_type": "code",
      "execution_count": 13,
      "metadata": {},
      "outputs": [],
      "source": [
        "df.Date[df.Date == '1985-04-28T02:53:41.530Z']"
      ],
      "id": "28b9ba81-fb8a-47cc-8dcd-69f39005b33c"
    },
    {
      "cell_type": "code",
      "execution_count": 14,
      "metadata": {},
      "outputs": [],
      "source": [
        "df.iloc[7512,0] = '04/28/1985'"
      ],
      "id": "bd83b218-3138-41b7-a576-f2582054c6be"
    },
    {
      "cell_type": "code",
      "execution_count": 15,
      "metadata": {},
      "outputs": [],
      "source": [
        "df.Date[df.Date == '2011-03-13T02:23:34.520Z']"
      ],
      "id": "6b23a6e6-a32d-4ff0-9dd0-69a5f4c1cb79"
    },
    {
      "cell_type": "code",
      "execution_count": 16,
      "metadata": {},
      "outputs": [],
      "source": [
        "df.iloc[20650,0] = '03/13/2011'"
      ],
      "id": "08904adc-64f9-4183-99ac-e70d95e5ee53"
    },
    {
      "cell_type": "code",
      "execution_count": 17,
      "metadata": {},
      "outputs": [],
      "source": [
        "df= df.assign(Year=list(map(lambda x: x.split('/')[-1], df.Date))).iloc[:,1:]\n",
        "df"
      ],
      "id": "cf971ea4-b76a-436a-bfcf-660a5d158263"
    },
    {
      "cell_type": "code",
      "execution_count": 18,
      "metadata": {},
      "outputs": [],
      "source": [
        "df.Year = df.Year.astype(np.float64)"
      ],
      "id": "a9b79e85-cc0f-4052-a7be-8905d0640ed9"
    },
    {
      "cell_type": "code",
      "execution_count": 19,
      "metadata": {},
      "outputs": [],
      "source": [
        "df_korea = df_korea.assign(Year=list(map(lambda x: x.split('/')[0], df_korea.발생시각))).iloc[:,1:]\n",
        "df_korea = df_korea.assign(Latitude=list(map(lambda x: x.split(' ')[0], df_korea.위도))).iloc[:,[0,2,3,4]]\n",
        "df_korea = df_korea.assign(Longitude=list(map(lambda x: x.split(' ')[0], df_korea.경도))).iloc[:,[0,2,3,4]]"
      ],
      "id": "ee7a9c74-79ee-4d5f-a39c-0586a8ddad66"
    },
    {
      "cell_type": "code",
      "execution_count": 20,
      "metadata": {},
      "outputs": [],
      "source": [
        "df_global = df_global.assign(Year=list(map(lambda x: x.split('-')[0], df_global.time))).iloc[:,1:]"
      ],
      "id": "091eaeaf-9476-4b66-993f-11232f6ea97e"
    },
    {
      "cell_type": "code",
      "execution_count": 21,
      "metadata": {},
      "outputs": [],
      "source": [
        "df_korea.Year = df_korea.Year.astype(np.float64)\n",
        "df_korea.Latitude = df_korea.Latitude.astype(np.float64)\n",
        "df_korea.Longitude = df_korea.Longitude.astype(np.float64)\n",
        "df_global.Year = df_global.Year.astype(np.float64)"
      ],
      "id": "1ad48382-a66f-4c89-ad4f-7218899b50fd"
    },
    {
      "cell_type": "markdown",
      "metadata": {},
      "source": [
        "## define class"
      ],
      "id": "646ca4d0-461b-4aa4-a95a-570c1178f604"
    },
    {
      "cell_type": "code",
      "execution_count": 22,
      "metadata": {},
      "outputs": [],
      "source": [
        "class MooYaHo:\n",
        "    def __init__(self,df):\n",
        "        self.df = df \n",
        "        self.f = df.Magnitude.to_numpy()\n",
        "        self.year = df.Year.to_numpy()\n",
        "        self.lat = df.Latitude.to_numpy()\n",
        "        self.long = df.Longitude.to_numpy()\n",
        "        self.n = len(self.f)\n",
        "        \n",
        "        self.theta= None\n",
        "    def get_distance(self):\n",
        "        self.D = np.zeros([self.n,self.n])\n",
        "        locations = np.stack([self.lat, self.long],axis=1)\n",
        "        for i in tqdm.tqdm(range(self.n)):\n",
        "            for j in range(i,self.n): \n",
        "                self.D[i,j]=haversine(locations[i],locations[j])\n",
        "        self.D = self.D+self.D.T\n",
        "    def get_weightmatrix(self,theta=1,beta=0.5,kappa=4000):\n",
        "        self.theta = theta\n",
        "        dist = np.where(self.D<kappa,self.D,0)\n",
        "        self.W = np.exp(-(dist/self.theta)**2)\n",
        "\n",
        "    def _eigen(self):\n",
        "        d= self.W.sum(axis=1)\n",
        "        D= np.diag(d)\n",
        "        self.L = np.diag(1/np.sqrt(d)) @ (D-self.W) @ np.diag(1/np.sqrt(d))\n",
        "        self.lamb, self.Psi = np.linalg.eigh(self.L)\n",
        "        self.Lamb = np.diag(self.lamb)        \n",
        "    def fit(self,m):\n",
        "        self._eigen()\n",
        "        self.fhat = self.Psi[:,0:m]@self.Psi[:,0:m].T@self.f\n",
        "        self.df = self.df.assign(MagnitudeHat = self.fhat)\n",
        "        self.df = self.df.assign(Residual = self.df.Magnitude- self.df.MagnitudeHat)\n",
        "        plt.plot(self.f,'.')\n",
        "        plt.plot(self.fhat,'x')\n",
        "        \n",
        "    def vis(self,MagThresh=7,ResThresh=1):\n",
        "        fig = px.density_mapbox(self.df, \n",
        "                        lat='Latitude', \n",
        "                        lon='Longitude', \n",
        "                        z='Magnitude', \n",
        "                        radius=5,\n",
        "                        center=dict(lat=37, lon=160), \n",
        "                        zoom=1.5,\n",
        "                        height=900,\n",
        "                        opacity = 0.4,\n",
        "                        mapbox_style=\"stamen-terrain\",\n",
        "                        range_color=[-7,7])\n",
        "        fig.update_layout(margin={\"r\":0,\"t\":0,\"l\":0,\"b\":0})\n",
        "        fig.add_scattermapbox(lat = self.df.query('Magnitude > @MagThresh')['Latitude'],\n",
        "                      lon = self.df.query('Magnitude > @MagThresh')['Longitude'],\n",
        "                      text = self.df.query('Magnitude > @MagThresh')['Magnitude'],\n",
        "                      marker_size= 8,\n",
        "                      marker_color= 'red',\n",
        "                      opacity = 0.6\n",
        "                      )\n",
        "        fig.add_scattermapbox(lat = self.df.query('Residual**2 > @ResThresh')['Latitude'],\n",
        "                      lon = self.df.query('Residual**2 > @ResThresh')['Longitude'],\n",
        "                      text = self.df.query('Magnitude > @ResThresh')['Magnitude'],\n",
        "                      marker_size= 8,\n",
        "                      marker_color= 'blue',\n",
        "                      opacity = 0.5\n",
        "                      )\n",
        "        return HTML(fig.to_html(include_mathjax=False, config=dict({'scrollZoom':False})))\n",
        "    def visf(self):\n",
        "        fig = px.density_mapbox(self.df, \n",
        "                        lat='Latitude', \n",
        "                        lon='Longitude', \n",
        "                        z='Magnitude', \n",
        "                        radius=5,\n",
        "                        center=dict(lat=37, lon=160), \n",
        "                        zoom=1.5,\n",
        "                        height=900,\n",
        "                        opacity = 0.7,\n",
        "                        mapbox_style=\"stamen-terrain\",\n",
        "                        range_color=[-7,7])\n",
        "        fig.update_layout(margin={\"r\":0,\"t\":0,\"l\":0,\"b\":0})\n",
        "        return HTML(fig.to_html(include_mathjax=False, config=dict({'scrollZoom':False})))\n",
        "    def visfhat(self):\n",
        "        fig = px.density_mapbox(self.df, \n",
        "                        lat='Latitude', \n",
        "                        lon='Longitude', \n",
        "                        z='MagnitudeHat', \n",
        "                        radius=5,\n",
        "                        center=dict(lat=37, lon=160), \n",
        "                        zoom=1.5,\n",
        "                        height=900,\n",
        "                        opacity = 0.7,\n",
        "                        mapbox_style=\"stamen-terrain\",\n",
        "                        range_color=[-7,7])\n",
        "        fig.update_layout(margin={\"r\":0,\"t\":0,\"l\":0,\"b\":0})\n",
        "        return HTML(fig.to_html(include_mathjax=False, config=dict({'scrollZoom':False})))\n",
        "    def visres(self,MagThresh=7,ResThresh=1):\n",
        "        fig = px.density_mapbox(self.df, \n",
        "                        lat='Latitude', \n",
        "                        lon='Longitude', \n",
        "                        z=[0] * len(self.df), \n",
        "                        radius=5,\n",
        "                        center=dict(lat=37, lon=160), \n",
        "                        zoom=1.5,\n",
        "                        height=900,\n",
        "                        opacity = 0.7,\n",
        "                        mapbox_style=\"stamen-terrain\",\n",
        "                        range_color=[-7,7])\n",
        "        fig.update_layout(margin={\"r\":0,\"t\":0,\"l\":0,\"b\":0})\n",
        "        fig.add_scattermapbox(lat = self.df.query('Residual**2 > @ResThresh')['Latitude'],\n",
        "                      lon = self.df.query('Residual**2 > @ResThresh')['Longitude'],\n",
        "                      text = self.df.query('Magnitude > @ResThresh')['Magnitude'],\n",
        "                      marker_size= 8,\n",
        "                      marker_color= 'blue',\n",
        "                      opacity = 0.7\n",
        "                      )\n",
        "        return HTML(fig.to_html(include_mathjax=False, config=dict({'scrollZoom':False})))"
      ],
      "id": "9eb90362-e3b2-4b75-a6cd-6e858badf25d"
    },
    {
      "cell_type": "code",
      "execution_count": 23,
      "metadata": {},
      "outputs": [],
      "source": [
        "class MooYaHo2(MooYaHo): # ebayesthresh 기능추가\n",
        "    def fit2(self,ref=0.5): # fit with ebayesthresh\n",
        "        self._eigen()\n",
        "        self.fbar = self.Psi.T @ self.f # fbar := graph fourier transform of f\n",
        "        self.power = self.fbar**2 \n",
        "        ebayesthresh = importr('EbayesThresh').ebayesthresh\n",
        "        self.power_threshed=np.array(ebayesthresh(FloatVector(self.fbar**2)))\n",
        "        self.fbar_threshed = np.where(self.power_threshed>0,self.fbar,0)\n",
        "        self.fhat = self.Psi@self.fbar_threshed\n",
        "        self.df = self.df.assign(MagnitudeHat = self.fhat)\n",
        "        self.df = self.df.assign(Residual = self.df.Magnitude- self.df.MagnitudeHat)\n",
        "        self.con = np.where(self.df.Residual>0.7,1,0)\n",
        "        #plt.plot(self.f,'.')\n",
        "        #plt.plot(self.fhat,'x')\n",
        "\n",
        "#         fig, axs = plt.subplots(2,2,figsize=(16,10))\n",
        "\n",
        "#         axs[0,0].plot(self.f,'b')\n",
        "#         axs[0,0].set_title('Magnitude')\n",
        "#         axs[0,0].set_ylim([4.5,9])\n",
        "\n",
        "#         axs[0,1].plot(self.fhat,'k')\n",
        "#         axs[0,1].set_title('MagnitudeHat')\n",
        "#         axs[0,1].set_ylim([4.5,9])\n",
        "\n",
        "#         axs[1,0].plot(self.con,'r*')\n",
        "#         axs[1,0].set_title('Residual square')\n",
        "\n",
        "#         axs[1,1].plot(self.f,'b')\n",
        "#         axs[1,1].plot(self.fhat,'k')\n",
        "#         axs[1,1].plot(self.con,'r*')\n",
        "#         axs[1,1].set_title('Graph')\n",
        "#         axs[1,1].set_ylim([4.5,9])\n",
        "\n",
        "#         plt.tight_layout()\n",
        "#         plt.show()"
      ],
      "id": "76179669-24e3-4a07-b004-64ed37d31d6d"
    },
    {
      "cell_type": "code",
      "execution_count": 24,
      "metadata": {},
      "outputs": [],
      "source": [
        "class MooYaHo3(MooYaHo2):\n",
        "    def vis(self,MagThresh=7,ResThresh=1):\n",
        "        fig = px.density_mapbox(self.df, \n",
        "                        lat='Latitude', \n",
        "                        lon='Longitude', \n",
        "                        z='Magnitude', \n",
        "                        radius=5,\n",
        "                        center=dict(lat=37, lon=126), \n",
        "                        zoom=5.7,\n",
        "                        height=900,\n",
        "                        opacity = 0.3,\n",
        "                        mapbox_style=\"stamen-terrain\")\n",
        "        fig.update_layout(margin={\"r\":0,\"t\":0,\"l\":0,\"b\":0})\n",
        "        fig.add_scattermapbox(lat = self.df.query('Magnitude > @MagThresh')['Latitude'],\n",
        "                      lon = self.df.query('Magnitude > @MagThresh')['Longitude'],\n",
        "                      text = self.df.query('Magnitude > @MagThresh')['Magnitude'],\n",
        "                      marker_size= 8,\n",
        "                      marker_color= 'red',\n",
        "                      opacity = 0.5\n",
        "                      )\n",
        "        fig.add_scattermapbox(lat = self.df.query('Residual**2 > @ResThresh')['Latitude'],\n",
        "                      lon = self.df.query('Residual**2 > @ResThresh')['Longitude'],\n",
        "                      text = self.df.query('Magnitude > @ResThresh')['Magnitude'],\n",
        "                      marker_size= 8,\n",
        "                      marker_color= 'blue',\n",
        "                      opacity = 0.5\n",
        "                      )\n",
        "        return HTML(fig.to_html(include_mathjax=False, config=dict({'scrollZoom':False})))"
      ],
      "id": "e107ba94-c110-4e38-8e6e-b8d1b8427f66"
    },
    {
      "cell_type": "code",
      "execution_count": 25,
      "metadata": {},
      "outputs": [],
      "source": [
        "       ebayesthresh = importr('EbayesThresh').ebayesthresh"
      ],
      "id": "aeaa3d8f-b1d6-42fe-8734-4bdfbc364423"
    },
    {
      "cell_type": "markdown",
      "metadata": {},
      "source": [
        "## analysis_df_global(2010\\~2015)\n",
        "\n",
        "`-` make instance for analysis"
      ],
      "id": "64d0b872-c959-4dee-b064-1007f9ce2a6b"
    },
    {
      "cell_type": "code",
      "execution_count": 32,
      "metadata": {},
      "outputs": [],
      "source": [
        "moo_global=MooYaHo2(df_global.query(\"2010 <= Year < 2015\"))"
      ],
      "id": "b676fcdb-0225-4465-8f90-4fce4a02bd5d"
    },
    {
      "cell_type": "markdown",
      "metadata": {},
      "source": [
        "`-` get distance"
      ],
      "id": "761c2c5f-305c-4436-8c7a-dfd6e4c9a32f"
    },
    {
      "cell_type": "code",
      "execution_count": 33,
      "metadata": {},
      "outputs": [
        {
          "output_type": "stream",
          "name": "stderr",
          "text": [
            "100%|██████████| 10762/10762 [05:32<00:00, 32.36it/s] "
          ]
        }
      ],
      "source": [
        "moo_global.get_distance()"
      ],
      "id": "f644c734-cd31-4793-ade1-75def86138cf"
    },
    {
      "cell_type": "code",
      "execution_count": 34,
      "metadata": {},
      "outputs": [],
      "source": [
        "moo_global.D[moo_global.D>0].mean()"
      ],
      "id": "c33f474a-e081-41ee-a316-64a8672af474"
    },
    {
      "cell_type": "code",
      "execution_count": 35,
      "metadata": {},
      "outputs": [
        {
          "output_type": "display_data",
          "metadata": {},
          "data": {
            "image/png": "[encoded data removed]"
          }
        }
      ],
      "source": [
        "plt.hist(moo_global.D[moo_global.D>0])"
      ],
      "id": "83b7a392-5a3f-4f70-b472-216496a6da18"
    },
    {
      "cell_type": "markdown",
      "metadata": {},
      "source": [
        "`-` weight matrix"
      ],
      "id": "75141965-ccff-457f-a767-108ef03aa127"
    },
    {
      "cell_type": "code",
      "execution_count": 36,
      "metadata": {},
      "outputs": [],
      "source": [
        "moo_global.get_weightmatrix(theta=(8810.865423093777),kappa=2500) "
      ],
      "id": "bbfd7cad-a7c9-4e99-bb87-1e1930ee0b10"
    },
    {
      "cell_type": "markdown",
      "metadata": {},
      "source": [
        "`-` fit"
      ],
      "id": "7fbb1c76-5ff2-4ad3-b3ee-43e6d8897e44"
    },
    {
      "cell_type": "code",
      "execution_count": 37,
      "metadata": {},
      "outputs": [],
      "source": [
        "moo_global.fit2()"
      ],
      "id": "e17dbda8-0bdd-4d2a-bec8-c8fb6eba1be2"
    },
    {
      "cell_type": "code",
      "execution_count": 38,
      "metadata": {},
      "outputs": [],
      "source": [
        "moo_global.df.sort_values(\"Residual\",ascending=False).iloc[:40,:]"
      ],
      "id": "c10f5c55-3171-4945-974a-b3737a498fc1"
    },
    {
      "cell_type": "markdown",
      "metadata": {},
      "source": [
        "(2010\\~2014 시도) - 21번째 Ouest Department, Haiti 아이티 지진 2010년\n",
        "진도 7.0 - 24번째 Puchuncavi, Valparaíso, Chile 칠레 지진 2014년 진도\n",
        "6.4 - 28번째 Baoxing County, Yaan, Sichuan, China 중국 쓰촨성 지진\n",
        "2013년 진도 6.6\n",
        "\n",
        "(2010\\~2015 시도_결과 좋지 않음?!) - 23번째 2010년 West New Britain\n",
        "Province, Papua New Guinea 진도 7.3 - 24번째 2011년 Kuzawa Terayama,\n",
        "Tanagura, Higashishirakawa District, Fukushima 963-5671, Japan 진도\n",
        "6.6 - 29번째 2015년 Kishim, Afghanistan 진도 7.5\n",
        "\n",
        "`-` vis"
      ],
      "id": "9fb46fd5-fa13-483f-a3ef-bfd113a3872c"
    },
    {
      "cell_type": "code",
      "execution_count": 39,
      "metadata": {},
      "outputs": [],
      "source": [
        "#moo_global.visf()"
      ],
      "id": "9a32c8bf-0032-4eb3-811b-ff4d12c0ec66"
    },
    {
      "cell_type": "code",
      "execution_count": 40,
      "metadata": {},
      "outputs": [],
      "source": [
        "#moo_global.visfhat()"
      ],
      "id": "e1041e2a-1f37-4499-87ef-980c4deb3b70"
    },
    {
      "cell_type": "code",
      "execution_count": 41,
      "metadata": {},
      "outputs": [],
      "source": [
        "#moo_global.visres()"
      ],
      "id": "9c1621b6-5724-4571-8edc-0a27d83cdc59"
    },
    {
      "cell_type": "code",
      "execution_count": 42,
      "metadata": {},
      "outputs": [],
      "source": [
        "#moo_global.vis(MagThresh=6.9,ResThresh=0.5)"
      ],
      "id": "065d1d30-b792-4d5e-b7f0-5ac9ab900274"
    },
    {
      "cell_type": "markdown",
      "metadata": {},
      "source": [
        "------------------------------------------------------------------------\n",
        "\n",
        "## analysis_df_global(2015\\~2020)\n",
        "\n",
        "`-` make instance for analysis"
      ],
      "id": "721ba61c-adfa-4e68-a5ac-30fd955e3c90"
    },
    {
      "cell_type": "code",
      "execution_count": 43,
      "metadata": {},
      "outputs": [],
      "source": [
        "moo_global=MooYaHo2(df_global.query(\"2015 <= Year <= 2020\"))"
      ],
      "id": "7317b530-1fed-48f9-a92e-efbaed61552d"
    },
    {
      "cell_type": "markdown",
      "metadata": {},
      "source": [
        "`-` get distance"
      ],
      "id": "8ba322e0-fc72-4b9d-aa3b-b9e315e21716"
    },
    {
      "cell_type": "code",
      "execution_count": 44,
      "metadata": {},
      "outputs": [
        {
          "output_type": "stream",
          "name": "stderr",
          "text": [
            "100%|██████████| 11239/11239 [04:35<00:00, 40.84it/s] "
          ]
        }
      ],
      "source": [
        "moo_global.get_distance()"
      ],
      "id": "3f58bbef-cfe8-4000-a578-ad970ade51cd"
    },
    {
      "cell_type": "code",
      "execution_count": 45,
      "metadata": {},
      "outputs": [],
      "source": [
        "moo_global.D[moo_global.D>0].mean()"
      ],
      "id": "44945915-9757-484f-ba4d-a3147c924b8e"
    },
    {
      "cell_type": "code",
      "execution_count": 46,
      "metadata": {},
      "outputs": [
        {
          "output_type": "display_data",
          "metadata": {},
          "data": {
            "image/png": "[encoded data removed]"
          }
        }
      ],
      "source": [
        "plt.hist(moo_global.D[moo_global.D>0])"
      ],
      "id": "3d925e38-9325-4814-85dc-34bbfbd682a2"
    },
    {
      "cell_type": "markdown",
      "metadata": {},
      "source": [
        "`-` weight matrix"
      ],
      "id": "d53da15b-9410-4649-b902-31855c7e9845"
    },
    {
      "cell_type": "code",
      "execution_count": 47,
      "metadata": {},
      "outputs": [],
      "source": [
        "moo_global.get_weightmatrix(theta=(8814.318793468068),kappa=2500) "
      ],
      "id": "360a4b1b-b69a-460d-ad98-0c0307a0bde9"
    },
    {
      "cell_type": "markdown",
      "metadata": {},
      "source": [
        "`-` fit"
      ],
      "id": "d2bd852a-98e9-4607-8d96-d0eab95e5df0"
    },
    {
      "cell_type": "code",
      "execution_count": 48,
      "metadata": {},
      "outputs": [],
      "source": [
        "moo_global.fit2()"
      ],
      "id": "94654b44-177b-408d-b35e-26854479d80f"
    },
    {
      "cell_type": "code",
      "execution_count": 49,
      "metadata": {},
      "outputs": [],
      "source": [
        "moo_global.df.sort_values(\"Residual\",ascending=False).iloc[:30,:]"
      ],
      "id": "0280de47-fa6e-4be6-bb48-3e3343da93c2"
    },
    {
      "cell_type": "markdown",
      "metadata": {},
      "source": [
        "바다 아닌 거 - 8번째 2016년 Rotherham, New Zealand 뉴질랜드 카이코우라\n",
        "지진 진도 7.8 - 9번째 2015년 Langkuru Utara, Pureman, Alor Regency, East\n",
        "Nusa Tenggara, Indonesia 수마트라 진도 6.5 - 15번째 2018년 Hela\n",
        "Province, Papua New Guinea 파푸아뉴기니 진도 7.5 - 20번째 2015년\n",
        "Kalinchok, Nepal 네팔 진도 7.3 - 26번째 2019년 Coquimbo, Chile 칠레\n",
        "코킴보주 진도 6.7\n",
        "\n",
        "`-` vis"
      ],
      "id": "45dcec29-070a-44b2-bb0c-139f57e67de1"
    },
    {
      "cell_type": "code",
      "execution_count": 50,
      "metadata": {},
      "outputs": [],
      "source": [
        "#moo_global.vis(MagThresh=7,ResThresh=0.3)"
      ],
      "id": "f164935b-b5e7-4d7e-99a8-7ef74b02d4fb"
    },
    {
      "cell_type": "markdown",
      "metadata": {},
      "source": [
        "------------------------------------------------------------------------"
      ],
      "id": "fd73a909-9200-425e-a527-7a9eb8db8b55"
    },
    {
      "cell_type": "code",
      "execution_count": null,
      "metadata": {},
      "outputs": [],
      "source": [
        "pd.read_html('https://en.wikipedia.org/wiki/Lists_of_21st-century_earthquakes',encoding='utf-8')[0].query('Magnitude<=7')# List of deadliest earthquakes"
      ],
      "id": "2a285f6c-b1fa-4258-bfe1-6248b8b84362"
    },
    {
      "cell_type": "code",
      "execution_count": null,
      "metadata": {},
      "outputs": [],
      "source": [
        "pd.read_html('https://en.wikipedia.org/wiki/Lists_of_21st-century_earthquakes',encoding='utf-8')[3] # Deadliest earthquakes by year"
      ],
      "id": "df5699c0-cb37-407d-a52e-cf516328c781"
    },
    {
      "cell_type": "markdown",
      "metadata": {},
      "source": [
        "------------------------------------------------------------------------"
      ],
      "id": "f0b4f573-66aa-4000-9817-1750b61ca960"
    },
    {
      "cell_type": "code",
      "execution_count": 52,
      "metadata": {},
      "outputs": [],
      "source": [
        "class eachlocation(MooYaHo2):\n",
        "    def haiti(self,MagThresh=7,ResThresh=1,adjzoom=5,adjmarkersize = 40):\n",
        "        fig = px.density_mapbox(self.df, \n",
        "                        lat='Latitude', \n",
        "                        lon='Longitude', \n",
        "                        z='Magnitude', \n",
        "                        radius=15,\n",
        "                        center=dict(lat=18.4430, lon=-72.5710), \n",
        "                        zoom= adjzoom,\n",
        "                        height=900,\n",
        "                        opacity = 0.8,\n",
        "                        mapbox_style=\"stamen-terrain\",\n",
        "                        range_color=[-3,3])\n",
        "        fig.update_layout(margin={\"r\":0,\"t\":0,\"l\":0,\"b\":0})\n",
        "        fig.add_scattermapbox(lat = self.df.query('Magnitude > @MagThresh')['Latitude'],\n",
        "                      lon = self.df.query('Magnitude > @MagThresh')['Longitude'],\n",
        "                      text = self.df.query('Magnitude > @MagThresh')['Magnitude'],\n",
        "                      marker_size= 5,\n",
        "                      marker_color= 'blue',\n",
        "                      opacity = 0.1\n",
        "                      )\n",
        "        fig.add_scattermapbox(lat = self.df.query('Residual**2 > @ResThresh')['Latitude'],\n",
        "                      lon = self.df.query('Residual**2 > @ResThresh')['Longitude'],\n",
        "                      text = self.df.query('Magnitude > @ResThresh')['Magnitude'],\n",
        "                      marker_size= adjmarkersize,\n",
        "                      marker_color= 'red',\n",
        "                      opacity = 0.8\n",
        "                      )\n",
        "        fig.add_trace(go.Scattermapbox(\n",
        "                    lat=self.df.query('Residual**2 > @ResThresh')['Latitude'],\n",
        "                    lon=self.df.query('Residual**2 > @ResThresh')['Longitude'],\n",
        "                    mode='markers',\n",
        "                    marker=go.scattermapbox.Marker(\n",
        "                        size=20,\n",
        "                        color='rgb(255, 255, 255)',\n",
        "                        opacity=0.4\n",
        "                    )\n",
        "                ))\n",
        "        return fig \n",
        "    def lquique(self,MagThresh=7,ResThresh=1,adjzoom=5, adjmarkersize= 40):\n",
        "        fig = px.density_mapbox(self.df, \n",
        "                        lat='Latitude', \n",
        "                        lon='Longitude', \n",
        "                        z='Magnitude', \n",
        "                        radius=15,\n",
        "                        center=dict(lat=-32.6953, lon=-71.4416), \n",
        "                        zoom=adjzoom,\n",
        "                        height=900,\n",
        "                        opacity = 0.8,\n",
        "                        mapbox_style=\"stamen-terrain\",\n",
        "                        range_color=[-7,7])\n",
        "        fig.update_layout(margin={\"r\":0,\"t\":0,\"l\":0,\"b\":0})\n",
        "        fig.add_scattermapbox(lat = self.df.query('Magnitude > @MagThresh')['Latitude'],\n",
        "                      lon = self.df.query('Magnitude > @MagThresh')['Longitude'],\n",
        "                      text = self.df.query('Magnitude > @MagThresh')['Magnitude'],\n",
        "                      marker_size= 5,\n",
        "                      marker_color= 'blue',\n",
        "                      opacity = 0.1\n",
        "                      )\n",
        "        fig.add_scattermapbox(lat = self.df.query('Residual**2 > @ResThresh')['Latitude'],\n",
        "                      lon = self.df.query('Residual**2 > @ResThresh')['Longitude'],\n",
        "                      text = self.df.query('Magnitude > @ResThresh')['Magnitude'],\n",
        "                      marker_size= adjmarkersize,\n",
        "                      marker_color= 'red',\n",
        "                      opacity = 0.8\n",
        "                      )\n",
        "        fig.add_trace(go.Scattermapbox(\n",
        "                    lat=self.df.query('Residual**2 > @ResThresh')['Latitude'],\n",
        "                    lon=self.df.query('Residual**2 > @ResThresh')['Longitude'],\n",
        "                    mode='markers',\n",
        "                    marker=go.scattermapbox.Marker(\n",
        "                        size=20,\n",
        "                        color='rgb(255, 255, 255)',\n",
        "                        opacity=0.8\n",
        "                    )\n",
        "                ))\n",
        "        return fig \n",
        "    def sichuan(self,MagThresh=7,ResThresh=1,adjzoom=5,adjmarkersize=40):\n",
        "        fig = px.density_mapbox(self.df, \n",
        "                        lat='Latitude', \n",
        "                        lon='Longitude', \n",
        "                        z='Magnitude', \n",
        "                        radius=15,\n",
        "                        center=dict(lat=30.3080, lon=102.8880), \n",
        "                        zoom=adjzoom,\n",
        "                        height=900,\n",
        "                        opacity = 0.6,\n",
        "                        mapbox_style=\"stamen-terrain\",\n",
        "                        range_color=[-7,7])\n",
        "        fig.update_layout(margin={\"r\":0,\"t\":0,\"l\":0,\"b\":0})\n",
        "        fig.add_scattermapbox(lat = self.df.query('Magnitude > @MagThresh')['Latitude'],\n",
        "                      lon = self.df.query('Magnitude > @MagThresh')['Longitude'],\n",
        "                      text = self.df.query('Magnitude > @MagThresh')['Magnitude'],\n",
        "                      marker_size= 5,\n",
        "                      marker_color= 'blue',\n",
        "                      opacity = 0.1\n",
        "                      )\n",
        "        fig.add_scattermapbox(lat = self.df.query('Residual**2 > @ResThresh')['Latitude'],\n",
        "                      lon = self.df.query('Residual**2 > @ResThresh')['Longitude'],\n",
        "                      text = self.df.query('Magnitude > @ResThresh')['Magnitude'],\n",
        "                      marker_size= adjmarkersize,\n",
        "                      marker_color= 'red',\n",
        "                      opacity = 0.8\n",
        "                      )\n",
        "        fig.add_trace(go.Scattermapbox(\n",
        "                    lat=self.df.query('Residual**2 > @ResThresh')['Latitude'],\n",
        "                    lon=self.df.query('Residual**2 > @ResThresh')['Longitude'],\n",
        "                    mode='markers',\n",
        "                    marker=go.scattermapbox.Marker(\n",
        "                        size=20,\n",
        "                        color='rgb(255, 255, 255)',\n",
        "                        opacity=0.8\n",
        "                    )\n",
        "                ))\n",
        "        return fig "
      ],
      "id": "9da12014-b155-4357-88c5-eed88260d1ab"
    },
    {
      "cell_type": "code",
      "execution_count": 53,
      "metadata": {},
      "outputs": [],
      "source": [
        "each_location=eachlocation(df_global.query(\"2010 <= Year < 2015\"))"
      ],
      "id": "74ef54a9-2d88-4195-967c-23d4ef1246e1"
    },
    {
      "cell_type": "markdown",
      "metadata": {},
      "source": [
        "`-` get distance"
      ],
      "id": "3facd9f0-b53f-4bc4-b642-3bf94f2eabf7"
    },
    {
      "cell_type": "code",
      "execution_count": 54,
      "metadata": {},
      "outputs": [
        {
          "output_type": "stream",
          "name": "stderr",
          "text": [
            "100%|██████████| 12498/12498 [05:55<00:00, 35.16it/s] "
          ]
        }
      ],
      "source": [
        "each_location.get_distance()"
      ],
      "id": "2008645e-f74c-4704-9ed2-113e6d697099"
    },
    {
      "cell_type": "code",
      "execution_count": 55,
      "metadata": {},
      "outputs": [],
      "source": [
        "each_location.D[each_location.D>0].mean()"
      ],
      "id": "bca26a28-3ffa-42ad-b3d6-ae8d6584c565"
    },
    {
      "cell_type": "code",
      "execution_count": 56,
      "metadata": {},
      "outputs": [
        {
          "output_type": "display_data",
          "metadata": {},
          "data": {
            "image/png": "[encoded data removed]"
          }
        }
      ],
      "source": [
        "plt.hist(each_location.D[each_location.D>0])"
      ],
      "id": "2d795d6b-21ba-46a8-bfcb-40f1734e74d1"
    },
    {
      "cell_type": "markdown",
      "metadata": {},
      "source": [
        "`-` weight matrix"
      ],
      "id": "19e8ac1b-3b64-4b99-a476-67bfcbdce6fe"
    },
    {
      "cell_type": "code",
      "execution_count": 57,
      "metadata": {},
      "outputs": [],
      "source": [
        "each_location.get_weightmatrix(theta=(8810.865423093777),kappa=2500) "
      ],
      "id": "5182d2ee-8ef2-49d1-a598-42a6e7384442"
    },
    {
      "cell_type": "markdown",
      "metadata": {},
      "source": [
        "`-` fit"
      ],
      "id": "69bc1357-234f-4d96-8f93-63567f46d33a"
    },
    {
      "cell_type": "code",
      "execution_count": 58,
      "metadata": {},
      "outputs": [],
      "source": [
        "each_location.fit2()"
      ],
      "id": "387e51d8-f257-4ba1-a92a-67794fffcd2a"
    },
    {
      "cell_type": "code",
      "execution_count": 59,
      "metadata": {
        "tags": []
      },
      "outputs": [],
      "source": [
        "each_location.haiti(MagThresh=6.9,ResThresh=0.5)"
      ],
      "id": "c5ab39b5-0dc0-4fd7-9839-f49e8c2dfdbc"
    },
    {
      "cell_type": "code",
      "execution_count": 60,
      "metadata": {
        "tags": []
      },
      "outputs": [],
      "source": [
        "each_location.lquique(MagThresh=8,ResThresh=0.4,adjzoom=4.3)"
      ],
      "id": "43c57407-a7e9-49cc-af8d-6b0d3400edaa"
    },
    {
      "cell_type": "code",
      "execution_count": 61,
      "metadata": {},
      "outputs": [],
      "source": [
        "each_location.sichuan(MagThresh=6.5,ResThresh=0.4)"
      ],
      "id": "4681a66a-2db8-4d2c-a97a-d6816dc469fc"
    },
    {
      "cell_type": "markdown",
      "metadata": {},
      "source": [
        "------------------------------------------------------------------------\n",
        "\n",
        "## 칠레"
      ],
      "id": "f61d3dcc-c494-47b3-9de4-07cf52a29df9"
    },
    {
      "cell_type": "code",
      "execution_count": 62,
      "metadata": {},
      "outputs": [],
      "source": [
        "df_chile_ex= pd.concat([pd.read_csv('05_10.csv'),pd.read_csv('10_15.csv')]).iloc[:,[0,1,2,4]].rename(columns={'latitude':'Latitude','longitude':'Longitude','mag':'Magnitude'}).reset_index().iloc[:,1:]"
      ],
      "id": "b4b5c507-2bf4-42e1-91ca-f0910537dedd"
    },
    {
      "cell_type": "code",
      "execution_count": 63,
      "metadata": {},
      "outputs": [],
      "source": [
        "df_chile = df_chile_ex.assign(Year=list(map(lambda x: x.split('-')[0], df_chile_ex.time))).iloc[:,1:]"
      ],
      "id": "8f771578-a2d9-4b96-a10b-cb0574d0afeb"
    },
    {
      "cell_type": "code",
      "execution_count": 64,
      "metadata": {},
      "outputs": [],
      "source": [
        "df_chile = df_chile.assign(Month=list(map(lambda x: x.split('-')[1], df_chile_ex.time)))"
      ],
      "id": "6f127a10-98a4-4248-b1d9-ceb0b00e2294"
    },
    {
      "cell_type": "code",
      "execution_count": 65,
      "metadata": {},
      "outputs": [],
      "source": [
        "df_chile.Year = df_chile.Year.astype(np.float64)\n",
        "df_chile.Month = df_chile.Month.astype(np.float64)"
      ],
      "id": "9b924980-e895-4b96-9c0f-682cc5ce3d06"
    },
    {
      "cell_type": "code",
      "execution_count": 66,
      "metadata": {},
      "outputs": [],
      "source": [
        "chile_location=eachlocation(df_chile.query(\"2010 <= Year < 2015\"))"
      ],
      "id": "eab7586c-88b5-4cda-84e6-874e8e14f260"
    },
    {
      "cell_type": "code",
      "execution_count": 67,
      "metadata": {},
      "outputs": [
        {
          "output_type": "stream",
          "name": "stderr",
          "text": [
            "100%|██████████| 12498/12498 [06:28<00:00, 32.19it/s] "
          ]
        }
      ],
      "source": [
        "chile_location.get_distance()"
      ],
      "id": "44cdc800-1e06-4551-b382-d3b1438c3ee2"
    },
    {
      "cell_type": "code",
      "execution_count": 68,
      "metadata": {},
      "outputs": [],
      "source": [
        "chile_location.get_weightmatrix(theta=(chile_location.D[chile_location.D>0].mean()),kappa=2500) "
      ],
      "id": "e47752e3-6ac5-4d42-9aae-033ba0834ed8"
    },
    {
      "cell_type": "code",
      "execution_count": 69,
      "metadata": {},
      "outputs": [],
      "source": [
        "chile_location.fit2()"
      ],
      "id": "876b4fcd-aa37-4e32-9a06-30cfb77a3209"
    },
    {
      "cell_type": "markdown",
      "metadata": {},
      "source": [
        "아이티"
      ],
      "id": "4b5be3d2-ce10-4918-9e3b-cd402699610b"
    },
    {
      "cell_type": "code",
      "execution_count": 70,
      "metadata": {},
      "outputs": [],
      "source": [
        "chile_location.df.assign(Residual2 = chile_location.df.Residual**2).reset_index().iloc[2324:2330,:]"
      ],
      "id": "dc81c983-e665-430a-b1d5-7fdfce6c032d"
    },
    {
      "cell_type": "markdown",
      "metadata": {},
      "source": [
        "칠레"
      ],
      "id": "6cd2090e-35f7-4519-b03b-66dd2a553045"
    },
    {
      "cell_type": "code",
      "execution_count": 71,
      "metadata": {},
      "outputs": [],
      "source": [
        "chile_location.df.assign(Residual2 = chile_location.df.Residual**2).reset_index().query(\"-56.5 < Latitude & Latitude <-17.4 & -81.5 < Longitude & Longitude < -61.5 & Year == 2014 & Month == 8\")"
      ],
      "id": "1b3eab73-8772-47ab-b754-be31c1ec35ef"
    },
    {
      "cell_type": "markdown",
      "metadata": {},
      "source": [
        "중국"
      ],
      "id": "e8c0c50c-a260-4dfa-825a-16e52f0a1249"
    },
    {
      "cell_type": "code",
      "execution_count": 72,
      "metadata": {},
      "outputs": [],
      "source": [
        "chile_location.df.assign(Residual2 = chile_location.df.Residual**2).reset_index().iloc[5136:5142,:]"
      ],
      "id": "c1f3e91e-3ad7-4ffd-b96e-5a2ebbd8bae3"
    }
  ],
  "nbformat": 4,
  "nbformat_minor": 5,
  "metadata": {
    "kernelspec": {
      "name": "python3",
      "display_name": "Python 3",
      "language": "python"
    },
    "language_info": {
      "name": "python",
      "codemirror_mode": {
        "name": "ipython",
        "version": "3"
      },
      "file_extension": ".py",
      "mimetype": "text/x-python",
      "nbconvert_exporter": "python",
      "pygments_lexer": "ipython3",
      "version": "3.8.0"
    }
  }
}
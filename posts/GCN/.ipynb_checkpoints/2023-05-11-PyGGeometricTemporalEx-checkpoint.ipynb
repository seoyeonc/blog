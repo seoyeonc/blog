{
 "cells": [
  {
   "cell_type": "raw",
   "id": "03e1f296-0fc7-4024-bf0f-d7622ec68cb4",
   "metadata": {
    "id": "cac470df-29e7-4148-9bbd-d8b9a32fa570",
    "tags": []
   },
   "source": [
    "---\n",
    "title: \"PyG Geometric Temporal Examples\"\n",
    "author: \"SEOYEON CHOI\"\n",
    "date: \"2023-05-11\"\n",
    "categories:\n",
    "  - PyG\n",
    "---"
   ]
  },
  {
   "cell_type": "markdown",
   "id": "d0cec30e-150f-4770-a87d-c8cb5f28056f",
   "metadata": {
    "tags": []
   },
   "source": [
    "> Examples"
   ]
  },
  {
   "cell_type": "markdown",
   "id": "6e997d9f-1b3b-4718-b08f-fde8ead6c807",
   "metadata": {},
   "source": [
    "Refer: https://github.com/benedekrozemberczki/pytorch_geometric_temporal/tree/master/examples/recurrent"
   ]
  },
  {
   "cell_type": "markdown",
   "id": "aff2665f-047d-4881-a8f5-a82bf4e5c981",
   "metadata": {},
   "source": [
    "# GConvGRU(추가함)"
   ]
  },
  {
   "cell_type": "code",
   "execution_count": 5,
   "id": "ec499a62-aa3c-44b3-ad83-2c9bc605b770",
   "metadata": {},
   "outputs": [],
   "source": [
    "from torch_geometric_temporal.dataset import ChickenpoxDatasetLoader\n",
    "from torch_geometric_temporal.signal import temporal_signal_split\n",
    "\n",
    "loader = ChickenpoxDatasetLoader()\n",
    "\n",
    "dataset = loader.get_dataset()\n",
    "\n",
    "train_dataset, test_dataset = temporal_signal_split(dataset, train_ratio=0.2)"
   ]
  },
  {
   "cell_type": "code",
   "execution_count": 6,
   "id": "a2730d85-8256-416c-b8cb-4834e3c4b72f",
   "metadata": {},
   "outputs": [],
   "source": [
    "import torch\n",
    "import torch.nn.functional as F\n",
    "from torch_geometric_temporal.nn.recurrent import DCRNN\n",
    "\n",
    "class RecurrentGCN(torch.nn.Module):\n",
    "    def __init__(self, node_features):\n",
    "        super(RecurrentGCN, self).__init__()\n",
    "        self.recurrent = DCRNN(node_features, 32, 1)\n",
    "        self.linear = torch.nn.Linear(32, 1)\n",
    "\n",
    "    def forward(self, x, edge_index, edge_weight):\n",
    "        h = self.recurrent(x, edge_index, edge_weight)\n",
    "        h = F.relu(h)\n",
    "        h = self.linear(h)\n",
    "        return h"
   ]
  },
  {
   "cell_type": "code",
   "execution_count": null,
   "id": "b3359b82-342c-402c-a49b-c33892572a26",
   "metadata": {},
   "outputs": [],
   "source": [
    "from tqdm import tqdm\n",
    "\n",
    "model = RecurrentGCN(node_features = 4)\n",
    "\n",
    "optimizer = torch.optim.Adam(model.parameters(), lr=0.01)\n",
    "\n",
    "model.train()\n",
    "\n",
    "for epoch in tqdm(range(200)):\n",
    "    cost = 0\n",
    "    for time, snapshot in enumerate(train_dataset):\n",
    "        y_hat = model(snapshot.x, snapshot.edge_index, snapshot.edge_attr).reshape(-1)\n",
    "        cost = cost + torch.mean((y_hat-snapshot.y)**2)\n",
    "        print(y_hat.shape,snapshot.y.shape)\n",
    "    cost = cost / (time+1)\n",
    "    cost.backward()\n",
    "    optimizer.step()\n",
    "    optimizer.zero_grad()"
   ]
  },
  {
   "cell_type": "code",
   "execution_count": null,
   "id": "6bfb0a32-bc0a-4dc1-96a4-185a776c4668",
   "metadata": {},
   "outputs": [],
   "source": [
    "model.eval()\n",
    "cost = 0\n",
    "for time, snapshot in enumerate(test_dataset):\n",
    "    y_hat = model(snapshot.x, snapshot.edge_index, snapshot.edge_attr)\n",
    "    cost = cost + torch.mean((y_hat-snapshot.y)**2)\n",
    "cost = cost / (time+1)\n",
    "cost = cost.item()\n",
    "print(\"MSE: {:.4f}\".format(cost))"
   ]
  },
  {
   "cell_type": "markdown",
   "id": "f0de6d0a-f525-4da1-8597-4e39d7881d80",
   "metadata": {},
   "source": [
    "# A3GCN2"
   ]
  },
  {
   "cell_type": "code",
   "execution_count": 5,
   "id": "67a6f8d6-9449-43a0-bd87-b99275dd11e4",
   "metadata": {},
   "outputs": [],
   "source": [
    "import numpy as np\n",
    "import matplotlib.pyplot as plt\n",
    "import seaborn as sns"
   ]
  },
  {
   "cell_type": "code",
   "execution_count": 6,
   "id": "3af11425-1e4b-4023-becb-2f88ad6824b2",
   "metadata": {},
   "outputs": [],
   "source": [
    "import torch\n",
    "import torch.nn.functional as F\n",
    "from torch_geometric.nn import GCNConv\n",
    "from torch_geometric_temporal.nn.recurrent import A3TGCN2"
   ]
  },
  {
   "cell_type": "code",
   "execution_count": 3,
   "id": "ffda4495-995b-41be-b487-222222c7ce31",
   "metadata": {},
   "outputs": [],
   "source": [
    "# GPU support\n",
    "DEVICE = torch.device('cuda') # cuda\n",
    "shuffle=True\n",
    "batch_size = 32"
   ]
  },
  {
   "cell_type": "code",
   "execution_count": 4,
   "id": "1c70b1d8-d848-41d6-b1ef-80b9abc62a8b",
   "metadata": {},
   "outputs": [],
   "source": [
    "#Dataset\n",
    "#Traffic forecasting dataset based on Los Angeles Metropolitan traffic\n",
    "#207 loop detectors on highways\n",
    "#March 2012 - June 2012\n",
    "#From the paper: Diffusion Convolutional Recurrent Neural Network"
   ]
  },
  {
   "cell_type": "code",
   "execution_count": 10,
   "id": "5fea15a5-ce43-46e4-a60b-f2f252808012",
   "metadata": {},
   "outputs": [],
   "source": [
    "from torch_geometric_temporal.dataset import METRLADatasetLoader\n",
    "loader = METRLADatasetLoader()\n",
    "dataset = loader.get_dataset(num_timesteps_in=12, num_timesteps_out=12)"
   ]
  },
  {
   "cell_type": "code",
   "execution_count": 11,
   "id": "7b86e7c7-f450-43fe-81cd-965f816c5c76",
   "metadata": {},
   "outputs": [
    {
     "data": {
      "text/plain": [
       "[<matplotlib.lines.Line2D at 0x7f92911572b0>]"
      ]
     },
     "execution_count": 11,
     "metadata": {},
     "output_type": "execute_result"
    },
    {
     "data": {
      "image/png": "[encoded data removed]",
      "text/plain": [
       "<Figure size 432x288 with 1 Axes>"
      ]
     },
     "metadata": {
      "needs_background": "light"
     },
     "output_type": "display_data"
    }
   ],
   "source": [
    "# Visualize traffic over time\n",
    "sensor_number = 1\n",
    "hours = 24\n",
    "sensor_labels = [bucket.y[sensor_number][0].item() for bucket in list(dataset)[:hours]]\n",
    "plt.plot(sensor_labels)"
   ]
  },
  {
   "cell_type": "code",
   "execution_count": 12,
   "id": "39ae6b62-5a7a-415a-a8f9-6d924b79d3f9",
   "metadata": {},
   "outputs": [],
   "source": [
    "# Train test split \n",
    "\n",
    "from torch_geometric_temporal.signal import temporal_signal_split\n",
    "train_dataset, test_dataset = temporal_signal_split(dataset, train_ratio=0.8)\n"
   ]
  },
  {
   "cell_type": "code",
   "execution_count": 14,
   "id": "1f818c82-3495-4f5b-bbb6-36cbb426c567",
   "metadata": {},
   "outputs": [],
   "source": [
    "# Creating Dataloaders\n",
    "\n",
    "train_input = np.array(train_dataset.features) # (27399, 207, 2, 12)\n",
    "train_target = np.array(train_dataset.targets) # (27399, 207, 12)\n",
    "train_x_tensor = torch.from_numpy(train_input).type(torch.FloatTensor).to(DEVICE)  # (B, N, F, T)\n",
    "train_target_tensor = torch.from_numpy(train_target).type(torch.FloatTensor).to(DEVICE)  # (B, N, T)\n",
    "train_dataset_new = torch.utils.data.TensorDataset(train_x_tensor, train_target_tensor)\n",
    "train_loader = torch.utils.data.DataLoader(train_dataset_new, batch_size=batch_size, shuffle=shuffle,drop_last=True)"
   ]
  },
  {
   "cell_type": "code",
   "execution_count": 15,
   "id": "390628fc-2ec8-42b6-a87c-f6ea9ca6fe2e",
   "metadata": {},
   "outputs": [],
   "source": [
    "test_input = np.array(test_dataset.features) # (, 207, 2, 12)\n",
    "test_target = np.array(test_dataset.targets) # (, 207, 12)\n",
    "test_x_tensor = torch.from_numpy(test_input).type(torch.FloatTensor).to(DEVICE)  # (B, N, F, T)\n",
    "test_target_tensor = torch.from_numpy(test_target).type(torch.FloatTensor).to(DEVICE)  # (B, N, T)\n",
    "test_dataset_new = torch.utils.data.TensorDataset(test_x_tensor, test_target_tensor)\n",
    "test_loader = torch.utils.data.DataLoader(test_dataset_new, batch_size=batch_size, shuffle=shuffle,drop_last=True)"
   ]
  },
  {
   "cell_type": "code",
   "execution_count": 16,
   "id": "62c8c5ed-6fa1-4baa-a483-af234264a230",
   "metadata": {},
   "outputs": [],
   "source": [
    "# Making the model \n",
    "class TemporalGNN(torch.nn.Module):\n",
    "    def __init__(self, node_features, periods, batch_size):\n",
    "        super(TemporalGNN, self).__init__()\n",
    "        # Attention Temporal Graph Convolutional Cell\n",
    "        self.tgnn = A3TGCN2(in_channels=node_features,  out_channels=32, periods=periods,batch_size=batch_size) # node_features=2, periods=12\n",
    "        # Equals single-shot prediction\n",
    "        self.linear = torch.nn.Linear(32, periods)\n",
    "\n",
    "    def forward(self, x, edge_index):\n",
    "        \"\"\"\n",
    "        x = Node features for T time steps\n",
    "        edge_index = Graph edge indices\n",
    "        \"\"\"\n",
    "        h = self.tgnn(x, edge_index) # x [b, 207, 2, 12]  returns h [b, 207, 12]\n",
    "        h = F.relu(h) \n",
    "        h = self.linear(h)\n",
    "        return h"
   ]
  },
  {
   "cell_type": "code",
   "execution_count": 17,
   "id": "05bcb490-e725-4fe8-a0a2-bfbf686d6b3b",
   "metadata": {},
   "outputs": [
    {
     "data": {
      "text/plain": [
       "TemporalGNN(\n",
       "  (tgnn): A3TGCN2(\n",
       "    (_base_tgcn): TGCN2(\n",
       "      (conv_z): GCNConv(2, 32)\n",
       "      (linear_z): Linear(in_features=64, out_features=32, bias=True)\n",
       "      (conv_r): GCNConv(2, 32)\n",
       "      (linear_r): Linear(in_features=64, out_features=32, bias=True)\n",
       "      (conv_h): GCNConv(2, 32)\n",
       "      (linear_h): Linear(in_features=64, out_features=32, bias=True)\n",
       "    )\n",
       "  )\n",
       "  (linear): Linear(in_features=32, out_features=12, bias=True)\n",
       ")"
      ]
     },
     "execution_count": 17,
     "metadata": {},
     "output_type": "execute_result"
    }
   ],
   "source": [
    "TemporalGNN(node_features=2, periods=12, batch_size=2)"
   ]
  },
  {
   "cell_type": "code",
   "execution_count": 18,
   "id": "7083da69-da54-4c36-a585-ac3a7734fe1a",
   "metadata": {},
   "outputs": [],
   "source": [
    "# Create model and optimizers\n",
    "model = TemporalGNN(node_features=2, periods=12, batch_size=batch_size).to(DEVICE)\n",
    "optimizer = torch.optim.Adam(model.parameters(), lr=0.001)\n",
    "loss_fn = torch.nn.MSELoss()\n"
   ]
  },
  {
   "cell_type": "code",
   "execution_count": 19,
   "id": "ba78044d-d116-4310-a882-bc055775d33d",
   "metadata": {},
   "outputs": [
    {
     "name": "stdout",
     "output_type": "stream",
     "text": [
      "Net's state_dict:\n",
      "tgnn._attention \t torch.Size([12])\n",
      "tgnn._base_tgcn.conv_z.bias \t torch.Size([32])\n",
      "tgnn._base_tgcn.conv_z.lin.weight \t torch.Size([32, 2])\n",
      "tgnn._base_tgcn.linear_z.weight \t torch.Size([32, 64])\n",
      "tgnn._base_tgcn.linear_z.bias \t torch.Size([32])\n",
      "tgnn._base_tgcn.conv_r.bias \t torch.Size([32])\n",
      "tgnn._base_tgcn.conv_r.lin.weight \t torch.Size([32, 2])\n",
      "tgnn._base_tgcn.linear_r.weight \t torch.Size([32, 64])\n",
      "tgnn._base_tgcn.linear_r.bias \t torch.Size([32])\n",
      "tgnn._base_tgcn.conv_h.bias \t torch.Size([32])\n",
      "tgnn._base_tgcn.conv_h.lin.weight \t torch.Size([32, 2])\n",
      "tgnn._base_tgcn.linear_h.weight \t torch.Size([32, 64])\n",
      "tgnn._base_tgcn.linear_h.bias \t torch.Size([32])\n",
      "linear.weight \t torch.Size([12, 32])\n",
      "linear.bias \t torch.Size([12])\n",
      "Net's total params: 6936\n",
      "Optimizer's state_dict:\n",
      "state \t {}\n",
      "param_groups \t [{'lr': 0.001, 'betas': (0.9, 0.999), 'eps': 1e-08, 'weight_decay': 0, 'amsgrad': False, 'params': [0, 1, 2, 3, 4, 5, 6, 7, 8, 9, 10, 11, 12, 13, 14]}]\n"
     ]
    }
   ],
   "source": [
    "print('Net\\'s state_dict:')\n",
    "total_param = 0\n",
    "for param_tensor in model.state_dict():\n",
    "    print(param_tensor, '\\t', model.state_dict()[param_tensor].size())\n",
    "    total_param += np.prod(model.state_dict()[param_tensor].size())\n",
    "print('Net\\'s total params:', total_param)\n",
    "#--------------------------------------------------\n",
    "print('Optimizer\\'s state_dict:')  # If you notice here the Attention is a trainable parameter\n",
    "for var_name in optimizer.state_dict():\n",
    "    print(var_name, '\\t', optimizer.state_dict()[var_name])\n"
   ]
  },
  {
   "cell_type": "code",
   "execution_count": 20,
   "id": "61359e5c-5402-4bc4-a122-e75e14d6cd50",
   "metadata": {},
   "outputs": [],
   "source": [
    "# Loading the graph once because it's a static graph\n",
    "\n",
    "for snapshot in train_dataset:\n",
    "    static_edge_index = snapshot.edge_index.to(DEVICE)\n",
    "    break;\n"
   ]
  },
  {
   "cell_type": "code",
   "execution_count": 23,
   "id": "c05bdbe3-56af-431e-8451-bb78a1e76c26",
   "metadata": {},
   "outputs": [
    {
     "name": "stdout",
     "output_type": "stream",
     "text": [
      "0.44013768196105957\n",
      "0.44626042172312735\n",
      "0.4474838371078173\n",
      "0.44511159002780915\n",
      "0.4446671283841133\n",
      "0.4492054430147012\n",
      "0.4518048374993461\n",
      "0.4486549423262477\n",
      "Epoch 0 train RMSE: 0.4478\n",
      "0.45916826501488683\n",
      "0.451208501085639\n",
      "0.4479588058094184\n",
      "0.4489660017192364\n",
      "0.4470058409571648\n",
      "0.44722517212231955\n",
      "0.4471735526408468\n",
      "0.4478337676823139\n",
      "Epoch 1 train RMSE: 0.4471\n",
      "0.45132808953523634\n",
      "0.4424465082585812\n",
      "0.44844810595115026\n",
      "0.44880970306694506\n",
      "0.44570656085014343\n",
      "0.4443529421339432\n",
      "0.44464062641773905\n",
      "0.4452343595586717\n",
      "Epoch 2 train RMSE: 0.4465\n"
     ]
    }
   ],
   "source": [
    "# Training the model \n",
    "model.train()\n",
    "\n",
    "for epoch in range(3): # 30\n",
    "    step = 0\n",
    "    loss_list = []\n",
    "    for encoder_inputs, labels in train_loader:\n",
    "        y_hat = model(encoder_inputs, static_edge_index)         # Get model predictions\n",
    "        loss = loss_fn(y_hat, labels) # Mean squared error #loss = torch.mean((y_hat-labels)**2)  sqrt to change it to rmse\n",
    "        loss.backward()\n",
    "        optimizer.step()\n",
    "        optimizer.zero_grad()\n",
    "        step= step+ 1\n",
    "        loss_list.append(loss.item())\n",
    "        if step % 100 == 0 :\n",
    "            print(sum(loss_list)/len(loss_list))\n",
    "    print(\"Epoch {} train RMSE: {:.4f}\".format(epoch, sum(loss_list)/len(loss_list)))"
   ]
  },
  {
   "cell_type": "code",
   "execution_count": 24,
   "id": "00c28219-c489-47a9-b3b4-9663d55c3d28",
   "metadata": {},
   "outputs": [],
   "source": [
    "## Evaluation\n",
    "\n",
    "#- Lets get some sample predictions for a specific horizon (e.g. 288/12 = 24 hours)\n",
    "#- The model always gets one hour and needs to predict the next hour"
   ]
  },
  {
   "cell_type": "code",
   "execution_count": 25,
   "id": "e02602b3-60c9-4d66-b068-124aa77c5f95",
   "metadata": {},
   "outputs": [],
   "source": [
    "model.eval()\n",
    "step = 0\n",
    "# Store for analysis\n",
    "total_loss = []\n",
    "for encoder_inputs, labels in test_loader:\n",
    "    # Get model predictions\n",
    "    y_hat = model(encoder_inputs, static_edge_index)\n",
    "    # Mean squared error\n",
    "    loss = loss_fn(y_hat, labels)\n",
    "    total_loss.append(loss.item())\n",
    "    # Store for analysis below\n",
    "    #test_labels.append(labels)\n",
    "    #predictions.append(y_hat)"
   ]
  },
  {
   "cell_type": "code",
   "execution_count": 26,
   "id": "728f7630-b494-4b25-86b7-c402dd9df834",
   "metadata": {},
   "outputs": [
    {
     "name": "stdout",
     "output_type": "stream",
     "text": [
      "Test MSE: 0.5491\n"
     ]
    }
   ],
   "source": [
    "print(\"Test MSE: {:.4f}\".format(sum(total_loss)/len(total_loss)))"
   ]
  },
  {
   "cell_type": "code",
   "execution_count": 27,
   "id": "d9bdc8bc-a73a-4e61-abe0-9fb9cbba6a50",
   "metadata": {},
   "outputs": [],
   "source": [
    "### Visualization\n",
    "\n",
    "#- The further away the point in time is, the worse the predictions get\n",
    "#- Predictions shape: [num_data_points, num_sensors, num_timesteps]"
   ]
  },
  {
   "cell_type": "code",
   "execution_count": 28,
   "id": "49cdd40f-9110-4c3b-b2a5-ee5b19b1437a",
   "metadata": {},
   "outputs": [
    {
     "name": "stdout",
     "output_type": "stream",
     "text": [
      "Data points:, (32,)\n"
     ]
    }
   ],
   "source": [
    "sensor = 123\n",
    "timestep = 11 \n",
    "preds = np.asarray([pred[sensor][timestep].detach().cpu().numpy() for pred in y_hat])\n",
    "labs  = np.asarray([label[sensor][timestep].cpu().numpy() for label in labels])\n",
    "print(\"Data points:,\", preds.shape)"
   ]
  },
  {
   "cell_type": "code",
   "execution_count": 29,
   "id": "5b8ec9b4-f16b-4107-a687-269f5321698b",
   "metadata": {},
   "outputs": [
    {
     "data": {
      "text/plain": [
       "<AxesSubplot:>"
      ]
     },
     "execution_count": 29,
     "metadata": {},
     "output_type": "execute_result"
    },
    {
     "data": {
      "image/png": "[encoded data removed]",
      "text/plain": [
       "<Figure size 1440x360 with 1 Axes>"
      ]
     },
     "metadata": {
      "needs_background": "light"
     },
     "output_type": "display_data"
    }
   ],
   "source": [
    "plt.figure(figsize=(20,5))\n",
    "sns.lineplot(data=preds, label=\"pred\")\n",
    "sns.lineplot(data=labs, label=\"true\")"
   ]
  },
  {
   "cell_type": "markdown",
   "id": "52f6d162-eb4d-4101-8b98-ec21aa87e262",
   "metadata": {},
   "source": [
    "# A3GCN(cuda 문제)"
   ]
  },
  {
   "cell_type": "code",
   "execution_count": 7,
   "id": "4cc6f030-dc9b-4af2-aa03-713992709f4c",
   "metadata": {},
   "outputs": [],
   "source": [
    "try:\n",
    "    from tqdm import tqdm\n",
    "except ImportError:\n",
    "    def tqdm(iterable):\n",
    "        return iterable"
   ]
  },
  {
   "cell_type": "code",
   "execution_count": 8,
   "id": "3bd2c5bc-e4f5-4b0a-a447-724f45aade66",
   "metadata": {},
   "outputs": [],
   "source": [
    "import torch\n",
    "import torch.nn.functional as F\n",
    "from torch_geometric_temporal.nn.recurrent import A3TGCN"
   ]
  },
  {
   "cell_type": "code",
   "execution_count": 9,
   "id": "d6b7fdee-e7dc-439e-a839-dcafda01eaef",
   "metadata": {},
   "outputs": [],
   "source": [
    "from torch_geometric_temporal.dataset import ChickenpoxDatasetLoader\n",
    "from torch_geometric_temporal.signal import temporal_signal_split\n"
   ]
  },
  {
   "cell_type": "code",
   "execution_count": 10,
   "id": "99621551-1178-4dab-88b7-d302000fdd21",
   "metadata": {},
   "outputs": [],
   "source": [
    "loader = ChickenpoxDatasetLoader()\n",
    "\n",
    "dataset = loader.get_dataset()\n",
    "\n",
    "train_dataset, test_dataset = temporal_signal_split(dataset, train_ratio=0.2)\n"
   ]
  },
  {
   "cell_type": "code",
   "execution_count": 11,
   "id": "959a898f-1633-4f00-a640-6b37ea1bff3e",
   "metadata": {},
   "outputs": [],
   "source": [
    "class RecurrentGCN(torch.nn.Module):\n",
    "    def __init__(self, node_features, periods):\n",
    "        super(RecurrentGCN, self).__init__()\n",
    "        self.recurrent = A3TGCN(node_features, 32, periods)\n",
    "        self.linear = torch.nn.Linear(32, 1)\n",
    "\n",
    "    def forward(self, x, edge_index, edge_weight):\n",
    "        h = self.recurrent(x.to(\"cuda:0\").view(x.shape[0], 1, x.shape[1]), edge_index, edge_weight)\n",
    "        h = F.relu(h)\n",
    "        h = self.linear(h)\n",
    "        return h"
   ]
  },
  {
   "cell_type": "code",
   "execution_count": null,
   "id": "91d093fe-b796-4084-a512-73ff199ff630",
   "metadata": {},
   "outputs": [],
   "source": [
    "model = RecurrentGCN(node_features = 1, periods = 4)\n",
    "\n",
    "optimizer = torch.optim.Adam(model.parameters(), lr=0.01)\n",
    "\n",
    "model.train()\n",
    "\n",
    "for epoch in tqdm(range(50)):\n",
    "    cost = 0\n",
    "    for time, snapshot in enumerate(train_dataset):\n",
    "        y_hat = model(snapshot.x, snapshot.edge_index, snapshot.edge_attr)\n",
    "        cost = cost + torch.mean((y_hat-snapshot.y)**2)\n",
    "    cost = cost / (time+1)\n",
    "    cost.backward()\n",
    "    optimizer.step()\n",
    "    optimizer.zero_grad()"
   ]
  },
  {
   "cell_type": "code",
   "execution_count": null,
   "id": "ff71cfaf-6d11-4136-afa2-10d7a8058350",
   "metadata": {},
   "outputs": [],
   "source": [
    "model.eval()\n",
    "cost = 0\n",
    "for time, snapshot in enumerate(test_dataset):\n",
    "    y_hat = model(snapshot.x, snapshot.edge_index, snapshot.edge_attr)\n",
    "    cost = cost + torch.mean((y_hat-snapshot.y)**2)\n",
    "cost = cost / (time+1)\n",
    "cost = cost.item()\n",
    "print(\"MSE: {:.4f}\".format(cost))"
   ]
  },
  {
   "cell_type": "markdown",
   "id": "afe05f24-b844-4bed-b7a0-dedf8dc537ba",
   "metadata": {},
   "source": [
    "# AGCRN"
   ]
  },
  {
   "cell_type": "code",
   "execution_count": 45,
   "id": "5b7d9f86-4387-4bba-956a-c88eb236e761",
   "metadata": {},
   "outputs": [],
   "source": [
    "try:\n",
    "    from tqdm import tqdm\n",
    "except ImportError:\n",
    "    def tqdm(iterable):\n",
    "        return iterable"
   ]
  },
  {
   "cell_type": "code",
   "execution_count": 46,
   "id": "1e738c42-0762-4d0e-9574-be6f8b320575",
   "metadata": {},
   "outputs": [],
   "source": [
    "import torch\n",
    "import torch.nn.functional as F\n",
    "from torch_geometric_temporal.nn.recurrent import AGCRN\n",
    "\n",
    "from torch_geometric_temporal.dataset import ChickenpoxDatasetLoader\n",
    "from torch_geometric_temporal.signal import temporal_signal_split\n",
    "\n",
    "loader = ChickenpoxDatasetLoader()\n",
    "\n",
    "dataset = loader.get_dataset(lags=8)\n",
    "\n",
    "train_dataset, test_dataset = temporal_signal_split(dataset, train_ratio=0.2)"
   ]
  },
  {
   "cell_type": "code",
   "execution_count": 47,
   "id": "7f5335e8-e29b-4647-94e4-85144e4e8d23",
   "metadata": {},
   "outputs": [],
   "source": [
    "class RecurrentGCN(torch.nn.Module):\n",
    "    def __init__(self, node_features):\n",
    "        super(RecurrentGCN, self).__init__()\n",
    "        self.recurrent = AGCRN(number_of_nodes = 20,\n",
    "                              in_channels = node_features,\n",
    "                              out_channels = 2,\n",
    "                              K = 2,\n",
    "                              embedding_dimensions = 4)\n",
    "        self.linear = torch.nn.Linear(2, 1)\n",
    "\n",
    "    def forward(self, x, e, h):\n",
    "        h_0 = self.recurrent(x, e, h)\n",
    "        y = F.relu(h_0)\n",
    "        y = self.linear(y)\n",
    "        return y, h_0"
   ]
  },
  {
   "cell_type": "code",
   "execution_count": 48,
   "id": "d34afb38-958d-4ae7-a4a3-1fbb4b69777f",
   "metadata": {},
   "outputs": [
    {
     "name": "stderr",
     "output_type": "stream",
     "text": [
      "100%|██████████| 200/200 [01:39<00:00,  2.00it/s]\n"
     ]
    }
   ],
   "source": [
    "model = RecurrentGCN(node_features = 8)\n",
    "\n",
    "optimizer = torch.optim.Adam(model.parameters(), lr=0.01)\n",
    "\n",
    "model.train()\n",
    "\n",
    "e = torch.empty(20, 4)\n",
    "\n",
    "torch.nn.init.xavier_uniform_(e)\n",
    "\n",
    "for epoch in tqdm(range(200)):\n",
    "    cost = 0\n",
    "    h = None\n",
    "    for time, snapshot in enumerate(train_dataset):\n",
    "        x = snapshot.x.view(1, 20, 8)\n",
    "        y_hat, h = model(x, e, h)\n",
    "        cost = cost + torch.mean((y_hat-snapshot.y)**2)\n",
    "    cost = cost / (time+1)\n",
    "    cost.backward()\n",
    "    optimizer.step()\n",
    "    optimizer.zero_grad()"
   ]
  },
  {
   "cell_type": "code",
   "execution_count": 49,
   "id": "4d9b1fc7-6c15-4a38-954b-453fed949e62",
   "metadata": {},
   "outputs": [
    {
     "name": "stdout",
     "output_type": "stream",
     "text": [
      "MSE: 1.0500\n"
     ]
    }
   ],
   "source": [
    "model.eval()\n",
    "cost = 0\n",
    "for time, snapshot in enumerate(test_dataset):\n",
    "    x = snapshot.x.view(1, 20, 8)\n",
    "    y_hat, h = model(x, e, h)\n",
    "    cost = cost + torch.mean((y_hat-snapshot.y)**2)\n",
    "cost = cost / (time+1)\n",
    "cost = cost.item()\n",
    "print(\"MSE: {:.4f}\".format(cost))"
   ]
  },
  {
   "cell_type": "markdown",
   "id": "f606b4e7-e5b2-433b-9de9-436070dca108",
   "metadata": {},
   "source": [
    "# DCRNN(추가함)"
   ]
  },
  {
   "cell_type": "code",
   "execution_count": 50,
   "id": "cc6098e1-db98-4685-8e6c-53e15a5a442e",
   "metadata": {},
   "outputs": [],
   "source": [
    "try:\n",
    "    from tqdm import tqdm\n",
    "except ImportError:\n",
    "    def tqdm(iterable):\n",
    "        return iterable"
   ]
  },
  {
   "cell_type": "code",
   "execution_count": 51,
   "id": "3756ced8-676b-4024-aea8-b266bf89faab",
   "metadata": {},
   "outputs": [],
   "source": [
    "import torch\n",
    "import torch.nn.functional as F\n",
    "from torch_geometric_temporal.nn.recurrent import DCRNN\n",
    "\n",
    "from torch_geometric_temporal.dataset import ChickenpoxDatasetLoader\n",
    "from torch_geometric_temporal.signal import temporal_signal_split\n",
    "\n",
    "loader = ChickenpoxDatasetLoader()\n",
    "\n",
    "dataset = loader.get_dataset()\n",
    "\n",
    "train_dataset, test_dataset = temporal_signal_split(dataset, train_ratio=0.2)"
   ]
  },
  {
   "cell_type": "code",
   "execution_count": 52,
   "id": "4d05a2bb-f304-4564-89b2-39e50f9e5369",
   "metadata": {},
   "outputs": [],
   "source": [
    "class RecurrentGCN(torch.nn.Module):\n",
    "    def __init__(self, node_features):\n",
    "        super(RecurrentGCN, self).__init__()\n",
    "        self.recurrent = DCRNN(node_features, 32, 1)\n",
    "        self.linear = torch.nn.Linear(32, 1)\n",
    "\n",
    "    def forward(self, x, edge_index, edge_weight):\n",
    "        h = self.recurrent(x, edge_index, edge_weight)\n",
    "        h = F.relu(h)\n",
    "        h = self.linear(h)\n",
    "        return h"
   ]
  },
  {
   "cell_type": "code",
   "execution_count": 53,
   "id": "eeaa4ab2-8091-4eaf-b955-215b8dd2ec69",
   "metadata": {},
   "outputs": [
    {
     "name": "stderr",
     "output_type": "stream",
     "text": [
      "100%|██████████| 200/200 [01:42<00:00,  1.95it/s]\n"
     ]
    }
   ],
   "source": [
    "model = RecurrentGCN(node_features = 4)\n",
    "\n",
    "optimizer = torch.optim.Adam(model.parameters(), lr=0.01)\n",
    "\n",
    "model.train()\n",
    "\n",
    "for epoch in tqdm(range(200)):\n",
    "    cost = 0\n",
    "    for time, snapshot in enumerate(train_dataset):\n",
    "        y_hat = model(snapshot.x, snapshot.edge_index, snapshot.edge_attr)\n",
    "        cost = cost + torch.mean((y_hat-snapshot.y)**2)\n",
    "    cost = cost / (time+1)\n",
    "    cost.backward()\n",
    "    optimizer.step()\n",
    "    optimizer.zero_grad()"
   ]
  },
  {
   "cell_type": "code",
   "execution_count": 54,
   "id": "cb5552e9-7e6f-4b6d-a162-3526026bc5d0",
   "metadata": {},
   "outputs": [
    {
     "name": "stdout",
     "output_type": "stream",
     "text": [
      "MSE: 1.0212\n"
     ]
    }
   ],
   "source": [
    "model.eval()\n",
    "cost = 0\n",
    "for time, snapshot in enumerate(test_dataset):\n",
    "    y_hat = model(snapshot.x, snapshot.edge_index, snapshot.edge_attr)\n",
    "    cost = cost + torch.mean((y_hat-snapshot.y)**2)\n",
    "cost = cost / (time+1)\n",
    "cost = cost.item()\n",
    "print(\"MSE: {:.4f}\".format(cost))"
   ]
  },
  {
   "cell_type": "markdown",
   "id": "0c362723-00f2-4655-97c0-99e366ae2565",
   "metadata": {},
   "source": [
    "# DYGRENCODER"
   ]
  },
  {
   "cell_type": "code",
   "execution_count": 55,
   "id": "18e39dd6-c3c6-458a-bc52-14ea6277cb44",
   "metadata": {},
   "outputs": [],
   "source": [
    "try:\n",
    "    from tqdm import tqdm\n",
    "except ImportError:\n",
    "    def tqdm(iterable):\n",
    "        return iterable"
   ]
  },
  {
   "cell_type": "code",
   "execution_count": 56,
   "id": "7342032e-551e-47b7-a10f-dc33275e433d",
   "metadata": {},
   "outputs": [],
   "source": [
    "import torch\n",
    "import torch.nn.functional as F\n",
    "from torch_geometric_temporal.nn.recurrent import DyGrEncoder\n",
    "\n",
    "from torch_geometric_temporal.dataset import ChickenpoxDatasetLoader\n",
    "from torch_geometric_temporal.signal import temporal_signal_split\n",
    "\n",
    "loader = ChickenpoxDatasetLoader()\n",
    "\n",
    "dataset = loader.get_dataset()\n",
    "\n",
    "train_dataset, test_dataset = temporal_signal_split(dataset, train_ratio=0.2)"
   ]
  },
  {
   "cell_type": "code",
   "execution_count": 57,
   "id": "3e7b784b-3419-4002-8dd4-116aa4f38995",
   "metadata": {},
   "outputs": [],
   "source": [
    "class RecurrentGCN(torch.nn.Module):\n",
    "    def __init__(self, node_features):\n",
    "        super(RecurrentGCN, self).__init__()\n",
    "        self.recurrent = DyGrEncoder(conv_out_channels=4, conv_num_layers=1, conv_aggr=\"mean\", lstm_out_channels=32, lstm_num_layers=1)\n",
    "        self.linear = torch.nn.Linear(32, 1)\n",
    "\n",
    "    def forward(self, x, edge_index, edge_weight, h_0, c_0):\n",
    "        h, h_0, c_0 = self.recurrent(x, edge_index, edge_weight, h_0, c_0)\n",
    "        h = F.relu(h)\n",
    "        h = self.linear(h)\n",
    "        return h, h_0, c_0"
   ]
  },
  {
   "cell_type": "code",
   "execution_count": 58,
   "id": "46e693a6-5db2-4978-bbdd-fdbfc15c7063",
   "metadata": {},
   "outputs": [
    {
     "name": "stderr",
     "output_type": "stream",
     "text": [
      "100%|██████████| 200/200 [00:41<00:00,  4.84it/s]\n"
     ]
    }
   ],
   "source": [
    "model = RecurrentGCN(node_features = 4)\n",
    "\n",
    "optimizer = torch.optim.Adam(model.parameters(), lr=0.01)\n",
    "\n",
    "model.train()\n",
    "\n",
    "for epoch in tqdm(range(200)):\n",
    "    cost = 0\n",
    "    h, c = None, None\n",
    "    for time, snapshot in enumerate(train_dataset):\n",
    "        y_hat, h, c = model(snapshot.x, snapshot.edge_index, snapshot.edge_attr, h, c)\n",
    "        cost = cost + torch.mean((y_hat-snapshot.y)**2)\n",
    "    cost = cost / (time+1)\n",
    "    cost.backward()\n",
    "    optimizer.step()\n",
    "    optimizer.zero_grad()"
   ]
  },
  {
   "cell_type": "code",
   "execution_count": 59,
   "id": "3ef8e518-7df2-4f15-84b3-346d8685334d",
   "metadata": {
    "tags": []
   },
   "outputs": [
    {
     "name": "stdout",
     "output_type": "stream",
     "text": [
      "MSE: 1.0133\n"
     ]
    }
   ],
   "source": [
    "model.eval()\n",
    "cost = 0\n",
    "h, c = None, None\n",
    "for time, snapshot in enumerate(test_dataset):\n",
    "    y_hat, h, c = model(snapshot.x, snapshot.edge_index, snapshot.edge_attr, h, c)\n",
    "    cost = cost + torch.mean((y_hat-snapshot.y)**2)\n",
    "cost = cost / (time+1)\n",
    "cost = cost.item()\n",
    "print(\"MSE: {:.4f}\".format(cost))"
   ]
  },
  {
   "cell_type": "markdown",
   "id": "19ff4473-db9d-4bcd-b135-81fda8ee8fd8",
   "metadata": {},
   "source": [
    "# EVOLVGVNH"
   ]
  },
  {
   "cell_type": "code",
   "execution_count": 60,
   "id": "73f9d544-b58c-447a-968b-70a0b8388097",
   "metadata": {},
   "outputs": [],
   "source": [
    "try:\n",
    "    from tqdm import tqdm\n",
    "except ImportError:\n",
    "    def tqdm(iterable):\n",
    "        return iterable"
   ]
  },
  {
   "cell_type": "code",
   "execution_count": 61,
   "id": "a965246e-a2b4-4c0b-b5bf-f64f0d7c9861",
   "metadata": {},
   "outputs": [],
   "source": [
    "import torch\n",
    "import torch.nn.functional as F\n",
    "from torch_geometric_temporal.nn.recurrent import EvolveGCNH\n",
    "\n",
    "from torch_geometric_temporal.dataset import ChickenpoxDatasetLoader\n",
    "from torch_geometric_temporal.signal import temporal_signal_split\n",
    "\n",
    "loader = ChickenpoxDatasetLoader()\n",
    "\n",
    "dataset = loader.get_dataset()\n",
    "\n",
    "train_dataset, test_dataset = temporal_signal_split(dataset, train_ratio=0.2)"
   ]
  },
  {
   "cell_type": "code",
   "execution_count": 62,
   "id": "4452ecfc-6fcc-4618-87dc-96a12a442d63",
   "metadata": {},
   "outputs": [],
   "source": [
    "class RecurrentGCN(torch.nn.Module):\n",
    "    def __init__(self, node_count, node_features):\n",
    "        super(RecurrentGCN, self).__init__()\n",
    "        self.recurrent = EvolveGCNH(node_count, node_features)\n",
    "        self.linear = torch.nn.Linear(node_features, 1)\n",
    "\n",
    "    def forward(self, x, edge_index, edge_weight):\n",
    "        h = self.recurrent(x, edge_index, edge_weight)\n",
    "        h = F.relu(h)\n",
    "        h = self.linear(h)\n",
    "        return h"
   ]
  },
  {
   "cell_type": "code",
   "execution_count": 63,
   "id": "ea24035c-541e-4593-9848-213398a61889",
   "metadata": {},
   "outputs": [
    {
     "name": "stderr",
     "output_type": "stream",
     "text": [
      "100%|██████████| 200/200 [00:39<00:00,  5.07it/s]\n"
     ]
    }
   ],
   "source": [
    "model = RecurrentGCN(node_features = 4, node_count = 20)\n",
    "\n",
    "optimizer = torch.optim.Adam(model.parameters(), lr=0.01)\n",
    "\n",
    "model.train()\n",
    "\n",
    "for epoch in tqdm(range(200)):\n",
    "    cost = 0\n",
    "    for time, snapshot in enumerate(train_dataset):\n",
    "        y_hat = model(snapshot.x, snapshot.edge_index, snapshot.edge_attr)\n",
    "        cost = cost + torch.mean((y_hat-snapshot.y)**2)\n",
    "    cost = cost / (time+1)\n",
    "    cost.backward()\n",
    "    optimizer.step()\n",
    "    optimizer.zero_grad()"
   ]
  },
  {
   "cell_type": "code",
   "execution_count": 64,
   "id": "5fb21382-fd51-41d3-8f9c-25f58d10ce9c",
   "metadata": {},
   "outputs": [
    {
     "name": "stdout",
     "output_type": "stream",
     "text": [
      "MSE: 1.0187\n"
     ]
    }
   ],
   "source": [
    "model.eval()\n",
    "cost = 0\n",
    "for time, snapshot in enumerate(test_dataset):\n",
    "    y_hat = model(snapshot.x, snapshot.edge_index, snapshot.edge_attr)\n",
    "    cost = cost + torch.mean((y_hat-snapshot.y)**2)\n",
    "cost = cost / (time+1)\n",
    "cost = cost.item()\n",
    "print(\"MSE: {:.4f}\".format(cost))"
   ]
  },
  {
   "cell_type": "markdown",
   "id": "c2695a97-0e48-4e34-a7a9-b5b2e636ccc9",
   "metadata": {},
   "source": [
    "# EVOLVEGCNO"
   ]
  },
  {
   "cell_type": "code",
   "execution_count": 65,
   "id": "eebe177d-58f5-4ea0-89ce-e021b8b36ffa",
   "metadata": {},
   "outputs": [],
   "source": [
    "try:\n",
    "    from tqdm import tqdm\n",
    "except ImportError:\n",
    "    def tqdm(iterable):\n",
    "        return iterable"
   ]
  },
  {
   "cell_type": "code",
   "execution_count": 66,
   "id": "e3e0891c-4467-4a95-9604-865e247d14f5",
   "metadata": {},
   "outputs": [],
   "source": [
    "import torch\n",
    "import torch.nn.functional as F\n",
    "from torch_geometric_temporal.nn.recurrent import EvolveGCNO\n",
    "\n",
    "from torch_geometric_temporal.dataset import ChickenpoxDatasetLoader\n",
    "from torch_geometric_temporal.signal import temporal_signal_split\n",
    "\n",
    "loader = ChickenpoxDatasetLoader()\n",
    "\n",
    "dataset = loader.get_dataset()\n",
    "\n",
    "train_dataset, test_dataset = temporal_signal_split(dataset, train_ratio=0.2)\n"
   ]
  },
  {
   "cell_type": "code",
   "execution_count": 67,
   "id": "9632438d-80ea-4043-97bd-12dad6c1c6f3",
   "metadata": {},
   "outputs": [],
   "source": [
    "class RecurrentGCN(torch.nn.Module):\n",
    "    def __init__(self, node_features):\n",
    "        super(RecurrentGCN, self).__init__()\n",
    "        self.recurrent = EvolveGCNO(node_features)\n",
    "        self.linear = torch.nn.Linear(node_features, 1)\n",
    "\n",
    "    def forward(self, x, edge_index, edge_weight):\n",
    "        h = self.recurrent(x, edge_index, edge_weight)\n",
    "        h = F.relu(h)\n",
    "        h = self.linear(h)\n",
    "        return h"
   ]
  },
  {
   "cell_type": "code",
   "execution_count": 68,
   "id": "1003481d-d206-4a3c-9fdf-fb7895872837",
   "metadata": {},
   "outputs": [
    {
     "name": "stderr",
     "output_type": "stream",
     "text": [
      "100%|██████████| 200/200 [00:22<00:00,  9.01it/s]\n"
     ]
    }
   ],
   "source": [
    "model = RecurrentGCN(node_features = 4)\n",
    "for param in model.parameters():\n",
    "    param.retain_grad()\n",
    "\n",
    "optimizer = torch.optim.Adam(model.parameters(), lr=0.01)\n",
    "\n",
    "model.train()\n",
    "\n",
    "for epoch in tqdm(range(200)):\n",
    "    cost = 0\n",
    "    for time, snapshot in enumerate(train_dataset):\n",
    "        y_hat = model(snapshot.x, snapshot.edge_index, snapshot.edge_attr)\n",
    "        cost = cost + torch.mean((y_hat-snapshot.y)**2)\n",
    "    cost = cost / (time+1)\n",
    "    cost.backward(retain_graph=True)\n",
    "    optimizer.step()\n",
    "    optimizer.zero_grad()"
   ]
  },
  {
   "cell_type": "code",
   "execution_count": 69,
   "id": "8b8b4847-3fb0-4735-8182-201cf6fe475e",
   "metadata": {},
   "outputs": [
    {
     "name": "stdout",
     "output_type": "stream",
     "text": [
      "MSE: 0.9990\n"
     ]
    }
   ],
   "source": [
    "model.eval()\n",
    "cost = 0\n",
    "for time, snapshot in enumerate(test_dataset):\n",
    "    if time == 0:\n",
    "        model.recurrent.weight = None\n",
    "    y_hat = model(snapshot.x, snapshot.edge_index, snapshot.edge_attr)\n",
    "    cost = cost + torch.mean((y_hat-snapshot.y)**2)\n",
    "cost = cost / (time+1)\n",
    "cost = cost.item()\n",
    "print(\"MSE: {:.4f}\".format(cost))"
   ]
  },
  {
   "cell_type": "markdown",
   "id": "d3e3d336-66ad-49f3-a897-fb4774707f8c",
   "metadata": {},
   "source": [
    "# GCLSTM"
   ]
  },
  {
   "cell_type": "code",
   "execution_count": 70,
   "id": "f0f15f19-1e7f-428a-8b58-53c0215d27be",
   "metadata": {},
   "outputs": [],
   "source": [
    "try:\n",
    "    from tqdm import tqdm\n",
    "except ImportError:\n",
    "    def tqdm(iterable):\n",
    "        return iterable"
   ]
  },
  {
   "cell_type": "code",
   "execution_count": 71,
   "id": "f4ebfdbd-7825-460e-9cb9-26b8903e9052",
   "metadata": {},
   "outputs": [],
   "source": [
    "import torch\n",
    "import torch.nn.functional as F\n",
    "from torch_geometric_temporal.nn.recurrent import GCLSTM\n",
    "\n",
    "from torch_geometric_temporal.dataset import ChickenpoxDatasetLoader\n",
    "from torch_geometric_temporal.signal import temporal_signal_split\n",
    "\n",
    "loader = ChickenpoxDatasetLoader()\n",
    "\n",
    "dataset = loader.get_dataset()\n",
    "\n",
    "train_dataset, test_dataset = temporal_signal_split(dataset, train_ratio=0.2)"
   ]
  },
  {
   "cell_type": "code",
   "execution_count": 72,
   "id": "610a74a1-31e7-4ac6-ba8a-f88268421362",
   "metadata": {},
   "outputs": [],
   "source": [
    "class RecurrentGCN(torch.nn.Module):\n",
    "    def __init__(self, node_features):\n",
    "        super(RecurrentGCN, self).__init__()\n",
    "        self.recurrent = GCLSTM(node_features, 32, 1)\n",
    "        self.linear = torch.nn.Linear(32, 1)\n",
    "\n",
    "    def forward(self, x, edge_index, edge_weight, h, c):\n",
    "        h_0, c_0 = self.recurrent(x, edge_index, edge_weight, h, c)\n",
    "        h = F.relu(h_0)\n",
    "        h = self.linear(h)\n",
    "        return h, h_0, c_0"
   ]
  },
  {
   "cell_type": "code",
   "execution_count": 73,
   "id": "476d80a2-a9bb-4fc2-8b93-adf0e1a8b7a0",
   "metadata": {},
   "outputs": [
    {
     "name": "stderr",
     "output_type": "stream",
     "text": [
      "100%|██████████| 200/200 [00:45<00:00,  4.36it/s]\n"
     ]
    }
   ],
   "source": [
    "model = RecurrentGCN(node_features=4)\n",
    "\n",
    "optimizer = torch.optim.Adam(model.parameters(), lr=0.01)\n",
    "\n",
    "model.train()\n",
    "\n",
    "for epoch in tqdm(range(200)):\n",
    "    cost = 0\n",
    "    h, c = None, None\n",
    "    for time, snapshot in enumerate(train_dataset):\n",
    "        y_hat, h, c = model(snapshot.x, snapshot.edge_index, snapshot.edge_attr, h, c)\n",
    "        cost = cost + torch.mean((y_hat-snapshot.y)**2)\n",
    "    cost = cost / (time+1)\n",
    "    cost.backward()\n",
    "    optimizer.step()\n",
    "    optimizer.zero_grad()"
   ]
  },
  {
   "cell_type": "code",
   "execution_count": 74,
   "id": "31f66768-094f-46c1-82d9-4a5ad50862eb",
   "metadata": {},
   "outputs": [
    {
     "name": "stdout",
     "output_type": "stream",
     "text": [
      "MSE: 1.0865\n"
     ]
    }
   ],
   "source": [
    "model.eval()\n",
    "cost = 0\n",
    "for time, snapshot in enumerate(test_dataset):\n",
    "    y_hat, h, c = model(snapshot.x, snapshot.edge_index, snapshot.edge_attr, h, c)\n",
    "    cost = cost + torch.mean((y_hat-snapshot.y)**2)\n",
    "cost = cost / (time+1)\n",
    "cost = cost.item()\n",
    "print(\"MSE: {:.4f}\".format(cost))"
   ]
  },
  {
   "cell_type": "markdown",
   "id": "8c8376a2-f8e5-4e74-a782-1044049acc60",
   "metadata": {},
   "source": [
    "# GConvLSTM"
   ]
  },
  {
   "cell_type": "code",
   "execution_count": 76,
   "id": "93ab5479-37b0-4215-986d-face3fc74a81",
   "metadata": {},
   "outputs": [],
   "source": [
    "try:\n",
    "    from tqdm import tqdm\n",
    "except ImportError:\n",
    "    def tqdm(iterable):\n",
    "        return iterable"
   ]
  },
  {
   "cell_type": "code",
   "execution_count": 77,
   "id": "70ca2464-6bf2-4c1e-b754-a690607b6777",
   "metadata": {},
   "outputs": [],
   "source": [
    "import torch\n",
    "import torch.nn.functional as F\n",
    "from torch_geometric_temporal.nn.recurrent import GConvLSTM\n",
    "\n",
    "from torch_geometric_temporal.dataset import ChickenpoxDatasetLoader\n",
    "from torch_geometric_temporal.signal import temporal_signal_split\n",
    "\n",
    "loader = ChickenpoxDatasetLoader()\n",
    "\n",
    "dataset = loader.get_dataset()\n",
    "\n",
    "train_dataset, test_dataset = temporal_signal_split(dataset, train_ratio=0.2)"
   ]
  },
  {
   "cell_type": "code",
   "execution_count": 78,
   "id": "5b41a729-eaa3-4d38-b1cb-ffb05c3d37a2",
   "metadata": {},
   "outputs": [],
   "source": [
    "class RecurrentGCN(torch.nn.Module):\n",
    "    def __init__(self, node_features):\n",
    "        super(RecurrentGCN, self).__init__()\n",
    "        self.recurrent = GConvLSTM(node_features, 32, 1)\n",
    "        self.linear = torch.nn.Linear(32, 1)\n",
    "\n",
    "    def forward(self, x, edge_index, edge_weight, h, c):\n",
    "        h_0, c_0 = self.recurrent(x, edge_index, edge_weight, h, c)\n",
    "        h = F.relu(h_0)\n",
    "        h = self.linear(h)\n",
    "        return h, h_0, c_0"
   ]
  },
  {
   "cell_type": "code",
   "execution_count": 79,
   "id": "088bec7b-f7da-415a-8f87-c29b062c7de8",
   "metadata": {},
   "outputs": [
    {
     "name": "stderr",
     "output_type": "stream",
     "text": [
      "100%|██████████| 200/200 [03:28<00:00,  1.04s/it]\n"
     ]
    }
   ],
   "source": [
    "model = RecurrentGCN(node_features=4)\n",
    "\n",
    "optimizer = torch.optim.Adam(model.parameters(), lr=0.01)\n",
    "\n",
    "model.train()\n",
    "\n",
    "for epoch in tqdm(range(200)):\n",
    "    cost = 0\n",
    "    h, c = None, None\n",
    "    for time, snapshot in enumerate(train_dataset):\n",
    "        y_hat, h, c = model(snapshot.x, snapshot.edge_index, snapshot.edge_attr, h, c)\n",
    "        cost = cost + torch.mean((y_hat-snapshot.y)**2)\n",
    "    cost = cost / (time+1)\n",
    "    cost.backward()\n",
    "    optimizer.step()\n",
    "    optimizer.zero_grad()"
   ]
  },
  {
   "cell_type": "code",
   "execution_count": 80,
   "id": "5411e557-b913-4c7d-91d9-17a330bef01f",
   "metadata": {},
   "outputs": [
    {
     "name": "stdout",
     "output_type": "stream",
     "text": [
      "MSE: 1.0877\n"
     ]
    }
   ],
   "source": [
    "model.eval()\n",
    "cost = 0\n",
    "for time, snapshot in enumerate(test_dataset):\n",
    "    y_hat, h, c = model(snapshot.x, snapshot.edge_index, snapshot.edge_attr, h, c)\n",
    "    cost = cost + torch.mean((y_hat-snapshot.y)**2)\n",
    "cost = cost / (time+1)\n",
    "cost = cost.item()\n",
    "print(\"MSE: {:.4f}\".format(cost))"
   ]
  },
  {
   "cell_type": "markdown",
   "id": "54134fc9-27ee-4c4a-94b0-2360deea018a",
   "metadata": {},
   "source": [
    "# Lightning(설치 안 됨)"
   ]
  },
  {
   "cell_type": "code",
   "execution_count": null,
   "id": "4832a5db-1edc-4caf-b20b-f4459deb9cb0",
   "metadata": {},
   "outputs": [],
   "source": [
    "import torch\n",
    "from torch.nn import functional as F\n",
    "\n",
    "import pytorch_lightning as pl\n",
    "from pytorch_lightning.callbacks.early_stopping import EarlyStopping\n",
    "\n",
    "from torch_geometric_temporal.nn.recurrent import DCRNN\n",
    "from torch_geometric_temporal.dataset import ChickenpoxDatasetLoader\n",
    "from torch_geometric_temporal.signal import temporal_signal_split"
   ]
  },
  {
   "cell_type": "code",
   "execution_count": null,
   "id": "f00eabae-0820-4eac-9d82-816cabd44ac2",
   "metadata": {},
   "outputs": [],
   "source": [
    "class LitDiffConvModel(pl.LightningModule):\n",
    "\n",
    "    def __init__(self, node_features, filters):\n",
    "        super().__init__()\n",
    "        self.recurrent = DCRNN(node_features, filters, 1)\n",
    "        self.linear = torch.nn.Linear(filters, 1)\n",
    "\n",
    "\n",
    "    def configure_optimizers(self):\n",
    "        optimizer = torch.optim.Adam(self.parameters(), lr=1e-2)\n",
    "        return optimizer\n",
    "\n",
    "    def training_step(self, train_batch, batch_idx):\n",
    "        x = train_batch.x\n",
    "        y = train_batch.y.view(-1, 1)\n",
    "        edge_index = train_batch.edge_index\n",
    "        h = self.recurrent(x, edge_index)\n",
    "        h = F.relu(h)\n",
    "        h = self.linear(h)\n",
    "        loss = F.mse_loss(h, y)\n",
    "        return loss\n",
    "\n",
    "    def validation_step(self, val_batch, batch_idx):\n",
    "        x = val_batch.x\n",
    "        y = val_batch.y.view(-1, 1)\n",
    "        edge_index = val_batch.edge_index\n",
    "        h = self.recurrent(x, edge_index)\n",
    "        h = F.relu(h)\n",
    "        h = self.linear(h)\n",
    "        loss = F.mse_loss(h, y)\n",
    "        metrics = {'val_loss': loss}\n",
    "        self.log_dict(metrics)\n",
    "        return metrics"
   ]
  },
  {
   "cell_type": "code",
   "execution_count": null,
   "id": "61adc4bd-2844-4121-9658-d10f39bd10f3",
   "metadata": {},
   "outputs": [],
   "source": [
    "loader = ChickenpoxDatasetLoader()\n",
    "\n",
    "dataset_loader = loader.get_dataset(lags=32)\n",
    "\n",
    "train_loader, val_loader = temporal_signal_split(dataset_loader,\n",
    "                                                 train_ratio=0.2)"
   ]
  },
  {
   "cell_type": "code",
   "execution_count": null,
   "id": "245d83c8-8519-4f57-a734-1646c6417e33",
   "metadata": {},
   "outputs": [],
   "source": [
    "model = LitDiffConvModel(node_features=32,\n",
    "                         filters=16)"
   ]
  },
  {
   "cell_type": "code",
   "execution_count": null,
   "id": "23531b5f-f190-4947-a132-d25523b929eb",
   "metadata": {},
   "outputs": [],
   "source": [
    "early_stop_callback = EarlyStopping(monitor='val_loss',\n",
    "                                    min_delta=0.00,\n",
    "                                    patience=10,\n",
    "                                    verbose=False,\n",
    "                                    mode='max')"
   ]
  },
  {
   "cell_type": "code",
   "execution_count": null,
   "id": "0ee43764-9e73-4336-9ef5-22100cb3addd",
   "metadata": {},
   "outputs": [],
   "source": [
    "trainer = pl.Trainer(callbacks=[early_stop_callback])"
   ]
  },
  {
   "cell_type": "code",
   "execution_count": null,
   "id": "d01544f4-4172-4ff1-ab96-9e1e3aed07af",
   "metadata": {},
   "outputs": [],
   "source": [
    "trainer.fit(model, train_loader, val_loader)"
   ]
  },
  {
   "cell_type": "markdown",
   "id": "ebe7bf3e-56d9-4254-9190-b7bb71870d13",
   "metadata": {},
   "source": [
    "# LRGCN"
   ]
  },
  {
   "cell_type": "code",
   "execution_count": 82,
   "id": "d18e05d1-f2b8-41d5-9ee4-409d77d9ad09",
   "metadata": {},
   "outputs": [],
   "source": [
    "try:\n",
    "    from tqdm import tqdm\n",
    "except ImportError:\n",
    "    def tqdm(iterable):\n",
    "        return iterable"
   ]
  },
  {
   "cell_type": "code",
   "execution_count": 83,
   "id": "33904362-8e1f-400a-a40b-d3144104fe8c",
   "metadata": {},
   "outputs": [],
   "source": [
    "import torch\n",
    "import torch.nn.functional as F\n",
    "from torch_geometric_temporal.nn.recurrent import LRGCN\n",
    "\n",
    "from torch_geometric_temporal.dataset import ChickenpoxDatasetLoader\n",
    "from torch_geometric_temporal.signal import temporal_signal_split\n",
    "\n",
    "loader = ChickenpoxDatasetLoader()\n",
    "\n",
    "dataset = loader.get_dataset()\n",
    "\n",
    "train_dataset, test_dataset = temporal_signal_split(dataset, train_ratio=0.2)"
   ]
  },
  {
   "cell_type": "code",
   "execution_count": 84,
   "id": "544324de-0cb8-4a8a-ab7c-f7591c2597f5",
   "metadata": {},
   "outputs": [],
   "source": [
    "class RecurrentGCN(torch.nn.Module):\n",
    "    def __init__(self, node_features):\n",
    "        super(RecurrentGCN, self).__init__()\n",
    "        self.recurrent = LRGCN(node_features, 32, 1, 1)\n",
    "        self.linear = torch.nn.Linear(32, 1)\n",
    "\n",
    "    def forward(self, x, edge_index, edge_weight, h_0, c_0):\n",
    "        h_0, c_0 = self.recurrent(x, edge_index, edge_weight, h_0, c_0)\n",
    "        h = F.relu(h_0)\n",
    "        h = self.linear(h)\n",
    "        return h, h_0, c_0"
   ]
  },
  {
   "cell_type": "code",
   "execution_count": 85,
   "id": "a0eed232-39d8-4ffd-82aa-28864cba8be1",
   "metadata": {},
   "outputs": [
    {
     "name": "stderr",
     "output_type": "stream",
     "text": [
      "100%|██████████| 200/200 [01:01<00:00,  3.26it/s]\n"
     ]
    }
   ],
   "source": [
    "model = RecurrentGCN(node_features = 4)\n",
    "\n",
    "optimizer = torch.optim.Adam(model.parameters(), lr=0.01)\n",
    "\n",
    "model.train()\n",
    "\n",
    "for epoch in tqdm(range(200)):\n",
    "    cost = 0\n",
    "    h, c = None, None\n",
    "    for time, snapshot in enumerate(train_dataset):\n",
    "        y_hat, h, c = model(snapshot.x, snapshot.edge_index, snapshot.edge_attr, h, c)\n",
    "        cost = cost + torch.mean((y_hat-snapshot.y)**2)\n",
    "    cost = cost / (time+1)\n",
    "    cost.backward()\n",
    "    optimizer.step()\n",
    "    optimizer.zero_grad()"
   ]
  },
  {
   "cell_type": "code",
   "execution_count": 86,
   "id": "4dbabe0b-f8f4-46a3-846a-8f6af723f82f",
   "metadata": {},
   "outputs": [
    {
     "name": "stdout",
     "output_type": "stream",
     "text": [
      "MSE: 1.0741\n"
     ]
    }
   ],
   "source": [
    "model.eval()\n",
    "cost = 0\n",
    "h, c = None, None\n",
    "for time, snapshot in enumerate(test_dataset):\n",
    "    y_hat, h, c = model(snapshot.x, snapshot.edge_index, snapshot.edge_attr, h, c)\n",
    "    cost = cost + torch.mean((y_hat-snapshot.y)**2)\n",
    "cost = cost / (time+1)\n",
    "cost = cost.item()\n",
    "print(\"MSE: {:.4f}\".format(cost))"
   ]
  },
  {
   "cell_type": "markdown",
   "id": "87d00a83-a2d6-4f8b-9890-7488a889f3c6",
   "metadata": {},
   "source": [
    "# MPNNLSTM"
   ]
  },
  {
   "cell_type": "code",
   "execution_count": 98,
   "id": "65d04edd-e19d-44c1-b192-2259fb0babc5",
   "metadata": {},
   "outputs": [],
   "source": [
    "try:\n",
    "    from tqdm import tqdm\n",
    "except ImportError:\n",
    "    def tqdm(iterable):\n",
    "        return iterable"
   ]
  },
  {
   "cell_type": "code",
   "execution_count": 99,
   "id": "b62b6835-1eff-483c-a5b6-0897155bb156",
   "metadata": {},
   "outputs": [],
   "source": [
    "import torch\n",
    "import torch.nn.functional as F\n",
    "from torch_geometric_temporal.nn.recurrent import MPNNLSTM\n",
    "\n",
    "from torch_geometric_temporal.dataset import ChickenpoxDatasetLoader\n",
    "from torch_geometric_temporal.signal import temporal_signal_split\n",
    "\n",
    "loader = ChickenpoxDatasetLoader()\n",
    "\n",
    "dataset = loader.get_dataset()\n",
    "\n",
    "train_dataset, test_dataset = temporal_signal_split(dataset, train_ratio=0.2)"
   ]
  },
  {
   "cell_type": "code",
   "execution_count": 105,
   "id": "9314d353-23cb-4d83-94bf-83a3c4c193f9",
   "metadata": {},
   "outputs": [],
   "source": [
    "class RecurrentGCN(torch.nn.Module):\n",
    "    def __init__(self, node_features):\n",
    "        super(RecurrentGCN, self).__init__()\n",
    "        self.recurrent = MPNNLSTM(node_features, 32,  20, 1, 0.5) # 32, 32, 20, 1, 0.5 이었는데 position 잘못되었다해서 32하나 뺌\n",
    "        self.linear = torch.nn.Linear(2*32 + node_features, 1)\n",
    "\n",
    "    def forward(self, x, edge_index, edge_weight):\n",
    "        h = self.recurrent(x, edge_index, edge_weight)\n",
    "        h = F.relu(h)\n",
    "        h = self.linear(h)\n",
    "        return h"
   ]
  },
  {
   "cell_type": "code",
   "execution_count": 106,
   "id": "5040b9fa-e676-423f-8a29-b3839a3353c1",
   "metadata": {},
   "outputs": [
    {
     "name": "stderr",
     "output_type": "stream",
     "text": [
      "100%|██████████| 50/50 [00:53<00:00,  1.07s/it]\n"
     ]
    }
   ],
   "source": [
    "model = RecurrentGCN(node_features = 4)\n",
    "\n",
    "optimizer = torch.optim.Adam(model.parameters(), lr=0.01)\n",
    "\n",
    "model.train()\n",
    "\n",
    "for epoch in tqdm(range(50)):\n",
    "    cost = 0\n",
    "    for time, snapshot in enumerate(train_dataset):\n",
    "        y_hat = model(snapshot.x, snapshot.edge_index, snapshot.edge_attr)\n",
    "        cost = cost + torch.mean((y_hat-snapshot.y)**2)\n",
    "    cost = cost / (time+1)\n",
    "    cost.backward()\n",
    "    optimizer.step()\n",
    "    optimizer.zero_grad()"
   ]
  },
  {
   "cell_type": "code",
   "execution_count": 107,
   "id": "a964cda3-3ee3-47da-b75d-60a78db31c78",
   "metadata": {},
   "outputs": [
    {
     "name": "stdout",
     "output_type": "stream",
     "text": [
      "MSE: 1.0783\n"
     ]
    }
   ],
   "source": [
    "model.eval()\n",
    "cost = 0\n",
    "for time, snapshot in enumerate(test_dataset):\n",
    "    y_hat = model(snapshot.x, snapshot.edge_index, snapshot.edge_attr)\n",
    "    cost = cost + torch.mean((y_hat-snapshot.y)**2)\n",
    "cost = cost / (time+1)\n",
    "cost = cost.item()\n",
    "print(\"MSE: {:.4f}\".format(cost))"
   ]
  },
  {
   "cell_type": "markdown",
   "id": "18301da5-97cd-43e7-854c-96cbe6164112",
   "metadata": {},
   "source": [
    "# TGCN"
   ]
  },
  {
   "cell_type": "code",
   "execution_count": 13,
   "id": "fb58124a-ce9e-4936-8f3a-ff060337809d",
   "metadata": {},
   "outputs": [],
   "source": [
    "try:\n",
    "    from tqdm import tqdm\n",
    "except ImportError:\n",
    "    def tqdm(iterable):\n",
    "        return iterable"
   ]
  },
  {
   "cell_type": "code",
   "execution_count": 14,
   "id": "b6e2ebc6-535b-4a51-98e1-32c80faba2ab",
   "metadata": {},
   "outputs": [],
   "source": [
    "import torch\n",
    "import torch.nn.functional as F\n",
    "from torch_geometric_temporal.nn.recurrent import TGCN\n",
    "\n",
    "from torch_geometric_temporal.dataset import ChickenpoxDatasetLoader\n",
    "from torch_geometric_temporal.signal import temporal_signal_split\n",
    "\n",
    "loader = ChickenpoxDatasetLoader()\n",
    "\n",
    "dataset = loader.get_dataset()\n",
    "\n",
    "train_dataset, test_dataset = temporal_signal_split(dataset, train_ratio=0.2)"
   ]
  },
  {
   "cell_type": "code",
   "execution_count": 15,
   "id": "548fa4b3-6b24-4cde-a2dc-5b93adb1f50d",
   "metadata": {},
   "outputs": [],
   "source": [
    "class RecurrentGCN(torch.nn.Module):\n",
    "    def __init__(self, node_features):\n",
    "        super(RecurrentGCN, self).__init__()\n",
    "        self.recurrent = TGCN(node_features, 32)\n",
    "        self.linear = torch.nn.Linear(32, 1)\n",
    "\n",
    "    def forward(self, x, edge_index, edge_weight, prev_hidden_state):\n",
    "        h = self.recurrent(x, edge_index, edge_weight, prev_hidden_state)\n",
    "        y = F.relu(h)\n",
    "        y = self.linear(y)\n",
    "        return y, h"
   ]
  },
  {
   "cell_type": "code",
   "execution_count": 17,
   "id": "7b33d832-abfa-4ac3-a462-c4ccc5dd282e",
   "metadata": {},
   "outputs": [
    {
     "name": "stderr",
     "output_type": "stream",
     "text": [
      "100%|██████████| 50/50 [00:15<00:00,  3.30it/s]\n"
     ]
    }
   ],
   "source": [
    "model = RecurrentGCN(node_features = 4)\n",
    "\n",
    "optimizer = torch.optim.Adam(model.parameters(), lr=0.01)\n",
    "\n",
    "model.train()\n",
    "\n",
    "for epoch in tqdm(range(50)):\n",
    "    cost = 0\n",
    "    hidden_state = None\n",
    "    for time, snapshot in enumerate(train_dataset):\n",
    "        y_hat, hidden_state = model(snapshot.x, snapshot.edge_index, snapshot.edge_attr,hidden_state)\n",
    "        cost = cost + torch.mean((y_hat-snapshot.y)**2)\n",
    "    cost = cost / (time+1)\n",
    "    cost.backward()\n",
    "    optimizer.step()\n",
    "    optimizer.zero_grad()"
   ]
  },
  {
   "cell_type": "code",
   "execution_count": 18,
   "id": "e732e0cf-d5b0-4919-8a60-f200ef9d80e4",
   "metadata": {
    "tags": []
   },
   "outputs": [
    {
     "name": "stdout",
     "output_type": "stream",
     "text": [
      "MSE: 1.0087\n"
     ]
    }
   ],
   "source": [
    "model.eval()\n",
    "cost = 0\n",
    "hidden_state = None\n",
    "for time, snapshot in enumerate(test_dataset):\n",
    "    y_hat, hidden_state = model(snapshot.x, snapshot.edge_index, snapshot.edge_attr, hidden_state)\n",
    "    cost = cost + torch.mean((y_hat-snapshot.y)**2)\n",
    "cost = cost / (time+1)\n",
    "cost = cost.item()\n",
    "print(\"MSE: {:.4f}\".format(cost))"
   ]
  },
  {
   "cell_type": "code",
   "execution_count": null,
   "id": "84524d61-e5ce-41ee-9a93-609bdf62fcae",
   "metadata": {},
   "outputs": [],
   "source": []
  },
  {
   "cell_type": "code",
   "execution_count": null,
   "id": "2c5773e7-232a-4693-9036-1813497065d9",
   "metadata": {},
   "outputs": [],
   "source": []
  }
 ],
 "metadata": {
  "kernelspec": {
   "display_name": "Python 3",
   "language": "python",
   "name": "python3"
  },
  "language_info": {
   "codemirror_mode": {
    "name": "ipython",
    "version": 3
   },
   "file_extension": ".py",
   "mimetype": "text/x-python",
   "name": "python",
   "nbconvert_exporter": "python",
   "pygments_lexer": "ipython3",
   "version": "3.8.0"
  }
 },
 "nbformat": 4,
 "nbformat_minor": 5
}

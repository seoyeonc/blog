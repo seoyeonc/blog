{
  "cells": [
    {
      "cell_type": "markdown",
      "metadata": {},
      "source": [
        "# \\*\\*\\[ANOMALOUS\\]\\*\\*Graph\n",
        "\n",
        "SEOYEON CHOI  \n",
        "2023-09-07\n",
        "\n",
        "# Reference\n",
        "\n",
        "[공식홈](https://docs.pygod.org/en/latest/generated/pygod.detector.ANOMALOUS.html)\n",
        "\n",
        "[paper](https://www.ijcai.org/Proceedings/2018/0488.pdf)\n",
        "\n",
        "[교수님께서 알려주신\n",
        "사이트](https://pycaret.gitbook.io/docs/get-started/quickstart#anomaly-detection)\n",
        "\n",
        "`Summary`\n",
        "\n",
        "-   노드당 매핑된 attribute로 이상치를 계산해낸다.\n",
        "-   그래서 attribute 특징마다 나오는 이상치라고 칭하는 노드가 다른 것\n",
        "    같다.\n",
        "-   노드 정보와 네트워크를 기반으로 rare하거나 상당히 differ한 인스턴스\n",
        "    집합 찾는 것을 목표로 한다.\n",
        "\n",
        "[데이터셋 논문](https://arxiv.org/pdf/1603.08861.pdf)\n",
        "\n",
        "# Import"
      ],
      "id": "262d72da-1b5e-4fac-93b3-0f3027b78ce7"
    },
    {
      "cell_type": "code",
      "execution_count": 1,
      "metadata": {},
      "outputs": [
        {
          "output_type": "stream",
          "name": "stderr",
          "text": [
            "/home/csy/anaconda3/envs/temp_csy/lib/python3.8/site-packages/tqdm/auto.py:22: TqdmWarning: IProgress not found. Please update jupyter and ipywidgets. See https://ipywidgets.readthedocs.io/en/stable/user_install.html\n",
            "  from .autonotebook import tqdm as notebook_tqdm"
          ]
        }
      ],
      "source": [
        "import pygod\n",
        "import numpy as np\n",
        "import torch_geometric.transforms as T\n",
        "from torch_geometric.datasets import Planetoid\n",
        "\n",
        "import torch\n",
        "from pygod.generator import gen_contextual_outlier, gen_structural_outlier\n",
        "\n",
        "from pygod.utils import load_data\n",
        "\n",
        "from pygod.metric import eval_roc_auc\n",
        "\n",
        "from pygod.detector import ANOMALOUS"
      ],
      "id": "87e45f07-3c6b-48d0-961b-f4b290b669a0"
    },
    {
      "cell_type": "markdown",
      "metadata": {},
      "source": [
        "# Tutorial\n",
        "\n",
        "## CiteSeer Dataset"
      ],
      "id": "f0bd1256-b978-4a93-a4b9-8eca26facd86"
    },
    {
      "cell_type": "code",
      "execution_count": 68,
      "metadata": {},
      "outputs": [],
      "source": [
        "data = Planetoid('./data/CiteSeer', 'CiteSeer', transform=T.NormalizeFeatures())[0]"
      ],
      "id": "2942b1ea-4c11-4f31-ab95-68ec618a993a"
    },
    {
      "cell_type": "code",
      "execution_count": 69,
      "metadata": {},
      "outputs": [],
      "source": [
        "data"
      ],
      "id": "cd198673-2875-44f7-9fd0-0349470b3142"
    },
    {
      "cell_type": "markdown",
      "metadata": {},
      "source": [
        "`gen_contextual_outlier`의 역할: Generating contextual outliers\n",
        "\n",
        "-   임의로 선택한 노드 중 그 노드들끼리 얼마나 떨어져 있나?"
      ],
      "id": "8961c962-4bad-4354-9e54-7c725aed48f2"
    },
    {
      "cell_type": "code",
      "execution_count": 70,
      "metadata": {},
      "outputs": [],
      "source": [
        "data, ya = gen_contextual_outlier(data, n=100, k=50)"
      ],
      "id": "3cce0873-8fa0-4cf9-b2a1-5e42fe004692"
    },
    {
      "cell_type": "code",
      "execution_count": 71,
      "metadata": {},
      "outputs": [],
      "source": [
        "ya"
      ],
      "id": "3a565e1e-29f2-42c6-b8a6-9720dadbe4ea"
    },
    {
      "cell_type": "code",
      "execution_count": 72,
      "metadata": {},
      "outputs": [],
      "source": [
        "len(sum(np.where(ya==1)))"
      ],
      "id": "5ccae2fc-f84a-499b-a6b7-72c05b1f1705"
    },
    {
      "cell_type": "code",
      "execution_count": 73,
      "metadata": {},
      "outputs": [],
      "source": [
        "len(sum(np.where(ya==0)))"
      ],
      "id": "a4e73824-4cb2-4e69-8f59-b1797d12526a"
    },
    {
      "cell_type": "code",
      "execution_count": 74,
      "metadata": {},
      "outputs": [],
      "source": [
        "len(ya)"
      ],
      "id": "148259e2-4eb2-42c1-8534-036713b54b75"
    },
    {
      "cell_type": "markdown",
      "metadata": {},
      "source": [
        "`gen_structural_outlier`의 역할: Generating structural outliers\n",
        "\n",
        "-   임의로 선택한 노드들이 fully connected 되어있을때 그 집단과 얼마나\n",
        "    많이 다른가??"
      ],
      "id": "e8886ef5-ece2-4f0f-a9d8-78588b89732b"
    },
    {
      "cell_type": "code",
      "execution_count": 75,
      "metadata": {},
      "outputs": [],
      "source": [
        "data, ys = gen_structural_outlier(data, m=10, n=10)"
      ],
      "id": "9a871f24-4f1e-4d56-bea5-84909fd6555c"
    },
    {
      "cell_type": "code",
      "execution_count": 76,
      "metadata": {},
      "outputs": [],
      "source": [
        "ys"
      ],
      "id": "a596bef8-f137-42a8-914f-5841f26a1008"
    },
    {
      "cell_type": "code",
      "execution_count": 77,
      "metadata": {},
      "outputs": [],
      "source": [
        "len(sum(np.where(ys==1)))"
      ],
      "id": "6bae7c81-251f-4ad4-ae8e-e0989f4e9624"
    },
    {
      "cell_type": "code",
      "execution_count": 78,
      "metadata": {},
      "outputs": [],
      "source": [
        "len(sum(np.where(ys==0)))"
      ],
      "id": "b8615c84-042d-475e-969c-a1b088be0af2"
    },
    {
      "cell_type": "code",
      "execution_count": 79,
      "metadata": {},
      "outputs": [],
      "source": [
        "len(ys)"
      ],
      "id": "27603dd1-0483-4bf4-b5ea-7213739cdac7"
    },
    {
      "cell_type": "markdown",
      "metadata": {},
      "source": [
        "위에서 찾은 이상치 간에 `torch.logical_or` 논리 or 생성"
      ],
      "id": "ba536b2b-276b-4a62-8620-05f87142651f"
    },
    {
      "cell_type": "code",
      "execution_count": 80,
      "metadata": {},
      "outputs": [],
      "source": [
        "data.y = torch.logical_or(ys, ya).long()"
      ],
      "id": "433cc066-3411-4f11-a496-fbbdbc53f6fc"
    },
    {
      "cell_type": "code",
      "execution_count": 81,
      "metadata": {},
      "outputs": [],
      "source": [
        "data.y"
      ],
      "id": "0f55703c-1e46-4245-9f35-06c4c941de8c"
    },
    {
      "cell_type": "code",
      "execution_count": 82,
      "metadata": {},
      "outputs": [],
      "source": [
        "len(sum(np.where(data.y==1)))"
      ],
      "id": "65501742-651e-473a-99ba-88ef576d5268"
    },
    {
      "cell_type": "code",
      "execution_count": 83,
      "metadata": {},
      "outputs": [],
      "source": [
        "len(sum(np.where(data.y==0)))"
      ],
      "id": "3b26863d-620b-452f-bb59-0672f02e1a6d"
    },
    {
      "cell_type": "code",
      "execution_count": 84,
      "metadata": {},
      "outputs": [],
      "source": [
        "len(data.y)"
      ],
      "id": "e07f564e-ff9a-4c74-a40e-361566a60db8"
    },
    {
      "cell_type": "code",
      "execution_count": 85,
      "metadata": {},
      "outputs": [],
      "source": [
        "data = load_data('inj_cora')\n",
        "data.y = data.y.bool()"
      ],
      "id": "e38696a2-5d8d-4b74-875c-501ecb4ada30"
    },
    {
      "cell_type": "code",
      "execution_count": 86,
      "metadata": {},
      "outputs": [],
      "source": [
        "data.y"
      ],
      "id": "2b11c805-0097-4e0d-b943-545e073b5480"
    },
    {
      "cell_type": "markdown",
      "metadata": {},
      "source": [
        "`self.bool` 로 참인지 거짓인지 가릴 수 있다.\n",
        "\n",
        "-   여기서는 참이면 이상치인듯\n",
        "\n",
        "‘ANOMALOUS’ 함수 사용"
      ],
      "id": "523fc43c-001b-4a8b-86be-950eab4f568a"
    },
    {
      "cell_type": "code",
      "execution_count": 87,
      "metadata": {},
      "outputs": [],
      "source": [
        "detector = ANOMALOUS(gamma=1.,\n",
        "                     weight_decay=0.,\n",
        "                     lr=0.01,\n",
        "                     epoch=50,\n",
        "                     gpu=-1,\n",
        "                     contamination=0.1,\n",
        "                     verbose=0)"
      ],
      "id": "4e84ff3a-518c-40fe-bb6b-63a91efe5ef5"
    },
    {
      "cell_type": "code",
      "execution_count": 88,
      "metadata": {},
      "outputs": [],
      "source": [
        "detector.fit(data)"
      ],
      "id": "779ac84b-41ac-49f2-be04-2c33d29698b8"
    },
    {
      "cell_type": "markdown",
      "metadata": {},
      "source": [
        "``` python\n",
        "class ANOMALOUSBase(nn.Module):\n",
        "    def __init__(self, w, r):\n",
        "        super(ANOMALOUSBase, self).__init__()\n",
        "        self.w = nn.Parameter(w)\n",
        "        self.r = nn.Parameter(r)\n",
        "\n",
        "    def forward(self, x):\n",
        "        return x @ self.w @ x, self.r\n",
        "```"
      ],
      "id": "15275a23-319f-4f45-b4ea-3cc608281cde"
    },
    {
      "cell_type": "code",
      "execution_count": 89,
      "metadata": {},
      "outputs": [
        {
          "output_type": "stream",
          "name": "stderr",
          "text": [
            "/home/csy/anaconda3/envs/temp_csy/lib/python3.8/site-packages/pygod/detector/anomalous.py:111: UserWarning: This detector is transductive only. Training from scratch with the input data.\n",
            "  warnings.warn(\"This detector is transductive only. \""
          ]
        }
      ],
      "source": [
        "detector.decision_function(data)"
      ],
      "id": "9aed2ee9-9a64-420b-bf22-b9405855fc4e"
    },
    {
      "cell_type": "markdown",
      "metadata": {},
      "source": [
        "위에서 decision_function의 결과로 나오는 decision_score는 r의 제곱이며,\n",
        "이 r은 model에서 나온 결과인데 이 model은 ANOMALOUSBase(w_init,\n",
        "r_init)의 결과이다.\n",
        "\n",
        "이 r_init은 ANOMALOUS class 내에 있는 x, s, l, w_init, r_init =\n",
        "self.process_graph(data) 여기서 나온다.\n",
        "\n",
        "`-` return되는 거는 순서대로 x, s, laplacian, w_init, r_init\n",
        "\n",
        "`x`"
      ],
      "id": "e2288760-8cdf-4720-b12b-f2a1b5edfaec"
    },
    {
      "cell_type": "code",
      "execution_count": 90,
      "metadata": {},
      "outputs": [],
      "source": [
        "detector.process_graph(data)[0]"
      ],
      "id": "091e98ad-bcaa-434b-9d9c-de3f6969a9f3"
    },
    {
      "cell_type": "code",
      "execution_count": 91,
      "metadata": {},
      "outputs": [],
      "source": [
        "detector.process_graph(data)[0].shape"
      ],
      "id": "167e6ea7-52fd-4119-af83-e2d5c86ecbbb"
    },
    {
      "cell_type": "markdown",
      "metadata": {},
      "source": [
        "$X \\in \\mathbb{R}^{d \\times n}$\n",
        "\n",
        "2708 = `n` = the number of nodes\n",
        "\n",
        "1433 = `d` = dimensiotnalattribute\n",
        "\n",
        "`s`"
      ],
      "id": "67ac6802-4b7c-4f1a-b158-2352ce978997"
    },
    {
      "cell_type": "code",
      "execution_count": 92,
      "metadata": {},
      "outputs": [],
      "source": [
        "detector.process_graph(data)[1]"
      ],
      "id": "ddb81d8d-89a0-4472-9cdc-1175b8be9dba"
    },
    {
      "cell_type": "code",
      "execution_count": 93,
      "metadata": {},
      "outputs": [],
      "source": [
        "detector.process_graph(data)[1].shape"
      ],
      "id": "f531a45e-aaa4-4c15-99f1-5a390c00e7bf"
    },
    {
      "cell_type": "markdown",
      "metadata": {},
      "source": [
        "$A \\in \\mathbb{R}^{n \\times n}$\n",
        "\n",
        "`laplacian`"
      ],
      "id": "3f7a7a38-c1fe-443d-8ee2-d4e1d37feb52"
    },
    {
      "cell_type": "code",
      "execution_count": 94,
      "metadata": {},
      "outputs": [],
      "source": [
        "detector.process_graph(data)[2]"
      ],
      "id": "e58f32eb-6b2a-46a6-91ad-19d9553f0622"
    },
    {
      "cell_type": "code",
      "execution_count": 95,
      "metadata": {},
      "outputs": [],
      "source": [
        "detector.process_graph(data)[2].shape"
      ],
      "id": "25e84ae3-27b2-4211-9e32-9feb7becc38a"
    },
    {
      "cell_type": "markdown",
      "metadata": {},
      "source": [
        "`generated Laplacian`\n",
        "\n",
        "$\\tilde{R} L \\tilde{R}^T$\n",
        "\n",
        "`w_init`"
      ],
      "id": "1b427864-1e3e-408a-9cdc-382edc1321dd"
    },
    {
      "cell_type": "code",
      "execution_count": 96,
      "metadata": {},
      "outputs": [],
      "source": [
        "detector.process_graph(data)[3]"
      ],
      "id": "23d97e3d-bd94-435b-ad47-fc8674363726"
    },
    {
      "cell_type": "code",
      "execution_count": 97,
      "metadata": {},
      "outputs": [],
      "source": [
        "detector.process_graph(data)[3].shape"
      ],
      "id": "56896f1c-2b26-42e3-b4ba-5d69240e14fb"
    },
    {
      "cell_type": "markdown",
      "metadata": {},
      "source": [
        "`r_init`"
      ],
      "id": "270cf6fb-30a0-4aea-8aef-47ad7d9da760"
    },
    {
      "cell_type": "code",
      "execution_count": 98,
      "metadata": {},
      "outputs": [],
      "source": [
        "detector.process_graph(data)[4]"
      ],
      "id": "89abc9c8-ab2a-49eb-8486-e0d89859635e"
    },
    {
      "cell_type": "code",
      "execution_count": 99,
      "metadata": {},
      "outputs": [],
      "source": [
        "detector.process_graph(data)[4].shape"
      ],
      "id": "91ec4b8f-dc2f-4e4b-bb82-f6b3e23e65af"
    }
  ],
  "nbformat": 4,
  "nbformat_minor": 5,
  "metadata": {
    "kernelspec": {
      "name": "python3",
      "display_name": "Python 3",
      "language": "python"
    },
    "language_info": {
      "name": "python",
      "codemirror_mode": {
        "name": "ipython",
        "version": "3"
      },
      "file_extension": ".py",
      "mimetype": "text/x-python",
      "nbconvert_exporter": "python",
      "pygments_lexer": "ipython3",
      "version": "3.8.0"
    }
  }
}
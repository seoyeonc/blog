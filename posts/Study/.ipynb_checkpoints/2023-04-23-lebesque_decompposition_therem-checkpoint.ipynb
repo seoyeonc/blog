{
 "cells": [
  {
   "cell_type": "raw",
   "id": "0d8a32cf-d6a4-4c15-a789-13958e5c4917",
   "metadata": {
    "id": "cac470df-29e7-4148-9bbd-d8b9a32fa570",
    "tags": []
   },
   "source": [
    "---\n",
    "title: \"Lebesgue's decomposition theorem\"\n",
    "author: \"SEOYEON CHOI\"\n",
    "date: \"2023-04-10\"\n",
    "categories:\n",
    "  - Lebesque\n",
    "---"
   ]
  },
  {
   "cell_type": "markdown",
   "id": "375c70b9-5643-411c-b974-2babe9b9fff4",
   "metadata": {},
   "source": [
    "> Existing Method Review"
   ]
  },
  {
   "cell_type": "markdown",
   "id": "8434fd9b-7623-41e2-9298-ea7e791d4baa",
   "metadata": {},
   "source": [
    "[Lebesgue's decomposition theorem](https://en.wikipedia.org/wiki/Lebesgue%27s_decomposition_theorem)"
   ]
  },
  {
   "cell_type": "markdown",
   "id": "46ec163a-86fe-4336-ab9b-e17ef2659012",
   "metadata": {},
   "source": [
    "# 르벡 분해 이론"
   ]
  },
  {
   "cell_type": "markdown",
   "id": "34be8573-9720-479a-bd0d-32ba5eca2998",
   "metadata": {},
   "source": [
    "1. $\\mathcal{v}$는 아래와 같이 분해할 수 있다."
   ]
  },
  {
   "cell_type": "markdown",
   "id": "07943d18-45cf-4be1-a16b-6d04924a3e1b",
   "metadata": {},
   "source": [
    "$\\mathcal{v = v_{count} + v_{sing} + v_{pp}}$"
   ]
  },
  {
   "cell_type": "markdown",
   "id": "67ab3b8c-5820-4552-9efc-feac4ff1e378",
   "metadata": {},
   "source": [
    "- $\\mathcal{v_{count}}$는 절대 연속함수\n",
    "\n",
    "- $\\mathcal{v_{sing}}$는 singular 연속 함수\n",
    "\n",
    "- $\\mathcal{v_{pp}}$는 이산형 확률변수"
   ]
  },
  {
   "cell_type": "markdown",
   "id": "cd4b191b-e8aa-4c67-ab66-f2df7b7318a8",
   "metadata": {},
   "source": [
    "2. 절대연속 메져는 Radon–Nikodym theorem에 의해 분해되고, 이산 메져는 쉽게 이해된다(?)"
   ]
  },
  {
   "cell_type": "code",
   "execution_count": null,
   "id": "5a1acad7-212b-45f6-b10d-666d509287d8",
   "metadata": {},
   "outputs": [],
   "source": []
  }
 ],
 "metadata": {
  "kernelspec": {
   "display_name": "Python 3 (ipykernel)",
   "language": "python",
   "name": "python3"
  },
  "language_info": {
   "codemirror_mode": {
    "name": "ipython",
    "version": 3
   },
   "file_extension": ".py",
   "mimetype": "text/x-python",
   "name": "python",
   "nbconvert_exporter": "python",
   "pygments_lexer": "ipython3",
   "version": "3.8.12"
  }
 },
 "nbformat": 4,
 "nbformat_minor": 5
}

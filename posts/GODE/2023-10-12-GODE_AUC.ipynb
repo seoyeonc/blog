{
 "cells": [
  {
   "cell_type": "raw",
   "id": "ebad32fa-18f1-4de4-84cf-737b7944705c",
   "metadata": {},
   "source": [
    "---\n",
    "title: \"**[GODE]**AUC\"\n",
    "author: \"SEOYEON CHOI\"\n",
    "date: \"2023-10-12\"\n",
    "---"
   ]
  },
  {
   "cell_type": "markdown",
   "id": "8855041a-39d3-4d1b-988f-017c86c79302",
   "metadata": {},
   "source": [
    "# Import"
   ]
  },
  {
   "cell_type": "code",
   "execution_count": 152,
   "id": "2a4d8094-356e-4769-94d7-e221cd2f38f8",
   "metadata": {},
   "outputs": [],
   "source": [
    "import numpy as np\n",
    "import matplotlib.pyplot as plt\n",
    "import matplotlib\n",
    "import pandas as pd\n",
    "import random\n",
    "\n",
    "import warnings\n",
    "warnings.simplefilter(\"ignore\", np.ComplexWarning)\n",
    "from haversine import haversine\n",
    "from IPython.display import HTML\n",
    "import plotly.graph_objects as go\n",
    "import copy \n",
    "\n",
    "import tqdm\n",
    "from rpy2.robjects.packages import importr\n",
    "from rpy2.robjects.vectors import FloatVector \n",
    "\n",
    "from pygsp import graphs, filters, plotting, utils\n",
    "\n",
    "from sklearn.metrics import confusion_matrix\n",
    "from sklearn.metrics import precision_score, recall_score, f1_score, accuracy_score\n",
    "\n",
    "from sklearn.neighbors import LocalOutlierFactor\n",
    "from pyod.models.knn import KNN\n",
    "from pyod.models.cblof import CBLOF\n",
    "from sklearn import svm\n",
    "from pyod.models.mcd import MCD\n",
    "from pyod.models.feature_bagging import FeatureBagging\n",
    "from pyod.models.abod import ABOD\n",
    "from alibi_detect.od import IForest\n",
    "from pyod.models.hbos import HBOS\n",
    "from pyod.models.sos import SOS\n",
    "from pyod.models.so_gaal import SO_GAAL\n",
    "from pyod.models.mo_gaal import MO_GAAL\n",
    "from pyod.models.lscp import LSCP\n",
    "from pyod.models.lof import LOF\n",
    "from pyod.models.ocsvm import OCSVM\n",
    "from sklearn.svm import OneClassSVM"
   ]
  },
  {
   "cell_type": "markdown",
   "id": "5ad6df20-6fed-4740-91e8-5f1b0bf2aa69",
   "metadata": {},
   "source": [
    "# Purpose of Post - ROC/AUC"
   ]
  },
  {
   "cell_type": "code",
   "execution_count": 245,
   "id": "bbe22364-c25d-4c4f-8a06-d62224a7e49c",
   "metadata": {},
   "outputs": [
    {
     "data": {
      "text/plain": [
       "Text(0.5, 0, 'FPR')"
      ]
     },
     "execution_count": 245,
     "metadata": {},
     "output_type": "execute_result"
    },
    {
     "data": {
      "image/png": "[encoded data removed]",
      "text/plain": [
       "<Figure size 640x480 with 1 Axes>"
      ]
     },
     "metadata": {},
     "output_type": "display_data"
    }
   ],
   "source": [
    "_x = np.linspace(0,1)\n",
    "_y = np.exp(-_x) * -1\n",
    "plt.plot(_x,_y)\n",
    "plt.ylabel('TPR')\n",
    "plt.xlabel('FPR')"
   ]
  },
  {
   "cell_type": "markdown",
   "id": "1e4a76fa-bfff-4e4f-9edd-567b97e73406",
   "metadata": {},
   "source": [
    "x 축 (FPR) =  FP / (FP + TN)\n",
    "\n",
    "y 축 (TPR) =  TP / (TP + FN)\n",
    "\n",
    "로 만들어진 곡선이 ROC 곡선, 그 아래 면적이 AUC, "
   ]
  },
  {
   "cell_type": "markdown",
   "id": "d5d3b380-d6b3-4e5c-9f37-e226cfa551b7",
   "metadata": {},
   "source": [
    "# Class"
   ]
  },
  {
   "cell_type": "code",
   "execution_count": 2,
   "id": "cf09a4b7-f70b-483a-82e3-99c99cc3c0dc",
   "metadata": {},
   "outputs": [],
   "source": [
    "class Conf_matrx:\n",
    "    def __init__(self,original,compare):\n",
    "        self.original = original\n",
    "        self.compare = compare\n",
    "    def conf(self,name):\n",
    "        self.conf_matrix = confusion_matrix(self.original, self.compare)\n",
    "        \n",
    "        fig, ax = plt.subplots(figsize=(5, 5))\n",
    "        ax.matshow(self.conf_matrix, cmap=plt.cm.Oranges, alpha=0.3)\n",
    "        for i in range(self.conf_matrix.shape[0]):\n",
    "            for j in range(self.conf_matrix.shape[1]):\n",
    "                ax.text(x=j, y=i,s=self.conf_matrix[i, j], va='center', ha='center', size='xx-large')\n",
    "        plt.xlabel('Predictions', fontsize=18)\n",
    "        plt.ylabel('Actuals', fontsize=18)\n",
    "        plt.title('Confusion Matrix', fontsize=18)\n",
    "        plt.show()\n",
    "        \n",
    "        self.acc = accuracy_score(self.original, self.compare)\n",
    "        self.pre = precision_score(self.original, self.compare)\n",
    "        self.rec = recall_score(self.original, self.compare)\n",
    "        self.f1 = f1_score(self.original, self.compare)\n",
    "        \n",
    "        print('Accuracy: %.3f' % self.acc)\n",
    "        print('Precision: %.3f' % self.pre)\n",
    "        print('Recall: %.3f' % self.rec)\n",
    "        print('F1 Score: %.3f' % self.f1)"
   ]
  },
  {
   "cell_type": "code",
   "execution_count": 3,
   "id": "5ac59005-c866-4308-af3d-376e69928bbb",
   "metadata": {},
   "outputs": [],
   "source": [
    "class Linear:\n",
    "    def __init__(self,df):\n",
    "        self.df = df\n",
    "        self.y = df.y.to_numpy()\n",
    "        self.x = df.x.to_numpy()\n",
    "        self.n = len(self.y)\n",
    "        self.W = w\n",
    "    def _eigen(self):\n",
    "        d= self.W.sum(axis=1)\n",
    "        D= np.diag(d)\n",
    "        self.L = np.diag(1/np.sqrt(d)) @ (D-self.W) @ np.diag(1/np.sqrt(d))\n",
    "        self.lamb, self.Psi = np.linalg.eigh(self.L)\n",
    "        self.Lamb = np.diag(self.lamb)      \n",
    "    def fit(self,threshold=0,sd=20): # fit with ebayesthresh\n",
    "        self._eigen()\n",
    "        self.ybar = self.Psi.T @ self.y # fbar := graph fourier transform of f\n",
    "        self.power = self.ybar**2 \n",
    "        ebayesthresh = importr('EbayesThresh').ebayesthresh\n",
    "        self.power_threshed=np.array(ebayesthresh(FloatVector(self.power),sd=sd))\n",
    "        self.ybar_threshed = np.where(self.power_threshed>threshold,self.ybar,0)\n",
    "        self.yhat = self.Psi@self.ybar_threshed\n",
    "        self.df = self.df.assign(yHat = self.yhat)\n",
    "        self.df = self.df.assign(Residual = self.df.y- self.df.yHat)"
   ]
  },
  {
   "cell_type": "code",
   "execution_count": 4,
   "id": "cf41ddd6-2466-4bb4-a402-63ed0ba5bf67",
   "metadata": {},
   "outputs": [],
   "source": [
    "class Orbit:\n",
    "    def __init__(self,df):\n",
    "        self.df = df \n",
    "        self.f = df.f.to_numpy()\n",
    "        self.x = df.x.to_numpy()\n",
    "        self.y = df.y.to_numpy()\n",
    "        self.n = len(self.f)\n",
    "        self.theta= None\n",
    "    def get_distance(self):\n",
    "        self.D = np.zeros([self.n,self.n])\n",
    "        locations = np.stack([self.x, self.y],axis=1)\n",
    "        for i in tqdm.tqdm(range(self.n)):\n",
    "            for j in range(i,self.n):\n",
    "                self.D[i,j]=np.linalg.norm(locations[i]-locations[j])\n",
    "        self.D = self.D + self.D.T\n",
    "    def get_weightmatrix(self,theta=1,beta=0.5,kappa=4000):\n",
    "        self.theta = theta\n",
    "        dist = np.where(self.D < kappa,self.D,0)\n",
    "        self.W = np.exp(-(dist/self.theta)**2)\n",
    "    def _eigen(self):\n",
    "        d= self.W.sum(axis=1)\n",
    "        D= np.diag(d)\n",
    "        self.L = np.diag(1/np.sqrt(d)) @ (D-self.W) @ np.diag(1/np.sqrt(d))\n",
    "        self.lamb, self.Psi = np.linalg.eigh(self.L)\n",
    "        self.Lamb = np.diag(self.lamb)       \n",
    "    def fit(self,threshold=0,sd=5,ref=20): # fit with ebayesthresh\n",
    "        self._eigen()\n",
    "        self.fbar = self.Psi.T @ self.f # fbar := graph fourier transform of f\n",
    "        self.power = self.fbar**2 \n",
    "        ebayesthresh = importr('EbayesThresh').ebayesthresh\n",
    "        self.power_threshed=np.array(ebayesthresh(FloatVector(self.power),sd=sd))\n",
    "        self.fbar_threshed = np.where(self.power_threshed>threshold,self.fbar,0)\n",
    "        self.fhat = self.Psi@self.fbar_threshed\n",
    "        self.df = self.df.assign(fHat = self.fhat)\n",
    "        self.df = self.df.assign(Residual = self.df.f- self.df.fHat)\n",
    "        self.bottom = np.zeros_like(self.f)\n",
    "        self.width=0.05\n",
    "        self.depth=0.05"
   ]
  },
  {
   "cell_type": "code",
   "execution_count": 5,
   "id": "f1e62c61-755d-4497-a557-b54137e04f18",
   "metadata": {},
   "outputs": [],
   "source": [
    "class BUNNY:\n",
    "    def __init__(self,df):\n",
    "        self.df = df \n",
    "        self.f = df.f.to_numpy()\n",
    "        self.z = df.z.to_numpy()\n",
    "        self.x = df.x.to_numpy()\n",
    "        self.y = df.y.to_numpy()\n",
    "        self.noise = df.noise.to_numpy()\n",
    "        self.fnoise = self.f + self.noise\n",
    "        self.W = _W\n",
    "        self.n = len(self.f)\n",
    "        self.theta= None\n",
    "    def _eigen(self):\n",
    "        d= self.W.sum(axis=1)\n",
    "        D= np.diag(d)\n",
    "        self.L = np.diag(1/np.sqrt(d)) @ (D-self.W) @ np.diag(1/np.sqrt(d))\n",
    "        self.lamb, self.Psi = np.linalg.eigh(self.L)\n",
    "        self.Lamb = np.diag(self.lamb)       \n",
    "    def fit(self,threshold=0,sd=5,ref=6): # fit with ebayesthresh\n",
    "        self._eigen()\n",
    "        self.fbar = self.Psi.T @ self.fnoise # fbar := graph fourier transform of f\n",
    "        self.power = self.fbar**2 \n",
    "        ebayesthresh = importr('EbayesThresh').ebayesthresh\n",
    "        self.power_threshed=np.array(ebayesthresh(FloatVector(self.power),sd=sd))\n",
    "        self.fbar_threshed = np.where(self.power_threshed>threshold,self.fbar,0)\n",
    "        self.fhat = self.Psi@self.fbar_threshed\n",
    "        self.df = self.df.assign(fnoise = self.fnoise)\n",
    "        self.df = self.df.assign(fHat = self.fhat)\n",
    "        self.df = self.df.assign(Residual = self.df.f + self.df.noise - self.df.fHat)\n",
    "        self.bottom = np.zeros_like(self.f)\n",
    "        self.width=0.05\n",
    "        self.depth=0.05"
   ]
  },
  {
   "cell_type": "markdown",
   "id": "7e0e36c4-af6b-4af1-99fb-9a4925a855e4",
   "metadata": {},
   "source": [
    "# Linear"
   ]
  },
  {
   "cell_type": "code",
   "execution_count": 171,
   "id": "23dd9607-3d46-4532-bfdb-a8efe0d54cea",
   "metadata": {},
   "outputs": [],
   "source": [
    "np.random.seed(6)\n",
    "epsilon = np.around(np.random.normal(size=1000),15)\n",
    "signal = np.random.choice(np.concatenate((np.random.uniform(-7, -5, 25).round(15), np.random.uniform(5, 7, 25).round(15), np.repeat(0, 950))), 1000)\n",
    "eta = signal + epsilon\n",
    "outlier_true_one_1 = signal.copy()\n",
    "outlier_true_one_1 = list(map(lambda x: -1 if x!=0 else 1,outlier_true_one_1))"
   ]
  },
  {
   "cell_type": "code",
   "execution_count": 172,
   "id": "26054efc-46fb-4ee7-b033-82a2f1b7e060",
   "metadata": {},
   "outputs": [],
   "source": [
    "x_1 = np.linspace(0,2,1000)\n",
    "y1_1 = 5 * x_1\n",
    "y_1 = y1_1 + eta # eta = signal + epsilon\n",
    "_df=pd.DataFrame({'x':x_1, 'y':y_1})"
   ]
  },
  {
   "cell_type": "code",
   "execution_count": 173,
   "id": "c6595059-c1e1-4b0f-8819-944d48050b0b",
   "metadata": {},
   "outputs": [],
   "source": [
    "w=np.zeros((1000,1000))\n",
    "for i in range(1000):\n",
    "    for j in range(1000):\n",
    "        if i==j :\n",
    "            w[i,j] = 0\n",
    "        elif np.abs(i-j) <= 1 : \n",
    "            w[i,j] = 1"
   ]
  },
  {
   "cell_type": "markdown",
   "id": "5a575915-bbbd-4ebe-8625-bd5e1c2ea932",
   "metadata": {},
   "source": [
    "## GODE_Linear"
   ]
  },
  {
   "cell_type": "code",
   "execution_count": 179,
   "id": "b59f493d-c9a6-48fb-bce7-8f5f4382920f",
   "metadata": {},
   "outputs": [],
   "source": [
    "_Linear = Linear(_df)\n",
    "_Linear.fit(threshold=0,sd=20)"
   ]
  },
  {
   "cell_type": "markdown",
   "id": "ff6e2eb2-9f96-47d1-b3d3-05dd19a68060",
   "metadata": {},
   "source": [
    "**피리오도그램을 구하고 thresholding\b을 조정하며 auc 구한다면, 피리오도그램 값이 아래와 같이 나와 thresholding을 하는 것이 의미가 있는지 하는 의문..**"
   ]
  },
  {
   "cell_type": "code",
   "execution_count": 192,
   "id": "2b1df2bd-7ec4-472f-b5f2-aef55d89c912",
   "metadata": {},
   "outputs": [
    {
     "data": {
      "text/plain": [
       "array([24952.33637726,  8400.08080592,     0.        ,   127.44794327])"
      ]
     },
     "execution_count": 192,
     "metadata": {},
     "output_type": "execute_result"
    }
   ],
   "source": [
    "pd.unique(_Linear.power_threshed)"
   ]
  },
  {
   "cell_type": "code",
   "execution_count": 193,
   "id": "943f768c-ac75-43c8-a2a5-90d2c54ccffc",
   "metadata": {},
   "outputs": [
    {
     "data": {
      "text/plain": [
       "array([24952.33637726,  8400.08080592,     0.        ,   127.44794327,\n",
       "           0.        ])"
      ]
     },
     "execution_count": 193,
     "metadata": {},
     "output_type": "execute_result"
    }
   ],
   "source": [
    "_Linear.power_threshed[:5]"
   ]
  },
  {
   "cell_type": "code",
   "execution_count": 254,
   "id": "e994c0c7-0d18-4225-9efb-991d287e73e9",
   "metadata": {},
   "outputs": [
    {
     "data": {
      "text/plain": [
       "array([    0.        ,     0.        ,   127.44794327,  8400.08080592,\n",
       "       24952.33637726])"
      ]
     },
     "execution_count": 254,
     "metadata": {},
     "output_type": "execute_result"
    }
   ],
   "source": [
    "np.sort(_Linear.power_threshed)[-5:]"
   ]
  },
  {
   "cell_type": "code",
   "execution_count": 190,
   "id": "f8459e94-8e0c-448d-abb9-47e11a57e49a",
   "metadata": {},
   "outputs": [
    {
     "data": {
      "text/plain": [
       "[<matplotlib.lines.Line2D at 0x7efc23400760>]"
      ]
     },
     "execution_count": 190,
     "metadata": {},
     "output_type": "execute_result"
    },
    {
     "data": {
      "image/png": "[encoded data removed]",
      "text/plain": [
       "<Figure size 640x480 with 1 Axes>"
      ]
     },
     "metadata": {},
     "output_type": "display_data"
    }
   ],
   "source": [
    "plt.plot(_Linear.power_threshed[0:10])"
   ]
  },
  {
   "cell_type": "code",
   "execution_count": 175,
   "id": "902ea068-3528-4b9b-aeee-f21510192ec2",
   "metadata": {},
   "outputs": [],
   "source": [
    "outlier_simul_one = (_Linear.df['Residual']**2).tolist()\n",
    "sorted_data = sorted(outlier_simul_one,reverse=True)\n",
    "index = int(len(sorted_data) * 0.05)\n",
    "threshold = sorted_data[index]\n",
    "outlier_simul_one = list(map(lambda x: -1 if x > threshold else 1,outlier_simul_one))"
   ]
  },
  {
   "cell_type": "code",
   "execution_count": 176,
   "id": "cdaed96a-e6e9-45f5-805d-d05dda27fb07",
   "metadata": {},
   "outputs": [
    {
     "data": {
      "text/plain": [
       "950"
      ]
     },
     "execution_count": 176,
     "metadata": {},
     "output_type": "execute_result"
    }
   ],
   "source": [
    "outlier_simul_one.count(1)"
   ]
  },
  {
   "cell_type": "code",
   "execution_count": 177,
   "id": "7742401d-98e8-4701-9d38-b5fe0a4a2db1",
   "metadata": {},
   "outputs": [
    {
     "data": {
      "text/plain": [
       "50"
      ]
     },
     "execution_count": 177,
     "metadata": {},
     "output_type": "execute_result"
    }
   ],
   "source": [
    "outlier_simul_one.count(-1)"
   ]
  },
  {
   "cell_type": "code",
   "execution_count": 178,
   "id": "13ae65c1-a6a4-4884-8ba8-16aedf63aa1f",
   "metadata": {},
   "outputs": [
    {
     "data": {
      "image/png": "[encoded data removed]",
      "text/plain": [
       "<Figure size 500x500 with 1 Axes>"
      ]
     },
     "metadata": {},
     "output_type": "display_data"
    },
    {
     "name": "stdout",
     "output_type": "stream",
     "text": [
      "Accuracy: 0.999\n",
      "Precision: 0.999\n",
      "Recall: 1.000\n",
      "F1 Score: 0.999\n"
     ]
    }
   ],
   "source": [
    "_conf = Conf_matrx(outlier_true_one_1,outlier_simul_one)\n",
    "_conf.conf(\"GODE\")"
   ]
  },
  {
   "cell_type": "code",
   "execution_count": 169,
   "id": "3e320eba-7fb1-4468-ba3f-b2ff9b064f86",
   "metadata": {},
   "outputs": [
    {
     "data": {
      "text/plain": [
       "0.0196078431372549"
      ]
     },
     "execution_count": 169,
     "metadata": {},
     "output_type": "execute_result"
    }
   ],
   "source": [
    "_conf.conf_matrix[0][1] / (_conf.conf_matrix[0][1] + _conf.conf_matrix[0][0])"
   ]
  },
  {
   "cell_type": "markdown",
   "id": "5477e6e8-d9e5-478b-a0ab-e72387290cda",
   "metadata": {},
   "source": [
    "y축(TPR)"
   ]
  },
  {
   "cell_type": "code",
   "execution_count": 170,
   "id": "0eb70e24-3bee-48dd-abc6-1b53aa0c4910",
   "metadata": {
    "scrolled": true
   },
   "outputs": [
    {
     "data": {
      "text/plain": [
       "0.94994994994995"
      ]
     },
     "execution_count": 170,
     "metadata": {},
     "output_type": "execute_result"
    }
   ],
   "source": [
    "_conf.conf_matrix[1][1] / (_conf.conf_matrix[1][1] + _conf.conf_matrix[0][0])"
   ]
  },
  {
   "cell_type": "markdown",
   "id": "3bcc69b6-28a4-43dc-ac9a-eadd5af2ebb2",
   "metadata": {},
   "source": [
    "## LOF_Linear"
   ]
  },
  {
   "cell_type": "code",
   "execution_count": 135,
   "id": "5f85dda1-eb31-4692-a87c-ae62b8e6960d",
   "metadata": {},
   "outputs": [],
   "source": [
    "np.random.seed(77)\n",
    "clf = LocalOutlierFactor(contamination=0.05)"
   ]
  },
  {
   "cell_type": "code",
   "execution_count": 136,
   "id": "416f1c8c-c066-4f39-8a67-7a5d5dcae128",
   "metadata": {},
   "outputs": [
    {
     "data": {
      "image/png": "[encoded data removed]",
      "text/plain": [
       "<Figure size 500x500 with 1 Axes>"
      ]
     },
     "metadata": {},
     "output_type": "display_data"
    },
    {
     "name": "stdout",
     "output_type": "stream",
     "text": [
      "Accuracy: 0.991\n",
      "Precision: 0.995\n",
      "Recall: 0.996\n",
      "F1 Score: 0.995\n"
     ]
    }
   ],
   "source": [
    "_conf = Conf_matrx(outlier_true_one_1,clf.fit_predict(_df))\n",
    "_conf.conf(\"LOF (Breunig et al., 2000)\")"
   ]
  },
  {
   "cell_type": "markdown",
   "id": "ac247ad0-7f48-484c-b2c7-b464662df18b",
   "metadata": {},
   "source": [
    "x축(FPR)"
   ]
  },
  {
   "cell_type": "code",
   "execution_count": 137,
   "id": "31f263b3-a496-429b-855f-d3a4e0fc9435",
   "metadata": {},
   "outputs": [
    {
     "data": {
      "text/plain": [
       "0.9019607843137255"
      ]
     },
     "execution_count": 137,
     "metadata": {},
     "output_type": "execute_result"
    }
   ],
   "source": [
    "_conf.conf_matrix[0][0] / (_conf.conf_matrix[0][0] + _conf.conf_matrix[0][1])"
   ]
  },
  {
   "cell_type": "markdown",
   "id": "d67c7a0a-dd46-42c1-aeee-8337e30ae20c",
   "metadata": {},
   "source": [
    "y축(TPR)"
   ]
  },
  {
   "cell_type": "code",
   "execution_count": 138,
   "id": "a72b30ad-1c95-40b2-958c-4990905b7826",
   "metadata": {},
   "outputs": [
    {
     "data": {
      "text/plain": [
       "0.09803921568627451"
      ]
     },
     "execution_count": 138,
     "metadata": {},
     "output_type": "execute_result"
    }
   ],
   "source": [
    "_conf.conf_matrix[0][1] / (_conf.conf_matrix[0][0] + _conf.conf_matrix[0][1])"
   ]
  },
  {
   "cell_type": "markdown",
   "id": "e65868b9-1061-4a45-944e-9c85c1455879",
   "metadata": {},
   "source": [
    "# Orbit"
   ]
  },
  {
   "cell_type": "code",
   "execution_count": 194,
   "id": "6898ee27-f374-4340-b1d0-00bcbaa30927",
   "metadata": {},
   "outputs": [],
   "source": [
    "np.random.seed(1212)\n",
    "nepsilon = np.around(np.random.normal(size=1000),15)\n",
    "signal = np.random.choice(np.concatenate((np.random.uniform(-7, -5, 25).round(15), np.random.uniform(5, 7, 25).round(15), np.repeat(0, 950))), 1000)\n",
    "eta = signal + epsilon\n",
    "np.random.seed(777)\n",
    "pi=np.pi\n",
    "n=1000\n",
    "ang=np.linspace(-pi,pi-2*pi/n,n)\n",
    "r=5+np.cos(np.linspace(0,12*pi,n))\n",
    "vx=r*np.cos(ang)\n",
    "vy=r*np.sin(ang)\n",
    "f1=10*np.sin(np.linspace(0,6*pi,n))\n",
    "f = f1 + eta\n",
    "_df = pd.DataFrame({'x' : vx, 'y' : vy, 'f' : f})\n",
    "outlier_true_one = signal.copy()\n",
    "outlier_true_one = list(map(lambda x: -1 if x!=0 else 1,outlier_true_one))"
   ]
  },
  {
   "cell_type": "markdown",
   "id": "0534ed56-c1dd-454f-9727-0293e4df51a9",
   "metadata": {},
   "source": [
    "## GODE_Orbit"
   ]
  },
  {
   "cell_type": "code",
   "execution_count": 195,
   "id": "fe2e8210-9e27-4eb2-9cf1-15070bba1803",
   "metadata": {},
   "outputs": [
    {
     "name": "stderr",
     "output_type": "stream",
     "text": [
      "100%|██████████| 1000/1000 [00:01<00:00, 600.52it/s]\n"
     ]
    }
   ],
   "source": [
    "_Orbit = Orbit(_df)\n",
    "_Orbit.get_distance()"
   ]
  },
  {
   "cell_type": "code",
   "execution_count": 196,
   "id": "3f73d0ae-e521-41c6-b9d8-abc3e67d27ce",
   "metadata": {},
   "outputs": [],
   "source": [
    "_Orbit.get_weightmatrix(theta=(_Orbit.D[_Orbit.D>0].mean()),kappa=2500) \n",
    "_Orbit.fit(threshold=0,sd=15,ref=20)"
   ]
  },
  {
   "cell_type": "code",
   "execution_count": 197,
   "id": "507642ed-7550-4a59-ad33-20cd24193780",
   "metadata": {
    "scrolled": true
   },
   "outputs": [
    {
     "data": {
      "text/plain": [
       "array([    0.        , 46402.46367111,  3255.53870952,   212.04598802])"
      ]
     },
     "execution_count": 197,
     "metadata": {},
     "output_type": "execute_result"
    }
   ],
   "source": [
    "pd.unique(_Orbit.power_threshed)"
   ]
  },
  {
   "cell_type": "code",
   "execution_count": 208,
   "id": "e627d225-6805-40ab-b9f7-0c1376d9f837",
   "metadata": {},
   "outputs": [
    {
     "data": {
      "text/plain": [
       "array([    0.        ,     0.        , 46402.46367111,     0.        ,\n",
       "           0.        ,     0.        ,     0.        ,     0.        ,\n",
       "           0.        ,     0.        ,     0.        ,     0.        ,\n",
       "           0.        ,  3255.53870952,     0.        ,     0.        ,\n",
       "           0.        ,     0.        ,     0.        ,     0.        ,\n",
       "           0.        ,     0.        ,     0.        ,     0.        ,\n",
       "           0.        ,   212.04598802,     0.        ,     0.        ,\n",
       "           0.        ,     0.        ,     0.        ,     0.        ,\n",
       "           0.        ,     0.        ,     0.        ])"
      ]
     },
     "execution_count": 208,
     "metadata": {},
     "output_type": "execute_result"
    }
   ],
   "source": [
    "_Orbit.power_threshed[5:40]"
   ]
  },
  {
   "cell_type": "code",
   "execution_count": 206,
   "id": "250e8e6c-cd42-41b7-999c-5f036dee0dc6",
   "metadata": {},
   "outputs": [
    {
     "data": {
      "text/plain": [
       "[<matplotlib.lines.Line2D at 0x7efc2325bfa0>]"
      ]
     },
     "execution_count": 206,
     "metadata": {},
     "output_type": "execute_result"
    },
    {
     "data": {
      "image/png": "[encoded data removed]",
      "text/plain": [
       "<Figure size 640x480 with 1 Axes>"
      ]
     },
     "metadata": {},
     "output_type": "display_data"
    }
   ],
   "source": [
    "plt.plot(_Orbit.power_threshed[:35])"
   ]
  },
  {
   "cell_type": "code",
   "execution_count": 143,
   "id": "2ed80c63-f165-4e39-94f5-23d9551af1c4",
   "metadata": {},
   "outputs": [],
   "source": [
    "outlier_simul_one = (_Orbit.df['Residual']**2).tolist()\n",
    "sorted_data = sorted(outlier_simul_one,reverse=True)\n",
    "index = int(len(sorted_data) * 0.05)\n",
    "threshold = sorted_data[index]\n",
    "outlier_simul_one = list(map(lambda x: -1 if x > threshold else 1,outlier_simul_one))"
   ]
  },
  {
   "cell_type": "code",
   "execution_count": 144,
   "id": "f8f608e2-bcd0-4ab7-b686-db4c04a565e6",
   "metadata": {},
   "outputs": [
    {
     "data": {
      "text/plain": [
       "950"
      ]
     },
     "execution_count": 144,
     "metadata": {},
     "output_type": "execute_result"
    }
   ],
   "source": [
    "outlier_simul_one.count(1)"
   ]
  },
  {
   "cell_type": "code",
   "execution_count": 145,
   "id": "1589ba3a-9cd7-4422-ba65-9719a40aa854",
   "metadata": {},
   "outputs": [
    {
     "data": {
      "text/plain": [
       "50"
      ]
     },
     "execution_count": 145,
     "metadata": {},
     "output_type": "execute_result"
    }
   ],
   "source": [
    "outlier_simul_one.count(-1)"
   ]
  },
  {
   "cell_type": "code",
   "execution_count": 146,
   "id": "537d33ce-968b-43af-bc33-972dc3022262",
   "metadata": {},
   "outputs": [
    {
     "data": {
      "image/png": "[encoded data removed]",
      "text/plain": [
       "<Figure size 500x500 with 1 Axes>"
      ]
     },
     "metadata": {},
     "output_type": "display_data"
    },
    {
     "name": "stdout",
     "output_type": "stream",
     "text": [
      "Accuracy: 0.999\n",
      "Precision: 1.000\n",
      "Recall: 0.999\n",
      "F1 Score: 0.999\n"
     ]
    }
   ],
   "source": [
    "_conf = Conf_matrx(outlier_true_one,outlier_simul_one)\n",
    "_conf.conf(\"GODE\")"
   ]
  },
  {
   "cell_type": "markdown",
   "id": "e80d8e9a-42e7-4902-b2b3-fa733dd44695",
   "metadata": {},
   "source": [
    "x축(FPR)"
   ]
  },
  {
   "cell_type": "code",
   "execution_count": 147,
   "id": "e735136e-a58b-40be-ad61-fc75c5073134",
   "metadata": {},
   "outputs": [
    {
     "data": {
      "text/plain": [
       "1.0"
      ]
     },
     "execution_count": 147,
     "metadata": {},
     "output_type": "execute_result"
    }
   ],
   "source": [
    "_conf.conf_matrix[0][0] / (_conf.conf_matrix[0][0] + _conf.conf_matrix[0][1])"
   ]
  },
  {
   "cell_type": "markdown",
   "id": "9f64fe6f-193e-4e24-8b61-ac1f51507e94",
   "metadata": {},
   "source": [
    "y축(TPR)"
   ]
  },
  {
   "cell_type": "code",
   "execution_count": 148,
   "id": "ea999397-4db1-4c8c-8847-587c06c60850",
   "metadata": {},
   "outputs": [
    {
     "data": {
      "text/plain": [
       "0.0"
      ]
     },
     "execution_count": 148,
     "metadata": {},
     "output_type": "execute_result"
    }
   ],
   "source": [
    "_conf.conf_matrix[0][1] / (_conf.conf_matrix[0][0] + _conf.conf_matrix[0][1])"
   ]
  },
  {
   "cell_type": "markdown",
   "id": "91aec9dc-8c18-4725-b509-5c0f094cbcad",
   "metadata": {},
   "source": [
    "# Bunny"
   ]
  },
  {
   "cell_type": "code",
   "execution_count": 209,
   "id": "be2a32ae-d258-45fb-85c9-ef843c436b32",
   "metadata": {},
   "outputs": [
    {
     "name": "stderr",
     "output_type": "stream",
     "text": [
      "2023-10-17 18:24:01,701:[WARNING](pygsp.graphs.graph.lmax): The largest eigenvalue G.lmax is not available, we need to estimate it. Explicitly call G.estimate_lmax() or G.compute_fourier_basis() once beforehand to suppress the warning.\n"
     ]
    }
   ],
   "source": [
    "G = graphs.Bunny()\n",
    "n = G.N\n",
    "g = filters.Heat(G, tau=75) \n",
    "n=2503\n",
    "np.random.seed(1212)\n",
    "normal = np.around(np.random.normal(size=n),15)\n",
    "unif = np.concatenate([np.random.uniform(low=3,high=7,size=60), np.random.uniform(low=-7,high=-3,size=60),np.zeros(n-120)]); np.random.shuffle(unif)\n",
    "noise = normal + unif\n",
    "f = np.zeros(n)\n",
    "f[1000] = -3234\n",
    "f = g.filter(f, method='chebyshev') "
   ]
  },
  {
   "cell_type": "code",
   "execution_count": 210,
   "id": "e3da3266-b141-4706-8c7d-2d361efc733a",
   "metadata": {},
   "outputs": [],
   "source": [
    "G.coords.shape\n",
    "_W = G.W.toarray()\n",
    "_x = G.coords[:,0]\n",
    "_y = G.coords[:,1]\n",
    "_z = -G.coords[:,2]\n",
    "_df1 = {'W':_W,'x':_x,'y':_y,'z':_z, 'fnoise':f+noise,'f' : f, 'noise': noise,'unif':unif}\n",
    "_df = pd.DataFrame({'x': _df1['x'],'y':_df1['y'],'z':_df1['z'],'fnoise':_df1['fnoise'],'f':_df1['f'],'noise':_df1['noise']})\n",
    "unif = _df1['unif']\n",
    "outlier_true_one_2 = unif.copy()\n",
    "outlier_true_one_2 = list(map(lambda x: -1 if x !=0  else 1,outlier_true_one_2))\n",
    "X = np.array(_df)[:,:4]"
   ]
  },
  {
   "cell_type": "markdown",
   "id": "6d2dec95-edc3-46ad-a903-b16617245f84",
   "metadata": {},
   "source": [
    "## GODE_Bunny"
   ]
  },
  {
   "cell_type": "code",
   "execution_count": 211,
   "id": "d9eeff6e-08da-4618-a414-4dcb4cb0ee0f",
   "metadata": {},
   "outputs": [
    {
     "data": {
      "text/plain": [
       "2503"
      ]
     },
     "execution_count": 211,
     "metadata": {},
     "output_type": "execute_result"
    }
   ],
   "source": [
    "_W = _df1['W']\n",
    "_BUNNY = BUNNY(_df)\n",
    "_BUNNY.fit(sd=20,ref=10)\n",
    "len(_BUNNY.f)"
   ]
  },
  {
   "cell_type": "code",
   "execution_count": 217,
   "id": "8b40251d-a0c4-4690-8e63-c36b87b76336",
   "metadata": {},
   "outputs": [
    {
     "data": {
      "text/plain": [
       "array([3980.53117899, 2784.84426941, 2785.82506586,    0.        ,\n",
       "        186.14028939])"
      ]
     },
     "execution_count": 217,
     "metadata": {},
     "output_type": "execute_result"
    }
   ],
   "source": [
    "pd.unique(_BUNNY.power_threshed)"
   ]
  },
  {
   "cell_type": "code",
   "execution_count": 221,
   "id": "17578334-2bda-432e-a2cf-8766075994e5",
   "metadata": {},
   "outputs": [
    {
     "data": {
      "text/plain": [
       "array([3980.53117899, 2784.84426941, 2785.82506586,    0.        ,\n",
       "          0.        ,  186.14028939,    0.        ,    0.        ,\n",
       "          0.        ,    0.        ])"
      ]
     },
     "execution_count": 221,
     "metadata": {},
     "output_type": "execute_result"
    }
   ],
   "source": [
    "_BUNNY.power_threshed[:10]"
   ]
  },
  {
   "cell_type": "code",
   "execution_count": 223,
   "id": "9fd93c1f-3c45-449a-a727-cfb6057473c6",
   "metadata": {},
   "outputs": [
    {
     "data": {
      "text/plain": [
       "[<matplotlib.lines.Line2D at 0x7efc22e6db40>]"
      ]
     },
     "execution_count": 223,
     "metadata": {},
     "output_type": "execute_result"
    },
    {
     "data": {
      "image/png": "[encoded data removed]",
      "text/plain": [
       "<Figure size 640x480 with 1 Axes>"
      ]
     },
     "metadata": {},
     "output_type": "display_data"
    }
   ],
   "source": [
    "plt.plot(_BUNNY.power_threshed[:10])"
   ]
  },
  {
   "cell_type": "code",
   "execution_count": 213,
   "id": "210970d5-86b4-4227-b296-2e1a6b083dba",
   "metadata": {},
   "outputs": [
    {
     "data": {
      "text/plain": [
       "125.15"
      ]
     },
     "execution_count": 213,
     "metadata": {},
     "output_type": "execute_result"
    }
   ],
   "source": [
    "2503*0.05"
   ]
  },
  {
   "cell_type": "code",
   "execution_count": 212,
   "id": "0cfc7d22-accf-4d3c-994c-de361d0d4470",
   "metadata": {},
   "outputs": [],
   "source": [
    "outlier_simul_one = (_BUNNY.df['Residual']**2).tolist()\n",
    "sorted_data = sorted(outlier_simul_one,reverse=True)\n",
    "index = int(len(sorted_data) * 0.05)\n",
    "threshold = sorted_data[index]\n",
    "outlier_simul_one = list(map(lambda x: -1 if x > threshold else 1,outlier_simul_one))"
   ]
  },
  {
   "cell_type": "code",
   "execution_count": 214,
   "id": "d1fb1296-3e3a-456f-b3df-32f47e9c2b99",
   "metadata": {},
   "outputs": [
    {
     "data": {
      "text/plain": [
       "2378"
      ]
     },
     "execution_count": 214,
     "metadata": {},
     "output_type": "execute_result"
    }
   ],
   "source": [
    "outlier_simul_one.count(1)"
   ]
  },
  {
   "cell_type": "code",
   "execution_count": 215,
   "id": "8160db22-b56b-4640-969b-ea4fbedb4cf3",
   "metadata": {},
   "outputs": [
    {
     "data": {
      "text/plain": [
       "125"
      ]
     },
     "execution_count": 215,
     "metadata": {},
     "output_type": "execute_result"
    }
   ],
   "source": [
    "outlier_simul_one.count(-1)"
   ]
  },
  {
   "cell_type": "code",
   "execution_count": 216,
   "id": "01b33d99-d7f2-4894-a34d-d7435e3f1333",
   "metadata": {},
   "outputs": [
    {
     "data": {
      "image/png": "[encoded data removed]",
      "text/plain": [
       "<Figure size 500x500 with 1 Axes>"
      ]
     },
     "metadata": {},
     "output_type": "display_data"
    },
    {
     "name": "stdout",
     "output_type": "stream",
     "text": [
      "Accuracy: 0.988\n",
      "Precision: 0.995\n",
      "Recall: 0.993\n",
      "F1 Score: 0.994\n"
     ]
    }
   ],
   "source": [
    "_conf = Conf_matrx(outlier_true_one_2,outlier_simul_one)\n",
    "_conf.conf(\"GODE\")"
   ]
  },
  {
   "cell_type": "code",
   "execution_count": null,
   "id": "4b63741a-6425-465b-a490-b20858b1a12c",
   "metadata": {},
   "outputs": [],
   "source": []
  },
  {
   "cell_type": "code",
   "execution_count": null,
   "id": "367037a8-d0b8-4990-952c-dcf61dadd761",
   "metadata": {},
   "outputs": [],
   "source": []
  }
 ],
 "metadata": {
  "kernelspec": {
   "display_name": "Python 3 (ipykernel)",
   "language": "python",
   "name": "python3"
  },
  "language_info": {
   "codemirror_mode": {
    "name": "ipython",
    "version": 3
   },
   "file_extension": ".py",
   "mimetype": "text/x-python",
   "name": "python",
   "nbconvert_exporter": "python",
   "pygments_lexer": "ipython3",
   "version": "3.10.11"
  }
 },
 "nbformat": 4,
 "nbformat_minor": 5
}

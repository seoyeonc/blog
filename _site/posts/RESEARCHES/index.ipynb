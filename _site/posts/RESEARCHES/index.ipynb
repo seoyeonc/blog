{
  "cells": [
    {
      "cell_type": "markdown",
      "metadata": {},
      "source": [
        "# RESEARCHES\n",
        "\n",
        "SEOYEON CHOI  \n",
        "7/5/23\n",
        "\n",
        "About RESEARCHES"
      ],
      "id": "08334f9a-2aa8-40be-b5bf-a43a73b06311"
    }
  ],
  "nbformat": 4,
  "nbformat_minor": 5,
  "metadata": {
    "kernelspec": {
      "display_name": "Python 3",
      "language": "python",
      "name": "python3"
    }
  }
}
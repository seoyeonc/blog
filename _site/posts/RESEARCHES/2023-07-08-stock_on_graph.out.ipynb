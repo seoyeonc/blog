{
  "cells": [
    {
      "cell_type": "markdown",
      "metadata": {},
      "source": [
        "# Stock on Graph\n",
        "\n",
        "SEOYEON CHOI  \n",
        "7/8/23\n",
        "\n",
        "# Import"
      ],
      "id": "e7c155f4-2261-4f3b-ae60-e167a6a7b116"
    },
    {
      "cell_type": "code",
      "execution_count": 1,
      "metadata": {},
      "outputs": [],
      "source": [
        "import tqdm\n",
        "import numpy as np\n",
        "import pandas as pd\n",
        "import matplotlib.pyplot as plt \n",
        "import plotly.express as px\n",
        "import warnings\n",
        "warnings.simplefilter(\"ignore\", np.ComplexWarning)\n",
        "from haversine import haversine\n",
        "from IPython.display import HTML\n",
        "import plotly.graph_objects as go"
      ],
      "id": "a24eae01-75a7-41e6-9b24-6eed385089d2"
    },
    {
      "cell_type": "code",
      "execution_count": 2,
      "metadata": {},
      "outputs": [],
      "source": [
        "import rpy2\n",
        "import rpy2.robjects as ro \n",
        "from rpy2.robjects.vectors import FloatVector \n",
        "from rpy2.robjects.packages import importr"
      ],
      "id": "3ab56cd0-c0ec-4c64-9cd4-328aa18f03e7"
    },
    {
      "cell_type": "markdown",
      "metadata": {},
      "source": [
        "# Data intro(2020\\~2022)\n",
        "\n",
        "## Korea"
      ],
      "id": "9efa7121-e33a-4efd-b325-218b264a8e34"
    },
    {
      "cell_type": "code",
      "execution_count": 3,
      "metadata": {},
      "outputs": [],
      "source": [
        "df_korea = pd.read_csv('./dataset/korea_kospi.csv')"
      ],
      "id": "348ab291-cfc3-4ad5-ab9a-c0721e4ab144"
    },
    {
      "cell_type": "code",
      "execution_count": 4,
      "metadata": {},
      "outputs": [],
      "source": [
        "df_korea = pd.concat([df_korea,pd.DataFrame({'Country': \"Korea\",\n",
        "                                             'Value':(df_korea['Close'] - df_korea['Close'].mean())/df_korea['Close'].std()})],axis=1)\n"
      ],
      "id": "2dcd95d6-3494-40e6-9be5-d6e17ac2092e"
    },
    {
      "cell_type": "code",
      "execution_count": 5,
      "metadata": {},
      "outputs": [],
      "source": [
        "df_korea_add = df_korea.assign(Year = list(map(lambda x: x.split('-')[0],df_korea['Date'])),\\\n",
        "                                    Mon = list(map(lambda x: x.split('-')[1],df_korea['Date'])),\\\n",
        "                                    Day = list(map(lambda x: x.split('-')[2],df_korea['Date'])))"
      ],
      "id": "a8596c0e-f594-4ec0-bcab-32de92e9c5aa"
    },
    {
      "cell_type": "code",
      "execution_count": 6,
      "metadata": {},
      "outputs": [],
      "source": [
        "df_korea_add.Year = df_korea_add.Year.astype(np.float64)\n",
        "df_korea_add.Mon = df_korea_add.Mon.astype(np.float64)\n",
        "df_korea_add.Day = df_korea_add.Day.astype(np.float64)"
      ],
      "id": "558d57ab-2a34-4be2-9bd9-97c4c27b016e"
    },
    {
      "cell_type": "code",
      "execution_count": 7,
      "metadata": {},
      "outputs": [],
      "source": [
        "df_korea_covid = df_korea_add.query(\"Year>=2020 and Year <= 2022\");df_korea_covid"
      ],
      "id": "00e67cdd-460b-43e6-9f93-b65c05ba0798"
    },
    {
      "cell_type": "code",
      "execution_count": 8,
      "metadata": {},
      "outputs": [],
      "source": [
        "# plt.figure(figsize=(30, 8)) \n",
        "# plt.title('Korea (close)')\n",
        "# plt.xticks(rotation=45) \n",
        "# plt.plot(df_korea_covid['Date'], df_korea_covid['Close'], 'co-')\n",
        "# plt.grid(color='gray', linestyle='--')"
      ],
      "id": "42fbea35-4bb4-421b-8b99-2da1f0a42bea"
    },
    {
      "cell_type": "markdown",
      "metadata": {},
      "source": [
        "## US"
      ],
      "id": "893e0ef0-67d8-4130-b3b7-5fa0b87083de"
    },
    {
      "cell_type": "code",
      "execution_count": 9,
      "metadata": {},
      "outputs": [],
      "source": [
        "df_us = pd.read_csv('./dataset/us_nasdaq.csv')"
      ],
      "id": "a321fd26-33ea-45c8-b117-9283cbd84242"
    },
    {
      "cell_type": "code",
      "execution_count": 10,
      "metadata": {},
      "outputs": [],
      "source": [
        "df_us = pd.concat([df_us,pd.DataFrame({'Country': 'United States of America',\n",
        "                                             'Value':(df_us['Close'] - df_us['Close'].mean())/df_us['Close'].std()})],axis=1)"
      ],
      "id": "2cf5cc32-5cc3-400e-9688-ee0386d3bfa9"
    },
    {
      "cell_type": "code",
      "execution_count": 11,
      "metadata": {},
      "outputs": [],
      "source": [
        "df_us_add = df_us.assign(Year = list(map(lambda x: x.split('-')[0],df_us['Date'])),\\\n",
        "                            Mon = list(map(lambda x: x.split('-')[1],df_us['Date'])),\\\n",
        "                            Day = list(map(lambda x: x.split('-')[2],df_us['Date'])))"
      ],
      "id": "d8acc367-d53d-4989-8a4e-de2cb956e529"
    },
    {
      "cell_type": "code",
      "execution_count": 12,
      "metadata": {},
      "outputs": [],
      "source": [
        "df_us_add.Year = df_us_add.Year.astype(np.float64)\n",
        "df_us_add.Mon = df_us_add.Mon.astype(np.float64)\n",
        "df_us_add.Day = df_us_add.Day.astype(np.float64)"
      ],
      "id": "c8b54434-d9aa-4b7e-8858-bde421e88e57"
    },
    {
      "cell_type": "code",
      "execution_count": 13,
      "metadata": {},
      "outputs": [],
      "source": [
        "df_us_covid = df_us_add.query(\"Year>=2020 and Year <=2022\");df_us_covid"
      ],
      "id": "afd4a195-0784-4aad-af8e-8d42b5ec641d"
    },
    {
      "cell_type": "code",
      "execution_count": 14,
      "metadata": {},
      "outputs": [],
      "source": [
        "# plt.figure(figsize=(30, 8)) \n",
        "# plt.title('US (close)')\n",
        "# plt.xticks(rotation=45) \n",
        "# plt.plot(df_us_covid['Date'], df_us_covid['Close'], 'co-')\n",
        "# plt.grid(color='gray', linestyle='--')"
      ],
      "id": "336310b0-a58c-483d-9369-9a5ed993cd60"
    },
    {
      "cell_type": "markdown",
      "metadata": {},
      "source": [
        "## China"
      ],
      "id": "d0bf5fee-2a16-492c-8b38-2f9e64411456"
    },
    {
      "cell_type": "code",
      "execution_count": 15,
      "metadata": {},
      "outputs": [],
      "source": [
        "df_china = pd.read_csv('./dataset/china_ssec.csv')"
      ],
      "id": "7f9f86fc-6c3d-467c-97f7-858c307129c7"
    },
    {
      "cell_type": "code",
      "execution_count": 16,
      "metadata": {},
      "outputs": [],
      "source": [
        "df_china = pd.concat([df_china,pd.DataFrame({'Country': 'China',\n",
        "                                             'Value':(df_china['Close'] - df_china['Close'].mean())/df_china['Close'].std()})],axis=1)"
      ],
      "id": "aaea5960-8a26-4553-be52-df6c7ba4807c"
    },
    {
      "cell_type": "code",
      "execution_count": 17,
      "metadata": {},
      "outputs": [],
      "source": [
        "df_china_add = df_china.assign(Year = list(map(lambda x: x.split('-')[0],df_china['Date'])),\\\n",
        "                                    Mon = list(map(lambda x: x.split('-')[1],df_china['Date'])),\\\n",
        "                                    Day = list(map(lambda x: x.split('-')[2],df_china['Date'])))"
      ],
      "id": "1192560a-b4b6-443a-ac7a-87a4cb707a2c"
    },
    {
      "cell_type": "code",
      "execution_count": 18,
      "metadata": {},
      "outputs": [],
      "source": [
        "df_china_add.Year = df_china_add.Year.astype(np.float64)\n",
        "df_china_add.Mon = df_china_add.Mon.astype(np.float64)\n",
        "df_china_add.Day = df_china_add.Day.astype(np.float64)"
      ],
      "id": "8e3ce8a5-0aa4-43a3-9d08-137e7640c06e"
    },
    {
      "cell_type": "code",
      "execution_count": 19,
      "metadata": {},
      "outputs": [],
      "source": [
        "df_china_covid = df_china_add.query(\"Year>=2020 and Year <=2022\");df_china_covid"
      ],
      "id": "39640c84-7007-492a-8d04-37fd76d53cc9"
    },
    {
      "cell_type": "code",
      "execution_count": 20,
      "metadata": {},
      "outputs": [],
      "source": [
        "# plt.figure(figsize=(30, 8)) \n",
        "# plt.title('China (close)')\n",
        "# plt.xticks(rotation=45) \n",
        "# plt.plot(df_china_covid['Date'], df_china_covid['Close'], 'co-')\n",
        "# plt.grid(color='gray', linestyle='--')"
      ],
      "id": "ac255cb6-fdce-4ab1-8cfb-eecec21e2404"
    },
    {
      "cell_type": "markdown",
      "metadata": {},
      "source": [
        "## Japan"
      ],
      "id": "7030a3db-f2cb-4b01-9563-c18ebcfcc3dd"
    },
    {
      "cell_type": "code",
      "execution_count": 21,
      "metadata": {},
      "outputs": [],
      "source": [
        "df_japan = pd.read_csv('./dataset/japan_n225.csv')"
      ],
      "id": "85c2b367-f4e2-4fb1-8e99-2e6fec3fe223"
    },
    {
      "cell_type": "code",
      "execution_count": 22,
      "metadata": {},
      "outputs": [],
      "source": [
        "df_japan = pd.concat([df_japan,pd.DataFrame({'Country': 'Japan',\n",
        "                                             'Value':(df_japan['Close'] - df_japan['Close'].mean())/df_japan['Close'].std()})],axis=1)"
      ],
      "id": "20590b6f-84b6-4540-b675-c27317075bde"
    },
    {
      "cell_type": "code",
      "execution_count": 23,
      "metadata": {},
      "outputs": [],
      "source": [
        "df_japan_add = df_japan.assign(Year = list(map(lambda x: x.split('-')[0],df_japan['Date'])),\\\n",
        "                                    Mon = list(map(lambda x: x.split('-')[1],df_japan['Date'])),\\\n",
        "                                    Day = list(map(lambda x: x.split('-')[2],df_japan['Date'])))"
      ],
      "id": "71b2644e-e99f-4fc1-8b75-7bf668bd3cef"
    },
    {
      "cell_type": "code",
      "execution_count": 24,
      "metadata": {},
      "outputs": [],
      "source": [
        "df_japan_add.Year = df_japan_add.Year.astype(np.float64)\n",
        "df_japan_add.Mon = df_japan_add.Mon.astype(np.float64)\n",
        "df_japan_add.Day = df_japan_add.Day.astype(np.float64)"
      ],
      "id": "de65a861-83a3-4fea-8fce-5ccd8e855b2f"
    },
    {
      "cell_type": "code",
      "execution_count": 25,
      "metadata": {},
      "outputs": [],
      "source": [
        "df_japan_covid = df_japan_add.query(\"Year>=2020 and Year<=2022\");df_japan_covid"
      ],
      "id": "9ca37b4a-938c-4294-a5b3-09cffa05050a"
    },
    {
      "cell_type": "code",
      "execution_count": 26,
      "metadata": {},
      "outputs": [],
      "source": [
        "# plt.figure(figsize=(30, 8)) \n",
        "# plt.title('Japan (close)')\n",
        "# plt.xticks(rotation=45) \n",
        "# plt.plot(df_japan_covid['Date'], df_japan_covid['Close'], 'co-')\n",
        "# plt.grid(color='gray', linestyle='--')"
      ],
      "id": "1e067792-fbed-4694-b4c1-e09907851915"
    },
    {
      "cell_type": "code",
      "execution_count": 27,
      "metadata": {},
      "outputs": [],
      "source": [
        "# with plt.style.context('seaborn-white'):\n",
        "#     fig, ((ax1, ax2), (ax3, ax4)) = plt.subplots(2, 2,figsize=(30,15))\n",
        "#     ax1.plot(df_korea_covid['Date'], df_korea_covid['Close'])\n",
        "#     ax2.plot(df_us_covid['Date'], df_us_covid['Close'])\n",
        "#     ax3.plot(df_china_covid['Date'], df_china_covid['Close'])\n",
        "#     ax4.plot(df_japan_covid['Date'], df_japan_covid['Close'])"
      ],
      "id": "87307c7a-1909-41a1-bca1-cf76b5f2c34f"
    },
    {
      "cell_type": "code",
      "execution_count": 28,
      "metadata": {},
      "outputs": [],
      "source": [
        "df = pd.concat([df_korea_covid,df_us_covid,df_china_covid,df_japan_covid]);df"
      ],
      "id": "31dd700f-ac42-4025-bcb1-580dd82a3fa9"
    },
    {
      "cell_type": "code",
      "execution_count": 29,
      "metadata": {},
      "outputs": [],
      "source": [
        "df['Country'].unique()"
      ],
      "id": "427f8ed8-6a16-4c1d-8c9b-7e5f932a9236"
    },
    {
      "cell_type": "markdown",
      "metadata": {},
      "source": [
        "# COVID(2020\\~2022)\n",
        "\n",
        "Ref: [WHO](https://covid19.who.int/data),\n",
        "[질병관리청](https://ncov.kdca.go.kr/)"
      ],
      "id": "5c208c35-e82f-4bf2-a65e-8d719e91c30f"
    },
    {
      "cell_type": "code",
      "execution_count": 30,
      "metadata": {},
      "outputs": [],
      "source": [
        "covid = pd.read_csv('./dataset/WHO-COVID-19-global-data.csv').iloc[:,[0,1,2,4,6]];covid"
      ],
      "id": "f1fc741a-5906-4379-b6f1-b6907bbbd3bf"
    },
    {
      "cell_type": "code",
      "execution_count": 31,
      "metadata": {},
      "outputs": [],
      "source": [
        "covid['Country'].unique()"
      ],
      "id": "b11a4971-3be2-41e4-88f7-e456849c2bdc"
    },
    {
      "cell_type": "code",
      "execution_count": 32,
      "metadata": {},
      "outputs": [],
      "source": [
        "covid.query(\"Country_code =='KP'\")['New_cases'].unique()"
      ],
      "id": "d82b9c7f-34de-4c08-b5ae-1a0cce6f17d5"
    },
    {
      "cell_type": "code",
      "execution_count": 33,
      "metadata": {},
      "outputs": [],
      "source": [
        "_korea_covid = pd.read_excel('./dataset/covid_korea.csv');_korea_covid[:10]"
      ],
      "id": "32b2d1cb-aa5f-4a82-b9c0-c0ea5bd9cb17"
    },
    {
      "cell_type": "code",
      "execution_count": 34,
      "metadata": {},
      "outputs": [],
      "source": [
        "korea_covid = _korea_covid.assign(New_cases=np.where(_korea_covid['Unnamed: 2'] == '-', 0, _korea_covid['Unnamed: 2']),\\\n",
        "                                  New_deaths=np.where(_korea_covid['Unnamed: 4'] == '-', 0, _korea_covid['Unnamed: 4']),\\\n",
        "                                  Date_reported=list(map(lambda x: str(x).split()[0],_korea_covid['Unnamed: 0'])),\\\n",
        "                                  Country='Korea',Country_code='KP').\\\n",
        "                             iloc[5:,[7,9,8,6,5]];korea_covid"
      ],
      "id": "435142b3-689b-4852-83fd-bbd9f56b34a2"
    },
    {
      "cell_type": "code",
      "execution_count": 35,
      "metadata": {},
      "outputs": [],
      "source": [
        "covid_final = pd.concat([covid, korea_covid]).rename(columns={'Date_reported': 'Date'});covid_final"
      ],
      "id": "2628fb2d-e644-48a6-a664-ad53b4c521e6"
    },
    {
      "cell_type": "code",
      "execution_count": 36,
      "metadata": {},
      "outputs": [],
      "source": [
        "covid_final_add = covid_final.assign(Year = list(map(lambda x: x.split('-')[0],covid_final['Date'])),\\\n",
        "                                    Mon = list(map(lambda x: x.split('-')[1],covid_final['Date'])),\\\n",
        "                                    Day = list(map(lambda x: x.split('-')[2],covid_final['Date'])))"
      ],
      "id": "27da055c-aa79-4575-998a-141cf87a47a3"
    },
    {
      "cell_type": "code",
      "execution_count": 37,
      "metadata": {},
      "outputs": [],
      "source": [
        "covid_final_add"
      ],
      "id": "dda0694a-ce10-44a1-ba82-4be1fcf4b565"
    },
    {
      "cell_type": "code",
      "execution_count": 38,
      "metadata": {},
      "outputs": [],
      "source": [
        "# with plt.style.context('seaborn-white'):\n",
        "#     fig, ((ax1, ax2), (ax3, ax4)) = plt.subplots(2, 2,figsize=(30,15))\n",
        "#     ax1.plot(covid_final_add.query(\"Country =='Korea'\")['Date'], covid_final_add.query(\"Country =='Korea'\")['New_cases'])\n",
        "#     ax2.plot(covid_final_add.query(\"Country =='United States of America'\")['Date'], covid_final_add.query(\"Country =='United States of America'\")['New_cases'])\n",
        "#     ax3.plot(covid_final_add.query(\"Country =='China'\")['Date'], covid_final_add.query(\"Country =='China'\")['New_cases'])\n",
        "#     ax4.plot(covid_final_add.query(\"Country =='Japan'\")['Date'], covid_final_add.query(\"Country =='Japan'\")['New_cases'])"
      ],
      "id": "c4d46a72-4ac1-446b-8631-bcc96694ec12"
    },
    {
      "cell_type": "markdown",
      "metadata": {},
      "source": [
        "# define class"
      ],
      "id": "54bb0e22-cd15-49a1-bca7-b19a5a121919"
    },
    {
      "cell_type": "code",
      "execution_count": 41,
      "metadata": {},
      "outputs": [],
      "source": [
        "class Stock_graph:\n",
        "    def __init__(self,df):\n",
        "        self.df = df \n",
        "        self.f = df.Value.to_numpy()\n",
        "        self.year = df.Year.to_numpy()\n",
        "        self.mon = df.Mon.to_numpy()\n",
        "        self.day = df.Day.to_numpy()\n",
        "        self.country = df.Country\n",
        "        self.n = len(self.f)\n",
        "        \n",
        "        self.theta= None\n",
        "    def get_distance(self):\n",
        "        self.D = np.zeros([self.n,self.n])\n",
        "        locations = np.stack([self.lat, self.long],axis=1)\n",
        "        for i in tqdm.tqdm(range(self.n)):\n",
        "            for j in range(i,self.n): \n",
        "                self.D[i,j]=haversine(locations[i],locations[j])\n",
        "        self.D = self.D+self.D.T\n",
        "    def get_weightmatrix(self,theta=1,beta=0.5,kappa=4000):\n",
        "        self.theta = theta\n",
        "        dist = np.where(self.D<kappa,self.D,0)\n",
        "        self.W = np.exp(-(dist/self.theta)**2)\n",
        "\n",
        "    def _eigen(self):\n",
        "        d= self.W.sum(axis=1)\n",
        "        D= np.diag(d)\n",
        "        self.L = np.diag(1/np.sqrt(d)) @ (D-self.W) @ np.diag(1/np.sqrt(d))\n",
        "        self.lamb, self.Psi = np.linalg.eigh(self.L)\n",
        "        self.Lamb = np.diag(self.lamb)    \n",
        "        \n",
        "    def fit(self,ref=0.5): # fit with ebayesthresh\n",
        "        self._eigen()\n",
        "        self.fbar = self.Psi.T @ self.f # fbar := graph fourier transform of f\n",
        "        self.power = self.fbar**2 \n",
        "        ebayesthresh = importr('EbayesThresh').ebayesthresh\n",
        "        self.power_threshed=np.array(ebayesthresh(FloatVector(self.fbar**2)))\n",
        "        self.fbar_threshed = np.where(self.power_threshed>0,self.fbar,0)\n",
        "        self.fhat = self.Psi@self.fbar_threshed\n",
        "        self.df = self.df.assign(ValueHat = self.fhat)\n",
        "        self.df = self.df.assign(Residual = self.df.Value- self.df.ValueHat)"
      ],
      "id": "301d93f4-0eb0-4089-8f9e-3116021d1d56"
    },
    {
      "cell_type": "markdown",
      "metadata": {},
      "source": [
        "# 시도 1"
      ],
      "id": "ea5b71ef-60ab-470b-8ea8-b904a5293c6d"
    },
    {
      "cell_type": "code",
      "execution_count": 42,
      "metadata": {},
      "outputs": [],
      "source": [
        "rst = Stock_graph(df)"
      ],
      "id": "04f46ce0-7d7a-48dd-a104-6230072af66b"
    },
    {
      "cell_type": "code",
      "execution_count": 43,
      "metadata": {},
      "outputs": [],
      "source": [
        "len(rst.df)"
      ],
      "id": "8e6977a6-a509-41cb-8161-63a3e4d2a36c"
    },
    {
      "cell_type": "code",
      "execution_count": 44,
      "metadata": {},
      "outputs": [],
      "source": [
        "T = len(rst.df)"
      ],
      "id": "8cb090e2-db5b-4f43-93f0-5451cfdb9982"
    },
    {
      "cell_type": "code",
      "execution_count": 55,
      "metadata": {},
      "outputs": [
        {
          "output_type": "display_data",
          "metadata": {},
          "data": {
            "image/png": "[encoded data removed]"
          }
        }
      ],
      "source": [
        "plt.scatter(rst.df[rst.df['Country']=='Korea'].iloc[:,[8,9]],rst.df[rst.df['Country']=='Japan'].iloc[:,[8,9]])"
      ],
      "id": "2ba0f131-0e11-410d-bd3d-afd0942362a6"
    },
    {
      "cell_type": "code",
      "execution_count": 53,
      "metadata": {},
      "outputs": [],
      "source": [
        "rst.df[rst.df['Country']=='Japan'].iloc[:,[8,9]]"
      ],
      "id": "11f6b04e-eb77-4cc9-81b1-b7dbd71badc3"
    },
    {
      "cell_type": "code",
      "execution_count": null,
      "metadata": {},
      "outputs": [],
      "source": [
        "W = np.zeros((T,T))\n",
        "for i in range(T):\n",
        "    for j in range(T):\n",
        "        if np.abs(i-j) ==1 :\n",
        "            W[i,j] = 1\n",
        "        else:\n",
        "            W[i,j] = 0"
      ],
      "id": "deb60fdb-3abe-4357-8c03-0a6d469b2eaf"
    },
    {
      "cell_type": "code",
      "execution_count": null,
      "metadata": {},
      "outputs": [],
      "source": [
        "W"
      ],
      "id": "9e9588be-6466-4a90-a3de-7a1457495f06"
    },
    {
      "cell_type": "code",
      "execution_count": null,
      "metadata": {},
      "outputs": [],
      "source": [
        "rst.W = W"
      ],
      "id": "31e0ddf4-ae84-4589-9bd7-50c779a225e9"
    },
    {
      "cell_type": "code",
      "execution_count": null,
      "metadata": {},
      "outputs": [],
      "source": [
        "rst.fit()"
      ],
      "id": "512c4664-de8d-41a5-af58-5b1e800427cc"
    },
    {
      "cell_type": "markdown",
      "metadata": {},
      "source": [
        "## Result"
      ],
      "id": "1e60cd1f-b1a9-4c8d-b7ef-1bc22cae62ac"
    },
    {
      "cell_type": "code",
      "execution_count": null,
      "metadata": {},
      "outputs": [],
      "source": [
        "rst.df.merge(covid_final_add,on='Date').sort_values(\"Residual\",ascending=False).iloc[:30,:]"
      ],
      "id": "5e3be3c6-0e5f-4627-9f43-8348713d57fb"
    },
    {
      "cell_type": "markdown",
      "metadata": {},
      "source": [
        "# 시도 2"
      ],
      "id": "1e12ea88-4b47-46b6-b41d-9472a03e6052"
    },
    {
      "cell_type": "code",
      "execution_count": null,
      "metadata": {},
      "outputs": [],
      "source": [
        "rst2 = Stock_graph(df)"
      ],
      "id": "a797b278-f707-4442-97af-644469ad27a4"
    },
    {
      "cell_type": "code",
      "execution_count": null,
      "metadata": {},
      "outputs": [],
      "source": [
        "len(rst2.df)"
      ],
      "id": "a4ac4ee4-2fab-4b9c-aae6-ace7d3668b06"
    },
    {
      "cell_type": "code",
      "execution_count": null,
      "metadata": {},
      "outputs": [],
      "source": [
        "T"
      ],
      "id": "4d1ad23f-160d-424b-a756-1a460e87ca56"
    },
    {
      "cell_type": "code",
      "execution_count": null,
      "metadata": {},
      "outputs": [],
      "source": [
        "rst2.df"
      ],
      "id": "ba3cfb8e-7510-4724-b01e-85bc72659d91"
    },
    {
      "cell_type": "code",
      "execution_count": null,
      "metadata": {},
      "outputs": [],
      "source": [
        "rst2.df.sort_values('Country').iloc[:,[9,10]].reset_index().iloc[:,1:].pivot(columns='Country', values='Value').iloc[:,1].dropna()"
      ],
      "id": "08d37094-de50-4e18-88cb-2c8e7dd8d38b"
    },
    {
      "cell_type": "markdown",
      "metadata": {},
      "source": [
        "## Result"
      ],
      "id": "eaac3437-5c3b-4b81-ae90-6477dadb09bd"
    },
    {
      "cell_type": "code",
      "execution_count": null,
      "metadata": {},
      "outputs": [],
      "source": [
        "covid_final_add"
      ],
      "id": "a6695e2f-ba4e-41de-8d5d-9d235ae239ff"
    }
  ],
  "nbformat": 4,
  "nbformat_minor": 5,
  "metadata": {
    "kernelspec": {
      "name": "python3",
      "display_name": "Python 3",
      "language": "python"
    },
    "language_info": {
      "name": "python",
      "codemirror_mode": {
        "name": "ipython",
        "version": "3"
      },
      "file_extension": ".py",
      "mimetype": "text/x-python",
      "nbconvert_exporter": "python",
      "pygments_lexer": "ipython3",
      "version": "3.8.0"
    }
  }
}
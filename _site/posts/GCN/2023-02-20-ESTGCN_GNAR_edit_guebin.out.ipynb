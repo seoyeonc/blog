{
  "cells": [
    {
      "cell_type": "markdown",
      "metadata": {},
      "source": [
        "# 1st ITSTGCN\n",
        "\n",
        "GUEBIN CHOI  \n",
        "2/15/23\n",
        "\n",
        "> GNAR fiveNet,fivenodes lag 1\n",
        "\n",
        "# import"
      ],
      "id": "29190ba8-d972-4563-8c33-3acf39d6c241"
    },
    {
      "cell_type": "code",
      "execution_count": 1,
      "metadata": {},
      "outputs": [],
      "source": [
        "import numpy as np\n",
        "import pandas as pd\n",
        "import matplotlib.pyplot as plt\n",
        "from matplotlib import animation\n",
        "\n",
        "# torch\n",
        "import torch\n",
        "import torch.nn.functional as F\n",
        "import torch_geometric_temporal\n",
        "from torch_geometric_temporal.nn.recurrent import GConvGRU\n",
        "\n",
        "# scipy \n",
        "from scipy.interpolate import interp1d\n",
        "\n",
        "# utils\n",
        "import time\n",
        "import pickle\n",
        "from tqdm import tqdm\n",
        "\n",
        "# rpy2\n",
        "import rpy2\n",
        "import rpy2.robjects as ro \n",
        "from rpy2.robjects.vectors import FloatVector\n",
        "import rpy2.robjects as robjects\n",
        "from rpy2.robjects.packages import importr\n",
        "\n",
        "import rpy2.robjects.numpy2ri as rpyn"
      ],
      "id": "76c59813-6069-4eaf-9309-14c0ad8b6eaa"
    },
    {
      "cell_type": "code",
      "execution_count": 2,
      "metadata": {},
      "outputs": [],
      "source": [
        "class RecurrentGCN(torch.nn.Module):\n",
        "    def __init__(self, node_features, filters):\n",
        "        super(RecurrentGCN, self).__init__()\n",
        "        self.recurrent = GConvGRU(node_features, filters, 2)\n",
        "        self.linear = torch.nn.Linear(filters, 1)\n",
        "\n",
        "    def forward(self, x, edge_index, edge_weight):\n",
        "        h = self.recurrent(x, edge_index, edge_weight)\n",
        "        h = F.relu(h)\n",
        "        h = self.linear(h)\n",
        "        return h"
      ],
      "id": "0f8c24d2-5adc-422a-9234-3dde2c476465"
    },
    {
      "cell_type": "markdown",
      "metadata": {},
      "source": [
        "# my functions"
      ],
      "id": "c85575bf-ff0c-4ca8-9b2b-615d063aaa6c"
    },
    {
      "cell_type": "code",
      "execution_count": 3,
      "metadata": {},
      "outputs": [],
      "source": [
        "def load_data(fname):\n",
        "    with open(fname, 'rb') as outfile:\n",
        "        data_dict = pickle.load(outfile)\n",
        "    return data_dict"
      ],
      "id": "89c5bcb2-1cd1-491a-8144-f0258f8e6300"
    },
    {
      "cell_type": "code",
      "execution_count": 4,
      "metadata": {},
      "outputs": [],
      "source": [
        "def save_data(data_dict,fname):\n",
        "    with open(fname,'wb') as outfile:\n",
        "        pickle.dump(data_dict,outfile)"
      ],
      "id": "f8b53d24-2029-42e7-9bba-29d32991dba8"
    },
    {
      "cell_type": "code",
      "execution_count": 5,
      "metadata": {},
      "outputs": [],
      "source": [
        "def plot(f,*args,t=None,h=2.5,**kwargs):\n",
        "    T,N = f.shape\n",
        "    if t == None: t = range(T)\n",
        "    fig = plt.figure()\n",
        "    ax = fig.subplots(N,1)\n",
        "    for n in range(N):\n",
        "        ax[n].plot(t,f[:,n],*args,**kwargs)\n",
        "        ax[n].set_title('node='+str(n))\n",
        "    fig.set_figheight(N*h)\n",
        "    fig.tight_layout()\n",
        "    plt.close()\n",
        "    return fig"
      ],
      "id": "589352ff-9c1f-4649-babe-620e14efbcdd"
    },
    {
      "cell_type": "code",
      "execution_count": 6,
      "metadata": {},
      "outputs": [],
      "source": [
        "def plot_add(fig,f,*args,t=None,**kwargs):\n",
        "    T = f.shape[0]\n",
        "    N = f.shape[1] \n",
        "    if t == None: t = range(T)   \n",
        "    ax = fig.get_axes()\n",
        "    for n in range(N):\n",
        "        ax[n].plot(t,f[:,n],*args,**kwargs)\n",
        "    return fig"
      ],
      "id": "c9034a98-d33a-4134-935b-97dc12a3f718"
    },
    {
      "cell_type": "code",
      "execution_count": 7,
      "metadata": {},
      "outputs": [],
      "source": [
        "def make_Psi(T):\n",
        "    W = np.zeros((T,T))\n",
        "    for i in range(T):\n",
        "        for j in range(T):\n",
        "            if i==j :\n",
        "                W[i,j] = 0\n",
        "            elif np.abs(i-j) <= 1 : \n",
        "                W[i,j] = 1\n",
        "    d = np.array(W.sum(axis=1))\n",
        "    D = np.diag(d)\n",
        "    L = np.array(np.diag(1/np.sqrt(d)) @ (D-W) @ np.diag(1/np.sqrt(d)))\n",
        "    lamb, Psi = np.linalg.eigh(L)\n",
        "    return Psi"
      ],
      "id": "ff25aebf-ec04-4071-891d-cc91723ecb43"
    },
    {
      "cell_type": "code",
      "execution_count": 8,
      "metadata": {},
      "outputs": [],
      "source": [
        "ebayesthresh = importr('EbayesThresh').ebayesthresh"
      ],
      "id": "9d2cb937-ded3-4fb0-adc9-169268803586"
    },
    {
      "cell_type": "code",
      "execution_count": 9,
      "metadata": {},
      "outputs": [],
      "source": [
        "def trim(f):\n",
        "    f = np.array(f)\n",
        "    if len(f.shape)==1: f = f.reshape(-1,1)\n",
        "    T,N = f.shape\n",
        "    Psi = make_Psi(T)\n",
        "    fbar = Psi.T @ f # apply dft \n",
        "    fbar_threshed = np.stack([ebayesthresh(FloatVector(fbar[:,i])) for i in range(N)],axis=1)\n",
        "    fhat = Psi @ fbar_threshed # inverse dft \n",
        "    return fhat"
      ],
      "id": "b7003e6f-429d-4785-bba8-be0017c99c32"
    },
    {
      "cell_type": "code",
      "execution_count": 10,
      "metadata": {},
      "outputs": [],
      "source": [
        "def update_from_freq_domain(signal, missing_index):\n",
        "    signal = np.array(signal)\n",
        "    T,N = signal.shape \n",
        "    signal_trimed = trim(signal)\n",
        "    for i in range(N):\n",
        "        signal[missing_index[i],i] = signal_trimed[missing_index[i],i]\n",
        "    return signal"
      ],
      "id": "55966e60-6cb8-4cfb-830b-4f5e5164bb8a"
    },
    {
      "cell_type": "code",
      "execution_count": 11,
      "metadata": {},
      "outputs": [],
      "source": [
        "class DatasetLoader(object):\n",
        "    def __init__(self,data_dict):\n",
        "        self._dataset = data_dict \n",
        "\n",
        "    def _get_edges(self):\n",
        "        self._edges = np.array(self._dataset[\"edges\"]).T\n",
        "\n",
        "    def _get_edge_weights(self):\n",
        "        self._edge_weights = np.ones(self._edges.shape[1])\n",
        "\n",
        "    def _get_targets_and_features(self):\n",
        "        stacked_target = np.array(self._dataset[\"FX\"])\n",
        "        self.features = [\n",
        "            stacked_target[i : i + self.lags, :].T\n",
        "            for i in range(stacked_target.shape[0] - self.lags)\n",
        "        ]\n",
        "        self.targets = [\n",
        "            stacked_target[i + self.lags, :].T\n",
        "            for i in range(stacked_target.shape[0] - self.lags)\n",
        "        ]\n",
        "\n",
        "    def get_dataset(self, lags: int = 4) -> torch_geometric_temporal.signal.StaticGraphTemporalSignal:\n",
        "        \"\"\"Returning the Chickenpox Hungary data iterator.\n",
        "\n",
        "        Args types:\n",
        "            * **lags** *(int)* - The number of time lags.\n",
        "        Return types:\n",
        "            * **dataset** *(torch_geometric_temporal.signal.StaticGraphTemporalSignal)* - The Chickenpox Hungary dataset.\n",
        "        \"\"\"\n",
        "        self.lags = lags\n",
        "        self._get_edges()\n",
        "        self._get_edge_weights()\n",
        "        self._get_targets_and_features()\n",
        "        dataset = torch_geometric_temporal.signal.StaticGraphTemporalSignal(\n",
        "            self._edges, self._edge_weights, self.features, self.targets\n",
        "        )\n",
        "        return dataset"
      ],
      "id": "82ae0795-5f51-41ca-8fb2-b32c484aefb6"
    },
    {
      "cell_type": "code",
      "execution_count": 12,
      "metadata": {},
      "outputs": [],
      "source": [
        "def stgcn(train_dataset,lags=1,filters=32,epoch=50): \n",
        "    model = RecurrentGCN(node_features=lags, filters=filters)\n",
        "    optimizer = torch.optim.Adam(model.parameters(), lr=0.01)\n",
        "    model.train()\n",
        "\n",
        "    for epoch in tqdm(range(epoch)):\n",
        "        for t, snapshot in enumerate(train_dataset):\n",
        "            yt_hat = model(snapshot.x, snapshot.edge_index, snapshot.edge_attr)\n",
        "            cost = torch.mean((yt_hat-snapshot.y)**2)\n",
        "            cost.backward()\n",
        "            optimizer.step()\n",
        "            optimizer.zero_grad()\n",
        "    return model "
      ],
      "id": "521d8c24-48b9-4520-9858-97de4da1eb20"
    },
    {
      "cell_type": "code",
      "execution_count": 13,
      "metadata": {},
      "outputs": [],
      "source": [
        "%load_ext rpy2.ipython"
      ],
      "id": "78895556-a29f-460e-aa58-ecd97b14b2d1"
    },
    {
      "cell_type": "code",
      "execution_count": 14,
      "metadata": {},
      "outputs": [
        {
          "output_type": "stream",
          "name": "stderr",
          "text": [
            "R[write to console]: Loading required package: igraph\n",
            "\n",
            "R[write to console]: \n",
            "Attaching package: ‘igraph’\n",
            "\n",
            "\n",
            "R[write to console]: The following objects are masked from ‘package:stats’:\n",
            "\n",
            "    decompose, spectrum\n",
            "\n",
            "\n",
            "R[write to console]: The following object is masked from ‘package:base’:\n",
            "\n",
            "    union\n",
            "\n",
            "\n",
            "R[write to console]: Loading required package: wordcloud\n",
            "\n",
            "R[write to console]: Loading required package: RColorBrewer\n",
            "\n",
            "R[write to console]: \n",
            "Attaching package: ‘zoo’\n",
            "\n",
            "\n",
            "R[write to console]: The following objects are masked from ‘package:base’:\n",
            "\n",
            "    as.Date, as.Date.numeric\n",
            "\n"
          ]
        }
      ],
      "source": [
        "%%R\n",
        "library(GNAR)\n",
        "library(igraph)\n",
        "library(zoo)"
      ],
      "id": "859de4a4-c2c1-449a-bdb4-91bf1e884c16"
    },
    {
      "cell_type": "code",
      "execution_count": 15,
      "metadata": {},
      "outputs": [],
      "source": [
        "%%R\n",
        "fiveNet_m <- as.matrix(fiveNet)"
      ],
      "id": "2fe7027e-8c70-4678-952d-ab56df1c27e3"
    },
    {
      "cell_type": "code",
      "execution_count": 16,
      "metadata": {},
      "outputs": [],
      "source": [
        "%R -o fiveNet_m"
      ],
      "id": "8ffec228-1e9b-4def-b168-8f724953cac1"
    },
    {
      "cell_type": "code",
      "execution_count": 17,
      "metadata": {},
      "outputs": [],
      "source": [
        "GNAR = importr('GNAR') # import GNAR \n",
        "igraph = importr('igraph') # import igraph "
      ],
      "id": "7290de9c-de96-4b47-807f-7031ba01eacb"
    },
    {
      "cell_type": "markdown",
      "metadata": {},
      "source": [
        "# data 정리\n",
        "\n",
        "`-` 데이터정리"
      ],
      "id": "323ba4cd-cfcb-47bc-9bbd-d6855e81b2d2"
    },
    {
      "cell_type": "code",
      "execution_count": 24,
      "metadata": {},
      "outputs": [],
      "source": [
        "_data = load_data('./data/fivenodes.pkl')"
      ],
      "id": "994e6e38-3109-4134-be67-d4cd864d36d8"
    },
    {
      "cell_type": "code",
      "execution_count": 25,
      "metadata": {},
      "outputs": [],
      "source": [
        "_edges = torch.tensor(_data['edges']).nonzero().tolist()\n",
        "_FX = _data['f'].tolist()\n",
        "_node_ids = {'node1':0, 'node2':1, 'node3':2, 'node4':3, 'node5':4} "
      ],
      "id": "ca7da759-b0c2-4b88-8fc3-5fe1fc1663af"
    },
    {
      "cell_type": "code",
      "execution_count": 26,
      "metadata": {},
      "outputs": [],
      "source": [
        "data_dict = {'edges':_edges, 'node_ids':_node_ids, 'FX':_FX}"
      ],
      "id": "604b7523-f9f4-4b53-8692-b8d15fc98711"
    },
    {
      "cell_type": "code",
      "execution_count": 346,
      "metadata": {},
      "outputs": [],
      "source": [
        "train_dataset.edge_index.T.tolist()"
      ],
      "id": "22984490-3092-4485-a298-e225a42b4199"
    },
    {
      "cell_type": "code",
      "execution_count": null,
      "metadata": {},
      "outputs": [],
      "source": [
        "train_dataset."
      ],
      "id": "971abf15-614a-4d23-ba31-483ec3722cfc"
    },
    {
      "cell_type": "code",
      "execution_count": 336,
      "metadata": {},
      "outputs": [],
      "source": [
        "loader = DatasetLoader(data_dict)\n",
        "dataset = loader.get_dataset(lags=4)\n",
        "train_dataset, test_dataset = torch_geometric_temporal.signal.temporal_signal_split(dataset, train_ratio=0.8)"
      ],
      "id": "907d606a-5e60-4d81-93b6-a9b333c79edc"
    },
    {
      "cell_type": "markdown",
      "metadata": {},
      "source": [
        "`-` STGCN 수행"
      ],
      "id": "faa66bce-604b-4723-b9ac-7e8a2559e057"
    },
    {
      "cell_type": "code",
      "execution_count": 262,
      "metadata": {},
      "outputs": [],
      "source": [
        "class StgcnLearner:\n",
        "    def __init__(self,train_dataset):\n",
        "        self.train_dataset = train_dataset\n",
        "        self.lags = torch.tensor(train_dataset.features).shape[-1]\n",
        "    def learn(self,filters=32,epoch=50):\n",
        "        self.model = RecurrentGCN(node_features=self.lags, filters=filters)\n",
        "        self.optimizer = torch.optim.Adam(self.model.parameters(), lr=0.01)\n",
        "        self.model.train()\n",
        "        for epoch in tqdm(range(epoch)):\n",
        "            for t, snapshot in enumerate(self.train_dataset):\n",
        "                yt_hat = self.model(snapshot.x, snapshot.edge_index, snapshot.edge_attr)\n",
        "                cost = torch.mean((yt_hat-snapshot.y)**2)\n",
        "                cost.backward()\n",
        "                self.optimizer.step()\n",
        "                self.optimizer.zero_grad()\n",
        "    def __call__(self,dataset):\n",
        "        X = torch.tensor(dataset.features).float()\n",
        "        y = torch.tensor(dataset.targets).float()\n",
        "        yhat = torch.stack([self.model(snapshot.x, snapshot.edge_index, snapshot.edge_attr) for snapshot in dataset]).detach().squeeze().float()\n",
        "        return {'X':X, 'y':y, 'yhat':yhat} "
      ],
      "id": "5050e302-27ac-4953-9847-43db05150fcf"
    },
    {
      "cell_type": "code",
      "execution_count": 157,
      "metadata": {},
      "outputs": [],
      "source": [
        "lrnr = StgcnLearner(train_dataset)"
      ],
      "id": "3195c2a0-a870-4afb-a61c-b8e77dcb627c"
    },
    {
      "cell_type": "code",
      "execution_count": 158,
      "metadata": {},
      "outputs": [
        {
          "output_type": "stream",
          "name": "stderr",
          "text": [
            "100%|██████████████████████████████████████████████████████████████████████████████████████████████████████████████████████████████████████████████████████████████████████████████████████████████████████████████████████████████████████████████████████████████████| 1/1 [00:01<00:00,  1.62s/it]"
          ]
        }
      ],
      "source": [
        "lrnr.learn(filters=32,epoch=1)"
      ],
      "id": "3ba2f91c-aee3-4447-90b2-d351d794c8b1"
    },
    {
      "cell_type": "code",
      "execution_count": 160,
      "metadata": {},
      "outputs": [],
      "source": [
        "rslt = lrnr(dataset)"
      ],
      "id": "da5224bc-1ebb-4dae-9e5c-c93d94bdfc27"
    },
    {
      "cell_type": "code",
      "execution_count": 263,
      "metadata": {},
      "outputs": [],
      "source": [
        "class Evaluator:\n",
        "    def __init__(self,learner,train_dataset,test_dataset):\n",
        "        self.learner = learner\n",
        "        self.train_dataset = train_dataset\n",
        "        self.test_dataset = test_dataset\n",
        "        self.lags = lrnr.lags\n",
        "        rslt_tr = self.learner(self.train_dataset) \n",
        "        rslt_test = self.learner(self.test_dataset)\n",
        "        self.X_tr = rslt_tr['X']\n",
        "        self.y_tr = rslt_tr['y']\n",
        "        self.f_tr = torch.concat([self.train_dataset[0].x.T,self.y_tr],axis=0).float()\n",
        "        self.yhat_tr = rslt_tr['yhat']\n",
        "        self.fhat_tr = torch.concat([self.train_dataset[0].x.T,self.yhat_tr],axis=0).float()\n",
        "        self.X_test = rslt_test['X']\n",
        "        self.y_test = rslt_test['y']\n",
        "        self.f_test = self.y_test \n",
        "        self.yhat_test = rslt_test['yhat']\n",
        "        self.fhat_test = self.yhat_test\n",
        "        self.f = torch.concat([self.f_tr,self.f_test],axis=0)\n",
        "        self.fhat = torch.concat([self.fhat_tr,self.fhat_test],axis=0)\n",
        "    def calculate_mse(self):\n",
        "        train_mse_eachnode = ((self.y_tr-self.yhat_tr)**2).mean(axis=0).tolist()\n",
        "        train_mse_total = ((self.y_tr-self.yhat_tr)**2).mean().item()\n",
        "        test_mse_eachnode = ((self.y_test-self.yhat_test)**2).mean(axis=0).tolist()\n",
        "        test_mse_total = ((self.y_test-self.yhat_test)**2).mean().item()\n",
        "        self.mse = {'train': {'each_node': train_mse_eachnode, 'total': train_mse_total},\n",
        "                    'test': {'each_node': test_mse_eachnode, 'total': test_mse_total}}\n",
        "    def _plot(self,*args,t=None,h=2.5,max_nodes=5,**kwargs):\n",
        "        T,N = self.f.shape\n",
        "        if N>max_nodes: N=max_nodes\n",
        "        if t == None: t = range(T)\n",
        "        fig = plt.figure()\n",
        "        ax = fig.subplots(N,1)\n",
        "        for n in range(N):\n",
        "            ax[n].plot(t,self.f[:,n],color='gray',*args,**kwargs)\n",
        "            ax[n].set_title('node='+str(n))\n",
        "        fig.set_figheight(N*h)\n",
        "        fig.tight_layout()\n",
        "        plt.close()\n",
        "        return fig\n",
        "    def plot(self,*args,t=None,h=2.5,**kwargs):\n",
        "        self.calculate_mse()\n",
        "        fig = self._plot(*args,t=None,h=2.5,**kwargs)\n",
        "        ax = fig.get_axes()\n",
        "        for i,a in enumerate(ax):\n",
        "            _mse1= self.mse['train']['each_node'][i]\n",
        "            _mse2= self.mse['test']['each_node'][i]\n",
        "            _title = 'node{0} \\n mse(train) = {1:.2f}, mse(test) = {2:.2f}'.format(i,_mse1,_mse2)\n",
        "            a.set_title(_title)\n",
        "            _t1 = self.lags\n",
        "            _t2 = self.yhat_tr.shape[0]+self.lags\n",
        "            _t3 = len(self.f)\n",
        "            a.plot(range(_t1,_t2),self.yhat_tr[:,i],label='STCGCN (train)',color='C0')\n",
        "            a.plot(range(_t2,_t3),self.yhat_test[:,i],label='STCGCN (test)',color='C1')\n",
        "            a.legend()\n",
        "        _mse1 = self.mse['train']['total']\n",
        "        _mse2 = self.mse['test']['total']\n",
        "        fig.suptitle(\"Scenario1: STGCN \\n missing=0% \\n interpolation=None \\n mse(train) = {0:.2f}, mse(test) = {1:.2f} \\n\".format(_mse1,_mse2))\n",
        "        fig.tight_layout()\n",
        "        return fig"
      ],
      "id": "5343e5eb-a0bf-44f7-9f9f-d896b23f25bb"
    },
    {
      "cell_type": "code",
      "execution_count": 264,
      "metadata": {},
      "outputs": [],
      "source": [
        "evtor = Evaluator(lrnr,train_dataset,test_dataset)"
      ],
      "id": "d4500762-14dc-4e59-b6f1-7796b289ae36"
    },
    {
      "cell_type": "code",
      "execution_count": 265,
      "metadata": {},
      "outputs": [
        {
          "output_type": "display_data",
          "metadata": {},
          "data": {
            "image/png": "[encoded data removed]"
          }
        }
      ],
      "source": [
        "evtor.plot('--.',h=4,max_nodes=3,label='complete data',alpha=0.5)"
      ],
      "id": "f8f9d1e8-a3b1-4150-8e37-6aa4f0bfb4a6"
    },
    {
      "cell_type": "code",
      "execution_count": 350,
      "metadata": {},
      "outputs": [],
      "source": [
        "FX = torch.concat([train_dataset[0].x.T,torch.tensor(train_dataset.targets)],axis=0).tolist()"
      ],
      "id": "d36212a2-ce21-49f4-8f23-ead8bed832f5"
    },
    {
      "cell_type": "code",
      "execution_count": 356,
      "metadata": {},
      "outputs": [],
      "source": [
        "data_dict['node_ids']"
      ],
      "id": "b9758990-6276-4f19-852c-0523f9085198"
    },
    {
      "cell_type": "code",
      "execution_count": 359,
      "metadata": {},
      "outputs": [],
      "source": [
        "data_dict.keys()"
      ],
      "id": "7763d0d0-cd80-483a-95c5-93aebdca74a2"
    },
    {
      "cell_type": "code",
      "execution_count": 369,
      "metadata": {},
      "outputs": [],
      "source": [
        "def miss(train_dataset,missing_rate=0.5):\n",
        "    f = torch.concat([train_dataset[0].x.T,torch.tensor(train_dataset.targets)],axis=0).numpy()\n",
        "    T,N = f.shape\n",
        "    missing_count = int(np.round(missing_rate*T,0))\n",
        "    mindex = [np.sort(np.random.choice(range(T),missing_count,replace=False)).tolist() for i in range(N)]  \n",
        "    for i,m in enumerate(mindex): \n",
        "        f[m,i] = np.nan\n",
        "    FX = f.tolist()\n",
        "    edges = train_dataset.edge_index.T.tolist()\n",
        "    node_ids = {'node'+str(i):i for i in range(N)}\n",
        "    data_dict = {'edges':edges, 'node_ids':node_ids, 'FX':FX} \n",
        "    return f"
      ],
      "id": "09f7c649-b5e9-4c8a-aef2-366a368c5281"
    },
    {
      "cell_type": "code",
      "execution_count": 367,
      "metadata": {},
      "outputs": [],
      "source": [
        "f = miss(train_dataset)"
      ],
      "id": "949fdcf1-e914-40ab-8e28-d82b540d9628"
    },
    {
      "cell_type": "code",
      "execution_count": 368,
      "metadata": {},
      "outputs": [],
      "source": [
        "f.tolist()"
      ],
      "id": "f3d33bd5-dc02-4da6-9f26-ba485566d8da"
    },
    {
      "cell_type": "code",
      "execution_count": 328,
      "metadata": {},
      "outputs": [],
      "source": [
        "f"
      ],
      "id": "a4d40f70-3a87-41d5-a9f1-489d65c024f0"
    },
    {
      "cell_type": "code",
      "execution_count": 327,
      "metadata": {},
      "outputs": [],
      "source": [
        "np.stack([f[train_dataset.mindex[i],i] for i in range(N)],axis=1)"
      ],
      "id": "daa5964f-34ed-4520-88fd-764fe08c85c0"
    },
    {
      "cell_type": "code",
      "execution_count": 40,
      "metadata": {},
      "outputs": [],
      "source": [
        "edges_tensor = torch.tensor(data['edges'])\n",
        "fiveVTS = np.array(data['f'])\n",
        "nonzero_indices = edges_tensor.nonzero()\n",
        "fiveNet_edge = np.array(nonzero_indices).T\n",
        "T = 200\n",
        "N = 5 # number of Nodes\n",
        "E = fiveNet_edge\n",
        "V = np.array([1,2,3,4,5])\n",
        "t = np.arange(0,T)\n",
        "node_features = 1\n",
        "edge_index = torch.tensor(E)\n",
        "edge_attr = torch.tensor(np.array([1,1,1,1,1,1,1,1,1,1]),dtype=torch.float32)"
      ],
      "id": "c57d4c99-65f3-49f6-90ed-f1f619e3007e"
    },
    {
      "cell_type": "code",
      "execution_count": 42,
      "metadata": {},
      "outputs": [],
      "source": [
        "edge_index"
      ],
      "id": "4763dc4a-fdb4-4a58-a2d1-928e0c867718"
    },
    {
      "cell_type": "markdown",
      "metadata": {},
      "source": [
        "`-` train / test"
      ],
      "id": "6dbc01bb-9479-4f45-8254-89be239583ba"
    },
    {
      "cell_type": "code",
      "execution_count": 18,
      "metadata": {},
      "outputs": [],
      "source": [
        "fiveVTS_train = fiveVTS[:int(len(fiveVTS)*0.8)]\n",
        "fiveVTS_test = fiveVTS[int(len(fiveVTS)*0.8):]"
      ],
      "id": "23867b45-d309-4ddf-8a4a-ec00d1a87d1f"
    },
    {
      "cell_type": "markdown",
      "metadata": {},
      "source": [
        "# Random Missing Values"
      ],
      "id": "34394b2f-7786-4e6b-934f-2d7728c03d75"
    },
    {
      "cell_type": "code",
      "execution_count": 19,
      "metadata": {},
      "outputs": [],
      "source": [
        "class Missing:\n",
        "    def __init__(self,df):\n",
        "        self.df = df\n",
        "        self.N = N\n",
        "        self.number = []\n",
        "    def miss(self,percent=0.5):\n",
        "        self.missing = self.df.copy()\n",
        "        self.percent = percent\n",
        "        for i in range(self.N):\n",
        "            #self.seed = np.random.choice(1000,1,replace=False)\n",
        "            #np.random.seed(self.seed)\n",
        "            self.number.append(np.random.choice(int(len(self.df))-1,int(len(self.df)*self.percent),replace=False))\n",
        "            self.missing[self.number[i],i] = float('nan')\n",
        "    def first_mean(self):\n",
        "        self.train_mean = self.missing.copy()\n",
        "        for i in range(self.N):\n",
        "            self.train_mean[self.number[i],i] = np.nanmean(self.missing[:,i])\n",
        "    def second_linear(self):\n",
        "        self.train_linear = pd.DataFrame(self.missing)\n",
        "        self.train_linear.interpolate(method='linear', inplace=True)\n",
        "        self.train_linear = self.train_linear.fillna(0)\n",
        "        self.train_linear = np.array(self.train_linear).reshape(int(len(self.df)),N)"
      ],
      "id": "0165c65b-e149-4682-aee8-335b2587ba9a"
    },
    {
      "cell_type": "code",
      "execution_count": 20,
      "metadata": {},
      "outputs": [],
      "source": [
        "col = ['Dataset','iteration', 'method', 'missingrate', 'missingtype', 'lag', 'number_of_filters', 'interpolation','MSE_train', 'MSE_test']\n",
        "\n",
        "rate = [i/10 for i in range(10)]"
      ],
      "id": "6011469b-2aab-46df-9827-7c44c6ed3162"
    },
    {
      "cell_type": "markdown",
      "metadata": {},
      "source": [
        "# Class code by Method\n",
        "\n",
        "## STGCN"
      ],
      "id": "f369713f-63e2-4088-94e4-ea7106964a92"
    },
    {
      "cell_type": "code",
      "execution_count": 21,
      "metadata": {
        "tags": []
      },
      "outputs": [],
      "source": [
        "class STGCN_Missing:\n",
        "    def __init__(self,Dataset,df, iterable, Method, Missingrate, Missingtype, lag, Number_of_filters, Interpolation):\n",
        "        self.Dataset = Dataset\n",
        "        self.df = df\n",
        "        self.iterable = iterable\n",
        "        self.Method = Method\n",
        "        self.Missingrate = Missingrate\n",
        "        self.Missingtype = Missingtype\n",
        "        self.lag = lag\n",
        "        self.Number_of_filters = Number_of_filters\n",
        "        self.Interpolation = Interpolation\n",
        "    def iter(self):\n",
        "        self.XX = torch.tensor(fiveVTS_test.reshape(int(T*0.2),N,1)[:-1,:,:]).float()\n",
        "        self.yy = torch.tensor(fiveVTS_test.reshape(int(T*0.2),N,1)[1:,:,:]).float()\n",
        "\n",
        "        self.real_y = torch.tensor(fiveVTS_train).reshape(int(T*0.8),N,1).float()[1:,:,:]\n",
        "        for i in range(self.iterable):\n",
        "\n",
        "            _zero = Missing(fiveVTS_train)\n",
        "            _zero.miss(percent = self.Missingrate)\n",
        "            _zero.second_linear()\n",
        "\n",
        "            missing_index = _zero.number\n",
        "            interpolated_signal = _zero.train_linear\n",
        "\n",
        "            X = torch.tensor(interpolated_signal).reshape(int(T*0.8),N,1).float()[:int(T*0.8-1),:,:]\n",
        "            y = torch.tensor(interpolated_signal).reshape(int(T*0.8),N,1).float()[1:,:,:]\n",
        "\n",
        "            net = RecurrentGCN(node_features=self.lag, filters=self.Number_of_filters)\n",
        "            optimizer = torch.optim.Adam(net.parameters(), lr=0.01)\n",
        "            net.train()\n",
        "            for epoch in range(50):\n",
        "                for time, (xt,yt) in enumerate(zip(X,y)):\n",
        "                    yt_hat = net(xt, edge_index, edge_attr)\n",
        "                    cost = torch.mean((yt_hat-yt)**2)\n",
        "                    cost.backward()\n",
        "                    optimizer.step()\n",
        "                    optimizer.zero_grad()\n",
        "\n",
        "            yhat = torch.stack([net(xt, edge_index, edge_attr) for xt in X]).detach().numpy()\n",
        "            yyhat = torch.stack([net(xt, edge_index, edge_attr) for xt in self.XX]).detach().numpy()\n",
        "\n",
        "            train_mse_total_stgcn = (((self.real_y-yhat).squeeze())**2).mean()\n",
        "            test_mse_total_stgcn = (((self.yy-yyhat).squeeze())**2).mean() \n",
        "\n",
        "            df_row = pd.DataFrame(columns=col)\n",
        "            df_row['Dataset'] = self.Dataset, \n",
        "            df_row['iteration'] = i+1, # 1,2,3,...,10 \n",
        "            df_row['method'] = self.Method, # 'stgcn','estgcn','gnar' \n",
        "            df_row['missingrate'] = self.Missingrate, # 0.0, 0.2, 0.4, 0.6, 0.8 \n",
        "            df_row['missingtype'] = self.Missingtype,  # None, 'randomly' and 'block' \n",
        "            df_row['lag'] = self.lag, # 1,2,3,4 ... \n",
        "            df_row['number_of_filters'] = self.Number_of_filters, # 16,24,32, ... \n",
        "            df_row['interpolation'] = self.Interpolation, # None, 'mean', 'linear'\n",
        "            df_row['MSE_train'] = train_mse_total_stgcn.tolist()\n",
        "            df_row['MSE_test'] = test_mse_total_stgcn.tolist()\n",
        "\n",
        "            self.df = pd.concat([self.df,df_row])"
      ],
      "id": "9a6f55f9-b1a5-48fa-8d01-0484b5002088"
    },
    {
      "cell_type": "markdown",
      "metadata": {},
      "source": [
        "## Enhencement of STGCN"
      ],
      "id": "0372e026-8368-4ba8-8a20-8f9a453680c9"
    },
    {
      "cell_type": "code",
      "execution_count": 22,
      "metadata": {
        "tags": []
      },
      "outputs": [],
      "source": [
        "class ESTGCN_Missing:\n",
        "    def __init__(self,Dataset,df, iterable, Method, Missingrate, Missingtype, lag, Number_of_filters, Interpolation):\n",
        "        self.Dataset = Dataset\n",
        "        self.df = df\n",
        "        self.iterable = iterable\n",
        "        self.Method = Method\n",
        "        self.Missingrate = Missingrate\n",
        "        self.Missingtype = Missingtype\n",
        "        self.lag = lag\n",
        "        self.Number_of_filters = Number_of_filters\n",
        "        self.Interpolation = Interpolation\n",
        "    def iter(self):\n",
        "        self.XX = torch.tensor(fiveVTS_test.reshape(int(T*0.2),N,1)[:-1,:,:]).float()\n",
        "        self.yy = torch.tensor(fiveVTS_test.reshape(int(T*0.2),N,1)[1:,:,:]).float()\n",
        "\n",
        "        self.real_y = torch.tensor(fiveVTS_train).reshape(int(T*0.8),N,1).float()[1:,:,:]\n",
        "        for i in range(self.iterable):\n",
        "    \n",
        "            _zero = Missing(fiveVTS_train)\n",
        "            _zero.miss(percent = self.Missingrate)\n",
        "            _zero.second_linear()\n",
        "\n",
        "            missing_index = _zero.number\n",
        "            interpolated_signal = _zero.train_linear\n",
        "\n",
        "            X = torch.tensor(interpolated_signal).reshape(int(T*0.8),N,1).float()[:int(T*0.8-1),:,:]\n",
        "            y = torch.tensor(interpolated_signal).reshape(int(T*0.8),N,1).float()[1:,:,:]\n",
        "\n",
        "\n",
        "            net = RecurrentGCN(node_features=self.lag, filters=self.Number_of_filters)\n",
        "            optimizer = torch.optim.Adam(net.parameters(), lr=0.01)\n",
        "            net.train()\n",
        "            signal = interpolated_signal.copy()\n",
        "            for epoch in range(50):\n",
        "                signal = update_from_freq_domain(signal,missing_index)\n",
        "                X = torch.tensor(signal).reshape(int(T*0.8),N,1).float()[:int(T*0.8-1),:,:]\n",
        "                y = torch.tensor(signal).reshape(int(T*0.8),N,1).float()[1:,:,:]\n",
        "                for time, (xt,yt) in enumerate(zip(X,y)):        \n",
        "                    yt_hat = net(xt, edge_index, edge_attr)\n",
        "                    cost = torch.mean((yt_hat-yt)**2)\n",
        "                    cost.backward()\n",
        "                    optimizer.step()\n",
        "                    optimizer.zero_grad()\n",
        "                signal = torch.concat([X.squeeze(),yt_hat.detach().squeeze().reshape(1,-1)])               \n",
        "\n",
        "            yhat = torch.stack([net(xt, edge_index, edge_attr) for xt in X]).detach().numpy()\n",
        "            yyhat = torch.stack([net(xt, edge_index, edge_attr) for xt in self.XX]).detach().numpy()\n",
        "\n",
        "            train_mse_total_estgcn = (((self.real_y-yhat).squeeze())**2).mean()\n",
        "            test_mse_total_estgcn = (((self.yy-yyhat).squeeze())**2).mean()\n",
        "\n",
        "            df_row = pd.DataFrame(columns=col)\n",
        "            df_row['Dataset'] = self.Dataset,\n",
        "            df_row['iteration'] = i+1, # 1,2,3,...,10 \n",
        "            df_row['method'] = self.Method, # 'stgcn','estgcn','gnar' \n",
        "            df_row['missingrate'] = self.Missingrate, # 0.0, 0.2, 0.4, 0.6, 0.8 \n",
        "            df_row['missingtype'] = self.Missingtype,  # None, 'randomly' and 'block' \n",
        "            df_row['lag'] = self.lag, # 1,2,3,4 ... \n",
        "            df_row['number_of_filters'] = self.Number_of_filters, # 16,24,32, ... \n",
        "            df_row['interpolation'] = self.Interpolation, # None, 'mean', 'linear'\n",
        "            df_row['MSE_train'] = train_mse_total_estgcn.tolist()\n",
        "            df_row['MSE_test'] = test_mse_total_estgcn.tolist()\n",
        "\n",
        "            self.df = pd.concat([self.df,df_row])"
      ],
      "id": "812c0836-b8bf-4d08-a8a0-c0ff8a5cace2"
    },
    {
      "cell_type": "markdown",
      "metadata": {},
      "source": [
        "## GNAR"
      ],
      "id": "a82d8173-4476-4571-bb73-ed304efb49dc"
    },
    {
      "cell_type": "code",
      "execution_count": 23,
      "metadata": {},
      "outputs": [],
      "source": [
        "m = robjects.r.matrix(FloatVector([0,0,0,1,1,0,0,1,1,0,0,1,0,1,0,1,1,1,0,0,1,0,0,0,0]), nrow = 5, ncol = 5)"
      ],
      "id": "62e18d44-f58d-4487-9ce5-05036a6e69ce"
    },
    {
      "cell_type": "code",
      "execution_count": 24,
      "metadata": {
        "tags": []
      },
      "outputs": [],
      "source": [
        "class GNAR_Missing:\n",
        "    def __init__(self,Dataset,df, iterable, Method, Missingrate, Missingtype, lag, Number_of_filters, Interpolation):\n",
        "        self.Dataset = Dataset\n",
        "        self.df = df\n",
        "        self.iterable = iterable\n",
        "        self.Method = Method\n",
        "        self.Missingrate = Missingrate\n",
        "        self.Missingtype = Missingtype\n",
        "        self.lag = lag\n",
        "        self.Number_of_filters = Number_of_filters\n",
        "        self.Interpolation = Interpolation\n",
        "    def iter(self):\n",
        "        self.yy = torch.tensor(fiveVTS_test.reshape(int(T*0.2),N,1)[1:,:,:]).float()\n",
        "        for i in range(self.iterable):\n",
        "\n",
        "            _zero = Missing(fiveVTS_train)\n",
        "            _zero.miss(percent = self.Missingrate)\n",
        "            _zero.second_linear()\n",
        "\n",
        "            missing_index = _zero.number\n",
        "            interpolated_signal = _zero.train_linear\n",
        "\n",
        "            X = torch.tensor(interpolated_signal).reshape(int(T*0.8),N,1).float()[:int(T*0.8-2),:,:]\n",
        "\n",
        "            answer = GNAR.GNARfit(vts=robjects.r.matrix(rpyn.numpy2rpy(np.array(X).squeeze()), nrow = 160, ncol = 5),net = GNAR.matrixtoGNAR(m), alphaOrder = 2, betaOrder = FloatVector([1, 1]))             \n",
        "            predict = GNAR.predict_GNARfit(answer,n_ahead=40)\n",
        "\n",
        "\n",
        "            train_mse_total_gnar = ((pd.DataFrame(GNAR.residuals_GNARfit(answer)).values.reshape(-1,5))**2).mean()\n",
        "            test_mse_total_gnar = ((self.yy.squeeze() - pd.DataFrame(predict).values.reshape(-1,5)[:-1,:])**2).mean()\n",
        "\n",
        "            df_row = pd.DataFrame(columns=col)\n",
        "            df_row['Dataset'] = self.Dataset,\n",
        "            df_row['iteration'] = i+1, # 1,2,3,...,10 \n",
        "            df_row['method'] = self.Method, # 'stgcn','estgcn','gnar' \n",
        "            df_row['missingrate'] = self.Missingrate, # 0.0, 0.2, 0.4, 0.6, 0.8 \n",
        "            df_row['missingtype'] = self.Missingtype,  # None, 'randomly' and 'block' \n",
        "            df_row['lag'] = self.lag, # 1,2,3,4 ... \n",
        "            df_row['number_of_filters'] = self.Number_of_filters, # 16,24,32, ... \n",
        "            df_row['interpolation'] = self.Interpolation, # None, 'mean', 'linear'\n",
        "            df_row['MSE_train'] = train_mse_total_gnar.tolist()\n",
        "            df_row['MSE_test'] = test_mse_total_gnar.tolist()\n",
        "\n",
        "            self.df = pd.concat([self.df,df_row])"
      ],
      "id": "7dc8d7e7-1e34-459f-b2af-267e7e628d2d"
    },
    {
      "cell_type": "markdown",
      "metadata": {},
      "source": [
        "## STGCN"
      ],
      "id": "25acaa42-80d1-43ae-904e-04d7d53c33d4"
    },
    {
      "cell_type": "code",
      "execution_count": 25,
      "metadata": {},
      "outputs": [],
      "source": [
        "Dataset = 'fivenodes'\n",
        "Method = 'stgcn' # 'stgcn','estgcn','gnar' \n",
        "Missingtype = 'randomly'  # None, 'randomly' and 'block' \n",
        "lag = 1 # 1,2,3,4 ... \n",
        "Number_of_filters = 4 # 16,24,32, ... \n",
        "Interpolation = 'Linear' # None, 'mean', 'linear'\n",
        "iterable = 100"
      ],
      "id": "f85c6c44-992c-4538-8de8-ef3024d6eaea"
    },
    {
      "cell_type": "code",
      "execution_count": null,
      "metadata": {},
      "outputs": [],
      "source": [
        "df_stgcn= pd.DataFrame(columns=col)"
      ],
      "id": "c169f001-edd4-498f-bb57-161d3c4c9f98"
    },
    {
      "cell_type": "code",
      "execution_count": null,
      "metadata": {},
      "outputs": [],
      "source": [
        "for Missingrate in rate:\n",
        "    df = pd.DataFrame(columns=col)\n",
        "    stgcn = STGCN_Missing(Dataset,df, iterable,Method, Missingrate, Missingtype, lag, Number_of_filters, Interpolation)\n",
        "    stgcn.iter()\n",
        "    df_add = stgcn.df.copy()\n",
        "    df_stgcn = pd.concat([df_stgcn,df_add],axis=0)"
      ],
      "id": "2e27e2f7-7245-41da-9514-4c71a572dd19"
    },
    {
      "cell_type": "code",
      "execution_count": null,
      "metadata": {},
      "outputs": [],
      "source": [
        "save_data(df_stgcn, './data/GNAR_stgcn_randomly_by_rate.pkl')"
      ],
      "id": "a1919494-381c-40fd-9ef5-23c83d0f8f49"
    },
    {
      "cell_type": "markdown",
      "metadata": {},
      "source": [
        "## Enhencement of STGCN"
      ],
      "id": "70a0dc3c-b590-4f99-8aa0-c0f7afcb2ee0"
    },
    {
      "cell_type": "code",
      "execution_count": null,
      "metadata": {},
      "outputs": [],
      "source": [
        "Dataset = 'fivenodes'\n",
        "Method = 'estgcn' # 'stgcn','estgcn','gnar' \n",
        "Missingtype = 'randomly'  # None, 'randomly' and 'block' \n",
        "lag = 1 # 1,2,3,4 ... \n",
        "Number_of_filters = 4 # 16,24,32, ... \n",
        "Interpolation = 'Linear' # None, 'mean', 'linear'\n",
        "iterable = 100"
      ],
      "id": "161c6c74-604c-4516-bfb8-53e80db193c9"
    },
    {
      "cell_type": "code",
      "execution_count": null,
      "metadata": {},
      "outputs": [],
      "source": [
        "df_estgcn = pd.DataFrame(columns=col)"
      ],
      "id": "642c81f7-9b34-41d4-b480-487edcdac072"
    },
    {
      "cell_type": "code",
      "execution_count": null,
      "metadata": {},
      "outputs": [],
      "source": [
        "for Missingrate in rate:\n",
        "    df = pd.DataFrame(columns=col)\n",
        "    estgcn = ESTGCN_Missing(Dataset,df, iterable,Method, Missingrate, Missingtype, lag, Number_of_filters, Interpolation)\n",
        "    estgcn.iter()\n",
        "    df_add = estgcn.df.copy()\n",
        "    df_estgcn = pd.concat([df_estgcn,df_add],axis=0)"
      ],
      "id": "4eb808a5-f77e-4426-b94f-2010b5cb863b"
    },
    {
      "cell_type": "code",
      "execution_count": null,
      "metadata": {},
      "outputs": [],
      "source": [
        "save_data(df_estgcn, './data/GNAR_estgcn_randomly_by_rate.pkl')"
      ],
      "id": "2951fe0f-5c77-4f5c-b1af-c879115daa41"
    },
    {
      "cell_type": "markdown",
      "metadata": {},
      "source": [
        "## GNAR"
      ],
      "id": "f63fbc37-8766-4d60-bd3b-2c1cedd808e5"
    },
    {
      "cell_type": "code",
      "execution_count": null,
      "metadata": {},
      "outputs": [],
      "source": [
        "Dataset = 'fivenodes'\n",
        "Method = 'gnar' # 'stgcn','estgcn','gnar' \n",
        "Missingtype = 'randomly'  # None, 'randomly' and 'block' \n",
        "lag = 1 # 1,2,3,4 ... \n",
        "Number_of_filters = None # 16,24,32, ... \n",
        "Interpolation = 'Linear' # None, 'mean', 'linear'\n",
        "iterable = 100"
      ],
      "id": "7c9242be-6552-48ef-ae98-108206eecaa5"
    },
    {
      "cell_type": "code",
      "execution_count": null,
      "metadata": {},
      "outputs": [],
      "source": [
        "df_gnar = pd.DataFrame(columns=col)"
      ],
      "id": "45e18e8f-25b3-4e6c-a273-a35b0baec466"
    },
    {
      "cell_type": "code",
      "execution_count": null,
      "metadata": {},
      "outputs": [],
      "source": [
        "for Missingrate in rate:\n",
        "    df = pd.DataFrame(columns=col)\n",
        "    gnar = GNAR_Missing(Dataset,df, iterable,Method, Missingrate, Missingtype, lag, Number_of_filters, Interpolation)\n",
        "    gnar.iter()\n",
        "    df_add = gnar.df.copy()\n",
        "    df_gnar = pd.concat([df_gnar,df_add],axis=0)"
      ],
      "id": "c3a0fddc-b68a-4c8a-bfae-961282b4c1b7"
    },
    {
      "cell_type": "code",
      "execution_count": null,
      "metadata": {},
      "outputs": [],
      "source": [
        "save_data(df_gnar, './data/GANR_gnar_randomly_by_rate.pkl')"
      ],
      "id": "230179b7-7bde-49b4-9d61-3abe795d543d"
    }
  ],
  "nbformat": 4,
  "nbformat_minor": 5,
  "metadata": {
    "kernelspec": {
      "name": "python3",
      "display_name": "Python 3 (ipykernel)",
      "language": "python"
    },
    "language_info": {
      "name": "python",
      "codemirror_mode": {
        "name": "ipython",
        "version": "3"
      },
      "file_extension": ".py",
      "mimetype": "text/x-python",
      "nbconvert_exporter": "python",
      "pygments_lexer": "ipython3",
      "version": "3.8.12"
    },
    "toc-showcode": false
  }
}
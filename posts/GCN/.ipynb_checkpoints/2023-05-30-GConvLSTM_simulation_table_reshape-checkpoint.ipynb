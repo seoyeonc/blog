{
 "cells": [
  {
   "cell_type": "raw",
   "id": "687798dd-c373-49b0-a4c2-b5c9d14dbedc",
   "metadata": {
    "id": "cac470df-29e7-4148-9bbd-d8b9a32fa570",
    "tags": []
   },
   "source": [
    "---\n",
    "title: \"GConvLSTM_Simulation Tables_reshape\"\n",
    "author: \"SEOYEON CHOI\"\n",
    "date: \"2023-05-30\"\n",
    "categories:\n",
    "  - ITSTGCN\n",
    "---"
   ]
  },
  {
   "cell_type": "markdown",
   "id": "2c57a9de-08c3-4218-82e2-234876739bb1",
   "metadata": {
    "tags": []
   },
   "source": [
    "> Simulation Tables"
   ]
  },
  {
   "cell_type": "markdown",
   "id": "ffec7c69-7d8a-460a-b98f-6e31fef545e1",
   "metadata": {},
   "source": [
    "# import"
   ]
  },
  {
   "cell_type": "code",
   "execution_count": null,
   "id": "2b94623d-9fcc-475e-888b-fab04f70cb53",
   "metadata": {},
   "outputs": [],
   "source": [
    "import pandas as pd"
   ]
  },
  {
   "cell_type": "code",
   "execution_count": null,
   "id": "3eb9818e-ae88-4ab1-b477-15622f336a9d",
   "metadata": {},
   "outputs": [],
   "source": [
    "data_fivenodes = pd.read_csv('./simulation_results/Real_simulation_reshape/GConvLSTM_fivedones_Simulation.csv')"
   ]
  },
  {
   "cell_type": "code",
   "execution_count": null,
   "id": "017dcc04-f3c5-44d0-ae40-ec506dbfd630",
   "metadata": {},
   "outputs": [],
   "source": [
    "data_chickenpox = pd.read_csv('./simulation_results/Real_simulation_reshape/GConvLSTM_chikenpox_Simulation.csv')"
   ]
  },
  {
   "cell_type": "code",
   "execution_count": null,
   "id": "0b711bcf-b2e4-4502-a6ad-a1313f7560fc",
   "metadata": {},
   "outputs": [],
   "source": [
    "data_pedal = pd.read_csv('./simulation_results/Real_simulation_reshape/GConvLSTM_pedalme_Simulation.csv')"
   ]
  },
  {
   "cell_type": "code",
   "execution_count": null,
   "id": "13bf364d-2d1f-4286-b0df-1b35b21e7105",
   "metadata": {},
   "outputs": [],
   "source": [
    "data_pedal2 = pd.read_csv('./simulation_results/Real_simulation_reshape/GConvLSTM_pedalme_Simulation_itstgcnsnd.csv')"
   ]
  },
  {
   "cell_type": "code",
   "execution_count": null,
   "id": "bb0a52c3-a3ea-4d2d-9da3-e607195c9066",
   "metadata": {},
   "outputs": [],
   "source": [
    "data__wiki = pd.read_csv('./simulation_results/Real_simulation_reshape/GConvLSTM_wikimath.csv')"
   ]
  },
  {
   "cell_type": "code",
   "execution_count": null,
   "id": "7322674b-592f-428b-8b70-93a3ffd2802d",
   "metadata": {},
   "outputs": [],
   "source": [
    "data_wiki_GSO = pd.read_csv('./simulation_results/Real_simulation_reshape/GConvLSTM_wikimath_GSO_st.csv')"
   ]
  },
  {
   "cell_type": "code",
   "execution_count": null,
   "id": "d5aef84f-e4fc-4735-b966-73ff530ae56b",
   "metadata": {},
   "outputs": [],
   "source": [
    "data_windmillsmall = pd.read_csv('./simulation_results/Real_simulation_reshape/GConvLSTM_windmillsmall.csv')"
   ]
  },
  {
   "cell_type": "code",
   "execution_count": null,
   "id": "59532f6b-12df-4cea-9edb-101aedc988a7",
   "metadata": {},
   "outputs": [],
   "source": [
    "data_monte = pd.read_csv('./simulation_results/Real_simulation_reshape/GConvLSTM_monte.csv')"
   ]
  },
  {
   "cell_type": "code",
   "execution_count": null,
   "id": "6fe62078-eeb6-419c-a91e-cca745e7877b",
   "metadata": {},
   "outputs": [],
   "source": [
    "data = pd.concat([data_fivenodes,data_chickenpox,data_pedal,data__wiki,data_windmillsmall,data_monte]);data"
   ]
  },
  {
   "cell_type": "markdown",
   "id": "938a1646-d52d-48c5-bd19-27cb7593b9f8",
   "metadata": {
    "tags": []
   },
   "source": [
    "# Fivenodes"
   ]
  },
  {
   "cell_type": "markdown",
   "id": "2cd2994e-1510-4cdf-b07a-8d0d50d55b38",
   "metadata": {},
   "source": [
    "## Baseline"
   ]
  },
  {
   "cell_type": "code",
   "execution_count": null,
   "id": "156e2353-5ee1-4cf9-ada3-161447f901fa",
   "metadata": {},
   "outputs": [],
   "source": [
    "pd.merge(data.query(\"dataset=='fivenodes' and mtype!='rand' and mtype!='block'\").groupby(['nof_filters','method','lags'])['mse'].mean().reset_index(),\n",
    "         data.query(\"dataset=='fivenodes' and mtype!='rand' and mtype!='block'\").groupby(['nof_filters','method','lags'])['mse'].std().reset_index(),\n",
    "         on=['method','nof_filters','lags']).rename(columns={'mse_x':'mean','mse_y':'std'}).round(3)"
   ]
  },
  {
   "cell_type": "markdown",
   "id": "753413f0-1b30-4efe-98b6-9149ea65975e",
   "metadata": {},
   "source": [
    "## Random"
   ]
  },
  {
   "cell_type": "code",
   "execution_count": null,
   "id": "8eaefdd1-eabe-4452-97e9-2c79d3e510fa",
   "metadata": {},
   "outputs": [],
   "source": [
    "pd.merge(data.query(\"dataset=='fivenodes' and mtype=='rand'\").groupby(['mrate','nof_filters','method','lags'])['mse'].mean().reset_index(),\n",
    "         data.query(\"dataset=='fivenodes' and mtype=='rand'\").groupby(['mrate','nof_filters','method','lags'])['mse'].std().reset_index(),\n",
    "         on=['method','nof_filters','mrate','lags']).rename(columns={'mse_x':'mean','mse_y':'std'}).round(3).query(\"nof_filters==12\")"
   ]
  },
  {
   "cell_type": "markdown",
   "id": "71261a14-74a1-4050-b063-91a46c649010",
   "metadata": {},
   "source": [
    "## Block"
   ]
  },
  {
   "cell_type": "code",
   "execution_count": null,
   "id": "6f2c31a3-2d9c-487c-a43e-9c49657f2586",
   "metadata": {},
   "outputs": [],
   "source": [
    "pd.merge(data.query(\"dataset=='fivenodes' and mtype=='block'\").groupby(['mrate','nof_filters','method'])['mse'].mean().reset_index(),\n",
    "         data.query(\"dataset=='fivenodes' and mtype=='block'\").groupby(['mrate','nof_filters','method'])['mse'].std().reset_index(),\n",
    "         on=['method','nof_filters','mrate']).rename(columns={'mse_x':'mean','mse_y':'std'}).round(3)"
   ]
  },
  {
   "cell_type": "markdown",
   "id": "4c94ed76-1825-417a-8c8f-0020ce464dcc",
   "metadata": {},
   "source": [
    "# ChickenpoxDatasetLoader(lags=4)"
   ]
  },
  {
   "cell_type": "markdown",
   "id": "bd047f57-044e-48b3-a1be-9be472c7ee83",
   "metadata": {},
   "source": [
    "## Baseline"
   ]
  },
  {
   "cell_type": "code",
   "execution_count": null,
   "id": "bb9e8543-d7f7-4024-b5dd-38309dcbcedf",
   "metadata": {},
   "outputs": [],
   "source": [
    "pd.merge(data.query(\"dataset=='chickenpox' and mtype!='rand' and mtype!='block'\").groupby(['nof_filters','method'])['mse'].mean().reset_index(),\n",
    "         data.query(\"dataset=='chickenpox' and mtype!='rand' and mtype!='block'\").groupby(['nof_filters','method'])['mse'].std().reset_index(),\n",
    "         on=['method','nof_filters']).rename(columns={'mse_x':'mean','mse_y':'std'}).round(3).query(\"nof_filters==16\")"
   ]
  },
  {
   "cell_type": "markdown",
   "id": "9f9ccd59-7b8b-441c-94da-36153f45fbc2",
   "metadata": {},
   "source": [
    "## Random"
   ]
  },
  {
   "cell_type": "code",
   "execution_count": null,
   "id": "c57cc44c-dce2-436d-8d3e-2527ecfc2556",
   "metadata": {},
   "outputs": [],
   "source": [
    "pd.merge(data.query(\"dataset=='chickenpox' and mtype=='rand'\").groupby(['mrate','inter_method','nof_filters','method'])['mse'].mean().reset_index(),\n",
    "         data.query(\"dataset=='chickenpox' and mtype=='rand'\").groupby(['mrate','inter_method','nof_filters','method'])['mse'].std().reset_index(),\n",
    "         on=['method','inter_method','mrate','nof_filters']).rename(columns={'mse_x':'mean','mse_y':'std'}).round(3)"
   ]
  },
  {
   "cell_type": "markdown",
   "id": "1b80894b-356c-4627-92c9-7b8bf3b19a04",
   "metadata": {},
   "source": [
    "## Block"
   ]
  },
  {
   "cell_type": "code",
   "execution_count": null,
   "id": "4f347949-8d0a-4074-aa3c-1c73e94c1c34",
   "metadata": {},
   "outputs": [],
   "source": [
    "pd.merge(data.query(\"dataset=='chickenpox' and mtype=='block'\").groupby(['inter_method','mrate','nof_filters','method'])['mse'].mean().reset_index(),\n",
    "         data.query(\"dataset=='chickenpox' and mtype=='block'\").groupby(['inter_method','mrate','nof_filters','method'])['mse'].std().reset_index(),\n",
    "         on=['method','inter_method','mrate','nof_filters']).rename(columns={'mse_x':'mean','mse_y':'std'})"
   ]
  },
  {
   "cell_type": "markdown",
   "id": "33dfc1e5-ec10-4b12-b561-71bc36edfcbe",
   "metadata": {},
   "source": [
    "# PedalMeDatasetLoader (lags=4)"
   ]
  },
  {
   "cell_type": "markdown",
   "id": "0286bfba-94aa-40d6-b478-42e405564961",
   "metadata": {},
   "source": [
    "## Baseline"
   ]
  },
  {
   "cell_type": "code",
   "execution_count": null,
   "id": "a300e109-1780-49c1-a4e7-c2e97f89f62d",
   "metadata": {},
   "outputs": [],
   "source": [
    "pd.merge(data.query(\"dataset=='pedalme' and mtype!='rand' and mtype!='block'\").groupby(['lags','nof_filters','method'])['mse'].mean().reset_index(),\n",
    "         data.query(\"dataset=='pedalme' and mtype!='rand' and mtype!='block'\").groupby(['lags','nof_filters','method'])['mse'].std().reset_index(),\n",
    "         on=['method','lags','nof_filters']).rename(columns={'mse_x':'mean','mse_y':'std'}).round(3).query(\"lags==4\")"
   ]
  },
  {
   "cell_type": "markdown",
   "id": "c15ae2f3-11d9-4dad-9c52-0a73612f0237",
   "metadata": {},
   "source": [
    "## Random"
   ]
  },
  {
   "cell_type": "code",
   "execution_count": null,
   "id": "4d2b77ef-5564-4992-8169-b5ed790d199e",
   "metadata": {},
   "outputs": [],
   "source": [
    "pd.merge(data.query(\"dataset=='pedalme' and mtype=='rand'\").groupby(['mrate','lags','inter_method','method'])['mse'].mean().reset_index(),\n",
    "         data.query(\"dataset=='pedalme' and mtype=='rand'\").groupby(['mrate','lags','inter_method','method'])['mse'].std().reset_index(),\n",
    "         on=['method','mrate','lags','inter_method']).rename(columns={'mse_x':'mean','mse_y':'std'}).round(3)"
   ]
  },
  {
   "cell_type": "markdown",
   "id": "b1727f15-8934-4ec0-a5df-fb2ecaffee60",
   "metadata": {},
   "source": [
    "## Block"
   ]
  },
  {
   "cell_type": "code",
   "execution_count": null,
   "id": "577831cf-8f43-4096-b889-ed611aff3fcf",
   "metadata": {},
   "outputs": [],
   "source": [
    "pd.merge(data.query(\"dataset=='pedalme' and mtype=='block'\").groupby(['mrate','lags','inter_method','method'])['mse'].mean().reset_index(),\n",
    "         data.query(\"dataset=='pedalme' and mtype=='block'\").groupby(['mrate','lags','inter_method','method'])['mse'].std().reset_index(),\n",
    "         on=['method','mrate','lags','inter_method']).rename(columns={'mse_x':'mean','mse_y':'std'}).round(3).query(\"lags==4\")"
   ]
  },
  {
   "cell_type": "markdown",
   "id": "ca2703e3-4ca5-43fa-ace5-fd0986e0e90b",
   "metadata": {},
   "source": [
    "## W_st"
   ]
  },
  {
   "cell_type": "code",
   "execution_count": null,
   "id": "342d5e6e-1e72-4ad2-8e70-04e095ce5368",
   "metadata": {},
   "outputs": [],
   "source": [
    "pd.merge(data_pedal2.query(\"mtype=='rand'\").groupby(['mrate','lags','inter_method','method'])['mse'].mean().reset_index(),\n",
    "         data_pedal2.query(\"mtype=='rand'\").groupby(['mrate','lags','inter_method','method'])['mse'].std().reset_index(),\n",
    "         on=['method','mrate','lags','inter_method']).rename(columns={'mse_x':'mean','mse_y':'std'}).round(3).query(\"lags==4\")"
   ]
  },
  {
   "cell_type": "code",
   "execution_count": null,
   "id": "c0c626dd-3d91-4622-93ad-9497378fae27",
   "metadata": {},
   "outputs": [],
   "source": [
    "pd.merge(data_pedal2.query(\"mtype=='block'\").groupby(['mrate','lags','inter_method','method'])['mse'].mean().reset_index(),\n",
    "         data_pedal2.query(\"mtype=='block'\").groupby(['mrate','lags','inter_method','method'])['mse'].std().reset_index(),\n",
    "         on=['method','mrate','lags','inter_method']).rename(columns={'mse_x':'mean','mse_y':'std'}).round(3).query(\"lags==4\")"
   ]
  },
  {
   "cell_type": "markdown",
   "id": "6d80756b-d0bd-4663-a847-20056d29b3cd",
   "metadata": {},
   "source": [
    "# WikiMathsDatasetLoader (lags=8)"
   ]
  },
  {
   "cell_type": "markdown",
   "id": "9455377c-c4b0-4ffc-824b-883234bd90ef",
   "metadata": {
    "tags": []
   },
   "source": [
    "## Baseline"
   ]
  },
  {
   "cell_type": "code",
   "execution_count": null,
   "id": "f6c27c05-9c04-4430-8825-5e6036641655",
   "metadata": {},
   "outputs": [],
   "source": [
    "pd.merge(data.query(\"dataset=='wikimath' and mrate==0\").groupby(['lags','nof_filters','method'])['mse'].mean().reset_index(),\n",
    "         data.query(\"dataset=='wikimath' and mrate==0\").groupby(['lags','nof_filters','method'])['mse'].std().reset_index(),\n",
    "         on=['lags','nof_filters','method']).rename(columns={'mse_x':'mean','mse_y':'std'}).round(3)"
   ]
  },
  {
   "cell_type": "markdown",
   "id": "e78caefd-e35a-435c-ae8b-43338b3507e9",
   "metadata": {},
   "source": [
    "## Random"
   ]
  },
  {
   "cell_type": "code",
   "execution_count": null,
   "id": "93355d49-98a5-4317-a23b-cab8ce09b74b",
   "metadata": {},
   "outputs": [],
   "source": [
    "pd.merge(data.query(\"dataset=='wikimath' and mtype=='rand'\").groupby(['mrate','lags','method'])['mse'].mean().reset_index(),\n",
    "         data.query(\"dataset=='wikimath' and mtype=='rand'\").groupby(['mrate','lags','method'])['mse'].std().reset_index(),\n",
    "         on=['method','mrate','lags']).rename(columns={'mse_x':'mean','mse_y':'std'}).round(3)"
   ]
  },
  {
   "cell_type": "markdown",
   "id": "fd253819-25b6-4bc5-8857-98da4eb2b80e",
   "metadata": {},
   "source": [
    "## Block"
   ]
  },
  {
   "cell_type": "code",
   "execution_count": null,
   "id": "3a9cdb61-9ba7-454c-b31b-6c9066b83dc8",
   "metadata": {},
   "outputs": [],
   "source": [
    "pd.merge(data.query(\"dataset=='wikimath' and mtype=='block'\").groupby(['mrate','lags','method'])['mse'].mean().reset_index(),\n",
    "         data.query(\"dataset=='wikimath' and mtype=='block'\").groupby(['mrate','lags','method'])['mse'].std().reset_index(),\n",
    "         on=['method','mrate','lags']).rename(columns={'mse_x':'mean','mse_y':'std'})"
   ]
  },
  {
   "cell_type": "markdown",
   "id": "14b6aff3-c706-49a3-bd8d-6edf52a0f725",
   "metadata": {},
   "source": [
    "## missing values on the same nodes"
   ]
  },
  {
   "cell_type": "code",
   "execution_count": null,
   "id": "183e30ca-717e-4b81-a3bd-af5bb6310fbf",
   "metadata": {},
   "outputs": [],
   "source": [
    "pd.merge(data_wiki_GSO.groupby(['mrate','lags','method'])['mse'].mean().reset_index(),\n",
    "        data_wiki_GSO.groupby(['mrate','lags','method'])['mse'].std().reset_index(),\n",
    "         on=['method','mrate','lags']).rename(columns={'mse_x':'mean','mse_y':'std'}).round(3)"
   ]
  },
  {
   "cell_type": "markdown",
   "id": "90b3f7a5-c7fb-4c23-a230-5fa9fc7ac726",
   "metadata": {
    "tags": []
   },
   "source": [
    "# WindmillOutputSmallDatasetLoader (lags=8)"
   ]
  },
  {
   "cell_type": "markdown",
   "id": "5a2e36b4-0323-4c11-a286-1f3096c8e409",
   "metadata": {},
   "source": [
    "## Baseline"
   ]
  },
  {
   "cell_type": "code",
   "execution_count": null,
   "id": "49b9fab5-a442-4d99-808f-8f9bfa70e094",
   "metadata": {},
   "outputs": [],
   "source": [
    "pd.merge(data.query(\"dataset=='windmillsmall' and mrate==0\").groupby(['lags','method'])['mse'].mean().reset_index(),\n",
    "         data.query(\"dataset=='windmillsmall' and mrate==0\").groupby(['lags','method'])['mse'].std().reset_index(),\n",
    "         on=['method','lags']).rename(columns={'mse_x':'mean','mse_y':'std'}).round(3)"
   ]
  },
  {
   "cell_type": "markdown",
   "id": "a983ca2b-174b-450a-8831-03294d60f51d",
   "metadata": {},
   "source": [
    "## Random"
   ]
  },
  {
   "cell_type": "code",
   "execution_count": null,
   "id": "8902439c-dd57-4b4a-9ee7-a4a6f834b748",
   "metadata": {},
   "outputs": [],
   "source": [
    "pd.merge(data.query(\"dataset=='windmillsmall' and mtype=='rand'\").groupby(['mrate','lags','method'])['mse'].mean().reset_index(),\n",
    "         data.query(\"dataset=='windmillsmall' and mtype=='rand'\").groupby(['mrate','lags','method'])['mse'].std().reset_index(),\n",
    "         on=['method','mrate','lags']).rename(columns={'mse_x':'mean','mse_y':'std'}).round(3)"
   ]
  },
  {
   "cell_type": "markdown",
   "id": "44f6a1e6-c2f3-4d8c-b071-ec58633f2ccd",
   "metadata": {},
   "source": [
    "## Block"
   ]
  },
  {
   "cell_type": "code",
   "execution_count": null,
   "id": "e6a097b4-c47c-48ff-92aa-fefa3472dba2",
   "metadata": {},
   "outputs": [],
   "source": [
    "pd.merge(data.query(\"dataset=='windmillsmall' and mtype=='block'\").groupby(['mrate','lags','method'])['mse'].mean().reset_index(),\n",
    "         data.query(\"dataset=='windmillsmall' and mtype=='block'\").groupby(['mrate','lags','method'])['mse'].std().reset_index(),\n",
    "         on=['method','mrate','lags']).rename(columns={'mse_x':'mean','mse_y':'std'}).round(3)"
   ]
  },
  {
   "cell_type": "markdown",
   "id": "8a4660bf-74f6-449d-b87f-2089ad0d118a",
   "metadata": {},
   "source": [
    "# Montevideobus (lags=4)"
   ]
  },
  {
   "cell_type": "markdown",
   "id": "2cdb4bd3-1980-47f0-afb4-4d82a3a86e70",
   "metadata": {
    "tags": []
   },
   "source": [
    "## Baseline"
   ]
  },
  {
   "cell_type": "code",
   "execution_count": null,
   "id": "80ca776b-e0ac-46cf-877c-50db022936cf",
   "metadata": {},
   "outputs": [],
   "source": [
    "pd.merge(data.query(\"dataset=='monte' and mrate==0\").groupby(['lags','method'])['mse'].mean().reset_index(),\n",
    "         data.query(\"dataset=='monte' and mrate==0\").groupby(['lags','method'])['mse'].std().reset_index(),\n",
    "         on=['method','lags']).rename(columns={'mse_x':'mean','mse_y':'std'}).round(3)"
   ]
  },
  {
   "cell_type": "markdown",
   "id": "afcdfe1a-afd7-46eb-af34-2e3bcc148a17",
   "metadata": {},
   "source": [
    "## Random"
   ]
  },
  {
   "cell_type": "code",
   "execution_count": null,
   "id": "0d19690b-1489-4e96-9a01-d5a8f755fb28",
   "metadata": {},
   "outputs": [],
   "source": [
    "pd.merge(data.query(\"dataset=='monte' and mtype=='rand'\").groupby(['mrate','lags','inter_method','method'])['mse'].mean().reset_index(),\n",
    "         data.query(\"dataset=='monte' and mtype=='rand'\").groupby(['mrate','lags','inter_method','method'])['mse'].std().reset_index(),\n",
    "         on=['mrate','inter_method','method','mrate','lags']).rename(columns={'mse_x':'mean','mse_y':'std'})"
   ]
  },
  {
   "cell_type": "markdown",
   "id": "9a74d78d-a333-4c99-ad70-5985c07feae1",
   "metadata": {},
   "source": [
    "## Block"
   ]
  },
  {
   "cell_type": "code",
   "execution_count": null,
   "id": "76aea718-eb75-4a87-a72f-d3e1e60c3cbe",
   "metadata": {},
   "outputs": [],
   "source": [
    "pd.merge(data.query(\"dataset=='monte' and mtype=='block'\").groupby(['mrate','lags','inter_method','method'])['mse'].mean().reset_index(),\n",
    "         data.query(\"dataset=='monte' and mtype=='block'\").groupby(['mrate','lags','inter_method','method'])['mse'].std().reset_index(),\n",
    "         on=['method','mrate','inter_method','lags']).rename(columns={'mse_x':'mean','mse_y':'std'})"
   ]
  },
  {
   "cell_type": "code",
   "execution_count": null,
   "id": "67651767-b0a0-4a5d-b142-1aede78f8de5",
   "metadata": {},
   "outputs": [],
   "source": []
  },
  {
   "cell_type": "code",
   "execution_count": null,
   "id": "3f3f3cf2-61b4-45d1-97ef-0bda3284cb07",
   "metadata": {},
   "outputs": [],
   "source": []
  }
 ],
 "metadata": {
  "kernelspec": {
   "display_name": "Python 3",
   "language": "python",
   "name": "python3"
  },
  "language_info": {
   "codemirror_mode": {
    "name": "ipython",
    "version": 3
   },
   "file_extension": ".py",
   "mimetype": "text/x-python",
   "name": "python",
   "nbconvert_exporter": "python",
   "pygments_lexer": "ipython3",
   "version": "3.8.0"
  },
  "toc-autonumbering": false,
  "toc-showcode": false
 },
 "nbformat": 4,
 "nbformat_minor": 5
}
